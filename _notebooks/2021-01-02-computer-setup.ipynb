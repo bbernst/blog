{
 "cells": [
  {
   "cell_type": "markdown",
   "metadata": {},
   "source": [
    "# \"New computer setup\"\n",
    "\n",
    "- author: bbernst\n",
    "- toc: true\n",
    "- branch: master\n",
    "- badges: true\n",
    "- comments: true\n",
    "- categories: [setup]\n",
    "- image: images/computer-setup/laptop.png\n",
    "- hide: true\n",
    "- search_exclude: true"
   ]
  },
  {
   "cell_type": "markdown",
   "metadata": {},
   "source": [
    "# Goal"
   ]
  },
  {
   "cell_type": "markdown",
   "metadata": {},
   "source": [
    "This post is mostly designed to help my future self remember what I like about my developer setup for a new (osx) laptop. Every time I need to do this, at work or on a personal computer, I find that the software or my preferences have changed enough to make the previous list not as automatic as it could be and it forces me to take the time to re-research everything I need. Maybe this is a good idea to be doing once in a while, but why not have a nice set of defaults and edit from there if needed. Theoretically, this could be one script that I pull and run, but for now it'll be a list of links, scripts, and commentary."
   ]
  },
  {
   "cell_type": "markdown",
   "metadata": {},
   "source": [
    "# Applications"
   ]
  },
  {
   "cell_type": "markdown",
   "metadata": {},
   "source": [
    "In the click-and-drag into the Applications folder style of installing, there are a few apps that help me with basic navigation and usage.\n",
    "\n",
    "1. [SizeUp](https://www.irradiatedsoftware.com/sizeup/)\n",
    "> I've always used some form of window manager and sizeup works well -- no need to learn new keyboard shortcuts\n",
    "1. [KeepingYouAwake](https://keepingyouawake.app/)\n",
    "> Another simple app to prevent sleep via a toggle in the menu\n",
    "1. [VSCode](https://code.visualstudio.com/)\n",
    "> For a while, I was on sublime text, then atom, and now to vscode. The extensions make a big difference for me and are also the most variable part of this so I'd guess this will change going forward but for now the follow up steps for my \"full\" vscode install are:\n",
    ">    1. Install code in PATH via installer\n",
    ">    1. Add atom shortcuts\n",
    ">    1. Some useful extensions (for python)\n",
    ">        1. GitLens\n",
    ">        1. Python\n",
    ">        1. Pyright\n",
    ">        1. Rainbow CSV\n",
    ">        1. indent-rainbow\n",
    ">        1. Python Indent\n",
    ">\n",
    "> There's one more step in vscode to choose the python interpreter so remember to set this after getting some python envs setup below.\n",
    "1. [iTerm2](https://iterm2.com/)\n",
    "> Most comfortable with iterm over terminal"
   ]
  },
  {
   "cell_type": "markdown",
   "metadata": {},
   "source": [
    "# Command line"
   ]
  },
  {
   "cell_type": "markdown",
   "metadata": {},
   "source": [
    "This section looks into the rest of the developer setup and is a bit denser.\n",
    "\n",
    "1. [brew](https://brew.sh/)\n",
    "> A must have for osx\n",
    "1. [ohmyzsh](https://ohmyz.sh/#install)\n",
    "> Always used osx default bash, but found this after the switch to zsh -- it's honestly much better and easier to use.\n",
    "1. [powerlevel10k](https://github.com/romkatv/powerlevel10k)\n",
    "> Powerlevel is a really good theme and I'll likely keep using whatever the newest version is. For the easist install, follow the install instructions for ohmyzsh then install the font via iterm. Also, we're at the point where we do need to change some settings manually:\n",
    ">    1. Set `ZSH_THEME=\"powerlevel10k/powerlevel10k\"` in `~/.zshrc`\n",
    ">    1. Run `p10k configure`\n",
    "1. Add aliases to `~/.zshrc`\n",
    "> While we're in `~/.zshrc` we can add a few aliases that are useful to have.\n",
    ">    1. `alias gpu='git push -u origin HEAD'` -- so you don't need to set remotes on every new branch\n",
    ">    1. `alias gb='git --no-pager branch'` -- to make branches easier to copy\n",
    ">    1. `alias jupnb='jupyter notebook'`\n",
    "1. [zsh-syntax-highlighting](https://github.com/zsh-users/zsh-syntax-highlighting/blob/master/INSTALL.md#oh-my-zsh) \n",
    "> Zsh syntax highlighting is useful to have and is best installed with the ohmyzsh way instead of with brew. Also remember to put this as the last plugin in `~/.zshrc` which the repo will also mention to do.\n",
    "1. [Tmux](https://github.com/tmux/tmux/wiki)\n",
    "> Tmux as a command line window manager helps keep the number of tabs down and I install using `brew install tmux`. To get the most out of this, it's best to also install some tmux packages so that it can reboot itself without losing sessions when iterm is closed.\n",
    ">    1. Install [tpm](https://github.com/tmux-plugins/tpm) to get .tmux.conf \n",
    ">    1. [tmux resurrect](https://github.com/tmux-plugins/tmux-resurrect)\n",
    ">    1. [tmux continuum](https://github.com/tmux-plugins/tmux-continuum)\n",
    ">    1. Add to .tmux.conf (in the middle, following the tpm examples)\n",
    ">        1. `set -g default-terminal \"screen-256color\"` -- fixes a bug I had with tmux and ohmyzsh settings\n",
    ">        1. `set -g @plugin 'tmux-plugins/tmux-resurrect'`\n",
    ">        1. `set -g @plugin 'tmux-plugins/tmux-continuum'`\n",
    ">        1. `set -g @continuum-restore 'on'`\n",
    "1. [New github ssh](https://docs.github.com/en/free-pro-team@latest/github/authenticating-to-github/generating-a-new-ssh-key-and-adding-it-to-the-ssh-agent)\n",
    "> An obvious one, but set up a new ssh to avoid signing in over and over"
   ]
  },
  {
   "cell_type": "markdown",
   "metadata": {},
   "source": [
    "## Conda"
   ]
  },
  {
   "cell_type": "markdown",
   "metadata": {},
   "source": [
    "1. [Conda](https://docs.conda.io/en/latest/)\n",
    "> I consider conda my default and quick python environment tool, it just works. There are a few gotchas so I use a simple script, `install_miniconda.sh`, to make it easier to remember. First, make it executable with `chmod +x install_miniconda.sh` then run with `./install_miniconda.sh`.\n",
    "```\n",
    "curl -o ${HOME}/miniconda.sh https://repo.anaconda.com/miniconda/Miniconda3-latest-MacOSX-x86_64.sh\n",
    "shasum -a 256 ${HOME}/miniconda.sh\n",
    "CONDA_PATH=\"${HOME}/miniconda3\"\n",
    "bash ${HOME}/miniconda.sh -b -p ${CONDA_PATH}\n",
    "rm ${HOME}/miniconda.sh\n",
    "eval \"$(${CONDA_PATH}/bin/conda shell.zsh hook)\"\n",
    "conda init zsh\n",
    "conda config --set auto_activate_base false\n",
    "```"
   ]
  },
  {
   "cell_type": "markdown",
   "metadata": {},
   "source": [
    "## Nix"
   ]
  },
  {
   "cell_type": "markdown",
   "metadata": {},
   "source": [
    "1. [Nix](https://nixos.org/download.html)\n",
    "> Nix is a really powerful environment management tool. It's not really fair to have this presented in comparison to conda since it does so much more, but for my purposes they end up being pretty similar. Nix creates environments \"all the way down\" installing everything from scratch which means you can guarantee envs that work today will work tomorrow. Or put another way, envs that work on your computer will work on your colleague's computer. This is a really strong claim and not even docker can guarantee that nothing under the hood will change between builds off the same dockerfile. However, it's not the most user friendly or well documented and building nix envs takes a while. If, for whatever reason, something isn't working with nix then it'll likely be a pain to figure out and drag you into the parts of your computer you hoped to ignore. Also, if you want to deploy with nix then you have to deal with rebuilding the envs everywhere, which again, takes a while. There are ways to address all of this, but you have to be ready to dig in -- it really comes down to a trade off between ease and stability. Case and point, for now, installing nix on osx is a bit of a mess but you can follow the steps in either of the first two links then run the final command:\n",
    ">    1. https://nixos.org/manual/nix/stable/#sect-macos-installation -- the official documentation\n",
    ">    1. https://dubinets.io/installing-nix-on-macos-catalina/ -- an easier guide\n",
    ">    1. `sh <(curl -L https://nixos.org/nix/install) --darwin-use-unencrypted-nix-store-volume` -- the install command"
   ]
  },
  {
   "cell_type": "markdown",
   "metadata": {},
   "source": [
    "# Python environments"
   ]
  },
  {
   "cell_type": "markdown",
   "metadata": {},
   "source": [
    "There are a lot of opinions and ways to do this, but I'll cover just two -- the conda way and the nix way."
   ]
  },
  {
   "cell_type": "markdown",
   "metadata": {},
   "source": [
    "## Conda"
   ]
  },
  {
   "cell_type": "markdown",
   "metadata": {},
   "source": [
    "For conda, I manage `environment.yml` files for each env. The nice parts about using an env yml file is you can keep the definition of python together with the choice/versions of your packages. Without going too much into the packages, which will change depending on the project anyway, the main sections are as follows.\n",
    "1. environment.yml\n",
    "```\n",
    "name: py38\n",
    "channels:\n",
    "  - defaults\n",
    "  - conda-forge\n",
    "  - ...\n",
    "dependencies:\n",
    "  - python=3.8 # python version\n",
    "  - pip\n",
    "  - conda-build\n",
    "  - ...\n",
    "  - pip:\n",
    "    - autopep8\n",
    "    - flake8\n",
    "    - mypy\n",
    "    - pytest\n",
    "    - ...\n",
    "```\n",
    "1. Then make the env\n",
    "```\n",
    "source ${HOME}/.zshrc\n",
    "conda env create -f environment.yml\n",
    "# pip list --format=freeze > requirements.txt\n",
    "# ^^ creates a requirements.txt (always a good idea)\n",
    "# conda env export --no-builds | grep -v \"^prefix: \" > environment_versioned.yml\n",
    "# ^^ creates a versioned file (always a good idea)\n",
    "```"
   ]
  },
  {
   "cell_type": "markdown",
   "metadata": {},
   "source": [
    "## Nix"
   ]
  },
  {
   "cell_type": "markdown",
   "metadata": {},
   "source": [
    "With nix, you can also create a `default.nix` file which handles the entire python environment install (python and specific env together)."
   ]
  },
  {
   "cell_type": "code",
   "execution_count": null,
   "metadata": {},
   "outputs": [],
   "source": []
  }
 ],
 "metadata": {
  "kernelspec": {
   "display_name": "Python [conda env:py38] *",
   "language": "python",
   "name": "conda-env-py38-py"
  },
  "language_info": {
   "codemirror_mode": {
    "name": "ipython",
    "version": 3
   },
   "file_extension": ".py",
   "mimetype": "text/x-python",
   "name": "python",
   "nbconvert_exporter": "python",
   "pygments_lexer": "ipython3",
   "version": "3.8.5"
  }
 },
 "nbformat": 4,
 "nbformat_minor": 4
}
