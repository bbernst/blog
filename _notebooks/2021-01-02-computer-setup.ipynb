{
 "cells": [
  {
   "cell_type": "markdown",
   "metadata": {},
   "source": [
    "# \"New computer setup\"\n",
    "\n",
    "- author: bbernst\n",
    "- toc: true\n",
    "- branch: master\n",
    "- badges: true\n",
    "- comments: true\n",
    "- categories: [setup]\n",
    "- image: images/computer-setup/laptop.png\n",
    "- hide: false\n",
    "- search_exclude: true"
   ]
  },
  {
   "cell_type": "markdown",
   "metadata": {},
   "source": [
    "# Goal"
   ]
  },
  {
   "cell_type": "markdown",
   "metadata": {},
   "source": [
    "This post is mostly designed to help my future self remember what I like about my developer setup for a new (osx) laptop. Every time I need to do this, at work or on a personal computer, I find that the software or my preferences have changed enough to make the previous list not as automatic as it could be and it forces me to take the time to re-research everything I need. Maybe this is a good idea to be doing once in a while, but why not have a nice set of defaults and edit from there if needed. Theoretically, this could be one script that I pull and run, but for now it'll be a list of links, scripts, and commentary."
   ]
  },
  {
   "cell_type": "markdown",
   "metadata": {},
   "source": [
    "# Applications"
   ]
  },
  {
   "cell_type": "markdown",
   "metadata": {},
   "source": [
    "In the click-and-drag into the Applications folder style of installing, there are a few apps that help me with basic navigation and usage.\n",
    "\n",
    "1. [SizeUp](https://www.irradiatedsoftware.com/sizeup/)\n",
    "> I've always used some form of window manager and sizeup works well -- no need to learn new keyboard shortcuts\n",
    "\n",
    "1. [KeepingYouAwake](https://keepingyouawake.app/)\n",
    "> Another simple app to prevent sleep via a toggle in the menu\n",
    "\n",
    "1. [VSCode](https://code.visualstudio.com/)\n",
    "> For a while, I was on sublime text, then atom, and now to vscode. The extensions make a big difference for me and are also the most variable part of this so I'd guess this will change going forward but for now the follow up steps for my \"full\" vscode install are:\n",
    ">    1. Install code in PATH via installer\n",
    ">    1. Add atom shortcuts\n",
    ">    1. Some useful extensions (for python)\n",
    ">        1. GitLens\n",
    ">        1. Python\n",
    ">        1. Pyright\n",
    ">        1. Rainbow CSV\n",
    ">        1. indent-rainbow\n",
    ">        1. Python Indent\n",
    ">\n",
    "> There's one more step in vscode to choose the python interpreter so remember to set this after getting some python envs setup below.\n",
    "\n",
    "1. [iTerm2](https://iterm2.com/)\n",
    "> Most comfortable with iterm over terminal"
   ]
  },
  {
   "cell_type": "markdown",
   "metadata": {},
   "source": [
    "# Command line"
   ]
  },
  {
   "cell_type": "markdown",
   "metadata": {},
   "source": [
    "This section looks into the rest of the developer setup and is a bit denser.\n",
    "\n",
    "1. [brew](https://brew.sh/)\n",
    "> A must have for osx\n",
    "\n",
    "1. [ohmyzsh](https://ohmyz.sh/#install)\n",
    "> Always used osx default bash, but found this after the switch to zsh -- it's honestly much better and easier to use.\n",
    "\n",
    "1. [powerlevel10k](https://github.com/romkatv/powerlevel10k)\n",
    "> Powerlevel is a really good theme and I'll likely keep using whatever the newest version is. For the easist install, follow the install instructions for ohmyzsh then install the font via iterm. Also, we're at the point where we do need to change some settings manually:\n",
    ">    1. Set `ZSH_THEME=\"powerlevel10k/powerlevel10k\"` in `~/.zshrc`\n",
    ">    1. Run `p10k configure`\n",
    "\n",
    "1. Add aliases to `~/.zshrc`\n",
    "> While we're in `~/.zshrc` we can add a few aliases that are useful to have.\n",
    ">    1. `alias gpu='git push -u origin HEAD'` -- so you don't need to set remotes on every new branch\n",
    ">    1. `alias gb='git --no-pager branch'` -- to make branches easier to copy\n",
    ">    1. `alias jupnb='jupyter notebook'`\n",
    "\n",
    "1. [zsh-syntax-highlighting](https://github.com/zsh-users/zsh-syntax-highlighting/blob/master/INSTALL.md#oh-my-zsh) \n",
    "> Zsh syntax highlighting is useful to have and is best installed with the ohmyzsh way instead of with brew. Also remember to put this as the last plugin in `~/.zshrc` which the repo will also mention to do.\n",
    "\n",
    "1. [tmux](https://github.com/tmux/tmux/wiki)\n",
    "> Tmux as a command line window manager helps keep the number of tabs down and I install using `brew install tmux`. To get the most out of this, it's best to also install some tmux packages so that it can reboot itself without losing sessions when iterm is closed.\n",
    ">    1. Install [tpm](https://github.com/tmux-plugins/tpm) to get .tmux.conf \n",
    ">    1. [tmux resurrect](https://github.com/tmux-plugins/tmux-resurrect)\n",
    ">    1. [tmux continuum](https://github.com/tmux-plugins/tmux-continuum)\n",
    ">    1. Add to .tmux.conf (in the middle, following the tpm examples)\n",
    ">        1. `set -g default-terminal \"screen-256color\"` -- fixes a bug I had with tmux and ohmyzsh settings\n",
    ">        1. `set -g @plugin 'tmux-plugins/tmux-resurrect'`\n",
    ">        1. `set -g @plugin 'tmux-plugins/tmux-continuum'`\n",
    ">        1. `set -g @continuum-restore 'on'`\n",
    "\n",
    "1. [New github ssh](https://docs.github.com/en/free-pro-team@latest/github/authenticating-to-github/generating-a-new-ssh-key-and-adding-it-to-the-ssh-agent)\n",
    "> An obvious one, but set up a new ssh to avoid signing in over and over"
   ]
  },
  {
   "cell_type": "markdown",
   "metadata": {},
   "source": [
    "## Conda"
   ]
  },
  {
   "cell_type": "markdown",
   "metadata": {},
   "source": [
    "1. [Conda](https://docs.conda.io/en/latest/)\n",
    "> I consider conda my default and quick python environment tool, it just works. There are a few gotchas so I use a simple script, `install_miniconda.sh`, to make it easier to remember. First, make it executable with `chmod +x install_miniconda.sh` then run with `./install_miniconda.sh`.\n",
    "```\n",
    "curl -o ${HOME}/miniconda.sh https://repo.anaconda.com/miniconda/Miniconda3-latest-MacOSX-x86_64.sh\n",
    "shasum -a 256 ${HOME}/miniconda.sh\n",
    "CONDA_PATH=\"${HOME}/miniconda3\"\n",
    "bash ${HOME}/miniconda.sh -b -p ${CONDA_PATH}\n",
    "rm ${HOME}/miniconda.sh\n",
    "eval \"$(${CONDA_PATH}/bin/conda shell.zsh hook)\"\n",
    "conda init zsh\n",
    "conda config --set auto_activate_base false\n",
    "```"
   ]
  },
  {
   "cell_type": "markdown",
   "metadata": {},
   "source": [
    "## Nix"
   ]
  },
  {
   "cell_type": "markdown",
   "metadata": {},
   "source": [
    "1. [Nix](https://nixos.org/download.html)\n",
    "> Nix is a really powerful environment management tool. It's not really fair to have this presented in comparison to conda since it does so much more, but for my purposes they end up being pretty similar. Nix creates environments \"all the way down\" installing everything from scratch which means you can guarantee envs that work today will work tomorrow. Or put another way, envs that work on your computer will work on your colleague's computer. This is a really strong claim and not even docker can guarantee that nothing under the hood will change between builds off the same dockerfile (nix can even make the docker images directly). \n",
    "\n",
    "    >However, it's not the most user friendly or well documented and building nix envs takes a while. If, for whatever reason, something isn't working with nix then it'll likely be a pain to figure out and drag you into the parts of your computer you hoped to ignore. Also, if you want to deploy with nix then you have to deal with rebuilding the envs everywhere, which again, takes a while. There are ways to address all of this, but you have to be ready to dig in -- it really comes down to a trade off between ease and stability. Case and point, for now, installing nix on osx is a bit of a mess but you can follow the steps in either of the first two links then run the final command:\n",
    ">    1. https://nixos.org/manual/nix/stable/#sect-macos-installation -- the official documentation\n",
    ">    1. https://dubinets.io/installing-nix-on-macos-catalina/ -- an easier guide\n",
    ">    1. `sh <(curl -L https://nixos.org/nix/install) --darwin-use-unencrypted-nix-store-volume` -- the install command"
   ]
  },
  {
   "cell_type": "markdown",
   "metadata": {},
   "source": [
    "# Python environments"
   ]
  },
  {
   "cell_type": "markdown",
   "metadata": {},
   "source": [
    "There are a lot of opinions and ways to do this, but I'll cover just two -- the conda way and the nix way."
   ]
  },
  {
   "cell_type": "markdown",
   "metadata": {},
   "source": [
    "## Conda"
   ]
  },
  {
   "cell_type": "markdown",
   "metadata": {},
   "source": [
    "For conda, I manage `environment.yml` files for each env. The nice parts about using an env yml file is you can keep the definition of python together with the choice/versions of your packages. Without going too much into the packages, which will change depending on the project anyway, the main sections are as follows.\n",
    "\n",
    "1. environment.yml\n",
    "    ```\n",
    "    name: py38\n",
    "    channels:\n",
    "      - defaults\n",
    "      - conda-forge\n",
    "      - ...\n",
    "    dependencies:\n",
    "      - python=3.8 # python version\n",
    "      - pip\n",
    "      - conda-build\n",
    "      - ...\n",
    "      - pip:\n",
    "        - autopep8\n",
    "        - flake8\n",
    "        - mypy\n",
    "        - pytest\n",
    "        - ...\n",
    "    ```\n",
    "\n",
    "1. Then make the env\n",
    "    ```\n",
    "    source ${HOME}/.zshrc\n",
    "    conda env create -f environment.yml\n",
    "    # pip list --format=freeze > requirements.txt\n",
    "    # ^^ creates a requirements.txt (always a good idea)\n",
    "    # conda env export --no-builds | grep -v \"^prefix: \" > environment_versioned.yml\n",
    "    # ^^ creates a versioned file (always a good idea)\n",
    "    ```"
   ]
  },
  {
   "cell_type": "markdown",
   "metadata": {},
   "source": [
    "## Nix"
   ]
  },
  {
   "cell_type": "markdown",
   "metadata": {},
   "source": [
    "With nix, you can also create a `default.nix` file which handles the entire install (python and specific env) together. You can fully use nix to manage all packages, but I still prefer to use virtualenvs (essentially an env within an env) since it's easier and faster for development work and packages are still pinnable with versions. Also, I find that nix sometimes drags behind a bit which isn't something I want to wait for.\n",
    "\n",
    "1. requirements.txt\n",
    "> This looks just like normal requirements.txt and is called exactly the same way. One note, I use a little script that creates a requirements_versioned.txt from an existing env and requirements.txt file (relies on `from pip._internal.operations import freeze` and `freeze.freeze()`). This is to get around the fact that `pip list --format freeze` creates an enormous list and I usually only want to see the specified packages/versions. It makes it easier to manage and the only risk is a package changes a dependency version without bumping to a new version itself, so you can use the full `pip list` for more stability.\n",
    "\n",
    "1. default.nix\n",
    "> First, in full:\n",
    "\n",
    "    ```\n",
    "    # nix-channel --update nixpkgs\n",
    "    # ^^ Update nixpkgs occasionally\n",
    "\n",
    "    let\n",
    "      # https://nixos.wiki/wiki/FAQ/Pinning_Nixpkgs\n",
    "      # pkgs = import <nixpkgs> {};\n",
    "      pkgs = import (builtins.fetchTarball {\n",
    "        # Descriptive name to make the store path easier to identify\n",
    "        name = \"nixpkgs-2021-01-03\";\n",
    "        # Find the current commit hash with:\n",
    "        # `curl \"https://releases.nixos.org/nixpkgs/nixpkgs-$(nix-instantiate --eval -E '(import <nixpkgs> {}).lib.version' | tr -d '\"')/git-revision\" && echo`\n",
    "        url = \"https://github.com/nixos/nixpkgs/archive/2080afd039999a58d60596d04cefb32ef5fcc2a2.tar.gz\";\n",
    "        # Hash obtained using: `nix-prefetch-url --unpack <url>`\n",
    "        sha256 = \"0i677swvj8fxfwg3jibd0xl33rn0rq0adnniim8jnp384whnh8ry\";\n",
    "      }) {};\n",
    "\n",
    "      pyInputs = with pkgs.python38Packages; [\n",
    "        pkgs.python38\n",
    "        virtualenv\n",
    "        virtualenvwrapper\n",
    "        pip\n",
    "      ];\n",
    "\n",
    "    in pkgs.stdenv.mkDerivation rec {\n",
    "      name = \"py38\";\n",
    "      env_home = \"Development\";\n",
    "      repo = \"base_envs\";\n",
    "      req_location = \"requirements_versioned.txt\";\n",
    "\n",
    "      buildInputs = pyInputs;\n",
    "\n",
    "      LD_LIBRARY_PATH = \"${pkgs.stdenv.lib.makeLibraryPath [ pkgs.stdenv.cc.cc.lib ]}\";\n",
    "\n",
    "      shellHook = ''\n",
    "        # set SOURCE_DATE_EPOCH so that we can use python wheels\n",
    "        SOURCE_DATE_EPOCH=$(date +%s)\n",
    "\n",
    "        # ENV_HOME\n",
    "        export ENV_HOME=\"$HOME/${env_home}/${repo}\"\n",
    "        export PYTHONPATH=\"$PYTHONPATH:$ENV_HOME\"\n",
    "\n",
    "        # use virtualenvwrapper to manage envs\n",
    "        export WORKON_HOME=\"$ENV_HOME/Envs\"\n",
    "        mkdir -p $WORKON_HOME\n",
    "        source $(command -v virtualenvwrapper.sh)\n",
    "\n",
    "        # install\n",
    "        mkvirtualenv ${name}\n",
    "        workon ${name}\n",
    "        python3 -m pip install -r \"$ENV_HOME/${req_location}\"\n",
    "\n",
    "        # optional\n",
    "        python $ENV_HOME/jupyter_rename.py --repo=${repo} --name=${name}\n",
    "        python $ENV_HOME/requirements_versioned.py --repo=${repo}\n",
    "        pip list --format=freeze > requirements_versioned_full.txt\n",
    "\n",
    "        # prompt that says the derivation\n",
    "        PS1=\"\\[\\033[1;34m\\][nix-shell-${name}:\\w]\\n\\$ \\[\\033[0m\\]\"\n",
    "      '';\n",
    "    }\n",
    "    ```\n",
    "    \n",
    "    ---\n",
    "\n",
    "   > This is dense because it's a different language and functional programming looks different than python. The idea is that we're running one function `mkDerivation` and define a few variables first within the `let`. First, get nixpkgs. If we don't care about pinning nix (we do) then we could use:\n",
    "\n",
    "    ```\n",
    "    pkgs = import <nixpkgs> {};\n",
    "    ``` \n",
    "\n",
    "   > But I don't want nix changing between builds so it gets pinned using:\n",
    "\n",
    "    ```\n",
    "    pkgs = import (builtins.fetchTarball {\n",
    "      name = \"nixpkgs-2021-01-03\";\n",
    "      url = \"https://github.com/nixos/nixpkgs/archive/2080afd039999a58d60596d04cefb32ef5fcc2a2.tar.gz\";\n",
    "      sha256 = \"0i677swvj8fxfwg3jibd0xl33rn0rq0adnniim8jnp384whnh8ry\";\n",
    "    }) {};\n",
    "    ```\n",
    "\n",
    "   > Then, you choose the python version and also get pip and virtualenv since they are needed to make the environment:\n",
    "\n",
    "    ```\n",
    "    pyInputs = with pkgs.python38Packages; [\n",
    "      pkgs.python38\n",
    "      virtualenv\n",
    "      virtualenvwrapper\n",
    "      pip\n",
    "    ];\n",
    "    ```\n",
    "\n",
    "   > Now `mkDerivation` is run which has a few parameters like `name`, `buildInputs`, and an optional `shellHook` which is important for a number of settings. `name` is the env name and I propegate that around to a few other places (like making sure my jupyter notebooks say which env they are, via a small script). `buildInputs` is the list of packages to  include in the environment (note this can include anything nix knows about so that extends past just python and can include R, haskell, etc.). `shellHook` should look very familiar since it's how you'd create your virtualenv and install packages normally -- this hook is in bash even though we use zsh above. When managing multiple default.nix files (likely in different repos), then I also make sure to edit the following variables appropriately:\n",
    "\n",
    "    ```\n",
    "    name = \"py38\";\n",
    "    env_home = \"Development\";\n",
    "    repo = \"base_envs\";\n",
    "    req_location = \"requirements_versioned.txt\";\n",
    "    ```\n",
    "\n",
    "   > Finally, to build this environment you simply run\n",
    "\n",
    "    ```\n",
    "    nix-shell default.nix\n",
    "    ```\n",
    "\n",
    "   > then wait."
   ]
  },
  {
   "cell_type": "markdown",
   "metadata": {},
   "source": [
    "### R"
   ]
  },
  {
   "cell_type": "markdown",
   "metadata": {},
   "source": [
    "As a last very brief aside, what if we wanted to also install R into our same environment? Without nix, you'd go over to the R website and download directly but then it's separate from our developer env and not easily sharable. With conda, apparently this is doable, but I haven't been able to find a clean example. With nix, it's actually really easy since mixing languages one of the things nix does best. I've rarely seen good multi language environment guides, but if you're willing to go down the path of using nix then there are nice wins at the end. If I add:\n",
    "\n",
    "```\n",
    "rInputs = with pkgs.rPackages; [\n",
    "  pkgs.R\n",
    "  data_table\n",
    "  tidyverse\n",
    "];\n",
    "```\n",
    "\n",
    "and change to `buildInputs = pyInputs ++ rInputs;` (++ means concatenate the lists) then we're all set.\n",
    "\n",
    "To rebuild this environment, you rerun\n",
    "\n",
    "```\n",
    "nix-shell default.nix\n",
    "```\n",
    "\n",
    "then wait."
   ]
  },
  {
   "cell_type": "code",
   "execution_count": null,
   "metadata": {},
   "outputs": [],
   "source": []
  }
 ],
 "metadata": {
  "kernelspec": {
   "display_name": "Python [conda env:py38] *",
   "language": "python",
   "name": "conda-env-py38-py"
  },
  "language_info": {
   "codemirror_mode": {
    "name": "ipython",
    "version": 3
   },
   "file_extension": ".py",
   "mimetype": "text/x-python",
   "name": "python",
   "nbconvert_exporter": "python",
   "pygments_lexer": "ipython3",
   "version": "3.8.5"
  }
 },
 "nbformat": 4,
 "nbformat_minor": 4
}
