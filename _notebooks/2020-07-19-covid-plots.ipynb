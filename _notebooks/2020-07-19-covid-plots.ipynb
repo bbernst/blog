{
 "cells": [
  {
   "cell_type": "markdown",
   "metadata": {
    "papermill": {
     "duration": 0.015604,
     "end_time": "2020-08-07T22:33:25.189294",
     "exception": false,
     "start_time": "2020-08-07T22:33:25.173690",
     "status": "completed"
    },
    "tags": []
   },
   "source": [
    "# \"COVID-19 plots\"\n",
    "> \"Interactive plots with daily updates\"\n",
    "\n",
    "- author: bbernst\n",
    "- toc: true\n",
    "- branch: master\n",
    "- badges: true\n",
    "- comments: true\n",
    "- categories: [healthcare, covid]\n",
    "- image: images/covid_plots/covid_mask.png\n",
    "- hide: false\n",
    "- search_exclude: true"
   ]
  },
  {
   "cell_type": "markdown",
   "metadata": {
    "papermill": {
     "duration": 0.01486,
     "end_time": "2020-08-07T22:33:25.221114",
     "exception": false,
     "start_time": "2020-08-07T22:33:25.206254",
     "status": "completed"
    },
    "tags": []
   },
   "source": [
    "I wanted to make a simple COVID-19 post to accomplish two main goals:\n",
    "1. Easily see the specific plots I'm interested in\n",
    "1. Update these plots every day, automatically\n",
    "\n",
    "Enter [fastpages](https://github.com/fastai/fastpages) and [github actions](https://github.com/features/actions). I'd been meaning to set up a blog with fastpages for a while and thought this would be a good reason to try it out. The documentation was great and I was able to set up automatic updates by using https://covid19dashboards.com/ as a guide.\n",
    "\n",
    "The data for this post comes from https://covidtracking.com/, which updates by 5pm each day, and I have my dashboard update at 6:30pm. For each geography -- so far that's the US, New York, and Non Tri-State -- I look at daily positive cases, positive rate, and deaths. Be sure to hover around on each of the plots, they have helpful interactive tooltips to make reading the data more intuitive."
   ]
  },
  {
   "cell_type": "code",
   "execution_count": 1,
   "metadata": {
    "execution": {
     "iopub.execute_input": "2020-08-07T22:33:25.258763Z",
     "iopub.status.busy": "2020-08-07T22:33:25.258063Z",
     "iopub.status.idle": "2020-08-07T22:33:25.702821Z",
     "shell.execute_reply": "2020-08-07T22:33:25.703660Z"
    },
    "papermill": {
     "duration": 0.467168,
     "end_time": "2020-08-07T22:33:25.703867",
     "exception": false,
     "start_time": "2020-08-07T22:33:25.236699",
     "status": "completed"
    },
    "tags": []
   },
   "outputs": [],
   "source": [
    "#collapse\n",
    "from typing import Callable, Literal\n",
    "import pandas as pd\n",
    "import altair as alt"
   ]
  },
  {
   "cell_type": "code",
   "execution_count": 2,
   "metadata": {
    "execution": {
     "iopub.execute_input": "2020-08-07T22:33:25.739385Z",
     "iopub.status.busy": "2020-08-07T22:33:25.738771Z",
     "iopub.status.idle": "2020-08-07T22:33:25.760174Z",
     "shell.execute_reply": "2020-08-07T22:33:25.759647Z"
    },
    "papermill": {
     "duration": 0.040571,
     "end_time": "2020-08-07T22:33:25.760293",
     "exception": false,
     "start_time": "2020-08-07T22:33:25.719722",
     "status": "completed"
    },
    "tags": []
   },
   "outputs": [
    {
     "name": "stdout",
     "output_type": "stream",
     "text": [
      "Last updated at (ET): 2020-08-07 06:33:25 PM\n"
     ]
    }
   ],
   "source": [
    "#hide_input\n",
    "current_utc = pd.Timestamp.now(tz='America/New_York').strftime('%Y-%m-%d %I:%M:%S %p')\n",
    "print(f\"Last updated at (ET): {current_utc}\")"
   ]
  },
  {
   "cell_type": "markdown",
   "metadata": {
    "papermill": {
     "duration": 0.014343,
     "end_time": "2020-08-07T22:33:25.788667",
     "exception": false,
     "start_time": "2020-08-07T22:33:25.774324",
     "status": "completed"
    },
    "tags": []
   },
   "source": [
    "# Data"
   ]
  },
  {
   "cell_type": "code",
   "execution_count": 3,
   "metadata": {
    "execution": {
     "iopub.execute_input": "2020-08-07T22:33:25.822184Z",
     "iopub.status.busy": "2020-08-07T22:33:25.821554Z",
     "iopub.status.idle": "2020-08-07T22:33:27.206328Z",
     "shell.execute_reply": "2020-08-07T22:33:27.206938Z"
    },
    "papermill": {
     "duration": 1.403664,
     "end_time": "2020-08-07T22:33:27.207112",
     "exception": false,
     "start_time": "2020-08-07T22:33:25.803448",
     "status": "completed"
    },
    "tags": []
   },
   "outputs": [],
   "source": [
    "df = pd.read_csv('https://covidtracking.com/api/states/daily.csv')"
   ]
  },
  {
   "cell_type": "markdown",
   "metadata": {
    "papermill": {
     "duration": 0.043898,
     "end_time": "2020-08-07T22:33:27.266828",
     "exception": false,
     "start_time": "2020-08-07T22:33:27.222930",
     "status": "completed"
    },
    "tags": []
   },
   "source": [
    "# Helpers"
   ]
  },
  {
   "cell_type": "code",
   "execution_count": 4,
   "metadata": {
    "execution": {
     "iopub.execute_input": "2020-08-07T22:33:27.382851Z",
     "iopub.status.busy": "2020-08-07T22:33:27.382225Z",
     "iopub.status.idle": "2020-08-07T22:33:27.384582Z",
     "shell.execute_reply": "2020-08-07T22:33:27.385151Z"
    },
    "papermill": {
     "duration": 0.071553,
     "end_time": "2020-08-07T22:33:27.385301",
     "exception": false,
     "start_time": "2020-08-07T22:33:27.313748",
     "status": "completed"
    },
    "tags": []
   },
   "outputs": [],
   "source": [
    "#collapse\n",
    "def create_df(df: pd.DataFrame, \n",
    "              filter_f: Callable, \n",
    "              state_name: str):\n",
    "    out_df = (\n",
    "     df\n",
    "     .assign(date = lambda d: pd.to_datetime(d['date'], format='%Y%m%d'))\n",
    "     .loc[filter_f, :]\n",
    "     .groupby('date')\n",
    "     .apply(lambda d: pd.Series(dict(\n",
    "         totalTestResultsIncrease = d['totalTestResultsIncrease'].sum(),\n",
    "         positiveIncrease = d['positiveIncrease'].sum(),\n",
    "         death = d['death'].sum(),\n",
    "         deathIncrease = d['deathIncrease'].sum()\n",
    "     )))\n",
    "     .reset_index()\n",
    "     .assign(positiveRate = lambda d: round(d['positiveIncrease'] / d['totalTestResultsIncrease'], 3))\n",
    "     .sort_values('date', ascending=True)\n",
    "     .assign(state = state_name)\n",
    "     .reset_index(drop=True)\n",
    "    )\n",
    "    \n",
    "    return out_df"
   ]
  },
  {
   "cell_type": "code",
   "execution_count": 5,
   "metadata": {
    "execution": {
     "iopub.execute_input": "2020-08-07T22:33:27.480888Z",
     "iopub.status.busy": "2020-08-07T22:33:27.477195Z",
     "iopub.status.idle": "2020-08-07T22:33:27.483543Z",
     "shell.execute_reply": "2020-08-07T22:33:27.482823Z"
    },
    "papermill": {
     "duration": 0.07106,
     "end_time": "2020-08-07T22:33:27.483679",
     "exception": false,
     "start_time": "2020-08-07T22:33:27.412619",
     "status": "completed"
    },
    "tags": []
   },
   "outputs": [],
   "source": [
    "#collapse\n",
    "def create_plot(df: pd.DataFrame, \n",
    "                column: Literal['totalTestResultsIncrease', \n",
    "                                'positiveIncrease', \n",
    "                                'death',\n",
    "                                'deathIncrease', \n",
    "                                'positiveRate'],\n",
    "                period: int = 7*8):\n",
    "    df = (\n",
    "     df\n",
    "     .assign(sma7d = lambda d: d[column].rolling(window=7).mean().round(3))\n",
    "     .loc[lambda d: d['date'] >= pd.to_datetime('today') - period * pd.Timedelta('1 days'), :]\n",
    "     .reset_index(drop=True)\n",
    "    )\n",
    "    the_state = df['state'][0]\n",
    "    label = alt.selection_single(\n",
    "        encodings=['x'], on='mouseover', nearest=True, empty='none')\n",
    "    \n",
    "    base = alt.Chart().mark_point(size=75).encode(\n",
    "        x='date:T',\n",
    "        y=f'{column}:Q',\n",
    "        tooltip=['date', f'{column}:Q', 'sma7d:Q']\n",
    "    )\n",
    "\n",
    "    sma = alt.Chart().mark_line(color='purple').encode(\n",
    "        x='date:T',\n",
    "        y='sma7d:Q'\n",
    "    )\n",
    "\n",
    "    layers = alt.layer(\n",
    "        base + sma,\n",
    "\n",
    "        # add a rule mark to serve as a guide line\n",
    "        alt.Chart().mark_rule(color='#aaa').encode(\n",
    "            x='date:T'\n",
    "        ).transform_filter(label),\n",
    "\n",
    "        # add circle marks for selected time points, hide unselected points\n",
    "        base.mark_circle().encode(\n",
    "            opacity=alt.condition(label, alt.value(1), alt.value(0))\n",
    "        ).add_selection(label),\n",
    "\n",
    "        # add white stroked text to provide a legible background for labels\n",
    "        base.mark_text(align='left', dx=5, dy=-5, stroke='white', strokeWidth=2).encode(\n",
    "            text=f'{column}:Q'\n",
    "        ).transform_filter(label),\n",
    "\n",
    "        # add text labels\n",
    "        base.mark_text(align='left', dx=5, dy=-5).encode(\n",
    "            text=f'{column}:Q'\n",
    "        ).transform_filter(label),\n",
    "        \n",
    "        data=df\n",
    "    ).properties(\n",
    "        title=f'{the_state}: {column}',\n",
    "        width=500,\n",
    "        height=400\n",
    "    )\n",
    "    \n",
    "    return layers.interactive()"
   ]
  },
  {
   "cell_type": "markdown",
   "metadata": {
    "papermill": {
     "duration": 0.047066,
     "end_time": "2020-08-07T22:33:27.562812",
     "exception": false,
     "start_time": "2020-08-07T22:33:27.515746",
     "status": "completed"
    },
    "tags": []
   },
   "source": [
    "# Plots"
   ]
  },
  {
   "cell_type": "markdown",
   "metadata": {
    "papermill": {
     "duration": 0.099213,
     "end_time": "2020-08-07T22:33:27.719500",
     "exception": false,
     "start_time": "2020-08-07T22:33:27.620287",
     "status": "completed"
    },
    "tags": []
   },
   "source": [
    "## US"
   ]
  },
  {
   "cell_type": "code",
   "execution_count": 6,
   "metadata": {
    "execution": {
     "iopub.execute_input": "2020-08-07T22:33:28.476160Z",
     "iopub.status.busy": "2020-08-07T22:33:28.475441Z",
     "iopub.status.idle": "2020-08-07T22:33:28.753650Z",
     "shell.execute_reply": "2020-08-07T22:33:28.753091Z"
    },
    "papermill": {
     "duration": 0.925524,
     "end_time": "2020-08-07T22:33:28.753784",
     "exception": false,
     "start_time": "2020-08-07T22:33:27.828260",
     "status": "completed"
    },
    "tags": []
   },
   "outputs": [],
   "source": [
    "us = create_df(df, lambda d: d.index > 0, 'US')"
   ]
  },
  {
   "cell_type": "code",
   "execution_count": 7,
   "metadata": {
    "execution": {
     "iopub.execute_input": "2020-08-07T22:33:28.797391Z",
     "iopub.status.busy": "2020-08-07T22:33:28.788337Z",
     "iopub.status.idle": "2020-08-07T22:33:28.905656Z",
     "shell.execute_reply": "2020-08-07T22:33:28.906199Z"
    },
    "papermill": {
     "duration": 0.136291,
     "end_time": "2020-08-07T22:33:28.906394",
     "exception": false,
     "start_time": "2020-08-07T22:33:28.770103",
     "status": "completed"
    },
    "tags": []
   },
   "outputs": [
    {
     "data": {
      "text/html": [
       "\n",
       "<div id=\"altair-viz-b4eb87ea2d1e429b9e066e1baca5c706\"></div>\n",
       "<script type=\"text/javascript\">\n",
       "  (function(spec, embedOpt){\n",
       "    let outputDiv = document.currentScript.previousElementSibling;\n",
       "    if (outputDiv.id !== \"altair-viz-b4eb87ea2d1e429b9e066e1baca5c706\") {\n",
       "      outputDiv = document.getElementById(\"altair-viz-b4eb87ea2d1e429b9e066e1baca5c706\");\n",
       "    }\n",
       "    const paths = {\n",
       "      \"vega\": \"https://cdn.jsdelivr.net/npm//vega@5?noext\",\n",
       "      \"vega-lib\": \"https://cdn.jsdelivr.net/npm//vega-lib?noext\",\n",
       "      \"vega-lite\": \"https://cdn.jsdelivr.net/npm//vega-lite@4.8.1?noext\",\n",
       "      \"vega-embed\": \"https://cdn.jsdelivr.net/npm//vega-embed@6?noext\",\n",
       "    };\n",
       "\n",
       "    function loadScript(lib) {\n",
       "      return new Promise(function(resolve, reject) {\n",
       "        var s = document.createElement('script');\n",
       "        s.src = paths[lib];\n",
       "        s.async = true;\n",
       "        s.onload = () => resolve(paths[lib]);\n",
       "        s.onerror = () => reject(`Error loading script: ${paths[lib]}`);\n",
       "        document.getElementsByTagName(\"head\")[0].appendChild(s);\n",
       "      });\n",
       "    }\n",
       "\n",
       "    function showError(err) {\n",
       "      outputDiv.innerHTML = `<div class=\"error\" style=\"color:red;\">${err}</div>`;\n",
       "      throw err;\n",
       "    }\n",
       "\n",
       "    function displayChart(vegaEmbed) {\n",
       "      vegaEmbed(outputDiv, spec, embedOpt)\n",
       "        .catch(err => showError(`Javascript Error: ${err.message}<br>This usually means there's a typo in your chart specification. See the javascript console for the full traceback.`));\n",
       "    }\n",
       "\n",
       "    if(typeof define === \"function\" && define.amd) {\n",
       "      requirejs.config({paths});\n",
       "      require([\"vega-embed\"], displayChart, err => showError(`Error loading script: ${err.message}`));\n",
       "    } else if (typeof vegaEmbed === \"function\") {\n",
       "      displayChart(vegaEmbed);\n",
       "    } else {\n",
       "      loadScript(\"vega\")\n",
       "        .then(() => loadScript(\"vega-lite\"))\n",
       "        .then(() => loadScript(\"vega-embed\"))\n",
       "        .catch(showError)\n",
       "        .then(() => displayChart(vegaEmbed));\n",
       "    }\n",
       "  })({\"config\": {\"view\": {\"continuousWidth\": 400, \"continuousHeight\": 300}}, \"layer\": [{\"layer\": [{\"mark\": {\"type\": \"point\", \"size\": 75}, \"encoding\": {\"tooltip\": [{\"type\": \"temporal\", \"field\": \"date\"}, {\"type\": \"quantitative\", \"field\": \"positiveIncrease\"}, {\"type\": \"quantitative\", \"field\": \"sma7d\"}], \"x\": {\"type\": \"temporal\", \"field\": \"date\"}, \"y\": {\"type\": \"quantitative\", \"field\": \"positiveIncrease\"}}, \"selection\": {\"selector002\": {\"type\": \"interval\", \"bind\": \"scales\", \"encodings\": [\"x\", \"y\"]}}}, {\"mark\": {\"type\": \"line\", \"color\": \"purple\"}, \"encoding\": {\"x\": {\"type\": \"temporal\", \"field\": \"date\"}, \"y\": {\"type\": \"quantitative\", \"field\": \"sma7d\"}}}]}, {\"mark\": {\"type\": \"rule\", \"color\": \"#aaa\"}, \"encoding\": {\"x\": {\"type\": \"temporal\", \"field\": \"date\"}}, \"transform\": [{\"filter\": {\"selection\": \"selector001\"}}]}, {\"mark\": \"circle\", \"encoding\": {\"opacity\": {\"condition\": {\"value\": 1, \"selection\": \"selector001\"}, \"value\": 0}, \"tooltip\": [{\"type\": \"temporal\", \"field\": \"date\"}, {\"type\": \"quantitative\", \"field\": \"positiveIncrease\"}, {\"type\": \"quantitative\", \"field\": \"sma7d\"}], \"x\": {\"type\": \"temporal\", \"field\": \"date\"}, \"y\": {\"type\": \"quantitative\", \"field\": \"positiveIncrease\"}}, \"selection\": {\"selector001\": {\"type\": \"single\", \"encodings\": [\"x\"], \"on\": \"mouseover\", \"nearest\": true, \"empty\": \"none\"}}}, {\"mark\": {\"type\": \"text\", \"align\": \"left\", \"dx\": 5, \"dy\": -5, \"stroke\": \"white\", \"strokeWidth\": 2}, \"encoding\": {\"text\": {\"type\": \"quantitative\", \"field\": \"positiveIncrease\"}, \"tooltip\": [{\"type\": \"temporal\", \"field\": \"date\"}, {\"type\": \"quantitative\", \"field\": \"positiveIncrease\"}, {\"type\": \"quantitative\", \"field\": \"sma7d\"}], \"x\": {\"type\": \"temporal\", \"field\": \"date\"}, \"y\": {\"type\": \"quantitative\", \"field\": \"positiveIncrease\"}}, \"transform\": [{\"filter\": {\"selection\": \"selector001\"}}]}, {\"mark\": {\"type\": \"text\", \"align\": \"left\", \"dx\": 5, \"dy\": -5}, \"encoding\": {\"text\": {\"type\": \"quantitative\", \"field\": \"positiveIncrease\"}, \"tooltip\": [{\"type\": \"temporal\", \"field\": \"date\"}, {\"type\": \"quantitative\", \"field\": \"positiveIncrease\"}, {\"type\": \"quantitative\", \"field\": \"sma7d\"}], \"x\": {\"type\": \"temporal\", \"field\": \"date\"}, \"y\": {\"type\": \"quantitative\", \"field\": \"positiveIncrease\"}}, \"transform\": [{\"filter\": {\"selection\": \"selector001\"}}]}], \"data\": {\"name\": \"data-5573d8094cae7c669e5a169239687255\"}, \"height\": 400, \"title\": \"US: positiveIncrease\", \"width\": 500, \"$schema\": \"https://vega.github.io/schema/vega-lite/v4.8.1.json\", \"datasets\": {\"data-5573d8094cae7c669e5a169239687255\": [{\"date\": \"2020-06-13T00:00:00\", \"totalTestResultsIncrease\": 496428.0, \"positiveIncrease\": 25341.0, \"death\": 110914.0, \"deathIncrease\": 694.0, \"positiveRate\": 0.051, \"state\": \"US\", \"sma7d\": 20666.143}, {\"date\": \"2020-06-14T00:00:00\", \"totalTestResultsIncrease\": 485220.0, \"positiveIncrease\": 21373.0, \"death\": 111270.0, \"deathIncrease\": 356.0, \"positiveRate\": 0.044, \"state\": \"US\", \"sma7d\": 21030.429}, {\"date\": \"2020-06-15T00:00:00\", \"totalTestResultsIncrease\": 432811.0, \"positiveIncrease\": 18510.0, \"death\": 111651.0, \"deathIncrease\": 381.0, \"positiveRate\": 0.043, \"state\": \"US\", \"sma7d\": 21244.429}, {\"date\": \"2020-06-16T00:00:00\", \"totalTestResultsIncrease\": 464529.0, \"positiveIncrease\": 23435.0, \"death\": 112382.0, \"deathIncrease\": 731.0, \"positiveRate\": 0.05, \"state\": \"US\", \"sma7d\": 22138.714}, {\"date\": \"2020-06-17T00:00:00\", \"totalTestResultsIncrease\": 485290.0, \"positiveIncrease\": 23873.0, \"death\": 113149.0, \"deathIncrease\": 767.0, \"positiveRate\": 0.049, \"state\": \"US\", \"sma7d\": 22577.286}, {\"date\": \"2020-06-18T00:00:00\", \"totalTestResultsIncrease\": 516193.0, \"positiveIncrease\": 27527.0, \"death\": 113854.0, \"deathIncrease\": 705.0, \"positiveRate\": 0.053, \"state\": \"US\", \"sma7d\": 23362.286}, {\"date\": \"2020-06-19T00:00:00\", \"totalTestResultsIncrease\": 573992.0, \"positiveIncrease\": 31046.0, \"death\": 114509.0, \"deathIncrease\": 655.0, \"positiveRate\": 0.054, \"state\": \"US\", \"sma7d\": 24443.571}, {\"date\": \"2020-06-20T00:00:00\", \"totalTestResultsIncrease\": 559215.0, \"positiveIncrease\": 31994.0, \"death\": 115138.0, \"deathIncrease\": 629.0, \"positiveRate\": 0.057, \"state\": \"US\", \"sma7d\": 25394.0}, {\"date\": \"2020-06-21T00:00:00\", \"totalTestResultsIncrease\": 511098.0, \"positiveIncrease\": 27284.0, \"death\": 115432.0, \"deathIncrease\": 294.0, \"positiveRate\": 0.053, \"state\": \"US\", \"sma7d\": 26238.429}, {\"date\": \"2020-06-22T00:00:00\", \"totalTestResultsIncrease\": 466605.0, \"positiveIncrease\": 27017.0, \"death\": 115718.0, \"deathIncrease\": 286.0, \"positiveRate\": 0.058, \"state\": \"US\", \"sma7d\": 27453.714}, {\"date\": \"2020-06-23T00:00:00\", \"totalTestResultsIncrease\": 491719.0, \"positiveIncrease\": 33021.0, \"death\": 116428.0, \"deathIncrease\": 710.0, \"positiveRate\": 0.067, \"state\": \"US\", \"sma7d\": 28823.143}, {\"date\": \"2020-06-24T00:00:00\", \"totalTestResultsIncrease\": 519202.0, \"positiveIncrease\": 38684.0, \"death\": 117152.0, \"deathIncrease\": 724.0, \"positiveRate\": 0.075, \"state\": \"US\", \"sma7d\": 30939.0}, {\"date\": \"2020-06-25T00:00:00\", \"totalTestResultsIncrease\": 637148.0, \"positiveIncrease\": 39072.0, \"death\": 117799.0, \"deathIncrease\": 647.0, \"positiveRate\": 0.061, \"state\": \"US\", \"sma7d\": 32588.286}, {\"date\": \"2020-06-26T00:00:00\", \"totalTestResultsIncrease\": 606747.0, \"positiveIncrease\": 44421.0, \"death\": 118436.0, \"deathIncrease\": 637.0, \"positiveRate\": 0.073, \"state\": \"US\", \"sma7d\": 34499.0}, {\"date\": \"2020-06-27T00:00:00\", \"totalTestResultsIncrease\": 599386.0, \"positiveIncrease\": 43783.0, \"death\": 118947.0, \"deathIncrease\": 511.0, \"positiveRate\": 0.073, \"state\": \"US\", \"sma7d\": 36183.143}, {\"date\": \"2020-06-28T00:00:00\", \"totalTestResultsIncrease\": 583898.0, \"positiveIncrease\": 41857.0, \"death\": 119218.0, \"deathIncrease\": 271.0, \"positiveRate\": 0.072, \"state\": \"US\", \"sma7d\": 38265.0}, {\"date\": \"2020-06-29T00:00:00\", \"totalTestResultsIncrease\": 646824.0, \"positiveIncrease\": 39175.0, \"death\": 119550.0, \"deathIncrease\": 332.0, \"positiveRate\": 0.061, \"state\": \"US\", \"sma7d\": 40001.857}, {\"date\": \"2020-06-30T00:00:00\", \"totalTestResultsIncrease\": 624063.0, \"positiveIncrease\": 47462.0, \"death\": 120146.0, \"deathIncrease\": 596.0, \"positiveRate\": 0.076, \"state\": \"US\", \"sma7d\": 42064.857}, {\"date\": \"2020-07-01T00:00:00\", \"totalTestResultsIncrease\": 633286.0, \"positiveIncrease\": 50674.0, \"death\": 120847.0, \"deathIncrease\": 701.0, \"positiveRate\": 0.08, \"state\": \"US\", \"sma7d\": 43777.714}, {\"date\": \"2020-07-02T00:00:00\", \"totalTestResultsIncrease\": 662316.0, \"positiveIncrease\": 53826.0, \"death\": 121542.0, \"deathIncrease\": 695.0, \"positiveRate\": 0.081, \"state\": \"US\", \"sma7d\": 45885.429}, {\"date\": \"2020-07-03T00:00:00\", \"totalTestResultsIncrease\": 710949.0, \"positiveIncrease\": 54223.0, \"death\": 122140.0, \"deathIncrease\": 598.0, \"positiveRate\": 0.076, \"state\": \"US\", \"sma7d\": 47285.714}, {\"date\": \"2020-07-04T00:00:00\", \"totalTestResultsIncrease\": 642171.0, \"positiveIncrease\": 54734.0, \"death\": 122446.0, \"deathIncrease\": 306.0, \"positiveRate\": 0.085, \"state\": \"US\", \"sma7d\": 48850.143}, {\"date\": \"2020-07-05T00:00:00\", \"totalTestResultsIncrease\": 681450.0, \"positiveIncrease\": 45789.0, \"death\": 122655.0, \"deathIncrease\": 209.0, \"positiveRate\": 0.067, \"state\": \"US\", \"sma7d\": 49411.857}, {\"date\": \"2020-07-06T00:00:00\", \"totalTestResultsIncrease\": 501201.0, \"positiveIncrease\": 41600.0, \"death\": 122898.0, \"deathIncrease\": 243.0, \"positiveRate\": 0.083, \"state\": \"US\", \"sma7d\": 49758.286}, {\"date\": \"2020-07-07T00:00:00\", \"totalTestResultsIncrease\": 634791.0, \"positiveIncrease\": 51766.0, \"death\": 123821.0, \"deathIncrease\": 923.0, \"positiveRate\": 0.082, \"state\": \"US\", \"sma7d\": 50373.143}, {\"date\": \"2020-07-08T00:00:00\", \"totalTestResultsIncrease\": 629102.0, \"positiveIncrease\": 62147.0, \"death\": 124628.0, \"deathIncrease\": 807.0, \"positiveRate\": 0.099, \"state\": \"US\", \"sma7d\": 52012.143}, {\"date\": \"2020-07-09T00:00:00\", \"totalTestResultsIncrease\": 703050.0, \"positiveIncrease\": 58836.0, \"death\": 125495.0, \"deathIncrease\": 867.0, \"positiveRate\": 0.084, \"state\": \"US\", \"sma7d\": 52727.857}, {\"date\": \"2020-07-10T00:00:00\", \"totalTestResultsIncrease\": 810806.0, \"positiveIncrease\": 66645.0, \"death\": 126349.0, \"deathIncrease\": 854.0, \"positiveRate\": 0.082, \"state\": \"US\", \"sma7d\": 54502.429}, {\"date\": \"2020-07-11T00:00:00\", \"totalTestResultsIncrease\": 698444.0, \"positiveIncrease\": 63007.0, \"death\": 127106.0, \"deathIncrease\": 757.0, \"positiveRate\": 0.09, \"state\": \"US\", \"sma7d\": 55684.286}, {\"date\": \"2020-07-12T00:00:00\", \"totalTestResultsIncrease\": 758324.0, \"positiveIncrease\": 60978.0, \"death\": 127582.0, \"deathIncrease\": 476.0, \"positiveRate\": 0.08, \"state\": \"US\", \"sma7d\": 57854.143}, {\"date\": \"2020-07-13T00:00:00\", \"totalTestResultsIncrease\": 693576.0, \"positiveIncrease\": 58465.0, \"death\": 127909.0, \"deathIncrease\": 327.0, \"positiveRate\": 0.084, \"state\": \"US\", \"sma7d\": 60263.429}, {\"date\": \"2020-07-14T00:00:00\", \"totalTestResultsIncrease\": 769982.0, \"positiveIncrease\": 62879.0, \"death\": 128645.0, \"deathIncrease\": 736.0, \"positiveRate\": 0.082, \"state\": \"US\", \"sma7d\": 61851.0}, {\"date\": \"2020-07-15T00:00:00\", \"totalTestResultsIncrease\": 761997.0, \"positiveIncrease\": 65382.0, \"death\": 129503.0, \"deathIncrease\": 858.0, \"positiveRate\": 0.086, \"state\": \"US\", \"sma7d\": 62313.143}, {\"date\": \"2020-07-16T00:00:00\", \"totalTestResultsIncrease\": 827564.0, \"positiveIncrease\": 70953.0, \"death\": 130450.0, \"deathIncrease\": 947.0, \"positiveRate\": 0.086, \"state\": \"US\", \"sma7d\": 64044.143}, {\"date\": \"2020-07-17T00:00:00\", \"totalTestResultsIncrease\": 837392.0, \"positiveIncrease\": 77233.0, \"death\": 131401.0, \"deathIncrease\": 951.0, \"positiveRate\": 0.092, \"state\": \"US\", \"sma7d\": 65556.714}, {\"date\": \"2020-07-18T00:00:00\", \"totalTestResultsIncrease\": 761632.0, \"positiveIncrease\": 65180.0, \"death\": 132273.0, \"deathIncrease\": 872.0, \"positiveRate\": 0.086, \"state\": \"US\", \"sma7d\": 65867.143}, {\"date\": \"2020-07-19T00:00:00\", \"totalTestResultsIncrease\": 798508.0, \"positiveIncrease\": 64884.0, \"death\": 132799.0, \"deathIncrease\": 526.0, \"positiveRate\": 0.081, \"state\": \"US\", \"sma7d\": 66425.143}, {\"date\": \"2020-07-20T00:00:00\", \"totalTestResultsIncrease\": 711015.0, \"positiveIncrease\": 56971.0, \"death\": 133162.0, \"deathIncrease\": 363.0, \"positiveRate\": 0.08, \"state\": \"US\", \"sma7d\": 66211.714}, {\"date\": \"2020-07-21T00:00:00\", \"totalTestResultsIncrease\": 750248.0, \"positiveIncrease\": 63642.0, \"death\": 134200.0, \"deathIncrease\": 1038.0, \"positiveRate\": 0.085, \"state\": \"US\", \"sma7d\": 66320.714}, {\"date\": \"2020-07-22T00:00:00\", \"totalTestResultsIncrease\": 795502.0, \"positiveIncrease\": 69150.0, \"death\": 135371.0, \"deathIncrease\": 1171.0, \"positiveRate\": 0.087, \"state\": \"US\", \"sma7d\": 66859.0}, {\"date\": \"2020-07-23T00:00:00\", \"totalTestResultsIncrease\": 840589.0, \"positiveIncrease\": 71354.0, \"death\": 136426.0, \"deathIncrease\": 1055.0, \"positiveRate\": 0.085, \"state\": \"US\", \"sma7d\": 66916.286}, {\"date\": \"2020-07-24T00:00:00\", \"totalTestResultsIncrease\": 926876.0, \"positiveIncrease\": 75204.0, \"death\": 137602.0, \"deathIncrease\": 1176.0, \"positiveRate\": 0.081, \"state\": \"US\", \"sma7d\": 66626.429}, {\"date\": \"2020-07-25T00:00:00\", \"totalTestResultsIncrease\": 784361.0, \"positiveIncrease\": 65075.0, \"death\": 138625.0, \"deathIncrease\": 1023.0, \"positiveRate\": 0.083, \"state\": \"US\", \"sma7d\": 66611.429}, {\"date\": \"2020-07-26T00:00:00\", \"totalTestResultsIncrease\": 855811.0, \"positiveIncrease\": 61713.0, \"death\": 139183.0, \"deathIncrease\": 558.0, \"positiveRate\": 0.072, \"state\": \"US\", \"sma7d\": 66158.429}, {\"date\": \"2020-07-27T00:00:00\", \"totalTestResultsIncrease\": 760840.0, \"positiveIncrease\": 55134.0, \"death\": 140242.0, \"deathIncrease\": 1059.0, \"positiveRate\": 0.072, \"state\": \"US\", \"sma7d\": 65896.0}, {\"date\": \"2020-07-28T00:00:00\", \"totalTestResultsIncrease\": 735487.0, \"positiveIncrease\": 56229.0, \"death\": 141363.0, \"deathIncrease\": 1121.0, \"positiveRate\": 0.076, \"state\": \"US\", \"sma7d\": 64837.0}, {\"date\": \"2020-07-29T00:00:00\", \"totalTestResultsIncrease\": 853326.0, \"positiveIncrease\": 66969.0, \"death\": 142855.0, \"deathIncrease\": 1492.0, \"positiveRate\": 0.078, \"state\": \"US\", \"sma7d\": 64525.429}, {\"date\": \"2020-07-30T00:00:00\", \"totalTestResultsIncrease\": 805854.0, \"positiveIncrease\": 69466.0, \"death\": 144114.0, \"deathIncrease\": 1259.0, \"positiveRate\": 0.086, \"state\": \"US\", \"sma7d\": 64255.714}, {\"date\": \"2020-07-31T00:00:00\", \"totalTestResultsIncrease\": 725982.0, \"positiveIncrease\": 67755.0, \"death\": 145425.0, \"deathIncrease\": 1311.0, \"positiveRate\": 0.093, \"state\": \"US\", \"sma7d\": 63191.571}, {\"date\": \"2020-08-01T00:00:00\", \"totalTestResultsIncrease\": 726010.0, \"positiveIncrease\": 60692.0, \"death\": 146614.0, \"deathIncrease\": 1189.0, \"positiveRate\": 0.084, \"state\": \"US\", \"sma7d\": 62565.429}, {\"date\": \"2020-08-02T00:00:00\", \"totalTestResultsIncrease\": 713169.0, \"positiveIncrease\": 48266.0, \"death\": 147112.0, \"deathIncrease\": 498.0, \"positiveRate\": 0.068, \"state\": \"US\", \"sma7d\": 60644.429}, {\"date\": \"2020-08-03T00:00:00\", \"totalTestResultsIncrease\": 731690.0, \"positiveIncrease\": 49561.0, \"death\": 147631.0, \"deathIncrease\": 519.0, \"positiveRate\": 0.068, \"state\": \"US\", \"sma7d\": 59848.286}, {\"date\": \"2020-08-04T00:00:00\", \"totalTestResultsIncrease\": 695586.0, \"positiveIncrease\": 51568.0, \"death\": 148807.0, \"deathIncrease\": 1176.0, \"positiveRate\": 0.074, \"state\": \"US\", \"sma7d\": 59182.429}, {\"date\": \"2020-08-05T00:00:00\", \"totalTestResultsIncrease\": 681537.0, \"positiveIncrease\": 52265.0, \"death\": 150232.0, \"deathIncrease\": 1425.0, \"positiveRate\": 0.077, \"state\": \"US\", \"sma7d\": 57081.857}, {\"date\": \"2020-08-06T00:00:00\", \"totalTestResultsIncrease\": 731700.0, \"positiveIncrease\": 54184.0, \"death\": 151483.0, \"deathIncrease\": 1251.0, \"positiveRate\": 0.074, \"state\": \"US\", \"sma7d\": 54898.714}, {\"date\": \"2020-08-07T00:00:00\", \"totalTestResultsIncrease\": 755604.0, \"positiveIncrease\": 61455.0, \"death\": 152791.0, \"deathIncrease\": 1333.0, \"positiveRate\": 0.081, \"state\": \"US\", \"sma7d\": 53998.714}]}}, {\"mode\": \"vega-lite\"});\n",
       "</script>"
      ],
      "text/plain": [
       "alt.LayerChart(...)"
      ]
     },
     "execution_count": 7,
     "metadata": {},
     "output_type": "execute_result"
    }
   ],
   "source": [
    "create_plot(us, 'positiveIncrease')"
   ]
  },
  {
   "cell_type": "code",
   "execution_count": 8,
   "metadata": {
    "execution": {
     "iopub.execute_input": "2020-08-07T22:33:28.949071Z",
     "iopub.status.busy": "2020-08-07T22:33:28.942981Z",
     "iopub.status.idle": "2020-08-07T22:33:29.041644Z",
     "shell.execute_reply": "2020-08-07T22:33:29.042216Z"
    },
    "papermill": {
     "duration": 0.121305,
     "end_time": "2020-08-07T22:33:29.042381",
     "exception": false,
     "start_time": "2020-08-07T22:33:28.921076",
     "status": "completed"
    },
    "tags": []
   },
   "outputs": [
    {
     "data": {
      "text/html": [
       "\n",
       "<div id=\"altair-viz-7e7c2ddf65434c5b883d9169936fdc0f\"></div>\n",
       "<script type=\"text/javascript\">\n",
       "  (function(spec, embedOpt){\n",
       "    let outputDiv = document.currentScript.previousElementSibling;\n",
       "    if (outputDiv.id !== \"altair-viz-7e7c2ddf65434c5b883d9169936fdc0f\") {\n",
       "      outputDiv = document.getElementById(\"altair-viz-7e7c2ddf65434c5b883d9169936fdc0f\");\n",
       "    }\n",
       "    const paths = {\n",
       "      \"vega\": \"https://cdn.jsdelivr.net/npm//vega@5?noext\",\n",
       "      \"vega-lib\": \"https://cdn.jsdelivr.net/npm//vega-lib?noext\",\n",
       "      \"vega-lite\": \"https://cdn.jsdelivr.net/npm//vega-lite@4.8.1?noext\",\n",
       "      \"vega-embed\": \"https://cdn.jsdelivr.net/npm//vega-embed@6?noext\",\n",
       "    };\n",
       "\n",
       "    function loadScript(lib) {\n",
       "      return new Promise(function(resolve, reject) {\n",
       "        var s = document.createElement('script');\n",
       "        s.src = paths[lib];\n",
       "        s.async = true;\n",
       "        s.onload = () => resolve(paths[lib]);\n",
       "        s.onerror = () => reject(`Error loading script: ${paths[lib]}`);\n",
       "        document.getElementsByTagName(\"head\")[0].appendChild(s);\n",
       "      });\n",
       "    }\n",
       "\n",
       "    function showError(err) {\n",
       "      outputDiv.innerHTML = `<div class=\"error\" style=\"color:red;\">${err}</div>`;\n",
       "      throw err;\n",
       "    }\n",
       "\n",
       "    function displayChart(vegaEmbed) {\n",
       "      vegaEmbed(outputDiv, spec, embedOpt)\n",
       "        .catch(err => showError(`Javascript Error: ${err.message}<br>This usually means there's a typo in your chart specification. See the javascript console for the full traceback.`));\n",
       "    }\n",
       "\n",
       "    if(typeof define === \"function\" && define.amd) {\n",
       "      requirejs.config({paths});\n",
       "      require([\"vega-embed\"], displayChart, err => showError(`Error loading script: ${err.message}`));\n",
       "    } else if (typeof vegaEmbed === \"function\") {\n",
       "      displayChart(vegaEmbed);\n",
       "    } else {\n",
       "      loadScript(\"vega\")\n",
       "        .then(() => loadScript(\"vega-lite\"))\n",
       "        .then(() => loadScript(\"vega-embed\"))\n",
       "        .catch(showError)\n",
       "        .then(() => displayChart(vegaEmbed));\n",
       "    }\n",
       "  })({\"config\": {\"view\": {\"continuousWidth\": 400, \"continuousHeight\": 300}}, \"layer\": [{\"layer\": [{\"mark\": {\"type\": \"point\", \"size\": 75}, \"encoding\": {\"tooltip\": [{\"type\": \"temporal\", \"field\": \"date\"}, {\"type\": \"quantitative\", \"field\": \"positiveRate\"}, {\"type\": \"quantitative\", \"field\": \"sma7d\"}], \"x\": {\"type\": \"temporal\", \"field\": \"date\"}, \"y\": {\"type\": \"quantitative\", \"field\": \"positiveRate\"}}, \"selection\": {\"selector004\": {\"type\": \"interval\", \"bind\": \"scales\", \"encodings\": [\"x\", \"y\"]}}}, {\"mark\": {\"type\": \"line\", \"color\": \"purple\"}, \"encoding\": {\"x\": {\"type\": \"temporal\", \"field\": \"date\"}, \"y\": {\"type\": \"quantitative\", \"field\": \"sma7d\"}}}]}, {\"mark\": {\"type\": \"rule\", \"color\": \"#aaa\"}, \"encoding\": {\"x\": {\"type\": \"temporal\", \"field\": \"date\"}}, \"transform\": [{\"filter\": {\"selection\": \"selector003\"}}]}, {\"mark\": \"circle\", \"encoding\": {\"opacity\": {\"condition\": {\"value\": 1, \"selection\": \"selector003\"}, \"value\": 0}, \"tooltip\": [{\"type\": \"temporal\", \"field\": \"date\"}, {\"type\": \"quantitative\", \"field\": \"positiveRate\"}, {\"type\": \"quantitative\", \"field\": \"sma7d\"}], \"x\": {\"type\": \"temporal\", \"field\": \"date\"}, \"y\": {\"type\": \"quantitative\", \"field\": \"positiveRate\"}}, \"selection\": {\"selector003\": {\"type\": \"single\", \"encodings\": [\"x\"], \"on\": \"mouseover\", \"nearest\": true, \"empty\": \"none\"}}}, {\"mark\": {\"type\": \"text\", \"align\": \"left\", \"dx\": 5, \"dy\": -5, \"stroke\": \"white\", \"strokeWidth\": 2}, \"encoding\": {\"text\": {\"type\": \"quantitative\", \"field\": \"positiveRate\"}, \"tooltip\": [{\"type\": \"temporal\", \"field\": \"date\"}, {\"type\": \"quantitative\", \"field\": \"positiveRate\"}, {\"type\": \"quantitative\", \"field\": \"sma7d\"}], \"x\": {\"type\": \"temporal\", \"field\": \"date\"}, \"y\": {\"type\": \"quantitative\", \"field\": \"positiveRate\"}}, \"transform\": [{\"filter\": {\"selection\": \"selector003\"}}]}, {\"mark\": {\"type\": \"text\", \"align\": \"left\", \"dx\": 5, \"dy\": -5}, \"encoding\": {\"text\": {\"type\": \"quantitative\", \"field\": \"positiveRate\"}, \"tooltip\": [{\"type\": \"temporal\", \"field\": \"date\"}, {\"type\": \"quantitative\", \"field\": \"positiveRate\"}, {\"type\": \"quantitative\", \"field\": \"sma7d\"}], \"x\": {\"type\": \"temporal\", \"field\": \"date\"}, \"y\": {\"type\": \"quantitative\", \"field\": \"positiveRate\"}}, \"transform\": [{\"filter\": {\"selection\": \"selector003\"}}]}], \"data\": {\"name\": \"data-a7cc174339738348ec6739b7b2f95a83\"}, \"height\": 400, \"title\": \"US: positiveRate\", \"width\": 500, \"$schema\": \"https://vega.github.io/schema/vega-lite/v4.8.1.json\", \"datasets\": {\"data-a7cc174339738348ec6739b7b2f95a83\": [{\"date\": \"2020-06-13T00:00:00\", \"totalTestResultsIncrease\": 496428.0, \"positiveIncrease\": 25341.0, \"death\": 110914.0, \"deathIncrease\": 694.0, \"positiveRate\": 0.051, \"state\": \"US\", \"sma7d\": 0.045}, {\"date\": \"2020-06-14T00:00:00\", \"totalTestResultsIncrease\": 485220.0, \"positiveIncrease\": 21373.0, \"death\": 111270.0, \"deathIncrease\": 356.0, \"positiveRate\": 0.044, \"state\": \"US\", \"sma7d\": 0.045}, {\"date\": \"2020-06-15T00:00:00\", \"totalTestResultsIncrease\": 432811.0, \"positiveIncrease\": 18510.0, \"death\": 111651.0, \"deathIncrease\": 381.0, \"positiveRate\": 0.043, \"state\": \"US\", \"sma7d\": 0.045}, {\"date\": \"2020-06-16T00:00:00\", \"totalTestResultsIncrease\": 464529.0, \"positiveIncrease\": 23435.0, \"death\": 112382.0, \"deathIncrease\": 731.0, \"positiveRate\": 0.05, \"state\": \"US\", \"sma7d\": 0.046}, {\"date\": \"2020-06-17T00:00:00\", \"totalTestResultsIncrease\": 485290.0, \"positiveIncrease\": 23873.0, \"death\": 113149.0, \"deathIncrease\": 767.0, \"positiveRate\": 0.049, \"state\": \"US\", \"sma7d\": 0.046}, {\"date\": \"2020-06-18T00:00:00\", \"totalTestResultsIncrease\": 516193.0, \"positiveIncrease\": 27527.0, \"death\": 113854.0, \"deathIncrease\": 705.0, \"positiveRate\": 0.053, \"state\": \"US\", \"sma7d\": 0.047}, {\"date\": \"2020-06-19T00:00:00\", \"totalTestResultsIncrease\": 573992.0, \"positiveIncrease\": 31046.0, \"death\": 114509.0, \"deathIncrease\": 655.0, \"positiveRate\": 0.054, \"state\": \"US\", \"sma7d\": 0.049}, {\"date\": \"2020-06-20T00:00:00\", \"totalTestResultsIncrease\": 559215.0, \"positiveIncrease\": 31994.0, \"death\": 115138.0, \"deathIncrease\": 629.0, \"positiveRate\": 0.057, \"state\": \"US\", \"sma7d\": 0.05}, {\"date\": \"2020-06-21T00:00:00\", \"totalTestResultsIncrease\": 511098.0, \"positiveIncrease\": 27284.0, \"death\": 115432.0, \"deathIncrease\": 294.0, \"positiveRate\": 0.053, \"state\": \"US\", \"sma7d\": 0.051}, {\"date\": \"2020-06-22T00:00:00\", \"totalTestResultsIncrease\": 466605.0, \"positiveIncrease\": 27017.0, \"death\": 115718.0, \"deathIncrease\": 286.0, \"positiveRate\": 0.058, \"state\": \"US\", \"sma7d\": 0.053}, {\"date\": \"2020-06-23T00:00:00\", \"totalTestResultsIncrease\": 491719.0, \"positiveIncrease\": 33021.0, \"death\": 116428.0, \"deathIncrease\": 710.0, \"positiveRate\": 0.067, \"state\": \"US\", \"sma7d\": 0.056}, {\"date\": \"2020-06-24T00:00:00\", \"totalTestResultsIncrease\": 519202.0, \"positiveIncrease\": 38684.0, \"death\": 117152.0, \"deathIncrease\": 724.0, \"positiveRate\": 0.075, \"state\": \"US\", \"sma7d\": 0.06}, {\"date\": \"2020-06-25T00:00:00\", \"totalTestResultsIncrease\": 637148.0, \"positiveIncrease\": 39072.0, \"death\": 117799.0, \"deathIncrease\": 647.0, \"positiveRate\": 0.061, \"state\": \"US\", \"sma7d\": 0.061}, {\"date\": \"2020-06-26T00:00:00\", \"totalTestResultsIncrease\": 606747.0, \"positiveIncrease\": 44421.0, \"death\": 118436.0, \"deathIncrease\": 637.0, \"positiveRate\": 0.073, \"state\": \"US\", \"sma7d\": 0.063}, {\"date\": \"2020-06-27T00:00:00\", \"totalTestResultsIncrease\": 599386.0, \"positiveIncrease\": 43783.0, \"death\": 118947.0, \"deathIncrease\": 511.0, \"positiveRate\": 0.073, \"state\": \"US\", \"sma7d\": 0.066}, {\"date\": \"2020-06-28T00:00:00\", \"totalTestResultsIncrease\": 583898.0, \"positiveIncrease\": 41857.0, \"death\": 119218.0, \"deathIncrease\": 271.0, \"positiveRate\": 0.072, \"state\": \"US\", \"sma7d\": 0.068}, {\"date\": \"2020-06-29T00:00:00\", \"totalTestResultsIncrease\": 646824.0, \"positiveIncrease\": 39175.0, \"death\": 119550.0, \"deathIncrease\": 332.0, \"positiveRate\": 0.061, \"state\": \"US\", \"sma7d\": 0.069}, {\"date\": \"2020-06-30T00:00:00\", \"totalTestResultsIncrease\": 624063.0, \"positiveIncrease\": 47462.0, \"death\": 120146.0, \"deathIncrease\": 596.0, \"positiveRate\": 0.076, \"state\": \"US\", \"sma7d\": 0.07}, {\"date\": \"2020-07-01T00:00:00\", \"totalTestResultsIncrease\": 633286.0, \"positiveIncrease\": 50674.0, \"death\": 120847.0, \"deathIncrease\": 701.0, \"positiveRate\": 0.08, \"state\": \"US\", \"sma7d\": 0.071}, {\"date\": \"2020-07-02T00:00:00\", \"totalTestResultsIncrease\": 662316.0, \"positiveIncrease\": 53826.0, \"death\": 121542.0, \"deathIncrease\": 695.0, \"positiveRate\": 0.081, \"state\": \"US\", \"sma7d\": 0.074}, {\"date\": \"2020-07-03T00:00:00\", \"totalTestResultsIncrease\": 710949.0, \"positiveIncrease\": 54223.0, \"death\": 122140.0, \"deathIncrease\": 598.0, \"positiveRate\": 0.076, \"state\": \"US\", \"sma7d\": 0.074}, {\"date\": \"2020-07-04T00:00:00\", \"totalTestResultsIncrease\": 642171.0, \"positiveIncrease\": 54734.0, \"death\": 122446.0, \"deathIncrease\": 306.0, \"positiveRate\": 0.085, \"state\": \"US\", \"sma7d\": 0.076}, {\"date\": \"2020-07-05T00:00:00\", \"totalTestResultsIncrease\": 681450.0, \"positiveIncrease\": 45789.0, \"death\": 122655.0, \"deathIncrease\": 209.0, \"positiveRate\": 0.067, \"state\": \"US\", \"sma7d\": 0.075}, {\"date\": \"2020-07-06T00:00:00\", \"totalTestResultsIncrease\": 501201.0, \"positiveIncrease\": 41600.0, \"death\": 122898.0, \"deathIncrease\": 243.0, \"positiveRate\": 0.083, \"state\": \"US\", \"sma7d\": 0.078}, {\"date\": \"2020-07-07T00:00:00\", \"totalTestResultsIncrease\": 634791.0, \"positiveIncrease\": 51766.0, \"death\": 123821.0, \"deathIncrease\": 923.0, \"positiveRate\": 0.082, \"state\": \"US\", \"sma7d\": 0.079}, {\"date\": \"2020-07-08T00:00:00\", \"totalTestResultsIncrease\": 629102.0, \"positiveIncrease\": 62147.0, \"death\": 124628.0, \"deathIncrease\": 807.0, \"positiveRate\": 0.099, \"state\": \"US\", \"sma7d\": 0.082}, {\"date\": \"2020-07-09T00:00:00\", \"totalTestResultsIncrease\": 703050.0, \"positiveIncrease\": 58836.0, \"death\": 125495.0, \"deathIncrease\": 867.0, \"positiveRate\": 0.084, \"state\": \"US\", \"sma7d\": 0.082}, {\"date\": \"2020-07-10T00:00:00\", \"totalTestResultsIncrease\": 810806.0, \"positiveIncrease\": 66645.0, \"death\": 126349.0, \"deathIncrease\": 854.0, \"positiveRate\": 0.082, \"state\": \"US\", \"sma7d\": 0.083}, {\"date\": \"2020-07-11T00:00:00\", \"totalTestResultsIncrease\": 698444.0, \"positiveIncrease\": 63007.0, \"death\": 127106.0, \"deathIncrease\": 757.0, \"positiveRate\": 0.09, \"state\": \"US\", \"sma7d\": 0.084}, {\"date\": \"2020-07-12T00:00:00\", \"totalTestResultsIncrease\": 758324.0, \"positiveIncrease\": 60978.0, \"death\": 127582.0, \"deathIncrease\": 476.0, \"positiveRate\": 0.08, \"state\": \"US\", \"sma7d\": 0.086}, {\"date\": \"2020-07-13T00:00:00\", \"totalTestResultsIncrease\": 693576.0, \"positiveIncrease\": 58465.0, \"death\": 127909.0, \"deathIncrease\": 327.0, \"positiveRate\": 0.084, \"state\": \"US\", \"sma7d\": 0.086}, {\"date\": \"2020-07-14T00:00:00\", \"totalTestResultsIncrease\": 769982.0, \"positiveIncrease\": 62879.0, \"death\": 128645.0, \"deathIncrease\": 736.0, \"positiveRate\": 0.082, \"state\": \"US\", \"sma7d\": 0.086}, {\"date\": \"2020-07-15T00:00:00\", \"totalTestResultsIncrease\": 761997.0, \"positiveIncrease\": 65382.0, \"death\": 129503.0, \"deathIncrease\": 858.0, \"positiveRate\": 0.086, \"state\": \"US\", \"sma7d\": 0.084}, {\"date\": \"2020-07-16T00:00:00\", \"totalTestResultsIncrease\": 827564.0, \"positiveIncrease\": 70953.0, \"death\": 130450.0, \"deathIncrease\": 947.0, \"positiveRate\": 0.086, \"state\": \"US\", \"sma7d\": 0.084}, {\"date\": \"2020-07-17T00:00:00\", \"totalTestResultsIncrease\": 837392.0, \"positiveIncrease\": 77233.0, \"death\": 131401.0, \"deathIncrease\": 951.0, \"positiveRate\": 0.092, \"state\": \"US\", \"sma7d\": 0.086}, {\"date\": \"2020-07-18T00:00:00\", \"totalTestResultsIncrease\": 761632.0, \"positiveIncrease\": 65180.0, \"death\": 132273.0, \"deathIncrease\": 872.0, \"positiveRate\": 0.086, \"state\": \"US\", \"sma7d\": 0.085}, {\"date\": \"2020-07-19T00:00:00\", \"totalTestResultsIncrease\": 798508.0, \"positiveIncrease\": 64884.0, \"death\": 132799.0, \"deathIncrease\": 526.0, \"positiveRate\": 0.081, \"state\": \"US\", \"sma7d\": 0.085}, {\"date\": \"2020-07-20T00:00:00\", \"totalTestResultsIncrease\": 711015.0, \"positiveIncrease\": 56971.0, \"death\": 133162.0, \"deathIncrease\": 363.0, \"positiveRate\": 0.08, \"state\": \"US\", \"sma7d\": 0.085}, {\"date\": \"2020-07-21T00:00:00\", \"totalTestResultsIncrease\": 750248.0, \"positiveIncrease\": 63642.0, \"death\": 134200.0, \"deathIncrease\": 1038.0, \"positiveRate\": 0.085, \"state\": \"US\", \"sma7d\": 0.085}, {\"date\": \"2020-07-22T00:00:00\", \"totalTestResultsIncrease\": 795502.0, \"positiveIncrease\": 69150.0, \"death\": 135371.0, \"deathIncrease\": 1171.0, \"positiveRate\": 0.087, \"state\": \"US\", \"sma7d\": 0.085}, {\"date\": \"2020-07-23T00:00:00\", \"totalTestResultsIncrease\": 840589.0, \"positiveIncrease\": 71354.0, \"death\": 136426.0, \"deathIncrease\": 1055.0, \"positiveRate\": 0.085, \"state\": \"US\", \"sma7d\": 0.085}, {\"date\": \"2020-07-24T00:00:00\", \"totalTestResultsIncrease\": 926876.0, \"positiveIncrease\": 75204.0, \"death\": 137602.0, \"deathIncrease\": 1176.0, \"positiveRate\": 0.081, \"state\": \"US\", \"sma7d\": 0.084}, {\"date\": \"2020-07-25T00:00:00\", \"totalTestResultsIncrease\": 784361.0, \"positiveIncrease\": 65075.0, \"death\": 138625.0, \"deathIncrease\": 1023.0, \"positiveRate\": 0.083, \"state\": \"US\", \"sma7d\": 0.083}, {\"date\": \"2020-07-26T00:00:00\", \"totalTestResultsIncrease\": 855811.0, \"positiveIncrease\": 61713.0, \"death\": 139183.0, \"deathIncrease\": 558.0, \"positiveRate\": 0.072, \"state\": \"US\", \"sma7d\": 0.082}, {\"date\": \"2020-07-27T00:00:00\", \"totalTestResultsIncrease\": 760840.0, \"positiveIncrease\": 55134.0, \"death\": 140242.0, \"deathIncrease\": 1059.0, \"positiveRate\": 0.072, \"state\": \"US\", \"sma7d\": 0.081}, {\"date\": \"2020-07-28T00:00:00\", \"totalTestResultsIncrease\": 735487.0, \"positiveIncrease\": 56229.0, \"death\": 141363.0, \"deathIncrease\": 1121.0, \"positiveRate\": 0.076, \"state\": \"US\", \"sma7d\": 0.079}, {\"date\": \"2020-07-29T00:00:00\", \"totalTestResultsIncrease\": 853326.0, \"positiveIncrease\": 66969.0, \"death\": 142855.0, \"deathIncrease\": 1492.0, \"positiveRate\": 0.078, \"state\": \"US\", \"sma7d\": 0.078}, {\"date\": \"2020-07-30T00:00:00\", \"totalTestResultsIncrease\": 805854.0, \"positiveIncrease\": 69466.0, \"death\": 144114.0, \"deathIncrease\": 1259.0, \"positiveRate\": 0.086, \"state\": \"US\", \"sma7d\": 0.078}, {\"date\": \"2020-07-31T00:00:00\", \"totalTestResultsIncrease\": 725982.0, \"positiveIncrease\": 67755.0, \"death\": 145425.0, \"deathIncrease\": 1311.0, \"positiveRate\": 0.093, \"state\": \"US\", \"sma7d\": 0.08}, {\"date\": \"2020-08-01T00:00:00\", \"totalTestResultsIncrease\": 726010.0, \"positiveIncrease\": 60692.0, \"death\": 146614.0, \"deathIncrease\": 1189.0, \"positiveRate\": 0.084, \"state\": \"US\", \"sma7d\": 0.08}, {\"date\": \"2020-08-02T00:00:00\", \"totalTestResultsIncrease\": 713169.0, \"positiveIncrease\": 48266.0, \"death\": 147112.0, \"deathIncrease\": 498.0, \"positiveRate\": 0.068, \"state\": \"US\", \"sma7d\": 0.08}, {\"date\": \"2020-08-03T00:00:00\", \"totalTestResultsIncrease\": 731690.0, \"positiveIncrease\": 49561.0, \"death\": 147631.0, \"deathIncrease\": 519.0, \"positiveRate\": 0.068, \"state\": \"US\", \"sma7d\": 0.079}, {\"date\": \"2020-08-04T00:00:00\", \"totalTestResultsIncrease\": 695586.0, \"positiveIncrease\": 51568.0, \"death\": 148807.0, \"deathIncrease\": 1176.0, \"positiveRate\": 0.074, \"state\": \"US\", \"sma7d\": 0.079}, {\"date\": \"2020-08-05T00:00:00\", \"totalTestResultsIncrease\": 681537.0, \"positiveIncrease\": 52265.0, \"death\": 150232.0, \"deathIncrease\": 1425.0, \"positiveRate\": 0.077, \"state\": \"US\", \"sma7d\": 0.079}, {\"date\": \"2020-08-06T00:00:00\", \"totalTestResultsIncrease\": 731700.0, \"positiveIncrease\": 54184.0, \"death\": 151483.0, \"deathIncrease\": 1251.0, \"positiveRate\": 0.074, \"state\": \"US\", \"sma7d\": 0.077}, {\"date\": \"2020-08-07T00:00:00\", \"totalTestResultsIncrease\": 755604.0, \"positiveIncrease\": 61455.0, \"death\": 152791.0, \"deathIncrease\": 1333.0, \"positiveRate\": 0.081, \"state\": \"US\", \"sma7d\": 0.075}]}}, {\"mode\": \"vega-lite\"});\n",
       "</script>"
      ],
      "text/plain": [
       "alt.LayerChart(...)"
      ]
     },
     "execution_count": 8,
     "metadata": {},
     "output_type": "execute_result"
    }
   ],
   "source": [
    "create_plot(us, 'positiveRate')"
   ]
  },
  {
   "cell_type": "code",
   "execution_count": 9,
   "metadata": {
    "execution": {
     "iopub.execute_input": "2020-08-07T22:33:29.081151Z",
     "iopub.status.busy": "2020-08-07T22:33:29.080547Z",
     "iopub.status.idle": "2020-08-07T22:33:29.181357Z",
     "shell.execute_reply": "2020-08-07T22:33:29.180844Z"
    },
    "papermill": {
     "duration": 0.123099,
     "end_time": "2020-08-07T22:33:29.181526",
     "exception": false,
     "start_time": "2020-08-07T22:33:29.058427",
     "status": "completed"
    },
    "tags": []
   },
   "outputs": [
    {
     "data": {
      "text/html": [
       "\n",
       "<div id=\"altair-viz-620ac2b0e82145aeb23d4fddd68c2f82\"></div>\n",
       "<script type=\"text/javascript\">\n",
       "  (function(spec, embedOpt){\n",
       "    let outputDiv = document.currentScript.previousElementSibling;\n",
       "    if (outputDiv.id !== \"altair-viz-620ac2b0e82145aeb23d4fddd68c2f82\") {\n",
       "      outputDiv = document.getElementById(\"altair-viz-620ac2b0e82145aeb23d4fddd68c2f82\");\n",
       "    }\n",
       "    const paths = {\n",
       "      \"vega\": \"https://cdn.jsdelivr.net/npm//vega@5?noext\",\n",
       "      \"vega-lib\": \"https://cdn.jsdelivr.net/npm//vega-lib?noext\",\n",
       "      \"vega-lite\": \"https://cdn.jsdelivr.net/npm//vega-lite@4.8.1?noext\",\n",
       "      \"vega-embed\": \"https://cdn.jsdelivr.net/npm//vega-embed@6?noext\",\n",
       "    };\n",
       "\n",
       "    function loadScript(lib) {\n",
       "      return new Promise(function(resolve, reject) {\n",
       "        var s = document.createElement('script');\n",
       "        s.src = paths[lib];\n",
       "        s.async = true;\n",
       "        s.onload = () => resolve(paths[lib]);\n",
       "        s.onerror = () => reject(`Error loading script: ${paths[lib]}`);\n",
       "        document.getElementsByTagName(\"head\")[0].appendChild(s);\n",
       "      });\n",
       "    }\n",
       "\n",
       "    function showError(err) {\n",
       "      outputDiv.innerHTML = `<div class=\"error\" style=\"color:red;\">${err}</div>`;\n",
       "      throw err;\n",
       "    }\n",
       "\n",
       "    function displayChart(vegaEmbed) {\n",
       "      vegaEmbed(outputDiv, spec, embedOpt)\n",
       "        .catch(err => showError(`Javascript Error: ${err.message}<br>This usually means there's a typo in your chart specification. See the javascript console for the full traceback.`));\n",
       "    }\n",
       "\n",
       "    if(typeof define === \"function\" && define.amd) {\n",
       "      requirejs.config({paths});\n",
       "      require([\"vega-embed\"], displayChart, err => showError(`Error loading script: ${err.message}`));\n",
       "    } else if (typeof vegaEmbed === \"function\") {\n",
       "      displayChart(vegaEmbed);\n",
       "    } else {\n",
       "      loadScript(\"vega\")\n",
       "        .then(() => loadScript(\"vega-lite\"))\n",
       "        .then(() => loadScript(\"vega-embed\"))\n",
       "        .catch(showError)\n",
       "        .then(() => displayChart(vegaEmbed));\n",
       "    }\n",
       "  })({\"config\": {\"view\": {\"continuousWidth\": 400, \"continuousHeight\": 300}}, \"layer\": [{\"layer\": [{\"mark\": {\"type\": \"point\", \"size\": 75}, \"encoding\": {\"tooltip\": [{\"type\": \"temporal\", \"field\": \"date\"}, {\"type\": \"quantitative\", \"field\": \"deathIncrease\"}, {\"type\": \"quantitative\", \"field\": \"sma7d\"}], \"x\": {\"type\": \"temporal\", \"field\": \"date\"}, \"y\": {\"type\": \"quantitative\", \"field\": \"deathIncrease\"}}, \"selection\": {\"selector006\": {\"type\": \"interval\", \"bind\": \"scales\", \"encodings\": [\"x\", \"y\"]}}}, {\"mark\": {\"type\": \"line\", \"color\": \"purple\"}, \"encoding\": {\"x\": {\"type\": \"temporal\", \"field\": \"date\"}, \"y\": {\"type\": \"quantitative\", \"field\": \"sma7d\"}}}]}, {\"mark\": {\"type\": \"rule\", \"color\": \"#aaa\"}, \"encoding\": {\"x\": {\"type\": \"temporal\", \"field\": \"date\"}}, \"transform\": [{\"filter\": {\"selection\": \"selector005\"}}]}, {\"mark\": \"circle\", \"encoding\": {\"opacity\": {\"condition\": {\"value\": 1, \"selection\": \"selector005\"}, \"value\": 0}, \"tooltip\": [{\"type\": \"temporal\", \"field\": \"date\"}, {\"type\": \"quantitative\", \"field\": \"deathIncrease\"}, {\"type\": \"quantitative\", \"field\": \"sma7d\"}], \"x\": {\"type\": \"temporal\", \"field\": \"date\"}, \"y\": {\"type\": \"quantitative\", \"field\": \"deathIncrease\"}}, \"selection\": {\"selector005\": {\"type\": \"single\", \"encodings\": [\"x\"], \"on\": \"mouseover\", \"nearest\": true, \"empty\": \"none\"}}}, {\"mark\": {\"type\": \"text\", \"align\": \"left\", \"dx\": 5, \"dy\": -5, \"stroke\": \"white\", \"strokeWidth\": 2}, \"encoding\": {\"text\": {\"type\": \"quantitative\", \"field\": \"deathIncrease\"}, \"tooltip\": [{\"type\": \"temporal\", \"field\": \"date\"}, {\"type\": \"quantitative\", \"field\": \"deathIncrease\"}, {\"type\": \"quantitative\", \"field\": \"sma7d\"}], \"x\": {\"type\": \"temporal\", \"field\": \"date\"}, \"y\": {\"type\": \"quantitative\", \"field\": \"deathIncrease\"}}, \"transform\": [{\"filter\": {\"selection\": \"selector005\"}}]}, {\"mark\": {\"type\": \"text\", \"align\": \"left\", \"dx\": 5, \"dy\": -5}, \"encoding\": {\"text\": {\"type\": \"quantitative\", \"field\": \"deathIncrease\"}, \"tooltip\": [{\"type\": \"temporal\", \"field\": \"date\"}, {\"type\": \"quantitative\", \"field\": \"deathIncrease\"}, {\"type\": \"quantitative\", \"field\": \"sma7d\"}], \"x\": {\"type\": \"temporal\", \"field\": \"date\"}, \"y\": {\"type\": \"quantitative\", \"field\": \"deathIncrease\"}}, \"transform\": [{\"filter\": {\"selection\": \"selector005\"}}]}], \"data\": {\"name\": \"data-ef5779b589d3096f37ae18437f791173\"}, \"height\": 400, \"title\": \"US: deathIncrease\", \"width\": 500, \"$schema\": \"https://vega.github.io/schema/vega-lite/v4.8.1.json\", \"datasets\": {\"data-ef5779b589d3096f37ae18437f791173\": [{\"date\": \"2020-06-13T00:00:00\", \"totalTestResultsIncrease\": 496428.0, \"positiveIncrease\": 25341.0, \"death\": 110914.0, \"deathIncrease\": 694.0, \"positiveRate\": 0.051, \"state\": \"US\", \"sma7d\": 752.286}, {\"date\": \"2020-06-14T00:00:00\", \"totalTestResultsIncrease\": 485220.0, \"positiveIncrease\": 21373.0, \"death\": 111270.0, \"deathIncrease\": 356.0, \"positiveRate\": 0.044, \"state\": \"US\", \"sma7d\": 739.286}, {\"date\": \"2020-06-15T00:00:00\", \"totalTestResultsIncrease\": 432811.0, \"positiveIncrease\": 18510.0, \"death\": 111651.0, \"deathIncrease\": 381.0, \"positiveRate\": 0.043, \"state\": \"US\", \"sma7d\": 699.286}, {\"date\": \"2020-06-16T00:00:00\", \"totalTestResultsIncrease\": 464529.0, \"positiveIncrease\": 23435.0, \"death\": 112382.0, \"deathIncrease\": 731.0, \"positiveRate\": 0.05, \"state\": \"US\", \"sma7d\": 674.857}, {\"date\": \"2020-06-17T00:00:00\", \"totalTestResultsIncrease\": 485290.0, \"positiveIncrease\": 23873.0, \"death\": 113149.0, \"deathIncrease\": 767.0, \"positiveRate\": 0.049, \"state\": \"US\", \"sma7d\": 657.714}, {\"date\": \"2020-06-18T00:00:00\", \"totalTestResultsIncrease\": 516193.0, \"positiveIncrease\": 27527.0, \"death\": 113854.0, \"deathIncrease\": 705.0, \"positiveRate\": 0.053, \"state\": \"US\", \"sma7d\": 630.0}, {\"date\": \"2020-06-19T00:00:00\", \"totalTestResultsIncrease\": 573992.0, \"positiveIncrease\": 31046.0, \"death\": 114509.0, \"deathIncrease\": 655.0, \"positiveRate\": 0.054, \"state\": \"US\", \"sma7d\": 612.714}, {\"date\": \"2020-06-20T00:00:00\", \"totalTestResultsIncrease\": 559215.0, \"positiveIncrease\": 31994.0, \"death\": 115138.0, \"deathIncrease\": 629.0, \"positiveRate\": 0.057, \"state\": \"US\", \"sma7d\": 603.429}, {\"date\": \"2020-06-21T00:00:00\", \"totalTestResultsIncrease\": 511098.0, \"positiveIncrease\": 27284.0, \"death\": 115432.0, \"deathIncrease\": 294.0, \"positiveRate\": 0.053, \"state\": \"US\", \"sma7d\": 594.571}, {\"date\": \"2020-06-22T00:00:00\", \"totalTestResultsIncrease\": 466605.0, \"positiveIncrease\": 27017.0, \"death\": 115718.0, \"deathIncrease\": 286.0, \"positiveRate\": 0.058, \"state\": \"US\", \"sma7d\": 581.0}, {\"date\": \"2020-06-23T00:00:00\", \"totalTestResultsIncrease\": 491719.0, \"positiveIncrease\": 33021.0, \"death\": 116428.0, \"deathIncrease\": 710.0, \"positiveRate\": 0.067, \"state\": \"US\", \"sma7d\": 578.0}, {\"date\": \"2020-06-24T00:00:00\", \"totalTestResultsIncrease\": 519202.0, \"positiveIncrease\": 38684.0, \"death\": 117152.0, \"deathIncrease\": 724.0, \"positiveRate\": 0.075, \"state\": \"US\", \"sma7d\": 571.857}, {\"date\": \"2020-06-25T00:00:00\", \"totalTestResultsIncrease\": 637148.0, \"positiveIncrease\": 39072.0, \"death\": 117799.0, \"deathIncrease\": 647.0, \"positiveRate\": 0.061, \"state\": \"US\", \"sma7d\": 563.571}, {\"date\": \"2020-06-26T00:00:00\", \"totalTestResultsIncrease\": 606747.0, \"positiveIncrease\": 44421.0, \"death\": 118436.0, \"deathIncrease\": 637.0, \"positiveRate\": 0.073, \"state\": \"US\", \"sma7d\": 561.0}, {\"date\": \"2020-06-27T00:00:00\", \"totalTestResultsIncrease\": 599386.0, \"positiveIncrease\": 43783.0, \"death\": 118947.0, \"deathIncrease\": 511.0, \"positiveRate\": 0.073, \"state\": \"US\", \"sma7d\": 544.143}, {\"date\": \"2020-06-28T00:00:00\", \"totalTestResultsIncrease\": 583898.0, \"positiveIncrease\": 41857.0, \"death\": 119218.0, \"deathIncrease\": 271.0, \"positiveRate\": 0.072, \"state\": \"US\", \"sma7d\": 540.857}, {\"date\": \"2020-06-29T00:00:00\", \"totalTestResultsIncrease\": 646824.0, \"positiveIncrease\": 39175.0, \"death\": 119550.0, \"deathIncrease\": 332.0, \"positiveRate\": 0.061, \"state\": \"US\", \"sma7d\": 547.429}, {\"date\": \"2020-06-30T00:00:00\", \"totalTestResultsIncrease\": 624063.0, \"positiveIncrease\": 47462.0, \"death\": 120146.0, \"deathIncrease\": 596.0, \"positiveRate\": 0.076, \"state\": \"US\", \"sma7d\": 531.143}, {\"date\": \"2020-07-01T00:00:00\", \"totalTestResultsIncrease\": 633286.0, \"positiveIncrease\": 50674.0, \"death\": 120847.0, \"deathIncrease\": 701.0, \"positiveRate\": 0.08, \"state\": \"US\", \"sma7d\": 527.857}, {\"date\": \"2020-07-02T00:00:00\", \"totalTestResultsIncrease\": 662316.0, \"positiveIncrease\": 53826.0, \"death\": 121542.0, \"deathIncrease\": 695.0, \"positiveRate\": 0.081, \"state\": \"US\", \"sma7d\": 534.714}, {\"date\": \"2020-07-03T00:00:00\", \"totalTestResultsIncrease\": 710949.0, \"positiveIncrease\": 54223.0, \"death\": 122140.0, \"deathIncrease\": 598.0, \"positiveRate\": 0.076, \"state\": \"US\", \"sma7d\": 529.143}, {\"date\": \"2020-07-04T00:00:00\", \"totalTestResultsIncrease\": 642171.0, \"positiveIncrease\": 54734.0, \"death\": 122446.0, \"deathIncrease\": 306.0, \"positiveRate\": 0.085, \"state\": \"US\", \"sma7d\": 499.857}, {\"date\": \"2020-07-05T00:00:00\", \"totalTestResultsIncrease\": 681450.0, \"positiveIncrease\": 45789.0, \"death\": 122655.0, \"deathIncrease\": 209.0, \"positiveRate\": 0.067, \"state\": \"US\", \"sma7d\": 491.0}, {\"date\": \"2020-07-06T00:00:00\", \"totalTestResultsIncrease\": 501201.0, \"positiveIncrease\": 41600.0, \"death\": 122898.0, \"deathIncrease\": 243.0, \"positiveRate\": 0.083, \"state\": \"US\", \"sma7d\": 478.286}, {\"date\": \"2020-07-07T00:00:00\", \"totalTestResultsIncrease\": 634791.0, \"positiveIncrease\": 51766.0, \"death\": 123821.0, \"deathIncrease\": 923.0, \"positiveRate\": 0.082, \"state\": \"US\", \"sma7d\": 525.0}, {\"date\": \"2020-07-08T00:00:00\", \"totalTestResultsIncrease\": 629102.0, \"positiveIncrease\": 62147.0, \"death\": 124628.0, \"deathIncrease\": 807.0, \"positiveRate\": 0.099, \"state\": \"US\", \"sma7d\": 540.143}, {\"date\": \"2020-07-09T00:00:00\", \"totalTestResultsIncrease\": 703050.0, \"positiveIncrease\": 58836.0, \"death\": 125495.0, \"deathIncrease\": 867.0, \"positiveRate\": 0.084, \"state\": \"US\", \"sma7d\": 564.714}, {\"date\": \"2020-07-10T00:00:00\", \"totalTestResultsIncrease\": 810806.0, \"positiveIncrease\": 66645.0, \"death\": 126349.0, \"deathIncrease\": 854.0, \"positiveRate\": 0.082, \"state\": \"US\", \"sma7d\": 601.286}, {\"date\": \"2020-07-11T00:00:00\", \"totalTestResultsIncrease\": 698444.0, \"positiveIncrease\": 63007.0, \"death\": 127106.0, \"deathIncrease\": 757.0, \"positiveRate\": 0.09, \"state\": \"US\", \"sma7d\": 665.714}, {\"date\": \"2020-07-12T00:00:00\", \"totalTestResultsIncrease\": 758324.0, \"positiveIncrease\": 60978.0, \"death\": 127582.0, \"deathIncrease\": 476.0, \"positiveRate\": 0.08, \"state\": \"US\", \"sma7d\": 703.857}, {\"date\": \"2020-07-13T00:00:00\", \"totalTestResultsIncrease\": 693576.0, \"positiveIncrease\": 58465.0, \"death\": 127909.0, \"deathIncrease\": 327.0, \"positiveRate\": 0.084, \"state\": \"US\", \"sma7d\": 715.857}, {\"date\": \"2020-07-14T00:00:00\", \"totalTestResultsIncrease\": 769982.0, \"positiveIncrease\": 62879.0, \"death\": 128645.0, \"deathIncrease\": 736.0, \"positiveRate\": 0.082, \"state\": \"US\", \"sma7d\": 689.143}, {\"date\": \"2020-07-15T00:00:00\", \"totalTestResultsIncrease\": 761997.0, \"positiveIncrease\": 65382.0, \"death\": 129503.0, \"deathIncrease\": 858.0, \"positiveRate\": 0.086, \"state\": \"US\", \"sma7d\": 696.429}, {\"date\": \"2020-07-16T00:00:00\", \"totalTestResultsIncrease\": 827564.0, \"positiveIncrease\": 70953.0, \"death\": 130450.0, \"deathIncrease\": 947.0, \"positiveRate\": 0.086, \"state\": \"US\", \"sma7d\": 707.857}, {\"date\": \"2020-07-17T00:00:00\", \"totalTestResultsIncrease\": 837392.0, \"positiveIncrease\": 77233.0, \"death\": 131401.0, \"deathIncrease\": 951.0, \"positiveRate\": 0.092, \"state\": \"US\", \"sma7d\": 721.714}, {\"date\": \"2020-07-18T00:00:00\", \"totalTestResultsIncrease\": 761632.0, \"positiveIncrease\": 65180.0, \"death\": 132273.0, \"deathIncrease\": 872.0, \"positiveRate\": 0.086, \"state\": \"US\", \"sma7d\": 738.143}, {\"date\": \"2020-07-19T00:00:00\", \"totalTestResultsIncrease\": 798508.0, \"positiveIncrease\": 64884.0, \"death\": 132799.0, \"deathIncrease\": 526.0, \"positiveRate\": 0.081, \"state\": \"US\", \"sma7d\": 745.286}, {\"date\": \"2020-07-20T00:00:00\", \"totalTestResultsIncrease\": 711015.0, \"positiveIncrease\": 56971.0, \"death\": 133162.0, \"deathIncrease\": 363.0, \"positiveRate\": 0.08, \"state\": \"US\", \"sma7d\": 750.429}, {\"date\": \"2020-07-21T00:00:00\", \"totalTestResultsIncrease\": 750248.0, \"positiveIncrease\": 63642.0, \"death\": 134200.0, \"deathIncrease\": 1038.0, \"positiveRate\": 0.085, \"state\": \"US\", \"sma7d\": 793.571}, {\"date\": \"2020-07-22T00:00:00\", \"totalTestResultsIncrease\": 795502.0, \"positiveIncrease\": 69150.0, \"death\": 135371.0, \"deathIncrease\": 1171.0, \"positiveRate\": 0.087, \"state\": \"US\", \"sma7d\": 838.286}, {\"date\": \"2020-07-23T00:00:00\", \"totalTestResultsIncrease\": 840589.0, \"positiveIncrease\": 71354.0, \"death\": 136426.0, \"deathIncrease\": 1055.0, \"positiveRate\": 0.085, \"state\": \"US\", \"sma7d\": 853.714}, {\"date\": \"2020-07-24T00:00:00\", \"totalTestResultsIncrease\": 926876.0, \"positiveIncrease\": 75204.0, \"death\": 137602.0, \"deathIncrease\": 1176.0, \"positiveRate\": 0.081, \"state\": \"US\", \"sma7d\": 885.857}, {\"date\": \"2020-07-25T00:00:00\", \"totalTestResultsIncrease\": 784361.0, \"positiveIncrease\": 65075.0, \"death\": 138625.0, \"deathIncrease\": 1023.0, \"positiveRate\": 0.083, \"state\": \"US\", \"sma7d\": 907.429}, {\"date\": \"2020-07-26T00:00:00\", \"totalTestResultsIncrease\": 855811.0, \"positiveIncrease\": 61713.0, \"death\": 139183.0, \"deathIncrease\": 558.0, \"positiveRate\": 0.072, \"state\": \"US\", \"sma7d\": 912.0}, {\"date\": \"2020-07-27T00:00:00\", \"totalTestResultsIncrease\": 760840.0, \"positiveIncrease\": 55134.0, \"death\": 140242.0, \"deathIncrease\": 1059.0, \"positiveRate\": 0.072, \"state\": \"US\", \"sma7d\": 1011.429}, {\"date\": \"2020-07-28T00:00:00\", \"totalTestResultsIncrease\": 735487.0, \"positiveIncrease\": 56229.0, \"death\": 141363.0, \"deathIncrease\": 1121.0, \"positiveRate\": 0.076, \"state\": \"US\", \"sma7d\": 1023.286}, {\"date\": \"2020-07-29T00:00:00\", \"totalTestResultsIncrease\": 853326.0, \"positiveIncrease\": 66969.0, \"death\": 142855.0, \"deathIncrease\": 1492.0, \"positiveRate\": 0.078, \"state\": \"US\", \"sma7d\": 1069.143}, {\"date\": \"2020-07-30T00:00:00\", \"totalTestResultsIncrease\": 805854.0, \"positiveIncrease\": 69466.0, \"death\": 144114.0, \"deathIncrease\": 1259.0, \"positiveRate\": 0.086, \"state\": \"US\", \"sma7d\": 1098.286}, {\"date\": \"2020-07-31T00:00:00\", \"totalTestResultsIncrease\": 725982.0, \"positiveIncrease\": 67755.0, \"death\": 145425.0, \"deathIncrease\": 1311.0, \"positiveRate\": 0.093, \"state\": \"US\", \"sma7d\": 1117.571}, {\"date\": \"2020-08-01T00:00:00\", \"totalTestResultsIncrease\": 726010.0, \"positiveIncrease\": 60692.0, \"death\": 146614.0, \"deathIncrease\": 1189.0, \"positiveRate\": 0.084, \"state\": \"US\", \"sma7d\": 1141.286}, {\"date\": \"2020-08-02T00:00:00\", \"totalTestResultsIncrease\": 713169.0, \"positiveIncrease\": 48266.0, \"death\": 147112.0, \"deathIncrease\": 498.0, \"positiveRate\": 0.068, \"state\": \"US\", \"sma7d\": 1132.714}, {\"date\": \"2020-08-03T00:00:00\", \"totalTestResultsIncrease\": 731690.0, \"positiveIncrease\": 49561.0, \"death\": 147631.0, \"deathIncrease\": 519.0, \"positiveRate\": 0.068, \"state\": \"US\", \"sma7d\": 1055.571}, {\"date\": \"2020-08-04T00:00:00\", \"totalTestResultsIncrease\": 695586.0, \"positiveIncrease\": 51568.0, \"death\": 148807.0, \"deathIncrease\": 1176.0, \"positiveRate\": 0.074, \"state\": \"US\", \"sma7d\": 1063.429}, {\"date\": \"2020-08-05T00:00:00\", \"totalTestResultsIncrease\": 681537.0, \"positiveIncrease\": 52265.0, \"death\": 150232.0, \"deathIncrease\": 1425.0, \"positiveRate\": 0.077, \"state\": \"US\", \"sma7d\": 1053.857}, {\"date\": \"2020-08-06T00:00:00\", \"totalTestResultsIncrease\": 731700.0, \"positiveIncrease\": 54184.0, \"death\": 151483.0, \"deathIncrease\": 1251.0, \"positiveRate\": 0.074, \"state\": \"US\", \"sma7d\": 1052.714}, {\"date\": \"2020-08-07T00:00:00\", \"totalTestResultsIncrease\": 755604.0, \"positiveIncrease\": 61455.0, \"death\": 152791.0, \"deathIncrease\": 1333.0, \"positiveRate\": 0.081, \"state\": \"US\", \"sma7d\": 1055.857}]}}, {\"mode\": \"vega-lite\"});\n",
       "</script>"
      ],
      "text/plain": [
       "alt.LayerChart(...)"
      ]
     },
     "execution_count": 9,
     "metadata": {},
     "output_type": "execute_result"
    }
   ],
   "source": [
    "create_plot(us, 'deathIncrease')"
   ]
  },
  {
   "cell_type": "markdown",
   "metadata": {
    "papermill": {
     "duration": 0.016252,
     "end_time": "2020-08-07T22:33:29.214425",
     "exception": false,
     "start_time": "2020-08-07T22:33:29.198173",
     "status": "completed"
    },
    "tags": []
   },
   "source": [
    "## NY"
   ]
  },
  {
   "cell_type": "code",
   "execution_count": 10,
   "metadata": {
    "execution": {
     "iopub.execute_input": "2020-08-07T22:33:29.251719Z",
     "iopub.status.busy": "2020-08-07T22:33:29.249549Z",
     "iopub.status.idle": "2020-08-07T22:33:29.455019Z",
     "shell.execute_reply": "2020-08-07T22:33:29.454372Z"
    },
    "papermill": {
     "duration": 0.225192,
     "end_time": "2020-08-07T22:33:29.455166",
     "exception": false,
     "start_time": "2020-08-07T22:33:29.229974",
     "status": "completed"
    },
    "tags": []
   },
   "outputs": [],
   "source": [
    "ny = create_df(df, (lambda d: d['state'] == 'NY'), 'New York')"
   ]
  },
  {
   "cell_type": "code",
   "execution_count": 11,
   "metadata": {
    "execution": {
     "iopub.execute_input": "2020-08-07T22:33:29.497454Z",
     "iopub.status.busy": "2020-08-07T22:33:29.496561Z",
     "iopub.status.idle": "2020-08-07T22:33:29.603200Z",
     "shell.execute_reply": "2020-08-07T22:33:29.602662Z"
    },
    "papermill": {
     "duration": 0.130759,
     "end_time": "2020-08-07T22:33:29.603345",
     "exception": false,
     "start_time": "2020-08-07T22:33:29.472586",
     "status": "completed"
    },
    "tags": []
   },
   "outputs": [
    {
     "data": {
      "text/html": [
       "\n",
       "<div id=\"altair-viz-513e8970ef31497e8b8fb8f7aff0472e\"></div>\n",
       "<script type=\"text/javascript\">\n",
       "  (function(spec, embedOpt){\n",
       "    let outputDiv = document.currentScript.previousElementSibling;\n",
       "    if (outputDiv.id !== \"altair-viz-513e8970ef31497e8b8fb8f7aff0472e\") {\n",
       "      outputDiv = document.getElementById(\"altair-viz-513e8970ef31497e8b8fb8f7aff0472e\");\n",
       "    }\n",
       "    const paths = {\n",
       "      \"vega\": \"https://cdn.jsdelivr.net/npm//vega@5?noext\",\n",
       "      \"vega-lib\": \"https://cdn.jsdelivr.net/npm//vega-lib?noext\",\n",
       "      \"vega-lite\": \"https://cdn.jsdelivr.net/npm//vega-lite@4.8.1?noext\",\n",
       "      \"vega-embed\": \"https://cdn.jsdelivr.net/npm//vega-embed@6?noext\",\n",
       "    };\n",
       "\n",
       "    function loadScript(lib) {\n",
       "      return new Promise(function(resolve, reject) {\n",
       "        var s = document.createElement('script');\n",
       "        s.src = paths[lib];\n",
       "        s.async = true;\n",
       "        s.onload = () => resolve(paths[lib]);\n",
       "        s.onerror = () => reject(`Error loading script: ${paths[lib]}`);\n",
       "        document.getElementsByTagName(\"head\")[0].appendChild(s);\n",
       "      });\n",
       "    }\n",
       "\n",
       "    function showError(err) {\n",
       "      outputDiv.innerHTML = `<div class=\"error\" style=\"color:red;\">${err}</div>`;\n",
       "      throw err;\n",
       "    }\n",
       "\n",
       "    function displayChart(vegaEmbed) {\n",
       "      vegaEmbed(outputDiv, spec, embedOpt)\n",
       "        .catch(err => showError(`Javascript Error: ${err.message}<br>This usually means there's a typo in your chart specification. See the javascript console for the full traceback.`));\n",
       "    }\n",
       "\n",
       "    if(typeof define === \"function\" && define.amd) {\n",
       "      requirejs.config({paths});\n",
       "      require([\"vega-embed\"], displayChart, err => showError(`Error loading script: ${err.message}`));\n",
       "    } else if (typeof vegaEmbed === \"function\") {\n",
       "      displayChart(vegaEmbed);\n",
       "    } else {\n",
       "      loadScript(\"vega\")\n",
       "        .then(() => loadScript(\"vega-lite\"))\n",
       "        .then(() => loadScript(\"vega-embed\"))\n",
       "        .catch(showError)\n",
       "        .then(() => displayChart(vegaEmbed));\n",
       "    }\n",
       "  })({\"config\": {\"view\": {\"continuousWidth\": 400, \"continuousHeight\": 300}}, \"layer\": [{\"layer\": [{\"mark\": {\"type\": \"point\", \"size\": 75}, \"encoding\": {\"tooltip\": [{\"type\": \"temporal\", \"field\": \"date\"}, {\"type\": \"quantitative\", \"field\": \"positiveIncrease\"}, {\"type\": \"quantitative\", \"field\": \"sma7d\"}], \"x\": {\"type\": \"temporal\", \"field\": \"date\"}, \"y\": {\"type\": \"quantitative\", \"field\": \"positiveIncrease\"}}, \"selection\": {\"selector008\": {\"type\": \"interval\", \"bind\": \"scales\", \"encodings\": [\"x\", \"y\"]}}}, {\"mark\": {\"type\": \"line\", \"color\": \"purple\"}, \"encoding\": {\"x\": {\"type\": \"temporal\", \"field\": \"date\"}, \"y\": {\"type\": \"quantitative\", \"field\": \"sma7d\"}}}]}, {\"mark\": {\"type\": \"rule\", \"color\": \"#aaa\"}, \"encoding\": {\"x\": {\"type\": \"temporal\", \"field\": \"date\"}}, \"transform\": [{\"filter\": {\"selection\": \"selector007\"}}]}, {\"mark\": \"circle\", \"encoding\": {\"opacity\": {\"condition\": {\"value\": 1, \"selection\": \"selector007\"}, \"value\": 0}, \"tooltip\": [{\"type\": \"temporal\", \"field\": \"date\"}, {\"type\": \"quantitative\", \"field\": \"positiveIncrease\"}, {\"type\": \"quantitative\", \"field\": \"sma7d\"}], \"x\": {\"type\": \"temporal\", \"field\": \"date\"}, \"y\": {\"type\": \"quantitative\", \"field\": \"positiveIncrease\"}}, \"selection\": {\"selector007\": {\"type\": \"single\", \"encodings\": [\"x\"], \"on\": \"mouseover\", \"nearest\": true, \"empty\": \"none\"}}}, {\"mark\": {\"type\": \"text\", \"align\": \"left\", \"dx\": 5, \"dy\": -5, \"stroke\": \"white\", \"strokeWidth\": 2}, \"encoding\": {\"text\": {\"type\": \"quantitative\", \"field\": \"positiveIncrease\"}, \"tooltip\": [{\"type\": \"temporal\", \"field\": \"date\"}, {\"type\": \"quantitative\", \"field\": \"positiveIncrease\"}, {\"type\": \"quantitative\", \"field\": \"sma7d\"}], \"x\": {\"type\": \"temporal\", \"field\": \"date\"}, \"y\": {\"type\": \"quantitative\", \"field\": \"positiveIncrease\"}}, \"transform\": [{\"filter\": {\"selection\": \"selector007\"}}]}, {\"mark\": {\"type\": \"text\", \"align\": \"left\", \"dx\": 5, \"dy\": -5}, \"encoding\": {\"text\": {\"type\": \"quantitative\", \"field\": \"positiveIncrease\"}, \"tooltip\": [{\"type\": \"temporal\", \"field\": \"date\"}, {\"type\": \"quantitative\", \"field\": \"positiveIncrease\"}, {\"type\": \"quantitative\", \"field\": \"sma7d\"}], \"x\": {\"type\": \"temporal\", \"field\": \"date\"}, \"y\": {\"type\": \"quantitative\", \"field\": \"positiveIncrease\"}}, \"transform\": [{\"filter\": {\"selection\": \"selector007\"}}]}], \"data\": {\"name\": \"data-060ac482df6832775d688171a00f7ab7\"}, \"height\": 400, \"title\": \"New York: positiveIncrease\", \"width\": 500, \"$schema\": \"https://vega.github.io/schema/vega-lite/v4.8.1.json\", \"datasets\": {\"data-060ac482df6832775d688171a00f7ab7\": [{\"date\": \"2020-06-13T00:00:00\", \"totalTestResultsIncrease\": 70840.0, \"positiveIncrease\": 916.0, \"death\": 24527.0, \"deathIncrease\": 32.0, \"positiveRate\": 0.013, \"state\": \"New York\", \"sma7d\": 759.143}, {\"date\": \"2020-06-14T00:00:00\", \"totalTestResultsIncrease\": 62359.0, \"positiveIncrease\": 694.0, \"death\": 24551.0, \"deathIncrease\": 24.0, \"positiveRate\": 0.011, \"state\": \"New York\", \"sma7d\": 746.714}, {\"date\": \"2020-06-15T00:00:00\", \"totalTestResultsIncrease\": 56611.0, \"positiveIncrease\": 620.0, \"death\": 24579.0, \"deathIncrease\": 28.0, \"positiveRate\": 0.011, \"state\": \"New York\", \"sma7d\": 735.0}, {\"date\": \"2020-06-16T00:00:00\", \"totalTestResultsIncrease\": 60568.0, \"positiveIncrease\": 631.0, \"death\": 24608.0, \"deathIncrease\": 29.0, \"positiveRate\": 0.01, \"state\": \"New York\", \"sma7d\": 727.571}, {\"date\": \"2020-06-17T00:00:00\", \"totalTestResultsIncrease\": 59341.0, \"positiveIncrease\": 567.0, \"death\": 24629.0, \"deathIncrease\": 21.0, \"positiveRate\": 0.01, \"state\": \"New York\", \"sma7d\": 712.286}, {\"date\": \"2020-06-18T00:00:00\", \"totalTestResultsIncrease\": 68541.0, \"positiveIncrease\": 618.0, \"death\": 24661.0, \"deathIncrease\": 32.0, \"positiveRate\": 0.009, \"state\": \"New York\", \"sma7d\": 695.429}, {\"date\": \"2020-06-19T00:00:00\", \"totalTestResultsIncrease\": 79303.0, \"positiveIncrease\": 796.0, \"death\": 24686.0, \"deathIncrease\": 25.0, \"positiveRate\": 0.01, \"state\": \"New York\", \"sma7d\": 691.714}, {\"date\": \"2020-06-20T00:00:00\", \"totalTestResultsIncrease\": 68830.0, \"positiveIncrease\": 716.0, \"death\": 24710.0, \"deathIncrease\": 24.0, \"positiveRate\": 0.01, \"state\": \"New York\", \"sma7d\": 663.143}, {\"date\": \"2020-06-21T00:00:00\", \"totalTestResultsIncrease\": 67526.0, \"positiveIncrease\": 664.0, \"death\": 24725.0, \"deathIncrease\": 15.0, \"positiveRate\": 0.01, \"state\": \"New York\", \"sma7d\": 658.857}, {\"date\": \"2020-06-22T00:00:00\", \"totalTestResultsIncrease\": 56780.0, \"positiveIncrease\": 552.0, \"death\": 24739.0, \"deathIncrease\": 14.0, \"positiveRate\": 0.01, \"state\": \"New York\", \"sma7d\": 649.143}, {\"date\": \"2020-06-23T00:00:00\", \"totalTestResultsIncrease\": 48709.0, \"positiveIncrease\": 597.0, \"death\": 24766.0, \"deathIncrease\": 27.0, \"positiveRate\": 0.012, \"state\": \"New York\", \"sma7d\": 644.286}, {\"date\": \"2020-06-24T00:00:00\", \"totalTestResultsIncrease\": 51144.0, \"positiveIncrease\": 581.0, \"death\": 24782.0, \"deathIncrease\": 16.0, \"positiveRate\": 0.011, \"state\": \"New York\", \"sma7d\": 646.286}, {\"date\": \"2020-06-25T00:00:00\", \"totalTestResultsIncrease\": 67642.0, \"positiveIncrease\": 749.0, \"death\": 24800.0, \"deathIncrease\": 18.0, \"positiveRate\": 0.011, \"state\": \"New York\", \"sma7d\": 665.0}, {\"date\": \"2020-06-26T00:00:00\", \"totalTestResultsIncrease\": 61723.0, \"positiveIncrease\": 805.0, \"death\": 24814.0, \"deathIncrease\": 14.0, \"positiveRate\": 0.013, \"state\": \"New York\", \"sma7d\": 666.286}, {\"date\": \"2020-06-27T00:00:00\", \"totalTestResultsIncrease\": 73262.0, \"positiveIncrease\": 703.0, \"death\": 24830.0, \"deathIncrease\": 16.0, \"positiveRate\": 0.01, \"state\": \"New York\", \"sma7d\": 664.429}, {\"date\": \"2020-06-28T00:00:00\", \"totalTestResultsIncrease\": 61906.0, \"positiveIncrease\": 616.0, \"death\": 24835.0, \"deathIncrease\": 5.0, \"positiveRate\": 0.01, \"state\": \"New York\", \"sma7d\": 657.571}, {\"date\": \"2020-06-29T00:00:00\", \"totalTestResultsIncrease\": 46428.0, \"positiveIncrease\": 391.0, \"death\": 24842.0, \"deathIncrease\": 7.0, \"positiveRate\": 0.008, \"state\": \"New York\", \"sma7d\": 634.571}, {\"date\": \"2020-06-30T00:00:00\", \"totalTestResultsIncrease\": 52025.0, \"positiveIncrease\": 524.0, \"death\": 24855.0, \"deathIncrease\": 13.0, \"positiveRate\": 0.01, \"state\": \"New York\", \"sma7d\": 624.143}, {\"date\": \"2020-07-01T00:00:00\", \"totalTestResultsIncrease\": 56710.0, \"positiveIncrease\": 625.0, \"death\": 24866.0, \"deathIncrease\": 11.0, \"positiveRate\": 0.011, \"state\": \"New York\", \"sma7d\": 630.429}, {\"date\": \"2020-07-02T00:00:00\", \"totalTestResultsIncrease\": 69945.0, \"positiveIncrease\": 875.0, \"death\": 24877.0, \"deathIncrease\": 11.0, \"positiveRate\": 0.013, \"state\": \"New York\", \"sma7d\": 648.429}, {\"date\": \"2020-07-03T00:00:00\", \"totalTestResultsIncrease\": 66392.0, \"positiveIncrease\": 918.0, \"death\": 24885.0, \"deathIncrease\": 8.0, \"positiveRate\": 0.014, \"state\": \"New York\", \"sma7d\": 664.571}, {\"date\": \"2020-07-04T00:00:00\", \"totalTestResultsIncrease\": 62403.0, \"positiveIncrease\": 726.0, \"death\": 24896.0, \"deathIncrease\": 11.0, \"positiveRate\": 0.012, \"state\": \"New York\", \"sma7d\": 667.857}, {\"date\": \"2020-07-05T00:00:00\", \"totalTestResultsIncrease\": 63415.0, \"positiveIncrease\": 533.0, \"death\": 24904.0, \"deathIncrease\": 8.0, \"positiveRate\": 0.008, \"state\": \"New York\", \"sma7d\": 656.0}, {\"date\": \"2020-07-06T00:00:00\", \"totalTestResultsIncrease\": 54328.0, \"positiveIncrease\": 518.0, \"death\": 24913.0, \"deathIncrease\": 9.0, \"positiveRate\": 0.01, \"state\": \"New York\", \"sma7d\": 674.143}, {\"date\": \"2020-07-07T00:00:00\", \"totalTestResultsIncrease\": 56736.0, \"positiveIncrease\": 588.0, \"death\": 24924.0, \"deathIncrease\": 11.0, \"positiveRate\": 0.01, \"state\": \"New York\", \"sma7d\": 683.286}, {\"date\": \"2020-07-08T00:00:00\", \"totalTestResultsIncrease\": 57585.0, \"positiveIncrease\": 692.0, \"death\": 24944.0, \"deathIncrease\": 20.0, \"positiveRate\": 0.012, \"state\": \"New York\", \"sma7d\": 692.857}, {\"date\": \"2020-07-09T00:00:00\", \"totalTestResultsIncrease\": 65564.0, \"positiveIncrease\": 584.0, \"death\": 24959.0, \"deathIncrease\": 15.0, \"positiveRate\": 0.009, \"state\": \"New York\", \"sma7d\": 651.286}, {\"date\": \"2020-07-10T00:00:00\", \"totalTestResultsIncrease\": 73558.0, \"positiveIncrease\": 786.0, \"death\": 24968.0, \"deathIncrease\": 9.0, \"positiveRate\": 0.011, \"state\": \"New York\", \"sma7d\": 632.429}, {\"date\": \"2020-07-11T00:00:00\", \"totalTestResultsIncrease\": 69203.0, \"positiveIncrease\": 730.0, \"death\": 24974.0, \"deathIncrease\": 6.0, \"positiveRate\": 0.011, \"state\": \"New York\", \"sma7d\": 633.0}, {\"date\": \"2020-07-12T00:00:00\", \"totalTestResultsIncrease\": 62418.0, \"positiveIncrease\": 677.0, \"death\": 24979.0, \"deathIncrease\": 5.0, \"positiveRate\": 0.011, \"state\": \"New York\", \"sma7d\": 653.571}, {\"date\": \"2020-07-13T00:00:00\", \"totalTestResultsIncrease\": 51687.0, \"positiveIncrease\": 557.0, \"death\": 24989.0, \"deathIncrease\": 10.0, \"positiveRate\": 0.011, \"state\": \"New York\", \"sma7d\": 659.143}, {\"date\": \"2020-07-14T00:00:00\", \"totalTestResultsIncrease\": 60045.0, \"positiveIncrease\": 912.0, \"death\": 24994.0, \"deathIncrease\": 5.0, \"positiveRate\": 0.015, \"state\": \"New York\", \"sma7d\": 705.429}, {\"date\": \"2020-07-15T00:00:00\", \"totalTestResultsIncrease\": 63598.0, \"positiveIncrease\": 831.0, \"death\": 25003.0, \"deathIncrease\": 9.0, \"positiveRate\": 0.013, \"state\": \"New York\", \"sma7d\": 725.286}, {\"date\": \"2020-07-16T00:00:00\", \"totalTestResultsIncrease\": 72685.0, \"positiveIncrease\": 769.0, \"death\": 25014.0, \"deathIncrease\": 11.0, \"positiveRate\": 0.011, \"state\": \"New York\", \"sma7d\": 751.714}, {\"date\": \"2020-07-17T00:00:00\", \"totalTestResultsIncrease\": 78239.0, \"positiveIncrease\": 776.0, \"death\": 25024.0, \"deathIncrease\": 10.0, \"positiveRate\": 0.01, \"state\": \"New York\", \"sma7d\": 750.286}, {\"date\": \"2020-07-18T00:00:00\", \"totalTestResultsIncrease\": 69817.0, \"positiveIncrease\": 754.0, \"death\": 25035.0, \"deathIncrease\": 11.0, \"positiveRate\": 0.011, \"state\": \"New York\", \"sma7d\": 753.714}, {\"date\": \"2020-07-19T00:00:00\", \"totalTestResultsIncrease\": 46204.0, \"positiveIncrease\": 502.0, \"death\": 25048.0, \"deathIncrease\": 13.0, \"positiveRate\": 0.011, \"state\": \"New York\", \"sma7d\": 728.714}, {\"date\": \"2020-07-20T00:00:00\", \"totalTestResultsIncrease\": 49342.0, \"positiveIncrease\": 519.0, \"death\": 25056.0, \"deathIncrease\": 8.0, \"positiveRate\": 0.011, \"state\": \"New York\", \"sma7d\": 723.286}, {\"date\": \"2020-07-21T00:00:00\", \"totalTestResultsIncrease\": 66169.0, \"positiveIncrease\": 855.0, \"death\": 25058.0, \"deathIncrease\": 2.0, \"positiveRate\": 0.013, \"state\": \"New York\", \"sma7d\": 715.143}, {\"date\": \"2020-07-22T00:00:00\", \"totalTestResultsIncrease\": 67659.0, \"positiveIncrease\": 705.0, \"death\": 25068.0, \"deathIncrease\": 10.0, \"positiveRate\": 0.01, \"state\": \"New York\", \"sma7d\": 697.143}, {\"date\": \"2020-07-23T00:00:00\", \"totalTestResultsIncrease\": 69698.0, \"positiveIncrease\": 811.0, \"death\": 25081.0, \"deathIncrease\": 13.0, \"positiveRate\": 0.012, \"state\": \"New York\", \"sma7d\": 703.143}, {\"date\": \"2020-07-24T00:00:00\", \"totalTestResultsIncrease\": 76507.0, \"positiveIncrease\": 753.0, \"death\": 25090.0, \"deathIncrease\": 9.0, \"positiveRate\": 0.01, \"state\": \"New York\", \"sma7d\": 699.857}, {\"date\": \"2020-07-25T00:00:00\", \"totalTestResultsIncrease\": 71466.0, \"positiveIncrease\": 750.0, \"death\": 25103.0, \"deathIncrease\": 13.0, \"positiveRate\": 0.01, \"state\": \"New York\", \"sma7d\": 699.286}, {\"date\": \"2020-07-26T00:00:00\", \"totalTestResultsIncrease\": 53568.0, \"positiveIncrease\": 536.0, \"death\": 25106.0, \"deathIncrease\": 3.0, \"positiveRate\": 0.01, \"state\": \"New York\", \"sma7d\": 704.143}, {\"date\": \"2020-07-27T00:00:00\", \"totalTestResultsIncrease\": 57270.0, \"positiveIncrease\": 608.0, \"death\": 25117.0, \"deathIncrease\": 11.0, \"positiveRate\": 0.011, \"state\": \"New York\", \"sma7d\": 716.857}, {\"date\": \"2020-07-28T00:00:00\", \"totalTestResultsIncrease\": 57397.0, \"positiveIncrease\": 534.0, \"death\": 25126.0, \"deathIncrease\": 9.0, \"positiveRate\": 0.009, \"state\": \"New York\", \"sma7d\": 671.0}, {\"date\": \"2020-07-29T00:00:00\", \"totalTestResultsIncrease\": 62276.0, \"positiveIncrease\": 715.0, \"death\": 25132.0, \"deathIncrease\": 6.0, \"positiveRate\": 0.011, \"state\": \"New York\", \"sma7d\": 672.429}, {\"date\": \"2020-07-30T00:00:00\", \"totalTestResultsIncrease\": 73546.0, \"positiveIncrease\": 777.0, \"death\": 25145.0, \"deathIncrease\": 13.0, \"positiveRate\": 0.011, \"state\": \"New York\", \"sma7d\": 667.571}, {\"date\": \"2020-07-31T00:00:00\", \"totalTestResultsIncrease\": 68869.0, \"positiveIncrease\": 644.0, \"death\": 25150.0, \"deathIncrease\": 5.0, \"positiveRate\": 0.009, \"state\": \"New York\", \"sma7d\": 652.0}, {\"date\": \"2020-08-01T00:00:00\", \"totalTestResultsIncrease\": 82737.0, \"positiveIncrease\": 753.0, \"death\": 25164.0, \"deathIncrease\": 14.0, \"positiveRate\": 0.009, \"state\": \"New York\", \"sma7d\": 652.429}, {\"date\": \"2020-08-02T00:00:00\", \"totalTestResultsIncrease\": 58961.0, \"positiveIncrease\": 531.0, \"death\": 25170.0, \"deathIncrease\": 6.0, \"positiveRate\": 0.009, \"state\": \"New York\", \"sma7d\": 651.714}, {\"date\": \"2020-08-03T00:00:00\", \"totalTestResultsIncrease\": 51839.0, \"positiveIncrease\": 545.0, \"death\": 25172.0, \"deathIncrease\": 2.0, \"positiveRate\": 0.011, \"state\": \"New York\", \"sma7d\": 642.714}, {\"date\": \"2020-08-04T00:00:00\", \"totalTestResultsIncrease\": 70993.0, \"positiveIncrease\": 746.0, \"death\": 25175.0, \"deathIncrease\": 3.0, \"positiveRate\": 0.011, \"state\": \"New York\", \"sma7d\": 673.0}, {\"date\": \"2020-08-05T00:00:00\", \"totalTestResultsIncrease\": 72668.0, \"positiveIncrease\": 636.0, \"death\": 25179.0, \"deathIncrease\": 4.0, \"positiveRate\": 0.009, \"state\": \"New York\", \"sma7d\": 661.714}, {\"date\": \"2020-08-06T00:00:00\", \"totalTestResultsIncrease\": 72370.0, \"positiveIncrease\": 703.0, \"death\": 25185.0, \"deathIncrease\": 6.0, \"positiveRate\": 0.01, \"state\": \"New York\", \"sma7d\": 651.143}, {\"date\": \"2020-08-07T00:00:00\", \"totalTestResultsIncrease\": 70170.0, \"positiveIncrease\": 714.0, \"death\": 25190.0, \"deathIncrease\": 5.0, \"positiveRate\": 0.01, \"state\": \"New York\", \"sma7d\": 661.143}]}}, {\"mode\": \"vega-lite\"});\n",
       "</script>"
      ],
      "text/plain": [
       "alt.LayerChart(...)"
      ]
     },
     "execution_count": 11,
     "metadata": {},
     "output_type": "execute_result"
    }
   ],
   "source": [
    "create_plot(ny, 'positiveIncrease')"
   ]
  },
  {
   "cell_type": "code",
   "execution_count": 12,
   "metadata": {
    "execution": {
     "iopub.execute_input": "2020-08-07T22:33:29.641731Z",
     "iopub.status.busy": "2020-08-07T22:33:29.640860Z",
     "iopub.status.idle": "2020-08-07T22:33:29.740253Z",
     "shell.execute_reply": "2020-08-07T22:33:29.740819Z"
    },
    "papermill": {
     "duration": 0.120499,
     "end_time": "2020-08-07T22:33:29.740981",
     "exception": false,
     "start_time": "2020-08-07T22:33:29.620482",
     "status": "completed"
    },
    "tags": []
   },
   "outputs": [
    {
     "data": {
      "text/html": [
       "\n",
       "<div id=\"altair-viz-4233cfaedbd54b2bb3b789cbd089cfc1\"></div>\n",
       "<script type=\"text/javascript\">\n",
       "  (function(spec, embedOpt){\n",
       "    let outputDiv = document.currentScript.previousElementSibling;\n",
       "    if (outputDiv.id !== \"altair-viz-4233cfaedbd54b2bb3b789cbd089cfc1\") {\n",
       "      outputDiv = document.getElementById(\"altair-viz-4233cfaedbd54b2bb3b789cbd089cfc1\");\n",
       "    }\n",
       "    const paths = {\n",
       "      \"vega\": \"https://cdn.jsdelivr.net/npm//vega@5?noext\",\n",
       "      \"vega-lib\": \"https://cdn.jsdelivr.net/npm//vega-lib?noext\",\n",
       "      \"vega-lite\": \"https://cdn.jsdelivr.net/npm//vega-lite@4.8.1?noext\",\n",
       "      \"vega-embed\": \"https://cdn.jsdelivr.net/npm//vega-embed@6?noext\",\n",
       "    };\n",
       "\n",
       "    function loadScript(lib) {\n",
       "      return new Promise(function(resolve, reject) {\n",
       "        var s = document.createElement('script');\n",
       "        s.src = paths[lib];\n",
       "        s.async = true;\n",
       "        s.onload = () => resolve(paths[lib]);\n",
       "        s.onerror = () => reject(`Error loading script: ${paths[lib]}`);\n",
       "        document.getElementsByTagName(\"head\")[0].appendChild(s);\n",
       "      });\n",
       "    }\n",
       "\n",
       "    function showError(err) {\n",
       "      outputDiv.innerHTML = `<div class=\"error\" style=\"color:red;\">${err}</div>`;\n",
       "      throw err;\n",
       "    }\n",
       "\n",
       "    function displayChart(vegaEmbed) {\n",
       "      vegaEmbed(outputDiv, spec, embedOpt)\n",
       "        .catch(err => showError(`Javascript Error: ${err.message}<br>This usually means there's a typo in your chart specification. See the javascript console for the full traceback.`));\n",
       "    }\n",
       "\n",
       "    if(typeof define === \"function\" && define.amd) {\n",
       "      requirejs.config({paths});\n",
       "      require([\"vega-embed\"], displayChart, err => showError(`Error loading script: ${err.message}`));\n",
       "    } else if (typeof vegaEmbed === \"function\") {\n",
       "      displayChart(vegaEmbed);\n",
       "    } else {\n",
       "      loadScript(\"vega\")\n",
       "        .then(() => loadScript(\"vega-lite\"))\n",
       "        .then(() => loadScript(\"vega-embed\"))\n",
       "        .catch(showError)\n",
       "        .then(() => displayChart(vegaEmbed));\n",
       "    }\n",
       "  })({\"config\": {\"view\": {\"continuousWidth\": 400, \"continuousHeight\": 300}}, \"layer\": [{\"layer\": [{\"mark\": {\"type\": \"point\", \"size\": 75}, \"encoding\": {\"tooltip\": [{\"type\": \"temporal\", \"field\": \"date\"}, {\"type\": \"quantitative\", \"field\": \"positiveRate\"}, {\"type\": \"quantitative\", \"field\": \"sma7d\"}], \"x\": {\"type\": \"temporal\", \"field\": \"date\"}, \"y\": {\"type\": \"quantitative\", \"field\": \"positiveRate\"}}, \"selection\": {\"selector010\": {\"type\": \"interval\", \"bind\": \"scales\", \"encodings\": [\"x\", \"y\"]}}}, {\"mark\": {\"type\": \"line\", \"color\": \"purple\"}, \"encoding\": {\"x\": {\"type\": \"temporal\", \"field\": \"date\"}, \"y\": {\"type\": \"quantitative\", \"field\": \"sma7d\"}}}]}, {\"mark\": {\"type\": \"rule\", \"color\": \"#aaa\"}, \"encoding\": {\"x\": {\"type\": \"temporal\", \"field\": \"date\"}}, \"transform\": [{\"filter\": {\"selection\": \"selector009\"}}]}, {\"mark\": \"circle\", \"encoding\": {\"opacity\": {\"condition\": {\"value\": 1, \"selection\": \"selector009\"}, \"value\": 0}, \"tooltip\": [{\"type\": \"temporal\", \"field\": \"date\"}, {\"type\": \"quantitative\", \"field\": \"positiveRate\"}, {\"type\": \"quantitative\", \"field\": \"sma7d\"}], \"x\": {\"type\": \"temporal\", \"field\": \"date\"}, \"y\": {\"type\": \"quantitative\", \"field\": \"positiveRate\"}}, \"selection\": {\"selector009\": {\"type\": \"single\", \"encodings\": [\"x\"], \"on\": \"mouseover\", \"nearest\": true, \"empty\": \"none\"}}}, {\"mark\": {\"type\": \"text\", \"align\": \"left\", \"dx\": 5, \"dy\": -5, \"stroke\": \"white\", \"strokeWidth\": 2}, \"encoding\": {\"text\": {\"type\": \"quantitative\", \"field\": \"positiveRate\"}, \"tooltip\": [{\"type\": \"temporal\", \"field\": \"date\"}, {\"type\": \"quantitative\", \"field\": \"positiveRate\"}, {\"type\": \"quantitative\", \"field\": \"sma7d\"}], \"x\": {\"type\": \"temporal\", \"field\": \"date\"}, \"y\": {\"type\": \"quantitative\", \"field\": \"positiveRate\"}}, \"transform\": [{\"filter\": {\"selection\": \"selector009\"}}]}, {\"mark\": {\"type\": \"text\", \"align\": \"left\", \"dx\": 5, \"dy\": -5}, \"encoding\": {\"text\": {\"type\": \"quantitative\", \"field\": \"positiveRate\"}, \"tooltip\": [{\"type\": \"temporal\", \"field\": \"date\"}, {\"type\": \"quantitative\", \"field\": \"positiveRate\"}, {\"type\": \"quantitative\", \"field\": \"sma7d\"}], \"x\": {\"type\": \"temporal\", \"field\": \"date\"}, \"y\": {\"type\": \"quantitative\", \"field\": \"positiveRate\"}}, \"transform\": [{\"filter\": {\"selection\": \"selector009\"}}]}], \"data\": {\"name\": \"data-338ce1367ab66fdc2c95133d8ddb0c65\"}, \"height\": 400, \"title\": \"New York: positiveRate\", \"width\": 500, \"$schema\": \"https://vega.github.io/schema/vega-lite/v4.8.1.json\", \"datasets\": {\"data-338ce1367ab66fdc2c95133d8ddb0c65\": [{\"date\": \"2020-06-13T00:00:00\", \"totalTestResultsIncrease\": 70840.0, \"positiveIncrease\": 916.0, \"death\": 24527.0, \"deathIncrease\": 32.0, \"positiveRate\": 0.013, \"state\": \"New York\", \"sma7d\": 0.012}, {\"date\": \"2020-06-14T00:00:00\", \"totalTestResultsIncrease\": 62359.0, \"positiveIncrease\": 694.0, \"death\": 24551.0, \"deathIncrease\": 24.0, \"positiveRate\": 0.011, \"state\": \"New York\", \"sma7d\": 0.012}, {\"date\": \"2020-06-15T00:00:00\", \"totalTestResultsIncrease\": 56611.0, \"positiveIncrease\": 620.0, \"death\": 24579.0, \"deathIncrease\": 28.0, \"positiveRate\": 0.011, \"state\": \"New York\", \"sma7d\": 0.012}, {\"date\": \"2020-06-16T00:00:00\", \"totalTestResultsIncrease\": 60568.0, \"positiveIncrease\": 631.0, \"death\": 24608.0, \"deathIncrease\": 29.0, \"positiveRate\": 0.01, \"state\": \"New York\", \"sma7d\": 0.011}, {\"date\": \"2020-06-17T00:00:00\", \"totalTestResultsIncrease\": 59341.0, \"positiveIncrease\": 567.0, \"death\": 24629.0, \"deathIncrease\": 21.0, \"positiveRate\": 0.01, \"state\": \"New York\", \"sma7d\": 0.011}, {\"date\": \"2020-06-18T00:00:00\", \"totalTestResultsIncrease\": 68541.0, \"positiveIncrease\": 618.0, \"death\": 24661.0, \"deathIncrease\": 32.0, \"positiveRate\": 0.009, \"state\": \"New York\", \"sma7d\": 0.011}, {\"date\": \"2020-06-19T00:00:00\", \"totalTestResultsIncrease\": 79303.0, \"positiveIncrease\": 796.0, \"death\": 24686.0, \"deathIncrease\": 25.0, \"positiveRate\": 0.01, \"state\": \"New York\", \"sma7d\": 0.011}, {\"date\": \"2020-06-20T00:00:00\", \"totalTestResultsIncrease\": 68830.0, \"positiveIncrease\": 716.0, \"death\": 24710.0, \"deathIncrease\": 24.0, \"positiveRate\": 0.01, \"state\": \"New York\", \"sma7d\": 0.01}, {\"date\": \"2020-06-21T00:00:00\", \"totalTestResultsIncrease\": 67526.0, \"positiveIncrease\": 664.0, \"death\": 24725.0, \"deathIncrease\": 15.0, \"positiveRate\": 0.01, \"state\": \"New York\", \"sma7d\": 0.01}, {\"date\": \"2020-06-22T00:00:00\", \"totalTestResultsIncrease\": 56780.0, \"positiveIncrease\": 552.0, \"death\": 24739.0, \"deathIncrease\": 14.0, \"positiveRate\": 0.01, \"state\": \"New York\", \"sma7d\": 0.01}, {\"date\": \"2020-06-23T00:00:00\", \"totalTestResultsIncrease\": 48709.0, \"positiveIncrease\": 597.0, \"death\": 24766.0, \"deathIncrease\": 27.0, \"positiveRate\": 0.012, \"state\": \"New York\", \"sma7d\": 0.01}, {\"date\": \"2020-06-24T00:00:00\", \"totalTestResultsIncrease\": 51144.0, \"positiveIncrease\": 581.0, \"death\": 24782.0, \"deathIncrease\": 16.0, \"positiveRate\": 0.011, \"state\": \"New York\", \"sma7d\": 0.01}, {\"date\": \"2020-06-25T00:00:00\", \"totalTestResultsIncrease\": 67642.0, \"positiveIncrease\": 749.0, \"death\": 24800.0, \"deathIncrease\": 18.0, \"positiveRate\": 0.011, \"state\": \"New York\", \"sma7d\": 0.011}, {\"date\": \"2020-06-26T00:00:00\", \"totalTestResultsIncrease\": 61723.0, \"positiveIncrease\": 805.0, \"death\": 24814.0, \"deathIncrease\": 14.0, \"positiveRate\": 0.013, \"state\": \"New York\", \"sma7d\": 0.011}, {\"date\": \"2020-06-27T00:00:00\", \"totalTestResultsIncrease\": 73262.0, \"positiveIncrease\": 703.0, \"death\": 24830.0, \"deathIncrease\": 16.0, \"positiveRate\": 0.01, \"state\": \"New York\", \"sma7d\": 0.011}, {\"date\": \"2020-06-28T00:00:00\", \"totalTestResultsIncrease\": 61906.0, \"positiveIncrease\": 616.0, \"death\": 24835.0, \"deathIncrease\": 5.0, \"positiveRate\": 0.01, \"state\": \"New York\", \"sma7d\": 0.011}, {\"date\": \"2020-06-29T00:00:00\", \"totalTestResultsIncrease\": 46428.0, \"positiveIncrease\": 391.0, \"death\": 24842.0, \"deathIncrease\": 7.0, \"positiveRate\": 0.008, \"state\": \"New York\", \"sma7d\": 0.011}, {\"date\": \"2020-06-30T00:00:00\", \"totalTestResultsIncrease\": 52025.0, \"positiveIncrease\": 524.0, \"death\": 24855.0, \"deathIncrease\": 13.0, \"positiveRate\": 0.01, \"state\": \"New York\", \"sma7d\": 0.01}, {\"date\": \"2020-07-01T00:00:00\", \"totalTestResultsIncrease\": 56710.0, \"positiveIncrease\": 625.0, \"death\": 24866.0, \"deathIncrease\": 11.0, \"positiveRate\": 0.011, \"state\": \"New York\", \"sma7d\": 0.01}, {\"date\": \"2020-07-02T00:00:00\", \"totalTestResultsIncrease\": 69945.0, \"positiveIncrease\": 875.0, \"death\": 24877.0, \"deathIncrease\": 11.0, \"positiveRate\": 0.013, \"state\": \"New York\", \"sma7d\": 0.011}, {\"date\": \"2020-07-03T00:00:00\", \"totalTestResultsIncrease\": 66392.0, \"positiveIncrease\": 918.0, \"death\": 24885.0, \"deathIncrease\": 8.0, \"positiveRate\": 0.014, \"state\": \"New York\", \"sma7d\": 0.011}, {\"date\": \"2020-07-04T00:00:00\", \"totalTestResultsIncrease\": 62403.0, \"positiveIncrease\": 726.0, \"death\": 24896.0, \"deathIncrease\": 11.0, \"positiveRate\": 0.012, \"state\": \"New York\", \"sma7d\": 0.011}, {\"date\": \"2020-07-05T00:00:00\", \"totalTestResultsIncrease\": 63415.0, \"positiveIncrease\": 533.0, \"death\": 24904.0, \"deathIncrease\": 8.0, \"positiveRate\": 0.008, \"state\": \"New York\", \"sma7d\": 0.011}, {\"date\": \"2020-07-06T00:00:00\", \"totalTestResultsIncrease\": 54328.0, \"positiveIncrease\": 518.0, \"death\": 24913.0, \"deathIncrease\": 9.0, \"positiveRate\": 0.01, \"state\": \"New York\", \"sma7d\": 0.011}, {\"date\": \"2020-07-07T00:00:00\", \"totalTestResultsIncrease\": 56736.0, \"positiveIncrease\": 588.0, \"death\": 24924.0, \"deathIncrease\": 11.0, \"positiveRate\": 0.01, \"state\": \"New York\", \"sma7d\": 0.011}, {\"date\": \"2020-07-08T00:00:00\", \"totalTestResultsIncrease\": 57585.0, \"positiveIncrease\": 692.0, \"death\": 24944.0, \"deathIncrease\": 20.0, \"positiveRate\": 0.012, \"state\": \"New York\", \"sma7d\": 0.011}, {\"date\": \"2020-07-09T00:00:00\", \"totalTestResultsIncrease\": 65564.0, \"positiveIncrease\": 584.0, \"death\": 24959.0, \"deathIncrease\": 15.0, \"positiveRate\": 0.009, \"state\": \"New York\", \"sma7d\": 0.011}, {\"date\": \"2020-07-10T00:00:00\", \"totalTestResultsIncrease\": 73558.0, \"positiveIncrease\": 786.0, \"death\": 24968.0, \"deathIncrease\": 9.0, \"positiveRate\": 0.011, \"state\": \"New York\", \"sma7d\": 0.01}, {\"date\": \"2020-07-11T00:00:00\", \"totalTestResultsIncrease\": 69203.0, \"positiveIncrease\": 730.0, \"death\": 24974.0, \"deathIncrease\": 6.0, \"positiveRate\": 0.011, \"state\": \"New York\", \"sma7d\": 0.01}, {\"date\": \"2020-07-12T00:00:00\", \"totalTestResultsIncrease\": 62418.0, \"positiveIncrease\": 677.0, \"death\": 24979.0, \"deathIncrease\": 5.0, \"positiveRate\": 0.011, \"state\": \"New York\", \"sma7d\": 0.011}, {\"date\": \"2020-07-13T00:00:00\", \"totalTestResultsIncrease\": 51687.0, \"positiveIncrease\": 557.0, \"death\": 24989.0, \"deathIncrease\": 10.0, \"positiveRate\": 0.011, \"state\": \"New York\", \"sma7d\": 0.011}, {\"date\": \"2020-07-14T00:00:00\", \"totalTestResultsIncrease\": 60045.0, \"positiveIncrease\": 912.0, \"death\": 24994.0, \"deathIncrease\": 5.0, \"positiveRate\": 0.015, \"state\": \"New York\", \"sma7d\": 0.011}, {\"date\": \"2020-07-15T00:00:00\", \"totalTestResultsIncrease\": 63598.0, \"positiveIncrease\": 831.0, \"death\": 25003.0, \"deathIncrease\": 9.0, \"positiveRate\": 0.013, \"state\": \"New York\", \"sma7d\": 0.012}, {\"date\": \"2020-07-16T00:00:00\", \"totalTestResultsIncrease\": 72685.0, \"positiveIncrease\": 769.0, \"death\": 25014.0, \"deathIncrease\": 11.0, \"positiveRate\": 0.011, \"state\": \"New York\", \"sma7d\": 0.012}, {\"date\": \"2020-07-17T00:00:00\", \"totalTestResultsIncrease\": 78239.0, \"positiveIncrease\": 776.0, \"death\": 25024.0, \"deathIncrease\": 10.0, \"positiveRate\": 0.01, \"state\": \"New York\", \"sma7d\": 0.012}, {\"date\": \"2020-07-18T00:00:00\", \"totalTestResultsIncrease\": 69817.0, \"positiveIncrease\": 754.0, \"death\": 25035.0, \"deathIncrease\": 11.0, \"positiveRate\": 0.011, \"state\": \"New York\", \"sma7d\": 0.012}, {\"date\": \"2020-07-19T00:00:00\", \"totalTestResultsIncrease\": 46204.0, \"positiveIncrease\": 502.0, \"death\": 25048.0, \"deathIncrease\": 13.0, \"positiveRate\": 0.011, \"state\": \"New York\", \"sma7d\": 0.012}, {\"date\": \"2020-07-20T00:00:00\", \"totalTestResultsIncrease\": 49342.0, \"positiveIncrease\": 519.0, \"death\": 25056.0, \"deathIncrease\": 8.0, \"positiveRate\": 0.011, \"state\": \"New York\", \"sma7d\": 0.012}, {\"date\": \"2020-07-21T00:00:00\", \"totalTestResultsIncrease\": 66169.0, \"positiveIncrease\": 855.0, \"death\": 25058.0, \"deathIncrease\": 2.0, \"positiveRate\": 0.013, \"state\": \"New York\", \"sma7d\": 0.011}, {\"date\": \"2020-07-22T00:00:00\", \"totalTestResultsIncrease\": 67659.0, \"positiveIncrease\": 705.0, \"death\": 25068.0, \"deathIncrease\": 10.0, \"positiveRate\": 0.01, \"state\": \"New York\", \"sma7d\": 0.011}, {\"date\": \"2020-07-23T00:00:00\", \"totalTestResultsIncrease\": 69698.0, \"positiveIncrease\": 811.0, \"death\": 25081.0, \"deathIncrease\": 13.0, \"positiveRate\": 0.012, \"state\": \"New York\", \"sma7d\": 0.011}, {\"date\": \"2020-07-24T00:00:00\", \"totalTestResultsIncrease\": 76507.0, \"positiveIncrease\": 753.0, \"death\": 25090.0, \"deathIncrease\": 9.0, \"positiveRate\": 0.01, \"state\": \"New York\", \"sma7d\": 0.011}, {\"date\": \"2020-07-25T00:00:00\", \"totalTestResultsIncrease\": 71466.0, \"positiveIncrease\": 750.0, \"death\": 25103.0, \"deathIncrease\": 13.0, \"positiveRate\": 0.01, \"state\": \"New York\", \"sma7d\": 0.011}, {\"date\": \"2020-07-26T00:00:00\", \"totalTestResultsIncrease\": 53568.0, \"positiveIncrease\": 536.0, \"death\": 25106.0, \"deathIncrease\": 3.0, \"positiveRate\": 0.01, \"state\": \"New York\", \"sma7d\": 0.011}, {\"date\": \"2020-07-27T00:00:00\", \"totalTestResultsIncrease\": 57270.0, \"positiveIncrease\": 608.0, \"death\": 25117.0, \"deathIncrease\": 11.0, \"positiveRate\": 0.011, \"state\": \"New York\", \"sma7d\": 0.011}, {\"date\": \"2020-07-28T00:00:00\", \"totalTestResultsIncrease\": 57397.0, \"positiveIncrease\": 534.0, \"death\": 25126.0, \"deathIncrease\": 9.0, \"positiveRate\": 0.009, \"state\": \"New York\", \"sma7d\": 0.01}, {\"date\": \"2020-07-29T00:00:00\", \"totalTestResultsIncrease\": 62276.0, \"positiveIncrease\": 715.0, \"death\": 25132.0, \"deathIncrease\": 6.0, \"positiveRate\": 0.011, \"state\": \"New York\", \"sma7d\": 0.01}, {\"date\": \"2020-07-30T00:00:00\", \"totalTestResultsIncrease\": 73546.0, \"positiveIncrease\": 777.0, \"death\": 25145.0, \"deathIncrease\": 13.0, \"positiveRate\": 0.011, \"state\": \"New York\", \"sma7d\": 0.01}, {\"date\": \"2020-07-31T00:00:00\", \"totalTestResultsIncrease\": 68869.0, \"positiveIncrease\": 644.0, \"death\": 25150.0, \"deathIncrease\": 5.0, \"positiveRate\": 0.009, \"state\": \"New York\", \"sma7d\": 0.01}, {\"date\": \"2020-08-01T00:00:00\", \"totalTestResultsIncrease\": 82737.0, \"positiveIncrease\": 753.0, \"death\": 25164.0, \"deathIncrease\": 14.0, \"positiveRate\": 0.009, \"state\": \"New York\", \"sma7d\": 0.01}, {\"date\": \"2020-08-02T00:00:00\", \"totalTestResultsIncrease\": 58961.0, \"positiveIncrease\": 531.0, \"death\": 25170.0, \"deathIncrease\": 6.0, \"positiveRate\": 0.009, \"state\": \"New York\", \"sma7d\": 0.01}, {\"date\": \"2020-08-03T00:00:00\", \"totalTestResultsIncrease\": 51839.0, \"positiveIncrease\": 545.0, \"death\": 25172.0, \"deathIncrease\": 2.0, \"positiveRate\": 0.011, \"state\": \"New York\", \"sma7d\": 0.01}, {\"date\": \"2020-08-04T00:00:00\", \"totalTestResultsIncrease\": 70993.0, \"positiveIncrease\": 746.0, \"death\": 25175.0, \"deathIncrease\": 3.0, \"positiveRate\": 0.011, \"state\": \"New York\", \"sma7d\": 0.01}, {\"date\": \"2020-08-05T00:00:00\", \"totalTestResultsIncrease\": 72668.0, \"positiveIncrease\": 636.0, \"death\": 25179.0, \"deathIncrease\": 4.0, \"positiveRate\": 0.009, \"state\": \"New York\", \"sma7d\": 0.01}, {\"date\": \"2020-08-06T00:00:00\", \"totalTestResultsIncrease\": 72370.0, \"positiveIncrease\": 703.0, \"death\": 25185.0, \"deathIncrease\": 6.0, \"positiveRate\": 0.01, \"state\": \"New York\", \"sma7d\": 0.01}, {\"date\": \"2020-08-07T00:00:00\", \"totalTestResultsIncrease\": 70170.0, \"positiveIncrease\": 714.0, \"death\": 25190.0, \"deathIncrease\": 5.0, \"positiveRate\": 0.01, \"state\": \"New York\", \"sma7d\": 0.01}]}}, {\"mode\": \"vega-lite\"});\n",
       "</script>"
      ],
      "text/plain": [
       "alt.LayerChart(...)"
      ]
     },
     "execution_count": 12,
     "metadata": {},
     "output_type": "execute_result"
    }
   ],
   "source": [
    "create_plot(ny, 'positiveRate')"
   ]
  },
  {
   "cell_type": "code",
   "execution_count": 13,
   "metadata": {
    "execution": {
     "iopub.execute_input": "2020-08-07T22:33:29.799355Z",
     "iopub.status.busy": "2020-08-07T22:33:29.788910Z",
     "iopub.status.idle": "2020-08-07T22:33:29.880455Z",
     "shell.execute_reply": "2020-08-07T22:33:29.880974Z"
    },
    "papermill": {
     "duration": 0.122489,
     "end_time": "2020-08-07T22:33:29.881137",
     "exception": false,
     "start_time": "2020-08-07T22:33:29.758648",
     "status": "completed"
    },
    "tags": []
   },
   "outputs": [
    {
     "data": {
      "text/html": [
       "\n",
       "<div id=\"altair-viz-747f593bb79c4a4f897567074ebaf17e\"></div>\n",
       "<script type=\"text/javascript\">\n",
       "  (function(spec, embedOpt){\n",
       "    let outputDiv = document.currentScript.previousElementSibling;\n",
       "    if (outputDiv.id !== \"altair-viz-747f593bb79c4a4f897567074ebaf17e\") {\n",
       "      outputDiv = document.getElementById(\"altair-viz-747f593bb79c4a4f897567074ebaf17e\");\n",
       "    }\n",
       "    const paths = {\n",
       "      \"vega\": \"https://cdn.jsdelivr.net/npm//vega@5?noext\",\n",
       "      \"vega-lib\": \"https://cdn.jsdelivr.net/npm//vega-lib?noext\",\n",
       "      \"vega-lite\": \"https://cdn.jsdelivr.net/npm//vega-lite@4.8.1?noext\",\n",
       "      \"vega-embed\": \"https://cdn.jsdelivr.net/npm//vega-embed@6?noext\",\n",
       "    };\n",
       "\n",
       "    function loadScript(lib) {\n",
       "      return new Promise(function(resolve, reject) {\n",
       "        var s = document.createElement('script');\n",
       "        s.src = paths[lib];\n",
       "        s.async = true;\n",
       "        s.onload = () => resolve(paths[lib]);\n",
       "        s.onerror = () => reject(`Error loading script: ${paths[lib]}`);\n",
       "        document.getElementsByTagName(\"head\")[0].appendChild(s);\n",
       "      });\n",
       "    }\n",
       "\n",
       "    function showError(err) {\n",
       "      outputDiv.innerHTML = `<div class=\"error\" style=\"color:red;\">${err}</div>`;\n",
       "      throw err;\n",
       "    }\n",
       "\n",
       "    function displayChart(vegaEmbed) {\n",
       "      vegaEmbed(outputDiv, spec, embedOpt)\n",
       "        .catch(err => showError(`Javascript Error: ${err.message}<br>This usually means there's a typo in your chart specification. See the javascript console for the full traceback.`));\n",
       "    }\n",
       "\n",
       "    if(typeof define === \"function\" && define.amd) {\n",
       "      requirejs.config({paths});\n",
       "      require([\"vega-embed\"], displayChart, err => showError(`Error loading script: ${err.message}`));\n",
       "    } else if (typeof vegaEmbed === \"function\") {\n",
       "      displayChart(vegaEmbed);\n",
       "    } else {\n",
       "      loadScript(\"vega\")\n",
       "        .then(() => loadScript(\"vega-lite\"))\n",
       "        .then(() => loadScript(\"vega-embed\"))\n",
       "        .catch(showError)\n",
       "        .then(() => displayChart(vegaEmbed));\n",
       "    }\n",
       "  })({\"config\": {\"view\": {\"continuousWidth\": 400, \"continuousHeight\": 300}}, \"layer\": [{\"layer\": [{\"mark\": {\"type\": \"point\", \"size\": 75}, \"encoding\": {\"tooltip\": [{\"type\": \"temporal\", \"field\": \"date\"}, {\"type\": \"quantitative\", \"field\": \"deathIncrease\"}, {\"type\": \"quantitative\", \"field\": \"sma7d\"}], \"x\": {\"type\": \"temporal\", \"field\": \"date\"}, \"y\": {\"type\": \"quantitative\", \"field\": \"deathIncrease\"}}, \"selection\": {\"selector012\": {\"type\": \"interval\", \"bind\": \"scales\", \"encodings\": [\"x\", \"y\"]}}}, {\"mark\": {\"type\": \"line\", \"color\": \"purple\"}, \"encoding\": {\"x\": {\"type\": \"temporal\", \"field\": \"date\"}, \"y\": {\"type\": \"quantitative\", \"field\": \"sma7d\"}}}]}, {\"mark\": {\"type\": \"rule\", \"color\": \"#aaa\"}, \"encoding\": {\"x\": {\"type\": \"temporal\", \"field\": \"date\"}}, \"transform\": [{\"filter\": {\"selection\": \"selector011\"}}]}, {\"mark\": \"circle\", \"encoding\": {\"opacity\": {\"condition\": {\"value\": 1, \"selection\": \"selector011\"}, \"value\": 0}, \"tooltip\": [{\"type\": \"temporal\", \"field\": \"date\"}, {\"type\": \"quantitative\", \"field\": \"deathIncrease\"}, {\"type\": \"quantitative\", \"field\": \"sma7d\"}], \"x\": {\"type\": \"temporal\", \"field\": \"date\"}, \"y\": {\"type\": \"quantitative\", \"field\": \"deathIncrease\"}}, \"selection\": {\"selector011\": {\"type\": \"single\", \"encodings\": [\"x\"], \"on\": \"mouseover\", \"nearest\": true, \"empty\": \"none\"}}}, {\"mark\": {\"type\": \"text\", \"align\": \"left\", \"dx\": 5, \"dy\": -5, \"stroke\": \"white\", \"strokeWidth\": 2}, \"encoding\": {\"text\": {\"type\": \"quantitative\", \"field\": \"deathIncrease\"}, \"tooltip\": [{\"type\": \"temporal\", \"field\": \"date\"}, {\"type\": \"quantitative\", \"field\": \"deathIncrease\"}, {\"type\": \"quantitative\", \"field\": \"sma7d\"}], \"x\": {\"type\": \"temporal\", \"field\": \"date\"}, \"y\": {\"type\": \"quantitative\", \"field\": \"deathIncrease\"}}, \"transform\": [{\"filter\": {\"selection\": \"selector011\"}}]}, {\"mark\": {\"type\": \"text\", \"align\": \"left\", \"dx\": 5, \"dy\": -5}, \"encoding\": {\"text\": {\"type\": \"quantitative\", \"field\": \"deathIncrease\"}, \"tooltip\": [{\"type\": \"temporal\", \"field\": \"date\"}, {\"type\": \"quantitative\", \"field\": \"deathIncrease\"}, {\"type\": \"quantitative\", \"field\": \"sma7d\"}], \"x\": {\"type\": \"temporal\", \"field\": \"date\"}, \"y\": {\"type\": \"quantitative\", \"field\": \"deathIncrease\"}}, \"transform\": [{\"filter\": {\"selection\": \"selector011\"}}]}], \"data\": {\"name\": \"data-7e61884940fb0f2caba40950075f3248\"}, \"height\": 400, \"title\": \"New York: deathIncrease\", \"width\": 500, \"$schema\": \"https://vega.github.io/schema/vega-lite/v4.8.1.json\", \"datasets\": {\"data-7e61884940fb0f2caba40950075f3248\": [{\"date\": \"2020-06-13T00:00:00\", \"totalTestResultsIncrease\": 70840.0, \"positiveIncrease\": 916.0, \"death\": 24527.0, \"deathIncrease\": 32.0, \"positiveRate\": 0.013, \"state\": \"New York\", \"sma7d\": 45.0}, {\"date\": \"2020-06-14T00:00:00\", \"totalTestResultsIncrease\": 62359.0, \"positiveIncrease\": 694.0, \"death\": 24551.0, \"deathIncrease\": 24.0, \"positiveRate\": 0.011, \"state\": \"New York\", \"sma7d\": 41.714}, {\"date\": \"2020-06-15T00:00:00\", \"totalTestResultsIncrease\": 56611.0, \"positiveIncrease\": 620.0, \"death\": 24579.0, \"deathIncrease\": 28.0, \"positiveRate\": 0.011, \"state\": \"New York\", \"sma7d\": 40.0}, {\"date\": \"2020-06-16T00:00:00\", \"totalTestResultsIncrease\": 60568.0, \"positiveIncrease\": 631.0, \"death\": 24608.0, \"deathIncrease\": 29.0, \"positiveRate\": 0.01, \"state\": \"New York\", \"sma7d\": 37.143}, {\"date\": \"2020-06-17T00:00:00\", \"totalTestResultsIncrease\": 59341.0, \"positiveIncrease\": 567.0, \"death\": 24629.0, \"deathIncrease\": 21.0, \"positiveRate\": 0.01, \"state\": \"New York\", \"sma7d\": 32.143}, {\"date\": \"2020-06-18T00:00:00\", \"totalTestResultsIncrease\": 68541.0, \"positiveIncrease\": 618.0, \"death\": 24661.0, \"deathIncrease\": 32.0, \"positiveRate\": 0.009, \"state\": \"New York\", \"sma7d\": 31.286}, {\"date\": \"2020-06-19T00:00:00\", \"totalTestResultsIncrease\": 79303.0, \"positiveIncrease\": 796.0, \"death\": 24686.0, \"deathIncrease\": 25.0, \"positiveRate\": 0.01, \"state\": \"New York\", \"sma7d\": 27.286}, {\"date\": \"2020-06-20T00:00:00\", \"totalTestResultsIncrease\": 68830.0, \"positiveIncrease\": 716.0, \"death\": 24710.0, \"deathIncrease\": 24.0, \"positiveRate\": 0.01, \"state\": \"New York\", \"sma7d\": 26.143}, {\"date\": \"2020-06-21T00:00:00\", \"totalTestResultsIncrease\": 67526.0, \"positiveIncrease\": 664.0, \"death\": 24725.0, \"deathIncrease\": 15.0, \"positiveRate\": 0.01, \"state\": \"New York\", \"sma7d\": 24.857}, {\"date\": \"2020-06-22T00:00:00\", \"totalTestResultsIncrease\": 56780.0, \"positiveIncrease\": 552.0, \"death\": 24739.0, \"deathIncrease\": 14.0, \"positiveRate\": 0.01, \"state\": \"New York\", \"sma7d\": 22.857}, {\"date\": \"2020-06-23T00:00:00\", \"totalTestResultsIncrease\": 48709.0, \"positiveIncrease\": 597.0, \"death\": 24766.0, \"deathIncrease\": 27.0, \"positiveRate\": 0.012, \"state\": \"New York\", \"sma7d\": 22.571}, {\"date\": \"2020-06-24T00:00:00\", \"totalTestResultsIncrease\": 51144.0, \"positiveIncrease\": 581.0, \"death\": 24782.0, \"deathIncrease\": 16.0, \"positiveRate\": 0.011, \"state\": \"New York\", \"sma7d\": 21.857}, {\"date\": \"2020-06-25T00:00:00\", \"totalTestResultsIncrease\": 67642.0, \"positiveIncrease\": 749.0, \"death\": 24800.0, \"deathIncrease\": 18.0, \"positiveRate\": 0.011, \"state\": \"New York\", \"sma7d\": 19.857}, {\"date\": \"2020-06-26T00:00:00\", \"totalTestResultsIncrease\": 61723.0, \"positiveIncrease\": 805.0, \"death\": 24814.0, \"deathIncrease\": 14.0, \"positiveRate\": 0.013, \"state\": \"New York\", \"sma7d\": 18.286}, {\"date\": \"2020-06-27T00:00:00\", \"totalTestResultsIncrease\": 73262.0, \"positiveIncrease\": 703.0, \"death\": 24830.0, \"deathIncrease\": 16.0, \"positiveRate\": 0.01, \"state\": \"New York\", \"sma7d\": 17.143}, {\"date\": \"2020-06-28T00:00:00\", \"totalTestResultsIncrease\": 61906.0, \"positiveIncrease\": 616.0, \"death\": 24835.0, \"deathIncrease\": 5.0, \"positiveRate\": 0.01, \"state\": \"New York\", \"sma7d\": 15.714}, {\"date\": \"2020-06-29T00:00:00\", \"totalTestResultsIncrease\": 46428.0, \"positiveIncrease\": 391.0, \"death\": 24842.0, \"deathIncrease\": 7.0, \"positiveRate\": 0.008, \"state\": \"New York\", \"sma7d\": 14.714}, {\"date\": \"2020-06-30T00:00:00\", \"totalTestResultsIncrease\": 52025.0, \"positiveIncrease\": 524.0, \"death\": 24855.0, \"deathIncrease\": 13.0, \"positiveRate\": 0.01, \"state\": \"New York\", \"sma7d\": 12.714}, {\"date\": \"2020-07-01T00:00:00\", \"totalTestResultsIncrease\": 56710.0, \"positiveIncrease\": 625.0, \"death\": 24866.0, \"deathIncrease\": 11.0, \"positiveRate\": 0.011, \"state\": \"New York\", \"sma7d\": 12.0}, {\"date\": \"2020-07-02T00:00:00\", \"totalTestResultsIncrease\": 69945.0, \"positiveIncrease\": 875.0, \"death\": 24877.0, \"deathIncrease\": 11.0, \"positiveRate\": 0.013, \"state\": \"New York\", \"sma7d\": 11.0}, {\"date\": \"2020-07-03T00:00:00\", \"totalTestResultsIncrease\": 66392.0, \"positiveIncrease\": 918.0, \"death\": 24885.0, \"deathIncrease\": 8.0, \"positiveRate\": 0.014, \"state\": \"New York\", \"sma7d\": 10.143}, {\"date\": \"2020-07-04T00:00:00\", \"totalTestResultsIncrease\": 62403.0, \"positiveIncrease\": 726.0, \"death\": 24896.0, \"deathIncrease\": 11.0, \"positiveRate\": 0.012, \"state\": \"New York\", \"sma7d\": 9.429}, {\"date\": \"2020-07-05T00:00:00\", \"totalTestResultsIncrease\": 63415.0, \"positiveIncrease\": 533.0, \"death\": 24904.0, \"deathIncrease\": 8.0, \"positiveRate\": 0.008, \"state\": \"New York\", \"sma7d\": 9.857}, {\"date\": \"2020-07-06T00:00:00\", \"totalTestResultsIncrease\": 54328.0, \"positiveIncrease\": 518.0, \"death\": 24913.0, \"deathIncrease\": 9.0, \"positiveRate\": 0.01, \"state\": \"New York\", \"sma7d\": 10.143}, {\"date\": \"2020-07-07T00:00:00\", \"totalTestResultsIncrease\": 56736.0, \"positiveIncrease\": 588.0, \"death\": 24924.0, \"deathIncrease\": 11.0, \"positiveRate\": 0.01, \"state\": \"New York\", \"sma7d\": 9.857}, {\"date\": \"2020-07-08T00:00:00\", \"totalTestResultsIncrease\": 57585.0, \"positiveIncrease\": 692.0, \"death\": 24944.0, \"deathIncrease\": 20.0, \"positiveRate\": 0.012, \"state\": \"New York\", \"sma7d\": 11.143}, {\"date\": \"2020-07-09T00:00:00\", \"totalTestResultsIncrease\": 65564.0, \"positiveIncrease\": 584.0, \"death\": 24959.0, \"deathIncrease\": 15.0, \"positiveRate\": 0.009, \"state\": \"New York\", \"sma7d\": 11.714}, {\"date\": \"2020-07-10T00:00:00\", \"totalTestResultsIncrease\": 73558.0, \"positiveIncrease\": 786.0, \"death\": 24968.0, \"deathIncrease\": 9.0, \"positiveRate\": 0.011, \"state\": \"New York\", \"sma7d\": 11.857}, {\"date\": \"2020-07-11T00:00:00\", \"totalTestResultsIncrease\": 69203.0, \"positiveIncrease\": 730.0, \"death\": 24974.0, \"deathIncrease\": 6.0, \"positiveRate\": 0.011, \"state\": \"New York\", \"sma7d\": 11.143}, {\"date\": \"2020-07-12T00:00:00\", \"totalTestResultsIncrease\": 62418.0, \"positiveIncrease\": 677.0, \"death\": 24979.0, \"deathIncrease\": 5.0, \"positiveRate\": 0.011, \"state\": \"New York\", \"sma7d\": 10.714}, {\"date\": \"2020-07-13T00:00:00\", \"totalTestResultsIncrease\": 51687.0, \"positiveIncrease\": 557.0, \"death\": 24989.0, \"deathIncrease\": 10.0, \"positiveRate\": 0.011, \"state\": \"New York\", \"sma7d\": 10.857}, {\"date\": \"2020-07-14T00:00:00\", \"totalTestResultsIncrease\": 60045.0, \"positiveIncrease\": 912.0, \"death\": 24994.0, \"deathIncrease\": 5.0, \"positiveRate\": 0.015, \"state\": \"New York\", \"sma7d\": 10.0}, {\"date\": \"2020-07-15T00:00:00\", \"totalTestResultsIncrease\": 63598.0, \"positiveIncrease\": 831.0, \"death\": 25003.0, \"deathIncrease\": 9.0, \"positiveRate\": 0.013, \"state\": \"New York\", \"sma7d\": 8.429}, {\"date\": \"2020-07-16T00:00:00\", \"totalTestResultsIncrease\": 72685.0, \"positiveIncrease\": 769.0, \"death\": 25014.0, \"deathIncrease\": 11.0, \"positiveRate\": 0.011, \"state\": \"New York\", \"sma7d\": 7.857}, {\"date\": \"2020-07-17T00:00:00\", \"totalTestResultsIncrease\": 78239.0, \"positiveIncrease\": 776.0, \"death\": 25024.0, \"deathIncrease\": 10.0, \"positiveRate\": 0.01, \"state\": \"New York\", \"sma7d\": 8.0}, {\"date\": \"2020-07-18T00:00:00\", \"totalTestResultsIncrease\": 69817.0, \"positiveIncrease\": 754.0, \"death\": 25035.0, \"deathIncrease\": 11.0, \"positiveRate\": 0.011, \"state\": \"New York\", \"sma7d\": 8.714}, {\"date\": \"2020-07-19T00:00:00\", \"totalTestResultsIncrease\": 46204.0, \"positiveIncrease\": 502.0, \"death\": 25048.0, \"deathIncrease\": 13.0, \"positiveRate\": 0.011, \"state\": \"New York\", \"sma7d\": 9.857}, {\"date\": \"2020-07-20T00:00:00\", \"totalTestResultsIncrease\": 49342.0, \"positiveIncrease\": 519.0, \"death\": 25056.0, \"deathIncrease\": 8.0, \"positiveRate\": 0.011, \"state\": \"New York\", \"sma7d\": 9.571}, {\"date\": \"2020-07-21T00:00:00\", \"totalTestResultsIncrease\": 66169.0, \"positiveIncrease\": 855.0, \"death\": 25058.0, \"deathIncrease\": 2.0, \"positiveRate\": 0.013, \"state\": \"New York\", \"sma7d\": 9.143}, {\"date\": \"2020-07-22T00:00:00\", \"totalTestResultsIncrease\": 67659.0, \"positiveIncrease\": 705.0, \"death\": 25068.0, \"deathIncrease\": 10.0, \"positiveRate\": 0.01, \"state\": \"New York\", \"sma7d\": 9.286}, {\"date\": \"2020-07-23T00:00:00\", \"totalTestResultsIncrease\": 69698.0, \"positiveIncrease\": 811.0, \"death\": 25081.0, \"deathIncrease\": 13.0, \"positiveRate\": 0.012, \"state\": \"New York\", \"sma7d\": 9.571}, {\"date\": \"2020-07-24T00:00:00\", \"totalTestResultsIncrease\": 76507.0, \"positiveIncrease\": 753.0, \"death\": 25090.0, \"deathIncrease\": 9.0, \"positiveRate\": 0.01, \"state\": \"New York\", \"sma7d\": 9.429}, {\"date\": \"2020-07-25T00:00:00\", \"totalTestResultsIncrease\": 71466.0, \"positiveIncrease\": 750.0, \"death\": 25103.0, \"deathIncrease\": 13.0, \"positiveRate\": 0.01, \"state\": \"New York\", \"sma7d\": 9.714}, {\"date\": \"2020-07-26T00:00:00\", \"totalTestResultsIncrease\": 53568.0, \"positiveIncrease\": 536.0, \"death\": 25106.0, \"deathIncrease\": 3.0, \"positiveRate\": 0.01, \"state\": \"New York\", \"sma7d\": 8.286}, {\"date\": \"2020-07-27T00:00:00\", \"totalTestResultsIncrease\": 57270.0, \"positiveIncrease\": 608.0, \"death\": 25117.0, \"deathIncrease\": 11.0, \"positiveRate\": 0.011, \"state\": \"New York\", \"sma7d\": 8.714}, {\"date\": \"2020-07-28T00:00:00\", \"totalTestResultsIncrease\": 57397.0, \"positiveIncrease\": 534.0, \"death\": 25126.0, \"deathIncrease\": 9.0, \"positiveRate\": 0.009, \"state\": \"New York\", \"sma7d\": 9.714}, {\"date\": \"2020-07-29T00:00:00\", \"totalTestResultsIncrease\": 62276.0, \"positiveIncrease\": 715.0, \"death\": 25132.0, \"deathIncrease\": 6.0, \"positiveRate\": 0.011, \"state\": \"New York\", \"sma7d\": 9.143}, {\"date\": \"2020-07-30T00:00:00\", \"totalTestResultsIncrease\": 73546.0, \"positiveIncrease\": 777.0, \"death\": 25145.0, \"deathIncrease\": 13.0, \"positiveRate\": 0.011, \"state\": \"New York\", \"sma7d\": 9.143}, {\"date\": \"2020-07-31T00:00:00\", \"totalTestResultsIncrease\": 68869.0, \"positiveIncrease\": 644.0, \"death\": 25150.0, \"deathIncrease\": 5.0, \"positiveRate\": 0.009, \"state\": \"New York\", \"sma7d\": 8.571}, {\"date\": \"2020-08-01T00:00:00\", \"totalTestResultsIncrease\": 82737.0, \"positiveIncrease\": 753.0, \"death\": 25164.0, \"deathIncrease\": 14.0, \"positiveRate\": 0.009, \"state\": \"New York\", \"sma7d\": 8.714}, {\"date\": \"2020-08-02T00:00:00\", \"totalTestResultsIncrease\": 58961.0, \"positiveIncrease\": 531.0, \"death\": 25170.0, \"deathIncrease\": 6.0, \"positiveRate\": 0.009, \"state\": \"New York\", \"sma7d\": 9.143}, {\"date\": \"2020-08-03T00:00:00\", \"totalTestResultsIncrease\": 51839.0, \"positiveIncrease\": 545.0, \"death\": 25172.0, \"deathIncrease\": 2.0, \"positiveRate\": 0.011, \"state\": \"New York\", \"sma7d\": 7.857}, {\"date\": \"2020-08-04T00:00:00\", \"totalTestResultsIncrease\": 70993.0, \"positiveIncrease\": 746.0, \"death\": 25175.0, \"deathIncrease\": 3.0, \"positiveRate\": 0.011, \"state\": \"New York\", \"sma7d\": 7.0}, {\"date\": \"2020-08-05T00:00:00\", \"totalTestResultsIncrease\": 72668.0, \"positiveIncrease\": 636.0, \"death\": 25179.0, \"deathIncrease\": 4.0, \"positiveRate\": 0.009, \"state\": \"New York\", \"sma7d\": 6.714}, {\"date\": \"2020-08-06T00:00:00\", \"totalTestResultsIncrease\": 72370.0, \"positiveIncrease\": 703.0, \"death\": 25185.0, \"deathIncrease\": 6.0, \"positiveRate\": 0.01, \"state\": \"New York\", \"sma7d\": 5.714}, {\"date\": \"2020-08-07T00:00:00\", \"totalTestResultsIncrease\": 70170.0, \"positiveIncrease\": 714.0, \"death\": 25190.0, \"deathIncrease\": 5.0, \"positiveRate\": 0.01, \"state\": \"New York\", \"sma7d\": 5.714}]}}, {\"mode\": \"vega-lite\"});\n",
       "</script>"
      ],
      "text/plain": [
       "alt.LayerChart(...)"
      ]
     },
     "execution_count": 13,
     "metadata": {},
     "output_type": "execute_result"
    }
   ],
   "source": [
    "create_plot(ny, 'deathIncrease')"
   ]
  },
  {
   "cell_type": "markdown",
   "metadata": {
    "papermill": {
     "duration": 0.017951,
     "end_time": "2020-08-07T22:33:29.918530",
     "exception": false,
     "start_time": "2020-08-07T22:33:29.900579",
     "status": "completed"
    },
    "tags": []
   },
   "source": [
    "## Non Tri-State"
   ]
  },
  {
   "cell_type": "code",
   "execution_count": 14,
   "metadata": {
    "execution": {
     "iopub.execute_input": "2020-08-07T22:33:29.960551Z",
     "iopub.status.busy": "2020-08-07T22:33:29.959948Z",
     "iopub.status.idle": "2020-08-07T22:33:30.237161Z",
     "shell.execute_reply": "2020-08-07T22:33:30.237722Z"
    },
    "papermill": {
     "duration": 0.300199,
     "end_time": "2020-08-07T22:33:30.237893",
     "exception": false,
     "start_time": "2020-08-07T22:33:29.937694",
     "status": "completed"
    },
    "tags": []
   },
   "outputs": [],
   "source": [
    "non_tristate = create_df(df, lambda d: ~d['state'].isin(['CT','NJ','NY']), 'Non Tri-State')"
   ]
  },
  {
   "cell_type": "code",
   "execution_count": 15,
   "metadata": {
    "execution": {
     "iopub.execute_input": "2020-08-07T22:33:30.294088Z",
     "iopub.status.busy": "2020-08-07T22:33:30.288877Z",
     "iopub.status.idle": "2020-08-07T22:33:30.396679Z",
     "shell.execute_reply": "2020-08-07T22:33:30.397230Z"
    },
    "papermill": {
     "duration": 0.139127,
     "end_time": "2020-08-07T22:33:30.397392",
     "exception": false,
     "start_time": "2020-08-07T22:33:30.258265",
     "status": "completed"
    },
    "tags": []
   },
   "outputs": [
    {
     "data": {
      "text/html": [
       "\n",
       "<div id=\"altair-viz-e6e32b023aea4bb195d65ef7a5d8ddaa\"></div>\n",
       "<script type=\"text/javascript\">\n",
       "  (function(spec, embedOpt){\n",
       "    let outputDiv = document.currentScript.previousElementSibling;\n",
       "    if (outputDiv.id !== \"altair-viz-e6e32b023aea4bb195d65ef7a5d8ddaa\") {\n",
       "      outputDiv = document.getElementById(\"altair-viz-e6e32b023aea4bb195d65ef7a5d8ddaa\");\n",
       "    }\n",
       "    const paths = {\n",
       "      \"vega\": \"https://cdn.jsdelivr.net/npm//vega@5?noext\",\n",
       "      \"vega-lib\": \"https://cdn.jsdelivr.net/npm//vega-lib?noext\",\n",
       "      \"vega-lite\": \"https://cdn.jsdelivr.net/npm//vega-lite@4.8.1?noext\",\n",
       "      \"vega-embed\": \"https://cdn.jsdelivr.net/npm//vega-embed@6?noext\",\n",
       "    };\n",
       "\n",
       "    function loadScript(lib) {\n",
       "      return new Promise(function(resolve, reject) {\n",
       "        var s = document.createElement('script');\n",
       "        s.src = paths[lib];\n",
       "        s.async = true;\n",
       "        s.onload = () => resolve(paths[lib]);\n",
       "        s.onerror = () => reject(`Error loading script: ${paths[lib]}`);\n",
       "        document.getElementsByTagName(\"head\")[0].appendChild(s);\n",
       "      });\n",
       "    }\n",
       "\n",
       "    function showError(err) {\n",
       "      outputDiv.innerHTML = `<div class=\"error\" style=\"color:red;\">${err}</div>`;\n",
       "      throw err;\n",
       "    }\n",
       "\n",
       "    function displayChart(vegaEmbed) {\n",
       "      vegaEmbed(outputDiv, spec, embedOpt)\n",
       "        .catch(err => showError(`Javascript Error: ${err.message}<br>This usually means there's a typo in your chart specification. See the javascript console for the full traceback.`));\n",
       "    }\n",
       "\n",
       "    if(typeof define === \"function\" && define.amd) {\n",
       "      requirejs.config({paths});\n",
       "      require([\"vega-embed\"], displayChart, err => showError(`Error loading script: ${err.message}`));\n",
       "    } else if (typeof vegaEmbed === \"function\") {\n",
       "      displayChart(vegaEmbed);\n",
       "    } else {\n",
       "      loadScript(\"vega\")\n",
       "        .then(() => loadScript(\"vega-lite\"))\n",
       "        .then(() => loadScript(\"vega-embed\"))\n",
       "        .catch(showError)\n",
       "        .then(() => displayChart(vegaEmbed));\n",
       "    }\n",
       "  })({\"config\": {\"view\": {\"continuousWidth\": 400, \"continuousHeight\": 300}}, \"layer\": [{\"layer\": [{\"mark\": {\"type\": \"point\", \"size\": 75}, \"encoding\": {\"tooltip\": [{\"type\": \"temporal\", \"field\": \"date\"}, {\"type\": \"quantitative\", \"field\": \"positiveIncrease\"}, {\"type\": \"quantitative\", \"field\": \"sma7d\"}], \"x\": {\"type\": \"temporal\", \"field\": \"date\"}, \"y\": {\"type\": \"quantitative\", \"field\": \"positiveIncrease\"}}, \"selection\": {\"selector014\": {\"type\": \"interval\", \"bind\": \"scales\", \"encodings\": [\"x\", \"y\"]}}}, {\"mark\": {\"type\": \"line\", \"color\": \"purple\"}, \"encoding\": {\"x\": {\"type\": \"temporal\", \"field\": \"date\"}, \"y\": {\"type\": \"quantitative\", \"field\": \"sma7d\"}}}]}, {\"mark\": {\"type\": \"rule\", \"color\": \"#aaa\"}, \"encoding\": {\"x\": {\"type\": \"temporal\", \"field\": \"date\"}}, \"transform\": [{\"filter\": {\"selection\": \"selector013\"}}]}, {\"mark\": \"circle\", \"encoding\": {\"opacity\": {\"condition\": {\"value\": 1, \"selection\": \"selector013\"}, \"value\": 0}, \"tooltip\": [{\"type\": \"temporal\", \"field\": \"date\"}, {\"type\": \"quantitative\", \"field\": \"positiveIncrease\"}, {\"type\": \"quantitative\", \"field\": \"sma7d\"}], \"x\": {\"type\": \"temporal\", \"field\": \"date\"}, \"y\": {\"type\": \"quantitative\", \"field\": \"positiveIncrease\"}}, \"selection\": {\"selector013\": {\"type\": \"single\", \"encodings\": [\"x\"], \"on\": \"mouseover\", \"nearest\": true, \"empty\": \"none\"}}}, {\"mark\": {\"type\": \"text\", \"align\": \"left\", \"dx\": 5, \"dy\": -5, \"stroke\": \"white\", \"strokeWidth\": 2}, \"encoding\": {\"text\": {\"type\": \"quantitative\", \"field\": \"positiveIncrease\"}, \"tooltip\": [{\"type\": \"temporal\", \"field\": \"date\"}, {\"type\": \"quantitative\", \"field\": \"positiveIncrease\"}, {\"type\": \"quantitative\", \"field\": \"sma7d\"}], \"x\": {\"type\": \"temporal\", \"field\": \"date\"}, \"y\": {\"type\": \"quantitative\", \"field\": \"positiveIncrease\"}}, \"transform\": [{\"filter\": {\"selection\": \"selector013\"}}]}, {\"mark\": {\"type\": \"text\", \"align\": \"left\", \"dx\": 5, \"dy\": -5}, \"encoding\": {\"text\": {\"type\": \"quantitative\", \"field\": \"positiveIncrease\"}, \"tooltip\": [{\"type\": \"temporal\", \"field\": \"date\"}, {\"type\": \"quantitative\", \"field\": \"positiveIncrease\"}, {\"type\": \"quantitative\", \"field\": \"sma7d\"}], \"x\": {\"type\": \"temporal\", \"field\": \"date\"}, \"y\": {\"type\": \"quantitative\", \"field\": \"positiveIncrease\"}}, \"transform\": [{\"filter\": {\"selection\": \"selector013\"}}]}], \"data\": {\"name\": \"data-684170b6b3f0ec4190a781022ed855d5\"}, \"height\": 400, \"title\": \"Non Tri-State: positiveIncrease\", \"width\": 500, \"$schema\": \"https://vega.github.io/schema/vega-lite/v4.8.1.json\", \"datasets\": {\"data-684170b6b3f0ec4190a781022ed855d5\": [{\"date\": \"2020-06-13T00:00:00\", \"totalTestResultsIncrease\": 397734.0, \"positiveIncrease\": 23679.0, \"death\": 67782.0, \"deathIncrease\": 532.0, \"positiveRate\": 0.06, \"state\": \"Non Tri-State\", \"sma7d\": 19351.571}, {\"date\": \"2020-06-14T00:00:00\", \"totalTestResultsIncrease\": 396276.0, \"positiveIncrease\": 20309.0, \"death\": 68062.0, \"deathIncrease\": 280.0, \"positiveRate\": 0.051, \"state\": \"Non Tri-State\", \"sma7d\": 19735.571}, {\"date\": \"2020-06-15T00:00:00\", \"totalTestResultsIncrease\": 352811.0, \"positiveIncrease\": 17521.0, \"death\": 68360.0, \"deathIncrease\": 298.0, \"positiveRate\": 0.05, \"state\": \"Non Tri-State\", \"sma7d\": 19973.857}, {\"date\": \"2020-06-16T00:00:00\", \"totalTestResultsIncrease\": 381827.0, \"positiveIncrease\": 22367.0, \"death\": 69003.0, \"deathIncrease\": 643.0, \"positiveRate\": 0.059, \"state\": \"Non Tri-State\", \"sma7d\": 20868.286}, {\"date\": \"2020-06-17T00:00:00\", \"totalTestResultsIncrease\": 405319.0, \"positiveIncrease\": 22949.0, \"death\": 69698.0, \"deathIncrease\": 695.0, \"positiveRate\": 0.057, \"state\": \"Non Tri-State\", \"sma7d\": 21373.714}, {\"date\": \"2020-06-18T00:00:00\", \"totalTestResultsIncrease\": 416745.0, \"positiveIncrease\": 26494.0, \"death\": 70332.0, \"deathIncrease\": 634.0, \"positiveRate\": 0.064, \"state\": \"Non Tri-State\", \"sma7d\": 22199.714}, {\"date\": \"2020-06-19T00:00:00\", \"totalTestResultsIncrease\": 460285.0, \"positiveIncrease\": 29744.0, \"death\": 70915.0, \"deathIncrease\": 583.0, \"positiveRate\": 0.065, \"state\": \"Non Tri-State\", \"sma7d\": 23294.714}, {\"date\": \"2020-06-20T00:00:00\", \"totalTestResultsIncrease\": 462056.0, \"positiveIncrease\": 30782.0, \"death\": 71484.0, \"deathIncrease\": 569.0, \"positiveRate\": 0.067, \"state\": \"Non Tri-State\", \"sma7d\": 24309.429}, {\"date\": \"2020-06-21T00:00:00\", \"totalTestResultsIncrease\": 415435.0, \"positiveIncrease\": 26272.0, \"death\": 71739.0, \"deathIncrease\": 255.0, \"positiveRate\": 0.063, \"state\": \"Non Tri-State\", \"sma7d\": 25161.286}, {\"date\": \"2020-06-22T00:00:00\", \"totalTestResultsIncrease\": 381042.0, \"positiveIncrease\": 26165.0, \"death\": 71980.0, \"deathIncrease\": 241.0, \"positiveRate\": 0.069, \"state\": \"Non Tri-State\", \"sma7d\": 26396.143}, {\"date\": \"2020-06-23T00:00:00\", \"totalTestResultsIncrease\": 428442.0, \"positiveIncrease\": 31988.0, \"death\": 72593.0, \"deathIncrease\": 613.0, \"positiveRate\": 0.075, \"state\": \"Non Tri-State\", \"sma7d\": 27770.571}, {\"date\": \"2020-06-24T00:00:00\", \"totalTestResultsIncrease\": 445391.0, \"positiveIncrease\": 37931.0, \"death\": 73245.0, \"deathIncrease\": 652.0, \"positiveRate\": 0.085, \"state\": \"Non Tri-State\", \"sma7d\": 29910.857}, {\"date\": \"2020-06-25T00:00:00\", \"totalTestResultsIncrease\": 540391.0, \"positiveIncrease\": 37938.0, \"death\": 73840.0, \"deathIncrease\": 595.0, \"positiveRate\": 0.07, \"state\": \"Non Tri-State\", \"sma7d\": 31545.714}, {\"date\": \"2020-06-26T00:00:00\", \"totalTestResultsIncrease\": 506558.0, \"positiveIncrease\": 43163.0, \"death\": 74411.0, \"deathIncrease\": 571.0, \"positiveRate\": 0.085, \"state\": \"Non Tri-State\", \"sma7d\": 33462.714}, {\"date\": \"2020-06-27T00:00:00\", \"totalTestResultsIncrease\": 496340.0, \"positiveIncrease\": 42644.0, \"death\": 74866.0, \"deathIncrease\": 455.0, \"positiveRate\": 0.086, \"state\": \"Non Tri-State\", \"sma7d\": 35157.286}, {\"date\": \"2020-06-28T00:00:00\", \"totalTestResultsIncrease\": 495079.0, \"positiveIncrease\": 40835.0, \"death\": 75100.0, \"deathIncrease\": 234.0, \"positiveRate\": 0.082, \"state\": \"Non Tri-State\", \"sma7d\": 37237.714}, {\"date\": \"2020-06-29T00:00:00\", \"totalTestResultsIncrease\": 562783.0, \"positiveIncrease\": 38635.0, \"death\": 75402.0, \"deathIncrease\": 302.0, \"positiveRate\": 0.069, \"state\": \"Non Tri-State\", \"sma7d\": 39019.143}, {\"date\": \"2020-06-30T00:00:00\", \"totalTestResultsIncrease\": 542112.0, \"positiveIncrease\": 46391.0, \"death\": 75940.0, \"deathIncrease\": 538.0, \"positiveRate\": 0.086, \"state\": \"Non Tri-State\", \"sma7d\": 41076.714}, {\"date\": \"2020-07-01T00:00:00\", \"totalTestResultsIncrease\": 544562.0, \"positiveIncrease\": 49730.0, \"death\": 76585.0, \"deathIncrease\": 645.0, \"positiveRate\": 0.091, \"state\": \"Non Tri-State\", \"sma7d\": 42762.286}, {\"date\": \"2020-07-02T00:00:00\", \"totalTestResultsIncrease\": 561090.0, \"positiveIncrease\": 52449.0, \"death\": 77240.0, \"deathIncrease\": 655.0, \"positiveRate\": 0.093, \"state\": \"Non Tri-State\", \"sma7d\": 44835.286}, {\"date\": \"2020-07-03T00:00:00\", \"totalTestResultsIncrease\": 622997.0, \"positiveIncrease\": 52848.0, \"death\": 77763.0, \"deathIncrease\": 523.0, \"positiveRate\": 0.085, \"state\": \"Non Tri-State\", \"sma7d\": 46218.857}, {\"date\": \"2020-07-04T00:00:00\", \"totalTestResultsIncrease\": 556781.0, \"positiveIncrease\": 53717.0, \"death\": 78033.0, \"deathIncrease\": 270.0, \"positiveRate\": 0.096, \"state\": \"Non Tri-State\", \"sma7d\": 47800.714}, {\"date\": \"2020-07-05T00:00:00\", \"totalTestResultsIncrease\": 567401.0, \"positiveIncrease\": 44887.0, \"death\": 78212.0, \"deathIncrease\": 179.0, \"positiveRate\": 0.079, \"state\": \"Non Tri-State\", \"sma7d\": 48379.571}, {\"date\": \"2020-07-06T00:00:00\", \"totalTestResultsIncrease\": 426359.0, \"positiveIncrease\": 40614.0, \"death\": 78424.0, \"deathIncrease\": 212.0, \"positiveRate\": 0.095, \"state\": \"Non Tri-State\", \"sma7d\": 48662.286}, {\"date\": \"2020-07-07T00:00:00\", \"totalTestResultsIncrease\": 559818.0, \"positiveIncrease\": 50854.0, \"death\": 79283.0, \"deathIncrease\": 859.0, \"positiveRate\": 0.091, \"state\": \"Non Tri-State\", \"sma7d\": 49299.857}, {\"date\": \"2020-07-08T00:00:00\", \"totalTestResultsIncrease\": 545625.0, \"positiveIncrease\": 61219.0, \"death\": 80013.0, \"deathIncrease\": 730.0, \"positiveRate\": 0.112, \"state\": \"Non Tri-State\", \"sma7d\": 50941.143}, {\"date\": \"2020-07-09T00:00:00\", \"totalTestResultsIncrease\": 603478.0, \"positiveIncrease\": 57950.0, \"death\": 80835.0, \"deathIncrease\": 822.0, \"positiveRate\": 0.096, \"state\": \"Non Tri-State\", \"sma7d\": 51727.0}, {\"date\": \"2020-07-10T00:00:00\", \"totalTestResultsIncrease\": 713488.0, \"positiveIncrease\": 65393.0, \"death\": 81649.0, \"deathIncrease\": 814.0, \"positiveRate\": 0.092, \"state\": \"Non Tri-State\", \"sma7d\": 53519.143}, {\"date\": \"2020-07-11T00:00:00\", \"totalTestResultsIncrease\": 591188.0, \"positiveIncrease\": 61946.0, \"death\": 82354.0, \"deathIncrease\": 705.0, \"positiveRate\": 0.105, \"state\": \"Non Tri-State\", \"sma7d\": 54694.714}, {\"date\": \"2020-07-12T00:00:00\", \"totalTestResultsIncrease\": 640580.0, \"positiveIncrease\": 59962.0, \"death\": 82809.0, \"deathIncrease\": 455.0, \"positiveRate\": 0.094, \"state\": \"Non Tri-State\", \"sma7d\": 56848.286}, {\"date\": \"2020-07-13T00:00:00\", \"totalTestResultsIncrease\": 624522.0, \"positiveIncrease\": 57461.0, \"death\": 83084.0, \"deathIncrease\": 275.0, \"positiveRate\": 0.092, \"state\": \"Non Tri-State\", \"sma7d\": 59255.0}, {\"date\": \"2020-07-14T00:00:00\", \"totalTestResultsIncrease\": 676948.0, \"positiveIncrease\": 61554.0, \"death\": 83792.0, \"deathIncrease\": 708.0, \"positiveRate\": 0.091, \"state\": \"Non Tri-State\", \"sma7d\": 60783.571}, {\"date\": \"2020-07-15T00:00:00\", \"totalTestResultsIncrease\": 665748.0, \"positiveIncrease\": 64082.0, \"death\": 84608.0, \"deathIncrease\": 816.0, \"positiveRate\": 0.096, \"state\": \"Non Tri-State\", \"sma7d\": 61192.571}, {\"date\": \"2020-07-16T00:00:00\", \"totalTestResultsIncrease\": 722897.0, \"positiveIncrease\": 69847.0, \"death\": 85504.0, \"deathIncrease\": 896.0, \"positiveRate\": 0.097, \"state\": \"Non Tri-State\", \"sma7d\": 62892.143}, {\"date\": \"2020-07-17T00:00:00\", \"totalTestResultsIncrease\": 750104.0, \"positiveIncrease\": 76264.0, \"death\": 86419.0, \"deathIncrease\": 915.0, \"positiveRate\": 0.102, \"state\": \"Non Tri-State\", \"sma7d\": 64445.143}, {\"date\": \"2020-07-18T00:00:00\", \"totalTestResultsIncrease\": 679432.0, \"positiveIncrease\": 64163.0, \"death\": 87265.0, \"deathIncrease\": 846.0, \"positiveRate\": 0.094, \"state\": \"Non Tri-State\", \"sma7d\": 64761.857}, {\"date\": \"2020-07-19T00:00:00\", \"totalTestResultsIncrease\": 715455.0, \"positiveIncrease\": 64413.0, \"death\": 87771.0, \"deathIncrease\": 506.0, \"positiveRate\": 0.09, \"state\": \"Non Tri-State\", \"sma7d\": 65397.714}, {\"date\": \"2020-07-20T00:00:00\", \"totalTestResultsIncrease\": 644271.0, \"positiveIncrease\": 56110.0, \"death\": 88106.0, \"deathIncrease\": 335.0, \"positiveRate\": 0.087, \"state\": \"Non Tri-State\", \"sma7d\": 65204.714}, {\"date\": \"2020-07-21T00:00:00\", \"totalTestResultsIncrease\": 668957.0, \"positiveIncrease\": 62453.0, \"death\": 89120.0, \"deathIncrease\": 1014.0, \"positiveRate\": 0.093, \"state\": \"Non Tri-State\", \"sma7d\": 65333.143}, {\"date\": \"2020-07-22T00:00:00\", \"totalTestResultsIncrease\": 693300.0, \"positiveIncrease\": 67929.0, \"death\": 90257.0, \"deathIncrease\": 1137.0, \"positiveRate\": 0.098, \"state\": \"Non Tri-State\", \"sma7d\": 65882.714}, {\"date\": \"2020-07-23T00:00:00\", \"totalTestResultsIncrease\": 738700.0, \"positiveIncrease\": 70292.0, \"death\": 91272.0, \"deathIncrease\": 1015.0, \"positiveRate\": 0.095, \"state\": \"Non Tri-State\", \"sma7d\": 65946.286}, {\"date\": \"2020-07-24T00:00:00\", \"totalTestResultsIncrease\": 797179.0, \"positiveIncrease\": 73449.0, \"death\": 92401.0, \"deathIncrease\": 1129.0, \"positiveRate\": 0.092, \"state\": \"Non Tri-State\", \"sma7d\": 65544.143}, {\"date\": \"2020-07-25T00:00:00\", \"totalTestResultsIncrease\": 712382.0, \"positiveIncrease\": 63812.0, \"death\": 93400.0, \"deathIncrease\": 999.0, \"positiveRate\": 0.09, \"state\": \"Non Tri-State\", \"sma7d\": 65494.0}, {\"date\": \"2020-07-26T00:00:00\", \"totalTestResultsIncrease\": 737111.0, \"positiveIncrease\": 60672.0, \"death\": 93944.0, \"deathIncrease\": 544.0, \"positiveRate\": 0.082, \"state\": \"Non Tri-State\", \"sma7d\": 64959.571}, {\"date\": \"2020-07-27T00:00:00\", \"totalTestResultsIncrease\": 641039.0, \"positiveIncrease\": 53870.0, \"death\": 94970.0, \"deathIncrease\": 1026.0, \"positiveRate\": 0.084, \"state\": \"Non Tri-State\", \"sma7d\": 64639.571}, {\"date\": \"2020-07-28T00:00:00\", \"totalTestResultsIncrease\": 669990.0, \"positiveIncrease\": 55118.0, \"death\": 96056.0, \"deathIncrease\": 1086.0, \"positiveRate\": 0.082, \"state\": \"Non Tri-State\", \"sma7d\": 63591.714}, {\"date\": \"2020-07-29T00:00:00\", \"totalTestResultsIncrease\": 719584.0, \"positiveIncrease\": 65320.0, \"death\": 97522.0, \"deathIncrease\": 1466.0, \"positiveRate\": 0.091, \"state\": \"Non Tri-State\", \"sma7d\": 63219.0}, {\"date\": \"2020-07-30T00:00:00\", \"totalTestResultsIncrease\": 702474.0, \"positiveIncrease\": 68355.0, \"death\": 98751.0, \"deathIncrease\": 1229.0, \"positiveRate\": 0.097, \"state\": \"Non Tri-State\", \"sma7d\": 62942.286}, {\"date\": \"2020-07-31T00:00:00\", \"totalTestResultsIncrease\": 605080.0, \"positiveIncrease\": 66281.0, \"death\": 100046.0, \"deathIncrease\": 1295.0, \"positiveRate\": 0.11, \"state\": \"Non Tri-State\", \"sma7d\": 61918.286}, {\"date\": \"2020-08-01T00:00:00\", \"totalTestResultsIncrease\": 642904.0, \"positiveIncrease\": 59570.0, \"death\": 101210.0, \"deathIncrease\": 1164.0, \"positiveRate\": 0.093, \"state\": \"Non Tri-State\", \"sma7d\": 61312.286}, {\"date\": \"2020-08-02T00:00:00\", \"totalTestResultsIncrease\": 605028.0, \"positiveIncrease\": 47414.0, \"death\": 101696.0, \"deathIncrease\": 486.0, \"positiveRate\": 0.078, \"state\": \"Non Tri-State\", \"sma7d\": 59418.286}, {\"date\": \"2020-08-03T00:00:00\", \"totalTestResultsIncrease\": 625963.0, \"positiveIncrease\": 48500.0, \"death\": 102198.0, \"deathIncrease\": 502.0, \"positiveRate\": 0.077, \"state\": \"Non Tri-State\", \"sma7d\": 58651.143}, {\"date\": \"2020-08-04T00:00:00\", \"totalTestResultsIncrease\": 617148.0, \"positiveIncrease\": 50418.0, \"death\": 103360.0, \"deathIncrease\": 1162.0, \"positiveRate\": 0.082, \"state\": \"Non Tri-State\", \"sma7d\": 57979.714}, {\"date\": \"2020-08-05T00:00:00\", \"totalTestResultsIncrease\": 574949.0, \"positiveIncrease\": 51157.0, \"death\": 104774.0, \"deathIncrease\": 1414.0, \"positiveRate\": 0.089, \"state\": \"Non Tri-State\", \"sma7d\": 55956.429}, {\"date\": \"2020-08-06T00:00:00\", \"totalTestResultsIncrease\": 607114.0, \"positiveIncrease\": 53087.0, \"death\": 106012.0, \"deathIncrease\": 1238.0, \"positiveRate\": 0.087, \"state\": \"Non Tri-State\", \"sma7d\": 53775.286}, {\"date\": \"2020-08-07T00:00:00\", \"totalTestResultsIncrease\": 662631.0, \"positiveIncrease\": 60371.0, \"death\": 107325.0, \"deathIncrease\": 1313.0, \"positiveRate\": 0.091, \"state\": \"Non Tri-State\", \"sma7d\": 52931.0}]}}, {\"mode\": \"vega-lite\"});\n",
       "</script>"
      ],
      "text/plain": [
       "alt.LayerChart(...)"
      ]
     },
     "execution_count": 15,
     "metadata": {},
     "output_type": "execute_result"
    }
   ],
   "source": [
    "create_plot(non_tristate, 'positiveIncrease')"
   ]
  },
  {
   "cell_type": "code",
   "execution_count": 16,
   "metadata": {
    "execution": {
     "iopub.execute_input": "2020-08-07T22:33:30.444907Z",
     "iopub.status.busy": "2020-08-07T22:33:30.443977Z",
     "iopub.status.idle": "2020-08-07T22:33:30.551280Z",
     "shell.execute_reply": "2020-08-07T22:33:30.551801Z"
    },
    "papermill": {
     "duration": 0.135654,
     "end_time": "2020-08-07T22:33:30.552054",
     "exception": false,
     "start_time": "2020-08-07T22:33:30.416400",
     "status": "completed"
    },
    "tags": []
   },
   "outputs": [
    {
     "data": {
      "text/html": [
       "\n",
       "<div id=\"altair-viz-34e0f631d9344c1d815cef91452ba892\"></div>\n",
       "<script type=\"text/javascript\">\n",
       "  (function(spec, embedOpt){\n",
       "    let outputDiv = document.currentScript.previousElementSibling;\n",
       "    if (outputDiv.id !== \"altair-viz-34e0f631d9344c1d815cef91452ba892\") {\n",
       "      outputDiv = document.getElementById(\"altair-viz-34e0f631d9344c1d815cef91452ba892\");\n",
       "    }\n",
       "    const paths = {\n",
       "      \"vega\": \"https://cdn.jsdelivr.net/npm//vega@5?noext\",\n",
       "      \"vega-lib\": \"https://cdn.jsdelivr.net/npm//vega-lib?noext\",\n",
       "      \"vega-lite\": \"https://cdn.jsdelivr.net/npm//vega-lite@4.8.1?noext\",\n",
       "      \"vega-embed\": \"https://cdn.jsdelivr.net/npm//vega-embed@6?noext\",\n",
       "    };\n",
       "\n",
       "    function loadScript(lib) {\n",
       "      return new Promise(function(resolve, reject) {\n",
       "        var s = document.createElement('script');\n",
       "        s.src = paths[lib];\n",
       "        s.async = true;\n",
       "        s.onload = () => resolve(paths[lib]);\n",
       "        s.onerror = () => reject(`Error loading script: ${paths[lib]}`);\n",
       "        document.getElementsByTagName(\"head\")[0].appendChild(s);\n",
       "      });\n",
       "    }\n",
       "\n",
       "    function showError(err) {\n",
       "      outputDiv.innerHTML = `<div class=\"error\" style=\"color:red;\">${err}</div>`;\n",
       "      throw err;\n",
       "    }\n",
       "\n",
       "    function displayChart(vegaEmbed) {\n",
       "      vegaEmbed(outputDiv, spec, embedOpt)\n",
       "        .catch(err => showError(`Javascript Error: ${err.message}<br>This usually means there's a typo in your chart specification. See the javascript console for the full traceback.`));\n",
       "    }\n",
       "\n",
       "    if(typeof define === \"function\" && define.amd) {\n",
       "      requirejs.config({paths});\n",
       "      require([\"vega-embed\"], displayChart, err => showError(`Error loading script: ${err.message}`));\n",
       "    } else if (typeof vegaEmbed === \"function\") {\n",
       "      displayChart(vegaEmbed);\n",
       "    } else {\n",
       "      loadScript(\"vega\")\n",
       "        .then(() => loadScript(\"vega-lite\"))\n",
       "        .then(() => loadScript(\"vega-embed\"))\n",
       "        .catch(showError)\n",
       "        .then(() => displayChart(vegaEmbed));\n",
       "    }\n",
       "  })({\"config\": {\"view\": {\"continuousWidth\": 400, \"continuousHeight\": 300}}, \"layer\": [{\"layer\": [{\"mark\": {\"type\": \"point\", \"size\": 75}, \"encoding\": {\"tooltip\": [{\"type\": \"temporal\", \"field\": \"date\"}, {\"type\": \"quantitative\", \"field\": \"positiveRate\"}, {\"type\": \"quantitative\", \"field\": \"sma7d\"}], \"x\": {\"type\": \"temporal\", \"field\": \"date\"}, \"y\": {\"type\": \"quantitative\", \"field\": \"positiveRate\"}}, \"selection\": {\"selector016\": {\"type\": \"interval\", \"bind\": \"scales\", \"encodings\": [\"x\", \"y\"]}}}, {\"mark\": {\"type\": \"line\", \"color\": \"purple\"}, \"encoding\": {\"x\": {\"type\": \"temporal\", \"field\": \"date\"}, \"y\": {\"type\": \"quantitative\", \"field\": \"sma7d\"}}}]}, {\"mark\": {\"type\": \"rule\", \"color\": \"#aaa\"}, \"encoding\": {\"x\": {\"type\": \"temporal\", \"field\": \"date\"}}, \"transform\": [{\"filter\": {\"selection\": \"selector015\"}}]}, {\"mark\": \"circle\", \"encoding\": {\"opacity\": {\"condition\": {\"value\": 1, \"selection\": \"selector015\"}, \"value\": 0}, \"tooltip\": [{\"type\": \"temporal\", \"field\": \"date\"}, {\"type\": \"quantitative\", \"field\": \"positiveRate\"}, {\"type\": \"quantitative\", \"field\": \"sma7d\"}], \"x\": {\"type\": \"temporal\", \"field\": \"date\"}, \"y\": {\"type\": \"quantitative\", \"field\": \"positiveRate\"}}, \"selection\": {\"selector015\": {\"type\": \"single\", \"encodings\": [\"x\"], \"on\": \"mouseover\", \"nearest\": true, \"empty\": \"none\"}}}, {\"mark\": {\"type\": \"text\", \"align\": \"left\", \"dx\": 5, \"dy\": -5, \"stroke\": \"white\", \"strokeWidth\": 2}, \"encoding\": {\"text\": {\"type\": \"quantitative\", \"field\": \"positiveRate\"}, \"tooltip\": [{\"type\": \"temporal\", \"field\": \"date\"}, {\"type\": \"quantitative\", \"field\": \"positiveRate\"}, {\"type\": \"quantitative\", \"field\": \"sma7d\"}], \"x\": {\"type\": \"temporal\", \"field\": \"date\"}, \"y\": {\"type\": \"quantitative\", \"field\": \"positiveRate\"}}, \"transform\": [{\"filter\": {\"selection\": \"selector015\"}}]}, {\"mark\": {\"type\": \"text\", \"align\": \"left\", \"dx\": 5, \"dy\": -5}, \"encoding\": {\"text\": {\"type\": \"quantitative\", \"field\": \"positiveRate\"}, \"tooltip\": [{\"type\": \"temporal\", \"field\": \"date\"}, {\"type\": \"quantitative\", \"field\": \"positiveRate\"}, {\"type\": \"quantitative\", \"field\": \"sma7d\"}], \"x\": {\"type\": \"temporal\", \"field\": \"date\"}, \"y\": {\"type\": \"quantitative\", \"field\": \"positiveRate\"}}, \"transform\": [{\"filter\": {\"selection\": \"selector015\"}}]}], \"data\": {\"name\": \"data-96d294d35927ad1c663f99806bb8db24\"}, \"height\": 400, \"title\": \"Non Tri-State: positiveRate\", \"width\": 500, \"$schema\": \"https://vega.github.io/schema/vega-lite/v4.8.1.json\", \"datasets\": {\"data-96d294d35927ad1c663f99806bb8db24\": [{\"date\": \"2020-06-13T00:00:00\", \"totalTestResultsIncrease\": 397734.0, \"positiveIncrease\": 23679.0, \"death\": 67782.0, \"deathIncrease\": 532.0, \"positiveRate\": 0.06, \"state\": \"Non Tri-State\", \"sma7d\": 0.052}, {\"date\": \"2020-06-14T00:00:00\", \"totalTestResultsIncrease\": 396276.0, \"positiveIncrease\": 20309.0, \"death\": 68062.0, \"deathIncrease\": 280.0, \"positiveRate\": 0.051, \"state\": \"Non Tri-State\", \"sma7d\": 0.052}, {\"date\": \"2020-06-15T00:00:00\", \"totalTestResultsIncrease\": 352811.0, \"positiveIncrease\": 17521.0, \"death\": 68360.0, \"deathIncrease\": 298.0, \"positiveRate\": 0.05, \"state\": \"Non Tri-State\", \"sma7d\": 0.052}, {\"date\": \"2020-06-16T00:00:00\", \"totalTestResultsIncrease\": 381827.0, \"positiveIncrease\": 22367.0, \"death\": 69003.0, \"deathIncrease\": 643.0, \"positiveRate\": 0.059, \"state\": \"Non Tri-State\", \"sma7d\": 0.054}, {\"date\": \"2020-06-17T00:00:00\", \"totalTestResultsIncrease\": 405319.0, \"positiveIncrease\": 22949.0, \"death\": 69698.0, \"deathIncrease\": 695.0, \"positiveRate\": 0.057, \"state\": \"Non Tri-State\", \"sma7d\": 0.054}, {\"date\": \"2020-06-18T00:00:00\", \"totalTestResultsIncrease\": 416745.0, \"positiveIncrease\": 26494.0, \"death\": 70332.0, \"deathIncrease\": 634.0, \"positiveRate\": 0.064, \"state\": \"Non Tri-State\", \"sma7d\": 0.055}, {\"date\": \"2020-06-19T00:00:00\", \"totalTestResultsIncrease\": 460285.0, \"positiveIncrease\": 29744.0, \"death\": 70915.0, \"deathIncrease\": 583.0, \"positiveRate\": 0.065, \"state\": \"Non Tri-State\", \"sma7d\": 0.058}, {\"date\": \"2020-06-20T00:00:00\", \"totalTestResultsIncrease\": 462056.0, \"positiveIncrease\": 30782.0, \"death\": 71484.0, \"deathIncrease\": 569.0, \"positiveRate\": 0.067, \"state\": \"Non Tri-State\", \"sma7d\": 0.059}, {\"date\": \"2020-06-21T00:00:00\", \"totalTestResultsIncrease\": 415435.0, \"positiveIncrease\": 26272.0, \"death\": 71739.0, \"deathIncrease\": 255.0, \"positiveRate\": 0.063, \"state\": \"Non Tri-State\", \"sma7d\": 0.061}, {\"date\": \"2020-06-22T00:00:00\", \"totalTestResultsIncrease\": 381042.0, \"positiveIncrease\": 26165.0, \"death\": 71980.0, \"deathIncrease\": 241.0, \"positiveRate\": 0.069, \"state\": \"Non Tri-State\", \"sma7d\": 0.063}, {\"date\": \"2020-06-23T00:00:00\", \"totalTestResultsIncrease\": 428442.0, \"positiveIncrease\": 31988.0, \"death\": 72593.0, \"deathIncrease\": 613.0, \"positiveRate\": 0.075, \"state\": \"Non Tri-State\", \"sma7d\": 0.066}, {\"date\": \"2020-06-24T00:00:00\", \"totalTestResultsIncrease\": 445391.0, \"positiveIncrease\": 37931.0, \"death\": 73245.0, \"deathIncrease\": 652.0, \"positiveRate\": 0.085, \"state\": \"Non Tri-State\", \"sma7d\": 0.07}, {\"date\": \"2020-06-25T00:00:00\", \"totalTestResultsIncrease\": 540391.0, \"positiveIncrease\": 37938.0, \"death\": 73840.0, \"deathIncrease\": 595.0, \"positiveRate\": 0.07, \"state\": \"Non Tri-State\", \"sma7d\": 0.071}, {\"date\": \"2020-06-26T00:00:00\", \"totalTestResultsIncrease\": 506558.0, \"positiveIncrease\": 43163.0, \"death\": 74411.0, \"deathIncrease\": 571.0, \"positiveRate\": 0.085, \"state\": \"Non Tri-State\", \"sma7d\": 0.073}, {\"date\": \"2020-06-27T00:00:00\", \"totalTestResultsIncrease\": 496340.0, \"positiveIncrease\": 42644.0, \"death\": 74866.0, \"deathIncrease\": 455.0, \"positiveRate\": 0.086, \"state\": \"Non Tri-State\", \"sma7d\": 0.076}, {\"date\": \"2020-06-28T00:00:00\", \"totalTestResultsIncrease\": 495079.0, \"positiveIncrease\": 40835.0, \"death\": 75100.0, \"deathIncrease\": 234.0, \"positiveRate\": 0.082, \"state\": \"Non Tri-State\", \"sma7d\": 0.079}, {\"date\": \"2020-06-29T00:00:00\", \"totalTestResultsIncrease\": 562783.0, \"positiveIncrease\": 38635.0, \"death\": 75402.0, \"deathIncrease\": 302.0, \"positiveRate\": 0.069, \"state\": \"Non Tri-State\", \"sma7d\": 0.079}, {\"date\": \"2020-06-30T00:00:00\", \"totalTestResultsIncrease\": 542112.0, \"positiveIncrease\": 46391.0, \"death\": 75940.0, \"deathIncrease\": 538.0, \"positiveRate\": 0.086, \"state\": \"Non Tri-State\", \"sma7d\": 0.08}, {\"date\": \"2020-07-01T00:00:00\", \"totalTestResultsIncrease\": 544562.0, \"positiveIncrease\": 49730.0, \"death\": 76585.0, \"deathIncrease\": 645.0, \"positiveRate\": 0.091, \"state\": \"Non Tri-State\", \"sma7d\": 0.081}, {\"date\": \"2020-07-02T00:00:00\", \"totalTestResultsIncrease\": 561090.0, \"positiveIncrease\": 52449.0, \"death\": 77240.0, \"deathIncrease\": 655.0, \"positiveRate\": 0.093, \"state\": \"Non Tri-State\", \"sma7d\": 0.085}, {\"date\": \"2020-07-03T00:00:00\", \"totalTestResultsIncrease\": 622997.0, \"positiveIncrease\": 52848.0, \"death\": 77763.0, \"deathIncrease\": 523.0, \"positiveRate\": 0.085, \"state\": \"Non Tri-State\", \"sma7d\": 0.085}, {\"date\": \"2020-07-04T00:00:00\", \"totalTestResultsIncrease\": 556781.0, \"positiveIncrease\": 53717.0, \"death\": 78033.0, \"deathIncrease\": 270.0, \"positiveRate\": 0.096, \"state\": \"Non Tri-State\", \"sma7d\": 0.086}, {\"date\": \"2020-07-05T00:00:00\", \"totalTestResultsIncrease\": 567401.0, \"positiveIncrease\": 44887.0, \"death\": 78212.0, \"deathIncrease\": 179.0, \"positiveRate\": 0.079, \"state\": \"Non Tri-State\", \"sma7d\": 0.086}, {\"date\": \"2020-07-06T00:00:00\", \"totalTestResultsIncrease\": 426359.0, \"positiveIncrease\": 40614.0, \"death\": 78424.0, \"deathIncrease\": 212.0, \"positiveRate\": 0.095, \"state\": \"Non Tri-State\", \"sma7d\": 0.089}, {\"date\": \"2020-07-07T00:00:00\", \"totalTestResultsIncrease\": 559818.0, \"positiveIncrease\": 50854.0, \"death\": 79283.0, \"deathIncrease\": 859.0, \"positiveRate\": 0.091, \"state\": \"Non Tri-State\", \"sma7d\": 0.09}, {\"date\": \"2020-07-08T00:00:00\", \"totalTestResultsIncrease\": 545625.0, \"positiveIncrease\": 61219.0, \"death\": 80013.0, \"deathIncrease\": 730.0, \"positiveRate\": 0.112, \"state\": \"Non Tri-State\", \"sma7d\": 0.093}, {\"date\": \"2020-07-09T00:00:00\", \"totalTestResultsIncrease\": 603478.0, \"positiveIncrease\": 57950.0, \"death\": 80835.0, \"deathIncrease\": 822.0, \"positiveRate\": 0.096, \"state\": \"Non Tri-State\", \"sma7d\": 0.093}, {\"date\": \"2020-07-10T00:00:00\", \"totalTestResultsIncrease\": 713488.0, \"positiveIncrease\": 65393.0, \"death\": 81649.0, \"deathIncrease\": 814.0, \"positiveRate\": 0.092, \"state\": \"Non Tri-State\", \"sma7d\": 0.094}, {\"date\": \"2020-07-11T00:00:00\", \"totalTestResultsIncrease\": 591188.0, \"positiveIncrease\": 61946.0, \"death\": 82354.0, \"deathIncrease\": 705.0, \"positiveRate\": 0.105, \"state\": \"Non Tri-State\", \"sma7d\": 0.096}, {\"date\": \"2020-07-12T00:00:00\", \"totalTestResultsIncrease\": 640580.0, \"positiveIncrease\": 59962.0, \"death\": 82809.0, \"deathIncrease\": 455.0, \"positiveRate\": 0.094, \"state\": \"Non Tri-State\", \"sma7d\": 0.098}, {\"date\": \"2020-07-13T00:00:00\", \"totalTestResultsIncrease\": 624522.0, \"positiveIncrease\": 57461.0, \"death\": 83084.0, \"deathIncrease\": 275.0, \"positiveRate\": 0.092, \"state\": \"Non Tri-State\", \"sma7d\": 0.097}, {\"date\": \"2020-07-14T00:00:00\", \"totalTestResultsIncrease\": 676948.0, \"positiveIncrease\": 61554.0, \"death\": 83792.0, \"deathIncrease\": 708.0, \"positiveRate\": 0.091, \"state\": \"Non Tri-State\", \"sma7d\": 0.097}, {\"date\": \"2020-07-15T00:00:00\", \"totalTestResultsIncrease\": 665748.0, \"positiveIncrease\": 64082.0, \"death\": 84608.0, \"deathIncrease\": 816.0, \"positiveRate\": 0.096, \"state\": \"Non Tri-State\", \"sma7d\": 0.095}, {\"date\": \"2020-07-16T00:00:00\", \"totalTestResultsIncrease\": 722897.0, \"positiveIncrease\": 69847.0, \"death\": 85504.0, \"deathIncrease\": 896.0, \"positiveRate\": 0.097, \"state\": \"Non Tri-State\", \"sma7d\": 0.095}, {\"date\": \"2020-07-17T00:00:00\", \"totalTestResultsIncrease\": 750104.0, \"positiveIncrease\": 76264.0, \"death\": 86419.0, \"deathIncrease\": 915.0, \"positiveRate\": 0.102, \"state\": \"Non Tri-State\", \"sma7d\": 0.097}, {\"date\": \"2020-07-18T00:00:00\", \"totalTestResultsIncrease\": 679432.0, \"positiveIncrease\": 64163.0, \"death\": 87265.0, \"deathIncrease\": 846.0, \"positiveRate\": 0.094, \"state\": \"Non Tri-State\", \"sma7d\": 0.095}, {\"date\": \"2020-07-19T00:00:00\", \"totalTestResultsIncrease\": 715455.0, \"positiveIncrease\": 64413.0, \"death\": 87771.0, \"deathIncrease\": 506.0, \"positiveRate\": 0.09, \"state\": \"Non Tri-State\", \"sma7d\": 0.095}, {\"date\": \"2020-07-20T00:00:00\", \"totalTestResultsIncrease\": 644271.0, \"positiveIncrease\": 56110.0, \"death\": 88106.0, \"deathIncrease\": 335.0, \"positiveRate\": 0.087, \"state\": \"Non Tri-State\", \"sma7d\": 0.094}, {\"date\": \"2020-07-21T00:00:00\", \"totalTestResultsIncrease\": 668957.0, \"positiveIncrease\": 62453.0, \"death\": 89120.0, \"deathIncrease\": 1014.0, \"positiveRate\": 0.093, \"state\": \"Non Tri-State\", \"sma7d\": 0.094}, {\"date\": \"2020-07-22T00:00:00\", \"totalTestResultsIncrease\": 693300.0, \"positiveIncrease\": 67929.0, \"death\": 90257.0, \"deathIncrease\": 1137.0, \"positiveRate\": 0.098, \"state\": \"Non Tri-State\", \"sma7d\": 0.094}, {\"date\": \"2020-07-23T00:00:00\", \"totalTestResultsIncrease\": 738700.0, \"positiveIncrease\": 70292.0, \"death\": 91272.0, \"deathIncrease\": 1015.0, \"positiveRate\": 0.095, \"state\": \"Non Tri-State\", \"sma7d\": 0.094}, {\"date\": \"2020-07-24T00:00:00\", \"totalTestResultsIncrease\": 797179.0, \"positiveIncrease\": 73449.0, \"death\": 92401.0, \"deathIncrease\": 1129.0, \"positiveRate\": 0.092, \"state\": \"Non Tri-State\", \"sma7d\": 0.093}, {\"date\": \"2020-07-25T00:00:00\", \"totalTestResultsIncrease\": 712382.0, \"positiveIncrease\": 63812.0, \"death\": 93400.0, \"deathIncrease\": 999.0, \"positiveRate\": 0.09, \"state\": \"Non Tri-State\", \"sma7d\": 0.092}, {\"date\": \"2020-07-26T00:00:00\", \"totalTestResultsIncrease\": 737111.0, \"positiveIncrease\": 60672.0, \"death\": 93944.0, \"deathIncrease\": 544.0, \"positiveRate\": 0.082, \"state\": \"Non Tri-State\", \"sma7d\": 0.091}, {\"date\": \"2020-07-27T00:00:00\", \"totalTestResultsIncrease\": 641039.0, \"positiveIncrease\": 53870.0, \"death\": 94970.0, \"deathIncrease\": 1026.0, \"positiveRate\": 0.084, \"state\": \"Non Tri-State\", \"sma7d\": 0.091}, {\"date\": \"2020-07-28T00:00:00\", \"totalTestResultsIncrease\": 669990.0, \"positiveIncrease\": 55118.0, \"death\": 96056.0, \"deathIncrease\": 1086.0, \"positiveRate\": 0.082, \"state\": \"Non Tri-State\", \"sma7d\": 0.089}, {\"date\": \"2020-07-29T00:00:00\", \"totalTestResultsIncrease\": 719584.0, \"positiveIncrease\": 65320.0, \"death\": 97522.0, \"deathIncrease\": 1466.0, \"positiveRate\": 0.091, \"state\": \"Non Tri-State\", \"sma7d\": 0.088}, {\"date\": \"2020-07-30T00:00:00\", \"totalTestResultsIncrease\": 702474.0, \"positiveIncrease\": 68355.0, \"death\": 98751.0, \"deathIncrease\": 1229.0, \"positiveRate\": 0.097, \"state\": \"Non Tri-State\", \"sma7d\": 0.088}, {\"date\": \"2020-07-31T00:00:00\", \"totalTestResultsIncrease\": 605080.0, \"positiveIncrease\": 66281.0, \"death\": 100046.0, \"deathIncrease\": 1295.0, \"positiveRate\": 0.11, \"state\": \"Non Tri-State\", \"sma7d\": 0.091}, {\"date\": \"2020-08-01T00:00:00\", \"totalTestResultsIncrease\": 642904.0, \"positiveIncrease\": 59570.0, \"death\": 101210.0, \"deathIncrease\": 1164.0, \"positiveRate\": 0.093, \"state\": \"Non Tri-State\", \"sma7d\": 0.091}, {\"date\": \"2020-08-02T00:00:00\", \"totalTestResultsIncrease\": 605028.0, \"positiveIncrease\": 47414.0, \"death\": 101696.0, \"deathIncrease\": 486.0, \"positiveRate\": 0.078, \"state\": \"Non Tri-State\", \"sma7d\": 0.091}, {\"date\": \"2020-08-03T00:00:00\", \"totalTestResultsIncrease\": 625963.0, \"positiveIncrease\": 48500.0, \"death\": 102198.0, \"deathIncrease\": 502.0, \"positiveRate\": 0.077, \"state\": \"Non Tri-State\", \"sma7d\": 0.09}, {\"date\": \"2020-08-04T00:00:00\", \"totalTestResultsIncrease\": 617148.0, \"positiveIncrease\": 50418.0, \"death\": 103360.0, \"deathIncrease\": 1162.0, \"positiveRate\": 0.082, \"state\": \"Non Tri-State\", \"sma7d\": 0.09}, {\"date\": \"2020-08-05T00:00:00\", \"totalTestResultsIncrease\": 574949.0, \"positiveIncrease\": 51157.0, \"death\": 104774.0, \"deathIncrease\": 1414.0, \"positiveRate\": 0.089, \"state\": \"Non Tri-State\", \"sma7d\": 0.089}, {\"date\": \"2020-08-06T00:00:00\", \"totalTestResultsIncrease\": 607114.0, \"positiveIncrease\": 53087.0, \"death\": 106012.0, \"deathIncrease\": 1238.0, \"positiveRate\": 0.087, \"state\": \"Non Tri-State\", \"sma7d\": 0.088}, {\"date\": \"2020-08-07T00:00:00\", \"totalTestResultsIncrease\": 662631.0, \"positiveIncrease\": 60371.0, \"death\": 107325.0, \"deathIncrease\": 1313.0, \"positiveRate\": 0.091, \"state\": \"Non Tri-State\", \"sma7d\": 0.085}]}}, {\"mode\": \"vega-lite\"});\n",
       "</script>"
      ],
      "text/plain": [
       "alt.LayerChart(...)"
      ]
     },
     "execution_count": 16,
     "metadata": {},
     "output_type": "execute_result"
    }
   ],
   "source": [
    "create_plot(non_tristate, 'positiveRate')"
   ]
  },
  {
   "cell_type": "code",
   "execution_count": 17,
   "metadata": {
    "execution": {
     "iopub.execute_input": "2020-08-07T22:33:30.620674Z",
     "iopub.status.busy": "2020-08-07T22:33:30.619960Z",
     "iopub.status.idle": "2020-08-07T22:33:30.703320Z",
     "shell.execute_reply": "2020-08-07T22:33:30.703819Z"
    },
    "papermill": {
     "duration": 0.129131,
     "end_time": "2020-08-07T22:33:30.704066",
     "exception": false,
     "start_time": "2020-08-07T22:33:30.574935",
     "status": "completed"
    },
    "tags": []
   },
   "outputs": [
    {
     "data": {
      "text/html": [
       "\n",
       "<div id=\"altair-viz-c24ee9dd0f3d47e193784cea5accc6f5\"></div>\n",
       "<script type=\"text/javascript\">\n",
       "  (function(spec, embedOpt){\n",
       "    let outputDiv = document.currentScript.previousElementSibling;\n",
       "    if (outputDiv.id !== \"altair-viz-c24ee9dd0f3d47e193784cea5accc6f5\") {\n",
       "      outputDiv = document.getElementById(\"altair-viz-c24ee9dd0f3d47e193784cea5accc6f5\");\n",
       "    }\n",
       "    const paths = {\n",
       "      \"vega\": \"https://cdn.jsdelivr.net/npm//vega@5?noext\",\n",
       "      \"vega-lib\": \"https://cdn.jsdelivr.net/npm//vega-lib?noext\",\n",
       "      \"vega-lite\": \"https://cdn.jsdelivr.net/npm//vega-lite@4.8.1?noext\",\n",
       "      \"vega-embed\": \"https://cdn.jsdelivr.net/npm//vega-embed@6?noext\",\n",
       "    };\n",
       "\n",
       "    function loadScript(lib) {\n",
       "      return new Promise(function(resolve, reject) {\n",
       "        var s = document.createElement('script');\n",
       "        s.src = paths[lib];\n",
       "        s.async = true;\n",
       "        s.onload = () => resolve(paths[lib]);\n",
       "        s.onerror = () => reject(`Error loading script: ${paths[lib]}`);\n",
       "        document.getElementsByTagName(\"head\")[0].appendChild(s);\n",
       "      });\n",
       "    }\n",
       "\n",
       "    function showError(err) {\n",
       "      outputDiv.innerHTML = `<div class=\"error\" style=\"color:red;\">${err}</div>`;\n",
       "      throw err;\n",
       "    }\n",
       "\n",
       "    function displayChart(vegaEmbed) {\n",
       "      vegaEmbed(outputDiv, spec, embedOpt)\n",
       "        .catch(err => showError(`Javascript Error: ${err.message}<br>This usually means there's a typo in your chart specification. See the javascript console for the full traceback.`));\n",
       "    }\n",
       "\n",
       "    if(typeof define === \"function\" && define.amd) {\n",
       "      requirejs.config({paths});\n",
       "      require([\"vega-embed\"], displayChart, err => showError(`Error loading script: ${err.message}`));\n",
       "    } else if (typeof vegaEmbed === \"function\") {\n",
       "      displayChart(vegaEmbed);\n",
       "    } else {\n",
       "      loadScript(\"vega\")\n",
       "        .then(() => loadScript(\"vega-lite\"))\n",
       "        .then(() => loadScript(\"vega-embed\"))\n",
       "        .catch(showError)\n",
       "        .then(() => displayChart(vegaEmbed));\n",
       "    }\n",
       "  })({\"config\": {\"view\": {\"continuousWidth\": 400, \"continuousHeight\": 300}}, \"layer\": [{\"layer\": [{\"mark\": {\"type\": \"point\", \"size\": 75}, \"encoding\": {\"tooltip\": [{\"type\": \"temporal\", \"field\": \"date\"}, {\"type\": \"quantitative\", \"field\": \"deathIncrease\"}, {\"type\": \"quantitative\", \"field\": \"sma7d\"}], \"x\": {\"type\": \"temporal\", \"field\": \"date\"}, \"y\": {\"type\": \"quantitative\", \"field\": \"deathIncrease\"}}, \"selection\": {\"selector018\": {\"type\": \"interval\", \"bind\": \"scales\", \"encodings\": [\"x\", \"y\"]}}}, {\"mark\": {\"type\": \"line\", \"color\": \"purple\"}, \"encoding\": {\"x\": {\"type\": \"temporal\", \"field\": \"date\"}, \"y\": {\"type\": \"quantitative\", \"field\": \"sma7d\"}}}]}, {\"mark\": {\"type\": \"rule\", \"color\": \"#aaa\"}, \"encoding\": {\"x\": {\"type\": \"temporal\", \"field\": \"date\"}}, \"transform\": [{\"filter\": {\"selection\": \"selector017\"}}]}, {\"mark\": \"circle\", \"encoding\": {\"opacity\": {\"condition\": {\"value\": 1, \"selection\": \"selector017\"}, \"value\": 0}, \"tooltip\": [{\"type\": \"temporal\", \"field\": \"date\"}, {\"type\": \"quantitative\", \"field\": \"deathIncrease\"}, {\"type\": \"quantitative\", \"field\": \"sma7d\"}], \"x\": {\"type\": \"temporal\", \"field\": \"date\"}, \"y\": {\"type\": \"quantitative\", \"field\": \"deathIncrease\"}}, \"selection\": {\"selector017\": {\"type\": \"single\", \"encodings\": [\"x\"], \"on\": \"mouseover\", \"nearest\": true, \"empty\": \"none\"}}}, {\"mark\": {\"type\": \"text\", \"align\": \"left\", \"dx\": 5, \"dy\": -5, \"stroke\": \"white\", \"strokeWidth\": 2}, \"encoding\": {\"text\": {\"type\": \"quantitative\", \"field\": \"deathIncrease\"}, \"tooltip\": [{\"type\": \"temporal\", \"field\": \"date\"}, {\"type\": \"quantitative\", \"field\": \"deathIncrease\"}, {\"type\": \"quantitative\", \"field\": \"sma7d\"}], \"x\": {\"type\": \"temporal\", \"field\": \"date\"}, \"y\": {\"type\": \"quantitative\", \"field\": \"deathIncrease\"}}, \"transform\": [{\"filter\": {\"selection\": \"selector017\"}}]}, {\"mark\": {\"type\": \"text\", \"align\": \"left\", \"dx\": 5, \"dy\": -5}, \"encoding\": {\"text\": {\"type\": \"quantitative\", \"field\": \"deathIncrease\"}, \"tooltip\": [{\"type\": \"temporal\", \"field\": \"date\"}, {\"type\": \"quantitative\", \"field\": \"deathIncrease\"}, {\"type\": \"quantitative\", \"field\": \"sma7d\"}], \"x\": {\"type\": \"temporal\", \"field\": \"date\"}, \"y\": {\"type\": \"quantitative\", \"field\": \"deathIncrease\"}}, \"transform\": [{\"filter\": {\"selection\": \"selector017\"}}]}], \"data\": {\"name\": \"data-111b6bb0a2ec6732b5882a6e686cd7ac\"}, \"height\": 400, \"title\": \"Non Tri-State: deathIncrease\", \"width\": 500, \"$schema\": \"https://vega.github.io/schema/vega-lite/v4.8.1.json\", \"datasets\": {\"data-111b6bb0a2ec6732b5882a6e686cd7ac\": [{\"date\": \"2020-06-13T00:00:00\", \"totalTestResultsIncrease\": 397734.0, \"positiveIncrease\": 23679.0, \"death\": 67782.0, \"deathIncrease\": 532.0, \"positiveRate\": 0.06, \"state\": \"Non Tri-State\", \"sma7d\": 617.286}, {\"date\": \"2020-06-14T00:00:00\", \"totalTestResultsIncrease\": 396276.0, \"positiveIncrease\": 20309.0, \"death\": 68062.0, \"deathIncrease\": 280.0, \"positiveRate\": 0.051, \"state\": \"Non Tri-State\", \"sma7d\": 612.571}, {\"date\": \"2020-06-15T00:00:00\", \"totalTestResultsIncrease\": 352811.0, \"positiveIncrease\": 17521.0, \"death\": 68360.0, \"deathIncrease\": 298.0, \"positiveRate\": 0.05, \"state\": \"Non Tri-State\", \"sma7d\": 573.857}, {\"date\": \"2020-06-16T00:00:00\", \"totalTestResultsIncrease\": 381827.0, \"positiveIncrease\": 22367.0, \"death\": 69003.0, \"deathIncrease\": 643.0, \"positiveRate\": 0.059, \"state\": \"Non Tri-State\", \"sma7d\": 559.0}, {\"date\": \"2020-06-17T00:00:00\", \"totalTestResultsIncrease\": 405319.0, \"positiveIncrease\": 22949.0, \"death\": 69698.0, \"deathIncrease\": 695.0, \"positiveRate\": 0.057, \"state\": \"Non Tri-State\", \"sma7d\": 553.714}, {\"date\": \"2020-06-18T00:00:00\", \"totalTestResultsIncrease\": 416745.0, \"positiveIncrease\": 26494.0, \"death\": 70332.0, \"deathIncrease\": 634.0, \"positiveRate\": 0.064, \"state\": \"Non Tri-State\", \"sma7d\": 534.571}, {\"date\": \"2020-06-19T00:00:00\", \"totalTestResultsIncrease\": 460285.0, \"positiveIncrease\": 29744.0, \"death\": 70915.0, \"deathIncrease\": 583.0, \"positiveRate\": 0.065, \"state\": \"Non Tri-State\", \"sma7d\": 523.571}, {\"date\": \"2020-06-20T00:00:00\", \"totalTestResultsIncrease\": 462056.0, \"positiveIncrease\": 30782.0, \"death\": 71484.0, \"deathIncrease\": 569.0, \"positiveRate\": 0.067, \"state\": \"Non Tri-State\", \"sma7d\": 528.857}, {\"date\": \"2020-06-21T00:00:00\", \"totalTestResultsIncrease\": 415435.0, \"positiveIncrease\": 26272.0, \"death\": 71739.0, \"deathIncrease\": 255.0, \"positiveRate\": 0.063, \"state\": \"Non Tri-State\", \"sma7d\": 525.286}, {\"date\": \"2020-06-22T00:00:00\", \"totalTestResultsIncrease\": 381042.0, \"positiveIncrease\": 26165.0, \"death\": 71980.0, \"deathIncrease\": 241.0, \"positiveRate\": 0.069, \"state\": \"Non Tri-State\", \"sma7d\": 517.143}, {\"date\": \"2020-06-23T00:00:00\", \"totalTestResultsIncrease\": 428442.0, \"positiveIncrease\": 31988.0, \"death\": 72593.0, \"deathIncrease\": 613.0, \"positiveRate\": 0.075, \"state\": \"Non Tri-State\", \"sma7d\": 512.857}, {\"date\": \"2020-06-24T00:00:00\", \"totalTestResultsIncrease\": 445391.0, \"positiveIncrease\": 37931.0, \"death\": 73245.0, \"deathIncrease\": 652.0, \"positiveRate\": 0.085, \"state\": \"Non Tri-State\", \"sma7d\": 506.714}, {\"date\": \"2020-06-25T00:00:00\", \"totalTestResultsIncrease\": 540391.0, \"positiveIncrease\": 37938.0, \"death\": 73840.0, \"deathIncrease\": 595.0, \"positiveRate\": 0.07, \"state\": \"Non Tri-State\", \"sma7d\": 501.143}, {\"date\": \"2020-06-26T00:00:00\", \"totalTestResultsIncrease\": 506558.0, \"positiveIncrease\": 43163.0, \"death\": 74411.0, \"deathIncrease\": 571.0, \"positiveRate\": 0.085, \"state\": \"Non Tri-State\", \"sma7d\": 499.429}, {\"date\": \"2020-06-27T00:00:00\", \"totalTestResultsIncrease\": 496340.0, \"positiveIncrease\": 42644.0, \"death\": 74866.0, \"deathIncrease\": 455.0, \"positiveRate\": 0.086, \"state\": \"Non Tri-State\", \"sma7d\": 483.143}, {\"date\": \"2020-06-28T00:00:00\", \"totalTestResultsIncrease\": 495079.0, \"positiveIncrease\": 40835.0, \"death\": 75100.0, \"deathIncrease\": 234.0, \"positiveRate\": 0.082, \"state\": \"Non Tri-State\", \"sma7d\": 480.143}, {\"date\": \"2020-06-29T00:00:00\", \"totalTestResultsIncrease\": 562783.0, \"positiveIncrease\": 38635.0, \"death\": 75402.0, \"deathIncrease\": 302.0, \"positiveRate\": 0.069, \"state\": \"Non Tri-State\", \"sma7d\": 488.857}, {\"date\": \"2020-06-30T00:00:00\", \"totalTestResultsIncrease\": 542112.0, \"positiveIncrease\": 46391.0, \"death\": 75940.0, \"deathIncrease\": 538.0, \"positiveRate\": 0.086, \"state\": \"Non Tri-State\", \"sma7d\": 478.143}, {\"date\": \"2020-07-01T00:00:00\", \"totalTestResultsIncrease\": 544562.0, \"positiveIncrease\": 49730.0, \"death\": 76585.0, \"deathIncrease\": 645.0, \"positiveRate\": 0.091, \"state\": \"Non Tri-State\", \"sma7d\": 477.143}, {\"date\": \"2020-07-02T00:00:00\", \"totalTestResultsIncrease\": 561090.0, \"positiveIncrease\": 52449.0, \"death\": 77240.0, \"deathIncrease\": 655.0, \"positiveRate\": 0.093, \"state\": \"Non Tri-State\", \"sma7d\": 485.714}, {\"date\": \"2020-07-03T00:00:00\", \"totalTestResultsIncrease\": 622997.0, \"positiveIncrease\": 52848.0, \"death\": 77763.0, \"deathIncrease\": 523.0, \"positiveRate\": 0.085, \"state\": \"Non Tri-State\", \"sma7d\": 478.857}, {\"date\": \"2020-07-04T00:00:00\", \"totalTestResultsIncrease\": 556781.0, \"positiveIncrease\": 53717.0, \"death\": 78033.0, \"deathIncrease\": 270.0, \"positiveRate\": 0.096, \"state\": \"Non Tri-State\", \"sma7d\": 452.429}, {\"date\": \"2020-07-05T00:00:00\", \"totalTestResultsIncrease\": 567401.0, \"positiveIncrease\": 44887.0, \"death\": 78212.0, \"deathIncrease\": 179.0, \"positiveRate\": 0.079, \"state\": \"Non Tri-State\", \"sma7d\": 444.571}, {\"date\": \"2020-07-06T00:00:00\", \"totalTestResultsIncrease\": 426359.0, \"positiveIncrease\": 40614.0, \"death\": 78424.0, \"deathIncrease\": 212.0, \"positiveRate\": 0.095, \"state\": \"Non Tri-State\", \"sma7d\": 431.714}, {\"date\": \"2020-07-07T00:00:00\", \"totalTestResultsIncrease\": 559818.0, \"positiveIncrease\": 50854.0, \"death\": 79283.0, \"deathIncrease\": 859.0, \"positiveRate\": 0.091, \"state\": \"Non Tri-State\", \"sma7d\": 477.571}, {\"date\": \"2020-07-08T00:00:00\", \"totalTestResultsIncrease\": 545625.0, \"positiveIncrease\": 61219.0, \"death\": 80013.0, \"deathIncrease\": 730.0, \"positiveRate\": 0.112, \"state\": \"Non Tri-State\", \"sma7d\": 489.714}, {\"date\": \"2020-07-09T00:00:00\", \"totalTestResultsIncrease\": 603478.0, \"positiveIncrease\": 57950.0, \"death\": 80835.0, \"deathIncrease\": 822.0, \"positiveRate\": 0.096, \"state\": \"Non Tri-State\", \"sma7d\": 513.571}, {\"date\": \"2020-07-10T00:00:00\", \"totalTestResultsIncrease\": 713488.0, \"positiveIncrease\": 65393.0, \"death\": 81649.0, \"deathIncrease\": 814.0, \"positiveRate\": 0.092, \"state\": \"Non Tri-State\", \"sma7d\": 555.143}, {\"date\": \"2020-07-11T00:00:00\", \"totalTestResultsIncrease\": 591188.0, \"positiveIncrease\": 61946.0, \"death\": 82354.0, \"deathIncrease\": 705.0, \"positiveRate\": 0.105, \"state\": \"Non Tri-State\", \"sma7d\": 617.286}, {\"date\": \"2020-07-12T00:00:00\", \"totalTestResultsIncrease\": 640580.0, \"positiveIncrease\": 59962.0, \"death\": 82809.0, \"deathIncrease\": 455.0, \"positiveRate\": 0.094, \"state\": \"Non Tri-State\", \"sma7d\": 656.714}, {\"date\": \"2020-07-13T00:00:00\", \"totalTestResultsIncrease\": 624522.0, \"positiveIncrease\": 57461.0, \"death\": 83084.0, \"deathIncrease\": 275.0, \"positiveRate\": 0.092, \"state\": \"Non Tri-State\", \"sma7d\": 665.714}, {\"date\": \"2020-07-14T00:00:00\", \"totalTestResultsIncrease\": 676948.0, \"positiveIncrease\": 61554.0, \"death\": 83792.0, \"deathIncrease\": 708.0, \"positiveRate\": 0.091, \"state\": \"Non Tri-State\", \"sma7d\": 644.143}, {\"date\": \"2020-07-15T00:00:00\", \"totalTestResultsIncrease\": 665748.0, \"positiveIncrease\": 64082.0, \"death\": 84608.0, \"deathIncrease\": 816.0, \"positiveRate\": 0.096, \"state\": \"Non Tri-State\", \"sma7d\": 656.429}, {\"date\": \"2020-07-16T00:00:00\", \"totalTestResultsIncrease\": 722897.0, \"positiveIncrease\": 69847.0, \"death\": 85504.0, \"deathIncrease\": 896.0, \"positiveRate\": 0.097, \"state\": \"Non Tri-State\", \"sma7d\": 667.0}, {\"date\": \"2020-07-17T00:00:00\", \"totalTestResultsIncrease\": 750104.0, \"positiveIncrease\": 76264.0, \"death\": 86419.0, \"deathIncrease\": 915.0, \"positiveRate\": 0.102, \"state\": \"Non Tri-State\", \"sma7d\": 681.429}, {\"date\": \"2020-07-18T00:00:00\", \"totalTestResultsIncrease\": 679432.0, \"positiveIncrease\": 64163.0, \"death\": 87265.0, \"deathIncrease\": 846.0, \"positiveRate\": 0.094, \"state\": \"Non Tri-State\", \"sma7d\": 701.571}, {\"date\": \"2020-07-19T00:00:00\", \"totalTestResultsIncrease\": 715455.0, \"positiveIncrease\": 64413.0, \"death\": 87771.0, \"deathIncrease\": 506.0, \"positiveRate\": 0.09, \"state\": \"Non Tri-State\", \"sma7d\": 708.857}, {\"date\": \"2020-07-20T00:00:00\", \"totalTestResultsIncrease\": 644271.0, \"positiveIncrease\": 56110.0, \"death\": 88106.0, \"deathIncrease\": 335.0, \"positiveRate\": 0.087, \"state\": \"Non Tri-State\", \"sma7d\": 717.429}, {\"date\": \"2020-07-21T00:00:00\", \"totalTestResultsIncrease\": 668957.0, \"positiveIncrease\": 62453.0, \"death\": 89120.0, \"deathIncrease\": 1014.0, \"positiveRate\": 0.093, \"state\": \"Non Tri-State\", \"sma7d\": 761.143}, {\"date\": \"2020-07-22T00:00:00\", \"totalTestResultsIncrease\": 693300.0, \"positiveIncrease\": 67929.0, \"death\": 90257.0, \"deathIncrease\": 1137.0, \"positiveRate\": 0.098, \"state\": \"Non Tri-State\", \"sma7d\": 807.0}, {\"date\": \"2020-07-23T00:00:00\", \"totalTestResultsIncrease\": 738700.0, \"positiveIncrease\": 70292.0, \"death\": 91272.0, \"deathIncrease\": 1015.0, \"positiveRate\": 0.095, \"state\": \"Non Tri-State\", \"sma7d\": 824.0}, {\"date\": \"2020-07-24T00:00:00\", \"totalTestResultsIncrease\": 797179.0, \"positiveIncrease\": 73449.0, \"death\": 92401.0, \"deathIncrease\": 1129.0, \"positiveRate\": 0.092, \"state\": \"Non Tri-State\", \"sma7d\": 854.571}, {\"date\": \"2020-07-25T00:00:00\", \"totalTestResultsIncrease\": 712382.0, \"positiveIncrease\": 63812.0, \"death\": 93400.0, \"deathIncrease\": 999.0, \"positiveRate\": 0.09, \"state\": \"Non Tri-State\", \"sma7d\": 876.429}, {\"date\": \"2020-07-26T00:00:00\", \"totalTestResultsIncrease\": 737111.0, \"positiveIncrease\": 60672.0, \"death\": 93944.0, \"deathIncrease\": 544.0, \"positiveRate\": 0.082, \"state\": \"Non Tri-State\", \"sma7d\": 881.857}, {\"date\": \"2020-07-27T00:00:00\", \"totalTestResultsIncrease\": 641039.0, \"positiveIncrease\": 53870.0, \"death\": 94970.0, \"deathIncrease\": 1026.0, \"positiveRate\": 0.084, \"state\": \"Non Tri-State\", \"sma7d\": 980.571}, {\"date\": \"2020-07-28T00:00:00\", \"totalTestResultsIncrease\": 669990.0, \"positiveIncrease\": 55118.0, \"death\": 96056.0, \"deathIncrease\": 1086.0, \"positiveRate\": 0.082, \"state\": \"Non Tri-State\", \"sma7d\": 990.857}, {\"date\": \"2020-07-29T00:00:00\", \"totalTestResultsIncrease\": 719584.0, \"positiveIncrease\": 65320.0, \"death\": 97522.0, \"deathIncrease\": 1466.0, \"positiveRate\": 0.091, \"state\": \"Non Tri-State\", \"sma7d\": 1037.857}, {\"date\": \"2020-07-30T00:00:00\", \"totalTestResultsIncrease\": 702474.0, \"positiveIncrease\": 68355.0, \"death\": 98751.0, \"deathIncrease\": 1229.0, \"positiveRate\": 0.097, \"state\": \"Non Tri-State\", \"sma7d\": 1068.429}, {\"date\": \"2020-07-31T00:00:00\", \"totalTestResultsIncrease\": 605080.0, \"positiveIncrease\": 66281.0, \"death\": 100046.0, \"deathIncrease\": 1295.0, \"positiveRate\": 0.11, \"state\": \"Non Tri-State\", \"sma7d\": 1092.143}, {\"date\": \"2020-08-01T00:00:00\", \"totalTestResultsIncrease\": 642904.0, \"positiveIncrease\": 59570.0, \"death\": 101210.0, \"deathIncrease\": 1164.0, \"positiveRate\": 0.093, \"state\": \"Non Tri-State\", \"sma7d\": 1115.714}, {\"date\": \"2020-08-02T00:00:00\", \"totalTestResultsIncrease\": 605028.0, \"positiveIncrease\": 47414.0, \"death\": 101696.0, \"deathIncrease\": 486.0, \"positiveRate\": 0.078, \"state\": \"Non Tri-State\", \"sma7d\": 1107.429}, {\"date\": \"2020-08-03T00:00:00\", \"totalTestResultsIncrease\": 625963.0, \"positiveIncrease\": 48500.0, \"death\": 102198.0, \"deathIncrease\": 502.0, \"positiveRate\": 0.077, \"state\": \"Non Tri-State\", \"sma7d\": 1032.571}, {\"date\": \"2020-08-04T00:00:00\", \"totalTestResultsIncrease\": 617148.0, \"positiveIncrease\": 50418.0, \"death\": 103360.0, \"deathIncrease\": 1162.0, \"positiveRate\": 0.082, \"state\": \"Non Tri-State\", \"sma7d\": 1043.429}, {\"date\": \"2020-08-05T00:00:00\", \"totalTestResultsIncrease\": 574949.0, \"positiveIncrease\": 51157.0, \"death\": 104774.0, \"deathIncrease\": 1414.0, \"positiveRate\": 0.089, \"state\": \"Non Tri-State\", \"sma7d\": 1036.0}, {\"date\": \"2020-08-06T00:00:00\", \"totalTestResultsIncrease\": 607114.0, \"positiveIncrease\": 53087.0, \"death\": 106012.0, \"deathIncrease\": 1238.0, \"positiveRate\": 0.087, \"state\": \"Non Tri-State\", \"sma7d\": 1037.286}, {\"date\": \"2020-08-07T00:00:00\", \"totalTestResultsIncrease\": 662631.0, \"positiveIncrease\": 60371.0, \"death\": 107325.0, \"deathIncrease\": 1313.0, \"positiveRate\": 0.091, \"state\": \"Non Tri-State\", \"sma7d\": 1039.857}]}}, {\"mode\": \"vega-lite\"});\n",
       "</script>"
      ],
      "text/plain": [
       "alt.LayerChart(...)"
      ]
     },
     "execution_count": 17,
     "metadata": {},
     "output_type": "execute_result"
    }
   ],
   "source": [
    "create_plot(non_tristate, 'deathIncrease')"
   ]
  }
 ],
 "metadata": {
  "kernelspec": {
   "display_name": "Python 3",
   "language": "python",
   "name": "python3"
  },
  "language_info": {
   "codemirror_mode": {
    "name": "ipython",
    "version": 3
   },
   "file_extension": ".py",
   "mimetype": "text/x-python",
   "name": "python",
   "nbconvert_exporter": "python",
   "pygments_lexer": "ipython3",
   "version": "3.8.5"
  },
  "papermill": {
   "duration": 6.914449,
   "end_time": "2020-08-07T22:33:31.032528",
   "environment_variables": {},
   "exception": null,
   "input_path": "2020-07-19-covid-plots.ipynb",
   "output_path": "2020-07-19-covid-plots.ipynb",
   "parameters": {},
   "start_time": "2020-08-07T22:33:24.118079",
   "version": "2.1.2"
  }
 },
 "nbformat": 4,
 "nbformat_minor": 4
}