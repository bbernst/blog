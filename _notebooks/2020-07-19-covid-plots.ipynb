{
 "cells": [
  {
   "cell_type": "markdown",
   "metadata": {
    "papermill": {
     "duration": 0.015515,
     "end_time": "2020-08-26T22:33:19.892183",
     "exception": false,
     "start_time": "2020-08-26T22:33:19.876668",
     "status": "completed"
    },
    "tags": []
   },
   "source": [
    "# \"COVID-19 plots\"\n",
    "> \"Interactive plots with daily updates\"\n",
    "\n",
    "- author: bbernst\n",
    "- toc: true\n",
    "- branch: master\n",
    "- badges: true\n",
    "- comments: true\n",
    "- categories: [healthcare, covid]\n",
    "- image: images/covid_plots/covid_mask.png\n",
    "- hide: false\n",
    "- search_exclude: true"
   ]
  },
  {
   "cell_type": "markdown",
   "metadata": {
    "papermill": {
     "duration": 0.010383,
     "end_time": "2020-08-26T22:33:19.913479",
     "exception": false,
     "start_time": "2020-08-26T22:33:19.903096",
     "status": "completed"
    },
    "tags": []
   },
   "source": [
    "I wanted to make a simple COVID-19 post to accomplish two main goals:\n",
    "1. Easily see the specific plots I'm interested in\n",
    "1. Update these plots every day, automatically\n",
    "\n",
    "Enter [fastpages](https://github.com/fastai/fastpages) and [github actions](https://github.com/features/actions). I'd been meaning to set up a blog with fastpages for a while and thought this would be a good reason to try it out. The documentation was great and I was able to set up automatic updates by using https://covid19dashboards.com/ as a guide.\n",
    "\n",
    "The data for this post comes from https://covidtracking.com/, which updates by 5pm each day, and I have my dashboard update at 6:30pm. For each geography -- so far that's the US, New York, and Non Tri-State -- I look at daily positive cases, positive rate, and deaths. Be sure to hover around on each of the plots, they have helpful interactive tooltips to make reading the data more intuitive."
   ]
  },
  {
   "cell_type": "code",
   "execution_count": 1,
   "metadata": {
    "execution": {
     "iopub.execute_input": "2020-08-26T22:33:19.938899Z",
     "iopub.status.busy": "2020-08-26T22:33:19.937931Z",
     "iopub.status.idle": "2020-08-26T22:33:20.284428Z",
     "shell.execute_reply": "2020-08-26T22:33:20.283115Z"
    },
    "papermill": {
     "duration": 0.361132,
     "end_time": "2020-08-26T22:33:20.284658",
     "exception": false,
     "start_time": "2020-08-26T22:33:19.923526",
     "status": "completed"
    },
    "tags": []
   },
   "outputs": [],
   "source": [
    "#collapse\n",
    "from typing import Callable, Literal\n",
    "import pandas as pd\n",
    "import altair as alt"
   ]
  },
  {
   "cell_type": "code",
   "execution_count": 2,
   "metadata": {
    "execution": {
     "iopub.execute_input": "2020-08-26T22:33:20.313557Z",
     "iopub.status.busy": "2020-08-26T22:33:20.312942Z",
     "iopub.status.idle": "2020-08-26T22:33:20.327336Z",
     "shell.execute_reply": "2020-08-26T22:33:20.327718Z"
    },
    "papermill": {
     "duration": 0.029269,
     "end_time": "2020-08-26T22:33:20.327851",
     "exception": false,
     "start_time": "2020-08-26T22:33:20.298582",
     "status": "completed"
    },
    "tags": []
   },
   "outputs": [
    {
     "name": "stdout",
     "output_type": "stream",
     "text": [
      "Last updated at (ET): 2020-08-26 06:33:20 PM\n"
     ]
    }
   ],
   "source": [
    "#hide_input\n",
    "current_utc = pd.Timestamp.now(tz='America/New_York').strftime('%Y-%m-%d %I:%M:%S %p')\n",
    "print(f\"Last updated at (ET): {current_utc}\")"
   ]
  },
  {
   "cell_type": "markdown",
   "metadata": {
    "papermill": {
     "duration": 0.012051,
     "end_time": "2020-08-26T22:33:20.352734",
     "exception": false,
     "start_time": "2020-08-26T22:33:20.340683",
     "status": "completed"
    },
    "tags": []
   },
   "source": [
    "# Data"
   ]
  },
  {
   "cell_type": "code",
   "execution_count": 3,
   "metadata": {
    "execution": {
     "iopub.execute_input": "2020-08-26T22:33:20.389307Z",
     "iopub.status.busy": "2020-08-26T22:33:20.388765Z",
     "iopub.status.idle": "2020-08-26T22:33:21.645970Z",
     "shell.execute_reply": "2020-08-26T22:33:21.645264Z"
    },
    "papermill": {
     "duration": 1.281233,
     "end_time": "2020-08-26T22:33:21.646112",
     "exception": false,
     "start_time": "2020-08-26T22:33:20.364879",
     "status": "completed"
    },
    "tags": []
   },
   "outputs": [],
   "source": [
    "df = pd.read_csv('https://covidtracking.com/api/states/daily.csv')"
   ]
  },
  {
   "cell_type": "markdown",
   "metadata": {
    "papermill": {
     "duration": 0.01047,
     "end_time": "2020-08-26T22:33:21.671613",
     "exception": false,
     "start_time": "2020-08-26T22:33:21.661143",
     "status": "completed"
    },
    "tags": []
   },
   "source": [
    "# Helpers"
   ]
  },
  {
   "cell_type": "code",
   "execution_count": 4,
   "metadata": {
    "execution": {
     "iopub.execute_input": "2020-08-26T22:33:21.697612Z",
     "iopub.status.busy": "2020-08-26T22:33:21.697119Z",
     "iopub.status.idle": "2020-08-26T22:33:21.699706Z",
     "shell.execute_reply": "2020-08-26T22:33:21.700130Z"
    },
    "papermill": {
     "duration": 0.018568,
     "end_time": "2020-08-26T22:33:21.700265",
     "exception": false,
     "start_time": "2020-08-26T22:33:21.681697",
     "status": "completed"
    },
    "tags": []
   },
   "outputs": [],
   "source": [
    "#collapse\n",
    "def create_df(df: pd.DataFrame, \n",
    "              filter_f: Callable, \n",
    "              state_name: str):\n",
    "    out_df = (\n",
    "     df\n",
    "     .assign(date = lambda d: pd.to_datetime(d['date'], format='%Y%m%d'))\n",
    "     .loc[filter_f, :]\n",
    "     .groupby('date')\n",
    "     .apply(lambda d: pd.Series(dict(\n",
    "         totalTestResultsIncrease = d['totalTestResultsIncrease'].sum(),\n",
    "         positiveIncrease = d['positiveIncrease'].sum(),\n",
    "         death = d['death'].sum(),\n",
    "         deathIncrease = d['deathIncrease'].sum()\n",
    "     )))\n",
    "     .reset_index()\n",
    "     .assign(positiveRate = lambda d: round(d['positiveIncrease'] / d['totalTestResultsIncrease'], 3))\n",
    "     .sort_values('date', ascending=True)\n",
    "     .assign(state = state_name)\n",
    "     .reset_index(drop=True)\n",
    "    )\n",
    "    \n",
    "    return out_df"
   ]
  },
  {
   "cell_type": "code",
   "execution_count": 5,
   "metadata": {
    "execution": {
     "iopub.execute_input": "2020-08-26T22:33:21.731842Z",
     "iopub.status.busy": "2020-08-26T22:33:21.731329Z",
     "iopub.status.idle": "2020-08-26T22:33:21.733301Z",
     "shell.execute_reply": "2020-08-26T22:33:21.733760Z"
    },
    "papermill": {
     "duration": 0.022472,
     "end_time": "2020-08-26T22:33:21.733891",
     "exception": false,
     "start_time": "2020-08-26T22:33:21.711419",
     "status": "completed"
    },
    "tags": []
   },
   "outputs": [],
   "source": [
    "#collapse\n",
    "def create_plot(df: pd.DataFrame, \n",
    "                column: Literal['totalTestResultsIncrease', \n",
    "                                'positiveIncrease', \n",
    "                                'death',\n",
    "                                'deathIncrease', \n",
    "                                'positiveRate'],\n",
    "                period: int = 7*8):\n",
    "    df = (\n",
    "     df\n",
    "     .assign(sma7d = lambda d: d[column].rolling(window=7).mean().round(3))\n",
    "     .loc[lambda d: d['date'] >= pd.to_datetime('today') - period * pd.Timedelta('1 days'), :]\n",
    "     .reset_index(drop=True)\n",
    "    )\n",
    "    the_state = df['state'][0]\n",
    "    label = alt.selection_single(\n",
    "        encodings=['x'], on='mouseover', nearest=True, empty='none')\n",
    "    \n",
    "    base = alt.Chart().mark_point(size=75).encode(\n",
    "        x='date:T',\n",
    "        y=f'{column}:Q',\n",
    "        tooltip=['date', f'{column}:Q', 'sma7d:Q']\n",
    "    )\n",
    "\n",
    "    sma = alt.Chart().mark_line(color='purple').encode(\n",
    "        x='date:T',\n",
    "        y='sma7d:Q'\n",
    "    )\n",
    "\n",
    "    layers = alt.layer(\n",
    "        base + sma,\n",
    "\n",
    "        # add a rule mark to serve as a guide line\n",
    "        alt.Chart().mark_rule(color='#aaa').encode(\n",
    "            x='date:T'\n",
    "        ).transform_filter(label),\n",
    "\n",
    "        # add circle marks for selected time points, hide unselected points\n",
    "        base.mark_circle().encode(\n",
    "            opacity=alt.condition(label, alt.value(1), alt.value(0))\n",
    "        ).add_selection(label),\n",
    "\n",
    "        # add white stroked text to provide a legible background for labels\n",
    "        base.mark_text(align='left', dx=5, dy=-5, stroke='white', strokeWidth=2).encode(\n",
    "            text=f'{column}:Q'\n",
    "        ).transform_filter(label),\n",
    "\n",
    "        # add text labels\n",
    "        base.mark_text(align='left', dx=5, dy=-5).encode(\n",
    "            text=f'{column}:Q'\n",
    "        ).transform_filter(label),\n",
    "        \n",
    "        data=df\n",
    "    ).properties(\n",
    "        title=f'{the_state}: {column}',\n",
    "        width=500,\n",
    "        height=400\n",
    "    )\n",
    "    \n",
    "    return layers.interactive()"
   ]
  },
  {
   "cell_type": "markdown",
   "metadata": {
    "papermill": {
     "duration": 0.011852,
     "end_time": "2020-08-26T22:33:21.757705",
     "exception": false,
     "start_time": "2020-08-26T22:33:21.745853",
     "status": "completed"
    },
    "tags": []
   },
   "source": [
    "# Plots"
   ]
  },
  {
   "cell_type": "markdown",
   "metadata": {
    "papermill": {
     "duration": 0.012502,
     "end_time": "2020-08-26T22:33:21.782349",
     "exception": false,
     "start_time": "2020-08-26T22:33:21.769847",
     "status": "completed"
    },
    "tags": []
   },
   "source": [
    "## US"
   ]
  },
  {
   "cell_type": "code",
   "execution_count": 6,
   "metadata": {
    "execution": {
     "iopub.execute_input": "2020-08-26T22:33:21.810922Z",
     "iopub.status.busy": "2020-08-26T22:33:21.810386Z",
     "iopub.status.idle": "2020-08-26T22:33:22.028006Z",
     "shell.execute_reply": "2020-08-26T22:33:22.027140Z"
    },
    "papermill": {
     "duration": 0.234436,
     "end_time": "2020-08-26T22:33:22.028214",
     "exception": false,
     "start_time": "2020-08-26T22:33:21.793778",
     "status": "completed"
    },
    "tags": []
   },
   "outputs": [],
   "source": [
    "us = create_df(df, lambda d: d.index > 0, 'US')"
   ]
  },
  {
   "cell_type": "code",
   "execution_count": 7,
   "metadata": {
    "execution": {
     "iopub.execute_input": "2020-08-26T22:33:22.092153Z",
     "iopub.status.busy": "2020-08-26T22:33:22.076532Z",
     "iopub.status.idle": "2020-08-26T22:33:22.158086Z",
     "shell.execute_reply": "2020-08-26T22:33:22.157544Z"
    },
    "papermill": {
     "duration": 0.117004,
     "end_time": "2020-08-26T22:33:22.158209",
     "exception": false,
     "start_time": "2020-08-26T22:33:22.041205",
     "status": "completed"
    },
    "tags": []
   },
   "outputs": [
    {
     "data": {
      "text/html": [
       "\n",
       "<div id=\"altair-viz-e109b97ac58d442e9865e0a4883fb015\"></div>\n",
       "<script type=\"text/javascript\">\n",
       "  (function(spec, embedOpt){\n",
       "    let outputDiv = document.currentScript.previousElementSibling;\n",
       "    if (outputDiv.id !== \"altair-viz-e109b97ac58d442e9865e0a4883fb015\") {\n",
       "      outputDiv = document.getElementById(\"altair-viz-e109b97ac58d442e9865e0a4883fb015\");\n",
       "    }\n",
       "    const paths = {\n",
       "      \"vega\": \"https://cdn.jsdelivr.net/npm//vega@5?noext\",\n",
       "      \"vega-lib\": \"https://cdn.jsdelivr.net/npm//vega-lib?noext\",\n",
       "      \"vega-lite\": \"https://cdn.jsdelivr.net/npm//vega-lite@4.8.1?noext\",\n",
       "      \"vega-embed\": \"https://cdn.jsdelivr.net/npm//vega-embed@6?noext\",\n",
       "    };\n",
       "\n",
       "    function loadScript(lib) {\n",
       "      return new Promise(function(resolve, reject) {\n",
       "        var s = document.createElement('script');\n",
       "        s.src = paths[lib];\n",
       "        s.async = true;\n",
       "        s.onload = () => resolve(paths[lib]);\n",
       "        s.onerror = () => reject(`Error loading script: ${paths[lib]}`);\n",
       "        document.getElementsByTagName(\"head\")[0].appendChild(s);\n",
       "      });\n",
       "    }\n",
       "\n",
       "    function showError(err) {\n",
       "      outputDiv.innerHTML = `<div class=\"error\" style=\"color:red;\">${err}</div>`;\n",
       "      throw err;\n",
       "    }\n",
       "\n",
       "    function displayChart(vegaEmbed) {\n",
       "      vegaEmbed(outputDiv, spec, embedOpt)\n",
       "        .catch(err => showError(`Javascript Error: ${err.message}<br>This usually means there's a typo in your chart specification. See the javascript console for the full traceback.`));\n",
       "    }\n",
       "\n",
       "    if(typeof define === \"function\" && define.amd) {\n",
       "      requirejs.config({paths});\n",
       "      require([\"vega-embed\"], displayChart, err => showError(`Error loading script: ${err.message}`));\n",
       "    } else if (typeof vegaEmbed === \"function\") {\n",
       "      displayChart(vegaEmbed);\n",
       "    } else {\n",
       "      loadScript(\"vega\")\n",
       "        .then(() => loadScript(\"vega-lite\"))\n",
       "        .then(() => loadScript(\"vega-embed\"))\n",
       "        .catch(showError)\n",
       "        .then(() => displayChart(vegaEmbed));\n",
       "    }\n",
       "  })({\"config\": {\"view\": {\"continuousWidth\": 400, \"continuousHeight\": 300}}, \"layer\": [{\"layer\": [{\"mark\": {\"type\": \"point\", \"size\": 75}, \"encoding\": {\"tooltip\": [{\"type\": \"temporal\", \"field\": \"date\"}, {\"type\": \"quantitative\", \"field\": \"positiveIncrease\"}, {\"type\": \"quantitative\", \"field\": \"sma7d\"}], \"x\": {\"type\": \"temporal\", \"field\": \"date\"}, \"y\": {\"type\": \"quantitative\", \"field\": \"positiveIncrease\"}}, \"selection\": {\"selector002\": {\"type\": \"interval\", \"bind\": \"scales\", \"encodings\": [\"x\", \"y\"]}}}, {\"mark\": {\"type\": \"line\", \"color\": \"purple\"}, \"encoding\": {\"x\": {\"type\": \"temporal\", \"field\": \"date\"}, \"y\": {\"type\": \"quantitative\", \"field\": \"sma7d\"}}}]}, {\"mark\": {\"type\": \"rule\", \"color\": \"#aaa\"}, \"encoding\": {\"x\": {\"type\": \"temporal\", \"field\": \"date\"}}, \"transform\": [{\"filter\": {\"selection\": \"selector001\"}}]}, {\"mark\": \"circle\", \"encoding\": {\"opacity\": {\"condition\": {\"value\": 1, \"selection\": \"selector001\"}, \"value\": 0}, \"tooltip\": [{\"type\": \"temporal\", \"field\": \"date\"}, {\"type\": \"quantitative\", \"field\": \"positiveIncrease\"}, {\"type\": \"quantitative\", \"field\": \"sma7d\"}], \"x\": {\"type\": \"temporal\", \"field\": \"date\"}, \"y\": {\"type\": \"quantitative\", \"field\": \"positiveIncrease\"}}, \"selection\": {\"selector001\": {\"type\": \"single\", \"encodings\": [\"x\"], \"on\": \"mouseover\", \"nearest\": true, \"empty\": \"none\"}}}, {\"mark\": {\"type\": \"text\", \"align\": \"left\", \"dx\": 5, \"dy\": -5, \"stroke\": \"white\", \"strokeWidth\": 2}, \"encoding\": {\"text\": {\"type\": \"quantitative\", \"field\": \"positiveIncrease\"}, \"tooltip\": [{\"type\": \"temporal\", \"field\": \"date\"}, {\"type\": \"quantitative\", \"field\": \"positiveIncrease\"}, {\"type\": \"quantitative\", \"field\": \"sma7d\"}], \"x\": {\"type\": \"temporal\", \"field\": \"date\"}, \"y\": {\"type\": \"quantitative\", \"field\": \"positiveIncrease\"}}, \"transform\": [{\"filter\": {\"selection\": \"selector001\"}}]}, {\"mark\": {\"type\": \"text\", \"align\": \"left\", \"dx\": 5, \"dy\": -5}, \"encoding\": {\"text\": {\"type\": \"quantitative\", \"field\": \"positiveIncrease\"}, \"tooltip\": [{\"type\": \"temporal\", \"field\": \"date\"}, {\"type\": \"quantitative\", \"field\": \"positiveIncrease\"}, {\"type\": \"quantitative\", \"field\": \"sma7d\"}], \"x\": {\"type\": \"temporal\", \"field\": \"date\"}, \"y\": {\"type\": \"quantitative\", \"field\": \"positiveIncrease\"}}, \"transform\": [{\"filter\": {\"selection\": \"selector001\"}}]}], \"data\": {\"name\": \"data-76a882dd09258844e34d546ae33842f3\"}, \"height\": 400, \"title\": \"US: positiveIncrease\", \"width\": 500, \"$schema\": \"https://vega.github.io/schema/vega-lite/v4.8.1.json\", \"datasets\": {\"data-76a882dd09258844e34d546ae33842f3\": [{\"date\": \"2020-07-02T00:00:00\", \"totalTestResultsIncrease\": 666881.0, \"positiveIncrease\": 54084.0, \"death\": 121514.0, \"deathIncrease\": 695.0, \"positiveRate\": 0.081, \"state\": \"US\", \"sma7d\": 46091.143}, {\"date\": \"2020-07-03T00:00:00\", \"totalTestResultsIncrease\": 711845.0, \"positiveIncrease\": 53950.0, \"death\": 122112.0, \"deathIncrease\": 598.0, \"positiveRate\": 0.076, \"state\": \"US\", \"sma7d\": 47435.0}, {\"date\": \"2020-07-04T00:00:00\", \"totalTestResultsIncrease\": 635367.0, \"positiveIncrease\": 54338.0, \"death\": 122418.0, \"deathIncrease\": 306.0, \"positiveRate\": 0.086, \"state\": \"US\", \"sma7d\": 48942.714}, {\"date\": \"2020-07-05T00:00:00\", \"totalTestResultsIncrease\": 681662.0, \"positiveIncrease\": 45613.0, \"death\": 122627.0, \"deathIncrease\": 209.0, \"positiveRate\": 0.067, \"state\": \"US\", \"sma7d\": 49520.0}, {\"date\": \"2020-07-06T00:00:00\", \"totalTestResultsIncrease\": 516732.0, \"positiveIncrease\": 41918.0, \"death\": 122870.0, \"deathIncrease\": 243.0, \"positiveRate\": 0.081, \"state\": \"US\", \"sma7d\": 49821.0}, {\"date\": \"2020-07-07T00:00:00\", \"totalTestResultsIncrease\": 638814.0, \"positiveIncrease\": 51726.0, \"death\": 123793.0, \"deathIncrease\": 923.0, \"positiveRate\": 0.081, \"state\": \"US\", \"sma7d\": 50372.857}, {\"date\": \"2020-07-08T00:00:00\", \"totalTestResultsIncrease\": 643501.0, \"positiveIncrease\": 62672.0, \"death\": 124600.0, \"deathIncrease\": 807.0, \"positiveRate\": 0.097, \"state\": \"US\", \"sma7d\": 52043.0}, {\"date\": \"2020-07-09T00:00:00\", \"totalTestResultsIncrease\": 709113.0, \"positiveIncrease\": 59157.0, \"death\": 125467.0, \"deathIncrease\": 867.0, \"positiveRate\": 0.083, \"state\": \"US\", \"sma7d\": 52767.714}, {\"date\": \"2020-07-10T00:00:00\", \"totalTestResultsIncrease\": 814898.0, \"positiveIncrease\": 66846.0, \"death\": 126321.0, \"deathIncrease\": 854.0, \"positiveRate\": 0.082, \"state\": \"US\", \"sma7d\": 54610.0}, {\"date\": \"2020-07-11T00:00:00\", \"totalTestResultsIncrease\": 707812.0, \"positiveIncrease\": 62896.0, \"death\": 127078.0, \"deathIncrease\": 757.0, \"positiveRate\": 0.089, \"state\": \"US\", \"sma7d\": 55832.571}, {\"date\": \"2020-07-12T00:00:00\", \"totalTestResultsIncrease\": 769448.0, \"positiveIncrease\": 61312.0, \"death\": 127554.0, \"deathIncrease\": 476.0, \"positiveRate\": 0.08, \"state\": \"US\", \"sma7d\": 58075.286}, {\"date\": \"2020-07-13T00:00:00\", \"totalTestResultsIncrease\": 691878.0, \"positiveIncrease\": 58097.0, \"death\": 127881.0, \"deathIncrease\": 327.0, \"positiveRate\": 0.084, \"state\": \"US\", \"sma7d\": 60386.571}, {\"date\": \"2020-07-14T00:00:00\", \"totalTestResultsIncrease\": 769997.0, \"positiveIncrease\": 62726.0, \"death\": 128617.0, \"deathIncrease\": 736.0, \"positiveRate\": 0.081, \"state\": \"US\", \"sma7d\": 61958.0}, {\"date\": \"2020-07-15T00:00:00\", \"totalTestResultsIncrease\": 773245.0, \"positiveIncrease\": 65797.0, \"death\": 129475.0, \"deathIncrease\": 858.0, \"positiveRate\": 0.085, \"state\": \"US\", \"sma7d\": 62404.429}, {\"date\": \"2020-07-16T00:00:00\", \"totalTestResultsIncrease\": 832430.0, \"positiveIncrease\": 71036.0, \"death\": 130422.0, \"deathIncrease\": 947.0, \"positiveRate\": 0.085, \"state\": \"US\", \"sma7d\": 64101.429}, {\"date\": \"2020-07-17T00:00:00\", \"totalTestResultsIncrease\": 839267.0, \"positiveIncrease\": 76844.0, \"death\": 131373.0, \"deathIncrease\": 951.0, \"positiveRate\": 0.092, \"state\": \"US\", \"sma7d\": 65529.714}, {\"date\": \"2020-07-18T00:00:00\", \"totalTestResultsIncrease\": 763602.0, \"positiveIncrease\": 64950.0, \"death\": 132245.0, \"deathIncrease\": 872.0, \"positiveRate\": 0.085, \"state\": \"US\", \"sma7d\": 65823.143}, {\"date\": \"2020-07-19T00:00:00\", \"totalTestResultsIncrease\": 786697.0, \"positiveIncrease\": 64259.0, \"death\": 132772.0, \"deathIncrease\": 527.0, \"positiveRate\": 0.082, \"state\": \"US\", \"sma7d\": 66244.143}, {\"date\": \"2020-07-20T00:00:00\", \"totalTestResultsIncrease\": 712427.0, \"positiveIncrease\": 57041.0, \"death\": 133135.0, \"deathIncrease\": 363.0, \"positiveRate\": 0.08, \"state\": \"US\", \"sma7d\": 66093.286}, {\"date\": \"2020-07-21T00:00:00\", \"totalTestResultsIncrease\": 754866.0, \"positiveIncrease\": 63929.0, \"death\": 134173.0, \"deathIncrease\": 1038.0, \"positiveRate\": 0.085, \"state\": \"US\", \"sma7d\": 66265.143}, {\"date\": \"2020-07-22T00:00:00\", \"totalTestResultsIncrease\": 801635.0, \"positiveIncrease\": 69334.0, \"death\": 135344.0, \"deathIncrease\": 1171.0, \"positiveRate\": 0.086, \"state\": \"US\", \"sma7d\": 66770.429}, {\"date\": \"2020-07-23T00:00:00\", \"totalTestResultsIncrease\": 845866.0, \"positiveIncrease\": 71553.0, \"death\": 136399.0, \"deathIncrease\": 1055.0, \"positiveRate\": 0.085, \"state\": \"US\", \"sma7d\": 66844.286}, {\"date\": \"2020-07-24T00:00:00\", \"totalTestResultsIncrease\": 933631.0, \"positiveIncrease\": 75235.0, \"death\": 137575.0, \"deathIncrease\": 1176.0, \"positiveRate\": 0.081, \"state\": \"US\", \"sma7d\": 66614.429}, {\"date\": \"2020-07-25T00:00:00\", \"totalTestResultsIncrease\": 791008.0, \"positiveIncrease\": 64742.0, \"death\": 138598.0, \"deathIncrease\": 1023.0, \"positiveRate\": 0.082, \"state\": \"US\", \"sma7d\": 66584.714}, {\"date\": \"2020-07-26T00:00:00\", \"totalTestResultsIncrease\": 851063.0, \"positiveIncrease\": 61009.0, \"death\": 139157.0, \"deathIncrease\": 559.0, \"positiveRate\": 0.072, \"state\": \"US\", \"sma7d\": 66120.429}, {\"date\": \"2020-07-27T00:00:00\", \"totalTestResultsIncrease\": 762706.0, \"positiveIncrease\": 55321.0, \"death\": 140216.0, \"deathIncrease\": 1059.0, \"positiveRate\": 0.073, \"state\": \"US\", \"sma7d\": 65874.714}, {\"date\": \"2020-07-28T00:00:00\", \"totalTestResultsIncrease\": 738079.0, \"positiveIncrease\": 56452.0, \"death\": 141338.0, \"deathIncrease\": 1122.0, \"positiveRate\": 0.076, \"state\": \"US\", \"sma7d\": 64806.571}, {\"date\": \"2020-07-29T00:00:00\", \"totalTestResultsIncrease\": 864481.0, \"positiveIncrease\": 66960.0, \"death\": 142830.0, \"deathIncrease\": 1492.0, \"positiveRate\": 0.077, \"state\": \"US\", \"sma7d\": 64467.429}, {\"date\": \"2020-07-30T00:00:00\", \"totalTestResultsIncrease\": 814659.0, \"positiveIncrease\": 69419.0, \"death\": 144089.0, \"deathIncrease\": 1259.0, \"positiveRate\": 0.085, \"state\": \"US\", \"sma7d\": 64162.571}, {\"date\": \"2020-07-31T00:00:00\", \"totalTestResultsIncrease\": 731889.0, \"positiveIncrease\": 67624.0, \"death\": 145400.0, \"deathIncrease\": 1311.0, \"positiveRate\": 0.092, \"state\": \"US\", \"sma7d\": 63075.286}, {\"date\": \"2020-08-01T00:00:00\", \"totalTestResultsIncrease\": 745667.0, \"positiveIncrease\": 61102.0, \"death\": 146590.0, \"deathIncrease\": 1190.0, \"positiveRate\": 0.082, \"state\": \"US\", \"sma7d\": 62555.286}, {\"date\": \"2020-08-02T00:00:00\", \"totalTestResultsIncrease\": 699476.0, \"positiveIncrease\": 46756.0, \"death\": 147088.0, \"deathIncrease\": 498.0, \"positiveRate\": 0.067, \"state\": \"US\", \"sma7d\": 60519.143}, {\"date\": \"2020-08-03T00:00:00\", \"totalTestResultsIncrease\": 745121.0, \"positiveIncrease\": 49769.0, \"death\": 147607.0, \"deathIncrease\": 519.0, \"positiveRate\": 0.067, \"state\": \"US\", \"sma7d\": 59726.0}, {\"date\": \"2020-08-04T00:00:00\", \"totalTestResultsIncrease\": 717065.0, \"positiveIncrease\": 51865.0, \"death\": 148862.0, \"deathIncrease\": 1255.0, \"positiveRate\": 0.072, \"state\": \"US\", \"sma7d\": 59070.714}, {\"date\": \"2020-08-05T00:00:00\", \"totalTestResultsIncrease\": 699559.0, \"positiveIncrease\": 52326.0, \"death\": 150208.0, \"deathIncrease\": 1346.0, \"positiveRate\": 0.075, \"state\": \"US\", \"sma7d\": 56980.143}, {\"date\": \"2020-08-06T00:00:00\", \"totalTestResultsIncrease\": 766599.0, \"positiveIncrease\": 54185.0, \"death\": 151459.0, \"deathIncrease\": 1251.0, \"positiveRate\": 0.071, \"state\": \"US\", \"sma7d\": 54803.857}, {\"date\": \"2020-08-07T00:00:00\", \"totalTestResultsIncrease\": 785380.0, \"positiveIncrease\": 61346.0, \"death\": 152792.0, \"deathIncrease\": 1333.0, \"positiveRate\": 0.078, \"state\": \"US\", \"sma7d\": 53907.0}, {\"date\": \"2020-08-08T00:00:00\", \"totalTestResultsIncrease\": 683357.0, \"positiveIncrease\": 53713.0, \"death\": 153881.0, \"deathIncrease\": 1089.0, \"positiveRate\": 0.079, \"state\": \"US\", \"sma7d\": 52851.429}, {\"date\": \"2020-08-09T00:00:00\", \"totalTestResultsIncrease\": 724040.0, \"positiveIncrease\": 50624.0, \"death\": 154497.0, \"deathIncrease\": 616.0, \"positiveRate\": 0.07, \"state\": \"US\", \"sma7d\": 53404.0}, {\"date\": \"2020-08-10T00:00:00\", \"totalTestResultsIncrease\": 740948.0, \"positiveIncrease\": 42089.0, \"death\": 154923.0, \"deathIncrease\": 426.0, \"positiveRate\": 0.057, \"state\": \"US\", \"sma7d\": 52306.857}, {\"date\": \"2020-08-11T00:00:00\", \"totalTestResultsIncrease\": 759973.0, \"positiveIncrease\": 55702.0, \"death\": 156249.0, \"deathIncrease\": 1326.0, \"positiveRate\": 0.073, \"state\": \"US\", \"sma7d\": 52855.0}, {\"date\": \"2020-08-12T00:00:00\", \"totalTestResultsIncrease\": 500196.0, \"positiveIncrease\": 56132.0, \"death\": 157766.0, \"deathIncrease\": 1517.0, \"positiveRate\": 0.112, \"state\": \"US\", \"sma7d\": 53398.714}, {\"date\": \"2020-08-13T00:00:00\", \"totalTestResultsIncrease\": 900258.0, \"positiveIncrease\": 51760.0, \"death\": 158929.0, \"deathIncrease\": 1163.0, \"positiveRate\": 0.057, \"state\": \"US\", \"sma7d\": 53052.286}, {\"date\": \"2020-08-14T00:00:00\", \"totalTestResultsIncrease\": 862330.0, \"positiveIncrease\": 55635.0, \"death\": 160145.0, \"deathIncrease\": 1216.0, \"positiveRate\": 0.065, \"state\": \"US\", \"sma7d\": 52236.429}, {\"date\": \"2020-08-15T00:00:00\", \"totalTestResultsIncrease\": 756685.0, \"positiveIncrease\": 56148.0, \"death\": 161364.0, \"deathIncrease\": 1219.0, \"positiveRate\": 0.074, \"state\": \"US\", \"sma7d\": 52584.286}, {\"date\": \"2020-08-16T00:00:00\", \"totalTestResultsIncrease\": 790395.0, \"positiveIncrease\": 42487.0, \"death\": 161983.0, \"deathIncrease\": 619.0, \"positiveRate\": 0.054, \"state\": \"US\", \"sma7d\": 51421.857}, {\"date\": \"2020-08-17T00:00:00\", \"totalTestResultsIncrease\": 670060.0, \"positiveIncrease\": 37881.0, \"death\": 162390.0, \"deathIncrease\": 407.0, \"positiveRate\": 0.057, \"state\": \"US\", \"sma7d\": 50820.714}, {\"date\": \"2020-08-18T00:00:00\", \"totalTestResultsIncrease\": 663624.0, \"positiveIncrease\": 40796.0, \"death\": 163585.0, \"deathIncrease\": 1195.0, \"positiveRate\": 0.061, \"state\": \"US\", \"sma7d\": 48691.286}, {\"date\": \"2020-08-19T00:00:00\", \"totalTestResultsIncrease\": 673987.0, \"positiveIncrease\": 44953.0, \"death\": 165005.0, \"deathIncrease\": 1420.0, \"positiveRate\": 0.067, \"state\": \"US\", \"sma7d\": 47094.286}, {\"date\": \"2020-08-20T00:00:00\", \"totalTestResultsIncrease\": 703255.0, \"positiveIncrease\": 43758.0, \"death\": 166139.0, \"deathIncrease\": 1134.0, \"positiveRate\": 0.062, \"state\": \"US\", \"sma7d\": 45951.143}, {\"date\": \"2020-08-21T00:00:00\", \"totalTestResultsIncrease\": 759085.0, \"positiveIncrease\": 46562.0, \"death\": 167262.0, \"deathIncrease\": 1123.0, \"positiveRate\": 0.061, \"state\": \"US\", \"sma7d\": 44655.0}, {\"date\": \"2020-08-22T00:00:00\", \"totalTestResultsIncrease\": 773835.0, \"positiveIncrease\": 46242.0, \"death\": 168291.0, \"deathIncrease\": 1029.0, \"positiveRate\": 0.06, \"state\": \"US\", \"sma7d\": 43239.857}, {\"date\": \"2020-08-23T00:00:00\", \"totalTestResultsIncrease\": 629488.0, \"positiveIncrease\": 37567.0, \"death\": 168863.0, \"deathIncrease\": 572.0, \"positiveRate\": 0.06, \"state\": \"US\", \"sma7d\": 42537.0}, {\"date\": \"2020-08-24T00:00:00\", \"totalTestResultsIncrease\": 692240.0, \"positiveIncrease\": 34641.0, \"death\": 169206.0, \"deathIncrease\": 343.0, \"positiveRate\": 0.05, \"state\": \"US\", \"sma7d\": 42074.143}, {\"date\": \"2020-08-25T00:00:00\", \"totalTestResultsIncrease\": -563054.0, \"positiveIncrease\": -40024.0, \"death\": 170317.0, \"deathIncrease\": 1143.0, \"positiveRate\": 0.071, \"state\": \"US\", \"sma7d\": 30528.429}]}}, {\"mode\": \"vega-lite\"});\n",
       "</script>"
      ],
      "text/plain": [
       "alt.LayerChart(...)"
      ]
     },
     "execution_count": 7,
     "metadata": {},
     "output_type": "execute_result"
    }
   ],
   "source": [
    "create_plot(us, 'positiveIncrease')"
   ]
  },
  {
   "cell_type": "code",
   "execution_count": 8,
   "metadata": {
    "execution": {
     "iopub.execute_input": "2020-08-26T22:33:22.219631Z",
     "iopub.status.busy": "2020-08-26T22:33:22.198685Z",
     "iopub.status.idle": "2020-08-26T22:33:22.272320Z",
     "shell.execute_reply": "2020-08-26T22:33:22.271874Z"
    },
    "papermill": {
     "duration": 0.101942,
     "end_time": "2020-08-26T22:33:22.272436",
     "exception": false,
     "start_time": "2020-08-26T22:33:22.170494",
     "status": "completed"
    },
    "tags": []
   },
   "outputs": [
    {
     "data": {
      "text/html": [
       "\n",
       "<div id=\"altair-viz-5d45656a26db48a3aa34f6fe383d274f\"></div>\n",
       "<script type=\"text/javascript\">\n",
       "  (function(spec, embedOpt){\n",
       "    let outputDiv = document.currentScript.previousElementSibling;\n",
       "    if (outputDiv.id !== \"altair-viz-5d45656a26db48a3aa34f6fe383d274f\") {\n",
       "      outputDiv = document.getElementById(\"altair-viz-5d45656a26db48a3aa34f6fe383d274f\");\n",
       "    }\n",
       "    const paths = {\n",
       "      \"vega\": \"https://cdn.jsdelivr.net/npm//vega@5?noext\",\n",
       "      \"vega-lib\": \"https://cdn.jsdelivr.net/npm//vega-lib?noext\",\n",
       "      \"vega-lite\": \"https://cdn.jsdelivr.net/npm//vega-lite@4.8.1?noext\",\n",
       "      \"vega-embed\": \"https://cdn.jsdelivr.net/npm//vega-embed@6?noext\",\n",
       "    };\n",
       "\n",
       "    function loadScript(lib) {\n",
       "      return new Promise(function(resolve, reject) {\n",
       "        var s = document.createElement('script');\n",
       "        s.src = paths[lib];\n",
       "        s.async = true;\n",
       "        s.onload = () => resolve(paths[lib]);\n",
       "        s.onerror = () => reject(`Error loading script: ${paths[lib]}`);\n",
       "        document.getElementsByTagName(\"head\")[0].appendChild(s);\n",
       "      });\n",
       "    }\n",
       "\n",
       "    function showError(err) {\n",
       "      outputDiv.innerHTML = `<div class=\"error\" style=\"color:red;\">${err}</div>`;\n",
       "      throw err;\n",
       "    }\n",
       "\n",
       "    function displayChart(vegaEmbed) {\n",
       "      vegaEmbed(outputDiv, spec, embedOpt)\n",
       "        .catch(err => showError(`Javascript Error: ${err.message}<br>This usually means there's a typo in your chart specification. See the javascript console for the full traceback.`));\n",
       "    }\n",
       "\n",
       "    if(typeof define === \"function\" && define.amd) {\n",
       "      requirejs.config({paths});\n",
       "      require([\"vega-embed\"], displayChart, err => showError(`Error loading script: ${err.message}`));\n",
       "    } else if (typeof vegaEmbed === \"function\") {\n",
       "      displayChart(vegaEmbed);\n",
       "    } else {\n",
       "      loadScript(\"vega\")\n",
       "        .then(() => loadScript(\"vega-lite\"))\n",
       "        .then(() => loadScript(\"vega-embed\"))\n",
       "        .catch(showError)\n",
       "        .then(() => displayChart(vegaEmbed));\n",
       "    }\n",
       "  })({\"config\": {\"view\": {\"continuousWidth\": 400, \"continuousHeight\": 300}}, \"layer\": [{\"layer\": [{\"mark\": {\"type\": \"point\", \"size\": 75}, \"encoding\": {\"tooltip\": [{\"type\": \"temporal\", \"field\": \"date\"}, {\"type\": \"quantitative\", \"field\": \"positiveRate\"}, {\"type\": \"quantitative\", \"field\": \"sma7d\"}], \"x\": {\"type\": \"temporal\", \"field\": \"date\"}, \"y\": {\"type\": \"quantitative\", \"field\": \"positiveRate\"}}, \"selection\": {\"selector004\": {\"type\": \"interval\", \"bind\": \"scales\", \"encodings\": [\"x\", \"y\"]}}}, {\"mark\": {\"type\": \"line\", \"color\": \"purple\"}, \"encoding\": {\"x\": {\"type\": \"temporal\", \"field\": \"date\"}, \"y\": {\"type\": \"quantitative\", \"field\": \"sma7d\"}}}]}, {\"mark\": {\"type\": \"rule\", \"color\": \"#aaa\"}, \"encoding\": {\"x\": {\"type\": \"temporal\", \"field\": \"date\"}}, \"transform\": [{\"filter\": {\"selection\": \"selector003\"}}]}, {\"mark\": \"circle\", \"encoding\": {\"opacity\": {\"condition\": {\"value\": 1, \"selection\": \"selector003\"}, \"value\": 0}, \"tooltip\": [{\"type\": \"temporal\", \"field\": \"date\"}, {\"type\": \"quantitative\", \"field\": \"positiveRate\"}, {\"type\": \"quantitative\", \"field\": \"sma7d\"}], \"x\": {\"type\": \"temporal\", \"field\": \"date\"}, \"y\": {\"type\": \"quantitative\", \"field\": \"positiveRate\"}}, \"selection\": {\"selector003\": {\"type\": \"single\", \"encodings\": [\"x\"], \"on\": \"mouseover\", \"nearest\": true, \"empty\": \"none\"}}}, {\"mark\": {\"type\": \"text\", \"align\": \"left\", \"dx\": 5, \"dy\": -5, \"stroke\": \"white\", \"strokeWidth\": 2}, \"encoding\": {\"text\": {\"type\": \"quantitative\", \"field\": \"positiveRate\"}, \"tooltip\": [{\"type\": \"temporal\", \"field\": \"date\"}, {\"type\": \"quantitative\", \"field\": \"positiveRate\"}, {\"type\": \"quantitative\", \"field\": \"sma7d\"}], \"x\": {\"type\": \"temporal\", \"field\": \"date\"}, \"y\": {\"type\": \"quantitative\", \"field\": \"positiveRate\"}}, \"transform\": [{\"filter\": {\"selection\": \"selector003\"}}]}, {\"mark\": {\"type\": \"text\", \"align\": \"left\", \"dx\": 5, \"dy\": -5}, \"encoding\": {\"text\": {\"type\": \"quantitative\", \"field\": \"positiveRate\"}, \"tooltip\": [{\"type\": \"temporal\", \"field\": \"date\"}, {\"type\": \"quantitative\", \"field\": \"positiveRate\"}, {\"type\": \"quantitative\", \"field\": \"sma7d\"}], \"x\": {\"type\": \"temporal\", \"field\": \"date\"}, \"y\": {\"type\": \"quantitative\", \"field\": \"positiveRate\"}}, \"transform\": [{\"filter\": {\"selection\": \"selector003\"}}]}], \"data\": {\"name\": \"data-d385370123988330fb9e6a9caa71f530\"}, \"height\": 400, \"title\": \"US: positiveRate\", \"width\": 500, \"$schema\": \"https://vega.github.io/schema/vega-lite/v4.8.1.json\", \"datasets\": {\"data-d385370123988330fb9e6a9caa71f530\": [{\"date\": \"2020-07-02T00:00:00\", \"totalTestResultsIncrease\": 666881.0, \"positiveIncrease\": 54084.0, \"death\": 121514.0, \"deathIncrease\": 695.0, \"positiveRate\": 0.081, \"state\": \"US\", \"sma7d\": 0.073}, {\"date\": \"2020-07-03T00:00:00\", \"totalTestResultsIncrease\": 711845.0, \"positiveIncrease\": 53950.0, \"death\": 122112.0, \"deathIncrease\": 598.0, \"positiveRate\": 0.076, \"state\": \"US\", \"sma7d\": 0.074}, {\"date\": \"2020-07-04T00:00:00\", \"totalTestResultsIncrease\": 635367.0, \"positiveIncrease\": 54338.0, \"death\": 122418.0, \"deathIncrease\": 306.0, \"positiveRate\": 0.086, \"state\": \"US\", \"sma7d\": 0.076}, {\"date\": \"2020-07-05T00:00:00\", \"totalTestResultsIncrease\": 681662.0, \"positiveIncrease\": 45613.0, \"death\": 122627.0, \"deathIncrease\": 209.0, \"positiveRate\": 0.067, \"state\": \"US\", \"sma7d\": 0.075}, {\"date\": \"2020-07-06T00:00:00\", \"totalTestResultsIncrease\": 516732.0, \"positiveIncrease\": 41918.0, \"death\": 122870.0, \"deathIncrease\": 243.0, \"positiveRate\": 0.081, \"state\": \"US\", \"sma7d\": 0.078}, {\"date\": \"2020-07-07T00:00:00\", \"totalTestResultsIncrease\": 638814.0, \"positiveIncrease\": 51726.0, \"death\": 123793.0, \"deathIncrease\": 923.0, \"positiveRate\": 0.081, \"state\": \"US\", \"sma7d\": 0.079}, {\"date\": \"2020-07-08T00:00:00\", \"totalTestResultsIncrease\": 643501.0, \"positiveIncrease\": 62672.0, \"death\": 124600.0, \"deathIncrease\": 807.0, \"positiveRate\": 0.097, \"state\": \"US\", \"sma7d\": 0.081}, {\"date\": \"2020-07-09T00:00:00\", \"totalTestResultsIncrease\": 709113.0, \"positiveIncrease\": 59157.0, \"death\": 125467.0, \"deathIncrease\": 867.0, \"positiveRate\": 0.083, \"state\": \"US\", \"sma7d\": 0.082}, {\"date\": \"2020-07-10T00:00:00\", \"totalTestResultsIncrease\": 814898.0, \"positiveIncrease\": 66846.0, \"death\": 126321.0, \"deathIncrease\": 854.0, \"positiveRate\": 0.082, \"state\": \"US\", \"sma7d\": 0.082}, {\"date\": \"2020-07-11T00:00:00\", \"totalTestResultsIncrease\": 707812.0, \"positiveIncrease\": 62896.0, \"death\": 127078.0, \"deathIncrease\": 757.0, \"positiveRate\": 0.089, \"state\": \"US\", \"sma7d\": 0.083}, {\"date\": \"2020-07-12T00:00:00\", \"totalTestResultsIncrease\": 769448.0, \"positiveIncrease\": 61312.0, \"death\": 127554.0, \"deathIncrease\": 476.0, \"positiveRate\": 0.08, \"state\": \"US\", \"sma7d\": 0.085}, {\"date\": \"2020-07-13T00:00:00\", \"totalTestResultsIncrease\": 691878.0, \"positiveIncrease\": 58097.0, \"death\": 127881.0, \"deathIncrease\": 327.0, \"positiveRate\": 0.084, \"state\": \"US\", \"sma7d\": 0.085}, {\"date\": \"2020-07-14T00:00:00\", \"totalTestResultsIncrease\": 769997.0, \"positiveIncrease\": 62726.0, \"death\": 128617.0, \"deathIncrease\": 736.0, \"positiveRate\": 0.081, \"state\": \"US\", \"sma7d\": 0.085}, {\"date\": \"2020-07-15T00:00:00\", \"totalTestResultsIncrease\": 773245.0, \"positiveIncrease\": 65797.0, \"death\": 129475.0, \"deathIncrease\": 858.0, \"positiveRate\": 0.085, \"state\": \"US\", \"sma7d\": 0.083}, {\"date\": \"2020-07-16T00:00:00\", \"totalTestResultsIncrease\": 832430.0, \"positiveIncrease\": 71036.0, \"death\": 130422.0, \"deathIncrease\": 947.0, \"positiveRate\": 0.085, \"state\": \"US\", \"sma7d\": 0.084}, {\"date\": \"2020-07-17T00:00:00\", \"totalTestResultsIncrease\": 839267.0, \"positiveIncrease\": 76844.0, \"death\": 131373.0, \"deathIncrease\": 951.0, \"positiveRate\": 0.092, \"state\": \"US\", \"sma7d\": 0.085}, {\"date\": \"2020-07-18T00:00:00\", \"totalTestResultsIncrease\": 763602.0, \"positiveIncrease\": 64950.0, \"death\": 132245.0, \"deathIncrease\": 872.0, \"positiveRate\": 0.085, \"state\": \"US\", \"sma7d\": 0.085}, {\"date\": \"2020-07-19T00:00:00\", \"totalTestResultsIncrease\": 786697.0, \"positiveIncrease\": 64259.0, \"death\": 132772.0, \"deathIncrease\": 527.0, \"positiveRate\": 0.082, \"state\": \"US\", \"sma7d\": 0.085}, {\"date\": \"2020-07-20T00:00:00\", \"totalTestResultsIncrease\": 712427.0, \"positiveIncrease\": 57041.0, \"death\": 133135.0, \"deathIncrease\": 363.0, \"positiveRate\": 0.08, \"state\": \"US\", \"sma7d\": 0.084}, {\"date\": \"2020-07-21T00:00:00\", \"totalTestResultsIncrease\": 754866.0, \"positiveIncrease\": 63929.0, \"death\": 134173.0, \"deathIncrease\": 1038.0, \"positiveRate\": 0.085, \"state\": \"US\", \"sma7d\": 0.085}, {\"date\": \"2020-07-22T00:00:00\", \"totalTestResultsIncrease\": 801635.0, \"positiveIncrease\": 69334.0, \"death\": 135344.0, \"deathIncrease\": 1171.0, \"positiveRate\": 0.086, \"state\": \"US\", \"sma7d\": 0.085}, {\"date\": \"2020-07-23T00:00:00\", \"totalTestResultsIncrease\": 845866.0, \"positiveIncrease\": 71553.0, \"death\": 136399.0, \"deathIncrease\": 1055.0, \"positiveRate\": 0.085, \"state\": \"US\", \"sma7d\": 0.085}, {\"date\": \"2020-07-24T00:00:00\", \"totalTestResultsIncrease\": 933631.0, \"positiveIncrease\": 75235.0, \"death\": 137575.0, \"deathIncrease\": 1176.0, \"positiveRate\": 0.081, \"state\": \"US\", \"sma7d\": 0.083}, {\"date\": \"2020-07-25T00:00:00\", \"totalTestResultsIncrease\": 791008.0, \"positiveIncrease\": 64742.0, \"death\": 138598.0, \"deathIncrease\": 1023.0, \"positiveRate\": 0.082, \"state\": \"US\", \"sma7d\": 0.083}, {\"date\": \"2020-07-26T00:00:00\", \"totalTestResultsIncrease\": 851063.0, \"positiveIncrease\": 61009.0, \"death\": 139157.0, \"deathIncrease\": 559.0, \"positiveRate\": 0.072, \"state\": \"US\", \"sma7d\": 0.082}, {\"date\": \"2020-07-27T00:00:00\", \"totalTestResultsIncrease\": 762706.0, \"positiveIncrease\": 55321.0, \"death\": 140216.0, \"deathIncrease\": 1059.0, \"positiveRate\": 0.073, \"state\": \"US\", \"sma7d\": 0.081}, {\"date\": \"2020-07-28T00:00:00\", \"totalTestResultsIncrease\": 738079.0, \"positiveIncrease\": 56452.0, \"death\": 141338.0, \"deathIncrease\": 1122.0, \"positiveRate\": 0.076, \"state\": \"US\", \"sma7d\": 0.079}, {\"date\": \"2020-07-29T00:00:00\", \"totalTestResultsIncrease\": 864481.0, \"positiveIncrease\": 66960.0, \"death\": 142830.0, \"deathIncrease\": 1492.0, \"positiveRate\": 0.077, \"state\": \"US\", \"sma7d\": 0.078}, {\"date\": \"2020-07-30T00:00:00\", \"totalTestResultsIncrease\": 814659.0, \"positiveIncrease\": 69419.0, \"death\": 144089.0, \"deathIncrease\": 1259.0, \"positiveRate\": 0.085, \"state\": \"US\", \"sma7d\": 0.078}, {\"date\": \"2020-07-31T00:00:00\", \"totalTestResultsIncrease\": 731889.0, \"positiveIncrease\": 67624.0, \"death\": 145400.0, \"deathIncrease\": 1311.0, \"positiveRate\": 0.092, \"state\": \"US\", \"sma7d\": 0.08}, {\"date\": \"2020-08-01T00:00:00\", \"totalTestResultsIncrease\": 745667.0, \"positiveIncrease\": 61102.0, \"death\": 146590.0, \"deathIncrease\": 1190.0, \"positiveRate\": 0.082, \"state\": \"US\", \"sma7d\": 0.08}, {\"date\": \"2020-08-02T00:00:00\", \"totalTestResultsIncrease\": 699476.0, \"positiveIncrease\": 46756.0, \"death\": 147088.0, \"deathIncrease\": 498.0, \"positiveRate\": 0.067, \"state\": \"US\", \"sma7d\": 0.079}, {\"date\": \"2020-08-03T00:00:00\", \"totalTestResultsIncrease\": 745121.0, \"positiveIncrease\": 49769.0, \"death\": 147607.0, \"deathIncrease\": 519.0, \"positiveRate\": 0.067, \"state\": \"US\", \"sma7d\": 0.078}, {\"date\": \"2020-08-04T00:00:00\", \"totalTestResultsIncrease\": 717065.0, \"positiveIncrease\": 51865.0, \"death\": 148862.0, \"deathIncrease\": 1255.0, \"positiveRate\": 0.072, \"state\": \"US\", \"sma7d\": 0.077}, {\"date\": \"2020-08-05T00:00:00\", \"totalTestResultsIncrease\": 699559.0, \"positiveIncrease\": 52326.0, \"death\": 150208.0, \"deathIncrease\": 1346.0, \"positiveRate\": 0.075, \"state\": \"US\", \"sma7d\": 0.077}, {\"date\": \"2020-08-06T00:00:00\", \"totalTestResultsIncrease\": 766599.0, \"positiveIncrease\": 54185.0, \"death\": 151459.0, \"deathIncrease\": 1251.0, \"positiveRate\": 0.071, \"state\": \"US\", \"sma7d\": 0.075}, {\"date\": \"2020-08-07T00:00:00\", \"totalTestResultsIncrease\": 785380.0, \"positiveIncrease\": 61346.0, \"death\": 152792.0, \"deathIncrease\": 1333.0, \"positiveRate\": 0.078, \"state\": \"US\", \"sma7d\": 0.073}, {\"date\": \"2020-08-08T00:00:00\", \"totalTestResultsIncrease\": 683357.0, \"positiveIncrease\": 53713.0, \"death\": 153881.0, \"deathIncrease\": 1089.0, \"positiveRate\": 0.079, \"state\": \"US\", \"sma7d\": 0.073}, {\"date\": \"2020-08-09T00:00:00\", \"totalTestResultsIncrease\": 724040.0, \"positiveIncrease\": 50624.0, \"death\": 154497.0, \"deathIncrease\": 616.0, \"positiveRate\": 0.07, \"state\": \"US\", \"sma7d\": 0.073}, {\"date\": \"2020-08-10T00:00:00\", \"totalTestResultsIncrease\": 740948.0, \"positiveIncrease\": 42089.0, \"death\": 154923.0, \"deathIncrease\": 426.0, \"positiveRate\": 0.057, \"state\": \"US\", \"sma7d\": 0.072}, {\"date\": \"2020-08-11T00:00:00\", \"totalTestResultsIncrease\": 759973.0, \"positiveIncrease\": 55702.0, \"death\": 156249.0, \"deathIncrease\": 1326.0, \"positiveRate\": 0.073, \"state\": \"US\", \"sma7d\": 0.072}, {\"date\": \"2020-08-12T00:00:00\", \"totalTestResultsIncrease\": 500196.0, \"positiveIncrease\": 56132.0, \"death\": 157766.0, \"deathIncrease\": 1517.0, \"positiveRate\": 0.112, \"state\": \"US\", \"sma7d\": 0.077}, {\"date\": \"2020-08-13T00:00:00\", \"totalTestResultsIncrease\": 900258.0, \"positiveIncrease\": 51760.0, \"death\": 158929.0, \"deathIncrease\": 1163.0, \"positiveRate\": 0.057, \"state\": \"US\", \"sma7d\": 0.075}, {\"date\": \"2020-08-14T00:00:00\", \"totalTestResultsIncrease\": 862330.0, \"positiveIncrease\": 55635.0, \"death\": 160145.0, \"deathIncrease\": 1216.0, \"positiveRate\": 0.065, \"state\": \"US\", \"sma7d\": 0.073}, {\"date\": \"2020-08-15T00:00:00\", \"totalTestResultsIncrease\": 756685.0, \"positiveIncrease\": 56148.0, \"death\": 161364.0, \"deathIncrease\": 1219.0, \"positiveRate\": 0.074, \"state\": \"US\", \"sma7d\": 0.073}, {\"date\": \"2020-08-16T00:00:00\", \"totalTestResultsIncrease\": 790395.0, \"positiveIncrease\": 42487.0, \"death\": 161983.0, \"deathIncrease\": 619.0, \"positiveRate\": 0.054, \"state\": \"US\", \"sma7d\": 0.07}, {\"date\": \"2020-08-17T00:00:00\", \"totalTestResultsIncrease\": 670060.0, \"positiveIncrease\": 37881.0, \"death\": 162390.0, \"deathIncrease\": 407.0, \"positiveRate\": 0.057, \"state\": \"US\", \"sma7d\": 0.07}, {\"date\": \"2020-08-18T00:00:00\", \"totalTestResultsIncrease\": 663624.0, \"positiveIncrease\": 40796.0, \"death\": 163585.0, \"deathIncrease\": 1195.0, \"positiveRate\": 0.061, \"state\": \"US\", \"sma7d\": 0.069}, {\"date\": \"2020-08-19T00:00:00\", \"totalTestResultsIncrease\": 673987.0, \"positiveIncrease\": 44953.0, \"death\": 165005.0, \"deathIncrease\": 1420.0, \"positiveRate\": 0.067, \"state\": \"US\", \"sma7d\": 0.062}, {\"date\": \"2020-08-20T00:00:00\", \"totalTestResultsIncrease\": 703255.0, \"positiveIncrease\": 43758.0, \"death\": 166139.0, \"deathIncrease\": 1134.0, \"positiveRate\": 0.062, \"state\": \"US\", \"sma7d\": 0.063}, {\"date\": \"2020-08-21T00:00:00\", \"totalTestResultsIncrease\": 759085.0, \"positiveIncrease\": 46562.0, \"death\": 167262.0, \"deathIncrease\": 1123.0, \"positiveRate\": 0.061, \"state\": \"US\", \"sma7d\": 0.062}, {\"date\": \"2020-08-22T00:00:00\", \"totalTestResultsIncrease\": 773835.0, \"positiveIncrease\": 46242.0, \"death\": 168291.0, \"deathIncrease\": 1029.0, \"positiveRate\": 0.06, \"state\": \"US\", \"sma7d\": 0.06}, {\"date\": \"2020-08-23T00:00:00\", \"totalTestResultsIncrease\": 629488.0, \"positiveIncrease\": 37567.0, \"death\": 168863.0, \"deathIncrease\": 572.0, \"positiveRate\": 0.06, \"state\": \"US\", \"sma7d\": 0.061}, {\"date\": \"2020-08-24T00:00:00\", \"totalTestResultsIncrease\": 692240.0, \"positiveIncrease\": 34641.0, \"death\": 169206.0, \"deathIncrease\": 343.0, \"positiveRate\": 0.05, \"state\": \"US\", \"sma7d\": 0.06}, {\"date\": \"2020-08-25T00:00:00\", \"totalTestResultsIncrease\": -563054.0, \"positiveIncrease\": -40024.0, \"death\": 170317.0, \"deathIncrease\": 1143.0, \"positiveRate\": 0.071, \"state\": \"US\", \"sma7d\": 0.062}]}}, {\"mode\": \"vega-lite\"});\n",
       "</script>"
      ],
      "text/plain": [
       "alt.LayerChart(...)"
      ]
     },
     "execution_count": 8,
     "metadata": {},
     "output_type": "execute_result"
    }
   ],
   "source": [
    "create_plot(us, 'positiveRate')"
   ]
  },
  {
   "cell_type": "code",
   "execution_count": 9,
   "metadata": {
    "execution": {
     "iopub.execute_input": "2020-08-26T22:33:22.299839Z",
     "iopub.status.busy": "2020-08-26T22:33:22.299446Z",
     "iopub.status.idle": "2020-08-26T22:33:22.387317Z",
     "shell.execute_reply": "2020-08-26T22:33:22.386889Z"
    },
    "papermill": {
     "duration": 0.102454,
     "end_time": "2020-08-26T22:33:22.387440",
     "exception": false,
     "start_time": "2020-08-26T22:33:22.284986",
     "status": "completed"
    },
    "tags": []
   },
   "outputs": [
    {
     "data": {
      "text/html": [
       "\n",
       "<div id=\"altair-viz-66ab2e89d51f4b85aaa771a93685acf9\"></div>\n",
       "<script type=\"text/javascript\">\n",
       "  (function(spec, embedOpt){\n",
       "    let outputDiv = document.currentScript.previousElementSibling;\n",
       "    if (outputDiv.id !== \"altair-viz-66ab2e89d51f4b85aaa771a93685acf9\") {\n",
       "      outputDiv = document.getElementById(\"altair-viz-66ab2e89d51f4b85aaa771a93685acf9\");\n",
       "    }\n",
       "    const paths = {\n",
       "      \"vega\": \"https://cdn.jsdelivr.net/npm//vega@5?noext\",\n",
       "      \"vega-lib\": \"https://cdn.jsdelivr.net/npm//vega-lib?noext\",\n",
       "      \"vega-lite\": \"https://cdn.jsdelivr.net/npm//vega-lite@4.8.1?noext\",\n",
       "      \"vega-embed\": \"https://cdn.jsdelivr.net/npm//vega-embed@6?noext\",\n",
       "    };\n",
       "\n",
       "    function loadScript(lib) {\n",
       "      return new Promise(function(resolve, reject) {\n",
       "        var s = document.createElement('script');\n",
       "        s.src = paths[lib];\n",
       "        s.async = true;\n",
       "        s.onload = () => resolve(paths[lib]);\n",
       "        s.onerror = () => reject(`Error loading script: ${paths[lib]}`);\n",
       "        document.getElementsByTagName(\"head\")[0].appendChild(s);\n",
       "      });\n",
       "    }\n",
       "\n",
       "    function showError(err) {\n",
       "      outputDiv.innerHTML = `<div class=\"error\" style=\"color:red;\">${err}</div>`;\n",
       "      throw err;\n",
       "    }\n",
       "\n",
       "    function displayChart(vegaEmbed) {\n",
       "      vegaEmbed(outputDiv, spec, embedOpt)\n",
       "        .catch(err => showError(`Javascript Error: ${err.message}<br>This usually means there's a typo in your chart specification. See the javascript console for the full traceback.`));\n",
       "    }\n",
       "\n",
       "    if(typeof define === \"function\" && define.amd) {\n",
       "      requirejs.config({paths});\n",
       "      require([\"vega-embed\"], displayChart, err => showError(`Error loading script: ${err.message}`));\n",
       "    } else if (typeof vegaEmbed === \"function\") {\n",
       "      displayChart(vegaEmbed);\n",
       "    } else {\n",
       "      loadScript(\"vega\")\n",
       "        .then(() => loadScript(\"vega-lite\"))\n",
       "        .then(() => loadScript(\"vega-embed\"))\n",
       "        .catch(showError)\n",
       "        .then(() => displayChart(vegaEmbed));\n",
       "    }\n",
       "  })({\"config\": {\"view\": {\"continuousWidth\": 400, \"continuousHeight\": 300}}, \"layer\": [{\"layer\": [{\"mark\": {\"type\": \"point\", \"size\": 75}, \"encoding\": {\"tooltip\": [{\"type\": \"temporal\", \"field\": \"date\"}, {\"type\": \"quantitative\", \"field\": \"deathIncrease\"}, {\"type\": \"quantitative\", \"field\": \"sma7d\"}], \"x\": {\"type\": \"temporal\", \"field\": \"date\"}, \"y\": {\"type\": \"quantitative\", \"field\": \"deathIncrease\"}}, \"selection\": {\"selector006\": {\"type\": \"interval\", \"bind\": \"scales\", \"encodings\": [\"x\", \"y\"]}}}, {\"mark\": {\"type\": \"line\", \"color\": \"purple\"}, \"encoding\": {\"x\": {\"type\": \"temporal\", \"field\": \"date\"}, \"y\": {\"type\": \"quantitative\", \"field\": \"sma7d\"}}}]}, {\"mark\": {\"type\": \"rule\", \"color\": \"#aaa\"}, \"encoding\": {\"x\": {\"type\": \"temporal\", \"field\": \"date\"}}, \"transform\": [{\"filter\": {\"selection\": \"selector005\"}}]}, {\"mark\": \"circle\", \"encoding\": {\"opacity\": {\"condition\": {\"value\": 1, \"selection\": \"selector005\"}, \"value\": 0}, \"tooltip\": [{\"type\": \"temporal\", \"field\": \"date\"}, {\"type\": \"quantitative\", \"field\": \"deathIncrease\"}, {\"type\": \"quantitative\", \"field\": \"sma7d\"}], \"x\": {\"type\": \"temporal\", \"field\": \"date\"}, \"y\": {\"type\": \"quantitative\", \"field\": \"deathIncrease\"}}, \"selection\": {\"selector005\": {\"type\": \"single\", \"encodings\": [\"x\"], \"on\": \"mouseover\", \"nearest\": true, \"empty\": \"none\"}}}, {\"mark\": {\"type\": \"text\", \"align\": \"left\", \"dx\": 5, \"dy\": -5, \"stroke\": \"white\", \"strokeWidth\": 2}, \"encoding\": {\"text\": {\"type\": \"quantitative\", \"field\": \"deathIncrease\"}, \"tooltip\": [{\"type\": \"temporal\", \"field\": \"date\"}, {\"type\": \"quantitative\", \"field\": \"deathIncrease\"}, {\"type\": \"quantitative\", \"field\": \"sma7d\"}], \"x\": {\"type\": \"temporal\", \"field\": \"date\"}, \"y\": {\"type\": \"quantitative\", \"field\": \"deathIncrease\"}}, \"transform\": [{\"filter\": {\"selection\": \"selector005\"}}]}, {\"mark\": {\"type\": \"text\", \"align\": \"left\", \"dx\": 5, \"dy\": -5}, \"encoding\": {\"text\": {\"type\": \"quantitative\", \"field\": \"deathIncrease\"}, \"tooltip\": [{\"type\": \"temporal\", \"field\": \"date\"}, {\"type\": \"quantitative\", \"field\": \"deathIncrease\"}, {\"type\": \"quantitative\", \"field\": \"sma7d\"}], \"x\": {\"type\": \"temporal\", \"field\": \"date\"}, \"y\": {\"type\": \"quantitative\", \"field\": \"deathIncrease\"}}, \"transform\": [{\"filter\": {\"selection\": \"selector005\"}}]}], \"data\": {\"name\": \"data-31446081d251233a27ff7352cc3e4412\"}, \"height\": 400, \"title\": \"US: deathIncrease\", \"width\": 500, \"$schema\": \"https://vega.github.io/schema/vega-lite/v4.8.1.json\", \"datasets\": {\"data-31446081d251233a27ff7352cc3e4412\": [{\"date\": \"2020-07-02T00:00:00\", \"totalTestResultsIncrease\": 666881.0, \"positiveIncrease\": 54084.0, \"death\": 121514.0, \"deathIncrease\": 695.0, \"positiveRate\": 0.081, \"state\": \"US\", \"sma7d\": 534.714}, {\"date\": \"2020-07-03T00:00:00\", \"totalTestResultsIncrease\": 711845.0, \"positiveIncrease\": 53950.0, \"death\": 122112.0, \"deathIncrease\": 598.0, \"positiveRate\": 0.076, \"state\": \"US\", \"sma7d\": 529.143}, {\"date\": \"2020-07-04T00:00:00\", \"totalTestResultsIncrease\": 635367.0, \"positiveIncrease\": 54338.0, \"death\": 122418.0, \"deathIncrease\": 306.0, \"positiveRate\": 0.086, \"state\": \"US\", \"sma7d\": 499.857}, {\"date\": \"2020-07-05T00:00:00\", \"totalTestResultsIncrease\": 681662.0, \"positiveIncrease\": 45613.0, \"death\": 122627.0, \"deathIncrease\": 209.0, \"positiveRate\": 0.067, \"state\": \"US\", \"sma7d\": 491.0}, {\"date\": \"2020-07-06T00:00:00\", \"totalTestResultsIncrease\": 516732.0, \"positiveIncrease\": 41918.0, \"death\": 122870.0, \"deathIncrease\": 243.0, \"positiveRate\": 0.081, \"state\": \"US\", \"sma7d\": 478.286}, {\"date\": \"2020-07-07T00:00:00\", \"totalTestResultsIncrease\": 638814.0, \"positiveIncrease\": 51726.0, \"death\": 123793.0, \"deathIncrease\": 923.0, \"positiveRate\": 0.081, \"state\": \"US\", \"sma7d\": 525.0}, {\"date\": \"2020-07-08T00:00:00\", \"totalTestResultsIncrease\": 643501.0, \"positiveIncrease\": 62672.0, \"death\": 124600.0, \"deathIncrease\": 807.0, \"positiveRate\": 0.097, \"state\": \"US\", \"sma7d\": 540.143}, {\"date\": \"2020-07-09T00:00:00\", \"totalTestResultsIncrease\": 709113.0, \"positiveIncrease\": 59157.0, \"death\": 125467.0, \"deathIncrease\": 867.0, \"positiveRate\": 0.083, \"state\": \"US\", \"sma7d\": 564.714}, {\"date\": \"2020-07-10T00:00:00\", \"totalTestResultsIncrease\": 814898.0, \"positiveIncrease\": 66846.0, \"death\": 126321.0, \"deathIncrease\": 854.0, \"positiveRate\": 0.082, \"state\": \"US\", \"sma7d\": 601.286}, {\"date\": \"2020-07-11T00:00:00\", \"totalTestResultsIncrease\": 707812.0, \"positiveIncrease\": 62896.0, \"death\": 127078.0, \"deathIncrease\": 757.0, \"positiveRate\": 0.089, \"state\": \"US\", \"sma7d\": 665.714}, {\"date\": \"2020-07-12T00:00:00\", \"totalTestResultsIncrease\": 769448.0, \"positiveIncrease\": 61312.0, \"death\": 127554.0, \"deathIncrease\": 476.0, \"positiveRate\": 0.08, \"state\": \"US\", \"sma7d\": 703.857}, {\"date\": \"2020-07-13T00:00:00\", \"totalTestResultsIncrease\": 691878.0, \"positiveIncrease\": 58097.0, \"death\": 127881.0, \"deathIncrease\": 327.0, \"positiveRate\": 0.084, \"state\": \"US\", \"sma7d\": 715.857}, {\"date\": \"2020-07-14T00:00:00\", \"totalTestResultsIncrease\": 769997.0, \"positiveIncrease\": 62726.0, \"death\": 128617.0, \"deathIncrease\": 736.0, \"positiveRate\": 0.081, \"state\": \"US\", \"sma7d\": 689.143}, {\"date\": \"2020-07-15T00:00:00\", \"totalTestResultsIncrease\": 773245.0, \"positiveIncrease\": 65797.0, \"death\": 129475.0, \"deathIncrease\": 858.0, \"positiveRate\": 0.085, \"state\": \"US\", \"sma7d\": 696.429}, {\"date\": \"2020-07-16T00:00:00\", \"totalTestResultsIncrease\": 832430.0, \"positiveIncrease\": 71036.0, \"death\": 130422.0, \"deathIncrease\": 947.0, \"positiveRate\": 0.085, \"state\": \"US\", \"sma7d\": 707.857}, {\"date\": \"2020-07-17T00:00:00\", \"totalTestResultsIncrease\": 839267.0, \"positiveIncrease\": 76844.0, \"death\": 131373.0, \"deathIncrease\": 951.0, \"positiveRate\": 0.092, \"state\": \"US\", \"sma7d\": 721.714}, {\"date\": \"2020-07-18T00:00:00\", \"totalTestResultsIncrease\": 763602.0, \"positiveIncrease\": 64950.0, \"death\": 132245.0, \"deathIncrease\": 872.0, \"positiveRate\": 0.085, \"state\": \"US\", \"sma7d\": 738.143}, {\"date\": \"2020-07-19T00:00:00\", \"totalTestResultsIncrease\": 786697.0, \"positiveIncrease\": 64259.0, \"death\": 132772.0, \"deathIncrease\": 527.0, \"positiveRate\": 0.082, \"state\": \"US\", \"sma7d\": 745.429}, {\"date\": \"2020-07-20T00:00:00\", \"totalTestResultsIncrease\": 712427.0, \"positiveIncrease\": 57041.0, \"death\": 133135.0, \"deathIncrease\": 363.0, \"positiveRate\": 0.08, \"state\": \"US\", \"sma7d\": 750.571}, {\"date\": \"2020-07-21T00:00:00\", \"totalTestResultsIncrease\": 754866.0, \"positiveIncrease\": 63929.0, \"death\": 134173.0, \"deathIncrease\": 1038.0, \"positiveRate\": 0.085, \"state\": \"US\", \"sma7d\": 793.714}, {\"date\": \"2020-07-22T00:00:00\", \"totalTestResultsIncrease\": 801635.0, \"positiveIncrease\": 69334.0, \"death\": 135344.0, \"deathIncrease\": 1171.0, \"positiveRate\": 0.086, \"state\": \"US\", \"sma7d\": 838.429}, {\"date\": \"2020-07-23T00:00:00\", \"totalTestResultsIncrease\": 845866.0, \"positiveIncrease\": 71553.0, \"death\": 136399.0, \"deathIncrease\": 1055.0, \"positiveRate\": 0.085, \"state\": \"US\", \"sma7d\": 853.857}, {\"date\": \"2020-07-24T00:00:00\", \"totalTestResultsIncrease\": 933631.0, \"positiveIncrease\": 75235.0, \"death\": 137575.0, \"deathIncrease\": 1176.0, \"positiveRate\": 0.081, \"state\": \"US\", \"sma7d\": 886.0}, {\"date\": \"2020-07-25T00:00:00\", \"totalTestResultsIncrease\": 791008.0, \"positiveIncrease\": 64742.0, \"death\": 138598.0, \"deathIncrease\": 1023.0, \"positiveRate\": 0.082, \"state\": \"US\", \"sma7d\": 907.571}, {\"date\": \"2020-07-26T00:00:00\", \"totalTestResultsIncrease\": 851063.0, \"positiveIncrease\": 61009.0, \"death\": 139157.0, \"deathIncrease\": 559.0, \"positiveRate\": 0.072, \"state\": \"US\", \"sma7d\": 912.143}, {\"date\": \"2020-07-27T00:00:00\", \"totalTestResultsIncrease\": 762706.0, \"positiveIncrease\": 55321.0, \"death\": 140216.0, \"deathIncrease\": 1059.0, \"positiveRate\": 0.073, \"state\": \"US\", \"sma7d\": 1011.571}, {\"date\": \"2020-07-28T00:00:00\", \"totalTestResultsIncrease\": 738079.0, \"positiveIncrease\": 56452.0, \"death\": 141338.0, \"deathIncrease\": 1122.0, \"positiveRate\": 0.076, \"state\": \"US\", \"sma7d\": 1023.571}, {\"date\": \"2020-07-29T00:00:00\", \"totalTestResultsIncrease\": 864481.0, \"positiveIncrease\": 66960.0, \"death\": 142830.0, \"deathIncrease\": 1492.0, \"positiveRate\": 0.077, \"state\": \"US\", \"sma7d\": 1069.429}, {\"date\": \"2020-07-30T00:00:00\", \"totalTestResultsIncrease\": 814659.0, \"positiveIncrease\": 69419.0, \"death\": 144089.0, \"deathIncrease\": 1259.0, \"positiveRate\": 0.085, \"state\": \"US\", \"sma7d\": 1098.571}, {\"date\": \"2020-07-31T00:00:00\", \"totalTestResultsIncrease\": 731889.0, \"positiveIncrease\": 67624.0, \"death\": 145400.0, \"deathIncrease\": 1311.0, \"positiveRate\": 0.092, \"state\": \"US\", \"sma7d\": 1117.857}, {\"date\": \"2020-08-01T00:00:00\", \"totalTestResultsIncrease\": 745667.0, \"positiveIncrease\": 61102.0, \"death\": 146590.0, \"deathIncrease\": 1190.0, \"positiveRate\": 0.082, \"state\": \"US\", \"sma7d\": 1141.714}, {\"date\": \"2020-08-02T00:00:00\", \"totalTestResultsIncrease\": 699476.0, \"positiveIncrease\": 46756.0, \"death\": 147088.0, \"deathIncrease\": 498.0, \"positiveRate\": 0.067, \"state\": \"US\", \"sma7d\": 1133.0}, {\"date\": \"2020-08-03T00:00:00\", \"totalTestResultsIncrease\": 745121.0, \"positiveIncrease\": 49769.0, \"death\": 147607.0, \"deathIncrease\": 519.0, \"positiveRate\": 0.067, \"state\": \"US\", \"sma7d\": 1055.857}, {\"date\": \"2020-08-04T00:00:00\", \"totalTestResultsIncrease\": 717065.0, \"positiveIncrease\": 51865.0, \"death\": 148862.0, \"deathIncrease\": 1255.0, \"positiveRate\": 0.072, \"state\": \"US\", \"sma7d\": 1074.857}, {\"date\": \"2020-08-05T00:00:00\", \"totalTestResultsIncrease\": 699559.0, \"positiveIncrease\": 52326.0, \"death\": 150208.0, \"deathIncrease\": 1346.0, \"positiveRate\": 0.075, \"state\": \"US\", \"sma7d\": 1054.0}, {\"date\": \"2020-08-06T00:00:00\", \"totalTestResultsIncrease\": 766599.0, \"positiveIncrease\": 54185.0, \"death\": 151459.0, \"deathIncrease\": 1251.0, \"positiveRate\": 0.071, \"state\": \"US\", \"sma7d\": 1052.857}, {\"date\": \"2020-08-07T00:00:00\", \"totalTestResultsIncrease\": 785380.0, \"positiveIncrease\": 61346.0, \"death\": 152792.0, \"deathIncrease\": 1333.0, \"positiveRate\": 0.078, \"state\": \"US\", \"sma7d\": 1056.0}, {\"date\": \"2020-08-08T00:00:00\", \"totalTestResultsIncrease\": 683357.0, \"positiveIncrease\": 53713.0, \"death\": 153881.0, \"deathIncrease\": 1089.0, \"positiveRate\": 0.079, \"state\": \"US\", \"sma7d\": 1041.571}, {\"date\": \"2020-08-09T00:00:00\", \"totalTestResultsIncrease\": 724040.0, \"positiveIncrease\": 50624.0, \"death\": 154497.0, \"deathIncrease\": 616.0, \"positiveRate\": 0.07, \"state\": \"US\", \"sma7d\": 1058.429}, {\"date\": \"2020-08-10T00:00:00\", \"totalTestResultsIncrease\": 740948.0, \"positiveIncrease\": 42089.0, \"death\": 154923.0, \"deathIncrease\": 426.0, \"positiveRate\": 0.057, \"state\": \"US\", \"sma7d\": 1045.143}, {\"date\": \"2020-08-11T00:00:00\", \"totalTestResultsIncrease\": 759973.0, \"positiveIncrease\": 55702.0, \"death\": 156249.0, \"deathIncrease\": 1326.0, \"positiveRate\": 0.073, \"state\": \"US\", \"sma7d\": 1055.286}, {\"date\": \"2020-08-12T00:00:00\", \"totalTestResultsIncrease\": 500196.0, \"positiveIncrease\": 56132.0, \"death\": 157766.0, \"deathIncrease\": 1517.0, \"positiveRate\": 0.112, \"state\": \"US\", \"sma7d\": 1079.714}, {\"date\": \"2020-08-13T00:00:00\", \"totalTestResultsIncrease\": 900258.0, \"positiveIncrease\": 51760.0, \"death\": 158929.0, \"deathIncrease\": 1163.0, \"positiveRate\": 0.057, \"state\": \"US\", \"sma7d\": 1067.143}, {\"date\": \"2020-08-14T00:00:00\", \"totalTestResultsIncrease\": 862330.0, \"positiveIncrease\": 55635.0, \"death\": 160145.0, \"deathIncrease\": 1216.0, \"positiveRate\": 0.065, \"state\": \"US\", \"sma7d\": 1050.429}, {\"date\": \"2020-08-15T00:00:00\", \"totalTestResultsIncrease\": 756685.0, \"positiveIncrease\": 56148.0, \"death\": 161364.0, \"deathIncrease\": 1219.0, \"positiveRate\": 0.074, \"state\": \"US\", \"sma7d\": 1069.0}, {\"date\": \"2020-08-16T00:00:00\", \"totalTestResultsIncrease\": 790395.0, \"positiveIncrease\": 42487.0, \"death\": 161983.0, \"deathIncrease\": 619.0, \"positiveRate\": 0.054, \"state\": \"US\", \"sma7d\": 1069.429}, {\"date\": \"2020-08-17T00:00:00\", \"totalTestResultsIncrease\": 670060.0, \"positiveIncrease\": 37881.0, \"death\": 162390.0, \"deathIncrease\": 407.0, \"positiveRate\": 0.057, \"state\": \"US\", \"sma7d\": 1066.714}, {\"date\": \"2020-08-18T00:00:00\", \"totalTestResultsIncrease\": 663624.0, \"positiveIncrease\": 40796.0, \"death\": 163585.0, \"deathIncrease\": 1195.0, \"positiveRate\": 0.061, \"state\": \"US\", \"sma7d\": 1048.0}, {\"date\": \"2020-08-19T00:00:00\", \"totalTestResultsIncrease\": 673987.0, \"positiveIncrease\": 44953.0, \"death\": 165005.0, \"deathIncrease\": 1420.0, \"positiveRate\": 0.067, \"state\": \"US\", \"sma7d\": 1034.143}, {\"date\": \"2020-08-20T00:00:00\", \"totalTestResultsIncrease\": 703255.0, \"positiveIncrease\": 43758.0, \"death\": 166139.0, \"deathIncrease\": 1134.0, \"positiveRate\": 0.062, \"state\": \"US\", \"sma7d\": 1030.0}, {\"date\": \"2020-08-21T00:00:00\", \"totalTestResultsIncrease\": 759085.0, \"positiveIncrease\": 46562.0, \"death\": 167262.0, \"deathIncrease\": 1123.0, \"positiveRate\": 0.061, \"state\": \"US\", \"sma7d\": 1016.714}, {\"date\": \"2020-08-22T00:00:00\", \"totalTestResultsIncrease\": 773835.0, \"positiveIncrease\": 46242.0, \"death\": 168291.0, \"deathIncrease\": 1029.0, \"positiveRate\": 0.06, \"state\": \"US\", \"sma7d\": 989.571}, {\"date\": \"2020-08-23T00:00:00\", \"totalTestResultsIncrease\": 629488.0, \"positiveIncrease\": 37567.0, \"death\": 168863.0, \"deathIncrease\": 572.0, \"positiveRate\": 0.06, \"state\": \"US\", \"sma7d\": 982.857}, {\"date\": \"2020-08-24T00:00:00\", \"totalTestResultsIncrease\": 692240.0, \"positiveIncrease\": 34641.0, \"death\": 169206.0, \"deathIncrease\": 343.0, \"positiveRate\": 0.05, \"state\": \"US\", \"sma7d\": 973.714}, {\"date\": \"2020-08-25T00:00:00\", \"totalTestResultsIncrease\": -563054.0, \"positiveIncrease\": -40024.0, \"death\": 170317.0, \"deathIncrease\": 1143.0, \"positiveRate\": 0.071, \"state\": \"US\", \"sma7d\": 966.286}]}}, {\"mode\": \"vega-lite\"});\n",
       "</script>"
      ],
      "text/plain": [
       "alt.LayerChart(...)"
      ]
     },
     "execution_count": 9,
     "metadata": {},
     "output_type": "execute_result"
    }
   ],
   "source": [
    "create_plot(us, 'deathIncrease')"
   ]
  },
  {
   "cell_type": "markdown",
   "metadata": {
    "papermill": {
     "duration": 0.014301,
     "end_time": "2020-08-26T22:33:22.415038",
     "exception": false,
     "start_time": "2020-08-26T22:33:22.400737",
     "status": "completed"
    },
    "tags": []
   },
   "source": [
    "## NY"
   ]
  },
  {
   "cell_type": "code",
   "execution_count": 10,
   "metadata": {
    "execution": {
     "iopub.execute_input": "2020-08-26T22:33:22.448882Z",
     "iopub.status.busy": "2020-08-26T22:33:22.447948Z",
     "iopub.status.idle": "2020-08-26T22:33:22.627051Z",
     "shell.execute_reply": "2020-08-26T22:33:22.626170Z"
    },
    "papermill": {
     "duration": 0.19789,
     "end_time": "2020-08-26T22:33:22.627263",
     "exception": false,
     "start_time": "2020-08-26T22:33:22.429373",
     "status": "completed"
    },
    "tags": []
   },
   "outputs": [],
   "source": [
    "ny = create_df(df, (lambda d: d['state'] == 'NY'), 'New York')"
   ]
  },
  {
   "cell_type": "code",
   "execution_count": 11,
   "metadata": {
    "execution": {
     "iopub.execute_input": "2020-08-26T22:33:22.663336Z",
     "iopub.status.busy": "2020-08-26T22:33:22.662782Z",
     "iopub.status.idle": "2020-08-26T22:33:22.749402Z",
     "shell.execute_reply": "2020-08-26T22:33:22.748531Z"
    },
    "papermill": {
     "duration": 0.107633,
     "end_time": "2020-08-26T22:33:22.749617",
     "exception": false,
     "start_time": "2020-08-26T22:33:22.641984",
     "status": "completed"
    },
    "tags": []
   },
   "outputs": [
    {
     "data": {
      "text/html": [
       "\n",
       "<div id=\"altair-viz-070be8fdc639485b884b5284970ff50e\"></div>\n",
       "<script type=\"text/javascript\">\n",
       "  (function(spec, embedOpt){\n",
       "    let outputDiv = document.currentScript.previousElementSibling;\n",
       "    if (outputDiv.id !== \"altair-viz-070be8fdc639485b884b5284970ff50e\") {\n",
       "      outputDiv = document.getElementById(\"altair-viz-070be8fdc639485b884b5284970ff50e\");\n",
       "    }\n",
       "    const paths = {\n",
       "      \"vega\": \"https://cdn.jsdelivr.net/npm//vega@5?noext\",\n",
       "      \"vega-lib\": \"https://cdn.jsdelivr.net/npm//vega-lib?noext\",\n",
       "      \"vega-lite\": \"https://cdn.jsdelivr.net/npm//vega-lite@4.8.1?noext\",\n",
       "      \"vega-embed\": \"https://cdn.jsdelivr.net/npm//vega-embed@6?noext\",\n",
       "    };\n",
       "\n",
       "    function loadScript(lib) {\n",
       "      return new Promise(function(resolve, reject) {\n",
       "        var s = document.createElement('script');\n",
       "        s.src = paths[lib];\n",
       "        s.async = true;\n",
       "        s.onload = () => resolve(paths[lib]);\n",
       "        s.onerror = () => reject(`Error loading script: ${paths[lib]}`);\n",
       "        document.getElementsByTagName(\"head\")[0].appendChild(s);\n",
       "      });\n",
       "    }\n",
       "\n",
       "    function showError(err) {\n",
       "      outputDiv.innerHTML = `<div class=\"error\" style=\"color:red;\">${err}</div>`;\n",
       "      throw err;\n",
       "    }\n",
       "\n",
       "    function displayChart(vegaEmbed) {\n",
       "      vegaEmbed(outputDiv, spec, embedOpt)\n",
       "        .catch(err => showError(`Javascript Error: ${err.message}<br>This usually means there's a typo in your chart specification. See the javascript console for the full traceback.`));\n",
       "    }\n",
       "\n",
       "    if(typeof define === \"function\" && define.amd) {\n",
       "      requirejs.config({paths});\n",
       "      require([\"vega-embed\"], displayChart, err => showError(`Error loading script: ${err.message}`));\n",
       "    } else if (typeof vegaEmbed === \"function\") {\n",
       "      displayChart(vegaEmbed);\n",
       "    } else {\n",
       "      loadScript(\"vega\")\n",
       "        .then(() => loadScript(\"vega-lite\"))\n",
       "        .then(() => loadScript(\"vega-embed\"))\n",
       "        .catch(showError)\n",
       "        .then(() => displayChart(vegaEmbed));\n",
       "    }\n",
       "  })({\"config\": {\"view\": {\"continuousWidth\": 400, \"continuousHeight\": 300}}, \"layer\": [{\"layer\": [{\"mark\": {\"type\": \"point\", \"size\": 75}, \"encoding\": {\"tooltip\": [{\"type\": \"temporal\", \"field\": \"date\"}, {\"type\": \"quantitative\", \"field\": \"positiveIncrease\"}, {\"type\": \"quantitative\", \"field\": \"sma7d\"}], \"x\": {\"type\": \"temporal\", \"field\": \"date\"}, \"y\": {\"type\": \"quantitative\", \"field\": \"positiveIncrease\"}}, \"selection\": {\"selector008\": {\"type\": \"interval\", \"bind\": \"scales\", \"encodings\": [\"x\", \"y\"]}}}, {\"mark\": {\"type\": \"line\", \"color\": \"purple\"}, \"encoding\": {\"x\": {\"type\": \"temporal\", \"field\": \"date\"}, \"y\": {\"type\": \"quantitative\", \"field\": \"sma7d\"}}}]}, {\"mark\": {\"type\": \"rule\", \"color\": \"#aaa\"}, \"encoding\": {\"x\": {\"type\": \"temporal\", \"field\": \"date\"}}, \"transform\": [{\"filter\": {\"selection\": \"selector007\"}}]}, {\"mark\": \"circle\", \"encoding\": {\"opacity\": {\"condition\": {\"value\": 1, \"selection\": \"selector007\"}, \"value\": 0}, \"tooltip\": [{\"type\": \"temporal\", \"field\": \"date\"}, {\"type\": \"quantitative\", \"field\": \"positiveIncrease\"}, {\"type\": \"quantitative\", \"field\": \"sma7d\"}], \"x\": {\"type\": \"temporal\", \"field\": \"date\"}, \"y\": {\"type\": \"quantitative\", \"field\": \"positiveIncrease\"}}, \"selection\": {\"selector007\": {\"type\": \"single\", \"encodings\": [\"x\"], \"on\": \"mouseover\", \"nearest\": true, \"empty\": \"none\"}}}, {\"mark\": {\"type\": \"text\", \"align\": \"left\", \"dx\": 5, \"dy\": -5, \"stroke\": \"white\", \"strokeWidth\": 2}, \"encoding\": {\"text\": {\"type\": \"quantitative\", \"field\": \"positiveIncrease\"}, \"tooltip\": [{\"type\": \"temporal\", \"field\": \"date\"}, {\"type\": \"quantitative\", \"field\": \"positiveIncrease\"}, {\"type\": \"quantitative\", \"field\": \"sma7d\"}], \"x\": {\"type\": \"temporal\", \"field\": \"date\"}, \"y\": {\"type\": \"quantitative\", \"field\": \"positiveIncrease\"}}, \"transform\": [{\"filter\": {\"selection\": \"selector007\"}}]}, {\"mark\": {\"type\": \"text\", \"align\": \"left\", \"dx\": 5, \"dy\": -5}, \"encoding\": {\"text\": {\"type\": \"quantitative\", \"field\": \"positiveIncrease\"}, \"tooltip\": [{\"type\": \"temporal\", \"field\": \"date\"}, {\"type\": \"quantitative\", \"field\": \"positiveIncrease\"}, {\"type\": \"quantitative\", \"field\": \"sma7d\"}], \"x\": {\"type\": \"temporal\", \"field\": \"date\"}, \"y\": {\"type\": \"quantitative\", \"field\": \"positiveIncrease\"}}, \"transform\": [{\"filter\": {\"selection\": \"selector007\"}}]}], \"data\": {\"name\": \"data-96c2bd8fd2637031ef9bb147fdc4d867\"}, \"height\": 400, \"title\": \"New York: positiveIncrease\", \"width\": 500, \"$schema\": \"https://vega.github.io/schema/vega-lite/v4.8.1.json\", \"datasets\": {\"data-96c2bd8fd2637031ef9bb147fdc4d867\": [{\"date\": \"2020-07-02T00:00:00\", \"totalTestResultsIncrease\": 69945.0, \"positiveIncrease\": 875.0, \"death\": 24877.0, \"deathIncrease\": 11.0, \"positiveRate\": 0.013, \"state\": \"New York\", \"sma7d\": 648.429}, {\"date\": \"2020-07-03T00:00:00\", \"totalTestResultsIncrease\": 66392.0, \"positiveIncrease\": 918.0, \"death\": 24885.0, \"deathIncrease\": 8.0, \"positiveRate\": 0.014, \"state\": \"New York\", \"sma7d\": 664.571}, {\"date\": \"2020-07-04T00:00:00\", \"totalTestResultsIncrease\": 62403.0, \"positiveIncrease\": 726.0, \"death\": 24896.0, \"deathIncrease\": 11.0, \"positiveRate\": 0.012, \"state\": \"New York\", \"sma7d\": 667.857}, {\"date\": \"2020-07-05T00:00:00\", \"totalTestResultsIncrease\": 63415.0, \"positiveIncrease\": 533.0, \"death\": 24904.0, \"deathIncrease\": 8.0, \"positiveRate\": 0.008, \"state\": \"New York\", \"sma7d\": 656.0}, {\"date\": \"2020-07-06T00:00:00\", \"totalTestResultsIncrease\": 54328.0, \"positiveIncrease\": 518.0, \"death\": 24913.0, \"deathIncrease\": 9.0, \"positiveRate\": 0.01, \"state\": \"New York\", \"sma7d\": 674.143}, {\"date\": \"2020-07-07T00:00:00\", \"totalTestResultsIncrease\": 56736.0, \"positiveIncrease\": 588.0, \"death\": 24924.0, \"deathIncrease\": 11.0, \"positiveRate\": 0.01, \"state\": \"New York\", \"sma7d\": 683.286}, {\"date\": \"2020-07-08T00:00:00\", \"totalTestResultsIncrease\": 57585.0, \"positiveIncrease\": 692.0, \"death\": 24944.0, \"deathIncrease\": 20.0, \"positiveRate\": 0.012, \"state\": \"New York\", \"sma7d\": 692.857}, {\"date\": \"2020-07-09T00:00:00\", \"totalTestResultsIncrease\": 65564.0, \"positiveIncrease\": 584.0, \"death\": 24959.0, \"deathIncrease\": 15.0, \"positiveRate\": 0.009, \"state\": \"New York\", \"sma7d\": 651.286}, {\"date\": \"2020-07-10T00:00:00\", \"totalTestResultsIncrease\": 73558.0, \"positiveIncrease\": 786.0, \"death\": 24968.0, \"deathIncrease\": 9.0, \"positiveRate\": 0.011, \"state\": \"New York\", \"sma7d\": 632.429}, {\"date\": \"2020-07-11T00:00:00\", \"totalTestResultsIncrease\": 69203.0, \"positiveIncrease\": 730.0, \"death\": 24974.0, \"deathIncrease\": 6.0, \"positiveRate\": 0.011, \"state\": \"New York\", \"sma7d\": 633.0}, {\"date\": \"2020-07-12T00:00:00\", \"totalTestResultsIncrease\": 62418.0, \"positiveIncrease\": 677.0, \"death\": 24979.0, \"deathIncrease\": 5.0, \"positiveRate\": 0.011, \"state\": \"New York\", \"sma7d\": 653.571}, {\"date\": \"2020-07-13T00:00:00\", \"totalTestResultsIncrease\": 51687.0, \"positiveIncrease\": 557.0, \"death\": 24989.0, \"deathIncrease\": 10.0, \"positiveRate\": 0.011, \"state\": \"New York\", \"sma7d\": 659.143}, {\"date\": \"2020-07-14T00:00:00\", \"totalTestResultsIncrease\": 60045.0, \"positiveIncrease\": 912.0, \"death\": 24994.0, \"deathIncrease\": 5.0, \"positiveRate\": 0.015, \"state\": \"New York\", \"sma7d\": 705.429}, {\"date\": \"2020-07-15T00:00:00\", \"totalTestResultsIncrease\": 63598.0, \"positiveIncrease\": 831.0, \"death\": 25003.0, \"deathIncrease\": 9.0, \"positiveRate\": 0.013, \"state\": \"New York\", \"sma7d\": 725.286}, {\"date\": \"2020-07-16T00:00:00\", \"totalTestResultsIncrease\": 72685.0, \"positiveIncrease\": 769.0, \"death\": 25014.0, \"deathIncrease\": 11.0, \"positiveRate\": 0.011, \"state\": \"New York\", \"sma7d\": 751.714}, {\"date\": \"2020-07-17T00:00:00\", \"totalTestResultsIncrease\": 78239.0, \"positiveIncrease\": 776.0, \"death\": 25024.0, \"deathIncrease\": 10.0, \"positiveRate\": 0.01, \"state\": \"New York\", \"sma7d\": 750.286}, {\"date\": \"2020-07-18T00:00:00\", \"totalTestResultsIncrease\": 69817.0, \"positiveIncrease\": 754.0, \"death\": 25035.0, \"deathIncrease\": 11.0, \"positiveRate\": 0.011, \"state\": \"New York\", \"sma7d\": 753.714}, {\"date\": \"2020-07-19T00:00:00\", \"totalTestResultsIncrease\": 46204.0, \"positiveIncrease\": 502.0, \"death\": 25048.0, \"deathIncrease\": 13.0, \"positiveRate\": 0.011, \"state\": \"New York\", \"sma7d\": 728.714}, {\"date\": \"2020-07-20T00:00:00\", \"totalTestResultsIncrease\": 49342.0, \"positiveIncrease\": 519.0, \"death\": 25056.0, \"deathIncrease\": 8.0, \"positiveRate\": 0.011, \"state\": \"New York\", \"sma7d\": 723.286}, {\"date\": \"2020-07-21T00:00:00\", \"totalTestResultsIncrease\": 66169.0, \"positiveIncrease\": 855.0, \"death\": 25058.0, \"deathIncrease\": 2.0, \"positiveRate\": 0.013, \"state\": \"New York\", \"sma7d\": 715.143}, {\"date\": \"2020-07-22T00:00:00\", \"totalTestResultsIncrease\": 67659.0, \"positiveIncrease\": 705.0, \"death\": 25068.0, \"deathIncrease\": 10.0, \"positiveRate\": 0.01, \"state\": \"New York\", \"sma7d\": 697.143}, {\"date\": \"2020-07-23T00:00:00\", \"totalTestResultsIncrease\": 69698.0, \"positiveIncrease\": 811.0, \"death\": 25081.0, \"deathIncrease\": 13.0, \"positiveRate\": 0.012, \"state\": \"New York\", \"sma7d\": 703.143}, {\"date\": \"2020-07-24T00:00:00\", \"totalTestResultsIncrease\": 76507.0, \"positiveIncrease\": 753.0, \"death\": 25090.0, \"deathIncrease\": 9.0, \"positiveRate\": 0.01, \"state\": \"New York\", \"sma7d\": 699.857}, {\"date\": \"2020-07-25T00:00:00\", \"totalTestResultsIncrease\": 71466.0, \"positiveIncrease\": 750.0, \"death\": 25103.0, \"deathIncrease\": 13.0, \"positiveRate\": 0.01, \"state\": \"New York\", \"sma7d\": 699.286}, {\"date\": \"2020-07-26T00:00:00\", \"totalTestResultsIncrease\": 53568.0, \"positiveIncrease\": 536.0, \"death\": 25106.0, \"deathIncrease\": 3.0, \"positiveRate\": 0.01, \"state\": \"New York\", \"sma7d\": 704.143}, {\"date\": \"2020-07-27T00:00:00\", \"totalTestResultsIncrease\": 57270.0, \"positiveIncrease\": 608.0, \"death\": 25117.0, \"deathIncrease\": 11.0, \"positiveRate\": 0.011, \"state\": \"New York\", \"sma7d\": 716.857}, {\"date\": \"2020-07-28T00:00:00\", \"totalTestResultsIncrease\": 57397.0, \"positiveIncrease\": 534.0, \"death\": 25126.0, \"deathIncrease\": 9.0, \"positiveRate\": 0.009, \"state\": \"New York\", \"sma7d\": 671.0}, {\"date\": \"2020-07-29T00:00:00\", \"totalTestResultsIncrease\": 62276.0, \"positiveIncrease\": 715.0, \"death\": 25132.0, \"deathIncrease\": 6.0, \"positiveRate\": 0.011, \"state\": \"New York\", \"sma7d\": 672.429}, {\"date\": \"2020-07-30T00:00:00\", \"totalTestResultsIncrease\": 73546.0, \"positiveIncrease\": 777.0, \"death\": 25145.0, \"deathIncrease\": 13.0, \"positiveRate\": 0.011, \"state\": \"New York\", \"sma7d\": 667.571}, {\"date\": \"2020-07-31T00:00:00\", \"totalTestResultsIncrease\": 68869.0, \"positiveIncrease\": 644.0, \"death\": 25150.0, \"deathIncrease\": 5.0, \"positiveRate\": 0.009, \"state\": \"New York\", \"sma7d\": 652.0}, {\"date\": \"2020-08-01T00:00:00\", \"totalTestResultsIncrease\": 82737.0, \"positiveIncrease\": 753.0, \"death\": 25164.0, \"deathIncrease\": 14.0, \"positiveRate\": 0.009, \"state\": \"New York\", \"sma7d\": 652.429}, {\"date\": \"2020-08-02T00:00:00\", \"totalTestResultsIncrease\": 58961.0, \"positiveIncrease\": 531.0, \"death\": 25170.0, \"deathIncrease\": 6.0, \"positiveRate\": 0.009, \"state\": \"New York\", \"sma7d\": 651.714}, {\"date\": \"2020-08-03T00:00:00\", \"totalTestResultsIncrease\": 51839.0, \"positiveIncrease\": 545.0, \"death\": 25172.0, \"deathIncrease\": 2.0, \"positiveRate\": 0.011, \"state\": \"New York\", \"sma7d\": 642.714}, {\"date\": \"2020-08-04T00:00:00\", \"totalTestResultsIncrease\": 70993.0, \"positiveIncrease\": 746.0, \"death\": 25175.0, \"deathIncrease\": 3.0, \"positiveRate\": 0.011, \"state\": \"New York\", \"sma7d\": 673.0}, {\"date\": \"2020-08-05T00:00:00\", \"totalTestResultsIncrease\": 72668.0, \"positiveIncrease\": 636.0, \"death\": 25179.0, \"deathIncrease\": 4.0, \"positiveRate\": 0.009, \"state\": \"New York\", \"sma7d\": 661.714}, {\"date\": \"2020-08-06T00:00:00\", \"totalTestResultsIncrease\": 72370.0, \"positiveIncrease\": 703.0, \"death\": 25185.0, \"deathIncrease\": 6.0, \"positiveRate\": 0.01, \"state\": \"New York\", \"sma7d\": 651.143}, {\"date\": \"2020-08-07T00:00:00\", \"totalTestResultsIncrease\": 70170.0, \"positiveIncrease\": 714.0, \"death\": 25190.0, \"deathIncrease\": 5.0, \"positiveRate\": 0.01, \"state\": \"New York\", \"sma7d\": 661.143}, {\"date\": \"2020-08-08T00:00:00\", \"totalTestResultsIncrease\": 74857.0, \"positiveIncrease\": 703.0, \"death\": 25195.0, \"deathIncrease\": 5.0, \"positiveRate\": 0.009, \"state\": \"New York\", \"sma7d\": 654.0}, {\"date\": \"2020-08-09T00:00:00\", \"totalTestResultsIncrease\": 65812.0, \"positiveIncrease\": 515.0, \"death\": 25202.0, \"deathIncrease\": 7.0, \"positiveRate\": 0.008, \"state\": \"New York\", \"sma7d\": 651.714}, {\"date\": \"2020-08-10T00:00:00\", \"totalTestResultsIncrease\": 54002.0, \"positiveIncrease\": 476.0, \"death\": 25204.0, \"deathIncrease\": 2.0, \"positiveRate\": 0.009, \"state\": \"New York\", \"sma7d\": 641.857}, {\"date\": \"2020-08-11T00:00:00\", \"totalTestResultsIncrease\": 77059.0, \"positiveIncrease\": 667.0, \"death\": 25211.0, \"deathIncrease\": 7.0, \"positiveRate\": 0.009, \"state\": \"New York\", \"sma7d\": 630.571}, {\"date\": \"2020-08-12T00:00:00\", \"totalTestResultsIncrease\": 87776.0, \"positiveIncrease\": 700.0, \"death\": 25218.0, \"deathIncrease\": 7.0, \"positiveRate\": 0.008, \"state\": \"New York\", \"sma7d\": 639.714}, {\"date\": \"2020-08-13T00:00:00\", \"totalTestResultsIncrease\": 87900.0, \"positiveIncrease\": 737.0, \"death\": 25228.0, \"deathIncrease\": 10.0, \"positiveRate\": 0.008, \"state\": \"New York\", \"sma7d\": 644.571}, {\"date\": \"2020-08-14T00:00:00\", \"totalTestResultsIncrease\": 85455.0, \"positiveIncrease\": 727.0, \"death\": 25232.0, \"deathIncrease\": 4.0, \"positiveRate\": 0.009, \"state\": \"New York\", \"sma7d\": 646.429}, {\"date\": \"2020-08-15T00:00:00\", \"totalTestResultsIncrease\": 88668.0, \"positiveIncrease\": 734.0, \"death\": 25244.0, \"deathIncrease\": 12.0, \"positiveRate\": 0.008, \"state\": \"New York\", \"sma7d\": 650.857}, {\"date\": \"2020-08-16T00:00:00\", \"totalTestResultsIncrease\": 77692.0, \"positiveIncrease\": 607.0, \"death\": 25250.0, \"deathIncrease\": 6.0, \"positiveRate\": 0.008, \"state\": \"New York\", \"sma7d\": 664.0}, {\"date\": \"2020-08-17T00:00:00\", \"totalTestResultsIncrease\": 56891.0, \"positiveIncrease\": 408.0, \"death\": 25256.0, \"deathIncrease\": 6.0, \"positiveRate\": 0.007, \"state\": \"New York\", \"sma7d\": 654.286}, {\"date\": \"2020-08-18T00:00:00\", \"totalTestResultsIncrease\": 66891.0, \"positiveIncrease\": 655.0, \"death\": 25264.0, \"deathIncrease\": 8.0, \"positiveRate\": 0.01, \"state\": \"New York\", \"sma7d\": 652.571}, {\"date\": \"2020-08-19T00:00:00\", \"totalTestResultsIncrease\": 80425.0, \"positiveIncrease\": 631.0, \"death\": 25270.0, \"deathIncrease\": 6.0, \"positiveRate\": 0.008, \"state\": \"New York\", \"sma7d\": 642.714}, {\"date\": \"2020-08-20T00:00:00\", \"totalTestResultsIncrease\": 80984.0, \"positiveIncrease\": 601.0, \"death\": 25275.0, \"deathIncrease\": 5.0, \"positiveRate\": 0.007, \"state\": \"New York\", \"sma7d\": 623.286}, {\"date\": \"2020-08-21T00:00:00\", \"totalTestResultsIncrease\": 98880.0, \"positiveIncrease\": 709.0, \"death\": 25278.0, \"deathIncrease\": 3.0, \"positiveRate\": 0.007, \"state\": \"New York\", \"sma7d\": 620.714}, {\"date\": \"2020-08-22T00:00:00\", \"totalTestResultsIncrease\": 94849.0, \"positiveIncrease\": 653.0, \"death\": 25282.0, \"deathIncrease\": 4.0, \"positiveRate\": 0.007, \"state\": \"New York\", \"sma7d\": 609.143}, {\"date\": \"2020-08-23T00:00:00\", \"totalTestResultsIncrease\": 74043.0, \"positiveIncrease\": 572.0, \"death\": 25288.0, \"deathIncrease\": 6.0, \"positiveRate\": 0.008, \"state\": \"New York\", \"sma7d\": 604.143}, {\"date\": \"2020-08-24T00:00:00\", \"totalTestResultsIncrease\": 62031.0, \"positiveIncrease\": 408.0, \"death\": 25295.0, \"deathIncrease\": 7.0, \"positiveRate\": 0.007, \"state\": \"New York\", \"sma7d\": 604.143}, {\"date\": \"2020-08-25T00:00:00\", \"totalTestResultsIncrease\": 67255.0, \"positiveIncrease\": 629.0, \"death\": 25297.0, \"deathIncrease\": 2.0, \"positiveRate\": 0.009, \"state\": \"New York\", \"sma7d\": 600.429}]}}, {\"mode\": \"vega-lite\"});\n",
       "</script>"
      ],
      "text/plain": [
       "alt.LayerChart(...)"
      ]
     },
     "execution_count": 11,
     "metadata": {},
     "output_type": "execute_result"
    }
   ],
   "source": [
    "create_plot(ny, 'positiveIncrease')"
   ]
  },
  {
   "cell_type": "code",
   "execution_count": 12,
   "metadata": {
    "execution": {
     "iopub.execute_input": "2020-08-26T22:33:22.813272Z",
     "iopub.status.busy": "2020-08-26T22:33:22.792585Z",
     "iopub.status.idle": "2020-08-26T22:33:22.866794Z",
     "shell.execute_reply": "2020-08-26T22:33:22.866022Z"
    },
    "papermill": {
     "duration": 0.104509,
     "end_time": "2020-08-26T22:33:22.866978",
     "exception": false,
     "start_time": "2020-08-26T22:33:22.762469",
     "status": "completed"
    },
    "tags": []
   },
   "outputs": [
    {
     "data": {
      "text/html": [
       "\n",
       "<div id=\"altair-viz-67c6f16c25444999b2dd972a2f418775\"></div>\n",
       "<script type=\"text/javascript\">\n",
       "  (function(spec, embedOpt){\n",
       "    let outputDiv = document.currentScript.previousElementSibling;\n",
       "    if (outputDiv.id !== \"altair-viz-67c6f16c25444999b2dd972a2f418775\") {\n",
       "      outputDiv = document.getElementById(\"altair-viz-67c6f16c25444999b2dd972a2f418775\");\n",
       "    }\n",
       "    const paths = {\n",
       "      \"vega\": \"https://cdn.jsdelivr.net/npm//vega@5?noext\",\n",
       "      \"vega-lib\": \"https://cdn.jsdelivr.net/npm//vega-lib?noext\",\n",
       "      \"vega-lite\": \"https://cdn.jsdelivr.net/npm//vega-lite@4.8.1?noext\",\n",
       "      \"vega-embed\": \"https://cdn.jsdelivr.net/npm//vega-embed@6?noext\",\n",
       "    };\n",
       "\n",
       "    function loadScript(lib) {\n",
       "      return new Promise(function(resolve, reject) {\n",
       "        var s = document.createElement('script');\n",
       "        s.src = paths[lib];\n",
       "        s.async = true;\n",
       "        s.onload = () => resolve(paths[lib]);\n",
       "        s.onerror = () => reject(`Error loading script: ${paths[lib]}`);\n",
       "        document.getElementsByTagName(\"head\")[0].appendChild(s);\n",
       "      });\n",
       "    }\n",
       "\n",
       "    function showError(err) {\n",
       "      outputDiv.innerHTML = `<div class=\"error\" style=\"color:red;\">${err}</div>`;\n",
       "      throw err;\n",
       "    }\n",
       "\n",
       "    function displayChart(vegaEmbed) {\n",
       "      vegaEmbed(outputDiv, spec, embedOpt)\n",
       "        .catch(err => showError(`Javascript Error: ${err.message}<br>This usually means there's a typo in your chart specification. See the javascript console for the full traceback.`));\n",
       "    }\n",
       "\n",
       "    if(typeof define === \"function\" && define.amd) {\n",
       "      requirejs.config({paths});\n",
       "      require([\"vega-embed\"], displayChart, err => showError(`Error loading script: ${err.message}`));\n",
       "    } else if (typeof vegaEmbed === \"function\") {\n",
       "      displayChart(vegaEmbed);\n",
       "    } else {\n",
       "      loadScript(\"vega\")\n",
       "        .then(() => loadScript(\"vega-lite\"))\n",
       "        .then(() => loadScript(\"vega-embed\"))\n",
       "        .catch(showError)\n",
       "        .then(() => displayChart(vegaEmbed));\n",
       "    }\n",
       "  })({\"config\": {\"view\": {\"continuousWidth\": 400, \"continuousHeight\": 300}}, \"layer\": [{\"layer\": [{\"mark\": {\"type\": \"point\", \"size\": 75}, \"encoding\": {\"tooltip\": [{\"type\": \"temporal\", \"field\": \"date\"}, {\"type\": \"quantitative\", \"field\": \"positiveRate\"}, {\"type\": \"quantitative\", \"field\": \"sma7d\"}], \"x\": {\"type\": \"temporal\", \"field\": \"date\"}, \"y\": {\"type\": \"quantitative\", \"field\": \"positiveRate\"}}, \"selection\": {\"selector010\": {\"type\": \"interval\", \"bind\": \"scales\", \"encodings\": [\"x\", \"y\"]}}}, {\"mark\": {\"type\": \"line\", \"color\": \"purple\"}, \"encoding\": {\"x\": {\"type\": \"temporal\", \"field\": \"date\"}, \"y\": {\"type\": \"quantitative\", \"field\": \"sma7d\"}}}]}, {\"mark\": {\"type\": \"rule\", \"color\": \"#aaa\"}, \"encoding\": {\"x\": {\"type\": \"temporal\", \"field\": \"date\"}}, \"transform\": [{\"filter\": {\"selection\": \"selector009\"}}]}, {\"mark\": \"circle\", \"encoding\": {\"opacity\": {\"condition\": {\"value\": 1, \"selection\": \"selector009\"}, \"value\": 0}, \"tooltip\": [{\"type\": \"temporal\", \"field\": \"date\"}, {\"type\": \"quantitative\", \"field\": \"positiveRate\"}, {\"type\": \"quantitative\", \"field\": \"sma7d\"}], \"x\": {\"type\": \"temporal\", \"field\": \"date\"}, \"y\": {\"type\": \"quantitative\", \"field\": \"positiveRate\"}}, \"selection\": {\"selector009\": {\"type\": \"single\", \"encodings\": [\"x\"], \"on\": \"mouseover\", \"nearest\": true, \"empty\": \"none\"}}}, {\"mark\": {\"type\": \"text\", \"align\": \"left\", \"dx\": 5, \"dy\": -5, \"stroke\": \"white\", \"strokeWidth\": 2}, \"encoding\": {\"text\": {\"type\": \"quantitative\", \"field\": \"positiveRate\"}, \"tooltip\": [{\"type\": \"temporal\", \"field\": \"date\"}, {\"type\": \"quantitative\", \"field\": \"positiveRate\"}, {\"type\": \"quantitative\", \"field\": \"sma7d\"}], \"x\": {\"type\": \"temporal\", \"field\": \"date\"}, \"y\": {\"type\": \"quantitative\", \"field\": \"positiveRate\"}}, \"transform\": [{\"filter\": {\"selection\": \"selector009\"}}]}, {\"mark\": {\"type\": \"text\", \"align\": \"left\", \"dx\": 5, \"dy\": -5}, \"encoding\": {\"text\": {\"type\": \"quantitative\", \"field\": \"positiveRate\"}, \"tooltip\": [{\"type\": \"temporal\", \"field\": \"date\"}, {\"type\": \"quantitative\", \"field\": \"positiveRate\"}, {\"type\": \"quantitative\", \"field\": \"sma7d\"}], \"x\": {\"type\": \"temporal\", \"field\": \"date\"}, \"y\": {\"type\": \"quantitative\", \"field\": \"positiveRate\"}}, \"transform\": [{\"filter\": {\"selection\": \"selector009\"}}]}], \"data\": {\"name\": \"data-46c6337164ce5a208b0bd9a09e5bbe59\"}, \"height\": 400, \"title\": \"New York: positiveRate\", \"width\": 500, \"$schema\": \"https://vega.github.io/schema/vega-lite/v4.8.1.json\", \"datasets\": {\"data-46c6337164ce5a208b0bd9a09e5bbe59\": [{\"date\": \"2020-07-02T00:00:00\", \"totalTestResultsIncrease\": 69945.0, \"positiveIncrease\": 875.0, \"death\": 24877.0, \"deathIncrease\": 11.0, \"positiveRate\": 0.013, \"state\": \"New York\", \"sma7d\": 0.011}, {\"date\": \"2020-07-03T00:00:00\", \"totalTestResultsIncrease\": 66392.0, \"positiveIncrease\": 918.0, \"death\": 24885.0, \"deathIncrease\": 8.0, \"positiveRate\": 0.014, \"state\": \"New York\", \"sma7d\": 0.011}, {\"date\": \"2020-07-04T00:00:00\", \"totalTestResultsIncrease\": 62403.0, \"positiveIncrease\": 726.0, \"death\": 24896.0, \"deathIncrease\": 11.0, \"positiveRate\": 0.012, \"state\": \"New York\", \"sma7d\": 0.011}, {\"date\": \"2020-07-05T00:00:00\", \"totalTestResultsIncrease\": 63415.0, \"positiveIncrease\": 533.0, \"death\": 24904.0, \"deathIncrease\": 8.0, \"positiveRate\": 0.008, \"state\": \"New York\", \"sma7d\": 0.011}, {\"date\": \"2020-07-06T00:00:00\", \"totalTestResultsIncrease\": 54328.0, \"positiveIncrease\": 518.0, \"death\": 24913.0, \"deathIncrease\": 9.0, \"positiveRate\": 0.01, \"state\": \"New York\", \"sma7d\": 0.011}, {\"date\": \"2020-07-07T00:00:00\", \"totalTestResultsIncrease\": 56736.0, \"positiveIncrease\": 588.0, \"death\": 24924.0, \"deathIncrease\": 11.0, \"positiveRate\": 0.01, \"state\": \"New York\", \"sma7d\": 0.011}, {\"date\": \"2020-07-08T00:00:00\", \"totalTestResultsIncrease\": 57585.0, \"positiveIncrease\": 692.0, \"death\": 24944.0, \"deathIncrease\": 20.0, \"positiveRate\": 0.012, \"state\": \"New York\", \"sma7d\": 0.011}, {\"date\": \"2020-07-09T00:00:00\", \"totalTestResultsIncrease\": 65564.0, \"positiveIncrease\": 584.0, \"death\": 24959.0, \"deathIncrease\": 15.0, \"positiveRate\": 0.009, \"state\": \"New York\", \"sma7d\": 0.011}, {\"date\": \"2020-07-10T00:00:00\", \"totalTestResultsIncrease\": 73558.0, \"positiveIncrease\": 786.0, \"death\": 24968.0, \"deathIncrease\": 9.0, \"positiveRate\": 0.011, \"state\": \"New York\", \"sma7d\": 0.01}, {\"date\": \"2020-07-11T00:00:00\", \"totalTestResultsIncrease\": 69203.0, \"positiveIncrease\": 730.0, \"death\": 24974.0, \"deathIncrease\": 6.0, \"positiveRate\": 0.011, \"state\": \"New York\", \"sma7d\": 0.01}, {\"date\": \"2020-07-12T00:00:00\", \"totalTestResultsIncrease\": 62418.0, \"positiveIncrease\": 677.0, \"death\": 24979.0, \"deathIncrease\": 5.0, \"positiveRate\": 0.011, \"state\": \"New York\", \"sma7d\": 0.011}, {\"date\": \"2020-07-13T00:00:00\", \"totalTestResultsIncrease\": 51687.0, \"positiveIncrease\": 557.0, \"death\": 24989.0, \"deathIncrease\": 10.0, \"positiveRate\": 0.011, \"state\": \"New York\", \"sma7d\": 0.011}, {\"date\": \"2020-07-14T00:00:00\", \"totalTestResultsIncrease\": 60045.0, \"positiveIncrease\": 912.0, \"death\": 24994.0, \"deathIncrease\": 5.0, \"positiveRate\": 0.015, \"state\": \"New York\", \"sma7d\": 0.011}, {\"date\": \"2020-07-15T00:00:00\", \"totalTestResultsIncrease\": 63598.0, \"positiveIncrease\": 831.0, \"death\": 25003.0, \"deathIncrease\": 9.0, \"positiveRate\": 0.013, \"state\": \"New York\", \"sma7d\": 0.012}, {\"date\": \"2020-07-16T00:00:00\", \"totalTestResultsIncrease\": 72685.0, \"positiveIncrease\": 769.0, \"death\": 25014.0, \"deathIncrease\": 11.0, \"positiveRate\": 0.011, \"state\": \"New York\", \"sma7d\": 0.012}, {\"date\": \"2020-07-17T00:00:00\", \"totalTestResultsIncrease\": 78239.0, \"positiveIncrease\": 776.0, \"death\": 25024.0, \"deathIncrease\": 10.0, \"positiveRate\": 0.01, \"state\": \"New York\", \"sma7d\": 0.012}, {\"date\": \"2020-07-18T00:00:00\", \"totalTestResultsIncrease\": 69817.0, \"positiveIncrease\": 754.0, \"death\": 25035.0, \"deathIncrease\": 11.0, \"positiveRate\": 0.011, \"state\": \"New York\", \"sma7d\": 0.012}, {\"date\": \"2020-07-19T00:00:00\", \"totalTestResultsIncrease\": 46204.0, \"positiveIncrease\": 502.0, \"death\": 25048.0, \"deathIncrease\": 13.0, \"positiveRate\": 0.011, \"state\": \"New York\", \"sma7d\": 0.012}, {\"date\": \"2020-07-20T00:00:00\", \"totalTestResultsIncrease\": 49342.0, \"positiveIncrease\": 519.0, \"death\": 25056.0, \"deathIncrease\": 8.0, \"positiveRate\": 0.011, \"state\": \"New York\", \"sma7d\": 0.012}, {\"date\": \"2020-07-21T00:00:00\", \"totalTestResultsIncrease\": 66169.0, \"positiveIncrease\": 855.0, \"death\": 25058.0, \"deathIncrease\": 2.0, \"positiveRate\": 0.013, \"state\": \"New York\", \"sma7d\": 0.011}, {\"date\": \"2020-07-22T00:00:00\", \"totalTestResultsIncrease\": 67659.0, \"positiveIncrease\": 705.0, \"death\": 25068.0, \"deathIncrease\": 10.0, \"positiveRate\": 0.01, \"state\": \"New York\", \"sma7d\": 0.011}, {\"date\": \"2020-07-23T00:00:00\", \"totalTestResultsIncrease\": 69698.0, \"positiveIncrease\": 811.0, \"death\": 25081.0, \"deathIncrease\": 13.0, \"positiveRate\": 0.012, \"state\": \"New York\", \"sma7d\": 0.011}, {\"date\": \"2020-07-24T00:00:00\", \"totalTestResultsIncrease\": 76507.0, \"positiveIncrease\": 753.0, \"death\": 25090.0, \"deathIncrease\": 9.0, \"positiveRate\": 0.01, \"state\": \"New York\", \"sma7d\": 0.011}, {\"date\": \"2020-07-25T00:00:00\", \"totalTestResultsIncrease\": 71466.0, \"positiveIncrease\": 750.0, \"death\": 25103.0, \"deathIncrease\": 13.0, \"positiveRate\": 0.01, \"state\": \"New York\", \"sma7d\": 0.011}, {\"date\": \"2020-07-26T00:00:00\", \"totalTestResultsIncrease\": 53568.0, \"positiveIncrease\": 536.0, \"death\": 25106.0, \"deathIncrease\": 3.0, \"positiveRate\": 0.01, \"state\": \"New York\", \"sma7d\": 0.011}, {\"date\": \"2020-07-27T00:00:00\", \"totalTestResultsIncrease\": 57270.0, \"positiveIncrease\": 608.0, \"death\": 25117.0, \"deathIncrease\": 11.0, \"positiveRate\": 0.011, \"state\": \"New York\", \"sma7d\": 0.011}, {\"date\": \"2020-07-28T00:00:00\", \"totalTestResultsIncrease\": 57397.0, \"positiveIncrease\": 534.0, \"death\": 25126.0, \"deathIncrease\": 9.0, \"positiveRate\": 0.009, \"state\": \"New York\", \"sma7d\": 0.01}, {\"date\": \"2020-07-29T00:00:00\", \"totalTestResultsIncrease\": 62276.0, \"positiveIncrease\": 715.0, \"death\": 25132.0, \"deathIncrease\": 6.0, \"positiveRate\": 0.011, \"state\": \"New York\", \"sma7d\": 0.01}, {\"date\": \"2020-07-30T00:00:00\", \"totalTestResultsIncrease\": 73546.0, \"positiveIncrease\": 777.0, \"death\": 25145.0, \"deathIncrease\": 13.0, \"positiveRate\": 0.011, \"state\": \"New York\", \"sma7d\": 0.01}, {\"date\": \"2020-07-31T00:00:00\", \"totalTestResultsIncrease\": 68869.0, \"positiveIncrease\": 644.0, \"death\": 25150.0, \"deathIncrease\": 5.0, \"positiveRate\": 0.009, \"state\": \"New York\", \"sma7d\": 0.01}, {\"date\": \"2020-08-01T00:00:00\", \"totalTestResultsIncrease\": 82737.0, \"positiveIncrease\": 753.0, \"death\": 25164.0, \"deathIncrease\": 14.0, \"positiveRate\": 0.009, \"state\": \"New York\", \"sma7d\": 0.01}, {\"date\": \"2020-08-02T00:00:00\", \"totalTestResultsIncrease\": 58961.0, \"positiveIncrease\": 531.0, \"death\": 25170.0, \"deathIncrease\": 6.0, \"positiveRate\": 0.009, \"state\": \"New York\", \"sma7d\": 0.01}, {\"date\": \"2020-08-03T00:00:00\", \"totalTestResultsIncrease\": 51839.0, \"positiveIncrease\": 545.0, \"death\": 25172.0, \"deathIncrease\": 2.0, \"positiveRate\": 0.011, \"state\": \"New York\", \"sma7d\": 0.01}, {\"date\": \"2020-08-04T00:00:00\", \"totalTestResultsIncrease\": 70993.0, \"positiveIncrease\": 746.0, \"death\": 25175.0, \"deathIncrease\": 3.0, \"positiveRate\": 0.011, \"state\": \"New York\", \"sma7d\": 0.01}, {\"date\": \"2020-08-05T00:00:00\", \"totalTestResultsIncrease\": 72668.0, \"positiveIncrease\": 636.0, \"death\": 25179.0, \"deathIncrease\": 4.0, \"positiveRate\": 0.009, \"state\": \"New York\", \"sma7d\": 0.01}, {\"date\": \"2020-08-06T00:00:00\", \"totalTestResultsIncrease\": 72370.0, \"positiveIncrease\": 703.0, \"death\": 25185.0, \"deathIncrease\": 6.0, \"positiveRate\": 0.01, \"state\": \"New York\", \"sma7d\": 0.01}, {\"date\": \"2020-08-07T00:00:00\", \"totalTestResultsIncrease\": 70170.0, \"positiveIncrease\": 714.0, \"death\": 25190.0, \"deathIncrease\": 5.0, \"positiveRate\": 0.01, \"state\": \"New York\", \"sma7d\": 0.01}, {\"date\": \"2020-08-08T00:00:00\", \"totalTestResultsIncrease\": 74857.0, \"positiveIncrease\": 703.0, \"death\": 25195.0, \"deathIncrease\": 5.0, \"positiveRate\": 0.009, \"state\": \"New York\", \"sma7d\": 0.01}, {\"date\": \"2020-08-09T00:00:00\", \"totalTestResultsIncrease\": 65812.0, \"positiveIncrease\": 515.0, \"death\": 25202.0, \"deathIncrease\": 7.0, \"positiveRate\": 0.008, \"state\": \"New York\", \"sma7d\": 0.01}, {\"date\": \"2020-08-10T00:00:00\", \"totalTestResultsIncrease\": 54002.0, \"positiveIncrease\": 476.0, \"death\": 25204.0, \"deathIncrease\": 2.0, \"positiveRate\": 0.009, \"state\": \"New York\", \"sma7d\": 0.009}, {\"date\": \"2020-08-11T00:00:00\", \"totalTestResultsIncrease\": 77059.0, \"positiveIncrease\": 667.0, \"death\": 25211.0, \"deathIncrease\": 7.0, \"positiveRate\": 0.009, \"state\": \"New York\", \"sma7d\": 0.009}, {\"date\": \"2020-08-12T00:00:00\", \"totalTestResultsIncrease\": 87776.0, \"positiveIncrease\": 700.0, \"death\": 25218.0, \"deathIncrease\": 7.0, \"positiveRate\": 0.008, \"state\": \"New York\", \"sma7d\": 0.009}, {\"date\": \"2020-08-13T00:00:00\", \"totalTestResultsIncrease\": 87900.0, \"positiveIncrease\": 737.0, \"death\": 25228.0, \"deathIncrease\": 10.0, \"positiveRate\": 0.008, \"state\": \"New York\", \"sma7d\": 0.009}, {\"date\": \"2020-08-14T00:00:00\", \"totalTestResultsIncrease\": 85455.0, \"positiveIncrease\": 727.0, \"death\": 25232.0, \"deathIncrease\": 4.0, \"positiveRate\": 0.009, \"state\": \"New York\", \"sma7d\": 0.009}, {\"date\": \"2020-08-15T00:00:00\", \"totalTestResultsIncrease\": 88668.0, \"positiveIncrease\": 734.0, \"death\": 25244.0, \"deathIncrease\": 12.0, \"positiveRate\": 0.008, \"state\": \"New York\", \"sma7d\": 0.008}, {\"date\": \"2020-08-16T00:00:00\", \"totalTestResultsIncrease\": 77692.0, \"positiveIncrease\": 607.0, \"death\": 25250.0, \"deathIncrease\": 6.0, \"positiveRate\": 0.008, \"state\": \"New York\", \"sma7d\": 0.008}, {\"date\": \"2020-08-17T00:00:00\", \"totalTestResultsIncrease\": 56891.0, \"positiveIncrease\": 408.0, \"death\": 25256.0, \"deathIncrease\": 6.0, \"positiveRate\": 0.007, \"state\": \"New York\", \"sma7d\": 0.008}, {\"date\": \"2020-08-18T00:00:00\", \"totalTestResultsIncrease\": 66891.0, \"positiveIncrease\": 655.0, \"death\": 25264.0, \"deathIncrease\": 8.0, \"positiveRate\": 0.01, \"state\": \"New York\", \"sma7d\": 0.008}, {\"date\": \"2020-08-19T00:00:00\", \"totalTestResultsIncrease\": 80425.0, \"positiveIncrease\": 631.0, \"death\": 25270.0, \"deathIncrease\": 6.0, \"positiveRate\": 0.008, \"state\": \"New York\", \"sma7d\": 0.008}, {\"date\": \"2020-08-20T00:00:00\", \"totalTestResultsIncrease\": 80984.0, \"positiveIncrease\": 601.0, \"death\": 25275.0, \"deathIncrease\": 5.0, \"positiveRate\": 0.007, \"state\": \"New York\", \"sma7d\": 0.008}, {\"date\": \"2020-08-21T00:00:00\", \"totalTestResultsIncrease\": 98880.0, \"positiveIncrease\": 709.0, \"death\": 25278.0, \"deathIncrease\": 3.0, \"positiveRate\": 0.007, \"state\": \"New York\", \"sma7d\": 0.008}, {\"date\": \"2020-08-22T00:00:00\", \"totalTestResultsIncrease\": 94849.0, \"positiveIncrease\": 653.0, \"death\": 25282.0, \"deathIncrease\": 4.0, \"positiveRate\": 0.007, \"state\": \"New York\", \"sma7d\": 0.008}, {\"date\": \"2020-08-23T00:00:00\", \"totalTestResultsIncrease\": 74043.0, \"positiveIncrease\": 572.0, \"death\": 25288.0, \"deathIncrease\": 6.0, \"positiveRate\": 0.008, \"state\": \"New York\", \"sma7d\": 0.008}, {\"date\": \"2020-08-24T00:00:00\", \"totalTestResultsIncrease\": 62031.0, \"positiveIncrease\": 408.0, \"death\": 25295.0, \"deathIncrease\": 7.0, \"positiveRate\": 0.007, \"state\": \"New York\", \"sma7d\": 0.008}, {\"date\": \"2020-08-25T00:00:00\", \"totalTestResultsIncrease\": 67255.0, \"positiveIncrease\": 629.0, \"death\": 25297.0, \"deathIncrease\": 2.0, \"positiveRate\": 0.009, \"state\": \"New York\", \"sma7d\": 0.008}]}}, {\"mode\": \"vega-lite\"});\n",
       "</script>"
      ],
      "text/plain": [
       "alt.LayerChart(...)"
      ]
     },
     "execution_count": 12,
     "metadata": {},
     "output_type": "execute_result"
    }
   ],
   "source": [
    "create_plot(ny, 'positiveRate')"
   ]
  },
  {
   "cell_type": "code",
   "execution_count": 13,
   "metadata": {
    "execution": {
     "iopub.execute_input": "2020-08-26T22:33:22.908656Z",
     "iopub.status.busy": "2020-08-26T22:33:22.908157Z",
     "iopub.status.idle": "2020-08-26T22:33:22.984343Z",
     "shell.execute_reply": "2020-08-26T22:33:22.984824Z"
    },
    "papermill": {
     "duration": 0.100918,
     "end_time": "2020-08-26T22:33:22.984989",
     "exception": false,
     "start_time": "2020-08-26T22:33:22.884071",
     "status": "completed"
    },
    "tags": []
   },
   "outputs": [
    {
     "data": {
      "text/html": [
       "\n",
       "<div id=\"altair-viz-48ef8a4d0a9b4b10b3b050e5499ea6e7\"></div>\n",
       "<script type=\"text/javascript\">\n",
       "  (function(spec, embedOpt){\n",
       "    let outputDiv = document.currentScript.previousElementSibling;\n",
       "    if (outputDiv.id !== \"altair-viz-48ef8a4d0a9b4b10b3b050e5499ea6e7\") {\n",
       "      outputDiv = document.getElementById(\"altair-viz-48ef8a4d0a9b4b10b3b050e5499ea6e7\");\n",
       "    }\n",
       "    const paths = {\n",
       "      \"vega\": \"https://cdn.jsdelivr.net/npm//vega@5?noext\",\n",
       "      \"vega-lib\": \"https://cdn.jsdelivr.net/npm//vega-lib?noext\",\n",
       "      \"vega-lite\": \"https://cdn.jsdelivr.net/npm//vega-lite@4.8.1?noext\",\n",
       "      \"vega-embed\": \"https://cdn.jsdelivr.net/npm//vega-embed@6?noext\",\n",
       "    };\n",
       "\n",
       "    function loadScript(lib) {\n",
       "      return new Promise(function(resolve, reject) {\n",
       "        var s = document.createElement('script');\n",
       "        s.src = paths[lib];\n",
       "        s.async = true;\n",
       "        s.onload = () => resolve(paths[lib]);\n",
       "        s.onerror = () => reject(`Error loading script: ${paths[lib]}`);\n",
       "        document.getElementsByTagName(\"head\")[0].appendChild(s);\n",
       "      });\n",
       "    }\n",
       "\n",
       "    function showError(err) {\n",
       "      outputDiv.innerHTML = `<div class=\"error\" style=\"color:red;\">${err}</div>`;\n",
       "      throw err;\n",
       "    }\n",
       "\n",
       "    function displayChart(vegaEmbed) {\n",
       "      vegaEmbed(outputDiv, spec, embedOpt)\n",
       "        .catch(err => showError(`Javascript Error: ${err.message}<br>This usually means there's a typo in your chart specification. See the javascript console for the full traceback.`));\n",
       "    }\n",
       "\n",
       "    if(typeof define === \"function\" && define.amd) {\n",
       "      requirejs.config({paths});\n",
       "      require([\"vega-embed\"], displayChart, err => showError(`Error loading script: ${err.message}`));\n",
       "    } else if (typeof vegaEmbed === \"function\") {\n",
       "      displayChart(vegaEmbed);\n",
       "    } else {\n",
       "      loadScript(\"vega\")\n",
       "        .then(() => loadScript(\"vega-lite\"))\n",
       "        .then(() => loadScript(\"vega-embed\"))\n",
       "        .catch(showError)\n",
       "        .then(() => displayChart(vegaEmbed));\n",
       "    }\n",
       "  })({\"config\": {\"view\": {\"continuousWidth\": 400, \"continuousHeight\": 300}}, \"layer\": [{\"layer\": [{\"mark\": {\"type\": \"point\", \"size\": 75}, \"encoding\": {\"tooltip\": [{\"type\": \"temporal\", \"field\": \"date\"}, {\"type\": \"quantitative\", \"field\": \"deathIncrease\"}, {\"type\": \"quantitative\", \"field\": \"sma7d\"}], \"x\": {\"type\": \"temporal\", \"field\": \"date\"}, \"y\": {\"type\": \"quantitative\", \"field\": \"deathIncrease\"}}, \"selection\": {\"selector012\": {\"type\": \"interval\", \"bind\": \"scales\", \"encodings\": [\"x\", \"y\"]}}}, {\"mark\": {\"type\": \"line\", \"color\": \"purple\"}, \"encoding\": {\"x\": {\"type\": \"temporal\", \"field\": \"date\"}, \"y\": {\"type\": \"quantitative\", \"field\": \"sma7d\"}}}]}, {\"mark\": {\"type\": \"rule\", \"color\": \"#aaa\"}, \"encoding\": {\"x\": {\"type\": \"temporal\", \"field\": \"date\"}}, \"transform\": [{\"filter\": {\"selection\": \"selector011\"}}]}, {\"mark\": \"circle\", \"encoding\": {\"opacity\": {\"condition\": {\"value\": 1, \"selection\": \"selector011\"}, \"value\": 0}, \"tooltip\": [{\"type\": \"temporal\", \"field\": \"date\"}, {\"type\": \"quantitative\", \"field\": \"deathIncrease\"}, {\"type\": \"quantitative\", \"field\": \"sma7d\"}], \"x\": {\"type\": \"temporal\", \"field\": \"date\"}, \"y\": {\"type\": \"quantitative\", \"field\": \"deathIncrease\"}}, \"selection\": {\"selector011\": {\"type\": \"single\", \"encodings\": [\"x\"], \"on\": \"mouseover\", \"nearest\": true, \"empty\": \"none\"}}}, {\"mark\": {\"type\": \"text\", \"align\": \"left\", \"dx\": 5, \"dy\": -5, \"stroke\": \"white\", \"strokeWidth\": 2}, \"encoding\": {\"text\": {\"type\": \"quantitative\", \"field\": \"deathIncrease\"}, \"tooltip\": [{\"type\": \"temporal\", \"field\": \"date\"}, {\"type\": \"quantitative\", \"field\": \"deathIncrease\"}, {\"type\": \"quantitative\", \"field\": \"sma7d\"}], \"x\": {\"type\": \"temporal\", \"field\": \"date\"}, \"y\": {\"type\": \"quantitative\", \"field\": \"deathIncrease\"}}, \"transform\": [{\"filter\": {\"selection\": \"selector011\"}}]}, {\"mark\": {\"type\": \"text\", \"align\": \"left\", \"dx\": 5, \"dy\": -5}, \"encoding\": {\"text\": {\"type\": \"quantitative\", \"field\": \"deathIncrease\"}, \"tooltip\": [{\"type\": \"temporal\", \"field\": \"date\"}, {\"type\": \"quantitative\", \"field\": \"deathIncrease\"}, {\"type\": \"quantitative\", \"field\": \"sma7d\"}], \"x\": {\"type\": \"temporal\", \"field\": \"date\"}, \"y\": {\"type\": \"quantitative\", \"field\": \"deathIncrease\"}}, \"transform\": [{\"filter\": {\"selection\": \"selector011\"}}]}], \"data\": {\"name\": \"data-41b00f10c490843c259c2d1d010ffd96\"}, \"height\": 400, \"title\": \"New York: deathIncrease\", \"width\": 500, \"$schema\": \"https://vega.github.io/schema/vega-lite/v4.8.1.json\", \"datasets\": {\"data-41b00f10c490843c259c2d1d010ffd96\": [{\"date\": \"2020-07-02T00:00:00\", \"totalTestResultsIncrease\": 69945.0, \"positiveIncrease\": 875.0, \"death\": 24877.0, \"deathIncrease\": 11.0, \"positiveRate\": 0.013, \"state\": \"New York\", \"sma7d\": 11.0}, {\"date\": \"2020-07-03T00:00:00\", \"totalTestResultsIncrease\": 66392.0, \"positiveIncrease\": 918.0, \"death\": 24885.0, \"deathIncrease\": 8.0, \"positiveRate\": 0.014, \"state\": \"New York\", \"sma7d\": 10.143}, {\"date\": \"2020-07-04T00:00:00\", \"totalTestResultsIncrease\": 62403.0, \"positiveIncrease\": 726.0, \"death\": 24896.0, \"deathIncrease\": 11.0, \"positiveRate\": 0.012, \"state\": \"New York\", \"sma7d\": 9.429}, {\"date\": \"2020-07-05T00:00:00\", \"totalTestResultsIncrease\": 63415.0, \"positiveIncrease\": 533.0, \"death\": 24904.0, \"deathIncrease\": 8.0, \"positiveRate\": 0.008, \"state\": \"New York\", \"sma7d\": 9.857}, {\"date\": \"2020-07-06T00:00:00\", \"totalTestResultsIncrease\": 54328.0, \"positiveIncrease\": 518.0, \"death\": 24913.0, \"deathIncrease\": 9.0, \"positiveRate\": 0.01, \"state\": \"New York\", \"sma7d\": 10.143}, {\"date\": \"2020-07-07T00:00:00\", \"totalTestResultsIncrease\": 56736.0, \"positiveIncrease\": 588.0, \"death\": 24924.0, \"deathIncrease\": 11.0, \"positiveRate\": 0.01, \"state\": \"New York\", \"sma7d\": 9.857}, {\"date\": \"2020-07-08T00:00:00\", \"totalTestResultsIncrease\": 57585.0, \"positiveIncrease\": 692.0, \"death\": 24944.0, \"deathIncrease\": 20.0, \"positiveRate\": 0.012, \"state\": \"New York\", \"sma7d\": 11.143}, {\"date\": \"2020-07-09T00:00:00\", \"totalTestResultsIncrease\": 65564.0, \"positiveIncrease\": 584.0, \"death\": 24959.0, \"deathIncrease\": 15.0, \"positiveRate\": 0.009, \"state\": \"New York\", \"sma7d\": 11.714}, {\"date\": \"2020-07-10T00:00:00\", \"totalTestResultsIncrease\": 73558.0, \"positiveIncrease\": 786.0, \"death\": 24968.0, \"deathIncrease\": 9.0, \"positiveRate\": 0.011, \"state\": \"New York\", \"sma7d\": 11.857}, {\"date\": \"2020-07-11T00:00:00\", \"totalTestResultsIncrease\": 69203.0, \"positiveIncrease\": 730.0, \"death\": 24974.0, \"deathIncrease\": 6.0, \"positiveRate\": 0.011, \"state\": \"New York\", \"sma7d\": 11.143}, {\"date\": \"2020-07-12T00:00:00\", \"totalTestResultsIncrease\": 62418.0, \"positiveIncrease\": 677.0, \"death\": 24979.0, \"deathIncrease\": 5.0, \"positiveRate\": 0.011, \"state\": \"New York\", \"sma7d\": 10.714}, {\"date\": \"2020-07-13T00:00:00\", \"totalTestResultsIncrease\": 51687.0, \"positiveIncrease\": 557.0, \"death\": 24989.0, \"deathIncrease\": 10.0, \"positiveRate\": 0.011, \"state\": \"New York\", \"sma7d\": 10.857}, {\"date\": \"2020-07-14T00:00:00\", \"totalTestResultsIncrease\": 60045.0, \"positiveIncrease\": 912.0, \"death\": 24994.0, \"deathIncrease\": 5.0, \"positiveRate\": 0.015, \"state\": \"New York\", \"sma7d\": 10.0}, {\"date\": \"2020-07-15T00:00:00\", \"totalTestResultsIncrease\": 63598.0, \"positiveIncrease\": 831.0, \"death\": 25003.0, \"deathIncrease\": 9.0, \"positiveRate\": 0.013, \"state\": \"New York\", \"sma7d\": 8.429}, {\"date\": \"2020-07-16T00:00:00\", \"totalTestResultsIncrease\": 72685.0, \"positiveIncrease\": 769.0, \"death\": 25014.0, \"deathIncrease\": 11.0, \"positiveRate\": 0.011, \"state\": \"New York\", \"sma7d\": 7.857}, {\"date\": \"2020-07-17T00:00:00\", \"totalTestResultsIncrease\": 78239.0, \"positiveIncrease\": 776.0, \"death\": 25024.0, \"deathIncrease\": 10.0, \"positiveRate\": 0.01, \"state\": \"New York\", \"sma7d\": 8.0}, {\"date\": \"2020-07-18T00:00:00\", \"totalTestResultsIncrease\": 69817.0, \"positiveIncrease\": 754.0, \"death\": 25035.0, \"deathIncrease\": 11.0, \"positiveRate\": 0.011, \"state\": \"New York\", \"sma7d\": 8.714}, {\"date\": \"2020-07-19T00:00:00\", \"totalTestResultsIncrease\": 46204.0, \"positiveIncrease\": 502.0, \"death\": 25048.0, \"deathIncrease\": 13.0, \"positiveRate\": 0.011, \"state\": \"New York\", \"sma7d\": 9.857}, {\"date\": \"2020-07-20T00:00:00\", \"totalTestResultsIncrease\": 49342.0, \"positiveIncrease\": 519.0, \"death\": 25056.0, \"deathIncrease\": 8.0, \"positiveRate\": 0.011, \"state\": \"New York\", \"sma7d\": 9.571}, {\"date\": \"2020-07-21T00:00:00\", \"totalTestResultsIncrease\": 66169.0, \"positiveIncrease\": 855.0, \"death\": 25058.0, \"deathIncrease\": 2.0, \"positiveRate\": 0.013, \"state\": \"New York\", \"sma7d\": 9.143}, {\"date\": \"2020-07-22T00:00:00\", \"totalTestResultsIncrease\": 67659.0, \"positiveIncrease\": 705.0, \"death\": 25068.0, \"deathIncrease\": 10.0, \"positiveRate\": 0.01, \"state\": \"New York\", \"sma7d\": 9.286}, {\"date\": \"2020-07-23T00:00:00\", \"totalTestResultsIncrease\": 69698.0, \"positiveIncrease\": 811.0, \"death\": 25081.0, \"deathIncrease\": 13.0, \"positiveRate\": 0.012, \"state\": \"New York\", \"sma7d\": 9.571}, {\"date\": \"2020-07-24T00:00:00\", \"totalTestResultsIncrease\": 76507.0, \"positiveIncrease\": 753.0, \"death\": 25090.0, \"deathIncrease\": 9.0, \"positiveRate\": 0.01, \"state\": \"New York\", \"sma7d\": 9.429}, {\"date\": \"2020-07-25T00:00:00\", \"totalTestResultsIncrease\": 71466.0, \"positiveIncrease\": 750.0, \"death\": 25103.0, \"deathIncrease\": 13.0, \"positiveRate\": 0.01, \"state\": \"New York\", \"sma7d\": 9.714}, {\"date\": \"2020-07-26T00:00:00\", \"totalTestResultsIncrease\": 53568.0, \"positiveIncrease\": 536.0, \"death\": 25106.0, \"deathIncrease\": 3.0, \"positiveRate\": 0.01, \"state\": \"New York\", \"sma7d\": 8.286}, {\"date\": \"2020-07-27T00:00:00\", \"totalTestResultsIncrease\": 57270.0, \"positiveIncrease\": 608.0, \"death\": 25117.0, \"deathIncrease\": 11.0, \"positiveRate\": 0.011, \"state\": \"New York\", \"sma7d\": 8.714}, {\"date\": \"2020-07-28T00:00:00\", \"totalTestResultsIncrease\": 57397.0, \"positiveIncrease\": 534.0, \"death\": 25126.0, \"deathIncrease\": 9.0, \"positiveRate\": 0.009, \"state\": \"New York\", \"sma7d\": 9.714}, {\"date\": \"2020-07-29T00:00:00\", \"totalTestResultsIncrease\": 62276.0, \"positiveIncrease\": 715.0, \"death\": 25132.0, \"deathIncrease\": 6.0, \"positiveRate\": 0.011, \"state\": \"New York\", \"sma7d\": 9.143}, {\"date\": \"2020-07-30T00:00:00\", \"totalTestResultsIncrease\": 73546.0, \"positiveIncrease\": 777.0, \"death\": 25145.0, \"deathIncrease\": 13.0, \"positiveRate\": 0.011, \"state\": \"New York\", \"sma7d\": 9.143}, {\"date\": \"2020-07-31T00:00:00\", \"totalTestResultsIncrease\": 68869.0, \"positiveIncrease\": 644.0, \"death\": 25150.0, \"deathIncrease\": 5.0, \"positiveRate\": 0.009, \"state\": \"New York\", \"sma7d\": 8.571}, {\"date\": \"2020-08-01T00:00:00\", \"totalTestResultsIncrease\": 82737.0, \"positiveIncrease\": 753.0, \"death\": 25164.0, \"deathIncrease\": 14.0, \"positiveRate\": 0.009, \"state\": \"New York\", \"sma7d\": 8.714}, {\"date\": \"2020-08-02T00:00:00\", \"totalTestResultsIncrease\": 58961.0, \"positiveIncrease\": 531.0, \"death\": 25170.0, \"deathIncrease\": 6.0, \"positiveRate\": 0.009, \"state\": \"New York\", \"sma7d\": 9.143}, {\"date\": \"2020-08-03T00:00:00\", \"totalTestResultsIncrease\": 51839.0, \"positiveIncrease\": 545.0, \"death\": 25172.0, \"deathIncrease\": 2.0, \"positiveRate\": 0.011, \"state\": \"New York\", \"sma7d\": 7.857}, {\"date\": \"2020-08-04T00:00:00\", \"totalTestResultsIncrease\": 70993.0, \"positiveIncrease\": 746.0, \"death\": 25175.0, \"deathIncrease\": 3.0, \"positiveRate\": 0.011, \"state\": \"New York\", \"sma7d\": 7.0}, {\"date\": \"2020-08-05T00:00:00\", \"totalTestResultsIncrease\": 72668.0, \"positiveIncrease\": 636.0, \"death\": 25179.0, \"deathIncrease\": 4.0, \"positiveRate\": 0.009, \"state\": \"New York\", \"sma7d\": 6.714}, {\"date\": \"2020-08-06T00:00:00\", \"totalTestResultsIncrease\": 72370.0, \"positiveIncrease\": 703.0, \"death\": 25185.0, \"deathIncrease\": 6.0, \"positiveRate\": 0.01, \"state\": \"New York\", \"sma7d\": 5.714}, {\"date\": \"2020-08-07T00:00:00\", \"totalTestResultsIncrease\": 70170.0, \"positiveIncrease\": 714.0, \"death\": 25190.0, \"deathIncrease\": 5.0, \"positiveRate\": 0.01, \"state\": \"New York\", \"sma7d\": 5.714}, {\"date\": \"2020-08-08T00:00:00\", \"totalTestResultsIncrease\": 74857.0, \"positiveIncrease\": 703.0, \"death\": 25195.0, \"deathIncrease\": 5.0, \"positiveRate\": 0.009, \"state\": \"New York\", \"sma7d\": 4.429}, {\"date\": \"2020-08-09T00:00:00\", \"totalTestResultsIncrease\": 65812.0, \"positiveIncrease\": 515.0, \"death\": 25202.0, \"deathIncrease\": 7.0, \"positiveRate\": 0.008, \"state\": \"New York\", \"sma7d\": 4.571}, {\"date\": \"2020-08-10T00:00:00\", \"totalTestResultsIncrease\": 54002.0, \"positiveIncrease\": 476.0, \"death\": 25204.0, \"deathIncrease\": 2.0, \"positiveRate\": 0.009, \"state\": \"New York\", \"sma7d\": 4.571}, {\"date\": \"2020-08-11T00:00:00\", \"totalTestResultsIncrease\": 77059.0, \"positiveIncrease\": 667.0, \"death\": 25211.0, \"deathIncrease\": 7.0, \"positiveRate\": 0.009, \"state\": \"New York\", \"sma7d\": 5.143}, {\"date\": \"2020-08-12T00:00:00\", \"totalTestResultsIncrease\": 87776.0, \"positiveIncrease\": 700.0, \"death\": 25218.0, \"deathIncrease\": 7.0, \"positiveRate\": 0.008, \"state\": \"New York\", \"sma7d\": 5.571}, {\"date\": \"2020-08-13T00:00:00\", \"totalTestResultsIncrease\": 87900.0, \"positiveIncrease\": 737.0, \"death\": 25228.0, \"deathIncrease\": 10.0, \"positiveRate\": 0.008, \"state\": \"New York\", \"sma7d\": 6.143}, {\"date\": \"2020-08-14T00:00:00\", \"totalTestResultsIncrease\": 85455.0, \"positiveIncrease\": 727.0, \"death\": 25232.0, \"deathIncrease\": 4.0, \"positiveRate\": 0.009, \"state\": \"New York\", \"sma7d\": 6.0}, {\"date\": \"2020-08-15T00:00:00\", \"totalTestResultsIncrease\": 88668.0, \"positiveIncrease\": 734.0, \"death\": 25244.0, \"deathIncrease\": 12.0, \"positiveRate\": 0.008, \"state\": \"New York\", \"sma7d\": 7.0}, {\"date\": \"2020-08-16T00:00:00\", \"totalTestResultsIncrease\": 77692.0, \"positiveIncrease\": 607.0, \"death\": 25250.0, \"deathIncrease\": 6.0, \"positiveRate\": 0.008, \"state\": \"New York\", \"sma7d\": 6.857}, {\"date\": \"2020-08-17T00:00:00\", \"totalTestResultsIncrease\": 56891.0, \"positiveIncrease\": 408.0, \"death\": 25256.0, \"deathIncrease\": 6.0, \"positiveRate\": 0.007, \"state\": \"New York\", \"sma7d\": 7.429}, {\"date\": \"2020-08-18T00:00:00\", \"totalTestResultsIncrease\": 66891.0, \"positiveIncrease\": 655.0, \"death\": 25264.0, \"deathIncrease\": 8.0, \"positiveRate\": 0.01, \"state\": \"New York\", \"sma7d\": 7.571}, {\"date\": \"2020-08-19T00:00:00\", \"totalTestResultsIncrease\": 80425.0, \"positiveIncrease\": 631.0, \"death\": 25270.0, \"deathIncrease\": 6.0, \"positiveRate\": 0.008, \"state\": \"New York\", \"sma7d\": 7.429}, {\"date\": \"2020-08-20T00:00:00\", \"totalTestResultsIncrease\": 80984.0, \"positiveIncrease\": 601.0, \"death\": 25275.0, \"deathIncrease\": 5.0, \"positiveRate\": 0.007, \"state\": \"New York\", \"sma7d\": 6.714}, {\"date\": \"2020-08-21T00:00:00\", \"totalTestResultsIncrease\": 98880.0, \"positiveIncrease\": 709.0, \"death\": 25278.0, \"deathIncrease\": 3.0, \"positiveRate\": 0.007, \"state\": \"New York\", \"sma7d\": 6.571}, {\"date\": \"2020-08-22T00:00:00\", \"totalTestResultsIncrease\": 94849.0, \"positiveIncrease\": 653.0, \"death\": 25282.0, \"deathIncrease\": 4.0, \"positiveRate\": 0.007, \"state\": \"New York\", \"sma7d\": 5.429}, {\"date\": \"2020-08-23T00:00:00\", \"totalTestResultsIncrease\": 74043.0, \"positiveIncrease\": 572.0, \"death\": 25288.0, \"deathIncrease\": 6.0, \"positiveRate\": 0.008, \"state\": \"New York\", \"sma7d\": 5.429}, {\"date\": \"2020-08-24T00:00:00\", \"totalTestResultsIncrease\": 62031.0, \"positiveIncrease\": 408.0, \"death\": 25295.0, \"deathIncrease\": 7.0, \"positiveRate\": 0.007, \"state\": \"New York\", \"sma7d\": 5.571}, {\"date\": \"2020-08-25T00:00:00\", \"totalTestResultsIncrease\": 67255.0, \"positiveIncrease\": 629.0, \"death\": 25297.0, \"deathIncrease\": 2.0, \"positiveRate\": 0.009, \"state\": \"New York\", \"sma7d\": 4.714}]}}, {\"mode\": \"vega-lite\"});\n",
       "</script>"
      ],
      "text/plain": [
       "alt.LayerChart(...)"
      ]
     },
     "execution_count": 13,
     "metadata": {},
     "output_type": "execute_result"
    }
   ],
   "source": [
    "create_plot(ny, 'deathIncrease')"
   ]
  },
  {
   "cell_type": "markdown",
   "metadata": {
    "papermill": {
     "duration": 0.014206,
     "end_time": "2020-08-26T22:33:23.014546",
     "exception": false,
     "start_time": "2020-08-26T22:33:23.000340",
     "status": "completed"
    },
    "tags": []
   },
   "source": [
    "## Non Tri-State"
   ]
  },
  {
   "cell_type": "code",
   "execution_count": 14,
   "metadata": {
    "execution": {
     "iopub.execute_input": "2020-08-26T22:33:23.048023Z",
     "iopub.status.busy": "2020-08-26T22:33:23.047494Z",
     "iopub.status.idle": "2020-08-26T22:33:23.255295Z",
     "shell.execute_reply": "2020-08-26T22:33:23.254269Z"
    },
    "papermill": {
     "duration": 0.225885,
     "end_time": "2020-08-26T22:33:23.255432",
     "exception": false,
     "start_time": "2020-08-26T22:33:23.029547",
     "status": "completed"
    },
    "tags": []
   },
   "outputs": [],
   "source": [
    "non_tristate = create_df(df, lambda d: ~d['state'].isin(['CT','NJ','NY']), 'Non Tri-State')"
   ]
  },
  {
   "cell_type": "code",
   "execution_count": 15,
   "metadata": {
    "execution": {
     "iopub.execute_input": "2020-08-26T22:33:23.315671Z",
     "iopub.status.busy": "2020-08-26T22:33:23.300116Z",
     "iopub.status.idle": "2020-08-26T22:33:23.367082Z",
     "shell.execute_reply": "2020-08-26T22:33:23.366687Z"
    },
    "papermill": {
     "duration": 0.096976,
     "end_time": "2020-08-26T22:33:23.367185",
     "exception": false,
     "start_time": "2020-08-26T22:33:23.270209",
     "status": "completed"
    },
    "tags": []
   },
   "outputs": [
    {
     "data": {
      "text/html": [
       "\n",
       "<div id=\"altair-viz-c559575880f74da994794797a6648ee6\"></div>\n",
       "<script type=\"text/javascript\">\n",
       "  (function(spec, embedOpt){\n",
       "    let outputDiv = document.currentScript.previousElementSibling;\n",
       "    if (outputDiv.id !== \"altair-viz-c559575880f74da994794797a6648ee6\") {\n",
       "      outputDiv = document.getElementById(\"altair-viz-c559575880f74da994794797a6648ee6\");\n",
       "    }\n",
       "    const paths = {\n",
       "      \"vega\": \"https://cdn.jsdelivr.net/npm//vega@5?noext\",\n",
       "      \"vega-lib\": \"https://cdn.jsdelivr.net/npm//vega-lib?noext\",\n",
       "      \"vega-lite\": \"https://cdn.jsdelivr.net/npm//vega-lite@4.8.1?noext\",\n",
       "      \"vega-embed\": \"https://cdn.jsdelivr.net/npm//vega-embed@6?noext\",\n",
       "    };\n",
       "\n",
       "    function loadScript(lib) {\n",
       "      return new Promise(function(resolve, reject) {\n",
       "        var s = document.createElement('script');\n",
       "        s.src = paths[lib];\n",
       "        s.async = true;\n",
       "        s.onload = () => resolve(paths[lib]);\n",
       "        s.onerror = () => reject(`Error loading script: ${paths[lib]}`);\n",
       "        document.getElementsByTagName(\"head\")[0].appendChild(s);\n",
       "      });\n",
       "    }\n",
       "\n",
       "    function showError(err) {\n",
       "      outputDiv.innerHTML = `<div class=\"error\" style=\"color:red;\">${err}</div>`;\n",
       "      throw err;\n",
       "    }\n",
       "\n",
       "    function displayChart(vegaEmbed) {\n",
       "      vegaEmbed(outputDiv, spec, embedOpt)\n",
       "        .catch(err => showError(`Javascript Error: ${err.message}<br>This usually means there's a typo in your chart specification. See the javascript console for the full traceback.`));\n",
       "    }\n",
       "\n",
       "    if(typeof define === \"function\" && define.amd) {\n",
       "      requirejs.config({paths});\n",
       "      require([\"vega-embed\"], displayChart, err => showError(`Error loading script: ${err.message}`));\n",
       "    } else if (typeof vegaEmbed === \"function\") {\n",
       "      displayChart(vegaEmbed);\n",
       "    } else {\n",
       "      loadScript(\"vega\")\n",
       "        .then(() => loadScript(\"vega-lite\"))\n",
       "        .then(() => loadScript(\"vega-embed\"))\n",
       "        .catch(showError)\n",
       "        .then(() => displayChart(vegaEmbed));\n",
       "    }\n",
       "  })({\"config\": {\"view\": {\"continuousWidth\": 400, \"continuousHeight\": 300}}, \"layer\": [{\"layer\": [{\"mark\": {\"type\": \"point\", \"size\": 75}, \"encoding\": {\"tooltip\": [{\"type\": \"temporal\", \"field\": \"date\"}, {\"type\": \"quantitative\", \"field\": \"positiveIncrease\"}, {\"type\": \"quantitative\", \"field\": \"sma7d\"}], \"x\": {\"type\": \"temporal\", \"field\": \"date\"}, \"y\": {\"type\": \"quantitative\", \"field\": \"positiveIncrease\"}}, \"selection\": {\"selector014\": {\"type\": \"interval\", \"bind\": \"scales\", \"encodings\": [\"x\", \"y\"]}}}, {\"mark\": {\"type\": \"line\", \"color\": \"purple\"}, \"encoding\": {\"x\": {\"type\": \"temporal\", \"field\": \"date\"}, \"y\": {\"type\": \"quantitative\", \"field\": \"sma7d\"}}}]}, {\"mark\": {\"type\": \"rule\", \"color\": \"#aaa\"}, \"encoding\": {\"x\": {\"type\": \"temporal\", \"field\": \"date\"}}, \"transform\": [{\"filter\": {\"selection\": \"selector013\"}}]}, {\"mark\": \"circle\", \"encoding\": {\"opacity\": {\"condition\": {\"value\": 1, \"selection\": \"selector013\"}, \"value\": 0}, \"tooltip\": [{\"type\": \"temporal\", \"field\": \"date\"}, {\"type\": \"quantitative\", \"field\": \"positiveIncrease\"}, {\"type\": \"quantitative\", \"field\": \"sma7d\"}], \"x\": {\"type\": \"temporal\", \"field\": \"date\"}, \"y\": {\"type\": \"quantitative\", \"field\": \"positiveIncrease\"}}, \"selection\": {\"selector013\": {\"type\": \"single\", \"encodings\": [\"x\"], \"on\": \"mouseover\", \"nearest\": true, \"empty\": \"none\"}}}, {\"mark\": {\"type\": \"text\", \"align\": \"left\", \"dx\": 5, \"dy\": -5, \"stroke\": \"white\", \"strokeWidth\": 2}, \"encoding\": {\"text\": {\"type\": \"quantitative\", \"field\": \"positiveIncrease\"}, \"tooltip\": [{\"type\": \"temporal\", \"field\": \"date\"}, {\"type\": \"quantitative\", \"field\": \"positiveIncrease\"}, {\"type\": \"quantitative\", \"field\": \"sma7d\"}], \"x\": {\"type\": \"temporal\", \"field\": \"date\"}, \"y\": {\"type\": \"quantitative\", \"field\": \"positiveIncrease\"}}, \"transform\": [{\"filter\": {\"selection\": \"selector013\"}}]}, {\"mark\": {\"type\": \"text\", \"align\": \"left\", \"dx\": 5, \"dy\": -5}, \"encoding\": {\"text\": {\"type\": \"quantitative\", \"field\": \"positiveIncrease\"}, \"tooltip\": [{\"type\": \"temporal\", \"field\": \"date\"}, {\"type\": \"quantitative\", \"field\": \"positiveIncrease\"}, {\"type\": \"quantitative\", \"field\": \"sma7d\"}], \"x\": {\"type\": \"temporal\", \"field\": \"date\"}, \"y\": {\"type\": \"quantitative\", \"field\": \"positiveIncrease\"}}, \"transform\": [{\"filter\": {\"selection\": \"selector013\"}}]}], \"data\": {\"name\": \"data-debfe02d53c1c946aa39bd51ad657491\"}, \"height\": 400, \"title\": \"Non Tri-State: positiveIncrease\", \"width\": 500, \"$schema\": \"https://vega.github.io/schema/vega-lite/v4.8.1.json\", \"datasets\": {\"data-debfe02d53c1c946aa39bd51ad657491\": [{\"date\": \"2020-07-02T00:00:00\", \"totalTestResultsIncrease\": 565655.0, \"positiveIncrease\": 52707.0, \"death\": 77240.0, \"deathIncrease\": 655.0, \"positiveRate\": 0.093, \"state\": \"Non Tri-State\", \"sma7d\": 45041.0}, {\"date\": \"2020-07-03T00:00:00\", \"totalTestResultsIncrease\": 623893.0, \"positiveIncrease\": 52575.0, \"death\": 77763.0, \"deathIncrease\": 523.0, \"positiveRate\": 0.084, \"state\": \"Non Tri-State\", \"sma7d\": 46368.143}, {\"date\": \"2020-07-04T00:00:00\", \"totalTestResultsIncrease\": 549977.0, \"positiveIncrease\": 53321.0, \"death\": 78033.0, \"deathIncrease\": 270.0, \"positiveRate\": 0.097, \"state\": \"Non Tri-State\", \"sma7d\": 47893.286}, {\"date\": \"2020-07-05T00:00:00\", \"totalTestResultsIncrease\": 567613.0, \"positiveIncrease\": 44711.0, \"death\": 78212.0, \"deathIncrease\": 179.0, \"positiveRate\": 0.079, \"state\": \"Non Tri-State\", \"sma7d\": 48487.714}, {\"date\": \"2020-07-06T00:00:00\", \"totalTestResultsIncrease\": 441890.0, \"positiveIncrease\": 40932.0, \"death\": 78424.0, \"deathIncrease\": 212.0, \"positiveRate\": 0.093, \"state\": \"Non Tri-State\", \"sma7d\": 48725.0}, {\"date\": \"2020-07-07T00:00:00\", \"totalTestResultsIncrease\": 563841.0, \"positiveIncrease\": 50814.0, \"death\": 79283.0, \"deathIncrease\": 859.0, \"positiveRate\": 0.09, \"state\": \"Non Tri-State\", \"sma7d\": 49299.571}, {\"date\": \"2020-07-08T00:00:00\", \"totalTestResultsIncrease\": 560024.0, \"positiveIncrease\": 61744.0, \"death\": 80013.0, \"deathIncrease\": 730.0, \"positiveRate\": 0.11, \"state\": \"Non Tri-State\", \"sma7d\": 50972.0}, {\"date\": \"2020-07-09T00:00:00\", \"totalTestResultsIncrease\": 609541.0, \"positiveIncrease\": 58271.0, \"death\": 80835.0, \"deathIncrease\": 822.0, \"positiveRate\": 0.096, \"state\": \"Non Tri-State\", \"sma7d\": 51766.857}, {\"date\": \"2020-07-10T00:00:00\", \"totalTestResultsIncrease\": 717580.0, \"positiveIncrease\": 65594.0, \"death\": 81649.0, \"deathIncrease\": 814.0, \"positiveRate\": 0.091, \"state\": \"Non Tri-State\", \"sma7d\": 53626.714}, {\"date\": \"2020-07-11T00:00:00\", \"totalTestResultsIncrease\": 600556.0, \"positiveIncrease\": 61835.0, \"death\": 82354.0, \"deathIncrease\": 705.0, \"positiveRate\": 0.103, \"state\": \"Non Tri-State\", \"sma7d\": 54843.0}, {\"date\": \"2020-07-12T00:00:00\", \"totalTestResultsIncrease\": 651704.0, \"positiveIncrease\": 60296.0, \"death\": 82809.0, \"deathIncrease\": 455.0, \"positiveRate\": 0.093, \"state\": \"Non Tri-State\", \"sma7d\": 57069.429}, {\"date\": \"2020-07-13T00:00:00\", \"totalTestResultsIncrease\": 622824.0, \"positiveIncrease\": 57093.0, \"death\": 83084.0, \"deathIncrease\": 275.0, \"positiveRate\": 0.092, \"state\": \"Non Tri-State\", \"sma7d\": 59378.143}, {\"date\": \"2020-07-14T00:00:00\", \"totalTestResultsIncrease\": 676963.0, \"positiveIncrease\": 61401.0, \"death\": 83792.0, \"deathIncrease\": 708.0, \"positiveRate\": 0.091, \"state\": \"Non Tri-State\", \"sma7d\": 60890.571}, {\"date\": \"2020-07-15T00:00:00\", \"totalTestResultsIncrease\": 676996.0, \"positiveIncrease\": 64497.0, \"death\": 84608.0, \"deathIncrease\": 816.0, \"positiveRate\": 0.095, \"state\": \"Non Tri-State\", \"sma7d\": 61283.857}, {\"date\": \"2020-07-16T00:00:00\", \"totalTestResultsIncrease\": 727763.0, \"positiveIncrease\": 69930.0, \"death\": 85504.0, \"deathIncrease\": 896.0, \"positiveRate\": 0.096, \"state\": \"Non Tri-State\", \"sma7d\": 62949.429}, {\"date\": \"2020-07-17T00:00:00\", \"totalTestResultsIncrease\": 751979.0, \"positiveIncrease\": 75875.0, \"death\": 86419.0, \"deathIncrease\": 915.0, \"positiveRate\": 0.101, \"state\": \"Non Tri-State\", \"sma7d\": 64418.143}, {\"date\": \"2020-07-18T00:00:00\", \"totalTestResultsIncrease\": 681402.0, \"positiveIncrease\": 63933.0, \"death\": 87265.0, \"deathIncrease\": 846.0, \"positiveRate\": 0.094, \"state\": \"Non Tri-State\", \"sma7d\": 64717.857}, {\"date\": \"2020-07-19T00:00:00\", \"totalTestResultsIncrease\": 703644.0, \"positiveIncrease\": 63788.0, \"death\": 87771.0, \"deathIncrease\": 506.0, \"positiveRate\": 0.091, \"state\": \"Non Tri-State\", \"sma7d\": 65216.714}, {\"date\": \"2020-07-20T00:00:00\", \"totalTestResultsIncrease\": 645683.0, \"positiveIncrease\": 56180.0, \"death\": 88106.0, \"deathIncrease\": 335.0, \"positiveRate\": 0.087, \"state\": \"Non Tri-State\", \"sma7d\": 65086.286}, {\"date\": \"2020-07-21T00:00:00\", \"totalTestResultsIncrease\": 673575.0, \"positiveIncrease\": 62740.0, \"death\": 89120.0, \"deathIncrease\": 1014.0, \"positiveRate\": 0.093, \"state\": \"Non Tri-State\", \"sma7d\": 65277.571}, {\"date\": \"2020-07-22T00:00:00\", \"totalTestResultsIncrease\": 699433.0, \"positiveIncrease\": 68113.0, \"death\": 90257.0, \"deathIncrease\": 1137.0, \"positiveRate\": 0.097, \"state\": \"Non Tri-State\", \"sma7d\": 65794.143}, {\"date\": \"2020-07-23T00:00:00\", \"totalTestResultsIncrease\": 743977.0, \"positiveIncrease\": 70491.0, \"death\": 91272.0, \"deathIncrease\": 1015.0, \"positiveRate\": 0.095, \"state\": \"Non Tri-State\", \"sma7d\": 65874.286}, {\"date\": \"2020-07-24T00:00:00\", \"totalTestResultsIncrease\": 803934.0, \"positiveIncrease\": 73480.0, \"death\": 92401.0, \"deathIncrease\": 1129.0, \"positiveRate\": 0.091, \"state\": \"Non Tri-State\", \"sma7d\": 65532.143}, {\"date\": \"2020-07-25T00:00:00\", \"totalTestResultsIncrease\": 719029.0, \"positiveIncrease\": 63479.0, \"death\": 93400.0, \"deathIncrease\": 999.0, \"positiveRate\": 0.088, \"state\": \"Non Tri-State\", \"sma7d\": 65467.286}, {\"date\": \"2020-07-26T00:00:00\", \"totalTestResultsIncrease\": 732363.0, \"positiveIncrease\": 59968.0, \"death\": 93944.0, \"deathIncrease\": 544.0, \"positiveRate\": 0.082, \"state\": \"Non Tri-State\", \"sma7d\": 64921.571}, {\"date\": \"2020-07-27T00:00:00\", \"totalTestResultsIncrease\": 642905.0, \"positiveIncrease\": 54057.0, \"death\": 94970.0, \"deathIncrease\": 1026.0, \"positiveRate\": 0.084, \"state\": \"Non Tri-State\", \"sma7d\": 64618.286}, {\"date\": \"2020-07-28T00:00:00\", \"totalTestResultsIncrease\": 672582.0, \"positiveIncrease\": 55341.0, \"death\": 96056.0, \"deathIncrease\": 1086.0, \"positiveRate\": 0.082, \"state\": \"Non Tri-State\", \"sma7d\": 63561.286}, {\"date\": \"2020-07-29T00:00:00\", \"totalTestResultsIncrease\": 730739.0, \"positiveIncrease\": 65311.0, \"death\": 97522.0, \"deathIncrease\": 1466.0, \"positiveRate\": 0.089, \"state\": \"Non Tri-State\", \"sma7d\": 63161.0}, {\"date\": \"2020-07-30T00:00:00\", \"totalTestResultsIncrease\": 711279.0, \"positiveIncrease\": 68308.0, \"death\": 98751.0, \"deathIncrease\": 1229.0, \"positiveRate\": 0.096, \"state\": \"Non Tri-State\", \"sma7d\": 62849.143}, {\"date\": \"2020-07-31T00:00:00\", \"totalTestResultsIncrease\": 610987.0, \"positiveIncrease\": 66150.0, \"death\": 100046.0, \"deathIncrease\": 1295.0, \"positiveRate\": 0.108, \"state\": \"Non Tri-State\", \"sma7d\": 61802.0}, {\"date\": \"2020-08-01T00:00:00\", \"totalTestResultsIncrease\": 662561.0, \"positiveIncrease\": 59980.0, \"death\": 101210.0, \"deathIncrease\": 1164.0, \"positiveRate\": 0.091, \"state\": \"Non Tri-State\", \"sma7d\": 61302.143}, {\"date\": \"2020-08-02T00:00:00\", \"totalTestResultsIncrease\": 591335.0, \"positiveIncrease\": 45904.0, \"death\": 101696.0, \"deathIncrease\": 486.0, \"positiveRate\": 0.078, \"state\": \"Non Tri-State\", \"sma7d\": 59293.0}, {\"date\": \"2020-08-03T00:00:00\", \"totalTestResultsIncrease\": 639394.0, \"positiveIncrease\": 48708.0, \"death\": 102198.0, \"deathIncrease\": 502.0, \"positiveRate\": 0.076, \"state\": \"Non Tri-State\", \"sma7d\": 58528.857}, {\"date\": \"2020-08-04T00:00:00\", \"totalTestResultsIncrease\": 638627.0, \"positiveIncrease\": 50715.0, \"death\": 103439.0, \"deathIncrease\": 1241.0, \"positiveRate\": 0.079, \"state\": \"Non Tri-State\", \"sma7d\": 57868.0}, {\"date\": \"2020-08-05T00:00:00\", \"totalTestResultsIncrease\": 592971.0, \"positiveIncrease\": 51218.0, \"death\": 104774.0, \"deathIncrease\": 1335.0, \"positiveRate\": 0.086, \"state\": \"Non Tri-State\", \"sma7d\": 55854.714}, {\"date\": \"2020-08-06T00:00:00\", \"totalTestResultsIncrease\": 642013.0, \"positiveIncrease\": 53088.0, \"death\": 106012.0, \"deathIncrease\": 1238.0, \"positiveRate\": 0.083, \"state\": \"Non Tri-State\", \"sma7d\": 53680.429}, {\"date\": \"2020-08-07T00:00:00\", \"totalTestResultsIncrease\": 685128.0, \"positiveIncrease\": 60197.0, \"death\": 107325.0, \"deathIncrease\": 1313.0, \"positiveRate\": 0.088, \"state\": \"Non Tri-State\", \"sma7d\": 52830.0}, {\"date\": \"2020-08-08T00:00:00\", \"totalTestResultsIncrease\": 608500.0, \"positiveIncrease\": 52642.0, \"death\": 108400.0, \"deathIncrease\": 1075.0, \"positiveRate\": 0.087, \"state\": \"Non Tri-State\", \"sma7d\": 51781.714}, {\"date\": \"2020-08-09T00:00:00\", \"totalTestResultsIncrease\": 609168.0, \"positiveIncrease\": 49765.0, \"death\": 109004.0, \"deathIncrease\": 604.0, \"positiveRate\": 0.082, \"state\": \"Non Tri-State\", \"sma7d\": 52333.286}, {\"date\": \"2020-08-10T00:00:00\", \"totalTestResultsIncrease\": 626428.0, \"positiveIncrease\": 41108.0, \"death\": 109421.0, \"deathIncrease\": 417.0, \"positiveRate\": 0.066, \"state\": \"Non Tri-State\", \"sma7d\": 51247.571}, {\"date\": \"2020-08-11T00:00:00\", \"totalTestResultsIncrease\": 648308.0, \"positiveIncrease\": 54474.0, \"death\": 110728.0, \"deathIncrease\": 1307.0, \"positiveRate\": 0.084, \"state\": \"Non Tri-State\", \"sma7d\": 51784.571}, {\"date\": \"2020-08-12T00:00:00\", \"totalTestResultsIncrease\": 378730.0, \"positiveIncrease\": 54947.0, \"death\": 112223.0, \"deathIncrease\": 1495.0, \"positiveRate\": 0.145, \"state\": \"Non Tri-State\", \"sma7d\": 52317.286}, {\"date\": \"2020-08-13T00:00:00\", \"totalTestResultsIncrease\": 776632.0, \"positiveIncrease\": 50291.0, \"death\": 113368.0, \"deathIncrease\": 1145.0, \"positiveRate\": 0.065, \"state\": \"Non Tri-State\", \"sma7d\": 51917.714}, {\"date\": \"2020-08-14T00:00:00\", \"totalTestResultsIncrease\": 740369.0, \"positiveIncrease\": 54223.0, \"death\": 114567.0, \"deathIncrease\": 1199.0, \"positiveRate\": 0.073, \"state\": \"Non Tri-State\", \"sma7d\": 51064.286}, {\"date\": \"2020-08-15T00:00:00\", \"totalTestResultsIncrease\": 636475.0, \"positiveIncrease\": 55136.0, \"death\": 115767.0, \"deathIncrease\": 1200.0, \"positiveRate\": 0.087, \"state\": \"Non Tri-State\", \"sma7d\": 51420.571}, {\"date\": \"2020-08-16T00:00:00\", \"totalTestResultsIncrease\": 683900.0, \"positiveIncrease\": 41867.0, \"death\": 116378.0, \"deathIncrease\": 611.0, \"positiveRate\": 0.061, \"state\": \"Non Tri-State\", \"sma7d\": 50292.286}, {\"date\": \"2020-08-17T00:00:00\", \"totalTestResultsIncrease\": 548007.0, \"positiveIncrease\": 36791.0, \"death\": 116772.0, \"deathIncrease\": 394.0, \"positiveRate\": 0.067, \"state\": \"Non Tri-State\", \"sma7d\": 49675.571}, {\"date\": \"2020-08-18T00:00:00\", \"totalTestResultsIncrease\": 564295.0, \"positiveIncrease\": 39822.0, \"death\": 117950.0, \"deathIncrease\": 1178.0, \"positiveRate\": 0.071, \"state\": \"Non Tri-State\", \"sma7d\": 47582.429}, {\"date\": \"2020-08-19T00:00:00\", \"totalTestResultsIncrease\": 558906.0, \"positiveIncrease\": 43934.0, \"death\": 119352.0, \"deathIncrease\": 1402.0, \"positiveRate\": 0.079, \"state\": \"Non Tri-State\", \"sma7d\": 46009.143}, {\"date\": \"2020-08-20T00:00:00\", \"totalTestResultsIncrease\": 582356.0, \"positiveIncrease\": 42939.0, \"death\": 120474.0, \"deathIncrease\": 1122.0, \"positiveRate\": 0.074, \"state\": \"Non Tri-State\", \"sma7d\": 44958.857}, {\"date\": \"2020-08-21T00:00:00\", \"totalTestResultsIncrease\": 622190.0, \"positiveIncrease\": 45476.0, \"death\": 121583.0, \"deathIncrease\": 1109.0, \"positiveRate\": 0.073, \"state\": \"Non Tri-State\", \"sma7d\": 43709.286}, {\"date\": \"2020-08-22T00:00:00\", \"totalTestResultsIncrease\": 645938.0, \"positiveIncrease\": 45170.0, \"death\": 122606.0, \"deathIncrease\": 1023.0, \"positiveRate\": 0.07, \"state\": \"Non Tri-State\", \"sma7d\": 42285.571}, {\"date\": \"2020-08-23T00:00:00\", \"totalTestResultsIncrease\": 555187.0, \"positiveIncrease\": 36737.0, \"death\": 123169.0, \"deathIncrease\": 563.0, \"positiveRate\": 0.066, \"state\": \"Non Tri-State\", \"sma7d\": 41552.714}, {\"date\": \"2020-08-24T00:00:00\", \"totalTestResultsIncrease\": 547049.0, \"positiveIncrease\": 33516.0, \"death\": 123502.0, \"deathIncrease\": 333.0, \"positiveRate\": 0.061, \"state\": \"Non Tri-State\", \"sma7d\": 41084.857}, {\"date\": \"2020-08-25T00:00:00\", \"totalTestResultsIncrease\": -653054.0, \"positiveIncrease\": -40946.0, \"death\": 124640.0, \"deathIncrease\": 1138.0, \"positiveRate\": 0.063, \"state\": \"Non Tri-State\", \"sma7d\": 29546.571}]}}, {\"mode\": \"vega-lite\"});\n",
       "</script>"
      ],
      "text/plain": [
       "alt.LayerChart(...)"
      ]
     },
     "execution_count": 15,
     "metadata": {},
     "output_type": "execute_result"
    }
   ],
   "source": [
    "create_plot(non_tristate, 'positiveIncrease')"
   ]
  },
  {
   "cell_type": "code",
   "execution_count": 16,
   "metadata": {
    "execution": {
     "iopub.execute_input": "2020-08-26T22:33:23.431012Z",
     "iopub.status.busy": "2020-08-26T22:33:23.420939Z",
     "iopub.status.idle": "2020-08-26T22:33:23.483896Z",
     "shell.execute_reply": "2020-08-26T22:33:23.484289Z"
    },
    "papermill": {
     "duration": 0.102954,
     "end_time": "2020-08-26T22:33:23.484422",
     "exception": false,
     "start_time": "2020-08-26T22:33:23.381468",
     "status": "completed"
    },
    "tags": []
   },
   "outputs": [
    {
     "data": {
      "text/html": [
       "\n",
       "<div id=\"altair-viz-74e6aeb67fdd4b8c978f9433b6d653a8\"></div>\n",
       "<script type=\"text/javascript\">\n",
       "  (function(spec, embedOpt){\n",
       "    let outputDiv = document.currentScript.previousElementSibling;\n",
       "    if (outputDiv.id !== \"altair-viz-74e6aeb67fdd4b8c978f9433b6d653a8\") {\n",
       "      outputDiv = document.getElementById(\"altair-viz-74e6aeb67fdd4b8c978f9433b6d653a8\");\n",
       "    }\n",
       "    const paths = {\n",
       "      \"vega\": \"https://cdn.jsdelivr.net/npm//vega@5?noext\",\n",
       "      \"vega-lib\": \"https://cdn.jsdelivr.net/npm//vega-lib?noext\",\n",
       "      \"vega-lite\": \"https://cdn.jsdelivr.net/npm//vega-lite@4.8.1?noext\",\n",
       "      \"vega-embed\": \"https://cdn.jsdelivr.net/npm//vega-embed@6?noext\",\n",
       "    };\n",
       "\n",
       "    function loadScript(lib) {\n",
       "      return new Promise(function(resolve, reject) {\n",
       "        var s = document.createElement('script');\n",
       "        s.src = paths[lib];\n",
       "        s.async = true;\n",
       "        s.onload = () => resolve(paths[lib]);\n",
       "        s.onerror = () => reject(`Error loading script: ${paths[lib]}`);\n",
       "        document.getElementsByTagName(\"head\")[0].appendChild(s);\n",
       "      });\n",
       "    }\n",
       "\n",
       "    function showError(err) {\n",
       "      outputDiv.innerHTML = `<div class=\"error\" style=\"color:red;\">${err}</div>`;\n",
       "      throw err;\n",
       "    }\n",
       "\n",
       "    function displayChart(vegaEmbed) {\n",
       "      vegaEmbed(outputDiv, spec, embedOpt)\n",
       "        .catch(err => showError(`Javascript Error: ${err.message}<br>This usually means there's a typo in your chart specification. See the javascript console for the full traceback.`));\n",
       "    }\n",
       "\n",
       "    if(typeof define === \"function\" && define.amd) {\n",
       "      requirejs.config({paths});\n",
       "      require([\"vega-embed\"], displayChart, err => showError(`Error loading script: ${err.message}`));\n",
       "    } else if (typeof vegaEmbed === \"function\") {\n",
       "      displayChart(vegaEmbed);\n",
       "    } else {\n",
       "      loadScript(\"vega\")\n",
       "        .then(() => loadScript(\"vega-lite\"))\n",
       "        .then(() => loadScript(\"vega-embed\"))\n",
       "        .catch(showError)\n",
       "        .then(() => displayChart(vegaEmbed));\n",
       "    }\n",
       "  })({\"config\": {\"view\": {\"continuousWidth\": 400, \"continuousHeight\": 300}}, \"layer\": [{\"layer\": [{\"mark\": {\"type\": \"point\", \"size\": 75}, \"encoding\": {\"tooltip\": [{\"type\": \"temporal\", \"field\": \"date\"}, {\"type\": \"quantitative\", \"field\": \"positiveRate\"}, {\"type\": \"quantitative\", \"field\": \"sma7d\"}], \"x\": {\"type\": \"temporal\", \"field\": \"date\"}, \"y\": {\"type\": \"quantitative\", \"field\": \"positiveRate\"}}, \"selection\": {\"selector016\": {\"type\": \"interval\", \"bind\": \"scales\", \"encodings\": [\"x\", \"y\"]}}}, {\"mark\": {\"type\": \"line\", \"color\": \"purple\"}, \"encoding\": {\"x\": {\"type\": \"temporal\", \"field\": \"date\"}, \"y\": {\"type\": \"quantitative\", \"field\": \"sma7d\"}}}]}, {\"mark\": {\"type\": \"rule\", \"color\": \"#aaa\"}, \"encoding\": {\"x\": {\"type\": \"temporal\", \"field\": \"date\"}}, \"transform\": [{\"filter\": {\"selection\": \"selector015\"}}]}, {\"mark\": \"circle\", \"encoding\": {\"opacity\": {\"condition\": {\"value\": 1, \"selection\": \"selector015\"}, \"value\": 0}, \"tooltip\": [{\"type\": \"temporal\", \"field\": \"date\"}, {\"type\": \"quantitative\", \"field\": \"positiveRate\"}, {\"type\": \"quantitative\", \"field\": \"sma7d\"}], \"x\": {\"type\": \"temporal\", \"field\": \"date\"}, \"y\": {\"type\": \"quantitative\", \"field\": \"positiveRate\"}}, \"selection\": {\"selector015\": {\"type\": \"single\", \"encodings\": [\"x\"], \"on\": \"mouseover\", \"nearest\": true, \"empty\": \"none\"}}}, {\"mark\": {\"type\": \"text\", \"align\": \"left\", \"dx\": 5, \"dy\": -5, \"stroke\": \"white\", \"strokeWidth\": 2}, \"encoding\": {\"text\": {\"type\": \"quantitative\", \"field\": \"positiveRate\"}, \"tooltip\": [{\"type\": \"temporal\", \"field\": \"date\"}, {\"type\": \"quantitative\", \"field\": \"positiveRate\"}, {\"type\": \"quantitative\", \"field\": \"sma7d\"}], \"x\": {\"type\": \"temporal\", \"field\": \"date\"}, \"y\": {\"type\": \"quantitative\", \"field\": \"positiveRate\"}}, \"transform\": [{\"filter\": {\"selection\": \"selector015\"}}]}, {\"mark\": {\"type\": \"text\", \"align\": \"left\", \"dx\": 5, \"dy\": -5}, \"encoding\": {\"text\": {\"type\": \"quantitative\", \"field\": \"positiveRate\"}, \"tooltip\": [{\"type\": \"temporal\", \"field\": \"date\"}, {\"type\": \"quantitative\", \"field\": \"positiveRate\"}, {\"type\": \"quantitative\", \"field\": \"sma7d\"}], \"x\": {\"type\": \"temporal\", \"field\": \"date\"}, \"y\": {\"type\": \"quantitative\", \"field\": \"positiveRate\"}}, \"transform\": [{\"filter\": {\"selection\": \"selector015\"}}]}], \"data\": {\"name\": \"data-002f7c62c51d19ecbebadb8bfb81b067\"}, \"height\": 400, \"title\": \"Non Tri-State: positiveRate\", \"width\": 500, \"$schema\": \"https://vega.github.io/schema/vega-lite/v4.8.1.json\", \"datasets\": {\"data-002f7c62c51d19ecbebadb8bfb81b067\": [{\"date\": \"2020-07-02T00:00:00\", \"totalTestResultsIncrease\": 565655.0, \"positiveIncrease\": 52707.0, \"death\": 77240.0, \"deathIncrease\": 655.0, \"positiveRate\": 0.093, \"state\": \"Non Tri-State\", \"sma7d\": 0.084}, {\"date\": \"2020-07-03T00:00:00\", \"totalTestResultsIncrease\": 623893.0, \"positiveIncrease\": 52575.0, \"death\": 77763.0, \"deathIncrease\": 523.0, \"positiveRate\": 0.084, \"state\": \"Non Tri-State\", \"sma7d\": 0.084}, {\"date\": \"2020-07-04T00:00:00\", \"totalTestResultsIncrease\": 549977.0, \"positiveIncrease\": 53321.0, \"death\": 78033.0, \"deathIncrease\": 270.0, \"positiveRate\": 0.097, \"state\": \"Non Tri-State\", \"sma7d\": 0.086}, {\"date\": \"2020-07-05T00:00:00\", \"totalTestResultsIncrease\": 567613.0, \"positiveIncrease\": 44711.0, \"death\": 78212.0, \"deathIncrease\": 179.0, \"positiveRate\": 0.079, \"state\": \"Non Tri-State\", \"sma7d\": 0.085}, {\"date\": \"2020-07-06T00:00:00\", \"totalTestResultsIncrease\": 441890.0, \"positiveIncrease\": 40932.0, \"death\": 78424.0, \"deathIncrease\": 212.0, \"positiveRate\": 0.093, \"state\": \"Non Tri-State\", \"sma7d\": 0.089}, {\"date\": \"2020-07-07T00:00:00\", \"totalTestResultsIncrease\": 563841.0, \"positiveIncrease\": 50814.0, \"death\": 79283.0, \"deathIncrease\": 859.0, \"positiveRate\": 0.09, \"state\": \"Non Tri-State\", \"sma7d\": 0.089}, {\"date\": \"2020-07-08T00:00:00\", \"totalTestResultsIncrease\": 560024.0, \"positiveIncrease\": 61744.0, \"death\": 80013.0, \"deathIncrease\": 730.0, \"positiveRate\": 0.11, \"state\": \"Non Tri-State\", \"sma7d\": 0.092}, {\"date\": \"2020-07-09T00:00:00\", \"totalTestResultsIncrease\": 609541.0, \"positiveIncrease\": 58271.0, \"death\": 80835.0, \"deathIncrease\": 822.0, \"positiveRate\": 0.096, \"state\": \"Non Tri-State\", \"sma7d\": 0.093}, {\"date\": \"2020-07-10T00:00:00\", \"totalTestResultsIncrease\": 717580.0, \"positiveIncrease\": 65594.0, \"death\": 81649.0, \"deathIncrease\": 814.0, \"positiveRate\": 0.091, \"state\": \"Non Tri-State\", \"sma7d\": 0.094}, {\"date\": \"2020-07-11T00:00:00\", \"totalTestResultsIncrease\": 600556.0, \"positiveIncrease\": 61835.0, \"death\": 82354.0, \"deathIncrease\": 705.0, \"positiveRate\": 0.103, \"state\": \"Non Tri-State\", \"sma7d\": 0.095}, {\"date\": \"2020-07-12T00:00:00\", \"totalTestResultsIncrease\": 651704.0, \"positiveIncrease\": 60296.0, \"death\": 82809.0, \"deathIncrease\": 455.0, \"positiveRate\": 0.093, \"state\": \"Non Tri-State\", \"sma7d\": 0.097}, {\"date\": \"2020-07-13T00:00:00\", \"totalTestResultsIncrease\": 622824.0, \"positiveIncrease\": 57093.0, \"death\": 83084.0, \"deathIncrease\": 275.0, \"positiveRate\": 0.092, \"state\": \"Non Tri-State\", \"sma7d\": 0.096}, {\"date\": \"2020-07-14T00:00:00\", \"totalTestResultsIncrease\": 676963.0, \"positiveIncrease\": 61401.0, \"death\": 83792.0, \"deathIncrease\": 708.0, \"positiveRate\": 0.091, \"state\": \"Non Tri-State\", \"sma7d\": 0.097}, {\"date\": \"2020-07-15T00:00:00\", \"totalTestResultsIncrease\": 676996.0, \"positiveIncrease\": 64497.0, \"death\": 84608.0, \"deathIncrease\": 816.0, \"positiveRate\": 0.095, \"state\": \"Non Tri-State\", \"sma7d\": 0.094}, {\"date\": \"2020-07-16T00:00:00\", \"totalTestResultsIncrease\": 727763.0, \"positiveIncrease\": 69930.0, \"death\": 85504.0, \"deathIncrease\": 896.0, \"positiveRate\": 0.096, \"state\": \"Non Tri-State\", \"sma7d\": 0.094}, {\"date\": \"2020-07-17T00:00:00\", \"totalTestResultsIncrease\": 751979.0, \"positiveIncrease\": 75875.0, \"death\": 86419.0, \"deathIncrease\": 915.0, \"positiveRate\": 0.101, \"state\": \"Non Tri-State\", \"sma7d\": 0.096}, {\"date\": \"2020-07-18T00:00:00\", \"totalTestResultsIncrease\": 681402.0, \"positiveIncrease\": 63933.0, \"death\": 87265.0, \"deathIncrease\": 846.0, \"positiveRate\": 0.094, \"state\": \"Non Tri-State\", \"sma7d\": 0.095}, {\"date\": \"2020-07-19T00:00:00\", \"totalTestResultsIncrease\": 703644.0, \"positiveIncrease\": 63788.0, \"death\": 87771.0, \"deathIncrease\": 506.0, \"positiveRate\": 0.091, \"state\": \"Non Tri-State\", \"sma7d\": 0.094}, {\"date\": \"2020-07-20T00:00:00\", \"totalTestResultsIncrease\": 645683.0, \"positiveIncrease\": 56180.0, \"death\": 88106.0, \"deathIncrease\": 335.0, \"positiveRate\": 0.087, \"state\": \"Non Tri-State\", \"sma7d\": 0.094}, {\"date\": \"2020-07-21T00:00:00\", \"totalTestResultsIncrease\": 673575.0, \"positiveIncrease\": 62740.0, \"death\": 89120.0, \"deathIncrease\": 1014.0, \"positiveRate\": 0.093, \"state\": \"Non Tri-State\", \"sma7d\": 0.094}, {\"date\": \"2020-07-22T00:00:00\", \"totalTestResultsIncrease\": 699433.0, \"positiveIncrease\": 68113.0, \"death\": 90257.0, \"deathIncrease\": 1137.0, \"positiveRate\": 0.097, \"state\": \"Non Tri-State\", \"sma7d\": 0.094}, {\"date\": \"2020-07-23T00:00:00\", \"totalTestResultsIncrease\": 743977.0, \"positiveIncrease\": 70491.0, \"death\": 91272.0, \"deathIncrease\": 1015.0, \"positiveRate\": 0.095, \"state\": \"Non Tri-State\", \"sma7d\": 0.094}, {\"date\": \"2020-07-24T00:00:00\", \"totalTestResultsIncrease\": 803934.0, \"positiveIncrease\": 73480.0, \"death\": 92401.0, \"deathIncrease\": 1129.0, \"positiveRate\": 0.091, \"state\": \"Non Tri-State\", \"sma7d\": 0.093}, {\"date\": \"2020-07-25T00:00:00\", \"totalTestResultsIncrease\": 719029.0, \"positiveIncrease\": 63479.0, \"death\": 93400.0, \"deathIncrease\": 999.0, \"positiveRate\": 0.088, \"state\": \"Non Tri-State\", \"sma7d\": 0.092}, {\"date\": \"2020-07-26T00:00:00\", \"totalTestResultsIncrease\": 732363.0, \"positiveIncrease\": 59968.0, \"death\": 93944.0, \"deathIncrease\": 544.0, \"positiveRate\": 0.082, \"state\": \"Non Tri-State\", \"sma7d\": 0.09}, {\"date\": \"2020-07-27T00:00:00\", \"totalTestResultsIncrease\": 642905.0, \"positiveIncrease\": 54057.0, \"death\": 94970.0, \"deathIncrease\": 1026.0, \"positiveRate\": 0.084, \"state\": \"Non Tri-State\", \"sma7d\": 0.09}, {\"date\": \"2020-07-28T00:00:00\", \"totalTestResultsIncrease\": 672582.0, \"positiveIncrease\": 55341.0, \"death\": 96056.0, \"deathIncrease\": 1086.0, \"positiveRate\": 0.082, \"state\": \"Non Tri-State\", \"sma7d\": 0.088}, {\"date\": \"2020-07-29T00:00:00\", \"totalTestResultsIncrease\": 730739.0, \"positiveIncrease\": 65311.0, \"death\": 97522.0, \"deathIncrease\": 1466.0, \"positiveRate\": 0.089, \"state\": \"Non Tri-State\", \"sma7d\": 0.087}, {\"date\": \"2020-07-30T00:00:00\", \"totalTestResultsIncrease\": 711279.0, \"positiveIncrease\": 68308.0, \"death\": 98751.0, \"deathIncrease\": 1229.0, \"positiveRate\": 0.096, \"state\": \"Non Tri-State\", \"sma7d\": 0.087}, {\"date\": \"2020-07-31T00:00:00\", \"totalTestResultsIncrease\": 610987.0, \"positiveIncrease\": 66150.0, \"death\": 100046.0, \"deathIncrease\": 1295.0, \"positiveRate\": 0.108, \"state\": \"Non Tri-State\", \"sma7d\": 0.09}, {\"date\": \"2020-08-01T00:00:00\", \"totalTestResultsIncrease\": 662561.0, \"positiveIncrease\": 59980.0, \"death\": 101210.0, \"deathIncrease\": 1164.0, \"positiveRate\": 0.091, \"state\": \"Non Tri-State\", \"sma7d\": 0.09}, {\"date\": \"2020-08-02T00:00:00\", \"totalTestResultsIncrease\": 591335.0, \"positiveIncrease\": 45904.0, \"death\": 101696.0, \"deathIncrease\": 486.0, \"positiveRate\": 0.078, \"state\": \"Non Tri-State\", \"sma7d\": 0.09}, {\"date\": \"2020-08-03T00:00:00\", \"totalTestResultsIncrease\": 639394.0, \"positiveIncrease\": 48708.0, \"death\": 102198.0, \"deathIncrease\": 502.0, \"positiveRate\": 0.076, \"state\": \"Non Tri-State\", \"sma7d\": 0.089}, {\"date\": \"2020-08-04T00:00:00\", \"totalTestResultsIncrease\": 638627.0, \"positiveIncrease\": 50715.0, \"death\": 103439.0, \"deathIncrease\": 1241.0, \"positiveRate\": 0.079, \"state\": \"Non Tri-State\", \"sma7d\": 0.088}, {\"date\": \"2020-08-05T00:00:00\", \"totalTestResultsIncrease\": 592971.0, \"positiveIncrease\": 51218.0, \"death\": 104774.0, \"deathIncrease\": 1335.0, \"positiveRate\": 0.086, \"state\": \"Non Tri-State\", \"sma7d\": 0.088}, {\"date\": \"2020-08-06T00:00:00\", \"totalTestResultsIncrease\": 642013.0, \"positiveIncrease\": 53088.0, \"death\": 106012.0, \"deathIncrease\": 1238.0, \"positiveRate\": 0.083, \"state\": \"Non Tri-State\", \"sma7d\": 0.086}, {\"date\": \"2020-08-07T00:00:00\", \"totalTestResultsIncrease\": 685128.0, \"positiveIncrease\": 60197.0, \"death\": 107325.0, \"deathIncrease\": 1313.0, \"positiveRate\": 0.088, \"state\": \"Non Tri-State\", \"sma7d\": 0.083}, {\"date\": \"2020-08-08T00:00:00\", \"totalTestResultsIncrease\": 608500.0, \"positiveIncrease\": 52642.0, \"death\": 108400.0, \"deathIncrease\": 1075.0, \"positiveRate\": 0.087, \"state\": \"Non Tri-State\", \"sma7d\": 0.082}, {\"date\": \"2020-08-09T00:00:00\", \"totalTestResultsIncrease\": 609168.0, \"positiveIncrease\": 49765.0, \"death\": 109004.0, \"deathIncrease\": 604.0, \"positiveRate\": 0.082, \"state\": \"Non Tri-State\", \"sma7d\": 0.083}, {\"date\": \"2020-08-10T00:00:00\", \"totalTestResultsIncrease\": 626428.0, \"positiveIncrease\": 41108.0, \"death\": 109421.0, \"deathIncrease\": 417.0, \"positiveRate\": 0.066, \"state\": \"Non Tri-State\", \"sma7d\": 0.082}, {\"date\": \"2020-08-11T00:00:00\", \"totalTestResultsIncrease\": 648308.0, \"positiveIncrease\": 54474.0, \"death\": 110728.0, \"deathIncrease\": 1307.0, \"positiveRate\": 0.084, \"state\": \"Non Tri-State\", \"sma7d\": 0.082}, {\"date\": \"2020-08-12T00:00:00\", \"totalTestResultsIncrease\": 378730.0, \"positiveIncrease\": 54947.0, \"death\": 112223.0, \"deathIncrease\": 1495.0, \"positiveRate\": 0.145, \"state\": \"Non Tri-State\", \"sma7d\": 0.091}, {\"date\": \"2020-08-13T00:00:00\", \"totalTestResultsIncrease\": 776632.0, \"positiveIncrease\": 50291.0, \"death\": 113368.0, \"deathIncrease\": 1145.0, \"positiveRate\": 0.065, \"state\": \"Non Tri-State\", \"sma7d\": 0.088}, {\"date\": \"2020-08-14T00:00:00\", \"totalTestResultsIncrease\": 740369.0, \"positiveIncrease\": 54223.0, \"death\": 114567.0, \"deathIncrease\": 1199.0, \"positiveRate\": 0.073, \"state\": \"Non Tri-State\", \"sma7d\": 0.086}, {\"date\": \"2020-08-15T00:00:00\", \"totalTestResultsIncrease\": 636475.0, \"positiveIncrease\": 55136.0, \"death\": 115767.0, \"deathIncrease\": 1200.0, \"positiveRate\": 0.087, \"state\": \"Non Tri-State\", \"sma7d\": 0.086}, {\"date\": \"2020-08-16T00:00:00\", \"totalTestResultsIncrease\": 683900.0, \"positiveIncrease\": 41867.0, \"death\": 116378.0, \"deathIncrease\": 611.0, \"positiveRate\": 0.061, \"state\": \"Non Tri-State\", \"sma7d\": 0.083}, {\"date\": \"2020-08-17T00:00:00\", \"totalTestResultsIncrease\": 548007.0, \"positiveIncrease\": 36791.0, \"death\": 116772.0, \"deathIncrease\": 394.0, \"positiveRate\": 0.067, \"state\": \"Non Tri-State\", \"sma7d\": 0.083}, {\"date\": \"2020-08-18T00:00:00\", \"totalTestResultsIncrease\": 564295.0, \"positiveIncrease\": 39822.0, \"death\": 117950.0, \"deathIncrease\": 1178.0, \"positiveRate\": 0.071, \"state\": \"Non Tri-State\", \"sma7d\": 0.081}, {\"date\": \"2020-08-19T00:00:00\", \"totalTestResultsIncrease\": 558906.0, \"positiveIncrease\": 43934.0, \"death\": 119352.0, \"deathIncrease\": 1402.0, \"positiveRate\": 0.079, \"state\": \"Non Tri-State\", \"sma7d\": 0.072}, {\"date\": \"2020-08-20T00:00:00\", \"totalTestResultsIncrease\": 582356.0, \"positiveIncrease\": 42939.0, \"death\": 120474.0, \"deathIncrease\": 1122.0, \"positiveRate\": 0.074, \"state\": \"Non Tri-State\", \"sma7d\": 0.073}, {\"date\": \"2020-08-21T00:00:00\", \"totalTestResultsIncrease\": 622190.0, \"positiveIncrease\": 45476.0, \"death\": 121583.0, \"deathIncrease\": 1109.0, \"positiveRate\": 0.073, \"state\": \"Non Tri-State\", \"sma7d\": 0.073}, {\"date\": \"2020-08-22T00:00:00\", \"totalTestResultsIncrease\": 645938.0, \"positiveIncrease\": 45170.0, \"death\": 122606.0, \"deathIncrease\": 1023.0, \"positiveRate\": 0.07, \"state\": \"Non Tri-State\", \"sma7d\": 0.071}, {\"date\": \"2020-08-23T00:00:00\", \"totalTestResultsIncrease\": 555187.0, \"positiveIncrease\": 36737.0, \"death\": 123169.0, \"deathIncrease\": 563.0, \"positiveRate\": 0.066, \"state\": \"Non Tri-State\", \"sma7d\": 0.071}, {\"date\": \"2020-08-24T00:00:00\", \"totalTestResultsIncrease\": 547049.0, \"positiveIncrease\": 33516.0, \"death\": 123502.0, \"deathIncrease\": 333.0, \"positiveRate\": 0.061, \"state\": \"Non Tri-State\", \"sma7d\": 0.071}, {\"date\": \"2020-08-25T00:00:00\", \"totalTestResultsIncrease\": -653054.0, \"positiveIncrease\": -40946.0, \"death\": 124640.0, \"deathIncrease\": 1138.0, \"positiveRate\": 0.063, \"state\": \"Non Tri-State\", \"sma7d\": 0.069}]}}, {\"mode\": \"vega-lite\"});\n",
       "</script>"
      ],
      "text/plain": [
       "alt.LayerChart(...)"
      ]
     },
     "execution_count": 16,
     "metadata": {},
     "output_type": "execute_result"
    }
   ],
   "source": [
    "create_plot(non_tristate, 'positiveRate')"
   ]
  },
  {
   "cell_type": "code",
   "execution_count": 17,
   "metadata": {
    "execution": {
     "iopub.execute_input": "2020-08-26T22:33:23.570111Z",
     "iopub.status.busy": "2020-08-26T22:33:23.552263Z",
     "iopub.status.idle": "2020-08-26T22:33:23.598669Z",
     "shell.execute_reply": "2020-08-26T22:33:23.599107Z"
    },
    "papermill": {
     "duration": 0.100349,
     "end_time": "2020-08-26T22:33:23.599250",
     "exception": false,
     "start_time": "2020-08-26T22:33:23.498901",
     "status": "completed"
    },
    "tags": []
   },
   "outputs": [
    {
     "data": {
      "text/html": [
       "\n",
       "<div id=\"altair-viz-9819d87b811a47d684d316e503b44f08\"></div>\n",
       "<script type=\"text/javascript\">\n",
       "  (function(spec, embedOpt){\n",
       "    let outputDiv = document.currentScript.previousElementSibling;\n",
       "    if (outputDiv.id !== \"altair-viz-9819d87b811a47d684d316e503b44f08\") {\n",
       "      outputDiv = document.getElementById(\"altair-viz-9819d87b811a47d684d316e503b44f08\");\n",
       "    }\n",
       "    const paths = {\n",
       "      \"vega\": \"https://cdn.jsdelivr.net/npm//vega@5?noext\",\n",
       "      \"vega-lib\": \"https://cdn.jsdelivr.net/npm//vega-lib?noext\",\n",
       "      \"vega-lite\": \"https://cdn.jsdelivr.net/npm//vega-lite@4.8.1?noext\",\n",
       "      \"vega-embed\": \"https://cdn.jsdelivr.net/npm//vega-embed@6?noext\",\n",
       "    };\n",
       "\n",
       "    function loadScript(lib) {\n",
       "      return new Promise(function(resolve, reject) {\n",
       "        var s = document.createElement('script');\n",
       "        s.src = paths[lib];\n",
       "        s.async = true;\n",
       "        s.onload = () => resolve(paths[lib]);\n",
       "        s.onerror = () => reject(`Error loading script: ${paths[lib]}`);\n",
       "        document.getElementsByTagName(\"head\")[0].appendChild(s);\n",
       "      });\n",
       "    }\n",
       "\n",
       "    function showError(err) {\n",
       "      outputDiv.innerHTML = `<div class=\"error\" style=\"color:red;\">${err}</div>`;\n",
       "      throw err;\n",
       "    }\n",
       "\n",
       "    function displayChart(vegaEmbed) {\n",
       "      vegaEmbed(outputDiv, spec, embedOpt)\n",
       "        .catch(err => showError(`Javascript Error: ${err.message}<br>This usually means there's a typo in your chart specification. See the javascript console for the full traceback.`));\n",
       "    }\n",
       "\n",
       "    if(typeof define === \"function\" && define.amd) {\n",
       "      requirejs.config({paths});\n",
       "      require([\"vega-embed\"], displayChart, err => showError(`Error loading script: ${err.message}`));\n",
       "    } else if (typeof vegaEmbed === \"function\") {\n",
       "      displayChart(vegaEmbed);\n",
       "    } else {\n",
       "      loadScript(\"vega\")\n",
       "        .then(() => loadScript(\"vega-lite\"))\n",
       "        .then(() => loadScript(\"vega-embed\"))\n",
       "        .catch(showError)\n",
       "        .then(() => displayChart(vegaEmbed));\n",
       "    }\n",
       "  })({\"config\": {\"view\": {\"continuousWidth\": 400, \"continuousHeight\": 300}}, \"layer\": [{\"layer\": [{\"mark\": {\"type\": \"point\", \"size\": 75}, \"encoding\": {\"tooltip\": [{\"type\": \"temporal\", \"field\": \"date\"}, {\"type\": \"quantitative\", \"field\": \"deathIncrease\"}, {\"type\": \"quantitative\", \"field\": \"sma7d\"}], \"x\": {\"type\": \"temporal\", \"field\": \"date\"}, \"y\": {\"type\": \"quantitative\", \"field\": \"deathIncrease\"}}, \"selection\": {\"selector018\": {\"type\": \"interval\", \"bind\": \"scales\", \"encodings\": [\"x\", \"y\"]}}}, {\"mark\": {\"type\": \"line\", \"color\": \"purple\"}, \"encoding\": {\"x\": {\"type\": \"temporal\", \"field\": \"date\"}, \"y\": {\"type\": \"quantitative\", \"field\": \"sma7d\"}}}]}, {\"mark\": {\"type\": \"rule\", \"color\": \"#aaa\"}, \"encoding\": {\"x\": {\"type\": \"temporal\", \"field\": \"date\"}}, \"transform\": [{\"filter\": {\"selection\": \"selector017\"}}]}, {\"mark\": \"circle\", \"encoding\": {\"opacity\": {\"condition\": {\"value\": 1, \"selection\": \"selector017\"}, \"value\": 0}, \"tooltip\": [{\"type\": \"temporal\", \"field\": \"date\"}, {\"type\": \"quantitative\", \"field\": \"deathIncrease\"}, {\"type\": \"quantitative\", \"field\": \"sma7d\"}], \"x\": {\"type\": \"temporal\", \"field\": \"date\"}, \"y\": {\"type\": \"quantitative\", \"field\": \"deathIncrease\"}}, \"selection\": {\"selector017\": {\"type\": \"single\", \"encodings\": [\"x\"], \"on\": \"mouseover\", \"nearest\": true, \"empty\": \"none\"}}}, {\"mark\": {\"type\": \"text\", \"align\": \"left\", \"dx\": 5, \"dy\": -5, \"stroke\": \"white\", \"strokeWidth\": 2}, \"encoding\": {\"text\": {\"type\": \"quantitative\", \"field\": \"deathIncrease\"}, \"tooltip\": [{\"type\": \"temporal\", \"field\": \"date\"}, {\"type\": \"quantitative\", \"field\": \"deathIncrease\"}, {\"type\": \"quantitative\", \"field\": \"sma7d\"}], \"x\": {\"type\": \"temporal\", \"field\": \"date\"}, \"y\": {\"type\": \"quantitative\", \"field\": \"deathIncrease\"}}, \"transform\": [{\"filter\": {\"selection\": \"selector017\"}}]}, {\"mark\": {\"type\": \"text\", \"align\": \"left\", \"dx\": 5, \"dy\": -5}, \"encoding\": {\"text\": {\"type\": \"quantitative\", \"field\": \"deathIncrease\"}, \"tooltip\": [{\"type\": \"temporal\", \"field\": \"date\"}, {\"type\": \"quantitative\", \"field\": \"deathIncrease\"}, {\"type\": \"quantitative\", \"field\": \"sma7d\"}], \"x\": {\"type\": \"temporal\", \"field\": \"date\"}, \"y\": {\"type\": \"quantitative\", \"field\": \"deathIncrease\"}}, \"transform\": [{\"filter\": {\"selection\": \"selector017\"}}]}], \"data\": {\"name\": \"data-8a7eeb554785b1f3f5654580a2e0c7de\"}, \"height\": 400, \"title\": \"Non Tri-State: deathIncrease\", \"width\": 500, \"$schema\": \"https://vega.github.io/schema/vega-lite/v4.8.1.json\", \"datasets\": {\"data-8a7eeb554785b1f3f5654580a2e0c7de\": [{\"date\": \"2020-07-02T00:00:00\", \"totalTestResultsIncrease\": 565655.0, \"positiveIncrease\": 52707.0, \"death\": 77240.0, \"deathIncrease\": 655.0, \"positiveRate\": 0.093, \"state\": \"Non Tri-State\", \"sma7d\": 485.714}, {\"date\": \"2020-07-03T00:00:00\", \"totalTestResultsIncrease\": 623893.0, \"positiveIncrease\": 52575.0, \"death\": 77763.0, \"deathIncrease\": 523.0, \"positiveRate\": 0.084, \"state\": \"Non Tri-State\", \"sma7d\": 478.857}, {\"date\": \"2020-07-04T00:00:00\", \"totalTestResultsIncrease\": 549977.0, \"positiveIncrease\": 53321.0, \"death\": 78033.0, \"deathIncrease\": 270.0, \"positiveRate\": 0.097, \"state\": \"Non Tri-State\", \"sma7d\": 452.429}, {\"date\": \"2020-07-05T00:00:00\", \"totalTestResultsIncrease\": 567613.0, \"positiveIncrease\": 44711.0, \"death\": 78212.0, \"deathIncrease\": 179.0, \"positiveRate\": 0.079, \"state\": \"Non Tri-State\", \"sma7d\": 444.571}, {\"date\": \"2020-07-06T00:00:00\", \"totalTestResultsIncrease\": 441890.0, \"positiveIncrease\": 40932.0, \"death\": 78424.0, \"deathIncrease\": 212.0, \"positiveRate\": 0.093, \"state\": \"Non Tri-State\", \"sma7d\": 431.714}, {\"date\": \"2020-07-07T00:00:00\", \"totalTestResultsIncrease\": 563841.0, \"positiveIncrease\": 50814.0, \"death\": 79283.0, \"deathIncrease\": 859.0, \"positiveRate\": 0.09, \"state\": \"Non Tri-State\", \"sma7d\": 477.571}, {\"date\": \"2020-07-08T00:00:00\", \"totalTestResultsIncrease\": 560024.0, \"positiveIncrease\": 61744.0, \"death\": 80013.0, \"deathIncrease\": 730.0, \"positiveRate\": 0.11, \"state\": \"Non Tri-State\", \"sma7d\": 489.714}, {\"date\": \"2020-07-09T00:00:00\", \"totalTestResultsIncrease\": 609541.0, \"positiveIncrease\": 58271.0, \"death\": 80835.0, \"deathIncrease\": 822.0, \"positiveRate\": 0.096, \"state\": \"Non Tri-State\", \"sma7d\": 513.571}, {\"date\": \"2020-07-10T00:00:00\", \"totalTestResultsIncrease\": 717580.0, \"positiveIncrease\": 65594.0, \"death\": 81649.0, \"deathIncrease\": 814.0, \"positiveRate\": 0.091, \"state\": \"Non Tri-State\", \"sma7d\": 555.143}, {\"date\": \"2020-07-11T00:00:00\", \"totalTestResultsIncrease\": 600556.0, \"positiveIncrease\": 61835.0, \"death\": 82354.0, \"deathIncrease\": 705.0, \"positiveRate\": 0.103, \"state\": \"Non Tri-State\", \"sma7d\": 617.286}, {\"date\": \"2020-07-12T00:00:00\", \"totalTestResultsIncrease\": 651704.0, \"positiveIncrease\": 60296.0, \"death\": 82809.0, \"deathIncrease\": 455.0, \"positiveRate\": 0.093, \"state\": \"Non Tri-State\", \"sma7d\": 656.714}, {\"date\": \"2020-07-13T00:00:00\", \"totalTestResultsIncrease\": 622824.0, \"positiveIncrease\": 57093.0, \"death\": 83084.0, \"deathIncrease\": 275.0, \"positiveRate\": 0.092, \"state\": \"Non Tri-State\", \"sma7d\": 665.714}, {\"date\": \"2020-07-14T00:00:00\", \"totalTestResultsIncrease\": 676963.0, \"positiveIncrease\": 61401.0, \"death\": 83792.0, \"deathIncrease\": 708.0, \"positiveRate\": 0.091, \"state\": \"Non Tri-State\", \"sma7d\": 644.143}, {\"date\": \"2020-07-15T00:00:00\", \"totalTestResultsIncrease\": 676996.0, \"positiveIncrease\": 64497.0, \"death\": 84608.0, \"deathIncrease\": 816.0, \"positiveRate\": 0.095, \"state\": \"Non Tri-State\", \"sma7d\": 656.429}, {\"date\": \"2020-07-16T00:00:00\", \"totalTestResultsIncrease\": 727763.0, \"positiveIncrease\": 69930.0, \"death\": 85504.0, \"deathIncrease\": 896.0, \"positiveRate\": 0.096, \"state\": \"Non Tri-State\", \"sma7d\": 667.0}, {\"date\": \"2020-07-17T00:00:00\", \"totalTestResultsIncrease\": 751979.0, \"positiveIncrease\": 75875.0, \"death\": 86419.0, \"deathIncrease\": 915.0, \"positiveRate\": 0.101, \"state\": \"Non Tri-State\", \"sma7d\": 681.429}, {\"date\": \"2020-07-18T00:00:00\", \"totalTestResultsIncrease\": 681402.0, \"positiveIncrease\": 63933.0, \"death\": 87265.0, \"deathIncrease\": 846.0, \"positiveRate\": 0.094, \"state\": \"Non Tri-State\", \"sma7d\": 701.571}, {\"date\": \"2020-07-19T00:00:00\", \"totalTestResultsIncrease\": 703644.0, \"positiveIncrease\": 63788.0, \"death\": 87771.0, \"deathIncrease\": 506.0, \"positiveRate\": 0.091, \"state\": \"Non Tri-State\", \"sma7d\": 708.857}, {\"date\": \"2020-07-20T00:00:00\", \"totalTestResultsIncrease\": 645683.0, \"positiveIncrease\": 56180.0, \"death\": 88106.0, \"deathIncrease\": 335.0, \"positiveRate\": 0.087, \"state\": \"Non Tri-State\", \"sma7d\": 717.429}, {\"date\": \"2020-07-21T00:00:00\", \"totalTestResultsIncrease\": 673575.0, \"positiveIncrease\": 62740.0, \"death\": 89120.0, \"deathIncrease\": 1014.0, \"positiveRate\": 0.093, \"state\": \"Non Tri-State\", \"sma7d\": 761.143}, {\"date\": \"2020-07-22T00:00:00\", \"totalTestResultsIncrease\": 699433.0, \"positiveIncrease\": 68113.0, \"death\": 90257.0, \"deathIncrease\": 1137.0, \"positiveRate\": 0.097, \"state\": \"Non Tri-State\", \"sma7d\": 807.0}, {\"date\": \"2020-07-23T00:00:00\", \"totalTestResultsIncrease\": 743977.0, \"positiveIncrease\": 70491.0, \"death\": 91272.0, \"deathIncrease\": 1015.0, \"positiveRate\": 0.095, \"state\": \"Non Tri-State\", \"sma7d\": 824.0}, {\"date\": \"2020-07-24T00:00:00\", \"totalTestResultsIncrease\": 803934.0, \"positiveIncrease\": 73480.0, \"death\": 92401.0, \"deathIncrease\": 1129.0, \"positiveRate\": 0.091, \"state\": \"Non Tri-State\", \"sma7d\": 854.571}, {\"date\": \"2020-07-25T00:00:00\", \"totalTestResultsIncrease\": 719029.0, \"positiveIncrease\": 63479.0, \"death\": 93400.0, \"deathIncrease\": 999.0, \"positiveRate\": 0.088, \"state\": \"Non Tri-State\", \"sma7d\": 876.429}, {\"date\": \"2020-07-26T00:00:00\", \"totalTestResultsIncrease\": 732363.0, \"positiveIncrease\": 59968.0, \"death\": 93944.0, \"deathIncrease\": 544.0, \"positiveRate\": 0.082, \"state\": \"Non Tri-State\", \"sma7d\": 881.857}, {\"date\": \"2020-07-27T00:00:00\", \"totalTestResultsIncrease\": 642905.0, \"positiveIncrease\": 54057.0, \"death\": 94970.0, \"deathIncrease\": 1026.0, \"positiveRate\": 0.084, \"state\": \"Non Tri-State\", \"sma7d\": 980.571}, {\"date\": \"2020-07-28T00:00:00\", \"totalTestResultsIncrease\": 672582.0, \"positiveIncrease\": 55341.0, \"death\": 96056.0, \"deathIncrease\": 1086.0, \"positiveRate\": 0.082, \"state\": \"Non Tri-State\", \"sma7d\": 990.857}, {\"date\": \"2020-07-29T00:00:00\", \"totalTestResultsIncrease\": 730739.0, \"positiveIncrease\": 65311.0, \"death\": 97522.0, \"deathIncrease\": 1466.0, \"positiveRate\": 0.089, \"state\": \"Non Tri-State\", \"sma7d\": 1037.857}, {\"date\": \"2020-07-30T00:00:00\", \"totalTestResultsIncrease\": 711279.0, \"positiveIncrease\": 68308.0, \"death\": 98751.0, \"deathIncrease\": 1229.0, \"positiveRate\": 0.096, \"state\": \"Non Tri-State\", \"sma7d\": 1068.429}, {\"date\": \"2020-07-31T00:00:00\", \"totalTestResultsIncrease\": 610987.0, \"positiveIncrease\": 66150.0, \"death\": 100046.0, \"deathIncrease\": 1295.0, \"positiveRate\": 0.108, \"state\": \"Non Tri-State\", \"sma7d\": 1092.143}, {\"date\": \"2020-08-01T00:00:00\", \"totalTestResultsIncrease\": 662561.0, \"positiveIncrease\": 59980.0, \"death\": 101210.0, \"deathIncrease\": 1164.0, \"positiveRate\": 0.091, \"state\": \"Non Tri-State\", \"sma7d\": 1115.714}, {\"date\": \"2020-08-02T00:00:00\", \"totalTestResultsIncrease\": 591335.0, \"positiveIncrease\": 45904.0, \"death\": 101696.0, \"deathIncrease\": 486.0, \"positiveRate\": 0.078, \"state\": \"Non Tri-State\", \"sma7d\": 1107.429}, {\"date\": \"2020-08-03T00:00:00\", \"totalTestResultsIncrease\": 639394.0, \"positiveIncrease\": 48708.0, \"death\": 102198.0, \"deathIncrease\": 502.0, \"positiveRate\": 0.076, \"state\": \"Non Tri-State\", \"sma7d\": 1032.571}, {\"date\": \"2020-08-04T00:00:00\", \"totalTestResultsIncrease\": 638627.0, \"positiveIncrease\": 50715.0, \"death\": 103439.0, \"deathIncrease\": 1241.0, \"positiveRate\": 0.079, \"state\": \"Non Tri-State\", \"sma7d\": 1054.714}, {\"date\": \"2020-08-05T00:00:00\", \"totalTestResultsIncrease\": 592971.0, \"positiveIncrease\": 51218.0, \"death\": 104774.0, \"deathIncrease\": 1335.0, \"positiveRate\": 0.086, \"state\": \"Non Tri-State\", \"sma7d\": 1036.0}, {\"date\": \"2020-08-06T00:00:00\", \"totalTestResultsIncrease\": 642013.0, \"positiveIncrease\": 53088.0, \"death\": 106012.0, \"deathIncrease\": 1238.0, \"positiveRate\": 0.083, \"state\": \"Non Tri-State\", \"sma7d\": 1037.286}, {\"date\": \"2020-08-07T00:00:00\", \"totalTestResultsIncrease\": 685128.0, \"positiveIncrease\": 60197.0, \"death\": 107325.0, \"deathIncrease\": 1313.0, \"positiveRate\": 0.088, \"state\": \"Non Tri-State\", \"sma7d\": 1039.857}, {\"date\": \"2020-08-08T00:00:00\", \"totalTestResultsIncrease\": 608500.0, \"positiveIncrease\": 52642.0, \"death\": 108400.0, \"deathIncrease\": 1075.0, \"positiveRate\": 0.087, \"state\": \"Non Tri-State\", \"sma7d\": 1027.143}, {\"date\": \"2020-08-09T00:00:00\", \"totalTestResultsIncrease\": 609168.0, \"positiveIncrease\": 49765.0, \"death\": 109004.0, \"deathIncrease\": 604.0, \"positiveRate\": 0.082, \"state\": \"Non Tri-State\", \"sma7d\": 1044.0}, {\"date\": \"2020-08-10T00:00:00\", \"totalTestResultsIncrease\": 626428.0, \"positiveIncrease\": 41108.0, \"death\": 109421.0, \"deathIncrease\": 417.0, \"positiveRate\": 0.066, \"state\": \"Non Tri-State\", \"sma7d\": 1031.857}, {\"date\": \"2020-08-11T00:00:00\", \"totalTestResultsIncrease\": 648308.0, \"positiveIncrease\": 54474.0, \"death\": 110728.0, \"deathIncrease\": 1307.0, \"positiveRate\": 0.084, \"state\": \"Non Tri-State\", \"sma7d\": 1041.286}, {\"date\": \"2020-08-12T00:00:00\", \"totalTestResultsIncrease\": 378730.0, \"positiveIncrease\": 54947.0, \"death\": 112223.0, \"deathIncrease\": 1495.0, \"positiveRate\": 0.145, \"state\": \"Non Tri-State\", \"sma7d\": 1064.143}, {\"date\": \"2020-08-13T00:00:00\", \"totalTestResultsIncrease\": 776632.0, \"positiveIncrease\": 50291.0, \"death\": 113368.0, \"deathIncrease\": 1145.0, \"positiveRate\": 0.065, \"state\": \"Non Tri-State\", \"sma7d\": 1050.857}, {\"date\": \"2020-08-14T00:00:00\", \"totalTestResultsIncrease\": 740369.0, \"positiveIncrease\": 54223.0, \"death\": 114567.0, \"deathIncrease\": 1199.0, \"positiveRate\": 0.073, \"state\": \"Non Tri-State\", \"sma7d\": 1034.571}, {\"date\": \"2020-08-15T00:00:00\", \"totalTestResultsIncrease\": 636475.0, \"positiveIncrease\": 55136.0, \"death\": 115767.0, \"deathIncrease\": 1200.0, \"positiveRate\": 0.087, \"state\": \"Non Tri-State\", \"sma7d\": 1052.429}, {\"date\": \"2020-08-16T00:00:00\", \"totalTestResultsIncrease\": 683900.0, \"positiveIncrease\": 41867.0, \"death\": 116378.0, \"deathIncrease\": 611.0, \"positiveRate\": 0.061, \"state\": \"Non Tri-State\", \"sma7d\": 1053.429}, {\"date\": \"2020-08-17T00:00:00\", \"totalTestResultsIncrease\": 548007.0, \"positiveIncrease\": 36791.0, \"death\": 116772.0, \"deathIncrease\": 394.0, \"positiveRate\": 0.067, \"state\": \"Non Tri-State\", \"sma7d\": 1050.143}, {\"date\": \"2020-08-18T00:00:00\", \"totalTestResultsIncrease\": 564295.0, \"positiveIncrease\": 39822.0, \"death\": 117950.0, \"deathIncrease\": 1178.0, \"positiveRate\": 0.071, \"state\": \"Non Tri-State\", \"sma7d\": 1031.714}, {\"date\": \"2020-08-19T00:00:00\", \"totalTestResultsIncrease\": 558906.0, \"positiveIncrease\": 43934.0, \"death\": 119352.0, \"deathIncrease\": 1402.0, \"positiveRate\": 0.079, \"state\": \"Non Tri-State\", \"sma7d\": 1018.429}, {\"date\": \"2020-08-20T00:00:00\", \"totalTestResultsIncrease\": 582356.0, \"positiveIncrease\": 42939.0, \"death\": 120474.0, \"deathIncrease\": 1122.0, \"positiveRate\": 0.074, \"state\": \"Non Tri-State\", \"sma7d\": 1015.143}, {\"date\": \"2020-08-21T00:00:00\", \"totalTestResultsIncrease\": 622190.0, \"positiveIncrease\": 45476.0, \"death\": 121583.0, \"deathIncrease\": 1109.0, \"positiveRate\": 0.073, \"state\": \"Non Tri-State\", \"sma7d\": 1002.286}, {\"date\": \"2020-08-22T00:00:00\", \"totalTestResultsIncrease\": 645938.0, \"positiveIncrease\": 45170.0, \"death\": 122606.0, \"deathIncrease\": 1023.0, \"positiveRate\": 0.07, \"state\": \"Non Tri-State\", \"sma7d\": 977.0}, {\"date\": \"2020-08-23T00:00:00\", \"totalTestResultsIncrease\": 555187.0, \"positiveIncrease\": 36737.0, \"death\": 123169.0, \"deathIncrease\": 563.0, \"positiveRate\": 0.066, \"state\": \"Non Tri-State\", \"sma7d\": 970.143}, {\"date\": \"2020-08-24T00:00:00\", \"totalTestResultsIncrease\": 547049.0, \"positiveIncrease\": 33516.0, \"death\": 123502.0, \"deathIncrease\": 333.0, \"positiveRate\": 0.061, \"state\": \"Non Tri-State\", \"sma7d\": 961.429}, {\"date\": \"2020-08-25T00:00:00\", \"totalTestResultsIncrease\": -653054.0, \"positiveIncrease\": -40946.0, \"death\": 124640.0, \"deathIncrease\": 1138.0, \"positiveRate\": 0.063, \"state\": \"Non Tri-State\", \"sma7d\": 955.714}]}}, {\"mode\": \"vega-lite\"});\n",
       "</script>"
      ],
      "text/plain": [
       "alt.LayerChart(...)"
      ]
     },
     "execution_count": 17,
     "metadata": {},
     "output_type": "execute_result"
    }
   ],
   "source": [
    "create_plot(non_tristate, 'deathIncrease')"
   ]
  }
 ],
 "metadata": {
  "kernelspec": {
   "display_name": "Python 3",
   "language": "python",
   "name": "python3"
  },
  "language_info": {
   "codemirror_mode": {
    "name": "ipython",
    "version": 3
   },
   "file_extension": ".py",
   "mimetype": "text/x-python",
   "name": "python",
   "nbconvert_exporter": "python",
   "pygments_lexer": "ipython3",
   "version": "3.8.5"
  },
  "papermill": {
   "duration": 4.855137,
   "end_time": "2020-08-26T22:33:23.923069",
   "environment_variables": {},
   "exception": null,
   "input_path": "2020-07-19-covid-plots.ipynb",
   "output_path": "2020-07-19-covid-plots.ipynb",
   "parameters": {},
   "start_time": "2020-08-26T22:33:19.067932",
   "version": "2.1.2"
  }
 },
 "nbformat": 4,
 "nbformat_minor": 4
}