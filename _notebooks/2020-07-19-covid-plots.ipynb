{
 "cells": [
  {
   "cell_type": "markdown",
   "metadata": {
    "papermill": {
     "duration": 0.013243,
     "end_time": "2020-12-11T09:26:53.603454",
     "exception": false,
     "start_time": "2020-12-11T09:26:53.590211",
     "status": "completed"
    },
    "tags": []
   },
   "source": [
    "# \"COVID-19 plots\"\n",
    "> \"Interactive plots with daily updates\"\n",
    "\n",
    "- author: bbernst\n",
    "- toc: true\n",
    "- branch: master\n",
    "- badges: true\n",
    "- comments: true\n",
    "- categories: [healthcare, covid]\n",
    "- image: images/covid_plots/covid_mask.png\n",
    "- hide: false\n",
    "- search_exclude: true"
   ]
  },
  {
   "cell_type": "markdown",
   "metadata": {
    "papermill": {
     "duration": 0.011139,
     "end_time": "2020-12-11T09:26:53.627599",
     "exception": false,
     "start_time": "2020-12-11T09:26:53.616460",
     "status": "completed"
    },
    "tags": []
   },
   "source": [
    "I wanted to make a simple COVID-19 post to accomplish two main goals:\n",
    "1. Easily see the specific plots I'm interested in\n",
    "1. Update these plots every day, automatically\n",
    "\n",
    "Enter [fastpages](https://github.com/fastai/fastpages) and [github actions](https://github.com/features/actions). I'd been meaning to set up a blog with fastpages for a while and thought this would be a good reason to try it out. The documentation was great and I was able to set up automatic updates by using https://covid19dashboards.com/ as a guide.\n",
    "\n",
    "The data for this post comes from https://covidtracking.com/, which updates by 5pm each day, and I have my dashboard update at 6:30pm. For each geography -- so far that's the US, New York, and Non Tri-State -- I look at daily positive cases, positive rate, and deaths. Be sure to hover around on each of the plots, they have helpful interactive tooltips to make reading the data more intuitive."
   ]
  },
  {
   "cell_type": "code",
   "execution_count": 1,
   "metadata": {
    "execution": {
     "iopub.execute_input": "2020-12-11T09:26:53.658452Z",
     "iopub.status.busy": "2020-12-11T09:26:53.657844Z",
     "iopub.status.idle": "2020-12-11T09:26:54.010945Z",
     "shell.execute_reply": "2020-12-11T09:26:54.011359Z"
    },
    "papermill": {
     "duration": 0.372753,
     "end_time": "2020-12-11T09:26:54.011621",
     "exception": false,
     "start_time": "2020-12-11T09:26:53.638868",
     "status": "completed"
    },
    "tags": []
   },
   "outputs": [],
   "source": [
    "#collapse\n",
    "from typing import Callable, Literal\n",
    "import pandas as pd\n",
    "import altair as alt"
   ]
  },
  {
   "cell_type": "code",
   "execution_count": 2,
   "metadata": {
    "execution": {
     "iopub.execute_input": "2020-12-11T09:26:54.038689Z",
     "iopub.status.busy": "2020-12-11T09:26:54.038198Z",
     "iopub.status.idle": "2020-12-11T09:26:54.053515Z",
     "shell.execute_reply": "2020-12-11T09:26:54.053861Z"
    },
    "papermill": {
     "duration": 0.030758,
     "end_time": "2020-12-11T09:26:54.054126",
     "exception": false,
     "start_time": "2020-12-11T09:26:54.023368",
     "status": "completed"
    },
    "tags": []
   },
   "outputs": [
    {
     "name": "stdout",
     "output_type": "stream",
     "text": [
      "Last updated at (ET): 2020-12-11 04:26:54 AM\n"
     ]
    }
   ],
   "source": [
    "#hide_input\n",
    "current_utc = pd.Timestamp.now(tz='America/New_York').strftime('%Y-%m-%d %I:%M:%S %p')\n",
    "print(f\"Last updated at (ET): {current_utc}\")"
   ]
  },
  {
   "cell_type": "markdown",
   "metadata": {
    "papermill": {
     "duration": 0.01157,
     "end_time": "2020-12-11T09:26:54.077519",
     "exception": false,
     "start_time": "2020-12-11T09:26:54.065949",
     "status": "completed"
    },
    "tags": []
   },
   "source": [
    "# Data"
   ]
  },
  {
   "cell_type": "code",
   "execution_count": 3,
   "metadata": {
    "execution": {
     "iopub.execute_input": "2020-12-11T09:26:54.105165Z",
     "iopub.status.busy": "2020-12-11T09:26:54.104713Z",
     "iopub.status.idle": "2020-12-11T09:26:58.762637Z",
     "shell.execute_reply": "2020-12-11T09:26:58.762144Z"
    },
    "papermill": {
     "duration": 4.673852,
     "end_time": "2020-12-11T09:26:58.762777",
     "exception": false,
     "start_time": "2020-12-11T09:26:54.088925",
     "status": "completed"
    },
    "tags": []
   },
   "outputs": [],
   "source": [
    "df = pd.read_csv('https://covidtracking.com/api/states/daily.csv')"
   ]
  },
  {
   "cell_type": "markdown",
   "metadata": {
    "papermill": {
     "duration": 0.011925,
     "end_time": "2020-12-11T09:26:58.787563",
     "exception": false,
     "start_time": "2020-12-11T09:26:58.775638",
     "status": "completed"
    },
    "tags": []
   },
   "source": [
    "# Helpers"
   ]
  },
  {
   "cell_type": "code",
   "execution_count": 4,
   "metadata": {
    "execution": {
     "iopub.execute_input": "2020-12-11T09:26:58.817447Z",
     "iopub.status.busy": "2020-12-11T09:26:58.816975Z",
     "iopub.status.idle": "2020-12-11T09:26:58.818809Z",
     "shell.execute_reply": "2020-12-11T09:26:58.819179Z"
    },
    "papermill": {
     "duration": 0.020294,
     "end_time": "2020-12-11T09:26:58.819315",
     "exception": false,
     "start_time": "2020-12-11T09:26:58.799021",
     "status": "completed"
    },
    "tags": []
   },
   "outputs": [],
   "source": [
    "#collapse\n",
    "def create_df(df: pd.DataFrame, \n",
    "              filter_f: Callable, \n",
    "              state_name: str):\n",
    "    out_df = (\n",
    "     df\n",
    "     .assign(date = lambda d: pd.to_datetime(d['date'], format='%Y%m%d'))\n",
    "     .loc[filter_f, :]\n",
    "     .groupby('date')\n",
    "     .apply(lambda d: pd.Series(dict(\n",
    "         totalTestResultsIncrease = d['totalTestResultsIncrease'].sum(),\n",
    "         positiveIncrease = d['positiveIncrease'].sum(),\n",
    "         death = d['death'].sum(),\n",
    "         deathIncrease = d['deathIncrease'].sum()\n",
    "     )))\n",
    "     .reset_index()\n",
    "     .assign(positiveRate = lambda d: round(d['positiveIncrease'] / d['totalTestResultsIncrease'], 3))\n",
    "     .sort_values('date', ascending=True)\n",
    "     .assign(state = state_name)\n",
    "     .reset_index(drop=True)\n",
    "    )\n",
    "    \n",
    "    return out_df"
   ]
  },
  {
   "cell_type": "code",
   "execution_count": 5,
   "metadata": {
    "execution": {
     "iopub.execute_input": "2020-12-11T09:26:58.851651Z",
     "iopub.status.busy": "2020-12-11T09:26:58.850009Z",
     "iopub.status.idle": "2020-12-11T09:26:58.853399Z",
     "shell.execute_reply": "2020-12-11T09:26:58.853765Z"
    },
    "papermill": {
     "duration": 0.022955,
     "end_time": "2020-12-11T09:26:58.853891",
     "exception": false,
     "start_time": "2020-12-11T09:26:58.830936",
     "status": "completed"
    },
    "tags": []
   },
   "outputs": [],
   "source": [
    "#collapse\n",
    "def create_plot(df: pd.DataFrame, \n",
    "                column: Literal['totalTestResultsIncrease', \n",
    "                                'positiveIncrease', \n",
    "                                'death',\n",
    "                                'deathIncrease', \n",
    "                                'positiveRate'],\n",
    "                period: int = 7*8):\n",
    "    df = (\n",
    "     df\n",
    "     .assign(sma7d = lambda d: d[column].rolling(window=7).mean().round(3))\n",
    "     .loc[lambda d: d['date'] >= pd.to_datetime('today') - period * pd.Timedelta('1 days'), :]\n",
    "     .reset_index(drop=True)\n",
    "    )\n",
    "    the_state = df['state'][0]\n",
    "    label = alt.selection_single(\n",
    "        encodings=['x'], on='mouseover', nearest=True, empty='none')\n",
    "    \n",
    "    base = alt.Chart().mark_point(size=75).encode(\n",
    "        x='date:T',\n",
    "        y=f'{column}:Q',\n",
    "        tooltip=['date', f'{column}:Q', 'sma7d:Q']\n",
    "    )\n",
    "\n",
    "    sma = alt.Chart().mark_line(color='purple').encode(\n",
    "        x='date:T',\n",
    "        y='sma7d:Q'\n",
    "    )\n",
    "\n",
    "    layers = alt.layer(\n",
    "        base + sma,\n",
    "\n",
    "        # add a rule mark to serve as a guide line\n",
    "        alt.Chart().mark_rule(color='#aaa').encode(\n",
    "            x='date:T'\n",
    "        ).transform_filter(label),\n",
    "\n",
    "        # add circle marks for selected time points, hide unselected points\n",
    "        base.mark_circle().encode(\n",
    "            opacity=alt.condition(label, alt.value(1), alt.value(0))\n",
    "        ).add_selection(label),\n",
    "\n",
    "        # add white stroked text to provide a legible background for labels\n",
    "        base.mark_text(align='left', dx=5, dy=-5, stroke='white', strokeWidth=2).encode(\n",
    "            text=f'{column}:Q'\n",
    "        ).transform_filter(label),\n",
    "\n",
    "        # add text labels\n",
    "        base.mark_text(align='left', dx=5, dy=-5).encode(\n",
    "            text=f'{column}:Q'\n",
    "        ).transform_filter(label),\n",
    "        \n",
    "        data=df\n",
    "    ).properties(\n",
    "        title=f'{the_state}: {column}',\n",
    "        width=500,\n",
    "        height=400\n",
    "    )\n",
    "    \n",
    "    return layers.interactive()"
   ]
  },
  {
   "cell_type": "markdown",
   "metadata": {
    "papermill": {
     "duration": 0.011343,
     "end_time": "2020-12-11T09:26:58.876662",
     "exception": false,
     "start_time": "2020-12-11T09:26:58.865319",
     "status": "completed"
    },
    "tags": []
   },
   "source": [
    "# Plots"
   ]
  },
  {
   "cell_type": "markdown",
   "metadata": {
    "papermill": {
     "duration": 0.011346,
     "end_time": "2020-12-11T09:26:58.899443",
     "exception": false,
     "start_time": "2020-12-11T09:26:58.888097",
     "status": "completed"
    },
    "tags": []
   },
   "source": [
    "## US"
   ]
  },
  {
   "cell_type": "code",
   "execution_count": 6,
   "metadata": {
    "execution": {
     "iopub.execute_input": "2020-12-11T09:26:58.925931Z",
     "iopub.status.busy": "2020-12-11T09:26:58.925468Z",
     "iopub.status.idle": "2020-12-11T09:26:59.244517Z",
     "shell.execute_reply": "2020-12-11T09:26:59.244035Z"
    },
    "papermill": {
     "duration": 0.333828,
     "end_time": "2020-12-11T09:26:59.244657",
     "exception": false,
     "start_time": "2020-12-11T09:26:58.910829",
     "status": "completed"
    },
    "tags": []
   },
   "outputs": [],
   "source": [
    "us = create_df(df, lambda d: d.index > 0, 'US')"
   ]
  },
  {
   "cell_type": "code",
   "execution_count": 7,
   "metadata": {
    "execution": {
     "iopub.execute_input": "2020-12-11T09:26:59.275322Z",
     "iopub.status.busy": "2020-12-11T09:26:59.274817Z",
     "iopub.status.idle": "2020-12-11T09:26:59.363575Z",
     "shell.execute_reply": "2020-12-11T09:26:59.363170Z"
    },
    "papermill": {
     "duration": 0.106727,
     "end_time": "2020-12-11T09:26:59.363694",
     "exception": false,
     "start_time": "2020-12-11T09:26:59.256967",
     "status": "completed"
    },
    "tags": []
   },
   "outputs": [
    {
     "data": {
      "text/html": [
       "\n",
       "<div id=\"altair-viz-9d3771fd4c5e471b8e18e65b70d5d0e2\"></div>\n",
       "<script type=\"text/javascript\">\n",
       "  (function(spec, embedOpt){\n",
       "    let outputDiv = document.currentScript.previousElementSibling;\n",
       "    if (outputDiv.id !== \"altair-viz-9d3771fd4c5e471b8e18e65b70d5d0e2\") {\n",
       "      outputDiv = document.getElementById(\"altair-viz-9d3771fd4c5e471b8e18e65b70d5d0e2\");\n",
       "    }\n",
       "    const paths = {\n",
       "      \"vega\": \"https://cdn.jsdelivr.net/npm//vega@5?noext\",\n",
       "      \"vega-lib\": \"https://cdn.jsdelivr.net/npm//vega-lib?noext\",\n",
       "      \"vega-lite\": \"https://cdn.jsdelivr.net/npm//vega-lite@4.8.1?noext\",\n",
       "      \"vega-embed\": \"https://cdn.jsdelivr.net/npm//vega-embed@6?noext\",\n",
       "    };\n",
       "\n",
       "    function loadScript(lib) {\n",
       "      return new Promise(function(resolve, reject) {\n",
       "        var s = document.createElement('script');\n",
       "        s.src = paths[lib];\n",
       "        s.async = true;\n",
       "        s.onload = () => resolve(paths[lib]);\n",
       "        s.onerror = () => reject(`Error loading script: ${paths[lib]}`);\n",
       "        document.getElementsByTagName(\"head\")[0].appendChild(s);\n",
       "      });\n",
       "    }\n",
       "\n",
       "    function showError(err) {\n",
       "      outputDiv.innerHTML = `<div class=\"error\" style=\"color:red;\">${err}</div>`;\n",
       "      throw err;\n",
       "    }\n",
       "\n",
       "    function displayChart(vegaEmbed) {\n",
       "      vegaEmbed(outputDiv, spec, embedOpt)\n",
       "        .catch(err => showError(`Javascript Error: ${err.message}<br>This usually means there's a typo in your chart specification. See the javascript console for the full traceback.`));\n",
       "    }\n",
       "\n",
       "    if(typeof define === \"function\" && define.amd) {\n",
       "      requirejs.config({paths});\n",
       "      require([\"vega-embed\"], displayChart, err => showError(`Error loading script: ${err.message}`));\n",
       "    } else if (typeof vegaEmbed === \"function\") {\n",
       "      displayChart(vegaEmbed);\n",
       "    } else {\n",
       "      loadScript(\"vega\")\n",
       "        .then(() => loadScript(\"vega-lite\"))\n",
       "        .then(() => loadScript(\"vega-embed\"))\n",
       "        .catch(showError)\n",
       "        .then(() => displayChart(vegaEmbed));\n",
       "    }\n",
       "  })({\"config\": {\"view\": {\"continuousWidth\": 400, \"continuousHeight\": 300}}, \"layer\": [{\"layer\": [{\"mark\": {\"type\": \"point\", \"size\": 75}, \"encoding\": {\"tooltip\": [{\"type\": \"temporal\", \"field\": \"date\"}, {\"type\": \"quantitative\", \"field\": \"positiveIncrease\"}, {\"type\": \"quantitative\", \"field\": \"sma7d\"}], \"x\": {\"type\": \"temporal\", \"field\": \"date\"}, \"y\": {\"type\": \"quantitative\", \"field\": \"positiveIncrease\"}}, \"selection\": {\"selector002\": {\"type\": \"interval\", \"bind\": \"scales\", \"encodings\": [\"x\", \"y\"]}}}, {\"mark\": {\"type\": \"line\", \"color\": \"purple\"}, \"encoding\": {\"x\": {\"type\": \"temporal\", \"field\": \"date\"}, \"y\": {\"type\": \"quantitative\", \"field\": \"sma7d\"}}}]}, {\"mark\": {\"type\": \"rule\", \"color\": \"#aaa\"}, \"encoding\": {\"x\": {\"type\": \"temporal\", \"field\": \"date\"}}, \"transform\": [{\"filter\": {\"selection\": \"selector001\"}}]}, {\"mark\": \"circle\", \"encoding\": {\"opacity\": {\"condition\": {\"value\": 1, \"selection\": \"selector001\"}, \"value\": 0}, \"tooltip\": [{\"type\": \"temporal\", \"field\": \"date\"}, {\"type\": \"quantitative\", \"field\": \"positiveIncrease\"}, {\"type\": \"quantitative\", \"field\": \"sma7d\"}], \"x\": {\"type\": \"temporal\", \"field\": \"date\"}, \"y\": {\"type\": \"quantitative\", \"field\": \"positiveIncrease\"}}, \"selection\": {\"selector001\": {\"type\": \"single\", \"encodings\": [\"x\"], \"on\": \"mouseover\", \"nearest\": true, \"empty\": \"none\"}}}, {\"mark\": {\"type\": \"text\", \"align\": \"left\", \"dx\": 5, \"dy\": -5, \"stroke\": \"white\", \"strokeWidth\": 2}, \"encoding\": {\"text\": {\"type\": \"quantitative\", \"field\": \"positiveIncrease\"}, \"tooltip\": [{\"type\": \"temporal\", \"field\": \"date\"}, {\"type\": \"quantitative\", \"field\": \"positiveIncrease\"}, {\"type\": \"quantitative\", \"field\": \"sma7d\"}], \"x\": {\"type\": \"temporal\", \"field\": \"date\"}, \"y\": {\"type\": \"quantitative\", \"field\": \"positiveIncrease\"}}, \"transform\": [{\"filter\": {\"selection\": \"selector001\"}}]}, {\"mark\": {\"type\": \"text\", \"align\": \"left\", \"dx\": 5, \"dy\": -5}, \"encoding\": {\"text\": {\"type\": \"quantitative\", \"field\": \"positiveIncrease\"}, \"tooltip\": [{\"type\": \"temporal\", \"field\": \"date\"}, {\"type\": \"quantitative\", \"field\": \"positiveIncrease\"}, {\"type\": \"quantitative\", \"field\": \"sma7d\"}], \"x\": {\"type\": \"temporal\", \"field\": \"date\"}, \"y\": {\"type\": \"quantitative\", \"field\": \"positiveIncrease\"}}, \"transform\": [{\"filter\": {\"selection\": \"selector001\"}}]}], \"data\": {\"name\": \"data-87d3ae6386bf322cafcc10f651a29cbd\"}, \"height\": 400, \"title\": \"US: positiveIncrease\", \"width\": 500, \"$schema\": \"https://vega.github.io/schema/vega-lite/v4.8.1.json\", \"datasets\": {\"data-87d3ae6386bf322cafcc10f651a29cbd\": [{\"date\": \"2020-10-17T00:00:00\", \"totalTestResultsIncrease\": 1313446.0, \"positiveIncrease\": 57355.0, \"death\": 211101.0, \"deathIncrease\": 773.0, \"positiveRate\": 0.044, \"state\": \"US\", \"sma7d\": 54653.0}, {\"date\": \"2020-10-18T00:00:00\", \"totalTestResultsIncrease\": 1058711.0, \"positiveIncrease\": 48280.0, \"death\": 211503.0, \"deathIncrease\": 402.0, \"positiveRate\": 0.046, \"state\": \"US\", \"sma7d\": 54940.429}, {\"date\": \"2020-10-19T00:00:00\", \"totalTestResultsIncrease\": 1142014.0, \"positiveIncrease\": 57108.0, \"death\": 211959.0, \"deathIncrease\": 456.0, \"positiveRate\": 0.05, \"state\": \"US\", \"sma7d\": 57006.571}, {\"date\": \"2020-10-20T00:00:00\", \"totalTestResultsIncrease\": 978137.0, \"positiveIncrease\": 60569.0, \"death\": 212796.0, \"deathIncrease\": 837.0, \"positiveRate\": 0.062, \"state\": \"US\", \"sma7d\": 58719.857}, {\"date\": \"2020-10-21T00:00:00\", \"totalTestResultsIncrease\": 965947.0, \"positiveIncrease\": 60980.0, \"death\": 213815.0, \"deathIncrease\": 1019.0, \"positiveRate\": 0.063, \"state\": \"US\", \"sma7d\": 59420.143}, {\"date\": \"2020-10-22T00:00:00\", \"totalTestResultsIncrease\": 1255490.0, \"positiveIncrease\": 73003.0, \"death\": 214941.0, \"deathIncrease\": 1126.0, \"positiveRate\": 0.058, \"state\": \"US\", \"sma7d\": 60794.286}, {\"date\": \"2020-10-23T00:00:00\", \"totalTestResultsIncrease\": 1404686.0, \"positiveIncrease\": 82342.0, \"death\": 215875.0, \"deathIncrease\": 934.0, \"positiveRate\": 0.059, \"state\": \"US\", \"sma7d\": 62805.286}, {\"date\": \"2020-10-24T00:00:00\", \"totalTestResultsIncrease\": 1341535.0, \"positiveIncrease\": 83319.0, \"death\": 216765.0, \"deathIncrease\": 890.0, \"positiveRate\": 0.062, \"state\": \"US\", \"sma7d\": 66514.429}, {\"date\": \"2020-10-25T00:00:00\", \"totalTestResultsIncrease\": 1197113.0, \"positiveIncrease\": 64897.0, \"death\": 217147.0, \"deathIncrease\": 382.0, \"positiveRate\": 0.054, \"state\": \"US\", \"sma7d\": 68888.286}, {\"date\": \"2020-10-26T00:00:00\", \"totalTestResultsIncrease\": 1215005.0, \"positiveIncrease\": 62535.0, \"death\": 217549.0, \"deathIncrease\": 402.0, \"positiveRate\": 0.051, \"state\": \"US\", \"sma7d\": 69663.571}, {\"date\": \"2020-10-27T00:00:00\", \"totalTestResultsIncrease\": 1097470.0, \"positiveIncrease\": 72097.0, \"death\": 218468.0, \"deathIncrease\": 919.0, \"positiveRate\": 0.066, \"state\": \"US\", \"sma7d\": 71310.429}, {\"date\": \"2020-10-28T00:00:00\", \"totalTestResultsIncrease\": 1128640.0, \"positiveIncrease\": 78793.0, \"death\": 219512.0, \"deathIncrease\": 1044.0, \"positiveRate\": 0.07, \"state\": \"US\", \"sma7d\": 73855.143}, {\"date\": \"2020-10-29T00:00:00\", \"totalTestResultsIncrease\": 1354648.0, \"positiveIncrease\": 88728.0, \"death\": 220549.0, \"deathIncrease\": 1037.0, \"positiveRate\": 0.065, \"state\": \"US\", \"sma7d\": 76101.571}, {\"date\": \"2020-10-30T00:00:00\", \"totalTestResultsIncrease\": 1388573.0, \"positiveIncrease\": 97263.0, \"death\": 221496.0, \"deathIncrease\": 947.0, \"positiveRate\": 0.07, \"state\": \"US\", \"sma7d\": 78233.143}, {\"date\": \"2020-10-31T00:00:00\", \"totalTestResultsIncrease\": 1422244.0, \"positiveIncrease\": 90613.0, \"death\": 222459.0, \"deathIncrease\": 963.0, \"positiveRate\": 0.064, \"state\": \"US\", \"sma7d\": 79275.143}, {\"date\": \"2020-11-01T00:00:00\", \"totalTestResultsIncrease\": 1135555.0, \"positiveIncrease\": 73872.0, \"death\": 222854.0, \"deathIncrease\": 395.0, \"positiveRate\": 0.065, \"state\": \"US\", \"sma7d\": 80557.286}, {\"date\": \"2020-11-02T00:00:00\", \"totalTestResultsIncrease\": 1336795.0, \"positiveIncrease\": 82042.0, \"death\": 223345.0, \"deathIncrease\": 491.0, \"positiveRate\": 0.061, \"state\": \"US\", \"sma7d\": 83344.0}, {\"date\": \"2020-11-03T00:00:00\", \"totalTestResultsIncrease\": 1159145.0, \"positiveIncrease\": 86715.0, \"death\": 224859.0, \"deathIncrease\": 1514.0, \"positiveRate\": 0.075, \"state\": \"US\", \"sma7d\": 85432.286}, {\"date\": \"2020-11-04T00:00:00\", \"totalTestResultsIncrease\": 1257102.0, \"positiveIncrease\": 103363.0, \"death\": 225976.0, \"deathIncrease\": 1117.0, \"positiveRate\": 0.082, \"state\": \"US\", \"sma7d\": 88942.286}, {\"date\": \"2020-11-05T00:00:00\", \"totalTestResultsIncrease\": 1596467.0, \"positiveIncrease\": 116479.0, \"death\": 227122.0, \"deathIncrease\": 1146.0, \"positiveRate\": 0.073, \"state\": \"US\", \"sma7d\": 92906.714}, {\"date\": \"2020-11-06T00:00:00\", \"totalTestResultsIncrease\": 1593285.0, \"positiveIncrease\": 125798.0, \"death\": 228295.0, \"deathIncrease\": 1173.0, \"positiveRate\": 0.079, \"state\": \"US\", \"sma7d\": 96983.143}, {\"date\": \"2020-11-07T00:00:00\", \"totalTestResultsIncrease\": 1438200.0, \"positiveIncrease\": 129266.0, \"death\": 229414.0, \"deathIncrease\": 1119.0, \"positiveRate\": 0.09, \"state\": \"US\", \"sma7d\": 102505.0}, {\"date\": \"2020-11-08T00:00:00\", \"totalTestResultsIncrease\": 1266926.0, \"positiveIncrease\": 110306.0, \"death\": 229910.0, \"deathIncrease\": 496.0, \"positiveRate\": 0.087, \"state\": \"US\", \"sma7d\": 107709.857}, {\"date\": \"2020-11-09T00:00:00\", \"totalTestResultsIncrease\": 1526713.0, \"positiveIncrease\": 119434.0, \"death\": 230487.0, \"deathIncrease\": 577.0, \"positiveRate\": 0.078, \"state\": \"US\", \"sma7d\": 113051.571}, {\"date\": \"2020-11-10T00:00:00\", \"totalTestResultsIncrease\": 1279671.0, \"positiveIncrease\": 131250.0, \"death\": 231847.0, \"deathIncrease\": 1360.0, \"positiveRate\": 0.103, \"state\": \"US\", \"sma7d\": 119413.714}, {\"date\": \"2020-11-11T00:00:00\", \"totalTestResultsIncrease\": 1457216.0, \"positiveIncrease\": 144882.0, \"death\": 233410.0, \"deathIncrease\": 1563.0, \"positiveRate\": 0.099, \"state\": \"US\", \"sma7d\": 125345.0}, {\"date\": \"2020-11-12T00:00:00\", \"totalTestResultsIncrease\": 1497859.0, \"positiveIncrease\": 152047.0, \"death\": 234529.0, \"deathIncrease\": 1119.0, \"positiveRate\": 0.102, \"state\": \"US\", \"sma7d\": 130426.143}, {\"date\": \"2020-11-13T00:00:00\", \"totalTestResultsIncrease\": 1730806.0, \"positiveIncrease\": 172177.0, \"death\": 235797.0, \"deathIncrease\": 1268.0, \"positiveRate\": 0.099, \"state\": \"US\", \"sma7d\": 137051.714}, {\"date\": \"2020-11-14T00:00:00\", \"totalTestResultsIncrease\": 1689149.0, \"positiveIncrease\": 163597.0, \"death\": 237128.0, \"deathIncrease\": 1331.0, \"positiveRate\": 0.097, \"state\": \"US\", \"sma7d\": 141956.143}, {\"date\": \"2020-11-15T00:00:00\", \"totalTestResultsIncrease\": 1632584.0, \"positiveIncrease\": 144468.0, \"death\": 237815.0, \"deathIncrease\": 687.0, \"positiveRate\": 0.088, \"state\": \"US\", \"sma7d\": 146836.429}, {\"date\": \"2020-11-16T00:00:00\", \"totalTestResultsIncrease\": 1498258.0, \"positiveIncrease\": 148868.0, \"death\": 238434.0, \"deathIncrease\": 619.0, \"positiveRate\": 0.099, \"state\": \"US\", \"sma7d\": 151041.286}, {\"date\": \"2020-11-17T00:00:00\", \"totalTestResultsIncrease\": 1547618.0, \"positiveIncrease\": 156779.0, \"death\": 239989.0, \"deathIncrease\": 1555.0, \"positiveRate\": 0.101, \"state\": \"US\", \"sma7d\": 154688.286}, {\"date\": \"2020-11-18T00:00:00\", \"totalTestResultsIncrease\": 1582822.0, \"positiveIncrease\": 164050.0, \"death\": 241853.0, \"deathIncrease\": 1864.0, \"positiveRate\": 0.104, \"state\": \"US\", \"sma7d\": 157426.571}, {\"date\": \"2020-11-19T00:00:00\", \"totalTestResultsIncrease\": 1865051.0, \"positiveIncrease\": 182903.0, \"death\": 243820.0, \"deathIncrease\": 1967.0, \"positiveRate\": 0.098, \"state\": \"US\", \"sma7d\": 161834.571}, {\"date\": \"2020-11-20T00:00:00\", \"totalTestResultsIncrease\": 1957210.0, \"positiveIncrease\": 192830.0, \"death\": 245704.0, \"deathIncrease\": 1884.0, \"positiveRate\": 0.099, \"state\": \"US\", \"sma7d\": 164785.0}, {\"date\": \"2020-11-21T00:00:00\", \"totalTestResultsIncrease\": 2046159.0, \"positiveIncrease\": 179763.0, \"death\": 247216.0, \"deathIncrease\": 1512.0, \"positiveRate\": 0.088, \"state\": \"US\", \"sma7d\": 167094.429}, {\"date\": \"2020-11-22T00:00:00\", \"totalTestResultsIncrease\": 1759793.0, \"positiveIncrease\": 150878.0, \"death\": 248114.0, \"deathIncrease\": 898.0, \"positiveRate\": 0.086, \"state\": \"US\", \"sma7d\": 168010.143}, {\"date\": \"2020-11-23T00:00:00\", \"totalTestResultsIncrease\": 1770734.0, \"positiveIncrease\": 150956.0, \"death\": 249069.0, \"deathIncrease\": 955.0, \"positiveRate\": 0.085, \"state\": \"US\", \"sma7d\": 168308.429}, {\"date\": \"2020-11-24T00:00:00\", \"totalTestResultsIncrease\": 1850973.0, \"positiveIncrease\": 167076.0, \"death\": 251135.0, \"deathIncrease\": 2066.0, \"positiveRate\": 0.09, \"state\": \"US\", \"sma7d\": 169779.429}, {\"date\": \"2020-11-25T00:00:00\", \"totalTestResultsIncrease\": 1772851.0, \"positiveIncrease\": 183736.0, \"death\": 253424.0, \"deathIncrease\": 2289.0, \"positiveRate\": 0.104, \"state\": \"US\", \"sma7d\": 172591.714}, {\"date\": \"2020-11-26T00:00:00\", \"totalTestResultsIncrease\": 1218302.0, \"positiveIncrease\": 126378.0, \"death\": 254760.0, \"deathIncrease\": 1336.0, \"positiveRate\": 0.104, \"state\": \"US\", \"sma7d\": 164516.714}, {\"date\": \"2020-11-27T00:00:00\", \"totalTestResultsIncrease\": 2131470.0, \"positiveIncrease\": 193686.0, \"death\": 256132.0, \"deathIncrease\": 1372.0, \"positiveRate\": 0.091, \"state\": \"US\", \"sma7d\": 164639.0}, {\"date\": \"2020-11-28T00:00:00\", \"totalTestResultsIncrease\": 1739550.0, \"positiveIncrease\": 154614.0, \"death\": 257377.0, \"deathIncrease\": 1245.0, \"positiveRate\": 0.089, \"state\": \"US\", \"sma7d\": 161046.286}, {\"date\": \"2020-11-29T00:00:00\", \"totalTestResultsIncrease\": 1298270.0, \"positiveIncrease\": 135244.0, \"death\": 258180.0, \"deathIncrease\": 803.0, \"positiveRate\": 0.104, \"state\": \"US\", \"sma7d\": 158812.857}, {\"date\": \"2020-11-30T00:00:00\", \"totalTestResultsIncrease\": 1619461.0, \"positiveIncrease\": 147588.0, \"death\": 259316.0, \"deathIncrease\": 1136.0, \"positiveRate\": 0.091, \"state\": \"US\", \"sma7d\": 158331.714}, {\"date\": \"2020-12-01T00:00:00\", \"totalTestResultsIncrease\": 1444608.0, \"positiveIncrease\": 176816.0, \"death\": 261789.0, \"deathIncrease\": 2473.0, \"positiveRate\": 0.122, \"state\": \"US\", \"sma7d\": 159723.143}, {\"date\": \"2020-12-02T00:00:00\", \"totalTestResultsIncrease\": 1496688.0, \"positiveIncrease\": 195867.0, \"death\": 264522.0, \"deathIncrease\": 2733.0, \"positiveRate\": 0.131, \"state\": \"US\", \"sma7d\": 161456.143}, {\"date\": \"2020-12-03T00:00:00\", \"totalTestResultsIncrease\": 1862081.0, \"positiveIncrease\": 210251.0, \"death\": 267228.0, \"deathIncrease\": 2706.0, \"positiveRate\": 0.113, \"state\": \"US\", \"sma7d\": 173438.0}, {\"date\": \"2020-12-04T00:00:00\", \"totalTestResultsIncrease\": 1880479.0, \"positiveIncrease\": 224878.0, \"death\": 269791.0, \"deathIncrease\": 2563.0, \"positiveRate\": 0.12, \"state\": \"US\", \"sma7d\": 177894.0}, {\"date\": \"2020-12-05T00:00:00\", \"totalTestResultsIncrease\": 2231784.0, \"positiveIncrease\": 212940.0, \"death\": 272252.0, \"deathIncrease\": 2461.0, \"positiveRate\": 0.095, \"state\": \"US\", \"sma7d\": 186226.286}, {\"date\": \"2020-12-06T00:00:00\", \"totalTestResultsIncrease\": 1660728.0, \"positiveIncrease\": 177812.0, \"death\": 273398.0, \"deathIncrease\": 1146.0, \"positiveRate\": 0.107, \"state\": \"US\", \"sma7d\": 192307.429}, {\"date\": \"2020-12-07T00:00:00\", \"totalTestResultsIncrease\": 1772911.0, \"positiveIncrease\": 180219.0, \"death\": 274745.0, \"deathIncrease\": 1347.0, \"positiveRate\": 0.102, \"state\": \"US\", \"sma7d\": 196969.0}, {\"date\": \"2020-12-08T00:00:00\", \"totalTestResultsIncrease\": 1628432.0, \"positiveIncrease\": 215335.0, \"death\": 277400.0, \"deathIncrease\": 2655.0, \"positiveRate\": 0.132, \"state\": \"US\", \"sma7d\": 202471.714}, {\"date\": \"2020-12-09T00:00:00\", \"totalTestResultsIncrease\": 1822067.0, \"positiveIncrease\": 211020.0, \"death\": 280488.0, \"deathIncrease\": 3088.0, \"positiveRate\": 0.116, \"state\": \"US\", \"sma7d\": 204636.429}, {\"date\": \"2020-12-10T00:00:00\", \"totalTestResultsIncrease\": 1940881.0, \"positiveIncrease\": 215049.0, \"death\": 283400.0, \"deathIncrease\": 3062.0, \"positiveRate\": 0.111, \"state\": \"US\", \"sma7d\": 205321.857}]}}, {\"mode\": \"vega-lite\"});\n",
       "</script>"
      ],
      "text/plain": [
       "alt.LayerChart(...)"
      ]
     },
     "execution_count": 7,
     "metadata": {},
     "output_type": "execute_result"
    }
   ],
   "source": [
    "create_plot(us, 'positiveIncrease')"
   ]
  },
  {
   "cell_type": "code",
   "execution_count": 8,
   "metadata": {
    "execution": {
     "iopub.execute_input": "2020-12-11T09:26:59.394487Z",
     "iopub.status.busy": "2020-12-11T09:26:59.394008Z",
     "iopub.status.idle": "2020-12-11T09:26:59.472565Z",
     "shell.execute_reply": "2020-12-11T09:26:59.472936Z"
    },
    "papermill": {
     "duration": 0.097042,
     "end_time": "2020-12-11T09:26:59.473081",
     "exception": false,
     "start_time": "2020-12-11T09:26:59.376039",
     "status": "completed"
    },
    "tags": []
   },
   "outputs": [
    {
     "data": {
      "text/html": [
       "\n",
       "<div id=\"altair-viz-b7454699d3bd459194bc9d8efbec0327\"></div>\n",
       "<script type=\"text/javascript\">\n",
       "  (function(spec, embedOpt){\n",
       "    let outputDiv = document.currentScript.previousElementSibling;\n",
       "    if (outputDiv.id !== \"altair-viz-b7454699d3bd459194bc9d8efbec0327\") {\n",
       "      outputDiv = document.getElementById(\"altair-viz-b7454699d3bd459194bc9d8efbec0327\");\n",
       "    }\n",
       "    const paths = {\n",
       "      \"vega\": \"https://cdn.jsdelivr.net/npm//vega@5?noext\",\n",
       "      \"vega-lib\": \"https://cdn.jsdelivr.net/npm//vega-lib?noext\",\n",
       "      \"vega-lite\": \"https://cdn.jsdelivr.net/npm//vega-lite@4.8.1?noext\",\n",
       "      \"vega-embed\": \"https://cdn.jsdelivr.net/npm//vega-embed@6?noext\",\n",
       "    };\n",
       "\n",
       "    function loadScript(lib) {\n",
       "      return new Promise(function(resolve, reject) {\n",
       "        var s = document.createElement('script');\n",
       "        s.src = paths[lib];\n",
       "        s.async = true;\n",
       "        s.onload = () => resolve(paths[lib]);\n",
       "        s.onerror = () => reject(`Error loading script: ${paths[lib]}`);\n",
       "        document.getElementsByTagName(\"head\")[0].appendChild(s);\n",
       "      });\n",
       "    }\n",
       "\n",
       "    function showError(err) {\n",
       "      outputDiv.innerHTML = `<div class=\"error\" style=\"color:red;\">${err}</div>`;\n",
       "      throw err;\n",
       "    }\n",
       "\n",
       "    function displayChart(vegaEmbed) {\n",
       "      vegaEmbed(outputDiv, spec, embedOpt)\n",
       "        .catch(err => showError(`Javascript Error: ${err.message}<br>This usually means there's a typo in your chart specification. See the javascript console for the full traceback.`));\n",
       "    }\n",
       "\n",
       "    if(typeof define === \"function\" && define.amd) {\n",
       "      requirejs.config({paths});\n",
       "      require([\"vega-embed\"], displayChart, err => showError(`Error loading script: ${err.message}`));\n",
       "    } else if (typeof vegaEmbed === \"function\") {\n",
       "      displayChart(vegaEmbed);\n",
       "    } else {\n",
       "      loadScript(\"vega\")\n",
       "        .then(() => loadScript(\"vega-lite\"))\n",
       "        .then(() => loadScript(\"vega-embed\"))\n",
       "        .catch(showError)\n",
       "        .then(() => displayChart(vegaEmbed));\n",
       "    }\n",
       "  })({\"config\": {\"view\": {\"continuousWidth\": 400, \"continuousHeight\": 300}}, \"layer\": [{\"layer\": [{\"mark\": {\"type\": \"point\", \"size\": 75}, \"encoding\": {\"tooltip\": [{\"type\": \"temporal\", \"field\": \"date\"}, {\"type\": \"quantitative\", \"field\": \"positiveRate\"}, {\"type\": \"quantitative\", \"field\": \"sma7d\"}], \"x\": {\"type\": \"temporal\", \"field\": \"date\"}, \"y\": {\"type\": \"quantitative\", \"field\": \"positiveRate\"}}, \"selection\": {\"selector004\": {\"type\": \"interval\", \"bind\": \"scales\", \"encodings\": [\"x\", \"y\"]}}}, {\"mark\": {\"type\": \"line\", \"color\": \"purple\"}, \"encoding\": {\"x\": {\"type\": \"temporal\", \"field\": \"date\"}, \"y\": {\"type\": \"quantitative\", \"field\": \"sma7d\"}}}]}, {\"mark\": {\"type\": \"rule\", \"color\": \"#aaa\"}, \"encoding\": {\"x\": {\"type\": \"temporal\", \"field\": \"date\"}}, \"transform\": [{\"filter\": {\"selection\": \"selector003\"}}]}, {\"mark\": \"circle\", \"encoding\": {\"opacity\": {\"condition\": {\"value\": 1, \"selection\": \"selector003\"}, \"value\": 0}, \"tooltip\": [{\"type\": \"temporal\", \"field\": \"date\"}, {\"type\": \"quantitative\", \"field\": \"positiveRate\"}, {\"type\": \"quantitative\", \"field\": \"sma7d\"}], \"x\": {\"type\": \"temporal\", \"field\": \"date\"}, \"y\": {\"type\": \"quantitative\", \"field\": \"positiveRate\"}}, \"selection\": {\"selector003\": {\"type\": \"single\", \"encodings\": [\"x\"], \"on\": \"mouseover\", \"nearest\": true, \"empty\": \"none\"}}}, {\"mark\": {\"type\": \"text\", \"align\": \"left\", \"dx\": 5, \"dy\": -5, \"stroke\": \"white\", \"strokeWidth\": 2}, \"encoding\": {\"text\": {\"type\": \"quantitative\", \"field\": \"positiveRate\"}, \"tooltip\": [{\"type\": \"temporal\", \"field\": \"date\"}, {\"type\": \"quantitative\", \"field\": \"positiveRate\"}, {\"type\": \"quantitative\", \"field\": \"sma7d\"}], \"x\": {\"type\": \"temporal\", \"field\": \"date\"}, \"y\": {\"type\": \"quantitative\", \"field\": \"positiveRate\"}}, \"transform\": [{\"filter\": {\"selection\": \"selector003\"}}]}, {\"mark\": {\"type\": \"text\", \"align\": \"left\", \"dx\": 5, \"dy\": -5}, \"encoding\": {\"text\": {\"type\": \"quantitative\", \"field\": \"positiveRate\"}, \"tooltip\": [{\"type\": \"temporal\", \"field\": \"date\"}, {\"type\": \"quantitative\", \"field\": \"positiveRate\"}, {\"type\": \"quantitative\", \"field\": \"sma7d\"}], \"x\": {\"type\": \"temporal\", \"field\": \"date\"}, \"y\": {\"type\": \"quantitative\", \"field\": \"positiveRate\"}}, \"transform\": [{\"filter\": {\"selection\": \"selector003\"}}]}], \"data\": {\"name\": \"data-9023d6d77abe009b1982a4468d4201fe\"}, \"height\": 400, \"title\": \"US: positiveRate\", \"width\": 500, \"$schema\": \"https://vega.github.io/schema/vega-lite/v4.8.1.json\", \"datasets\": {\"data-9023d6d77abe009b1982a4468d4201fe\": [{\"date\": \"2020-10-17T00:00:00\", \"totalTestResultsIncrease\": 1313446.0, \"positiveIncrease\": 57355.0, \"death\": 211101.0, \"deathIncrease\": 773.0, \"positiveRate\": 0.044, \"state\": \"US\", \"sma7d\": 0.048}, {\"date\": \"2020-10-18T00:00:00\", \"totalTestResultsIncrease\": 1058711.0, \"positiveIncrease\": 48280.0, \"death\": 211503.0, \"deathIncrease\": 402.0, \"positiveRate\": 0.046, \"state\": \"US\", \"sma7d\": 0.048}, {\"date\": \"2020-10-19T00:00:00\", \"totalTestResultsIncrease\": 1142014.0, \"positiveIncrease\": 57108.0, \"death\": 211959.0, \"deathIncrease\": 456.0, \"positiveRate\": 0.05, \"state\": \"US\", \"sma7d\": 0.05}, {\"date\": \"2020-10-20T00:00:00\", \"totalTestResultsIncrease\": 978137.0, \"positiveIncrease\": 60569.0, \"death\": 212796.0, \"deathIncrease\": 837.0, \"positiveRate\": 0.062, \"state\": \"US\", \"sma7d\": 0.052}, {\"date\": \"2020-10-21T00:00:00\", \"totalTestResultsIncrease\": 965947.0, \"positiveIncrease\": 60980.0, \"death\": 213815.0, \"deathIncrease\": 1019.0, \"positiveRate\": 0.063, \"state\": \"US\", \"sma7d\": 0.054}, {\"date\": \"2020-10-22T00:00:00\", \"totalTestResultsIncrease\": 1255490.0, \"positiveIncrease\": 73003.0, \"death\": 214941.0, \"deathIncrease\": 1126.0, \"positiveRate\": 0.058, \"state\": \"US\", \"sma7d\": 0.054}, {\"date\": \"2020-10-23T00:00:00\", \"totalTestResultsIncrease\": 1404686.0, \"positiveIncrease\": 82342.0, \"death\": 215875.0, \"deathIncrease\": 934.0, \"positiveRate\": 0.059, \"state\": \"US\", \"sma7d\": 0.055}, {\"date\": \"2020-10-24T00:00:00\", \"totalTestResultsIncrease\": 1341535.0, \"positiveIncrease\": 83319.0, \"death\": 216765.0, \"deathIncrease\": 890.0, \"positiveRate\": 0.062, \"state\": \"US\", \"sma7d\": 0.057}, {\"date\": \"2020-10-25T00:00:00\", \"totalTestResultsIncrease\": 1197113.0, \"positiveIncrease\": 64897.0, \"death\": 217147.0, \"deathIncrease\": 382.0, \"positiveRate\": 0.054, \"state\": \"US\", \"sma7d\": 0.058}, {\"date\": \"2020-10-26T00:00:00\", \"totalTestResultsIncrease\": 1215005.0, \"positiveIncrease\": 62535.0, \"death\": 217549.0, \"deathIncrease\": 402.0, \"positiveRate\": 0.051, \"state\": \"US\", \"sma7d\": 0.058}, {\"date\": \"2020-10-27T00:00:00\", \"totalTestResultsIncrease\": 1097470.0, \"positiveIncrease\": 72097.0, \"death\": 218468.0, \"deathIncrease\": 919.0, \"positiveRate\": 0.066, \"state\": \"US\", \"sma7d\": 0.059}, {\"date\": \"2020-10-28T00:00:00\", \"totalTestResultsIncrease\": 1128640.0, \"positiveIncrease\": 78793.0, \"death\": 219512.0, \"deathIncrease\": 1044.0, \"positiveRate\": 0.07, \"state\": \"US\", \"sma7d\": 0.06}, {\"date\": \"2020-10-29T00:00:00\", \"totalTestResultsIncrease\": 1354648.0, \"positiveIncrease\": 88728.0, \"death\": 220549.0, \"deathIncrease\": 1037.0, \"positiveRate\": 0.065, \"state\": \"US\", \"sma7d\": 0.061}, {\"date\": \"2020-10-30T00:00:00\", \"totalTestResultsIncrease\": 1388573.0, \"positiveIncrease\": 97263.0, \"death\": 221496.0, \"deathIncrease\": 947.0, \"positiveRate\": 0.07, \"state\": \"US\", \"sma7d\": 0.063}, {\"date\": \"2020-10-31T00:00:00\", \"totalTestResultsIncrease\": 1422244.0, \"positiveIncrease\": 90613.0, \"death\": 222459.0, \"deathIncrease\": 963.0, \"positiveRate\": 0.064, \"state\": \"US\", \"sma7d\": 0.063}, {\"date\": \"2020-11-01T00:00:00\", \"totalTestResultsIncrease\": 1135555.0, \"positiveIncrease\": 73872.0, \"death\": 222854.0, \"deathIncrease\": 395.0, \"positiveRate\": 0.065, \"state\": \"US\", \"sma7d\": 0.064}, {\"date\": \"2020-11-02T00:00:00\", \"totalTestResultsIncrease\": 1336795.0, \"positiveIncrease\": 82042.0, \"death\": 223345.0, \"deathIncrease\": 491.0, \"positiveRate\": 0.061, \"state\": \"US\", \"sma7d\": 0.066}, {\"date\": \"2020-11-03T00:00:00\", \"totalTestResultsIncrease\": 1159145.0, \"positiveIncrease\": 86715.0, \"death\": 224859.0, \"deathIncrease\": 1514.0, \"positiveRate\": 0.075, \"state\": \"US\", \"sma7d\": 0.067}, {\"date\": \"2020-11-04T00:00:00\", \"totalTestResultsIncrease\": 1257102.0, \"positiveIncrease\": 103363.0, \"death\": 225976.0, \"deathIncrease\": 1117.0, \"positiveRate\": 0.082, \"state\": \"US\", \"sma7d\": 0.069}, {\"date\": \"2020-11-05T00:00:00\", \"totalTestResultsIncrease\": 1596467.0, \"positiveIncrease\": 116479.0, \"death\": 227122.0, \"deathIncrease\": 1146.0, \"positiveRate\": 0.073, \"state\": \"US\", \"sma7d\": 0.07}, {\"date\": \"2020-11-06T00:00:00\", \"totalTestResultsIncrease\": 1593285.0, \"positiveIncrease\": 125798.0, \"death\": 228295.0, \"deathIncrease\": 1173.0, \"positiveRate\": 0.079, \"state\": \"US\", \"sma7d\": 0.071}, {\"date\": \"2020-11-07T00:00:00\", \"totalTestResultsIncrease\": 1438200.0, \"positiveIncrease\": 129266.0, \"death\": 229414.0, \"deathIncrease\": 1119.0, \"positiveRate\": 0.09, \"state\": \"US\", \"sma7d\": 0.075}, {\"date\": \"2020-11-08T00:00:00\", \"totalTestResultsIncrease\": 1266926.0, \"positiveIncrease\": 110306.0, \"death\": 229910.0, \"deathIncrease\": 496.0, \"positiveRate\": 0.087, \"state\": \"US\", \"sma7d\": 0.078}, {\"date\": \"2020-11-09T00:00:00\", \"totalTestResultsIncrease\": 1526713.0, \"positiveIncrease\": 119434.0, \"death\": 230487.0, \"deathIncrease\": 577.0, \"positiveRate\": 0.078, \"state\": \"US\", \"sma7d\": 0.081}, {\"date\": \"2020-11-10T00:00:00\", \"totalTestResultsIncrease\": 1279671.0, \"positiveIncrease\": 131250.0, \"death\": 231847.0, \"deathIncrease\": 1360.0, \"positiveRate\": 0.103, \"state\": \"US\", \"sma7d\": 0.085}, {\"date\": \"2020-11-11T00:00:00\", \"totalTestResultsIncrease\": 1457216.0, \"positiveIncrease\": 144882.0, \"death\": 233410.0, \"deathIncrease\": 1563.0, \"positiveRate\": 0.099, \"state\": \"US\", \"sma7d\": 0.087}, {\"date\": \"2020-11-12T00:00:00\", \"totalTestResultsIncrease\": 1497859.0, \"positiveIncrease\": 152047.0, \"death\": 234529.0, \"deathIncrease\": 1119.0, \"positiveRate\": 0.102, \"state\": \"US\", \"sma7d\": 0.091}, {\"date\": \"2020-11-13T00:00:00\", \"totalTestResultsIncrease\": 1730806.0, \"positiveIncrease\": 172177.0, \"death\": 235797.0, \"deathIncrease\": 1268.0, \"positiveRate\": 0.099, \"state\": \"US\", \"sma7d\": 0.094}, {\"date\": \"2020-11-14T00:00:00\", \"totalTestResultsIncrease\": 1689149.0, \"positiveIncrease\": 163597.0, \"death\": 237128.0, \"deathIncrease\": 1331.0, \"positiveRate\": 0.097, \"state\": \"US\", \"sma7d\": 0.095}, {\"date\": \"2020-11-15T00:00:00\", \"totalTestResultsIncrease\": 1632584.0, \"positiveIncrease\": 144468.0, \"death\": 237815.0, \"deathIncrease\": 687.0, \"positiveRate\": 0.088, \"state\": \"US\", \"sma7d\": 0.095}, {\"date\": \"2020-11-16T00:00:00\", \"totalTestResultsIncrease\": 1498258.0, \"positiveIncrease\": 148868.0, \"death\": 238434.0, \"deathIncrease\": 619.0, \"positiveRate\": 0.099, \"state\": \"US\", \"sma7d\": 0.098}, {\"date\": \"2020-11-17T00:00:00\", \"totalTestResultsIncrease\": 1547618.0, \"positiveIncrease\": 156779.0, \"death\": 239989.0, \"deathIncrease\": 1555.0, \"positiveRate\": 0.101, \"state\": \"US\", \"sma7d\": 0.098}, {\"date\": \"2020-11-18T00:00:00\", \"totalTestResultsIncrease\": 1582822.0, \"positiveIncrease\": 164050.0, \"death\": 241853.0, \"deathIncrease\": 1864.0, \"positiveRate\": 0.104, \"state\": \"US\", \"sma7d\": 0.099}, {\"date\": \"2020-11-19T00:00:00\", \"totalTestResultsIncrease\": 1865051.0, \"positiveIncrease\": 182903.0, \"death\": 243820.0, \"deathIncrease\": 1967.0, \"positiveRate\": 0.098, \"state\": \"US\", \"sma7d\": 0.098}, {\"date\": \"2020-11-20T00:00:00\", \"totalTestResultsIncrease\": 1957210.0, \"positiveIncrease\": 192830.0, \"death\": 245704.0, \"deathIncrease\": 1884.0, \"positiveRate\": 0.099, \"state\": \"US\", \"sma7d\": 0.098}, {\"date\": \"2020-11-21T00:00:00\", \"totalTestResultsIncrease\": 2046159.0, \"positiveIncrease\": 179763.0, \"death\": 247216.0, \"deathIncrease\": 1512.0, \"positiveRate\": 0.088, \"state\": \"US\", \"sma7d\": 0.097}, {\"date\": \"2020-11-22T00:00:00\", \"totalTestResultsIncrease\": 1759793.0, \"positiveIncrease\": 150878.0, \"death\": 248114.0, \"deathIncrease\": 898.0, \"positiveRate\": 0.086, \"state\": \"US\", \"sma7d\": 0.096}, {\"date\": \"2020-11-23T00:00:00\", \"totalTestResultsIncrease\": 1770734.0, \"positiveIncrease\": 150956.0, \"death\": 249069.0, \"deathIncrease\": 955.0, \"positiveRate\": 0.085, \"state\": \"US\", \"sma7d\": 0.094}, {\"date\": \"2020-11-24T00:00:00\", \"totalTestResultsIncrease\": 1850973.0, \"positiveIncrease\": 167076.0, \"death\": 251135.0, \"deathIncrease\": 2066.0, \"positiveRate\": 0.09, \"state\": \"US\", \"sma7d\": 0.093}, {\"date\": \"2020-11-25T00:00:00\", \"totalTestResultsIncrease\": 1772851.0, \"positiveIncrease\": 183736.0, \"death\": 253424.0, \"deathIncrease\": 2289.0, \"positiveRate\": 0.104, \"state\": \"US\", \"sma7d\": 0.093}, {\"date\": \"2020-11-26T00:00:00\", \"totalTestResultsIncrease\": 1218302.0, \"positiveIncrease\": 126378.0, \"death\": 254760.0, \"deathIncrease\": 1336.0, \"positiveRate\": 0.104, \"state\": \"US\", \"sma7d\": 0.094}, {\"date\": \"2020-11-27T00:00:00\", \"totalTestResultsIncrease\": 2131470.0, \"positiveIncrease\": 193686.0, \"death\": 256132.0, \"deathIncrease\": 1372.0, \"positiveRate\": 0.091, \"state\": \"US\", \"sma7d\": 0.093}, {\"date\": \"2020-11-28T00:00:00\", \"totalTestResultsIncrease\": 1739550.0, \"positiveIncrease\": 154614.0, \"death\": 257377.0, \"deathIncrease\": 1245.0, \"positiveRate\": 0.089, \"state\": \"US\", \"sma7d\": 0.093}, {\"date\": \"2020-11-29T00:00:00\", \"totalTestResultsIncrease\": 1298270.0, \"positiveIncrease\": 135244.0, \"death\": 258180.0, \"deathIncrease\": 803.0, \"positiveRate\": 0.104, \"state\": \"US\", \"sma7d\": 0.095}, {\"date\": \"2020-11-30T00:00:00\", \"totalTestResultsIncrease\": 1619461.0, \"positiveIncrease\": 147588.0, \"death\": 259316.0, \"deathIncrease\": 1136.0, \"positiveRate\": 0.091, \"state\": \"US\", \"sma7d\": 0.096}, {\"date\": \"2020-12-01T00:00:00\", \"totalTestResultsIncrease\": 1444608.0, \"positiveIncrease\": 176816.0, \"death\": 261789.0, \"deathIncrease\": 2473.0, \"positiveRate\": 0.122, \"state\": \"US\", \"sma7d\": 0.101}, {\"date\": \"2020-12-02T00:00:00\", \"totalTestResultsIncrease\": 1496688.0, \"positiveIncrease\": 195867.0, \"death\": 264522.0, \"deathIncrease\": 2733.0, \"positiveRate\": 0.131, \"state\": \"US\", \"sma7d\": 0.105}, {\"date\": \"2020-12-03T00:00:00\", \"totalTestResultsIncrease\": 1862081.0, \"positiveIncrease\": 210251.0, \"death\": 267228.0, \"deathIncrease\": 2706.0, \"positiveRate\": 0.113, \"state\": \"US\", \"sma7d\": 0.106}, {\"date\": \"2020-12-04T00:00:00\", \"totalTestResultsIncrease\": 1880479.0, \"positiveIncrease\": 224878.0, \"death\": 269791.0, \"deathIncrease\": 2563.0, \"positiveRate\": 0.12, \"state\": \"US\", \"sma7d\": 0.11}, {\"date\": \"2020-12-05T00:00:00\", \"totalTestResultsIncrease\": 2231784.0, \"positiveIncrease\": 212940.0, \"death\": 272252.0, \"deathIncrease\": 2461.0, \"positiveRate\": 0.095, \"state\": \"US\", \"sma7d\": 0.111}, {\"date\": \"2020-12-06T00:00:00\", \"totalTestResultsIncrease\": 1660728.0, \"positiveIncrease\": 177812.0, \"death\": 273398.0, \"deathIncrease\": 1146.0, \"positiveRate\": 0.107, \"state\": \"US\", \"sma7d\": 0.111}, {\"date\": \"2020-12-07T00:00:00\", \"totalTestResultsIncrease\": 1772911.0, \"positiveIncrease\": 180219.0, \"death\": 274745.0, \"deathIncrease\": 1347.0, \"positiveRate\": 0.102, \"state\": \"US\", \"sma7d\": 0.113}, {\"date\": \"2020-12-08T00:00:00\", \"totalTestResultsIncrease\": 1628432.0, \"positiveIncrease\": 215335.0, \"death\": 277400.0, \"deathIncrease\": 2655.0, \"positiveRate\": 0.132, \"state\": \"US\", \"sma7d\": 0.114}, {\"date\": \"2020-12-09T00:00:00\", \"totalTestResultsIncrease\": 1822067.0, \"positiveIncrease\": 211020.0, \"death\": 280488.0, \"deathIncrease\": 3088.0, \"positiveRate\": 0.116, \"state\": \"US\", \"sma7d\": 0.112}, {\"date\": \"2020-12-10T00:00:00\", \"totalTestResultsIncrease\": 1940881.0, \"positiveIncrease\": 215049.0, \"death\": 283400.0, \"deathIncrease\": 3062.0, \"positiveRate\": 0.111, \"state\": \"US\", \"sma7d\": 0.112}]}}, {\"mode\": \"vega-lite\"});\n",
       "</script>"
      ],
      "text/plain": [
       "alt.LayerChart(...)"
      ]
     },
     "execution_count": 8,
     "metadata": {},
     "output_type": "execute_result"
    }
   ],
   "source": [
    "create_plot(us, 'positiveRate')"
   ]
  },
  {
   "cell_type": "code",
   "execution_count": 9,
   "metadata": {
    "execution": {
     "iopub.execute_input": "2020-12-11T09:26:59.502803Z",
     "iopub.status.busy": "2020-12-11T09:26:59.502297Z",
     "iopub.status.idle": "2020-12-11T09:26:59.583548Z",
     "shell.execute_reply": "2020-12-11T09:26:59.583145Z"
    },
    "papermill": {
     "duration": 0.097678,
     "end_time": "2020-12-11T09:26:59.583673",
     "exception": false,
     "start_time": "2020-12-11T09:26:59.485995",
     "status": "completed"
    },
    "tags": []
   },
   "outputs": [
    {
     "data": {
      "text/html": [
       "\n",
       "<div id=\"altair-viz-ac96dea27cd34891aea65b9c90b0c66d\"></div>\n",
       "<script type=\"text/javascript\">\n",
       "  (function(spec, embedOpt){\n",
       "    let outputDiv = document.currentScript.previousElementSibling;\n",
       "    if (outputDiv.id !== \"altair-viz-ac96dea27cd34891aea65b9c90b0c66d\") {\n",
       "      outputDiv = document.getElementById(\"altair-viz-ac96dea27cd34891aea65b9c90b0c66d\");\n",
       "    }\n",
       "    const paths = {\n",
       "      \"vega\": \"https://cdn.jsdelivr.net/npm//vega@5?noext\",\n",
       "      \"vega-lib\": \"https://cdn.jsdelivr.net/npm//vega-lib?noext\",\n",
       "      \"vega-lite\": \"https://cdn.jsdelivr.net/npm//vega-lite@4.8.1?noext\",\n",
       "      \"vega-embed\": \"https://cdn.jsdelivr.net/npm//vega-embed@6?noext\",\n",
       "    };\n",
       "\n",
       "    function loadScript(lib) {\n",
       "      return new Promise(function(resolve, reject) {\n",
       "        var s = document.createElement('script');\n",
       "        s.src = paths[lib];\n",
       "        s.async = true;\n",
       "        s.onload = () => resolve(paths[lib]);\n",
       "        s.onerror = () => reject(`Error loading script: ${paths[lib]}`);\n",
       "        document.getElementsByTagName(\"head\")[0].appendChild(s);\n",
       "      });\n",
       "    }\n",
       "\n",
       "    function showError(err) {\n",
       "      outputDiv.innerHTML = `<div class=\"error\" style=\"color:red;\">${err}</div>`;\n",
       "      throw err;\n",
       "    }\n",
       "\n",
       "    function displayChart(vegaEmbed) {\n",
       "      vegaEmbed(outputDiv, spec, embedOpt)\n",
       "        .catch(err => showError(`Javascript Error: ${err.message}<br>This usually means there's a typo in your chart specification. See the javascript console for the full traceback.`));\n",
       "    }\n",
       "\n",
       "    if(typeof define === \"function\" && define.amd) {\n",
       "      requirejs.config({paths});\n",
       "      require([\"vega-embed\"], displayChart, err => showError(`Error loading script: ${err.message}`));\n",
       "    } else if (typeof vegaEmbed === \"function\") {\n",
       "      displayChart(vegaEmbed);\n",
       "    } else {\n",
       "      loadScript(\"vega\")\n",
       "        .then(() => loadScript(\"vega-lite\"))\n",
       "        .then(() => loadScript(\"vega-embed\"))\n",
       "        .catch(showError)\n",
       "        .then(() => displayChart(vegaEmbed));\n",
       "    }\n",
       "  })({\"config\": {\"view\": {\"continuousWidth\": 400, \"continuousHeight\": 300}}, \"layer\": [{\"layer\": [{\"mark\": {\"type\": \"point\", \"size\": 75}, \"encoding\": {\"tooltip\": [{\"type\": \"temporal\", \"field\": \"date\"}, {\"type\": \"quantitative\", \"field\": \"deathIncrease\"}, {\"type\": \"quantitative\", \"field\": \"sma7d\"}], \"x\": {\"type\": \"temporal\", \"field\": \"date\"}, \"y\": {\"type\": \"quantitative\", \"field\": \"deathIncrease\"}}, \"selection\": {\"selector006\": {\"type\": \"interval\", \"bind\": \"scales\", \"encodings\": [\"x\", \"y\"]}}}, {\"mark\": {\"type\": \"line\", \"color\": \"purple\"}, \"encoding\": {\"x\": {\"type\": \"temporal\", \"field\": \"date\"}, \"y\": {\"type\": \"quantitative\", \"field\": \"sma7d\"}}}]}, {\"mark\": {\"type\": \"rule\", \"color\": \"#aaa\"}, \"encoding\": {\"x\": {\"type\": \"temporal\", \"field\": \"date\"}}, \"transform\": [{\"filter\": {\"selection\": \"selector005\"}}]}, {\"mark\": \"circle\", \"encoding\": {\"opacity\": {\"condition\": {\"value\": 1, \"selection\": \"selector005\"}, \"value\": 0}, \"tooltip\": [{\"type\": \"temporal\", \"field\": \"date\"}, {\"type\": \"quantitative\", \"field\": \"deathIncrease\"}, {\"type\": \"quantitative\", \"field\": \"sma7d\"}], \"x\": {\"type\": \"temporal\", \"field\": \"date\"}, \"y\": {\"type\": \"quantitative\", \"field\": \"deathIncrease\"}}, \"selection\": {\"selector005\": {\"type\": \"single\", \"encodings\": [\"x\"], \"on\": \"mouseover\", \"nearest\": true, \"empty\": \"none\"}}}, {\"mark\": {\"type\": \"text\", \"align\": \"left\", \"dx\": 5, \"dy\": -5, \"stroke\": \"white\", \"strokeWidth\": 2}, \"encoding\": {\"text\": {\"type\": \"quantitative\", \"field\": \"deathIncrease\"}, \"tooltip\": [{\"type\": \"temporal\", \"field\": \"date\"}, {\"type\": \"quantitative\", \"field\": \"deathIncrease\"}, {\"type\": \"quantitative\", \"field\": \"sma7d\"}], \"x\": {\"type\": \"temporal\", \"field\": \"date\"}, \"y\": {\"type\": \"quantitative\", \"field\": \"deathIncrease\"}}, \"transform\": [{\"filter\": {\"selection\": \"selector005\"}}]}, {\"mark\": {\"type\": \"text\", \"align\": \"left\", \"dx\": 5, \"dy\": -5}, \"encoding\": {\"text\": {\"type\": \"quantitative\", \"field\": \"deathIncrease\"}, \"tooltip\": [{\"type\": \"temporal\", \"field\": \"date\"}, {\"type\": \"quantitative\", \"field\": \"deathIncrease\"}, {\"type\": \"quantitative\", \"field\": \"sma7d\"}], \"x\": {\"type\": \"temporal\", \"field\": \"date\"}, \"y\": {\"type\": \"quantitative\", \"field\": \"deathIncrease\"}}, \"transform\": [{\"filter\": {\"selection\": \"selector005\"}}]}], \"data\": {\"name\": \"data-bc736021fb2dbb7d2eccaece506f72e1\"}, \"height\": 400, \"title\": \"US: deathIncrease\", \"width\": 500, \"$schema\": \"https://vega.github.io/schema/vega-lite/v4.8.1.json\", \"datasets\": {\"data-bc736021fb2dbb7d2eccaece506f72e1\": [{\"date\": \"2020-10-17T00:00:00\", \"totalTestResultsIncrease\": 1313446.0, \"positiveIncrease\": 57355.0, \"death\": 211101.0, \"deathIncrease\": 773.0, \"positiveRate\": 0.044, \"state\": \"US\", \"sma7d\": 693.571}, {\"date\": \"2020-10-18T00:00:00\", \"totalTestResultsIncrease\": 1058711.0, \"positiveIncrease\": 48280.0, \"death\": 211503.0, \"deathIncrease\": 402.0, \"positiveRate\": 0.046, \"state\": \"US\", \"sma7d\": 684.143}, {\"date\": \"2020-10-19T00:00:00\", \"totalTestResultsIncrease\": 1142014.0, \"positiveIncrease\": 57108.0, \"death\": 211959.0, \"deathIncrease\": 456.0, \"positiveRate\": 0.05, \"state\": \"US\", \"sma7d\": 709.0}, {\"date\": \"2020-10-20T00:00:00\", \"totalTestResultsIncrease\": 978137.0, \"positiveIncrease\": 60569.0, \"death\": 212796.0, \"deathIncrease\": 837.0, \"positiveRate\": 0.062, \"state\": \"US\", \"sma7d\": 728.857}, {\"date\": \"2020-10-21T00:00:00\", \"totalTestResultsIncrease\": 965947.0, \"positiveIncrease\": 60980.0, \"death\": 213815.0, \"deathIncrease\": 1019.0, \"positiveRate\": 0.063, \"state\": \"US\", \"sma7d\": 759.143}, {\"date\": \"2020-10-22T00:00:00\", \"totalTestResultsIncrease\": 1255490.0, \"positiveIncrease\": 73003.0, \"death\": 214941.0, \"deathIncrease\": 1126.0, \"positiveRate\": 0.058, \"state\": \"US\", \"sma7d\": 787.143}, {\"date\": \"2020-10-23T00:00:00\", \"totalTestResultsIncrease\": 1404686.0, \"positiveIncrease\": 82342.0, \"death\": 215875.0, \"deathIncrease\": 934.0, \"positiveRate\": 0.059, \"state\": \"US\", \"sma7d\": 792.429}, {\"date\": \"2020-10-24T00:00:00\", \"totalTestResultsIncrease\": 1341535.0, \"positiveIncrease\": 83319.0, \"death\": 216765.0, \"deathIncrease\": 890.0, \"positiveRate\": 0.062, \"state\": \"US\", \"sma7d\": 809.143}, {\"date\": \"2020-10-25T00:00:00\", \"totalTestResultsIncrease\": 1197113.0, \"positiveIncrease\": 64897.0, \"death\": 217147.0, \"deathIncrease\": 382.0, \"positiveRate\": 0.054, \"state\": \"US\", \"sma7d\": 806.286}, {\"date\": \"2020-10-26T00:00:00\", \"totalTestResultsIncrease\": 1215005.0, \"positiveIncrease\": 62535.0, \"death\": 217549.0, \"deathIncrease\": 402.0, \"positiveRate\": 0.051, \"state\": \"US\", \"sma7d\": 798.571}, {\"date\": \"2020-10-27T00:00:00\", \"totalTestResultsIncrease\": 1097470.0, \"positiveIncrease\": 72097.0, \"death\": 218468.0, \"deathIncrease\": 919.0, \"positiveRate\": 0.066, \"state\": \"US\", \"sma7d\": 810.286}, {\"date\": \"2020-10-28T00:00:00\", \"totalTestResultsIncrease\": 1128640.0, \"positiveIncrease\": 78793.0, \"death\": 219512.0, \"deathIncrease\": 1044.0, \"positiveRate\": 0.07, \"state\": \"US\", \"sma7d\": 813.857}, {\"date\": \"2020-10-29T00:00:00\", \"totalTestResultsIncrease\": 1354648.0, \"positiveIncrease\": 88728.0, \"death\": 220549.0, \"deathIncrease\": 1037.0, \"positiveRate\": 0.065, \"state\": \"US\", \"sma7d\": 801.143}, {\"date\": \"2020-10-30T00:00:00\", \"totalTestResultsIncrease\": 1388573.0, \"positiveIncrease\": 97263.0, \"death\": 221496.0, \"deathIncrease\": 947.0, \"positiveRate\": 0.07, \"state\": \"US\", \"sma7d\": 803.0}, {\"date\": \"2020-10-31T00:00:00\", \"totalTestResultsIncrease\": 1422244.0, \"positiveIncrease\": 90613.0, \"death\": 222459.0, \"deathIncrease\": 963.0, \"positiveRate\": 0.064, \"state\": \"US\", \"sma7d\": 813.429}, {\"date\": \"2020-11-01T00:00:00\", \"totalTestResultsIncrease\": 1135555.0, \"positiveIncrease\": 73872.0, \"death\": 222854.0, \"deathIncrease\": 395.0, \"positiveRate\": 0.065, \"state\": \"US\", \"sma7d\": 815.286}, {\"date\": \"2020-11-02T00:00:00\", \"totalTestResultsIncrease\": 1336795.0, \"positiveIncrease\": 82042.0, \"death\": 223345.0, \"deathIncrease\": 491.0, \"positiveRate\": 0.061, \"state\": \"US\", \"sma7d\": 828.0}, {\"date\": \"2020-11-03T00:00:00\", \"totalTestResultsIncrease\": 1159145.0, \"positiveIncrease\": 86715.0, \"death\": 224859.0, \"deathIncrease\": 1514.0, \"positiveRate\": 0.075, \"state\": \"US\", \"sma7d\": 913.0}, {\"date\": \"2020-11-04T00:00:00\", \"totalTestResultsIncrease\": 1257102.0, \"positiveIncrease\": 103363.0, \"death\": 225976.0, \"deathIncrease\": 1117.0, \"positiveRate\": 0.082, \"state\": \"US\", \"sma7d\": 923.429}, {\"date\": \"2020-11-05T00:00:00\", \"totalTestResultsIncrease\": 1596467.0, \"positiveIncrease\": 116479.0, \"death\": 227122.0, \"deathIncrease\": 1146.0, \"positiveRate\": 0.073, \"state\": \"US\", \"sma7d\": 939.0}, {\"date\": \"2020-11-06T00:00:00\", \"totalTestResultsIncrease\": 1593285.0, \"positiveIncrease\": 125798.0, \"death\": 228295.0, \"deathIncrease\": 1173.0, \"positiveRate\": 0.079, \"state\": \"US\", \"sma7d\": 971.286}, {\"date\": \"2020-11-07T00:00:00\", \"totalTestResultsIncrease\": 1438200.0, \"positiveIncrease\": 129266.0, \"death\": 229414.0, \"deathIncrease\": 1119.0, \"positiveRate\": 0.09, \"state\": \"US\", \"sma7d\": 993.571}, {\"date\": \"2020-11-08T00:00:00\", \"totalTestResultsIncrease\": 1266926.0, \"positiveIncrease\": 110306.0, \"death\": 229910.0, \"deathIncrease\": 496.0, \"positiveRate\": 0.087, \"state\": \"US\", \"sma7d\": 1008.0}, {\"date\": \"2020-11-09T00:00:00\", \"totalTestResultsIncrease\": 1526713.0, \"positiveIncrease\": 119434.0, \"death\": 230487.0, \"deathIncrease\": 577.0, \"positiveRate\": 0.078, \"state\": \"US\", \"sma7d\": 1020.286}, {\"date\": \"2020-11-10T00:00:00\", \"totalTestResultsIncrease\": 1279671.0, \"positiveIncrease\": 131250.0, \"death\": 231847.0, \"deathIncrease\": 1360.0, \"positiveRate\": 0.103, \"state\": \"US\", \"sma7d\": 998.286}, {\"date\": \"2020-11-11T00:00:00\", \"totalTestResultsIncrease\": 1457216.0, \"positiveIncrease\": 144882.0, \"death\": 233410.0, \"deathIncrease\": 1563.0, \"positiveRate\": 0.099, \"state\": \"US\", \"sma7d\": 1062.0}, {\"date\": \"2020-11-12T00:00:00\", \"totalTestResultsIncrease\": 1497859.0, \"positiveIncrease\": 152047.0, \"death\": 234529.0, \"deathIncrease\": 1119.0, \"positiveRate\": 0.102, \"state\": \"US\", \"sma7d\": 1058.143}, {\"date\": \"2020-11-13T00:00:00\", \"totalTestResultsIncrease\": 1730806.0, \"positiveIncrease\": 172177.0, \"death\": 235797.0, \"deathIncrease\": 1268.0, \"positiveRate\": 0.099, \"state\": \"US\", \"sma7d\": 1071.714}, {\"date\": \"2020-11-14T00:00:00\", \"totalTestResultsIncrease\": 1689149.0, \"positiveIncrease\": 163597.0, \"death\": 237128.0, \"deathIncrease\": 1331.0, \"positiveRate\": 0.097, \"state\": \"US\", \"sma7d\": 1102.0}, {\"date\": \"2020-11-15T00:00:00\", \"totalTestResultsIncrease\": 1632584.0, \"positiveIncrease\": 144468.0, \"death\": 237815.0, \"deathIncrease\": 687.0, \"positiveRate\": 0.088, \"state\": \"US\", \"sma7d\": 1129.286}, {\"date\": \"2020-11-16T00:00:00\", \"totalTestResultsIncrease\": 1498258.0, \"positiveIncrease\": 148868.0, \"death\": 238434.0, \"deathIncrease\": 619.0, \"positiveRate\": 0.099, \"state\": \"US\", \"sma7d\": 1135.286}, {\"date\": \"2020-11-17T00:00:00\", \"totalTestResultsIncrease\": 1547618.0, \"positiveIncrease\": 156779.0, \"death\": 239989.0, \"deathIncrease\": 1555.0, \"positiveRate\": 0.101, \"state\": \"US\", \"sma7d\": 1163.143}, {\"date\": \"2020-11-18T00:00:00\", \"totalTestResultsIncrease\": 1582822.0, \"positiveIncrease\": 164050.0, \"death\": 241853.0, \"deathIncrease\": 1864.0, \"positiveRate\": 0.104, \"state\": \"US\", \"sma7d\": 1206.143}, {\"date\": \"2020-11-19T00:00:00\", \"totalTestResultsIncrease\": 1865051.0, \"positiveIncrease\": 182903.0, \"death\": 243820.0, \"deathIncrease\": 1967.0, \"positiveRate\": 0.098, \"state\": \"US\", \"sma7d\": 1327.286}, {\"date\": \"2020-11-20T00:00:00\", \"totalTestResultsIncrease\": 1957210.0, \"positiveIncrease\": 192830.0, \"death\": 245704.0, \"deathIncrease\": 1884.0, \"positiveRate\": 0.099, \"state\": \"US\", \"sma7d\": 1415.286}, {\"date\": \"2020-11-21T00:00:00\", \"totalTestResultsIncrease\": 2046159.0, \"positiveIncrease\": 179763.0, \"death\": 247216.0, \"deathIncrease\": 1512.0, \"positiveRate\": 0.088, \"state\": \"US\", \"sma7d\": 1441.143}, {\"date\": \"2020-11-22T00:00:00\", \"totalTestResultsIncrease\": 1759793.0, \"positiveIncrease\": 150878.0, \"death\": 248114.0, \"deathIncrease\": 898.0, \"positiveRate\": 0.086, \"state\": \"US\", \"sma7d\": 1471.286}, {\"date\": \"2020-11-23T00:00:00\", \"totalTestResultsIncrease\": 1770734.0, \"positiveIncrease\": 150956.0, \"death\": 249069.0, \"deathIncrease\": 955.0, \"positiveRate\": 0.085, \"state\": \"US\", \"sma7d\": 1519.286}, {\"date\": \"2020-11-24T00:00:00\", \"totalTestResultsIncrease\": 1850973.0, \"positiveIncrease\": 167076.0, \"death\": 251135.0, \"deathIncrease\": 2066.0, \"positiveRate\": 0.09, \"state\": \"US\", \"sma7d\": 1592.286}, {\"date\": \"2020-11-25T00:00:00\", \"totalTestResultsIncrease\": 1772851.0, \"positiveIncrease\": 183736.0, \"death\": 253424.0, \"deathIncrease\": 2289.0, \"positiveRate\": 0.104, \"state\": \"US\", \"sma7d\": 1653.0}, {\"date\": \"2020-11-26T00:00:00\", \"totalTestResultsIncrease\": 1218302.0, \"positiveIncrease\": 126378.0, \"death\": 254760.0, \"deathIncrease\": 1336.0, \"positiveRate\": 0.104, \"state\": \"US\", \"sma7d\": 1562.857}, {\"date\": \"2020-11-27T00:00:00\", \"totalTestResultsIncrease\": 2131470.0, \"positiveIncrease\": 193686.0, \"death\": 256132.0, \"deathIncrease\": 1372.0, \"positiveRate\": 0.091, \"state\": \"US\", \"sma7d\": 1489.714}, {\"date\": \"2020-11-28T00:00:00\", \"totalTestResultsIncrease\": 1739550.0, \"positiveIncrease\": 154614.0, \"death\": 257377.0, \"deathIncrease\": 1245.0, \"positiveRate\": 0.089, \"state\": \"US\", \"sma7d\": 1451.571}, {\"date\": \"2020-11-29T00:00:00\", \"totalTestResultsIncrease\": 1298270.0, \"positiveIncrease\": 135244.0, \"death\": 258180.0, \"deathIncrease\": 803.0, \"positiveRate\": 0.104, \"state\": \"US\", \"sma7d\": 1438.0}, {\"date\": \"2020-11-30T00:00:00\", \"totalTestResultsIncrease\": 1619461.0, \"positiveIncrease\": 147588.0, \"death\": 259316.0, \"deathIncrease\": 1136.0, \"positiveRate\": 0.091, \"state\": \"US\", \"sma7d\": 1463.857}, {\"date\": \"2020-12-01T00:00:00\", \"totalTestResultsIncrease\": 1444608.0, \"positiveIncrease\": 176816.0, \"death\": 261789.0, \"deathIncrease\": 2473.0, \"positiveRate\": 0.122, \"state\": \"US\", \"sma7d\": 1522.0}, {\"date\": \"2020-12-02T00:00:00\", \"totalTestResultsIncrease\": 1496688.0, \"positiveIncrease\": 195867.0, \"death\": 264522.0, \"deathIncrease\": 2733.0, \"positiveRate\": 0.131, \"state\": \"US\", \"sma7d\": 1585.429}, {\"date\": \"2020-12-03T00:00:00\", \"totalTestResultsIncrease\": 1862081.0, \"positiveIncrease\": 210251.0, \"death\": 267228.0, \"deathIncrease\": 2706.0, \"positiveRate\": 0.113, \"state\": \"US\", \"sma7d\": 1781.143}, {\"date\": \"2020-12-04T00:00:00\", \"totalTestResultsIncrease\": 1880479.0, \"positiveIncrease\": 224878.0, \"death\": 269791.0, \"deathIncrease\": 2563.0, \"positiveRate\": 0.12, \"state\": \"US\", \"sma7d\": 1951.286}, {\"date\": \"2020-12-05T00:00:00\", \"totalTestResultsIncrease\": 2231784.0, \"positiveIncrease\": 212940.0, \"death\": 272252.0, \"deathIncrease\": 2461.0, \"positiveRate\": 0.095, \"state\": \"US\", \"sma7d\": 2125.0}, {\"date\": \"2020-12-06T00:00:00\", \"totalTestResultsIncrease\": 1660728.0, \"positiveIncrease\": 177812.0, \"death\": 273398.0, \"deathIncrease\": 1146.0, \"positiveRate\": 0.107, \"state\": \"US\", \"sma7d\": 2174.0}, {\"date\": \"2020-12-07T00:00:00\", \"totalTestResultsIncrease\": 1772911.0, \"positiveIncrease\": 180219.0, \"death\": 274745.0, \"deathIncrease\": 1347.0, \"positiveRate\": 0.102, \"state\": \"US\", \"sma7d\": 2204.143}, {\"date\": \"2020-12-08T00:00:00\", \"totalTestResultsIncrease\": 1628432.0, \"positiveIncrease\": 215335.0, \"death\": 277400.0, \"deathIncrease\": 2655.0, \"positiveRate\": 0.132, \"state\": \"US\", \"sma7d\": 2230.143}, {\"date\": \"2020-12-09T00:00:00\", \"totalTestResultsIncrease\": 1822067.0, \"positiveIncrease\": 211020.0, \"death\": 280488.0, \"deathIncrease\": 3088.0, \"positiveRate\": 0.116, \"state\": \"US\", \"sma7d\": 2280.857}, {\"date\": \"2020-12-10T00:00:00\", \"totalTestResultsIncrease\": 1940881.0, \"positiveIncrease\": 215049.0, \"death\": 283400.0, \"deathIncrease\": 3062.0, \"positiveRate\": 0.111, \"state\": \"US\", \"sma7d\": 2331.714}]}}, {\"mode\": \"vega-lite\"});\n",
       "</script>"
      ],
      "text/plain": [
       "alt.LayerChart(...)"
      ]
     },
     "execution_count": 9,
     "metadata": {},
     "output_type": "execute_result"
    }
   ],
   "source": [
    "create_plot(us, 'deathIncrease')"
   ]
  },
  {
   "cell_type": "markdown",
   "metadata": {
    "papermill": {
     "duration": 0.013288,
     "end_time": "2020-12-11T09:26:59.610356",
     "exception": false,
     "start_time": "2020-12-11T09:26:59.597068",
     "status": "completed"
    },
    "tags": []
   },
   "source": [
    "## NY"
   ]
  },
  {
   "cell_type": "code",
   "execution_count": 10,
   "metadata": {
    "execution": {
     "iopub.execute_input": "2020-12-11T09:26:59.640535Z",
     "iopub.status.busy": "2020-12-11T09:26:59.640051Z",
     "iopub.status.idle": "2020-12-11T09:26:59.898161Z",
     "shell.execute_reply": "2020-12-11T09:26:59.897652Z"
    },
    "papermill": {
     "duration": 0.274714,
     "end_time": "2020-12-11T09:26:59.898289",
     "exception": false,
     "start_time": "2020-12-11T09:26:59.623575",
     "status": "completed"
    },
    "tags": []
   },
   "outputs": [],
   "source": [
    "ny = create_df(df, (lambda d: d['state'] == 'NY'), 'New York')"
   ]
  },
  {
   "cell_type": "code",
   "execution_count": 11,
   "metadata": {
    "execution": {
     "iopub.execute_input": "2020-12-11T09:26:59.937156Z",
     "iopub.status.busy": "2020-12-11T09:26:59.929380Z",
     "iopub.status.idle": "2020-12-11T09:27:00.008401Z",
     "shell.execute_reply": "2020-12-11T09:27:00.008759Z"
    },
    "papermill": {
     "duration": 0.096901,
     "end_time": "2020-12-11T09:27:00.008916",
     "exception": false,
     "start_time": "2020-12-11T09:26:59.912015",
     "status": "completed"
    },
    "tags": []
   },
   "outputs": [
    {
     "data": {
      "text/html": [
       "\n",
       "<div id=\"altair-viz-024d6a23ada644c4a21ab2b0ae3030ae\"></div>\n",
       "<script type=\"text/javascript\">\n",
       "  (function(spec, embedOpt){\n",
       "    let outputDiv = document.currentScript.previousElementSibling;\n",
       "    if (outputDiv.id !== \"altair-viz-024d6a23ada644c4a21ab2b0ae3030ae\") {\n",
       "      outputDiv = document.getElementById(\"altair-viz-024d6a23ada644c4a21ab2b0ae3030ae\");\n",
       "    }\n",
       "    const paths = {\n",
       "      \"vega\": \"https://cdn.jsdelivr.net/npm//vega@5?noext\",\n",
       "      \"vega-lib\": \"https://cdn.jsdelivr.net/npm//vega-lib?noext\",\n",
       "      \"vega-lite\": \"https://cdn.jsdelivr.net/npm//vega-lite@4.8.1?noext\",\n",
       "      \"vega-embed\": \"https://cdn.jsdelivr.net/npm//vega-embed@6?noext\",\n",
       "    };\n",
       "\n",
       "    function loadScript(lib) {\n",
       "      return new Promise(function(resolve, reject) {\n",
       "        var s = document.createElement('script');\n",
       "        s.src = paths[lib];\n",
       "        s.async = true;\n",
       "        s.onload = () => resolve(paths[lib]);\n",
       "        s.onerror = () => reject(`Error loading script: ${paths[lib]}`);\n",
       "        document.getElementsByTagName(\"head\")[0].appendChild(s);\n",
       "      });\n",
       "    }\n",
       "\n",
       "    function showError(err) {\n",
       "      outputDiv.innerHTML = `<div class=\"error\" style=\"color:red;\">${err}</div>`;\n",
       "      throw err;\n",
       "    }\n",
       "\n",
       "    function displayChart(vegaEmbed) {\n",
       "      vegaEmbed(outputDiv, spec, embedOpt)\n",
       "        .catch(err => showError(`Javascript Error: ${err.message}<br>This usually means there's a typo in your chart specification. See the javascript console for the full traceback.`));\n",
       "    }\n",
       "\n",
       "    if(typeof define === \"function\" && define.amd) {\n",
       "      requirejs.config({paths});\n",
       "      require([\"vega-embed\"], displayChart, err => showError(`Error loading script: ${err.message}`));\n",
       "    } else if (typeof vegaEmbed === \"function\") {\n",
       "      displayChart(vegaEmbed);\n",
       "    } else {\n",
       "      loadScript(\"vega\")\n",
       "        .then(() => loadScript(\"vega-lite\"))\n",
       "        .then(() => loadScript(\"vega-embed\"))\n",
       "        .catch(showError)\n",
       "        .then(() => displayChart(vegaEmbed));\n",
       "    }\n",
       "  })({\"config\": {\"view\": {\"continuousWidth\": 400, \"continuousHeight\": 300}}, \"layer\": [{\"layer\": [{\"mark\": {\"type\": \"point\", \"size\": 75}, \"encoding\": {\"tooltip\": [{\"type\": \"temporal\", \"field\": \"date\"}, {\"type\": \"quantitative\", \"field\": \"positiveIncrease\"}, {\"type\": \"quantitative\", \"field\": \"sma7d\"}], \"x\": {\"type\": \"temporal\", \"field\": \"date\"}, \"y\": {\"type\": \"quantitative\", \"field\": \"positiveIncrease\"}}, \"selection\": {\"selector008\": {\"type\": \"interval\", \"bind\": \"scales\", \"encodings\": [\"x\", \"y\"]}}}, {\"mark\": {\"type\": \"line\", \"color\": \"purple\"}, \"encoding\": {\"x\": {\"type\": \"temporal\", \"field\": \"date\"}, \"y\": {\"type\": \"quantitative\", \"field\": \"sma7d\"}}}]}, {\"mark\": {\"type\": \"rule\", \"color\": \"#aaa\"}, \"encoding\": {\"x\": {\"type\": \"temporal\", \"field\": \"date\"}}, \"transform\": [{\"filter\": {\"selection\": \"selector007\"}}]}, {\"mark\": \"circle\", \"encoding\": {\"opacity\": {\"condition\": {\"value\": 1, \"selection\": \"selector007\"}, \"value\": 0}, \"tooltip\": [{\"type\": \"temporal\", \"field\": \"date\"}, {\"type\": \"quantitative\", \"field\": \"positiveIncrease\"}, {\"type\": \"quantitative\", \"field\": \"sma7d\"}], \"x\": {\"type\": \"temporal\", \"field\": \"date\"}, \"y\": {\"type\": \"quantitative\", \"field\": \"positiveIncrease\"}}, \"selection\": {\"selector007\": {\"type\": \"single\", \"encodings\": [\"x\"], \"on\": \"mouseover\", \"nearest\": true, \"empty\": \"none\"}}}, {\"mark\": {\"type\": \"text\", \"align\": \"left\", \"dx\": 5, \"dy\": -5, \"stroke\": \"white\", \"strokeWidth\": 2}, \"encoding\": {\"text\": {\"type\": \"quantitative\", \"field\": \"positiveIncrease\"}, \"tooltip\": [{\"type\": \"temporal\", \"field\": \"date\"}, {\"type\": \"quantitative\", \"field\": \"positiveIncrease\"}, {\"type\": \"quantitative\", \"field\": \"sma7d\"}], \"x\": {\"type\": \"temporal\", \"field\": \"date\"}, \"y\": {\"type\": \"quantitative\", \"field\": \"positiveIncrease\"}}, \"transform\": [{\"filter\": {\"selection\": \"selector007\"}}]}, {\"mark\": {\"type\": \"text\", \"align\": \"left\", \"dx\": 5, \"dy\": -5}, \"encoding\": {\"text\": {\"type\": \"quantitative\", \"field\": \"positiveIncrease\"}, \"tooltip\": [{\"type\": \"temporal\", \"field\": \"date\"}, {\"type\": \"quantitative\", \"field\": \"positiveIncrease\"}, {\"type\": \"quantitative\", \"field\": \"sma7d\"}], \"x\": {\"type\": \"temporal\", \"field\": \"date\"}, \"y\": {\"type\": \"quantitative\", \"field\": \"positiveIncrease\"}}, \"transform\": [{\"filter\": {\"selection\": \"selector007\"}}]}], \"data\": {\"name\": \"data-780cebc620664908d0212e38e1c5152a\"}, \"height\": 400, \"title\": \"New York: positiveIncrease\", \"width\": 500, \"$schema\": \"https://vega.github.io/schema/vega-lite/v4.8.1.json\", \"datasets\": {\"data-780cebc620664908d0212e38e1c5152a\": [{\"date\": \"2020-10-17T00:00:00\", \"totalTestResultsIncrease\": 159972.0, \"positiveIncrease\": 1784.0, \"death\": 25637.0, \"deathIncrease\": 9.0, \"positiveRate\": 0.011, \"state\": \"New York\", \"sma7d\": 1392.571}, {\"date\": \"2020-10-18T00:00:00\", \"totalTestResultsIncrease\": 128763.0, \"positiveIncrease\": 1390.0, \"death\": 25644.0, \"deathIncrease\": 7.0, \"positiveRate\": 0.011, \"state\": \"New York\", \"sma7d\": 1427.857}, {\"date\": \"2020-10-19T00:00:00\", \"totalTestResultsIncrease\": 82009.0, \"positiveIncrease\": 998.0, \"death\": 25659.0, \"deathIncrease\": 15.0, \"positiveRate\": 0.012, \"state\": \"New York\", \"sma7d\": 1423.429}, {\"date\": \"2020-10-20T00:00:00\", \"totalTestResultsIncrease\": 90540.0, \"positiveIncrease\": 1201.0, \"death\": 25672.0, \"deathIncrease\": 13.0, \"positiveRate\": 0.013, \"state\": \"New York\", \"sma7d\": 1396.0}, {\"date\": \"2020-10-21T00:00:00\", \"totalTestResultsIncrease\": 124789.0, \"positiveIncrease\": 2026.0, \"death\": 25679.0, \"deathIncrease\": 7.0, \"positiveRate\": 0.016, \"state\": \"New York\", \"sma7d\": 1509.429}, {\"date\": \"2020-10-22T00:00:00\", \"totalTestResultsIncrease\": 135341.0, \"positiveIncrease\": 1628.0, \"death\": 25694.0, \"deathIncrease\": 15.0, \"positiveRate\": 0.012, \"state\": \"New York\", \"sma7d\": 1533.429}, {\"date\": \"2020-10-23T00:00:00\", \"totalTestResultsIncrease\": 141508.0, \"positiveIncrease\": 1637.0, \"death\": 25705.0, \"deathIncrease\": 11.0, \"positiveRate\": 0.012, \"state\": \"New York\", \"sma7d\": 1523.429}, {\"date\": \"2020-10-24T00:00:00\", \"totalTestResultsIncrease\": 156940.0, \"positiveIncrease\": 2061.0, \"death\": 25718.0, \"deathIncrease\": 13.0, \"positiveRate\": 0.013, \"state\": \"New York\", \"sma7d\": 1563.0}, {\"date\": \"2020-10-25T00:00:00\", \"totalTestResultsIncrease\": 120830.0, \"positiveIncrease\": 1632.0, \"death\": 25730.0, \"deathIncrease\": 12.0, \"positiveRate\": 0.014, \"state\": \"New York\", \"sma7d\": 1597.571}, {\"date\": \"2020-10-26T00:00:00\", \"totalTestResultsIncrease\": 82117.0, \"positiveIncrease\": 1191.0, \"death\": 25742.0, \"deathIncrease\": 12.0, \"positiveRate\": 0.015, \"state\": \"New York\", \"sma7d\": 1625.143}, {\"date\": \"2020-10-27T00:00:00\", \"totalTestResultsIncrease\": 111618.0, \"positiveIncrease\": 1991.0, \"death\": 25758.0, \"deathIncrease\": 16.0, \"positiveRate\": 0.018, \"state\": \"New York\", \"sma7d\": 1738.0}, {\"date\": \"2020-10-28T00:00:00\", \"totalTestResultsIncrease\": 129660.0, \"positiveIncrease\": 2031.0, \"death\": 25773.0, \"deathIncrease\": 15.0, \"positiveRate\": 0.016, \"state\": \"New York\", \"sma7d\": 1738.714}, {\"date\": \"2020-10-29T00:00:00\", \"totalTestResultsIncrease\": 168353.0, \"positiveIncrease\": 2499.0, \"death\": 25792.0, \"deathIncrease\": 19.0, \"positiveRate\": 0.015, \"state\": \"New York\", \"sma7d\": 1863.143}, {\"date\": \"2020-10-30T00:00:00\", \"totalTestResultsIncrease\": 146885.0, \"positiveIncrease\": 2255.0, \"death\": 25804.0, \"deathIncrease\": 12.0, \"positiveRate\": 0.015, \"state\": \"New York\", \"sma7d\": 1951.429}, {\"date\": \"2020-10-31T00:00:00\", \"totalTestResultsIncrease\": 136962.0, \"positiveIncrease\": 2049.0, \"death\": 25807.0, \"deathIncrease\": 3.0, \"positiveRate\": 0.015, \"state\": \"New York\", \"sma7d\": 1949.714}, {\"date\": \"2020-11-01T00:00:00\", \"totalTestResultsIncrease\": 148935.0, \"positiveIncrease\": 2255.0, \"death\": 25824.0, \"deathIncrease\": 17.0, \"positiveRate\": 0.015, \"state\": \"New York\", \"sma7d\": 2038.714}, {\"date\": \"2020-11-02T00:00:00\", \"totalTestResultsIncrease\": 96101.0, \"positiveIncrease\": 1633.0, \"death\": 25838.0, \"deathIncrease\": 14.0, \"positiveRate\": 0.017, \"state\": \"New York\", \"sma7d\": 2101.857}, {\"date\": \"2020-11-03T00:00:00\", \"totalTestResultsIncrease\": 127869.0, \"positiveIncrease\": 2321.0, \"death\": 25853.0, \"deathIncrease\": 15.0, \"positiveRate\": 0.018, \"state\": \"New York\", \"sma7d\": 2149.0}, {\"date\": \"2020-11-04T00:00:00\", \"totalTestResultsIncrease\": 133534.0, \"positiveIncrease\": 2126.0, \"death\": 25868.0, \"deathIncrease\": 15.0, \"positiveRate\": 0.016, \"state\": \"New York\", \"sma7d\": 2162.571}, {\"date\": \"2020-11-05T00:00:00\", \"totalTestResultsIncrease\": 161019.0, \"positiveIncrease\": 2997.0, \"death\": 25892.0, \"deathIncrease\": 24.0, \"positiveRate\": 0.019, \"state\": \"New York\", \"sma7d\": 2233.714}, {\"date\": \"2020-11-06T00:00:00\", \"totalTestResultsIncrease\": 160705.0, \"positiveIncrease\": 3209.0, \"death\": 25910.0, \"deathIncrease\": 18.0, \"positiveRate\": 0.02, \"state\": \"New York\", \"sma7d\": 2370.0}, {\"date\": \"2020-11-07T00:00:00\", \"totalTestResultsIncrease\": 163291.0, \"positiveIncrease\": 3587.0, \"death\": 25928.0, \"deathIncrease\": 18.0, \"positiveRate\": 0.022, \"state\": \"New York\", \"sma7d\": 2589.714}, {\"date\": \"2020-11-08T00:00:00\", \"totalTestResultsIncrease\": 145642.0, \"positiveIncrease\": 3428.0, \"death\": 25947.0, \"deathIncrease\": 19.0, \"positiveRate\": 0.024, \"state\": \"New York\", \"sma7d\": 2757.286}, {\"date\": \"2020-11-09T00:00:00\", \"totalTestResultsIncrease\": 111416.0, \"positiveIncrease\": 3144.0, \"death\": 25973.0, \"deathIncrease\": 26.0, \"positiveRate\": 0.028, \"state\": \"New York\", \"sma7d\": 2973.143}, {\"date\": \"2020-11-10T00:00:00\", \"totalTestResultsIncrease\": 128036.0, \"positiveIncrease\": 3965.0, \"death\": 26005.0, \"deathIncrease\": 32.0, \"positiveRate\": 0.031, \"state\": \"New York\", \"sma7d\": 3208.0}, {\"date\": \"2020-11-11T00:00:00\", \"totalTestResultsIncrease\": 164300.0, \"positiveIncrease\": 4820.0, \"death\": 26026.0, \"deathIncrease\": 21.0, \"positiveRate\": 0.029, \"state\": \"New York\", \"sma7d\": 3592.857}, {\"date\": \"2020-11-12T00:00:00\", \"totalTestResultsIncrease\": 162627.0, \"positiveIncrease\": 4797.0, \"death\": 26055.0, \"deathIncrease\": 29.0, \"positiveRate\": 0.029, \"state\": \"New York\", \"sma7d\": 3850.0}, {\"date\": \"2020-11-13T00:00:00\", \"totalTestResultsIncrease\": 203721.0, \"positiveIncrease\": 5401.0, \"death\": 26079.0, \"deathIncrease\": 24.0, \"positiveRate\": 0.027, \"state\": \"New York\", \"sma7d\": 4163.143}, {\"date\": \"2020-11-14T00:00:00\", \"totalTestResultsIncrease\": 184162.0, \"positiveIncrease\": 5388.0, \"death\": 26103.0, \"deathIncrease\": 24.0, \"positiveRate\": 0.029, \"state\": \"New York\", \"sma7d\": 4420.429}, {\"date\": \"2020-11-15T00:00:00\", \"totalTestResultsIncrease\": 133202.0, \"positiveIncrease\": 3649.0, \"death\": 26133.0, \"deathIncrease\": 30.0, \"positiveRate\": 0.027, \"state\": \"New York\", \"sma7d\": 4452.0}, {\"date\": \"2020-11-16T00:00:00\", \"totalTestResultsIncrease\": 124565.0, \"positiveIncrease\": 3490.0, \"death\": 26159.0, \"deathIncrease\": 26.0, \"positiveRate\": 0.028, \"state\": \"New York\", \"sma7d\": 4501.429}, {\"date\": \"2020-11-17T00:00:00\", \"totalTestResultsIncrease\": 159852.0, \"positiveIncrease\": 5088.0, \"death\": 26189.0, \"deathIncrease\": 30.0, \"positiveRate\": 0.032, \"state\": \"New York\", \"sma7d\": 4661.857}, {\"date\": \"2020-11-18T00:00:00\", \"totalTestResultsIncrease\": 154434.0, \"positiveIncrease\": 5294.0, \"death\": 26225.0, \"deathIncrease\": 36.0, \"positiveRate\": 0.034, \"state\": \"New York\", \"sma7d\": 4729.571}, {\"date\": \"2020-11-19T00:00:00\", \"totalTestResultsIncrease\": 195239.0, \"positiveIncrease\": 5310.0, \"death\": 26257.0, \"deathIncrease\": 32.0, \"positiveRate\": 0.027, \"state\": \"New York\", \"sma7d\": 4802.857}, {\"date\": \"2020-11-20T00:00:00\", \"totalTestResultsIncrease\": 205466.0, \"positiveIncrease\": 5468.0, \"death\": 26292.0, \"deathIncrease\": 35.0, \"positiveRate\": 0.027, \"state\": \"New York\", \"sma7d\": 4812.429}, {\"date\": \"2020-11-21T00:00:00\", \"totalTestResultsIncrease\": 207907.0, \"positiveIncrease\": 5972.0, \"death\": 26326.0, \"deathIncrease\": 34.0, \"positiveRate\": 0.029, \"state\": \"New York\", \"sma7d\": 4895.857}, {\"date\": \"2020-11-22T00:00:00\", \"totalTestResultsIncrease\": 196610.0, \"positiveIncrease\": 5392.0, \"death\": 26357.0, \"deathIncrease\": 31.0, \"positiveRate\": 0.027, \"state\": \"New York\", \"sma7d\": 5144.857}, {\"date\": \"2020-11-23T00:00:00\", \"totalTestResultsIncrease\": 191489.0, \"positiveIncrease\": 5906.0, \"death\": 26390.0, \"deathIncrease\": 33.0, \"positiveRate\": 0.031, \"state\": \"New York\", \"sma7d\": 5490.0}, {\"date\": \"2020-11-24T00:00:00\", \"totalTestResultsIncrease\": 164761.0, \"positiveIncrease\": 4881.0, \"death\": 26441.0, \"deathIncrease\": 51.0, \"positiveRate\": 0.03, \"state\": \"New York\", \"sma7d\": 5460.429}, {\"date\": \"2020-11-25T00:00:00\", \"totalTestResultsIncrease\": 173085.0, \"positiveIncrease\": 6265.0, \"death\": 26482.0, \"deathIncrease\": 41.0, \"positiveRate\": 0.036, \"state\": \"New York\", \"sma7d\": 5599.143}, {\"date\": \"2020-11-26T00:00:00\", \"totalTestResultsIncrease\": 217721.0, \"positiveIncrease\": 6933.0, \"death\": 26549.0, \"deathIncrease\": 67.0, \"positiveRate\": 0.032, \"state\": \"New York\", \"sma7d\": 5831.0}, {\"date\": \"2020-11-27T00:00:00\", \"totalTestResultsIncrease\": 219442.0, \"positiveIncrease\": 8176.0, \"death\": 26588.0, \"deathIncrease\": 39.0, \"positiveRate\": 0.037, \"state\": \"New York\", \"sma7d\": 6217.857}, {\"date\": \"2020-11-28T00:00:00\", \"totalTestResultsIncrease\": 152355.0, \"positiveIncrease\": 6063.0, \"death\": 26632.0, \"deathIncrease\": 44.0, \"positiveRate\": 0.04, \"state\": \"New York\", \"sma7d\": 6230.857}, {\"date\": \"2020-11-29T00:00:00\", \"totalTestResultsIncrease\": 157320.0, \"positiveIncrease\": 6723.0, \"death\": 26690.0, \"deathIncrease\": 58.0, \"positiveRate\": 0.043, \"state\": \"New York\", \"sma7d\": 6421.0}, {\"date\": \"2020-11-30T00:00:00\", \"totalTestResultsIncrease\": 148974.0, \"positiveIncrease\": 6819.0, \"death\": 26747.0, \"deathIncrease\": 57.0, \"positiveRate\": 0.046, \"state\": \"New York\", \"sma7d\": 6551.429}, {\"date\": \"2020-12-01T00:00:00\", \"totalTestResultsIncrease\": 146675.0, \"positiveIncrease\": 7285.0, \"death\": 26816.0, \"deathIncrease\": 69.0, \"positiveRate\": 0.05, \"state\": \"New York\", \"sma7d\": 6894.857}, {\"date\": \"2020-12-02T00:00:00\", \"totalTestResultsIncrease\": 193551.0, \"positiveIncrease\": 8973.0, \"death\": 26889.0, \"deathIncrease\": 73.0, \"positiveRate\": 0.046, \"state\": \"New York\", \"sma7d\": 7281.714}, {\"date\": \"2020-12-03T00:00:00\", \"totalTestResultsIncrease\": 203440.0, \"positiveIncrease\": 9855.0, \"death\": 26955.0, \"deathIncrease\": 66.0, \"positiveRate\": 0.048, \"state\": \"New York\", \"sma7d\": 7699.143}, {\"date\": \"2020-12-04T00:00:00\", \"totalTestResultsIncrease\": 208297.0, \"positiveIncrease\": 11271.0, \"death\": 27017.0, \"deathIncrease\": 62.0, \"positiveRate\": 0.054, \"state\": \"New York\", \"sma7d\": 8141.286}, {\"date\": \"2020-12-05T00:00:00\", \"totalTestResultsIncrease\": 215401.0, \"positiveIncrease\": 10761.0, \"death\": 27089.0, \"deathIncrease\": 72.0, \"positiveRate\": 0.05, \"state\": \"New York\", \"sma7d\": 8812.429}, {\"date\": \"2020-12-06T00:00:00\", \"totalTestResultsIncrease\": 205832.0, \"positiveIncrease\": 9702.0, \"death\": 27149.0, \"deathIncrease\": 60.0, \"positiveRate\": 0.047, \"state\": \"New York\", \"sma7d\": 9238.0}, {\"date\": \"2020-12-07T00:00:00\", \"totalTestResultsIncrease\": 152287.0, \"positiveIncrease\": 7302.0, \"death\": 27232.0, \"deathIncrease\": 83.0, \"positiveRate\": 0.048, \"state\": \"New York\", \"sma7d\": 9307.0}, {\"date\": \"2020-12-08T00:00:00\", \"totalTestResultsIncrease\": 162464.0, \"positiveIncrease\": 9335.0, \"death\": 27307.0, \"deathIncrease\": 75.0, \"positiveRate\": 0.057, \"state\": \"New York\", \"sma7d\": 9599.857}, {\"date\": \"2020-12-09T00:00:00\", \"totalTestResultsIncrease\": 194595.0, \"positiveIncrease\": 10600.0, \"death\": 27404.0, \"deathIncrease\": 97.0, \"positiveRate\": 0.054, \"state\": \"New York\", \"sma7d\": 9832.286}, {\"date\": \"2020-12-10T00:00:00\", \"totalTestResultsIncrease\": 197406.0, \"positiveIncrease\": 10178.0, \"death\": 27498.0, \"deathIncrease\": 94.0, \"positiveRate\": 0.052, \"state\": \"New York\", \"sma7d\": 9878.429}]}}, {\"mode\": \"vega-lite\"});\n",
       "</script>"
      ],
      "text/plain": [
       "alt.LayerChart(...)"
      ]
     },
     "execution_count": 11,
     "metadata": {},
     "output_type": "execute_result"
    }
   ],
   "source": [
    "create_plot(ny, 'positiveIncrease')"
   ]
  },
  {
   "cell_type": "code",
   "execution_count": 12,
   "metadata": {
    "execution": {
     "iopub.execute_input": "2020-12-11T09:27:00.048620Z",
     "iopub.status.busy": "2020-12-11T09:27:00.041064Z",
     "iopub.status.idle": "2020-12-11T09:27:00.120413Z",
     "shell.execute_reply": "2020-12-11T09:27:00.120772Z"
    },
    "papermill": {
     "duration": 0.097918,
     "end_time": "2020-12-11T09:27:00.120921",
     "exception": false,
     "start_time": "2020-12-11T09:27:00.023003",
     "status": "completed"
    },
    "tags": []
   },
   "outputs": [
    {
     "data": {
      "text/html": [
       "\n",
       "<div id=\"altair-viz-cffa8cc06b064e5b99e1758e47f7d77a\"></div>\n",
       "<script type=\"text/javascript\">\n",
       "  (function(spec, embedOpt){\n",
       "    let outputDiv = document.currentScript.previousElementSibling;\n",
       "    if (outputDiv.id !== \"altair-viz-cffa8cc06b064e5b99e1758e47f7d77a\") {\n",
       "      outputDiv = document.getElementById(\"altair-viz-cffa8cc06b064e5b99e1758e47f7d77a\");\n",
       "    }\n",
       "    const paths = {\n",
       "      \"vega\": \"https://cdn.jsdelivr.net/npm//vega@5?noext\",\n",
       "      \"vega-lib\": \"https://cdn.jsdelivr.net/npm//vega-lib?noext\",\n",
       "      \"vega-lite\": \"https://cdn.jsdelivr.net/npm//vega-lite@4.8.1?noext\",\n",
       "      \"vega-embed\": \"https://cdn.jsdelivr.net/npm//vega-embed@6?noext\",\n",
       "    };\n",
       "\n",
       "    function loadScript(lib) {\n",
       "      return new Promise(function(resolve, reject) {\n",
       "        var s = document.createElement('script');\n",
       "        s.src = paths[lib];\n",
       "        s.async = true;\n",
       "        s.onload = () => resolve(paths[lib]);\n",
       "        s.onerror = () => reject(`Error loading script: ${paths[lib]}`);\n",
       "        document.getElementsByTagName(\"head\")[0].appendChild(s);\n",
       "      });\n",
       "    }\n",
       "\n",
       "    function showError(err) {\n",
       "      outputDiv.innerHTML = `<div class=\"error\" style=\"color:red;\">${err}</div>`;\n",
       "      throw err;\n",
       "    }\n",
       "\n",
       "    function displayChart(vegaEmbed) {\n",
       "      vegaEmbed(outputDiv, spec, embedOpt)\n",
       "        .catch(err => showError(`Javascript Error: ${err.message}<br>This usually means there's a typo in your chart specification. See the javascript console for the full traceback.`));\n",
       "    }\n",
       "\n",
       "    if(typeof define === \"function\" && define.amd) {\n",
       "      requirejs.config({paths});\n",
       "      require([\"vega-embed\"], displayChart, err => showError(`Error loading script: ${err.message}`));\n",
       "    } else if (typeof vegaEmbed === \"function\") {\n",
       "      displayChart(vegaEmbed);\n",
       "    } else {\n",
       "      loadScript(\"vega\")\n",
       "        .then(() => loadScript(\"vega-lite\"))\n",
       "        .then(() => loadScript(\"vega-embed\"))\n",
       "        .catch(showError)\n",
       "        .then(() => displayChart(vegaEmbed));\n",
       "    }\n",
       "  })({\"config\": {\"view\": {\"continuousWidth\": 400, \"continuousHeight\": 300}}, \"layer\": [{\"layer\": [{\"mark\": {\"type\": \"point\", \"size\": 75}, \"encoding\": {\"tooltip\": [{\"type\": \"temporal\", \"field\": \"date\"}, {\"type\": \"quantitative\", \"field\": \"positiveRate\"}, {\"type\": \"quantitative\", \"field\": \"sma7d\"}], \"x\": {\"type\": \"temporal\", \"field\": \"date\"}, \"y\": {\"type\": \"quantitative\", \"field\": \"positiveRate\"}}, \"selection\": {\"selector010\": {\"type\": \"interval\", \"bind\": \"scales\", \"encodings\": [\"x\", \"y\"]}}}, {\"mark\": {\"type\": \"line\", \"color\": \"purple\"}, \"encoding\": {\"x\": {\"type\": \"temporal\", \"field\": \"date\"}, \"y\": {\"type\": \"quantitative\", \"field\": \"sma7d\"}}}]}, {\"mark\": {\"type\": \"rule\", \"color\": \"#aaa\"}, \"encoding\": {\"x\": {\"type\": \"temporal\", \"field\": \"date\"}}, \"transform\": [{\"filter\": {\"selection\": \"selector009\"}}]}, {\"mark\": \"circle\", \"encoding\": {\"opacity\": {\"condition\": {\"value\": 1, \"selection\": \"selector009\"}, \"value\": 0}, \"tooltip\": [{\"type\": \"temporal\", \"field\": \"date\"}, {\"type\": \"quantitative\", \"field\": \"positiveRate\"}, {\"type\": \"quantitative\", \"field\": \"sma7d\"}], \"x\": {\"type\": \"temporal\", \"field\": \"date\"}, \"y\": {\"type\": \"quantitative\", \"field\": \"positiveRate\"}}, \"selection\": {\"selector009\": {\"type\": \"single\", \"encodings\": [\"x\"], \"on\": \"mouseover\", \"nearest\": true, \"empty\": \"none\"}}}, {\"mark\": {\"type\": \"text\", \"align\": \"left\", \"dx\": 5, \"dy\": -5, \"stroke\": \"white\", \"strokeWidth\": 2}, \"encoding\": {\"text\": {\"type\": \"quantitative\", \"field\": \"positiveRate\"}, \"tooltip\": [{\"type\": \"temporal\", \"field\": \"date\"}, {\"type\": \"quantitative\", \"field\": \"positiveRate\"}, {\"type\": \"quantitative\", \"field\": \"sma7d\"}], \"x\": {\"type\": \"temporal\", \"field\": \"date\"}, \"y\": {\"type\": \"quantitative\", \"field\": \"positiveRate\"}}, \"transform\": [{\"filter\": {\"selection\": \"selector009\"}}]}, {\"mark\": {\"type\": \"text\", \"align\": \"left\", \"dx\": 5, \"dy\": -5}, \"encoding\": {\"text\": {\"type\": \"quantitative\", \"field\": \"positiveRate\"}, \"tooltip\": [{\"type\": \"temporal\", \"field\": \"date\"}, {\"type\": \"quantitative\", \"field\": \"positiveRate\"}, {\"type\": \"quantitative\", \"field\": \"sma7d\"}], \"x\": {\"type\": \"temporal\", \"field\": \"date\"}, \"y\": {\"type\": \"quantitative\", \"field\": \"positiveRate\"}}, \"transform\": [{\"filter\": {\"selection\": \"selector009\"}}]}], \"data\": {\"name\": \"data-13b7205e39c8ce284e7db74b3dc6746c\"}, \"height\": 400, \"title\": \"New York: positiveRate\", \"width\": 500, \"$schema\": \"https://vega.github.io/schema/vega-lite/v4.8.1.json\", \"datasets\": {\"data-13b7205e39c8ce284e7db74b3dc6746c\": [{\"date\": \"2020-10-17T00:00:00\", \"totalTestResultsIncrease\": 159972.0, \"positiveIncrease\": 1784.0, \"death\": 25637.0, \"deathIncrease\": 9.0, \"positiveRate\": 0.011, \"state\": \"New York\", \"sma7d\": 0.012}, {\"date\": \"2020-10-18T00:00:00\", \"totalTestResultsIncrease\": 128763.0, \"positiveIncrease\": 1390.0, \"death\": 25644.0, \"deathIncrease\": 7.0, \"positiveRate\": 0.011, \"state\": \"New York\", \"sma7d\": 0.012}, {\"date\": \"2020-10-19T00:00:00\", \"totalTestResultsIncrease\": 82009.0, \"positiveIncrease\": 998.0, \"death\": 25659.0, \"deathIncrease\": 15.0, \"positiveRate\": 0.012, \"state\": \"New York\", \"sma7d\": 0.012}, {\"date\": \"2020-10-20T00:00:00\", \"totalTestResultsIncrease\": 90540.0, \"positiveIncrease\": 1201.0, \"death\": 25672.0, \"deathIncrease\": 13.0, \"positiveRate\": 0.013, \"state\": \"New York\", \"sma7d\": 0.012}, {\"date\": \"2020-10-21T00:00:00\", \"totalTestResultsIncrease\": 124789.0, \"positiveIncrease\": 2026.0, \"death\": 25679.0, \"deathIncrease\": 7.0, \"positiveRate\": 0.016, \"state\": \"New York\", \"sma7d\": 0.012}, {\"date\": \"2020-10-22T00:00:00\", \"totalTestResultsIncrease\": 135341.0, \"positiveIncrease\": 1628.0, \"death\": 25694.0, \"deathIncrease\": 15.0, \"positiveRate\": 0.012, \"state\": \"New York\", \"sma7d\": 0.013}, {\"date\": \"2020-10-23T00:00:00\", \"totalTestResultsIncrease\": 141508.0, \"positiveIncrease\": 1637.0, \"death\": 25705.0, \"deathIncrease\": 11.0, \"positiveRate\": 0.012, \"state\": \"New York\", \"sma7d\": 0.012}, {\"date\": \"2020-10-24T00:00:00\", \"totalTestResultsIncrease\": 156940.0, \"positiveIncrease\": 2061.0, \"death\": 25718.0, \"deathIncrease\": 13.0, \"positiveRate\": 0.013, \"state\": \"New York\", \"sma7d\": 0.013}, {\"date\": \"2020-10-25T00:00:00\", \"totalTestResultsIncrease\": 120830.0, \"positiveIncrease\": 1632.0, \"death\": 25730.0, \"deathIncrease\": 12.0, \"positiveRate\": 0.014, \"state\": \"New York\", \"sma7d\": 0.013}, {\"date\": \"2020-10-26T00:00:00\", \"totalTestResultsIncrease\": 82117.0, \"positiveIncrease\": 1191.0, \"death\": 25742.0, \"deathIncrease\": 12.0, \"positiveRate\": 0.015, \"state\": \"New York\", \"sma7d\": 0.014}, {\"date\": \"2020-10-27T00:00:00\", \"totalTestResultsIncrease\": 111618.0, \"positiveIncrease\": 1991.0, \"death\": 25758.0, \"deathIncrease\": 16.0, \"positiveRate\": 0.018, \"state\": \"New York\", \"sma7d\": 0.014}, {\"date\": \"2020-10-28T00:00:00\", \"totalTestResultsIncrease\": 129660.0, \"positiveIncrease\": 2031.0, \"death\": 25773.0, \"deathIncrease\": 15.0, \"positiveRate\": 0.016, \"state\": \"New York\", \"sma7d\": 0.014}, {\"date\": \"2020-10-29T00:00:00\", \"totalTestResultsIncrease\": 168353.0, \"positiveIncrease\": 2499.0, \"death\": 25792.0, \"deathIncrease\": 19.0, \"positiveRate\": 0.015, \"state\": \"New York\", \"sma7d\": 0.015}, {\"date\": \"2020-10-30T00:00:00\", \"totalTestResultsIncrease\": 146885.0, \"positiveIncrease\": 2255.0, \"death\": 25804.0, \"deathIncrease\": 12.0, \"positiveRate\": 0.015, \"state\": \"New York\", \"sma7d\": 0.015}, {\"date\": \"2020-10-31T00:00:00\", \"totalTestResultsIncrease\": 136962.0, \"positiveIncrease\": 2049.0, \"death\": 25807.0, \"deathIncrease\": 3.0, \"positiveRate\": 0.015, \"state\": \"New York\", \"sma7d\": 0.015}, {\"date\": \"2020-11-01T00:00:00\", \"totalTestResultsIncrease\": 148935.0, \"positiveIncrease\": 2255.0, \"death\": 25824.0, \"deathIncrease\": 17.0, \"positiveRate\": 0.015, \"state\": \"New York\", \"sma7d\": 0.016}, {\"date\": \"2020-11-02T00:00:00\", \"totalTestResultsIncrease\": 96101.0, \"positiveIncrease\": 1633.0, \"death\": 25838.0, \"deathIncrease\": 14.0, \"positiveRate\": 0.017, \"state\": \"New York\", \"sma7d\": 0.016}, {\"date\": \"2020-11-03T00:00:00\", \"totalTestResultsIncrease\": 127869.0, \"positiveIncrease\": 2321.0, \"death\": 25853.0, \"deathIncrease\": 15.0, \"positiveRate\": 0.018, \"state\": \"New York\", \"sma7d\": 0.016}, {\"date\": \"2020-11-04T00:00:00\", \"totalTestResultsIncrease\": 133534.0, \"positiveIncrease\": 2126.0, \"death\": 25868.0, \"deathIncrease\": 15.0, \"positiveRate\": 0.016, \"state\": \"New York\", \"sma7d\": 0.016}, {\"date\": \"2020-11-05T00:00:00\", \"totalTestResultsIncrease\": 161019.0, \"positiveIncrease\": 2997.0, \"death\": 25892.0, \"deathIncrease\": 24.0, \"positiveRate\": 0.019, \"state\": \"New York\", \"sma7d\": 0.016}, {\"date\": \"2020-11-06T00:00:00\", \"totalTestResultsIncrease\": 160705.0, \"positiveIncrease\": 3209.0, \"death\": 25910.0, \"deathIncrease\": 18.0, \"positiveRate\": 0.02, \"state\": \"New York\", \"sma7d\": 0.017}, {\"date\": \"2020-11-07T00:00:00\", \"totalTestResultsIncrease\": 163291.0, \"positiveIncrease\": 3587.0, \"death\": 25928.0, \"deathIncrease\": 18.0, \"positiveRate\": 0.022, \"state\": \"New York\", \"sma7d\": 0.018}, {\"date\": \"2020-11-08T00:00:00\", \"totalTestResultsIncrease\": 145642.0, \"positiveIncrease\": 3428.0, \"death\": 25947.0, \"deathIncrease\": 19.0, \"positiveRate\": 0.024, \"state\": \"New York\", \"sma7d\": 0.019}, {\"date\": \"2020-11-09T00:00:00\", \"totalTestResultsIncrease\": 111416.0, \"positiveIncrease\": 3144.0, \"death\": 25973.0, \"deathIncrease\": 26.0, \"positiveRate\": 0.028, \"state\": \"New York\", \"sma7d\": 0.021}, {\"date\": \"2020-11-10T00:00:00\", \"totalTestResultsIncrease\": 128036.0, \"positiveIncrease\": 3965.0, \"death\": 26005.0, \"deathIncrease\": 32.0, \"positiveRate\": 0.031, \"state\": \"New York\", \"sma7d\": 0.023}, {\"date\": \"2020-11-11T00:00:00\", \"totalTestResultsIncrease\": 164300.0, \"positiveIncrease\": 4820.0, \"death\": 26026.0, \"deathIncrease\": 21.0, \"positiveRate\": 0.029, \"state\": \"New York\", \"sma7d\": 0.025}, {\"date\": \"2020-11-12T00:00:00\", \"totalTestResultsIncrease\": 162627.0, \"positiveIncrease\": 4797.0, \"death\": 26055.0, \"deathIncrease\": 29.0, \"positiveRate\": 0.029, \"state\": \"New York\", \"sma7d\": 0.026}, {\"date\": \"2020-11-13T00:00:00\", \"totalTestResultsIncrease\": 203721.0, \"positiveIncrease\": 5401.0, \"death\": 26079.0, \"deathIncrease\": 24.0, \"positiveRate\": 0.027, \"state\": \"New York\", \"sma7d\": 0.027}, {\"date\": \"2020-11-14T00:00:00\", \"totalTestResultsIncrease\": 184162.0, \"positiveIncrease\": 5388.0, \"death\": 26103.0, \"deathIncrease\": 24.0, \"positiveRate\": 0.029, \"state\": \"New York\", \"sma7d\": 0.028}, {\"date\": \"2020-11-15T00:00:00\", \"totalTestResultsIncrease\": 133202.0, \"positiveIncrease\": 3649.0, \"death\": 26133.0, \"deathIncrease\": 30.0, \"positiveRate\": 0.027, \"state\": \"New York\", \"sma7d\": 0.029}, {\"date\": \"2020-11-16T00:00:00\", \"totalTestResultsIncrease\": 124565.0, \"positiveIncrease\": 3490.0, \"death\": 26159.0, \"deathIncrease\": 26.0, \"positiveRate\": 0.028, \"state\": \"New York\", \"sma7d\": 0.029}, {\"date\": \"2020-11-17T00:00:00\", \"totalTestResultsIncrease\": 159852.0, \"positiveIncrease\": 5088.0, \"death\": 26189.0, \"deathIncrease\": 30.0, \"positiveRate\": 0.032, \"state\": \"New York\", \"sma7d\": 0.029}, {\"date\": \"2020-11-18T00:00:00\", \"totalTestResultsIncrease\": 154434.0, \"positiveIncrease\": 5294.0, \"death\": 26225.0, \"deathIncrease\": 36.0, \"positiveRate\": 0.034, \"state\": \"New York\", \"sma7d\": 0.029}, {\"date\": \"2020-11-19T00:00:00\", \"totalTestResultsIncrease\": 195239.0, \"positiveIncrease\": 5310.0, \"death\": 26257.0, \"deathIncrease\": 32.0, \"positiveRate\": 0.027, \"state\": \"New York\", \"sma7d\": 0.029}, {\"date\": \"2020-11-20T00:00:00\", \"totalTestResultsIncrease\": 205466.0, \"positiveIncrease\": 5468.0, \"death\": 26292.0, \"deathIncrease\": 35.0, \"positiveRate\": 0.027, \"state\": \"New York\", \"sma7d\": 0.029}, {\"date\": \"2020-11-21T00:00:00\", \"totalTestResultsIncrease\": 207907.0, \"positiveIncrease\": 5972.0, \"death\": 26326.0, \"deathIncrease\": 34.0, \"positiveRate\": 0.029, \"state\": \"New York\", \"sma7d\": 0.029}, {\"date\": \"2020-11-22T00:00:00\", \"totalTestResultsIncrease\": 196610.0, \"positiveIncrease\": 5392.0, \"death\": 26357.0, \"deathIncrease\": 31.0, \"positiveRate\": 0.027, \"state\": \"New York\", \"sma7d\": 0.029}, {\"date\": \"2020-11-23T00:00:00\", \"totalTestResultsIncrease\": 191489.0, \"positiveIncrease\": 5906.0, \"death\": 26390.0, \"deathIncrease\": 33.0, \"positiveRate\": 0.031, \"state\": \"New York\", \"sma7d\": 0.03}, {\"date\": \"2020-11-24T00:00:00\", \"totalTestResultsIncrease\": 164761.0, \"positiveIncrease\": 4881.0, \"death\": 26441.0, \"deathIncrease\": 51.0, \"positiveRate\": 0.03, \"state\": \"New York\", \"sma7d\": 0.029}, {\"date\": \"2020-11-25T00:00:00\", \"totalTestResultsIncrease\": 173085.0, \"positiveIncrease\": 6265.0, \"death\": 26482.0, \"deathIncrease\": 41.0, \"positiveRate\": 0.036, \"state\": \"New York\", \"sma7d\": 0.03}, {\"date\": \"2020-11-26T00:00:00\", \"totalTestResultsIncrease\": 217721.0, \"positiveIncrease\": 6933.0, \"death\": 26549.0, \"deathIncrease\": 67.0, \"positiveRate\": 0.032, \"state\": \"New York\", \"sma7d\": 0.03}, {\"date\": \"2020-11-27T00:00:00\", \"totalTestResultsIncrease\": 219442.0, \"positiveIncrease\": 8176.0, \"death\": 26588.0, \"deathIncrease\": 39.0, \"positiveRate\": 0.037, \"state\": \"New York\", \"sma7d\": 0.032}, {\"date\": \"2020-11-28T00:00:00\", \"totalTestResultsIncrease\": 152355.0, \"positiveIncrease\": 6063.0, \"death\": 26632.0, \"deathIncrease\": 44.0, \"positiveRate\": 0.04, \"state\": \"New York\", \"sma7d\": 0.033}, {\"date\": \"2020-11-29T00:00:00\", \"totalTestResultsIncrease\": 157320.0, \"positiveIncrease\": 6723.0, \"death\": 26690.0, \"deathIncrease\": 58.0, \"positiveRate\": 0.043, \"state\": \"New York\", \"sma7d\": 0.036}, {\"date\": \"2020-11-30T00:00:00\", \"totalTestResultsIncrease\": 148974.0, \"positiveIncrease\": 6819.0, \"death\": 26747.0, \"deathIncrease\": 57.0, \"positiveRate\": 0.046, \"state\": \"New York\", \"sma7d\": 0.038}, {\"date\": \"2020-12-01T00:00:00\", \"totalTestResultsIncrease\": 146675.0, \"positiveIncrease\": 7285.0, \"death\": 26816.0, \"deathIncrease\": 69.0, \"positiveRate\": 0.05, \"state\": \"New York\", \"sma7d\": 0.041}, {\"date\": \"2020-12-02T00:00:00\", \"totalTestResultsIncrease\": 193551.0, \"positiveIncrease\": 8973.0, \"death\": 26889.0, \"deathIncrease\": 73.0, \"positiveRate\": 0.046, \"state\": \"New York\", \"sma7d\": 0.042}, {\"date\": \"2020-12-03T00:00:00\", \"totalTestResultsIncrease\": 203440.0, \"positiveIncrease\": 9855.0, \"death\": 26955.0, \"deathIncrease\": 66.0, \"positiveRate\": 0.048, \"state\": \"New York\", \"sma7d\": 0.044}, {\"date\": \"2020-12-04T00:00:00\", \"totalTestResultsIncrease\": 208297.0, \"positiveIncrease\": 11271.0, \"death\": 27017.0, \"deathIncrease\": 62.0, \"positiveRate\": 0.054, \"state\": \"New York\", \"sma7d\": 0.047}, {\"date\": \"2020-12-05T00:00:00\", \"totalTestResultsIncrease\": 215401.0, \"positiveIncrease\": 10761.0, \"death\": 27089.0, \"deathIncrease\": 72.0, \"positiveRate\": 0.05, \"state\": \"New York\", \"sma7d\": 0.048}, {\"date\": \"2020-12-06T00:00:00\", \"totalTestResultsIncrease\": 205832.0, \"positiveIncrease\": 9702.0, \"death\": 27149.0, \"deathIncrease\": 60.0, \"positiveRate\": 0.047, \"state\": \"New York\", \"sma7d\": 0.049}, {\"date\": \"2020-12-07T00:00:00\", \"totalTestResultsIncrease\": 152287.0, \"positiveIncrease\": 7302.0, \"death\": 27232.0, \"deathIncrease\": 83.0, \"positiveRate\": 0.048, \"state\": \"New York\", \"sma7d\": 0.049}, {\"date\": \"2020-12-08T00:00:00\", \"totalTestResultsIncrease\": 162464.0, \"positiveIncrease\": 9335.0, \"death\": 27307.0, \"deathIncrease\": 75.0, \"positiveRate\": 0.057, \"state\": \"New York\", \"sma7d\": 0.05}, {\"date\": \"2020-12-09T00:00:00\", \"totalTestResultsIncrease\": 194595.0, \"positiveIncrease\": 10600.0, \"death\": 27404.0, \"deathIncrease\": 97.0, \"positiveRate\": 0.054, \"state\": \"New York\", \"sma7d\": 0.051}, {\"date\": \"2020-12-10T00:00:00\", \"totalTestResultsIncrease\": 197406.0, \"positiveIncrease\": 10178.0, \"death\": 27498.0, \"deathIncrease\": 94.0, \"positiveRate\": 0.052, \"state\": \"New York\", \"sma7d\": 0.052}]}}, {\"mode\": \"vega-lite\"});\n",
       "</script>"
      ],
      "text/plain": [
       "alt.LayerChart(...)"
      ]
     },
     "execution_count": 12,
     "metadata": {},
     "output_type": "execute_result"
    }
   ],
   "source": [
    "create_plot(ny, 'positiveRate')"
   ]
  },
  {
   "cell_type": "code",
   "execution_count": 13,
   "metadata": {
    "execution": {
     "iopub.execute_input": "2020-12-11T09:27:00.157711Z",
     "iopub.status.busy": "2020-12-11T09:27:00.157251Z",
     "iopub.status.idle": "2020-12-11T09:27:00.233487Z",
     "shell.execute_reply": "2020-12-11T09:27:00.233858Z"
    },
    "papermill": {
     "duration": 0.098564,
     "end_time": "2020-12-11T09:27:00.234035",
     "exception": false,
     "start_time": "2020-12-11T09:27:00.135471",
     "status": "completed"
    },
    "tags": []
   },
   "outputs": [
    {
     "data": {
      "text/html": [
       "\n",
       "<div id=\"altair-viz-aa51bdc8f4dc4df5b992f785e4dc25c0\"></div>\n",
       "<script type=\"text/javascript\">\n",
       "  (function(spec, embedOpt){\n",
       "    let outputDiv = document.currentScript.previousElementSibling;\n",
       "    if (outputDiv.id !== \"altair-viz-aa51bdc8f4dc4df5b992f785e4dc25c0\") {\n",
       "      outputDiv = document.getElementById(\"altair-viz-aa51bdc8f4dc4df5b992f785e4dc25c0\");\n",
       "    }\n",
       "    const paths = {\n",
       "      \"vega\": \"https://cdn.jsdelivr.net/npm//vega@5?noext\",\n",
       "      \"vega-lib\": \"https://cdn.jsdelivr.net/npm//vega-lib?noext\",\n",
       "      \"vega-lite\": \"https://cdn.jsdelivr.net/npm//vega-lite@4.8.1?noext\",\n",
       "      \"vega-embed\": \"https://cdn.jsdelivr.net/npm//vega-embed@6?noext\",\n",
       "    };\n",
       "\n",
       "    function loadScript(lib) {\n",
       "      return new Promise(function(resolve, reject) {\n",
       "        var s = document.createElement('script');\n",
       "        s.src = paths[lib];\n",
       "        s.async = true;\n",
       "        s.onload = () => resolve(paths[lib]);\n",
       "        s.onerror = () => reject(`Error loading script: ${paths[lib]}`);\n",
       "        document.getElementsByTagName(\"head\")[0].appendChild(s);\n",
       "      });\n",
       "    }\n",
       "\n",
       "    function showError(err) {\n",
       "      outputDiv.innerHTML = `<div class=\"error\" style=\"color:red;\">${err}</div>`;\n",
       "      throw err;\n",
       "    }\n",
       "\n",
       "    function displayChart(vegaEmbed) {\n",
       "      vegaEmbed(outputDiv, spec, embedOpt)\n",
       "        .catch(err => showError(`Javascript Error: ${err.message}<br>This usually means there's a typo in your chart specification. See the javascript console for the full traceback.`));\n",
       "    }\n",
       "\n",
       "    if(typeof define === \"function\" && define.amd) {\n",
       "      requirejs.config({paths});\n",
       "      require([\"vega-embed\"], displayChart, err => showError(`Error loading script: ${err.message}`));\n",
       "    } else if (typeof vegaEmbed === \"function\") {\n",
       "      displayChart(vegaEmbed);\n",
       "    } else {\n",
       "      loadScript(\"vega\")\n",
       "        .then(() => loadScript(\"vega-lite\"))\n",
       "        .then(() => loadScript(\"vega-embed\"))\n",
       "        .catch(showError)\n",
       "        .then(() => displayChart(vegaEmbed));\n",
       "    }\n",
       "  })({\"config\": {\"view\": {\"continuousWidth\": 400, \"continuousHeight\": 300}}, \"layer\": [{\"layer\": [{\"mark\": {\"type\": \"point\", \"size\": 75}, \"encoding\": {\"tooltip\": [{\"type\": \"temporal\", \"field\": \"date\"}, {\"type\": \"quantitative\", \"field\": \"deathIncrease\"}, {\"type\": \"quantitative\", \"field\": \"sma7d\"}], \"x\": {\"type\": \"temporal\", \"field\": \"date\"}, \"y\": {\"type\": \"quantitative\", \"field\": \"deathIncrease\"}}, \"selection\": {\"selector012\": {\"type\": \"interval\", \"bind\": \"scales\", \"encodings\": [\"x\", \"y\"]}}}, {\"mark\": {\"type\": \"line\", \"color\": \"purple\"}, \"encoding\": {\"x\": {\"type\": \"temporal\", \"field\": \"date\"}, \"y\": {\"type\": \"quantitative\", \"field\": \"sma7d\"}}}]}, {\"mark\": {\"type\": \"rule\", \"color\": \"#aaa\"}, \"encoding\": {\"x\": {\"type\": \"temporal\", \"field\": \"date\"}}, \"transform\": [{\"filter\": {\"selection\": \"selector011\"}}]}, {\"mark\": \"circle\", \"encoding\": {\"opacity\": {\"condition\": {\"value\": 1, \"selection\": \"selector011\"}, \"value\": 0}, \"tooltip\": [{\"type\": \"temporal\", \"field\": \"date\"}, {\"type\": \"quantitative\", \"field\": \"deathIncrease\"}, {\"type\": \"quantitative\", \"field\": \"sma7d\"}], \"x\": {\"type\": \"temporal\", \"field\": \"date\"}, \"y\": {\"type\": \"quantitative\", \"field\": \"deathIncrease\"}}, \"selection\": {\"selector011\": {\"type\": \"single\", \"encodings\": [\"x\"], \"on\": \"mouseover\", \"nearest\": true, \"empty\": \"none\"}}}, {\"mark\": {\"type\": \"text\", \"align\": \"left\", \"dx\": 5, \"dy\": -5, \"stroke\": \"white\", \"strokeWidth\": 2}, \"encoding\": {\"text\": {\"type\": \"quantitative\", \"field\": \"deathIncrease\"}, \"tooltip\": [{\"type\": \"temporal\", \"field\": \"date\"}, {\"type\": \"quantitative\", \"field\": \"deathIncrease\"}, {\"type\": \"quantitative\", \"field\": \"sma7d\"}], \"x\": {\"type\": \"temporal\", \"field\": \"date\"}, \"y\": {\"type\": \"quantitative\", \"field\": \"deathIncrease\"}}, \"transform\": [{\"filter\": {\"selection\": \"selector011\"}}]}, {\"mark\": {\"type\": \"text\", \"align\": \"left\", \"dx\": 5, \"dy\": -5}, \"encoding\": {\"text\": {\"type\": \"quantitative\", \"field\": \"deathIncrease\"}, \"tooltip\": [{\"type\": \"temporal\", \"field\": \"date\"}, {\"type\": \"quantitative\", \"field\": \"deathIncrease\"}, {\"type\": \"quantitative\", \"field\": \"sma7d\"}], \"x\": {\"type\": \"temporal\", \"field\": \"date\"}, \"y\": {\"type\": \"quantitative\", \"field\": \"deathIncrease\"}}, \"transform\": [{\"filter\": {\"selection\": \"selector011\"}}]}], \"data\": {\"name\": \"data-d5319756ae1ee49ef79c3c82a96ab824\"}, \"height\": 400, \"title\": \"New York: deathIncrease\", \"width\": 500, \"$schema\": \"https://vega.github.io/schema/vega-lite/v4.8.1.json\", \"datasets\": {\"data-d5319756ae1ee49ef79c3c82a96ab824\": [{\"date\": \"2020-10-17T00:00:00\", \"totalTestResultsIncrease\": 159972.0, \"positiveIncrease\": 1784.0, \"death\": 25637.0, \"deathIncrease\": 9.0, \"positiveRate\": 0.011, \"state\": \"New York\", \"sma7d\": 9.714}, {\"date\": \"2020-10-18T00:00:00\", \"totalTestResultsIncrease\": 128763.0, \"positiveIncrease\": 1390.0, \"death\": 25644.0, \"deathIncrease\": 7.0, \"positiveRate\": 0.011, \"state\": \"New York\", \"sma7d\": 10.0}, {\"date\": \"2020-10-19T00:00:00\", \"totalTestResultsIncrease\": 82009.0, \"positiveIncrease\": 998.0, \"death\": 25659.0, \"deathIncrease\": 15.0, \"positiveRate\": 0.012, \"state\": \"New York\", \"sma7d\": 10.286}, {\"date\": \"2020-10-20T00:00:00\", \"totalTestResultsIncrease\": 90540.0, \"positiveIncrease\": 1201.0, \"death\": 25672.0, \"deathIncrease\": 13.0, \"positiveRate\": 0.013, \"state\": \"New York\", \"sma7d\": 10.571}, {\"date\": \"2020-10-21T00:00:00\", \"totalTestResultsIncrease\": 124789.0, \"positiveIncrease\": 2026.0, \"death\": 25679.0, \"deathIncrease\": 7.0, \"positiveRate\": 0.016, \"state\": \"New York\", \"sma7d\": 10.571}, {\"date\": \"2020-10-22T00:00:00\", \"totalTestResultsIncrease\": 135341.0, \"positiveIncrease\": 1628.0, \"death\": 25694.0, \"deathIncrease\": 15.0, \"positiveRate\": 0.012, \"state\": \"New York\", \"sma7d\": 10.857}, {\"date\": \"2020-10-23T00:00:00\", \"totalTestResultsIncrease\": 141508.0, \"positiveIncrease\": 1637.0, \"death\": 25705.0, \"deathIncrease\": 11.0, \"positiveRate\": 0.012, \"state\": \"New York\", \"sma7d\": 11.0}, {\"date\": \"2020-10-24T00:00:00\", \"totalTestResultsIncrease\": 156940.0, \"positiveIncrease\": 2061.0, \"death\": 25718.0, \"deathIncrease\": 13.0, \"positiveRate\": 0.013, \"state\": \"New York\", \"sma7d\": 11.571}, {\"date\": \"2020-10-25T00:00:00\", \"totalTestResultsIncrease\": 120830.0, \"positiveIncrease\": 1632.0, \"death\": 25730.0, \"deathIncrease\": 12.0, \"positiveRate\": 0.014, \"state\": \"New York\", \"sma7d\": 12.286}, {\"date\": \"2020-10-26T00:00:00\", \"totalTestResultsIncrease\": 82117.0, \"positiveIncrease\": 1191.0, \"death\": 25742.0, \"deathIncrease\": 12.0, \"positiveRate\": 0.015, \"state\": \"New York\", \"sma7d\": 11.857}, {\"date\": \"2020-10-27T00:00:00\", \"totalTestResultsIncrease\": 111618.0, \"positiveIncrease\": 1991.0, \"death\": 25758.0, \"deathIncrease\": 16.0, \"positiveRate\": 0.018, \"state\": \"New York\", \"sma7d\": 12.286}, {\"date\": \"2020-10-28T00:00:00\", \"totalTestResultsIncrease\": 129660.0, \"positiveIncrease\": 2031.0, \"death\": 25773.0, \"deathIncrease\": 15.0, \"positiveRate\": 0.016, \"state\": \"New York\", \"sma7d\": 13.429}, {\"date\": \"2020-10-29T00:00:00\", \"totalTestResultsIncrease\": 168353.0, \"positiveIncrease\": 2499.0, \"death\": 25792.0, \"deathIncrease\": 19.0, \"positiveRate\": 0.015, \"state\": \"New York\", \"sma7d\": 14.0}, {\"date\": \"2020-10-30T00:00:00\", \"totalTestResultsIncrease\": 146885.0, \"positiveIncrease\": 2255.0, \"death\": 25804.0, \"deathIncrease\": 12.0, \"positiveRate\": 0.015, \"state\": \"New York\", \"sma7d\": 14.143}, {\"date\": \"2020-10-31T00:00:00\", \"totalTestResultsIncrease\": 136962.0, \"positiveIncrease\": 2049.0, \"death\": 25807.0, \"deathIncrease\": 3.0, \"positiveRate\": 0.015, \"state\": \"New York\", \"sma7d\": 12.714}, {\"date\": \"2020-11-01T00:00:00\", \"totalTestResultsIncrease\": 148935.0, \"positiveIncrease\": 2255.0, \"death\": 25824.0, \"deathIncrease\": 17.0, \"positiveRate\": 0.015, \"state\": \"New York\", \"sma7d\": 13.429}, {\"date\": \"2020-11-02T00:00:00\", \"totalTestResultsIncrease\": 96101.0, \"positiveIncrease\": 1633.0, \"death\": 25838.0, \"deathIncrease\": 14.0, \"positiveRate\": 0.017, \"state\": \"New York\", \"sma7d\": 13.714}, {\"date\": \"2020-11-03T00:00:00\", \"totalTestResultsIncrease\": 127869.0, \"positiveIncrease\": 2321.0, \"death\": 25853.0, \"deathIncrease\": 15.0, \"positiveRate\": 0.018, \"state\": \"New York\", \"sma7d\": 13.571}, {\"date\": \"2020-11-04T00:00:00\", \"totalTestResultsIncrease\": 133534.0, \"positiveIncrease\": 2126.0, \"death\": 25868.0, \"deathIncrease\": 15.0, \"positiveRate\": 0.016, \"state\": \"New York\", \"sma7d\": 13.571}, {\"date\": \"2020-11-05T00:00:00\", \"totalTestResultsIncrease\": 161019.0, \"positiveIncrease\": 2997.0, \"death\": 25892.0, \"deathIncrease\": 24.0, \"positiveRate\": 0.019, \"state\": \"New York\", \"sma7d\": 14.286}, {\"date\": \"2020-11-06T00:00:00\", \"totalTestResultsIncrease\": 160705.0, \"positiveIncrease\": 3209.0, \"death\": 25910.0, \"deathIncrease\": 18.0, \"positiveRate\": 0.02, \"state\": \"New York\", \"sma7d\": 15.143}, {\"date\": \"2020-11-07T00:00:00\", \"totalTestResultsIncrease\": 163291.0, \"positiveIncrease\": 3587.0, \"death\": 25928.0, \"deathIncrease\": 18.0, \"positiveRate\": 0.022, \"state\": \"New York\", \"sma7d\": 17.286}, {\"date\": \"2020-11-08T00:00:00\", \"totalTestResultsIncrease\": 145642.0, \"positiveIncrease\": 3428.0, \"death\": 25947.0, \"deathIncrease\": 19.0, \"positiveRate\": 0.024, \"state\": \"New York\", \"sma7d\": 17.571}, {\"date\": \"2020-11-09T00:00:00\", \"totalTestResultsIncrease\": 111416.0, \"positiveIncrease\": 3144.0, \"death\": 25973.0, \"deathIncrease\": 26.0, \"positiveRate\": 0.028, \"state\": \"New York\", \"sma7d\": 19.286}, {\"date\": \"2020-11-10T00:00:00\", \"totalTestResultsIncrease\": 128036.0, \"positiveIncrease\": 3965.0, \"death\": 26005.0, \"deathIncrease\": 32.0, \"positiveRate\": 0.031, \"state\": \"New York\", \"sma7d\": 21.714}, {\"date\": \"2020-11-11T00:00:00\", \"totalTestResultsIncrease\": 164300.0, \"positiveIncrease\": 4820.0, \"death\": 26026.0, \"deathIncrease\": 21.0, \"positiveRate\": 0.029, \"state\": \"New York\", \"sma7d\": 22.571}, {\"date\": \"2020-11-12T00:00:00\", \"totalTestResultsIncrease\": 162627.0, \"positiveIncrease\": 4797.0, \"death\": 26055.0, \"deathIncrease\": 29.0, \"positiveRate\": 0.029, \"state\": \"New York\", \"sma7d\": 23.286}, {\"date\": \"2020-11-13T00:00:00\", \"totalTestResultsIncrease\": 203721.0, \"positiveIncrease\": 5401.0, \"death\": 26079.0, \"deathIncrease\": 24.0, \"positiveRate\": 0.027, \"state\": \"New York\", \"sma7d\": 24.143}, {\"date\": \"2020-11-14T00:00:00\", \"totalTestResultsIncrease\": 184162.0, \"positiveIncrease\": 5388.0, \"death\": 26103.0, \"deathIncrease\": 24.0, \"positiveRate\": 0.029, \"state\": \"New York\", \"sma7d\": 25.0}, {\"date\": \"2020-11-15T00:00:00\", \"totalTestResultsIncrease\": 133202.0, \"positiveIncrease\": 3649.0, \"death\": 26133.0, \"deathIncrease\": 30.0, \"positiveRate\": 0.027, \"state\": \"New York\", \"sma7d\": 26.571}, {\"date\": \"2020-11-16T00:00:00\", \"totalTestResultsIncrease\": 124565.0, \"positiveIncrease\": 3490.0, \"death\": 26159.0, \"deathIncrease\": 26.0, \"positiveRate\": 0.028, \"state\": \"New York\", \"sma7d\": 26.571}, {\"date\": \"2020-11-17T00:00:00\", \"totalTestResultsIncrease\": 159852.0, \"positiveIncrease\": 5088.0, \"death\": 26189.0, \"deathIncrease\": 30.0, \"positiveRate\": 0.032, \"state\": \"New York\", \"sma7d\": 26.286}, {\"date\": \"2020-11-18T00:00:00\", \"totalTestResultsIncrease\": 154434.0, \"positiveIncrease\": 5294.0, \"death\": 26225.0, \"deathIncrease\": 36.0, \"positiveRate\": 0.034, \"state\": \"New York\", \"sma7d\": 28.429}, {\"date\": \"2020-11-19T00:00:00\", \"totalTestResultsIncrease\": 195239.0, \"positiveIncrease\": 5310.0, \"death\": 26257.0, \"deathIncrease\": 32.0, \"positiveRate\": 0.027, \"state\": \"New York\", \"sma7d\": 28.857}, {\"date\": \"2020-11-20T00:00:00\", \"totalTestResultsIncrease\": 205466.0, \"positiveIncrease\": 5468.0, \"death\": 26292.0, \"deathIncrease\": 35.0, \"positiveRate\": 0.027, \"state\": \"New York\", \"sma7d\": 30.429}, {\"date\": \"2020-11-21T00:00:00\", \"totalTestResultsIncrease\": 207907.0, \"positiveIncrease\": 5972.0, \"death\": 26326.0, \"deathIncrease\": 34.0, \"positiveRate\": 0.029, \"state\": \"New York\", \"sma7d\": 31.857}, {\"date\": \"2020-11-22T00:00:00\", \"totalTestResultsIncrease\": 196610.0, \"positiveIncrease\": 5392.0, \"death\": 26357.0, \"deathIncrease\": 31.0, \"positiveRate\": 0.027, \"state\": \"New York\", \"sma7d\": 32.0}, {\"date\": \"2020-11-23T00:00:00\", \"totalTestResultsIncrease\": 191489.0, \"positiveIncrease\": 5906.0, \"death\": 26390.0, \"deathIncrease\": 33.0, \"positiveRate\": 0.031, \"state\": \"New York\", \"sma7d\": 33.0}, {\"date\": \"2020-11-24T00:00:00\", \"totalTestResultsIncrease\": 164761.0, \"positiveIncrease\": 4881.0, \"death\": 26441.0, \"deathIncrease\": 51.0, \"positiveRate\": 0.03, \"state\": \"New York\", \"sma7d\": 36.0}, {\"date\": \"2020-11-25T00:00:00\", \"totalTestResultsIncrease\": 173085.0, \"positiveIncrease\": 6265.0, \"death\": 26482.0, \"deathIncrease\": 41.0, \"positiveRate\": 0.036, \"state\": \"New York\", \"sma7d\": 36.714}, {\"date\": \"2020-11-26T00:00:00\", \"totalTestResultsIncrease\": 217721.0, \"positiveIncrease\": 6933.0, \"death\": 26549.0, \"deathIncrease\": 67.0, \"positiveRate\": 0.032, \"state\": \"New York\", \"sma7d\": 41.714}, {\"date\": \"2020-11-27T00:00:00\", \"totalTestResultsIncrease\": 219442.0, \"positiveIncrease\": 8176.0, \"death\": 26588.0, \"deathIncrease\": 39.0, \"positiveRate\": 0.037, \"state\": \"New York\", \"sma7d\": 42.286}, {\"date\": \"2020-11-28T00:00:00\", \"totalTestResultsIncrease\": 152355.0, \"positiveIncrease\": 6063.0, \"death\": 26632.0, \"deathIncrease\": 44.0, \"positiveRate\": 0.04, \"state\": \"New York\", \"sma7d\": 43.714}, {\"date\": \"2020-11-29T00:00:00\", \"totalTestResultsIncrease\": 157320.0, \"positiveIncrease\": 6723.0, \"death\": 26690.0, \"deathIncrease\": 58.0, \"positiveRate\": 0.043, \"state\": \"New York\", \"sma7d\": 47.571}, {\"date\": \"2020-11-30T00:00:00\", \"totalTestResultsIncrease\": 148974.0, \"positiveIncrease\": 6819.0, \"death\": 26747.0, \"deathIncrease\": 57.0, \"positiveRate\": 0.046, \"state\": \"New York\", \"sma7d\": 51.0}, {\"date\": \"2020-12-01T00:00:00\", \"totalTestResultsIncrease\": 146675.0, \"positiveIncrease\": 7285.0, \"death\": 26816.0, \"deathIncrease\": 69.0, \"positiveRate\": 0.05, \"state\": \"New York\", \"sma7d\": 53.571}, {\"date\": \"2020-12-02T00:00:00\", \"totalTestResultsIncrease\": 193551.0, \"positiveIncrease\": 8973.0, \"death\": 26889.0, \"deathIncrease\": 73.0, \"positiveRate\": 0.046, \"state\": \"New York\", \"sma7d\": 58.143}, {\"date\": \"2020-12-03T00:00:00\", \"totalTestResultsIncrease\": 203440.0, \"positiveIncrease\": 9855.0, \"death\": 26955.0, \"deathIncrease\": 66.0, \"positiveRate\": 0.048, \"state\": \"New York\", \"sma7d\": 58.0}, {\"date\": \"2020-12-04T00:00:00\", \"totalTestResultsIncrease\": 208297.0, \"positiveIncrease\": 11271.0, \"death\": 27017.0, \"deathIncrease\": 62.0, \"positiveRate\": 0.054, \"state\": \"New York\", \"sma7d\": 61.286}, {\"date\": \"2020-12-05T00:00:00\", \"totalTestResultsIncrease\": 215401.0, \"positiveIncrease\": 10761.0, \"death\": 27089.0, \"deathIncrease\": 72.0, \"positiveRate\": 0.05, \"state\": \"New York\", \"sma7d\": 65.286}, {\"date\": \"2020-12-06T00:00:00\", \"totalTestResultsIncrease\": 205832.0, \"positiveIncrease\": 9702.0, \"death\": 27149.0, \"deathIncrease\": 60.0, \"positiveRate\": 0.047, \"state\": \"New York\", \"sma7d\": 65.571}, {\"date\": \"2020-12-07T00:00:00\", \"totalTestResultsIncrease\": 152287.0, \"positiveIncrease\": 7302.0, \"death\": 27232.0, \"deathIncrease\": 83.0, \"positiveRate\": 0.048, \"state\": \"New York\", \"sma7d\": 69.286}, {\"date\": \"2020-12-08T00:00:00\", \"totalTestResultsIncrease\": 162464.0, \"positiveIncrease\": 9335.0, \"death\": 27307.0, \"deathIncrease\": 75.0, \"positiveRate\": 0.057, \"state\": \"New York\", \"sma7d\": 70.143}, {\"date\": \"2020-12-09T00:00:00\", \"totalTestResultsIncrease\": 194595.0, \"positiveIncrease\": 10600.0, \"death\": 27404.0, \"deathIncrease\": 97.0, \"positiveRate\": 0.054, \"state\": \"New York\", \"sma7d\": 73.571}, {\"date\": \"2020-12-10T00:00:00\", \"totalTestResultsIncrease\": 197406.0, \"positiveIncrease\": 10178.0, \"death\": 27498.0, \"deathIncrease\": 94.0, \"positiveRate\": 0.052, \"state\": \"New York\", \"sma7d\": 77.571}]}}, {\"mode\": \"vega-lite\"});\n",
       "</script>"
      ],
      "text/plain": [
       "alt.LayerChart(...)"
      ]
     },
     "execution_count": 13,
     "metadata": {},
     "output_type": "execute_result"
    }
   ],
   "source": [
    "create_plot(ny, 'deathIncrease')"
   ]
  },
  {
   "cell_type": "markdown",
   "metadata": {
    "papermill": {
     "duration": 0.015135,
     "end_time": "2020-12-11T09:27:00.264268",
     "exception": false,
     "start_time": "2020-12-11T09:27:00.249133",
     "status": "completed"
    },
    "tags": []
   },
   "source": [
    "## Non Tri-State"
   ]
  },
  {
   "cell_type": "code",
   "execution_count": 14,
   "metadata": {
    "execution": {
     "iopub.execute_input": "2020-12-11T09:27:00.299800Z",
     "iopub.status.busy": "2020-12-11T09:27:00.299254Z",
     "iopub.status.idle": "2020-12-11T09:27:00.607549Z",
     "shell.execute_reply": "2020-12-11T09:27:00.607975Z"
    },
    "papermill": {
     "duration": 0.327488,
     "end_time": "2020-12-11T09:27:00.608151",
     "exception": false,
     "start_time": "2020-12-11T09:27:00.280663",
     "status": "completed"
    },
    "tags": []
   },
   "outputs": [],
   "source": [
    "non_tristate = create_df(df, lambda d: ~d['state'].isin(['CT','NJ','NY']), 'Non Tri-State')"
   ]
  },
  {
   "cell_type": "code",
   "execution_count": 15,
   "metadata": {
    "execution": {
     "iopub.execute_input": "2020-12-11T09:27:00.646448Z",
     "iopub.status.busy": "2020-12-11T09:27:00.645910Z",
     "iopub.status.idle": "2020-12-11T09:27:00.724333Z",
     "shell.execute_reply": "2020-12-11T09:27:00.723935Z"
    },
    "papermill": {
     "duration": 0.099929,
     "end_time": "2020-12-11T09:27:00.724456",
     "exception": false,
     "start_time": "2020-12-11T09:27:00.624527",
     "status": "completed"
    },
    "tags": []
   },
   "outputs": [
    {
     "data": {
      "text/html": [
       "\n",
       "<div id=\"altair-viz-4b6af78c187b468bb5020aba0c0d9edd\"></div>\n",
       "<script type=\"text/javascript\">\n",
       "  (function(spec, embedOpt){\n",
       "    let outputDiv = document.currentScript.previousElementSibling;\n",
       "    if (outputDiv.id !== \"altair-viz-4b6af78c187b468bb5020aba0c0d9edd\") {\n",
       "      outputDiv = document.getElementById(\"altair-viz-4b6af78c187b468bb5020aba0c0d9edd\");\n",
       "    }\n",
       "    const paths = {\n",
       "      \"vega\": \"https://cdn.jsdelivr.net/npm//vega@5?noext\",\n",
       "      \"vega-lib\": \"https://cdn.jsdelivr.net/npm//vega-lib?noext\",\n",
       "      \"vega-lite\": \"https://cdn.jsdelivr.net/npm//vega-lite@4.8.1?noext\",\n",
       "      \"vega-embed\": \"https://cdn.jsdelivr.net/npm//vega-embed@6?noext\",\n",
       "    };\n",
       "\n",
       "    function loadScript(lib) {\n",
       "      return new Promise(function(resolve, reject) {\n",
       "        var s = document.createElement('script');\n",
       "        s.src = paths[lib];\n",
       "        s.async = true;\n",
       "        s.onload = () => resolve(paths[lib]);\n",
       "        s.onerror = () => reject(`Error loading script: ${paths[lib]}`);\n",
       "        document.getElementsByTagName(\"head\")[0].appendChild(s);\n",
       "      });\n",
       "    }\n",
       "\n",
       "    function showError(err) {\n",
       "      outputDiv.innerHTML = `<div class=\"error\" style=\"color:red;\">${err}</div>`;\n",
       "      throw err;\n",
       "    }\n",
       "\n",
       "    function displayChart(vegaEmbed) {\n",
       "      vegaEmbed(outputDiv, spec, embedOpt)\n",
       "        .catch(err => showError(`Javascript Error: ${err.message}<br>This usually means there's a typo in your chart specification. See the javascript console for the full traceback.`));\n",
       "    }\n",
       "\n",
       "    if(typeof define === \"function\" && define.amd) {\n",
       "      requirejs.config({paths});\n",
       "      require([\"vega-embed\"], displayChart, err => showError(`Error loading script: ${err.message}`));\n",
       "    } else if (typeof vegaEmbed === \"function\") {\n",
       "      displayChart(vegaEmbed);\n",
       "    } else {\n",
       "      loadScript(\"vega\")\n",
       "        .then(() => loadScript(\"vega-lite\"))\n",
       "        .then(() => loadScript(\"vega-embed\"))\n",
       "        .catch(showError)\n",
       "        .then(() => displayChart(vegaEmbed));\n",
       "    }\n",
       "  })({\"config\": {\"view\": {\"continuousWidth\": 400, \"continuousHeight\": 300}}, \"layer\": [{\"layer\": [{\"mark\": {\"type\": \"point\", \"size\": 75}, \"encoding\": {\"tooltip\": [{\"type\": \"temporal\", \"field\": \"date\"}, {\"type\": \"quantitative\", \"field\": \"positiveIncrease\"}, {\"type\": \"quantitative\", \"field\": \"sma7d\"}], \"x\": {\"type\": \"temporal\", \"field\": \"date\"}, \"y\": {\"type\": \"quantitative\", \"field\": \"positiveIncrease\"}}, \"selection\": {\"selector014\": {\"type\": \"interval\", \"bind\": \"scales\", \"encodings\": [\"x\", \"y\"]}}}, {\"mark\": {\"type\": \"line\", \"color\": \"purple\"}, \"encoding\": {\"x\": {\"type\": \"temporal\", \"field\": \"date\"}, \"y\": {\"type\": \"quantitative\", \"field\": \"sma7d\"}}}]}, {\"mark\": {\"type\": \"rule\", \"color\": \"#aaa\"}, \"encoding\": {\"x\": {\"type\": \"temporal\", \"field\": \"date\"}}, \"transform\": [{\"filter\": {\"selection\": \"selector013\"}}]}, {\"mark\": \"circle\", \"encoding\": {\"opacity\": {\"condition\": {\"value\": 1, \"selection\": \"selector013\"}, \"value\": 0}, \"tooltip\": [{\"type\": \"temporal\", \"field\": \"date\"}, {\"type\": \"quantitative\", \"field\": \"positiveIncrease\"}, {\"type\": \"quantitative\", \"field\": \"sma7d\"}], \"x\": {\"type\": \"temporal\", \"field\": \"date\"}, \"y\": {\"type\": \"quantitative\", \"field\": \"positiveIncrease\"}}, \"selection\": {\"selector013\": {\"type\": \"single\", \"encodings\": [\"x\"], \"on\": \"mouseover\", \"nearest\": true, \"empty\": \"none\"}}}, {\"mark\": {\"type\": \"text\", \"align\": \"left\", \"dx\": 5, \"dy\": -5, \"stroke\": \"white\", \"strokeWidth\": 2}, \"encoding\": {\"text\": {\"type\": \"quantitative\", \"field\": \"positiveIncrease\"}, \"tooltip\": [{\"type\": \"temporal\", \"field\": \"date\"}, {\"type\": \"quantitative\", \"field\": \"positiveIncrease\"}, {\"type\": \"quantitative\", \"field\": \"sma7d\"}], \"x\": {\"type\": \"temporal\", \"field\": \"date\"}, \"y\": {\"type\": \"quantitative\", \"field\": \"positiveIncrease\"}}, \"transform\": [{\"filter\": {\"selection\": \"selector013\"}}]}, {\"mark\": {\"type\": \"text\", \"align\": \"left\", \"dx\": 5, \"dy\": -5}, \"encoding\": {\"text\": {\"type\": \"quantitative\", \"field\": \"positiveIncrease\"}, \"tooltip\": [{\"type\": \"temporal\", \"field\": \"date\"}, {\"type\": \"quantitative\", \"field\": \"positiveIncrease\"}, {\"type\": \"quantitative\", \"field\": \"sma7d\"}], \"x\": {\"type\": \"temporal\", \"field\": \"date\"}, \"y\": {\"type\": \"quantitative\", \"field\": \"positiveIncrease\"}}, \"transform\": [{\"filter\": {\"selection\": \"selector013\"}}]}], \"data\": {\"name\": \"data-8da7c8d95c4e934702f2ecc5eafb5145\"}, \"height\": 400, \"title\": \"Non Tri-State: positiveIncrease\", \"width\": 500, \"$schema\": \"https://vega.github.io/schema/vega-lite/v4.8.1.json\", \"datasets\": {\"data-8da7c8d95c4e934702f2ecc5eafb5145\": [{\"date\": \"2020-10-17T00:00:00\", \"totalTestResultsIncrease\": 1119077.0, \"positiveIncrease\": 54637.0, \"death\": 164718.0, \"deathIncrease\": 762.0, \"positiveRate\": 0.049, \"state\": \"Non Tri-State\", \"sma7d\": 52024.286}, {\"date\": \"2020-10-18T00:00:00\", \"totalTestResultsIncrease\": 928673.0, \"positiveIncrease\": 45615.0, \"death\": 165106.0, \"deathIncrease\": 388.0, \"positiveRate\": 0.049, \"state\": \"Non Tri-State\", \"sma7d\": 52201.571}, {\"date\": \"2020-10-19T00:00:00\", \"totalTestResultsIncrease\": 907407.0, \"positiveIncrease\": 53727.0, \"death\": 165532.0, \"deathIncrease\": 426.0, \"positiveRate\": 0.059, \"state\": \"Non Tri-State\", \"sma7d\": 54190.0}, {\"date\": \"2020-10-20T00:00:00\", \"totalTestResultsIncrease\": 855337.0, \"positiveIncrease\": 57946.0, \"death\": 166338.0, \"deathIncrease\": 806.0, \"positiveRate\": 0.068, \"state\": \"Non Tri-State\", \"sma7d\": 55914.429}, {\"date\": \"2020-10-21T00:00:00\", \"totalTestResultsIncrease\": 796471.0, \"positiveIncrease\": 57508.0, \"death\": 167324.0, \"deathIncrease\": 986.0, \"positiveRate\": 0.072, \"state\": \"Non Tri-State\", \"sma7d\": 56452.143}, {\"date\": \"2020-10-22T00:00:00\", \"totalTestResultsIncrease\": 1064523.0, \"positiveIncrease\": 69711.0, \"death\": 168415.0, \"deathIncrease\": 1091.0, \"positiveRate\": 0.065, \"state\": \"Non Tri-State\", \"sma7d\": 57727.143}, {\"date\": \"2020-10-23T00:00:00\", \"totalTestResultsIncrease\": 1199324.0, \"positiveIncrease\": 78981.0, \"death\": 169320.0, \"deathIncrease\": 905.0, \"positiveRate\": 0.066, \"state\": \"Non Tri-State\", \"sma7d\": 59732.143}, {\"date\": \"2020-10-24T00:00:00\", \"totalTestResultsIncrease\": 1182686.0, \"positiveIncrease\": 79349.0, \"death\": 170189.0, \"deathIncrease\": 869.0, \"positiveRate\": 0.067, \"state\": \"Non Tri-State\", \"sma7d\": 63262.429}, {\"date\": \"2020-10-25T00:00:00\", \"totalTestResultsIncrease\": 1030295.0, \"positiveIncrease\": 62136.0, \"death\": 170555.0, \"deathIncrease\": 366.0, \"positiveRate\": 0.06, \"state\": \"Non Tri-State\", \"sma7d\": 65622.571}, {\"date\": \"2020-10-26T00:00:00\", \"totalTestResultsIncrease\": 971343.0, \"positiveIncrease\": 58081.0, \"death\": 170926.0, \"deathIncrease\": 371.0, \"positiveRate\": 0.06, \"state\": \"Non Tri-State\", \"sma7d\": 66244.571}, {\"date\": \"2020-10-27T00:00:00\", \"totalTestResultsIncrease\": 943176.0, \"positiveIncrease\": 67921.0, \"death\": 171809.0, \"deathIncrease\": 883.0, \"positiveRate\": 0.072, \"state\": \"Non Tri-State\", \"sma7d\": 67669.571}, {\"date\": \"2020-10-28T00:00:00\", \"totalTestResultsIncrease\": 945843.0, \"positiveIncrease\": 74606.0, \"death\": 172811.0, \"deathIncrease\": 1002.0, \"positiveRate\": 0.079, \"state\": \"Non Tri-State\", \"sma7d\": 70112.143}, {\"date\": \"2020-10-29T00:00:00\", \"totalTestResultsIncrease\": 1114856.0, \"positiveIncrease\": 83360.0, \"death\": 173816.0, \"deathIncrease\": 1005.0, \"positiveRate\": 0.075, \"state\": \"Non Tri-State\", \"sma7d\": 72062.0}, {\"date\": \"2020-10-30T00:00:00\", \"totalTestResultsIncrease\": 1209020.0, \"positiveIncrease\": 92271.0, \"death\": 174737.0, \"deathIncrease\": 921.0, \"positiveRate\": 0.076, \"state\": \"Non Tri-State\", \"sma7d\": 73960.571}, {\"date\": \"2020-10-31T00:00:00\", \"totalTestResultsIncrease\": 1203683.0, \"positiveIncrease\": 87201.0, \"death\": 175686.0, \"deathIncrease\": 949.0, \"positiveRate\": 0.072, \"state\": \"Non Tri-State\", \"sma7d\": 75082.286}, {\"date\": \"2020-11-01T00:00:00\", \"totalTestResultsIncrease\": 984877.0, \"positiveIncrease\": 69874.0, \"death\": 176060.0, \"deathIncrease\": 374.0, \"positiveRate\": 0.071, \"state\": \"Non Tri-State\", \"sma7d\": 76187.714}, {\"date\": \"2020-11-02T00:00:00\", \"totalTestResultsIncrease\": 1097336.0, \"positiveIncrease\": 76390.0, \"death\": 176523.0, \"deathIncrease\": 463.0, \"positiveRate\": 0.07, \"state\": \"Non Tri-State\", \"sma7d\": 78803.286}, {\"date\": \"2020-11-03T00:00:00\", \"totalTestResultsIncrease\": 986414.0, \"positiveIncrease\": 82566.0, \"death\": 178004.0, \"deathIncrease\": 1481.0, \"positiveRate\": 0.084, \"state\": \"Non Tri-State\", \"sma7d\": 80895.429}, {\"date\": \"2020-11-04T00:00:00\", \"totalTestResultsIncrease\": 1087253.0, \"positiveIncrease\": 97290.0, \"death\": 179072.0, \"deathIncrease\": 1068.0, \"positiveRate\": 0.089, \"state\": \"Non Tri-State\", \"sma7d\": 84136.0}, {\"date\": \"2020-11-05T00:00:00\", \"totalTestResultsIncrease\": 1328443.0, \"positiveIncrease\": 109833.0, \"death\": 180171.0, \"deathIncrease\": 1099.0, \"positiveRate\": 0.083, \"state\": \"Non Tri-State\", \"sma7d\": 87917.857}, {\"date\": \"2020-11-06T00:00:00\", \"totalTestResultsIncrease\": 1357513.0, \"positiveIncrease\": 119363.0, \"death\": 181298.0, \"deathIncrease\": 1127.0, \"positiveRate\": 0.088, \"state\": \"Non Tri-State\", \"sma7d\": 91788.143}, {\"date\": \"2020-11-07T00:00:00\", \"totalTestResultsIncrease\": 1174715.0, \"positiveIncrease\": 122477.0, \"death\": 182390.0, \"deathIncrease\": 1092.0, \"positiveRate\": 0.104, \"state\": \"Non Tri-State\", \"sma7d\": 96827.571}, {\"date\": \"2020-11-08T00:00:00\", \"totalTestResultsIncrease\": 1119271.0, \"positiveIncrease\": 104865.0, \"death\": 182863.0, \"deathIncrease\": 473.0, \"positiveRate\": 0.094, \"state\": \"Non Tri-State\", \"sma7d\": 101826.286}, {\"date\": \"2020-11-09T00:00:00\", \"totalTestResultsIncrease\": 1253679.0, \"positiveIncrease\": 110894.0, \"death\": 183376.0, \"deathIncrease\": 513.0, \"positiveRate\": 0.088, \"state\": \"Non Tri-State\", \"sma7d\": 106755.429}, {\"date\": \"2020-11-10T00:00:00\", \"totalTestResultsIncrease\": 1125174.0, \"positiveIncrease\": 121984.0, \"death\": 184674.0, \"deathIncrease\": 1298.0, \"positiveRate\": 0.108, \"state\": \"Non Tri-State\", \"sma7d\": 112386.571}, {\"date\": \"2020-11-11T00:00:00\", \"totalTestResultsIncrease\": 1212244.0, \"positiveIncrease\": 135243.0, \"death\": 186192.0, \"deathIncrease\": 1518.0, \"positiveRate\": 0.112, \"state\": \"Non Tri-State\", \"sma7d\": 117808.429}, {\"date\": \"2020-11-12T00:00:00\", \"totalTestResultsIncrease\": 1271151.0, \"positiveIncrease\": 142601.0, \"death\": 187253.0, \"deathIncrease\": 1061.0, \"positiveRate\": 0.112, \"state\": \"Non Tri-State\", \"sma7d\": 122489.571}, {\"date\": \"2020-11-13T00:00:00\", \"totalTestResultsIncrease\": 1439266.0, \"positiveIncrease\": 160633.0, \"death\": 188459.0, \"deathIncrease\": 1206.0, \"positiveRate\": 0.112, \"state\": \"Non Tri-State\", \"sma7d\": 128385.286}, {\"date\": \"2020-11-14T00:00:00\", \"totalTestResultsIncrease\": 1463491.0, \"positiveIncrease\": 153856.0, \"death\": 189740.0, \"deathIncrease\": 1281.0, \"positiveRate\": 0.105, \"state\": \"Non Tri-State\", \"sma7d\": 132868.0}, {\"date\": \"2020-11-15T00:00:00\", \"totalTestResultsIncrease\": 1371039.0, \"positiveIncrease\": 136281.0, \"death\": 190379.0, \"deathIncrease\": 639.0, \"positiveRate\": 0.099, \"state\": \"Non Tri-State\", \"sma7d\": 137356.0}, {\"date\": \"2020-11-16T00:00:00\", \"totalTestResultsIncrease\": 1284989.0, \"positiveIncrease\": 138520.0, \"death\": 190936.0, \"deathIncrease\": 557.0, \"positiveRate\": 0.108, \"state\": \"Non Tri-State\", \"sma7d\": 141302.571}, {\"date\": \"2020-11-17T00:00:00\", \"totalTestResultsIncrease\": 1321058.0, \"positiveIncrease\": 145963.0, \"death\": 192411.0, \"deathIncrease\": 1475.0, \"positiveRate\": 0.11, \"state\": \"Non Tri-State\", \"sma7d\": 144728.143}, {\"date\": \"2020-11-18T00:00:00\", \"totalTestResultsIncrease\": 1302705.0, \"positiveIncrease\": 152671.0, \"death\": 194189.0, \"deathIncrease\": 1778.0, \"positiveRate\": 0.117, \"state\": \"Non Tri-State\", \"sma7d\": 147217.857}, {\"date\": \"2020-11-19T00:00:00\", \"totalTestResultsIncrease\": 1629034.0, \"positiveIncrease\": 171058.0, \"death\": 196069.0, \"deathIncrease\": 1880.0, \"positiveRate\": 0.105, \"state\": \"Non Tri-State\", \"sma7d\": 151283.143}, {\"date\": \"2020-11-20T00:00:00\", \"totalTestResultsIncrease\": 1672594.0, \"positiveIncrease\": 181648.0, \"death\": 197872.0, \"deathIncrease\": 1803.0, \"positiveRate\": 0.109, \"state\": \"Non Tri-State\", \"sma7d\": 154285.286}, {\"date\": \"2020-11-21T00:00:00\", \"totalTestResultsIncrease\": 1788610.0, \"positiveIncrease\": 169122.0, \"death\": 199316.0, \"deathIncrease\": 1444.0, \"positiveRate\": 0.095, \"state\": \"Non Tri-State\", \"sma7d\": 156466.143}, {\"date\": \"2020-11-22T00:00:00\", \"totalTestResultsIncrease\": 1509376.0, \"positiveIncrease\": 141518.0, \"death\": 200168.0, \"deathIncrease\": 852.0, \"positiveRate\": 0.094, \"state\": \"Non Tri-State\", \"sma7d\": 157214.286}, {\"date\": \"2020-11-23T00:00:00\", \"totalTestResultsIncrease\": 1415699.0, \"positiveIncrease\": 136198.0, \"death\": 201036.0, \"deathIncrease\": 868.0, \"positiveRate\": 0.096, \"state\": \"Non Tri-State\", \"sma7d\": 156882.571}, {\"date\": \"2020-11-24T00:00:00\", \"totalTestResultsIncrease\": 1622658.0, \"positiveIncrease\": 157380.0, \"death\": 202994.0, \"deathIncrease\": 1958.0, \"positiveRate\": 0.097, \"state\": \"Non Tri-State\", \"sma7d\": 158513.571}, {\"date\": \"2020-11-25T00:00:00\", \"totalTestResultsIncrease\": 1466623.0, \"positiveIncrease\": 171557.0, \"death\": 205130.0, \"deathIncrease\": 2136.0, \"positiveRate\": 0.117, \"state\": \"Non Tri-State\", \"sma7d\": 161211.571}, {\"date\": \"2020-11-26T00:00:00\", \"totalTestResultsIncrease\": 996108.0, \"positiveIncrease\": 114972.0, \"death\": 206360.0, \"deathIncrease\": 1230.0, \"positiveRate\": 0.115, \"state\": \"Non Tri-State\", \"sma7d\": 153199.286}, {\"date\": \"2020-11-27T00:00:00\", \"totalTestResultsIncrease\": 1836429.0, \"positiveIncrease\": 177986.0, \"death\": 207641.0, \"deathIncrease\": 1281.0, \"positiveRate\": 0.097, \"state\": \"Non Tri-State\", \"sma7d\": 152676.143}, {\"date\": \"2020-11-28T00:00:00\", \"totalTestResultsIncrease\": 1479518.0, \"positiveIncrease\": 144749.0, \"death\": 208819.0, \"deathIncrease\": 1178.0, \"positiveRate\": 0.098, \"state\": \"Non Tri-State\", \"sma7d\": 149194.286}, {\"date\": \"2020-11-29T00:00:00\", \"totalTestResultsIncrease\": 1137111.0, \"positiveIncrease\": 124682.0, \"death\": 209551.0, \"deathIncrease\": 732.0, \"positiveRate\": 0.11, \"state\": \"Non Tri-State\", \"sma7d\": 146789.143}, {\"date\": \"2020-11-30T00:00:00\", \"totalTestResultsIncrease\": 1224577.0, \"positiveIncrease\": 132865.0, \"death\": 210556.0, \"deathIncrease\": 1005.0, \"positiveRate\": 0.108, \"state\": \"Non Tri-State\", \"sma7d\": 146313.0}, {\"date\": \"2020-12-01T00:00:00\", \"totalTestResultsIncrease\": 1268571.0, \"positiveIncrease\": 163466.0, \"death\": 212850.0, \"deathIncrease\": 2294.0, \"positiveRate\": 0.129, \"state\": \"Non Tri-State\", \"sma7d\": 147182.429}, {\"date\": \"2020-12-02T00:00:00\", \"totalTestResultsIncrease\": 1219422.0, \"positiveIncrease\": 179926.0, \"death\": 215397.0, \"deathIncrease\": 2547.0, \"positiveRate\": 0.148, \"state\": \"Non Tri-State\", \"sma7d\": 148378.0}, {\"date\": \"2020-12-03T00:00:00\", \"totalTestResultsIncrease\": 1548719.0, \"positiveIncrease\": 190852.0, \"death\": 217953.0, \"deathIncrease\": 2556.0, \"positiveRate\": 0.123, \"state\": \"Non Tri-State\", \"sma7d\": 159218.0}, {\"date\": \"2020-12-04T00:00:00\", \"totalTestResultsIncrease\": 1638534.0, \"positiveIncrease\": 206406.0, \"death\": 220373.0, \"deathIncrease\": 2420.0, \"positiveRate\": 0.126, \"state\": \"Non Tri-State\", \"sma7d\": 163278.0}, {\"date\": \"2020-12-05T00:00:00\", \"totalTestResultsIncrease\": 1918099.0, \"positiveIncrease\": 196855.0, \"death\": 222711.0, \"deathIncrease\": 2338.0, \"positiveRate\": 0.103, \"state\": \"Non Tri-State\", \"sma7d\": 170721.714}, {\"date\": \"2020-12-06T00:00:00\", \"totalTestResultsIncrease\": 1448866.0, \"positiveIncrease\": 162080.0, \"death\": 223782.0, \"deathIncrease\": 1071.0, \"positiveRate\": 0.112, \"state\": \"Non Tri-State\", \"sma7d\": 176064.286}, {\"date\": \"2020-12-07T00:00:00\", \"totalTestResultsIncrease\": 1493738.0, \"positiveIncrease\": 161225.0, \"death\": 224953.0, \"deathIncrease\": 1171.0, \"positiveRate\": 0.108, \"state\": \"Non Tri-State\", \"sma7d\": 180115.714}, {\"date\": \"2020-12-08T00:00:00\", \"totalTestResultsIncrease\": 1378884.0, \"positiveIncrease\": 198110.0, \"death\": 227425.0, \"deathIncrease\": 2472.0, \"positiveRate\": 0.144, \"state\": \"Non Tri-State\", \"sma7d\": 185064.857}, {\"date\": \"2020-12-09T00:00:00\", \"totalTestResultsIncrease\": 1457973.0, \"positiveIncrease\": 193699.0, \"death\": 230257.0, \"deathIncrease\": 2832.0, \"positiveRate\": 0.133, \"state\": \"Non Tri-State\", \"sma7d\": 187032.429}, {\"date\": \"2020-12-10T00:00:00\", \"totalTestResultsIncrease\": 1671360.0, \"positiveIncrease\": 197940.0, \"death\": 233122.0, \"deathIncrease\": 2865.0, \"positiveRate\": 0.118, \"state\": \"Non Tri-State\", \"sma7d\": 188045.0}]}}, {\"mode\": \"vega-lite\"});\n",
       "</script>"
      ],
      "text/plain": [
       "alt.LayerChart(...)"
      ]
     },
     "execution_count": 15,
     "metadata": {},
     "output_type": "execute_result"
    }
   ],
   "source": [
    "create_plot(non_tristate, 'positiveIncrease')"
   ]
  },
  {
   "cell_type": "code",
   "execution_count": 16,
   "metadata": {
    "execution": {
     "iopub.execute_input": "2020-12-11T09:27:00.772763Z",
     "iopub.status.busy": "2020-12-11T09:27:00.758960Z",
     "iopub.status.idle": "2020-12-11T09:27:00.838649Z",
     "shell.execute_reply": "2020-12-11T09:27:00.838249Z"
    },
    "papermill": {
     "duration": 0.098643,
     "end_time": "2020-12-11T09:27:00.838771",
     "exception": false,
     "start_time": "2020-12-11T09:27:00.740128",
     "status": "completed"
    },
    "tags": []
   },
   "outputs": [
    {
     "data": {
      "text/html": [
       "\n",
       "<div id=\"altair-viz-c5b735cfab8342d282eb253d37e1f781\"></div>\n",
       "<script type=\"text/javascript\">\n",
       "  (function(spec, embedOpt){\n",
       "    let outputDiv = document.currentScript.previousElementSibling;\n",
       "    if (outputDiv.id !== \"altair-viz-c5b735cfab8342d282eb253d37e1f781\") {\n",
       "      outputDiv = document.getElementById(\"altair-viz-c5b735cfab8342d282eb253d37e1f781\");\n",
       "    }\n",
       "    const paths = {\n",
       "      \"vega\": \"https://cdn.jsdelivr.net/npm//vega@5?noext\",\n",
       "      \"vega-lib\": \"https://cdn.jsdelivr.net/npm//vega-lib?noext\",\n",
       "      \"vega-lite\": \"https://cdn.jsdelivr.net/npm//vega-lite@4.8.1?noext\",\n",
       "      \"vega-embed\": \"https://cdn.jsdelivr.net/npm//vega-embed@6?noext\",\n",
       "    };\n",
       "\n",
       "    function loadScript(lib) {\n",
       "      return new Promise(function(resolve, reject) {\n",
       "        var s = document.createElement('script');\n",
       "        s.src = paths[lib];\n",
       "        s.async = true;\n",
       "        s.onload = () => resolve(paths[lib]);\n",
       "        s.onerror = () => reject(`Error loading script: ${paths[lib]}`);\n",
       "        document.getElementsByTagName(\"head\")[0].appendChild(s);\n",
       "      });\n",
       "    }\n",
       "\n",
       "    function showError(err) {\n",
       "      outputDiv.innerHTML = `<div class=\"error\" style=\"color:red;\">${err}</div>`;\n",
       "      throw err;\n",
       "    }\n",
       "\n",
       "    function displayChart(vegaEmbed) {\n",
       "      vegaEmbed(outputDiv, spec, embedOpt)\n",
       "        .catch(err => showError(`Javascript Error: ${err.message}<br>This usually means there's a typo in your chart specification. See the javascript console for the full traceback.`));\n",
       "    }\n",
       "\n",
       "    if(typeof define === \"function\" && define.amd) {\n",
       "      requirejs.config({paths});\n",
       "      require([\"vega-embed\"], displayChart, err => showError(`Error loading script: ${err.message}`));\n",
       "    } else if (typeof vegaEmbed === \"function\") {\n",
       "      displayChart(vegaEmbed);\n",
       "    } else {\n",
       "      loadScript(\"vega\")\n",
       "        .then(() => loadScript(\"vega-lite\"))\n",
       "        .then(() => loadScript(\"vega-embed\"))\n",
       "        .catch(showError)\n",
       "        .then(() => displayChart(vegaEmbed));\n",
       "    }\n",
       "  })({\"config\": {\"view\": {\"continuousWidth\": 400, \"continuousHeight\": 300}}, \"layer\": [{\"layer\": [{\"mark\": {\"type\": \"point\", \"size\": 75}, \"encoding\": {\"tooltip\": [{\"type\": \"temporal\", \"field\": \"date\"}, {\"type\": \"quantitative\", \"field\": \"positiveRate\"}, {\"type\": \"quantitative\", \"field\": \"sma7d\"}], \"x\": {\"type\": \"temporal\", \"field\": \"date\"}, \"y\": {\"type\": \"quantitative\", \"field\": \"positiveRate\"}}, \"selection\": {\"selector016\": {\"type\": \"interval\", \"bind\": \"scales\", \"encodings\": [\"x\", \"y\"]}}}, {\"mark\": {\"type\": \"line\", \"color\": \"purple\"}, \"encoding\": {\"x\": {\"type\": \"temporal\", \"field\": \"date\"}, \"y\": {\"type\": \"quantitative\", \"field\": \"sma7d\"}}}]}, {\"mark\": {\"type\": \"rule\", \"color\": \"#aaa\"}, \"encoding\": {\"x\": {\"type\": \"temporal\", \"field\": \"date\"}}, \"transform\": [{\"filter\": {\"selection\": \"selector015\"}}]}, {\"mark\": \"circle\", \"encoding\": {\"opacity\": {\"condition\": {\"value\": 1, \"selection\": \"selector015\"}, \"value\": 0}, \"tooltip\": [{\"type\": \"temporal\", \"field\": \"date\"}, {\"type\": \"quantitative\", \"field\": \"positiveRate\"}, {\"type\": \"quantitative\", \"field\": \"sma7d\"}], \"x\": {\"type\": \"temporal\", \"field\": \"date\"}, \"y\": {\"type\": \"quantitative\", \"field\": \"positiveRate\"}}, \"selection\": {\"selector015\": {\"type\": \"single\", \"encodings\": [\"x\"], \"on\": \"mouseover\", \"nearest\": true, \"empty\": \"none\"}}}, {\"mark\": {\"type\": \"text\", \"align\": \"left\", \"dx\": 5, \"dy\": -5, \"stroke\": \"white\", \"strokeWidth\": 2}, \"encoding\": {\"text\": {\"type\": \"quantitative\", \"field\": \"positiveRate\"}, \"tooltip\": [{\"type\": \"temporal\", \"field\": \"date\"}, {\"type\": \"quantitative\", \"field\": \"positiveRate\"}, {\"type\": \"quantitative\", \"field\": \"sma7d\"}], \"x\": {\"type\": \"temporal\", \"field\": \"date\"}, \"y\": {\"type\": \"quantitative\", \"field\": \"positiveRate\"}}, \"transform\": [{\"filter\": {\"selection\": \"selector015\"}}]}, {\"mark\": {\"type\": \"text\", \"align\": \"left\", \"dx\": 5, \"dy\": -5}, \"encoding\": {\"text\": {\"type\": \"quantitative\", \"field\": \"positiveRate\"}, \"tooltip\": [{\"type\": \"temporal\", \"field\": \"date\"}, {\"type\": \"quantitative\", \"field\": \"positiveRate\"}, {\"type\": \"quantitative\", \"field\": \"sma7d\"}], \"x\": {\"type\": \"temporal\", \"field\": \"date\"}, \"y\": {\"type\": \"quantitative\", \"field\": \"positiveRate\"}}, \"transform\": [{\"filter\": {\"selection\": \"selector015\"}}]}], \"data\": {\"name\": \"data-c2bd8e67c6648eb4c70283eec5773fba\"}, \"height\": 400, \"title\": \"Non Tri-State: positiveRate\", \"width\": 500, \"$schema\": \"https://vega.github.io/schema/vega-lite/v4.8.1.json\", \"datasets\": {\"data-c2bd8e67c6648eb4c70283eec5773fba\": [{\"date\": \"2020-10-17T00:00:00\", \"totalTestResultsIncrease\": 1119077.0, \"positiveIncrease\": 54637.0, \"death\": 164718.0, \"deathIncrease\": 762.0, \"positiveRate\": 0.049, \"state\": \"Non Tri-State\", \"sma7d\": 0.054}, {\"date\": \"2020-10-18T00:00:00\", \"totalTestResultsIncrease\": 928673.0, \"positiveIncrease\": 45615.0, \"death\": 165106.0, \"deathIncrease\": 388.0, \"positiveRate\": 0.049, \"state\": \"Non Tri-State\", \"sma7d\": 0.055}, {\"date\": \"2020-10-19T00:00:00\", \"totalTestResultsIncrease\": 907407.0, \"positiveIncrease\": 53727.0, \"death\": 165532.0, \"deathIncrease\": 426.0, \"positiveRate\": 0.059, \"state\": \"Non Tri-State\", \"sma7d\": 0.056}, {\"date\": \"2020-10-20T00:00:00\", \"totalTestResultsIncrease\": 855337.0, \"positiveIncrease\": 57946.0, \"death\": 166338.0, \"deathIncrease\": 806.0, \"positiveRate\": 0.068, \"state\": \"Non Tri-State\", \"sma7d\": 0.059}, {\"date\": \"2020-10-21T00:00:00\", \"totalTestResultsIncrease\": 796471.0, \"positiveIncrease\": 57508.0, \"death\": 167324.0, \"deathIncrease\": 986.0, \"positiveRate\": 0.072, \"state\": \"Non Tri-State\", \"sma7d\": 0.06}, {\"date\": \"2020-10-22T00:00:00\", \"totalTestResultsIncrease\": 1064523.0, \"positiveIncrease\": 69711.0, \"death\": 168415.0, \"deathIncrease\": 1091.0, \"positiveRate\": 0.065, \"state\": \"Non Tri-State\", \"sma7d\": 0.061}, {\"date\": \"2020-10-23T00:00:00\", \"totalTestResultsIncrease\": 1199324.0, \"positiveIncrease\": 78981.0, \"death\": 169320.0, \"deathIncrease\": 905.0, \"positiveRate\": 0.066, \"state\": \"Non Tri-State\", \"sma7d\": 0.061}, {\"date\": \"2020-10-24T00:00:00\", \"totalTestResultsIncrease\": 1182686.0, \"positiveIncrease\": 79349.0, \"death\": 170189.0, \"deathIncrease\": 869.0, \"positiveRate\": 0.067, \"state\": \"Non Tri-State\", \"sma7d\": 0.064}, {\"date\": \"2020-10-25T00:00:00\", \"totalTestResultsIncrease\": 1030295.0, \"positiveIncrease\": 62136.0, \"death\": 170555.0, \"deathIncrease\": 366.0, \"positiveRate\": 0.06, \"state\": \"Non Tri-State\", \"sma7d\": 0.065}, {\"date\": \"2020-10-26T00:00:00\", \"totalTestResultsIncrease\": 971343.0, \"positiveIncrease\": 58081.0, \"death\": 170926.0, \"deathIncrease\": 371.0, \"positiveRate\": 0.06, \"state\": \"Non Tri-State\", \"sma7d\": 0.065}, {\"date\": \"2020-10-27T00:00:00\", \"totalTestResultsIncrease\": 943176.0, \"positiveIncrease\": 67921.0, \"death\": 171809.0, \"deathIncrease\": 883.0, \"positiveRate\": 0.072, \"state\": \"Non Tri-State\", \"sma7d\": 0.066}, {\"date\": \"2020-10-28T00:00:00\", \"totalTestResultsIncrease\": 945843.0, \"positiveIncrease\": 74606.0, \"death\": 172811.0, \"deathIncrease\": 1002.0, \"positiveRate\": 0.079, \"state\": \"Non Tri-State\", \"sma7d\": 0.067}, {\"date\": \"2020-10-29T00:00:00\", \"totalTestResultsIncrease\": 1114856.0, \"positiveIncrease\": 83360.0, \"death\": 173816.0, \"deathIncrease\": 1005.0, \"positiveRate\": 0.075, \"state\": \"Non Tri-State\", \"sma7d\": 0.068}, {\"date\": \"2020-10-30T00:00:00\", \"totalTestResultsIncrease\": 1209020.0, \"positiveIncrease\": 92271.0, \"death\": 174737.0, \"deathIncrease\": 921.0, \"positiveRate\": 0.076, \"state\": \"Non Tri-State\", \"sma7d\": 0.07}, {\"date\": \"2020-10-31T00:00:00\", \"totalTestResultsIncrease\": 1203683.0, \"positiveIncrease\": 87201.0, \"death\": 175686.0, \"deathIncrease\": 949.0, \"positiveRate\": 0.072, \"state\": \"Non Tri-State\", \"sma7d\": 0.071}, {\"date\": \"2020-11-01T00:00:00\", \"totalTestResultsIncrease\": 984877.0, \"positiveIncrease\": 69874.0, \"death\": 176060.0, \"deathIncrease\": 374.0, \"positiveRate\": 0.071, \"state\": \"Non Tri-State\", \"sma7d\": 0.072}, {\"date\": \"2020-11-02T00:00:00\", \"totalTestResultsIncrease\": 1097336.0, \"positiveIncrease\": 76390.0, \"death\": 176523.0, \"deathIncrease\": 463.0, \"positiveRate\": 0.07, \"state\": \"Non Tri-State\", \"sma7d\": 0.074}, {\"date\": \"2020-11-03T00:00:00\", \"totalTestResultsIncrease\": 986414.0, \"positiveIncrease\": 82566.0, \"death\": 178004.0, \"deathIncrease\": 1481.0, \"positiveRate\": 0.084, \"state\": \"Non Tri-State\", \"sma7d\": 0.075}, {\"date\": \"2020-11-04T00:00:00\", \"totalTestResultsIncrease\": 1087253.0, \"positiveIncrease\": 97290.0, \"death\": 179072.0, \"deathIncrease\": 1068.0, \"positiveRate\": 0.089, \"state\": \"Non Tri-State\", \"sma7d\": 0.077}, {\"date\": \"2020-11-05T00:00:00\", \"totalTestResultsIncrease\": 1328443.0, \"positiveIncrease\": 109833.0, \"death\": 180171.0, \"deathIncrease\": 1099.0, \"positiveRate\": 0.083, \"state\": \"Non Tri-State\", \"sma7d\": 0.078}, {\"date\": \"2020-11-06T00:00:00\", \"totalTestResultsIncrease\": 1357513.0, \"positiveIncrease\": 119363.0, \"death\": 181298.0, \"deathIncrease\": 1127.0, \"positiveRate\": 0.088, \"state\": \"Non Tri-State\", \"sma7d\": 0.08}, {\"date\": \"2020-11-07T00:00:00\", \"totalTestResultsIncrease\": 1174715.0, \"positiveIncrease\": 122477.0, \"death\": 182390.0, \"deathIncrease\": 1092.0, \"positiveRate\": 0.104, \"state\": \"Non Tri-State\", \"sma7d\": 0.084}, {\"date\": \"2020-11-08T00:00:00\", \"totalTestResultsIncrease\": 1119271.0, \"positiveIncrease\": 104865.0, \"death\": 182863.0, \"deathIncrease\": 473.0, \"positiveRate\": 0.094, \"state\": \"Non Tri-State\", \"sma7d\": 0.087}, {\"date\": \"2020-11-09T00:00:00\", \"totalTestResultsIncrease\": 1253679.0, \"positiveIncrease\": 110894.0, \"death\": 183376.0, \"deathIncrease\": 513.0, \"positiveRate\": 0.088, \"state\": \"Non Tri-State\", \"sma7d\": 0.09}, {\"date\": \"2020-11-10T00:00:00\", \"totalTestResultsIncrease\": 1125174.0, \"positiveIncrease\": 121984.0, \"death\": 184674.0, \"deathIncrease\": 1298.0, \"positiveRate\": 0.108, \"state\": \"Non Tri-State\", \"sma7d\": 0.093}, {\"date\": \"2020-11-11T00:00:00\", \"totalTestResultsIncrease\": 1212244.0, \"positiveIncrease\": 135243.0, \"death\": 186192.0, \"deathIncrease\": 1518.0, \"positiveRate\": 0.112, \"state\": \"Non Tri-State\", \"sma7d\": 0.097}, {\"date\": \"2020-11-12T00:00:00\", \"totalTestResultsIncrease\": 1271151.0, \"positiveIncrease\": 142601.0, \"death\": 187253.0, \"deathIncrease\": 1061.0, \"positiveRate\": 0.112, \"state\": \"Non Tri-State\", \"sma7d\": 0.101}, {\"date\": \"2020-11-13T00:00:00\", \"totalTestResultsIncrease\": 1439266.0, \"positiveIncrease\": 160633.0, \"death\": 188459.0, \"deathIncrease\": 1206.0, \"positiveRate\": 0.112, \"state\": \"Non Tri-State\", \"sma7d\": 0.104}, {\"date\": \"2020-11-14T00:00:00\", \"totalTestResultsIncrease\": 1463491.0, \"positiveIncrease\": 153856.0, \"death\": 189740.0, \"deathIncrease\": 1281.0, \"positiveRate\": 0.105, \"state\": \"Non Tri-State\", \"sma7d\": 0.104}, {\"date\": \"2020-11-15T00:00:00\", \"totalTestResultsIncrease\": 1371039.0, \"positiveIncrease\": 136281.0, \"death\": 190379.0, \"deathIncrease\": 639.0, \"positiveRate\": 0.099, \"state\": \"Non Tri-State\", \"sma7d\": 0.105}, {\"date\": \"2020-11-16T00:00:00\", \"totalTestResultsIncrease\": 1284989.0, \"positiveIncrease\": 138520.0, \"death\": 190936.0, \"deathIncrease\": 557.0, \"positiveRate\": 0.108, \"state\": \"Non Tri-State\", \"sma7d\": 0.108}, {\"date\": \"2020-11-17T00:00:00\", \"totalTestResultsIncrease\": 1321058.0, \"positiveIncrease\": 145963.0, \"death\": 192411.0, \"deathIncrease\": 1475.0, \"positiveRate\": 0.11, \"state\": \"Non Tri-State\", \"sma7d\": 0.108}, {\"date\": \"2020-11-18T00:00:00\", \"totalTestResultsIncrease\": 1302705.0, \"positiveIncrease\": 152671.0, \"death\": 194189.0, \"deathIncrease\": 1778.0, \"positiveRate\": 0.117, \"state\": \"Non Tri-State\", \"sma7d\": 0.109}, {\"date\": \"2020-11-19T00:00:00\", \"totalTestResultsIncrease\": 1629034.0, \"positiveIncrease\": 171058.0, \"death\": 196069.0, \"deathIncrease\": 1880.0, \"positiveRate\": 0.105, \"state\": \"Non Tri-State\", \"sma7d\": 0.108}, {\"date\": \"2020-11-20T00:00:00\", \"totalTestResultsIncrease\": 1672594.0, \"positiveIncrease\": 181648.0, \"death\": 197872.0, \"deathIncrease\": 1803.0, \"positiveRate\": 0.109, \"state\": \"Non Tri-State\", \"sma7d\": 0.108}, {\"date\": \"2020-11-21T00:00:00\", \"totalTestResultsIncrease\": 1788610.0, \"positiveIncrease\": 169122.0, \"death\": 199316.0, \"deathIncrease\": 1444.0, \"positiveRate\": 0.095, \"state\": \"Non Tri-State\", \"sma7d\": 0.106}, {\"date\": \"2020-11-22T00:00:00\", \"totalTestResultsIncrease\": 1509376.0, \"positiveIncrease\": 141518.0, \"death\": 200168.0, \"deathIncrease\": 852.0, \"positiveRate\": 0.094, \"state\": \"Non Tri-State\", \"sma7d\": 0.105}, {\"date\": \"2020-11-23T00:00:00\", \"totalTestResultsIncrease\": 1415699.0, \"positiveIncrease\": 136198.0, \"death\": 201036.0, \"deathIncrease\": 868.0, \"positiveRate\": 0.096, \"state\": \"Non Tri-State\", \"sma7d\": 0.104}, {\"date\": \"2020-11-24T00:00:00\", \"totalTestResultsIncrease\": 1622658.0, \"positiveIncrease\": 157380.0, \"death\": 202994.0, \"deathIncrease\": 1958.0, \"positiveRate\": 0.097, \"state\": \"Non Tri-State\", \"sma7d\": 0.102}, {\"date\": \"2020-11-25T00:00:00\", \"totalTestResultsIncrease\": 1466623.0, \"positiveIncrease\": 171557.0, \"death\": 205130.0, \"deathIncrease\": 2136.0, \"positiveRate\": 0.117, \"state\": \"Non Tri-State\", \"sma7d\": 0.102}, {\"date\": \"2020-11-26T00:00:00\", \"totalTestResultsIncrease\": 996108.0, \"positiveIncrease\": 114972.0, \"death\": 206360.0, \"deathIncrease\": 1230.0, \"positiveRate\": 0.115, \"state\": \"Non Tri-State\", \"sma7d\": 0.103}, {\"date\": \"2020-11-27T00:00:00\", \"totalTestResultsIncrease\": 1836429.0, \"positiveIncrease\": 177986.0, \"death\": 207641.0, \"deathIncrease\": 1281.0, \"positiveRate\": 0.097, \"state\": \"Non Tri-State\", \"sma7d\": 0.102}, {\"date\": \"2020-11-28T00:00:00\", \"totalTestResultsIncrease\": 1479518.0, \"positiveIncrease\": 144749.0, \"death\": 208819.0, \"deathIncrease\": 1178.0, \"positiveRate\": 0.098, \"state\": \"Non Tri-State\", \"sma7d\": 0.102}, {\"date\": \"2020-11-29T00:00:00\", \"totalTestResultsIncrease\": 1137111.0, \"positiveIncrease\": 124682.0, \"death\": 209551.0, \"deathIncrease\": 732.0, \"positiveRate\": 0.11, \"state\": \"Non Tri-State\", \"sma7d\": 0.104}, {\"date\": \"2020-11-30T00:00:00\", \"totalTestResultsIncrease\": 1224577.0, \"positiveIncrease\": 132865.0, \"death\": 210556.0, \"deathIncrease\": 1005.0, \"positiveRate\": 0.108, \"state\": \"Non Tri-State\", \"sma7d\": 0.106}, {\"date\": \"2020-12-01T00:00:00\", \"totalTestResultsIncrease\": 1268571.0, \"positiveIncrease\": 163466.0, \"death\": 212850.0, \"deathIncrease\": 2294.0, \"positiveRate\": 0.129, \"state\": \"Non Tri-State\", \"sma7d\": 0.111}, {\"date\": \"2020-12-02T00:00:00\", \"totalTestResultsIncrease\": 1219422.0, \"positiveIncrease\": 179926.0, \"death\": 215397.0, \"deathIncrease\": 2547.0, \"positiveRate\": 0.148, \"state\": \"Non Tri-State\", \"sma7d\": 0.115}, {\"date\": \"2020-12-03T00:00:00\", \"totalTestResultsIncrease\": 1548719.0, \"positiveIncrease\": 190852.0, \"death\": 217953.0, \"deathIncrease\": 2556.0, \"positiveRate\": 0.123, \"state\": \"Non Tri-State\", \"sma7d\": 0.116}, {\"date\": \"2020-12-04T00:00:00\", \"totalTestResultsIncrease\": 1638534.0, \"positiveIncrease\": 206406.0, \"death\": 220373.0, \"deathIncrease\": 2420.0, \"positiveRate\": 0.126, \"state\": \"Non Tri-State\", \"sma7d\": 0.12}, {\"date\": \"2020-12-05T00:00:00\", \"totalTestResultsIncrease\": 1918099.0, \"positiveIncrease\": 196855.0, \"death\": 222711.0, \"deathIncrease\": 2338.0, \"positiveRate\": 0.103, \"state\": \"Non Tri-State\", \"sma7d\": 0.121}, {\"date\": \"2020-12-06T00:00:00\", \"totalTestResultsIncrease\": 1448866.0, \"positiveIncrease\": 162080.0, \"death\": 223782.0, \"deathIncrease\": 1071.0, \"positiveRate\": 0.112, \"state\": \"Non Tri-State\", \"sma7d\": 0.121}, {\"date\": \"2020-12-07T00:00:00\", \"totalTestResultsIncrease\": 1493738.0, \"positiveIncrease\": 161225.0, \"death\": 224953.0, \"deathIncrease\": 1171.0, \"positiveRate\": 0.108, \"state\": \"Non Tri-State\", \"sma7d\": 0.121}, {\"date\": \"2020-12-08T00:00:00\", \"totalTestResultsIncrease\": 1378884.0, \"positiveIncrease\": 198110.0, \"death\": 227425.0, \"deathIncrease\": 2472.0, \"positiveRate\": 0.144, \"state\": \"Non Tri-State\", \"sma7d\": 0.123}, {\"date\": \"2020-12-09T00:00:00\", \"totalTestResultsIncrease\": 1457973.0, \"positiveIncrease\": 193699.0, \"death\": 230257.0, \"deathIncrease\": 2832.0, \"positiveRate\": 0.133, \"state\": \"Non Tri-State\", \"sma7d\": 0.121}, {\"date\": \"2020-12-10T00:00:00\", \"totalTestResultsIncrease\": 1671360.0, \"positiveIncrease\": 197940.0, \"death\": 233122.0, \"deathIncrease\": 2865.0, \"positiveRate\": 0.118, \"state\": \"Non Tri-State\", \"sma7d\": 0.121}]}}, {\"mode\": \"vega-lite\"});\n",
       "</script>"
      ],
      "text/plain": [
       "alt.LayerChart(...)"
      ]
     },
     "execution_count": 16,
     "metadata": {},
     "output_type": "execute_result"
    }
   ],
   "source": [
    "create_plot(non_tristate, 'positiveRate')"
   ]
  },
  {
   "cell_type": "code",
   "execution_count": 17,
   "metadata": {
    "execution": {
     "iopub.execute_input": "2020-12-11T09:27:00.894449Z",
     "iopub.status.busy": "2020-12-11T09:27:00.874452Z",
     "iopub.status.idle": "2020-12-11T09:27:00.954897Z",
     "shell.execute_reply": "2020-12-11T09:27:00.954499Z"
    },
    "papermill": {
     "duration": 0.099972,
     "end_time": "2020-12-11T09:27:00.955015",
     "exception": false,
     "start_time": "2020-12-11T09:27:00.855043",
     "status": "completed"
    },
    "tags": []
   },
   "outputs": [
    {
     "data": {
      "text/html": [
       "\n",
       "<div id=\"altair-viz-271fa2fa3cd14b6fb6fc6ad3235e141b\"></div>\n",
       "<script type=\"text/javascript\">\n",
       "  (function(spec, embedOpt){\n",
       "    let outputDiv = document.currentScript.previousElementSibling;\n",
       "    if (outputDiv.id !== \"altair-viz-271fa2fa3cd14b6fb6fc6ad3235e141b\") {\n",
       "      outputDiv = document.getElementById(\"altair-viz-271fa2fa3cd14b6fb6fc6ad3235e141b\");\n",
       "    }\n",
       "    const paths = {\n",
       "      \"vega\": \"https://cdn.jsdelivr.net/npm//vega@5?noext\",\n",
       "      \"vega-lib\": \"https://cdn.jsdelivr.net/npm//vega-lib?noext\",\n",
       "      \"vega-lite\": \"https://cdn.jsdelivr.net/npm//vega-lite@4.8.1?noext\",\n",
       "      \"vega-embed\": \"https://cdn.jsdelivr.net/npm//vega-embed@6?noext\",\n",
       "    };\n",
       "\n",
       "    function loadScript(lib) {\n",
       "      return new Promise(function(resolve, reject) {\n",
       "        var s = document.createElement('script');\n",
       "        s.src = paths[lib];\n",
       "        s.async = true;\n",
       "        s.onload = () => resolve(paths[lib]);\n",
       "        s.onerror = () => reject(`Error loading script: ${paths[lib]}`);\n",
       "        document.getElementsByTagName(\"head\")[0].appendChild(s);\n",
       "      });\n",
       "    }\n",
       "\n",
       "    function showError(err) {\n",
       "      outputDiv.innerHTML = `<div class=\"error\" style=\"color:red;\">${err}</div>`;\n",
       "      throw err;\n",
       "    }\n",
       "\n",
       "    function displayChart(vegaEmbed) {\n",
       "      vegaEmbed(outputDiv, spec, embedOpt)\n",
       "        .catch(err => showError(`Javascript Error: ${err.message}<br>This usually means there's a typo in your chart specification. See the javascript console for the full traceback.`));\n",
       "    }\n",
       "\n",
       "    if(typeof define === \"function\" && define.amd) {\n",
       "      requirejs.config({paths});\n",
       "      require([\"vega-embed\"], displayChart, err => showError(`Error loading script: ${err.message}`));\n",
       "    } else if (typeof vegaEmbed === \"function\") {\n",
       "      displayChart(vegaEmbed);\n",
       "    } else {\n",
       "      loadScript(\"vega\")\n",
       "        .then(() => loadScript(\"vega-lite\"))\n",
       "        .then(() => loadScript(\"vega-embed\"))\n",
       "        .catch(showError)\n",
       "        .then(() => displayChart(vegaEmbed));\n",
       "    }\n",
       "  })({\"config\": {\"view\": {\"continuousWidth\": 400, \"continuousHeight\": 300}}, \"layer\": [{\"layer\": [{\"mark\": {\"type\": \"point\", \"size\": 75}, \"encoding\": {\"tooltip\": [{\"type\": \"temporal\", \"field\": \"date\"}, {\"type\": \"quantitative\", \"field\": \"deathIncrease\"}, {\"type\": \"quantitative\", \"field\": \"sma7d\"}], \"x\": {\"type\": \"temporal\", \"field\": \"date\"}, \"y\": {\"type\": \"quantitative\", \"field\": \"deathIncrease\"}}, \"selection\": {\"selector018\": {\"type\": \"interval\", \"bind\": \"scales\", \"encodings\": [\"x\", \"y\"]}}}, {\"mark\": {\"type\": \"line\", \"color\": \"purple\"}, \"encoding\": {\"x\": {\"type\": \"temporal\", \"field\": \"date\"}, \"y\": {\"type\": \"quantitative\", \"field\": \"sma7d\"}}}]}, {\"mark\": {\"type\": \"rule\", \"color\": \"#aaa\"}, \"encoding\": {\"x\": {\"type\": \"temporal\", \"field\": \"date\"}}, \"transform\": [{\"filter\": {\"selection\": \"selector017\"}}]}, {\"mark\": \"circle\", \"encoding\": {\"opacity\": {\"condition\": {\"value\": 1, \"selection\": \"selector017\"}, \"value\": 0}, \"tooltip\": [{\"type\": \"temporal\", \"field\": \"date\"}, {\"type\": \"quantitative\", \"field\": \"deathIncrease\"}, {\"type\": \"quantitative\", \"field\": \"sma7d\"}], \"x\": {\"type\": \"temporal\", \"field\": \"date\"}, \"y\": {\"type\": \"quantitative\", \"field\": \"deathIncrease\"}}, \"selection\": {\"selector017\": {\"type\": \"single\", \"encodings\": [\"x\"], \"on\": \"mouseover\", \"nearest\": true, \"empty\": \"none\"}}}, {\"mark\": {\"type\": \"text\", \"align\": \"left\", \"dx\": 5, \"dy\": -5, \"stroke\": \"white\", \"strokeWidth\": 2}, \"encoding\": {\"text\": {\"type\": \"quantitative\", \"field\": \"deathIncrease\"}, \"tooltip\": [{\"type\": \"temporal\", \"field\": \"date\"}, {\"type\": \"quantitative\", \"field\": \"deathIncrease\"}, {\"type\": \"quantitative\", \"field\": \"sma7d\"}], \"x\": {\"type\": \"temporal\", \"field\": \"date\"}, \"y\": {\"type\": \"quantitative\", \"field\": \"deathIncrease\"}}, \"transform\": [{\"filter\": {\"selection\": \"selector017\"}}]}, {\"mark\": {\"type\": \"text\", \"align\": \"left\", \"dx\": 5, \"dy\": -5}, \"encoding\": {\"text\": {\"type\": \"quantitative\", \"field\": \"deathIncrease\"}, \"tooltip\": [{\"type\": \"temporal\", \"field\": \"date\"}, {\"type\": \"quantitative\", \"field\": \"deathIncrease\"}, {\"type\": \"quantitative\", \"field\": \"sma7d\"}], \"x\": {\"type\": \"temporal\", \"field\": \"date\"}, \"y\": {\"type\": \"quantitative\", \"field\": \"deathIncrease\"}}, \"transform\": [{\"filter\": {\"selection\": \"selector017\"}}]}], \"data\": {\"name\": \"data-67bfd1ca7ec9f6e6fb644fe6fc1947e2\"}, \"height\": 400, \"title\": \"Non Tri-State: deathIncrease\", \"width\": 500, \"$schema\": \"https://vega.github.io/schema/vega-lite/v4.8.1.json\", \"datasets\": {\"data-67bfd1ca7ec9f6e6fb644fe6fc1947e2\": [{\"date\": \"2020-10-17T00:00:00\", \"totalTestResultsIncrease\": 1119077.0, \"positiveIncrease\": 54637.0, \"death\": 164718.0, \"deathIncrease\": 762.0, \"positiveRate\": 0.049, \"state\": \"Non Tri-State\", \"sma7d\": 677.429}, {\"date\": \"2020-10-18T00:00:00\", \"totalTestResultsIncrease\": 928673.0, \"positiveIncrease\": 45615.0, \"death\": 165106.0, \"deathIncrease\": 388.0, \"positiveRate\": 0.049, \"state\": \"Non Tri-State\", \"sma7d\": 667.143}, {\"date\": \"2020-10-19T00:00:00\", \"totalTestResultsIncrease\": 907407.0, \"positiveIncrease\": 53727.0, \"death\": 165532.0, \"deathIncrease\": 426.0, \"positiveRate\": 0.059, \"state\": \"Non Tri-State\", \"sma7d\": 690.0}, {\"date\": \"2020-10-20T00:00:00\", \"totalTestResultsIncrease\": 855337.0, \"positiveIncrease\": 57946.0, \"death\": 166338.0, \"deathIncrease\": 806.0, \"positiveRate\": 0.068, \"state\": \"Non Tri-State\", \"sma7d\": 708.143}, {\"date\": \"2020-10-21T00:00:00\", \"totalTestResultsIncrease\": 796471.0, \"positiveIncrease\": 57508.0, \"death\": 167324.0, \"deathIncrease\": 986.0, \"positiveRate\": 0.072, \"state\": \"Non Tri-State\", \"sma7d\": 736.571}, {\"date\": \"2020-10-22T00:00:00\", \"totalTestResultsIncrease\": 1064523.0, \"positiveIncrease\": 69711.0, \"death\": 168415.0, \"deathIncrease\": 1091.0, \"positiveRate\": 0.065, \"state\": \"Non Tri-State\", \"sma7d\": 762.714}, {\"date\": \"2020-10-23T00:00:00\", \"totalTestResultsIncrease\": 1199324.0, \"positiveIncrease\": 78981.0, \"death\": 169320.0, \"deathIncrease\": 905.0, \"positiveRate\": 0.066, \"state\": \"Non Tri-State\", \"sma7d\": 766.286}, {\"date\": \"2020-10-24T00:00:00\", \"totalTestResultsIncrease\": 1182686.0, \"positiveIncrease\": 79349.0, \"death\": 170189.0, \"deathIncrease\": 869.0, \"positiveRate\": 0.067, \"state\": \"Non Tri-State\", \"sma7d\": 781.571}, {\"date\": \"2020-10-25T00:00:00\", \"totalTestResultsIncrease\": 1030295.0, \"positiveIncrease\": 62136.0, \"death\": 170555.0, \"deathIncrease\": 366.0, \"positiveRate\": 0.06, \"state\": \"Non Tri-State\", \"sma7d\": 778.429}, {\"date\": \"2020-10-26T00:00:00\", \"totalTestResultsIncrease\": 971343.0, \"positiveIncrease\": 58081.0, \"death\": 170926.0, \"deathIncrease\": 371.0, \"positiveRate\": 0.06, \"state\": \"Non Tri-State\", \"sma7d\": 770.571}, {\"date\": \"2020-10-27T00:00:00\", \"totalTestResultsIncrease\": 943176.0, \"positiveIncrease\": 67921.0, \"death\": 171809.0, \"deathIncrease\": 883.0, \"positiveRate\": 0.072, \"state\": \"Non Tri-State\", \"sma7d\": 781.571}, {\"date\": \"2020-10-28T00:00:00\", \"totalTestResultsIncrease\": 945843.0, \"positiveIncrease\": 74606.0, \"death\": 172811.0, \"deathIncrease\": 1002.0, \"positiveRate\": 0.079, \"state\": \"Non Tri-State\", \"sma7d\": 783.857}, {\"date\": \"2020-10-29T00:00:00\", \"totalTestResultsIncrease\": 1114856.0, \"positiveIncrease\": 83360.0, \"death\": 173816.0, \"deathIncrease\": 1005.0, \"positiveRate\": 0.075, \"state\": \"Non Tri-State\", \"sma7d\": 771.571}, {\"date\": \"2020-10-30T00:00:00\", \"totalTestResultsIncrease\": 1209020.0, \"positiveIncrease\": 92271.0, \"death\": 174737.0, \"deathIncrease\": 921.0, \"positiveRate\": 0.076, \"state\": \"Non Tri-State\", \"sma7d\": 773.857}, {\"date\": \"2020-10-31T00:00:00\", \"totalTestResultsIncrease\": 1203683.0, \"positiveIncrease\": 87201.0, \"death\": 175686.0, \"deathIncrease\": 949.0, \"positiveRate\": 0.072, \"state\": \"Non Tri-State\", \"sma7d\": 785.286}, {\"date\": \"2020-11-01T00:00:00\", \"totalTestResultsIncrease\": 984877.0, \"positiveIncrease\": 69874.0, \"death\": 176060.0, \"deathIncrease\": 374.0, \"positiveRate\": 0.071, \"state\": \"Non Tri-State\", \"sma7d\": 786.429}, {\"date\": \"2020-11-02T00:00:00\", \"totalTestResultsIncrease\": 1097336.0, \"positiveIncrease\": 76390.0, \"death\": 176523.0, \"deathIncrease\": 463.0, \"positiveRate\": 0.07, \"state\": \"Non Tri-State\", \"sma7d\": 799.571}, {\"date\": \"2020-11-03T00:00:00\", \"totalTestResultsIncrease\": 986414.0, \"positiveIncrease\": 82566.0, \"death\": 178004.0, \"deathIncrease\": 1481.0, \"positiveRate\": 0.084, \"state\": \"Non Tri-State\", \"sma7d\": 885.0}, {\"date\": \"2020-11-04T00:00:00\", \"totalTestResultsIncrease\": 1087253.0, \"positiveIncrease\": 97290.0, \"death\": 179072.0, \"deathIncrease\": 1068.0, \"positiveRate\": 0.089, \"state\": \"Non Tri-State\", \"sma7d\": 894.429}, {\"date\": \"2020-11-05T00:00:00\", \"totalTestResultsIncrease\": 1328443.0, \"positiveIncrease\": 109833.0, \"death\": 180171.0, \"deathIncrease\": 1099.0, \"positiveRate\": 0.083, \"state\": \"Non Tri-State\", \"sma7d\": 907.857}, {\"date\": \"2020-11-06T00:00:00\", \"totalTestResultsIncrease\": 1357513.0, \"positiveIncrease\": 119363.0, \"death\": 181298.0, \"deathIncrease\": 1127.0, \"positiveRate\": 0.088, \"state\": \"Non Tri-State\", \"sma7d\": 937.286}, {\"date\": \"2020-11-07T00:00:00\", \"totalTestResultsIncrease\": 1174715.0, \"positiveIncrease\": 122477.0, \"death\": 182390.0, \"deathIncrease\": 1092.0, \"positiveRate\": 0.104, \"state\": \"Non Tri-State\", \"sma7d\": 957.714}, {\"date\": \"2020-11-08T00:00:00\", \"totalTestResultsIncrease\": 1119271.0, \"positiveIncrease\": 104865.0, \"death\": 182863.0, \"deathIncrease\": 473.0, \"positiveRate\": 0.094, \"state\": \"Non Tri-State\", \"sma7d\": 971.857}, {\"date\": \"2020-11-09T00:00:00\", \"totalTestResultsIncrease\": 1253679.0, \"positiveIncrease\": 110894.0, \"death\": 183376.0, \"deathIncrease\": 513.0, \"positiveRate\": 0.088, \"state\": \"Non Tri-State\", \"sma7d\": 979.0}, {\"date\": \"2020-11-10T00:00:00\", \"totalTestResultsIncrease\": 1125174.0, \"positiveIncrease\": 121984.0, \"death\": 184674.0, \"deathIncrease\": 1298.0, \"positiveRate\": 0.108, \"state\": \"Non Tri-State\", \"sma7d\": 952.857}, {\"date\": \"2020-11-11T00:00:00\", \"totalTestResultsIncrease\": 1212244.0, \"positiveIncrease\": 135243.0, \"death\": 186192.0, \"deathIncrease\": 1518.0, \"positiveRate\": 0.112, \"state\": \"Non Tri-State\", \"sma7d\": 1017.143}, {\"date\": \"2020-11-12T00:00:00\", \"totalTestResultsIncrease\": 1271151.0, \"positiveIncrease\": 142601.0, \"death\": 187253.0, \"deathIncrease\": 1061.0, \"positiveRate\": 0.112, \"state\": \"Non Tri-State\", \"sma7d\": 1011.714}, {\"date\": \"2020-11-13T00:00:00\", \"totalTestResultsIncrease\": 1439266.0, \"positiveIncrease\": 160633.0, \"death\": 188459.0, \"deathIncrease\": 1206.0, \"positiveRate\": 0.112, \"state\": \"Non Tri-State\", \"sma7d\": 1023.0}, {\"date\": \"2020-11-14T00:00:00\", \"totalTestResultsIncrease\": 1463491.0, \"positiveIncrease\": 153856.0, \"death\": 189740.0, \"deathIncrease\": 1281.0, \"positiveRate\": 0.105, \"state\": \"Non Tri-State\", \"sma7d\": 1050.0}, {\"date\": \"2020-11-15T00:00:00\", \"totalTestResultsIncrease\": 1371039.0, \"positiveIncrease\": 136281.0, \"death\": 190379.0, \"deathIncrease\": 639.0, \"positiveRate\": 0.099, \"state\": \"Non Tri-State\", \"sma7d\": 1073.714}, {\"date\": \"2020-11-16T00:00:00\", \"totalTestResultsIncrease\": 1284989.0, \"positiveIncrease\": 138520.0, \"death\": 190936.0, \"deathIncrease\": 557.0, \"positiveRate\": 0.108, \"state\": \"Non Tri-State\", \"sma7d\": 1080.0}, {\"date\": \"2020-11-17T00:00:00\", \"totalTestResultsIncrease\": 1321058.0, \"positiveIncrease\": 145963.0, \"death\": 192411.0, \"deathIncrease\": 1475.0, \"positiveRate\": 0.11, \"state\": \"Non Tri-State\", \"sma7d\": 1105.286}, {\"date\": \"2020-11-18T00:00:00\", \"totalTestResultsIncrease\": 1302705.0, \"positiveIncrease\": 152671.0, \"death\": 194189.0, \"deathIncrease\": 1778.0, \"positiveRate\": 0.117, \"state\": \"Non Tri-State\", \"sma7d\": 1142.429}, {\"date\": \"2020-11-19T00:00:00\", \"totalTestResultsIncrease\": 1629034.0, \"positiveIncrease\": 171058.0, \"death\": 196069.0, \"deathIncrease\": 1880.0, \"positiveRate\": 0.105, \"state\": \"Non Tri-State\", \"sma7d\": 1259.429}, {\"date\": \"2020-11-20T00:00:00\", \"totalTestResultsIncrease\": 1672594.0, \"positiveIncrease\": 181648.0, \"death\": 197872.0, \"deathIncrease\": 1803.0, \"positiveRate\": 0.109, \"state\": \"Non Tri-State\", \"sma7d\": 1344.714}, {\"date\": \"2020-11-21T00:00:00\", \"totalTestResultsIncrease\": 1788610.0, \"positiveIncrease\": 169122.0, \"death\": 199316.0, \"deathIncrease\": 1444.0, \"positiveRate\": 0.095, \"state\": \"Non Tri-State\", \"sma7d\": 1368.0}, {\"date\": \"2020-11-22T00:00:00\", \"totalTestResultsIncrease\": 1509376.0, \"positiveIncrease\": 141518.0, \"death\": 200168.0, \"deathIncrease\": 852.0, \"positiveRate\": 0.094, \"state\": \"Non Tri-State\", \"sma7d\": 1398.429}, {\"date\": \"2020-11-23T00:00:00\", \"totalTestResultsIncrease\": 1415699.0, \"positiveIncrease\": 136198.0, \"death\": 201036.0, \"deathIncrease\": 868.0, \"positiveRate\": 0.096, \"state\": \"Non Tri-State\", \"sma7d\": 1442.857}, {\"date\": \"2020-11-24T00:00:00\", \"totalTestResultsIncrease\": 1622658.0, \"positiveIncrease\": 157380.0, \"death\": 202994.0, \"deathIncrease\": 1958.0, \"positiveRate\": 0.097, \"state\": \"Non Tri-State\", \"sma7d\": 1511.857}, {\"date\": \"2020-11-25T00:00:00\", \"totalTestResultsIncrease\": 1466623.0, \"positiveIncrease\": 171557.0, \"death\": 205130.0, \"deathIncrease\": 2136.0, \"positiveRate\": 0.117, \"state\": \"Non Tri-State\", \"sma7d\": 1563.0}, {\"date\": \"2020-11-26T00:00:00\", \"totalTestResultsIncrease\": 996108.0, \"positiveIncrease\": 114972.0, \"death\": 206360.0, \"deathIncrease\": 1230.0, \"positiveRate\": 0.115, \"state\": \"Non Tri-State\", \"sma7d\": 1470.143}, {\"date\": \"2020-11-27T00:00:00\", \"totalTestResultsIncrease\": 1836429.0, \"positiveIncrease\": 177986.0, \"death\": 207641.0, \"deathIncrease\": 1281.0, \"positiveRate\": 0.097, \"state\": \"Non Tri-State\", \"sma7d\": 1395.571}, {\"date\": \"2020-11-28T00:00:00\", \"totalTestResultsIncrease\": 1479518.0, \"positiveIncrease\": 144749.0, \"death\": 208819.0, \"deathIncrease\": 1178.0, \"positiveRate\": 0.098, \"state\": \"Non Tri-State\", \"sma7d\": 1357.571}, {\"date\": \"2020-11-29T00:00:00\", \"totalTestResultsIncrease\": 1137111.0, \"positiveIncrease\": 124682.0, \"death\": 209551.0, \"deathIncrease\": 732.0, \"positiveRate\": 0.11, \"state\": \"Non Tri-State\", \"sma7d\": 1340.429}, {\"date\": \"2020-11-30T00:00:00\", \"totalTestResultsIncrease\": 1224577.0, \"positiveIncrease\": 132865.0, \"death\": 210556.0, \"deathIncrease\": 1005.0, \"positiveRate\": 0.108, \"state\": \"Non Tri-State\", \"sma7d\": 1360.0}, {\"date\": \"2020-12-01T00:00:00\", \"totalTestResultsIncrease\": 1268571.0, \"positiveIncrease\": 163466.0, \"death\": 212850.0, \"deathIncrease\": 2294.0, \"positiveRate\": 0.129, \"state\": \"Non Tri-State\", \"sma7d\": 1408.0}, {\"date\": \"2020-12-02T00:00:00\", \"totalTestResultsIncrease\": 1219422.0, \"positiveIncrease\": 179926.0, \"death\": 215397.0, \"deathIncrease\": 2547.0, \"positiveRate\": 0.148, \"state\": \"Non Tri-State\", \"sma7d\": 1466.714}, {\"date\": \"2020-12-03T00:00:00\", \"totalTestResultsIncrease\": 1548719.0, \"positiveIncrease\": 190852.0, \"death\": 217953.0, \"deathIncrease\": 2556.0, \"positiveRate\": 0.123, \"state\": \"Non Tri-State\", \"sma7d\": 1656.143}, {\"date\": \"2020-12-04T00:00:00\", \"totalTestResultsIncrease\": 1638534.0, \"positiveIncrease\": 206406.0, \"death\": 220373.0, \"deathIncrease\": 2420.0, \"positiveRate\": 0.126, \"state\": \"Non Tri-State\", \"sma7d\": 1818.857}, {\"date\": \"2020-12-05T00:00:00\", \"totalTestResultsIncrease\": 1918099.0, \"positiveIncrease\": 196855.0, \"death\": 222711.0, \"deathIncrease\": 2338.0, \"positiveRate\": 0.103, \"state\": \"Non Tri-State\", \"sma7d\": 1984.571}, {\"date\": \"2020-12-06T00:00:00\", \"totalTestResultsIncrease\": 1448866.0, \"positiveIncrease\": 162080.0, \"death\": 223782.0, \"deathIncrease\": 1071.0, \"positiveRate\": 0.112, \"state\": \"Non Tri-State\", \"sma7d\": 2033.0}, {\"date\": \"2020-12-07T00:00:00\", \"totalTestResultsIncrease\": 1493738.0, \"positiveIncrease\": 161225.0, \"death\": 224953.0, \"deathIncrease\": 1171.0, \"positiveRate\": 0.108, \"state\": \"Non Tri-State\", \"sma7d\": 2056.714}, {\"date\": \"2020-12-08T00:00:00\", \"totalTestResultsIncrease\": 1378884.0, \"positiveIncrease\": 198110.0, \"death\": 227425.0, \"deathIncrease\": 2472.0, \"positiveRate\": 0.144, \"state\": \"Non Tri-State\", \"sma7d\": 2082.143}, {\"date\": \"2020-12-09T00:00:00\", \"totalTestResultsIncrease\": 1457973.0, \"positiveIncrease\": 193699.0, \"death\": 230257.0, \"deathIncrease\": 2832.0, \"positiveRate\": 0.133, \"state\": \"Non Tri-State\", \"sma7d\": 2122.857}, {\"date\": \"2020-12-10T00:00:00\", \"totalTestResultsIncrease\": 1671360.0, \"positiveIncrease\": 197940.0, \"death\": 233122.0, \"deathIncrease\": 2865.0, \"positiveRate\": 0.118, \"state\": \"Non Tri-State\", \"sma7d\": 2167.0}]}}, {\"mode\": \"vega-lite\"});\n",
       "</script>"
      ],
      "text/plain": [
       "alt.LayerChart(...)"
      ]
     },
     "execution_count": 17,
     "metadata": {},
     "output_type": "execute_result"
    }
   ],
   "source": [
    "create_plot(non_tristate, 'deathIncrease')"
   ]
  }
 ],
 "metadata": {
  "kernelspec": {
   "display_name": "Python 3",
   "language": "python",
   "name": "python3"
  },
  "language_info": {
   "codemirror_mode": {
    "name": "ipython",
    "version": 3
   },
   "file_extension": ".py",
   "mimetype": "text/x-python",
   "name": "python",
   "nbconvert_exporter": "python",
   "pygments_lexer": "ipython3",
   "version": "3.8.6"
  },
  "papermill": {
   "duration": 8.677639,
   "end_time": "2020-12-11T09:27:01.278460",
   "environment_variables": {},
   "exception": null,
   "input_path": "2020-07-19-covid-plots.ipynb",
   "output_path": "2020-07-19-covid-plots.ipynb",
   "parameters": {},
   "start_time": "2020-12-11T09:26:52.600821",
   "version": "2.1.2"
  }
 },
 "nbformat": 4,
 "nbformat_minor": 4
}