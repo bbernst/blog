{
 "cells": [
  {
   "cell_type": "markdown",
   "metadata": {
    "papermill": {
     "duration": 0.012196,
     "end_time": "2020-12-03T09:14:42.218841",
     "exception": false,
     "start_time": "2020-12-03T09:14:42.206645",
     "status": "completed"
    },
    "tags": []
   },
   "source": [
    "# \"COVID-19 plots\"\n",
    "> \"Interactive plots with daily updates\"\n",
    "\n",
    "- author: bbernst\n",
    "- toc: true\n",
    "- branch: master\n",
    "- badges: true\n",
    "- comments: true\n",
    "- categories: [healthcare, covid]\n",
    "- image: images/covid_plots/covid_mask.png\n",
    "- hide: false\n",
    "- search_exclude: true"
   ]
  },
  {
   "cell_type": "markdown",
   "metadata": {
    "papermill": {
     "duration": 0.012078,
     "end_time": "2020-12-03T09:14:42.244141",
     "exception": false,
     "start_time": "2020-12-03T09:14:42.232063",
     "status": "completed"
    },
    "tags": []
   },
   "source": [
    "I wanted to make a simple COVID-19 post to accomplish two main goals:\n",
    "1. Easily see the specific plots I'm interested in\n",
    "1. Update these plots every day, automatically\n",
    "\n",
    "Enter [fastpages](https://github.com/fastai/fastpages) and [github actions](https://github.com/features/actions). I'd been meaning to set up a blog with fastpages for a while and thought this would be a good reason to try it out. The documentation was great and I was able to set up automatic updates by using https://covid19dashboards.com/ as a guide.\n",
    "\n",
    "The data for this post comes from https://covidtracking.com/, which updates by 5pm each day, and I have my dashboard update at 6:30pm. For each geography -- so far that's the US, New York, and Non Tri-State -- I look at daily positive cases, positive rate, and deaths. Be sure to hover around on each of the plots, they have helpful interactive tooltips to make reading the data more intuitive."
   ]
  },
  {
   "cell_type": "code",
   "execution_count": 1,
   "metadata": {
    "execution": {
     "iopub.execute_input": "2020-12-03T09:14:42.272552Z",
     "iopub.status.busy": "2020-12-03T09:14:42.271985Z",
     "iopub.status.idle": "2020-12-03T09:14:42.683096Z",
     "shell.execute_reply": "2020-12-03T09:14:42.682090Z"
    },
    "papermill": {
     "duration": 0.427226,
     "end_time": "2020-12-03T09:14:42.683268",
     "exception": false,
     "start_time": "2020-12-03T09:14:42.256042",
     "status": "completed"
    },
    "tags": []
   },
   "outputs": [],
   "source": [
    "#collapse\n",
    "from typing import Callable, Literal\n",
    "import pandas as pd\n",
    "import altair as alt"
   ]
  },
  {
   "cell_type": "code",
   "execution_count": 2,
   "metadata": {
    "execution": {
     "iopub.execute_input": "2020-12-03T09:14:42.714127Z",
     "iopub.status.busy": "2020-12-03T09:14:42.713503Z",
     "iopub.status.idle": "2020-12-03T09:14:42.731427Z",
     "shell.execute_reply": "2020-12-03T09:14:42.730973Z"
    },
    "papermill": {
     "duration": 0.034778,
     "end_time": "2020-12-03T09:14:42.731532",
     "exception": false,
     "start_time": "2020-12-03T09:14:42.696754",
     "status": "completed"
    },
    "tags": []
   },
   "outputs": [
    {
     "name": "stdout",
     "output_type": "stream",
     "text": [
      "Last updated at (ET): 2020-12-03 04:14:42 AM\n"
     ]
    }
   ],
   "source": [
    "#hide_input\n",
    "current_utc = pd.Timestamp.now(tz='America/New_York').strftime('%Y-%m-%d %I:%M:%S %p')\n",
    "print(f\"Last updated at (ET): {current_utc}\")"
   ]
  },
  {
   "cell_type": "markdown",
   "metadata": {
    "papermill": {
     "duration": 0.011126,
     "end_time": "2020-12-03T09:14:42.754397",
     "exception": false,
     "start_time": "2020-12-03T09:14:42.743271",
     "status": "completed"
    },
    "tags": []
   },
   "source": [
    "# Data"
   ]
  },
  {
   "cell_type": "code",
   "execution_count": 3,
   "metadata": {
    "execution": {
     "iopub.execute_input": "2020-12-03T09:14:42.780986Z",
     "iopub.status.busy": "2020-12-03T09:14:42.780468Z",
     "iopub.status.idle": "2020-12-03T09:14:43.821385Z",
     "shell.execute_reply": "2020-12-03T09:14:43.821819Z"
    },
    "papermill": {
     "duration": 1.056653,
     "end_time": "2020-12-03T09:14:43.822007",
     "exception": false,
     "start_time": "2020-12-03T09:14:42.765354",
     "status": "completed"
    },
    "tags": []
   },
   "outputs": [],
   "source": [
    "df = pd.read_csv('https://covidtracking.com/api/states/daily.csv')"
   ]
  },
  {
   "cell_type": "markdown",
   "metadata": {
    "papermill": {
     "duration": 0.014581,
     "end_time": "2020-12-03T09:14:43.851427",
     "exception": false,
     "start_time": "2020-12-03T09:14:43.836846",
     "status": "completed"
    },
    "tags": []
   },
   "source": [
    "# Helpers"
   ]
  },
  {
   "cell_type": "code",
   "execution_count": 4,
   "metadata": {
    "execution": {
     "iopub.execute_input": "2020-12-03T09:14:43.886569Z",
     "iopub.status.busy": "2020-12-03T09:14:43.885074Z",
     "iopub.status.idle": "2020-12-03T09:14:43.887399Z",
     "shell.execute_reply": "2020-12-03T09:14:43.887964Z"
    },
    "papermill": {
     "duration": 0.023741,
     "end_time": "2020-12-03T09:14:43.889416",
     "exception": false,
     "start_time": "2020-12-03T09:14:43.865675",
     "status": "completed"
    },
    "tags": []
   },
   "outputs": [],
   "source": [
    "#collapse\n",
    "def create_df(df: pd.DataFrame, \n",
    "              filter_f: Callable, \n",
    "              state_name: str):\n",
    "    out_df = (\n",
    "     df\n",
    "     .assign(date = lambda d: pd.to_datetime(d['date'], format='%Y%m%d'))\n",
    "     .loc[filter_f, :]\n",
    "     .groupby('date')\n",
    "     .apply(lambda d: pd.Series(dict(\n",
    "         totalTestResultsIncrease = d['totalTestResultsIncrease'].sum(),\n",
    "         positiveIncrease = d['positiveIncrease'].sum(),\n",
    "         death = d['death'].sum(),\n",
    "         deathIncrease = d['deathIncrease'].sum()\n",
    "     )))\n",
    "     .reset_index()\n",
    "     .assign(positiveRate = lambda d: round(d['positiveIncrease'] / d['totalTestResultsIncrease'], 3))\n",
    "     .sort_values('date', ascending=True)\n",
    "     .assign(state = state_name)\n",
    "     .reset_index(drop=True)\n",
    "    )\n",
    "    \n",
    "    return out_df"
   ]
  },
  {
   "cell_type": "code",
   "execution_count": 5,
   "metadata": {
    "execution": {
     "iopub.execute_input": "2020-12-03T09:14:43.930125Z",
     "iopub.status.busy": "2020-12-03T09:14:43.929559Z",
     "iopub.status.idle": "2020-12-03T09:14:43.931707Z",
     "shell.execute_reply": "2020-12-03T09:14:43.932219Z"
    },
    "papermill": {
     "duration": 0.027328,
     "end_time": "2020-12-03T09:14:43.932338",
     "exception": false,
     "start_time": "2020-12-03T09:14:43.905010",
     "status": "completed"
    },
    "tags": []
   },
   "outputs": [],
   "source": [
    "#collapse\n",
    "def create_plot(df: pd.DataFrame, \n",
    "                column: Literal['totalTestResultsIncrease', \n",
    "                                'positiveIncrease', \n",
    "                                'death',\n",
    "                                'deathIncrease', \n",
    "                                'positiveRate'],\n",
    "                period: int = 7*8):\n",
    "    df = (\n",
    "     df\n",
    "     .assign(sma7d = lambda d: d[column].rolling(window=7).mean().round(3))\n",
    "     .loc[lambda d: d['date'] >= pd.to_datetime('today') - period * pd.Timedelta('1 days'), :]\n",
    "     .reset_index(drop=True)\n",
    "    )\n",
    "    the_state = df['state'][0]\n",
    "    label = alt.selection_single(\n",
    "        encodings=['x'], on='mouseover', nearest=True, empty='none')\n",
    "    \n",
    "    base = alt.Chart().mark_point(size=75).encode(\n",
    "        x='date:T',\n",
    "        y=f'{column}:Q',\n",
    "        tooltip=['date', f'{column}:Q', 'sma7d:Q']\n",
    "    )\n",
    "\n",
    "    sma = alt.Chart().mark_line(color='purple').encode(\n",
    "        x='date:T',\n",
    "        y='sma7d:Q'\n",
    "    )\n",
    "\n",
    "    layers = alt.layer(\n",
    "        base + sma,\n",
    "\n",
    "        # add a rule mark to serve as a guide line\n",
    "        alt.Chart().mark_rule(color='#aaa').encode(\n",
    "            x='date:T'\n",
    "        ).transform_filter(label),\n",
    "\n",
    "        # add circle marks for selected time points, hide unselected points\n",
    "        base.mark_circle().encode(\n",
    "            opacity=alt.condition(label, alt.value(1), alt.value(0))\n",
    "        ).add_selection(label),\n",
    "\n",
    "        # add white stroked text to provide a legible background for labels\n",
    "        base.mark_text(align='left', dx=5, dy=-5, stroke='white', strokeWidth=2).encode(\n",
    "            text=f'{column}:Q'\n",
    "        ).transform_filter(label),\n",
    "\n",
    "        # add text labels\n",
    "        base.mark_text(align='left', dx=5, dy=-5).encode(\n",
    "            text=f'{column}:Q'\n",
    "        ).transform_filter(label),\n",
    "        \n",
    "        data=df\n",
    "    ).properties(\n",
    "        title=f'{the_state}: {column}',\n",
    "        width=500,\n",
    "        height=400\n",
    "    )\n",
    "    \n",
    "    return layers.interactive()"
   ]
  },
  {
   "cell_type": "markdown",
   "metadata": {
    "papermill": {
     "duration": 0.011822,
     "end_time": "2020-12-03T09:14:43.955953",
     "exception": false,
     "start_time": "2020-12-03T09:14:43.944131",
     "status": "completed"
    },
    "tags": []
   },
   "source": [
    "# Plots"
   ]
  },
  {
   "cell_type": "markdown",
   "metadata": {
    "papermill": {
     "duration": 0.01189,
     "end_time": "2020-12-03T09:14:43.979538",
     "exception": false,
     "start_time": "2020-12-03T09:14:43.967648",
     "status": "completed"
    },
    "tags": []
   },
   "source": [
    "## US"
   ]
  },
  {
   "cell_type": "code",
   "execution_count": 6,
   "metadata": {
    "execution": {
     "iopub.execute_input": "2020-12-03T09:14:44.005443Z",
     "iopub.status.busy": "2020-12-03T09:14:44.004867Z",
     "iopub.status.idle": "2020-12-03T09:14:44.376338Z",
     "shell.execute_reply": "2020-12-03T09:14:44.375835Z"
    },
    "papermill": {
     "duration": 0.385766,
     "end_time": "2020-12-03T09:14:44.376502",
     "exception": false,
     "start_time": "2020-12-03T09:14:43.990736",
     "status": "completed"
    },
    "tags": []
   },
   "outputs": [],
   "source": [
    "us = create_df(df, lambda d: d.index > 0, 'US')"
   ]
  },
  {
   "cell_type": "code",
   "execution_count": 7,
   "metadata": {
    "execution": {
     "iopub.execute_input": "2020-12-03T09:14:44.416032Z",
     "iopub.status.busy": "2020-12-03T09:14:44.405536Z",
     "iopub.status.idle": "2020-12-03T09:14:44.495635Z",
     "shell.execute_reply": "2020-12-03T09:14:44.496244Z"
    },
    "papermill": {
     "duration": 0.108536,
     "end_time": "2020-12-03T09:14:44.496761",
     "exception": false,
     "start_time": "2020-12-03T09:14:44.388225",
     "status": "completed"
    },
    "tags": []
   },
   "outputs": [
    {
     "data": {
      "text/html": [
       "\n",
       "<div id=\"altair-viz-48b290031dd344bbad90e89e0013e29a\"></div>\n",
       "<script type=\"text/javascript\">\n",
       "  (function(spec, embedOpt){\n",
       "    let outputDiv = document.currentScript.previousElementSibling;\n",
       "    if (outputDiv.id !== \"altair-viz-48b290031dd344bbad90e89e0013e29a\") {\n",
       "      outputDiv = document.getElementById(\"altair-viz-48b290031dd344bbad90e89e0013e29a\");\n",
       "    }\n",
       "    const paths = {\n",
       "      \"vega\": \"https://cdn.jsdelivr.net/npm//vega@5?noext\",\n",
       "      \"vega-lib\": \"https://cdn.jsdelivr.net/npm//vega-lib?noext\",\n",
       "      \"vega-lite\": \"https://cdn.jsdelivr.net/npm//vega-lite@4.8.1?noext\",\n",
       "      \"vega-embed\": \"https://cdn.jsdelivr.net/npm//vega-embed@6?noext\",\n",
       "    };\n",
       "\n",
       "    function loadScript(lib) {\n",
       "      return new Promise(function(resolve, reject) {\n",
       "        var s = document.createElement('script');\n",
       "        s.src = paths[lib];\n",
       "        s.async = true;\n",
       "        s.onload = () => resolve(paths[lib]);\n",
       "        s.onerror = () => reject(`Error loading script: ${paths[lib]}`);\n",
       "        document.getElementsByTagName(\"head\")[0].appendChild(s);\n",
       "      });\n",
       "    }\n",
       "\n",
       "    function showError(err) {\n",
       "      outputDiv.innerHTML = `<div class=\"error\" style=\"color:red;\">${err}</div>`;\n",
       "      throw err;\n",
       "    }\n",
       "\n",
       "    function displayChart(vegaEmbed) {\n",
       "      vegaEmbed(outputDiv, spec, embedOpt)\n",
       "        .catch(err => showError(`Javascript Error: ${err.message}<br>This usually means there's a typo in your chart specification. See the javascript console for the full traceback.`));\n",
       "    }\n",
       "\n",
       "    if(typeof define === \"function\" && define.amd) {\n",
       "      requirejs.config({paths});\n",
       "      require([\"vega-embed\"], displayChart, err => showError(`Error loading script: ${err.message}`));\n",
       "    } else if (typeof vegaEmbed === \"function\") {\n",
       "      displayChart(vegaEmbed);\n",
       "    } else {\n",
       "      loadScript(\"vega\")\n",
       "        .then(() => loadScript(\"vega-lite\"))\n",
       "        .then(() => loadScript(\"vega-embed\"))\n",
       "        .catch(showError)\n",
       "        .then(() => displayChart(vegaEmbed));\n",
       "    }\n",
       "  })({\"config\": {\"view\": {\"continuousWidth\": 400, \"continuousHeight\": 300}}, \"layer\": [{\"layer\": [{\"mark\": {\"type\": \"point\", \"size\": 75}, \"encoding\": {\"tooltip\": [{\"type\": \"temporal\", \"field\": \"date\"}, {\"type\": \"quantitative\", \"field\": \"positiveIncrease\"}, {\"type\": \"quantitative\", \"field\": \"sma7d\"}], \"x\": {\"type\": \"temporal\", \"field\": \"date\"}, \"y\": {\"type\": \"quantitative\", \"field\": \"positiveIncrease\"}}, \"selection\": {\"selector002\": {\"type\": \"interval\", \"bind\": \"scales\", \"encodings\": [\"x\", \"y\"]}}}, {\"mark\": {\"type\": \"line\", \"color\": \"purple\"}, \"encoding\": {\"x\": {\"type\": \"temporal\", \"field\": \"date\"}, \"y\": {\"type\": \"quantitative\", \"field\": \"sma7d\"}}}]}, {\"mark\": {\"type\": \"rule\", \"color\": \"#aaa\"}, \"encoding\": {\"x\": {\"type\": \"temporal\", \"field\": \"date\"}}, \"transform\": [{\"filter\": {\"selection\": \"selector001\"}}]}, {\"mark\": \"circle\", \"encoding\": {\"opacity\": {\"condition\": {\"value\": 1, \"selection\": \"selector001\"}, \"value\": 0}, \"tooltip\": [{\"type\": \"temporal\", \"field\": \"date\"}, {\"type\": \"quantitative\", \"field\": \"positiveIncrease\"}, {\"type\": \"quantitative\", \"field\": \"sma7d\"}], \"x\": {\"type\": \"temporal\", \"field\": \"date\"}, \"y\": {\"type\": \"quantitative\", \"field\": \"positiveIncrease\"}}, \"selection\": {\"selector001\": {\"type\": \"single\", \"encodings\": [\"x\"], \"on\": \"mouseover\", \"nearest\": true, \"empty\": \"none\"}}}, {\"mark\": {\"type\": \"text\", \"align\": \"left\", \"dx\": 5, \"dy\": -5, \"stroke\": \"white\", \"strokeWidth\": 2}, \"encoding\": {\"text\": {\"type\": \"quantitative\", \"field\": \"positiveIncrease\"}, \"tooltip\": [{\"type\": \"temporal\", \"field\": \"date\"}, {\"type\": \"quantitative\", \"field\": \"positiveIncrease\"}, {\"type\": \"quantitative\", \"field\": \"sma7d\"}], \"x\": {\"type\": \"temporal\", \"field\": \"date\"}, \"y\": {\"type\": \"quantitative\", \"field\": \"positiveIncrease\"}}, \"transform\": [{\"filter\": {\"selection\": \"selector001\"}}]}, {\"mark\": {\"type\": \"text\", \"align\": \"left\", \"dx\": 5, \"dy\": -5}, \"encoding\": {\"text\": {\"type\": \"quantitative\", \"field\": \"positiveIncrease\"}, \"tooltip\": [{\"type\": \"temporal\", \"field\": \"date\"}, {\"type\": \"quantitative\", \"field\": \"positiveIncrease\"}, {\"type\": \"quantitative\", \"field\": \"sma7d\"}], \"x\": {\"type\": \"temporal\", \"field\": \"date\"}, \"y\": {\"type\": \"quantitative\", \"field\": \"positiveIncrease\"}}, \"transform\": [{\"filter\": {\"selection\": \"selector001\"}}]}], \"data\": {\"name\": \"data-f7363307be8a12d99ce003c976055a0d\"}, \"height\": 400, \"title\": \"US: positiveIncrease\", \"width\": 500, \"$schema\": \"https://vega.github.io/schema/vega-lite/v4.8.1.json\", \"datasets\": {\"data-f7363307be8a12d99ce003c976055a0d\": [{\"date\": \"2020-10-09T00:00:00\", \"totalTestResultsIncrease\": 1203110.0, \"positiveIncrease\": 56804.0, \"death\": 205565.0, \"deathIncrease\": 898.0, \"positiveRate\": 0.047, \"state\": \"US\", \"sma7d\": 46885.286}, {\"date\": \"2020-10-10T00:00:00\", \"totalTestResultsIncrease\": 1251924.0, \"positiveIncrease\": 57414.0, \"death\": 206246.0, \"deathIncrease\": 681.0, \"positiveRate\": 0.046, \"state\": \"US\", \"sma7d\": 47811.429}, {\"date\": \"2020-10-11T00:00:00\", \"totalTestResultsIncrease\": 1078116.0, \"positiveIncrease\": 46267.0, \"death\": 206714.0, \"deathIncrease\": 468.0, \"positiveRate\": 0.043, \"state\": \"US\", \"sma7d\": 48990.429}, {\"date\": \"2020-10-12T00:00:00\", \"totalTestResultsIncrease\": 1059571.0, \"positiveIncrease\": 42646.0, \"death\": 206996.0, \"deathIncrease\": 282.0, \"positiveRate\": 0.04, \"state\": \"US\", \"sma7d\": 49693.0}, {\"date\": \"2020-10-13T00:00:00\", \"totalTestResultsIncrease\": 1051833.0, \"positiveIncrease\": 48586.0, \"death\": 207694.0, \"deathIncrease\": 698.0, \"positiveRate\": 0.046, \"state\": \"US\", \"sma7d\": 51073.857}, {\"date\": \"2020-10-14T00:00:00\", \"totalTestResultsIncrease\": 1044858.0, \"positiveIncrease\": 56130.0, \"death\": 208501.0, \"deathIncrease\": 807.0, \"positiveRate\": 0.054, \"state\": \"US\", \"sma7d\": 51864.571}, {\"date\": \"2020-10-15T00:00:00\", \"totalTestResultsIncrease\": 1109379.0, \"positiveIncrease\": 63391.0, \"death\": 209431.0, \"deathIncrease\": 930.0, \"positiveRate\": 0.057, \"state\": \"US\", \"sma7d\": 53034.0}, {\"date\": \"2020-10-16T00:00:00\", \"totalTestResultsIncrease\": 1230928.0, \"positiveIncrease\": 68245.0, \"death\": 210328.0, \"deathIncrease\": 897.0, \"positiveRate\": 0.055, \"state\": \"US\", \"sma7d\": 54668.429}, {\"date\": \"2020-10-17T00:00:00\", \"totalTestResultsIncrease\": 1298729.0, \"positiveIncrease\": 57330.0, \"death\": 211101.0, \"deathIncrease\": 773.0, \"positiveRate\": 0.044, \"state\": \"US\", \"sma7d\": 54656.429}, {\"date\": \"2020-10-18T00:00:00\", \"totalTestResultsIncrease\": 1051673.0, \"positiveIncrease\": 48281.0, \"death\": 211503.0, \"deathIncrease\": 402.0, \"positiveRate\": 0.046, \"state\": \"US\", \"sma7d\": 54944.143}, {\"date\": \"2020-10-19T00:00:00\", \"totalTestResultsIncrease\": 1134720.0, \"positiveIncrease\": 57113.0, \"death\": 211959.0, \"deathIncrease\": 456.0, \"positiveRate\": 0.05, \"state\": \"US\", \"sma7d\": 57010.857}, {\"date\": \"2020-10-20T00:00:00\", \"totalTestResultsIncrease\": 952747.0, \"positiveIncrease\": 60557.0, \"death\": 212796.0, \"deathIncrease\": 837.0, \"positiveRate\": 0.064, \"state\": \"US\", \"sma7d\": 58721.0}, {\"date\": \"2020-10-21T00:00:00\", \"totalTestResultsIncrease\": 941787.0, \"positiveIncrease\": 60954.0, \"death\": 213815.0, \"deathIncrease\": 1019.0, \"positiveRate\": 0.065, \"state\": \"US\", \"sma7d\": 59410.143}, {\"date\": \"2020-10-22T00:00:00\", \"totalTestResultsIncrease\": 1229733.0, \"positiveIncrease\": 72856.0, \"death\": 214941.0, \"deathIncrease\": 1126.0, \"positiveRate\": 0.059, \"state\": \"US\", \"sma7d\": 60762.286}, {\"date\": \"2020-10-23T00:00:00\", \"totalTestResultsIncrease\": 1383173.0, \"positiveIncrease\": 82331.0, \"death\": 215875.0, \"deathIncrease\": 934.0, \"positiveRate\": 0.06, \"state\": \"US\", \"sma7d\": 62774.571}, {\"date\": \"2020-10-24T00:00:00\", \"totalTestResultsIncrease\": 1323376.0, \"positiveIncrease\": 83289.0, \"death\": 216765.0, \"deathIncrease\": 890.0, \"positiveRate\": 0.063, \"state\": \"US\", \"sma7d\": 66483.0}, {\"date\": \"2020-10-25T00:00:00\", \"totalTestResultsIncrease\": 1188211.0, \"positiveIncrease\": 64872.0, \"death\": 217147.0, \"deathIncrease\": 382.0, \"positiveRate\": 0.055, \"state\": \"US\", \"sma7d\": 68853.143}, {\"date\": \"2020-10-26T00:00:00\", \"totalTestResultsIncrease\": 1211065.0, \"positiveIncrease\": 62547.0, \"death\": 217549.0, \"deathIncrease\": 402.0, \"positiveRate\": 0.052, \"state\": \"US\", \"sma7d\": 69629.429}, {\"date\": \"2020-10-27T00:00:00\", \"totalTestResultsIncrease\": 1071163.0, \"positiveIncrease\": 72063.0, \"death\": 218468.0, \"deathIncrease\": 919.0, \"positiveRate\": 0.067, \"state\": \"US\", \"sma7d\": 71273.143}, {\"date\": \"2020-10-28T00:00:00\", \"totalTestResultsIncrease\": 1096151.0, \"positiveIncrease\": 78757.0, \"death\": 219512.0, \"deathIncrease\": 1044.0, \"positiveRate\": 0.072, \"state\": \"US\", \"sma7d\": 73816.429}, {\"date\": \"2020-10-29T00:00:00\", \"totalTestResultsIncrease\": 1332791.0, \"positiveIncrease\": 88726.0, \"death\": 220549.0, \"deathIncrease\": 1037.0, \"positiveRate\": 0.067, \"state\": \"US\", \"sma7d\": 76083.571}, {\"date\": \"2020-10-30T00:00:00\", \"totalTestResultsIncrease\": 1363624.0, \"positiveIncrease\": 97241.0, \"death\": 221496.0, \"deathIncrease\": 947.0, \"positiveRate\": 0.071, \"state\": \"US\", \"sma7d\": 78213.571}, {\"date\": \"2020-10-31T00:00:00\", \"totalTestResultsIncrease\": 1390130.0, \"positiveIncrease\": 90580.0, \"death\": 222459.0, \"deathIncrease\": 963.0, \"positiveRate\": 0.065, \"state\": \"US\", \"sma7d\": 79255.143}, {\"date\": \"2020-11-01T00:00:00\", \"totalTestResultsIncrease\": 1127867.0, \"positiveIncrease\": 73855.0, \"death\": 222854.0, \"deathIncrease\": 395.0, \"positiveRate\": 0.065, \"state\": \"US\", \"sma7d\": 80538.429}, {\"date\": \"2020-11-02T00:00:00\", \"totalTestResultsIncrease\": 1326677.0, \"positiveIncrease\": 82046.0, \"death\": 223345.0, \"deathIncrease\": 491.0, \"positiveRate\": 0.062, \"state\": \"US\", \"sma7d\": 83324.0}, {\"date\": \"2020-11-03T00:00:00\", \"totalTestResultsIncrease\": 1128739.0, \"positiveIncrease\": 86675.0, \"death\": 224859.0, \"deathIncrease\": 1514.0, \"positiveRate\": 0.077, \"state\": \"US\", \"sma7d\": 85411.429}, {\"date\": \"2020-11-04T00:00:00\", \"totalTestResultsIncrease\": 1222728.0, \"positiveIncrease\": 103312.0, \"death\": 225976.0, \"deathIncrease\": 1117.0, \"positiveRate\": 0.084, \"state\": \"US\", \"sma7d\": 88919.286}, {\"date\": \"2020-11-05T00:00:00\", \"totalTestResultsIncrease\": 1567027.0, \"positiveIncrease\": 116433.0, \"death\": 227122.0, \"deathIncrease\": 1146.0, \"positiveRate\": 0.074, \"state\": \"US\", \"sma7d\": 92877.429}, {\"date\": \"2020-11-06T00:00:00\", \"totalTestResultsIncrease\": 1563936.0, \"positiveIncrease\": 125758.0, \"death\": 228295.0, \"deathIncrease\": 1173.0, \"positiveRate\": 0.08, \"state\": \"US\", \"sma7d\": 96951.286}, {\"date\": \"2020-11-07T00:00:00\", \"totalTestResultsIncrease\": 1413065.0, \"positiveIncrease\": 129248.0, \"death\": 229414.0, \"deathIncrease\": 1119.0, \"positiveRate\": 0.091, \"state\": \"US\", \"sma7d\": 102475.286}, {\"date\": \"2020-11-08T00:00:00\", \"totalTestResultsIncrease\": 1252250.0, \"positiveIncrease\": 110261.0, \"death\": 229910.0, \"deathIncrease\": 496.0, \"positiveRate\": 0.088, \"state\": \"US\", \"sma7d\": 107676.143}, {\"date\": \"2020-11-09T00:00:00\", \"totalTestResultsIncrease\": 1516486.0, \"positiveIncrease\": 119461.0, \"death\": 230487.0, \"deathIncrease\": 577.0, \"positiveRate\": 0.079, \"state\": \"US\", \"sma7d\": 113021.143}, {\"date\": \"2020-11-10T00:00:00\", \"totalTestResultsIncrease\": 1251917.0, \"positiveIncrease\": 131224.0, \"death\": 231847.0, \"deathIncrease\": 1360.0, \"positiveRate\": 0.105, \"state\": \"US\", \"sma7d\": 119385.286}, {\"date\": \"2020-11-11T00:00:00\", \"totalTestResultsIncrease\": 1417539.0, \"positiveIncrease\": 144853.0, \"death\": 233410.0, \"deathIncrease\": 1563.0, \"positiveRate\": 0.102, \"state\": \"US\", \"sma7d\": 125319.714}, {\"date\": \"2020-11-12T00:00:00\", \"totalTestResultsIncrease\": 1475910.0, \"positiveIncrease\": 151989.0, \"death\": 234529.0, \"deathIncrease\": 1119.0, \"positiveRate\": 0.103, \"state\": \"US\", \"sma7d\": 130399.143}, {\"date\": \"2020-11-13T00:00:00\", \"totalTestResultsIncrease\": 1697946.0, \"positiveIncrease\": 172112.0, \"death\": 235797.0, \"deathIncrease\": 1268.0, \"positiveRate\": 0.101, \"state\": \"US\", \"sma7d\": 137021.143}, {\"date\": \"2020-11-14T00:00:00\", \"totalTestResultsIncrease\": 1661870.0, \"positiveIncrease\": 163484.0, \"death\": 237128.0, \"deathIncrease\": 1331.0, \"positiveRate\": 0.098, \"state\": \"US\", \"sma7d\": 141912.0}, {\"date\": \"2020-11-15T00:00:00\", \"totalTestResultsIncrease\": 1615398.0, \"positiveIncrease\": 144512.0, \"death\": 237815.0, \"deathIncrease\": 687.0, \"positiveRate\": 0.089, \"state\": \"US\", \"sma7d\": 146805.0}, {\"date\": \"2020-11-16T00:00:00\", \"totalTestResultsIncrease\": 1486671.0, \"positiveIncrease\": 148855.0, \"death\": 238434.0, \"deathIncrease\": 619.0, \"positiveRate\": 0.1, \"state\": \"US\", \"sma7d\": 151004.143}, {\"date\": \"2020-11-17T00:00:00\", \"totalTestResultsIncrease\": 1511767.0, \"positiveIncrease\": 156680.0, \"death\": 239989.0, \"deathIncrease\": 1555.0, \"positiveRate\": 0.104, \"state\": \"US\", \"sma7d\": 154640.714}, {\"date\": \"2020-11-18T00:00:00\", \"totalTestResultsIncrease\": 1539051.0, \"positiveIncrease\": 164070.0, \"death\": 241853.0, \"deathIncrease\": 1864.0, \"positiveRate\": 0.107, \"state\": \"US\", \"sma7d\": 157386.0}, {\"date\": \"2020-11-19T00:00:00\", \"totalTestResultsIncrease\": 1821019.0, \"positiveIncrease\": 182827.0, \"death\": 243820.0, \"deathIncrease\": 1967.0, \"positiveRate\": 0.1, \"state\": \"US\", \"sma7d\": 161791.429}, {\"date\": \"2020-11-20T00:00:00\", \"totalTestResultsIncrease\": 1919404.0, \"positiveIncrease\": 192744.0, \"death\": 245704.0, \"deathIncrease\": 1884.0, \"positiveRate\": 0.1, \"state\": \"US\", \"sma7d\": 164738.857}, {\"date\": \"2020-11-21T00:00:00\", \"totalTestResultsIncrease\": 2004237.0, \"positiveIncrease\": 179715.0, \"death\": 247216.0, \"deathIncrease\": 1512.0, \"positiveRate\": 0.09, \"state\": \"US\", \"sma7d\": 167057.571}, {\"date\": \"2020-11-22T00:00:00\", \"totalTestResultsIncrease\": 1744488.0, \"positiveIncrease\": 150821.0, \"death\": 248114.0, \"deathIncrease\": 898.0, \"positiveRate\": 0.086, \"state\": \"US\", \"sma7d\": 167958.857}, {\"date\": \"2020-11-23T00:00:00\", \"totalTestResultsIncrease\": 1758560.0, \"positiveIncrease\": 150940.0, \"death\": 249069.0, \"deathIncrease\": 955.0, \"positiveRate\": 0.086, \"state\": \"US\", \"sma7d\": 168256.714}, {\"date\": \"2020-11-24T00:00:00\", \"totalTestResultsIncrease\": 1790272.0, \"positiveIncrease\": 167057.0, \"death\": 251135.0, \"deathIncrease\": 2066.0, \"positiveRate\": 0.093, \"state\": \"US\", \"sma7d\": 169739.143}, {\"date\": \"2020-11-25T00:00:00\", \"totalTestResultsIncrease\": 1720705.0, \"positiveIncrease\": 183615.0, \"death\": 253424.0, \"deathIncrease\": 2289.0, \"positiveRate\": 0.107, \"state\": \"US\", \"sma7d\": 172531.286}, {\"date\": \"2020-11-26T00:00:00\", \"totalTestResultsIncrease\": 1170195.0, \"positiveIncrease\": 126353.0, \"death\": 254760.0, \"deathIncrease\": 1336.0, \"positiveRate\": 0.108, \"state\": \"US\", \"sma7d\": 164463.571}, {\"date\": \"2020-11-27T00:00:00\", \"totalTestResultsIncrease\": 2126288.0, \"positiveIncrease\": 193667.0, \"death\": 256132.0, \"deathIncrease\": 1372.0, \"positiveRate\": 0.091, \"state\": \"US\", \"sma7d\": 164595.429}, {\"date\": \"2020-11-28T00:00:00\", \"totalTestResultsIncrease\": 1709566.0, \"positiveIncrease\": 154551.0, \"death\": 257377.0, \"deathIncrease\": 1245.0, \"positiveRate\": 0.09, \"state\": \"US\", \"sma7d\": 161000.571}, {\"date\": \"2020-11-29T00:00:00\", \"totalTestResultsIncrease\": 1289970.0, \"positiveIncrease\": 135242.0, \"death\": 258180.0, \"deathIncrease\": 803.0, \"positiveRate\": 0.105, \"state\": \"US\", \"sma7d\": 158775.0}, {\"date\": \"2020-11-30T00:00:00\", \"totalTestResultsIncrease\": 1603253.0, \"positiveIncrease\": 147583.0, \"death\": 259316.0, \"deathIncrease\": 1136.0, \"positiveRate\": 0.092, \"state\": \"US\", \"sma7d\": 158295.429}, {\"date\": \"2020-12-01T00:00:00\", \"totalTestResultsIncrease\": 1380748.0, \"positiveIncrease\": 176785.0, \"death\": 261789.0, \"deathIncrease\": 2473.0, \"positiveRate\": 0.128, \"state\": \"US\", \"sma7d\": 159685.143}, {\"date\": \"2020-12-02T00:00:00\", \"totalTestResultsIncrease\": 1438768.0, \"positiveIncrease\": 194998.0, \"death\": 264400.0, \"deathIncrease\": 2733.0, \"positiveRate\": 0.136, \"state\": \"US\", \"sma7d\": 161311.286}]}}, {\"mode\": \"vega-lite\"});\n",
       "</script>"
      ],
      "text/plain": [
       "alt.LayerChart(...)"
      ]
     },
     "execution_count": 7,
     "metadata": {},
     "output_type": "execute_result"
    }
   ],
   "source": [
    "create_plot(us, 'positiveIncrease')"
   ]
  },
  {
   "cell_type": "code",
   "execution_count": 8,
   "metadata": {
    "execution": {
     "iopub.execute_input": "2020-12-03T09:14:44.526670Z",
     "iopub.status.busy": "2020-12-03T09:14:44.526153Z",
     "iopub.status.idle": "2020-12-03T09:14:44.612611Z",
     "shell.execute_reply": "2020-12-03T09:14:44.613214Z"
    },
    "papermill": {
     "duration": 0.103259,
     "end_time": "2020-12-03T09:14:44.613410",
     "exception": false,
     "start_time": "2020-12-03T09:14:44.510151",
     "status": "completed"
    },
    "tags": []
   },
   "outputs": [
    {
     "data": {
      "text/html": [
       "\n",
       "<div id=\"altair-viz-feed0f268990494da12db6faa9a84f2d\"></div>\n",
       "<script type=\"text/javascript\">\n",
       "  (function(spec, embedOpt){\n",
       "    let outputDiv = document.currentScript.previousElementSibling;\n",
       "    if (outputDiv.id !== \"altair-viz-feed0f268990494da12db6faa9a84f2d\") {\n",
       "      outputDiv = document.getElementById(\"altair-viz-feed0f268990494da12db6faa9a84f2d\");\n",
       "    }\n",
       "    const paths = {\n",
       "      \"vega\": \"https://cdn.jsdelivr.net/npm//vega@5?noext\",\n",
       "      \"vega-lib\": \"https://cdn.jsdelivr.net/npm//vega-lib?noext\",\n",
       "      \"vega-lite\": \"https://cdn.jsdelivr.net/npm//vega-lite@4.8.1?noext\",\n",
       "      \"vega-embed\": \"https://cdn.jsdelivr.net/npm//vega-embed@6?noext\",\n",
       "    };\n",
       "\n",
       "    function loadScript(lib) {\n",
       "      return new Promise(function(resolve, reject) {\n",
       "        var s = document.createElement('script');\n",
       "        s.src = paths[lib];\n",
       "        s.async = true;\n",
       "        s.onload = () => resolve(paths[lib]);\n",
       "        s.onerror = () => reject(`Error loading script: ${paths[lib]}`);\n",
       "        document.getElementsByTagName(\"head\")[0].appendChild(s);\n",
       "      });\n",
       "    }\n",
       "\n",
       "    function showError(err) {\n",
       "      outputDiv.innerHTML = `<div class=\"error\" style=\"color:red;\">${err}</div>`;\n",
       "      throw err;\n",
       "    }\n",
       "\n",
       "    function displayChart(vegaEmbed) {\n",
       "      vegaEmbed(outputDiv, spec, embedOpt)\n",
       "        .catch(err => showError(`Javascript Error: ${err.message}<br>This usually means there's a typo in your chart specification. See the javascript console for the full traceback.`));\n",
       "    }\n",
       "\n",
       "    if(typeof define === \"function\" && define.amd) {\n",
       "      requirejs.config({paths});\n",
       "      require([\"vega-embed\"], displayChart, err => showError(`Error loading script: ${err.message}`));\n",
       "    } else if (typeof vegaEmbed === \"function\") {\n",
       "      displayChart(vegaEmbed);\n",
       "    } else {\n",
       "      loadScript(\"vega\")\n",
       "        .then(() => loadScript(\"vega-lite\"))\n",
       "        .then(() => loadScript(\"vega-embed\"))\n",
       "        .catch(showError)\n",
       "        .then(() => displayChart(vegaEmbed));\n",
       "    }\n",
       "  })({\"config\": {\"view\": {\"continuousWidth\": 400, \"continuousHeight\": 300}}, \"layer\": [{\"layer\": [{\"mark\": {\"type\": \"point\", \"size\": 75}, \"encoding\": {\"tooltip\": [{\"type\": \"temporal\", \"field\": \"date\"}, {\"type\": \"quantitative\", \"field\": \"positiveRate\"}, {\"type\": \"quantitative\", \"field\": \"sma7d\"}], \"x\": {\"type\": \"temporal\", \"field\": \"date\"}, \"y\": {\"type\": \"quantitative\", \"field\": \"positiveRate\"}}, \"selection\": {\"selector004\": {\"type\": \"interval\", \"bind\": \"scales\", \"encodings\": [\"x\", \"y\"]}}}, {\"mark\": {\"type\": \"line\", \"color\": \"purple\"}, \"encoding\": {\"x\": {\"type\": \"temporal\", \"field\": \"date\"}, \"y\": {\"type\": \"quantitative\", \"field\": \"sma7d\"}}}]}, {\"mark\": {\"type\": \"rule\", \"color\": \"#aaa\"}, \"encoding\": {\"x\": {\"type\": \"temporal\", \"field\": \"date\"}}, \"transform\": [{\"filter\": {\"selection\": \"selector003\"}}]}, {\"mark\": \"circle\", \"encoding\": {\"opacity\": {\"condition\": {\"value\": 1, \"selection\": \"selector003\"}, \"value\": 0}, \"tooltip\": [{\"type\": \"temporal\", \"field\": \"date\"}, {\"type\": \"quantitative\", \"field\": \"positiveRate\"}, {\"type\": \"quantitative\", \"field\": \"sma7d\"}], \"x\": {\"type\": \"temporal\", \"field\": \"date\"}, \"y\": {\"type\": \"quantitative\", \"field\": \"positiveRate\"}}, \"selection\": {\"selector003\": {\"type\": \"single\", \"encodings\": [\"x\"], \"on\": \"mouseover\", \"nearest\": true, \"empty\": \"none\"}}}, {\"mark\": {\"type\": \"text\", \"align\": \"left\", \"dx\": 5, \"dy\": -5, \"stroke\": \"white\", \"strokeWidth\": 2}, \"encoding\": {\"text\": {\"type\": \"quantitative\", \"field\": \"positiveRate\"}, \"tooltip\": [{\"type\": \"temporal\", \"field\": \"date\"}, {\"type\": \"quantitative\", \"field\": \"positiveRate\"}, {\"type\": \"quantitative\", \"field\": \"sma7d\"}], \"x\": {\"type\": \"temporal\", \"field\": \"date\"}, \"y\": {\"type\": \"quantitative\", \"field\": \"positiveRate\"}}, \"transform\": [{\"filter\": {\"selection\": \"selector003\"}}]}, {\"mark\": {\"type\": \"text\", \"align\": \"left\", \"dx\": 5, \"dy\": -5}, \"encoding\": {\"text\": {\"type\": \"quantitative\", \"field\": \"positiveRate\"}, \"tooltip\": [{\"type\": \"temporal\", \"field\": \"date\"}, {\"type\": \"quantitative\", \"field\": \"positiveRate\"}, {\"type\": \"quantitative\", \"field\": \"sma7d\"}], \"x\": {\"type\": \"temporal\", \"field\": \"date\"}, \"y\": {\"type\": \"quantitative\", \"field\": \"positiveRate\"}}, \"transform\": [{\"filter\": {\"selection\": \"selector003\"}}]}], \"data\": {\"name\": \"data-26dbe91eb8b77337d64956aaa82e12dc\"}, \"height\": 400, \"title\": \"US: positiveRate\", \"width\": 500, \"$schema\": \"https://vega.github.io/schema/vega-lite/v4.8.1.json\", \"datasets\": {\"data-26dbe91eb8b77337d64956aaa82e12dc\": [{\"date\": \"2020-10-09T00:00:00\", \"totalTestResultsIncrease\": 1203110.0, \"positiveIncrease\": 56804.0, \"death\": 205565.0, \"deathIncrease\": 898.0, \"positiveRate\": 0.047, \"state\": \"US\", \"sma7d\": 0.044}, {\"date\": \"2020-10-10T00:00:00\", \"totalTestResultsIncrease\": 1251924.0, \"positiveIncrease\": 57414.0, \"death\": 206246.0, \"deathIncrease\": 681.0, \"positiveRate\": 0.046, \"state\": \"US\", \"sma7d\": 0.044}, {\"date\": \"2020-10-11T00:00:00\", \"totalTestResultsIncrease\": 1078116.0, \"positiveIncrease\": 46267.0, \"death\": 206714.0, \"deathIncrease\": 468.0, \"positiveRate\": 0.043, \"state\": \"US\", \"sma7d\": 0.045}, {\"date\": \"2020-10-12T00:00:00\", \"totalTestResultsIncrease\": 1059571.0, \"positiveIncrease\": 42646.0, \"death\": 206996.0, \"deathIncrease\": 282.0, \"positiveRate\": 0.04, \"state\": \"US\", \"sma7d\": 0.046}, {\"date\": \"2020-10-13T00:00:00\", \"totalTestResultsIncrease\": 1051833.0, \"positiveIncrease\": 48586.0, \"death\": 207694.0, \"deathIncrease\": 698.0, \"positiveRate\": 0.046, \"state\": \"US\", \"sma7d\": 0.046}, {\"date\": \"2020-10-14T00:00:00\", \"totalTestResultsIncrease\": 1044858.0, \"positiveIncrease\": 56130.0, \"death\": 208501.0, \"deathIncrease\": 807.0, \"positiveRate\": 0.054, \"state\": \"US\", \"sma7d\": 0.046}, {\"date\": \"2020-10-15T00:00:00\", \"totalTestResultsIncrease\": 1109379.0, \"positiveIncrease\": 63391.0, \"death\": 209431.0, \"deathIncrease\": 930.0, \"positiveRate\": 0.057, \"state\": \"US\", \"sma7d\": 0.048}, {\"date\": \"2020-10-16T00:00:00\", \"totalTestResultsIncrease\": 1230928.0, \"positiveIncrease\": 68245.0, \"death\": 210328.0, \"deathIncrease\": 897.0, \"positiveRate\": 0.055, \"state\": \"US\", \"sma7d\": 0.049}, {\"date\": \"2020-10-17T00:00:00\", \"totalTestResultsIncrease\": 1298729.0, \"positiveIncrease\": 57330.0, \"death\": 211101.0, \"deathIncrease\": 773.0, \"positiveRate\": 0.044, \"state\": \"US\", \"sma7d\": 0.048}, {\"date\": \"2020-10-18T00:00:00\", \"totalTestResultsIncrease\": 1051673.0, \"positiveIncrease\": 48281.0, \"death\": 211503.0, \"deathIncrease\": 402.0, \"positiveRate\": 0.046, \"state\": \"US\", \"sma7d\": 0.049}, {\"date\": \"2020-10-19T00:00:00\", \"totalTestResultsIncrease\": 1134720.0, \"positiveIncrease\": 57113.0, \"death\": 211959.0, \"deathIncrease\": 456.0, \"positiveRate\": 0.05, \"state\": \"US\", \"sma7d\": 0.05}, {\"date\": \"2020-10-20T00:00:00\", \"totalTestResultsIncrease\": 952747.0, \"positiveIncrease\": 60557.0, \"death\": 212796.0, \"deathIncrease\": 837.0, \"positiveRate\": 0.064, \"state\": \"US\", \"sma7d\": 0.053}, {\"date\": \"2020-10-21T00:00:00\", \"totalTestResultsIncrease\": 941787.0, \"positiveIncrease\": 60954.0, \"death\": 213815.0, \"deathIncrease\": 1019.0, \"positiveRate\": 0.065, \"state\": \"US\", \"sma7d\": 0.054}, {\"date\": \"2020-10-22T00:00:00\", \"totalTestResultsIncrease\": 1229733.0, \"positiveIncrease\": 72856.0, \"death\": 214941.0, \"deathIncrease\": 1126.0, \"positiveRate\": 0.059, \"state\": \"US\", \"sma7d\": 0.055}, {\"date\": \"2020-10-23T00:00:00\", \"totalTestResultsIncrease\": 1383173.0, \"positiveIncrease\": 82331.0, \"death\": 215875.0, \"deathIncrease\": 934.0, \"positiveRate\": 0.06, \"state\": \"US\", \"sma7d\": 0.055}, {\"date\": \"2020-10-24T00:00:00\", \"totalTestResultsIncrease\": 1323376.0, \"positiveIncrease\": 83289.0, \"death\": 216765.0, \"deathIncrease\": 890.0, \"positiveRate\": 0.063, \"state\": \"US\", \"sma7d\": 0.058}, {\"date\": \"2020-10-25T00:00:00\", \"totalTestResultsIncrease\": 1188211.0, \"positiveIncrease\": 64872.0, \"death\": 217147.0, \"deathIncrease\": 382.0, \"positiveRate\": 0.055, \"state\": \"US\", \"sma7d\": 0.059}, {\"date\": \"2020-10-26T00:00:00\", \"totalTestResultsIncrease\": 1211065.0, \"positiveIncrease\": 62547.0, \"death\": 217549.0, \"deathIncrease\": 402.0, \"positiveRate\": 0.052, \"state\": \"US\", \"sma7d\": 0.06}, {\"date\": \"2020-10-27T00:00:00\", \"totalTestResultsIncrease\": 1071163.0, \"positiveIncrease\": 72063.0, \"death\": 218468.0, \"deathIncrease\": 919.0, \"positiveRate\": 0.067, \"state\": \"US\", \"sma7d\": 0.06}, {\"date\": \"2020-10-28T00:00:00\", \"totalTestResultsIncrease\": 1096151.0, \"positiveIncrease\": 78757.0, \"death\": 219512.0, \"deathIncrease\": 1044.0, \"positiveRate\": 0.072, \"state\": \"US\", \"sma7d\": 0.061}, {\"date\": \"2020-10-29T00:00:00\", \"totalTestResultsIncrease\": 1332791.0, \"positiveIncrease\": 88726.0, \"death\": 220549.0, \"deathIncrease\": 1037.0, \"positiveRate\": 0.067, \"state\": \"US\", \"sma7d\": 0.062}, {\"date\": \"2020-10-30T00:00:00\", \"totalTestResultsIncrease\": 1363624.0, \"positiveIncrease\": 97241.0, \"death\": 221496.0, \"deathIncrease\": 947.0, \"positiveRate\": 0.071, \"state\": \"US\", \"sma7d\": 0.064}, {\"date\": \"2020-10-31T00:00:00\", \"totalTestResultsIncrease\": 1390130.0, \"positiveIncrease\": 90580.0, \"death\": 222459.0, \"deathIncrease\": 963.0, \"positiveRate\": 0.065, \"state\": \"US\", \"sma7d\": 0.064}, {\"date\": \"2020-11-01T00:00:00\", \"totalTestResultsIncrease\": 1127867.0, \"positiveIncrease\": 73855.0, \"death\": 222854.0, \"deathIncrease\": 395.0, \"positiveRate\": 0.065, \"state\": \"US\", \"sma7d\": 0.066}, {\"date\": \"2020-11-02T00:00:00\", \"totalTestResultsIncrease\": 1326677.0, \"positiveIncrease\": 82046.0, \"death\": 223345.0, \"deathIncrease\": 491.0, \"positiveRate\": 0.062, \"state\": \"US\", \"sma7d\": 0.067}, {\"date\": \"2020-11-03T00:00:00\", \"totalTestResultsIncrease\": 1128739.0, \"positiveIncrease\": 86675.0, \"death\": 224859.0, \"deathIncrease\": 1514.0, \"positiveRate\": 0.077, \"state\": \"US\", \"sma7d\": 0.068}, {\"date\": \"2020-11-04T00:00:00\", \"totalTestResultsIncrease\": 1222728.0, \"positiveIncrease\": 103312.0, \"death\": 225976.0, \"deathIncrease\": 1117.0, \"positiveRate\": 0.084, \"state\": \"US\", \"sma7d\": 0.07}, {\"date\": \"2020-11-05T00:00:00\", \"totalTestResultsIncrease\": 1567027.0, \"positiveIncrease\": 116433.0, \"death\": 227122.0, \"deathIncrease\": 1146.0, \"positiveRate\": 0.074, \"state\": \"US\", \"sma7d\": 0.071}, {\"date\": \"2020-11-06T00:00:00\", \"totalTestResultsIncrease\": 1563936.0, \"positiveIncrease\": 125758.0, \"death\": 228295.0, \"deathIncrease\": 1173.0, \"positiveRate\": 0.08, \"state\": \"US\", \"sma7d\": 0.072}, {\"date\": \"2020-11-07T00:00:00\", \"totalTestResultsIncrease\": 1413065.0, \"positiveIncrease\": 129248.0, \"death\": 229414.0, \"deathIncrease\": 1119.0, \"positiveRate\": 0.091, \"state\": \"US\", \"sma7d\": 0.076}, {\"date\": \"2020-11-08T00:00:00\", \"totalTestResultsIncrease\": 1252250.0, \"positiveIncrease\": 110261.0, \"death\": 229910.0, \"deathIncrease\": 496.0, \"positiveRate\": 0.088, \"state\": \"US\", \"sma7d\": 0.079}, {\"date\": \"2020-11-09T00:00:00\", \"totalTestResultsIncrease\": 1516486.0, \"positiveIncrease\": 119461.0, \"death\": 230487.0, \"deathIncrease\": 577.0, \"positiveRate\": 0.079, \"state\": \"US\", \"sma7d\": 0.082}, {\"date\": \"2020-11-10T00:00:00\", \"totalTestResultsIncrease\": 1251917.0, \"positiveIncrease\": 131224.0, \"death\": 231847.0, \"deathIncrease\": 1360.0, \"positiveRate\": 0.105, \"state\": \"US\", \"sma7d\": 0.086}, {\"date\": \"2020-11-11T00:00:00\", \"totalTestResultsIncrease\": 1417539.0, \"positiveIncrease\": 144853.0, \"death\": 233410.0, \"deathIncrease\": 1563.0, \"positiveRate\": 0.102, \"state\": \"US\", \"sma7d\": 0.088}, {\"date\": \"2020-11-12T00:00:00\", \"totalTestResultsIncrease\": 1475910.0, \"positiveIncrease\": 151989.0, \"death\": 234529.0, \"deathIncrease\": 1119.0, \"positiveRate\": 0.103, \"state\": \"US\", \"sma7d\": 0.093}, {\"date\": \"2020-11-13T00:00:00\", \"totalTestResultsIncrease\": 1697946.0, \"positiveIncrease\": 172112.0, \"death\": 235797.0, \"deathIncrease\": 1268.0, \"positiveRate\": 0.101, \"state\": \"US\", \"sma7d\": 0.096}, {\"date\": \"2020-11-14T00:00:00\", \"totalTestResultsIncrease\": 1661870.0, \"positiveIncrease\": 163484.0, \"death\": 237128.0, \"deathIncrease\": 1331.0, \"positiveRate\": 0.098, \"state\": \"US\", \"sma7d\": 0.097}, {\"date\": \"2020-11-15T00:00:00\", \"totalTestResultsIncrease\": 1615398.0, \"positiveIncrease\": 144512.0, \"death\": 237815.0, \"deathIncrease\": 687.0, \"positiveRate\": 0.089, \"state\": \"US\", \"sma7d\": 0.097}, {\"date\": \"2020-11-16T00:00:00\", \"totalTestResultsIncrease\": 1486671.0, \"positiveIncrease\": 148855.0, \"death\": 238434.0, \"deathIncrease\": 619.0, \"positiveRate\": 0.1, \"state\": \"US\", \"sma7d\": 0.1}, {\"date\": \"2020-11-17T00:00:00\", \"totalTestResultsIncrease\": 1511767.0, \"positiveIncrease\": 156680.0, \"death\": 239989.0, \"deathIncrease\": 1555.0, \"positiveRate\": 0.104, \"state\": \"US\", \"sma7d\": 0.1}, {\"date\": \"2020-11-18T00:00:00\", \"totalTestResultsIncrease\": 1539051.0, \"positiveIncrease\": 164070.0, \"death\": 241853.0, \"deathIncrease\": 1864.0, \"positiveRate\": 0.107, \"state\": \"US\", \"sma7d\": 0.1}, {\"date\": \"2020-11-19T00:00:00\", \"totalTestResultsIncrease\": 1821019.0, \"positiveIncrease\": 182827.0, \"death\": 243820.0, \"deathIncrease\": 1967.0, \"positiveRate\": 0.1, \"state\": \"US\", \"sma7d\": 0.1}, {\"date\": \"2020-11-20T00:00:00\", \"totalTestResultsIncrease\": 1919404.0, \"positiveIncrease\": 192744.0, \"death\": 245704.0, \"deathIncrease\": 1884.0, \"positiveRate\": 0.1, \"state\": \"US\", \"sma7d\": 0.1}, {\"date\": \"2020-11-21T00:00:00\", \"totalTestResultsIncrease\": 2004237.0, \"positiveIncrease\": 179715.0, \"death\": 247216.0, \"deathIncrease\": 1512.0, \"positiveRate\": 0.09, \"state\": \"US\", \"sma7d\": 0.099}, {\"date\": \"2020-11-22T00:00:00\", \"totalTestResultsIncrease\": 1744488.0, \"positiveIncrease\": 150821.0, \"death\": 248114.0, \"deathIncrease\": 898.0, \"positiveRate\": 0.086, \"state\": \"US\", \"sma7d\": 0.098}, {\"date\": \"2020-11-23T00:00:00\", \"totalTestResultsIncrease\": 1758560.0, \"positiveIncrease\": 150940.0, \"death\": 249069.0, \"deathIncrease\": 955.0, \"positiveRate\": 0.086, \"state\": \"US\", \"sma7d\": 0.096}, {\"date\": \"2020-11-24T00:00:00\", \"totalTestResultsIncrease\": 1790272.0, \"positiveIncrease\": 167057.0, \"death\": 251135.0, \"deathIncrease\": 2066.0, \"positiveRate\": 0.093, \"state\": \"US\", \"sma7d\": 0.095}, {\"date\": \"2020-11-25T00:00:00\", \"totalTestResultsIncrease\": 1720705.0, \"positiveIncrease\": 183615.0, \"death\": 253424.0, \"deathIncrease\": 2289.0, \"positiveRate\": 0.107, \"state\": \"US\", \"sma7d\": 0.095}, {\"date\": \"2020-11-26T00:00:00\", \"totalTestResultsIncrease\": 1170195.0, \"positiveIncrease\": 126353.0, \"death\": 254760.0, \"deathIncrease\": 1336.0, \"positiveRate\": 0.108, \"state\": \"US\", \"sma7d\": 0.096}, {\"date\": \"2020-11-27T00:00:00\", \"totalTestResultsIncrease\": 2126288.0, \"positiveIncrease\": 193667.0, \"death\": 256132.0, \"deathIncrease\": 1372.0, \"positiveRate\": 0.091, \"state\": \"US\", \"sma7d\": 0.094}, {\"date\": \"2020-11-28T00:00:00\", \"totalTestResultsIncrease\": 1709566.0, \"positiveIncrease\": 154551.0, \"death\": 257377.0, \"deathIncrease\": 1245.0, \"positiveRate\": 0.09, \"state\": \"US\", \"sma7d\": 0.094}, {\"date\": \"2020-11-29T00:00:00\", \"totalTestResultsIncrease\": 1289970.0, \"positiveIncrease\": 135242.0, \"death\": 258180.0, \"deathIncrease\": 803.0, \"positiveRate\": 0.105, \"state\": \"US\", \"sma7d\": 0.097}, {\"date\": \"2020-11-30T00:00:00\", \"totalTestResultsIncrease\": 1603253.0, \"positiveIncrease\": 147583.0, \"death\": 259316.0, \"deathIncrease\": 1136.0, \"positiveRate\": 0.092, \"state\": \"US\", \"sma7d\": 0.098}, {\"date\": \"2020-12-01T00:00:00\", \"totalTestResultsIncrease\": 1380748.0, \"positiveIncrease\": 176785.0, \"death\": 261789.0, \"deathIncrease\": 2473.0, \"positiveRate\": 0.128, \"state\": \"US\", \"sma7d\": 0.103}, {\"date\": \"2020-12-02T00:00:00\", \"totalTestResultsIncrease\": 1438768.0, \"positiveIncrease\": 194998.0, \"death\": 264400.0, \"deathIncrease\": 2733.0, \"positiveRate\": 0.136, \"state\": \"US\", \"sma7d\": 0.107}]}}, {\"mode\": \"vega-lite\"});\n",
       "</script>"
      ],
      "text/plain": [
       "alt.LayerChart(...)"
      ]
     },
     "execution_count": 8,
     "metadata": {},
     "output_type": "execute_result"
    }
   ],
   "source": [
    "create_plot(us, 'positiveRate')"
   ]
  },
  {
   "cell_type": "code",
   "execution_count": 9,
   "metadata": {
    "execution": {
     "iopub.execute_input": "2020-12-03T09:14:44.677838Z",
     "iopub.status.busy": "2020-12-03T09:14:44.662136Z",
     "iopub.status.idle": "2020-12-03T09:14:44.725148Z",
     "shell.execute_reply": "2020-12-03T09:14:44.725551Z"
    },
    "papermill": {
     "duration": 0.098746,
     "end_time": "2020-12-03T09:14:44.725683",
     "exception": false,
     "start_time": "2020-12-03T09:14:44.626937",
     "status": "completed"
    },
    "tags": []
   },
   "outputs": [
    {
     "data": {
      "text/html": [
       "\n",
       "<div id=\"altair-viz-8cd7f5a20d694cfab522377d75126b23\"></div>\n",
       "<script type=\"text/javascript\">\n",
       "  (function(spec, embedOpt){\n",
       "    let outputDiv = document.currentScript.previousElementSibling;\n",
       "    if (outputDiv.id !== \"altair-viz-8cd7f5a20d694cfab522377d75126b23\") {\n",
       "      outputDiv = document.getElementById(\"altair-viz-8cd7f5a20d694cfab522377d75126b23\");\n",
       "    }\n",
       "    const paths = {\n",
       "      \"vega\": \"https://cdn.jsdelivr.net/npm//vega@5?noext\",\n",
       "      \"vega-lib\": \"https://cdn.jsdelivr.net/npm//vega-lib?noext\",\n",
       "      \"vega-lite\": \"https://cdn.jsdelivr.net/npm//vega-lite@4.8.1?noext\",\n",
       "      \"vega-embed\": \"https://cdn.jsdelivr.net/npm//vega-embed@6?noext\",\n",
       "    };\n",
       "\n",
       "    function loadScript(lib) {\n",
       "      return new Promise(function(resolve, reject) {\n",
       "        var s = document.createElement('script');\n",
       "        s.src = paths[lib];\n",
       "        s.async = true;\n",
       "        s.onload = () => resolve(paths[lib]);\n",
       "        s.onerror = () => reject(`Error loading script: ${paths[lib]}`);\n",
       "        document.getElementsByTagName(\"head\")[0].appendChild(s);\n",
       "      });\n",
       "    }\n",
       "\n",
       "    function showError(err) {\n",
       "      outputDiv.innerHTML = `<div class=\"error\" style=\"color:red;\">${err}</div>`;\n",
       "      throw err;\n",
       "    }\n",
       "\n",
       "    function displayChart(vegaEmbed) {\n",
       "      vegaEmbed(outputDiv, spec, embedOpt)\n",
       "        .catch(err => showError(`Javascript Error: ${err.message}<br>This usually means there's a typo in your chart specification. See the javascript console for the full traceback.`));\n",
       "    }\n",
       "\n",
       "    if(typeof define === \"function\" && define.amd) {\n",
       "      requirejs.config({paths});\n",
       "      require([\"vega-embed\"], displayChart, err => showError(`Error loading script: ${err.message}`));\n",
       "    } else if (typeof vegaEmbed === \"function\") {\n",
       "      displayChart(vegaEmbed);\n",
       "    } else {\n",
       "      loadScript(\"vega\")\n",
       "        .then(() => loadScript(\"vega-lite\"))\n",
       "        .then(() => loadScript(\"vega-embed\"))\n",
       "        .catch(showError)\n",
       "        .then(() => displayChart(vegaEmbed));\n",
       "    }\n",
       "  })({\"config\": {\"view\": {\"continuousWidth\": 400, \"continuousHeight\": 300}}, \"layer\": [{\"layer\": [{\"mark\": {\"type\": \"point\", \"size\": 75}, \"encoding\": {\"tooltip\": [{\"type\": \"temporal\", \"field\": \"date\"}, {\"type\": \"quantitative\", \"field\": \"deathIncrease\"}, {\"type\": \"quantitative\", \"field\": \"sma7d\"}], \"x\": {\"type\": \"temporal\", \"field\": \"date\"}, \"y\": {\"type\": \"quantitative\", \"field\": \"deathIncrease\"}}, \"selection\": {\"selector006\": {\"type\": \"interval\", \"bind\": \"scales\", \"encodings\": [\"x\", \"y\"]}}}, {\"mark\": {\"type\": \"line\", \"color\": \"purple\"}, \"encoding\": {\"x\": {\"type\": \"temporal\", \"field\": \"date\"}, \"y\": {\"type\": \"quantitative\", \"field\": \"sma7d\"}}}]}, {\"mark\": {\"type\": \"rule\", \"color\": \"#aaa\"}, \"encoding\": {\"x\": {\"type\": \"temporal\", \"field\": \"date\"}}, \"transform\": [{\"filter\": {\"selection\": \"selector005\"}}]}, {\"mark\": \"circle\", \"encoding\": {\"opacity\": {\"condition\": {\"value\": 1, \"selection\": \"selector005\"}, \"value\": 0}, \"tooltip\": [{\"type\": \"temporal\", \"field\": \"date\"}, {\"type\": \"quantitative\", \"field\": \"deathIncrease\"}, {\"type\": \"quantitative\", \"field\": \"sma7d\"}], \"x\": {\"type\": \"temporal\", \"field\": \"date\"}, \"y\": {\"type\": \"quantitative\", \"field\": \"deathIncrease\"}}, \"selection\": {\"selector005\": {\"type\": \"single\", \"encodings\": [\"x\"], \"on\": \"mouseover\", \"nearest\": true, \"empty\": \"none\"}}}, {\"mark\": {\"type\": \"text\", \"align\": \"left\", \"dx\": 5, \"dy\": -5, \"stroke\": \"white\", \"strokeWidth\": 2}, \"encoding\": {\"text\": {\"type\": \"quantitative\", \"field\": \"deathIncrease\"}, \"tooltip\": [{\"type\": \"temporal\", \"field\": \"date\"}, {\"type\": \"quantitative\", \"field\": \"deathIncrease\"}, {\"type\": \"quantitative\", \"field\": \"sma7d\"}], \"x\": {\"type\": \"temporal\", \"field\": \"date\"}, \"y\": {\"type\": \"quantitative\", \"field\": \"deathIncrease\"}}, \"transform\": [{\"filter\": {\"selection\": \"selector005\"}}]}, {\"mark\": {\"type\": \"text\", \"align\": \"left\", \"dx\": 5, \"dy\": -5}, \"encoding\": {\"text\": {\"type\": \"quantitative\", \"field\": \"deathIncrease\"}, \"tooltip\": [{\"type\": \"temporal\", \"field\": \"date\"}, {\"type\": \"quantitative\", \"field\": \"deathIncrease\"}, {\"type\": \"quantitative\", \"field\": \"sma7d\"}], \"x\": {\"type\": \"temporal\", \"field\": \"date\"}, \"y\": {\"type\": \"quantitative\", \"field\": \"deathIncrease\"}}, \"transform\": [{\"filter\": {\"selection\": \"selector005\"}}]}], \"data\": {\"name\": \"data-af2f47f125e884a3b14c37fec60fec32\"}, \"height\": 400, \"title\": \"US: deathIncrease\", \"width\": 500, \"$schema\": \"https://vega.github.io/schema/vega-lite/v4.8.1.json\", \"datasets\": {\"data-af2f47f125e884a3b14c37fec60fec32\": [{\"date\": \"2020-10-09T00:00:00\", \"totalTestResultsIncrease\": 1203110.0, \"positiveIncrease\": 56804.0, \"death\": 205565.0, \"deathIncrease\": 898.0, \"positiveRate\": 0.047, \"state\": \"US\", \"sma7d\": 695.286}, {\"date\": \"2020-10-10T00:00:00\", \"totalTestResultsIncrease\": 1251924.0, \"positiveIncrease\": 57414.0, \"death\": 206246.0, \"deathIncrease\": 681.0, \"positiveRate\": 0.046, \"state\": \"US\", \"sma7d\": 686.857}, {\"date\": \"2020-10-11T00:00:00\", \"totalTestResultsIncrease\": 1078116.0, \"positiveIncrease\": 46267.0, \"death\": 206714.0, \"deathIncrease\": 468.0, \"positiveRate\": 0.043, \"state\": \"US\", \"sma7d\": 701.571}, {\"date\": \"2020-10-12T00:00:00\", \"totalTestResultsIncrease\": 1059571.0, \"positiveIncrease\": 42646.0, \"death\": 206996.0, \"deathIncrease\": 282.0, \"positiveRate\": 0.04, \"state\": \"US\", \"sma7d\": 692.714}, {\"date\": \"2020-10-13T00:00:00\", \"totalTestResultsIncrease\": 1051833.0, \"positiveIncrease\": 48586.0, \"death\": 207694.0, \"deathIncrease\": 698.0, \"positiveRate\": 0.046, \"state\": \"US\", \"sma7d\": 705.286}, {\"date\": \"2020-10-14T00:00:00\", \"totalTestResultsIncrease\": 1044858.0, \"positiveIncrease\": 56130.0, \"death\": 208501.0, \"deathIncrease\": 807.0, \"positiveRate\": 0.054, \"state\": \"US\", \"sma7d\": 688.429}, {\"date\": \"2020-10-15T00:00:00\", \"totalTestResultsIncrease\": 1109379.0, \"positiveIncrease\": 63391.0, \"death\": 209431.0, \"deathIncrease\": 930.0, \"positiveRate\": 0.057, \"state\": \"US\", \"sma7d\": 680.571}, {\"date\": \"2020-10-16T00:00:00\", \"totalTestResultsIncrease\": 1230928.0, \"positiveIncrease\": 68245.0, \"death\": 210328.0, \"deathIncrease\": 897.0, \"positiveRate\": 0.055, \"state\": \"US\", \"sma7d\": 680.429}, {\"date\": \"2020-10-17T00:00:00\", \"totalTestResultsIncrease\": 1298729.0, \"positiveIncrease\": 57330.0, \"death\": 211101.0, \"deathIncrease\": 773.0, \"positiveRate\": 0.044, \"state\": \"US\", \"sma7d\": 693.571}, {\"date\": \"2020-10-18T00:00:00\", \"totalTestResultsIncrease\": 1051673.0, \"positiveIncrease\": 48281.0, \"death\": 211503.0, \"deathIncrease\": 402.0, \"positiveRate\": 0.046, \"state\": \"US\", \"sma7d\": 684.143}, {\"date\": \"2020-10-19T00:00:00\", \"totalTestResultsIncrease\": 1134720.0, \"positiveIncrease\": 57113.0, \"death\": 211959.0, \"deathIncrease\": 456.0, \"positiveRate\": 0.05, \"state\": \"US\", \"sma7d\": 709.0}, {\"date\": \"2020-10-20T00:00:00\", \"totalTestResultsIncrease\": 952747.0, \"positiveIncrease\": 60557.0, \"death\": 212796.0, \"deathIncrease\": 837.0, \"positiveRate\": 0.064, \"state\": \"US\", \"sma7d\": 728.857}, {\"date\": \"2020-10-21T00:00:00\", \"totalTestResultsIncrease\": 941787.0, \"positiveIncrease\": 60954.0, \"death\": 213815.0, \"deathIncrease\": 1019.0, \"positiveRate\": 0.065, \"state\": \"US\", \"sma7d\": 759.143}, {\"date\": \"2020-10-22T00:00:00\", \"totalTestResultsIncrease\": 1229733.0, \"positiveIncrease\": 72856.0, \"death\": 214941.0, \"deathIncrease\": 1126.0, \"positiveRate\": 0.059, \"state\": \"US\", \"sma7d\": 787.143}, {\"date\": \"2020-10-23T00:00:00\", \"totalTestResultsIncrease\": 1383173.0, \"positiveIncrease\": 82331.0, \"death\": 215875.0, \"deathIncrease\": 934.0, \"positiveRate\": 0.06, \"state\": \"US\", \"sma7d\": 792.429}, {\"date\": \"2020-10-24T00:00:00\", \"totalTestResultsIncrease\": 1323376.0, \"positiveIncrease\": 83289.0, \"death\": 216765.0, \"deathIncrease\": 890.0, \"positiveRate\": 0.063, \"state\": \"US\", \"sma7d\": 809.143}, {\"date\": \"2020-10-25T00:00:00\", \"totalTestResultsIncrease\": 1188211.0, \"positiveIncrease\": 64872.0, \"death\": 217147.0, \"deathIncrease\": 382.0, \"positiveRate\": 0.055, \"state\": \"US\", \"sma7d\": 806.286}, {\"date\": \"2020-10-26T00:00:00\", \"totalTestResultsIncrease\": 1211065.0, \"positiveIncrease\": 62547.0, \"death\": 217549.0, \"deathIncrease\": 402.0, \"positiveRate\": 0.052, \"state\": \"US\", \"sma7d\": 798.571}, {\"date\": \"2020-10-27T00:00:00\", \"totalTestResultsIncrease\": 1071163.0, \"positiveIncrease\": 72063.0, \"death\": 218468.0, \"deathIncrease\": 919.0, \"positiveRate\": 0.067, \"state\": \"US\", \"sma7d\": 810.286}, {\"date\": \"2020-10-28T00:00:00\", \"totalTestResultsIncrease\": 1096151.0, \"positiveIncrease\": 78757.0, \"death\": 219512.0, \"deathIncrease\": 1044.0, \"positiveRate\": 0.072, \"state\": \"US\", \"sma7d\": 813.857}, {\"date\": \"2020-10-29T00:00:00\", \"totalTestResultsIncrease\": 1332791.0, \"positiveIncrease\": 88726.0, \"death\": 220549.0, \"deathIncrease\": 1037.0, \"positiveRate\": 0.067, \"state\": \"US\", \"sma7d\": 801.143}, {\"date\": \"2020-10-30T00:00:00\", \"totalTestResultsIncrease\": 1363624.0, \"positiveIncrease\": 97241.0, \"death\": 221496.0, \"deathIncrease\": 947.0, \"positiveRate\": 0.071, \"state\": \"US\", \"sma7d\": 803.0}, {\"date\": \"2020-10-31T00:00:00\", \"totalTestResultsIncrease\": 1390130.0, \"positiveIncrease\": 90580.0, \"death\": 222459.0, \"deathIncrease\": 963.0, \"positiveRate\": 0.065, \"state\": \"US\", \"sma7d\": 813.429}, {\"date\": \"2020-11-01T00:00:00\", \"totalTestResultsIncrease\": 1127867.0, \"positiveIncrease\": 73855.0, \"death\": 222854.0, \"deathIncrease\": 395.0, \"positiveRate\": 0.065, \"state\": \"US\", \"sma7d\": 815.286}, {\"date\": \"2020-11-02T00:00:00\", \"totalTestResultsIncrease\": 1326677.0, \"positiveIncrease\": 82046.0, \"death\": 223345.0, \"deathIncrease\": 491.0, \"positiveRate\": 0.062, \"state\": \"US\", \"sma7d\": 828.0}, {\"date\": \"2020-11-03T00:00:00\", \"totalTestResultsIncrease\": 1128739.0, \"positiveIncrease\": 86675.0, \"death\": 224859.0, \"deathIncrease\": 1514.0, \"positiveRate\": 0.077, \"state\": \"US\", \"sma7d\": 913.0}, {\"date\": \"2020-11-04T00:00:00\", \"totalTestResultsIncrease\": 1222728.0, \"positiveIncrease\": 103312.0, \"death\": 225976.0, \"deathIncrease\": 1117.0, \"positiveRate\": 0.084, \"state\": \"US\", \"sma7d\": 923.429}, {\"date\": \"2020-11-05T00:00:00\", \"totalTestResultsIncrease\": 1567027.0, \"positiveIncrease\": 116433.0, \"death\": 227122.0, \"deathIncrease\": 1146.0, \"positiveRate\": 0.074, \"state\": \"US\", \"sma7d\": 939.0}, {\"date\": \"2020-11-06T00:00:00\", \"totalTestResultsIncrease\": 1563936.0, \"positiveIncrease\": 125758.0, \"death\": 228295.0, \"deathIncrease\": 1173.0, \"positiveRate\": 0.08, \"state\": \"US\", \"sma7d\": 971.286}, {\"date\": \"2020-11-07T00:00:00\", \"totalTestResultsIncrease\": 1413065.0, \"positiveIncrease\": 129248.0, \"death\": 229414.0, \"deathIncrease\": 1119.0, \"positiveRate\": 0.091, \"state\": \"US\", \"sma7d\": 993.571}, {\"date\": \"2020-11-08T00:00:00\", \"totalTestResultsIncrease\": 1252250.0, \"positiveIncrease\": 110261.0, \"death\": 229910.0, \"deathIncrease\": 496.0, \"positiveRate\": 0.088, \"state\": \"US\", \"sma7d\": 1008.0}, {\"date\": \"2020-11-09T00:00:00\", \"totalTestResultsIncrease\": 1516486.0, \"positiveIncrease\": 119461.0, \"death\": 230487.0, \"deathIncrease\": 577.0, \"positiveRate\": 0.079, \"state\": \"US\", \"sma7d\": 1020.286}, {\"date\": \"2020-11-10T00:00:00\", \"totalTestResultsIncrease\": 1251917.0, \"positiveIncrease\": 131224.0, \"death\": 231847.0, \"deathIncrease\": 1360.0, \"positiveRate\": 0.105, \"state\": \"US\", \"sma7d\": 998.286}, {\"date\": \"2020-11-11T00:00:00\", \"totalTestResultsIncrease\": 1417539.0, \"positiveIncrease\": 144853.0, \"death\": 233410.0, \"deathIncrease\": 1563.0, \"positiveRate\": 0.102, \"state\": \"US\", \"sma7d\": 1062.0}, {\"date\": \"2020-11-12T00:00:00\", \"totalTestResultsIncrease\": 1475910.0, \"positiveIncrease\": 151989.0, \"death\": 234529.0, \"deathIncrease\": 1119.0, \"positiveRate\": 0.103, \"state\": \"US\", \"sma7d\": 1058.143}, {\"date\": \"2020-11-13T00:00:00\", \"totalTestResultsIncrease\": 1697946.0, \"positiveIncrease\": 172112.0, \"death\": 235797.0, \"deathIncrease\": 1268.0, \"positiveRate\": 0.101, \"state\": \"US\", \"sma7d\": 1071.714}, {\"date\": \"2020-11-14T00:00:00\", \"totalTestResultsIncrease\": 1661870.0, \"positiveIncrease\": 163484.0, \"death\": 237128.0, \"deathIncrease\": 1331.0, \"positiveRate\": 0.098, \"state\": \"US\", \"sma7d\": 1102.0}, {\"date\": \"2020-11-15T00:00:00\", \"totalTestResultsIncrease\": 1615398.0, \"positiveIncrease\": 144512.0, \"death\": 237815.0, \"deathIncrease\": 687.0, \"positiveRate\": 0.089, \"state\": \"US\", \"sma7d\": 1129.286}, {\"date\": \"2020-11-16T00:00:00\", \"totalTestResultsIncrease\": 1486671.0, \"positiveIncrease\": 148855.0, \"death\": 238434.0, \"deathIncrease\": 619.0, \"positiveRate\": 0.1, \"state\": \"US\", \"sma7d\": 1135.286}, {\"date\": \"2020-11-17T00:00:00\", \"totalTestResultsIncrease\": 1511767.0, \"positiveIncrease\": 156680.0, \"death\": 239989.0, \"deathIncrease\": 1555.0, \"positiveRate\": 0.104, \"state\": \"US\", \"sma7d\": 1163.143}, {\"date\": \"2020-11-18T00:00:00\", \"totalTestResultsIncrease\": 1539051.0, \"positiveIncrease\": 164070.0, \"death\": 241853.0, \"deathIncrease\": 1864.0, \"positiveRate\": 0.107, \"state\": \"US\", \"sma7d\": 1206.143}, {\"date\": \"2020-11-19T00:00:00\", \"totalTestResultsIncrease\": 1821019.0, \"positiveIncrease\": 182827.0, \"death\": 243820.0, \"deathIncrease\": 1967.0, \"positiveRate\": 0.1, \"state\": \"US\", \"sma7d\": 1327.286}, {\"date\": \"2020-11-20T00:00:00\", \"totalTestResultsIncrease\": 1919404.0, \"positiveIncrease\": 192744.0, \"death\": 245704.0, \"deathIncrease\": 1884.0, \"positiveRate\": 0.1, \"state\": \"US\", \"sma7d\": 1415.286}, {\"date\": \"2020-11-21T00:00:00\", \"totalTestResultsIncrease\": 2004237.0, \"positiveIncrease\": 179715.0, \"death\": 247216.0, \"deathIncrease\": 1512.0, \"positiveRate\": 0.09, \"state\": \"US\", \"sma7d\": 1441.143}, {\"date\": \"2020-11-22T00:00:00\", \"totalTestResultsIncrease\": 1744488.0, \"positiveIncrease\": 150821.0, \"death\": 248114.0, \"deathIncrease\": 898.0, \"positiveRate\": 0.086, \"state\": \"US\", \"sma7d\": 1471.286}, {\"date\": \"2020-11-23T00:00:00\", \"totalTestResultsIncrease\": 1758560.0, \"positiveIncrease\": 150940.0, \"death\": 249069.0, \"deathIncrease\": 955.0, \"positiveRate\": 0.086, \"state\": \"US\", \"sma7d\": 1519.286}, {\"date\": \"2020-11-24T00:00:00\", \"totalTestResultsIncrease\": 1790272.0, \"positiveIncrease\": 167057.0, \"death\": 251135.0, \"deathIncrease\": 2066.0, \"positiveRate\": 0.093, \"state\": \"US\", \"sma7d\": 1592.286}, {\"date\": \"2020-11-25T00:00:00\", \"totalTestResultsIncrease\": 1720705.0, \"positiveIncrease\": 183615.0, \"death\": 253424.0, \"deathIncrease\": 2289.0, \"positiveRate\": 0.107, \"state\": \"US\", \"sma7d\": 1653.0}, {\"date\": \"2020-11-26T00:00:00\", \"totalTestResultsIncrease\": 1170195.0, \"positiveIncrease\": 126353.0, \"death\": 254760.0, \"deathIncrease\": 1336.0, \"positiveRate\": 0.108, \"state\": \"US\", \"sma7d\": 1562.857}, {\"date\": \"2020-11-27T00:00:00\", \"totalTestResultsIncrease\": 2126288.0, \"positiveIncrease\": 193667.0, \"death\": 256132.0, \"deathIncrease\": 1372.0, \"positiveRate\": 0.091, \"state\": \"US\", \"sma7d\": 1489.714}, {\"date\": \"2020-11-28T00:00:00\", \"totalTestResultsIncrease\": 1709566.0, \"positiveIncrease\": 154551.0, \"death\": 257377.0, \"deathIncrease\": 1245.0, \"positiveRate\": 0.09, \"state\": \"US\", \"sma7d\": 1451.571}, {\"date\": \"2020-11-29T00:00:00\", \"totalTestResultsIncrease\": 1289970.0, \"positiveIncrease\": 135242.0, \"death\": 258180.0, \"deathIncrease\": 803.0, \"positiveRate\": 0.105, \"state\": \"US\", \"sma7d\": 1438.0}, {\"date\": \"2020-11-30T00:00:00\", \"totalTestResultsIncrease\": 1603253.0, \"positiveIncrease\": 147583.0, \"death\": 259316.0, \"deathIncrease\": 1136.0, \"positiveRate\": 0.092, \"state\": \"US\", \"sma7d\": 1463.857}, {\"date\": \"2020-12-01T00:00:00\", \"totalTestResultsIncrease\": 1380748.0, \"positiveIncrease\": 176785.0, \"death\": 261789.0, \"deathIncrease\": 2473.0, \"positiveRate\": 0.128, \"state\": \"US\", \"sma7d\": 1522.0}, {\"date\": \"2020-12-02T00:00:00\", \"totalTestResultsIncrease\": 1438768.0, \"positiveIncrease\": 194998.0, \"death\": 264400.0, \"deathIncrease\": 2733.0, \"positiveRate\": 0.136, \"state\": \"US\", \"sma7d\": 1585.429}]}}, {\"mode\": \"vega-lite\"});\n",
       "</script>"
      ],
      "text/plain": [
       "alt.LayerChart(...)"
      ]
     },
     "execution_count": 9,
     "metadata": {},
     "output_type": "execute_result"
    }
   ],
   "source": [
    "create_plot(us, 'deathIncrease')"
   ]
  },
  {
   "cell_type": "markdown",
   "metadata": {
    "papermill": {
     "duration": 0.013731,
     "end_time": "2020-12-03T09:14:44.752714",
     "exception": false,
     "start_time": "2020-12-03T09:14:44.738983",
     "status": "completed"
    },
    "tags": []
   },
   "source": [
    "## NY"
   ]
  },
  {
   "cell_type": "code",
   "execution_count": 10,
   "metadata": {
    "execution": {
     "iopub.execute_input": "2020-12-03T09:14:44.783728Z",
     "iopub.status.busy": "2020-12-03T09:14:44.783179Z",
     "iopub.status.idle": "2020-12-03T09:14:45.080158Z",
     "shell.execute_reply": "2020-12-03T09:14:45.079631Z"
    },
    "papermill": {
     "duration": 0.314418,
     "end_time": "2020-12-03T09:14:45.080342",
     "exception": false,
     "start_time": "2020-12-03T09:14:44.765924",
     "status": "completed"
    },
    "tags": []
   },
   "outputs": [],
   "source": [
    "ny = create_df(df, (lambda d: d['state'] == 'NY'), 'New York')"
   ]
  },
  {
   "cell_type": "code",
   "execution_count": 11,
   "metadata": {
    "execution": {
     "iopub.execute_input": "2020-12-03T09:14:45.114294Z",
     "iopub.status.busy": "2020-12-03T09:14:45.113715Z",
     "iopub.status.idle": "2020-12-03T09:14:45.191872Z",
     "shell.execute_reply": "2020-12-03T09:14:45.191397Z"
    },
    "papermill": {
     "duration": 0.09536,
     "end_time": "2020-12-03T09:14:45.191990",
     "exception": false,
     "start_time": "2020-12-03T09:14:45.096630",
     "status": "completed"
    },
    "tags": []
   },
   "outputs": [
    {
     "data": {
      "text/html": [
       "\n",
       "<div id=\"altair-viz-bf4ab57755394ce698b082a509b92fdf\"></div>\n",
       "<script type=\"text/javascript\">\n",
       "  (function(spec, embedOpt){\n",
       "    let outputDiv = document.currentScript.previousElementSibling;\n",
       "    if (outputDiv.id !== \"altair-viz-bf4ab57755394ce698b082a509b92fdf\") {\n",
       "      outputDiv = document.getElementById(\"altair-viz-bf4ab57755394ce698b082a509b92fdf\");\n",
       "    }\n",
       "    const paths = {\n",
       "      \"vega\": \"https://cdn.jsdelivr.net/npm//vega@5?noext\",\n",
       "      \"vega-lib\": \"https://cdn.jsdelivr.net/npm//vega-lib?noext\",\n",
       "      \"vega-lite\": \"https://cdn.jsdelivr.net/npm//vega-lite@4.8.1?noext\",\n",
       "      \"vega-embed\": \"https://cdn.jsdelivr.net/npm//vega-embed@6?noext\",\n",
       "    };\n",
       "\n",
       "    function loadScript(lib) {\n",
       "      return new Promise(function(resolve, reject) {\n",
       "        var s = document.createElement('script');\n",
       "        s.src = paths[lib];\n",
       "        s.async = true;\n",
       "        s.onload = () => resolve(paths[lib]);\n",
       "        s.onerror = () => reject(`Error loading script: ${paths[lib]}`);\n",
       "        document.getElementsByTagName(\"head\")[0].appendChild(s);\n",
       "      });\n",
       "    }\n",
       "\n",
       "    function showError(err) {\n",
       "      outputDiv.innerHTML = `<div class=\"error\" style=\"color:red;\">${err}</div>`;\n",
       "      throw err;\n",
       "    }\n",
       "\n",
       "    function displayChart(vegaEmbed) {\n",
       "      vegaEmbed(outputDiv, spec, embedOpt)\n",
       "        .catch(err => showError(`Javascript Error: ${err.message}<br>This usually means there's a typo in your chart specification. See the javascript console for the full traceback.`));\n",
       "    }\n",
       "\n",
       "    if(typeof define === \"function\" && define.amd) {\n",
       "      requirejs.config({paths});\n",
       "      require([\"vega-embed\"], displayChart, err => showError(`Error loading script: ${err.message}`));\n",
       "    } else if (typeof vegaEmbed === \"function\") {\n",
       "      displayChart(vegaEmbed);\n",
       "    } else {\n",
       "      loadScript(\"vega\")\n",
       "        .then(() => loadScript(\"vega-lite\"))\n",
       "        .then(() => loadScript(\"vega-embed\"))\n",
       "        .catch(showError)\n",
       "        .then(() => displayChart(vegaEmbed));\n",
       "    }\n",
       "  })({\"config\": {\"view\": {\"continuousWidth\": 400, \"continuousHeight\": 300}}, \"layer\": [{\"layer\": [{\"mark\": {\"type\": \"point\", \"size\": 75}, \"encoding\": {\"tooltip\": [{\"type\": \"temporal\", \"field\": \"date\"}, {\"type\": \"quantitative\", \"field\": \"positiveIncrease\"}, {\"type\": \"quantitative\", \"field\": \"sma7d\"}], \"x\": {\"type\": \"temporal\", \"field\": \"date\"}, \"y\": {\"type\": \"quantitative\", \"field\": \"positiveIncrease\"}}, \"selection\": {\"selector008\": {\"type\": \"interval\", \"bind\": \"scales\", \"encodings\": [\"x\", \"y\"]}}}, {\"mark\": {\"type\": \"line\", \"color\": \"purple\"}, \"encoding\": {\"x\": {\"type\": \"temporal\", \"field\": \"date\"}, \"y\": {\"type\": \"quantitative\", \"field\": \"sma7d\"}}}]}, {\"mark\": {\"type\": \"rule\", \"color\": \"#aaa\"}, \"encoding\": {\"x\": {\"type\": \"temporal\", \"field\": \"date\"}}, \"transform\": [{\"filter\": {\"selection\": \"selector007\"}}]}, {\"mark\": \"circle\", \"encoding\": {\"opacity\": {\"condition\": {\"value\": 1, \"selection\": \"selector007\"}, \"value\": 0}, \"tooltip\": [{\"type\": \"temporal\", \"field\": \"date\"}, {\"type\": \"quantitative\", \"field\": \"positiveIncrease\"}, {\"type\": \"quantitative\", \"field\": \"sma7d\"}], \"x\": {\"type\": \"temporal\", \"field\": \"date\"}, \"y\": {\"type\": \"quantitative\", \"field\": \"positiveIncrease\"}}, \"selection\": {\"selector007\": {\"type\": \"single\", \"encodings\": [\"x\"], \"on\": \"mouseover\", \"nearest\": true, \"empty\": \"none\"}}}, {\"mark\": {\"type\": \"text\", \"align\": \"left\", \"dx\": 5, \"dy\": -5, \"stroke\": \"white\", \"strokeWidth\": 2}, \"encoding\": {\"text\": {\"type\": \"quantitative\", \"field\": \"positiveIncrease\"}, \"tooltip\": [{\"type\": \"temporal\", \"field\": \"date\"}, {\"type\": \"quantitative\", \"field\": \"positiveIncrease\"}, {\"type\": \"quantitative\", \"field\": \"sma7d\"}], \"x\": {\"type\": \"temporal\", \"field\": \"date\"}, \"y\": {\"type\": \"quantitative\", \"field\": \"positiveIncrease\"}}, \"transform\": [{\"filter\": {\"selection\": \"selector007\"}}]}, {\"mark\": {\"type\": \"text\", \"align\": \"left\", \"dx\": 5, \"dy\": -5}, \"encoding\": {\"text\": {\"type\": \"quantitative\", \"field\": \"positiveIncrease\"}, \"tooltip\": [{\"type\": \"temporal\", \"field\": \"date\"}, {\"type\": \"quantitative\", \"field\": \"positiveIncrease\"}, {\"type\": \"quantitative\", \"field\": \"sma7d\"}], \"x\": {\"type\": \"temporal\", \"field\": \"date\"}, \"y\": {\"type\": \"quantitative\", \"field\": \"positiveIncrease\"}}, \"transform\": [{\"filter\": {\"selection\": \"selector007\"}}]}], \"data\": {\"name\": \"data-2bf33b4399ffe3c814f96a04ab4c0330\"}, \"height\": 400, \"title\": \"New York: positiveIncrease\", \"width\": 500, \"$schema\": \"https://vega.github.io/schema/vega-lite/v4.8.1.json\", \"datasets\": {\"data-2bf33b4399ffe3c814f96a04ab4c0330\": [{\"date\": \"2020-10-09T00:00:00\", \"totalTestResultsIncrease\": 139300.0, \"positiveIncrease\": 1592.0, \"death\": 25561.0, \"deathIncrease\": 6.0, \"positiveRate\": 0.011, \"state\": \"New York\", \"sma7d\": 1438.143}, {\"date\": \"2020-10-10T00:00:00\", \"totalTestResultsIncrease\": 134579.0, \"positiveIncrease\": 1447.0, \"death\": 25569.0, \"deathIncrease\": 8.0, \"positiveRate\": 0.011, \"state\": \"New York\", \"sma7d\": 1397.571}, {\"date\": \"2020-10-11T00:00:00\", \"totalTestResultsIncrease\": 118254.0, \"positiveIncrease\": 1143.0, \"death\": 25574.0, \"deathIncrease\": 5.0, \"positiveRate\": 0.01, \"state\": \"New York\", \"sma7d\": 1386.286}, {\"date\": \"2020-10-12T00:00:00\", \"totalTestResultsIncrease\": 91793.0, \"positiveIncrease\": 1029.0, \"death\": 25587.0, \"deathIncrease\": 13.0, \"positiveRate\": 0.011, \"state\": \"New York\", \"sma7d\": 1400.0}, {\"date\": \"2020-10-13T00:00:00\", \"totalTestResultsIncrease\": 99070.0, \"positiveIncrease\": 1393.0, \"death\": 25598.0, \"deathIncrease\": 11.0, \"positiveRate\": 0.014, \"state\": \"New York\", \"sma7d\": 1400.0}, {\"date\": \"2020-10-14T00:00:00\", \"totalTestResultsIncrease\": 111744.0, \"positiveIncrease\": 1232.0, \"death\": 25605.0, \"deathIncrease\": 7.0, \"positiveRate\": 0.011, \"state\": \"New York\", \"sma7d\": 1381.714}, {\"date\": \"2020-10-15T00:00:00\", \"totalTestResultsIncrease\": 133212.0, \"positiveIncrease\": 1460.0, \"death\": 25618.0, \"deathIncrease\": 13.0, \"positiveRate\": 0.011, \"state\": \"New York\", \"sma7d\": 1328.0}, {\"date\": \"2020-10-16T00:00:00\", \"totalTestResultsIncrease\": 136039.0, \"positiveIncrease\": 1707.0, \"death\": 25628.0, \"deathIncrease\": 10.0, \"positiveRate\": 0.013, \"state\": \"New York\", \"sma7d\": 1344.429}, {\"date\": \"2020-10-17T00:00:00\", \"totalTestResultsIncrease\": 159972.0, \"positiveIncrease\": 1784.0, \"death\": 25637.0, \"deathIncrease\": 9.0, \"positiveRate\": 0.011, \"state\": \"New York\", \"sma7d\": 1392.571}, {\"date\": \"2020-10-18T00:00:00\", \"totalTestResultsIncrease\": 128763.0, \"positiveIncrease\": 1390.0, \"death\": 25644.0, \"deathIncrease\": 7.0, \"positiveRate\": 0.011, \"state\": \"New York\", \"sma7d\": 1427.857}, {\"date\": \"2020-10-19T00:00:00\", \"totalTestResultsIncrease\": 82009.0, \"positiveIncrease\": 998.0, \"death\": 25659.0, \"deathIncrease\": 15.0, \"positiveRate\": 0.012, \"state\": \"New York\", \"sma7d\": 1423.429}, {\"date\": \"2020-10-20T00:00:00\", \"totalTestResultsIncrease\": 90540.0, \"positiveIncrease\": 1201.0, \"death\": 25672.0, \"deathIncrease\": 13.0, \"positiveRate\": 0.013, \"state\": \"New York\", \"sma7d\": 1396.0}, {\"date\": \"2020-10-21T00:00:00\", \"totalTestResultsIncrease\": 124789.0, \"positiveIncrease\": 2026.0, \"death\": 25679.0, \"deathIncrease\": 7.0, \"positiveRate\": 0.016, \"state\": \"New York\", \"sma7d\": 1509.429}, {\"date\": \"2020-10-22T00:00:00\", \"totalTestResultsIncrease\": 135341.0, \"positiveIncrease\": 1628.0, \"death\": 25694.0, \"deathIncrease\": 15.0, \"positiveRate\": 0.012, \"state\": \"New York\", \"sma7d\": 1533.429}, {\"date\": \"2020-10-23T00:00:00\", \"totalTestResultsIncrease\": 141508.0, \"positiveIncrease\": 1637.0, \"death\": 25705.0, \"deathIncrease\": 11.0, \"positiveRate\": 0.012, \"state\": \"New York\", \"sma7d\": 1523.429}, {\"date\": \"2020-10-24T00:00:00\", \"totalTestResultsIncrease\": 156940.0, \"positiveIncrease\": 2061.0, \"death\": 25718.0, \"deathIncrease\": 13.0, \"positiveRate\": 0.013, \"state\": \"New York\", \"sma7d\": 1563.0}, {\"date\": \"2020-10-25T00:00:00\", \"totalTestResultsIncrease\": 120830.0, \"positiveIncrease\": 1632.0, \"death\": 25730.0, \"deathIncrease\": 12.0, \"positiveRate\": 0.014, \"state\": \"New York\", \"sma7d\": 1597.571}, {\"date\": \"2020-10-26T00:00:00\", \"totalTestResultsIncrease\": 82117.0, \"positiveIncrease\": 1191.0, \"death\": 25742.0, \"deathIncrease\": 12.0, \"positiveRate\": 0.015, \"state\": \"New York\", \"sma7d\": 1625.143}, {\"date\": \"2020-10-27T00:00:00\", \"totalTestResultsIncrease\": 111618.0, \"positiveIncrease\": 1991.0, \"death\": 25758.0, \"deathIncrease\": 16.0, \"positiveRate\": 0.018, \"state\": \"New York\", \"sma7d\": 1738.0}, {\"date\": \"2020-10-28T00:00:00\", \"totalTestResultsIncrease\": 129660.0, \"positiveIncrease\": 2031.0, \"death\": 25773.0, \"deathIncrease\": 15.0, \"positiveRate\": 0.016, \"state\": \"New York\", \"sma7d\": 1738.714}, {\"date\": \"2020-10-29T00:00:00\", \"totalTestResultsIncrease\": 168353.0, \"positiveIncrease\": 2499.0, \"death\": 25792.0, \"deathIncrease\": 19.0, \"positiveRate\": 0.015, \"state\": \"New York\", \"sma7d\": 1863.143}, {\"date\": \"2020-10-30T00:00:00\", \"totalTestResultsIncrease\": 146885.0, \"positiveIncrease\": 2255.0, \"death\": 25804.0, \"deathIncrease\": 12.0, \"positiveRate\": 0.015, \"state\": \"New York\", \"sma7d\": 1951.429}, {\"date\": \"2020-10-31T00:00:00\", \"totalTestResultsIncrease\": 136962.0, \"positiveIncrease\": 2049.0, \"death\": 25807.0, \"deathIncrease\": 3.0, \"positiveRate\": 0.015, \"state\": \"New York\", \"sma7d\": 1949.714}, {\"date\": \"2020-11-01T00:00:00\", \"totalTestResultsIncrease\": 148935.0, \"positiveIncrease\": 2255.0, \"death\": 25824.0, \"deathIncrease\": 17.0, \"positiveRate\": 0.015, \"state\": \"New York\", \"sma7d\": 2038.714}, {\"date\": \"2020-11-02T00:00:00\", \"totalTestResultsIncrease\": 96101.0, \"positiveIncrease\": 1633.0, \"death\": 25838.0, \"deathIncrease\": 14.0, \"positiveRate\": 0.017, \"state\": \"New York\", \"sma7d\": 2101.857}, {\"date\": \"2020-11-03T00:00:00\", \"totalTestResultsIncrease\": 127869.0, \"positiveIncrease\": 2321.0, \"death\": 25853.0, \"deathIncrease\": 15.0, \"positiveRate\": 0.018, \"state\": \"New York\", \"sma7d\": 2149.0}, {\"date\": \"2020-11-04T00:00:00\", \"totalTestResultsIncrease\": 133534.0, \"positiveIncrease\": 2126.0, \"death\": 25868.0, \"deathIncrease\": 15.0, \"positiveRate\": 0.016, \"state\": \"New York\", \"sma7d\": 2162.571}, {\"date\": \"2020-11-05T00:00:00\", \"totalTestResultsIncrease\": 161019.0, \"positiveIncrease\": 2997.0, \"death\": 25892.0, \"deathIncrease\": 24.0, \"positiveRate\": 0.019, \"state\": \"New York\", \"sma7d\": 2233.714}, {\"date\": \"2020-11-06T00:00:00\", \"totalTestResultsIncrease\": 160705.0, \"positiveIncrease\": 3209.0, \"death\": 25910.0, \"deathIncrease\": 18.0, \"positiveRate\": 0.02, \"state\": \"New York\", \"sma7d\": 2370.0}, {\"date\": \"2020-11-07T00:00:00\", \"totalTestResultsIncrease\": 163291.0, \"positiveIncrease\": 3587.0, \"death\": 25928.0, \"deathIncrease\": 18.0, \"positiveRate\": 0.022, \"state\": \"New York\", \"sma7d\": 2589.714}, {\"date\": \"2020-11-08T00:00:00\", \"totalTestResultsIncrease\": 145642.0, \"positiveIncrease\": 3428.0, \"death\": 25947.0, \"deathIncrease\": 19.0, \"positiveRate\": 0.024, \"state\": \"New York\", \"sma7d\": 2757.286}, {\"date\": \"2020-11-09T00:00:00\", \"totalTestResultsIncrease\": 111416.0, \"positiveIncrease\": 3144.0, \"death\": 25973.0, \"deathIncrease\": 26.0, \"positiveRate\": 0.028, \"state\": \"New York\", \"sma7d\": 2973.143}, {\"date\": \"2020-11-10T00:00:00\", \"totalTestResultsIncrease\": 128036.0, \"positiveIncrease\": 3965.0, \"death\": 26005.0, \"deathIncrease\": 32.0, \"positiveRate\": 0.031, \"state\": \"New York\", \"sma7d\": 3208.0}, {\"date\": \"2020-11-11T00:00:00\", \"totalTestResultsIncrease\": 164300.0, \"positiveIncrease\": 4820.0, \"death\": 26026.0, \"deathIncrease\": 21.0, \"positiveRate\": 0.029, \"state\": \"New York\", \"sma7d\": 3592.857}, {\"date\": \"2020-11-12T00:00:00\", \"totalTestResultsIncrease\": 162627.0, \"positiveIncrease\": 4797.0, \"death\": 26055.0, \"deathIncrease\": 29.0, \"positiveRate\": 0.029, \"state\": \"New York\", \"sma7d\": 3850.0}, {\"date\": \"2020-11-13T00:00:00\", \"totalTestResultsIncrease\": 203721.0, \"positiveIncrease\": 5401.0, \"death\": 26079.0, \"deathIncrease\": 24.0, \"positiveRate\": 0.027, \"state\": \"New York\", \"sma7d\": 4163.143}, {\"date\": \"2020-11-14T00:00:00\", \"totalTestResultsIncrease\": 184162.0, \"positiveIncrease\": 5388.0, \"death\": 26103.0, \"deathIncrease\": 24.0, \"positiveRate\": 0.029, \"state\": \"New York\", \"sma7d\": 4420.429}, {\"date\": \"2020-11-15T00:00:00\", \"totalTestResultsIncrease\": 133202.0, \"positiveIncrease\": 3649.0, \"death\": 26133.0, \"deathIncrease\": 30.0, \"positiveRate\": 0.027, \"state\": \"New York\", \"sma7d\": 4452.0}, {\"date\": \"2020-11-16T00:00:00\", \"totalTestResultsIncrease\": 124565.0, \"positiveIncrease\": 3490.0, \"death\": 26159.0, \"deathIncrease\": 26.0, \"positiveRate\": 0.028, \"state\": \"New York\", \"sma7d\": 4501.429}, {\"date\": \"2020-11-17T00:00:00\", \"totalTestResultsIncrease\": 159852.0, \"positiveIncrease\": 5088.0, \"death\": 26189.0, \"deathIncrease\": 30.0, \"positiveRate\": 0.032, \"state\": \"New York\", \"sma7d\": 4661.857}, {\"date\": \"2020-11-18T00:00:00\", \"totalTestResultsIncrease\": 154434.0, \"positiveIncrease\": 5294.0, \"death\": 26225.0, \"deathIncrease\": 36.0, \"positiveRate\": 0.034, \"state\": \"New York\", \"sma7d\": 4729.571}, {\"date\": \"2020-11-19T00:00:00\", \"totalTestResultsIncrease\": 195239.0, \"positiveIncrease\": 5310.0, \"death\": 26257.0, \"deathIncrease\": 32.0, \"positiveRate\": 0.027, \"state\": \"New York\", \"sma7d\": 4802.857}, {\"date\": \"2020-11-20T00:00:00\", \"totalTestResultsIncrease\": 205466.0, \"positiveIncrease\": 5468.0, \"death\": 26292.0, \"deathIncrease\": 35.0, \"positiveRate\": 0.027, \"state\": \"New York\", \"sma7d\": 4812.429}, {\"date\": \"2020-11-21T00:00:00\", \"totalTestResultsIncrease\": 207907.0, \"positiveIncrease\": 5972.0, \"death\": 26326.0, \"deathIncrease\": 34.0, \"positiveRate\": 0.029, \"state\": \"New York\", \"sma7d\": 4895.857}, {\"date\": \"2020-11-22T00:00:00\", \"totalTestResultsIncrease\": 196610.0, \"positiveIncrease\": 5392.0, \"death\": 26357.0, \"deathIncrease\": 31.0, \"positiveRate\": 0.027, \"state\": \"New York\", \"sma7d\": 5144.857}, {\"date\": \"2020-11-23T00:00:00\", \"totalTestResultsIncrease\": 191489.0, \"positiveIncrease\": 5906.0, \"death\": 26390.0, \"deathIncrease\": 33.0, \"positiveRate\": 0.031, \"state\": \"New York\", \"sma7d\": 5490.0}, {\"date\": \"2020-11-24T00:00:00\", \"totalTestResultsIncrease\": 164761.0, \"positiveIncrease\": 4881.0, \"death\": 26441.0, \"deathIncrease\": 51.0, \"positiveRate\": 0.03, \"state\": \"New York\", \"sma7d\": 5460.429}, {\"date\": \"2020-11-25T00:00:00\", \"totalTestResultsIncrease\": 173085.0, \"positiveIncrease\": 6265.0, \"death\": 26482.0, \"deathIncrease\": 41.0, \"positiveRate\": 0.036, \"state\": \"New York\", \"sma7d\": 5599.143}, {\"date\": \"2020-11-26T00:00:00\", \"totalTestResultsIncrease\": 217721.0, \"positiveIncrease\": 6933.0, \"death\": 26549.0, \"deathIncrease\": 67.0, \"positiveRate\": 0.032, \"state\": \"New York\", \"sma7d\": 5831.0}, {\"date\": \"2020-11-27T00:00:00\", \"totalTestResultsIncrease\": 219442.0, \"positiveIncrease\": 8176.0, \"death\": 26588.0, \"deathIncrease\": 39.0, \"positiveRate\": 0.037, \"state\": \"New York\", \"sma7d\": 6217.857}, {\"date\": \"2020-11-28T00:00:00\", \"totalTestResultsIncrease\": 152355.0, \"positiveIncrease\": 6063.0, \"death\": 26632.0, \"deathIncrease\": 44.0, \"positiveRate\": 0.04, \"state\": \"New York\", \"sma7d\": 6230.857}, {\"date\": \"2020-11-29T00:00:00\", \"totalTestResultsIncrease\": 157320.0, \"positiveIncrease\": 6723.0, \"death\": 26690.0, \"deathIncrease\": 58.0, \"positiveRate\": 0.043, \"state\": \"New York\", \"sma7d\": 6421.0}, {\"date\": \"2020-11-30T00:00:00\", \"totalTestResultsIncrease\": 148974.0, \"positiveIncrease\": 6819.0, \"death\": 26747.0, \"deathIncrease\": 57.0, \"positiveRate\": 0.046, \"state\": \"New York\", \"sma7d\": 6551.429}, {\"date\": \"2020-12-01T00:00:00\", \"totalTestResultsIncrease\": 146675.0, \"positiveIncrease\": 7285.0, \"death\": 26816.0, \"deathIncrease\": 69.0, \"positiveRate\": 0.05, \"state\": \"New York\", \"sma7d\": 6894.857}, {\"date\": \"2020-12-02T00:00:00\", \"totalTestResultsIncrease\": 193551.0, \"positiveIncrease\": 8973.0, \"death\": 26889.0, \"deathIncrease\": 73.0, \"positiveRate\": 0.046, \"state\": \"New York\", \"sma7d\": 7281.714}]}}, {\"mode\": \"vega-lite\"});\n",
       "</script>"
      ],
      "text/plain": [
       "alt.LayerChart(...)"
      ]
     },
     "execution_count": 11,
     "metadata": {},
     "output_type": "execute_result"
    }
   ],
   "source": [
    "create_plot(ny, 'positiveIncrease')"
   ]
  },
  {
   "cell_type": "code",
   "execution_count": 12,
   "metadata": {
    "execution": {
     "iopub.execute_input": "2020-12-03T09:14:45.223370Z",
     "iopub.status.busy": "2020-12-03T09:14:45.221762Z",
     "iopub.status.idle": "2020-12-03T09:14:45.302138Z",
     "shell.execute_reply": "2020-12-03T09:14:45.302682Z"
    },
    "papermill": {
     "duration": 0.097452,
     "end_time": "2020-12-03T09:14:45.302897",
     "exception": false,
     "start_time": "2020-12-03T09:14:45.205445",
     "status": "completed"
    },
    "tags": []
   },
   "outputs": [
    {
     "data": {
      "text/html": [
       "\n",
       "<div id=\"altair-viz-fb7e441cb43c4de9bfdef3f56e693856\"></div>\n",
       "<script type=\"text/javascript\">\n",
       "  (function(spec, embedOpt){\n",
       "    let outputDiv = document.currentScript.previousElementSibling;\n",
       "    if (outputDiv.id !== \"altair-viz-fb7e441cb43c4de9bfdef3f56e693856\") {\n",
       "      outputDiv = document.getElementById(\"altair-viz-fb7e441cb43c4de9bfdef3f56e693856\");\n",
       "    }\n",
       "    const paths = {\n",
       "      \"vega\": \"https://cdn.jsdelivr.net/npm//vega@5?noext\",\n",
       "      \"vega-lib\": \"https://cdn.jsdelivr.net/npm//vega-lib?noext\",\n",
       "      \"vega-lite\": \"https://cdn.jsdelivr.net/npm//vega-lite@4.8.1?noext\",\n",
       "      \"vega-embed\": \"https://cdn.jsdelivr.net/npm//vega-embed@6?noext\",\n",
       "    };\n",
       "\n",
       "    function loadScript(lib) {\n",
       "      return new Promise(function(resolve, reject) {\n",
       "        var s = document.createElement('script');\n",
       "        s.src = paths[lib];\n",
       "        s.async = true;\n",
       "        s.onload = () => resolve(paths[lib]);\n",
       "        s.onerror = () => reject(`Error loading script: ${paths[lib]}`);\n",
       "        document.getElementsByTagName(\"head\")[0].appendChild(s);\n",
       "      });\n",
       "    }\n",
       "\n",
       "    function showError(err) {\n",
       "      outputDiv.innerHTML = `<div class=\"error\" style=\"color:red;\">${err}</div>`;\n",
       "      throw err;\n",
       "    }\n",
       "\n",
       "    function displayChart(vegaEmbed) {\n",
       "      vegaEmbed(outputDiv, spec, embedOpt)\n",
       "        .catch(err => showError(`Javascript Error: ${err.message}<br>This usually means there's a typo in your chart specification. See the javascript console for the full traceback.`));\n",
       "    }\n",
       "\n",
       "    if(typeof define === \"function\" && define.amd) {\n",
       "      requirejs.config({paths});\n",
       "      require([\"vega-embed\"], displayChart, err => showError(`Error loading script: ${err.message}`));\n",
       "    } else if (typeof vegaEmbed === \"function\") {\n",
       "      displayChart(vegaEmbed);\n",
       "    } else {\n",
       "      loadScript(\"vega\")\n",
       "        .then(() => loadScript(\"vega-lite\"))\n",
       "        .then(() => loadScript(\"vega-embed\"))\n",
       "        .catch(showError)\n",
       "        .then(() => displayChart(vegaEmbed));\n",
       "    }\n",
       "  })({\"config\": {\"view\": {\"continuousWidth\": 400, \"continuousHeight\": 300}}, \"layer\": [{\"layer\": [{\"mark\": {\"type\": \"point\", \"size\": 75}, \"encoding\": {\"tooltip\": [{\"type\": \"temporal\", \"field\": \"date\"}, {\"type\": \"quantitative\", \"field\": \"positiveRate\"}, {\"type\": \"quantitative\", \"field\": \"sma7d\"}], \"x\": {\"type\": \"temporal\", \"field\": \"date\"}, \"y\": {\"type\": \"quantitative\", \"field\": \"positiveRate\"}}, \"selection\": {\"selector010\": {\"type\": \"interval\", \"bind\": \"scales\", \"encodings\": [\"x\", \"y\"]}}}, {\"mark\": {\"type\": \"line\", \"color\": \"purple\"}, \"encoding\": {\"x\": {\"type\": \"temporal\", \"field\": \"date\"}, \"y\": {\"type\": \"quantitative\", \"field\": \"sma7d\"}}}]}, {\"mark\": {\"type\": \"rule\", \"color\": \"#aaa\"}, \"encoding\": {\"x\": {\"type\": \"temporal\", \"field\": \"date\"}}, \"transform\": [{\"filter\": {\"selection\": \"selector009\"}}]}, {\"mark\": \"circle\", \"encoding\": {\"opacity\": {\"condition\": {\"value\": 1, \"selection\": \"selector009\"}, \"value\": 0}, \"tooltip\": [{\"type\": \"temporal\", \"field\": \"date\"}, {\"type\": \"quantitative\", \"field\": \"positiveRate\"}, {\"type\": \"quantitative\", \"field\": \"sma7d\"}], \"x\": {\"type\": \"temporal\", \"field\": \"date\"}, \"y\": {\"type\": \"quantitative\", \"field\": \"positiveRate\"}}, \"selection\": {\"selector009\": {\"type\": \"single\", \"encodings\": [\"x\"], \"on\": \"mouseover\", \"nearest\": true, \"empty\": \"none\"}}}, {\"mark\": {\"type\": \"text\", \"align\": \"left\", \"dx\": 5, \"dy\": -5, \"stroke\": \"white\", \"strokeWidth\": 2}, \"encoding\": {\"text\": {\"type\": \"quantitative\", \"field\": \"positiveRate\"}, \"tooltip\": [{\"type\": \"temporal\", \"field\": \"date\"}, {\"type\": \"quantitative\", \"field\": \"positiveRate\"}, {\"type\": \"quantitative\", \"field\": \"sma7d\"}], \"x\": {\"type\": \"temporal\", \"field\": \"date\"}, \"y\": {\"type\": \"quantitative\", \"field\": \"positiveRate\"}}, \"transform\": [{\"filter\": {\"selection\": \"selector009\"}}]}, {\"mark\": {\"type\": \"text\", \"align\": \"left\", \"dx\": 5, \"dy\": -5}, \"encoding\": {\"text\": {\"type\": \"quantitative\", \"field\": \"positiveRate\"}, \"tooltip\": [{\"type\": \"temporal\", \"field\": \"date\"}, {\"type\": \"quantitative\", \"field\": \"positiveRate\"}, {\"type\": \"quantitative\", \"field\": \"sma7d\"}], \"x\": {\"type\": \"temporal\", \"field\": \"date\"}, \"y\": {\"type\": \"quantitative\", \"field\": \"positiveRate\"}}, \"transform\": [{\"filter\": {\"selection\": \"selector009\"}}]}], \"data\": {\"name\": \"data-ccadaaeed1d6dccea4ce5745e0c5bf3c\"}, \"height\": 400, \"title\": \"New York: positiveRate\", \"width\": 500, \"$schema\": \"https://vega.github.io/schema/vega-lite/v4.8.1.json\", \"datasets\": {\"data-ccadaaeed1d6dccea4ce5745e0c5bf3c\": [{\"date\": \"2020-10-09T00:00:00\", \"totalTestResultsIncrease\": 139300.0, \"positiveIncrease\": 1592.0, \"death\": 25561.0, \"deathIncrease\": 6.0, \"positiveRate\": 0.011, \"state\": \"New York\", \"sma7d\": 0.012}, {\"date\": \"2020-10-10T00:00:00\", \"totalTestResultsIncrease\": 134579.0, \"positiveIncrease\": 1447.0, \"death\": 25569.0, \"deathIncrease\": 8.0, \"positiveRate\": 0.011, \"state\": \"New York\", \"sma7d\": 0.012}, {\"date\": \"2020-10-11T00:00:00\", \"totalTestResultsIncrease\": 118254.0, \"positiveIncrease\": 1143.0, \"death\": 25574.0, \"deathIncrease\": 5.0, \"positiveRate\": 0.01, \"state\": \"New York\", \"sma7d\": 0.012}, {\"date\": \"2020-10-12T00:00:00\", \"totalTestResultsIncrease\": 91793.0, \"positiveIncrease\": 1029.0, \"death\": 25587.0, \"deathIncrease\": 13.0, \"positiveRate\": 0.011, \"state\": \"New York\", \"sma7d\": 0.012}, {\"date\": \"2020-10-13T00:00:00\", \"totalTestResultsIncrease\": 99070.0, \"positiveIncrease\": 1393.0, \"death\": 25598.0, \"deathIncrease\": 11.0, \"positiveRate\": 0.014, \"state\": \"New York\", \"sma7d\": 0.012}, {\"date\": \"2020-10-14T00:00:00\", \"totalTestResultsIncrease\": 111744.0, \"positiveIncrease\": 1232.0, \"death\": 25605.0, \"deathIncrease\": 7.0, \"positiveRate\": 0.011, \"state\": \"New York\", \"sma7d\": 0.012}, {\"date\": \"2020-10-15T00:00:00\", \"totalTestResultsIncrease\": 133212.0, \"positiveIncrease\": 1460.0, \"death\": 25618.0, \"deathIncrease\": 13.0, \"positiveRate\": 0.011, \"state\": \"New York\", \"sma7d\": 0.011}, {\"date\": \"2020-10-16T00:00:00\", \"totalTestResultsIncrease\": 136039.0, \"positiveIncrease\": 1707.0, \"death\": 25628.0, \"deathIncrease\": 10.0, \"positiveRate\": 0.013, \"state\": \"New York\", \"sma7d\": 0.012}, {\"date\": \"2020-10-17T00:00:00\", \"totalTestResultsIncrease\": 159972.0, \"positiveIncrease\": 1784.0, \"death\": 25637.0, \"deathIncrease\": 9.0, \"positiveRate\": 0.011, \"state\": \"New York\", \"sma7d\": 0.012}, {\"date\": \"2020-10-18T00:00:00\", \"totalTestResultsIncrease\": 128763.0, \"positiveIncrease\": 1390.0, \"death\": 25644.0, \"deathIncrease\": 7.0, \"positiveRate\": 0.011, \"state\": \"New York\", \"sma7d\": 0.012}, {\"date\": \"2020-10-19T00:00:00\", \"totalTestResultsIncrease\": 82009.0, \"positiveIncrease\": 998.0, \"death\": 25659.0, \"deathIncrease\": 15.0, \"positiveRate\": 0.012, \"state\": \"New York\", \"sma7d\": 0.012}, {\"date\": \"2020-10-20T00:00:00\", \"totalTestResultsIncrease\": 90540.0, \"positiveIncrease\": 1201.0, \"death\": 25672.0, \"deathIncrease\": 13.0, \"positiveRate\": 0.013, \"state\": \"New York\", \"sma7d\": 0.012}, {\"date\": \"2020-10-21T00:00:00\", \"totalTestResultsIncrease\": 124789.0, \"positiveIncrease\": 2026.0, \"death\": 25679.0, \"deathIncrease\": 7.0, \"positiveRate\": 0.016, \"state\": \"New York\", \"sma7d\": 0.012}, {\"date\": \"2020-10-22T00:00:00\", \"totalTestResultsIncrease\": 135341.0, \"positiveIncrease\": 1628.0, \"death\": 25694.0, \"deathIncrease\": 15.0, \"positiveRate\": 0.012, \"state\": \"New York\", \"sma7d\": 0.013}, {\"date\": \"2020-10-23T00:00:00\", \"totalTestResultsIncrease\": 141508.0, \"positiveIncrease\": 1637.0, \"death\": 25705.0, \"deathIncrease\": 11.0, \"positiveRate\": 0.012, \"state\": \"New York\", \"sma7d\": 0.012}, {\"date\": \"2020-10-24T00:00:00\", \"totalTestResultsIncrease\": 156940.0, \"positiveIncrease\": 2061.0, \"death\": 25718.0, \"deathIncrease\": 13.0, \"positiveRate\": 0.013, \"state\": \"New York\", \"sma7d\": 0.013}, {\"date\": \"2020-10-25T00:00:00\", \"totalTestResultsIncrease\": 120830.0, \"positiveIncrease\": 1632.0, \"death\": 25730.0, \"deathIncrease\": 12.0, \"positiveRate\": 0.014, \"state\": \"New York\", \"sma7d\": 0.013}, {\"date\": \"2020-10-26T00:00:00\", \"totalTestResultsIncrease\": 82117.0, \"positiveIncrease\": 1191.0, \"death\": 25742.0, \"deathIncrease\": 12.0, \"positiveRate\": 0.015, \"state\": \"New York\", \"sma7d\": 0.014}, {\"date\": \"2020-10-27T00:00:00\", \"totalTestResultsIncrease\": 111618.0, \"positiveIncrease\": 1991.0, \"death\": 25758.0, \"deathIncrease\": 16.0, \"positiveRate\": 0.018, \"state\": \"New York\", \"sma7d\": 0.014}, {\"date\": \"2020-10-28T00:00:00\", \"totalTestResultsIncrease\": 129660.0, \"positiveIncrease\": 2031.0, \"death\": 25773.0, \"deathIncrease\": 15.0, \"positiveRate\": 0.016, \"state\": \"New York\", \"sma7d\": 0.014}, {\"date\": \"2020-10-29T00:00:00\", \"totalTestResultsIncrease\": 168353.0, \"positiveIncrease\": 2499.0, \"death\": 25792.0, \"deathIncrease\": 19.0, \"positiveRate\": 0.015, \"state\": \"New York\", \"sma7d\": 0.015}, {\"date\": \"2020-10-30T00:00:00\", \"totalTestResultsIncrease\": 146885.0, \"positiveIncrease\": 2255.0, \"death\": 25804.0, \"deathIncrease\": 12.0, \"positiveRate\": 0.015, \"state\": \"New York\", \"sma7d\": 0.015}, {\"date\": \"2020-10-31T00:00:00\", \"totalTestResultsIncrease\": 136962.0, \"positiveIncrease\": 2049.0, \"death\": 25807.0, \"deathIncrease\": 3.0, \"positiveRate\": 0.015, \"state\": \"New York\", \"sma7d\": 0.015}, {\"date\": \"2020-11-01T00:00:00\", \"totalTestResultsIncrease\": 148935.0, \"positiveIncrease\": 2255.0, \"death\": 25824.0, \"deathIncrease\": 17.0, \"positiveRate\": 0.015, \"state\": \"New York\", \"sma7d\": 0.016}, {\"date\": \"2020-11-02T00:00:00\", \"totalTestResultsIncrease\": 96101.0, \"positiveIncrease\": 1633.0, \"death\": 25838.0, \"deathIncrease\": 14.0, \"positiveRate\": 0.017, \"state\": \"New York\", \"sma7d\": 0.016}, {\"date\": \"2020-11-03T00:00:00\", \"totalTestResultsIncrease\": 127869.0, \"positiveIncrease\": 2321.0, \"death\": 25853.0, \"deathIncrease\": 15.0, \"positiveRate\": 0.018, \"state\": \"New York\", \"sma7d\": 0.016}, {\"date\": \"2020-11-04T00:00:00\", \"totalTestResultsIncrease\": 133534.0, \"positiveIncrease\": 2126.0, \"death\": 25868.0, \"deathIncrease\": 15.0, \"positiveRate\": 0.016, \"state\": \"New York\", \"sma7d\": 0.016}, {\"date\": \"2020-11-05T00:00:00\", \"totalTestResultsIncrease\": 161019.0, \"positiveIncrease\": 2997.0, \"death\": 25892.0, \"deathIncrease\": 24.0, \"positiveRate\": 0.019, \"state\": \"New York\", \"sma7d\": 0.016}, {\"date\": \"2020-11-06T00:00:00\", \"totalTestResultsIncrease\": 160705.0, \"positiveIncrease\": 3209.0, \"death\": 25910.0, \"deathIncrease\": 18.0, \"positiveRate\": 0.02, \"state\": \"New York\", \"sma7d\": 0.017}, {\"date\": \"2020-11-07T00:00:00\", \"totalTestResultsIncrease\": 163291.0, \"positiveIncrease\": 3587.0, \"death\": 25928.0, \"deathIncrease\": 18.0, \"positiveRate\": 0.022, \"state\": \"New York\", \"sma7d\": 0.018}, {\"date\": \"2020-11-08T00:00:00\", \"totalTestResultsIncrease\": 145642.0, \"positiveIncrease\": 3428.0, \"death\": 25947.0, \"deathIncrease\": 19.0, \"positiveRate\": 0.024, \"state\": \"New York\", \"sma7d\": 0.019}, {\"date\": \"2020-11-09T00:00:00\", \"totalTestResultsIncrease\": 111416.0, \"positiveIncrease\": 3144.0, \"death\": 25973.0, \"deathIncrease\": 26.0, \"positiveRate\": 0.028, \"state\": \"New York\", \"sma7d\": 0.021}, {\"date\": \"2020-11-10T00:00:00\", \"totalTestResultsIncrease\": 128036.0, \"positiveIncrease\": 3965.0, \"death\": 26005.0, \"deathIncrease\": 32.0, \"positiveRate\": 0.031, \"state\": \"New York\", \"sma7d\": 0.023}, {\"date\": \"2020-11-11T00:00:00\", \"totalTestResultsIncrease\": 164300.0, \"positiveIncrease\": 4820.0, \"death\": 26026.0, \"deathIncrease\": 21.0, \"positiveRate\": 0.029, \"state\": \"New York\", \"sma7d\": 0.025}, {\"date\": \"2020-11-12T00:00:00\", \"totalTestResultsIncrease\": 162627.0, \"positiveIncrease\": 4797.0, \"death\": 26055.0, \"deathIncrease\": 29.0, \"positiveRate\": 0.029, \"state\": \"New York\", \"sma7d\": 0.026}, {\"date\": \"2020-11-13T00:00:00\", \"totalTestResultsIncrease\": 203721.0, \"positiveIncrease\": 5401.0, \"death\": 26079.0, \"deathIncrease\": 24.0, \"positiveRate\": 0.027, \"state\": \"New York\", \"sma7d\": 0.027}, {\"date\": \"2020-11-14T00:00:00\", \"totalTestResultsIncrease\": 184162.0, \"positiveIncrease\": 5388.0, \"death\": 26103.0, \"deathIncrease\": 24.0, \"positiveRate\": 0.029, \"state\": \"New York\", \"sma7d\": 0.028}, {\"date\": \"2020-11-15T00:00:00\", \"totalTestResultsIncrease\": 133202.0, \"positiveIncrease\": 3649.0, \"death\": 26133.0, \"deathIncrease\": 30.0, \"positiveRate\": 0.027, \"state\": \"New York\", \"sma7d\": 0.029}, {\"date\": \"2020-11-16T00:00:00\", \"totalTestResultsIncrease\": 124565.0, \"positiveIncrease\": 3490.0, \"death\": 26159.0, \"deathIncrease\": 26.0, \"positiveRate\": 0.028, \"state\": \"New York\", \"sma7d\": 0.029}, {\"date\": \"2020-11-17T00:00:00\", \"totalTestResultsIncrease\": 159852.0, \"positiveIncrease\": 5088.0, \"death\": 26189.0, \"deathIncrease\": 30.0, \"positiveRate\": 0.032, \"state\": \"New York\", \"sma7d\": 0.029}, {\"date\": \"2020-11-18T00:00:00\", \"totalTestResultsIncrease\": 154434.0, \"positiveIncrease\": 5294.0, \"death\": 26225.0, \"deathIncrease\": 36.0, \"positiveRate\": 0.034, \"state\": \"New York\", \"sma7d\": 0.029}, {\"date\": \"2020-11-19T00:00:00\", \"totalTestResultsIncrease\": 195239.0, \"positiveIncrease\": 5310.0, \"death\": 26257.0, \"deathIncrease\": 32.0, \"positiveRate\": 0.027, \"state\": \"New York\", \"sma7d\": 0.029}, {\"date\": \"2020-11-20T00:00:00\", \"totalTestResultsIncrease\": 205466.0, \"positiveIncrease\": 5468.0, \"death\": 26292.0, \"deathIncrease\": 35.0, \"positiveRate\": 0.027, \"state\": \"New York\", \"sma7d\": 0.029}, {\"date\": \"2020-11-21T00:00:00\", \"totalTestResultsIncrease\": 207907.0, \"positiveIncrease\": 5972.0, \"death\": 26326.0, \"deathIncrease\": 34.0, \"positiveRate\": 0.029, \"state\": \"New York\", \"sma7d\": 0.029}, {\"date\": \"2020-11-22T00:00:00\", \"totalTestResultsIncrease\": 196610.0, \"positiveIncrease\": 5392.0, \"death\": 26357.0, \"deathIncrease\": 31.0, \"positiveRate\": 0.027, \"state\": \"New York\", \"sma7d\": 0.029}, {\"date\": \"2020-11-23T00:00:00\", \"totalTestResultsIncrease\": 191489.0, \"positiveIncrease\": 5906.0, \"death\": 26390.0, \"deathIncrease\": 33.0, \"positiveRate\": 0.031, \"state\": \"New York\", \"sma7d\": 0.03}, {\"date\": \"2020-11-24T00:00:00\", \"totalTestResultsIncrease\": 164761.0, \"positiveIncrease\": 4881.0, \"death\": 26441.0, \"deathIncrease\": 51.0, \"positiveRate\": 0.03, \"state\": \"New York\", \"sma7d\": 0.029}, {\"date\": \"2020-11-25T00:00:00\", \"totalTestResultsIncrease\": 173085.0, \"positiveIncrease\": 6265.0, \"death\": 26482.0, \"deathIncrease\": 41.0, \"positiveRate\": 0.036, \"state\": \"New York\", \"sma7d\": 0.03}, {\"date\": \"2020-11-26T00:00:00\", \"totalTestResultsIncrease\": 217721.0, \"positiveIncrease\": 6933.0, \"death\": 26549.0, \"deathIncrease\": 67.0, \"positiveRate\": 0.032, \"state\": \"New York\", \"sma7d\": 0.03}, {\"date\": \"2020-11-27T00:00:00\", \"totalTestResultsIncrease\": 219442.0, \"positiveIncrease\": 8176.0, \"death\": 26588.0, \"deathIncrease\": 39.0, \"positiveRate\": 0.037, \"state\": \"New York\", \"sma7d\": 0.032}, {\"date\": \"2020-11-28T00:00:00\", \"totalTestResultsIncrease\": 152355.0, \"positiveIncrease\": 6063.0, \"death\": 26632.0, \"deathIncrease\": 44.0, \"positiveRate\": 0.04, \"state\": \"New York\", \"sma7d\": 0.033}, {\"date\": \"2020-11-29T00:00:00\", \"totalTestResultsIncrease\": 157320.0, \"positiveIncrease\": 6723.0, \"death\": 26690.0, \"deathIncrease\": 58.0, \"positiveRate\": 0.043, \"state\": \"New York\", \"sma7d\": 0.036}, {\"date\": \"2020-11-30T00:00:00\", \"totalTestResultsIncrease\": 148974.0, \"positiveIncrease\": 6819.0, \"death\": 26747.0, \"deathIncrease\": 57.0, \"positiveRate\": 0.046, \"state\": \"New York\", \"sma7d\": 0.038}, {\"date\": \"2020-12-01T00:00:00\", \"totalTestResultsIncrease\": 146675.0, \"positiveIncrease\": 7285.0, \"death\": 26816.0, \"deathIncrease\": 69.0, \"positiveRate\": 0.05, \"state\": \"New York\", \"sma7d\": 0.041}, {\"date\": \"2020-12-02T00:00:00\", \"totalTestResultsIncrease\": 193551.0, \"positiveIncrease\": 8973.0, \"death\": 26889.0, \"deathIncrease\": 73.0, \"positiveRate\": 0.046, \"state\": \"New York\", \"sma7d\": 0.042}]}}, {\"mode\": \"vega-lite\"});\n",
       "</script>"
      ],
      "text/plain": [
       "alt.LayerChart(...)"
      ]
     },
     "execution_count": 12,
     "metadata": {},
     "output_type": "execute_result"
    }
   ],
   "source": [
    "create_plot(ny, 'positiveRate')"
   ]
  },
  {
   "cell_type": "code",
   "execution_count": 13,
   "metadata": {
    "execution": {
     "iopub.execute_input": "2020-12-03T09:14:45.358197Z",
     "iopub.status.busy": "2020-12-03T09:14:45.337542Z",
     "iopub.status.idle": "2020-12-03T09:14:45.413437Z",
     "shell.execute_reply": "2020-12-03T09:14:45.413896Z"
    },
    "papermill": {
     "duration": 0.097536,
     "end_time": "2020-12-03T09:14:45.414020",
     "exception": false,
     "start_time": "2020-12-03T09:14:45.316484",
     "status": "completed"
    },
    "tags": []
   },
   "outputs": [
    {
     "data": {
      "text/html": [
       "\n",
       "<div id=\"altair-viz-eaa8e67450284262b439f9cc6b2e63bc\"></div>\n",
       "<script type=\"text/javascript\">\n",
       "  (function(spec, embedOpt){\n",
       "    let outputDiv = document.currentScript.previousElementSibling;\n",
       "    if (outputDiv.id !== \"altair-viz-eaa8e67450284262b439f9cc6b2e63bc\") {\n",
       "      outputDiv = document.getElementById(\"altair-viz-eaa8e67450284262b439f9cc6b2e63bc\");\n",
       "    }\n",
       "    const paths = {\n",
       "      \"vega\": \"https://cdn.jsdelivr.net/npm//vega@5?noext\",\n",
       "      \"vega-lib\": \"https://cdn.jsdelivr.net/npm//vega-lib?noext\",\n",
       "      \"vega-lite\": \"https://cdn.jsdelivr.net/npm//vega-lite@4.8.1?noext\",\n",
       "      \"vega-embed\": \"https://cdn.jsdelivr.net/npm//vega-embed@6?noext\",\n",
       "    };\n",
       "\n",
       "    function loadScript(lib) {\n",
       "      return new Promise(function(resolve, reject) {\n",
       "        var s = document.createElement('script');\n",
       "        s.src = paths[lib];\n",
       "        s.async = true;\n",
       "        s.onload = () => resolve(paths[lib]);\n",
       "        s.onerror = () => reject(`Error loading script: ${paths[lib]}`);\n",
       "        document.getElementsByTagName(\"head\")[0].appendChild(s);\n",
       "      });\n",
       "    }\n",
       "\n",
       "    function showError(err) {\n",
       "      outputDiv.innerHTML = `<div class=\"error\" style=\"color:red;\">${err}</div>`;\n",
       "      throw err;\n",
       "    }\n",
       "\n",
       "    function displayChart(vegaEmbed) {\n",
       "      vegaEmbed(outputDiv, spec, embedOpt)\n",
       "        .catch(err => showError(`Javascript Error: ${err.message}<br>This usually means there's a typo in your chart specification. See the javascript console for the full traceback.`));\n",
       "    }\n",
       "\n",
       "    if(typeof define === \"function\" && define.amd) {\n",
       "      requirejs.config({paths});\n",
       "      require([\"vega-embed\"], displayChart, err => showError(`Error loading script: ${err.message}`));\n",
       "    } else if (typeof vegaEmbed === \"function\") {\n",
       "      displayChart(vegaEmbed);\n",
       "    } else {\n",
       "      loadScript(\"vega\")\n",
       "        .then(() => loadScript(\"vega-lite\"))\n",
       "        .then(() => loadScript(\"vega-embed\"))\n",
       "        .catch(showError)\n",
       "        .then(() => displayChart(vegaEmbed));\n",
       "    }\n",
       "  })({\"config\": {\"view\": {\"continuousWidth\": 400, \"continuousHeight\": 300}}, \"layer\": [{\"layer\": [{\"mark\": {\"type\": \"point\", \"size\": 75}, \"encoding\": {\"tooltip\": [{\"type\": \"temporal\", \"field\": \"date\"}, {\"type\": \"quantitative\", \"field\": \"deathIncrease\"}, {\"type\": \"quantitative\", \"field\": \"sma7d\"}], \"x\": {\"type\": \"temporal\", \"field\": \"date\"}, \"y\": {\"type\": \"quantitative\", \"field\": \"deathIncrease\"}}, \"selection\": {\"selector012\": {\"type\": \"interval\", \"bind\": \"scales\", \"encodings\": [\"x\", \"y\"]}}}, {\"mark\": {\"type\": \"line\", \"color\": \"purple\"}, \"encoding\": {\"x\": {\"type\": \"temporal\", \"field\": \"date\"}, \"y\": {\"type\": \"quantitative\", \"field\": \"sma7d\"}}}]}, {\"mark\": {\"type\": \"rule\", \"color\": \"#aaa\"}, \"encoding\": {\"x\": {\"type\": \"temporal\", \"field\": \"date\"}}, \"transform\": [{\"filter\": {\"selection\": \"selector011\"}}]}, {\"mark\": \"circle\", \"encoding\": {\"opacity\": {\"condition\": {\"value\": 1, \"selection\": \"selector011\"}, \"value\": 0}, \"tooltip\": [{\"type\": \"temporal\", \"field\": \"date\"}, {\"type\": \"quantitative\", \"field\": \"deathIncrease\"}, {\"type\": \"quantitative\", \"field\": \"sma7d\"}], \"x\": {\"type\": \"temporal\", \"field\": \"date\"}, \"y\": {\"type\": \"quantitative\", \"field\": \"deathIncrease\"}}, \"selection\": {\"selector011\": {\"type\": \"single\", \"encodings\": [\"x\"], \"on\": \"mouseover\", \"nearest\": true, \"empty\": \"none\"}}}, {\"mark\": {\"type\": \"text\", \"align\": \"left\", \"dx\": 5, \"dy\": -5, \"stroke\": \"white\", \"strokeWidth\": 2}, \"encoding\": {\"text\": {\"type\": \"quantitative\", \"field\": \"deathIncrease\"}, \"tooltip\": [{\"type\": \"temporal\", \"field\": \"date\"}, {\"type\": \"quantitative\", \"field\": \"deathIncrease\"}, {\"type\": \"quantitative\", \"field\": \"sma7d\"}], \"x\": {\"type\": \"temporal\", \"field\": \"date\"}, \"y\": {\"type\": \"quantitative\", \"field\": \"deathIncrease\"}}, \"transform\": [{\"filter\": {\"selection\": \"selector011\"}}]}, {\"mark\": {\"type\": \"text\", \"align\": \"left\", \"dx\": 5, \"dy\": -5}, \"encoding\": {\"text\": {\"type\": \"quantitative\", \"field\": \"deathIncrease\"}, \"tooltip\": [{\"type\": \"temporal\", \"field\": \"date\"}, {\"type\": \"quantitative\", \"field\": \"deathIncrease\"}, {\"type\": \"quantitative\", \"field\": \"sma7d\"}], \"x\": {\"type\": \"temporal\", \"field\": \"date\"}, \"y\": {\"type\": \"quantitative\", \"field\": \"deathIncrease\"}}, \"transform\": [{\"filter\": {\"selection\": \"selector011\"}}]}], \"data\": {\"name\": \"data-eca781dc58e9e488de5acd299ac5274e\"}, \"height\": 400, \"title\": \"New York: deathIncrease\", \"width\": 500, \"$schema\": \"https://vega.github.io/schema/vega-lite/v4.8.1.json\", \"datasets\": {\"data-eca781dc58e9e488de5acd299ac5274e\": [{\"date\": \"2020-10-09T00:00:00\", \"totalTestResultsIncrease\": 139300.0, \"positiveIncrease\": 1592.0, \"death\": 25561.0, \"deathIncrease\": 6.0, \"positiveRate\": 0.011, \"state\": \"New York\", \"sma7d\": 9.143}, {\"date\": \"2020-10-10T00:00:00\", \"totalTestResultsIncrease\": 134579.0, \"positiveIncrease\": 1447.0, \"death\": 25569.0, \"deathIncrease\": 8.0, \"positiveRate\": 0.011, \"state\": \"New York\", \"sma7d\": 9.143}, {\"date\": \"2020-10-11T00:00:00\", \"totalTestResultsIncrease\": 118254.0, \"positiveIncrease\": 1143.0, \"death\": 25574.0, \"deathIncrease\": 5.0, \"positiveRate\": 0.01, \"state\": \"New York\", \"sma7d\": 7.857}, {\"date\": \"2020-10-12T00:00:00\", \"totalTestResultsIncrease\": 91793.0, \"positiveIncrease\": 1029.0, \"death\": 25587.0, \"deathIncrease\": 13.0, \"positiveRate\": 0.011, \"state\": \"New York\", \"sma7d\": 8.571}, {\"date\": \"2020-10-13T00:00:00\", \"totalTestResultsIncrease\": 99070.0, \"positiveIncrease\": 1393.0, \"death\": 25598.0, \"deathIncrease\": 11.0, \"positiveRate\": 0.014, \"state\": \"New York\", \"sma7d\": 8.857}, {\"date\": \"2020-10-14T00:00:00\", \"totalTestResultsIncrease\": 111744.0, \"positiveIncrease\": 1232.0, \"death\": 25605.0, \"deathIncrease\": 7.0, \"positiveRate\": 0.011, \"state\": \"New York\", \"sma7d\": 8.571}, {\"date\": \"2020-10-15T00:00:00\", \"totalTestResultsIncrease\": 133212.0, \"positiveIncrease\": 1460.0, \"death\": 25618.0, \"deathIncrease\": 13.0, \"positiveRate\": 0.011, \"state\": \"New York\", \"sma7d\": 9.0}, {\"date\": \"2020-10-16T00:00:00\", \"totalTestResultsIncrease\": 136039.0, \"positiveIncrease\": 1707.0, \"death\": 25628.0, \"deathIncrease\": 10.0, \"positiveRate\": 0.013, \"state\": \"New York\", \"sma7d\": 9.571}, {\"date\": \"2020-10-17T00:00:00\", \"totalTestResultsIncrease\": 159972.0, \"positiveIncrease\": 1784.0, \"death\": 25637.0, \"deathIncrease\": 9.0, \"positiveRate\": 0.011, \"state\": \"New York\", \"sma7d\": 9.714}, {\"date\": \"2020-10-18T00:00:00\", \"totalTestResultsIncrease\": 128763.0, \"positiveIncrease\": 1390.0, \"death\": 25644.0, \"deathIncrease\": 7.0, \"positiveRate\": 0.011, \"state\": \"New York\", \"sma7d\": 10.0}, {\"date\": \"2020-10-19T00:00:00\", \"totalTestResultsIncrease\": 82009.0, \"positiveIncrease\": 998.0, \"death\": 25659.0, \"deathIncrease\": 15.0, \"positiveRate\": 0.012, \"state\": \"New York\", \"sma7d\": 10.286}, {\"date\": \"2020-10-20T00:00:00\", \"totalTestResultsIncrease\": 90540.0, \"positiveIncrease\": 1201.0, \"death\": 25672.0, \"deathIncrease\": 13.0, \"positiveRate\": 0.013, \"state\": \"New York\", \"sma7d\": 10.571}, {\"date\": \"2020-10-21T00:00:00\", \"totalTestResultsIncrease\": 124789.0, \"positiveIncrease\": 2026.0, \"death\": 25679.0, \"deathIncrease\": 7.0, \"positiveRate\": 0.016, \"state\": \"New York\", \"sma7d\": 10.571}, {\"date\": \"2020-10-22T00:00:00\", \"totalTestResultsIncrease\": 135341.0, \"positiveIncrease\": 1628.0, \"death\": 25694.0, \"deathIncrease\": 15.0, \"positiveRate\": 0.012, \"state\": \"New York\", \"sma7d\": 10.857}, {\"date\": \"2020-10-23T00:00:00\", \"totalTestResultsIncrease\": 141508.0, \"positiveIncrease\": 1637.0, \"death\": 25705.0, \"deathIncrease\": 11.0, \"positiveRate\": 0.012, \"state\": \"New York\", \"sma7d\": 11.0}, {\"date\": \"2020-10-24T00:00:00\", \"totalTestResultsIncrease\": 156940.0, \"positiveIncrease\": 2061.0, \"death\": 25718.0, \"deathIncrease\": 13.0, \"positiveRate\": 0.013, \"state\": \"New York\", \"sma7d\": 11.571}, {\"date\": \"2020-10-25T00:00:00\", \"totalTestResultsIncrease\": 120830.0, \"positiveIncrease\": 1632.0, \"death\": 25730.0, \"deathIncrease\": 12.0, \"positiveRate\": 0.014, \"state\": \"New York\", \"sma7d\": 12.286}, {\"date\": \"2020-10-26T00:00:00\", \"totalTestResultsIncrease\": 82117.0, \"positiveIncrease\": 1191.0, \"death\": 25742.0, \"deathIncrease\": 12.0, \"positiveRate\": 0.015, \"state\": \"New York\", \"sma7d\": 11.857}, {\"date\": \"2020-10-27T00:00:00\", \"totalTestResultsIncrease\": 111618.0, \"positiveIncrease\": 1991.0, \"death\": 25758.0, \"deathIncrease\": 16.0, \"positiveRate\": 0.018, \"state\": \"New York\", \"sma7d\": 12.286}, {\"date\": \"2020-10-28T00:00:00\", \"totalTestResultsIncrease\": 129660.0, \"positiveIncrease\": 2031.0, \"death\": 25773.0, \"deathIncrease\": 15.0, \"positiveRate\": 0.016, \"state\": \"New York\", \"sma7d\": 13.429}, {\"date\": \"2020-10-29T00:00:00\", \"totalTestResultsIncrease\": 168353.0, \"positiveIncrease\": 2499.0, \"death\": 25792.0, \"deathIncrease\": 19.0, \"positiveRate\": 0.015, \"state\": \"New York\", \"sma7d\": 14.0}, {\"date\": \"2020-10-30T00:00:00\", \"totalTestResultsIncrease\": 146885.0, \"positiveIncrease\": 2255.0, \"death\": 25804.0, \"deathIncrease\": 12.0, \"positiveRate\": 0.015, \"state\": \"New York\", \"sma7d\": 14.143}, {\"date\": \"2020-10-31T00:00:00\", \"totalTestResultsIncrease\": 136962.0, \"positiveIncrease\": 2049.0, \"death\": 25807.0, \"deathIncrease\": 3.0, \"positiveRate\": 0.015, \"state\": \"New York\", \"sma7d\": 12.714}, {\"date\": \"2020-11-01T00:00:00\", \"totalTestResultsIncrease\": 148935.0, \"positiveIncrease\": 2255.0, \"death\": 25824.0, \"deathIncrease\": 17.0, \"positiveRate\": 0.015, \"state\": \"New York\", \"sma7d\": 13.429}, {\"date\": \"2020-11-02T00:00:00\", \"totalTestResultsIncrease\": 96101.0, \"positiveIncrease\": 1633.0, \"death\": 25838.0, \"deathIncrease\": 14.0, \"positiveRate\": 0.017, \"state\": \"New York\", \"sma7d\": 13.714}, {\"date\": \"2020-11-03T00:00:00\", \"totalTestResultsIncrease\": 127869.0, \"positiveIncrease\": 2321.0, \"death\": 25853.0, \"deathIncrease\": 15.0, \"positiveRate\": 0.018, \"state\": \"New York\", \"sma7d\": 13.571}, {\"date\": \"2020-11-04T00:00:00\", \"totalTestResultsIncrease\": 133534.0, \"positiveIncrease\": 2126.0, \"death\": 25868.0, \"deathIncrease\": 15.0, \"positiveRate\": 0.016, \"state\": \"New York\", \"sma7d\": 13.571}, {\"date\": \"2020-11-05T00:00:00\", \"totalTestResultsIncrease\": 161019.0, \"positiveIncrease\": 2997.0, \"death\": 25892.0, \"deathIncrease\": 24.0, \"positiveRate\": 0.019, \"state\": \"New York\", \"sma7d\": 14.286}, {\"date\": \"2020-11-06T00:00:00\", \"totalTestResultsIncrease\": 160705.0, \"positiveIncrease\": 3209.0, \"death\": 25910.0, \"deathIncrease\": 18.0, \"positiveRate\": 0.02, \"state\": \"New York\", \"sma7d\": 15.143}, {\"date\": \"2020-11-07T00:00:00\", \"totalTestResultsIncrease\": 163291.0, \"positiveIncrease\": 3587.0, \"death\": 25928.0, \"deathIncrease\": 18.0, \"positiveRate\": 0.022, \"state\": \"New York\", \"sma7d\": 17.286}, {\"date\": \"2020-11-08T00:00:00\", \"totalTestResultsIncrease\": 145642.0, \"positiveIncrease\": 3428.0, \"death\": 25947.0, \"deathIncrease\": 19.0, \"positiveRate\": 0.024, \"state\": \"New York\", \"sma7d\": 17.571}, {\"date\": \"2020-11-09T00:00:00\", \"totalTestResultsIncrease\": 111416.0, \"positiveIncrease\": 3144.0, \"death\": 25973.0, \"deathIncrease\": 26.0, \"positiveRate\": 0.028, \"state\": \"New York\", \"sma7d\": 19.286}, {\"date\": \"2020-11-10T00:00:00\", \"totalTestResultsIncrease\": 128036.0, \"positiveIncrease\": 3965.0, \"death\": 26005.0, \"deathIncrease\": 32.0, \"positiveRate\": 0.031, \"state\": \"New York\", \"sma7d\": 21.714}, {\"date\": \"2020-11-11T00:00:00\", \"totalTestResultsIncrease\": 164300.0, \"positiveIncrease\": 4820.0, \"death\": 26026.0, \"deathIncrease\": 21.0, \"positiveRate\": 0.029, \"state\": \"New York\", \"sma7d\": 22.571}, {\"date\": \"2020-11-12T00:00:00\", \"totalTestResultsIncrease\": 162627.0, \"positiveIncrease\": 4797.0, \"death\": 26055.0, \"deathIncrease\": 29.0, \"positiveRate\": 0.029, \"state\": \"New York\", \"sma7d\": 23.286}, {\"date\": \"2020-11-13T00:00:00\", \"totalTestResultsIncrease\": 203721.0, \"positiveIncrease\": 5401.0, \"death\": 26079.0, \"deathIncrease\": 24.0, \"positiveRate\": 0.027, \"state\": \"New York\", \"sma7d\": 24.143}, {\"date\": \"2020-11-14T00:00:00\", \"totalTestResultsIncrease\": 184162.0, \"positiveIncrease\": 5388.0, \"death\": 26103.0, \"deathIncrease\": 24.0, \"positiveRate\": 0.029, \"state\": \"New York\", \"sma7d\": 25.0}, {\"date\": \"2020-11-15T00:00:00\", \"totalTestResultsIncrease\": 133202.0, \"positiveIncrease\": 3649.0, \"death\": 26133.0, \"deathIncrease\": 30.0, \"positiveRate\": 0.027, \"state\": \"New York\", \"sma7d\": 26.571}, {\"date\": \"2020-11-16T00:00:00\", \"totalTestResultsIncrease\": 124565.0, \"positiveIncrease\": 3490.0, \"death\": 26159.0, \"deathIncrease\": 26.0, \"positiveRate\": 0.028, \"state\": \"New York\", \"sma7d\": 26.571}, {\"date\": \"2020-11-17T00:00:00\", \"totalTestResultsIncrease\": 159852.0, \"positiveIncrease\": 5088.0, \"death\": 26189.0, \"deathIncrease\": 30.0, \"positiveRate\": 0.032, \"state\": \"New York\", \"sma7d\": 26.286}, {\"date\": \"2020-11-18T00:00:00\", \"totalTestResultsIncrease\": 154434.0, \"positiveIncrease\": 5294.0, \"death\": 26225.0, \"deathIncrease\": 36.0, \"positiveRate\": 0.034, \"state\": \"New York\", \"sma7d\": 28.429}, {\"date\": \"2020-11-19T00:00:00\", \"totalTestResultsIncrease\": 195239.0, \"positiveIncrease\": 5310.0, \"death\": 26257.0, \"deathIncrease\": 32.0, \"positiveRate\": 0.027, \"state\": \"New York\", \"sma7d\": 28.857}, {\"date\": \"2020-11-20T00:00:00\", \"totalTestResultsIncrease\": 205466.0, \"positiveIncrease\": 5468.0, \"death\": 26292.0, \"deathIncrease\": 35.0, \"positiveRate\": 0.027, \"state\": \"New York\", \"sma7d\": 30.429}, {\"date\": \"2020-11-21T00:00:00\", \"totalTestResultsIncrease\": 207907.0, \"positiveIncrease\": 5972.0, \"death\": 26326.0, \"deathIncrease\": 34.0, \"positiveRate\": 0.029, \"state\": \"New York\", \"sma7d\": 31.857}, {\"date\": \"2020-11-22T00:00:00\", \"totalTestResultsIncrease\": 196610.0, \"positiveIncrease\": 5392.0, \"death\": 26357.0, \"deathIncrease\": 31.0, \"positiveRate\": 0.027, \"state\": \"New York\", \"sma7d\": 32.0}, {\"date\": \"2020-11-23T00:00:00\", \"totalTestResultsIncrease\": 191489.0, \"positiveIncrease\": 5906.0, \"death\": 26390.0, \"deathIncrease\": 33.0, \"positiveRate\": 0.031, \"state\": \"New York\", \"sma7d\": 33.0}, {\"date\": \"2020-11-24T00:00:00\", \"totalTestResultsIncrease\": 164761.0, \"positiveIncrease\": 4881.0, \"death\": 26441.0, \"deathIncrease\": 51.0, \"positiveRate\": 0.03, \"state\": \"New York\", \"sma7d\": 36.0}, {\"date\": \"2020-11-25T00:00:00\", \"totalTestResultsIncrease\": 173085.0, \"positiveIncrease\": 6265.0, \"death\": 26482.0, \"deathIncrease\": 41.0, \"positiveRate\": 0.036, \"state\": \"New York\", \"sma7d\": 36.714}, {\"date\": \"2020-11-26T00:00:00\", \"totalTestResultsIncrease\": 217721.0, \"positiveIncrease\": 6933.0, \"death\": 26549.0, \"deathIncrease\": 67.0, \"positiveRate\": 0.032, \"state\": \"New York\", \"sma7d\": 41.714}, {\"date\": \"2020-11-27T00:00:00\", \"totalTestResultsIncrease\": 219442.0, \"positiveIncrease\": 8176.0, \"death\": 26588.0, \"deathIncrease\": 39.0, \"positiveRate\": 0.037, \"state\": \"New York\", \"sma7d\": 42.286}, {\"date\": \"2020-11-28T00:00:00\", \"totalTestResultsIncrease\": 152355.0, \"positiveIncrease\": 6063.0, \"death\": 26632.0, \"deathIncrease\": 44.0, \"positiveRate\": 0.04, \"state\": \"New York\", \"sma7d\": 43.714}, {\"date\": \"2020-11-29T00:00:00\", \"totalTestResultsIncrease\": 157320.0, \"positiveIncrease\": 6723.0, \"death\": 26690.0, \"deathIncrease\": 58.0, \"positiveRate\": 0.043, \"state\": \"New York\", \"sma7d\": 47.571}, {\"date\": \"2020-11-30T00:00:00\", \"totalTestResultsIncrease\": 148974.0, \"positiveIncrease\": 6819.0, \"death\": 26747.0, \"deathIncrease\": 57.0, \"positiveRate\": 0.046, \"state\": \"New York\", \"sma7d\": 51.0}, {\"date\": \"2020-12-01T00:00:00\", \"totalTestResultsIncrease\": 146675.0, \"positiveIncrease\": 7285.0, \"death\": 26816.0, \"deathIncrease\": 69.0, \"positiveRate\": 0.05, \"state\": \"New York\", \"sma7d\": 53.571}, {\"date\": \"2020-12-02T00:00:00\", \"totalTestResultsIncrease\": 193551.0, \"positiveIncrease\": 8973.0, \"death\": 26889.0, \"deathIncrease\": 73.0, \"positiveRate\": 0.046, \"state\": \"New York\", \"sma7d\": 58.143}]}}, {\"mode\": \"vega-lite\"});\n",
       "</script>"
      ],
      "text/plain": [
       "alt.LayerChart(...)"
      ]
     },
     "execution_count": 13,
     "metadata": {},
     "output_type": "execute_result"
    }
   ],
   "source": [
    "create_plot(ny, 'deathIncrease')"
   ]
  },
  {
   "cell_type": "markdown",
   "metadata": {
    "papermill": {
     "duration": 0.014964,
     "end_time": "2020-12-03T09:14:45.443631",
     "exception": false,
     "start_time": "2020-12-03T09:14:45.428667",
     "status": "completed"
    },
    "tags": []
   },
   "source": [
    "## Non Tri-State"
   ]
  },
  {
   "cell_type": "code",
   "execution_count": 14,
   "metadata": {
    "execution": {
     "iopub.execute_input": "2020-12-03T09:14:45.476220Z",
     "iopub.status.busy": "2020-12-03T09:14:45.475757Z",
     "iopub.status.idle": "2020-12-03T09:14:45.827748Z",
     "shell.execute_reply": "2020-12-03T09:14:45.827281Z"
    },
    "papermill": {
     "duration": 0.370112,
     "end_time": "2020-12-03T09:14:45.827874",
     "exception": false,
     "start_time": "2020-12-03T09:14:45.457762",
     "status": "completed"
    },
    "tags": []
   },
   "outputs": [],
   "source": [
    "non_tristate = create_df(df, lambda d: ~d['state'].isin(['CT','NJ','NY']), 'Non Tri-State')"
   ]
  },
  {
   "cell_type": "code",
   "execution_count": 15,
   "metadata": {
    "execution": {
     "iopub.execute_input": "2020-12-03T09:14:45.875158Z",
     "iopub.status.busy": "2020-12-03T09:14:45.863056Z",
     "iopub.status.idle": "2020-12-03T09:14:45.951365Z",
     "shell.execute_reply": "2020-12-03T09:14:45.951806Z"
    },
    "papermill": {
     "duration": 0.108248,
     "end_time": "2020-12-03T09:14:45.951950",
     "exception": false,
     "start_time": "2020-12-03T09:14:45.843702",
     "status": "completed"
    },
    "tags": []
   },
   "outputs": [
    {
     "data": {
      "text/html": [
       "\n",
       "<div id=\"altair-viz-a6f642dd974d45caaf933b3554e92dd5\"></div>\n",
       "<script type=\"text/javascript\">\n",
       "  (function(spec, embedOpt){\n",
       "    let outputDiv = document.currentScript.previousElementSibling;\n",
       "    if (outputDiv.id !== \"altair-viz-a6f642dd974d45caaf933b3554e92dd5\") {\n",
       "      outputDiv = document.getElementById(\"altair-viz-a6f642dd974d45caaf933b3554e92dd5\");\n",
       "    }\n",
       "    const paths = {\n",
       "      \"vega\": \"https://cdn.jsdelivr.net/npm//vega@5?noext\",\n",
       "      \"vega-lib\": \"https://cdn.jsdelivr.net/npm//vega-lib?noext\",\n",
       "      \"vega-lite\": \"https://cdn.jsdelivr.net/npm//vega-lite@4.8.1?noext\",\n",
       "      \"vega-embed\": \"https://cdn.jsdelivr.net/npm//vega-embed@6?noext\",\n",
       "    };\n",
       "\n",
       "    function loadScript(lib) {\n",
       "      return new Promise(function(resolve, reject) {\n",
       "        var s = document.createElement('script');\n",
       "        s.src = paths[lib];\n",
       "        s.async = true;\n",
       "        s.onload = () => resolve(paths[lib]);\n",
       "        s.onerror = () => reject(`Error loading script: ${paths[lib]}`);\n",
       "        document.getElementsByTagName(\"head\")[0].appendChild(s);\n",
       "      });\n",
       "    }\n",
       "\n",
       "    function showError(err) {\n",
       "      outputDiv.innerHTML = `<div class=\"error\" style=\"color:red;\">${err}</div>`;\n",
       "      throw err;\n",
       "    }\n",
       "\n",
       "    function displayChart(vegaEmbed) {\n",
       "      vegaEmbed(outputDiv, spec, embedOpt)\n",
       "        .catch(err => showError(`Javascript Error: ${err.message}<br>This usually means there's a typo in your chart specification. See the javascript console for the full traceback.`));\n",
       "    }\n",
       "\n",
       "    if(typeof define === \"function\" && define.amd) {\n",
       "      requirejs.config({paths});\n",
       "      require([\"vega-embed\"], displayChart, err => showError(`Error loading script: ${err.message}`));\n",
       "    } else if (typeof vegaEmbed === \"function\") {\n",
       "      displayChart(vegaEmbed);\n",
       "    } else {\n",
       "      loadScript(\"vega\")\n",
       "        .then(() => loadScript(\"vega-lite\"))\n",
       "        .then(() => loadScript(\"vega-embed\"))\n",
       "        .catch(showError)\n",
       "        .then(() => displayChart(vegaEmbed));\n",
       "    }\n",
       "  })({\"config\": {\"view\": {\"continuousWidth\": 400, \"continuousHeight\": 300}}, \"layer\": [{\"layer\": [{\"mark\": {\"type\": \"point\", \"size\": 75}, \"encoding\": {\"tooltip\": [{\"type\": \"temporal\", \"field\": \"date\"}, {\"type\": \"quantitative\", \"field\": \"positiveIncrease\"}, {\"type\": \"quantitative\", \"field\": \"sma7d\"}], \"x\": {\"type\": \"temporal\", \"field\": \"date\"}, \"y\": {\"type\": \"quantitative\", \"field\": \"positiveIncrease\"}}, \"selection\": {\"selector014\": {\"type\": \"interval\", \"bind\": \"scales\", \"encodings\": [\"x\", \"y\"]}}}, {\"mark\": {\"type\": \"line\", \"color\": \"purple\"}, \"encoding\": {\"x\": {\"type\": \"temporal\", \"field\": \"date\"}, \"y\": {\"type\": \"quantitative\", \"field\": \"sma7d\"}}}]}, {\"mark\": {\"type\": \"rule\", \"color\": \"#aaa\"}, \"encoding\": {\"x\": {\"type\": \"temporal\", \"field\": \"date\"}}, \"transform\": [{\"filter\": {\"selection\": \"selector013\"}}]}, {\"mark\": \"circle\", \"encoding\": {\"opacity\": {\"condition\": {\"value\": 1, \"selection\": \"selector013\"}, \"value\": 0}, \"tooltip\": [{\"type\": \"temporal\", \"field\": \"date\"}, {\"type\": \"quantitative\", \"field\": \"positiveIncrease\"}, {\"type\": \"quantitative\", \"field\": \"sma7d\"}], \"x\": {\"type\": \"temporal\", \"field\": \"date\"}, \"y\": {\"type\": \"quantitative\", \"field\": \"positiveIncrease\"}}, \"selection\": {\"selector013\": {\"type\": \"single\", \"encodings\": [\"x\"], \"on\": \"mouseover\", \"nearest\": true, \"empty\": \"none\"}}}, {\"mark\": {\"type\": \"text\", \"align\": \"left\", \"dx\": 5, \"dy\": -5, \"stroke\": \"white\", \"strokeWidth\": 2}, \"encoding\": {\"text\": {\"type\": \"quantitative\", \"field\": \"positiveIncrease\"}, \"tooltip\": [{\"type\": \"temporal\", \"field\": \"date\"}, {\"type\": \"quantitative\", \"field\": \"positiveIncrease\"}, {\"type\": \"quantitative\", \"field\": \"sma7d\"}], \"x\": {\"type\": \"temporal\", \"field\": \"date\"}, \"y\": {\"type\": \"quantitative\", \"field\": \"positiveIncrease\"}}, \"transform\": [{\"filter\": {\"selection\": \"selector013\"}}]}, {\"mark\": {\"type\": \"text\", \"align\": \"left\", \"dx\": 5, \"dy\": -5}, \"encoding\": {\"text\": {\"type\": \"quantitative\", \"field\": \"positiveIncrease\"}, \"tooltip\": [{\"type\": \"temporal\", \"field\": \"date\"}, {\"type\": \"quantitative\", \"field\": \"positiveIncrease\"}, {\"type\": \"quantitative\", \"field\": \"sma7d\"}], \"x\": {\"type\": \"temporal\", \"field\": \"date\"}, \"y\": {\"type\": \"quantitative\", \"field\": \"positiveIncrease\"}}, \"transform\": [{\"filter\": {\"selection\": \"selector013\"}}]}], \"data\": {\"name\": \"data-7e9c2530621647be55bb03d798096a93\"}, \"height\": 400, \"title\": \"Non Tri-State: positiveIncrease\", \"width\": 500, \"$schema\": \"https://vega.github.io/schema/vega-lite/v4.8.1.json\", \"datasets\": {\"data-7e9c2530621647be55bb03d798096a93\": [{\"date\": \"2020-10-09T00:00:00\", \"totalTestResultsIncrease\": 1010208.0, \"positiveIncrease\": 54057.0, \"death\": 159310.0, \"deathIncrease\": 885.0, \"positiveRate\": 0.054, \"state\": \"Non Tri-State\", \"sma7d\": 44429.286}, {\"date\": \"2020-10-10T00:00:00\", \"totalTestResultsIncrease\": 1082312.0, \"positiveIncrease\": 55103.0, \"death\": 159976.0, \"deathIncrease\": 666.0, \"positiveRate\": 0.051, \"state\": \"Non Tri-State\", \"sma7d\": 45407.857}, {\"date\": \"2020-10-11T00:00:00\", \"totalTestResultsIncrease\": 959111.0, \"positiveIncrease\": 44373.0, \"death\": 160436.0, \"deathIncrease\": 460.0, \"positiveRate\": 0.046, \"state\": \"Non Tri-State\", \"sma7d\": 46580.286}, {\"date\": \"2020-10-12T00:00:00\", \"totalTestResultsIncrease\": 810548.0, \"positiveIncrease\": 39809.0, \"death\": 160702.0, \"deathIncrease\": 266.0, \"positiveRate\": 0.049, \"state\": \"Non Tri-State\", \"sma7d\": 47201.429}, {\"date\": \"2020-10-13T00:00:00\", \"totalTestResultsIncrease\": 938371.0, \"positiveIncrease\": 45885.0, \"death\": 161381.0, \"deathIncrease\": 679.0, \"positiveRate\": 0.049, \"state\": \"Non Tri-State\", \"sma7d\": 48502.571}, {\"date\": \"2020-10-14T00:00:00\", \"totalTestResultsIncrease\": 860456.0, \"positiveIncrease\": 53796.0, \"death\": 162168.0, \"deathIncrease\": 787.0, \"positiveRate\": 0.063, \"state\": \"Non Tri-State\", \"sma7d\": 49244.286}, {\"date\": \"2020-10-15T00:00:00\", \"totalTestResultsIncrease\": 926832.0, \"positiveIncrease\": 60793.0, \"death\": 163076.0, \"deathIncrease\": 908.0, \"positiveRate\": 0.066, \"state\": \"Non Tri-State\", \"sma7d\": 50545.143}, {\"date\": \"2020-10-16T00:00:00\", \"totalTestResultsIncrease\": 1030783.0, \"positiveIncrease\": 64926.0, \"death\": 163956.0, \"deathIncrease\": 880.0, \"positiveRate\": 0.063, \"state\": \"Non Tri-State\", \"sma7d\": 52097.857}, {\"date\": \"2020-10-17T00:00:00\", \"totalTestResultsIncrease\": 1104360.0, \"positiveIncrease\": 54612.0, \"death\": 164718.0, \"deathIncrease\": 762.0, \"positiveRate\": 0.049, \"state\": \"Non Tri-State\", \"sma7d\": 52027.714}, {\"date\": \"2020-10-18T00:00:00\", \"totalTestResultsIncrease\": 921635.0, \"positiveIncrease\": 45616.0, \"death\": 165106.0, \"deathIncrease\": 388.0, \"positiveRate\": 0.049, \"state\": \"Non Tri-State\", \"sma7d\": 52205.286}, {\"date\": \"2020-10-19T00:00:00\", \"totalTestResultsIncrease\": 900113.0, \"positiveIncrease\": 53732.0, \"death\": 165532.0, \"deathIncrease\": 426.0, \"positiveRate\": 0.06, \"state\": \"Non Tri-State\", \"sma7d\": 54194.286}, {\"date\": \"2020-10-20T00:00:00\", \"totalTestResultsIncrease\": 829947.0, \"positiveIncrease\": 57934.0, \"death\": 166338.0, \"deathIncrease\": 806.0, \"positiveRate\": 0.07, \"state\": \"Non Tri-State\", \"sma7d\": 55915.571}, {\"date\": \"2020-10-21T00:00:00\", \"totalTestResultsIncrease\": 772311.0, \"positiveIncrease\": 57482.0, \"death\": 167324.0, \"deathIncrease\": 986.0, \"positiveRate\": 0.074, \"state\": \"Non Tri-State\", \"sma7d\": 56442.143}, {\"date\": \"2020-10-22T00:00:00\", \"totalTestResultsIncrease\": 1038766.0, \"positiveIncrease\": 69564.0, \"death\": 168415.0, \"deathIncrease\": 1091.0, \"positiveRate\": 0.067, \"state\": \"Non Tri-State\", \"sma7d\": 57695.143}, {\"date\": \"2020-10-23T00:00:00\", \"totalTestResultsIncrease\": 1177811.0, \"positiveIncrease\": 78970.0, \"death\": 169320.0, \"deathIncrease\": 905.0, \"positiveRate\": 0.067, \"state\": \"Non Tri-State\", \"sma7d\": 59701.429}, {\"date\": \"2020-10-24T00:00:00\", \"totalTestResultsIncrease\": 1164527.0, \"positiveIncrease\": 79319.0, \"death\": 170189.0, \"deathIncrease\": 869.0, \"positiveRate\": 0.068, \"state\": \"Non Tri-State\", \"sma7d\": 63231.0}, {\"date\": \"2020-10-25T00:00:00\", \"totalTestResultsIncrease\": 1021393.0, \"positiveIncrease\": 62111.0, \"death\": 170555.0, \"deathIncrease\": 366.0, \"positiveRate\": 0.061, \"state\": \"Non Tri-State\", \"sma7d\": 65587.429}, {\"date\": \"2020-10-26T00:00:00\", \"totalTestResultsIncrease\": 967403.0, \"positiveIncrease\": 58093.0, \"death\": 170926.0, \"deathIncrease\": 371.0, \"positiveRate\": 0.06, \"state\": \"Non Tri-State\", \"sma7d\": 66210.429}, {\"date\": \"2020-10-27T00:00:00\", \"totalTestResultsIncrease\": 916869.0, \"positiveIncrease\": 67887.0, \"death\": 171809.0, \"deathIncrease\": 883.0, \"positiveRate\": 0.074, \"state\": \"Non Tri-State\", \"sma7d\": 67632.286}, {\"date\": \"2020-10-28T00:00:00\", \"totalTestResultsIncrease\": 913354.0, \"positiveIncrease\": 74570.0, \"death\": 172811.0, \"deathIncrease\": 1002.0, \"positiveRate\": 0.082, \"state\": \"Non Tri-State\", \"sma7d\": 70073.429}, {\"date\": \"2020-10-29T00:00:00\", \"totalTestResultsIncrease\": 1092999.0, \"positiveIncrease\": 83358.0, \"death\": 173816.0, \"deathIncrease\": 1005.0, \"positiveRate\": 0.076, \"state\": \"Non Tri-State\", \"sma7d\": 72044.0}, {\"date\": \"2020-10-30T00:00:00\", \"totalTestResultsIncrease\": 1184071.0, \"positiveIncrease\": 92249.0, \"death\": 174737.0, \"deathIncrease\": 921.0, \"positiveRate\": 0.078, \"state\": \"Non Tri-State\", \"sma7d\": 73941.0}, {\"date\": \"2020-10-31T00:00:00\", \"totalTestResultsIncrease\": 1171569.0, \"positiveIncrease\": 87168.0, \"death\": 175686.0, \"deathIncrease\": 949.0, \"positiveRate\": 0.074, \"state\": \"Non Tri-State\", \"sma7d\": 75062.286}, {\"date\": \"2020-11-01T00:00:00\", \"totalTestResultsIncrease\": 977189.0, \"positiveIncrease\": 69857.0, \"death\": 176060.0, \"deathIncrease\": 374.0, \"positiveRate\": 0.071, \"state\": \"Non Tri-State\", \"sma7d\": 76168.857}, {\"date\": \"2020-11-02T00:00:00\", \"totalTestResultsIncrease\": 1087218.0, \"positiveIncrease\": 76394.0, \"death\": 176523.0, \"deathIncrease\": 463.0, \"positiveRate\": 0.07, \"state\": \"Non Tri-State\", \"sma7d\": 78783.286}, {\"date\": \"2020-11-03T00:00:00\", \"totalTestResultsIncrease\": 956008.0, \"positiveIncrease\": 82526.0, \"death\": 178004.0, \"deathIncrease\": 1481.0, \"positiveRate\": 0.086, \"state\": \"Non Tri-State\", \"sma7d\": 80874.571}, {\"date\": \"2020-11-04T00:00:00\", \"totalTestResultsIncrease\": 1052879.0, \"positiveIncrease\": 97239.0, \"death\": 179072.0, \"deathIncrease\": 1068.0, \"positiveRate\": 0.092, \"state\": \"Non Tri-State\", \"sma7d\": 84113.0}, {\"date\": \"2020-11-05T00:00:00\", \"totalTestResultsIncrease\": 1299003.0, \"positiveIncrease\": 109787.0, \"death\": 180171.0, \"deathIncrease\": 1099.0, \"positiveRate\": 0.085, \"state\": \"Non Tri-State\", \"sma7d\": 87888.571}, {\"date\": \"2020-11-06T00:00:00\", \"totalTestResultsIncrease\": 1328164.0, \"positiveIncrease\": 119323.0, \"death\": 181298.0, \"deathIncrease\": 1127.0, \"positiveRate\": 0.09, \"state\": \"Non Tri-State\", \"sma7d\": 91756.286}, {\"date\": \"2020-11-07T00:00:00\", \"totalTestResultsIncrease\": 1149580.0, \"positiveIncrease\": 122459.0, \"death\": 182390.0, \"deathIncrease\": 1092.0, \"positiveRate\": 0.107, \"state\": \"Non Tri-State\", \"sma7d\": 96797.857}, {\"date\": \"2020-11-08T00:00:00\", \"totalTestResultsIncrease\": 1104595.0, \"positiveIncrease\": 104820.0, \"death\": 182863.0, \"deathIncrease\": 473.0, \"positiveRate\": 0.095, \"state\": \"Non Tri-State\", \"sma7d\": 101792.571}, {\"date\": \"2020-11-09T00:00:00\", \"totalTestResultsIncrease\": 1243452.0, \"positiveIncrease\": 110921.0, \"death\": 183376.0, \"deathIncrease\": 513.0, \"positiveRate\": 0.089, \"state\": \"Non Tri-State\", \"sma7d\": 106725.0}, {\"date\": \"2020-11-10T00:00:00\", \"totalTestResultsIncrease\": 1097420.0, \"positiveIncrease\": 121958.0, \"death\": 184674.0, \"deathIncrease\": 1298.0, \"positiveRate\": 0.111, \"state\": \"Non Tri-State\", \"sma7d\": 112358.143}, {\"date\": \"2020-11-11T00:00:00\", \"totalTestResultsIncrease\": 1172567.0, \"positiveIncrease\": 135214.0, \"death\": 186192.0, \"deathIncrease\": 1518.0, \"positiveRate\": 0.115, \"state\": \"Non Tri-State\", \"sma7d\": 117783.143}, {\"date\": \"2020-11-12T00:00:00\", \"totalTestResultsIncrease\": 1249202.0, \"positiveIncrease\": 142543.0, \"death\": 187253.0, \"deathIncrease\": 1061.0, \"positiveRate\": 0.114, \"state\": \"Non Tri-State\", \"sma7d\": 122462.571}, {\"date\": \"2020-11-13T00:00:00\", \"totalTestResultsIncrease\": 1406406.0, \"positiveIncrease\": 160568.0, \"death\": 188459.0, \"deathIncrease\": 1206.0, \"positiveRate\": 0.114, \"state\": \"Non Tri-State\", \"sma7d\": 128354.714}, {\"date\": \"2020-11-14T00:00:00\", \"totalTestResultsIncrease\": 1436212.0, \"positiveIncrease\": 153743.0, \"death\": 189740.0, \"deathIncrease\": 1281.0, \"positiveRate\": 0.107, \"state\": \"Non Tri-State\", \"sma7d\": 132823.857}, {\"date\": \"2020-11-15T00:00:00\", \"totalTestResultsIncrease\": 1353853.0, \"positiveIncrease\": 136325.0, \"death\": 190379.0, \"deathIncrease\": 639.0, \"positiveRate\": 0.101, \"state\": \"Non Tri-State\", \"sma7d\": 137324.571}, {\"date\": \"2020-11-16T00:00:00\", \"totalTestResultsIncrease\": 1273402.0, \"positiveIncrease\": 138507.0, \"death\": 190936.0, \"deathIncrease\": 557.0, \"positiveRate\": 0.109, \"state\": \"Non Tri-State\", \"sma7d\": 141265.429}, {\"date\": \"2020-11-17T00:00:00\", \"totalTestResultsIncrease\": 1285207.0, \"positiveIncrease\": 145864.0, \"death\": 192411.0, \"deathIncrease\": 1475.0, \"positiveRate\": 0.113, \"state\": \"Non Tri-State\", \"sma7d\": 144680.571}, {\"date\": \"2020-11-18T00:00:00\", \"totalTestResultsIncrease\": 1258934.0, \"positiveIncrease\": 152691.0, \"death\": 194189.0, \"deathIncrease\": 1778.0, \"positiveRate\": 0.121, \"state\": \"Non Tri-State\", \"sma7d\": 147177.286}, {\"date\": \"2020-11-19T00:00:00\", \"totalTestResultsIncrease\": 1585002.0, \"positiveIncrease\": 170982.0, \"death\": 196069.0, \"deathIncrease\": 1880.0, \"positiveRate\": 0.108, \"state\": \"Non Tri-State\", \"sma7d\": 151240.0}, {\"date\": \"2020-11-20T00:00:00\", \"totalTestResultsIncrease\": 1634788.0, \"positiveIncrease\": 181562.0, \"death\": 197872.0, \"deathIncrease\": 1803.0, \"positiveRate\": 0.111, \"state\": \"Non Tri-State\", \"sma7d\": 154239.143}, {\"date\": \"2020-11-21T00:00:00\", \"totalTestResultsIncrease\": 1746688.0, \"positiveIncrease\": 169074.0, \"death\": 199316.0, \"deathIncrease\": 1444.0, \"positiveRate\": 0.097, \"state\": \"Non Tri-State\", \"sma7d\": 156429.286}, {\"date\": \"2020-11-22T00:00:00\", \"totalTestResultsIncrease\": 1494071.0, \"positiveIncrease\": 141461.0, \"death\": 200168.0, \"deathIncrease\": 852.0, \"positiveRate\": 0.095, \"state\": \"Non Tri-State\", \"sma7d\": 157163.0}, {\"date\": \"2020-11-23T00:00:00\", \"totalTestResultsIncrease\": 1403525.0, \"positiveIncrease\": 136182.0, \"death\": 201036.0, \"deathIncrease\": 868.0, \"positiveRate\": 0.097, \"state\": \"Non Tri-State\", \"sma7d\": 156830.857}, {\"date\": \"2020-11-24T00:00:00\", \"totalTestResultsIncrease\": 1561957.0, \"positiveIncrease\": 157361.0, \"death\": 202994.0, \"deathIncrease\": 1958.0, \"positiveRate\": 0.101, \"state\": \"Non Tri-State\", \"sma7d\": 158473.286}, {\"date\": \"2020-11-25T00:00:00\", \"totalTestResultsIncrease\": 1414477.0, \"positiveIncrease\": 171436.0, \"death\": 205130.0, \"deathIncrease\": 2136.0, \"positiveRate\": 0.121, \"state\": \"Non Tri-State\", \"sma7d\": 161151.143}, {\"date\": \"2020-11-26T00:00:00\", \"totalTestResultsIncrease\": 948001.0, \"positiveIncrease\": 114947.0, \"death\": 206360.0, \"deathIncrease\": 1230.0, \"positiveRate\": 0.121, \"state\": \"Non Tri-State\", \"sma7d\": 153146.143}, {\"date\": \"2020-11-27T00:00:00\", \"totalTestResultsIncrease\": 1831247.0, \"positiveIncrease\": 177967.0, \"death\": 207641.0, \"deathIncrease\": 1281.0, \"positiveRate\": 0.097, \"state\": \"Non Tri-State\", \"sma7d\": 152632.571}, {\"date\": \"2020-11-28T00:00:00\", \"totalTestResultsIncrease\": 1449534.0, \"positiveIncrease\": 144686.0, \"death\": 208819.0, \"deathIncrease\": 1178.0, \"positiveRate\": 0.1, \"state\": \"Non Tri-State\", \"sma7d\": 149148.571}, {\"date\": \"2020-11-29T00:00:00\", \"totalTestResultsIncrease\": 1128811.0, \"positiveIncrease\": 124680.0, \"death\": 209551.0, \"deathIncrease\": 732.0, \"positiveRate\": 0.11, \"state\": \"Non Tri-State\", \"sma7d\": 146751.286}, {\"date\": \"2020-11-30T00:00:00\", \"totalTestResultsIncrease\": 1208369.0, \"positiveIncrease\": 132860.0, \"death\": 210556.0, \"deathIncrease\": 1005.0, \"positiveRate\": 0.11, \"state\": \"Non Tri-State\", \"sma7d\": 146276.714}, {\"date\": \"2020-12-01T00:00:00\", \"totalTestResultsIncrease\": 1204711.0, \"positiveIncrease\": 163435.0, \"death\": 212850.0, \"deathIncrease\": 2294.0, \"positiveRate\": 0.136, \"state\": \"Non Tri-State\", \"sma7d\": 147144.429}, {\"date\": \"2020-12-02T00:00:00\", \"totalTestResultsIncrease\": 1167517.0, \"positiveIncrease\": 179754.0, \"death\": 215397.0, \"deathIncrease\": 2547.0, \"positiveRate\": 0.154, \"state\": \"Non Tri-State\", \"sma7d\": 148332.714}]}}, {\"mode\": \"vega-lite\"});\n",
       "</script>"
      ],
      "text/plain": [
       "alt.LayerChart(...)"
      ]
     },
     "execution_count": 15,
     "metadata": {},
     "output_type": "execute_result"
    }
   ],
   "source": [
    "create_plot(non_tristate, 'positiveIncrease')"
   ]
  },
  {
   "cell_type": "code",
   "execution_count": 16,
   "metadata": {
    "execution": {
     "iopub.execute_input": "2020-12-03T09:14:46.000826Z",
     "iopub.status.busy": "2020-12-03T09:14:45.993997Z",
     "iopub.status.idle": "2020-12-03T09:14:46.074103Z",
     "shell.execute_reply": "2020-12-03T09:14:46.074789Z"
    },
    "papermill": {
     "duration": 0.106327,
     "end_time": "2020-12-03T09:14:46.074929",
     "exception": false,
     "start_time": "2020-12-03T09:14:45.968602",
     "status": "completed"
    },
    "tags": []
   },
   "outputs": [
    {
     "data": {
      "text/html": [
       "\n",
       "<div id=\"altair-viz-aa0093fc60df47f98dccea1b86ee83fb\"></div>\n",
       "<script type=\"text/javascript\">\n",
       "  (function(spec, embedOpt){\n",
       "    let outputDiv = document.currentScript.previousElementSibling;\n",
       "    if (outputDiv.id !== \"altair-viz-aa0093fc60df47f98dccea1b86ee83fb\") {\n",
       "      outputDiv = document.getElementById(\"altair-viz-aa0093fc60df47f98dccea1b86ee83fb\");\n",
       "    }\n",
       "    const paths = {\n",
       "      \"vega\": \"https://cdn.jsdelivr.net/npm//vega@5?noext\",\n",
       "      \"vega-lib\": \"https://cdn.jsdelivr.net/npm//vega-lib?noext\",\n",
       "      \"vega-lite\": \"https://cdn.jsdelivr.net/npm//vega-lite@4.8.1?noext\",\n",
       "      \"vega-embed\": \"https://cdn.jsdelivr.net/npm//vega-embed@6?noext\",\n",
       "    };\n",
       "\n",
       "    function loadScript(lib) {\n",
       "      return new Promise(function(resolve, reject) {\n",
       "        var s = document.createElement('script');\n",
       "        s.src = paths[lib];\n",
       "        s.async = true;\n",
       "        s.onload = () => resolve(paths[lib]);\n",
       "        s.onerror = () => reject(`Error loading script: ${paths[lib]}`);\n",
       "        document.getElementsByTagName(\"head\")[0].appendChild(s);\n",
       "      });\n",
       "    }\n",
       "\n",
       "    function showError(err) {\n",
       "      outputDiv.innerHTML = `<div class=\"error\" style=\"color:red;\">${err}</div>`;\n",
       "      throw err;\n",
       "    }\n",
       "\n",
       "    function displayChart(vegaEmbed) {\n",
       "      vegaEmbed(outputDiv, spec, embedOpt)\n",
       "        .catch(err => showError(`Javascript Error: ${err.message}<br>This usually means there's a typo in your chart specification. See the javascript console for the full traceback.`));\n",
       "    }\n",
       "\n",
       "    if(typeof define === \"function\" && define.amd) {\n",
       "      requirejs.config({paths});\n",
       "      require([\"vega-embed\"], displayChart, err => showError(`Error loading script: ${err.message}`));\n",
       "    } else if (typeof vegaEmbed === \"function\") {\n",
       "      displayChart(vegaEmbed);\n",
       "    } else {\n",
       "      loadScript(\"vega\")\n",
       "        .then(() => loadScript(\"vega-lite\"))\n",
       "        .then(() => loadScript(\"vega-embed\"))\n",
       "        .catch(showError)\n",
       "        .then(() => displayChart(vegaEmbed));\n",
       "    }\n",
       "  })({\"config\": {\"view\": {\"continuousWidth\": 400, \"continuousHeight\": 300}}, \"layer\": [{\"layer\": [{\"mark\": {\"type\": \"point\", \"size\": 75}, \"encoding\": {\"tooltip\": [{\"type\": \"temporal\", \"field\": \"date\"}, {\"type\": \"quantitative\", \"field\": \"positiveRate\"}, {\"type\": \"quantitative\", \"field\": \"sma7d\"}], \"x\": {\"type\": \"temporal\", \"field\": \"date\"}, \"y\": {\"type\": \"quantitative\", \"field\": \"positiveRate\"}}, \"selection\": {\"selector016\": {\"type\": \"interval\", \"bind\": \"scales\", \"encodings\": [\"x\", \"y\"]}}}, {\"mark\": {\"type\": \"line\", \"color\": \"purple\"}, \"encoding\": {\"x\": {\"type\": \"temporal\", \"field\": \"date\"}, \"y\": {\"type\": \"quantitative\", \"field\": \"sma7d\"}}}]}, {\"mark\": {\"type\": \"rule\", \"color\": \"#aaa\"}, \"encoding\": {\"x\": {\"type\": \"temporal\", \"field\": \"date\"}}, \"transform\": [{\"filter\": {\"selection\": \"selector015\"}}]}, {\"mark\": \"circle\", \"encoding\": {\"opacity\": {\"condition\": {\"value\": 1, \"selection\": \"selector015\"}, \"value\": 0}, \"tooltip\": [{\"type\": \"temporal\", \"field\": \"date\"}, {\"type\": \"quantitative\", \"field\": \"positiveRate\"}, {\"type\": \"quantitative\", \"field\": \"sma7d\"}], \"x\": {\"type\": \"temporal\", \"field\": \"date\"}, \"y\": {\"type\": \"quantitative\", \"field\": \"positiveRate\"}}, \"selection\": {\"selector015\": {\"type\": \"single\", \"encodings\": [\"x\"], \"on\": \"mouseover\", \"nearest\": true, \"empty\": \"none\"}}}, {\"mark\": {\"type\": \"text\", \"align\": \"left\", \"dx\": 5, \"dy\": -5, \"stroke\": \"white\", \"strokeWidth\": 2}, \"encoding\": {\"text\": {\"type\": \"quantitative\", \"field\": \"positiveRate\"}, \"tooltip\": [{\"type\": \"temporal\", \"field\": \"date\"}, {\"type\": \"quantitative\", \"field\": \"positiveRate\"}, {\"type\": \"quantitative\", \"field\": \"sma7d\"}], \"x\": {\"type\": \"temporal\", \"field\": \"date\"}, \"y\": {\"type\": \"quantitative\", \"field\": \"positiveRate\"}}, \"transform\": [{\"filter\": {\"selection\": \"selector015\"}}]}, {\"mark\": {\"type\": \"text\", \"align\": \"left\", \"dx\": 5, \"dy\": -5}, \"encoding\": {\"text\": {\"type\": \"quantitative\", \"field\": \"positiveRate\"}, \"tooltip\": [{\"type\": \"temporal\", \"field\": \"date\"}, {\"type\": \"quantitative\", \"field\": \"positiveRate\"}, {\"type\": \"quantitative\", \"field\": \"sma7d\"}], \"x\": {\"type\": \"temporal\", \"field\": \"date\"}, \"y\": {\"type\": \"quantitative\", \"field\": \"positiveRate\"}}, \"transform\": [{\"filter\": {\"selection\": \"selector015\"}}]}], \"data\": {\"name\": \"data-74aaca858226b1ba57d6b45db32ab01a\"}, \"height\": 400, \"title\": \"Non Tri-State: positiveRate\", \"width\": 500, \"$schema\": \"https://vega.github.io/schema/vega-lite/v4.8.1.json\", \"datasets\": {\"data-74aaca858226b1ba57d6b45db32ab01a\": [{\"date\": \"2020-10-09T00:00:00\", \"totalTestResultsIncrease\": 1010208.0, \"positiveIncrease\": 54057.0, \"death\": 159310.0, \"deathIncrease\": 885.0, \"positiveRate\": 0.054, \"state\": \"Non Tri-State\", \"sma7d\": 0.05}, {\"date\": \"2020-10-10T00:00:00\", \"totalTestResultsIncrease\": 1082312.0, \"positiveIncrease\": 55103.0, \"death\": 159976.0, \"deathIncrease\": 666.0, \"positiveRate\": 0.051, \"state\": \"Non Tri-State\", \"sma7d\": 0.05}, {\"date\": \"2020-10-11T00:00:00\", \"totalTestResultsIncrease\": 959111.0, \"positiveIncrease\": 44373.0, \"death\": 160436.0, \"deathIncrease\": 460.0, \"positiveRate\": 0.046, \"state\": \"Non Tri-State\", \"sma7d\": 0.05}, {\"date\": \"2020-10-12T00:00:00\", \"totalTestResultsIncrease\": 810548.0, \"positiveIncrease\": 39809.0, \"death\": 160702.0, \"deathIncrease\": 266.0, \"positiveRate\": 0.049, \"state\": \"Non Tri-State\", \"sma7d\": 0.051}, {\"date\": \"2020-10-13T00:00:00\", \"totalTestResultsIncrease\": 938371.0, \"positiveIncrease\": 45885.0, \"death\": 161381.0, \"deathIncrease\": 679.0, \"positiveRate\": 0.049, \"state\": \"Non Tri-State\", \"sma7d\": 0.052}, {\"date\": \"2020-10-14T00:00:00\", \"totalTestResultsIncrease\": 860456.0, \"positiveIncrease\": 53796.0, \"death\": 162168.0, \"deathIncrease\": 787.0, \"positiveRate\": 0.063, \"state\": \"Non Tri-State\", \"sma7d\": 0.053}, {\"date\": \"2020-10-15T00:00:00\", \"totalTestResultsIncrease\": 926832.0, \"positiveIncrease\": 60793.0, \"death\": 163076.0, \"deathIncrease\": 908.0, \"positiveRate\": 0.066, \"state\": \"Non Tri-State\", \"sma7d\": 0.054}, {\"date\": \"2020-10-16T00:00:00\", \"totalTestResultsIncrease\": 1030783.0, \"positiveIncrease\": 64926.0, \"death\": 163956.0, \"deathIncrease\": 880.0, \"positiveRate\": 0.063, \"state\": \"Non Tri-State\", \"sma7d\": 0.055}, {\"date\": \"2020-10-17T00:00:00\", \"totalTestResultsIncrease\": 1104360.0, \"positiveIncrease\": 54612.0, \"death\": 164718.0, \"deathIncrease\": 762.0, \"positiveRate\": 0.049, \"state\": \"Non Tri-State\", \"sma7d\": 0.055}, {\"date\": \"2020-10-18T00:00:00\", \"totalTestResultsIncrease\": 921635.0, \"positiveIncrease\": 45616.0, \"death\": 165106.0, \"deathIncrease\": 388.0, \"positiveRate\": 0.049, \"state\": \"Non Tri-State\", \"sma7d\": 0.055}, {\"date\": \"2020-10-19T00:00:00\", \"totalTestResultsIncrease\": 900113.0, \"positiveIncrease\": 53732.0, \"death\": 165532.0, \"deathIncrease\": 426.0, \"positiveRate\": 0.06, \"state\": \"Non Tri-State\", \"sma7d\": 0.057}, {\"date\": \"2020-10-20T00:00:00\", \"totalTestResultsIncrease\": 829947.0, \"positiveIncrease\": 57934.0, \"death\": 166338.0, \"deathIncrease\": 806.0, \"positiveRate\": 0.07, \"state\": \"Non Tri-State\", \"sma7d\": 0.06}, {\"date\": \"2020-10-21T00:00:00\", \"totalTestResultsIncrease\": 772311.0, \"positiveIncrease\": 57482.0, \"death\": 167324.0, \"deathIncrease\": 986.0, \"positiveRate\": 0.074, \"state\": \"Non Tri-State\", \"sma7d\": 0.062}, {\"date\": \"2020-10-22T00:00:00\", \"totalTestResultsIncrease\": 1038766.0, \"positiveIncrease\": 69564.0, \"death\": 168415.0, \"deathIncrease\": 1091.0, \"positiveRate\": 0.067, \"state\": \"Non Tri-State\", \"sma7d\": 0.062}, {\"date\": \"2020-10-23T00:00:00\", \"totalTestResultsIncrease\": 1177811.0, \"positiveIncrease\": 78970.0, \"death\": 169320.0, \"deathIncrease\": 905.0, \"positiveRate\": 0.067, \"state\": \"Non Tri-State\", \"sma7d\": 0.062}, {\"date\": \"2020-10-24T00:00:00\", \"totalTestResultsIncrease\": 1164527.0, \"positiveIncrease\": 79319.0, \"death\": 170189.0, \"deathIncrease\": 869.0, \"positiveRate\": 0.068, \"state\": \"Non Tri-State\", \"sma7d\": 0.065}, {\"date\": \"2020-10-25T00:00:00\", \"totalTestResultsIncrease\": 1021393.0, \"positiveIncrease\": 62111.0, \"death\": 170555.0, \"deathIncrease\": 366.0, \"positiveRate\": 0.061, \"state\": \"Non Tri-State\", \"sma7d\": 0.067}, {\"date\": \"2020-10-26T00:00:00\", \"totalTestResultsIncrease\": 967403.0, \"positiveIncrease\": 58093.0, \"death\": 170926.0, \"deathIncrease\": 371.0, \"positiveRate\": 0.06, \"state\": \"Non Tri-State\", \"sma7d\": 0.067}, {\"date\": \"2020-10-27T00:00:00\", \"totalTestResultsIncrease\": 916869.0, \"positiveIncrease\": 67887.0, \"death\": 171809.0, \"deathIncrease\": 883.0, \"positiveRate\": 0.074, \"state\": \"Non Tri-State\", \"sma7d\": 0.067}, {\"date\": \"2020-10-28T00:00:00\", \"totalTestResultsIncrease\": 913354.0, \"positiveIncrease\": 74570.0, \"death\": 172811.0, \"deathIncrease\": 1002.0, \"positiveRate\": 0.082, \"state\": \"Non Tri-State\", \"sma7d\": 0.068}, {\"date\": \"2020-10-29T00:00:00\", \"totalTestResultsIncrease\": 1092999.0, \"positiveIncrease\": 83358.0, \"death\": 173816.0, \"deathIncrease\": 1005.0, \"positiveRate\": 0.076, \"state\": \"Non Tri-State\", \"sma7d\": 0.07}, {\"date\": \"2020-10-30T00:00:00\", \"totalTestResultsIncrease\": 1184071.0, \"positiveIncrease\": 92249.0, \"death\": 174737.0, \"deathIncrease\": 921.0, \"positiveRate\": 0.078, \"state\": \"Non Tri-State\", \"sma7d\": 0.071}, {\"date\": \"2020-10-31T00:00:00\", \"totalTestResultsIncrease\": 1171569.0, \"positiveIncrease\": 87168.0, \"death\": 175686.0, \"deathIncrease\": 949.0, \"positiveRate\": 0.074, \"state\": \"Non Tri-State\", \"sma7d\": 0.072}, {\"date\": \"2020-11-01T00:00:00\", \"totalTestResultsIncrease\": 977189.0, \"positiveIncrease\": 69857.0, \"death\": 176060.0, \"deathIncrease\": 374.0, \"positiveRate\": 0.071, \"state\": \"Non Tri-State\", \"sma7d\": 0.074}, {\"date\": \"2020-11-02T00:00:00\", \"totalTestResultsIncrease\": 1087218.0, \"positiveIncrease\": 76394.0, \"death\": 176523.0, \"deathIncrease\": 463.0, \"positiveRate\": 0.07, \"state\": \"Non Tri-State\", \"sma7d\": 0.075}, {\"date\": \"2020-11-03T00:00:00\", \"totalTestResultsIncrease\": 956008.0, \"positiveIncrease\": 82526.0, \"death\": 178004.0, \"deathIncrease\": 1481.0, \"positiveRate\": 0.086, \"state\": \"Non Tri-State\", \"sma7d\": 0.077}, {\"date\": \"2020-11-04T00:00:00\", \"totalTestResultsIncrease\": 1052879.0, \"positiveIncrease\": 97239.0, \"death\": 179072.0, \"deathIncrease\": 1068.0, \"positiveRate\": 0.092, \"state\": \"Non Tri-State\", \"sma7d\": 0.078}, {\"date\": \"2020-11-05T00:00:00\", \"totalTestResultsIncrease\": 1299003.0, \"positiveIncrease\": 109787.0, \"death\": 180171.0, \"deathIncrease\": 1099.0, \"positiveRate\": 0.085, \"state\": \"Non Tri-State\", \"sma7d\": 0.079}, {\"date\": \"2020-11-06T00:00:00\", \"totalTestResultsIncrease\": 1328164.0, \"positiveIncrease\": 119323.0, \"death\": 181298.0, \"deathIncrease\": 1127.0, \"positiveRate\": 0.09, \"state\": \"Non Tri-State\", \"sma7d\": 0.081}, {\"date\": \"2020-11-07T00:00:00\", \"totalTestResultsIncrease\": 1149580.0, \"positiveIncrease\": 122459.0, \"death\": 182390.0, \"deathIncrease\": 1092.0, \"positiveRate\": 0.107, \"state\": \"Non Tri-State\", \"sma7d\": 0.086}, {\"date\": \"2020-11-08T00:00:00\", \"totalTestResultsIncrease\": 1104595.0, \"positiveIncrease\": 104820.0, \"death\": 182863.0, \"deathIncrease\": 473.0, \"positiveRate\": 0.095, \"state\": \"Non Tri-State\", \"sma7d\": 0.089}, {\"date\": \"2020-11-09T00:00:00\", \"totalTestResultsIncrease\": 1243452.0, \"positiveIncrease\": 110921.0, \"death\": 183376.0, \"deathIncrease\": 513.0, \"positiveRate\": 0.089, \"state\": \"Non Tri-State\", \"sma7d\": 0.092}, {\"date\": \"2020-11-10T00:00:00\", \"totalTestResultsIncrease\": 1097420.0, \"positiveIncrease\": 121958.0, \"death\": 184674.0, \"deathIncrease\": 1298.0, \"positiveRate\": 0.111, \"state\": \"Non Tri-State\", \"sma7d\": 0.096}, {\"date\": \"2020-11-11T00:00:00\", \"totalTestResultsIncrease\": 1172567.0, \"positiveIncrease\": 135214.0, \"death\": 186192.0, \"deathIncrease\": 1518.0, \"positiveRate\": 0.115, \"state\": \"Non Tri-State\", \"sma7d\": 0.099}, {\"date\": \"2020-11-12T00:00:00\", \"totalTestResultsIncrease\": 1249202.0, \"positiveIncrease\": 142543.0, \"death\": 187253.0, \"deathIncrease\": 1061.0, \"positiveRate\": 0.114, \"state\": \"Non Tri-State\", \"sma7d\": 0.103}, {\"date\": \"2020-11-13T00:00:00\", \"totalTestResultsIncrease\": 1406406.0, \"positiveIncrease\": 160568.0, \"death\": 188459.0, \"deathIncrease\": 1206.0, \"positiveRate\": 0.114, \"state\": \"Non Tri-State\", \"sma7d\": 0.106}, {\"date\": \"2020-11-14T00:00:00\", \"totalTestResultsIncrease\": 1436212.0, \"positiveIncrease\": 153743.0, \"death\": 189740.0, \"deathIncrease\": 1281.0, \"positiveRate\": 0.107, \"state\": \"Non Tri-State\", \"sma7d\": 0.106}, {\"date\": \"2020-11-15T00:00:00\", \"totalTestResultsIncrease\": 1353853.0, \"positiveIncrease\": 136325.0, \"death\": 190379.0, \"deathIncrease\": 639.0, \"positiveRate\": 0.101, \"state\": \"Non Tri-State\", \"sma7d\": 0.107}, {\"date\": \"2020-11-16T00:00:00\", \"totalTestResultsIncrease\": 1273402.0, \"positiveIncrease\": 138507.0, \"death\": 190936.0, \"deathIncrease\": 557.0, \"positiveRate\": 0.109, \"state\": \"Non Tri-State\", \"sma7d\": 0.11}, {\"date\": \"2020-11-17T00:00:00\", \"totalTestResultsIncrease\": 1285207.0, \"positiveIncrease\": 145864.0, \"death\": 192411.0, \"deathIncrease\": 1475.0, \"positiveRate\": 0.113, \"state\": \"Non Tri-State\", \"sma7d\": 0.11}, {\"date\": \"2020-11-18T00:00:00\", \"totalTestResultsIncrease\": 1258934.0, \"positiveIncrease\": 152691.0, \"death\": 194189.0, \"deathIncrease\": 1778.0, \"positiveRate\": 0.121, \"state\": \"Non Tri-State\", \"sma7d\": 0.111}, {\"date\": \"2020-11-19T00:00:00\", \"totalTestResultsIncrease\": 1585002.0, \"positiveIncrease\": 170982.0, \"death\": 196069.0, \"deathIncrease\": 1880.0, \"positiveRate\": 0.108, \"state\": \"Non Tri-State\", \"sma7d\": 0.11}, {\"date\": \"2020-11-20T00:00:00\", \"totalTestResultsIncrease\": 1634788.0, \"positiveIncrease\": 181562.0, \"death\": 197872.0, \"deathIncrease\": 1803.0, \"positiveRate\": 0.111, \"state\": \"Non Tri-State\", \"sma7d\": 0.11}, {\"date\": \"2020-11-21T00:00:00\", \"totalTestResultsIncrease\": 1746688.0, \"positiveIncrease\": 169074.0, \"death\": 199316.0, \"deathIncrease\": 1444.0, \"positiveRate\": 0.097, \"state\": \"Non Tri-State\", \"sma7d\": 0.109}, {\"date\": \"2020-11-22T00:00:00\", \"totalTestResultsIncrease\": 1494071.0, \"positiveIncrease\": 141461.0, \"death\": 200168.0, \"deathIncrease\": 852.0, \"positiveRate\": 0.095, \"state\": \"Non Tri-State\", \"sma7d\": 0.108}, {\"date\": \"2020-11-23T00:00:00\", \"totalTestResultsIncrease\": 1403525.0, \"positiveIncrease\": 136182.0, \"death\": 201036.0, \"deathIncrease\": 868.0, \"positiveRate\": 0.097, \"state\": \"Non Tri-State\", \"sma7d\": 0.106}, {\"date\": \"2020-11-24T00:00:00\", \"totalTestResultsIncrease\": 1561957.0, \"positiveIncrease\": 157361.0, \"death\": 202994.0, \"deathIncrease\": 1958.0, \"positiveRate\": 0.101, \"state\": \"Non Tri-State\", \"sma7d\": 0.104}, {\"date\": \"2020-11-25T00:00:00\", \"totalTestResultsIncrease\": 1414477.0, \"positiveIncrease\": 171436.0, \"death\": 205130.0, \"deathIncrease\": 2136.0, \"positiveRate\": 0.121, \"state\": \"Non Tri-State\", \"sma7d\": 0.104}, {\"date\": \"2020-11-26T00:00:00\", \"totalTestResultsIncrease\": 948001.0, \"positiveIncrease\": 114947.0, \"death\": 206360.0, \"deathIncrease\": 1230.0, \"positiveRate\": 0.121, \"state\": \"Non Tri-State\", \"sma7d\": 0.106}, {\"date\": \"2020-11-27T00:00:00\", \"totalTestResultsIncrease\": 1831247.0, \"positiveIncrease\": 177967.0, \"death\": 207641.0, \"deathIncrease\": 1281.0, \"positiveRate\": 0.097, \"state\": \"Non Tri-State\", \"sma7d\": 0.104}, {\"date\": \"2020-11-28T00:00:00\", \"totalTestResultsIncrease\": 1449534.0, \"positiveIncrease\": 144686.0, \"death\": 208819.0, \"deathIncrease\": 1178.0, \"positiveRate\": 0.1, \"state\": \"Non Tri-State\", \"sma7d\": 0.105}, {\"date\": \"2020-11-29T00:00:00\", \"totalTestResultsIncrease\": 1128811.0, \"positiveIncrease\": 124680.0, \"death\": 209551.0, \"deathIncrease\": 732.0, \"positiveRate\": 0.11, \"state\": \"Non Tri-State\", \"sma7d\": 0.107}, {\"date\": \"2020-11-30T00:00:00\", \"totalTestResultsIncrease\": 1208369.0, \"positiveIncrease\": 132860.0, \"death\": 210556.0, \"deathIncrease\": 1005.0, \"positiveRate\": 0.11, \"state\": \"Non Tri-State\", \"sma7d\": 0.109}, {\"date\": \"2020-12-01T00:00:00\", \"totalTestResultsIncrease\": 1204711.0, \"positiveIncrease\": 163435.0, \"death\": 212850.0, \"deathIncrease\": 2294.0, \"positiveRate\": 0.136, \"state\": \"Non Tri-State\", \"sma7d\": 0.114}, {\"date\": \"2020-12-02T00:00:00\", \"totalTestResultsIncrease\": 1167517.0, \"positiveIncrease\": 179754.0, \"death\": 215397.0, \"deathIncrease\": 2547.0, \"positiveRate\": 0.154, \"state\": \"Non Tri-State\", \"sma7d\": 0.118}]}}, {\"mode\": \"vega-lite\"});\n",
       "</script>"
      ],
      "text/plain": [
       "alt.LayerChart(...)"
      ]
     },
     "execution_count": 16,
     "metadata": {},
     "output_type": "execute_result"
    }
   ],
   "source": [
    "create_plot(non_tristate, 'positiveRate')"
   ]
  },
  {
   "cell_type": "code",
   "execution_count": 17,
   "metadata": {
    "execution": {
     "iopub.execute_input": "2020-12-03T09:14:46.117257Z",
     "iopub.status.busy": "2020-12-03T09:14:46.116449Z",
     "iopub.status.idle": "2020-12-03T09:14:46.196001Z",
     "shell.execute_reply": "2020-12-03T09:14:46.196435Z"
    },
    "papermill": {
     "duration": 0.102339,
     "end_time": "2020-12-03T09:14:46.196590",
     "exception": false,
     "start_time": "2020-12-03T09:14:46.094251",
     "status": "completed"
    },
    "tags": []
   },
   "outputs": [
    {
     "data": {
      "text/html": [
       "\n",
       "<div id=\"altair-viz-2b6a795a8332466390feba5cb1125beb\"></div>\n",
       "<script type=\"text/javascript\">\n",
       "  (function(spec, embedOpt){\n",
       "    let outputDiv = document.currentScript.previousElementSibling;\n",
       "    if (outputDiv.id !== \"altair-viz-2b6a795a8332466390feba5cb1125beb\") {\n",
       "      outputDiv = document.getElementById(\"altair-viz-2b6a795a8332466390feba5cb1125beb\");\n",
       "    }\n",
       "    const paths = {\n",
       "      \"vega\": \"https://cdn.jsdelivr.net/npm//vega@5?noext\",\n",
       "      \"vega-lib\": \"https://cdn.jsdelivr.net/npm//vega-lib?noext\",\n",
       "      \"vega-lite\": \"https://cdn.jsdelivr.net/npm//vega-lite@4.8.1?noext\",\n",
       "      \"vega-embed\": \"https://cdn.jsdelivr.net/npm//vega-embed@6?noext\",\n",
       "    };\n",
       "\n",
       "    function loadScript(lib) {\n",
       "      return new Promise(function(resolve, reject) {\n",
       "        var s = document.createElement('script');\n",
       "        s.src = paths[lib];\n",
       "        s.async = true;\n",
       "        s.onload = () => resolve(paths[lib]);\n",
       "        s.onerror = () => reject(`Error loading script: ${paths[lib]}`);\n",
       "        document.getElementsByTagName(\"head\")[0].appendChild(s);\n",
       "      });\n",
       "    }\n",
       "\n",
       "    function showError(err) {\n",
       "      outputDiv.innerHTML = `<div class=\"error\" style=\"color:red;\">${err}</div>`;\n",
       "      throw err;\n",
       "    }\n",
       "\n",
       "    function displayChart(vegaEmbed) {\n",
       "      vegaEmbed(outputDiv, spec, embedOpt)\n",
       "        .catch(err => showError(`Javascript Error: ${err.message}<br>This usually means there's a typo in your chart specification. See the javascript console for the full traceback.`));\n",
       "    }\n",
       "\n",
       "    if(typeof define === \"function\" && define.amd) {\n",
       "      requirejs.config({paths});\n",
       "      require([\"vega-embed\"], displayChart, err => showError(`Error loading script: ${err.message}`));\n",
       "    } else if (typeof vegaEmbed === \"function\") {\n",
       "      displayChart(vegaEmbed);\n",
       "    } else {\n",
       "      loadScript(\"vega\")\n",
       "        .then(() => loadScript(\"vega-lite\"))\n",
       "        .then(() => loadScript(\"vega-embed\"))\n",
       "        .catch(showError)\n",
       "        .then(() => displayChart(vegaEmbed));\n",
       "    }\n",
       "  })({\"config\": {\"view\": {\"continuousWidth\": 400, \"continuousHeight\": 300}}, \"layer\": [{\"layer\": [{\"mark\": {\"type\": \"point\", \"size\": 75}, \"encoding\": {\"tooltip\": [{\"type\": \"temporal\", \"field\": \"date\"}, {\"type\": \"quantitative\", \"field\": \"deathIncrease\"}, {\"type\": \"quantitative\", \"field\": \"sma7d\"}], \"x\": {\"type\": \"temporal\", \"field\": \"date\"}, \"y\": {\"type\": \"quantitative\", \"field\": \"deathIncrease\"}}, \"selection\": {\"selector018\": {\"type\": \"interval\", \"bind\": \"scales\", \"encodings\": [\"x\", \"y\"]}}}, {\"mark\": {\"type\": \"line\", \"color\": \"purple\"}, \"encoding\": {\"x\": {\"type\": \"temporal\", \"field\": \"date\"}, \"y\": {\"type\": \"quantitative\", \"field\": \"sma7d\"}}}]}, {\"mark\": {\"type\": \"rule\", \"color\": \"#aaa\"}, \"encoding\": {\"x\": {\"type\": \"temporal\", \"field\": \"date\"}}, \"transform\": [{\"filter\": {\"selection\": \"selector017\"}}]}, {\"mark\": \"circle\", \"encoding\": {\"opacity\": {\"condition\": {\"value\": 1, \"selection\": \"selector017\"}, \"value\": 0}, \"tooltip\": [{\"type\": \"temporal\", \"field\": \"date\"}, {\"type\": \"quantitative\", \"field\": \"deathIncrease\"}, {\"type\": \"quantitative\", \"field\": \"sma7d\"}], \"x\": {\"type\": \"temporal\", \"field\": \"date\"}, \"y\": {\"type\": \"quantitative\", \"field\": \"deathIncrease\"}}, \"selection\": {\"selector017\": {\"type\": \"single\", \"encodings\": [\"x\"], \"on\": \"mouseover\", \"nearest\": true, \"empty\": \"none\"}}}, {\"mark\": {\"type\": \"text\", \"align\": \"left\", \"dx\": 5, \"dy\": -5, \"stroke\": \"white\", \"strokeWidth\": 2}, \"encoding\": {\"text\": {\"type\": \"quantitative\", \"field\": \"deathIncrease\"}, \"tooltip\": [{\"type\": \"temporal\", \"field\": \"date\"}, {\"type\": \"quantitative\", \"field\": \"deathIncrease\"}, {\"type\": \"quantitative\", \"field\": \"sma7d\"}], \"x\": {\"type\": \"temporal\", \"field\": \"date\"}, \"y\": {\"type\": \"quantitative\", \"field\": \"deathIncrease\"}}, \"transform\": [{\"filter\": {\"selection\": \"selector017\"}}]}, {\"mark\": {\"type\": \"text\", \"align\": \"left\", \"dx\": 5, \"dy\": -5}, \"encoding\": {\"text\": {\"type\": \"quantitative\", \"field\": \"deathIncrease\"}, \"tooltip\": [{\"type\": \"temporal\", \"field\": \"date\"}, {\"type\": \"quantitative\", \"field\": \"deathIncrease\"}, {\"type\": \"quantitative\", \"field\": \"sma7d\"}], \"x\": {\"type\": \"temporal\", \"field\": \"date\"}, \"y\": {\"type\": \"quantitative\", \"field\": \"deathIncrease\"}}, \"transform\": [{\"filter\": {\"selection\": \"selector017\"}}]}], \"data\": {\"name\": \"data-20b8dbdc5843b04e93b193696e96cc4f\"}, \"height\": 400, \"title\": \"Non Tri-State: deathIncrease\", \"width\": 500, \"$schema\": \"https://vega.github.io/schema/vega-lite/v4.8.1.json\", \"datasets\": {\"data-20b8dbdc5843b04e93b193696e96cc4f\": [{\"date\": \"2020-10-09T00:00:00\", \"totalTestResultsIncrease\": 1010208.0, \"positiveIncrease\": 54057.0, \"death\": 159310.0, \"deathIncrease\": 885.0, \"positiveRate\": 0.054, \"state\": \"Non Tri-State\", \"sma7d\": 679.0}, {\"date\": \"2020-10-10T00:00:00\", \"totalTestResultsIncrease\": 1082312.0, \"positiveIncrease\": 55103.0, \"death\": 159976.0, \"deathIncrease\": 666.0, \"positiveRate\": 0.051, \"state\": \"Non Tri-State\", \"sma7d\": 670.143}, {\"date\": \"2020-10-11T00:00:00\", \"totalTestResultsIncrease\": 959111.0, \"positiveIncrease\": 44373.0, \"death\": 160436.0, \"deathIncrease\": 460.0, \"positiveRate\": 0.046, \"state\": \"Non Tri-State\", \"sma7d\": 685.857}, {\"date\": \"2020-10-12T00:00:00\", \"totalTestResultsIncrease\": 810548.0, \"positiveIncrease\": 39809.0, \"death\": 160702.0, \"deathIncrease\": 266.0, \"positiveRate\": 0.049, \"state\": \"Non Tri-State\", \"sma7d\": 676.714}, {\"date\": \"2020-10-13T00:00:00\", \"totalTestResultsIncrease\": 938371.0, \"positiveIncrease\": 45885.0, \"death\": 161381.0, \"deathIncrease\": 679.0, \"positiveRate\": 0.049, \"state\": \"Non Tri-State\", \"sma7d\": 689.714}, {\"date\": \"2020-10-14T00:00:00\", \"totalTestResultsIncrease\": 860456.0, \"positiveIncrease\": 53796.0, \"death\": 162168.0, \"deathIncrease\": 787.0, \"positiveRate\": 0.063, \"state\": \"Non Tri-State\", \"sma7d\": 672.143}, {\"date\": \"2020-10-15T00:00:00\", \"totalTestResultsIncrease\": 926832.0, \"positiveIncrease\": 60793.0, \"death\": 163076.0, \"deathIncrease\": 908.0, \"positiveRate\": 0.066, \"state\": \"Non Tri-State\", \"sma7d\": 664.429}, {\"date\": \"2020-10-16T00:00:00\", \"totalTestResultsIncrease\": 1030783.0, \"positiveIncrease\": 64926.0, \"death\": 163956.0, \"deathIncrease\": 880.0, \"positiveRate\": 0.063, \"state\": \"Non Tri-State\", \"sma7d\": 663.714}, {\"date\": \"2020-10-17T00:00:00\", \"totalTestResultsIncrease\": 1104360.0, \"positiveIncrease\": 54612.0, \"death\": 164718.0, \"deathIncrease\": 762.0, \"positiveRate\": 0.049, \"state\": \"Non Tri-State\", \"sma7d\": 677.429}, {\"date\": \"2020-10-18T00:00:00\", \"totalTestResultsIncrease\": 921635.0, \"positiveIncrease\": 45616.0, \"death\": 165106.0, \"deathIncrease\": 388.0, \"positiveRate\": 0.049, \"state\": \"Non Tri-State\", \"sma7d\": 667.143}, {\"date\": \"2020-10-19T00:00:00\", \"totalTestResultsIncrease\": 900113.0, \"positiveIncrease\": 53732.0, \"death\": 165532.0, \"deathIncrease\": 426.0, \"positiveRate\": 0.06, \"state\": \"Non Tri-State\", \"sma7d\": 690.0}, {\"date\": \"2020-10-20T00:00:00\", \"totalTestResultsIncrease\": 829947.0, \"positiveIncrease\": 57934.0, \"death\": 166338.0, \"deathIncrease\": 806.0, \"positiveRate\": 0.07, \"state\": \"Non Tri-State\", \"sma7d\": 708.143}, {\"date\": \"2020-10-21T00:00:00\", \"totalTestResultsIncrease\": 772311.0, \"positiveIncrease\": 57482.0, \"death\": 167324.0, \"deathIncrease\": 986.0, \"positiveRate\": 0.074, \"state\": \"Non Tri-State\", \"sma7d\": 736.571}, {\"date\": \"2020-10-22T00:00:00\", \"totalTestResultsIncrease\": 1038766.0, \"positiveIncrease\": 69564.0, \"death\": 168415.0, \"deathIncrease\": 1091.0, \"positiveRate\": 0.067, \"state\": \"Non Tri-State\", \"sma7d\": 762.714}, {\"date\": \"2020-10-23T00:00:00\", \"totalTestResultsIncrease\": 1177811.0, \"positiveIncrease\": 78970.0, \"death\": 169320.0, \"deathIncrease\": 905.0, \"positiveRate\": 0.067, \"state\": \"Non Tri-State\", \"sma7d\": 766.286}, {\"date\": \"2020-10-24T00:00:00\", \"totalTestResultsIncrease\": 1164527.0, \"positiveIncrease\": 79319.0, \"death\": 170189.0, \"deathIncrease\": 869.0, \"positiveRate\": 0.068, \"state\": \"Non Tri-State\", \"sma7d\": 781.571}, {\"date\": \"2020-10-25T00:00:00\", \"totalTestResultsIncrease\": 1021393.0, \"positiveIncrease\": 62111.0, \"death\": 170555.0, \"deathIncrease\": 366.0, \"positiveRate\": 0.061, \"state\": \"Non Tri-State\", \"sma7d\": 778.429}, {\"date\": \"2020-10-26T00:00:00\", \"totalTestResultsIncrease\": 967403.0, \"positiveIncrease\": 58093.0, \"death\": 170926.0, \"deathIncrease\": 371.0, \"positiveRate\": 0.06, \"state\": \"Non Tri-State\", \"sma7d\": 770.571}, {\"date\": \"2020-10-27T00:00:00\", \"totalTestResultsIncrease\": 916869.0, \"positiveIncrease\": 67887.0, \"death\": 171809.0, \"deathIncrease\": 883.0, \"positiveRate\": 0.074, \"state\": \"Non Tri-State\", \"sma7d\": 781.571}, {\"date\": \"2020-10-28T00:00:00\", \"totalTestResultsIncrease\": 913354.0, \"positiveIncrease\": 74570.0, \"death\": 172811.0, \"deathIncrease\": 1002.0, \"positiveRate\": 0.082, \"state\": \"Non Tri-State\", \"sma7d\": 783.857}, {\"date\": \"2020-10-29T00:00:00\", \"totalTestResultsIncrease\": 1092999.0, \"positiveIncrease\": 83358.0, \"death\": 173816.0, \"deathIncrease\": 1005.0, \"positiveRate\": 0.076, \"state\": \"Non Tri-State\", \"sma7d\": 771.571}, {\"date\": \"2020-10-30T00:00:00\", \"totalTestResultsIncrease\": 1184071.0, \"positiveIncrease\": 92249.0, \"death\": 174737.0, \"deathIncrease\": 921.0, \"positiveRate\": 0.078, \"state\": \"Non Tri-State\", \"sma7d\": 773.857}, {\"date\": \"2020-10-31T00:00:00\", \"totalTestResultsIncrease\": 1171569.0, \"positiveIncrease\": 87168.0, \"death\": 175686.0, \"deathIncrease\": 949.0, \"positiveRate\": 0.074, \"state\": \"Non Tri-State\", \"sma7d\": 785.286}, {\"date\": \"2020-11-01T00:00:00\", \"totalTestResultsIncrease\": 977189.0, \"positiveIncrease\": 69857.0, \"death\": 176060.0, \"deathIncrease\": 374.0, \"positiveRate\": 0.071, \"state\": \"Non Tri-State\", \"sma7d\": 786.429}, {\"date\": \"2020-11-02T00:00:00\", \"totalTestResultsIncrease\": 1087218.0, \"positiveIncrease\": 76394.0, \"death\": 176523.0, \"deathIncrease\": 463.0, \"positiveRate\": 0.07, \"state\": \"Non Tri-State\", \"sma7d\": 799.571}, {\"date\": \"2020-11-03T00:00:00\", \"totalTestResultsIncrease\": 956008.0, \"positiveIncrease\": 82526.0, \"death\": 178004.0, \"deathIncrease\": 1481.0, \"positiveRate\": 0.086, \"state\": \"Non Tri-State\", \"sma7d\": 885.0}, {\"date\": \"2020-11-04T00:00:00\", \"totalTestResultsIncrease\": 1052879.0, \"positiveIncrease\": 97239.0, \"death\": 179072.0, \"deathIncrease\": 1068.0, \"positiveRate\": 0.092, \"state\": \"Non Tri-State\", \"sma7d\": 894.429}, {\"date\": \"2020-11-05T00:00:00\", \"totalTestResultsIncrease\": 1299003.0, \"positiveIncrease\": 109787.0, \"death\": 180171.0, \"deathIncrease\": 1099.0, \"positiveRate\": 0.085, \"state\": \"Non Tri-State\", \"sma7d\": 907.857}, {\"date\": \"2020-11-06T00:00:00\", \"totalTestResultsIncrease\": 1328164.0, \"positiveIncrease\": 119323.0, \"death\": 181298.0, \"deathIncrease\": 1127.0, \"positiveRate\": 0.09, \"state\": \"Non Tri-State\", \"sma7d\": 937.286}, {\"date\": \"2020-11-07T00:00:00\", \"totalTestResultsIncrease\": 1149580.0, \"positiveIncrease\": 122459.0, \"death\": 182390.0, \"deathIncrease\": 1092.0, \"positiveRate\": 0.107, \"state\": \"Non Tri-State\", \"sma7d\": 957.714}, {\"date\": \"2020-11-08T00:00:00\", \"totalTestResultsIncrease\": 1104595.0, \"positiveIncrease\": 104820.0, \"death\": 182863.0, \"deathIncrease\": 473.0, \"positiveRate\": 0.095, \"state\": \"Non Tri-State\", \"sma7d\": 971.857}, {\"date\": \"2020-11-09T00:00:00\", \"totalTestResultsIncrease\": 1243452.0, \"positiveIncrease\": 110921.0, \"death\": 183376.0, \"deathIncrease\": 513.0, \"positiveRate\": 0.089, \"state\": \"Non Tri-State\", \"sma7d\": 979.0}, {\"date\": \"2020-11-10T00:00:00\", \"totalTestResultsIncrease\": 1097420.0, \"positiveIncrease\": 121958.0, \"death\": 184674.0, \"deathIncrease\": 1298.0, \"positiveRate\": 0.111, \"state\": \"Non Tri-State\", \"sma7d\": 952.857}, {\"date\": \"2020-11-11T00:00:00\", \"totalTestResultsIncrease\": 1172567.0, \"positiveIncrease\": 135214.0, \"death\": 186192.0, \"deathIncrease\": 1518.0, \"positiveRate\": 0.115, \"state\": \"Non Tri-State\", \"sma7d\": 1017.143}, {\"date\": \"2020-11-12T00:00:00\", \"totalTestResultsIncrease\": 1249202.0, \"positiveIncrease\": 142543.0, \"death\": 187253.0, \"deathIncrease\": 1061.0, \"positiveRate\": 0.114, \"state\": \"Non Tri-State\", \"sma7d\": 1011.714}, {\"date\": \"2020-11-13T00:00:00\", \"totalTestResultsIncrease\": 1406406.0, \"positiveIncrease\": 160568.0, \"death\": 188459.0, \"deathIncrease\": 1206.0, \"positiveRate\": 0.114, \"state\": \"Non Tri-State\", \"sma7d\": 1023.0}, {\"date\": \"2020-11-14T00:00:00\", \"totalTestResultsIncrease\": 1436212.0, \"positiveIncrease\": 153743.0, \"death\": 189740.0, \"deathIncrease\": 1281.0, \"positiveRate\": 0.107, \"state\": \"Non Tri-State\", \"sma7d\": 1050.0}, {\"date\": \"2020-11-15T00:00:00\", \"totalTestResultsIncrease\": 1353853.0, \"positiveIncrease\": 136325.0, \"death\": 190379.0, \"deathIncrease\": 639.0, \"positiveRate\": 0.101, \"state\": \"Non Tri-State\", \"sma7d\": 1073.714}, {\"date\": \"2020-11-16T00:00:00\", \"totalTestResultsIncrease\": 1273402.0, \"positiveIncrease\": 138507.0, \"death\": 190936.0, \"deathIncrease\": 557.0, \"positiveRate\": 0.109, \"state\": \"Non Tri-State\", \"sma7d\": 1080.0}, {\"date\": \"2020-11-17T00:00:00\", \"totalTestResultsIncrease\": 1285207.0, \"positiveIncrease\": 145864.0, \"death\": 192411.0, \"deathIncrease\": 1475.0, \"positiveRate\": 0.113, \"state\": \"Non Tri-State\", \"sma7d\": 1105.286}, {\"date\": \"2020-11-18T00:00:00\", \"totalTestResultsIncrease\": 1258934.0, \"positiveIncrease\": 152691.0, \"death\": 194189.0, \"deathIncrease\": 1778.0, \"positiveRate\": 0.121, \"state\": \"Non Tri-State\", \"sma7d\": 1142.429}, {\"date\": \"2020-11-19T00:00:00\", \"totalTestResultsIncrease\": 1585002.0, \"positiveIncrease\": 170982.0, \"death\": 196069.0, \"deathIncrease\": 1880.0, \"positiveRate\": 0.108, \"state\": \"Non Tri-State\", \"sma7d\": 1259.429}, {\"date\": \"2020-11-20T00:00:00\", \"totalTestResultsIncrease\": 1634788.0, \"positiveIncrease\": 181562.0, \"death\": 197872.0, \"deathIncrease\": 1803.0, \"positiveRate\": 0.111, \"state\": \"Non Tri-State\", \"sma7d\": 1344.714}, {\"date\": \"2020-11-21T00:00:00\", \"totalTestResultsIncrease\": 1746688.0, \"positiveIncrease\": 169074.0, \"death\": 199316.0, \"deathIncrease\": 1444.0, \"positiveRate\": 0.097, \"state\": \"Non Tri-State\", \"sma7d\": 1368.0}, {\"date\": \"2020-11-22T00:00:00\", \"totalTestResultsIncrease\": 1494071.0, \"positiveIncrease\": 141461.0, \"death\": 200168.0, \"deathIncrease\": 852.0, \"positiveRate\": 0.095, \"state\": \"Non Tri-State\", \"sma7d\": 1398.429}, {\"date\": \"2020-11-23T00:00:00\", \"totalTestResultsIncrease\": 1403525.0, \"positiveIncrease\": 136182.0, \"death\": 201036.0, \"deathIncrease\": 868.0, \"positiveRate\": 0.097, \"state\": \"Non Tri-State\", \"sma7d\": 1442.857}, {\"date\": \"2020-11-24T00:00:00\", \"totalTestResultsIncrease\": 1561957.0, \"positiveIncrease\": 157361.0, \"death\": 202994.0, \"deathIncrease\": 1958.0, \"positiveRate\": 0.101, \"state\": \"Non Tri-State\", \"sma7d\": 1511.857}, {\"date\": \"2020-11-25T00:00:00\", \"totalTestResultsIncrease\": 1414477.0, \"positiveIncrease\": 171436.0, \"death\": 205130.0, \"deathIncrease\": 2136.0, \"positiveRate\": 0.121, \"state\": \"Non Tri-State\", \"sma7d\": 1563.0}, {\"date\": \"2020-11-26T00:00:00\", \"totalTestResultsIncrease\": 948001.0, \"positiveIncrease\": 114947.0, \"death\": 206360.0, \"deathIncrease\": 1230.0, \"positiveRate\": 0.121, \"state\": \"Non Tri-State\", \"sma7d\": 1470.143}, {\"date\": \"2020-11-27T00:00:00\", \"totalTestResultsIncrease\": 1831247.0, \"positiveIncrease\": 177967.0, \"death\": 207641.0, \"deathIncrease\": 1281.0, \"positiveRate\": 0.097, \"state\": \"Non Tri-State\", \"sma7d\": 1395.571}, {\"date\": \"2020-11-28T00:00:00\", \"totalTestResultsIncrease\": 1449534.0, \"positiveIncrease\": 144686.0, \"death\": 208819.0, \"deathIncrease\": 1178.0, \"positiveRate\": 0.1, \"state\": \"Non Tri-State\", \"sma7d\": 1357.571}, {\"date\": \"2020-11-29T00:00:00\", \"totalTestResultsIncrease\": 1128811.0, \"positiveIncrease\": 124680.0, \"death\": 209551.0, \"deathIncrease\": 732.0, \"positiveRate\": 0.11, \"state\": \"Non Tri-State\", \"sma7d\": 1340.429}, {\"date\": \"2020-11-30T00:00:00\", \"totalTestResultsIncrease\": 1208369.0, \"positiveIncrease\": 132860.0, \"death\": 210556.0, \"deathIncrease\": 1005.0, \"positiveRate\": 0.11, \"state\": \"Non Tri-State\", \"sma7d\": 1360.0}, {\"date\": \"2020-12-01T00:00:00\", \"totalTestResultsIncrease\": 1204711.0, \"positiveIncrease\": 163435.0, \"death\": 212850.0, \"deathIncrease\": 2294.0, \"positiveRate\": 0.136, \"state\": \"Non Tri-State\", \"sma7d\": 1408.0}, {\"date\": \"2020-12-02T00:00:00\", \"totalTestResultsIncrease\": 1167517.0, \"positiveIncrease\": 179754.0, \"death\": 215397.0, \"deathIncrease\": 2547.0, \"positiveRate\": 0.154, \"state\": \"Non Tri-State\", \"sma7d\": 1466.714}]}}, {\"mode\": \"vega-lite\"});\n",
       "</script>"
      ],
      "text/plain": [
       "alt.LayerChart(...)"
      ]
     },
     "execution_count": 17,
     "metadata": {},
     "output_type": "execute_result"
    }
   ],
   "source": [
    "create_plot(non_tristate, 'deathIncrease')"
   ]
  }
 ],
 "metadata": {
  "kernelspec": {
   "display_name": "Python 3",
   "language": "python",
   "name": "python3"
  },
  "language_info": {
   "codemirror_mode": {
    "name": "ipython",
    "version": 3
   },
   "file_extension": ".py",
   "mimetype": "text/x-python",
   "name": "python",
   "nbconvert_exporter": "python",
   "pygments_lexer": "ipython3",
   "version": "3.8.6"
  },
  "papermill": {
   "duration": 5.135861,
   "end_time": "2020-12-03T09:14:46.420388",
   "environment_variables": {},
   "exception": null,
   "input_path": "2020-07-19-covid-plots.ipynb",
   "output_path": "2020-07-19-covid-plots.ipynb",
   "parameters": {},
   "start_time": "2020-12-03T09:14:41.284527",
   "version": "2.1.2"
  }
 },
 "nbformat": 4,
 "nbformat_minor": 4
}