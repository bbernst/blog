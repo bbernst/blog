{
 "cells": [
  {
   "cell_type": "markdown",
   "metadata": {
    "papermill": {
     "duration": 0.011419,
     "end_time": "2020-09-25T22:33:28.320788",
     "exception": false,
     "start_time": "2020-09-25T22:33:28.309369",
     "status": "completed"
    },
    "tags": []
   },
   "source": [
    "# \"COVID-19 plots\"\n",
    "> \"Interactive plots with daily updates\"\n",
    "\n",
    "- author: bbernst\n",
    "- toc: true\n",
    "- branch: master\n",
    "- badges: true\n",
    "- comments: true\n",
    "- categories: [healthcare, covid]\n",
    "- image: images/covid_plots/covid_mask.png\n",
    "- hide: false\n",
    "- search_exclude: true"
   ]
  },
  {
   "cell_type": "markdown",
   "metadata": {
    "papermill": {
     "duration": 0.010938,
     "end_time": "2020-09-25T22:33:28.343951",
     "exception": false,
     "start_time": "2020-09-25T22:33:28.333013",
     "status": "completed"
    },
    "tags": []
   },
   "source": [
    "I wanted to make a simple COVID-19 post to accomplish two main goals:\n",
    "1. Easily see the specific plots I'm interested in\n",
    "1. Update these plots every day, automatically\n",
    "\n",
    "Enter [fastpages](https://github.com/fastai/fastpages) and [github actions](https://github.com/features/actions). I'd been meaning to set up a blog with fastpages for a while and thought this would be a good reason to try it out. The documentation was great and I was able to set up automatic updates by using https://covid19dashboards.com/ as a guide.\n",
    "\n",
    "The data for this post comes from https://covidtracking.com/, which updates by 5pm each day, and I have my dashboard update at 6:30pm. For each geography -- so far that's the US, New York, and Non Tri-State -- I look at daily positive cases, positive rate, and deaths. Be sure to hover around on each of the plots, they have helpful interactive tooltips to make reading the data more intuitive."
   ]
  },
  {
   "cell_type": "code",
   "execution_count": 1,
   "metadata": {
    "execution": {
     "iopub.execute_input": "2020-09-25T22:33:28.375547Z",
     "iopub.status.busy": "2020-09-25T22:33:28.375028Z",
     "iopub.status.idle": "2020-09-25T22:33:28.730336Z",
     "shell.execute_reply": "2020-09-25T22:33:28.729707Z"
    },
    "papermill": {
     "duration": 0.375856,
     "end_time": "2020-09-25T22:33:28.730508",
     "exception": false,
     "start_time": "2020-09-25T22:33:28.354652",
     "status": "completed"
    },
    "tags": []
   },
   "outputs": [],
   "source": [
    "#collapse\n",
    "from typing import Callable, Literal\n",
    "import pandas as pd\n",
    "import altair as alt"
   ]
  },
  {
   "cell_type": "code",
   "execution_count": 2,
   "metadata": {
    "execution": {
     "iopub.execute_input": "2020-09-25T22:33:28.759546Z",
     "iopub.status.busy": "2020-09-25T22:33:28.759050Z",
     "iopub.status.idle": "2020-09-25T22:33:28.775246Z",
     "shell.execute_reply": "2020-09-25T22:33:28.774816Z"
    },
    "papermill": {
     "duration": 0.031653,
     "end_time": "2020-09-25T22:33:28.775355",
     "exception": false,
     "start_time": "2020-09-25T22:33:28.743702",
     "status": "completed"
    },
    "tags": []
   },
   "outputs": [
    {
     "name": "stdout",
     "output_type": "stream",
     "text": [
      "Last updated at (ET): 2020-09-25 06:33:28 PM\n"
     ]
    }
   ],
   "source": [
    "#hide_input\n",
    "current_utc = pd.Timestamp.now(tz='America/New_York').strftime('%Y-%m-%d %I:%M:%S %p')\n",
    "print(f\"Last updated at (ET): {current_utc}\")"
   ]
  },
  {
   "cell_type": "markdown",
   "metadata": {
    "papermill": {
     "duration": 0.012086,
     "end_time": "2020-09-25T22:33:28.799085",
     "exception": false,
     "start_time": "2020-09-25T22:33:28.786999",
     "status": "completed"
    },
    "tags": []
   },
   "source": [
    "# Data"
   ]
  },
  {
   "cell_type": "code",
   "execution_count": 3,
   "metadata": {
    "execution": {
     "iopub.execute_input": "2020-09-25T22:33:28.826507Z",
     "iopub.status.busy": "2020-09-25T22:33:28.825937Z",
     "iopub.status.idle": "2020-09-25T22:33:29.591095Z",
     "shell.execute_reply": "2020-09-25T22:33:29.591531Z"
    },
    "papermill": {
     "duration": 0.78076,
     "end_time": "2020-09-25T22:33:29.591693",
     "exception": false,
     "start_time": "2020-09-25T22:33:28.810933",
     "status": "completed"
    },
    "tags": []
   },
   "outputs": [],
   "source": [
    "df = pd.read_csv('https://covidtracking.com/api/states/daily.csv')"
   ]
  },
  {
   "cell_type": "markdown",
   "metadata": {
    "papermill": {
     "duration": 0.012729,
     "end_time": "2020-09-25T22:33:29.617024",
     "exception": false,
     "start_time": "2020-09-25T22:33:29.604295",
     "status": "completed"
    },
    "tags": []
   },
   "source": [
    "# Helpers"
   ]
  },
  {
   "cell_type": "code",
   "execution_count": 4,
   "metadata": {
    "execution": {
     "iopub.execute_input": "2020-09-25T22:33:29.648518Z",
     "iopub.status.busy": "2020-09-25T22:33:29.647986Z",
     "iopub.status.idle": "2020-09-25T22:33:29.650315Z",
     "shell.execute_reply": "2020-09-25T22:33:29.649910Z"
    },
    "papermill": {
     "duration": 0.020533,
     "end_time": "2020-09-25T22:33:29.650425",
     "exception": false,
     "start_time": "2020-09-25T22:33:29.629892",
     "status": "completed"
    },
    "tags": []
   },
   "outputs": [],
   "source": [
    "#collapse\n",
    "def create_df(df: pd.DataFrame, \n",
    "              filter_f: Callable, \n",
    "              state_name: str):\n",
    "    out_df = (\n",
    "     df\n",
    "     .assign(date = lambda d: pd.to_datetime(d['date'], format='%Y%m%d'))\n",
    "     .loc[filter_f, :]\n",
    "     .groupby('date')\n",
    "     .apply(lambda d: pd.Series(dict(\n",
    "         totalTestResultsIncrease = d['totalTestResultsIncrease'].sum(),\n",
    "         positiveIncrease = d['positiveIncrease'].sum(),\n",
    "         death = d['death'].sum(),\n",
    "         deathIncrease = d['deathIncrease'].sum()\n",
    "     )))\n",
    "     .reset_index()\n",
    "     .assign(positiveRate = lambda d: round(d['positiveIncrease'] / d['totalTestResultsIncrease'], 3))\n",
    "     .sort_values('date', ascending=True)\n",
    "     .assign(state = state_name)\n",
    "     .reset_index(drop=True)\n",
    "    )\n",
    "    \n",
    "    return out_df"
   ]
  },
  {
   "cell_type": "code",
   "execution_count": 5,
   "metadata": {
    "execution": {
     "iopub.execute_input": "2020-09-25T22:33:29.682438Z",
     "iopub.status.busy": "2020-09-25T22:33:29.681862Z",
     "iopub.status.idle": "2020-09-25T22:33:29.684224Z",
     "shell.execute_reply": "2020-09-25T22:33:29.684629Z"
    },
    "papermill": {
     "duration": 0.022722,
     "end_time": "2020-09-25T22:33:29.684746",
     "exception": false,
     "start_time": "2020-09-25T22:33:29.662024",
     "status": "completed"
    },
    "tags": []
   },
   "outputs": [],
   "source": [
    "#collapse\n",
    "def create_plot(df: pd.DataFrame, \n",
    "                column: Literal['totalTestResultsIncrease', \n",
    "                                'positiveIncrease', \n",
    "                                'death',\n",
    "                                'deathIncrease', \n",
    "                                'positiveRate'],\n",
    "                period: int = 7*8):\n",
    "    df = (\n",
    "     df\n",
    "     .assign(sma7d = lambda d: d[column].rolling(window=7).mean().round(3))\n",
    "     .loc[lambda d: d['date'] >= pd.to_datetime('today') - period * pd.Timedelta('1 days'), :]\n",
    "     .reset_index(drop=True)\n",
    "    )\n",
    "    the_state = df['state'][0]\n",
    "    label = alt.selection_single(\n",
    "        encodings=['x'], on='mouseover', nearest=True, empty='none')\n",
    "    \n",
    "    base = alt.Chart().mark_point(size=75).encode(\n",
    "        x='date:T',\n",
    "        y=f'{column}:Q',\n",
    "        tooltip=['date', f'{column}:Q', 'sma7d:Q']\n",
    "    )\n",
    "\n",
    "    sma = alt.Chart().mark_line(color='purple').encode(\n",
    "        x='date:T',\n",
    "        y='sma7d:Q'\n",
    "    )\n",
    "\n",
    "    layers = alt.layer(\n",
    "        base + sma,\n",
    "\n",
    "        # add a rule mark to serve as a guide line\n",
    "        alt.Chart().mark_rule(color='#aaa').encode(\n",
    "            x='date:T'\n",
    "        ).transform_filter(label),\n",
    "\n",
    "        # add circle marks for selected time points, hide unselected points\n",
    "        base.mark_circle().encode(\n",
    "            opacity=alt.condition(label, alt.value(1), alt.value(0))\n",
    "        ).add_selection(label),\n",
    "\n",
    "        # add white stroked text to provide a legible background for labels\n",
    "        base.mark_text(align='left', dx=5, dy=-5, stroke='white', strokeWidth=2).encode(\n",
    "            text=f'{column}:Q'\n",
    "        ).transform_filter(label),\n",
    "\n",
    "        # add text labels\n",
    "        base.mark_text(align='left', dx=5, dy=-5).encode(\n",
    "            text=f'{column}:Q'\n",
    "        ).transform_filter(label),\n",
    "        \n",
    "        data=df\n",
    "    ).properties(\n",
    "        title=f'{the_state}: {column}',\n",
    "        width=500,\n",
    "        height=400\n",
    "    )\n",
    "    \n",
    "    return layers.interactive()"
   ]
  },
  {
   "cell_type": "markdown",
   "metadata": {
    "papermill": {
     "duration": 0.011289,
     "end_time": "2020-09-25T22:33:29.707063",
     "exception": false,
     "start_time": "2020-09-25T22:33:29.695774",
     "status": "completed"
    },
    "tags": []
   },
   "source": [
    "# Plots"
   ]
  },
  {
   "cell_type": "markdown",
   "metadata": {
    "papermill": {
     "duration": 0.011697,
     "end_time": "2020-09-25T22:33:29.730388",
     "exception": false,
     "start_time": "2020-09-25T22:33:29.718691",
     "status": "completed"
    },
    "tags": []
   },
   "source": [
    "## US"
   ]
  },
  {
   "cell_type": "code",
   "execution_count": 6,
   "metadata": {
    "execution": {
     "iopub.execute_input": "2020-09-25T22:33:29.755946Z",
     "iopub.status.busy": "2020-09-25T22:33:29.755435Z",
     "iopub.status.idle": "2020-09-25T22:33:30.039158Z",
     "shell.execute_reply": "2020-09-25T22:33:30.038696Z"
    },
    "papermill": {
     "duration": 0.297907,
     "end_time": "2020-09-25T22:33:30.039335",
     "exception": false,
     "start_time": "2020-09-25T22:33:29.741428",
     "status": "completed"
    },
    "tags": []
   },
   "outputs": [],
   "source": [
    "us = create_df(df, lambda d: d.index > 0, 'US')"
   ]
  },
  {
   "cell_type": "code",
   "execution_count": 7,
   "metadata": {
    "execution": {
     "iopub.execute_input": "2020-09-25T22:33:30.093542Z",
     "iopub.status.busy": "2020-09-25T22:33:30.069965Z",
     "iopub.status.idle": "2020-09-25T22:33:30.161703Z",
     "shell.execute_reply": "2020-09-25T22:33:30.162142Z"
    },
    "papermill": {
     "duration": 0.1084,
     "end_time": "2020-09-25T22:33:30.162299",
     "exception": false,
     "start_time": "2020-09-25T22:33:30.053899",
     "status": "completed"
    },
    "tags": []
   },
   "outputs": [
    {
     "data": {
      "text/html": [
       "\n",
       "<div id=\"altair-viz-6f50e5277c7e475fb3c7cf190ccdc114\"></div>\n",
       "<script type=\"text/javascript\">\n",
       "  (function(spec, embedOpt){\n",
       "    let outputDiv = document.currentScript.previousElementSibling;\n",
       "    if (outputDiv.id !== \"altair-viz-6f50e5277c7e475fb3c7cf190ccdc114\") {\n",
       "      outputDiv = document.getElementById(\"altair-viz-6f50e5277c7e475fb3c7cf190ccdc114\");\n",
       "    }\n",
       "    const paths = {\n",
       "      \"vega\": \"https://cdn.jsdelivr.net/npm//vega@5?noext\",\n",
       "      \"vega-lib\": \"https://cdn.jsdelivr.net/npm//vega-lib?noext\",\n",
       "      \"vega-lite\": \"https://cdn.jsdelivr.net/npm//vega-lite@4.8.1?noext\",\n",
       "      \"vega-embed\": \"https://cdn.jsdelivr.net/npm//vega-embed@6?noext\",\n",
       "    };\n",
       "\n",
       "    function loadScript(lib) {\n",
       "      return new Promise(function(resolve, reject) {\n",
       "        var s = document.createElement('script');\n",
       "        s.src = paths[lib];\n",
       "        s.async = true;\n",
       "        s.onload = () => resolve(paths[lib]);\n",
       "        s.onerror = () => reject(`Error loading script: ${paths[lib]}`);\n",
       "        document.getElementsByTagName(\"head\")[0].appendChild(s);\n",
       "      });\n",
       "    }\n",
       "\n",
       "    function showError(err) {\n",
       "      outputDiv.innerHTML = `<div class=\"error\" style=\"color:red;\">${err}</div>`;\n",
       "      throw err;\n",
       "    }\n",
       "\n",
       "    function displayChart(vegaEmbed) {\n",
       "      vegaEmbed(outputDiv, spec, embedOpt)\n",
       "        .catch(err => showError(`Javascript Error: ${err.message}<br>This usually means there's a typo in your chart specification. See the javascript console for the full traceback.`));\n",
       "    }\n",
       "\n",
       "    if(typeof define === \"function\" && define.amd) {\n",
       "      requirejs.config({paths});\n",
       "      require([\"vega-embed\"], displayChart, err => showError(`Error loading script: ${err.message}`));\n",
       "    } else if (typeof vegaEmbed === \"function\") {\n",
       "      displayChart(vegaEmbed);\n",
       "    } else {\n",
       "      loadScript(\"vega\")\n",
       "        .then(() => loadScript(\"vega-lite\"))\n",
       "        .then(() => loadScript(\"vega-embed\"))\n",
       "        .catch(showError)\n",
       "        .then(() => displayChart(vegaEmbed));\n",
       "    }\n",
       "  })({\"config\": {\"view\": {\"continuousWidth\": 400, \"continuousHeight\": 300}}, \"layer\": [{\"layer\": [{\"mark\": {\"type\": \"point\", \"size\": 75}, \"encoding\": {\"tooltip\": [{\"type\": \"temporal\", \"field\": \"date\"}, {\"type\": \"quantitative\", \"field\": \"positiveIncrease\"}, {\"type\": \"quantitative\", \"field\": \"sma7d\"}], \"x\": {\"type\": \"temporal\", \"field\": \"date\"}, \"y\": {\"type\": \"quantitative\", \"field\": \"positiveIncrease\"}}, \"selection\": {\"selector002\": {\"type\": \"interval\", \"bind\": \"scales\", \"encodings\": [\"x\", \"y\"]}}}, {\"mark\": {\"type\": \"line\", \"color\": \"purple\"}, \"encoding\": {\"x\": {\"type\": \"temporal\", \"field\": \"date\"}, \"y\": {\"type\": \"quantitative\", \"field\": \"sma7d\"}}}]}, {\"mark\": {\"type\": \"rule\", \"color\": \"#aaa\"}, \"encoding\": {\"x\": {\"type\": \"temporal\", \"field\": \"date\"}}, \"transform\": [{\"filter\": {\"selection\": \"selector001\"}}]}, {\"mark\": \"circle\", \"encoding\": {\"opacity\": {\"condition\": {\"value\": 1, \"selection\": \"selector001\"}, \"value\": 0}, \"tooltip\": [{\"type\": \"temporal\", \"field\": \"date\"}, {\"type\": \"quantitative\", \"field\": \"positiveIncrease\"}, {\"type\": \"quantitative\", \"field\": \"sma7d\"}], \"x\": {\"type\": \"temporal\", \"field\": \"date\"}, \"y\": {\"type\": \"quantitative\", \"field\": \"positiveIncrease\"}}, \"selection\": {\"selector001\": {\"type\": \"single\", \"encodings\": [\"x\"], \"on\": \"mouseover\", \"nearest\": true, \"empty\": \"none\"}}}, {\"mark\": {\"type\": \"text\", \"align\": \"left\", \"dx\": 5, \"dy\": -5, \"stroke\": \"white\", \"strokeWidth\": 2}, \"encoding\": {\"text\": {\"type\": \"quantitative\", \"field\": \"positiveIncrease\"}, \"tooltip\": [{\"type\": \"temporal\", \"field\": \"date\"}, {\"type\": \"quantitative\", \"field\": \"positiveIncrease\"}, {\"type\": \"quantitative\", \"field\": \"sma7d\"}], \"x\": {\"type\": \"temporal\", \"field\": \"date\"}, \"y\": {\"type\": \"quantitative\", \"field\": \"positiveIncrease\"}}, \"transform\": [{\"filter\": {\"selection\": \"selector001\"}}]}, {\"mark\": {\"type\": \"text\", \"align\": \"left\", \"dx\": 5, \"dy\": -5}, \"encoding\": {\"text\": {\"type\": \"quantitative\", \"field\": \"positiveIncrease\"}, \"tooltip\": [{\"type\": \"temporal\", \"field\": \"date\"}, {\"type\": \"quantitative\", \"field\": \"positiveIncrease\"}, {\"type\": \"quantitative\", \"field\": \"sma7d\"}], \"x\": {\"type\": \"temporal\", \"field\": \"date\"}, \"y\": {\"type\": \"quantitative\", \"field\": \"positiveIncrease\"}}, \"transform\": [{\"filter\": {\"selection\": \"selector001\"}}]}], \"data\": {\"name\": \"data-6f3704d46a680ff370d56281edf459e4\"}, \"height\": 400, \"title\": \"US: positiveIncrease\", \"width\": 500, \"$schema\": \"https://vega.github.io/schema/vega-lite/v4.8.1.json\", \"datasets\": {\"data-6f3704d46a680ff370d56281edf459e4\": [{\"date\": \"2020-08-01T00:00:00\", \"totalTestResultsIncrease\": 751919.0, \"positiveIncrease\": 61101.0, \"death\": 146546.0, \"deathIncrease\": 1190.0, \"positiveRate\": 0.081, \"state\": \"US\", \"sma7d\": 62555.0}, {\"date\": \"2020-08-02T00:00:00\", \"totalTestResultsIncrease\": 703760.0, \"positiveIncrease\": 46812.0, \"death\": 147044.0, \"deathIncrease\": 498.0, \"positiveRate\": 0.067, \"state\": \"US\", \"sma7d\": 60528.143}, {\"date\": \"2020-08-03T00:00:00\", \"totalTestResultsIncrease\": 765730.0, \"positiveIncrease\": 49713.0, \"death\": 147563.0, \"deathIncrease\": 519.0, \"positiveRate\": 0.065, \"state\": \"US\", \"sma7d\": 59725.429}, {\"date\": \"2020-08-04T00:00:00\", \"totalTestResultsIncrease\": 731054.0, \"positiveIncrease\": 51866.0, \"death\": 148818.0, \"deathIncrease\": 1255.0, \"positiveRate\": 0.071, \"state\": \"US\", \"sma7d\": 58705.857}, {\"date\": \"2020-08-05T00:00:00\", \"totalTestResultsIncrease\": 712462.0, \"positiveIncrease\": 52324.0, \"death\": 150164.0, \"deathIncrease\": 1346.0, \"positiveRate\": 0.073, \"state\": \"US\", \"sma7d\": 56979.571}, {\"date\": \"2020-08-06T00:00:00\", \"totalTestResultsIncrease\": 785235.0, \"positiveIncrease\": 54187.0, \"death\": 151415.0, \"deathIncrease\": 1251.0, \"positiveRate\": 0.069, \"state\": \"US\", \"sma7d\": 54803.714}, {\"date\": \"2020-08-07T00:00:00\", \"totalTestResultsIncrease\": 803528.0, \"positiveIncrease\": 61345.0, \"death\": 152748.0, \"deathIncrease\": 1333.0, \"positiveRate\": 0.076, \"state\": \"US\", \"sma7d\": 53906.857}, {\"date\": \"2020-08-08T00:00:00\", \"totalTestResultsIncrease\": 688702.0, \"positiveIncrease\": 53712.0, \"death\": 153837.0, \"deathIncrease\": 1089.0, \"positiveRate\": 0.078, \"state\": \"US\", \"sma7d\": 52851.286}, {\"date\": \"2020-08-09T00:00:00\", \"totalTestResultsIncrease\": 726152.0, \"positiveIncrease\": 50627.0, \"death\": 154453.0, \"deathIncrease\": 616.0, \"positiveRate\": 0.07, \"state\": \"US\", \"sma7d\": 53396.286}, {\"date\": \"2020-08-10T00:00:00\", \"totalTestResultsIncrease\": 753155.0, \"positiveIncrease\": 42089.0, \"death\": 154879.0, \"deathIncrease\": 426.0, \"positiveRate\": 0.056, \"state\": \"US\", \"sma7d\": 52307.143}, {\"date\": \"2020-08-11T00:00:00\", \"totalTestResultsIncrease\": 756116.0, \"positiveIncrease\": 55701.0, \"death\": 156205.0, \"deathIncrease\": 1326.0, \"positiveRate\": 0.074, \"state\": \"US\", \"sma7d\": 52855.0}, {\"date\": \"2020-08-12T00:00:00\", \"totalTestResultsIncrease\": 487484.0, \"positiveIncrease\": 56134.0, \"death\": 157724.0, \"deathIncrease\": 1519.0, \"positiveRate\": 0.115, \"state\": \"US\", \"sma7d\": 53399.286}, {\"date\": \"2020-08-13T00:00:00\", \"totalTestResultsIncrease\": 925197.0, \"positiveIncrease\": 51759.0, \"death\": 158887.0, \"deathIncrease\": 1163.0, \"positiveRate\": 0.056, \"state\": \"US\", \"sma7d\": 53052.429}, {\"date\": \"2020-08-14T00:00:00\", \"totalTestResultsIncrease\": 885486.0, \"positiveIncrease\": 55636.0, \"death\": 160103.0, \"deathIncrease\": 1216.0, \"positiveRate\": 0.063, \"state\": \"US\", \"sma7d\": 52236.857}, {\"date\": \"2020-08-15T00:00:00\", \"totalTestResultsIncrease\": 779619.0, \"positiveIncrease\": 56149.0, \"death\": 161324.0, \"deathIncrease\": 1221.0, \"positiveRate\": 0.072, \"state\": \"US\", \"sma7d\": 52585.0}, {\"date\": \"2020-08-16T00:00:00\", \"totalTestResultsIncrease\": 808057.0, \"positiveIncrease\": 42487.0, \"death\": 161943.0, \"deathIncrease\": 619.0, \"positiveRate\": 0.053, \"state\": \"US\", \"sma7d\": 51422.143}, {\"date\": \"2020-08-17T00:00:00\", \"totalTestResultsIncrease\": 685807.0, \"positiveIncrease\": 37880.0, \"death\": 162350.0, \"deathIncrease\": 407.0, \"positiveRate\": 0.055, \"state\": \"US\", \"sma7d\": 50820.857}, {\"date\": \"2020-08-18T00:00:00\", \"totalTestResultsIncrease\": 673737.0, \"positiveIncrease\": 40795.0, \"death\": 163546.0, \"deathIncrease\": 1196.0, \"positiveRate\": 0.061, \"state\": \"US\", \"sma7d\": 48691.429}, {\"date\": \"2020-08-19T00:00:00\", \"totalTestResultsIncrease\": 703917.0, \"positiveIncrease\": 44955.0, \"death\": 164966.0, \"deathIncrease\": 1420.0, \"positiveRate\": 0.064, \"state\": \"US\", \"sma7d\": 47094.429}, {\"date\": \"2020-08-20T00:00:00\", \"totalTestResultsIncrease\": 726290.0, \"positiveIncrease\": 43758.0, \"death\": 166100.0, \"deathIncrease\": 1134.0, \"positiveRate\": 0.06, \"state\": \"US\", \"sma7d\": 45951.429}, {\"date\": \"2020-08-21T00:00:00\", \"totalTestResultsIncrease\": 785049.0, \"positiveIncrease\": 46561.0, \"death\": 167223.0, \"deathIncrease\": 1123.0, \"positiveRate\": 0.059, \"state\": \"US\", \"sma7d\": 44655.0}, {\"date\": \"2020-08-22T00:00:00\", \"totalTestResultsIncrease\": 794254.0, \"positiveIncrease\": 46236.0, \"death\": 168252.0, \"deathIncrease\": 1029.0, \"positiveRate\": 0.058, \"state\": \"US\", \"sma7d\": 43238.857}, {\"date\": \"2020-08-23T00:00:00\", \"totalTestResultsIncrease\": 645324.0, \"positiveIncrease\": 37566.0, \"death\": 168824.0, \"deathIncrease\": 572.0, \"positiveRate\": 0.058, \"state\": \"US\", \"sma7d\": 42535.857}, {\"date\": \"2020-08-24T00:00:00\", \"totalTestResultsIncrease\": 713471.0, \"positiveIncrease\": 34643.0, \"death\": 169167.0, \"deathIncrease\": 343.0, \"positiveRate\": 0.049, \"state\": \"US\", \"sma7d\": 42073.429}, {\"date\": \"2020-08-25T00:00:00\", \"totalTestResultsIncrease\": 664004.0, \"positiveIncrease\": 36379.0, \"death\": 170314.0, \"deathIncrease\": 1147.0, \"positiveRate\": 0.055, \"state\": \"US\", \"sma7d\": 41442.571}, {\"date\": \"2020-08-26T00:00:00\", \"totalTestResultsIncrease\": 680581.0, \"positiveIncrease\": 44053.0, \"death\": 171612.0, \"deathIncrease\": 1298.0, \"positiveRate\": 0.065, \"state\": \"US\", \"sma7d\": 41313.714}, {\"date\": \"2020-08-27T00:00:00\", \"totalTestResultsIncrease\": 791621.0, \"positiveIncrease\": 43984.0, \"death\": 172741.0, \"deathIncrease\": 1129.0, \"positiveRate\": 0.056, \"state\": \"US\", \"sma7d\": 41346.0}, {\"date\": \"2020-08-28T00:00:00\", \"totalTestResultsIncrease\": 818699.0, \"positiveIncrease\": 46548.0, \"death\": 173764.0, \"deathIncrease\": 1023.0, \"positiveRate\": 0.057, \"state\": \"US\", \"sma7d\": 41344.143}, {\"date\": \"2020-08-29T00:00:00\", \"totalTestResultsIncrease\": 815422.0, \"positiveIncrease\": 44501.0, \"death\": 174779.0, \"deathIncrease\": 1015.0, \"positiveRate\": 0.055, \"state\": \"US\", \"sma7d\": 41096.286}, {\"date\": \"2020-08-30T00:00:00\", \"totalTestResultsIncrease\": 774335.0, \"positiveIncrease\": 39501.0, \"death\": 175254.0, \"deathIncrease\": 475.0, \"positiveRate\": 0.051, \"state\": \"US\", \"sma7d\": 41372.714}, {\"date\": \"2020-08-31T00:00:00\", \"totalTestResultsIncrease\": 705130.0, \"positiveIncrease\": 31406.0, \"death\": 175620.0, \"deathIncrease\": 366.0, \"positiveRate\": 0.045, \"state\": \"US\", \"sma7d\": 40910.286}, {\"date\": \"2020-09-01T00:00:00\", \"totalTestResultsIncrease\": 732413.0, \"positiveIncrease\": 42433.0, \"death\": 176647.0, \"deathIncrease\": 1027.0, \"positiveRate\": 0.058, \"state\": \"US\", \"sma7d\": 41775.143}, {\"date\": \"2020-09-02T00:00:00\", \"totalTestResultsIncrease\": 683904.0, \"positiveIncrease\": 30603.0, \"death\": 177679.0, \"deathIncrease\": 1032.0, \"positiveRate\": 0.045, \"state\": \"US\", \"sma7d\": 39853.714}, {\"date\": \"2020-09-03T00:00:00\", \"totalTestResultsIncrease\": 798189.0, \"positiveIncrease\": 44714.0, \"death\": 178749.0, \"deathIncrease\": 1070.0, \"positiveRate\": 0.056, \"state\": \"US\", \"sma7d\": 39958.0}, {\"date\": \"2020-09-04T00:00:00\", \"totalTestResultsIncrease\": 949705.0, \"positiveIncrease\": 51591.0, \"death\": 179747.0, \"deathIncrease\": 998.0, \"positiveRate\": 0.054, \"state\": \"US\", \"sma7d\": 40678.429}, {\"date\": \"2020-09-05T00:00:00\", \"totalTestResultsIncrease\": 876560.0, \"positiveIncrease\": 44905.0, \"death\": 180665.0, \"deathIncrease\": 918.0, \"positiveRate\": 0.051, \"state\": \"US\", \"sma7d\": 40736.143}, {\"date\": \"2020-09-06T00:00:00\", \"totalTestResultsIncrease\": 782353.0, \"positiveIncrease\": 33117.0, \"death\": 181114.0, \"deathIncrease\": 449.0, \"positiveRate\": 0.042, \"state\": \"US\", \"sma7d\": 39824.143}, {\"date\": \"2020-09-07T00:00:00\", \"totalTestResultsIncrease\": 615271.0, \"positiveIncrease\": 28682.0, \"death\": 181339.0, \"deathIncrease\": 225.0, \"positiveRate\": 0.047, \"state\": \"US\", \"sma7d\": 39435.0}, {\"date\": \"2020-09-08T00:00:00\", \"totalTestResultsIncrease\": 540044.0, \"positiveIncrease\": 22223.0, \"death\": 181697.0, \"deathIncrease\": 358.0, \"positiveRate\": 0.041, \"state\": \"US\", \"sma7d\": 36547.857}, {\"date\": \"2020-09-09T00:00:00\", \"totalTestResultsIncrease\": 626180.0, \"positiveIncrease\": 30983.0, \"death\": 182780.0, \"deathIncrease\": 1083.0, \"positiveRate\": 0.049, \"state\": \"US\", \"sma7d\": 36602.143}, {\"date\": \"2020-09-10T00:00:00\", \"totalTestResultsIncrease\": 690301.0, \"positiveIncrease\": 37581.0, \"death\": 183950.0, \"deathIncrease\": 1170.0, \"positiveRate\": 0.054, \"state\": \"US\", \"sma7d\": 35583.143}, {\"date\": \"2020-09-11T00:00:00\", \"totalTestResultsIncrease\": 826358.0, \"positiveIncrease\": 44927.0, \"death\": 184968.0, \"deathIncrease\": 1018.0, \"positiveRate\": 0.054, \"state\": \"US\", \"sma7d\": 34631.143}, {\"date\": \"2020-09-12T00:00:00\", \"totalTestResultsIncrease\": 903365.0, \"positiveIncrease\": 42087.0, \"death\": 185778.0, \"deathIncrease\": 810.0, \"positiveRate\": 0.047, \"state\": \"US\", \"sma7d\": 34228.571}, {\"date\": \"2020-09-13T00:00:00\", \"totalTestResultsIncrease\": 728220.0, \"positiveIncrease\": 34453.0, \"death\": 186167.0, \"deathIncrease\": 389.0, \"positiveRate\": 0.047, \"state\": \"US\", \"sma7d\": 34419.429}, {\"date\": \"2020-09-14T00:00:00\", \"totalTestResultsIncrease\": 445836.0, \"positiveIncrease\": 33864.0, \"death\": 186571.0, \"deathIncrease\": 404.0, \"positiveRate\": 0.076, \"state\": \"US\", \"sma7d\": 35159.714}, {\"date\": \"2020-09-15T00:00:00\", \"totalTestResultsIncrease\": 724756.0, \"positiveIncrease\": 35445.0, \"death\": 187602.0, \"deathIncrease\": 1031.0, \"positiveRate\": 0.049, \"state\": \"US\", \"sma7d\": 37048.571}, {\"date\": \"2020-09-16T00:00:00\", \"totalTestResultsIncrease\": 729637.0, \"positiveIncrease\": 40021.0, \"death\": 188802.0, \"deathIncrease\": 1200.0, \"positiveRate\": 0.055, \"state\": \"US\", \"sma7d\": 38339.714}, {\"date\": \"2020-09-17T00:00:00\", \"totalTestResultsIncrease\": 841941.0, \"positiveIncrease\": 43558.0, \"death\": 189665.0, \"deathIncrease\": 863.0, \"positiveRate\": 0.052, \"state\": \"US\", \"sma7d\": 39193.571}, {\"date\": \"2020-09-18T00:00:00\", \"totalTestResultsIncrease\": 985004.0, \"positiveIncrease\": 47486.0, \"death\": 190566.0, \"deathIncrease\": 901.0, \"positiveRate\": 0.048, \"state\": \"US\", \"sma7d\": 39559.143}, {\"date\": \"2020-09-19T00:00:00\", \"totalTestResultsIncrease\": 1066069.0, \"positiveIncrease\": 45539.0, \"death\": 191306.0, \"deathIncrease\": 740.0, \"positiveRate\": 0.043, \"state\": \"US\", \"sma7d\": 40052.286}, {\"date\": \"2020-09-20T00:00:00\", \"totalTestResultsIncrease\": 905323.0, \"positiveIncrease\": 36295.0, \"death\": 191633.0, \"deathIncrease\": 327.0, \"positiveRate\": 0.04, \"state\": \"US\", \"sma7d\": 40315.429}, {\"date\": \"2020-09-21T00:00:00\", \"totalTestResultsIncrease\": 725311.0, \"positiveIncrease\": 39472.0, \"death\": 191920.0, \"deathIncrease\": 287.0, \"positiveRate\": 0.054, \"state\": \"US\", \"sma7d\": 41116.571}, {\"date\": \"2020-09-22T00:00:00\", \"totalTestResultsIncrease\": 769953.0, \"positiveIncrease\": 49439.0, \"death\": 192774.0, \"deathIncrease\": 854.0, \"positiveRate\": 0.064, \"state\": \"US\", \"sma7d\": 43115.714}, {\"date\": \"2020-09-23T00:00:00\", \"totalTestResultsIncrease\": 923704.0, \"positiveIncrease\": 38567.0, \"death\": 193931.0, \"deathIncrease\": 1157.0, \"positiveRate\": 0.042, \"state\": \"US\", \"sma7d\": 42908.0}, {\"date\": \"2020-09-24T00:00:00\", \"totalTestResultsIncrease\": 940353.0, \"positiveIncrease\": 43772.0, \"death\": 194807.0, \"deathIncrease\": 921.0, \"positiveRate\": 0.047, \"state\": \"US\", \"sma7d\": 42938.571}]}}, {\"mode\": \"vega-lite\"});\n",
       "</script>"
      ],
      "text/plain": [
       "alt.LayerChart(...)"
      ]
     },
     "execution_count": 7,
     "metadata": {},
     "output_type": "execute_result"
    }
   ],
   "source": [
    "create_plot(us, 'positiveIncrease')"
   ]
  },
  {
   "cell_type": "code",
   "execution_count": 8,
   "metadata": {
    "execution": {
     "iopub.execute_input": "2020-09-25T22:33:30.193062Z",
     "iopub.status.busy": "2020-09-25T22:33:30.192528Z",
     "iopub.status.idle": "2020-09-25T22:33:30.272424Z",
     "shell.execute_reply": "2020-09-25T22:33:30.272859Z"
    },
    "papermill": {
     "duration": 0.097559,
     "end_time": "2020-09-25T22:33:30.272999",
     "exception": false,
     "start_time": "2020-09-25T22:33:30.175440",
     "status": "completed"
    },
    "tags": []
   },
   "outputs": [
    {
     "data": {
      "text/html": [
       "\n",
       "<div id=\"altair-viz-ebbc3c4444ae47e382be26f37fc3dd6c\"></div>\n",
       "<script type=\"text/javascript\">\n",
       "  (function(spec, embedOpt){\n",
       "    let outputDiv = document.currentScript.previousElementSibling;\n",
       "    if (outputDiv.id !== \"altair-viz-ebbc3c4444ae47e382be26f37fc3dd6c\") {\n",
       "      outputDiv = document.getElementById(\"altair-viz-ebbc3c4444ae47e382be26f37fc3dd6c\");\n",
       "    }\n",
       "    const paths = {\n",
       "      \"vega\": \"https://cdn.jsdelivr.net/npm//vega@5?noext\",\n",
       "      \"vega-lib\": \"https://cdn.jsdelivr.net/npm//vega-lib?noext\",\n",
       "      \"vega-lite\": \"https://cdn.jsdelivr.net/npm//vega-lite@4.8.1?noext\",\n",
       "      \"vega-embed\": \"https://cdn.jsdelivr.net/npm//vega-embed@6?noext\",\n",
       "    };\n",
       "\n",
       "    function loadScript(lib) {\n",
       "      return new Promise(function(resolve, reject) {\n",
       "        var s = document.createElement('script');\n",
       "        s.src = paths[lib];\n",
       "        s.async = true;\n",
       "        s.onload = () => resolve(paths[lib]);\n",
       "        s.onerror = () => reject(`Error loading script: ${paths[lib]}`);\n",
       "        document.getElementsByTagName(\"head\")[0].appendChild(s);\n",
       "      });\n",
       "    }\n",
       "\n",
       "    function showError(err) {\n",
       "      outputDiv.innerHTML = `<div class=\"error\" style=\"color:red;\">${err}</div>`;\n",
       "      throw err;\n",
       "    }\n",
       "\n",
       "    function displayChart(vegaEmbed) {\n",
       "      vegaEmbed(outputDiv, spec, embedOpt)\n",
       "        .catch(err => showError(`Javascript Error: ${err.message}<br>This usually means there's a typo in your chart specification. See the javascript console for the full traceback.`));\n",
       "    }\n",
       "\n",
       "    if(typeof define === \"function\" && define.amd) {\n",
       "      requirejs.config({paths});\n",
       "      require([\"vega-embed\"], displayChart, err => showError(`Error loading script: ${err.message}`));\n",
       "    } else if (typeof vegaEmbed === \"function\") {\n",
       "      displayChart(vegaEmbed);\n",
       "    } else {\n",
       "      loadScript(\"vega\")\n",
       "        .then(() => loadScript(\"vega-lite\"))\n",
       "        .then(() => loadScript(\"vega-embed\"))\n",
       "        .catch(showError)\n",
       "        .then(() => displayChart(vegaEmbed));\n",
       "    }\n",
       "  })({\"config\": {\"view\": {\"continuousWidth\": 400, \"continuousHeight\": 300}}, \"layer\": [{\"layer\": [{\"mark\": {\"type\": \"point\", \"size\": 75}, \"encoding\": {\"tooltip\": [{\"type\": \"temporal\", \"field\": \"date\"}, {\"type\": \"quantitative\", \"field\": \"positiveRate\"}, {\"type\": \"quantitative\", \"field\": \"sma7d\"}], \"x\": {\"type\": \"temporal\", \"field\": \"date\"}, \"y\": {\"type\": \"quantitative\", \"field\": \"positiveRate\"}}, \"selection\": {\"selector004\": {\"type\": \"interval\", \"bind\": \"scales\", \"encodings\": [\"x\", \"y\"]}}}, {\"mark\": {\"type\": \"line\", \"color\": \"purple\"}, \"encoding\": {\"x\": {\"type\": \"temporal\", \"field\": \"date\"}, \"y\": {\"type\": \"quantitative\", \"field\": \"sma7d\"}}}]}, {\"mark\": {\"type\": \"rule\", \"color\": \"#aaa\"}, \"encoding\": {\"x\": {\"type\": \"temporal\", \"field\": \"date\"}}, \"transform\": [{\"filter\": {\"selection\": \"selector003\"}}]}, {\"mark\": \"circle\", \"encoding\": {\"opacity\": {\"condition\": {\"value\": 1, \"selection\": \"selector003\"}, \"value\": 0}, \"tooltip\": [{\"type\": \"temporal\", \"field\": \"date\"}, {\"type\": \"quantitative\", \"field\": \"positiveRate\"}, {\"type\": \"quantitative\", \"field\": \"sma7d\"}], \"x\": {\"type\": \"temporal\", \"field\": \"date\"}, \"y\": {\"type\": \"quantitative\", \"field\": \"positiveRate\"}}, \"selection\": {\"selector003\": {\"type\": \"single\", \"encodings\": [\"x\"], \"on\": \"mouseover\", \"nearest\": true, \"empty\": \"none\"}}}, {\"mark\": {\"type\": \"text\", \"align\": \"left\", \"dx\": 5, \"dy\": -5, \"stroke\": \"white\", \"strokeWidth\": 2}, \"encoding\": {\"text\": {\"type\": \"quantitative\", \"field\": \"positiveRate\"}, \"tooltip\": [{\"type\": \"temporal\", \"field\": \"date\"}, {\"type\": \"quantitative\", \"field\": \"positiveRate\"}, {\"type\": \"quantitative\", \"field\": \"sma7d\"}], \"x\": {\"type\": \"temporal\", \"field\": \"date\"}, \"y\": {\"type\": \"quantitative\", \"field\": \"positiveRate\"}}, \"transform\": [{\"filter\": {\"selection\": \"selector003\"}}]}, {\"mark\": {\"type\": \"text\", \"align\": \"left\", \"dx\": 5, \"dy\": -5}, \"encoding\": {\"text\": {\"type\": \"quantitative\", \"field\": \"positiveRate\"}, \"tooltip\": [{\"type\": \"temporal\", \"field\": \"date\"}, {\"type\": \"quantitative\", \"field\": \"positiveRate\"}, {\"type\": \"quantitative\", \"field\": \"sma7d\"}], \"x\": {\"type\": \"temporal\", \"field\": \"date\"}, \"y\": {\"type\": \"quantitative\", \"field\": \"positiveRate\"}}, \"transform\": [{\"filter\": {\"selection\": \"selector003\"}}]}], \"data\": {\"name\": \"data-66a845493a793c76c9ec274c7224d120\"}, \"height\": 400, \"title\": \"US: positiveRate\", \"width\": 500, \"$schema\": \"https://vega.github.io/schema/vega-lite/v4.8.1.json\", \"datasets\": {\"data-66a845493a793c76c9ec274c7224d120\": [{\"date\": \"2020-08-01T00:00:00\", \"totalTestResultsIncrease\": 751919.0, \"positiveIncrease\": 61101.0, \"death\": 146546.0, \"deathIncrease\": 1190.0, \"positiveRate\": 0.081, \"state\": \"US\", \"sma7d\": 0.076}, {\"date\": \"2020-08-02T00:00:00\", \"totalTestResultsIncrease\": 703760.0, \"positiveIncrease\": 46812.0, \"death\": 147044.0, \"deathIncrease\": 498.0, \"positiveRate\": 0.067, \"state\": \"US\", \"sma7d\": 0.075}, {\"date\": \"2020-08-03T00:00:00\", \"totalTestResultsIncrease\": 765730.0, \"positiveIncrease\": 49713.0, \"death\": 147563.0, \"deathIncrease\": 519.0, \"positiveRate\": 0.065, \"state\": \"US\", \"sma7d\": 0.075}, {\"date\": \"2020-08-04T00:00:00\", \"totalTestResultsIncrease\": 731054.0, \"positiveIncrease\": 51866.0, \"death\": 148818.0, \"deathIncrease\": 1255.0, \"positiveRate\": 0.071, \"state\": \"US\", \"sma7d\": 0.074}, {\"date\": \"2020-08-05T00:00:00\", \"totalTestResultsIncrease\": 712462.0, \"positiveIncrease\": 52324.0, \"death\": 150164.0, \"deathIncrease\": 1346.0, \"positiveRate\": 0.073, \"state\": \"US\", \"sma7d\": 0.073}, {\"date\": \"2020-08-06T00:00:00\", \"totalTestResultsIncrease\": 785235.0, \"positiveIncrease\": 54187.0, \"death\": 151415.0, \"deathIncrease\": 1251.0, \"positiveRate\": 0.069, \"state\": \"US\", \"sma7d\": 0.071}, {\"date\": \"2020-08-07T00:00:00\", \"totalTestResultsIncrease\": 803528.0, \"positiveIncrease\": 61345.0, \"death\": 152748.0, \"deathIncrease\": 1333.0, \"positiveRate\": 0.076, \"state\": \"US\", \"sma7d\": 0.072}, {\"date\": \"2020-08-08T00:00:00\", \"totalTestResultsIncrease\": 688702.0, \"positiveIncrease\": 53712.0, \"death\": 153837.0, \"deathIncrease\": 1089.0, \"positiveRate\": 0.078, \"state\": \"US\", \"sma7d\": 0.071}, {\"date\": \"2020-08-09T00:00:00\", \"totalTestResultsIncrease\": 726152.0, \"positiveIncrease\": 50627.0, \"death\": 154453.0, \"deathIncrease\": 616.0, \"positiveRate\": 0.07, \"state\": \"US\", \"sma7d\": 0.072}, {\"date\": \"2020-08-10T00:00:00\", \"totalTestResultsIncrease\": 753155.0, \"positiveIncrease\": 42089.0, \"death\": 154879.0, \"deathIncrease\": 426.0, \"positiveRate\": 0.056, \"state\": \"US\", \"sma7d\": 0.07}, {\"date\": \"2020-08-11T00:00:00\", \"totalTestResultsIncrease\": 756116.0, \"positiveIncrease\": 55701.0, \"death\": 156205.0, \"deathIncrease\": 1326.0, \"positiveRate\": 0.074, \"state\": \"US\", \"sma7d\": 0.071}, {\"date\": \"2020-08-12T00:00:00\", \"totalTestResultsIncrease\": 487484.0, \"positiveIncrease\": 56134.0, \"death\": 157724.0, \"deathIncrease\": 1519.0, \"positiveRate\": 0.115, \"state\": \"US\", \"sma7d\": 0.077}, {\"date\": \"2020-08-13T00:00:00\", \"totalTestResultsIncrease\": 925197.0, \"positiveIncrease\": 51759.0, \"death\": 158887.0, \"deathIncrease\": 1163.0, \"positiveRate\": 0.056, \"state\": \"US\", \"sma7d\": 0.075}, {\"date\": \"2020-08-14T00:00:00\", \"totalTestResultsIncrease\": 885486.0, \"positiveIncrease\": 55636.0, \"death\": 160103.0, \"deathIncrease\": 1216.0, \"positiveRate\": 0.063, \"state\": \"US\", \"sma7d\": 0.073}, {\"date\": \"2020-08-15T00:00:00\", \"totalTestResultsIncrease\": 779619.0, \"positiveIncrease\": 56149.0, \"death\": 161324.0, \"deathIncrease\": 1221.0, \"positiveRate\": 0.072, \"state\": \"US\", \"sma7d\": 0.072}, {\"date\": \"2020-08-16T00:00:00\", \"totalTestResultsIncrease\": 808057.0, \"positiveIncrease\": 42487.0, \"death\": 161943.0, \"deathIncrease\": 619.0, \"positiveRate\": 0.053, \"state\": \"US\", \"sma7d\": 0.07}, {\"date\": \"2020-08-17T00:00:00\", \"totalTestResultsIncrease\": 685807.0, \"positiveIncrease\": 37880.0, \"death\": 162350.0, \"deathIncrease\": 407.0, \"positiveRate\": 0.055, \"state\": \"US\", \"sma7d\": 0.07}, {\"date\": \"2020-08-18T00:00:00\", \"totalTestResultsIncrease\": 673737.0, \"positiveIncrease\": 40795.0, \"death\": 163546.0, \"deathIncrease\": 1196.0, \"positiveRate\": 0.061, \"state\": \"US\", \"sma7d\": 0.068}, {\"date\": \"2020-08-19T00:00:00\", \"totalTestResultsIncrease\": 703917.0, \"positiveIncrease\": 44955.0, \"death\": 164966.0, \"deathIncrease\": 1420.0, \"positiveRate\": 0.064, \"state\": \"US\", \"sma7d\": 0.061}, {\"date\": \"2020-08-20T00:00:00\", \"totalTestResultsIncrease\": 726290.0, \"positiveIncrease\": 43758.0, \"death\": 166100.0, \"deathIncrease\": 1134.0, \"positiveRate\": 0.06, \"state\": \"US\", \"sma7d\": 0.061}, {\"date\": \"2020-08-21T00:00:00\", \"totalTestResultsIncrease\": 785049.0, \"positiveIncrease\": 46561.0, \"death\": 167223.0, \"deathIncrease\": 1123.0, \"positiveRate\": 0.059, \"state\": \"US\", \"sma7d\": 0.061}, {\"date\": \"2020-08-22T00:00:00\", \"totalTestResultsIncrease\": 794254.0, \"positiveIncrease\": 46236.0, \"death\": 168252.0, \"deathIncrease\": 1029.0, \"positiveRate\": 0.058, \"state\": \"US\", \"sma7d\": 0.059}, {\"date\": \"2020-08-23T00:00:00\", \"totalTestResultsIncrease\": 645324.0, \"positiveIncrease\": 37566.0, \"death\": 168824.0, \"deathIncrease\": 572.0, \"positiveRate\": 0.058, \"state\": \"US\", \"sma7d\": 0.059}, {\"date\": \"2020-08-24T00:00:00\", \"totalTestResultsIncrease\": 713471.0, \"positiveIncrease\": 34643.0, \"death\": 169167.0, \"deathIncrease\": 343.0, \"positiveRate\": 0.049, \"state\": \"US\", \"sma7d\": 0.058}, {\"date\": \"2020-08-25T00:00:00\", \"totalTestResultsIncrease\": 664004.0, \"positiveIncrease\": 36379.0, \"death\": 170314.0, \"deathIncrease\": 1147.0, \"positiveRate\": 0.055, \"state\": \"US\", \"sma7d\": 0.058}, {\"date\": \"2020-08-26T00:00:00\", \"totalTestResultsIncrease\": 680581.0, \"positiveIncrease\": 44053.0, \"death\": 171612.0, \"deathIncrease\": 1298.0, \"positiveRate\": 0.065, \"state\": \"US\", \"sma7d\": 0.058}, {\"date\": \"2020-08-27T00:00:00\", \"totalTestResultsIncrease\": 791621.0, \"positiveIncrease\": 43984.0, \"death\": 172741.0, \"deathIncrease\": 1129.0, \"positiveRate\": 0.056, \"state\": \"US\", \"sma7d\": 0.057}, {\"date\": \"2020-08-28T00:00:00\", \"totalTestResultsIncrease\": 818699.0, \"positiveIncrease\": 46548.0, \"death\": 173764.0, \"deathIncrease\": 1023.0, \"positiveRate\": 0.057, \"state\": \"US\", \"sma7d\": 0.057}, {\"date\": \"2020-08-29T00:00:00\", \"totalTestResultsIncrease\": 815422.0, \"positiveIncrease\": 44501.0, \"death\": 174779.0, \"deathIncrease\": 1015.0, \"positiveRate\": 0.055, \"state\": \"US\", \"sma7d\": 0.056}, {\"date\": \"2020-08-30T00:00:00\", \"totalTestResultsIncrease\": 774335.0, \"positiveIncrease\": 39501.0, \"death\": 175254.0, \"deathIncrease\": 475.0, \"positiveRate\": 0.051, \"state\": \"US\", \"sma7d\": 0.055}, {\"date\": \"2020-08-31T00:00:00\", \"totalTestResultsIncrease\": 705130.0, \"positiveIncrease\": 31406.0, \"death\": 175620.0, \"deathIncrease\": 366.0, \"positiveRate\": 0.045, \"state\": \"US\", \"sma7d\": 0.055}, {\"date\": \"2020-09-01T00:00:00\", \"totalTestResultsIncrease\": 732413.0, \"positiveIncrease\": 42433.0, \"death\": 176647.0, \"deathIncrease\": 1027.0, \"positiveRate\": 0.058, \"state\": \"US\", \"sma7d\": 0.055}, {\"date\": \"2020-09-02T00:00:00\", \"totalTestResultsIncrease\": 683904.0, \"positiveIncrease\": 30603.0, \"death\": 177679.0, \"deathIncrease\": 1032.0, \"positiveRate\": 0.045, \"state\": \"US\", \"sma7d\": 0.052}, {\"date\": \"2020-09-03T00:00:00\", \"totalTestResultsIncrease\": 798189.0, \"positiveIncrease\": 44714.0, \"death\": 178749.0, \"deathIncrease\": 1070.0, \"positiveRate\": 0.056, \"state\": \"US\", \"sma7d\": 0.052}, {\"date\": \"2020-09-04T00:00:00\", \"totalTestResultsIncrease\": 949705.0, \"positiveIncrease\": 51591.0, \"death\": 179747.0, \"deathIncrease\": 998.0, \"positiveRate\": 0.054, \"state\": \"US\", \"sma7d\": 0.052}, {\"date\": \"2020-09-05T00:00:00\", \"totalTestResultsIncrease\": 876560.0, \"positiveIncrease\": 44905.0, \"death\": 180665.0, \"deathIncrease\": 918.0, \"positiveRate\": 0.051, \"state\": \"US\", \"sma7d\": 0.051}, {\"date\": \"2020-09-06T00:00:00\", \"totalTestResultsIncrease\": 782353.0, \"positiveIncrease\": 33117.0, \"death\": 181114.0, \"deathIncrease\": 449.0, \"positiveRate\": 0.042, \"state\": \"US\", \"sma7d\": 0.05}, {\"date\": \"2020-09-07T00:00:00\", \"totalTestResultsIncrease\": 615271.0, \"positiveIncrease\": 28682.0, \"death\": 181339.0, \"deathIncrease\": 225.0, \"positiveRate\": 0.047, \"state\": \"US\", \"sma7d\": 0.05}, {\"date\": \"2020-09-08T00:00:00\", \"totalTestResultsIncrease\": 540044.0, \"positiveIncrease\": 22223.0, \"death\": 181697.0, \"deathIncrease\": 358.0, \"positiveRate\": 0.041, \"state\": \"US\", \"sma7d\": 0.048}, {\"date\": \"2020-09-09T00:00:00\", \"totalTestResultsIncrease\": 626180.0, \"positiveIncrease\": 30983.0, \"death\": 182780.0, \"deathIncrease\": 1083.0, \"positiveRate\": 0.049, \"state\": \"US\", \"sma7d\": 0.049}, {\"date\": \"2020-09-10T00:00:00\", \"totalTestResultsIncrease\": 690301.0, \"positiveIncrease\": 37581.0, \"death\": 183950.0, \"deathIncrease\": 1170.0, \"positiveRate\": 0.054, \"state\": \"US\", \"sma7d\": 0.048}, {\"date\": \"2020-09-11T00:00:00\", \"totalTestResultsIncrease\": 826358.0, \"positiveIncrease\": 44927.0, \"death\": 184968.0, \"deathIncrease\": 1018.0, \"positiveRate\": 0.054, \"state\": \"US\", \"sma7d\": 0.048}, {\"date\": \"2020-09-12T00:00:00\", \"totalTestResultsIncrease\": 903365.0, \"positiveIncrease\": 42087.0, \"death\": 185778.0, \"deathIncrease\": 810.0, \"positiveRate\": 0.047, \"state\": \"US\", \"sma7d\": 0.048}, {\"date\": \"2020-09-13T00:00:00\", \"totalTestResultsIncrease\": 728220.0, \"positiveIncrease\": 34453.0, \"death\": 186167.0, \"deathIncrease\": 389.0, \"positiveRate\": 0.047, \"state\": \"US\", \"sma7d\": 0.048}, {\"date\": \"2020-09-14T00:00:00\", \"totalTestResultsIncrease\": 445836.0, \"positiveIncrease\": 33864.0, \"death\": 186571.0, \"deathIncrease\": 404.0, \"positiveRate\": 0.076, \"state\": \"US\", \"sma7d\": 0.053}, {\"date\": \"2020-09-15T00:00:00\", \"totalTestResultsIncrease\": 724756.0, \"positiveIncrease\": 35445.0, \"death\": 187602.0, \"deathIncrease\": 1031.0, \"positiveRate\": 0.049, \"state\": \"US\", \"sma7d\": 0.054}, {\"date\": \"2020-09-16T00:00:00\", \"totalTestResultsIncrease\": 729637.0, \"positiveIncrease\": 40021.0, \"death\": 188802.0, \"deathIncrease\": 1200.0, \"positiveRate\": 0.055, \"state\": \"US\", \"sma7d\": 0.055}, {\"date\": \"2020-09-17T00:00:00\", \"totalTestResultsIncrease\": 841941.0, \"positiveIncrease\": 43558.0, \"death\": 189665.0, \"deathIncrease\": 863.0, \"positiveRate\": 0.052, \"state\": \"US\", \"sma7d\": 0.054}, {\"date\": \"2020-09-18T00:00:00\", \"totalTestResultsIncrease\": 985004.0, \"positiveIncrease\": 47486.0, \"death\": 190566.0, \"deathIncrease\": 901.0, \"positiveRate\": 0.048, \"state\": \"US\", \"sma7d\": 0.053}, {\"date\": \"2020-09-19T00:00:00\", \"totalTestResultsIncrease\": 1066069.0, \"positiveIncrease\": 45539.0, \"death\": 191306.0, \"deathIncrease\": 740.0, \"positiveRate\": 0.043, \"state\": \"US\", \"sma7d\": 0.053}, {\"date\": \"2020-09-20T00:00:00\", \"totalTestResultsIncrease\": 905323.0, \"positiveIncrease\": 36295.0, \"death\": 191633.0, \"deathIncrease\": 327.0, \"positiveRate\": 0.04, \"state\": \"US\", \"sma7d\": 0.052}, {\"date\": \"2020-09-21T00:00:00\", \"totalTestResultsIncrease\": 725311.0, \"positiveIncrease\": 39472.0, \"death\": 191920.0, \"deathIncrease\": 287.0, \"positiveRate\": 0.054, \"state\": \"US\", \"sma7d\": 0.049}, {\"date\": \"2020-09-22T00:00:00\", \"totalTestResultsIncrease\": 769953.0, \"positiveIncrease\": 49439.0, \"death\": 192774.0, \"deathIncrease\": 854.0, \"positiveRate\": 0.064, \"state\": \"US\", \"sma7d\": 0.051}, {\"date\": \"2020-09-23T00:00:00\", \"totalTestResultsIncrease\": 923704.0, \"positiveIncrease\": 38567.0, \"death\": 193931.0, \"deathIncrease\": 1157.0, \"positiveRate\": 0.042, \"state\": \"US\", \"sma7d\": 0.049}, {\"date\": \"2020-09-24T00:00:00\", \"totalTestResultsIncrease\": 940353.0, \"positiveIncrease\": 43772.0, \"death\": 194807.0, \"deathIncrease\": 921.0, \"positiveRate\": 0.047, \"state\": \"US\", \"sma7d\": 0.048}]}}, {\"mode\": \"vega-lite\"});\n",
       "</script>"
      ],
      "text/plain": [
       "alt.LayerChart(...)"
      ]
     },
     "execution_count": 8,
     "metadata": {},
     "output_type": "execute_result"
    }
   ],
   "source": [
    "create_plot(us, 'positiveRate')"
   ]
  },
  {
   "cell_type": "code",
   "execution_count": 9,
   "metadata": {
    "execution": {
     "iopub.execute_input": "2020-09-25T22:33:30.320730Z",
     "iopub.status.busy": "2020-09-25T22:33:30.310361Z",
     "iopub.status.idle": "2020-09-25T22:33:30.380018Z",
     "shell.execute_reply": "2020-09-25T22:33:30.380444Z"
    },
    "papermill": {
     "duration": 0.094285,
     "end_time": "2020-09-25T22:33:30.380564",
     "exception": false,
     "start_time": "2020-09-25T22:33:30.286279",
     "status": "completed"
    },
    "tags": []
   },
   "outputs": [
    {
     "data": {
      "text/html": [
       "\n",
       "<div id=\"altair-viz-3f15c188c8f64b109920588627fe26e4\"></div>\n",
       "<script type=\"text/javascript\">\n",
       "  (function(spec, embedOpt){\n",
       "    let outputDiv = document.currentScript.previousElementSibling;\n",
       "    if (outputDiv.id !== \"altair-viz-3f15c188c8f64b109920588627fe26e4\") {\n",
       "      outputDiv = document.getElementById(\"altair-viz-3f15c188c8f64b109920588627fe26e4\");\n",
       "    }\n",
       "    const paths = {\n",
       "      \"vega\": \"https://cdn.jsdelivr.net/npm//vega@5?noext\",\n",
       "      \"vega-lib\": \"https://cdn.jsdelivr.net/npm//vega-lib?noext\",\n",
       "      \"vega-lite\": \"https://cdn.jsdelivr.net/npm//vega-lite@4.8.1?noext\",\n",
       "      \"vega-embed\": \"https://cdn.jsdelivr.net/npm//vega-embed@6?noext\",\n",
       "    };\n",
       "\n",
       "    function loadScript(lib) {\n",
       "      return new Promise(function(resolve, reject) {\n",
       "        var s = document.createElement('script');\n",
       "        s.src = paths[lib];\n",
       "        s.async = true;\n",
       "        s.onload = () => resolve(paths[lib]);\n",
       "        s.onerror = () => reject(`Error loading script: ${paths[lib]}`);\n",
       "        document.getElementsByTagName(\"head\")[0].appendChild(s);\n",
       "      });\n",
       "    }\n",
       "\n",
       "    function showError(err) {\n",
       "      outputDiv.innerHTML = `<div class=\"error\" style=\"color:red;\">${err}</div>`;\n",
       "      throw err;\n",
       "    }\n",
       "\n",
       "    function displayChart(vegaEmbed) {\n",
       "      vegaEmbed(outputDiv, spec, embedOpt)\n",
       "        .catch(err => showError(`Javascript Error: ${err.message}<br>This usually means there's a typo in your chart specification. See the javascript console for the full traceback.`));\n",
       "    }\n",
       "\n",
       "    if(typeof define === \"function\" && define.amd) {\n",
       "      requirejs.config({paths});\n",
       "      require([\"vega-embed\"], displayChart, err => showError(`Error loading script: ${err.message}`));\n",
       "    } else if (typeof vegaEmbed === \"function\") {\n",
       "      displayChart(vegaEmbed);\n",
       "    } else {\n",
       "      loadScript(\"vega\")\n",
       "        .then(() => loadScript(\"vega-lite\"))\n",
       "        .then(() => loadScript(\"vega-embed\"))\n",
       "        .catch(showError)\n",
       "        .then(() => displayChart(vegaEmbed));\n",
       "    }\n",
       "  })({\"config\": {\"view\": {\"continuousWidth\": 400, \"continuousHeight\": 300}}, \"layer\": [{\"layer\": [{\"mark\": {\"type\": \"point\", \"size\": 75}, \"encoding\": {\"tooltip\": [{\"type\": \"temporal\", \"field\": \"date\"}, {\"type\": \"quantitative\", \"field\": \"deathIncrease\"}, {\"type\": \"quantitative\", \"field\": \"sma7d\"}], \"x\": {\"type\": \"temporal\", \"field\": \"date\"}, \"y\": {\"type\": \"quantitative\", \"field\": \"deathIncrease\"}}, \"selection\": {\"selector006\": {\"type\": \"interval\", \"bind\": \"scales\", \"encodings\": [\"x\", \"y\"]}}}, {\"mark\": {\"type\": \"line\", \"color\": \"purple\"}, \"encoding\": {\"x\": {\"type\": \"temporal\", \"field\": \"date\"}, \"y\": {\"type\": \"quantitative\", \"field\": \"sma7d\"}}}]}, {\"mark\": {\"type\": \"rule\", \"color\": \"#aaa\"}, \"encoding\": {\"x\": {\"type\": \"temporal\", \"field\": \"date\"}}, \"transform\": [{\"filter\": {\"selection\": \"selector005\"}}]}, {\"mark\": \"circle\", \"encoding\": {\"opacity\": {\"condition\": {\"value\": 1, \"selection\": \"selector005\"}, \"value\": 0}, \"tooltip\": [{\"type\": \"temporal\", \"field\": \"date\"}, {\"type\": \"quantitative\", \"field\": \"deathIncrease\"}, {\"type\": \"quantitative\", \"field\": \"sma7d\"}], \"x\": {\"type\": \"temporal\", \"field\": \"date\"}, \"y\": {\"type\": \"quantitative\", \"field\": \"deathIncrease\"}}, \"selection\": {\"selector005\": {\"type\": \"single\", \"encodings\": [\"x\"], \"on\": \"mouseover\", \"nearest\": true, \"empty\": \"none\"}}}, {\"mark\": {\"type\": \"text\", \"align\": \"left\", \"dx\": 5, \"dy\": -5, \"stroke\": \"white\", \"strokeWidth\": 2}, \"encoding\": {\"text\": {\"type\": \"quantitative\", \"field\": \"deathIncrease\"}, \"tooltip\": [{\"type\": \"temporal\", \"field\": \"date\"}, {\"type\": \"quantitative\", \"field\": \"deathIncrease\"}, {\"type\": \"quantitative\", \"field\": \"sma7d\"}], \"x\": {\"type\": \"temporal\", \"field\": \"date\"}, \"y\": {\"type\": \"quantitative\", \"field\": \"deathIncrease\"}}, \"transform\": [{\"filter\": {\"selection\": \"selector005\"}}]}, {\"mark\": {\"type\": \"text\", \"align\": \"left\", \"dx\": 5, \"dy\": -5}, \"encoding\": {\"text\": {\"type\": \"quantitative\", \"field\": \"deathIncrease\"}, \"tooltip\": [{\"type\": \"temporal\", \"field\": \"date\"}, {\"type\": \"quantitative\", \"field\": \"deathIncrease\"}, {\"type\": \"quantitative\", \"field\": \"sma7d\"}], \"x\": {\"type\": \"temporal\", \"field\": \"date\"}, \"y\": {\"type\": \"quantitative\", \"field\": \"deathIncrease\"}}, \"transform\": [{\"filter\": {\"selection\": \"selector005\"}}]}], \"data\": {\"name\": \"data-0b26bf3cf0f906b1c2c8a69c749fa190\"}, \"height\": 400, \"title\": \"US: deathIncrease\", \"width\": 500, \"$schema\": \"https://vega.github.io/schema/vega-lite/v4.8.1.json\", \"datasets\": {\"data-0b26bf3cf0f906b1c2c8a69c749fa190\": [{\"date\": \"2020-08-01T00:00:00\", \"totalTestResultsIncrease\": 751919.0, \"positiveIncrease\": 61101.0, \"death\": 146546.0, \"deathIncrease\": 1190.0, \"positiveRate\": 0.081, \"state\": \"US\", \"sma7d\": 1142.0}, {\"date\": \"2020-08-02T00:00:00\", \"totalTestResultsIncrease\": 703760.0, \"positiveIncrease\": 46812.0, \"death\": 147044.0, \"deathIncrease\": 498.0, \"positiveRate\": 0.067, \"state\": \"US\", \"sma7d\": 1133.286}, {\"date\": \"2020-08-03T00:00:00\", \"totalTestResultsIncrease\": 765730.0, \"positiveIncrease\": 49713.0, \"death\": 147563.0, \"deathIncrease\": 519.0, \"positiveRate\": 0.065, \"state\": \"US\", \"sma7d\": 1056.0}, {\"date\": \"2020-08-04T00:00:00\", \"totalTestResultsIncrease\": 731054.0, \"positiveIncrease\": 51866.0, \"death\": 148818.0, \"deathIncrease\": 1255.0, \"positiveRate\": 0.071, \"state\": \"US\", \"sma7d\": 1075.0}, {\"date\": \"2020-08-05T00:00:00\", \"totalTestResultsIncrease\": 712462.0, \"positiveIncrease\": 52324.0, \"death\": 150164.0, \"deathIncrease\": 1346.0, \"positiveRate\": 0.073, \"state\": \"US\", \"sma7d\": 1054.143}, {\"date\": \"2020-08-06T00:00:00\", \"totalTestResultsIncrease\": 785235.0, \"positiveIncrease\": 54187.0, \"death\": 151415.0, \"deathIncrease\": 1251.0, \"positiveRate\": 0.069, \"state\": \"US\", \"sma7d\": 1053.0}, {\"date\": \"2020-08-07T00:00:00\", \"totalTestResultsIncrease\": 803528.0, \"positiveIncrease\": 61345.0, \"death\": 152748.0, \"deathIncrease\": 1333.0, \"positiveRate\": 0.076, \"state\": \"US\", \"sma7d\": 1056.0}, {\"date\": \"2020-08-08T00:00:00\", \"totalTestResultsIncrease\": 688702.0, \"positiveIncrease\": 53712.0, \"death\": 153837.0, \"deathIncrease\": 1089.0, \"positiveRate\": 0.078, \"state\": \"US\", \"sma7d\": 1041.571}, {\"date\": \"2020-08-09T00:00:00\", \"totalTestResultsIncrease\": 726152.0, \"positiveIncrease\": 50627.0, \"death\": 154453.0, \"deathIncrease\": 616.0, \"positiveRate\": 0.07, \"state\": \"US\", \"sma7d\": 1058.429}, {\"date\": \"2020-08-10T00:00:00\", \"totalTestResultsIncrease\": 753155.0, \"positiveIncrease\": 42089.0, \"death\": 154879.0, \"deathIncrease\": 426.0, \"positiveRate\": 0.056, \"state\": \"US\", \"sma7d\": 1045.143}, {\"date\": \"2020-08-11T00:00:00\", \"totalTestResultsIncrease\": 756116.0, \"positiveIncrease\": 55701.0, \"death\": 156205.0, \"deathIncrease\": 1326.0, \"positiveRate\": 0.074, \"state\": \"US\", \"sma7d\": 1055.286}, {\"date\": \"2020-08-12T00:00:00\", \"totalTestResultsIncrease\": 487484.0, \"positiveIncrease\": 56134.0, \"death\": 157724.0, \"deathIncrease\": 1519.0, \"positiveRate\": 0.115, \"state\": \"US\", \"sma7d\": 1080.0}, {\"date\": \"2020-08-13T00:00:00\", \"totalTestResultsIncrease\": 925197.0, \"positiveIncrease\": 51759.0, \"death\": 158887.0, \"deathIncrease\": 1163.0, \"positiveRate\": 0.056, \"state\": \"US\", \"sma7d\": 1067.429}, {\"date\": \"2020-08-14T00:00:00\", \"totalTestResultsIncrease\": 885486.0, \"positiveIncrease\": 55636.0, \"death\": 160103.0, \"deathIncrease\": 1216.0, \"positiveRate\": 0.063, \"state\": \"US\", \"sma7d\": 1050.714}, {\"date\": \"2020-08-15T00:00:00\", \"totalTestResultsIncrease\": 779619.0, \"positiveIncrease\": 56149.0, \"death\": 161324.0, \"deathIncrease\": 1221.0, \"positiveRate\": 0.072, \"state\": \"US\", \"sma7d\": 1069.571}, {\"date\": \"2020-08-16T00:00:00\", \"totalTestResultsIncrease\": 808057.0, \"positiveIncrease\": 42487.0, \"death\": 161943.0, \"deathIncrease\": 619.0, \"positiveRate\": 0.053, \"state\": \"US\", \"sma7d\": 1070.0}, {\"date\": \"2020-08-17T00:00:00\", \"totalTestResultsIncrease\": 685807.0, \"positiveIncrease\": 37880.0, \"death\": 162350.0, \"deathIncrease\": 407.0, \"positiveRate\": 0.055, \"state\": \"US\", \"sma7d\": 1067.286}, {\"date\": \"2020-08-18T00:00:00\", \"totalTestResultsIncrease\": 673737.0, \"positiveIncrease\": 40795.0, \"death\": 163546.0, \"deathIncrease\": 1196.0, \"positiveRate\": 0.061, \"state\": \"US\", \"sma7d\": 1048.714}, {\"date\": \"2020-08-19T00:00:00\", \"totalTestResultsIncrease\": 703917.0, \"positiveIncrease\": 44955.0, \"death\": 164966.0, \"deathIncrease\": 1420.0, \"positiveRate\": 0.064, \"state\": \"US\", \"sma7d\": 1034.571}, {\"date\": \"2020-08-20T00:00:00\", \"totalTestResultsIncrease\": 726290.0, \"positiveIncrease\": 43758.0, \"death\": 166100.0, \"deathIncrease\": 1134.0, \"positiveRate\": 0.06, \"state\": \"US\", \"sma7d\": 1030.429}, {\"date\": \"2020-08-21T00:00:00\", \"totalTestResultsIncrease\": 785049.0, \"positiveIncrease\": 46561.0, \"death\": 167223.0, \"deathIncrease\": 1123.0, \"positiveRate\": 0.059, \"state\": \"US\", \"sma7d\": 1017.143}, {\"date\": \"2020-08-22T00:00:00\", \"totalTestResultsIncrease\": 794254.0, \"positiveIncrease\": 46236.0, \"death\": 168252.0, \"deathIncrease\": 1029.0, \"positiveRate\": 0.058, \"state\": \"US\", \"sma7d\": 989.714}, {\"date\": \"2020-08-23T00:00:00\", \"totalTestResultsIncrease\": 645324.0, \"positiveIncrease\": 37566.0, \"death\": 168824.0, \"deathIncrease\": 572.0, \"positiveRate\": 0.058, \"state\": \"US\", \"sma7d\": 983.0}, {\"date\": \"2020-08-24T00:00:00\", \"totalTestResultsIncrease\": 713471.0, \"positiveIncrease\": 34643.0, \"death\": 169167.0, \"deathIncrease\": 343.0, \"positiveRate\": 0.049, \"state\": \"US\", \"sma7d\": 973.857}, {\"date\": \"2020-08-25T00:00:00\", \"totalTestResultsIncrease\": 664004.0, \"positiveIncrease\": 36379.0, \"death\": 170314.0, \"deathIncrease\": 1147.0, \"positiveRate\": 0.055, \"state\": \"US\", \"sma7d\": 966.857}, {\"date\": \"2020-08-26T00:00:00\", \"totalTestResultsIncrease\": 680581.0, \"positiveIncrease\": 44053.0, \"death\": 171612.0, \"deathIncrease\": 1298.0, \"positiveRate\": 0.065, \"state\": \"US\", \"sma7d\": 949.429}, {\"date\": \"2020-08-27T00:00:00\", \"totalTestResultsIncrease\": 791621.0, \"positiveIncrease\": 43984.0, \"death\": 172741.0, \"deathIncrease\": 1129.0, \"positiveRate\": 0.056, \"state\": \"US\", \"sma7d\": 948.714}, {\"date\": \"2020-08-28T00:00:00\", \"totalTestResultsIncrease\": 818699.0, \"positiveIncrease\": 46548.0, \"death\": 173764.0, \"deathIncrease\": 1023.0, \"positiveRate\": 0.057, \"state\": \"US\", \"sma7d\": 934.429}, {\"date\": \"2020-08-29T00:00:00\", \"totalTestResultsIncrease\": 815422.0, \"positiveIncrease\": 44501.0, \"death\": 174779.0, \"deathIncrease\": 1015.0, \"positiveRate\": 0.055, \"state\": \"US\", \"sma7d\": 932.429}, {\"date\": \"2020-08-30T00:00:00\", \"totalTestResultsIncrease\": 774335.0, \"positiveIncrease\": 39501.0, \"death\": 175254.0, \"deathIncrease\": 475.0, \"positiveRate\": 0.051, \"state\": \"US\", \"sma7d\": 918.571}, {\"date\": \"2020-08-31T00:00:00\", \"totalTestResultsIncrease\": 705130.0, \"positiveIncrease\": 31406.0, \"death\": 175620.0, \"deathIncrease\": 366.0, \"positiveRate\": 0.045, \"state\": \"US\", \"sma7d\": 921.857}, {\"date\": \"2020-09-01T00:00:00\", \"totalTestResultsIncrease\": 732413.0, \"positiveIncrease\": 42433.0, \"death\": 176647.0, \"deathIncrease\": 1027.0, \"positiveRate\": 0.058, \"state\": \"US\", \"sma7d\": 904.714}, {\"date\": \"2020-09-02T00:00:00\", \"totalTestResultsIncrease\": 683904.0, \"positiveIncrease\": 30603.0, \"death\": 177679.0, \"deathIncrease\": 1032.0, \"positiveRate\": 0.045, \"state\": \"US\", \"sma7d\": 866.714}, {\"date\": \"2020-09-03T00:00:00\", \"totalTestResultsIncrease\": 798189.0, \"positiveIncrease\": 44714.0, \"death\": 178749.0, \"deathIncrease\": 1070.0, \"positiveRate\": 0.056, \"state\": \"US\", \"sma7d\": 858.286}, {\"date\": \"2020-09-04T00:00:00\", \"totalTestResultsIncrease\": 949705.0, \"positiveIncrease\": 51591.0, \"death\": 179747.0, \"deathIncrease\": 998.0, \"positiveRate\": 0.054, \"state\": \"US\", \"sma7d\": 854.714}, {\"date\": \"2020-09-05T00:00:00\", \"totalTestResultsIncrease\": 876560.0, \"positiveIncrease\": 44905.0, \"death\": 180665.0, \"deathIncrease\": 918.0, \"positiveRate\": 0.051, \"state\": \"US\", \"sma7d\": 840.857}, {\"date\": \"2020-09-06T00:00:00\", \"totalTestResultsIncrease\": 782353.0, \"positiveIncrease\": 33117.0, \"death\": 181114.0, \"deathIncrease\": 449.0, \"positiveRate\": 0.042, \"state\": \"US\", \"sma7d\": 837.143}, {\"date\": \"2020-09-07T00:00:00\", \"totalTestResultsIncrease\": 615271.0, \"positiveIncrease\": 28682.0, \"death\": 181339.0, \"deathIncrease\": 225.0, \"positiveRate\": 0.047, \"state\": \"US\", \"sma7d\": 817.0}, {\"date\": \"2020-09-08T00:00:00\", \"totalTestResultsIncrease\": 540044.0, \"positiveIncrease\": 22223.0, \"death\": 181697.0, \"deathIncrease\": 358.0, \"positiveRate\": 0.041, \"state\": \"US\", \"sma7d\": 721.429}, {\"date\": \"2020-09-09T00:00:00\", \"totalTestResultsIncrease\": 626180.0, \"positiveIncrease\": 30983.0, \"death\": 182780.0, \"deathIncrease\": 1083.0, \"positiveRate\": 0.049, \"state\": \"US\", \"sma7d\": 728.714}, {\"date\": \"2020-09-10T00:00:00\", \"totalTestResultsIncrease\": 690301.0, \"positiveIncrease\": 37581.0, \"death\": 183950.0, \"deathIncrease\": 1170.0, \"positiveRate\": 0.054, \"state\": \"US\", \"sma7d\": 743.0}, {\"date\": \"2020-09-11T00:00:00\", \"totalTestResultsIncrease\": 826358.0, \"positiveIncrease\": 44927.0, \"death\": 184968.0, \"deathIncrease\": 1018.0, \"positiveRate\": 0.054, \"state\": \"US\", \"sma7d\": 745.857}, {\"date\": \"2020-09-12T00:00:00\", \"totalTestResultsIncrease\": 903365.0, \"positiveIncrease\": 42087.0, \"death\": 185778.0, \"deathIncrease\": 810.0, \"positiveRate\": 0.047, \"state\": \"US\", \"sma7d\": 730.429}, {\"date\": \"2020-09-13T00:00:00\", \"totalTestResultsIncrease\": 728220.0, \"positiveIncrease\": 34453.0, \"death\": 186167.0, \"deathIncrease\": 389.0, \"positiveRate\": 0.047, \"state\": \"US\", \"sma7d\": 721.857}, {\"date\": \"2020-09-14T00:00:00\", \"totalTestResultsIncrease\": 445836.0, \"positiveIncrease\": 33864.0, \"death\": 186571.0, \"deathIncrease\": 404.0, \"positiveRate\": 0.076, \"state\": \"US\", \"sma7d\": 747.429}, {\"date\": \"2020-09-15T00:00:00\", \"totalTestResultsIncrease\": 724756.0, \"positiveIncrease\": 35445.0, \"death\": 187602.0, \"deathIncrease\": 1031.0, \"positiveRate\": 0.049, \"state\": \"US\", \"sma7d\": 843.571}, {\"date\": \"2020-09-16T00:00:00\", \"totalTestResultsIncrease\": 729637.0, \"positiveIncrease\": 40021.0, \"death\": 188802.0, \"deathIncrease\": 1200.0, \"positiveRate\": 0.055, \"state\": \"US\", \"sma7d\": 860.286}, {\"date\": \"2020-09-17T00:00:00\", \"totalTestResultsIncrease\": 841941.0, \"positiveIncrease\": 43558.0, \"death\": 189665.0, \"deathIncrease\": 863.0, \"positiveRate\": 0.052, \"state\": \"US\", \"sma7d\": 816.429}, {\"date\": \"2020-09-18T00:00:00\", \"totalTestResultsIncrease\": 985004.0, \"positiveIncrease\": 47486.0, \"death\": 190566.0, \"deathIncrease\": 901.0, \"positiveRate\": 0.048, \"state\": \"US\", \"sma7d\": 799.714}, {\"date\": \"2020-09-19T00:00:00\", \"totalTestResultsIncrease\": 1066069.0, \"positiveIncrease\": 45539.0, \"death\": 191306.0, \"deathIncrease\": 740.0, \"positiveRate\": 0.043, \"state\": \"US\", \"sma7d\": 789.714}, {\"date\": \"2020-09-20T00:00:00\", \"totalTestResultsIncrease\": 905323.0, \"positiveIncrease\": 36295.0, \"death\": 191633.0, \"deathIncrease\": 327.0, \"positiveRate\": 0.04, \"state\": \"US\", \"sma7d\": 780.857}, {\"date\": \"2020-09-21T00:00:00\", \"totalTestResultsIncrease\": 725311.0, \"positiveIncrease\": 39472.0, \"death\": 191920.0, \"deathIncrease\": 287.0, \"positiveRate\": 0.054, \"state\": \"US\", \"sma7d\": 764.143}, {\"date\": \"2020-09-22T00:00:00\", \"totalTestResultsIncrease\": 769953.0, \"positiveIncrease\": 49439.0, \"death\": 192774.0, \"deathIncrease\": 854.0, \"positiveRate\": 0.064, \"state\": \"US\", \"sma7d\": 738.857}, {\"date\": \"2020-09-23T00:00:00\", \"totalTestResultsIncrease\": 923704.0, \"positiveIncrease\": 38567.0, \"death\": 193931.0, \"deathIncrease\": 1157.0, \"positiveRate\": 0.042, \"state\": \"US\", \"sma7d\": 732.714}, {\"date\": \"2020-09-24T00:00:00\", \"totalTestResultsIncrease\": 940353.0, \"positiveIncrease\": 43772.0, \"death\": 194807.0, \"deathIncrease\": 921.0, \"positiveRate\": 0.047, \"state\": \"US\", \"sma7d\": 741.0}]}}, {\"mode\": \"vega-lite\"});\n",
       "</script>"
      ],
      "text/plain": [
       "alt.LayerChart(...)"
      ]
     },
     "execution_count": 9,
     "metadata": {},
     "output_type": "execute_result"
    }
   ],
   "source": [
    "create_plot(us, 'deathIncrease')"
   ]
  },
  {
   "cell_type": "markdown",
   "metadata": {
    "papermill": {
     "duration": 0.014158,
     "end_time": "2020-09-25T22:33:30.408519",
     "exception": false,
     "start_time": "2020-09-25T22:33:30.394361",
     "status": "completed"
    },
    "tags": []
   },
   "source": [
    "## NY"
   ]
  },
  {
   "cell_type": "code",
   "execution_count": 10,
   "metadata": {
    "execution": {
     "iopub.execute_input": "2020-09-25T22:33:30.439582Z",
     "iopub.status.busy": "2020-09-25T22:33:30.439077Z",
     "iopub.status.idle": "2020-09-25T22:33:30.670705Z",
     "shell.execute_reply": "2020-09-25T22:33:30.671241Z"
    },
    "papermill": {
     "duration": 0.248532,
     "end_time": "2020-09-25T22:33:30.671420",
     "exception": false,
     "start_time": "2020-09-25T22:33:30.422888",
     "status": "completed"
    },
    "tags": []
   },
   "outputs": [],
   "source": [
    "ny = create_df(df, (lambda d: d['state'] == 'NY'), 'New York')"
   ]
  },
  {
   "cell_type": "code",
   "execution_count": 11,
   "metadata": {
    "execution": {
     "iopub.execute_input": "2020-09-25T22:33:30.726277Z",
     "iopub.status.busy": "2020-09-25T22:33:30.716057Z",
     "iopub.status.idle": "2020-09-25T22:33:30.791073Z",
     "shell.execute_reply": "2020-09-25T22:33:30.791907Z"
    },
    "papermill": {
     "duration": 0.107352,
     "end_time": "2020-09-25T22:33:30.792200",
     "exception": false,
     "start_time": "2020-09-25T22:33:30.684848",
     "status": "completed"
    },
    "tags": []
   },
   "outputs": [
    {
     "data": {
      "text/html": [
       "\n",
       "<div id=\"altair-viz-316dca95c1c34f41952705bdd4191119\"></div>\n",
       "<script type=\"text/javascript\">\n",
       "  (function(spec, embedOpt){\n",
       "    let outputDiv = document.currentScript.previousElementSibling;\n",
       "    if (outputDiv.id !== \"altair-viz-316dca95c1c34f41952705bdd4191119\") {\n",
       "      outputDiv = document.getElementById(\"altair-viz-316dca95c1c34f41952705bdd4191119\");\n",
       "    }\n",
       "    const paths = {\n",
       "      \"vega\": \"https://cdn.jsdelivr.net/npm//vega@5?noext\",\n",
       "      \"vega-lib\": \"https://cdn.jsdelivr.net/npm//vega-lib?noext\",\n",
       "      \"vega-lite\": \"https://cdn.jsdelivr.net/npm//vega-lite@4.8.1?noext\",\n",
       "      \"vega-embed\": \"https://cdn.jsdelivr.net/npm//vega-embed@6?noext\",\n",
       "    };\n",
       "\n",
       "    function loadScript(lib) {\n",
       "      return new Promise(function(resolve, reject) {\n",
       "        var s = document.createElement('script');\n",
       "        s.src = paths[lib];\n",
       "        s.async = true;\n",
       "        s.onload = () => resolve(paths[lib]);\n",
       "        s.onerror = () => reject(`Error loading script: ${paths[lib]}`);\n",
       "        document.getElementsByTagName(\"head\")[0].appendChild(s);\n",
       "      });\n",
       "    }\n",
       "\n",
       "    function showError(err) {\n",
       "      outputDiv.innerHTML = `<div class=\"error\" style=\"color:red;\">${err}</div>`;\n",
       "      throw err;\n",
       "    }\n",
       "\n",
       "    function displayChart(vegaEmbed) {\n",
       "      vegaEmbed(outputDiv, spec, embedOpt)\n",
       "        .catch(err => showError(`Javascript Error: ${err.message}<br>This usually means there's a typo in your chart specification. See the javascript console for the full traceback.`));\n",
       "    }\n",
       "\n",
       "    if(typeof define === \"function\" && define.amd) {\n",
       "      requirejs.config({paths});\n",
       "      require([\"vega-embed\"], displayChart, err => showError(`Error loading script: ${err.message}`));\n",
       "    } else if (typeof vegaEmbed === \"function\") {\n",
       "      displayChart(vegaEmbed);\n",
       "    } else {\n",
       "      loadScript(\"vega\")\n",
       "        .then(() => loadScript(\"vega-lite\"))\n",
       "        .then(() => loadScript(\"vega-embed\"))\n",
       "        .catch(showError)\n",
       "        .then(() => displayChart(vegaEmbed));\n",
       "    }\n",
       "  })({\"config\": {\"view\": {\"continuousWidth\": 400, \"continuousHeight\": 300}}, \"layer\": [{\"layer\": [{\"mark\": {\"type\": \"point\", \"size\": 75}, \"encoding\": {\"tooltip\": [{\"type\": \"temporal\", \"field\": \"date\"}, {\"type\": \"quantitative\", \"field\": \"positiveIncrease\"}, {\"type\": \"quantitative\", \"field\": \"sma7d\"}], \"x\": {\"type\": \"temporal\", \"field\": \"date\"}, \"y\": {\"type\": \"quantitative\", \"field\": \"positiveIncrease\"}}, \"selection\": {\"selector008\": {\"type\": \"interval\", \"bind\": \"scales\", \"encodings\": [\"x\", \"y\"]}}}, {\"mark\": {\"type\": \"line\", \"color\": \"purple\"}, \"encoding\": {\"x\": {\"type\": \"temporal\", \"field\": \"date\"}, \"y\": {\"type\": \"quantitative\", \"field\": \"sma7d\"}}}]}, {\"mark\": {\"type\": \"rule\", \"color\": \"#aaa\"}, \"encoding\": {\"x\": {\"type\": \"temporal\", \"field\": \"date\"}}, \"transform\": [{\"filter\": {\"selection\": \"selector007\"}}]}, {\"mark\": \"circle\", \"encoding\": {\"opacity\": {\"condition\": {\"value\": 1, \"selection\": \"selector007\"}, \"value\": 0}, \"tooltip\": [{\"type\": \"temporal\", \"field\": \"date\"}, {\"type\": \"quantitative\", \"field\": \"positiveIncrease\"}, {\"type\": \"quantitative\", \"field\": \"sma7d\"}], \"x\": {\"type\": \"temporal\", \"field\": \"date\"}, \"y\": {\"type\": \"quantitative\", \"field\": \"positiveIncrease\"}}, \"selection\": {\"selector007\": {\"type\": \"single\", \"encodings\": [\"x\"], \"on\": \"mouseover\", \"nearest\": true, \"empty\": \"none\"}}}, {\"mark\": {\"type\": \"text\", \"align\": \"left\", \"dx\": 5, \"dy\": -5, \"stroke\": \"white\", \"strokeWidth\": 2}, \"encoding\": {\"text\": {\"type\": \"quantitative\", \"field\": \"positiveIncrease\"}, \"tooltip\": [{\"type\": \"temporal\", \"field\": \"date\"}, {\"type\": \"quantitative\", \"field\": \"positiveIncrease\"}, {\"type\": \"quantitative\", \"field\": \"sma7d\"}], \"x\": {\"type\": \"temporal\", \"field\": \"date\"}, \"y\": {\"type\": \"quantitative\", \"field\": \"positiveIncrease\"}}, \"transform\": [{\"filter\": {\"selection\": \"selector007\"}}]}, {\"mark\": {\"type\": \"text\", \"align\": \"left\", \"dx\": 5, \"dy\": -5}, \"encoding\": {\"text\": {\"type\": \"quantitative\", \"field\": \"positiveIncrease\"}, \"tooltip\": [{\"type\": \"temporal\", \"field\": \"date\"}, {\"type\": \"quantitative\", \"field\": \"positiveIncrease\"}, {\"type\": \"quantitative\", \"field\": \"sma7d\"}], \"x\": {\"type\": \"temporal\", \"field\": \"date\"}, \"y\": {\"type\": \"quantitative\", \"field\": \"positiveIncrease\"}}, \"transform\": [{\"filter\": {\"selection\": \"selector007\"}}]}], \"data\": {\"name\": \"data-778dfff54f475a19c65fd0365498a94d\"}, \"height\": 400, \"title\": \"New York: positiveIncrease\", \"width\": 500, \"$schema\": \"https://vega.github.io/schema/vega-lite/v4.8.1.json\", \"datasets\": {\"data-778dfff54f475a19c65fd0365498a94d\": [{\"date\": \"2020-08-01T00:00:00\", \"totalTestResultsIncrease\": 82737.0, \"positiveIncrease\": 753.0, \"death\": 25164.0, \"deathIncrease\": 14.0, \"positiveRate\": 0.009, \"state\": \"New York\", \"sma7d\": 652.429}, {\"date\": \"2020-08-02T00:00:00\", \"totalTestResultsIncrease\": 58961.0, \"positiveIncrease\": 531.0, \"death\": 25170.0, \"deathIncrease\": 6.0, \"positiveRate\": 0.009, \"state\": \"New York\", \"sma7d\": 651.714}, {\"date\": \"2020-08-03T00:00:00\", \"totalTestResultsIncrease\": 51839.0, \"positiveIncrease\": 545.0, \"death\": 25172.0, \"deathIncrease\": 2.0, \"positiveRate\": 0.011, \"state\": \"New York\", \"sma7d\": 642.714}, {\"date\": \"2020-08-04T00:00:00\", \"totalTestResultsIncrease\": 70993.0, \"positiveIncrease\": 746.0, \"death\": 25175.0, \"deathIncrease\": 3.0, \"positiveRate\": 0.011, \"state\": \"New York\", \"sma7d\": 673.0}, {\"date\": \"2020-08-05T00:00:00\", \"totalTestResultsIncrease\": 72668.0, \"positiveIncrease\": 636.0, \"death\": 25179.0, \"deathIncrease\": 4.0, \"positiveRate\": 0.009, \"state\": \"New York\", \"sma7d\": 661.714}, {\"date\": \"2020-08-06T00:00:00\", \"totalTestResultsIncrease\": 72370.0, \"positiveIncrease\": 703.0, \"death\": 25185.0, \"deathIncrease\": 6.0, \"positiveRate\": 0.01, \"state\": \"New York\", \"sma7d\": 651.143}, {\"date\": \"2020-08-07T00:00:00\", \"totalTestResultsIncrease\": 70170.0, \"positiveIncrease\": 714.0, \"death\": 25190.0, \"deathIncrease\": 5.0, \"positiveRate\": 0.01, \"state\": \"New York\", \"sma7d\": 661.143}, {\"date\": \"2020-08-08T00:00:00\", \"totalTestResultsIncrease\": 74857.0, \"positiveIncrease\": 703.0, \"death\": 25195.0, \"deathIncrease\": 5.0, \"positiveRate\": 0.009, \"state\": \"New York\", \"sma7d\": 654.0}, {\"date\": \"2020-08-09T00:00:00\", \"totalTestResultsIncrease\": 65812.0, \"positiveIncrease\": 515.0, \"death\": 25202.0, \"deathIncrease\": 7.0, \"positiveRate\": 0.008, \"state\": \"New York\", \"sma7d\": 651.714}, {\"date\": \"2020-08-10T00:00:00\", \"totalTestResultsIncrease\": 54002.0, \"positiveIncrease\": 476.0, \"death\": 25204.0, \"deathIncrease\": 2.0, \"positiveRate\": 0.009, \"state\": \"New York\", \"sma7d\": 641.857}, {\"date\": \"2020-08-11T00:00:00\", \"totalTestResultsIncrease\": 77059.0, \"positiveIncrease\": 667.0, \"death\": 25211.0, \"deathIncrease\": 7.0, \"positiveRate\": 0.009, \"state\": \"New York\", \"sma7d\": 630.571}, {\"date\": \"2020-08-12T00:00:00\", \"totalTestResultsIncrease\": 87776.0, \"positiveIncrease\": 700.0, \"death\": 25218.0, \"deathIncrease\": 7.0, \"positiveRate\": 0.008, \"state\": \"New York\", \"sma7d\": 639.714}, {\"date\": \"2020-08-13T00:00:00\", \"totalTestResultsIncrease\": 87900.0, \"positiveIncrease\": 737.0, \"death\": 25228.0, \"deathIncrease\": 10.0, \"positiveRate\": 0.008, \"state\": \"New York\", \"sma7d\": 644.571}, {\"date\": \"2020-08-14T00:00:00\", \"totalTestResultsIncrease\": 85455.0, \"positiveIncrease\": 727.0, \"death\": 25232.0, \"deathIncrease\": 4.0, \"positiveRate\": 0.009, \"state\": \"New York\", \"sma7d\": 646.429}, {\"date\": \"2020-08-15T00:00:00\", \"totalTestResultsIncrease\": 88668.0, \"positiveIncrease\": 734.0, \"death\": 25244.0, \"deathIncrease\": 12.0, \"positiveRate\": 0.008, \"state\": \"New York\", \"sma7d\": 650.857}, {\"date\": \"2020-08-16T00:00:00\", \"totalTestResultsIncrease\": 77692.0, \"positiveIncrease\": 607.0, \"death\": 25250.0, \"deathIncrease\": 6.0, \"positiveRate\": 0.008, \"state\": \"New York\", \"sma7d\": 664.0}, {\"date\": \"2020-08-17T00:00:00\", \"totalTestResultsIncrease\": 56891.0, \"positiveIncrease\": 408.0, \"death\": 25256.0, \"deathIncrease\": 6.0, \"positiveRate\": 0.007, \"state\": \"New York\", \"sma7d\": 654.286}, {\"date\": \"2020-08-18T00:00:00\", \"totalTestResultsIncrease\": 66891.0, \"positiveIncrease\": 655.0, \"death\": 25264.0, \"deathIncrease\": 8.0, \"positiveRate\": 0.01, \"state\": \"New York\", \"sma7d\": 652.571}, {\"date\": \"2020-08-19T00:00:00\", \"totalTestResultsIncrease\": 80425.0, \"positiveIncrease\": 631.0, \"death\": 25270.0, \"deathIncrease\": 6.0, \"positiveRate\": 0.008, \"state\": \"New York\", \"sma7d\": 642.714}, {\"date\": \"2020-08-20T00:00:00\", \"totalTestResultsIncrease\": 80984.0, \"positiveIncrease\": 601.0, \"death\": 25275.0, \"deathIncrease\": 5.0, \"positiveRate\": 0.007, \"state\": \"New York\", \"sma7d\": 623.286}, {\"date\": \"2020-08-21T00:00:00\", \"totalTestResultsIncrease\": 98880.0, \"positiveIncrease\": 709.0, \"death\": 25278.0, \"deathIncrease\": 3.0, \"positiveRate\": 0.007, \"state\": \"New York\", \"sma7d\": 620.714}, {\"date\": \"2020-08-22T00:00:00\", \"totalTestResultsIncrease\": 94849.0, \"positiveIncrease\": 653.0, \"death\": 25282.0, \"deathIncrease\": 4.0, \"positiveRate\": 0.007, \"state\": \"New York\", \"sma7d\": 609.143}, {\"date\": \"2020-08-23T00:00:00\", \"totalTestResultsIncrease\": 74043.0, \"positiveIncrease\": 572.0, \"death\": 25288.0, \"deathIncrease\": 6.0, \"positiveRate\": 0.008, \"state\": \"New York\", \"sma7d\": 604.143}, {\"date\": \"2020-08-24T00:00:00\", \"totalTestResultsIncrease\": 62031.0, \"positiveIncrease\": 408.0, \"death\": 25295.0, \"deathIncrease\": 7.0, \"positiveRate\": 0.007, \"state\": \"New York\", \"sma7d\": 604.143}, {\"date\": \"2020-08-25T00:00:00\", \"totalTestResultsIncrease\": 67255.0, \"positiveIncrease\": 629.0, \"death\": 25297.0, \"deathIncrease\": 2.0, \"positiveRate\": 0.009, \"state\": \"New York\", \"sma7d\": 600.429}, {\"date\": \"2020-08-26T00:00:00\", \"totalTestResultsIncrease\": 71189.0, \"positiveIncrease\": 566.0, \"death\": 25305.0, \"deathIncrease\": 8.0, \"positiveRate\": 0.008, \"state\": \"New York\", \"sma7d\": 591.143}, {\"date\": \"2020-08-27T00:00:00\", \"totalTestResultsIncrease\": 83437.0, \"positiveIncrease\": 791.0, \"death\": 25309.0, \"deathIncrease\": 4.0, \"positiveRate\": 0.009, \"state\": \"New York\", \"sma7d\": 618.286}, {\"date\": \"2020-08-28T00:00:00\", \"totalTestResultsIncrease\": 97826.0, \"positiveIncrease\": 636.0, \"death\": 25312.0, \"deathIncrease\": 3.0, \"positiveRate\": 0.007, \"state\": \"New York\", \"sma7d\": 607.857}, {\"date\": \"2020-08-29T00:00:00\", \"totalTestResultsIncrease\": 93873.0, \"positiveIncrease\": 635.0, \"death\": 25319.0, \"deathIncrease\": 7.0, \"positiveRate\": 0.007, \"state\": \"New York\", \"sma7d\": 605.286}, {\"date\": \"2020-08-30T00:00:00\", \"totalTestResultsIncrease\": 100022.0, \"positiveIncrease\": 698.0, \"death\": 25327.0, \"deathIncrease\": 8.0, \"positiveRate\": 0.007, \"state\": \"New York\", \"sma7d\": 623.286}, {\"date\": \"2020-08-31T00:00:00\", \"totalTestResultsIncrease\": 66241.0, \"positiveIncrease\": 656.0, \"death\": 25328.0, \"deathIncrease\": 1.0, \"positiveRate\": 0.01, \"state\": \"New York\", \"sma7d\": 658.714}, {\"date\": \"2020-09-01T00:00:00\", \"totalTestResultsIncrease\": 76997.0, \"positiveIncrease\": 754.0, \"death\": 25331.0, \"deathIncrease\": 3.0, \"positiveRate\": 0.01, \"state\": \"New York\", \"sma7d\": 676.571}, {\"date\": \"2020-09-02T00:00:00\", \"totalTestResultsIncrease\": 88447.0, \"positiveIncrease\": 708.0, \"death\": 25336.0, \"deathIncrease\": 5.0, \"positiveRate\": 0.008, \"state\": \"New York\", \"sma7d\": 696.857}, {\"date\": \"2020-09-03T00:00:00\", \"totalTestResultsIncrease\": 88981.0, \"positiveIncrease\": 889.0, \"death\": 25343.0, \"deathIncrease\": 7.0, \"positiveRate\": 0.01, \"state\": \"New York\", \"sma7d\": 710.857}, {\"date\": \"2020-09-04T00:00:00\", \"totalTestResultsIncrease\": 93395.0, \"positiveIncrease\": 864.0, \"death\": 25348.0, \"deathIncrease\": 5.0, \"positiveRate\": 0.009, \"state\": \"New York\", \"sma7d\": 743.429}, {\"date\": \"2020-09-05T00:00:00\", \"totalTestResultsIncrease\": 99761.0, \"positiveIncrease\": 801.0, \"death\": 25350.0, \"deathIncrease\": 2.0, \"positiveRate\": 0.008, \"state\": \"New York\", \"sma7d\": 767.143}, {\"date\": \"2020-09-06T00:00:00\", \"totalTestResultsIncrease\": 85630.0, \"positiveIncrease\": 729.0, \"death\": 25359.0, \"deathIncrease\": 9.0, \"positiveRate\": 0.009, \"state\": \"New York\", \"sma7d\": 771.571}, {\"date\": \"2020-09-07T00:00:00\", \"totalTestResultsIncrease\": 58865.0, \"positiveIncrease\": 520.0, \"death\": 25361.0, \"deathIncrease\": 2.0, \"positiveRate\": 0.009, \"state\": \"New York\", \"sma7d\": 752.143}, {\"date\": \"2020-09-08T00:00:00\", \"totalTestResultsIncrease\": 57826.0, \"positiveIncrease\": 557.0, \"death\": 25367.0, \"deathIncrease\": 6.0, \"positiveRate\": 0.01, \"state\": \"New York\", \"sma7d\": 724.0}, {\"date\": \"2020-09-09T00:00:00\", \"totalTestResultsIncrease\": 63230.0, \"positiveIncrease\": 576.0, \"death\": 25370.0, \"deathIncrease\": 3.0, \"positiveRate\": 0.009, \"state\": \"New York\", \"sma7d\": 705.143}, {\"date\": \"2020-09-10T00:00:00\", \"totalTestResultsIncrease\": 76813.0, \"positiveIncrease\": 757.0, \"death\": 25377.0, \"deathIncrease\": 7.0, \"positiveRate\": 0.01, \"state\": \"New York\", \"sma7d\": 686.286}, {\"date\": \"2020-09-11T00:00:00\", \"totalTestResultsIncrease\": 89722.0, \"positiveIncrease\": 880.0, \"death\": 25382.0, \"deathIncrease\": 5.0, \"positiveRate\": 0.01, \"state\": \"New York\", \"sma7d\": 688.571}, {\"date\": \"2020-09-12T00:00:00\", \"totalTestResultsIncrease\": 102925.0, \"positiveIncrease\": 849.0, \"death\": 25384.0, \"deathIncrease\": 2.0, \"positiveRate\": 0.008, \"state\": \"New York\", \"sma7d\": 695.429}, {\"date\": \"2020-09-13T00:00:00\", \"totalTestResultsIncrease\": 72668.0, \"positiveIncrease\": 725.0, \"death\": 25390.0, \"deathIncrease\": 6.0, \"positiveRate\": 0.01, \"state\": \"New York\", \"sma7d\": 694.857}, {\"date\": \"2020-09-14T00:00:00\", \"totalTestResultsIncrease\": 63358.0, \"positiveIncrease\": 583.0, \"death\": 25394.0, \"deathIncrease\": 4.0, \"positiveRate\": 0.009, \"state\": \"New York\", \"sma7d\": 703.857}, {\"date\": \"2020-09-15T00:00:00\", \"totalTestResultsIncrease\": 73678.0, \"positiveIncrease\": 766.0, \"death\": 25405.0, \"deathIncrease\": 11.0, \"positiveRate\": 0.01, \"state\": \"New York\", \"sma7d\": 733.714}, {\"date\": \"2020-09-16T00:00:00\", \"totalTestResultsIncrease\": 75087.0, \"positiveIncrease\": 652.0, \"death\": 25410.0, \"deathIncrease\": 5.0, \"positiveRate\": 0.009, \"state\": \"New York\", \"sma7d\": 744.571}, {\"date\": \"2020-09-17T00:00:00\", \"totalTestResultsIncrease\": 91504.0, \"positiveIncrease\": 896.0, \"death\": 25413.0, \"deathIncrease\": 3.0, \"positiveRate\": 0.01, \"state\": \"New York\", \"sma7d\": 764.429}, {\"date\": \"2020-09-18T00:00:00\", \"totalTestResultsIncrease\": 89727.0, \"positiveIncrease\": 790.0, \"death\": 25423.0, \"deathIncrease\": 10.0, \"positiveRate\": 0.009, \"state\": \"New York\", \"sma7d\": 751.571}, {\"date\": \"2020-09-19T00:00:00\", \"totalTestResultsIncrease\": 110444.0, \"positiveIncrease\": 986.0, \"death\": 25425.0, \"deathIncrease\": 2.0, \"positiveRate\": 0.009, \"state\": \"New York\", \"sma7d\": 771.143}, {\"date\": \"2020-09-20T00:00:00\", \"totalTestResultsIncrease\": 100355.0, \"positiveIncrease\": 862.0, \"death\": 25427.0, \"deathIncrease\": 2.0, \"positiveRate\": 0.009, \"state\": \"New York\", \"sma7d\": 790.714}, {\"date\": \"2020-09-21T00:00:00\", \"totalTestResultsIncrease\": 58319.0, \"positiveIncrease\": 573.0, \"death\": 25428.0, \"deathIncrease\": 1.0, \"positiveRate\": 0.01, \"state\": \"New York\", \"sma7d\": 789.286}, {\"date\": \"2020-09-22T00:00:00\", \"totalTestResultsIncrease\": 83997.0, \"positiveIncrease\": 754.0, \"death\": 25432.0, \"deathIncrease\": 4.0, \"positiveRate\": 0.009, \"state\": \"New York\", \"sma7d\": 787.571}, {\"date\": \"2020-09-23T00:00:00\", \"totalTestResultsIncrease\": 70930.0, \"positiveIncrease\": 665.0, \"death\": 25437.0, \"deathIncrease\": 5.0, \"positiveRate\": 0.009, \"state\": \"New York\", \"sma7d\": 789.429}, {\"date\": \"2020-09-24T00:00:00\", \"totalTestResultsIncrease\": 92953.0, \"positiveIncrease\": 955.0, \"death\": 25439.0, \"deathIncrease\": 2.0, \"positiveRate\": 0.01, \"state\": \"New York\", \"sma7d\": 797.857}]}}, {\"mode\": \"vega-lite\"});\n",
       "</script>"
      ],
      "text/plain": [
       "alt.LayerChart(...)"
      ]
     },
     "execution_count": 11,
     "metadata": {},
     "output_type": "execute_result"
    }
   ],
   "source": [
    "create_plot(ny, 'positiveIncrease')"
   ]
  },
  {
   "cell_type": "code",
   "execution_count": 12,
   "metadata": {
    "execution": {
     "iopub.execute_input": "2020-09-25T22:33:30.825155Z",
     "iopub.status.busy": "2020-09-25T22:33:30.824638Z",
     "iopub.status.idle": "2020-09-25T22:33:30.902137Z",
     "shell.execute_reply": "2020-09-25T22:33:30.902542Z"
    },
    "papermill": {
     "duration": 0.095885,
     "end_time": "2020-09-25T22:33:30.902684",
     "exception": false,
     "start_time": "2020-09-25T22:33:30.806799",
     "status": "completed"
    },
    "tags": []
   },
   "outputs": [
    {
     "data": {
      "text/html": [
       "\n",
       "<div id=\"altair-viz-6448016fc7774f2db1f6d1d8d8ec8063\"></div>\n",
       "<script type=\"text/javascript\">\n",
       "  (function(spec, embedOpt){\n",
       "    let outputDiv = document.currentScript.previousElementSibling;\n",
       "    if (outputDiv.id !== \"altair-viz-6448016fc7774f2db1f6d1d8d8ec8063\") {\n",
       "      outputDiv = document.getElementById(\"altair-viz-6448016fc7774f2db1f6d1d8d8ec8063\");\n",
       "    }\n",
       "    const paths = {\n",
       "      \"vega\": \"https://cdn.jsdelivr.net/npm//vega@5?noext\",\n",
       "      \"vega-lib\": \"https://cdn.jsdelivr.net/npm//vega-lib?noext\",\n",
       "      \"vega-lite\": \"https://cdn.jsdelivr.net/npm//vega-lite@4.8.1?noext\",\n",
       "      \"vega-embed\": \"https://cdn.jsdelivr.net/npm//vega-embed@6?noext\",\n",
       "    };\n",
       "\n",
       "    function loadScript(lib) {\n",
       "      return new Promise(function(resolve, reject) {\n",
       "        var s = document.createElement('script');\n",
       "        s.src = paths[lib];\n",
       "        s.async = true;\n",
       "        s.onload = () => resolve(paths[lib]);\n",
       "        s.onerror = () => reject(`Error loading script: ${paths[lib]}`);\n",
       "        document.getElementsByTagName(\"head\")[0].appendChild(s);\n",
       "      });\n",
       "    }\n",
       "\n",
       "    function showError(err) {\n",
       "      outputDiv.innerHTML = `<div class=\"error\" style=\"color:red;\">${err}</div>`;\n",
       "      throw err;\n",
       "    }\n",
       "\n",
       "    function displayChart(vegaEmbed) {\n",
       "      vegaEmbed(outputDiv, spec, embedOpt)\n",
       "        .catch(err => showError(`Javascript Error: ${err.message}<br>This usually means there's a typo in your chart specification. See the javascript console for the full traceback.`));\n",
       "    }\n",
       "\n",
       "    if(typeof define === \"function\" && define.amd) {\n",
       "      requirejs.config({paths});\n",
       "      require([\"vega-embed\"], displayChart, err => showError(`Error loading script: ${err.message}`));\n",
       "    } else if (typeof vegaEmbed === \"function\") {\n",
       "      displayChart(vegaEmbed);\n",
       "    } else {\n",
       "      loadScript(\"vega\")\n",
       "        .then(() => loadScript(\"vega-lite\"))\n",
       "        .then(() => loadScript(\"vega-embed\"))\n",
       "        .catch(showError)\n",
       "        .then(() => displayChart(vegaEmbed));\n",
       "    }\n",
       "  })({\"config\": {\"view\": {\"continuousWidth\": 400, \"continuousHeight\": 300}}, \"layer\": [{\"layer\": [{\"mark\": {\"type\": \"point\", \"size\": 75}, \"encoding\": {\"tooltip\": [{\"type\": \"temporal\", \"field\": \"date\"}, {\"type\": \"quantitative\", \"field\": \"positiveRate\"}, {\"type\": \"quantitative\", \"field\": \"sma7d\"}], \"x\": {\"type\": \"temporal\", \"field\": \"date\"}, \"y\": {\"type\": \"quantitative\", \"field\": \"positiveRate\"}}, \"selection\": {\"selector010\": {\"type\": \"interval\", \"bind\": \"scales\", \"encodings\": [\"x\", \"y\"]}}}, {\"mark\": {\"type\": \"line\", \"color\": \"purple\"}, \"encoding\": {\"x\": {\"type\": \"temporal\", \"field\": \"date\"}, \"y\": {\"type\": \"quantitative\", \"field\": \"sma7d\"}}}]}, {\"mark\": {\"type\": \"rule\", \"color\": \"#aaa\"}, \"encoding\": {\"x\": {\"type\": \"temporal\", \"field\": \"date\"}}, \"transform\": [{\"filter\": {\"selection\": \"selector009\"}}]}, {\"mark\": \"circle\", \"encoding\": {\"opacity\": {\"condition\": {\"value\": 1, \"selection\": \"selector009\"}, \"value\": 0}, \"tooltip\": [{\"type\": \"temporal\", \"field\": \"date\"}, {\"type\": \"quantitative\", \"field\": \"positiveRate\"}, {\"type\": \"quantitative\", \"field\": \"sma7d\"}], \"x\": {\"type\": \"temporal\", \"field\": \"date\"}, \"y\": {\"type\": \"quantitative\", \"field\": \"positiveRate\"}}, \"selection\": {\"selector009\": {\"type\": \"single\", \"encodings\": [\"x\"], \"on\": \"mouseover\", \"nearest\": true, \"empty\": \"none\"}}}, {\"mark\": {\"type\": \"text\", \"align\": \"left\", \"dx\": 5, \"dy\": -5, \"stroke\": \"white\", \"strokeWidth\": 2}, \"encoding\": {\"text\": {\"type\": \"quantitative\", \"field\": \"positiveRate\"}, \"tooltip\": [{\"type\": \"temporal\", \"field\": \"date\"}, {\"type\": \"quantitative\", \"field\": \"positiveRate\"}, {\"type\": \"quantitative\", \"field\": \"sma7d\"}], \"x\": {\"type\": \"temporal\", \"field\": \"date\"}, \"y\": {\"type\": \"quantitative\", \"field\": \"positiveRate\"}}, \"transform\": [{\"filter\": {\"selection\": \"selector009\"}}]}, {\"mark\": {\"type\": \"text\", \"align\": \"left\", \"dx\": 5, \"dy\": -5}, \"encoding\": {\"text\": {\"type\": \"quantitative\", \"field\": \"positiveRate\"}, \"tooltip\": [{\"type\": \"temporal\", \"field\": \"date\"}, {\"type\": \"quantitative\", \"field\": \"positiveRate\"}, {\"type\": \"quantitative\", \"field\": \"sma7d\"}], \"x\": {\"type\": \"temporal\", \"field\": \"date\"}, \"y\": {\"type\": \"quantitative\", \"field\": \"positiveRate\"}}, \"transform\": [{\"filter\": {\"selection\": \"selector009\"}}]}], \"data\": {\"name\": \"data-6524d92b9c78b9ba425680547941e5b6\"}, \"height\": 400, \"title\": \"New York: positiveRate\", \"width\": 500, \"$schema\": \"https://vega.github.io/schema/vega-lite/v4.8.1.json\", \"datasets\": {\"data-6524d92b9c78b9ba425680547941e5b6\": [{\"date\": \"2020-08-01T00:00:00\", \"totalTestResultsIncrease\": 82737.0, \"positiveIncrease\": 753.0, \"death\": 25164.0, \"deathIncrease\": 14.0, \"positiveRate\": 0.009, \"state\": \"New York\", \"sma7d\": 0.01}, {\"date\": \"2020-08-02T00:00:00\", \"totalTestResultsIncrease\": 58961.0, \"positiveIncrease\": 531.0, \"death\": 25170.0, \"deathIncrease\": 6.0, \"positiveRate\": 0.009, \"state\": \"New York\", \"sma7d\": 0.01}, {\"date\": \"2020-08-03T00:00:00\", \"totalTestResultsIncrease\": 51839.0, \"positiveIncrease\": 545.0, \"death\": 25172.0, \"deathIncrease\": 2.0, \"positiveRate\": 0.011, \"state\": \"New York\", \"sma7d\": 0.01}, {\"date\": \"2020-08-04T00:00:00\", \"totalTestResultsIncrease\": 70993.0, \"positiveIncrease\": 746.0, \"death\": 25175.0, \"deathIncrease\": 3.0, \"positiveRate\": 0.011, \"state\": \"New York\", \"sma7d\": 0.01}, {\"date\": \"2020-08-05T00:00:00\", \"totalTestResultsIncrease\": 72668.0, \"positiveIncrease\": 636.0, \"death\": 25179.0, \"deathIncrease\": 4.0, \"positiveRate\": 0.009, \"state\": \"New York\", \"sma7d\": 0.01}, {\"date\": \"2020-08-06T00:00:00\", \"totalTestResultsIncrease\": 72370.0, \"positiveIncrease\": 703.0, \"death\": 25185.0, \"deathIncrease\": 6.0, \"positiveRate\": 0.01, \"state\": \"New York\", \"sma7d\": 0.01}, {\"date\": \"2020-08-07T00:00:00\", \"totalTestResultsIncrease\": 70170.0, \"positiveIncrease\": 714.0, \"death\": 25190.0, \"deathIncrease\": 5.0, \"positiveRate\": 0.01, \"state\": \"New York\", \"sma7d\": 0.01}, {\"date\": \"2020-08-08T00:00:00\", \"totalTestResultsIncrease\": 74857.0, \"positiveIncrease\": 703.0, \"death\": 25195.0, \"deathIncrease\": 5.0, \"positiveRate\": 0.009, \"state\": \"New York\", \"sma7d\": 0.01}, {\"date\": \"2020-08-09T00:00:00\", \"totalTestResultsIncrease\": 65812.0, \"positiveIncrease\": 515.0, \"death\": 25202.0, \"deathIncrease\": 7.0, \"positiveRate\": 0.008, \"state\": \"New York\", \"sma7d\": 0.01}, {\"date\": \"2020-08-10T00:00:00\", \"totalTestResultsIncrease\": 54002.0, \"positiveIncrease\": 476.0, \"death\": 25204.0, \"deathIncrease\": 2.0, \"positiveRate\": 0.009, \"state\": \"New York\", \"sma7d\": 0.009}, {\"date\": \"2020-08-11T00:00:00\", \"totalTestResultsIncrease\": 77059.0, \"positiveIncrease\": 667.0, \"death\": 25211.0, \"deathIncrease\": 7.0, \"positiveRate\": 0.009, \"state\": \"New York\", \"sma7d\": 0.009}, {\"date\": \"2020-08-12T00:00:00\", \"totalTestResultsIncrease\": 87776.0, \"positiveIncrease\": 700.0, \"death\": 25218.0, \"deathIncrease\": 7.0, \"positiveRate\": 0.008, \"state\": \"New York\", \"sma7d\": 0.009}, {\"date\": \"2020-08-13T00:00:00\", \"totalTestResultsIncrease\": 87900.0, \"positiveIncrease\": 737.0, \"death\": 25228.0, \"deathIncrease\": 10.0, \"positiveRate\": 0.008, \"state\": \"New York\", \"sma7d\": 0.009}, {\"date\": \"2020-08-14T00:00:00\", \"totalTestResultsIncrease\": 85455.0, \"positiveIncrease\": 727.0, \"death\": 25232.0, \"deathIncrease\": 4.0, \"positiveRate\": 0.009, \"state\": \"New York\", \"sma7d\": 0.009}, {\"date\": \"2020-08-15T00:00:00\", \"totalTestResultsIncrease\": 88668.0, \"positiveIncrease\": 734.0, \"death\": 25244.0, \"deathIncrease\": 12.0, \"positiveRate\": 0.008, \"state\": \"New York\", \"sma7d\": 0.008}, {\"date\": \"2020-08-16T00:00:00\", \"totalTestResultsIncrease\": 77692.0, \"positiveIncrease\": 607.0, \"death\": 25250.0, \"deathIncrease\": 6.0, \"positiveRate\": 0.008, \"state\": \"New York\", \"sma7d\": 0.008}, {\"date\": \"2020-08-17T00:00:00\", \"totalTestResultsIncrease\": 56891.0, \"positiveIncrease\": 408.0, \"death\": 25256.0, \"deathIncrease\": 6.0, \"positiveRate\": 0.007, \"state\": \"New York\", \"sma7d\": 0.008}, {\"date\": \"2020-08-18T00:00:00\", \"totalTestResultsIncrease\": 66891.0, \"positiveIncrease\": 655.0, \"death\": 25264.0, \"deathIncrease\": 8.0, \"positiveRate\": 0.01, \"state\": \"New York\", \"sma7d\": 0.008}, {\"date\": \"2020-08-19T00:00:00\", \"totalTestResultsIncrease\": 80425.0, \"positiveIncrease\": 631.0, \"death\": 25270.0, \"deathIncrease\": 6.0, \"positiveRate\": 0.008, \"state\": \"New York\", \"sma7d\": 0.008}, {\"date\": \"2020-08-20T00:00:00\", \"totalTestResultsIncrease\": 80984.0, \"positiveIncrease\": 601.0, \"death\": 25275.0, \"deathIncrease\": 5.0, \"positiveRate\": 0.007, \"state\": \"New York\", \"sma7d\": 0.008}, {\"date\": \"2020-08-21T00:00:00\", \"totalTestResultsIncrease\": 98880.0, \"positiveIncrease\": 709.0, \"death\": 25278.0, \"deathIncrease\": 3.0, \"positiveRate\": 0.007, \"state\": \"New York\", \"sma7d\": 0.008}, {\"date\": \"2020-08-22T00:00:00\", \"totalTestResultsIncrease\": 94849.0, \"positiveIncrease\": 653.0, \"death\": 25282.0, \"deathIncrease\": 4.0, \"positiveRate\": 0.007, \"state\": \"New York\", \"sma7d\": 0.008}, {\"date\": \"2020-08-23T00:00:00\", \"totalTestResultsIncrease\": 74043.0, \"positiveIncrease\": 572.0, \"death\": 25288.0, \"deathIncrease\": 6.0, \"positiveRate\": 0.008, \"state\": \"New York\", \"sma7d\": 0.008}, {\"date\": \"2020-08-24T00:00:00\", \"totalTestResultsIncrease\": 62031.0, \"positiveIncrease\": 408.0, \"death\": 25295.0, \"deathIncrease\": 7.0, \"positiveRate\": 0.007, \"state\": \"New York\", \"sma7d\": 0.008}, {\"date\": \"2020-08-25T00:00:00\", \"totalTestResultsIncrease\": 67255.0, \"positiveIncrease\": 629.0, \"death\": 25297.0, \"deathIncrease\": 2.0, \"positiveRate\": 0.009, \"state\": \"New York\", \"sma7d\": 0.008}, {\"date\": \"2020-08-26T00:00:00\", \"totalTestResultsIncrease\": 71189.0, \"positiveIncrease\": 566.0, \"death\": 25305.0, \"deathIncrease\": 8.0, \"positiveRate\": 0.008, \"state\": \"New York\", \"sma7d\": 0.008}, {\"date\": \"2020-08-27T00:00:00\", \"totalTestResultsIncrease\": 83437.0, \"positiveIncrease\": 791.0, \"death\": 25309.0, \"deathIncrease\": 4.0, \"positiveRate\": 0.009, \"state\": \"New York\", \"sma7d\": 0.008}, {\"date\": \"2020-08-28T00:00:00\", \"totalTestResultsIncrease\": 97826.0, \"positiveIncrease\": 636.0, \"death\": 25312.0, \"deathIncrease\": 3.0, \"positiveRate\": 0.007, \"state\": \"New York\", \"sma7d\": 0.008}, {\"date\": \"2020-08-29T00:00:00\", \"totalTestResultsIncrease\": 93873.0, \"positiveIncrease\": 635.0, \"death\": 25319.0, \"deathIncrease\": 7.0, \"positiveRate\": 0.007, \"state\": \"New York\", \"sma7d\": 0.008}, {\"date\": \"2020-08-30T00:00:00\", \"totalTestResultsIncrease\": 100022.0, \"positiveIncrease\": 698.0, \"death\": 25327.0, \"deathIncrease\": 8.0, \"positiveRate\": 0.007, \"state\": \"New York\", \"sma7d\": 0.008}, {\"date\": \"2020-08-31T00:00:00\", \"totalTestResultsIncrease\": 66241.0, \"positiveIncrease\": 656.0, \"death\": 25328.0, \"deathIncrease\": 1.0, \"positiveRate\": 0.01, \"state\": \"New York\", \"sma7d\": 0.008}, {\"date\": \"2020-09-01T00:00:00\", \"totalTestResultsIncrease\": 76997.0, \"positiveIncrease\": 754.0, \"death\": 25331.0, \"deathIncrease\": 3.0, \"positiveRate\": 0.01, \"state\": \"New York\", \"sma7d\": 0.008}, {\"date\": \"2020-09-02T00:00:00\", \"totalTestResultsIncrease\": 88447.0, \"positiveIncrease\": 708.0, \"death\": 25336.0, \"deathIncrease\": 5.0, \"positiveRate\": 0.008, \"state\": \"New York\", \"sma7d\": 0.008}, {\"date\": \"2020-09-03T00:00:00\", \"totalTestResultsIncrease\": 88981.0, \"positiveIncrease\": 889.0, \"death\": 25343.0, \"deathIncrease\": 7.0, \"positiveRate\": 0.01, \"state\": \"New York\", \"sma7d\": 0.008}, {\"date\": \"2020-09-04T00:00:00\", \"totalTestResultsIncrease\": 93395.0, \"positiveIncrease\": 864.0, \"death\": 25348.0, \"deathIncrease\": 5.0, \"positiveRate\": 0.009, \"state\": \"New York\", \"sma7d\": 0.009}, {\"date\": \"2020-09-05T00:00:00\", \"totalTestResultsIncrease\": 99761.0, \"positiveIncrease\": 801.0, \"death\": 25350.0, \"deathIncrease\": 2.0, \"positiveRate\": 0.008, \"state\": \"New York\", \"sma7d\": 0.009}, {\"date\": \"2020-09-06T00:00:00\", \"totalTestResultsIncrease\": 85630.0, \"positiveIncrease\": 729.0, \"death\": 25359.0, \"deathIncrease\": 9.0, \"positiveRate\": 0.009, \"state\": \"New York\", \"sma7d\": 0.009}, {\"date\": \"2020-09-07T00:00:00\", \"totalTestResultsIncrease\": 58865.0, \"positiveIncrease\": 520.0, \"death\": 25361.0, \"deathIncrease\": 2.0, \"positiveRate\": 0.009, \"state\": \"New York\", \"sma7d\": 0.009}, {\"date\": \"2020-09-08T00:00:00\", \"totalTestResultsIncrease\": 57826.0, \"positiveIncrease\": 557.0, \"death\": 25367.0, \"deathIncrease\": 6.0, \"positiveRate\": 0.01, \"state\": \"New York\", \"sma7d\": 0.009}, {\"date\": \"2020-09-09T00:00:00\", \"totalTestResultsIncrease\": 63230.0, \"positiveIncrease\": 576.0, \"death\": 25370.0, \"deathIncrease\": 3.0, \"positiveRate\": 0.009, \"state\": \"New York\", \"sma7d\": 0.009}, {\"date\": \"2020-09-10T00:00:00\", \"totalTestResultsIncrease\": 76813.0, \"positiveIncrease\": 757.0, \"death\": 25377.0, \"deathIncrease\": 7.0, \"positiveRate\": 0.01, \"state\": \"New York\", \"sma7d\": 0.009}, {\"date\": \"2020-09-11T00:00:00\", \"totalTestResultsIncrease\": 89722.0, \"positiveIncrease\": 880.0, \"death\": 25382.0, \"deathIncrease\": 5.0, \"positiveRate\": 0.01, \"state\": \"New York\", \"sma7d\": 0.009}, {\"date\": \"2020-09-12T00:00:00\", \"totalTestResultsIncrease\": 102925.0, \"positiveIncrease\": 849.0, \"death\": 25384.0, \"deathIncrease\": 2.0, \"positiveRate\": 0.008, \"state\": \"New York\", \"sma7d\": 0.009}, {\"date\": \"2020-09-13T00:00:00\", \"totalTestResultsIncrease\": 72668.0, \"positiveIncrease\": 725.0, \"death\": 25390.0, \"deathIncrease\": 6.0, \"positiveRate\": 0.01, \"state\": \"New York\", \"sma7d\": 0.009}, {\"date\": \"2020-09-14T00:00:00\", \"totalTestResultsIncrease\": 63358.0, \"positiveIncrease\": 583.0, \"death\": 25394.0, \"deathIncrease\": 4.0, \"positiveRate\": 0.009, \"state\": \"New York\", \"sma7d\": 0.009}, {\"date\": \"2020-09-15T00:00:00\", \"totalTestResultsIncrease\": 73678.0, \"positiveIncrease\": 766.0, \"death\": 25405.0, \"deathIncrease\": 11.0, \"positiveRate\": 0.01, \"state\": \"New York\", \"sma7d\": 0.009}, {\"date\": \"2020-09-16T00:00:00\", \"totalTestResultsIncrease\": 75087.0, \"positiveIncrease\": 652.0, \"death\": 25410.0, \"deathIncrease\": 5.0, \"positiveRate\": 0.009, \"state\": \"New York\", \"sma7d\": 0.009}, {\"date\": \"2020-09-17T00:00:00\", \"totalTestResultsIncrease\": 91504.0, \"positiveIncrease\": 896.0, \"death\": 25413.0, \"deathIncrease\": 3.0, \"positiveRate\": 0.01, \"state\": \"New York\", \"sma7d\": 0.009}, {\"date\": \"2020-09-18T00:00:00\", \"totalTestResultsIncrease\": 89727.0, \"positiveIncrease\": 790.0, \"death\": 25423.0, \"deathIncrease\": 10.0, \"positiveRate\": 0.009, \"state\": \"New York\", \"sma7d\": 0.009}, {\"date\": \"2020-09-19T00:00:00\", \"totalTestResultsIncrease\": 110444.0, \"positiveIncrease\": 986.0, \"death\": 25425.0, \"deathIncrease\": 2.0, \"positiveRate\": 0.009, \"state\": \"New York\", \"sma7d\": 0.009}, {\"date\": \"2020-09-20T00:00:00\", \"totalTestResultsIncrease\": 100355.0, \"positiveIncrease\": 862.0, \"death\": 25427.0, \"deathIncrease\": 2.0, \"positiveRate\": 0.009, \"state\": \"New York\", \"sma7d\": 0.009}, {\"date\": \"2020-09-21T00:00:00\", \"totalTestResultsIncrease\": 58319.0, \"positiveIncrease\": 573.0, \"death\": 25428.0, \"deathIncrease\": 1.0, \"positiveRate\": 0.01, \"state\": \"New York\", \"sma7d\": 0.009}, {\"date\": \"2020-09-22T00:00:00\", \"totalTestResultsIncrease\": 83997.0, \"positiveIncrease\": 754.0, \"death\": 25432.0, \"deathIncrease\": 4.0, \"positiveRate\": 0.009, \"state\": \"New York\", \"sma7d\": 0.009}, {\"date\": \"2020-09-23T00:00:00\", \"totalTestResultsIncrease\": 70930.0, \"positiveIncrease\": 665.0, \"death\": 25437.0, \"deathIncrease\": 5.0, \"positiveRate\": 0.009, \"state\": \"New York\", \"sma7d\": 0.009}, {\"date\": \"2020-09-24T00:00:00\", \"totalTestResultsIncrease\": 92953.0, \"positiveIncrease\": 955.0, \"death\": 25439.0, \"deathIncrease\": 2.0, \"positiveRate\": 0.01, \"state\": \"New York\", \"sma7d\": 0.009}]}}, {\"mode\": \"vega-lite\"});\n",
       "</script>"
      ],
      "text/plain": [
       "alt.LayerChart(...)"
      ]
     },
     "execution_count": 12,
     "metadata": {},
     "output_type": "execute_result"
    }
   ],
   "source": [
    "create_plot(ny, 'positiveRate')"
   ]
  },
  {
   "cell_type": "code",
   "execution_count": 13,
   "metadata": {
    "execution": {
     "iopub.execute_input": "2020-09-25T22:33:30.934981Z",
     "iopub.status.busy": "2020-09-25T22:33:30.934387Z",
     "iopub.status.idle": "2020-09-25T22:33:31.014598Z",
     "shell.execute_reply": "2020-09-25T22:33:31.015074Z"
    },
    "papermill": {
     "duration": 0.098371,
     "end_time": "2020-09-25T22:33:31.015196",
     "exception": false,
     "start_time": "2020-09-25T22:33:30.916825",
     "status": "completed"
    },
    "tags": []
   },
   "outputs": [
    {
     "data": {
      "text/html": [
       "\n",
       "<div id=\"altair-viz-0610eb5579d1482b8aeaf9291c30fb8f\"></div>\n",
       "<script type=\"text/javascript\">\n",
       "  (function(spec, embedOpt){\n",
       "    let outputDiv = document.currentScript.previousElementSibling;\n",
       "    if (outputDiv.id !== \"altair-viz-0610eb5579d1482b8aeaf9291c30fb8f\") {\n",
       "      outputDiv = document.getElementById(\"altair-viz-0610eb5579d1482b8aeaf9291c30fb8f\");\n",
       "    }\n",
       "    const paths = {\n",
       "      \"vega\": \"https://cdn.jsdelivr.net/npm//vega@5?noext\",\n",
       "      \"vega-lib\": \"https://cdn.jsdelivr.net/npm//vega-lib?noext\",\n",
       "      \"vega-lite\": \"https://cdn.jsdelivr.net/npm//vega-lite@4.8.1?noext\",\n",
       "      \"vega-embed\": \"https://cdn.jsdelivr.net/npm//vega-embed@6?noext\",\n",
       "    };\n",
       "\n",
       "    function loadScript(lib) {\n",
       "      return new Promise(function(resolve, reject) {\n",
       "        var s = document.createElement('script');\n",
       "        s.src = paths[lib];\n",
       "        s.async = true;\n",
       "        s.onload = () => resolve(paths[lib]);\n",
       "        s.onerror = () => reject(`Error loading script: ${paths[lib]}`);\n",
       "        document.getElementsByTagName(\"head\")[0].appendChild(s);\n",
       "      });\n",
       "    }\n",
       "\n",
       "    function showError(err) {\n",
       "      outputDiv.innerHTML = `<div class=\"error\" style=\"color:red;\">${err}</div>`;\n",
       "      throw err;\n",
       "    }\n",
       "\n",
       "    function displayChart(vegaEmbed) {\n",
       "      vegaEmbed(outputDiv, spec, embedOpt)\n",
       "        .catch(err => showError(`Javascript Error: ${err.message}<br>This usually means there's a typo in your chart specification. See the javascript console for the full traceback.`));\n",
       "    }\n",
       "\n",
       "    if(typeof define === \"function\" && define.amd) {\n",
       "      requirejs.config({paths});\n",
       "      require([\"vega-embed\"], displayChart, err => showError(`Error loading script: ${err.message}`));\n",
       "    } else if (typeof vegaEmbed === \"function\") {\n",
       "      displayChart(vegaEmbed);\n",
       "    } else {\n",
       "      loadScript(\"vega\")\n",
       "        .then(() => loadScript(\"vega-lite\"))\n",
       "        .then(() => loadScript(\"vega-embed\"))\n",
       "        .catch(showError)\n",
       "        .then(() => displayChart(vegaEmbed));\n",
       "    }\n",
       "  })({\"config\": {\"view\": {\"continuousWidth\": 400, \"continuousHeight\": 300}}, \"layer\": [{\"layer\": [{\"mark\": {\"type\": \"point\", \"size\": 75}, \"encoding\": {\"tooltip\": [{\"type\": \"temporal\", \"field\": \"date\"}, {\"type\": \"quantitative\", \"field\": \"deathIncrease\"}, {\"type\": \"quantitative\", \"field\": \"sma7d\"}], \"x\": {\"type\": \"temporal\", \"field\": \"date\"}, \"y\": {\"type\": \"quantitative\", \"field\": \"deathIncrease\"}}, \"selection\": {\"selector012\": {\"type\": \"interval\", \"bind\": \"scales\", \"encodings\": [\"x\", \"y\"]}}}, {\"mark\": {\"type\": \"line\", \"color\": \"purple\"}, \"encoding\": {\"x\": {\"type\": \"temporal\", \"field\": \"date\"}, \"y\": {\"type\": \"quantitative\", \"field\": \"sma7d\"}}}]}, {\"mark\": {\"type\": \"rule\", \"color\": \"#aaa\"}, \"encoding\": {\"x\": {\"type\": \"temporal\", \"field\": \"date\"}}, \"transform\": [{\"filter\": {\"selection\": \"selector011\"}}]}, {\"mark\": \"circle\", \"encoding\": {\"opacity\": {\"condition\": {\"value\": 1, \"selection\": \"selector011\"}, \"value\": 0}, \"tooltip\": [{\"type\": \"temporal\", \"field\": \"date\"}, {\"type\": \"quantitative\", \"field\": \"deathIncrease\"}, {\"type\": \"quantitative\", \"field\": \"sma7d\"}], \"x\": {\"type\": \"temporal\", \"field\": \"date\"}, \"y\": {\"type\": \"quantitative\", \"field\": \"deathIncrease\"}}, \"selection\": {\"selector011\": {\"type\": \"single\", \"encodings\": [\"x\"], \"on\": \"mouseover\", \"nearest\": true, \"empty\": \"none\"}}}, {\"mark\": {\"type\": \"text\", \"align\": \"left\", \"dx\": 5, \"dy\": -5, \"stroke\": \"white\", \"strokeWidth\": 2}, \"encoding\": {\"text\": {\"type\": \"quantitative\", \"field\": \"deathIncrease\"}, \"tooltip\": [{\"type\": \"temporal\", \"field\": \"date\"}, {\"type\": \"quantitative\", \"field\": \"deathIncrease\"}, {\"type\": \"quantitative\", \"field\": \"sma7d\"}], \"x\": {\"type\": \"temporal\", \"field\": \"date\"}, \"y\": {\"type\": \"quantitative\", \"field\": \"deathIncrease\"}}, \"transform\": [{\"filter\": {\"selection\": \"selector011\"}}]}, {\"mark\": {\"type\": \"text\", \"align\": \"left\", \"dx\": 5, \"dy\": -5}, \"encoding\": {\"text\": {\"type\": \"quantitative\", \"field\": \"deathIncrease\"}, \"tooltip\": [{\"type\": \"temporal\", \"field\": \"date\"}, {\"type\": \"quantitative\", \"field\": \"deathIncrease\"}, {\"type\": \"quantitative\", \"field\": \"sma7d\"}], \"x\": {\"type\": \"temporal\", \"field\": \"date\"}, \"y\": {\"type\": \"quantitative\", \"field\": \"deathIncrease\"}}, \"transform\": [{\"filter\": {\"selection\": \"selector011\"}}]}], \"data\": {\"name\": \"data-ab295b68fb24663e82b56c0ddbaf817e\"}, \"height\": 400, \"title\": \"New York: deathIncrease\", \"width\": 500, \"$schema\": \"https://vega.github.io/schema/vega-lite/v4.8.1.json\", \"datasets\": {\"data-ab295b68fb24663e82b56c0ddbaf817e\": [{\"date\": \"2020-08-01T00:00:00\", \"totalTestResultsIncrease\": 82737.0, \"positiveIncrease\": 753.0, \"death\": 25164.0, \"deathIncrease\": 14.0, \"positiveRate\": 0.009, \"state\": \"New York\", \"sma7d\": 8.714}, {\"date\": \"2020-08-02T00:00:00\", \"totalTestResultsIncrease\": 58961.0, \"positiveIncrease\": 531.0, \"death\": 25170.0, \"deathIncrease\": 6.0, \"positiveRate\": 0.009, \"state\": \"New York\", \"sma7d\": 9.143}, {\"date\": \"2020-08-03T00:00:00\", \"totalTestResultsIncrease\": 51839.0, \"positiveIncrease\": 545.0, \"death\": 25172.0, \"deathIncrease\": 2.0, \"positiveRate\": 0.011, \"state\": \"New York\", \"sma7d\": 7.857}, {\"date\": \"2020-08-04T00:00:00\", \"totalTestResultsIncrease\": 70993.0, \"positiveIncrease\": 746.0, \"death\": 25175.0, \"deathIncrease\": 3.0, \"positiveRate\": 0.011, \"state\": \"New York\", \"sma7d\": 7.0}, {\"date\": \"2020-08-05T00:00:00\", \"totalTestResultsIncrease\": 72668.0, \"positiveIncrease\": 636.0, \"death\": 25179.0, \"deathIncrease\": 4.0, \"positiveRate\": 0.009, \"state\": \"New York\", \"sma7d\": 6.714}, {\"date\": \"2020-08-06T00:00:00\", \"totalTestResultsIncrease\": 72370.0, \"positiveIncrease\": 703.0, \"death\": 25185.0, \"deathIncrease\": 6.0, \"positiveRate\": 0.01, \"state\": \"New York\", \"sma7d\": 5.714}, {\"date\": \"2020-08-07T00:00:00\", \"totalTestResultsIncrease\": 70170.0, \"positiveIncrease\": 714.0, \"death\": 25190.0, \"deathIncrease\": 5.0, \"positiveRate\": 0.01, \"state\": \"New York\", \"sma7d\": 5.714}, {\"date\": \"2020-08-08T00:00:00\", \"totalTestResultsIncrease\": 74857.0, \"positiveIncrease\": 703.0, \"death\": 25195.0, \"deathIncrease\": 5.0, \"positiveRate\": 0.009, \"state\": \"New York\", \"sma7d\": 4.429}, {\"date\": \"2020-08-09T00:00:00\", \"totalTestResultsIncrease\": 65812.0, \"positiveIncrease\": 515.0, \"death\": 25202.0, \"deathIncrease\": 7.0, \"positiveRate\": 0.008, \"state\": \"New York\", \"sma7d\": 4.571}, {\"date\": \"2020-08-10T00:00:00\", \"totalTestResultsIncrease\": 54002.0, \"positiveIncrease\": 476.0, \"death\": 25204.0, \"deathIncrease\": 2.0, \"positiveRate\": 0.009, \"state\": \"New York\", \"sma7d\": 4.571}, {\"date\": \"2020-08-11T00:00:00\", \"totalTestResultsIncrease\": 77059.0, \"positiveIncrease\": 667.0, \"death\": 25211.0, \"deathIncrease\": 7.0, \"positiveRate\": 0.009, \"state\": \"New York\", \"sma7d\": 5.143}, {\"date\": \"2020-08-12T00:00:00\", \"totalTestResultsIncrease\": 87776.0, \"positiveIncrease\": 700.0, \"death\": 25218.0, \"deathIncrease\": 7.0, \"positiveRate\": 0.008, \"state\": \"New York\", \"sma7d\": 5.571}, {\"date\": \"2020-08-13T00:00:00\", \"totalTestResultsIncrease\": 87900.0, \"positiveIncrease\": 737.0, \"death\": 25228.0, \"deathIncrease\": 10.0, \"positiveRate\": 0.008, \"state\": \"New York\", \"sma7d\": 6.143}, {\"date\": \"2020-08-14T00:00:00\", \"totalTestResultsIncrease\": 85455.0, \"positiveIncrease\": 727.0, \"death\": 25232.0, \"deathIncrease\": 4.0, \"positiveRate\": 0.009, \"state\": \"New York\", \"sma7d\": 6.0}, {\"date\": \"2020-08-15T00:00:00\", \"totalTestResultsIncrease\": 88668.0, \"positiveIncrease\": 734.0, \"death\": 25244.0, \"deathIncrease\": 12.0, \"positiveRate\": 0.008, \"state\": \"New York\", \"sma7d\": 7.0}, {\"date\": \"2020-08-16T00:00:00\", \"totalTestResultsIncrease\": 77692.0, \"positiveIncrease\": 607.0, \"death\": 25250.0, \"deathIncrease\": 6.0, \"positiveRate\": 0.008, \"state\": \"New York\", \"sma7d\": 6.857}, {\"date\": \"2020-08-17T00:00:00\", \"totalTestResultsIncrease\": 56891.0, \"positiveIncrease\": 408.0, \"death\": 25256.0, \"deathIncrease\": 6.0, \"positiveRate\": 0.007, \"state\": \"New York\", \"sma7d\": 7.429}, {\"date\": \"2020-08-18T00:00:00\", \"totalTestResultsIncrease\": 66891.0, \"positiveIncrease\": 655.0, \"death\": 25264.0, \"deathIncrease\": 8.0, \"positiveRate\": 0.01, \"state\": \"New York\", \"sma7d\": 7.571}, {\"date\": \"2020-08-19T00:00:00\", \"totalTestResultsIncrease\": 80425.0, \"positiveIncrease\": 631.0, \"death\": 25270.0, \"deathIncrease\": 6.0, \"positiveRate\": 0.008, \"state\": \"New York\", \"sma7d\": 7.429}, {\"date\": \"2020-08-20T00:00:00\", \"totalTestResultsIncrease\": 80984.0, \"positiveIncrease\": 601.0, \"death\": 25275.0, \"deathIncrease\": 5.0, \"positiveRate\": 0.007, \"state\": \"New York\", \"sma7d\": 6.714}, {\"date\": \"2020-08-21T00:00:00\", \"totalTestResultsIncrease\": 98880.0, \"positiveIncrease\": 709.0, \"death\": 25278.0, \"deathIncrease\": 3.0, \"positiveRate\": 0.007, \"state\": \"New York\", \"sma7d\": 6.571}, {\"date\": \"2020-08-22T00:00:00\", \"totalTestResultsIncrease\": 94849.0, \"positiveIncrease\": 653.0, \"death\": 25282.0, \"deathIncrease\": 4.0, \"positiveRate\": 0.007, \"state\": \"New York\", \"sma7d\": 5.429}, {\"date\": \"2020-08-23T00:00:00\", \"totalTestResultsIncrease\": 74043.0, \"positiveIncrease\": 572.0, \"death\": 25288.0, \"deathIncrease\": 6.0, \"positiveRate\": 0.008, \"state\": \"New York\", \"sma7d\": 5.429}, {\"date\": \"2020-08-24T00:00:00\", \"totalTestResultsIncrease\": 62031.0, \"positiveIncrease\": 408.0, \"death\": 25295.0, \"deathIncrease\": 7.0, \"positiveRate\": 0.007, \"state\": \"New York\", \"sma7d\": 5.571}, {\"date\": \"2020-08-25T00:00:00\", \"totalTestResultsIncrease\": 67255.0, \"positiveIncrease\": 629.0, \"death\": 25297.0, \"deathIncrease\": 2.0, \"positiveRate\": 0.009, \"state\": \"New York\", \"sma7d\": 4.714}, {\"date\": \"2020-08-26T00:00:00\", \"totalTestResultsIncrease\": 71189.0, \"positiveIncrease\": 566.0, \"death\": 25305.0, \"deathIncrease\": 8.0, \"positiveRate\": 0.008, \"state\": \"New York\", \"sma7d\": 5.0}, {\"date\": \"2020-08-27T00:00:00\", \"totalTestResultsIncrease\": 83437.0, \"positiveIncrease\": 791.0, \"death\": 25309.0, \"deathIncrease\": 4.0, \"positiveRate\": 0.009, \"state\": \"New York\", \"sma7d\": 4.857}, {\"date\": \"2020-08-28T00:00:00\", \"totalTestResultsIncrease\": 97826.0, \"positiveIncrease\": 636.0, \"death\": 25312.0, \"deathIncrease\": 3.0, \"positiveRate\": 0.007, \"state\": \"New York\", \"sma7d\": 4.857}, {\"date\": \"2020-08-29T00:00:00\", \"totalTestResultsIncrease\": 93873.0, \"positiveIncrease\": 635.0, \"death\": 25319.0, \"deathIncrease\": 7.0, \"positiveRate\": 0.007, \"state\": \"New York\", \"sma7d\": 5.286}, {\"date\": \"2020-08-30T00:00:00\", \"totalTestResultsIncrease\": 100022.0, \"positiveIncrease\": 698.0, \"death\": 25327.0, \"deathIncrease\": 8.0, \"positiveRate\": 0.007, \"state\": \"New York\", \"sma7d\": 5.571}, {\"date\": \"2020-08-31T00:00:00\", \"totalTestResultsIncrease\": 66241.0, \"positiveIncrease\": 656.0, \"death\": 25328.0, \"deathIncrease\": 1.0, \"positiveRate\": 0.01, \"state\": \"New York\", \"sma7d\": 4.714}, {\"date\": \"2020-09-01T00:00:00\", \"totalTestResultsIncrease\": 76997.0, \"positiveIncrease\": 754.0, \"death\": 25331.0, \"deathIncrease\": 3.0, \"positiveRate\": 0.01, \"state\": \"New York\", \"sma7d\": 4.857}, {\"date\": \"2020-09-02T00:00:00\", \"totalTestResultsIncrease\": 88447.0, \"positiveIncrease\": 708.0, \"death\": 25336.0, \"deathIncrease\": 5.0, \"positiveRate\": 0.008, \"state\": \"New York\", \"sma7d\": 4.429}, {\"date\": \"2020-09-03T00:00:00\", \"totalTestResultsIncrease\": 88981.0, \"positiveIncrease\": 889.0, \"death\": 25343.0, \"deathIncrease\": 7.0, \"positiveRate\": 0.01, \"state\": \"New York\", \"sma7d\": 4.857}, {\"date\": \"2020-09-04T00:00:00\", \"totalTestResultsIncrease\": 93395.0, \"positiveIncrease\": 864.0, \"death\": 25348.0, \"deathIncrease\": 5.0, \"positiveRate\": 0.009, \"state\": \"New York\", \"sma7d\": 5.143}, {\"date\": \"2020-09-05T00:00:00\", \"totalTestResultsIncrease\": 99761.0, \"positiveIncrease\": 801.0, \"death\": 25350.0, \"deathIncrease\": 2.0, \"positiveRate\": 0.008, \"state\": \"New York\", \"sma7d\": 4.429}, {\"date\": \"2020-09-06T00:00:00\", \"totalTestResultsIncrease\": 85630.0, \"positiveIncrease\": 729.0, \"death\": 25359.0, \"deathIncrease\": 9.0, \"positiveRate\": 0.009, \"state\": \"New York\", \"sma7d\": 4.571}, {\"date\": \"2020-09-07T00:00:00\", \"totalTestResultsIncrease\": 58865.0, \"positiveIncrease\": 520.0, \"death\": 25361.0, \"deathIncrease\": 2.0, \"positiveRate\": 0.009, \"state\": \"New York\", \"sma7d\": 4.714}, {\"date\": \"2020-09-08T00:00:00\", \"totalTestResultsIncrease\": 57826.0, \"positiveIncrease\": 557.0, \"death\": 25367.0, \"deathIncrease\": 6.0, \"positiveRate\": 0.01, \"state\": \"New York\", \"sma7d\": 5.143}, {\"date\": \"2020-09-09T00:00:00\", \"totalTestResultsIncrease\": 63230.0, \"positiveIncrease\": 576.0, \"death\": 25370.0, \"deathIncrease\": 3.0, \"positiveRate\": 0.009, \"state\": \"New York\", \"sma7d\": 4.857}, {\"date\": \"2020-09-10T00:00:00\", \"totalTestResultsIncrease\": 76813.0, \"positiveIncrease\": 757.0, \"death\": 25377.0, \"deathIncrease\": 7.0, \"positiveRate\": 0.01, \"state\": \"New York\", \"sma7d\": 4.857}, {\"date\": \"2020-09-11T00:00:00\", \"totalTestResultsIncrease\": 89722.0, \"positiveIncrease\": 880.0, \"death\": 25382.0, \"deathIncrease\": 5.0, \"positiveRate\": 0.01, \"state\": \"New York\", \"sma7d\": 4.857}, {\"date\": \"2020-09-12T00:00:00\", \"totalTestResultsIncrease\": 102925.0, \"positiveIncrease\": 849.0, \"death\": 25384.0, \"deathIncrease\": 2.0, \"positiveRate\": 0.008, \"state\": \"New York\", \"sma7d\": 4.857}, {\"date\": \"2020-09-13T00:00:00\", \"totalTestResultsIncrease\": 72668.0, \"positiveIncrease\": 725.0, \"death\": 25390.0, \"deathIncrease\": 6.0, \"positiveRate\": 0.01, \"state\": \"New York\", \"sma7d\": 4.429}, {\"date\": \"2020-09-14T00:00:00\", \"totalTestResultsIncrease\": 63358.0, \"positiveIncrease\": 583.0, \"death\": 25394.0, \"deathIncrease\": 4.0, \"positiveRate\": 0.009, \"state\": \"New York\", \"sma7d\": 4.714}, {\"date\": \"2020-09-15T00:00:00\", \"totalTestResultsIncrease\": 73678.0, \"positiveIncrease\": 766.0, \"death\": 25405.0, \"deathIncrease\": 11.0, \"positiveRate\": 0.01, \"state\": \"New York\", \"sma7d\": 5.429}, {\"date\": \"2020-09-16T00:00:00\", \"totalTestResultsIncrease\": 75087.0, \"positiveIncrease\": 652.0, \"death\": 25410.0, \"deathIncrease\": 5.0, \"positiveRate\": 0.009, \"state\": \"New York\", \"sma7d\": 5.714}, {\"date\": \"2020-09-17T00:00:00\", \"totalTestResultsIncrease\": 91504.0, \"positiveIncrease\": 896.0, \"death\": 25413.0, \"deathIncrease\": 3.0, \"positiveRate\": 0.01, \"state\": \"New York\", \"sma7d\": 5.143}, {\"date\": \"2020-09-18T00:00:00\", \"totalTestResultsIncrease\": 89727.0, \"positiveIncrease\": 790.0, \"death\": 25423.0, \"deathIncrease\": 10.0, \"positiveRate\": 0.009, \"state\": \"New York\", \"sma7d\": 5.857}, {\"date\": \"2020-09-19T00:00:00\", \"totalTestResultsIncrease\": 110444.0, \"positiveIncrease\": 986.0, \"death\": 25425.0, \"deathIncrease\": 2.0, \"positiveRate\": 0.009, \"state\": \"New York\", \"sma7d\": 5.857}, {\"date\": \"2020-09-20T00:00:00\", \"totalTestResultsIncrease\": 100355.0, \"positiveIncrease\": 862.0, \"death\": 25427.0, \"deathIncrease\": 2.0, \"positiveRate\": 0.009, \"state\": \"New York\", \"sma7d\": 5.286}, {\"date\": \"2020-09-21T00:00:00\", \"totalTestResultsIncrease\": 58319.0, \"positiveIncrease\": 573.0, \"death\": 25428.0, \"deathIncrease\": 1.0, \"positiveRate\": 0.01, \"state\": \"New York\", \"sma7d\": 4.857}, {\"date\": \"2020-09-22T00:00:00\", \"totalTestResultsIncrease\": 83997.0, \"positiveIncrease\": 754.0, \"death\": 25432.0, \"deathIncrease\": 4.0, \"positiveRate\": 0.009, \"state\": \"New York\", \"sma7d\": 3.857}, {\"date\": \"2020-09-23T00:00:00\", \"totalTestResultsIncrease\": 70930.0, \"positiveIncrease\": 665.0, \"death\": 25437.0, \"deathIncrease\": 5.0, \"positiveRate\": 0.009, \"state\": \"New York\", \"sma7d\": 3.857}, {\"date\": \"2020-09-24T00:00:00\", \"totalTestResultsIncrease\": 92953.0, \"positiveIncrease\": 955.0, \"death\": 25439.0, \"deathIncrease\": 2.0, \"positiveRate\": 0.01, \"state\": \"New York\", \"sma7d\": 3.714}]}}, {\"mode\": \"vega-lite\"});\n",
       "</script>"
      ],
      "text/plain": [
       "alt.LayerChart(...)"
      ]
     },
     "execution_count": 13,
     "metadata": {},
     "output_type": "execute_result"
    }
   ],
   "source": [
    "create_plot(ny, 'deathIncrease')"
   ]
  },
  {
   "cell_type": "markdown",
   "metadata": {
    "papermill": {
     "duration": 0.01524,
     "end_time": "2020-09-25T22:33:31.045419",
     "exception": false,
     "start_time": "2020-09-25T22:33:31.030179",
     "status": "completed"
    },
    "tags": []
   },
   "source": [
    "## Non Tri-State"
   ]
  },
  {
   "cell_type": "code",
   "execution_count": 14,
   "metadata": {
    "execution": {
     "iopub.execute_input": "2020-09-25T22:33:31.079715Z",
     "iopub.status.busy": "2020-09-25T22:33:31.079203Z",
     "iopub.status.idle": "2020-09-25T22:33:31.345091Z",
     "shell.execute_reply": "2020-09-25T22:33:31.344607Z"
    },
    "papermill": {
     "duration": 0.284967,
     "end_time": "2020-09-25T22:33:31.345237",
     "exception": false,
     "start_time": "2020-09-25T22:33:31.060270",
     "status": "completed"
    },
    "tags": []
   },
   "outputs": [],
   "source": [
    "non_tristate = create_df(df, lambda d: ~d['state'].isin(['CT','NJ','NY']), 'Non Tri-State')"
   ]
  },
  {
   "cell_type": "code",
   "execution_count": 15,
   "metadata": {
    "execution": {
     "iopub.execute_input": "2020-09-25T22:33:31.402480Z",
     "iopub.status.busy": "2020-09-25T22:33:31.379442Z",
     "iopub.status.idle": "2020-09-25T22:33:31.460332Z",
     "shell.execute_reply": "2020-09-25T22:33:31.460745Z"
    },
    "papermill": {
     "duration": 0.100407,
     "end_time": "2020-09-25T22:33:31.460866",
     "exception": false,
     "start_time": "2020-09-25T22:33:31.360459",
     "status": "completed"
    },
    "tags": []
   },
   "outputs": [
    {
     "data": {
      "text/html": [
       "\n",
       "<div id=\"altair-viz-d2e8bb8f786c4e868933621fda375166\"></div>\n",
       "<script type=\"text/javascript\">\n",
       "  (function(spec, embedOpt){\n",
       "    let outputDiv = document.currentScript.previousElementSibling;\n",
       "    if (outputDiv.id !== \"altair-viz-d2e8bb8f786c4e868933621fda375166\") {\n",
       "      outputDiv = document.getElementById(\"altair-viz-d2e8bb8f786c4e868933621fda375166\");\n",
       "    }\n",
       "    const paths = {\n",
       "      \"vega\": \"https://cdn.jsdelivr.net/npm//vega@5?noext\",\n",
       "      \"vega-lib\": \"https://cdn.jsdelivr.net/npm//vega-lib?noext\",\n",
       "      \"vega-lite\": \"https://cdn.jsdelivr.net/npm//vega-lite@4.8.1?noext\",\n",
       "      \"vega-embed\": \"https://cdn.jsdelivr.net/npm//vega-embed@6?noext\",\n",
       "    };\n",
       "\n",
       "    function loadScript(lib) {\n",
       "      return new Promise(function(resolve, reject) {\n",
       "        var s = document.createElement('script');\n",
       "        s.src = paths[lib];\n",
       "        s.async = true;\n",
       "        s.onload = () => resolve(paths[lib]);\n",
       "        s.onerror = () => reject(`Error loading script: ${paths[lib]}`);\n",
       "        document.getElementsByTagName(\"head\")[0].appendChild(s);\n",
       "      });\n",
       "    }\n",
       "\n",
       "    function showError(err) {\n",
       "      outputDiv.innerHTML = `<div class=\"error\" style=\"color:red;\">${err}</div>`;\n",
       "      throw err;\n",
       "    }\n",
       "\n",
       "    function displayChart(vegaEmbed) {\n",
       "      vegaEmbed(outputDiv, spec, embedOpt)\n",
       "        .catch(err => showError(`Javascript Error: ${err.message}<br>This usually means there's a typo in your chart specification. See the javascript console for the full traceback.`));\n",
       "    }\n",
       "\n",
       "    if(typeof define === \"function\" && define.amd) {\n",
       "      requirejs.config({paths});\n",
       "      require([\"vega-embed\"], displayChart, err => showError(`Error loading script: ${err.message}`));\n",
       "    } else if (typeof vegaEmbed === \"function\") {\n",
       "      displayChart(vegaEmbed);\n",
       "    } else {\n",
       "      loadScript(\"vega\")\n",
       "        .then(() => loadScript(\"vega-lite\"))\n",
       "        .then(() => loadScript(\"vega-embed\"))\n",
       "        .catch(showError)\n",
       "        .then(() => displayChart(vegaEmbed));\n",
       "    }\n",
       "  })({\"config\": {\"view\": {\"continuousWidth\": 400, \"continuousHeight\": 300}}, \"layer\": [{\"layer\": [{\"mark\": {\"type\": \"point\", \"size\": 75}, \"encoding\": {\"tooltip\": [{\"type\": \"temporal\", \"field\": \"date\"}, {\"type\": \"quantitative\", \"field\": \"positiveIncrease\"}, {\"type\": \"quantitative\", \"field\": \"sma7d\"}], \"x\": {\"type\": \"temporal\", \"field\": \"date\"}, \"y\": {\"type\": \"quantitative\", \"field\": \"positiveIncrease\"}}, \"selection\": {\"selector014\": {\"type\": \"interval\", \"bind\": \"scales\", \"encodings\": [\"x\", \"y\"]}}}, {\"mark\": {\"type\": \"line\", \"color\": \"purple\"}, \"encoding\": {\"x\": {\"type\": \"temporal\", \"field\": \"date\"}, \"y\": {\"type\": \"quantitative\", \"field\": \"sma7d\"}}}]}, {\"mark\": {\"type\": \"rule\", \"color\": \"#aaa\"}, \"encoding\": {\"x\": {\"type\": \"temporal\", \"field\": \"date\"}}, \"transform\": [{\"filter\": {\"selection\": \"selector013\"}}]}, {\"mark\": \"circle\", \"encoding\": {\"opacity\": {\"condition\": {\"value\": 1, \"selection\": \"selector013\"}, \"value\": 0}, \"tooltip\": [{\"type\": \"temporal\", \"field\": \"date\"}, {\"type\": \"quantitative\", \"field\": \"positiveIncrease\"}, {\"type\": \"quantitative\", \"field\": \"sma7d\"}], \"x\": {\"type\": \"temporal\", \"field\": \"date\"}, \"y\": {\"type\": \"quantitative\", \"field\": \"positiveIncrease\"}}, \"selection\": {\"selector013\": {\"type\": \"single\", \"encodings\": [\"x\"], \"on\": \"mouseover\", \"nearest\": true, \"empty\": \"none\"}}}, {\"mark\": {\"type\": \"text\", \"align\": \"left\", \"dx\": 5, \"dy\": -5, \"stroke\": \"white\", \"strokeWidth\": 2}, \"encoding\": {\"text\": {\"type\": \"quantitative\", \"field\": \"positiveIncrease\"}, \"tooltip\": [{\"type\": \"temporal\", \"field\": \"date\"}, {\"type\": \"quantitative\", \"field\": \"positiveIncrease\"}, {\"type\": \"quantitative\", \"field\": \"sma7d\"}], \"x\": {\"type\": \"temporal\", \"field\": \"date\"}, \"y\": {\"type\": \"quantitative\", \"field\": \"positiveIncrease\"}}, \"transform\": [{\"filter\": {\"selection\": \"selector013\"}}]}, {\"mark\": {\"type\": \"text\", \"align\": \"left\", \"dx\": 5, \"dy\": -5}, \"encoding\": {\"text\": {\"type\": \"quantitative\", \"field\": \"positiveIncrease\"}, \"tooltip\": [{\"type\": \"temporal\", \"field\": \"date\"}, {\"type\": \"quantitative\", \"field\": \"positiveIncrease\"}, {\"type\": \"quantitative\", \"field\": \"sma7d\"}], \"x\": {\"type\": \"temporal\", \"field\": \"date\"}, \"y\": {\"type\": \"quantitative\", \"field\": \"positiveIncrease\"}}, \"transform\": [{\"filter\": {\"selection\": \"selector013\"}}]}], \"data\": {\"name\": \"data-f008be5a6e1202cdc4dc6d0161caf92e\"}, \"height\": 400, \"title\": \"Non Tri-State: positiveIncrease\", \"width\": 500, \"$schema\": \"https://vega.github.io/schema/vega-lite/v4.8.1.json\", \"datasets\": {\"data-f008be5a6e1202cdc4dc6d0161caf92e\": [{\"date\": \"2020-08-01T00:00:00\", \"totalTestResultsIncrease\": 668813.0, \"positiveIncrease\": 59979.0, \"death\": 101210.0, \"deathIncrease\": 1164.0, \"positiveRate\": 0.09, \"state\": \"Non Tri-State\", \"sma7d\": 61301.857}, {\"date\": \"2020-08-02T00:00:00\", \"totalTestResultsIncrease\": 595619.0, \"positiveIncrease\": 45960.0, \"death\": 101696.0, \"deathIncrease\": 486.0, \"positiveRate\": 0.077, \"state\": \"Non Tri-State\", \"sma7d\": 59302.0}, {\"date\": \"2020-08-03T00:00:00\", \"totalTestResultsIncrease\": 660003.0, \"positiveIncrease\": 48652.0, \"death\": 102198.0, \"deathIncrease\": 502.0, \"positiveRate\": 0.074, \"state\": \"Non Tri-State\", \"sma7d\": 58528.286}, {\"date\": \"2020-08-04T00:00:00\", \"totalTestResultsIncrease\": 652616.0, \"positiveIncrease\": 50716.0, \"death\": 103439.0, \"deathIncrease\": 1241.0, \"positiveRate\": 0.078, \"state\": \"Non Tri-State\", \"sma7d\": 57503.143}, {\"date\": \"2020-08-05T00:00:00\", \"totalTestResultsIncrease\": 605874.0, \"positiveIncrease\": 51216.0, \"death\": 104774.0, \"deathIncrease\": 1335.0, \"positiveRate\": 0.085, \"state\": \"Non Tri-State\", \"sma7d\": 55854.143}, {\"date\": \"2020-08-06T00:00:00\", \"totalTestResultsIncrease\": 660649.0, \"positiveIncrease\": 53090.0, \"death\": 106012.0, \"deathIncrease\": 1238.0, \"positiveRate\": 0.08, \"state\": \"Non Tri-State\", \"sma7d\": 53680.286}, {\"date\": \"2020-08-07T00:00:00\", \"totalTestResultsIncrease\": 703276.0, \"positiveIncrease\": 60196.0, \"death\": 107325.0, \"deathIncrease\": 1313.0, \"positiveRate\": 0.086, \"state\": \"Non Tri-State\", \"sma7d\": 52829.857}, {\"date\": \"2020-08-08T00:00:00\", \"totalTestResultsIncrease\": 613845.0, \"positiveIncrease\": 52641.0, \"death\": 108400.0, \"deathIncrease\": 1075.0, \"positiveRate\": 0.086, \"state\": \"Non Tri-State\", \"sma7d\": 51781.571}, {\"date\": \"2020-08-09T00:00:00\", \"totalTestResultsIncrease\": 611280.0, \"positiveIncrease\": 49768.0, \"death\": 109004.0, \"deathIncrease\": 604.0, \"positiveRate\": 0.081, \"state\": \"Non Tri-State\", \"sma7d\": 52325.571}, {\"date\": \"2020-08-10T00:00:00\", \"totalTestResultsIncrease\": 638635.0, \"positiveIncrease\": 41108.0, \"death\": 109421.0, \"deathIncrease\": 417.0, \"positiveRate\": 0.064, \"state\": \"Non Tri-State\", \"sma7d\": 51247.857}, {\"date\": \"2020-08-11T00:00:00\", \"totalTestResultsIncrease\": 644451.0, \"positiveIncrease\": 54473.0, \"death\": 110728.0, \"deathIncrease\": 1307.0, \"positiveRate\": 0.085, \"state\": \"Non Tri-State\", \"sma7d\": 51784.571}, {\"date\": \"2020-08-12T00:00:00\", \"totalTestResultsIncrease\": 366018.0, \"positiveIncrease\": 54949.0, \"death\": 112223.0, \"deathIncrease\": 1495.0, \"positiveRate\": 0.15, \"state\": \"Non Tri-State\", \"sma7d\": 52317.857}, {\"date\": \"2020-08-13T00:00:00\", \"totalTestResultsIncrease\": 801571.0, \"positiveIncrease\": 50290.0, \"death\": 113368.0, \"deathIncrease\": 1145.0, \"positiveRate\": 0.063, \"state\": \"Non Tri-State\", \"sma7d\": 51917.857}, {\"date\": \"2020-08-14T00:00:00\", \"totalTestResultsIncrease\": 763525.0, \"positiveIncrease\": 54224.0, \"death\": 114567.0, \"deathIncrease\": 1199.0, \"positiveRate\": 0.071, \"state\": \"Non Tri-State\", \"sma7d\": 51064.714}, {\"date\": \"2020-08-15T00:00:00\", \"totalTestResultsIncrease\": 659409.0, \"positiveIncrease\": 55137.0, \"death\": 115767.0, \"deathIncrease\": 1200.0, \"positiveRate\": 0.084, \"state\": \"Non Tri-State\", \"sma7d\": 51421.286}, {\"date\": \"2020-08-16T00:00:00\", \"totalTestResultsIncrease\": 701562.0, \"positiveIncrease\": 41867.0, \"death\": 116378.0, \"deathIncrease\": 611.0, \"positiveRate\": 0.06, \"state\": \"Non Tri-State\", \"sma7d\": 50292.571}, {\"date\": \"2020-08-17T00:00:00\", \"totalTestResultsIncrease\": 563754.0, \"positiveIncrease\": 36790.0, \"death\": 116772.0, \"deathIncrease\": 394.0, \"positiveRate\": 0.065, \"state\": \"Non Tri-State\", \"sma7d\": 49675.714}, {\"date\": \"2020-08-18T00:00:00\", \"totalTestResultsIncrease\": 574408.0, \"positiveIncrease\": 39821.0, \"death\": 117950.0, \"deathIncrease\": 1178.0, \"positiveRate\": 0.069, \"state\": \"Non Tri-State\", \"sma7d\": 47582.571}, {\"date\": \"2020-08-19T00:00:00\", \"totalTestResultsIncrease\": 588836.0, \"positiveIncrease\": 43936.0, \"death\": 119352.0, \"deathIncrease\": 1402.0, \"positiveRate\": 0.075, \"state\": \"Non Tri-State\", \"sma7d\": 46009.286}, {\"date\": \"2020-08-20T00:00:00\", \"totalTestResultsIncrease\": 605391.0, \"positiveIncrease\": 42939.0, \"death\": 120474.0, \"deathIncrease\": 1122.0, \"positiveRate\": 0.071, \"state\": \"Non Tri-State\", \"sma7d\": 44959.143}, {\"date\": \"2020-08-21T00:00:00\", \"totalTestResultsIncrease\": 648154.0, \"positiveIncrease\": 45475.0, \"death\": 121583.0, \"deathIncrease\": 1109.0, \"positiveRate\": 0.07, \"state\": \"Non Tri-State\", \"sma7d\": 43709.286}, {\"date\": \"2020-08-22T00:00:00\", \"totalTestResultsIncrease\": 666357.0, \"positiveIncrease\": 45164.0, \"death\": 122606.0, \"deathIncrease\": 1023.0, \"positiveRate\": 0.068, \"state\": \"Non Tri-State\", \"sma7d\": 42284.571}, {\"date\": \"2020-08-23T00:00:00\", \"totalTestResultsIncrease\": 571023.0, \"positiveIncrease\": 36736.0, \"death\": 123169.0, \"deathIncrease\": 563.0, \"positiveRate\": 0.064, \"state\": \"Non Tri-State\", \"sma7d\": 41551.571}, {\"date\": \"2020-08-24T00:00:00\", \"totalTestResultsIncrease\": 568280.0, \"positiveIncrease\": 33518.0, \"death\": 123502.0, \"deathIncrease\": 333.0, \"positiveRate\": 0.059, \"state\": \"Non Tri-State\", \"sma7d\": 41084.143}, {\"date\": \"2020-08-25T00:00:00\", \"totalTestResultsIncrease\": 570676.0, \"positiveIncrease\": 35419.0, \"death\": 124640.0, \"deathIncrease\": 1138.0, \"positiveRate\": 0.062, \"state\": \"Non Tri-State\", \"sma7d\": 40455.286}, {\"date\": \"2020-08-26T00:00:00\", \"totalTestResultsIncrease\": 570374.0, \"positiveIncrease\": 43022.0, \"death\": 125920.0, \"deathIncrease\": 1280.0, \"positiveRate\": 0.075, \"state\": \"Non Tri-State\", \"sma7d\": 40324.714}, {\"date\": \"2020-08-27T00:00:00\", \"totalTestResultsIncrease\": 665471.0, \"positiveIncrease\": 42756.0, \"death\": 127036.0, \"deathIncrease\": 1116.0, \"positiveRate\": 0.064, \"state\": \"Non Tri-State\", \"sma7d\": 40298.571}, {\"date\": \"2020-08-28T00:00:00\", \"totalTestResultsIncrease\": 706505.0, \"positiveIncrease\": 45409.0, \"death\": 128047.0, \"deathIncrease\": 1011.0, \"positiveRate\": 0.064, \"state\": \"Non Tri-State\", \"sma7d\": 40289.143}, {\"date\": \"2020-08-29T00:00:00\", \"totalTestResultsIncrease\": 662996.0, \"positiveIncrease\": 43517.0, \"death\": 129052.0, \"deathIncrease\": 1005.0, \"positiveRate\": 0.066, \"state\": \"Non Tri-State\", \"sma7d\": 40053.857}, {\"date\": \"2020-08-30T00:00:00\", \"totalTestResultsIncrease\": 645726.0, \"positiveIncrease\": 38512.0, \"death\": 129515.0, \"deathIncrease\": 463.0, \"positiveRate\": 0.06, \"state\": \"Non Tri-State\", \"sma7d\": 40307.571}, {\"date\": \"2020-08-31T00:00:00\", \"totalTestResultsIncrease\": 571715.0, \"positiveIncrease\": 30017.0, \"death\": 129872.0, \"deathIncrease\": 357.0, \"positiveRate\": 0.053, \"state\": \"Non Tri-State\", \"sma7d\": 39807.429}, {\"date\": \"2020-09-01T00:00:00\", \"totalTestResultsIncrease\": 635044.0, \"positiveIncrease\": 41222.0, \"death\": 130890.0, \"deathIncrease\": 1018.0, \"positiveRate\": 0.065, \"state\": \"Non Tri-State\", \"sma7d\": 40636.429}, {\"date\": \"2020-09-02T00:00:00\", \"totalTestResultsIncrease\": 540597.0, \"positiveIncrease\": 29488.0, \"death\": 131905.0, \"deathIncrease\": 1015.0, \"positiveRate\": 0.055, \"state\": \"Non Tri-State\", \"sma7d\": 38703.0}, {\"date\": \"2020-09-03T00:00:00\", \"totalTestResultsIncrease\": 667223.0, \"positiveIncrease\": 43346.0, \"death\": 132960.0, \"deathIncrease\": 1055.0, \"positiveRate\": 0.065, \"state\": \"Non Tri-State\", \"sma7d\": 38787.286}, {\"date\": \"2020-09-04T00:00:00\", \"totalTestResultsIncrease\": 802161.0, \"positiveIncrease\": 50122.0, \"death\": 133946.0, \"deathIncrease\": 986.0, \"positiveRate\": 0.062, \"state\": \"Non Tri-State\", \"sma7d\": 39460.571}, {\"date\": \"2020-09-05T00:00:00\", \"totalTestResultsIncrease\": 776474.0, \"positiveIncrease\": 43779.0, \"death\": 134855.0, \"deathIncrease\": 909.0, \"positiveRate\": 0.056, \"state\": \"Non Tri-State\", \"sma7d\": 39498.0}, {\"date\": \"2020-09-06T00:00:00\", \"totalTestResultsIncrease\": 659463.0, \"positiveIncrease\": 32077.0, \"death\": 135291.0, \"deathIncrease\": 436.0, \"positiveRate\": 0.049, \"state\": \"Non Tri-State\", \"sma7d\": 38578.714}, {\"date\": \"2020-09-07T00:00:00\", \"totalTestResultsIncrease\": 504185.0, \"positiveIncrease\": 27830.0, \"death\": 135512.0, \"deathIncrease\": 221.0, \"positiveRate\": 0.055, \"state\": \"Non Tri-State\", \"sma7d\": 38266.286}, {\"date\": \"2020-09-08T00:00:00\", \"totalTestResultsIncrease\": 416771.0, \"positiveIncrease\": 20972.0, \"death\": 135853.0, \"deathIncrease\": 341.0, \"positiveRate\": 0.05, \"state\": \"Non Tri-State\", \"sma7d\": 35373.429}, {\"date\": \"2020-09-09T00:00:00\", \"totalTestResultsIncrease\": 536587.0, \"positiveIncrease\": 29995.0, \"death\": 136926.0, \"deathIncrease\": 1073.0, \"positiveRate\": 0.056, \"state\": \"Non Tri-State\", \"sma7d\": 35445.857}, {\"date\": \"2020-09-10T00:00:00\", \"totalTestResultsIncrease\": 574370.0, \"positiveIncrease\": 36178.0, \"death\": 138080.0, \"deathIncrease\": 1154.0, \"positiveRate\": 0.063, \"state\": \"Non Tri-State\", \"sma7d\": 34421.857}, {\"date\": \"2020-09-11T00:00:00\", \"totalTestResultsIncrease\": 687980.0, \"positiveIncrease\": 43340.0, \"death\": 139082.0, \"deathIncrease\": 1002.0, \"positiveRate\": 0.063, \"state\": \"Non Tri-State\", \"sma7d\": 33453.0}, {\"date\": \"2020-09-12T00:00:00\", \"totalTestResultsIncrease\": 799991.0, \"positiveIncrease\": 40789.0, \"death\": 139886.0, \"deathIncrease\": 804.0, \"positiveRate\": 0.051, \"state\": \"Non Tri-State\", \"sma7d\": 33025.857}, {\"date\": \"2020-09-13T00:00:00\", \"totalTestResultsIncrease\": 628257.0, \"positiveIncrease\": 33431.0, \"death\": 140265.0, \"deathIncrease\": 379.0, \"positiveRate\": 0.053, \"state\": \"Non Tri-State\", \"sma7d\": 33219.286}, {\"date\": \"2020-09-14T00:00:00\", \"totalTestResultsIncrease\": 312034.0, \"positiveIncrease\": 32378.0, \"death\": 140656.0, \"deathIncrease\": 391.0, \"positiveRate\": 0.104, \"state\": \"Non Tri-State\", \"sma7d\": 33869.0}, {\"date\": \"2020-09-15T00:00:00\", \"totalTestResultsIncrease\": 617954.0, \"positiveIncrease\": 34107.0, \"death\": 141667.0, \"deathIncrease\": 1011.0, \"positiveRate\": 0.055, \"state\": \"Non Tri-State\", \"sma7d\": 35745.429}, {\"date\": \"2020-09-16T00:00:00\", \"totalTestResultsIncrease\": 628255.0, \"positiveIncrease\": 38846.0, \"death\": 142851.0, \"deathIncrease\": 1184.0, \"positiveRate\": 0.062, \"state\": \"Non Tri-State\", \"sma7d\": 37009.857}, {\"date\": \"2020-09-17T00:00:00\", \"totalTestResultsIncrease\": 705723.0, \"positiveIncrease\": 41873.0, \"death\": 143707.0, \"deathIncrease\": 856.0, \"positiveRate\": 0.059, \"state\": \"Non Tri-State\", \"sma7d\": 37823.429}, {\"date\": \"2020-09-18T00:00:00\", \"totalTestResultsIncrease\": 855304.0, \"positiveIncrease\": 46068.0, \"death\": 144590.0, \"deathIncrease\": 883.0, \"positiveRate\": 0.054, \"state\": \"Non Tri-State\", \"sma7d\": 38213.143}, {\"date\": \"2020-09-19T00:00:00\", \"totalTestResultsIncrease\": 955164.0, \"positiveIncrease\": 44092.0, \"death\": 145325.0, \"deathIncrease\": 735.0, \"positiveRate\": 0.046, \"state\": \"Non Tri-State\", \"sma7d\": 38685.0}, {\"date\": \"2020-09-20T00:00:00\", \"totalTestResultsIncrease\": 744554.0, \"positiveIncrease\": 34980.0, \"death\": 145647.0, \"deathIncrease\": 322.0, \"positiveRate\": 0.047, \"state\": \"Non Tri-State\", \"sma7d\": 38906.286}, {\"date\": \"2020-09-21T00:00:00\", \"totalTestResultsIncrease\": 620982.0, \"positiveIncrease\": 38010.0, \"death\": 145928.0, \"deathIncrease\": 281.0, \"positiveRate\": 0.061, \"state\": \"Non Tri-State\", \"sma7d\": 39710.857}, {\"date\": \"2020-09-22T00:00:00\", \"totalTestResultsIncrease\": 629432.0, \"positiveIncrease\": 48123.0, \"death\": 146770.0, \"deathIncrease\": 842.0, \"positiveRate\": 0.076, \"state\": \"Non Tri-State\", \"sma7d\": 41713.143}, {\"date\": \"2020-09-23T00:00:00\", \"totalTestResultsIncrease\": 817602.0, \"positiveIncrease\": 37339.0, \"death\": 147915.0, \"deathIncrease\": 1145.0, \"positiveRate\": 0.046, \"state\": \"Non Tri-State\", \"sma7d\": 41497.857}, {\"date\": \"2020-09-24T00:00:00\", \"totalTestResultsIncrease\": 802768.0, \"positiveIncrease\": 42096.0, \"death\": 148823.0, \"deathIncrease\": 908.0, \"positiveRate\": 0.052, \"state\": \"Non Tri-State\", \"sma7d\": 41529.714}]}}, {\"mode\": \"vega-lite\"});\n",
       "</script>"
      ],
      "text/plain": [
       "alt.LayerChart(...)"
      ]
     },
     "execution_count": 15,
     "metadata": {},
     "output_type": "execute_result"
    }
   ],
   "source": [
    "create_plot(non_tristate, 'positiveIncrease')"
   ]
  },
  {
   "cell_type": "code",
   "execution_count": 16,
   "metadata": {
    "execution": {
     "iopub.execute_input": "2020-09-25T22:33:31.497451Z",
     "iopub.status.busy": "2020-09-25T22:33:31.496871Z",
     "iopub.status.idle": "2020-09-25T22:33:31.578199Z",
     "shell.execute_reply": "2020-09-25T22:33:31.578627Z"
    },
    "papermill": {
     "duration": 0.10189,
     "end_time": "2020-09-25T22:33:31.578756",
     "exception": false,
     "start_time": "2020-09-25T22:33:31.476866",
     "status": "completed"
    },
    "tags": []
   },
   "outputs": [
    {
     "data": {
      "text/html": [
       "\n",
       "<div id=\"altair-viz-9f345e2549ce43de9fedf9b651eeddbd\"></div>\n",
       "<script type=\"text/javascript\">\n",
       "  (function(spec, embedOpt){\n",
       "    let outputDiv = document.currentScript.previousElementSibling;\n",
       "    if (outputDiv.id !== \"altair-viz-9f345e2549ce43de9fedf9b651eeddbd\") {\n",
       "      outputDiv = document.getElementById(\"altair-viz-9f345e2549ce43de9fedf9b651eeddbd\");\n",
       "    }\n",
       "    const paths = {\n",
       "      \"vega\": \"https://cdn.jsdelivr.net/npm//vega@5?noext\",\n",
       "      \"vega-lib\": \"https://cdn.jsdelivr.net/npm//vega-lib?noext\",\n",
       "      \"vega-lite\": \"https://cdn.jsdelivr.net/npm//vega-lite@4.8.1?noext\",\n",
       "      \"vega-embed\": \"https://cdn.jsdelivr.net/npm//vega-embed@6?noext\",\n",
       "    };\n",
       "\n",
       "    function loadScript(lib) {\n",
       "      return new Promise(function(resolve, reject) {\n",
       "        var s = document.createElement('script');\n",
       "        s.src = paths[lib];\n",
       "        s.async = true;\n",
       "        s.onload = () => resolve(paths[lib]);\n",
       "        s.onerror = () => reject(`Error loading script: ${paths[lib]}`);\n",
       "        document.getElementsByTagName(\"head\")[0].appendChild(s);\n",
       "      });\n",
       "    }\n",
       "\n",
       "    function showError(err) {\n",
       "      outputDiv.innerHTML = `<div class=\"error\" style=\"color:red;\">${err}</div>`;\n",
       "      throw err;\n",
       "    }\n",
       "\n",
       "    function displayChart(vegaEmbed) {\n",
       "      vegaEmbed(outputDiv, spec, embedOpt)\n",
       "        .catch(err => showError(`Javascript Error: ${err.message}<br>This usually means there's a typo in your chart specification. See the javascript console for the full traceback.`));\n",
       "    }\n",
       "\n",
       "    if(typeof define === \"function\" && define.amd) {\n",
       "      requirejs.config({paths});\n",
       "      require([\"vega-embed\"], displayChart, err => showError(`Error loading script: ${err.message}`));\n",
       "    } else if (typeof vegaEmbed === \"function\") {\n",
       "      displayChart(vegaEmbed);\n",
       "    } else {\n",
       "      loadScript(\"vega\")\n",
       "        .then(() => loadScript(\"vega-lite\"))\n",
       "        .then(() => loadScript(\"vega-embed\"))\n",
       "        .catch(showError)\n",
       "        .then(() => displayChart(vegaEmbed));\n",
       "    }\n",
       "  })({\"config\": {\"view\": {\"continuousWidth\": 400, \"continuousHeight\": 300}}, \"layer\": [{\"layer\": [{\"mark\": {\"type\": \"point\", \"size\": 75}, \"encoding\": {\"tooltip\": [{\"type\": \"temporal\", \"field\": \"date\"}, {\"type\": \"quantitative\", \"field\": \"positiveRate\"}, {\"type\": \"quantitative\", \"field\": \"sma7d\"}], \"x\": {\"type\": \"temporal\", \"field\": \"date\"}, \"y\": {\"type\": \"quantitative\", \"field\": \"positiveRate\"}}, \"selection\": {\"selector016\": {\"type\": \"interval\", \"bind\": \"scales\", \"encodings\": [\"x\", \"y\"]}}}, {\"mark\": {\"type\": \"line\", \"color\": \"purple\"}, \"encoding\": {\"x\": {\"type\": \"temporal\", \"field\": \"date\"}, \"y\": {\"type\": \"quantitative\", \"field\": \"sma7d\"}}}]}, {\"mark\": {\"type\": \"rule\", \"color\": \"#aaa\"}, \"encoding\": {\"x\": {\"type\": \"temporal\", \"field\": \"date\"}}, \"transform\": [{\"filter\": {\"selection\": \"selector015\"}}]}, {\"mark\": \"circle\", \"encoding\": {\"opacity\": {\"condition\": {\"value\": 1, \"selection\": \"selector015\"}, \"value\": 0}, \"tooltip\": [{\"type\": \"temporal\", \"field\": \"date\"}, {\"type\": \"quantitative\", \"field\": \"positiveRate\"}, {\"type\": \"quantitative\", \"field\": \"sma7d\"}], \"x\": {\"type\": \"temporal\", \"field\": \"date\"}, \"y\": {\"type\": \"quantitative\", \"field\": \"positiveRate\"}}, \"selection\": {\"selector015\": {\"type\": \"single\", \"encodings\": [\"x\"], \"on\": \"mouseover\", \"nearest\": true, \"empty\": \"none\"}}}, {\"mark\": {\"type\": \"text\", \"align\": \"left\", \"dx\": 5, \"dy\": -5, \"stroke\": \"white\", \"strokeWidth\": 2}, \"encoding\": {\"text\": {\"type\": \"quantitative\", \"field\": \"positiveRate\"}, \"tooltip\": [{\"type\": \"temporal\", \"field\": \"date\"}, {\"type\": \"quantitative\", \"field\": \"positiveRate\"}, {\"type\": \"quantitative\", \"field\": \"sma7d\"}], \"x\": {\"type\": \"temporal\", \"field\": \"date\"}, \"y\": {\"type\": \"quantitative\", \"field\": \"positiveRate\"}}, \"transform\": [{\"filter\": {\"selection\": \"selector015\"}}]}, {\"mark\": {\"type\": \"text\", \"align\": \"left\", \"dx\": 5, \"dy\": -5}, \"encoding\": {\"text\": {\"type\": \"quantitative\", \"field\": \"positiveRate\"}, \"tooltip\": [{\"type\": \"temporal\", \"field\": \"date\"}, {\"type\": \"quantitative\", \"field\": \"positiveRate\"}, {\"type\": \"quantitative\", \"field\": \"sma7d\"}], \"x\": {\"type\": \"temporal\", \"field\": \"date\"}, \"y\": {\"type\": \"quantitative\", \"field\": \"positiveRate\"}}, \"transform\": [{\"filter\": {\"selection\": \"selector015\"}}]}], \"data\": {\"name\": \"data-57792974fa8dea74c36dffbc9d8ebcab\"}, \"height\": 400, \"title\": \"Non Tri-State: positiveRate\", \"width\": 500, \"$schema\": \"https://vega.github.io/schema/vega-lite/v4.8.1.json\", \"datasets\": {\"data-57792974fa8dea74c36dffbc9d8ebcab\": [{\"date\": \"2020-08-01T00:00:00\", \"totalTestResultsIncrease\": 668813.0, \"positiveIncrease\": 59979.0, \"death\": 101210.0, \"deathIncrease\": 1164.0, \"positiveRate\": 0.09, \"state\": \"Non Tri-State\", \"sma7d\": 0.086}, {\"date\": \"2020-08-02T00:00:00\", \"totalTestResultsIncrease\": 595619.0, \"positiveIncrease\": 45960.0, \"death\": 101696.0, \"deathIncrease\": 486.0, \"positiveRate\": 0.077, \"state\": \"Non Tri-State\", \"sma7d\": 0.085}, {\"date\": \"2020-08-03T00:00:00\", \"totalTestResultsIncrease\": 660003.0, \"positiveIncrease\": 48652.0, \"death\": 102198.0, \"deathIncrease\": 502.0, \"positiveRate\": 0.074, \"state\": \"Non Tri-State\", \"sma7d\": 0.084}, {\"date\": \"2020-08-04T00:00:00\", \"totalTestResultsIncrease\": 652616.0, \"positiveIncrease\": 50716.0, \"death\": 103439.0, \"deathIncrease\": 1241.0, \"positiveRate\": 0.078, \"state\": \"Non Tri-State\", \"sma7d\": 0.083}, {\"date\": \"2020-08-05T00:00:00\", \"totalTestResultsIncrease\": 605874.0, \"positiveIncrease\": 51216.0, \"death\": 104774.0, \"deathIncrease\": 1335.0, \"positiveRate\": 0.085, \"state\": \"Non Tri-State\", \"sma7d\": 0.083}, {\"date\": \"2020-08-06T00:00:00\", \"totalTestResultsIncrease\": 660649.0, \"positiveIncrease\": 53090.0, \"death\": 106012.0, \"deathIncrease\": 1238.0, \"positiveRate\": 0.08, \"state\": \"Non Tri-State\", \"sma7d\": 0.081}, {\"date\": \"2020-08-07T00:00:00\", \"totalTestResultsIncrease\": 703276.0, \"positiveIncrease\": 60196.0, \"death\": 107325.0, \"deathIncrease\": 1313.0, \"positiveRate\": 0.086, \"state\": \"Non Tri-State\", \"sma7d\": 0.081}, {\"date\": \"2020-08-08T00:00:00\", \"totalTestResultsIncrease\": 613845.0, \"positiveIncrease\": 52641.0, \"death\": 108400.0, \"deathIncrease\": 1075.0, \"positiveRate\": 0.086, \"state\": \"Non Tri-State\", \"sma7d\": 0.081}, {\"date\": \"2020-08-09T00:00:00\", \"totalTestResultsIncrease\": 611280.0, \"positiveIncrease\": 49768.0, \"death\": 109004.0, \"deathIncrease\": 604.0, \"positiveRate\": 0.081, \"state\": \"Non Tri-State\", \"sma7d\": 0.081}, {\"date\": \"2020-08-10T00:00:00\", \"totalTestResultsIncrease\": 638635.0, \"positiveIncrease\": 41108.0, \"death\": 109421.0, \"deathIncrease\": 417.0, \"positiveRate\": 0.064, \"state\": \"Non Tri-State\", \"sma7d\": 0.08}, {\"date\": \"2020-08-11T00:00:00\", \"totalTestResultsIncrease\": 644451.0, \"positiveIncrease\": 54473.0, \"death\": 110728.0, \"deathIncrease\": 1307.0, \"positiveRate\": 0.085, \"state\": \"Non Tri-State\", \"sma7d\": 0.081}, {\"date\": \"2020-08-12T00:00:00\", \"totalTestResultsIncrease\": 366018.0, \"positiveIncrease\": 54949.0, \"death\": 112223.0, \"deathIncrease\": 1495.0, \"positiveRate\": 0.15, \"state\": \"Non Tri-State\", \"sma7d\": 0.09}, {\"date\": \"2020-08-13T00:00:00\", \"totalTestResultsIncrease\": 801571.0, \"positiveIncrease\": 50290.0, \"death\": 113368.0, \"deathIncrease\": 1145.0, \"positiveRate\": 0.063, \"state\": \"Non Tri-State\", \"sma7d\": 0.088}, {\"date\": \"2020-08-14T00:00:00\", \"totalTestResultsIncrease\": 763525.0, \"positiveIncrease\": 54224.0, \"death\": 114567.0, \"deathIncrease\": 1199.0, \"positiveRate\": 0.071, \"state\": \"Non Tri-State\", \"sma7d\": 0.086}, {\"date\": \"2020-08-15T00:00:00\", \"totalTestResultsIncrease\": 659409.0, \"positiveIncrease\": 55137.0, \"death\": 115767.0, \"deathIncrease\": 1200.0, \"positiveRate\": 0.084, \"state\": \"Non Tri-State\", \"sma7d\": 0.085}, {\"date\": \"2020-08-16T00:00:00\", \"totalTestResultsIncrease\": 701562.0, \"positiveIncrease\": 41867.0, \"death\": 116378.0, \"deathIncrease\": 611.0, \"positiveRate\": 0.06, \"state\": \"Non Tri-State\", \"sma7d\": 0.082}, {\"date\": \"2020-08-17T00:00:00\", \"totalTestResultsIncrease\": 563754.0, \"positiveIncrease\": 36790.0, \"death\": 116772.0, \"deathIncrease\": 394.0, \"positiveRate\": 0.065, \"state\": \"Non Tri-State\", \"sma7d\": 0.083}, {\"date\": \"2020-08-18T00:00:00\", \"totalTestResultsIncrease\": 574408.0, \"positiveIncrease\": 39821.0, \"death\": 117950.0, \"deathIncrease\": 1178.0, \"positiveRate\": 0.069, \"state\": \"Non Tri-State\", \"sma7d\": 0.08}, {\"date\": \"2020-08-19T00:00:00\", \"totalTestResultsIncrease\": 588836.0, \"positiveIncrease\": 43936.0, \"death\": 119352.0, \"deathIncrease\": 1402.0, \"positiveRate\": 0.075, \"state\": \"Non Tri-State\", \"sma7d\": 0.07}, {\"date\": \"2020-08-20T00:00:00\", \"totalTestResultsIncrease\": 605391.0, \"positiveIncrease\": 42939.0, \"death\": 120474.0, \"deathIncrease\": 1122.0, \"positiveRate\": 0.071, \"state\": \"Non Tri-State\", \"sma7d\": 0.071}, {\"date\": \"2020-08-21T00:00:00\", \"totalTestResultsIncrease\": 648154.0, \"positiveIncrease\": 45475.0, \"death\": 121583.0, \"deathIncrease\": 1109.0, \"positiveRate\": 0.07, \"state\": \"Non Tri-State\", \"sma7d\": 0.071}, {\"date\": \"2020-08-22T00:00:00\", \"totalTestResultsIncrease\": 666357.0, \"positiveIncrease\": 45164.0, \"death\": 122606.0, \"deathIncrease\": 1023.0, \"positiveRate\": 0.068, \"state\": \"Non Tri-State\", \"sma7d\": 0.068}, {\"date\": \"2020-08-23T00:00:00\", \"totalTestResultsIncrease\": 571023.0, \"positiveIncrease\": 36736.0, \"death\": 123169.0, \"deathIncrease\": 563.0, \"positiveRate\": 0.064, \"state\": \"Non Tri-State\", \"sma7d\": 0.069}, {\"date\": \"2020-08-24T00:00:00\", \"totalTestResultsIncrease\": 568280.0, \"positiveIncrease\": 33518.0, \"death\": 123502.0, \"deathIncrease\": 333.0, \"positiveRate\": 0.059, \"state\": \"Non Tri-State\", \"sma7d\": 0.068}, {\"date\": \"2020-08-25T00:00:00\", \"totalTestResultsIncrease\": 570676.0, \"positiveIncrease\": 35419.0, \"death\": 124640.0, \"deathIncrease\": 1138.0, \"positiveRate\": 0.062, \"state\": \"Non Tri-State\", \"sma7d\": 0.067}, {\"date\": \"2020-08-26T00:00:00\", \"totalTestResultsIncrease\": 570374.0, \"positiveIncrease\": 43022.0, \"death\": 125920.0, \"deathIncrease\": 1280.0, \"positiveRate\": 0.075, \"state\": \"Non Tri-State\", \"sma7d\": 0.067}, {\"date\": \"2020-08-27T00:00:00\", \"totalTestResultsIncrease\": 665471.0, \"positiveIncrease\": 42756.0, \"death\": 127036.0, \"deathIncrease\": 1116.0, \"positiveRate\": 0.064, \"state\": \"Non Tri-State\", \"sma7d\": 0.066}, {\"date\": \"2020-08-28T00:00:00\", \"totalTestResultsIncrease\": 706505.0, \"positiveIncrease\": 45409.0, \"death\": 128047.0, \"deathIncrease\": 1011.0, \"positiveRate\": 0.064, \"state\": \"Non Tri-State\", \"sma7d\": 0.065}, {\"date\": \"2020-08-29T00:00:00\", \"totalTestResultsIncrease\": 662996.0, \"positiveIncrease\": 43517.0, \"death\": 129052.0, \"deathIncrease\": 1005.0, \"positiveRate\": 0.066, \"state\": \"Non Tri-State\", \"sma7d\": 0.065}, {\"date\": \"2020-08-30T00:00:00\", \"totalTestResultsIncrease\": 645726.0, \"positiveIncrease\": 38512.0, \"death\": 129515.0, \"deathIncrease\": 463.0, \"positiveRate\": 0.06, \"state\": \"Non Tri-State\", \"sma7d\": 0.064}, {\"date\": \"2020-08-31T00:00:00\", \"totalTestResultsIncrease\": 571715.0, \"positiveIncrease\": 30017.0, \"death\": 129872.0, \"deathIncrease\": 357.0, \"positiveRate\": 0.053, \"state\": \"Non Tri-State\", \"sma7d\": 0.063}, {\"date\": \"2020-09-01T00:00:00\", \"totalTestResultsIncrease\": 635044.0, \"positiveIncrease\": 41222.0, \"death\": 130890.0, \"deathIncrease\": 1018.0, \"positiveRate\": 0.065, \"state\": \"Non Tri-State\", \"sma7d\": 0.064}, {\"date\": \"2020-09-02T00:00:00\", \"totalTestResultsIncrease\": 540597.0, \"positiveIncrease\": 29488.0, \"death\": 131905.0, \"deathIncrease\": 1015.0, \"positiveRate\": 0.055, \"state\": \"Non Tri-State\", \"sma7d\": 0.061}, {\"date\": \"2020-09-03T00:00:00\", \"totalTestResultsIncrease\": 667223.0, \"positiveIncrease\": 43346.0, \"death\": 132960.0, \"deathIncrease\": 1055.0, \"positiveRate\": 0.065, \"state\": \"Non Tri-State\", \"sma7d\": 0.061}, {\"date\": \"2020-09-04T00:00:00\", \"totalTestResultsIncrease\": 802161.0, \"positiveIncrease\": 50122.0, \"death\": 133946.0, \"deathIncrease\": 986.0, \"positiveRate\": 0.062, \"state\": \"Non Tri-State\", \"sma7d\": 0.061}, {\"date\": \"2020-09-05T00:00:00\", \"totalTestResultsIncrease\": 776474.0, \"positiveIncrease\": 43779.0, \"death\": 134855.0, \"deathIncrease\": 909.0, \"positiveRate\": 0.056, \"state\": \"Non Tri-State\", \"sma7d\": 0.059}, {\"date\": \"2020-09-06T00:00:00\", \"totalTestResultsIncrease\": 659463.0, \"positiveIncrease\": 32077.0, \"death\": 135291.0, \"deathIncrease\": 436.0, \"positiveRate\": 0.049, \"state\": \"Non Tri-State\", \"sma7d\": 0.058}, {\"date\": \"2020-09-07T00:00:00\", \"totalTestResultsIncrease\": 504185.0, \"positiveIncrease\": 27830.0, \"death\": 135512.0, \"deathIncrease\": 221.0, \"positiveRate\": 0.055, \"state\": \"Non Tri-State\", \"sma7d\": 0.058}, {\"date\": \"2020-09-08T00:00:00\", \"totalTestResultsIncrease\": 416771.0, \"positiveIncrease\": 20972.0, \"death\": 135853.0, \"deathIncrease\": 341.0, \"positiveRate\": 0.05, \"state\": \"Non Tri-State\", \"sma7d\": 0.056}, {\"date\": \"2020-09-09T00:00:00\", \"totalTestResultsIncrease\": 536587.0, \"positiveIncrease\": 29995.0, \"death\": 136926.0, \"deathIncrease\": 1073.0, \"positiveRate\": 0.056, \"state\": \"Non Tri-State\", \"sma7d\": 0.056}, {\"date\": \"2020-09-10T00:00:00\", \"totalTestResultsIncrease\": 574370.0, \"positiveIncrease\": 36178.0, \"death\": 138080.0, \"deathIncrease\": 1154.0, \"positiveRate\": 0.063, \"state\": \"Non Tri-State\", \"sma7d\": 0.056}, {\"date\": \"2020-09-11T00:00:00\", \"totalTestResultsIncrease\": 687980.0, \"positiveIncrease\": 43340.0, \"death\": 139082.0, \"deathIncrease\": 1002.0, \"positiveRate\": 0.063, \"state\": \"Non Tri-State\", \"sma7d\": 0.056}, {\"date\": \"2020-09-12T00:00:00\", \"totalTestResultsIncrease\": 799991.0, \"positiveIncrease\": 40789.0, \"death\": 139886.0, \"deathIncrease\": 804.0, \"positiveRate\": 0.051, \"state\": \"Non Tri-State\", \"sma7d\": 0.055}, {\"date\": \"2020-09-13T00:00:00\", \"totalTestResultsIncrease\": 628257.0, \"positiveIncrease\": 33431.0, \"death\": 140265.0, \"deathIncrease\": 379.0, \"positiveRate\": 0.053, \"state\": \"Non Tri-State\", \"sma7d\": 0.056}, {\"date\": \"2020-09-14T00:00:00\", \"totalTestResultsIncrease\": 312034.0, \"positiveIncrease\": 32378.0, \"death\": 140656.0, \"deathIncrease\": 391.0, \"positiveRate\": 0.104, \"state\": \"Non Tri-State\", \"sma7d\": 0.063}, {\"date\": \"2020-09-15T00:00:00\", \"totalTestResultsIncrease\": 617954.0, \"positiveIncrease\": 34107.0, \"death\": 141667.0, \"deathIncrease\": 1011.0, \"positiveRate\": 0.055, \"state\": \"Non Tri-State\", \"sma7d\": 0.064}, {\"date\": \"2020-09-16T00:00:00\", \"totalTestResultsIncrease\": 628255.0, \"positiveIncrease\": 38846.0, \"death\": 142851.0, \"deathIncrease\": 1184.0, \"positiveRate\": 0.062, \"state\": \"Non Tri-State\", \"sma7d\": 0.064}, {\"date\": \"2020-09-17T00:00:00\", \"totalTestResultsIncrease\": 705723.0, \"positiveIncrease\": 41873.0, \"death\": 143707.0, \"deathIncrease\": 856.0, \"positiveRate\": 0.059, \"state\": \"Non Tri-State\", \"sma7d\": 0.064}, {\"date\": \"2020-09-18T00:00:00\", \"totalTestResultsIncrease\": 855304.0, \"positiveIncrease\": 46068.0, \"death\": 144590.0, \"deathIncrease\": 883.0, \"positiveRate\": 0.054, \"state\": \"Non Tri-State\", \"sma7d\": 0.063}, {\"date\": \"2020-09-19T00:00:00\", \"totalTestResultsIncrease\": 955164.0, \"positiveIncrease\": 44092.0, \"death\": 145325.0, \"deathIncrease\": 735.0, \"positiveRate\": 0.046, \"state\": \"Non Tri-State\", \"sma7d\": 0.062}, {\"date\": \"2020-09-20T00:00:00\", \"totalTestResultsIncrease\": 744554.0, \"positiveIncrease\": 34980.0, \"death\": 145647.0, \"deathIncrease\": 322.0, \"positiveRate\": 0.047, \"state\": \"Non Tri-State\", \"sma7d\": 0.061}, {\"date\": \"2020-09-21T00:00:00\", \"totalTestResultsIncrease\": 620982.0, \"positiveIncrease\": 38010.0, \"death\": 145928.0, \"deathIncrease\": 281.0, \"positiveRate\": 0.061, \"state\": \"Non Tri-State\", \"sma7d\": 0.055}, {\"date\": \"2020-09-22T00:00:00\", \"totalTestResultsIncrease\": 629432.0, \"positiveIncrease\": 48123.0, \"death\": 146770.0, \"deathIncrease\": 842.0, \"positiveRate\": 0.076, \"state\": \"Non Tri-State\", \"sma7d\": 0.058}, {\"date\": \"2020-09-23T00:00:00\", \"totalTestResultsIncrease\": 817602.0, \"positiveIncrease\": 37339.0, \"death\": 147915.0, \"deathIncrease\": 1145.0, \"positiveRate\": 0.046, \"state\": \"Non Tri-State\", \"sma7d\": 0.056}, {\"date\": \"2020-09-24T00:00:00\", \"totalTestResultsIncrease\": 802768.0, \"positiveIncrease\": 42096.0, \"death\": 148823.0, \"deathIncrease\": 908.0, \"positiveRate\": 0.052, \"state\": \"Non Tri-State\", \"sma7d\": 0.055}]}}, {\"mode\": \"vega-lite\"});\n",
       "</script>"
      ],
      "text/plain": [
       "alt.LayerChart(...)"
      ]
     },
     "execution_count": 16,
     "metadata": {},
     "output_type": "execute_result"
    }
   ],
   "source": [
    "create_plot(non_tristate, 'positiveRate')"
   ]
  },
  {
   "cell_type": "code",
   "execution_count": 17,
   "metadata": {
    "execution": {
     "iopub.execute_input": "2020-09-25T22:33:31.616679Z",
     "iopub.status.busy": "2020-09-25T22:33:31.616145Z",
     "iopub.status.idle": "2020-09-25T22:33:31.699810Z",
     "shell.execute_reply": "2020-09-25T22:33:31.700234Z"
    },
    "papermill": {
     "duration": 0.104606,
     "end_time": "2020-09-25T22:33:31.700369",
     "exception": false,
     "start_time": "2020-09-25T22:33:31.595763",
     "status": "completed"
    },
    "tags": []
   },
   "outputs": [
    {
     "data": {
      "text/html": [
       "\n",
       "<div id=\"altair-viz-88fe3e1c017c4ddb9c8331e7f19f5a62\"></div>\n",
       "<script type=\"text/javascript\">\n",
       "  (function(spec, embedOpt){\n",
       "    let outputDiv = document.currentScript.previousElementSibling;\n",
       "    if (outputDiv.id !== \"altair-viz-88fe3e1c017c4ddb9c8331e7f19f5a62\") {\n",
       "      outputDiv = document.getElementById(\"altair-viz-88fe3e1c017c4ddb9c8331e7f19f5a62\");\n",
       "    }\n",
       "    const paths = {\n",
       "      \"vega\": \"https://cdn.jsdelivr.net/npm//vega@5?noext\",\n",
       "      \"vega-lib\": \"https://cdn.jsdelivr.net/npm//vega-lib?noext\",\n",
       "      \"vega-lite\": \"https://cdn.jsdelivr.net/npm//vega-lite@4.8.1?noext\",\n",
       "      \"vega-embed\": \"https://cdn.jsdelivr.net/npm//vega-embed@6?noext\",\n",
       "    };\n",
       "\n",
       "    function loadScript(lib) {\n",
       "      return new Promise(function(resolve, reject) {\n",
       "        var s = document.createElement('script');\n",
       "        s.src = paths[lib];\n",
       "        s.async = true;\n",
       "        s.onload = () => resolve(paths[lib]);\n",
       "        s.onerror = () => reject(`Error loading script: ${paths[lib]}`);\n",
       "        document.getElementsByTagName(\"head\")[0].appendChild(s);\n",
       "      });\n",
       "    }\n",
       "\n",
       "    function showError(err) {\n",
       "      outputDiv.innerHTML = `<div class=\"error\" style=\"color:red;\">${err}</div>`;\n",
       "      throw err;\n",
       "    }\n",
       "\n",
       "    function displayChart(vegaEmbed) {\n",
       "      vegaEmbed(outputDiv, spec, embedOpt)\n",
       "        .catch(err => showError(`Javascript Error: ${err.message}<br>This usually means there's a typo in your chart specification. See the javascript console for the full traceback.`));\n",
       "    }\n",
       "\n",
       "    if(typeof define === \"function\" && define.amd) {\n",
       "      requirejs.config({paths});\n",
       "      require([\"vega-embed\"], displayChart, err => showError(`Error loading script: ${err.message}`));\n",
       "    } else if (typeof vegaEmbed === \"function\") {\n",
       "      displayChart(vegaEmbed);\n",
       "    } else {\n",
       "      loadScript(\"vega\")\n",
       "        .then(() => loadScript(\"vega-lite\"))\n",
       "        .then(() => loadScript(\"vega-embed\"))\n",
       "        .catch(showError)\n",
       "        .then(() => displayChart(vegaEmbed));\n",
       "    }\n",
       "  })({\"config\": {\"view\": {\"continuousWidth\": 400, \"continuousHeight\": 300}}, \"layer\": [{\"layer\": [{\"mark\": {\"type\": \"point\", \"size\": 75}, \"encoding\": {\"tooltip\": [{\"type\": \"temporal\", \"field\": \"date\"}, {\"type\": \"quantitative\", \"field\": \"deathIncrease\"}, {\"type\": \"quantitative\", \"field\": \"sma7d\"}], \"x\": {\"type\": \"temporal\", \"field\": \"date\"}, \"y\": {\"type\": \"quantitative\", \"field\": \"deathIncrease\"}}, \"selection\": {\"selector018\": {\"type\": \"interval\", \"bind\": \"scales\", \"encodings\": [\"x\", \"y\"]}}}, {\"mark\": {\"type\": \"line\", \"color\": \"purple\"}, \"encoding\": {\"x\": {\"type\": \"temporal\", \"field\": \"date\"}, \"y\": {\"type\": \"quantitative\", \"field\": \"sma7d\"}}}]}, {\"mark\": {\"type\": \"rule\", \"color\": \"#aaa\"}, \"encoding\": {\"x\": {\"type\": \"temporal\", \"field\": \"date\"}}, \"transform\": [{\"filter\": {\"selection\": \"selector017\"}}]}, {\"mark\": \"circle\", \"encoding\": {\"opacity\": {\"condition\": {\"value\": 1, \"selection\": \"selector017\"}, \"value\": 0}, \"tooltip\": [{\"type\": \"temporal\", \"field\": \"date\"}, {\"type\": \"quantitative\", \"field\": \"deathIncrease\"}, {\"type\": \"quantitative\", \"field\": \"sma7d\"}], \"x\": {\"type\": \"temporal\", \"field\": \"date\"}, \"y\": {\"type\": \"quantitative\", \"field\": \"deathIncrease\"}}, \"selection\": {\"selector017\": {\"type\": \"single\", \"encodings\": [\"x\"], \"on\": \"mouseover\", \"nearest\": true, \"empty\": \"none\"}}}, {\"mark\": {\"type\": \"text\", \"align\": \"left\", \"dx\": 5, \"dy\": -5, \"stroke\": \"white\", \"strokeWidth\": 2}, \"encoding\": {\"text\": {\"type\": \"quantitative\", \"field\": \"deathIncrease\"}, \"tooltip\": [{\"type\": \"temporal\", \"field\": \"date\"}, {\"type\": \"quantitative\", \"field\": \"deathIncrease\"}, {\"type\": \"quantitative\", \"field\": \"sma7d\"}], \"x\": {\"type\": \"temporal\", \"field\": \"date\"}, \"y\": {\"type\": \"quantitative\", \"field\": \"deathIncrease\"}}, \"transform\": [{\"filter\": {\"selection\": \"selector017\"}}]}, {\"mark\": {\"type\": \"text\", \"align\": \"left\", \"dx\": 5, \"dy\": -5}, \"encoding\": {\"text\": {\"type\": \"quantitative\", \"field\": \"deathIncrease\"}, \"tooltip\": [{\"type\": \"temporal\", \"field\": \"date\"}, {\"type\": \"quantitative\", \"field\": \"deathIncrease\"}, {\"type\": \"quantitative\", \"field\": \"sma7d\"}], \"x\": {\"type\": \"temporal\", \"field\": \"date\"}, \"y\": {\"type\": \"quantitative\", \"field\": \"deathIncrease\"}}, \"transform\": [{\"filter\": {\"selection\": \"selector017\"}}]}], \"data\": {\"name\": \"data-a926c2049fb8df197d5a81694518f42f\"}, \"height\": 400, \"title\": \"Non Tri-State: deathIncrease\", \"width\": 500, \"$schema\": \"https://vega.github.io/schema/vega-lite/v4.8.1.json\", \"datasets\": {\"data-a926c2049fb8df197d5a81694518f42f\": [{\"date\": \"2020-08-01T00:00:00\", \"totalTestResultsIncrease\": 668813.0, \"positiveIncrease\": 59979.0, \"death\": 101210.0, \"deathIncrease\": 1164.0, \"positiveRate\": 0.09, \"state\": \"Non Tri-State\", \"sma7d\": 1115.714}, {\"date\": \"2020-08-02T00:00:00\", \"totalTestResultsIncrease\": 595619.0, \"positiveIncrease\": 45960.0, \"death\": 101696.0, \"deathIncrease\": 486.0, \"positiveRate\": 0.077, \"state\": \"Non Tri-State\", \"sma7d\": 1107.429}, {\"date\": \"2020-08-03T00:00:00\", \"totalTestResultsIncrease\": 660003.0, \"positiveIncrease\": 48652.0, \"death\": 102198.0, \"deathIncrease\": 502.0, \"positiveRate\": 0.074, \"state\": \"Non Tri-State\", \"sma7d\": 1032.571}, {\"date\": \"2020-08-04T00:00:00\", \"totalTestResultsIncrease\": 652616.0, \"positiveIncrease\": 50716.0, \"death\": 103439.0, \"deathIncrease\": 1241.0, \"positiveRate\": 0.078, \"state\": \"Non Tri-State\", \"sma7d\": 1054.714}, {\"date\": \"2020-08-05T00:00:00\", \"totalTestResultsIncrease\": 605874.0, \"positiveIncrease\": 51216.0, \"death\": 104774.0, \"deathIncrease\": 1335.0, \"positiveRate\": 0.085, \"state\": \"Non Tri-State\", \"sma7d\": 1036.0}, {\"date\": \"2020-08-06T00:00:00\", \"totalTestResultsIncrease\": 660649.0, \"positiveIncrease\": 53090.0, \"death\": 106012.0, \"deathIncrease\": 1238.0, \"positiveRate\": 0.08, \"state\": \"Non Tri-State\", \"sma7d\": 1037.286}, {\"date\": \"2020-08-07T00:00:00\", \"totalTestResultsIncrease\": 703276.0, \"positiveIncrease\": 60196.0, \"death\": 107325.0, \"deathIncrease\": 1313.0, \"positiveRate\": 0.086, \"state\": \"Non Tri-State\", \"sma7d\": 1039.857}, {\"date\": \"2020-08-08T00:00:00\", \"totalTestResultsIncrease\": 613845.0, \"positiveIncrease\": 52641.0, \"death\": 108400.0, \"deathIncrease\": 1075.0, \"positiveRate\": 0.086, \"state\": \"Non Tri-State\", \"sma7d\": 1027.143}, {\"date\": \"2020-08-09T00:00:00\", \"totalTestResultsIncrease\": 611280.0, \"positiveIncrease\": 49768.0, \"death\": 109004.0, \"deathIncrease\": 604.0, \"positiveRate\": 0.081, \"state\": \"Non Tri-State\", \"sma7d\": 1044.0}, {\"date\": \"2020-08-10T00:00:00\", \"totalTestResultsIncrease\": 638635.0, \"positiveIncrease\": 41108.0, \"death\": 109421.0, \"deathIncrease\": 417.0, \"positiveRate\": 0.064, \"state\": \"Non Tri-State\", \"sma7d\": 1031.857}, {\"date\": \"2020-08-11T00:00:00\", \"totalTestResultsIncrease\": 644451.0, \"positiveIncrease\": 54473.0, \"death\": 110728.0, \"deathIncrease\": 1307.0, \"positiveRate\": 0.085, \"state\": \"Non Tri-State\", \"sma7d\": 1041.286}, {\"date\": \"2020-08-12T00:00:00\", \"totalTestResultsIncrease\": 366018.0, \"positiveIncrease\": 54949.0, \"death\": 112223.0, \"deathIncrease\": 1495.0, \"positiveRate\": 0.15, \"state\": \"Non Tri-State\", \"sma7d\": 1064.143}, {\"date\": \"2020-08-13T00:00:00\", \"totalTestResultsIncrease\": 801571.0, \"positiveIncrease\": 50290.0, \"death\": 113368.0, \"deathIncrease\": 1145.0, \"positiveRate\": 0.063, \"state\": \"Non Tri-State\", \"sma7d\": 1050.857}, {\"date\": \"2020-08-14T00:00:00\", \"totalTestResultsIncrease\": 763525.0, \"positiveIncrease\": 54224.0, \"death\": 114567.0, \"deathIncrease\": 1199.0, \"positiveRate\": 0.071, \"state\": \"Non Tri-State\", \"sma7d\": 1034.571}, {\"date\": \"2020-08-15T00:00:00\", \"totalTestResultsIncrease\": 659409.0, \"positiveIncrease\": 55137.0, \"death\": 115767.0, \"deathIncrease\": 1200.0, \"positiveRate\": 0.084, \"state\": \"Non Tri-State\", \"sma7d\": 1052.429}, {\"date\": \"2020-08-16T00:00:00\", \"totalTestResultsIncrease\": 701562.0, \"positiveIncrease\": 41867.0, \"death\": 116378.0, \"deathIncrease\": 611.0, \"positiveRate\": 0.06, \"state\": \"Non Tri-State\", \"sma7d\": 1053.429}, {\"date\": \"2020-08-17T00:00:00\", \"totalTestResultsIncrease\": 563754.0, \"positiveIncrease\": 36790.0, \"death\": 116772.0, \"deathIncrease\": 394.0, \"positiveRate\": 0.065, \"state\": \"Non Tri-State\", \"sma7d\": 1050.143}, {\"date\": \"2020-08-18T00:00:00\", \"totalTestResultsIncrease\": 574408.0, \"positiveIncrease\": 39821.0, \"death\": 117950.0, \"deathIncrease\": 1178.0, \"positiveRate\": 0.069, \"state\": \"Non Tri-State\", \"sma7d\": 1031.714}, {\"date\": \"2020-08-19T00:00:00\", \"totalTestResultsIncrease\": 588836.0, \"positiveIncrease\": 43936.0, \"death\": 119352.0, \"deathIncrease\": 1402.0, \"positiveRate\": 0.075, \"state\": \"Non Tri-State\", \"sma7d\": 1018.429}, {\"date\": \"2020-08-20T00:00:00\", \"totalTestResultsIncrease\": 605391.0, \"positiveIncrease\": 42939.0, \"death\": 120474.0, \"deathIncrease\": 1122.0, \"positiveRate\": 0.071, \"state\": \"Non Tri-State\", \"sma7d\": 1015.143}, {\"date\": \"2020-08-21T00:00:00\", \"totalTestResultsIncrease\": 648154.0, \"positiveIncrease\": 45475.0, \"death\": 121583.0, \"deathIncrease\": 1109.0, \"positiveRate\": 0.07, \"state\": \"Non Tri-State\", \"sma7d\": 1002.286}, {\"date\": \"2020-08-22T00:00:00\", \"totalTestResultsIncrease\": 666357.0, \"positiveIncrease\": 45164.0, \"death\": 122606.0, \"deathIncrease\": 1023.0, \"positiveRate\": 0.068, \"state\": \"Non Tri-State\", \"sma7d\": 977.0}, {\"date\": \"2020-08-23T00:00:00\", \"totalTestResultsIncrease\": 571023.0, \"positiveIncrease\": 36736.0, \"death\": 123169.0, \"deathIncrease\": 563.0, \"positiveRate\": 0.064, \"state\": \"Non Tri-State\", \"sma7d\": 970.143}, {\"date\": \"2020-08-24T00:00:00\", \"totalTestResultsIncrease\": 568280.0, \"positiveIncrease\": 33518.0, \"death\": 123502.0, \"deathIncrease\": 333.0, \"positiveRate\": 0.059, \"state\": \"Non Tri-State\", \"sma7d\": 961.429}, {\"date\": \"2020-08-25T00:00:00\", \"totalTestResultsIncrease\": 570676.0, \"positiveIncrease\": 35419.0, \"death\": 124640.0, \"deathIncrease\": 1138.0, \"positiveRate\": 0.062, \"state\": \"Non Tri-State\", \"sma7d\": 955.714}, {\"date\": \"2020-08-26T00:00:00\", \"totalTestResultsIncrease\": 570374.0, \"positiveIncrease\": 43022.0, \"death\": 125920.0, \"deathIncrease\": 1280.0, \"positiveRate\": 0.075, \"state\": \"Non Tri-State\", \"sma7d\": 938.286}, {\"date\": \"2020-08-27T00:00:00\", \"totalTestResultsIncrease\": 665471.0, \"positiveIncrease\": 42756.0, \"death\": 127036.0, \"deathIncrease\": 1116.0, \"positiveRate\": 0.064, \"state\": \"Non Tri-State\", \"sma7d\": 937.429}, {\"date\": \"2020-08-28T00:00:00\", \"totalTestResultsIncrease\": 706505.0, \"positiveIncrease\": 45409.0, \"death\": 128047.0, \"deathIncrease\": 1011.0, \"positiveRate\": 0.064, \"state\": \"Non Tri-State\", \"sma7d\": 923.429}, {\"date\": \"2020-08-29T00:00:00\", \"totalTestResultsIncrease\": 662996.0, \"positiveIncrease\": 43517.0, \"death\": 129052.0, \"deathIncrease\": 1005.0, \"positiveRate\": 0.066, \"state\": \"Non Tri-State\", \"sma7d\": 920.857}, {\"date\": \"2020-08-30T00:00:00\", \"totalTestResultsIncrease\": 645726.0, \"positiveIncrease\": 38512.0, \"death\": 129515.0, \"deathIncrease\": 463.0, \"positiveRate\": 0.06, \"state\": \"Non Tri-State\", \"sma7d\": 906.571}, {\"date\": \"2020-08-31T00:00:00\", \"totalTestResultsIncrease\": 571715.0, \"positiveIncrease\": 30017.0, \"death\": 129872.0, \"deathIncrease\": 357.0, \"positiveRate\": 0.053, \"state\": \"Non Tri-State\", \"sma7d\": 910.0}, {\"date\": \"2020-09-01T00:00:00\", \"totalTestResultsIncrease\": 635044.0, \"positiveIncrease\": 41222.0, \"death\": 130890.0, \"deathIncrease\": 1018.0, \"positiveRate\": 0.065, \"state\": \"Non Tri-State\", \"sma7d\": 892.857}, {\"date\": \"2020-09-02T00:00:00\", \"totalTestResultsIncrease\": 540597.0, \"positiveIncrease\": 29488.0, \"death\": 131905.0, \"deathIncrease\": 1015.0, \"positiveRate\": 0.055, \"state\": \"Non Tri-State\", \"sma7d\": 855.0}, {\"date\": \"2020-09-03T00:00:00\", \"totalTestResultsIncrease\": 667223.0, \"positiveIncrease\": 43346.0, \"death\": 132960.0, \"deathIncrease\": 1055.0, \"positiveRate\": 0.065, \"state\": \"Non Tri-State\", \"sma7d\": 846.286}, {\"date\": \"2020-09-04T00:00:00\", \"totalTestResultsIncrease\": 802161.0, \"positiveIncrease\": 50122.0, \"death\": 133946.0, \"deathIncrease\": 986.0, \"positiveRate\": 0.062, \"state\": \"Non Tri-State\", \"sma7d\": 842.714}, {\"date\": \"2020-09-05T00:00:00\", \"totalTestResultsIncrease\": 776474.0, \"positiveIncrease\": 43779.0, \"death\": 134855.0, \"deathIncrease\": 909.0, \"positiveRate\": 0.056, \"state\": \"Non Tri-State\", \"sma7d\": 829.0}, {\"date\": \"2020-09-06T00:00:00\", \"totalTestResultsIncrease\": 659463.0, \"positiveIncrease\": 32077.0, \"death\": 135291.0, \"deathIncrease\": 436.0, \"positiveRate\": 0.049, \"state\": \"Non Tri-State\", \"sma7d\": 825.143}, {\"date\": \"2020-09-07T00:00:00\", \"totalTestResultsIncrease\": 504185.0, \"positiveIncrease\": 27830.0, \"death\": 135512.0, \"deathIncrease\": 221.0, \"positiveRate\": 0.055, \"state\": \"Non Tri-State\", \"sma7d\": 805.714}, {\"date\": \"2020-09-08T00:00:00\", \"totalTestResultsIncrease\": 416771.0, \"positiveIncrease\": 20972.0, \"death\": 135853.0, \"deathIncrease\": 341.0, \"positiveRate\": 0.05, \"state\": \"Non Tri-State\", \"sma7d\": 709.0}, {\"date\": \"2020-09-09T00:00:00\", \"totalTestResultsIncrease\": 536587.0, \"positiveIncrease\": 29995.0, \"death\": 136926.0, \"deathIncrease\": 1073.0, \"positiveRate\": 0.056, \"state\": \"Non Tri-State\", \"sma7d\": 717.286}, {\"date\": \"2020-09-10T00:00:00\", \"totalTestResultsIncrease\": 574370.0, \"positiveIncrease\": 36178.0, \"death\": 138080.0, \"deathIncrease\": 1154.0, \"positiveRate\": 0.063, \"state\": \"Non Tri-State\", \"sma7d\": 731.429}, {\"date\": \"2020-09-11T00:00:00\", \"totalTestResultsIncrease\": 687980.0, \"positiveIncrease\": 43340.0, \"death\": 139082.0, \"deathIncrease\": 1002.0, \"positiveRate\": 0.063, \"state\": \"Non Tri-State\", \"sma7d\": 733.714}, {\"date\": \"2020-09-12T00:00:00\", \"totalTestResultsIncrease\": 799991.0, \"positiveIncrease\": 40789.0, \"death\": 139886.0, \"deathIncrease\": 804.0, \"positiveRate\": 0.051, \"state\": \"Non Tri-State\", \"sma7d\": 718.714}, {\"date\": \"2020-09-13T00:00:00\", \"totalTestResultsIncrease\": 628257.0, \"positiveIncrease\": 33431.0, \"death\": 140265.0, \"deathIncrease\": 379.0, \"positiveRate\": 0.053, \"state\": \"Non Tri-State\", \"sma7d\": 710.571}, {\"date\": \"2020-09-14T00:00:00\", \"totalTestResultsIncrease\": 312034.0, \"positiveIncrease\": 32378.0, \"death\": 140656.0, \"deathIncrease\": 391.0, \"positiveRate\": 0.104, \"state\": \"Non Tri-State\", \"sma7d\": 734.857}, {\"date\": \"2020-09-15T00:00:00\", \"totalTestResultsIncrease\": 617954.0, \"positiveIncrease\": 34107.0, \"death\": 141667.0, \"deathIncrease\": 1011.0, \"positiveRate\": 0.055, \"state\": \"Non Tri-State\", \"sma7d\": 830.571}, {\"date\": \"2020-09-16T00:00:00\", \"totalTestResultsIncrease\": 628255.0, \"positiveIncrease\": 38846.0, \"death\": 142851.0, \"deathIncrease\": 1184.0, \"positiveRate\": 0.062, \"state\": \"Non Tri-State\", \"sma7d\": 846.429}, {\"date\": \"2020-09-17T00:00:00\", \"totalTestResultsIncrease\": 705723.0, \"positiveIncrease\": 41873.0, \"death\": 143707.0, \"deathIncrease\": 856.0, \"positiveRate\": 0.059, \"state\": \"Non Tri-State\", \"sma7d\": 803.857}, {\"date\": \"2020-09-18T00:00:00\", \"totalTestResultsIncrease\": 855304.0, \"positiveIncrease\": 46068.0, \"death\": 144590.0, \"deathIncrease\": 883.0, \"positiveRate\": 0.054, \"state\": \"Non Tri-State\", \"sma7d\": 786.857}, {\"date\": \"2020-09-19T00:00:00\", \"totalTestResultsIncrease\": 955164.0, \"positiveIncrease\": 44092.0, \"death\": 145325.0, \"deathIncrease\": 735.0, \"positiveRate\": 0.046, \"state\": \"Non Tri-State\", \"sma7d\": 777.0}, {\"date\": \"2020-09-20T00:00:00\", \"totalTestResultsIncrease\": 744554.0, \"positiveIncrease\": 34980.0, \"death\": 145647.0, \"deathIncrease\": 322.0, \"positiveRate\": 0.047, \"state\": \"Non Tri-State\", \"sma7d\": 768.857}, {\"date\": \"2020-09-21T00:00:00\", \"totalTestResultsIncrease\": 620982.0, \"positiveIncrease\": 38010.0, \"death\": 145928.0, \"deathIncrease\": 281.0, \"positiveRate\": 0.061, \"state\": \"Non Tri-State\", \"sma7d\": 753.143}, {\"date\": \"2020-09-22T00:00:00\", \"totalTestResultsIncrease\": 629432.0, \"positiveIncrease\": 48123.0, \"death\": 146770.0, \"deathIncrease\": 842.0, \"positiveRate\": 0.076, \"state\": \"Non Tri-State\", \"sma7d\": 729.0}, {\"date\": \"2020-09-23T00:00:00\", \"totalTestResultsIncrease\": 817602.0, \"positiveIncrease\": 37339.0, \"death\": 147915.0, \"deathIncrease\": 1145.0, \"positiveRate\": 0.046, \"state\": \"Non Tri-State\", \"sma7d\": 723.429}, {\"date\": \"2020-09-24T00:00:00\", \"totalTestResultsIncrease\": 802768.0, \"positiveIncrease\": 42096.0, \"death\": 148823.0, \"deathIncrease\": 908.0, \"positiveRate\": 0.052, \"state\": \"Non Tri-State\", \"sma7d\": 730.857}]}}, {\"mode\": \"vega-lite\"});\n",
       "</script>"
      ],
      "text/plain": [
       "alt.LayerChart(...)"
      ]
     },
     "execution_count": 17,
     "metadata": {},
     "output_type": "execute_result"
    }
   ],
   "source": [
    "create_plot(non_tristate, 'deathIncrease')"
   ]
  }
 ],
 "metadata": {
  "kernelspec": {
   "display_name": "Python 3",
   "language": "python",
   "name": "python3"
  },
  "language_info": {
   "codemirror_mode": {
    "name": "ipython",
    "version": 3
   },
   "file_extension": ".py",
   "mimetype": "text/x-python",
   "name": "python",
   "nbconvert_exporter": "python",
   "pygments_lexer": "ipython3",
   "version": "3.8.5"
  },
  "papermill": {
   "duration": 4.448739,
   "end_time": "2020-09-25T22:33:31.924048",
   "environment_variables": {},
   "exception": null,
   "input_path": "2020-07-19-covid-plots.ipynb",
   "output_path": "2020-07-19-covid-plots.ipynb",
   "parameters": {},
   "start_time": "2020-09-25T22:33:27.475309",
   "version": "2.1.2"
  }
 },
 "nbformat": 4,
 "nbformat_minor": 4
}