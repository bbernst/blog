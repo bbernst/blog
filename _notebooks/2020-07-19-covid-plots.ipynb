{
 "cells": [
  {
   "cell_type": "markdown",
   "metadata": {},
   "source": [
    "# COVID-19 plots\n",
    "> Plots with daily updates\n",
    "\n",
    "- toc: true\n",
    "- branch: master\n",
    "- badges: true\n",
    "- comments: true\n",
    "- categories: [healthcare, covid]\n",
    "- image: images/covid_plots/covid_mask.png\n",
    "- hide: false\n",
    "- search_exclude: true"
   ]
  },
  {
   "cell_type": "code",
   "execution_count": 1,
   "metadata": {},
   "outputs": [],
   "source": [
    "#collapse\n",
    "from typing import Callable, Literal\n",
    "import warnings\n",
    "import pandas as pd\n",
    "import altair as alt"
   ]
  },
  {
   "cell_type": "markdown",
   "metadata": {},
   "source": [
    "# Data"
   ]
  },
  {
   "cell_type": "code",
   "execution_count": 2,
   "metadata": {},
   "outputs": [],
   "source": [
    "df = pd.read_csv('https://covidtracking.com/api/states/daily.csv')"
   ]
  },
  {
   "cell_type": "markdown",
   "metadata": {},
   "source": [
    "# Helpers"
   ]
  },
  {
   "cell_type": "code",
   "execution_count": 3,
   "metadata": {},
   "outputs": [],
   "source": [
    "#collapse\n",
    "def create_df(df: pd.DataFrame, \n",
    "              filter_f: Callable, \n",
    "              state_name: str, \n",
    "              period: int = 7*8):\n",
    "    out_df = (\n",
    "     df\n",
    "     .assign(date = lambda d: pd.to_datetime(d['date'], format='%Y%m%d'))\n",
    "     .loc[filter_f, :]\n",
    "     .groupby('date')\n",
    "     .apply(lambda d: pd.Series(dict(\n",
    "         totalTestResultsIncrease = d['totalTestResultsIncrease'].sum(),\n",
    "         positiveIncrease = d['positiveIncrease'].sum(),\n",
    "         death = d['death'].sum(),\n",
    "         deathIncrease = d['deathIncrease'].sum()\n",
    "     )))\n",
    "     .reset_index()\n",
    "     .assign(positiveRate = lambda d: round(d['positiveIncrease'] / d['totalTestResultsIncrease'], 3))\n",
    "     .loc[lambda d: d['date'] >= pd.to_datetime('today') - period * pd.Timedelta('1 days'), :]\n",
    "     .sort_values('date', ascending=False)\n",
    "     .assign(state = state_name)\n",
    "     .reset_index(drop=True)\n",
    "    )\n",
    "    \n",
    "    return out_df"
   ]
  },
  {
   "cell_type": "code",
   "execution_count": 4,
   "metadata": {},
   "outputs": [],
   "source": [
    "#collapse\n",
    "def create_plot(df: pd.DataFrame, \n",
    "                    column: Literal['totalTestResultsIncrease', \n",
    "                                    'positiveIncrease', \n",
    "                                    'death',\n",
    "                                    'deathIncrease', \n",
    "                                    'positiveRate']):\n",
    "    the_state = df['state'][0]\n",
    "    points = alt.Chart(df).mark_point(size=50).encode(\n",
    "        x='date:T',\n",
    "        y=f'{column}:Q',\n",
    "        tooltip=['date', column]\n",
    "    ).properties(\n",
    "        title=f'{the_state}: {column}',\n",
    "        width=800,\n",
    "        height=400\n",
    "    )\n",
    "    line = alt.Chart(df).mark_line(\n",
    "        color='purple',\n",
    "        size=2\n",
    "    ).transform_window(\n",
    "        rolling_mean=f'mean({column})',\n",
    "        frame=[0, 3]\n",
    "    ).encode(\n",
    "        x='date:T',\n",
    "        y='rolling_mean:Q'\n",
    "    )\n",
    "\n",
    "    return (points + line).interactive()"
   ]
  },
  {
   "cell_type": "markdown",
   "metadata": {},
   "source": [
    "# US"
   ]
  },
  {
   "cell_type": "code",
   "execution_count": 5,
   "metadata": {},
   "outputs": [],
   "source": [
    "us = create_df(df, lambda d: d.index > 0, 'US')"
   ]
  },
  {
   "cell_type": "code",
   "execution_count": 6,
   "metadata": {},
   "outputs": [
    {
     "data": {
      "text/html": [
       "\n",
       "<div id=\"altair-viz-9906958d52414d25b10dfd62f530e51e\"></div>\n",
       "<script type=\"text/javascript\">\n",
       "  (function(spec, embedOpt){\n",
       "    let outputDiv = document.currentScript.previousElementSibling;\n",
       "    if (outputDiv.id !== \"altair-viz-9906958d52414d25b10dfd62f530e51e\") {\n",
       "      outputDiv = document.getElementById(\"altair-viz-9906958d52414d25b10dfd62f530e51e\");\n",
       "    }\n",
       "    const paths = {\n",
       "      \"vega\": \"https://cdn.jsdelivr.net/npm//vega@5?noext\",\n",
       "      \"vega-lib\": \"https://cdn.jsdelivr.net/npm//vega-lib?noext\",\n",
       "      \"vega-lite\": \"https://cdn.jsdelivr.net/npm//vega-lite@4.8.1?noext\",\n",
       "      \"vega-embed\": \"https://cdn.jsdelivr.net/npm//vega-embed@6?noext\",\n",
       "    };\n",
       "\n",
       "    function loadScript(lib) {\n",
       "      return new Promise(function(resolve, reject) {\n",
       "        var s = document.createElement('script');\n",
       "        s.src = paths[lib];\n",
       "        s.async = true;\n",
       "        s.onload = () => resolve(paths[lib]);\n",
       "        s.onerror = () => reject(`Error loading script: ${paths[lib]}`);\n",
       "        document.getElementsByTagName(\"head\")[0].appendChild(s);\n",
       "      });\n",
       "    }\n",
       "\n",
       "    function showError(err) {\n",
       "      outputDiv.innerHTML = `<div class=\"error\" style=\"color:red;\">${err}</div>`;\n",
       "      throw err;\n",
       "    }\n",
       "\n",
       "    function displayChart(vegaEmbed) {\n",
       "      vegaEmbed(outputDiv, spec, embedOpt)\n",
       "        .catch(err => showError(`Javascript Error: ${err.message}<br>This usually means there's a typo in your chart specification. See the javascript console for the full traceback.`));\n",
       "    }\n",
       "\n",
       "    if(typeof define === \"function\" && define.amd) {\n",
       "      requirejs.config({paths});\n",
       "      require([\"vega-embed\"], displayChart, err => showError(`Error loading script: ${err.message}`));\n",
       "    } else if (typeof vegaEmbed === \"function\") {\n",
       "      displayChart(vegaEmbed);\n",
       "    } else {\n",
       "      loadScript(\"vega\")\n",
       "        .then(() => loadScript(\"vega-lite\"))\n",
       "        .then(() => loadScript(\"vega-embed\"))\n",
       "        .catch(showError)\n",
       "        .then(() => displayChart(vegaEmbed));\n",
       "    }\n",
       "  })({\"config\": {\"view\": {\"continuousWidth\": 400, \"continuousHeight\": 300}}, \"layer\": [{\"mark\": {\"type\": \"point\", \"size\": 50}, \"encoding\": {\"tooltip\": [{\"type\": \"temporal\", \"field\": \"date\"}, {\"type\": \"quantitative\", \"field\": \"positiveIncrease\"}], \"x\": {\"type\": \"temporal\", \"field\": \"date\"}, \"y\": {\"type\": \"quantitative\", \"field\": \"positiveIncrease\"}}, \"height\": 400, \"selection\": {\"selector001\": {\"type\": \"interval\", \"bind\": \"scales\", \"encodings\": [\"x\", \"y\"]}}, \"title\": \"US: positiveIncrease\", \"width\": 800}, {\"mark\": {\"type\": \"line\", \"color\": \"purple\", \"size\": 2}, \"encoding\": {\"x\": {\"type\": \"temporal\", \"field\": \"date\"}, \"y\": {\"type\": \"quantitative\", \"field\": \"rolling_mean\"}}, \"transform\": [{\"window\": [{\"op\": \"mean\", \"field\": \"positiveIncrease\", \"as\": \"rolling_mean\"}], \"frame\": [0, 3]}]}], \"data\": {\"name\": \"data-ad8317b16350058801f5fee3e14eb804\"}, \"$schema\": \"https://vega.github.io/schema/vega-lite/v4.8.1.json\", \"datasets\": {\"data-ad8317b16350058801f5fee3e14eb804\": [{\"date\": \"2020-07-19T00:00:00\", \"totalTestResultsIncrease\": 764176.0, \"positiveIncrease\": 63789.0, \"death\": 132900.0, \"deathIncrease\": 523.0, \"positiveRate\": 0.083, \"state\": \"US\"}, {\"date\": \"2020-07-18T00:00:00\", \"totalTestResultsIncrease\": 761771.0, \"positiveIncrease\": 65180.0, \"death\": 132395.0, \"deathIncrease\": 872.0, \"positiveRate\": 0.086, \"state\": \"US\"}, {\"date\": \"2020-07-17T00:00:00\", \"totalTestResultsIncrease\": 851788.0, \"positiveIncrease\": 77233.0, \"death\": 131523.0, \"deathIncrease\": 951.0, \"positiveRate\": 0.091, \"state\": \"US\"}, {\"date\": \"2020-07-16T00:00:00\", \"totalTestResultsIncrease\": 824588.0, \"positiveIncrease\": 70953.0, \"death\": 130572.0, \"deathIncrease\": 974.0, \"positiveRate\": 0.086, \"state\": \"US\"}, {\"date\": \"2020-07-15T00:00:00\", \"totalTestResultsIncrease\": 762800.0, \"positiveIncrease\": 65382.0, \"death\": 129598.0, \"deathIncrease\": 858.0, \"positiveRate\": 0.086, \"state\": \"US\"}, {\"date\": \"2020-07-14T00:00:00\", \"totalTestResultsIncrease\": 760282.0, \"positiveIncrease\": 62879.0, \"death\": 128740.0, \"deathIncrease\": 736.0, \"positiveRate\": 0.083, \"state\": \"US\"}, {\"date\": \"2020-07-13T00:00:00\", \"totalTestResultsIncrease\": 722099.0, \"positiveIncrease\": 58465.0, \"death\": 128004.0, \"deathIncrease\": 327.0, \"positiveRate\": 0.081, \"state\": \"US\"}, {\"date\": \"2020-07-12T00:00:00\", \"totalTestResultsIncrease\": 727318.0, \"positiveIncrease\": 60978.0, \"death\": 127677.0, \"deathIncrease\": 476.0, \"positiveRate\": 0.084, \"state\": \"US\"}, {\"date\": \"2020-07-11T00:00:00\", \"totalTestResultsIncrease\": 635437.0, \"positiveIncrease\": 63007.0, \"death\": 127201.0, \"deathIncrease\": 757.0, \"positiveRate\": 0.099, \"state\": \"US\"}, {\"date\": \"2020-07-10T00:00:00\", \"totalTestResultsIncrease\": 823375.0, \"positiveIncrease\": 66645.0, \"death\": 126444.0, \"deathIncrease\": 854.0, \"positiveRate\": 0.081, \"state\": \"US\"}, {\"date\": \"2020-07-09T00:00:00\", \"totalTestResultsIncrease\": 698788.0, \"positiveIncrease\": 58836.0, \"death\": 125590.0, \"deathIncrease\": 867.0, \"positiveRate\": 0.084, \"state\": \"US\"}, {\"date\": \"2020-07-08T00:00:00\", \"totalTestResultsIncrease\": 628262.0, \"positiveIncrease\": 62147.0, \"death\": 124723.0, \"deathIncrease\": 897.0, \"positiveRate\": 0.099, \"state\": \"US\"}, {\"date\": \"2020-07-07T00:00:00\", \"totalTestResultsIncrease\": 633221.0, \"positiveIncrease\": 51766.0, \"death\": 123826.0, \"deathIncrease\": 922.0, \"positiveRate\": 0.082, \"state\": \"US\"}, {\"date\": \"2020-07-06T00:00:00\", \"totalTestResultsIncrease\": 519951.0, \"positiveIncrease\": 41600.0, \"death\": 122904.0, \"deathIncrease\": 242.0, \"positiveRate\": 0.08, \"state\": \"US\"}, {\"date\": \"2020-07-05T00:00:00\", \"totalTestResultsIncrease\": 656908.0, \"positiveIncrease\": 45789.0, \"death\": 122662.0, \"deathIncrease\": 209.0, \"positiveRate\": 0.07, \"state\": \"US\"}, {\"date\": \"2020-07-04T00:00:00\", \"totalTestResultsIncrease\": 642231.0, \"positiveIncrease\": 54734.0, \"death\": 122453.0, \"deathIncrease\": 306.0, \"positiveRate\": 0.085, \"state\": \"US\"}, {\"date\": \"2020-07-03T00:00:00\", \"totalTestResultsIncrease\": 721440.0, \"positiveIncrease\": 54223.0, \"death\": 122147.0, \"deathIncrease\": 597.0, \"positiveRate\": 0.075, \"state\": \"US\"}, {\"date\": \"2020-07-02T00:00:00\", \"totalTestResultsIncrease\": 663376.0, \"positiveIncrease\": 53826.0, \"death\": 121550.0, \"deathIncrease\": 697.0, \"positiveRate\": 0.081, \"state\": \"US\"}, {\"date\": \"2020-07-01T00:00:00\", \"totalTestResultsIncrease\": 633282.0, \"positiveIncrease\": 50674.0, \"death\": 120853.0, \"deathIncrease\": 701.0, \"positiveRate\": 0.08, \"state\": \"US\"}, {\"date\": \"2020-06-30T00:00:00\", \"totalTestResultsIncrease\": 633945.0, \"positiveIncrease\": 47462.0, \"death\": 120152.0, \"deathIncrease\": 596.0, \"positiveRate\": 0.075, \"state\": \"US\"}, {\"date\": \"2020-06-29T00:00:00\", \"totalTestResultsIncrease\": 631715.0, \"positiveIncrease\": 39175.0, \"death\": 119556.0, \"deathIncrease\": 330.0, \"positiveRate\": 0.062, \"state\": \"US\"}, {\"date\": \"2020-06-28T00:00:00\", \"totalTestResultsIncrease\": 586643.0, \"positiveIncrease\": 41857.0, \"death\": 119226.0, \"deathIncrease\": 271.0, \"positiveRate\": 0.071, \"state\": \"US\"}, {\"date\": \"2020-06-27T00:00:00\", \"totalTestResultsIncrease\": 602866.0, \"positiveIncrease\": 43783.0, \"death\": 118955.0, \"deathIncrease\": 509.0, \"positiveRate\": 0.073, \"state\": \"US\"}, {\"date\": \"2020-06-26T00:00:00\", \"totalTestResultsIncrease\": 601962.0, \"positiveIncrease\": 44421.0, \"death\": 118446.0, \"deathIncrease\": 636.0, \"positiveRate\": 0.074, \"state\": \"US\"}, {\"date\": \"2020-06-25T00:00:00\", \"totalTestResultsIncrease\": 635891.0, \"positiveIncrease\": 39072.0, \"death\": 117810.0, \"deathIncrease\": 2501.0, \"positiveRate\": 0.061, \"state\": \"US\"}, {\"date\": \"2020-06-24T00:00:00\", \"totalTestResultsIncrease\": 511135.0, \"positiveIncrease\": 38684.0, \"death\": 115309.0, \"deathIncrease\": 724.0, \"positiveRate\": 0.076, \"state\": \"US\"}, {\"date\": \"2020-06-23T00:00:00\", \"totalTestResultsIncrease\": 499595.0, \"positiveIncrease\": 33021.0, \"death\": 114585.0, \"deathIncrease\": 708.0, \"positiveRate\": 0.066, \"state\": \"US\"}, {\"date\": \"2020-06-22T00:00:00\", \"totalTestResultsIncrease\": 462378.0, \"positiveIncrease\": 27017.0, \"death\": 113877.0, \"deathIncrease\": 283.0, \"positiveRate\": 0.058, \"state\": \"US\"}, {\"date\": \"2020-06-21T00:00:00\", \"totalTestResultsIncrease\": 512828.0, \"positiveIncrease\": 27284.0, \"death\": 113594.0, \"deathIncrease\": 292.0, \"positiveRate\": 0.053, \"state\": \"US\"}, {\"date\": \"2020-06-20T00:00:00\", \"totalTestResultsIncrease\": 567193.0, \"positiveIncrease\": 31994.0, \"death\": 113302.0, \"deathIncrease\": 628.0, \"positiveRate\": 0.056, \"state\": \"US\"}, {\"date\": \"2020-06-19T00:00:00\", \"totalTestResultsIncrease\": 569490.0, \"positiveIncrease\": 31046.0, \"death\": 112674.0, \"deathIncrease\": 655.0, \"positiveRate\": 0.055, \"state\": \"US\"}, {\"date\": \"2020-06-18T00:00:00\", \"totalTestResultsIncrease\": 513906.0, \"positiveIncrease\": 27527.0, \"death\": 112019.0, \"deathIncrease\": 704.0, \"positiveRate\": 0.054, \"state\": \"US\"}, {\"date\": \"2020-06-17T00:00:00\", \"totalTestResultsIncrease\": 487157.0, \"positiveIncrease\": 23873.0, \"death\": 111315.0, \"deathIncrease\": 767.0, \"positiveRate\": 0.049, \"state\": \"US\"}, {\"date\": \"2020-06-16T00:00:00\", \"totalTestResultsIncrease\": 463137.0, \"positiveIncrease\": 23435.0, \"death\": 110548.0, \"deathIncrease\": 729.0, \"positiveRate\": 0.051, \"state\": \"US\"}, {\"date\": \"2020-06-15T00:00:00\", \"totalTestResultsIncrease\": 435160.0, \"positiveIncrease\": 18510.0, \"death\": 109819.0, \"deathIncrease\": 380.0, \"positiveRate\": 0.043, \"state\": \"US\"}, {\"date\": \"2020-06-14T00:00:00\", \"totalTestResultsIncrease\": 482888.0, \"positiveIncrease\": 21373.0, \"death\": 109439.0, \"deathIncrease\": 355.0, \"positiveRate\": 0.044, \"state\": \"US\"}, {\"date\": \"2020-06-13T00:00:00\", \"totalTestResultsIncrease\": 505393.0, \"positiveIncrease\": 25341.0, \"death\": 109084.0, \"deathIncrease\": 691.0, \"positiveRate\": 0.05, \"state\": \"US\"}, {\"date\": \"2020-06-12T00:00:00\", \"totalTestResultsIncrease\": 617370.0, \"positiveIncrease\": 23477.0, \"death\": 108393.0, \"deathIncrease\": 772.0, \"positiveRate\": 0.038, \"state\": \"US\"}, {\"date\": \"2020-06-11T00:00:00\", \"totalTestResultsIncrease\": 456423.0, \"positiveIncrease\": 22032.0, \"death\": 107621.0, \"deathIncrease\": 898.0, \"positiveRate\": 0.048, \"state\": \"US\"}, {\"date\": \"2020-06-10T00:00:00\", \"totalTestResultsIncrease\": 428279.0, \"positiveIncrease\": 20803.0, \"death\": 106723.0, \"deathIncrease\": 885.0, \"positiveRate\": 0.049, \"state\": \"US\"}, {\"date\": \"2020-06-09T00:00:00\", \"totalTestResultsIncrease\": 419977.0, \"positiveIncrease\": 17175.0, \"death\": 105838.0, \"deathIncrease\": 898.0, \"positiveRate\": 0.041, \"state\": \"US\"}, {\"date\": \"2020-06-08T00:00:00\", \"totalTestResultsIncrease\": 396191.0, \"positiveIncrease\": 17012.0, \"death\": 104940.0, \"deathIncrease\": 660.0, \"positiveRate\": 0.043, \"state\": \"US\"}, {\"date\": \"2020-06-07T00:00:00\", \"totalTestResultsIncrease\": 447150.0, \"positiveIncrease\": 18823.0, \"death\": 104280.0, \"deathIncrease\": 446.0, \"positiveRate\": 0.042, \"state\": \"US\"}, {\"date\": \"2020-06-06T00:00:00\", \"totalTestResultsIncrease\": 512371.0, \"positiveIncrease\": 23106.0, \"death\": 103834.0, \"deathIncrease\": 727.0, \"positiveRate\": 0.045, \"state\": \"US\"}, {\"date\": \"2020-06-05T00:00:00\", \"totalTestResultsIncrease\": 506275.0, \"positiveIncrease\": 23352.0, \"death\": 103107.0, \"deathIncrease\": 823.0, \"positiveRate\": 0.046, \"state\": \"US\"}, {\"date\": \"2020-06-04T00:00:00\", \"totalTestResultsIncrease\": 460984.0, \"positiveIncrease\": 20839.0, \"death\": 102284.0, \"deathIncrease\": 888.0, \"positiveRate\": 0.045, \"state\": \"US\"}, {\"date\": \"2020-06-03T00:00:00\", \"totalTestResultsIncrease\": 466714.0, \"positiveIncrease\": 20312.0, \"death\": 101396.0, \"deathIncrease\": 991.0, \"positiveRate\": 0.044, \"state\": \"US\"}, {\"date\": \"2020-06-02T00:00:00\", \"totalTestResultsIncrease\": 418646.0, \"positiveIncrease\": 19982.0, \"death\": 100405.0, \"deathIncrease\": 959.0, \"positiveRate\": 0.048, \"state\": \"US\"}, {\"date\": \"2020-06-01T00:00:00\", \"totalTestResultsIncrease\": 412327.0, \"positiveIncrease\": 20415.0, \"death\": 99446.0, \"deathIncrease\": 665.0, \"positiveRate\": 0.05, \"state\": \"US\"}, {\"date\": \"2020-05-31T00:00:00\", \"totalTestResultsIncrease\": 396171.0, \"positiveIncrease\": 21639.0, \"death\": 98781.0, \"deathIncrease\": 649.0, \"positiveRate\": 0.055, \"state\": \"US\"}, {\"date\": \"2020-05-30T00:00:00\", \"totalTestResultsIncrease\": 425754.0, \"positiveIncrease\": 23762.0, \"death\": 98132.0, \"deathIncrease\": 929.0, \"positiveRate\": 0.056, \"state\": \"US\"}, {\"date\": \"2020-05-29T00:00:00\", \"totalTestResultsIncrease\": 487229.0, \"positiveIncrease\": 23522.0, \"death\": 97203.0, \"deathIncrease\": 1179.0, \"positiveRate\": 0.048, \"state\": \"US\"}, {\"date\": \"2020-05-28T00:00:00\", \"totalTestResultsIncrease\": 434470.0, \"positiveIncrease\": 22601.0, \"death\": 96024.0, \"deathIncrease\": 1226.0, \"positiveRate\": 0.052, \"state\": \"US\"}, {\"date\": \"2020-05-27T00:00:00\", \"totalTestResultsIncrease\": 308433.0, \"positiveIncrease\": 19385.0, \"death\": 94798.0, \"deathIncrease\": 1318.0, \"positiveRate\": 0.063, \"state\": \"US\"}, {\"date\": \"2020-05-26T00:00:00\", \"totalTestResultsIncrease\": 305932.0, \"positiveIncrease\": 16629.0, \"death\": 93480.0, \"deathIncrease\": 640.0, \"positiveRate\": 0.054, \"state\": \"US\"}, {\"date\": \"2020-05-25T00:00:00\", \"totalTestResultsIncrease\": 422588.0, \"positiveIncrease\": 18798.0, \"death\": 92840.0, \"deathIncrease\": 555.0, \"positiveRate\": 0.044, \"state\": \"US\"}]}}, {\"mode\": \"vega-lite\"});\n",
       "</script>"
      ],
      "text/plain": [
       "alt.LayerChart(...)"
      ]
     },
     "execution_count": 6,
     "metadata": {},
     "output_type": "execute_result"
    }
   ],
   "source": [
    "create_plot(us, 'positiveIncrease')"
   ]
  },
  {
   "cell_type": "code",
   "execution_count": 7,
   "metadata": {},
   "outputs": [
    {
     "data": {
      "text/html": [
       "\n",
       "<div id=\"altair-viz-cc7c595eb4604178b527b129de0dd40b\"></div>\n",
       "<script type=\"text/javascript\">\n",
       "  (function(spec, embedOpt){\n",
       "    let outputDiv = document.currentScript.previousElementSibling;\n",
       "    if (outputDiv.id !== \"altair-viz-cc7c595eb4604178b527b129de0dd40b\") {\n",
       "      outputDiv = document.getElementById(\"altair-viz-cc7c595eb4604178b527b129de0dd40b\");\n",
       "    }\n",
       "    const paths = {\n",
       "      \"vega\": \"https://cdn.jsdelivr.net/npm//vega@5?noext\",\n",
       "      \"vega-lib\": \"https://cdn.jsdelivr.net/npm//vega-lib?noext\",\n",
       "      \"vega-lite\": \"https://cdn.jsdelivr.net/npm//vega-lite@4.8.1?noext\",\n",
       "      \"vega-embed\": \"https://cdn.jsdelivr.net/npm//vega-embed@6?noext\",\n",
       "    };\n",
       "\n",
       "    function loadScript(lib) {\n",
       "      return new Promise(function(resolve, reject) {\n",
       "        var s = document.createElement('script');\n",
       "        s.src = paths[lib];\n",
       "        s.async = true;\n",
       "        s.onload = () => resolve(paths[lib]);\n",
       "        s.onerror = () => reject(`Error loading script: ${paths[lib]}`);\n",
       "        document.getElementsByTagName(\"head\")[0].appendChild(s);\n",
       "      });\n",
       "    }\n",
       "\n",
       "    function showError(err) {\n",
       "      outputDiv.innerHTML = `<div class=\"error\" style=\"color:red;\">${err}</div>`;\n",
       "      throw err;\n",
       "    }\n",
       "\n",
       "    function displayChart(vegaEmbed) {\n",
       "      vegaEmbed(outputDiv, spec, embedOpt)\n",
       "        .catch(err => showError(`Javascript Error: ${err.message}<br>This usually means there's a typo in your chart specification. See the javascript console for the full traceback.`));\n",
       "    }\n",
       "\n",
       "    if(typeof define === \"function\" && define.amd) {\n",
       "      requirejs.config({paths});\n",
       "      require([\"vega-embed\"], displayChart, err => showError(`Error loading script: ${err.message}`));\n",
       "    } else if (typeof vegaEmbed === \"function\") {\n",
       "      displayChart(vegaEmbed);\n",
       "    } else {\n",
       "      loadScript(\"vega\")\n",
       "        .then(() => loadScript(\"vega-lite\"))\n",
       "        .then(() => loadScript(\"vega-embed\"))\n",
       "        .catch(showError)\n",
       "        .then(() => displayChart(vegaEmbed));\n",
       "    }\n",
       "  })({\"config\": {\"view\": {\"continuousWidth\": 400, \"continuousHeight\": 300}}, \"layer\": [{\"mark\": {\"type\": \"point\", \"size\": 50}, \"encoding\": {\"tooltip\": [{\"type\": \"temporal\", \"field\": \"date\"}, {\"type\": \"quantitative\", \"field\": \"positiveRate\"}], \"x\": {\"type\": \"temporal\", \"field\": \"date\"}, \"y\": {\"type\": \"quantitative\", \"field\": \"positiveRate\"}}, \"height\": 400, \"selection\": {\"selector002\": {\"type\": \"interval\", \"bind\": \"scales\", \"encodings\": [\"x\", \"y\"]}}, \"title\": \"US: positiveRate\", \"width\": 800}, {\"mark\": {\"type\": \"line\", \"color\": \"purple\", \"size\": 2}, \"encoding\": {\"x\": {\"type\": \"temporal\", \"field\": \"date\"}, \"y\": {\"type\": \"quantitative\", \"field\": \"rolling_mean\"}}, \"transform\": [{\"window\": [{\"op\": \"mean\", \"field\": \"positiveRate\", \"as\": \"rolling_mean\"}], \"frame\": [0, 3]}]}], \"data\": {\"name\": \"data-ad8317b16350058801f5fee3e14eb804\"}, \"$schema\": \"https://vega.github.io/schema/vega-lite/v4.8.1.json\", \"datasets\": {\"data-ad8317b16350058801f5fee3e14eb804\": [{\"date\": \"2020-07-19T00:00:00\", \"totalTestResultsIncrease\": 764176.0, \"positiveIncrease\": 63789.0, \"death\": 132900.0, \"deathIncrease\": 523.0, \"positiveRate\": 0.083, \"state\": \"US\"}, {\"date\": \"2020-07-18T00:00:00\", \"totalTestResultsIncrease\": 761771.0, \"positiveIncrease\": 65180.0, \"death\": 132395.0, \"deathIncrease\": 872.0, \"positiveRate\": 0.086, \"state\": \"US\"}, {\"date\": \"2020-07-17T00:00:00\", \"totalTestResultsIncrease\": 851788.0, \"positiveIncrease\": 77233.0, \"death\": 131523.0, \"deathIncrease\": 951.0, \"positiveRate\": 0.091, \"state\": \"US\"}, {\"date\": \"2020-07-16T00:00:00\", \"totalTestResultsIncrease\": 824588.0, \"positiveIncrease\": 70953.0, \"death\": 130572.0, \"deathIncrease\": 974.0, \"positiveRate\": 0.086, \"state\": \"US\"}, {\"date\": \"2020-07-15T00:00:00\", \"totalTestResultsIncrease\": 762800.0, \"positiveIncrease\": 65382.0, \"death\": 129598.0, \"deathIncrease\": 858.0, \"positiveRate\": 0.086, \"state\": \"US\"}, {\"date\": \"2020-07-14T00:00:00\", \"totalTestResultsIncrease\": 760282.0, \"positiveIncrease\": 62879.0, \"death\": 128740.0, \"deathIncrease\": 736.0, \"positiveRate\": 0.083, \"state\": \"US\"}, {\"date\": \"2020-07-13T00:00:00\", \"totalTestResultsIncrease\": 722099.0, \"positiveIncrease\": 58465.0, \"death\": 128004.0, \"deathIncrease\": 327.0, \"positiveRate\": 0.081, \"state\": \"US\"}, {\"date\": \"2020-07-12T00:00:00\", \"totalTestResultsIncrease\": 727318.0, \"positiveIncrease\": 60978.0, \"death\": 127677.0, \"deathIncrease\": 476.0, \"positiveRate\": 0.084, \"state\": \"US\"}, {\"date\": \"2020-07-11T00:00:00\", \"totalTestResultsIncrease\": 635437.0, \"positiveIncrease\": 63007.0, \"death\": 127201.0, \"deathIncrease\": 757.0, \"positiveRate\": 0.099, \"state\": \"US\"}, {\"date\": \"2020-07-10T00:00:00\", \"totalTestResultsIncrease\": 823375.0, \"positiveIncrease\": 66645.0, \"death\": 126444.0, \"deathIncrease\": 854.0, \"positiveRate\": 0.081, \"state\": \"US\"}, {\"date\": \"2020-07-09T00:00:00\", \"totalTestResultsIncrease\": 698788.0, \"positiveIncrease\": 58836.0, \"death\": 125590.0, \"deathIncrease\": 867.0, \"positiveRate\": 0.084, \"state\": \"US\"}, {\"date\": \"2020-07-08T00:00:00\", \"totalTestResultsIncrease\": 628262.0, \"positiveIncrease\": 62147.0, \"death\": 124723.0, \"deathIncrease\": 897.0, \"positiveRate\": 0.099, \"state\": \"US\"}, {\"date\": \"2020-07-07T00:00:00\", \"totalTestResultsIncrease\": 633221.0, \"positiveIncrease\": 51766.0, \"death\": 123826.0, \"deathIncrease\": 922.0, \"positiveRate\": 0.082, \"state\": \"US\"}, {\"date\": \"2020-07-06T00:00:00\", \"totalTestResultsIncrease\": 519951.0, \"positiveIncrease\": 41600.0, \"death\": 122904.0, \"deathIncrease\": 242.0, \"positiveRate\": 0.08, \"state\": \"US\"}, {\"date\": \"2020-07-05T00:00:00\", \"totalTestResultsIncrease\": 656908.0, \"positiveIncrease\": 45789.0, \"death\": 122662.0, \"deathIncrease\": 209.0, \"positiveRate\": 0.07, \"state\": \"US\"}, {\"date\": \"2020-07-04T00:00:00\", \"totalTestResultsIncrease\": 642231.0, \"positiveIncrease\": 54734.0, \"death\": 122453.0, \"deathIncrease\": 306.0, \"positiveRate\": 0.085, \"state\": \"US\"}, {\"date\": \"2020-07-03T00:00:00\", \"totalTestResultsIncrease\": 721440.0, \"positiveIncrease\": 54223.0, \"death\": 122147.0, \"deathIncrease\": 597.0, \"positiveRate\": 0.075, \"state\": \"US\"}, {\"date\": \"2020-07-02T00:00:00\", \"totalTestResultsIncrease\": 663376.0, \"positiveIncrease\": 53826.0, \"death\": 121550.0, \"deathIncrease\": 697.0, \"positiveRate\": 0.081, \"state\": \"US\"}, {\"date\": \"2020-07-01T00:00:00\", \"totalTestResultsIncrease\": 633282.0, \"positiveIncrease\": 50674.0, \"death\": 120853.0, \"deathIncrease\": 701.0, \"positiveRate\": 0.08, \"state\": \"US\"}, {\"date\": \"2020-06-30T00:00:00\", \"totalTestResultsIncrease\": 633945.0, \"positiveIncrease\": 47462.0, \"death\": 120152.0, \"deathIncrease\": 596.0, \"positiveRate\": 0.075, \"state\": \"US\"}, {\"date\": \"2020-06-29T00:00:00\", \"totalTestResultsIncrease\": 631715.0, \"positiveIncrease\": 39175.0, \"death\": 119556.0, \"deathIncrease\": 330.0, \"positiveRate\": 0.062, \"state\": \"US\"}, {\"date\": \"2020-06-28T00:00:00\", \"totalTestResultsIncrease\": 586643.0, \"positiveIncrease\": 41857.0, \"death\": 119226.0, \"deathIncrease\": 271.0, \"positiveRate\": 0.071, \"state\": \"US\"}, {\"date\": \"2020-06-27T00:00:00\", \"totalTestResultsIncrease\": 602866.0, \"positiveIncrease\": 43783.0, \"death\": 118955.0, \"deathIncrease\": 509.0, \"positiveRate\": 0.073, \"state\": \"US\"}, {\"date\": \"2020-06-26T00:00:00\", \"totalTestResultsIncrease\": 601962.0, \"positiveIncrease\": 44421.0, \"death\": 118446.0, \"deathIncrease\": 636.0, \"positiveRate\": 0.074, \"state\": \"US\"}, {\"date\": \"2020-06-25T00:00:00\", \"totalTestResultsIncrease\": 635891.0, \"positiveIncrease\": 39072.0, \"death\": 117810.0, \"deathIncrease\": 2501.0, \"positiveRate\": 0.061, \"state\": \"US\"}, {\"date\": \"2020-06-24T00:00:00\", \"totalTestResultsIncrease\": 511135.0, \"positiveIncrease\": 38684.0, \"death\": 115309.0, \"deathIncrease\": 724.0, \"positiveRate\": 0.076, \"state\": \"US\"}, {\"date\": \"2020-06-23T00:00:00\", \"totalTestResultsIncrease\": 499595.0, \"positiveIncrease\": 33021.0, \"death\": 114585.0, \"deathIncrease\": 708.0, \"positiveRate\": 0.066, \"state\": \"US\"}, {\"date\": \"2020-06-22T00:00:00\", \"totalTestResultsIncrease\": 462378.0, \"positiveIncrease\": 27017.0, \"death\": 113877.0, \"deathIncrease\": 283.0, \"positiveRate\": 0.058, \"state\": \"US\"}, {\"date\": \"2020-06-21T00:00:00\", \"totalTestResultsIncrease\": 512828.0, \"positiveIncrease\": 27284.0, \"death\": 113594.0, \"deathIncrease\": 292.0, \"positiveRate\": 0.053, \"state\": \"US\"}, {\"date\": \"2020-06-20T00:00:00\", \"totalTestResultsIncrease\": 567193.0, \"positiveIncrease\": 31994.0, \"death\": 113302.0, \"deathIncrease\": 628.0, \"positiveRate\": 0.056, \"state\": \"US\"}, {\"date\": \"2020-06-19T00:00:00\", \"totalTestResultsIncrease\": 569490.0, \"positiveIncrease\": 31046.0, \"death\": 112674.0, \"deathIncrease\": 655.0, \"positiveRate\": 0.055, \"state\": \"US\"}, {\"date\": \"2020-06-18T00:00:00\", \"totalTestResultsIncrease\": 513906.0, \"positiveIncrease\": 27527.0, \"death\": 112019.0, \"deathIncrease\": 704.0, \"positiveRate\": 0.054, \"state\": \"US\"}, {\"date\": \"2020-06-17T00:00:00\", \"totalTestResultsIncrease\": 487157.0, \"positiveIncrease\": 23873.0, \"death\": 111315.0, \"deathIncrease\": 767.0, \"positiveRate\": 0.049, \"state\": \"US\"}, {\"date\": \"2020-06-16T00:00:00\", \"totalTestResultsIncrease\": 463137.0, \"positiveIncrease\": 23435.0, \"death\": 110548.0, \"deathIncrease\": 729.0, \"positiveRate\": 0.051, \"state\": \"US\"}, {\"date\": \"2020-06-15T00:00:00\", \"totalTestResultsIncrease\": 435160.0, \"positiveIncrease\": 18510.0, \"death\": 109819.0, \"deathIncrease\": 380.0, \"positiveRate\": 0.043, \"state\": \"US\"}, {\"date\": \"2020-06-14T00:00:00\", \"totalTestResultsIncrease\": 482888.0, \"positiveIncrease\": 21373.0, \"death\": 109439.0, \"deathIncrease\": 355.0, \"positiveRate\": 0.044, \"state\": \"US\"}, {\"date\": \"2020-06-13T00:00:00\", \"totalTestResultsIncrease\": 505393.0, \"positiveIncrease\": 25341.0, \"death\": 109084.0, \"deathIncrease\": 691.0, \"positiveRate\": 0.05, \"state\": \"US\"}, {\"date\": \"2020-06-12T00:00:00\", \"totalTestResultsIncrease\": 617370.0, \"positiveIncrease\": 23477.0, \"death\": 108393.0, \"deathIncrease\": 772.0, \"positiveRate\": 0.038, \"state\": \"US\"}, {\"date\": \"2020-06-11T00:00:00\", \"totalTestResultsIncrease\": 456423.0, \"positiveIncrease\": 22032.0, \"death\": 107621.0, \"deathIncrease\": 898.0, \"positiveRate\": 0.048, \"state\": \"US\"}, {\"date\": \"2020-06-10T00:00:00\", \"totalTestResultsIncrease\": 428279.0, \"positiveIncrease\": 20803.0, \"death\": 106723.0, \"deathIncrease\": 885.0, \"positiveRate\": 0.049, \"state\": \"US\"}, {\"date\": \"2020-06-09T00:00:00\", \"totalTestResultsIncrease\": 419977.0, \"positiveIncrease\": 17175.0, \"death\": 105838.0, \"deathIncrease\": 898.0, \"positiveRate\": 0.041, \"state\": \"US\"}, {\"date\": \"2020-06-08T00:00:00\", \"totalTestResultsIncrease\": 396191.0, \"positiveIncrease\": 17012.0, \"death\": 104940.0, \"deathIncrease\": 660.0, \"positiveRate\": 0.043, \"state\": \"US\"}, {\"date\": \"2020-06-07T00:00:00\", \"totalTestResultsIncrease\": 447150.0, \"positiveIncrease\": 18823.0, \"death\": 104280.0, \"deathIncrease\": 446.0, \"positiveRate\": 0.042, \"state\": \"US\"}, {\"date\": \"2020-06-06T00:00:00\", \"totalTestResultsIncrease\": 512371.0, \"positiveIncrease\": 23106.0, \"death\": 103834.0, \"deathIncrease\": 727.0, \"positiveRate\": 0.045, \"state\": \"US\"}, {\"date\": \"2020-06-05T00:00:00\", \"totalTestResultsIncrease\": 506275.0, \"positiveIncrease\": 23352.0, \"death\": 103107.0, \"deathIncrease\": 823.0, \"positiveRate\": 0.046, \"state\": \"US\"}, {\"date\": \"2020-06-04T00:00:00\", \"totalTestResultsIncrease\": 460984.0, \"positiveIncrease\": 20839.0, \"death\": 102284.0, \"deathIncrease\": 888.0, \"positiveRate\": 0.045, \"state\": \"US\"}, {\"date\": \"2020-06-03T00:00:00\", \"totalTestResultsIncrease\": 466714.0, \"positiveIncrease\": 20312.0, \"death\": 101396.0, \"deathIncrease\": 991.0, \"positiveRate\": 0.044, \"state\": \"US\"}, {\"date\": \"2020-06-02T00:00:00\", \"totalTestResultsIncrease\": 418646.0, \"positiveIncrease\": 19982.0, \"death\": 100405.0, \"deathIncrease\": 959.0, \"positiveRate\": 0.048, \"state\": \"US\"}, {\"date\": \"2020-06-01T00:00:00\", \"totalTestResultsIncrease\": 412327.0, \"positiveIncrease\": 20415.0, \"death\": 99446.0, \"deathIncrease\": 665.0, \"positiveRate\": 0.05, \"state\": \"US\"}, {\"date\": \"2020-05-31T00:00:00\", \"totalTestResultsIncrease\": 396171.0, \"positiveIncrease\": 21639.0, \"death\": 98781.0, \"deathIncrease\": 649.0, \"positiveRate\": 0.055, \"state\": \"US\"}, {\"date\": \"2020-05-30T00:00:00\", \"totalTestResultsIncrease\": 425754.0, \"positiveIncrease\": 23762.0, \"death\": 98132.0, \"deathIncrease\": 929.0, \"positiveRate\": 0.056, \"state\": \"US\"}, {\"date\": \"2020-05-29T00:00:00\", \"totalTestResultsIncrease\": 487229.0, \"positiveIncrease\": 23522.0, \"death\": 97203.0, \"deathIncrease\": 1179.0, \"positiveRate\": 0.048, \"state\": \"US\"}, {\"date\": \"2020-05-28T00:00:00\", \"totalTestResultsIncrease\": 434470.0, \"positiveIncrease\": 22601.0, \"death\": 96024.0, \"deathIncrease\": 1226.0, \"positiveRate\": 0.052, \"state\": \"US\"}, {\"date\": \"2020-05-27T00:00:00\", \"totalTestResultsIncrease\": 308433.0, \"positiveIncrease\": 19385.0, \"death\": 94798.0, \"deathIncrease\": 1318.0, \"positiveRate\": 0.063, \"state\": \"US\"}, {\"date\": \"2020-05-26T00:00:00\", \"totalTestResultsIncrease\": 305932.0, \"positiveIncrease\": 16629.0, \"death\": 93480.0, \"deathIncrease\": 640.0, \"positiveRate\": 0.054, \"state\": \"US\"}, {\"date\": \"2020-05-25T00:00:00\", \"totalTestResultsIncrease\": 422588.0, \"positiveIncrease\": 18798.0, \"death\": 92840.0, \"deathIncrease\": 555.0, \"positiveRate\": 0.044, \"state\": \"US\"}]}}, {\"mode\": \"vega-lite\"});\n",
       "</script>"
      ],
      "text/plain": [
       "alt.LayerChart(...)"
      ]
     },
     "execution_count": 7,
     "metadata": {},
     "output_type": "execute_result"
    }
   ],
   "source": [
    "create_plot(us, 'positiveRate')"
   ]
  },
  {
   "cell_type": "code",
   "execution_count": 8,
   "metadata": {},
   "outputs": [
    {
     "data": {
      "text/html": [
       "\n",
       "<div id=\"altair-viz-b5e51577c49342a485d000187798b1a7\"></div>\n",
       "<script type=\"text/javascript\">\n",
       "  (function(spec, embedOpt){\n",
       "    let outputDiv = document.currentScript.previousElementSibling;\n",
       "    if (outputDiv.id !== \"altair-viz-b5e51577c49342a485d000187798b1a7\") {\n",
       "      outputDiv = document.getElementById(\"altair-viz-b5e51577c49342a485d000187798b1a7\");\n",
       "    }\n",
       "    const paths = {\n",
       "      \"vega\": \"https://cdn.jsdelivr.net/npm//vega@5?noext\",\n",
       "      \"vega-lib\": \"https://cdn.jsdelivr.net/npm//vega-lib?noext\",\n",
       "      \"vega-lite\": \"https://cdn.jsdelivr.net/npm//vega-lite@4.8.1?noext\",\n",
       "      \"vega-embed\": \"https://cdn.jsdelivr.net/npm//vega-embed@6?noext\",\n",
       "    };\n",
       "\n",
       "    function loadScript(lib) {\n",
       "      return new Promise(function(resolve, reject) {\n",
       "        var s = document.createElement('script');\n",
       "        s.src = paths[lib];\n",
       "        s.async = true;\n",
       "        s.onload = () => resolve(paths[lib]);\n",
       "        s.onerror = () => reject(`Error loading script: ${paths[lib]}`);\n",
       "        document.getElementsByTagName(\"head\")[0].appendChild(s);\n",
       "      });\n",
       "    }\n",
       "\n",
       "    function showError(err) {\n",
       "      outputDiv.innerHTML = `<div class=\"error\" style=\"color:red;\">${err}</div>`;\n",
       "      throw err;\n",
       "    }\n",
       "\n",
       "    function displayChart(vegaEmbed) {\n",
       "      vegaEmbed(outputDiv, spec, embedOpt)\n",
       "        .catch(err => showError(`Javascript Error: ${err.message}<br>This usually means there's a typo in your chart specification. See the javascript console for the full traceback.`));\n",
       "    }\n",
       "\n",
       "    if(typeof define === \"function\" && define.amd) {\n",
       "      requirejs.config({paths});\n",
       "      require([\"vega-embed\"], displayChart, err => showError(`Error loading script: ${err.message}`));\n",
       "    } else if (typeof vegaEmbed === \"function\") {\n",
       "      displayChart(vegaEmbed);\n",
       "    } else {\n",
       "      loadScript(\"vega\")\n",
       "        .then(() => loadScript(\"vega-lite\"))\n",
       "        .then(() => loadScript(\"vega-embed\"))\n",
       "        .catch(showError)\n",
       "        .then(() => displayChart(vegaEmbed));\n",
       "    }\n",
       "  })({\"config\": {\"view\": {\"continuousWidth\": 400, \"continuousHeight\": 300}}, \"layer\": [{\"mark\": {\"type\": \"point\", \"size\": 50}, \"encoding\": {\"tooltip\": [{\"type\": \"temporal\", \"field\": \"date\"}, {\"type\": \"quantitative\", \"field\": \"deathIncrease\"}], \"x\": {\"type\": \"temporal\", \"field\": \"date\"}, \"y\": {\"type\": \"quantitative\", \"field\": \"deathIncrease\"}}, \"height\": 400, \"selection\": {\"selector003\": {\"type\": \"interval\", \"bind\": \"scales\", \"encodings\": [\"x\", \"y\"]}}, \"title\": \"US: deathIncrease\", \"width\": 800}, {\"mark\": {\"type\": \"line\", \"color\": \"purple\", \"size\": 2}, \"encoding\": {\"x\": {\"type\": \"temporal\", \"field\": \"date\"}, \"y\": {\"type\": \"quantitative\", \"field\": \"rolling_mean\"}}, \"transform\": [{\"window\": [{\"op\": \"mean\", \"field\": \"deathIncrease\", \"as\": \"rolling_mean\"}], \"frame\": [0, 3]}]}], \"data\": {\"name\": \"data-ad8317b16350058801f5fee3e14eb804\"}, \"$schema\": \"https://vega.github.io/schema/vega-lite/v4.8.1.json\", \"datasets\": {\"data-ad8317b16350058801f5fee3e14eb804\": [{\"date\": \"2020-07-19T00:00:00\", \"totalTestResultsIncrease\": 764176.0, \"positiveIncrease\": 63789.0, \"death\": 132900.0, \"deathIncrease\": 523.0, \"positiveRate\": 0.083, \"state\": \"US\"}, {\"date\": \"2020-07-18T00:00:00\", \"totalTestResultsIncrease\": 761771.0, \"positiveIncrease\": 65180.0, \"death\": 132395.0, \"deathIncrease\": 872.0, \"positiveRate\": 0.086, \"state\": \"US\"}, {\"date\": \"2020-07-17T00:00:00\", \"totalTestResultsIncrease\": 851788.0, \"positiveIncrease\": 77233.0, \"death\": 131523.0, \"deathIncrease\": 951.0, \"positiveRate\": 0.091, \"state\": \"US\"}, {\"date\": \"2020-07-16T00:00:00\", \"totalTestResultsIncrease\": 824588.0, \"positiveIncrease\": 70953.0, \"death\": 130572.0, \"deathIncrease\": 974.0, \"positiveRate\": 0.086, \"state\": \"US\"}, {\"date\": \"2020-07-15T00:00:00\", \"totalTestResultsIncrease\": 762800.0, \"positiveIncrease\": 65382.0, \"death\": 129598.0, \"deathIncrease\": 858.0, \"positiveRate\": 0.086, \"state\": \"US\"}, {\"date\": \"2020-07-14T00:00:00\", \"totalTestResultsIncrease\": 760282.0, \"positiveIncrease\": 62879.0, \"death\": 128740.0, \"deathIncrease\": 736.0, \"positiveRate\": 0.083, \"state\": \"US\"}, {\"date\": \"2020-07-13T00:00:00\", \"totalTestResultsIncrease\": 722099.0, \"positiveIncrease\": 58465.0, \"death\": 128004.0, \"deathIncrease\": 327.0, \"positiveRate\": 0.081, \"state\": \"US\"}, {\"date\": \"2020-07-12T00:00:00\", \"totalTestResultsIncrease\": 727318.0, \"positiveIncrease\": 60978.0, \"death\": 127677.0, \"deathIncrease\": 476.0, \"positiveRate\": 0.084, \"state\": \"US\"}, {\"date\": \"2020-07-11T00:00:00\", \"totalTestResultsIncrease\": 635437.0, \"positiveIncrease\": 63007.0, \"death\": 127201.0, \"deathIncrease\": 757.0, \"positiveRate\": 0.099, \"state\": \"US\"}, {\"date\": \"2020-07-10T00:00:00\", \"totalTestResultsIncrease\": 823375.0, \"positiveIncrease\": 66645.0, \"death\": 126444.0, \"deathIncrease\": 854.0, \"positiveRate\": 0.081, \"state\": \"US\"}, {\"date\": \"2020-07-09T00:00:00\", \"totalTestResultsIncrease\": 698788.0, \"positiveIncrease\": 58836.0, \"death\": 125590.0, \"deathIncrease\": 867.0, \"positiveRate\": 0.084, \"state\": \"US\"}, {\"date\": \"2020-07-08T00:00:00\", \"totalTestResultsIncrease\": 628262.0, \"positiveIncrease\": 62147.0, \"death\": 124723.0, \"deathIncrease\": 897.0, \"positiveRate\": 0.099, \"state\": \"US\"}, {\"date\": \"2020-07-07T00:00:00\", \"totalTestResultsIncrease\": 633221.0, \"positiveIncrease\": 51766.0, \"death\": 123826.0, \"deathIncrease\": 922.0, \"positiveRate\": 0.082, \"state\": \"US\"}, {\"date\": \"2020-07-06T00:00:00\", \"totalTestResultsIncrease\": 519951.0, \"positiveIncrease\": 41600.0, \"death\": 122904.0, \"deathIncrease\": 242.0, \"positiveRate\": 0.08, \"state\": \"US\"}, {\"date\": \"2020-07-05T00:00:00\", \"totalTestResultsIncrease\": 656908.0, \"positiveIncrease\": 45789.0, \"death\": 122662.0, \"deathIncrease\": 209.0, \"positiveRate\": 0.07, \"state\": \"US\"}, {\"date\": \"2020-07-04T00:00:00\", \"totalTestResultsIncrease\": 642231.0, \"positiveIncrease\": 54734.0, \"death\": 122453.0, \"deathIncrease\": 306.0, \"positiveRate\": 0.085, \"state\": \"US\"}, {\"date\": \"2020-07-03T00:00:00\", \"totalTestResultsIncrease\": 721440.0, \"positiveIncrease\": 54223.0, \"death\": 122147.0, \"deathIncrease\": 597.0, \"positiveRate\": 0.075, \"state\": \"US\"}, {\"date\": \"2020-07-02T00:00:00\", \"totalTestResultsIncrease\": 663376.0, \"positiveIncrease\": 53826.0, \"death\": 121550.0, \"deathIncrease\": 697.0, \"positiveRate\": 0.081, \"state\": \"US\"}, {\"date\": \"2020-07-01T00:00:00\", \"totalTestResultsIncrease\": 633282.0, \"positiveIncrease\": 50674.0, \"death\": 120853.0, \"deathIncrease\": 701.0, \"positiveRate\": 0.08, \"state\": \"US\"}, {\"date\": \"2020-06-30T00:00:00\", \"totalTestResultsIncrease\": 633945.0, \"positiveIncrease\": 47462.0, \"death\": 120152.0, \"deathIncrease\": 596.0, \"positiveRate\": 0.075, \"state\": \"US\"}, {\"date\": \"2020-06-29T00:00:00\", \"totalTestResultsIncrease\": 631715.0, \"positiveIncrease\": 39175.0, \"death\": 119556.0, \"deathIncrease\": 330.0, \"positiveRate\": 0.062, \"state\": \"US\"}, {\"date\": \"2020-06-28T00:00:00\", \"totalTestResultsIncrease\": 586643.0, \"positiveIncrease\": 41857.0, \"death\": 119226.0, \"deathIncrease\": 271.0, \"positiveRate\": 0.071, \"state\": \"US\"}, {\"date\": \"2020-06-27T00:00:00\", \"totalTestResultsIncrease\": 602866.0, \"positiveIncrease\": 43783.0, \"death\": 118955.0, \"deathIncrease\": 509.0, \"positiveRate\": 0.073, \"state\": \"US\"}, {\"date\": \"2020-06-26T00:00:00\", \"totalTestResultsIncrease\": 601962.0, \"positiveIncrease\": 44421.0, \"death\": 118446.0, \"deathIncrease\": 636.0, \"positiveRate\": 0.074, \"state\": \"US\"}, {\"date\": \"2020-06-25T00:00:00\", \"totalTestResultsIncrease\": 635891.0, \"positiveIncrease\": 39072.0, \"death\": 117810.0, \"deathIncrease\": 2501.0, \"positiveRate\": 0.061, \"state\": \"US\"}, {\"date\": \"2020-06-24T00:00:00\", \"totalTestResultsIncrease\": 511135.0, \"positiveIncrease\": 38684.0, \"death\": 115309.0, \"deathIncrease\": 724.0, \"positiveRate\": 0.076, \"state\": \"US\"}, {\"date\": \"2020-06-23T00:00:00\", \"totalTestResultsIncrease\": 499595.0, \"positiveIncrease\": 33021.0, \"death\": 114585.0, \"deathIncrease\": 708.0, \"positiveRate\": 0.066, \"state\": \"US\"}, {\"date\": \"2020-06-22T00:00:00\", \"totalTestResultsIncrease\": 462378.0, \"positiveIncrease\": 27017.0, \"death\": 113877.0, \"deathIncrease\": 283.0, \"positiveRate\": 0.058, \"state\": \"US\"}, {\"date\": \"2020-06-21T00:00:00\", \"totalTestResultsIncrease\": 512828.0, \"positiveIncrease\": 27284.0, \"death\": 113594.0, \"deathIncrease\": 292.0, \"positiveRate\": 0.053, \"state\": \"US\"}, {\"date\": \"2020-06-20T00:00:00\", \"totalTestResultsIncrease\": 567193.0, \"positiveIncrease\": 31994.0, \"death\": 113302.0, \"deathIncrease\": 628.0, \"positiveRate\": 0.056, \"state\": \"US\"}, {\"date\": \"2020-06-19T00:00:00\", \"totalTestResultsIncrease\": 569490.0, \"positiveIncrease\": 31046.0, \"death\": 112674.0, \"deathIncrease\": 655.0, \"positiveRate\": 0.055, \"state\": \"US\"}, {\"date\": \"2020-06-18T00:00:00\", \"totalTestResultsIncrease\": 513906.0, \"positiveIncrease\": 27527.0, \"death\": 112019.0, \"deathIncrease\": 704.0, \"positiveRate\": 0.054, \"state\": \"US\"}, {\"date\": \"2020-06-17T00:00:00\", \"totalTestResultsIncrease\": 487157.0, \"positiveIncrease\": 23873.0, \"death\": 111315.0, \"deathIncrease\": 767.0, \"positiveRate\": 0.049, \"state\": \"US\"}, {\"date\": \"2020-06-16T00:00:00\", \"totalTestResultsIncrease\": 463137.0, \"positiveIncrease\": 23435.0, \"death\": 110548.0, \"deathIncrease\": 729.0, \"positiveRate\": 0.051, \"state\": \"US\"}, {\"date\": \"2020-06-15T00:00:00\", \"totalTestResultsIncrease\": 435160.0, \"positiveIncrease\": 18510.0, \"death\": 109819.0, \"deathIncrease\": 380.0, \"positiveRate\": 0.043, \"state\": \"US\"}, {\"date\": \"2020-06-14T00:00:00\", \"totalTestResultsIncrease\": 482888.0, \"positiveIncrease\": 21373.0, \"death\": 109439.0, \"deathIncrease\": 355.0, \"positiveRate\": 0.044, \"state\": \"US\"}, {\"date\": \"2020-06-13T00:00:00\", \"totalTestResultsIncrease\": 505393.0, \"positiveIncrease\": 25341.0, \"death\": 109084.0, \"deathIncrease\": 691.0, \"positiveRate\": 0.05, \"state\": \"US\"}, {\"date\": \"2020-06-12T00:00:00\", \"totalTestResultsIncrease\": 617370.0, \"positiveIncrease\": 23477.0, \"death\": 108393.0, \"deathIncrease\": 772.0, \"positiveRate\": 0.038, \"state\": \"US\"}, {\"date\": \"2020-06-11T00:00:00\", \"totalTestResultsIncrease\": 456423.0, \"positiveIncrease\": 22032.0, \"death\": 107621.0, \"deathIncrease\": 898.0, \"positiveRate\": 0.048, \"state\": \"US\"}, {\"date\": \"2020-06-10T00:00:00\", \"totalTestResultsIncrease\": 428279.0, \"positiveIncrease\": 20803.0, \"death\": 106723.0, \"deathIncrease\": 885.0, \"positiveRate\": 0.049, \"state\": \"US\"}, {\"date\": \"2020-06-09T00:00:00\", \"totalTestResultsIncrease\": 419977.0, \"positiveIncrease\": 17175.0, \"death\": 105838.0, \"deathIncrease\": 898.0, \"positiveRate\": 0.041, \"state\": \"US\"}, {\"date\": \"2020-06-08T00:00:00\", \"totalTestResultsIncrease\": 396191.0, \"positiveIncrease\": 17012.0, \"death\": 104940.0, \"deathIncrease\": 660.0, \"positiveRate\": 0.043, \"state\": \"US\"}, {\"date\": \"2020-06-07T00:00:00\", \"totalTestResultsIncrease\": 447150.0, \"positiveIncrease\": 18823.0, \"death\": 104280.0, \"deathIncrease\": 446.0, \"positiveRate\": 0.042, \"state\": \"US\"}, {\"date\": \"2020-06-06T00:00:00\", \"totalTestResultsIncrease\": 512371.0, \"positiveIncrease\": 23106.0, \"death\": 103834.0, \"deathIncrease\": 727.0, \"positiveRate\": 0.045, \"state\": \"US\"}, {\"date\": \"2020-06-05T00:00:00\", \"totalTestResultsIncrease\": 506275.0, \"positiveIncrease\": 23352.0, \"death\": 103107.0, \"deathIncrease\": 823.0, \"positiveRate\": 0.046, \"state\": \"US\"}, {\"date\": \"2020-06-04T00:00:00\", \"totalTestResultsIncrease\": 460984.0, \"positiveIncrease\": 20839.0, \"death\": 102284.0, \"deathIncrease\": 888.0, \"positiveRate\": 0.045, \"state\": \"US\"}, {\"date\": \"2020-06-03T00:00:00\", \"totalTestResultsIncrease\": 466714.0, \"positiveIncrease\": 20312.0, \"death\": 101396.0, \"deathIncrease\": 991.0, \"positiveRate\": 0.044, \"state\": \"US\"}, {\"date\": \"2020-06-02T00:00:00\", \"totalTestResultsIncrease\": 418646.0, \"positiveIncrease\": 19982.0, \"death\": 100405.0, \"deathIncrease\": 959.0, \"positiveRate\": 0.048, \"state\": \"US\"}, {\"date\": \"2020-06-01T00:00:00\", \"totalTestResultsIncrease\": 412327.0, \"positiveIncrease\": 20415.0, \"death\": 99446.0, \"deathIncrease\": 665.0, \"positiveRate\": 0.05, \"state\": \"US\"}, {\"date\": \"2020-05-31T00:00:00\", \"totalTestResultsIncrease\": 396171.0, \"positiveIncrease\": 21639.0, \"death\": 98781.0, \"deathIncrease\": 649.0, \"positiveRate\": 0.055, \"state\": \"US\"}, {\"date\": \"2020-05-30T00:00:00\", \"totalTestResultsIncrease\": 425754.0, \"positiveIncrease\": 23762.0, \"death\": 98132.0, \"deathIncrease\": 929.0, \"positiveRate\": 0.056, \"state\": \"US\"}, {\"date\": \"2020-05-29T00:00:00\", \"totalTestResultsIncrease\": 487229.0, \"positiveIncrease\": 23522.0, \"death\": 97203.0, \"deathIncrease\": 1179.0, \"positiveRate\": 0.048, \"state\": \"US\"}, {\"date\": \"2020-05-28T00:00:00\", \"totalTestResultsIncrease\": 434470.0, \"positiveIncrease\": 22601.0, \"death\": 96024.0, \"deathIncrease\": 1226.0, \"positiveRate\": 0.052, \"state\": \"US\"}, {\"date\": \"2020-05-27T00:00:00\", \"totalTestResultsIncrease\": 308433.0, \"positiveIncrease\": 19385.0, \"death\": 94798.0, \"deathIncrease\": 1318.0, \"positiveRate\": 0.063, \"state\": \"US\"}, {\"date\": \"2020-05-26T00:00:00\", \"totalTestResultsIncrease\": 305932.0, \"positiveIncrease\": 16629.0, \"death\": 93480.0, \"deathIncrease\": 640.0, \"positiveRate\": 0.054, \"state\": \"US\"}, {\"date\": \"2020-05-25T00:00:00\", \"totalTestResultsIncrease\": 422588.0, \"positiveIncrease\": 18798.0, \"death\": 92840.0, \"deathIncrease\": 555.0, \"positiveRate\": 0.044, \"state\": \"US\"}]}}, {\"mode\": \"vega-lite\"});\n",
       "</script>"
      ],
      "text/plain": [
       "alt.LayerChart(...)"
      ]
     },
     "execution_count": 8,
     "metadata": {},
     "output_type": "execute_result"
    }
   ],
   "source": [
    "create_plot(us, 'deathIncrease')"
   ]
  },
  {
   "cell_type": "markdown",
   "metadata": {},
   "source": [
    "# NY"
   ]
  },
  {
   "cell_type": "code",
   "execution_count": 9,
   "metadata": {},
   "outputs": [],
   "source": [
    "ny = create_df(df, (lambda d: d['state'] == 'NY'), 'New York')"
   ]
  },
  {
   "cell_type": "code",
   "execution_count": 10,
   "metadata": {},
   "outputs": [
    {
     "data": {
      "text/html": [
       "\n",
       "<div id=\"altair-viz-e5659c4c34d645e49135914573ef42b5\"></div>\n",
       "<script type=\"text/javascript\">\n",
       "  (function(spec, embedOpt){\n",
       "    let outputDiv = document.currentScript.previousElementSibling;\n",
       "    if (outputDiv.id !== \"altair-viz-e5659c4c34d645e49135914573ef42b5\") {\n",
       "      outputDiv = document.getElementById(\"altair-viz-e5659c4c34d645e49135914573ef42b5\");\n",
       "    }\n",
       "    const paths = {\n",
       "      \"vega\": \"https://cdn.jsdelivr.net/npm//vega@5?noext\",\n",
       "      \"vega-lib\": \"https://cdn.jsdelivr.net/npm//vega-lib?noext\",\n",
       "      \"vega-lite\": \"https://cdn.jsdelivr.net/npm//vega-lite@4.8.1?noext\",\n",
       "      \"vega-embed\": \"https://cdn.jsdelivr.net/npm//vega-embed@6?noext\",\n",
       "    };\n",
       "\n",
       "    function loadScript(lib) {\n",
       "      return new Promise(function(resolve, reject) {\n",
       "        var s = document.createElement('script');\n",
       "        s.src = paths[lib];\n",
       "        s.async = true;\n",
       "        s.onload = () => resolve(paths[lib]);\n",
       "        s.onerror = () => reject(`Error loading script: ${paths[lib]}`);\n",
       "        document.getElementsByTagName(\"head\")[0].appendChild(s);\n",
       "      });\n",
       "    }\n",
       "\n",
       "    function showError(err) {\n",
       "      outputDiv.innerHTML = `<div class=\"error\" style=\"color:red;\">${err}</div>`;\n",
       "      throw err;\n",
       "    }\n",
       "\n",
       "    function displayChart(vegaEmbed) {\n",
       "      vegaEmbed(outputDiv, spec, embedOpt)\n",
       "        .catch(err => showError(`Javascript Error: ${err.message}<br>This usually means there's a typo in your chart specification. See the javascript console for the full traceback.`));\n",
       "    }\n",
       "\n",
       "    if(typeof define === \"function\" && define.amd) {\n",
       "      requirejs.config({paths});\n",
       "      require([\"vega-embed\"], displayChart, err => showError(`Error loading script: ${err.message}`));\n",
       "    } else if (typeof vegaEmbed === \"function\") {\n",
       "      displayChart(vegaEmbed);\n",
       "    } else {\n",
       "      loadScript(\"vega\")\n",
       "        .then(() => loadScript(\"vega-lite\"))\n",
       "        .then(() => loadScript(\"vega-embed\"))\n",
       "        .catch(showError)\n",
       "        .then(() => displayChart(vegaEmbed));\n",
       "    }\n",
       "  })({\"config\": {\"view\": {\"continuousWidth\": 400, \"continuousHeight\": 300}}, \"layer\": [{\"mark\": {\"type\": \"point\", \"size\": 50}, \"encoding\": {\"tooltip\": [{\"type\": \"temporal\", \"field\": \"date\"}, {\"type\": \"quantitative\", \"field\": \"positiveIncrease\"}], \"x\": {\"type\": \"temporal\", \"field\": \"date\"}, \"y\": {\"type\": \"quantitative\", \"field\": \"positiveIncrease\"}}, \"height\": 400, \"selection\": {\"selector004\": {\"type\": \"interval\", \"bind\": \"scales\", \"encodings\": [\"x\", \"y\"]}}, \"title\": \"New York: positiveIncrease\", \"width\": 800}, {\"mark\": {\"type\": \"line\", \"color\": \"purple\", \"size\": 2}, \"encoding\": {\"x\": {\"type\": \"temporal\", \"field\": \"date\"}, \"y\": {\"type\": \"quantitative\", \"field\": \"rolling_mean\"}}, \"transform\": [{\"window\": [{\"op\": \"mean\", \"field\": \"positiveIncrease\", \"as\": \"rolling_mean\"}], \"frame\": [0, 3]}]}], \"data\": {\"name\": \"data-3603cff2c47dac149d7d56f31dc97857\"}, \"$schema\": \"https://vega.github.io/schema/vega-lite/v4.8.1.json\", \"datasets\": {\"data-3603cff2c47dac149d7d56f31dc97857\": [{\"date\": \"2020-07-19T00:00:00\", \"totalTestResultsIncrease\": 46204.0, \"positiveIncrease\": 502.0, \"death\": 25048.0, \"deathIncrease\": 13.0, \"positiveRate\": 0.011, \"state\": \"New York\"}, {\"date\": \"2020-07-18T00:00:00\", \"totalTestResultsIncrease\": 69817.0, \"positiveIncrease\": 754.0, \"death\": 25035.0, \"deathIncrease\": 11.0, \"positiveRate\": 0.011, \"state\": \"New York\"}, {\"date\": \"2020-07-17T00:00:00\", \"totalTestResultsIncrease\": 78239.0, \"positiveIncrease\": 776.0, \"death\": 25024.0, \"deathIncrease\": 10.0, \"positiveRate\": 0.01, \"state\": \"New York\"}, {\"date\": \"2020-07-16T00:00:00\", \"totalTestResultsIncrease\": 72685.0, \"positiveIncrease\": 769.0, \"death\": 25014.0, \"deathIncrease\": 11.0, \"positiveRate\": 0.011, \"state\": \"New York\"}, {\"date\": \"2020-07-15T00:00:00\", \"totalTestResultsIncrease\": 63598.0, \"positiveIncrease\": 831.0, \"death\": 25003.0, \"deathIncrease\": 9.0, \"positiveRate\": 0.013, \"state\": \"New York\"}, {\"date\": \"2020-07-14T00:00:00\", \"totalTestResultsIncrease\": 60045.0, \"positiveIncrease\": 912.0, \"death\": 24994.0, \"deathIncrease\": 5.0, \"positiveRate\": 0.015, \"state\": \"New York\"}, {\"date\": \"2020-07-13T00:00:00\", \"totalTestResultsIncrease\": 51687.0, \"positiveIncrease\": 557.0, \"death\": 24989.0, \"deathIncrease\": 10.0, \"positiveRate\": 0.011, \"state\": \"New York\"}, {\"date\": \"2020-07-12T00:00:00\", \"totalTestResultsIncrease\": 62418.0, \"positiveIncrease\": 677.0, \"death\": 24979.0, \"deathIncrease\": 5.0, \"positiveRate\": 0.011, \"state\": \"New York\"}, {\"date\": \"2020-07-11T00:00:00\", \"totalTestResultsIncrease\": 69203.0, \"positiveIncrease\": 730.0, \"death\": 24974.0, \"deathIncrease\": 6.0, \"positiveRate\": 0.011, \"state\": \"New York\"}, {\"date\": \"2020-07-10T00:00:00\", \"totalTestResultsIncrease\": 73558.0, \"positiveIncrease\": 786.0, \"death\": 24968.0, \"deathIncrease\": 9.0, \"positiveRate\": 0.011, \"state\": \"New York\"}, {\"date\": \"2020-07-09T00:00:00\", \"totalTestResultsIncrease\": 65564.0, \"positiveIncrease\": 584.0, \"death\": 24959.0, \"deathIncrease\": 15.0, \"positiveRate\": 0.009, \"state\": \"New York\"}, {\"date\": \"2020-07-08T00:00:00\", \"totalTestResultsIncrease\": 57585.0, \"positiveIncrease\": 692.0, \"death\": 24944.0, \"deathIncrease\": 20.0, \"positiveRate\": 0.012, \"state\": \"New York\"}, {\"date\": \"2020-07-07T00:00:00\", \"totalTestResultsIncrease\": 56736.0, \"positiveIncrease\": 588.0, \"death\": 24924.0, \"deathIncrease\": 11.0, \"positiveRate\": 0.01, \"state\": \"New York\"}, {\"date\": \"2020-07-06T00:00:00\", \"totalTestResultsIncrease\": 54328.0, \"positiveIncrease\": 518.0, \"death\": 24913.0, \"deathIncrease\": 9.0, \"positiveRate\": 0.01, \"state\": \"New York\"}, {\"date\": \"2020-07-05T00:00:00\", \"totalTestResultsIncrease\": 63415.0, \"positiveIncrease\": 533.0, \"death\": 24904.0, \"deathIncrease\": 8.0, \"positiveRate\": 0.008, \"state\": \"New York\"}, {\"date\": \"2020-07-04T00:00:00\", \"totalTestResultsIncrease\": 62403.0, \"positiveIncrease\": 726.0, \"death\": 24896.0, \"deathIncrease\": 11.0, \"positiveRate\": 0.012, \"state\": \"New York\"}, {\"date\": \"2020-07-03T00:00:00\", \"totalTestResultsIncrease\": 66392.0, \"positiveIncrease\": 918.0, \"death\": 24885.0, \"deathIncrease\": 8.0, \"positiveRate\": 0.014, \"state\": \"New York\"}, {\"date\": \"2020-07-02T00:00:00\", \"totalTestResultsIncrease\": 69945.0, \"positiveIncrease\": 875.0, \"death\": 24877.0, \"deathIncrease\": 11.0, \"positiveRate\": 0.013, \"state\": \"New York\"}, {\"date\": \"2020-07-01T00:00:00\", \"totalTestResultsIncrease\": 56710.0, \"positiveIncrease\": 625.0, \"death\": 24866.0, \"deathIncrease\": 11.0, \"positiveRate\": 0.011, \"state\": \"New York\"}, {\"date\": \"2020-06-30T00:00:00\", \"totalTestResultsIncrease\": 52025.0, \"positiveIncrease\": 524.0, \"death\": 24855.0, \"deathIncrease\": 13.0, \"positiveRate\": 0.01, \"state\": \"New York\"}, {\"date\": \"2020-06-29T00:00:00\", \"totalTestResultsIncrease\": 46428.0, \"positiveIncrease\": 391.0, \"death\": 24842.0, \"deathIncrease\": 7.0, \"positiveRate\": 0.008, \"state\": \"New York\"}, {\"date\": \"2020-06-28T00:00:00\", \"totalTestResultsIncrease\": 61906.0, \"positiveIncrease\": 616.0, \"death\": 24835.0, \"deathIncrease\": 5.0, \"positiveRate\": 0.01, \"state\": \"New York\"}, {\"date\": \"2020-06-27T00:00:00\", \"totalTestResultsIncrease\": 73262.0, \"positiveIncrease\": 703.0, \"death\": 24830.0, \"deathIncrease\": 16.0, \"positiveRate\": 0.01, \"state\": \"New York\"}, {\"date\": \"2020-06-26T00:00:00\", \"totalTestResultsIncrease\": 61723.0, \"positiveIncrease\": 805.0, \"death\": 24814.0, \"deathIncrease\": 14.0, \"positiveRate\": 0.013, \"state\": \"New York\"}, {\"date\": \"2020-06-25T00:00:00\", \"totalTestResultsIncrease\": 67642.0, \"positiveIncrease\": 749.0, \"death\": 24800.0, \"deathIncrease\": 18.0, \"positiveRate\": 0.011, \"state\": \"New York\"}, {\"date\": \"2020-06-24T00:00:00\", \"totalTestResultsIncrease\": 51144.0, \"positiveIncrease\": 581.0, \"death\": 24782.0, \"deathIncrease\": 16.0, \"positiveRate\": 0.011, \"state\": \"New York\"}, {\"date\": \"2020-06-23T00:00:00\", \"totalTestResultsIncrease\": 48709.0, \"positiveIncrease\": 597.0, \"death\": 24766.0, \"deathIncrease\": 27.0, \"positiveRate\": 0.012, \"state\": \"New York\"}, {\"date\": \"2020-06-22T00:00:00\", \"totalTestResultsIncrease\": 56780.0, \"positiveIncrease\": 552.0, \"death\": 24739.0, \"deathIncrease\": 14.0, \"positiveRate\": 0.01, \"state\": \"New York\"}, {\"date\": \"2020-06-21T00:00:00\", \"totalTestResultsIncrease\": 67526.0, \"positiveIncrease\": 664.0, \"death\": 24725.0, \"deathIncrease\": 15.0, \"positiveRate\": 0.01, \"state\": \"New York\"}, {\"date\": \"2020-06-20T00:00:00\", \"totalTestResultsIncrease\": 68830.0, \"positiveIncrease\": 716.0, \"death\": 24710.0, \"deathIncrease\": 24.0, \"positiveRate\": 0.01, \"state\": \"New York\"}, {\"date\": \"2020-06-19T00:00:00\", \"totalTestResultsIncrease\": 79303.0, \"positiveIncrease\": 796.0, \"death\": 24686.0, \"deathIncrease\": 25.0, \"positiveRate\": 0.01, \"state\": \"New York\"}, {\"date\": \"2020-06-18T00:00:00\", \"totalTestResultsIncrease\": 68541.0, \"positiveIncrease\": 618.0, \"death\": 24661.0, \"deathIncrease\": 32.0, \"positiveRate\": 0.009, \"state\": \"New York\"}, {\"date\": \"2020-06-17T00:00:00\", \"totalTestResultsIncrease\": 59341.0, \"positiveIncrease\": 567.0, \"death\": 24629.0, \"deathIncrease\": 21.0, \"positiveRate\": 0.01, \"state\": \"New York\"}, {\"date\": \"2020-06-16T00:00:00\", \"totalTestResultsIncrease\": 60568.0, \"positiveIncrease\": 631.0, \"death\": 24608.0, \"deathIncrease\": 29.0, \"positiveRate\": 0.01, \"state\": \"New York\"}, {\"date\": \"2020-06-15T00:00:00\", \"totalTestResultsIncrease\": 56611.0, \"positiveIncrease\": 620.0, \"death\": 24579.0, \"deathIncrease\": 28.0, \"positiveRate\": 0.011, \"state\": \"New York\"}, {\"date\": \"2020-06-14T00:00:00\", \"totalTestResultsIncrease\": 62359.0, \"positiveIncrease\": 694.0, \"death\": 24551.0, \"deathIncrease\": 24.0, \"positiveRate\": 0.011, \"state\": \"New York\"}, {\"date\": \"2020-06-13T00:00:00\", \"totalTestResultsIncrease\": 70840.0, \"positiveIncrease\": 916.0, \"death\": 24527.0, \"deathIncrease\": 32.0, \"positiveRate\": 0.013, \"state\": \"New York\"}, {\"date\": \"2020-06-12T00:00:00\", \"totalTestResultsIncrease\": 72395.0, \"positiveIncrease\": 822.0, \"death\": 24495.0, \"deathIncrease\": 53.0, \"positiveRate\": 0.011, \"state\": \"New York\"}, {\"date\": \"2020-06-11T00:00:00\", \"totalTestResultsIncrease\": 60839.0, \"positiveIncrease\": 736.0, \"death\": 24442.0, \"deathIncrease\": 38.0, \"positiveRate\": 0.012, \"state\": \"New York\"}, {\"date\": \"2020-06-10T00:00:00\", \"totalTestResultsIncrease\": 62297.0, \"positiveIncrease\": 674.0, \"death\": 24404.0, \"deathIncrease\": 56.0, \"positiveRate\": 0.011, \"state\": \"New York\"}, {\"date\": \"2020-06-09T00:00:00\", \"totalTestResultsIncrease\": 49973.0, \"positiveIncrease\": 683.0, \"death\": 24348.0, \"deathIncrease\": 49.0, \"positiveRate\": 0.014, \"state\": \"New York\"}, {\"date\": \"2020-06-08T00:00:00\", \"totalTestResultsIncrease\": 58054.0, \"positiveIncrease\": 702.0, \"death\": 24299.0, \"deathIncrease\": 40.0, \"positiveRate\": 0.012, \"state\": \"New York\"}, {\"date\": \"2020-06-07T00:00:00\", \"totalTestResultsIncrease\": 60435.0, \"positiveIncrease\": 781.0, \"death\": 24259.0, \"deathIncrease\": 47.0, \"positiveRate\": 0.013, \"state\": \"New York\"}, {\"date\": \"2020-06-06T00:00:00\", \"totalTestResultsIncrease\": 77895.0, \"positiveIncrease\": 1108.0, \"death\": 24212.0, \"deathIncrease\": 37.0, \"positiveRate\": 0.014, \"state\": \"New York\"}, {\"date\": \"2020-06-05T00:00:00\", \"totalTestResultsIncrease\": 66480.0, \"positiveIncrease\": 1075.0, \"death\": 24175.0, \"deathIncrease\": 42.0, \"positiveRate\": 0.016, \"state\": \"New York\"}, {\"date\": \"2020-06-04T00:00:00\", \"totalTestResultsIncrease\": 63559.0, \"positiveIncrease\": 1048.0, \"death\": 24133.0, \"deathIncrease\": 54.0, \"positiveRate\": 0.016, \"state\": \"New York\"}, {\"date\": \"2020-06-03T00:00:00\", \"totalTestResultsIncrease\": 61642.0, \"positiveIncrease\": 1045.0, \"death\": 24079.0, \"deathIncrease\": 56.0, \"positiveRate\": 0.017, \"state\": \"New York\"}, {\"date\": \"2020-06-02T00:00:00\", \"totalTestResultsIncrease\": 54054.0, \"positiveIncrease\": 1329.0, \"death\": 24023.0, \"deathIncrease\": 64.0, \"positiveRate\": 0.025, \"state\": \"New York\"}, {\"date\": \"2020-06-01T00:00:00\", \"totalTestResultsIncrease\": 49952.0, \"positiveIncrease\": 941.0, \"death\": 23959.0, \"deathIncrease\": 54.0, \"positiveRate\": 0.019, \"state\": \"New York\"}, {\"date\": \"2020-05-31T00:00:00\", \"totalTestResultsIncrease\": 58444.0, \"positiveIncrease\": 1110.0, \"death\": 23905.0, \"deathIncrease\": 57.0, \"positiveRate\": 0.019, \"state\": \"New York\"}, {\"date\": \"2020-05-30T00:00:00\", \"totalTestResultsIncrease\": 61251.0, \"positiveIncrease\": 1376.0, \"death\": 23848.0, \"deathIncrease\": 68.0, \"positiveRate\": 0.022, \"state\": \"New York\"}, {\"date\": \"2020-05-29T00:00:00\", \"totalTestResultsIncrease\": 67341.0, \"positiveIncrease\": 1551.0, \"death\": 23780.0, \"deathIncrease\": 58.0, \"positiveRate\": 0.023, \"state\": \"New York\"}, {\"date\": \"2020-05-28T00:00:00\", \"totalTestResultsIncrease\": 65245.0, \"positiveIncrease\": 1768.0, \"death\": 23722.0, \"deathIncrease\": 79.0, \"positiveRate\": 0.027, \"state\": \"New York\"}, {\"date\": \"2020-05-27T00:00:00\", \"totalTestResultsIncrease\": 37416.0, \"positiveIncrease\": 1129.0, \"death\": 23643.0, \"deathIncrease\": 79.0, \"positiveRate\": 0.03, \"state\": \"New York\"}, {\"date\": \"2020-05-26T00:00:00\", \"totalTestResultsIncrease\": 34679.0, \"positiveIncrease\": 1072.0, \"death\": 23564.0, \"deathIncrease\": 76.0, \"positiveRate\": 0.031, \"state\": \"New York\"}, {\"date\": \"2020-05-25T00:00:00\", \"totalTestResultsIncrease\": 39623.0, \"positiveIncrease\": 1249.0, \"death\": 23488.0, \"deathIncrease\": 97.0, \"positiveRate\": 0.032, \"state\": \"New York\"}]}}, {\"mode\": \"vega-lite\"});\n",
       "</script>"
      ],
      "text/plain": [
       "alt.LayerChart(...)"
      ]
     },
     "execution_count": 10,
     "metadata": {},
     "output_type": "execute_result"
    }
   ],
   "source": [
    "create_plot(ny, 'positiveIncrease')"
   ]
  },
  {
   "cell_type": "code",
   "execution_count": 11,
   "metadata": {},
   "outputs": [
    {
     "data": {
      "text/html": [
       "\n",
       "<div id=\"altair-viz-55516fb4f8604e6d9d53d7688111035b\"></div>\n",
       "<script type=\"text/javascript\">\n",
       "  (function(spec, embedOpt){\n",
       "    let outputDiv = document.currentScript.previousElementSibling;\n",
       "    if (outputDiv.id !== \"altair-viz-55516fb4f8604e6d9d53d7688111035b\") {\n",
       "      outputDiv = document.getElementById(\"altair-viz-55516fb4f8604e6d9d53d7688111035b\");\n",
       "    }\n",
       "    const paths = {\n",
       "      \"vega\": \"https://cdn.jsdelivr.net/npm//vega@5?noext\",\n",
       "      \"vega-lib\": \"https://cdn.jsdelivr.net/npm//vega-lib?noext\",\n",
       "      \"vega-lite\": \"https://cdn.jsdelivr.net/npm//vega-lite@4.8.1?noext\",\n",
       "      \"vega-embed\": \"https://cdn.jsdelivr.net/npm//vega-embed@6?noext\",\n",
       "    };\n",
       "\n",
       "    function loadScript(lib) {\n",
       "      return new Promise(function(resolve, reject) {\n",
       "        var s = document.createElement('script');\n",
       "        s.src = paths[lib];\n",
       "        s.async = true;\n",
       "        s.onload = () => resolve(paths[lib]);\n",
       "        s.onerror = () => reject(`Error loading script: ${paths[lib]}`);\n",
       "        document.getElementsByTagName(\"head\")[0].appendChild(s);\n",
       "      });\n",
       "    }\n",
       "\n",
       "    function showError(err) {\n",
       "      outputDiv.innerHTML = `<div class=\"error\" style=\"color:red;\">${err}</div>`;\n",
       "      throw err;\n",
       "    }\n",
       "\n",
       "    function displayChart(vegaEmbed) {\n",
       "      vegaEmbed(outputDiv, spec, embedOpt)\n",
       "        .catch(err => showError(`Javascript Error: ${err.message}<br>This usually means there's a typo in your chart specification. See the javascript console for the full traceback.`));\n",
       "    }\n",
       "\n",
       "    if(typeof define === \"function\" && define.amd) {\n",
       "      requirejs.config({paths});\n",
       "      require([\"vega-embed\"], displayChart, err => showError(`Error loading script: ${err.message}`));\n",
       "    } else if (typeof vegaEmbed === \"function\") {\n",
       "      displayChart(vegaEmbed);\n",
       "    } else {\n",
       "      loadScript(\"vega\")\n",
       "        .then(() => loadScript(\"vega-lite\"))\n",
       "        .then(() => loadScript(\"vega-embed\"))\n",
       "        .catch(showError)\n",
       "        .then(() => displayChart(vegaEmbed));\n",
       "    }\n",
       "  })({\"config\": {\"view\": {\"continuousWidth\": 400, \"continuousHeight\": 300}}, \"layer\": [{\"mark\": {\"type\": \"point\", \"size\": 50}, \"encoding\": {\"tooltip\": [{\"type\": \"temporal\", \"field\": \"date\"}, {\"type\": \"quantitative\", \"field\": \"positiveRate\"}], \"x\": {\"type\": \"temporal\", \"field\": \"date\"}, \"y\": {\"type\": \"quantitative\", \"field\": \"positiveRate\"}}, \"height\": 400, \"selection\": {\"selector005\": {\"type\": \"interval\", \"bind\": \"scales\", \"encodings\": [\"x\", \"y\"]}}, \"title\": \"New York: positiveRate\", \"width\": 800}, {\"mark\": {\"type\": \"line\", \"color\": \"purple\", \"size\": 2}, \"encoding\": {\"x\": {\"type\": \"temporal\", \"field\": \"date\"}, \"y\": {\"type\": \"quantitative\", \"field\": \"rolling_mean\"}}, \"transform\": [{\"window\": [{\"op\": \"mean\", \"field\": \"positiveRate\", \"as\": \"rolling_mean\"}], \"frame\": [0, 3]}]}], \"data\": {\"name\": \"data-3603cff2c47dac149d7d56f31dc97857\"}, \"$schema\": \"https://vega.github.io/schema/vega-lite/v4.8.1.json\", \"datasets\": {\"data-3603cff2c47dac149d7d56f31dc97857\": [{\"date\": \"2020-07-19T00:00:00\", \"totalTestResultsIncrease\": 46204.0, \"positiveIncrease\": 502.0, \"death\": 25048.0, \"deathIncrease\": 13.0, \"positiveRate\": 0.011, \"state\": \"New York\"}, {\"date\": \"2020-07-18T00:00:00\", \"totalTestResultsIncrease\": 69817.0, \"positiveIncrease\": 754.0, \"death\": 25035.0, \"deathIncrease\": 11.0, \"positiveRate\": 0.011, \"state\": \"New York\"}, {\"date\": \"2020-07-17T00:00:00\", \"totalTestResultsIncrease\": 78239.0, \"positiveIncrease\": 776.0, \"death\": 25024.0, \"deathIncrease\": 10.0, \"positiveRate\": 0.01, \"state\": \"New York\"}, {\"date\": \"2020-07-16T00:00:00\", \"totalTestResultsIncrease\": 72685.0, \"positiveIncrease\": 769.0, \"death\": 25014.0, \"deathIncrease\": 11.0, \"positiveRate\": 0.011, \"state\": \"New York\"}, {\"date\": \"2020-07-15T00:00:00\", \"totalTestResultsIncrease\": 63598.0, \"positiveIncrease\": 831.0, \"death\": 25003.0, \"deathIncrease\": 9.0, \"positiveRate\": 0.013, \"state\": \"New York\"}, {\"date\": \"2020-07-14T00:00:00\", \"totalTestResultsIncrease\": 60045.0, \"positiveIncrease\": 912.0, \"death\": 24994.0, \"deathIncrease\": 5.0, \"positiveRate\": 0.015, \"state\": \"New York\"}, {\"date\": \"2020-07-13T00:00:00\", \"totalTestResultsIncrease\": 51687.0, \"positiveIncrease\": 557.0, \"death\": 24989.0, \"deathIncrease\": 10.0, \"positiveRate\": 0.011, \"state\": \"New York\"}, {\"date\": \"2020-07-12T00:00:00\", \"totalTestResultsIncrease\": 62418.0, \"positiveIncrease\": 677.0, \"death\": 24979.0, \"deathIncrease\": 5.0, \"positiveRate\": 0.011, \"state\": \"New York\"}, {\"date\": \"2020-07-11T00:00:00\", \"totalTestResultsIncrease\": 69203.0, \"positiveIncrease\": 730.0, \"death\": 24974.0, \"deathIncrease\": 6.0, \"positiveRate\": 0.011, \"state\": \"New York\"}, {\"date\": \"2020-07-10T00:00:00\", \"totalTestResultsIncrease\": 73558.0, \"positiveIncrease\": 786.0, \"death\": 24968.0, \"deathIncrease\": 9.0, \"positiveRate\": 0.011, \"state\": \"New York\"}, {\"date\": \"2020-07-09T00:00:00\", \"totalTestResultsIncrease\": 65564.0, \"positiveIncrease\": 584.0, \"death\": 24959.0, \"deathIncrease\": 15.0, \"positiveRate\": 0.009, \"state\": \"New York\"}, {\"date\": \"2020-07-08T00:00:00\", \"totalTestResultsIncrease\": 57585.0, \"positiveIncrease\": 692.0, \"death\": 24944.0, \"deathIncrease\": 20.0, \"positiveRate\": 0.012, \"state\": \"New York\"}, {\"date\": \"2020-07-07T00:00:00\", \"totalTestResultsIncrease\": 56736.0, \"positiveIncrease\": 588.0, \"death\": 24924.0, \"deathIncrease\": 11.0, \"positiveRate\": 0.01, \"state\": \"New York\"}, {\"date\": \"2020-07-06T00:00:00\", \"totalTestResultsIncrease\": 54328.0, \"positiveIncrease\": 518.0, \"death\": 24913.0, \"deathIncrease\": 9.0, \"positiveRate\": 0.01, \"state\": \"New York\"}, {\"date\": \"2020-07-05T00:00:00\", \"totalTestResultsIncrease\": 63415.0, \"positiveIncrease\": 533.0, \"death\": 24904.0, \"deathIncrease\": 8.0, \"positiveRate\": 0.008, \"state\": \"New York\"}, {\"date\": \"2020-07-04T00:00:00\", \"totalTestResultsIncrease\": 62403.0, \"positiveIncrease\": 726.0, \"death\": 24896.0, \"deathIncrease\": 11.0, \"positiveRate\": 0.012, \"state\": \"New York\"}, {\"date\": \"2020-07-03T00:00:00\", \"totalTestResultsIncrease\": 66392.0, \"positiveIncrease\": 918.0, \"death\": 24885.0, \"deathIncrease\": 8.0, \"positiveRate\": 0.014, \"state\": \"New York\"}, {\"date\": \"2020-07-02T00:00:00\", \"totalTestResultsIncrease\": 69945.0, \"positiveIncrease\": 875.0, \"death\": 24877.0, \"deathIncrease\": 11.0, \"positiveRate\": 0.013, \"state\": \"New York\"}, {\"date\": \"2020-07-01T00:00:00\", \"totalTestResultsIncrease\": 56710.0, \"positiveIncrease\": 625.0, \"death\": 24866.0, \"deathIncrease\": 11.0, \"positiveRate\": 0.011, \"state\": \"New York\"}, {\"date\": \"2020-06-30T00:00:00\", \"totalTestResultsIncrease\": 52025.0, \"positiveIncrease\": 524.0, \"death\": 24855.0, \"deathIncrease\": 13.0, \"positiveRate\": 0.01, \"state\": \"New York\"}, {\"date\": \"2020-06-29T00:00:00\", \"totalTestResultsIncrease\": 46428.0, \"positiveIncrease\": 391.0, \"death\": 24842.0, \"deathIncrease\": 7.0, \"positiveRate\": 0.008, \"state\": \"New York\"}, {\"date\": \"2020-06-28T00:00:00\", \"totalTestResultsIncrease\": 61906.0, \"positiveIncrease\": 616.0, \"death\": 24835.0, \"deathIncrease\": 5.0, \"positiveRate\": 0.01, \"state\": \"New York\"}, {\"date\": \"2020-06-27T00:00:00\", \"totalTestResultsIncrease\": 73262.0, \"positiveIncrease\": 703.0, \"death\": 24830.0, \"deathIncrease\": 16.0, \"positiveRate\": 0.01, \"state\": \"New York\"}, {\"date\": \"2020-06-26T00:00:00\", \"totalTestResultsIncrease\": 61723.0, \"positiveIncrease\": 805.0, \"death\": 24814.0, \"deathIncrease\": 14.0, \"positiveRate\": 0.013, \"state\": \"New York\"}, {\"date\": \"2020-06-25T00:00:00\", \"totalTestResultsIncrease\": 67642.0, \"positiveIncrease\": 749.0, \"death\": 24800.0, \"deathIncrease\": 18.0, \"positiveRate\": 0.011, \"state\": \"New York\"}, {\"date\": \"2020-06-24T00:00:00\", \"totalTestResultsIncrease\": 51144.0, \"positiveIncrease\": 581.0, \"death\": 24782.0, \"deathIncrease\": 16.0, \"positiveRate\": 0.011, \"state\": \"New York\"}, {\"date\": \"2020-06-23T00:00:00\", \"totalTestResultsIncrease\": 48709.0, \"positiveIncrease\": 597.0, \"death\": 24766.0, \"deathIncrease\": 27.0, \"positiveRate\": 0.012, \"state\": \"New York\"}, {\"date\": \"2020-06-22T00:00:00\", \"totalTestResultsIncrease\": 56780.0, \"positiveIncrease\": 552.0, \"death\": 24739.0, \"deathIncrease\": 14.0, \"positiveRate\": 0.01, \"state\": \"New York\"}, {\"date\": \"2020-06-21T00:00:00\", \"totalTestResultsIncrease\": 67526.0, \"positiveIncrease\": 664.0, \"death\": 24725.0, \"deathIncrease\": 15.0, \"positiveRate\": 0.01, \"state\": \"New York\"}, {\"date\": \"2020-06-20T00:00:00\", \"totalTestResultsIncrease\": 68830.0, \"positiveIncrease\": 716.0, \"death\": 24710.0, \"deathIncrease\": 24.0, \"positiveRate\": 0.01, \"state\": \"New York\"}, {\"date\": \"2020-06-19T00:00:00\", \"totalTestResultsIncrease\": 79303.0, \"positiveIncrease\": 796.0, \"death\": 24686.0, \"deathIncrease\": 25.0, \"positiveRate\": 0.01, \"state\": \"New York\"}, {\"date\": \"2020-06-18T00:00:00\", \"totalTestResultsIncrease\": 68541.0, \"positiveIncrease\": 618.0, \"death\": 24661.0, \"deathIncrease\": 32.0, \"positiveRate\": 0.009, \"state\": \"New York\"}, {\"date\": \"2020-06-17T00:00:00\", \"totalTestResultsIncrease\": 59341.0, \"positiveIncrease\": 567.0, \"death\": 24629.0, \"deathIncrease\": 21.0, \"positiveRate\": 0.01, \"state\": \"New York\"}, {\"date\": \"2020-06-16T00:00:00\", \"totalTestResultsIncrease\": 60568.0, \"positiveIncrease\": 631.0, \"death\": 24608.0, \"deathIncrease\": 29.0, \"positiveRate\": 0.01, \"state\": \"New York\"}, {\"date\": \"2020-06-15T00:00:00\", \"totalTestResultsIncrease\": 56611.0, \"positiveIncrease\": 620.0, \"death\": 24579.0, \"deathIncrease\": 28.0, \"positiveRate\": 0.011, \"state\": \"New York\"}, {\"date\": \"2020-06-14T00:00:00\", \"totalTestResultsIncrease\": 62359.0, \"positiveIncrease\": 694.0, \"death\": 24551.0, \"deathIncrease\": 24.0, \"positiveRate\": 0.011, \"state\": \"New York\"}, {\"date\": \"2020-06-13T00:00:00\", \"totalTestResultsIncrease\": 70840.0, \"positiveIncrease\": 916.0, \"death\": 24527.0, \"deathIncrease\": 32.0, \"positiveRate\": 0.013, \"state\": \"New York\"}, {\"date\": \"2020-06-12T00:00:00\", \"totalTestResultsIncrease\": 72395.0, \"positiveIncrease\": 822.0, \"death\": 24495.0, \"deathIncrease\": 53.0, \"positiveRate\": 0.011, \"state\": \"New York\"}, {\"date\": \"2020-06-11T00:00:00\", \"totalTestResultsIncrease\": 60839.0, \"positiveIncrease\": 736.0, \"death\": 24442.0, \"deathIncrease\": 38.0, \"positiveRate\": 0.012, \"state\": \"New York\"}, {\"date\": \"2020-06-10T00:00:00\", \"totalTestResultsIncrease\": 62297.0, \"positiveIncrease\": 674.0, \"death\": 24404.0, \"deathIncrease\": 56.0, \"positiveRate\": 0.011, \"state\": \"New York\"}, {\"date\": \"2020-06-09T00:00:00\", \"totalTestResultsIncrease\": 49973.0, \"positiveIncrease\": 683.0, \"death\": 24348.0, \"deathIncrease\": 49.0, \"positiveRate\": 0.014, \"state\": \"New York\"}, {\"date\": \"2020-06-08T00:00:00\", \"totalTestResultsIncrease\": 58054.0, \"positiveIncrease\": 702.0, \"death\": 24299.0, \"deathIncrease\": 40.0, \"positiveRate\": 0.012, \"state\": \"New York\"}, {\"date\": \"2020-06-07T00:00:00\", \"totalTestResultsIncrease\": 60435.0, \"positiveIncrease\": 781.0, \"death\": 24259.0, \"deathIncrease\": 47.0, \"positiveRate\": 0.013, \"state\": \"New York\"}, {\"date\": \"2020-06-06T00:00:00\", \"totalTestResultsIncrease\": 77895.0, \"positiveIncrease\": 1108.0, \"death\": 24212.0, \"deathIncrease\": 37.0, \"positiveRate\": 0.014, \"state\": \"New York\"}, {\"date\": \"2020-06-05T00:00:00\", \"totalTestResultsIncrease\": 66480.0, \"positiveIncrease\": 1075.0, \"death\": 24175.0, \"deathIncrease\": 42.0, \"positiveRate\": 0.016, \"state\": \"New York\"}, {\"date\": \"2020-06-04T00:00:00\", \"totalTestResultsIncrease\": 63559.0, \"positiveIncrease\": 1048.0, \"death\": 24133.0, \"deathIncrease\": 54.0, \"positiveRate\": 0.016, \"state\": \"New York\"}, {\"date\": \"2020-06-03T00:00:00\", \"totalTestResultsIncrease\": 61642.0, \"positiveIncrease\": 1045.0, \"death\": 24079.0, \"deathIncrease\": 56.0, \"positiveRate\": 0.017, \"state\": \"New York\"}, {\"date\": \"2020-06-02T00:00:00\", \"totalTestResultsIncrease\": 54054.0, \"positiveIncrease\": 1329.0, \"death\": 24023.0, \"deathIncrease\": 64.0, \"positiveRate\": 0.025, \"state\": \"New York\"}, {\"date\": \"2020-06-01T00:00:00\", \"totalTestResultsIncrease\": 49952.0, \"positiveIncrease\": 941.0, \"death\": 23959.0, \"deathIncrease\": 54.0, \"positiveRate\": 0.019, \"state\": \"New York\"}, {\"date\": \"2020-05-31T00:00:00\", \"totalTestResultsIncrease\": 58444.0, \"positiveIncrease\": 1110.0, \"death\": 23905.0, \"deathIncrease\": 57.0, \"positiveRate\": 0.019, \"state\": \"New York\"}, {\"date\": \"2020-05-30T00:00:00\", \"totalTestResultsIncrease\": 61251.0, \"positiveIncrease\": 1376.0, \"death\": 23848.0, \"deathIncrease\": 68.0, \"positiveRate\": 0.022, \"state\": \"New York\"}, {\"date\": \"2020-05-29T00:00:00\", \"totalTestResultsIncrease\": 67341.0, \"positiveIncrease\": 1551.0, \"death\": 23780.0, \"deathIncrease\": 58.0, \"positiveRate\": 0.023, \"state\": \"New York\"}, {\"date\": \"2020-05-28T00:00:00\", \"totalTestResultsIncrease\": 65245.0, \"positiveIncrease\": 1768.0, \"death\": 23722.0, \"deathIncrease\": 79.0, \"positiveRate\": 0.027, \"state\": \"New York\"}, {\"date\": \"2020-05-27T00:00:00\", \"totalTestResultsIncrease\": 37416.0, \"positiveIncrease\": 1129.0, \"death\": 23643.0, \"deathIncrease\": 79.0, \"positiveRate\": 0.03, \"state\": \"New York\"}, {\"date\": \"2020-05-26T00:00:00\", \"totalTestResultsIncrease\": 34679.0, \"positiveIncrease\": 1072.0, \"death\": 23564.0, \"deathIncrease\": 76.0, \"positiveRate\": 0.031, \"state\": \"New York\"}, {\"date\": \"2020-05-25T00:00:00\", \"totalTestResultsIncrease\": 39623.0, \"positiveIncrease\": 1249.0, \"death\": 23488.0, \"deathIncrease\": 97.0, \"positiveRate\": 0.032, \"state\": \"New York\"}]}}, {\"mode\": \"vega-lite\"});\n",
       "</script>"
      ],
      "text/plain": [
       "alt.LayerChart(...)"
      ]
     },
     "execution_count": 11,
     "metadata": {},
     "output_type": "execute_result"
    }
   ],
   "source": [
    "create_plot(ny, 'positiveRate')"
   ]
  },
  {
   "cell_type": "code",
   "execution_count": 12,
   "metadata": {},
   "outputs": [
    {
     "data": {
      "text/html": [
       "\n",
       "<div id=\"altair-viz-c82b2c5b284e400d909cbc4a885fb042\"></div>\n",
       "<script type=\"text/javascript\">\n",
       "  (function(spec, embedOpt){\n",
       "    let outputDiv = document.currentScript.previousElementSibling;\n",
       "    if (outputDiv.id !== \"altair-viz-c82b2c5b284e400d909cbc4a885fb042\") {\n",
       "      outputDiv = document.getElementById(\"altair-viz-c82b2c5b284e400d909cbc4a885fb042\");\n",
       "    }\n",
       "    const paths = {\n",
       "      \"vega\": \"https://cdn.jsdelivr.net/npm//vega@5?noext\",\n",
       "      \"vega-lib\": \"https://cdn.jsdelivr.net/npm//vega-lib?noext\",\n",
       "      \"vega-lite\": \"https://cdn.jsdelivr.net/npm//vega-lite@4.8.1?noext\",\n",
       "      \"vega-embed\": \"https://cdn.jsdelivr.net/npm//vega-embed@6?noext\",\n",
       "    };\n",
       "\n",
       "    function loadScript(lib) {\n",
       "      return new Promise(function(resolve, reject) {\n",
       "        var s = document.createElement('script');\n",
       "        s.src = paths[lib];\n",
       "        s.async = true;\n",
       "        s.onload = () => resolve(paths[lib]);\n",
       "        s.onerror = () => reject(`Error loading script: ${paths[lib]}`);\n",
       "        document.getElementsByTagName(\"head\")[0].appendChild(s);\n",
       "      });\n",
       "    }\n",
       "\n",
       "    function showError(err) {\n",
       "      outputDiv.innerHTML = `<div class=\"error\" style=\"color:red;\">${err}</div>`;\n",
       "      throw err;\n",
       "    }\n",
       "\n",
       "    function displayChart(vegaEmbed) {\n",
       "      vegaEmbed(outputDiv, spec, embedOpt)\n",
       "        .catch(err => showError(`Javascript Error: ${err.message}<br>This usually means there's a typo in your chart specification. See the javascript console for the full traceback.`));\n",
       "    }\n",
       "\n",
       "    if(typeof define === \"function\" && define.amd) {\n",
       "      requirejs.config({paths});\n",
       "      require([\"vega-embed\"], displayChart, err => showError(`Error loading script: ${err.message}`));\n",
       "    } else if (typeof vegaEmbed === \"function\") {\n",
       "      displayChart(vegaEmbed);\n",
       "    } else {\n",
       "      loadScript(\"vega\")\n",
       "        .then(() => loadScript(\"vega-lite\"))\n",
       "        .then(() => loadScript(\"vega-embed\"))\n",
       "        .catch(showError)\n",
       "        .then(() => displayChart(vegaEmbed));\n",
       "    }\n",
       "  })({\"config\": {\"view\": {\"continuousWidth\": 400, \"continuousHeight\": 300}}, \"layer\": [{\"mark\": {\"type\": \"point\", \"size\": 50}, \"encoding\": {\"tooltip\": [{\"type\": \"temporal\", \"field\": \"date\"}, {\"type\": \"quantitative\", \"field\": \"deathIncrease\"}], \"x\": {\"type\": \"temporal\", \"field\": \"date\"}, \"y\": {\"type\": \"quantitative\", \"field\": \"deathIncrease\"}}, \"height\": 400, \"selection\": {\"selector006\": {\"type\": \"interval\", \"bind\": \"scales\", \"encodings\": [\"x\", \"y\"]}}, \"title\": \"New York: deathIncrease\", \"width\": 800}, {\"mark\": {\"type\": \"line\", \"color\": \"purple\", \"size\": 2}, \"encoding\": {\"x\": {\"type\": \"temporal\", \"field\": \"date\"}, \"y\": {\"type\": \"quantitative\", \"field\": \"rolling_mean\"}}, \"transform\": [{\"window\": [{\"op\": \"mean\", \"field\": \"deathIncrease\", \"as\": \"rolling_mean\"}], \"frame\": [0, 3]}]}], \"data\": {\"name\": \"data-3603cff2c47dac149d7d56f31dc97857\"}, \"$schema\": \"https://vega.github.io/schema/vega-lite/v4.8.1.json\", \"datasets\": {\"data-3603cff2c47dac149d7d56f31dc97857\": [{\"date\": \"2020-07-19T00:00:00\", \"totalTestResultsIncrease\": 46204.0, \"positiveIncrease\": 502.0, \"death\": 25048.0, \"deathIncrease\": 13.0, \"positiveRate\": 0.011, \"state\": \"New York\"}, {\"date\": \"2020-07-18T00:00:00\", \"totalTestResultsIncrease\": 69817.0, \"positiveIncrease\": 754.0, \"death\": 25035.0, \"deathIncrease\": 11.0, \"positiveRate\": 0.011, \"state\": \"New York\"}, {\"date\": \"2020-07-17T00:00:00\", \"totalTestResultsIncrease\": 78239.0, \"positiveIncrease\": 776.0, \"death\": 25024.0, \"deathIncrease\": 10.0, \"positiveRate\": 0.01, \"state\": \"New York\"}, {\"date\": \"2020-07-16T00:00:00\", \"totalTestResultsIncrease\": 72685.0, \"positiveIncrease\": 769.0, \"death\": 25014.0, \"deathIncrease\": 11.0, \"positiveRate\": 0.011, \"state\": \"New York\"}, {\"date\": \"2020-07-15T00:00:00\", \"totalTestResultsIncrease\": 63598.0, \"positiveIncrease\": 831.0, \"death\": 25003.0, \"deathIncrease\": 9.0, \"positiveRate\": 0.013, \"state\": \"New York\"}, {\"date\": \"2020-07-14T00:00:00\", \"totalTestResultsIncrease\": 60045.0, \"positiveIncrease\": 912.0, \"death\": 24994.0, \"deathIncrease\": 5.0, \"positiveRate\": 0.015, \"state\": \"New York\"}, {\"date\": \"2020-07-13T00:00:00\", \"totalTestResultsIncrease\": 51687.0, \"positiveIncrease\": 557.0, \"death\": 24989.0, \"deathIncrease\": 10.0, \"positiveRate\": 0.011, \"state\": \"New York\"}, {\"date\": \"2020-07-12T00:00:00\", \"totalTestResultsIncrease\": 62418.0, \"positiveIncrease\": 677.0, \"death\": 24979.0, \"deathIncrease\": 5.0, \"positiveRate\": 0.011, \"state\": \"New York\"}, {\"date\": \"2020-07-11T00:00:00\", \"totalTestResultsIncrease\": 69203.0, \"positiveIncrease\": 730.0, \"death\": 24974.0, \"deathIncrease\": 6.0, \"positiveRate\": 0.011, \"state\": \"New York\"}, {\"date\": \"2020-07-10T00:00:00\", \"totalTestResultsIncrease\": 73558.0, \"positiveIncrease\": 786.0, \"death\": 24968.0, \"deathIncrease\": 9.0, \"positiveRate\": 0.011, \"state\": \"New York\"}, {\"date\": \"2020-07-09T00:00:00\", \"totalTestResultsIncrease\": 65564.0, \"positiveIncrease\": 584.0, \"death\": 24959.0, \"deathIncrease\": 15.0, \"positiveRate\": 0.009, \"state\": \"New York\"}, {\"date\": \"2020-07-08T00:00:00\", \"totalTestResultsIncrease\": 57585.0, \"positiveIncrease\": 692.0, \"death\": 24944.0, \"deathIncrease\": 20.0, \"positiveRate\": 0.012, \"state\": \"New York\"}, {\"date\": \"2020-07-07T00:00:00\", \"totalTestResultsIncrease\": 56736.0, \"positiveIncrease\": 588.0, \"death\": 24924.0, \"deathIncrease\": 11.0, \"positiveRate\": 0.01, \"state\": \"New York\"}, {\"date\": \"2020-07-06T00:00:00\", \"totalTestResultsIncrease\": 54328.0, \"positiveIncrease\": 518.0, \"death\": 24913.0, \"deathIncrease\": 9.0, \"positiveRate\": 0.01, \"state\": \"New York\"}, {\"date\": \"2020-07-05T00:00:00\", \"totalTestResultsIncrease\": 63415.0, \"positiveIncrease\": 533.0, \"death\": 24904.0, \"deathIncrease\": 8.0, \"positiveRate\": 0.008, \"state\": \"New York\"}, {\"date\": \"2020-07-04T00:00:00\", \"totalTestResultsIncrease\": 62403.0, \"positiveIncrease\": 726.0, \"death\": 24896.0, \"deathIncrease\": 11.0, \"positiveRate\": 0.012, \"state\": \"New York\"}, {\"date\": \"2020-07-03T00:00:00\", \"totalTestResultsIncrease\": 66392.0, \"positiveIncrease\": 918.0, \"death\": 24885.0, \"deathIncrease\": 8.0, \"positiveRate\": 0.014, \"state\": \"New York\"}, {\"date\": \"2020-07-02T00:00:00\", \"totalTestResultsIncrease\": 69945.0, \"positiveIncrease\": 875.0, \"death\": 24877.0, \"deathIncrease\": 11.0, \"positiveRate\": 0.013, \"state\": \"New York\"}, {\"date\": \"2020-07-01T00:00:00\", \"totalTestResultsIncrease\": 56710.0, \"positiveIncrease\": 625.0, \"death\": 24866.0, \"deathIncrease\": 11.0, \"positiveRate\": 0.011, \"state\": \"New York\"}, {\"date\": \"2020-06-30T00:00:00\", \"totalTestResultsIncrease\": 52025.0, \"positiveIncrease\": 524.0, \"death\": 24855.0, \"deathIncrease\": 13.0, \"positiveRate\": 0.01, \"state\": \"New York\"}, {\"date\": \"2020-06-29T00:00:00\", \"totalTestResultsIncrease\": 46428.0, \"positiveIncrease\": 391.0, \"death\": 24842.0, \"deathIncrease\": 7.0, \"positiveRate\": 0.008, \"state\": \"New York\"}, {\"date\": \"2020-06-28T00:00:00\", \"totalTestResultsIncrease\": 61906.0, \"positiveIncrease\": 616.0, \"death\": 24835.0, \"deathIncrease\": 5.0, \"positiveRate\": 0.01, \"state\": \"New York\"}, {\"date\": \"2020-06-27T00:00:00\", \"totalTestResultsIncrease\": 73262.0, \"positiveIncrease\": 703.0, \"death\": 24830.0, \"deathIncrease\": 16.0, \"positiveRate\": 0.01, \"state\": \"New York\"}, {\"date\": \"2020-06-26T00:00:00\", \"totalTestResultsIncrease\": 61723.0, \"positiveIncrease\": 805.0, \"death\": 24814.0, \"deathIncrease\": 14.0, \"positiveRate\": 0.013, \"state\": \"New York\"}, {\"date\": \"2020-06-25T00:00:00\", \"totalTestResultsIncrease\": 67642.0, \"positiveIncrease\": 749.0, \"death\": 24800.0, \"deathIncrease\": 18.0, \"positiveRate\": 0.011, \"state\": \"New York\"}, {\"date\": \"2020-06-24T00:00:00\", \"totalTestResultsIncrease\": 51144.0, \"positiveIncrease\": 581.0, \"death\": 24782.0, \"deathIncrease\": 16.0, \"positiveRate\": 0.011, \"state\": \"New York\"}, {\"date\": \"2020-06-23T00:00:00\", \"totalTestResultsIncrease\": 48709.0, \"positiveIncrease\": 597.0, \"death\": 24766.0, \"deathIncrease\": 27.0, \"positiveRate\": 0.012, \"state\": \"New York\"}, {\"date\": \"2020-06-22T00:00:00\", \"totalTestResultsIncrease\": 56780.0, \"positiveIncrease\": 552.0, \"death\": 24739.0, \"deathIncrease\": 14.0, \"positiveRate\": 0.01, \"state\": \"New York\"}, {\"date\": \"2020-06-21T00:00:00\", \"totalTestResultsIncrease\": 67526.0, \"positiveIncrease\": 664.0, \"death\": 24725.0, \"deathIncrease\": 15.0, \"positiveRate\": 0.01, \"state\": \"New York\"}, {\"date\": \"2020-06-20T00:00:00\", \"totalTestResultsIncrease\": 68830.0, \"positiveIncrease\": 716.0, \"death\": 24710.0, \"deathIncrease\": 24.0, \"positiveRate\": 0.01, \"state\": \"New York\"}, {\"date\": \"2020-06-19T00:00:00\", \"totalTestResultsIncrease\": 79303.0, \"positiveIncrease\": 796.0, \"death\": 24686.0, \"deathIncrease\": 25.0, \"positiveRate\": 0.01, \"state\": \"New York\"}, {\"date\": \"2020-06-18T00:00:00\", \"totalTestResultsIncrease\": 68541.0, \"positiveIncrease\": 618.0, \"death\": 24661.0, \"deathIncrease\": 32.0, \"positiveRate\": 0.009, \"state\": \"New York\"}, {\"date\": \"2020-06-17T00:00:00\", \"totalTestResultsIncrease\": 59341.0, \"positiveIncrease\": 567.0, \"death\": 24629.0, \"deathIncrease\": 21.0, \"positiveRate\": 0.01, \"state\": \"New York\"}, {\"date\": \"2020-06-16T00:00:00\", \"totalTestResultsIncrease\": 60568.0, \"positiveIncrease\": 631.0, \"death\": 24608.0, \"deathIncrease\": 29.0, \"positiveRate\": 0.01, \"state\": \"New York\"}, {\"date\": \"2020-06-15T00:00:00\", \"totalTestResultsIncrease\": 56611.0, \"positiveIncrease\": 620.0, \"death\": 24579.0, \"deathIncrease\": 28.0, \"positiveRate\": 0.011, \"state\": \"New York\"}, {\"date\": \"2020-06-14T00:00:00\", \"totalTestResultsIncrease\": 62359.0, \"positiveIncrease\": 694.0, \"death\": 24551.0, \"deathIncrease\": 24.0, \"positiveRate\": 0.011, \"state\": \"New York\"}, {\"date\": \"2020-06-13T00:00:00\", \"totalTestResultsIncrease\": 70840.0, \"positiveIncrease\": 916.0, \"death\": 24527.0, \"deathIncrease\": 32.0, \"positiveRate\": 0.013, \"state\": \"New York\"}, {\"date\": \"2020-06-12T00:00:00\", \"totalTestResultsIncrease\": 72395.0, \"positiveIncrease\": 822.0, \"death\": 24495.0, \"deathIncrease\": 53.0, \"positiveRate\": 0.011, \"state\": \"New York\"}, {\"date\": \"2020-06-11T00:00:00\", \"totalTestResultsIncrease\": 60839.0, \"positiveIncrease\": 736.0, \"death\": 24442.0, \"deathIncrease\": 38.0, \"positiveRate\": 0.012, \"state\": \"New York\"}, {\"date\": \"2020-06-10T00:00:00\", \"totalTestResultsIncrease\": 62297.0, \"positiveIncrease\": 674.0, \"death\": 24404.0, \"deathIncrease\": 56.0, \"positiveRate\": 0.011, \"state\": \"New York\"}, {\"date\": \"2020-06-09T00:00:00\", \"totalTestResultsIncrease\": 49973.0, \"positiveIncrease\": 683.0, \"death\": 24348.0, \"deathIncrease\": 49.0, \"positiveRate\": 0.014, \"state\": \"New York\"}, {\"date\": \"2020-06-08T00:00:00\", \"totalTestResultsIncrease\": 58054.0, \"positiveIncrease\": 702.0, \"death\": 24299.0, \"deathIncrease\": 40.0, \"positiveRate\": 0.012, \"state\": \"New York\"}, {\"date\": \"2020-06-07T00:00:00\", \"totalTestResultsIncrease\": 60435.0, \"positiveIncrease\": 781.0, \"death\": 24259.0, \"deathIncrease\": 47.0, \"positiveRate\": 0.013, \"state\": \"New York\"}, {\"date\": \"2020-06-06T00:00:00\", \"totalTestResultsIncrease\": 77895.0, \"positiveIncrease\": 1108.0, \"death\": 24212.0, \"deathIncrease\": 37.0, \"positiveRate\": 0.014, \"state\": \"New York\"}, {\"date\": \"2020-06-05T00:00:00\", \"totalTestResultsIncrease\": 66480.0, \"positiveIncrease\": 1075.0, \"death\": 24175.0, \"deathIncrease\": 42.0, \"positiveRate\": 0.016, \"state\": \"New York\"}, {\"date\": \"2020-06-04T00:00:00\", \"totalTestResultsIncrease\": 63559.0, \"positiveIncrease\": 1048.0, \"death\": 24133.0, \"deathIncrease\": 54.0, \"positiveRate\": 0.016, \"state\": \"New York\"}, {\"date\": \"2020-06-03T00:00:00\", \"totalTestResultsIncrease\": 61642.0, \"positiveIncrease\": 1045.0, \"death\": 24079.0, \"deathIncrease\": 56.0, \"positiveRate\": 0.017, \"state\": \"New York\"}, {\"date\": \"2020-06-02T00:00:00\", \"totalTestResultsIncrease\": 54054.0, \"positiveIncrease\": 1329.0, \"death\": 24023.0, \"deathIncrease\": 64.0, \"positiveRate\": 0.025, \"state\": \"New York\"}, {\"date\": \"2020-06-01T00:00:00\", \"totalTestResultsIncrease\": 49952.0, \"positiveIncrease\": 941.0, \"death\": 23959.0, \"deathIncrease\": 54.0, \"positiveRate\": 0.019, \"state\": \"New York\"}, {\"date\": \"2020-05-31T00:00:00\", \"totalTestResultsIncrease\": 58444.0, \"positiveIncrease\": 1110.0, \"death\": 23905.0, \"deathIncrease\": 57.0, \"positiveRate\": 0.019, \"state\": \"New York\"}, {\"date\": \"2020-05-30T00:00:00\", \"totalTestResultsIncrease\": 61251.0, \"positiveIncrease\": 1376.0, \"death\": 23848.0, \"deathIncrease\": 68.0, \"positiveRate\": 0.022, \"state\": \"New York\"}, {\"date\": \"2020-05-29T00:00:00\", \"totalTestResultsIncrease\": 67341.0, \"positiveIncrease\": 1551.0, \"death\": 23780.0, \"deathIncrease\": 58.0, \"positiveRate\": 0.023, \"state\": \"New York\"}, {\"date\": \"2020-05-28T00:00:00\", \"totalTestResultsIncrease\": 65245.0, \"positiveIncrease\": 1768.0, \"death\": 23722.0, \"deathIncrease\": 79.0, \"positiveRate\": 0.027, \"state\": \"New York\"}, {\"date\": \"2020-05-27T00:00:00\", \"totalTestResultsIncrease\": 37416.0, \"positiveIncrease\": 1129.0, \"death\": 23643.0, \"deathIncrease\": 79.0, \"positiveRate\": 0.03, \"state\": \"New York\"}, {\"date\": \"2020-05-26T00:00:00\", \"totalTestResultsIncrease\": 34679.0, \"positiveIncrease\": 1072.0, \"death\": 23564.0, \"deathIncrease\": 76.0, \"positiveRate\": 0.031, \"state\": \"New York\"}, {\"date\": \"2020-05-25T00:00:00\", \"totalTestResultsIncrease\": 39623.0, \"positiveIncrease\": 1249.0, \"death\": 23488.0, \"deathIncrease\": 97.0, \"positiveRate\": 0.032, \"state\": \"New York\"}]}}, {\"mode\": \"vega-lite\"});\n",
       "</script>"
      ],
      "text/plain": [
       "alt.LayerChart(...)"
      ]
     },
     "execution_count": 12,
     "metadata": {},
     "output_type": "execute_result"
    }
   ],
   "source": [
    "create_plot(ny, 'deathIncrease')"
   ]
  },
  {
   "cell_type": "markdown",
   "metadata": {},
   "source": [
    "# Non Tri-State"
   ]
  },
  {
   "cell_type": "code",
   "execution_count": 13,
   "metadata": {},
   "outputs": [],
   "source": [
    "non_tristate = create_df(df, lambda d: ~d['state'].isin(['CT','NJ','NY']), 'Non Tri-State')"
   ]
  },
  {
   "cell_type": "code",
   "execution_count": 14,
   "metadata": {},
   "outputs": [
    {
     "data": {
      "text/html": [
       "\n",
       "<div id=\"altair-viz-6f17e83b0e6f46a8944d3682a72ec57a\"></div>\n",
       "<script type=\"text/javascript\">\n",
       "  (function(spec, embedOpt){\n",
       "    let outputDiv = document.currentScript.previousElementSibling;\n",
       "    if (outputDiv.id !== \"altair-viz-6f17e83b0e6f46a8944d3682a72ec57a\") {\n",
       "      outputDiv = document.getElementById(\"altair-viz-6f17e83b0e6f46a8944d3682a72ec57a\");\n",
       "    }\n",
       "    const paths = {\n",
       "      \"vega\": \"https://cdn.jsdelivr.net/npm//vega@5?noext\",\n",
       "      \"vega-lib\": \"https://cdn.jsdelivr.net/npm//vega-lib?noext\",\n",
       "      \"vega-lite\": \"https://cdn.jsdelivr.net/npm//vega-lite@4.8.1?noext\",\n",
       "      \"vega-embed\": \"https://cdn.jsdelivr.net/npm//vega-embed@6?noext\",\n",
       "    };\n",
       "\n",
       "    function loadScript(lib) {\n",
       "      return new Promise(function(resolve, reject) {\n",
       "        var s = document.createElement('script');\n",
       "        s.src = paths[lib];\n",
       "        s.async = true;\n",
       "        s.onload = () => resolve(paths[lib]);\n",
       "        s.onerror = () => reject(`Error loading script: ${paths[lib]}`);\n",
       "        document.getElementsByTagName(\"head\")[0].appendChild(s);\n",
       "      });\n",
       "    }\n",
       "\n",
       "    function showError(err) {\n",
       "      outputDiv.innerHTML = `<div class=\"error\" style=\"color:red;\">${err}</div>`;\n",
       "      throw err;\n",
       "    }\n",
       "\n",
       "    function displayChart(vegaEmbed) {\n",
       "      vegaEmbed(outputDiv, spec, embedOpt)\n",
       "        .catch(err => showError(`Javascript Error: ${err.message}<br>This usually means there's a typo in your chart specification. See the javascript console for the full traceback.`));\n",
       "    }\n",
       "\n",
       "    if(typeof define === \"function\" && define.amd) {\n",
       "      requirejs.config({paths});\n",
       "      require([\"vega-embed\"], displayChart, err => showError(`Error loading script: ${err.message}`));\n",
       "    } else if (typeof vegaEmbed === \"function\") {\n",
       "      displayChart(vegaEmbed);\n",
       "    } else {\n",
       "      loadScript(\"vega\")\n",
       "        .then(() => loadScript(\"vega-lite\"))\n",
       "        .then(() => loadScript(\"vega-embed\"))\n",
       "        .catch(showError)\n",
       "        .then(() => displayChart(vegaEmbed));\n",
       "    }\n",
       "  })({\"config\": {\"view\": {\"continuousWidth\": 400, \"continuousHeight\": 300}}, \"layer\": [{\"mark\": {\"type\": \"point\", \"size\": 50}, \"encoding\": {\"tooltip\": [{\"type\": \"temporal\", \"field\": \"date\"}, {\"type\": \"quantitative\", \"field\": \"positiveIncrease\"}], \"x\": {\"type\": \"temporal\", \"field\": \"date\"}, \"y\": {\"type\": \"quantitative\", \"field\": \"positiveIncrease\"}}, \"height\": 400, \"selection\": {\"selector007\": {\"type\": \"interval\", \"bind\": \"scales\", \"encodings\": [\"x\", \"y\"]}}, \"title\": \"Non Tri-State: positiveIncrease\", \"width\": 800}, {\"mark\": {\"type\": \"line\", \"color\": \"purple\", \"size\": 2}, \"encoding\": {\"x\": {\"type\": \"temporal\", \"field\": \"date\"}, \"y\": {\"type\": \"quantitative\", \"field\": \"rolling_mean\"}}, \"transform\": [{\"window\": [{\"op\": \"mean\", \"field\": \"positiveIncrease\", \"as\": \"rolling_mean\"}], \"frame\": [0, 3]}]}], \"data\": {\"name\": \"data-6d9747630822ad28643f76584477ea1e\"}, \"$schema\": \"https://vega.github.io/schema/vega-lite/v4.8.1.json\", \"datasets\": {\"data-6d9747630822ad28643f76584477ea1e\": [{\"date\": \"2020-07-19T00:00:00\", \"totalTestResultsIncrease\": 712932.0, \"positiveIncrease\": 63436.0, \"death\": 87768.0, \"deathIncrease\": 503.0, \"positiveRate\": 0.089, \"state\": \"Non Tri-State\"}, {\"date\": \"2020-07-18T00:00:00\", \"totalTestResultsIncrease\": 679432.0, \"positiveIncrease\": 64163.0, \"death\": 87265.0, \"deathIncrease\": 846.0, \"positiveRate\": 0.094, \"state\": \"Non Tri-State\"}, {\"date\": \"2020-07-17T00:00:00\", \"totalTestResultsIncrease\": 750104.0, \"positiveIncrease\": 76264.0, \"death\": 86419.0, \"deathIncrease\": 915.0, \"positiveRate\": 0.102, \"state\": \"Non Tri-State\"}, {\"date\": \"2020-07-16T00:00:00\", \"totalTestResultsIncrease\": 722897.0, \"positiveIncrease\": 69847.0, \"death\": 85504.0, \"deathIncrease\": 896.0, \"positiveRate\": 0.097, \"state\": \"Non Tri-State\"}, {\"date\": \"2020-07-15T00:00:00\", \"totalTestResultsIncrease\": 665748.0, \"positiveIncrease\": 64082.0, \"death\": 84608.0, \"deathIncrease\": 816.0, \"positiveRate\": 0.096, \"state\": \"Non Tri-State\"}, {\"date\": \"2020-07-14T00:00:00\", \"totalTestResultsIncrease\": 676948.0, \"positiveIncrease\": 61554.0, \"death\": 83792.0, \"deathIncrease\": 708.0, \"positiveRate\": 0.091, \"state\": \"Non Tri-State\"}, {\"date\": \"2020-07-13T00:00:00\", \"totalTestResultsIncrease\": 624522.0, \"positiveIncrease\": 57461.0, \"death\": 83084.0, \"deathIncrease\": 275.0, \"positiveRate\": 0.092, \"state\": \"Non Tri-State\"}, {\"date\": \"2020-07-12T00:00:00\", \"totalTestResultsIncrease\": 640580.0, \"positiveIncrease\": 59962.0, \"death\": 82809.0, \"deathIncrease\": 455.0, \"positiveRate\": 0.094, \"state\": \"Non Tri-State\"}, {\"date\": \"2020-07-11T00:00:00\", \"totalTestResultsIncrease\": 528108.0, \"positiveIncrease\": 61946.0, \"death\": 82354.0, \"deathIncrease\": 705.0, \"positiveRate\": 0.117, \"state\": \"Non Tri-State\"}, {\"date\": \"2020-07-10T00:00:00\", \"totalTestResultsIncrease\": 713488.0, \"positiveIncrease\": 65393.0, \"death\": 81649.0, \"deathIncrease\": 814.0, \"positiveRate\": 0.092, \"state\": \"Non Tri-State\"}, {\"date\": \"2020-07-09T00:00:00\", \"totalTestResultsIncrease\": 603478.0, \"positiveIncrease\": 57950.0, \"death\": 80835.0, \"deathIncrease\": 822.0, \"positiveRate\": 0.096, \"state\": \"Non Tri-State\"}, {\"date\": \"2020-07-08T00:00:00\", \"totalTestResultsIncrease\": 545625.0, \"positiveIncrease\": 61219.0, \"death\": 80013.0, \"deathIncrease\": 730.0, \"positiveRate\": 0.112, \"state\": \"Non Tri-State\"}, {\"date\": \"2020-07-07T00:00:00\", \"totalTestResultsIncrease\": 559818.0, \"positiveIncrease\": 50854.0, \"death\": 79283.0, \"deathIncrease\": 859.0, \"positiveRate\": 0.091, \"state\": \"Non Tri-State\"}, {\"date\": \"2020-07-06T00:00:00\", \"totalTestResultsIncrease\": 426359.0, \"positiveIncrease\": 40614.0, \"death\": 78424.0, \"deathIncrease\": 212.0, \"positiveRate\": 0.095, \"state\": \"Non Tri-State\"}, {\"date\": \"2020-07-05T00:00:00\", \"totalTestResultsIncrease\": 567401.0, \"positiveIncrease\": 44887.0, \"death\": 78212.0, \"deathIncrease\": 179.0, \"positiveRate\": 0.079, \"state\": \"Non Tri-State\"}, {\"date\": \"2020-07-04T00:00:00\", \"totalTestResultsIncrease\": 556781.0, \"positiveIncrease\": 53717.0, \"death\": 78033.0, \"deathIncrease\": 270.0, \"positiveRate\": 0.096, \"state\": \"Non Tri-State\"}, {\"date\": \"2020-07-03T00:00:00\", \"totalTestResultsIncrease\": 622997.0, \"positiveIncrease\": 52848.0, \"death\": 77763.0, \"deathIncrease\": 523.0, \"positiveRate\": 0.085, \"state\": \"Non Tri-State\"}, {\"date\": \"2020-07-02T00:00:00\", \"totalTestResultsIncrease\": 561090.0, \"positiveIncrease\": 52449.0, \"death\": 77240.0, \"deathIncrease\": 655.0, \"positiveRate\": 0.093, \"state\": \"Non Tri-State\"}, {\"date\": \"2020-07-01T00:00:00\", \"totalTestResultsIncrease\": 544562.0, \"positiveIncrease\": 49730.0, \"death\": 76585.0, \"deathIncrease\": 645.0, \"positiveRate\": 0.091, \"state\": \"Non Tri-State\"}, {\"date\": \"2020-06-30T00:00:00\", \"totalTestResultsIncrease\": 542112.0, \"positiveIncrease\": 46391.0, \"death\": 75940.0, \"deathIncrease\": 538.0, \"positiveRate\": 0.086, \"state\": \"Non Tri-State\"}, {\"date\": \"2020-06-29T00:00:00\", \"totalTestResultsIncrease\": 562783.0, \"positiveIncrease\": 38635.0, \"death\": 75402.0, \"deathIncrease\": 302.0, \"positiveRate\": 0.069, \"state\": \"Non Tri-State\"}, {\"date\": \"2020-06-28T00:00:00\", \"totalTestResultsIncrease\": 495079.0, \"positiveIncrease\": 40835.0, \"death\": 75100.0, \"deathIncrease\": 234.0, \"positiveRate\": 0.082, \"state\": \"Non Tri-State\"}, {\"date\": \"2020-06-27T00:00:00\", \"totalTestResultsIncrease\": 496340.0, \"positiveIncrease\": 42644.0, \"death\": 74866.0, \"deathIncrease\": 455.0, \"positiveRate\": 0.086, \"state\": \"Non Tri-State\"}, {\"date\": \"2020-06-26T00:00:00\", \"totalTestResultsIncrease\": 506558.0, \"positiveIncrease\": 43163.0, \"death\": 74411.0, \"deathIncrease\": 571.0, \"positiveRate\": 0.085, \"state\": \"Non Tri-State\"}, {\"date\": \"2020-06-25T00:00:00\", \"totalTestResultsIncrease\": 540391.0, \"positiveIncrease\": 37938.0, \"death\": 73840.0, \"deathIncrease\": 595.0, \"positiveRate\": 0.07, \"state\": \"Non Tri-State\"}, {\"date\": \"2020-06-24T00:00:00\", \"totalTestResultsIncrease\": 445391.0, \"positiveIncrease\": 37931.0, \"death\": 73245.0, \"deathIncrease\": 652.0, \"positiveRate\": 0.085, \"state\": \"Non Tri-State\"}, {\"date\": \"2020-06-23T00:00:00\", \"totalTestResultsIncrease\": 428442.0, \"positiveIncrease\": 31988.0, \"death\": 72593.0, \"deathIncrease\": 613.0, \"positiveRate\": 0.075, \"state\": \"Non Tri-State\"}, {\"date\": \"2020-06-22T00:00:00\", \"totalTestResultsIncrease\": 381042.0, \"positiveIncrease\": 26165.0, \"death\": 71980.0, \"deathIncrease\": 241.0, \"positiveRate\": 0.069, \"state\": \"Non Tri-State\"}, {\"date\": \"2020-06-21T00:00:00\", \"totalTestResultsIncrease\": 415435.0, \"positiveIncrease\": 26272.0, \"death\": 71739.0, \"deathIncrease\": 255.0, \"positiveRate\": 0.063, \"state\": \"Non Tri-State\"}, {\"date\": \"2020-06-20T00:00:00\", \"totalTestResultsIncrease\": 462056.0, \"positiveIncrease\": 30782.0, \"death\": 71484.0, \"deathIncrease\": 569.0, \"positiveRate\": 0.067, \"state\": \"Non Tri-State\"}, {\"date\": \"2020-06-19T00:00:00\", \"totalTestResultsIncrease\": 460285.0, \"positiveIncrease\": 29744.0, \"death\": 70915.0, \"deathIncrease\": 583.0, \"positiveRate\": 0.065, \"state\": \"Non Tri-State\"}, {\"date\": \"2020-06-18T00:00:00\", \"totalTestResultsIncrease\": 416745.0, \"positiveIncrease\": 26494.0, \"death\": 70332.0, \"deathIncrease\": 634.0, \"positiveRate\": 0.064, \"state\": \"Non Tri-State\"}, {\"date\": \"2020-06-17T00:00:00\", \"totalTestResultsIncrease\": 405319.0, \"positiveIncrease\": 22949.0, \"death\": 69698.0, \"deathIncrease\": 695.0, \"positiveRate\": 0.057, \"state\": \"Non Tri-State\"}, {\"date\": \"2020-06-16T00:00:00\", \"totalTestResultsIncrease\": 381827.0, \"positiveIncrease\": 22367.0, \"death\": 69003.0, \"deathIncrease\": 643.0, \"positiveRate\": 0.059, \"state\": \"Non Tri-State\"}, {\"date\": \"2020-06-15T00:00:00\", \"totalTestResultsIncrease\": 352811.0, \"positiveIncrease\": 17521.0, \"death\": 68360.0, \"deathIncrease\": 298.0, \"positiveRate\": 0.05, \"state\": \"Non Tri-State\"}, {\"date\": \"2020-06-14T00:00:00\", \"totalTestResultsIncrease\": 396276.0, \"positiveIncrease\": 20309.0, \"death\": 68062.0, \"deathIncrease\": 280.0, \"positiveRate\": 0.051, \"state\": \"Non Tri-State\"}, {\"date\": \"2020-06-13T00:00:00\", \"totalTestResultsIncrease\": 397734.0, \"positiveIncrease\": 23679.0, \"death\": 67782.0, \"deathIncrease\": 532.0, \"positiveRate\": 0.06, \"state\": \"Non Tri-State\"}, {\"date\": \"2020-06-12T00:00:00\", \"totalTestResultsIncrease\": 512066.0, \"positiveIncrease\": 22079.0, \"death\": 67250.0, \"deathIncrease\": 660.0, \"positiveRate\": 0.043, \"state\": \"Non Tri-State\"}, {\"date\": \"2020-06-11T00:00:00\", \"totalTestResultsIncrease\": 368690.0, \"positiveIncrease\": 20712.0, \"death\": 66590.0, \"deathIncrease\": 768.0, \"positiveRate\": 0.056, \"state\": \"Non Tri-State\"}, {\"date\": \"2020-06-10T00:00:00\", \"totalTestResultsIncrease\": 342283.0, \"positiveIncrease\": 19411.0, \"death\": 65822.0, \"deathIncrease\": 732.0, \"positiveRate\": 0.057, \"state\": \"Non Tri-State\"}, {\"date\": \"2020-06-09T00:00:00\", \"totalTestResultsIncrease\": 351016.0, \"positiveIncrease\": 16106.0, \"death\": 65090.0, \"deathIncrease\": 747.0, \"positiveRate\": 0.046, \"state\": \"Non Tri-State\"}, {\"date\": \"2020-06-08T00:00:00\", \"totalTestResultsIncrease\": 317756.0, \"positiveIncrease\": 15853.0, \"death\": 64343.0, \"deathIncrease\": 569.0, \"positiveRate\": 0.05, \"state\": \"Non Tri-State\"}, {\"date\": \"2020-06-07T00:00:00\", \"totalTestResultsIncrease\": 338933.0, \"positiveIncrease\": 17621.0, \"death\": 63774.0, \"deathIncrease\": 313.0, \"positiveRate\": 0.052, \"state\": \"Non Tri-State\"}, {\"date\": \"2020-06-06T00:00:00\", \"totalTestResultsIncrease\": 425757.0, \"positiveIncrease\": 21083.0, \"death\": 63461.0, \"deathIncrease\": 616.0, \"positiveRate\": 0.05, \"state\": \"Non Tri-State\"}, {\"date\": \"2020-06-05T00:00:00\", \"totalTestResultsIncrease\": 372771.0, \"positiveIncrease\": 21250.0, \"death\": 62845.0, \"deathIncrease\": 671.0, \"positiveRate\": 0.057, \"state\": \"Non Tri-State\"}, {\"date\": \"2020-06-04T00:00:00\", \"totalTestResultsIncrease\": 372027.0, \"positiveIncrease\": 19181.0, \"death\": 62174.0, \"deathIncrease\": 726.0, \"positiveRate\": 0.052, \"state\": \"Non Tri-State\"}, {\"date\": \"2020-06-03T00:00:00\", \"totalTestResultsIncrease\": 379503.0, \"positiveIncrease\": 18632.0, \"death\": 61448.0, \"deathIncrease\": 808.0, \"positiveRate\": 0.049, \"state\": \"Non Tri-State\"}, {\"date\": \"2020-06-02T00:00:00\", \"totalTestResultsIncrease\": 333295.0, \"positiveIncrease\": 17787.0, \"death\": 60640.0, \"deathIncrease\": 838.0, \"positiveRate\": 0.053, \"state\": \"Non Tri-State\"}, {\"date\": \"2020-06-01T00:00:00\", \"totalTestResultsIncrease\": 301576.0, \"positiveIncrease\": 18462.0, \"death\": 59802.0, \"deathIncrease\": 568.0, \"positiveRate\": 0.061, \"state\": \"Non Tri-State\"}, {\"date\": \"2020-05-31T00:00:00\", \"totalTestResultsIncrease\": 333779.0, \"positiveIncrease\": 19513.0, \"death\": 59234.0, \"deathIncrease\": 496.0, \"positiveRate\": 0.058, \"state\": \"Non Tri-State\"}, {\"date\": \"2020-05-30T00:00:00\", \"totalTestResultsIncrease\": 330064.0, \"positiveIncrease\": 21362.0, \"death\": 58738.0, \"deathIncrease\": 714.0, \"positiveRate\": 0.065, \"state\": \"Non Tri-State\"}, {\"date\": \"2020-05-29T00:00:00\", \"totalTestResultsIncrease\": 383466.0, \"positiveIncrease\": 20739.0, \"death\": 58024.0, \"deathIncrease\": 949.0, \"positiveRate\": 0.054, \"state\": \"Non Tri-State\"}, {\"date\": \"2020-05-28T00:00:00\", \"totalTestResultsIncrease\": 337037.0, \"positiveIncrease\": 19375.0, \"death\": 57075.0, \"deathIncrease\": 1062.0, \"positiveRate\": 0.057, \"state\": \"Non Tri-State\"}, {\"date\": \"2020-05-27T00:00:00\", \"totalTestResultsIncrease\": 243077.0, \"positiveIncrease\": 17407.0, \"death\": 56013.0, \"deathIncrease\": 1057.0, \"positiveRate\": 0.072, \"state\": \"Non Tri-State\"}, {\"date\": \"2020-05-26T00:00:00\", \"totalTestResultsIncrease\": 255522.0, \"positiveIncrease\": 14455.0, \"death\": 54956.0, \"deathIncrease\": 490.0, \"positiveRate\": 0.057, \"state\": \"Non Tri-State\"}, {\"date\": \"2020-05-25T00:00:00\", \"totalTestResultsIncrease\": 355385.0, \"positiveIncrease\": 16206.0, \"death\": 54466.0, \"deathIncrease\": 398.0, \"positiveRate\": 0.046, \"state\": \"Non Tri-State\"}]}}, {\"mode\": \"vega-lite\"});\n",
       "</script>"
      ],
      "text/plain": [
       "alt.LayerChart(...)"
      ]
     },
     "execution_count": 14,
     "metadata": {},
     "output_type": "execute_result"
    }
   ],
   "source": [
    "create_plot(non_tristate, 'positiveIncrease')"
   ]
  },
  {
   "cell_type": "code",
   "execution_count": 15,
   "metadata": {},
   "outputs": [
    {
     "data": {
      "text/html": [
       "\n",
       "<div id=\"altair-viz-b9fe3c80d0274d18bcdedd09e43aacc5\"></div>\n",
       "<script type=\"text/javascript\">\n",
       "  (function(spec, embedOpt){\n",
       "    let outputDiv = document.currentScript.previousElementSibling;\n",
       "    if (outputDiv.id !== \"altair-viz-b9fe3c80d0274d18bcdedd09e43aacc5\") {\n",
       "      outputDiv = document.getElementById(\"altair-viz-b9fe3c80d0274d18bcdedd09e43aacc5\");\n",
       "    }\n",
       "    const paths = {\n",
       "      \"vega\": \"https://cdn.jsdelivr.net/npm//vega@5?noext\",\n",
       "      \"vega-lib\": \"https://cdn.jsdelivr.net/npm//vega-lib?noext\",\n",
       "      \"vega-lite\": \"https://cdn.jsdelivr.net/npm//vega-lite@4.8.1?noext\",\n",
       "      \"vega-embed\": \"https://cdn.jsdelivr.net/npm//vega-embed@6?noext\",\n",
       "    };\n",
       "\n",
       "    function loadScript(lib) {\n",
       "      return new Promise(function(resolve, reject) {\n",
       "        var s = document.createElement('script');\n",
       "        s.src = paths[lib];\n",
       "        s.async = true;\n",
       "        s.onload = () => resolve(paths[lib]);\n",
       "        s.onerror = () => reject(`Error loading script: ${paths[lib]}`);\n",
       "        document.getElementsByTagName(\"head\")[0].appendChild(s);\n",
       "      });\n",
       "    }\n",
       "\n",
       "    function showError(err) {\n",
       "      outputDiv.innerHTML = `<div class=\"error\" style=\"color:red;\">${err}</div>`;\n",
       "      throw err;\n",
       "    }\n",
       "\n",
       "    function displayChart(vegaEmbed) {\n",
       "      vegaEmbed(outputDiv, spec, embedOpt)\n",
       "        .catch(err => showError(`Javascript Error: ${err.message}<br>This usually means there's a typo in your chart specification. See the javascript console for the full traceback.`));\n",
       "    }\n",
       "\n",
       "    if(typeof define === \"function\" && define.amd) {\n",
       "      requirejs.config({paths});\n",
       "      require([\"vega-embed\"], displayChart, err => showError(`Error loading script: ${err.message}`));\n",
       "    } else if (typeof vegaEmbed === \"function\") {\n",
       "      displayChart(vegaEmbed);\n",
       "    } else {\n",
       "      loadScript(\"vega\")\n",
       "        .then(() => loadScript(\"vega-lite\"))\n",
       "        .then(() => loadScript(\"vega-embed\"))\n",
       "        .catch(showError)\n",
       "        .then(() => displayChart(vegaEmbed));\n",
       "    }\n",
       "  })({\"config\": {\"view\": {\"continuousWidth\": 400, \"continuousHeight\": 300}}, \"layer\": [{\"mark\": {\"type\": \"point\", \"size\": 50}, \"encoding\": {\"tooltip\": [{\"type\": \"temporal\", \"field\": \"date\"}, {\"type\": \"quantitative\", \"field\": \"positiveRate\"}], \"x\": {\"type\": \"temporal\", \"field\": \"date\"}, \"y\": {\"type\": \"quantitative\", \"field\": \"positiveRate\"}}, \"height\": 400, \"selection\": {\"selector008\": {\"type\": \"interval\", \"bind\": \"scales\", \"encodings\": [\"x\", \"y\"]}}, \"title\": \"Non Tri-State: positiveRate\", \"width\": 800}, {\"mark\": {\"type\": \"line\", \"color\": \"purple\", \"size\": 2}, \"encoding\": {\"x\": {\"type\": \"temporal\", \"field\": \"date\"}, \"y\": {\"type\": \"quantitative\", \"field\": \"rolling_mean\"}}, \"transform\": [{\"window\": [{\"op\": \"mean\", \"field\": \"positiveRate\", \"as\": \"rolling_mean\"}], \"frame\": [0, 3]}]}], \"data\": {\"name\": \"data-6d9747630822ad28643f76584477ea1e\"}, \"$schema\": \"https://vega.github.io/schema/vega-lite/v4.8.1.json\", \"datasets\": {\"data-6d9747630822ad28643f76584477ea1e\": [{\"date\": \"2020-07-19T00:00:00\", \"totalTestResultsIncrease\": 712932.0, \"positiveIncrease\": 63436.0, \"death\": 87768.0, \"deathIncrease\": 503.0, \"positiveRate\": 0.089, \"state\": \"Non Tri-State\"}, {\"date\": \"2020-07-18T00:00:00\", \"totalTestResultsIncrease\": 679432.0, \"positiveIncrease\": 64163.0, \"death\": 87265.0, \"deathIncrease\": 846.0, \"positiveRate\": 0.094, \"state\": \"Non Tri-State\"}, {\"date\": \"2020-07-17T00:00:00\", \"totalTestResultsIncrease\": 750104.0, \"positiveIncrease\": 76264.0, \"death\": 86419.0, \"deathIncrease\": 915.0, \"positiveRate\": 0.102, \"state\": \"Non Tri-State\"}, {\"date\": \"2020-07-16T00:00:00\", \"totalTestResultsIncrease\": 722897.0, \"positiveIncrease\": 69847.0, \"death\": 85504.0, \"deathIncrease\": 896.0, \"positiveRate\": 0.097, \"state\": \"Non Tri-State\"}, {\"date\": \"2020-07-15T00:00:00\", \"totalTestResultsIncrease\": 665748.0, \"positiveIncrease\": 64082.0, \"death\": 84608.0, \"deathIncrease\": 816.0, \"positiveRate\": 0.096, \"state\": \"Non Tri-State\"}, {\"date\": \"2020-07-14T00:00:00\", \"totalTestResultsIncrease\": 676948.0, \"positiveIncrease\": 61554.0, \"death\": 83792.0, \"deathIncrease\": 708.0, \"positiveRate\": 0.091, \"state\": \"Non Tri-State\"}, {\"date\": \"2020-07-13T00:00:00\", \"totalTestResultsIncrease\": 624522.0, \"positiveIncrease\": 57461.0, \"death\": 83084.0, \"deathIncrease\": 275.0, \"positiveRate\": 0.092, \"state\": \"Non Tri-State\"}, {\"date\": \"2020-07-12T00:00:00\", \"totalTestResultsIncrease\": 640580.0, \"positiveIncrease\": 59962.0, \"death\": 82809.0, \"deathIncrease\": 455.0, \"positiveRate\": 0.094, \"state\": \"Non Tri-State\"}, {\"date\": \"2020-07-11T00:00:00\", \"totalTestResultsIncrease\": 528108.0, \"positiveIncrease\": 61946.0, \"death\": 82354.0, \"deathIncrease\": 705.0, \"positiveRate\": 0.117, \"state\": \"Non Tri-State\"}, {\"date\": \"2020-07-10T00:00:00\", \"totalTestResultsIncrease\": 713488.0, \"positiveIncrease\": 65393.0, \"death\": 81649.0, \"deathIncrease\": 814.0, \"positiveRate\": 0.092, \"state\": \"Non Tri-State\"}, {\"date\": \"2020-07-09T00:00:00\", \"totalTestResultsIncrease\": 603478.0, \"positiveIncrease\": 57950.0, \"death\": 80835.0, \"deathIncrease\": 822.0, \"positiveRate\": 0.096, \"state\": \"Non Tri-State\"}, {\"date\": \"2020-07-08T00:00:00\", \"totalTestResultsIncrease\": 545625.0, \"positiveIncrease\": 61219.0, \"death\": 80013.0, \"deathIncrease\": 730.0, \"positiveRate\": 0.112, \"state\": \"Non Tri-State\"}, {\"date\": \"2020-07-07T00:00:00\", \"totalTestResultsIncrease\": 559818.0, \"positiveIncrease\": 50854.0, \"death\": 79283.0, \"deathIncrease\": 859.0, \"positiveRate\": 0.091, \"state\": \"Non Tri-State\"}, {\"date\": \"2020-07-06T00:00:00\", \"totalTestResultsIncrease\": 426359.0, \"positiveIncrease\": 40614.0, \"death\": 78424.0, \"deathIncrease\": 212.0, \"positiveRate\": 0.095, \"state\": \"Non Tri-State\"}, {\"date\": \"2020-07-05T00:00:00\", \"totalTestResultsIncrease\": 567401.0, \"positiveIncrease\": 44887.0, \"death\": 78212.0, \"deathIncrease\": 179.0, \"positiveRate\": 0.079, \"state\": \"Non Tri-State\"}, {\"date\": \"2020-07-04T00:00:00\", \"totalTestResultsIncrease\": 556781.0, \"positiveIncrease\": 53717.0, \"death\": 78033.0, \"deathIncrease\": 270.0, \"positiveRate\": 0.096, \"state\": \"Non Tri-State\"}, {\"date\": \"2020-07-03T00:00:00\", \"totalTestResultsIncrease\": 622997.0, \"positiveIncrease\": 52848.0, \"death\": 77763.0, \"deathIncrease\": 523.0, \"positiveRate\": 0.085, \"state\": \"Non Tri-State\"}, {\"date\": \"2020-07-02T00:00:00\", \"totalTestResultsIncrease\": 561090.0, \"positiveIncrease\": 52449.0, \"death\": 77240.0, \"deathIncrease\": 655.0, \"positiveRate\": 0.093, \"state\": \"Non Tri-State\"}, {\"date\": \"2020-07-01T00:00:00\", \"totalTestResultsIncrease\": 544562.0, \"positiveIncrease\": 49730.0, \"death\": 76585.0, \"deathIncrease\": 645.0, \"positiveRate\": 0.091, \"state\": \"Non Tri-State\"}, {\"date\": \"2020-06-30T00:00:00\", \"totalTestResultsIncrease\": 542112.0, \"positiveIncrease\": 46391.0, \"death\": 75940.0, \"deathIncrease\": 538.0, \"positiveRate\": 0.086, \"state\": \"Non Tri-State\"}, {\"date\": \"2020-06-29T00:00:00\", \"totalTestResultsIncrease\": 562783.0, \"positiveIncrease\": 38635.0, \"death\": 75402.0, \"deathIncrease\": 302.0, \"positiveRate\": 0.069, \"state\": \"Non Tri-State\"}, {\"date\": \"2020-06-28T00:00:00\", \"totalTestResultsIncrease\": 495079.0, \"positiveIncrease\": 40835.0, \"death\": 75100.0, \"deathIncrease\": 234.0, \"positiveRate\": 0.082, \"state\": \"Non Tri-State\"}, {\"date\": \"2020-06-27T00:00:00\", \"totalTestResultsIncrease\": 496340.0, \"positiveIncrease\": 42644.0, \"death\": 74866.0, \"deathIncrease\": 455.0, \"positiveRate\": 0.086, \"state\": \"Non Tri-State\"}, {\"date\": \"2020-06-26T00:00:00\", \"totalTestResultsIncrease\": 506558.0, \"positiveIncrease\": 43163.0, \"death\": 74411.0, \"deathIncrease\": 571.0, \"positiveRate\": 0.085, \"state\": \"Non Tri-State\"}, {\"date\": \"2020-06-25T00:00:00\", \"totalTestResultsIncrease\": 540391.0, \"positiveIncrease\": 37938.0, \"death\": 73840.0, \"deathIncrease\": 595.0, \"positiveRate\": 0.07, \"state\": \"Non Tri-State\"}, {\"date\": \"2020-06-24T00:00:00\", \"totalTestResultsIncrease\": 445391.0, \"positiveIncrease\": 37931.0, \"death\": 73245.0, \"deathIncrease\": 652.0, \"positiveRate\": 0.085, \"state\": \"Non Tri-State\"}, {\"date\": \"2020-06-23T00:00:00\", \"totalTestResultsIncrease\": 428442.0, \"positiveIncrease\": 31988.0, \"death\": 72593.0, \"deathIncrease\": 613.0, \"positiveRate\": 0.075, \"state\": \"Non Tri-State\"}, {\"date\": \"2020-06-22T00:00:00\", \"totalTestResultsIncrease\": 381042.0, \"positiveIncrease\": 26165.0, \"death\": 71980.0, \"deathIncrease\": 241.0, \"positiveRate\": 0.069, \"state\": \"Non Tri-State\"}, {\"date\": \"2020-06-21T00:00:00\", \"totalTestResultsIncrease\": 415435.0, \"positiveIncrease\": 26272.0, \"death\": 71739.0, \"deathIncrease\": 255.0, \"positiveRate\": 0.063, \"state\": \"Non Tri-State\"}, {\"date\": \"2020-06-20T00:00:00\", \"totalTestResultsIncrease\": 462056.0, \"positiveIncrease\": 30782.0, \"death\": 71484.0, \"deathIncrease\": 569.0, \"positiveRate\": 0.067, \"state\": \"Non Tri-State\"}, {\"date\": \"2020-06-19T00:00:00\", \"totalTestResultsIncrease\": 460285.0, \"positiveIncrease\": 29744.0, \"death\": 70915.0, \"deathIncrease\": 583.0, \"positiveRate\": 0.065, \"state\": \"Non Tri-State\"}, {\"date\": \"2020-06-18T00:00:00\", \"totalTestResultsIncrease\": 416745.0, \"positiveIncrease\": 26494.0, \"death\": 70332.0, \"deathIncrease\": 634.0, \"positiveRate\": 0.064, \"state\": \"Non Tri-State\"}, {\"date\": \"2020-06-17T00:00:00\", \"totalTestResultsIncrease\": 405319.0, \"positiveIncrease\": 22949.0, \"death\": 69698.0, \"deathIncrease\": 695.0, \"positiveRate\": 0.057, \"state\": \"Non Tri-State\"}, {\"date\": \"2020-06-16T00:00:00\", \"totalTestResultsIncrease\": 381827.0, \"positiveIncrease\": 22367.0, \"death\": 69003.0, \"deathIncrease\": 643.0, \"positiveRate\": 0.059, \"state\": \"Non Tri-State\"}, {\"date\": \"2020-06-15T00:00:00\", \"totalTestResultsIncrease\": 352811.0, \"positiveIncrease\": 17521.0, \"death\": 68360.0, \"deathIncrease\": 298.0, \"positiveRate\": 0.05, \"state\": \"Non Tri-State\"}, {\"date\": \"2020-06-14T00:00:00\", \"totalTestResultsIncrease\": 396276.0, \"positiveIncrease\": 20309.0, \"death\": 68062.0, \"deathIncrease\": 280.0, \"positiveRate\": 0.051, \"state\": \"Non Tri-State\"}, {\"date\": \"2020-06-13T00:00:00\", \"totalTestResultsIncrease\": 397734.0, \"positiveIncrease\": 23679.0, \"death\": 67782.0, \"deathIncrease\": 532.0, \"positiveRate\": 0.06, \"state\": \"Non Tri-State\"}, {\"date\": \"2020-06-12T00:00:00\", \"totalTestResultsIncrease\": 512066.0, \"positiveIncrease\": 22079.0, \"death\": 67250.0, \"deathIncrease\": 660.0, \"positiveRate\": 0.043, \"state\": \"Non Tri-State\"}, {\"date\": \"2020-06-11T00:00:00\", \"totalTestResultsIncrease\": 368690.0, \"positiveIncrease\": 20712.0, \"death\": 66590.0, \"deathIncrease\": 768.0, \"positiveRate\": 0.056, \"state\": \"Non Tri-State\"}, {\"date\": \"2020-06-10T00:00:00\", \"totalTestResultsIncrease\": 342283.0, \"positiveIncrease\": 19411.0, \"death\": 65822.0, \"deathIncrease\": 732.0, \"positiveRate\": 0.057, \"state\": \"Non Tri-State\"}, {\"date\": \"2020-06-09T00:00:00\", \"totalTestResultsIncrease\": 351016.0, \"positiveIncrease\": 16106.0, \"death\": 65090.0, \"deathIncrease\": 747.0, \"positiveRate\": 0.046, \"state\": \"Non Tri-State\"}, {\"date\": \"2020-06-08T00:00:00\", \"totalTestResultsIncrease\": 317756.0, \"positiveIncrease\": 15853.0, \"death\": 64343.0, \"deathIncrease\": 569.0, \"positiveRate\": 0.05, \"state\": \"Non Tri-State\"}, {\"date\": \"2020-06-07T00:00:00\", \"totalTestResultsIncrease\": 338933.0, \"positiveIncrease\": 17621.0, \"death\": 63774.0, \"deathIncrease\": 313.0, \"positiveRate\": 0.052, \"state\": \"Non Tri-State\"}, {\"date\": \"2020-06-06T00:00:00\", \"totalTestResultsIncrease\": 425757.0, \"positiveIncrease\": 21083.0, \"death\": 63461.0, \"deathIncrease\": 616.0, \"positiveRate\": 0.05, \"state\": \"Non Tri-State\"}, {\"date\": \"2020-06-05T00:00:00\", \"totalTestResultsIncrease\": 372771.0, \"positiveIncrease\": 21250.0, \"death\": 62845.0, \"deathIncrease\": 671.0, \"positiveRate\": 0.057, \"state\": \"Non Tri-State\"}, {\"date\": \"2020-06-04T00:00:00\", \"totalTestResultsIncrease\": 372027.0, \"positiveIncrease\": 19181.0, \"death\": 62174.0, \"deathIncrease\": 726.0, \"positiveRate\": 0.052, \"state\": \"Non Tri-State\"}, {\"date\": \"2020-06-03T00:00:00\", \"totalTestResultsIncrease\": 379503.0, \"positiveIncrease\": 18632.0, \"death\": 61448.0, \"deathIncrease\": 808.0, \"positiveRate\": 0.049, \"state\": \"Non Tri-State\"}, {\"date\": \"2020-06-02T00:00:00\", \"totalTestResultsIncrease\": 333295.0, \"positiveIncrease\": 17787.0, \"death\": 60640.0, \"deathIncrease\": 838.0, \"positiveRate\": 0.053, \"state\": \"Non Tri-State\"}, {\"date\": \"2020-06-01T00:00:00\", \"totalTestResultsIncrease\": 301576.0, \"positiveIncrease\": 18462.0, \"death\": 59802.0, \"deathIncrease\": 568.0, \"positiveRate\": 0.061, \"state\": \"Non Tri-State\"}, {\"date\": \"2020-05-31T00:00:00\", \"totalTestResultsIncrease\": 333779.0, \"positiveIncrease\": 19513.0, \"death\": 59234.0, \"deathIncrease\": 496.0, \"positiveRate\": 0.058, \"state\": \"Non Tri-State\"}, {\"date\": \"2020-05-30T00:00:00\", \"totalTestResultsIncrease\": 330064.0, \"positiveIncrease\": 21362.0, \"death\": 58738.0, \"deathIncrease\": 714.0, \"positiveRate\": 0.065, \"state\": \"Non Tri-State\"}, {\"date\": \"2020-05-29T00:00:00\", \"totalTestResultsIncrease\": 383466.0, \"positiveIncrease\": 20739.0, \"death\": 58024.0, \"deathIncrease\": 949.0, \"positiveRate\": 0.054, \"state\": \"Non Tri-State\"}, {\"date\": \"2020-05-28T00:00:00\", \"totalTestResultsIncrease\": 337037.0, \"positiveIncrease\": 19375.0, \"death\": 57075.0, \"deathIncrease\": 1062.0, \"positiveRate\": 0.057, \"state\": \"Non Tri-State\"}, {\"date\": \"2020-05-27T00:00:00\", \"totalTestResultsIncrease\": 243077.0, \"positiveIncrease\": 17407.0, \"death\": 56013.0, \"deathIncrease\": 1057.0, \"positiveRate\": 0.072, \"state\": \"Non Tri-State\"}, {\"date\": \"2020-05-26T00:00:00\", \"totalTestResultsIncrease\": 255522.0, \"positiveIncrease\": 14455.0, \"death\": 54956.0, \"deathIncrease\": 490.0, \"positiveRate\": 0.057, \"state\": \"Non Tri-State\"}, {\"date\": \"2020-05-25T00:00:00\", \"totalTestResultsIncrease\": 355385.0, \"positiveIncrease\": 16206.0, \"death\": 54466.0, \"deathIncrease\": 398.0, \"positiveRate\": 0.046, \"state\": \"Non Tri-State\"}]}}, {\"mode\": \"vega-lite\"});\n",
       "</script>"
      ],
      "text/plain": [
       "alt.LayerChart(...)"
      ]
     },
     "execution_count": 15,
     "metadata": {},
     "output_type": "execute_result"
    }
   ],
   "source": [
    "create_plot(non_tristate, 'positiveRate')"
   ]
  },
  {
   "cell_type": "code",
   "execution_count": 16,
   "metadata": {},
   "outputs": [
    {
     "data": {
      "text/html": [
       "\n",
       "<div id=\"altair-viz-1ebce7d42c8b480c9734eed4fec8f5fa\"></div>\n",
       "<script type=\"text/javascript\">\n",
       "  (function(spec, embedOpt){\n",
       "    let outputDiv = document.currentScript.previousElementSibling;\n",
       "    if (outputDiv.id !== \"altair-viz-1ebce7d42c8b480c9734eed4fec8f5fa\") {\n",
       "      outputDiv = document.getElementById(\"altair-viz-1ebce7d42c8b480c9734eed4fec8f5fa\");\n",
       "    }\n",
       "    const paths = {\n",
       "      \"vega\": \"https://cdn.jsdelivr.net/npm//vega@5?noext\",\n",
       "      \"vega-lib\": \"https://cdn.jsdelivr.net/npm//vega-lib?noext\",\n",
       "      \"vega-lite\": \"https://cdn.jsdelivr.net/npm//vega-lite@4.8.1?noext\",\n",
       "      \"vega-embed\": \"https://cdn.jsdelivr.net/npm//vega-embed@6?noext\",\n",
       "    };\n",
       "\n",
       "    function loadScript(lib) {\n",
       "      return new Promise(function(resolve, reject) {\n",
       "        var s = document.createElement('script');\n",
       "        s.src = paths[lib];\n",
       "        s.async = true;\n",
       "        s.onload = () => resolve(paths[lib]);\n",
       "        s.onerror = () => reject(`Error loading script: ${paths[lib]}`);\n",
       "        document.getElementsByTagName(\"head\")[0].appendChild(s);\n",
       "      });\n",
       "    }\n",
       "\n",
       "    function showError(err) {\n",
       "      outputDiv.innerHTML = `<div class=\"error\" style=\"color:red;\">${err}</div>`;\n",
       "      throw err;\n",
       "    }\n",
       "\n",
       "    function displayChart(vegaEmbed) {\n",
       "      vegaEmbed(outputDiv, spec, embedOpt)\n",
       "        .catch(err => showError(`Javascript Error: ${err.message}<br>This usually means there's a typo in your chart specification. See the javascript console for the full traceback.`));\n",
       "    }\n",
       "\n",
       "    if(typeof define === \"function\" && define.amd) {\n",
       "      requirejs.config({paths});\n",
       "      require([\"vega-embed\"], displayChart, err => showError(`Error loading script: ${err.message}`));\n",
       "    } else if (typeof vegaEmbed === \"function\") {\n",
       "      displayChart(vegaEmbed);\n",
       "    } else {\n",
       "      loadScript(\"vega\")\n",
       "        .then(() => loadScript(\"vega-lite\"))\n",
       "        .then(() => loadScript(\"vega-embed\"))\n",
       "        .catch(showError)\n",
       "        .then(() => displayChart(vegaEmbed));\n",
       "    }\n",
       "  })({\"config\": {\"view\": {\"continuousWidth\": 400, \"continuousHeight\": 300}}, \"layer\": [{\"mark\": {\"type\": \"point\", \"size\": 50}, \"encoding\": {\"tooltip\": [{\"type\": \"temporal\", \"field\": \"date\"}, {\"type\": \"quantitative\", \"field\": \"deathIncrease\"}], \"x\": {\"type\": \"temporal\", \"field\": \"date\"}, \"y\": {\"type\": \"quantitative\", \"field\": \"deathIncrease\"}}, \"height\": 400, \"selection\": {\"selector009\": {\"type\": \"interval\", \"bind\": \"scales\", \"encodings\": [\"x\", \"y\"]}}, \"title\": \"Non Tri-State: deathIncrease\", \"width\": 800}, {\"mark\": {\"type\": \"line\", \"color\": \"purple\", \"size\": 2}, \"encoding\": {\"x\": {\"type\": \"temporal\", \"field\": \"date\"}, \"y\": {\"type\": \"quantitative\", \"field\": \"rolling_mean\"}}, \"transform\": [{\"window\": [{\"op\": \"mean\", \"field\": \"deathIncrease\", \"as\": \"rolling_mean\"}], \"frame\": [0, 3]}]}], \"data\": {\"name\": \"data-6d9747630822ad28643f76584477ea1e\"}, \"$schema\": \"https://vega.github.io/schema/vega-lite/v4.8.1.json\", \"datasets\": {\"data-6d9747630822ad28643f76584477ea1e\": [{\"date\": \"2020-07-19T00:00:00\", \"totalTestResultsIncrease\": 712932.0, \"positiveIncrease\": 63436.0, \"death\": 87768.0, \"deathIncrease\": 503.0, \"positiveRate\": 0.089, \"state\": \"Non Tri-State\"}, {\"date\": \"2020-07-18T00:00:00\", \"totalTestResultsIncrease\": 679432.0, \"positiveIncrease\": 64163.0, \"death\": 87265.0, \"deathIncrease\": 846.0, \"positiveRate\": 0.094, \"state\": \"Non Tri-State\"}, {\"date\": \"2020-07-17T00:00:00\", \"totalTestResultsIncrease\": 750104.0, \"positiveIncrease\": 76264.0, \"death\": 86419.0, \"deathIncrease\": 915.0, \"positiveRate\": 0.102, \"state\": \"Non Tri-State\"}, {\"date\": \"2020-07-16T00:00:00\", \"totalTestResultsIncrease\": 722897.0, \"positiveIncrease\": 69847.0, \"death\": 85504.0, \"deathIncrease\": 896.0, \"positiveRate\": 0.097, \"state\": \"Non Tri-State\"}, {\"date\": \"2020-07-15T00:00:00\", \"totalTestResultsIncrease\": 665748.0, \"positiveIncrease\": 64082.0, \"death\": 84608.0, \"deathIncrease\": 816.0, \"positiveRate\": 0.096, \"state\": \"Non Tri-State\"}, {\"date\": \"2020-07-14T00:00:00\", \"totalTestResultsIncrease\": 676948.0, \"positiveIncrease\": 61554.0, \"death\": 83792.0, \"deathIncrease\": 708.0, \"positiveRate\": 0.091, \"state\": \"Non Tri-State\"}, {\"date\": \"2020-07-13T00:00:00\", \"totalTestResultsIncrease\": 624522.0, \"positiveIncrease\": 57461.0, \"death\": 83084.0, \"deathIncrease\": 275.0, \"positiveRate\": 0.092, \"state\": \"Non Tri-State\"}, {\"date\": \"2020-07-12T00:00:00\", \"totalTestResultsIncrease\": 640580.0, \"positiveIncrease\": 59962.0, \"death\": 82809.0, \"deathIncrease\": 455.0, \"positiveRate\": 0.094, \"state\": \"Non Tri-State\"}, {\"date\": \"2020-07-11T00:00:00\", \"totalTestResultsIncrease\": 528108.0, \"positiveIncrease\": 61946.0, \"death\": 82354.0, \"deathIncrease\": 705.0, \"positiveRate\": 0.117, \"state\": \"Non Tri-State\"}, {\"date\": \"2020-07-10T00:00:00\", \"totalTestResultsIncrease\": 713488.0, \"positiveIncrease\": 65393.0, \"death\": 81649.0, \"deathIncrease\": 814.0, \"positiveRate\": 0.092, \"state\": \"Non Tri-State\"}, {\"date\": \"2020-07-09T00:00:00\", \"totalTestResultsIncrease\": 603478.0, \"positiveIncrease\": 57950.0, \"death\": 80835.0, \"deathIncrease\": 822.0, \"positiveRate\": 0.096, \"state\": \"Non Tri-State\"}, {\"date\": \"2020-07-08T00:00:00\", \"totalTestResultsIncrease\": 545625.0, \"positiveIncrease\": 61219.0, \"death\": 80013.0, \"deathIncrease\": 730.0, \"positiveRate\": 0.112, \"state\": \"Non Tri-State\"}, {\"date\": \"2020-07-07T00:00:00\", \"totalTestResultsIncrease\": 559818.0, \"positiveIncrease\": 50854.0, \"death\": 79283.0, \"deathIncrease\": 859.0, \"positiveRate\": 0.091, \"state\": \"Non Tri-State\"}, {\"date\": \"2020-07-06T00:00:00\", \"totalTestResultsIncrease\": 426359.0, \"positiveIncrease\": 40614.0, \"death\": 78424.0, \"deathIncrease\": 212.0, \"positiveRate\": 0.095, \"state\": \"Non Tri-State\"}, {\"date\": \"2020-07-05T00:00:00\", \"totalTestResultsIncrease\": 567401.0, \"positiveIncrease\": 44887.0, \"death\": 78212.0, \"deathIncrease\": 179.0, \"positiveRate\": 0.079, \"state\": \"Non Tri-State\"}, {\"date\": \"2020-07-04T00:00:00\", \"totalTestResultsIncrease\": 556781.0, \"positiveIncrease\": 53717.0, \"death\": 78033.0, \"deathIncrease\": 270.0, \"positiveRate\": 0.096, \"state\": \"Non Tri-State\"}, {\"date\": \"2020-07-03T00:00:00\", \"totalTestResultsIncrease\": 622997.0, \"positiveIncrease\": 52848.0, \"death\": 77763.0, \"deathIncrease\": 523.0, \"positiveRate\": 0.085, \"state\": \"Non Tri-State\"}, {\"date\": \"2020-07-02T00:00:00\", \"totalTestResultsIncrease\": 561090.0, \"positiveIncrease\": 52449.0, \"death\": 77240.0, \"deathIncrease\": 655.0, \"positiveRate\": 0.093, \"state\": \"Non Tri-State\"}, {\"date\": \"2020-07-01T00:00:00\", \"totalTestResultsIncrease\": 544562.0, \"positiveIncrease\": 49730.0, \"death\": 76585.0, \"deathIncrease\": 645.0, \"positiveRate\": 0.091, \"state\": \"Non Tri-State\"}, {\"date\": \"2020-06-30T00:00:00\", \"totalTestResultsIncrease\": 542112.0, \"positiveIncrease\": 46391.0, \"death\": 75940.0, \"deathIncrease\": 538.0, \"positiveRate\": 0.086, \"state\": \"Non Tri-State\"}, {\"date\": \"2020-06-29T00:00:00\", \"totalTestResultsIncrease\": 562783.0, \"positiveIncrease\": 38635.0, \"death\": 75402.0, \"deathIncrease\": 302.0, \"positiveRate\": 0.069, \"state\": \"Non Tri-State\"}, {\"date\": \"2020-06-28T00:00:00\", \"totalTestResultsIncrease\": 495079.0, \"positiveIncrease\": 40835.0, \"death\": 75100.0, \"deathIncrease\": 234.0, \"positiveRate\": 0.082, \"state\": \"Non Tri-State\"}, {\"date\": \"2020-06-27T00:00:00\", \"totalTestResultsIncrease\": 496340.0, \"positiveIncrease\": 42644.0, \"death\": 74866.0, \"deathIncrease\": 455.0, \"positiveRate\": 0.086, \"state\": \"Non Tri-State\"}, {\"date\": \"2020-06-26T00:00:00\", \"totalTestResultsIncrease\": 506558.0, \"positiveIncrease\": 43163.0, \"death\": 74411.0, \"deathIncrease\": 571.0, \"positiveRate\": 0.085, \"state\": \"Non Tri-State\"}, {\"date\": \"2020-06-25T00:00:00\", \"totalTestResultsIncrease\": 540391.0, \"positiveIncrease\": 37938.0, \"death\": 73840.0, \"deathIncrease\": 595.0, \"positiveRate\": 0.07, \"state\": \"Non Tri-State\"}, {\"date\": \"2020-06-24T00:00:00\", \"totalTestResultsIncrease\": 445391.0, \"positiveIncrease\": 37931.0, \"death\": 73245.0, \"deathIncrease\": 652.0, \"positiveRate\": 0.085, \"state\": \"Non Tri-State\"}, {\"date\": \"2020-06-23T00:00:00\", \"totalTestResultsIncrease\": 428442.0, \"positiveIncrease\": 31988.0, \"death\": 72593.0, \"deathIncrease\": 613.0, \"positiveRate\": 0.075, \"state\": \"Non Tri-State\"}, {\"date\": \"2020-06-22T00:00:00\", \"totalTestResultsIncrease\": 381042.0, \"positiveIncrease\": 26165.0, \"death\": 71980.0, \"deathIncrease\": 241.0, \"positiveRate\": 0.069, \"state\": \"Non Tri-State\"}, {\"date\": \"2020-06-21T00:00:00\", \"totalTestResultsIncrease\": 415435.0, \"positiveIncrease\": 26272.0, \"death\": 71739.0, \"deathIncrease\": 255.0, \"positiveRate\": 0.063, \"state\": \"Non Tri-State\"}, {\"date\": \"2020-06-20T00:00:00\", \"totalTestResultsIncrease\": 462056.0, \"positiveIncrease\": 30782.0, \"death\": 71484.0, \"deathIncrease\": 569.0, \"positiveRate\": 0.067, \"state\": \"Non Tri-State\"}, {\"date\": \"2020-06-19T00:00:00\", \"totalTestResultsIncrease\": 460285.0, \"positiveIncrease\": 29744.0, \"death\": 70915.0, \"deathIncrease\": 583.0, \"positiveRate\": 0.065, \"state\": \"Non Tri-State\"}, {\"date\": \"2020-06-18T00:00:00\", \"totalTestResultsIncrease\": 416745.0, \"positiveIncrease\": 26494.0, \"death\": 70332.0, \"deathIncrease\": 634.0, \"positiveRate\": 0.064, \"state\": \"Non Tri-State\"}, {\"date\": \"2020-06-17T00:00:00\", \"totalTestResultsIncrease\": 405319.0, \"positiveIncrease\": 22949.0, \"death\": 69698.0, \"deathIncrease\": 695.0, \"positiveRate\": 0.057, \"state\": \"Non Tri-State\"}, {\"date\": \"2020-06-16T00:00:00\", \"totalTestResultsIncrease\": 381827.0, \"positiveIncrease\": 22367.0, \"death\": 69003.0, \"deathIncrease\": 643.0, \"positiveRate\": 0.059, \"state\": \"Non Tri-State\"}, {\"date\": \"2020-06-15T00:00:00\", \"totalTestResultsIncrease\": 352811.0, \"positiveIncrease\": 17521.0, \"death\": 68360.0, \"deathIncrease\": 298.0, \"positiveRate\": 0.05, \"state\": \"Non Tri-State\"}, {\"date\": \"2020-06-14T00:00:00\", \"totalTestResultsIncrease\": 396276.0, \"positiveIncrease\": 20309.0, \"death\": 68062.0, \"deathIncrease\": 280.0, \"positiveRate\": 0.051, \"state\": \"Non Tri-State\"}, {\"date\": \"2020-06-13T00:00:00\", \"totalTestResultsIncrease\": 397734.0, \"positiveIncrease\": 23679.0, \"death\": 67782.0, \"deathIncrease\": 532.0, \"positiveRate\": 0.06, \"state\": \"Non Tri-State\"}, {\"date\": \"2020-06-12T00:00:00\", \"totalTestResultsIncrease\": 512066.0, \"positiveIncrease\": 22079.0, \"death\": 67250.0, \"deathIncrease\": 660.0, \"positiveRate\": 0.043, \"state\": \"Non Tri-State\"}, {\"date\": \"2020-06-11T00:00:00\", \"totalTestResultsIncrease\": 368690.0, \"positiveIncrease\": 20712.0, \"death\": 66590.0, \"deathIncrease\": 768.0, \"positiveRate\": 0.056, \"state\": \"Non Tri-State\"}, {\"date\": \"2020-06-10T00:00:00\", \"totalTestResultsIncrease\": 342283.0, \"positiveIncrease\": 19411.0, \"death\": 65822.0, \"deathIncrease\": 732.0, \"positiveRate\": 0.057, \"state\": \"Non Tri-State\"}, {\"date\": \"2020-06-09T00:00:00\", \"totalTestResultsIncrease\": 351016.0, \"positiveIncrease\": 16106.0, \"death\": 65090.0, \"deathIncrease\": 747.0, \"positiveRate\": 0.046, \"state\": \"Non Tri-State\"}, {\"date\": \"2020-06-08T00:00:00\", \"totalTestResultsIncrease\": 317756.0, \"positiveIncrease\": 15853.0, \"death\": 64343.0, \"deathIncrease\": 569.0, \"positiveRate\": 0.05, \"state\": \"Non Tri-State\"}, {\"date\": \"2020-06-07T00:00:00\", \"totalTestResultsIncrease\": 338933.0, \"positiveIncrease\": 17621.0, \"death\": 63774.0, \"deathIncrease\": 313.0, \"positiveRate\": 0.052, \"state\": \"Non Tri-State\"}, {\"date\": \"2020-06-06T00:00:00\", \"totalTestResultsIncrease\": 425757.0, \"positiveIncrease\": 21083.0, \"death\": 63461.0, \"deathIncrease\": 616.0, \"positiveRate\": 0.05, \"state\": \"Non Tri-State\"}, {\"date\": \"2020-06-05T00:00:00\", \"totalTestResultsIncrease\": 372771.0, \"positiveIncrease\": 21250.0, \"death\": 62845.0, \"deathIncrease\": 671.0, \"positiveRate\": 0.057, \"state\": \"Non Tri-State\"}, {\"date\": \"2020-06-04T00:00:00\", \"totalTestResultsIncrease\": 372027.0, \"positiveIncrease\": 19181.0, \"death\": 62174.0, \"deathIncrease\": 726.0, \"positiveRate\": 0.052, \"state\": \"Non Tri-State\"}, {\"date\": \"2020-06-03T00:00:00\", \"totalTestResultsIncrease\": 379503.0, \"positiveIncrease\": 18632.0, \"death\": 61448.0, \"deathIncrease\": 808.0, \"positiveRate\": 0.049, \"state\": \"Non Tri-State\"}, {\"date\": \"2020-06-02T00:00:00\", \"totalTestResultsIncrease\": 333295.0, \"positiveIncrease\": 17787.0, \"death\": 60640.0, \"deathIncrease\": 838.0, \"positiveRate\": 0.053, \"state\": \"Non Tri-State\"}, {\"date\": \"2020-06-01T00:00:00\", \"totalTestResultsIncrease\": 301576.0, \"positiveIncrease\": 18462.0, \"death\": 59802.0, \"deathIncrease\": 568.0, \"positiveRate\": 0.061, \"state\": \"Non Tri-State\"}, {\"date\": \"2020-05-31T00:00:00\", \"totalTestResultsIncrease\": 333779.0, \"positiveIncrease\": 19513.0, \"death\": 59234.0, \"deathIncrease\": 496.0, \"positiveRate\": 0.058, \"state\": \"Non Tri-State\"}, {\"date\": \"2020-05-30T00:00:00\", \"totalTestResultsIncrease\": 330064.0, \"positiveIncrease\": 21362.0, \"death\": 58738.0, \"deathIncrease\": 714.0, \"positiveRate\": 0.065, \"state\": \"Non Tri-State\"}, {\"date\": \"2020-05-29T00:00:00\", \"totalTestResultsIncrease\": 383466.0, \"positiveIncrease\": 20739.0, \"death\": 58024.0, \"deathIncrease\": 949.0, \"positiveRate\": 0.054, \"state\": \"Non Tri-State\"}, {\"date\": \"2020-05-28T00:00:00\", \"totalTestResultsIncrease\": 337037.0, \"positiveIncrease\": 19375.0, \"death\": 57075.0, \"deathIncrease\": 1062.0, \"positiveRate\": 0.057, \"state\": \"Non Tri-State\"}, {\"date\": \"2020-05-27T00:00:00\", \"totalTestResultsIncrease\": 243077.0, \"positiveIncrease\": 17407.0, \"death\": 56013.0, \"deathIncrease\": 1057.0, \"positiveRate\": 0.072, \"state\": \"Non Tri-State\"}, {\"date\": \"2020-05-26T00:00:00\", \"totalTestResultsIncrease\": 255522.0, \"positiveIncrease\": 14455.0, \"death\": 54956.0, \"deathIncrease\": 490.0, \"positiveRate\": 0.057, \"state\": \"Non Tri-State\"}, {\"date\": \"2020-05-25T00:00:00\", \"totalTestResultsIncrease\": 355385.0, \"positiveIncrease\": 16206.0, \"death\": 54466.0, \"deathIncrease\": 398.0, \"positiveRate\": 0.046, \"state\": \"Non Tri-State\"}]}}, {\"mode\": \"vega-lite\"});\n",
       "</script>"
      ],
      "text/plain": [
       "alt.LayerChart(...)"
      ]
     },
     "execution_count": 16,
     "metadata": {},
     "output_type": "execute_result"
    }
   ],
   "source": [
    "create_plot(non_tristate, 'deathIncrease')"
   ]
  }
 ],
 "metadata": {
  "kernelspec": {
   "display_name": "Python 3",
   "language": "python",
   "name": "python3"
  },
  "language_info": {
   "codemirror_mode": {
    "name": "ipython",
    "version": 3
   },
   "file_extension": ".py",
   "mimetype": "text/x-python",
   "name": "python",
   "nbconvert_exporter": "python",
   "pygments_lexer": "ipython3",
   "version": "3.8.3"
  }
 },
 "nbformat": 4,
 "nbformat_minor": 4
}
