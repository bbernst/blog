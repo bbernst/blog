{
 "cells": [
  {
   "cell_type": "markdown",
   "metadata": {
    "papermill": {
     "duration": 0.018705,
     "end_time": "2020-12-15T09:27:12.448772",
     "exception": false,
     "start_time": "2020-12-15T09:27:12.430067",
     "status": "completed"
    },
    "tags": []
   },
   "source": [
    "# \"COVID-19 plots\"\n",
    "> \"Interactive plots with daily updates\"\n",
    "\n",
    "- author: bbernst\n",
    "- toc: true\n",
    "- branch: master\n",
    "- badges: true\n",
    "- comments: true\n",
    "- categories: [healthcare, covid]\n",
    "- image: images/covid_plots/covid_mask.png\n",
    "- hide: false\n",
    "- search_exclude: true"
   ]
  },
  {
   "cell_type": "markdown",
   "metadata": {
    "papermill": {
     "duration": 0.014393,
     "end_time": "2020-12-15T09:27:12.480374",
     "exception": false,
     "start_time": "2020-12-15T09:27:12.465981",
     "status": "completed"
    },
    "tags": []
   },
   "source": [
    "I wanted to make a simple COVID-19 post to accomplish two main goals:\n",
    "1. Easily see the specific plots I'm interested in\n",
    "1. Update these plots every day, automatically\n",
    "\n",
    "Enter [fastpages](https://github.com/fastai/fastpages) and [github actions](https://github.com/features/actions). I'd been meaning to set up a blog with fastpages for a while and thought this would be a good reason to try it out. The documentation was great and I was able to set up automatic updates by using https://covid19dashboards.com/ as a guide.\n",
    "\n",
    "The data for this post comes from https://covidtracking.com/, which updates by 5pm each day, and I have my dashboard update at 6:30pm. For each geography -- so far that's the US, New York, and Non Tri-State -- I look at daily positive cases, positive rate, and deaths. Be sure to hover around on each of the plots, they have helpful interactive tooltips to make reading the data more intuitive."
   ]
  },
  {
   "cell_type": "code",
   "execution_count": 1,
   "metadata": {
    "execution": {
     "iopub.execute_input": "2020-12-15T09:27:12.519254Z",
     "iopub.status.busy": "2020-12-15T09:27:12.518652Z",
     "iopub.status.idle": "2020-12-15T09:27:12.994508Z",
     "shell.execute_reply": "2020-12-15T09:27:12.993856Z"
    },
    "papermill": {
     "duration": 0.49953,
     "end_time": "2020-12-15T09:27:12.994717",
     "exception": false,
     "start_time": "2020-12-15T09:27:12.495187",
     "status": "completed"
    },
    "tags": []
   },
   "outputs": [],
   "source": [
    "#collapse\n",
    "from typing import Callable, Literal\n",
    "import pandas as pd\n",
    "import altair as alt"
   ]
  },
  {
   "cell_type": "code",
   "execution_count": 2,
   "metadata": {
    "execution": {
     "iopub.execute_input": "2020-12-15T09:27:13.032619Z",
     "iopub.status.busy": "2020-12-15T09:27:13.031946Z",
     "iopub.status.idle": "2020-12-15T09:27:13.056571Z",
     "shell.execute_reply": "2020-12-15T09:27:13.055940Z"
    },
    "papermill": {
     "duration": 0.045657,
     "end_time": "2020-12-15T09:27:13.056743",
     "exception": false,
     "start_time": "2020-12-15T09:27:13.011086",
     "status": "completed"
    },
    "tags": []
   },
   "outputs": [
    {
     "name": "stdout",
     "output_type": "stream",
     "text": [
      "Last updated at (ET): 2020-12-15 04:27:13 AM\n"
     ]
    }
   ],
   "source": [
    "#hide_input\n",
    "current_utc = pd.Timestamp.now(tz='America/New_York').strftime('%Y-%m-%d %I:%M:%S %p')\n",
    "print(f\"Last updated at (ET): {current_utc}\")"
   ]
  },
  {
   "cell_type": "markdown",
   "metadata": {
    "papermill": {
     "duration": 0.017383,
     "end_time": "2020-12-15T09:27:13.092037",
     "exception": false,
     "start_time": "2020-12-15T09:27:13.074654",
     "status": "completed"
    },
    "tags": []
   },
   "source": [
    "# Data"
   ]
  },
  {
   "cell_type": "code",
   "execution_count": 3,
   "metadata": {
    "execution": {
     "iopub.execute_input": "2020-12-15T09:27:13.134341Z",
     "iopub.status.busy": "2020-12-15T09:27:13.133665Z",
     "iopub.status.idle": "2020-12-15T09:27:13.869274Z",
     "shell.execute_reply": "2020-12-15T09:27:13.868720Z"
    },
    "papermill": {
     "duration": 0.756945,
     "end_time": "2020-12-15T09:27:13.869430",
     "exception": false,
     "start_time": "2020-12-15T09:27:13.112485",
     "status": "completed"
    },
    "tags": []
   },
   "outputs": [],
   "source": [
    "df = pd.read_csv('https://covidtracking.com/api/states/daily.csv')"
   ]
  },
  {
   "cell_type": "markdown",
   "metadata": {
    "papermill": {
     "duration": 0.016506,
     "end_time": "2020-12-15T09:27:13.901770",
     "exception": false,
     "start_time": "2020-12-15T09:27:13.885264",
     "status": "completed"
    },
    "tags": []
   },
   "source": [
    "# Helpers"
   ]
  },
  {
   "cell_type": "code",
   "execution_count": 4,
   "metadata": {
    "execution": {
     "iopub.execute_input": "2020-12-15T09:27:13.947279Z",
     "iopub.status.busy": "2020-12-15T09:27:13.946568Z",
     "iopub.status.idle": "2020-12-15T09:27:13.949189Z",
     "shell.execute_reply": "2020-12-15T09:27:13.949665Z"
    },
    "papermill": {
     "duration": 0.032707,
     "end_time": "2020-12-15T09:27:13.949923",
     "exception": false,
     "start_time": "2020-12-15T09:27:13.917216",
     "status": "completed"
    },
    "tags": []
   },
   "outputs": [],
   "source": [
    "#collapse\n",
    "def create_df(df: pd.DataFrame, \n",
    "              filter_f: Callable, \n",
    "              state_name: str):\n",
    "    out_df = (\n",
    "     df\n",
    "     .assign(date = lambda d: pd.to_datetime(d['date'], format='%Y%m%d'))\n",
    "     .loc[filter_f, :]\n",
    "     .groupby('date')\n",
    "     .apply(lambda d: pd.Series(dict(\n",
    "         totalTestResultsIncrease = d['totalTestResultsIncrease'].sum(),\n",
    "         positiveIncrease = d['positiveIncrease'].sum(),\n",
    "         death = d['death'].sum(),\n",
    "         deathIncrease = d['deathIncrease'].sum()\n",
    "     )))\n",
    "     .reset_index()\n",
    "     .assign(positiveRate = lambda d: round(d['positiveIncrease'] / d['totalTestResultsIncrease'], 3))\n",
    "     .sort_values('date', ascending=True)\n",
    "     .assign(state = state_name)\n",
    "     .reset_index(drop=True)\n",
    "    )\n",
    "    \n",
    "    return out_df"
   ]
  },
  {
   "cell_type": "code",
   "execution_count": 5,
   "metadata": {
    "execution": {
     "iopub.execute_input": "2020-12-15T09:27:13.994184Z",
     "iopub.status.busy": "2020-12-15T09:27:13.993538Z",
     "iopub.status.idle": "2020-12-15T09:27:13.996013Z",
     "shell.execute_reply": "2020-12-15T09:27:13.996534Z"
    },
    "papermill": {
     "duration": 0.028745,
     "end_time": "2020-12-15T09:27:13.996683",
     "exception": false,
     "start_time": "2020-12-15T09:27:13.967938",
     "status": "completed"
    },
    "tags": []
   },
   "outputs": [],
   "source": [
    "#collapse\n",
    "def create_plot(df: pd.DataFrame, \n",
    "                column: Literal['totalTestResultsIncrease', \n",
    "                                'positiveIncrease', \n",
    "                                'death',\n",
    "                                'deathIncrease', \n",
    "                                'positiveRate'],\n",
    "                period: int = 7*8):\n",
    "    df = (\n",
    "     df\n",
    "     .assign(sma7d = lambda d: d[column].rolling(window=7).mean().round(3))\n",
    "     .loc[lambda d: d['date'] >= pd.to_datetime('today') - period * pd.Timedelta('1 days'), :]\n",
    "     .reset_index(drop=True)\n",
    "    )\n",
    "    the_state = df['state'][0]\n",
    "    label = alt.selection_single(\n",
    "        encodings=['x'], on='mouseover', nearest=True, empty='none')\n",
    "    \n",
    "    base = alt.Chart().mark_point(size=75).encode(\n",
    "        x='date:T',\n",
    "        y=f'{column}:Q',\n",
    "        tooltip=['date', f'{column}:Q', 'sma7d:Q']\n",
    "    )\n",
    "\n",
    "    sma = alt.Chart().mark_line(color='purple').encode(\n",
    "        x='date:T',\n",
    "        y='sma7d:Q'\n",
    "    )\n",
    "\n",
    "    layers = alt.layer(\n",
    "        base + sma,\n",
    "\n",
    "        # add a rule mark to serve as a guide line\n",
    "        alt.Chart().mark_rule(color='#aaa').encode(\n",
    "            x='date:T'\n",
    "        ).transform_filter(label),\n",
    "\n",
    "        # add circle marks for selected time points, hide unselected points\n",
    "        base.mark_circle().encode(\n",
    "            opacity=alt.condition(label, alt.value(1), alt.value(0))\n",
    "        ).add_selection(label),\n",
    "\n",
    "        # add white stroked text to provide a legible background for labels\n",
    "        base.mark_text(align='left', dx=5, dy=-5, stroke='white', strokeWidth=2).encode(\n",
    "            text=f'{column}:Q'\n",
    "        ).transform_filter(label),\n",
    "\n",
    "        # add text labels\n",
    "        base.mark_text(align='left', dx=5, dy=-5).encode(\n",
    "            text=f'{column}:Q'\n",
    "        ).transform_filter(label),\n",
    "        \n",
    "        data=df\n",
    "    ).properties(\n",
    "        title=f'{the_state}: {column}',\n",
    "        width=500,\n",
    "        height=400\n",
    "    )\n",
    "    \n",
    "    return layers.interactive()"
   ]
  },
  {
   "cell_type": "markdown",
   "metadata": {
    "papermill": {
     "duration": 0.015197,
     "end_time": "2020-12-15T09:27:14.026173",
     "exception": false,
     "start_time": "2020-12-15T09:27:14.010976",
     "status": "completed"
    },
    "tags": []
   },
   "source": [
    "# Plots"
   ]
  },
  {
   "cell_type": "markdown",
   "metadata": {
    "papermill": {
     "duration": 0.014235,
     "end_time": "2020-12-15T09:27:14.054552",
     "exception": false,
     "start_time": "2020-12-15T09:27:14.040317",
     "status": "completed"
    },
    "tags": []
   },
   "source": [
    "## US"
   ]
  },
  {
   "cell_type": "code",
   "execution_count": 6,
   "metadata": {
    "execution": {
     "iopub.execute_input": "2020-12-15T09:27:14.089430Z",
     "iopub.status.busy": "2020-12-15T09:27:14.088733Z",
     "iopub.status.idle": "2020-12-15T09:27:14.552474Z",
     "shell.execute_reply": "2020-12-15T09:27:14.552982Z"
    },
    "papermill": {
     "duration": 0.482134,
     "end_time": "2020-12-15T09:27:14.553180",
     "exception": false,
     "start_time": "2020-12-15T09:27:14.071046",
     "status": "completed"
    },
    "tags": []
   },
   "outputs": [],
   "source": [
    "us = create_df(df, lambda d: d.index > 0, 'US')"
   ]
  },
  {
   "cell_type": "code",
   "execution_count": 7,
   "metadata": {
    "execution": {
     "iopub.execute_input": "2020-12-15T09:27:14.601834Z",
     "iopub.status.busy": "2020-12-15T09:27:14.587756Z",
     "iopub.status.idle": "2020-12-15T09:27:14.708368Z",
     "shell.execute_reply": "2020-12-15T09:27:14.708956Z"
    },
    "papermill": {
     "duration": 0.140921,
     "end_time": "2020-12-15T09:27:14.709122",
     "exception": false,
     "start_time": "2020-12-15T09:27:14.568201",
     "status": "completed"
    },
    "tags": []
   },
   "outputs": [
    {
     "data": {
      "text/html": [
       "\n",
       "<div id=\"altair-viz-506a5b438da748f088942edd3d0df705\"></div>\n",
       "<script type=\"text/javascript\">\n",
       "  (function(spec, embedOpt){\n",
       "    let outputDiv = document.currentScript.previousElementSibling;\n",
       "    if (outputDiv.id !== \"altair-viz-506a5b438da748f088942edd3d0df705\") {\n",
       "      outputDiv = document.getElementById(\"altair-viz-506a5b438da748f088942edd3d0df705\");\n",
       "    }\n",
       "    const paths = {\n",
       "      \"vega\": \"https://cdn.jsdelivr.net/npm//vega@5?noext\",\n",
       "      \"vega-lib\": \"https://cdn.jsdelivr.net/npm//vega-lib?noext\",\n",
       "      \"vega-lite\": \"https://cdn.jsdelivr.net/npm//vega-lite@4.8.1?noext\",\n",
       "      \"vega-embed\": \"https://cdn.jsdelivr.net/npm//vega-embed@6?noext\",\n",
       "    };\n",
       "\n",
       "    function loadScript(lib) {\n",
       "      return new Promise(function(resolve, reject) {\n",
       "        var s = document.createElement('script');\n",
       "        s.src = paths[lib];\n",
       "        s.async = true;\n",
       "        s.onload = () => resolve(paths[lib]);\n",
       "        s.onerror = () => reject(`Error loading script: ${paths[lib]}`);\n",
       "        document.getElementsByTagName(\"head\")[0].appendChild(s);\n",
       "      });\n",
       "    }\n",
       "\n",
       "    function showError(err) {\n",
       "      outputDiv.innerHTML = `<div class=\"error\" style=\"color:red;\">${err}</div>`;\n",
       "      throw err;\n",
       "    }\n",
       "\n",
       "    function displayChart(vegaEmbed) {\n",
       "      vegaEmbed(outputDiv, spec, embedOpt)\n",
       "        .catch(err => showError(`Javascript Error: ${err.message}<br>This usually means there's a typo in your chart specification. See the javascript console for the full traceback.`));\n",
       "    }\n",
       "\n",
       "    if(typeof define === \"function\" && define.amd) {\n",
       "      requirejs.config({paths});\n",
       "      require([\"vega-embed\"], displayChart, err => showError(`Error loading script: ${err.message}`));\n",
       "    } else if (typeof vegaEmbed === \"function\") {\n",
       "      displayChart(vegaEmbed);\n",
       "    } else {\n",
       "      loadScript(\"vega\")\n",
       "        .then(() => loadScript(\"vega-lite\"))\n",
       "        .then(() => loadScript(\"vega-embed\"))\n",
       "        .catch(showError)\n",
       "        .then(() => displayChart(vegaEmbed));\n",
       "    }\n",
       "  })({\"config\": {\"view\": {\"continuousWidth\": 400, \"continuousHeight\": 300}}, \"layer\": [{\"layer\": [{\"mark\": {\"type\": \"point\", \"size\": 75}, \"encoding\": {\"tooltip\": [{\"type\": \"temporal\", \"field\": \"date\"}, {\"type\": \"quantitative\", \"field\": \"positiveIncrease\"}, {\"type\": \"quantitative\", \"field\": \"sma7d\"}], \"x\": {\"type\": \"temporal\", \"field\": \"date\"}, \"y\": {\"type\": \"quantitative\", \"field\": \"positiveIncrease\"}}, \"selection\": {\"selector002\": {\"type\": \"interval\", \"bind\": \"scales\", \"encodings\": [\"x\", \"y\"]}}}, {\"mark\": {\"type\": \"line\", \"color\": \"purple\"}, \"encoding\": {\"x\": {\"type\": \"temporal\", \"field\": \"date\"}, \"y\": {\"type\": \"quantitative\", \"field\": \"sma7d\"}}}]}, {\"mark\": {\"type\": \"rule\", \"color\": \"#aaa\"}, \"encoding\": {\"x\": {\"type\": \"temporal\", \"field\": \"date\"}}, \"transform\": [{\"filter\": {\"selection\": \"selector001\"}}]}, {\"mark\": \"circle\", \"encoding\": {\"opacity\": {\"condition\": {\"value\": 1, \"selection\": \"selector001\"}, \"value\": 0}, \"tooltip\": [{\"type\": \"temporal\", \"field\": \"date\"}, {\"type\": \"quantitative\", \"field\": \"positiveIncrease\"}, {\"type\": \"quantitative\", \"field\": \"sma7d\"}], \"x\": {\"type\": \"temporal\", \"field\": \"date\"}, \"y\": {\"type\": \"quantitative\", \"field\": \"positiveIncrease\"}}, \"selection\": {\"selector001\": {\"type\": \"single\", \"encodings\": [\"x\"], \"on\": \"mouseover\", \"nearest\": true, \"empty\": \"none\"}}}, {\"mark\": {\"type\": \"text\", \"align\": \"left\", \"dx\": 5, \"dy\": -5, \"stroke\": \"white\", \"strokeWidth\": 2}, \"encoding\": {\"text\": {\"type\": \"quantitative\", \"field\": \"positiveIncrease\"}, \"tooltip\": [{\"type\": \"temporal\", \"field\": \"date\"}, {\"type\": \"quantitative\", \"field\": \"positiveIncrease\"}, {\"type\": \"quantitative\", \"field\": \"sma7d\"}], \"x\": {\"type\": \"temporal\", \"field\": \"date\"}, \"y\": {\"type\": \"quantitative\", \"field\": \"positiveIncrease\"}}, \"transform\": [{\"filter\": {\"selection\": \"selector001\"}}]}, {\"mark\": {\"type\": \"text\", \"align\": \"left\", \"dx\": 5, \"dy\": -5}, \"encoding\": {\"text\": {\"type\": \"quantitative\", \"field\": \"positiveIncrease\"}, \"tooltip\": [{\"type\": \"temporal\", \"field\": \"date\"}, {\"type\": \"quantitative\", \"field\": \"positiveIncrease\"}, {\"type\": \"quantitative\", \"field\": \"sma7d\"}], \"x\": {\"type\": \"temporal\", \"field\": \"date\"}, \"y\": {\"type\": \"quantitative\", \"field\": \"positiveIncrease\"}}, \"transform\": [{\"filter\": {\"selection\": \"selector001\"}}]}], \"data\": {\"name\": \"data-2a4e74cbe89193a1bdbf041a82369cff\"}, \"height\": 400, \"title\": \"US: positiveIncrease\", \"width\": 500, \"$schema\": \"https://vega.github.io/schema/vega-lite/v4.8.1.json\", \"datasets\": {\"data-2a4e74cbe89193a1bdbf041a82369cff\": [{\"date\": \"2020-10-21T00:00:00\", \"totalTestResultsIncrease\": 1018258.0, \"positiveIncrease\": 60980.0, \"death\": 213943.0, \"deathIncrease\": 1025.0, \"positiveRate\": 0.06, \"state\": \"US\", \"sma7d\": 59420.143}, {\"date\": \"2020-10-22T00:00:00\", \"totalTestResultsIncrease\": 1279065.0, \"positiveIncrease\": 73003.0, \"death\": 215069.0, \"deathIncrease\": 1126.0, \"positiveRate\": 0.057, \"state\": \"US\", \"sma7d\": 60794.286}, {\"date\": \"2020-10-23T00:00:00\", \"totalTestResultsIncrease\": 1404573.0, \"positiveIncrease\": 82342.0, \"death\": 216010.0, \"deathIncrease\": 941.0, \"positiveRate\": 0.059, \"state\": \"US\", \"sma7d\": 62805.286}, {\"date\": \"2020-10-24T00:00:00\", \"totalTestResultsIncrease\": 1312383.0, \"positiveIncrease\": 83319.0, \"death\": 216907.0, \"deathIncrease\": 897.0, \"positiveRate\": 0.063, \"state\": \"US\", \"sma7d\": 66514.429}, {\"date\": \"2020-10-25T00:00:00\", \"totalTestResultsIncrease\": 1182219.0, \"positiveIncrease\": 64897.0, \"death\": 217294.0, \"deathIncrease\": 387.0, \"positiveRate\": 0.055, \"state\": \"US\", \"sma7d\": 68888.286}, {\"date\": \"2020-10-26T00:00:00\", \"totalTestResultsIncrease\": 1194692.0, \"positiveIncrease\": 62535.0, \"death\": 217693.0, \"deathIncrease\": 399.0, \"positiveRate\": 0.052, \"state\": \"US\", \"sma7d\": 69663.571}, {\"date\": \"2020-10-27T00:00:00\", \"totalTestResultsIncrease\": 1110506.0, \"positiveIncrease\": 72097.0, \"death\": 218622.0, \"deathIncrease\": 929.0, \"positiveRate\": 0.065, \"state\": \"US\", \"sma7d\": 71310.429}, {\"date\": \"2020-10-28T00:00:00\", \"totalTestResultsIncrease\": 1165965.0, \"positiveIncrease\": 78793.0, \"death\": 219667.0, \"deathIncrease\": 1045.0, \"positiveRate\": 0.068, \"state\": \"US\", \"sma7d\": 73855.143}, {\"date\": \"2020-10-29T00:00:00\", \"totalTestResultsIncrease\": 1363817.0, \"positiveIncrease\": 88728.0, \"death\": 220722.0, \"deathIncrease\": 1055.0, \"positiveRate\": 0.065, \"state\": \"US\", \"sma7d\": 76101.571}, {\"date\": \"2020-10-30T00:00:00\", \"totalTestResultsIncrease\": 1395362.0, \"positiveIncrease\": 97263.0, \"death\": 221669.0, \"deathIncrease\": 947.0, \"positiveRate\": 0.07, \"state\": \"US\", \"sma7d\": 78233.143}, {\"date\": \"2020-10-31T00:00:00\", \"totalTestResultsIncrease\": 1427079.0, \"positiveIncrease\": 90613.0, \"death\": 222639.0, \"deathIncrease\": 970.0, \"positiveRate\": 0.063, \"state\": \"US\", \"sma7d\": 79275.143}, {\"date\": \"2020-11-01T00:00:00\", \"totalTestResultsIncrease\": 1177396.0, \"positiveIncrease\": 141347.0, \"death\": 223037.0, \"deathIncrease\": 398.0, \"positiveRate\": 0.12, \"state\": \"US\", \"sma7d\": 90196.571}, {\"date\": \"2020-11-02T00:00:00\", \"totalTestResultsIncrease\": 1290672.0, \"positiveIncrease\": 83095.0, \"death\": 223511.0, \"deathIncrease\": 474.0, \"positiveRate\": 0.064, \"state\": \"US\", \"sma7d\": 93133.714}, {\"date\": \"2020-11-03T00:00:00\", \"totalTestResultsIncrease\": 1221636.0, \"positiveIncrease\": 89864.0, \"death\": 225036.0, \"deathIncrease\": 1525.0, \"positiveRate\": 0.074, \"state\": \"US\", \"sma7d\": 95671.857}, {\"date\": \"2020-11-04T00:00:00\", \"totalTestResultsIncrease\": 1279876.0, \"positiveIncrease\": 103553.0, \"death\": 226162.0, \"deathIncrease\": 1126.0, \"positiveRate\": 0.081, \"state\": \"US\", \"sma7d\": 99209.0}, {\"date\": \"2020-11-05T00:00:00\", \"totalTestResultsIncrease\": 1612286.0, \"positiveIncrease\": 118056.0, \"death\": 227317.0, \"deathIncrease\": 1155.0, \"positiveRate\": 0.073, \"state\": \"US\", \"sma7d\": 103398.714}, {\"date\": \"2020-11-06T00:00:00\", \"totalTestResultsIncrease\": 1620401.0, \"positiveIncrease\": 127492.0, \"death\": 228503.0, \"deathIncrease\": 1186.0, \"positiveRate\": 0.079, \"state\": \"US\", \"sma7d\": 107717.143}, {\"date\": \"2020-11-07T00:00:00\", \"totalTestResultsIncrease\": 1449589.0, \"positiveIncrease\": 130816.0, \"death\": 229635.0, \"deathIncrease\": 1132.0, \"positiveRate\": 0.09, \"state\": \"US\", \"sma7d\": 113460.429}, {\"date\": \"2020-11-08T00:00:00\", \"totalTestResultsIncrease\": 1219960.0, \"positiveIncrease\": 111499.0, \"death\": 230136.0, \"deathIncrease\": 501.0, \"positiveRate\": 0.091, \"state\": \"US\", \"sma7d\": 109196.429}, {\"date\": \"2020-11-09T00:00:00\", \"totalTestResultsIncrease\": 1444348.0, \"positiveIncrease\": 117498.0, \"death\": 230716.0, \"deathIncrease\": 580.0, \"positiveRate\": 0.081, \"state\": \"US\", \"sma7d\": 114111.143}, {\"date\": \"2020-11-10T00:00:00\", \"totalTestResultsIncrease\": 1345609.0, \"positiveIncrease\": 132974.0, \"death\": 232073.0, \"deathIncrease\": 1357.0, \"positiveRate\": 0.099, \"state\": \"US\", \"sma7d\": 120269.714}, {\"date\": \"2020-11-11T00:00:00\", \"totalTestResultsIncrease\": 1463882.0, \"positiveIncrease\": 146898.0, \"death\": 233652.0, \"deathIncrease\": 1579.0, \"positiveRate\": 0.1, \"state\": \"US\", \"sma7d\": 126461.857}, {\"date\": \"2020-11-12T00:00:00\", \"totalTestResultsIncrease\": 1570759.0, \"positiveIncrease\": 154175.0, \"death\": 234763.0, \"deathIncrease\": 1111.0, \"positiveRate\": 0.098, \"state\": \"US\", \"sma7d\": 131621.714}, {\"date\": \"2020-11-13T00:00:00\", \"totalTestResultsIncrease\": 1707142.0, \"positiveIncrease\": 174459.0, \"death\": 236067.0, \"deathIncrease\": 1304.0, \"positiveRate\": 0.102, \"state\": \"US\", \"sma7d\": 138331.286}, {\"date\": \"2020-11-14T00:00:00\", \"totalTestResultsIncrease\": 1706088.0, \"positiveIncrease\": 165821.0, \"death\": 237419.0, \"deathIncrease\": 1352.0, \"positiveRate\": 0.097, \"state\": \"US\", \"sma7d\": 143332.0}, {\"date\": \"2020-11-15T00:00:00\", \"totalTestResultsIncrease\": 1553446.0, \"positiveIncrease\": 145830.0, \"death\": 238127.0, \"deathIncrease\": 708.0, \"positiveRate\": 0.094, \"state\": \"US\", \"sma7d\": 148236.429}, {\"date\": \"2020-11-16T00:00:00\", \"totalTestResultsIncrease\": 1530093.0, \"positiveIncrease\": 149528.0, \"death\": 238736.0, \"deathIncrease\": 609.0, \"positiveRate\": 0.098, \"state\": \"US\", \"sma7d\": 152812.143}, {\"date\": \"2020-11-17T00:00:00\", \"totalTestResultsIncrease\": 1604676.0, \"positiveIncrease\": 158799.0, \"death\": 240298.0, \"deathIncrease\": 1562.0, \"positiveRate\": 0.099, \"state\": \"US\", \"sma7d\": 156501.429}, {\"date\": \"2020-11-18T00:00:00\", \"totalTestResultsIncrease\": 1620040.0, \"positiveIncrease\": 166167.0, \"death\": 242180.0, \"deathIncrease\": 1882.0, \"positiveRate\": 0.103, \"state\": \"US\", \"sma7d\": 159254.143}, {\"date\": \"2020-11-19T00:00:00\", \"totalTestResultsIncrease\": 1849976.0, \"positiveIncrease\": 184672.0, \"death\": 244200.0, \"deathIncrease\": 2020.0, \"positiveRate\": 0.1, \"state\": \"US\", \"sma7d\": 163610.857}, {\"date\": \"2020-11-20T00:00:00\", \"totalTestResultsIncrease\": 1947331.0, \"positiveIncrease\": 194810.0, \"death\": 246094.0, \"deathIncrease\": 1894.0, \"positiveRate\": 0.1, \"state\": \"US\", \"sma7d\": 166518.143}, {\"date\": \"2020-11-21T00:00:00\", \"totalTestResultsIncrease\": 2048675.0, \"positiveIncrease\": 181859.0, \"death\": 247648.0, \"deathIncrease\": 1554.0, \"positiveRate\": 0.089, \"state\": \"US\", \"sma7d\": 168809.286}, {\"date\": \"2020-11-22T00:00:00\", \"totalTestResultsIncrease\": 1753063.0, \"positiveIncrease\": 151896.0, \"death\": 248565.0, \"deathIncrease\": 917.0, \"positiveRate\": 0.087, \"state\": \"US\", \"sma7d\": 169675.857}, {\"date\": \"2020-11-23T00:00:00\", \"totalTestResultsIncrease\": 1694409.0, \"positiveIncrease\": 151893.0, \"death\": 249423.0, \"deathIncrease\": 858.0, \"positiveRate\": 0.09, \"state\": \"US\", \"sma7d\": 170013.714}, {\"date\": \"2020-11-24T00:00:00\", \"totalTestResultsIncrease\": 1884321.0, \"positiveIncrease\": 169264.0, \"death\": 251529.0, \"deathIncrease\": 2106.0, \"positiveRate\": 0.09, \"state\": \"US\", \"sma7d\": 171508.714}, {\"date\": \"2020-11-25T00:00:00\", \"totalTestResultsIncrease\": 1827348.0, \"positiveIncrease\": 186938.0, \"death\": 253809.0, \"deathIncrease\": 2280.0, \"positiveRate\": 0.102, \"state\": \"US\", \"sma7d\": 174476.0}, {\"date\": \"2020-11-26T00:00:00\", \"totalTestResultsIncrease\": 1268712.0, \"positiveIncrease\": 128439.0, \"death\": 255196.0, \"deathIncrease\": 1387.0, \"positiveRate\": 0.101, \"state\": \"US\", \"sma7d\": 166442.714}, {\"date\": \"2020-11-27T00:00:00\", \"totalTestResultsIncrease\": 2032305.0, \"positiveIncrease\": 194244.0, \"death\": 256588.0, \"deathIncrease\": 1392.0, \"positiveRate\": 0.096, \"state\": \"US\", \"sma7d\": 166361.857}, {\"date\": \"2020-11-28T00:00:00\", \"totalTestResultsIncrease\": 1673310.0, \"positiveIncrease\": 154915.0, \"death\": 257839.0, \"deathIncrease\": 1251.0, \"positiveRate\": 0.093, \"state\": \"US\", \"sma7d\": 162512.714}, {\"date\": \"2020-11-29T00:00:00\", \"totalTestResultsIncrease\": 1285520.0, \"positiveIncrease\": 136090.0, \"death\": 258662.0, \"deathIncrease\": 823.0, \"positiveRate\": 0.106, \"state\": \"US\", \"sma7d\": 160254.714}, {\"date\": \"2020-11-30T00:00:00\", \"totalTestResultsIncrease\": 1607270.0, \"positiveIncrease\": 148475.0, \"death\": 259697.0, \"deathIncrease\": 1035.0, \"positiveRate\": 0.092, \"state\": \"US\", \"sma7d\": 159766.429}, {\"date\": \"2020-12-01T00:00:00\", \"totalTestResultsIncrease\": 1473600.0, \"positiveIncrease\": 179217.0, \"death\": 262203.0, \"deathIncrease\": 2506.0, \"positiveRate\": 0.122, \"state\": \"US\", \"sma7d\": 161188.286}, {\"date\": \"2020-12-02T00:00:00\", \"totalTestResultsIncrease\": 1558765.0, \"positiveIncrease\": 198665.0, \"death\": 265007.0, \"deathIncrease\": 2804.0, \"positiveRate\": 0.127, \"state\": \"US\", \"sma7d\": 162863.571}, {\"date\": \"2020-12-03T00:00:00\", \"totalTestResultsIncrease\": 1896669.0, \"positiveIncrease\": 213364.0, \"death\": 267832.0, \"deathIncrease\": 2825.0, \"positiveRate\": 0.112, \"state\": \"US\", \"sma7d\": 174995.714}, {\"date\": \"2020-12-04T00:00:00\", \"totalTestResultsIncrease\": 1903635.0, \"positiveIncrease\": 227975.0, \"death\": 270405.0, \"deathIncrease\": 2573.0, \"positiveRate\": 0.12, \"state\": \"US\", \"sma7d\": 179814.429}, {\"date\": \"2020-12-05T00:00:00\", \"totalTestResultsIncrease\": 2211978.0, \"positiveIncrease\": 215393.0, \"death\": 272885.0, \"deathIncrease\": 2480.0, \"positiveRate\": 0.097, \"state\": \"US\", \"sma7d\": 188454.143}, {\"date\": \"2020-12-06T00:00:00\", \"totalTestResultsIncrease\": 1602098.0, \"positiveIncrease\": 179619.0, \"death\": 274030.0, \"deathIncrease\": 1145.0, \"positiveRate\": 0.112, \"state\": \"US\", \"sma7d\": 194672.571}, {\"date\": \"2020-12-07T00:00:00\", \"totalTestResultsIncrease\": 1718951.0, \"positiveIncrease\": 180819.0, \"death\": 275327.0, \"deathIncrease\": 1297.0, \"positiveRate\": 0.105, \"state\": \"US\", \"sma7d\": 199293.143}, {\"date\": \"2020-12-08T00:00:00\", \"totalTestResultsIncrease\": 1678036.0, \"positiveIncrease\": 220887.0, \"death\": 278030.0, \"deathIncrease\": 2703.0, \"positiveRate\": 0.132, \"state\": \"US\", \"sma7d\": 205246.0}, {\"date\": \"2020-12-09T00:00:00\", \"totalTestResultsIncrease\": 1813314.0, \"positiveIncrease\": 213456.0, \"death\": 281194.0, \"deathIncrease\": 3164.0, \"positiveRate\": 0.118, \"state\": \"US\", \"sma7d\": 207359.0}, {\"date\": \"2020-12-10T00:00:00\", \"totalTestResultsIncrease\": 1892905.0, \"positiveIncrease\": 218510.0, \"death\": 284309.0, \"deathIncrease\": 3115.0, \"positiveRate\": 0.115, \"state\": \"US\", \"sma7d\": 208094.143}, {\"date\": \"2020-12-11T00:00:00\", \"totalTestResultsIncrease\": 1992960.0, \"positiveIncrease\": 234810.0, \"death\": 287058.0, \"deathIncrease\": 2749.0, \"positiveRate\": 0.118, \"state\": \"US\", \"sma7d\": 209070.571}, {\"date\": \"2020-12-12T00:00:00\", \"totalTestResultsIncrease\": 1813428.0, \"positiveIncrease\": 225196.0, \"death\": 289552.0, \"deathIncrease\": 2494.0, \"positiveRate\": 0.124, \"state\": \"US\", \"sma7d\": 210471.0}, {\"date\": \"2020-12-13T00:00:00\", \"totalTestResultsIncrease\": 1764194.0, \"positiveIncrease\": 187754.0, \"death\": 291046.0, \"deathIncrease\": 1494.0, \"positiveRate\": 0.106, \"state\": \"US\", \"sma7d\": 211633.143}, {\"date\": \"2020-12-14T00:00:00\", \"totalTestResultsIncrease\": 2155016.0, \"positiveIncrease\": 192962.0, \"death\": 292228.0, \"deathIncrease\": 1358.0, \"positiveRate\": 0.09, \"state\": \"US\", \"sma7d\": 213367.857}]}}, {\"mode\": \"vega-lite\"});\n",
       "</script>"
      ],
      "text/plain": [
       "alt.LayerChart(...)"
      ]
     },
     "execution_count": 7,
     "metadata": {},
     "output_type": "execute_result"
    }
   ],
   "source": [
    "create_plot(us, 'positiveIncrease')"
   ]
  },
  {
   "cell_type": "code",
   "execution_count": 8,
   "metadata": {
    "execution": {
     "iopub.execute_input": "2020-12-15T09:27:14.745466Z",
     "iopub.status.busy": "2020-12-15T09:27:14.744777Z",
     "iopub.status.idle": "2020-12-15T09:27:14.847314Z",
     "shell.execute_reply": "2020-12-15T09:27:14.847807Z"
    },
    "papermill": {
     "duration": 0.123084,
     "end_time": "2020-12-15T09:27:14.847953",
     "exception": false,
     "start_time": "2020-12-15T09:27:14.724869",
     "status": "completed"
    },
    "tags": []
   },
   "outputs": [
    {
     "data": {
      "text/html": [
       "\n",
       "<div id=\"altair-viz-91348f9d9ca544fb9491b9a5883fb1eb\"></div>\n",
       "<script type=\"text/javascript\">\n",
       "  (function(spec, embedOpt){\n",
       "    let outputDiv = document.currentScript.previousElementSibling;\n",
       "    if (outputDiv.id !== \"altair-viz-91348f9d9ca544fb9491b9a5883fb1eb\") {\n",
       "      outputDiv = document.getElementById(\"altair-viz-91348f9d9ca544fb9491b9a5883fb1eb\");\n",
       "    }\n",
       "    const paths = {\n",
       "      \"vega\": \"https://cdn.jsdelivr.net/npm//vega@5?noext\",\n",
       "      \"vega-lib\": \"https://cdn.jsdelivr.net/npm//vega-lib?noext\",\n",
       "      \"vega-lite\": \"https://cdn.jsdelivr.net/npm//vega-lite@4.8.1?noext\",\n",
       "      \"vega-embed\": \"https://cdn.jsdelivr.net/npm//vega-embed@6?noext\",\n",
       "    };\n",
       "\n",
       "    function loadScript(lib) {\n",
       "      return new Promise(function(resolve, reject) {\n",
       "        var s = document.createElement('script');\n",
       "        s.src = paths[lib];\n",
       "        s.async = true;\n",
       "        s.onload = () => resolve(paths[lib]);\n",
       "        s.onerror = () => reject(`Error loading script: ${paths[lib]}`);\n",
       "        document.getElementsByTagName(\"head\")[0].appendChild(s);\n",
       "      });\n",
       "    }\n",
       "\n",
       "    function showError(err) {\n",
       "      outputDiv.innerHTML = `<div class=\"error\" style=\"color:red;\">${err}</div>`;\n",
       "      throw err;\n",
       "    }\n",
       "\n",
       "    function displayChart(vegaEmbed) {\n",
       "      vegaEmbed(outputDiv, spec, embedOpt)\n",
       "        .catch(err => showError(`Javascript Error: ${err.message}<br>This usually means there's a typo in your chart specification. See the javascript console for the full traceback.`));\n",
       "    }\n",
       "\n",
       "    if(typeof define === \"function\" && define.amd) {\n",
       "      requirejs.config({paths});\n",
       "      require([\"vega-embed\"], displayChart, err => showError(`Error loading script: ${err.message}`));\n",
       "    } else if (typeof vegaEmbed === \"function\") {\n",
       "      displayChart(vegaEmbed);\n",
       "    } else {\n",
       "      loadScript(\"vega\")\n",
       "        .then(() => loadScript(\"vega-lite\"))\n",
       "        .then(() => loadScript(\"vega-embed\"))\n",
       "        .catch(showError)\n",
       "        .then(() => displayChart(vegaEmbed));\n",
       "    }\n",
       "  })({\"config\": {\"view\": {\"continuousWidth\": 400, \"continuousHeight\": 300}}, \"layer\": [{\"layer\": [{\"mark\": {\"type\": \"point\", \"size\": 75}, \"encoding\": {\"tooltip\": [{\"type\": \"temporal\", \"field\": \"date\"}, {\"type\": \"quantitative\", \"field\": \"positiveRate\"}, {\"type\": \"quantitative\", \"field\": \"sma7d\"}], \"x\": {\"type\": \"temporal\", \"field\": \"date\"}, \"y\": {\"type\": \"quantitative\", \"field\": \"positiveRate\"}}, \"selection\": {\"selector004\": {\"type\": \"interval\", \"bind\": \"scales\", \"encodings\": [\"x\", \"y\"]}}}, {\"mark\": {\"type\": \"line\", \"color\": \"purple\"}, \"encoding\": {\"x\": {\"type\": \"temporal\", \"field\": \"date\"}, \"y\": {\"type\": \"quantitative\", \"field\": \"sma7d\"}}}]}, {\"mark\": {\"type\": \"rule\", \"color\": \"#aaa\"}, \"encoding\": {\"x\": {\"type\": \"temporal\", \"field\": \"date\"}}, \"transform\": [{\"filter\": {\"selection\": \"selector003\"}}]}, {\"mark\": \"circle\", \"encoding\": {\"opacity\": {\"condition\": {\"value\": 1, \"selection\": \"selector003\"}, \"value\": 0}, \"tooltip\": [{\"type\": \"temporal\", \"field\": \"date\"}, {\"type\": \"quantitative\", \"field\": \"positiveRate\"}, {\"type\": \"quantitative\", \"field\": \"sma7d\"}], \"x\": {\"type\": \"temporal\", \"field\": \"date\"}, \"y\": {\"type\": \"quantitative\", \"field\": \"positiveRate\"}}, \"selection\": {\"selector003\": {\"type\": \"single\", \"encodings\": [\"x\"], \"on\": \"mouseover\", \"nearest\": true, \"empty\": \"none\"}}}, {\"mark\": {\"type\": \"text\", \"align\": \"left\", \"dx\": 5, \"dy\": -5, \"stroke\": \"white\", \"strokeWidth\": 2}, \"encoding\": {\"text\": {\"type\": \"quantitative\", \"field\": \"positiveRate\"}, \"tooltip\": [{\"type\": \"temporal\", \"field\": \"date\"}, {\"type\": \"quantitative\", \"field\": \"positiveRate\"}, {\"type\": \"quantitative\", \"field\": \"sma7d\"}], \"x\": {\"type\": \"temporal\", \"field\": \"date\"}, \"y\": {\"type\": \"quantitative\", \"field\": \"positiveRate\"}}, \"transform\": [{\"filter\": {\"selection\": \"selector003\"}}]}, {\"mark\": {\"type\": \"text\", \"align\": \"left\", \"dx\": 5, \"dy\": -5}, \"encoding\": {\"text\": {\"type\": \"quantitative\", \"field\": \"positiveRate\"}, \"tooltip\": [{\"type\": \"temporal\", \"field\": \"date\"}, {\"type\": \"quantitative\", \"field\": \"positiveRate\"}, {\"type\": \"quantitative\", \"field\": \"sma7d\"}], \"x\": {\"type\": \"temporal\", \"field\": \"date\"}, \"y\": {\"type\": \"quantitative\", \"field\": \"positiveRate\"}}, \"transform\": [{\"filter\": {\"selection\": \"selector003\"}}]}], \"data\": {\"name\": \"data-fc4172787466c1e19ac59b1106ea3c7b\"}, \"height\": 400, \"title\": \"US: positiveRate\", \"width\": 500, \"$schema\": \"https://vega.github.io/schema/vega-lite/v4.8.1.json\", \"datasets\": {\"data-fc4172787466c1e19ac59b1106ea3c7b\": [{\"date\": \"2020-10-21T00:00:00\", \"totalTestResultsIncrease\": 1018258.0, \"positiveIncrease\": 60980.0, \"death\": 213943.0, \"deathIncrease\": 1025.0, \"positiveRate\": 0.06, \"state\": \"US\", \"sma7d\": 0.053}, {\"date\": \"2020-10-22T00:00:00\", \"totalTestResultsIncrease\": 1279065.0, \"positiveIncrease\": 73003.0, \"death\": 215069.0, \"deathIncrease\": 1126.0, \"positiveRate\": 0.057, \"state\": \"US\", \"sma7d\": 0.054}, {\"date\": \"2020-10-23T00:00:00\", \"totalTestResultsIncrease\": 1404573.0, \"positiveIncrease\": 82342.0, \"death\": 216010.0, \"deathIncrease\": 941.0, \"positiveRate\": 0.059, \"state\": \"US\", \"sma7d\": 0.054}, {\"date\": \"2020-10-24T00:00:00\", \"totalTestResultsIncrease\": 1312383.0, \"positiveIncrease\": 83319.0, \"death\": 216907.0, \"deathIncrease\": 897.0, \"positiveRate\": 0.063, \"state\": \"US\", \"sma7d\": 0.057}, {\"date\": \"2020-10-25T00:00:00\", \"totalTestResultsIncrease\": 1182219.0, \"positiveIncrease\": 64897.0, \"death\": 217294.0, \"deathIncrease\": 387.0, \"positiveRate\": 0.055, \"state\": \"US\", \"sma7d\": 0.058}, {\"date\": \"2020-10-26T00:00:00\", \"totalTestResultsIncrease\": 1194692.0, \"positiveIncrease\": 62535.0, \"death\": 217693.0, \"deathIncrease\": 399.0, \"positiveRate\": 0.052, \"state\": \"US\", \"sma7d\": 0.058}, {\"date\": \"2020-10-27T00:00:00\", \"totalTestResultsIncrease\": 1110506.0, \"positiveIncrease\": 72097.0, \"death\": 218622.0, \"deathIncrease\": 929.0, \"positiveRate\": 0.065, \"state\": \"US\", \"sma7d\": 0.059}, {\"date\": \"2020-10-28T00:00:00\", \"totalTestResultsIncrease\": 1165965.0, \"positiveIncrease\": 78793.0, \"death\": 219667.0, \"deathIncrease\": 1045.0, \"positiveRate\": 0.068, \"state\": \"US\", \"sma7d\": 0.06}, {\"date\": \"2020-10-29T00:00:00\", \"totalTestResultsIncrease\": 1363817.0, \"positiveIncrease\": 88728.0, \"death\": 220722.0, \"deathIncrease\": 1055.0, \"positiveRate\": 0.065, \"state\": \"US\", \"sma7d\": 0.061}, {\"date\": \"2020-10-30T00:00:00\", \"totalTestResultsIncrease\": 1395362.0, \"positiveIncrease\": 97263.0, \"death\": 221669.0, \"deathIncrease\": 947.0, \"positiveRate\": 0.07, \"state\": \"US\", \"sma7d\": 0.063}, {\"date\": \"2020-10-31T00:00:00\", \"totalTestResultsIncrease\": 1427079.0, \"positiveIncrease\": 90613.0, \"death\": 222639.0, \"deathIncrease\": 970.0, \"positiveRate\": 0.063, \"state\": \"US\", \"sma7d\": 0.063}, {\"date\": \"2020-11-01T00:00:00\", \"totalTestResultsIncrease\": 1177396.0, \"positiveIncrease\": 141347.0, \"death\": 223037.0, \"deathIncrease\": 398.0, \"positiveRate\": 0.12, \"state\": \"US\", \"sma7d\": 0.072}, {\"date\": \"2020-11-02T00:00:00\", \"totalTestResultsIncrease\": 1290672.0, \"positiveIncrease\": 83095.0, \"death\": 223511.0, \"deathIncrease\": 474.0, \"positiveRate\": 0.064, \"state\": \"US\", \"sma7d\": 0.074}, {\"date\": \"2020-11-03T00:00:00\", \"totalTestResultsIncrease\": 1221636.0, \"positiveIncrease\": 89864.0, \"death\": 225036.0, \"deathIncrease\": 1525.0, \"positiveRate\": 0.074, \"state\": \"US\", \"sma7d\": 0.075}, {\"date\": \"2020-11-04T00:00:00\", \"totalTestResultsIncrease\": 1279876.0, \"positiveIncrease\": 103553.0, \"death\": 226162.0, \"deathIncrease\": 1126.0, \"positiveRate\": 0.081, \"state\": \"US\", \"sma7d\": 0.077}, {\"date\": \"2020-11-05T00:00:00\", \"totalTestResultsIncrease\": 1612286.0, \"positiveIncrease\": 118056.0, \"death\": 227317.0, \"deathIncrease\": 1155.0, \"positiveRate\": 0.073, \"state\": \"US\", \"sma7d\": 0.078}, {\"date\": \"2020-11-06T00:00:00\", \"totalTestResultsIncrease\": 1620401.0, \"positiveIncrease\": 127492.0, \"death\": 228503.0, \"deathIncrease\": 1186.0, \"positiveRate\": 0.079, \"state\": \"US\", \"sma7d\": 0.079}, {\"date\": \"2020-11-07T00:00:00\", \"totalTestResultsIncrease\": 1449589.0, \"positiveIncrease\": 130816.0, \"death\": 229635.0, \"deathIncrease\": 1132.0, \"positiveRate\": 0.09, \"state\": \"US\", \"sma7d\": 0.083}, {\"date\": \"2020-11-08T00:00:00\", \"totalTestResultsIncrease\": 1219960.0, \"positiveIncrease\": 111499.0, \"death\": 230136.0, \"deathIncrease\": 501.0, \"positiveRate\": 0.091, \"state\": \"US\", \"sma7d\": 0.079}, {\"date\": \"2020-11-09T00:00:00\", \"totalTestResultsIncrease\": 1444348.0, \"positiveIncrease\": 117498.0, \"death\": 230716.0, \"deathIncrease\": 580.0, \"positiveRate\": 0.081, \"state\": \"US\", \"sma7d\": 0.081}, {\"date\": \"2020-11-10T00:00:00\", \"totalTestResultsIncrease\": 1345609.0, \"positiveIncrease\": 132974.0, \"death\": 232073.0, \"deathIncrease\": 1357.0, \"positiveRate\": 0.099, \"state\": \"US\", \"sma7d\": 0.085}, {\"date\": \"2020-11-11T00:00:00\", \"totalTestResultsIncrease\": 1463882.0, \"positiveIncrease\": 146898.0, \"death\": 233652.0, \"deathIncrease\": 1579.0, \"positiveRate\": 0.1, \"state\": \"US\", \"sma7d\": 0.088}, {\"date\": \"2020-11-12T00:00:00\", \"totalTestResultsIncrease\": 1570759.0, \"positiveIncrease\": 154175.0, \"death\": 234763.0, \"deathIncrease\": 1111.0, \"positiveRate\": 0.098, \"state\": \"US\", \"sma7d\": 0.091}, {\"date\": \"2020-11-13T00:00:00\", \"totalTestResultsIncrease\": 1707142.0, \"positiveIncrease\": 174459.0, \"death\": 236067.0, \"deathIncrease\": 1304.0, \"positiveRate\": 0.102, \"state\": \"US\", \"sma7d\": 0.094}, {\"date\": \"2020-11-14T00:00:00\", \"totalTestResultsIncrease\": 1706088.0, \"positiveIncrease\": 165821.0, \"death\": 237419.0, \"deathIncrease\": 1352.0, \"positiveRate\": 0.097, \"state\": \"US\", \"sma7d\": 0.095}, {\"date\": \"2020-11-15T00:00:00\", \"totalTestResultsIncrease\": 1553446.0, \"positiveIncrease\": 145830.0, \"death\": 238127.0, \"deathIncrease\": 708.0, \"positiveRate\": 0.094, \"state\": \"US\", \"sma7d\": 0.096}, {\"date\": \"2020-11-16T00:00:00\", \"totalTestResultsIncrease\": 1530093.0, \"positiveIncrease\": 149528.0, \"death\": 238736.0, \"deathIncrease\": 609.0, \"positiveRate\": 0.098, \"state\": \"US\", \"sma7d\": 0.098}, {\"date\": \"2020-11-17T00:00:00\", \"totalTestResultsIncrease\": 1604676.0, \"positiveIncrease\": 158799.0, \"death\": 240298.0, \"deathIncrease\": 1562.0, \"positiveRate\": 0.099, \"state\": \"US\", \"sma7d\": 0.098}, {\"date\": \"2020-11-18T00:00:00\", \"totalTestResultsIncrease\": 1620040.0, \"positiveIncrease\": 166167.0, \"death\": 242180.0, \"deathIncrease\": 1882.0, \"positiveRate\": 0.103, \"state\": \"US\", \"sma7d\": 0.099}, {\"date\": \"2020-11-19T00:00:00\", \"totalTestResultsIncrease\": 1849976.0, \"positiveIncrease\": 184672.0, \"death\": 244200.0, \"deathIncrease\": 2020.0, \"positiveRate\": 0.1, \"state\": \"US\", \"sma7d\": 0.099}, {\"date\": \"2020-11-20T00:00:00\", \"totalTestResultsIncrease\": 1947331.0, \"positiveIncrease\": 194810.0, \"death\": 246094.0, \"deathIncrease\": 1894.0, \"positiveRate\": 0.1, \"state\": \"US\", \"sma7d\": 0.099}, {\"date\": \"2020-11-21T00:00:00\", \"totalTestResultsIncrease\": 2048675.0, \"positiveIncrease\": 181859.0, \"death\": 247648.0, \"deathIncrease\": 1554.0, \"positiveRate\": 0.089, \"state\": \"US\", \"sma7d\": 0.098}, {\"date\": \"2020-11-22T00:00:00\", \"totalTestResultsIncrease\": 1753063.0, \"positiveIncrease\": 151896.0, \"death\": 248565.0, \"deathIncrease\": 917.0, \"positiveRate\": 0.087, \"state\": \"US\", \"sma7d\": 0.097}, {\"date\": \"2020-11-23T00:00:00\", \"totalTestResultsIncrease\": 1694409.0, \"positiveIncrease\": 151893.0, \"death\": 249423.0, \"deathIncrease\": 858.0, \"positiveRate\": 0.09, \"state\": \"US\", \"sma7d\": 0.095}, {\"date\": \"2020-11-24T00:00:00\", \"totalTestResultsIncrease\": 1884321.0, \"positiveIncrease\": 169264.0, \"death\": 251529.0, \"deathIncrease\": 2106.0, \"positiveRate\": 0.09, \"state\": \"US\", \"sma7d\": 0.094}, {\"date\": \"2020-11-25T00:00:00\", \"totalTestResultsIncrease\": 1827348.0, \"positiveIncrease\": 186938.0, \"death\": 253809.0, \"deathIncrease\": 2280.0, \"positiveRate\": 0.102, \"state\": \"US\", \"sma7d\": 0.094}, {\"date\": \"2020-11-26T00:00:00\", \"totalTestResultsIncrease\": 1268712.0, \"positiveIncrease\": 128439.0, \"death\": 255196.0, \"deathIncrease\": 1387.0, \"positiveRate\": 0.101, \"state\": \"US\", \"sma7d\": 0.094}, {\"date\": \"2020-11-27T00:00:00\", \"totalTestResultsIncrease\": 2032305.0, \"positiveIncrease\": 194244.0, \"death\": 256588.0, \"deathIncrease\": 1392.0, \"positiveRate\": 0.096, \"state\": \"US\", \"sma7d\": 0.094}, {\"date\": \"2020-11-28T00:00:00\", \"totalTestResultsIncrease\": 1673310.0, \"positiveIncrease\": 154915.0, \"death\": 257839.0, \"deathIncrease\": 1251.0, \"positiveRate\": 0.093, \"state\": \"US\", \"sma7d\": 0.094}, {\"date\": \"2020-11-29T00:00:00\", \"totalTestResultsIncrease\": 1285520.0, \"positiveIncrease\": 136090.0, \"death\": 258662.0, \"deathIncrease\": 823.0, \"positiveRate\": 0.106, \"state\": \"US\", \"sma7d\": 0.097}, {\"date\": \"2020-11-30T00:00:00\", \"totalTestResultsIncrease\": 1607270.0, \"positiveIncrease\": 148475.0, \"death\": 259697.0, \"deathIncrease\": 1035.0, \"positiveRate\": 0.092, \"state\": \"US\", \"sma7d\": 0.097}, {\"date\": \"2020-12-01T00:00:00\", \"totalTestResultsIncrease\": 1473600.0, \"positiveIncrease\": 179217.0, \"death\": 262203.0, \"deathIncrease\": 2506.0, \"positiveRate\": 0.122, \"state\": \"US\", \"sma7d\": 0.102}, {\"date\": \"2020-12-02T00:00:00\", \"totalTestResultsIncrease\": 1558765.0, \"positiveIncrease\": 198665.0, \"death\": 265007.0, \"deathIncrease\": 2804.0, \"positiveRate\": 0.127, \"state\": \"US\", \"sma7d\": 0.105}, {\"date\": \"2020-12-03T00:00:00\", \"totalTestResultsIncrease\": 1896669.0, \"positiveIncrease\": 213364.0, \"death\": 267832.0, \"deathIncrease\": 2825.0, \"positiveRate\": 0.112, \"state\": \"US\", \"sma7d\": 0.107}, {\"date\": \"2020-12-04T00:00:00\", \"totalTestResultsIncrease\": 1903635.0, \"positiveIncrease\": 227975.0, \"death\": 270405.0, \"deathIncrease\": 2573.0, \"positiveRate\": 0.12, \"state\": \"US\", \"sma7d\": 0.11}, {\"date\": \"2020-12-05T00:00:00\", \"totalTestResultsIncrease\": 2211978.0, \"positiveIncrease\": 215393.0, \"death\": 272885.0, \"deathIncrease\": 2480.0, \"positiveRate\": 0.097, \"state\": \"US\", \"sma7d\": 0.111}, {\"date\": \"2020-12-06T00:00:00\", \"totalTestResultsIncrease\": 1602098.0, \"positiveIncrease\": 179619.0, \"death\": 274030.0, \"deathIncrease\": 1145.0, \"positiveRate\": 0.112, \"state\": \"US\", \"sma7d\": 0.112}, {\"date\": \"2020-12-07T00:00:00\", \"totalTestResultsIncrease\": 1718951.0, \"positiveIncrease\": 180819.0, \"death\": 275327.0, \"deathIncrease\": 1297.0, \"positiveRate\": 0.105, \"state\": \"US\", \"sma7d\": 0.114}, {\"date\": \"2020-12-08T00:00:00\", \"totalTestResultsIncrease\": 1678036.0, \"positiveIncrease\": 220887.0, \"death\": 278030.0, \"deathIncrease\": 2703.0, \"positiveRate\": 0.132, \"state\": \"US\", \"sma7d\": 0.115}, {\"date\": \"2020-12-09T00:00:00\", \"totalTestResultsIncrease\": 1813314.0, \"positiveIncrease\": 213456.0, \"death\": 281194.0, \"deathIncrease\": 3164.0, \"positiveRate\": 0.118, \"state\": \"US\", \"sma7d\": 0.114}, {\"date\": \"2020-12-10T00:00:00\", \"totalTestResultsIncrease\": 1892905.0, \"positiveIncrease\": 218510.0, \"death\": 284309.0, \"deathIncrease\": 3115.0, \"positiveRate\": 0.115, \"state\": \"US\", \"sma7d\": 0.114}, {\"date\": \"2020-12-11T00:00:00\", \"totalTestResultsIncrease\": 1992960.0, \"positiveIncrease\": 234810.0, \"death\": 287058.0, \"deathIncrease\": 2749.0, \"positiveRate\": 0.118, \"state\": \"US\", \"sma7d\": 0.114}, {\"date\": \"2020-12-12T00:00:00\", \"totalTestResultsIncrease\": 1813428.0, \"positiveIncrease\": 225196.0, \"death\": 289552.0, \"deathIncrease\": 2494.0, \"positiveRate\": 0.124, \"state\": \"US\", \"sma7d\": 0.118}, {\"date\": \"2020-12-13T00:00:00\", \"totalTestResultsIncrease\": 1764194.0, \"positiveIncrease\": 187754.0, \"death\": 291046.0, \"deathIncrease\": 1494.0, \"positiveRate\": 0.106, \"state\": \"US\", \"sma7d\": 0.117}, {\"date\": \"2020-12-14T00:00:00\", \"totalTestResultsIncrease\": 2155016.0, \"positiveIncrease\": 192962.0, \"death\": 292228.0, \"deathIncrease\": 1358.0, \"positiveRate\": 0.09, \"state\": \"US\", \"sma7d\": 0.115}]}}, {\"mode\": \"vega-lite\"});\n",
       "</script>"
      ],
      "text/plain": [
       "alt.LayerChart(...)"
      ]
     },
     "execution_count": 8,
     "metadata": {},
     "output_type": "execute_result"
    }
   ],
   "source": [
    "create_plot(us, 'positiveRate')"
   ]
  },
  {
   "cell_type": "code",
   "execution_count": 9,
   "metadata": {
    "execution": {
     "iopub.execute_input": "2020-12-15T09:27:14.913478Z",
     "iopub.status.busy": "2020-12-15T09:27:14.897742Z",
     "iopub.status.idle": "2020-12-15T09:27:15.000300Z",
     "shell.execute_reply": "2020-12-15T09:27:15.000742Z"
    },
    "papermill": {
     "duration": 0.133875,
     "end_time": "2020-12-15T09:27:15.000909",
     "exception": false,
     "start_time": "2020-12-15T09:27:14.867034",
     "status": "completed"
    },
    "tags": []
   },
   "outputs": [
    {
     "data": {
      "text/html": [
       "\n",
       "<div id=\"altair-viz-b8d1ceb5d6304714bc7726dd16f39d14\"></div>\n",
       "<script type=\"text/javascript\">\n",
       "  (function(spec, embedOpt){\n",
       "    let outputDiv = document.currentScript.previousElementSibling;\n",
       "    if (outputDiv.id !== \"altair-viz-b8d1ceb5d6304714bc7726dd16f39d14\") {\n",
       "      outputDiv = document.getElementById(\"altair-viz-b8d1ceb5d6304714bc7726dd16f39d14\");\n",
       "    }\n",
       "    const paths = {\n",
       "      \"vega\": \"https://cdn.jsdelivr.net/npm//vega@5?noext\",\n",
       "      \"vega-lib\": \"https://cdn.jsdelivr.net/npm//vega-lib?noext\",\n",
       "      \"vega-lite\": \"https://cdn.jsdelivr.net/npm//vega-lite@4.8.1?noext\",\n",
       "      \"vega-embed\": \"https://cdn.jsdelivr.net/npm//vega-embed@6?noext\",\n",
       "    };\n",
       "\n",
       "    function loadScript(lib) {\n",
       "      return new Promise(function(resolve, reject) {\n",
       "        var s = document.createElement('script');\n",
       "        s.src = paths[lib];\n",
       "        s.async = true;\n",
       "        s.onload = () => resolve(paths[lib]);\n",
       "        s.onerror = () => reject(`Error loading script: ${paths[lib]}`);\n",
       "        document.getElementsByTagName(\"head\")[0].appendChild(s);\n",
       "      });\n",
       "    }\n",
       "\n",
       "    function showError(err) {\n",
       "      outputDiv.innerHTML = `<div class=\"error\" style=\"color:red;\">${err}</div>`;\n",
       "      throw err;\n",
       "    }\n",
       "\n",
       "    function displayChart(vegaEmbed) {\n",
       "      vegaEmbed(outputDiv, spec, embedOpt)\n",
       "        .catch(err => showError(`Javascript Error: ${err.message}<br>This usually means there's a typo in your chart specification. See the javascript console for the full traceback.`));\n",
       "    }\n",
       "\n",
       "    if(typeof define === \"function\" && define.amd) {\n",
       "      requirejs.config({paths});\n",
       "      require([\"vega-embed\"], displayChart, err => showError(`Error loading script: ${err.message}`));\n",
       "    } else if (typeof vegaEmbed === \"function\") {\n",
       "      displayChart(vegaEmbed);\n",
       "    } else {\n",
       "      loadScript(\"vega\")\n",
       "        .then(() => loadScript(\"vega-lite\"))\n",
       "        .then(() => loadScript(\"vega-embed\"))\n",
       "        .catch(showError)\n",
       "        .then(() => displayChart(vegaEmbed));\n",
       "    }\n",
       "  })({\"config\": {\"view\": {\"continuousWidth\": 400, \"continuousHeight\": 300}}, \"layer\": [{\"layer\": [{\"mark\": {\"type\": \"point\", \"size\": 75}, \"encoding\": {\"tooltip\": [{\"type\": \"temporal\", \"field\": \"date\"}, {\"type\": \"quantitative\", \"field\": \"deathIncrease\"}, {\"type\": \"quantitative\", \"field\": \"sma7d\"}], \"x\": {\"type\": \"temporal\", \"field\": \"date\"}, \"y\": {\"type\": \"quantitative\", \"field\": \"deathIncrease\"}}, \"selection\": {\"selector006\": {\"type\": \"interval\", \"bind\": \"scales\", \"encodings\": [\"x\", \"y\"]}}}, {\"mark\": {\"type\": \"line\", \"color\": \"purple\"}, \"encoding\": {\"x\": {\"type\": \"temporal\", \"field\": \"date\"}, \"y\": {\"type\": \"quantitative\", \"field\": \"sma7d\"}}}]}, {\"mark\": {\"type\": \"rule\", \"color\": \"#aaa\"}, \"encoding\": {\"x\": {\"type\": \"temporal\", \"field\": \"date\"}}, \"transform\": [{\"filter\": {\"selection\": \"selector005\"}}]}, {\"mark\": \"circle\", \"encoding\": {\"opacity\": {\"condition\": {\"value\": 1, \"selection\": \"selector005\"}, \"value\": 0}, \"tooltip\": [{\"type\": \"temporal\", \"field\": \"date\"}, {\"type\": \"quantitative\", \"field\": \"deathIncrease\"}, {\"type\": \"quantitative\", \"field\": \"sma7d\"}], \"x\": {\"type\": \"temporal\", \"field\": \"date\"}, \"y\": {\"type\": \"quantitative\", \"field\": \"deathIncrease\"}}, \"selection\": {\"selector005\": {\"type\": \"single\", \"encodings\": [\"x\"], \"on\": \"mouseover\", \"nearest\": true, \"empty\": \"none\"}}}, {\"mark\": {\"type\": \"text\", \"align\": \"left\", \"dx\": 5, \"dy\": -5, \"stroke\": \"white\", \"strokeWidth\": 2}, \"encoding\": {\"text\": {\"type\": \"quantitative\", \"field\": \"deathIncrease\"}, \"tooltip\": [{\"type\": \"temporal\", \"field\": \"date\"}, {\"type\": \"quantitative\", \"field\": \"deathIncrease\"}, {\"type\": \"quantitative\", \"field\": \"sma7d\"}], \"x\": {\"type\": \"temporal\", \"field\": \"date\"}, \"y\": {\"type\": \"quantitative\", \"field\": \"deathIncrease\"}}, \"transform\": [{\"filter\": {\"selection\": \"selector005\"}}]}, {\"mark\": {\"type\": \"text\", \"align\": \"left\", \"dx\": 5, \"dy\": -5}, \"encoding\": {\"text\": {\"type\": \"quantitative\", \"field\": \"deathIncrease\"}, \"tooltip\": [{\"type\": \"temporal\", \"field\": \"date\"}, {\"type\": \"quantitative\", \"field\": \"deathIncrease\"}, {\"type\": \"quantitative\", \"field\": \"sma7d\"}], \"x\": {\"type\": \"temporal\", \"field\": \"date\"}, \"y\": {\"type\": \"quantitative\", \"field\": \"deathIncrease\"}}, \"transform\": [{\"filter\": {\"selection\": \"selector005\"}}]}], \"data\": {\"name\": \"data-69ab834bf758e5709c3e0344018232a8\"}, \"height\": 400, \"title\": \"US: deathIncrease\", \"width\": 500, \"$schema\": \"https://vega.github.io/schema/vega-lite/v4.8.1.json\", \"datasets\": {\"data-69ab834bf758e5709c3e0344018232a8\": [{\"date\": \"2020-10-21T00:00:00\", \"totalTestResultsIncrease\": 1018258.0, \"positiveIncrease\": 60980.0, \"death\": 213943.0, \"deathIncrease\": 1025.0, \"positiveRate\": 0.06, \"state\": \"US\", \"sma7d\": 758.143}, {\"date\": \"2020-10-22T00:00:00\", \"totalTestResultsIncrease\": 1279065.0, \"positiveIncrease\": 73003.0, \"death\": 215069.0, \"deathIncrease\": 1126.0, \"positiveRate\": 0.057, \"state\": \"US\", \"sma7d\": 786.429}, {\"date\": \"2020-10-23T00:00:00\", \"totalTestResultsIncrease\": 1404573.0, \"positiveIncrease\": 82342.0, \"death\": 216010.0, \"deathIncrease\": 941.0, \"positiveRate\": 0.059, \"state\": \"US\", \"sma7d\": 793.143}, {\"date\": \"2020-10-24T00:00:00\", \"totalTestResultsIncrease\": 1312383.0, \"positiveIncrease\": 83319.0, \"death\": 216907.0, \"deathIncrease\": 897.0, \"positiveRate\": 0.063, \"state\": \"US\", \"sma7d\": 810.286}, {\"date\": \"2020-10-25T00:00:00\", \"totalTestResultsIncrease\": 1182219.0, \"positiveIncrease\": 64897.0, \"death\": 217294.0, \"deathIncrease\": 387.0, \"positiveRate\": 0.055, \"state\": \"US\", \"sma7d\": 808.143}, {\"date\": \"2020-10-26T00:00:00\", \"totalTestResultsIncrease\": 1194692.0, \"positiveIncrease\": 62535.0, \"death\": 217693.0, \"deathIncrease\": 399.0, \"positiveRate\": 0.052, \"state\": \"US\", \"sma7d\": 800.714}, {\"date\": \"2020-10-27T00:00:00\", \"totalTestResultsIncrease\": 1110506.0, \"positiveIncrease\": 72097.0, \"death\": 218622.0, \"deathIncrease\": 929.0, \"positiveRate\": 0.065, \"state\": \"US\", \"sma7d\": 814.857}, {\"date\": \"2020-10-28T00:00:00\", \"totalTestResultsIncrease\": 1165965.0, \"positiveIncrease\": 78793.0, \"death\": 219667.0, \"deathIncrease\": 1045.0, \"positiveRate\": 0.068, \"state\": \"US\", \"sma7d\": 817.714}, {\"date\": \"2020-10-29T00:00:00\", \"totalTestResultsIncrease\": 1363817.0, \"positiveIncrease\": 88728.0, \"death\": 220722.0, \"deathIncrease\": 1055.0, \"positiveRate\": 0.065, \"state\": \"US\", \"sma7d\": 807.571}, {\"date\": \"2020-10-30T00:00:00\", \"totalTestResultsIncrease\": 1395362.0, \"positiveIncrease\": 97263.0, \"death\": 221669.0, \"deathIncrease\": 947.0, \"positiveRate\": 0.07, \"state\": \"US\", \"sma7d\": 808.429}, {\"date\": \"2020-10-31T00:00:00\", \"totalTestResultsIncrease\": 1427079.0, \"positiveIncrease\": 90613.0, \"death\": 222639.0, \"deathIncrease\": 970.0, \"positiveRate\": 0.063, \"state\": \"US\", \"sma7d\": 818.857}, {\"date\": \"2020-11-01T00:00:00\", \"totalTestResultsIncrease\": 1177396.0, \"positiveIncrease\": 141347.0, \"death\": 223037.0, \"deathIncrease\": 398.0, \"positiveRate\": 0.12, \"state\": \"US\", \"sma7d\": 820.429}, {\"date\": \"2020-11-02T00:00:00\", \"totalTestResultsIncrease\": 1290672.0, \"positiveIncrease\": 83095.0, \"death\": 223511.0, \"deathIncrease\": 474.0, \"positiveRate\": 0.064, \"state\": \"US\", \"sma7d\": 831.143}, {\"date\": \"2020-11-03T00:00:00\", \"totalTestResultsIncrease\": 1221636.0, \"positiveIncrease\": 89864.0, \"death\": 225036.0, \"deathIncrease\": 1525.0, \"positiveRate\": 0.074, \"state\": \"US\", \"sma7d\": 916.286}, {\"date\": \"2020-11-04T00:00:00\", \"totalTestResultsIncrease\": 1279876.0, \"positiveIncrease\": 103553.0, \"death\": 226162.0, \"deathIncrease\": 1126.0, \"positiveRate\": 0.081, \"state\": \"US\", \"sma7d\": 927.857}, {\"date\": \"2020-11-05T00:00:00\", \"totalTestResultsIncrease\": 1612286.0, \"positiveIncrease\": 118056.0, \"death\": 227317.0, \"deathIncrease\": 1155.0, \"positiveRate\": 0.073, \"state\": \"US\", \"sma7d\": 942.143}, {\"date\": \"2020-11-06T00:00:00\", \"totalTestResultsIncrease\": 1620401.0, \"positiveIncrease\": 127492.0, \"death\": 228503.0, \"deathIncrease\": 1186.0, \"positiveRate\": 0.079, \"state\": \"US\", \"sma7d\": 976.286}, {\"date\": \"2020-11-07T00:00:00\", \"totalTestResultsIncrease\": 1449589.0, \"positiveIncrease\": 130816.0, \"death\": 229635.0, \"deathIncrease\": 1132.0, \"positiveRate\": 0.09, \"state\": \"US\", \"sma7d\": 999.429}, {\"date\": \"2020-11-08T00:00:00\", \"totalTestResultsIncrease\": 1219960.0, \"positiveIncrease\": 111499.0, \"death\": 230136.0, \"deathIncrease\": 501.0, \"positiveRate\": 0.091, \"state\": \"US\", \"sma7d\": 1014.143}, {\"date\": \"2020-11-09T00:00:00\", \"totalTestResultsIncrease\": 1444348.0, \"positiveIncrease\": 117498.0, \"death\": 230716.0, \"deathIncrease\": 580.0, \"positiveRate\": 0.081, \"state\": \"US\", \"sma7d\": 1029.286}, {\"date\": \"2020-11-10T00:00:00\", \"totalTestResultsIncrease\": 1345609.0, \"positiveIncrease\": 132974.0, \"death\": 232073.0, \"deathIncrease\": 1357.0, \"positiveRate\": 0.099, \"state\": \"US\", \"sma7d\": 1005.286}, {\"date\": \"2020-11-11T00:00:00\", \"totalTestResultsIncrease\": 1463882.0, \"positiveIncrease\": 146898.0, \"death\": 233652.0, \"deathIncrease\": 1579.0, \"positiveRate\": 0.1, \"state\": \"US\", \"sma7d\": 1070.0}, {\"date\": \"2020-11-12T00:00:00\", \"totalTestResultsIncrease\": 1570759.0, \"positiveIncrease\": 154175.0, \"death\": 234763.0, \"deathIncrease\": 1111.0, \"positiveRate\": 0.098, \"state\": \"US\", \"sma7d\": 1063.714}, {\"date\": \"2020-11-13T00:00:00\", \"totalTestResultsIncrease\": 1707142.0, \"positiveIncrease\": 174459.0, \"death\": 236067.0, \"deathIncrease\": 1304.0, \"positiveRate\": 0.102, \"state\": \"US\", \"sma7d\": 1080.571}, {\"date\": \"2020-11-14T00:00:00\", \"totalTestResultsIncrease\": 1706088.0, \"positiveIncrease\": 165821.0, \"death\": 237419.0, \"deathIncrease\": 1352.0, \"positiveRate\": 0.097, \"state\": \"US\", \"sma7d\": 1112.0}, {\"date\": \"2020-11-15T00:00:00\", \"totalTestResultsIncrease\": 1553446.0, \"positiveIncrease\": 145830.0, \"death\": 238127.0, \"deathIncrease\": 708.0, \"positiveRate\": 0.094, \"state\": \"US\", \"sma7d\": 1141.571}, {\"date\": \"2020-11-16T00:00:00\", \"totalTestResultsIncrease\": 1530093.0, \"positiveIncrease\": 149528.0, \"death\": 238736.0, \"deathIncrease\": 609.0, \"positiveRate\": 0.098, \"state\": \"US\", \"sma7d\": 1145.714}, {\"date\": \"2020-11-17T00:00:00\", \"totalTestResultsIncrease\": 1604676.0, \"positiveIncrease\": 158799.0, \"death\": 240298.0, \"deathIncrease\": 1562.0, \"positiveRate\": 0.099, \"state\": \"US\", \"sma7d\": 1175.0}, {\"date\": \"2020-11-18T00:00:00\", \"totalTestResultsIncrease\": 1620040.0, \"positiveIncrease\": 166167.0, \"death\": 242180.0, \"deathIncrease\": 1882.0, \"positiveRate\": 0.103, \"state\": \"US\", \"sma7d\": 1218.286}, {\"date\": \"2020-11-19T00:00:00\", \"totalTestResultsIncrease\": 1849976.0, \"positiveIncrease\": 184672.0, \"death\": 244200.0, \"deathIncrease\": 2020.0, \"positiveRate\": 0.1, \"state\": \"US\", \"sma7d\": 1348.143}, {\"date\": \"2020-11-20T00:00:00\", \"totalTestResultsIncrease\": 1947331.0, \"positiveIncrease\": 194810.0, \"death\": 246094.0, \"deathIncrease\": 1894.0, \"positiveRate\": 0.1, \"state\": \"US\", \"sma7d\": 1432.429}, {\"date\": \"2020-11-21T00:00:00\", \"totalTestResultsIncrease\": 2048675.0, \"positiveIncrease\": 181859.0, \"death\": 247648.0, \"deathIncrease\": 1554.0, \"positiveRate\": 0.089, \"state\": \"US\", \"sma7d\": 1461.286}, {\"date\": \"2020-11-22T00:00:00\", \"totalTestResultsIncrease\": 1753063.0, \"positiveIncrease\": 151896.0, \"death\": 248565.0, \"deathIncrease\": 917.0, \"positiveRate\": 0.087, \"state\": \"US\", \"sma7d\": 1491.143}, {\"date\": \"2020-11-23T00:00:00\", \"totalTestResultsIncrease\": 1694409.0, \"positiveIncrease\": 151893.0, \"death\": 249423.0, \"deathIncrease\": 858.0, \"positiveRate\": 0.09, \"state\": \"US\", \"sma7d\": 1526.714}, {\"date\": \"2020-11-24T00:00:00\", \"totalTestResultsIncrease\": 1884321.0, \"positiveIncrease\": 169264.0, \"death\": 251529.0, \"deathIncrease\": 2106.0, \"positiveRate\": 0.09, \"state\": \"US\", \"sma7d\": 1604.429}, {\"date\": \"2020-11-25T00:00:00\", \"totalTestResultsIncrease\": 1827348.0, \"positiveIncrease\": 186938.0, \"death\": 253809.0, \"deathIncrease\": 2280.0, \"positiveRate\": 0.102, \"state\": \"US\", \"sma7d\": 1661.286}, {\"date\": \"2020-11-26T00:00:00\", \"totalTestResultsIncrease\": 1268712.0, \"positiveIncrease\": 128439.0, \"death\": 255196.0, \"deathIncrease\": 1387.0, \"positiveRate\": 0.101, \"state\": \"US\", \"sma7d\": 1570.857}, {\"date\": \"2020-11-27T00:00:00\", \"totalTestResultsIncrease\": 2032305.0, \"positiveIncrease\": 194244.0, \"death\": 256588.0, \"deathIncrease\": 1392.0, \"positiveRate\": 0.096, \"state\": \"US\", \"sma7d\": 1499.143}, {\"date\": \"2020-11-28T00:00:00\", \"totalTestResultsIncrease\": 1673310.0, \"positiveIncrease\": 154915.0, \"death\": 257839.0, \"deathIncrease\": 1251.0, \"positiveRate\": 0.093, \"state\": \"US\", \"sma7d\": 1455.857}, {\"date\": \"2020-11-29T00:00:00\", \"totalTestResultsIncrease\": 1285520.0, \"positiveIncrease\": 136090.0, \"death\": 258662.0, \"deathIncrease\": 823.0, \"positiveRate\": 0.106, \"state\": \"US\", \"sma7d\": 1442.429}, {\"date\": \"2020-11-30T00:00:00\", \"totalTestResultsIncrease\": 1607270.0, \"positiveIncrease\": 148475.0, \"death\": 259697.0, \"deathIncrease\": 1035.0, \"positiveRate\": 0.092, \"state\": \"US\", \"sma7d\": 1467.714}, {\"date\": \"2020-12-01T00:00:00\", \"totalTestResultsIncrease\": 1473600.0, \"positiveIncrease\": 179217.0, \"death\": 262203.0, \"deathIncrease\": 2506.0, \"positiveRate\": 0.122, \"state\": \"US\", \"sma7d\": 1524.857}, {\"date\": \"2020-12-02T00:00:00\", \"totalTestResultsIncrease\": 1558765.0, \"positiveIncrease\": 198665.0, \"death\": 265007.0, \"deathIncrease\": 2804.0, \"positiveRate\": 0.127, \"state\": \"US\", \"sma7d\": 1599.714}, {\"date\": \"2020-12-03T00:00:00\", \"totalTestResultsIncrease\": 1896669.0, \"positiveIncrease\": 213364.0, \"death\": 267832.0, \"deathIncrease\": 2825.0, \"positiveRate\": 0.112, \"state\": \"US\", \"sma7d\": 1805.143}, {\"date\": \"2020-12-04T00:00:00\", \"totalTestResultsIncrease\": 1903635.0, \"positiveIncrease\": 227975.0, \"death\": 270405.0, \"deathIncrease\": 2573.0, \"positiveRate\": 0.12, \"state\": \"US\", \"sma7d\": 1973.857}, {\"date\": \"2020-12-05T00:00:00\", \"totalTestResultsIncrease\": 2211978.0, \"positiveIncrease\": 215393.0, \"death\": 272885.0, \"deathIncrease\": 2480.0, \"positiveRate\": 0.097, \"state\": \"US\", \"sma7d\": 2149.429}, {\"date\": \"2020-12-06T00:00:00\", \"totalTestResultsIncrease\": 1602098.0, \"positiveIncrease\": 179619.0, \"death\": 274030.0, \"deathIncrease\": 1145.0, \"positiveRate\": 0.112, \"state\": \"US\", \"sma7d\": 2195.429}, {\"date\": \"2020-12-07T00:00:00\", \"totalTestResultsIncrease\": 1718951.0, \"positiveIncrease\": 180819.0, \"death\": 275327.0, \"deathIncrease\": 1297.0, \"positiveRate\": 0.105, \"state\": \"US\", \"sma7d\": 2232.857}, {\"date\": \"2020-12-08T00:00:00\", \"totalTestResultsIncrease\": 1678036.0, \"positiveIncrease\": 220887.0, \"death\": 278030.0, \"deathIncrease\": 2703.0, \"positiveRate\": 0.132, \"state\": \"US\", \"sma7d\": 2261.0}, {\"date\": \"2020-12-09T00:00:00\", \"totalTestResultsIncrease\": 1813314.0, \"positiveIncrease\": 213456.0, \"death\": 281194.0, \"deathIncrease\": 3164.0, \"positiveRate\": 0.118, \"state\": \"US\", \"sma7d\": 2312.429}, {\"date\": \"2020-12-10T00:00:00\", \"totalTestResultsIncrease\": 1892905.0, \"positiveIncrease\": 218510.0, \"death\": 284309.0, \"deathIncrease\": 3115.0, \"positiveRate\": 0.115, \"state\": \"US\", \"sma7d\": 2353.857}, {\"date\": \"2020-12-11T00:00:00\", \"totalTestResultsIncrease\": 1992960.0, \"positiveIncrease\": 234810.0, \"death\": 287058.0, \"deathIncrease\": 2749.0, \"positiveRate\": 0.118, \"state\": \"US\", \"sma7d\": 2379.0}, {\"date\": \"2020-12-12T00:00:00\", \"totalTestResultsIncrease\": 1813428.0, \"positiveIncrease\": 225196.0, \"death\": 289552.0, \"deathIncrease\": 2494.0, \"positiveRate\": 0.124, \"state\": \"US\", \"sma7d\": 2381.0}, {\"date\": \"2020-12-13T00:00:00\", \"totalTestResultsIncrease\": 1764194.0, \"positiveIncrease\": 187754.0, \"death\": 291046.0, \"deathIncrease\": 1494.0, \"positiveRate\": 0.106, \"state\": \"US\", \"sma7d\": 2430.857}, {\"date\": \"2020-12-14T00:00:00\", \"totalTestResultsIncrease\": 2155016.0, \"positiveIncrease\": 192962.0, \"death\": 292228.0, \"deathIncrease\": 1358.0, \"positiveRate\": 0.09, \"state\": \"US\", \"sma7d\": 2439.571}]}}, {\"mode\": \"vega-lite\"});\n",
       "</script>"
      ],
      "text/plain": [
       "alt.LayerChart(...)"
      ]
     },
     "execution_count": 9,
     "metadata": {},
     "output_type": "execute_result"
    }
   ],
   "source": [
    "create_plot(us, 'deathIncrease')"
   ]
  },
  {
   "cell_type": "markdown",
   "metadata": {
    "papermill": {
     "duration": 0.016874,
     "end_time": "2020-12-15T09:27:15.035801",
     "exception": false,
     "start_time": "2020-12-15T09:27:15.018927",
     "status": "completed"
    },
    "tags": []
   },
   "source": [
    "## NY"
   ]
  },
  {
   "cell_type": "code",
   "execution_count": 10,
   "metadata": {
    "execution": {
     "iopub.execute_input": "2020-12-15T09:27:15.077606Z",
     "iopub.status.busy": "2020-12-15T09:27:15.077031Z",
     "iopub.status.idle": "2020-12-15T09:27:15.444746Z",
     "shell.execute_reply": "2020-12-15T09:27:15.445258Z"
    },
    "papermill": {
     "duration": 0.391521,
     "end_time": "2020-12-15T09:27:15.445607",
     "exception": false,
     "start_time": "2020-12-15T09:27:15.054086",
     "status": "completed"
    },
    "tags": []
   },
   "outputs": [],
   "source": [
    "ny = create_df(df, (lambda d: d['state'] == 'NY'), 'New York')"
   ]
  },
  {
   "cell_type": "code",
   "execution_count": 11,
   "metadata": {
    "execution": {
     "iopub.execute_input": "2020-12-15T09:27:15.487992Z",
     "iopub.status.busy": "2020-12-15T09:27:15.486792Z",
     "iopub.status.idle": "2020-12-15T09:27:15.583969Z",
     "shell.execute_reply": "2020-12-15T09:27:15.584395Z"
    },
    "papermill": {
     "duration": 0.120147,
     "end_time": "2020-12-15T09:27:15.584534",
     "exception": false,
     "start_time": "2020-12-15T09:27:15.464387",
     "status": "completed"
    },
    "tags": []
   },
   "outputs": [
    {
     "data": {
      "text/html": [
       "\n",
       "<div id=\"altair-viz-9427a04dcafc4cfeb0b29c4e13e6244b\"></div>\n",
       "<script type=\"text/javascript\">\n",
       "  (function(spec, embedOpt){\n",
       "    let outputDiv = document.currentScript.previousElementSibling;\n",
       "    if (outputDiv.id !== \"altair-viz-9427a04dcafc4cfeb0b29c4e13e6244b\") {\n",
       "      outputDiv = document.getElementById(\"altair-viz-9427a04dcafc4cfeb0b29c4e13e6244b\");\n",
       "    }\n",
       "    const paths = {\n",
       "      \"vega\": \"https://cdn.jsdelivr.net/npm//vega@5?noext\",\n",
       "      \"vega-lib\": \"https://cdn.jsdelivr.net/npm//vega-lib?noext\",\n",
       "      \"vega-lite\": \"https://cdn.jsdelivr.net/npm//vega-lite@4.8.1?noext\",\n",
       "      \"vega-embed\": \"https://cdn.jsdelivr.net/npm//vega-embed@6?noext\",\n",
       "    };\n",
       "\n",
       "    function loadScript(lib) {\n",
       "      return new Promise(function(resolve, reject) {\n",
       "        var s = document.createElement('script');\n",
       "        s.src = paths[lib];\n",
       "        s.async = true;\n",
       "        s.onload = () => resolve(paths[lib]);\n",
       "        s.onerror = () => reject(`Error loading script: ${paths[lib]}`);\n",
       "        document.getElementsByTagName(\"head\")[0].appendChild(s);\n",
       "      });\n",
       "    }\n",
       "\n",
       "    function showError(err) {\n",
       "      outputDiv.innerHTML = `<div class=\"error\" style=\"color:red;\">${err}</div>`;\n",
       "      throw err;\n",
       "    }\n",
       "\n",
       "    function displayChart(vegaEmbed) {\n",
       "      vegaEmbed(outputDiv, spec, embedOpt)\n",
       "        .catch(err => showError(`Javascript Error: ${err.message}<br>This usually means there's a typo in your chart specification. See the javascript console for the full traceback.`));\n",
       "    }\n",
       "\n",
       "    if(typeof define === \"function\" && define.amd) {\n",
       "      requirejs.config({paths});\n",
       "      require([\"vega-embed\"], displayChart, err => showError(`Error loading script: ${err.message}`));\n",
       "    } else if (typeof vegaEmbed === \"function\") {\n",
       "      displayChart(vegaEmbed);\n",
       "    } else {\n",
       "      loadScript(\"vega\")\n",
       "        .then(() => loadScript(\"vega-lite\"))\n",
       "        .then(() => loadScript(\"vega-embed\"))\n",
       "        .catch(showError)\n",
       "        .then(() => displayChart(vegaEmbed));\n",
       "    }\n",
       "  })({\"config\": {\"view\": {\"continuousWidth\": 400, \"continuousHeight\": 300}}, \"layer\": [{\"layer\": [{\"mark\": {\"type\": \"point\", \"size\": 75}, \"encoding\": {\"tooltip\": [{\"type\": \"temporal\", \"field\": \"date\"}, {\"type\": \"quantitative\", \"field\": \"positiveIncrease\"}, {\"type\": \"quantitative\", \"field\": \"sma7d\"}], \"x\": {\"type\": \"temporal\", \"field\": \"date\"}, \"y\": {\"type\": \"quantitative\", \"field\": \"positiveIncrease\"}}, \"selection\": {\"selector008\": {\"type\": \"interval\", \"bind\": \"scales\", \"encodings\": [\"x\", \"y\"]}}}, {\"mark\": {\"type\": \"line\", \"color\": \"purple\"}, \"encoding\": {\"x\": {\"type\": \"temporal\", \"field\": \"date\"}, \"y\": {\"type\": \"quantitative\", \"field\": \"sma7d\"}}}]}, {\"mark\": {\"type\": \"rule\", \"color\": \"#aaa\"}, \"encoding\": {\"x\": {\"type\": \"temporal\", \"field\": \"date\"}}, \"transform\": [{\"filter\": {\"selection\": \"selector007\"}}]}, {\"mark\": \"circle\", \"encoding\": {\"opacity\": {\"condition\": {\"value\": 1, \"selection\": \"selector007\"}, \"value\": 0}, \"tooltip\": [{\"type\": \"temporal\", \"field\": \"date\"}, {\"type\": \"quantitative\", \"field\": \"positiveIncrease\"}, {\"type\": \"quantitative\", \"field\": \"sma7d\"}], \"x\": {\"type\": \"temporal\", \"field\": \"date\"}, \"y\": {\"type\": \"quantitative\", \"field\": \"positiveIncrease\"}}, \"selection\": {\"selector007\": {\"type\": \"single\", \"encodings\": [\"x\"], \"on\": \"mouseover\", \"nearest\": true, \"empty\": \"none\"}}}, {\"mark\": {\"type\": \"text\", \"align\": \"left\", \"dx\": 5, \"dy\": -5, \"stroke\": \"white\", \"strokeWidth\": 2}, \"encoding\": {\"text\": {\"type\": \"quantitative\", \"field\": \"positiveIncrease\"}, \"tooltip\": [{\"type\": \"temporal\", \"field\": \"date\"}, {\"type\": \"quantitative\", \"field\": \"positiveIncrease\"}, {\"type\": \"quantitative\", \"field\": \"sma7d\"}], \"x\": {\"type\": \"temporal\", \"field\": \"date\"}, \"y\": {\"type\": \"quantitative\", \"field\": \"positiveIncrease\"}}, \"transform\": [{\"filter\": {\"selection\": \"selector007\"}}]}, {\"mark\": {\"type\": \"text\", \"align\": \"left\", \"dx\": 5, \"dy\": -5}, \"encoding\": {\"text\": {\"type\": \"quantitative\", \"field\": \"positiveIncrease\"}, \"tooltip\": [{\"type\": \"temporal\", \"field\": \"date\"}, {\"type\": \"quantitative\", \"field\": \"positiveIncrease\"}, {\"type\": \"quantitative\", \"field\": \"sma7d\"}], \"x\": {\"type\": \"temporal\", \"field\": \"date\"}, \"y\": {\"type\": \"quantitative\", \"field\": \"positiveIncrease\"}}, \"transform\": [{\"filter\": {\"selection\": \"selector007\"}}]}], \"data\": {\"name\": \"data-3d32dd335c7f6cf88cd20b217391e1d8\"}, \"height\": 400, \"title\": \"New York: positiveIncrease\", \"width\": 500, \"$schema\": \"https://vega.github.io/schema/vega-lite/v4.8.1.json\", \"datasets\": {\"data-3d32dd335c7f6cf88cd20b217391e1d8\": [{\"date\": \"2020-10-21T00:00:00\", \"totalTestResultsIncrease\": 124789.0, \"positiveIncrease\": 2026.0, \"death\": 25679.0, \"deathIncrease\": 7.0, \"positiveRate\": 0.016, \"state\": \"New York\", \"sma7d\": 1509.429}, {\"date\": \"2020-10-22T00:00:00\", \"totalTestResultsIncrease\": 135341.0, \"positiveIncrease\": 1628.0, \"death\": 25694.0, \"deathIncrease\": 15.0, \"positiveRate\": 0.012, \"state\": \"New York\", \"sma7d\": 1533.429}, {\"date\": \"2020-10-23T00:00:00\", \"totalTestResultsIncrease\": 141508.0, \"positiveIncrease\": 1637.0, \"death\": 25705.0, \"deathIncrease\": 11.0, \"positiveRate\": 0.012, \"state\": \"New York\", \"sma7d\": 1523.429}, {\"date\": \"2020-10-24T00:00:00\", \"totalTestResultsIncrease\": 156940.0, \"positiveIncrease\": 2061.0, \"death\": 25718.0, \"deathIncrease\": 13.0, \"positiveRate\": 0.013, \"state\": \"New York\", \"sma7d\": 1563.0}, {\"date\": \"2020-10-25T00:00:00\", \"totalTestResultsIncrease\": 120830.0, \"positiveIncrease\": 1632.0, \"death\": 25730.0, \"deathIncrease\": 12.0, \"positiveRate\": 0.014, \"state\": \"New York\", \"sma7d\": 1597.571}, {\"date\": \"2020-10-26T00:00:00\", \"totalTestResultsIncrease\": 82117.0, \"positiveIncrease\": 1191.0, \"death\": 25742.0, \"deathIncrease\": 12.0, \"positiveRate\": 0.015, \"state\": \"New York\", \"sma7d\": 1625.143}, {\"date\": \"2020-10-27T00:00:00\", \"totalTestResultsIncrease\": 111618.0, \"positiveIncrease\": 1991.0, \"death\": 25758.0, \"deathIncrease\": 16.0, \"positiveRate\": 0.018, \"state\": \"New York\", \"sma7d\": 1738.0}, {\"date\": \"2020-10-28T00:00:00\", \"totalTestResultsIncrease\": 129660.0, \"positiveIncrease\": 2031.0, \"death\": 25773.0, \"deathIncrease\": 15.0, \"positiveRate\": 0.016, \"state\": \"New York\", \"sma7d\": 1738.714}, {\"date\": \"2020-10-29T00:00:00\", \"totalTestResultsIncrease\": 168353.0, \"positiveIncrease\": 2499.0, \"death\": 25792.0, \"deathIncrease\": 19.0, \"positiveRate\": 0.015, \"state\": \"New York\", \"sma7d\": 1863.143}, {\"date\": \"2020-10-30T00:00:00\", \"totalTestResultsIncrease\": 146885.0, \"positiveIncrease\": 2255.0, \"death\": 25804.0, \"deathIncrease\": 12.0, \"positiveRate\": 0.015, \"state\": \"New York\", \"sma7d\": 1951.429}, {\"date\": \"2020-10-31T00:00:00\", \"totalTestResultsIncrease\": 136962.0, \"positiveIncrease\": 2049.0, \"death\": 25807.0, \"deathIncrease\": 3.0, \"positiveRate\": 0.015, \"state\": \"New York\", \"sma7d\": 1949.714}, {\"date\": \"2020-11-01T00:00:00\", \"totalTestResultsIncrease\": 148935.0, \"positiveIncrease\": 2255.0, \"death\": 25824.0, \"deathIncrease\": 17.0, \"positiveRate\": 0.015, \"state\": \"New York\", \"sma7d\": 2038.714}, {\"date\": \"2020-11-02T00:00:00\", \"totalTestResultsIncrease\": 96101.0, \"positiveIncrease\": 1633.0, \"death\": 25838.0, \"deathIncrease\": 14.0, \"positiveRate\": 0.017, \"state\": \"New York\", \"sma7d\": 2101.857}, {\"date\": \"2020-11-03T00:00:00\", \"totalTestResultsIncrease\": 127869.0, \"positiveIncrease\": 2321.0, \"death\": 25853.0, \"deathIncrease\": 15.0, \"positiveRate\": 0.018, \"state\": \"New York\", \"sma7d\": 2149.0}, {\"date\": \"2020-11-04T00:00:00\", \"totalTestResultsIncrease\": 133534.0, \"positiveIncrease\": 2126.0, \"death\": 25868.0, \"deathIncrease\": 15.0, \"positiveRate\": 0.016, \"state\": \"New York\", \"sma7d\": 2162.571}, {\"date\": \"2020-11-05T00:00:00\", \"totalTestResultsIncrease\": 161019.0, \"positiveIncrease\": 2997.0, \"death\": 25892.0, \"deathIncrease\": 24.0, \"positiveRate\": 0.019, \"state\": \"New York\", \"sma7d\": 2233.714}, {\"date\": \"2020-11-06T00:00:00\", \"totalTestResultsIncrease\": 160705.0, \"positiveIncrease\": 3209.0, \"death\": 25910.0, \"deathIncrease\": 18.0, \"positiveRate\": 0.02, \"state\": \"New York\", \"sma7d\": 2370.0}, {\"date\": \"2020-11-07T00:00:00\", \"totalTestResultsIncrease\": 163291.0, \"positiveIncrease\": 3587.0, \"death\": 25928.0, \"deathIncrease\": 18.0, \"positiveRate\": 0.022, \"state\": \"New York\", \"sma7d\": 2589.714}, {\"date\": \"2020-11-08T00:00:00\", \"totalTestResultsIncrease\": 145642.0, \"positiveIncrease\": 3428.0, \"death\": 25947.0, \"deathIncrease\": 19.0, \"positiveRate\": 0.024, \"state\": \"New York\", \"sma7d\": 2757.286}, {\"date\": \"2020-11-09T00:00:00\", \"totalTestResultsIncrease\": 111416.0, \"positiveIncrease\": 3144.0, \"death\": 25973.0, \"deathIncrease\": 26.0, \"positiveRate\": 0.028, \"state\": \"New York\", \"sma7d\": 2973.143}, {\"date\": \"2020-11-10T00:00:00\", \"totalTestResultsIncrease\": 128036.0, \"positiveIncrease\": 3965.0, \"death\": 26005.0, \"deathIncrease\": 32.0, \"positiveRate\": 0.031, \"state\": \"New York\", \"sma7d\": 3208.0}, {\"date\": \"2020-11-11T00:00:00\", \"totalTestResultsIncrease\": 164300.0, \"positiveIncrease\": 4820.0, \"death\": 26026.0, \"deathIncrease\": 21.0, \"positiveRate\": 0.029, \"state\": \"New York\", \"sma7d\": 3592.857}, {\"date\": \"2020-11-12T00:00:00\", \"totalTestResultsIncrease\": 162627.0, \"positiveIncrease\": 4797.0, \"death\": 26055.0, \"deathIncrease\": 29.0, \"positiveRate\": 0.029, \"state\": \"New York\", \"sma7d\": 3850.0}, {\"date\": \"2020-11-13T00:00:00\", \"totalTestResultsIncrease\": 203721.0, \"positiveIncrease\": 5401.0, \"death\": 26079.0, \"deathIncrease\": 24.0, \"positiveRate\": 0.027, \"state\": \"New York\", \"sma7d\": 4163.143}, {\"date\": \"2020-11-14T00:00:00\", \"totalTestResultsIncrease\": 184162.0, \"positiveIncrease\": 5388.0, \"death\": 26103.0, \"deathIncrease\": 24.0, \"positiveRate\": 0.029, \"state\": \"New York\", \"sma7d\": 4420.429}, {\"date\": \"2020-11-15T00:00:00\", \"totalTestResultsIncrease\": 133202.0, \"positiveIncrease\": 3649.0, \"death\": 26133.0, \"deathIncrease\": 30.0, \"positiveRate\": 0.027, \"state\": \"New York\", \"sma7d\": 4452.0}, {\"date\": \"2020-11-16T00:00:00\", \"totalTestResultsIncrease\": 124565.0, \"positiveIncrease\": 3490.0, \"death\": 26159.0, \"deathIncrease\": 26.0, \"positiveRate\": 0.028, \"state\": \"New York\", \"sma7d\": 4501.429}, {\"date\": \"2020-11-17T00:00:00\", \"totalTestResultsIncrease\": 159852.0, \"positiveIncrease\": 5088.0, \"death\": 26189.0, \"deathIncrease\": 30.0, \"positiveRate\": 0.032, \"state\": \"New York\", \"sma7d\": 4661.857}, {\"date\": \"2020-11-18T00:00:00\", \"totalTestResultsIncrease\": 154434.0, \"positiveIncrease\": 5294.0, \"death\": 26225.0, \"deathIncrease\": 36.0, \"positiveRate\": 0.034, \"state\": \"New York\", \"sma7d\": 4729.571}, {\"date\": \"2020-11-19T00:00:00\", \"totalTestResultsIncrease\": 195239.0, \"positiveIncrease\": 5310.0, \"death\": 26257.0, \"deathIncrease\": 32.0, \"positiveRate\": 0.027, \"state\": \"New York\", \"sma7d\": 4802.857}, {\"date\": \"2020-11-20T00:00:00\", \"totalTestResultsIncrease\": 205466.0, \"positiveIncrease\": 5468.0, \"death\": 26292.0, \"deathIncrease\": 35.0, \"positiveRate\": 0.027, \"state\": \"New York\", \"sma7d\": 4812.429}, {\"date\": \"2020-11-21T00:00:00\", \"totalTestResultsIncrease\": 207907.0, \"positiveIncrease\": 5972.0, \"death\": 26326.0, \"deathIncrease\": 34.0, \"positiveRate\": 0.029, \"state\": \"New York\", \"sma7d\": 4895.857}, {\"date\": \"2020-11-22T00:00:00\", \"totalTestResultsIncrease\": 196610.0, \"positiveIncrease\": 5392.0, \"death\": 26357.0, \"deathIncrease\": 31.0, \"positiveRate\": 0.027, \"state\": \"New York\", \"sma7d\": 5144.857}, {\"date\": \"2020-11-23T00:00:00\", \"totalTestResultsIncrease\": 191489.0, \"positiveIncrease\": 5906.0, \"death\": 26390.0, \"deathIncrease\": 33.0, \"positiveRate\": 0.031, \"state\": \"New York\", \"sma7d\": 5490.0}, {\"date\": \"2020-11-24T00:00:00\", \"totalTestResultsIncrease\": 164761.0, \"positiveIncrease\": 4881.0, \"death\": 26441.0, \"deathIncrease\": 51.0, \"positiveRate\": 0.03, \"state\": \"New York\", \"sma7d\": 5460.429}, {\"date\": \"2020-11-25T00:00:00\", \"totalTestResultsIncrease\": 173085.0, \"positiveIncrease\": 6265.0, \"death\": 26482.0, \"deathIncrease\": 41.0, \"positiveRate\": 0.036, \"state\": \"New York\", \"sma7d\": 5599.143}, {\"date\": \"2020-11-26T00:00:00\", \"totalTestResultsIncrease\": 217721.0, \"positiveIncrease\": 6933.0, \"death\": 26549.0, \"deathIncrease\": 67.0, \"positiveRate\": 0.032, \"state\": \"New York\", \"sma7d\": 5831.0}, {\"date\": \"2020-11-27T00:00:00\", \"totalTestResultsIncrease\": 219442.0, \"positiveIncrease\": 8176.0, \"death\": 26588.0, \"deathIncrease\": 39.0, \"positiveRate\": 0.037, \"state\": \"New York\", \"sma7d\": 6217.857}, {\"date\": \"2020-11-28T00:00:00\", \"totalTestResultsIncrease\": 152355.0, \"positiveIncrease\": 6063.0, \"death\": 26632.0, \"deathIncrease\": 44.0, \"positiveRate\": 0.04, \"state\": \"New York\", \"sma7d\": 6230.857}, {\"date\": \"2020-11-29T00:00:00\", \"totalTestResultsIncrease\": 157320.0, \"positiveIncrease\": 6723.0, \"death\": 26690.0, \"deathIncrease\": 58.0, \"positiveRate\": 0.043, \"state\": \"New York\", \"sma7d\": 6421.0}, {\"date\": \"2020-11-30T00:00:00\", \"totalTestResultsIncrease\": 148974.0, \"positiveIncrease\": 6819.0, \"death\": 26747.0, \"deathIncrease\": 57.0, \"positiveRate\": 0.046, \"state\": \"New York\", \"sma7d\": 6551.429}, {\"date\": \"2020-12-01T00:00:00\", \"totalTestResultsIncrease\": 146675.0, \"positiveIncrease\": 7285.0, \"death\": 26816.0, \"deathIncrease\": 69.0, \"positiveRate\": 0.05, \"state\": \"New York\", \"sma7d\": 6894.857}, {\"date\": \"2020-12-02T00:00:00\", \"totalTestResultsIncrease\": 193551.0, \"positiveIncrease\": 8973.0, \"death\": 26889.0, \"deathIncrease\": 73.0, \"positiveRate\": 0.046, \"state\": \"New York\", \"sma7d\": 7281.714}, {\"date\": \"2020-12-03T00:00:00\", \"totalTestResultsIncrease\": 203440.0, \"positiveIncrease\": 9855.0, \"death\": 26955.0, \"deathIncrease\": 66.0, \"positiveRate\": 0.048, \"state\": \"New York\", \"sma7d\": 7699.143}, {\"date\": \"2020-12-04T00:00:00\", \"totalTestResultsIncrease\": 208297.0, \"positiveIncrease\": 11271.0, \"death\": 27017.0, \"deathIncrease\": 62.0, \"positiveRate\": 0.054, \"state\": \"New York\", \"sma7d\": 8141.286}, {\"date\": \"2020-12-05T00:00:00\", \"totalTestResultsIncrease\": 215401.0, \"positiveIncrease\": 10761.0, \"death\": 27089.0, \"deathIncrease\": 72.0, \"positiveRate\": 0.05, \"state\": \"New York\", \"sma7d\": 8812.429}, {\"date\": \"2020-12-06T00:00:00\", \"totalTestResultsIncrease\": 205832.0, \"positiveIncrease\": 9702.0, \"death\": 27149.0, \"deathIncrease\": 60.0, \"positiveRate\": 0.047, \"state\": \"New York\", \"sma7d\": 9238.0}, {\"date\": \"2020-12-07T00:00:00\", \"totalTestResultsIncrease\": 152287.0, \"positiveIncrease\": 7302.0, \"death\": 27232.0, \"deathIncrease\": 83.0, \"positiveRate\": 0.048, \"state\": \"New York\", \"sma7d\": 9307.0}, {\"date\": \"2020-12-08T00:00:00\", \"totalTestResultsIncrease\": 162464.0, \"positiveIncrease\": 9335.0, \"death\": 27307.0, \"deathIncrease\": 75.0, \"positiveRate\": 0.057, \"state\": \"New York\", \"sma7d\": 9599.857}, {\"date\": \"2020-12-09T00:00:00\", \"totalTestResultsIncrease\": 194595.0, \"positiveIncrease\": 10600.0, \"death\": 27404.0, \"deathIncrease\": 97.0, \"positiveRate\": 0.054, \"state\": \"New York\", \"sma7d\": 9832.286}, {\"date\": \"2020-12-10T00:00:00\", \"totalTestResultsIncrease\": 197406.0, \"positiveIncrease\": 10178.0, \"death\": 27498.0, \"deathIncrease\": 94.0, \"positiveRate\": 0.052, \"state\": \"New York\", \"sma7d\": 9878.429}, {\"date\": \"2020-12-11T00:00:00\", \"totalTestResultsIncrease\": 212672.0, \"positiveIncrease\": 10595.0, \"death\": 27587.0, \"deathIncrease\": 89.0, \"positiveRate\": 0.05, \"state\": \"New York\", \"sma7d\": 9781.857}, {\"date\": \"2020-12-12T00:00:00\", \"totalTestResultsIncrease\": 242927.0, \"positiveIncrease\": 11129.0, \"death\": 27675.0, \"deathIncrease\": 88.0, \"positiveRate\": 0.046, \"state\": \"New York\", \"sma7d\": 9834.429}, {\"date\": \"2020-12-13T00:00:00\", \"totalTestResultsIncrease\": 205250.0, \"positiveIncrease\": 10194.0, \"death\": 27785.0, \"deathIncrease\": 110.0, \"positiveRate\": 0.05, \"state\": \"New York\", \"sma7d\": 9904.714}, {\"date\": \"2020-12-14T00:00:00\", \"totalTestResultsIncrease\": 159844.0, \"positiveIncrease\": 9044.0, \"death\": 27870.0, \"deathIncrease\": 85.0, \"positiveRate\": 0.057, \"state\": \"New York\", \"sma7d\": 10153.571}]}}, {\"mode\": \"vega-lite\"});\n",
       "</script>"
      ],
      "text/plain": [
       "alt.LayerChart(...)"
      ]
     },
     "execution_count": 11,
     "metadata": {},
     "output_type": "execute_result"
    }
   ],
   "source": [
    "create_plot(ny, 'positiveIncrease')"
   ]
  },
  {
   "cell_type": "code",
   "execution_count": 12,
   "metadata": {
    "execution": {
     "iopub.execute_input": "2020-12-15T09:27:15.643579Z",
     "iopub.status.busy": "2020-12-15T09:27:15.633136Z",
     "iopub.status.idle": "2020-12-15T09:27:15.725141Z",
     "shell.execute_reply": "2020-12-15T09:27:15.725822Z"
    },
    "papermill": {
     "duration": 0.123684,
     "end_time": "2020-12-15T09:27:15.726001",
     "exception": false,
     "start_time": "2020-12-15T09:27:15.602317",
     "status": "completed"
    },
    "tags": []
   },
   "outputs": [
    {
     "data": {
      "text/html": [
       "\n",
       "<div id=\"altair-viz-492833da6291487abcdcfeb57a8c95ef\"></div>\n",
       "<script type=\"text/javascript\">\n",
       "  (function(spec, embedOpt){\n",
       "    let outputDiv = document.currentScript.previousElementSibling;\n",
       "    if (outputDiv.id !== \"altair-viz-492833da6291487abcdcfeb57a8c95ef\") {\n",
       "      outputDiv = document.getElementById(\"altair-viz-492833da6291487abcdcfeb57a8c95ef\");\n",
       "    }\n",
       "    const paths = {\n",
       "      \"vega\": \"https://cdn.jsdelivr.net/npm//vega@5?noext\",\n",
       "      \"vega-lib\": \"https://cdn.jsdelivr.net/npm//vega-lib?noext\",\n",
       "      \"vega-lite\": \"https://cdn.jsdelivr.net/npm//vega-lite@4.8.1?noext\",\n",
       "      \"vega-embed\": \"https://cdn.jsdelivr.net/npm//vega-embed@6?noext\",\n",
       "    };\n",
       "\n",
       "    function loadScript(lib) {\n",
       "      return new Promise(function(resolve, reject) {\n",
       "        var s = document.createElement('script');\n",
       "        s.src = paths[lib];\n",
       "        s.async = true;\n",
       "        s.onload = () => resolve(paths[lib]);\n",
       "        s.onerror = () => reject(`Error loading script: ${paths[lib]}`);\n",
       "        document.getElementsByTagName(\"head\")[0].appendChild(s);\n",
       "      });\n",
       "    }\n",
       "\n",
       "    function showError(err) {\n",
       "      outputDiv.innerHTML = `<div class=\"error\" style=\"color:red;\">${err}</div>`;\n",
       "      throw err;\n",
       "    }\n",
       "\n",
       "    function displayChart(vegaEmbed) {\n",
       "      vegaEmbed(outputDiv, spec, embedOpt)\n",
       "        .catch(err => showError(`Javascript Error: ${err.message}<br>This usually means there's a typo in your chart specification. See the javascript console for the full traceback.`));\n",
       "    }\n",
       "\n",
       "    if(typeof define === \"function\" && define.amd) {\n",
       "      requirejs.config({paths});\n",
       "      require([\"vega-embed\"], displayChart, err => showError(`Error loading script: ${err.message}`));\n",
       "    } else if (typeof vegaEmbed === \"function\") {\n",
       "      displayChart(vegaEmbed);\n",
       "    } else {\n",
       "      loadScript(\"vega\")\n",
       "        .then(() => loadScript(\"vega-lite\"))\n",
       "        .then(() => loadScript(\"vega-embed\"))\n",
       "        .catch(showError)\n",
       "        .then(() => displayChart(vegaEmbed));\n",
       "    }\n",
       "  })({\"config\": {\"view\": {\"continuousWidth\": 400, \"continuousHeight\": 300}}, \"layer\": [{\"layer\": [{\"mark\": {\"type\": \"point\", \"size\": 75}, \"encoding\": {\"tooltip\": [{\"type\": \"temporal\", \"field\": \"date\"}, {\"type\": \"quantitative\", \"field\": \"positiveRate\"}, {\"type\": \"quantitative\", \"field\": \"sma7d\"}], \"x\": {\"type\": \"temporal\", \"field\": \"date\"}, \"y\": {\"type\": \"quantitative\", \"field\": \"positiveRate\"}}, \"selection\": {\"selector010\": {\"type\": \"interval\", \"bind\": \"scales\", \"encodings\": [\"x\", \"y\"]}}}, {\"mark\": {\"type\": \"line\", \"color\": \"purple\"}, \"encoding\": {\"x\": {\"type\": \"temporal\", \"field\": \"date\"}, \"y\": {\"type\": \"quantitative\", \"field\": \"sma7d\"}}}]}, {\"mark\": {\"type\": \"rule\", \"color\": \"#aaa\"}, \"encoding\": {\"x\": {\"type\": \"temporal\", \"field\": \"date\"}}, \"transform\": [{\"filter\": {\"selection\": \"selector009\"}}]}, {\"mark\": \"circle\", \"encoding\": {\"opacity\": {\"condition\": {\"value\": 1, \"selection\": \"selector009\"}, \"value\": 0}, \"tooltip\": [{\"type\": \"temporal\", \"field\": \"date\"}, {\"type\": \"quantitative\", \"field\": \"positiveRate\"}, {\"type\": \"quantitative\", \"field\": \"sma7d\"}], \"x\": {\"type\": \"temporal\", \"field\": \"date\"}, \"y\": {\"type\": \"quantitative\", \"field\": \"positiveRate\"}}, \"selection\": {\"selector009\": {\"type\": \"single\", \"encodings\": [\"x\"], \"on\": \"mouseover\", \"nearest\": true, \"empty\": \"none\"}}}, {\"mark\": {\"type\": \"text\", \"align\": \"left\", \"dx\": 5, \"dy\": -5, \"stroke\": \"white\", \"strokeWidth\": 2}, \"encoding\": {\"text\": {\"type\": \"quantitative\", \"field\": \"positiveRate\"}, \"tooltip\": [{\"type\": \"temporal\", \"field\": \"date\"}, {\"type\": \"quantitative\", \"field\": \"positiveRate\"}, {\"type\": \"quantitative\", \"field\": \"sma7d\"}], \"x\": {\"type\": \"temporal\", \"field\": \"date\"}, \"y\": {\"type\": \"quantitative\", \"field\": \"positiveRate\"}}, \"transform\": [{\"filter\": {\"selection\": \"selector009\"}}]}, {\"mark\": {\"type\": \"text\", \"align\": \"left\", \"dx\": 5, \"dy\": -5}, \"encoding\": {\"text\": {\"type\": \"quantitative\", \"field\": \"positiveRate\"}, \"tooltip\": [{\"type\": \"temporal\", \"field\": \"date\"}, {\"type\": \"quantitative\", \"field\": \"positiveRate\"}, {\"type\": \"quantitative\", \"field\": \"sma7d\"}], \"x\": {\"type\": \"temporal\", \"field\": \"date\"}, \"y\": {\"type\": \"quantitative\", \"field\": \"positiveRate\"}}, \"transform\": [{\"filter\": {\"selection\": \"selector009\"}}]}], \"data\": {\"name\": \"data-61205911826542519c9e467a331d3d22\"}, \"height\": 400, \"title\": \"New York: positiveRate\", \"width\": 500, \"$schema\": \"https://vega.github.io/schema/vega-lite/v4.8.1.json\", \"datasets\": {\"data-61205911826542519c9e467a331d3d22\": [{\"date\": \"2020-10-21T00:00:00\", \"totalTestResultsIncrease\": 124789.0, \"positiveIncrease\": 2026.0, \"death\": 25679.0, \"deathIncrease\": 7.0, \"positiveRate\": 0.016, \"state\": \"New York\", \"sma7d\": 0.012}, {\"date\": \"2020-10-22T00:00:00\", \"totalTestResultsIncrease\": 135341.0, \"positiveIncrease\": 1628.0, \"death\": 25694.0, \"deathIncrease\": 15.0, \"positiveRate\": 0.012, \"state\": \"New York\", \"sma7d\": 0.013}, {\"date\": \"2020-10-23T00:00:00\", \"totalTestResultsIncrease\": 141508.0, \"positiveIncrease\": 1637.0, \"death\": 25705.0, \"deathIncrease\": 11.0, \"positiveRate\": 0.012, \"state\": \"New York\", \"sma7d\": 0.012}, {\"date\": \"2020-10-24T00:00:00\", \"totalTestResultsIncrease\": 156940.0, \"positiveIncrease\": 2061.0, \"death\": 25718.0, \"deathIncrease\": 13.0, \"positiveRate\": 0.013, \"state\": \"New York\", \"sma7d\": 0.013}, {\"date\": \"2020-10-25T00:00:00\", \"totalTestResultsIncrease\": 120830.0, \"positiveIncrease\": 1632.0, \"death\": 25730.0, \"deathIncrease\": 12.0, \"positiveRate\": 0.014, \"state\": \"New York\", \"sma7d\": 0.013}, {\"date\": \"2020-10-26T00:00:00\", \"totalTestResultsIncrease\": 82117.0, \"positiveIncrease\": 1191.0, \"death\": 25742.0, \"deathIncrease\": 12.0, \"positiveRate\": 0.015, \"state\": \"New York\", \"sma7d\": 0.014}, {\"date\": \"2020-10-27T00:00:00\", \"totalTestResultsIncrease\": 111618.0, \"positiveIncrease\": 1991.0, \"death\": 25758.0, \"deathIncrease\": 16.0, \"positiveRate\": 0.018, \"state\": \"New York\", \"sma7d\": 0.014}, {\"date\": \"2020-10-28T00:00:00\", \"totalTestResultsIncrease\": 129660.0, \"positiveIncrease\": 2031.0, \"death\": 25773.0, \"deathIncrease\": 15.0, \"positiveRate\": 0.016, \"state\": \"New York\", \"sma7d\": 0.014}, {\"date\": \"2020-10-29T00:00:00\", \"totalTestResultsIncrease\": 168353.0, \"positiveIncrease\": 2499.0, \"death\": 25792.0, \"deathIncrease\": 19.0, \"positiveRate\": 0.015, \"state\": \"New York\", \"sma7d\": 0.015}, {\"date\": \"2020-10-30T00:00:00\", \"totalTestResultsIncrease\": 146885.0, \"positiveIncrease\": 2255.0, \"death\": 25804.0, \"deathIncrease\": 12.0, \"positiveRate\": 0.015, \"state\": \"New York\", \"sma7d\": 0.015}, {\"date\": \"2020-10-31T00:00:00\", \"totalTestResultsIncrease\": 136962.0, \"positiveIncrease\": 2049.0, \"death\": 25807.0, \"deathIncrease\": 3.0, \"positiveRate\": 0.015, \"state\": \"New York\", \"sma7d\": 0.015}, {\"date\": \"2020-11-01T00:00:00\", \"totalTestResultsIncrease\": 148935.0, \"positiveIncrease\": 2255.0, \"death\": 25824.0, \"deathIncrease\": 17.0, \"positiveRate\": 0.015, \"state\": \"New York\", \"sma7d\": 0.016}, {\"date\": \"2020-11-02T00:00:00\", \"totalTestResultsIncrease\": 96101.0, \"positiveIncrease\": 1633.0, \"death\": 25838.0, \"deathIncrease\": 14.0, \"positiveRate\": 0.017, \"state\": \"New York\", \"sma7d\": 0.016}, {\"date\": \"2020-11-03T00:00:00\", \"totalTestResultsIncrease\": 127869.0, \"positiveIncrease\": 2321.0, \"death\": 25853.0, \"deathIncrease\": 15.0, \"positiveRate\": 0.018, \"state\": \"New York\", \"sma7d\": 0.016}, {\"date\": \"2020-11-04T00:00:00\", \"totalTestResultsIncrease\": 133534.0, \"positiveIncrease\": 2126.0, \"death\": 25868.0, \"deathIncrease\": 15.0, \"positiveRate\": 0.016, \"state\": \"New York\", \"sma7d\": 0.016}, {\"date\": \"2020-11-05T00:00:00\", \"totalTestResultsIncrease\": 161019.0, \"positiveIncrease\": 2997.0, \"death\": 25892.0, \"deathIncrease\": 24.0, \"positiveRate\": 0.019, \"state\": \"New York\", \"sma7d\": 0.016}, {\"date\": \"2020-11-06T00:00:00\", \"totalTestResultsIncrease\": 160705.0, \"positiveIncrease\": 3209.0, \"death\": 25910.0, \"deathIncrease\": 18.0, \"positiveRate\": 0.02, \"state\": \"New York\", \"sma7d\": 0.017}, {\"date\": \"2020-11-07T00:00:00\", \"totalTestResultsIncrease\": 163291.0, \"positiveIncrease\": 3587.0, \"death\": 25928.0, \"deathIncrease\": 18.0, \"positiveRate\": 0.022, \"state\": \"New York\", \"sma7d\": 0.018}, {\"date\": \"2020-11-08T00:00:00\", \"totalTestResultsIncrease\": 145642.0, \"positiveIncrease\": 3428.0, \"death\": 25947.0, \"deathIncrease\": 19.0, \"positiveRate\": 0.024, \"state\": \"New York\", \"sma7d\": 0.019}, {\"date\": \"2020-11-09T00:00:00\", \"totalTestResultsIncrease\": 111416.0, \"positiveIncrease\": 3144.0, \"death\": 25973.0, \"deathIncrease\": 26.0, \"positiveRate\": 0.028, \"state\": \"New York\", \"sma7d\": 0.021}, {\"date\": \"2020-11-10T00:00:00\", \"totalTestResultsIncrease\": 128036.0, \"positiveIncrease\": 3965.0, \"death\": 26005.0, \"deathIncrease\": 32.0, \"positiveRate\": 0.031, \"state\": \"New York\", \"sma7d\": 0.023}, {\"date\": \"2020-11-11T00:00:00\", \"totalTestResultsIncrease\": 164300.0, \"positiveIncrease\": 4820.0, \"death\": 26026.0, \"deathIncrease\": 21.0, \"positiveRate\": 0.029, \"state\": \"New York\", \"sma7d\": 0.025}, {\"date\": \"2020-11-12T00:00:00\", \"totalTestResultsIncrease\": 162627.0, \"positiveIncrease\": 4797.0, \"death\": 26055.0, \"deathIncrease\": 29.0, \"positiveRate\": 0.029, \"state\": \"New York\", \"sma7d\": 0.026}, {\"date\": \"2020-11-13T00:00:00\", \"totalTestResultsIncrease\": 203721.0, \"positiveIncrease\": 5401.0, \"death\": 26079.0, \"deathIncrease\": 24.0, \"positiveRate\": 0.027, \"state\": \"New York\", \"sma7d\": 0.027}, {\"date\": \"2020-11-14T00:00:00\", \"totalTestResultsIncrease\": 184162.0, \"positiveIncrease\": 5388.0, \"death\": 26103.0, \"deathIncrease\": 24.0, \"positiveRate\": 0.029, \"state\": \"New York\", \"sma7d\": 0.028}, {\"date\": \"2020-11-15T00:00:00\", \"totalTestResultsIncrease\": 133202.0, \"positiveIncrease\": 3649.0, \"death\": 26133.0, \"deathIncrease\": 30.0, \"positiveRate\": 0.027, \"state\": \"New York\", \"sma7d\": 0.029}, {\"date\": \"2020-11-16T00:00:00\", \"totalTestResultsIncrease\": 124565.0, \"positiveIncrease\": 3490.0, \"death\": 26159.0, \"deathIncrease\": 26.0, \"positiveRate\": 0.028, \"state\": \"New York\", \"sma7d\": 0.029}, {\"date\": \"2020-11-17T00:00:00\", \"totalTestResultsIncrease\": 159852.0, \"positiveIncrease\": 5088.0, \"death\": 26189.0, \"deathIncrease\": 30.0, \"positiveRate\": 0.032, \"state\": \"New York\", \"sma7d\": 0.029}, {\"date\": \"2020-11-18T00:00:00\", \"totalTestResultsIncrease\": 154434.0, \"positiveIncrease\": 5294.0, \"death\": 26225.0, \"deathIncrease\": 36.0, \"positiveRate\": 0.034, \"state\": \"New York\", \"sma7d\": 0.029}, {\"date\": \"2020-11-19T00:00:00\", \"totalTestResultsIncrease\": 195239.0, \"positiveIncrease\": 5310.0, \"death\": 26257.0, \"deathIncrease\": 32.0, \"positiveRate\": 0.027, \"state\": \"New York\", \"sma7d\": 0.029}, {\"date\": \"2020-11-20T00:00:00\", \"totalTestResultsIncrease\": 205466.0, \"positiveIncrease\": 5468.0, \"death\": 26292.0, \"deathIncrease\": 35.0, \"positiveRate\": 0.027, \"state\": \"New York\", \"sma7d\": 0.029}, {\"date\": \"2020-11-21T00:00:00\", \"totalTestResultsIncrease\": 207907.0, \"positiveIncrease\": 5972.0, \"death\": 26326.0, \"deathIncrease\": 34.0, \"positiveRate\": 0.029, \"state\": \"New York\", \"sma7d\": 0.029}, {\"date\": \"2020-11-22T00:00:00\", \"totalTestResultsIncrease\": 196610.0, \"positiveIncrease\": 5392.0, \"death\": 26357.0, \"deathIncrease\": 31.0, \"positiveRate\": 0.027, \"state\": \"New York\", \"sma7d\": 0.029}, {\"date\": \"2020-11-23T00:00:00\", \"totalTestResultsIncrease\": 191489.0, \"positiveIncrease\": 5906.0, \"death\": 26390.0, \"deathIncrease\": 33.0, \"positiveRate\": 0.031, \"state\": \"New York\", \"sma7d\": 0.03}, {\"date\": \"2020-11-24T00:00:00\", \"totalTestResultsIncrease\": 164761.0, \"positiveIncrease\": 4881.0, \"death\": 26441.0, \"deathIncrease\": 51.0, \"positiveRate\": 0.03, \"state\": \"New York\", \"sma7d\": 0.029}, {\"date\": \"2020-11-25T00:00:00\", \"totalTestResultsIncrease\": 173085.0, \"positiveIncrease\": 6265.0, \"death\": 26482.0, \"deathIncrease\": 41.0, \"positiveRate\": 0.036, \"state\": \"New York\", \"sma7d\": 0.03}, {\"date\": \"2020-11-26T00:00:00\", \"totalTestResultsIncrease\": 217721.0, \"positiveIncrease\": 6933.0, \"death\": 26549.0, \"deathIncrease\": 67.0, \"positiveRate\": 0.032, \"state\": \"New York\", \"sma7d\": 0.03}, {\"date\": \"2020-11-27T00:00:00\", \"totalTestResultsIncrease\": 219442.0, \"positiveIncrease\": 8176.0, \"death\": 26588.0, \"deathIncrease\": 39.0, \"positiveRate\": 0.037, \"state\": \"New York\", \"sma7d\": 0.032}, {\"date\": \"2020-11-28T00:00:00\", \"totalTestResultsIncrease\": 152355.0, \"positiveIncrease\": 6063.0, \"death\": 26632.0, \"deathIncrease\": 44.0, \"positiveRate\": 0.04, \"state\": \"New York\", \"sma7d\": 0.033}, {\"date\": \"2020-11-29T00:00:00\", \"totalTestResultsIncrease\": 157320.0, \"positiveIncrease\": 6723.0, \"death\": 26690.0, \"deathIncrease\": 58.0, \"positiveRate\": 0.043, \"state\": \"New York\", \"sma7d\": 0.036}, {\"date\": \"2020-11-30T00:00:00\", \"totalTestResultsIncrease\": 148974.0, \"positiveIncrease\": 6819.0, \"death\": 26747.0, \"deathIncrease\": 57.0, \"positiveRate\": 0.046, \"state\": \"New York\", \"sma7d\": 0.038}, {\"date\": \"2020-12-01T00:00:00\", \"totalTestResultsIncrease\": 146675.0, \"positiveIncrease\": 7285.0, \"death\": 26816.0, \"deathIncrease\": 69.0, \"positiveRate\": 0.05, \"state\": \"New York\", \"sma7d\": 0.041}, {\"date\": \"2020-12-02T00:00:00\", \"totalTestResultsIncrease\": 193551.0, \"positiveIncrease\": 8973.0, \"death\": 26889.0, \"deathIncrease\": 73.0, \"positiveRate\": 0.046, \"state\": \"New York\", \"sma7d\": 0.042}, {\"date\": \"2020-12-03T00:00:00\", \"totalTestResultsIncrease\": 203440.0, \"positiveIncrease\": 9855.0, \"death\": 26955.0, \"deathIncrease\": 66.0, \"positiveRate\": 0.048, \"state\": \"New York\", \"sma7d\": 0.044}, {\"date\": \"2020-12-04T00:00:00\", \"totalTestResultsIncrease\": 208297.0, \"positiveIncrease\": 11271.0, \"death\": 27017.0, \"deathIncrease\": 62.0, \"positiveRate\": 0.054, \"state\": \"New York\", \"sma7d\": 0.047}, {\"date\": \"2020-12-05T00:00:00\", \"totalTestResultsIncrease\": 215401.0, \"positiveIncrease\": 10761.0, \"death\": 27089.0, \"deathIncrease\": 72.0, \"positiveRate\": 0.05, \"state\": \"New York\", \"sma7d\": 0.048}, {\"date\": \"2020-12-06T00:00:00\", \"totalTestResultsIncrease\": 205832.0, \"positiveIncrease\": 9702.0, \"death\": 27149.0, \"deathIncrease\": 60.0, \"positiveRate\": 0.047, \"state\": \"New York\", \"sma7d\": 0.049}, {\"date\": \"2020-12-07T00:00:00\", \"totalTestResultsIncrease\": 152287.0, \"positiveIncrease\": 7302.0, \"death\": 27232.0, \"deathIncrease\": 83.0, \"positiveRate\": 0.048, \"state\": \"New York\", \"sma7d\": 0.049}, {\"date\": \"2020-12-08T00:00:00\", \"totalTestResultsIncrease\": 162464.0, \"positiveIncrease\": 9335.0, \"death\": 27307.0, \"deathIncrease\": 75.0, \"positiveRate\": 0.057, \"state\": \"New York\", \"sma7d\": 0.05}, {\"date\": \"2020-12-09T00:00:00\", \"totalTestResultsIncrease\": 194595.0, \"positiveIncrease\": 10600.0, \"death\": 27404.0, \"deathIncrease\": 97.0, \"positiveRate\": 0.054, \"state\": \"New York\", \"sma7d\": 0.051}, {\"date\": \"2020-12-10T00:00:00\", \"totalTestResultsIncrease\": 197406.0, \"positiveIncrease\": 10178.0, \"death\": 27498.0, \"deathIncrease\": 94.0, \"positiveRate\": 0.052, \"state\": \"New York\", \"sma7d\": 0.052}, {\"date\": \"2020-12-11T00:00:00\", \"totalTestResultsIncrease\": 212672.0, \"positiveIncrease\": 10595.0, \"death\": 27587.0, \"deathIncrease\": 89.0, \"positiveRate\": 0.05, \"state\": \"New York\", \"sma7d\": 0.051}, {\"date\": \"2020-12-12T00:00:00\", \"totalTestResultsIncrease\": 242927.0, \"positiveIncrease\": 11129.0, \"death\": 27675.0, \"deathIncrease\": 88.0, \"positiveRate\": 0.046, \"state\": \"New York\", \"sma7d\": 0.051}, {\"date\": \"2020-12-13T00:00:00\", \"totalTestResultsIncrease\": 205250.0, \"positiveIncrease\": 10194.0, \"death\": 27785.0, \"deathIncrease\": 110.0, \"positiveRate\": 0.05, \"state\": \"New York\", \"sma7d\": 0.051}, {\"date\": \"2020-12-14T00:00:00\", \"totalTestResultsIncrease\": 159844.0, \"positiveIncrease\": 9044.0, \"death\": 27870.0, \"deathIncrease\": 85.0, \"positiveRate\": 0.057, \"state\": \"New York\", \"sma7d\": 0.052}]}}, {\"mode\": \"vega-lite\"});\n",
       "</script>"
      ],
      "text/plain": [
       "alt.LayerChart(...)"
      ]
     },
     "execution_count": 12,
     "metadata": {},
     "output_type": "execute_result"
    }
   ],
   "source": [
    "create_plot(ny, 'positiveRate')"
   ]
  },
  {
   "cell_type": "code",
   "execution_count": 13,
   "metadata": {
    "execution": {
     "iopub.execute_input": "2020-12-15T09:27:15.768159Z",
     "iopub.status.busy": "2020-12-15T09:27:15.767557Z",
     "iopub.status.idle": "2020-12-15T09:27:15.866010Z",
     "shell.execute_reply": "2020-12-15T09:27:15.866513Z"
    },
    "papermill": {
     "duration": 0.12172,
     "end_time": "2020-12-15T09:27:15.866655",
     "exception": false,
     "start_time": "2020-12-15T09:27:15.744935",
     "status": "completed"
    },
    "tags": []
   },
   "outputs": [
    {
     "data": {
      "text/html": [
       "\n",
       "<div id=\"altair-viz-e4bcb972fb1741909630e455fff8e6b6\"></div>\n",
       "<script type=\"text/javascript\">\n",
       "  (function(spec, embedOpt){\n",
       "    let outputDiv = document.currentScript.previousElementSibling;\n",
       "    if (outputDiv.id !== \"altair-viz-e4bcb972fb1741909630e455fff8e6b6\") {\n",
       "      outputDiv = document.getElementById(\"altair-viz-e4bcb972fb1741909630e455fff8e6b6\");\n",
       "    }\n",
       "    const paths = {\n",
       "      \"vega\": \"https://cdn.jsdelivr.net/npm//vega@5?noext\",\n",
       "      \"vega-lib\": \"https://cdn.jsdelivr.net/npm//vega-lib?noext\",\n",
       "      \"vega-lite\": \"https://cdn.jsdelivr.net/npm//vega-lite@4.8.1?noext\",\n",
       "      \"vega-embed\": \"https://cdn.jsdelivr.net/npm//vega-embed@6?noext\",\n",
       "    };\n",
       "\n",
       "    function loadScript(lib) {\n",
       "      return new Promise(function(resolve, reject) {\n",
       "        var s = document.createElement('script');\n",
       "        s.src = paths[lib];\n",
       "        s.async = true;\n",
       "        s.onload = () => resolve(paths[lib]);\n",
       "        s.onerror = () => reject(`Error loading script: ${paths[lib]}`);\n",
       "        document.getElementsByTagName(\"head\")[0].appendChild(s);\n",
       "      });\n",
       "    }\n",
       "\n",
       "    function showError(err) {\n",
       "      outputDiv.innerHTML = `<div class=\"error\" style=\"color:red;\">${err}</div>`;\n",
       "      throw err;\n",
       "    }\n",
       "\n",
       "    function displayChart(vegaEmbed) {\n",
       "      vegaEmbed(outputDiv, spec, embedOpt)\n",
       "        .catch(err => showError(`Javascript Error: ${err.message}<br>This usually means there's a typo in your chart specification. See the javascript console for the full traceback.`));\n",
       "    }\n",
       "\n",
       "    if(typeof define === \"function\" && define.amd) {\n",
       "      requirejs.config({paths});\n",
       "      require([\"vega-embed\"], displayChart, err => showError(`Error loading script: ${err.message}`));\n",
       "    } else if (typeof vegaEmbed === \"function\") {\n",
       "      displayChart(vegaEmbed);\n",
       "    } else {\n",
       "      loadScript(\"vega\")\n",
       "        .then(() => loadScript(\"vega-lite\"))\n",
       "        .then(() => loadScript(\"vega-embed\"))\n",
       "        .catch(showError)\n",
       "        .then(() => displayChart(vegaEmbed));\n",
       "    }\n",
       "  })({\"config\": {\"view\": {\"continuousWidth\": 400, \"continuousHeight\": 300}}, \"layer\": [{\"layer\": [{\"mark\": {\"type\": \"point\", \"size\": 75}, \"encoding\": {\"tooltip\": [{\"type\": \"temporal\", \"field\": \"date\"}, {\"type\": \"quantitative\", \"field\": \"deathIncrease\"}, {\"type\": \"quantitative\", \"field\": \"sma7d\"}], \"x\": {\"type\": \"temporal\", \"field\": \"date\"}, \"y\": {\"type\": \"quantitative\", \"field\": \"deathIncrease\"}}, \"selection\": {\"selector012\": {\"type\": \"interval\", \"bind\": \"scales\", \"encodings\": [\"x\", \"y\"]}}}, {\"mark\": {\"type\": \"line\", \"color\": \"purple\"}, \"encoding\": {\"x\": {\"type\": \"temporal\", \"field\": \"date\"}, \"y\": {\"type\": \"quantitative\", \"field\": \"sma7d\"}}}]}, {\"mark\": {\"type\": \"rule\", \"color\": \"#aaa\"}, \"encoding\": {\"x\": {\"type\": \"temporal\", \"field\": \"date\"}}, \"transform\": [{\"filter\": {\"selection\": \"selector011\"}}]}, {\"mark\": \"circle\", \"encoding\": {\"opacity\": {\"condition\": {\"value\": 1, \"selection\": \"selector011\"}, \"value\": 0}, \"tooltip\": [{\"type\": \"temporal\", \"field\": \"date\"}, {\"type\": \"quantitative\", \"field\": \"deathIncrease\"}, {\"type\": \"quantitative\", \"field\": \"sma7d\"}], \"x\": {\"type\": \"temporal\", \"field\": \"date\"}, \"y\": {\"type\": \"quantitative\", \"field\": \"deathIncrease\"}}, \"selection\": {\"selector011\": {\"type\": \"single\", \"encodings\": [\"x\"], \"on\": \"mouseover\", \"nearest\": true, \"empty\": \"none\"}}}, {\"mark\": {\"type\": \"text\", \"align\": \"left\", \"dx\": 5, \"dy\": -5, \"stroke\": \"white\", \"strokeWidth\": 2}, \"encoding\": {\"text\": {\"type\": \"quantitative\", \"field\": \"deathIncrease\"}, \"tooltip\": [{\"type\": \"temporal\", \"field\": \"date\"}, {\"type\": \"quantitative\", \"field\": \"deathIncrease\"}, {\"type\": \"quantitative\", \"field\": \"sma7d\"}], \"x\": {\"type\": \"temporal\", \"field\": \"date\"}, \"y\": {\"type\": \"quantitative\", \"field\": \"deathIncrease\"}}, \"transform\": [{\"filter\": {\"selection\": \"selector011\"}}]}, {\"mark\": {\"type\": \"text\", \"align\": \"left\", \"dx\": 5, \"dy\": -5}, \"encoding\": {\"text\": {\"type\": \"quantitative\", \"field\": \"deathIncrease\"}, \"tooltip\": [{\"type\": \"temporal\", \"field\": \"date\"}, {\"type\": \"quantitative\", \"field\": \"deathIncrease\"}, {\"type\": \"quantitative\", \"field\": \"sma7d\"}], \"x\": {\"type\": \"temporal\", \"field\": \"date\"}, \"y\": {\"type\": \"quantitative\", \"field\": \"deathIncrease\"}}, \"transform\": [{\"filter\": {\"selection\": \"selector011\"}}]}], \"data\": {\"name\": \"data-4fad6103ad70a950dcd97a0ea43fbdbf\"}, \"height\": 400, \"title\": \"New York: deathIncrease\", \"width\": 500, \"$schema\": \"https://vega.github.io/schema/vega-lite/v4.8.1.json\", \"datasets\": {\"data-4fad6103ad70a950dcd97a0ea43fbdbf\": [{\"date\": \"2020-10-21T00:00:00\", \"totalTestResultsIncrease\": 124789.0, \"positiveIncrease\": 2026.0, \"death\": 25679.0, \"deathIncrease\": 7.0, \"positiveRate\": 0.016, \"state\": \"New York\", \"sma7d\": 10.571}, {\"date\": \"2020-10-22T00:00:00\", \"totalTestResultsIncrease\": 135341.0, \"positiveIncrease\": 1628.0, \"death\": 25694.0, \"deathIncrease\": 15.0, \"positiveRate\": 0.012, \"state\": \"New York\", \"sma7d\": 10.857}, {\"date\": \"2020-10-23T00:00:00\", \"totalTestResultsIncrease\": 141508.0, \"positiveIncrease\": 1637.0, \"death\": 25705.0, \"deathIncrease\": 11.0, \"positiveRate\": 0.012, \"state\": \"New York\", \"sma7d\": 11.0}, {\"date\": \"2020-10-24T00:00:00\", \"totalTestResultsIncrease\": 156940.0, \"positiveIncrease\": 2061.0, \"death\": 25718.0, \"deathIncrease\": 13.0, \"positiveRate\": 0.013, \"state\": \"New York\", \"sma7d\": 11.571}, {\"date\": \"2020-10-25T00:00:00\", \"totalTestResultsIncrease\": 120830.0, \"positiveIncrease\": 1632.0, \"death\": 25730.0, \"deathIncrease\": 12.0, \"positiveRate\": 0.014, \"state\": \"New York\", \"sma7d\": 12.286}, {\"date\": \"2020-10-26T00:00:00\", \"totalTestResultsIncrease\": 82117.0, \"positiveIncrease\": 1191.0, \"death\": 25742.0, \"deathIncrease\": 12.0, \"positiveRate\": 0.015, \"state\": \"New York\", \"sma7d\": 11.857}, {\"date\": \"2020-10-27T00:00:00\", \"totalTestResultsIncrease\": 111618.0, \"positiveIncrease\": 1991.0, \"death\": 25758.0, \"deathIncrease\": 16.0, \"positiveRate\": 0.018, \"state\": \"New York\", \"sma7d\": 12.286}, {\"date\": \"2020-10-28T00:00:00\", \"totalTestResultsIncrease\": 129660.0, \"positiveIncrease\": 2031.0, \"death\": 25773.0, \"deathIncrease\": 15.0, \"positiveRate\": 0.016, \"state\": \"New York\", \"sma7d\": 13.429}, {\"date\": \"2020-10-29T00:00:00\", \"totalTestResultsIncrease\": 168353.0, \"positiveIncrease\": 2499.0, \"death\": 25792.0, \"deathIncrease\": 19.0, \"positiveRate\": 0.015, \"state\": \"New York\", \"sma7d\": 14.0}, {\"date\": \"2020-10-30T00:00:00\", \"totalTestResultsIncrease\": 146885.0, \"positiveIncrease\": 2255.0, \"death\": 25804.0, \"deathIncrease\": 12.0, \"positiveRate\": 0.015, \"state\": \"New York\", \"sma7d\": 14.143}, {\"date\": \"2020-10-31T00:00:00\", \"totalTestResultsIncrease\": 136962.0, \"positiveIncrease\": 2049.0, \"death\": 25807.0, \"deathIncrease\": 3.0, \"positiveRate\": 0.015, \"state\": \"New York\", \"sma7d\": 12.714}, {\"date\": \"2020-11-01T00:00:00\", \"totalTestResultsIncrease\": 148935.0, \"positiveIncrease\": 2255.0, \"death\": 25824.0, \"deathIncrease\": 17.0, \"positiveRate\": 0.015, \"state\": \"New York\", \"sma7d\": 13.429}, {\"date\": \"2020-11-02T00:00:00\", \"totalTestResultsIncrease\": 96101.0, \"positiveIncrease\": 1633.0, \"death\": 25838.0, \"deathIncrease\": 14.0, \"positiveRate\": 0.017, \"state\": \"New York\", \"sma7d\": 13.714}, {\"date\": \"2020-11-03T00:00:00\", \"totalTestResultsIncrease\": 127869.0, \"positiveIncrease\": 2321.0, \"death\": 25853.0, \"deathIncrease\": 15.0, \"positiveRate\": 0.018, \"state\": \"New York\", \"sma7d\": 13.571}, {\"date\": \"2020-11-04T00:00:00\", \"totalTestResultsIncrease\": 133534.0, \"positiveIncrease\": 2126.0, \"death\": 25868.0, \"deathIncrease\": 15.0, \"positiveRate\": 0.016, \"state\": \"New York\", \"sma7d\": 13.571}, {\"date\": \"2020-11-05T00:00:00\", \"totalTestResultsIncrease\": 161019.0, \"positiveIncrease\": 2997.0, \"death\": 25892.0, \"deathIncrease\": 24.0, \"positiveRate\": 0.019, \"state\": \"New York\", \"sma7d\": 14.286}, {\"date\": \"2020-11-06T00:00:00\", \"totalTestResultsIncrease\": 160705.0, \"positiveIncrease\": 3209.0, \"death\": 25910.0, \"deathIncrease\": 18.0, \"positiveRate\": 0.02, \"state\": \"New York\", \"sma7d\": 15.143}, {\"date\": \"2020-11-07T00:00:00\", \"totalTestResultsIncrease\": 163291.0, \"positiveIncrease\": 3587.0, \"death\": 25928.0, \"deathIncrease\": 18.0, \"positiveRate\": 0.022, \"state\": \"New York\", \"sma7d\": 17.286}, {\"date\": \"2020-11-08T00:00:00\", \"totalTestResultsIncrease\": 145642.0, \"positiveIncrease\": 3428.0, \"death\": 25947.0, \"deathIncrease\": 19.0, \"positiveRate\": 0.024, \"state\": \"New York\", \"sma7d\": 17.571}, {\"date\": \"2020-11-09T00:00:00\", \"totalTestResultsIncrease\": 111416.0, \"positiveIncrease\": 3144.0, \"death\": 25973.0, \"deathIncrease\": 26.0, \"positiveRate\": 0.028, \"state\": \"New York\", \"sma7d\": 19.286}, {\"date\": \"2020-11-10T00:00:00\", \"totalTestResultsIncrease\": 128036.0, \"positiveIncrease\": 3965.0, \"death\": 26005.0, \"deathIncrease\": 32.0, \"positiveRate\": 0.031, \"state\": \"New York\", \"sma7d\": 21.714}, {\"date\": \"2020-11-11T00:00:00\", \"totalTestResultsIncrease\": 164300.0, \"positiveIncrease\": 4820.0, \"death\": 26026.0, \"deathIncrease\": 21.0, \"positiveRate\": 0.029, \"state\": \"New York\", \"sma7d\": 22.571}, {\"date\": \"2020-11-12T00:00:00\", \"totalTestResultsIncrease\": 162627.0, \"positiveIncrease\": 4797.0, \"death\": 26055.0, \"deathIncrease\": 29.0, \"positiveRate\": 0.029, \"state\": \"New York\", \"sma7d\": 23.286}, {\"date\": \"2020-11-13T00:00:00\", \"totalTestResultsIncrease\": 203721.0, \"positiveIncrease\": 5401.0, \"death\": 26079.0, \"deathIncrease\": 24.0, \"positiveRate\": 0.027, \"state\": \"New York\", \"sma7d\": 24.143}, {\"date\": \"2020-11-14T00:00:00\", \"totalTestResultsIncrease\": 184162.0, \"positiveIncrease\": 5388.0, \"death\": 26103.0, \"deathIncrease\": 24.0, \"positiveRate\": 0.029, \"state\": \"New York\", \"sma7d\": 25.0}, {\"date\": \"2020-11-15T00:00:00\", \"totalTestResultsIncrease\": 133202.0, \"positiveIncrease\": 3649.0, \"death\": 26133.0, \"deathIncrease\": 30.0, \"positiveRate\": 0.027, \"state\": \"New York\", \"sma7d\": 26.571}, {\"date\": \"2020-11-16T00:00:00\", \"totalTestResultsIncrease\": 124565.0, \"positiveIncrease\": 3490.0, \"death\": 26159.0, \"deathIncrease\": 26.0, \"positiveRate\": 0.028, \"state\": \"New York\", \"sma7d\": 26.571}, {\"date\": \"2020-11-17T00:00:00\", \"totalTestResultsIncrease\": 159852.0, \"positiveIncrease\": 5088.0, \"death\": 26189.0, \"deathIncrease\": 30.0, \"positiveRate\": 0.032, \"state\": \"New York\", \"sma7d\": 26.286}, {\"date\": \"2020-11-18T00:00:00\", \"totalTestResultsIncrease\": 154434.0, \"positiveIncrease\": 5294.0, \"death\": 26225.0, \"deathIncrease\": 36.0, \"positiveRate\": 0.034, \"state\": \"New York\", \"sma7d\": 28.429}, {\"date\": \"2020-11-19T00:00:00\", \"totalTestResultsIncrease\": 195239.0, \"positiveIncrease\": 5310.0, \"death\": 26257.0, \"deathIncrease\": 32.0, \"positiveRate\": 0.027, \"state\": \"New York\", \"sma7d\": 28.857}, {\"date\": \"2020-11-20T00:00:00\", \"totalTestResultsIncrease\": 205466.0, \"positiveIncrease\": 5468.0, \"death\": 26292.0, \"deathIncrease\": 35.0, \"positiveRate\": 0.027, \"state\": \"New York\", \"sma7d\": 30.429}, {\"date\": \"2020-11-21T00:00:00\", \"totalTestResultsIncrease\": 207907.0, \"positiveIncrease\": 5972.0, \"death\": 26326.0, \"deathIncrease\": 34.0, \"positiveRate\": 0.029, \"state\": \"New York\", \"sma7d\": 31.857}, {\"date\": \"2020-11-22T00:00:00\", \"totalTestResultsIncrease\": 196610.0, \"positiveIncrease\": 5392.0, \"death\": 26357.0, \"deathIncrease\": 31.0, \"positiveRate\": 0.027, \"state\": \"New York\", \"sma7d\": 32.0}, {\"date\": \"2020-11-23T00:00:00\", \"totalTestResultsIncrease\": 191489.0, \"positiveIncrease\": 5906.0, \"death\": 26390.0, \"deathIncrease\": 33.0, \"positiveRate\": 0.031, \"state\": \"New York\", \"sma7d\": 33.0}, {\"date\": \"2020-11-24T00:00:00\", \"totalTestResultsIncrease\": 164761.0, \"positiveIncrease\": 4881.0, \"death\": 26441.0, \"deathIncrease\": 51.0, \"positiveRate\": 0.03, \"state\": \"New York\", \"sma7d\": 36.0}, {\"date\": \"2020-11-25T00:00:00\", \"totalTestResultsIncrease\": 173085.0, \"positiveIncrease\": 6265.0, \"death\": 26482.0, \"deathIncrease\": 41.0, \"positiveRate\": 0.036, \"state\": \"New York\", \"sma7d\": 36.714}, {\"date\": \"2020-11-26T00:00:00\", \"totalTestResultsIncrease\": 217721.0, \"positiveIncrease\": 6933.0, \"death\": 26549.0, \"deathIncrease\": 67.0, \"positiveRate\": 0.032, \"state\": \"New York\", \"sma7d\": 41.714}, {\"date\": \"2020-11-27T00:00:00\", \"totalTestResultsIncrease\": 219442.0, \"positiveIncrease\": 8176.0, \"death\": 26588.0, \"deathIncrease\": 39.0, \"positiveRate\": 0.037, \"state\": \"New York\", \"sma7d\": 42.286}, {\"date\": \"2020-11-28T00:00:00\", \"totalTestResultsIncrease\": 152355.0, \"positiveIncrease\": 6063.0, \"death\": 26632.0, \"deathIncrease\": 44.0, \"positiveRate\": 0.04, \"state\": \"New York\", \"sma7d\": 43.714}, {\"date\": \"2020-11-29T00:00:00\", \"totalTestResultsIncrease\": 157320.0, \"positiveIncrease\": 6723.0, \"death\": 26690.0, \"deathIncrease\": 58.0, \"positiveRate\": 0.043, \"state\": \"New York\", \"sma7d\": 47.571}, {\"date\": \"2020-11-30T00:00:00\", \"totalTestResultsIncrease\": 148974.0, \"positiveIncrease\": 6819.0, \"death\": 26747.0, \"deathIncrease\": 57.0, \"positiveRate\": 0.046, \"state\": \"New York\", \"sma7d\": 51.0}, {\"date\": \"2020-12-01T00:00:00\", \"totalTestResultsIncrease\": 146675.0, \"positiveIncrease\": 7285.0, \"death\": 26816.0, \"deathIncrease\": 69.0, \"positiveRate\": 0.05, \"state\": \"New York\", \"sma7d\": 53.571}, {\"date\": \"2020-12-02T00:00:00\", \"totalTestResultsIncrease\": 193551.0, \"positiveIncrease\": 8973.0, \"death\": 26889.0, \"deathIncrease\": 73.0, \"positiveRate\": 0.046, \"state\": \"New York\", \"sma7d\": 58.143}, {\"date\": \"2020-12-03T00:00:00\", \"totalTestResultsIncrease\": 203440.0, \"positiveIncrease\": 9855.0, \"death\": 26955.0, \"deathIncrease\": 66.0, \"positiveRate\": 0.048, \"state\": \"New York\", \"sma7d\": 58.0}, {\"date\": \"2020-12-04T00:00:00\", \"totalTestResultsIncrease\": 208297.0, \"positiveIncrease\": 11271.0, \"death\": 27017.0, \"deathIncrease\": 62.0, \"positiveRate\": 0.054, \"state\": \"New York\", \"sma7d\": 61.286}, {\"date\": \"2020-12-05T00:00:00\", \"totalTestResultsIncrease\": 215401.0, \"positiveIncrease\": 10761.0, \"death\": 27089.0, \"deathIncrease\": 72.0, \"positiveRate\": 0.05, \"state\": \"New York\", \"sma7d\": 65.286}, {\"date\": \"2020-12-06T00:00:00\", \"totalTestResultsIncrease\": 205832.0, \"positiveIncrease\": 9702.0, \"death\": 27149.0, \"deathIncrease\": 60.0, \"positiveRate\": 0.047, \"state\": \"New York\", \"sma7d\": 65.571}, {\"date\": \"2020-12-07T00:00:00\", \"totalTestResultsIncrease\": 152287.0, \"positiveIncrease\": 7302.0, \"death\": 27232.0, \"deathIncrease\": 83.0, \"positiveRate\": 0.048, \"state\": \"New York\", \"sma7d\": 69.286}, {\"date\": \"2020-12-08T00:00:00\", \"totalTestResultsIncrease\": 162464.0, \"positiveIncrease\": 9335.0, \"death\": 27307.0, \"deathIncrease\": 75.0, \"positiveRate\": 0.057, \"state\": \"New York\", \"sma7d\": 70.143}, {\"date\": \"2020-12-09T00:00:00\", \"totalTestResultsIncrease\": 194595.0, \"positiveIncrease\": 10600.0, \"death\": 27404.0, \"deathIncrease\": 97.0, \"positiveRate\": 0.054, \"state\": \"New York\", \"sma7d\": 73.571}, {\"date\": \"2020-12-10T00:00:00\", \"totalTestResultsIncrease\": 197406.0, \"positiveIncrease\": 10178.0, \"death\": 27498.0, \"deathIncrease\": 94.0, \"positiveRate\": 0.052, \"state\": \"New York\", \"sma7d\": 77.571}, {\"date\": \"2020-12-11T00:00:00\", \"totalTestResultsIncrease\": 212672.0, \"positiveIncrease\": 10595.0, \"death\": 27587.0, \"deathIncrease\": 89.0, \"positiveRate\": 0.05, \"state\": \"New York\", \"sma7d\": 81.429}, {\"date\": \"2020-12-12T00:00:00\", \"totalTestResultsIncrease\": 242927.0, \"positiveIncrease\": 11129.0, \"death\": 27675.0, \"deathIncrease\": 88.0, \"positiveRate\": 0.046, \"state\": \"New York\", \"sma7d\": 83.714}, {\"date\": \"2020-12-13T00:00:00\", \"totalTestResultsIncrease\": 205250.0, \"positiveIncrease\": 10194.0, \"death\": 27785.0, \"deathIncrease\": 110.0, \"positiveRate\": 0.05, \"state\": \"New York\", \"sma7d\": 90.857}, {\"date\": \"2020-12-14T00:00:00\", \"totalTestResultsIncrease\": 159844.0, \"positiveIncrease\": 9044.0, \"death\": 27870.0, \"deathIncrease\": 85.0, \"positiveRate\": 0.057, \"state\": \"New York\", \"sma7d\": 91.143}]}}, {\"mode\": \"vega-lite\"});\n",
       "</script>"
      ],
      "text/plain": [
       "alt.LayerChart(...)"
      ]
     },
     "execution_count": 13,
     "metadata": {},
     "output_type": "execute_result"
    }
   ],
   "source": [
    "create_plot(ny, 'deathIncrease')"
   ]
  },
  {
   "cell_type": "markdown",
   "metadata": {
    "papermill": {
     "duration": 0.020582,
     "end_time": "2020-12-15T09:27:15.906976",
     "exception": false,
     "start_time": "2020-12-15T09:27:15.886394",
     "status": "completed"
    },
    "tags": []
   },
   "source": [
    "## Non Tri-State"
   ]
  },
  {
   "cell_type": "code",
   "execution_count": 14,
   "metadata": {
    "execution": {
     "iopub.execute_input": "2020-12-15T09:27:15.946043Z",
     "iopub.status.busy": "2020-12-15T09:27:15.945491Z",
     "iopub.status.idle": "2020-12-15T09:27:16.377329Z",
     "shell.execute_reply": "2020-12-15T09:27:16.376612Z"
    },
    "papermill": {
     "duration": 0.45325,
     "end_time": "2020-12-15T09:27:16.377481",
     "exception": false,
     "start_time": "2020-12-15T09:27:15.924231",
     "status": "completed"
    },
    "tags": []
   },
   "outputs": [],
   "source": [
    "non_tristate = create_df(df, lambda d: ~d['state'].isin(['CT','NJ','NY']), 'Non Tri-State')"
   ]
  },
  {
   "cell_type": "code",
   "execution_count": 15,
   "metadata": {
    "execution": {
     "iopub.execute_input": "2020-12-15T09:27:16.423297Z",
     "iopub.status.busy": "2020-12-15T09:27:16.422668Z",
     "iopub.status.idle": "2020-12-15T09:27:16.529210Z",
     "shell.execute_reply": "2020-12-15T09:27:16.529681Z"
    },
    "papermill": {
     "duration": 0.132437,
     "end_time": "2020-12-15T09:27:16.529824",
     "exception": false,
     "start_time": "2020-12-15T09:27:16.397387",
     "status": "completed"
    },
    "tags": []
   },
   "outputs": [
    {
     "data": {
      "text/html": [
       "\n",
       "<div id=\"altair-viz-367fa420a6b8451894d5b4b227d6957d\"></div>\n",
       "<script type=\"text/javascript\">\n",
       "  (function(spec, embedOpt){\n",
       "    let outputDiv = document.currentScript.previousElementSibling;\n",
       "    if (outputDiv.id !== \"altair-viz-367fa420a6b8451894d5b4b227d6957d\") {\n",
       "      outputDiv = document.getElementById(\"altair-viz-367fa420a6b8451894d5b4b227d6957d\");\n",
       "    }\n",
       "    const paths = {\n",
       "      \"vega\": \"https://cdn.jsdelivr.net/npm//vega@5?noext\",\n",
       "      \"vega-lib\": \"https://cdn.jsdelivr.net/npm//vega-lib?noext\",\n",
       "      \"vega-lite\": \"https://cdn.jsdelivr.net/npm//vega-lite@4.8.1?noext\",\n",
       "      \"vega-embed\": \"https://cdn.jsdelivr.net/npm//vega-embed@6?noext\",\n",
       "    };\n",
       "\n",
       "    function loadScript(lib) {\n",
       "      return new Promise(function(resolve, reject) {\n",
       "        var s = document.createElement('script');\n",
       "        s.src = paths[lib];\n",
       "        s.async = true;\n",
       "        s.onload = () => resolve(paths[lib]);\n",
       "        s.onerror = () => reject(`Error loading script: ${paths[lib]}`);\n",
       "        document.getElementsByTagName(\"head\")[0].appendChild(s);\n",
       "      });\n",
       "    }\n",
       "\n",
       "    function showError(err) {\n",
       "      outputDiv.innerHTML = `<div class=\"error\" style=\"color:red;\">${err}</div>`;\n",
       "      throw err;\n",
       "    }\n",
       "\n",
       "    function displayChart(vegaEmbed) {\n",
       "      vegaEmbed(outputDiv, spec, embedOpt)\n",
       "        .catch(err => showError(`Javascript Error: ${err.message}<br>This usually means there's a typo in your chart specification. See the javascript console for the full traceback.`));\n",
       "    }\n",
       "\n",
       "    if(typeof define === \"function\" && define.amd) {\n",
       "      requirejs.config({paths});\n",
       "      require([\"vega-embed\"], displayChart, err => showError(`Error loading script: ${err.message}`));\n",
       "    } else if (typeof vegaEmbed === \"function\") {\n",
       "      displayChart(vegaEmbed);\n",
       "    } else {\n",
       "      loadScript(\"vega\")\n",
       "        .then(() => loadScript(\"vega-lite\"))\n",
       "        .then(() => loadScript(\"vega-embed\"))\n",
       "        .catch(showError)\n",
       "        .then(() => displayChart(vegaEmbed));\n",
       "    }\n",
       "  })({\"config\": {\"view\": {\"continuousWidth\": 400, \"continuousHeight\": 300}}, \"layer\": [{\"layer\": [{\"mark\": {\"type\": \"point\", \"size\": 75}, \"encoding\": {\"tooltip\": [{\"type\": \"temporal\", \"field\": \"date\"}, {\"type\": \"quantitative\", \"field\": \"positiveIncrease\"}, {\"type\": \"quantitative\", \"field\": \"sma7d\"}], \"x\": {\"type\": \"temporal\", \"field\": \"date\"}, \"y\": {\"type\": \"quantitative\", \"field\": \"positiveIncrease\"}}, \"selection\": {\"selector014\": {\"type\": \"interval\", \"bind\": \"scales\", \"encodings\": [\"x\", \"y\"]}}}, {\"mark\": {\"type\": \"line\", \"color\": \"purple\"}, \"encoding\": {\"x\": {\"type\": \"temporal\", \"field\": \"date\"}, \"y\": {\"type\": \"quantitative\", \"field\": \"sma7d\"}}}]}, {\"mark\": {\"type\": \"rule\", \"color\": \"#aaa\"}, \"encoding\": {\"x\": {\"type\": \"temporal\", \"field\": \"date\"}}, \"transform\": [{\"filter\": {\"selection\": \"selector013\"}}]}, {\"mark\": \"circle\", \"encoding\": {\"opacity\": {\"condition\": {\"value\": 1, \"selection\": \"selector013\"}, \"value\": 0}, \"tooltip\": [{\"type\": \"temporal\", \"field\": \"date\"}, {\"type\": \"quantitative\", \"field\": \"positiveIncrease\"}, {\"type\": \"quantitative\", \"field\": \"sma7d\"}], \"x\": {\"type\": \"temporal\", \"field\": \"date\"}, \"y\": {\"type\": \"quantitative\", \"field\": \"positiveIncrease\"}}, \"selection\": {\"selector013\": {\"type\": \"single\", \"encodings\": [\"x\"], \"on\": \"mouseover\", \"nearest\": true, \"empty\": \"none\"}}}, {\"mark\": {\"type\": \"text\", \"align\": \"left\", \"dx\": 5, \"dy\": -5, \"stroke\": \"white\", \"strokeWidth\": 2}, \"encoding\": {\"text\": {\"type\": \"quantitative\", \"field\": \"positiveIncrease\"}, \"tooltip\": [{\"type\": \"temporal\", \"field\": \"date\"}, {\"type\": \"quantitative\", \"field\": \"positiveIncrease\"}, {\"type\": \"quantitative\", \"field\": \"sma7d\"}], \"x\": {\"type\": \"temporal\", \"field\": \"date\"}, \"y\": {\"type\": \"quantitative\", \"field\": \"positiveIncrease\"}}, \"transform\": [{\"filter\": {\"selection\": \"selector013\"}}]}, {\"mark\": {\"type\": \"text\", \"align\": \"left\", \"dx\": 5, \"dy\": -5}, \"encoding\": {\"text\": {\"type\": \"quantitative\", \"field\": \"positiveIncrease\"}, \"tooltip\": [{\"type\": \"temporal\", \"field\": \"date\"}, {\"type\": \"quantitative\", \"field\": \"positiveIncrease\"}, {\"type\": \"quantitative\", \"field\": \"sma7d\"}], \"x\": {\"type\": \"temporal\", \"field\": \"date\"}, \"y\": {\"type\": \"quantitative\", \"field\": \"positiveIncrease\"}}, \"transform\": [{\"filter\": {\"selection\": \"selector013\"}}]}], \"data\": {\"name\": \"data-5562ae9db71c5d0bcdb9315dc12b9db9\"}, \"height\": 400, \"title\": \"Non Tri-State: positiveIncrease\", \"width\": 500, \"$schema\": \"https://vega.github.io/schema/vega-lite/v4.8.1.json\", \"datasets\": {\"data-5562ae9db71c5d0bcdb9315dc12b9db9\": [{\"date\": \"2020-10-21T00:00:00\", \"totalTestResultsIncrease\": 848782.0, \"positiveIncrease\": 57508.0, \"death\": 167452.0, \"deathIncrease\": 992.0, \"positiveRate\": 0.068, \"state\": \"Non Tri-State\", \"sma7d\": 56452.143}, {\"date\": \"2020-10-22T00:00:00\", \"totalTestResultsIncrease\": 1088098.0, \"positiveIncrease\": 69711.0, \"death\": 168543.0, \"deathIncrease\": 1091.0, \"positiveRate\": 0.064, \"state\": \"Non Tri-State\", \"sma7d\": 57727.143}, {\"date\": \"2020-10-23T00:00:00\", \"totalTestResultsIncrease\": 1199211.0, \"positiveIncrease\": 78981.0, \"death\": 169455.0, \"deathIncrease\": 912.0, \"positiveRate\": 0.066, \"state\": \"Non Tri-State\", \"sma7d\": 59732.143}, {\"date\": \"2020-10-24T00:00:00\", \"totalTestResultsIncrease\": 1153534.0, \"positiveIncrease\": 79349.0, \"death\": 170331.0, \"deathIncrease\": 876.0, \"positiveRate\": 0.069, \"state\": \"Non Tri-State\", \"sma7d\": 63262.429}, {\"date\": \"2020-10-25T00:00:00\", \"totalTestResultsIncrease\": 1015401.0, \"positiveIncrease\": 62136.0, \"death\": 170702.0, \"deathIncrease\": 371.0, \"positiveRate\": 0.061, \"state\": \"Non Tri-State\", \"sma7d\": 65622.571}, {\"date\": \"2020-10-26T00:00:00\", \"totalTestResultsIncrease\": 951030.0, \"positiveIncrease\": 58081.0, \"death\": 171070.0, \"deathIncrease\": 368.0, \"positiveRate\": 0.061, \"state\": \"Non Tri-State\", \"sma7d\": 66244.571}, {\"date\": \"2020-10-27T00:00:00\", \"totalTestResultsIncrease\": 956212.0, \"positiveIncrease\": 67921.0, \"death\": 171963.0, \"deathIncrease\": 893.0, \"positiveRate\": 0.071, \"state\": \"Non Tri-State\", \"sma7d\": 67669.571}, {\"date\": \"2020-10-28T00:00:00\", \"totalTestResultsIncrease\": 983168.0, \"positiveIncrease\": 74606.0, \"death\": 172966.0, \"deathIncrease\": 1003.0, \"positiveRate\": 0.076, \"state\": \"Non Tri-State\", \"sma7d\": 70112.143}, {\"date\": \"2020-10-29T00:00:00\", \"totalTestResultsIncrease\": 1124025.0, \"positiveIncrease\": 83360.0, \"death\": 173989.0, \"deathIncrease\": 1023.0, \"positiveRate\": 0.074, \"state\": \"Non Tri-State\", \"sma7d\": 72062.0}, {\"date\": \"2020-10-30T00:00:00\", \"totalTestResultsIncrease\": 1215809.0, \"positiveIncrease\": 92271.0, \"death\": 174910.0, \"deathIncrease\": 921.0, \"positiveRate\": 0.076, \"state\": \"Non Tri-State\", \"sma7d\": 73960.571}, {\"date\": \"2020-10-31T00:00:00\", \"totalTestResultsIncrease\": 1208518.0, \"positiveIncrease\": 87201.0, \"death\": 175866.0, \"deathIncrease\": 956.0, \"positiveRate\": 0.072, \"state\": \"Non Tri-State\", \"sma7d\": 75082.286}, {\"date\": \"2020-11-01T00:00:00\", \"totalTestResultsIncrease\": 1026718.0, \"positiveIncrease\": 137349.0, \"death\": 176243.0, \"deathIncrease\": 377.0, \"positiveRate\": 0.134, \"state\": \"Non Tri-State\", \"sma7d\": 85827.0}, {\"date\": \"2020-11-02T00:00:00\", \"totalTestResultsIncrease\": 1051213.0, \"positiveIncrease\": 77443.0, \"death\": 176689.0, \"deathIncrease\": 446.0, \"positiveRate\": 0.074, \"state\": \"Non Tri-State\", \"sma7d\": 88593.0}, {\"date\": \"2020-11-03T00:00:00\", \"totalTestResultsIncrease\": 1048905.0, \"positiveIncrease\": 85715.0, \"death\": 178181.0, \"deathIncrease\": 1492.0, \"positiveRate\": 0.082, \"state\": \"Non Tri-State\", \"sma7d\": 91135.0}, {\"date\": \"2020-11-04T00:00:00\", \"totalTestResultsIncrease\": 1110027.0, \"positiveIncrease\": 97480.0, \"death\": 179258.0, \"deathIncrease\": 1077.0, \"positiveRate\": 0.088, \"state\": \"Non Tri-State\", \"sma7d\": 94402.714}, {\"date\": \"2020-11-05T00:00:00\", \"totalTestResultsIncrease\": 1344262.0, \"positiveIncrease\": 111410.0, \"death\": 180366.0, \"deathIncrease\": 1108.0, \"positiveRate\": 0.083, \"state\": \"Non Tri-State\", \"sma7d\": 98409.857}, {\"date\": \"2020-11-06T00:00:00\", \"totalTestResultsIncrease\": 1384629.0, \"positiveIncrease\": 121057.0, \"death\": 181506.0, \"deathIncrease\": 1140.0, \"positiveRate\": 0.087, \"state\": \"Non Tri-State\", \"sma7d\": 102522.143}, {\"date\": \"2020-11-07T00:00:00\", \"totalTestResultsIncrease\": 1186104.0, \"positiveIncrease\": 124027.0, \"death\": 182611.0, \"deathIncrease\": 1105.0, \"positiveRate\": 0.105, \"state\": \"Non Tri-State\", \"sma7d\": 107783.0}, {\"date\": \"2020-11-08T00:00:00\", \"totalTestResultsIncrease\": 1072305.0, \"positiveIncrease\": 106058.0, \"death\": 183089.0, \"deathIncrease\": 478.0, \"positiveRate\": 0.099, \"state\": \"Non Tri-State\", \"sma7d\": 103312.857}, {\"date\": \"2020-11-09T00:00:00\", \"totalTestResultsIncrease\": 1171314.0, \"positiveIncrease\": 108958.0, \"death\": 183605.0, \"deathIncrease\": 516.0, \"positiveRate\": 0.093, \"state\": \"Non Tri-State\", \"sma7d\": 107815.0}, {\"date\": \"2020-11-10T00:00:00\", \"totalTestResultsIncrease\": 1191112.0, \"positiveIncrease\": 123708.0, \"death\": 184900.0, \"deathIncrease\": 1295.0, \"positiveRate\": 0.104, \"state\": \"Non Tri-State\", \"sma7d\": 113242.571}, {\"date\": \"2020-11-11T00:00:00\", \"totalTestResultsIncrease\": 1218910.0, \"positiveIncrease\": 137259.0, \"death\": 186434.0, \"deathIncrease\": 1534.0, \"positiveRate\": 0.113, \"state\": \"Non Tri-State\", \"sma7d\": 118925.286}, {\"date\": \"2020-11-12T00:00:00\", \"totalTestResultsIncrease\": 1344051.0, \"positiveIncrease\": 144729.0, \"death\": 187487.0, \"deathIncrease\": 1053.0, \"positiveRate\": 0.108, \"state\": \"Non Tri-State\", \"sma7d\": 123685.143}, {\"date\": \"2020-11-13T00:00:00\", \"totalTestResultsIncrease\": 1415602.0, \"positiveIncrease\": 162915.0, \"death\": 188729.0, \"deathIncrease\": 1242.0, \"positiveRate\": 0.115, \"state\": \"Non Tri-State\", \"sma7d\": 129664.857}, {\"date\": \"2020-11-14T00:00:00\", \"totalTestResultsIncrease\": 1480430.0, \"positiveIncrease\": 156080.0, \"death\": 190031.0, \"deathIncrease\": 1302.0, \"positiveRate\": 0.105, \"state\": \"Non Tri-State\", \"sma7d\": 134243.857}, {\"date\": \"2020-11-15T00:00:00\", \"totalTestResultsIncrease\": 1291901.0, \"positiveIncrease\": 137643.0, \"death\": 190691.0, \"deathIncrease\": 660.0, \"positiveRate\": 0.107, \"state\": \"Non Tri-State\", \"sma7d\": 138756.0}, {\"date\": \"2020-11-16T00:00:00\", \"totalTestResultsIncrease\": 1316824.0, \"positiveIncrease\": 139180.0, \"death\": 191238.0, \"deathIncrease\": 547.0, \"positiveRate\": 0.106, \"state\": \"Non Tri-State\", \"sma7d\": 143073.429}, {\"date\": \"2020-11-17T00:00:00\", \"totalTestResultsIncrease\": 1378116.0, \"positiveIncrease\": 147983.0, \"death\": 192720.0, \"deathIncrease\": 1482.0, \"positiveRate\": 0.107, \"state\": \"Non Tri-State\", \"sma7d\": 146541.286}, {\"date\": \"2020-11-18T00:00:00\", \"totalTestResultsIncrease\": 1339923.0, \"positiveIncrease\": 154788.0, \"death\": 194516.0, \"deathIncrease\": 1796.0, \"positiveRate\": 0.116, \"state\": \"Non Tri-State\", \"sma7d\": 149045.429}, {\"date\": \"2020-11-19T00:00:00\", \"totalTestResultsIncrease\": 1613959.0, \"positiveIncrease\": 172827.0, \"death\": 196449.0, \"deathIncrease\": 1933.0, \"positiveRate\": 0.107, \"state\": \"Non Tri-State\", \"sma7d\": 153059.429}, {\"date\": \"2020-11-20T00:00:00\", \"totalTestResultsIncrease\": 1662715.0, \"positiveIncrease\": 183628.0, \"death\": 198262.0, \"deathIncrease\": 1813.0, \"positiveRate\": 0.11, \"state\": \"Non Tri-State\", \"sma7d\": 156018.429}, {\"date\": \"2020-11-21T00:00:00\", \"totalTestResultsIncrease\": 1791126.0, \"positiveIncrease\": 171218.0, \"death\": 199748.0, \"deathIncrease\": 1486.0, \"positiveRate\": 0.096, \"state\": \"Non Tri-State\", \"sma7d\": 158181.0}, {\"date\": \"2020-11-22T00:00:00\", \"totalTestResultsIncrease\": 1502646.0, \"positiveIncrease\": 142536.0, \"death\": 200619.0, \"deathIncrease\": 871.0, \"positiveRate\": 0.095, \"state\": \"Non Tri-State\", \"sma7d\": 158880.0}, {\"date\": \"2020-11-23T00:00:00\", \"totalTestResultsIncrease\": 1339374.0, \"positiveIncrease\": 137135.0, \"death\": 201390.0, \"deathIncrease\": 771.0, \"positiveRate\": 0.102, \"state\": \"Non Tri-State\", \"sma7d\": 158587.857}, {\"date\": \"2020-11-24T00:00:00\", \"totalTestResultsIncrease\": 1656006.0, \"positiveIncrease\": 159568.0, \"death\": 203388.0, \"deathIncrease\": 1998.0, \"positiveRate\": 0.096, \"state\": \"Non Tri-State\", \"sma7d\": 160242.857}, {\"date\": \"2020-11-25T00:00:00\", \"totalTestResultsIncrease\": 1521120.0, \"positiveIncrease\": 174759.0, \"death\": 205515.0, \"deathIncrease\": 2127.0, \"positiveRate\": 0.115, \"state\": \"Non Tri-State\", \"sma7d\": 163095.857}, {\"date\": \"2020-11-26T00:00:00\", \"totalTestResultsIncrease\": 1046518.0, \"positiveIncrease\": 117033.0, \"death\": 206796.0, \"deathIncrease\": 1281.0, \"positiveRate\": 0.112, \"state\": \"Non Tri-State\", \"sma7d\": 155125.286}, {\"date\": \"2020-11-27T00:00:00\", \"totalTestResultsIncrease\": 1737264.0, \"positiveIncrease\": 178544.0, \"death\": 208097.0, \"deathIncrease\": 1301.0, \"positiveRate\": 0.103, \"state\": \"Non Tri-State\", \"sma7d\": 154399.0}, {\"date\": \"2020-11-28T00:00:00\", \"totalTestResultsIncrease\": 1413278.0, \"positiveIncrease\": 145050.0, \"death\": 209281.0, \"deathIncrease\": 1184.0, \"positiveRate\": 0.103, \"state\": \"Non Tri-State\", \"sma7d\": 150660.714}, {\"date\": \"2020-11-29T00:00:00\", \"totalTestResultsIncrease\": 1124361.0, \"positiveIncrease\": 125528.0, \"death\": 210033.0, \"deathIncrease\": 752.0, \"positiveRate\": 0.112, \"state\": \"Non Tri-State\", \"sma7d\": 148231.0}, {\"date\": \"2020-11-30T00:00:00\", \"totalTestResultsIncrease\": 1212386.0, \"positiveIncrease\": 133752.0, \"death\": 210937.0, \"deathIncrease\": 904.0, \"positiveRate\": 0.11, \"state\": \"Non Tri-State\", \"sma7d\": 147747.714}, {\"date\": \"2020-12-01T00:00:00\", \"totalTestResultsIncrease\": 1297563.0, \"positiveIncrease\": 165867.0, \"death\": 213264.0, \"deathIncrease\": 2327.0, \"positiveRate\": 0.128, \"state\": \"Non Tri-State\", \"sma7d\": 148647.571}, {\"date\": \"2020-12-02T00:00:00\", \"totalTestResultsIncrease\": 1281499.0, \"positiveIncrease\": 182724.0, \"death\": 215882.0, \"deathIncrease\": 2618.0, \"positiveRate\": 0.143, \"state\": \"Non Tri-State\", \"sma7d\": 149785.429}, {\"date\": \"2020-12-03T00:00:00\", \"totalTestResultsIncrease\": 1583307.0, \"positiveIncrease\": 193965.0, \"death\": 218557.0, \"deathIncrease\": 2675.0, \"positiveRate\": 0.123, \"state\": \"Non Tri-State\", \"sma7d\": 160775.714}, {\"date\": \"2020-12-04T00:00:00\", \"totalTestResultsIncrease\": 1661690.0, \"positiveIncrease\": 209503.0, \"death\": 220987.0, \"deathIncrease\": 2430.0, \"positiveRate\": 0.126, \"state\": \"Non Tri-State\", \"sma7d\": 165198.429}, {\"date\": \"2020-12-05T00:00:00\", \"totalTestResultsIncrease\": 1898293.0, \"positiveIncrease\": 199308.0, \"death\": 223344.0, \"deathIncrease\": 2357.0, \"positiveRate\": 0.105, \"state\": \"Non Tri-State\", \"sma7d\": 172949.571}, {\"date\": \"2020-12-06T00:00:00\", \"totalTestResultsIncrease\": 1390236.0, \"positiveIncrease\": 163887.0, \"death\": 224414.0, \"deathIncrease\": 1070.0, \"positiveRate\": 0.118, \"state\": \"Non Tri-State\", \"sma7d\": 178429.429}, {\"date\": \"2020-12-07T00:00:00\", \"totalTestResultsIncrease\": 1439778.0, \"positiveIncrease\": 161825.0, \"death\": 225535.0, \"deathIncrease\": 1121.0, \"positiveRate\": 0.112, \"state\": \"Non Tri-State\", \"sma7d\": 182439.857}, {\"date\": \"2020-12-08T00:00:00\", \"totalTestResultsIncrease\": 1428488.0, \"positiveIncrease\": 203662.0, \"death\": 228055.0, \"deathIncrease\": 2520.0, \"positiveRate\": 0.143, \"state\": \"Non Tri-State\", \"sma7d\": 187839.143}, {\"date\": \"2020-12-09T00:00:00\", \"totalTestResultsIncrease\": 1449220.0, \"positiveIncrease\": 196135.0, \"death\": 230963.0, \"deathIncrease\": 2908.0, \"positiveRate\": 0.135, \"state\": \"Non Tri-State\", \"sma7d\": 189755.0}, {\"date\": \"2020-12-10T00:00:00\", \"totalTestResultsIncrease\": 1609579.0, \"positiveIncrease\": 200781.0, \"death\": 233876.0, \"deathIncrease\": 2913.0, \"positiveRate\": 0.125, \"state\": \"Non Tri-State\", \"sma7d\": 190728.714}, {\"date\": \"2020-12-11T00:00:00\", \"totalTestResultsIncrease\": 1676485.0, \"positiveIncrease\": 216783.0, \"death\": 236446.0, \"deathIncrease\": 2570.0, \"positiveRate\": 0.129, \"state\": \"Non Tri-State\", \"sma7d\": 191768.714}, {\"date\": \"2020-12-12T00:00:00\", \"totalTestResultsIncrease\": 1564261.0, \"positiveIncrease\": 207827.0, \"death\": 238782.0, \"deathIncrease\": 2336.0, \"positiveRate\": 0.133, \"state\": \"Non Tri-State\", \"sma7d\": 192985.714}, {\"date\": \"2020-12-13T00:00:00\", \"totalTestResultsIncrease\": 1554790.0, \"positiveIncrease\": 173406.0, \"death\": 240147.0, \"deathIncrease\": 1365.0, \"positiveRate\": 0.112, \"state\": \"Non Tri-State\", \"sma7d\": 194345.571}, {\"date\": \"2020-12-14T00:00:00\", \"totalTestResultsIncrease\": 1691161.0, \"positiveIncrease\": 172311.0, \"death\": 241315.0, \"deathIncrease\": 1168.0, \"positiveRate\": 0.102, \"state\": \"Non Tri-State\", \"sma7d\": 195843.571}]}}, {\"mode\": \"vega-lite\"});\n",
       "</script>"
      ],
      "text/plain": [
       "alt.LayerChart(...)"
      ]
     },
     "execution_count": 15,
     "metadata": {},
     "output_type": "execute_result"
    }
   ],
   "source": [
    "create_plot(non_tristate, 'positiveIncrease')"
   ]
  },
  {
   "cell_type": "code",
   "execution_count": 16,
   "metadata": {
    "execution": {
     "iopub.execute_input": "2020-12-15T09:27:16.592793Z",
     "iopub.status.busy": "2020-12-15T09:27:16.582282Z",
     "iopub.status.idle": "2020-12-15T09:27:16.684979Z",
     "shell.execute_reply": "2020-12-15T09:27:16.685622Z"
    },
    "papermill": {
     "duration": 0.13637,
     "end_time": "2020-12-15T09:27:16.685787",
     "exception": false,
     "start_time": "2020-12-15T09:27:16.549417",
     "status": "completed"
    },
    "tags": []
   },
   "outputs": [
    {
     "data": {
      "text/html": [
       "\n",
       "<div id=\"altair-viz-27d8a07670ae49f7af912fd531032bef\"></div>\n",
       "<script type=\"text/javascript\">\n",
       "  (function(spec, embedOpt){\n",
       "    let outputDiv = document.currentScript.previousElementSibling;\n",
       "    if (outputDiv.id !== \"altair-viz-27d8a07670ae49f7af912fd531032bef\") {\n",
       "      outputDiv = document.getElementById(\"altair-viz-27d8a07670ae49f7af912fd531032bef\");\n",
       "    }\n",
       "    const paths = {\n",
       "      \"vega\": \"https://cdn.jsdelivr.net/npm//vega@5?noext\",\n",
       "      \"vega-lib\": \"https://cdn.jsdelivr.net/npm//vega-lib?noext\",\n",
       "      \"vega-lite\": \"https://cdn.jsdelivr.net/npm//vega-lite@4.8.1?noext\",\n",
       "      \"vega-embed\": \"https://cdn.jsdelivr.net/npm//vega-embed@6?noext\",\n",
       "    };\n",
       "\n",
       "    function loadScript(lib) {\n",
       "      return new Promise(function(resolve, reject) {\n",
       "        var s = document.createElement('script');\n",
       "        s.src = paths[lib];\n",
       "        s.async = true;\n",
       "        s.onload = () => resolve(paths[lib]);\n",
       "        s.onerror = () => reject(`Error loading script: ${paths[lib]}`);\n",
       "        document.getElementsByTagName(\"head\")[0].appendChild(s);\n",
       "      });\n",
       "    }\n",
       "\n",
       "    function showError(err) {\n",
       "      outputDiv.innerHTML = `<div class=\"error\" style=\"color:red;\">${err}</div>`;\n",
       "      throw err;\n",
       "    }\n",
       "\n",
       "    function displayChart(vegaEmbed) {\n",
       "      vegaEmbed(outputDiv, spec, embedOpt)\n",
       "        .catch(err => showError(`Javascript Error: ${err.message}<br>This usually means there's a typo in your chart specification. See the javascript console for the full traceback.`));\n",
       "    }\n",
       "\n",
       "    if(typeof define === \"function\" && define.amd) {\n",
       "      requirejs.config({paths});\n",
       "      require([\"vega-embed\"], displayChart, err => showError(`Error loading script: ${err.message}`));\n",
       "    } else if (typeof vegaEmbed === \"function\") {\n",
       "      displayChart(vegaEmbed);\n",
       "    } else {\n",
       "      loadScript(\"vega\")\n",
       "        .then(() => loadScript(\"vega-lite\"))\n",
       "        .then(() => loadScript(\"vega-embed\"))\n",
       "        .catch(showError)\n",
       "        .then(() => displayChart(vegaEmbed));\n",
       "    }\n",
       "  })({\"config\": {\"view\": {\"continuousWidth\": 400, \"continuousHeight\": 300}}, \"layer\": [{\"layer\": [{\"mark\": {\"type\": \"point\", \"size\": 75}, \"encoding\": {\"tooltip\": [{\"type\": \"temporal\", \"field\": \"date\"}, {\"type\": \"quantitative\", \"field\": \"positiveRate\"}, {\"type\": \"quantitative\", \"field\": \"sma7d\"}], \"x\": {\"type\": \"temporal\", \"field\": \"date\"}, \"y\": {\"type\": \"quantitative\", \"field\": \"positiveRate\"}}, \"selection\": {\"selector016\": {\"type\": \"interval\", \"bind\": \"scales\", \"encodings\": [\"x\", \"y\"]}}}, {\"mark\": {\"type\": \"line\", \"color\": \"purple\"}, \"encoding\": {\"x\": {\"type\": \"temporal\", \"field\": \"date\"}, \"y\": {\"type\": \"quantitative\", \"field\": \"sma7d\"}}}]}, {\"mark\": {\"type\": \"rule\", \"color\": \"#aaa\"}, \"encoding\": {\"x\": {\"type\": \"temporal\", \"field\": \"date\"}}, \"transform\": [{\"filter\": {\"selection\": \"selector015\"}}]}, {\"mark\": \"circle\", \"encoding\": {\"opacity\": {\"condition\": {\"value\": 1, \"selection\": \"selector015\"}, \"value\": 0}, \"tooltip\": [{\"type\": \"temporal\", \"field\": \"date\"}, {\"type\": \"quantitative\", \"field\": \"positiveRate\"}, {\"type\": \"quantitative\", \"field\": \"sma7d\"}], \"x\": {\"type\": \"temporal\", \"field\": \"date\"}, \"y\": {\"type\": \"quantitative\", \"field\": \"positiveRate\"}}, \"selection\": {\"selector015\": {\"type\": \"single\", \"encodings\": [\"x\"], \"on\": \"mouseover\", \"nearest\": true, \"empty\": \"none\"}}}, {\"mark\": {\"type\": \"text\", \"align\": \"left\", \"dx\": 5, \"dy\": -5, \"stroke\": \"white\", \"strokeWidth\": 2}, \"encoding\": {\"text\": {\"type\": \"quantitative\", \"field\": \"positiveRate\"}, \"tooltip\": [{\"type\": \"temporal\", \"field\": \"date\"}, {\"type\": \"quantitative\", \"field\": \"positiveRate\"}, {\"type\": \"quantitative\", \"field\": \"sma7d\"}], \"x\": {\"type\": \"temporal\", \"field\": \"date\"}, \"y\": {\"type\": \"quantitative\", \"field\": \"positiveRate\"}}, \"transform\": [{\"filter\": {\"selection\": \"selector015\"}}]}, {\"mark\": {\"type\": \"text\", \"align\": \"left\", \"dx\": 5, \"dy\": -5}, \"encoding\": {\"text\": {\"type\": \"quantitative\", \"field\": \"positiveRate\"}, \"tooltip\": [{\"type\": \"temporal\", \"field\": \"date\"}, {\"type\": \"quantitative\", \"field\": \"positiveRate\"}, {\"type\": \"quantitative\", \"field\": \"sma7d\"}], \"x\": {\"type\": \"temporal\", \"field\": \"date\"}, \"y\": {\"type\": \"quantitative\", \"field\": \"positiveRate\"}}, \"transform\": [{\"filter\": {\"selection\": \"selector015\"}}]}], \"data\": {\"name\": \"data-d61f930054039cf03fa02b694932c5da\"}, \"height\": 400, \"title\": \"Non Tri-State: positiveRate\", \"width\": 500, \"$schema\": \"https://vega.github.io/schema/vega-lite/v4.8.1.json\", \"datasets\": {\"data-d61f930054039cf03fa02b694932c5da\": [{\"date\": \"2020-10-21T00:00:00\", \"totalTestResultsIncrease\": 848782.0, \"positiveIncrease\": 57508.0, \"death\": 167452.0, \"deathIncrease\": 992.0, \"positiveRate\": 0.068, \"state\": \"Non Tri-State\", \"sma7d\": 0.06}, {\"date\": \"2020-10-22T00:00:00\", \"totalTestResultsIncrease\": 1088098.0, \"positiveIncrease\": 69711.0, \"death\": 168543.0, \"deathIncrease\": 1091.0, \"positiveRate\": 0.064, \"state\": \"Non Tri-State\", \"sma7d\": 0.06}, {\"date\": \"2020-10-23T00:00:00\", \"totalTestResultsIncrease\": 1199211.0, \"positiveIncrease\": 78981.0, \"death\": 169455.0, \"deathIncrease\": 912.0, \"positiveRate\": 0.066, \"state\": \"Non Tri-State\", \"sma7d\": 0.061}, {\"date\": \"2020-10-24T00:00:00\", \"totalTestResultsIncrease\": 1153534.0, \"positiveIncrease\": 79349.0, \"death\": 170331.0, \"deathIncrease\": 876.0, \"positiveRate\": 0.069, \"state\": \"Non Tri-State\", \"sma7d\": 0.063}, {\"date\": \"2020-10-25T00:00:00\", \"totalTestResultsIncrease\": 1015401.0, \"positiveIncrease\": 62136.0, \"death\": 170702.0, \"deathIncrease\": 371.0, \"positiveRate\": 0.061, \"state\": \"Non Tri-State\", \"sma7d\": 0.065}, {\"date\": \"2020-10-26T00:00:00\", \"totalTestResultsIncrease\": 951030.0, \"positiveIncrease\": 58081.0, \"death\": 171070.0, \"deathIncrease\": 368.0, \"positiveRate\": 0.061, \"state\": \"Non Tri-State\", \"sma7d\": 0.065}, {\"date\": \"2020-10-27T00:00:00\", \"totalTestResultsIncrease\": 956212.0, \"positiveIncrease\": 67921.0, \"death\": 171963.0, \"deathIncrease\": 893.0, \"positiveRate\": 0.071, \"state\": \"Non Tri-State\", \"sma7d\": 0.066}, {\"date\": \"2020-10-28T00:00:00\", \"totalTestResultsIncrease\": 983168.0, \"positiveIncrease\": 74606.0, \"death\": 172966.0, \"deathIncrease\": 1003.0, \"positiveRate\": 0.076, \"state\": \"Non Tri-State\", \"sma7d\": 0.067}, {\"date\": \"2020-10-29T00:00:00\", \"totalTestResultsIncrease\": 1124025.0, \"positiveIncrease\": 83360.0, \"death\": 173989.0, \"deathIncrease\": 1023.0, \"positiveRate\": 0.074, \"state\": \"Non Tri-State\", \"sma7d\": 0.068}, {\"date\": \"2020-10-30T00:00:00\", \"totalTestResultsIncrease\": 1215809.0, \"positiveIncrease\": 92271.0, \"death\": 174910.0, \"deathIncrease\": 921.0, \"positiveRate\": 0.076, \"state\": \"Non Tri-State\", \"sma7d\": 0.07}, {\"date\": \"2020-10-31T00:00:00\", \"totalTestResultsIncrease\": 1208518.0, \"positiveIncrease\": 87201.0, \"death\": 175866.0, \"deathIncrease\": 956.0, \"positiveRate\": 0.072, \"state\": \"Non Tri-State\", \"sma7d\": 0.07}, {\"date\": \"2020-11-01T00:00:00\", \"totalTestResultsIncrease\": 1026718.0, \"positiveIncrease\": 137349.0, \"death\": 176243.0, \"deathIncrease\": 377.0, \"positiveRate\": 0.134, \"state\": \"Non Tri-State\", \"sma7d\": 0.081}, {\"date\": \"2020-11-02T00:00:00\", \"totalTestResultsIncrease\": 1051213.0, \"positiveIncrease\": 77443.0, \"death\": 176689.0, \"deathIncrease\": 446.0, \"positiveRate\": 0.074, \"state\": \"Non Tri-State\", \"sma7d\": 0.082}, {\"date\": \"2020-11-03T00:00:00\", \"totalTestResultsIncrease\": 1048905.0, \"positiveIncrease\": 85715.0, \"death\": 178181.0, \"deathIncrease\": 1492.0, \"positiveRate\": 0.082, \"state\": \"Non Tri-State\", \"sma7d\": 0.084}, {\"date\": \"2020-11-04T00:00:00\", \"totalTestResultsIncrease\": 1110027.0, \"positiveIncrease\": 97480.0, \"death\": 179258.0, \"deathIncrease\": 1077.0, \"positiveRate\": 0.088, \"state\": \"Non Tri-State\", \"sma7d\": 0.086}, {\"date\": \"2020-11-05T00:00:00\", \"totalTestResultsIncrease\": 1344262.0, \"positiveIncrease\": 111410.0, \"death\": 180366.0, \"deathIncrease\": 1108.0, \"positiveRate\": 0.083, \"state\": \"Non Tri-State\", \"sma7d\": 0.087}, {\"date\": \"2020-11-06T00:00:00\", \"totalTestResultsIncrease\": 1384629.0, \"positiveIncrease\": 121057.0, \"death\": 181506.0, \"deathIncrease\": 1140.0, \"positiveRate\": 0.087, \"state\": \"Non Tri-State\", \"sma7d\": 0.089}, {\"date\": \"2020-11-07T00:00:00\", \"totalTestResultsIncrease\": 1186104.0, \"positiveIncrease\": 124027.0, \"death\": 182611.0, \"deathIncrease\": 1105.0, \"positiveRate\": 0.105, \"state\": \"Non Tri-State\", \"sma7d\": 0.093}, {\"date\": \"2020-11-08T00:00:00\", \"totalTestResultsIncrease\": 1072305.0, \"positiveIncrease\": 106058.0, \"death\": 183089.0, \"deathIncrease\": 478.0, \"positiveRate\": 0.099, \"state\": \"Non Tri-State\", \"sma7d\": 0.088}, {\"date\": \"2020-11-09T00:00:00\", \"totalTestResultsIncrease\": 1171314.0, \"positiveIncrease\": 108958.0, \"death\": 183605.0, \"deathIncrease\": 516.0, \"positiveRate\": 0.093, \"state\": \"Non Tri-State\", \"sma7d\": 0.091}, {\"date\": \"2020-11-10T00:00:00\", \"totalTestResultsIncrease\": 1191112.0, \"positiveIncrease\": 123708.0, \"death\": 184900.0, \"deathIncrease\": 1295.0, \"positiveRate\": 0.104, \"state\": \"Non Tri-State\", \"sma7d\": 0.094}, {\"date\": \"2020-11-11T00:00:00\", \"totalTestResultsIncrease\": 1218910.0, \"positiveIncrease\": 137259.0, \"death\": 186434.0, \"deathIncrease\": 1534.0, \"positiveRate\": 0.113, \"state\": \"Non Tri-State\", \"sma7d\": 0.098}, {\"date\": \"2020-11-12T00:00:00\", \"totalTestResultsIncrease\": 1344051.0, \"positiveIncrease\": 144729.0, \"death\": 187487.0, \"deathIncrease\": 1053.0, \"positiveRate\": 0.108, \"state\": \"Non Tri-State\", \"sma7d\": 0.101}, {\"date\": \"2020-11-13T00:00:00\", \"totalTestResultsIncrease\": 1415602.0, \"positiveIncrease\": 162915.0, \"death\": 188729.0, \"deathIncrease\": 1242.0, \"positiveRate\": 0.115, \"state\": \"Non Tri-State\", \"sma7d\": 0.105}, {\"date\": \"2020-11-14T00:00:00\", \"totalTestResultsIncrease\": 1480430.0, \"positiveIncrease\": 156080.0, \"death\": 190031.0, \"deathIncrease\": 1302.0, \"positiveRate\": 0.105, \"state\": \"Non Tri-State\", \"sma7d\": 0.105}, {\"date\": \"2020-11-15T00:00:00\", \"totalTestResultsIncrease\": 1291901.0, \"positiveIncrease\": 137643.0, \"death\": 190691.0, \"deathIncrease\": 660.0, \"positiveRate\": 0.107, \"state\": \"Non Tri-State\", \"sma7d\": 0.106}, {\"date\": \"2020-11-16T00:00:00\", \"totalTestResultsIncrease\": 1316824.0, \"positiveIncrease\": 139180.0, \"death\": 191238.0, \"deathIncrease\": 547.0, \"positiveRate\": 0.106, \"state\": \"Non Tri-State\", \"sma7d\": 0.108}, {\"date\": \"2020-11-17T00:00:00\", \"totalTestResultsIncrease\": 1378116.0, \"positiveIncrease\": 147983.0, \"death\": 192720.0, \"deathIncrease\": 1482.0, \"positiveRate\": 0.107, \"state\": \"Non Tri-State\", \"sma7d\": 0.109}, {\"date\": \"2020-11-18T00:00:00\", \"totalTestResultsIncrease\": 1339923.0, \"positiveIncrease\": 154788.0, \"death\": 194516.0, \"deathIncrease\": 1796.0, \"positiveRate\": 0.116, \"state\": \"Non Tri-State\", \"sma7d\": 0.109}, {\"date\": \"2020-11-19T00:00:00\", \"totalTestResultsIncrease\": 1613959.0, \"positiveIncrease\": 172827.0, \"death\": 196449.0, \"deathIncrease\": 1933.0, \"positiveRate\": 0.107, \"state\": \"Non Tri-State\", \"sma7d\": 0.109}, {\"date\": \"2020-11-20T00:00:00\", \"totalTestResultsIncrease\": 1662715.0, \"positiveIncrease\": 183628.0, \"death\": 198262.0, \"deathIncrease\": 1813.0, \"positiveRate\": 0.11, \"state\": \"Non Tri-State\", \"sma7d\": 0.108}, {\"date\": \"2020-11-21T00:00:00\", \"totalTestResultsIncrease\": 1791126.0, \"positiveIncrease\": 171218.0, \"death\": 199748.0, \"deathIncrease\": 1486.0, \"positiveRate\": 0.096, \"state\": \"Non Tri-State\", \"sma7d\": 0.107}, {\"date\": \"2020-11-22T00:00:00\", \"totalTestResultsIncrease\": 1502646.0, \"positiveIncrease\": 142536.0, \"death\": 200619.0, \"deathIncrease\": 871.0, \"positiveRate\": 0.095, \"state\": \"Non Tri-State\", \"sma7d\": 0.105}, {\"date\": \"2020-11-23T00:00:00\", \"totalTestResultsIncrease\": 1339374.0, \"positiveIncrease\": 137135.0, \"death\": 201390.0, \"deathIncrease\": 771.0, \"positiveRate\": 0.102, \"state\": \"Non Tri-State\", \"sma7d\": 0.105}, {\"date\": \"2020-11-24T00:00:00\", \"totalTestResultsIncrease\": 1656006.0, \"positiveIncrease\": 159568.0, \"death\": 203388.0, \"deathIncrease\": 1998.0, \"positiveRate\": 0.096, \"state\": \"Non Tri-State\", \"sma7d\": 0.103}, {\"date\": \"2020-11-25T00:00:00\", \"totalTestResultsIncrease\": 1521120.0, \"positiveIncrease\": 174759.0, \"death\": 205515.0, \"deathIncrease\": 2127.0, \"positiveRate\": 0.115, \"state\": \"Non Tri-State\", \"sma7d\": 0.103}, {\"date\": \"2020-11-26T00:00:00\", \"totalTestResultsIncrease\": 1046518.0, \"positiveIncrease\": 117033.0, \"death\": 206796.0, \"deathIncrease\": 1281.0, \"positiveRate\": 0.112, \"state\": \"Non Tri-State\", \"sma7d\": 0.104}, {\"date\": \"2020-11-27T00:00:00\", \"totalTestResultsIncrease\": 1737264.0, \"positiveIncrease\": 178544.0, \"death\": 208097.0, \"deathIncrease\": 1301.0, \"positiveRate\": 0.103, \"state\": \"Non Tri-State\", \"sma7d\": 0.103}, {\"date\": \"2020-11-28T00:00:00\", \"totalTestResultsIncrease\": 1413278.0, \"positiveIncrease\": 145050.0, \"death\": 209281.0, \"deathIncrease\": 1184.0, \"positiveRate\": 0.103, \"state\": \"Non Tri-State\", \"sma7d\": 0.104}, {\"date\": \"2020-11-29T00:00:00\", \"totalTestResultsIncrease\": 1124361.0, \"positiveIncrease\": 125528.0, \"death\": 210033.0, \"deathIncrease\": 752.0, \"positiveRate\": 0.112, \"state\": \"Non Tri-State\", \"sma7d\": 0.106}, {\"date\": \"2020-11-30T00:00:00\", \"totalTestResultsIncrease\": 1212386.0, \"positiveIncrease\": 133752.0, \"death\": 210937.0, \"deathIncrease\": 904.0, \"positiveRate\": 0.11, \"state\": \"Non Tri-State\", \"sma7d\": 0.107}, {\"date\": \"2020-12-01T00:00:00\", \"totalTestResultsIncrease\": 1297563.0, \"positiveIncrease\": 165867.0, \"death\": 213264.0, \"deathIncrease\": 2327.0, \"positiveRate\": 0.128, \"state\": \"Non Tri-State\", \"sma7d\": 0.112}, {\"date\": \"2020-12-02T00:00:00\", \"totalTestResultsIncrease\": 1281499.0, \"positiveIncrease\": 182724.0, \"death\": 215882.0, \"deathIncrease\": 2618.0, \"positiveRate\": 0.143, \"state\": \"Non Tri-State\", \"sma7d\": 0.116}, {\"date\": \"2020-12-03T00:00:00\", \"totalTestResultsIncrease\": 1583307.0, \"positiveIncrease\": 193965.0, \"death\": 218557.0, \"deathIncrease\": 2675.0, \"positiveRate\": 0.123, \"state\": \"Non Tri-State\", \"sma7d\": 0.117}, {\"date\": \"2020-12-04T00:00:00\", \"totalTestResultsIncrease\": 1661690.0, \"positiveIncrease\": 209503.0, \"death\": 220987.0, \"deathIncrease\": 2430.0, \"positiveRate\": 0.126, \"state\": \"Non Tri-State\", \"sma7d\": 0.121}, {\"date\": \"2020-12-05T00:00:00\", \"totalTestResultsIncrease\": 1898293.0, \"positiveIncrease\": 199308.0, \"death\": 223344.0, \"deathIncrease\": 2357.0, \"positiveRate\": 0.105, \"state\": \"Non Tri-State\", \"sma7d\": 0.121}, {\"date\": \"2020-12-06T00:00:00\", \"totalTestResultsIncrease\": 1390236.0, \"positiveIncrease\": 163887.0, \"death\": 224414.0, \"deathIncrease\": 1070.0, \"positiveRate\": 0.118, \"state\": \"Non Tri-State\", \"sma7d\": 0.122}, {\"date\": \"2020-12-07T00:00:00\", \"totalTestResultsIncrease\": 1439778.0, \"positiveIncrease\": 161825.0, \"death\": 225535.0, \"deathIncrease\": 1121.0, \"positiveRate\": 0.112, \"state\": \"Non Tri-State\", \"sma7d\": 0.122}, {\"date\": \"2020-12-08T00:00:00\", \"totalTestResultsIncrease\": 1428488.0, \"positiveIncrease\": 203662.0, \"death\": 228055.0, \"deathIncrease\": 2520.0, \"positiveRate\": 0.143, \"state\": \"Non Tri-State\", \"sma7d\": 0.124}, {\"date\": \"2020-12-09T00:00:00\", \"totalTestResultsIncrease\": 1449220.0, \"positiveIncrease\": 196135.0, \"death\": 230963.0, \"deathIncrease\": 2908.0, \"positiveRate\": 0.135, \"state\": \"Non Tri-State\", \"sma7d\": 0.123}, {\"date\": \"2020-12-10T00:00:00\", \"totalTestResultsIncrease\": 1609579.0, \"positiveIncrease\": 200781.0, \"death\": 233876.0, \"deathIncrease\": 2913.0, \"positiveRate\": 0.125, \"state\": \"Non Tri-State\", \"sma7d\": 0.123}, {\"date\": \"2020-12-11T00:00:00\", \"totalTestResultsIncrease\": 1676485.0, \"positiveIncrease\": 216783.0, \"death\": 236446.0, \"deathIncrease\": 2570.0, \"positiveRate\": 0.129, \"state\": \"Non Tri-State\", \"sma7d\": 0.124}, {\"date\": \"2020-12-12T00:00:00\", \"totalTestResultsIncrease\": 1564261.0, \"positiveIncrease\": 207827.0, \"death\": 238782.0, \"deathIncrease\": 2336.0, \"positiveRate\": 0.133, \"state\": \"Non Tri-State\", \"sma7d\": 0.128}, {\"date\": \"2020-12-13T00:00:00\", \"totalTestResultsIncrease\": 1554790.0, \"positiveIncrease\": 173406.0, \"death\": 240147.0, \"deathIncrease\": 1365.0, \"positiveRate\": 0.112, \"state\": \"Non Tri-State\", \"sma7d\": 0.127}, {\"date\": \"2020-12-14T00:00:00\", \"totalTestResultsIncrease\": 1691161.0, \"positiveIncrease\": 172311.0, \"death\": 241315.0, \"deathIncrease\": 1168.0, \"positiveRate\": 0.102, \"state\": \"Non Tri-State\", \"sma7d\": 0.126}]}}, {\"mode\": \"vega-lite\"});\n",
       "</script>"
      ],
      "text/plain": [
       "alt.LayerChart(...)"
      ]
     },
     "execution_count": 16,
     "metadata": {},
     "output_type": "execute_result"
    }
   ],
   "source": [
    "create_plot(non_tristate, 'positiveRate')"
   ]
  },
  {
   "cell_type": "code",
   "execution_count": 17,
   "metadata": {
    "execution": {
     "iopub.execute_input": "2020-12-15T09:27:16.731546Z",
     "iopub.status.busy": "2020-12-15T09:27:16.730855Z",
     "iopub.status.idle": "2020-12-15T09:27:16.834513Z",
     "shell.execute_reply": "2020-12-15T09:27:16.835206Z"
    },
    "papermill": {
     "duration": 0.129214,
     "end_time": "2020-12-15T09:27:16.835359",
     "exception": false,
     "start_time": "2020-12-15T09:27:16.706145",
     "status": "completed"
    },
    "tags": []
   },
   "outputs": [
    {
     "data": {
      "text/html": [
       "\n",
       "<div id=\"altair-viz-8dd658dabd4b43afbcb8bc5f4b999116\"></div>\n",
       "<script type=\"text/javascript\">\n",
       "  (function(spec, embedOpt){\n",
       "    let outputDiv = document.currentScript.previousElementSibling;\n",
       "    if (outputDiv.id !== \"altair-viz-8dd658dabd4b43afbcb8bc5f4b999116\") {\n",
       "      outputDiv = document.getElementById(\"altair-viz-8dd658dabd4b43afbcb8bc5f4b999116\");\n",
       "    }\n",
       "    const paths = {\n",
       "      \"vega\": \"https://cdn.jsdelivr.net/npm//vega@5?noext\",\n",
       "      \"vega-lib\": \"https://cdn.jsdelivr.net/npm//vega-lib?noext\",\n",
       "      \"vega-lite\": \"https://cdn.jsdelivr.net/npm//vega-lite@4.8.1?noext\",\n",
       "      \"vega-embed\": \"https://cdn.jsdelivr.net/npm//vega-embed@6?noext\",\n",
       "    };\n",
       "\n",
       "    function loadScript(lib) {\n",
       "      return new Promise(function(resolve, reject) {\n",
       "        var s = document.createElement('script');\n",
       "        s.src = paths[lib];\n",
       "        s.async = true;\n",
       "        s.onload = () => resolve(paths[lib]);\n",
       "        s.onerror = () => reject(`Error loading script: ${paths[lib]}`);\n",
       "        document.getElementsByTagName(\"head\")[0].appendChild(s);\n",
       "      });\n",
       "    }\n",
       "\n",
       "    function showError(err) {\n",
       "      outputDiv.innerHTML = `<div class=\"error\" style=\"color:red;\">${err}</div>`;\n",
       "      throw err;\n",
       "    }\n",
       "\n",
       "    function displayChart(vegaEmbed) {\n",
       "      vegaEmbed(outputDiv, spec, embedOpt)\n",
       "        .catch(err => showError(`Javascript Error: ${err.message}<br>This usually means there's a typo in your chart specification. See the javascript console for the full traceback.`));\n",
       "    }\n",
       "\n",
       "    if(typeof define === \"function\" && define.amd) {\n",
       "      requirejs.config({paths});\n",
       "      require([\"vega-embed\"], displayChart, err => showError(`Error loading script: ${err.message}`));\n",
       "    } else if (typeof vegaEmbed === \"function\") {\n",
       "      displayChart(vegaEmbed);\n",
       "    } else {\n",
       "      loadScript(\"vega\")\n",
       "        .then(() => loadScript(\"vega-lite\"))\n",
       "        .then(() => loadScript(\"vega-embed\"))\n",
       "        .catch(showError)\n",
       "        .then(() => displayChart(vegaEmbed));\n",
       "    }\n",
       "  })({\"config\": {\"view\": {\"continuousWidth\": 400, \"continuousHeight\": 300}}, \"layer\": [{\"layer\": [{\"mark\": {\"type\": \"point\", \"size\": 75}, \"encoding\": {\"tooltip\": [{\"type\": \"temporal\", \"field\": \"date\"}, {\"type\": \"quantitative\", \"field\": \"deathIncrease\"}, {\"type\": \"quantitative\", \"field\": \"sma7d\"}], \"x\": {\"type\": \"temporal\", \"field\": \"date\"}, \"y\": {\"type\": \"quantitative\", \"field\": \"deathIncrease\"}}, \"selection\": {\"selector018\": {\"type\": \"interval\", \"bind\": \"scales\", \"encodings\": [\"x\", \"y\"]}}}, {\"mark\": {\"type\": \"line\", \"color\": \"purple\"}, \"encoding\": {\"x\": {\"type\": \"temporal\", \"field\": \"date\"}, \"y\": {\"type\": \"quantitative\", \"field\": \"sma7d\"}}}]}, {\"mark\": {\"type\": \"rule\", \"color\": \"#aaa\"}, \"encoding\": {\"x\": {\"type\": \"temporal\", \"field\": \"date\"}}, \"transform\": [{\"filter\": {\"selection\": \"selector017\"}}]}, {\"mark\": \"circle\", \"encoding\": {\"opacity\": {\"condition\": {\"value\": 1, \"selection\": \"selector017\"}, \"value\": 0}, \"tooltip\": [{\"type\": \"temporal\", \"field\": \"date\"}, {\"type\": \"quantitative\", \"field\": \"deathIncrease\"}, {\"type\": \"quantitative\", \"field\": \"sma7d\"}], \"x\": {\"type\": \"temporal\", \"field\": \"date\"}, \"y\": {\"type\": \"quantitative\", \"field\": \"deathIncrease\"}}, \"selection\": {\"selector017\": {\"type\": \"single\", \"encodings\": [\"x\"], \"on\": \"mouseover\", \"nearest\": true, \"empty\": \"none\"}}}, {\"mark\": {\"type\": \"text\", \"align\": \"left\", \"dx\": 5, \"dy\": -5, \"stroke\": \"white\", \"strokeWidth\": 2}, \"encoding\": {\"text\": {\"type\": \"quantitative\", \"field\": \"deathIncrease\"}, \"tooltip\": [{\"type\": \"temporal\", \"field\": \"date\"}, {\"type\": \"quantitative\", \"field\": \"deathIncrease\"}, {\"type\": \"quantitative\", \"field\": \"sma7d\"}], \"x\": {\"type\": \"temporal\", \"field\": \"date\"}, \"y\": {\"type\": \"quantitative\", \"field\": \"deathIncrease\"}}, \"transform\": [{\"filter\": {\"selection\": \"selector017\"}}]}, {\"mark\": {\"type\": \"text\", \"align\": \"left\", \"dx\": 5, \"dy\": -5}, \"encoding\": {\"text\": {\"type\": \"quantitative\", \"field\": \"deathIncrease\"}, \"tooltip\": [{\"type\": \"temporal\", \"field\": \"date\"}, {\"type\": \"quantitative\", \"field\": \"deathIncrease\"}, {\"type\": \"quantitative\", \"field\": \"sma7d\"}], \"x\": {\"type\": \"temporal\", \"field\": \"date\"}, \"y\": {\"type\": \"quantitative\", \"field\": \"deathIncrease\"}}, \"transform\": [{\"filter\": {\"selection\": \"selector017\"}}]}], \"data\": {\"name\": \"data-a2fb616983a8889e53860e239b3f7a27\"}, \"height\": 400, \"title\": \"Non Tri-State: deathIncrease\", \"width\": 500, \"$schema\": \"https://vega.github.io/schema/vega-lite/v4.8.1.json\", \"datasets\": {\"data-a2fb616983a8889e53860e239b3f7a27\": [{\"date\": \"2020-10-21T00:00:00\", \"totalTestResultsIncrease\": 848782.0, \"positiveIncrease\": 57508.0, \"death\": 167452.0, \"deathIncrease\": 992.0, \"positiveRate\": 0.068, \"state\": \"Non Tri-State\", \"sma7d\": 735.571}, {\"date\": \"2020-10-22T00:00:00\", \"totalTestResultsIncrease\": 1088098.0, \"positiveIncrease\": 69711.0, \"death\": 168543.0, \"deathIncrease\": 1091.0, \"positiveRate\": 0.064, \"state\": \"Non Tri-State\", \"sma7d\": 762.0}, {\"date\": \"2020-10-23T00:00:00\", \"totalTestResultsIncrease\": 1199211.0, \"positiveIncrease\": 78981.0, \"death\": 169455.0, \"deathIncrease\": 912.0, \"positiveRate\": 0.066, \"state\": \"Non Tri-State\", \"sma7d\": 767.0}, {\"date\": \"2020-10-24T00:00:00\", \"totalTestResultsIncrease\": 1153534.0, \"positiveIncrease\": 79349.0, \"death\": 170331.0, \"deathIncrease\": 876.0, \"positiveRate\": 0.069, \"state\": \"Non Tri-State\", \"sma7d\": 782.714}, {\"date\": \"2020-10-25T00:00:00\", \"totalTestResultsIncrease\": 1015401.0, \"positiveIncrease\": 62136.0, \"death\": 170702.0, \"deathIncrease\": 371.0, \"positiveRate\": 0.061, \"state\": \"Non Tri-State\", \"sma7d\": 780.286}, {\"date\": \"2020-10-26T00:00:00\", \"totalTestResultsIncrease\": 951030.0, \"positiveIncrease\": 58081.0, \"death\": 171070.0, \"deathIncrease\": 368.0, \"positiveRate\": 0.061, \"state\": \"Non Tri-State\", \"sma7d\": 772.714}, {\"date\": \"2020-10-27T00:00:00\", \"totalTestResultsIncrease\": 956212.0, \"positiveIncrease\": 67921.0, \"death\": 171963.0, \"deathIncrease\": 893.0, \"positiveRate\": 0.071, \"state\": \"Non Tri-State\", \"sma7d\": 786.143}, {\"date\": \"2020-10-28T00:00:00\", \"totalTestResultsIncrease\": 983168.0, \"positiveIncrease\": 74606.0, \"death\": 172966.0, \"deathIncrease\": 1003.0, \"positiveRate\": 0.076, \"state\": \"Non Tri-State\", \"sma7d\": 787.714}, {\"date\": \"2020-10-29T00:00:00\", \"totalTestResultsIncrease\": 1124025.0, \"positiveIncrease\": 83360.0, \"death\": 173989.0, \"deathIncrease\": 1023.0, \"positiveRate\": 0.074, \"state\": \"Non Tri-State\", \"sma7d\": 778.0}, {\"date\": \"2020-10-30T00:00:00\", \"totalTestResultsIncrease\": 1215809.0, \"positiveIncrease\": 92271.0, \"death\": 174910.0, \"deathIncrease\": 921.0, \"positiveRate\": 0.076, \"state\": \"Non Tri-State\", \"sma7d\": 779.286}, {\"date\": \"2020-10-31T00:00:00\", \"totalTestResultsIncrease\": 1208518.0, \"positiveIncrease\": 87201.0, \"death\": 175866.0, \"deathIncrease\": 956.0, \"positiveRate\": 0.072, \"state\": \"Non Tri-State\", \"sma7d\": 790.714}, {\"date\": \"2020-11-01T00:00:00\", \"totalTestResultsIncrease\": 1026718.0, \"positiveIncrease\": 137349.0, \"death\": 176243.0, \"deathIncrease\": 377.0, \"positiveRate\": 0.134, \"state\": \"Non Tri-State\", \"sma7d\": 791.571}, {\"date\": \"2020-11-02T00:00:00\", \"totalTestResultsIncrease\": 1051213.0, \"positiveIncrease\": 77443.0, \"death\": 176689.0, \"deathIncrease\": 446.0, \"positiveRate\": 0.074, \"state\": \"Non Tri-State\", \"sma7d\": 802.714}, {\"date\": \"2020-11-03T00:00:00\", \"totalTestResultsIncrease\": 1048905.0, \"positiveIncrease\": 85715.0, \"death\": 178181.0, \"deathIncrease\": 1492.0, \"positiveRate\": 0.082, \"state\": \"Non Tri-State\", \"sma7d\": 888.286}, {\"date\": \"2020-11-04T00:00:00\", \"totalTestResultsIncrease\": 1110027.0, \"positiveIncrease\": 97480.0, \"death\": 179258.0, \"deathIncrease\": 1077.0, \"positiveRate\": 0.088, \"state\": \"Non Tri-State\", \"sma7d\": 898.857}, {\"date\": \"2020-11-05T00:00:00\", \"totalTestResultsIncrease\": 1344262.0, \"positiveIncrease\": 111410.0, \"death\": 180366.0, \"deathIncrease\": 1108.0, \"positiveRate\": 0.083, \"state\": \"Non Tri-State\", \"sma7d\": 911.0}, {\"date\": \"2020-11-06T00:00:00\", \"totalTestResultsIncrease\": 1384629.0, \"positiveIncrease\": 121057.0, \"death\": 181506.0, \"deathIncrease\": 1140.0, \"positiveRate\": 0.087, \"state\": \"Non Tri-State\", \"sma7d\": 942.286}, {\"date\": \"2020-11-07T00:00:00\", \"totalTestResultsIncrease\": 1186104.0, \"positiveIncrease\": 124027.0, \"death\": 182611.0, \"deathIncrease\": 1105.0, \"positiveRate\": 0.105, \"state\": \"Non Tri-State\", \"sma7d\": 963.571}, {\"date\": \"2020-11-08T00:00:00\", \"totalTestResultsIncrease\": 1072305.0, \"positiveIncrease\": 106058.0, \"death\": 183089.0, \"deathIncrease\": 478.0, \"positiveRate\": 0.099, \"state\": \"Non Tri-State\", \"sma7d\": 978.0}, {\"date\": \"2020-11-09T00:00:00\", \"totalTestResultsIncrease\": 1171314.0, \"positiveIncrease\": 108958.0, \"death\": 183605.0, \"deathIncrease\": 516.0, \"positiveRate\": 0.093, \"state\": \"Non Tri-State\", \"sma7d\": 988.0}, {\"date\": \"2020-11-10T00:00:00\", \"totalTestResultsIncrease\": 1191112.0, \"positiveIncrease\": 123708.0, \"death\": 184900.0, \"deathIncrease\": 1295.0, \"positiveRate\": 0.104, \"state\": \"Non Tri-State\", \"sma7d\": 959.857}, {\"date\": \"2020-11-11T00:00:00\", \"totalTestResultsIncrease\": 1218910.0, \"positiveIncrease\": 137259.0, \"death\": 186434.0, \"deathIncrease\": 1534.0, \"positiveRate\": 0.113, \"state\": \"Non Tri-State\", \"sma7d\": 1025.143}, {\"date\": \"2020-11-12T00:00:00\", \"totalTestResultsIncrease\": 1344051.0, \"positiveIncrease\": 144729.0, \"death\": 187487.0, \"deathIncrease\": 1053.0, \"positiveRate\": 0.108, \"state\": \"Non Tri-State\", \"sma7d\": 1017.286}, {\"date\": \"2020-11-13T00:00:00\", \"totalTestResultsIncrease\": 1415602.0, \"positiveIncrease\": 162915.0, \"death\": 188729.0, \"deathIncrease\": 1242.0, \"positiveRate\": 0.115, \"state\": \"Non Tri-State\", \"sma7d\": 1031.857}, {\"date\": \"2020-11-14T00:00:00\", \"totalTestResultsIncrease\": 1480430.0, \"positiveIncrease\": 156080.0, \"death\": 190031.0, \"deathIncrease\": 1302.0, \"positiveRate\": 0.105, \"state\": \"Non Tri-State\", \"sma7d\": 1060.0}, {\"date\": \"2020-11-15T00:00:00\", \"totalTestResultsIncrease\": 1291901.0, \"positiveIncrease\": 137643.0, \"death\": 190691.0, \"deathIncrease\": 660.0, \"positiveRate\": 0.107, \"state\": \"Non Tri-State\", \"sma7d\": 1086.0}, {\"date\": \"2020-11-16T00:00:00\", \"totalTestResultsIncrease\": 1316824.0, \"positiveIncrease\": 139180.0, \"death\": 191238.0, \"deathIncrease\": 547.0, \"positiveRate\": 0.106, \"state\": \"Non Tri-State\", \"sma7d\": 1090.429}, {\"date\": \"2020-11-17T00:00:00\", \"totalTestResultsIncrease\": 1378116.0, \"positiveIncrease\": 147983.0, \"death\": 192720.0, \"deathIncrease\": 1482.0, \"positiveRate\": 0.107, \"state\": \"Non Tri-State\", \"sma7d\": 1117.143}, {\"date\": \"2020-11-18T00:00:00\", \"totalTestResultsIncrease\": 1339923.0, \"positiveIncrease\": 154788.0, \"death\": 194516.0, \"deathIncrease\": 1796.0, \"positiveRate\": 0.116, \"state\": \"Non Tri-State\", \"sma7d\": 1154.571}, {\"date\": \"2020-11-19T00:00:00\", \"totalTestResultsIncrease\": 1613959.0, \"positiveIncrease\": 172827.0, \"death\": 196449.0, \"deathIncrease\": 1933.0, \"positiveRate\": 0.107, \"state\": \"Non Tri-State\", \"sma7d\": 1280.286}, {\"date\": \"2020-11-20T00:00:00\", \"totalTestResultsIncrease\": 1662715.0, \"positiveIncrease\": 183628.0, \"death\": 198262.0, \"deathIncrease\": 1813.0, \"positiveRate\": 0.11, \"state\": \"Non Tri-State\", \"sma7d\": 1361.857}, {\"date\": \"2020-11-21T00:00:00\", \"totalTestResultsIncrease\": 1791126.0, \"positiveIncrease\": 171218.0, \"death\": 199748.0, \"deathIncrease\": 1486.0, \"positiveRate\": 0.096, \"state\": \"Non Tri-State\", \"sma7d\": 1388.143}, {\"date\": \"2020-11-22T00:00:00\", \"totalTestResultsIncrease\": 1502646.0, \"positiveIncrease\": 142536.0, \"death\": 200619.0, \"deathIncrease\": 871.0, \"positiveRate\": 0.095, \"state\": \"Non Tri-State\", \"sma7d\": 1418.286}, {\"date\": \"2020-11-23T00:00:00\", \"totalTestResultsIncrease\": 1339374.0, \"positiveIncrease\": 137135.0, \"death\": 201390.0, \"deathIncrease\": 771.0, \"positiveRate\": 0.102, \"state\": \"Non Tri-State\", \"sma7d\": 1450.286}, {\"date\": \"2020-11-24T00:00:00\", \"totalTestResultsIncrease\": 1656006.0, \"positiveIncrease\": 159568.0, \"death\": 203388.0, \"deathIncrease\": 1998.0, \"positiveRate\": 0.096, \"state\": \"Non Tri-State\", \"sma7d\": 1524.0}, {\"date\": \"2020-11-25T00:00:00\", \"totalTestResultsIncrease\": 1521120.0, \"positiveIncrease\": 174759.0, \"death\": 205515.0, \"deathIncrease\": 2127.0, \"positiveRate\": 0.115, \"state\": \"Non Tri-State\", \"sma7d\": 1571.286}, {\"date\": \"2020-11-26T00:00:00\", \"totalTestResultsIncrease\": 1046518.0, \"positiveIncrease\": 117033.0, \"death\": 206796.0, \"deathIncrease\": 1281.0, \"positiveRate\": 0.112, \"state\": \"Non Tri-State\", \"sma7d\": 1478.143}, {\"date\": \"2020-11-27T00:00:00\", \"totalTestResultsIncrease\": 1737264.0, \"positiveIncrease\": 178544.0, \"death\": 208097.0, \"deathIncrease\": 1301.0, \"positiveRate\": 0.103, \"state\": \"Non Tri-State\", \"sma7d\": 1405.0}, {\"date\": \"2020-11-28T00:00:00\", \"totalTestResultsIncrease\": 1413278.0, \"positiveIncrease\": 145050.0, \"death\": 209281.0, \"deathIncrease\": 1184.0, \"positiveRate\": 0.103, \"state\": \"Non Tri-State\", \"sma7d\": 1361.857}, {\"date\": \"2020-11-29T00:00:00\", \"totalTestResultsIncrease\": 1124361.0, \"positiveIncrease\": 125528.0, \"death\": 210033.0, \"deathIncrease\": 752.0, \"positiveRate\": 0.112, \"state\": \"Non Tri-State\", \"sma7d\": 1344.857}, {\"date\": \"2020-11-30T00:00:00\", \"totalTestResultsIncrease\": 1212386.0, \"positiveIncrease\": 133752.0, \"death\": 210937.0, \"deathIncrease\": 904.0, \"positiveRate\": 0.11, \"state\": \"Non Tri-State\", \"sma7d\": 1363.857}, {\"date\": \"2020-12-01T00:00:00\", \"totalTestResultsIncrease\": 1297563.0, \"positiveIncrease\": 165867.0, \"death\": 213264.0, \"deathIncrease\": 2327.0, \"positiveRate\": 0.128, \"state\": \"Non Tri-State\", \"sma7d\": 1410.857}, {\"date\": \"2020-12-02T00:00:00\", \"totalTestResultsIncrease\": 1281499.0, \"positiveIncrease\": 182724.0, \"death\": 215882.0, \"deathIncrease\": 2618.0, \"positiveRate\": 0.143, \"state\": \"Non Tri-State\", \"sma7d\": 1481.0}, {\"date\": \"2020-12-03T00:00:00\", \"totalTestResultsIncrease\": 1583307.0, \"positiveIncrease\": 193965.0, \"death\": 218557.0, \"deathIncrease\": 2675.0, \"positiveRate\": 0.123, \"state\": \"Non Tri-State\", \"sma7d\": 1680.143}, {\"date\": \"2020-12-04T00:00:00\", \"totalTestResultsIncrease\": 1661690.0, \"positiveIncrease\": 209503.0, \"death\": 220987.0, \"deathIncrease\": 2430.0, \"positiveRate\": 0.126, \"state\": \"Non Tri-State\", \"sma7d\": 1841.429}, {\"date\": \"2020-12-05T00:00:00\", \"totalTestResultsIncrease\": 1898293.0, \"positiveIncrease\": 199308.0, \"death\": 223344.0, \"deathIncrease\": 2357.0, \"positiveRate\": 0.105, \"state\": \"Non Tri-State\", \"sma7d\": 2009.0}, {\"date\": \"2020-12-06T00:00:00\", \"totalTestResultsIncrease\": 1390236.0, \"positiveIncrease\": 163887.0, \"death\": 224414.0, \"deathIncrease\": 1070.0, \"positiveRate\": 0.118, \"state\": \"Non Tri-State\", \"sma7d\": 2054.429}, {\"date\": \"2020-12-07T00:00:00\", \"totalTestResultsIncrease\": 1439778.0, \"positiveIncrease\": 161825.0, \"death\": 225535.0, \"deathIncrease\": 1121.0, \"positiveRate\": 0.112, \"state\": \"Non Tri-State\", \"sma7d\": 2085.429}, {\"date\": \"2020-12-08T00:00:00\", \"totalTestResultsIncrease\": 1428488.0, \"positiveIncrease\": 203662.0, \"death\": 228055.0, \"deathIncrease\": 2520.0, \"positiveRate\": 0.143, \"state\": \"Non Tri-State\", \"sma7d\": 2113.0}, {\"date\": \"2020-12-09T00:00:00\", \"totalTestResultsIncrease\": 1449220.0, \"positiveIncrease\": 196135.0, \"death\": 230963.0, \"deathIncrease\": 2908.0, \"positiveRate\": 0.135, \"state\": \"Non Tri-State\", \"sma7d\": 2154.429}, {\"date\": \"2020-12-10T00:00:00\", \"totalTestResultsIncrease\": 1609579.0, \"positiveIncrease\": 200781.0, \"death\": 233876.0, \"deathIncrease\": 2913.0, \"positiveRate\": 0.125, \"state\": \"Non Tri-State\", \"sma7d\": 2188.429}, {\"date\": \"2020-12-11T00:00:00\", \"totalTestResultsIncrease\": 1676485.0, \"positiveIncrease\": 216783.0, \"death\": 236446.0, \"deathIncrease\": 2570.0, \"positiveRate\": 0.129, \"state\": \"Non Tri-State\", \"sma7d\": 2208.429}, {\"date\": \"2020-12-12T00:00:00\", \"totalTestResultsIncrease\": 1564261.0, \"positiveIncrease\": 207827.0, \"death\": 238782.0, \"deathIncrease\": 2336.0, \"positiveRate\": 0.133, \"state\": \"Non Tri-State\", \"sma7d\": 2205.429}, {\"date\": \"2020-12-13T00:00:00\", \"totalTestResultsIncrease\": 1554790.0, \"positiveIncrease\": 173406.0, \"death\": 240147.0, \"deathIncrease\": 1365.0, \"positiveRate\": 0.112, \"state\": \"Non Tri-State\", \"sma7d\": 2247.571}, {\"date\": \"2020-12-14T00:00:00\", \"totalTestResultsIncrease\": 1691161.0, \"positiveIncrease\": 172311.0, \"death\": 241315.0, \"deathIncrease\": 1168.0, \"positiveRate\": 0.102, \"state\": \"Non Tri-State\", \"sma7d\": 2254.286}]}}, {\"mode\": \"vega-lite\"});\n",
       "</script>"
      ],
      "text/plain": [
       "alt.LayerChart(...)"
      ]
     },
     "execution_count": 17,
     "metadata": {},
     "output_type": "execute_result"
    }
   ],
   "source": [
    "create_plot(non_tristate, 'deathIncrease')"
   ]
  }
 ],
 "metadata": {
  "kernelspec": {
   "display_name": "Python 3",
   "language": "python",
   "name": "python3"
  },
  "language_info": {
   "codemirror_mode": {
    "name": "ipython",
    "version": 3
   },
   "file_extension": ".py",
   "mimetype": "text/x-python",
   "name": "python",
   "nbconvert_exporter": "python",
   "pygments_lexer": "ipython3",
   "version": "3.8.6"
  },
  "papermill": {
   "duration": 5.794913,
   "end_time": "2020-12-15T09:27:17.162915",
   "environment_variables": {},
   "exception": null,
   "input_path": "2020-07-19-covid-plots.ipynb",
   "output_path": "2020-07-19-covid-plots.ipynb",
   "parameters": {},
   "start_time": "2020-12-15T09:27:11.368002",
   "version": "2.1.2"
  }
 },
 "nbformat": 4,
 "nbformat_minor": 4
}