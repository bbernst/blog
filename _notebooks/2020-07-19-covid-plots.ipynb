{
 "cells": [
  {
   "cell_type": "markdown",
   "metadata": {
    "papermill": {
     "duration": 0.019308,
     "end_time": "2020-12-30T09:27:46.819227",
     "exception": false,
     "start_time": "2020-12-30T09:27:46.799919",
     "status": "completed"
    },
    "tags": []
   },
   "source": [
    "# \"COVID-19 plots\"\n",
    "> \"Interactive plots with daily updates\"\n",
    "\n",
    "- author: bbernst\n",
    "- toc: true\n",
    "- branch: master\n",
    "- badges: true\n",
    "- comments: true\n",
    "- categories: [healthcare, covid]\n",
    "- image: images/covid_plots/covid_mask.png\n",
    "- hide: false\n",
    "- search_exclude: true"
   ]
  },
  {
   "cell_type": "markdown",
   "metadata": {
    "papermill": {
     "duration": 0.013051,
     "end_time": "2020-12-30T09:27:46.845080",
     "exception": false,
     "start_time": "2020-12-30T09:27:46.832029",
     "status": "completed"
    },
    "tags": []
   },
   "source": [
    "I wanted to make a simple COVID-19 post to accomplish two main goals:\n",
    "1. Easily see the specific plots I'm interested in\n",
    "1. Update these plots every day, automatically\n",
    "\n",
    "Enter [fastpages](https://github.com/fastai/fastpages) and [github actions](https://github.com/features/actions). I'd been meaning to set up a blog with fastpages for a while and thought this would be a good reason to try it out. The documentation was great and I was able to set up automatic updates by using https://covid19dashboards.com/ as a guide.\n",
    "\n",
    "The data for this post comes from https://covidtracking.com/, which updates by 5pm each day, and I have my dashboard update at 6:30pm. For each geography -- so far that's the US, New York, and Non Tri-State -- I look at daily positive cases, positive rate, and deaths. Be sure to hover around on each of the plots, they have helpful interactive tooltips to make reading the data more intuitive."
   ]
  },
  {
   "cell_type": "code",
   "execution_count": 1,
   "metadata": {
    "execution": {
     "iopub.execute_input": "2020-12-30T09:27:46.879519Z",
     "iopub.status.busy": "2020-12-30T09:27:46.878956Z",
     "iopub.status.idle": "2020-12-30T09:27:47.296814Z",
     "shell.execute_reply": "2020-12-30T09:27:47.295532Z"
    },
    "papermill": {
     "duration": 0.439261,
     "end_time": "2020-12-30T09:27:47.297039",
     "exception": false,
     "start_time": "2020-12-30T09:27:46.857778",
     "status": "completed"
    },
    "tags": []
   },
   "outputs": [],
   "source": [
    "#collapse\n",
    "from typing import Callable, Literal\n",
    "import pandas as pd\n",
    "import altair as alt"
   ]
  },
  {
   "cell_type": "code",
   "execution_count": 2,
   "metadata": {
    "execution": {
     "iopub.execute_input": "2020-12-30T09:27:47.326400Z",
     "iopub.status.busy": "2020-12-30T09:27:47.325804Z",
     "iopub.status.idle": "2020-12-30T09:27:47.345028Z",
     "shell.execute_reply": "2020-12-30T09:27:47.344553Z"
    },
    "papermill": {
     "duration": 0.035416,
     "end_time": "2020-12-30T09:27:47.345151",
     "exception": false,
     "start_time": "2020-12-30T09:27:47.309735",
     "status": "completed"
    },
    "tags": []
   },
   "outputs": [
    {
     "name": "stdout",
     "output_type": "stream",
     "text": [
      "Last updated at (ET): 2020-12-30 04:27:47 AM\n"
     ]
    }
   ],
   "source": [
    "#hide_input\n",
    "current_utc = pd.Timestamp.now(tz='America/New_York').strftime('%Y-%m-%d %I:%M:%S %p')\n",
    "print(f\"Last updated at (ET): {current_utc}\")"
   ]
  },
  {
   "cell_type": "markdown",
   "metadata": {
    "papermill": {
     "duration": 0.012944,
     "end_time": "2020-12-30T09:27:47.370683",
     "exception": false,
     "start_time": "2020-12-30T09:27:47.357739",
     "status": "completed"
    },
    "tags": []
   },
   "source": [
    "# Data"
   ]
  },
  {
   "cell_type": "code",
   "execution_count": 3,
   "metadata": {
    "execution": {
     "iopub.execute_input": "2020-12-30T09:27:47.401799Z",
     "iopub.status.busy": "2020-12-30T09:27:47.401260Z",
     "iopub.status.idle": "2020-12-30T09:27:48.510649Z",
     "shell.execute_reply": "2020-12-30T09:27:48.509860Z"
    },
    "papermill": {
     "duration": 1.127413,
     "end_time": "2020-12-30T09:27:48.510868",
     "exception": false,
     "start_time": "2020-12-30T09:27:47.383455",
     "status": "completed"
    },
    "tags": []
   },
   "outputs": [
    {
     "name": "stderr",
     "output_type": "stream",
     "text": [
      "/opt/hostedtoolcache/Python/3.8.6/x64/lib/python3.8/site-packages/IPython/core/interactiveshell.py:3146: DtypeWarning: Columns (15) have mixed types.Specify dtype option on import or set low_memory=False.\n",
      "  has_raised = await self.run_ast_nodes(code_ast.body, cell_name,\n"
     ]
    }
   ],
   "source": [
    "df = pd.read_csv('https://covidtracking.com/api/states/daily.csv')"
   ]
  },
  {
   "cell_type": "markdown",
   "metadata": {
    "papermill": {
     "duration": 0.013634,
     "end_time": "2020-12-30T09:27:48.538847",
     "exception": false,
     "start_time": "2020-12-30T09:27:48.525213",
     "status": "completed"
    },
    "tags": []
   },
   "source": [
    "# Helpers"
   ]
  },
  {
   "cell_type": "code",
   "execution_count": 4,
   "metadata": {
    "execution": {
     "iopub.execute_input": "2020-12-30T09:27:48.575657Z",
     "iopub.status.busy": "2020-12-30T09:27:48.575088Z",
     "iopub.status.idle": "2020-12-30T09:27:48.577547Z",
     "shell.execute_reply": "2020-12-30T09:27:48.577081Z"
    },
    "papermill": {
     "duration": 0.025522,
     "end_time": "2020-12-30T09:27:48.577673",
     "exception": false,
     "start_time": "2020-12-30T09:27:48.552151",
     "status": "completed"
    },
    "tags": []
   },
   "outputs": [],
   "source": [
    "#collapse\n",
    "def create_df(df: pd.DataFrame, \n",
    "              filter_f: Callable, \n",
    "              state_name: str):\n",
    "    out_df = (\n",
    "     df\n",
    "     .assign(date = lambda d: pd.to_datetime(d['date'], format='%Y%m%d'))\n",
    "     .loc[filter_f, :]\n",
    "     .groupby('date')\n",
    "     .apply(lambda d: pd.Series(dict(\n",
    "         totalTestResultsIncrease = d['totalTestResultsIncrease'].sum(),\n",
    "         positiveIncrease = d['positiveIncrease'].sum(),\n",
    "         death = d['death'].sum(),\n",
    "         deathIncrease = d['deathIncrease'].sum()\n",
    "     )))\n",
    "     .reset_index()\n",
    "     .assign(positiveRate = lambda d: round(d['positiveIncrease'] / d['totalTestResultsIncrease'], 3))\n",
    "     .sort_values('date', ascending=True)\n",
    "     .assign(state = state_name)\n",
    "     .reset_index(drop=True)\n",
    "    )\n",
    "    \n",
    "    return out_df"
   ]
  },
  {
   "cell_type": "code",
   "execution_count": 5,
   "metadata": {
    "execution": {
     "iopub.execute_input": "2020-12-30T09:27:48.617688Z",
     "iopub.status.busy": "2020-12-30T09:27:48.611729Z",
     "iopub.status.idle": "2020-12-30T09:27:48.620293Z",
     "shell.execute_reply": "2020-12-30T09:27:48.619822Z"
    },
    "papermill": {
     "duration": 0.02978,
     "end_time": "2020-12-30T09:27:48.620412",
     "exception": false,
     "start_time": "2020-12-30T09:27:48.590632",
     "status": "completed"
    },
    "tags": []
   },
   "outputs": [],
   "source": [
    "#collapse\n",
    "def create_plot(df: pd.DataFrame, \n",
    "                column: Literal['totalTestResultsIncrease', \n",
    "                                'positiveIncrease', \n",
    "                                'death',\n",
    "                                'deathIncrease', \n",
    "                                'positiveRate'],\n",
    "                period: int = 7*8):\n",
    "    df = (\n",
    "     df\n",
    "     .assign(sma7d = lambda d: d[column].rolling(window=7).mean().round(3))\n",
    "     .loc[lambda d: d['date'] >= pd.to_datetime('today') - period * pd.Timedelta('1 days'), :]\n",
    "     .reset_index(drop=True)\n",
    "    )\n",
    "    the_state = df['state'][0]\n",
    "    label = alt.selection_single(\n",
    "        encodings=['x'], on='mouseover', nearest=True, empty='none')\n",
    "    \n",
    "    base = alt.Chart().mark_point(size=75).encode(\n",
    "        x='date:T',\n",
    "        y=f'{column}:Q',\n",
    "        tooltip=['date', f'{column}:Q', 'sma7d:Q']\n",
    "    )\n",
    "\n",
    "    sma = alt.Chart().mark_line(color='purple').encode(\n",
    "        x='date:T',\n",
    "        y='sma7d:Q'\n",
    "    )\n",
    "\n",
    "    layers = alt.layer(\n",
    "        base + sma,\n",
    "\n",
    "        # add a rule mark to serve as a guide line\n",
    "        alt.Chart().mark_rule(color='#aaa').encode(\n",
    "            x='date:T'\n",
    "        ).transform_filter(label),\n",
    "\n",
    "        # add circle marks for selected time points, hide unselected points\n",
    "        base.mark_circle().encode(\n",
    "            opacity=alt.condition(label, alt.value(1), alt.value(0))\n",
    "        ).add_selection(label),\n",
    "\n",
    "        # add white stroked text to provide a legible background for labels\n",
    "        base.mark_text(align='left', dx=5, dy=-5, stroke='white', strokeWidth=2).encode(\n",
    "            text=f'{column}:Q'\n",
    "        ).transform_filter(label),\n",
    "\n",
    "        # add text labels\n",
    "        base.mark_text(align='left', dx=5, dy=-5).encode(\n",
    "            text=f'{column}:Q'\n",
    "        ).transform_filter(label),\n",
    "        \n",
    "        data=df\n",
    "    ).properties(\n",
    "        title=f'{the_state}: {column}',\n",
    "        width=500,\n",
    "        height=400\n",
    "    )\n",
    "    \n",
    "    return layers.interactive()"
   ]
  },
  {
   "cell_type": "markdown",
   "metadata": {
    "papermill": {
     "duration": 0.013456,
     "end_time": "2020-12-30T09:27:48.647245",
     "exception": false,
     "start_time": "2020-12-30T09:27:48.633789",
     "status": "completed"
    },
    "tags": []
   },
   "source": [
    "# Plots"
   ]
  },
  {
   "cell_type": "markdown",
   "metadata": {
    "papermill": {
     "duration": 0.013053,
     "end_time": "2020-12-30T09:27:48.673474",
     "exception": false,
     "start_time": "2020-12-30T09:27:48.660421",
     "status": "completed"
    },
    "tags": []
   },
   "source": [
    "## US"
   ]
  },
  {
   "cell_type": "code",
   "execution_count": 6,
   "metadata": {
    "execution": {
     "iopub.execute_input": "2020-12-30T09:27:48.704048Z",
     "iopub.status.busy": "2020-12-30T09:27:48.703533Z",
     "iopub.status.idle": "2020-12-30T09:27:49.092355Z",
     "shell.execute_reply": "2020-12-30T09:27:49.091844Z"
    },
    "papermill": {
     "duration": 0.405655,
     "end_time": "2020-12-30T09:27:49.092511",
     "exception": false,
     "start_time": "2020-12-30T09:27:48.686856",
     "status": "completed"
    },
    "tags": []
   },
   "outputs": [],
   "source": [
    "us = create_df(df, lambda d: d.index > 0, 'US')"
   ]
  },
  {
   "cell_type": "code",
   "execution_count": 7,
   "metadata": {
    "execution": {
     "iopub.execute_input": "2020-12-30T09:27:49.166247Z",
     "iopub.status.busy": "2020-12-30T09:27:49.134133Z",
     "iopub.status.idle": "2020-12-30T09:27:49.232651Z",
     "shell.execute_reply": "2020-12-30T09:27:49.233092Z"
    },
    "papermill": {
     "duration": 0.122649,
     "end_time": "2020-12-30T09:27:49.233256",
     "exception": false,
     "start_time": "2020-12-30T09:27:49.110607",
     "status": "completed"
    },
    "tags": []
   },
   "outputs": [
    {
     "data": {
      "text/html": [
       "\n",
       "<div id=\"altair-viz-b01afb9e011448e78c5c3ad1c16c58b9\"></div>\n",
       "<script type=\"text/javascript\">\n",
       "  (function(spec, embedOpt){\n",
       "    let outputDiv = document.currentScript.previousElementSibling;\n",
       "    if (outputDiv.id !== \"altair-viz-b01afb9e011448e78c5c3ad1c16c58b9\") {\n",
       "      outputDiv = document.getElementById(\"altair-viz-b01afb9e011448e78c5c3ad1c16c58b9\");\n",
       "    }\n",
       "    const paths = {\n",
       "      \"vega\": \"https://cdn.jsdelivr.net/npm//vega@5?noext\",\n",
       "      \"vega-lib\": \"https://cdn.jsdelivr.net/npm//vega-lib?noext\",\n",
       "      \"vega-lite\": \"https://cdn.jsdelivr.net/npm//vega-lite@4.8.1?noext\",\n",
       "      \"vega-embed\": \"https://cdn.jsdelivr.net/npm//vega-embed@6?noext\",\n",
       "    };\n",
       "\n",
       "    function loadScript(lib) {\n",
       "      return new Promise(function(resolve, reject) {\n",
       "        var s = document.createElement('script');\n",
       "        s.src = paths[lib];\n",
       "        s.async = true;\n",
       "        s.onload = () => resolve(paths[lib]);\n",
       "        s.onerror = () => reject(`Error loading script: ${paths[lib]}`);\n",
       "        document.getElementsByTagName(\"head\")[0].appendChild(s);\n",
       "      });\n",
       "    }\n",
       "\n",
       "    function showError(err) {\n",
       "      outputDiv.innerHTML = `<div class=\"error\" style=\"color:red;\">${err}</div>`;\n",
       "      throw err;\n",
       "    }\n",
       "\n",
       "    function displayChart(vegaEmbed) {\n",
       "      vegaEmbed(outputDiv, spec, embedOpt)\n",
       "        .catch(err => showError(`Javascript Error: ${err.message}<br>This usually means there's a typo in your chart specification. See the javascript console for the full traceback.`));\n",
       "    }\n",
       "\n",
       "    if(typeof define === \"function\" && define.amd) {\n",
       "      requirejs.config({paths});\n",
       "      require([\"vega-embed\"], displayChart, err => showError(`Error loading script: ${err.message}`));\n",
       "    } else if (typeof vegaEmbed === \"function\") {\n",
       "      displayChart(vegaEmbed);\n",
       "    } else {\n",
       "      loadScript(\"vega\")\n",
       "        .then(() => loadScript(\"vega-lite\"))\n",
       "        .then(() => loadScript(\"vega-embed\"))\n",
       "        .catch(showError)\n",
       "        .then(() => displayChart(vegaEmbed));\n",
       "    }\n",
       "  })({\"config\": {\"view\": {\"continuousWidth\": 400, \"continuousHeight\": 300}}, \"layer\": [{\"layer\": [{\"mark\": {\"type\": \"point\", \"size\": 75}, \"encoding\": {\"tooltip\": [{\"type\": \"temporal\", \"field\": \"date\"}, {\"type\": \"quantitative\", \"field\": \"positiveIncrease\"}, {\"type\": \"quantitative\", \"field\": \"sma7d\"}], \"x\": {\"type\": \"temporal\", \"field\": \"date\"}, \"y\": {\"type\": \"quantitative\", \"field\": \"positiveIncrease\"}}, \"selection\": {\"selector002\": {\"type\": \"interval\", \"bind\": \"scales\", \"encodings\": [\"x\", \"y\"]}}}, {\"mark\": {\"type\": \"line\", \"color\": \"purple\"}, \"encoding\": {\"x\": {\"type\": \"temporal\", \"field\": \"date\"}, \"y\": {\"type\": \"quantitative\", \"field\": \"sma7d\"}}}]}, {\"mark\": {\"type\": \"rule\", \"color\": \"#aaa\"}, \"encoding\": {\"x\": {\"type\": \"temporal\", \"field\": \"date\"}}, \"transform\": [{\"filter\": {\"selection\": \"selector001\"}}]}, {\"mark\": \"circle\", \"encoding\": {\"opacity\": {\"condition\": {\"value\": 1, \"selection\": \"selector001\"}, \"value\": 0}, \"tooltip\": [{\"type\": \"temporal\", \"field\": \"date\"}, {\"type\": \"quantitative\", \"field\": \"positiveIncrease\"}, {\"type\": \"quantitative\", \"field\": \"sma7d\"}], \"x\": {\"type\": \"temporal\", \"field\": \"date\"}, \"y\": {\"type\": \"quantitative\", \"field\": \"positiveIncrease\"}}, \"selection\": {\"selector001\": {\"type\": \"single\", \"encodings\": [\"x\"], \"on\": \"mouseover\", \"nearest\": true, \"empty\": \"none\"}}}, {\"mark\": {\"type\": \"text\", \"align\": \"left\", \"dx\": 5, \"dy\": -5, \"stroke\": \"white\", \"strokeWidth\": 2}, \"encoding\": {\"text\": {\"type\": \"quantitative\", \"field\": \"positiveIncrease\"}, \"tooltip\": [{\"type\": \"temporal\", \"field\": \"date\"}, {\"type\": \"quantitative\", \"field\": \"positiveIncrease\"}, {\"type\": \"quantitative\", \"field\": \"sma7d\"}], \"x\": {\"type\": \"temporal\", \"field\": \"date\"}, \"y\": {\"type\": \"quantitative\", \"field\": \"positiveIncrease\"}}, \"transform\": [{\"filter\": {\"selection\": \"selector001\"}}]}, {\"mark\": {\"type\": \"text\", \"align\": \"left\", \"dx\": 5, \"dy\": -5}, \"encoding\": {\"text\": {\"type\": \"quantitative\", \"field\": \"positiveIncrease\"}, \"tooltip\": [{\"type\": \"temporal\", \"field\": \"date\"}, {\"type\": \"quantitative\", \"field\": \"positiveIncrease\"}, {\"type\": \"quantitative\", \"field\": \"sma7d\"}], \"x\": {\"type\": \"temporal\", \"field\": \"date\"}, \"y\": {\"type\": \"quantitative\", \"field\": \"positiveIncrease\"}}, \"transform\": [{\"filter\": {\"selection\": \"selector001\"}}]}], \"data\": {\"name\": \"data-885daeb32448d14010101a39fadfe96b\"}, \"height\": 400, \"title\": \"US: positiveIncrease\", \"width\": 500, \"$schema\": \"https://vega.github.io/schema/vega-lite/v4.8.1.json\", \"datasets\": {\"data-885daeb32448d14010101a39fadfe96b\": [{\"date\": \"2020-11-05T00:00:00\", \"totalTestResultsIncrease\": 1610709.0, \"positiveIncrease\": 118182.0, \"death\": 227317.0, \"deathIncrease\": 1155.0, \"positiveRate\": 0.073, \"state\": \"US\", \"sma7d\": 103597.0}, {\"date\": \"2020-11-06T00:00:00\", \"totalTestResultsIncrease\": 1618707.0, \"positiveIncrease\": 128294.0, \"death\": 228503.0, \"deathIncrease\": 1186.0, \"positiveRate\": 0.079, \"state\": \"US\", \"sma7d\": 107988.857}, {\"date\": \"2020-11-07T00:00:00\", \"totalTestResultsIncrease\": 1448039.0, \"positiveIncrease\": 131249.0, \"death\": 229635.0, \"deathIncrease\": 1132.0, \"positiveRate\": 0.091, \"state\": \"US\", \"sma7d\": 113761.286}, {\"date\": \"2020-11-08T00:00:00\", \"totalTestResultsIncrease\": 1218767.0, \"positiveIncrease\": 111660.0, \"death\": 230136.0, \"deathIncrease\": 501.0, \"positiveRate\": 0.092, \"state\": \"US\", \"sma7d\": 109489.0}, {\"date\": \"2020-11-09T00:00:00\", \"totalTestResultsIncrease\": 1446284.0, \"positiveIncrease\": 117585.0, \"death\": 230716.0, \"deathIncrease\": 580.0, \"positiveRate\": 0.081, \"state\": \"US\", \"sma7d\": 114420.0}, {\"date\": \"2020-11-10T00:00:00\", \"totalTestResultsIncrease\": 1343625.0, \"positiveIncrease\": 132512.0, \"death\": 232073.0, \"deathIncrease\": 1357.0, \"positiveRate\": 0.099, \"state\": \"US\", \"sma7d\": 120583.429}, {\"date\": \"2020-11-11T00:00:00\", \"totalTestResultsIncrease\": 1462126.0, \"positiveIncrease\": 148170.0, \"death\": 233652.0, \"deathIncrease\": 1579.0, \"positiveRate\": 0.101, \"state\": \"US\", \"sma7d\": 126807.429}, {\"date\": \"2020-11-12T00:00:00\", \"totalTestResultsIncrease\": 1568631.0, \"positiveIncrease\": 156559.0, \"death\": 234763.0, \"deathIncrease\": 1111.0, \"positiveRate\": 0.1, \"state\": \"US\", \"sma7d\": 132289.857}, {\"date\": \"2020-11-13T00:00:00\", \"totalTestResultsIncrease\": 1704860.0, \"positiveIncrease\": 173277.0, \"death\": 236067.0, \"deathIncrease\": 1304.0, \"positiveRate\": 0.102, \"state\": \"US\", \"sma7d\": 138716.0}, {\"date\": \"2020-11-14T00:00:00\", \"totalTestResultsIncrease\": 1703864.0, \"positiveIncrease\": 166589.0, \"death\": 237419.0, \"deathIncrease\": 1352.0, \"positiveRate\": 0.098, \"state\": \"US\", \"sma7d\": 143764.571}, {\"date\": \"2020-11-15T00:00:00\", \"totalTestResultsIncrease\": 1552084.0, \"positiveIncrease\": 146207.0, \"death\": 238127.0, \"deathIncrease\": 708.0, \"positiveRate\": 0.094, \"state\": \"US\", \"sma7d\": 148699.857}, {\"date\": \"2020-11-16T00:00:00\", \"totalTestResultsIncrease\": 1529433.0, \"positiveIncrease\": 149100.0, \"death\": 238736.0, \"deathIncrease\": 609.0, \"positiveRate\": 0.097, \"state\": \"US\", \"sma7d\": 153202.0}, {\"date\": \"2020-11-17T00:00:00\", \"totalTestResultsIncrease\": 1602654.0, \"positiveIncrease\": 158476.0, \"death\": 240298.0, \"deathIncrease\": 1562.0, \"positiveRate\": 0.099, \"state\": \"US\", \"sma7d\": 156911.143}, {\"date\": \"2020-11-18T00:00:00\", \"totalTestResultsIncrease\": 1617925.0, \"positiveIncrease\": 167032.0, \"death\": 242180.0, \"deathIncrease\": 1882.0, \"positiveRate\": 0.103, \"state\": \"US\", \"sma7d\": 159605.714}, {\"date\": \"2020-11-19T00:00:00\", \"totalTestResultsIncrease\": 1848010.0, \"positiveIncrease\": 186585.0, \"death\": 244200.0, \"deathIncrease\": 2020.0, \"positiveRate\": 0.101, \"state\": \"US\", \"sma7d\": 163895.143}, {\"date\": \"2020-11-20T00:00:00\", \"totalTestResultsIncrease\": 1945548.0, \"positiveIncrease\": 195893.0, \"death\": 246094.0, \"deathIncrease\": 1894.0, \"positiveRate\": 0.101, \"state\": \"US\", \"sma7d\": 167126.0}, {\"date\": \"2020-11-21T00:00:00\", \"totalTestResultsIncrease\": 2046579.0, \"positiveIncrease\": 182809.0, \"death\": 247648.0, \"deathIncrease\": 1554.0, \"positiveRate\": 0.089, \"state\": \"US\", \"sma7d\": 169443.143}, {\"date\": \"2020-11-22T00:00:00\", \"totalTestResultsIncrease\": 1752045.0, \"positiveIncrease\": 153372.0, \"death\": 248565.0, \"deathIncrease\": 917.0, \"positiveRate\": 0.088, \"state\": \"US\", \"sma7d\": 170466.714}, {\"date\": \"2020-11-23T00:00:00\", \"totalTestResultsIncrease\": 1693472.0, \"positiveIncrease\": 153783.0, \"death\": 249423.0, \"deathIncrease\": 858.0, \"positiveRate\": 0.091, \"state\": \"US\", \"sma7d\": 171135.714}, {\"date\": \"2020-11-24T00:00:00\", \"totalTestResultsIncrease\": 1882133.0, \"positiveIncrease\": 164392.0, \"death\": 251529.0, \"deathIncrease\": 2106.0, \"positiveRate\": 0.087, \"state\": \"US\", \"sma7d\": 171980.857}, {\"date\": \"2020-11-25T00:00:00\", \"totalTestResultsIncrease\": 1824146.0, \"positiveIncrease\": 187134.0, \"death\": 253809.0, \"deathIncrease\": 2280.0, \"positiveRate\": 0.103, \"state\": \"US\", \"sma7d\": 174852.571}, {\"date\": \"2020-11-26T00:00:00\", \"totalTestResultsIncrease\": 1266651.0, \"positiveIncrease\": 128709.0, \"death\": 255196.0, \"deathIncrease\": 1387.0, \"positiveRate\": 0.102, \"state\": \"US\", \"sma7d\": 166584.571}, {\"date\": \"2020-11-27T00:00:00\", \"totalTestResultsIncrease\": 2031747.0, \"positiveIncrease\": 197180.0, \"death\": 256588.0, \"deathIncrease\": 1392.0, \"positiveRate\": 0.097, \"state\": \"US\", \"sma7d\": 166768.429}, {\"date\": \"2020-11-28T00:00:00\", \"totalTestResultsIncrease\": 1673009.0, \"positiveIncrease\": 151184.0, \"death\": 257839.0, \"deathIncrease\": 1251.0, \"positiveRate\": 0.09, \"state\": \"US\", \"sma7d\": 162250.571}, {\"date\": \"2020-11-29T00:00:00\", \"totalTestResultsIncrease\": 1284674.0, \"positiveIncrease\": 136247.0, \"death\": 258662.0, \"deathIncrease\": 823.0, \"positiveRate\": 0.106, \"state\": \"US\", \"sma7d\": 159804.143}, {\"date\": \"2020-11-30T00:00:00\", \"totalTestResultsIncrease\": 1606383.0, \"positiveIncrease\": 148588.0, \"death\": 259697.0, \"deathIncrease\": 1035.0, \"positiveRate\": 0.092, \"state\": \"US\", \"sma7d\": 159062.0}, {\"date\": \"2020-12-01T00:00:00\", \"totalTestResultsIncrease\": 1471199.0, \"positiveIncrease\": 178212.0, \"death\": 262203.0, \"deathIncrease\": 2506.0, \"positiveRate\": 0.121, \"state\": \"US\", \"sma7d\": 161036.286}, {\"date\": \"2020-12-02T00:00:00\", \"totalTestResultsIncrease\": 1555967.0, \"positiveIncrease\": 201170.0, \"death\": 265007.0, \"deathIncrease\": 2804.0, \"positiveRate\": 0.129, \"state\": \"US\", \"sma7d\": 163041.429}, {\"date\": \"2020-12-03T00:00:00\", \"totalTestResultsIncrease\": 1893556.0, \"positiveIncrease\": 213639.0, \"death\": 267832.0, \"deathIncrease\": 2825.0, \"positiveRate\": 0.113, \"state\": \"US\", \"sma7d\": 175174.286}, {\"date\": \"2020-12-04T00:00:00\", \"totalTestResultsIncrease\": 1900538.0, \"positiveIncrease\": 229192.0, \"death\": 270405.0, \"deathIncrease\": 2573.0, \"positiveRate\": 0.121, \"state\": \"US\", \"sma7d\": 179747.429}, {\"date\": \"2020-12-05T00:00:00\", \"totalTestResultsIncrease\": 2209525.0, \"positiveIncrease\": 216678.0, \"death\": 272885.0, \"deathIncrease\": 2480.0, \"positiveRate\": 0.098, \"state\": \"US\", \"sma7d\": 189103.714}, {\"date\": \"2020-12-06T00:00:00\", \"totalTestResultsIncrease\": 1600291.0, \"positiveIncrease\": 181196.0, \"death\": 274030.0, \"deathIncrease\": 1145.0, \"positiveRate\": 0.113, \"state\": \"US\", \"sma7d\": 195525.0}, {\"date\": \"2020-12-07T00:00:00\", \"totalTestResultsIncrease\": 1718351.0, \"positiveIncrease\": 180938.0, \"death\": 275327.0, \"deathIncrease\": 1297.0, \"positiveRate\": 0.105, \"state\": \"US\", \"sma7d\": 200146.429}, {\"date\": \"2020-12-08T00:00:00\", \"totalTestResultsIncrease\": 1672476.0, \"positiveIncrease\": 215112.0, \"death\": 278030.0, \"deathIncrease\": 2703.0, \"positiveRate\": 0.129, \"state\": \"US\", \"sma7d\": 205417.857}, {\"date\": \"2020-12-09T00:00:00\", \"totalTestResultsIncrease\": 1810886.0, \"positiveIncrease\": 214183.0, \"death\": 281194.0, \"deathIncrease\": 3164.0, \"positiveRate\": 0.118, \"state\": \"US\", \"sma7d\": 207276.857}, {\"date\": \"2020-12-10T00:00:00\", \"totalTestResultsIncrease\": 1890064.0, \"positiveIncrease\": 218951.0, \"death\": 284309.0, \"deathIncrease\": 3115.0, \"positiveRate\": 0.116, \"state\": \"US\", \"sma7d\": 208035.714}, {\"date\": \"2020-12-11T00:00:00\", \"totalTestResultsIncrease\": 1990255.0, \"positiveIncrease\": 234817.0, \"death\": 287058.0, \"deathIncrease\": 2749.0, \"positiveRate\": 0.118, \"state\": \"US\", \"sma7d\": 208839.286}, {\"date\": \"2020-12-12T00:00:00\", \"totalTestResultsIncrease\": 1810768.0, \"positiveIncrease\": 224476.0, \"death\": 289552.0, \"deathIncrease\": 2494.0, \"positiveRate\": 0.124, \"state\": \"US\", \"sma7d\": 209953.286}, {\"date\": \"2020-12-13T00:00:00\", \"totalTestResultsIncrease\": 1762480.0, \"positiveIncrease\": 185801.0, \"death\": 291046.0, \"deathIncrease\": 1494.0, \"positiveRate\": 0.105, \"state\": \"US\", \"sma7d\": 210611.143}, {\"date\": \"2020-12-14T00:00:00\", \"totalTestResultsIncrease\": 2159460.0, \"positiveIncrease\": 192466.0, \"death\": 292404.0, \"deathIncrease\": 1358.0, \"positiveRate\": 0.089, \"state\": \"US\", \"sma7d\": 212258.0}, {\"date\": \"2020-12-15T00:00:00\", \"totalTestResultsIncrease\": 1781610.0, \"positiveIncrease\": 189783.0, \"death\": 295375.0, \"deathIncrease\": 2971.0, \"positiveRate\": 0.107, \"state\": \"US\", \"sma7d\": 208639.571}, {\"date\": \"2020-12-16T00:00:00\", \"totalTestResultsIncrease\": 1791968.0, \"positiveIncrease\": 231653.0, \"death\": 298823.0, \"deathIncrease\": 3448.0, \"positiveRate\": 0.129, \"state\": \"US\", \"sma7d\": 211135.286}, {\"date\": \"2020-12-17T00:00:00\", \"totalTestResultsIncrease\": 1873340.0, \"positiveIncrease\": 240156.0, \"death\": 302261.0, \"deathIncrease\": 3438.0, \"positiveRate\": 0.128, \"state\": \"US\", \"sma7d\": 214164.571}, {\"date\": \"2020-12-18T00:00:00\", \"totalTestResultsIncrease\": 2197685.0, \"positiveIncrease\": 239246.0, \"death\": 305127.0, \"deathIncrease\": 2866.0, \"positiveRate\": 0.109, \"state\": \"US\", \"sma7d\": 214797.286}, {\"date\": \"2020-12-19T00:00:00\", \"totalTestResultsIncrease\": 1739586.0, \"positiveIncrease\": 202812.0, \"death\": 307850.0, \"deathIncrease\": 2723.0, \"positiveRate\": 0.117, \"state\": \"US\", \"sma7d\": 211702.429}, {\"date\": \"2020-12-20T00:00:00\", \"totalTestResultsIncrease\": 1782180.0, \"positiveIncrease\": 196017.0, \"death\": 309483.0, \"deathIncrease\": 1633.0, \"positiveRate\": 0.11, \"state\": \"US\", \"sma7d\": 213161.857}, {\"date\": \"2020-12-21T00:00:00\", \"totalTestResultsIncrease\": 2076374.0, \"positiveIncrease\": 178191.0, \"death\": 310968.0, \"deathIncrease\": 1485.0, \"positiveRate\": 0.086, \"state\": \"US\", \"sma7d\": 211122.571}, {\"date\": \"2020-12-22T00:00:00\", \"totalTestResultsIncrease\": 1707778.0, \"positiveIncrease\": 189932.0, \"death\": 314134.0, \"deathIncrease\": 3166.0, \"positiveRate\": 0.111, \"state\": \"US\", \"sma7d\": 211143.857}, {\"date\": \"2020-12-23T00:00:00\", \"totalTestResultsIncrease\": 1749021.0, \"positiveIncrease\": 220834.0, \"death\": 317513.0, \"deathIncrease\": 3379.0, \"positiveRate\": 0.126, \"state\": \"US\", \"sma7d\": 209598.286}, {\"date\": \"2020-12-24T00:00:00\", \"totalTestResultsIncrease\": 1928480.0, \"positiveIncrease\": 203625.0, \"death\": 320462.0, \"deathIncrease\": 2949.0, \"positiveRate\": 0.106, \"state\": \"US\", \"sma7d\": 204379.571}, {\"date\": \"2020-12-25T00:00:00\", \"totalTestResultsIncrease\": 1290774.0, \"positiveIncrease\": 125368.0, \"death\": 322010.0, \"deathIncrease\": 1548.0, \"positiveRate\": 0.097, \"state\": \"US\", \"sma7d\": 188111.286}, {\"date\": \"2020-12-26T00:00:00\", \"totalTestResultsIncrease\": 2137261.0, \"positiveIncrease\": 189494.0, \"death\": 323429.0, \"deathIncrease\": 1419.0, \"positiveRate\": 0.089, \"state\": \"US\", \"sma7d\": 186208.714}, {\"date\": \"2020-12-27T00:00:00\", \"totalTestResultsIncrease\": 1383493.0, \"positiveIncrease\": 153194.0, \"death\": 324831.0, \"deathIncrease\": 1402.0, \"positiveRate\": 0.111, \"state\": \"US\", \"sma7d\": 180091.143}, {\"date\": \"2020-12-28T00:00:00\", \"totalTestResultsIncrease\": 1540320.0, \"positiveIncrease\": 162190.0, \"death\": 326322.0, \"deathIncrease\": 1491.0, \"positiveRate\": 0.105, \"state\": \"US\", \"sma7d\": 177805.286}, {\"date\": \"2020-12-29T00:00:00\", \"totalTestResultsIncrease\": 1231023.0, \"positiveIncrease\": 194337.0, \"death\": 329404.0, \"deathIncrease\": 3282.0, \"positiveRate\": 0.158, \"state\": \"US\", \"sma7d\": 178434.571}]}}, {\"mode\": \"vega-lite\"});\n",
       "</script>"
      ],
      "text/plain": [
       "alt.LayerChart(...)"
      ]
     },
     "execution_count": 7,
     "metadata": {},
     "output_type": "execute_result"
    }
   ],
   "source": [
    "create_plot(us, 'positiveIncrease')"
   ]
  },
  {
   "cell_type": "code",
   "execution_count": 8,
   "metadata": {
    "execution": {
     "iopub.execute_input": "2020-12-30T09:27:49.267051Z",
     "iopub.status.busy": "2020-12-30T09:27:49.266465Z",
     "iopub.status.idle": "2020-12-30T09:27:49.356222Z",
     "shell.execute_reply": "2020-12-30T09:27:49.355731Z"
    },
    "papermill": {
     "duration": 0.107984,
     "end_time": "2020-12-30T09:27:49.356349",
     "exception": false,
     "start_time": "2020-12-30T09:27:49.248365",
     "status": "completed"
    },
    "tags": []
   },
   "outputs": [
    {
     "data": {
      "text/html": [
       "\n",
       "<div id=\"altair-viz-7f5c937ab0fa4b75ac31320e203d7ae1\"></div>\n",
       "<script type=\"text/javascript\">\n",
       "  (function(spec, embedOpt){\n",
       "    let outputDiv = document.currentScript.previousElementSibling;\n",
       "    if (outputDiv.id !== \"altair-viz-7f5c937ab0fa4b75ac31320e203d7ae1\") {\n",
       "      outputDiv = document.getElementById(\"altair-viz-7f5c937ab0fa4b75ac31320e203d7ae1\");\n",
       "    }\n",
       "    const paths = {\n",
       "      \"vega\": \"https://cdn.jsdelivr.net/npm//vega@5?noext\",\n",
       "      \"vega-lib\": \"https://cdn.jsdelivr.net/npm//vega-lib?noext\",\n",
       "      \"vega-lite\": \"https://cdn.jsdelivr.net/npm//vega-lite@4.8.1?noext\",\n",
       "      \"vega-embed\": \"https://cdn.jsdelivr.net/npm//vega-embed@6?noext\",\n",
       "    };\n",
       "\n",
       "    function loadScript(lib) {\n",
       "      return new Promise(function(resolve, reject) {\n",
       "        var s = document.createElement('script');\n",
       "        s.src = paths[lib];\n",
       "        s.async = true;\n",
       "        s.onload = () => resolve(paths[lib]);\n",
       "        s.onerror = () => reject(`Error loading script: ${paths[lib]}`);\n",
       "        document.getElementsByTagName(\"head\")[0].appendChild(s);\n",
       "      });\n",
       "    }\n",
       "\n",
       "    function showError(err) {\n",
       "      outputDiv.innerHTML = `<div class=\"error\" style=\"color:red;\">${err}</div>`;\n",
       "      throw err;\n",
       "    }\n",
       "\n",
       "    function displayChart(vegaEmbed) {\n",
       "      vegaEmbed(outputDiv, spec, embedOpt)\n",
       "        .catch(err => showError(`Javascript Error: ${err.message}<br>This usually means there's a typo in your chart specification. See the javascript console for the full traceback.`));\n",
       "    }\n",
       "\n",
       "    if(typeof define === \"function\" && define.amd) {\n",
       "      requirejs.config({paths});\n",
       "      require([\"vega-embed\"], displayChart, err => showError(`Error loading script: ${err.message}`));\n",
       "    } else if (typeof vegaEmbed === \"function\") {\n",
       "      displayChart(vegaEmbed);\n",
       "    } else {\n",
       "      loadScript(\"vega\")\n",
       "        .then(() => loadScript(\"vega-lite\"))\n",
       "        .then(() => loadScript(\"vega-embed\"))\n",
       "        .catch(showError)\n",
       "        .then(() => displayChart(vegaEmbed));\n",
       "    }\n",
       "  })({\"config\": {\"view\": {\"continuousWidth\": 400, \"continuousHeight\": 300}}, \"layer\": [{\"layer\": [{\"mark\": {\"type\": \"point\", \"size\": 75}, \"encoding\": {\"tooltip\": [{\"type\": \"temporal\", \"field\": \"date\"}, {\"type\": \"quantitative\", \"field\": \"positiveRate\"}, {\"type\": \"quantitative\", \"field\": \"sma7d\"}], \"x\": {\"type\": \"temporal\", \"field\": \"date\"}, \"y\": {\"type\": \"quantitative\", \"field\": \"positiveRate\"}}, \"selection\": {\"selector004\": {\"type\": \"interval\", \"bind\": \"scales\", \"encodings\": [\"x\", \"y\"]}}}, {\"mark\": {\"type\": \"line\", \"color\": \"purple\"}, \"encoding\": {\"x\": {\"type\": \"temporal\", \"field\": \"date\"}, \"y\": {\"type\": \"quantitative\", \"field\": \"sma7d\"}}}]}, {\"mark\": {\"type\": \"rule\", \"color\": \"#aaa\"}, \"encoding\": {\"x\": {\"type\": \"temporal\", \"field\": \"date\"}}, \"transform\": [{\"filter\": {\"selection\": \"selector003\"}}]}, {\"mark\": \"circle\", \"encoding\": {\"opacity\": {\"condition\": {\"value\": 1, \"selection\": \"selector003\"}, \"value\": 0}, \"tooltip\": [{\"type\": \"temporal\", \"field\": \"date\"}, {\"type\": \"quantitative\", \"field\": \"positiveRate\"}, {\"type\": \"quantitative\", \"field\": \"sma7d\"}], \"x\": {\"type\": \"temporal\", \"field\": \"date\"}, \"y\": {\"type\": \"quantitative\", \"field\": \"positiveRate\"}}, \"selection\": {\"selector003\": {\"type\": \"single\", \"encodings\": [\"x\"], \"on\": \"mouseover\", \"nearest\": true, \"empty\": \"none\"}}}, {\"mark\": {\"type\": \"text\", \"align\": \"left\", \"dx\": 5, \"dy\": -5, \"stroke\": \"white\", \"strokeWidth\": 2}, \"encoding\": {\"text\": {\"type\": \"quantitative\", \"field\": \"positiveRate\"}, \"tooltip\": [{\"type\": \"temporal\", \"field\": \"date\"}, {\"type\": \"quantitative\", \"field\": \"positiveRate\"}, {\"type\": \"quantitative\", \"field\": \"sma7d\"}], \"x\": {\"type\": \"temporal\", \"field\": \"date\"}, \"y\": {\"type\": \"quantitative\", \"field\": \"positiveRate\"}}, \"transform\": [{\"filter\": {\"selection\": \"selector003\"}}]}, {\"mark\": {\"type\": \"text\", \"align\": \"left\", \"dx\": 5, \"dy\": -5}, \"encoding\": {\"text\": {\"type\": \"quantitative\", \"field\": \"positiveRate\"}, \"tooltip\": [{\"type\": \"temporal\", \"field\": \"date\"}, {\"type\": \"quantitative\", \"field\": \"positiveRate\"}, {\"type\": \"quantitative\", \"field\": \"sma7d\"}], \"x\": {\"type\": \"temporal\", \"field\": \"date\"}, \"y\": {\"type\": \"quantitative\", \"field\": \"positiveRate\"}}, \"transform\": [{\"filter\": {\"selection\": \"selector003\"}}]}], \"data\": {\"name\": \"data-315c905ab30f1562611be208a696d31f\"}, \"height\": 400, \"title\": \"US: positiveRate\", \"width\": 500, \"$schema\": \"https://vega.github.io/schema/vega-lite/v4.8.1.json\", \"datasets\": {\"data-315c905ab30f1562611be208a696d31f\": [{\"date\": \"2020-11-05T00:00:00\", \"totalTestResultsIncrease\": 1610709.0, \"positiveIncrease\": 118182.0, \"death\": 227317.0, \"deathIncrease\": 1155.0, \"positiveRate\": 0.073, \"state\": \"US\", \"sma7d\": 0.079}, {\"date\": \"2020-11-06T00:00:00\", \"totalTestResultsIncrease\": 1618707.0, \"positiveIncrease\": 128294.0, \"death\": 228503.0, \"deathIncrease\": 1186.0, \"positiveRate\": 0.079, \"state\": \"US\", \"sma7d\": 0.08}, {\"date\": \"2020-11-07T00:00:00\", \"totalTestResultsIncrease\": 1448039.0, \"positiveIncrease\": 131249.0, \"death\": 229635.0, \"deathIncrease\": 1132.0, \"positiveRate\": 0.091, \"state\": \"US\", \"sma7d\": 0.084}, {\"date\": \"2020-11-08T00:00:00\", \"totalTestResultsIncrease\": 1218767.0, \"positiveIncrease\": 111660.0, \"death\": 230136.0, \"deathIncrease\": 501.0, \"positiveRate\": 0.092, \"state\": \"US\", \"sma7d\": 0.079}, {\"date\": \"2020-11-09T00:00:00\", \"totalTestResultsIncrease\": 1446284.0, \"positiveIncrease\": 117585.0, \"death\": 230716.0, \"deathIncrease\": 580.0, \"positiveRate\": 0.081, \"state\": \"US\", \"sma7d\": 0.082}, {\"date\": \"2020-11-10T00:00:00\", \"totalTestResultsIncrease\": 1343625.0, \"positiveIncrease\": 132512.0, \"death\": 232073.0, \"deathIncrease\": 1357.0, \"positiveRate\": 0.099, \"state\": \"US\", \"sma7d\": 0.085}, {\"date\": \"2020-11-11T00:00:00\", \"totalTestResultsIncrease\": 1462126.0, \"positiveIncrease\": 148170.0, \"death\": 233652.0, \"deathIncrease\": 1579.0, \"positiveRate\": 0.101, \"state\": \"US\", \"sma7d\": 0.088}, {\"date\": \"2020-11-12T00:00:00\", \"totalTestResultsIncrease\": 1568631.0, \"positiveIncrease\": 156559.0, \"death\": 234763.0, \"deathIncrease\": 1111.0, \"positiveRate\": 0.1, \"state\": \"US\", \"sma7d\": 0.092}, {\"date\": \"2020-11-13T00:00:00\", \"totalTestResultsIncrease\": 1704860.0, \"positiveIncrease\": 173277.0, \"death\": 236067.0, \"deathIncrease\": 1304.0, \"positiveRate\": 0.102, \"state\": \"US\", \"sma7d\": 0.095}, {\"date\": \"2020-11-14T00:00:00\", \"totalTestResultsIncrease\": 1703864.0, \"positiveIncrease\": 166589.0, \"death\": 237419.0, \"deathIncrease\": 1352.0, \"positiveRate\": 0.098, \"state\": \"US\", \"sma7d\": 0.096}, {\"date\": \"2020-11-15T00:00:00\", \"totalTestResultsIncrease\": 1552084.0, \"positiveIncrease\": 146207.0, \"death\": 238127.0, \"deathIncrease\": 708.0, \"positiveRate\": 0.094, \"state\": \"US\", \"sma7d\": 0.096}, {\"date\": \"2020-11-16T00:00:00\", \"totalTestResultsIncrease\": 1529433.0, \"positiveIncrease\": 149100.0, \"death\": 238736.0, \"deathIncrease\": 609.0, \"positiveRate\": 0.097, \"state\": \"US\", \"sma7d\": 0.099}, {\"date\": \"2020-11-17T00:00:00\", \"totalTestResultsIncrease\": 1602654.0, \"positiveIncrease\": 158476.0, \"death\": 240298.0, \"deathIncrease\": 1562.0, \"positiveRate\": 0.099, \"state\": \"US\", \"sma7d\": 0.099}, {\"date\": \"2020-11-18T00:00:00\", \"totalTestResultsIncrease\": 1617925.0, \"positiveIncrease\": 167032.0, \"death\": 242180.0, \"deathIncrease\": 1882.0, \"positiveRate\": 0.103, \"state\": \"US\", \"sma7d\": 0.099}, {\"date\": \"2020-11-19T00:00:00\", \"totalTestResultsIncrease\": 1848010.0, \"positiveIncrease\": 186585.0, \"death\": 244200.0, \"deathIncrease\": 2020.0, \"positiveRate\": 0.101, \"state\": \"US\", \"sma7d\": 0.099}, {\"date\": \"2020-11-20T00:00:00\", \"totalTestResultsIncrease\": 1945548.0, \"positiveIncrease\": 195893.0, \"death\": 246094.0, \"deathIncrease\": 1894.0, \"positiveRate\": 0.101, \"state\": \"US\", \"sma7d\": 0.099}, {\"date\": \"2020-11-21T00:00:00\", \"totalTestResultsIncrease\": 2046579.0, \"positiveIncrease\": 182809.0, \"death\": 247648.0, \"deathIncrease\": 1554.0, \"positiveRate\": 0.089, \"state\": \"US\", \"sma7d\": 0.098}, {\"date\": \"2020-11-22T00:00:00\", \"totalTestResultsIncrease\": 1752045.0, \"positiveIncrease\": 153372.0, \"death\": 248565.0, \"deathIncrease\": 917.0, \"positiveRate\": 0.088, \"state\": \"US\", \"sma7d\": 0.097}, {\"date\": \"2020-11-23T00:00:00\", \"totalTestResultsIncrease\": 1693472.0, \"positiveIncrease\": 153783.0, \"death\": 249423.0, \"deathIncrease\": 858.0, \"positiveRate\": 0.091, \"state\": \"US\", \"sma7d\": 0.096}, {\"date\": \"2020-11-24T00:00:00\", \"totalTestResultsIncrease\": 1882133.0, \"positiveIncrease\": 164392.0, \"death\": 251529.0, \"deathIncrease\": 2106.0, \"positiveRate\": 0.087, \"state\": \"US\", \"sma7d\": 0.094}, {\"date\": \"2020-11-25T00:00:00\", \"totalTestResultsIncrease\": 1824146.0, \"positiveIncrease\": 187134.0, \"death\": 253809.0, \"deathIncrease\": 2280.0, \"positiveRate\": 0.103, \"state\": \"US\", \"sma7d\": 0.094}, {\"date\": \"2020-11-26T00:00:00\", \"totalTestResultsIncrease\": 1266651.0, \"positiveIncrease\": 128709.0, \"death\": 255196.0, \"deathIncrease\": 1387.0, \"positiveRate\": 0.102, \"state\": \"US\", \"sma7d\": 0.094}, {\"date\": \"2020-11-27T00:00:00\", \"totalTestResultsIncrease\": 2031747.0, \"positiveIncrease\": 197180.0, \"death\": 256588.0, \"deathIncrease\": 1392.0, \"positiveRate\": 0.097, \"state\": \"US\", \"sma7d\": 0.094}, {\"date\": \"2020-11-28T00:00:00\", \"totalTestResultsIncrease\": 1673009.0, \"positiveIncrease\": 151184.0, \"death\": 257839.0, \"deathIncrease\": 1251.0, \"positiveRate\": 0.09, \"state\": \"US\", \"sma7d\": 0.094}, {\"date\": \"2020-11-29T00:00:00\", \"totalTestResultsIncrease\": 1284674.0, \"positiveIncrease\": 136247.0, \"death\": 258662.0, \"deathIncrease\": 823.0, \"positiveRate\": 0.106, \"state\": \"US\", \"sma7d\": 0.097}, {\"date\": \"2020-11-30T00:00:00\", \"totalTestResultsIncrease\": 1606383.0, \"positiveIncrease\": 148588.0, \"death\": 259697.0, \"deathIncrease\": 1035.0, \"positiveRate\": 0.092, \"state\": \"US\", \"sma7d\": 0.097}, {\"date\": \"2020-12-01T00:00:00\", \"totalTestResultsIncrease\": 1471199.0, \"positiveIncrease\": 178212.0, \"death\": 262203.0, \"deathIncrease\": 2506.0, \"positiveRate\": 0.121, \"state\": \"US\", \"sma7d\": 0.102}, {\"date\": \"2020-12-02T00:00:00\", \"totalTestResultsIncrease\": 1555967.0, \"positiveIncrease\": 201170.0, \"death\": 265007.0, \"deathIncrease\": 2804.0, \"positiveRate\": 0.129, \"state\": \"US\", \"sma7d\": 0.105}, {\"date\": \"2020-12-03T00:00:00\", \"totalTestResultsIncrease\": 1893556.0, \"positiveIncrease\": 213639.0, \"death\": 267832.0, \"deathIncrease\": 2825.0, \"positiveRate\": 0.113, \"state\": \"US\", \"sma7d\": 0.107}, {\"date\": \"2020-12-04T00:00:00\", \"totalTestResultsIncrease\": 1900538.0, \"positiveIncrease\": 229192.0, \"death\": 270405.0, \"deathIncrease\": 2573.0, \"positiveRate\": 0.121, \"state\": \"US\", \"sma7d\": 0.11}, {\"date\": \"2020-12-05T00:00:00\", \"totalTestResultsIncrease\": 2209525.0, \"positiveIncrease\": 216678.0, \"death\": 272885.0, \"deathIncrease\": 2480.0, \"positiveRate\": 0.098, \"state\": \"US\", \"sma7d\": 0.111}, {\"date\": \"2020-12-06T00:00:00\", \"totalTestResultsIncrease\": 1600291.0, \"positiveIncrease\": 181196.0, \"death\": 274030.0, \"deathIncrease\": 1145.0, \"positiveRate\": 0.113, \"state\": \"US\", \"sma7d\": 0.112}, {\"date\": \"2020-12-07T00:00:00\", \"totalTestResultsIncrease\": 1718351.0, \"positiveIncrease\": 180938.0, \"death\": 275327.0, \"deathIncrease\": 1297.0, \"positiveRate\": 0.105, \"state\": \"US\", \"sma7d\": 0.114}, {\"date\": \"2020-12-08T00:00:00\", \"totalTestResultsIncrease\": 1672476.0, \"positiveIncrease\": 215112.0, \"death\": 278030.0, \"deathIncrease\": 2703.0, \"positiveRate\": 0.129, \"state\": \"US\", \"sma7d\": 0.115}, {\"date\": \"2020-12-09T00:00:00\", \"totalTestResultsIncrease\": 1810886.0, \"positiveIncrease\": 214183.0, \"death\": 281194.0, \"deathIncrease\": 3164.0, \"positiveRate\": 0.118, \"state\": \"US\", \"sma7d\": 0.114}, {\"date\": \"2020-12-10T00:00:00\", \"totalTestResultsIncrease\": 1890064.0, \"positiveIncrease\": 218951.0, \"death\": 284309.0, \"deathIncrease\": 3115.0, \"positiveRate\": 0.116, \"state\": \"US\", \"sma7d\": 0.114}, {\"date\": \"2020-12-11T00:00:00\", \"totalTestResultsIncrease\": 1990255.0, \"positiveIncrease\": 234817.0, \"death\": 287058.0, \"deathIncrease\": 2749.0, \"positiveRate\": 0.118, \"state\": \"US\", \"sma7d\": 0.114}, {\"date\": \"2020-12-12T00:00:00\", \"totalTestResultsIncrease\": 1810768.0, \"positiveIncrease\": 224476.0, \"death\": 289552.0, \"deathIncrease\": 2494.0, \"positiveRate\": 0.124, \"state\": \"US\", \"sma7d\": 0.118}, {\"date\": \"2020-12-13T00:00:00\", \"totalTestResultsIncrease\": 1762480.0, \"positiveIncrease\": 185801.0, \"death\": 291046.0, \"deathIncrease\": 1494.0, \"positiveRate\": 0.105, \"state\": \"US\", \"sma7d\": 0.116}, {\"date\": \"2020-12-14T00:00:00\", \"totalTestResultsIncrease\": 2159460.0, \"positiveIncrease\": 192466.0, \"death\": 292404.0, \"deathIncrease\": 1358.0, \"positiveRate\": 0.089, \"state\": \"US\", \"sma7d\": 0.114}, {\"date\": \"2020-12-15T00:00:00\", \"totalTestResultsIncrease\": 1781610.0, \"positiveIncrease\": 189783.0, \"death\": 295375.0, \"deathIncrease\": 2971.0, \"positiveRate\": 0.107, \"state\": \"US\", \"sma7d\": 0.111}, {\"date\": \"2020-12-16T00:00:00\", \"totalTestResultsIncrease\": 1791968.0, \"positiveIncrease\": 231653.0, \"death\": 298823.0, \"deathIncrease\": 3448.0, \"positiveRate\": 0.129, \"state\": \"US\", \"sma7d\": 0.113}, {\"date\": \"2020-12-17T00:00:00\", \"totalTestResultsIncrease\": 1873340.0, \"positiveIncrease\": 240156.0, \"death\": 302261.0, \"deathIncrease\": 3438.0, \"positiveRate\": 0.128, \"state\": \"US\", \"sma7d\": 0.114}, {\"date\": \"2020-12-18T00:00:00\", \"totalTestResultsIncrease\": 2197685.0, \"positiveIncrease\": 239246.0, \"death\": 305127.0, \"deathIncrease\": 2866.0, \"positiveRate\": 0.109, \"state\": \"US\", \"sma7d\": 0.113}, {\"date\": \"2020-12-19T00:00:00\", \"totalTestResultsIncrease\": 1739586.0, \"positiveIncrease\": 202812.0, \"death\": 307850.0, \"deathIncrease\": 2723.0, \"positiveRate\": 0.117, \"state\": \"US\", \"sma7d\": 0.112}, {\"date\": \"2020-12-20T00:00:00\", \"totalTestResultsIncrease\": 1782180.0, \"positiveIncrease\": 196017.0, \"death\": 309483.0, \"deathIncrease\": 1633.0, \"positiveRate\": 0.11, \"state\": \"US\", \"sma7d\": 0.113}, {\"date\": \"2020-12-21T00:00:00\", \"totalTestResultsIncrease\": 2076374.0, \"positiveIncrease\": 178191.0, \"death\": 310968.0, \"deathIncrease\": 1485.0, \"positiveRate\": 0.086, \"state\": \"US\", \"sma7d\": 0.112}, {\"date\": \"2020-12-22T00:00:00\", \"totalTestResultsIncrease\": 1707778.0, \"positiveIncrease\": 189932.0, \"death\": 314134.0, \"deathIncrease\": 3166.0, \"positiveRate\": 0.111, \"state\": \"US\", \"sma7d\": 0.113}, {\"date\": \"2020-12-23T00:00:00\", \"totalTestResultsIncrease\": 1749021.0, \"positiveIncrease\": 220834.0, \"death\": 317513.0, \"deathIncrease\": 3379.0, \"positiveRate\": 0.126, \"state\": \"US\", \"sma7d\": 0.112}, {\"date\": \"2020-12-24T00:00:00\", \"totalTestResultsIncrease\": 1928480.0, \"positiveIncrease\": 203625.0, \"death\": 320462.0, \"deathIncrease\": 2949.0, \"positiveRate\": 0.106, \"state\": \"US\", \"sma7d\": 0.109}, {\"date\": \"2020-12-25T00:00:00\", \"totalTestResultsIncrease\": 1290774.0, \"positiveIncrease\": 125368.0, \"death\": 322010.0, \"deathIncrease\": 1548.0, \"positiveRate\": 0.097, \"state\": \"US\", \"sma7d\": 0.108}, {\"date\": \"2020-12-26T00:00:00\", \"totalTestResultsIncrease\": 2137261.0, \"positiveIncrease\": 189494.0, \"death\": 323429.0, \"deathIncrease\": 1419.0, \"positiveRate\": 0.089, \"state\": \"US\", \"sma7d\": 0.104}, {\"date\": \"2020-12-27T00:00:00\", \"totalTestResultsIncrease\": 1383493.0, \"positiveIncrease\": 153194.0, \"death\": 324831.0, \"deathIncrease\": 1402.0, \"positiveRate\": 0.111, \"state\": \"US\", \"sma7d\": 0.104}, {\"date\": \"2020-12-28T00:00:00\", \"totalTestResultsIncrease\": 1540320.0, \"positiveIncrease\": 162190.0, \"death\": 326322.0, \"deathIncrease\": 1491.0, \"positiveRate\": 0.105, \"state\": \"US\", \"sma7d\": 0.106}, {\"date\": \"2020-12-29T00:00:00\", \"totalTestResultsIncrease\": 1231023.0, \"positiveIncrease\": 194337.0, \"death\": 329404.0, \"deathIncrease\": 3282.0, \"positiveRate\": 0.158, \"state\": \"US\", \"sma7d\": 0.113}]}}, {\"mode\": \"vega-lite\"});\n",
       "</script>"
      ],
      "text/plain": [
       "alt.LayerChart(...)"
      ]
     },
     "execution_count": 8,
     "metadata": {},
     "output_type": "execute_result"
    }
   ],
   "source": [
    "create_plot(us, 'positiveRate')"
   ]
  },
  {
   "cell_type": "code",
   "execution_count": 9,
   "metadata": {
    "execution": {
     "iopub.execute_input": "2020-12-30T09:27:49.410812Z",
     "iopub.status.busy": "2020-12-30T09:27:49.389431Z",
     "iopub.status.idle": "2020-12-30T09:27:49.480387Z",
     "shell.execute_reply": "2020-12-30T09:27:49.479929Z"
    },
    "papermill": {
     "duration": 0.109719,
     "end_time": "2020-12-30T09:27:49.480513",
     "exception": false,
     "start_time": "2020-12-30T09:27:49.370794",
     "status": "completed"
    },
    "tags": []
   },
   "outputs": [
    {
     "data": {
      "text/html": [
       "\n",
       "<div id=\"altair-viz-8d055166bfe24d68b54d5b805caa55a6\"></div>\n",
       "<script type=\"text/javascript\">\n",
       "  (function(spec, embedOpt){\n",
       "    let outputDiv = document.currentScript.previousElementSibling;\n",
       "    if (outputDiv.id !== \"altair-viz-8d055166bfe24d68b54d5b805caa55a6\") {\n",
       "      outputDiv = document.getElementById(\"altair-viz-8d055166bfe24d68b54d5b805caa55a6\");\n",
       "    }\n",
       "    const paths = {\n",
       "      \"vega\": \"https://cdn.jsdelivr.net/npm//vega@5?noext\",\n",
       "      \"vega-lib\": \"https://cdn.jsdelivr.net/npm//vega-lib?noext\",\n",
       "      \"vega-lite\": \"https://cdn.jsdelivr.net/npm//vega-lite@4.8.1?noext\",\n",
       "      \"vega-embed\": \"https://cdn.jsdelivr.net/npm//vega-embed@6?noext\",\n",
       "    };\n",
       "\n",
       "    function loadScript(lib) {\n",
       "      return new Promise(function(resolve, reject) {\n",
       "        var s = document.createElement('script');\n",
       "        s.src = paths[lib];\n",
       "        s.async = true;\n",
       "        s.onload = () => resolve(paths[lib]);\n",
       "        s.onerror = () => reject(`Error loading script: ${paths[lib]}`);\n",
       "        document.getElementsByTagName(\"head\")[0].appendChild(s);\n",
       "      });\n",
       "    }\n",
       "\n",
       "    function showError(err) {\n",
       "      outputDiv.innerHTML = `<div class=\"error\" style=\"color:red;\">${err}</div>`;\n",
       "      throw err;\n",
       "    }\n",
       "\n",
       "    function displayChart(vegaEmbed) {\n",
       "      vegaEmbed(outputDiv, spec, embedOpt)\n",
       "        .catch(err => showError(`Javascript Error: ${err.message}<br>This usually means there's a typo in your chart specification. See the javascript console for the full traceback.`));\n",
       "    }\n",
       "\n",
       "    if(typeof define === \"function\" && define.amd) {\n",
       "      requirejs.config({paths});\n",
       "      require([\"vega-embed\"], displayChart, err => showError(`Error loading script: ${err.message}`));\n",
       "    } else if (typeof vegaEmbed === \"function\") {\n",
       "      displayChart(vegaEmbed);\n",
       "    } else {\n",
       "      loadScript(\"vega\")\n",
       "        .then(() => loadScript(\"vega-lite\"))\n",
       "        .then(() => loadScript(\"vega-embed\"))\n",
       "        .catch(showError)\n",
       "        .then(() => displayChart(vegaEmbed));\n",
       "    }\n",
       "  })({\"config\": {\"view\": {\"continuousWidth\": 400, \"continuousHeight\": 300}}, \"layer\": [{\"layer\": [{\"mark\": {\"type\": \"point\", \"size\": 75}, \"encoding\": {\"tooltip\": [{\"type\": \"temporal\", \"field\": \"date\"}, {\"type\": \"quantitative\", \"field\": \"deathIncrease\"}, {\"type\": \"quantitative\", \"field\": \"sma7d\"}], \"x\": {\"type\": \"temporal\", \"field\": \"date\"}, \"y\": {\"type\": \"quantitative\", \"field\": \"deathIncrease\"}}, \"selection\": {\"selector006\": {\"type\": \"interval\", \"bind\": \"scales\", \"encodings\": [\"x\", \"y\"]}}}, {\"mark\": {\"type\": \"line\", \"color\": \"purple\"}, \"encoding\": {\"x\": {\"type\": \"temporal\", \"field\": \"date\"}, \"y\": {\"type\": \"quantitative\", \"field\": \"sma7d\"}}}]}, {\"mark\": {\"type\": \"rule\", \"color\": \"#aaa\"}, \"encoding\": {\"x\": {\"type\": \"temporal\", \"field\": \"date\"}}, \"transform\": [{\"filter\": {\"selection\": \"selector005\"}}]}, {\"mark\": \"circle\", \"encoding\": {\"opacity\": {\"condition\": {\"value\": 1, \"selection\": \"selector005\"}, \"value\": 0}, \"tooltip\": [{\"type\": \"temporal\", \"field\": \"date\"}, {\"type\": \"quantitative\", \"field\": \"deathIncrease\"}, {\"type\": \"quantitative\", \"field\": \"sma7d\"}], \"x\": {\"type\": \"temporal\", \"field\": \"date\"}, \"y\": {\"type\": \"quantitative\", \"field\": \"deathIncrease\"}}, \"selection\": {\"selector005\": {\"type\": \"single\", \"encodings\": [\"x\"], \"on\": \"mouseover\", \"nearest\": true, \"empty\": \"none\"}}}, {\"mark\": {\"type\": \"text\", \"align\": \"left\", \"dx\": 5, \"dy\": -5, \"stroke\": \"white\", \"strokeWidth\": 2}, \"encoding\": {\"text\": {\"type\": \"quantitative\", \"field\": \"deathIncrease\"}, \"tooltip\": [{\"type\": \"temporal\", \"field\": \"date\"}, {\"type\": \"quantitative\", \"field\": \"deathIncrease\"}, {\"type\": \"quantitative\", \"field\": \"sma7d\"}], \"x\": {\"type\": \"temporal\", \"field\": \"date\"}, \"y\": {\"type\": \"quantitative\", \"field\": \"deathIncrease\"}}, \"transform\": [{\"filter\": {\"selection\": \"selector005\"}}]}, {\"mark\": {\"type\": \"text\", \"align\": \"left\", \"dx\": 5, \"dy\": -5}, \"encoding\": {\"text\": {\"type\": \"quantitative\", \"field\": \"deathIncrease\"}, \"tooltip\": [{\"type\": \"temporal\", \"field\": \"date\"}, {\"type\": \"quantitative\", \"field\": \"deathIncrease\"}, {\"type\": \"quantitative\", \"field\": \"sma7d\"}], \"x\": {\"type\": \"temporal\", \"field\": \"date\"}, \"y\": {\"type\": \"quantitative\", \"field\": \"deathIncrease\"}}, \"transform\": [{\"filter\": {\"selection\": \"selector005\"}}]}], \"data\": {\"name\": \"data-b2aae4b1ca03463ff0cdcda8f8c915e3\"}, \"height\": 400, \"title\": \"US: deathIncrease\", \"width\": 500, \"$schema\": \"https://vega.github.io/schema/vega-lite/v4.8.1.json\", \"datasets\": {\"data-b2aae4b1ca03463ff0cdcda8f8c915e3\": [{\"date\": \"2020-11-05T00:00:00\", \"totalTestResultsIncrease\": 1610709.0, \"positiveIncrease\": 118182.0, \"death\": 227317.0, \"deathIncrease\": 1155.0, \"positiveRate\": 0.073, \"state\": \"US\", \"sma7d\": 942.143}, {\"date\": \"2020-11-06T00:00:00\", \"totalTestResultsIncrease\": 1618707.0, \"positiveIncrease\": 128294.0, \"death\": 228503.0, \"deathIncrease\": 1186.0, \"positiveRate\": 0.079, \"state\": \"US\", \"sma7d\": 976.286}, {\"date\": \"2020-11-07T00:00:00\", \"totalTestResultsIncrease\": 1448039.0, \"positiveIncrease\": 131249.0, \"death\": 229635.0, \"deathIncrease\": 1132.0, \"positiveRate\": 0.091, \"state\": \"US\", \"sma7d\": 999.429}, {\"date\": \"2020-11-08T00:00:00\", \"totalTestResultsIncrease\": 1218767.0, \"positiveIncrease\": 111660.0, \"death\": 230136.0, \"deathIncrease\": 501.0, \"positiveRate\": 0.092, \"state\": \"US\", \"sma7d\": 1014.143}, {\"date\": \"2020-11-09T00:00:00\", \"totalTestResultsIncrease\": 1446284.0, \"positiveIncrease\": 117585.0, \"death\": 230716.0, \"deathIncrease\": 580.0, \"positiveRate\": 0.081, \"state\": \"US\", \"sma7d\": 1029.286}, {\"date\": \"2020-11-10T00:00:00\", \"totalTestResultsIncrease\": 1343625.0, \"positiveIncrease\": 132512.0, \"death\": 232073.0, \"deathIncrease\": 1357.0, \"positiveRate\": 0.099, \"state\": \"US\", \"sma7d\": 1005.286}, {\"date\": \"2020-11-11T00:00:00\", \"totalTestResultsIncrease\": 1462126.0, \"positiveIncrease\": 148170.0, \"death\": 233652.0, \"deathIncrease\": 1579.0, \"positiveRate\": 0.101, \"state\": \"US\", \"sma7d\": 1070.0}, {\"date\": \"2020-11-12T00:00:00\", \"totalTestResultsIncrease\": 1568631.0, \"positiveIncrease\": 156559.0, \"death\": 234763.0, \"deathIncrease\": 1111.0, \"positiveRate\": 0.1, \"state\": \"US\", \"sma7d\": 1063.714}, {\"date\": \"2020-11-13T00:00:00\", \"totalTestResultsIncrease\": 1704860.0, \"positiveIncrease\": 173277.0, \"death\": 236067.0, \"deathIncrease\": 1304.0, \"positiveRate\": 0.102, \"state\": \"US\", \"sma7d\": 1080.571}, {\"date\": \"2020-11-14T00:00:00\", \"totalTestResultsIncrease\": 1703864.0, \"positiveIncrease\": 166589.0, \"death\": 237419.0, \"deathIncrease\": 1352.0, \"positiveRate\": 0.098, \"state\": \"US\", \"sma7d\": 1112.0}, {\"date\": \"2020-11-15T00:00:00\", \"totalTestResultsIncrease\": 1552084.0, \"positiveIncrease\": 146207.0, \"death\": 238127.0, \"deathIncrease\": 708.0, \"positiveRate\": 0.094, \"state\": \"US\", \"sma7d\": 1141.571}, {\"date\": \"2020-11-16T00:00:00\", \"totalTestResultsIncrease\": 1529433.0, \"positiveIncrease\": 149100.0, \"death\": 238736.0, \"deathIncrease\": 609.0, \"positiveRate\": 0.097, \"state\": \"US\", \"sma7d\": 1145.714}, {\"date\": \"2020-11-17T00:00:00\", \"totalTestResultsIncrease\": 1602654.0, \"positiveIncrease\": 158476.0, \"death\": 240298.0, \"deathIncrease\": 1562.0, \"positiveRate\": 0.099, \"state\": \"US\", \"sma7d\": 1175.0}, {\"date\": \"2020-11-18T00:00:00\", \"totalTestResultsIncrease\": 1617925.0, \"positiveIncrease\": 167032.0, \"death\": 242180.0, \"deathIncrease\": 1882.0, \"positiveRate\": 0.103, \"state\": \"US\", \"sma7d\": 1218.286}, {\"date\": \"2020-11-19T00:00:00\", \"totalTestResultsIncrease\": 1848010.0, \"positiveIncrease\": 186585.0, \"death\": 244200.0, \"deathIncrease\": 2020.0, \"positiveRate\": 0.101, \"state\": \"US\", \"sma7d\": 1348.143}, {\"date\": \"2020-11-20T00:00:00\", \"totalTestResultsIncrease\": 1945548.0, \"positiveIncrease\": 195893.0, \"death\": 246094.0, \"deathIncrease\": 1894.0, \"positiveRate\": 0.101, \"state\": \"US\", \"sma7d\": 1432.429}, {\"date\": \"2020-11-21T00:00:00\", \"totalTestResultsIncrease\": 2046579.0, \"positiveIncrease\": 182809.0, \"death\": 247648.0, \"deathIncrease\": 1554.0, \"positiveRate\": 0.089, \"state\": \"US\", \"sma7d\": 1461.286}, {\"date\": \"2020-11-22T00:00:00\", \"totalTestResultsIncrease\": 1752045.0, \"positiveIncrease\": 153372.0, \"death\": 248565.0, \"deathIncrease\": 917.0, \"positiveRate\": 0.088, \"state\": \"US\", \"sma7d\": 1491.143}, {\"date\": \"2020-11-23T00:00:00\", \"totalTestResultsIncrease\": 1693472.0, \"positiveIncrease\": 153783.0, \"death\": 249423.0, \"deathIncrease\": 858.0, \"positiveRate\": 0.091, \"state\": \"US\", \"sma7d\": 1526.714}, {\"date\": \"2020-11-24T00:00:00\", \"totalTestResultsIncrease\": 1882133.0, \"positiveIncrease\": 164392.0, \"death\": 251529.0, \"deathIncrease\": 2106.0, \"positiveRate\": 0.087, \"state\": \"US\", \"sma7d\": 1604.429}, {\"date\": \"2020-11-25T00:00:00\", \"totalTestResultsIncrease\": 1824146.0, \"positiveIncrease\": 187134.0, \"death\": 253809.0, \"deathIncrease\": 2280.0, \"positiveRate\": 0.103, \"state\": \"US\", \"sma7d\": 1661.286}, {\"date\": \"2020-11-26T00:00:00\", \"totalTestResultsIncrease\": 1266651.0, \"positiveIncrease\": 128709.0, \"death\": 255196.0, \"deathIncrease\": 1387.0, \"positiveRate\": 0.102, \"state\": \"US\", \"sma7d\": 1570.857}, {\"date\": \"2020-11-27T00:00:00\", \"totalTestResultsIncrease\": 2031747.0, \"positiveIncrease\": 197180.0, \"death\": 256588.0, \"deathIncrease\": 1392.0, \"positiveRate\": 0.097, \"state\": \"US\", \"sma7d\": 1499.143}, {\"date\": \"2020-11-28T00:00:00\", \"totalTestResultsIncrease\": 1673009.0, \"positiveIncrease\": 151184.0, \"death\": 257839.0, \"deathIncrease\": 1251.0, \"positiveRate\": 0.09, \"state\": \"US\", \"sma7d\": 1455.857}, {\"date\": \"2020-11-29T00:00:00\", \"totalTestResultsIncrease\": 1284674.0, \"positiveIncrease\": 136247.0, \"death\": 258662.0, \"deathIncrease\": 823.0, \"positiveRate\": 0.106, \"state\": \"US\", \"sma7d\": 1442.429}, {\"date\": \"2020-11-30T00:00:00\", \"totalTestResultsIncrease\": 1606383.0, \"positiveIncrease\": 148588.0, \"death\": 259697.0, \"deathIncrease\": 1035.0, \"positiveRate\": 0.092, \"state\": \"US\", \"sma7d\": 1467.714}, {\"date\": \"2020-12-01T00:00:00\", \"totalTestResultsIncrease\": 1471199.0, \"positiveIncrease\": 178212.0, \"death\": 262203.0, \"deathIncrease\": 2506.0, \"positiveRate\": 0.121, \"state\": \"US\", \"sma7d\": 1524.857}, {\"date\": \"2020-12-02T00:00:00\", \"totalTestResultsIncrease\": 1555967.0, \"positiveIncrease\": 201170.0, \"death\": 265007.0, \"deathIncrease\": 2804.0, \"positiveRate\": 0.129, \"state\": \"US\", \"sma7d\": 1599.714}, {\"date\": \"2020-12-03T00:00:00\", \"totalTestResultsIncrease\": 1893556.0, \"positiveIncrease\": 213639.0, \"death\": 267832.0, \"deathIncrease\": 2825.0, \"positiveRate\": 0.113, \"state\": \"US\", \"sma7d\": 1805.143}, {\"date\": \"2020-12-04T00:00:00\", \"totalTestResultsIncrease\": 1900538.0, \"positiveIncrease\": 229192.0, \"death\": 270405.0, \"deathIncrease\": 2573.0, \"positiveRate\": 0.121, \"state\": \"US\", \"sma7d\": 1973.857}, {\"date\": \"2020-12-05T00:00:00\", \"totalTestResultsIncrease\": 2209525.0, \"positiveIncrease\": 216678.0, \"death\": 272885.0, \"deathIncrease\": 2480.0, \"positiveRate\": 0.098, \"state\": \"US\", \"sma7d\": 2149.429}, {\"date\": \"2020-12-06T00:00:00\", \"totalTestResultsIncrease\": 1600291.0, \"positiveIncrease\": 181196.0, \"death\": 274030.0, \"deathIncrease\": 1145.0, \"positiveRate\": 0.113, \"state\": \"US\", \"sma7d\": 2195.429}, {\"date\": \"2020-12-07T00:00:00\", \"totalTestResultsIncrease\": 1718351.0, \"positiveIncrease\": 180938.0, \"death\": 275327.0, \"deathIncrease\": 1297.0, \"positiveRate\": 0.105, \"state\": \"US\", \"sma7d\": 2232.857}, {\"date\": \"2020-12-08T00:00:00\", \"totalTestResultsIncrease\": 1672476.0, \"positiveIncrease\": 215112.0, \"death\": 278030.0, \"deathIncrease\": 2703.0, \"positiveRate\": 0.129, \"state\": \"US\", \"sma7d\": 2261.0}, {\"date\": \"2020-12-09T00:00:00\", \"totalTestResultsIncrease\": 1810886.0, \"positiveIncrease\": 214183.0, \"death\": 281194.0, \"deathIncrease\": 3164.0, \"positiveRate\": 0.118, \"state\": \"US\", \"sma7d\": 2312.429}, {\"date\": \"2020-12-10T00:00:00\", \"totalTestResultsIncrease\": 1890064.0, \"positiveIncrease\": 218951.0, \"death\": 284309.0, \"deathIncrease\": 3115.0, \"positiveRate\": 0.116, \"state\": \"US\", \"sma7d\": 2353.857}, {\"date\": \"2020-12-11T00:00:00\", \"totalTestResultsIncrease\": 1990255.0, \"positiveIncrease\": 234817.0, \"death\": 287058.0, \"deathIncrease\": 2749.0, \"positiveRate\": 0.118, \"state\": \"US\", \"sma7d\": 2379.0}, {\"date\": \"2020-12-12T00:00:00\", \"totalTestResultsIncrease\": 1810768.0, \"positiveIncrease\": 224476.0, \"death\": 289552.0, \"deathIncrease\": 2494.0, \"positiveRate\": 0.124, \"state\": \"US\", \"sma7d\": 2381.0}, {\"date\": \"2020-12-13T00:00:00\", \"totalTestResultsIncrease\": 1762480.0, \"positiveIncrease\": 185801.0, \"death\": 291046.0, \"deathIncrease\": 1494.0, \"positiveRate\": 0.105, \"state\": \"US\", \"sma7d\": 2430.857}, {\"date\": \"2020-12-14T00:00:00\", \"totalTestResultsIncrease\": 2159460.0, \"positiveIncrease\": 192466.0, \"death\": 292404.0, \"deathIncrease\": 1358.0, \"positiveRate\": 0.089, \"state\": \"US\", \"sma7d\": 2439.571}, {\"date\": \"2020-12-15T00:00:00\", \"totalTestResultsIncrease\": 1781610.0, \"positiveIncrease\": 189783.0, \"death\": 295375.0, \"deathIncrease\": 2971.0, \"positiveRate\": 0.107, \"state\": \"US\", \"sma7d\": 2477.857}, {\"date\": \"2020-12-16T00:00:00\", \"totalTestResultsIncrease\": 1791968.0, \"positiveIncrease\": 231653.0, \"death\": 298823.0, \"deathIncrease\": 3448.0, \"positiveRate\": 0.129, \"state\": \"US\", \"sma7d\": 2518.429}, {\"date\": \"2020-12-17T00:00:00\", \"totalTestResultsIncrease\": 1873340.0, \"positiveIncrease\": 240156.0, \"death\": 302261.0, \"deathIncrease\": 3438.0, \"positiveRate\": 0.128, \"state\": \"US\", \"sma7d\": 2564.571}, {\"date\": \"2020-12-18T00:00:00\", \"totalTestResultsIncrease\": 2197685.0, \"positiveIncrease\": 239246.0, \"death\": 305127.0, \"deathIncrease\": 2866.0, \"positiveRate\": 0.109, \"state\": \"US\", \"sma7d\": 2581.286}, {\"date\": \"2020-12-19T00:00:00\", \"totalTestResultsIncrease\": 1739586.0, \"positiveIncrease\": 202812.0, \"death\": 307850.0, \"deathIncrease\": 2723.0, \"positiveRate\": 0.117, \"state\": \"US\", \"sma7d\": 2614.0}, {\"date\": \"2020-12-20T00:00:00\", \"totalTestResultsIncrease\": 1782180.0, \"positiveIncrease\": 196017.0, \"death\": 309483.0, \"deathIncrease\": 1633.0, \"positiveRate\": 0.11, \"state\": \"US\", \"sma7d\": 2633.857}, {\"date\": \"2020-12-21T00:00:00\", \"totalTestResultsIncrease\": 2076374.0, \"positiveIncrease\": 178191.0, \"death\": 310968.0, \"deathIncrease\": 1485.0, \"positiveRate\": 0.086, \"state\": \"US\", \"sma7d\": 2652.0}, {\"date\": \"2020-12-22T00:00:00\", \"totalTestResultsIncrease\": 1707778.0, \"positiveIncrease\": 189932.0, \"death\": 314134.0, \"deathIncrease\": 3166.0, \"positiveRate\": 0.111, \"state\": \"US\", \"sma7d\": 2679.857}, {\"date\": \"2020-12-23T00:00:00\", \"totalTestResultsIncrease\": 1749021.0, \"positiveIncrease\": 220834.0, \"death\": 317513.0, \"deathIncrease\": 3379.0, \"positiveRate\": 0.126, \"state\": \"US\", \"sma7d\": 2670.0}, {\"date\": \"2020-12-24T00:00:00\", \"totalTestResultsIncrease\": 1928480.0, \"positiveIncrease\": 203625.0, \"death\": 320462.0, \"deathIncrease\": 2949.0, \"positiveRate\": 0.106, \"state\": \"US\", \"sma7d\": 2600.143}, {\"date\": \"2020-12-25T00:00:00\", \"totalTestResultsIncrease\": 1290774.0, \"positiveIncrease\": 125368.0, \"death\": 322010.0, \"deathIncrease\": 1548.0, \"positiveRate\": 0.097, \"state\": \"US\", \"sma7d\": 2411.857}, {\"date\": \"2020-12-26T00:00:00\", \"totalTestResultsIncrease\": 2137261.0, \"positiveIncrease\": 189494.0, \"death\": 323429.0, \"deathIncrease\": 1419.0, \"positiveRate\": 0.089, \"state\": \"US\", \"sma7d\": 2225.571}, {\"date\": \"2020-12-27T00:00:00\", \"totalTestResultsIncrease\": 1383493.0, \"positiveIncrease\": 153194.0, \"death\": 324831.0, \"deathIncrease\": 1402.0, \"positiveRate\": 0.111, \"state\": \"US\", \"sma7d\": 2192.571}, {\"date\": \"2020-12-28T00:00:00\", \"totalTestResultsIncrease\": 1540320.0, \"positiveIncrease\": 162190.0, \"death\": 326322.0, \"deathIncrease\": 1491.0, \"positiveRate\": 0.105, \"state\": \"US\", \"sma7d\": 2193.429}, {\"date\": \"2020-12-29T00:00:00\", \"totalTestResultsIncrease\": 1231023.0, \"positiveIncrease\": 194337.0, \"death\": 329404.0, \"deathIncrease\": 3282.0, \"positiveRate\": 0.158, \"state\": \"US\", \"sma7d\": 2210.0}]}}, {\"mode\": \"vega-lite\"});\n",
       "</script>"
      ],
      "text/plain": [
       "alt.LayerChart(...)"
      ]
     },
     "execution_count": 9,
     "metadata": {},
     "output_type": "execute_result"
    }
   ],
   "source": [
    "create_plot(us, 'deathIncrease')"
   ]
  },
  {
   "cell_type": "markdown",
   "metadata": {
    "papermill": {
     "duration": 0.014984,
     "end_time": "2020-12-30T09:27:49.510367",
     "exception": false,
     "start_time": "2020-12-30T09:27:49.495383",
     "status": "completed"
    },
    "tags": []
   },
   "source": [
    "## NY"
   ]
  },
  {
   "cell_type": "code",
   "execution_count": 10,
   "metadata": {
    "execution": {
     "iopub.execute_input": "2020-12-30T09:27:49.544651Z",
     "iopub.status.busy": "2020-12-30T09:27:49.543821Z",
     "iopub.status.idle": "2020-12-30T09:27:49.852536Z",
     "shell.execute_reply": "2020-12-30T09:27:49.851956Z"
    },
    "papermill": {
     "duration": 0.327355,
     "end_time": "2020-12-30T09:27:49.852666",
     "exception": false,
     "start_time": "2020-12-30T09:27:49.525311",
     "status": "completed"
    },
    "tags": []
   },
   "outputs": [],
   "source": [
    "ny = create_df(df, (lambda d: d['state'] == 'NY'), 'New York')"
   ]
  },
  {
   "cell_type": "code",
   "execution_count": 11,
   "metadata": {
    "execution": {
     "iopub.execute_input": "2020-12-30T09:27:49.911533Z",
     "iopub.status.busy": "2020-12-30T09:27:49.901293Z",
     "iopub.status.idle": "2020-12-30T09:27:49.977163Z",
     "shell.execute_reply": "2020-12-30T09:27:49.977583Z"
    },
    "papermill": {
     "duration": 0.11015,
     "end_time": "2020-12-30T09:27:49.977745",
     "exception": false,
     "start_time": "2020-12-30T09:27:49.867595",
     "status": "completed"
    },
    "tags": []
   },
   "outputs": [
    {
     "data": {
      "text/html": [
       "\n",
       "<div id=\"altair-viz-6b62a5043afe441992f0343516b7f1dc\"></div>\n",
       "<script type=\"text/javascript\">\n",
       "  (function(spec, embedOpt){\n",
       "    let outputDiv = document.currentScript.previousElementSibling;\n",
       "    if (outputDiv.id !== \"altair-viz-6b62a5043afe441992f0343516b7f1dc\") {\n",
       "      outputDiv = document.getElementById(\"altair-viz-6b62a5043afe441992f0343516b7f1dc\");\n",
       "    }\n",
       "    const paths = {\n",
       "      \"vega\": \"https://cdn.jsdelivr.net/npm//vega@5?noext\",\n",
       "      \"vega-lib\": \"https://cdn.jsdelivr.net/npm//vega-lib?noext\",\n",
       "      \"vega-lite\": \"https://cdn.jsdelivr.net/npm//vega-lite@4.8.1?noext\",\n",
       "      \"vega-embed\": \"https://cdn.jsdelivr.net/npm//vega-embed@6?noext\",\n",
       "    };\n",
       "\n",
       "    function loadScript(lib) {\n",
       "      return new Promise(function(resolve, reject) {\n",
       "        var s = document.createElement('script');\n",
       "        s.src = paths[lib];\n",
       "        s.async = true;\n",
       "        s.onload = () => resolve(paths[lib]);\n",
       "        s.onerror = () => reject(`Error loading script: ${paths[lib]}`);\n",
       "        document.getElementsByTagName(\"head\")[0].appendChild(s);\n",
       "      });\n",
       "    }\n",
       "\n",
       "    function showError(err) {\n",
       "      outputDiv.innerHTML = `<div class=\"error\" style=\"color:red;\">${err}</div>`;\n",
       "      throw err;\n",
       "    }\n",
       "\n",
       "    function displayChart(vegaEmbed) {\n",
       "      vegaEmbed(outputDiv, spec, embedOpt)\n",
       "        .catch(err => showError(`Javascript Error: ${err.message}<br>This usually means there's a typo in your chart specification. See the javascript console for the full traceback.`));\n",
       "    }\n",
       "\n",
       "    if(typeof define === \"function\" && define.amd) {\n",
       "      requirejs.config({paths});\n",
       "      require([\"vega-embed\"], displayChart, err => showError(`Error loading script: ${err.message}`));\n",
       "    } else if (typeof vegaEmbed === \"function\") {\n",
       "      displayChart(vegaEmbed);\n",
       "    } else {\n",
       "      loadScript(\"vega\")\n",
       "        .then(() => loadScript(\"vega-lite\"))\n",
       "        .then(() => loadScript(\"vega-embed\"))\n",
       "        .catch(showError)\n",
       "        .then(() => displayChart(vegaEmbed));\n",
       "    }\n",
       "  })({\"config\": {\"view\": {\"continuousWidth\": 400, \"continuousHeight\": 300}}, \"layer\": [{\"layer\": [{\"mark\": {\"type\": \"point\", \"size\": 75}, \"encoding\": {\"tooltip\": [{\"type\": \"temporal\", \"field\": \"date\"}, {\"type\": \"quantitative\", \"field\": \"positiveIncrease\"}, {\"type\": \"quantitative\", \"field\": \"sma7d\"}], \"x\": {\"type\": \"temporal\", \"field\": \"date\"}, \"y\": {\"type\": \"quantitative\", \"field\": \"positiveIncrease\"}}, \"selection\": {\"selector008\": {\"type\": \"interval\", \"bind\": \"scales\", \"encodings\": [\"x\", \"y\"]}}}, {\"mark\": {\"type\": \"line\", \"color\": \"purple\"}, \"encoding\": {\"x\": {\"type\": \"temporal\", \"field\": \"date\"}, \"y\": {\"type\": \"quantitative\", \"field\": \"sma7d\"}}}]}, {\"mark\": {\"type\": \"rule\", \"color\": \"#aaa\"}, \"encoding\": {\"x\": {\"type\": \"temporal\", \"field\": \"date\"}}, \"transform\": [{\"filter\": {\"selection\": \"selector007\"}}]}, {\"mark\": \"circle\", \"encoding\": {\"opacity\": {\"condition\": {\"value\": 1, \"selection\": \"selector007\"}, \"value\": 0}, \"tooltip\": [{\"type\": \"temporal\", \"field\": \"date\"}, {\"type\": \"quantitative\", \"field\": \"positiveIncrease\"}, {\"type\": \"quantitative\", \"field\": \"sma7d\"}], \"x\": {\"type\": \"temporal\", \"field\": \"date\"}, \"y\": {\"type\": \"quantitative\", \"field\": \"positiveIncrease\"}}, \"selection\": {\"selector007\": {\"type\": \"single\", \"encodings\": [\"x\"], \"on\": \"mouseover\", \"nearest\": true, \"empty\": \"none\"}}}, {\"mark\": {\"type\": \"text\", \"align\": \"left\", \"dx\": 5, \"dy\": -5, \"stroke\": \"white\", \"strokeWidth\": 2}, \"encoding\": {\"text\": {\"type\": \"quantitative\", \"field\": \"positiveIncrease\"}, \"tooltip\": [{\"type\": \"temporal\", \"field\": \"date\"}, {\"type\": \"quantitative\", \"field\": \"positiveIncrease\"}, {\"type\": \"quantitative\", \"field\": \"sma7d\"}], \"x\": {\"type\": \"temporal\", \"field\": \"date\"}, \"y\": {\"type\": \"quantitative\", \"field\": \"positiveIncrease\"}}, \"transform\": [{\"filter\": {\"selection\": \"selector007\"}}]}, {\"mark\": {\"type\": \"text\", \"align\": \"left\", \"dx\": 5, \"dy\": -5}, \"encoding\": {\"text\": {\"type\": \"quantitative\", \"field\": \"positiveIncrease\"}, \"tooltip\": [{\"type\": \"temporal\", \"field\": \"date\"}, {\"type\": \"quantitative\", \"field\": \"positiveIncrease\"}, {\"type\": \"quantitative\", \"field\": \"sma7d\"}], \"x\": {\"type\": \"temporal\", \"field\": \"date\"}, \"y\": {\"type\": \"quantitative\", \"field\": \"positiveIncrease\"}}, \"transform\": [{\"filter\": {\"selection\": \"selector007\"}}]}], \"data\": {\"name\": \"data-fa1f53c5f6afba2653d2757148e53e1e\"}, \"height\": 400, \"title\": \"New York: positiveIncrease\", \"width\": 500, \"$schema\": \"https://vega.github.io/schema/vega-lite/v4.8.1.json\", \"datasets\": {\"data-fa1f53c5f6afba2653d2757148e53e1e\": [{\"date\": \"2020-11-05T00:00:00\", \"totalTestResultsIncrease\": 161019.0, \"positiveIncrease\": 2997.0, \"death\": 25892.0, \"deathIncrease\": 24.0, \"positiveRate\": 0.019, \"state\": \"New York\", \"sma7d\": 2233.714}, {\"date\": \"2020-11-06T00:00:00\", \"totalTestResultsIncrease\": 160705.0, \"positiveIncrease\": 3209.0, \"death\": 25910.0, \"deathIncrease\": 18.0, \"positiveRate\": 0.02, \"state\": \"New York\", \"sma7d\": 2370.0}, {\"date\": \"2020-11-07T00:00:00\", \"totalTestResultsIncrease\": 163291.0, \"positiveIncrease\": 3587.0, \"death\": 25928.0, \"deathIncrease\": 18.0, \"positiveRate\": 0.022, \"state\": \"New York\", \"sma7d\": 2589.714}, {\"date\": \"2020-11-08T00:00:00\", \"totalTestResultsIncrease\": 145642.0, \"positiveIncrease\": 3428.0, \"death\": 25947.0, \"deathIncrease\": 19.0, \"positiveRate\": 0.024, \"state\": \"New York\", \"sma7d\": 2757.286}, {\"date\": \"2020-11-09T00:00:00\", \"totalTestResultsIncrease\": 111416.0, \"positiveIncrease\": 3144.0, \"death\": 25973.0, \"deathIncrease\": 26.0, \"positiveRate\": 0.028, \"state\": \"New York\", \"sma7d\": 2973.143}, {\"date\": \"2020-11-10T00:00:00\", \"totalTestResultsIncrease\": 128036.0, \"positiveIncrease\": 3965.0, \"death\": 26005.0, \"deathIncrease\": 32.0, \"positiveRate\": 0.031, \"state\": \"New York\", \"sma7d\": 3208.0}, {\"date\": \"2020-11-11T00:00:00\", \"totalTestResultsIncrease\": 164300.0, \"positiveIncrease\": 4820.0, \"death\": 26026.0, \"deathIncrease\": 21.0, \"positiveRate\": 0.029, \"state\": \"New York\", \"sma7d\": 3592.857}, {\"date\": \"2020-11-12T00:00:00\", \"totalTestResultsIncrease\": 162627.0, \"positiveIncrease\": 4797.0, \"death\": 26055.0, \"deathIncrease\": 29.0, \"positiveRate\": 0.029, \"state\": \"New York\", \"sma7d\": 3850.0}, {\"date\": \"2020-11-13T00:00:00\", \"totalTestResultsIncrease\": 203721.0, \"positiveIncrease\": 5401.0, \"death\": 26079.0, \"deathIncrease\": 24.0, \"positiveRate\": 0.027, \"state\": \"New York\", \"sma7d\": 4163.143}, {\"date\": \"2020-11-14T00:00:00\", \"totalTestResultsIncrease\": 184162.0, \"positiveIncrease\": 5388.0, \"death\": 26103.0, \"deathIncrease\": 24.0, \"positiveRate\": 0.029, \"state\": \"New York\", \"sma7d\": 4420.429}, {\"date\": \"2020-11-15T00:00:00\", \"totalTestResultsIncrease\": 133202.0, \"positiveIncrease\": 3649.0, \"death\": 26133.0, \"deathIncrease\": 30.0, \"positiveRate\": 0.027, \"state\": \"New York\", \"sma7d\": 4452.0}, {\"date\": \"2020-11-16T00:00:00\", \"totalTestResultsIncrease\": 124565.0, \"positiveIncrease\": 3490.0, \"death\": 26159.0, \"deathIncrease\": 26.0, \"positiveRate\": 0.028, \"state\": \"New York\", \"sma7d\": 4501.429}, {\"date\": \"2020-11-17T00:00:00\", \"totalTestResultsIncrease\": 159852.0, \"positiveIncrease\": 5088.0, \"death\": 26189.0, \"deathIncrease\": 30.0, \"positiveRate\": 0.032, \"state\": \"New York\", \"sma7d\": 4661.857}, {\"date\": \"2020-11-18T00:00:00\", \"totalTestResultsIncrease\": 154434.0, \"positiveIncrease\": 5294.0, \"death\": 26225.0, \"deathIncrease\": 36.0, \"positiveRate\": 0.034, \"state\": \"New York\", \"sma7d\": 4729.571}, {\"date\": \"2020-11-19T00:00:00\", \"totalTestResultsIncrease\": 195239.0, \"positiveIncrease\": 5310.0, \"death\": 26257.0, \"deathIncrease\": 32.0, \"positiveRate\": 0.027, \"state\": \"New York\", \"sma7d\": 4802.857}, {\"date\": \"2020-11-20T00:00:00\", \"totalTestResultsIncrease\": 205466.0, \"positiveIncrease\": 5468.0, \"death\": 26292.0, \"deathIncrease\": 35.0, \"positiveRate\": 0.027, \"state\": \"New York\", \"sma7d\": 4812.429}, {\"date\": \"2020-11-21T00:00:00\", \"totalTestResultsIncrease\": 207907.0, \"positiveIncrease\": 5972.0, \"death\": 26326.0, \"deathIncrease\": 34.0, \"positiveRate\": 0.029, \"state\": \"New York\", \"sma7d\": 4895.857}, {\"date\": \"2020-11-22T00:00:00\", \"totalTestResultsIncrease\": 196610.0, \"positiveIncrease\": 5392.0, \"death\": 26357.0, \"deathIncrease\": 31.0, \"positiveRate\": 0.027, \"state\": \"New York\", \"sma7d\": 5144.857}, {\"date\": \"2020-11-23T00:00:00\", \"totalTestResultsIncrease\": 191489.0, \"positiveIncrease\": 5906.0, \"death\": 26390.0, \"deathIncrease\": 33.0, \"positiveRate\": 0.031, \"state\": \"New York\", \"sma7d\": 5490.0}, {\"date\": \"2020-11-24T00:00:00\", \"totalTestResultsIncrease\": 164761.0, \"positiveIncrease\": 4881.0, \"death\": 26441.0, \"deathIncrease\": 51.0, \"positiveRate\": 0.03, \"state\": \"New York\", \"sma7d\": 5460.429}, {\"date\": \"2020-11-25T00:00:00\", \"totalTestResultsIncrease\": 173085.0, \"positiveIncrease\": 6265.0, \"death\": 26482.0, \"deathIncrease\": 41.0, \"positiveRate\": 0.036, \"state\": \"New York\", \"sma7d\": 5599.143}, {\"date\": \"2020-11-26T00:00:00\", \"totalTestResultsIncrease\": 217721.0, \"positiveIncrease\": 6933.0, \"death\": 26549.0, \"deathIncrease\": 67.0, \"positiveRate\": 0.032, \"state\": \"New York\", \"sma7d\": 5831.0}, {\"date\": \"2020-11-27T00:00:00\", \"totalTestResultsIncrease\": 219442.0, \"positiveIncrease\": 8176.0, \"death\": 26588.0, \"deathIncrease\": 39.0, \"positiveRate\": 0.037, \"state\": \"New York\", \"sma7d\": 6217.857}, {\"date\": \"2020-11-28T00:00:00\", \"totalTestResultsIncrease\": 152355.0, \"positiveIncrease\": 6063.0, \"death\": 26632.0, \"deathIncrease\": 44.0, \"positiveRate\": 0.04, \"state\": \"New York\", \"sma7d\": 6230.857}, {\"date\": \"2020-11-29T00:00:00\", \"totalTestResultsIncrease\": 157320.0, \"positiveIncrease\": 6723.0, \"death\": 26690.0, \"deathIncrease\": 58.0, \"positiveRate\": 0.043, \"state\": \"New York\", \"sma7d\": 6421.0}, {\"date\": \"2020-11-30T00:00:00\", \"totalTestResultsIncrease\": 148974.0, \"positiveIncrease\": 6819.0, \"death\": 26747.0, \"deathIncrease\": 57.0, \"positiveRate\": 0.046, \"state\": \"New York\", \"sma7d\": 6551.429}, {\"date\": \"2020-12-01T00:00:00\", \"totalTestResultsIncrease\": 146675.0, \"positiveIncrease\": 7285.0, \"death\": 26816.0, \"deathIncrease\": 69.0, \"positiveRate\": 0.05, \"state\": \"New York\", \"sma7d\": 6894.857}, {\"date\": \"2020-12-02T00:00:00\", \"totalTestResultsIncrease\": 193551.0, \"positiveIncrease\": 8973.0, \"death\": 26889.0, \"deathIncrease\": 73.0, \"positiveRate\": 0.046, \"state\": \"New York\", \"sma7d\": 7281.714}, {\"date\": \"2020-12-03T00:00:00\", \"totalTestResultsIncrease\": 203440.0, \"positiveIncrease\": 9855.0, \"death\": 26955.0, \"deathIncrease\": 66.0, \"positiveRate\": 0.048, \"state\": \"New York\", \"sma7d\": 7699.143}, {\"date\": \"2020-12-04T00:00:00\", \"totalTestResultsIncrease\": 208297.0, \"positiveIncrease\": 11271.0, \"death\": 27017.0, \"deathIncrease\": 62.0, \"positiveRate\": 0.054, \"state\": \"New York\", \"sma7d\": 8141.286}, {\"date\": \"2020-12-05T00:00:00\", \"totalTestResultsIncrease\": 215401.0, \"positiveIncrease\": 10761.0, \"death\": 27089.0, \"deathIncrease\": 72.0, \"positiveRate\": 0.05, \"state\": \"New York\", \"sma7d\": 8812.429}, {\"date\": \"2020-12-06T00:00:00\", \"totalTestResultsIncrease\": 205832.0, \"positiveIncrease\": 9702.0, \"death\": 27149.0, \"deathIncrease\": 60.0, \"positiveRate\": 0.047, \"state\": \"New York\", \"sma7d\": 9238.0}, {\"date\": \"2020-12-07T00:00:00\", \"totalTestResultsIncrease\": 152287.0, \"positiveIncrease\": 7302.0, \"death\": 27232.0, \"deathIncrease\": 83.0, \"positiveRate\": 0.048, \"state\": \"New York\", \"sma7d\": 9307.0}, {\"date\": \"2020-12-08T00:00:00\", \"totalTestResultsIncrease\": 162464.0, \"positiveIncrease\": 9335.0, \"death\": 27307.0, \"deathIncrease\": 75.0, \"positiveRate\": 0.057, \"state\": \"New York\", \"sma7d\": 9599.857}, {\"date\": \"2020-12-09T00:00:00\", \"totalTestResultsIncrease\": 194595.0, \"positiveIncrease\": 10600.0, \"death\": 27404.0, \"deathIncrease\": 97.0, \"positiveRate\": 0.054, \"state\": \"New York\", \"sma7d\": 9832.286}, {\"date\": \"2020-12-10T00:00:00\", \"totalTestResultsIncrease\": 197406.0, \"positiveIncrease\": 10178.0, \"death\": 27498.0, \"deathIncrease\": 94.0, \"positiveRate\": 0.052, \"state\": \"New York\", \"sma7d\": 9878.429}, {\"date\": \"2020-12-11T00:00:00\", \"totalTestResultsIncrease\": 212672.0, \"positiveIncrease\": 10595.0, \"death\": 27587.0, \"deathIncrease\": 89.0, \"positiveRate\": 0.05, \"state\": \"New York\", \"sma7d\": 9781.857}, {\"date\": \"2020-12-12T00:00:00\", \"totalTestResultsIncrease\": 242927.0, \"positiveIncrease\": 11129.0, \"death\": 27675.0, \"deathIncrease\": 88.0, \"positiveRate\": 0.046, \"state\": \"New York\", \"sma7d\": 9834.429}, {\"date\": \"2020-12-13T00:00:00\", \"totalTestResultsIncrease\": 205250.0, \"positiveIncrease\": 10194.0, \"death\": 27785.0, \"deathIncrease\": 110.0, \"positiveRate\": 0.05, \"state\": \"New York\", \"sma7d\": 9904.714}, {\"date\": \"2020-12-14T00:00:00\", \"totalTestResultsIncrease\": 159844.0, \"positiveIncrease\": 9044.0, \"death\": 27870.0, \"deathIncrease\": 85.0, \"positiveRate\": 0.057, \"state\": \"New York\", \"sma7d\": 10153.571}, {\"date\": \"2020-12-15T00:00:00\", \"totalTestResultsIncrease\": 194188.0, \"positiveIncrease\": 10353.0, \"death\": 28002.0, \"deathIncrease\": 132.0, \"positiveRate\": 0.053, \"state\": \"New York\", \"sma7d\": 10299.0}, {\"date\": \"2020-12-16T00:00:00\", \"totalTestResultsIncrease\": 160947.0, \"positiveIncrease\": 9998.0, \"death\": 28100.0, \"deathIncrease\": 98.0, \"positiveRate\": 0.062, \"state\": \"New York\", \"sma7d\": 10213.0}, {\"date\": \"2020-12-17T00:00:00\", \"totalTestResultsIncrease\": 202772.0, \"positiveIncrease\": 10914.0, \"death\": 28222.0, \"deathIncrease\": 122.0, \"positiveRate\": 0.054, \"state\": \"New York\", \"sma7d\": 10318.143}, {\"date\": \"2020-12-18T00:00:00\", \"totalTestResultsIncrease\": 249385.0, \"positiveIncrease\": 12697.0, \"death\": 28344.0, \"deathIncrease\": 122.0, \"positiveRate\": 0.051, \"state\": \"New York\", \"sma7d\": 10618.429}, {\"date\": \"2020-12-19T00:00:00\", \"totalTestResultsIncrease\": 191476.0, \"positiveIncrease\": 9919.0, \"death\": 28474.0, \"deathIncrease\": 130.0, \"positiveRate\": 0.052, \"state\": \"New York\", \"sma7d\": 10445.571}, {\"date\": \"2020-12-20T00:00:00\", \"totalTestResultsIncrease\": 197251.0, \"positiveIncrease\": 9957.0, \"death\": 28598.0, \"deathIncrease\": 124.0, \"positiveRate\": 0.05, \"state\": \"New York\", \"sma7d\": 10411.714}, {\"date\": \"2020-12-21T00:00:00\", \"totalTestResultsIncrease\": 156510.0, \"positiveIncrease\": 9007.0, \"death\": 28709.0, \"deathIncrease\": 111.0, \"positiveRate\": 0.058, \"state\": \"New York\", \"sma7d\": 10406.429}, {\"date\": \"2020-12-22T00:00:00\", \"totalTestResultsIncrease\": 164868.0, \"positiveIncrease\": 9716.0, \"death\": 28850.0, \"deathIncrease\": 141.0, \"positiveRate\": 0.059, \"state\": \"New York\", \"sma7d\": 10315.429}, {\"date\": \"2020-12-23T00:00:00\", \"totalTestResultsIncrease\": 204361.0, \"positiveIncrease\": 11937.0, \"death\": 29016.0, \"deathIncrease\": 166.0, \"positiveRate\": 0.058, \"state\": \"New York\", \"sma7d\": 10592.429}, {\"date\": \"2020-12-24T00:00:00\", \"totalTestResultsIncrease\": 226296.0, \"positiveIncrease\": 12568.0, \"death\": 29149.0, \"deathIncrease\": 133.0, \"positiveRate\": 0.056, \"state\": \"New York\", \"sma7d\": 10828.714}, {\"date\": \"2020-12-25T00:00:00\", \"totalTestResultsIncrease\": 226560.0, \"positiveIncrease\": 12446.0, \"death\": 29270.0, \"deathIncrease\": 121.0, \"positiveRate\": 0.055, \"state\": \"New York\", \"sma7d\": 10792.857}, {\"date\": \"2020-12-26T00:00:00\", \"totalTestResultsIncrease\": 201442.0, \"positiveIncrease\": 10806.0, \"death\": 29396.0, \"deathIncrease\": 126.0, \"positiveRate\": 0.054, \"state\": \"New York\", \"sma7d\": 10919.571}, {\"date\": \"2020-12-27T00:00:00\", \"totalTestResultsIncrease\": 130299.0, \"positiveIncrease\": 7623.0, \"death\": 29511.0, \"deathIncrease\": 115.0, \"positiveRate\": 0.059, \"state\": \"New York\", \"sma7d\": 10586.143}, {\"date\": \"2020-12-28T00:00:00\", \"totalTestResultsIncrease\": 124866.0, \"positiveIncrease\": 10407.0, \"death\": 29629.0, \"deathIncrease\": 118.0, \"positiveRate\": 0.083, \"state\": \"New York\", \"sma7d\": 10786.143}, {\"date\": \"2020-12-29T00:00:00\", \"totalTestResultsIncrease\": 160164.0, \"positiveIncrease\": 11438.0, \"death\": 29756.0, \"deathIncrease\": 127.0, \"positiveRate\": 0.071, \"state\": \"New York\", \"sma7d\": 11032.143}]}}, {\"mode\": \"vega-lite\"});\n",
       "</script>"
      ],
      "text/plain": [
       "alt.LayerChart(...)"
      ]
     },
     "execution_count": 11,
     "metadata": {},
     "output_type": "execute_result"
    }
   ],
   "source": [
    "create_plot(ny, 'positiveIncrease')"
   ]
  },
  {
   "cell_type": "code",
   "execution_count": 12,
   "metadata": {
    "execution": {
     "iopub.execute_input": "2020-12-30T09:27:50.032761Z",
     "iopub.status.busy": "2020-12-30T09:27:50.022499Z",
     "iopub.status.idle": "2020-12-30T09:27:50.105016Z",
     "shell.execute_reply": "2020-12-30T09:27:50.104523Z"
    },
    "papermill": {
     "duration": 0.111505,
     "end_time": "2020-12-30T09:27:50.105147",
     "exception": false,
     "start_time": "2020-12-30T09:27:49.993642",
     "status": "completed"
    },
    "tags": []
   },
   "outputs": [
    {
     "data": {
      "text/html": [
       "\n",
       "<div id=\"altair-viz-565e6e58caf74faface58ae790e4c1f2\"></div>\n",
       "<script type=\"text/javascript\">\n",
       "  (function(spec, embedOpt){\n",
       "    let outputDiv = document.currentScript.previousElementSibling;\n",
       "    if (outputDiv.id !== \"altair-viz-565e6e58caf74faface58ae790e4c1f2\") {\n",
       "      outputDiv = document.getElementById(\"altair-viz-565e6e58caf74faface58ae790e4c1f2\");\n",
       "    }\n",
       "    const paths = {\n",
       "      \"vega\": \"https://cdn.jsdelivr.net/npm//vega@5?noext\",\n",
       "      \"vega-lib\": \"https://cdn.jsdelivr.net/npm//vega-lib?noext\",\n",
       "      \"vega-lite\": \"https://cdn.jsdelivr.net/npm//vega-lite@4.8.1?noext\",\n",
       "      \"vega-embed\": \"https://cdn.jsdelivr.net/npm//vega-embed@6?noext\",\n",
       "    };\n",
       "\n",
       "    function loadScript(lib) {\n",
       "      return new Promise(function(resolve, reject) {\n",
       "        var s = document.createElement('script');\n",
       "        s.src = paths[lib];\n",
       "        s.async = true;\n",
       "        s.onload = () => resolve(paths[lib]);\n",
       "        s.onerror = () => reject(`Error loading script: ${paths[lib]}`);\n",
       "        document.getElementsByTagName(\"head\")[0].appendChild(s);\n",
       "      });\n",
       "    }\n",
       "\n",
       "    function showError(err) {\n",
       "      outputDiv.innerHTML = `<div class=\"error\" style=\"color:red;\">${err}</div>`;\n",
       "      throw err;\n",
       "    }\n",
       "\n",
       "    function displayChart(vegaEmbed) {\n",
       "      vegaEmbed(outputDiv, spec, embedOpt)\n",
       "        .catch(err => showError(`Javascript Error: ${err.message}<br>This usually means there's a typo in your chart specification. See the javascript console for the full traceback.`));\n",
       "    }\n",
       "\n",
       "    if(typeof define === \"function\" && define.amd) {\n",
       "      requirejs.config({paths});\n",
       "      require([\"vega-embed\"], displayChart, err => showError(`Error loading script: ${err.message}`));\n",
       "    } else if (typeof vegaEmbed === \"function\") {\n",
       "      displayChart(vegaEmbed);\n",
       "    } else {\n",
       "      loadScript(\"vega\")\n",
       "        .then(() => loadScript(\"vega-lite\"))\n",
       "        .then(() => loadScript(\"vega-embed\"))\n",
       "        .catch(showError)\n",
       "        .then(() => displayChart(vegaEmbed));\n",
       "    }\n",
       "  })({\"config\": {\"view\": {\"continuousWidth\": 400, \"continuousHeight\": 300}}, \"layer\": [{\"layer\": [{\"mark\": {\"type\": \"point\", \"size\": 75}, \"encoding\": {\"tooltip\": [{\"type\": \"temporal\", \"field\": \"date\"}, {\"type\": \"quantitative\", \"field\": \"positiveRate\"}, {\"type\": \"quantitative\", \"field\": \"sma7d\"}], \"x\": {\"type\": \"temporal\", \"field\": \"date\"}, \"y\": {\"type\": \"quantitative\", \"field\": \"positiveRate\"}}, \"selection\": {\"selector010\": {\"type\": \"interval\", \"bind\": \"scales\", \"encodings\": [\"x\", \"y\"]}}}, {\"mark\": {\"type\": \"line\", \"color\": \"purple\"}, \"encoding\": {\"x\": {\"type\": \"temporal\", \"field\": \"date\"}, \"y\": {\"type\": \"quantitative\", \"field\": \"sma7d\"}}}]}, {\"mark\": {\"type\": \"rule\", \"color\": \"#aaa\"}, \"encoding\": {\"x\": {\"type\": \"temporal\", \"field\": \"date\"}}, \"transform\": [{\"filter\": {\"selection\": \"selector009\"}}]}, {\"mark\": \"circle\", \"encoding\": {\"opacity\": {\"condition\": {\"value\": 1, \"selection\": \"selector009\"}, \"value\": 0}, \"tooltip\": [{\"type\": \"temporal\", \"field\": \"date\"}, {\"type\": \"quantitative\", \"field\": \"positiveRate\"}, {\"type\": \"quantitative\", \"field\": \"sma7d\"}], \"x\": {\"type\": \"temporal\", \"field\": \"date\"}, \"y\": {\"type\": \"quantitative\", \"field\": \"positiveRate\"}}, \"selection\": {\"selector009\": {\"type\": \"single\", \"encodings\": [\"x\"], \"on\": \"mouseover\", \"nearest\": true, \"empty\": \"none\"}}}, {\"mark\": {\"type\": \"text\", \"align\": \"left\", \"dx\": 5, \"dy\": -5, \"stroke\": \"white\", \"strokeWidth\": 2}, \"encoding\": {\"text\": {\"type\": \"quantitative\", \"field\": \"positiveRate\"}, \"tooltip\": [{\"type\": \"temporal\", \"field\": \"date\"}, {\"type\": \"quantitative\", \"field\": \"positiveRate\"}, {\"type\": \"quantitative\", \"field\": \"sma7d\"}], \"x\": {\"type\": \"temporal\", \"field\": \"date\"}, \"y\": {\"type\": \"quantitative\", \"field\": \"positiveRate\"}}, \"transform\": [{\"filter\": {\"selection\": \"selector009\"}}]}, {\"mark\": {\"type\": \"text\", \"align\": \"left\", \"dx\": 5, \"dy\": -5}, \"encoding\": {\"text\": {\"type\": \"quantitative\", \"field\": \"positiveRate\"}, \"tooltip\": [{\"type\": \"temporal\", \"field\": \"date\"}, {\"type\": \"quantitative\", \"field\": \"positiveRate\"}, {\"type\": \"quantitative\", \"field\": \"sma7d\"}], \"x\": {\"type\": \"temporal\", \"field\": \"date\"}, \"y\": {\"type\": \"quantitative\", \"field\": \"positiveRate\"}}, \"transform\": [{\"filter\": {\"selection\": \"selector009\"}}]}], \"data\": {\"name\": \"data-645f9011b269fa629ec64c06f2125328\"}, \"height\": 400, \"title\": \"New York: positiveRate\", \"width\": 500, \"$schema\": \"https://vega.github.io/schema/vega-lite/v4.8.1.json\", \"datasets\": {\"data-645f9011b269fa629ec64c06f2125328\": [{\"date\": \"2020-11-05T00:00:00\", \"totalTestResultsIncrease\": 161019.0, \"positiveIncrease\": 2997.0, \"death\": 25892.0, \"deathIncrease\": 24.0, \"positiveRate\": 0.019, \"state\": \"New York\", \"sma7d\": 0.016}, {\"date\": \"2020-11-06T00:00:00\", \"totalTestResultsIncrease\": 160705.0, \"positiveIncrease\": 3209.0, \"death\": 25910.0, \"deathIncrease\": 18.0, \"positiveRate\": 0.02, \"state\": \"New York\", \"sma7d\": 0.017}, {\"date\": \"2020-11-07T00:00:00\", \"totalTestResultsIncrease\": 163291.0, \"positiveIncrease\": 3587.0, \"death\": 25928.0, \"deathIncrease\": 18.0, \"positiveRate\": 0.022, \"state\": \"New York\", \"sma7d\": 0.018}, {\"date\": \"2020-11-08T00:00:00\", \"totalTestResultsIncrease\": 145642.0, \"positiveIncrease\": 3428.0, \"death\": 25947.0, \"deathIncrease\": 19.0, \"positiveRate\": 0.024, \"state\": \"New York\", \"sma7d\": 0.019}, {\"date\": \"2020-11-09T00:00:00\", \"totalTestResultsIncrease\": 111416.0, \"positiveIncrease\": 3144.0, \"death\": 25973.0, \"deathIncrease\": 26.0, \"positiveRate\": 0.028, \"state\": \"New York\", \"sma7d\": 0.021}, {\"date\": \"2020-11-10T00:00:00\", \"totalTestResultsIncrease\": 128036.0, \"positiveIncrease\": 3965.0, \"death\": 26005.0, \"deathIncrease\": 32.0, \"positiveRate\": 0.031, \"state\": \"New York\", \"sma7d\": 0.023}, {\"date\": \"2020-11-11T00:00:00\", \"totalTestResultsIncrease\": 164300.0, \"positiveIncrease\": 4820.0, \"death\": 26026.0, \"deathIncrease\": 21.0, \"positiveRate\": 0.029, \"state\": \"New York\", \"sma7d\": 0.025}, {\"date\": \"2020-11-12T00:00:00\", \"totalTestResultsIncrease\": 162627.0, \"positiveIncrease\": 4797.0, \"death\": 26055.0, \"deathIncrease\": 29.0, \"positiveRate\": 0.029, \"state\": \"New York\", \"sma7d\": 0.026}, {\"date\": \"2020-11-13T00:00:00\", \"totalTestResultsIncrease\": 203721.0, \"positiveIncrease\": 5401.0, \"death\": 26079.0, \"deathIncrease\": 24.0, \"positiveRate\": 0.027, \"state\": \"New York\", \"sma7d\": 0.027}, {\"date\": \"2020-11-14T00:00:00\", \"totalTestResultsIncrease\": 184162.0, \"positiveIncrease\": 5388.0, \"death\": 26103.0, \"deathIncrease\": 24.0, \"positiveRate\": 0.029, \"state\": \"New York\", \"sma7d\": 0.028}, {\"date\": \"2020-11-15T00:00:00\", \"totalTestResultsIncrease\": 133202.0, \"positiveIncrease\": 3649.0, \"death\": 26133.0, \"deathIncrease\": 30.0, \"positiveRate\": 0.027, \"state\": \"New York\", \"sma7d\": 0.029}, {\"date\": \"2020-11-16T00:00:00\", \"totalTestResultsIncrease\": 124565.0, \"positiveIncrease\": 3490.0, \"death\": 26159.0, \"deathIncrease\": 26.0, \"positiveRate\": 0.028, \"state\": \"New York\", \"sma7d\": 0.029}, {\"date\": \"2020-11-17T00:00:00\", \"totalTestResultsIncrease\": 159852.0, \"positiveIncrease\": 5088.0, \"death\": 26189.0, \"deathIncrease\": 30.0, \"positiveRate\": 0.032, \"state\": \"New York\", \"sma7d\": 0.029}, {\"date\": \"2020-11-18T00:00:00\", \"totalTestResultsIncrease\": 154434.0, \"positiveIncrease\": 5294.0, \"death\": 26225.0, \"deathIncrease\": 36.0, \"positiveRate\": 0.034, \"state\": \"New York\", \"sma7d\": 0.029}, {\"date\": \"2020-11-19T00:00:00\", \"totalTestResultsIncrease\": 195239.0, \"positiveIncrease\": 5310.0, \"death\": 26257.0, \"deathIncrease\": 32.0, \"positiveRate\": 0.027, \"state\": \"New York\", \"sma7d\": 0.029}, {\"date\": \"2020-11-20T00:00:00\", \"totalTestResultsIncrease\": 205466.0, \"positiveIncrease\": 5468.0, \"death\": 26292.0, \"deathIncrease\": 35.0, \"positiveRate\": 0.027, \"state\": \"New York\", \"sma7d\": 0.029}, {\"date\": \"2020-11-21T00:00:00\", \"totalTestResultsIncrease\": 207907.0, \"positiveIncrease\": 5972.0, \"death\": 26326.0, \"deathIncrease\": 34.0, \"positiveRate\": 0.029, \"state\": \"New York\", \"sma7d\": 0.029}, {\"date\": \"2020-11-22T00:00:00\", \"totalTestResultsIncrease\": 196610.0, \"positiveIncrease\": 5392.0, \"death\": 26357.0, \"deathIncrease\": 31.0, \"positiveRate\": 0.027, \"state\": \"New York\", \"sma7d\": 0.029}, {\"date\": \"2020-11-23T00:00:00\", \"totalTestResultsIncrease\": 191489.0, \"positiveIncrease\": 5906.0, \"death\": 26390.0, \"deathIncrease\": 33.0, \"positiveRate\": 0.031, \"state\": \"New York\", \"sma7d\": 0.03}, {\"date\": \"2020-11-24T00:00:00\", \"totalTestResultsIncrease\": 164761.0, \"positiveIncrease\": 4881.0, \"death\": 26441.0, \"deathIncrease\": 51.0, \"positiveRate\": 0.03, \"state\": \"New York\", \"sma7d\": 0.029}, {\"date\": \"2020-11-25T00:00:00\", \"totalTestResultsIncrease\": 173085.0, \"positiveIncrease\": 6265.0, \"death\": 26482.0, \"deathIncrease\": 41.0, \"positiveRate\": 0.036, \"state\": \"New York\", \"sma7d\": 0.03}, {\"date\": \"2020-11-26T00:00:00\", \"totalTestResultsIncrease\": 217721.0, \"positiveIncrease\": 6933.0, \"death\": 26549.0, \"deathIncrease\": 67.0, \"positiveRate\": 0.032, \"state\": \"New York\", \"sma7d\": 0.03}, {\"date\": \"2020-11-27T00:00:00\", \"totalTestResultsIncrease\": 219442.0, \"positiveIncrease\": 8176.0, \"death\": 26588.0, \"deathIncrease\": 39.0, \"positiveRate\": 0.037, \"state\": \"New York\", \"sma7d\": 0.032}, {\"date\": \"2020-11-28T00:00:00\", \"totalTestResultsIncrease\": 152355.0, \"positiveIncrease\": 6063.0, \"death\": 26632.0, \"deathIncrease\": 44.0, \"positiveRate\": 0.04, \"state\": \"New York\", \"sma7d\": 0.033}, {\"date\": \"2020-11-29T00:00:00\", \"totalTestResultsIncrease\": 157320.0, \"positiveIncrease\": 6723.0, \"death\": 26690.0, \"deathIncrease\": 58.0, \"positiveRate\": 0.043, \"state\": \"New York\", \"sma7d\": 0.036}, {\"date\": \"2020-11-30T00:00:00\", \"totalTestResultsIncrease\": 148974.0, \"positiveIncrease\": 6819.0, \"death\": 26747.0, \"deathIncrease\": 57.0, \"positiveRate\": 0.046, \"state\": \"New York\", \"sma7d\": 0.038}, {\"date\": \"2020-12-01T00:00:00\", \"totalTestResultsIncrease\": 146675.0, \"positiveIncrease\": 7285.0, \"death\": 26816.0, \"deathIncrease\": 69.0, \"positiveRate\": 0.05, \"state\": \"New York\", \"sma7d\": 0.041}, {\"date\": \"2020-12-02T00:00:00\", \"totalTestResultsIncrease\": 193551.0, \"positiveIncrease\": 8973.0, \"death\": 26889.0, \"deathIncrease\": 73.0, \"positiveRate\": 0.046, \"state\": \"New York\", \"sma7d\": 0.042}, {\"date\": \"2020-12-03T00:00:00\", \"totalTestResultsIncrease\": 203440.0, \"positiveIncrease\": 9855.0, \"death\": 26955.0, \"deathIncrease\": 66.0, \"positiveRate\": 0.048, \"state\": \"New York\", \"sma7d\": 0.044}, {\"date\": \"2020-12-04T00:00:00\", \"totalTestResultsIncrease\": 208297.0, \"positiveIncrease\": 11271.0, \"death\": 27017.0, \"deathIncrease\": 62.0, \"positiveRate\": 0.054, \"state\": \"New York\", \"sma7d\": 0.047}, {\"date\": \"2020-12-05T00:00:00\", \"totalTestResultsIncrease\": 215401.0, \"positiveIncrease\": 10761.0, \"death\": 27089.0, \"deathIncrease\": 72.0, \"positiveRate\": 0.05, \"state\": \"New York\", \"sma7d\": 0.048}, {\"date\": \"2020-12-06T00:00:00\", \"totalTestResultsIncrease\": 205832.0, \"positiveIncrease\": 9702.0, \"death\": 27149.0, \"deathIncrease\": 60.0, \"positiveRate\": 0.047, \"state\": \"New York\", \"sma7d\": 0.049}, {\"date\": \"2020-12-07T00:00:00\", \"totalTestResultsIncrease\": 152287.0, \"positiveIncrease\": 7302.0, \"death\": 27232.0, \"deathIncrease\": 83.0, \"positiveRate\": 0.048, \"state\": \"New York\", \"sma7d\": 0.049}, {\"date\": \"2020-12-08T00:00:00\", \"totalTestResultsIncrease\": 162464.0, \"positiveIncrease\": 9335.0, \"death\": 27307.0, \"deathIncrease\": 75.0, \"positiveRate\": 0.057, \"state\": \"New York\", \"sma7d\": 0.05}, {\"date\": \"2020-12-09T00:00:00\", \"totalTestResultsIncrease\": 194595.0, \"positiveIncrease\": 10600.0, \"death\": 27404.0, \"deathIncrease\": 97.0, \"positiveRate\": 0.054, \"state\": \"New York\", \"sma7d\": 0.051}, {\"date\": \"2020-12-10T00:00:00\", \"totalTestResultsIncrease\": 197406.0, \"positiveIncrease\": 10178.0, \"death\": 27498.0, \"deathIncrease\": 94.0, \"positiveRate\": 0.052, \"state\": \"New York\", \"sma7d\": 0.052}, {\"date\": \"2020-12-11T00:00:00\", \"totalTestResultsIncrease\": 212672.0, \"positiveIncrease\": 10595.0, \"death\": 27587.0, \"deathIncrease\": 89.0, \"positiveRate\": 0.05, \"state\": \"New York\", \"sma7d\": 0.051}, {\"date\": \"2020-12-12T00:00:00\", \"totalTestResultsIncrease\": 242927.0, \"positiveIncrease\": 11129.0, \"death\": 27675.0, \"deathIncrease\": 88.0, \"positiveRate\": 0.046, \"state\": \"New York\", \"sma7d\": 0.051}, {\"date\": \"2020-12-13T00:00:00\", \"totalTestResultsIncrease\": 205250.0, \"positiveIncrease\": 10194.0, \"death\": 27785.0, \"deathIncrease\": 110.0, \"positiveRate\": 0.05, \"state\": \"New York\", \"sma7d\": 0.051}, {\"date\": \"2020-12-14T00:00:00\", \"totalTestResultsIncrease\": 159844.0, \"positiveIncrease\": 9044.0, \"death\": 27870.0, \"deathIncrease\": 85.0, \"positiveRate\": 0.057, \"state\": \"New York\", \"sma7d\": 0.052}, {\"date\": \"2020-12-15T00:00:00\", \"totalTestResultsIncrease\": 194188.0, \"positiveIncrease\": 10353.0, \"death\": 28002.0, \"deathIncrease\": 132.0, \"positiveRate\": 0.053, \"state\": \"New York\", \"sma7d\": 0.052}, {\"date\": \"2020-12-16T00:00:00\", \"totalTestResultsIncrease\": 160947.0, \"positiveIncrease\": 9998.0, \"death\": 28100.0, \"deathIncrease\": 98.0, \"positiveRate\": 0.062, \"state\": \"New York\", \"sma7d\": 0.053}, {\"date\": \"2020-12-17T00:00:00\", \"totalTestResultsIncrease\": 202772.0, \"positiveIncrease\": 10914.0, \"death\": 28222.0, \"deathIncrease\": 122.0, \"positiveRate\": 0.054, \"state\": \"New York\", \"sma7d\": 0.053}, {\"date\": \"2020-12-18T00:00:00\", \"totalTestResultsIncrease\": 249385.0, \"positiveIncrease\": 12697.0, \"death\": 28344.0, \"deathIncrease\": 122.0, \"positiveRate\": 0.051, \"state\": \"New York\", \"sma7d\": 0.053}, {\"date\": \"2020-12-19T00:00:00\", \"totalTestResultsIncrease\": 191476.0, \"positiveIncrease\": 9919.0, \"death\": 28474.0, \"deathIncrease\": 130.0, \"positiveRate\": 0.052, \"state\": \"New York\", \"sma7d\": 0.054}, {\"date\": \"2020-12-20T00:00:00\", \"totalTestResultsIncrease\": 197251.0, \"positiveIncrease\": 9957.0, \"death\": 28598.0, \"deathIncrease\": 124.0, \"positiveRate\": 0.05, \"state\": \"New York\", \"sma7d\": 0.054}, {\"date\": \"2020-12-21T00:00:00\", \"totalTestResultsIncrease\": 156510.0, \"positiveIncrease\": 9007.0, \"death\": 28709.0, \"deathIncrease\": 111.0, \"positiveRate\": 0.058, \"state\": \"New York\", \"sma7d\": 0.054}, {\"date\": \"2020-12-22T00:00:00\", \"totalTestResultsIncrease\": 164868.0, \"positiveIncrease\": 9716.0, \"death\": 28850.0, \"deathIncrease\": 141.0, \"positiveRate\": 0.059, \"state\": \"New York\", \"sma7d\": 0.055}, {\"date\": \"2020-12-23T00:00:00\", \"totalTestResultsIncrease\": 204361.0, \"positiveIncrease\": 11937.0, \"death\": 29016.0, \"deathIncrease\": 166.0, \"positiveRate\": 0.058, \"state\": \"New York\", \"sma7d\": 0.055}, {\"date\": \"2020-12-24T00:00:00\", \"totalTestResultsIncrease\": 226296.0, \"positiveIncrease\": 12568.0, \"death\": 29149.0, \"deathIncrease\": 133.0, \"positiveRate\": 0.056, \"state\": \"New York\", \"sma7d\": 0.055}, {\"date\": \"2020-12-25T00:00:00\", \"totalTestResultsIncrease\": 226560.0, \"positiveIncrease\": 12446.0, \"death\": 29270.0, \"deathIncrease\": 121.0, \"positiveRate\": 0.055, \"state\": \"New York\", \"sma7d\": 0.055}, {\"date\": \"2020-12-26T00:00:00\", \"totalTestResultsIncrease\": 201442.0, \"positiveIncrease\": 10806.0, \"death\": 29396.0, \"deathIncrease\": 126.0, \"positiveRate\": 0.054, \"state\": \"New York\", \"sma7d\": 0.056}, {\"date\": \"2020-12-27T00:00:00\", \"totalTestResultsIncrease\": 130299.0, \"positiveIncrease\": 7623.0, \"death\": 29511.0, \"deathIncrease\": 115.0, \"positiveRate\": 0.059, \"state\": \"New York\", \"sma7d\": 0.057}, {\"date\": \"2020-12-28T00:00:00\", \"totalTestResultsIncrease\": 124866.0, \"positiveIncrease\": 10407.0, \"death\": 29629.0, \"deathIncrease\": 118.0, \"positiveRate\": 0.083, \"state\": \"New York\", \"sma7d\": 0.061}, {\"date\": \"2020-12-29T00:00:00\", \"totalTestResultsIncrease\": 160164.0, \"positiveIncrease\": 11438.0, \"death\": 29756.0, \"deathIncrease\": 127.0, \"positiveRate\": 0.071, \"state\": \"New York\", \"sma7d\": 0.062}]}}, {\"mode\": \"vega-lite\"});\n",
       "</script>"
      ],
      "text/plain": [
       "alt.LayerChart(...)"
      ]
     },
     "execution_count": 12,
     "metadata": {},
     "output_type": "execute_result"
    }
   ],
   "source": [
    "create_plot(ny, 'positiveRate')"
   ]
  },
  {
   "cell_type": "code",
   "execution_count": 13,
   "metadata": {
    "execution": {
     "iopub.execute_input": "2020-12-30T09:27:50.141919Z",
     "iopub.status.busy": "2020-12-30T09:27:50.141359Z",
     "iopub.status.idle": "2020-12-30T09:27:50.232103Z",
     "shell.execute_reply": "2020-12-30T09:27:50.231642Z"
    },
    "papermill": {
     "duration": 0.110585,
     "end_time": "2020-12-30T09:27:50.232235",
     "exception": false,
     "start_time": "2020-12-30T09:27:50.121650",
     "status": "completed"
    },
    "tags": []
   },
   "outputs": [
    {
     "data": {
      "text/html": [
       "\n",
       "<div id=\"altair-viz-83428615fe47409dbc126bc89162ffab\"></div>\n",
       "<script type=\"text/javascript\">\n",
       "  (function(spec, embedOpt){\n",
       "    let outputDiv = document.currentScript.previousElementSibling;\n",
       "    if (outputDiv.id !== \"altair-viz-83428615fe47409dbc126bc89162ffab\") {\n",
       "      outputDiv = document.getElementById(\"altair-viz-83428615fe47409dbc126bc89162ffab\");\n",
       "    }\n",
       "    const paths = {\n",
       "      \"vega\": \"https://cdn.jsdelivr.net/npm//vega@5?noext\",\n",
       "      \"vega-lib\": \"https://cdn.jsdelivr.net/npm//vega-lib?noext\",\n",
       "      \"vega-lite\": \"https://cdn.jsdelivr.net/npm//vega-lite@4.8.1?noext\",\n",
       "      \"vega-embed\": \"https://cdn.jsdelivr.net/npm//vega-embed@6?noext\",\n",
       "    };\n",
       "\n",
       "    function loadScript(lib) {\n",
       "      return new Promise(function(resolve, reject) {\n",
       "        var s = document.createElement('script');\n",
       "        s.src = paths[lib];\n",
       "        s.async = true;\n",
       "        s.onload = () => resolve(paths[lib]);\n",
       "        s.onerror = () => reject(`Error loading script: ${paths[lib]}`);\n",
       "        document.getElementsByTagName(\"head\")[0].appendChild(s);\n",
       "      });\n",
       "    }\n",
       "\n",
       "    function showError(err) {\n",
       "      outputDiv.innerHTML = `<div class=\"error\" style=\"color:red;\">${err}</div>`;\n",
       "      throw err;\n",
       "    }\n",
       "\n",
       "    function displayChart(vegaEmbed) {\n",
       "      vegaEmbed(outputDiv, spec, embedOpt)\n",
       "        .catch(err => showError(`Javascript Error: ${err.message}<br>This usually means there's a typo in your chart specification. See the javascript console for the full traceback.`));\n",
       "    }\n",
       "\n",
       "    if(typeof define === \"function\" && define.amd) {\n",
       "      requirejs.config({paths});\n",
       "      require([\"vega-embed\"], displayChart, err => showError(`Error loading script: ${err.message}`));\n",
       "    } else if (typeof vegaEmbed === \"function\") {\n",
       "      displayChart(vegaEmbed);\n",
       "    } else {\n",
       "      loadScript(\"vega\")\n",
       "        .then(() => loadScript(\"vega-lite\"))\n",
       "        .then(() => loadScript(\"vega-embed\"))\n",
       "        .catch(showError)\n",
       "        .then(() => displayChart(vegaEmbed));\n",
       "    }\n",
       "  })({\"config\": {\"view\": {\"continuousWidth\": 400, \"continuousHeight\": 300}}, \"layer\": [{\"layer\": [{\"mark\": {\"type\": \"point\", \"size\": 75}, \"encoding\": {\"tooltip\": [{\"type\": \"temporal\", \"field\": \"date\"}, {\"type\": \"quantitative\", \"field\": \"deathIncrease\"}, {\"type\": \"quantitative\", \"field\": \"sma7d\"}], \"x\": {\"type\": \"temporal\", \"field\": \"date\"}, \"y\": {\"type\": \"quantitative\", \"field\": \"deathIncrease\"}}, \"selection\": {\"selector012\": {\"type\": \"interval\", \"bind\": \"scales\", \"encodings\": [\"x\", \"y\"]}}}, {\"mark\": {\"type\": \"line\", \"color\": \"purple\"}, \"encoding\": {\"x\": {\"type\": \"temporal\", \"field\": \"date\"}, \"y\": {\"type\": \"quantitative\", \"field\": \"sma7d\"}}}]}, {\"mark\": {\"type\": \"rule\", \"color\": \"#aaa\"}, \"encoding\": {\"x\": {\"type\": \"temporal\", \"field\": \"date\"}}, \"transform\": [{\"filter\": {\"selection\": \"selector011\"}}]}, {\"mark\": \"circle\", \"encoding\": {\"opacity\": {\"condition\": {\"value\": 1, \"selection\": \"selector011\"}, \"value\": 0}, \"tooltip\": [{\"type\": \"temporal\", \"field\": \"date\"}, {\"type\": \"quantitative\", \"field\": \"deathIncrease\"}, {\"type\": \"quantitative\", \"field\": \"sma7d\"}], \"x\": {\"type\": \"temporal\", \"field\": \"date\"}, \"y\": {\"type\": \"quantitative\", \"field\": \"deathIncrease\"}}, \"selection\": {\"selector011\": {\"type\": \"single\", \"encodings\": [\"x\"], \"on\": \"mouseover\", \"nearest\": true, \"empty\": \"none\"}}}, {\"mark\": {\"type\": \"text\", \"align\": \"left\", \"dx\": 5, \"dy\": -5, \"stroke\": \"white\", \"strokeWidth\": 2}, \"encoding\": {\"text\": {\"type\": \"quantitative\", \"field\": \"deathIncrease\"}, \"tooltip\": [{\"type\": \"temporal\", \"field\": \"date\"}, {\"type\": \"quantitative\", \"field\": \"deathIncrease\"}, {\"type\": \"quantitative\", \"field\": \"sma7d\"}], \"x\": {\"type\": \"temporal\", \"field\": \"date\"}, \"y\": {\"type\": \"quantitative\", \"field\": \"deathIncrease\"}}, \"transform\": [{\"filter\": {\"selection\": \"selector011\"}}]}, {\"mark\": {\"type\": \"text\", \"align\": \"left\", \"dx\": 5, \"dy\": -5}, \"encoding\": {\"text\": {\"type\": \"quantitative\", \"field\": \"deathIncrease\"}, \"tooltip\": [{\"type\": \"temporal\", \"field\": \"date\"}, {\"type\": \"quantitative\", \"field\": \"deathIncrease\"}, {\"type\": \"quantitative\", \"field\": \"sma7d\"}], \"x\": {\"type\": \"temporal\", \"field\": \"date\"}, \"y\": {\"type\": \"quantitative\", \"field\": \"deathIncrease\"}}, \"transform\": [{\"filter\": {\"selection\": \"selector011\"}}]}], \"data\": {\"name\": \"data-2cee9995dff636908f583d4c8365dd93\"}, \"height\": 400, \"title\": \"New York: deathIncrease\", \"width\": 500, \"$schema\": \"https://vega.github.io/schema/vega-lite/v4.8.1.json\", \"datasets\": {\"data-2cee9995dff636908f583d4c8365dd93\": [{\"date\": \"2020-11-05T00:00:00\", \"totalTestResultsIncrease\": 161019.0, \"positiveIncrease\": 2997.0, \"death\": 25892.0, \"deathIncrease\": 24.0, \"positiveRate\": 0.019, \"state\": \"New York\", \"sma7d\": 14.286}, {\"date\": \"2020-11-06T00:00:00\", \"totalTestResultsIncrease\": 160705.0, \"positiveIncrease\": 3209.0, \"death\": 25910.0, \"deathIncrease\": 18.0, \"positiveRate\": 0.02, \"state\": \"New York\", \"sma7d\": 15.143}, {\"date\": \"2020-11-07T00:00:00\", \"totalTestResultsIncrease\": 163291.0, \"positiveIncrease\": 3587.0, \"death\": 25928.0, \"deathIncrease\": 18.0, \"positiveRate\": 0.022, \"state\": \"New York\", \"sma7d\": 17.286}, {\"date\": \"2020-11-08T00:00:00\", \"totalTestResultsIncrease\": 145642.0, \"positiveIncrease\": 3428.0, \"death\": 25947.0, \"deathIncrease\": 19.0, \"positiveRate\": 0.024, \"state\": \"New York\", \"sma7d\": 17.571}, {\"date\": \"2020-11-09T00:00:00\", \"totalTestResultsIncrease\": 111416.0, \"positiveIncrease\": 3144.0, \"death\": 25973.0, \"deathIncrease\": 26.0, \"positiveRate\": 0.028, \"state\": \"New York\", \"sma7d\": 19.286}, {\"date\": \"2020-11-10T00:00:00\", \"totalTestResultsIncrease\": 128036.0, \"positiveIncrease\": 3965.0, \"death\": 26005.0, \"deathIncrease\": 32.0, \"positiveRate\": 0.031, \"state\": \"New York\", \"sma7d\": 21.714}, {\"date\": \"2020-11-11T00:00:00\", \"totalTestResultsIncrease\": 164300.0, \"positiveIncrease\": 4820.0, \"death\": 26026.0, \"deathIncrease\": 21.0, \"positiveRate\": 0.029, \"state\": \"New York\", \"sma7d\": 22.571}, {\"date\": \"2020-11-12T00:00:00\", \"totalTestResultsIncrease\": 162627.0, \"positiveIncrease\": 4797.0, \"death\": 26055.0, \"deathIncrease\": 29.0, \"positiveRate\": 0.029, \"state\": \"New York\", \"sma7d\": 23.286}, {\"date\": \"2020-11-13T00:00:00\", \"totalTestResultsIncrease\": 203721.0, \"positiveIncrease\": 5401.0, \"death\": 26079.0, \"deathIncrease\": 24.0, \"positiveRate\": 0.027, \"state\": \"New York\", \"sma7d\": 24.143}, {\"date\": \"2020-11-14T00:00:00\", \"totalTestResultsIncrease\": 184162.0, \"positiveIncrease\": 5388.0, \"death\": 26103.0, \"deathIncrease\": 24.0, \"positiveRate\": 0.029, \"state\": \"New York\", \"sma7d\": 25.0}, {\"date\": \"2020-11-15T00:00:00\", \"totalTestResultsIncrease\": 133202.0, \"positiveIncrease\": 3649.0, \"death\": 26133.0, \"deathIncrease\": 30.0, \"positiveRate\": 0.027, \"state\": \"New York\", \"sma7d\": 26.571}, {\"date\": \"2020-11-16T00:00:00\", \"totalTestResultsIncrease\": 124565.0, \"positiveIncrease\": 3490.0, \"death\": 26159.0, \"deathIncrease\": 26.0, \"positiveRate\": 0.028, \"state\": \"New York\", \"sma7d\": 26.571}, {\"date\": \"2020-11-17T00:00:00\", \"totalTestResultsIncrease\": 159852.0, \"positiveIncrease\": 5088.0, \"death\": 26189.0, \"deathIncrease\": 30.0, \"positiveRate\": 0.032, \"state\": \"New York\", \"sma7d\": 26.286}, {\"date\": \"2020-11-18T00:00:00\", \"totalTestResultsIncrease\": 154434.0, \"positiveIncrease\": 5294.0, \"death\": 26225.0, \"deathIncrease\": 36.0, \"positiveRate\": 0.034, \"state\": \"New York\", \"sma7d\": 28.429}, {\"date\": \"2020-11-19T00:00:00\", \"totalTestResultsIncrease\": 195239.0, \"positiveIncrease\": 5310.0, \"death\": 26257.0, \"deathIncrease\": 32.0, \"positiveRate\": 0.027, \"state\": \"New York\", \"sma7d\": 28.857}, {\"date\": \"2020-11-20T00:00:00\", \"totalTestResultsIncrease\": 205466.0, \"positiveIncrease\": 5468.0, \"death\": 26292.0, \"deathIncrease\": 35.0, \"positiveRate\": 0.027, \"state\": \"New York\", \"sma7d\": 30.429}, {\"date\": \"2020-11-21T00:00:00\", \"totalTestResultsIncrease\": 207907.0, \"positiveIncrease\": 5972.0, \"death\": 26326.0, \"deathIncrease\": 34.0, \"positiveRate\": 0.029, \"state\": \"New York\", \"sma7d\": 31.857}, {\"date\": \"2020-11-22T00:00:00\", \"totalTestResultsIncrease\": 196610.0, \"positiveIncrease\": 5392.0, \"death\": 26357.0, \"deathIncrease\": 31.0, \"positiveRate\": 0.027, \"state\": \"New York\", \"sma7d\": 32.0}, {\"date\": \"2020-11-23T00:00:00\", \"totalTestResultsIncrease\": 191489.0, \"positiveIncrease\": 5906.0, \"death\": 26390.0, \"deathIncrease\": 33.0, \"positiveRate\": 0.031, \"state\": \"New York\", \"sma7d\": 33.0}, {\"date\": \"2020-11-24T00:00:00\", \"totalTestResultsIncrease\": 164761.0, \"positiveIncrease\": 4881.0, \"death\": 26441.0, \"deathIncrease\": 51.0, \"positiveRate\": 0.03, \"state\": \"New York\", \"sma7d\": 36.0}, {\"date\": \"2020-11-25T00:00:00\", \"totalTestResultsIncrease\": 173085.0, \"positiveIncrease\": 6265.0, \"death\": 26482.0, \"deathIncrease\": 41.0, \"positiveRate\": 0.036, \"state\": \"New York\", \"sma7d\": 36.714}, {\"date\": \"2020-11-26T00:00:00\", \"totalTestResultsIncrease\": 217721.0, \"positiveIncrease\": 6933.0, \"death\": 26549.0, \"deathIncrease\": 67.0, \"positiveRate\": 0.032, \"state\": \"New York\", \"sma7d\": 41.714}, {\"date\": \"2020-11-27T00:00:00\", \"totalTestResultsIncrease\": 219442.0, \"positiveIncrease\": 8176.0, \"death\": 26588.0, \"deathIncrease\": 39.0, \"positiveRate\": 0.037, \"state\": \"New York\", \"sma7d\": 42.286}, {\"date\": \"2020-11-28T00:00:00\", \"totalTestResultsIncrease\": 152355.0, \"positiveIncrease\": 6063.0, \"death\": 26632.0, \"deathIncrease\": 44.0, \"positiveRate\": 0.04, \"state\": \"New York\", \"sma7d\": 43.714}, {\"date\": \"2020-11-29T00:00:00\", \"totalTestResultsIncrease\": 157320.0, \"positiveIncrease\": 6723.0, \"death\": 26690.0, \"deathIncrease\": 58.0, \"positiveRate\": 0.043, \"state\": \"New York\", \"sma7d\": 47.571}, {\"date\": \"2020-11-30T00:00:00\", \"totalTestResultsIncrease\": 148974.0, \"positiveIncrease\": 6819.0, \"death\": 26747.0, \"deathIncrease\": 57.0, \"positiveRate\": 0.046, \"state\": \"New York\", \"sma7d\": 51.0}, {\"date\": \"2020-12-01T00:00:00\", \"totalTestResultsIncrease\": 146675.0, \"positiveIncrease\": 7285.0, \"death\": 26816.0, \"deathIncrease\": 69.0, \"positiveRate\": 0.05, \"state\": \"New York\", \"sma7d\": 53.571}, {\"date\": \"2020-12-02T00:00:00\", \"totalTestResultsIncrease\": 193551.0, \"positiveIncrease\": 8973.0, \"death\": 26889.0, \"deathIncrease\": 73.0, \"positiveRate\": 0.046, \"state\": \"New York\", \"sma7d\": 58.143}, {\"date\": \"2020-12-03T00:00:00\", \"totalTestResultsIncrease\": 203440.0, \"positiveIncrease\": 9855.0, \"death\": 26955.0, \"deathIncrease\": 66.0, \"positiveRate\": 0.048, \"state\": \"New York\", \"sma7d\": 58.0}, {\"date\": \"2020-12-04T00:00:00\", \"totalTestResultsIncrease\": 208297.0, \"positiveIncrease\": 11271.0, \"death\": 27017.0, \"deathIncrease\": 62.0, \"positiveRate\": 0.054, \"state\": \"New York\", \"sma7d\": 61.286}, {\"date\": \"2020-12-05T00:00:00\", \"totalTestResultsIncrease\": 215401.0, \"positiveIncrease\": 10761.0, \"death\": 27089.0, \"deathIncrease\": 72.0, \"positiveRate\": 0.05, \"state\": \"New York\", \"sma7d\": 65.286}, {\"date\": \"2020-12-06T00:00:00\", \"totalTestResultsIncrease\": 205832.0, \"positiveIncrease\": 9702.0, \"death\": 27149.0, \"deathIncrease\": 60.0, \"positiveRate\": 0.047, \"state\": \"New York\", \"sma7d\": 65.571}, {\"date\": \"2020-12-07T00:00:00\", \"totalTestResultsIncrease\": 152287.0, \"positiveIncrease\": 7302.0, \"death\": 27232.0, \"deathIncrease\": 83.0, \"positiveRate\": 0.048, \"state\": \"New York\", \"sma7d\": 69.286}, {\"date\": \"2020-12-08T00:00:00\", \"totalTestResultsIncrease\": 162464.0, \"positiveIncrease\": 9335.0, \"death\": 27307.0, \"deathIncrease\": 75.0, \"positiveRate\": 0.057, \"state\": \"New York\", \"sma7d\": 70.143}, {\"date\": \"2020-12-09T00:00:00\", \"totalTestResultsIncrease\": 194595.0, \"positiveIncrease\": 10600.0, \"death\": 27404.0, \"deathIncrease\": 97.0, \"positiveRate\": 0.054, \"state\": \"New York\", \"sma7d\": 73.571}, {\"date\": \"2020-12-10T00:00:00\", \"totalTestResultsIncrease\": 197406.0, \"positiveIncrease\": 10178.0, \"death\": 27498.0, \"deathIncrease\": 94.0, \"positiveRate\": 0.052, \"state\": \"New York\", \"sma7d\": 77.571}, {\"date\": \"2020-12-11T00:00:00\", \"totalTestResultsIncrease\": 212672.0, \"positiveIncrease\": 10595.0, \"death\": 27587.0, \"deathIncrease\": 89.0, \"positiveRate\": 0.05, \"state\": \"New York\", \"sma7d\": 81.429}, {\"date\": \"2020-12-12T00:00:00\", \"totalTestResultsIncrease\": 242927.0, \"positiveIncrease\": 11129.0, \"death\": 27675.0, \"deathIncrease\": 88.0, \"positiveRate\": 0.046, \"state\": \"New York\", \"sma7d\": 83.714}, {\"date\": \"2020-12-13T00:00:00\", \"totalTestResultsIncrease\": 205250.0, \"positiveIncrease\": 10194.0, \"death\": 27785.0, \"deathIncrease\": 110.0, \"positiveRate\": 0.05, \"state\": \"New York\", \"sma7d\": 90.857}, {\"date\": \"2020-12-14T00:00:00\", \"totalTestResultsIncrease\": 159844.0, \"positiveIncrease\": 9044.0, \"death\": 27870.0, \"deathIncrease\": 85.0, \"positiveRate\": 0.057, \"state\": \"New York\", \"sma7d\": 91.143}, {\"date\": \"2020-12-15T00:00:00\", \"totalTestResultsIncrease\": 194188.0, \"positiveIncrease\": 10353.0, \"death\": 28002.0, \"deathIncrease\": 132.0, \"positiveRate\": 0.053, \"state\": \"New York\", \"sma7d\": 99.286}, {\"date\": \"2020-12-16T00:00:00\", \"totalTestResultsIncrease\": 160947.0, \"positiveIncrease\": 9998.0, \"death\": 28100.0, \"deathIncrease\": 98.0, \"positiveRate\": 0.062, \"state\": \"New York\", \"sma7d\": 99.429}, {\"date\": \"2020-12-17T00:00:00\", \"totalTestResultsIncrease\": 202772.0, \"positiveIncrease\": 10914.0, \"death\": 28222.0, \"deathIncrease\": 122.0, \"positiveRate\": 0.054, \"state\": \"New York\", \"sma7d\": 103.429}, {\"date\": \"2020-12-18T00:00:00\", \"totalTestResultsIncrease\": 249385.0, \"positiveIncrease\": 12697.0, \"death\": 28344.0, \"deathIncrease\": 122.0, \"positiveRate\": 0.051, \"state\": \"New York\", \"sma7d\": 108.143}, {\"date\": \"2020-12-19T00:00:00\", \"totalTestResultsIncrease\": 191476.0, \"positiveIncrease\": 9919.0, \"death\": 28474.0, \"deathIncrease\": 130.0, \"positiveRate\": 0.052, \"state\": \"New York\", \"sma7d\": 114.143}, {\"date\": \"2020-12-20T00:00:00\", \"totalTestResultsIncrease\": 197251.0, \"positiveIncrease\": 9957.0, \"death\": 28598.0, \"deathIncrease\": 124.0, \"positiveRate\": 0.05, \"state\": \"New York\", \"sma7d\": 116.143}, {\"date\": \"2020-12-21T00:00:00\", \"totalTestResultsIncrease\": 156510.0, \"positiveIncrease\": 9007.0, \"death\": 28709.0, \"deathIncrease\": 111.0, \"positiveRate\": 0.058, \"state\": \"New York\", \"sma7d\": 119.857}, {\"date\": \"2020-12-22T00:00:00\", \"totalTestResultsIncrease\": 164868.0, \"positiveIncrease\": 9716.0, \"death\": 28850.0, \"deathIncrease\": 141.0, \"positiveRate\": 0.059, \"state\": \"New York\", \"sma7d\": 121.143}, {\"date\": \"2020-12-23T00:00:00\", \"totalTestResultsIncrease\": 204361.0, \"positiveIncrease\": 11937.0, \"death\": 29016.0, \"deathIncrease\": 166.0, \"positiveRate\": 0.058, \"state\": \"New York\", \"sma7d\": 130.857}, {\"date\": \"2020-12-24T00:00:00\", \"totalTestResultsIncrease\": 226296.0, \"positiveIncrease\": 12568.0, \"death\": 29149.0, \"deathIncrease\": 133.0, \"positiveRate\": 0.056, \"state\": \"New York\", \"sma7d\": 132.429}, {\"date\": \"2020-12-25T00:00:00\", \"totalTestResultsIncrease\": 226560.0, \"positiveIncrease\": 12446.0, \"death\": 29270.0, \"deathIncrease\": 121.0, \"positiveRate\": 0.055, \"state\": \"New York\", \"sma7d\": 132.286}, {\"date\": \"2020-12-26T00:00:00\", \"totalTestResultsIncrease\": 201442.0, \"positiveIncrease\": 10806.0, \"death\": 29396.0, \"deathIncrease\": 126.0, \"positiveRate\": 0.054, \"state\": \"New York\", \"sma7d\": 131.714}, {\"date\": \"2020-12-27T00:00:00\", \"totalTestResultsIncrease\": 130299.0, \"positiveIncrease\": 7623.0, \"death\": 29511.0, \"deathIncrease\": 115.0, \"positiveRate\": 0.059, \"state\": \"New York\", \"sma7d\": 130.429}, {\"date\": \"2020-12-28T00:00:00\", \"totalTestResultsIncrease\": 124866.0, \"positiveIncrease\": 10407.0, \"death\": 29629.0, \"deathIncrease\": 118.0, \"positiveRate\": 0.083, \"state\": \"New York\", \"sma7d\": 131.429}, {\"date\": \"2020-12-29T00:00:00\", \"totalTestResultsIncrease\": 160164.0, \"positiveIncrease\": 11438.0, \"death\": 29756.0, \"deathIncrease\": 127.0, \"positiveRate\": 0.071, \"state\": \"New York\", \"sma7d\": 129.429}]}}, {\"mode\": \"vega-lite\"});\n",
       "</script>"
      ],
      "text/plain": [
       "alt.LayerChart(...)"
      ]
     },
     "execution_count": 13,
     "metadata": {},
     "output_type": "execute_result"
    }
   ],
   "source": [
    "create_plot(ny, 'deathIncrease')"
   ]
  },
  {
   "cell_type": "markdown",
   "metadata": {
    "papermill": {
     "duration": 0.016683,
     "end_time": "2020-12-30T09:27:50.266159",
     "exception": false,
     "start_time": "2020-12-30T09:27:50.249476",
     "status": "completed"
    },
    "tags": []
   },
   "source": [
    "## Non Tri-State"
   ]
  },
  {
   "cell_type": "code",
   "execution_count": 14,
   "metadata": {
    "execution": {
     "iopub.execute_input": "2020-12-30T09:27:50.304552Z",
     "iopub.status.busy": "2020-12-30T09:27:50.303992Z",
     "iopub.status.idle": "2020-12-30T09:27:50.684511Z",
     "shell.execute_reply": "2020-12-30T09:27:50.683683Z"
    },
    "papermill": {
     "duration": 0.401845,
     "end_time": "2020-12-30T09:27:50.684741",
     "exception": false,
     "start_time": "2020-12-30T09:27:50.282896",
     "status": "completed"
    },
    "tags": []
   },
   "outputs": [],
   "source": [
    "non_tristate = create_df(df, lambda d: ~d['state'].isin(['CT','NJ','NY']), 'Non Tri-State')"
   ]
  },
  {
   "cell_type": "code",
   "execution_count": 15,
   "metadata": {
    "execution": {
     "iopub.execute_input": "2020-12-30T09:27:50.755659Z",
     "iopub.status.busy": "2020-12-30T09:27:50.728514Z",
     "iopub.status.idle": "2020-12-30T09:27:50.820373Z",
     "shell.execute_reply": "2020-12-30T09:27:50.819501Z"
    },
    "papermill": {
     "duration": 0.117841,
     "end_time": "2020-12-30T09:27:50.820596",
     "exception": false,
     "start_time": "2020-12-30T09:27:50.702755",
     "status": "completed"
    },
    "tags": []
   },
   "outputs": [
    {
     "data": {
      "text/html": [
       "\n",
       "<div id=\"altair-viz-07fddeaa816e4163a98ab3320525af27\"></div>\n",
       "<script type=\"text/javascript\">\n",
       "  (function(spec, embedOpt){\n",
       "    let outputDiv = document.currentScript.previousElementSibling;\n",
       "    if (outputDiv.id !== \"altair-viz-07fddeaa816e4163a98ab3320525af27\") {\n",
       "      outputDiv = document.getElementById(\"altair-viz-07fddeaa816e4163a98ab3320525af27\");\n",
       "    }\n",
       "    const paths = {\n",
       "      \"vega\": \"https://cdn.jsdelivr.net/npm//vega@5?noext\",\n",
       "      \"vega-lib\": \"https://cdn.jsdelivr.net/npm//vega-lib?noext\",\n",
       "      \"vega-lite\": \"https://cdn.jsdelivr.net/npm//vega-lite@4.8.1?noext\",\n",
       "      \"vega-embed\": \"https://cdn.jsdelivr.net/npm//vega-embed@6?noext\",\n",
       "    };\n",
       "\n",
       "    function loadScript(lib) {\n",
       "      return new Promise(function(resolve, reject) {\n",
       "        var s = document.createElement('script');\n",
       "        s.src = paths[lib];\n",
       "        s.async = true;\n",
       "        s.onload = () => resolve(paths[lib]);\n",
       "        s.onerror = () => reject(`Error loading script: ${paths[lib]}`);\n",
       "        document.getElementsByTagName(\"head\")[0].appendChild(s);\n",
       "      });\n",
       "    }\n",
       "\n",
       "    function showError(err) {\n",
       "      outputDiv.innerHTML = `<div class=\"error\" style=\"color:red;\">${err}</div>`;\n",
       "      throw err;\n",
       "    }\n",
       "\n",
       "    function displayChart(vegaEmbed) {\n",
       "      vegaEmbed(outputDiv, spec, embedOpt)\n",
       "        .catch(err => showError(`Javascript Error: ${err.message}<br>This usually means there's a typo in your chart specification. See the javascript console for the full traceback.`));\n",
       "    }\n",
       "\n",
       "    if(typeof define === \"function\" && define.amd) {\n",
       "      requirejs.config({paths});\n",
       "      require([\"vega-embed\"], displayChart, err => showError(`Error loading script: ${err.message}`));\n",
       "    } else if (typeof vegaEmbed === \"function\") {\n",
       "      displayChart(vegaEmbed);\n",
       "    } else {\n",
       "      loadScript(\"vega\")\n",
       "        .then(() => loadScript(\"vega-lite\"))\n",
       "        .then(() => loadScript(\"vega-embed\"))\n",
       "        .catch(showError)\n",
       "        .then(() => displayChart(vegaEmbed));\n",
       "    }\n",
       "  })({\"config\": {\"view\": {\"continuousWidth\": 400, \"continuousHeight\": 300}}, \"layer\": [{\"layer\": [{\"mark\": {\"type\": \"point\", \"size\": 75}, \"encoding\": {\"tooltip\": [{\"type\": \"temporal\", \"field\": \"date\"}, {\"type\": \"quantitative\", \"field\": \"positiveIncrease\"}, {\"type\": \"quantitative\", \"field\": \"sma7d\"}], \"x\": {\"type\": \"temporal\", \"field\": \"date\"}, \"y\": {\"type\": \"quantitative\", \"field\": \"positiveIncrease\"}}, \"selection\": {\"selector014\": {\"type\": \"interval\", \"bind\": \"scales\", \"encodings\": [\"x\", \"y\"]}}}, {\"mark\": {\"type\": \"line\", \"color\": \"purple\"}, \"encoding\": {\"x\": {\"type\": \"temporal\", \"field\": \"date\"}, \"y\": {\"type\": \"quantitative\", \"field\": \"sma7d\"}}}]}, {\"mark\": {\"type\": \"rule\", \"color\": \"#aaa\"}, \"encoding\": {\"x\": {\"type\": \"temporal\", \"field\": \"date\"}}, \"transform\": [{\"filter\": {\"selection\": \"selector013\"}}]}, {\"mark\": \"circle\", \"encoding\": {\"opacity\": {\"condition\": {\"value\": 1, \"selection\": \"selector013\"}, \"value\": 0}, \"tooltip\": [{\"type\": \"temporal\", \"field\": \"date\"}, {\"type\": \"quantitative\", \"field\": \"positiveIncrease\"}, {\"type\": \"quantitative\", \"field\": \"sma7d\"}], \"x\": {\"type\": \"temporal\", \"field\": \"date\"}, \"y\": {\"type\": \"quantitative\", \"field\": \"positiveIncrease\"}}, \"selection\": {\"selector013\": {\"type\": \"single\", \"encodings\": [\"x\"], \"on\": \"mouseover\", \"nearest\": true, \"empty\": \"none\"}}}, {\"mark\": {\"type\": \"text\", \"align\": \"left\", \"dx\": 5, \"dy\": -5, \"stroke\": \"white\", \"strokeWidth\": 2}, \"encoding\": {\"text\": {\"type\": \"quantitative\", \"field\": \"positiveIncrease\"}, \"tooltip\": [{\"type\": \"temporal\", \"field\": \"date\"}, {\"type\": \"quantitative\", \"field\": \"positiveIncrease\"}, {\"type\": \"quantitative\", \"field\": \"sma7d\"}], \"x\": {\"type\": \"temporal\", \"field\": \"date\"}, \"y\": {\"type\": \"quantitative\", \"field\": \"positiveIncrease\"}}, \"transform\": [{\"filter\": {\"selection\": \"selector013\"}}]}, {\"mark\": {\"type\": \"text\", \"align\": \"left\", \"dx\": 5, \"dy\": -5}, \"encoding\": {\"text\": {\"type\": \"quantitative\", \"field\": \"positiveIncrease\"}, \"tooltip\": [{\"type\": \"temporal\", \"field\": \"date\"}, {\"type\": \"quantitative\", \"field\": \"positiveIncrease\"}, {\"type\": \"quantitative\", \"field\": \"sma7d\"}], \"x\": {\"type\": \"temporal\", \"field\": \"date\"}, \"y\": {\"type\": \"quantitative\", \"field\": \"positiveIncrease\"}}, \"transform\": [{\"filter\": {\"selection\": \"selector013\"}}]}], \"data\": {\"name\": \"data-5c08a3b9593d9e7e28579f77f94333a0\"}, \"height\": 400, \"title\": \"Non Tri-State: positiveIncrease\", \"width\": 500, \"$schema\": \"https://vega.github.io/schema/vega-lite/v4.8.1.json\", \"datasets\": {\"data-5c08a3b9593d9e7e28579f77f94333a0\": [{\"date\": \"2020-11-05T00:00:00\", \"totalTestResultsIncrease\": 1342685.0, \"positiveIncrease\": 111536.0, \"death\": 180366.0, \"deathIncrease\": 1108.0, \"positiveRate\": 0.083, \"state\": \"Non Tri-State\", \"sma7d\": 98608.143}, {\"date\": \"2020-11-06T00:00:00\", \"totalTestResultsIncrease\": 1382935.0, \"positiveIncrease\": 121859.0, \"death\": 181506.0, \"deathIncrease\": 1140.0, \"positiveRate\": 0.088, \"state\": \"Non Tri-State\", \"sma7d\": 102793.857}, {\"date\": \"2020-11-07T00:00:00\", \"totalTestResultsIncrease\": 1184554.0, \"positiveIncrease\": 124460.0, \"death\": 182611.0, \"deathIncrease\": 1105.0, \"positiveRate\": 0.105, \"state\": \"Non Tri-State\", \"sma7d\": 108083.857}, {\"date\": \"2020-11-08T00:00:00\", \"totalTestResultsIncrease\": 1071112.0, \"positiveIncrease\": 106219.0, \"death\": 183089.0, \"deathIncrease\": 478.0, \"positiveRate\": 0.099, \"state\": \"Non Tri-State\", \"sma7d\": 103605.429}, {\"date\": \"2020-11-09T00:00:00\", \"totalTestResultsIncrease\": 1173250.0, \"positiveIncrease\": 109045.0, \"death\": 183605.0, \"deathIncrease\": 516.0, \"positiveRate\": 0.093, \"state\": \"Non Tri-State\", \"sma7d\": 108123.857}, {\"date\": \"2020-11-10T00:00:00\", \"totalTestResultsIncrease\": 1189128.0, \"positiveIncrease\": 123246.0, \"death\": 184900.0, \"deathIncrease\": 1295.0, \"positiveRate\": 0.104, \"state\": \"Non Tri-State\", \"sma7d\": 113556.286}, {\"date\": \"2020-11-11T00:00:00\", \"totalTestResultsIncrease\": 1217154.0, \"positiveIncrease\": 138531.0, \"death\": 186434.0, \"deathIncrease\": 1534.0, \"positiveRate\": 0.114, \"state\": \"Non Tri-State\", \"sma7d\": 119270.857}, {\"date\": \"2020-11-12T00:00:00\", \"totalTestResultsIncrease\": 1341923.0, \"positiveIncrease\": 147113.0, \"death\": 187487.0, \"deathIncrease\": 1053.0, \"positiveRate\": 0.11, \"state\": \"Non Tri-State\", \"sma7d\": 124353.286}, {\"date\": \"2020-11-13T00:00:00\", \"totalTestResultsIncrease\": 1413320.0, \"positiveIncrease\": 161733.0, \"death\": 188729.0, \"deathIncrease\": 1242.0, \"positiveRate\": 0.114, \"state\": \"Non Tri-State\", \"sma7d\": 130049.571}, {\"date\": \"2020-11-14T00:00:00\", \"totalTestResultsIncrease\": 1478206.0, \"positiveIncrease\": 156848.0, \"death\": 190031.0, \"deathIncrease\": 1302.0, \"positiveRate\": 0.106, \"state\": \"Non Tri-State\", \"sma7d\": 134676.429}, {\"date\": \"2020-11-15T00:00:00\", \"totalTestResultsIncrease\": 1290539.0, \"positiveIncrease\": 138020.0, \"death\": 190691.0, \"deathIncrease\": 660.0, \"positiveRate\": 0.107, \"state\": \"Non Tri-State\", \"sma7d\": 139219.429}, {\"date\": \"2020-11-16T00:00:00\", \"totalTestResultsIncrease\": 1316164.0, \"positiveIncrease\": 138752.0, \"death\": 191238.0, \"deathIncrease\": 547.0, \"positiveRate\": 0.105, \"state\": \"Non Tri-State\", \"sma7d\": 143463.286}, {\"date\": \"2020-11-17T00:00:00\", \"totalTestResultsIncrease\": 1376094.0, \"positiveIncrease\": 147660.0, \"death\": 192720.0, \"deathIncrease\": 1482.0, \"positiveRate\": 0.107, \"state\": \"Non Tri-State\", \"sma7d\": 146951.0}, {\"date\": \"2020-11-18T00:00:00\", \"totalTestResultsIncrease\": 1337808.0, \"positiveIncrease\": 155653.0, \"death\": 194516.0, \"deathIncrease\": 1796.0, \"positiveRate\": 0.116, \"state\": \"Non Tri-State\", \"sma7d\": 149397.0}, {\"date\": \"2020-11-19T00:00:00\", \"totalTestResultsIncrease\": 1611993.0, \"positiveIncrease\": 174740.0, \"death\": 196449.0, \"deathIncrease\": 1933.0, \"positiveRate\": 0.108, \"state\": \"Non Tri-State\", \"sma7d\": 153343.714}, {\"date\": \"2020-11-20T00:00:00\", \"totalTestResultsIncrease\": 1660932.0, \"positiveIncrease\": 184711.0, \"death\": 198262.0, \"deathIncrease\": 1813.0, \"positiveRate\": 0.111, \"state\": \"Non Tri-State\", \"sma7d\": 156626.286}, {\"date\": \"2020-11-21T00:00:00\", \"totalTestResultsIncrease\": 1789030.0, \"positiveIncrease\": 172168.0, \"death\": 199748.0, \"deathIncrease\": 1486.0, \"positiveRate\": 0.096, \"state\": \"Non Tri-State\", \"sma7d\": 158814.857}, {\"date\": \"2020-11-22T00:00:00\", \"totalTestResultsIncrease\": 1501628.0, \"positiveIncrease\": 144012.0, \"death\": 200619.0, \"deathIncrease\": 871.0, \"positiveRate\": 0.096, \"state\": \"Non Tri-State\", \"sma7d\": 159670.857}, {\"date\": \"2020-11-23T00:00:00\", \"totalTestResultsIncrease\": 1338437.0, \"positiveIncrease\": 139025.0, \"death\": 201390.0, \"deathIncrease\": 771.0, \"positiveRate\": 0.104, \"state\": \"Non Tri-State\", \"sma7d\": 159709.857}, {\"date\": \"2020-11-24T00:00:00\", \"totalTestResultsIncrease\": 1653818.0, \"positiveIncrease\": 154696.0, \"death\": 203388.0, \"deathIncrease\": 1998.0, \"positiveRate\": 0.094, \"state\": \"Non Tri-State\", \"sma7d\": 160715.0}, {\"date\": \"2020-11-25T00:00:00\", \"totalTestResultsIncrease\": 1517918.0, \"positiveIncrease\": 174955.0, \"death\": 205515.0, \"deathIncrease\": 2127.0, \"positiveRate\": 0.115, \"state\": \"Non Tri-State\", \"sma7d\": 163472.429}, {\"date\": \"2020-11-26T00:00:00\", \"totalTestResultsIncrease\": 1044457.0, \"positiveIncrease\": 117303.0, \"death\": 206796.0, \"deathIncrease\": 1281.0, \"positiveRate\": 0.112, \"state\": \"Non Tri-State\", \"sma7d\": 155267.143}, {\"date\": \"2020-11-27T00:00:00\", \"totalTestResultsIncrease\": 1736706.0, \"positiveIncrease\": 181480.0, \"death\": 208097.0, \"deathIncrease\": 1301.0, \"positiveRate\": 0.104, \"state\": \"Non Tri-State\", \"sma7d\": 154805.571}, {\"date\": \"2020-11-28T00:00:00\", \"totalTestResultsIncrease\": 1412977.0, \"positiveIncrease\": 141319.0, \"death\": 209281.0, \"deathIncrease\": 1184.0, \"positiveRate\": 0.1, \"state\": \"Non Tri-State\", \"sma7d\": 150398.571}, {\"date\": \"2020-11-29T00:00:00\", \"totalTestResultsIncrease\": 1123515.0, \"positiveIncrease\": 125685.0, \"death\": 210033.0, \"deathIncrease\": 752.0, \"positiveRate\": 0.112, \"state\": \"Non Tri-State\", \"sma7d\": 147780.429}, {\"date\": \"2020-11-30T00:00:00\", \"totalTestResultsIncrease\": 1211499.0, \"positiveIncrease\": 133865.0, \"death\": 210937.0, \"deathIncrease\": 904.0, \"positiveRate\": 0.11, \"state\": \"Non Tri-State\", \"sma7d\": 147043.286}, {\"date\": \"2020-12-01T00:00:00\", \"totalTestResultsIncrease\": 1295162.0, \"positiveIncrease\": 164862.0, \"death\": 213264.0, \"deathIncrease\": 2327.0, \"positiveRate\": 0.127, \"state\": \"Non Tri-State\", \"sma7d\": 148495.571}, {\"date\": \"2020-12-02T00:00:00\", \"totalTestResultsIncrease\": 1278701.0, \"positiveIncrease\": 185229.0, \"death\": 215882.0, \"deathIncrease\": 2618.0, \"positiveRate\": 0.145, \"state\": \"Non Tri-State\", \"sma7d\": 149963.286}, {\"date\": \"2020-12-03T00:00:00\", \"totalTestResultsIncrease\": 1580194.0, \"positiveIncrease\": 194240.0, \"death\": 218557.0, \"deathIncrease\": 2675.0, \"positiveRate\": 0.123, \"state\": \"Non Tri-State\", \"sma7d\": 160954.286}, {\"date\": \"2020-12-04T00:00:00\", \"totalTestResultsIncrease\": 1658593.0, \"positiveIncrease\": 210720.0, \"death\": 220987.0, \"deathIncrease\": 2430.0, \"positiveRate\": 0.127, \"state\": \"Non Tri-State\", \"sma7d\": 165131.429}, {\"date\": \"2020-12-05T00:00:00\", \"totalTestResultsIncrease\": 1895840.0, \"positiveIncrease\": 200593.0, \"death\": 223344.0, \"deathIncrease\": 2357.0, \"positiveRate\": 0.106, \"state\": \"Non Tri-State\", \"sma7d\": 173599.143}, {\"date\": \"2020-12-06T00:00:00\", \"totalTestResultsIncrease\": 1388429.0, \"positiveIncrease\": 165464.0, \"death\": 224414.0, \"deathIncrease\": 1070.0, \"positiveRate\": 0.119, \"state\": \"Non Tri-State\", \"sma7d\": 179281.857}, {\"date\": \"2020-12-07T00:00:00\", \"totalTestResultsIncrease\": 1439178.0, \"positiveIncrease\": 161944.0, \"death\": 225535.0, \"deathIncrease\": 1121.0, \"positiveRate\": 0.113, \"state\": \"Non Tri-State\", \"sma7d\": 183293.143}, {\"date\": \"2020-12-08T00:00:00\", \"totalTestResultsIncrease\": 1422928.0, \"positiveIncrease\": 197887.0, \"death\": 228055.0, \"deathIncrease\": 2520.0, \"positiveRate\": 0.139, \"state\": \"Non Tri-State\", \"sma7d\": 188011.0}, {\"date\": \"2020-12-09T00:00:00\", \"totalTestResultsIncrease\": 1446792.0, \"positiveIncrease\": 196862.0, \"death\": 230963.0, \"deathIncrease\": 2908.0, \"positiveRate\": 0.136, \"state\": \"Non Tri-State\", \"sma7d\": 189672.857}, {\"date\": \"2020-12-10T00:00:00\", \"totalTestResultsIncrease\": 1606738.0, \"positiveIncrease\": 201222.0, \"death\": 233876.0, \"deathIncrease\": 2913.0, \"positiveRate\": 0.125, \"state\": \"Non Tri-State\", \"sma7d\": 190670.286}, {\"date\": \"2020-12-11T00:00:00\", \"totalTestResultsIncrease\": 1673780.0, \"positiveIncrease\": 216790.0, \"death\": 236446.0, \"deathIncrease\": 2570.0, \"positiveRate\": 0.13, \"state\": \"Non Tri-State\", \"sma7d\": 191537.429}, {\"date\": \"2020-12-12T00:00:00\", \"totalTestResultsIncrease\": 1561601.0, \"positiveIncrease\": 207107.0, \"death\": 238782.0, \"deathIncrease\": 2336.0, \"positiveRate\": 0.133, \"state\": \"Non Tri-State\", \"sma7d\": 192468.0}, {\"date\": \"2020-12-13T00:00:00\", \"totalTestResultsIncrease\": 1553076.0, \"positiveIncrease\": 171453.0, \"death\": 240147.0, \"deathIncrease\": 1365.0, \"positiveRate\": 0.11, \"state\": \"Non Tri-State\", \"sma7d\": 193323.571}, {\"date\": \"2020-12-14T00:00:00\", \"totalTestResultsIncrease\": 1691143.0, \"positiveIncrease\": 171393.0, \"death\": 241315.0, \"deathIncrease\": 1168.0, \"positiveRate\": 0.101, \"state\": \"Non Tri-State\", \"sma7d\": 194673.429}, {\"date\": \"2020-12-15T00:00:00\", \"totalTestResultsIncrease\": 1479005.0, \"positiveIncrease\": 173994.0, \"death\": 244035.0, \"deathIncrease\": 2720.0, \"positiveRate\": 0.118, \"state\": \"Non Tri-State\", \"sma7d\": 191260.143}, {\"date\": \"2020-12-16T00:00:00\", \"totalTestResultsIncrease\": 1524402.0, \"positiveIncrease\": 213675.0, \"death\": 247214.0, \"deathIncrease\": 3179.0, \"positiveRate\": 0.14, \"state\": \"Non Tri-State\", \"sma7d\": 193662.0}, {\"date\": \"2020-12-17T00:00:00\", \"totalTestResultsIncrease\": 1630210.0, \"positiveIncrease\": 222666.0, \"death\": 250407.0, \"deathIncrease\": 3193.0, \"positiveRate\": 0.137, \"state\": \"Non Tri-State\", \"sma7d\": 196725.429}, {\"date\": \"2020-12-18T00:00:00\", \"totalTestResultsIncrease\": 1763311.0, \"positiveIncrease\": 219973.0, \"death\": 253078.0, \"deathIncrease\": 2671.0, \"positiveRate\": 0.125, \"state\": \"Non Tri-State\", \"sma7d\": 197180.143}, {\"date\": \"2020-12-19T00:00:00\", \"totalTestResultsIncrease\": 1543919.0, \"positiveIncrease\": 188702.0, \"death\": 255622.0, \"deathIncrease\": 2544.0, \"positiveRate\": 0.122, \"state\": \"Non Tri-State\", \"sma7d\": 194550.857}, {\"date\": \"2020-12-20T00:00:00\", \"totalTestResultsIncrease\": 1579754.0, \"positiveIncrease\": 180885.0, \"death\": 257110.0, \"deathIncrease\": 1488.0, \"positiveRate\": 0.115, \"state\": \"Non Tri-State\", \"sma7d\": 195898.286}, {\"date\": \"2020-12-21T00:00:00\", \"totalTestResultsIncrease\": 1640391.0, \"positiveIncrease\": 161418.0, \"death\": 258360.0, \"deathIncrease\": 1250.0, \"positiveRate\": 0.098, \"state\": \"Non Tri-State\", \"sma7d\": 194473.286}, {\"date\": \"2020-12-22T00:00:00\", \"totalTestResultsIncrease\": 1514466.0, \"positiveIncrease\": 174060.0, \"death\": 261255.0, \"deathIncrease\": 2895.0, \"positiveRate\": 0.115, \"state\": \"Non Tri-State\", \"sma7d\": 194482.714}, {\"date\": \"2020-12-23T00:00:00\", \"totalTestResultsIncrease\": 1468232.0, \"positiveIncrease\": 202350.0, \"death\": 264295.0, \"deathIncrease\": 3040.0, \"positiveRate\": 0.138, \"state\": \"Non Tri-State\", \"sma7d\": 192864.857}, {\"date\": \"2020-12-24T00:00:00\", \"totalTestResultsIncrease\": 1613808.0, \"positiveIncrease\": 184315.0, \"death\": 266978.0, \"deathIncrease\": 2683.0, \"positiveRate\": 0.114, \"state\": \"Non Tri-State\", \"sma7d\": 187386.143}, {\"date\": \"2020-12-25T00:00:00\", \"totalTestResultsIncrease\": 1002210.0, \"positiveIncrease\": 107862.0, \"death\": 268354.0, \"deathIncrease\": 1376.0, \"positiveRate\": 0.108, \"state\": \"Non Tri-State\", \"sma7d\": 171370.286}, {\"date\": \"2020-12-26T00:00:00\", \"totalTestResultsIncrease\": 1931820.0, \"positiveIncrease\": 174689.0, \"death\": 269629.0, \"deathIncrease\": 1275.0, \"positiveRate\": 0.09, \"state\": \"Non Tri-State\", \"sma7d\": 169368.429}, {\"date\": \"2020-12-27T00:00:00\", \"totalTestResultsIncrease\": 1250874.0, \"positiveIncrease\": 143251.0, \"death\": 270899.0, \"deathIncrease\": 1270.0, \"positiveRate\": 0.115, \"state\": \"Non Tri-State\", \"sma7d\": 163992.143}, {\"date\": \"2020-12-28T00:00:00\", \"totalTestResultsIncrease\": 1084467.0, \"positiveIncrease\": 140582.0, \"death\": 272138.0, \"deathIncrease\": 1239.0, \"positiveRate\": 0.13, \"state\": \"Non Tri-State\", \"sma7d\": 161015.571}, {\"date\": \"2020-12-29T00:00:00\", \"totalTestResultsIncrease\": 1026656.0, \"positiveIncrease\": 178650.0, \"death\": 275148.0, \"deathIncrease\": 3010.0, \"positiveRate\": 0.174, \"state\": \"Non Tri-State\", \"sma7d\": 161671.286}]}}, {\"mode\": \"vega-lite\"});\n",
       "</script>"
      ],
      "text/plain": [
       "alt.LayerChart(...)"
      ]
     },
     "execution_count": 15,
     "metadata": {},
     "output_type": "execute_result"
    }
   ],
   "source": [
    "create_plot(non_tristate, 'positiveIncrease')"
   ]
  },
  {
   "cell_type": "code",
   "execution_count": 16,
   "metadata": {
    "execution": {
     "iopub.execute_input": "2020-12-30T09:27:50.885733Z",
     "iopub.status.busy": "2020-12-30T09:27:50.869880Z",
     "iopub.status.idle": "2020-12-30T09:27:50.957349Z",
     "shell.execute_reply": "2020-12-30T09:27:50.956890Z"
    },
    "papermill": {
     "duration": 0.115412,
     "end_time": "2020-12-30T09:27:50.957452",
     "exception": false,
     "start_time": "2020-12-30T09:27:50.842040",
     "status": "completed"
    },
    "tags": []
   },
   "outputs": [
    {
     "data": {
      "text/html": [
       "\n",
       "<div id=\"altair-viz-a2a7eea6f3a14728be1ba051ee8bf201\"></div>\n",
       "<script type=\"text/javascript\">\n",
       "  (function(spec, embedOpt){\n",
       "    let outputDiv = document.currentScript.previousElementSibling;\n",
       "    if (outputDiv.id !== \"altair-viz-a2a7eea6f3a14728be1ba051ee8bf201\") {\n",
       "      outputDiv = document.getElementById(\"altair-viz-a2a7eea6f3a14728be1ba051ee8bf201\");\n",
       "    }\n",
       "    const paths = {\n",
       "      \"vega\": \"https://cdn.jsdelivr.net/npm//vega@5?noext\",\n",
       "      \"vega-lib\": \"https://cdn.jsdelivr.net/npm//vega-lib?noext\",\n",
       "      \"vega-lite\": \"https://cdn.jsdelivr.net/npm//vega-lite@4.8.1?noext\",\n",
       "      \"vega-embed\": \"https://cdn.jsdelivr.net/npm//vega-embed@6?noext\",\n",
       "    };\n",
       "\n",
       "    function loadScript(lib) {\n",
       "      return new Promise(function(resolve, reject) {\n",
       "        var s = document.createElement('script');\n",
       "        s.src = paths[lib];\n",
       "        s.async = true;\n",
       "        s.onload = () => resolve(paths[lib]);\n",
       "        s.onerror = () => reject(`Error loading script: ${paths[lib]}`);\n",
       "        document.getElementsByTagName(\"head\")[0].appendChild(s);\n",
       "      });\n",
       "    }\n",
       "\n",
       "    function showError(err) {\n",
       "      outputDiv.innerHTML = `<div class=\"error\" style=\"color:red;\">${err}</div>`;\n",
       "      throw err;\n",
       "    }\n",
       "\n",
       "    function displayChart(vegaEmbed) {\n",
       "      vegaEmbed(outputDiv, spec, embedOpt)\n",
       "        .catch(err => showError(`Javascript Error: ${err.message}<br>This usually means there's a typo in your chart specification. See the javascript console for the full traceback.`));\n",
       "    }\n",
       "\n",
       "    if(typeof define === \"function\" && define.amd) {\n",
       "      requirejs.config({paths});\n",
       "      require([\"vega-embed\"], displayChart, err => showError(`Error loading script: ${err.message}`));\n",
       "    } else if (typeof vegaEmbed === \"function\") {\n",
       "      displayChart(vegaEmbed);\n",
       "    } else {\n",
       "      loadScript(\"vega\")\n",
       "        .then(() => loadScript(\"vega-lite\"))\n",
       "        .then(() => loadScript(\"vega-embed\"))\n",
       "        .catch(showError)\n",
       "        .then(() => displayChart(vegaEmbed));\n",
       "    }\n",
       "  })({\"config\": {\"view\": {\"continuousWidth\": 400, \"continuousHeight\": 300}}, \"layer\": [{\"layer\": [{\"mark\": {\"type\": \"point\", \"size\": 75}, \"encoding\": {\"tooltip\": [{\"type\": \"temporal\", \"field\": \"date\"}, {\"type\": \"quantitative\", \"field\": \"positiveRate\"}, {\"type\": \"quantitative\", \"field\": \"sma7d\"}], \"x\": {\"type\": \"temporal\", \"field\": \"date\"}, \"y\": {\"type\": \"quantitative\", \"field\": \"positiveRate\"}}, \"selection\": {\"selector016\": {\"type\": \"interval\", \"bind\": \"scales\", \"encodings\": [\"x\", \"y\"]}}}, {\"mark\": {\"type\": \"line\", \"color\": \"purple\"}, \"encoding\": {\"x\": {\"type\": \"temporal\", \"field\": \"date\"}, \"y\": {\"type\": \"quantitative\", \"field\": \"sma7d\"}}}]}, {\"mark\": {\"type\": \"rule\", \"color\": \"#aaa\"}, \"encoding\": {\"x\": {\"type\": \"temporal\", \"field\": \"date\"}}, \"transform\": [{\"filter\": {\"selection\": \"selector015\"}}]}, {\"mark\": \"circle\", \"encoding\": {\"opacity\": {\"condition\": {\"value\": 1, \"selection\": \"selector015\"}, \"value\": 0}, \"tooltip\": [{\"type\": \"temporal\", \"field\": \"date\"}, {\"type\": \"quantitative\", \"field\": \"positiveRate\"}, {\"type\": \"quantitative\", \"field\": \"sma7d\"}], \"x\": {\"type\": \"temporal\", \"field\": \"date\"}, \"y\": {\"type\": \"quantitative\", \"field\": \"positiveRate\"}}, \"selection\": {\"selector015\": {\"type\": \"single\", \"encodings\": [\"x\"], \"on\": \"mouseover\", \"nearest\": true, \"empty\": \"none\"}}}, {\"mark\": {\"type\": \"text\", \"align\": \"left\", \"dx\": 5, \"dy\": -5, \"stroke\": \"white\", \"strokeWidth\": 2}, \"encoding\": {\"text\": {\"type\": \"quantitative\", \"field\": \"positiveRate\"}, \"tooltip\": [{\"type\": \"temporal\", \"field\": \"date\"}, {\"type\": \"quantitative\", \"field\": \"positiveRate\"}, {\"type\": \"quantitative\", \"field\": \"sma7d\"}], \"x\": {\"type\": \"temporal\", \"field\": \"date\"}, \"y\": {\"type\": \"quantitative\", \"field\": \"positiveRate\"}}, \"transform\": [{\"filter\": {\"selection\": \"selector015\"}}]}, {\"mark\": {\"type\": \"text\", \"align\": \"left\", \"dx\": 5, \"dy\": -5}, \"encoding\": {\"text\": {\"type\": \"quantitative\", \"field\": \"positiveRate\"}, \"tooltip\": [{\"type\": \"temporal\", \"field\": \"date\"}, {\"type\": \"quantitative\", \"field\": \"positiveRate\"}, {\"type\": \"quantitative\", \"field\": \"sma7d\"}], \"x\": {\"type\": \"temporal\", \"field\": \"date\"}, \"y\": {\"type\": \"quantitative\", \"field\": \"positiveRate\"}}, \"transform\": [{\"filter\": {\"selection\": \"selector015\"}}]}], \"data\": {\"name\": \"data-4e09c48c7cc37b0a3bb0a65407e66f4d\"}, \"height\": 400, \"title\": \"Non Tri-State: positiveRate\", \"width\": 500, \"$schema\": \"https://vega.github.io/schema/vega-lite/v4.8.1.json\", \"datasets\": {\"data-4e09c48c7cc37b0a3bb0a65407e66f4d\": [{\"date\": \"2020-11-05T00:00:00\", \"totalTestResultsIncrease\": 1342685.0, \"positiveIncrease\": 111536.0, \"death\": 180366.0, \"deathIncrease\": 1108.0, \"positiveRate\": 0.083, \"state\": \"Non Tri-State\", \"sma7d\": 0.088}, {\"date\": \"2020-11-06T00:00:00\", \"totalTestResultsIncrease\": 1382935.0, \"positiveIncrease\": 121859.0, \"death\": 181506.0, \"deathIncrease\": 1140.0, \"positiveRate\": 0.088, \"state\": \"Non Tri-State\", \"sma7d\": 0.09}, {\"date\": \"2020-11-07T00:00:00\", \"totalTestResultsIncrease\": 1184554.0, \"positiveIncrease\": 124460.0, \"death\": 182611.0, \"deathIncrease\": 1105.0, \"positiveRate\": 0.105, \"state\": \"Non Tri-State\", \"sma7d\": 0.095}, {\"date\": \"2020-11-08T00:00:00\", \"totalTestResultsIncrease\": 1071112.0, \"positiveIncrease\": 106219.0, \"death\": 183089.0, \"deathIncrease\": 478.0, \"positiveRate\": 0.099, \"state\": \"Non Tri-State\", \"sma7d\": 0.088}, {\"date\": \"2020-11-09T00:00:00\", \"totalTestResultsIncrease\": 1173250.0, \"positiveIncrease\": 109045.0, \"death\": 183605.0, \"deathIncrease\": 516.0, \"positiveRate\": 0.093, \"state\": \"Non Tri-State\", \"sma7d\": 0.091}, {\"date\": \"2020-11-10T00:00:00\", \"totalTestResultsIncrease\": 1189128.0, \"positiveIncrease\": 123246.0, \"death\": 184900.0, \"deathIncrease\": 1295.0, \"positiveRate\": 0.104, \"state\": \"Non Tri-State\", \"sma7d\": 0.094}, {\"date\": \"2020-11-11T00:00:00\", \"totalTestResultsIncrease\": 1217154.0, \"positiveIncrease\": 138531.0, \"death\": 186434.0, \"deathIncrease\": 1534.0, \"positiveRate\": 0.114, \"state\": \"Non Tri-State\", \"sma7d\": 0.098}, {\"date\": \"2020-11-12T00:00:00\", \"totalTestResultsIncrease\": 1341923.0, \"positiveIncrease\": 147113.0, \"death\": 187487.0, \"deathIncrease\": 1053.0, \"positiveRate\": 0.11, \"state\": \"Non Tri-State\", \"sma7d\": 0.102}, {\"date\": \"2020-11-13T00:00:00\", \"totalTestResultsIncrease\": 1413320.0, \"positiveIncrease\": 161733.0, \"death\": 188729.0, \"deathIncrease\": 1242.0, \"positiveRate\": 0.114, \"state\": \"Non Tri-State\", \"sma7d\": 0.106}, {\"date\": \"2020-11-14T00:00:00\", \"totalTestResultsIncrease\": 1478206.0, \"positiveIncrease\": 156848.0, \"death\": 190031.0, \"deathIncrease\": 1302.0, \"positiveRate\": 0.106, \"state\": \"Non Tri-State\", \"sma7d\": 0.106}, {\"date\": \"2020-11-15T00:00:00\", \"totalTestResultsIncrease\": 1290539.0, \"positiveIncrease\": 138020.0, \"death\": 190691.0, \"deathIncrease\": 660.0, \"positiveRate\": 0.107, \"state\": \"Non Tri-State\", \"sma7d\": 0.107}, {\"date\": \"2020-11-16T00:00:00\", \"totalTestResultsIncrease\": 1316164.0, \"positiveIncrease\": 138752.0, \"death\": 191238.0, \"deathIncrease\": 547.0, \"positiveRate\": 0.105, \"state\": \"Non Tri-State\", \"sma7d\": 0.109}, {\"date\": \"2020-11-17T00:00:00\", \"totalTestResultsIncrease\": 1376094.0, \"positiveIncrease\": 147660.0, \"death\": 192720.0, \"deathIncrease\": 1482.0, \"positiveRate\": 0.107, \"state\": \"Non Tri-State\", \"sma7d\": 0.109}, {\"date\": \"2020-11-18T00:00:00\", \"totalTestResultsIncrease\": 1337808.0, \"positiveIncrease\": 155653.0, \"death\": 194516.0, \"deathIncrease\": 1796.0, \"positiveRate\": 0.116, \"state\": \"Non Tri-State\", \"sma7d\": 0.109}, {\"date\": \"2020-11-19T00:00:00\", \"totalTestResultsIncrease\": 1611993.0, \"positiveIncrease\": 174740.0, \"death\": 196449.0, \"deathIncrease\": 1933.0, \"positiveRate\": 0.108, \"state\": \"Non Tri-State\", \"sma7d\": 0.109}, {\"date\": \"2020-11-20T00:00:00\", \"totalTestResultsIncrease\": 1660932.0, \"positiveIncrease\": 184711.0, \"death\": 198262.0, \"deathIncrease\": 1813.0, \"positiveRate\": 0.111, \"state\": \"Non Tri-State\", \"sma7d\": 0.109}, {\"date\": \"2020-11-21T00:00:00\", \"totalTestResultsIncrease\": 1789030.0, \"positiveIncrease\": 172168.0, \"death\": 199748.0, \"deathIncrease\": 1486.0, \"positiveRate\": 0.096, \"state\": \"Non Tri-State\", \"sma7d\": 0.107}, {\"date\": \"2020-11-22T00:00:00\", \"totalTestResultsIncrease\": 1501628.0, \"positiveIncrease\": 144012.0, \"death\": 200619.0, \"deathIncrease\": 871.0, \"positiveRate\": 0.096, \"state\": \"Non Tri-State\", \"sma7d\": 0.106}, {\"date\": \"2020-11-23T00:00:00\", \"totalTestResultsIncrease\": 1338437.0, \"positiveIncrease\": 139025.0, \"death\": 201390.0, \"deathIncrease\": 771.0, \"positiveRate\": 0.104, \"state\": \"Non Tri-State\", \"sma7d\": 0.105}, {\"date\": \"2020-11-24T00:00:00\", \"totalTestResultsIncrease\": 1653818.0, \"positiveIncrease\": 154696.0, \"death\": 203388.0, \"deathIncrease\": 1998.0, \"positiveRate\": 0.094, \"state\": \"Non Tri-State\", \"sma7d\": 0.104}, {\"date\": \"2020-11-25T00:00:00\", \"totalTestResultsIncrease\": 1517918.0, \"positiveIncrease\": 174955.0, \"death\": 205515.0, \"deathIncrease\": 2127.0, \"positiveRate\": 0.115, \"state\": \"Non Tri-State\", \"sma7d\": 0.103}, {\"date\": \"2020-11-26T00:00:00\", \"totalTestResultsIncrease\": 1044457.0, \"positiveIncrease\": 117303.0, \"death\": 206796.0, \"deathIncrease\": 1281.0, \"positiveRate\": 0.112, \"state\": \"Non Tri-State\", \"sma7d\": 0.104}, {\"date\": \"2020-11-27T00:00:00\", \"totalTestResultsIncrease\": 1736706.0, \"positiveIncrease\": 181480.0, \"death\": 208097.0, \"deathIncrease\": 1301.0, \"positiveRate\": 0.104, \"state\": \"Non Tri-State\", \"sma7d\": 0.103}, {\"date\": \"2020-11-28T00:00:00\", \"totalTestResultsIncrease\": 1412977.0, \"positiveIncrease\": 141319.0, \"death\": 209281.0, \"deathIncrease\": 1184.0, \"positiveRate\": 0.1, \"state\": \"Non Tri-State\", \"sma7d\": 0.104}, {\"date\": \"2020-11-29T00:00:00\", \"totalTestResultsIncrease\": 1123515.0, \"positiveIncrease\": 125685.0, \"death\": 210033.0, \"deathIncrease\": 752.0, \"positiveRate\": 0.112, \"state\": \"Non Tri-State\", \"sma7d\": 0.106}, {\"date\": \"2020-11-30T00:00:00\", \"totalTestResultsIncrease\": 1211499.0, \"positiveIncrease\": 133865.0, \"death\": 210937.0, \"deathIncrease\": 904.0, \"positiveRate\": 0.11, \"state\": \"Non Tri-State\", \"sma7d\": 0.107}, {\"date\": \"2020-12-01T00:00:00\", \"totalTestResultsIncrease\": 1295162.0, \"positiveIncrease\": 164862.0, \"death\": 213264.0, \"deathIncrease\": 2327.0, \"positiveRate\": 0.127, \"state\": \"Non Tri-State\", \"sma7d\": 0.111}, {\"date\": \"2020-12-02T00:00:00\", \"totalTestResultsIncrease\": 1278701.0, \"positiveIncrease\": 185229.0, \"death\": 215882.0, \"deathIncrease\": 2618.0, \"positiveRate\": 0.145, \"state\": \"Non Tri-State\", \"sma7d\": 0.116}, {\"date\": \"2020-12-03T00:00:00\", \"totalTestResultsIncrease\": 1580194.0, \"positiveIncrease\": 194240.0, \"death\": 218557.0, \"deathIncrease\": 2675.0, \"positiveRate\": 0.123, \"state\": \"Non Tri-State\", \"sma7d\": 0.117}, {\"date\": \"2020-12-04T00:00:00\", \"totalTestResultsIncrease\": 1658593.0, \"positiveIncrease\": 210720.0, \"death\": 220987.0, \"deathIncrease\": 2430.0, \"positiveRate\": 0.127, \"state\": \"Non Tri-State\", \"sma7d\": 0.121}, {\"date\": \"2020-12-05T00:00:00\", \"totalTestResultsIncrease\": 1895840.0, \"positiveIncrease\": 200593.0, \"death\": 223344.0, \"deathIncrease\": 2357.0, \"positiveRate\": 0.106, \"state\": \"Non Tri-State\", \"sma7d\": 0.121}, {\"date\": \"2020-12-06T00:00:00\", \"totalTestResultsIncrease\": 1388429.0, \"positiveIncrease\": 165464.0, \"death\": 224414.0, \"deathIncrease\": 1070.0, \"positiveRate\": 0.119, \"state\": \"Non Tri-State\", \"sma7d\": 0.122}, {\"date\": \"2020-12-07T00:00:00\", \"totalTestResultsIncrease\": 1439178.0, \"positiveIncrease\": 161944.0, \"death\": 225535.0, \"deathIncrease\": 1121.0, \"positiveRate\": 0.113, \"state\": \"Non Tri-State\", \"sma7d\": 0.123}, {\"date\": \"2020-12-08T00:00:00\", \"totalTestResultsIncrease\": 1422928.0, \"positiveIncrease\": 197887.0, \"death\": 228055.0, \"deathIncrease\": 2520.0, \"positiveRate\": 0.139, \"state\": \"Non Tri-State\", \"sma7d\": 0.125}, {\"date\": \"2020-12-09T00:00:00\", \"totalTestResultsIncrease\": 1446792.0, \"positiveIncrease\": 196862.0, \"death\": 230963.0, \"deathIncrease\": 2908.0, \"positiveRate\": 0.136, \"state\": \"Non Tri-State\", \"sma7d\": 0.123}, {\"date\": \"2020-12-10T00:00:00\", \"totalTestResultsIncrease\": 1606738.0, \"positiveIncrease\": 201222.0, \"death\": 233876.0, \"deathIncrease\": 2913.0, \"positiveRate\": 0.125, \"state\": \"Non Tri-State\", \"sma7d\": 0.124}, {\"date\": \"2020-12-11T00:00:00\", \"totalTestResultsIncrease\": 1673780.0, \"positiveIncrease\": 216790.0, \"death\": 236446.0, \"deathIncrease\": 2570.0, \"positiveRate\": 0.13, \"state\": \"Non Tri-State\", \"sma7d\": 0.124}, {\"date\": \"2020-12-12T00:00:00\", \"totalTestResultsIncrease\": 1561601.0, \"positiveIncrease\": 207107.0, \"death\": 238782.0, \"deathIncrease\": 2336.0, \"positiveRate\": 0.133, \"state\": \"Non Tri-State\", \"sma7d\": 0.128}, {\"date\": \"2020-12-13T00:00:00\", \"totalTestResultsIncrease\": 1553076.0, \"positiveIncrease\": 171453.0, \"death\": 240147.0, \"deathIncrease\": 1365.0, \"positiveRate\": 0.11, \"state\": \"Non Tri-State\", \"sma7d\": 0.127}, {\"date\": \"2020-12-14T00:00:00\", \"totalTestResultsIncrease\": 1691143.0, \"positiveIncrease\": 171393.0, \"death\": 241315.0, \"deathIncrease\": 1168.0, \"positiveRate\": 0.101, \"state\": \"Non Tri-State\", \"sma7d\": 0.125}, {\"date\": \"2020-12-15T00:00:00\", \"totalTestResultsIncrease\": 1479005.0, \"positiveIncrease\": 173994.0, \"death\": 244035.0, \"deathIncrease\": 2720.0, \"positiveRate\": 0.118, \"state\": \"Non Tri-State\", \"sma7d\": 0.122}, {\"date\": \"2020-12-16T00:00:00\", \"totalTestResultsIncrease\": 1524402.0, \"positiveIncrease\": 213675.0, \"death\": 247214.0, \"deathIncrease\": 3179.0, \"positiveRate\": 0.14, \"state\": \"Non Tri-State\", \"sma7d\": 0.122}, {\"date\": \"2020-12-17T00:00:00\", \"totalTestResultsIncrease\": 1630210.0, \"positiveIncrease\": 222666.0, \"death\": 250407.0, \"deathIncrease\": 3193.0, \"positiveRate\": 0.137, \"state\": \"Non Tri-State\", \"sma7d\": 0.124}, {\"date\": \"2020-12-18T00:00:00\", \"totalTestResultsIncrease\": 1763311.0, \"positiveIncrease\": 219973.0, \"death\": 253078.0, \"deathIncrease\": 2671.0, \"positiveRate\": 0.125, \"state\": \"Non Tri-State\", \"sma7d\": 0.123}, {\"date\": \"2020-12-19T00:00:00\", \"totalTestResultsIncrease\": 1543919.0, \"positiveIncrease\": 188702.0, \"death\": 255622.0, \"deathIncrease\": 2544.0, \"positiveRate\": 0.122, \"state\": \"Non Tri-State\", \"sma7d\": 0.122}, {\"date\": \"2020-12-20T00:00:00\", \"totalTestResultsIncrease\": 1579754.0, \"positiveIncrease\": 180885.0, \"death\": 257110.0, \"deathIncrease\": 1488.0, \"positiveRate\": 0.115, \"state\": \"Non Tri-State\", \"sma7d\": 0.123}, {\"date\": \"2020-12-21T00:00:00\", \"totalTestResultsIncrease\": 1640391.0, \"positiveIncrease\": 161418.0, \"death\": 258360.0, \"deathIncrease\": 1250.0, \"positiveRate\": 0.098, \"state\": \"Non Tri-State\", \"sma7d\": 0.122}, {\"date\": \"2020-12-22T00:00:00\", \"totalTestResultsIncrease\": 1514466.0, \"positiveIncrease\": 174060.0, \"death\": 261255.0, \"deathIncrease\": 2895.0, \"positiveRate\": 0.115, \"state\": \"Non Tri-State\", \"sma7d\": 0.122}, {\"date\": \"2020-12-23T00:00:00\", \"totalTestResultsIncrease\": 1468232.0, \"positiveIncrease\": 202350.0, \"death\": 264295.0, \"deathIncrease\": 3040.0, \"positiveRate\": 0.138, \"state\": \"Non Tri-State\", \"sma7d\": 0.121}, {\"date\": \"2020-12-24T00:00:00\", \"totalTestResultsIncrease\": 1613808.0, \"positiveIncrease\": 184315.0, \"death\": 266978.0, \"deathIncrease\": 2683.0, \"positiveRate\": 0.114, \"state\": \"Non Tri-State\", \"sma7d\": 0.118}, {\"date\": \"2020-12-25T00:00:00\", \"totalTestResultsIncrease\": 1002210.0, \"positiveIncrease\": 107862.0, \"death\": 268354.0, \"deathIncrease\": 1376.0, \"positiveRate\": 0.108, \"state\": \"Non Tri-State\", \"sma7d\": 0.116}, {\"date\": \"2020-12-26T00:00:00\", \"totalTestResultsIncrease\": 1931820.0, \"positiveIncrease\": 174689.0, \"death\": 269629.0, \"deathIncrease\": 1275.0, \"positiveRate\": 0.09, \"state\": \"Non Tri-State\", \"sma7d\": 0.111}, {\"date\": \"2020-12-27T00:00:00\", \"totalTestResultsIncrease\": 1250874.0, \"positiveIncrease\": 143251.0, \"death\": 270899.0, \"deathIncrease\": 1270.0, \"positiveRate\": 0.115, \"state\": \"Non Tri-State\", \"sma7d\": 0.111}, {\"date\": \"2020-12-28T00:00:00\", \"totalTestResultsIncrease\": 1084467.0, \"positiveIncrease\": 140582.0, \"death\": 272138.0, \"deathIncrease\": 1239.0, \"positiveRate\": 0.13, \"state\": \"Non Tri-State\", \"sma7d\": 0.116}, {\"date\": \"2020-12-29T00:00:00\", \"totalTestResultsIncrease\": 1026656.0, \"positiveIncrease\": 178650.0, \"death\": 275148.0, \"deathIncrease\": 3010.0, \"positiveRate\": 0.174, \"state\": \"Non Tri-State\", \"sma7d\": 0.124}]}}, {\"mode\": \"vega-lite\"});\n",
       "</script>"
      ],
      "text/plain": [
       "alt.LayerChart(...)"
      ]
     },
     "execution_count": 16,
     "metadata": {},
     "output_type": "execute_result"
    }
   ],
   "source": [
    "create_plot(non_tristate, 'positiveRate')"
   ]
  },
  {
   "cell_type": "code",
   "execution_count": 17,
   "metadata": {
    "execution": {
     "iopub.execute_input": "2020-12-30T09:27:51.015818Z",
     "iopub.status.busy": "2020-12-30T09:27:51.005457Z",
     "iopub.status.idle": "2020-12-30T09:27:51.087281Z",
     "shell.execute_reply": "2020-12-30T09:27:51.086605Z"
    },
    "papermill": {
     "duration": 0.112717,
     "end_time": "2020-12-30T09:27:51.087471",
     "exception": false,
     "start_time": "2020-12-30T09:27:50.974754",
     "status": "completed"
    },
    "tags": []
   },
   "outputs": [
    {
     "data": {
      "text/html": [
       "\n",
       "<div id=\"altair-viz-34ccfd3cbad84c848ae3661153ff6dcd\"></div>\n",
       "<script type=\"text/javascript\">\n",
       "  (function(spec, embedOpt){\n",
       "    let outputDiv = document.currentScript.previousElementSibling;\n",
       "    if (outputDiv.id !== \"altair-viz-34ccfd3cbad84c848ae3661153ff6dcd\") {\n",
       "      outputDiv = document.getElementById(\"altair-viz-34ccfd3cbad84c848ae3661153ff6dcd\");\n",
       "    }\n",
       "    const paths = {\n",
       "      \"vega\": \"https://cdn.jsdelivr.net/npm//vega@5?noext\",\n",
       "      \"vega-lib\": \"https://cdn.jsdelivr.net/npm//vega-lib?noext\",\n",
       "      \"vega-lite\": \"https://cdn.jsdelivr.net/npm//vega-lite@4.8.1?noext\",\n",
       "      \"vega-embed\": \"https://cdn.jsdelivr.net/npm//vega-embed@6?noext\",\n",
       "    };\n",
       "\n",
       "    function loadScript(lib) {\n",
       "      return new Promise(function(resolve, reject) {\n",
       "        var s = document.createElement('script');\n",
       "        s.src = paths[lib];\n",
       "        s.async = true;\n",
       "        s.onload = () => resolve(paths[lib]);\n",
       "        s.onerror = () => reject(`Error loading script: ${paths[lib]}`);\n",
       "        document.getElementsByTagName(\"head\")[0].appendChild(s);\n",
       "      });\n",
       "    }\n",
       "\n",
       "    function showError(err) {\n",
       "      outputDiv.innerHTML = `<div class=\"error\" style=\"color:red;\">${err}</div>`;\n",
       "      throw err;\n",
       "    }\n",
       "\n",
       "    function displayChart(vegaEmbed) {\n",
       "      vegaEmbed(outputDiv, spec, embedOpt)\n",
       "        .catch(err => showError(`Javascript Error: ${err.message}<br>This usually means there's a typo in your chart specification. See the javascript console for the full traceback.`));\n",
       "    }\n",
       "\n",
       "    if(typeof define === \"function\" && define.amd) {\n",
       "      requirejs.config({paths});\n",
       "      require([\"vega-embed\"], displayChart, err => showError(`Error loading script: ${err.message}`));\n",
       "    } else if (typeof vegaEmbed === \"function\") {\n",
       "      displayChart(vegaEmbed);\n",
       "    } else {\n",
       "      loadScript(\"vega\")\n",
       "        .then(() => loadScript(\"vega-lite\"))\n",
       "        .then(() => loadScript(\"vega-embed\"))\n",
       "        .catch(showError)\n",
       "        .then(() => displayChart(vegaEmbed));\n",
       "    }\n",
       "  })({\"config\": {\"view\": {\"continuousWidth\": 400, \"continuousHeight\": 300}}, \"layer\": [{\"layer\": [{\"mark\": {\"type\": \"point\", \"size\": 75}, \"encoding\": {\"tooltip\": [{\"type\": \"temporal\", \"field\": \"date\"}, {\"type\": \"quantitative\", \"field\": \"deathIncrease\"}, {\"type\": \"quantitative\", \"field\": \"sma7d\"}], \"x\": {\"type\": \"temporal\", \"field\": \"date\"}, \"y\": {\"type\": \"quantitative\", \"field\": \"deathIncrease\"}}, \"selection\": {\"selector018\": {\"type\": \"interval\", \"bind\": \"scales\", \"encodings\": [\"x\", \"y\"]}}}, {\"mark\": {\"type\": \"line\", \"color\": \"purple\"}, \"encoding\": {\"x\": {\"type\": \"temporal\", \"field\": \"date\"}, \"y\": {\"type\": \"quantitative\", \"field\": \"sma7d\"}}}]}, {\"mark\": {\"type\": \"rule\", \"color\": \"#aaa\"}, \"encoding\": {\"x\": {\"type\": \"temporal\", \"field\": \"date\"}}, \"transform\": [{\"filter\": {\"selection\": \"selector017\"}}]}, {\"mark\": \"circle\", \"encoding\": {\"opacity\": {\"condition\": {\"value\": 1, \"selection\": \"selector017\"}, \"value\": 0}, \"tooltip\": [{\"type\": \"temporal\", \"field\": \"date\"}, {\"type\": \"quantitative\", \"field\": \"deathIncrease\"}, {\"type\": \"quantitative\", \"field\": \"sma7d\"}], \"x\": {\"type\": \"temporal\", \"field\": \"date\"}, \"y\": {\"type\": \"quantitative\", \"field\": \"deathIncrease\"}}, \"selection\": {\"selector017\": {\"type\": \"single\", \"encodings\": [\"x\"], \"on\": \"mouseover\", \"nearest\": true, \"empty\": \"none\"}}}, {\"mark\": {\"type\": \"text\", \"align\": \"left\", \"dx\": 5, \"dy\": -5, \"stroke\": \"white\", \"strokeWidth\": 2}, \"encoding\": {\"text\": {\"type\": \"quantitative\", \"field\": \"deathIncrease\"}, \"tooltip\": [{\"type\": \"temporal\", \"field\": \"date\"}, {\"type\": \"quantitative\", \"field\": \"deathIncrease\"}, {\"type\": \"quantitative\", \"field\": \"sma7d\"}], \"x\": {\"type\": \"temporal\", \"field\": \"date\"}, \"y\": {\"type\": \"quantitative\", \"field\": \"deathIncrease\"}}, \"transform\": [{\"filter\": {\"selection\": \"selector017\"}}]}, {\"mark\": {\"type\": \"text\", \"align\": \"left\", \"dx\": 5, \"dy\": -5}, \"encoding\": {\"text\": {\"type\": \"quantitative\", \"field\": \"deathIncrease\"}, \"tooltip\": [{\"type\": \"temporal\", \"field\": \"date\"}, {\"type\": \"quantitative\", \"field\": \"deathIncrease\"}, {\"type\": \"quantitative\", \"field\": \"sma7d\"}], \"x\": {\"type\": \"temporal\", \"field\": \"date\"}, \"y\": {\"type\": \"quantitative\", \"field\": \"deathIncrease\"}}, \"transform\": [{\"filter\": {\"selection\": \"selector017\"}}]}], \"data\": {\"name\": \"data-36bceb4136b9e72287d113bfd0131d93\"}, \"height\": 400, \"title\": \"Non Tri-State: deathIncrease\", \"width\": 500, \"$schema\": \"https://vega.github.io/schema/vega-lite/v4.8.1.json\", \"datasets\": {\"data-36bceb4136b9e72287d113bfd0131d93\": [{\"date\": \"2020-11-05T00:00:00\", \"totalTestResultsIncrease\": 1342685.0, \"positiveIncrease\": 111536.0, \"death\": 180366.0, \"deathIncrease\": 1108.0, \"positiveRate\": 0.083, \"state\": \"Non Tri-State\", \"sma7d\": 911.0}, {\"date\": \"2020-11-06T00:00:00\", \"totalTestResultsIncrease\": 1382935.0, \"positiveIncrease\": 121859.0, \"death\": 181506.0, \"deathIncrease\": 1140.0, \"positiveRate\": 0.088, \"state\": \"Non Tri-State\", \"sma7d\": 942.286}, {\"date\": \"2020-11-07T00:00:00\", \"totalTestResultsIncrease\": 1184554.0, \"positiveIncrease\": 124460.0, \"death\": 182611.0, \"deathIncrease\": 1105.0, \"positiveRate\": 0.105, \"state\": \"Non Tri-State\", \"sma7d\": 963.571}, {\"date\": \"2020-11-08T00:00:00\", \"totalTestResultsIncrease\": 1071112.0, \"positiveIncrease\": 106219.0, \"death\": 183089.0, \"deathIncrease\": 478.0, \"positiveRate\": 0.099, \"state\": \"Non Tri-State\", \"sma7d\": 978.0}, {\"date\": \"2020-11-09T00:00:00\", \"totalTestResultsIncrease\": 1173250.0, \"positiveIncrease\": 109045.0, \"death\": 183605.0, \"deathIncrease\": 516.0, \"positiveRate\": 0.093, \"state\": \"Non Tri-State\", \"sma7d\": 988.0}, {\"date\": \"2020-11-10T00:00:00\", \"totalTestResultsIncrease\": 1189128.0, \"positiveIncrease\": 123246.0, \"death\": 184900.0, \"deathIncrease\": 1295.0, \"positiveRate\": 0.104, \"state\": \"Non Tri-State\", \"sma7d\": 959.857}, {\"date\": \"2020-11-11T00:00:00\", \"totalTestResultsIncrease\": 1217154.0, \"positiveIncrease\": 138531.0, \"death\": 186434.0, \"deathIncrease\": 1534.0, \"positiveRate\": 0.114, \"state\": \"Non Tri-State\", \"sma7d\": 1025.143}, {\"date\": \"2020-11-12T00:00:00\", \"totalTestResultsIncrease\": 1341923.0, \"positiveIncrease\": 147113.0, \"death\": 187487.0, \"deathIncrease\": 1053.0, \"positiveRate\": 0.11, \"state\": \"Non Tri-State\", \"sma7d\": 1017.286}, {\"date\": \"2020-11-13T00:00:00\", \"totalTestResultsIncrease\": 1413320.0, \"positiveIncrease\": 161733.0, \"death\": 188729.0, \"deathIncrease\": 1242.0, \"positiveRate\": 0.114, \"state\": \"Non Tri-State\", \"sma7d\": 1031.857}, {\"date\": \"2020-11-14T00:00:00\", \"totalTestResultsIncrease\": 1478206.0, \"positiveIncrease\": 156848.0, \"death\": 190031.0, \"deathIncrease\": 1302.0, \"positiveRate\": 0.106, \"state\": \"Non Tri-State\", \"sma7d\": 1060.0}, {\"date\": \"2020-11-15T00:00:00\", \"totalTestResultsIncrease\": 1290539.0, \"positiveIncrease\": 138020.0, \"death\": 190691.0, \"deathIncrease\": 660.0, \"positiveRate\": 0.107, \"state\": \"Non Tri-State\", \"sma7d\": 1086.0}, {\"date\": \"2020-11-16T00:00:00\", \"totalTestResultsIncrease\": 1316164.0, \"positiveIncrease\": 138752.0, \"death\": 191238.0, \"deathIncrease\": 547.0, \"positiveRate\": 0.105, \"state\": \"Non Tri-State\", \"sma7d\": 1090.429}, {\"date\": \"2020-11-17T00:00:00\", \"totalTestResultsIncrease\": 1376094.0, \"positiveIncrease\": 147660.0, \"death\": 192720.0, \"deathIncrease\": 1482.0, \"positiveRate\": 0.107, \"state\": \"Non Tri-State\", \"sma7d\": 1117.143}, {\"date\": \"2020-11-18T00:00:00\", \"totalTestResultsIncrease\": 1337808.0, \"positiveIncrease\": 155653.0, \"death\": 194516.0, \"deathIncrease\": 1796.0, \"positiveRate\": 0.116, \"state\": \"Non Tri-State\", \"sma7d\": 1154.571}, {\"date\": \"2020-11-19T00:00:00\", \"totalTestResultsIncrease\": 1611993.0, \"positiveIncrease\": 174740.0, \"death\": 196449.0, \"deathIncrease\": 1933.0, \"positiveRate\": 0.108, \"state\": \"Non Tri-State\", \"sma7d\": 1280.286}, {\"date\": \"2020-11-20T00:00:00\", \"totalTestResultsIncrease\": 1660932.0, \"positiveIncrease\": 184711.0, \"death\": 198262.0, \"deathIncrease\": 1813.0, \"positiveRate\": 0.111, \"state\": \"Non Tri-State\", \"sma7d\": 1361.857}, {\"date\": \"2020-11-21T00:00:00\", \"totalTestResultsIncrease\": 1789030.0, \"positiveIncrease\": 172168.0, \"death\": 199748.0, \"deathIncrease\": 1486.0, \"positiveRate\": 0.096, \"state\": \"Non Tri-State\", \"sma7d\": 1388.143}, {\"date\": \"2020-11-22T00:00:00\", \"totalTestResultsIncrease\": 1501628.0, \"positiveIncrease\": 144012.0, \"death\": 200619.0, \"deathIncrease\": 871.0, \"positiveRate\": 0.096, \"state\": \"Non Tri-State\", \"sma7d\": 1418.286}, {\"date\": \"2020-11-23T00:00:00\", \"totalTestResultsIncrease\": 1338437.0, \"positiveIncrease\": 139025.0, \"death\": 201390.0, \"deathIncrease\": 771.0, \"positiveRate\": 0.104, \"state\": \"Non Tri-State\", \"sma7d\": 1450.286}, {\"date\": \"2020-11-24T00:00:00\", \"totalTestResultsIncrease\": 1653818.0, \"positiveIncrease\": 154696.0, \"death\": 203388.0, \"deathIncrease\": 1998.0, \"positiveRate\": 0.094, \"state\": \"Non Tri-State\", \"sma7d\": 1524.0}, {\"date\": \"2020-11-25T00:00:00\", \"totalTestResultsIncrease\": 1517918.0, \"positiveIncrease\": 174955.0, \"death\": 205515.0, \"deathIncrease\": 2127.0, \"positiveRate\": 0.115, \"state\": \"Non Tri-State\", \"sma7d\": 1571.286}, {\"date\": \"2020-11-26T00:00:00\", \"totalTestResultsIncrease\": 1044457.0, \"positiveIncrease\": 117303.0, \"death\": 206796.0, \"deathIncrease\": 1281.0, \"positiveRate\": 0.112, \"state\": \"Non Tri-State\", \"sma7d\": 1478.143}, {\"date\": \"2020-11-27T00:00:00\", \"totalTestResultsIncrease\": 1736706.0, \"positiveIncrease\": 181480.0, \"death\": 208097.0, \"deathIncrease\": 1301.0, \"positiveRate\": 0.104, \"state\": \"Non Tri-State\", \"sma7d\": 1405.0}, {\"date\": \"2020-11-28T00:00:00\", \"totalTestResultsIncrease\": 1412977.0, \"positiveIncrease\": 141319.0, \"death\": 209281.0, \"deathIncrease\": 1184.0, \"positiveRate\": 0.1, \"state\": \"Non Tri-State\", \"sma7d\": 1361.857}, {\"date\": \"2020-11-29T00:00:00\", \"totalTestResultsIncrease\": 1123515.0, \"positiveIncrease\": 125685.0, \"death\": 210033.0, \"deathIncrease\": 752.0, \"positiveRate\": 0.112, \"state\": \"Non Tri-State\", \"sma7d\": 1344.857}, {\"date\": \"2020-11-30T00:00:00\", \"totalTestResultsIncrease\": 1211499.0, \"positiveIncrease\": 133865.0, \"death\": 210937.0, \"deathIncrease\": 904.0, \"positiveRate\": 0.11, \"state\": \"Non Tri-State\", \"sma7d\": 1363.857}, {\"date\": \"2020-12-01T00:00:00\", \"totalTestResultsIncrease\": 1295162.0, \"positiveIncrease\": 164862.0, \"death\": 213264.0, \"deathIncrease\": 2327.0, \"positiveRate\": 0.127, \"state\": \"Non Tri-State\", \"sma7d\": 1410.857}, {\"date\": \"2020-12-02T00:00:00\", \"totalTestResultsIncrease\": 1278701.0, \"positiveIncrease\": 185229.0, \"death\": 215882.0, \"deathIncrease\": 2618.0, \"positiveRate\": 0.145, \"state\": \"Non Tri-State\", \"sma7d\": 1481.0}, {\"date\": \"2020-12-03T00:00:00\", \"totalTestResultsIncrease\": 1580194.0, \"positiveIncrease\": 194240.0, \"death\": 218557.0, \"deathIncrease\": 2675.0, \"positiveRate\": 0.123, \"state\": \"Non Tri-State\", \"sma7d\": 1680.143}, {\"date\": \"2020-12-04T00:00:00\", \"totalTestResultsIncrease\": 1658593.0, \"positiveIncrease\": 210720.0, \"death\": 220987.0, \"deathIncrease\": 2430.0, \"positiveRate\": 0.127, \"state\": \"Non Tri-State\", \"sma7d\": 1841.429}, {\"date\": \"2020-12-05T00:00:00\", \"totalTestResultsIncrease\": 1895840.0, \"positiveIncrease\": 200593.0, \"death\": 223344.0, \"deathIncrease\": 2357.0, \"positiveRate\": 0.106, \"state\": \"Non Tri-State\", \"sma7d\": 2009.0}, {\"date\": \"2020-12-06T00:00:00\", \"totalTestResultsIncrease\": 1388429.0, \"positiveIncrease\": 165464.0, \"death\": 224414.0, \"deathIncrease\": 1070.0, \"positiveRate\": 0.119, \"state\": \"Non Tri-State\", \"sma7d\": 2054.429}, {\"date\": \"2020-12-07T00:00:00\", \"totalTestResultsIncrease\": 1439178.0, \"positiveIncrease\": 161944.0, \"death\": 225535.0, \"deathIncrease\": 1121.0, \"positiveRate\": 0.113, \"state\": \"Non Tri-State\", \"sma7d\": 2085.429}, {\"date\": \"2020-12-08T00:00:00\", \"totalTestResultsIncrease\": 1422928.0, \"positiveIncrease\": 197887.0, \"death\": 228055.0, \"deathIncrease\": 2520.0, \"positiveRate\": 0.139, \"state\": \"Non Tri-State\", \"sma7d\": 2113.0}, {\"date\": \"2020-12-09T00:00:00\", \"totalTestResultsIncrease\": 1446792.0, \"positiveIncrease\": 196862.0, \"death\": 230963.0, \"deathIncrease\": 2908.0, \"positiveRate\": 0.136, \"state\": \"Non Tri-State\", \"sma7d\": 2154.429}, {\"date\": \"2020-12-10T00:00:00\", \"totalTestResultsIncrease\": 1606738.0, \"positiveIncrease\": 201222.0, \"death\": 233876.0, \"deathIncrease\": 2913.0, \"positiveRate\": 0.125, \"state\": \"Non Tri-State\", \"sma7d\": 2188.429}, {\"date\": \"2020-12-11T00:00:00\", \"totalTestResultsIncrease\": 1673780.0, \"positiveIncrease\": 216790.0, \"death\": 236446.0, \"deathIncrease\": 2570.0, \"positiveRate\": 0.13, \"state\": \"Non Tri-State\", \"sma7d\": 2208.429}, {\"date\": \"2020-12-12T00:00:00\", \"totalTestResultsIncrease\": 1561601.0, \"positiveIncrease\": 207107.0, \"death\": 238782.0, \"deathIncrease\": 2336.0, \"positiveRate\": 0.133, \"state\": \"Non Tri-State\", \"sma7d\": 2205.429}, {\"date\": \"2020-12-13T00:00:00\", \"totalTestResultsIncrease\": 1553076.0, \"positiveIncrease\": 171453.0, \"death\": 240147.0, \"deathIncrease\": 1365.0, \"positiveRate\": 0.11, \"state\": \"Non Tri-State\", \"sma7d\": 2247.571}, {\"date\": \"2020-12-14T00:00:00\", \"totalTestResultsIncrease\": 1691143.0, \"positiveIncrease\": 171393.0, \"death\": 241315.0, \"deathIncrease\": 1168.0, \"positiveRate\": 0.101, \"state\": \"Non Tri-State\", \"sma7d\": 2254.286}, {\"date\": \"2020-12-15T00:00:00\", \"totalTestResultsIncrease\": 1479005.0, \"positiveIncrease\": 173994.0, \"death\": 244035.0, \"deathIncrease\": 2720.0, \"positiveRate\": 0.118, \"state\": \"Non Tri-State\", \"sma7d\": 2282.857}, {\"date\": \"2020-12-16T00:00:00\", \"totalTestResultsIncrease\": 1524402.0, \"positiveIncrease\": 213675.0, \"death\": 247214.0, \"deathIncrease\": 3179.0, \"positiveRate\": 0.14, \"state\": \"Non Tri-State\", \"sma7d\": 2321.571}, {\"date\": \"2020-12-17T00:00:00\", \"totalTestResultsIncrease\": 1630210.0, \"positiveIncrease\": 222666.0, \"death\": 250407.0, \"deathIncrease\": 3193.0, \"positiveRate\": 0.137, \"state\": \"Non Tri-State\", \"sma7d\": 2361.571}, {\"date\": \"2020-12-18T00:00:00\", \"totalTestResultsIncrease\": 1763311.0, \"positiveIncrease\": 219973.0, \"death\": 253078.0, \"deathIncrease\": 2671.0, \"positiveRate\": 0.125, \"state\": \"Non Tri-State\", \"sma7d\": 2376.0}, {\"date\": \"2020-12-19T00:00:00\", \"totalTestResultsIncrease\": 1543919.0, \"positiveIncrease\": 188702.0, \"death\": 255622.0, \"deathIncrease\": 2544.0, \"positiveRate\": 0.122, \"state\": \"Non Tri-State\", \"sma7d\": 2405.714}, {\"date\": \"2020-12-20T00:00:00\", \"totalTestResultsIncrease\": 1579754.0, \"positiveIncrease\": 180885.0, \"death\": 257110.0, \"deathIncrease\": 1488.0, \"positiveRate\": 0.115, \"state\": \"Non Tri-State\", \"sma7d\": 2423.286}, {\"date\": \"2020-12-21T00:00:00\", \"totalTestResultsIncrease\": 1640391.0, \"positiveIncrease\": 161418.0, \"death\": 258360.0, \"deathIncrease\": 1250.0, \"positiveRate\": 0.098, \"state\": \"Non Tri-State\", \"sma7d\": 2435.0}, {\"date\": \"2020-12-22T00:00:00\", \"totalTestResultsIncrease\": 1514466.0, \"positiveIncrease\": 174060.0, \"death\": 261255.0, \"deathIncrease\": 2895.0, \"positiveRate\": 0.115, \"state\": \"Non Tri-State\", \"sma7d\": 2460.0}, {\"date\": \"2020-12-23T00:00:00\", \"totalTestResultsIncrease\": 1468232.0, \"positiveIncrease\": 202350.0, \"death\": 264295.0, \"deathIncrease\": 3040.0, \"positiveRate\": 0.138, \"state\": \"Non Tri-State\", \"sma7d\": 2440.143}, {\"date\": \"2020-12-24T00:00:00\", \"totalTestResultsIncrease\": 1613808.0, \"positiveIncrease\": 184315.0, \"death\": 266978.0, \"deathIncrease\": 2683.0, \"positiveRate\": 0.114, \"state\": \"Non Tri-State\", \"sma7d\": 2367.286}, {\"date\": \"2020-12-25T00:00:00\", \"totalTestResultsIncrease\": 1002210.0, \"positiveIncrease\": 107862.0, \"death\": 268354.0, \"deathIncrease\": 1376.0, \"positiveRate\": 0.108, \"state\": \"Non Tri-State\", \"sma7d\": 2182.286}, {\"date\": \"2020-12-26T00:00:00\", \"totalTestResultsIncrease\": 1931820.0, \"positiveIncrease\": 174689.0, \"death\": 269629.0, \"deathIncrease\": 1275.0, \"positiveRate\": 0.09, \"state\": \"Non Tri-State\", \"sma7d\": 2001.0}, {\"date\": \"2020-12-27T00:00:00\", \"totalTestResultsIncrease\": 1250874.0, \"positiveIncrease\": 143251.0, \"death\": 270899.0, \"deathIncrease\": 1270.0, \"positiveRate\": 0.115, \"state\": \"Non Tri-State\", \"sma7d\": 1969.857}, {\"date\": \"2020-12-28T00:00:00\", \"totalTestResultsIncrease\": 1084467.0, \"positiveIncrease\": 140582.0, \"death\": 272138.0, \"deathIncrease\": 1239.0, \"positiveRate\": 0.13, \"state\": \"Non Tri-State\", \"sma7d\": 1968.286}, {\"date\": \"2020-12-29T00:00:00\", \"totalTestResultsIncrease\": 1026656.0, \"positiveIncrease\": 178650.0, \"death\": 275148.0, \"deathIncrease\": 3010.0, \"positiveRate\": 0.174, \"state\": \"Non Tri-State\", \"sma7d\": 1984.714}]}}, {\"mode\": \"vega-lite\"});\n",
       "</script>"
      ],
      "text/plain": [
       "alt.LayerChart(...)"
      ]
     },
     "execution_count": 17,
     "metadata": {},
     "output_type": "execute_result"
    }
   ],
   "source": [
    "create_plot(non_tristate, 'deathIncrease')"
   ]
  }
 ],
 "metadata": {
  "kernelspec": {
   "display_name": "Python 3",
   "language": "python",
   "name": "python3"
  },
  "language_info": {
   "codemirror_mode": {
    "name": "ipython",
    "version": 3
   },
   "file_extension": ".py",
   "mimetype": "text/x-python",
   "name": "python",
   "nbconvert_exporter": "python",
   "pygments_lexer": "ipython3",
   "version": "3.8.6"
  },
  "papermill": {
   "duration": 5.642165,
   "end_time": "2020-12-30T09:27:51.415596",
   "environment_variables": {},
   "exception": null,
   "input_path": "2020-07-19-covid-plots.ipynb",
   "output_path": "2020-07-19-covid-plots.ipynb",
   "parameters": {},
   "start_time": "2020-12-30T09:27:45.773431",
   "version": "2.1.2"
  }
 },
 "nbformat": 4,
 "nbformat_minor": 4
}