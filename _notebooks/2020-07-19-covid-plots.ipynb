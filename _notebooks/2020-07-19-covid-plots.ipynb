{
 "cells": [
  {
   "cell_type": "markdown",
   "metadata": {
    "papermill": {
     "duration": 0.014172,
     "end_time": "2020-10-07T22:34:04.728776",
     "exception": false,
     "start_time": "2020-10-07T22:34:04.714604",
     "status": "completed"
    },
    "tags": []
   },
   "source": [
    "# \"COVID-19 plots\"\n",
    "> \"Interactive plots with daily updates\"\n",
    "\n",
    "- author: bbernst\n",
    "- toc: true\n",
    "- branch: master\n",
    "- badges: true\n",
    "- comments: true\n",
    "- categories: [healthcare, covid]\n",
    "- image: images/covid_plots/covid_mask.png\n",
    "- hide: false\n",
    "- search_exclude: true"
   ]
  },
  {
   "cell_type": "markdown",
   "metadata": {
    "papermill": {
     "duration": 0.011945,
     "end_time": "2020-10-07T22:34:04.755301",
     "exception": false,
     "start_time": "2020-10-07T22:34:04.743356",
     "status": "completed"
    },
    "tags": []
   },
   "source": [
    "I wanted to make a simple COVID-19 post to accomplish two main goals:\n",
    "1. Easily see the specific plots I'm interested in\n",
    "1. Update these plots every day, automatically\n",
    "\n",
    "Enter [fastpages](https://github.com/fastai/fastpages) and [github actions](https://github.com/features/actions). I'd been meaning to set up a blog with fastpages for a while and thought this would be a good reason to try it out. The documentation was great and I was able to set up automatic updates by using https://covid19dashboards.com/ as a guide.\n",
    "\n",
    "The data for this post comes from https://covidtracking.com/, which updates by 5pm each day, and I have my dashboard update at 6:30pm. For each geography -- so far that's the US, New York, and Non Tri-State -- I look at daily positive cases, positive rate, and deaths. Be sure to hover around on each of the plots, they have helpful interactive tooltips to make reading the data more intuitive."
   ]
  },
  {
   "cell_type": "code",
   "execution_count": 1,
   "metadata": {
    "execution": {
     "iopub.execute_input": "2020-10-07T22:34:04.784841Z",
     "iopub.status.busy": "2020-10-07T22:34:04.784108Z",
     "iopub.status.idle": "2020-10-07T22:34:05.198745Z",
     "shell.execute_reply": "2020-10-07T22:34:05.197612Z"
    },
    "papermill": {
     "duration": 0.431331,
     "end_time": "2020-10-07T22:34:05.198925",
     "exception": false,
     "start_time": "2020-10-07T22:34:04.767594",
     "status": "completed"
    },
    "tags": []
   },
   "outputs": [],
   "source": [
    "#collapse\n",
    "from typing import Callable, Literal\n",
    "import pandas as pd\n",
    "import altair as alt"
   ]
  },
  {
   "cell_type": "code",
   "execution_count": 2,
   "metadata": {
    "execution": {
     "iopub.execute_input": "2020-10-07T22:34:05.230720Z",
     "iopub.status.busy": "2020-10-07T22:34:05.230033Z",
     "iopub.status.idle": "2020-10-07T22:34:05.247568Z",
     "shell.execute_reply": "2020-10-07T22:34:05.248003Z"
    },
    "papermill": {
     "duration": 0.034931,
     "end_time": "2020-10-07T22:34:05.248161",
     "exception": false,
     "start_time": "2020-10-07T22:34:05.213230",
     "status": "completed"
    },
    "tags": []
   },
   "outputs": [
    {
     "name": "stdout",
     "output_type": "stream",
     "text": [
      "Last updated at (ET): 2020-10-07 06:34:05 PM\n"
     ]
    }
   ],
   "source": [
    "#hide_input\n",
    "current_utc = pd.Timestamp.now(tz='America/New_York').strftime('%Y-%m-%d %I:%M:%S %p')\n",
    "print(f\"Last updated at (ET): {current_utc}\")"
   ]
  },
  {
   "cell_type": "markdown",
   "metadata": {
    "papermill": {
     "duration": 0.01254,
     "end_time": "2020-10-07T22:34:05.273547",
     "exception": false,
     "start_time": "2020-10-07T22:34:05.261007",
     "status": "completed"
    },
    "tags": []
   },
   "source": [
    "# Data"
   ]
  },
  {
   "cell_type": "code",
   "execution_count": 3,
   "metadata": {
    "execution": {
     "iopub.execute_input": "2020-10-07T22:34:05.305296Z",
     "iopub.status.busy": "2020-10-07T22:34:05.304708Z",
     "iopub.status.idle": "2020-10-07T22:34:06.108916Z",
     "shell.execute_reply": "2020-10-07T22:34:06.108412Z"
    },
    "papermill": {
     "duration": 0.822699,
     "end_time": "2020-10-07T22:34:06.109108",
     "exception": false,
     "start_time": "2020-10-07T22:34:05.286409",
     "status": "completed"
    },
    "tags": []
   },
   "outputs": [],
   "source": [
    "df = pd.read_csv('https://covidtracking.com/api/states/daily.csv')"
   ]
  },
  {
   "cell_type": "markdown",
   "metadata": {
    "papermill": {
     "duration": 0.014103,
     "end_time": "2020-10-07T22:34:06.136765",
     "exception": false,
     "start_time": "2020-10-07T22:34:06.122662",
     "status": "completed"
    },
    "tags": []
   },
   "source": [
    "# Helpers"
   ]
  },
  {
   "cell_type": "code",
   "execution_count": 4,
   "metadata": {
    "execution": {
     "iopub.execute_input": "2020-10-07T22:34:06.171203Z",
     "iopub.status.busy": "2020-10-07T22:34:06.170534Z",
     "iopub.status.idle": "2020-10-07T22:34:06.172634Z",
     "shell.execute_reply": "2020-10-07T22:34:06.173222Z"
    },
    "papermill": {
     "duration": 0.023277,
     "end_time": "2020-10-07T22:34:06.173385",
     "exception": false,
     "start_time": "2020-10-07T22:34:06.150108",
     "status": "completed"
    },
    "tags": []
   },
   "outputs": [],
   "source": [
    "#collapse\n",
    "def create_df(df: pd.DataFrame, \n",
    "              filter_f: Callable, \n",
    "              state_name: str):\n",
    "    out_df = (\n",
    "     df\n",
    "     .assign(date = lambda d: pd.to_datetime(d['date'], format='%Y%m%d'))\n",
    "     .loc[filter_f, :]\n",
    "     .groupby('date')\n",
    "     .apply(lambda d: pd.Series(dict(\n",
    "         totalTestResultsIncrease = d['totalTestResultsIncrease'].sum(),\n",
    "         positiveIncrease = d['positiveIncrease'].sum(),\n",
    "         death = d['death'].sum(),\n",
    "         deathIncrease = d['deathIncrease'].sum()\n",
    "     )))\n",
    "     .reset_index()\n",
    "     .assign(positiveRate = lambda d: round(d['positiveIncrease'] / d['totalTestResultsIncrease'], 3))\n",
    "     .sort_values('date', ascending=True)\n",
    "     .assign(state = state_name)\n",
    "     .reset_index(drop=True)\n",
    "    )\n",
    "    \n",
    "    return out_df"
   ]
  },
  {
   "cell_type": "code",
   "execution_count": 5,
   "metadata": {
    "execution": {
     "iopub.execute_input": "2020-10-07T22:34:06.210280Z",
     "iopub.status.busy": "2020-10-07T22:34:06.208524Z",
     "iopub.status.idle": "2020-10-07T22:34:06.212641Z",
     "shell.execute_reply": "2020-10-07T22:34:06.213404Z"
    },
    "papermill": {
     "duration": 0.026788,
     "end_time": "2020-10-07T22:34:06.213586",
     "exception": false,
     "start_time": "2020-10-07T22:34:06.186798",
     "status": "completed"
    },
    "tags": []
   },
   "outputs": [],
   "source": [
    "#collapse\n",
    "def create_plot(df: pd.DataFrame, \n",
    "                column: Literal['totalTestResultsIncrease', \n",
    "                                'positiveIncrease', \n",
    "                                'death',\n",
    "                                'deathIncrease', \n",
    "                                'positiveRate'],\n",
    "                period: int = 7*8):\n",
    "    df = (\n",
    "     df\n",
    "     .assign(sma7d = lambda d: d[column].rolling(window=7).mean().round(3))\n",
    "     .loc[lambda d: d['date'] >= pd.to_datetime('today') - period * pd.Timedelta('1 days'), :]\n",
    "     .reset_index(drop=True)\n",
    "    )\n",
    "    the_state = df['state'][0]\n",
    "    label = alt.selection_single(\n",
    "        encodings=['x'], on='mouseover', nearest=True, empty='none')\n",
    "    \n",
    "    base = alt.Chart().mark_point(size=75).encode(\n",
    "        x='date:T',\n",
    "        y=f'{column}:Q',\n",
    "        tooltip=['date', f'{column}:Q', 'sma7d:Q']\n",
    "    )\n",
    "\n",
    "    sma = alt.Chart().mark_line(color='purple').encode(\n",
    "        x='date:T',\n",
    "        y='sma7d:Q'\n",
    "    )\n",
    "\n",
    "    layers = alt.layer(\n",
    "        base + sma,\n",
    "\n",
    "        # add a rule mark to serve as a guide line\n",
    "        alt.Chart().mark_rule(color='#aaa').encode(\n",
    "            x='date:T'\n",
    "        ).transform_filter(label),\n",
    "\n",
    "        # add circle marks for selected time points, hide unselected points\n",
    "        base.mark_circle().encode(\n",
    "            opacity=alt.condition(label, alt.value(1), alt.value(0))\n",
    "        ).add_selection(label),\n",
    "\n",
    "        # add white stroked text to provide a legible background for labels\n",
    "        base.mark_text(align='left', dx=5, dy=-5, stroke='white', strokeWidth=2).encode(\n",
    "            text=f'{column}:Q'\n",
    "        ).transform_filter(label),\n",
    "\n",
    "        # add text labels\n",
    "        base.mark_text(align='left', dx=5, dy=-5).encode(\n",
    "            text=f'{column}:Q'\n",
    "        ).transform_filter(label),\n",
    "        \n",
    "        data=df\n",
    "    ).properties(\n",
    "        title=f'{the_state}: {column}',\n",
    "        width=500,\n",
    "        height=400\n",
    "    )\n",
    "    \n",
    "    return layers.interactive()"
   ]
  },
  {
   "cell_type": "markdown",
   "metadata": {
    "papermill": {
     "duration": 0.013369,
     "end_time": "2020-10-07T22:34:06.242075",
     "exception": false,
     "start_time": "2020-10-07T22:34:06.228706",
     "status": "completed"
    },
    "tags": []
   },
   "source": [
    "# Plots"
   ]
  },
  {
   "cell_type": "markdown",
   "metadata": {
    "papermill": {
     "duration": 0.013316,
     "end_time": "2020-10-07T22:34:06.267984",
     "exception": false,
     "start_time": "2020-10-07T22:34:06.254668",
     "status": "completed"
    },
    "tags": []
   },
   "source": [
    "## US"
   ]
  },
  {
   "cell_type": "code",
   "execution_count": 6,
   "metadata": {
    "execution": {
     "iopub.execute_input": "2020-10-07T22:34:06.299901Z",
     "iopub.status.busy": "2020-10-07T22:34:06.299267Z",
     "iopub.status.idle": "2020-10-07T22:34:06.642816Z",
     "shell.execute_reply": "2020-10-07T22:34:06.643262Z"
    },
    "papermill": {
     "duration": 0.362333,
     "end_time": "2020-10-07T22:34:06.643474",
     "exception": false,
     "start_time": "2020-10-07T22:34:06.281141",
     "status": "completed"
    },
    "tags": []
   },
   "outputs": [],
   "source": [
    "us = create_df(df, lambda d: d.index > 0, 'US')"
   ]
  },
  {
   "cell_type": "code",
   "execution_count": 7,
   "metadata": {
    "execution": {
     "iopub.execute_input": "2020-10-07T22:34:06.703552Z",
     "iopub.status.busy": "2020-10-07T22:34:06.682760Z",
     "iopub.status.idle": "2020-10-07T22:34:06.784960Z",
     "shell.execute_reply": "2020-10-07T22:34:06.785404Z"
    },
    "papermill": {
     "duration": 0.129065,
     "end_time": "2020-10-07T22:34:06.785572",
     "exception": false,
     "start_time": "2020-10-07T22:34:06.656507",
     "status": "completed"
    },
    "tags": []
   },
   "outputs": [
    {
     "data": {
      "text/html": [
       "\n",
       "<div id=\"altair-viz-8cebd892368d4c3cb7ecb11eddcedb3f\"></div>\n",
       "<script type=\"text/javascript\">\n",
       "  (function(spec, embedOpt){\n",
       "    let outputDiv = document.currentScript.previousElementSibling;\n",
       "    if (outputDiv.id !== \"altair-viz-8cebd892368d4c3cb7ecb11eddcedb3f\") {\n",
       "      outputDiv = document.getElementById(\"altair-viz-8cebd892368d4c3cb7ecb11eddcedb3f\");\n",
       "    }\n",
       "    const paths = {\n",
       "      \"vega\": \"https://cdn.jsdelivr.net/npm//vega@5?noext\",\n",
       "      \"vega-lib\": \"https://cdn.jsdelivr.net/npm//vega-lib?noext\",\n",
       "      \"vega-lite\": \"https://cdn.jsdelivr.net/npm//vega-lite@4.8.1?noext\",\n",
       "      \"vega-embed\": \"https://cdn.jsdelivr.net/npm//vega-embed@6?noext\",\n",
       "    };\n",
       "\n",
       "    function loadScript(lib) {\n",
       "      return new Promise(function(resolve, reject) {\n",
       "        var s = document.createElement('script');\n",
       "        s.src = paths[lib];\n",
       "        s.async = true;\n",
       "        s.onload = () => resolve(paths[lib]);\n",
       "        s.onerror = () => reject(`Error loading script: ${paths[lib]}`);\n",
       "        document.getElementsByTagName(\"head\")[0].appendChild(s);\n",
       "      });\n",
       "    }\n",
       "\n",
       "    function showError(err) {\n",
       "      outputDiv.innerHTML = `<div class=\"error\" style=\"color:red;\">${err}</div>`;\n",
       "      throw err;\n",
       "    }\n",
       "\n",
       "    function displayChart(vegaEmbed) {\n",
       "      vegaEmbed(outputDiv, spec, embedOpt)\n",
       "        .catch(err => showError(`Javascript Error: ${err.message}<br>This usually means there's a typo in your chart specification. See the javascript console for the full traceback.`));\n",
       "    }\n",
       "\n",
       "    if(typeof define === \"function\" && define.amd) {\n",
       "      requirejs.config({paths});\n",
       "      require([\"vega-embed\"], displayChart, err => showError(`Error loading script: ${err.message}`));\n",
       "    } else if (typeof vegaEmbed === \"function\") {\n",
       "      displayChart(vegaEmbed);\n",
       "    } else {\n",
       "      loadScript(\"vega\")\n",
       "        .then(() => loadScript(\"vega-lite\"))\n",
       "        .then(() => loadScript(\"vega-embed\"))\n",
       "        .catch(showError)\n",
       "        .then(() => displayChart(vegaEmbed));\n",
       "    }\n",
       "  })({\"config\": {\"view\": {\"continuousWidth\": 400, \"continuousHeight\": 300}}, \"layer\": [{\"layer\": [{\"mark\": {\"type\": \"point\", \"size\": 75}, \"encoding\": {\"tooltip\": [{\"type\": \"temporal\", \"field\": \"date\"}, {\"type\": \"quantitative\", \"field\": \"positiveIncrease\"}, {\"type\": \"quantitative\", \"field\": \"sma7d\"}], \"x\": {\"type\": \"temporal\", \"field\": \"date\"}, \"y\": {\"type\": \"quantitative\", \"field\": \"positiveIncrease\"}}, \"selection\": {\"selector002\": {\"type\": \"interval\", \"bind\": \"scales\", \"encodings\": [\"x\", \"y\"]}}}, {\"mark\": {\"type\": \"line\", \"color\": \"purple\"}, \"encoding\": {\"x\": {\"type\": \"temporal\", \"field\": \"date\"}, \"y\": {\"type\": \"quantitative\", \"field\": \"sma7d\"}}}]}, {\"mark\": {\"type\": \"rule\", \"color\": \"#aaa\"}, \"encoding\": {\"x\": {\"type\": \"temporal\", \"field\": \"date\"}}, \"transform\": [{\"filter\": {\"selection\": \"selector001\"}}]}, {\"mark\": \"circle\", \"encoding\": {\"opacity\": {\"condition\": {\"value\": 1, \"selection\": \"selector001\"}, \"value\": 0}, \"tooltip\": [{\"type\": \"temporal\", \"field\": \"date\"}, {\"type\": \"quantitative\", \"field\": \"positiveIncrease\"}, {\"type\": \"quantitative\", \"field\": \"sma7d\"}], \"x\": {\"type\": \"temporal\", \"field\": \"date\"}, \"y\": {\"type\": \"quantitative\", \"field\": \"positiveIncrease\"}}, \"selection\": {\"selector001\": {\"type\": \"single\", \"encodings\": [\"x\"], \"on\": \"mouseover\", \"nearest\": true, \"empty\": \"none\"}}}, {\"mark\": {\"type\": \"text\", \"align\": \"left\", \"dx\": 5, \"dy\": -5, \"stroke\": \"white\", \"strokeWidth\": 2}, \"encoding\": {\"text\": {\"type\": \"quantitative\", \"field\": \"positiveIncrease\"}, \"tooltip\": [{\"type\": \"temporal\", \"field\": \"date\"}, {\"type\": \"quantitative\", \"field\": \"positiveIncrease\"}, {\"type\": \"quantitative\", \"field\": \"sma7d\"}], \"x\": {\"type\": \"temporal\", \"field\": \"date\"}, \"y\": {\"type\": \"quantitative\", \"field\": \"positiveIncrease\"}}, \"transform\": [{\"filter\": {\"selection\": \"selector001\"}}]}, {\"mark\": {\"type\": \"text\", \"align\": \"left\", \"dx\": 5, \"dy\": -5}, \"encoding\": {\"text\": {\"type\": \"quantitative\", \"field\": \"positiveIncrease\"}, \"tooltip\": [{\"type\": \"temporal\", \"field\": \"date\"}, {\"type\": \"quantitative\", \"field\": \"positiveIncrease\"}, {\"type\": \"quantitative\", \"field\": \"sma7d\"}], \"x\": {\"type\": \"temporal\", \"field\": \"date\"}, \"y\": {\"type\": \"quantitative\", \"field\": \"positiveIncrease\"}}, \"transform\": [{\"filter\": {\"selection\": \"selector001\"}}]}], \"data\": {\"name\": \"data-b2a8d3f73baa16da104e5ed623a4c1f0\"}, \"height\": 400, \"title\": \"US: positiveIncrease\", \"width\": 500, \"$schema\": \"https://vega.github.io/schema/vega-lite/v4.8.1.json\", \"datasets\": {\"data-b2a8d3f73baa16da104e5ed623a4c1f0\": [{\"date\": \"2020-08-13T00:00:00\", \"totalTestResultsIncrease\": 929174.0, \"positiveIncrease\": 51759.0, \"death\": 158878.0, \"deathIncrease\": 1163.0, \"positiveRate\": 0.056, \"state\": \"US\", \"sma7d\": 53052.429}, {\"date\": \"2020-08-14T00:00:00\", \"totalTestResultsIncrease\": 891483.0, \"positiveIncrease\": 55636.0, \"death\": 160094.0, \"deathIncrease\": 1216.0, \"positiveRate\": 0.062, \"state\": \"US\", \"sma7d\": 52236.857}, {\"date\": \"2020-08-15T00:00:00\", \"totalTestResultsIncrease\": 781660.0, \"positiveIncrease\": 56149.0, \"death\": 161315.0, \"deathIncrease\": 1221.0, \"positiveRate\": 0.072, \"state\": \"US\", \"sma7d\": 52585.0}, {\"date\": \"2020-08-16T00:00:00\", \"totalTestResultsIncrease\": 810424.0, \"positiveIncrease\": 42487.0, \"death\": 161934.0, \"deathIncrease\": 619.0, \"positiveRate\": 0.052, \"state\": \"US\", \"sma7d\": 51422.143}, {\"date\": \"2020-08-17T00:00:00\", \"totalTestResultsIncrease\": 692571.0, \"positiveIncrease\": 37880.0, \"death\": 162341.0, \"deathIncrease\": 407.0, \"positiveRate\": 0.055, \"state\": \"US\", \"sma7d\": 50820.857}, {\"date\": \"2020-08-18T00:00:00\", \"totalTestResultsIncrease\": 676620.0, \"positiveIncrease\": 40795.0, \"death\": 163537.0, \"deathIncrease\": 1196.0, \"positiveRate\": 0.06, \"state\": \"US\", \"sma7d\": 48691.429}, {\"date\": \"2020-08-19T00:00:00\", \"totalTestResultsIncrease\": 704410.0, \"positiveIncrease\": 44955.0, \"death\": 164957.0, \"deathIncrease\": 1420.0, \"positiveRate\": 0.064, \"state\": \"US\", \"sma7d\": 47094.429}, {\"date\": \"2020-08-20T00:00:00\", \"totalTestResultsIncrease\": 729426.0, \"positiveIncrease\": 43758.0, \"death\": 166091.0, \"deathIncrease\": 1134.0, \"positiveRate\": 0.06, \"state\": \"US\", \"sma7d\": 45951.429}, {\"date\": \"2020-08-21T00:00:00\", \"totalTestResultsIncrease\": 787693.0, \"positiveIncrease\": 46561.0, \"death\": 167214.0, \"deathIncrease\": 1123.0, \"positiveRate\": 0.059, \"state\": \"US\", \"sma7d\": 44655.0}, {\"date\": \"2020-08-22T00:00:00\", \"totalTestResultsIncrease\": 796673.0, \"positiveIncrease\": 46236.0, \"death\": 168243.0, \"deathIncrease\": 1029.0, \"positiveRate\": 0.058, \"state\": \"US\", \"sma7d\": 43238.857}, {\"date\": \"2020-08-23T00:00:00\", \"totalTestResultsIncrease\": 656740.0, \"positiveIncrease\": 37566.0, \"death\": 168815.0, \"deathIncrease\": 572.0, \"positiveRate\": 0.057, \"state\": \"US\", \"sma7d\": 42535.857}, {\"date\": \"2020-08-24T00:00:00\", \"totalTestResultsIncrease\": 704951.0, \"positiveIncrease\": 34643.0, \"death\": 169158.0, \"deathIncrease\": 343.0, \"positiveRate\": 0.049, \"state\": \"US\", \"sma7d\": 42073.429}, {\"date\": \"2020-08-25T00:00:00\", \"totalTestResultsIncrease\": 668653.0, \"positiveIncrease\": 36379.0, \"death\": 170305.0, \"deathIncrease\": 1147.0, \"positiveRate\": 0.054, \"state\": \"US\", \"sma7d\": 41442.571}, {\"date\": \"2020-08-26T00:00:00\", \"totalTestResultsIncrease\": 679087.0, \"positiveIncrease\": 44053.0, \"death\": 171603.0, \"deathIncrease\": 1298.0, \"positiveRate\": 0.065, \"state\": \"US\", \"sma7d\": 41313.714}, {\"date\": \"2020-08-27T00:00:00\", \"totalTestResultsIncrease\": 793749.0, \"positiveIncrease\": 43984.0, \"death\": 172732.0, \"deathIncrease\": 1129.0, \"positiveRate\": 0.055, \"state\": \"US\", \"sma7d\": 41346.0}, {\"date\": \"2020-08-28T00:00:00\", \"totalTestResultsIncrease\": 822624.0, \"positiveIncrease\": 46548.0, \"death\": 173756.0, \"deathIncrease\": 1024.0, \"positiveRate\": 0.057, \"state\": \"US\", \"sma7d\": 41344.143}, {\"date\": \"2020-08-29T00:00:00\", \"totalTestResultsIncrease\": 818003.0, \"positiveIncrease\": 44501.0, \"death\": 174771.0, \"deathIncrease\": 1015.0, \"positiveRate\": 0.054, \"state\": \"US\", \"sma7d\": 41096.286}, {\"date\": \"2020-08-30T00:00:00\", \"totalTestResultsIncrease\": 776621.0, \"positiveIncrease\": 39501.0, \"death\": 175246.0, \"deathIncrease\": 475.0, \"positiveRate\": 0.051, \"state\": \"US\", \"sma7d\": 41372.714}, {\"date\": \"2020-08-31T00:00:00\", \"totalTestResultsIncrease\": 707483.0, \"positiveIncrease\": 31406.0, \"death\": 175612.0, \"deathIncrease\": 366.0, \"positiveRate\": 0.044, \"state\": \"US\", \"sma7d\": 40910.286}, {\"date\": \"2020-09-01T00:00:00\", \"totalTestResultsIncrease\": 735028.0, \"positiveIncrease\": 42433.0, \"death\": 176639.0, \"deathIncrease\": 1027.0, \"positiveRate\": 0.058, \"state\": \"US\", \"sma7d\": 41775.143}, {\"date\": \"2020-09-02T00:00:00\", \"totalTestResultsIncrease\": 683043.0, \"positiveIncrease\": 30603.0, \"death\": 177671.0, \"deathIncrease\": 1032.0, \"positiveRate\": 0.045, \"state\": \"US\", \"sma7d\": 39853.714}, {\"date\": \"2020-09-03T00:00:00\", \"totalTestResultsIncrease\": 800434.0, \"positiveIncrease\": 44714.0, \"death\": 178741.0, \"deathIncrease\": 1070.0, \"positiveRate\": 0.056, \"state\": \"US\", \"sma7d\": 39958.0}, {\"date\": \"2020-09-04T00:00:00\", \"totalTestResultsIncrease\": 952475.0, \"positiveIncrease\": 51591.0, \"death\": 179739.0, \"deathIncrease\": 998.0, \"positiveRate\": 0.054, \"state\": \"US\", \"sma7d\": 40678.429}, {\"date\": \"2020-09-05T00:00:00\", \"totalTestResultsIncrease\": 880780.0, \"positiveIncrease\": 44905.0, \"death\": 180657.0, \"deathIncrease\": 918.0, \"positiveRate\": 0.051, \"state\": \"US\", \"sma7d\": 40736.143}, {\"date\": \"2020-09-06T00:00:00\", \"totalTestResultsIncrease\": 782934.0, \"positiveIncrease\": 33117.0, \"death\": 181106.0, \"deathIncrease\": 449.0, \"positiveRate\": 0.042, \"state\": \"US\", \"sma7d\": 39824.143}, {\"date\": \"2020-09-07T00:00:00\", \"totalTestResultsIncrease\": 616787.0, \"positiveIncrease\": 28682.0, \"death\": 181331.0, \"deathIncrease\": 225.0, \"positiveRate\": 0.047, \"state\": \"US\", \"sma7d\": 39435.0}, {\"date\": \"2020-09-08T00:00:00\", \"totalTestResultsIncrease\": 541835.0, \"positiveIncrease\": 22223.0, \"death\": 181689.0, \"deathIncrease\": 358.0, \"positiveRate\": 0.041, \"state\": \"US\", \"sma7d\": 36547.857}, {\"date\": \"2020-09-09T00:00:00\", \"totalTestResultsIncrease\": 629310.0, \"positiveIncrease\": 31114.0, \"death\": 182773.0, \"deathIncrease\": 1084.0, \"positiveRate\": 0.049, \"state\": \"US\", \"sma7d\": 36620.857}, {\"date\": \"2020-09-10T00:00:00\", \"totalTestResultsIncrease\": 696784.0, \"positiveIncrease\": 37581.0, \"death\": 183943.0, \"deathIncrease\": 1170.0, \"positiveRate\": 0.054, \"state\": \"US\", \"sma7d\": 35601.857}, {\"date\": \"2020-09-11T00:00:00\", \"totalTestResultsIncrease\": 831985.0, \"positiveIncrease\": 44927.0, \"death\": 184961.0, \"deathIncrease\": 1018.0, \"positiveRate\": 0.054, \"state\": \"US\", \"sma7d\": 34649.857}, {\"date\": \"2020-09-12T00:00:00\", \"totalTestResultsIncrease\": 905681.0, \"positiveIncrease\": 42090.0, \"death\": 185771.0, \"deathIncrease\": 810.0, \"positiveRate\": 0.046, \"state\": \"US\", \"sma7d\": 34247.714}, {\"date\": \"2020-09-13T00:00:00\", \"totalTestResultsIncrease\": 731632.0, \"positiveIncrease\": 34453.0, \"death\": 186161.0, \"deathIncrease\": 390.0, \"positiveRate\": 0.047, \"state\": \"US\", \"sma7d\": 34438.571}, {\"date\": \"2020-09-14T00:00:00\", \"totalTestResultsIncrease\": 449059.0, \"positiveIncrease\": 33864.0, \"death\": 186565.0, \"deathIncrease\": 404.0, \"positiveRate\": 0.075, \"state\": \"US\", \"sma7d\": 35178.857}, {\"date\": \"2020-09-15T00:00:00\", \"totalTestResultsIncrease\": 729240.0, \"positiveIncrease\": 35445.0, \"death\": 187596.0, \"deathIncrease\": 1031.0, \"positiveRate\": 0.049, \"state\": \"US\", \"sma7d\": 37067.714}, {\"date\": \"2020-09-16T00:00:00\", \"totalTestResultsIncrease\": 730098.0, \"positiveIncrease\": 40021.0, \"death\": 188796.0, \"deathIncrease\": 1200.0, \"positiveRate\": 0.055, \"state\": \"US\", \"sma7d\": 38340.143}, {\"date\": \"2020-09-17T00:00:00\", \"totalTestResultsIncrease\": 846541.0, \"positiveIncrease\": 43558.0, \"death\": 189659.0, \"deathIncrease\": 863.0, \"positiveRate\": 0.051, \"state\": \"US\", \"sma7d\": 39194.0}, {\"date\": \"2020-09-18T00:00:00\", \"totalTestResultsIncrease\": 989598.0, \"positiveIncrease\": 47486.0, \"death\": 190560.0, \"deathIncrease\": 901.0, \"positiveRate\": 0.048, \"state\": \"US\", \"sma7d\": 39559.571}, {\"date\": \"2020-09-19T00:00:00\", \"totalTestResultsIncrease\": 1070227.0, \"positiveIncrease\": 45564.0, \"death\": 191300.0, \"deathIncrease\": 740.0, \"positiveRate\": 0.043, \"state\": \"US\", \"sma7d\": 40055.857}, {\"date\": \"2020-09-20T00:00:00\", \"totalTestResultsIncrease\": 908421.0, \"positiveIncrease\": 36295.0, \"death\": 191627.0, \"deathIncrease\": 327.0, \"positiveRate\": 0.04, \"state\": \"US\", \"sma7d\": 40319.0}, {\"date\": \"2020-09-21T00:00:00\", \"totalTestResultsIncrease\": 727251.0, \"positiveIncrease\": 39472.0, \"death\": 191914.0, \"deathIncrease\": 287.0, \"positiveRate\": 0.054, \"state\": \"US\", \"sma7d\": 41120.143}, {\"date\": \"2020-09-22T00:00:00\", \"totalTestResultsIncrease\": 783111.0, \"positiveIncrease\": 49439.0, \"death\": 192768.0, \"deathIncrease\": 854.0, \"positiveRate\": 0.063, \"state\": \"US\", \"sma7d\": 43119.286}, {\"date\": \"2020-09-23T00:00:00\", \"totalTestResultsIncrease\": 926430.0, \"positiveIncrease\": 38567.0, \"death\": 193927.0, \"deathIncrease\": 1159.0, \"positiveRate\": 0.042, \"state\": \"US\", \"sma7d\": 42911.571}, {\"date\": \"2020-09-24T00:00:00\", \"totalTestResultsIncrease\": 940874.0, \"positiveIncrease\": 43772.0, \"death\": 194848.0, \"deathIncrease\": 921.0, \"positiveRate\": 0.047, \"state\": \"US\", \"sma7d\": 42942.143}, {\"date\": \"2020-09-25T00:00:00\", \"totalTestResultsIncrease\": 1016121.0, \"positiveIncrease\": 55526.0, \"death\": 195692.0, \"deathIncrease\": 844.0, \"positiveRate\": 0.055, \"state\": \"US\", \"sma7d\": 44090.714}, {\"date\": \"2020-09-26T00:00:00\", \"totalTestResultsIncrease\": 1022848.0, \"positiveIncrease\": 47856.0, \"death\": 196561.0, \"deathIncrease\": 869.0, \"positiveRate\": 0.047, \"state\": \"US\", \"sma7d\": 44418.143}, {\"date\": \"2020-09-27T00:00:00\", \"totalTestResultsIncrease\": 828121.0, \"positiveIncrease\": 35454.0, \"death\": 196868.0, \"deathIncrease\": 307.0, \"positiveRate\": 0.043, \"state\": \"US\", \"sma7d\": 44298.0}, {\"date\": \"2020-09-28T00:00:00\", \"totalTestResultsIncrease\": 1119104.0, \"positiveIncrease\": 36524.0, \"death\": 197125.0, \"deathIncrease\": 257.0, \"positiveRate\": 0.033, \"state\": \"US\", \"sma7d\": 43876.857}, {\"date\": \"2020-09-29T00:00:00\", \"totalTestResultsIncrease\": 825759.0, \"positiveIncrease\": 36947.0, \"death\": 197864.0, \"deathIncrease\": 739.0, \"positiveRate\": 0.045, \"state\": \"US\", \"sma7d\": 42092.286}, {\"date\": \"2020-09-30T00:00:00\", \"totalTestResultsIncrease\": 810800.0, \"positiveIncrease\": 44424.0, \"death\": 198925.0, \"deathIncrease\": 1061.0, \"positiveRate\": 0.055, \"state\": \"US\", \"sma7d\": 42929.0}, {\"date\": \"2020-10-01T00:00:00\", \"totalTestResultsIncrease\": 897042.0, \"positiveIncrease\": 45694.0, \"death\": 199776.0, \"deathIncrease\": 851.0, \"positiveRate\": 0.051, \"state\": \"US\", \"sma7d\": 43203.571}, {\"date\": \"2020-10-02T00:00:00\", \"totalTestResultsIncrease\": 1127307.0, \"positiveIncrease\": 49534.0, \"death\": 200611.0, \"deathIncrease\": 835.0, \"positiveRate\": 0.044, \"state\": \"US\", \"sma7d\": 42347.571}, {\"date\": \"2020-10-03T00:00:00\", \"totalTestResultsIncrease\": 997984.0, \"positiveIncrease\": 51372.0, \"death\": 201352.0, \"deathIncrease\": 741.0, \"positiveRate\": 0.051, \"state\": \"US\", \"sma7d\": 42849.857}, {\"date\": \"2020-10-04T00:00:00\", \"totalTestResultsIncrease\": 955736.0, \"positiveIncrease\": 38439.0, \"death\": 201715.0, \"deathIncrease\": 363.0, \"positiveRate\": 0.04, \"state\": \"US\", \"sma7d\": 43276.286}, {\"date\": \"2020-10-05T00:00:00\", \"totalTestResultsIncrease\": 935481.0, \"positiveIncrease\": 38133.0, \"death\": 202041.0, \"deathIncrease\": 326.0, \"positiveRate\": 0.041, \"state\": \"US\", \"sma7d\": 43506.143}, {\"date\": \"2020-10-06T00:00:00\", \"totalTestResultsIncrease\": 823419.0, \"positiveIncrease\": 38661.0, \"death\": 202617.0, \"deathIncrease\": 634.0, \"positiveRate\": 0.047, \"state\": \"US\", \"sma7d\": 43751.0}]}}, {\"mode\": \"vega-lite\"});\n",
       "</script>"
      ],
      "text/plain": [
       "alt.LayerChart(...)"
      ]
     },
     "execution_count": 7,
     "metadata": {},
     "output_type": "execute_result"
    }
   ],
   "source": [
    "create_plot(us, 'positiveIncrease')"
   ]
  },
  {
   "cell_type": "code",
   "execution_count": 8,
   "metadata": {
    "execution": {
     "iopub.execute_input": "2020-10-07T22:34:06.831320Z",
     "iopub.status.busy": "2020-10-07T22:34:06.817606Z",
     "iopub.status.idle": "2020-10-07T22:34:06.915118Z",
     "shell.execute_reply": "2020-10-07T22:34:06.915557Z"
    },
    "papermill": {
     "duration": 0.116136,
     "end_time": "2020-10-07T22:34:06.915738",
     "exception": false,
     "start_time": "2020-10-07T22:34:06.799602",
     "status": "completed"
    },
    "tags": []
   },
   "outputs": [
    {
     "data": {
      "text/html": [
       "\n",
       "<div id=\"altair-viz-7428e99951ff4b428f3e9fef1a959f8c\"></div>\n",
       "<script type=\"text/javascript\">\n",
       "  (function(spec, embedOpt){\n",
       "    let outputDiv = document.currentScript.previousElementSibling;\n",
       "    if (outputDiv.id !== \"altair-viz-7428e99951ff4b428f3e9fef1a959f8c\") {\n",
       "      outputDiv = document.getElementById(\"altair-viz-7428e99951ff4b428f3e9fef1a959f8c\");\n",
       "    }\n",
       "    const paths = {\n",
       "      \"vega\": \"https://cdn.jsdelivr.net/npm//vega@5?noext\",\n",
       "      \"vega-lib\": \"https://cdn.jsdelivr.net/npm//vega-lib?noext\",\n",
       "      \"vega-lite\": \"https://cdn.jsdelivr.net/npm//vega-lite@4.8.1?noext\",\n",
       "      \"vega-embed\": \"https://cdn.jsdelivr.net/npm//vega-embed@6?noext\",\n",
       "    };\n",
       "\n",
       "    function loadScript(lib) {\n",
       "      return new Promise(function(resolve, reject) {\n",
       "        var s = document.createElement('script');\n",
       "        s.src = paths[lib];\n",
       "        s.async = true;\n",
       "        s.onload = () => resolve(paths[lib]);\n",
       "        s.onerror = () => reject(`Error loading script: ${paths[lib]}`);\n",
       "        document.getElementsByTagName(\"head\")[0].appendChild(s);\n",
       "      });\n",
       "    }\n",
       "\n",
       "    function showError(err) {\n",
       "      outputDiv.innerHTML = `<div class=\"error\" style=\"color:red;\">${err}</div>`;\n",
       "      throw err;\n",
       "    }\n",
       "\n",
       "    function displayChart(vegaEmbed) {\n",
       "      vegaEmbed(outputDiv, spec, embedOpt)\n",
       "        .catch(err => showError(`Javascript Error: ${err.message}<br>This usually means there's a typo in your chart specification. See the javascript console for the full traceback.`));\n",
       "    }\n",
       "\n",
       "    if(typeof define === \"function\" && define.amd) {\n",
       "      requirejs.config({paths});\n",
       "      require([\"vega-embed\"], displayChart, err => showError(`Error loading script: ${err.message}`));\n",
       "    } else if (typeof vegaEmbed === \"function\") {\n",
       "      displayChart(vegaEmbed);\n",
       "    } else {\n",
       "      loadScript(\"vega\")\n",
       "        .then(() => loadScript(\"vega-lite\"))\n",
       "        .then(() => loadScript(\"vega-embed\"))\n",
       "        .catch(showError)\n",
       "        .then(() => displayChart(vegaEmbed));\n",
       "    }\n",
       "  })({\"config\": {\"view\": {\"continuousWidth\": 400, \"continuousHeight\": 300}}, \"layer\": [{\"layer\": [{\"mark\": {\"type\": \"point\", \"size\": 75}, \"encoding\": {\"tooltip\": [{\"type\": \"temporal\", \"field\": \"date\"}, {\"type\": \"quantitative\", \"field\": \"positiveRate\"}, {\"type\": \"quantitative\", \"field\": \"sma7d\"}], \"x\": {\"type\": \"temporal\", \"field\": \"date\"}, \"y\": {\"type\": \"quantitative\", \"field\": \"positiveRate\"}}, \"selection\": {\"selector004\": {\"type\": \"interval\", \"bind\": \"scales\", \"encodings\": [\"x\", \"y\"]}}}, {\"mark\": {\"type\": \"line\", \"color\": \"purple\"}, \"encoding\": {\"x\": {\"type\": \"temporal\", \"field\": \"date\"}, \"y\": {\"type\": \"quantitative\", \"field\": \"sma7d\"}}}]}, {\"mark\": {\"type\": \"rule\", \"color\": \"#aaa\"}, \"encoding\": {\"x\": {\"type\": \"temporal\", \"field\": \"date\"}}, \"transform\": [{\"filter\": {\"selection\": \"selector003\"}}]}, {\"mark\": \"circle\", \"encoding\": {\"opacity\": {\"condition\": {\"value\": 1, \"selection\": \"selector003\"}, \"value\": 0}, \"tooltip\": [{\"type\": \"temporal\", \"field\": \"date\"}, {\"type\": \"quantitative\", \"field\": \"positiveRate\"}, {\"type\": \"quantitative\", \"field\": \"sma7d\"}], \"x\": {\"type\": \"temporal\", \"field\": \"date\"}, \"y\": {\"type\": \"quantitative\", \"field\": \"positiveRate\"}}, \"selection\": {\"selector003\": {\"type\": \"single\", \"encodings\": [\"x\"], \"on\": \"mouseover\", \"nearest\": true, \"empty\": \"none\"}}}, {\"mark\": {\"type\": \"text\", \"align\": \"left\", \"dx\": 5, \"dy\": -5, \"stroke\": \"white\", \"strokeWidth\": 2}, \"encoding\": {\"text\": {\"type\": \"quantitative\", \"field\": \"positiveRate\"}, \"tooltip\": [{\"type\": \"temporal\", \"field\": \"date\"}, {\"type\": \"quantitative\", \"field\": \"positiveRate\"}, {\"type\": \"quantitative\", \"field\": \"sma7d\"}], \"x\": {\"type\": \"temporal\", \"field\": \"date\"}, \"y\": {\"type\": \"quantitative\", \"field\": \"positiveRate\"}}, \"transform\": [{\"filter\": {\"selection\": \"selector003\"}}]}, {\"mark\": {\"type\": \"text\", \"align\": \"left\", \"dx\": 5, \"dy\": -5}, \"encoding\": {\"text\": {\"type\": \"quantitative\", \"field\": \"positiveRate\"}, \"tooltip\": [{\"type\": \"temporal\", \"field\": \"date\"}, {\"type\": \"quantitative\", \"field\": \"positiveRate\"}, {\"type\": \"quantitative\", \"field\": \"sma7d\"}], \"x\": {\"type\": \"temporal\", \"field\": \"date\"}, \"y\": {\"type\": \"quantitative\", \"field\": \"positiveRate\"}}, \"transform\": [{\"filter\": {\"selection\": \"selector003\"}}]}], \"data\": {\"name\": \"data-33b4693a5c2ebb2c7946724579a53a5b\"}, \"height\": 400, \"title\": \"US: positiveRate\", \"width\": 500, \"$schema\": \"https://vega.github.io/schema/vega-lite/v4.8.1.json\", \"datasets\": {\"data-33b4693a5c2ebb2c7946724579a53a5b\": [{\"date\": \"2020-08-13T00:00:00\", \"totalTestResultsIncrease\": 929174.0, \"positiveIncrease\": 51759.0, \"death\": 158878.0, \"deathIncrease\": 1163.0, \"positiveRate\": 0.056, \"state\": \"US\", \"sma7d\": 0.075}, {\"date\": \"2020-08-14T00:00:00\", \"totalTestResultsIncrease\": 891483.0, \"positiveIncrease\": 55636.0, \"death\": 160094.0, \"deathIncrease\": 1216.0, \"positiveRate\": 0.062, \"state\": \"US\", \"sma7d\": 0.073}, {\"date\": \"2020-08-15T00:00:00\", \"totalTestResultsIncrease\": 781660.0, \"positiveIncrease\": 56149.0, \"death\": 161315.0, \"deathIncrease\": 1221.0, \"positiveRate\": 0.072, \"state\": \"US\", \"sma7d\": 0.072}, {\"date\": \"2020-08-16T00:00:00\", \"totalTestResultsIncrease\": 810424.0, \"positiveIncrease\": 42487.0, \"death\": 161934.0, \"deathIncrease\": 619.0, \"positiveRate\": 0.052, \"state\": \"US\", \"sma7d\": 0.069}, {\"date\": \"2020-08-17T00:00:00\", \"totalTestResultsIncrease\": 692571.0, \"positiveIncrease\": 37880.0, \"death\": 162341.0, \"deathIncrease\": 407.0, \"positiveRate\": 0.055, \"state\": \"US\", \"sma7d\": 0.069}, {\"date\": \"2020-08-18T00:00:00\", \"totalTestResultsIncrease\": 676620.0, \"positiveIncrease\": 40795.0, \"death\": 163537.0, \"deathIncrease\": 1196.0, \"positiveRate\": 0.06, \"state\": \"US\", \"sma7d\": 0.067}, {\"date\": \"2020-08-19T00:00:00\", \"totalTestResultsIncrease\": 704410.0, \"positiveIncrease\": 44955.0, \"death\": 164957.0, \"deathIncrease\": 1420.0, \"positiveRate\": 0.064, \"state\": \"US\", \"sma7d\": 0.06}, {\"date\": \"2020-08-20T00:00:00\", \"totalTestResultsIncrease\": 729426.0, \"positiveIncrease\": 43758.0, \"death\": 166091.0, \"deathIncrease\": 1134.0, \"positiveRate\": 0.06, \"state\": \"US\", \"sma7d\": 0.061}, {\"date\": \"2020-08-21T00:00:00\", \"totalTestResultsIncrease\": 787693.0, \"positiveIncrease\": 46561.0, \"death\": 167214.0, \"deathIncrease\": 1123.0, \"positiveRate\": 0.059, \"state\": \"US\", \"sma7d\": 0.06}, {\"date\": \"2020-08-22T00:00:00\", \"totalTestResultsIncrease\": 796673.0, \"positiveIncrease\": 46236.0, \"death\": 168243.0, \"deathIncrease\": 1029.0, \"positiveRate\": 0.058, \"state\": \"US\", \"sma7d\": 0.058}, {\"date\": \"2020-08-23T00:00:00\", \"totalTestResultsIncrease\": 656740.0, \"positiveIncrease\": 37566.0, \"death\": 168815.0, \"deathIncrease\": 572.0, \"positiveRate\": 0.057, \"state\": \"US\", \"sma7d\": 0.059}, {\"date\": \"2020-08-24T00:00:00\", \"totalTestResultsIncrease\": 704951.0, \"positiveIncrease\": 34643.0, \"death\": 169158.0, \"deathIncrease\": 343.0, \"positiveRate\": 0.049, \"state\": \"US\", \"sma7d\": 0.058}, {\"date\": \"2020-08-25T00:00:00\", \"totalTestResultsIncrease\": 668653.0, \"positiveIncrease\": 36379.0, \"death\": 170305.0, \"deathIncrease\": 1147.0, \"positiveRate\": 0.054, \"state\": \"US\", \"sma7d\": 0.057}, {\"date\": \"2020-08-26T00:00:00\", \"totalTestResultsIncrease\": 679087.0, \"positiveIncrease\": 44053.0, \"death\": 171603.0, \"deathIncrease\": 1298.0, \"positiveRate\": 0.065, \"state\": \"US\", \"sma7d\": 0.057}, {\"date\": \"2020-08-27T00:00:00\", \"totalTestResultsIncrease\": 793749.0, \"positiveIncrease\": 43984.0, \"death\": 172732.0, \"deathIncrease\": 1129.0, \"positiveRate\": 0.055, \"state\": \"US\", \"sma7d\": 0.057}, {\"date\": \"2020-08-28T00:00:00\", \"totalTestResultsIncrease\": 822624.0, \"positiveIncrease\": 46548.0, \"death\": 173756.0, \"deathIncrease\": 1024.0, \"positiveRate\": 0.057, \"state\": \"US\", \"sma7d\": 0.056}, {\"date\": \"2020-08-29T00:00:00\", \"totalTestResultsIncrease\": 818003.0, \"positiveIncrease\": 44501.0, \"death\": 174771.0, \"deathIncrease\": 1015.0, \"positiveRate\": 0.054, \"state\": \"US\", \"sma7d\": 0.056}, {\"date\": \"2020-08-30T00:00:00\", \"totalTestResultsIncrease\": 776621.0, \"positiveIncrease\": 39501.0, \"death\": 175246.0, \"deathIncrease\": 475.0, \"positiveRate\": 0.051, \"state\": \"US\", \"sma7d\": 0.055}, {\"date\": \"2020-08-31T00:00:00\", \"totalTestResultsIncrease\": 707483.0, \"positiveIncrease\": 31406.0, \"death\": 175612.0, \"deathIncrease\": 366.0, \"positiveRate\": 0.044, \"state\": \"US\", \"sma7d\": 0.054}, {\"date\": \"2020-09-01T00:00:00\", \"totalTestResultsIncrease\": 735028.0, \"positiveIncrease\": 42433.0, \"death\": 176639.0, \"deathIncrease\": 1027.0, \"positiveRate\": 0.058, \"state\": \"US\", \"sma7d\": 0.055}, {\"date\": \"2020-09-02T00:00:00\", \"totalTestResultsIncrease\": 683043.0, \"positiveIncrease\": 30603.0, \"death\": 177671.0, \"deathIncrease\": 1032.0, \"positiveRate\": 0.045, \"state\": \"US\", \"sma7d\": 0.052}, {\"date\": \"2020-09-03T00:00:00\", \"totalTestResultsIncrease\": 800434.0, \"positiveIncrease\": 44714.0, \"death\": 178741.0, \"deathIncrease\": 1070.0, \"positiveRate\": 0.056, \"state\": \"US\", \"sma7d\": 0.052}, {\"date\": \"2020-09-04T00:00:00\", \"totalTestResultsIncrease\": 952475.0, \"positiveIncrease\": 51591.0, \"death\": 179739.0, \"deathIncrease\": 998.0, \"positiveRate\": 0.054, \"state\": \"US\", \"sma7d\": 0.052}, {\"date\": \"2020-09-05T00:00:00\", \"totalTestResultsIncrease\": 880780.0, \"positiveIncrease\": 44905.0, \"death\": 180657.0, \"deathIncrease\": 918.0, \"positiveRate\": 0.051, \"state\": \"US\", \"sma7d\": 0.051}, {\"date\": \"2020-09-06T00:00:00\", \"totalTestResultsIncrease\": 782934.0, \"positiveIncrease\": 33117.0, \"death\": 181106.0, \"deathIncrease\": 449.0, \"positiveRate\": 0.042, \"state\": \"US\", \"sma7d\": 0.05}, {\"date\": \"2020-09-07T00:00:00\", \"totalTestResultsIncrease\": 616787.0, \"positiveIncrease\": 28682.0, \"death\": 181331.0, \"deathIncrease\": 225.0, \"positiveRate\": 0.047, \"state\": \"US\", \"sma7d\": 0.05}, {\"date\": \"2020-09-08T00:00:00\", \"totalTestResultsIncrease\": 541835.0, \"positiveIncrease\": 22223.0, \"death\": 181689.0, \"deathIncrease\": 358.0, \"positiveRate\": 0.041, \"state\": \"US\", \"sma7d\": 0.048}, {\"date\": \"2020-09-09T00:00:00\", \"totalTestResultsIncrease\": 629310.0, \"positiveIncrease\": 31114.0, \"death\": 182773.0, \"deathIncrease\": 1084.0, \"positiveRate\": 0.049, \"state\": \"US\", \"sma7d\": 0.049}, {\"date\": \"2020-09-10T00:00:00\", \"totalTestResultsIncrease\": 696784.0, \"positiveIncrease\": 37581.0, \"death\": 183943.0, \"deathIncrease\": 1170.0, \"positiveRate\": 0.054, \"state\": \"US\", \"sma7d\": 0.048}, {\"date\": \"2020-09-11T00:00:00\", \"totalTestResultsIncrease\": 831985.0, \"positiveIncrease\": 44927.0, \"death\": 184961.0, \"deathIncrease\": 1018.0, \"positiveRate\": 0.054, \"state\": \"US\", \"sma7d\": 0.048}, {\"date\": \"2020-09-12T00:00:00\", \"totalTestResultsIncrease\": 905681.0, \"positiveIncrease\": 42090.0, \"death\": 185771.0, \"deathIncrease\": 810.0, \"positiveRate\": 0.046, \"state\": \"US\", \"sma7d\": 0.048}, {\"date\": \"2020-09-13T00:00:00\", \"totalTestResultsIncrease\": 731632.0, \"positiveIncrease\": 34453.0, \"death\": 186161.0, \"deathIncrease\": 390.0, \"positiveRate\": 0.047, \"state\": \"US\", \"sma7d\": 0.048}, {\"date\": \"2020-09-14T00:00:00\", \"totalTestResultsIncrease\": 449059.0, \"positiveIncrease\": 33864.0, \"death\": 186565.0, \"deathIncrease\": 404.0, \"positiveRate\": 0.075, \"state\": \"US\", \"sma7d\": 0.052}, {\"date\": \"2020-09-15T00:00:00\", \"totalTestResultsIncrease\": 729240.0, \"positiveIncrease\": 35445.0, \"death\": 187596.0, \"deathIncrease\": 1031.0, \"positiveRate\": 0.049, \"state\": \"US\", \"sma7d\": 0.053}, {\"date\": \"2020-09-16T00:00:00\", \"totalTestResultsIncrease\": 730098.0, \"positiveIncrease\": 40021.0, \"death\": 188796.0, \"deathIncrease\": 1200.0, \"positiveRate\": 0.055, \"state\": \"US\", \"sma7d\": 0.054}, {\"date\": \"2020-09-17T00:00:00\", \"totalTestResultsIncrease\": 846541.0, \"positiveIncrease\": 43558.0, \"death\": 189659.0, \"deathIncrease\": 863.0, \"positiveRate\": 0.051, \"state\": \"US\", \"sma7d\": 0.054}, {\"date\": \"2020-09-18T00:00:00\", \"totalTestResultsIncrease\": 989598.0, \"positiveIncrease\": 47486.0, \"death\": 190560.0, \"deathIncrease\": 901.0, \"positiveRate\": 0.048, \"state\": \"US\", \"sma7d\": 0.053}, {\"date\": \"2020-09-19T00:00:00\", \"totalTestResultsIncrease\": 1070227.0, \"positiveIncrease\": 45564.0, \"death\": 191300.0, \"deathIncrease\": 740.0, \"positiveRate\": 0.043, \"state\": \"US\", \"sma7d\": 0.053}, {\"date\": \"2020-09-20T00:00:00\", \"totalTestResultsIncrease\": 908421.0, \"positiveIncrease\": 36295.0, \"death\": 191627.0, \"deathIncrease\": 327.0, \"positiveRate\": 0.04, \"state\": \"US\", \"sma7d\": 0.052}, {\"date\": \"2020-09-21T00:00:00\", \"totalTestResultsIncrease\": 727251.0, \"positiveIncrease\": 39472.0, \"death\": 191914.0, \"deathIncrease\": 287.0, \"positiveRate\": 0.054, \"state\": \"US\", \"sma7d\": 0.049}, {\"date\": \"2020-09-22T00:00:00\", \"totalTestResultsIncrease\": 783111.0, \"positiveIncrease\": 49439.0, \"death\": 192768.0, \"deathIncrease\": 854.0, \"positiveRate\": 0.063, \"state\": \"US\", \"sma7d\": 0.051}, {\"date\": \"2020-09-23T00:00:00\", \"totalTestResultsIncrease\": 926430.0, \"positiveIncrease\": 38567.0, \"death\": 193927.0, \"deathIncrease\": 1159.0, \"positiveRate\": 0.042, \"state\": \"US\", \"sma7d\": 0.049}, {\"date\": \"2020-09-24T00:00:00\", \"totalTestResultsIncrease\": 940874.0, \"positiveIncrease\": 43772.0, \"death\": 194848.0, \"deathIncrease\": 921.0, \"positiveRate\": 0.047, \"state\": \"US\", \"sma7d\": 0.048}, {\"date\": \"2020-09-25T00:00:00\", \"totalTestResultsIncrease\": 1016121.0, \"positiveIncrease\": 55526.0, \"death\": 195692.0, \"deathIncrease\": 844.0, \"positiveRate\": 0.055, \"state\": \"US\", \"sma7d\": 0.049}, {\"date\": \"2020-09-26T00:00:00\", \"totalTestResultsIncrease\": 1022848.0, \"positiveIncrease\": 47856.0, \"death\": 196561.0, \"deathIncrease\": 869.0, \"positiveRate\": 0.047, \"state\": \"US\", \"sma7d\": 0.05}, {\"date\": \"2020-09-27T00:00:00\", \"totalTestResultsIncrease\": 828121.0, \"positiveIncrease\": 35454.0, \"death\": 196868.0, \"deathIncrease\": 307.0, \"positiveRate\": 0.043, \"state\": \"US\", \"sma7d\": 0.05}, {\"date\": \"2020-09-28T00:00:00\", \"totalTestResultsIncrease\": 1119104.0, \"positiveIncrease\": 36524.0, \"death\": 197125.0, \"deathIncrease\": 257.0, \"positiveRate\": 0.033, \"state\": \"US\", \"sma7d\": 0.047}, {\"date\": \"2020-09-29T00:00:00\", \"totalTestResultsIncrease\": 825759.0, \"positiveIncrease\": 36947.0, \"death\": 197864.0, \"deathIncrease\": 739.0, \"positiveRate\": 0.045, \"state\": \"US\", \"sma7d\": 0.045}, {\"date\": \"2020-09-30T00:00:00\", \"totalTestResultsIncrease\": 810800.0, \"positiveIncrease\": 44424.0, \"death\": 198925.0, \"deathIncrease\": 1061.0, \"positiveRate\": 0.055, \"state\": \"US\", \"sma7d\": 0.046}, {\"date\": \"2020-10-01T00:00:00\", \"totalTestResultsIncrease\": 897042.0, \"positiveIncrease\": 45694.0, \"death\": 199776.0, \"deathIncrease\": 851.0, \"positiveRate\": 0.051, \"state\": \"US\", \"sma7d\": 0.047}, {\"date\": \"2020-10-02T00:00:00\", \"totalTestResultsIncrease\": 1127307.0, \"positiveIncrease\": 49534.0, \"death\": 200611.0, \"deathIncrease\": 835.0, \"positiveRate\": 0.044, \"state\": \"US\", \"sma7d\": 0.045}, {\"date\": \"2020-10-03T00:00:00\", \"totalTestResultsIncrease\": 997984.0, \"positiveIncrease\": 51372.0, \"death\": 201352.0, \"deathIncrease\": 741.0, \"positiveRate\": 0.051, \"state\": \"US\", \"sma7d\": 0.046}, {\"date\": \"2020-10-04T00:00:00\", \"totalTestResultsIncrease\": 955736.0, \"positiveIncrease\": 38439.0, \"death\": 201715.0, \"deathIncrease\": 363.0, \"positiveRate\": 0.04, \"state\": \"US\", \"sma7d\": 0.046}, {\"date\": \"2020-10-05T00:00:00\", \"totalTestResultsIncrease\": 935481.0, \"positiveIncrease\": 38133.0, \"death\": 202041.0, \"deathIncrease\": 326.0, \"positiveRate\": 0.041, \"state\": \"US\", \"sma7d\": 0.047}, {\"date\": \"2020-10-06T00:00:00\", \"totalTestResultsIncrease\": 823419.0, \"positiveIncrease\": 38661.0, \"death\": 202617.0, \"deathIncrease\": 634.0, \"positiveRate\": 0.047, \"state\": \"US\", \"sma7d\": 0.047}]}}, {\"mode\": \"vega-lite\"});\n",
       "</script>"
      ],
      "text/plain": [
       "alt.LayerChart(...)"
      ]
     },
     "execution_count": 8,
     "metadata": {},
     "output_type": "execute_result"
    }
   ],
   "source": [
    "create_plot(us, 'positiveRate')"
   ]
  },
  {
   "cell_type": "code",
   "execution_count": 9,
   "metadata": {
    "execution": {
     "iopub.execute_input": "2020-10-07T22:34:06.962620Z",
     "iopub.status.busy": "2020-10-07T22:34:06.949211Z",
     "iopub.status.idle": "2020-10-07T22:34:07.043573Z",
     "shell.execute_reply": "2020-10-07T22:34:07.044025Z"
    },
    "papermill": {
     "duration": 0.113514,
     "end_time": "2020-10-07T22:34:07.044193",
     "exception": false,
     "start_time": "2020-10-07T22:34:06.930679",
     "status": "completed"
    },
    "tags": []
   },
   "outputs": [
    {
     "data": {
      "text/html": [
       "\n",
       "<div id=\"altair-viz-29c4b0fcacab4153b909cf64d95b0e20\"></div>\n",
       "<script type=\"text/javascript\">\n",
       "  (function(spec, embedOpt){\n",
       "    let outputDiv = document.currentScript.previousElementSibling;\n",
       "    if (outputDiv.id !== \"altair-viz-29c4b0fcacab4153b909cf64d95b0e20\") {\n",
       "      outputDiv = document.getElementById(\"altair-viz-29c4b0fcacab4153b909cf64d95b0e20\");\n",
       "    }\n",
       "    const paths = {\n",
       "      \"vega\": \"https://cdn.jsdelivr.net/npm//vega@5?noext\",\n",
       "      \"vega-lib\": \"https://cdn.jsdelivr.net/npm//vega-lib?noext\",\n",
       "      \"vega-lite\": \"https://cdn.jsdelivr.net/npm//vega-lite@4.8.1?noext\",\n",
       "      \"vega-embed\": \"https://cdn.jsdelivr.net/npm//vega-embed@6?noext\",\n",
       "    };\n",
       "\n",
       "    function loadScript(lib) {\n",
       "      return new Promise(function(resolve, reject) {\n",
       "        var s = document.createElement('script');\n",
       "        s.src = paths[lib];\n",
       "        s.async = true;\n",
       "        s.onload = () => resolve(paths[lib]);\n",
       "        s.onerror = () => reject(`Error loading script: ${paths[lib]}`);\n",
       "        document.getElementsByTagName(\"head\")[0].appendChild(s);\n",
       "      });\n",
       "    }\n",
       "\n",
       "    function showError(err) {\n",
       "      outputDiv.innerHTML = `<div class=\"error\" style=\"color:red;\">${err}</div>`;\n",
       "      throw err;\n",
       "    }\n",
       "\n",
       "    function displayChart(vegaEmbed) {\n",
       "      vegaEmbed(outputDiv, spec, embedOpt)\n",
       "        .catch(err => showError(`Javascript Error: ${err.message}<br>This usually means there's a typo in your chart specification. See the javascript console for the full traceback.`));\n",
       "    }\n",
       "\n",
       "    if(typeof define === \"function\" && define.amd) {\n",
       "      requirejs.config({paths});\n",
       "      require([\"vega-embed\"], displayChart, err => showError(`Error loading script: ${err.message}`));\n",
       "    } else if (typeof vegaEmbed === \"function\") {\n",
       "      displayChart(vegaEmbed);\n",
       "    } else {\n",
       "      loadScript(\"vega\")\n",
       "        .then(() => loadScript(\"vega-lite\"))\n",
       "        .then(() => loadScript(\"vega-embed\"))\n",
       "        .catch(showError)\n",
       "        .then(() => displayChart(vegaEmbed));\n",
       "    }\n",
       "  })({\"config\": {\"view\": {\"continuousWidth\": 400, \"continuousHeight\": 300}}, \"layer\": [{\"layer\": [{\"mark\": {\"type\": \"point\", \"size\": 75}, \"encoding\": {\"tooltip\": [{\"type\": \"temporal\", \"field\": \"date\"}, {\"type\": \"quantitative\", \"field\": \"deathIncrease\"}, {\"type\": \"quantitative\", \"field\": \"sma7d\"}], \"x\": {\"type\": \"temporal\", \"field\": \"date\"}, \"y\": {\"type\": \"quantitative\", \"field\": \"deathIncrease\"}}, \"selection\": {\"selector006\": {\"type\": \"interval\", \"bind\": \"scales\", \"encodings\": [\"x\", \"y\"]}}}, {\"mark\": {\"type\": \"line\", \"color\": \"purple\"}, \"encoding\": {\"x\": {\"type\": \"temporal\", \"field\": \"date\"}, \"y\": {\"type\": \"quantitative\", \"field\": \"sma7d\"}}}]}, {\"mark\": {\"type\": \"rule\", \"color\": \"#aaa\"}, \"encoding\": {\"x\": {\"type\": \"temporal\", \"field\": \"date\"}}, \"transform\": [{\"filter\": {\"selection\": \"selector005\"}}]}, {\"mark\": \"circle\", \"encoding\": {\"opacity\": {\"condition\": {\"value\": 1, \"selection\": \"selector005\"}, \"value\": 0}, \"tooltip\": [{\"type\": \"temporal\", \"field\": \"date\"}, {\"type\": \"quantitative\", \"field\": \"deathIncrease\"}, {\"type\": \"quantitative\", \"field\": \"sma7d\"}], \"x\": {\"type\": \"temporal\", \"field\": \"date\"}, \"y\": {\"type\": \"quantitative\", \"field\": \"deathIncrease\"}}, \"selection\": {\"selector005\": {\"type\": \"single\", \"encodings\": [\"x\"], \"on\": \"mouseover\", \"nearest\": true, \"empty\": \"none\"}}}, {\"mark\": {\"type\": \"text\", \"align\": \"left\", \"dx\": 5, \"dy\": -5, \"stroke\": \"white\", \"strokeWidth\": 2}, \"encoding\": {\"text\": {\"type\": \"quantitative\", \"field\": \"deathIncrease\"}, \"tooltip\": [{\"type\": \"temporal\", \"field\": \"date\"}, {\"type\": \"quantitative\", \"field\": \"deathIncrease\"}, {\"type\": \"quantitative\", \"field\": \"sma7d\"}], \"x\": {\"type\": \"temporal\", \"field\": \"date\"}, \"y\": {\"type\": \"quantitative\", \"field\": \"deathIncrease\"}}, \"transform\": [{\"filter\": {\"selection\": \"selector005\"}}]}, {\"mark\": {\"type\": \"text\", \"align\": \"left\", \"dx\": 5, \"dy\": -5}, \"encoding\": {\"text\": {\"type\": \"quantitative\", \"field\": \"deathIncrease\"}, \"tooltip\": [{\"type\": \"temporal\", \"field\": \"date\"}, {\"type\": \"quantitative\", \"field\": \"deathIncrease\"}, {\"type\": \"quantitative\", \"field\": \"sma7d\"}], \"x\": {\"type\": \"temporal\", \"field\": \"date\"}, \"y\": {\"type\": \"quantitative\", \"field\": \"deathIncrease\"}}, \"transform\": [{\"filter\": {\"selection\": \"selector005\"}}]}], \"data\": {\"name\": \"data-862628ec43cb7e9761bc7efe4830b385\"}, \"height\": 400, \"title\": \"US: deathIncrease\", \"width\": 500, \"$schema\": \"https://vega.github.io/schema/vega-lite/v4.8.1.json\", \"datasets\": {\"data-862628ec43cb7e9761bc7efe4830b385\": [{\"date\": \"2020-08-13T00:00:00\", \"totalTestResultsIncrease\": 929174.0, \"positiveIncrease\": 51759.0, \"death\": 158878.0, \"deathIncrease\": 1163.0, \"positiveRate\": 0.056, \"state\": \"US\", \"sma7d\": 1067.429}, {\"date\": \"2020-08-14T00:00:00\", \"totalTestResultsIncrease\": 891483.0, \"positiveIncrease\": 55636.0, \"death\": 160094.0, \"deathIncrease\": 1216.0, \"positiveRate\": 0.062, \"state\": \"US\", \"sma7d\": 1050.714}, {\"date\": \"2020-08-15T00:00:00\", \"totalTestResultsIncrease\": 781660.0, \"positiveIncrease\": 56149.0, \"death\": 161315.0, \"deathIncrease\": 1221.0, \"positiveRate\": 0.072, \"state\": \"US\", \"sma7d\": 1069.571}, {\"date\": \"2020-08-16T00:00:00\", \"totalTestResultsIncrease\": 810424.0, \"positiveIncrease\": 42487.0, \"death\": 161934.0, \"deathIncrease\": 619.0, \"positiveRate\": 0.052, \"state\": \"US\", \"sma7d\": 1070.0}, {\"date\": \"2020-08-17T00:00:00\", \"totalTestResultsIncrease\": 692571.0, \"positiveIncrease\": 37880.0, \"death\": 162341.0, \"deathIncrease\": 407.0, \"positiveRate\": 0.055, \"state\": \"US\", \"sma7d\": 1067.286}, {\"date\": \"2020-08-18T00:00:00\", \"totalTestResultsIncrease\": 676620.0, \"positiveIncrease\": 40795.0, \"death\": 163537.0, \"deathIncrease\": 1196.0, \"positiveRate\": 0.06, \"state\": \"US\", \"sma7d\": 1048.714}, {\"date\": \"2020-08-19T00:00:00\", \"totalTestResultsIncrease\": 704410.0, \"positiveIncrease\": 44955.0, \"death\": 164957.0, \"deathIncrease\": 1420.0, \"positiveRate\": 0.064, \"state\": \"US\", \"sma7d\": 1034.571}, {\"date\": \"2020-08-20T00:00:00\", \"totalTestResultsIncrease\": 729426.0, \"positiveIncrease\": 43758.0, \"death\": 166091.0, \"deathIncrease\": 1134.0, \"positiveRate\": 0.06, \"state\": \"US\", \"sma7d\": 1030.429}, {\"date\": \"2020-08-21T00:00:00\", \"totalTestResultsIncrease\": 787693.0, \"positiveIncrease\": 46561.0, \"death\": 167214.0, \"deathIncrease\": 1123.0, \"positiveRate\": 0.059, \"state\": \"US\", \"sma7d\": 1017.143}, {\"date\": \"2020-08-22T00:00:00\", \"totalTestResultsIncrease\": 796673.0, \"positiveIncrease\": 46236.0, \"death\": 168243.0, \"deathIncrease\": 1029.0, \"positiveRate\": 0.058, \"state\": \"US\", \"sma7d\": 989.714}, {\"date\": \"2020-08-23T00:00:00\", \"totalTestResultsIncrease\": 656740.0, \"positiveIncrease\": 37566.0, \"death\": 168815.0, \"deathIncrease\": 572.0, \"positiveRate\": 0.057, \"state\": \"US\", \"sma7d\": 983.0}, {\"date\": \"2020-08-24T00:00:00\", \"totalTestResultsIncrease\": 704951.0, \"positiveIncrease\": 34643.0, \"death\": 169158.0, \"deathIncrease\": 343.0, \"positiveRate\": 0.049, \"state\": \"US\", \"sma7d\": 973.857}, {\"date\": \"2020-08-25T00:00:00\", \"totalTestResultsIncrease\": 668653.0, \"positiveIncrease\": 36379.0, \"death\": 170305.0, \"deathIncrease\": 1147.0, \"positiveRate\": 0.054, \"state\": \"US\", \"sma7d\": 966.857}, {\"date\": \"2020-08-26T00:00:00\", \"totalTestResultsIncrease\": 679087.0, \"positiveIncrease\": 44053.0, \"death\": 171603.0, \"deathIncrease\": 1298.0, \"positiveRate\": 0.065, \"state\": \"US\", \"sma7d\": 949.429}, {\"date\": \"2020-08-27T00:00:00\", \"totalTestResultsIncrease\": 793749.0, \"positiveIncrease\": 43984.0, \"death\": 172732.0, \"deathIncrease\": 1129.0, \"positiveRate\": 0.055, \"state\": \"US\", \"sma7d\": 948.714}, {\"date\": \"2020-08-28T00:00:00\", \"totalTestResultsIncrease\": 822624.0, \"positiveIncrease\": 46548.0, \"death\": 173756.0, \"deathIncrease\": 1024.0, \"positiveRate\": 0.057, \"state\": \"US\", \"sma7d\": 934.571}, {\"date\": \"2020-08-29T00:00:00\", \"totalTestResultsIncrease\": 818003.0, \"positiveIncrease\": 44501.0, \"death\": 174771.0, \"deathIncrease\": 1015.0, \"positiveRate\": 0.054, \"state\": \"US\", \"sma7d\": 932.571}, {\"date\": \"2020-08-30T00:00:00\", \"totalTestResultsIncrease\": 776621.0, \"positiveIncrease\": 39501.0, \"death\": 175246.0, \"deathIncrease\": 475.0, \"positiveRate\": 0.051, \"state\": \"US\", \"sma7d\": 918.714}, {\"date\": \"2020-08-31T00:00:00\", \"totalTestResultsIncrease\": 707483.0, \"positiveIncrease\": 31406.0, \"death\": 175612.0, \"deathIncrease\": 366.0, \"positiveRate\": 0.044, \"state\": \"US\", \"sma7d\": 922.0}, {\"date\": \"2020-09-01T00:00:00\", \"totalTestResultsIncrease\": 735028.0, \"positiveIncrease\": 42433.0, \"death\": 176639.0, \"deathIncrease\": 1027.0, \"positiveRate\": 0.058, \"state\": \"US\", \"sma7d\": 904.857}, {\"date\": \"2020-09-02T00:00:00\", \"totalTestResultsIncrease\": 683043.0, \"positiveIncrease\": 30603.0, \"death\": 177671.0, \"deathIncrease\": 1032.0, \"positiveRate\": 0.045, \"state\": \"US\", \"sma7d\": 866.857}, {\"date\": \"2020-09-03T00:00:00\", \"totalTestResultsIncrease\": 800434.0, \"positiveIncrease\": 44714.0, \"death\": 178741.0, \"deathIncrease\": 1070.0, \"positiveRate\": 0.056, \"state\": \"US\", \"sma7d\": 858.429}, {\"date\": \"2020-09-04T00:00:00\", \"totalTestResultsIncrease\": 952475.0, \"positiveIncrease\": 51591.0, \"death\": 179739.0, \"deathIncrease\": 998.0, \"positiveRate\": 0.054, \"state\": \"US\", \"sma7d\": 854.714}, {\"date\": \"2020-09-05T00:00:00\", \"totalTestResultsIncrease\": 880780.0, \"positiveIncrease\": 44905.0, \"death\": 180657.0, \"deathIncrease\": 918.0, \"positiveRate\": 0.051, \"state\": \"US\", \"sma7d\": 840.857}, {\"date\": \"2020-09-06T00:00:00\", \"totalTestResultsIncrease\": 782934.0, \"positiveIncrease\": 33117.0, \"death\": 181106.0, \"deathIncrease\": 449.0, \"positiveRate\": 0.042, \"state\": \"US\", \"sma7d\": 837.143}, {\"date\": \"2020-09-07T00:00:00\", \"totalTestResultsIncrease\": 616787.0, \"positiveIncrease\": 28682.0, \"death\": 181331.0, \"deathIncrease\": 225.0, \"positiveRate\": 0.047, \"state\": \"US\", \"sma7d\": 817.0}, {\"date\": \"2020-09-08T00:00:00\", \"totalTestResultsIncrease\": 541835.0, \"positiveIncrease\": 22223.0, \"death\": 181689.0, \"deathIncrease\": 358.0, \"positiveRate\": 0.041, \"state\": \"US\", \"sma7d\": 721.429}, {\"date\": \"2020-09-09T00:00:00\", \"totalTestResultsIncrease\": 629310.0, \"positiveIncrease\": 31114.0, \"death\": 182773.0, \"deathIncrease\": 1084.0, \"positiveRate\": 0.049, \"state\": \"US\", \"sma7d\": 728.857}, {\"date\": \"2020-09-10T00:00:00\", \"totalTestResultsIncrease\": 696784.0, \"positiveIncrease\": 37581.0, \"death\": 183943.0, \"deathIncrease\": 1170.0, \"positiveRate\": 0.054, \"state\": \"US\", \"sma7d\": 743.143}, {\"date\": \"2020-09-11T00:00:00\", \"totalTestResultsIncrease\": 831985.0, \"positiveIncrease\": 44927.0, \"death\": 184961.0, \"deathIncrease\": 1018.0, \"positiveRate\": 0.054, \"state\": \"US\", \"sma7d\": 746.0}, {\"date\": \"2020-09-12T00:00:00\", \"totalTestResultsIncrease\": 905681.0, \"positiveIncrease\": 42090.0, \"death\": 185771.0, \"deathIncrease\": 810.0, \"positiveRate\": 0.046, \"state\": \"US\", \"sma7d\": 730.571}, {\"date\": \"2020-09-13T00:00:00\", \"totalTestResultsIncrease\": 731632.0, \"positiveIncrease\": 34453.0, \"death\": 186161.0, \"deathIncrease\": 390.0, \"positiveRate\": 0.047, \"state\": \"US\", \"sma7d\": 722.143}, {\"date\": \"2020-09-14T00:00:00\", \"totalTestResultsIncrease\": 449059.0, \"positiveIncrease\": 33864.0, \"death\": 186565.0, \"deathIncrease\": 404.0, \"positiveRate\": 0.075, \"state\": \"US\", \"sma7d\": 747.714}, {\"date\": \"2020-09-15T00:00:00\", \"totalTestResultsIncrease\": 729240.0, \"positiveIncrease\": 35445.0, \"death\": 187596.0, \"deathIncrease\": 1031.0, \"positiveRate\": 0.049, \"state\": \"US\", \"sma7d\": 843.857}, {\"date\": \"2020-09-16T00:00:00\", \"totalTestResultsIncrease\": 730098.0, \"positiveIncrease\": 40021.0, \"death\": 188796.0, \"deathIncrease\": 1200.0, \"positiveRate\": 0.055, \"state\": \"US\", \"sma7d\": 860.429}, {\"date\": \"2020-09-17T00:00:00\", \"totalTestResultsIncrease\": 846541.0, \"positiveIncrease\": 43558.0, \"death\": 189659.0, \"deathIncrease\": 863.0, \"positiveRate\": 0.051, \"state\": \"US\", \"sma7d\": 816.571}, {\"date\": \"2020-09-18T00:00:00\", \"totalTestResultsIncrease\": 989598.0, \"positiveIncrease\": 47486.0, \"death\": 190560.0, \"deathIncrease\": 901.0, \"positiveRate\": 0.048, \"state\": \"US\", \"sma7d\": 799.857}, {\"date\": \"2020-09-19T00:00:00\", \"totalTestResultsIncrease\": 1070227.0, \"positiveIncrease\": 45564.0, \"death\": 191300.0, \"deathIncrease\": 740.0, \"positiveRate\": 0.043, \"state\": \"US\", \"sma7d\": 789.857}, {\"date\": \"2020-09-20T00:00:00\", \"totalTestResultsIncrease\": 908421.0, \"positiveIncrease\": 36295.0, \"death\": 191627.0, \"deathIncrease\": 327.0, \"positiveRate\": 0.04, \"state\": \"US\", \"sma7d\": 780.857}, {\"date\": \"2020-09-21T00:00:00\", \"totalTestResultsIncrease\": 727251.0, \"positiveIncrease\": 39472.0, \"death\": 191914.0, \"deathIncrease\": 287.0, \"positiveRate\": 0.054, \"state\": \"US\", \"sma7d\": 764.143}, {\"date\": \"2020-09-22T00:00:00\", \"totalTestResultsIncrease\": 783111.0, \"positiveIncrease\": 49439.0, \"death\": 192768.0, \"deathIncrease\": 854.0, \"positiveRate\": 0.063, \"state\": \"US\", \"sma7d\": 738.857}, {\"date\": \"2020-09-23T00:00:00\", \"totalTestResultsIncrease\": 926430.0, \"positiveIncrease\": 38567.0, \"death\": 193927.0, \"deathIncrease\": 1159.0, \"positiveRate\": 0.042, \"state\": \"US\", \"sma7d\": 733.0}, {\"date\": \"2020-09-24T00:00:00\", \"totalTestResultsIncrease\": 940874.0, \"positiveIncrease\": 43772.0, \"death\": 194848.0, \"deathIncrease\": 921.0, \"positiveRate\": 0.047, \"state\": \"US\", \"sma7d\": 741.286}, {\"date\": \"2020-09-25T00:00:00\", \"totalTestResultsIncrease\": 1016121.0, \"positiveIncrease\": 55526.0, \"death\": 195692.0, \"deathIncrease\": 844.0, \"positiveRate\": 0.055, \"state\": \"US\", \"sma7d\": 733.143}, {\"date\": \"2020-09-26T00:00:00\", \"totalTestResultsIncrease\": 1022848.0, \"positiveIncrease\": 47856.0, \"death\": 196561.0, \"deathIncrease\": 869.0, \"positiveRate\": 0.047, \"state\": \"US\", \"sma7d\": 751.571}, {\"date\": \"2020-09-27T00:00:00\", \"totalTestResultsIncrease\": 828121.0, \"positiveIncrease\": 35454.0, \"death\": 196868.0, \"deathIncrease\": 307.0, \"positiveRate\": 0.043, \"state\": \"US\", \"sma7d\": 748.714}, {\"date\": \"2020-09-28T00:00:00\", \"totalTestResultsIncrease\": 1119104.0, \"positiveIncrease\": 36524.0, \"death\": 197125.0, \"deathIncrease\": 257.0, \"positiveRate\": 0.033, \"state\": \"US\", \"sma7d\": 744.429}, {\"date\": \"2020-09-29T00:00:00\", \"totalTestResultsIncrease\": 825759.0, \"positiveIncrease\": 36947.0, \"death\": 197864.0, \"deathIncrease\": 739.0, \"positiveRate\": 0.045, \"state\": \"US\", \"sma7d\": 728.0}, {\"date\": \"2020-09-30T00:00:00\", \"totalTestResultsIncrease\": 810800.0, \"positiveIncrease\": 44424.0, \"death\": 198925.0, \"deathIncrease\": 1061.0, \"positiveRate\": 0.055, \"state\": \"US\", \"sma7d\": 714.0}, {\"date\": \"2020-10-01T00:00:00\", \"totalTestResultsIncrease\": 897042.0, \"positiveIncrease\": 45694.0, \"death\": 199776.0, \"deathIncrease\": 851.0, \"positiveRate\": 0.051, \"state\": \"US\", \"sma7d\": 704.0}, {\"date\": \"2020-10-02T00:00:00\", \"totalTestResultsIncrease\": 1127307.0, \"positiveIncrease\": 49534.0, \"death\": 200611.0, \"deathIncrease\": 835.0, \"positiveRate\": 0.044, \"state\": \"US\", \"sma7d\": 702.714}, {\"date\": \"2020-10-03T00:00:00\", \"totalTestResultsIncrease\": 997984.0, \"positiveIncrease\": 51372.0, \"death\": 201352.0, \"deathIncrease\": 741.0, \"positiveRate\": 0.051, \"state\": \"US\", \"sma7d\": 684.429}, {\"date\": \"2020-10-04T00:00:00\", \"totalTestResultsIncrease\": 955736.0, \"positiveIncrease\": 38439.0, \"death\": 201715.0, \"deathIncrease\": 363.0, \"positiveRate\": 0.04, \"state\": \"US\", \"sma7d\": 692.429}, {\"date\": \"2020-10-05T00:00:00\", \"totalTestResultsIncrease\": 935481.0, \"positiveIncrease\": 38133.0, \"death\": 202041.0, \"deathIncrease\": 326.0, \"positiveRate\": 0.041, \"state\": \"US\", \"sma7d\": 702.286}, {\"date\": \"2020-10-06T00:00:00\", \"totalTestResultsIncrease\": 823419.0, \"positiveIncrease\": 38661.0, \"death\": 202617.0, \"deathIncrease\": 634.0, \"positiveRate\": 0.047, \"state\": \"US\", \"sma7d\": 687.286}]}}, {\"mode\": \"vega-lite\"});\n",
       "</script>"
      ],
      "text/plain": [
       "alt.LayerChart(...)"
      ]
     },
     "execution_count": 9,
     "metadata": {},
     "output_type": "execute_result"
    }
   ],
   "source": [
    "create_plot(us, 'deathIncrease')"
   ]
  },
  {
   "cell_type": "markdown",
   "metadata": {
    "papermill": {
     "duration": 0.016297,
     "end_time": "2020-10-07T22:34:07.075689",
     "exception": false,
     "start_time": "2020-10-07T22:34:07.059392",
     "status": "completed"
    },
    "tags": []
   },
   "source": [
    "## NY"
   ]
  },
  {
   "cell_type": "code",
   "execution_count": 10,
   "metadata": {
    "execution": {
     "iopub.execute_input": "2020-10-07T22:34:07.110817Z",
     "iopub.status.busy": "2020-10-07T22:34:07.110066Z",
     "iopub.status.idle": "2020-10-07T22:34:07.379390Z",
     "shell.execute_reply": "2020-10-07T22:34:07.378778Z"
    },
    "papermill": {
     "duration": 0.289323,
     "end_time": "2020-10-07T22:34:07.379587",
     "exception": false,
     "start_time": "2020-10-07T22:34:07.090264",
     "status": "completed"
    },
    "tags": []
   },
   "outputs": [],
   "source": [
    "ny = create_df(df, (lambda d: d['state'] == 'NY'), 'New York')"
   ]
  },
  {
   "cell_type": "code",
   "execution_count": 11,
   "metadata": {
    "execution": {
     "iopub.execute_input": "2020-10-07T22:34:07.426998Z",
     "iopub.status.busy": "2020-10-07T22:34:07.415900Z",
     "iopub.status.idle": "2020-10-07T22:34:07.506820Z",
     "shell.execute_reply": "2020-10-07T22:34:07.507866Z"
    },
    "papermill": {
     "duration": 0.113325,
     "end_time": "2020-10-07T22:34:07.508054",
     "exception": false,
     "start_time": "2020-10-07T22:34:07.394729",
     "status": "completed"
    },
    "tags": []
   },
   "outputs": [
    {
     "data": {
      "text/html": [
       "\n",
       "<div id=\"altair-viz-bc2693b27da44b829bd1487625bcaf74\"></div>\n",
       "<script type=\"text/javascript\">\n",
       "  (function(spec, embedOpt){\n",
       "    let outputDiv = document.currentScript.previousElementSibling;\n",
       "    if (outputDiv.id !== \"altair-viz-bc2693b27da44b829bd1487625bcaf74\") {\n",
       "      outputDiv = document.getElementById(\"altair-viz-bc2693b27da44b829bd1487625bcaf74\");\n",
       "    }\n",
       "    const paths = {\n",
       "      \"vega\": \"https://cdn.jsdelivr.net/npm//vega@5?noext\",\n",
       "      \"vega-lib\": \"https://cdn.jsdelivr.net/npm//vega-lib?noext\",\n",
       "      \"vega-lite\": \"https://cdn.jsdelivr.net/npm//vega-lite@4.8.1?noext\",\n",
       "      \"vega-embed\": \"https://cdn.jsdelivr.net/npm//vega-embed@6?noext\",\n",
       "    };\n",
       "\n",
       "    function loadScript(lib) {\n",
       "      return new Promise(function(resolve, reject) {\n",
       "        var s = document.createElement('script');\n",
       "        s.src = paths[lib];\n",
       "        s.async = true;\n",
       "        s.onload = () => resolve(paths[lib]);\n",
       "        s.onerror = () => reject(`Error loading script: ${paths[lib]}`);\n",
       "        document.getElementsByTagName(\"head\")[0].appendChild(s);\n",
       "      });\n",
       "    }\n",
       "\n",
       "    function showError(err) {\n",
       "      outputDiv.innerHTML = `<div class=\"error\" style=\"color:red;\">${err}</div>`;\n",
       "      throw err;\n",
       "    }\n",
       "\n",
       "    function displayChart(vegaEmbed) {\n",
       "      vegaEmbed(outputDiv, spec, embedOpt)\n",
       "        .catch(err => showError(`Javascript Error: ${err.message}<br>This usually means there's a typo in your chart specification. See the javascript console for the full traceback.`));\n",
       "    }\n",
       "\n",
       "    if(typeof define === \"function\" && define.amd) {\n",
       "      requirejs.config({paths});\n",
       "      require([\"vega-embed\"], displayChart, err => showError(`Error loading script: ${err.message}`));\n",
       "    } else if (typeof vegaEmbed === \"function\") {\n",
       "      displayChart(vegaEmbed);\n",
       "    } else {\n",
       "      loadScript(\"vega\")\n",
       "        .then(() => loadScript(\"vega-lite\"))\n",
       "        .then(() => loadScript(\"vega-embed\"))\n",
       "        .catch(showError)\n",
       "        .then(() => displayChart(vegaEmbed));\n",
       "    }\n",
       "  })({\"config\": {\"view\": {\"continuousWidth\": 400, \"continuousHeight\": 300}}, \"layer\": [{\"layer\": [{\"mark\": {\"type\": \"point\", \"size\": 75}, \"encoding\": {\"tooltip\": [{\"type\": \"temporal\", \"field\": \"date\"}, {\"type\": \"quantitative\", \"field\": \"positiveIncrease\"}, {\"type\": \"quantitative\", \"field\": \"sma7d\"}], \"x\": {\"type\": \"temporal\", \"field\": \"date\"}, \"y\": {\"type\": \"quantitative\", \"field\": \"positiveIncrease\"}}, \"selection\": {\"selector008\": {\"type\": \"interval\", \"bind\": \"scales\", \"encodings\": [\"x\", \"y\"]}}}, {\"mark\": {\"type\": \"line\", \"color\": \"purple\"}, \"encoding\": {\"x\": {\"type\": \"temporal\", \"field\": \"date\"}, \"y\": {\"type\": \"quantitative\", \"field\": \"sma7d\"}}}]}, {\"mark\": {\"type\": \"rule\", \"color\": \"#aaa\"}, \"encoding\": {\"x\": {\"type\": \"temporal\", \"field\": \"date\"}}, \"transform\": [{\"filter\": {\"selection\": \"selector007\"}}]}, {\"mark\": \"circle\", \"encoding\": {\"opacity\": {\"condition\": {\"value\": 1, \"selection\": \"selector007\"}, \"value\": 0}, \"tooltip\": [{\"type\": \"temporal\", \"field\": \"date\"}, {\"type\": \"quantitative\", \"field\": \"positiveIncrease\"}, {\"type\": \"quantitative\", \"field\": \"sma7d\"}], \"x\": {\"type\": \"temporal\", \"field\": \"date\"}, \"y\": {\"type\": \"quantitative\", \"field\": \"positiveIncrease\"}}, \"selection\": {\"selector007\": {\"type\": \"single\", \"encodings\": [\"x\"], \"on\": \"mouseover\", \"nearest\": true, \"empty\": \"none\"}}}, {\"mark\": {\"type\": \"text\", \"align\": \"left\", \"dx\": 5, \"dy\": -5, \"stroke\": \"white\", \"strokeWidth\": 2}, \"encoding\": {\"text\": {\"type\": \"quantitative\", \"field\": \"positiveIncrease\"}, \"tooltip\": [{\"type\": \"temporal\", \"field\": \"date\"}, {\"type\": \"quantitative\", \"field\": \"positiveIncrease\"}, {\"type\": \"quantitative\", \"field\": \"sma7d\"}], \"x\": {\"type\": \"temporal\", \"field\": \"date\"}, \"y\": {\"type\": \"quantitative\", \"field\": \"positiveIncrease\"}}, \"transform\": [{\"filter\": {\"selection\": \"selector007\"}}]}, {\"mark\": {\"type\": \"text\", \"align\": \"left\", \"dx\": 5, \"dy\": -5}, \"encoding\": {\"text\": {\"type\": \"quantitative\", \"field\": \"positiveIncrease\"}, \"tooltip\": [{\"type\": \"temporal\", \"field\": \"date\"}, {\"type\": \"quantitative\", \"field\": \"positiveIncrease\"}, {\"type\": \"quantitative\", \"field\": \"sma7d\"}], \"x\": {\"type\": \"temporal\", \"field\": \"date\"}, \"y\": {\"type\": \"quantitative\", \"field\": \"positiveIncrease\"}}, \"transform\": [{\"filter\": {\"selection\": \"selector007\"}}]}], \"data\": {\"name\": \"data-da848dcec7adbbde197381edc4398c17\"}, \"height\": 400, \"title\": \"New York: positiveIncrease\", \"width\": 500, \"$schema\": \"https://vega.github.io/schema/vega-lite/v4.8.1.json\", \"datasets\": {\"data-da848dcec7adbbde197381edc4398c17\": [{\"date\": \"2020-08-13T00:00:00\", \"totalTestResultsIncrease\": 87900.0, \"positiveIncrease\": 737.0, \"death\": 25228.0, \"deathIncrease\": 10.0, \"positiveRate\": 0.008, \"state\": \"New York\", \"sma7d\": 644.571}, {\"date\": \"2020-08-14T00:00:00\", \"totalTestResultsIncrease\": 85455.0, \"positiveIncrease\": 727.0, \"death\": 25232.0, \"deathIncrease\": 4.0, \"positiveRate\": 0.009, \"state\": \"New York\", \"sma7d\": 646.429}, {\"date\": \"2020-08-15T00:00:00\", \"totalTestResultsIncrease\": 88668.0, \"positiveIncrease\": 734.0, \"death\": 25244.0, \"deathIncrease\": 12.0, \"positiveRate\": 0.008, \"state\": \"New York\", \"sma7d\": 650.857}, {\"date\": \"2020-08-16T00:00:00\", \"totalTestResultsIncrease\": 77692.0, \"positiveIncrease\": 607.0, \"death\": 25250.0, \"deathIncrease\": 6.0, \"positiveRate\": 0.008, \"state\": \"New York\", \"sma7d\": 664.0}, {\"date\": \"2020-08-17T00:00:00\", \"totalTestResultsIncrease\": 56891.0, \"positiveIncrease\": 408.0, \"death\": 25256.0, \"deathIncrease\": 6.0, \"positiveRate\": 0.007, \"state\": \"New York\", \"sma7d\": 654.286}, {\"date\": \"2020-08-18T00:00:00\", \"totalTestResultsIncrease\": 66891.0, \"positiveIncrease\": 655.0, \"death\": 25264.0, \"deathIncrease\": 8.0, \"positiveRate\": 0.01, \"state\": \"New York\", \"sma7d\": 652.571}, {\"date\": \"2020-08-19T00:00:00\", \"totalTestResultsIncrease\": 80425.0, \"positiveIncrease\": 631.0, \"death\": 25270.0, \"deathIncrease\": 6.0, \"positiveRate\": 0.008, \"state\": \"New York\", \"sma7d\": 642.714}, {\"date\": \"2020-08-20T00:00:00\", \"totalTestResultsIncrease\": 80984.0, \"positiveIncrease\": 601.0, \"death\": 25275.0, \"deathIncrease\": 5.0, \"positiveRate\": 0.007, \"state\": \"New York\", \"sma7d\": 623.286}, {\"date\": \"2020-08-21T00:00:00\", \"totalTestResultsIncrease\": 98880.0, \"positiveIncrease\": 709.0, \"death\": 25278.0, \"deathIncrease\": 3.0, \"positiveRate\": 0.007, \"state\": \"New York\", \"sma7d\": 620.714}, {\"date\": \"2020-08-22T00:00:00\", \"totalTestResultsIncrease\": 94849.0, \"positiveIncrease\": 653.0, \"death\": 25282.0, \"deathIncrease\": 4.0, \"positiveRate\": 0.007, \"state\": \"New York\", \"sma7d\": 609.143}, {\"date\": \"2020-08-23T00:00:00\", \"totalTestResultsIncrease\": 74043.0, \"positiveIncrease\": 572.0, \"death\": 25288.0, \"deathIncrease\": 6.0, \"positiveRate\": 0.008, \"state\": \"New York\", \"sma7d\": 604.143}, {\"date\": \"2020-08-24T00:00:00\", \"totalTestResultsIncrease\": 62031.0, \"positiveIncrease\": 408.0, \"death\": 25295.0, \"deathIncrease\": 7.0, \"positiveRate\": 0.007, \"state\": \"New York\", \"sma7d\": 604.143}, {\"date\": \"2020-08-25T00:00:00\", \"totalTestResultsIncrease\": 67255.0, \"positiveIncrease\": 629.0, \"death\": 25297.0, \"deathIncrease\": 2.0, \"positiveRate\": 0.009, \"state\": \"New York\", \"sma7d\": 600.429}, {\"date\": \"2020-08-26T00:00:00\", \"totalTestResultsIncrease\": 71189.0, \"positiveIncrease\": 566.0, \"death\": 25305.0, \"deathIncrease\": 8.0, \"positiveRate\": 0.008, \"state\": \"New York\", \"sma7d\": 591.143}, {\"date\": \"2020-08-27T00:00:00\", \"totalTestResultsIncrease\": 83437.0, \"positiveIncrease\": 791.0, \"death\": 25309.0, \"deathIncrease\": 4.0, \"positiveRate\": 0.009, \"state\": \"New York\", \"sma7d\": 618.286}, {\"date\": \"2020-08-28T00:00:00\", \"totalTestResultsIncrease\": 97826.0, \"positiveIncrease\": 636.0, \"death\": 25312.0, \"deathIncrease\": 3.0, \"positiveRate\": 0.007, \"state\": \"New York\", \"sma7d\": 607.857}, {\"date\": \"2020-08-29T00:00:00\", \"totalTestResultsIncrease\": 93873.0, \"positiveIncrease\": 635.0, \"death\": 25319.0, \"deathIncrease\": 7.0, \"positiveRate\": 0.007, \"state\": \"New York\", \"sma7d\": 605.286}, {\"date\": \"2020-08-30T00:00:00\", \"totalTestResultsIncrease\": 100022.0, \"positiveIncrease\": 698.0, \"death\": 25327.0, \"deathIncrease\": 8.0, \"positiveRate\": 0.007, \"state\": \"New York\", \"sma7d\": 623.286}, {\"date\": \"2020-08-31T00:00:00\", \"totalTestResultsIncrease\": 66241.0, \"positiveIncrease\": 656.0, \"death\": 25328.0, \"deathIncrease\": 1.0, \"positiveRate\": 0.01, \"state\": \"New York\", \"sma7d\": 658.714}, {\"date\": \"2020-09-01T00:00:00\", \"totalTestResultsIncrease\": 76997.0, \"positiveIncrease\": 754.0, \"death\": 25331.0, \"deathIncrease\": 3.0, \"positiveRate\": 0.01, \"state\": \"New York\", \"sma7d\": 676.571}, {\"date\": \"2020-09-02T00:00:00\", \"totalTestResultsIncrease\": 88447.0, \"positiveIncrease\": 708.0, \"death\": 25336.0, \"deathIncrease\": 5.0, \"positiveRate\": 0.008, \"state\": \"New York\", \"sma7d\": 696.857}, {\"date\": \"2020-09-03T00:00:00\", \"totalTestResultsIncrease\": 88981.0, \"positiveIncrease\": 889.0, \"death\": 25343.0, \"deathIncrease\": 7.0, \"positiveRate\": 0.01, \"state\": \"New York\", \"sma7d\": 710.857}, {\"date\": \"2020-09-04T00:00:00\", \"totalTestResultsIncrease\": 93395.0, \"positiveIncrease\": 864.0, \"death\": 25348.0, \"deathIncrease\": 5.0, \"positiveRate\": 0.009, \"state\": \"New York\", \"sma7d\": 743.429}, {\"date\": \"2020-09-05T00:00:00\", \"totalTestResultsIncrease\": 99761.0, \"positiveIncrease\": 801.0, \"death\": 25350.0, \"deathIncrease\": 2.0, \"positiveRate\": 0.008, \"state\": \"New York\", \"sma7d\": 767.143}, {\"date\": \"2020-09-06T00:00:00\", \"totalTestResultsIncrease\": 85630.0, \"positiveIncrease\": 729.0, \"death\": 25359.0, \"deathIncrease\": 9.0, \"positiveRate\": 0.009, \"state\": \"New York\", \"sma7d\": 771.571}, {\"date\": \"2020-09-07T00:00:00\", \"totalTestResultsIncrease\": 58865.0, \"positiveIncrease\": 520.0, \"death\": 25361.0, \"deathIncrease\": 2.0, \"positiveRate\": 0.009, \"state\": \"New York\", \"sma7d\": 752.143}, {\"date\": \"2020-09-08T00:00:00\", \"totalTestResultsIncrease\": 57826.0, \"positiveIncrease\": 557.0, \"death\": 25367.0, \"deathIncrease\": 6.0, \"positiveRate\": 0.01, \"state\": \"New York\", \"sma7d\": 724.0}, {\"date\": \"2020-09-09T00:00:00\", \"totalTestResultsIncrease\": 63230.0, \"positiveIncrease\": 576.0, \"death\": 25370.0, \"deathIncrease\": 3.0, \"positiveRate\": 0.009, \"state\": \"New York\", \"sma7d\": 705.143}, {\"date\": \"2020-09-10T00:00:00\", \"totalTestResultsIncrease\": 76813.0, \"positiveIncrease\": 757.0, \"death\": 25377.0, \"deathIncrease\": 7.0, \"positiveRate\": 0.01, \"state\": \"New York\", \"sma7d\": 686.286}, {\"date\": \"2020-09-11T00:00:00\", \"totalTestResultsIncrease\": 89722.0, \"positiveIncrease\": 880.0, \"death\": 25382.0, \"deathIncrease\": 5.0, \"positiveRate\": 0.01, \"state\": \"New York\", \"sma7d\": 688.571}, {\"date\": \"2020-09-12T00:00:00\", \"totalTestResultsIncrease\": 102925.0, \"positiveIncrease\": 849.0, \"death\": 25384.0, \"deathIncrease\": 2.0, \"positiveRate\": 0.008, \"state\": \"New York\", \"sma7d\": 695.429}, {\"date\": \"2020-09-13T00:00:00\", \"totalTestResultsIncrease\": 72668.0, \"positiveIncrease\": 725.0, \"death\": 25390.0, \"deathIncrease\": 6.0, \"positiveRate\": 0.01, \"state\": \"New York\", \"sma7d\": 694.857}, {\"date\": \"2020-09-14T00:00:00\", \"totalTestResultsIncrease\": 63358.0, \"positiveIncrease\": 583.0, \"death\": 25394.0, \"deathIncrease\": 4.0, \"positiveRate\": 0.009, \"state\": \"New York\", \"sma7d\": 703.857}, {\"date\": \"2020-09-15T00:00:00\", \"totalTestResultsIncrease\": 73678.0, \"positiveIncrease\": 766.0, \"death\": 25405.0, \"deathIncrease\": 11.0, \"positiveRate\": 0.01, \"state\": \"New York\", \"sma7d\": 733.714}, {\"date\": \"2020-09-16T00:00:00\", \"totalTestResultsIncrease\": 75087.0, \"positiveIncrease\": 652.0, \"death\": 25410.0, \"deathIncrease\": 5.0, \"positiveRate\": 0.009, \"state\": \"New York\", \"sma7d\": 744.571}, {\"date\": \"2020-09-17T00:00:00\", \"totalTestResultsIncrease\": 91504.0, \"positiveIncrease\": 896.0, \"death\": 25413.0, \"deathIncrease\": 3.0, \"positiveRate\": 0.01, \"state\": \"New York\", \"sma7d\": 764.429}, {\"date\": \"2020-09-18T00:00:00\", \"totalTestResultsIncrease\": 89727.0, \"positiveIncrease\": 790.0, \"death\": 25423.0, \"deathIncrease\": 10.0, \"positiveRate\": 0.009, \"state\": \"New York\", \"sma7d\": 751.571}, {\"date\": \"2020-09-19T00:00:00\", \"totalTestResultsIncrease\": 110444.0, \"positiveIncrease\": 986.0, \"death\": 25425.0, \"deathIncrease\": 2.0, \"positiveRate\": 0.009, \"state\": \"New York\", \"sma7d\": 771.143}, {\"date\": \"2020-09-20T00:00:00\", \"totalTestResultsIncrease\": 100355.0, \"positiveIncrease\": 862.0, \"death\": 25427.0, \"deathIncrease\": 2.0, \"positiveRate\": 0.009, \"state\": \"New York\", \"sma7d\": 790.714}, {\"date\": \"2020-09-21T00:00:00\", \"totalTestResultsIncrease\": 58319.0, \"positiveIncrease\": 573.0, \"death\": 25428.0, \"deathIncrease\": 1.0, \"positiveRate\": 0.01, \"state\": \"New York\", \"sma7d\": 789.286}, {\"date\": \"2020-09-22T00:00:00\", \"totalTestResultsIncrease\": 83997.0, \"positiveIncrease\": 754.0, \"death\": 25432.0, \"deathIncrease\": 4.0, \"positiveRate\": 0.009, \"state\": \"New York\", \"sma7d\": 787.571}, {\"date\": \"2020-09-23T00:00:00\", \"totalTestResultsIncrease\": 70930.0, \"positiveIncrease\": 665.0, \"death\": 25437.0, \"deathIncrease\": 5.0, \"positiveRate\": 0.009, \"state\": \"New York\", \"sma7d\": 789.429}, {\"date\": \"2020-09-24T00:00:00\", \"totalTestResultsIncrease\": 92953.0, \"positiveIncrease\": 955.0, \"death\": 25439.0, \"deathIncrease\": 2.0, \"positiveRate\": 0.01, \"state\": \"New York\", \"sma7d\": 797.857}, {\"date\": \"2020-09-25T00:00:00\", \"totalTestResultsIncrease\": 94818.0, \"positiveIncrease\": 908.0, \"death\": 25446.0, \"deathIncrease\": 7.0, \"positiveRate\": 0.01, \"state\": \"New York\", \"sma7d\": 814.714}, {\"date\": \"2020-09-26T00:00:00\", \"totalTestResultsIncrease\": 99953.0, \"positiveIncrease\": 1005.0, \"death\": 25450.0, \"deathIncrease\": 4.0, \"positiveRate\": 0.01, \"state\": \"New York\", \"sma7d\": 817.429}, {\"date\": \"2020-09-27T00:00:00\", \"totalTestResultsIncrease\": 84770.0, \"positiveIncrease\": 866.0, \"death\": 25456.0, \"deathIncrease\": 6.0, \"positiveRate\": 0.01, \"state\": \"New York\", \"sma7d\": 818.0}, {\"date\": \"2020-09-28T00:00:00\", \"totalTestResultsIncrease\": 52936.0, \"positiveIncrease\": 834.0, \"death\": 25468.0, \"deathIncrease\": 12.0, \"positiveRate\": 0.016, \"state\": \"New York\", \"sma7d\": 855.286}, {\"date\": \"2020-09-29T00:00:00\", \"totalTestResultsIncrease\": 88231.0, \"positiveIncrease\": 1189.0, \"death\": 25470.0, \"deathIncrease\": 2.0, \"positiveRate\": 0.013, \"state\": \"New York\", \"sma7d\": 917.429}, {\"date\": \"2020-09-30T00:00:00\", \"totalTestResultsIncrease\": 97960.0, \"positiveIncrease\": 1000.0, \"death\": 25479.0, \"deathIncrease\": 9.0, \"positiveRate\": 0.01, \"state\": \"New York\", \"sma7d\": 965.286}, {\"date\": \"2020-10-01T00:00:00\", \"totalTestResultsIncrease\": 109218.0, \"positiveIncrease\": 1382.0, \"death\": 25490.0, \"deathIncrease\": 11.0, \"positiveRate\": 0.013, \"state\": \"New York\", \"sma7d\": 1026.286}, {\"date\": \"2020-10-02T00:00:00\", \"totalTestResultsIncrease\": 119493.0, \"positiveIncrease\": 1598.0, \"death\": 25497.0, \"deathIncrease\": 7.0, \"positiveRate\": 0.013, \"state\": \"New York\", \"sma7d\": 1124.857}, {\"date\": \"2020-10-03T00:00:00\", \"totalTestResultsIncrease\": 134267.0, \"positiveIncrease\": 1731.0, \"death\": 25505.0, \"deathIncrease\": 8.0, \"positiveRate\": 0.013, \"state\": \"New York\", \"sma7d\": 1228.571}, {\"date\": \"2020-10-04T00:00:00\", \"totalTestResultsIncrease\": 110329.0, \"positiveIncrease\": 1222.0, \"death\": 25519.0, \"deathIncrease\": 14.0, \"positiveRate\": 0.011, \"state\": \"New York\", \"sma7d\": 1279.429}, {\"date\": \"2020-10-05T00:00:00\", \"totalTestResultsIncrease\": 76404.0, \"positiveIncrease\": 933.0, \"death\": 25527.0, \"deathIncrease\": 8.0, \"positiveRate\": 0.012, \"state\": \"New York\", \"sma7d\": 1293.571}, {\"date\": \"2020-10-06T00:00:00\", \"totalTestResultsIncrease\": 96359.0, \"positiveIncrease\": 1393.0, \"death\": 25536.0, \"deathIncrease\": 9.0, \"positiveRate\": 0.014, \"state\": \"New York\", \"sma7d\": 1322.714}]}}, {\"mode\": \"vega-lite\"});\n",
       "</script>"
      ],
      "text/plain": [
       "alt.LayerChart(...)"
      ]
     },
     "execution_count": 11,
     "metadata": {},
     "output_type": "execute_result"
    }
   ],
   "source": [
    "create_plot(ny, 'positiveIncrease')"
   ]
  },
  {
   "cell_type": "code",
   "execution_count": 12,
   "metadata": {
    "execution": {
     "iopub.execute_input": "2020-10-07T22:34:07.571131Z",
     "iopub.status.busy": "2020-10-07T22:34:07.545812Z",
     "iopub.status.idle": "2020-10-07T22:34:07.649771Z",
     "shell.execute_reply": "2020-10-07T22:34:07.649225Z"
    },
    "papermill": {
     "duration": 0.127171,
     "end_time": "2020-10-07T22:34:07.649939",
     "exception": false,
     "start_time": "2020-10-07T22:34:07.522768",
     "status": "completed"
    },
    "tags": []
   },
   "outputs": [
    {
     "data": {
      "text/html": [
       "\n",
       "<div id=\"altair-viz-360a5ef4ee134ed9b65636df942805ab\"></div>\n",
       "<script type=\"text/javascript\">\n",
       "  (function(spec, embedOpt){\n",
       "    let outputDiv = document.currentScript.previousElementSibling;\n",
       "    if (outputDiv.id !== \"altair-viz-360a5ef4ee134ed9b65636df942805ab\") {\n",
       "      outputDiv = document.getElementById(\"altair-viz-360a5ef4ee134ed9b65636df942805ab\");\n",
       "    }\n",
       "    const paths = {\n",
       "      \"vega\": \"https://cdn.jsdelivr.net/npm//vega@5?noext\",\n",
       "      \"vega-lib\": \"https://cdn.jsdelivr.net/npm//vega-lib?noext\",\n",
       "      \"vega-lite\": \"https://cdn.jsdelivr.net/npm//vega-lite@4.8.1?noext\",\n",
       "      \"vega-embed\": \"https://cdn.jsdelivr.net/npm//vega-embed@6?noext\",\n",
       "    };\n",
       "\n",
       "    function loadScript(lib) {\n",
       "      return new Promise(function(resolve, reject) {\n",
       "        var s = document.createElement('script');\n",
       "        s.src = paths[lib];\n",
       "        s.async = true;\n",
       "        s.onload = () => resolve(paths[lib]);\n",
       "        s.onerror = () => reject(`Error loading script: ${paths[lib]}`);\n",
       "        document.getElementsByTagName(\"head\")[0].appendChild(s);\n",
       "      });\n",
       "    }\n",
       "\n",
       "    function showError(err) {\n",
       "      outputDiv.innerHTML = `<div class=\"error\" style=\"color:red;\">${err}</div>`;\n",
       "      throw err;\n",
       "    }\n",
       "\n",
       "    function displayChart(vegaEmbed) {\n",
       "      vegaEmbed(outputDiv, spec, embedOpt)\n",
       "        .catch(err => showError(`Javascript Error: ${err.message}<br>This usually means there's a typo in your chart specification. See the javascript console for the full traceback.`));\n",
       "    }\n",
       "\n",
       "    if(typeof define === \"function\" && define.amd) {\n",
       "      requirejs.config({paths});\n",
       "      require([\"vega-embed\"], displayChart, err => showError(`Error loading script: ${err.message}`));\n",
       "    } else if (typeof vegaEmbed === \"function\") {\n",
       "      displayChart(vegaEmbed);\n",
       "    } else {\n",
       "      loadScript(\"vega\")\n",
       "        .then(() => loadScript(\"vega-lite\"))\n",
       "        .then(() => loadScript(\"vega-embed\"))\n",
       "        .catch(showError)\n",
       "        .then(() => displayChart(vegaEmbed));\n",
       "    }\n",
       "  })({\"config\": {\"view\": {\"continuousWidth\": 400, \"continuousHeight\": 300}}, \"layer\": [{\"layer\": [{\"mark\": {\"type\": \"point\", \"size\": 75}, \"encoding\": {\"tooltip\": [{\"type\": \"temporal\", \"field\": \"date\"}, {\"type\": \"quantitative\", \"field\": \"positiveRate\"}, {\"type\": \"quantitative\", \"field\": \"sma7d\"}], \"x\": {\"type\": \"temporal\", \"field\": \"date\"}, \"y\": {\"type\": \"quantitative\", \"field\": \"positiveRate\"}}, \"selection\": {\"selector010\": {\"type\": \"interval\", \"bind\": \"scales\", \"encodings\": [\"x\", \"y\"]}}}, {\"mark\": {\"type\": \"line\", \"color\": \"purple\"}, \"encoding\": {\"x\": {\"type\": \"temporal\", \"field\": \"date\"}, \"y\": {\"type\": \"quantitative\", \"field\": \"sma7d\"}}}]}, {\"mark\": {\"type\": \"rule\", \"color\": \"#aaa\"}, \"encoding\": {\"x\": {\"type\": \"temporal\", \"field\": \"date\"}}, \"transform\": [{\"filter\": {\"selection\": \"selector009\"}}]}, {\"mark\": \"circle\", \"encoding\": {\"opacity\": {\"condition\": {\"value\": 1, \"selection\": \"selector009\"}, \"value\": 0}, \"tooltip\": [{\"type\": \"temporal\", \"field\": \"date\"}, {\"type\": \"quantitative\", \"field\": \"positiveRate\"}, {\"type\": \"quantitative\", \"field\": \"sma7d\"}], \"x\": {\"type\": \"temporal\", \"field\": \"date\"}, \"y\": {\"type\": \"quantitative\", \"field\": \"positiveRate\"}}, \"selection\": {\"selector009\": {\"type\": \"single\", \"encodings\": [\"x\"], \"on\": \"mouseover\", \"nearest\": true, \"empty\": \"none\"}}}, {\"mark\": {\"type\": \"text\", \"align\": \"left\", \"dx\": 5, \"dy\": -5, \"stroke\": \"white\", \"strokeWidth\": 2}, \"encoding\": {\"text\": {\"type\": \"quantitative\", \"field\": \"positiveRate\"}, \"tooltip\": [{\"type\": \"temporal\", \"field\": \"date\"}, {\"type\": \"quantitative\", \"field\": \"positiveRate\"}, {\"type\": \"quantitative\", \"field\": \"sma7d\"}], \"x\": {\"type\": \"temporal\", \"field\": \"date\"}, \"y\": {\"type\": \"quantitative\", \"field\": \"positiveRate\"}}, \"transform\": [{\"filter\": {\"selection\": \"selector009\"}}]}, {\"mark\": {\"type\": \"text\", \"align\": \"left\", \"dx\": 5, \"dy\": -5}, \"encoding\": {\"text\": {\"type\": \"quantitative\", \"field\": \"positiveRate\"}, \"tooltip\": [{\"type\": \"temporal\", \"field\": \"date\"}, {\"type\": \"quantitative\", \"field\": \"positiveRate\"}, {\"type\": \"quantitative\", \"field\": \"sma7d\"}], \"x\": {\"type\": \"temporal\", \"field\": \"date\"}, \"y\": {\"type\": \"quantitative\", \"field\": \"positiveRate\"}}, \"transform\": [{\"filter\": {\"selection\": \"selector009\"}}]}], \"data\": {\"name\": \"data-2138a6cc338d38ce2a7b2a66cd7d41ee\"}, \"height\": 400, \"title\": \"New York: positiveRate\", \"width\": 500, \"$schema\": \"https://vega.github.io/schema/vega-lite/v4.8.1.json\", \"datasets\": {\"data-2138a6cc338d38ce2a7b2a66cd7d41ee\": [{\"date\": \"2020-08-13T00:00:00\", \"totalTestResultsIncrease\": 87900.0, \"positiveIncrease\": 737.0, \"death\": 25228.0, \"deathIncrease\": 10.0, \"positiveRate\": 0.008, \"state\": \"New York\", \"sma7d\": 0.009}, {\"date\": \"2020-08-14T00:00:00\", \"totalTestResultsIncrease\": 85455.0, \"positiveIncrease\": 727.0, \"death\": 25232.0, \"deathIncrease\": 4.0, \"positiveRate\": 0.009, \"state\": \"New York\", \"sma7d\": 0.009}, {\"date\": \"2020-08-15T00:00:00\", \"totalTestResultsIncrease\": 88668.0, \"positiveIncrease\": 734.0, \"death\": 25244.0, \"deathIncrease\": 12.0, \"positiveRate\": 0.008, \"state\": \"New York\", \"sma7d\": 0.008}, {\"date\": \"2020-08-16T00:00:00\", \"totalTestResultsIncrease\": 77692.0, \"positiveIncrease\": 607.0, \"death\": 25250.0, \"deathIncrease\": 6.0, \"positiveRate\": 0.008, \"state\": \"New York\", \"sma7d\": 0.008}, {\"date\": \"2020-08-17T00:00:00\", \"totalTestResultsIncrease\": 56891.0, \"positiveIncrease\": 408.0, \"death\": 25256.0, \"deathIncrease\": 6.0, \"positiveRate\": 0.007, \"state\": \"New York\", \"sma7d\": 0.008}, {\"date\": \"2020-08-18T00:00:00\", \"totalTestResultsIncrease\": 66891.0, \"positiveIncrease\": 655.0, \"death\": 25264.0, \"deathIncrease\": 8.0, \"positiveRate\": 0.01, \"state\": \"New York\", \"sma7d\": 0.008}, {\"date\": \"2020-08-19T00:00:00\", \"totalTestResultsIncrease\": 80425.0, \"positiveIncrease\": 631.0, \"death\": 25270.0, \"deathIncrease\": 6.0, \"positiveRate\": 0.008, \"state\": \"New York\", \"sma7d\": 0.008}, {\"date\": \"2020-08-20T00:00:00\", \"totalTestResultsIncrease\": 80984.0, \"positiveIncrease\": 601.0, \"death\": 25275.0, \"deathIncrease\": 5.0, \"positiveRate\": 0.007, \"state\": \"New York\", \"sma7d\": 0.008}, {\"date\": \"2020-08-21T00:00:00\", \"totalTestResultsIncrease\": 98880.0, \"positiveIncrease\": 709.0, \"death\": 25278.0, \"deathIncrease\": 3.0, \"positiveRate\": 0.007, \"state\": \"New York\", \"sma7d\": 0.008}, {\"date\": \"2020-08-22T00:00:00\", \"totalTestResultsIncrease\": 94849.0, \"positiveIncrease\": 653.0, \"death\": 25282.0, \"deathIncrease\": 4.0, \"positiveRate\": 0.007, \"state\": \"New York\", \"sma7d\": 0.008}, {\"date\": \"2020-08-23T00:00:00\", \"totalTestResultsIncrease\": 74043.0, \"positiveIncrease\": 572.0, \"death\": 25288.0, \"deathIncrease\": 6.0, \"positiveRate\": 0.008, \"state\": \"New York\", \"sma7d\": 0.008}, {\"date\": \"2020-08-24T00:00:00\", \"totalTestResultsIncrease\": 62031.0, \"positiveIncrease\": 408.0, \"death\": 25295.0, \"deathIncrease\": 7.0, \"positiveRate\": 0.007, \"state\": \"New York\", \"sma7d\": 0.008}, {\"date\": \"2020-08-25T00:00:00\", \"totalTestResultsIncrease\": 67255.0, \"positiveIncrease\": 629.0, \"death\": 25297.0, \"deathIncrease\": 2.0, \"positiveRate\": 0.009, \"state\": \"New York\", \"sma7d\": 0.008}, {\"date\": \"2020-08-26T00:00:00\", \"totalTestResultsIncrease\": 71189.0, \"positiveIncrease\": 566.0, \"death\": 25305.0, \"deathIncrease\": 8.0, \"positiveRate\": 0.008, \"state\": \"New York\", \"sma7d\": 0.008}, {\"date\": \"2020-08-27T00:00:00\", \"totalTestResultsIncrease\": 83437.0, \"positiveIncrease\": 791.0, \"death\": 25309.0, \"deathIncrease\": 4.0, \"positiveRate\": 0.009, \"state\": \"New York\", \"sma7d\": 0.008}, {\"date\": \"2020-08-28T00:00:00\", \"totalTestResultsIncrease\": 97826.0, \"positiveIncrease\": 636.0, \"death\": 25312.0, \"deathIncrease\": 3.0, \"positiveRate\": 0.007, \"state\": \"New York\", \"sma7d\": 0.008}, {\"date\": \"2020-08-29T00:00:00\", \"totalTestResultsIncrease\": 93873.0, \"positiveIncrease\": 635.0, \"death\": 25319.0, \"deathIncrease\": 7.0, \"positiveRate\": 0.007, \"state\": \"New York\", \"sma7d\": 0.008}, {\"date\": \"2020-08-30T00:00:00\", \"totalTestResultsIncrease\": 100022.0, \"positiveIncrease\": 698.0, \"death\": 25327.0, \"deathIncrease\": 8.0, \"positiveRate\": 0.007, \"state\": \"New York\", \"sma7d\": 0.008}, {\"date\": \"2020-08-31T00:00:00\", \"totalTestResultsIncrease\": 66241.0, \"positiveIncrease\": 656.0, \"death\": 25328.0, \"deathIncrease\": 1.0, \"positiveRate\": 0.01, \"state\": \"New York\", \"sma7d\": 0.008}, {\"date\": \"2020-09-01T00:00:00\", \"totalTestResultsIncrease\": 76997.0, \"positiveIncrease\": 754.0, \"death\": 25331.0, \"deathIncrease\": 3.0, \"positiveRate\": 0.01, \"state\": \"New York\", \"sma7d\": 0.008}, {\"date\": \"2020-09-02T00:00:00\", \"totalTestResultsIncrease\": 88447.0, \"positiveIncrease\": 708.0, \"death\": 25336.0, \"deathIncrease\": 5.0, \"positiveRate\": 0.008, \"state\": \"New York\", \"sma7d\": 0.008}, {\"date\": \"2020-09-03T00:00:00\", \"totalTestResultsIncrease\": 88981.0, \"positiveIncrease\": 889.0, \"death\": 25343.0, \"deathIncrease\": 7.0, \"positiveRate\": 0.01, \"state\": \"New York\", \"sma7d\": 0.008}, {\"date\": \"2020-09-04T00:00:00\", \"totalTestResultsIncrease\": 93395.0, \"positiveIncrease\": 864.0, \"death\": 25348.0, \"deathIncrease\": 5.0, \"positiveRate\": 0.009, \"state\": \"New York\", \"sma7d\": 0.009}, {\"date\": \"2020-09-05T00:00:00\", \"totalTestResultsIncrease\": 99761.0, \"positiveIncrease\": 801.0, \"death\": 25350.0, \"deathIncrease\": 2.0, \"positiveRate\": 0.008, \"state\": \"New York\", \"sma7d\": 0.009}, {\"date\": \"2020-09-06T00:00:00\", \"totalTestResultsIncrease\": 85630.0, \"positiveIncrease\": 729.0, \"death\": 25359.0, \"deathIncrease\": 9.0, \"positiveRate\": 0.009, \"state\": \"New York\", \"sma7d\": 0.009}, {\"date\": \"2020-09-07T00:00:00\", \"totalTestResultsIncrease\": 58865.0, \"positiveIncrease\": 520.0, \"death\": 25361.0, \"deathIncrease\": 2.0, \"positiveRate\": 0.009, \"state\": \"New York\", \"sma7d\": 0.009}, {\"date\": \"2020-09-08T00:00:00\", \"totalTestResultsIncrease\": 57826.0, \"positiveIncrease\": 557.0, \"death\": 25367.0, \"deathIncrease\": 6.0, \"positiveRate\": 0.01, \"state\": \"New York\", \"sma7d\": 0.009}, {\"date\": \"2020-09-09T00:00:00\", \"totalTestResultsIncrease\": 63230.0, \"positiveIncrease\": 576.0, \"death\": 25370.0, \"deathIncrease\": 3.0, \"positiveRate\": 0.009, \"state\": \"New York\", \"sma7d\": 0.009}, {\"date\": \"2020-09-10T00:00:00\", \"totalTestResultsIncrease\": 76813.0, \"positiveIncrease\": 757.0, \"death\": 25377.0, \"deathIncrease\": 7.0, \"positiveRate\": 0.01, \"state\": \"New York\", \"sma7d\": 0.009}, {\"date\": \"2020-09-11T00:00:00\", \"totalTestResultsIncrease\": 89722.0, \"positiveIncrease\": 880.0, \"death\": 25382.0, \"deathIncrease\": 5.0, \"positiveRate\": 0.01, \"state\": \"New York\", \"sma7d\": 0.009}, {\"date\": \"2020-09-12T00:00:00\", \"totalTestResultsIncrease\": 102925.0, \"positiveIncrease\": 849.0, \"death\": 25384.0, \"deathIncrease\": 2.0, \"positiveRate\": 0.008, \"state\": \"New York\", \"sma7d\": 0.009}, {\"date\": \"2020-09-13T00:00:00\", \"totalTestResultsIncrease\": 72668.0, \"positiveIncrease\": 725.0, \"death\": 25390.0, \"deathIncrease\": 6.0, \"positiveRate\": 0.01, \"state\": \"New York\", \"sma7d\": 0.009}, {\"date\": \"2020-09-14T00:00:00\", \"totalTestResultsIncrease\": 63358.0, \"positiveIncrease\": 583.0, \"death\": 25394.0, \"deathIncrease\": 4.0, \"positiveRate\": 0.009, \"state\": \"New York\", \"sma7d\": 0.009}, {\"date\": \"2020-09-15T00:00:00\", \"totalTestResultsIncrease\": 73678.0, \"positiveIncrease\": 766.0, \"death\": 25405.0, \"deathIncrease\": 11.0, \"positiveRate\": 0.01, \"state\": \"New York\", \"sma7d\": 0.009}, {\"date\": \"2020-09-16T00:00:00\", \"totalTestResultsIncrease\": 75087.0, \"positiveIncrease\": 652.0, \"death\": 25410.0, \"deathIncrease\": 5.0, \"positiveRate\": 0.009, \"state\": \"New York\", \"sma7d\": 0.009}, {\"date\": \"2020-09-17T00:00:00\", \"totalTestResultsIncrease\": 91504.0, \"positiveIncrease\": 896.0, \"death\": 25413.0, \"deathIncrease\": 3.0, \"positiveRate\": 0.01, \"state\": \"New York\", \"sma7d\": 0.009}, {\"date\": \"2020-09-18T00:00:00\", \"totalTestResultsIncrease\": 89727.0, \"positiveIncrease\": 790.0, \"death\": 25423.0, \"deathIncrease\": 10.0, \"positiveRate\": 0.009, \"state\": \"New York\", \"sma7d\": 0.009}, {\"date\": \"2020-09-19T00:00:00\", \"totalTestResultsIncrease\": 110444.0, \"positiveIncrease\": 986.0, \"death\": 25425.0, \"deathIncrease\": 2.0, \"positiveRate\": 0.009, \"state\": \"New York\", \"sma7d\": 0.009}, {\"date\": \"2020-09-20T00:00:00\", \"totalTestResultsIncrease\": 100355.0, \"positiveIncrease\": 862.0, \"death\": 25427.0, \"deathIncrease\": 2.0, \"positiveRate\": 0.009, \"state\": \"New York\", \"sma7d\": 0.009}, {\"date\": \"2020-09-21T00:00:00\", \"totalTestResultsIncrease\": 58319.0, \"positiveIncrease\": 573.0, \"death\": 25428.0, \"deathIncrease\": 1.0, \"positiveRate\": 0.01, \"state\": \"New York\", \"sma7d\": 0.009}, {\"date\": \"2020-09-22T00:00:00\", \"totalTestResultsIncrease\": 83997.0, \"positiveIncrease\": 754.0, \"death\": 25432.0, \"deathIncrease\": 4.0, \"positiveRate\": 0.009, \"state\": \"New York\", \"sma7d\": 0.009}, {\"date\": \"2020-09-23T00:00:00\", \"totalTestResultsIncrease\": 70930.0, \"positiveIncrease\": 665.0, \"death\": 25437.0, \"deathIncrease\": 5.0, \"positiveRate\": 0.009, \"state\": \"New York\", \"sma7d\": 0.009}, {\"date\": \"2020-09-24T00:00:00\", \"totalTestResultsIncrease\": 92953.0, \"positiveIncrease\": 955.0, \"death\": 25439.0, \"deathIncrease\": 2.0, \"positiveRate\": 0.01, \"state\": \"New York\", \"sma7d\": 0.009}, {\"date\": \"2020-09-25T00:00:00\", \"totalTestResultsIncrease\": 94818.0, \"positiveIncrease\": 908.0, \"death\": 25446.0, \"deathIncrease\": 7.0, \"positiveRate\": 0.01, \"state\": \"New York\", \"sma7d\": 0.009}, {\"date\": \"2020-09-26T00:00:00\", \"totalTestResultsIncrease\": 99953.0, \"positiveIncrease\": 1005.0, \"death\": 25450.0, \"deathIncrease\": 4.0, \"positiveRate\": 0.01, \"state\": \"New York\", \"sma7d\": 0.01}, {\"date\": \"2020-09-27T00:00:00\", \"totalTestResultsIncrease\": 84770.0, \"positiveIncrease\": 866.0, \"death\": 25456.0, \"deathIncrease\": 6.0, \"positiveRate\": 0.01, \"state\": \"New York\", \"sma7d\": 0.01}, {\"date\": \"2020-09-28T00:00:00\", \"totalTestResultsIncrease\": 52936.0, \"positiveIncrease\": 834.0, \"death\": 25468.0, \"deathIncrease\": 12.0, \"positiveRate\": 0.016, \"state\": \"New York\", \"sma7d\": 0.011}, {\"date\": \"2020-09-29T00:00:00\", \"totalTestResultsIncrease\": 88231.0, \"positiveIncrease\": 1189.0, \"death\": 25470.0, \"deathIncrease\": 2.0, \"positiveRate\": 0.013, \"state\": \"New York\", \"sma7d\": 0.011}, {\"date\": \"2020-09-30T00:00:00\", \"totalTestResultsIncrease\": 97960.0, \"positiveIncrease\": 1000.0, \"death\": 25479.0, \"deathIncrease\": 9.0, \"positiveRate\": 0.01, \"state\": \"New York\", \"sma7d\": 0.011}, {\"date\": \"2020-10-01T00:00:00\", \"totalTestResultsIncrease\": 109218.0, \"positiveIncrease\": 1382.0, \"death\": 25490.0, \"deathIncrease\": 11.0, \"positiveRate\": 0.013, \"state\": \"New York\", \"sma7d\": 0.012}, {\"date\": \"2020-10-02T00:00:00\", \"totalTestResultsIncrease\": 119493.0, \"positiveIncrease\": 1598.0, \"death\": 25497.0, \"deathIncrease\": 7.0, \"positiveRate\": 0.013, \"state\": \"New York\", \"sma7d\": 0.012}, {\"date\": \"2020-10-03T00:00:00\", \"totalTestResultsIncrease\": 134267.0, \"positiveIncrease\": 1731.0, \"death\": 25505.0, \"deathIncrease\": 8.0, \"positiveRate\": 0.013, \"state\": \"New York\", \"sma7d\": 0.013}, {\"date\": \"2020-10-04T00:00:00\", \"totalTestResultsIncrease\": 110329.0, \"positiveIncrease\": 1222.0, \"death\": 25519.0, \"deathIncrease\": 14.0, \"positiveRate\": 0.011, \"state\": \"New York\", \"sma7d\": 0.013}, {\"date\": \"2020-10-05T00:00:00\", \"totalTestResultsIncrease\": 76404.0, \"positiveIncrease\": 933.0, \"death\": 25527.0, \"deathIncrease\": 8.0, \"positiveRate\": 0.012, \"state\": \"New York\", \"sma7d\": 0.012}, {\"date\": \"2020-10-06T00:00:00\", \"totalTestResultsIncrease\": 96359.0, \"positiveIncrease\": 1393.0, \"death\": 25536.0, \"deathIncrease\": 9.0, \"positiveRate\": 0.014, \"state\": \"New York\", \"sma7d\": 0.012}]}}, {\"mode\": \"vega-lite\"});\n",
       "</script>"
      ],
      "text/plain": [
       "alt.LayerChart(...)"
      ]
     },
     "execution_count": 12,
     "metadata": {},
     "output_type": "execute_result"
    }
   ],
   "source": [
    "create_plot(ny, 'positiveRate')"
   ]
  },
  {
   "cell_type": "code",
   "execution_count": 13,
   "metadata": {
    "execution": {
     "iopub.execute_input": "2020-10-07T22:34:07.693662Z",
     "iopub.status.busy": "2020-10-07T22:34:07.690699Z",
     "iopub.status.idle": "2020-10-07T22:34:07.792803Z",
     "shell.execute_reply": "2020-10-07T22:34:07.793326Z"
    },
    "papermill": {
     "duration": 0.12439,
     "end_time": "2020-10-07T22:34:07.793485",
     "exception": false,
     "start_time": "2020-10-07T22:34:07.669095",
     "status": "completed"
    },
    "tags": []
   },
   "outputs": [
    {
     "data": {
      "text/html": [
       "\n",
       "<div id=\"altair-viz-63f06d875f424f93ae66cf52be7546fe\"></div>\n",
       "<script type=\"text/javascript\">\n",
       "  (function(spec, embedOpt){\n",
       "    let outputDiv = document.currentScript.previousElementSibling;\n",
       "    if (outputDiv.id !== \"altair-viz-63f06d875f424f93ae66cf52be7546fe\") {\n",
       "      outputDiv = document.getElementById(\"altair-viz-63f06d875f424f93ae66cf52be7546fe\");\n",
       "    }\n",
       "    const paths = {\n",
       "      \"vega\": \"https://cdn.jsdelivr.net/npm//vega@5?noext\",\n",
       "      \"vega-lib\": \"https://cdn.jsdelivr.net/npm//vega-lib?noext\",\n",
       "      \"vega-lite\": \"https://cdn.jsdelivr.net/npm//vega-lite@4.8.1?noext\",\n",
       "      \"vega-embed\": \"https://cdn.jsdelivr.net/npm//vega-embed@6?noext\",\n",
       "    };\n",
       "\n",
       "    function loadScript(lib) {\n",
       "      return new Promise(function(resolve, reject) {\n",
       "        var s = document.createElement('script');\n",
       "        s.src = paths[lib];\n",
       "        s.async = true;\n",
       "        s.onload = () => resolve(paths[lib]);\n",
       "        s.onerror = () => reject(`Error loading script: ${paths[lib]}`);\n",
       "        document.getElementsByTagName(\"head\")[0].appendChild(s);\n",
       "      });\n",
       "    }\n",
       "\n",
       "    function showError(err) {\n",
       "      outputDiv.innerHTML = `<div class=\"error\" style=\"color:red;\">${err}</div>`;\n",
       "      throw err;\n",
       "    }\n",
       "\n",
       "    function displayChart(vegaEmbed) {\n",
       "      vegaEmbed(outputDiv, spec, embedOpt)\n",
       "        .catch(err => showError(`Javascript Error: ${err.message}<br>This usually means there's a typo in your chart specification. See the javascript console for the full traceback.`));\n",
       "    }\n",
       "\n",
       "    if(typeof define === \"function\" && define.amd) {\n",
       "      requirejs.config({paths});\n",
       "      require([\"vega-embed\"], displayChart, err => showError(`Error loading script: ${err.message}`));\n",
       "    } else if (typeof vegaEmbed === \"function\") {\n",
       "      displayChart(vegaEmbed);\n",
       "    } else {\n",
       "      loadScript(\"vega\")\n",
       "        .then(() => loadScript(\"vega-lite\"))\n",
       "        .then(() => loadScript(\"vega-embed\"))\n",
       "        .catch(showError)\n",
       "        .then(() => displayChart(vegaEmbed));\n",
       "    }\n",
       "  })({\"config\": {\"view\": {\"continuousWidth\": 400, \"continuousHeight\": 300}}, \"layer\": [{\"layer\": [{\"mark\": {\"type\": \"point\", \"size\": 75}, \"encoding\": {\"tooltip\": [{\"type\": \"temporal\", \"field\": \"date\"}, {\"type\": \"quantitative\", \"field\": \"deathIncrease\"}, {\"type\": \"quantitative\", \"field\": \"sma7d\"}], \"x\": {\"type\": \"temporal\", \"field\": \"date\"}, \"y\": {\"type\": \"quantitative\", \"field\": \"deathIncrease\"}}, \"selection\": {\"selector012\": {\"type\": \"interval\", \"bind\": \"scales\", \"encodings\": [\"x\", \"y\"]}}}, {\"mark\": {\"type\": \"line\", \"color\": \"purple\"}, \"encoding\": {\"x\": {\"type\": \"temporal\", \"field\": \"date\"}, \"y\": {\"type\": \"quantitative\", \"field\": \"sma7d\"}}}]}, {\"mark\": {\"type\": \"rule\", \"color\": \"#aaa\"}, \"encoding\": {\"x\": {\"type\": \"temporal\", \"field\": \"date\"}}, \"transform\": [{\"filter\": {\"selection\": \"selector011\"}}]}, {\"mark\": \"circle\", \"encoding\": {\"opacity\": {\"condition\": {\"value\": 1, \"selection\": \"selector011\"}, \"value\": 0}, \"tooltip\": [{\"type\": \"temporal\", \"field\": \"date\"}, {\"type\": \"quantitative\", \"field\": \"deathIncrease\"}, {\"type\": \"quantitative\", \"field\": \"sma7d\"}], \"x\": {\"type\": \"temporal\", \"field\": \"date\"}, \"y\": {\"type\": \"quantitative\", \"field\": \"deathIncrease\"}}, \"selection\": {\"selector011\": {\"type\": \"single\", \"encodings\": [\"x\"], \"on\": \"mouseover\", \"nearest\": true, \"empty\": \"none\"}}}, {\"mark\": {\"type\": \"text\", \"align\": \"left\", \"dx\": 5, \"dy\": -5, \"stroke\": \"white\", \"strokeWidth\": 2}, \"encoding\": {\"text\": {\"type\": \"quantitative\", \"field\": \"deathIncrease\"}, \"tooltip\": [{\"type\": \"temporal\", \"field\": \"date\"}, {\"type\": \"quantitative\", \"field\": \"deathIncrease\"}, {\"type\": \"quantitative\", \"field\": \"sma7d\"}], \"x\": {\"type\": \"temporal\", \"field\": \"date\"}, \"y\": {\"type\": \"quantitative\", \"field\": \"deathIncrease\"}}, \"transform\": [{\"filter\": {\"selection\": \"selector011\"}}]}, {\"mark\": {\"type\": \"text\", \"align\": \"left\", \"dx\": 5, \"dy\": -5}, \"encoding\": {\"text\": {\"type\": \"quantitative\", \"field\": \"deathIncrease\"}, \"tooltip\": [{\"type\": \"temporal\", \"field\": \"date\"}, {\"type\": \"quantitative\", \"field\": \"deathIncrease\"}, {\"type\": \"quantitative\", \"field\": \"sma7d\"}], \"x\": {\"type\": \"temporal\", \"field\": \"date\"}, \"y\": {\"type\": \"quantitative\", \"field\": \"deathIncrease\"}}, \"transform\": [{\"filter\": {\"selection\": \"selector011\"}}]}], \"data\": {\"name\": \"data-e785c418b032461aa64150c60d0665f9\"}, \"height\": 400, \"title\": \"New York: deathIncrease\", \"width\": 500, \"$schema\": \"https://vega.github.io/schema/vega-lite/v4.8.1.json\", \"datasets\": {\"data-e785c418b032461aa64150c60d0665f9\": [{\"date\": \"2020-08-13T00:00:00\", \"totalTestResultsIncrease\": 87900.0, \"positiveIncrease\": 737.0, \"death\": 25228.0, \"deathIncrease\": 10.0, \"positiveRate\": 0.008, \"state\": \"New York\", \"sma7d\": 6.143}, {\"date\": \"2020-08-14T00:00:00\", \"totalTestResultsIncrease\": 85455.0, \"positiveIncrease\": 727.0, \"death\": 25232.0, \"deathIncrease\": 4.0, \"positiveRate\": 0.009, \"state\": \"New York\", \"sma7d\": 6.0}, {\"date\": \"2020-08-15T00:00:00\", \"totalTestResultsIncrease\": 88668.0, \"positiveIncrease\": 734.0, \"death\": 25244.0, \"deathIncrease\": 12.0, \"positiveRate\": 0.008, \"state\": \"New York\", \"sma7d\": 7.0}, {\"date\": \"2020-08-16T00:00:00\", \"totalTestResultsIncrease\": 77692.0, \"positiveIncrease\": 607.0, \"death\": 25250.0, \"deathIncrease\": 6.0, \"positiveRate\": 0.008, \"state\": \"New York\", \"sma7d\": 6.857}, {\"date\": \"2020-08-17T00:00:00\", \"totalTestResultsIncrease\": 56891.0, \"positiveIncrease\": 408.0, \"death\": 25256.0, \"deathIncrease\": 6.0, \"positiveRate\": 0.007, \"state\": \"New York\", \"sma7d\": 7.429}, {\"date\": \"2020-08-18T00:00:00\", \"totalTestResultsIncrease\": 66891.0, \"positiveIncrease\": 655.0, \"death\": 25264.0, \"deathIncrease\": 8.0, \"positiveRate\": 0.01, \"state\": \"New York\", \"sma7d\": 7.571}, {\"date\": \"2020-08-19T00:00:00\", \"totalTestResultsIncrease\": 80425.0, \"positiveIncrease\": 631.0, \"death\": 25270.0, \"deathIncrease\": 6.0, \"positiveRate\": 0.008, \"state\": \"New York\", \"sma7d\": 7.429}, {\"date\": \"2020-08-20T00:00:00\", \"totalTestResultsIncrease\": 80984.0, \"positiveIncrease\": 601.0, \"death\": 25275.0, \"deathIncrease\": 5.0, \"positiveRate\": 0.007, \"state\": \"New York\", \"sma7d\": 6.714}, {\"date\": \"2020-08-21T00:00:00\", \"totalTestResultsIncrease\": 98880.0, \"positiveIncrease\": 709.0, \"death\": 25278.0, \"deathIncrease\": 3.0, \"positiveRate\": 0.007, \"state\": \"New York\", \"sma7d\": 6.571}, {\"date\": \"2020-08-22T00:00:00\", \"totalTestResultsIncrease\": 94849.0, \"positiveIncrease\": 653.0, \"death\": 25282.0, \"deathIncrease\": 4.0, \"positiveRate\": 0.007, \"state\": \"New York\", \"sma7d\": 5.429}, {\"date\": \"2020-08-23T00:00:00\", \"totalTestResultsIncrease\": 74043.0, \"positiveIncrease\": 572.0, \"death\": 25288.0, \"deathIncrease\": 6.0, \"positiveRate\": 0.008, \"state\": \"New York\", \"sma7d\": 5.429}, {\"date\": \"2020-08-24T00:00:00\", \"totalTestResultsIncrease\": 62031.0, \"positiveIncrease\": 408.0, \"death\": 25295.0, \"deathIncrease\": 7.0, \"positiveRate\": 0.007, \"state\": \"New York\", \"sma7d\": 5.571}, {\"date\": \"2020-08-25T00:00:00\", \"totalTestResultsIncrease\": 67255.0, \"positiveIncrease\": 629.0, \"death\": 25297.0, \"deathIncrease\": 2.0, \"positiveRate\": 0.009, \"state\": \"New York\", \"sma7d\": 4.714}, {\"date\": \"2020-08-26T00:00:00\", \"totalTestResultsIncrease\": 71189.0, \"positiveIncrease\": 566.0, \"death\": 25305.0, \"deathIncrease\": 8.0, \"positiveRate\": 0.008, \"state\": \"New York\", \"sma7d\": 5.0}, {\"date\": \"2020-08-27T00:00:00\", \"totalTestResultsIncrease\": 83437.0, \"positiveIncrease\": 791.0, \"death\": 25309.0, \"deathIncrease\": 4.0, \"positiveRate\": 0.009, \"state\": \"New York\", \"sma7d\": 4.857}, {\"date\": \"2020-08-28T00:00:00\", \"totalTestResultsIncrease\": 97826.0, \"positiveIncrease\": 636.0, \"death\": 25312.0, \"deathIncrease\": 3.0, \"positiveRate\": 0.007, \"state\": \"New York\", \"sma7d\": 4.857}, {\"date\": \"2020-08-29T00:00:00\", \"totalTestResultsIncrease\": 93873.0, \"positiveIncrease\": 635.0, \"death\": 25319.0, \"deathIncrease\": 7.0, \"positiveRate\": 0.007, \"state\": \"New York\", \"sma7d\": 5.286}, {\"date\": \"2020-08-30T00:00:00\", \"totalTestResultsIncrease\": 100022.0, \"positiveIncrease\": 698.0, \"death\": 25327.0, \"deathIncrease\": 8.0, \"positiveRate\": 0.007, \"state\": \"New York\", \"sma7d\": 5.571}, {\"date\": \"2020-08-31T00:00:00\", \"totalTestResultsIncrease\": 66241.0, \"positiveIncrease\": 656.0, \"death\": 25328.0, \"deathIncrease\": 1.0, \"positiveRate\": 0.01, \"state\": \"New York\", \"sma7d\": 4.714}, {\"date\": \"2020-09-01T00:00:00\", \"totalTestResultsIncrease\": 76997.0, \"positiveIncrease\": 754.0, \"death\": 25331.0, \"deathIncrease\": 3.0, \"positiveRate\": 0.01, \"state\": \"New York\", \"sma7d\": 4.857}, {\"date\": \"2020-09-02T00:00:00\", \"totalTestResultsIncrease\": 88447.0, \"positiveIncrease\": 708.0, \"death\": 25336.0, \"deathIncrease\": 5.0, \"positiveRate\": 0.008, \"state\": \"New York\", \"sma7d\": 4.429}, {\"date\": \"2020-09-03T00:00:00\", \"totalTestResultsIncrease\": 88981.0, \"positiveIncrease\": 889.0, \"death\": 25343.0, \"deathIncrease\": 7.0, \"positiveRate\": 0.01, \"state\": \"New York\", \"sma7d\": 4.857}, {\"date\": \"2020-09-04T00:00:00\", \"totalTestResultsIncrease\": 93395.0, \"positiveIncrease\": 864.0, \"death\": 25348.0, \"deathIncrease\": 5.0, \"positiveRate\": 0.009, \"state\": \"New York\", \"sma7d\": 5.143}, {\"date\": \"2020-09-05T00:00:00\", \"totalTestResultsIncrease\": 99761.0, \"positiveIncrease\": 801.0, \"death\": 25350.0, \"deathIncrease\": 2.0, \"positiveRate\": 0.008, \"state\": \"New York\", \"sma7d\": 4.429}, {\"date\": \"2020-09-06T00:00:00\", \"totalTestResultsIncrease\": 85630.0, \"positiveIncrease\": 729.0, \"death\": 25359.0, \"deathIncrease\": 9.0, \"positiveRate\": 0.009, \"state\": \"New York\", \"sma7d\": 4.571}, {\"date\": \"2020-09-07T00:00:00\", \"totalTestResultsIncrease\": 58865.0, \"positiveIncrease\": 520.0, \"death\": 25361.0, \"deathIncrease\": 2.0, \"positiveRate\": 0.009, \"state\": \"New York\", \"sma7d\": 4.714}, {\"date\": \"2020-09-08T00:00:00\", \"totalTestResultsIncrease\": 57826.0, \"positiveIncrease\": 557.0, \"death\": 25367.0, \"deathIncrease\": 6.0, \"positiveRate\": 0.01, \"state\": \"New York\", \"sma7d\": 5.143}, {\"date\": \"2020-09-09T00:00:00\", \"totalTestResultsIncrease\": 63230.0, \"positiveIncrease\": 576.0, \"death\": 25370.0, \"deathIncrease\": 3.0, \"positiveRate\": 0.009, \"state\": \"New York\", \"sma7d\": 4.857}, {\"date\": \"2020-09-10T00:00:00\", \"totalTestResultsIncrease\": 76813.0, \"positiveIncrease\": 757.0, \"death\": 25377.0, \"deathIncrease\": 7.0, \"positiveRate\": 0.01, \"state\": \"New York\", \"sma7d\": 4.857}, {\"date\": \"2020-09-11T00:00:00\", \"totalTestResultsIncrease\": 89722.0, \"positiveIncrease\": 880.0, \"death\": 25382.0, \"deathIncrease\": 5.0, \"positiveRate\": 0.01, \"state\": \"New York\", \"sma7d\": 4.857}, {\"date\": \"2020-09-12T00:00:00\", \"totalTestResultsIncrease\": 102925.0, \"positiveIncrease\": 849.0, \"death\": 25384.0, \"deathIncrease\": 2.0, \"positiveRate\": 0.008, \"state\": \"New York\", \"sma7d\": 4.857}, {\"date\": \"2020-09-13T00:00:00\", \"totalTestResultsIncrease\": 72668.0, \"positiveIncrease\": 725.0, \"death\": 25390.0, \"deathIncrease\": 6.0, \"positiveRate\": 0.01, \"state\": \"New York\", \"sma7d\": 4.429}, {\"date\": \"2020-09-14T00:00:00\", \"totalTestResultsIncrease\": 63358.0, \"positiveIncrease\": 583.0, \"death\": 25394.0, \"deathIncrease\": 4.0, \"positiveRate\": 0.009, \"state\": \"New York\", \"sma7d\": 4.714}, {\"date\": \"2020-09-15T00:00:00\", \"totalTestResultsIncrease\": 73678.0, \"positiveIncrease\": 766.0, \"death\": 25405.0, \"deathIncrease\": 11.0, \"positiveRate\": 0.01, \"state\": \"New York\", \"sma7d\": 5.429}, {\"date\": \"2020-09-16T00:00:00\", \"totalTestResultsIncrease\": 75087.0, \"positiveIncrease\": 652.0, \"death\": 25410.0, \"deathIncrease\": 5.0, \"positiveRate\": 0.009, \"state\": \"New York\", \"sma7d\": 5.714}, {\"date\": \"2020-09-17T00:00:00\", \"totalTestResultsIncrease\": 91504.0, \"positiveIncrease\": 896.0, \"death\": 25413.0, \"deathIncrease\": 3.0, \"positiveRate\": 0.01, \"state\": \"New York\", \"sma7d\": 5.143}, {\"date\": \"2020-09-18T00:00:00\", \"totalTestResultsIncrease\": 89727.0, \"positiveIncrease\": 790.0, \"death\": 25423.0, \"deathIncrease\": 10.0, \"positiveRate\": 0.009, \"state\": \"New York\", \"sma7d\": 5.857}, {\"date\": \"2020-09-19T00:00:00\", \"totalTestResultsIncrease\": 110444.0, \"positiveIncrease\": 986.0, \"death\": 25425.0, \"deathIncrease\": 2.0, \"positiveRate\": 0.009, \"state\": \"New York\", \"sma7d\": 5.857}, {\"date\": \"2020-09-20T00:00:00\", \"totalTestResultsIncrease\": 100355.0, \"positiveIncrease\": 862.0, \"death\": 25427.0, \"deathIncrease\": 2.0, \"positiveRate\": 0.009, \"state\": \"New York\", \"sma7d\": 5.286}, {\"date\": \"2020-09-21T00:00:00\", \"totalTestResultsIncrease\": 58319.0, \"positiveIncrease\": 573.0, \"death\": 25428.0, \"deathIncrease\": 1.0, \"positiveRate\": 0.01, \"state\": \"New York\", \"sma7d\": 4.857}, {\"date\": \"2020-09-22T00:00:00\", \"totalTestResultsIncrease\": 83997.0, \"positiveIncrease\": 754.0, \"death\": 25432.0, \"deathIncrease\": 4.0, \"positiveRate\": 0.009, \"state\": \"New York\", \"sma7d\": 3.857}, {\"date\": \"2020-09-23T00:00:00\", \"totalTestResultsIncrease\": 70930.0, \"positiveIncrease\": 665.0, \"death\": 25437.0, \"deathIncrease\": 5.0, \"positiveRate\": 0.009, \"state\": \"New York\", \"sma7d\": 3.857}, {\"date\": \"2020-09-24T00:00:00\", \"totalTestResultsIncrease\": 92953.0, \"positiveIncrease\": 955.0, \"death\": 25439.0, \"deathIncrease\": 2.0, \"positiveRate\": 0.01, \"state\": \"New York\", \"sma7d\": 3.714}, {\"date\": \"2020-09-25T00:00:00\", \"totalTestResultsIncrease\": 94818.0, \"positiveIncrease\": 908.0, \"death\": 25446.0, \"deathIncrease\": 7.0, \"positiveRate\": 0.01, \"state\": \"New York\", \"sma7d\": 3.286}, {\"date\": \"2020-09-26T00:00:00\", \"totalTestResultsIncrease\": 99953.0, \"positiveIncrease\": 1005.0, \"death\": 25450.0, \"deathIncrease\": 4.0, \"positiveRate\": 0.01, \"state\": \"New York\", \"sma7d\": 3.571}, {\"date\": \"2020-09-27T00:00:00\", \"totalTestResultsIncrease\": 84770.0, \"positiveIncrease\": 866.0, \"death\": 25456.0, \"deathIncrease\": 6.0, \"positiveRate\": 0.01, \"state\": \"New York\", \"sma7d\": 4.143}, {\"date\": \"2020-09-28T00:00:00\", \"totalTestResultsIncrease\": 52936.0, \"positiveIncrease\": 834.0, \"death\": 25468.0, \"deathIncrease\": 12.0, \"positiveRate\": 0.016, \"state\": \"New York\", \"sma7d\": 5.714}, {\"date\": \"2020-09-29T00:00:00\", \"totalTestResultsIncrease\": 88231.0, \"positiveIncrease\": 1189.0, \"death\": 25470.0, \"deathIncrease\": 2.0, \"positiveRate\": 0.013, \"state\": \"New York\", \"sma7d\": 5.429}, {\"date\": \"2020-09-30T00:00:00\", \"totalTestResultsIncrease\": 97960.0, \"positiveIncrease\": 1000.0, \"death\": 25479.0, \"deathIncrease\": 9.0, \"positiveRate\": 0.01, \"state\": \"New York\", \"sma7d\": 6.0}, {\"date\": \"2020-10-01T00:00:00\", \"totalTestResultsIncrease\": 109218.0, \"positiveIncrease\": 1382.0, \"death\": 25490.0, \"deathIncrease\": 11.0, \"positiveRate\": 0.013, \"state\": \"New York\", \"sma7d\": 7.286}, {\"date\": \"2020-10-02T00:00:00\", \"totalTestResultsIncrease\": 119493.0, \"positiveIncrease\": 1598.0, \"death\": 25497.0, \"deathIncrease\": 7.0, \"positiveRate\": 0.013, \"state\": \"New York\", \"sma7d\": 7.286}, {\"date\": \"2020-10-03T00:00:00\", \"totalTestResultsIncrease\": 134267.0, \"positiveIncrease\": 1731.0, \"death\": 25505.0, \"deathIncrease\": 8.0, \"positiveRate\": 0.013, \"state\": \"New York\", \"sma7d\": 7.857}, {\"date\": \"2020-10-04T00:00:00\", \"totalTestResultsIncrease\": 110329.0, \"positiveIncrease\": 1222.0, \"death\": 25519.0, \"deathIncrease\": 14.0, \"positiveRate\": 0.011, \"state\": \"New York\", \"sma7d\": 9.0}, {\"date\": \"2020-10-05T00:00:00\", \"totalTestResultsIncrease\": 76404.0, \"positiveIncrease\": 933.0, \"death\": 25527.0, \"deathIncrease\": 8.0, \"positiveRate\": 0.012, \"state\": \"New York\", \"sma7d\": 8.429}, {\"date\": \"2020-10-06T00:00:00\", \"totalTestResultsIncrease\": 96359.0, \"positiveIncrease\": 1393.0, \"death\": 25536.0, \"deathIncrease\": 9.0, \"positiveRate\": 0.014, \"state\": \"New York\", \"sma7d\": 9.429}]}}, {\"mode\": \"vega-lite\"});\n",
       "</script>"
      ],
      "text/plain": [
       "alt.LayerChart(...)"
      ]
     },
     "execution_count": 13,
     "metadata": {},
     "output_type": "execute_result"
    }
   ],
   "source": [
    "create_plot(ny, 'deathIncrease')"
   ]
  },
  {
   "cell_type": "markdown",
   "metadata": {
    "papermill": {
     "duration": 0.016994,
     "end_time": "2020-10-07T22:34:07.828792",
     "exception": false,
     "start_time": "2020-10-07T22:34:07.811798",
     "status": "completed"
    },
    "tags": []
   },
   "source": [
    "## Non Tri-State"
   ]
  },
  {
   "cell_type": "code",
   "execution_count": 14,
   "metadata": {
    "execution": {
     "iopub.execute_input": "2020-10-07T22:34:07.865813Z",
     "iopub.status.busy": "2020-10-07T22:34:07.865072Z",
     "iopub.status.idle": "2020-10-07T22:34:08.192808Z",
     "shell.execute_reply": "2020-10-07T22:34:08.192252Z"
    },
    "papermill": {
     "duration": 0.347434,
     "end_time": "2020-10-07T22:34:08.192948",
     "exception": false,
     "start_time": "2020-10-07T22:34:07.845514",
     "status": "completed"
    },
    "tags": []
   },
   "outputs": [],
   "source": [
    "non_tristate = create_df(df, lambda d: ~d['state'].isin(['CT','NJ','NY']), 'Non Tri-State')"
   ]
  },
  {
   "cell_type": "code",
   "execution_count": 15,
   "metadata": {
    "execution": {
     "iopub.execute_input": "2020-10-07T22:34:08.263230Z",
     "iopub.status.busy": "2020-10-07T22:34:08.252901Z",
     "iopub.status.idle": "2020-10-07T22:34:08.336207Z",
     "shell.execute_reply": "2020-10-07T22:34:08.336703Z"
    },
    "papermill": {
     "duration": 0.126516,
     "end_time": "2020-10-07T22:34:08.336893",
     "exception": false,
     "start_time": "2020-10-07T22:34:08.210377",
     "status": "completed"
    },
    "tags": []
   },
   "outputs": [
    {
     "data": {
      "text/html": [
       "\n",
       "<div id=\"altair-viz-0cdb3d8c126149c8844a45128f9b845d\"></div>\n",
       "<script type=\"text/javascript\">\n",
       "  (function(spec, embedOpt){\n",
       "    let outputDiv = document.currentScript.previousElementSibling;\n",
       "    if (outputDiv.id !== \"altair-viz-0cdb3d8c126149c8844a45128f9b845d\") {\n",
       "      outputDiv = document.getElementById(\"altair-viz-0cdb3d8c126149c8844a45128f9b845d\");\n",
       "    }\n",
       "    const paths = {\n",
       "      \"vega\": \"https://cdn.jsdelivr.net/npm//vega@5?noext\",\n",
       "      \"vega-lib\": \"https://cdn.jsdelivr.net/npm//vega-lib?noext\",\n",
       "      \"vega-lite\": \"https://cdn.jsdelivr.net/npm//vega-lite@4.8.1?noext\",\n",
       "      \"vega-embed\": \"https://cdn.jsdelivr.net/npm//vega-embed@6?noext\",\n",
       "    };\n",
       "\n",
       "    function loadScript(lib) {\n",
       "      return new Promise(function(resolve, reject) {\n",
       "        var s = document.createElement('script');\n",
       "        s.src = paths[lib];\n",
       "        s.async = true;\n",
       "        s.onload = () => resolve(paths[lib]);\n",
       "        s.onerror = () => reject(`Error loading script: ${paths[lib]}`);\n",
       "        document.getElementsByTagName(\"head\")[0].appendChild(s);\n",
       "      });\n",
       "    }\n",
       "\n",
       "    function showError(err) {\n",
       "      outputDiv.innerHTML = `<div class=\"error\" style=\"color:red;\">${err}</div>`;\n",
       "      throw err;\n",
       "    }\n",
       "\n",
       "    function displayChart(vegaEmbed) {\n",
       "      vegaEmbed(outputDiv, spec, embedOpt)\n",
       "        .catch(err => showError(`Javascript Error: ${err.message}<br>This usually means there's a typo in your chart specification. See the javascript console for the full traceback.`));\n",
       "    }\n",
       "\n",
       "    if(typeof define === \"function\" && define.amd) {\n",
       "      requirejs.config({paths});\n",
       "      require([\"vega-embed\"], displayChart, err => showError(`Error loading script: ${err.message}`));\n",
       "    } else if (typeof vegaEmbed === \"function\") {\n",
       "      displayChart(vegaEmbed);\n",
       "    } else {\n",
       "      loadScript(\"vega\")\n",
       "        .then(() => loadScript(\"vega-lite\"))\n",
       "        .then(() => loadScript(\"vega-embed\"))\n",
       "        .catch(showError)\n",
       "        .then(() => displayChart(vegaEmbed));\n",
       "    }\n",
       "  })({\"config\": {\"view\": {\"continuousWidth\": 400, \"continuousHeight\": 300}}, \"layer\": [{\"layer\": [{\"mark\": {\"type\": \"point\", \"size\": 75}, \"encoding\": {\"tooltip\": [{\"type\": \"temporal\", \"field\": \"date\"}, {\"type\": \"quantitative\", \"field\": \"positiveIncrease\"}, {\"type\": \"quantitative\", \"field\": \"sma7d\"}], \"x\": {\"type\": \"temporal\", \"field\": \"date\"}, \"y\": {\"type\": \"quantitative\", \"field\": \"positiveIncrease\"}}, \"selection\": {\"selector014\": {\"type\": \"interval\", \"bind\": \"scales\", \"encodings\": [\"x\", \"y\"]}}}, {\"mark\": {\"type\": \"line\", \"color\": \"purple\"}, \"encoding\": {\"x\": {\"type\": \"temporal\", \"field\": \"date\"}, \"y\": {\"type\": \"quantitative\", \"field\": \"sma7d\"}}}]}, {\"mark\": {\"type\": \"rule\", \"color\": \"#aaa\"}, \"encoding\": {\"x\": {\"type\": \"temporal\", \"field\": \"date\"}}, \"transform\": [{\"filter\": {\"selection\": \"selector013\"}}]}, {\"mark\": \"circle\", \"encoding\": {\"opacity\": {\"condition\": {\"value\": 1, \"selection\": \"selector013\"}, \"value\": 0}, \"tooltip\": [{\"type\": \"temporal\", \"field\": \"date\"}, {\"type\": \"quantitative\", \"field\": \"positiveIncrease\"}, {\"type\": \"quantitative\", \"field\": \"sma7d\"}], \"x\": {\"type\": \"temporal\", \"field\": \"date\"}, \"y\": {\"type\": \"quantitative\", \"field\": \"positiveIncrease\"}}, \"selection\": {\"selector013\": {\"type\": \"single\", \"encodings\": [\"x\"], \"on\": \"mouseover\", \"nearest\": true, \"empty\": \"none\"}}}, {\"mark\": {\"type\": \"text\", \"align\": \"left\", \"dx\": 5, \"dy\": -5, \"stroke\": \"white\", \"strokeWidth\": 2}, \"encoding\": {\"text\": {\"type\": \"quantitative\", \"field\": \"positiveIncrease\"}, \"tooltip\": [{\"type\": \"temporal\", \"field\": \"date\"}, {\"type\": \"quantitative\", \"field\": \"positiveIncrease\"}, {\"type\": \"quantitative\", \"field\": \"sma7d\"}], \"x\": {\"type\": \"temporal\", \"field\": \"date\"}, \"y\": {\"type\": \"quantitative\", \"field\": \"positiveIncrease\"}}, \"transform\": [{\"filter\": {\"selection\": \"selector013\"}}]}, {\"mark\": {\"type\": \"text\", \"align\": \"left\", \"dx\": 5, \"dy\": -5}, \"encoding\": {\"text\": {\"type\": \"quantitative\", \"field\": \"positiveIncrease\"}, \"tooltip\": [{\"type\": \"temporal\", \"field\": \"date\"}, {\"type\": \"quantitative\", \"field\": \"positiveIncrease\"}, {\"type\": \"quantitative\", \"field\": \"sma7d\"}], \"x\": {\"type\": \"temporal\", \"field\": \"date\"}, \"y\": {\"type\": \"quantitative\", \"field\": \"positiveIncrease\"}}, \"transform\": [{\"filter\": {\"selection\": \"selector013\"}}]}], \"data\": {\"name\": \"data-180bf135f274a4f869d00bd1f7722df6\"}, \"height\": 400, \"title\": \"Non Tri-State: positiveIncrease\", \"width\": 500, \"$schema\": \"https://vega.github.io/schema/vega-lite/v4.8.1.json\", \"datasets\": {\"data-180bf135f274a4f869d00bd1f7722df6\": [{\"date\": \"2020-08-13T00:00:00\", \"totalTestResultsIncrease\": 805548.0, \"positiveIncrease\": 50290.0, \"death\": 113368.0, \"deathIncrease\": 1145.0, \"positiveRate\": 0.062, \"state\": \"Non Tri-State\", \"sma7d\": 51917.857}, {\"date\": \"2020-08-14T00:00:00\", \"totalTestResultsIncrease\": 769522.0, \"positiveIncrease\": 54224.0, \"death\": 114567.0, \"deathIncrease\": 1199.0, \"positiveRate\": 0.07, \"state\": \"Non Tri-State\", \"sma7d\": 51064.714}, {\"date\": \"2020-08-15T00:00:00\", \"totalTestResultsIncrease\": 661450.0, \"positiveIncrease\": 55137.0, \"death\": 115767.0, \"deathIncrease\": 1200.0, \"positiveRate\": 0.083, \"state\": \"Non Tri-State\", \"sma7d\": 51421.286}, {\"date\": \"2020-08-16T00:00:00\", \"totalTestResultsIncrease\": 703929.0, \"positiveIncrease\": 41867.0, \"death\": 116378.0, \"deathIncrease\": 611.0, \"positiveRate\": 0.059, \"state\": \"Non Tri-State\", \"sma7d\": 50292.571}, {\"date\": \"2020-08-17T00:00:00\", \"totalTestResultsIncrease\": 570518.0, \"positiveIncrease\": 36790.0, \"death\": 116772.0, \"deathIncrease\": 394.0, \"positiveRate\": 0.064, \"state\": \"Non Tri-State\", \"sma7d\": 49675.714}, {\"date\": \"2020-08-18T00:00:00\", \"totalTestResultsIncrease\": 577291.0, \"positiveIncrease\": 39821.0, \"death\": 117950.0, \"deathIncrease\": 1178.0, \"positiveRate\": 0.069, \"state\": \"Non Tri-State\", \"sma7d\": 47582.571}, {\"date\": \"2020-08-19T00:00:00\", \"totalTestResultsIncrease\": 589329.0, \"positiveIncrease\": 43936.0, \"death\": 119352.0, \"deathIncrease\": 1402.0, \"positiveRate\": 0.075, \"state\": \"Non Tri-State\", \"sma7d\": 46009.286}, {\"date\": \"2020-08-20T00:00:00\", \"totalTestResultsIncrease\": 608527.0, \"positiveIncrease\": 42939.0, \"death\": 120474.0, \"deathIncrease\": 1122.0, \"positiveRate\": 0.071, \"state\": \"Non Tri-State\", \"sma7d\": 44959.143}, {\"date\": \"2020-08-21T00:00:00\", \"totalTestResultsIncrease\": 650798.0, \"positiveIncrease\": 45475.0, \"death\": 121583.0, \"deathIncrease\": 1109.0, \"positiveRate\": 0.07, \"state\": \"Non Tri-State\", \"sma7d\": 43709.286}, {\"date\": \"2020-08-22T00:00:00\", \"totalTestResultsIncrease\": 668776.0, \"positiveIncrease\": 45164.0, \"death\": 122606.0, \"deathIncrease\": 1023.0, \"positiveRate\": 0.068, \"state\": \"Non Tri-State\", \"sma7d\": 42284.571}, {\"date\": \"2020-08-23T00:00:00\", \"totalTestResultsIncrease\": 582439.0, \"positiveIncrease\": 36736.0, \"death\": 123169.0, \"deathIncrease\": 563.0, \"positiveRate\": 0.063, \"state\": \"Non Tri-State\", \"sma7d\": 41551.571}, {\"date\": \"2020-08-24T00:00:00\", \"totalTestResultsIncrease\": 559760.0, \"positiveIncrease\": 33518.0, \"death\": 123502.0, \"deathIncrease\": 333.0, \"positiveRate\": 0.06, \"state\": \"Non Tri-State\", \"sma7d\": 41084.143}, {\"date\": \"2020-08-25T00:00:00\", \"totalTestResultsIncrease\": 575325.0, \"positiveIncrease\": 35419.0, \"death\": 124640.0, \"deathIncrease\": 1138.0, \"positiveRate\": 0.062, \"state\": \"Non Tri-State\", \"sma7d\": 40455.286}, {\"date\": \"2020-08-26T00:00:00\", \"totalTestResultsIncrease\": 568880.0, \"positiveIncrease\": 43022.0, \"death\": 125920.0, \"deathIncrease\": 1280.0, \"positiveRate\": 0.076, \"state\": \"Non Tri-State\", \"sma7d\": 40324.714}, {\"date\": \"2020-08-27T00:00:00\", \"totalTestResultsIncrease\": 667599.0, \"positiveIncrease\": 42756.0, \"death\": 127036.0, \"deathIncrease\": 1116.0, \"positiveRate\": 0.064, \"state\": \"Non Tri-State\", \"sma7d\": 40298.571}, {\"date\": \"2020-08-28T00:00:00\", \"totalTestResultsIncrease\": 710430.0, \"positiveIncrease\": 45409.0, \"death\": 128047.0, \"deathIncrease\": 1011.0, \"positiveRate\": 0.064, \"state\": \"Non Tri-State\", \"sma7d\": 40289.143}, {\"date\": \"2020-08-29T00:00:00\", \"totalTestResultsIncrease\": 665577.0, \"positiveIncrease\": 43517.0, \"death\": 129052.0, \"deathIncrease\": 1005.0, \"positiveRate\": 0.065, \"state\": \"Non Tri-State\", \"sma7d\": 40053.857}, {\"date\": \"2020-08-30T00:00:00\", \"totalTestResultsIncrease\": 648012.0, \"positiveIncrease\": 38512.0, \"death\": 129515.0, \"deathIncrease\": 463.0, \"positiveRate\": 0.059, \"state\": \"Non Tri-State\", \"sma7d\": 40307.571}, {\"date\": \"2020-08-31T00:00:00\", \"totalTestResultsIncrease\": 574068.0, \"positiveIncrease\": 30017.0, \"death\": 129872.0, \"deathIncrease\": 357.0, \"positiveRate\": 0.052, \"state\": \"Non Tri-State\", \"sma7d\": 39807.429}, {\"date\": \"2020-09-01T00:00:00\", \"totalTestResultsIncrease\": 637659.0, \"positiveIncrease\": 41222.0, \"death\": 130890.0, \"deathIncrease\": 1018.0, \"positiveRate\": 0.065, \"state\": \"Non Tri-State\", \"sma7d\": 40636.429}, {\"date\": \"2020-09-02T00:00:00\", \"totalTestResultsIncrease\": 539736.0, \"positiveIncrease\": 29488.0, \"death\": 131905.0, \"deathIncrease\": 1015.0, \"positiveRate\": 0.055, \"state\": \"Non Tri-State\", \"sma7d\": 38703.0}, {\"date\": \"2020-09-03T00:00:00\", \"totalTestResultsIncrease\": 669468.0, \"positiveIncrease\": 43346.0, \"death\": 132960.0, \"deathIncrease\": 1055.0, \"positiveRate\": 0.065, \"state\": \"Non Tri-State\", \"sma7d\": 38787.286}, {\"date\": \"2020-09-04T00:00:00\", \"totalTestResultsIncrease\": 804931.0, \"positiveIncrease\": 50122.0, \"death\": 133946.0, \"deathIncrease\": 986.0, \"positiveRate\": 0.062, \"state\": \"Non Tri-State\", \"sma7d\": 39460.571}, {\"date\": \"2020-09-05T00:00:00\", \"totalTestResultsIncrease\": 780694.0, \"positiveIncrease\": 43779.0, \"death\": 134855.0, \"deathIncrease\": 909.0, \"positiveRate\": 0.056, \"state\": \"Non Tri-State\", \"sma7d\": 39498.0}, {\"date\": \"2020-09-06T00:00:00\", \"totalTestResultsIncrease\": 660044.0, \"positiveIncrease\": 32077.0, \"death\": 135291.0, \"deathIncrease\": 436.0, \"positiveRate\": 0.049, \"state\": \"Non Tri-State\", \"sma7d\": 38578.714}, {\"date\": \"2020-09-07T00:00:00\", \"totalTestResultsIncrease\": 505701.0, \"positiveIncrease\": 27830.0, \"death\": 135512.0, \"deathIncrease\": 221.0, \"positiveRate\": 0.055, \"state\": \"Non Tri-State\", \"sma7d\": 38266.286}, {\"date\": \"2020-09-08T00:00:00\", \"totalTestResultsIncrease\": 418562.0, \"positiveIncrease\": 20972.0, \"death\": 135853.0, \"deathIncrease\": 341.0, \"positiveRate\": 0.05, \"state\": \"Non Tri-State\", \"sma7d\": 35373.429}, {\"date\": \"2020-09-09T00:00:00\", \"totalTestResultsIncrease\": 539717.0, \"positiveIncrease\": 30126.0, \"death\": 136926.0, \"deathIncrease\": 1073.0, \"positiveRate\": 0.056, \"state\": \"Non Tri-State\", \"sma7d\": 35464.571}, {\"date\": \"2020-09-10T00:00:00\", \"totalTestResultsIncrease\": 580853.0, \"positiveIncrease\": 36178.0, \"death\": 138080.0, \"deathIncrease\": 1154.0, \"positiveRate\": 0.062, \"state\": \"Non Tri-State\", \"sma7d\": 34440.571}, {\"date\": \"2020-09-11T00:00:00\", \"totalTestResultsIncrease\": 693607.0, \"positiveIncrease\": 43340.0, \"death\": 139082.0, \"deathIncrease\": 1002.0, \"positiveRate\": 0.062, \"state\": \"Non Tri-State\", \"sma7d\": 33471.714}, {\"date\": \"2020-09-12T00:00:00\", \"totalTestResultsIncrease\": 802307.0, \"positiveIncrease\": 40792.0, \"death\": 139886.0, \"deathIncrease\": 804.0, \"positiveRate\": 0.051, \"state\": \"Non Tri-State\", \"sma7d\": 33045.0}, {\"date\": \"2020-09-13T00:00:00\", \"totalTestResultsIncrease\": 631669.0, \"positiveIncrease\": 33431.0, \"death\": 140265.0, \"deathIncrease\": 379.0, \"positiveRate\": 0.053, \"state\": \"Non Tri-State\", \"sma7d\": 33238.429}, {\"date\": \"2020-09-14T00:00:00\", \"totalTestResultsIncrease\": 315257.0, \"positiveIncrease\": 32378.0, \"death\": 140656.0, \"deathIncrease\": 391.0, \"positiveRate\": 0.103, \"state\": \"Non Tri-State\", \"sma7d\": 33888.143}, {\"date\": \"2020-09-15T00:00:00\", \"totalTestResultsIncrease\": 622438.0, \"positiveIncrease\": 34107.0, \"death\": 141667.0, \"deathIncrease\": 1011.0, \"positiveRate\": 0.055, \"state\": \"Non Tri-State\", \"sma7d\": 35764.571}, {\"date\": \"2020-09-16T00:00:00\", \"totalTestResultsIncrease\": 628716.0, \"positiveIncrease\": 38846.0, \"death\": 142851.0, \"deathIncrease\": 1184.0, \"positiveRate\": 0.062, \"state\": \"Non Tri-State\", \"sma7d\": 37010.286}, {\"date\": \"2020-09-17T00:00:00\", \"totalTestResultsIncrease\": 710323.0, \"positiveIncrease\": 41873.0, \"death\": 143707.0, \"deathIncrease\": 856.0, \"positiveRate\": 0.059, \"state\": \"Non Tri-State\", \"sma7d\": 37823.857}, {\"date\": \"2020-09-18T00:00:00\", \"totalTestResultsIncrease\": 859898.0, \"positiveIncrease\": 46068.0, \"death\": 144590.0, \"deathIncrease\": 883.0, \"positiveRate\": 0.054, \"state\": \"Non Tri-State\", \"sma7d\": 38213.571}, {\"date\": \"2020-09-19T00:00:00\", \"totalTestResultsIncrease\": 959322.0, \"positiveIncrease\": 44117.0, \"death\": 145325.0, \"deathIncrease\": 735.0, \"positiveRate\": 0.046, \"state\": \"Non Tri-State\", \"sma7d\": 38688.571}, {\"date\": \"2020-09-20T00:00:00\", \"totalTestResultsIncrease\": 747652.0, \"positiveIncrease\": 34980.0, \"death\": 145647.0, \"deathIncrease\": 322.0, \"positiveRate\": 0.047, \"state\": \"Non Tri-State\", \"sma7d\": 38909.857}, {\"date\": \"2020-09-21T00:00:00\", \"totalTestResultsIncrease\": 622922.0, \"positiveIncrease\": 38010.0, \"death\": 145928.0, \"deathIncrease\": 281.0, \"positiveRate\": 0.061, \"state\": \"Non Tri-State\", \"sma7d\": 39714.429}, {\"date\": \"2020-09-22T00:00:00\", \"totalTestResultsIncrease\": 642590.0, \"positiveIncrease\": 48123.0, \"death\": 146770.0, \"deathIncrease\": 842.0, \"positiveRate\": 0.075, \"state\": \"Non Tri-State\", \"sma7d\": 41716.714}, {\"date\": \"2020-09-23T00:00:00\", \"totalTestResultsIncrease\": 820328.0, \"positiveIncrease\": 37339.0, \"death\": 147915.0, \"deathIncrease\": 1145.0, \"positiveRate\": 0.046, \"state\": \"Non Tri-State\", \"sma7d\": 41501.429}, {\"date\": \"2020-09-24T00:00:00\", \"totalTestResultsIncrease\": 803289.0, \"positiveIncrease\": 42096.0, \"death\": 148823.0, \"deathIncrease\": 908.0, \"positiveRate\": 0.052, \"state\": \"Non Tri-State\", \"sma7d\": 41533.286}, {\"date\": \"2020-09-25T00:00:00\", \"totalTestResultsIncrease\": 880718.0, \"positiveIncrease\": 53955.0, \"death\": 149652.0, \"deathIncrease\": 829.0, \"positiveRate\": 0.061, \"state\": \"Non Tri-State\", \"sma7d\": 42660.0}, {\"date\": \"2020-09-26T00:00:00\", \"totalTestResultsIncrease\": 889038.0, \"positiveIncrease\": 46101.0, \"death\": 150511.0, \"deathIncrease\": 859.0, \"positiveRate\": 0.052, \"state\": \"Non Tri-State\", \"sma7d\": 42943.429}, {\"date\": \"2020-09-27T00:00:00\", \"totalTestResultsIncrease\": 742653.0, \"positiveIncrease\": 33890.0, \"death\": 150806.0, \"deathIncrease\": 295.0, \"positiveRate\": 0.046, \"state\": \"Non Tri-State\", \"sma7d\": 42787.714}, {\"date\": \"2020-09-28T00:00:00\", \"totalTestResultsIncrease\": 961075.0, \"positiveIncrease\": 34571.0, \"death\": 151051.0, \"deathIncrease\": 245.0, \"positiveRate\": 0.036, \"state\": \"Non Tri-State\", \"sma7d\": 42296.429}, {\"date\": \"2020-09-29T00:00:00\", \"totalTestResultsIncrease\": 726686.0, \"positiveIncrease\": 35120.0, \"death\": 151776.0, \"deathIncrease\": 725.0, \"positiveRate\": 0.048, \"state\": \"Non Tri-State\", \"sma7d\": 40438.857}, {\"date\": \"2020-09-30T00:00:00\", \"totalTestResultsIncrease\": 654167.0, \"positiveIncrease\": 42491.0, \"death\": 152816.0, \"deathIncrease\": 1040.0, \"positiveRate\": 0.065, \"state\": \"Non Tri-State\", \"sma7d\": 41174.857}, {\"date\": \"2020-10-01T00:00:00\", \"totalTestResultsIncrease\": 776823.0, \"positiveIncrease\": 43506.0, \"death\": 153648.0, \"deathIncrease\": 832.0, \"positiveRate\": 0.056, \"state\": \"Non Tri-State\", \"sma7d\": 41376.286}, {\"date\": \"2020-10-02T00:00:00\", \"totalTestResultsIncrease\": 877303.0, \"positiveIncrease\": 46641.0, \"death\": 154470.0, \"deathIncrease\": 822.0, \"positiveRate\": 0.053, \"state\": \"Non Tri-State\", \"sma7d\": 40331.429}, {\"date\": \"2020-10-03T00:00:00\", \"totalTestResultsIncrease\": 862770.0, \"positiveIncrease\": 48694.0, \"death\": 155199.0, \"deathIncrease\": 729.0, \"positiveRate\": 0.056, \"state\": \"Non Tri-State\", \"sma7d\": 40701.857}, {\"date\": \"2020-10-04T00:00:00\", \"totalTestResultsIncrease\": 784387.0, \"positiveIncrease\": 36591.0, \"death\": 155547.0, \"deathIncrease\": 348.0, \"positiveRate\": 0.047, \"state\": \"Non Tri-State\", \"sma7d\": 41087.714}, {\"date\": \"2020-10-05T00:00:00\", \"totalTestResultsIncrease\": 784802.0, \"positiveIncrease\": 35866.0, \"death\": 155859.0, \"deathIncrease\": 312.0, \"positiveRate\": 0.046, \"state\": \"Non Tri-State\", \"sma7d\": 41272.714}, {\"date\": \"2020-10-06T00:00:00\", \"totalTestResultsIncrease\": 708718.0, \"positiveIncrease\": 36518.0, \"death\": 156471.0, \"deathIncrease\": 612.0, \"positiveRate\": 0.052, \"state\": \"Non Tri-State\", \"sma7d\": 41472.429}]}}, {\"mode\": \"vega-lite\"});\n",
       "</script>"
      ],
      "text/plain": [
       "alt.LayerChart(...)"
      ]
     },
     "execution_count": 15,
     "metadata": {},
     "output_type": "execute_result"
    }
   ],
   "source": [
    "create_plot(non_tristate, 'positiveIncrease')"
   ]
  },
  {
   "cell_type": "code",
   "execution_count": 16,
   "metadata": {
    "execution": {
     "iopub.execute_input": "2020-10-07T22:34:08.393799Z",
     "iopub.status.busy": "2020-10-07T22:34:08.393137Z",
     "iopub.status.idle": "2020-10-07T22:34:08.493541Z",
     "shell.execute_reply": "2020-10-07T22:34:08.494014Z"
    },
    "papermill": {
     "duration": 0.139931,
     "end_time": "2020-10-07T22:34:08.494176",
     "exception": false,
     "start_time": "2020-10-07T22:34:08.354245",
     "status": "completed"
    },
    "tags": []
   },
   "outputs": [
    {
     "data": {
      "text/html": [
       "\n",
       "<div id=\"altair-viz-ccf3991398504f07b2e393cefa062cd9\"></div>\n",
       "<script type=\"text/javascript\">\n",
       "  (function(spec, embedOpt){\n",
       "    let outputDiv = document.currentScript.previousElementSibling;\n",
       "    if (outputDiv.id !== \"altair-viz-ccf3991398504f07b2e393cefa062cd9\") {\n",
       "      outputDiv = document.getElementById(\"altair-viz-ccf3991398504f07b2e393cefa062cd9\");\n",
       "    }\n",
       "    const paths = {\n",
       "      \"vega\": \"https://cdn.jsdelivr.net/npm//vega@5?noext\",\n",
       "      \"vega-lib\": \"https://cdn.jsdelivr.net/npm//vega-lib?noext\",\n",
       "      \"vega-lite\": \"https://cdn.jsdelivr.net/npm//vega-lite@4.8.1?noext\",\n",
       "      \"vega-embed\": \"https://cdn.jsdelivr.net/npm//vega-embed@6?noext\",\n",
       "    };\n",
       "\n",
       "    function loadScript(lib) {\n",
       "      return new Promise(function(resolve, reject) {\n",
       "        var s = document.createElement('script');\n",
       "        s.src = paths[lib];\n",
       "        s.async = true;\n",
       "        s.onload = () => resolve(paths[lib]);\n",
       "        s.onerror = () => reject(`Error loading script: ${paths[lib]}`);\n",
       "        document.getElementsByTagName(\"head\")[0].appendChild(s);\n",
       "      });\n",
       "    }\n",
       "\n",
       "    function showError(err) {\n",
       "      outputDiv.innerHTML = `<div class=\"error\" style=\"color:red;\">${err}</div>`;\n",
       "      throw err;\n",
       "    }\n",
       "\n",
       "    function displayChart(vegaEmbed) {\n",
       "      vegaEmbed(outputDiv, spec, embedOpt)\n",
       "        .catch(err => showError(`Javascript Error: ${err.message}<br>This usually means there's a typo in your chart specification. See the javascript console for the full traceback.`));\n",
       "    }\n",
       "\n",
       "    if(typeof define === \"function\" && define.amd) {\n",
       "      requirejs.config({paths});\n",
       "      require([\"vega-embed\"], displayChart, err => showError(`Error loading script: ${err.message}`));\n",
       "    } else if (typeof vegaEmbed === \"function\") {\n",
       "      displayChart(vegaEmbed);\n",
       "    } else {\n",
       "      loadScript(\"vega\")\n",
       "        .then(() => loadScript(\"vega-lite\"))\n",
       "        .then(() => loadScript(\"vega-embed\"))\n",
       "        .catch(showError)\n",
       "        .then(() => displayChart(vegaEmbed));\n",
       "    }\n",
       "  })({\"config\": {\"view\": {\"continuousWidth\": 400, \"continuousHeight\": 300}}, \"layer\": [{\"layer\": [{\"mark\": {\"type\": \"point\", \"size\": 75}, \"encoding\": {\"tooltip\": [{\"type\": \"temporal\", \"field\": \"date\"}, {\"type\": \"quantitative\", \"field\": \"positiveRate\"}, {\"type\": \"quantitative\", \"field\": \"sma7d\"}], \"x\": {\"type\": \"temporal\", \"field\": \"date\"}, \"y\": {\"type\": \"quantitative\", \"field\": \"positiveRate\"}}, \"selection\": {\"selector016\": {\"type\": \"interval\", \"bind\": \"scales\", \"encodings\": [\"x\", \"y\"]}}}, {\"mark\": {\"type\": \"line\", \"color\": \"purple\"}, \"encoding\": {\"x\": {\"type\": \"temporal\", \"field\": \"date\"}, \"y\": {\"type\": \"quantitative\", \"field\": \"sma7d\"}}}]}, {\"mark\": {\"type\": \"rule\", \"color\": \"#aaa\"}, \"encoding\": {\"x\": {\"type\": \"temporal\", \"field\": \"date\"}}, \"transform\": [{\"filter\": {\"selection\": \"selector015\"}}]}, {\"mark\": \"circle\", \"encoding\": {\"opacity\": {\"condition\": {\"value\": 1, \"selection\": \"selector015\"}, \"value\": 0}, \"tooltip\": [{\"type\": \"temporal\", \"field\": \"date\"}, {\"type\": \"quantitative\", \"field\": \"positiveRate\"}, {\"type\": \"quantitative\", \"field\": \"sma7d\"}], \"x\": {\"type\": \"temporal\", \"field\": \"date\"}, \"y\": {\"type\": \"quantitative\", \"field\": \"positiveRate\"}}, \"selection\": {\"selector015\": {\"type\": \"single\", \"encodings\": [\"x\"], \"on\": \"mouseover\", \"nearest\": true, \"empty\": \"none\"}}}, {\"mark\": {\"type\": \"text\", \"align\": \"left\", \"dx\": 5, \"dy\": -5, \"stroke\": \"white\", \"strokeWidth\": 2}, \"encoding\": {\"text\": {\"type\": \"quantitative\", \"field\": \"positiveRate\"}, \"tooltip\": [{\"type\": \"temporal\", \"field\": \"date\"}, {\"type\": \"quantitative\", \"field\": \"positiveRate\"}, {\"type\": \"quantitative\", \"field\": \"sma7d\"}], \"x\": {\"type\": \"temporal\", \"field\": \"date\"}, \"y\": {\"type\": \"quantitative\", \"field\": \"positiveRate\"}}, \"transform\": [{\"filter\": {\"selection\": \"selector015\"}}]}, {\"mark\": {\"type\": \"text\", \"align\": \"left\", \"dx\": 5, \"dy\": -5}, \"encoding\": {\"text\": {\"type\": \"quantitative\", \"field\": \"positiveRate\"}, \"tooltip\": [{\"type\": \"temporal\", \"field\": \"date\"}, {\"type\": \"quantitative\", \"field\": \"positiveRate\"}, {\"type\": \"quantitative\", \"field\": \"sma7d\"}], \"x\": {\"type\": \"temporal\", \"field\": \"date\"}, \"y\": {\"type\": \"quantitative\", \"field\": \"positiveRate\"}}, \"transform\": [{\"filter\": {\"selection\": \"selector015\"}}]}], \"data\": {\"name\": \"data-927d72f5720489ea88e3069a89b4048c\"}, \"height\": 400, \"title\": \"Non Tri-State: positiveRate\", \"width\": 500, \"$schema\": \"https://vega.github.io/schema/vega-lite/v4.8.1.json\", \"datasets\": {\"data-927d72f5720489ea88e3069a89b4048c\": [{\"date\": \"2020-08-13T00:00:00\", \"totalTestResultsIncrease\": 805548.0, \"positiveIncrease\": 50290.0, \"death\": 113368.0, \"deathIncrease\": 1145.0, \"positiveRate\": 0.062, \"state\": \"Non Tri-State\", \"sma7d\": 0.087}, {\"date\": \"2020-08-14T00:00:00\", \"totalTestResultsIncrease\": 769522.0, \"positiveIncrease\": 54224.0, \"death\": 114567.0, \"deathIncrease\": 1199.0, \"positiveRate\": 0.07, \"state\": \"Non Tri-State\", \"sma7d\": 0.085}, {\"date\": \"2020-08-15T00:00:00\", \"totalTestResultsIncrease\": 661450.0, \"positiveIncrease\": 55137.0, \"death\": 115767.0, \"deathIncrease\": 1200.0, \"positiveRate\": 0.083, \"state\": \"Non Tri-State\", \"sma7d\": 0.085}, {\"date\": \"2020-08-16T00:00:00\", \"totalTestResultsIncrease\": 703929.0, \"positiveIncrease\": 41867.0, \"death\": 116378.0, \"deathIncrease\": 611.0, \"positiveRate\": 0.059, \"state\": \"Non Tri-State\", \"sma7d\": 0.082}, {\"date\": \"2020-08-17T00:00:00\", \"totalTestResultsIncrease\": 570518.0, \"positiveIncrease\": 36790.0, \"death\": 116772.0, \"deathIncrease\": 394.0, \"positiveRate\": 0.064, \"state\": \"Non Tri-State\", \"sma7d\": 0.082}, {\"date\": \"2020-08-18T00:00:00\", \"totalTestResultsIncrease\": 577291.0, \"positiveIncrease\": 39821.0, \"death\": 117950.0, \"deathIncrease\": 1178.0, \"positiveRate\": 0.069, \"state\": \"Non Tri-State\", \"sma7d\": 0.08}, {\"date\": \"2020-08-19T00:00:00\", \"totalTestResultsIncrease\": 589329.0, \"positiveIncrease\": 43936.0, \"death\": 119352.0, \"deathIncrease\": 1402.0, \"positiveRate\": 0.075, \"state\": \"Non Tri-State\", \"sma7d\": 0.069}, {\"date\": \"2020-08-20T00:00:00\", \"totalTestResultsIncrease\": 608527.0, \"positiveIncrease\": 42939.0, \"death\": 120474.0, \"deathIncrease\": 1122.0, \"positiveRate\": 0.071, \"state\": \"Non Tri-State\", \"sma7d\": 0.07}, {\"date\": \"2020-08-21T00:00:00\", \"totalTestResultsIncrease\": 650798.0, \"positiveIncrease\": 45475.0, \"death\": 121583.0, \"deathIncrease\": 1109.0, \"positiveRate\": 0.07, \"state\": \"Non Tri-State\", \"sma7d\": 0.07}, {\"date\": \"2020-08-22T00:00:00\", \"totalTestResultsIncrease\": 668776.0, \"positiveIncrease\": 45164.0, \"death\": 122606.0, \"deathIncrease\": 1023.0, \"positiveRate\": 0.068, \"state\": \"Non Tri-State\", \"sma7d\": 0.068}, {\"date\": \"2020-08-23T00:00:00\", \"totalTestResultsIncrease\": 582439.0, \"positiveIncrease\": 36736.0, \"death\": 123169.0, \"deathIncrease\": 563.0, \"positiveRate\": 0.063, \"state\": \"Non Tri-State\", \"sma7d\": 0.069}, {\"date\": \"2020-08-24T00:00:00\", \"totalTestResultsIncrease\": 559760.0, \"positiveIncrease\": 33518.0, \"death\": 123502.0, \"deathIncrease\": 333.0, \"positiveRate\": 0.06, \"state\": \"Non Tri-State\", \"sma7d\": 0.068}, {\"date\": \"2020-08-25T00:00:00\", \"totalTestResultsIncrease\": 575325.0, \"positiveIncrease\": 35419.0, \"death\": 124640.0, \"deathIncrease\": 1138.0, \"positiveRate\": 0.062, \"state\": \"Non Tri-State\", \"sma7d\": 0.067}, {\"date\": \"2020-08-26T00:00:00\", \"totalTestResultsIncrease\": 568880.0, \"positiveIncrease\": 43022.0, \"death\": 125920.0, \"deathIncrease\": 1280.0, \"positiveRate\": 0.076, \"state\": \"Non Tri-State\", \"sma7d\": 0.067}, {\"date\": \"2020-08-27T00:00:00\", \"totalTestResultsIncrease\": 667599.0, \"positiveIncrease\": 42756.0, \"death\": 127036.0, \"deathIncrease\": 1116.0, \"positiveRate\": 0.064, \"state\": \"Non Tri-State\", \"sma7d\": 0.066}, {\"date\": \"2020-08-28T00:00:00\", \"totalTestResultsIncrease\": 710430.0, \"positiveIncrease\": 45409.0, \"death\": 128047.0, \"deathIncrease\": 1011.0, \"positiveRate\": 0.064, \"state\": \"Non Tri-State\", \"sma7d\": 0.065}, {\"date\": \"2020-08-29T00:00:00\", \"totalTestResultsIncrease\": 665577.0, \"positiveIncrease\": 43517.0, \"death\": 129052.0, \"deathIncrease\": 1005.0, \"positiveRate\": 0.065, \"state\": \"Non Tri-State\", \"sma7d\": 0.065}, {\"date\": \"2020-08-30T00:00:00\", \"totalTestResultsIncrease\": 648012.0, \"positiveIncrease\": 38512.0, \"death\": 129515.0, \"deathIncrease\": 463.0, \"positiveRate\": 0.059, \"state\": \"Non Tri-State\", \"sma7d\": 0.064}, {\"date\": \"2020-08-31T00:00:00\", \"totalTestResultsIncrease\": 574068.0, \"positiveIncrease\": 30017.0, \"death\": 129872.0, \"deathIncrease\": 357.0, \"positiveRate\": 0.052, \"state\": \"Non Tri-State\", \"sma7d\": 0.063}, {\"date\": \"2020-09-01T00:00:00\", \"totalTestResultsIncrease\": 637659.0, \"positiveIncrease\": 41222.0, \"death\": 130890.0, \"deathIncrease\": 1018.0, \"positiveRate\": 0.065, \"state\": \"Non Tri-State\", \"sma7d\": 0.064}, {\"date\": \"2020-09-02T00:00:00\", \"totalTestResultsIncrease\": 539736.0, \"positiveIncrease\": 29488.0, \"death\": 131905.0, \"deathIncrease\": 1015.0, \"positiveRate\": 0.055, \"state\": \"Non Tri-State\", \"sma7d\": 0.061}, {\"date\": \"2020-09-03T00:00:00\", \"totalTestResultsIncrease\": 669468.0, \"positiveIncrease\": 43346.0, \"death\": 132960.0, \"deathIncrease\": 1055.0, \"positiveRate\": 0.065, \"state\": \"Non Tri-State\", \"sma7d\": 0.061}, {\"date\": \"2020-09-04T00:00:00\", \"totalTestResultsIncrease\": 804931.0, \"positiveIncrease\": 50122.0, \"death\": 133946.0, \"deathIncrease\": 986.0, \"positiveRate\": 0.062, \"state\": \"Non Tri-State\", \"sma7d\": 0.06}, {\"date\": \"2020-09-05T00:00:00\", \"totalTestResultsIncrease\": 780694.0, \"positiveIncrease\": 43779.0, \"death\": 134855.0, \"deathIncrease\": 909.0, \"positiveRate\": 0.056, \"state\": \"Non Tri-State\", \"sma7d\": 0.059}, {\"date\": \"2020-09-06T00:00:00\", \"totalTestResultsIncrease\": 660044.0, \"positiveIncrease\": 32077.0, \"death\": 135291.0, \"deathIncrease\": 436.0, \"positiveRate\": 0.049, \"state\": \"Non Tri-State\", \"sma7d\": 0.058}, {\"date\": \"2020-09-07T00:00:00\", \"totalTestResultsIncrease\": 505701.0, \"positiveIncrease\": 27830.0, \"death\": 135512.0, \"deathIncrease\": 221.0, \"positiveRate\": 0.055, \"state\": \"Non Tri-State\", \"sma7d\": 0.058}, {\"date\": \"2020-09-08T00:00:00\", \"totalTestResultsIncrease\": 418562.0, \"positiveIncrease\": 20972.0, \"death\": 135853.0, \"deathIncrease\": 341.0, \"positiveRate\": 0.05, \"state\": \"Non Tri-State\", \"sma7d\": 0.056}, {\"date\": \"2020-09-09T00:00:00\", \"totalTestResultsIncrease\": 539717.0, \"positiveIncrease\": 30126.0, \"death\": 136926.0, \"deathIncrease\": 1073.0, \"positiveRate\": 0.056, \"state\": \"Non Tri-State\", \"sma7d\": 0.056}, {\"date\": \"2020-09-10T00:00:00\", \"totalTestResultsIncrease\": 580853.0, \"positiveIncrease\": 36178.0, \"death\": 138080.0, \"deathIncrease\": 1154.0, \"positiveRate\": 0.062, \"state\": \"Non Tri-State\", \"sma7d\": 0.056}, {\"date\": \"2020-09-11T00:00:00\", \"totalTestResultsIncrease\": 693607.0, \"positiveIncrease\": 43340.0, \"death\": 139082.0, \"deathIncrease\": 1002.0, \"positiveRate\": 0.062, \"state\": \"Non Tri-State\", \"sma7d\": 0.056}, {\"date\": \"2020-09-12T00:00:00\", \"totalTestResultsIncrease\": 802307.0, \"positiveIncrease\": 40792.0, \"death\": 139886.0, \"deathIncrease\": 804.0, \"positiveRate\": 0.051, \"state\": \"Non Tri-State\", \"sma7d\": 0.055}, {\"date\": \"2020-09-13T00:00:00\", \"totalTestResultsIncrease\": 631669.0, \"positiveIncrease\": 33431.0, \"death\": 140265.0, \"deathIncrease\": 379.0, \"positiveRate\": 0.053, \"state\": \"Non Tri-State\", \"sma7d\": 0.056}, {\"date\": \"2020-09-14T00:00:00\", \"totalTestResultsIncrease\": 315257.0, \"positiveIncrease\": 32378.0, \"death\": 140656.0, \"deathIncrease\": 391.0, \"positiveRate\": 0.103, \"state\": \"Non Tri-State\", \"sma7d\": 0.062}, {\"date\": \"2020-09-15T00:00:00\", \"totalTestResultsIncrease\": 622438.0, \"positiveIncrease\": 34107.0, \"death\": 141667.0, \"deathIncrease\": 1011.0, \"positiveRate\": 0.055, \"state\": \"Non Tri-State\", \"sma7d\": 0.063}, {\"date\": \"2020-09-16T00:00:00\", \"totalTestResultsIncrease\": 628716.0, \"positiveIncrease\": 38846.0, \"death\": 142851.0, \"deathIncrease\": 1184.0, \"positiveRate\": 0.062, \"state\": \"Non Tri-State\", \"sma7d\": 0.064}, {\"date\": \"2020-09-17T00:00:00\", \"totalTestResultsIncrease\": 710323.0, \"positiveIncrease\": 41873.0, \"death\": 143707.0, \"deathIncrease\": 856.0, \"positiveRate\": 0.059, \"state\": \"Non Tri-State\", \"sma7d\": 0.064}, {\"date\": \"2020-09-18T00:00:00\", \"totalTestResultsIncrease\": 859898.0, \"positiveIncrease\": 46068.0, \"death\": 144590.0, \"deathIncrease\": 883.0, \"positiveRate\": 0.054, \"state\": \"Non Tri-State\", \"sma7d\": 0.062}, {\"date\": \"2020-09-19T00:00:00\", \"totalTestResultsIncrease\": 959322.0, \"positiveIncrease\": 44117.0, \"death\": 145325.0, \"deathIncrease\": 735.0, \"positiveRate\": 0.046, \"state\": \"Non Tri-State\", \"sma7d\": 0.062}, {\"date\": \"2020-09-20T00:00:00\", \"totalTestResultsIncrease\": 747652.0, \"positiveIncrease\": 34980.0, \"death\": 145647.0, \"deathIncrease\": 322.0, \"positiveRate\": 0.047, \"state\": \"Non Tri-State\", \"sma7d\": 0.061}, {\"date\": \"2020-09-21T00:00:00\", \"totalTestResultsIncrease\": 622922.0, \"positiveIncrease\": 38010.0, \"death\": 145928.0, \"deathIncrease\": 281.0, \"positiveRate\": 0.061, \"state\": \"Non Tri-State\", \"sma7d\": 0.055}, {\"date\": \"2020-09-22T00:00:00\", \"totalTestResultsIncrease\": 642590.0, \"positiveIncrease\": 48123.0, \"death\": 146770.0, \"deathIncrease\": 842.0, \"positiveRate\": 0.075, \"state\": \"Non Tri-State\", \"sma7d\": 0.058}, {\"date\": \"2020-09-23T00:00:00\", \"totalTestResultsIncrease\": 820328.0, \"positiveIncrease\": 37339.0, \"death\": 147915.0, \"deathIncrease\": 1145.0, \"positiveRate\": 0.046, \"state\": \"Non Tri-State\", \"sma7d\": 0.055}, {\"date\": \"2020-09-24T00:00:00\", \"totalTestResultsIncrease\": 803289.0, \"positiveIncrease\": 42096.0, \"death\": 148823.0, \"deathIncrease\": 908.0, \"positiveRate\": 0.052, \"state\": \"Non Tri-State\", \"sma7d\": 0.054}, {\"date\": \"2020-09-25T00:00:00\", \"totalTestResultsIncrease\": 880718.0, \"positiveIncrease\": 53955.0, \"death\": 149652.0, \"deathIncrease\": 829.0, \"positiveRate\": 0.061, \"state\": \"Non Tri-State\", \"sma7d\": 0.055}, {\"date\": \"2020-09-26T00:00:00\", \"totalTestResultsIncrease\": 889038.0, \"positiveIncrease\": 46101.0, \"death\": 150511.0, \"deathIncrease\": 859.0, \"positiveRate\": 0.052, \"state\": \"Non Tri-State\", \"sma7d\": 0.056}, {\"date\": \"2020-09-27T00:00:00\", \"totalTestResultsIncrease\": 742653.0, \"positiveIncrease\": 33890.0, \"death\": 150806.0, \"deathIncrease\": 295.0, \"positiveRate\": 0.046, \"state\": \"Non Tri-State\", \"sma7d\": 0.056}, {\"date\": \"2020-09-28T00:00:00\", \"totalTestResultsIncrease\": 961075.0, \"positiveIncrease\": 34571.0, \"death\": 151051.0, \"deathIncrease\": 245.0, \"positiveRate\": 0.036, \"state\": \"Non Tri-State\", \"sma7d\": 0.053}, {\"date\": \"2020-09-29T00:00:00\", \"totalTestResultsIncrease\": 726686.0, \"positiveIncrease\": 35120.0, \"death\": 151776.0, \"deathIncrease\": 725.0, \"positiveRate\": 0.048, \"state\": \"Non Tri-State\", \"sma7d\": 0.049}, {\"date\": \"2020-09-30T00:00:00\", \"totalTestResultsIncrease\": 654167.0, \"positiveIncrease\": 42491.0, \"death\": 152816.0, \"deathIncrease\": 1040.0, \"positiveRate\": 0.065, \"state\": \"Non Tri-State\", \"sma7d\": 0.051}, {\"date\": \"2020-10-01T00:00:00\", \"totalTestResultsIncrease\": 776823.0, \"positiveIncrease\": 43506.0, \"death\": 153648.0, \"deathIncrease\": 832.0, \"positiveRate\": 0.056, \"state\": \"Non Tri-State\", \"sma7d\": 0.052}, {\"date\": \"2020-10-02T00:00:00\", \"totalTestResultsIncrease\": 877303.0, \"positiveIncrease\": 46641.0, \"death\": 154470.0, \"deathIncrease\": 822.0, \"positiveRate\": 0.053, \"state\": \"Non Tri-State\", \"sma7d\": 0.051}, {\"date\": \"2020-10-03T00:00:00\", \"totalTestResultsIncrease\": 862770.0, \"positiveIncrease\": 48694.0, \"death\": 155199.0, \"deathIncrease\": 729.0, \"positiveRate\": 0.056, \"state\": \"Non Tri-State\", \"sma7d\": 0.051}, {\"date\": \"2020-10-04T00:00:00\", \"totalTestResultsIncrease\": 784387.0, \"positiveIncrease\": 36591.0, \"death\": 155547.0, \"deathIncrease\": 348.0, \"positiveRate\": 0.047, \"state\": \"Non Tri-State\", \"sma7d\": 0.052}, {\"date\": \"2020-10-05T00:00:00\", \"totalTestResultsIncrease\": 784802.0, \"positiveIncrease\": 35866.0, \"death\": 155859.0, \"deathIncrease\": 312.0, \"positiveRate\": 0.046, \"state\": \"Non Tri-State\", \"sma7d\": 0.053}, {\"date\": \"2020-10-06T00:00:00\", \"totalTestResultsIncrease\": 708718.0, \"positiveIncrease\": 36518.0, \"death\": 156471.0, \"deathIncrease\": 612.0, \"positiveRate\": 0.052, \"state\": \"Non Tri-State\", \"sma7d\": 0.054}]}}, {\"mode\": \"vega-lite\"});\n",
       "</script>"
      ],
      "text/plain": [
       "alt.LayerChart(...)"
      ]
     },
     "execution_count": 16,
     "metadata": {},
     "output_type": "execute_result"
    }
   ],
   "source": [
    "create_plot(non_tristate, 'positiveRate')"
   ]
  },
  {
   "cell_type": "code",
   "execution_count": 17,
   "metadata": {
    "execution": {
     "iopub.execute_input": "2020-10-07T22:34:08.554327Z",
     "iopub.status.busy": "2020-10-07T22:34:08.553388Z",
     "iopub.status.idle": "2020-10-07T22:34:08.636144Z",
     "shell.execute_reply": "2020-10-07T22:34:08.636796Z"
    },
    "papermill": {
     "duration": 0.122655,
     "end_time": "2020-10-07T22:34:08.636967",
     "exception": false,
     "start_time": "2020-10-07T22:34:08.514312",
     "status": "completed"
    },
    "tags": []
   },
   "outputs": [
    {
     "data": {
      "text/html": [
       "\n",
       "<div id=\"altair-viz-19830556e9e74e6294efd9f9b95f4981\"></div>\n",
       "<script type=\"text/javascript\">\n",
       "  (function(spec, embedOpt){\n",
       "    let outputDiv = document.currentScript.previousElementSibling;\n",
       "    if (outputDiv.id !== \"altair-viz-19830556e9e74e6294efd9f9b95f4981\") {\n",
       "      outputDiv = document.getElementById(\"altair-viz-19830556e9e74e6294efd9f9b95f4981\");\n",
       "    }\n",
       "    const paths = {\n",
       "      \"vega\": \"https://cdn.jsdelivr.net/npm//vega@5?noext\",\n",
       "      \"vega-lib\": \"https://cdn.jsdelivr.net/npm//vega-lib?noext\",\n",
       "      \"vega-lite\": \"https://cdn.jsdelivr.net/npm//vega-lite@4.8.1?noext\",\n",
       "      \"vega-embed\": \"https://cdn.jsdelivr.net/npm//vega-embed@6?noext\",\n",
       "    };\n",
       "\n",
       "    function loadScript(lib) {\n",
       "      return new Promise(function(resolve, reject) {\n",
       "        var s = document.createElement('script');\n",
       "        s.src = paths[lib];\n",
       "        s.async = true;\n",
       "        s.onload = () => resolve(paths[lib]);\n",
       "        s.onerror = () => reject(`Error loading script: ${paths[lib]}`);\n",
       "        document.getElementsByTagName(\"head\")[0].appendChild(s);\n",
       "      });\n",
       "    }\n",
       "\n",
       "    function showError(err) {\n",
       "      outputDiv.innerHTML = `<div class=\"error\" style=\"color:red;\">${err}</div>`;\n",
       "      throw err;\n",
       "    }\n",
       "\n",
       "    function displayChart(vegaEmbed) {\n",
       "      vegaEmbed(outputDiv, spec, embedOpt)\n",
       "        .catch(err => showError(`Javascript Error: ${err.message}<br>This usually means there's a typo in your chart specification. See the javascript console for the full traceback.`));\n",
       "    }\n",
       "\n",
       "    if(typeof define === \"function\" && define.amd) {\n",
       "      requirejs.config({paths});\n",
       "      require([\"vega-embed\"], displayChart, err => showError(`Error loading script: ${err.message}`));\n",
       "    } else if (typeof vegaEmbed === \"function\") {\n",
       "      displayChart(vegaEmbed);\n",
       "    } else {\n",
       "      loadScript(\"vega\")\n",
       "        .then(() => loadScript(\"vega-lite\"))\n",
       "        .then(() => loadScript(\"vega-embed\"))\n",
       "        .catch(showError)\n",
       "        .then(() => displayChart(vegaEmbed));\n",
       "    }\n",
       "  })({\"config\": {\"view\": {\"continuousWidth\": 400, \"continuousHeight\": 300}}, \"layer\": [{\"layer\": [{\"mark\": {\"type\": \"point\", \"size\": 75}, \"encoding\": {\"tooltip\": [{\"type\": \"temporal\", \"field\": \"date\"}, {\"type\": \"quantitative\", \"field\": \"deathIncrease\"}, {\"type\": \"quantitative\", \"field\": \"sma7d\"}], \"x\": {\"type\": \"temporal\", \"field\": \"date\"}, \"y\": {\"type\": \"quantitative\", \"field\": \"deathIncrease\"}}, \"selection\": {\"selector018\": {\"type\": \"interval\", \"bind\": \"scales\", \"encodings\": [\"x\", \"y\"]}}}, {\"mark\": {\"type\": \"line\", \"color\": \"purple\"}, \"encoding\": {\"x\": {\"type\": \"temporal\", \"field\": \"date\"}, \"y\": {\"type\": \"quantitative\", \"field\": \"sma7d\"}}}]}, {\"mark\": {\"type\": \"rule\", \"color\": \"#aaa\"}, \"encoding\": {\"x\": {\"type\": \"temporal\", \"field\": \"date\"}}, \"transform\": [{\"filter\": {\"selection\": \"selector017\"}}]}, {\"mark\": \"circle\", \"encoding\": {\"opacity\": {\"condition\": {\"value\": 1, \"selection\": \"selector017\"}, \"value\": 0}, \"tooltip\": [{\"type\": \"temporal\", \"field\": \"date\"}, {\"type\": \"quantitative\", \"field\": \"deathIncrease\"}, {\"type\": \"quantitative\", \"field\": \"sma7d\"}], \"x\": {\"type\": \"temporal\", \"field\": \"date\"}, \"y\": {\"type\": \"quantitative\", \"field\": \"deathIncrease\"}}, \"selection\": {\"selector017\": {\"type\": \"single\", \"encodings\": [\"x\"], \"on\": \"mouseover\", \"nearest\": true, \"empty\": \"none\"}}}, {\"mark\": {\"type\": \"text\", \"align\": \"left\", \"dx\": 5, \"dy\": -5, \"stroke\": \"white\", \"strokeWidth\": 2}, \"encoding\": {\"text\": {\"type\": \"quantitative\", \"field\": \"deathIncrease\"}, \"tooltip\": [{\"type\": \"temporal\", \"field\": \"date\"}, {\"type\": \"quantitative\", \"field\": \"deathIncrease\"}, {\"type\": \"quantitative\", \"field\": \"sma7d\"}], \"x\": {\"type\": \"temporal\", \"field\": \"date\"}, \"y\": {\"type\": \"quantitative\", \"field\": \"deathIncrease\"}}, \"transform\": [{\"filter\": {\"selection\": \"selector017\"}}]}, {\"mark\": {\"type\": \"text\", \"align\": \"left\", \"dx\": 5, \"dy\": -5}, \"encoding\": {\"text\": {\"type\": \"quantitative\", \"field\": \"deathIncrease\"}, \"tooltip\": [{\"type\": \"temporal\", \"field\": \"date\"}, {\"type\": \"quantitative\", \"field\": \"deathIncrease\"}, {\"type\": \"quantitative\", \"field\": \"sma7d\"}], \"x\": {\"type\": \"temporal\", \"field\": \"date\"}, \"y\": {\"type\": \"quantitative\", \"field\": \"deathIncrease\"}}, \"transform\": [{\"filter\": {\"selection\": \"selector017\"}}]}], \"data\": {\"name\": \"data-e53096c6403cc8ea37050137ec4d95c6\"}, \"height\": 400, \"title\": \"Non Tri-State: deathIncrease\", \"width\": 500, \"$schema\": \"https://vega.github.io/schema/vega-lite/v4.8.1.json\", \"datasets\": {\"data-e53096c6403cc8ea37050137ec4d95c6\": [{\"date\": \"2020-08-13T00:00:00\", \"totalTestResultsIncrease\": 805548.0, \"positiveIncrease\": 50290.0, \"death\": 113368.0, \"deathIncrease\": 1145.0, \"positiveRate\": 0.062, \"state\": \"Non Tri-State\", \"sma7d\": 1050.857}, {\"date\": \"2020-08-14T00:00:00\", \"totalTestResultsIncrease\": 769522.0, \"positiveIncrease\": 54224.0, \"death\": 114567.0, \"deathIncrease\": 1199.0, \"positiveRate\": 0.07, \"state\": \"Non Tri-State\", \"sma7d\": 1034.571}, {\"date\": \"2020-08-15T00:00:00\", \"totalTestResultsIncrease\": 661450.0, \"positiveIncrease\": 55137.0, \"death\": 115767.0, \"deathIncrease\": 1200.0, \"positiveRate\": 0.083, \"state\": \"Non Tri-State\", \"sma7d\": 1052.429}, {\"date\": \"2020-08-16T00:00:00\", \"totalTestResultsIncrease\": 703929.0, \"positiveIncrease\": 41867.0, \"death\": 116378.0, \"deathIncrease\": 611.0, \"positiveRate\": 0.059, \"state\": \"Non Tri-State\", \"sma7d\": 1053.429}, {\"date\": \"2020-08-17T00:00:00\", \"totalTestResultsIncrease\": 570518.0, \"positiveIncrease\": 36790.0, \"death\": 116772.0, \"deathIncrease\": 394.0, \"positiveRate\": 0.064, \"state\": \"Non Tri-State\", \"sma7d\": 1050.143}, {\"date\": \"2020-08-18T00:00:00\", \"totalTestResultsIncrease\": 577291.0, \"positiveIncrease\": 39821.0, \"death\": 117950.0, \"deathIncrease\": 1178.0, \"positiveRate\": 0.069, \"state\": \"Non Tri-State\", \"sma7d\": 1031.714}, {\"date\": \"2020-08-19T00:00:00\", \"totalTestResultsIncrease\": 589329.0, \"positiveIncrease\": 43936.0, \"death\": 119352.0, \"deathIncrease\": 1402.0, \"positiveRate\": 0.075, \"state\": \"Non Tri-State\", \"sma7d\": 1018.429}, {\"date\": \"2020-08-20T00:00:00\", \"totalTestResultsIncrease\": 608527.0, \"positiveIncrease\": 42939.0, \"death\": 120474.0, \"deathIncrease\": 1122.0, \"positiveRate\": 0.071, \"state\": \"Non Tri-State\", \"sma7d\": 1015.143}, {\"date\": \"2020-08-21T00:00:00\", \"totalTestResultsIncrease\": 650798.0, \"positiveIncrease\": 45475.0, \"death\": 121583.0, \"deathIncrease\": 1109.0, \"positiveRate\": 0.07, \"state\": \"Non Tri-State\", \"sma7d\": 1002.286}, {\"date\": \"2020-08-22T00:00:00\", \"totalTestResultsIncrease\": 668776.0, \"positiveIncrease\": 45164.0, \"death\": 122606.0, \"deathIncrease\": 1023.0, \"positiveRate\": 0.068, \"state\": \"Non Tri-State\", \"sma7d\": 977.0}, {\"date\": \"2020-08-23T00:00:00\", \"totalTestResultsIncrease\": 582439.0, \"positiveIncrease\": 36736.0, \"death\": 123169.0, \"deathIncrease\": 563.0, \"positiveRate\": 0.063, \"state\": \"Non Tri-State\", \"sma7d\": 970.143}, {\"date\": \"2020-08-24T00:00:00\", \"totalTestResultsIncrease\": 559760.0, \"positiveIncrease\": 33518.0, \"death\": 123502.0, \"deathIncrease\": 333.0, \"positiveRate\": 0.06, \"state\": \"Non Tri-State\", \"sma7d\": 961.429}, {\"date\": \"2020-08-25T00:00:00\", \"totalTestResultsIncrease\": 575325.0, \"positiveIncrease\": 35419.0, \"death\": 124640.0, \"deathIncrease\": 1138.0, \"positiveRate\": 0.062, \"state\": \"Non Tri-State\", \"sma7d\": 955.714}, {\"date\": \"2020-08-26T00:00:00\", \"totalTestResultsIncrease\": 568880.0, \"positiveIncrease\": 43022.0, \"death\": 125920.0, \"deathIncrease\": 1280.0, \"positiveRate\": 0.076, \"state\": \"Non Tri-State\", \"sma7d\": 938.286}, {\"date\": \"2020-08-27T00:00:00\", \"totalTestResultsIncrease\": 667599.0, \"positiveIncrease\": 42756.0, \"death\": 127036.0, \"deathIncrease\": 1116.0, \"positiveRate\": 0.064, \"state\": \"Non Tri-State\", \"sma7d\": 937.429}, {\"date\": \"2020-08-28T00:00:00\", \"totalTestResultsIncrease\": 710430.0, \"positiveIncrease\": 45409.0, \"death\": 128047.0, \"deathIncrease\": 1011.0, \"positiveRate\": 0.064, \"state\": \"Non Tri-State\", \"sma7d\": 923.429}, {\"date\": \"2020-08-29T00:00:00\", \"totalTestResultsIncrease\": 665577.0, \"positiveIncrease\": 43517.0, \"death\": 129052.0, \"deathIncrease\": 1005.0, \"positiveRate\": 0.065, \"state\": \"Non Tri-State\", \"sma7d\": 920.857}, {\"date\": \"2020-08-30T00:00:00\", \"totalTestResultsIncrease\": 648012.0, \"positiveIncrease\": 38512.0, \"death\": 129515.0, \"deathIncrease\": 463.0, \"positiveRate\": 0.059, \"state\": \"Non Tri-State\", \"sma7d\": 906.571}, {\"date\": \"2020-08-31T00:00:00\", \"totalTestResultsIncrease\": 574068.0, \"positiveIncrease\": 30017.0, \"death\": 129872.0, \"deathIncrease\": 357.0, \"positiveRate\": 0.052, \"state\": \"Non Tri-State\", \"sma7d\": 910.0}, {\"date\": \"2020-09-01T00:00:00\", \"totalTestResultsIncrease\": 637659.0, \"positiveIncrease\": 41222.0, \"death\": 130890.0, \"deathIncrease\": 1018.0, \"positiveRate\": 0.065, \"state\": \"Non Tri-State\", \"sma7d\": 892.857}, {\"date\": \"2020-09-02T00:00:00\", \"totalTestResultsIncrease\": 539736.0, \"positiveIncrease\": 29488.0, \"death\": 131905.0, \"deathIncrease\": 1015.0, \"positiveRate\": 0.055, \"state\": \"Non Tri-State\", \"sma7d\": 855.0}, {\"date\": \"2020-09-03T00:00:00\", \"totalTestResultsIncrease\": 669468.0, \"positiveIncrease\": 43346.0, \"death\": 132960.0, \"deathIncrease\": 1055.0, \"positiveRate\": 0.065, \"state\": \"Non Tri-State\", \"sma7d\": 846.286}, {\"date\": \"2020-09-04T00:00:00\", \"totalTestResultsIncrease\": 804931.0, \"positiveIncrease\": 50122.0, \"death\": 133946.0, \"deathIncrease\": 986.0, \"positiveRate\": 0.062, \"state\": \"Non Tri-State\", \"sma7d\": 842.714}, {\"date\": \"2020-09-05T00:00:00\", \"totalTestResultsIncrease\": 780694.0, \"positiveIncrease\": 43779.0, \"death\": 134855.0, \"deathIncrease\": 909.0, \"positiveRate\": 0.056, \"state\": \"Non Tri-State\", \"sma7d\": 829.0}, {\"date\": \"2020-09-06T00:00:00\", \"totalTestResultsIncrease\": 660044.0, \"positiveIncrease\": 32077.0, \"death\": 135291.0, \"deathIncrease\": 436.0, \"positiveRate\": 0.049, \"state\": \"Non Tri-State\", \"sma7d\": 825.143}, {\"date\": \"2020-09-07T00:00:00\", \"totalTestResultsIncrease\": 505701.0, \"positiveIncrease\": 27830.0, \"death\": 135512.0, \"deathIncrease\": 221.0, \"positiveRate\": 0.055, \"state\": \"Non Tri-State\", \"sma7d\": 805.714}, {\"date\": \"2020-09-08T00:00:00\", \"totalTestResultsIncrease\": 418562.0, \"positiveIncrease\": 20972.0, \"death\": 135853.0, \"deathIncrease\": 341.0, \"positiveRate\": 0.05, \"state\": \"Non Tri-State\", \"sma7d\": 709.0}, {\"date\": \"2020-09-09T00:00:00\", \"totalTestResultsIncrease\": 539717.0, \"positiveIncrease\": 30126.0, \"death\": 136926.0, \"deathIncrease\": 1073.0, \"positiveRate\": 0.056, \"state\": \"Non Tri-State\", \"sma7d\": 717.286}, {\"date\": \"2020-09-10T00:00:00\", \"totalTestResultsIncrease\": 580853.0, \"positiveIncrease\": 36178.0, \"death\": 138080.0, \"deathIncrease\": 1154.0, \"positiveRate\": 0.062, \"state\": \"Non Tri-State\", \"sma7d\": 731.429}, {\"date\": \"2020-09-11T00:00:00\", \"totalTestResultsIncrease\": 693607.0, \"positiveIncrease\": 43340.0, \"death\": 139082.0, \"deathIncrease\": 1002.0, \"positiveRate\": 0.062, \"state\": \"Non Tri-State\", \"sma7d\": 733.714}, {\"date\": \"2020-09-12T00:00:00\", \"totalTestResultsIncrease\": 802307.0, \"positiveIncrease\": 40792.0, \"death\": 139886.0, \"deathIncrease\": 804.0, \"positiveRate\": 0.051, \"state\": \"Non Tri-State\", \"sma7d\": 718.714}, {\"date\": \"2020-09-13T00:00:00\", \"totalTestResultsIncrease\": 631669.0, \"positiveIncrease\": 33431.0, \"death\": 140265.0, \"deathIncrease\": 379.0, \"positiveRate\": 0.053, \"state\": \"Non Tri-State\", \"sma7d\": 710.571}, {\"date\": \"2020-09-14T00:00:00\", \"totalTestResultsIncrease\": 315257.0, \"positiveIncrease\": 32378.0, \"death\": 140656.0, \"deathIncrease\": 391.0, \"positiveRate\": 0.103, \"state\": \"Non Tri-State\", \"sma7d\": 734.857}, {\"date\": \"2020-09-15T00:00:00\", \"totalTestResultsIncrease\": 622438.0, \"positiveIncrease\": 34107.0, \"death\": 141667.0, \"deathIncrease\": 1011.0, \"positiveRate\": 0.055, \"state\": \"Non Tri-State\", \"sma7d\": 830.571}, {\"date\": \"2020-09-16T00:00:00\", \"totalTestResultsIncrease\": 628716.0, \"positiveIncrease\": 38846.0, \"death\": 142851.0, \"deathIncrease\": 1184.0, \"positiveRate\": 0.062, \"state\": \"Non Tri-State\", \"sma7d\": 846.429}, {\"date\": \"2020-09-17T00:00:00\", \"totalTestResultsIncrease\": 710323.0, \"positiveIncrease\": 41873.0, \"death\": 143707.0, \"deathIncrease\": 856.0, \"positiveRate\": 0.059, \"state\": \"Non Tri-State\", \"sma7d\": 803.857}, {\"date\": \"2020-09-18T00:00:00\", \"totalTestResultsIncrease\": 859898.0, \"positiveIncrease\": 46068.0, \"death\": 144590.0, \"deathIncrease\": 883.0, \"positiveRate\": 0.054, \"state\": \"Non Tri-State\", \"sma7d\": 786.857}, {\"date\": \"2020-09-19T00:00:00\", \"totalTestResultsIncrease\": 959322.0, \"positiveIncrease\": 44117.0, \"death\": 145325.0, \"deathIncrease\": 735.0, \"positiveRate\": 0.046, \"state\": \"Non Tri-State\", \"sma7d\": 777.0}, {\"date\": \"2020-09-20T00:00:00\", \"totalTestResultsIncrease\": 747652.0, \"positiveIncrease\": 34980.0, \"death\": 145647.0, \"deathIncrease\": 322.0, \"positiveRate\": 0.047, \"state\": \"Non Tri-State\", \"sma7d\": 768.857}, {\"date\": \"2020-09-21T00:00:00\", \"totalTestResultsIncrease\": 622922.0, \"positiveIncrease\": 38010.0, \"death\": 145928.0, \"deathIncrease\": 281.0, \"positiveRate\": 0.061, \"state\": \"Non Tri-State\", \"sma7d\": 753.143}, {\"date\": \"2020-09-22T00:00:00\", \"totalTestResultsIncrease\": 642590.0, \"positiveIncrease\": 48123.0, \"death\": 146770.0, \"deathIncrease\": 842.0, \"positiveRate\": 0.075, \"state\": \"Non Tri-State\", \"sma7d\": 729.0}, {\"date\": \"2020-09-23T00:00:00\", \"totalTestResultsIncrease\": 820328.0, \"positiveIncrease\": 37339.0, \"death\": 147915.0, \"deathIncrease\": 1145.0, \"positiveRate\": 0.046, \"state\": \"Non Tri-State\", \"sma7d\": 723.429}, {\"date\": \"2020-09-24T00:00:00\", \"totalTestResultsIncrease\": 803289.0, \"positiveIncrease\": 42096.0, \"death\": 148823.0, \"deathIncrease\": 908.0, \"positiveRate\": 0.052, \"state\": \"Non Tri-State\", \"sma7d\": 730.857}, {\"date\": \"2020-09-25T00:00:00\", \"totalTestResultsIncrease\": 880718.0, \"positiveIncrease\": 53955.0, \"death\": 149652.0, \"deathIncrease\": 829.0, \"positiveRate\": 0.061, \"state\": \"Non Tri-State\", \"sma7d\": 723.143}, {\"date\": \"2020-09-26T00:00:00\", \"totalTestResultsIncrease\": 889038.0, \"positiveIncrease\": 46101.0, \"death\": 150511.0, \"deathIncrease\": 859.0, \"positiveRate\": 0.052, \"state\": \"Non Tri-State\", \"sma7d\": 740.857}, {\"date\": \"2020-09-27T00:00:00\", \"totalTestResultsIncrease\": 742653.0, \"positiveIncrease\": 33890.0, \"death\": 150806.0, \"deathIncrease\": 295.0, \"positiveRate\": 0.046, \"state\": \"Non Tri-State\", \"sma7d\": 737.0}, {\"date\": \"2020-09-28T00:00:00\", \"totalTestResultsIncrease\": 961075.0, \"positiveIncrease\": 34571.0, \"death\": 151051.0, \"deathIncrease\": 245.0, \"positiveRate\": 0.036, \"state\": \"Non Tri-State\", \"sma7d\": 731.857}, {\"date\": \"2020-09-29T00:00:00\", \"totalTestResultsIncrease\": 726686.0, \"positiveIncrease\": 35120.0, \"death\": 151776.0, \"deathIncrease\": 725.0, \"positiveRate\": 0.048, \"state\": \"Non Tri-State\", \"sma7d\": 715.143}, {\"date\": \"2020-09-30T00:00:00\", \"totalTestResultsIncrease\": 654167.0, \"positiveIncrease\": 42491.0, \"death\": 152816.0, \"deathIncrease\": 1040.0, \"positiveRate\": 0.065, \"state\": \"Non Tri-State\", \"sma7d\": 700.143}, {\"date\": \"2020-10-01T00:00:00\", \"totalTestResultsIncrease\": 776823.0, \"positiveIncrease\": 43506.0, \"death\": 153648.0, \"deathIncrease\": 832.0, \"positiveRate\": 0.056, \"state\": \"Non Tri-State\", \"sma7d\": 689.286}, {\"date\": \"2020-10-02T00:00:00\", \"totalTestResultsIncrease\": 877303.0, \"positiveIncrease\": 46641.0, \"death\": 154470.0, \"deathIncrease\": 822.0, \"positiveRate\": 0.053, \"state\": \"Non Tri-State\", \"sma7d\": 688.286}, {\"date\": \"2020-10-03T00:00:00\", \"totalTestResultsIncrease\": 862770.0, \"positiveIncrease\": 48694.0, \"death\": 155199.0, \"deathIncrease\": 729.0, \"positiveRate\": 0.056, \"state\": \"Non Tri-State\", \"sma7d\": 669.714}, {\"date\": \"2020-10-04T00:00:00\", \"totalTestResultsIncrease\": 784387.0, \"positiveIncrease\": 36591.0, \"death\": 155547.0, \"deathIncrease\": 348.0, \"positiveRate\": 0.047, \"state\": \"Non Tri-State\", \"sma7d\": 677.286}, {\"date\": \"2020-10-05T00:00:00\", \"totalTestResultsIncrease\": 784802.0, \"positiveIncrease\": 35866.0, \"death\": 155859.0, \"deathIncrease\": 312.0, \"positiveRate\": 0.046, \"state\": \"Non Tri-State\", \"sma7d\": 686.857}, {\"date\": \"2020-10-06T00:00:00\", \"totalTestResultsIncrease\": 708718.0, \"positiveIncrease\": 36518.0, \"death\": 156471.0, \"deathIncrease\": 612.0, \"positiveRate\": 0.052, \"state\": \"Non Tri-State\", \"sma7d\": 670.714}]}}, {\"mode\": \"vega-lite\"});\n",
       "</script>"
      ],
      "text/plain": [
       "alt.LayerChart(...)"
      ]
     },
     "execution_count": 17,
     "metadata": {},
     "output_type": "execute_result"
    }
   ],
   "source": [
    "create_plot(non_tristate, 'deathIncrease')"
   ]
  }
 ],
 "metadata": {
  "kernelspec": {
   "display_name": "Python 3",
   "language": "python",
   "name": "python3"
  },
  "language_info": {
   "codemirror_mode": {
    "name": "ipython",
    "version": 3
   },
   "file_extension": ".py",
   "mimetype": "text/x-python",
   "name": "python",
   "nbconvert_exporter": "python",
   "pygments_lexer": "ipython3",
   "version": "3.8.6"
  },
  "papermill": {
   "duration": 6.269245,
   "end_time": "2020-10-07T22:34:09.952490",
   "environment_variables": {},
   "exception": null,
   "input_path": "2020-07-19-covid-plots.ipynb",
   "output_path": "2020-07-19-covid-plots.ipynb",
   "parameters": {},
   "start_time": "2020-10-07T22:34:03.683245",
   "version": "2.1.2"
  }
 },
 "nbformat": 4,
 "nbformat_minor": 4
}