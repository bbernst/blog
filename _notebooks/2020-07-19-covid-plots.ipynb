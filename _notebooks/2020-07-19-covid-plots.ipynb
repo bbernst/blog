{
 "cells": [
  {
   "cell_type": "markdown",
   "metadata": {
    "papermill": {
     "duration": 0.013855,
     "end_time": "2020-10-29T22:33:13.019783",
     "exception": false,
     "start_time": "2020-10-29T22:33:13.005928",
     "status": "completed"
    },
    "tags": []
   },
   "source": [
    "# \"COVID-19 plots\"\n",
    "> \"Interactive plots with daily updates\"\n",
    "\n",
    "- author: bbernst\n",
    "- toc: true\n",
    "- branch: master\n",
    "- badges: true\n",
    "- comments: true\n",
    "- categories: [healthcare, covid]\n",
    "- image: images/covid_plots/covid_mask.png\n",
    "- hide: false\n",
    "- search_exclude: true"
   ]
  },
  {
   "cell_type": "markdown",
   "metadata": {
    "papermill": {
     "duration": 0.012657,
     "end_time": "2020-10-29T22:33:13.046747",
     "exception": false,
     "start_time": "2020-10-29T22:33:13.034090",
     "status": "completed"
    },
    "tags": []
   },
   "source": [
    "I wanted to make a simple COVID-19 post to accomplish two main goals:\n",
    "1. Easily see the specific plots I'm interested in\n",
    "1. Update these plots every day, automatically\n",
    "\n",
    "Enter [fastpages](https://github.com/fastai/fastpages) and [github actions](https://github.com/features/actions). I'd been meaning to set up a blog with fastpages for a while and thought this would be a good reason to try it out. The documentation was great and I was able to set up automatic updates by using https://covid19dashboards.com/ as a guide.\n",
    "\n",
    "The data for this post comes from https://covidtracking.com/, which updates by 5pm each day, and I have my dashboard update at 6:30pm. For each geography -- so far that's the US, New York, and Non Tri-State -- I look at daily positive cases, positive rate, and deaths. Be sure to hover around on each of the plots, they have helpful interactive tooltips to make reading the data more intuitive."
   ]
  },
  {
   "cell_type": "code",
   "execution_count": 1,
   "metadata": {
    "execution": {
     "iopub.execute_input": "2020-10-29T22:33:13.087299Z",
     "iopub.status.busy": "2020-10-29T22:33:13.086730Z",
     "iopub.status.idle": "2020-10-29T22:33:14.482186Z",
     "shell.execute_reply": "2020-10-29T22:33:14.481549Z"
    },
    "papermill": {
     "duration": 1.413864,
     "end_time": "2020-10-29T22:33:14.482380",
     "exception": false,
     "start_time": "2020-10-29T22:33:13.068516",
     "status": "completed"
    },
    "tags": []
   },
   "outputs": [],
   "source": [
    "#collapse\n",
    "from typing import Callable, Literal\n",
    "import pandas as pd\n",
    "import altair as alt"
   ]
  },
  {
   "cell_type": "code",
   "execution_count": 2,
   "metadata": {
    "execution": {
     "iopub.execute_input": "2020-10-29T22:33:14.850840Z",
     "iopub.status.busy": "2020-10-29T22:33:14.850277Z",
     "iopub.status.idle": "2020-10-29T22:33:14.870879Z",
     "shell.execute_reply": "2020-10-29T22:33:14.870423Z"
    },
    "papermill": {
     "duration": 0.288461,
     "end_time": "2020-10-29T22:33:14.871012",
     "exception": false,
     "start_time": "2020-10-29T22:33:14.582551",
     "status": "completed"
    },
    "tags": []
   },
   "outputs": [
    {
     "name": "stdout",
     "output_type": "stream",
     "text": [
      "Last updated at (ET): 2020-10-29 06:33:14 PM\n"
     ]
    }
   ],
   "source": [
    "#hide_input\n",
    "current_utc = pd.Timestamp.now(tz='America/New_York').strftime('%Y-%m-%d %I:%M:%S %p')\n",
    "print(f\"Last updated at (ET): {current_utc}\")"
   ]
  },
  {
   "cell_type": "markdown",
   "metadata": {
    "papermill": {
     "duration": 0.046064,
     "end_time": "2020-10-29T22:33:14.936912",
     "exception": false,
     "start_time": "2020-10-29T22:33:14.890848",
     "status": "completed"
    },
    "tags": []
   },
   "source": [
    "# Data"
   ]
  },
  {
   "cell_type": "code",
   "execution_count": 3,
   "metadata": {
    "execution": {
     "iopub.execute_input": "2020-10-29T22:33:15.053317Z",
     "iopub.status.busy": "2020-10-29T22:33:15.052782Z",
     "iopub.status.idle": "2020-10-29T22:33:17.661035Z",
     "shell.execute_reply": "2020-10-29T22:33:17.660552Z"
    },
    "papermill": {
     "duration": 2.660947,
     "end_time": "2020-10-29T22:33:17.661166",
     "exception": false,
     "start_time": "2020-10-29T22:33:15.000219",
     "status": "completed"
    },
    "tags": []
   },
   "outputs": [],
   "source": [
    "df = pd.read_csv('https://covidtracking.com/api/states/daily.csv')"
   ]
  },
  {
   "cell_type": "markdown",
   "metadata": {
    "papermill": {
     "duration": 0.014211,
     "end_time": "2020-10-29T22:33:17.688790",
     "exception": false,
     "start_time": "2020-10-29T22:33:17.674579",
     "status": "completed"
    },
    "tags": []
   },
   "source": [
    "# Helpers"
   ]
  },
  {
   "cell_type": "code",
   "execution_count": 4,
   "metadata": {
    "execution": {
     "iopub.execute_input": "2020-10-29T22:33:17.722813Z",
     "iopub.status.busy": "2020-10-29T22:33:17.722256Z",
     "iopub.status.idle": "2020-10-29T22:33:17.724490Z",
     "shell.execute_reply": "2020-10-29T22:33:17.724025Z"
    },
    "papermill": {
     "duration": 0.023178,
     "end_time": "2020-10-29T22:33:17.724616",
     "exception": false,
     "start_time": "2020-10-29T22:33:17.701438",
     "status": "completed"
    },
    "tags": []
   },
   "outputs": [],
   "source": [
    "#collapse\n",
    "def create_df(df: pd.DataFrame, \n",
    "              filter_f: Callable, \n",
    "              state_name: str):\n",
    "    out_df = (\n",
    "     df\n",
    "     .assign(date = lambda d: pd.to_datetime(d['date'], format='%Y%m%d'))\n",
    "     .loc[filter_f, :]\n",
    "     .groupby('date')\n",
    "     .apply(lambda d: pd.Series(dict(\n",
    "         totalTestResultsIncrease = d['totalTestResultsIncrease'].sum(),\n",
    "         positiveIncrease = d['positiveIncrease'].sum(),\n",
    "         death = d['death'].sum(),\n",
    "         deathIncrease = d['deathIncrease'].sum()\n",
    "     )))\n",
    "     .reset_index()\n",
    "     .assign(positiveRate = lambda d: round(d['positiveIncrease'] / d['totalTestResultsIncrease'], 3))\n",
    "     .sort_values('date', ascending=True)\n",
    "     .assign(state = state_name)\n",
    "     .reset_index(drop=True)\n",
    "    )\n",
    "    \n",
    "    return out_df"
   ]
  },
  {
   "cell_type": "code",
   "execution_count": 5,
   "metadata": {
    "execution": {
     "iopub.execute_input": "2020-10-29T22:33:17.762159Z",
     "iopub.status.busy": "2020-10-29T22:33:17.761569Z",
     "iopub.status.idle": "2020-10-29T22:33:17.763772Z",
     "shell.execute_reply": "2020-10-29T22:33:17.763308Z"
    },
    "papermill": {
     "duration": 0.026799,
     "end_time": "2020-10-29T22:33:17.763889",
     "exception": false,
     "start_time": "2020-10-29T22:33:17.737090",
     "status": "completed"
    },
    "tags": []
   },
   "outputs": [],
   "source": [
    "#collapse\n",
    "def create_plot(df: pd.DataFrame, \n",
    "                column: Literal['totalTestResultsIncrease', \n",
    "                                'positiveIncrease', \n",
    "                                'death',\n",
    "                                'deathIncrease', \n",
    "                                'positiveRate'],\n",
    "                period: int = 7*8):\n",
    "    df = (\n",
    "     df\n",
    "     .assign(sma7d = lambda d: d[column].rolling(window=7).mean().round(3))\n",
    "     .loc[lambda d: d['date'] >= pd.to_datetime('today') - period * pd.Timedelta('1 days'), :]\n",
    "     .reset_index(drop=True)\n",
    "    )\n",
    "    the_state = df['state'][0]\n",
    "    label = alt.selection_single(\n",
    "        encodings=['x'], on='mouseover', nearest=True, empty='none')\n",
    "    \n",
    "    base = alt.Chart().mark_point(size=75).encode(\n",
    "        x='date:T',\n",
    "        y=f'{column}:Q',\n",
    "        tooltip=['date', f'{column}:Q', 'sma7d:Q']\n",
    "    )\n",
    "\n",
    "    sma = alt.Chart().mark_line(color='purple').encode(\n",
    "        x='date:T',\n",
    "        y='sma7d:Q'\n",
    "    )\n",
    "\n",
    "    layers = alt.layer(\n",
    "        base + sma,\n",
    "\n",
    "        # add a rule mark to serve as a guide line\n",
    "        alt.Chart().mark_rule(color='#aaa').encode(\n",
    "            x='date:T'\n",
    "        ).transform_filter(label),\n",
    "\n",
    "        # add circle marks for selected time points, hide unselected points\n",
    "        base.mark_circle().encode(\n",
    "            opacity=alt.condition(label, alt.value(1), alt.value(0))\n",
    "        ).add_selection(label),\n",
    "\n",
    "        # add white stroked text to provide a legible background for labels\n",
    "        base.mark_text(align='left', dx=5, dy=-5, stroke='white', strokeWidth=2).encode(\n",
    "            text=f'{column}:Q'\n",
    "        ).transform_filter(label),\n",
    "\n",
    "        # add text labels\n",
    "        base.mark_text(align='left', dx=5, dy=-5).encode(\n",
    "            text=f'{column}:Q'\n",
    "        ).transform_filter(label),\n",
    "        \n",
    "        data=df\n",
    "    ).properties(\n",
    "        title=f'{the_state}: {column}',\n",
    "        width=500,\n",
    "        height=400\n",
    "    )\n",
    "    \n",
    "    return layers.interactive()"
   ]
  },
  {
   "cell_type": "markdown",
   "metadata": {
    "papermill": {
     "duration": 0.012749,
     "end_time": "2020-10-29T22:33:17.789508",
     "exception": false,
     "start_time": "2020-10-29T22:33:17.776759",
     "status": "completed"
    },
    "tags": []
   },
   "source": [
    "# Plots"
   ]
  },
  {
   "cell_type": "markdown",
   "metadata": {
    "papermill": {
     "duration": 0.014783,
     "end_time": "2020-10-29T22:33:17.817172",
     "exception": false,
     "start_time": "2020-10-29T22:33:17.802389",
     "status": "completed"
    },
    "tags": []
   },
   "source": [
    "## US"
   ]
  },
  {
   "cell_type": "code",
   "execution_count": 6,
   "metadata": {
    "execution": {
     "iopub.execute_input": "2020-10-29T22:33:17.846833Z",
     "iopub.status.busy": "2020-10-29T22:33:17.846290Z",
     "iopub.status.idle": "2020-10-29T22:33:18.167020Z",
     "shell.execute_reply": "2020-10-29T22:33:18.166525Z"
    },
    "papermill": {
     "duration": 0.337391,
     "end_time": "2020-10-29T22:33:18.167169",
     "exception": false,
     "start_time": "2020-10-29T22:33:17.829778",
     "status": "completed"
    },
    "tags": []
   },
   "outputs": [],
   "source": [
    "us = create_df(df, lambda d: d.index > 0, 'US')"
   ]
  },
  {
   "cell_type": "code",
   "execution_count": 7,
   "metadata": {
    "execution": {
     "iopub.execute_input": "2020-10-29T22:33:18.210955Z",
     "iopub.status.busy": "2020-10-29T22:33:18.210417Z",
     "iopub.status.idle": "2020-10-29T22:33:18.308435Z",
     "shell.execute_reply": "2020-10-29T22:33:18.308887Z"
    },
    "papermill": {
     "duration": 0.118854,
     "end_time": "2020-10-29T22:33:18.309044",
     "exception": false,
     "start_time": "2020-10-29T22:33:18.190190",
     "status": "completed"
    },
    "tags": []
   },
   "outputs": [
    {
     "data": {
      "text/html": [
       "\n",
       "<div id=\"altair-viz-53148b02ea11471cb9c8336bb68d3e8c\"></div>\n",
       "<script type=\"text/javascript\">\n",
       "  (function(spec, embedOpt){\n",
       "    let outputDiv = document.currentScript.previousElementSibling;\n",
       "    if (outputDiv.id !== \"altair-viz-53148b02ea11471cb9c8336bb68d3e8c\") {\n",
       "      outputDiv = document.getElementById(\"altair-viz-53148b02ea11471cb9c8336bb68d3e8c\");\n",
       "    }\n",
       "    const paths = {\n",
       "      \"vega\": \"https://cdn.jsdelivr.net/npm//vega@5?noext\",\n",
       "      \"vega-lib\": \"https://cdn.jsdelivr.net/npm//vega-lib?noext\",\n",
       "      \"vega-lite\": \"https://cdn.jsdelivr.net/npm//vega-lite@4.8.1?noext\",\n",
       "      \"vega-embed\": \"https://cdn.jsdelivr.net/npm//vega-embed@6?noext\",\n",
       "    };\n",
       "\n",
       "    function loadScript(lib) {\n",
       "      return new Promise(function(resolve, reject) {\n",
       "        var s = document.createElement('script');\n",
       "        s.src = paths[lib];\n",
       "        s.async = true;\n",
       "        s.onload = () => resolve(paths[lib]);\n",
       "        s.onerror = () => reject(`Error loading script: ${paths[lib]}`);\n",
       "        document.getElementsByTagName(\"head\")[0].appendChild(s);\n",
       "      });\n",
       "    }\n",
       "\n",
       "    function showError(err) {\n",
       "      outputDiv.innerHTML = `<div class=\"error\" style=\"color:red;\">${err}</div>`;\n",
       "      throw err;\n",
       "    }\n",
       "\n",
       "    function displayChart(vegaEmbed) {\n",
       "      vegaEmbed(outputDiv, spec, embedOpt)\n",
       "        .catch(err => showError(`Javascript Error: ${err.message}<br>This usually means there's a typo in your chart specification. See the javascript console for the full traceback.`));\n",
       "    }\n",
       "\n",
       "    if(typeof define === \"function\" && define.amd) {\n",
       "      requirejs.config({paths});\n",
       "      require([\"vega-embed\"], displayChart, err => showError(`Error loading script: ${err.message}`));\n",
       "    } else if (typeof vegaEmbed === \"function\") {\n",
       "      displayChart(vegaEmbed);\n",
       "    } else {\n",
       "      loadScript(\"vega\")\n",
       "        .then(() => loadScript(\"vega-lite\"))\n",
       "        .then(() => loadScript(\"vega-embed\"))\n",
       "        .catch(showError)\n",
       "        .then(() => displayChart(vegaEmbed));\n",
       "    }\n",
       "  })({\"config\": {\"view\": {\"continuousWidth\": 400, \"continuousHeight\": 300}}, \"layer\": [{\"layer\": [{\"mark\": {\"type\": \"point\", \"size\": 75}, \"encoding\": {\"tooltip\": [{\"type\": \"temporal\", \"field\": \"date\"}, {\"type\": \"quantitative\", \"field\": \"positiveIncrease\"}, {\"type\": \"quantitative\", \"field\": \"sma7d\"}], \"x\": {\"type\": \"temporal\", \"field\": \"date\"}, \"y\": {\"type\": \"quantitative\", \"field\": \"positiveIncrease\"}}, \"selection\": {\"selector002\": {\"type\": \"interval\", \"bind\": \"scales\", \"encodings\": [\"x\", \"y\"]}}}, {\"mark\": {\"type\": \"line\", \"color\": \"purple\"}, \"encoding\": {\"x\": {\"type\": \"temporal\", \"field\": \"date\"}, \"y\": {\"type\": \"quantitative\", \"field\": \"sma7d\"}}}]}, {\"mark\": {\"type\": \"rule\", \"color\": \"#aaa\"}, \"encoding\": {\"x\": {\"type\": \"temporal\", \"field\": \"date\"}}, \"transform\": [{\"filter\": {\"selection\": \"selector001\"}}]}, {\"mark\": \"circle\", \"encoding\": {\"opacity\": {\"condition\": {\"value\": 1, \"selection\": \"selector001\"}, \"value\": 0}, \"tooltip\": [{\"type\": \"temporal\", \"field\": \"date\"}, {\"type\": \"quantitative\", \"field\": \"positiveIncrease\"}, {\"type\": \"quantitative\", \"field\": \"sma7d\"}], \"x\": {\"type\": \"temporal\", \"field\": \"date\"}, \"y\": {\"type\": \"quantitative\", \"field\": \"positiveIncrease\"}}, \"selection\": {\"selector001\": {\"type\": \"single\", \"encodings\": [\"x\"], \"on\": \"mouseover\", \"nearest\": true, \"empty\": \"none\"}}}, {\"mark\": {\"type\": \"text\", \"align\": \"left\", \"dx\": 5, \"dy\": -5, \"stroke\": \"white\", \"strokeWidth\": 2}, \"encoding\": {\"text\": {\"type\": \"quantitative\", \"field\": \"positiveIncrease\"}, \"tooltip\": [{\"type\": \"temporal\", \"field\": \"date\"}, {\"type\": \"quantitative\", \"field\": \"positiveIncrease\"}, {\"type\": \"quantitative\", \"field\": \"sma7d\"}], \"x\": {\"type\": \"temporal\", \"field\": \"date\"}, \"y\": {\"type\": \"quantitative\", \"field\": \"positiveIncrease\"}}, \"transform\": [{\"filter\": {\"selection\": \"selector001\"}}]}, {\"mark\": {\"type\": \"text\", \"align\": \"left\", \"dx\": 5, \"dy\": -5}, \"encoding\": {\"text\": {\"type\": \"quantitative\", \"field\": \"positiveIncrease\"}, \"tooltip\": [{\"type\": \"temporal\", \"field\": \"date\"}, {\"type\": \"quantitative\", \"field\": \"positiveIncrease\"}, {\"type\": \"quantitative\", \"field\": \"sma7d\"}], \"x\": {\"type\": \"temporal\", \"field\": \"date\"}, \"y\": {\"type\": \"quantitative\", \"field\": \"positiveIncrease\"}}, \"transform\": [{\"filter\": {\"selection\": \"selector001\"}}]}], \"data\": {\"name\": \"data-0670024c8d3372bd1e21c7bb9f2c30b9\"}, \"height\": 400, \"title\": \"US: positiveIncrease\", \"width\": 500, \"$schema\": \"https://vega.github.io/schema/vega-lite/v4.8.1.json\", \"datasets\": {\"data-0670024c8d3372bd1e21c7bb9f2c30b9\": [{\"date\": \"2020-09-04T00:00:00\", \"totalTestResultsIncrease\": 1035446.0, \"positiveIncrease\": 51540.0, \"death\": 179739.0, \"deathIncrease\": 998.0, \"positiveRate\": 0.05, \"state\": \"US\", \"sma7d\": 40618.571}, {\"date\": \"2020-09-05T00:00:00\", \"totalTestResultsIncrease\": 962654.0, \"positiveIncrease\": 44842.0, \"death\": 180657.0, \"deathIncrease\": 918.0, \"positiveRate\": 0.047, \"state\": \"US\", \"sma7d\": 40676.571}, {\"date\": \"2020-09-06T00:00:00\", \"totalTestResultsIncrease\": 832840.0, \"positiveIncrease\": 33066.0, \"death\": 181106.0, \"deathIncrease\": 449.0, \"positiveRate\": 0.04, \"state\": \"US\", \"sma7d\": 39762.429}, {\"date\": \"2020-09-07T00:00:00\", \"totalTestResultsIncrease\": 663967.0, \"positiveIncrease\": 28656.0, \"death\": 181331.0, \"deathIncrease\": 225.0, \"positiveRate\": 0.043, \"state\": \"US\", \"sma7d\": 39370.857}, {\"date\": \"2020-09-08T00:00:00\", \"totalTestResultsIncrease\": 581559.0, \"positiveIncrease\": 22197.0, \"death\": 181689.0, \"deathIncrease\": 358.0, \"positiveRate\": 0.038, \"state\": \"US\", \"sma7d\": 36491.714}, {\"date\": \"2020-09-09T00:00:00\", \"totalTestResultsIncrease\": 688996.0, \"positiveIncrease\": 31064.0, \"death\": 182773.0, \"deathIncrease\": 1084.0, \"positiveRate\": 0.045, \"state\": \"US\", \"sma7d\": 36570.714}, {\"date\": \"2020-09-10T00:00:00\", \"totalTestResultsIncrease\": 773049.0, \"positiveIncrease\": 37535.0, \"death\": 183943.0, \"deathIncrease\": 1170.0, \"positiveRate\": 0.049, \"state\": \"US\", \"sma7d\": 35557.143}, {\"date\": \"2020-09-11T00:00:00\", \"totalTestResultsIncrease\": 916610.0, \"positiveIncrease\": 44881.0, \"death\": 184961.0, \"deathIncrease\": 1018.0, \"positiveRate\": 0.049, \"state\": \"US\", \"sma7d\": 34605.857}, {\"date\": \"2020-09-12T00:00:00\", \"totalTestResultsIncrease\": 989697.0, \"positiveIncrease\": 42068.0, \"death\": 185771.0, \"deathIncrease\": 810.0, \"positiveRate\": 0.043, \"state\": \"US\", \"sma7d\": 34209.571}, {\"date\": \"2020-09-13T00:00:00\", \"totalTestResultsIncrease\": 772046.0, \"positiveIncrease\": 34425.0, \"death\": 186161.0, \"deathIncrease\": 390.0, \"positiveRate\": 0.045, \"state\": \"US\", \"sma7d\": 34403.714}, {\"date\": \"2020-09-14T00:00:00\", \"totalTestResultsIncrease\": 500928.0, \"positiveIncrease\": 33846.0, \"death\": 186565.0, \"deathIncrease\": 404.0, \"positiveRate\": 0.068, \"state\": \"US\", \"sma7d\": 35145.143}, {\"date\": \"2020-09-15T00:00:00\", \"totalTestResultsIncrease\": 804619.0, \"positiveIncrease\": 35072.0, \"death\": 187596.0, \"deathIncrease\": 1031.0, \"positiveRate\": 0.044, \"state\": \"US\", \"sma7d\": 36984.429}, {\"date\": \"2020-09-16T00:00:00\", \"totalTestResultsIncrease\": 819363.0, \"positiveIncrease\": 39954.0, \"death\": 188796.0, \"deathIncrease\": 1200.0, \"positiveRate\": 0.049, \"state\": \"US\", \"sma7d\": 38254.429}, {\"date\": \"2020-09-17T00:00:00\", \"totalTestResultsIncrease\": 957418.0, \"positiveIncrease\": 43576.0, \"death\": 189659.0, \"deathIncrease\": 863.0, \"positiveRate\": 0.046, \"state\": \"US\", \"sma7d\": 39117.429}, {\"date\": \"2020-09-18T00:00:00\", \"totalTestResultsIncrease\": 1087475.0, \"positiveIncrease\": 47459.0, \"death\": 190560.0, \"deathIncrease\": 901.0, \"positiveRate\": 0.044, \"state\": \"US\", \"sma7d\": 39485.714}, {\"date\": \"2020-09-19T00:00:00\", \"totalTestResultsIncrease\": 1171544.0, \"positiveIncrease\": 45501.0, \"death\": 191300.0, \"deathIncrease\": 740.0, \"positiveRate\": 0.039, \"state\": \"US\", \"sma7d\": 39976.143}, {\"date\": \"2020-09-20T00:00:00\", \"totalTestResultsIncrease\": 978646.0, \"positiveIncrease\": 36271.0, \"death\": 191627.0, \"deathIncrease\": 327.0, \"positiveRate\": 0.037, \"state\": \"US\", \"sma7d\": 40239.857}, {\"date\": \"2020-09-21T00:00:00\", \"totalTestResultsIncrease\": 773727.0, \"positiveIncrease\": 39458.0, \"death\": 191914.0, \"deathIncrease\": 287.0, \"positiveRate\": 0.051, \"state\": \"US\", \"sma7d\": 41041.571}, {\"date\": \"2020-09-22T00:00:00\", \"totalTestResultsIncrease\": 843224.0, \"positiveIncrease\": 49383.0, \"death\": 192768.0, \"deathIncrease\": 854.0, \"positiveRate\": 0.059, \"state\": \"US\", \"sma7d\": 43086.0}, {\"date\": \"2020-09-23T00:00:00\", \"totalTestResultsIncrease\": 1001961.0, \"positiveIncrease\": 38571.0, \"death\": 193927.0, \"deathIncrease\": 1159.0, \"positiveRate\": 0.038, \"state\": \"US\", \"sma7d\": 42888.429}, {\"date\": \"2020-09-24T00:00:00\", \"totalTestResultsIncrease\": 1031520.0, \"positiveIncrease\": 43708.0, \"death\": 194848.0, \"deathIncrease\": 921.0, \"positiveRate\": 0.042, \"state\": \"US\", \"sma7d\": 42907.286}, {\"date\": \"2020-09-25T00:00:00\", \"totalTestResultsIncrease\": 1109569.0, \"positiveIncrease\": 55488.0, \"death\": 195692.0, \"deathIncrease\": 844.0, \"positiveRate\": 0.05, \"state\": \"US\", \"sma7d\": 44054.286}, {\"date\": \"2020-09-26T00:00:00\", \"totalTestResultsIncrease\": 1118563.0, \"positiveIncrease\": 47792.0, \"death\": 196561.0, \"deathIncrease\": 869.0, \"positiveRate\": 0.043, \"state\": \"US\", \"sma7d\": 44381.571}, {\"date\": \"2020-09-27T00:00:00\", \"totalTestResultsIncrease\": 903974.0, \"positiveIncrease\": 35419.0, \"death\": 196868.0, \"deathIncrease\": 307.0, \"positiveRate\": 0.039, \"state\": \"US\", \"sma7d\": 44259.857}, {\"date\": \"2020-09-28T00:00:00\", \"totalTestResultsIncrease\": 1164034.0, \"positiveIncrease\": 36514.0, \"death\": 197125.0, \"deathIncrease\": 257.0, \"positiveRate\": 0.031, \"state\": \"US\", \"sma7d\": 43839.286}, {\"date\": \"2020-09-29T00:00:00\", \"totalTestResultsIncrease\": 910636.0, \"positiveIncrease\": 36890.0, \"death\": 197864.0, \"deathIncrease\": 739.0, \"positiveRate\": 0.041, \"state\": \"US\", \"sma7d\": 42054.571}, {\"date\": \"2020-09-30T00:00:00\", \"totalTestResultsIncrease\": 893667.0, \"positiveIncrease\": 44356.0, \"death\": 198925.0, \"deathIncrease\": 1061.0, \"positiveRate\": 0.05, \"state\": \"US\", \"sma7d\": 42881.0}, {\"date\": \"2020-10-01T00:00:00\", \"totalTestResultsIncrease\": 992705.0, \"positiveIncrease\": 45617.0, \"death\": 199776.0, \"deathIncrease\": 851.0, \"positiveRate\": 0.046, \"state\": \"US\", \"sma7d\": 43153.714}, {\"date\": \"2020-10-02T00:00:00\", \"totalTestResultsIncrease\": 1233160.0, \"positiveIncrease\": 49484.0, \"death\": 200611.0, \"deathIncrease\": 835.0, \"positiveRate\": 0.04, \"state\": \"US\", \"sma7d\": 42296.0}, {\"date\": \"2020-10-03T00:00:00\", \"totalTestResultsIncrease\": 1092300.0, \"positiveIncrease\": 51338.0, \"death\": 201352.0, \"deathIncrease\": 741.0, \"positiveRate\": 0.047, \"state\": \"US\", \"sma7d\": 42802.571}, {\"date\": \"2020-10-04T00:00:00\", \"totalTestResultsIncrease\": 1025580.0, \"positiveIncrease\": 38357.0, \"death\": 201715.0, \"deathIncrease\": 363.0, \"positiveRate\": 0.037, \"state\": \"US\", \"sma7d\": 43222.286}, {\"date\": \"2020-10-05T00:00:00\", \"totalTestResultsIncrease\": 989527.0, \"positiveIncrease\": 38124.0, \"death\": 202041.0, \"deathIncrease\": 326.0, \"positiveRate\": 0.039, \"state\": \"US\", \"sma7d\": 43452.286}, {\"date\": \"2020-10-06T00:00:00\", \"totalTestResultsIncrease\": 897747.0, \"positiveIncrease\": 38611.0, \"death\": 202675.0, \"deathIncrease\": 634.0, \"positiveRate\": 0.043, \"state\": \"US\", \"sma7d\": 43698.143}, {\"date\": \"2020-10-07T00:00:00\", \"totalTestResultsIncrease\": 957814.0, \"positiveIncrease\": 50564.0, \"death\": 203591.0, \"deathIncrease\": 916.0, \"positiveRate\": 0.053, \"state\": \"US\", \"sma7d\": 44585.0}, {\"date\": \"2020-10-08T00:00:00\", \"totalTestResultsIncrease\": 1136788.0, \"positiveIncrease\": 55292.0, \"death\": 204577.0, \"deathIncrease\": 986.0, \"positiveRate\": 0.049, \"state\": \"US\", \"sma7d\": 45967.143}, {\"date\": \"2020-10-09T00:00:00\", \"totalTestResultsIncrease\": 1193609.0, \"positiveIncrease\": 57005.0, \"death\": 205470.0, \"deathIncrease\": 893.0, \"positiveRate\": 0.048, \"state\": \"US\", \"sma7d\": 47041.571}, {\"date\": \"2020-10-10T00:00:00\", \"totalTestResultsIncrease\": 1234429.0, \"positiveIncrease\": 57492.0, \"death\": 206135.0, \"deathIncrease\": 665.0, \"positiveRate\": 0.047, \"state\": \"US\", \"sma7d\": 47920.714}, {\"date\": \"2020-10-11T00:00:00\", \"totalTestResultsIncrease\": 1078709.0, \"positiveIncrease\": 46790.0, \"death\": 206601.0, \"deathIncrease\": 466.0, \"positiveRate\": 0.043, \"state\": \"US\", \"sma7d\": 49125.429}, {\"date\": \"2020-10-12T00:00:00\", \"totalTestResultsIncrease\": 1062763.0, \"positiveIncrease\": 43110.0, \"death\": 206888.0, \"deathIncrease\": 287.0, \"positiveRate\": 0.041, \"state\": \"US\", \"sma7d\": 49837.714}, {\"date\": \"2020-10-13T00:00:00\", \"totalTestResultsIncrease\": 1033365.0, \"positiveIncrease\": 48319.0, \"death\": 207578.0, \"deathIncrease\": 690.0, \"positiveRate\": 0.047, \"state\": \"US\", \"sma7d\": 51224.571}, {\"date\": \"2020-10-14T00:00:00\", \"totalTestResultsIncrease\": 1030451.0, \"positiveIncrease\": 56722.0, \"death\": 208389.0, \"deathIncrease\": 811.0, \"positiveRate\": 0.055, \"state\": \"US\", \"sma7d\": 52104.286}, {\"date\": \"2020-10-15T00:00:00\", \"totalTestResultsIncrease\": 1083256.0, \"positiveIncrease\": 63102.0, \"death\": 209340.0, \"deathIncrease\": 951.0, \"positiveRate\": 0.058, \"state\": \"US\", \"sma7d\": 53220.0}, {\"date\": \"2020-10-16T00:00:00\", \"totalTestResultsIncrease\": 1215469.0, \"positiveIncrease\": 68040.0, \"death\": 210217.0, \"deathIncrease\": 877.0, \"positiveRate\": 0.056, \"state\": \"US\", \"sma7d\": 54796.429}, {\"date\": \"2020-10-17T00:00:00\", \"totalTestResultsIncrease\": 1286951.0, \"positiveIncrease\": 57867.0, \"death\": 210997.0, \"deathIncrease\": 780.0, \"positiveRate\": 0.045, \"state\": \"US\", \"sma7d\": 54850.0}, {\"date\": \"2020-10-18T00:00:00\", \"totalTestResultsIncrease\": 1052687.0, \"positiveIncrease\": 48857.0, \"death\": 211390.0, \"deathIncrease\": 393.0, \"positiveRate\": 0.046, \"state\": \"US\", \"sma7d\": 55145.286}, {\"date\": \"2020-10-19T00:00:00\", \"totalTestResultsIncrease\": 1129603.0, \"positiveIncrease\": 57132.0, \"death\": 211846.0, \"deathIncrease\": 456.0, \"positiveRate\": 0.051, \"state\": \"US\", \"sma7d\": 57148.429}, {\"date\": \"2020-10-20T00:00:00\", \"totalTestResultsIncrease\": 944558.0, \"positiveIncrease\": 60558.0, \"death\": 212678.0, \"deathIncrease\": 832.0, \"positiveRate\": 0.064, \"state\": \"US\", \"sma7d\": 58896.857}, {\"date\": \"2020-10-21T00:00:00\", \"totalTestResultsIncrease\": 924353.0, \"positiveIncrease\": 60712.0, \"death\": 213702.0, \"deathIncrease\": 1024.0, \"positiveRate\": 0.066, \"state\": \"US\", \"sma7d\": 59466.857}, {\"date\": \"2020-10-22T00:00:00\", \"totalTestResultsIncrease\": 1203879.0, \"positiveIncrease\": 73007.0, \"death\": 214845.0, \"deathIncrease\": 1143.0, \"positiveRate\": 0.061, \"state\": \"US\", \"sma7d\": 60881.857}, {\"date\": \"2020-10-23T00:00:00\", \"totalTestResultsIncrease\": 1370568.0, \"positiveIncrease\": 83057.0, \"death\": 215762.0, \"deathIncrease\": 917.0, \"positiveRate\": 0.061, \"state\": \"US\", \"sma7d\": 63027.143}, {\"date\": \"2020-10-24T00:00:00\", \"totalTestResultsIncrease\": 1302888.0, \"positiveIncrease\": 82925.0, \"death\": 216652.0, \"deathIncrease\": 890.0, \"positiveRate\": 0.064, \"state\": \"US\", \"sma7d\": 66606.857}, {\"date\": \"2020-10-25T00:00:00\", \"totalTestResultsIncrease\": 1184402.0, \"positiveIncrease\": 65650.0, \"death\": 217029.0, \"deathIncrease\": 377.0, \"positiveRate\": 0.055, \"state\": \"US\", \"sma7d\": 69005.857}, {\"date\": \"2020-10-26T00:00:00\", \"totalTestResultsIncrease\": 1195266.0, \"positiveIncrease\": 62274.0, \"death\": 217418.0, \"deathIncrease\": 389.0, \"positiveRate\": 0.052, \"state\": \"US\", \"sma7d\": 69740.429}, {\"date\": \"2020-10-27T00:00:00\", \"totalTestResultsIncrease\": 1070225.0, \"positiveIncrease\": 73096.0, \"death\": 218349.0, \"deathIncrease\": 931.0, \"positiveRate\": 0.068, \"state\": \"US\", \"sma7d\": 71531.571}, {\"date\": \"2020-10-28T00:00:00\", \"totalTestResultsIncrease\": 1071058.0, \"positiveIncrease\": 78304.0, \"death\": 219303.0, \"deathIncrease\": 1024.0, \"positiveRate\": 0.073, \"state\": \"US\", \"sma7d\": 74044.714}]}}, {\"mode\": \"vega-lite\"});\n",
       "</script>"
      ],
      "text/plain": [
       "alt.LayerChart(...)"
      ]
     },
     "execution_count": 7,
     "metadata": {},
     "output_type": "execute_result"
    }
   ],
   "source": [
    "create_plot(us, 'positiveIncrease')"
   ]
  },
  {
   "cell_type": "code",
   "execution_count": 8,
   "metadata": {
    "execution": {
     "iopub.execute_input": "2020-10-29T22:33:18.352504Z",
     "iopub.status.busy": "2020-10-29T22:33:18.347393Z",
     "iopub.status.idle": "2020-10-29T22:33:18.428468Z",
     "shell.execute_reply": "2020-10-29T22:33:18.428906Z"
    },
    "papermill": {
     "duration": 0.106813,
     "end_time": "2020-10-29T22:33:18.429061",
     "exception": false,
     "start_time": "2020-10-29T22:33:18.322248",
     "status": "completed"
    },
    "tags": []
   },
   "outputs": [
    {
     "data": {
      "text/html": [
       "\n",
       "<div id=\"altair-viz-24092071c16e4e709cae798d51185024\"></div>\n",
       "<script type=\"text/javascript\">\n",
       "  (function(spec, embedOpt){\n",
       "    let outputDiv = document.currentScript.previousElementSibling;\n",
       "    if (outputDiv.id !== \"altair-viz-24092071c16e4e709cae798d51185024\") {\n",
       "      outputDiv = document.getElementById(\"altair-viz-24092071c16e4e709cae798d51185024\");\n",
       "    }\n",
       "    const paths = {\n",
       "      \"vega\": \"https://cdn.jsdelivr.net/npm//vega@5?noext\",\n",
       "      \"vega-lib\": \"https://cdn.jsdelivr.net/npm//vega-lib?noext\",\n",
       "      \"vega-lite\": \"https://cdn.jsdelivr.net/npm//vega-lite@4.8.1?noext\",\n",
       "      \"vega-embed\": \"https://cdn.jsdelivr.net/npm//vega-embed@6?noext\",\n",
       "    };\n",
       "\n",
       "    function loadScript(lib) {\n",
       "      return new Promise(function(resolve, reject) {\n",
       "        var s = document.createElement('script');\n",
       "        s.src = paths[lib];\n",
       "        s.async = true;\n",
       "        s.onload = () => resolve(paths[lib]);\n",
       "        s.onerror = () => reject(`Error loading script: ${paths[lib]}`);\n",
       "        document.getElementsByTagName(\"head\")[0].appendChild(s);\n",
       "      });\n",
       "    }\n",
       "\n",
       "    function showError(err) {\n",
       "      outputDiv.innerHTML = `<div class=\"error\" style=\"color:red;\">${err}</div>`;\n",
       "      throw err;\n",
       "    }\n",
       "\n",
       "    function displayChart(vegaEmbed) {\n",
       "      vegaEmbed(outputDiv, spec, embedOpt)\n",
       "        .catch(err => showError(`Javascript Error: ${err.message}<br>This usually means there's a typo in your chart specification. See the javascript console for the full traceback.`));\n",
       "    }\n",
       "\n",
       "    if(typeof define === \"function\" && define.amd) {\n",
       "      requirejs.config({paths});\n",
       "      require([\"vega-embed\"], displayChart, err => showError(`Error loading script: ${err.message}`));\n",
       "    } else if (typeof vegaEmbed === \"function\") {\n",
       "      displayChart(vegaEmbed);\n",
       "    } else {\n",
       "      loadScript(\"vega\")\n",
       "        .then(() => loadScript(\"vega-lite\"))\n",
       "        .then(() => loadScript(\"vega-embed\"))\n",
       "        .catch(showError)\n",
       "        .then(() => displayChart(vegaEmbed));\n",
       "    }\n",
       "  })({\"config\": {\"view\": {\"continuousWidth\": 400, \"continuousHeight\": 300}}, \"layer\": [{\"layer\": [{\"mark\": {\"type\": \"point\", \"size\": 75}, \"encoding\": {\"tooltip\": [{\"type\": \"temporal\", \"field\": \"date\"}, {\"type\": \"quantitative\", \"field\": \"positiveRate\"}, {\"type\": \"quantitative\", \"field\": \"sma7d\"}], \"x\": {\"type\": \"temporal\", \"field\": \"date\"}, \"y\": {\"type\": \"quantitative\", \"field\": \"positiveRate\"}}, \"selection\": {\"selector004\": {\"type\": \"interval\", \"bind\": \"scales\", \"encodings\": [\"x\", \"y\"]}}}, {\"mark\": {\"type\": \"line\", \"color\": \"purple\"}, \"encoding\": {\"x\": {\"type\": \"temporal\", \"field\": \"date\"}, \"y\": {\"type\": \"quantitative\", \"field\": \"sma7d\"}}}]}, {\"mark\": {\"type\": \"rule\", \"color\": \"#aaa\"}, \"encoding\": {\"x\": {\"type\": \"temporal\", \"field\": \"date\"}}, \"transform\": [{\"filter\": {\"selection\": \"selector003\"}}]}, {\"mark\": \"circle\", \"encoding\": {\"opacity\": {\"condition\": {\"value\": 1, \"selection\": \"selector003\"}, \"value\": 0}, \"tooltip\": [{\"type\": \"temporal\", \"field\": \"date\"}, {\"type\": \"quantitative\", \"field\": \"positiveRate\"}, {\"type\": \"quantitative\", \"field\": \"sma7d\"}], \"x\": {\"type\": \"temporal\", \"field\": \"date\"}, \"y\": {\"type\": \"quantitative\", \"field\": \"positiveRate\"}}, \"selection\": {\"selector003\": {\"type\": \"single\", \"encodings\": [\"x\"], \"on\": \"mouseover\", \"nearest\": true, \"empty\": \"none\"}}}, {\"mark\": {\"type\": \"text\", \"align\": \"left\", \"dx\": 5, \"dy\": -5, \"stroke\": \"white\", \"strokeWidth\": 2}, \"encoding\": {\"text\": {\"type\": \"quantitative\", \"field\": \"positiveRate\"}, \"tooltip\": [{\"type\": \"temporal\", \"field\": \"date\"}, {\"type\": \"quantitative\", \"field\": \"positiveRate\"}, {\"type\": \"quantitative\", \"field\": \"sma7d\"}], \"x\": {\"type\": \"temporal\", \"field\": \"date\"}, \"y\": {\"type\": \"quantitative\", \"field\": \"positiveRate\"}}, \"transform\": [{\"filter\": {\"selection\": \"selector003\"}}]}, {\"mark\": {\"type\": \"text\", \"align\": \"left\", \"dx\": 5, \"dy\": -5}, \"encoding\": {\"text\": {\"type\": \"quantitative\", \"field\": \"positiveRate\"}, \"tooltip\": [{\"type\": \"temporal\", \"field\": \"date\"}, {\"type\": \"quantitative\", \"field\": \"positiveRate\"}, {\"type\": \"quantitative\", \"field\": \"sma7d\"}], \"x\": {\"type\": \"temporal\", \"field\": \"date\"}, \"y\": {\"type\": \"quantitative\", \"field\": \"positiveRate\"}}, \"transform\": [{\"filter\": {\"selection\": \"selector003\"}}]}], \"data\": {\"name\": \"data-66bd63c6e1d94e8154dd112a639862b4\"}, \"height\": 400, \"title\": \"US: positiveRate\", \"width\": 500, \"$schema\": \"https://vega.github.io/schema/vega-lite/v4.8.1.json\", \"datasets\": {\"data-66bd63c6e1d94e8154dd112a639862b4\": [{\"date\": \"2020-09-04T00:00:00\", \"totalTestResultsIncrease\": 1035446.0, \"positiveIncrease\": 51540.0, \"death\": 179739.0, \"deathIncrease\": 998.0, \"positiveRate\": 0.05, \"state\": \"US\", \"sma7d\": 0.048}, {\"date\": \"2020-09-05T00:00:00\", \"totalTestResultsIncrease\": 962654.0, \"positiveIncrease\": 44842.0, \"death\": 180657.0, \"deathIncrease\": 918.0, \"positiveRate\": 0.047, \"state\": \"US\", \"sma7d\": 0.047}, {\"date\": \"2020-09-06T00:00:00\", \"totalTestResultsIncrease\": 832840.0, \"positiveIncrease\": 33066.0, \"death\": 181106.0, \"deathIncrease\": 449.0, \"positiveRate\": 0.04, \"state\": \"US\", \"sma7d\": 0.046}, {\"date\": \"2020-09-07T00:00:00\", \"totalTestResultsIncrease\": 663967.0, \"positiveIncrease\": 28656.0, \"death\": 181331.0, \"deathIncrease\": 225.0, \"positiveRate\": 0.043, \"state\": \"US\", \"sma7d\": 0.046}, {\"date\": \"2020-09-08T00:00:00\", \"totalTestResultsIncrease\": 581559.0, \"positiveIncrease\": 22197.0, \"death\": 181689.0, \"deathIncrease\": 358.0, \"positiveRate\": 0.038, \"state\": \"US\", \"sma7d\": 0.044}, {\"date\": \"2020-09-09T00:00:00\", \"totalTestResultsIncrease\": 688996.0, \"positiveIncrease\": 31064.0, \"death\": 182773.0, \"deathIncrease\": 1084.0, \"positiveRate\": 0.045, \"state\": \"US\", \"sma7d\": 0.045}, {\"date\": \"2020-09-10T00:00:00\", \"totalTestResultsIncrease\": 773049.0, \"positiveIncrease\": 37535.0, \"death\": 183943.0, \"deathIncrease\": 1170.0, \"positiveRate\": 0.049, \"state\": \"US\", \"sma7d\": 0.045}, {\"date\": \"2020-09-11T00:00:00\", \"totalTestResultsIncrease\": 916610.0, \"positiveIncrease\": 44881.0, \"death\": 184961.0, \"deathIncrease\": 1018.0, \"positiveRate\": 0.049, \"state\": \"US\", \"sma7d\": 0.044}, {\"date\": \"2020-09-12T00:00:00\", \"totalTestResultsIncrease\": 989697.0, \"positiveIncrease\": 42068.0, \"death\": 185771.0, \"deathIncrease\": 810.0, \"positiveRate\": 0.043, \"state\": \"US\", \"sma7d\": 0.044}, {\"date\": \"2020-09-13T00:00:00\", \"totalTestResultsIncrease\": 772046.0, \"positiveIncrease\": 34425.0, \"death\": 186161.0, \"deathIncrease\": 390.0, \"positiveRate\": 0.045, \"state\": \"US\", \"sma7d\": 0.045}, {\"date\": \"2020-09-14T00:00:00\", \"totalTestResultsIncrease\": 500928.0, \"positiveIncrease\": 33846.0, \"death\": 186565.0, \"deathIncrease\": 404.0, \"positiveRate\": 0.068, \"state\": \"US\", \"sma7d\": 0.048}, {\"date\": \"2020-09-15T00:00:00\", \"totalTestResultsIncrease\": 804619.0, \"positiveIncrease\": 35072.0, \"death\": 187596.0, \"deathIncrease\": 1031.0, \"positiveRate\": 0.044, \"state\": \"US\", \"sma7d\": 0.049}, {\"date\": \"2020-09-16T00:00:00\", \"totalTestResultsIncrease\": 819363.0, \"positiveIncrease\": 39954.0, \"death\": 188796.0, \"deathIncrease\": 1200.0, \"positiveRate\": 0.049, \"state\": \"US\", \"sma7d\": 0.05}, {\"date\": \"2020-09-17T00:00:00\", \"totalTestResultsIncrease\": 957418.0, \"positiveIncrease\": 43576.0, \"death\": 189659.0, \"deathIncrease\": 863.0, \"positiveRate\": 0.046, \"state\": \"US\", \"sma7d\": 0.049}, {\"date\": \"2020-09-18T00:00:00\", \"totalTestResultsIncrease\": 1087475.0, \"positiveIncrease\": 47459.0, \"death\": 190560.0, \"deathIncrease\": 901.0, \"positiveRate\": 0.044, \"state\": \"US\", \"sma7d\": 0.048}, {\"date\": \"2020-09-19T00:00:00\", \"totalTestResultsIncrease\": 1171544.0, \"positiveIncrease\": 45501.0, \"death\": 191300.0, \"deathIncrease\": 740.0, \"positiveRate\": 0.039, \"state\": \"US\", \"sma7d\": 0.048}, {\"date\": \"2020-09-20T00:00:00\", \"totalTestResultsIncrease\": 978646.0, \"positiveIncrease\": 36271.0, \"death\": 191627.0, \"deathIncrease\": 327.0, \"positiveRate\": 0.037, \"state\": \"US\", \"sma7d\": 0.047}, {\"date\": \"2020-09-21T00:00:00\", \"totalTestResultsIncrease\": 773727.0, \"positiveIncrease\": 39458.0, \"death\": 191914.0, \"deathIncrease\": 287.0, \"positiveRate\": 0.051, \"state\": \"US\", \"sma7d\": 0.044}, {\"date\": \"2020-09-22T00:00:00\", \"totalTestResultsIncrease\": 843224.0, \"positiveIncrease\": 49383.0, \"death\": 192768.0, \"deathIncrease\": 854.0, \"positiveRate\": 0.059, \"state\": \"US\", \"sma7d\": 0.046}, {\"date\": \"2020-09-23T00:00:00\", \"totalTestResultsIncrease\": 1001961.0, \"positiveIncrease\": 38571.0, \"death\": 193927.0, \"deathIncrease\": 1159.0, \"positiveRate\": 0.038, \"state\": \"US\", \"sma7d\": 0.045}, {\"date\": \"2020-09-24T00:00:00\", \"totalTestResultsIncrease\": 1031520.0, \"positiveIncrease\": 43708.0, \"death\": 194848.0, \"deathIncrease\": 921.0, \"positiveRate\": 0.042, \"state\": \"US\", \"sma7d\": 0.044}, {\"date\": \"2020-09-25T00:00:00\", \"totalTestResultsIncrease\": 1109569.0, \"positiveIncrease\": 55488.0, \"death\": 195692.0, \"deathIncrease\": 844.0, \"positiveRate\": 0.05, \"state\": \"US\", \"sma7d\": 0.045}, {\"date\": \"2020-09-26T00:00:00\", \"totalTestResultsIncrease\": 1118563.0, \"positiveIncrease\": 47792.0, \"death\": 196561.0, \"deathIncrease\": 869.0, \"positiveRate\": 0.043, \"state\": \"US\", \"sma7d\": 0.046}, {\"date\": \"2020-09-27T00:00:00\", \"totalTestResultsIncrease\": 903974.0, \"positiveIncrease\": 35419.0, \"death\": 196868.0, \"deathIncrease\": 307.0, \"positiveRate\": 0.039, \"state\": \"US\", \"sma7d\": 0.046}, {\"date\": \"2020-09-28T00:00:00\", \"totalTestResultsIncrease\": 1164034.0, \"positiveIncrease\": 36514.0, \"death\": 197125.0, \"deathIncrease\": 257.0, \"positiveRate\": 0.031, \"state\": \"US\", \"sma7d\": 0.043}, {\"date\": \"2020-09-29T00:00:00\", \"totalTestResultsIncrease\": 910636.0, \"positiveIncrease\": 36890.0, \"death\": 197864.0, \"deathIncrease\": 739.0, \"positiveRate\": 0.041, \"state\": \"US\", \"sma7d\": 0.041}, {\"date\": \"2020-09-30T00:00:00\", \"totalTestResultsIncrease\": 893667.0, \"positiveIncrease\": 44356.0, \"death\": 198925.0, \"deathIncrease\": 1061.0, \"positiveRate\": 0.05, \"state\": \"US\", \"sma7d\": 0.042}, {\"date\": \"2020-10-01T00:00:00\", \"totalTestResultsIncrease\": 992705.0, \"positiveIncrease\": 45617.0, \"death\": 199776.0, \"deathIncrease\": 851.0, \"positiveRate\": 0.046, \"state\": \"US\", \"sma7d\": 0.043}, {\"date\": \"2020-10-02T00:00:00\", \"totalTestResultsIncrease\": 1233160.0, \"positiveIncrease\": 49484.0, \"death\": 200611.0, \"deathIncrease\": 835.0, \"positiveRate\": 0.04, \"state\": \"US\", \"sma7d\": 0.041}, {\"date\": \"2020-10-03T00:00:00\", \"totalTestResultsIncrease\": 1092300.0, \"positiveIncrease\": 51338.0, \"death\": 201352.0, \"deathIncrease\": 741.0, \"positiveRate\": 0.047, \"state\": \"US\", \"sma7d\": 0.042}, {\"date\": \"2020-10-04T00:00:00\", \"totalTestResultsIncrease\": 1025580.0, \"positiveIncrease\": 38357.0, \"death\": 201715.0, \"deathIncrease\": 363.0, \"positiveRate\": 0.037, \"state\": \"US\", \"sma7d\": 0.042}, {\"date\": \"2020-10-05T00:00:00\", \"totalTestResultsIncrease\": 989527.0, \"positiveIncrease\": 38124.0, \"death\": 202041.0, \"deathIncrease\": 326.0, \"positiveRate\": 0.039, \"state\": \"US\", \"sma7d\": 0.043}, {\"date\": \"2020-10-06T00:00:00\", \"totalTestResultsIncrease\": 897747.0, \"positiveIncrease\": 38611.0, \"death\": 202675.0, \"deathIncrease\": 634.0, \"positiveRate\": 0.043, \"state\": \"US\", \"sma7d\": 0.043}, {\"date\": \"2020-10-07T00:00:00\", \"totalTestResultsIncrease\": 957814.0, \"positiveIncrease\": 50564.0, \"death\": 203591.0, \"deathIncrease\": 916.0, \"positiveRate\": 0.053, \"state\": \"US\", \"sma7d\": 0.044}, {\"date\": \"2020-10-08T00:00:00\", \"totalTestResultsIncrease\": 1136788.0, \"positiveIncrease\": 55292.0, \"death\": 204577.0, \"deathIncrease\": 986.0, \"positiveRate\": 0.049, \"state\": \"US\", \"sma7d\": 0.044}, {\"date\": \"2020-10-09T00:00:00\", \"totalTestResultsIncrease\": 1193609.0, \"positiveIncrease\": 57005.0, \"death\": 205470.0, \"deathIncrease\": 893.0, \"positiveRate\": 0.048, \"state\": \"US\", \"sma7d\": 0.045}, {\"date\": \"2020-10-10T00:00:00\", \"totalTestResultsIncrease\": 1234429.0, \"positiveIncrease\": 57492.0, \"death\": 206135.0, \"deathIncrease\": 665.0, \"positiveRate\": 0.047, \"state\": \"US\", \"sma7d\": 0.045}, {\"date\": \"2020-10-11T00:00:00\", \"totalTestResultsIncrease\": 1078709.0, \"positiveIncrease\": 46790.0, \"death\": 206601.0, \"deathIncrease\": 466.0, \"positiveRate\": 0.043, \"state\": \"US\", \"sma7d\": 0.046}, {\"date\": \"2020-10-12T00:00:00\", \"totalTestResultsIncrease\": 1062763.0, \"positiveIncrease\": 43110.0, \"death\": 206888.0, \"deathIncrease\": 287.0, \"positiveRate\": 0.041, \"state\": \"US\", \"sma7d\": 0.046}, {\"date\": \"2020-10-13T00:00:00\", \"totalTestResultsIncrease\": 1033365.0, \"positiveIncrease\": 48319.0, \"death\": 207578.0, \"deathIncrease\": 690.0, \"positiveRate\": 0.047, \"state\": \"US\", \"sma7d\": 0.047}, {\"date\": \"2020-10-14T00:00:00\", \"totalTestResultsIncrease\": 1030451.0, \"positiveIncrease\": 56722.0, \"death\": 208389.0, \"deathIncrease\": 811.0, \"positiveRate\": 0.055, \"state\": \"US\", \"sma7d\": 0.047}, {\"date\": \"2020-10-15T00:00:00\", \"totalTestResultsIncrease\": 1083256.0, \"positiveIncrease\": 63102.0, \"death\": 209340.0, \"deathIncrease\": 951.0, \"positiveRate\": 0.058, \"state\": \"US\", \"sma7d\": 0.048}, {\"date\": \"2020-10-16T00:00:00\", \"totalTestResultsIncrease\": 1215469.0, \"positiveIncrease\": 68040.0, \"death\": 210217.0, \"deathIncrease\": 877.0, \"positiveRate\": 0.056, \"state\": \"US\", \"sma7d\": 0.05}, {\"date\": \"2020-10-17T00:00:00\", \"totalTestResultsIncrease\": 1286951.0, \"positiveIncrease\": 57867.0, \"death\": 210997.0, \"deathIncrease\": 780.0, \"positiveRate\": 0.045, \"state\": \"US\", \"sma7d\": 0.049}, {\"date\": \"2020-10-18T00:00:00\", \"totalTestResultsIncrease\": 1052687.0, \"positiveIncrease\": 48857.0, \"death\": 211390.0, \"deathIncrease\": 393.0, \"positiveRate\": 0.046, \"state\": \"US\", \"sma7d\": 0.05}, {\"date\": \"2020-10-19T00:00:00\", \"totalTestResultsIncrease\": 1129603.0, \"positiveIncrease\": 57132.0, \"death\": 211846.0, \"deathIncrease\": 456.0, \"positiveRate\": 0.051, \"state\": \"US\", \"sma7d\": 0.051}, {\"date\": \"2020-10-20T00:00:00\", \"totalTestResultsIncrease\": 944558.0, \"positiveIncrease\": 60558.0, \"death\": 212678.0, \"deathIncrease\": 832.0, \"positiveRate\": 0.064, \"state\": \"US\", \"sma7d\": 0.054}, {\"date\": \"2020-10-21T00:00:00\", \"totalTestResultsIncrease\": 924353.0, \"positiveIncrease\": 60712.0, \"death\": 213702.0, \"deathIncrease\": 1024.0, \"positiveRate\": 0.066, \"state\": \"US\", \"sma7d\": 0.055}, {\"date\": \"2020-10-22T00:00:00\", \"totalTestResultsIncrease\": 1203879.0, \"positiveIncrease\": 73007.0, \"death\": 214845.0, \"deathIncrease\": 1143.0, \"positiveRate\": 0.061, \"state\": \"US\", \"sma7d\": 0.056}, {\"date\": \"2020-10-23T00:00:00\", \"totalTestResultsIncrease\": 1370568.0, \"positiveIncrease\": 83057.0, \"death\": 215762.0, \"deathIncrease\": 917.0, \"positiveRate\": 0.061, \"state\": \"US\", \"sma7d\": 0.056}, {\"date\": \"2020-10-24T00:00:00\", \"totalTestResultsIncrease\": 1302888.0, \"positiveIncrease\": 82925.0, \"death\": 216652.0, \"deathIncrease\": 890.0, \"positiveRate\": 0.064, \"state\": \"US\", \"sma7d\": 0.059}, {\"date\": \"2020-10-25T00:00:00\", \"totalTestResultsIncrease\": 1184402.0, \"positiveIncrease\": 65650.0, \"death\": 217029.0, \"deathIncrease\": 377.0, \"positiveRate\": 0.055, \"state\": \"US\", \"sma7d\": 0.06}, {\"date\": \"2020-10-26T00:00:00\", \"totalTestResultsIncrease\": 1195266.0, \"positiveIncrease\": 62274.0, \"death\": 217418.0, \"deathIncrease\": 389.0, \"positiveRate\": 0.052, \"state\": \"US\", \"sma7d\": 0.06}, {\"date\": \"2020-10-27T00:00:00\", \"totalTestResultsIncrease\": 1070225.0, \"positiveIncrease\": 73096.0, \"death\": 218349.0, \"deathIncrease\": 931.0, \"positiveRate\": 0.068, \"state\": \"US\", \"sma7d\": 0.061}, {\"date\": \"2020-10-28T00:00:00\", \"totalTestResultsIncrease\": 1071058.0, \"positiveIncrease\": 78304.0, \"death\": 219303.0, \"deathIncrease\": 1024.0, \"positiveRate\": 0.073, \"state\": \"US\", \"sma7d\": 0.062}]}}, {\"mode\": \"vega-lite\"});\n",
       "</script>"
      ],
      "text/plain": [
       "alt.LayerChart(...)"
      ]
     },
     "execution_count": 8,
     "metadata": {},
     "output_type": "execute_result"
    }
   ],
   "source": [
    "create_plot(us, 'positiveRate')"
   ]
  },
  {
   "cell_type": "code",
   "execution_count": 9,
   "metadata": {
    "execution": {
     "iopub.execute_input": "2020-10-29T22:33:18.470030Z",
     "iopub.status.busy": "2020-10-29T22:33:18.463668Z",
     "iopub.status.idle": "2020-10-29T22:33:18.556083Z",
     "shell.execute_reply": "2020-10-29T22:33:18.555087Z"
    },
    "papermill": {
     "duration": 0.112685,
     "end_time": "2020-10-29T22:33:18.556213",
     "exception": false,
     "start_time": "2020-10-29T22:33:18.443528",
     "status": "completed"
    },
    "tags": []
   },
   "outputs": [
    {
     "data": {
      "text/html": [
       "\n",
       "<div id=\"altair-viz-a8716513b2444f43994bfef8de672067\"></div>\n",
       "<script type=\"text/javascript\">\n",
       "  (function(spec, embedOpt){\n",
       "    let outputDiv = document.currentScript.previousElementSibling;\n",
       "    if (outputDiv.id !== \"altair-viz-a8716513b2444f43994bfef8de672067\") {\n",
       "      outputDiv = document.getElementById(\"altair-viz-a8716513b2444f43994bfef8de672067\");\n",
       "    }\n",
       "    const paths = {\n",
       "      \"vega\": \"https://cdn.jsdelivr.net/npm//vega@5?noext\",\n",
       "      \"vega-lib\": \"https://cdn.jsdelivr.net/npm//vega-lib?noext\",\n",
       "      \"vega-lite\": \"https://cdn.jsdelivr.net/npm//vega-lite@4.8.1?noext\",\n",
       "      \"vega-embed\": \"https://cdn.jsdelivr.net/npm//vega-embed@6?noext\",\n",
       "    };\n",
       "\n",
       "    function loadScript(lib) {\n",
       "      return new Promise(function(resolve, reject) {\n",
       "        var s = document.createElement('script');\n",
       "        s.src = paths[lib];\n",
       "        s.async = true;\n",
       "        s.onload = () => resolve(paths[lib]);\n",
       "        s.onerror = () => reject(`Error loading script: ${paths[lib]}`);\n",
       "        document.getElementsByTagName(\"head\")[0].appendChild(s);\n",
       "      });\n",
       "    }\n",
       "\n",
       "    function showError(err) {\n",
       "      outputDiv.innerHTML = `<div class=\"error\" style=\"color:red;\">${err}</div>`;\n",
       "      throw err;\n",
       "    }\n",
       "\n",
       "    function displayChart(vegaEmbed) {\n",
       "      vegaEmbed(outputDiv, spec, embedOpt)\n",
       "        .catch(err => showError(`Javascript Error: ${err.message}<br>This usually means there's a typo in your chart specification. See the javascript console for the full traceback.`));\n",
       "    }\n",
       "\n",
       "    if(typeof define === \"function\" && define.amd) {\n",
       "      requirejs.config({paths});\n",
       "      require([\"vega-embed\"], displayChart, err => showError(`Error loading script: ${err.message}`));\n",
       "    } else if (typeof vegaEmbed === \"function\") {\n",
       "      displayChart(vegaEmbed);\n",
       "    } else {\n",
       "      loadScript(\"vega\")\n",
       "        .then(() => loadScript(\"vega-lite\"))\n",
       "        .then(() => loadScript(\"vega-embed\"))\n",
       "        .catch(showError)\n",
       "        .then(() => displayChart(vegaEmbed));\n",
       "    }\n",
       "  })({\"config\": {\"view\": {\"continuousWidth\": 400, \"continuousHeight\": 300}}, \"layer\": [{\"layer\": [{\"mark\": {\"type\": \"point\", \"size\": 75}, \"encoding\": {\"tooltip\": [{\"type\": \"temporal\", \"field\": \"date\"}, {\"type\": \"quantitative\", \"field\": \"deathIncrease\"}, {\"type\": \"quantitative\", \"field\": \"sma7d\"}], \"x\": {\"type\": \"temporal\", \"field\": \"date\"}, \"y\": {\"type\": \"quantitative\", \"field\": \"deathIncrease\"}}, \"selection\": {\"selector006\": {\"type\": \"interval\", \"bind\": \"scales\", \"encodings\": [\"x\", \"y\"]}}}, {\"mark\": {\"type\": \"line\", \"color\": \"purple\"}, \"encoding\": {\"x\": {\"type\": \"temporal\", \"field\": \"date\"}, \"y\": {\"type\": \"quantitative\", \"field\": \"sma7d\"}}}]}, {\"mark\": {\"type\": \"rule\", \"color\": \"#aaa\"}, \"encoding\": {\"x\": {\"type\": \"temporal\", \"field\": \"date\"}}, \"transform\": [{\"filter\": {\"selection\": \"selector005\"}}]}, {\"mark\": \"circle\", \"encoding\": {\"opacity\": {\"condition\": {\"value\": 1, \"selection\": \"selector005\"}, \"value\": 0}, \"tooltip\": [{\"type\": \"temporal\", \"field\": \"date\"}, {\"type\": \"quantitative\", \"field\": \"deathIncrease\"}, {\"type\": \"quantitative\", \"field\": \"sma7d\"}], \"x\": {\"type\": \"temporal\", \"field\": \"date\"}, \"y\": {\"type\": \"quantitative\", \"field\": \"deathIncrease\"}}, \"selection\": {\"selector005\": {\"type\": \"single\", \"encodings\": [\"x\"], \"on\": \"mouseover\", \"nearest\": true, \"empty\": \"none\"}}}, {\"mark\": {\"type\": \"text\", \"align\": \"left\", \"dx\": 5, \"dy\": -5, \"stroke\": \"white\", \"strokeWidth\": 2}, \"encoding\": {\"text\": {\"type\": \"quantitative\", \"field\": \"deathIncrease\"}, \"tooltip\": [{\"type\": \"temporal\", \"field\": \"date\"}, {\"type\": \"quantitative\", \"field\": \"deathIncrease\"}, {\"type\": \"quantitative\", \"field\": \"sma7d\"}], \"x\": {\"type\": \"temporal\", \"field\": \"date\"}, \"y\": {\"type\": \"quantitative\", \"field\": \"deathIncrease\"}}, \"transform\": [{\"filter\": {\"selection\": \"selector005\"}}]}, {\"mark\": {\"type\": \"text\", \"align\": \"left\", \"dx\": 5, \"dy\": -5}, \"encoding\": {\"text\": {\"type\": \"quantitative\", \"field\": \"deathIncrease\"}, \"tooltip\": [{\"type\": \"temporal\", \"field\": \"date\"}, {\"type\": \"quantitative\", \"field\": \"deathIncrease\"}, {\"type\": \"quantitative\", \"field\": \"sma7d\"}], \"x\": {\"type\": \"temporal\", \"field\": \"date\"}, \"y\": {\"type\": \"quantitative\", \"field\": \"deathIncrease\"}}, \"transform\": [{\"filter\": {\"selection\": \"selector005\"}}]}], \"data\": {\"name\": \"data-92dba42878e5fd3775816cf8ee6c15c0\"}, \"height\": 400, \"title\": \"US: deathIncrease\", \"width\": 500, \"$schema\": \"https://vega.github.io/schema/vega-lite/v4.8.1.json\", \"datasets\": {\"data-92dba42878e5fd3775816cf8ee6c15c0\": [{\"date\": \"2020-09-04T00:00:00\", \"totalTestResultsIncrease\": 1035446.0, \"positiveIncrease\": 51540.0, \"death\": 179739.0, \"deathIncrease\": 998.0, \"positiveRate\": 0.05, \"state\": \"US\", \"sma7d\": 854.714}, {\"date\": \"2020-09-05T00:00:00\", \"totalTestResultsIncrease\": 962654.0, \"positiveIncrease\": 44842.0, \"death\": 180657.0, \"deathIncrease\": 918.0, \"positiveRate\": 0.047, \"state\": \"US\", \"sma7d\": 840.857}, {\"date\": \"2020-09-06T00:00:00\", \"totalTestResultsIncrease\": 832840.0, \"positiveIncrease\": 33066.0, \"death\": 181106.0, \"deathIncrease\": 449.0, \"positiveRate\": 0.04, \"state\": \"US\", \"sma7d\": 837.143}, {\"date\": \"2020-09-07T00:00:00\", \"totalTestResultsIncrease\": 663967.0, \"positiveIncrease\": 28656.0, \"death\": 181331.0, \"deathIncrease\": 225.0, \"positiveRate\": 0.043, \"state\": \"US\", \"sma7d\": 817.0}, {\"date\": \"2020-09-08T00:00:00\", \"totalTestResultsIncrease\": 581559.0, \"positiveIncrease\": 22197.0, \"death\": 181689.0, \"deathIncrease\": 358.0, \"positiveRate\": 0.038, \"state\": \"US\", \"sma7d\": 721.429}, {\"date\": \"2020-09-09T00:00:00\", \"totalTestResultsIncrease\": 688996.0, \"positiveIncrease\": 31064.0, \"death\": 182773.0, \"deathIncrease\": 1084.0, \"positiveRate\": 0.045, \"state\": \"US\", \"sma7d\": 728.857}, {\"date\": \"2020-09-10T00:00:00\", \"totalTestResultsIncrease\": 773049.0, \"positiveIncrease\": 37535.0, \"death\": 183943.0, \"deathIncrease\": 1170.0, \"positiveRate\": 0.049, \"state\": \"US\", \"sma7d\": 743.143}, {\"date\": \"2020-09-11T00:00:00\", \"totalTestResultsIncrease\": 916610.0, \"positiveIncrease\": 44881.0, \"death\": 184961.0, \"deathIncrease\": 1018.0, \"positiveRate\": 0.049, \"state\": \"US\", \"sma7d\": 746.0}, {\"date\": \"2020-09-12T00:00:00\", \"totalTestResultsIncrease\": 989697.0, \"positiveIncrease\": 42068.0, \"death\": 185771.0, \"deathIncrease\": 810.0, \"positiveRate\": 0.043, \"state\": \"US\", \"sma7d\": 730.571}, {\"date\": \"2020-09-13T00:00:00\", \"totalTestResultsIncrease\": 772046.0, \"positiveIncrease\": 34425.0, \"death\": 186161.0, \"deathIncrease\": 390.0, \"positiveRate\": 0.045, \"state\": \"US\", \"sma7d\": 722.143}, {\"date\": \"2020-09-14T00:00:00\", \"totalTestResultsIncrease\": 500928.0, \"positiveIncrease\": 33846.0, \"death\": 186565.0, \"deathIncrease\": 404.0, \"positiveRate\": 0.068, \"state\": \"US\", \"sma7d\": 747.714}, {\"date\": \"2020-09-15T00:00:00\", \"totalTestResultsIncrease\": 804619.0, \"positiveIncrease\": 35072.0, \"death\": 187596.0, \"deathIncrease\": 1031.0, \"positiveRate\": 0.044, \"state\": \"US\", \"sma7d\": 843.857}, {\"date\": \"2020-09-16T00:00:00\", \"totalTestResultsIncrease\": 819363.0, \"positiveIncrease\": 39954.0, \"death\": 188796.0, \"deathIncrease\": 1200.0, \"positiveRate\": 0.049, \"state\": \"US\", \"sma7d\": 860.429}, {\"date\": \"2020-09-17T00:00:00\", \"totalTestResultsIncrease\": 957418.0, \"positiveIncrease\": 43576.0, \"death\": 189659.0, \"deathIncrease\": 863.0, \"positiveRate\": 0.046, \"state\": \"US\", \"sma7d\": 816.571}, {\"date\": \"2020-09-18T00:00:00\", \"totalTestResultsIncrease\": 1087475.0, \"positiveIncrease\": 47459.0, \"death\": 190560.0, \"deathIncrease\": 901.0, \"positiveRate\": 0.044, \"state\": \"US\", \"sma7d\": 799.857}, {\"date\": \"2020-09-19T00:00:00\", \"totalTestResultsIncrease\": 1171544.0, \"positiveIncrease\": 45501.0, \"death\": 191300.0, \"deathIncrease\": 740.0, \"positiveRate\": 0.039, \"state\": \"US\", \"sma7d\": 789.857}, {\"date\": \"2020-09-20T00:00:00\", \"totalTestResultsIncrease\": 978646.0, \"positiveIncrease\": 36271.0, \"death\": 191627.0, \"deathIncrease\": 327.0, \"positiveRate\": 0.037, \"state\": \"US\", \"sma7d\": 780.857}, {\"date\": \"2020-09-21T00:00:00\", \"totalTestResultsIncrease\": 773727.0, \"positiveIncrease\": 39458.0, \"death\": 191914.0, \"deathIncrease\": 287.0, \"positiveRate\": 0.051, \"state\": \"US\", \"sma7d\": 764.143}, {\"date\": \"2020-09-22T00:00:00\", \"totalTestResultsIncrease\": 843224.0, \"positiveIncrease\": 49383.0, \"death\": 192768.0, \"deathIncrease\": 854.0, \"positiveRate\": 0.059, \"state\": \"US\", \"sma7d\": 738.857}, {\"date\": \"2020-09-23T00:00:00\", \"totalTestResultsIncrease\": 1001961.0, \"positiveIncrease\": 38571.0, \"death\": 193927.0, \"deathIncrease\": 1159.0, \"positiveRate\": 0.038, \"state\": \"US\", \"sma7d\": 733.0}, {\"date\": \"2020-09-24T00:00:00\", \"totalTestResultsIncrease\": 1031520.0, \"positiveIncrease\": 43708.0, \"death\": 194848.0, \"deathIncrease\": 921.0, \"positiveRate\": 0.042, \"state\": \"US\", \"sma7d\": 741.286}, {\"date\": \"2020-09-25T00:00:00\", \"totalTestResultsIncrease\": 1109569.0, \"positiveIncrease\": 55488.0, \"death\": 195692.0, \"deathIncrease\": 844.0, \"positiveRate\": 0.05, \"state\": \"US\", \"sma7d\": 733.143}, {\"date\": \"2020-09-26T00:00:00\", \"totalTestResultsIncrease\": 1118563.0, \"positiveIncrease\": 47792.0, \"death\": 196561.0, \"deathIncrease\": 869.0, \"positiveRate\": 0.043, \"state\": \"US\", \"sma7d\": 751.571}, {\"date\": \"2020-09-27T00:00:00\", \"totalTestResultsIncrease\": 903974.0, \"positiveIncrease\": 35419.0, \"death\": 196868.0, \"deathIncrease\": 307.0, \"positiveRate\": 0.039, \"state\": \"US\", \"sma7d\": 748.714}, {\"date\": \"2020-09-28T00:00:00\", \"totalTestResultsIncrease\": 1164034.0, \"positiveIncrease\": 36514.0, \"death\": 197125.0, \"deathIncrease\": 257.0, \"positiveRate\": 0.031, \"state\": \"US\", \"sma7d\": 744.429}, {\"date\": \"2020-09-29T00:00:00\", \"totalTestResultsIncrease\": 910636.0, \"positiveIncrease\": 36890.0, \"death\": 197864.0, \"deathIncrease\": 739.0, \"positiveRate\": 0.041, \"state\": \"US\", \"sma7d\": 728.0}, {\"date\": \"2020-09-30T00:00:00\", \"totalTestResultsIncrease\": 893667.0, \"positiveIncrease\": 44356.0, \"death\": 198925.0, \"deathIncrease\": 1061.0, \"positiveRate\": 0.05, \"state\": \"US\", \"sma7d\": 714.0}, {\"date\": \"2020-10-01T00:00:00\", \"totalTestResultsIncrease\": 992705.0, \"positiveIncrease\": 45617.0, \"death\": 199776.0, \"deathIncrease\": 851.0, \"positiveRate\": 0.046, \"state\": \"US\", \"sma7d\": 704.0}, {\"date\": \"2020-10-02T00:00:00\", \"totalTestResultsIncrease\": 1233160.0, \"positiveIncrease\": 49484.0, \"death\": 200611.0, \"deathIncrease\": 835.0, \"positiveRate\": 0.04, \"state\": \"US\", \"sma7d\": 702.714}, {\"date\": \"2020-10-03T00:00:00\", \"totalTestResultsIncrease\": 1092300.0, \"positiveIncrease\": 51338.0, \"death\": 201352.0, \"deathIncrease\": 741.0, \"positiveRate\": 0.047, \"state\": \"US\", \"sma7d\": 684.429}, {\"date\": \"2020-10-04T00:00:00\", \"totalTestResultsIncrease\": 1025580.0, \"positiveIncrease\": 38357.0, \"death\": 201715.0, \"deathIncrease\": 363.0, \"positiveRate\": 0.037, \"state\": \"US\", \"sma7d\": 692.429}, {\"date\": \"2020-10-05T00:00:00\", \"totalTestResultsIncrease\": 989527.0, \"positiveIncrease\": 38124.0, \"death\": 202041.0, \"deathIncrease\": 326.0, \"positiveRate\": 0.039, \"state\": \"US\", \"sma7d\": 702.286}, {\"date\": \"2020-10-06T00:00:00\", \"totalTestResultsIncrease\": 897747.0, \"positiveIncrease\": 38611.0, \"death\": 202675.0, \"deathIncrease\": 634.0, \"positiveRate\": 0.043, \"state\": \"US\", \"sma7d\": 687.286}, {\"date\": \"2020-10-07T00:00:00\", \"totalTestResultsIncrease\": 957814.0, \"positiveIncrease\": 50564.0, \"death\": 203591.0, \"deathIncrease\": 916.0, \"positiveRate\": 0.053, \"state\": \"US\", \"sma7d\": 666.571}, {\"date\": \"2020-10-08T00:00:00\", \"totalTestResultsIncrease\": 1136788.0, \"positiveIncrease\": 55292.0, \"death\": 204577.0, \"deathIncrease\": 986.0, \"positiveRate\": 0.049, \"state\": \"US\", \"sma7d\": 685.857}, {\"date\": \"2020-10-09T00:00:00\", \"totalTestResultsIncrease\": 1193609.0, \"positiveIncrease\": 57005.0, \"death\": 205470.0, \"deathIncrease\": 893.0, \"positiveRate\": 0.048, \"state\": \"US\", \"sma7d\": 694.143}, {\"date\": \"2020-10-10T00:00:00\", \"totalTestResultsIncrease\": 1234429.0, \"positiveIncrease\": 57492.0, \"death\": 206135.0, \"deathIncrease\": 665.0, \"positiveRate\": 0.047, \"state\": \"US\", \"sma7d\": 683.286}, {\"date\": \"2020-10-11T00:00:00\", \"totalTestResultsIncrease\": 1078709.0, \"positiveIncrease\": 46790.0, \"death\": 206601.0, \"deathIncrease\": 466.0, \"positiveRate\": 0.043, \"state\": \"US\", \"sma7d\": 698.0}, {\"date\": \"2020-10-12T00:00:00\", \"totalTestResultsIncrease\": 1062763.0, \"positiveIncrease\": 43110.0, \"death\": 206888.0, \"deathIncrease\": 287.0, \"positiveRate\": 0.041, \"state\": \"US\", \"sma7d\": 692.429}, {\"date\": \"2020-10-13T00:00:00\", \"totalTestResultsIncrease\": 1033365.0, \"positiveIncrease\": 48319.0, \"death\": 207578.0, \"deathIncrease\": 690.0, \"positiveRate\": 0.047, \"state\": \"US\", \"sma7d\": 700.429}, {\"date\": \"2020-10-14T00:00:00\", \"totalTestResultsIncrease\": 1030451.0, \"positiveIncrease\": 56722.0, \"death\": 208389.0, \"deathIncrease\": 811.0, \"positiveRate\": 0.055, \"state\": \"US\", \"sma7d\": 685.429}, {\"date\": \"2020-10-15T00:00:00\", \"totalTestResultsIncrease\": 1083256.0, \"positiveIncrease\": 63102.0, \"death\": 209340.0, \"deathIncrease\": 951.0, \"positiveRate\": 0.058, \"state\": \"US\", \"sma7d\": 680.429}, {\"date\": \"2020-10-16T00:00:00\", \"totalTestResultsIncrease\": 1215469.0, \"positiveIncrease\": 68040.0, \"death\": 210217.0, \"deathIncrease\": 877.0, \"positiveRate\": 0.056, \"state\": \"US\", \"sma7d\": 678.143}, {\"date\": \"2020-10-17T00:00:00\", \"totalTestResultsIncrease\": 1286951.0, \"positiveIncrease\": 57867.0, \"death\": 210997.0, \"deathIncrease\": 780.0, \"positiveRate\": 0.045, \"state\": \"US\", \"sma7d\": 694.571}, {\"date\": \"2020-10-18T00:00:00\", \"totalTestResultsIncrease\": 1052687.0, \"positiveIncrease\": 48857.0, \"death\": 211390.0, \"deathIncrease\": 393.0, \"positiveRate\": 0.046, \"state\": \"US\", \"sma7d\": 684.143}, {\"date\": \"2020-10-19T00:00:00\", \"totalTestResultsIncrease\": 1129603.0, \"positiveIncrease\": 57132.0, \"death\": 211846.0, \"deathIncrease\": 456.0, \"positiveRate\": 0.051, \"state\": \"US\", \"sma7d\": 708.286}, {\"date\": \"2020-10-20T00:00:00\", \"totalTestResultsIncrease\": 944558.0, \"positiveIncrease\": 60558.0, \"death\": 212678.0, \"deathIncrease\": 832.0, \"positiveRate\": 0.064, \"state\": \"US\", \"sma7d\": 728.571}, {\"date\": \"2020-10-21T00:00:00\", \"totalTestResultsIncrease\": 924353.0, \"positiveIncrease\": 60712.0, \"death\": 213702.0, \"deathIncrease\": 1024.0, \"positiveRate\": 0.066, \"state\": \"US\", \"sma7d\": 759.0}, {\"date\": \"2020-10-22T00:00:00\", \"totalTestResultsIncrease\": 1203879.0, \"positiveIncrease\": 73007.0, \"death\": 214845.0, \"deathIncrease\": 1143.0, \"positiveRate\": 0.061, \"state\": \"US\", \"sma7d\": 786.429}, {\"date\": \"2020-10-23T00:00:00\", \"totalTestResultsIncrease\": 1370568.0, \"positiveIncrease\": 83057.0, \"death\": 215762.0, \"deathIncrease\": 917.0, \"positiveRate\": 0.061, \"state\": \"US\", \"sma7d\": 792.143}, {\"date\": \"2020-10-24T00:00:00\", \"totalTestResultsIncrease\": 1302888.0, \"positiveIncrease\": 82925.0, \"death\": 216652.0, \"deathIncrease\": 890.0, \"positiveRate\": 0.064, \"state\": \"US\", \"sma7d\": 807.857}, {\"date\": \"2020-10-25T00:00:00\", \"totalTestResultsIncrease\": 1184402.0, \"positiveIncrease\": 65650.0, \"death\": 217029.0, \"deathIncrease\": 377.0, \"positiveRate\": 0.055, \"state\": \"US\", \"sma7d\": 805.571}, {\"date\": \"2020-10-26T00:00:00\", \"totalTestResultsIncrease\": 1195266.0, \"positiveIncrease\": 62274.0, \"death\": 217418.0, \"deathIncrease\": 389.0, \"positiveRate\": 0.052, \"state\": \"US\", \"sma7d\": 796.0}, {\"date\": \"2020-10-27T00:00:00\", \"totalTestResultsIncrease\": 1070225.0, \"positiveIncrease\": 73096.0, \"death\": 218349.0, \"deathIncrease\": 931.0, \"positiveRate\": 0.068, \"state\": \"US\", \"sma7d\": 810.143}, {\"date\": \"2020-10-28T00:00:00\", \"totalTestResultsIncrease\": 1071058.0, \"positiveIncrease\": 78304.0, \"death\": 219303.0, \"deathIncrease\": 1024.0, \"positiveRate\": 0.073, \"state\": \"US\", \"sma7d\": 810.143}]}}, {\"mode\": \"vega-lite\"});\n",
       "</script>"
      ],
      "text/plain": [
       "alt.LayerChart(...)"
      ]
     },
     "execution_count": 9,
     "metadata": {},
     "output_type": "execute_result"
    }
   ],
   "source": [
    "create_plot(us, 'deathIncrease')"
   ]
  },
  {
   "cell_type": "markdown",
   "metadata": {
    "papermill": {
     "duration": 0.016449,
     "end_time": "2020-10-29T22:33:18.587204",
     "exception": false,
     "start_time": "2020-10-29T22:33:18.570755",
     "status": "completed"
    },
    "tags": []
   },
   "source": [
    "## NY"
   ]
  },
  {
   "cell_type": "code",
   "execution_count": 10,
   "metadata": {
    "execution": {
     "iopub.execute_input": "2020-10-29T22:33:18.620423Z",
     "iopub.status.busy": "2020-10-29T22:33:18.619788Z",
     "iopub.status.idle": "2020-10-29T22:33:18.875416Z",
     "shell.execute_reply": "2020-10-29T22:33:18.874800Z"
    },
    "papermill": {
     "duration": 0.273769,
     "end_time": "2020-10-29T22:33:18.875568",
     "exception": false,
     "start_time": "2020-10-29T22:33:18.601799",
     "status": "completed"
    },
    "tags": []
   },
   "outputs": [],
   "source": [
    "ny = create_df(df, (lambda d: d['state'] == 'NY'), 'New York')"
   ]
  },
  {
   "cell_type": "code",
   "execution_count": 11,
   "metadata": {
    "execution": {
     "iopub.execute_input": "2020-10-29T22:33:18.924636Z",
     "iopub.status.busy": "2020-10-29T22:33:18.912475Z",
     "iopub.status.idle": "2020-10-29T22:33:19.003363Z",
     "shell.execute_reply": "2020-10-29T22:33:19.002788Z"
    },
    "papermill": {
     "duration": 0.112154,
     "end_time": "2020-10-29T22:33:19.003508",
     "exception": false,
     "start_time": "2020-10-29T22:33:18.891354",
     "status": "completed"
    },
    "tags": []
   },
   "outputs": [
    {
     "data": {
      "text/html": [
       "\n",
       "<div id=\"altair-viz-1670b93f270148d39d0c596059599206\"></div>\n",
       "<script type=\"text/javascript\">\n",
       "  (function(spec, embedOpt){\n",
       "    let outputDiv = document.currentScript.previousElementSibling;\n",
       "    if (outputDiv.id !== \"altair-viz-1670b93f270148d39d0c596059599206\") {\n",
       "      outputDiv = document.getElementById(\"altair-viz-1670b93f270148d39d0c596059599206\");\n",
       "    }\n",
       "    const paths = {\n",
       "      \"vega\": \"https://cdn.jsdelivr.net/npm//vega@5?noext\",\n",
       "      \"vega-lib\": \"https://cdn.jsdelivr.net/npm//vega-lib?noext\",\n",
       "      \"vega-lite\": \"https://cdn.jsdelivr.net/npm//vega-lite@4.8.1?noext\",\n",
       "      \"vega-embed\": \"https://cdn.jsdelivr.net/npm//vega-embed@6?noext\",\n",
       "    };\n",
       "\n",
       "    function loadScript(lib) {\n",
       "      return new Promise(function(resolve, reject) {\n",
       "        var s = document.createElement('script');\n",
       "        s.src = paths[lib];\n",
       "        s.async = true;\n",
       "        s.onload = () => resolve(paths[lib]);\n",
       "        s.onerror = () => reject(`Error loading script: ${paths[lib]}`);\n",
       "        document.getElementsByTagName(\"head\")[0].appendChild(s);\n",
       "      });\n",
       "    }\n",
       "\n",
       "    function showError(err) {\n",
       "      outputDiv.innerHTML = `<div class=\"error\" style=\"color:red;\">${err}</div>`;\n",
       "      throw err;\n",
       "    }\n",
       "\n",
       "    function displayChart(vegaEmbed) {\n",
       "      vegaEmbed(outputDiv, spec, embedOpt)\n",
       "        .catch(err => showError(`Javascript Error: ${err.message}<br>This usually means there's a typo in your chart specification. See the javascript console for the full traceback.`));\n",
       "    }\n",
       "\n",
       "    if(typeof define === \"function\" && define.amd) {\n",
       "      requirejs.config({paths});\n",
       "      require([\"vega-embed\"], displayChart, err => showError(`Error loading script: ${err.message}`));\n",
       "    } else if (typeof vegaEmbed === \"function\") {\n",
       "      displayChart(vegaEmbed);\n",
       "    } else {\n",
       "      loadScript(\"vega\")\n",
       "        .then(() => loadScript(\"vega-lite\"))\n",
       "        .then(() => loadScript(\"vega-embed\"))\n",
       "        .catch(showError)\n",
       "        .then(() => displayChart(vegaEmbed));\n",
       "    }\n",
       "  })({\"config\": {\"view\": {\"continuousWidth\": 400, \"continuousHeight\": 300}}, \"layer\": [{\"layer\": [{\"mark\": {\"type\": \"point\", \"size\": 75}, \"encoding\": {\"tooltip\": [{\"type\": \"temporal\", \"field\": \"date\"}, {\"type\": \"quantitative\", \"field\": \"positiveIncrease\"}, {\"type\": \"quantitative\", \"field\": \"sma7d\"}], \"x\": {\"type\": \"temporal\", \"field\": \"date\"}, \"y\": {\"type\": \"quantitative\", \"field\": \"positiveIncrease\"}}, \"selection\": {\"selector008\": {\"type\": \"interval\", \"bind\": \"scales\", \"encodings\": [\"x\", \"y\"]}}}, {\"mark\": {\"type\": \"line\", \"color\": \"purple\"}, \"encoding\": {\"x\": {\"type\": \"temporal\", \"field\": \"date\"}, \"y\": {\"type\": \"quantitative\", \"field\": \"sma7d\"}}}]}, {\"mark\": {\"type\": \"rule\", \"color\": \"#aaa\"}, \"encoding\": {\"x\": {\"type\": \"temporal\", \"field\": \"date\"}}, \"transform\": [{\"filter\": {\"selection\": \"selector007\"}}]}, {\"mark\": \"circle\", \"encoding\": {\"opacity\": {\"condition\": {\"value\": 1, \"selection\": \"selector007\"}, \"value\": 0}, \"tooltip\": [{\"type\": \"temporal\", \"field\": \"date\"}, {\"type\": \"quantitative\", \"field\": \"positiveIncrease\"}, {\"type\": \"quantitative\", \"field\": \"sma7d\"}], \"x\": {\"type\": \"temporal\", \"field\": \"date\"}, \"y\": {\"type\": \"quantitative\", \"field\": \"positiveIncrease\"}}, \"selection\": {\"selector007\": {\"type\": \"single\", \"encodings\": [\"x\"], \"on\": \"mouseover\", \"nearest\": true, \"empty\": \"none\"}}}, {\"mark\": {\"type\": \"text\", \"align\": \"left\", \"dx\": 5, \"dy\": -5, \"stroke\": \"white\", \"strokeWidth\": 2}, \"encoding\": {\"text\": {\"type\": \"quantitative\", \"field\": \"positiveIncrease\"}, \"tooltip\": [{\"type\": \"temporal\", \"field\": \"date\"}, {\"type\": \"quantitative\", \"field\": \"positiveIncrease\"}, {\"type\": \"quantitative\", \"field\": \"sma7d\"}], \"x\": {\"type\": \"temporal\", \"field\": \"date\"}, \"y\": {\"type\": \"quantitative\", \"field\": \"positiveIncrease\"}}, \"transform\": [{\"filter\": {\"selection\": \"selector007\"}}]}, {\"mark\": {\"type\": \"text\", \"align\": \"left\", \"dx\": 5, \"dy\": -5}, \"encoding\": {\"text\": {\"type\": \"quantitative\", \"field\": \"positiveIncrease\"}, \"tooltip\": [{\"type\": \"temporal\", \"field\": \"date\"}, {\"type\": \"quantitative\", \"field\": \"positiveIncrease\"}, {\"type\": \"quantitative\", \"field\": \"sma7d\"}], \"x\": {\"type\": \"temporal\", \"field\": \"date\"}, \"y\": {\"type\": \"quantitative\", \"field\": \"positiveIncrease\"}}, \"transform\": [{\"filter\": {\"selection\": \"selector007\"}}]}], \"data\": {\"name\": \"data-8ec32943792c57a6ae634c5e2a26dfc4\"}, \"height\": 400, \"title\": \"New York: positiveIncrease\", \"width\": 500, \"$schema\": \"https://vega.github.io/schema/vega-lite/v4.8.1.json\", \"datasets\": {\"data-8ec32943792c57a6ae634c5e2a26dfc4\": [{\"date\": \"2020-09-04T00:00:00\", \"totalTestResultsIncrease\": 93395.0, \"positiveIncrease\": 864.0, \"death\": 25348.0, \"deathIncrease\": 5.0, \"positiveRate\": 0.009, \"state\": \"New York\", \"sma7d\": 743.429}, {\"date\": \"2020-09-05T00:00:00\", \"totalTestResultsIncrease\": 99761.0, \"positiveIncrease\": 801.0, \"death\": 25350.0, \"deathIncrease\": 2.0, \"positiveRate\": 0.008, \"state\": \"New York\", \"sma7d\": 767.143}, {\"date\": \"2020-09-06T00:00:00\", \"totalTestResultsIncrease\": 85630.0, \"positiveIncrease\": 729.0, \"death\": 25359.0, \"deathIncrease\": 9.0, \"positiveRate\": 0.009, \"state\": \"New York\", \"sma7d\": 771.571}, {\"date\": \"2020-09-07T00:00:00\", \"totalTestResultsIncrease\": 58865.0, \"positiveIncrease\": 520.0, \"death\": 25361.0, \"deathIncrease\": 2.0, \"positiveRate\": 0.009, \"state\": \"New York\", \"sma7d\": 752.143}, {\"date\": \"2020-09-08T00:00:00\", \"totalTestResultsIncrease\": 57826.0, \"positiveIncrease\": 557.0, \"death\": 25367.0, \"deathIncrease\": 6.0, \"positiveRate\": 0.01, \"state\": \"New York\", \"sma7d\": 724.0}, {\"date\": \"2020-09-09T00:00:00\", \"totalTestResultsIncrease\": 63230.0, \"positiveIncrease\": 576.0, \"death\": 25370.0, \"deathIncrease\": 3.0, \"positiveRate\": 0.009, \"state\": \"New York\", \"sma7d\": 705.143}, {\"date\": \"2020-09-10T00:00:00\", \"totalTestResultsIncrease\": 76813.0, \"positiveIncrease\": 757.0, \"death\": 25377.0, \"deathIncrease\": 7.0, \"positiveRate\": 0.01, \"state\": \"New York\", \"sma7d\": 686.286}, {\"date\": \"2020-09-11T00:00:00\", \"totalTestResultsIncrease\": 89722.0, \"positiveIncrease\": 880.0, \"death\": 25382.0, \"deathIncrease\": 5.0, \"positiveRate\": 0.01, \"state\": \"New York\", \"sma7d\": 688.571}, {\"date\": \"2020-09-12T00:00:00\", \"totalTestResultsIncrease\": 102925.0, \"positiveIncrease\": 849.0, \"death\": 25384.0, \"deathIncrease\": 2.0, \"positiveRate\": 0.008, \"state\": \"New York\", \"sma7d\": 695.429}, {\"date\": \"2020-09-13T00:00:00\", \"totalTestResultsIncrease\": 72668.0, \"positiveIncrease\": 725.0, \"death\": 25390.0, \"deathIncrease\": 6.0, \"positiveRate\": 0.01, \"state\": \"New York\", \"sma7d\": 694.857}, {\"date\": \"2020-09-14T00:00:00\", \"totalTestResultsIncrease\": 63358.0, \"positiveIncrease\": 583.0, \"death\": 25394.0, \"deathIncrease\": 4.0, \"positiveRate\": 0.009, \"state\": \"New York\", \"sma7d\": 703.857}, {\"date\": \"2020-09-15T00:00:00\", \"totalTestResultsIncrease\": 73678.0, \"positiveIncrease\": 766.0, \"death\": 25405.0, \"deathIncrease\": 11.0, \"positiveRate\": 0.01, \"state\": \"New York\", \"sma7d\": 733.714}, {\"date\": \"2020-09-16T00:00:00\", \"totalTestResultsIncrease\": 75087.0, \"positiveIncrease\": 652.0, \"death\": 25410.0, \"deathIncrease\": 5.0, \"positiveRate\": 0.009, \"state\": \"New York\", \"sma7d\": 744.571}, {\"date\": \"2020-09-17T00:00:00\", \"totalTestResultsIncrease\": 91504.0, \"positiveIncrease\": 896.0, \"death\": 25413.0, \"deathIncrease\": 3.0, \"positiveRate\": 0.01, \"state\": \"New York\", \"sma7d\": 764.429}, {\"date\": \"2020-09-18T00:00:00\", \"totalTestResultsIncrease\": 89727.0, \"positiveIncrease\": 790.0, \"death\": 25423.0, \"deathIncrease\": 10.0, \"positiveRate\": 0.009, \"state\": \"New York\", \"sma7d\": 751.571}, {\"date\": \"2020-09-19T00:00:00\", \"totalTestResultsIncrease\": 110444.0, \"positiveIncrease\": 986.0, \"death\": 25425.0, \"deathIncrease\": 2.0, \"positiveRate\": 0.009, \"state\": \"New York\", \"sma7d\": 771.143}, {\"date\": \"2020-09-20T00:00:00\", \"totalTestResultsIncrease\": 100355.0, \"positiveIncrease\": 862.0, \"death\": 25427.0, \"deathIncrease\": 2.0, \"positiveRate\": 0.009, \"state\": \"New York\", \"sma7d\": 790.714}, {\"date\": \"2020-09-21T00:00:00\", \"totalTestResultsIncrease\": 58319.0, \"positiveIncrease\": 573.0, \"death\": 25428.0, \"deathIncrease\": 1.0, \"positiveRate\": 0.01, \"state\": \"New York\", \"sma7d\": 789.286}, {\"date\": \"2020-09-22T00:00:00\", \"totalTestResultsIncrease\": 83997.0, \"positiveIncrease\": 754.0, \"death\": 25432.0, \"deathIncrease\": 4.0, \"positiveRate\": 0.009, \"state\": \"New York\", \"sma7d\": 787.571}, {\"date\": \"2020-09-23T00:00:00\", \"totalTestResultsIncrease\": 70930.0, \"positiveIncrease\": 665.0, \"death\": 25437.0, \"deathIncrease\": 5.0, \"positiveRate\": 0.009, \"state\": \"New York\", \"sma7d\": 789.429}, {\"date\": \"2020-09-24T00:00:00\", \"totalTestResultsIncrease\": 92953.0, \"positiveIncrease\": 955.0, \"death\": 25439.0, \"deathIncrease\": 2.0, \"positiveRate\": 0.01, \"state\": \"New York\", \"sma7d\": 797.857}, {\"date\": \"2020-09-25T00:00:00\", \"totalTestResultsIncrease\": 94818.0, \"positiveIncrease\": 908.0, \"death\": 25446.0, \"deathIncrease\": 7.0, \"positiveRate\": 0.01, \"state\": \"New York\", \"sma7d\": 814.714}, {\"date\": \"2020-09-26T00:00:00\", \"totalTestResultsIncrease\": 99953.0, \"positiveIncrease\": 1005.0, \"death\": 25450.0, \"deathIncrease\": 4.0, \"positiveRate\": 0.01, \"state\": \"New York\", \"sma7d\": 817.429}, {\"date\": \"2020-09-27T00:00:00\", \"totalTestResultsIncrease\": 84770.0, \"positiveIncrease\": 866.0, \"death\": 25456.0, \"deathIncrease\": 6.0, \"positiveRate\": 0.01, \"state\": \"New York\", \"sma7d\": 818.0}, {\"date\": \"2020-09-28T00:00:00\", \"totalTestResultsIncrease\": 52936.0, \"positiveIncrease\": 834.0, \"death\": 25468.0, \"deathIncrease\": 12.0, \"positiveRate\": 0.016, \"state\": \"New York\", \"sma7d\": 855.286}, {\"date\": \"2020-09-29T00:00:00\", \"totalTestResultsIncrease\": 88231.0, \"positiveIncrease\": 1189.0, \"death\": 25470.0, \"deathIncrease\": 2.0, \"positiveRate\": 0.013, \"state\": \"New York\", \"sma7d\": 917.429}, {\"date\": \"2020-09-30T00:00:00\", \"totalTestResultsIncrease\": 97960.0, \"positiveIncrease\": 1000.0, \"death\": 25479.0, \"deathIncrease\": 9.0, \"positiveRate\": 0.01, \"state\": \"New York\", \"sma7d\": 965.286}, {\"date\": \"2020-10-01T00:00:00\", \"totalTestResultsIncrease\": 109218.0, \"positiveIncrease\": 1382.0, \"death\": 25490.0, \"deathIncrease\": 11.0, \"positiveRate\": 0.013, \"state\": \"New York\", \"sma7d\": 1026.286}, {\"date\": \"2020-10-02T00:00:00\", \"totalTestResultsIncrease\": 119493.0, \"positiveIncrease\": 1598.0, \"death\": 25497.0, \"deathIncrease\": 7.0, \"positiveRate\": 0.013, \"state\": \"New York\", \"sma7d\": 1124.857}, {\"date\": \"2020-10-03T00:00:00\", \"totalTestResultsIncrease\": 134267.0, \"positiveIncrease\": 1731.0, \"death\": 25505.0, \"deathIncrease\": 8.0, \"positiveRate\": 0.013, \"state\": \"New York\", \"sma7d\": 1228.571}, {\"date\": \"2020-10-04T00:00:00\", \"totalTestResultsIncrease\": 110329.0, \"positiveIncrease\": 1222.0, \"death\": 25519.0, \"deathIncrease\": 14.0, \"positiveRate\": 0.011, \"state\": \"New York\", \"sma7d\": 1279.429}, {\"date\": \"2020-10-05T00:00:00\", \"totalTestResultsIncrease\": 76404.0, \"positiveIncrease\": 933.0, \"death\": 25527.0, \"deathIncrease\": 8.0, \"positiveRate\": 0.012, \"state\": \"New York\", \"sma7d\": 1293.571}, {\"date\": \"2020-10-06T00:00:00\", \"totalTestResultsIncrease\": 96359.0, \"positiveIncrease\": 1393.0, \"death\": 25536.0, \"deathIncrease\": 9.0, \"positiveRate\": 0.014, \"state\": \"New York\", \"sma7d\": 1322.714}, {\"date\": \"2020-10-07T00:00:00\", \"totalTestResultsIncrease\": 108246.0, \"positiveIncrease\": 1360.0, \"death\": 25545.0, \"deathIncrease\": 9.0, \"positiveRate\": 0.013, \"state\": \"New York\", \"sma7d\": 1374.143}, {\"date\": \"2020-10-08T00:00:00\", \"totalTestResultsIncrease\": 145811.0, \"positiveIncrease\": 1836.0, \"death\": 25555.0, \"deathIncrease\": 10.0, \"positiveRate\": 0.013, \"state\": \"New York\", \"sma7d\": 1439.0}, {\"date\": \"2020-10-09T00:00:00\", \"totalTestResultsIncrease\": 139300.0, \"positiveIncrease\": 1592.0, \"death\": 25561.0, \"deathIncrease\": 6.0, \"positiveRate\": 0.011, \"state\": \"New York\", \"sma7d\": 1438.143}, {\"date\": \"2020-10-10T00:00:00\", \"totalTestResultsIncrease\": 134579.0, \"positiveIncrease\": 1447.0, \"death\": 25569.0, \"deathIncrease\": 8.0, \"positiveRate\": 0.011, \"state\": \"New York\", \"sma7d\": 1397.571}, {\"date\": \"2020-10-11T00:00:00\", \"totalTestResultsIncrease\": 118254.0, \"positiveIncrease\": 1143.0, \"death\": 25574.0, \"deathIncrease\": 5.0, \"positiveRate\": 0.01, \"state\": \"New York\", \"sma7d\": 1386.286}, {\"date\": \"2020-10-12T00:00:00\", \"totalTestResultsIncrease\": 91793.0, \"positiveIncrease\": 1029.0, \"death\": 25587.0, \"deathIncrease\": 13.0, \"positiveRate\": 0.011, \"state\": \"New York\", \"sma7d\": 1400.0}, {\"date\": \"2020-10-13T00:00:00\", \"totalTestResultsIncrease\": 99070.0, \"positiveIncrease\": 1393.0, \"death\": 25598.0, \"deathIncrease\": 11.0, \"positiveRate\": 0.014, \"state\": \"New York\", \"sma7d\": 1400.0}, {\"date\": \"2020-10-14T00:00:00\", \"totalTestResultsIncrease\": 111744.0, \"positiveIncrease\": 1232.0, \"death\": 25605.0, \"deathIncrease\": 7.0, \"positiveRate\": 0.011, \"state\": \"New York\", \"sma7d\": 1381.714}, {\"date\": \"2020-10-15T00:00:00\", \"totalTestResultsIncrease\": 133212.0, \"positiveIncrease\": 1460.0, \"death\": 25618.0, \"deathIncrease\": 13.0, \"positiveRate\": 0.011, \"state\": \"New York\", \"sma7d\": 1328.0}, {\"date\": \"2020-10-16T00:00:00\", \"totalTestResultsIncrease\": 136039.0, \"positiveIncrease\": 1707.0, \"death\": 25628.0, \"deathIncrease\": 10.0, \"positiveRate\": 0.013, \"state\": \"New York\", \"sma7d\": 1344.429}, {\"date\": \"2020-10-17T00:00:00\", \"totalTestResultsIncrease\": 159972.0, \"positiveIncrease\": 1784.0, \"death\": 25637.0, \"deathIncrease\": 9.0, \"positiveRate\": 0.011, \"state\": \"New York\", \"sma7d\": 1392.571}, {\"date\": \"2020-10-18T00:00:00\", \"totalTestResultsIncrease\": 128763.0, \"positiveIncrease\": 1390.0, \"death\": 25644.0, \"deathIncrease\": 7.0, \"positiveRate\": 0.011, \"state\": \"New York\", \"sma7d\": 1427.857}, {\"date\": \"2020-10-19T00:00:00\", \"totalTestResultsIncrease\": 82009.0, \"positiveIncrease\": 998.0, \"death\": 25659.0, \"deathIncrease\": 15.0, \"positiveRate\": 0.012, \"state\": \"New York\", \"sma7d\": 1423.429}, {\"date\": \"2020-10-20T00:00:00\", \"totalTestResultsIncrease\": 90540.0, \"positiveIncrease\": 1201.0, \"death\": 25672.0, \"deathIncrease\": 13.0, \"positiveRate\": 0.013, \"state\": \"New York\", \"sma7d\": 1396.0}, {\"date\": \"2020-10-21T00:00:00\", \"totalTestResultsIncrease\": 124789.0, \"positiveIncrease\": 2026.0, \"death\": 25679.0, \"deathIncrease\": 7.0, \"positiveRate\": 0.016, \"state\": \"New York\", \"sma7d\": 1509.429}, {\"date\": \"2020-10-22T00:00:00\", \"totalTestResultsIncrease\": 135341.0, \"positiveIncrease\": 1628.0, \"death\": 25694.0, \"deathIncrease\": 15.0, \"positiveRate\": 0.012, \"state\": \"New York\", \"sma7d\": 1533.429}, {\"date\": \"2020-10-23T00:00:00\", \"totalTestResultsIncrease\": 141508.0, \"positiveIncrease\": 1637.0, \"death\": 25705.0, \"deathIncrease\": 11.0, \"positiveRate\": 0.012, \"state\": \"New York\", \"sma7d\": 1523.429}, {\"date\": \"2020-10-24T00:00:00\", \"totalTestResultsIncrease\": 156940.0, \"positiveIncrease\": 2061.0, \"death\": 25718.0, \"deathIncrease\": 13.0, \"positiveRate\": 0.013, \"state\": \"New York\", \"sma7d\": 1563.0}, {\"date\": \"2020-10-25T00:00:00\", \"totalTestResultsIncrease\": 120830.0, \"positiveIncrease\": 1632.0, \"death\": 25730.0, \"deathIncrease\": 12.0, \"positiveRate\": 0.014, \"state\": \"New York\", \"sma7d\": 1597.571}, {\"date\": \"2020-10-26T00:00:00\", \"totalTestResultsIncrease\": 82117.0, \"positiveIncrease\": 1191.0, \"death\": 25742.0, \"deathIncrease\": 12.0, \"positiveRate\": 0.015, \"state\": \"New York\", \"sma7d\": 1625.143}, {\"date\": \"2020-10-27T00:00:00\", \"totalTestResultsIncrease\": 111618.0, \"positiveIncrease\": 1991.0, \"death\": 25758.0, \"deathIncrease\": 16.0, \"positiveRate\": 0.018, \"state\": \"New York\", \"sma7d\": 1738.0}, {\"date\": \"2020-10-28T00:00:00\", \"totalTestResultsIncrease\": 129660.0, \"positiveIncrease\": 2031.0, \"death\": 25773.0, \"deathIncrease\": 15.0, \"positiveRate\": 0.016, \"state\": \"New York\", \"sma7d\": 1738.714}]}}, {\"mode\": \"vega-lite\"});\n",
       "</script>"
      ],
      "text/plain": [
       "alt.LayerChart(...)"
      ]
     },
     "execution_count": 11,
     "metadata": {},
     "output_type": "execute_result"
    }
   ],
   "source": [
    "create_plot(ny, 'positiveIncrease')"
   ]
  },
  {
   "cell_type": "code",
   "execution_count": 12,
   "metadata": {
    "execution": {
     "iopub.execute_input": "2020-10-29T22:33:19.043426Z",
     "iopub.status.busy": "2020-10-29T22:33:19.042877Z",
     "iopub.status.idle": "2020-10-29T22:33:19.132843Z",
     "shell.execute_reply": "2020-10-29T22:33:19.132299Z"
    },
    "papermill": {
     "duration": 0.112862,
     "end_time": "2020-10-29T22:33:19.132998",
     "exception": false,
     "start_time": "2020-10-29T22:33:19.020136",
     "status": "completed"
    },
    "tags": []
   },
   "outputs": [
    {
     "data": {
      "text/html": [
       "\n",
       "<div id=\"altair-viz-1c21dd5fb934449aa604d4a4926f4fde\"></div>\n",
       "<script type=\"text/javascript\">\n",
       "  (function(spec, embedOpt){\n",
       "    let outputDiv = document.currentScript.previousElementSibling;\n",
       "    if (outputDiv.id !== \"altair-viz-1c21dd5fb934449aa604d4a4926f4fde\") {\n",
       "      outputDiv = document.getElementById(\"altair-viz-1c21dd5fb934449aa604d4a4926f4fde\");\n",
       "    }\n",
       "    const paths = {\n",
       "      \"vega\": \"https://cdn.jsdelivr.net/npm//vega@5?noext\",\n",
       "      \"vega-lib\": \"https://cdn.jsdelivr.net/npm//vega-lib?noext\",\n",
       "      \"vega-lite\": \"https://cdn.jsdelivr.net/npm//vega-lite@4.8.1?noext\",\n",
       "      \"vega-embed\": \"https://cdn.jsdelivr.net/npm//vega-embed@6?noext\",\n",
       "    };\n",
       "\n",
       "    function loadScript(lib) {\n",
       "      return new Promise(function(resolve, reject) {\n",
       "        var s = document.createElement('script');\n",
       "        s.src = paths[lib];\n",
       "        s.async = true;\n",
       "        s.onload = () => resolve(paths[lib]);\n",
       "        s.onerror = () => reject(`Error loading script: ${paths[lib]}`);\n",
       "        document.getElementsByTagName(\"head\")[0].appendChild(s);\n",
       "      });\n",
       "    }\n",
       "\n",
       "    function showError(err) {\n",
       "      outputDiv.innerHTML = `<div class=\"error\" style=\"color:red;\">${err}</div>`;\n",
       "      throw err;\n",
       "    }\n",
       "\n",
       "    function displayChart(vegaEmbed) {\n",
       "      vegaEmbed(outputDiv, spec, embedOpt)\n",
       "        .catch(err => showError(`Javascript Error: ${err.message}<br>This usually means there's a typo in your chart specification. See the javascript console for the full traceback.`));\n",
       "    }\n",
       "\n",
       "    if(typeof define === \"function\" && define.amd) {\n",
       "      requirejs.config({paths});\n",
       "      require([\"vega-embed\"], displayChart, err => showError(`Error loading script: ${err.message}`));\n",
       "    } else if (typeof vegaEmbed === \"function\") {\n",
       "      displayChart(vegaEmbed);\n",
       "    } else {\n",
       "      loadScript(\"vega\")\n",
       "        .then(() => loadScript(\"vega-lite\"))\n",
       "        .then(() => loadScript(\"vega-embed\"))\n",
       "        .catch(showError)\n",
       "        .then(() => displayChart(vegaEmbed));\n",
       "    }\n",
       "  })({\"config\": {\"view\": {\"continuousWidth\": 400, \"continuousHeight\": 300}}, \"layer\": [{\"layer\": [{\"mark\": {\"type\": \"point\", \"size\": 75}, \"encoding\": {\"tooltip\": [{\"type\": \"temporal\", \"field\": \"date\"}, {\"type\": \"quantitative\", \"field\": \"positiveRate\"}, {\"type\": \"quantitative\", \"field\": \"sma7d\"}], \"x\": {\"type\": \"temporal\", \"field\": \"date\"}, \"y\": {\"type\": \"quantitative\", \"field\": \"positiveRate\"}}, \"selection\": {\"selector010\": {\"type\": \"interval\", \"bind\": \"scales\", \"encodings\": [\"x\", \"y\"]}}}, {\"mark\": {\"type\": \"line\", \"color\": \"purple\"}, \"encoding\": {\"x\": {\"type\": \"temporal\", \"field\": \"date\"}, \"y\": {\"type\": \"quantitative\", \"field\": \"sma7d\"}}}]}, {\"mark\": {\"type\": \"rule\", \"color\": \"#aaa\"}, \"encoding\": {\"x\": {\"type\": \"temporal\", \"field\": \"date\"}}, \"transform\": [{\"filter\": {\"selection\": \"selector009\"}}]}, {\"mark\": \"circle\", \"encoding\": {\"opacity\": {\"condition\": {\"value\": 1, \"selection\": \"selector009\"}, \"value\": 0}, \"tooltip\": [{\"type\": \"temporal\", \"field\": \"date\"}, {\"type\": \"quantitative\", \"field\": \"positiveRate\"}, {\"type\": \"quantitative\", \"field\": \"sma7d\"}], \"x\": {\"type\": \"temporal\", \"field\": \"date\"}, \"y\": {\"type\": \"quantitative\", \"field\": \"positiveRate\"}}, \"selection\": {\"selector009\": {\"type\": \"single\", \"encodings\": [\"x\"], \"on\": \"mouseover\", \"nearest\": true, \"empty\": \"none\"}}}, {\"mark\": {\"type\": \"text\", \"align\": \"left\", \"dx\": 5, \"dy\": -5, \"stroke\": \"white\", \"strokeWidth\": 2}, \"encoding\": {\"text\": {\"type\": \"quantitative\", \"field\": \"positiveRate\"}, \"tooltip\": [{\"type\": \"temporal\", \"field\": \"date\"}, {\"type\": \"quantitative\", \"field\": \"positiveRate\"}, {\"type\": \"quantitative\", \"field\": \"sma7d\"}], \"x\": {\"type\": \"temporal\", \"field\": \"date\"}, \"y\": {\"type\": \"quantitative\", \"field\": \"positiveRate\"}}, \"transform\": [{\"filter\": {\"selection\": \"selector009\"}}]}, {\"mark\": {\"type\": \"text\", \"align\": \"left\", \"dx\": 5, \"dy\": -5}, \"encoding\": {\"text\": {\"type\": \"quantitative\", \"field\": \"positiveRate\"}, \"tooltip\": [{\"type\": \"temporal\", \"field\": \"date\"}, {\"type\": \"quantitative\", \"field\": \"positiveRate\"}, {\"type\": \"quantitative\", \"field\": \"sma7d\"}], \"x\": {\"type\": \"temporal\", \"field\": \"date\"}, \"y\": {\"type\": \"quantitative\", \"field\": \"positiveRate\"}}, \"transform\": [{\"filter\": {\"selection\": \"selector009\"}}]}], \"data\": {\"name\": \"data-92b22988dd9d3c54be3eeafc96465e76\"}, \"height\": 400, \"title\": \"New York: positiveRate\", \"width\": 500, \"$schema\": \"https://vega.github.io/schema/vega-lite/v4.8.1.json\", \"datasets\": {\"data-92b22988dd9d3c54be3eeafc96465e76\": [{\"date\": \"2020-09-04T00:00:00\", \"totalTestResultsIncrease\": 93395.0, \"positiveIncrease\": 864.0, \"death\": 25348.0, \"deathIncrease\": 5.0, \"positiveRate\": 0.009, \"state\": \"New York\", \"sma7d\": 0.009}, {\"date\": \"2020-09-05T00:00:00\", \"totalTestResultsIncrease\": 99761.0, \"positiveIncrease\": 801.0, \"death\": 25350.0, \"deathIncrease\": 2.0, \"positiveRate\": 0.008, \"state\": \"New York\", \"sma7d\": 0.009}, {\"date\": \"2020-09-06T00:00:00\", \"totalTestResultsIncrease\": 85630.0, \"positiveIncrease\": 729.0, \"death\": 25359.0, \"deathIncrease\": 9.0, \"positiveRate\": 0.009, \"state\": \"New York\", \"sma7d\": 0.009}, {\"date\": \"2020-09-07T00:00:00\", \"totalTestResultsIncrease\": 58865.0, \"positiveIncrease\": 520.0, \"death\": 25361.0, \"deathIncrease\": 2.0, \"positiveRate\": 0.009, \"state\": \"New York\", \"sma7d\": 0.009}, {\"date\": \"2020-09-08T00:00:00\", \"totalTestResultsIncrease\": 57826.0, \"positiveIncrease\": 557.0, \"death\": 25367.0, \"deathIncrease\": 6.0, \"positiveRate\": 0.01, \"state\": \"New York\", \"sma7d\": 0.009}, {\"date\": \"2020-09-09T00:00:00\", \"totalTestResultsIncrease\": 63230.0, \"positiveIncrease\": 576.0, \"death\": 25370.0, \"deathIncrease\": 3.0, \"positiveRate\": 0.009, \"state\": \"New York\", \"sma7d\": 0.009}, {\"date\": \"2020-09-10T00:00:00\", \"totalTestResultsIncrease\": 76813.0, \"positiveIncrease\": 757.0, \"death\": 25377.0, \"deathIncrease\": 7.0, \"positiveRate\": 0.01, \"state\": \"New York\", \"sma7d\": 0.009}, {\"date\": \"2020-09-11T00:00:00\", \"totalTestResultsIncrease\": 89722.0, \"positiveIncrease\": 880.0, \"death\": 25382.0, \"deathIncrease\": 5.0, \"positiveRate\": 0.01, \"state\": \"New York\", \"sma7d\": 0.009}, {\"date\": \"2020-09-12T00:00:00\", \"totalTestResultsIncrease\": 102925.0, \"positiveIncrease\": 849.0, \"death\": 25384.0, \"deathIncrease\": 2.0, \"positiveRate\": 0.008, \"state\": \"New York\", \"sma7d\": 0.009}, {\"date\": \"2020-09-13T00:00:00\", \"totalTestResultsIncrease\": 72668.0, \"positiveIncrease\": 725.0, \"death\": 25390.0, \"deathIncrease\": 6.0, \"positiveRate\": 0.01, \"state\": \"New York\", \"sma7d\": 0.009}, {\"date\": \"2020-09-14T00:00:00\", \"totalTestResultsIncrease\": 63358.0, \"positiveIncrease\": 583.0, \"death\": 25394.0, \"deathIncrease\": 4.0, \"positiveRate\": 0.009, \"state\": \"New York\", \"sma7d\": 0.009}, {\"date\": \"2020-09-15T00:00:00\", \"totalTestResultsIncrease\": 73678.0, \"positiveIncrease\": 766.0, \"death\": 25405.0, \"deathIncrease\": 11.0, \"positiveRate\": 0.01, \"state\": \"New York\", \"sma7d\": 0.009}, {\"date\": \"2020-09-16T00:00:00\", \"totalTestResultsIncrease\": 75087.0, \"positiveIncrease\": 652.0, \"death\": 25410.0, \"deathIncrease\": 5.0, \"positiveRate\": 0.009, \"state\": \"New York\", \"sma7d\": 0.009}, {\"date\": \"2020-09-17T00:00:00\", \"totalTestResultsIncrease\": 91504.0, \"positiveIncrease\": 896.0, \"death\": 25413.0, \"deathIncrease\": 3.0, \"positiveRate\": 0.01, \"state\": \"New York\", \"sma7d\": 0.009}, {\"date\": \"2020-09-18T00:00:00\", \"totalTestResultsIncrease\": 89727.0, \"positiveIncrease\": 790.0, \"death\": 25423.0, \"deathIncrease\": 10.0, \"positiveRate\": 0.009, \"state\": \"New York\", \"sma7d\": 0.009}, {\"date\": \"2020-09-19T00:00:00\", \"totalTestResultsIncrease\": 110444.0, \"positiveIncrease\": 986.0, \"death\": 25425.0, \"deathIncrease\": 2.0, \"positiveRate\": 0.009, \"state\": \"New York\", \"sma7d\": 0.009}, {\"date\": \"2020-09-20T00:00:00\", \"totalTestResultsIncrease\": 100355.0, \"positiveIncrease\": 862.0, \"death\": 25427.0, \"deathIncrease\": 2.0, \"positiveRate\": 0.009, \"state\": \"New York\", \"sma7d\": 0.009}, {\"date\": \"2020-09-21T00:00:00\", \"totalTestResultsIncrease\": 58319.0, \"positiveIncrease\": 573.0, \"death\": 25428.0, \"deathIncrease\": 1.0, \"positiveRate\": 0.01, \"state\": \"New York\", \"sma7d\": 0.009}, {\"date\": \"2020-09-22T00:00:00\", \"totalTestResultsIncrease\": 83997.0, \"positiveIncrease\": 754.0, \"death\": 25432.0, \"deathIncrease\": 4.0, \"positiveRate\": 0.009, \"state\": \"New York\", \"sma7d\": 0.009}, {\"date\": \"2020-09-23T00:00:00\", \"totalTestResultsIncrease\": 70930.0, \"positiveIncrease\": 665.0, \"death\": 25437.0, \"deathIncrease\": 5.0, \"positiveRate\": 0.009, \"state\": \"New York\", \"sma7d\": 0.009}, {\"date\": \"2020-09-24T00:00:00\", \"totalTestResultsIncrease\": 92953.0, \"positiveIncrease\": 955.0, \"death\": 25439.0, \"deathIncrease\": 2.0, \"positiveRate\": 0.01, \"state\": \"New York\", \"sma7d\": 0.009}, {\"date\": \"2020-09-25T00:00:00\", \"totalTestResultsIncrease\": 94818.0, \"positiveIncrease\": 908.0, \"death\": 25446.0, \"deathIncrease\": 7.0, \"positiveRate\": 0.01, \"state\": \"New York\", \"sma7d\": 0.009}, {\"date\": \"2020-09-26T00:00:00\", \"totalTestResultsIncrease\": 99953.0, \"positiveIncrease\": 1005.0, \"death\": 25450.0, \"deathIncrease\": 4.0, \"positiveRate\": 0.01, \"state\": \"New York\", \"sma7d\": 0.01}, {\"date\": \"2020-09-27T00:00:00\", \"totalTestResultsIncrease\": 84770.0, \"positiveIncrease\": 866.0, \"death\": 25456.0, \"deathIncrease\": 6.0, \"positiveRate\": 0.01, \"state\": \"New York\", \"sma7d\": 0.01}, {\"date\": \"2020-09-28T00:00:00\", \"totalTestResultsIncrease\": 52936.0, \"positiveIncrease\": 834.0, \"death\": 25468.0, \"deathIncrease\": 12.0, \"positiveRate\": 0.016, \"state\": \"New York\", \"sma7d\": 0.011}, {\"date\": \"2020-09-29T00:00:00\", \"totalTestResultsIncrease\": 88231.0, \"positiveIncrease\": 1189.0, \"death\": 25470.0, \"deathIncrease\": 2.0, \"positiveRate\": 0.013, \"state\": \"New York\", \"sma7d\": 0.011}, {\"date\": \"2020-09-30T00:00:00\", \"totalTestResultsIncrease\": 97960.0, \"positiveIncrease\": 1000.0, \"death\": 25479.0, \"deathIncrease\": 9.0, \"positiveRate\": 0.01, \"state\": \"New York\", \"sma7d\": 0.011}, {\"date\": \"2020-10-01T00:00:00\", \"totalTestResultsIncrease\": 109218.0, \"positiveIncrease\": 1382.0, \"death\": 25490.0, \"deathIncrease\": 11.0, \"positiveRate\": 0.013, \"state\": \"New York\", \"sma7d\": 0.012}, {\"date\": \"2020-10-02T00:00:00\", \"totalTestResultsIncrease\": 119493.0, \"positiveIncrease\": 1598.0, \"death\": 25497.0, \"deathIncrease\": 7.0, \"positiveRate\": 0.013, \"state\": \"New York\", \"sma7d\": 0.012}, {\"date\": \"2020-10-03T00:00:00\", \"totalTestResultsIncrease\": 134267.0, \"positiveIncrease\": 1731.0, \"death\": 25505.0, \"deathIncrease\": 8.0, \"positiveRate\": 0.013, \"state\": \"New York\", \"sma7d\": 0.013}, {\"date\": \"2020-10-04T00:00:00\", \"totalTestResultsIncrease\": 110329.0, \"positiveIncrease\": 1222.0, \"death\": 25519.0, \"deathIncrease\": 14.0, \"positiveRate\": 0.011, \"state\": \"New York\", \"sma7d\": 0.013}, {\"date\": \"2020-10-05T00:00:00\", \"totalTestResultsIncrease\": 76404.0, \"positiveIncrease\": 933.0, \"death\": 25527.0, \"deathIncrease\": 8.0, \"positiveRate\": 0.012, \"state\": \"New York\", \"sma7d\": 0.012}, {\"date\": \"2020-10-06T00:00:00\", \"totalTestResultsIncrease\": 96359.0, \"positiveIncrease\": 1393.0, \"death\": 25536.0, \"deathIncrease\": 9.0, \"positiveRate\": 0.014, \"state\": \"New York\", \"sma7d\": 0.012}, {\"date\": \"2020-10-07T00:00:00\", \"totalTestResultsIncrease\": 108246.0, \"positiveIncrease\": 1360.0, \"death\": 25545.0, \"deathIncrease\": 9.0, \"positiveRate\": 0.013, \"state\": \"New York\", \"sma7d\": 0.013}, {\"date\": \"2020-10-08T00:00:00\", \"totalTestResultsIncrease\": 145811.0, \"positiveIncrease\": 1836.0, \"death\": 25555.0, \"deathIncrease\": 10.0, \"positiveRate\": 0.013, \"state\": \"New York\", \"sma7d\": 0.013}, {\"date\": \"2020-10-09T00:00:00\", \"totalTestResultsIncrease\": 139300.0, \"positiveIncrease\": 1592.0, \"death\": 25561.0, \"deathIncrease\": 6.0, \"positiveRate\": 0.011, \"state\": \"New York\", \"sma7d\": 0.012}, {\"date\": \"2020-10-10T00:00:00\", \"totalTestResultsIncrease\": 134579.0, \"positiveIncrease\": 1447.0, \"death\": 25569.0, \"deathIncrease\": 8.0, \"positiveRate\": 0.011, \"state\": \"New York\", \"sma7d\": 0.012}, {\"date\": \"2020-10-11T00:00:00\", \"totalTestResultsIncrease\": 118254.0, \"positiveIncrease\": 1143.0, \"death\": 25574.0, \"deathIncrease\": 5.0, \"positiveRate\": 0.01, \"state\": \"New York\", \"sma7d\": 0.012}, {\"date\": \"2020-10-12T00:00:00\", \"totalTestResultsIncrease\": 91793.0, \"positiveIncrease\": 1029.0, \"death\": 25587.0, \"deathIncrease\": 13.0, \"positiveRate\": 0.011, \"state\": \"New York\", \"sma7d\": 0.012}, {\"date\": \"2020-10-13T00:00:00\", \"totalTestResultsIncrease\": 99070.0, \"positiveIncrease\": 1393.0, \"death\": 25598.0, \"deathIncrease\": 11.0, \"positiveRate\": 0.014, \"state\": \"New York\", \"sma7d\": 0.012}, {\"date\": \"2020-10-14T00:00:00\", \"totalTestResultsIncrease\": 111744.0, \"positiveIncrease\": 1232.0, \"death\": 25605.0, \"deathIncrease\": 7.0, \"positiveRate\": 0.011, \"state\": \"New York\", \"sma7d\": 0.012}, {\"date\": \"2020-10-15T00:00:00\", \"totalTestResultsIncrease\": 133212.0, \"positiveIncrease\": 1460.0, \"death\": 25618.0, \"deathIncrease\": 13.0, \"positiveRate\": 0.011, \"state\": \"New York\", \"sma7d\": 0.011}, {\"date\": \"2020-10-16T00:00:00\", \"totalTestResultsIncrease\": 136039.0, \"positiveIncrease\": 1707.0, \"death\": 25628.0, \"deathIncrease\": 10.0, \"positiveRate\": 0.013, \"state\": \"New York\", \"sma7d\": 0.012}, {\"date\": \"2020-10-17T00:00:00\", \"totalTestResultsIncrease\": 159972.0, \"positiveIncrease\": 1784.0, \"death\": 25637.0, \"deathIncrease\": 9.0, \"positiveRate\": 0.011, \"state\": \"New York\", \"sma7d\": 0.012}, {\"date\": \"2020-10-18T00:00:00\", \"totalTestResultsIncrease\": 128763.0, \"positiveIncrease\": 1390.0, \"death\": 25644.0, \"deathIncrease\": 7.0, \"positiveRate\": 0.011, \"state\": \"New York\", \"sma7d\": 0.012}, {\"date\": \"2020-10-19T00:00:00\", \"totalTestResultsIncrease\": 82009.0, \"positiveIncrease\": 998.0, \"death\": 25659.0, \"deathIncrease\": 15.0, \"positiveRate\": 0.012, \"state\": \"New York\", \"sma7d\": 0.012}, {\"date\": \"2020-10-20T00:00:00\", \"totalTestResultsIncrease\": 90540.0, \"positiveIncrease\": 1201.0, \"death\": 25672.0, \"deathIncrease\": 13.0, \"positiveRate\": 0.013, \"state\": \"New York\", \"sma7d\": 0.012}, {\"date\": \"2020-10-21T00:00:00\", \"totalTestResultsIncrease\": 124789.0, \"positiveIncrease\": 2026.0, \"death\": 25679.0, \"deathIncrease\": 7.0, \"positiveRate\": 0.016, \"state\": \"New York\", \"sma7d\": 0.012}, {\"date\": \"2020-10-22T00:00:00\", \"totalTestResultsIncrease\": 135341.0, \"positiveIncrease\": 1628.0, \"death\": 25694.0, \"deathIncrease\": 15.0, \"positiveRate\": 0.012, \"state\": \"New York\", \"sma7d\": 0.013}, {\"date\": \"2020-10-23T00:00:00\", \"totalTestResultsIncrease\": 141508.0, \"positiveIncrease\": 1637.0, \"death\": 25705.0, \"deathIncrease\": 11.0, \"positiveRate\": 0.012, \"state\": \"New York\", \"sma7d\": 0.012}, {\"date\": \"2020-10-24T00:00:00\", \"totalTestResultsIncrease\": 156940.0, \"positiveIncrease\": 2061.0, \"death\": 25718.0, \"deathIncrease\": 13.0, \"positiveRate\": 0.013, \"state\": \"New York\", \"sma7d\": 0.013}, {\"date\": \"2020-10-25T00:00:00\", \"totalTestResultsIncrease\": 120830.0, \"positiveIncrease\": 1632.0, \"death\": 25730.0, \"deathIncrease\": 12.0, \"positiveRate\": 0.014, \"state\": \"New York\", \"sma7d\": 0.013}, {\"date\": \"2020-10-26T00:00:00\", \"totalTestResultsIncrease\": 82117.0, \"positiveIncrease\": 1191.0, \"death\": 25742.0, \"deathIncrease\": 12.0, \"positiveRate\": 0.015, \"state\": \"New York\", \"sma7d\": 0.014}, {\"date\": \"2020-10-27T00:00:00\", \"totalTestResultsIncrease\": 111618.0, \"positiveIncrease\": 1991.0, \"death\": 25758.0, \"deathIncrease\": 16.0, \"positiveRate\": 0.018, \"state\": \"New York\", \"sma7d\": 0.014}, {\"date\": \"2020-10-28T00:00:00\", \"totalTestResultsIncrease\": 129660.0, \"positiveIncrease\": 2031.0, \"death\": 25773.0, \"deathIncrease\": 15.0, \"positiveRate\": 0.016, \"state\": \"New York\", \"sma7d\": 0.014}]}}, {\"mode\": \"vega-lite\"});\n",
       "</script>"
      ],
      "text/plain": [
       "alt.LayerChart(...)"
      ]
     },
     "execution_count": 12,
     "metadata": {},
     "output_type": "execute_result"
    }
   ],
   "source": [
    "create_plot(ny, 'positiveRate')"
   ]
  },
  {
   "cell_type": "code",
   "execution_count": 13,
   "metadata": {
    "execution": {
     "iopub.execute_input": "2020-10-29T22:33:19.169905Z",
     "iopub.status.busy": "2020-10-29T22:33:19.169362Z",
     "iopub.status.idle": "2020-10-29T22:33:19.262240Z",
     "shell.execute_reply": "2020-10-29T22:33:19.262677Z"
    },
    "papermill": {
     "duration": 0.113518,
     "end_time": "2020-10-29T22:33:19.262834",
     "exception": false,
     "start_time": "2020-10-29T22:33:19.149316",
     "status": "completed"
    },
    "tags": []
   },
   "outputs": [
    {
     "data": {
      "text/html": [
       "\n",
       "<div id=\"altair-viz-f04a48706976442d99b11db8cd9ff5db\"></div>\n",
       "<script type=\"text/javascript\">\n",
       "  (function(spec, embedOpt){\n",
       "    let outputDiv = document.currentScript.previousElementSibling;\n",
       "    if (outputDiv.id !== \"altair-viz-f04a48706976442d99b11db8cd9ff5db\") {\n",
       "      outputDiv = document.getElementById(\"altair-viz-f04a48706976442d99b11db8cd9ff5db\");\n",
       "    }\n",
       "    const paths = {\n",
       "      \"vega\": \"https://cdn.jsdelivr.net/npm//vega@5?noext\",\n",
       "      \"vega-lib\": \"https://cdn.jsdelivr.net/npm//vega-lib?noext\",\n",
       "      \"vega-lite\": \"https://cdn.jsdelivr.net/npm//vega-lite@4.8.1?noext\",\n",
       "      \"vega-embed\": \"https://cdn.jsdelivr.net/npm//vega-embed@6?noext\",\n",
       "    };\n",
       "\n",
       "    function loadScript(lib) {\n",
       "      return new Promise(function(resolve, reject) {\n",
       "        var s = document.createElement('script');\n",
       "        s.src = paths[lib];\n",
       "        s.async = true;\n",
       "        s.onload = () => resolve(paths[lib]);\n",
       "        s.onerror = () => reject(`Error loading script: ${paths[lib]}`);\n",
       "        document.getElementsByTagName(\"head\")[0].appendChild(s);\n",
       "      });\n",
       "    }\n",
       "\n",
       "    function showError(err) {\n",
       "      outputDiv.innerHTML = `<div class=\"error\" style=\"color:red;\">${err}</div>`;\n",
       "      throw err;\n",
       "    }\n",
       "\n",
       "    function displayChart(vegaEmbed) {\n",
       "      vegaEmbed(outputDiv, spec, embedOpt)\n",
       "        .catch(err => showError(`Javascript Error: ${err.message}<br>This usually means there's a typo in your chart specification. See the javascript console for the full traceback.`));\n",
       "    }\n",
       "\n",
       "    if(typeof define === \"function\" && define.amd) {\n",
       "      requirejs.config({paths});\n",
       "      require([\"vega-embed\"], displayChart, err => showError(`Error loading script: ${err.message}`));\n",
       "    } else if (typeof vegaEmbed === \"function\") {\n",
       "      displayChart(vegaEmbed);\n",
       "    } else {\n",
       "      loadScript(\"vega\")\n",
       "        .then(() => loadScript(\"vega-lite\"))\n",
       "        .then(() => loadScript(\"vega-embed\"))\n",
       "        .catch(showError)\n",
       "        .then(() => displayChart(vegaEmbed));\n",
       "    }\n",
       "  })({\"config\": {\"view\": {\"continuousWidth\": 400, \"continuousHeight\": 300}}, \"layer\": [{\"layer\": [{\"mark\": {\"type\": \"point\", \"size\": 75}, \"encoding\": {\"tooltip\": [{\"type\": \"temporal\", \"field\": \"date\"}, {\"type\": \"quantitative\", \"field\": \"deathIncrease\"}, {\"type\": \"quantitative\", \"field\": \"sma7d\"}], \"x\": {\"type\": \"temporal\", \"field\": \"date\"}, \"y\": {\"type\": \"quantitative\", \"field\": \"deathIncrease\"}}, \"selection\": {\"selector012\": {\"type\": \"interval\", \"bind\": \"scales\", \"encodings\": [\"x\", \"y\"]}}}, {\"mark\": {\"type\": \"line\", \"color\": \"purple\"}, \"encoding\": {\"x\": {\"type\": \"temporal\", \"field\": \"date\"}, \"y\": {\"type\": \"quantitative\", \"field\": \"sma7d\"}}}]}, {\"mark\": {\"type\": \"rule\", \"color\": \"#aaa\"}, \"encoding\": {\"x\": {\"type\": \"temporal\", \"field\": \"date\"}}, \"transform\": [{\"filter\": {\"selection\": \"selector011\"}}]}, {\"mark\": \"circle\", \"encoding\": {\"opacity\": {\"condition\": {\"value\": 1, \"selection\": \"selector011\"}, \"value\": 0}, \"tooltip\": [{\"type\": \"temporal\", \"field\": \"date\"}, {\"type\": \"quantitative\", \"field\": \"deathIncrease\"}, {\"type\": \"quantitative\", \"field\": \"sma7d\"}], \"x\": {\"type\": \"temporal\", \"field\": \"date\"}, \"y\": {\"type\": \"quantitative\", \"field\": \"deathIncrease\"}}, \"selection\": {\"selector011\": {\"type\": \"single\", \"encodings\": [\"x\"], \"on\": \"mouseover\", \"nearest\": true, \"empty\": \"none\"}}}, {\"mark\": {\"type\": \"text\", \"align\": \"left\", \"dx\": 5, \"dy\": -5, \"stroke\": \"white\", \"strokeWidth\": 2}, \"encoding\": {\"text\": {\"type\": \"quantitative\", \"field\": \"deathIncrease\"}, \"tooltip\": [{\"type\": \"temporal\", \"field\": \"date\"}, {\"type\": \"quantitative\", \"field\": \"deathIncrease\"}, {\"type\": \"quantitative\", \"field\": \"sma7d\"}], \"x\": {\"type\": \"temporal\", \"field\": \"date\"}, \"y\": {\"type\": \"quantitative\", \"field\": \"deathIncrease\"}}, \"transform\": [{\"filter\": {\"selection\": \"selector011\"}}]}, {\"mark\": {\"type\": \"text\", \"align\": \"left\", \"dx\": 5, \"dy\": -5}, \"encoding\": {\"text\": {\"type\": \"quantitative\", \"field\": \"deathIncrease\"}, \"tooltip\": [{\"type\": \"temporal\", \"field\": \"date\"}, {\"type\": \"quantitative\", \"field\": \"deathIncrease\"}, {\"type\": \"quantitative\", \"field\": \"sma7d\"}], \"x\": {\"type\": \"temporal\", \"field\": \"date\"}, \"y\": {\"type\": \"quantitative\", \"field\": \"deathIncrease\"}}, \"transform\": [{\"filter\": {\"selection\": \"selector011\"}}]}], \"data\": {\"name\": \"data-b56736ede18d25c7fd0c69440c832f0f\"}, \"height\": 400, \"title\": \"New York: deathIncrease\", \"width\": 500, \"$schema\": \"https://vega.github.io/schema/vega-lite/v4.8.1.json\", \"datasets\": {\"data-b56736ede18d25c7fd0c69440c832f0f\": [{\"date\": \"2020-09-04T00:00:00\", \"totalTestResultsIncrease\": 93395.0, \"positiveIncrease\": 864.0, \"death\": 25348.0, \"deathIncrease\": 5.0, \"positiveRate\": 0.009, \"state\": \"New York\", \"sma7d\": 5.143}, {\"date\": \"2020-09-05T00:00:00\", \"totalTestResultsIncrease\": 99761.0, \"positiveIncrease\": 801.0, \"death\": 25350.0, \"deathIncrease\": 2.0, \"positiveRate\": 0.008, \"state\": \"New York\", \"sma7d\": 4.429}, {\"date\": \"2020-09-06T00:00:00\", \"totalTestResultsIncrease\": 85630.0, \"positiveIncrease\": 729.0, \"death\": 25359.0, \"deathIncrease\": 9.0, \"positiveRate\": 0.009, \"state\": \"New York\", \"sma7d\": 4.571}, {\"date\": \"2020-09-07T00:00:00\", \"totalTestResultsIncrease\": 58865.0, \"positiveIncrease\": 520.0, \"death\": 25361.0, \"deathIncrease\": 2.0, \"positiveRate\": 0.009, \"state\": \"New York\", \"sma7d\": 4.714}, {\"date\": \"2020-09-08T00:00:00\", \"totalTestResultsIncrease\": 57826.0, \"positiveIncrease\": 557.0, \"death\": 25367.0, \"deathIncrease\": 6.0, \"positiveRate\": 0.01, \"state\": \"New York\", \"sma7d\": 5.143}, {\"date\": \"2020-09-09T00:00:00\", \"totalTestResultsIncrease\": 63230.0, \"positiveIncrease\": 576.0, \"death\": 25370.0, \"deathIncrease\": 3.0, \"positiveRate\": 0.009, \"state\": \"New York\", \"sma7d\": 4.857}, {\"date\": \"2020-09-10T00:00:00\", \"totalTestResultsIncrease\": 76813.0, \"positiveIncrease\": 757.0, \"death\": 25377.0, \"deathIncrease\": 7.0, \"positiveRate\": 0.01, \"state\": \"New York\", \"sma7d\": 4.857}, {\"date\": \"2020-09-11T00:00:00\", \"totalTestResultsIncrease\": 89722.0, \"positiveIncrease\": 880.0, \"death\": 25382.0, \"deathIncrease\": 5.0, \"positiveRate\": 0.01, \"state\": \"New York\", \"sma7d\": 4.857}, {\"date\": \"2020-09-12T00:00:00\", \"totalTestResultsIncrease\": 102925.0, \"positiveIncrease\": 849.0, \"death\": 25384.0, \"deathIncrease\": 2.0, \"positiveRate\": 0.008, \"state\": \"New York\", \"sma7d\": 4.857}, {\"date\": \"2020-09-13T00:00:00\", \"totalTestResultsIncrease\": 72668.0, \"positiveIncrease\": 725.0, \"death\": 25390.0, \"deathIncrease\": 6.0, \"positiveRate\": 0.01, \"state\": \"New York\", \"sma7d\": 4.429}, {\"date\": \"2020-09-14T00:00:00\", \"totalTestResultsIncrease\": 63358.0, \"positiveIncrease\": 583.0, \"death\": 25394.0, \"deathIncrease\": 4.0, \"positiveRate\": 0.009, \"state\": \"New York\", \"sma7d\": 4.714}, {\"date\": \"2020-09-15T00:00:00\", \"totalTestResultsIncrease\": 73678.0, \"positiveIncrease\": 766.0, \"death\": 25405.0, \"deathIncrease\": 11.0, \"positiveRate\": 0.01, \"state\": \"New York\", \"sma7d\": 5.429}, {\"date\": \"2020-09-16T00:00:00\", \"totalTestResultsIncrease\": 75087.0, \"positiveIncrease\": 652.0, \"death\": 25410.0, \"deathIncrease\": 5.0, \"positiveRate\": 0.009, \"state\": \"New York\", \"sma7d\": 5.714}, {\"date\": \"2020-09-17T00:00:00\", \"totalTestResultsIncrease\": 91504.0, \"positiveIncrease\": 896.0, \"death\": 25413.0, \"deathIncrease\": 3.0, \"positiveRate\": 0.01, \"state\": \"New York\", \"sma7d\": 5.143}, {\"date\": \"2020-09-18T00:00:00\", \"totalTestResultsIncrease\": 89727.0, \"positiveIncrease\": 790.0, \"death\": 25423.0, \"deathIncrease\": 10.0, \"positiveRate\": 0.009, \"state\": \"New York\", \"sma7d\": 5.857}, {\"date\": \"2020-09-19T00:00:00\", \"totalTestResultsIncrease\": 110444.0, \"positiveIncrease\": 986.0, \"death\": 25425.0, \"deathIncrease\": 2.0, \"positiveRate\": 0.009, \"state\": \"New York\", \"sma7d\": 5.857}, {\"date\": \"2020-09-20T00:00:00\", \"totalTestResultsIncrease\": 100355.0, \"positiveIncrease\": 862.0, \"death\": 25427.0, \"deathIncrease\": 2.0, \"positiveRate\": 0.009, \"state\": \"New York\", \"sma7d\": 5.286}, {\"date\": \"2020-09-21T00:00:00\", \"totalTestResultsIncrease\": 58319.0, \"positiveIncrease\": 573.0, \"death\": 25428.0, \"deathIncrease\": 1.0, \"positiveRate\": 0.01, \"state\": \"New York\", \"sma7d\": 4.857}, {\"date\": \"2020-09-22T00:00:00\", \"totalTestResultsIncrease\": 83997.0, \"positiveIncrease\": 754.0, \"death\": 25432.0, \"deathIncrease\": 4.0, \"positiveRate\": 0.009, \"state\": \"New York\", \"sma7d\": 3.857}, {\"date\": \"2020-09-23T00:00:00\", \"totalTestResultsIncrease\": 70930.0, \"positiveIncrease\": 665.0, \"death\": 25437.0, \"deathIncrease\": 5.0, \"positiveRate\": 0.009, \"state\": \"New York\", \"sma7d\": 3.857}, {\"date\": \"2020-09-24T00:00:00\", \"totalTestResultsIncrease\": 92953.0, \"positiveIncrease\": 955.0, \"death\": 25439.0, \"deathIncrease\": 2.0, \"positiveRate\": 0.01, \"state\": \"New York\", \"sma7d\": 3.714}, {\"date\": \"2020-09-25T00:00:00\", \"totalTestResultsIncrease\": 94818.0, \"positiveIncrease\": 908.0, \"death\": 25446.0, \"deathIncrease\": 7.0, \"positiveRate\": 0.01, \"state\": \"New York\", \"sma7d\": 3.286}, {\"date\": \"2020-09-26T00:00:00\", \"totalTestResultsIncrease\": 99953.0, \"positiveIncrease\": 1005.0, \"death\": 25450.0, \"deathIncrease\": 4.0, \"positiveRate\": 0.01, \"state\": \"New York\", \"sma7d\": 3.571}, {\"date\": \"2020-09-27T00:00:00\", \"totalTestResultsIncrease\": 84770.0, \"positiveIncrease\": 866.0, \"death\": 25456.0, \"deathIncrease\": 6.0, \"positiveRate\": 0.01, \"state\": \"New York\", \"sma7d\": 4.143}, {\"date\": \"2020-09-28T00:00:00\", \"totalTestResultsIncrease\": 52936.0, \"positiveIncrease\": 834.0, \"death\": 25468.0, \"deathIncrease\": 12.0, \"positiveRate\": 0.016, \"state\": \"New York\", \"sma7d\": 5.714}, {\"date\": \"2020-09-29T00:00:00\", \"totalTestResultsIncrease\": 88231.0, \"positiveIncrease\": 1189.0, \"death\": 25470.0, \"deathIncrease\": 2.0, \"positiveRate\": 0.013, \"state\": \"New York\", \"sma7d\": 5.429}, {\"date\": \"2020-09-30T00:00:00\", \"totalTestResultsIncrease\": 97960.0, \"positiveIncrease\": 1000.0, \"death\": 25479.0, \"deathIncrease\": 9.0, \"positiveRate\": 0.01, \"state\": \"New York\", \"sma7d\": 6.0}, {\"date\": \"2020-10-01T00:00:00\", \"totalTestResultsIncrease\": 109218.0, \"positiveIncrease\": 1382.0, \"death\": 25490.0, \"deathIncrease\": 11.0, \"positiveRate\": 0.013, \"state\": \"New York\", \"sma7d\": 7.286}, {\"date\": \"2020-10-02T00:00:00\", \"totalTestResultsIncrease\": 119493.0, \"positiveIncrease\": 1598.0, \"death\": 25497.0, \"deathIncrease\": 7.0, \"positiveRate\": 0.013, \"state\": \"New York\", \"sma7d\": 7.286}, {\"date\": \"2020-10-03T00:00:00\", \"totalTestResultsIncrease\": 134267.0, \"positiveIncrease\": 1731.0, \"death\": 25505.0, \"deathIncrease\": 8.0, \"positiveRate\": 0.013, \"state\": \"New York\", \"sma7d\": 7.857}, {\"date\": \"2020-10-04T00:00:00\", \"totalTestResultsIncrease\": 110329.0, \"positiveIncrease\": 1222.0, \"death\": 25519.0, \"deathIncrease\": 14.0, \"positiveRate\": 0.011, \"state\": \"New York\", \"sma7d\": 9.0}, {\"date\": \"2020-10-05T00:00:00\", \"totalTestResultsIncrease\": 76404.0, \"positiveIncrease\": 933.0, \"death\": 25527.0, \"deathIncrease\": 8.0, \"positiveRate\": 0.012, \"state\": \"New York\", \"sma7d\": 8.429}, {\"date\": \"2020-10-06T00:00:00\", \"totalTestResultsIncrease\": 96359.0, \"positiveIncrease\": 1393.0, \"death\": 25536.0, \"deathIncrease\": 9.0, \"positiveRate\": 0.014, \"state\": \"New York\", \"sma7d\": 9.429}, {\"date\": \"2020-10-07T00:00:00\", \"totalTestResultsIncrease\": 108246.0, \"positiveIncrease\": 1360.0, \"death\": 25545.0, \"deathIncrease\": 9.0, \"positiveRate\": 0.013, \"state\": \"New York\", \"sma7d\": 9.429}, {\"date\": \"2020-10-08T00:00:00\", \"totalTestResultsIncrease\": 145811.0, \"positiveIncrease\": 1836.0, \"death\": 25555.0, \"deathIncrease\": 10.0, \"positiveRate\": 0.013, \"state\": \"New York\", \"sma7d\": 9.286}, {\"date\": \"2020-10-09T00:00:00\", \"totalTestResultsIncrease\": 139300.0, \"positiveIncrease\": 1592.0, \"death\": 25561.0, \"deathIncrease\": 6.0, \"positiveRate\": 0.011, \"state\": \"New York\", \"sma7d\": 9.143}, {\"date\": \"2020-10-10T00:00:00\", \"totalTestResultsIncrease\": 134579.0, \"positiveIncrease\": 1447.0, \"death\": 25569.0, \"deathIncrease\": 8.0, \"positiveRate\": 0.011, \"state\": \"New York\", \"sma7d\": 9.143}, {\"date\": \"2020-10-11T00:00:00\", \"totalTestResultsIncrease\": 118254.0, \"positiveIncrease\": 1143.0, \"death\": 25574.0, \"deathIncrease\": 5.0, \"positiveRate\": 0.01, \"state\": \"New York\", \"sma7d\": 7.857}, {\"date\": \"2020-10-12T00:00:00\", \"totalTestResultsIncrease\": 91793.0, \"positiveIncrease\": 1029.0, \"death\": 25587.0, \"deathIncrease\": 13.0, \"positiveRate\": 0.011, \"state\": \"New York\", \"sma7d\": 8.571}, {\"date\": \"2020-10-13T00:00:00\", \"totalTestResultsIncrease\": 99070.0, \"positiveIncrease\": 1393.0, \"death\": 25598.0, \"deathIncrease\": 11.0, \"positiveRate\": 0.014, \"state\": \"New York\", \"sma7d\": 8.857}, {\"date\": \"2020-10-14T00:00:00\", \"totalTestResultsIncrease\": 111744.0, \"positiveIncrease\": 1232.0, \"death\": 25605.0, \"deathIncrease\": 7.0, \"positiveRate\": 0.011, \"state\": \"New York\", \"sma7d\": 8.571}, {\"date\": \"2020-10-15T00:00:00\", \"totalTestResultsIncrease\": 133212.0, \"positiveIncrease\": 1460.0, \"death\": 25618.0, \"deathIncrease\": 13.0, \"positiveRate\": 0.011, \"state\": \"New York\", \"sma7d\": 9.0}, {\"date\": \"2020-10-16T00:00:00\", \"totalTestResultsIncrease\": 136039.0, \"positiveIncrease\": 1707.0, \"death\": 25628.0, \"deathIncrease\": 10.0, \"positiveRate\": 0.013, \"state\": \"New York\", \"sma7d\": 9.571}, {\"date\": \"2020-10-17T00:00:00\", \"totalTestResultsIncrease\": 159972.0, \"positiveIncrease\": 1784.0, \"death\": 25637.0, \"deathIncrease\": 9.0, \"positiveRate\": 0.011, \"state\": \"New York\", \"sma7d\": 9.714}, {\"date\": \"2020-10-18T00:00:00\", \"totalTestResultsIncrease\": 128763.0, \"positiveIncrease\": 1390.0, \"death\": 25644.0, \"deathIncrease\": 7.0, \"positiveRate\": 0.011, \"state\": \"New York\", \"sma7d\": 10.0}, {\"date\": \"2020-10-19T00:00:00\", \"totalTestResultsIncrease\": 82009.0, \"positiveIncrease\": 998.0, \"death\": 25659.0, \"deathIncrease\": 15.0, \"positiveRate\": 0.012, \"state\": \"New York\", \"sma7d\": 10.286}, {\"date\": \"2020-10-20T00:00:00\", \"totalTestResultsIncrease\": 90540.0, \"positiveIncrease\": 1201.0, \"death\": 25672.0, \"deathIncrease\": 13.0, \"positiveRate\": 0.013, \"state\": \"New York\", \"sma7d\": 10.571}, {\"date\": \"2020-10-21T00:00:00\", \"totalTestResultsIncrease\": 124789.0, \"positiveIncrease\": 2026.0, \"death\": 25679.0, \"deathIncrease\": 7.0, \"positiveRate\": 0.016, \"state\": \"New York\", \"sma7d\": 10.571}, {\"date\": \"2020-10-22T00:00:00\", \"totalTestResultsIncrease\": 135341.0, \"positiveIncrease\": 1628.0, \"death\": 25694.0, \"deathIncrease\": 15.0, \"positiveRate\": 0.012, \"state\": \"New York\", \"sma7d\": 10.857}, {\"date\": \"2020-10-23T00:00:00\", \"totalTestResultsIncrease\": 141508.0, \"positiveIncrease\": 1637.0, \"death\": 25705.0, \"deathIncrease\": 11.0, \"positiveRate\": 0.012, \"state\": \"New York\", \"sma7d\": 11.0}, {\"date\": \"2020-10-24T00:00:00\", \"totalTestResultsIncrease\": 156940.0, \"positiveIncrease\": 2061.0, \"death\": 25718.0, \"deathIncrease\": 13.0, \"positiveRate\": 0.013, \"state\": \"New York\", \"sma7d\": 11.571}, {\"date\": \"2020-10-25T00:00:00\", \"totalTestResultsIncrease\": 120830.0, \"positiveIncrease\": 1632.0, \"death\": 25730.0, \"deathIncrease\": 12.0, \"positiveRate\": 0.014, \"state\": \"New York\", \"sma7d\": 12.286}, {\"date\": \"2020-10-26T00:00:00\", \"totalTestResultsIncrease\": 82117.0, \"positiveIncrease\": 1191.0, \"death\": 25742.0, \"deathIncrease\": 12.0, \"positiveRate\": 0.015, \"state\": \"New York\", \"sma7d\": 11.857}, {\"date\": \"2020-10-27T00:00:00\", \"totalTestResultsIncrease\": 111618.0, \"positiveIncrease\": 1991.0, \"death\": 25758.0, \"deathIncrease\": 16.0, \"positiveRate\": 0.018, \"state\": \"New York\", \"sma7d\": 12.286}, {\"date\": \"2020-10-28T00:00:00\", \"totalTestResultsIncrease\": 129660.0, \"positiveIncrease\": 2031.0, \"death\": 25773.0, \"deathIncrease\": 15.0, \"positiveRate\": 0.016, \"state\": \"New York\", \"sma7d\": 13.429}]}}, {\"mode\": \"vega-lite\"});\n",
       "</script>"
      ],
      "text/plain": [
       "alt.LayerChart(...)"
      ]
     },
     "execution_count": 13,
     "metadata": {},
     "output_type": "execute_result"
    }
   ],
   "source": [
    "create_plot(ny, 'deathIncrease')"
   ]
  },
  {
   "cell_type": "markdown",
   "metadata": {
    "papermill": {
     "duration": 0.017157,
     "end_time": "2020-10-29T22:33:19.297012",
     "exception": false,
     "start_time": "2020-10-29T22:33:19.279855",
     "status": "completed"
    },
    "tags": []
   },
   "source": [
    "## Non Tri-State"
   ]
  },
  {
   "cell_type": "code",
   "execution_count": 14,
   "metadata": {
    "execution": {
     "iopub.execute_input": "2020-10-29T22:33:19.333901Z",
     "iopub.status.busy": "2020-10-29T22:33:19.333348Z",
     "iopub.status.idle": "2020-10-29T22:33:19.644492Z",
     "shell.execute_reply": "2020-10-29T22:33:19.643986Z"
    },
    "papermill": {
     "duration": 0.331213,
     "end_time": "2020-10-29T22:33:19.644636",
     "exception": false,
     "start_time": "2020-10-29T22:33:19.313423",
     "status": "completed"
    },
    "tags": []
   },
   "outputs": [],
   "source": [
    "non_tristate = create_df(df, lambda d: ~d['state'].isin(['CT','NJ','NY']), 'Non Tri-State')"
   ]
  },
  {
   "cell_type": "code",
   "execution_count": 15,
   "metadata": {
    "execution": {
     "iopub.execute_input": "2020-10-29T22:33:19.687224Z",
     "iopub.status.busy": "2020-10-29T22:33:19.686568Z",
     "iopub.status.idle": "2020-10-29T22:33:19.778107Z",
     "shell.execute_reply": "2020-10-29T22:33:19.779695Z"
    },
    "papermill": {
     "duration": 0.118025,
     "end_time": "2020-10-29T22:33:19.779956",
     "exception": false,
     "start_time": "2020-10-29T22:33:19.661931",
     "status": "completed"
    },
    "tags": []
   },
   "outputs": [
    {
     "data": {
      "text/html": [
       "\n",
       "<div id=\"altair-viz-44066e283e574db787a6bf658dbf6f62\"></div>\n",
       "<script type=\"text/javascript\">\n",
       "  (function(spec, embedOpt){\n",
       "    let outputDiv = document.currentScript.previousElementSibling;\n",
       "    if (outputDiv.id !== \"altair-viz-44066e283e574db787a6bf658dbf6f62\") {\n",
       "      outputDiv = document.getElementById(\"altair-viz-44066e283e574db787a6bf658dbf6f62\");\n",
       "    }\n",
       "    const paths = {\n",
       "      \"vega\": \"https://cdn.jsdelivr.net/npm//vega@5?noext\",\n",
       "      \"vega-lib\": \"https://cdn.jsdelivr.net/npm//vega-lib?noext\",\n",
       "      \"vega-lite\": \"https://cdn.jsdelivr.net/npm//vega-lite@4.8.1?noext\",\n",
       "      \"vega-embed\": \"https://cdn.jsdelivr.net/npm//vega-embed@6?noext\",\n",
       "    };\n",
       "\n",
       "    function loadScript(lib) {\n",
       "      return new Promise(function(resolve, reject) {\n",
       "        var s = document.createElement('script');\n",
       "        s.src = paths[lib];\n",
       "        s.async = true;\n",
       "        s.onload = () => resolve(paths[lib]);\n",
       "        s.onerror = () => reject(`Error loading script: ${paths[lib]}`);\n",
       "        document.getElementsByTagName(\"head\")[0].appendChild(s);\n",
       "      });\n",
       "    }\n",
       "\n",
       "    function showError(err) {\n",
       "      outputDiv.innerHTML = `<div class=\"error\" style=\"color:red;\">${err}</div>`;\n",
       "      throw err;\n",
       "    }\n",
       "\n",
       "    function displayChart(vegaEmbed) {\n",
       "      vegaEmbed(outputDiv, spec, embedOpt)\n",
       "        .catch(err => showError(`Javascript Error: ${err.message}<br>This usually means there's a typo in your chart specification. See the javascript console for the full traceback.`));\n",
       "    }\n",
       "\n",
       "    if(typeof define === \"function\" && define.amd) {\n",
       "      requirejs.config({paths});\n",
       "      require([\"vega-embed\"], displayChart, err => showError(`Error loading script: ${err.message}`));\n",
       "    } else if (typeof vegaEmbed === \"function\") {\n",
       "      displayChart(vegaEmbed);\n",
       "    } else {\n",
       "      loadScript(\"vega\")\n",
       "        .then(() => loadScript(\"vega-lite\"))\n",
       "        .then(() => loadScript(\"vega-embed\"))\n",
       "        .catch(showError)\n",
       "        .then(() => displayChart(vegaEmbed));\n",
       "    }\n",
       "  })({\"config\": {\"view\": {\"continuousWidth\": 400, \"continuousHeight\": 300}}, \"layer\": [{\"layer\": [{\"mark\": {\"type\": \"point\", \"size\": 75}, \"encoding\": {\"tooltip\": [{\"type\": \"temporal\", \"field\": \"date\"}, {\"type\": \"quantitative\", \"field\": \"positiveIncrease\"}, {\"type\": \"quantitative\", \"field\": \"sma7d\"}], \"x\": {\"type\": \"temporal\", \"field\": \"date\"}, \"y\": {\"type\": \"quantitative\", \"field\": \"positiveIncrease\"}}, \"selection\": {\"selector014\": {\"type\": \"interval\", \"bind\": \"scales\", \"encodings\": [\"x\", \"y\"]}}}, {\"mark\": {\"type\": \"line\", \"color\": \"purple\"}, \"encoding\": {\"x\": {\"type\": \"temporal\", \"field\": \"date\"}, \"y\": {\"type\": \"quantitative\", \"field\": \"sma7d\"}}}]}, {\"mark\": {\"type\": \"rule\", \"color\": \"#aaa\"}, \"encoding\": {\"x\": {\"type\": \"temporal\", \"field\": \"date\"}}, \"transform\": [{\"filter\": {\"selection\": \"selector013\"}}]}, {\"mark\": \"circle\", \"encoding\": {\"opacity\": {\"condition\": {\"value\": 1, \"selection\": \"selector013\"}, \"value\": 0}, \"tooltip\": [{\"type\": \"temporal\", \"field\": \"date\"}, {\"type\": \"quantitative\", \"field\": \"positiveIncrease\"}, {\"type\": \"quantitative\", \"field\": \"sma7d\"}], \"x\": {\"type\": \"temporal\", \"field\": \"date\"}, \"y\": {\"type\": \"quantitative\", \"field\": \"positiveIncrease\"}}, \"selection\": {\"selector013\": {\"type\": \"single\", \"encodings\": [\"x\"], \"on\": \"mouseover\", \"nearest\": true, \"empty\": \"none\"}}}, {\"mark\": {\"type\": \"text\", \"align\": \"left\", \"dx\": 5, \"dy\": -5, \"stroke\": \"white\", \"strokeWidth\": 2}, \"encoding\": {\"text\": {\"type\": \"quantitative\", \"field\": \"positiveIncrease\"}, \"tooltip\": [{\"type\": \"temporal\", \"field\": \"date\"}, {\"type\": \"quantitative\", \"field\": \"positiveIncrease\"}, {\"type\": \"quantitative\", \"field\": \"sma7d\"}], \"x\": {\"type\": \"temporal\", \"field\": \"date\"}, \"y\": {\"type\": \"quantitative\", \"field\": \"positiveIncrease\"}}, \"transform\": [{\"filter\": {\"selection\": \"selector013\"}}]}, {\"mark\": {\"type\": \"text\", \"align\": \"left\", \"dx\": 5, \"dy\": -5}, \"encoding\": {\"text\": {\"type\": \"quantitative\", \"field\": \"positiveIncrease\"}, \"tooltip\": [{\"type\": \"temporal\", \"field\": \"date\"}, {\"type\": \"quantitative\", \"field\": \"positiveIncrease\"}, {\"type\": \"quantitative\", \"field\": \"sma7d\"}], \"x\": {\"type\": \"temporal\", \"field\": \"date\"}, \"y\": {\"type\": \"quantitative\", \"field\": \"positiveIncrease\"}}, \"transform\": [{\"filter\": {\"selection\": \"selector013\"}}]}], \"data\": {\"name\": \"data-45220aee4ee1fa51e2f54f74044203af\"}, \"height\": 400, \"title\": \"Non Tri-State: positiveIncrease\", \"width\": 500, \"$schema\": \"https://vega.github.io/schema/vega-lite/v4.8.1.json\", \"datasets\": {\"data-45220aee4ee1fa51e2f54f74044203af\": [{\"date\": \"2020-09-04T00:00:00\", \"totalTestResultsIncrease\": 887902.0, \"positiveIncrease\": 50071.0, \"death\": 133946.0, \"deathIncrease\": 986.0, \"positiveRate\": 0.056, \"state\": \"Non Tri-State\", \"sma7d\": 39400.714}, {\"date\": \"2020-09-05T00:00:00\", \"totalTestResultsIncrease\": 862568.0, \"positiveIncrease\": 43716.0, \"death\": 134855.0, \"deathIncrease\": 909.0, \"positiveRate\": 0.051, \"state\": \"Non Tri-State\", \"sma7d\": 39438.429}, {\"date\": \"2020-09-06T00:00:00\", \"totalTestResultsIncrease\": 709950.0, \"positiveIncrease\": 32026.0, \"death\": 135291.0, \"deathIncrease\": 436.0, \"positiveRate\": 0.045, \"state\": \"Non Tri-State\", \"sma7d\": 38517.0}, {\"date\": \"2020-09-07T00:00:00\", \"totalTestResultsIncrease\": 552881.0, \"positiveIncrease\": 27804.0, \"death\": 135512.0, \"deathIncrease\": 221.0, \"positiveRate\": 0.05, \"state\": \"Non Tri-State\", \"sma7d\": 38202.143}, {\"date\": \"2020-09-08T00:00:00\", \"totalTestResultsIncrease\": 458286.0, \"positiveIncrease\": 20946.0, \"death\": 135853.0, \"deathIncrease\": 341.0, \"positiveRate\": 0.046, \"state\": \"Non Tri-State\", \"sma7d\": 35317.286}, {\"date\": \"2020-09-09T00:00:00\", \"totalTestResultsIncrease\": 599403.0, \"positiveIncrease\": 30076.0, \"death\": 136926.0, \"deathIncrease\": 1073.0, \"positiveRate\": 0.05, \"state\": \"Non Tri-State\", \"sma7d\": 35414.429}, {\"date\": \"2020-09-10T00:00:00\", \"totalTestResultsIncrease\": 657118.0, \"positiveIncrease\": 36132.0, \"death\": 138080.0, \"deathIncrease\": 1154.0, \"positiveRate\": 0.055, \"state\": \"Non Tri-State\", \"sma7d\": 34395.857}, {\"date\": \"2020-09-11T00:00:00\", \"totalTestResultsIncrease\": 778232.0, \"positiveIncrease\": 43294.0, \"death\": 139082.0, \"deathIncrease\": 1002.0, \"positiveRate\": 0.056, \"state\": \"Non Tri-State\", \"sma7d\": 33427.714}, {\"date\": \"2020-09-12T00:00:00\", \"totalTestResultsIncrease\": 886323.0, \"positiveIncrease\": 40770.0, \"death\": 139886.0, \"deathIncrease\": 804.0, \"positiveRate\": 0.046, \"state\": \"Non Tri-State\", \"sma7d\": 33006.857}, {\"date\": \"2020-09-13T00:00:00\", \"totalTestResultsIncrease\": 672083.0, \"positiveIncrease\": 33403.0, \"death\": 140265.0, \"deathIncrease\": 379.0, \"positiveRate\": 0.05, \"state\": \"Non Tri-State\", \"sma7d\": 33203.571}, {\"date\": \"2020-09-14T00:00:00\", \"totalTestResultsIncrease\": 367126.0, \"positiveIncrease\": 32360.0, \"death\": 140656.0, \"deathIncrease\": 391.0, \"positiveRate\": 0.088, \"state\": \"Non Tri-State\", \"sma7d\": 33854.429}, {\"date\": \"2020-09-15T00:00:00\", \"totalTestResultsIncrease\": 697817.0, \"positiveIncrease\": 33734.0, \"death\": 141667.0, \"deathIncrease\": 1011.0, \"positiveRate\": 0.048, \"state\": \"Non Tri-State\", \"sma7d\": 35681.286}, {\"date\": \"2020-09-16T00:00:00\", \"totalTestResultsIncrease\": 717981.0, \"positiveIncrease\": 38779.0, \"death\": 142851.0, \"deathIncrease\": 1184.0, \"positiveRate\": 0.054, \"state\": \"Non Tri-State\", \"sma7d\": 36924.571}, {\"date\": \"2020-09-17T00:00:00\", \"totalTestResultsIncrease\": 821200.0, \"positiveIncrease\": 41891.0, \"death\": 143707.0, \"deathIncrease\": 856.0, \"positiveRate\": 0.051, \"state\": \"Non Tri-State\", \"sma7d\": 37747.286}, {\"date\": \"2020-09-18T00:00:00\", \"totalTestResultsIncrease\": 957775.0, \"positiveIncrease\": 46041.0, \"death\": 144590.0, \"deathIncrease\": 883.0, \"positiveRate\": 0.048, \"state\": \"Non Tri-State\", \"sma7d\": 38139.714}, {\"date\": \"2020-09-19T00:00:00\", \"totalTestResultsIncrease\": 1060639.0, \"positiveIncrease\": 44054.0, \"death\": 145325.0, \"deathIncrease\": 735.0, \"positiveRate\": 0.042, \"state\": \"Non Tri-State\", \"sma7d\": 38608.857}, {\"date\": \"2020-09-20T00:00:00\", \"totalTestResultsIncrease\": 817877.0, \"positiveIncrease\": 34956.0, \"death\": 145647.0, \"deathIncrease\": 322.0, \"positiveRate\": 0.043, \"state\": \"Non Tri-State\", \"sma7d\": 38830.714}, {\"date\": \"2020-09-21T00:00:00\", \"totalTestResultsIncrease\": 669398.0, \"positiveIncrease\": 37996.0, \"death\": 145928.0, \"deathIncrease\": 281.0, \"positiveRate\": 0.057, \"state\": \"Non Tri-State\", \"sma7d\": 39635.857}, {\"date\": \"2020-09-22T00:00:00\", \"totalTestResultsIncrease\": 702703.0, \"positiveIncrease\": 48067.0, \"death\": 146770.0, \"deathIncrease\": 842.0, \"positiveRate\": 0.068, \"state\": \"Non Tri-State\", \"sma7d\": 41683.429}, {\"date\": \"2020-09-23T00:00:00\", \"totalTestResultsIncrease\": 895859.0, \"positiveIncrease\": 37343.0, \"death\": 147915.0, \"deathIncrease\": 1145.0, \"positiveRate\": 0.042, \"state\": \"Non Tri-State\", \"sma7d\": 41478.286}, {\"date\": \"2020-09-24T00:00:00\", \"totalTestResultsIncrease\": 893935.0, \"positiveIncrease\": 42032.0, \"death\": 148823.0, \"deathIncrease\": 908.0, \"positiveRate\": 0.047, \"state\": \"Non Tri-State\", \"sma7d\": 41498.429}, {\"date\": \"2020-09-25T00:00:00\", \"totalTestResultsIncrease\": 974166.0, \"positiveIncrease\": 53917.0, \"death\": 149652.0, \"deathIncrease\": 829.0, \"positiveRate\": 0.055, \"state\": \"Non Tri-State\", \"sma7d\": 42623.571}, {\"date\": \"2020-09-26T00:00:00\", \"totalTestResultsIncrease\": 984753.0, \"positiveIncrease\": 46037.0, \"death\": 150511.0, \"deathIncrease\": 859.0, \"positiveRate\": 0.047, \"state\": \"Non Tri-State\", \"sma7d\": 42906.857}, {\"date\": \"2020-09-27T00:00:00\", \"totalTestResultsIncrease\": 818506.0, \"positiveIncrease\": 33855.0, \"death\": 150806.0, \"deathIncrease\": 295.0, \"positiveRate\": 0.041, \"state\": \"Non Tri-State\", \"sma7d\": 42749.571}, {\"date\": \"2020-09-28T00:00:00\", \"totalTestResultsIncrease\": 1006005.0, \"positiveIncrease\": 34561.0, \"death\": 151051.0, \"deathIncrease\": 245.0, \"positiveRate\": 0.034, \"state\": \"Non Tri-State\", \"sma7d\": 42258.857}, {\"date\": \"2020-09-29T00:00:00\", \"totalTestResultsIncrease\": 811563.0, \"positiveIncrease\": 35063.0, \"death\": 151776.0, \"deathIncrease\": 725.0, \"positiveRate\": 0.043, \"state\": \"Non Tri-State\", \"sma7d\": 40401.143}, {\"date\": \"2020-09-30T00:00:00\", \"totalTestResultsIncrease\": 737034.0, \"positiveIncrease\": 42423.0, \"death\": 152816.0, \"deathIncrease\": 1040.0, \"positiveRate\": 0.058, \"state\": \"Non Tri-State\", \"sma7d\": 41126.857}, {\"date\": \"2020-10-01T00:00:00\", \"totalTestResultsIncrease\": 872486.0, \"positiveIncrease\": 43429.0, \"death\": 153648.0, \"deathIncrease\": 832.0, \"positiveRate\": 0.05, \"state\": \"Non Tri-State\", \"sma7d\": 41326.429}, {\"date\": \"2020-10-02T00:00:00\", \"totalTestResultsIncrease\": 983156.0, \"positiveIncrease\": 46591.0, \"death\": 154470.0, \"deathIncrease\": 822.0, \"positiveRate\": 0.047, \"state\": \"Non Tri-State\", \"sma7d\": 40279.857}, {\"date\": \"2020-10-03T00:00:00\", \"totalTestResultsIncrease\": 957086.0, \"positiveIncrease\": 48660.0, \"death\": 155199.0, \"deathIncrease\": 729.0, \"positiveRate\": 0.051, \"state\": \"Non Tri-State\", \"sma7d\": 40654.571}, {\"date\": \"2020-10-04T00:00:00\", \"totalTestResultsIncrease\": 854231.0, \"positiveIncrease\": 36509.0, \"death\": 155547.0, \"deathIncrease\": 348.0, \"positiveRate\": 0.043, \"state\": \"Non Tri-State\", \"sma7d\": 41033.714}, {\"date\": \"2020-10-05T00:00:00\", \"totalTestResultsIncrease\": 838848.0, \"positiveIncrease\": 35857.0, \"death\": 155859.0, \"deathIncrease\": 312.0, \"positiveRate\": 0.043, \"state\": \"Non Tri-State\", \"sma7d\": 41218.857}, {\"date\": \"2020-10-06T00:00:00\", \"totalTestResultsIncrease\": 783046.0, \"positiveIncrease\": 36468.0, \"death\": 156471.0, \"deathIncrease\": 612.0, \"positiveRate\": 0.047, \"state\": \"Non Tri-State\", \"sma7d\": 41419.571}, {\"date\": \"2020-10-07T00:00:00\", \"totalTestResultsIncrease\": 818834.0, \"positiveIncrease\": 48573.0, \"death\": 157372.0, \"deathIncrease\": 901.0, \"positiveRate\": 0.059, \"state\": \"Non Tri-State\", \"sma7d\": 42298.143}, {\"date\": \"2020-10-08T00:00:00\", \"totalTestResultsIncrease\": 902907.0, \"positiveIncrease\": 51774.0, \"death\": 158335.0, \"deathIncrease\": 963.0, \"positiveRate\": 0.057, \"state\": \"Non Tri-State\", \"sma7d\": 43490.286}, {\"date\": \"2020-10-09T00:00:00\", \"totalTestResultsIncrease\": 1000707.0, \"positiveIncrease\": 54258.0, \"death\": 159215.0, \"deathIncrease\": 880.0, \"positiveRate\": 0.054, \"state\": \"Non Tri-State\", \"sma7d\": 44585.571}, {\"date\": \"2020-10-10T00:00:00\", \"totalTestResultsIncrease\": 1064817.0, \"positiveIncrease\": 55181.0, \"death\": 159865.0, \"deathIncrease\": 650.0, \"positiveRate\": 0.052, \"state\": \"Non Tri-State\", \"sma7d\": 45517.143}, {\"date\": \"2020-10-11T00:00:00\", \"totalTestResultsIncrease\": 959704.0, \"positiveIncrease\": 44896.0, \"death\": 160323.0, \"deathIncrease\": 458.0, \"positiveRate\": 0.047, \"state\": \"Non Tri-State\", \"sma7d\": 46715.286}, {\"date\": \"2020-10-12T00:00:00\", \"totalTestResultsIncrease\": 813740.0, \"positiveIncrease\": 40273.0, \"death\": 160594.0, \"deathIncrease\": 271.0, \"positiveRate\": 0.049, \"state\": \"Non Tri-State\", \"sma7d\": 47346.143}, {\"date\": \"2020-10-13T00:00:00\", \"totalTestResultsIncrease\": 919903.0, \"positiveIncrease\": 45618.0, \"death\": 161265.0, \"deathIncrease\": 671.0, \"positiveRate\": 0.05, \"state\": \"Non Tri-State\", \"sma7d\": 48653.286}, {\"date\": \"2020-10-14T00:00:00\", \"totalTestResultsIncrease\": 846049.0, \"positiveIncrease\": 54388.0, \"death\": 162056.0, \"deathIncrease\": 791.0, \"positiveRate\": 0.064, \"state\": \"Non Tri-State\", \"sma7d\": 49484.0}, {\"date\": \"2020-10-15T00:00:00\", \"totalTestResultsIncrease\": 900709.0, \"positiveIncrease\": 60504.0, \"death\": 162985.0, \"deathIncrease\": 929.0, \"positiveRate\": 0.067, \"state\": \"Non Tri-State\", \"sma7d\": 50731.143}, {\"date\": \"2020-10-16T00:00:00\", \"totalTestResultsIncrease\": 1015324.0, \"positiveIncrease\": 64721.0, \"death\": 163845.0, \"deathIncrease\": 860.0, \"positiveRate\": 0.064, \"state\": \"Non Tri-State\", \"sma7d\": 52225.857}, {\"date\": \"2020-10-17T00:00:00\", \"totalTestResultsIncrease\": 1092582.0, \"positiveIncrease\": 55149.0, \"death\": 164614.0, \"deathIncrease\": 769.0, \"positiveRate\": 0.05, \"state\": \"Non Tri-State\", \"sma7d\": 52221.286}, {\"date\": \"2020-10-18T00:00:00\", \"totalTestResultsIncrease\": 920849.0, \"positiveIncrease\": 46192.0, \"death\": 164993.0, \"deathIncrease\": 379.0, \"positiveRate\": 0.05, \"state\": \"Non Tri-State\", \"sma7d\": 52406.429}, {\"date\": \"2020-10-19T00:00:00\", \"totalTestResultsIncrease\": 896796.0, \"positiveIncrease\": 53751.0, \"death\": 165419.0, \"deathIncrease\": 426.0, \"positiveRate\": 0.06, \"state\": \"Non Tri-State\", \"sma7d\": 54331.857}, {\"date\": \"2020-10-20T00:00:00\", \"totalTestResultsIncrease\": 821758.0, \"positiveIncrease\": 57935.0, \"death\": 166220.0, \"deathIncrease\": 801.0, \"positiveRate\": 0.071, \"state\": \"Non Tri-State\", \"sma7d\": 56091.429}, {\"date\": \"2020-10-21T00:00:00\", \"totalTestResultsIncrease\": 754877.0, \"positiveIncrease\": 57240.0, \"death\": 167211.0, \"deathIncrease\": 991.0, \"positiveRate\": 0.076, \"state\": \"Non Tri-State\", \"sma7d\": 56498.857}, {\"date\": \"2020-10-22T00:00:00\", \"totalTestResultsIncrease\": 1012912.0, \"positiveIncrease\": 69715.0, \"death\": 168319.0, \"deathIncrease\": 1108.0, \"positiveRate\": 0.069, \"state\": \"Non Tri-State\", \"sma7d\": 57814.714}, {\"date\": \"2020-10-23T00:00:00\", \"totalTestResultsIncrease\": 1165206.0, \"positiveIncrease\": 79696.0, \"death\": 169207.0, \"deathIncrease\": 888.0, \"positiveRate\": 0.068, \"state\": \"Non Tri-State\", \"sma7d\": 59954.0}, {\"date\": \"2020-10-24T00:00:00\", \"totalTestResultsIncrease\": 1144039.0, \"positiveIncrease\": 78955.0, \"death\": 170076.0, \"deathIncrease\": 869.0, \"positiveRate\": 0.069, \"state\": \"Non Tri-State\", \"sma7d\": 63354.857}, {\"date\": \"2020-10-25T00:00:00\", \"totalTestResultsIncrease\": 1017584.0, \"positiveIncrease\": 62889.0, \"death\": 170437.0, \"deathIncrease\": 361.0, \"positiveRate\": 0.062, \"state\": \"Non Tri-State\", \"sma7d\": 65740.143}, {\"date\": \"2020-10-26T00:00:00\", \"totalTestResultsIncrease\": 951604.0, \"positiveIncrease\": 57820.0, \"death\": 170795.0, \"deathIncrease\": 358.0, \"positiveRate\": 0.061, \"state\": \"Non Tri-State\", \"sma7d\": 66321.429}, {\"date\": \"2020-10-27T00:00:00\", \"totalTestResultsIncrease\": 915931.0, \"positiveIncrease\": 68920.0, \"death\": 171690.0, \"deathIncrease\": 895.0, \"positiveRate\": 0.075, \"state\": \"Non Tri-State\", \"sma7d\": 67890.714}, {\"date\": \"2020-10-28T00:00:00\", \"totalTestResultsIncrease\": 891431.0, \"positiveIncrease\": 74474.0, \"death\": 172673.0, \"deathIncrease\": 983.0, \"positiveRate\": 0.084, \"state\": \"Non Tri-State\", \"sma7d\": 70352.714}]}}, {\"mode\": \"vega-lite\"});\n",
       "</script>"
      ],
      "text/plain": [
       "alt.LayerChart(...)"
      ]
     },
     "execution_count": 15,
     "metadata": {},
     "output_type": "execute_result"
    }
   ],
   "source": [
    "create_plot(non_tristate, 'positiveIncrease')"
   ]
  },
  {
   "cell_type": "code",
   "execution_count": 16,
   "metadata": {
    "execution": {
     "iopub.execute_input": "2020-10-29T22:33:19.820063Z",
     "iopub.status.busy": "2020-10-29T22:33:19.819552Z",
     "iopub.status.idle": "2020-10-29T22:33:19.915674Z",
     "shell.execute_reply": "2020-10-29T22:33:19.916149Z"
    },
    "papermill": {
     "duration": 0.118338,
     "end_time": "2020-10-29T22:33:19.916306",
     "exception": false,
     "start_time": "2020-10-29T22:33:19.797968",
     "status": "completed"
    },
    "tags": []
   },
   "outputs": [
    {
     "data": {
      "text/html": [
       "\n",
       "<div id=\"altair-viz-603b4120bc7e450a84c06c2780a8fbd6\"></div>\n",
       "<script type=\"text/javascript\">\n",
       "  (function(spec, embedOpt){\n",
       "    let outputDiv = document.currentScript.previousElementSibling;\n",
       "    if (outputDiv.id !== \"altair-viz-603b4120bc7e450a84c06c2780a8fbd6\") {\n",
       "      outputDiv = document.getElementById(\"altair-viz-603b4120bc7e450a84c06c2780a8fbd6\");\n",
       "    }\n",
       "    const paths = {\n",
       "      \"vega\": \"https://cdn.jsdelivr.net/npm//vega@5?noext\",\n",
       "      \"vega-lib\": \"https://cdn.jsdelivr.net/npm//vega-lib?noext\",\n",
       "      \"vega-lite\": \"https://cdn.jsdelivr.net/npm//vega-lite@4.8.1?noext\",\n",
       "      \"vega-embed\": \"https://cdn.jsdelivr.net/npm//vega-embed@6?noext\",\n",
       "    };\n",
       "\n",
       "    function loadScript(lib) {\n",
       "      return new Promise(function(resolve, reject) {\n",
       "        var s = document.createElement('script');\n",
       "        s.src = paths[lib];\n",
       "        s.async = true;\n",
       "        s.onload = () => resolve(paths[lib]);\n",
       "        s.onerror = () => reject(`Error loading script: ${paths[lib]}`);\n",
       "        document.getElementsByTagName(\"head\")[0].appendChild(s);\n",
       "      });\n",
       "    }\n",
       "\n",
       "    function showError(err) {\n",
       "      outputDiv.innerHTML = `<div class=\"error\" style=\"color:red;\">${err}</div>`;\n",
       "      throw err;\n",
       "    }\n",
       "\n",
       "    function displayChart(vegaEmbed) {\n",
       "      vegaEmbed(outputDiv, spec, embedOpt)\n",
       "        .catch(err => showError(`Javascript Error: ${err.message}<br>This usually means there's a typo in your chart specification. See the javascript console for the full traceback.`));\n",
       "    }\n",
       "\n",
       "    if(typeof define === \"function\" && define.amd) {\n",
       "      requirejs.config({paths});\n",
       "      require([\"vega-embed\"], displayChart, err => showError(`Error loading script: ${err.message}`));\n",
       "    } else if (typeof vegaEmbed === \"function\") {\n",
       "      displayChart(vegaEmbed);\n",
       "    } else {\n",
       "      loadScript(\"vega\")\n",
       "        .then(() => loadScript(\"vega-lite\"))\n",
       "        .then(() => loadScript(\"vega-embed\"))\n",
       "        .catch(showError)\n",
       "        .then(() => displayChart(vegaEmbed));\n",
       "    }\n",
       "  })({\"config\": {\"view\": {\"continuousWidth\": 400, \"continuousHeight\": 300}}, \"layer\": [{\"layer\": [{\"mark\": {\"type\": \"point\", \"size\": 75}, \"encoding\": {\"tooltip\": [{\"type\": \"temporal\", \"field\": \"date\"}, {\"type\": \"quantitative\", \"field\": \"positiveRate\"}, {\"type\": \"quantitative\", \"field\": \"sma7d\"}], \"x\": {\"type\": \"temporal\", \"field\": \"date\"}, \"y\": {\"type\": \"quantitative\", \"field\": \"positiveRate\"}}, \"selection\": {\"selector016\": {\"type\": \"interval\", \"bind\": \"scales\", \"encodings\": [\"x\", \"y\"]}}}, {\"mark\": {\"type\": \"line\", \"color\": \"purple\"}, \"encoding\": {\"x\": {\"type\": \"temporal\", \"field\": \"date\"}, \"y\": {\"type\": \"quantitative\", \"field\": \"sma7d\"}}}]}, {\"mark\": {\"type\": \"rule\", \"color\": \"#aaa\"}, \"encoding\": {\"x\": {\"type\": \"temporal\", \"field\": \"date\"}}, \"transform\": [{\"filter\": {\"selection\": \"selector015\"}}]}, {\"mark\": \"circle\", \"encoding\": {\"opacity\": {\"condition\": {\"value\": 1, \"selection\": \"selector015\"}, \"value\": 0}, \"tooltip\": [{\"type\": \"temporal\", \"field\": \"date\"}, {\"type\": \"quantitative\", \"field\": \"positiveRate\"}, {\"type\": \"quantitative\", \"field\": \"sma7d\"}], \"x\": {\"type\": \"temporal\", \"field\": \"date\"}, \"y\": {\"type\": \"quantitative\", \"field\": \"positiveRate\"}}, \"selection\": {\"selector015\": {\"type\": \"single\", \"encodings\": [\"x\"], \"on\": \"mouseover\", \"nearest\": true, \"empty\": \"none\"}}}, {\"mark\": {\"type\": \"text\", \"align\": \"left\", \"dx\": 5, \"dy\": -5, \"stroke\": \"white\", \"strokeWidth\": 2}, \"encoding\": {\"text\": {\"type\": \"quantitative\", \"field\": \"positiveRate\"}, \"tooltip\": [{\"type\": \"temporal\", \"field\": \"date\"}, {\"type\": \"quantitative\", \"field\": \"positiveRate\"}, {\"type\": \"quantitative\", \"field\": \"sma7d\"}], \"x\": {\"type\": \"temporal\", \"field\": \"date\"}, \"y\": {\"type\": \"quantitative\", \"field\": \"positiveRate\"}}, \"transform\": [{\"filter\": {\"selection\": \"selector015\"}}]}, {\"mark\": {\"type\": \"text\", \"align\": \"left\", \"dx\": 5, \"dy\": -5}, \"encoding\": {\"text\": {\"type\": \"quantitative\", \"field\": \"positiveRate\"}, \"tooltip\": [{\"type\": \"temporal\", \"field\": \"date\"}, {\"type\": \"quantitative\", \"field\": \"positiveRate\"}, {\"type\": \"quantitative\", \"field\": \"sma7d\"}], \"x\": {\"type\": \"temporal\", \"field\": \"date\"}, \"y\": {\"type\": \"quantitative\", \"field\": \"positiveRate\"}}, \"transform\": [{\"filter\": {\"selection\": \"selector015\"}}]}], \"data\": {\"name\": \"data-ca32d35383d22370feafde6eb2ab8439\"}, \"height\": 400, \"title\": \"Non Tri-State: positiveRate\", \"width\": 500, \"$schema\": \"https://vega.github.io/schema/vega-lite/v4.8.1.json\", \"datasets\": {\"data-ca32d35383d22370feafde6eb2ab8439\": [{\"date\": \"2020-09-04T00:00:00\", \"totalTestResultsIncrease\": 887902.0, \"positiveIncrease\": 50071.0, \"death\": 133946.0, \"deathIncrease\": 986.0, \"positiveRate\": 0.056, \"state\": \"Non Tri-State\", \"sma7d\": 0.055}, {\"date\": \"2020-09-05T00:00:00\", \"totalTestResultsIncrease\": 862568.0, \"positiveIncrease\": 43716.0, \"death\": 134855.0, \"deathIncrease\": 909.0, \"positiveRate\": 0.051, \"state\": \"Non Tri-State\", \"sma7d\": 0.054}, {\"date\": \"2020-09-06T00:00:00\", \"totalTestResultsIncrease\": 709950.0, \"positiveIncrease\": 32026.0, \"death\": 135291.0, \"deathIncrease\": 436.0, \"positiveRate\": 0.045, \"state\": \"Non Tri-State\", \"sma7d\": 0.053}, {\"date\": \"2020-09-07T00:00:00\", \"totalTestResultsIncrease\": 552881.0, \"positiveIncrease\": 27804.0, \"death\": 135512.0, \"deathIncrease\": 221.0, \"positiveRate\": 0.05, \"state\": \"Non Tri-State\", \"sma7d\": 0.053}, {\"date\": \"2020-09-08T00:00:00\", \"totalTestResultsIncrease\": 458286.0, \"positiveIncrease\": 20946.0, \"death\": 135853.0, \"deathIncrease\": 341.0, \"positiveRate\": 0.046, \"state\": \"Non Tri-State\", \"sma7d\": 0.051}, {\"date\": \"2020-09-09T00:00:00\", \"totalTestResultsIncrease\": 599403.0, \"positiveIncrease\": 30076.0, \"death\": 136926.0, \"deathIncrease\": 1073.0, \"positiveRate\": 0.05, \"state\": \"Non Tri-State\", \"sma7d\": 0.051}, {\"date\": \"2020-09-10T00:00:00\", \"totalTestResultsIncrease\": 657118.0, \"positiveIncrease\": 36132.0, \"death\": 138080.0, \"deathIncrease\": 1154.0, \"positiveRate\": 0.055, \"state\": \"Non Tri-State\", \"sma7d\": 0.05}, {\"date\": \"2020-09-11T00:00:00\", \"totalTestResultsIncrease\": 778232.0, \"positiveIncrease\": 43294.0, \"death\": 139082.0, \"deathIncrease\": 1002.0, \"positiveRate\": 0.056, \"state\": \"Non Tri-State\", \"sma7d\": 0.05}, {\"date\": \"2020-09-12T00:00:00\", \"totalTestResultsIncrease\": 886323.0, \"positiveIncrease\": 40770.0, \"death\": 139886.0, \"deathIncrease\": 804.0, \"positiveRate\": 0.046, \"state\": \"Non Tri-State\", \"sma7d\": 0.05}, {\"date\": \"2020-09-13T00:00:00\", \"totalTestResultsIncrease\": 672083.0, \"positiveIncrease\": 33403.0, \"death\": 140265.0, \"deathIncrease\": 379.0, \"positiveRate\": 0.05, \"state\": \"Non Tri-State\", \"sma7d\": 0.05}, {\"date\": \"2020-09-14T00:00:00\", \"totalTestResultsIncrease\": 367126.0, \"positiveIncrease\": 32360.0, \"death\": 140656.0, \"deathIncrease\": 391.0, \"positiveRate\": 0.088, \"state\": \"Non Tri-State\", \"sma7d\": 0.056}, {\"date\": \"2020-09-15T00:00:00\", \"totalTestResultsIncrease\": 697817.0, \"positiveIncrease\": 33734.0, \"death\": 141667.0, \"deathIncrease\": 1011.0, \"positiveRate\": 0.048, \"state\": \"Non Tri-State\", \"sma7d\": 0.056}, {\"date\": \"2020-09-16T00:00:00\", \"totalTestResultsIncrease\": 717981.0, \"positiveIncrease\": 38779.0, \"death\": 142851.0, \"deathIncrease\": 1184.0, \"positiveRate\": 0.054, \"state\": \"Non Tri-State\", \"sma7d\": 0.057}, {\"date\": \"2020-09-17T00:00:00\", \"totalTestResultsIncrease\": 821200.0, \"positiveIncrease\": 41891.0, \"death\": 143707.0, \"deathIncrease\": 856.0, \"positiveRate\": 0.051, \"state\": \"Non Tri-State\", \"sma7d\": 0.056}, {\"date\": \"2020-09-18T00:00:00\", \"totalTestResultsIncrease\": 957775.0, \"positiveIncrease\": 46041.0, \"death\": 144590.0, \"deathIncrease\": 883.0, \"positiveRate\": 0.048, \"state\": \"Non Tri-State\", \"sma7d\": 0.055}, {\"date\": \"2020-09-19T00:00:00\", \"totalTestResultsIncrease\": 1060639.0, \"positiveIncrease\": 44054.0, \"death\": 145325.0, \"deathIncrease\": 735.0, \"positiveRate\": 0.042, \"state\": \"Non Tri-State\", \"sma7d\": 0.054}, {\"date\": \"2020-09-20T00:00:00\", \"totalTestResultsIncrease\": 817877.0, \"positiveIncrease\": 34956.0, \"death\": 145647.0, \"deathIncrease\": 322.0, \"positiveRate\": 0.043, \"state\": \"Non Tri-State\", \"sma7d\": 0.053}, {\"date\": \"2020-09-21T00:00:00\", \"totalTestResultsIncrease\": 669398.0, \"positiveIncrease\": 37996.0, \"death\": 145928.0, \"deathIncrease\": 281.0, \"positiveRate\": 0.057, \"state\": \"Non Tri-State\", \"sma7d\": 0.049}, {\"date\": \"2020-09-22T00:00:00\", \"totalTestResultsIncrease\": 702703.0, \"positiveIncrease\": 48067.0, \"death\": 146770.0, \"deathIncrease\": 842.0, \"positiveRate\": 0.068, \"state\": \"Non Tri-State\", \"sma7d\": 0.052}, {\"date\": \"2020-09-23T00:00:00\", \"totalTestResultsIncrease\": 895859.0, \"positiveIncrease\": 37343.0, \"death\": 147915.0, \"deathIncrease\": 1145.0, \"positiveRate\": 0.042, \"state\": \"Non Tri-State\", \"sma7d\": 0.05}, {\"date\": \"2020-09-24T00:00:00\", \"totalTestResultsIncrease\": 893935.0, \"positiveIncrease\": 42032.0, \"death\": 148823.0, \"deathIncrease\": 908.0, \"positiveRate\": 0.047, \"state\": \"Non Tri-State\", \"sma7d\": 0.05}, {\"date\": \"2020-09-25T00:00:00\", \"totalTestResultsIncrease\": 974166.0, \"positiveIncrease\": 53917.0, \"death\": 149652.0, \"deathIncrease\": 829.0, \"positiveRate\": 0.055, \"state\": \"Non Tri-State\", \"sma7d\": 0.051}, {\"date\": \"2020-09-26T00:00:00\", \"totalTestResultsIncrease\": 984753.0, \"positiveIncrease\": 46037.0, \"death\": 150511.0, \"deathIncrease\": 859.0, \"positiveRate\": 0.047, \"state\": \"Non Tri-State\", \"sma7d\": 0.051}, {\"date\": \"2020-09-27T00:00:00\", \"totalTestResultsIncrease\": 818506.0, \"positiveIncrease\": 33855.0, \"death\": 150806.0, \"deathIncrease\": 295.0, \"positiveRate\": 0.041, \"state\": \"Non Tri-State\", \"sma7d\": 0.051}, {\"date\": \"2020-09-28T00:00:00\", \"totalTestResultsIncrease\": 1006005.0, \"positiveIncrease\": 34561.0, \"death\": 151051.0, \"deathIncrease\": 245.0, \"positiveRate\": 0.034, \"state\": \"Non Tri-State\", \"sma7d\": 0.048}, {\"date\": \"2020-09-29T00:00:00\", \"totalTestResultsIncrease\": 811563.0, \"positiveIncrease\": 35063.0, \"death\": 151776.0, \"deathIncrease\": 725.0, \"positiveRate\": 0.043, \"state\": \"Non Tri-State\", \"sma7d\": 0.044}, {\"date\": \"2020-09-30T00:00:00\", \"totalTestResultsIncrease\": 737034.0, \"positiveIncrease\": 42423.0, \"death\": 152816.0, \"deathIncrease\": 1040.0, \"positiveRate\": 0.058, \"state\": \"Non Tri-State\", \"sma7d\": 0.046}, {\"date\": \"2020-10-01T00:00:00\", \"totalTestResultsIncrease\": 872486.0, \"positiveIncrease\": 43429.0, \"death\": 153648.0, \"deathIncrease\": 832.0, \"positiveRate\": 0.05, \"state\": \"Non Tri-State\", \"sma7d\": 0.047}, {\"date\": \"2020-10-02T00:00:00\", \"totalTestResultsIncrease\": 983156.0, \"positiveIncrease\": 46591.0, \"death\": 154470.0, \"deathIncrease\": 822.0, \"positiveRate\": 0.047, \"state\": \"Non Tri-State\", \"sma7d\": 0.046}, {\"date\": \"2020-10-03T00:00:00\", \"totalTestResultsIncrease\": 957086.0, \"positiveIncrease\": 48660.0, \"death\": 155199.0, \"deathIncrease\": 729.0, \"positiveRate\": 0.051, \"state\": \"Non Tri-State\", \"sma7d\": 0.046}, {\"date\": \"2020-10-04T00:00:00\", \"totalTestResultsIncrease\": 854231.0, \"positiveIncrease\": 36509.0, \"death\": 155547.0, \"deathIncrease\": 348.0, \"positiveRate\": 0.043, \"state\": \"Non Tri-State\", \"sma7d\": 0.047}, {\"date\": \"2020-10-05T00:00:00\", \"totalTestResultsIncrease\": 838848.0, \"positiveIncrease\": 35857.0, \"death\": 155859.0, \"deathIncrease\": 312.0, \"positiveRate\": 0.043, \"state\": \"Non Tri-State\", \"sma7d\": 0.048}, {\"date\": \"2020-10-06T00:00:00\", \"totalTestResultsIncrease\": 783046.0, \"positiveIncrease\": 36468.0, \"death\": 156471.0, \"deathIncrease\": 612.0, \"positiveRate\": 0.047, \"state\": \"Non Tri-State\", \"sma7d\": 0.048}, {\"date\": \"2020-10-07T00:00:00\", \"totalTestResultsIncrease\": 818834.0, \"positiveIncrease\": 48573.0, \"death\": 157372.0, \"deathIncrease\": 901.0, \"positiveRate\": 0.059, \"state\": \"Non Tri-State\", \"sma7d\": 0.049}, {\"date\": \"2020-10-08T00:00:00\", \"totalTestResultsIncrease\": 902907.0, \"positiveIncrease\": 51774.0, \"death\": 158335.0, \"deathIncrease\": 963.0, \"positiveRate\": 0.057, \"state\": \"Non Tri-State\", \"sma7d\": 0.05}, {\"date\": \"2020-10-09T00:00:00\", \"totalTestResultsIncrease\": 1000707.0, \"positiveIncrease\": 54258.0, \"death\": 159215.0, \"deathIncrease\": 880.0, \"positiveRate\": 0.054, \"state\": \"Non Tri-State\", \"sma7d\": 0.051}, {\"date\": \"2020-10-10T00:00:00\", \"totalTestResultsIncrease\": 1064817.0, \"positiveIncrease\": 55181.0, \"death\": 159865.0, \"deathIncrease\": 650.0, \"positiveRate\": 0.052, \"state\": \"Non Tri-State\", \"sma7d\": 0.051}, {\"date\": \"2020-10-11T00:00:00\", \"totalTestResultsIncrease\": 959704.0, \"positiveIncrease\": 44896.0, \"death\": 160323.0, \"deathIncrease\": 458.0, \"positiveRate\": 0.047, \"state\": \"Non Tri-State\", \"sma7d\": 0.051}, {\"date\": \"2020-10-12T00:00:00\", \"totalTestResultsIncrease\": 813740.0, \"positiveIncrease\": 40273.0, \"death\": 160594.0, \"deathIncrease\": 271.0, \"positiveRate\": 0.049, \"state\": \"Non Tri-State\", \"sma7d\": 0.052}, {\"date\": \"2020-10-13T00:00:00\", \"totalTestResultsIncrease\": 919903.0, \"positiveIncrease\": 45618.0, \"death\": 161265.0, \"deathIncrease\": 671.0, \"positiveRate\": 0.05, \"state\": \"Non Tri-State\", \"sma7d\": 0.053}, {\"date\": \"2020-10-14T00:00:00\", \"totalTestResultsIncrease\": 846049.0, \"positiveIncrease\": 54388.0, \"death\": 162056.0, \"deathIncrease\": 791.0, \"positiveRate\": 0.064, \"state\": \"Non Tri-State\", \"sma7d\": 0.053}, {\"date\": \"2020-10-15T00:00:00\", \"totalTestResultsIncrease\": 900709.0, \"positiveIncrease\": 60504.0, \"death\": 162985.0, \"deathIncrease\": 929.0, \"positiveRate\": 0.067, \"state\": \"Non Tri-State\", \"sma7d\": 0.055}, {\"date\": \"2020-10-16T00:00:00\", \"totalTestResultsIncrease\": 1015324.0, \"positiveIncrease\": 64721.0, \"death\": 163845.0, \"deathIncrease\": 860.0, \"positiveRate\": 0.064, \"state\": \"Non Tri-State\", \"sma7d\": 0.056}, {\"date\": \"2020-10-17T00:00:00\", \"totalTestResultsIncrease\": 1092582.0, \"positiveIncrease\": 55149.0, \"death\": 164614.0, \"deathIncrease\": 769.0, \"positiveRate\": 0.05, \"state\": \"Non Tri-State\", \"sma7d\": 0.056}, {\"date\": \"2020-10-18T00:00:00\", \"totalTestResultsIncrease\": 920849.0, \"positiveIncrease\": 46192.0, \"death\": 164993.0, \"deathIncrease\": 379.0, \"positiveRate\": 0.05, \"state\": \"Non Tri-State\", \"sma7d\": 0.056}, {\"date\": \"2020-10-19T00:00:00\", \"totalTestResultsIncrease\": 896796.0, \"positiveIncrease\": 53751.0, \"death\": 165419.0, \"deathIncrease\": 426.0, \"positiveRate\": 0.06, \"state\": \"Non Tri-State\", \"sma7d\": 0.058}, {\"date\": \"2020-10-20T00:00:00\", \"totalTestResultsIncrease\": 821758.0, \"positiveIncrease\": 57935.0, \"death\": 166220.0, \"deathIncrease\": 801.0, \"positiveRate\": 0.071, \"state\": \"Non Tri-State\", \"sma7d\": 0.061}, {\"date\": \"2020-10-21T00:00:00\", \"totalTestResultsIncrease\": 754877.0, \"positiveIncrease\": 57240.0, \"death\": 167211.0, \"deathIncrease\": 991.0, \"positiveRate\": 0.076, \"state\": \"Non Tri-State\", \"sma7d\": 0.063}, {\"date\": \"2020-10-22T00:00:00\", \"totalTestResultsIncrease\": 1012912.0, \"positiveIncrease\": 69715.0, \"death\": 168319.0, \"deathIncrease\": 1108.0, \"positiveRate\": 0.069, \"state\": \"Non Tri-State\", \"sma7d\": 0.063}, {\"date\": \"2020-10-23T00:00:00\", \"totalTestResultsIncrease\": 1165206.0, \"positiveIncrease\": 79696.0, \"death\": 169207.0, \"deathIncrease\": 888.0, \"positiveRate\": 0.068, \"state\": \"Non Tri-State\", \"sma7d\": 0.063}, {\"date\": \"2020-10-24T00:00:00\", \"totalTestResultsIncrease\": 1144039.0, \"positiveIncrease\": 78955.0, \"death\": 170076.0, \"deathIncrease\": 869.0, \"positiveRate\": 0.069, \"state\": \"Non Tri-State\", \"sma7d\": 0.066}, {\"date\": \"2020-10-25T00:00:00\", \"totalTestResultsIncrease\": 1017584.0, \"positiveIncrease\": 62889.0, \"death\": 170437.0, \"deathIncrease\": 361.0, \"positiveRate\": 0.062, \"state\": \"Non Tri-State\", \"sma7d\": 0.068}, {\"date\": \"2020-10-26T00:00:00\", \"totalTestResultsIncrease\": 951604.0, \"positiveIncrease\": 57820.0, \"death\": 170795.0, \"deathIncrease\": 358.0, \"positiveRate\": 0.061, \"state\": \"Non Tri-State\", \"sma7d\": 0.068}, {\"date\": \"2020-10-27T00:00:00\", \"totalTestResultsIncrease\": 915931.0, \"positiveIncrease\": 68920.0, \"death\": 171690.0, \"deathIncrease\": 895.0, \"positiveRate\": 0.075, \"state\": \"Non Tri-State\", \"sma7d\": 0.069}, {\"date\": \"2020-10-28T00:00:00\", \"totalTestResultsIncrease\": 891431.0, \"positiveIncrease\": 74474.0, \"death\": 172673.0, \"deathIncrease\": 983.0, \"positiveRate\": 0.084, \"state\": \"Non Tri-State\", \"sma7d\": 0.07}]}}, {\"mode\": \"vega-lite\"});\n",
       "</script>"
      ],
      "text/plain": [
       "alt.LayerChart(...)"
      ]
     },
     "execution_count": 16,
     "metadata": {},
     "output_type": "execute_result"
    }
   ],
   "source": [
    "create_plot(non_tristate, 'positiveRate')"
   ]
  },
  {
   "cell_type": "code",
   "execution_count": 17,
   "metadata": {
    "execution": {
     "iopub.execute_input": "2020-10-29T22:33:19.956777Z",
     "iopub.status.busy": "2020-10-29T22:33:19.956286Z",
     "iopub.status.idle": "2020-10-29T22:33:20.047479Z",
     "shell.execute_reply": "2020-10-29T22:33:20.047918Z"
    },
    "papermill": {
     "duration": 0.113525,
     "end_time": "2020-10-29T22:33:20.048077",
     "exception": false,
     "start_time": "2020-10-29T22:33:19.934552",
     "status": "completed"
    },
    "tags": []
   },
   "outputs": [
    {
     "data": {
      "text/html": [
       "\n",
       "<div id=\"altair-viz-141c5de6eab34e228cc00fcdc56b2a40\"></div>\n",
       "<script type=\"text/javascript\">\n",
       "  (function(spec, embedOpt){\n",
       "    let outputDiv = document.currentScript.previousElementSibling;\n",
       "    if (outputDiv.id !== \"altair-viz-141c5de6eab34e228cc00fcdc56b2a40\") {\n",
       "      outputDiv = document.getElementById(\"altair-viz-141c5de6eab34e228cc00fcdc56b2a40\");\n",
       "    }\n",
       "    const paths = {\n",
       "      \"vega\": \"https://cdn.jsdelivr.net/npm//vega@5?noext\",\n",
       "      \"vega-lib\": \"https://cdn.jsdelivr.net/npm//vega-lib?noext\",\n",
       "      \"vega-lite\": \"https://cdn.jsdelivr.net/npm//vega-lite@4.8.1?noext\",\n",
       "      \"vega-embed\": \"https://cdn.jsdelivr.net/npm//vega-embed@6?noext\",\n",
       "    };\n",
       "\n",
       "    function loadScript(lib) {\n",
       "      return new Promise(function(resolve, reject) {\n",
       "        var s = document.createElement('script');\n",
       "        s.src = paths[lib];\n",
       "        s.async = true;\n",
       "        s.onload = () => resolve(paths[lib]);\n",
       "        s.onerror = () => reject(`Error loading script: ${paths[lib]}`);\n",
       "        document.getElementsByTagName(\"head\")[0].appendChild(s);\n",
       "      });\n",
       "    }\n",
       "\n",
       "    function showError(err) {\n",
       "      outputDiv.innerHTML = `<div class=\"error\" style=\"color:red;\">${err}</div>`;\n",
       "      throw err;\n",
       "    }\n",
       "\n",
       "    function displayChart(vegaEmbed) {\n",
       "      vegaEmbed(outputDiv, spec, embedOpt)\n",
       "        .catch(err => showError(`Javascript Error: ${err.message}<br>This usually means there's a typo in your chart specification. See the javascript console for the full traceback.`));\n",
       "    }\n",
       "\n",
       "    if(typeof define === \"function\" && define.amd) {\n",
       "      requirejs.config({paths});\n",
       "      require([\"vega-embed\"], displayChart, err => showError(`Error loading script: ${err.message}`));\n",
       "    } else if (typeof vegaEmbed === \"function\") {\n",
       "      displayChart(vegaEmbed);\n",
       "    } else {\n",
       "      loadScript(\"vega\")\n",
       "        .then(() => loadScript(\"vega-lite\"))\n",
       "        .then(() => loadScript(\"vega-embed\"))\n",
       "        .catch(showError)\n",
       "        .then(() => displayChart(vegaEmbed));\n",
       "    }\n",
       "  })({\"config\": {\"view\": {\"continuousWidth\": 400, \"continuousHeight\": 300}}, \"layer\": [{\"layer\": [{\"mark\": {\"type\": \"point\", \"size\": 75}, \"encoding\": {\"tooltip\": [{\"type\": \"temporal\", \"field\": \"date\"}, {\"type\": \"quantitative\", \"field\": \"deathIncrease\"}, {\"type\": \"quantitative\", \"field\": \"sma7d\"}], \"x\": {\"type\": \"temporal\", \"field\": \"date\"}, \"y\": {\"type\": \"quantitative\", \"field\": \"deathIncrease\"}}, \"selection\": {\"selector018\": {\"type\": \"interval\", \"bind\": \"scales\", \"encodings\": [\"x\", \"y\"]}}}, {\"mark\": {\"type\": \"line\", \"color\": \"purple\"}, \"encoding\": {\"x\": {\"type\": \"temporal\", \"field\": \"date\"}, \"y\": {\"type\": \"quantitative\", \"field\": \"sma7d\"}}}]}, {\"mark\": {\"type\": \"rule\", \"color\": \"#aaa\"}, \"encoding\": {\"x\": {\"type\": \"temporal\", \"field\": \"date\"}}, \"transform\": [{\"filter\": {\"selection\": \"selector017\"}}]}, {\"mark\": \"circle\", \"encoding\": {\"opacity\": {\"condition\": {\"value\": 1, \"selection\": \"selector017\"}, \"value\": 0}, \"tooltip\": [{\"type\": \"temporal\", \"field\": \"date\"}, {\"type\": \"quantitative\", \"field\": \"deathIncrease\"}, {\"type\": \"quantitative\", \"field\": \"sma7d\"}], \"x\": {\"type\": \"temporal\", \"field\": \"date\"}, \"y\": {\"type\": \"quantitative\", \"field\": \"deathIncrease\"}}, \"selection\": {\"selector017\": {\"type\": \"single\", \"encodings\": [\"x\"], \"on\": \"mouseover\", \"nearest\": true, \"empty\": \"none\"}}}, {\"mark\": {\"type\": \"text\", \"align\": \"left\", \"dx\": 5, \"dy\": -5, \"stroke\": \"white\", \"strokeWidth\": 2}, \"encoding\": {\"text\": {\"type\": \"quantitative\", \"field\": \"deathIncrease\"}, \"tooltip\": [{\"type\": \"temporal\", \"field\": \"date\"}, {\"type\": \"quantitative\", \"field\": \"deathIncrease\"}, {\"type\": \"quantitative\", \"field\": \"sma7d\"}], \"x\": {\"type\": \"temporal\", \"field\": \"date\"}, \"y\": {\"type\": \"quantitative\", \"field\": \"deathIncrease\"}}, \"transform\": [{\"filter\": {\"selection\": \"selector017\"}}]}, {\"mark\": {\"type\": \"text\", \"align\": \"left\", \"dx\": 5, \"dy\": -5}, \"encoding\": {\"text\": {\"type\": \"quantitative\", \"field\": \"deathIncrease\"}, \"tooltip\": [{\"type\": \"temporal\", \"field\": \"date\"}, {\"type\": \"quantitative\", \"field\": \"deathIncrease\"}, {\"type\": \"quantitative\", \"field\": \"sma7d\"}], \"x\": {\"type\": \"temporal\", \"field\": \"date\"}, \"y\": {\"type\": \"quantitative\", \"field\": \"deathIncrease\"}}, \"transform\": [{\"filter\": {\"selection\": \"selector017\"}}]}], \"data\": {\"name\": \"data-c0d77da8b229973098c9f336bab62779\"}, \"height\": 400, \"title\": \"Non Tri-State: deathIncrease\", \"width\": 500, \"$schema\": \"https://vega.github.io/schema/vega-lite/v4.8.1.json\", \"datasets\": {\"data-c0d77da8b229973098c9f336bab62779\": [{\"date\": \"2020-09-04T00:00:00\", \"totalTestResultsIncrease\": 887902.0, \"positiveIncrease\": 50071.0, \"death\": 133946.0, \"deathIncrease\": 986.0, \"positiveRate\": 0.056, \"state\": \"Non Tri-State\", \"sma7d\": 842.714}, {\"date\": \"2020-09-05T00:00:00\", \"totalTestResultsIncrease\": 862568.0, \"positiveIncrease\": 43716.0, \"death\": 134855.0, \"deathIncrease\": 909.0, \"positiveRate\": 0.051, \"state\": \"Non Tri-State\", \"sma7d\": 829.0}, {\"date\": \"2020-09-06T00:00:00\", \"totalTestResultsIncrease\": 709950.0, \"positiveIncrease\": 32026.0, \"death\": 135291.0, \"deathIncrease\": 436.0, \"positiveRate\": 0.045, \"state\": \"Non Tri-State\", \"sma7d\": 825.143}, {\"date\": \"2020-09-07T00:00:00\", \"totalTestResultsIncrease\": 552881.0, \"positiveIncrease\": 27804.0, \"death\": 135512.0, \"deathIncrease\": 221.0, \"positiveRate\": 0.05, \"state\": \"Non Tri-State\", \"sma7d\": 805.714}, {\"date\": \"2020-09-08T00:00:00\", \"totalTestResultsIncrease\": 458286.0, \"positiveIncrease\": 20946.0, \"death\": 135853.0, \"deathIncrease\": 341.0, \"positiveRate\": 0.046, \"state\": \"Non Tri-State\", \"sma7d\": 709.0}, {\"date\": \"2020-09-09T00:00:00\", \"totalTestResultsIncrease\": 599403.0, \"positiveIncrease\": 30076.0, \"death\": 136926.0, \"deathIncrease\": 1073.0, \"positiveRate\": 0.05, \"state\": \"Non Tri-State\", \"sma7d\": 717.286}, {\"date\": \"2020-09-10T00:00:00\", \"totalTestResultsIncrease\": 657118.0, \"positiveIncrease\": 36132.0, \"death\": 138080.0, \"deathIncrease\": 1154.0, \"positiveRate\": 0.055, \"state\": \"Non Tri-State\", \"sma7d\": 731.429}, {\"date\": \"2020-09-11T00:00:00\", \"totalTestResultsIncrease\": 778232.0, \"positiveIncrease\": 43294.0, \"death\": 139082.0, \"deathIncrease\": 1002.0, \"positiveRate\": 0.056, \"state\": \"Non Tri-State\", \"sma7d\": 733.714}, {\"date\": \"2020-09-12T00:00:00\", \"totalTestResultsIncrease\": 886323.0, \"positiveIncrease\": 40770.0, \"death\": 139886.0, \"deathIncrease\": 804.0, \"positiveRate\": 0.046, \"state\": \"Non Tri-State\", \"sma7d\": 718.714}, {\"date\": \"2020-09-13T00:00:00\", \"totalTestResultsIncrease\": 672083.0, \"positiveIncrease\": 33403.0, \"death\": 140265.0, \"deathIncrease\": 379.0, \"positiveRate\": 0.05, \"state\": \"Non Tri-State\", \"sma7d\": 710.571}, {\"date\": \"2020-09-14T00:00:00\", \"totalTestResultsIncrease\": 367126.0, \"positiveIncrease\": 32360.0, \"death\": 140656.0, \"deathIncrease\": 391.0, \"positiveRate\": 0.088, \"state\": \"Non Tri-State\", \"sma7d\": 734.857}, {\"date\": \"2020-09-15T00:00:00\", \"totalTestResultsIncrease\": 697817.0, \"positiveIncrease\": 33734.0, \"death\": 141667.0, \"deathIncrease\": 1011.0, \"positiveRate\": 0.048, \"state\": \"Non Tri-State\", \"sma7d\": 830.571}, {\"date\": \"2020-09-16T00:00:00\", \"totalTestResultsIncrease\": 717981.0, \"positiveIncrease\": 38779.0, \"death\": 142851.0, \"deathIncrease\": 1184.0, \"positiveRate\": 0.054, \"state\": \"Non Tri-State\", \"sma7d\": 846.429}, {\"date\": \"2020-09-17T00:00:00\", \"totalTestResultsIncrease\": 821200.0, \"positiveIncrease\": 41891.0, \"death\": 143707.0, \"deathIncrease\": 856.0, \"positiveRate\": 0.051, \"state\": \"Non Tri-State\", \"sma7d\": 803.857}, {\"date\": \"2020-09-18T00:00:00\", \"totalTestResultsIncrease\": 957775.0, \"positiveIncrease\": 46041.0, \"death\": 144590.0, \"deathIncrease\": 883.0, \"positiveRate\": 0.048, \"state\": \"Non Tri-State\", \"sma7d\": 786.857}, {\"date\": \"2020-09-19T00:00:00\", \"totalTestResultsIncrease\": 1060639.0, \"positiveIncrease\": 44054.0, \"death\": 145325.0, \"deathIncrease\": 735.0, \"positiveRate\": 0.042, \"state\": \"Non Tri-State\", \"sma7d\": 777.0}, {\"date\": \"2020-09-20T00:00:00\", \"totalTestResultsIncrease\": 817877.0, \"positiveIncrease\": 34956.0, \"death\": 145647.0, \"deathIncrease\": 322.0, \"positiveRate\": 0.043, \"state\": \"Non Tri-State\", \"sma7d\": 768.857}, {\"date\": \"2020-09-21T00:00:00\", \"totalTestResultsIncrease\": 669398.0, \"positiveIncrease\": 37996.0, \"death\": 145928.0, \"deathIncrease\": 281.0, \"positiveRate\": 0.057, \"state\": \"Non Tri-State\", \"sma7d\": 753.143}, {\"date\": \"2020-09-22T00:00:00\", \"totalTestResultsIncrease\": 702703.0, \"positiveIncrease\": 48067.0, \"death\": 146770.0, \"deathIncrease\": 842.0, \"positiveRate\": 0.068, \"state\": \"Non Tri-State\", \"sma7d\": 729.0}, {\"date\": \"2020-09-23T00:00:00\", \"totalTestResultsIncrease\": 895859.0, \"positiveIncrease\": 37343.0, \"death\": 147915.0, \"deathIncrease\": 1145.0, \"positiveRate\": 0.042, \"state\": \"Non Tri-State\", \"sma7d\": 723.429}, {\"date\": \"2020-09-24T00:00:00\", \"totalTestResultsIncrease\": 893935.0, \"positiveIncrease\": 42032.0, \"death\": 148823.0, \"deathIncrease\": 908.0, \"positiveRate\": 0.047, \"state\": \"Non Tri-State\", \"sma7d\": 730.857}, {\"date\": \"2020-09-25T00:00:00\", \"totalTestResultsIncrease\": 974166.0, \"positiveIncrease\": 53917.0, \"death\": 149652.0, \"deathIncrease\": 829.0, \"positiveRate\": 0.055, \"state\": \"Non Tri-State\", \"sma7d\": 723.143}, {\"date\": \"2020-09-26T00:00:00\", \"totalTestResultsIncrease\": 984753.0, \"positiveIncrease\": 46037.0, \"death\": 150511.0, \"deathIncrease\": 859.0, \"positiveRate\": 0.047, \"state\": \"Non Tri-State\", \"sma7d\": 740.857}, {\"date\": \"2020-09-27T00:00:00\", \"totalTestResultsIncrease\": 818506.0, \"positiveIncrease\": 33855.0, \"death\": 150806.0, \"deathIncrease\": 295.0, \"positiveRate\": 0.041, \"state\": \"Non Tri-State\", \"sma7d\": 737.0}, {\"date\": \"2020-09-28T00:00:00\", \"totalTestResultsIncrease\": 1006005.0, \"positiveIncrease\": 34561.0, \"death\": 151051.0, \"deathIncrease\": 245.0, \"positiveRate\": 0.034, \"state\": \"Non Tri-State\", \"sma7d\": 731.857}, {\"date\": \"2020-09-29T00:00:00\", \"totalTestResultsIncrease\": 811563.0, \"positiveIncrease\": 35063.0, \"death\": 151776.0, \"deathIncrease\": 725.0, \"positiveRate\": 0.043, \"state\": \"Non Tri-State\", \"sma7d\": 715.143}, {\"date\": \"2020-09-30T00:00:00\", \"totalTestResultsIncrease\": 737034.0, \"positiveIncrease\": 42423.0, \"death\": 152816.0, \"deathIncrease\": 1040.0, \"positiveRate\": 0.058, \"state\": \"Non Tri-State\", \"sma7d\": 700.143}, {\"date\": \"2020-10-01T00:00:00\", \"totalTestResultsIncrease\": 872486.0, \"positiveIncrease\": 43429.0, \"death\": 153648.0, \"deathIncrease\": 832.0, \"positiveRate\": 0.05, \"state\": \"Non Tri-State\", \"sma7d\": 689.286}, {\"date\": \"2020-10-02T00:00:00\", \"totalTestResultsIncrease\": 983156.0, \"positiveIncrease\": 46591.0, \"death\": 154470.0, \"deathIncrease\": 822.0, \"positiveRate\": 0.047, \"state\": \"Non Tri-State\", \"sma7d\": 688.286}, {\"date\": \"2020-10-03T00:00:00\", \"totalTestResultsIncrease\": 957086.0, \"positiveIncrease\": 48660.0, \"death\": 155199.0, \"deathIncrease\": 729.0, \"positiveRate\": 0.051, \"state\": \"Non Tri-State\", \"sma7d\": 669.714}, {\"date\": \"2020-10-04T00:00:00\", \"totalTestResultsIncrease\": 854231.0, \"positiveIncrease\": 36509.0, \"death\": 155547.0, \"deathIncrease\": 348.0, \"positiveRate\": 0.043, \"state\": \"Non Tri-State\", \"sma7d\": 677.286}, {\"date\": \"2020-10-05T00:00:00\", \"totalTestResultsIncrease\": 838848.0, \"positiveIncrease\": 35857.0, \"death\": 155859.0, \"deathIncrease\": 312.0, \"positiveRate\": 0.043, \"state\": \"Non Tri-State\", \"sma7d\": 686.857}, {\"date\": \"2020-10-06T00:00:00\", \"totalTestResultsIncrease\": 783046.0, \"positiveIncrease\": 36468.0, \"death\": 156471.0, \"deathIncrease\": 612.0, \"positiveRate\": 0.047, \"state\": \"Non Tri-State\", \"sma7d\": 670.714}, {\"date\": \"2020-10-07T00:00:00\", \"totalTestResultsIncrease\": 818834.0, \"positiveIncrease\": 48573.0, \"death\": 157372.0, \"deathIncrease\": 901.0, \"positiveRate\": 0.059, \"state\": \"Non Tri-State\", \"sma7d\": 650.857}, {\"date\": \"2020-10-08T00:00:00\", \"totalTestResultsIncrease\": 902907.0, \"positiveIncrease\": 51774.0, \"death\": 158335.0, \"deathIncrease\": 963.0, \"positiveRate\": 0.057, \"state\": \"Non Tri-State\", \"sma7d\": 669.571}, {\"date\": \"2020-10-09T00:00:00\", \"totalTestResultsIncrease\": 1000707.0, \"positiveIncrease\": 54258.0, \"death\": 159215.0, \"deathIncrease\": 880.0, \"positiveRate\": 0.054, \"state\": \"Non Tri-State\", \"sma7d\": 677.857}, {\"date\": \"2020-10-10T00:00:00\", \"totalTestResultsIncrease\": 1064817.0, \"positiveIncrease\": 55181.0, \"death\": 159865.0, \"deathIncrease\": 650.0, \"positiveRate\": 0.052, \"state\": \"Non Tri-State\", \"sma7d\": 666.571}, {\"date\": \"2020-10-11T00:00:00\", \"totalTestResultsIncrease\": 959704.0, \"positiveIncrease\": 44896.0, \"death\": 160323.0, \"deathIncrease\": 458.0, \"positiveRate\": 0.047, \"state\": \"Non Tri-State\", \"sma7d\": 682.286}, {\"date\": \"2020-10-12T00:00:00\", \"totalTestResultsIncrease\": 813740.0, \"positiveIncrease\": 40273.0, \"death\": 160594.0, \"deathIncrease\": 271.0, \"positiveRate\": 0.049, \"state\": \"Non Tri-State\", \"sma7d\": 676.429}, {\"date\": \"2020-10-13T00:00:00\", \"totalTestResultsIncrease\": 919903.0, \"positiveIncrease\": 45618.0, \"death\": 161265.0, \"deathIncrease\": 671.0, \"positiveRate\": 0.05, \"state\": \"Non Tri-State\", \"sma7d\": 684.857}, {\"date\": \"2020-10-14T00:00:00\", \"totalTestResultsIncrease\": 846049.0, \"positiveIncrease\": 54388.0, \"death\": 162056.0, \"deathIncrease\": 791.0, \"positiveRate\": 0.064, \"state\": \"Non Tri-State\", \"sma7d\": 669.143}, {\"date\": \"2020-10-15T00:00:00\", \"totalTestResultsIncrease\": 900709.0, \"positiveIncrease\": 60504.0, \"death\": 162985.0, \"deathIncrease\": 929.0, \"positiveRate\": 0.067, \"state\": \"Non Tri-State\", \"sma7d\": 664.286}, {\"date\": \"2020-10-16T00:00:00\", \"totalTestResultsIncrease\": 1015324.0, \"positiveIncrease\": 64721.0, \"death\": 163845.0, \"deathIncrease\": 860.0, \"positiveRate\": 0.064, \"state\": \"Non Tri-State\", \"sma7d\": 661.429}, {\"date\": \"2020-10-17T00:00:00\", \"totalTestResultsIncrease\": 1092582.0, \"positiveIncrease\": 55149.0, \"death\": 164614.0, \"deathIncrease\": 769.0, \"positiveRate\": 0.05, \"state\": \"Non Tri-State\", \"sma7d\": 678.429}, {\"date\": \"2020-10-18T00:00:00\", \"totalTestResultsIncrease\": 920849.0, \"positiveIncrease\": 46192.0, \"death\": 164993.0, \"deathIncrease\": 379.0, \"positiveRate\": 0.05, \"state\": \"Non Tri-State\", \"sma7d\": 667.143}, {\"date\": \"2020-10-19T00:00:00\", \"totalTestResultsIncrease\": 896796.0, \"positiveIncrease\": 53751.0, \"death\": 165419.0, \"deathIncrease\": 426.0, \"positiveRate\": 0.06, \"state\": \"Non Tri-State\", \"sma7d\": 689.286}, {\"date\": \"2020-10-20T00:00:00\", \"totalTestResultsIncrease\": 821758.0, \"positiveIncrease\": 57935.0, \"death\": 166220.0, \"deathIncrease\": 801.0, \"positiveRate\": 0.071, \"state\": \"Non Tri-State\", \"sma7d\": 707.857}, {\"date\": \"2020-10-21T00:00:00\", \"totalTestResultsIncrease\": 754877.0, \"positiveIncrease\": 57240.0, \"death\": 167211.0, \"deathIncrease\": 991.0, \"positiveRate\": 0.076, \"state\": \"Non Tri-State\", \"sma7d\": 736.429}, {\"date\": \"2020-10-22T00:00:00\", \"totalTestResultsIncrease\": 1012912.0, \"positiveIncrease\": 69715.0, \"death\": 168319.0, \"deathIncrease\": 1108.0, \"positiveRate\": 0.069, \"state\": \"Non Tri-State\", \"sma7d\": 762.0}, {\"date\": \"2020-10-23T00:00:00\", \"totalTestResultsIncrease\": 1165206.0, \"positiveIncrease\": 79696.0, \"death\": 169207.0, \"deathIncrease\": 888.0, \"positiveRate\": 0.068, \"state\": \"Non Tri-State\", \"sma7d\": 766.0}, {\"date\": \"2020-10-24T00:00:00\", \"totalTestResultsIncrease\": 1144039.0, \"positiveIncrease\": 78955.0, \"death\": 170076.0, \"deathIncrease\": 869.0, \"positiveRate\": 0.069, \"state\": \"Non Tri-State\", \"sma7d\": 780.286}, {\"date\": \"2020-10-25T00:00:00\", \"totalTestResultsIncrease\": 1017584.0, \"positiveIncrease\": 62889.0, \"death\": 170437.0, \"deathIncrease\": 361.0, \"positiveRate\": 0.062, \"state\": \"Non Tri-State\", \"sma7d\": 777.714}, {\"date\": \"2020-10-26T00:00:00\", \"totalTestResultsIncrease\": 951604.0, \"positiveIncrease\": 57820.0, \"death\": 170795.0, \"deathIncrease\": 358.0, \"positiveRate\": 0.061, \"state\": \"Non Tri-State\", \"sma7d\": 768.0}, {\"date\": \"2020-10-27T00:00:00\", \"totalTestResultsIncrease\": 915931.0, \"positiveIncrease\": 68920.0, \"death\": 171690.0, \"deathIncrease\": 895.0, \"positiveRate\": 0.075, \"state\": \"Non Tri-State\", \"sma7d\": 781.429}, {\"date\": \"2020-10-28T00:00:00\", \"totalTestResultsIncrease\": 891431.0, \"positiveIncrease\": 74474.0, \"death\": 172673.0, \"deathIncrease\": 983.0, \"positiveRate\": 0.084, \"state\": \"Non Tri-State\", \"sma7d\": 780.286}]}}, {\"mode\": \"vega-lite\"});\n",
       "</script>"
      ],
      "text/plain": [
       "alt.LayerChart(...)"
      ]
     },
     "execution_count": 17,
     "metadata": {},
     "output_type": "execute_result"
    }
   ],
   "source": [
    "create_plot(non_tristate, 'deathIncrease')"
   ]
  }
 ],
 "metadata": {
  "kernelspec": {
   "display_name": "Python 3",
   "language": "python",
   "name": "python3"
  },
  "language_info": {
   "codemirror_mode": {
    "name": "ipython",
    "version": 3
   },
   "file_extension": ".py",
   "mimetype": "text/x-python",
   "name": "python",
   "nbconvert_exporter": "python",
   "pygments_lexer": "ipython3",
   "version": "3.8.6"
  },
  "papermill": {
   "duration": 9.270706,
   "end_time": "2020-10-29T22:33:21.247943",
   "environment_variables": {},
   "exception": null,
   "input_path": "2020-07-19-covid-plots.ipynb",
   "output_path": "2020-07-19-covid-plots.ipynb",
   "parameters": {},
   "start_time": "2020-10-29T22:33:11.977237",
   "version": "2.1.2"
  }
 },
 "nbformat": 4,
 "nbformat_minor": 4
}