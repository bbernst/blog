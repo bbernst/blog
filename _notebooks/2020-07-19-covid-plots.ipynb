{
 "cells": [
  {
   "cell_type": "markdown",
   "metadata": {
    "papermill": {
     "duration": 0.016911,
     "end_time": "2020-11-24T09:13:27.978726",
     "exception": false,
     "start_time": "2020-11-24T09:13:27.961815",
     "status": "completed"
    },
    "tags": []
   },
   "source": [
    "# \"COVID-19 plots\"\n",
    "> \"Interactive plots with daily updates\"\n",
    "\n",
    "- author: bbernst\n",
    "- toc: true\n",
    "- branch: master\n",
    "- badges: true\n",
    "- comments: true\n",
    "- categories: [healthcare, covid]\n",
    "- image: images/covid_plots/covid_mask.png\n",
    "- hide: false\n",
    "- search_exclude: true"
   ]
  },
  {
   "cell_type": "markdown",
   "metadata": {
    "papermill": {
     "duration": 0.011289,
     "end_time": "2020-11-24T09:13:28.003865",
     "exception": false,
     "start_time": "2020-11-24T09:13:27.992576",
     "status": "completed"
    },
    "tags": []
   },
   "source": [
    "I wanted to make a simple COVID-19 post to accomplish two main goals:\n",
    "1. Easily see the specific plots I'm interested in\n",
    "1. Update these plots every day, automatically\n",
    "\n",
    "Enter [fastpages](https://github.com/fastai/fastpages) and [github actions](https://github.com/features/actions). I'd been meaning to set up a blog with fastpages for a while and thought this would be a good reason to try it out. The documentation was great and I was able to set up automatic updates by using https://covid19dashboards.com/ as a guide.\n",
    "\n",
    "The data for this post comes from https://covidtracking.com/, which updates by 5pm each day, and I have my dashboard update at 6:30pm. For each geography -- so far that's the US, New York, and Non Tri-State -- I look at daily positive cases, positive rate, and deaths. Be sure to hover around on each of the plots, they have helpful interactive tooltips to make reading the data more intuitive."
   ]
  },
  {
   "cell_type": "code",
   "execution_count": 1,
   "metadata": {
    "execution": {
     "iopub.execute_input": "2020-11-24T09:13:28.032495Z",
     "iopub.status.busy": "2020-11-24T09:13:28.031953Z",
     "iopub.status.idle": "2020-11-24T09:13:30.535088Z",
     "shell.execute_reply": "2020-11-24T09:13:30.534585Z"
    },
    "papermill": {
     "duration": 2.519446,
     "end_time": "2020-11-24T09:13:30.535225",
     "exception": false,
     "start_time": "2020-11-24T09:13:28.015779",
     "status": "completed"
    },
    "tags": []
   },
   "outputs": [],
   "source": [
    "#collapse\n",
    "from typing import Callable, Literal\n",
    "import pandas as pd\n",
    "import altair as alt"
   ]
  },
  {
   "cell_type": "code",
   "execution_count": 2,
   "metadata": {
    "execution": {
     "iopub.execute_input": "2020-11-24T09:13:30.560225Z",
     "iopub.status.busy": "2020-11-24T09:13:30.559753Z",
     "iopub.status.idle": "2020-11-24T09:13:30.575290Z",
     "shell.execute_reply": "2020-11-24T09:13:30.575825Z"
    },
    "papermill": {
     "duration": 0.030348,
     "end_time": "2020-11-24T09:13:30.575990",
     "exception": false,
     "start_time": "2020-11-24T09:13:30.545642",
     "status": "completed"
    },
    "tags": []
   },
   "outputs": [
    {
     "name": "stdout",
     "output_type": "stream",
     "text": [
      "Last updated at (ET): 2020-11-24 04:13:30 AM\n"
     ]
    }
   ],
   "source": [
    "#hide_input\n",
    "current_utc = pd.Timestamp.now(tz='America/New_York').strftime('%Y-%m-%d %I:%M:%S %p')\n",
    "print(f\"Last updated at (ET): {current_utc}\")"
   ]
  },
  {
   "cell_type": "markdown",
   "metadata": {
    "papermill": {
     "duration": 0.010903,
     "end_time": "2020-11-24T09:13:30.599050",
     "exception": false,
     "start_time": "2020-11-24T09:13:30.588147",
     "status": "completed"
    },
    "tags": []
   },
   "source": [
    "# Data"
   ]
  },
  {
   "cell_type": "code",
   "execution_count": 3,
   "metadata": {
    "execution": {
     "iopub.execute_input": "2020-11-24T09:13:30.624272Z",
     "iopub.status.busy": "2020-11-24T09:13:30.623899Z",
     "iopub.status.idle": "2020-11-24T09:13:31.611898Z",
     "shell.execute_reply": "2020-11-24T09:13:31.612294Z"
    },
    "papermill": {
     "duration": 1.003274,
     "end_time": "2020-11-24T09:13:31.612444",
     "exception": false,
     "start_time": "2020-11-24T09:13:30.609170",
     "status": "completed"
    },
    "tags": []
   },
   "outputs": [],
   "source": [
    "df = pd.read_csv('https://covidtracking.com/api/states/daily.csv')"
   ]
  },
  {
   "cell_type": "markdown",
   "metadata": {
    "papermill": {
     "duration": 0.013524,
     "end_time": "2020-11-24T09:13:31.637366",
     "exception": false,
     "start_time": "2020-11-24T09:13:31.623842",
     "status": "completed"
    },
    "tags": []
   },
   "source": [
    "# Helpers"
   ]
  },
  {
   "cell_type": "code",
   "execution_count": 4,
   "metadata": {
    "execution": {
     "iopub.execute_input": "2020-11-24T09:13:31.668868Z",
     "iopub.status.busy": "2020-11-24T09:13:31.668334Z",
     "iopub.status.idle": "2020-11-24T09:13:31.670542Z",
     "shell.execute_reply": "2020-11-24T09:13:31.670183Z"
    },
    "papermill": {
     "duration": 0.020671,
     "end_time": "2020-11-24T09:13:31.670643",
     "exception": false,
     "start_time": "2020-11-24T09:13:31.649972",
     "status": "completed"
    },
    "tags": []
   },
   "outputs": [],
   "source": [
    "#collapse\n",
    "def create_df(df: pd.DataFrame, \n",
    "              filter_f: Callable, \n",
    "              state_name: str):\n",
    "    out_df = (\n",
    "     df\n",
    "     .assign(date = lambda d: pd.to_datetime(d['date'], format='%Y%m%d'))\n",
    "     .loc[filter_f, :]\n",
    "     .groupby('date')\n",
    "     .apply(lambda d: pd.Series(dict(\n",
    "         totalTestResultsIncrease = d['totalTestResultsIncrease'].sum(),\n",
    "         positiveIncrease = d['positiveIncrease'].sum(),\n",
    "         death = d['death'].sum(),\n",
    "         deathIncrease = d['deathIncrease'].sum()\n",
    "     )))\n",
    "     .reset_index()\n",
    "     .assign(positiveRate = lambda d: round(d['positiveIncrease'] / d['totalTestResultsIncrease'], 3))\n",
    "     .sort_values('date', ascending=True)\n",
    "     .assign(state = state_name)\n",
    "     .reset_index(drop=True)\n",
    "    )\n",
    "    \n",
    "    return out_df"
   ]
  },
  {
   "cell_type": "code",
   "execution_count": 5,
   "metadata": {
    "execution": {
     "iopub.execute_input": "2020-11-24T09:13:31.702835Z",
     "iopub.status.busy": "2020-11-24T09:13:31.701806Z",
     "iopub.status.idle": "2020-11-24T09:13:31.703681Z",
     "shell.execute_reply": "2020-11-24T09:13:31.705357Z"
    },
    "papermill": {
     "duration": 0.023728,
     "end_time": "2020-11-24T09:13:31.705469",
     "exception": false,
     "start_time": "2020-11-24T09:13:31.681741",
     "status": "completed"
    },
    "tags": []
   },
   "outputs": [],
   "source": [
    "#collapse\n",
    "def create_plot(df: pd.DataFrame, \n",
    "                column: Literal['totalTestResultsIncrease', \n",
    "                                'positiveIncrease', \n",
    "                                'death',\n",
    "                                'deathIncrease', \n",
    "                                'positiveRate'],\n",
    "                period: int = 7*8):\n",
    "    df = (\n",
    "     df\n",
    "     .assign(sma7d = lambda d: d[column].rolling(window=7).mean().round(3))\n",
    "     .loc[lambda d: d['date'] >= pd.to_datetime('today') - period * pd.Timedelta('1 days'), :]\n",
    "     .reset_index(drop=True)\n",
    "    )\n",
    "    the_state = df['state'][0]\n",
    "    label = alt.selection_single(\n",
    "        encodings=['x'], on='mouseover', nearest=True, empty='none')\n",
    "    \n",
    "    base = alt.Chart().mark_point(size=75).encode(\n",
    "        x='date:T',\n",
    "        y=f'{column}:Q',\n",
    "        tooltip=['date', f'{column}:Q', 'sma7d:Q']\n",
    "    )\n",
    "\n",
    "    sma = alt.Chart().mark_line(color='purple').encode(\n",
    "        x='date:T',\n",
    "        y='sma7d:Q'\n",
    "    )\n",
    "\n",
    "    layers = alt.layer(\n",
    "        base + sma,\n",
    "\n",
    "        # add a rule mark to serve as a guide line\n",
    "        alt.Chart().mark_rule(color='#aaa').encode(\n",
    "            x='date:T'\n",
    "        ).transform_filter(label),\n",
    "\n",
    "        # add circle marks for selected time points, hide unselected points\n",
    "        base.mark_circle().encode(\n",
    "            opacity=alt.condition(label, alt.value(1), alt.value(0))\n",
    "        ).add_selection(label),\n",
    "\n",
    "        # add white stroked text to provide a legible background for labels\n",
    "        base.mark_text(align='left', dx=5, dy=-5, stroke='white', strokeWidth=2).encode(\n",
    "            text=f'{column}:Q'\n",
    "        ).transform_filter(label),\n",
    "\n",
    "        # add text labels\n",
    "        base.mark_text(align='left', dx=5, dy=-5).encode(\n",
    "            text=f'{column}:Q'\n",
    "        ).transform_filter(label),\n",
    "        \n",
    "        data=df\n",
    "    ).properties(\n",
    "        title=f'{the_state}: {column}',\n",
    "        width=500,\n",
    "        height=400\n",
    "    )\n",
    "    \n",
    "    return layers.interactive()"
   ]
  },
  {
   "cell_type": "markdown",
   "metadata": {
    "papermill": {
     "duration": 0.01105,
     "end_time": "2020-11-24T09:13:31.727993",
     "exception": false,
     "start_time": "2020-11-24T09:13:31.716943",
     "status": "completed"
    },
    "tags": []
   },
   "source": [
    "# Plots"
   ]
  },
  {
   "cell_type": "markdown",
   "metadata": {
    "papermill": {
     "duration": 0.010691,
     "end_time": "2020-11-24T09:13:31.750549",
     "exception": false,
     "start_time": "2020-11-24T09:13:31.739858",
     "status": "completed"
    },
    "tags": []
   },
   "source": [
    "## US"
   ]
  },
  {
   "cell_type": "code",
   "execution_count": 6,
   "metadata": {
    "execution": {
     "iopub.execute_input": "2020-11-24T09:13:31.776828Z",
     "iopub.status.busy": "2020-11-24T09:13:31.776376Z",
     "iopub.status.idle": "2020-11-24T09:13:32.070058Z",
     "shell.execute_reply": "2020-11-24T09:13:32.069244Z"
    },
    "papermill": {
     "duration": 0.308505,
     "end_time": "2020-11-24T09:13:32.070274",
     "exception": false,
     "start_time": "2020-11-24T09:13:31.761769",
     "status": "completed"
    },
    "tags": []
   },
   "outputs": [],
   "source": [
    "us = create_df(df, lambda d: d.index > 0, 'US')"
   ]
  },
  {
   "cell_type": "code",
   "execution_count": 7,
   "metadata": {
    "execution": {
     "iopub.execute_input": "2020-11-24T09:13:32.111721Z",
     "iopub.status.busy": "2020-11-24T09:13:32.098433Z",
     "iopub.status.idle": "2020-11-24T09:13:32.195356Z",
     "shell.execute_reply": "2020-11-24T09:13:32.195746Z"
    },
    "papermill": {
     "duration": 0.113074,
     "end_time": "2020-11-24T09:13:32.195908",
     "exception": false,
     "start_time": "2020-11-24T09:13:32.082834",
     "status": "completed"
    },
    "tags": []
   },
   "outputs": [
    {
     "data": {
      "text/html": [
       "\n",
       "<div id=\"altair-viz-aea3510cb86f4b33aedeb62c66c10d3a\"></div>\n",
       "<script type=\"text/javascript\">\n",
       "  (function(spec, embedOpt){\n",
       "    let outputDiv = document.currentScript.previousElementSibling;\n",
       "    if (outputDiv.id !== \"altair-viz-aea3510cb86f4b33aedeb62c66c10d3a\") {\n",
       "      outputDiv = document.getElementById(\"altair-viz-aea3510cb86f4b33aedeb62c66c10d3a\");\n",
       "    }\n",
       "    const paths = {\n",
       "      \"vega\": \"https://cdn.jsdelivr.net/npm//vega@5?noext\",\n",
       "      \"vega-lib\": \"https://cdn.jsdelivr.net/npm//vega-lib?noext\",\n",
       "      \"vega-lite\": \"https://cdn.jsdelivr.net/npm//vega-lite@4.8.1?noext\",\n",
       "      \"vega-embed\": \"https://cdn.jsdelivr.net/npm//vega-embed@6?noext\",\n",
       "    };\n",
       "\n",
       "    function loadScript(lib) {\n",
       "      return new Promise(function(resolve, reject) {\n",
       "        var s = document.createElement('script');\n",
       "        s.src = paths[lib];\n",
       "        s.async = true;\n",
       "        s.onload = () => resolve(paths[lib]);\n",
       "        s.onerror = () => reject(`Error loading script: ${paths[lib]}`);\n",
       "        document.getElementsByTagName(\"head\")[0].appendChild(s);\n",
       "      });\n",
       "    }\n",
       "\n",
       "    function showError(err) {\n",
       "      outputDiv.innerHTML = `<div class=\"error\" style=\"color:red;\">${err}</div>`;\n",
       "      throw err;\n",
       "    }\n",
       "\n",
       "    function displayChart(vegaEmbed) {\n",
       "      vegaEmbed(outputDiv, spec, embedOpt)\n",
       "        .catch(err => showError(`Javascript Error: ${err.message}<br>This usually means there's a typo in your chart specification. See the javascript console for the full traceback.`));\n",
       "    }\n",
       "\n",
       "    if(typeof define === \"function\" && define.amd) {\n",
       "      requirejs.config({paths});\n",
       "      require([\"vega-embed\"], displayChart, err => showError(`Error loading script: ${err.message}`));\n",
       "    } else if (typeof vegaEmbed === \"function\") {\n",
       "      displayChart(vegaEmbed);\n",
       "    } else {\n",
       "      loadScript(\"vega\")\n",
       "        .then(() => loadScript(\"vega-lite\"))\n",
       "        .then(() => loadScript(\"vega-embed\"))\n",
       "        .catch(showError)\n",
       "        .then(() => displayChart(vegaEmbed));\n",
       "    }\n",
       "  })({\"config\": {\"view\": {\"continuousWidth\": 400, \"continuousHeight\": 300}}, \"layer\": [{\"layer\": [{\"mark\": {\"type\": \"point\", \"size\": 75}, \"encoding\": {\"tooltip\": [{\"type\": \"temporal\", \"field\": \"date\"}, {\"type\": \"quantitative\", \"field\": \"positiveIncrease\"}, {\"type\": \"quantitative\", \"field\": \"sma7d\"}], \"x\": {\"type\": \"temporal\", \"field\": \"date\"}, \"y\": {\"type\": \"quantitative\", \"field\": \"positiveIncrease\"}}, \"selection\": {\"selector002\": {\"type\": \"interval\", \"bind\": \"scales\", \"encodings\": [\"x\", \"y\"]}}}, {\"mark\": {\"type\": \"line\", \"color\": \"purple\"}, \"encoding\": {\"x\": {\"type\": \"temporal\", \"field\": \"date\"}, \"y\": {\"type\": \"quantitative\", \"field\": \"sma7d\"}}}]}, {\"mark\": {\"type\": \"rule\", \"color\": \"#aaa\"}, \"encoding\": {\"x\": {\"type\": \"temporal\", \"field\": \"date\"}}, \"transform\": [{\"filter\": {\"selection\": \"selector001\"}}]}, {\"mark\": \"circle\", \"encoding\": {\"opacity\": {\"condition\": {\"value\": 1, \"selection\": \"selector001\"}, \"value\": 0}, \"tooltip\": [{\"type\": \"temporal\", \"field\": \"date\"}, {\"type\": \"quantitative\", \"field\": \"positiveIncrease\"}, {\"type\": \"quantitative\", \"field\": \"sma7d\"}], \"x\": {\"type\": \"temporal\", \"field\": \"date\"}, \"y\": {\"type\": \"quantitative\", \"field\": \"positiveIncrease\"}}, \"selection\": {\"selector001\": {\"type\": \"single\", \"encodings\": [\"x\"], \"on\": \"mouseover\", \"nearest\": true, \"empty\": \"none\"}}}, {\"mark\": {\"type\": \"text\", \"align\": \"left\", \"dx\": 5, \"dy\": -5, \"stroke\": \"white\", \"strokeWidth\": 2}, \"encoding\": {\"text\": {\"type\": \"quantitative\", \"field\": \"positiveIncrease\"}, \"tooltip\": [{\"type\": \"temporal\", \"field\": \"date\"}, {\"type\": \"quantitative\", \"field\": \"positiveIncrease\"}, {\"type\": \"quantitative\", \"field\": \"sma7d\"}], \"x\": {\"type\": \"temporal\", \"field\": \"date\"}, \"y\": {\"type\": \"quantitative\", \"field\": \"positiveIncrease\"}}, \"transform\": [{\"filter\": {\"selection\": \"selector001\"}}]}, {\"mark\": {\"type\": \"text\", \"align\": \"left\", \"dx\": 5, \"dy\": -5}, \"encoding\": {\"text\": {\"type\": \"quantitative\", \"field\": \"positiveIncrease\"}, \"tooltip\": [{\"type\": \"temporal\", \"field\": \"date\"}, {\"type\": \"quantitative\", \"field\": \"positiveIncrease\"}, {\"type\": \"quantitative\", \"field\": \"sma7d\"}], \"x\": {\"type\": \"temporal\", \"field\": \"date\"}, \"y\": {\"type\": \"quantitative\", \"field\": \"positiveIncrease\"}}, \"transform\": [{\"filter\": {\"selection\": \"selector001\"}}]}], \"data\": {\"name\": \"data-d7fe46dd54a9a145b47f7d8373244d6e\"}, \"height\": 400, \"title\": \"US: positiveIncrease\", \"width\": 500, \"$schema\": \"https://vega.github.io/schema/vega-lite/v4.8.1.json\", \"datasets\": {\"data-d7fe46dd54a9a145b47f7d8373244d6e\": [{\"date\": \"2020-09-30T00:00:00\", \"totalTestResultsIncrease\": 906365.0, \"positiveIncrease\": 44347.0, \"death\": 198935.0, \"deathIncrease\": 1062.0, \"positiveRate\": 0.049, \"state\": \"US\", \"sma7d\": 42513.714}, {\"date\": \"2020-10-01T00:00:00\", \"totalTestResultsIncrease\": 1003311.0, \"positiveIncrease\": 45605.0, \"death\": 199783.0, \"deathIncrease\": 848.0, \"positiveRate\": 0.045, \"state\": \"US\", \"sma7d\": 42836.429}, {\"date\": \"2020-10-02T00:00:00\", \"totalTestResultsIncrease\": 1240952.0, \"positiveIncrease\": 49257.0, \"death\": 200622.0, \"deathIncrease\": 839.0, \"positiveRate\": 0.04, \"state\": \"US\", \"sma7d\": 41989.0}, {\"date\": \"2020-10-03T00:00:00\", \"totalTestResultsIncrease\": 1097641.0, \"positiveIncrease\": 50935.0, \"death\": 201355.0, \"deathIncrease\": 733.0, \"positiveRate\": 0.046, \"state\": \"US\", \"sma7d\": 42493.571}, {\"date\": \"2020-10-04T00:00:00\", \"totalTestResultsIncrease\": 1027485.0, \"positiveIncrease\": 37988.0, \"death\": 201717.0, \"deathIncrease\": 362.0, \"positiveRate\": 0.037, \"state\": \"US\", \"sma7d\": 42922.286}, {\"date\": \"2020-10-05T00:00:00\", \"totalTestResultsIncrease\": 988270.0, \"positiveIncrease\": 37756.0, \"death\": 202058.0, \"deathIncrease\": 341.0, \"positiveRate\": 0.038, \"state\": \"US\", \"sma7d\": 43189.857}, {\"date\": \"2020-10-06T00:00:00\", \"totalTestResultsIncrease\": 908061.0, \"positiveIncrease\": 38917.0, \"death\": 202690.0, \"deathIncrease\": 632.0, \"positiveRate\": 0.043, \"state\": \"US\", \"sma7d\": 43543.571}, {\"date\": \"2020-10-07T00:00:00\", \"totalTestResultsIncrease\": 974437.0, \"positiveIncrease\": 50590.0, \"death\": 203600.0, \"deathIncrease\": 910.0, \"positiveRate\": 0.052, \"state\": \"US\", \"sma7d\": 44435.429}, {\"date\": \"2020-10-08T00:00:00\", \"totalTestResultsIncrease\": 1154634.0, \"positiveIncrease\": 55208.0, \"death\": 204587.0, \"deathIncrease\": 987.0, \"positiveRate\": 0.048, \"state\": \"US\", \"sma7d\": 45807.286}, {\"date\": \"2020-10-09T00:00:00\", \"totalTestResultsIncrease\": 1201662.0, \"positiveIncrease\": 56802.0, \"death\": 205474.0, \"deathIncrease\": 887.0, \"positiveRate\": 0.047, \"state\": \"US\", \"sma7d\": 46885.143}, {\"date\": \"2020-10-10T00:00:00\", \"totalTestResultsIncrease\": 1251177.0, \"positiveIncrease\": 57415.0, \"death\": 206140.0, \"deathIncrease\": 666.0, \"positiveRate\": 0.046, \"state\": \"US\", \"sma7d\": 47810.857}, {\"date\": \"2020-10-11T00:00:00\", \"totalTestResultsIncrease\": 1077671.0, \"positiveIncrease\": 46269.0, \"death\": 206605.0, \"deathIncrease\": 465.0, \"positiveRate\": 0.043, \"state\": \"US\", \"sma7d\": 48993.857}, {\"date\": \"2020-10-12T00:00:00\", \"totalTestResultsIncrease\": 1053929.0, \"positiveIncrease\": 42643.0, \"death\": 206892.0, \"deathIncrease\": 287.0, \"positiveRate\": 0.04, \"state\": \"US\", \"sma7d\": 49692.0}, {\"date\": \"2020-10-13T00:00:00\", \"totalTestResultsIncrease\": 1049858.0, \"positiveIncrease\": 48593.0, \"death\": 207592.0, \"deathIncrease\": 700.0, \"positiveRate\": 0.046, \"state\": \"US\", \"sma7d\": 51074.286}, {\"date\": \"2020-10-14T00:00:00\", \"totalTestResultsIncrease\": 1037705.0, \"positiveIncrease\": 56117.0, \"death\": 208408.0, \"deathIncrease\": 816.0, \"positiveRate\": 0.054, \"state\": \"US\", \"sma7d\": 51863.857}, {\"date\": \"2020-10-15T00:00:00\", \"totalTestResultsIncrease\": 1111181.0, \"positiveIncrease\": 63392.0, \"death\": 209345.0, \"deathIncrease\": 937.0, \"positiveRate\": 0.057, \"state\": \"US\", \"sma7d\": 53033.0}, {\"date\": \"2020-10-16T00:00:00\", \"totalTestResultsIncrease\": 1228630.0, \"positiveIncrease\": 68248.0, \"death\": 210236.0, \"deathIncrease\": 891.0, \"positiveRate\": 0.056, \"state\": \"US\", \"sma7d\": 54668.143}, {\"date\": \"2020-10-17T00:00:00\", \"totalTestResultsIncrease\": 1298159.0, \"positiveIncrease\": 57330.0, \"death\": 210998.0, \"deathIncrease\": 762.0, \"positiveRate\": 0.044, \"state\": \"US\", \"sma7d\": 54656.0}, {\"date\": \"2020-10-18T00:00:00\", \"totalTestResultsIncrease\": 1052885.0, \"positiveIncrease\": 48284.0, \"death\": 211395.0, \"deathIncrease\": 397.0, \"positiveRate\": 0.046, \"state\": \"US\", \"sma7d\": 54943.857}, {\"date\": \"2020-10-19T00:00:00\", \"totalTestResultsIncrease\": 1126980.0, \"positiveIncrease\": 57110.0, \"death\": 211856.0, \"deathIncrease\": 461.0, \"positiveRate\": 0.051, \"state\": \"US\", \"sma7d\": 57010.571}, {\"date\": \"2020-10-20T00:00:00\", \"totalTestResultsIncrease\": 947980.0, \"positiveIncrease\": 60547.0, \"death\": 212694.0, \"deathIncrease\": 838.0, \"positiveRate\": 0.064, \"state\": \"US\", \"sma7d\": 58718.286}, {\"date\": \"2020-10-21T00:00:00\", \"totalTestResultsIncrease\": 940885.0, \"positiveIncrease\": 60953.0, \"death\": 213716.0, \"deathIncrease\": 1022.0, \"positiveRate\": 0.065, \"state\": \"US\", \"sma7d\": 59409.143}, {\"date\": \"2020-10-22T00:00:00\", \"totalTestResultsIncrease\": 1225535.0, \"positiveIncrease\": 72842.0, \"death\": 214852.0, \"deathIncrease\": 1136.0, \"positiveRate\": 0.059, \"state\": \"US\", \"sma7d\": 60759.143}, {\"date\": \"2020-10-23T00:00:00\", \"totalTestResultsIncrease\": 1381536.0, \"positiveIncrease\": 82332.0, \"death\": 215775.0, \"deathIncrease\": 923.0, \"positiveRate\": 0.06, \"state\": \"US\", \"sma7d\": 62771.143}, {\"date\": \"2020-10-24T00:00:00\", \"totalTestResultsIncrease\": 1322647.0, \"positiveIncrease\": 83286.0, \"death\": 216657.0, \"deathIncrease\": 882.0, \"positiveRate\": 0.063, \"state\": \"US\", \"sma7d\": 66479.143}, {\"date\": \"2020-10-25T00:00:00\", \"totalTestResultsIncrease\": 1187853.0, \"positiveIncrease\": 64893.0, \"death\": 217031.0, \"deathIncrease\": 374.0, \"positiveRate\": 0.055, \"state\": \"US\", \"sma7d\": 68851.857}, {\"date\": \"2020-10-26T00:00:00\", \"totalTestResultsIncrease\": 1205446.0, \"positiveIncrease\": 62526.0, \"death\": 217433.0, \"deathIncrease\": 402.0, \"positiveRate\": 0.052, \"state\": \"US\", \"sma7d\": 69625.571}, {\"date\": \"2020-10-27T00:00:00\", \"totalTestResultsIncrease\": 1066081.0, \"positiveIncrease\": 72082.0, \"death\": 218353.0, \"deathIncrease\": 920.0, \"positiveRate\": 0.068, \"state\": \"US\", \"sma7d\": 71273.429}, {\"date\": \"2020-10-28T00:00:00\", \"totalTestResultsIncrease\": 1092079.0, \"positiveIncrease\": 78748.0, \"death\": 219397.0, \"deathIncrease\": 1044.0, \"positiveRate\": 0.072, \"state\": \"US\", \"sma7d\": 73815.571}, {\"date\": \"2020-10-29T00:00:00\", \"totalTestResultsIncrease\": 1332268.0, \"positiveIncrease\": 88728.0, \"death\": 220427.0, \"deathIncrease\": 1030.0, \"positiveRate\": 0.067, \"state\": \"US\", \"sma7d\": 76085.0}, {\"date\": \"2020-10-30T00:00:00\", \"totalTestResultsIncrease\": 1360460.0, \"positiveIncrease\": 97233.0, \"death\": 221379.0, \"deathIncrease\": 952.0, \"positiveRate\": 0.071, \"state\": \"US\", \"sma7d\": 78213.714}, {\"date\": \"2020-10-31T00:00:00\", \"totalTestResultsIncrease\": 1389909.0, \"positiveIncrease\": 90587.0, \"death\": 222330.0, \"deathIncrease\": 951.0, \"positiveRate\": 0.065, \"state\": \"US\", \"sma7d\": 79256.714}, {\"date\": \"2020-11-01T00:00:00\", \"totalTestResultsIncrease\": 1127464.0, \"positiveIncrease\": 73849.0, \"death\": 222718.0, \"deathIncrease\": 388.0, \"positiveRate\": 0.066, \"state\": \"US\", \"sma7d\": 80536.143}, {\"date\": \"2020-11-02T00:00:00\", \"totalTestResultsIncrease\": 1322758.0, \"positiveIncrease\": 82047.0, \"death\": 223217.0, \"deathIncrease\": 499.0, \"positiveRate\": 0.062, \"state\": \"US\", \"sma7d\": 83324.857}, {\"date\": \"2020-11-03T00:00:00\", \"totalTestResultsIncrease\": 1123667.0, \"positiveIncrease\": 86662.0, \"death\": 224732.0, \"deathIncrease\": 1515.0, \"positiveRate\": 0.077, \"state\": \"US\", \"sma7d\": 85407.714}, {\"date\": \"2020-11-04T00:00:00\", \"totalTestResultsIncrease\": 1217991.0, \"positiveIncrease\": 103304.0, \"death\": 225858.0, \"deathIncrease\": 1126.0, \"positiveRate\": 0.085, \"state\": \"US\", \"sma7d\": 88915.714}, {\"date\": \"2020-11-05T00:00:00\", \"totalTestResultsIncrease\": 1564524.0, \"positiveIncrease\": 116441.0, \"death\": 226989.0, \"deathIncrease\": 1131.0, \"positiveRate\": 0.074, \"state\": \"US\", \"sma7d\": 92874.714}, {\"date\": \"2020-11-06T00:00:00\", \"totalTestResultsIncrease\": 1561333.0, \"positiveIncrease\": 125753.0, \"death\": 228157.0, \"deathIncrease\": 1168.0, \"positiveRate\": 0.081, \"state\": \"US\", \"sma7d\": 96949.0}, {\"date\": \"2020-11-07T00:00:00\", \"totalTestResultsIncrease\": 1412176.0, \"positiveIncrease\": 129215.0, \"death\": 229261.0, \"deathIncrease\": 1104.0, \"positiveRate\": 0.092, \"state\": \"US\", \"sma7d\": 102467.286}, {\"date\": \"2020-11-08T00:00:00\", \"totalTestResultsIncrease\": 1251959.0, \"positiveIncrease\": 110281.0, \"death\": 229746.0, \"deathIncrease\": 485.0, \"positiveRate\": 0.088, \"state\": \"US\", \"sma7d\": 107671.857}, {\"date\": \"2020-11-09T00:00:00\", \"totalTestResultsIncrease\": 1512607.0, \"positiveIncrease\": 119432.0, \"death\": 230335.0, \"deathIncrease\": 589.0, \"positiveRate\": 0.079, \"state\": \"US\", \"sma7d\": 113012.571}, {\"date\": \"2020-11-10T00:00:00\", \"totalTestResultsIncrease\": 1246063.0, \"positiveIncrease\": 131182.0, \"death\": 231695.0, \"deathIncrease\": 1360.0, \"positiveRate\": 0.105, \"state\": \"US\", \"sma7d\": 119372.571}, {\"date\": \"2020-11-11T00:00:00\", \"totalTestResultsIncrease\": 1412859.0, \"positiveIncrease\": 144801.0, \"death\": 233238.0, \"deathIncrease\": 1543.0, \"positiveRate\": 0.102, \"state\": \"US\", \"sma7d\": 125300.714}, {\"date\": \"2020-11-12T00:00:00\", \"totalTestResultsIncrease\": 1472332.0, \"positiveIncrease\": 152003.0, \"death\": 234379.0, \"deathIncrease\": 1141.0, \"positiveRate\": 0.103, \"state\": \"US\", \"sma7d\": 130381.0}, {\"date\": \"2020-11-13T00:00:00\", \"totalTestResultsIncrease\": 1695579.0, \"positiveIncrease\": 172106.0, \"death\": 235654.0, \"deathIncrease\": 1275.0, \"positiveRate\": 0.102, \"state\": \"US\", \"sma7d\": 137002.857}, {\"date\": \"2020-11-14T00:00:00\", \"totalTestResultsIncrease\": 1661289.0, \"positiveIncrease\": 163540.0, \"death\": 236966.0, \"deathIncrease\": 1312.0, \"positiveRate\": 0.098, \"state\": \"US\", \"sma7d\": 141906.429}, {\"date\": \"2020-11-15T00:00:00\", \"totalTestResultsIncrease\": 1614984.0, \"positiveIncrease\": 144434.0, \"death\": 237643.0, \"deathIncrease\": 677.0, \"positiveRate\": 0.089, \"state\": \"US\", \"sma7d\": 146785.429}, {\"date\": \"2020-11-16T00:00:00\", \"totalTestResultsIncrease\": 1478180.0, \"positiveIncrease\": 148868.0, \"death\": 238280.0, \"deathIncrease\": 637.0, \"positiveRate\": 0.101, \"state\": \"US\", \"sma7d\": 150990.571}, {\"date\": \"2020-11-17T00:00:00\", \"totalTestResultsIncrease\": 1503534.0, \"positiveIncrease\": 156722.0, \"death\": 239835.0, \"deathIncrease\": 1555.0, \"positiveRate\": 0.104, \"state\": \"US\", \"sma7d\": 154639.143}, {\"date\": \"2020-11-18T00:00:00\", \"totalTestResultsIncrease\": 1534573.0, \"positiveIncrease\": 163975.0, \"death\": 241704.0, \"deathIncrease\": 1869.0, \"positiveRate\": 0.107, \"state\": \"US\", \"sma7d\": 157378.286}, {\"date\": \"2020-11-19T00:00:00\", \"totalTestResultsIncrease\": 1817525.0, \"positiveIncrease\": 182832.0, \"death\": 243675.0, \"deathIncrease\": 1971.0, \"positiveRate\": 0.101, \"state\": \"US\", \"sma7d\": 161782.429}, {\"date\": \"2020-11-20T00:00:00\", \"totalTestResultsIncrease\": 1917476.0, \"positiveIncrease\": 192805.0, \"death\": 245537.0, \"deathIncrease\": 1862.0, \"positiveRate\": 0.101, \"state\": \"US\", \"sma7d\": 164739.429}, {\"date\": \"2020-11-21T00:00:00\", \"totalTestResultsIncrease\": 2003722.0, \"positiveIncrease\": 179714.0, \"death\": 247049.0, \"deathIncrease\": 1512.0, \"positiveRate\": 0.09, \"state\": \"US\", \"sma7d\": 167050.0}, {\"date\": \"2020-11-22T00:00:00\", \"totalTestResultsIncrease\": 1744502.0, \"positiveIncrease\": 150836.0, \"death\": 247941.0, \"deathIncrease\": 892.0, \"positiveRate\": 0.086, \"state\": \"US\", \"sma7d\": 167964.571}, {\"date\": \"2020-11-23T00:00:00\", \"totalTestResultsIncrease\": 1750652.0, \"positiveIncrease\": 150477.0, \"death\": 248794.0, \"deathIncrease\": 956.0, \"positiveRate\": 0.086, \"state\": \"US\", \"sma7d\": 168194.429}]}}, {\"mode\": \"vega-lite\"});\n",
       "</script>"
      ],
      "text/plain": [
       "alt.LayerChart(...)"
      ]
     },
     "execution_count": 7,
     "metadata": {},
     "output_type": "execute_result"
    }
   ],
   "source": [
    "create_plot(us, 'positiveIncrease')"
   ]
  },
  {
   "cell_type": "code",
   "execution_count": 8,
   "metadata": {
    "execution": {
     "iopub.execute_input": "2020-11-24T09:13:32.224940Z",
     "iopub.status.busy": "2020-11-24T09:13:32.224343Z",
     "iopub.status.idle": "2020-11-24T09:13:32.302568Z",
     "shell.execute_reply": "2020-11-24T09:13:32.303320Z"
    },
    "papermill": {
     "duration": 0.095587,
     "end_time": "2020-11-24T09:13:32.303553",
     "exception": false,
     "start_time": "2020-11-24T09:13:32.207966",
     "status": "completed"
    },
    "tags": []
   },
   "outputs": [
    {
     "data": {
      "text/html": [
       "\n",
       "<div id=\"altair-viz-87e8ab8c9b334397b7ea68a7581d7f44\"></div>\n",
       "<script type=\"text/javascript\">\n",
       "  (function(spec, embedOpt){\n",
       "    let outputDiv = document.currentScript.previousElementSibling;\n",
       "    if (outputDiv.id !== \"altair-viz-87e8ab8c9b334397b7ea68a7581d7f44\") {\n",
       "      outputDiv = document.getElementById(\"altair-viz-87e8ab8c9b334397b7ea68a7581d7f44\");\n",
       "    }\n",
       "    const paths = {\n",
       "      \"vega\": \"https://cdn.jsdelivr.net/npm//vega@5?noext\",\n",
       "      \"vega-lib\": \"https://cdn.jsdelivr.net/npm//vega-lib?noext\",\n",
       "      \"vega-lite\": \"https://cdn.jsdelivr.net/npm//vega-lite@4.8.1?noext\",\n",
       "      \"vega-embed\": \"https://cdn.jsdelivr.net/npm//vega-embed@6?noext\",\n",
       "    };\n",
       "\n",
       "    function loadScript(lib) {\n",
       "      return new Promise(function(resolve, reject) {\n",
       "        var s = document.createElement('script');\n",
       "        s.src = paths[lib];\n",
       "        s.async = true;\n",
       "        s.onload = () => resolve(paths[lib]);\n",
       "        s.onerror = () => reject(`Error loading script: ${paths[lib]}`);\n",
       "        document.getElementsByTagName(\"head\")[0].appendChild(s);\n",
       "      });\n",
       "    }\n",
       "\n",
       "    function showError(err) {\n",
       "      outputDiv.innerHTML = `<div class=\"error\" style=\"color:red;\">${err}</div>`;\n",
       "      throw err;\n",
       "    }\n",
       "\n",
       "    function displayChart(vegaEmbed) {\n",
       "      vegaEmbed(outputDiv, spec, embedOpt)\n",
       "        .catch(err => showError(`Javascript Error: ${err.message}<br>This usually means there's a typo in your chart specification. See the javascript console for the full traceback.`));\n",
       "    }\n",
       "\n",
       "    if(typeof define === \"function\" && define.amd) {\n",
       "      requirejs.config({paths});\n",
       "      require([\"vega-embed\"], displayChart, err => showError(`Error loading script: ${err.message}`));\n",
       "    } else if (typeof vegaEmbed === \"function\") {\n",
       "      displayChart(vegaEmbed);\n",
       "    } else {\n",
       "      loadScript(\"vega\")\n",
       "        .then(() => loadScript(\"vega-lite\"))\n",
       "        .then(() => loadScript(\"vega-embed\"))\n",
       "        .catch(showError)\n",
       "        .then(() => displayChart(vegaEmbed));\n",
       "    }\n",
       "  })({\"config\": {\"view\": {\"continuousWidth\": 400, \"continuousHeight\": 300}}, \"layer\": [{\"layer\": [{\"mark\": {\"type\": \"point\", \"size\": 75}, \"encoding\": {\"tooltip\": [{\"type\": \"temporal\", \"field\": \"date\"}, {\"type\": \"quantitative\", \"field\": \"positiveRate\"}, {\"type\": \"quantitative\", \"field\": \"sma7d\"}], \"x\": {\"type\": \"temporal\", \"field\": \"date\"}, \"y\": {\"type\": \"quantitative\", \"field\": \"positiveRate\"}}, \"selection\": {\"selector004\": {\"type\": \"interval\", \"bind\": \"scales\", \"encodings\": [\"x\", \"y\"]}}}, {\"mark\": {\"type\": \"line\", \"color\": \"purple\"}, \"encoding\": {\"x\": {\"type\": \"temporal\", \"field\": \"date\"}, \"y\": {\"type\": \"quantitative\", \"field\": \"sma7d\"}}}]}, {\"mark\": {\"type\": \"rule\", \"color\": \"#aaa\"}, \"encoding\": {\"x\": {\"type\": \"temporal\", \"field\": \"date\"}}, \"transform\": [{\"filter\": {\"selection\": \"selector003\"}}]}, {\"mark\": \"circle\", \"encoding\": {\"opacity\": {\"condition\": {\"value\": 1, \"selection\": \"selector003\"}, \"value\": 0}, \"tooltip\": [{\"type\": \"temporal\", \"field\": \"date\"}, {\"type\": \"quantitative\", \"field\": \"positiveRate\"}, {\"type\": \"quantitative\", \"field\": \"sma7d\"}], \"x\": {\"type\": \"temporal\", \"field\": \"date\"}, \"y\": {\"type\": \"quantitative\", \"field\": \"positiveRate\"}}, \"selection\": {\"selector003\": {\"type\": \"single\", \"encodings\": [\"x\"], \"on\": \"mouseover\", \"nearest\": true, \"empty\": \"none\"}}}, {\"mark\": {\"type\": \"text\", \"align\": \"left\", \"dx\": 5, \"dy\": -5, \"stroke\": \"white\", \"strokeWidth\": 2}, \"encoding\": {\"text\": {\"type\": \"quantitative\", \"field\": \"positiveRate\"}, \"tooltip\": [{\"type\": \"temporal\", \"field\": \"date\"}, {\"type\": \"quantitative\", \"field\": \"positiveRate\"}, {\"type\": \"quantitative\", \"field\": \"sma7d\"}], \"x\": {\"type\": \"temporal\", \"field\": \"date\"}, \"y\": {\"type\": \"quantitative\", \"field\": \"positiveRate\"}}, \"transform\": [{\"filter\": {\"selection\": \"selector003\"}}]}, {\"mark\": {\"type\": \"text\", \"align\": \"left\", \"dx\": 5, \"dy\": -5}, \"encoding\": {\"text\": {\"type\": \"quantitative\", \"field\": \"positiveRate\"}, \"tooltip\": [{\"type\": \"temporal\", \"field\": \"date\"}, {\"type\": \"quantitative\", \"field\": \"positiveRate\"}, {\"type\": \"quantitative\", \"field\": \"sma7d\"}], \"x\": {\"type\": \"temporal\", \"field\": \"date\"}, \"y\": {\"type\": \"quantitative\", \"field\": \"positiveRate\"}}, \"transform\": [{\"filter\": {\"selection\": \"selector003\"}}]}], \"data\": {\"name\": \"data-3bbdc05a3df60d700724bdadefa6cee7\"}, \"height\": 400, \"title\": \"US: positiveRate\", \"width\": 500, \"$schema\": \"https://vega.github.io/schema/vega-lite/v4.8.1.json\", \"datasets\": {\"data-3bbdc05a3df60d700724bdadefa6cee7\": [{\"date\": \"2020-09-30T00:00:00\", \"totalTestResultsIncrease\": 906365.0, \"positiveIncrease\": 44347.0, \"death\": 198935.0, \"deathIncrease\": 1062.0, \"positiveRate\": 0.049, \"state\": \"US\", \"sma7d\": 0.042}, {\"date\": \"2020-10-01T00:00:00\", \"totalTestResultsIncrease\": 1003311.0, \"positiveIncrease\": 45605.0, \"death\": 199783.0, \"deathIncrease\": 848.0, \"positiveRate\": 0.045, \"state\": \"US\", \"sma7d\": 0.042}, {\"date\": \"2020-10-02T00:00:00\", \"totalTestResultsIncrease\": 1240952.0, \"positiveIncrease\": 49257.0, \"death\": 200622.0, \"deathIncrease\": 839.0, \"positiveRate\": 0.04, \"state\": \"US\", \"sma7d\": 0.041}, {\"date\": \"2020-10-03T00:00:00\", \"totalTestResultsIncrease\": 1097641.0, \"positiveIncrease\": 50935.0, \"death\": 201355.0, \"deathIncrease\": 733.0, \"positiveRate\": 0.046, \"state\": \"US\", \"sma7d\": 0.041}, {\"date\": \"2020-10-04T00:00:00\", \"totalTestResultsIncrease\": 1027485.0, \"positiveIncrease\": 37988.0, \"death\": 201717.0, \"deathIncrease\": 362.0, \"positiveRate\": 0.037, \"state\": \"US\", \"sma7d\": 0.041}, {\"date\": \"2020-10-05T00:00:00\", \"totalTestResultsIncrease\": 988270.0, \"positiveIncrease\": 37756.0, \"death\": 202058.0, \"deathIncrease\": 341.0, \"positiveRate\": 0.038, \"state\": \"US\", \"sma7d\": 0.042}, {\"date\": \"2020-10-06T00:00:00\", \"totalTestResultsIncrease\": 908061.0, \"positiveIncrease\": 38917.0, \"death\": 202690.0, \"deathIncrease\": 632.0, \"positiveRate\": 0.043, \"state\": \"US\", \"sma7d\": 0.043}, {\"date\": \"2020-10-07T00:00:00\", \"totalTestResultsIncrease\": 974437.0, \"positiveIncrease\": 50590.0, \"death\": 203600.0, \"deathIncrease\": 910.0, \"positiveRate\": 0.052, \"state\": \"US\", \"sma7d\": 0.043}, {\"date\": \"2020-10-08T00:00:00\", \"totalTestResultsIncrease\": 1154634.0, \"positiveIncrease\": 55208.0, \"death\": 204587.0, \"deathIncrease\": 987.0, \"positiveRate\": 0.048, \"state\": \"US\", \"sma7d\": 0.043}, {\"date\": \"2020-10-09T00:00:00\", \"totalTestResultsIncrease\": 1201662.0, \"positiveIncrease\": 56802.0, \"death\": 205474.0, \"deathIncrease\": 887.0, \"positiveRate\": 0.047, \"state\": \"US\", \"sma7d\": 0.044}, {\"date\": \"2020-10-10T00:00:00\", \"totalTestResultsIncrease\": 1251177.0, \"positiveIncrease\": 57415.0, \"death\": 206140.0, \"deathIncrease\": 666.0, \"positiveRate\": 0.046, \"state\": \"US\", \"sma7d\": 0.044}, {\"date\": \"2020-10-11T00:00:00\", \"totalTestResultsIncrease\": 1077671.0, \"positiveIncrease\": 46269.0, \"death\": 206605.0, \"deathIncrease\": 465.0, \"positiveRate\": 0.043, \"state\": \"US\", \"sma7d\": 0.045}, {\"date\": \"2020-10-12T00:00:00\", \"totalTestResultsIncrease\": 1053929.0, \"positiveIncrease\": 42643.0, \"death\": 206892.0, \"deathIncrease\": 287.0, \"positiveRate\": 0.04, \"state\": \"US\", \"sma7d\": 0.046}, {\"date\": \"2020-10-13T00:00:00\", \"totalTestResultsIncrease\": 1049858.0, \"positiveIncrease\": 48593.0, \"death\": 207592.0, \"deathIncrease\": 700.0, \"positiveRate\": 0.046, \"state\": \"US\", \"sma7d\": 0.046}, {\"date\": \"2020-10-14T00:00:00\", \"totalTestResultsIncrease\": 1037705.0, \"positiveIncrease\": 56117.0, \"death\": 208408.0, \"deathIncrease\": 816.0, \"positiveRate\": 0.054, \"state\": \"US\", \"sma7d\": 0.046}, {\"date\": \"2020-10-15T00:00:00\", \"totalTestResultsIncrease\": 1111181.0, \"positiveIncrease\": 63392.0, \"death\": 209345.0, \"deathIncrease\": 937.0, \"positiveRate\": 0.057, \"state\": \"US\", \"sma7d\": 0.048}, {\"date\": \"2020-10-16T00:00:00\", \"totalTestResultsIncrease\": 1228630.0, \"positiveIncrease\": 68248.0, \"death\": 210236.0, \"deathIncrease\": 891.0, \"positiveRate\": 0.056, \"state\": \"US\", \"sma7d\": 0.049}, {\"date\": \"2020-10-17T00:00:00\", \"totalTestResultsIncrease\": 1298159.0, \"positiveIncrease\": 57330.0, \"death\": 210998.0, \"deathIncrease\": 762.0, \"positiveRate\": 0.044, \"state\": \"US\", \"sma7d\": 0.049}, {\"date\": \"2020-10-18T00:00:00\", \"totalTestResultsIncrease\": 1052885.0, \"positiveIncrease\": 48284.0, \"death\": 211395.0, \"deathIncrease\": 397.0, \"positiveRate\": 0.046, \"state\": \"US\", \"sma7d\": 0.049}, {\"date\": \"2020-10-19T00:00:00\", \"totalTestResultsIncrease\": 1126980.0, \"positiveIncrease\": 57110.0, \"death\": 211856.0, \"deathIncrease\": 461.0, \"positiveRate\": 0.051, \"state\": \"US\", \"sma7d\": 0.051}, {\"date\": \"2020-10-20T00:00:00\", \"totalTestResultsIncrease\": 947980.0, \"positiveIncrease\": 60547.0, \"death\": 212694.0, \"deathIncrease\": 838.0, \"positiveRate\": 0.064, \"state\": \"US\", \"sma7d\": 0.053}, {\"date\": \"2020-10-21T00:00:00\", \"totalTestResultsIncrease\": 940885.0, \"positiveIncrease\": 60953.0, \"death\": 213716.0, \"deathIncrease\": 1022.0, \"positiveRate\": 0.065, \"state\": \"US\", \"sma7d\": 0.055}, {\"date\": \"2020-10-22T00:00:00\", \"totalTestResultsIncrease\": 1225535.0, \"positiveIncrease\": 72842.0, \"death\": 214852.0, \"deathIncrease\": 1136.0, \"positiveRate\": 0.059, \"state\": \"US\", \"sma7d\": 0.055}, {\"date\": \"2020-10-23T00:00:00\", \"totalTestResultsIncrease\": 1381536.0, \"positiveIncrease\": 82332.0, \"death\": 215775.0, \"deathIncrease\": 923.0, \"positiveRate\": 0.06, \"state\": \"US\", \"sma7d\": 0.056}, {\"date\": \"2020-10-24T00:00:00\", \"totalTestResultsIncrease\": 1322647.0, \"positiveIncrease\": 83286.0, \"death\": 216657.0, \"deathIncrease\": 882.0, \"positiveRate\": 0.063, \"state\": \"US\", \"sma7d\": 0.058}, {\"date\": \"2020-10-25T00:00:00\", \"totalTestResultsIncrease\": 1187853.0, \"positiveIncrease\": 64893.0, \"death\": 217031.0, \"deathIncrease\": 374.0, \"positiveRate\": 0.055, \"state\": \"US\", \"sma7d\": 0.06}, {\"date\": \"2020-10-26T00:00:00\", \"totalTestResultsIncrease\": 1205446.0, \"positiveIncrease\": 62526.0, \"death\": 217433.0, \"deathIncrease\": 402.0, \"positiveRate\": 0.052, \"state\": \"US\", \"sma7d\": 0.06}, {\"date\": \"2020-10-27T00:00:00\", \"totalTestResultsIncrease\": 1066081.0, \"positiveIncrease\": 72082.0, \"death\": 218353.0, \"deathIncrease\": 920.0, \"positiveRate\": 0.068, \"state\": \"US\", \"sma7d\": 0.06}, {\"date\": \"2020-10-28T00:00:00\", \"totalTestResultsIncrease\": 1092079.0, \"positiveIncrease\": 78748.0, \"death\": 219397.0, \"deathIncrease\": 1044.0, \"positiveRate\": 0.072, \"state\": \"US\", \"sma7d\": 0.061}, {\"date\": \"2020-10-29T00:00:00\", \"totalTestResultsIncrease\": 1332268.0, \"positiveIncrease\": 88728.0, \"death\": 220427.0, \"deathIncrease\": 1030.0, \"positiveRate\": 0.067, \"state\": \"US\", \"sma7d\": 0.062}, {\"date\": \"2020-10-30T00:00:00\", \"totalTestResultsIncrease\": 1360460.0, \"positiveIncrease\": 97233.0, \"death\": 221379.0, \"deathIncrease\": 952.0, \"positiveRate\": 0.071, \"state\": \"US\", \"sma7d\": 0.064}, {\"date\": \"2020-10-31T00:00:00\", \"totalTestResultsIncrease\": 1389909.0, \"positiveIncrease\": 90587.0, \"death\": 222330.0, \"deathIncrease\": 951.0, \"positiveRate\": 0.065, \"state\": \"US\", \"sma7d\": 0.064}, {\"date\": \"2020-11-01T00:00:00\", \"totalTestResultsIncrease\": 1127464.0, \"positiveIncrease\": 73849.0, \"death\": 222718.0, \"deathIncrease\": 388.0, \"positiveRate\": 0.066, \"state\": \"US\", \"sma7d\": 0.066}, {\"date\": \"2020-11-02T00:00:00\", \"totalTestResultsIncrease\": 1322758.0, \"positiveIncrease\": 82047.0, \"death\": 223217.0, \"deathIncrease\": 499.0, \"positiveRate\": 0.062, \"state\": \"US\", \"sma7d\": 0.067}, {\"date\": \"2020-11-03T00:00:00\", \"totalTestResultsIncrease\": 1123667.0, \"positiveIncrease\": 86662.0, \"death\": 224732.0, \"deathIncrease\": 1515.0, \"positiveRate\": 0.077, \"state\": \"US\", \"sma7d\": 0.069}, {\"date\": \"2020-11-04T00:00:00\", \"totalTestResultsIncrease\": 1217991.0, \"positiveIncrease\": 103304.0, \"death\": 225858.0, \"deathIncrease\": 1126.0, \"positiveRate\": 0.085, \"state\": \"US\", \"sma7d\": 0.07}, {\"date\": \"2020-11-05T00:00:00\", \"totalTestResultsIncrease\": 1564524.0, \"positiveIncrease\": 116441.0, \"death\": 226989.0, \"deathIncrease\": 1131.0, \"positiveRate\": 0.074, \"state\": \"US\", \"sma7d\": 0.071}, {\"date\": \"2020-11-06T00:00:00\", \"totalTestResultsIncrease\": 1561333.0, \"positiveIncrease\": 125753.0, \"death\": 228157.0, \"deathIncrease\": 1168.0, \"positiveRate\": 0.081, \"state\": \"US\", \"sma7d\": 0.073}, {\"date\": \"2020-11-07T00:00:00\", \"totalTestResultsIncrease\": 1412176.0, \"positiveIncrease\": 129215.0, \"death\": 229261.0, \"deathIncrease\": 1104.0, \"positiveRate\": 0.092, \"state\": \"US\", \"sma7d\": 0.077}, {\"date\": \"2020-11-08T00:00:00\", \"totalTestResultsIncrease\": 1251959.0, \"positiveIncrease\": 110281.0, \"death\": 229746.0, \"deathIncrease\": 485.0, \"positiveRate\": 0.088, \"state\": \"US\", \"sma7d\": 0.08}, {\"date\": \"2020-11-09T00:00:00\", \"totalTestResultsIncrease\": 1512607.0, \"positiveIncrease\": 119432.0, \"death\": 230335.0, \"deathIncrease\": 589.0, \"positiveRate\": 0.079, \"state\": \"US\", \"sma7d\": 0.082}, {\"date\": \"2020-11-10T00:00:00\", \"totalTestResultsIncrease\": 1246063.0, \"positiveIncrease\": 131182.0, \"death\": 231695.0, \"deathIncrease\": 1360.0, \"positiveRate\": 0.105, \"state\": \"US\", \"sma7d\": 0.086}, {\"date\": \"2020-11-11T00:00:00\", \"totalTestResultsIncrease\": 1412859.0, \"positiveIncrease\": 144801.0, \"death\": 233238.0, \"deathIncrease\": 1543.0, \"positiveRate\": 0.102, \"state\": \"US\", \"sma7d\": 0.089}, {\"date\": \"2020-11-12T00:00:00\", \"totalTestResultsIncrease\": 1472332.0, \"positiveIncrease\": 152003.0, \"death\": 234379.0, \"deathIncrease\": 1141.0, \"positiveRate\": 0.103, \"state\": \"US\", \"sma7d\": 0.093}, {\"date\": \"2020-11-13T00:00:00\", \"totalTestResultsIncrease\": 1695579.0, \"positiveIncrease\": 172106.0, \"death\": 235654.0, \"deathIncrease\": 1275.0, \"positiveRate\": 0.102, \"state\": \"US\", \"sma7d\": 0.096}, {\"date\": \"2020-11-14T00:00:00\", \"totalTestResultsIncrease\": 1661289.0, \"positiveIncrease\": 163540.0, \"death\": 236966.0, \"deathIncrease\": 1312.0, \"positiveRate\": 0.098, \"state\": \"US\", \"sma7d\": 0.097}, {\"date\": \"2020-11-15T00:00:00\", \"totalTestResultsIncrease\": 1614984.0, \"positiveIncrease\": 144434.0, \"death\": 237643.0, \"deathIncrease\": 677.0, \"positiveRate\": 0.089, \"state\": \"US\", \"sma7d\": 0.097}, {\"date\": \"2020-11-16T00:00:00\", \"totalTestResultsIncrease\": 1478180.0, \"positiveIncrease\": 148868.0, \"death\": 238280.0, \"deathIncrease\": 637.0, \"positiveRate\": 0.101, \"state\": \"US\", \"sma7d\": 0.1}, {\"date\": \"2020-11-17T00:00:00\", \"totalTestResultsIncrease\": 1503534.0, \"positiveIncrease\": 156722.0, \"death\": 239835.0, \"deathIncrease\": 1555.0, \"positiveRate\": 0.104, \"state\": \"US\", \"sma7d\": 0.1}, {\"date\": \"2020-11-18T00:00:00\", \"totalTestResultsIncrease\": 1534573.0, \"positiveIncrease\": 163975.0, \"death\": 241704.0, \"deathIncrease\": 1869.0, \"positiveRate\": 0.107, \"state\": \"US\", \"sma7d\": 0.101}, {\"date\": \"2020-11-19T00:00:00\", \"totalTestResultsIncrease\": 1817525.0, \"positiveIncrease\": 182832.0, \"death\": 243675.0, \"deathIncrease\": 1971.0, \"positiveRate\": 0.101, \"state\": \"US\", \"sma7d\": 0.1}, {\"date\": \"2020-11-20T00:00:00\", \"totalTestResultsIncrease\": 1917476.0, \"positiveIncrease\": 192805.0, \"death\": 245537.0, \"deathIncrease\": 1862.0, \"positiveRate\": 0.101, \"state\": \"US\", \"sma7d\": 0.1}, {\"date\": \"2020-11-21T00:00:00\", \"totalTestResultsIncrease\": 2003722.0, \"positiveIncrease\": 179714.0, \"death\": 247049.0, \"deathIncrease\": 1512.0, \"positiveRate\": 0.09, \"state\": \"US\", \"sma7d\": 0.099}, {\"date\": \"2020-11-22T00:00:00\", \"totalTestResultsIncrease\": 1744502.0, \"positiveIncrease\": 150836.0, \"death\": 247941.0, \"deathIncrease\": 892.0, \"positiveRate\": 0.086, \"state\": \"US\", \"sma7d\": 0.099}, {\"date\": \"2020-11-23T00:00:00\", \"totalTestResultsIncrease\": 1750652.0, \"positiveIncrease\": 150477.0, \"death\": 248794.0, \"deathIncrease\": 956.0, \"positiveRate\": 0.086, \"state\": \"US\", \"sma7d\": 0.096}]}}, {\"mode\": \"vega-lite\"});\n",
       "</script>"
      ],
      "text/plain": [
       "alt.LayerChart(...)"
      ]
     },
     "execution_count": 8,
     "metadata": {},
     "output_type": "execute_result"
    }
   ],
   "source": [
    "create_plot(us, 'positiveRate')"
   ]
  },
  {
   "cell_type": "code",
   "execution_count": 9,
   "metadata": {
    "execution": {
     "iopub.execute_input": "2020-11-24T09:13:32.334374Z",
     "iopub.status.busy": "2020-11-24T09:13:32.333922Z",
     "iopub.status.idle": "2020-11-24T09:13:32.414776Z",
     "shell.execute_reply": "2020-11-24T09:13:32.413964Z"
    },
    "papermill": {
     "duration": 0.097708,
     "end_time": "2020-11-24T09:13:32.414968",
     "exception": false,
     "start_time": "2020-11-24T09:13:32.317260",
     "status": "completed"
    },
    "tags": []
   },
   "outputs": [
    {
     "data": {
      "text/html": [
       "\n",
       "<div id=\"altair-viz-102bb879c38449d893b8e09d7e03d313\"></div>\n",
       "<script type=\"text/javascript\">\n",
       "  (function(spec, embedOpt){\n",
       "    let outputDiv = document.currentScript.previousElementSibling;\n",
       "    if (outputDiv.id !== \"altair-viz-102bb879c38449d893b8e09d7e03d313\") {\n",
       "      outputDiv = document.getElementById(\"altair-viz-102bb879c38449d893b8e09d7e03d313\");\n",
       "    }\n",
       "    const paths = {\n",
       "      \"vega\": \"https://cdn.jsdelivr.net/npm//vega@5?noext\",\n",
       "      \"vega-lib\": \"https://cdn.jsdelivr.net/npm//vega-lib?noext\",\n",
       "      \"vega-lite\": \"https://cdn.jsdelivr.net/npm//vega-lite@4.8.1?noext\",\n",
       "      \"vega-embed\": \"https://cdn.jsdelivr.net/npm//vega-embed@6?noext\",\n",
       "    };\n",
       "\n",
       "    function loadScript(lib) {\n",
       "      return new Promise(function(resolve, reject) {\n",
       "        var s = document.createElement('script');\n",
       "        s.src = paths[lib];\n",
       "        s.async = true;\n",
       "        s.onload = () => resolve(paths[lib]);\n",
       "        s.onerror = () => reject(`Error loading script: ${paths[lib]}`);\n",
       "        document.getElementsByTagName(\"head\")[0].appendChild(s);\n",
       "      });\n",
       "    }\n",
       "\n",
       "    function showError(err) {\n",
       "      outputDiv.innerHTML = `<div class=\"error\" style=\"color:red;\">${err}</div>`;\n",
       "      throw err;\n",
       "    }\n",
       "\n",
       "    function displayChart(vegaEmbed) {\n",
       "      vegaEmbed(outputDiv, spec, embedOpt)\n",
       "        .catch(err => showError(`Javascript Error: ${err.message}<br>This usually means there's a typo in your chart specification. See the javascript console for the full traceback.`));\n",
       "    }\n",
       "\n",
       "    if(typeof define === \"function\" && define.amd) {\n",
       "      requirejs.config({paths});\n",
       "      require([\"vega-embed\"], displayChart, err => showError(`Error loading script: ${err.message}`));\n",
       "    } else if (typeof vegaEmbed === \"function\") {\n",
       "      displayChart(vegaEmbed);\n",
       "    } else {\n",
       "      loadScript(\"vega\")\n",
       "        .then(() => loadScript(\"vega-lite\"))\n",
       "        .then(() => loadScript(\"vega-embed\"))\n",
       "        .catch(showError)\n",
       "        .then(() => displayChart(vegaEmbed));\n",
       "    }\n",
       "  })({\"config\": {\"view\": {\"continuousWidth\": 400, \"continuousHeight\": 300}}, \"layer\": [{\"layer\": [{\"mark\": {\"type\": \"point\", \"size\": 75}, \"encoding\": {\"tooltip\": [{\"type\": \"temporal\", \"field\": \"date\"}, {\"type\": \"quantitative\", \"field\": \"deathIncrease\"}, {\"type\": \"quantitative\", \"field\": \"sma7d\"}], \"x\": {\"type\": \"temporal\", \"field\": \"date\"}, \"y\": {\"type\": \"quantitative\", \"field\": \"deathIncrease\"}}, \"selection\": {\"selector006\": {\"type\": \"interval\", \"bind\": \"scales\", \"encodings\": [\"x\", \"y\"]}}}, {\"mark\": {\"type\": \"line\", \"color\": \"purple\"}, \"encoding\": {\"x\": {\"type\": \"temporal\", \"field\": \"date\"}, \"y\": {\"type\": \"quantitative\", \"field\": \"sma7d\"}}}]}, {\"mark\": {\"type\": \"rule\", \"color\": \"#aaa\"}, \"encoding\": {\"x\": {\"type\": \"temporal\", \"field\": \"date\"}}, \"transform\": [{\"filter\": {\"selection\": \"selector005\"}}]}, {\"mark\": \"circle\", \"encoding\": {\"opacity\": {\"condition\": {\"value\": 1, \"selection\": \"selector005\"}, \"value\": 0}, \"tooltip\": [{\"type\": \"temporal\", \"field\": \"date\"}, {\"type\": \"quantitative\", \"field\": \"deathIncrease\"}, {\"type\": \"quantitative\", \"field\": \"sma7d\"}], \"x\": {\"type\": \"temporal\", \"field\": \"date\"}, \"y\": {\"type\": \"quantitative\", \"field\": \"deathIncrease\"}}, \"selection\": {\"selector005\": {\"type\": \"single\", \"encodings\": [\"x\"], \"on\": \"mouseover\", \"nearest\": true, \"empty\": \"none\"}}}, {\"mark\": {\"type\": \"text\", \"align\": \"left\", \"dx\": 5, \"dy\": -5, \"stroke\": \"white\", \"strokeWidth\": 2}, \"encoding\": {\"text\": {\"type\": \"quantitative\", \"field\": \"deathIncrease\"}, \"tooltip\": [{\"type\": \"temporal\", \"field\": \"date\"}, {\"type\": \"quantitative\", \"field\": \"deathIncrease\"}, {\"type\": \"quantitative\", \"field\": \"sma7d\"}], \"x\": {\"type\": \"temporal\", \"field\": \"date\"}, \"y\": {\"type\": \"quantitative\", \"field\": \"deathIncrease\"}}, \"transform\": [{\"filter\": {\"selection\": \"selector005\"}}]}, {\"mark\": {\"type\": \"text\", \"align\": \"left\", \"dx\": 5, \"dy\": -5}, \"encoding\": {\"text\": {\"type\": \"quantitative\", \"field\": \"deathIncrease\"}, \"tooltip\": [{\"type\": \"temporal\", \"field\": \"date\"}, {\"type\": \"quantitative\", \"field\": \"deathIncrease\"}, {\"type\": \"quantitative\", \"field\": \"sma7d\"}], \"x\": {\"type\": \"temporal\", \"field\": \"date\"}, \"y\": {\"type\": \"quantitative\", \"field\": \"deathIncrease\"}}, \"transform\": [{\"filter\": {\"selection\": \"selector005\"}}]}], \"data\": {\"name\": \"data-2c3233d6b16c5efcd687e83ae55394fd\"}, \"height\": 400, \"title\": \"US: deathIncrease\", \"width\": 500, \"$schema\": \"https://vega.github.io/schema/vega-lite/v4.8.1.json\", \"datasets\": {\"data-2c3233d6b16c5efcd687e83ae55394fd\": [{\"date\": \"2020-09-30T00:00:00\", \"totalTestResultsIncrease\": 906365.0, \"positiveIncrease\": 44347.0, \"death\": 198935.0, \"deathIncrease\": 1062.0, \"positiveRate\": 0.049, \"state\": \"US\", \"sma7d\": 715.0}, {\"date\": \"2020-10-01T00:00:00\", \"totalTestResultsIncrease\": 1003311.0, \"positiveIncrease\": 45605.0, \"death\": 199783.0, \"deathIncrease\": 848.0, \"positiveRate\": 0.045, \"state\": \"US\", \"sma7d\": 703.429}, {\"date\": \"2020-10-02T00:00:00\", \"totalTestResultsIncrease\": 1240952.0, \"positiveIncrease\": 49257.0, \"death\": 200622.0, \"deathIncrease\": 839.0, \"positiveRate\": 0.04, \"state\": \"US\", \"sma7d\": 702.714}, {\"date\": \"2020-10-03T00:00:00\", \"totalTestResultsIncrease\": 1097641.0, \"positiveIncrease\": 50935.0, \"death\": 201355.0, \"deathIncrease\": 733.0, \"positiveRate\": 0.046, \"state\": \"US\", \"sma7d\": 684.143}, {\"date\": \"2020-10-04T00:00:00\", \"totalTestResultsIncrease\": 1027485.0, \"positiveIncrease\": 37988.0, \"death\": 201717.0, \"deathIncrease\": 362.0, \"positiveRate\": 0.037, \"state\": \"US\", \"sma7d\": 692.714}, {\"date\": \"2020-10-05T00:00:00\", \"totalTestResultsIncrease\": 988270.0, \"positiveIncrease\": 37756.0, \"death\": 202058.0, \"deathIncrease\": 341.0, \"positiveRate\": 0.038, \"state\": \"US\", \"sma7d\": 703.571}, {\"date\": \"2020-10-06T00:00:00\", \"totalTestResultsIncrease\": 908061.0, \"positiveIncrease\": 38917.0, \"death\": 202690.0, \"deathIncrease\": 632.0, \"positiveRate\": 0.043, \"state\": \"US\", \"sma7d\": 688.143}, {\"date\": \"2020-10-07T00:00:00\", \"totalTestResultsIncrease\": 974437.0, \"positiveIncrease\": 50590.0, \"death\": 203600.0, \"deathIncrease\": 910.0, \"positiveRate\": 0.052, \"state\": \"US\", \"sma7d\": 666.429}, {\"date\": \"2020-10-08T00:00:00\", \"totalTestResultsIncrease\": 1154634.0, \"positiveIncrease\": 55208.0, \"death\": 204587.0, \"deathIncrease\": 987.0, \"positiveRate\": 0.048, \"state\": \"US\", \"sma7d\": 686.286}, {\"date\": \"2020-10-09T00:00:00\", \"totalTestResultsIncrease\": 1201662.0, \"positiveIncrease\": 56802.0, \"death\": 205474.0, \"deathIncrease\": 887.0, \"positiveRate\": 0.047, \"state\": \"US\", \"sma7d\": 693.143}, {\"date\": \"2020-10-10T00:00:00\", \"totalTestResultsIncrease\": 1251177.0, \"positiveIncrease\": 57415.0, \"death\": 206140.0, \"deathIncrease\": 666.0, \"positiveRate\": 0.046, \"state\": \"US\", \"sma7d\": 683.571}, {\"date\": \"2020-10-11T00:00:00\", \"totalTestResultsIncrease\": 1077671.0, \"positiveIncrease\": 46269.0, \"death\": 206605.0, \"deathIncrease\": 465.0, \"positiveRate\": 0.043, \"state\": \"US\", \"sma7d\": 698.286}, {\"date\": \"2020-10-12T00:00:00\", \"totalTestResultsIncrease\": 1053929.0, \"positiveIncrease\": 42643.0, \"death\": 206892.0, \"deathIncrease\": 287.0, \"positiveRate\": 0.04, \"state\": \"US\", \"sma7d\": 690.571}, {\"date\": \"2020-10-13T00:00:00\", \"totalTestResultsIncrease\": 1049858.0, \"positiveIncrease\": 48593.0, \"death\": 207592.0, \"deathIncrease\": 700.0, \"positiveRate\": 0.046, \"state\": \"US\", \"sma7d\": 700.286}, {\"date\": \"2020-10-14T00:00:00\", \"totalTestResultsIncrease\": 1037705.0, \"positiveIncrease\": 56117.0, \"death\": 208408.0, \"deathIncrease\": 816.0, \"positiveRate\": 0.054, \"state\": \"US\", \"sma7d\": 686.857}, {\"date\": \"2020-10-15T00:00:00\", \"totalTestResultsIncrease\": 1111181.0, \"positiveIncrease\": 63392.0, \"death\": 209345.0, \"deathIncrease\": 937.0, \"positiveRate\": 0.057, \"state\": \"US\", \"sma7d\": 679.714}, {\"date\": \"2020-10-16T00:00:00\", \"totalTestResultsIncrease\": 1228630.0, \"positiveIncrease\": 68248.0, \"death\": 210236.0, \"deathIncrease\": 891.0, \"positiveRate\": 0.056, \"state\": \"US\", \"sma7d\": 680.286}, {\"date\": \"2020-10-17T00:00:00\", \"totalTestResultsIncrease\": 1298159.0, \"positiveIncrease\": 57330.0, \"death\": 210998.0, \"deathIncrease\": 762.0, \"positiveRate\": 0.044, \"state\": \"US\", \"sma7d\": 694.0}, {\"date\": \"2020-10-18T00:00:00\", \"totalTestResultsIncrease\": 1052885.0, \"positiveIncrease\": 48284.0, \"death\": 211395.0, \"deathIncrease\": 397.0, \"positiveRate\": 0.046, \"state\": \"US\", \"sma7d\": 684.286}, {\"date\": \"2020-10-19T00:00:00\", \"totalTestResultsIncrease\": 1126980.0, \"positiveIncrease\": 57110.0, \"death\": 211856.0, \"deathIncrease\": 461.0, \"positiveRate\": 0.051, \"state\": \"US\", \"sma7d\": 709.143}, {\"date\": \"2020-10-20T00:00:00\", \"totalTestResultsIncrease\": 947980.0, \"positiveIncrease\": 60547.0, \"death\": 212694.0, \"deathIncrease\": 838.0, \"positiveRate\": 0.064, \"state\": \"US\", \"sma7d\": 728.857}, {\"date\": \"2020-10-21T00:00:00\", \"totalTestResultsIncrease\": 940885.0, \"positiveIncrease\": 60953.0, \"death\": 213716.0, \"deathIncrease\": 1022.0, \"positiveRate\": 0.065, \"state\": \"US\", \"sma7d\": 758.286}, {\"date\": \"2020-10-22T00:00:00\", \"totalTestResultsIncrease\": 1225535.0, \"positiveIncrease\": 72842.0, \"death\": 214852.0, \"deathIncrease\": 1136.0, \"positiveRate\": 0.059, \"state\": \"US\", \"sma7d\": 786.714}, {\"date\": \"2020-10-23T00:00:00\", \"totalTestResultsIncrease\": 1381536.0, \"positiveIncrease\": 82332.0, \"death\": 215775.0, \"deathIncrease\": 923.0, \"positiveRate\": 0.06, \"state\": \"US\", \"sma7d\": 791.286}, {\"date\": \"2020-10-24T00:00:00\", \"totalTestResultsIncrease\": 1322647.0, \"positiveIncrease\": 83286.0, \"death\": 216657.0, \"deathIncrease\": 882.0, \"positiveRate\": 0.063, \"state\": \"US\", \"sma7d\": 808.429}, {\"date\": \"2020-10-25T00:00:00\", \"totalTestResultsIncrease\": 1187853.0, \"positiveIncrease\": 64893.0, \"death\": 217031.0, \"deathIncrease\": 374.0, \"positiveRate\": 0.055, \"state\": \"US\", \"sma7d\": 805.143}, {\"date\": \"2020-10-26T00:00:00\", \"totalTestResultsIncrease\": 1205446.0, \"positiveIncrease\": 62526.0, \"death\": 217433.0, \"deathIncrease\": 402.0, \"positiveRate\": 0.052, \"state\": \"US\", \"sma7d\": 796.714}, {\"date\": \"2020-10-27T00:00:00\", \"totalTestResultsIncrease\": 1066081.0, \"positiveIncrease\": 72082.0, \"death\": 218353.0, \"deathIncrease\": 920.0, \"positiveRate\": 0.068, \"state\": \"US\", \"sma7d\": 808.429}, {\"date\": \"2020-10-28T00:00:00\", \"totalTestResultsIncrease\": 1092079.0, \"positiveIncrease\": 78748.0, \"death\": 219397.0, \"deathIncrease\": 1044.0, \"positiveRate\": 0.072, \"state\": \"US\", \"sma7d\": 811.571}, {\"date\": \"2020-10-29T00:00:00\", \"totalTestResultsIncrease\": 1332268.0, \"positiveIncrease\": 88728.0, \"death\": 220427.0, \"deathIncrease\": 1030.0, \"positiveRate\": 0.067, \"state\": \"US\", \"sma7d\": 796.429}, {\"date\": \"2020-10-30T00:00:00\", \"totalTestResultsIncrease\": 1360460.0, \"positiveIncrease\": 97233.0, \"death\": 221379.0, \"deathIncrease\": 952.0, \"positiveRate\": 0.071, \"state\": \"US\", \"sma7d\": 800.571}, {\"date\": \"2020-10-31T00:00:00\", \"totalTestResultsIncrease\": 1389909.0, \"positiveIncrease\": 90587.0, \"death\": 222330.0, \"deathIncrease\": 951.0, \"positiveRate\": 0.065, \"state\": \"US\", \"sma7d\": 810.429}, {\"date\": \"2020-11-01T00:00:00\", \"totalTestResultsIncrease\": 1127464.0, \"positiveIncrease\": 73849.0, \"death\": 222718.0, \"deathIncrease\": 388.0, \"positiveRate\": 0.066, \"state\": \"US\", \"sma7d\": 812.429}, {\"date\": \"2020-11-02T00:00:00\", \"totalTestResultsIncrease\": 1322758.0, \"positiveIncrease\": 82047.0, \"death\": 223217.0, \"deathIncrease\": 499.0, \"positiveRate\": 0.062, \"state\": \"US\", \"sma7d\": 826.286}, {\"date\": \"2020-11-03T00:00:00\", \"totalTestResultsIncrease\": 1123667.0, \"positiveIncrease\": 86662.0, \"death\": 224732.0, \"deathIncrease\": 1515.0, \"positiveRate\": 0.077, \"state\": \"US\", \"sma7d\": 911.286}, {\"date\": \"2020-11-04T00:00:00\", \"totalTestResultsIncrease\": 1217991.0, \"positiveIncrease\": 103304.0, \"death\": 225858.0, \"deathIncrease\": 1126.0, \"positiveRate\": 0.085, \"state\": \"US\", \"sma7d\": 923.0}, {\"date\": \"2020-11-05T00:00:00\", \"totalTestResultsIncrease\": 1564524.0, \"positiveIncrease\": 116441.0, \"death\": 226989.0, \"deathIncrease\": 1131.0, \"positiveRate\": 0.074, \"state\": \"US\", \"sma7d\": 937.429}, {\"date\": \"2020-11-06T00:00:00\", \"totalTestResultsIncrease\": 1561333.0, \"positiveIncrease\": 125753.0, \"death\": 228157.0, \"deathIncrease\": 1168.0, \"positiveRate\": 0.081, \"state\": \"US\", \"sma7d\": 968.286}, {\"date\": \"2020-11-07T00:00:00\", \"totalTestResultsIncrease\": 1412176.0, \"positiveIncrease\": 129215.0, \"death\": 229261.0, \"deathIncrease\": 1104.0, \"positiveRate\": 0.092, \"state\": \"US\", \"sma7d\": 990.143}, {\"date\": \"2020-11-08T00:00:00\", \"totalTestResultsIncrease\": 1251959.0, \"positiveIncrease\": 110281.0, \"death\": 229746.0, \"deathIncrease\": 485.0, \"positiveRate\": 0.088, \"state\": \"US\", \"sma7d\": 1004.0}, {\"date\": \"2020-11-09T00:00:00\", \"totalTestResultsIncrease\": 1512607.0, \"positiveIncrease\": 119432.0, \"death\": 230335.0, \"deathIncrease\": 589.0, \"positiveRate\": 0.079, \"state\": \"US\", \"sma7d\": 1016.857}, {\"date\": \"2020-11-10T00:00:00\", \"totalTestResultsIncrease\": 1246063.0, \"positiveIncrease\": 131182.0, \"death\": 231695.0, \"deathIncrease\": 1360.0, \"positiveRate\": 0.105, \"state\": \"US\", \"sma7d\": 994.714}, {\"date\": \"2020-11-11T00:00:00\", \"totalTestResultsIncrease\": 1412859.0, \"positiveIncrease\": 144801.0, \"death\": 233238.0, \"deathIncrease\": 1543.0, \"positiveRate\": 0.102, \"state\": \"US\", \"sma7d\": 1054.286}, {\"date\": \"2020-11-12T00:00:00\", \"totalTestResultsIncrease\": 1472332.0, \"positiveIncrease\": 152003.0, \"death\": 234379.0, \"deathIncrease\": 1141.0, \"positiveRate\": 0.103, \"state\": \"US\", \"sma7d\": 1055.714}, {\"date\": \"2020-11-13T00:00:00\", \"totalTestResultsIncrease\": 1695579.0, \"positiveIncrease\": 172106.0, \"death\": 235654.0, \"deathIncrease\": 1275.0, \"positiveRate\": 0.102, \"state\": \"US\", \"sma7d\": 1071.0}, {\"date\": \"2020-11-14T00:00:00\", \"totalTestResultsIncrease\": 1661289.0, \"positiveIncrease\": 163540.0, \"death\": 236966.0, \"deathIncrease\": 1312.0, \"positiveRate\": 0.098, \"state\": \"US\", \"sma7d\": 1100.714}, {\"date\": \"2020-11-15T00:00:00\", \"totalTestResultsIncrease\": 1614984.0, \"positiveIncrease\": 144434.0, \"death\": 237643.0, \"deathIncrease\": 677.0, \"positiveRate\": 0.089, \"state\": \"US\", \"sma7d\": 1128.143}, {\"date\": \"2020-11-16T00:00:00\", \"totalTestResultsIncrease\": 1478180.0, \"positiveIncrease\": 148868.0, \"death\": 238280.0, \"deathIncrease\": 637.0, \"positiveRate\": 0.101, \"state\": \"US\", \"sma7d\": 1135.0}, {\"date\": \"2020-11-17T00:00:00\", \"totalTestResultsIncrease\": 1503534.0, \"positiveIncrease\": 156722.0, \"death\": 239835.0, \"deathIncrease\": 1555.0, \"positiveRate\": 0.104, \"state\": \"US\", \"sma7d\": 1162.857}, {\"date\": \"2020-11-18T00:00:00\", \"totalTestResultsIncrease\": 1534573.0, \"positiveIncrease\": 163975.0, \"death\": 241704.0, \"deathIncrease\": 1869.0, \"positiveRate\": 0.107, \"state\": \"US\", \"sma7d\": 1209.429}, {\"date\": \"2020-11-19T00:00:00\", \"totalTestResultsIncrease\": 1817525.0, \"positiveIncrease\": 182832.0, \"death\": 243675.0, \"deathIncrease\": 1971.0, \"positiveRate\": 0.101, \"state\": \"US\", \"sma7d\": 1328.0}, {\"date\": \"2020-11-20T00:00:00\", \"totalTestResultsIncrease\": 1917476.0, \"positiveIncrease\": 192805.0, \"death\": 245537.0, \"deathIncrease\": 1862.0, \"positiveRate\": 0.101, \"state\": \"US\", \"sma7d\": 1411.857}, {\"date\": \"2020-11-21T00:00:00\", \"totalTestResultsIncrease\": 2003722.0, \"positiveIncrease\": 179714.0, \"death\": 247049.0, \"deathIncrease\": 1512.0, \"positiveRate\": 0.09, \"state\": \"US\", \"sma7d\": 1440.429}, {\"date\": \"2020-11-22T00:00:00\", \"totalTestResultsIncrease\": 1744502.0, \"positiveIncrease\": 150836.0, \"death\": 247941.0, \"deathIncrease\": 892.0, \"positiveRate\": 0.086, \"state\": \"US\", \"sma7d\": 1471.143}, {\"date\": \"2020-11-23T00:00:00\", \"totalTestResultsIncrease\": 1750652.0, \"positiveIncrease\": 150477.0, \"death\": 248794.0, \"deathIncrease\": 956.0, \"positiveRate\": 0.086, \"state\": \"US\", \"sma7d\": 1516.714}]}}, {\"mode\": \"vega-lite\"});\n",
       "</script>"
      ],
      "text/plain": [
       "alt.LayerChart(...)"
      ]
     },
     "execution_count": 9,
     "metadata": {},
     "output_type": "execute_result"
    }
   ],
   "source": [
    "create_plot(us, 'deathIncrease')"
   ]
  },
  {
   "cell_type": "markdown",
   "metadata": {
    "papermill": {
     "duration": 0.013885,
     "end_time": "2020-11-24T09:13:32.443798",
     "exception": false,
     "start_time": "2020-11-24T09:13:32.429913",
     "status": "completed"
    },
    "tags": []
   },
   "source": [
    "## NY"
   ]
  },
  {
   "cell_type": "code",
   "execution_count": 10,
   "metadata": {
    "execution": {
     "iopub.execute_input": "2020-11-24T09:13:32.471800Z",
     "iopub.status.busy": "2020-11-24T09:13:32.471317Z",
     "iopub.status.idle": "2020-11-24T09:13:32.698899Z",
     "shell.execute_reply": "2020-11-24T09:13:32.698106Z"
    },
    "papermill": {
     "duration": 0.242925,
     "end_time": "2020-11-24T09:13:32.699003",
     "exception": false,
     "start_time": "2020-11-24T09:13:32.456078",
     "status": "completed"
    },
    "tags": []
   },
   "outputs": [],
   "source": [
    "ny = create_df(df, (lambda d: d['state'] == 'NY'), 'New York')"
   ]
  },
  {
   "cell_type": "code",
   "execution_count": 11,
   "metadata": {
    "execution": {
     "iopub.execute_input": "2020-11-24T09:13:32.778248Z",
     "iopub.status.busy": "2020-11-24T09:13:32.757352Z",
     "iopub.status.idle": "2020-11-24T09:13:32.807880Z",
     "shell.execute_reply": "2020-11-24T09:13:32.808216Z"
    },
    "papermill": {
     "duration": 0.095563,
     "end_time": "2020-11-24T09:13:32.808339",
     "exception": false,
     "start_time": "2020-11-24T09:13:32.712776",
     "status": "completed"
    },
    "tags": []
   },
   "outputs": [
    {
     "data": {
      "text/html": [
       "\n",
       "<div id=\"altair-viz-623357c0236248a58054c91b59ec17a4\"></div>\n",
       "<script type=\"text/javascript\">\n",
       "  (function(spec, embedOpt){\n",
       "    let outputDiv = document.currentScript.previousElementSibling;\n",
       "    if (outputDiv.id !== \"altair-viz-623357c0236248a58054c91b59ec17a4\") {\n",
       "      outputDiv = document.getElementById(\"altair-viz-623357c0236248a58054c91b59ec17a4\");\n",
       "    }\n",
       "    const paths = {\n",
       "      \"vega\": \"https://cdn.jsdelivr.net/npm//vega@5?noext\",\n",
       "      \"vega-lib\": \"https://cdn.jsdelivr.net/npm//vega-lib?noext\",\n",
       "      \"vega-lite\": \"https://cdn.jsdelivr.net/npm//vega-lite@4.8.1?noext\",\n",
       "      \"vega-embed\": \"https://cdn.jsdelivr.net/npm//vega-embed@6?noext\",\n",
       "    };\n",
       "\n",
       "    function loadScript(lib) {\n",
       "      return new Promise(function(resolve, reject) {\n",
       "        var s = document.createElement('script');\n",
       "        s.src = paths[lib];\n",
       "        s.async = true;\n",
       "        s.onload = () => resolve(paths[lib]);\n",
       "        s.onerror = () => reject(`Error loading script: ${paths[lib]}`);\n",
       "        document.getElementsByTagName(\"head\")[0].appendChild(s);\n",
       "      });\n",
       "    }\n",
       "\n",
       "    function showError(err) {\n",
       "      outputDiv.innerHTML = `<div class=\"error\" style=\"color:red;\">${err}</div>`;\n",
       "      throw err;\n",
       "    }\n",
       "\n",
       "    function displayChart(vegaEmbed) {\n",
       "      vegaEmbed(outputDiv, spec, embedOpt)\n",
       "        .catch(err => showError(`Javascript Error: ${err.message}<br>This usually means there's a typo in your chart specification. See the javascript console for the full traceback.`));\n",
       "    }\n",
       "\n",
       "    if(typeof define === \"function\" && define.amd) {\n",
       "      requirejs.config({paths});\n",
       "      require([\"vega-embed\"], displayChart, err => showError(`Error loading script: ${err.message}`));\n",
       "    } else if (typeof vegaEmbed === \"function\") {\n",
       "      displayChart(vegaEmbed);\n",
       "    } else {\n",
       "      loadScript(\"vega\")\n",
       "        .then(() => loadScript(\"vega-lite\"))\n",
       "        .then(() => loadScript(\"vega-embed\"))\n",
       "        .catch(showError)\n",
       "        .then(() => displayChart(vegaEmbed));\n",
       "    }\n",
       "  })({\"config\": {\"view\": {\"continuousWidth\": 400, \"continuousHeight\": 300}}, \"layer\": [{\"layer\": [{\"mark\": {\"type\": \"point\", \"size\": 75}, \"encoding\": {\"tooltip\": [{\"type\": \"temporal\", \"field\": \"date\"}, {\"type\": \"quantitative\", \"field\": \"positiveIncrease\"}, {\"type\": \"quantitative\", \"field\": \"sma7d\"}], \"x\": {\"type\": \"temporal\", \"field\": \"date\"}, \"y\": {\"type\": \"quantitative\", \"field\": \"positiveIncrease\"}}, \"selection\": {\"selector008\": {\"type\": \"interval\", \"bind\": \"scales\", \"encodings\": [\"x\", \"y\"]}}}, {\"mark\": {\"type\": \"line\", \"color\": \"purple\"}, \"encoding\": {\"x\": {\"type\": \"temporal\", \"field\": \"date\"}, \"y\": {\"type\": \"quantitative\", \"field\": \"sma7d\"}}}]}, {\"mark\": {\"type\": \"rule\", \"color\": \"#aaa\"}, \"encoding\": {\"x\": {\"type\": \"temporal\", \"field\": \"date\"}}, \"transform\": [{\"filter\": {\"selection\": \"selector007\"}}]}, {\"mark\": \"circle\", \"encoding\": {\"opacity\": {\"condition\": {\"value\": 1, \"selection\": \"selector007\"}, \"value\": 0}, \"tooltip\": [{\"type\": \"temporal\", \"field\": \"date\"}, {\"type\": \"quantitative\", \"field\": \"positiveIncrease\"}, {\"type\": \"quantitative\", \"field\": \"sma7d\"}], \"x\": {\"type\": \"temporal\", \"field\": \"date\"}, \"y\": {\"type\": \"quantitative\", \"field\": \"positiveIncrease\"}}, \"selection\": {\"selector007\": {\"type\": \"single\", \"encodings\": [\"x\"], \"on\": \"mouseover\", \"nearest\": true, \"empty\": \"none\"}}}, {\"mark\": {\"type\": \"text\", \"align\": \"left\", \"dx\": 5, \"dy\": -5, \"stroke\": \"white\", \"strokeWidth\": 2}, \"encoding\": {\"text\": {\"type\": \"quantitative\", \"field\": \"positiveIncrease\"}, \"tooltip\": [{\"type\": \"temporal\", \"field\": \"date\"}, {\"type\": \"quantitative\", \"field\": \"positiveIncrease\"}, {\"type\": \"quantitative\", \"field\": \"sma7d\"}], \"x\": {\"type\": \"temporal\", \"field\": \"date\"}, \"y\": {\"type\": \"quantitative\", \"field\": \"positiveIncrease\"}}, \"transform\": [{\"filter\": {\"selection\": \"selector007\"}}]}, {\"mark\": {\"type\": \"text\", \"align\": \"left\", \"dx\": 5, \"dy\": -5}, \"encoding\": {\"text\": {\"type\": \"quantitative\", \"field\": \"positiveIncrease\"}, \"tooltip\": [{\"type\": \"temporal\", \"field\": \"date\"}, {\"type\": \"quantitative\", \"field\": \"positiveIncrease\"}, {\"type\": \"quantitative\", \"field\": \"sma7d\"}], \"x\": {\"type\": \"temporal\", \"field\": \"date\"}, \"y\": {\"type\": \"quantitative\", \"field\": \"positiveIncrease\"}}, \"transform\": [{\"filter\": {\"selection\": \"selector007\"}}]}], \"data\": {\"name\": \"data-0205dc08d08bdaf43fc4eeeea4ba8253\"}, \"height\": 400, \"title\": \"New York: positiveIncrease\", \"width\": 500, \"$schema\": \"https://vega.github.io/schema/vega-lite/v4.8.1.json\", \"datasets\": {\"data-0205dc08d08bdaf43fc4eeeea4ba8253\": [{\"date\": \"2020-09-30T00:00:00\", \"totalTestResultsIncrease\": 97960.0, \"positiveIncrease\": 1000.0, \"death\": 25479.0, \"deathIncrease\": 9.0, \"positiveRate\": 0.01, \"state\": \"New York\", \"sma7d\": 965.286}, {\"date\": \"2020-10-01T00:00:00\", \"totalTestResultsIncrease\": 109218.0, \"positiveIncrease\": 1382.0, \"death\": 25490.0, \"deathIncrease\": 11.0, \"positiveRate\": 0.013, \"state\": \"New York\", \"sma7d\": 1026.286}, {\"date\": \"2020-10-02T00:00:00\", \"totalTestResultsIncrease\": 119493.0, \"positiveIncrease\": 1598.0, \"death\": 25497.0, \"deathIncrease\": 7.0, \"positiveRate\": 0.013, \"state\": \"New York\", \"sma7d\": 1124.857}, {\"date\": \"2020-10-03T00:00:00\", \"totalTestResultsIncrease\": 134267.0, \"positiveIncrease\": 1731.0, \"death\": 25505.0, \"deathIncrease\": 8.0, \"positiveRate\": 0.013, \"state\": \"New York\", \"sma7d\": 1228.571}, {\"date\": \"2020-10-04T00:00:00\", \"totalTestResultsIncrease\": 110329.0, \"positiveIncrease\": 1222.0, \"death\": 25519.0, \"deathIncrease\": 14.0, \"positiveRate\": 0.011, \"state\": \"New York\", \"sma7d\": 1279.429}, {\"date\": \"2020-10-05T00:00:00\", \"totalTestResultsIncrease\": 76404.0, \"positiveIncrease\": 933.0, \"death\": 25527.0, \"deathIncrease\": 8.0, \"positiveRate\": 0.012, \"state\": \"New York\", \"sma7d\": 1293.571}, {\"date\": \"2020-10-06T00:00:00\", \"totalTestResultsIncrease\": 96359.0, \"positiveIncrease\": 1393.0, \"death\": 25536.0, \"deathIncrease\": 9.0, \"positiveRate\": 0.014, \"state\": \"New York\", \"sma7d\": 1322.714}, {\"date\": \"2020-10-07T00:00:00\", \"totalTestResultsIncrease\": 108246.0, \"positiveIncrease\": 1360.0, \"death\": 25545.0, \"deathIncrease\": 9.0, \"positiveRate\": 0.013, \"state\": \"New York\", \"sma7d\": 1374.143}, {\"date\": \"2020-10-08T00:00:00\", \"totalTestResultsIncrease\": 145811.0, \"positiveIncrease\": 1836.0, \"death\": 25555.0, \"deathIncrease\": 10.0, \"positiveRate\": 0.013, \"state\": \"New York\", \"sma7d\": 1439.0}, {\"date\": \"2020-10-09T00:00:00\", \"totalTestResultsIncrease\": 139300.0, \"positiveIncrease\": 1592.0, \"death\": 25561.0, \"deathIncrease\": 6.0, \"positiveRate\": 0.011, \"state\": \"New York\", \"sma7d\": 1438.143}, {\"date\": \"2020-10-10T00:00:00\", \"totalTestResultsIncrease\": 134579.0, \"positiveIncrease\": 1447.0, \"death\": 25569.0, \"deathIncrease\": 8.0, \"positiveRate\": 0.011, \"state\": \"New York\", \"sma7d\": 1397.571}, {\"date\": \"2020-10-11T00:00:00\", \"totalTestResultsIncrease\": 118254.0, \"positiveIncrease\": 1143.0, \"death\": 25574.0, \"deathIncrease\": 5.0, \"positiveRate\": 0.01, \"state\": \"New York\", \"sma7d\": 1386.286}, {\"date\": \"2020-10-12T00:00:00\", \"totalTestResultsIncrease\": 91793.0, \"positiveIncrease\": 1029.0, \"death\": 25587.0, \"deathIncrease\": 13.0, \"positiveRate\": 0.011, \"state\": \"New York\", \"sma7d\": 1400.0}, {\"date\": \"2020-10-13T00:00:00\", \"totalTestResultsIncrease\": 99070.0, \"positiveIncrease\": 1393.0, \"death\": 25598.0, \"deathIncrease\": 11.0, \"positiveRate\": 0.014, \"state\": \"New York\", \"sma7d\": 1400.0}, {\"date\": \"2020-10-14T00:00:00\", \"totalTestResultsIncrease\": 111744.0, \"positiveIncrease\": 1232.0, \"death\": 25605.0, \"deathIncrease\": 7.0, \"positiveRate\": 0.011, \"state\": \"New York\", \"sma7d\": 1381.714}, {\"date\": \"2020-10-15T00:00:00\", \"totalTestResultsIncrease\": 133212.0, \"positiveIncrease\": 1460.0, \"death\": 25618.0, \"deathIncrease\": 13.0, \"positiveRate\": 0.011, \"state\": \"New York\", \"sma7d\": 1328.0}, {\"date\": \"2020-10-16T00:00:00\", \"totalTestResultsIncrease\": 136039.0, \"positiveIncrease\": 1707.0, \"death\": 25628.0, \"deathIncrease\": 10.0, \"positiveRate\": 0.013, \"state\": \"New York\", \"sma7d\": 1344.429}, {\"date\": \"2020-10-17T00:00:00\", \"totalTestResultsIncrease\": 159972.0, \"positiveIncrease\": 1784.0, \"death\": 25637.0, \"deathIncrease\": 9.0, \"positiveRate\": 0.011, \"state\": \"New York\", \"sma7d\": 1392.571}, {\"date\": \"2020-10-18T00:00:00\", \"totalTestResultsIncrease\": 128763.0, \"positiveIncrease\": 1390.0, \"death\": 25644.0, \"deathIncrease\": 7.0, \"positiveRate\": 0.011, \"state\": \"New York\", \"sma7d\": 1427.857}, {\"date\": \"2020-10-19T00:00:00\", \"totalTestResultsIncrease\": 82009.0, \"positiveIncrease\": 998.0, \"death\": 25659.0, \"deathIncrease\": 15.0, \"positiveRate\": 0.012, \"state\": \"New York\", \"sma7d\": 1423.429}, {\"date\": \"2020-10-20T00:00:00\", \"totalTestResultsIncrease\": 90540.0, \"positiveIncrease\": 1201.0, \"death\": 25672.0, \"deathIncrease\": 13.0, \"positiveRate\": 0.013, \"state\": \"New York\", \"sma7d\": 1396.0}, {\"date\": \"2020-10-21T00:00:00\", \"totalTestResultsIncrease\": 124789.0, \"positiveIncrease\": 2026.0, \"death\": 25679.0, \"deathIncrease\": 7.0, \"positiveRate\": 0.016, \"state\": \"New York\", \"sma7d\": 1509.429}, {\"date\": \"2020-10-22T00:00:00\", \"totalTestResultsIncrease\": 135341.0, \"positiveIncrease\": 1628.0, \"death\": 25694.0, \"deathIncrease\": 15.0, \"positiveRate\": 0.012, \"state\": \"New York\", \"sma7d\": 1533.429}, {\"date\": \"2020-10-23T00:00:00\", \"totalTestResultsIncrease\": 141508.0, \"positiveIncrease\": 1637.0, \"death\": 25705.0, \"deathIncrease\": 11.0, \"positiveRate\": 0.012, \"state\": \"New York\", \"sma7d\": 1523.429}, {\"date\": \"2020-10-24T00:00:00\", \"totalTestResultsIncrease\": 156940.0, \"positiveIncrease\": 2061.0, \"death\": 25718.0, \"deathIncrease\": 13.0, \"positiveRate\": 0.013, \"state\": \"New York\", \"sma7d\": 1563.0}, {\"date\": \"2020-10-25T00:00:00\", \"totalTestResultsIncrease\": 120830.0, \"positiveIncrease\": 1632.0, \"death\": 25730.0, \"deathIncrease\": 12.0, \"positiveRate\": 0.014, \"state\": \"New York\", \"sma7d\": 1597.571}, {\"date\": \"2020-10-26T00:00:00\", \"totalTestResultsIncrease\": 82117.0, \"positiveIncrease\": 1191.0, \"death\": 25742.0, \"deathIncrease\": 12.0, \"positiveRate\": 0.015, \"state\": \"New York\", \"sma7d\": 1625.143}, {\"date\": \"2020-10-27T00:00:00\", \"totalTestResultsIncrease\": 111618.0, \"positiveIncrease\": 1991.0, \"death\": 25758.0, \"deathIncrease\": 16.0, \"positiveRate\": 0.018, \"state\": \"New York\", \"sma7d\": 1738.0}, {\"date\": \"2020-10-28T00:00:00\", \"totalTestResultsIncrease\": 129660.0, \"positiveIncrease\": 2031.0, \"death\": 25773.0, \"deathIncrease\": 15.0, \"positiveRate\": 0.016, \"state\": \"New York\", \"sma7d\": 1738.714}, {\"date\": \"2020-10-29T00:00:00\", \"totalTestResultsIncrease\": 168353.0, \"positiveIncrease\": 2499.0, \"death\": 25792.0, \"deathIncrease\": 19.0, \"positiveRate\": 0.015, \"state\": \"New York\", \"sma7d\": 1863.143}, {\"date\": \"2020-10-30T00:00:00\", \"totalTestResultsIncrease\": 146885.0, \"positiveIncrease\": 2255.0, \"death\": 25804.0, \"deathIncrease\": 12.0, \"positiveRate\": 0.015, \"state\": \"New York\", \"sma7d\": 1951.429}, {\"date\": \"2020-10-31T00:00:00\", \"totalTestResultsIncrease\": 136962.0, \"positiveIncrease\": 2049.0, \"death\": 25807.0, \"deathIncrease\": 3.0, \"positiveRate\": 0.015, \"state\": \"New York\", \"sma7d\": 1949.714}, {\"date\": \"2020-11-01T00:00:00\", \"totalTestResultsIncrease\": 148935.0, \"positiveIncrease\": 2255.0, \"death\": 25824.0, \"deathIncrease\": 17.0, \"positiveRate\": 0.015, \"state\": \"New York\", \"sma7d\": 2038.714}, {\"date\": \"2020-11-02T00:00:00\", \"totalTestResultsIncrease\": 96101.0, \"positiveIncrease\": 1633.0, \"death\": 25838.0, \"deathIncrease\": 14.0, \"positiveRate\": 0.017, \"state\": \"New York\", \"sma7d\": 2101.857}, {\"date\": \"2020-11-03T00:00:00\", \"totalTestResultsIncrease\": 127869.0, \"positiveIncrease\": 2321.0, \"death\": 25853.0, \"deathIncrease\": 15.0, \"positiveRate\": 0.018, \"state\": \"New York\", \"sma7d\": 2149.0}, {\"date\": \"2020-11-04T00:00:00\", \"totalTestResultsIncrease\": 133534.0, \"positiveIncrease\": 2126.0, \"death\": 25868.0, \"deathIncrease\": 15.0, \"positiveRate\": 0.016, \"state\": \"New York\", \"sma7d\": 2162.571}, {\"date\": \"2020-11-05T00:00:00\", \"totalTestResultsIncrease\": 161019.0, \"positiveIncrease\": 2997.0, \"death\": 25892.0, \"deathIncrease\": 24.0, \"positiveRate\": 0.019, \"state\": \"New York\", \"sma7d\": 2233.714}, {\"date\": \"2020-11-06T00:00:00\", \"totalTestResultsIncrease\": 160705.0, \"positiveIncrease\": 3209.0, \"death\": 25910.0, \"deathIncrease\": 18.0, \"positiveRate\": 0.02, \"state\": \"New York\", \"sma7d\": 2370.0}, {\"date\": \"2020-11-07T00:00:00\", \"totalTestResultsIncrease\": 163291.0, \"positiveIncrease\": 3587.0, \"death\": 25928.0, \"deathIncrease\": 18.0, \"positiveRate\": 0.022, \"state\": \"New York\", \"sma7d\": 2589.714}, {\"date\": \"2020-11-08T00:00:00\", \"totalTestResultsIncrease\": 145642.0, \"positiveIncrease\": 3428.0, \"death\": 25947.0, \"deathIncrease\": 19.0, \"positiveRate\": 0.024, \"state\": \"New York\", \"sma7d\": 2757.286}, {\"date\": \"2020-11-09T00:00:00\", \"totalTestResultsIncrease\": 111416.0, \"positiveIncrease\": 3144.0, \"death\": 25973.0, \"deathIncrease\": 26.0, \"positiveRate\": 0.028, \"state\": \"New York\", \"sma7d\": 2973.143}, {\"date\": \"2020-11-10T00:00:00\", \"totalTestResultsIncrease\": 128036.0, \"positiveIncrease\": 3965.0, \"death\": 26005.0, \"deathIncrease\": 32.0, \"positiveRate\": 0.031, \"state\": \"New York\", \"sma7d\": 3208.0}, {\"date\": \"2020-11-11T00:00:00\", \"totalTestResultsIncrease\": 164300.0, \"positiveIncrease\": 4820.0, \"death\": 26026.0, \"deathIncrease\": 21.0, \"positiveRate\": 0.029, \"state\": \"New York\", \"sma7d\": 3592.857}, {\"date\": \"2020-11-12T00:00:00\", \"totalTestResultsIncrease\": 162627.0, \"positiveIncrease\": 4797.0, \"death\": 26055.0, \"deathIncrease\": 29.0, \"positiveRate\": 0.029, \"state\": \"New York\", \"sma7d\": 3850.0}, {\"date\": \"2020-11-13T00:00:00\", \"totalTestResultsIncrease\": 203721.0, \"positiveIncrease\": 5401.0, \"death\": 26079.0, \"deathIncrease\": 24.0, \"positiveRate\": 0.027, \"state\": \"New York\", \"sma7d\": 4163.143}, {\"date\": \"2020-11-14T00:00:00\", \"totalTestResultsIncrease\": 184162.0, \"positiveIncrease\": 5388.0, \"death\": 26103.0, \"deathIncrease\": 24.0, \"positiveRate\": 0.029, \"state\": \"New York\", \"sma7d\": 4420.429}, {\"date\": \"2020-11-15T00:00:00\", \"totalTestResultsIncrease\": 133202.0, \"positiveIncrease\": 3649.0, \"death\": 26133.0, \"deathIncrease\": 30.0, \"positiveRate\": 0.027, \"state\": \"New York\", \"sma7d\": 4452.0}, {\"date\": \"2020-11-16T00:00:00\", \"totalTestResultsIncrease\": 124565.0, \"positiveIncrease\": 3490.0, \"death\": 26159.0, \"deathIncrease\": 26.0, \"positiveRate\": 0.028, \"state\": \"New York\", \"sma7d\": 4501.429}, {\"date\": \"2020-11-17T00:00:00\", \"totalTestResultsIncrease\": 159852.0, \"positiveIncrease\": 5088.0, \"death\": 26189.0, \"deathIncrease\": 30.0, \"positiveRate\": 0.032, \"state\": \"New York\", \"sma7d\": 4661.857}, {\"date\": \"2020-11-18T00:00:00\", \"totalTestResultsIncrease\": 154434.0, \"positiveIncrease\": 5294.0, \"death\": 26225.0, \"deathIncrease\": 36.0, \"positiveRate\": 0.034, \"state\": \"New York\", \"sma7d\": 4729.571}, {\"date\": \"2020-11-19T00:00:00\", \"totalTestResultsIncrease\": 195239.0, \"positiveIncrease\": 5310.0, \"death\": 26257.0, \"deathIncrease\": 32.0, \"positiveRate\": 0.027, \"state\": \"New York\", \"sma7d\": 4802.857}, {\"date\": \"2020-11-20T00:00:00\", \"totalTestResultsIncrease\": 205466.0, \"positiveIncrease\": 5468.0, \"death\": 26292.0, \"deathIncrease\": 35.0, \"positiveRate\": 0.027, \"state\": \"New York\", \"sma7d\": 4812.429}, {\"date\": \"2020-11-21T00:00:00\", \"totalTestResultsIncrease\": 207907.0, \"positiveIncrease\": 5972.0, \"death\": 26326.0, \"deathIncrease\": 34.0, \"positiveRate\": 0.029, \"state\": \"New York\", \"sma7d\": 4895.857}, {\"date\": \"2020-11-22T00:00:00\", \"totalTestResultsIncrease\": 196610.0, \"positiveIncrease\": 5392.0, \"death\": 26357.0, \"deathIncrease\": 31.0, \"positiveRate\": 0.027, \"state\": \"New York\", \"sma7d\": 5144.857}, {\"date\": \"2020-11-23T00:00:00\", \"totalTestResultsIncrease\": 191489.0, \"positiveIncrease\": 5906.0, \"death\": 26390.0, \"deathIncrease\": 33.0, \"positiveRate\": 0.031, \"state\": \"New York\", \"sma7d\": 5490.0}]}}, {\"mode\": \"vega-lite\"});\n",
       "</script>"
      ],
      "text/plain": [
       "alt.LayerChart(...)"
      ]
     },
     "execution_count": 11,
     "metadata": {},
     "output_type": "execute_result"
    }
   ],
   "source": [
    "create_plot(ny, 'positiveIncrease')"
   ]
  },
  {
   "cell_type": "code",
   "execution_count": 12,
   "metadata": {
    "execution": {
     "iopub.execute_input": "2020-11-24T09:13:32.868251Z",
     "iopub.status.busy": "2020-11-24T09:13:32.852832Z",
     "iopub.status.idle": "2020-11-24T09:13:32.925951Z",
     "shell.execute_reply": "2020-11-24T09:13:32.925475Z"
    },
    "papermill": {
     "duration": 0.104819,
     "end_time": "2020-11-24T09:13:32.926075",
     "exception": false,
     "start_time": "2020-11-24T09:13:32.821256",
     "status": "completed"
    },
    "tags": []
   },
   "outputs": [
    {
     "data": {
      "text/html": [
       "\n",
       "<div id=\"altair-viz-bf7ca1b06ea74aa1ac5db99b3f9fb048\"></div>\n",
       "<script type=\"text/javascript\">\n",
       "  (function(spec, embedOpt){\n",
       "    let outputDiv = document.currentScript.previousElementSibling;\n",
       "    if (outputDiv.id !== \"altair-viz-bf7ca1b06ea74aa1ac5db99b3f9fb048\") {\n",
       "      outputDiv = document.getElementById(\"altair-viz-bf7ca1b06ea74aa1ac5db99b3f9fb048\");\n",
       "    }\n",
       "    const paths = {\n",
       "      \"vega\": \"https://cdn.jsdelivr.net/npm//vega@5?noext\",\n",
       "      \"vega-lib\": \"https://cdn.jsdelivr.net/npm//vega-lib?noext\",\n",
       "      \"vega-lite\": \"https://cdn.jsdelivr.net/npm//vega-lite@4.8.1?noext\",\n",
       "      \"vega-embed\": \"https://cdn.jsdelivr.net/npm//vega-embed@6?noext\",\n",
       "    };\n",
       "\n",
       "    function loadScript(lib) {\n",
       "      return new Promise(function(resolve, reject) {\n",
       "        var s = document.createElement('script');\n",
       "        s.src = paths[lib];\n",
       "        s.async = true;\n",
       "        s.onload = () => resolve(paths[lib]);\n",
       "        s.onerror = () => reject(`Error loading script: ${paths[lib]}`);\n",
       "        document.getElementsByTagName(\"head\")[0].appendChild(s);\n",
       "      });\n",
       "    }\n",
       "\n",
       "    function showError(err) {\n",
       "      outputDiv.innerHTML = `<div class=\"error\" style=\"color:red;\">${err}</div>`;\n",
       "      throw err;\n",
       "    }\n",
       "\n",
       "    function displayChart(vegaEmbed) {\n",
       "      vegaEmbed(outputDiv, spec, embedOpt)\n",
       "        .catch(err => showError(`Javascript Error: ${err.message}<br>This usually means there's a typo in your chart specification. See the javascript console for the full traceback.`));\n",
       "    }\n",
       "\n",
       "    if(typeof define === \"function\" && define.amd) {\n",
       "      requirejs.config({paths});\n",
       "      require([\"vega-embed\"], displayChart, err => showError(`Error loading script: ${err.message}`));\n",
       "    } else if (typeof vegaEmbed === \"function\") {\n",
       "      displayChart(vegaEmbed);\n",
       "    } else {\n",
       "      loadScript(\"vega\")\n",
       "        .then(() => loadScript(\"vega-lite\"))\n",
       "        .then(() => loadScript(\"vega-embed\"))\n",
       "        .catch(showError)\n",
       "        .then(() => displayChart(vegaEmbed));\n",
       "    }\n",
       "  })({\"config\": {\"view\": {\"continuousWidth\": 400, \"continuousHeight\": 300}}, \"layer\": [{\"layer\": [{\"mark\": {\"type\": \"point\", \"size\": 75}, \"encoding\": {\"tooltip\": [{\"type\": \"temporal\", \"field\": \"date\"}, {\"type\": \"quantitative\", \"field\": \"positiveRate\"}, {\"type\": \"quantitative\", \"field\": \"sma7d\"}], \"x\": {\"type\": \"temporal\", \"field\": \"date\"}, \"y\": {\"type\": \"quantitative\", \"field\": \"positiveRate\"}}, \"selection\": {\"selector010\": {\"type\": \"interval\", \"bind\": \"scales\", \"encodings\": [\"x\", \"y\"]}}}, {\"mark\": {\"type\": \"line\", \"color\": \"purple\"}, \"encoding\": {\"x\": {\"type\": \"temporal\", \"field\": \"date\"}, \"y\": {\"type\": \"quantitative\", \"field\": \"sma7d\"}}}]}, {\"mark\": {\"type\": \"rule\", \"color\": \"#aaa\"}, \"encoding\": {\"x\": {\"type\": \"temporal\", \"field\": \"date\"}}, \"transform\": [{\"filter\": {\"selection\": \"selector009\"}}]}, {\"mark\": \"circle\", \"encoding\": {\"opacity\": {\"condition\": {\"value\": 1, \"selection\": \"selector009\"}, \"value\": 0}, \"tooltip\": [{\"type\": \"temporal\", \"field\": \"date\"}, {\"type\": \"quantitative\", \"field\": \"positiveRate\"}, {\"type\": \"quantitative\", \"field\": \"sma7d\"}], \"x\": {\"type\": \"temporal\", \"field\": \"date\"}, \"y\": {\"type\": \"quantitative\", \"field\": \"positiveRate\"}}, \"selection\": {\"selector009\": {\"type\": \"single\", \"encodings\": [\"x\"], \"on\": \"mouseover\", \"nearest\": true, \"empty\": \"none\"}}}, {\"mark\": {\"type\": \"text\", \"align\": \"left\", \"dx\": 5, \"dy\": -5, \"stroke\": \"white\", \"strokeWidth\": 2}, \"encoding\": {\"text\": {\"type\": \"quantitative\", \"field\": \"positiveRate\"}, \"tooltip\": [{\"type\": \"temporal\", \"field\": \"date\"}, {\"type\": \"quantitative\", \"field\": \"positiveRate\"}, {\"type\": \"quantitative\", \"field\": \"sma7d\"}], \"x\": {\"type\": \"temporal\", \"field\": \"date\"}, \"y\": {\"type\": \"quantitative\", \"field\": \"positiveRate\"}}, \"transform\": [{\"filter\": {\"selection\": \"selector009\"}}]}, {\"mark\": {\"type\": \"text\", \"align\": \"left\", \"dx\": 5, \"dy\": -5}, \"encoding\": {\"text\": {\"type\": \"quantitative\", \"field\": \"positiveRate\"}, \"tooltip\": [{\"type\": \"temporal\", \"field\": \"date\"}, {\"type\": \"quantitative\", \"field\": \"positiveRate\"}, {\"type\": \"quantitative\", \"field\": \"sma7d\"}], \"x\": {\"type\": \"temporal\", \"field\": \"date\"}, \"y\": {\"type\": \"quantitative\", \"field\": \"positiveRate\"}}, \"transform\": [{\"filter\": {\"selection\": \"selector009\"}}]}], \"data\": {\"name\": \"data-4c7a946a92126b5341537e4216c8778d\"}, \"height\": 400, \"title\": \"New York: positiveRate\", \"width\": 500, \"$schema\": \"https://vega.github.io/schema/vega-lite/v4.8.1.json\", \"datasets\": {\"data-4c7a946a92126b5341537e4216c8778d\": [{\"date\": \"2020-09-30T00:00:00\", \"totalTestResultsIncrease\": 97960.0, \"positiveIncrease\": 1000.0, \"death\": 25479.0, \"deathIncrease\": 9.0, \"positiveRate\": 0.01, \"state\": \"New York\", \"sma7d\": 0.011}, {\"date\": \"2020-10-01T00:00:00\", \"totalTestResultsIncrease\": 109218.0, \"positiveIncrease\": 1382.0, \"death\": 25490.0, \"deathIncrease\": 11.0, \"positiveRate\": 0.013, \"state\": \"New York\", \"sma7d\": 0.012}, {\"date\": \"2020-10-02T00:00:00\", \"totalTestResultsIncrease\": 119493.0, \"positiveIncrease\": 1598.0, \"death\": 25497.0, \"deathIncrease\": 7.0, \"positiveRate\": 0.013, \"state\": \"New York\", \"sma7d\": 0.012}, {\"date\": \"2020-10-03T00:00:00\", \"totalTestResultsIncrease\": 134267.0, \"positiveIncrease\": 1731.0, \"death\": 25505.0, \"deathIncrease\": 8.0, \"positiveRate\": 0.013, \"state\": \"New York\", \"sma7d\": 0.013}, {\"date\": \"2020-10-04T00:00:00\", \"totalTestResultsIncrease\": 110329.0, \"positiveIncrease\": 1222.0, \"death\": 25519.0, \"deathIncrease\": 14.0, \"positiveRate\": 0.011, \"state\": \"New York\", \"sma7d\": 0.013}, {\"date\": \"2020-10-05T00:00:00\", \"totalTestResultsIncrease\": 76404.0, \"positiveIncrease\": 933.0, \"death\": 25527.0, \"deathIncrease\": 8.0, \"positiveRate\": 0.012, \"state\": \"New York\", \"sma7d\": 0.012}, {\"date\": \"2020-10-06T00:00:00\", \"totalTestResultsIncrease\": 96359.0, \"positiveIncrease\": 1393.0, \"death\": 25536.0, \"deathIncrease\": 9.0, \"positiveRate\": 0.014, \"state\": \"New York\", \"sma7d\": 0.012}, {\"date\": \"2020-10-07T00:00:00\", \"totalTestResultsIncrease\": 108246.0, \"positiveIncrease\": 1360.0, \"death\": 25545.0, \"deathIncrease\": 9.0, \"positiveRate\": 0.013, \"state\": \"New York\", \"sma7d\": 0.013}, {\"date\": \"2020-10-08T00:00:00\", \"totalTestResultsIncrease\": 145811.0, \"positiveIncrease\": 1836.0, \"death\": 25555.0, \"deathIncrease\": 10.0, \"positiveRate\": 0.013, \"state\": \"New York\", \"sma7d\": 0.013}, {\"date\": \"2020-10-09T00:00:00\", \"totalTestResultsIncrease\": 139300.0, \"positiveIncrease\": 1592.0, \"death\": 25561.0, \"deathIncrease\": 6.0, \"positiveRate\": 0.011, \"state\": \"New York\", \"sma7d\": 0.012}, {\"date\": \"2020-10-10T00:00:00\", \"totalTestResultsIncrease\": 134579.0, \"positiveIncrease\": 1447.0, \"death\": 25569.0, \"deathIncrease\": 8.0, \"positiveRate\": 0.011, \"state\": \"New York\", \"sma7d\": 0.012}, {\"date\": \"2020-10-11T00:00:00\", \"totalTestResultsIncrease\": 118254.0, \"positiveIncrease\": 1143.0, \"death\": 25574.0, \"deathIncrease\": 5.0, \"positiveRate\": 0.01, \"state\": \"New York\", \"sma7d\": 0.012}, {\"date\": \"2020-10-12T00:00:00\", \"totalTestResultsIncrease\": 91793.0, \"positiveIncrease\": 1029.0, \"death\": 25587.0, \"deathIncrease\": 13.0, \"positiveRate\": 0.011, \"state\": \"New York\", \"sma7d\": 0.012}, {\"date\": \"2020-10-13T00:00:00\", \"totalTestResultsIncrease\": 99070.0, \"positiveIncrease\": 1393.0, \"death\": 25598.0, \"deathIncrease\": 11.0, \"positiveRate\": 0.014, \"state\": \"New York\", \"sma7d\": 0.012}, {\"date\": \"2020-10-14T00:00:00\", \"totalTestResultsIncrease\": 111744.0, \"positiveIncrease\": 1232.0, \"death\": 25605.0, \"deathIncrease\": 7.0, \"positiveRate\": 0.011, \"state\": \"New York\", \"sma7d\": 0.012}, {\"date\": \"2020-10-15T00:00:00\", \"totalTestResultsIncrease\": 133212.0, \"positiveIncrease\": 1460.0, \"death\": 25618.0, \"deathIncrease\": 13.0, \"positiveRate\": 0.011, \"state\": \"New York\", \"sma7d\": 0.011}, {\"date\": \"2020-10-16T00:00:00\", \"totalTestResultsIncrease\": 136039.0, \"positiveIncrease\": 1707.0, \"death\": 25628.0, \"deathIncrease\": 10.0, \"positiveRate\": 0.013, \"state\": \"New York\", \"sma7d\": 0.012}, {\"date\": \"2020-10-17T00:00:00\", \"totalTestResultsIncrease\": 159972.0, \"positiveIncrease\": 1784.0, \"death\": 25637.0, \"deathIncrease\": 9.0, \"positiveRate\": 0.011, \"state\": \"New York\", \"sma7d\": 0.012}, {\"date\": \"2020-10-18T00:00:00\", \"totalTestResultsIncrease\": 128763.0, \"positiveIncrease\": 1390.0, \"death\": 25644.0, \"deathIncrease\": 7.0, \"positiveRate\": 0.011, \"state\": \"New York\", \"sma7d\": 0.012}, {\"date\": \"2020-10-19T00:00:00\", \"totalTestResultsIncrease\": 82009.0, \"positiveIncrease\": 998.0, \"death\": 25659.0, \"deathIncrease\": 15.0, \"positiveRate\": 0.012, \"state\": \"New York\", \"sma7d\": 0.012}, {\"date\": \"2020-10-20T00:00:00\", \"totalTestResultsIncrease\": 90540.0, \"positiveIncrease\": 1201.0, \"death\": 25672.0, \"deathIncrease\": 13.0, \"positiveRate\": 0.013, \"state\": \"New York\", \"sma7d\": 0.012}, {\"date\": \"2020-10-21T00:00:00\", \"totalTestResultsIncrease\": 124789.0, \"positiveIncrease\": 2026.0, \"death\": 25679.0, \"deathIncrease\": 7.0, \"positiveRate\": 0.016, \"state\": \"New York\", \"sma7d\": 0.012}, {\"date\": \"2020-10-22T00:00:00\", \"totalTestResultsIncrease\": 135341.0, \"positiveIncrease\": 1628.0, \"death\": 25694.0, \"deathIncrease\": 15.0, \"positiveRate\": 0.012, \"state\": \"New York\", \"sma7d\": 0.013}, {\"date\": \"2020-10-23T00:00:00\", \"totalTestResultsIncrease\": 141508.0, \"positiveIncrease\": 1637.0, \"death\": 25705.0, \"deathIncrease\": 11.0, \"positiveRate\": 0.012, \"state\": \"New York\", \"sma7d\": 0.012}, {\"date\": \"2020-10-24T00:00:00\", \"totalTestResultsIncrease\": 156940.0, \"positiveIncrease\": 2061.0, \"death\": 25718.0, \"deathIncrease\": 13.0, \"positiveRate\": 0.013, \"state\": \"New York\", \"sma7d\": 0.013}, {\"date\": \"2020-10-25T00:00:00\", \"totalTestResultsIncrease\": 120830.0, \"positiveIncrease\": 1632.0, \"death\": 25730.0, \"deathIncrease\": 12.0, \"positiveRate\": 0.014, \"state\": \"New York\", \"sma7d\": 0.013}, {\"date\": \"2020-10-26T00:00:00\", \"totalTestResultsIncrease\": 82117.0, \"positiveIncrease\": 1191.0, \"death\": 25742.0, \"deathIncrease\": 12.0, \"positiveRate\": 0.015, \"state\": \"New York\", \"sma7d\": 0.014}, {\"date\": \"2020-10-27T00:00:00\", \"totalTestResultsIncrease\": 111618.0, \"positiveIncrease\": 1991.0, \"death\": 25758.0, \"deathIncrease\": 16.0, \"positiveRate\": 0.018, \"state\": \"New York\", \"sma7d\": 0.014}, {\"date\": \"2020-10-28T00:00:00\", \"totalTestResultsIncrease\": 129660.0, \"positiveIncrease\": 2031.0, \"death\": 25773.0, \"deathIncrease\": 15.0, \"positiveRate\": 0.016, \"state\": \"New York\", \"sma7d\": 0.014}, {\"date\": \"2020-10-29T00:00:00\", \"totalTestResultsIncrease\": 168353.0, \"positiveIncrease\": 2499.0, \"death\": 25792.0, \"deathIncrease\": 19.0, \"positiveRate\": 0.015, \"state\": \"New York\", \"sma7d\": 0.015}, {\"date\": \"2020-10-30T00:00:00\", \"totalTestResultsIncrease\": 146885.0, \"positiveIncrease\": 2255.0, \"death\": 25804.0, \"deathIncrease\": 12.0, \"positiveRate\": 0.015, \"state\": \"New York\", \"sma7d\": 0.015}, {\"date\": \"2020-10-31T00:00:00\", \"totalTestResultsIncrease\": 136962.0, \"positiveIncrease\": 2049.0, \"death\": 25807.0, \"deathIncrease\": 3.0, \"positiveRate\": 0.015, \"state\": \"New York\", \"sma7d\": 0.015}, {\"date\": \"2020-11-01T00:00:00\", \"totalTestResultsIncrease\": 148935.0, \"positiveIncrease\": 2255.0, \"death\": 25824.0, \"deathIncrease\": 17.0, \"positiveRate\": 0.015, \"state\": \"New York\", \"sma7d\": 0.016}, {\"date\": \"2020-11-02T00:00:00\", \"totalTestResultsIncrease\": 96101.0, \"positiveIncrease\": 1633.0, \"death\": 25838.0, \"deathIncrease\": 14.0, \"positiveRate\": 0.017, \"state\": \"New York\", \"sma7d\": 0.016}, {\"date\": \"2020-11-03T00:00:00\", \"totalTestResultsIncrease\": 127869.0, \"positiveIncrease\": 2321.0, \"death\": 25853.0, \"deathIncrease\": 15.0, \"positiveRate\": 0.018, \"state\": \"New York\", \"sma7d\": 0.016}, {\"date\": \"2020-11-04T00:00:00\", \"totalTestResultsIncrease\": 133534.0, \"positiveIncrease\": 2126.0, \"death\": 25868.0, \"deathIncrease\": 15.0, \"positiveRate\": 0.016, \"state\": \"New York\", \"sma7d\": 0.016}, {\"date\": \"2020-11-05T00:00:00\", \"totalTestResultsIncrease\": 161019.0, \"positiveIncrease\": 2997.0, \"death\": 25892.0, \"deathIncrease\": 24.0, \"positiveRate\": 0.019, \"state\": \"New York\", \"sma7d\": 0.016}, {\"date\": \"2020-11-06T00:00:00\", \"totalTestResultsIncrease\": 160705.0, \"positiveIncrease\": 3209.0, \"death\": 25910.0, \"deathIncrease\": 18.0, \"positiveRate\": 0.02, \"state\": \"New York\", \"sma7d\": 0.017}, {\"date\": \"2020-11-07T00:00:00\", \"totalTestResultsIncrease\": 163291.0, \"positiveIncrease\": 3587.0, \"death\": 25928.0, \"deathIncrease\": 18.0, \"positiveRate\": 0.022, \"state\": \"New York\", \"sma7d\": 0.018}, {\"date\": \"2020-11-08T00:00:00\", \"totalTestResultsIncrease\": 145642.0, \"positiveIncrease\": 3428.0, \"death\": 25947.0, \"deathIncrease\": 19.0, \"positiveRate\": 0.024, \"state\": \"New York\", \"sma7d\": 0.019}, {\"date\": \"2020-11-09T00:00:00\", \"totalTestResultsIncrease\": 111416.0, \"positiveIncrease\": 3144.0, \"death\": 25973.0, \"deathIncrease\": 26.0, \"positiveRate\": 0.028, \"state\": \"New York\", \"sma7d\": 0.021}, {\"date\": \"2020-11-10T00:00:00\", \"totalTestResultsIncrease\": 128036.0, \"positiveIncrease\": 3965.0, \"death\": 26005.0, \"deathIncrease\": 32.0, \"positiveRate\": 0.031, \"state\": \"New York\", \"sma7d\": 0.023}, {\"date\": \"2020-11-11T00:00:00\", \"totalTestResultsIncrease\": 164300.0, \"positiveIncrease\": 4820.0, \"death\": 26026.0, \"deathIncrease\": 21.0, \"positiveRate\": 0.029, \"state\": \"New York\", \"sma7d\": 0.025}, {\"date\": \"2020-11-12T00:00:00\", \"totalTestResultsIncrease\": 162627.0, \"positiveIncrease\": 4797.0, \"death\": 26055.0, \"deathIncrease\": 29.0, \"positiveRate\": 0.029, \"state\": \"New York\", \"sma7d\": 0.026}, {\"date\": \"2020-11-13T00:00:00\", \"totalTestResultsIncrease\": 203721.0, \"positiveIncrease\": 5401.0, \"death\": 26079.0, \"deathIncrease\": 24.0, \"positiveRate\": 0.027, \"state\": \"New York\", \"sma7d\": 0.027}, {\"date\": \"2020-11-14T00:00:00\", \"totalTestResultsIncrease\": 184162.0, \"positiveIncrease\": 5388.0, \"death\": 26103.0, \"deathIncrease\": 24.0, \"positiveRate\": 0.029, \"state\": \"New York\", \"sma7d\": 0.028}, {\"date\": \"2020-11-15T00:00:00\", \"totalTestResultsIncrease\": 133202.0, \"positiveIncrease\": 3649.0, \"death\": 26133.0, \"deathIncrease\": 30.0, \"positiveRate\": 0.027, \"state\": \"New York\", \"sma7d\": 0.029}, {\"date\": \"2020-11-16T00:00:00\", \"totalTestResultsIncrease\": 124565.0, \"positiveIncrease\": 3490.0, \"death\": 26159.0, \"deathIncrease\": 26.0, \"positiveRate\": 0.028, \"state\": \"New York\", \"sma7d\": 0.029}, {\"date\": \"2020-11-17T00:00:00\", \"totalTestResultsIncrease\": 159852.0, \"positiveIncrease\": 5088.0, \"death\": 26189.0, \"deathIncrease\": 30.0, \"positiveRate\": 0.032, \"state\": \"New York\", \"sma7d\": 0.029}, {\"date\": \"2020-11-18T00:00:00\", \"totalTestResultsIncrease\": 154434.0, \"positiveIncrease\": 5294.0, \"death\": 26225.0, \"deathIncrease\": 36.0, \"positiveRate\": 0.034, \"state\": \"New York\", \"sma7d\": 0.029}, {\"date\": \"2020-11-19T00:00:00\", \"totalTestResultsIncrease\": 195239.0, \"positiveIncrease\": 5310.0, \"death\": 26257.0, \"deathIncrease\": 32.0, \"positiveRate\": 0.027, \"state\": \"New York\", \"sma7d\": 0.029}, {\"date\": \"2020-11-20T00:00:00\", \"totalTestResultsIncrease\": 205466.0, \"positiveIncrease\": 5468.0, \"death\": 26292.0, \"deathIncrease\": 35.0, \"positiveRate\": 0.027, \"state\": \"New York\", \"sma7d\": 0.029}, {\"date\": \"2020-11-21T00:00:00\", \"totalTestResultsIncrease\": 207907.0, \"positiveIncrease\": 5972.0, \"death\": 26326.0, \"deathIncrease\": 34.0, \"positiveRate\": 0.029, \"state\": \"New York\", \"sma7d\": 0.029}, {\"date\": \"2020-11-22T00:00:00\", \"totalTestResultsIncrease\": 196610.0, \"positiveIncrease\": 5392.0, \"death\": 26357.0, \"deathIncrease\": 31.0, \"positiveRate\": 0.027, \"state\": \"New York\", \"sma7d\": 0.029}, {\"date\": \"2020-11-23T00:00:00\", \"totalTestResultsIncrease\": 191489.0, \"positiveIncrease\": 5906.0, \"death\": 26390.0, \"deathIncrease\": 33.0, \"positiveRate\": 0.031, \"state\": \"New York\", \"sma7d\": 0.03}]}}, {\"mode\": \"vega-lite\"});\n",
       "</script>"
      ],
      "text/plain": [
       "alt.LayerChart(...)"
      ]
     },
     "execution_count": 12,
     "metadata": {},
     "output_type": "execute_result"
    }
   ],
   "source": [
    "create_plot(ny, 'positiveRate')"
   ]
  },
  {
   "cell_type": "code",
   "execution_count": 13,
   "metadata": {
    "execution": {
     "iopub.execute_input": "2020-11-24T09:13:32.992053Z",
     "iopub.status.busy": "2020-11-24T09:13:32.971420Z",
     "iopub.status.idle": "2020-11-24T09:13:33.050165Z",
     "shell.execute_reply": "2020-11-24T09:13:33.049720Z"
    },
    "papermill": {
     "duration": 0.108167,
     "end_time": "2020-11-24T09:13:33.050283",
     "exception": false,
     "start_time": "2020-11-24T09:13:32.942116",
     "status": "completed"
    },
    "tags": []
   },
   "outputs": [
    {
     "data": {
      "text/html": [
       "\n",
       "<div id=\"altair-viz-f891cd218d1b443cbd282932e3ec7260\"></div>\n",
       "<script type=\"text/javascript\">\n",
       "  (function(spec, embedOpt){\n",
       "    let outputDiv = document.currentScript.previousElementSibling;\n",
       "    if (outputDiv.id !== \"altair-viz-f891cd218d1b443cbd282932e3ec7260\") {\n",
       "      outputDiv = document.getElementById(\"altair-viz-f891cd218d1b443cbd282932e3ec7260\");\n",
       "    }\n",
       "    const paths = {\n",
       "      \"vega\": \"https://cdn.jsdelivr.net/npm//vega@5?noext\",\n",
       "      \"vega-lib\": \"https://cdn.jsdelivr.net/npm//vega-lib?noext\",\n",
       "      \"vega-lite\": \"https://cdn.jsdelivr.net/npm//vega-lite@4.8.1?noext\",\n",
       "      \"vega-embed\": \"https://cdn.jsdelivr.net/npm//vega-embed@6?noext\",\n",
       "    };\n",
       "\n",
       "    function loadScript(lib) {\n",
       "      return new Promise(function(resolve, reject) {\n",
       "        var s = document.createElement('script');\n",
       "        s.src = paths[lib];\n",
       "        s.async = true;\n",
       "        s.onload = () => resolve(paths[lib]);\n",
       "        s.onerror = () => reject(`Error loading script: ${paths[lib]}`);\n",
       "        document.getElementsByTagName(\"head\")[0].appendChild(s);\n",
       "      });\n",
       "    }\n",
       "\n",
       "    function showError(err) {\n",
       "      outputDiv.innerHTML = `<div class=\"error\" style=\"color:red;\">${err}</div>`;\n",
       "      throw err;\n",
       "    }\n",
       "\n",
       "    function displayChart(vegaEmbed) {\n",
       "      vegaEmbed(outputDiv, spec, embedOpt)\n",
       "        .catch(err => showError(`Javascript Error: ${err.message}<br>This usually means there's a typo in your chart specification. See the javascript console for the full traceback.`));\n",
       "    }\n",
       "\n",
       "    if(typeof define === \"function\" && define.amd) {\n",
       "      requirejs.config({paths});\n",
       "      require([\"vega-embed\"], displayChart, err => showError(`Error loading script: ${err.message}`));\n",
       "    } else if (typeof vegaEmbed === \"function\") {\n",
       "      displayChart(vegaEmbed);\n",
       "    } else {\n",
       "      loadScript(\"vega\")\n",
       "        .then(() => loadScript(\"vega-lite\"))\n",
       "        .then(() => loadScript(\"vega-embed\"))\n",
       "        .catch(showError)\n",
       "        .then(() => displayChart(vegaEmbed));\n",
       "    }\n",
       "  })({\"config\": {\"view\": {\"continuousWidth\": 400, \"continuousHeight\": 300}}, \"layer\": [{\"layer\": [{\"mark\": {\"type\": \"point\", \"size\": 75}, \"encoding\": {\"tooltip\": [{\"type\": \"temporal\", \"field\": \"date\"}, {\"type\": \"quantitative\", \"field\": \"deathIncrease\"}, {\"type\": \"quantitative\", \"field\": \"sma7d\"}], \"x\": {\"type\": \"temporal\", \"field\": \"date\"}, \"y\": {\"type\": \"quantitative\", \"field\": \"deathIncrease\"}}, \"selection\": {\"selector012\": {\"type\": \"interval\", \"bind\": \"scales\", \"encodings\": [\"x\", \"y\"]}}}, {\"mark\": {\"type\": \"line\", \"color\": \"purple\"}, \"encoding\": {\"x\": {\"type\": \"temporal\", \"field\": \"date\"}, \"y\": {\"type\": \"quantitative\", \"field\": \"sma7d\"}}}]}, {\"mark\": {\"type\": \"rule\", \"color\": \"#aaa\"}, \"encoding\": {\"x\": {\"type\": \"temporal\", \"field\": \"date\"}}, \"transform\": [{\"filter\": {\"selection\": \"selector011\"}}]}, {\"mark\": \"circle\", \"encoding\": {\"opacity\": {\"condition\": {\"value\": 1, \"selection\": \"selector011\"}, \"value\": 0}, \"tooltip\": [{\"type\": \"temporal\", \"field\": \"date\"}, {\"type\": \"quantitative\", \"field\": \"deathIncrease\"}, {\"type\": \"quantitative\", \"field\": \"sma7d\"}], \"x\": {\"type\": \"temporal\", \"field\": \"date\"}, \"y\": {\"type\": \"quantitative\", \"field\": \"deathIncrease\"}}, \"selection\": {\"selector011\": {\"type\": \"single\", \"encodings\": [\"x\"], \"on\": \"mouseover\", \"nearest\": true, \"empty\": \"none\"}}}, {\"mark\": {\"type\": \"text\", \"align\": \"left\", \"dx\": 5, \"dy\": -5, \"stroke\": \"white\", \"strokeWidth\": 2}, \"encoding\": {\"text\": {\"type\": \"quantitative\", \"field\": \"deathIncrease\"}, \"tooltip\": [{\"type\": \"temporal\", \"field\": \"date\"}, {\"type\": \"quantitative\", \"field\": \"deathIncrease\"}, {\"type\": \"quantitative\", \"field\": \"sma7d\"}], \"x\": {\"type\": \"temporal\", \"field\": \"date\"}, \"y\": {\"type\": \"quantitative\", \"field\": \"deathIncrease\"}}, \"transform\": [{\"filter\": {\"selection\": \"selector011\"}}]}, {\"mark\": {\"type\": \"text\", \"align\": \"left\", \"dx\": 5, \"dy\": -5}, \"encoding\": {\"text\": {\"type\": \"quantitative\", \"field\": \"deathIncrease\"}, \"tooltip\": [{\"type\": \"temporal\", \"field\": \"date\"}, {\"type\": \"quantitative\", \"field\": \"deathIncrease\"}, {\"type\": \"quantitative\", \"field\": \"sma7d\"}], \"x\": {\"type\": \"temporal\", \"field\": \"date\"}, \"y\": {\"type\": \"quantitative\", \"field\": \"deathIncrease\"}}, \"transform\": [{\"filter\": {\"selection\": \"selector011\"}}]}], \"data\": {\"name\": \"data-6b440f0d705ba1bc42988c3635a63c42\"}, \"height\": 400, \"title\": \"New York: deathIncrease\", \"width\": 500, \"$schema\": \"https://vega.github.io/schema/vega-lite/v4.8.1.json\", \"datasets\": {\"data-6b440f0d705ba1bc42988c3635a63c42\": [{\"date\": \"2020-09-30T00:00:00\", \"totalTestResultsIncrease\": 97960.0, \"positiveIncrease\": 1000.0, \"death\": 25479.0, \"deathIncrease\": 9.0, \"positiveRate\": 0.01, \"state\": \"New York\", \"sma7d\": 6.0}, {\"date\": \"2020-10-01T00:00:00\", \"totalTestResultsIncrease\": 109218.0, \"positiveIncrease\": 1382.0, \"death\": 25490.0, \"deathIncrease\": 11.0, \"positiveRate\": 0.013, \"state\": \"New York\", \"sma7d\": 7.286}, {\"date\": \"2020-10-02T00:00:00\", \"totalTestResultsIncrease\": 119493.0, \"positiveIncrease\": 1598.0, \"death\": 25497.0, \"deathIncrease\": 7.0, \"positiveRate\": 0.013, \"state\": \"New York\", \"sma7d\": 7.286}, {\"date\": \"2020-10-03T00:00:00\", \"totalTestResultsIncrease\": 134267.0, \"positiveIncrease\": 1731.0, \"death\": 25505.0, \"deathIncrease\": 8.0, \"positiveRate\": 0.013, \"state\": \"New York\", \"sma7d\": 7.857}, {\"date\": \"2020-10-04T00:00:00\", \"totalTestResultsIncrease\": 110329.0, \"positiveIncrease\": 1222.0, \"death\": 25519.0, \"deathIncrease\": 14.0, \"positiveRate\": 0.011, \"state\": \"New York\", \"sma7d\": 9.0}, {\"date\": \"2020-10-05T00:00:00\", \"totalTestResultsIncrease\": 76404.0, \"positiveIncrease\": 933.0, \"death\": 25527.0, \"deathIncrease\": 8.0, \"positiveRate\": 0.012, \"state\": \"New York\", \"sma7d\": 8.429}, {\"date\": \"2020-10-06T00:00:00\", \"totalTestResultsIncrease\": 96359.0, \"positiveIncrease\": 1393.0, \"death\": 25536.0, \"deathIncrease\": 9.0, \"positiveRate\": 0.014, \"state\": \"New York\", \"sma7d\": 9.429}, {\"date\": \"2020-10-07T00:00:00\", \"totalTestResultsIncrease\": 108246.0, \"positiveIncrease\": 1360.0, \"death\": 25545.0, \"deathIncrease\": 9.0, \"positiveRate\": 0.013, \"state\": \"New York\", \"sma7d\": 9.429}, {\"date\": \"2020-10-08T00:00:00\", \"totalTestResultsIncrease\": 145811.0, \"positiveIncrease\": 1836.0, \"death\": 25555.0, \"deathIncrease\": 10.0, \"positiveRate\": 0.013, \"state\": \"New York\", \"sma7d\": 9.286}, {\"date\": \"2020-10-09T00:00:00\", \"totalTestResultsIncrease\": 139300.0, \"positiveIncrease\": 1592.0, \"death\": 25561.0, \"deathIncrease\": 6.0, \"positiveRate\": 0.011, \"state\": \"New York\", \"sma7d\": 9.143}, {\"date\": \"2020-10-10T00:00:00\", \"totalTestResultsIncrease\": 134579.0, \"positiveIncrease\": 1447.0, \"death\": 25569.0, \"deathIncrease\": 8.0, \"positiveRate\": 0.011, \"state\": \"New York\", \"sma7d\": 9.143}, {\"date\": \"2020-10-11T00:00:00\", \"totalTestResultsIncrease\": 118254.0, \"positiveIncrease\": 1143.0, \"death\": 25574.0, \"deathIncrease\": 5.0, \"positiveRate\": 0.01, \"state\": \"New York\", \"sma7d\": 7.857}, {\"date\": \"2020-10-12T00:00:00\", \"totalTestResultsIncrease\": 91793.0, \"positiveIncrease\": 1029.0, \"death\": 25587.0, \"deathIncrease\": 13.0, \"positiveRate\": 0.011, \"state\": \"New York\", \"sma7d\": 8.571}, {\"date\": \"2020-10-13T00:00:00\", \"totalTestResultsIncrease\": 99070.0, \"positiveIncrease\": 1393.0, \"death\": 25598.0, \"deathIncrease\": 11.0, \"positiveRate\": 0.014, \"state\": \"New York\", \"sma7d\": 8.857}, {\"date\": \"2020-10-14T00:00:00\", \"totalTestResultsIncrease\": 111744.0, \"positiveIncrease\": 1232.0, \"death\": 25605.0, \"deathIncrease\": 7.0, \"positiveRate\": 0.011, \"state\": \"New York\", \"sma7d\": 8.571}, {\"date\": \"2020-10-15T00:00:00\", \"totalTestResultsIncrease\": 133212.0, \"positiveIncrease\": 1460.0, \"death\": 25618.0, \"deathIncrease\": 13.0, \"positiveRate\": 0.011, \"state\": \"New York\", \"sma7d\": 9.0}, {\"date\": \"2020-10-16T00:00:00\", \"totalTestResultsIncrease\": 136039.0, \"positiveIncrease\": 1707.0, \"death\": 25628.0, \"deathIncrease\": 10.0, \"positiveRate\": 0.013, \"state\": \"New York\", \"sma7d\": 9.571}, {\"date\": \"2020-10-17T00:00:00\", \"totalTestResultsIncrease\": 159972.0, \"positiveIncrease\": 1784.0, \"death\": 25637.0, \"deathIncrease\": 9.0, \"positiveRate\": 0.011, \"state\": \"New York\", \"sma7d\": 9.714}, {\"date\": \"2020-10-18T00:00:00\", \"totalTestResultsIncrease\": 128763.0, \"positiveIncrease\": 1390.0, \"death\": 25644.0, \"deathIncrease\": 7.0, \"positiveRate\": 0.011, \"state\": \"New York\", \"sma7d\": 10.0}, {\"date\": \"2020-10-19T00:00:00\", \"totalTestResultsIncrease\": 82009.0, \"positiveIncrease\": 998.0, \"death\": 25659.0, \"deathIncrease\": 15.0, \"positiveRate\": 0.012, \"state\": \"New York\", \"sma7d\": 10.286}, {\"date\": \"2020-10-20T00:00:00\", \"totalTestResultsIncrease\": 90540.0, \"positiveIncrease\": 1201.0, \"death\": 25672.0, \"deathIncrease\": 13.0, \"positiveRate\": 0.013, \"state\": \"New York\", \"sma7d\": 10.571}, {\"date\": \"2020-10-21T00:00:00\", \"totalTestResultsIncrease\": 124789.0, \"positiveIncrease\": 2026.0, \"death\": 25679.0, \"deathIncrease\": 7.0, \"positiveRate\": 0.016, \"state\": \"New York\", \"sma7d\": 10.571}, {\"date\": \"2020-10-22T00:00:00\", \"totalTestResultsIncrease\": 135341.0, \"positiveIncrease\": 1628.0, \"death\": 25694.0, \"deathIncrease\": 15.0, \"positiveRate\": 0.012, \"state\": \"New York\", \"sma7d\": 10.857}, {\"date\": \"2020-10-23T00:00:00\", \"totalTestResultsIncrease\": 141508.0, \"positiveIncrease\": 1637.0, \"death\": 25705.0, \"deathIncrease\": 11.0, \"positiveRate\": 0.012, \"state\": \"New York\", \"sma7d\": 11.0}, {\"date\": \"2020-10-24T00:00:00\", \"totalTestResultsIncrease\": 156940.0, \"positiveIncrease\": 2061.0, \"death\": 25718.0, \"deathIncrease\": 13.0, \"positiveRate\": 0.013, \"state\": \"New York\", \"sma7d\": 11.571}, {\"date\": \"2020-10-25T00:00:00\", \"totalTestResultsIncrease\": 120830.0, \"positiveIncrease\": 1632.0, \"death\": 25730.0, \"deathIncrease\": 12.0, \"positiveRate\": 0.014, \"state\": \"New York\", \"sma7d\": 12.286}, {\"date\": \"2020-10-26T00:00:00\", \"totalTestResultsIncrease\": 82117.0, \"positiveIncrease\": 1191.0, \"death\": 25742.0, \"deathIncrease\": 12.0, \"positiveRate\": 0.015, \"state\": \"New York\", \"sma7d\": 11.857}, {\"date\": \"2020-10-27T00:00:00\", \"totalTestResultsIncrease\": 111618.0, \"positiveIncrease\": 1991.0, \"death\": 25758.0, \"deathIncrease\": 16.0, \"positiveRate\": 0.018, \"state\": \"New York\", \"sma7d\": 12.286}, {\"date\": \"2020-10-28T00:00:00\", \"totalTestResultsIncrease\": 129660.0, \"positiveIncrease\": 2031.0, \"death\": 25773.0, \"deathIncrease\": 15.0, \"positiveRate\": 0.016, \"state\": \"New York\", \"sma7d\": 13.429}, {\"date\": \"2020-10-29T00:00:00\", \"totalTestResultsIncrease\": 168353.0, \"positiveIncrease\": 2499.0, \"death\": 25792.0, \"deathIncrease\": 19.0, \"positiveRate\": 0.015, \"state\": \"New York\", \"sma7d\": 14.0}, {\"date\": \"2020-10-30T00:00:00\", \"totalTestResultsIncrease\": 146885.0, \"positiveIncrease\": 2255.0, \"death\": 25804.0, \"deathIncrease\": 12.0, \"positiveRate\": 0.015, \"state\": \"New York\", \"sma7d\": 14.143}, {\"date\": \"2020-10-31T00:00:00\", \"totalTestResultsIncrease\": 136962.0, \"positiveIncrease\": 2049.0, \"death\": 25807.0, \"deathIncrease\": 3.0, \"positiveRate\": 0.015, \"state\": \"New York\", \"sma7d\": 12.714}, {\"date\": \"2020-11-01T00:00:00\", \"totalTestResultsIncrease\": 148935.0, \"positiveIncrease\": 2255.0, \"death\": 25824.0, \"deathIncrease\": 17.0, \"positiveRate\": 0.015, \"state\": \"New York\", \"sma7d\": 13.429}, {\"date\": \"2020-11-02T00:00:00\", \"totalTestResultsIncrease\": 96101.0, \"positiveIncrease\": 1633.0, \"death\": 25838.0, \"deathIncrease\": 14.0, \"positiveRate\": 0.017, \"state\": \"New York\", \"sma7d\": 13.714}, {\"date\": \"2020-11-03T00:00:00\", \"totalTestResultsIncrease\": 127869.0, \"positiveIncrease\": 2321.0, \"death\": 25853.0, \"deathIncrease\": 15.0, \"positiveRate\": 0.018, \"state\": \"New York\", \"sma7d\": 13.571}, {\"date\": \"2020-11-04T00:00:00\", \"totalTestResultsIncrease\": 133534.0, \"positiveIncrease\": 2126.0, \"death\": 25868.0, \"deathIncrease\": 15.0, \"positiveRate\": 0.016, \"state\": \"New York\", \"sma7d\": 13.571}, {\"date\": \"2020-11-05T00:00:00\", \"totalTestResultsIncrease\": 161019.0, \"positiveIncrease\": 2997.0, \"death\": 25892.0, \"deathIncrease\": 24.0, \"positiveRate\": 0.019, \"state\": \"New York\", \"sma7d\": 14.286}, {\"date\": \"2020-11-06T00:00:00\", \"totalTestResultsIncrease\": 160705.0, \"positiveIncrease\": 3209.0, \"death\": 25910.0, \"deathIncrease\": 18.0, \"positiveRate\": 0.02, \"state\": \"New York\", \"sma7d\": 15.143}, {\"date\": \"2020-11-07T00:00:00\", \"totalTestResultsIncrease\": 163291.0, \"positiveIncrease\": 3587.0, \"death\": 25928.0, \"deathIncrease\": 18.0, \"positiveRate\": 0.022, \"state\": \"New York\", \"sma7d\": 17.286}, {\"date\": \"2020-11-08T00:00:00\", \"totalTestResultsIncrease\": 145642.0, \"positiveIncrease\": 3428.0, \"death\": 25947.0, \"deathIncrease\": 19.0, \"positiveRate\": 0.024, \"state\": \"New York\", \"sma7d\": 17.571}, {\"date\": \"2020-11-09T00:00:00\", \"totalTestResultsIncrease\": 111416.0, \"positiveIncrease\": 3144.0, \"death\": 25973.0, \"deathIncrease\": 26.0, \"positiveRate\": 0.028, \"state\": \"New York\", \"sma7d\": 19.286}, {\"date\": \"2020-11-10T00:00:00\", \"totalTestResultsIncrease\": 128036.0, \"positiveIncrease\": 3965.0, \"death\": 26005.0, \"deathIncrease\": 32.0, \"positiveRate\": 0.031, \"state\": \"New York\", \"sma7d\": 21.714}, {\"date\": \"2020-11-11T00:00:00\", \"totalTestResultsIncrease\": 164300.0, \"positiveIncrease\": 4820.0, \"death\": 26026.0, \"deathIncrease\": 21.0, \"positiveRate\": 0.029, \"state\": \"New York\", \"sma7d\": 22.571}, {\"date\": \"2020-11-12T00:00:00\", \"totalTestResultsIncrease\": 162627.0, \"positiveIncrease\": 4797.0, \"death\": 26055.0, \"deathIncrease\": 29.0, \"positiveRate\": 0.029, \"state\": \"New York\", \"sma7d\": 23.286}, {\"date\": \"2020-11-13T00:00:00\", \"totalTestResultsIncrease\": 203721.0, \"positiveIncrease\": 5401.0, \"death\": 26079.0, \"deathIncrease\": 24.0, \"positiveRate\": 0.027, \"state\": \"New York\", \"sma7d\": 24.143}, {\"date\": \"2020-11-14T00:00:00\", \"totalTestResultsIncrease\": 184162.0, \"positiveIncrease\": 5388.0, \"death\": 26103.0, \"deathIncrease\": 24.0, \"positiveRate\": 0.029, \"state\": \"New York\", \"sma7d\": 25.0}, {\"date\": \"2020-11-15T00:00:00\", \"totalTestResultsIncrease\": 133202.0, \"positiveIncrease\": 3649.0, \"death\": 26133.0, \"deathIncrease\": 30.0, \"positiveRate\": 0.027, \"state\": \"New York\", \"sma7d\": 26.571}, {\"date\": \"2020-11-16T00:00:00\", \"totalTestResultsIncrease\": 124565.0, \"positiveIncrease\": 3490.0, \"death\": 26159.0, \"deathIncrease\": 26.0, \"positiveRate\": 0.028, \"state\": \"New York\", \"sma7d\": 26.571}, {\"date\": \"2020-11-17T00:00:00\", \"totalTestResultsIncrease\": 159852.0, \"positiveIncrease\": 5088.0, \"death\": 26189.0, \"deathIncrease\": 30.0, \"positiveRate\": 0.032, \"state\": \"New York\", \"sma7d\": 26.286}, {\"date\": \"2020-11-18T00:00:00\", \"totalTestResultsIncrease\": 154434.0, \"positiveIncrease\": 5294.0, \"death\": 26225.0, \"deathIncrease\": 36.0, \"positiveRate\": 0.034, \"state\": \"New York\", \"sma7d\": 28.429}, {\"date\": \"2020-11-19T00:00:00\", \"totalTestResultsIncrease\": 195239.0, \"positiveIncrease\": 5310.0, \"death\": 26257.0, \"deathIncrease\": 32.0, \"positiveRate\": 0.027, \"state\": \"New York\", \"sma7d\": 28.857}, {\"date\": \"2020-11-20T00:00:00\", \"totalTestResultsIncrease\": 205466.0, \"positiveIncrease\": 5468.0, \"death\": 26292.0, \"deathIncrease\": 35.0, \"positiveRate\": 0.027, \"state\": \"New York\", \"sma7d\": 30.429}, {\"date\": \"2020-11-21T00:00:00\", \"totalTestResultsIncrease\": 207907.0, \"positiveIncrease\": 5972.0, \"death\": 26326.0, \"deathIncrease\": 34.0, \"positiveRate\": 0.029, \"state\": \"New York\", \"sma7d\": 31.857}, {\"date\": \"2020-11-22T00:00:00\", \"totalTestResultsIncrease\": 196610.0, \"positiveIncrease\": 5392.0, \"death\": 26357.0, \"deathIncrease\": 31.0, \"positiveRate\": 0.027, \"state\": \"New York\", \"sma7d\": 32.0}, {\"date\": \"2020-11-23T00:00:00\", \"totalTestResultsIncrease\": 191489.0, \"positiveIncrease\": 5906.0, \"death\": 26390.0, \"deathIncrease\": 33.0, \"positiveRate\": 0.031, \"state\": \"New York\", \"sma7d\": 33.0}]}}, {\"mode\": \"vega-lite\"});\n",
       "</script>"
      ],
      "text/plain": [
       "alt.LayerChart(...)"
      ]
     },
     "execution_count": 13,
     "metadata": {},
     "output_type": "execute_result"
    }
   ],
   "source": [
    "create_plot(ny, 'deathIncrease')"
   ]
  },
  {
   "cell_type": "markdown",
   "metadata": {
    "papermill": {
     "duration": 0.014941,
     "end_time": "2020-11-24T09:13:33.081231",
     "exception": false,
     "start_time": "2020-11-24T09:13:33.066290",
     "status": "completed"
    },
    "tags": []
   },
   "source": [
    "## Non Tri-State"
   ]
  },
  {
   "cell_type": "code",
   "execution_count": 14,
   "metadata": {
    "execution": {
     "iopub.execute_input": "2020-11-24T09:13:33.116484Z",
     "iopub.status.busy": "2020-11-24T09:13:33.115550Z",
     "iopub.status.idle": "2020-11-24T09:13:33.411058Z",
     "shell.execute_reply": "2020-11-24T09:13:33.410375Z"
    },
    "papermill": {
     "duration": 0.315214,
     "end_time": "2020-11-24T09:13:33.411193",
     "exception": false,
     "start_time": "2020-11-24T09:13:33.095979",
     "status": "completed"
    },
    "tags": []
   },
   "outputs": [],
   "source": [
    "non_tristate = create_df(df, lambda d: ~d['state'].isin(['CT','NJ','NY']), 'Non Tri-State')"
   ]
  },
  {
   "cell_type": "code",
   "execution_count": 15,
   "metadata": {
    "execution": {
     "iopub.execute_input": "2020-11-24T09:13:33.462771Z",
     "iopub.status.busy": "2020-11-24T09:13:33.452182Z",
     "iopub.status.idle": "2020-11-24T09:13:33.534927Z",
     "shell.execute_reply": "2020-11-24T09:13:33.534448Z"
    },
    "papermill": {
     "duration": 0.107765,
     "end_time": "2020-11-24T09:13:33.535062",
     "exception": false,
     "start_time": "2020-11-24T09:13:33.427297",
     "status": "completed"
    },
    "tags": []
   },
   "outputs": [
    {
     "data": {
      "text/html": [
       "\n",
       "<div id=\"altair-viz-40f575998f294d47a87b25e0c6a9174b\"></div>\n",
       "<script type=\"text/javascript\">\n",
       "  (function(spec, embedOpt){\n",
       "    let outputDiv = document.currentScript.previousElementSibling;\n",
       "    if (outputDiv.id !== \"altair-viz-40f575998f294d47a87b25e0c6a9174b\") {\n",
       "      outputDiv = document.getElementById(\"altair-viz-40f575998f294d47a87b25e0c6a9174b\");\n",
       "    }\n",
       "    const paths = {\n",
       "      \"vega\": \"https://cdn.jsdelivr.net/npm//vega@5?noext\",\n",
       "      \"vega-lib\": \"https://cdn.jsdelivr.net/npm//vega-lib?noext\",\n",
       "      \"vega-lite\": \"https://cdn.jsdelivr.net/npm//vega-lite@4.8.1?noext\",\n",
       "      \"vega-embed\": \"https://cdn.jsdelivr.net/npm//vega-embed@6?noext\",\n",
       "    };\n",
       "\n",
       "    function loadScript(lib) {\n",
       "      return new Promise(function(resolve, reject) {\n",
       "        var s = document.createElement('script');\n",
       "        s.src = paths[lib];\n",
       "        s.async = true;\n",
       "        s.onload = () => resolve(paths[lib]);\n",
       "        s.onerror = () => reject(`Error loading script: ${paths[lib]}`);\n",
       "        document.getElementsByTagName(\"head\")[0].appendChild(s);\n",
       "      });\n",
       "    }\n",
       "\n",
       "    function showError(err) {\n",
       "      outputDiv.innerHTML = `<div class=\"error\" style=\"color:red;\">${err}</div>`;\n",
       "      throw err;\n",
       "    }\n",
       "\n",
       "    function displayChart(vegaEmbed) {\n",
       "      vegaEmbed(outputDiv, spec, embedOpt)\n",
       "        .catch(err => showError(`Javascript Error: ${err.message}<br>This usually means there's a typo in your chart specification. See the javascript console for the full traceback.`));\n",
       "    }\n",
       "\n",
       "    if(typeof define === \"function\" && define.amd) {\n",
       "      requirejs.config({paths});\n",
       "      require([\"vega-embed\"], displayChart, err => showError(`Error loading script: ${err.message}`));\n",
       "    } else if (typeof vegaEmbed === \"function\") {\n",
       "      displayChart(vegaEmbed);\n",
       "    } else {\n",
       "      loadScript(\"vega\")\n",
       "        .then(() => loadScript(\"vega-lite\"))\n",
       "        .then(() => loadScript(\"vega-embed\"))\n",
       "        .catch(showError)\n",
       "        .then(() => displayChart(vegaEmbed));\n",
       "    }\n",
       "  })({\"config\": {\"view\": {\"continuousWidth\": 400, \"continuousHeight\": 300}}, \"layer\": [{\"layer\": [{\"mark\": {\"type\": \"point\", \"size\": 75}, \"encoding\": {\"tooltip\": [{\"type\": \"temporal\", \"field\": \"date\"}, {\"type\": \"quantitative\", \"field\": \"positiveIncrease\"}, {\"type\": \"quantitative\", \"field\": \"sma7d\"}], \"x\": {\"type\": \"temporal\", \"field\": \"date\"}, \"y\": {\"type\": \"quantitative\", \"field\": \"positiveIncrease\"}}, \"selection\": {\"selector014\": {\"type\": \"interval\", \"bind\": \"scales\", \"encodings\": [\"x\", \"y\"]}}}, {\"mark\": {\"type\": \"line\", \"color\": \"purple\"}, \"encoding\": {\"x\": {\"type\": \"temporal\", \"field\": \"date\"}, \"y\": {\"type\": \"quantitative\", \"field\": \"sma7d\"}}}]}, {\"mark\": {\"type\": \"rule\", \"color\": \"#aaa\"}, \"encoding\": {\"x\": {\"type\": \"temporal\", \"field\": \"date\"}}, \"transform\": [{\"filter\": {\"selection\": \"selector013\"}}]}, {\"mark\": \"circle\", \"encoding\": {\"opacity\": {\"condition\": {\"value\": 1, \"selection\": \"selector013\"}, \"value\": 0}, \"tooltip\": [{\"type\": \"temporal\", \"field\": \"date\"}, {\"type\": \"quantitative\", \"field\": \"positiveIncrease\"}, {\"type\": \"quantitative\", \"field\": \"sma7d\"}], \"x\": {\"type\": \"temporal\", \"field\": \"date\"}, \"y\": {\"type\": \"quantitative\", \"field\": \"positiveIncrease\"}}, \"selection\": {\"selector013\": {\"type\": \"single\", \"encodings\": [\"x\"], \"on\": \"mouseover\", \"nearest\": true, \"empty\": \"none\"}}}, {\"mark\": {\"type\": \"text\", \"align\": \"left\", \"dx\": 5, \"dy\": -5, \"stroke\": \"white\", \"strokeWidth\": 2}, \"encoding\": {\"text\": {\"type\": \"quantitative\", \"field\": \"positiveIncrease\"}, \"tooltip\": [{\"type\": \"temporal\", \"field\": \"date\"}, {\"type\": \"quantitative\", \"field\": \"positiveIncrease\"}, {\"type\": \"quantitative\", \"field\": \"sma7d\"}], \"x\": {\"type\": \"temporal\", \"field\": \"date\"}, \"y\": {\"type\": \"quantitative\", \"field\": \"positiveIncrease\"}}, \"transform\": [{\"filter\": {\"selection\": \"selector013\"}}]}, {\"mark\": {\"type\": \"text\", \"align\": \"left\", \"dx\": 5, \"dy\": -5}, \"encoding\": {\"text\": {\"type\": \"quantitative\", \"field\": \"positiveIncrease\"}, \"tooltip\": [{\"type\": \"temporal\", \"field\": \"date\"}, {\"type\": \"quantitative\", \"field\": \"positiveIncrease\"}, {\"type\": \"quantitative\", \"field\": \"sma7d\"}], \"x\": {\"type\": \"temporal\", \"field\": \"date\"}, \"y\": {\"type\": \"quantitative\", \"field\": \"positiveIncrease\"}}, \"transform\": [{\"filter\": {\"selection\": \"selector013\"}}]}], \"data\": {\"name\": \"data-5f364a7cb702bbf2912ccca853437b9a\"}, \"height\": 400, \"title\": \"Non Tri-State: positiveIncrease\", \"width\": 500, \"$schema\": \"https://vega.github.io/schema/vega-lite/v4.8.1.json\", \"datasets\": {\"data-5f364a7cb702bbf2912ccca853437b9a\": [{\"date\": \"2020-09-30T00:00:00\", \"totalTestResultsIncrease\": 749732.0, \"positiveIncrease\": 42414.0, \"death\": 152826.0, \"deathIncrease\": 1041.0, \"positiveRate\": 0.057, \"state\": \"Non Tri-State\", \"sma7d\": 40759.571}, {\"date\": \"2020-10-01T00:00:00\", \"totalTestResultsIncrease\": 883092.0, \"positiveIncrease\": 43417.0, \"death\": 153655.0, \"deathIncrease\": 829.0, \"positiveRate\": 0.049, \"state\": \"Non Tri-State\", \"sma7d\": 41009.143}, {\"date\": \"2020-10-02T00:00:00\", \"totalTestResultsIncrease\": 990948.0, \"positiveIncrease\": 46364.0, \"death\": 154481.0, \"deathIncrease\": 826.0, \"positiveRate\": 0.047, \"state\": \"Non Tri-State\", \"sma7d\": 39972.857}, {\"date\": \"2020-10-03T00:00:00\", \"totalTestResultsIncrease\": 962427.0, \"positiveIncrease\": 48257.0, \"death\": 155202.0, \"deathIncrease\": 721.0, \"positiveRate\": 0.05, \"state\": \"Non Tri-State\", \"sma7d\": 40345.571}, {\"date\": \"2020-10-04T00:00:00\", \"totalTestResultsIncrease\": 856136.0, \"positiveIncrease\": 36140.0, \"death\": 155549.0, \"deathIncrease\": 347.0, \"positiveRate\": 0.042, \"state\": \"Non Tri-State\", \"sma7d\": 40733.714}, {\"date\": \"2020-10-05T00:00:00\", \"totalTestResultsIncrease\": 837591.0, \"positiveIncrease\": 35489.0, \"death\": 155876.0, \"deathIncrease\": 327.0, \"positiveRate\": 0.042, \"state\": \"Non Tri-State\", \"sma7d\": 40956.429}, {\"date\": \"2020-10-06T00:00:00\", \"totalTestResultsIncrease\": 793360.0, \"positiveIncrease\": 36774.0, \"death\": 156486.0, \"deathIncrease\": 610.0, \"positiveRate\": 0.046, \"state\": \"Non Tri-State\", \"sma7d\": 41265.0}, {\"date\": \"2020-10-07T00:00:00\", \"totalTestResultsIncrease\": 835457.0, \"positiveIncrease\": 48599.0, \"death\": 157381.0, \"deathIncrease\": 895.0, \"positiveRate\": 0.058, \"state\": \"Non Tri-State\", \"sma7d\": 42148.571}, {\"date\": \"2020-10-08T00:00:00\", \"totalTestResultsIncrease\": 920753.0, \"positiveIncrease\": 51690.0, \"death\": 158345.0, \"deathIncrease\": 964.0, \"positiveRate\": 0.056, \"state\": \"Non Tri-State\", \"sma7d\": 43330.429}, {\"date\": \"2020-10-09T00:00:00\", \"totalTestResultsIncrease\": 1008760.0, \"positiveIncrease\": 54055.0, \"death\": 159219.0, \"deathIncrease\": 874.0, \"positiveRate\": 0.054, \"state\": \"Non Tri-State\", \"sma7d\": 44429.143}, {\"date\": \"2020-10-10T00:00:00\", \"totalTestResultsIncrease\": 1081565.0, \"positiveIncrease\": 55104.0, \"death\": 159870.0, \"deathIncrease\": 651.0, \"positiveRate\": 0.051, \"state\": \"Non Tri-State\", \"sma7d\": 45407.286}, {\"date\": \"2020-10-11T00:00:00\", \"totalTestResultsIncrease\": 958666.0, \"positiveIncrease\": 44375.0, \"death\": 160327.0, \"deathIncrease\": 457.0, \"positiveRate\": 0.046, \"state\": \"Non Tri-State\", \"sma7d\": 46583.714}, {\"date\": \"2020-10-12T00:00:00\", \"totalTestResultsIncrease\": 804906.0, \"positiveIncrease\": 39806.0, \"death\": 160598.0, \"deathIncrease\": 271.0, \"positiveRate\": 0.049, \"state\": \"Non Tri-State\", \"sma7d\": 47200.429}, {\"date\": \"2020-10-13T00:00:00\", \"totalTestResultsIncrease\": 936396.0, \"positiveIncrease\": 45892.0, \"death\": 161279.0, \"deathIncrease\": 681.0, \"positiveRate\": 0.049, \"state\": \"Non Tri-State\", \"sma7d\": 48503.0}, {\"date\": \"2020-10-14T00:00:00\", \"totalTestResultsIncrease\": 853303.0, \"positiveIncrease\": 53783.0, \"death\": 162075.0, \"deathIncrease\": 796.0, \"positiveRate\": 0.063, \"state\": \"Non Tri-State\", \"sma7d\": 49243.571}, {\"date\": \"2020-10-15T00:00:00\", \"totalTestResultsIncrease\": 928634.0, \"positiveIncrease\": 60794.0, \"death\": 162990.0, \"deathIncrease\": 915.0, \"positiveRate\": 0.065, \"state\": \"Non Tri-State\", \"sma7d\": 50544.143}, {\"date\": \"2020-10-16T00:00:00\", \"totalTestResultsIncrease\": 1028485.0, \"positiveIncrease\": 64929.0, \"death\": 163864.0, \"deathIncrease\": 874.0, \"positiveRate\": 0.063, \"state\": \"Non Tri-State\", \"sma7d\": 52097.571}, {\"date\": \"2020-10-17T00:00:00\", \"totalTestResultsIncrease\": 1103790.0, \"positiveIncrease\": 54612.0, \"death\": 164615.0, \"deathIncrease\": 751.0, \"positiveRate\": 0.049, \"state\": \"Non Tri-State\", \"sma7d\": 52027.286}, {\"date\": \"2020-10-18T00:00:00\", \"totalTestResultsIncrease\": 921047.0, \"positiveIncrease\": 45619.0, \"death\": 164998.0, \"deathIncrease\": 383.0, \"positiveRate\": 0.05, \"state\": \"Non Tri-State\", \"sma7d\": 52205.0}, {\"date\": \"2020-10-19T00:00:00\", \"totalTestResultsIncrease\": 894173.0, \"positiveIncrease\": 53729.0, \"death\": 165429.0, \"deathIncrease\": 431.0, \"positiveRate\": 0.06, \"state\": \"Non Tri-State\", \"sma7d\": 54194.0}, {\"date\": \"2020-10-20T00:00:00\", \"totalTestResultsIncrease\": 825180.0, \"positiveIncrease\": 57924.0, \"death\": 166236.0, \"deathIncrease\": 807.0, \"positiveRate\": 0.07, \"state\": \"Non Tri-State\", \"sma7d\": 55912.857}, {\"date\": \"2020-10-21T00:00:00\", \"totalTestResultsIncrease\": 771409.0, \"positiveIncrease\": 57481.0, \"death\": 167225.0, \"deathIncrease\": 989.0, \"positiveRate\": 0.075, \"state\": \"Non Tri-State\", \"sma7d\": 56441.143}, {\"date\": \"2020-10-22T00:00:00\", \"totalTestResultsIncrease\": 1034568.0, \"positiveIncrease\": 69550.0, \"death\": 168326.0, \"deathIncrease\": 1101.0, \"positiveRate\": 0.067, \"state\": \"Non Tri-State\", \"sma7d\": 57692.0}, {\"date\": \"2020-10-23T00:00:00\", \"totalTestResultsIncrease\": 1176174.0, \"positiveIncrease\": 78971.0, \"death\": 169220.0, \"deathIncrease\": 894.0, \"positiveRate\": 0.067, \"state\": \"Non Tri-State\", \"sma7d\": 59698.0}, {\"date\": \"2020-10-24T00:00:00\", \"totalTestResultsIncrease\": 1163798.0, \"positiveIncrease\": 79316.0, \"death\": 170081.0, \"deathIncrease\": 861.0, \"positiveRate\": 0.068, \"state\": \"Non Tri-State\", \"sma7d\": 63227.143}, {\"date\": \"2020-10-25T00:00:00\", \"totalTestResultsIncrease\": 1021035.0, \"positiveIncrease\": 62132.0, \"death\": 170439.0, \"deathIncrease\": 358.0, \"positiveRate\": 0.061, \"state\": \"Non Tri-State\", \"sma7d\": 65586.143}, {\"date\": \"2020-10-26T00:00:00\", \"totalTestResultsIncrease\": 961784.0, \"positiveIncrease\": 58072.0, \"death\": 170810.0, \"deathIncrease\": 371.0, \"positiveRate\": 0.06, \"state\": \"Non Tri-State\", \"sma7d\": 66206.571}, {\"date\": \"2020-10-27T00:00:00\", \"totalTestResultsIncrease\": 911787.0, \"positiveIncrease\": 67906.0, \"death\": 171694.0, \"deathIncrease\": 884.0, \"positiveRate\": 0.074, \"state\": \"Non Tri-State\", \"sma7d\": 67632.571}, {\"date\": \"2020-10-28T00:00:00\", \"totalTestResultsIncrease\": 909282.0, \"positiveIncrease\": 74561.0, \"death\": 172696.0, \"deathIncrease\": 1002.0, \"positiveRate\": 0.082, \"state\": \"Non Tri-State\", \"sma7d\": 70072.571}, {\"date\": \"2020-10-29T00:00:00\", \"totalTestResultsIncrease\": 1092476.0, \"positiveIncrease\": 83360.0, \"death\": 173694.0, \"deathIncrease\": 998.0, \"positiveRate\": 0.076, \"state\": \"Non Tri-State\", \"sma7d\": 72045.429}, {\"date\": \"2020-10-30T00:00:00\", \"totalTestResultsIncrease\": 1180907.0, \"positiveIncrease\": 92241.0, \"death\": 174620.0, \"deathIncrease\": 926.0, \"positiveRate\": 0.078, \"state\": \"Non Tri-State\", \"sma7d\": 73941.143}, {\"date\": \"2020-10-31T00:00:00\", \"totalTestResultsIncrease\": 1171348.0, \"positiveIncrease\": 87175.0, \"death\": 175557.0, \"deathIncrease\": 937.0, \"positiveRate\": 0.074, \"state\": \"Non Tri-State\", \"sma7d\": 75063.857}, {\"date\": \"2020-11-01T00:00:00\", \"totalTestResultsIncrease\": 976786.0, \"positiveIncrease\": 69851.0, \"death\": 175924.0, \"deathIncrease\": 367.0, \"positiveRate\": 0.072, \"state\": \"Non Tri-State\", \"sma7d\": 76166.571}, {\"date\": \"2020-11-02T00:00:00\", \"totalTestResultsIncrease\": 1083299.0, \"positiveIncrease\": 76395.0, \"death\": 176395.0, \"deathIncrease\": 471.0, \"positiveRate\": 0.071, \"state\": \"Non Tri-State\", \"sma7d\": 78784.143}, {\"date\": \"2020-11-03T00:00:00\", \"totalTestResultsIncrease\": 950936.0, \"positiveIncrease\": 82513.0, \"death\": 177877.0, \"deathIncrease\": 1482.0, \"positiveRate\": 0.087, \"state\": \"Non Tri-State\", \"sma7d\": 80870.857}, {\"date\": \"2020-11-04T00:00:00\", \"totalTestResultsIncrease\": 1048142.0, \"positiveIncrease\": 97231.0, \"death\": 178954.0, \"deathIncrease\": 1077.0, \"positiveRate\": 0.093, \"state\": \"Non Tri-State\", \"sma7d\": 84109.429}, {\"date\": \"2020-11-05T00:00:00\", \"totalTestResultsIncrease\": 1296500.0, \"positiveIncrease\": 109795.0, \"death\": 180038.0, \"deathIncrease\": 1084.0, \"positiveRate\": 0.085, \"state\": \"Non Tri-State\", \"sma7d\": 87885.857}, {\"date\": \"2020-11-06T00:00:00\", \"totalTestResultsIncrease\": 1325561.0, \"positiveIncrease\": 119318.0, \"death\": 181160.0, \"deathIncrease\": 1122.0, \"positiveRate\": 0.09, \"state\": \"Non Tri-State\", \"sma7d\": 91754.0}, {\"date\": \"2020-11-07T00:00:00\", \"totalTestResultsIncrease\": 1148691.0, \"positiveIncrease\": 122426.0, \"death\": 182237.0, \"deathIncrease\": 1077.0, \"positiveRate\": 0.107, \"state\": \"Non Tri-State\", \"sma7d\": 96789.857}, {\"date\": \"2020-11-08T00:00:00\", \"totalTestResultsIncrease\": 1104304.0, \"positiveIncrease\": 104840.0, \"death\": 182699.0, \"deathIncrease\": 462.0, \"positiveRate\": 0.095, \"state\": \"Non Tri-State\", \"sma7d\": 101788.286}, {\"date\": \"2020-11-09T00:00:00\", \"totalTestResultsIncrease\": 1239573.0, \"positiveIncrease\": 110892.0, \"death\": 183224.0, \"deathIncrease\": 525.0, \"positiveRate\": 0.089, \"state\": \"Non Tri-State\", \"sma7d\": 106716.429}, {\"date\": \"2020-11-10T00:00:00\", \"totalTestResultsIncrease\": 1091566.0, \"positiveIncrease\": 121916.0, \"death\": 184522.0, \"deathIncrease\": 1298.0, \"positiveRate\": 0.112, \"state\": \"Non Tri-State\", \"sma7d\": 112345.429}, {\"date\": \"2020-11-11T00:00:00\", \"totalTestResultsIncrease\": 1167887.0, \"positiveIncrease\": 135162.0, \"death\": 186020.0, \"deathIncrease\": 1498.0, \"positiveRate\": 0.116, \"state\": \"Non Tri-State\", \"sma7d\": 117764.143}, {\"date\": \"2020-11-12T00:00:00\", \"totalTestResultsIncrease\": 1245624.0, \"positiveIncrease\": 142557.0, \"death\": 187103.0, \"deathIncrease\": 1083.0, \"positiveRate\": 0.114, \"state\": \"Non Tri-State\", \"sma7d\": 122444.429}, {\"date\": \"2020-11-13T00:00:00\", \"totalTestResultsIncrease\": 1404039.0, \"positiveIncrease\": 160562.0, \"death\": 188316.0, \"deathIncrease\": 1213.0, \"positiveRate\": 0.114, \"state\": \"Non Tri-State\", \"sma7d\": 128336.429}, {\"date\": \"2020-11-14T00:00:00\", \"totalTestResultsIncrease\": 1435631.0, \"positiveIncrease\": 153799.0, \"death\": 189578.0, \"deathIncrease\": 1262.0, \"positiveRate\": 0.107, \"state\": \"Non Tri-State\", \"sma7d\": 132818.286}, {\"date\": \"2020-11-15T00:00:00\", \"totalTestResultsIncrease\": 1353439.0, \"positiveIncrease\": 136247.0, \"death\": 190207.0, \"deathIncrease\": 629.0, \"positiveRate\": 0.101, \"state\": \"Non Tri-State\", \"sma7d\": 137305.0}, {\"date\": \"2020-11-16T00:00:00\", \"totalTestResultsIncrease\": 1264911.0, \"positiveIncrease\": 138520.0, \"death\": 190782.0, \"deathIncrease\": 575.0, \"positiveRate\": 0.11, \"state\": \"Non Tri-State\", \"sma7d\": 141251.857}, {\"date\": \"2020-11-17T00:00:00\", \"totalTestResultsIncrease\": 1276974.0, \"positiveIncrease\": 145906.0, \"death\": 192257.0, \"deathIncrease\": 1475.0, \"positiveRate\": 0.114, \"state\": \"Non Tri-State\", \"sma7d\": 144679.0}, {\"date\": \"2020-11-18T00:00:00\", \"totalTestResultsIncrease\": 1254456.0, \"positiveIncrease\": 152596.0, \"death\": 194040.0, \"deathIncrease\": 1783.0, \"positiveRate\": 0.122, \"state\": \"Non Tri-State\", \"sma7d\": 147169.571}, {\"date\": \"2020-11-19T00:00:00\", \"totalTestResultsIncrease\": 1581508.0, \"positiveIncrease\": 170987.0, \"death\": 195924.0, \"deathIncrease\": 1884.0, \"positiveRate\": 0.108, \"state\": \"Non Tri-State\", \"sma7d\": 151231.0}, {\"date\": \"2020-11-20T00:00:00\", \"totalTestResultsIncrease\": 1632860.0, \"positiveIncrease\": 181623.0, \"death\": 197705.0, \"deathIncrease\": 1781.0, \"positiveRate\": 0.111, \"state\": \"Non Tri-State\", \"sma7d\": 154239.714}, {\"date\": \"2020-11-21T00:00:00\", \"totalTestResultsIncrease\": 1746173.0, \"positiveIncrease\": 169073.0, \"death\": 199149.0, \"deathIncrease\": 1444.0, \"positiveRate\": 0.097, \"state\": \"Non Tri-State\", \"sma7d\": 156421.714}, {\"date\": \"2020-11-22T00:00:00\", \"totalTestResultsIncrease\": 1494085.0, \"positiveIncrease\": 141476.0, \"death\": 199995.0, \"deathIncrease\": 846.0, \"positiveRate\": 0.095, \"state\": \"Non Tri-State\", \"sma7d\": 157168.714}, {\"date\": \"2020-11-23T00:00:00\", \"totalTestResultsIncrease\": 1402272.0, \"positiveIncrease\": 136217.0, \"death\": 200864.0, \"deathIncrease\": 869.0, \"positiveRate\": 0.097, \"state\": \"Non Tri-State\", \"sma7d\": 156839.714}]}}, {\"mode\": \"vega-lite\"});\n",
       "</script>"
      ],
      "text/plain": [
       "alt.LayerChart(...)"
      ]
     },
     "execution_count": 15,
     "metadata": {},
     "output_type": "execute_result"
    }
   ],
   "source": [
    "create_plot(non_tristate, 'positiveIncrease')"
   ]
  },
  {
   "cell_type": "code",
   "execution_count": 16,
   "metadata": {
    "execution": {
     "iopub.execute_input": "2020-11-24T09:13:33.593027Z",
     "iopub.status.busy": "2020-11-24T09:13:33.592483Z",
     "iopub.status.idle": "2020-11-24T09:13:33.658885Z",
     "shell.execute_reply": "2020-11-24T09:13:33.659909Z"
    },
    "papermill": {
     "duration": 0.107622,
     "end_time": "2020-11-24T09:13:33.660168",
     "exception": false,
     "start_time": "2020-11-24T09:13:33.552546",
     "status": "completed"
    },
    "tags": []
   },
   "outputs": [
    {
     "data": {
      "text/html": [
       "\n",
       "<div id=\"altair-viz-28fe54146219461ba18d71c941ec1d3d\"></div>\n",
       "<script type=\"text/javascript\">\n",
       "  (function(spec, embedOpt){\n",
       "    let outputDiv = document.currentScript.previousElementSibling;\n",
       "    if (outputDiv.id !== \"altair-viz-28fe54146219461ba18d71c941ec1d3d\") {\n",
       "      outputDiv = document.getElementById(\"altair-viz-28fe54146219461ba18d71c941ec1d3d\");\n",
       "    }\n",
       "    const paths = {\n",
       "      \"vega\": \"https://cdn.jsdelivr.net/npm//vega@5?noext\",\n",
       "      \"vega-lib\": \"https://cdn.jsdelivr.net/npm//vega-lib?noext\",\n",
       "      \"vega-lite\": \"https://cdn.jsdelivr.net/npm//vega-lite@4.8.1?noext\",\n",
       "      \"vega-embed\": \"https://cdn.jsdelivr.net/npm//vega-embed@6?noext\",\n",
       "    };\n",
       "\n",
       "    function loadScript(lib) {\n",
       "      return new Promise(function(resolve, reject) {\n",
       "        var s = document.createElement('script');\n",
       "        s.src = paths[lib];\n",
       "        s.async = true;\n",
       "        s.onload = () => resolve(paths[lib]);\n",
       "        s.onerror = () => reject(`Error loading script: ${paths[lib]}`);\n",
       "        document.getElementsByTagName(\"head\")[0].appendChild(s);\n",
       "      });\n",
       "    }\n",
       "\n",
       "    function showError(err) {\n",
       "      outputDiv.innerHTML = `<div class=\"error\" style=\"color:red;\">${err}</div>`;\n",
       "      throw err;\n",
       "    }\n",
       "\n",
       "    function displayChart(vegaEmbed) {\n",
       "      vegaEmbed(outputDiv, spec, embedOpt)\n",
       "        .catch(err => showError(`Javascript Error: ${err.message}<br>This usually means there's a typo in your chart specification. See the javascript console for the full traceback.`));\n",
       "    }\n",
       "\n",
       "    if(typeof define === \"function\" && define.amd) {\n",
       "      requirejs.config({paths});\n",
       "      require([\"vega-embed\"], displayChart, err => showError(`Error loading script: ${err.message}`));\n",
       "    } else if (typeof vegaEmbed === \"function\") {\n",
       "      displayChart(vegaEmbed);\n",
       "    } else {\n",
       "      loadScript(\"vega\")\n",
       "        .then(() => loadScript(\"vega-lite\"))\n",
       "        .then(() => loadScript(\"vega-embed\"))\n",
       "        .catch(showError)\n",
       "        .then(() => displayChart(vegaEmbed));\n",
       "    }\n",
       "  })({\"config\": {\"view\": {\"continuousWidth\": 400, \"continuousHeight\": 300}}, \"layer\": [{\"layer\": [{\"mark\": {\"type\": \"point\", \"size\": 75}, \"encoding\": {\"tooltip\": [{\"type\": \"temporal\", \"field\": \"date\"}, {\"type\": \"quantitative\", \"field\": \"positiveRate\"}, {\"type\": \"quantitative\", \"field\": \"sma7d\"}], \"x\": {\"type\": \"temporal\", \"field\": \"date\"}, \"y\": {\"type\": \"quantitative\", \"field\": \"positiveRate\"}}, \"selection\": {\"selector016\": {\"type\": \"interval\", \"bind\": \"scales\", \"encodings\": [\"x\", \"y\"]}}}, {\"mark\": {\"type\": \"line\", \"color\": \"purple\"}, \"encoding\": {\"x\": {\"type\": \"temporal\", \"field\": \"date\"}, \"y\": {\"type\": \"quantitative\", \"field\": \"sma7d\"}}}]}, {\"mark\": {\"type\": \"rule\", \"color\": \"#aaa\"}, \"encoding\": {\"x\": {\"type\": \"temporal\", \"field\": \"date\"}}, \"transform\": [{\"filter\": {\"selection\": \"selector015\"}}]}, {\"mark\": \"circle\", \"encoding\": {\"opacity\": {\"condition\": {\"value\": 1, \"selection\": \"selector015\"}, \"value\": 0}, \"tooltip\": [{\"type\": \"temporal\", \"field\": \"date\"}, {\"type\": \"quantitative\", \"field\": \"positiveRate\"}, {\"type\": \"quantitative\", \"field\": \"sma7d\"}], \"x\": {\"type\": \"temporal\", \"field\": \"date\"}, \"y\": {\"type\": \"quantitative\", \"field\": \"positiveRate\"}}, \"selection\": {\"selector015\": {\"type\": \"single\", \"encodings\": [\"x\"], \"on\": \"mouseover\", \"nearest\": true, \"empty\": \"none\"}}}, {\"mark\": {\"type\": \"text\", \"align\": \"left\", \"dx\": 5, \"dy\": -5, \"stroke\": \"white\", \"strokeWidth\": 2}, \"encoding\": {\"text\": {\"type\": \"quantitative\", \"field\": \"positiveRate\"}, \"tooltip\": [{\"type\": \"temporal\", \"field\": \"date\"}, {\"type\": \"quantitative\", \"field\": \"positiveRate\"}, {\"type\": \"quantitative\", \"field\": \"sma7d\"}], \"x\": {\"type\": \"temporal\", \"field\": \"date\"}, \"y\": {\"type\": \"quantitative\", \"field\": \"positiveRate\"}}, \"transform\": [{\"filter\": {\"selection\": \"selector015\"}}]}, {\"mark\": {\"type\": \"text\", \"align\": \"left\", \"dx\": 5, \"dy\": -5}, \"encoding\": {\"text\": {\"type\": \"quantitative\", \"field\": \"positiveRate\"}, \"tooltip\": [{\"type\": \"temporal\", \"field\": \"date\"}, {\"type\": \"quantitative\", \"field\": \"positiveRate\"}, {\"type\": \"quantitative\", \"field\": \"sma7d\"}], \"x\": {\"type\": \"temporal\", \"field\": \"date\"}, \"y\": {\"type\": \"quantitative\", \"field\": \"positiveRate\"}}, \"transform\": [{\"filter\": {\"selection\": \"selector015\"}}]}], \"data\": {\"name\": \"data-1073ad164d9490331c6fb6d9102b2927\"}, \"height\": 400, \"title\": \"Non Tri-State: positiveRate\", \"width\": 500, \"$schema\": \"https://vega.github.io/schema/vega-lite/v4.8.1.json\", \"datasets\": {\"data-1073ad164d9490331c6fb6d9102b2927\": [{\"date\": \"2020-09-30T00:00:00\", \"totalTestResultsIncrease\": 749732.0, \"positiveIncrease\": 42414.0, \"death\": 152826.0, \"deathIncrease\": 1041.0, \"positiveRate\": 0.057, \"state\": \"Non Tri-State\", \"sma7d\": 0.046}, {\"date\": \"2020-10-01T00:00:00\", \"totalTestResultsIncrease\": 883092.0, \"positiveIncrease\": 43417.0, \"death\": 153655.0, \"deathIncrease\": 829.0, \"positiveRate\": 0.049, \"state\": \"Non Tri-State\", \"sma7d\": 0.046}, {\"date\": \"2020-10-02T00:00:00\", \"totalTestResultsIncrease\": 990948.0, \"positiveIncrease\": 46364.0, \"death\": 154481.0, \"deathIncrease\": 826.0, \"positiveRate\": 0.047, \"state\": \"Non Tri-State\", \"sma7d\": 0.045}, {\"date\": \"2020-10-03T00:00:00\", \"totalTestResultsIncrease\": 962427.0, \"positiveIncrease\": 48257.0, \"death\": 155202.0, \"deathIncrease\": 721.0, \"positiveRate\": 0.05, \"state\": \"Non Tri-State\", \"sma7d\": 0.046}, {\"date\": \"2020-10-04T00:00:00\", \"totalTestResultsIncrease\": 856136.0, \"positiveIncrease\": 36140.0, \"death\": 155549.0, \"deathIncrease\": 347.0, \"positiveRate\": 0.042, \"state\": \"Non Tri-State\", \"sma7d\": 0.046}, {\"date\": \"2020-10-05T00:00:00\", \"totalTestResultsIncrease\": 837591.0, \"positiveIncrease\": 35489.0, \"death\": 155876.0, \"deathIncrease\": 327.0, \"positiveRate\": 0.042, \"state\": \"Non Tri-State\", \"sma7d\": 0.047}, {\"date\": \"2020-10-06T00:00:00\", \"totalTestResultsIncrease\": 793360.0, \"positiveIncrease\": 36774.0, \"death\": 156486.0, \"deathIncrease\": 610.0, \"positiveRate\": 0.046, \"state\": \"Non Tri-State\", \"sma7d\": 0.048}, {\"date\": \"2020-10-07T00:00:00\", \"totalTestResultsIncrease\": 835457.0, \"positiveIncrease\": 48599.0, \"death\": 157381.0, \"deathIncrease\": 895.0, \"positiveRate\": 0.058, \"state\": \"Non Tri-State\", \"sma7d\": 0.048}, {\"date\": \"2020-10-08T00:00:00\", \"totalTestResultsIncrease\": 920753.0, \"positiveIncrease\": 51690.0, \"death\": 158345.0, \"deathIncrease\": 964.0, \"positiveRate\": 0.056, \"state\": \"Non Tri-State\", \"sma7d\": 0.049}, {\"date\": \"2020-10-09T00:00:00\", \"totalTestResultsIncrease\": 1008760.0, \"positiveIncrease\": 54055.0, \"death\": 159219.0, \"deathIncrease\": 874.0, \"positiveRate\": 0.054, \"state\": \"Non Tri-State\", \"sma7d\": 0.05}, {\"date\": \"2020-10-10T00:00:00\", \"totalTestResultsIncrease\": 1081565.0, \"positiveIncrease\": 55104.0, \"death\": 159870.0, \"deathIncrease\": 651.0, \"positiveRate\": 0.051, \"state\": \"Non Tri-State\", \"sma7d\": 0.05}, {\"date\": \"2020-10-11T00:00:00\", \"totalTestResultsIncrease\": 958666.0, \"positiveIncrease\": 44375.0, \"death\": 160327.0, \"deathIncrease\": 457.0, \"positiveRate\": 0.046, \"state\": \"Non Tri-State\", \"sma7d\": 0.05}, {\"date\": \"2020-10-12T00:00:00\", \"totalTestResultsIncrease\": 804906.0, \"positiveIncrease\": 39806.0, \"death\": 160598.0, \"deathIncrease\": 271.0, \"positiveRate\": 0.049, \"state\": \"Non Tri-State\", \"sma7d\": 0.051}, {\"date\": \"2020-10-13T00:00:00\", \"totalTestResultsIncrease\": 936396.0, \"positiveIncrease\": 45892.0, \"death\": 161279.0, \"deathIncrease\": 681.0, \"positiveRate\": 0.049, \"state\": \"Non Tri-State\", \"sma7d\": 0.052}, {\"date\": \"2020-10-14T00:00:00\", \"totalTestResultsIncrease\": 853303.0, \"positiveIncrease\": 53783.0, \"death\": 162075.0, \"deathIncrease\": 796.0, \"positiveRate\": 0.063, \"state\": \"Non Tri-State\", \"sma7d\": 0.053}, {\"date\": \"2020-10-15T00:00:00\", \"totalTestResultsIncrease\": 928634.0, \"positiveIncrease\": 60794.0, \"death\": 162990.0, \"deathIncrease\": 915.0, \"positiveRate\": 0.065, \"state\": \"Non Tri-State\", \"sma7d\": 0.054}, {\"date\": \"2020-10-16T00:00:00\", \"totalTestResultsIncrease\": 1028485.0, \"positiveIncrease\": 64929.0, \"death\": 163864.0, \"deathIncrease\": 874.0, \"positiveRate\": 0.063, \"state\": \"Non Tri-State\", \"sma7d\": 0.055}, {\"date\": \"2020-10-17T00:00:00\", \"totalTestResultsIncrease\": 1103790.0, \"positiveIncrease\": 54612.0, \"death\": 164615.0, \"deathIncrease\": 751.0, \"positiveRate\": 0.049, \"state\": \"Non Tri-State\", \"sma7d\": 0.055}, {\"date\": \"2020-10-18T00:00:00\", \"totalTestResultsIncrease\": 921047.0, \"positiveIncrease\": 45619.0, \"death\": 164998.0, \"deathIncrease\": 383.0, \"positiveRate\": 0.05, \"state\": \"Non Tri-State\", \"sma7d\": 0.055}, {\"date\": \"2020-10-19T00:00:00\", \"totalTestResultsIncrease\": 894173.0, \"positiveIncrease\": 53729.0, \"death\": 165429.0, \"deathIncrease\": 431.0, \"positiveRate\": 0.06, \"state\": \"Non Tri-State\", \"sma7d\": 0.057}, {\"date\": \"2020-10-20T00:00:00\", \"totalTestResultsIncrease\": 825180.0, \"positiveIncrease\": 57924.0, \"death\": 166236.0, \"deathIncrease\": 807.0, \"positiveRate\": 0.07, \"state\": \"Non Tri-State\", \"sma7d\": 0.06}, {\"date\": \"2020-10-21T00:00:00\", \"totalTestResultsIncrease\": 771409.0, \"positiveIncrease\": 57481.0, \"death\": 167225.0, \"deathIncrease\": 989.0, \"positiveRate\": 0.075, \"state\": \"Non Tri-State\", \"sma7d\": 0.062}, {\"date\": \"2020-10-22T00:00:00\", \"totalTestResultsIncrease\": 1034568.0, \"positiveIncrease\": 69550.0, \"death\": 168326.0, \"deathIncrease\": 1101.0, \"positiveRate\": 0.067, \"state\": \"Non Tri-State\", \"sma7d\": 0.062}, {\"date\": \"2020-10-23T00:00:00\", \"totalTestResultsIncrease\": 1176174.0, \"positiveIncrease\": 78971.0, \"death\": 169220.0, \"deathIncrease\": 894.0, \"positiveRate\": 0.067, \"state\": \"Non Tri-State\", \"sma7d\": 0.063}, {\"date\": \"2020-10-24T00:00:00\", \"totalTestResultsIncrease\": 1163798.0, \"positiveIncrease\": 79316.0, \"death\": 170081.0, \"deathIncrease\": 861.0, \"positiveRate\": 0.068, \"state\": \"Non Tri-State\", \"sma7d\": 0.065}, {\"date\": \"2020-10-25T00:00:00\", \"totalTestResultsIncrease\": 1021035.0, \"positiveIncrease\": 62132.0, \"death\": 170439.0, \"deathIncrease\": 358.0, \"positiveRate\": 0.061, \"state\": \"Non Tri-State\", \"sma7d\": 0.067}, {\"date\": \"2020-10-26T00:00:00\", \"totalTestResultsIncrease\": 961784.0, \"positiveIncrease\": 58072.0, \"death\": 170810.0, \"deathIncrease\": 371.0, \"positiveRate\": 0.06, \"state\": \"Non Tri-State\", \"sma7d\": 0.067}, {\"date\": \"2020-10-27T00:00:00\", \"totalTestResultsIncrease\": 911787.0, \"positiveIncrease\": 67906.0, \"death\": 171694.0, \"deathIncrease\": 884.0, \"positiveRate\": 0.074, \"state\": \"Non Tri-State\", \"sma7d\": 0.067}, {\"date\": \"2020-10-28T00:00:00\", \"totalTestResultsIncrease\": 909282.0, \"positiveIncrease\": 74561.0, \"death\": 172696.0, \"deathIncrease\": 1002.0, \"positiveRate\": 0.082, \"state\": \"Non Tri-State\", \"sma7d\": 0.068}, {\"date\": \"2020-10-29T00:00:00\", \"totalTestResultsIncrease\": 1092476.0, \"positiveIncrease\": 83360.0, \"death\": 173694.0, \"deathIncrease\": 998.0, \"positiveRate\": 0.076, \"state\": \"Non Tri-State\", \"sma7d\": 0.07}, {\"date\": \"2020-10-30T00:00:00\", \"totalTestResultsIncrease\": 1180907.0, \"positiveIncrease\": 92241.0, \"death\": 174620.0, \"deathIncrease\": 926.0, \"positiveRate\": 0.078, \"state\": \"Non Tri-State\", \"sma7d\": 0.071}, {\"date\": \"2020-10-31T00:00:00\", \"totalTestResultsIncrease\": 1171348.0, \"positiveIncrease\": 87175.0, \"death\": 175557.0, \"deathIncrease\": 937.0, \"positiveRate\": 0.074, \"state\": \"Non Tri-State\", \"sma7d\": 0.072}, {\"date\": \"2020-11-01T00:00:00\", \"totalTestResultsIncrease\": 976786.0, \"positiveIncrease\": 69851.0, \"death\": 175924.0, \"deathIncrease\": 367.0, \"positiveRate\": 0.072, \"state\": \"Non Tri-State\", \"sma7d\": 0.074}, {\"date\": \"2020-11-02T00:00:00\", \"totalTestResultsIncrease\": 1083299.0, \"positiveIncrease\": 76395.0, \"death\": 176395.0, \"deathIncrease\": 471.0, \"positiveRate\": 0.071, \"state\": \"Non Tri-State\", \"sma7d\": 0.075}, {\"date\": \"2020-11-03T00:00:00\", \"totalTestResultsIncrease\": 950936.0, \"positiveIncrease\": 82513.0, \"death\": 177877.0, \"deathIncrease\": 1482.0, \"positiveRate\": 0.087, \"state\": \"Non Tri-State\", \"sma7d\": 0.077}, {\"date\": \"2020-11-04T00:00:00\", \"totalTestResultsIncrease\": 1048142.0, \"positiveIncrease\": 97231.0, \"death\": 178954.0, \"deathIncrease\": 1077.0, \"positiveRate\": 0.093, \"state\": \"Non Tri-State\", \"sma7d\": 0.079}, {\"date\": \"2020-11-05T00:00:00\", \"totalTestResultsIncrease\": 1296500.0, \"positiveIncrease\": 109795.0, \"death\": 180038.0, \"deathIncrease\": 1084.0, \"positiveRate\": 0.085, \"state\": \"Non Tri-State\", \"sma7d\": 0.08}, {\"date\": \"2020-11-06T00:00:00\", \"totalTestResultsIncrease\": 1325561.0, \"positiveIncrease\": 119318.0, \"death\": 181160.0, \"deathIncrease\": 1122.0, \"positiveRate\": 0.09, \"state\": \"Non Tri-State\", \"sma7d\": 0.082}, {\"date\": \"2020-11-07T00:00:00\", \"totalTestResultsIncrease\": 1148691.0, \"positiveIncrease\": 122426.0, \"death\": 182237.0, \"deathIncrease\": 1077.0, \"positiveRate\": 0.107, \"state\": \"Non Tri-State\", \"sma7d\": 0.086}, {\"date\": \"2020-11-08T00:00:00\", \"totalTestResultsIncrease\": 1104304.0, \"positiveIncrease\": 104840.0, \"death\": 182699.0, \"deathIncrease\": 462.0, \"positiveRate\": 0.095, \"state\": \"Non Tri-State\", \"sma7d\": 0.09}, {\"date\": \"2020-11-09T00:00:00\", \"totalTestResultsIncrease\": 1239573.0, \"positiveIncrease\": 110892.0, \"death\": 183224.0, \"deathIncrease\": 525.0, \"positiveRate\": 0.089, \"state\": \"Non Tri-State\", \"sma7d\": 0.092}, {\"date\": \"2020-11-10T00:00:00\", \"totalTestResultsIncrease\": 1091566.0, \"positiveIncrease\": 121916.0, \"death\": 184522.0, \"deathIncrease\": 1298.0, \"positiveRate\": 0.112, \"state\": \"Non Tri-State\", \"sma7d\": 0.096}, {\"date\": \"2020-11-11T00:00:00\", \"totalTestResultsIncrease\": 1167887.0, \"positiveIncrease\": 135162.0, \"death\": 186020.0, \"deathIncrease\": 1498.0, \"positiveRate\": 0.116, \"state\": \"Non Tri-State\", \"sma7d\": 0.099}, {\"date\": \"2020-11-12T00:00:00\", \"totalTestResultsIncrease\": 1245624.0, \"positiveIncrease\": 142557.0, \"death\": 187103.0, \"deathIncrease\": 1083.0, \"positiveRate\": 0.114, \"state\": \"Non Tri-State\", \"sma7d\": 0.103}, {\"date\": \"2020-11-13T00:00:00\", \"totalTestResultsIncrease\": 1404039.0, \"positiveIncrease\": 160562.0, \"death\": 188316.0, \"deathIncrease\": 1213.0, \"positiveRate\": 0.114, \"state\": \"Non Tri-State\", \"sma7d\": 0.107}, {\"date\": \"2020-11-14T00:00:00\", \"totalTestResultsIncrease\": 1435631.0, \"positiveIncrease\": 153799.0, \"death\": 189578.0, \"deathIncrease\": 1262.0, \"positiveRate\": 0.107, \"state\": \"Non Tri-State\", \"sma7d\": 0.107}, {\"date\": \"2020-11-15T00:00:00\", \"totalTestResultsIncrease\": 1353439.0, \"positiveIncrease\": 136247.0, \"death\": 190207.0, \"deathIncrease\": 629.0, \"positiveRate\": 0.101, \"state\": \"Non Tri-State\", \"sma7d\": 0.108}, {\"date\": \"2020-11-16T00:00:00\", \"totalTestResultsIncrease\": 1264911.0, \"positiveIncrease\": 138520.0, \"death\": 190782.0, \"deathIncrease\": 575.0, \"positiveRate\": 0.11, \"state\": \"Non Tri-State\", \"sma7d\": 0.111}, {\"date\": \"2020-11-17T00:00:00\", \"totalTestResultsIncrease\": 1276974.0, \"positiveIncrease\": 145906.0, \"death\": 192257.0, \"deathIncrease\": 1475.0, \"positiveRate\": 0.114, \"state\": \"Non Tri-State\", \"sma7d\": 0.111}, {\"date\": \"2020-11-18T00:00:00\", \"totalTestResultsIncrease\": 1254456.0, \"positiveIncrease\": 152596.0, \"death\": 194040.0, \"deathIncrease\": 1783.0, \"positiveRate\": 0.122, \"state\": \"Non Tri-State\", \"sma7d\": 0.112}, {\"date\": \"2020-11-19T00:00:00\", \"totalTestResultsIncrease\": 1581508.0, \"positiveIncrease\": 170987.0, \"death\": 195924.0, \"deathIncrease\": 1884.0, \"positiveRate\": 0.108, \"state\": \"Non Tri-State\", \"sma7d\": 0.111}, {\"date\": \"2020-11-20T00:00:00\", \"totalTestResultsIncrease\": 1632860.0, \"positiveIncrease\": 181623.0, \"death\": 197705.0, \"deathIncrease\": 1781.0, \"positiveRate\": 0.111, \"state\": \"Non Tri-State\", \"sma7d\": 0.11}, {\"date\": \"2020-11-21T00:00:00\", \"totalTestResultsIncrease\": 1746173.0, \"positiveIncrease\": 169073.0, \"death\": 199149.0, \"deathIncrease\": 1444.0, \"positiveRate\": 0.097, \"state\": \"Non Tri-State\", \"sma7d\": 0.109}, {\"date\": \"2020-11-22T00:00:00\", \"totalTestResultsIncrease\": 1494085.0, \"positiveIncrease\": 141476.0, \"death\": 199995.0, \"deathIncrease\": 846.0, \"positiveRate\": 0.095, \"state\": \"Non Tri-State\", \"sma7d\": 0.108}, {\"date\": \"2020-11-23T00:00:00\", \"totalTestResultsIncrease\": 1402272.0, \"positiveIncrease\": 136217.0, \"death\": 200864.0, \"deathIncrease\": 869.0, \"positiveRate\": 0.097, \"state\": \"Non Tri-State\", \"sma7d\": 0.106}]}}, {\"mode\": \"vega-lite\"});\n",
       "</script>"
      ],
      "text/plain": [
       "alt.LayerChart(...)"
      ]
     },
     "execution_count": 16,
     "metadata": {},
     "output_type": "execute_result"
    }
   ],
   "source": [
    "create_plot(non_tristate, 'positiveRate')"
   ]
  },
  {
   "cell_type": "code",
   "execution_count": 17,
   "metadata": {
    "execution": {
     "iopub.execute_input": "2020-11-24T09:13:33.719201Z",
     "iopub.status.busy": "2020-11-24T09:13:33.708995Z",
     "iopub.status.idle": "2020-11-24T09:13:33.779243Z",
     "shell.execute_reply": "2020-11-24T09:13:33.778837Z"
    },
    "papermill": {
     "duration": 0.101215,
     "end_time": "2020-11-24T09:13:33.779342",
     "exception": false,
     "start_time": "2020-11-24T09:13:33.678127",
     "status": "completed"
    },
    "tags": []
   },
   "outputs": [
    {
     "data": {
      "text/html": [
       "\n",
       "<div id=\"altair-viz-990ce259fa4945e8aad0d882056f0c9b\"></div>\n",
       "<script type=\"text/javascript\">\n",
       "  (function(spec, embedOpt){\n",
       "    let outputDiv = document.currentScript.previousElementSibling;\n",
       "    if (outputDiv.id !== \"altair-viz-990ce259fa4945e8aad0d882056f0c9b\") {\n",
       "      outputDiv = document.getElementById(\"altair-viz-990ce259fa4945e8aad0d882056f0c9b\");\n",
       "    }\n",
       "    const paths = {\n",
       "      \"vega\": \"https://cdn.jsdelivr.net/npm//vega@5?noext\",\n",
       "      \"vega-lib\": \"https://cdn.jsdelivr.net/npm//vega-lib?noext\",\n",
       "      \"vega-lite\": \"https://cdn.jsdelivr.net/npm//vega-lite@4.8.1?noext\",\n",
       "      \"vega-embed\": \"https://cdn.jsdelivr.net/npm//vega-embed@6?noext\",\n",
       "    };\n",
       "\n",
       "    function loadScript(lib) {\n",
       "      return new Promise(function(resolve, reject) {\n",
       "        var s = document.createElement('script');\n",
       "        s.src = paths[lib];\n",
       "        s.async = true;\n",
       "        s.onload = () => resolve(paths[lib]);\n",
       "        s.onerror = () => reject(`Error loading script: ${paths[lib]}`);\n",
       "        document.getElementsByTagName(\"head\")[0].appendChild(s);\n",
       "      });\n",
       "    }\n",
       "\n",
       "    function showError(err) {\n",
       "      outputDiv.innerHTML = `<div class=\"error\" style=\"color:red;\">${err}</div>`;\n",
       "      throw err;\n",
       "    }\n",
       "\n",
       "    function displayChart(vegaEmbed) {\n",
       "      vegaEmbed(outputDiv, spec, embedOpt)\n",
       "        .catch(err => showError(`Javascript Error: ${err.message}<br>This usually means there's a typo in your chart specification. See the javascript console for the full traceback.`));\n",
       "    }\n",
       "\n",
       "    if(typeof define === \"function\" && define.amd) {\n",
       "      requirejs.config({paths});\n",
       "      require([\"vega-embed\"], displayChart, err => showError(`Error loading script: ${err.message}`));\n",
       "    } else if (typeof vegaEmbed === \"function\") {\n",
       "      displayChart(vegaEmbed);\n",
       "    } else {\n",
       "      loadScript(\"vega\")\n",
       "        .then(() => loadScript(\"vega-lite\"))\n",
       "        .then(() => loadScript(\"vega-embed\"))\n",
       "        .catch(showError)\n",
       "        .then(() => displayChart(vegaEmbed));\n",
       "    }\n",
       "  })({\"config\": {\"view\": {\"continuousWidth\": 400, \"continuousHeight\": 300}}, \"layer\": [{\"layer\": [{\"mark\": {\"type\": \"point\", \"size\": 75}, \"encoding\": {\"tooltip\": [{\"type\": \"temporal\", \"field\": \"date\"}, {\"type\": \"quantitative\", \"field\": \"deathIncrease\"}, {\"type\": \"quantitative\", \"field\": \"sma7d\"}], \"x\": {\"type\": \"temporal\", \"field\": \"date\"}, \"y\": {\"type\": \"quantitative\", \"field\": \"deathIncrease\"}}, \"selection\": {\"selector018\": {\"type\": \"interval\", \"bind\": \"scales\", \"encodings\": [\"x\", \"y\"]}}}, {\"mark\": {\"type\": \"line\", \"color\": \"purple\"}, \"encoding\": {\"x\": {\"type\": \"temporal\", \"field\": \"date\"}, \"y\": {\"type\": \"quantitative\", \"field\": \"sma7d\"}}}]}, {\"mark\": {\"type\": \"rule\", \"color\": \"#aaa\"}, \"encoding\": {\"x\": {\"type\": \"temporal\", \"field\": \"date\"}}, \"transform\": [{\"filter\": {\"selection\": \"selector017\"}}]}, {\"mark\": \"circle\", \"encoding\": {\"opacity\": {\"condition\": {\"value\": 1, \"selection\": \"selector017\"}, \"value\": 0}, \"tooltip\": [{\"type\": \"temporal\", \"field\": \"date\"}, {\"type\": \"quantitative\", \"field\": \"deathIncrease\"}, {\"type\": \"quantitative\", \"field\": \"sma7d\"}], \"x\": {\"type\": \"temporal\", \"field\": \"date\"}, \"y\": {\"type\": \"quantitative\", \"field\": \"deathIncrease\"}}, \"selection\": {\"selector017\": {\"type\": \"single\", \"encodings\": [\"x\"], \"on\": \"mouseover\", \"nearest\": true, \"empty\": \"none\"}}}, {\"mark\": {\"type\": \"text\", \"align\": \"left\", \"dx\": 5, \"dy\": -5, \"stroke\": \"white\", \"strokeWidth\": 2}, \"encoding\": {\"text\": {\"type\": \"quantitative\", \"field\": \"deathIncrease\"}, \"tooltip\": [{\"type\": \"temporal\", \"field\": \"date\"}, {\"type\": \"quantitative\", \"field\": \"deathIncrease\"}, {\"type\": \"quantitative\", \"field\": \"sma7d\"}], \"x\": {\"type\": \"temporal\", \"field\": \"date\"}, \"y\": {\"type\": \"quantitative\", \"field\": \"deathIncrease\"}}, \"transform\": [{\"filter\": {\"selection\": \"selector017\"}}]}, {\"mark\": {\"type\": \"text\", \"align\": \"left\", \"dx\": 5, \"dy\": -5}, \"encoding\": {\"text\": {\"type\": \"quantitative\", \"field\": \"deathIncrease\"}, \"tooltip\": [{\"type\": \"temporal\", \"field\": \"date\"}, {\"type\": \"quantitative\", \"field\": \"deathIncrease\"}, {\"type\": \"quantitative\", \"field\": \"sma7d\"}], \"x\": {\"type\": \"temporal\", \"field\": \"date\"}, \"y\": {\"type\": \"quantitative\", \"field\": \"deathIncrease\"}}, \"transform\": [{\"filter\": {\"selection\": \"selector017\"}}]}], \"data\": {\"name\": \"data-975afa095bec1e448abc27ddd1c8de9f\"}, \"height\": 400, \"title\": \"Non Tri-State: deathIncrease\", \"width\": 500, \"$schema\": \"https://vega.github.io/schema/vega-lite/v4.8.1.json\", \"datasets\": {\"data-975afa095bec1e448abc27ddd1c8de9f\": [{\"date\": \"2020-09-30T00:00:00\", \"totalTestResultsIncrease\": 749732.0, \"positiveIncrease\": 42414.0, \"death\": 152826.0, \"deathIncrease\": 1041.0, \"positiveRate\": 0.057, \"state\": \"Non Tri-State\", \"sma7d\": 701.143}, {\"date\": \"2020-10-01T00:00:00\", \"totalTestResultsIncrease\": 883092.0, \"positiveIncrease\": 43417.0, \"death\": 153655.0, \"deathIncrease\": 829.0, \"positiveRate\": 0.049, \"state\": \"Non Tri-State\", \"sma7d\": 688.714}, {\"date\": \"2020-10-02T00:00:00\", \"totalTestResultsIncrease\": 990948.0, \"positiveIncrease\": 46364.0, \"death\": 154481.0, \"deathIncrease\": 826.0, \"positiveRate\": 0.047, \"state\": \"Non Tri-State\", \"sma7d\": 688.286}, {\"date\": \"2020-10-03T00:00:00\", \"totalTestResultsIncrease\": 962427.0, \"positiveIncrease\": 48257.0, \"death\": 155202.0, \"deathIncrease\": 721.0, \"positiveRate\": 0.05, \"state\": \"Non Tri-State\", \"sma7d\": 669.429}, {\"date\": \"2020-10-04T00:00:00\", \"totalTestResultsIncrease\": 856136.0, \"positiveIncrease\": 36140.0, \"death\": 155549.0, \"deathIncrease\": 347.0, \"positiveRate\": 0.042, \"state\": \"Non Tri-State\", \"sma7d\": 677.571}, {\"date\": \"2020-10-05T00:00:00\", \"totalTestResultsIncrease\": 837591.0, \"positiveIncrease\": 35489.0, \"death\": 155876.0, \"deathIncrease\": 327.0, \"positiveRate\": 0.042, \"state\": \"Non Tri-State\", \"sma7d\": 688.143}, {\"date\": \"2020-10-06T00:00:00\", \"totalTestResultsIncrease\": 793360.0, \"positiveIncrease\": 36774.0, \"death\": 156486.0, \"deathIncrease\": 610.0, \"positiveRate\": 0.046, \"state\": \"Non Tri-State\", \"sma7d\": 671.571}, {\"date\": \"2020-10-07T00:00:00\", \"totalTestResultsIncrease\": 835457.0, \"positiveIncrease\": 48599.0, \"death\": 157381.0, \"deathIncrease\": 895.0, \"positiveRate\": 0.058, \"state\": \"Non Tri-State\", \"sma7d\": 650.714}, {\"date\": \"2020-10-08T00:00:00\", \"totalTestResultsIncrease\": 920753.0, \"positiveIncrease\": 51690.0, \"death\": 158345.0, \"deathIncrease\": 964.0, \"positiveRate\": 0.056, \"state\": \"Non Tri-State\", \"sma7d\": 670.0}, {\"date\": \"2020-10-09T00:00:00\", \"totalTestResultsIncrease\": 1008760.0, \"positiveIncrease\": 54055.0, \"death\": 159219.0, \"deathIncrease\": 874.0, \"positiveRate\": 0.054, \"state\": \"Non Tri-State\", \"sma7d\": 676.857}, {\"date\": \"2020-10-10T00:00:00\", \"totalTestResultsIncrease\": 1081565.0, \"positiveIncrease\": 55104.0, \"death\": 159870.0, \"deathIncrease\": 651.0, \"positiveRate\": 0.051, \"state\": \"Non Tri-State\", \"sma7d\": 666.857}, {\"date\": \"2020-10-11T00:00:00\", \"totalTestResultsIncrease\": 958666.0, \"positiveIncrease\": 44375.0, \"death\": 160327.0, \"deathIncrease\": 457.0, \"positiveRate\": 0.046, \"state\": \"Non Tri-State\", \"sma7d\": 682.571}, {\"date\": \"2020-10-12T00:00:00\", \"totalTestResultsIncrease\": 804906.0, \"positiveIncrease\": 39806.0, \"death\": 160598.0, \"deathIncrease\": 271.0, \"positiveRate\": 0.049, \"state\": \"Non Tri-State\", \"sma7d\": 674.571}, {\"date\": \"2020-10-13T00:00:00\", \"totalTestResultsIncrease\": 936396.0, \"positiveIncrease\": 45892.0, \"death\": 161279.0, \"deathIncrease\": 681.0, \"positiveRate\": 0.049, \"state\": \"Non Tri-State\", \"sma7d\": 684.714}, {\"date\": \"2020-10-14T00:00:00\", \"totalTestResultsIncrease\": 853303.0, \"positiveIncrease\": 53783.0, \"death\": 162075.0, \"deathIncrease\": 796.0, \"positiveRate\": 0.063, \"state\": \"Non Tri-State\", \"sma7d\": 670.571}, {\"date\": \"2020-10-15T00:00:00\", \"totalTestResultsIncrease\": 928634.0, \"positiveIncrease\": 60794.0, \"death\": 162990.0, \"deathIncrease\": 915.0, \"positiveRate\": 0.065, \"state\": \"Non Tri-State\", \"sma7d\": 663.571}, {\"date\": \"2020-10-16T00:00:00\", \"totalTestResultsIncrease\": 1028485.0, \"positiveIncrease\": 64929.0, \"death\": 163864.0, \"deathIncrease\": 874.0, \"positiveRate\": 0.063, \"state\": \"Non Tri-State\", \"sma7d\": 663.571}, {\"date\": \"2020-10-17T00:00:00\", \"totalTestResultsIncrease\": 1103790.0, \"positiveIncrease\": 54612.0, \"death\": 164615.0, \"deathIncrease\": 751.0, \"positiveRate\": 0.049, \"state\": \"Non Tri-State\", \"sma7d\": 677.857}, {\"date\": \"2020-10-18T00:00:00\", \"totalTestResultsIncrease\": 921047.0, \"positiveIncrease\": 45619.0, \"death\": 164998.0, \"deathIncrease\": 383.0, \"positiveRate\": 0.05, \"state\": \"Non Tri-State\", \"sma7d\": 667.286}, {\"date\": \"2020-10-19T00:00:00\", \"totalTestResultsIncrease\": 894173.0, \"positiveIncrease\": 53729.0, \"death\": 165429.0, \"deathIncrease\": 431.0, \"positiveRate\": 0.06, \"state\": \"Non Tri-State\", \"sma7d\": 690.143}, {\"date\": \"2020-10-20T00:00:00\", \"totalTestResultsIncrease\": 825180.0, \"positiveIncrease\": 57924.0, \"death\": 166236.0, \"deathIncrease\": 807.0, \"positiveRate\": 0.07, \"state\": \"Non Tri-State\", \"sma7d\": 708.143}, {\"date\": \"2020-10-21T00:00:00\", \"totalTestResultsIncrease\": 771409.0, \"positiveIncrease\": 57481.0, \"death\": 167225.0, \"deathIncrease\": 989.0, \"positiveRate\": 0.075, \"state\": \"Non Tri-State\", \"sma7d\": 735.714}, {\"date\": \"2020-10-22T00:00:00\", \"totalTestResultsIncrease\": 1034568.0, \"positiveIncrease\": 69550.0, \"death\": 168326.0, \"deathIncrease\": 1101.0, \"positiveRate\": 0.067, \"state\": \"Non Tri-State\", \"sma7d\": 762.286}, {\"date\": \"2020-10-23T00:00:00\", \"totalTestResultsIncrease\": 1176174.0, \"positiveIncrease\": 78971.0, \"death\": 169220.0, \"deathIncrease\": 894.0, \"positiveRate\": 0.067, \"state\": \"Non Tri-State\", \"sma7d\": 765.143}, {\"date\": \"2020-10-24T00:00:00\", \"totalTestResultsIncrease\": 1163798.0, \"positiveIncrease\": 79316.0, \"death\": 170081.0, \"deathIncrease\": 861.0, \"positiveRate\": 0.068, \"state\": \"Non Tri-State\", \"sma7d\": 780.857}, {\"date\": \"2020-10-25T00:00:00\", \"totalTestResultsIncrease\": 1021035.0, \"positiveIncrease\": 62132.0, \"death\": 170439.0, \"deathIncrease\": 358.0, \"positiveRate\": 0.061, \"state\": \"Non Tri-State\", \"sma7d\": 777.286}, {\"date\": \"2020-10-26T00:00:00\", \"totalTestResultsIncrease\": 961784.0, \"positiveIncrease\": 58072.0, \"death\": 170810.0, \"deathIncrease\": 371.0, \"positiveRate\": 0.06, \"state\": \"Non Tri-State\", \"sma7d\": 768.714}, {\"date\": \"2020-10-27T00:00:00\", \"totalTestResultsIncrease\": 911787.0, \"positiveIncrease\": 67906.0, \"death\": 171694.0, \"deathIncrease\": 884.0, \"positiveRate\": 0.074, \"state\": \"Non Tri-State\", \"sma7d\": 779.714}, {\"date\": \"2020-10-28T00:00:00\", \"totalTestResultsIncrease\": 909282.0, \"positiveIncrease\": 74561.0, \"death\": 172696.0, \"deathIncrease\": 1002.0, \"positiveRate\": 0.082, \"state\": \"Non Tri-State\", \"sma7d\": 781.571}, {\"date\": \"2020-10-29T00:00:00\", \"totalTestResultsIncrease\": 1092476.0, \"positiveIncrease\": 83360.0, \"death\": 173694.0, \"deathIncrease\": 998.0, \"positiveRate\": 0.076, \"state\": \"Non Tri-State\", \"sma7d\": 766.857}, {\"date\": \"2020-10-30T00:00:00\", \"totalTestResultsIncrease\": 1180907.0, \"positiveIncrease\": 92241.0, \"death\": 174620.0, \"deathIncrease\": 926.0, \"positiveRate\": 0.078, \"state\": \"Non Tri-State\", \"sma7d\": 771.429}, {\"date\": \"2020-10-31T00:00:00\", \"totalTestResultsIncrease\": 1171348.0, \"positiveIncrease\": 87175.0, \"death\": 175557.0, \"deathIncrease\": 937.0, \"positiveRate\": 0.074, \"state\": \"Non Tri-State\", \"sma7d\": 782.286}, {\"date\": \"2020-11-01T00:00:00\", \"totalTestResultsIncrease\": 976786.0, \"positiveIncrease\": 69851.0, \"death\": 175924.0, \"deathIncrease\": 367.0, \"positiveRate\": 0.072, \"state\": \"Non Tri-State\", \"sma7d\": 783.571}, {\"date\": \"2020-11-02T00:00:00\", \"totalTestResultsIncrease\": 1083299.0, \"positiveIncrease\": 76395.0, \"death\": 176395.0, \"deathIncrease\": 471.0, \"positiveRate\": 0.071, \"state\": \"Non Tri-State\", \"sma7d\": 797.857}, {\"date\": \"2020-11-03T00:00:00\", \"totalTestResultsIncrease\": 950936.0, \"positiveIncrease\": 82513.0, \"death\": 177877.0, \"deathIncrease\": 1482.0, \"positiveRate\": 0.087, \"state\": \"Non Tri-State\", \"sma7d\": 883.286}, {\"date\": \"2020-11-04T00:00:00\", \"totalTestResultsIncrease\": 1048142.0, \"positiveIncrease\": 97231.0, \"death\": 178954.0, \"deathIncrease\": 1077.0, \"positiveRate\": 0.093, \"state\": \"Non Tri-State\", \"sma7d\": 894.0}, {\"date\": \"2020-11-05T00:00:00\", \"totalTestResultsIncrease\": 1296500.0, \"positiveIncrease\": 109795.0, \"death\": 180038.0, \"deathIncrease\": 1084.0, \"positiveRate\": 0.085, \"state\": \"Non Tri-State\", \"sma7d\": 906.286}, {\"date\": \"2020-11-06T00:00:00\", \"totalTestResultsIncrease\": 1325561.0, \"positiveIncrease\": 119318.0, \"death\": 181160.0, \"deathIncrease\": 1122.0, \"positiveRate\": 0.09, \"state\": \"Non Tri-State\", \"sma7d\": 934.286}, {\"date\": \"2020-11-07T00:00:00\", \"totalTestResultsIncrease\": 1148691.0, \"positiveIncrease\": 122426.0, \"death\": 182237.0, \"deathIncrease\": 1077.0, \"positiveRate\": 0.107, \"state\": \"Non Tri-State\", \"sma7d\": 954.286}, {\"date\": \"2020-11-08T00:00:00\", \"totalTestResultsIncrease\": 1104304.0, \"positiveIncrease\": 104840.0, \"death\": 182699.0, \"deathIncrease\": 462.0, \"positiveRate\": 0.095, \"state\": \"Non Tri-State\", \"sma7d\": 967.857}, {\"date\": \"2020-11-09T00:00:00\", \"totalTestResultsIncrease\": 1239573.0, \"positiveIncrease\": 110892.0, \"death\": 183224.0, \"deathIncrease\": 525.0, \"positiveRate\": 0.089, \"state\": \"Non Tri-State\", \"sma7d\": 975.571}, {\"date\": \"2020-11-10T00:00:00\", \"totalTestResultsIncrease\": 1091566.0, \"positiveIncrease\": 121916.0, \"death\": 184522.0, \"deathIncrease\": 1298.0, \"positiveRate\": 0.112, \"state\": \"Non Tri-State\", \"sma7d\": 949.286}, {\"date\": \"2020-11-11T00:00:00\", \"totalTestResultsIncrease\": 1167887.0, \"positiveIncrease\": 135162.0, \"death\": 186020.0, \"deathIncrease\": 1498.0, \"positiveRate\": 0.116, \"state\": \"Non Tri-State\", \"sma7d\": 1009.429}, {\"date\": \"2020-11-12T00:00:00\", \"totalTestResultsIncrease\": 1245624.0, \"positiveIncrease\": 142557.0, \"death\": 187103.0, \"deathIncrease\": 1083.0, \"positiveRate\": 0.114, \"state\": \"Non Tri-State\", \"sma7d\": 1009.286}, {\"date\": \"2020-11-13T00:00:00\", \"totalTestResultsIncrease\": 1404039.0, \"positiveIncrease\": 160562.0, \"death\": 188316.0, \"deathIncrease\": 1213.0, \"positiveRate\": 0.114, \"state\": \"Non Tri-State\", \"sma7d\": 1022.286}, {\"date\": \"2020-11-14T00:00:00\", \"totalTestResultsIncrease\": 1435631.0, \"positiveIncrease\": 153799.0, \"death\": 189578.0, \"deathIncrease\": 1262.0, \"positiveRate\": 0.107, \"state\": \"Non Tri-State\", \"sma7d\": 1048.714}, {\"date\": \"2020-11-15T00:00:00\", \"totalTestResultsIncrease\": 1353439.0, \"positiveIncrease\": 136247.0, \"death\": 190207.0, \"deathIncrease\": 629.0, \"positiveRate\": 0.101, \"state\": \"Non Tri-State\", \"sma7d\": 1072.571}, {\"date\": \"2020-11-16T00:00:00\", \"totalTestResultsIncrease\": 1264911.0, \"positiveIncrease\": 138520.0, \"death\": 190782.0, \"deathIncrease\": 575.0, \"positiveRate\": 0.11, \"state\": \"Non Tri-State\", \"sma7d\": 1079.714}, {\"date\": \"2020-11-17T00:00:00\", \"totalTestResultsIncrease\": 1276974.0, \"positiveIncrease\": 145906.0, \"death\": 192257.0, \"deathIncrease\": 1475.0, \"positiveRate\": 0.114, \"state\": \"Non Tri-State\", \"sma7d\": 1105.0}, {\"date\": \"2020-11-18T00:00:00\", \"totalTestResultsIncrease\": 1254456.0, \"positiveIncrease\": 152596.0, \"death\": 194040.0, \"deathIncrease\": 1783.0, \"positiveRate\": 0.122, \"state\": \"Non Tri-State\", \"sma7d\": 1145.714}, {\"date\": \"2020-11-19T00:00:00\", \"totalTestResultsIncrease\": 1581508.0, \"positiveIncrease\": 170987.0, \"death\": 195924.0, \"deathIncrease\": 1884.0, \"positiveRate\": 0.108, \"state\": \"Non Tri-State\", \"sma7d\": 1260.143}, {\"date\": \"2020-11-20T00:00:00\", \"totalTestResultsIncrease\": 1632860.0, \"positiveIncrease\": 181623.0, \"death\": 197705.0, \"deathIncrease\": 1781.0, \"positiveRate\": 0.111, \"state\": \"Non Tri-State\", \"sma7d\": 1341.286}, {\"date\": \"2020-11-21T00:00:00\", \"totalTestResultsIncrease\": 1746173.0, \"positiveIncrease\": 169073.0, \"death\": 199149.0, \"deathIncrease\": 1444.0, \"positiveRate\": 0.097, \"state\": \"Non Tri-State\", \"sma7d\": 1367.286}, {\"date\": \"2020-11-22T00:00:00\", \"totalTestResultsIncrease\": 1494085.0, \"positiveIncrease\": 141476.0, \"death\": 199995.0, \"deathIncrease\": 846.0, \"positiveRate\": 0.095, \"state\": \"Non Tri-State\", \"sma7d\": 1398.286}, {\"date\": \"2020-11-23T00:00:00\", \"totalTestResultsIncrease\": 1402272.0, \"positiveIncrease\": 136217.0, \"death\": 200864.0, \"deathIncrease\": 869.0, \"positiveRate\": 0.097, \"state\": \"Non Tri-State\", \"sma7d\": 1440.286}]}}, {\"mode\": \"vega-lite\"});\n",
       "</script>"
      ],
      "text/plain": [
       "alt.LayerChart(...)"
      ]
     },
     "execution_count": 17,
     "metadata": {},
     "output_type": "execute_result"
    }
   ],
   "source": [
    "create_plot(non_tristate, 'deathIncrease')"
   ]
  }
 ],
 "metadata": {
  "kernelspec": {
   "display_name": "Python 3",
   "language": "python",
   "name": "python3"
  },
  "language_info": {
   "codemirror_mode": {
    "name": "ipython",
    "version": 3
   },
   "file_extension": ".py",
   "mimetype": "text/x-python",
   "name": "python",
   "nbconvert_exporter": "python",
   "pygments_lexer": "ipython3",
   "version": "3.8.6"
  },
  "papermill": {
   "duration": 6.96653,
   "end_time": "2020-11-24T09:13:34.102688",
   "environment_variables": {},
   "exception": null,
   "input_path": "2020-07-19-covid-plots.ipynb",
   "output_path": "2020-07-19-covid-plots.ipynb",
   "parameters": {},
   "start_time": "2020-11-24T09:13:27.136158",
   "version": "2.1.2"
  }
 },
 "nbformat": 4,
 "nbformat_minor": 4
}