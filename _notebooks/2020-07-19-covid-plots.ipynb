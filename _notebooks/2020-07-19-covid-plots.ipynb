{
 "cells": [
  {
   "cell_type": "markdown",
   "id": "athletic-redhead",
   "metadata": {
    "papermill": {
     "duration": 0.016559,
     "end_time": "2021-01-28T09:32:58.907717",
     "exception": false,
     "start_time": "2021-01-28T09:32:58.891158",
     "status": "completed"
    },
    "tags": []
   },
   "source": [
    "# \"COVID-19 plots\"\n",
    "> \"Interactive plots with daily updates\"\n",
    "\n",
    "- author: bbernst\n",
    "- toc: true\n",
    "- branch: master\n",
    "- badges: true\n",
    "- comments: true\n",
    "- categories: [healthcare, covid]\n",
    "- image: images/covid_plots/covid_mask.png\n",
    "- hide: false\n",
    "- search_exclude: true"
   ]
  },
  {
   "cell_type": "markdown",
   "id": "broken-bernard",
   "metadata": {
    "papermill": {
     "duration": 0.015604,
     "end_time": "2021-01-28T09:32:58.938809",
     "exception": false,
     "start_time": "2021-01-28T09:32:58.923205",
     "status": "completed"
    },
    "tags": []
   },
   "source": [
    "I wanted to make a simple COVID-19 post to accomplish two main goals:\n",
    "1. Easily see the specific plots I'm interested in\n",
    "1. Update these plots every day, automatically\n",
    "\n",
    "Enter [fastpages](https://github.com/fastai/fastpages) and [github actions](https://github.com/features/actions). I'd been meaning to set up a blog with fastpages for a while and thought this would be a good reason to try it out. The documentation was great and I was able to set up automatic updates by using https://covid19dashboards.com/ as a guide.\n",
    "\n",
    "The data for this post comes from https://covidtracking.com/, which updates by 5pm each day, and I have my dashboard update at 6:30pm. For each geography -- so far that's the US, New York, and Non Tri-State -- I look at daily positive cases, positive rate, and deaths. Be sure to hover around on each of the plots, they have helpful interactive tooltips to make reading the data more intuitive."
   ]
  },
  {
   "cell_type": "code",
   "execution_count": 1,
   "id": "numerous-cedar",
   "metadata": {
    "execution": {
     "iopub.execute_input": "2021-01-28T09:32:58.977473Z",
     "iopub.status.busy": "2021-01-28T09:32:58.976883Z",
     "iopub.status.idle": "2021-01-28T09:32:59.458045Z",
     "shell.execute_reply": "2021-01-28T09:32:59.457444Z"
    },
    "papermill": {
     "duration": 0.50373,
     "end_time": "2021-01-28T09:32:59.458239",
     "exception": false,
     "start_time": "2021-01-28T09:32:58.954509",
     "status": "completed"
    },
    "tags": []
   },
   "outputs": [],
   "source": [
    "#collapse\n",
    "from typing import Callable, Literal\n",
    "import pandas as pd\n",
    "import altair as alt"
   ]
  },
  {
   "cell_type": "code",
   "execution_count": 2,
   "id": "descending-refrigerator",
   "metadata": {
    "execution": {
     "iopub.execute_input": "2021-01-28T09:32:59.492829Z",
     "iopub.status.busy": "2021-01-28T09:32:59.492226Z",
     "iopub.status.idle": "2021-01-28T09:32:59.512677Z",
     "shell.execute_reply": "2021-01-28T09:32:59.512195Z"
    },
    "papermill": {
     "duration": 0.039109,
     "end_time": "2021-01-28T09:32:59.512805",
     "exception": false,
     "start_time": "2021-01-28T09:32:59.473696",
     "status": "completed"
    },
    "tags": []
   },
   "outputs": [
    {
     "name": "stdout",
     "output_type": "stream",
     "text": [
      "Last updated at (ET): 2021-01-28 04:32:59 AM\n"
     ]
    }
   ],
   "source": [
    "#hide_input\n",
    "current_utc = pd.Timestamp.now(tz='America/New_York').strftime('%Y-%m-%d %I:%M:%S %p')\n",
    "print(f\"Last updated at (ET): {current_utc}\")"
   ]
  },
  {
   "cell_type": "markdown",
   "id": "expanded-direction",
   "metadata": {
    "papermill": {
     "duration": 0.015428,
     "end_time": "2021-01-28T09:32:59.543890",
     "exception": false,
     "start_time": "2021-01-28T09:32:59.528462",
     "status": "completed"
    },
    "tags": []
   },
   "source": [
    "# Data"
   ]
  },
  {
   "cell_type": "code",
   "execution_count": 3,
   "id": "swiss-wrestling",
   "metadata": {
    "execution": {
     "iopub.execute_input": "2021-01-28T09:32:59.580581Z",
     "iopub.status.busy": "2021-01-28T09:32:59.579997Z",
     "iopub.status.idle": "2021-01-28T09:33:00.885428Z",
     "shell.execute_reply": "2021-01-28T09:33:00.885896Z"
    },
    "papermill": {
     "duration": 1.32598,
     "end_time": "2021-01-28T09:33:00.886072",
     "exception": false,
     "start_time": "2021-01-28T09:32:59.560092",
     "status": "completed"
    },
    "tags": []
   },
   "outputs": [],
   "source": [
    "df = pd.read_csv('https://covidtracking.com/api/states/daily.csv')"
   ]
  },
  {
   "cell_type": "markdown",
   "id": "other-pantyhose",
   "metadata": {
    "papermill": {
     "duration": 0.01566,
     "end_time": "2021-01-28T09:33:00.919844",
     "exception": false,
     "start_time": "2021-01-28T09:33:00.904184",
     "status": "completed"
    },
    "tags": []
   },
   "source": [
    "# Helpers"
   ]
  },
  {
   "cell_type": "code",
   "execution_count": 4,
   "id": "republican-closing",
   "metadata": {
    "execution": {
     "iopub.execute_input": "2021-01-28T09:33:00.962488Z",
     "iopub.status.busy": "2021-01-28T09:33:00.961889Z",
     "iopub.status.idle": "2021-01-28T09:33:00.964340Z",
     "shell.execute_reply": "2021-01-28T09:33:00.963713Z"
    },
    "papermill": {
     "duration": 0.029134,
     "end_time": "2021-01-28T09:33:00.964466",
     "exception": false,
     "start_time": "2021-01-28T09:33:00.935332",
     "status": "completed"
    },
    "tags": []
   },
   "outputs": [],
   "source": [
    "#collapse\n",
    "def create_df(df: pd.DataFrame, \n",
    "              filter_f: Callable, \n",
    "              state_name: str):\n",
    "    out_df = (\n",
    "     df\n",
    "     .assign(date = lambda d: pd.to_datetime(d['date'], format='%Y%m%d'))\n",
    "     .loc[filter_f, :]\n",
    "     .groupby('date')\n",
    "     .apply(lambda d: pd.Series(dict(\n",
    "         totalTestResultsIncrease = d['totalTestResultsIncrease'].sum(),\n",
    "         positiveIncrease = d['positiveIncrease'].sum(),\n",
    "         death = d['death'].sum(),\n",
    "         deathIncrease = d['deathIncrease'].sum()\n",
    "     )))\n",
    "     .reset_index()\n",
    "     .assign(positiveRate = lambda d: round(d['positiveIncrease'] / d['totalTestResultsIncrease'], 3))\n",
    "     .sort_values('date', ascending=True)\n",
    "     .assign(state = state_name)\n",
    "     .reset_index(drop=True)\n",
    "    )\n",
    "    \n",
    "    return out_df"
   ]
  },
  {
   "cell_type": "code",
   "execution_count": 5,
   "id": "orange-personality",
   "metadata": {
    "execution": {
     "iopub.execute_input": "2021-01-28T09:33:01.004587Z",
     "iopub.status.busy": "2021-01-28T09:33:01.003986Z",
     "iopub.status.idle": "2021-01-28T09:33:01.005830Z",
     "shell.execute_reply": "2021-01-28T09:33:01.006313Z"
    },
    "papermill": {
     "duration": 0.026484,
     "end_time": "2021-01-28T09:33:01.006453",
     "exception": false,
     "start_time": "2021-01-28T09:33:00.979969",
     "status": "completed"
    },
    "tags": []
   },
   "outputs": [],
   "source": [
    "#collapse\n",
    "def create_plot(df: pd.DataFrame, \n",
    "                column: Literal['totalTestResultsIncrease', \n",
    "                                'positiveIncrease', \n",
    "                                'death',\n",
    "                                'deathIncrease', \n",
    "                                'positiveRate'],\n",
    "                period: int = 7*8):\n",
    "    df = (\n",
    "     df\n",
    "     .assign(sma7d = lambda d: d[column].rolling(window=7).mean().round(3))\n",
    "     .loc[lambda d: d['date'] >= pd.to_datetime('today') - period * pd.Timedelta('1 days'), :]\n",
    "     .reset_index(drop=True)\n",
    "    )\n",
    "    the_state = df['state'][0]\n",
    "    label = alt.selection_single(\n",
    "        encodings=['x'], on='mouseover', nearest=True, empty='none')\n",
    "    \n",
    "    base = alt.Chart().mark_point(size=75).encode(\n",
    "        x='date:T',\n",
    "        y=f'{column}:Q',\n",
    "        tooltip=['date', f'{column}:Q', 'sma7d:Q']\n",
    "    )\n",
    "\n",
    "    sma = alt.Chart().mark_line(color='purple').encode(\n",
    "        x='date:T',\n",
    "        y='sma7d:Q'\n",
    "    )\n",
    "\n",
    "    layers = alt.layer(\n",
    "        base + sma,\n",
    "\n",
    "        # add a rule mark to serve as a guide line\n",
    "        alt.Chart().mark_rule(color='#aaa').encode(\n",
    "            x='date:T'\n",
    "        ).transform_filter(label),\n",
    "\n",
    "        # add circle marks for selected time points, hide unselected points\n",
    "        base.mark_circle().encode(\n",
    "            opacity=alt.condition(label, alt.value(1), alt.value(0))\n",
    "        ).add_selection(label),\n",
    "\n",
    "        # add white stroked text to provide a legible background for labels\n",
    "        base.mark_text(align='left', dx=5, dy=-5, stroke='white', strokeWidth=2).encode(\n",
    "            text=f'{column}:Q'\n",
    "        ).transform_filter(label),\n",
    "\n",
    "        # add text labels\n",
    "        base.mark_text(align='left', dx=5, dy=-5).encode(\n",
    "            text=f'{column}:Q'\n",
    "        ).transform_filter(label),\n",
    "        \n",
    "        data=df\n",
    "    ).properties(\n",
    "        title=f'{the_state}: {column}',\n",
    "        width=500,\n",
    "        height=400\n",
    "    )\n",
    "    \n",
    "    return layers.interactive()"
   ]
  },
  {
   "cell_type": "markdown",
   "id": "exterior-duplicate",
   "metadata": {
    "papermill": {
     "duration": 0.016535,
     "end_time": "2021-01-28T09:33:01.038468",
     "exception": false,
     "start_time": "2021-01-28T09:33:01.021933",
     "status": "completed"
    },
    "tags": []
   },
   "source": [
    "# Plots"
   ]
  },
  {
   "cell_type": "markdown",
   "id": "technical-stewart",
   "metadata": {
    "papermill": {
     "duration": 0.019695,
     "end_time": "2021-01-28T09:33:01.073903",
     "exception": false,
     "start_time": "2021-01-28T09:33:01.054208",
     "status": "completed"
    },
    "tags": []
   },
   "source": [
    "## US"
   ]
  },
  {
   "cell_type": "code",
   "execution_count": 6,
   "id": "environmental-literacy",
   "metadata": {
    "execution": {
     "iopub.execute_input": "2021-01-28T09:33:01.108655Z",
     "iopub.status.busy": "2021-01-28T09:33:01.108075Z",
     "iopub.status.idle": "2021-01-28T09:33:01.605763Z",
     "shell.execute_reply": "2021-01-28T09:33:01.605236Z"
    },
    "papermill": {
     "duration": 0.516683,
     "end_time": "2021-01-28T09:33:01.605908",
     "exception": false,
     "start_time": "2021-01-28T09:33:01.089225",
     "status": "completed"
    },
    "tags": []
   },
   "outputs": [],
   "source": [
    "us = create_df(df, lambda d: d.index > 0, 'US')"
   ]
  },
  {
   "cell_type": "code",
   "execution_count": 7,
   "id": "signed-mystery",
   "metadata": {
    "execution": {
     "iopub.execute_input": "2021-01-28T09:33:01.664304Z",
     "iopub.status.busy": "2021-01-28T09:33:01.654018Z",
     "iopub.status.idle": "2021-01-28T09:33:01.747652Z",
     "shell.execute_reply": "2021-01-28T09:33:01.748241Z"
    },
    "papermill": {
     "duration": 0.126776,
     "end_time": "2021-01-28T09:33:01.748390",
     "exception": false,
     "start_time": "2021-01-28T09:33:01.621614",
     "status": "completed"
    },
    "tags": []
   },
   "outputs": [
    {
     "data": {
      "text/html": [
       "\n",
       "<div id=\"altair-viz-49872db27dfc4556938ba0c5a9a9cfd6\"></div>\n",
       "<script type=\"text/javascript\">\n",
       "  (function(spec, embedOpt){\n",
       "    let outputDiv = document.currentScript.previousElementSibling;\n",
       "    if (outputDiv.id !== \"altair-viz-49872db27dfc4556938ba0c5a9a9cfd6\") {\n",
       "      outputDiv = document.getElementById(\"altair-viz-49872db27dfc4556938ba0c5a9a9cfd6\");\n",
       "    }\n",
       "    const paths = {\n",
       "      \"vega\": \"https://cdn.jsdelivr.net/npm//vega@5?noext\",\n",
       "      \"vega-lib\": \"https://cdn.jsdelivr.net/npm//vega-lib?noext\",\n",
       "      \"vega-lite\": \"https://cdn.jsdelivr.net/npm//vega-lite@4.8.1?noext\",\n",
       "      \"vega-embed\": \"https://cdn.jsdelivr.net/npm//vega-embed@6?noext\",\n",
       "    };\n",
       "\n",
       "    function loadScript(lib) {\n",
       "      return new Promise(function(resolve, reject) {\n",
       "        var s = document.createElement('script');\n",
       "        s.src = paths[lib];\n",
       "        s.async = true;\n",
       "        s.onload = () => resolve(paths[lib]);\n",
       "        s.onerror = () => reject(`Error loading script: ${paths[lib]}`);\n",
       "        document.getElementsByTagName(\"head\")[0].appendChild(s);\n",
       "      });\n",
       "    }\n",
       "\n",
       "    function showError(err) {\n",
       "      outputDiv.innerHTML = `<div class=\"error\" style=\"color:red;\">${err}</div>`;\n",
       "      throw err;\n",
       "    }\n",
       "\n",
       "    function displayChart(vegaEmbed) {\n",
       "      vegaEmbed(outputDiv, spec, embedOpt)\n",
       "        .catch(err => showError(`Javascript Error: ${err.message}<br>This usually means there's a typo in your chart specification. See the javascript console for the full traceback.`));\n",
       "    }\n",
       "\n",
       "    if(typeof define === \"function\" && define.amd) {\n",
       "      requirejs.config({paths});\n",
       "      require([\"vega-embed\"], displayChart, err => showError(`Error loading script: ${err.message}`));\n",
       "    } else if (typeof vegaEmbed === \"function\") {\n",
       "      displayChart(vegaEmbed);\n",
       "    } else {\n",
       "      loadScript(\"vega\")\n",
       "        .then(() => loadScript(\"vega-lite\"))\n",
       "        .then(() => loadScript(\"vega-embed\"))\n",
       "        .catch(showError)\n",
       "        .then(() => displayChart(vegaEmbed));\n",
       "    }\n",
       "  })({\"config\": {\"view\": {\"continuousWidth\": 400, \"continuousHeight\": 300}}, \"layer\": [{\"layer\": [{\"mark\": {\"type\": \"point\", \"size\": 75}, \"encoding\": {\"tooltip\": [{\"type\": \"temporal\", \"field\": \"date\"}, {\"type\": \"quantitative\", \"field\": \"positiveIncrease\"}, {\"type\": \"quantitative\", \"field\": \"sma7d\"}], \"x\": {\"type\": \"temporal\", \"field\": \"date\"}, \"y\": {\"type\": \"quantitative\", \"field\": \"positiveIncrease\"}}, \"selection\": {\"selector002\": {\"type\": \"interval\", \"bind\": \"scales\", \"encodings\": [\"x\", \"y\"]}}}, {\"mark\": {\"type\": \"line\", \"color\": \"purple\"}, \"encoding\": {\"x\": {\"type\": \"temporal\", \"field\": \"date\"}, \"y\": {\"type\": \"quantitative\", \"field\": \"sma7d\"}}}]}, {\"mark\": {\"type\": \"rule\", \"color\": \"#aaa\"}, \"encoding\": {\"x\": {\"type\": \"temporal\", \"field\": \"date\"}}, \"transform\": [{\"filter\": {\"selection\": \"selector001\"}}]}, {\"mark\": \"circle\", \"encoding\": {\"opacity\": {\"condition\": {\"value\": 1, \"selection\": \"selector001\"}, \"value\": 0}, \"tooltip\": [{\"type\": \"temporal\", \"field\": \"date\"}, {\"type\": \"quantitative\", \"field\": \"positiveIncrease\"}, {\"type\": \"quantitative\", \"field\": \"sma7d\"}], \"x\": {\"type\": \"temporal\", \"field\": \"date\"}, \"y\": {\"type\": \"quantitative\", \"field\": \"positiveIncrease\"}}, \"selection\": {\"selector001\": {\"type\": \"single\", \"encodings\": [\"x\"], \"on\": \"mouseover\", \"nearest\": true, \"empty\": \"none\"}}}, {\"mark\": {\"type\": \"text\", \"align\": \"left\", \"dx\": 5, \"dy\": -5, \"stroke\": \"white\", \"strokeWidth\": 2}, \"encoding\": {\"text\": {\"type\": \"quantitative\", \"field\": \"positiveIncrease\"}, \"tooltip\": [{\"type\": \"temporal\", \"field\": \"date\"}, {\"type\": \"quantitative\", \"field\": \"positiveIncrease\"}, {\"type\": \"quantitative\", \"field\": \"sma7d\"}], \"x\": {\"type\": \"temporal\", \"field\": \"date\"}, \"y\": {\"type\": \"quantitative\", \"field\": \"positiveIncrease\"}}, \"transform\": [{\"filter\": {\"selection\": \"selector001\"}}]}, {\"mark\": {\"type\": \"text\", \"align\": \"left\", \"dx\": 5, \"dy\": -5}, \"encoding\": {\"text\": {\"type\": \"quantitative\", \"field\": \"positiveIncrease\"}, \"tooltip\": [{\"type\": \"temporal\", \"field\": \"date\"}, {\"type\": \"quantitative\", \"field\": \"positiveIncrease\"}, {\"type\": \"quantitative\", \"field\": \"sma7d\"}], \"x\": {\"type\": \"temporal\", \"field\": \"date\"}, \"y\": {\"type\": \"quantitative\", \"field\": \"positiveIncrease\"}}, \"transform\": [{\"filter\": {\"selection\": \"selector001\"}}]}], \"data\": {\"name\": \"data-2b0c390fb7c1b2edc910a226dcd3a12d\"}, \"height\": 400, \"title\": \"US: positiveIncrease\", \"width\": 500, \"$schema\": \"https://vega.github.io/schema/vega-lite/v4.8.1.json\", \"datasets\": {\"data-2b0c390fb7c1b2edc910a226dcd3a12d\": [{\"date\": \"2020-12-04T00:00:00\", \"totalTestResultsIncrease\": 1861622.0, \"positiveIncrease\": 228884.0, \"death\": 270375.0, \"deathIncrease\": 2563.0, \"positiveRate\": 0.123, \"state\": \"US\", \"sma7d\": 180302.714}, {\"date\": \"2020-12-05T00:00:00\", \"totalTestResultsIncrease\": 2221953.0, \"positiveIncrease\": 217770.0, \"death\": 272861.0, \"deathIncrease\": 2486.0, \"positiveRate\": 0.098, \"state\": \"US\", \"sma7d\": 189832.143}, {\"date\": \"2020-12-06T00:00:00\", \"totalTestResultsIncrease\": 1620226.0, \"positiveIncrease\": 182351.0, \"death\": 274024.0, \"deathIncrease\": 1163.0, \"positiveRate\": 0.113, \"state\": \"US\", \"sma7d\": 196315.571}, {\"date\": \"2020-12-07T00:00:00\", \"totalTestResultsIncrease\": 1725636.0, \"positiveIncrease\": 181473.0, \"death\": 275315.0, \"deathIncrease\": 1291.0, \"positiveRate\": 0.105, \"state\": \"US\", \"sma7d\": 200880.857}, {\"date\": \"2020-12-08T00:00:00\", \"totalTestResultsIncrease\": 1652188.0, \"positiveIncrease\": 215953.0, \"death\": 277995.0, \"deathIncrease\": 2680.0, \"positiveRate\": 0.131, \"state\": \"US\", \"sma7d\": 206140.286}, {\"date\": \"2020-12-09T00:00:00\", \"totalTestResultsIncrease\": 1803813.0, \"positiveIncrease\": 214960.0, \"death\": 281164.0, \"deathIncrease\": 3169.0, \"positiveRate\": 0.119, \"state\": \"US\", \"sma7d\": 208028.0}, {\"date\": \"2020-12-10T00:00:00\", \"totalTestResultsIncrease\": 1887187.0, \"positiveIncrease\": 219285.0, \"death\": 284296.0, \"deathIncrease\": 3132.0, \"positiveRate\": 0.116, \"state\": \"US\", \"sma7d\": 208668.0}, {\"date\": \"2020-12-11T00:00:00\", \"totalTestResultsIncrease\": 1987199.0, \"positiveIncrease\": 235471.0, \"death\": 287043.0, \"deathIncrease\": 2747.0, \"positiveRate\": 0.118, \"state\": \"US\", \"sma7d\": 209609.0}, {\"date\": \"2020-12-12T00:00:00\", \"totalTestResultsIncrease\": 1834747.0, \"positiveIncrease\": 225287.0, \"death\": 289540.0, \"deathIncrease\": 2497.0, \"positiveRate\": 0.123, \"state\": \"US\", \"sma7d\": 210682.857}, {\"date\": \"2020-12-13T00:00:00\", \"totalTestResultsIncrease\": 1770163.0, \"positiveIncrease\": 186763.0, \"death\": 291041.0, \"deathIncrease\": 1501.0, \"positiveRate\": 0.106, \"state\": \"US\", \"sma7d\": 211313.143}, {\"date\": \"2020-12-14T00:00:00\", \"totalTestResultsIncrease\": 2095868.0, \"positiveIncrease\": 192862.0, \"death\": 292398.0, \"deathIncrease\": 1357.0, \"positiveRate\": 0.092, \"state\": \"US\", \"sma7d\": 212940.143}, {\"date\": \"2020-12-15T00:00:00\", \"totalTestResultsIncrease\": 1797070.0, \"positiveIncrease\": 190593.0, \"death\": 295322.0, \"deathIncrease\": 2924.0, \"positiveRate\": 0.106, \"state\": \"US\", \"sma7d\": 209317.286}, {\"date\": \"2020-12-16T00:00:00\", \"totalTestResultsIncrease\": 1802086.0, \"positiveIncrease\": 231850.0, \"death\": 298775.0, \"deathIncrease\": 3453.0, \"positiveRate\": 0.129, \"state\": \"US\", \"sma7d\": 211730.143}, {\"date\": \"2020-12-17T00:00:00\", \"totalTestResultsIncrease\": 1864588.0, \"positiveIncrease\": 241028.0, \"death\": 302240.0, \"deathIncrease\": 3465.0, \"positiveRate\": 0.129, \"state\": \"US\", \"sma7d\": 214836.286}, {\"date\": \"2020-12-18T00:00:00\", \"totalTestResultsIncrease\": 2197746.0, \"positiveIncrease\": 239737.0, \"death\": 305106.0, \"deathIncrease\": 2866.0, \"positiveRate\": 0.109, \"state\": \"US\", \"sma7d\": 215445.714}, {\"date\": \"2020-12-19T00:00:00\", \"totalTestResultsIncrease\": 1762484.0, \"positiveIncrease\": 203346.0, \"death\": 307814.0, \"deathIncrease\": 2708.0, \"positiveRate\": 0.115, \"state\": \"US\", \"sma7d\": 212311.286}, {\"date\": \"2020-12-20T00:00:00\", \"totalTestResultsIncrease\": 1792080.0, \"positiveIncrease\": 196963.0, \"death\": 309482.0, \"deathIncrease\": 1668.0, \"positiveRate\": 0.11, \"state\": \"US\", \"sma7d\": 213768.429}, {\"date\": \"2020-12-21T00:00:00\", \"totalTestResultsIncrease\": 2025427.0, \"positiveIncrease\": 178997.0, \"death\": 310962.0, \"deathIncrease\": 1480.0, \"positiveRate\": 0.088, \"state\": \"US\", \"sma7d\": 211787.714}, {\"date\": \"2020-12-22T00:00:00\", \"totalTestResultsIncrease\": 1727489.0, \"positiveIncrease\": 190132.0, \"death\": 314099.0, \"deathIncrease\": 3137.0, \"positiveRate\": 0.11, \"state\": \"US\", \"sma7d\": 211721.857}, {\"date\": \"2020-12-23T00:00:00\", \"totalTestResultsIncrease\": 1740033.0, \"positiveIncrease\": 221906.0, \"death\": 317492.0, \"deathIncrease\": 3393.0, \"positiveRate\": 0.128, \"state\": \"US\", \"sma7d\": 210301.286}, {\"date\": \"2020-12-24T00:00:00\", \"totalTestResultsIncrease\": 1936907.0, \"positiveIncrease\": 204297.0, \"death\": 320450.0, \"deathIncrease\": 2958.0, \"positiveRate\": 0.105, \"state\": \"US\", \"sma7d\": 205054.0}, {\"date\": \"2020-12-25T00:00:00\", \"totalTestResultsIncrease\": 1373275.0, \"positiveIncrease\": 125867.0, \"death\": 322003.0, \"deathIncrease\": 1553.0, \"positiveRate\": 0.092, \"state\": \"US\", \"sma7d\": 188786.857}, {\"date\": \"2020-12-26T00:00:00\", \"totalTestResultsIncrease\": 2122061.0, \"positiveIncrease\": 190115.0, \"death\": 323429.0, \"deathIncrease\": 1426.0, \"positiveRate\": 0.09, \"state\": \"US\", \"sma7d\": 186896.714}, {\"date\": \"2020-12-27T00:00:00\", \"totalTestResultsIncrease\": 1340340.0, \"positiveIncrease\": 152978.0, \"death\": 324826.0, \"deathIncrease\": 1397.0, \"positiveRate\": 0.114, \"state\": \"US\", \"sma7d\": 180613.143}, {\"date\": \"2020-12-28T00:00:00\", \"totalTestResultsIncrease\": 1476860.0, \"positiveIncrease\": 163338.0, \"death\": 326316.0, \"deathIncrease\": 1490.0, \"positiveRate\": 0.111, \"state\": \"US\", \"sma7d\": 178376.143}, {\"date\": \"2020-12-29T00:00:00\", \"totalTestResultsIncrease\": 1291843.0, \"positiveIncrease\": 196082.0, \"death\": 329605.0, \"deathIncrease\": 3289.0, \"positiveRate\": 0.152, \"state\": \"US\", \"sma7d\": 179226.143}, {\"date\": \"2020-12-30T00:00:00\", \"totalTestResultsIncrease\": 1534374.0, \"positiveIncrease\": 225908.0, \"death\": 333505.0, \"deathIncrease\": 3900.0, \"positiveRate\": 0.147, \"state\": \"US\", \"sma7d\": 179797.857}, {\"date\": \"2020-12-31T00:00:00\", \"totalTestResultsIncrease\": 1747745.0, \"positiveIncrease\": 223036.0, \"death\": 336802.0, \"deathIncrease\": 3297.0, \"positiveRate\": 0.128, \"state\": \"US\", \"sma7d\": 182474.857}, {\"date\": \"2021-01-01T00:00:00\", \"totalTestResultsIncrease\": 1360209.0, \"positiveIncrease\": 180488.0, \"death\": 339394.0, \"deathIncrease\": 2592.0, \"positiveRate\": 0.133, \"state\": \"US\", \"sma7d\": 190277.857}, {\"date\": \"2021-01-02T00:00:00\", \"totalTestResultsIncrease\": 2060220.0, \"positiveIncrease\": 279389.0, \"death\": 341800.0, \"deathIncrease\": 2406.0, \"positiveRate\": 0.136, \"state\": \"US\", \"sma7d\": 203031.286}, {\"date\": \"2021-01-03T00:00:00\", \"totalTestResultsIncrease\": 1401449.0, \"positiveIncrease\": 207756.0, \"death\": 343255.0, \"deathIncrease\": 1455.0, \"positiveRate\": 0.148, \"state\": \"US\", \"sma7d\": 210856.714}, {\"date\": \"2021-01-04T00:00:00\", \"totalTestResultsIncrease\": 1568546.0, \"positiveIncrease\": 178438.0, \"death\": 344802.0, \"deathIncrease\": 1547.0, \"positiveRate\": 0.114, \"state\": \"US\", \"sma7d\": 213013.857}, {\"date\": \"2021-01-05T00:00:00\", \"totalTestResultsIncrease\": 1678839.0, \"positiveIncrease\": 215086.0, \"death\": 348286.0, \"deathIncrease\": 3484.0, \"positiveRate\": 0.128, \"state\": \"US\", \"sma7d\": 215728.714}, {\"date\": \"2021-01-06T00:00:00\", \"totalTestResultsIncrease\": 1600829.0, \"positiveIncrease\": 248086.0, \"death\": 352188.0, \"deathIncrease\": 3902.0, \"positiveRate\": 0.155, \"state\": \"US\", \"sma7d\": 218897.0}, {\"date\": \"2021-01-07T00:00:00\", \"totalTestResultsIncrease\": 1915218.0, \"positiveIncrease\": 269325.0, \"death\": 356267.0, \"deathIncrease\": 4079.0, \"positiveRate\": 0.141, \"state\": \"US\", \"sma7d\": 225509.714}, {\"date\": \"2021-01-08T00:00:00\", \"totalTestResultsIncrease\": 2117440.0, \"positiveIncrease\": 292204.0, \"death\": 360047.0, \"deathIncrease\": 3780.0, \"positiveRate\": 0.138, \"state\": \"US\", \"sma7d\": 241469.143}, {\"date\": \"2021-01-09T00:00:00\", \"totalTestResultsIncrease\": 2064103.0, \"positiveIncrease\": 266399.0, \"death\": 363584.0, \"deathIncrease\": 3537.0, \"positiveRate\": 0.129, \"state\": \"US\", \"sma7d\": 239613.429}, {\"date\": \"2021-01-10T00:00:00\", \"totalTestResultsIncrease\": 1987882.0, \"positiveIncrease\": 227708.0, \"death\": 365652.0, \"deathIncrease\": 2068.0, \"positiveRate\": 0.115, \"state\": \"US\", \"sma7d\": 242463.714}, {\"date\": \"2021-01-11T00:00:00\", \"totalTestResultsIncrease\": 1843844.0, \"positiveIncrease\": 194140.0, \"death\": 367385.0, \"deathIncrease\": 1733.0, \"positiveRate\": 0.105, \"state\": \"US\", \"sma7d\": 244706.857}, {\"date\": \"2021-01-12T00:00:00\", \"totalTestResultsIncrease\": 1924459.0, \"positiveIncrease\": 214809.0, \"death\": 371449.0, \"deathIncrease\": 4064.0, \"positiveRate\": 0.112, \"state\": \"US\", \"sma7d\": 244667.286}, {\"date\": \"2021-01-13T00:00:00\", \"totalTestResultsIncrease\": 1804256.0, \"positiveIncrease\": 221557.0, \"death\": 375536.0, \"deathIncrease\": 4087.0, \"positiveRate\": 0.123, \"state\": \"US\", \"sma7d\": 240877.429}, {\"date\": \"2021-01-14T00:00:00\", \"totalTestResultsIncrease\": 2010144.0, \"positiveIncrease\": 222944.0, \"death\": 379451.0, \"deathIncrease\": 3915.0, \"positiveRate\": 0.111, \"state\": \"US\", \"sma7d\": 234251.571}, {\"date\": \"2021-01-15T00:00:00\", \"totalTestResultsIncrease\": 2279606.0, \"positiveIncrease\": 243996.0, \"death\": 383130.0, \"deathIncrease\": 3679.0, \"positiveRate\": 0.107, \"state\": \"US\", \"sma7d\": 227364.714}, {\"date\": \"2021-01-16T00:00:00\", \"totalTestResultsIncrease\": 2035668.0, \"positiveIncrease\": 216478.0, \"death\": 386839.0, \"deathIncrease\": 3709.0, \"positiveRate\": 0.106, \"state\": \"US\", \"sma7d\": 220233.143}, {\"date\": \"2021-01-17T00:00:00\", \"totalTestResultsIncrease\": 1853735.0, \"positiveIncrease\": 186270.0, \"death\": 388892.0, \"deathIncrease\": 2053.0, \"positiveRate\": 0.1, \"state\": \"US\", \"sma7d\": 214313.429}, {\"date\": \"2021-01-18T00:00:00\", \"totalTestResultsIncrease\": 2088685.0, \"positiveIncrease\": 150220.0, \"death\": 390287.0, \"deathIncrease\": 1395.0, \"positiveRate\": 0.072, \"state\": \"US\", \"sma7d\": 208039.143}, {\"date\": \"2021-01-19T00:00:00\", \"totalTestResultsIncrease\": 1698121.0, \"positiveIncrease\": 144047.0, \"death\": 392428.0, \"deathIncrease\": 2141.0, \"positiveRate\": 0.085, \"state\": \"US\", \"sma7d\": 197930.286}, {\"date\": \"2021-01-20T00:00:00\", \"totalTestResultsIncrease\": 1788698.0, \"positiveIncrease\": 186722.0, \"death\": 396837.0, \"deathIncrease\": 4409.0, \"positiveRate\": 0.104, \"state\": \"US\", \"sma7d\": 192953.857}, {\"date\": \"2021-01-21T00:00:00\", \"totalTestResultsIncrease\": 1899019.0, \"positiveIncrease\": 184033.0, \"death\": 400715.0, \"deathIncrease\": 3878.0, \"positiveRate\": 0.097, \"state\": \"US\", \"sma7d\": 187395.143}, {\"date\": \"2021-01-22T00:00:00\", \"totalTestResultsIncrease\": 1988756.0, \"positiveIncrease\": 188983.0, \"death\": 404695.0, \"deathIncrease\": 3980.0, \"positiveRate\": 0.095, \"state\": \"US\", \"sma7d\": 179536.143}, {\"date\": \"2021-01-23T00:00:00\", \"totalTestResultsIncrease\": 1925169.0, \"positiveIncrease\": 174705.0, \"death\": 408286.0, \"deathIncrease\": 3591.0, \"positiveRate\": 0.091, \"state\": \"US\", \"sma7d\": 173568.571}, {\"date\": \"2021-01-24T00:00:00\", \"totalTestResultsIncrease\": 1729017.0, \"positiveIncrease\": 143691.0, \"death\": 410230.0, \"deathIncrease\": 1944.0, \"positiveRate\": 0.083, \"state\": \"US\", \"sma7d\": 167485.857}, {\"date\": \"2021-01-25T00:00:00\", \"totalTestResultsIncrease\": 1696188.0, \"positiveIncrease\": 133067.0, \"death\": 411823.0, \"deathIncrease\": 1593.0, \"positiveRate\": 0.078, \"state\": \"US\", \"sma7d\": 165035.429}, {\"date\": \"2021-01-26T00:00:00\", \"totalTestResultsIncrease\": 1694608.0, \"positiveIncrease\": 143745.0, \"death\": 415557.0, \"deathIncrease\": 3734.0, \"positiveRate\": 0.085, \"state\": \"US\", \"sma7d\": 164992.286}, {\"date\": \"2021-01-27T00:00:00\", \"totalTestResultsIncrease\": 1620651.0, \"positiveIncrease\": 151502.0, \"death\": 419373.0, \"deathIncrease\": 4076.0, \"positiveRate\": 0.093, \"state\": \"US\", \"sma7d\": 159960.857}]}}, {\"mode\": \"vega-lite\"});\n",
       "</script>"
      ],
      "text/plain": [
       "alt.LayerChart(...)"
      ]
     },
     "execution_count": 7,
     "metadata": {},
     "output_type": "execute_result"
    }
   ],
   "source": [
    "create_plot(us, 'positiveIncrease')"
   ]
  },
  {
   "cell_type": "code",
   "execution_count": 8,
   "id": "central-devices",
   "metadata": {
    "execution": {
     "iopub.execute_input": "2021-01-28T09:33:01.786465Z",
     "iopub.status.busy": "2021-01-28T09:33:01.785860Z",
     "iopub.status.idle": "2021-01-28T09:33:01.879378Z",
     "shell.execute_reply": "2021-01-28T09:33:01.879886Z"
    },
    "papermill": {
     "duration": 0.115578,
     "end_time": "2021-01-28T09:33:01.880036",
     "exception": false,
     "start_time": "2021-01-28T09:33:01.764458",
     "status": "completed"
    },
    "tags": []
   },
   "outputs": [
    {
     "data": {
      "text/html": [
       "\n",
       "<div id=\"altair-viz-2c03bc11e8254273b9161432bd8bd8d7\"></div>\n",
       "<script type=\"text/javascript\">\n",
       "  (function(spec, embedOpt){\n",
       "    let outputDiv = document.currentScript.previousElementSibling;\n",
       "    if (outputDiv.id !== \"altair-viz-2c03bc11e8254273b9161432bd8bd8d7\") {\n",
       "      outputDiv = document.getElementById(\"altair-viz-2c03bc11e8254273b9161432bd8bd8d7\");\n",
       "    }\n",
       "    const paths = {\n",
       "      \"vega\": \"https://cdn.jsdelivr.net/npm//vega@5?noext\",\n",
       "      \"vega-lib\": \"https://cdn.jsdelivr.net/npm//vega-lib?noext\",\n",
       "      \"vega-lite\": \"https://cdn.jsdelivr.net/npm//vega-lite@4.8.1?noext\",\n",
       "      \"vega-embed\": \"https://cdn.jsdelivr.net/npm//vega-embed@6?noext\",\n",
       "    };\n",
       "\n",
       "    function loadScript(lib) {\n",
       "      return new Promise(function(resolve, reject) {\n",
       "        var s = document.createElement('script');\n",
       "        s.src = paths[lib];\n",
       "        s.async = true;\n",
       "        s.onload = () => resolve(paths[lib]);\n",
       "        s.onerror = () => reject(`Error loading script: ${paths[lib]}`);\n",
       "        document.getElementsByTagName(\"head\")[0].appendChild(s);\n",
       "      });\n",
       "    }\n",
       "\n",
       "    function showError(err) {\n",
       "      outputDiv.innerHTML = `<div class=\"error\" style=\"color:red;\">${err}</div>`;\n",
       "      throw err;\n",
       "    }\n",
       "\n",
       "    function displayChart(vegaEmbed) {\n",
       "      vegaEmbed(outputDiv, spec, embedOpt)\n",
       "        .catch(err => showError(`Javascript Error: ${err.message}<br>This usually means there's a typo in your chart specification. See the javascript console for the full traceback.`));\n",
       "    }\n",
       "\n",
       "    if(typeof define === \"function\" && define.amd) {\n",
       "      requirejs.config({paths});\n",
       "      require([\"vega-embed\"], displayChart, err => showError(`Error loading script: ${err.message}`));\n",
       "    } else if (typeof vegaEmbed === \"function\") {\n",
       "      displayChart(vegaEmbed);\n",
       "    } else {\n",
       "      loadScript(\"vega\")\n",
       "        .then(() => loadScript(\"vega-lite\"))\n",
       "        .then(() => loadScript(\"vega-embed\"))\n",
       "        .catch(showError)\n",
       "        .then(() => displayChart(vegaEmbed));\n",
       "    }\n",
       "  })({\"config\": {\"view\": {\"continuousWidth\": 400, \"continuousHeight\": 300}}, \"layer\": [{\"layer\": [{\"mark\": {\"type\": \"point\", \"size\": 75}, \"encoding\": {\"tooltip\": [{\"type\": \"temporal\", \"field\": \"date\"}, {\"type\": \"quantitative\", \"field\": \"positiveRate\"}, {\"type\": \"quantitative\", \"field\": \"sma7d\"}], \"x\": {\"type\": \"temporal\", \"field\": \"date\"}, \"y\": {\"type\": \"quantitative\", \"field\": \"positiveRate\"}}, \"selection\": {\"selector004\": {\"type\": \"interval\", \"bind\": \"scales\", \"encodings\": [\"x\", \"y\"]}}}, {\"mark\": {\"type\": \"line\", \"color\": \"purple\"}, \"encoding\": {\"x\": {\"type\": \"temporal\", \"field\": \"date\"}, \"y\": {\"type\": \"quantitative\", \"field\": \"sma7d\"}}}]}, {\"mark\": {\"type\": \"rule\", \"color\": \"#aaa\"}, \"encoding\": {\"x\": {\"type\": \"temporal\", \"field\": \"date\"}}, \"transform\": [{\"filter\": {\"selection\": \"selector003\"}}]}, {\"mark\": \"circle\", \"encoding\": {\"opacity\": {\"condition\": {\"value\": 1, \"selection\": \"selector003\"}, \"value\": 0}, \"tooltip\": [{\"type\": \"temporal\", \"field\": \"date\"}, {\"type\": \"quantitative\", \"field\": \"positiveRate\"}, {\"type\": \"quantitative\", \"field\": \"sma7d\"}], \"x\": {\"type\": \"temporal\", \"field\": \"date\"}, \"y\": {\"type\": \"quantitative\", \"field\": \"positiveRate\"}}, \"selection\": {\"selector003\": {\"type\": \"single\", \"encodings\": [\"x\"], \"on\": \"mouseover\", \"nearest\": true, \"empty\": \"none\"}}}, {\"mark\": {\"type\": \"text\", \"align\": \"left\", \"dx\": 5, \"dy\": -5, \"stroke\": \"white\", \"strokeWidth\": 2}, \"encoding\": {\"text\": {\"type\": \"quantitative\", \"field\": \"positiveRate\"}, \"tooltip\": [{\"type\": \"temporal\", \"field\": \"date\"}, {\"type\": \"quantitative\", \"field\": \"positiveRate\"}, {\"type\": \"quantitative\", \"field\": \"sma7d\"}], \"x\": {\"type\": \"temporal\", \"field\": \"date\"}, \"y\": {\"type\": \"quantitative\", \"field\": \"positiveRate\"}}, \"transform\": [{\"filter\": {\"selection\": \"selector003\"}}]}, {\"mark\": {\"type\": \"text\", \"align\": \"left\", \"dx\": 5, \"dy\": -5}, \"encoding\": {\"text\": {\"type\": \"quantitative\", \"field\": \"positiveRate\"}, \"tooltip\": [{\"type\": \"temporal\", \"field\": \"date\"}, {\"type\": \"quantitative\", \"field\": \"positiveRate\"}, {\"type\": \"quantitative\", \"field\": \"sma7d\"}], \"x\": {\"type\": \"temporal\", \"field\": \"date\"}, \"y\": {\"type\": \"quantitative\", \"field\": \"positiveRate\"}}, \"transform\": [{\"filter\": {\"selection\": \"selector003\"}}]}], \"data\": {\"name\": \"data-e4bdbf923c5b79705e8a65d7efca7777\"}, \"height\": 400, \"title\": \"US: positiveRate\", \"width\": 500, \"$schema\": \"https://vega.github.io/schema/vega-lite/v4.8.1.json\", \"datasets\": {\"data-e4bdbf923c5b79705e8a65d7efca7777\": [{\"date\": \"2020-12-04T00:00:00\", \"totalTestResultsIncrease\": 1861622.0, \"positiveIncrease\": 228884.0, \"death\": 270375.0, \"deathIncrease\": 2563.0, \"positiveRate\": 0.123, \"state\": \"US\", \"sma7d\": 0.111}, {\"date\": \"2020-12-05T00:00:00\", \"totalTestResultsIncrease\": 2221953.0, \"positiveIncrease\": 217770.0, \"death\": 272861.0, \"deathIncrease\": 2486.0, \"positiveRate\": 0.098, \"state\": \"US\", \"sma7d\": 0.112}, {\"date\": \"2020-12-06T00:00:00\", \"totalTestResultsIncrease\": 1620226.0, \"positiveIncrease\": 182351.0, \"death\": 274024.0, \"deathIncrease\": 1163.0, \"positiveRate\": 0.113, \"state\": \"US\", \"sma7d\": 0.113}, {\"date\": \"2020-12-07T00:00:00\", \"totalTestResultsIncrease\": 1725636.0, \"positiveIncrease\": 181473.0, \"death\": 275315.0, \"deathIncrease\": 1291.0, \"positiveRate\": 0.105, \"state\": \"US\", \"sma7d\": 0.115}, {\"date\": \"2020-12-08T00:00:00\", \"totalTestResultsIncrease\": 1652188.0, \"positiveIncrease\": 215953.0, \"death\": 277995.0, \"deathIncrease\": 2680.0, \"positiveRate\": 0.131, \"state\": \"US\", \"sma7d\": 0.116}, {\"date\": \"2020-12-09T00:00:00\", \"totalTestResultsIncrease\": 1803813.0, \"positiveIncrease\": 214960.0, \"death\": 281164.0, \"deathIncrease\": 3169.0, \"positiveRate\": 0.119, \"state\": \"US\", \"sma7d\": 0.115}, {\"date\": \"2020-12-10T00:00:00\", \"totalTestResultsIncrease\": 1887187.0, \"positiveIncrease\": 219285.0, \"death\": 284296.0, \"deathIncrease\": 3132.0, \"positiveRate\": 0.116, \"state\": \"US\", \"sma7d\": 0.115}, {\"date\": \"2020-12-11T00:00:00\", \"totalTestResultsIncrease\": 1987199.0, \"positiveIncrease\": 235471.0, \"death\": 287043.0, \"deathIncrease\": 2747.0, \"positiveRate\": 0.118, \"state\": \"US\", \"sma7d\": 0.114}, {\"date\": \"2020-12-12T00:00:00\", \"totalTestResultsIncrease\": 1834747.0, \"positiveIncrease\": 225287.0, \"death\": 289540.0, \"deathIncrease\": 2497.0, \"positiveRate\": 0.123, \"state\": \"US\", \"sma7d\": 0.118}, {\"date\": \"2020-12-13T00:00:00\", \"totalTestResultsIncrease\": 1770163.0, \"positiveIncrease\": 186763.0, \"death\": 291041.0, \"deathIncrease\": 1501.0, \"positiveRate\": 0.106, \"state\": \"US\", \"sma7d\": 0.117}, {\"date\": \"2020-12-14T00:00:00\", \"totalTestResultsIncrease\": 2095868.0, \"positiveIncrease\": 192862.0, \"death\": 292398.0, \"deathIncrease\": 1357.0, \"positiveRate\": 0.092, \"state\": \"US\", \"sma7d\": 0.115}, {\"date\": \"2020-12-15T00:00:00\", \"totalTestResultsIncrease\": 1797070.0, \"positiveIncrease\": 190593.0, \"death\": 295322.0, \"deathIncrease\": 2924.0, \"positiveRate\": 0.106, \"state\": \"US\", \"sma7d\": 0.111}, {\"date\": \"2020-12-16T00:00:00\", \"totalTestResultsIncrease\": 1802086.0, \"positiveIncrease\": 231850.0, \"death\": 298775.0, \"deathIncrease\": 3453.0, \"positiveRate\": 0.129, \"state\": \"US\", \"sma7d\": 0.113}, {\"date\": \"2020-12-17T00:00:00\", \"totalTestResultsIncrease\": 1864588.0, \"positiveIncrease\": 241028.0, \"death\": 302240.0, \"deathIncrease\": 3465.0, \"positiveRate\": 0.129, \"state\": \"US\", \"sma7d\": 0.115}, {\"date\": \"2020-12-18T00:00:00\", \"totalTestResultsIncrease\": 2197746.0, \"positiveIncrease\": 239737.0, \"death\": 305106.0, \"deathIncrease\": 2866.0, \"positiveRate\": 0.109, \"state\": \"US\", \"sma7d\": 0.113}, {\"date\": \"2020-12-19T00:00:00\", \"totalTestResultsIncrease\": 1762484.0, \"positiveIncrease\": 203346.0, \"death\": 307814.0, \"deathIncrease\": 2708.0, \"positiveRate\": 0.115, \"state\": \"US\", \"sma7d\": 0.112}, {\"date\": \"2020-12-20T00:00:00\", \"totalTestResultsIncrease\": 1792080.0, \"positiveIncrease\": 196963.0, \"death\": 309482.0, \"deathIncrease\": 1668.0, \"positiveRate\": 0.11, \"state\": \"US\", \"sma7d\": 0.113}, {\"date\": \"2020-12-21T00:00:00\", \"totalTestResultsIncrease\": 2025427.0, \"positiveIncrease\": 178997.0, \"death\": 310962.0, \"deathIncrease\": 1480.0, \"positiveRate\": 0.088, \"state\": \"US\", \"sma7d\": 0.112}, {\"date\": \"2020-12-22T00:00:00\", \"totalTestResultsIncrease\": 1727489.0, \"positiveIncrease\": 190132.0, \"death\": 314099.0, \"deathIncrease\": 3137.0, \"positiveRate\": 0.11, \"state\": \"US\", \"sma7d\": 0.113}, {\"date\": \"2020-12-23T00:00:00\", \"totalTestResultsIncrease\": 1740033.0, \"positiveIncrease\": 221906.0, \"death\": 317492.0, \"deathIncrease\": 3393.0, \"positiveRate\": 0.128, \"state\": \"US\", \"sma7d\": 0.113}, {\"date\": \"2020-12-24T00:00:00\", \"totalTestResultsIncrease\": 1936907.0, \"positiveIncrease\": 204297.0, \"death\": 320450.0, \"deathIncrease\": 2958.0, \"positiveRate\": 0.105, \"state\": \"US\", \"sma7d\": 0.109}, {\"date\": \"2020-12-25T00:00:00\", \"totalTestResultsIncrease\": 1373275.0, \"positiveIncrease\": 125867.0, \"death\": 322003.0, \"deathIncrease\": 1553.0, \"positiveRate\": 0.092, \"state\": \"US\", \"sma7d\": 0.107}, {\"date\": \"2020-12-26T00:00:00\", \"totalTestResultsIncrease\": 2122061.0, \"positiveIncrease\": 190115.0, \"death\": 323429.0, \"deathIncrease\": 1426.0, \"positiveRate\": 0.09, \"state\": \"US\", \"sma7d\": 0.103}, {\"date\": \"2020-12-27T00:00:00\", \"totalTestResultsIncrease\": 1340340.0, \"positiveIncrease\": 152978.0, \"death\": 324826.0, \"deathIncrease\": 1397.0, \"positiveRate\": 0.114, \"state\": \"US\", \"sma7d\": 0.104}, {\"date\": \"2020-12-28T00:00:00\", \"totalTestResultsIncrease\": 1476860.0, \"positiveIncrease\": 163338.0, \"death\": 326316.0, \"deathIncrease\": 1490.0, \"positiveRate\": 0.111, \"state\": \"US\", \"sma7d\": 0.107}, {\"date\": \"2020-12-29T00:00:00\", \"totalTestResultsIncrease\": 1291843.0, \"positiveIncrease\": 196082.0, \"death\": 329605.0, \"deathIncrease\": 3289.0, \"positiveRate\": 0.152, \"state\": \"US\", \"sma7d\": 0.113}, {\"date\": \"2020-12-30T00:00:00\", \"totalTestResultsIncrease\": 1534374.0, \"positiveIncrease\": 225908.0, \"death\": 333505.0, \"deathIncrease\": 3900.0, \"positiveRate\": 0.147, \"state\": \"US\", \"sma7d\": 0.116}, {\"date\": \"2020-12-31T00:00:00\", \"totalTestResultsIncrease\": 1747745.0, \"positiveIncrease\": 223036.0, \"death\": 336802.0, \"deathIncrease\": 3297.0, \"positiveRate\": 0.128, \"state\": \"US\", \"sma7d\": 0.119}, {\"date\": \"2021-01-01T00:00:00\", \"totalTestResultsIncrease\": 1360209.0, \"positiveIncrease\": 180488.0, \"death\": 339394.0, \"deathIncrease\": 2592.0, \"positiveRate\": 0.133, \"state\": \"US\", \"sma7d\": 0.125}, {\"date\": \"2021-01-02T00:00:00\", \"totalTestResultsIncrease\": 2060220.0, \"positiveIncrease\": 279389.0, \"death\": 341800.0, \"deathIncrease\": 2406.0, \"positiveRate\": 0.136, \"state\": \"US\", \"sma7d\": 0.132}, {\"date\": \"2021-01-03T00:00:00\", \"totalTestResultsIncrease\": 1401449.0, \"positiveIncrease\": 207756.0, \"death\": 343255.0, \"deathIncrease\": 1455.0, \"positiveRate\": 0.148, \"state\": \"US\", \"sma7d\": 0.136}, {\"date\": \"2021-01-04T00:00:00\", \"totalTestResultsIncrease\": 1568546.0, \"positiveIncrease\": 178438.0, \"death\": 344802.0, \"deathIncrease\": 1547.0, \"positiveRate\": 0.114, \"state\": \"US\", \"sma7d\": 0.137}, {\"date\": \"2021-01-05T00:00:00\", \"totalTestResultsIncrease\": 1678839.0, \"positiveIncrease\": 215086.0, \"death\": 348286.0, \"deathIncrease\": 3484.0, \"positiveRate\": 0.128, \"state\": \"US\", \"sma7d\": 0.133}, {\"date\": \"2021-01-06T00:00:00\", \"totalTestResultsIncrease\": 1600829.0, \"positiveIncrease\": 248086.0, \"death\": 352188.0, \"deathIncrease\": 3902.0, \"positiveRate\": 0.155, \"state\": \"US\", \"sma7d\": 0.135}, {\"date\": \"2021-01-07T00:00:00\", \"totalTestResultsIncrease\": 1915218.0, \"positiveIncrease\": 269325.0, \"death\": 356267.0, \"deathIncrease\": 4079.0, \"positiveRate\": 0.141, \"state\": \"US\", \"sma7d\": 0.136}, {\"date\": \"2021-01-08T00:00:00\", \"totalTestResultsIncrease\": 2117440.0, \"positiveIncrease\": 292204.0, \"death\": 360047.0, \"deathIncrease\": 3780.0, \"positiveRate\": 0.138, \"state\": \"US\", \"sma7d\": 0.137}, {\"date\": \"2021-01-09T00:00:00\", \"totalTestResultsIncrease\": 2064103.0, \"positiveIncrease\": 266399.0, \"death\": 363584.0, \"deathIncrease\": 3537.0, \"positiveRate\": 0.129, \"state\": \"US\", \"sma7d\": 0.136}, {\"date\": \"2021-01-10T00:00:00\", \"totalTestResultsIncrease\": 1987882.0, \"positiveIncrease\": 227708.0, \"death\": 365652.0, \"deathIncrease\": 2068.0, \"positiveRate\": 0.115, \"state\": \"US\", \"sma7d\": 0.131}, {\"date\": \"2021-01-11T00:00:00\", \"totalTestResultsIncrease\": 1843844.0, \"positiveIncrease\": 194140.0, \"death\": 367385.0, \"deathIncrease\": 1733.0, \"positiveRate\": 0.105, \"state\": \"US\", \"sma7d\": 0.13}, {\"date\": \"2021-01-12T00:00:00\", \"totalTestResultsIncrease\": 1924459.0, \"positiveIncrease\": 214809.0, \"death\": 371449.0, \"deathIncrease\": 4064.0, \"positiveRate\": 0.112, \"state\": \"US\", \"sma7d\": 0.128}, {\"date\": \"2021-01-13T00:00:00\", \"totalTestResultsIncrease\": 1804256.0, \"positiveIncrease\": 221557.0, \"death\": 375536.0, \"deathIncrease\": 4087.0, \"positiveRate\": 0.123, \"state\": \"US\", \"sma7d\": 0.123}, {\"date\": \"2021-01-14T00:00:00\", \"totalTestResultsIncrease\": 2010144.0, \"positiveIncrease\": 222944.0, \"death\": 379451.0, \"deathIncrease\": 3915.0, \"positiveRate\": 0.111, \"state\": \"US\", \"sma7d\": 0.119}, {\"date\": \"2021-01-15T00:00:00\", \"totalTestResultsIncrease\": 2279606.0, \"positiveIncrease\": 243996.0, \"death\": 383130.0, \"deathIncrease\": 3679.0, \"positiveRate\": 0.107, \"state\": \"US\", \"sma7d\": 0.115}, {\"date\": \"2021-01-16T00:00:00\", \"totalTestResultsIncrease\": 2035668.0, \"positiveIncrease\": 216478.0, \"death\": 386839.0, \"deathIncrease\": 3709.0, \"positiveRate\": 0.106, \"state\": \"US\", \"sma7d\": 0.111}, {\"date\": \"2021-01-17T00:00:00\", \"totalTestResultsIncrease\": 1853735.0, \"positiveIncrease\": 186270.0, \"death\": 388892.0, \"deathIncrease\": 2053.0, \"positiveRate\": 0.1, \"state\": \"US\", \"sma7d\": 0.109}, {\"date\": \"2021-01-18T00:00:00\", \"totalTestResultsIncrease\": 2088685.0, \"positiveIncrease\": 150220.0, \"death\": 390287.0, \"deathIncrease\": 1395.0, \"positiveRate\": 0.072, \"state\": \"US\", \"sma7d\": 0.104}, {\"date\": \"2021-01-19T00:00:00\", \"totalTestResultsIncrease\": 1698121.0, \"positiveIncrease\": 144047.0, \"death\": 392428.0, \"deathIncrease\": 2141.0, \"positiveRate\": 0.085, \"state\": \"US\", \"sma7d\": 0.101}, {\"date\": \"2021-01-20T00:00:00\", \"totalTestResultsIncrease\": 1788698.0, \"positiveIncrease\": 186722.0, \"death\": 396837.0, \"deathIncrease\": 4409.0, \"positiveRate\": 0.104, \"state\": \"US\", \"sma7d\": 0.098}, {\"date\": \"2021-01-21T00:00:00\", \"totalTestResultsIncrease\": 1899019.0, \"positiveIncrease\": 184033.0, \"death\": 400715.0, \"deathIncrease\": 3878.0, \"positiveRate\": 0.097, \"state\": \"US\", \"sma7d\": 0.096}, {\"date\": \"2021-01-22T00:00:00\", \"totalTestResultsIncrease\": 1988756.0, \"positiveIncrease\": 188983.0, \"death\": 404695.0, \"deathIncrease\": 3980.0, \"positiveRate\": 0.095, \"state\": \"US\", \"sma7d\": 0.094}, {\"date\": \"2021-01-23T00:00:00\", \"totalTestResultsIncrease\": 1925169.0, \"positiveIncrease\": 174705.0, \"death\": 408286.0, \"deathIncrease\": 3591.0, \"positiveRate\": 0.091, \"state\": \"US\", \"sma7d\": 0.092}, {\"date\": \"2021-01-24T00:00:00\", \"totalTestResultsIncrease\": 1729017.0, \"positiveIncrease\": 143691.0, \"death\": 410230.0, \"deathIncrease\": 1944.0, \"positiveRate\": 0.083, \"state\": \"US\", \"sma7d\": 0.09}, {\"date\": \"2021-01-25T00:00:00\", \"totalTestResultsIncrease\": 1696188.0, \"positiveIncrease\": 133067.0, \"death\": 411823.0, \"deathIncrease\": 1593.0, \"positiveRate\": 0.078, \"state\": \"US\", \"sma7d\": 0.09}, {\"date\": \"2021-01-26T00:00:00\", \"totalTestResultsIncrease\": 1694608.0, \"positiveIncrease\": 143745.0, \"death\": 415557.0, \"deathIncrease\": 3734.0, \"positiveRate\": 0.085, \"state\": \"US\", \"sma7d\": 0.09}, {\"date\": \"2021-01-27T00:00:00\", \"totalTestResultsIncrease\": 1620651.0, \"positiveIncrease\": 151502.0, \"death\": 419373.0, \"deathIncrease\": 4076.0, \"positiveRate\": 0.093, \"state\": \"US\", \"sma7d\": 0.089}]}}, {\"mode\": \"vega-lite\"});\n",
       "</script>"
      ],
      "text/plain": [
       "alt.LayerChart(...)"
      ]
     },
     "execution_count": 8,
     "metadata": {},
     "output_type": "execute_result"
    }
   ],
   "source": [
    "create_plot(us, 'positiveRate')"
   ]
  },
  {
   "cell_type": "code",
   "execution_count": 9,
   "id": "medium-lodge",
   "metadata": {
    "execution": {
     "iopub.execute_input": "2021-01-28T09:33:01.932540Z",
     "iopub.status.busy": "2021-01-28T09:33:01.921470Z",
     "iopub.status.idle": "2021-01-28T09:33:02.018968Z",
     "shell.execute_reply": "2021-01-28T09:33:02.019450Z"
    },
    "papermill": {
     "duration": 0.119772,
     "end_time": "2021-01-28T09:33:02.019615",
     "exception": false,
     "start_time": "2021-01-28T09:33:01.899843",
     "status": "completed"
    },
    "tags": []
   },
   "outputs": [
    {
     "data": {
      "text/html": [
       "\n",
       "<div id=\"altair-viz-0a7f290a1d3d4e2f93a14100022afe0b\"></div>\n",
       "<script type=\"text/javascript\">\n",
       "  (function(spec, embedOpt){\n",
       "    let outputDiv = document.currentScript.previousElementSibling;\n",
       "    if (outputDiv.id !== \"altair-viz-0a7f290a1d3d4e2f93a14100022afe0b\") {\n",
       "      outputDiv = document.getElementById(\"altair-viz-0a7f290a1d3d4e2f93a14100022afe0b\");\n",
       "    }\n",
       "    const paths = {\n",
       "      \"vega\": \"https://cdn.jsdelivr.net/npm//vega@5?noext\",\n",
       "      \"vega-lib\": \"https://cdn.jsdelivr.net/npm//vega-lib?noext\",\n",
       "      \"vega-lite\": \"https://cdn.jsdelivr.net/npm//vega-lite@4.8.1?noext\",\n",
       "      \"vega-embed\": \"https://cdn.jsdelivr.net/npm//vega-embed@6?noext\",\n",
       "    };\n",
       "\n",
       "    function loadScript(lib) {\n",
       "      return new Promise(function(resolve, reject) {\n",
       "        var s = document.createElement('script');\n",
       "        s.src = paths[lib];\n",
       "        s.async = true;\n",
       "        s.onload = () => resolve(paths[lib]);\n",
       "        s.onerror = () => reject(`Error loading script: ${paths[lib]}`);\n",
       "        document.getElementsByTagName(\"head\")[0].appendChild(s);\n",
       "      });\n",
       "    }\n",
       "\n",
       "    function showError(err) {\n",
       "      outputDiv.innerHTML = `<div class=\"error\" style=\"color:red;\">${err}</div>`;\n",
       "      throw err;\n",
       "    }\n",
       "\n",
       "    function displayChart(vegaEmbed) {\n",
       "      vegaEmbed(outputDiv, spec, embedOpt)\n",
       "        .catch(err => showError(`Javascript Error: ${err.message}<br>This usually means there's a typo in your chart specification. See the javascript console for the full traceback.`));\n",
       "    }\n",
       "\n",
       "    if(typeof define === \"function\" && define.amd) {\n",
       "      requirejs.config({paths});\n",
       "      require([\"vega-embed\"], displayChart, err => showError(`Error loading script: ${err.message}`));\n",
       "    } else if (typeof vegaEmbed === \"function\") {\n",
       "      displayChart(vegaEmbed);\n",
       "    } else {\n",
       "      loadScript(\"vega\")\n",
       "        .then(() => loadScript(\"vega-lite\"))\n",
       "        .then(() => loadScript(\"vega-embed\"))\n",
       "        .catch(showError)\n",
       "        .then(() => displayChart(vegaEmbed));\n",
       "    }\n",
       "  })({\"config\": {\"view\": {\"continuousWidth\": 400, \"continuousHeight\": 300}}, \"layer\": [{\"layer\": [{\"mark\": {\"type\": \"point\", \"size\": 75}, \"encoding\": {\"tooltip\": [{\"type\": \"temporal\", \"field\": \"date\"}, {\"type\": \"quantitative\", \"field\": \"deathIncrease\"}, {\"type\": \"quantitative\", \"field\": \"sma7d\"}], \"x\": {\"type\": \"temporal\", \"field\": \"date\"}, \"y\": {\"type\": \"quantitative\", \"field\": \"deathIncrease\"}}, \"selection\": {\"selector006\": {\"type\": \"interval\", \"bind\": \"scales\", \"encodings\": [\"x\", \"y\"]}}}, {\"mark\": {\"type\": \"line\", \"color\": \"purple\"}, \"encoding\": {\"x\": {\"type\": \"temporal\", \"field\": \"date\"}, \"y\": {\"type\": \"quantitative\", \"field\": \"sma7d\"}}}]}, {\"mark\": {\"type\": \"rule\", \"color\": \"#aaa\"}, \"encoding\": {\"x\": {\"type\": \"temporal\", \"field\": \"date\"}}, \"transform\": [{\"filter\": {\"selection\": \"selector005\"}}]}, {\"mark\": \"circle\", \"encoding\": {\"opacity\": {\"condition\": {\"value\": 1, \"selection\": \"selector005\"}, \"value\": 0}, \"tooltip\": [{\"type\": \"temporal\", \"field\": \"date\"}, {\"type\": \"quantitative\", \"field\": \"deathIncrease\"}, {\"type\": \"quantitative\", \"field\": \"sma7d\"}], \"x\": {\"type\": \"temporal\", \"field\": \"date\"}, \"y\": {\"type\": \"quantitative\", \"field\": \"deathIncrease\"}}, \"selection\": {\"selector005\": {\"type\": \"single\", \"encodings\": [\"x\"], \"on\": \"mouseover\", \"nearest\": true, \"empty\": \"none\"}}}, {\"mark\": {\"type\": \"text\", \"align\": \"left\", \"dx\": 5, \"dy\": -5, \"stroke\": \"white\", \"strokeWidth\": 2}, \"encoding\": {\"text\": {\"type\": \"quantitative\", \"field\": \"deathIncrease\"}, \"tooltip\": [{\"type\": \"temporal\", \"field\": \"date\"}, {\"type\": \"quantitative\", \"field\": \"deathIncrease\"}, {\"type\": \"quantitative\", \"field\": \"sma7d\"}], \"x\": {\"type\": \"temporal\", \"field\": \"date\"}, \"y\": {\"type\": \"quantitative\", \"field\": \"deathIncrease\"}}, \"transform\": [{\"filter\": {\"selection\": \"selector005\"}}]}, {\"mark\": {\"type\": \"text\", \"align\": \"left\", \"dx\": 5, \"dy\": -5}, \"encoding\": {\"text\": {\"type\": \"quantitative\", \"field\": \"deathIncrease\"}, \"tooltip\": [{\"type\": \"temporal\", \"field\": \"date\"}, {\"type\": \"quantitative\", \"field\": \"deathIncrease\"}, {\"type\": \"quantitative\", \"field\": \"sma7d\"}], \"x\": {\"type\": \"temporal\", \"field\": \"date\"}, \"y\": {\"type\": \"quantitative\", \"field\": \"deathIncrease\"}}, \"transform\": [{\"filter\": {\"selection\": \"selector005\"}}]}], \"data\": {\"name\": \"data-75ffdb308dea9dd6c975b20e9be88276\"}, \"height\": 400, \"title\": \"US: deathIncrease\", \"width\": 500, \"$schema\": \"https://vega.github.io/schema/vega-lite/v4.8.1.json\", \"datasets\": {\"data-75ffdb308dea9dd6c975b20e9be88276\": [{\"date\": \"2020-12-04T00:00:00\", \"totalTestResultsIncrease\": 1861622.0, \"positiveIncrease\": 228884.0, \"death\": 270375.0, \"deathIncrease\": 2563.0, \"positiveRate\": 0.123, \"state\": \"US\", \"sma7d\": 1970.0}, {\"date\": \"2020-12-05T00:00:00\", \"totalTestResultsIncrease\": 2221953.0, \"positiveIncrease\": 217770.0, \"death\": 272861.0, \"deathIncrease\": 2486.0, \"positiveRate\": 0.098, \"state\": \"US\", \"sma7d\": 2147.571}, {\"date\": \"2020-12-06T00:00:00\", \"totalTestResultsIncrease\": 1620226.0, \"positiveIncrease\": 182351.0, \"death\": 274024.0, \"deathIncrease\": 1163.0, \"positiveRate\": 0.113, \"state\": \"US\", \"sma7d\": 2195.857}, {\"date\": \"2020-12-07T00:00:00\", \"totalTestResultsIncrease\": 1725636.0, \"positiveIncrease\": 181473.0, \"death\": 275315.0, \"deathIncrease\": 1291.0, \"positiveRate\": 0.105, \"state\": \"US\", \"sma7d\": 2232.143}, {\"date\": \"2020-12-08T00:00:00\", \"totalTestResultsIncrease\": 1652188.0, \"positiveIncrease\": 215953.0, \"death\": 277995.0, \"deathIncrease\": 2680.0, \"positiveRate\": 0.131, \"state\": \"US\", \"sma7d\": 2259.429}, {\"date\": \"2020-12-09T00:00:00\", \"totalTestResultsIncrease\": 1803813.0, \"positiveIncrease\": 214960.0, \"death\": 281164.0, \"deathIncrease\": 3169.0, \"positiveRate\": 0.119, \"state\": \"US\", \"sma7d\": 2310.571}, {\"date\": \"2020-12-10T00:00:00\", \"totalTestResultsIncrease\": 1887187.0, \"positiveIncrease\": 219285.0, \"death\": 284296.0, \"deathIncrease\": 3132.0, \"positiveRate\": 0.116, \"state\": \"US\", \"sma7d\": 2354.857}, {\"date\": \"2020-12-11T00:00:00\", \"totalTestResultsIncrease\": 1987199.0, \"positiveIncrease\": 235471.0, \"death\": 287043.0, \"deathIncrease\": 2747.0, \"positiveRate\": 0.118, \"state\": \"US\", \"sma7d\": 2381.143}, {\"date\": \"2020-12-12T00:00:00\", \"totalTestResultsIncrease\": 1834747.0, \"positiveIncrease\": 225287.0, \"death\": 289540.0, \"deathIncrease\": 2497.0, \"positiveRate\": 0.123, \"state\": \"US\", \"sma7d\": 2382.714}, {\"date\": \"2020-12-13T00:00:00\", \"totalTestResultsIncrease\": 1770163.0, \"positiveIncrease\": 186763.0, \"death\": 291041.0, \"deathIncrease\": 1501.0, \"positiveRate\": 0.106, \"state\": \"US\", \"sma7d\": 2431.0}, {\"date\": \"2020-12-14T00:00:00\", \"totalTestResultsIncrease\": 2095868.0, \"positiveIncrease\": 192862.0, \"death\": 292398.0, \"deathIncrease\": 1357.0, \"positiveRate\": 0.092, \"state\": \"US\", \"sma7d\": 2440.429}, {\"date\": \"2020-12-15T00:00:00\", \"totalTestResultsIncrease\": 1797070.0, \"positiveIncrease\": 190593.0, \"death\": 295322.0, \"deathIncrease\": 2924.0, \"positiveRate\": 0.106, \"state\": \"US\", \"sma7d\": 2475.286}, {\"date\": \"2020-12-16T00:00:00\", \"totalTestResultsIncrease\": 1802086.0, \"positiveIncrease\": 231850.0, \"death\": 298775.0, \"deathIncrease\": 3453.0, \"positiveRate\": 0.129, \"state\": \"US\", \"sma7d\": 2515.857}, {\"date\": \"2020-12-17T00:00:00\", \"totalTestResultsIncrease\": 1864588.0, \"positiveIncrease\": 241028.0, \"death\": 302240.0, \"deathIncrease\": 3465.0, \"positiveRate\": 0.129, \"state\": \"US\", \"sma7d\": 2563.429}, {\"date\": \"2020-12-18T00:00:00\", \"totalTestResultsIncrease\": 2197746.0, \"positiveIncrease\": 239737.0, \"death\": 305106.0, \"deathIncrease\": 2866.0, \"positiveRate\": 0.109, \"state\": \"US\", \"sma7d\": 2580.429}, {\"date\": \"2020-12-19T00:00:00\", \"totalTestResultsIncrease\": 1762484.0, \"positiveIncrease\": 203346.0, \"death\": 307814.0, \"deathIncrease\": 2708.0, \"positiveRate\": 0.115, \"state\": \"US\", \"sma7d\": 2610.571}, {\"date\": \"2020-12-20T00:00:00\", \"totalTestResultsIncrease\": 1792080.0, \"positiveIncrease\": 196963.0, \"death\": 309482.0, \"deathIncrease\": 1668.0, \"positiveRate\": 0.11, \"state\": \"US\", \"sma7d\": 2634.429}, {\"date\": \"2020-12-21T00:00:00\", \"totalTestResultsIncrease\": 2025427.0, \"positiveIncrease\": 178997.0, \"death\": 310962.0, \"deathIncrease\": 1480.0, \"positiveRate\": 0.088, \"state\": \"US\", \"sma7d\": 2652.0}, {\"date\": \"2020-12-22T00:00:00\", \"totalTestResultsIncrease\": 1727489.0, \"positiveIncrease\": 190132.0, \"death\": 314099.0, \"deathIncrease\": 3137.0, \"positiveRate\": 0.11, \"state\": \"US\", \"sma7d\": 2682.429}, {\"date\": \"2020-12-23T00:00:00\", \"totalTestResultsIncrease\": 1740033.0, \"positiveIncrease\": 221906.0, \"death\": 317492.0, \"deathIncrease\": 3393.0, \"positiveRate\": 0.128, \"state\": \"US\", \"sma7d\": 2673.857}, {\"date\": \"2020-12-24T00:00:00\", \"totalTestResultsIncrease\": 1936907.0, \"positiveIncrease\": 204297.0, \"death\": 320450.0, \"deathIncrease\": 2958.0, \"positiveRate\": 0.105, \"state\": \"US\", \"sma7d\": 2601.429}, {\"date\": \"2020-12-25T00:00:00\", \"totalTestResultsIncrease\": 1373275.0, \"positiveIncrease\": 125867.0, \"death\": 322003.0, \"deathIncrease\": 1553.0, \"positiveRate\": 0.092, \"state\": \"US\", \"sma7d\": 2413.857}, {\"date\": \"2020-12-26T00:00:00\", \"totalTestResultsIncrease\": 2122061.0, \"positiveIncrease\": 190115.0, \"death\": 323429.0, \"deathIncrease\": 1426.0, \"positiveRate\": 0.09, \"state\": \"US\", \"sma7d\": 2230.714}, {\"date\": \"2020-12-27T00:00:00\", \"totalTestResultsIncrease\": 1340340.0, \"positiveIncrease\": 152978.0, \"death\": 324826.0, \"deathIncrease\": 1397.0, \"positiveRate\": 0.114, \"state\": \"US\", \"sma7d\": 2192.0}, {\"date\": \"2020-12-28T00:00:00\", \"totalTestResultsIncrease\": 1476860.0, \"positiveIncrease\": 163338.0, \"death\": 326316.0, \"deathIncrease\": 1490.0, \"positiveRate\": 0.111, \"state\": \"US\", \"sma7d\": 2193.429}, {\"date\": \"2020-12-29T00:00:00\", \"totalTestResultsIncrease\": 1291843.0, \"positiveIncrease\": 196082.0, \"death\": 329605.0, \"deathIncrease\": 3289.0, \"positiveRate\": 0.152, \"state\": \"US\", \"sma7d\": 2215.143}, {\"date\": \"2020-12-30T00:00:00\", \"totalTestResultsIncrease\": 1534374.0, \"positiveIncrease\": 225908.0, \"death\": 333505.0, \"deathIncrease\": 3900.0, \"positiveRate\": 0.147, \"state\": \"US\", \"sma7d\": 2287.571}, {\"date\": \"2020-12-31T00:00:00\", \"totalTestResultsIncrease\": 1747745.0, \"positiveIncrease\": 223036.0, \"death\": 336802.0, \"deathIncrease\": 3297.0, \"positiveRate\": 0.128, \"state\": \"US\", \"sma7d\": 2336.0}, {\"date\": \"2021-01-01T00:00:00\", \"totalTestResultsIncrease\": 1360209.0, \"positiveIncrease\": 180488.0, \"death\": 339394.0, \"deathIncrease\": 2592.0, \"positiveRate\": 0.133, \"state\": \"US\", \"sma7d\": 2484.429}, {\"date\": \"2021-01-02T00:00:00\", \"totalTestResultsIncrease\": 2060220.0, \"positiveIncrease\": 279389.0, \"death\": 341800.0, \"deathIncrease\": 2406.0, \"positiveRate\": 0.136, \"state\": \"US\", \"sma7d\": 2624.429}, {\"date\": \"2021-01-03T00:00:00\", \"totalTestResultsIncrease\": 1401449.0, \"positiveIncrease\": 207756.0, \"death\": 343255.0, \"deathIncrease\": 1455.0, \"positiveRate\": 0.148, \"state\": \"US\", \"sma7d\": 2632.714}, {\"date\": \"2021-01-04T00:00:00\", \"totalTestResultsIncrease\": 1568546.0, \"positiveIncrease\": 178438.0, \"death\": 344802.0, \"deathIncrease\": 1547.0, \"positiveRate\": 0.114, \"state\": \"US\", \"sma7d\": 2640.857}, {\"date\": \"2021-01-05T00:00:00\", \"totalTestResultsIncrease\": 1678839.0, \"positiveIncrease\": 215086.0, \"death\": 348286.0, \"deathIncrease\": 3484.0, \"positiveRate\": 0.128, \"state\": \"US\", \"sma7d\": 2668.714}, {\"date\": \"2021-01-06T00:00:00\", \"totalTestResultsIncrease\": 1600829.0, \"positiveIncrease\": 248086.0, \"death\": 352188.0, \"deathIncrease\": 3902.0, \"positiveRate\": 0.155, \"state\": \"US\", \"sma7d\": 2669.0}, {\"date\": \"2021-01-07T00:00:00\", \"totalTestResultsIncrease\": 1915218.0, \"positiveIncrease\": 269325.0, \"death\": 356267.0, \"deathIncrease\": 4079.0, \"positiveRate\": 0.141, \"state\": \"US\", \"sma7d\": 2780.714}, {\"date\": \"2021-01-08T00:00:00\", \"totalTestResultsIncrease\": 2117440.0, \"positiveIncrease\": 292204.0, \"death\": 360047.0, \"deathIncrease\": 3780.0, \"positiveRate\": 0.138, \"state\": \"US\", \"sma7d\": 2950.429}, {\"date\": \"2021-01-09T00:00:00\", \"totalTestResultsIncrease\": 2064103.0, \"positiveIncrease\": 266399.0, \"death\": 363584.0, \"deathIncrease\": 3537.0, \"positiveRate\": 0.129, \"state\": \"US\", \"sma7d\": 3112.0}, {\"date\": \"2021-01-10T00:00:00\", \"totalTestResultsIncrease\": 1987882.0, \"positiveIncrease\": 227708.0, \"death\": 365652.0, \"deathIncrease\": 2068.0, \"positiveRate\": 0.115, \"state\": \"US\", \"sma7d\": 3199.571}, {\"date\": \"2021-01-11T00:00:00\", \"totalTestResultsIncrease\": 1843844.0, \"positiveIncrease\": 194140.0, \"death\": 367385.0, \"deathIncrease\": 1733.0, \"positiveRate\": 0.105, \"state\": \"US\", \"sma7d\": 3226.143}, {\"date\": \"2021-01-12T00:00:00\", \"totalTestResultsIncrease\": 1924459.0, \"positiveIncrease\": 214809.0, \"death\": 371449.0, \"deathIncrease\": 4064.0, \"positiveRate\": 0.112, \"state\": \"US\", \"sma7d\": 3309.0}, {\"date\": \"2021-01-13T00:00:00\", \"totalTestResultsIncrease\": 1804256.0, \"positiveIncrease\": 221557.0, \"death\": 375536.0, \"deathIncrease\": 4087.0, \"positiveRate\": 0.123, \"state\": \"US\", \"sma7d\": 3335.429}, {\"date\": \"2021-01-14T00:00:00\", \"totalTestResultsIncrease\": 2010144.0, \"positiveIncrease\": 222944.0, \"death\": 379451.0, \"deathIncrease\": 3915.0, \"positiveRate\": 0.111, \"state\": \"US\", \"sma7d\": 3312.0}, {\"date\": \"2021-01-15T00:00:00\", \"totalTestResultsIncrease\": 2279606.0, \"positiveIncrease\": 243996.0, \"death\": 383130.0, \"deathIncrease\": 3679.0, \"positiveRate\": 0.107, \"state\": \"US\", \"sma7d\": 3297.571}, {\"date\": \"2021-01-16T00:00:00\", \"totalTestResultsIncrease\": 2035668.0, \"positiveIncrease\": 216478.0, \"death\": 386839.0, \"deathIncrease\": 3709.0, \"positiveRate\": 0.106, \"state\": \"US\", \"sma7d\": 3322.143}, {\"date\": \"2021-01-17T00:00:00\", \"totalTestResultsIncrease\": 1853735.0, \"positiveIncrease\": 186270.0, \"death\": 388892.0, \"deathIncrease\": 2053.0, \"positiveRate\": 0.1, \"state\": \"US\", \"sma7d\": 3320.0}, {\"date\": \"2021-01-18T00:00:00\", \"totalTestResultsIncrease\": 2088685.0, \"positiveIncrease\": 150220.0, \"death\": 390287.0, \"deathIncrease\": 1395.0, \"positiveRate\": 0.072, \"state\": \"US\", \"sma7d\": 3271.714}, {\"date\": \"2021-01-19T00:00:00\", \"totalTestResultsIncrease\": 1698121.0, \"positiveIncrease\": 144047.0, \"death\": 392428.0, \"deathIncrease\": 2141.0, \"positiveRate\": 0.085, \"state\": \"US\", \"sma7d\": 2997.0}, {\"date\": \"2021-01-20T00:00:00\", \"totalTestResultsIncrease\": 1788698.0, \"positiveIncrease\": 186722.0, \"death\": 396837.0, \"deathIncrease\": 4409.0, \"positiveRate\": 0.104, \"state\": \"US\", \"sma7d\": 3043.0}, {\"date\": \"2021-01-21T00:00:00\", \"totalTestResultsIncrease\": 1899019.0, \"positiveIncrease\": 184033.0, \"death\": 400715.0, \"deathIncrease\": 3878.0, \"positiveRate\": 0.097, \"state\": \"US\", \"sma7d\": 3037.714}, {\"date\": \"2021-01-22T00:00:00\", \"totalTestResultsIncrease\": 1988756.0, \"positiveIncrease\": 188983.0, \"death\": 404695.0, \"deathIncrease\": 3980.0, \"positiveRate\": 0.095, \"state\": \"US\", \"sma7d\": 3080.714}, {\"date\": \"2021-01-23T00:00:00\", \"totalTestResultsIncrease\": 1925169.0, \"positiveIncrease\": 174705.0, \"death\": 408286.0, \"deathIncrease\": 3591.0, \"positiveRate\": 0.091, \"state\": \"US\", \"sma7d\": 3063.857}, {\"date\": \"2021-01-24T00:00:00\", \"totalTestResultsIncrease\": 1729017.0, \"positiveIncrease\": 143691.0, \"death\": 410230.0, \"deathIncrease\": 1944.0, \"positiveRate\": 0.083, \"state\": \"US\", \"sma7d\": 3048.286}, {\"date\": \"2021-01-25T00:00:00\", \"totalTestResultsIncrease\": 1696188.0, \"positiveIncrease\": 133067.0, \"death\": 411823.0, \"deathIncrease\": 1593.0, \"positiveRate\": 0.078, \"state\": \"US\", \"sma7d\": 3076.571}, {\"date\": \"2021-01-26T00:00:00\", \"totalTestResultsIncrease\": 1694608.0, \"positiveIncrease\": 143745.0, \"death\": 415557.0, \"deathIncrease\": 3734.0, \"positiveRate\": 0.085, \"state\": \"US\", \"sma7d\": 3304.143}, {\"date\": \"2021-01-27T00:00:00\", \"totalTestResultsIncrease\": 1620651.0, \"positiveIncrease\": 151502.0, \"death\": 419373.0, \"deathIncrease\": 4076.0, \"positiveRate\": 0.093, \"state\": \"US\", \"sma7d\": 3256.571}]}}, {\"mode\": \"vega-lite\"});\n",
       "</script>"
      ],
      "text/plain": [
       "alt.LayerChart(...)"
      ]
     },
     "execution_count": 9,
     "metadata": {},
     "output_type": "execute_result"
    }
   ],
   "source": [
    "create_plot(us, 'deathIncrease')"
   ]
  },
  {
   "cell_type": "markdown",
   "id": "permanent-plant",
   "metadata": {
    "papermill": {
     "duration": 0.01775,
     "end_time": "2021-01-28T09:33:02.054811",
     "exception": false,
     "start_time": "2021-01-28T09:33:02.037061",
     "status": "completed"
    },
    "tags": []
   },
   "source": [
    "## NY"
   ]
  },
  {
   "cell_type": "code",
   "execution_count": 10,
   "id": "delayed-fishing",
   "metadata": {
    "execution": {
     "iopub.execute_input": "2021-01-28T09:33:02.093255Z",
     "iopub.status.busy": "2021-01-28T09:33:02.092675Z",
     "iopub.status.idle": "2021-01-28T09:33:02.502483Z",
     "shell.execute_reply": "2021-01-28T09:33:02.502948Z"
    },
    "papermill": {
     "duration": 0.431026,
     "end_time": "2021-01-28T09:33:02.503123",
     "exception": false,
     "start_time": "2021-01-28T09:33:02.072097",
     "status": "completed"
    },
    "tags": []
   },
   "outputs": [],
   "source": [
    "ny = create_df(df, (lambda d: d['state'] == 'NY'), 'New York')"
   ]
  },
  {
   "cell_type": "code",
   "execution_count": 11,
   "id": "hybrid-bahamas",
   "metadata": {
    "execution": {
     "iopub.execute_input": "2021-01-28T09:33:02.543901Z",
     "iopub.status.busy": "2021-01-28T09:33:02.541768Z",
     "iopub.status.idle": "2021-01-28T09:33:02.638230Z",
     "shell.execute_reply": "2021-01-28T09:33:02.638709Z"
    },
    "papermill": {
     "duration": 0.117934,
     "end_time": "2021-01-28T09:33:02.638861",
     "exception": false,
     "start_time": "2021-01-28T09:33:02.520927",
     "status": "completed"
    },
    "tags": []
   },
   "outputs": [
    {
     "data": {
      "text/html": [
       "\n",
       "<div id=\"altair-viz-6b9c59e6c5c44e67b948f76fc42b8205\"></div>\n",
       "<script type=\"text/javascript\">\n",
       "  (function(spec, embedOpt){\n",
       "    let outputDiv = document.currentScript.previousElementSibling;\n",
       "    if (outputDiv.id !== \"altair-viz-6b9c59e6c5c44e67b948f76fc42b8205\") {\n",
       "      outputDiv = document.getElementById(\"altair-viz-6b9c59e6c5c44e67b948f76fc42b8205\");\n",
       "    }\n",
       "    const paths = {\n",
       "      \"vega\": \"https://cdn.jsdelivr.net/npm//vega@5?noext\",\n",
       "      \"vega-lib\": \"https://cdn.jsdelivr.net/npm//vega-lib?noext\",\n",
       "      \"vega-lite\": \"https://cdn.jsdelivr.net/npm//vega-lite@4.8.1?noext\",\n",
       "      \"vega-embed\": \"https://cdn.jsdelivr.net/npm//vega-embed@6?noext\",\n",
       "    };\n",
       "\n",
       "    function loadScript(lib) {\n",
       "      return new Promise(function(resolve, reject) {\n",
       "        var s = document.createElement('script');\n",
       "        s.src = paths[lib];\n",
       "        s.async = true;\n",
       "        s.onload = () => resolve(paths[lib]);\n",
       "        s.onerror = () => reject(`Error loading script: ${paths[lib]}`);\n",
       "        document.getElementsByTagName(\"head\")[0].appendChild(s);\n",
       "      });\n",
       "    }\n",
       "\n",
       "    function showError(err) {\n",
       "      outputDiv.innerHTML = `<div class=\"error\" style=\"color:red;\">${err}</div>`;\n",
       "      throw err;\n",
       "    }\n",
       "\n",
       "    function displayChart(vegaEmbed) {\n",
       "      vegaEmbed(outputDiv, spec, embedOpt)\n",
       "        .catch(err => showError(`Javascript Error: ${err.message}<br>This usually means there's a typo in your chart specification. See the javascript console for the full traceback.`));\n",
       "    }\n",
       "\n",
       "    if(typeof define === \"function\" && define.amd) {\n",
       "      requirejs.config({paths});\n",
       "      require([\"vega-embed\"], displayChart, err => showError(`Error loading script: ${err.message}`));\n",
       "    } else if (typeof vegaEmbed === \"function\") {\n",
       "      displayChart(vegaEmbed);\n",
       "    } else {\n",
       "      loadScript(\"vega\")\n",
       "        .then(() => loadScript(\"vega-lite\"))\n",
       "        .then(() => loadScript(\"vega-embed\"))\n",
       "        .catch(showError)\n",
       "        .then(() => displayChart(vegaEmbed));\n",
       "    }\n",
       "  })({\"config\": {\"view\": {\"continuousWidth\": 400, \"continuousHeight\": 300}}, \"layer\": [{\"layer\": [{\"mark\": {\"type\": \"point\", \"size\": 75}, \"encoding\": {\"tooltip\": [{\"type\": \"temporal\", \"field\": \"date\"}, {\"type\": \"quantitative\", \"field\": \"positiveIncrease\"}, {\"type\": \"quantitative\", \"field\": \"sma7d\"}], \"x\": {\"type\": \"temporal\", \"field\": \"date\"}, \"y\": {\"type\": \"quantitative\", \"field\": \"positiveIncrease\"}}, \"selection\": {\"selector008\": {\"type\": \"interval\", \"bind\": \"scales\", \"encodings\": [\"x\", \"y\"]}}}, {\"mark\": {\"type\": \"line\", \"color\": \"purple\"}, \"encoding\": {\"x\": {\"type\": \"temporal\", \"field\": \"date\"}, \"y\": {\"type\": \"quantitative\", \"field\": \"sma7d\"}}}]}, {\"mark\": {\"type\": \"rule\", \"color\": \"#aaa\"}, \"encoding\": {\"x\": {\"type\": \"temporal\", \"field\": \"date\"}}, \"transform\": [{\"filter\": {\"selection\": \"selector007\"}}]}, {\"mark\": \"circle\", \"encoding\": {\"opacity\": {\"condition\": {\"value\": 1, \"selection\": \"selector007\"}, \"value\": 0}, \"tooltip\": [{\"type\": \"temporal\", \"field\": \"date\"}, {\"type\": \"quantitative\", \"field\": \"positiveIncrease\"}, {\"type\": \"quantitative\", \"field\": \"sma7d\"}], \"x\": {\"type\": \"temporal\", \"field\": \"date\"}, \"y\": {\"type\": \"quantitative\", \"field\": \"positiveIncrease\"}}, \"selection\": {\"selector007\": {\"type\": \"single\", \"encodings\": [\"x\"], \"on\": \"mouseover\", \"nearest\": true, \"empty\": \"none\"}}}, {\"mark\": {\"type\": \"text\", \"align\": \"left\", \"dx\": 5, \"dy\": -5, \"stroke\": \"white\", \"strokeWidth\": 2}, \"encoding\": {\"text\": {\"type\": \"quantitative\", \"field\": \"positiveIncrease\"}, \"tooltip\": [{\"type\": \"temporal\", \"field\": \"date\"}, {\"type\": \"quantitative\", \"field\": \"positiveIncrease\"}, {\"type\": \"quantitative\", \"field\": \"sma7d\"}], \"x\": {\"type\": \"temporal\", \"field\": \"date\"}, \"y\": {\"type\": \"quantitative\", \"field\": \"positiveIncrease\"}}, \"transform\": [{\"filter\": {\"selection\": \"selector007\"}}]}, {\"mark\": {\"type\": \"text\", \"align\": \"left\", \"dx\": 5, \"dy\": -5}, \"encoding\": {\"text\": {\"type\": \"quantitative\", \"field\": \"positiveIncrease\"}, \"tooltip\": [{\"type\": \"temporal\", \"field\": \"date\"}, {\"type\": \"quantitative\", \"field\": \"positiveIncrease\"}, {\"type\": \"quantitative\", \"field\": \"sma7d\"}], \"x\": {\"type\": \"temporal\", \"field\": \"date\"}, \"y\": {\"type\": \"quantitative\", \"field\": \"positiveIncrease\"}}, \"transform\": [{\"filter\": {\"selection\": \"selector007\"}}]}], \"data\": {\"name\": \"data-b024dc6d637ae9519092423133a774c2\"}, \"height\": 400, \"title\": \"New York: positiveIncrease\", \"width\": 500, \"$schema\": \"https://vega.github.io/schema/vega-lite/v4.8.1.json\", \"datasets\": {\"data-b024dc6d637ae9519092423133a774c2\": [{\"date\": \"2020-12-04T00:00:00\", \"totalTestResultsIncrease\": 208297.0, \"positiveIncrease\": 11271.0, \"death\": 27017.0, \"deathIncrease\": 62.0, \"positiveRate\": 0.054, \"state\": \"New York\", \"sma7d\": 8141.286}, {\"date\": \"2020-12-05T00:00:00\", \"totalTestResultsIncrease\": 215401.0, \"positiveIncrease\": 10761.0, \"death\": 27089.0, \"deathIncrease\": 72.0, \"positiveRate\": 0.05, \"state\": \"New York\", \"sma7d\": 8812.429}, {\"date\": \"2020-12-06T00:00:00\", \"totalTestResultsIncrease\": 205832.0, \"positiveIncrease\": 9702.0, \"death\": 27149.0, \"deathIncrease\": 60.0, \"positiveRate\": 0.047, \"state\": \"New York\", \"sma7d\": 9238.0}, {\"date\": \"2020-12-07T00:00:00\", \"totalTestResultsIncrease\": 152287.0, \"positiveIncrease\": 7302.0, \"death\": 27232.0, \"deathIncrease\": 83.0, \"positiveRate\": 0.048, \"state\": \"New York\", \"sma7d\": 9307.0}, {\"date\": \"2020-12-08T00:00:00\", \"totalTestResultsIncrease\": 162464.0, \"positiveIncrease\": 9335.0, \"death\": 27307.0, \"deathIncrease\": 75.0, \"positiveRate\": 0.057, \"state\": \"New York\", \"sma7d\": 9599.857}, {\"date\": \"2020-12-09T00:00:00\", \"totalTestResultsIncrease\": 194595.0, \"positiveIncrease\": 10600.0, \"death\": 27404.0, \"deathIncrease\": 97.0, \"positiveRate\": 0.054, \"state\": \"New York\", \"sma7d\": 9832.286}, {\"date\": \"2020-12-10T00:00:00\", \"totalTestResultsIncrease\": 197406.0, \"positiveIncrease\": 10178.0, \"death\": 27498.0, \"deathIncrease\": 94.0, \"positiveRate\": 0.052, \"state\": \"New York\", \"sma7d\": 9878.429}, {\"date\": \"2020-12-11T00:00:00\", \"totalTestResultsIncrease\": 212672.0, \"positiveIncrease\": 10595.0, \"death\": 27587.0, \"deathIncrease\": 89.0, \"positiveRate\": 0.05, \"state\": \"New York\", \"sma7d\": 9781.857}, {\"date\": \"2020-12-12T00:00:00\", \"totalTestResultsIncrease\": 242927.0, \"positiveIncrease\": 11129.0, \"death\": 27675.0, \"deathIncrease\": 88.0, \"positiveRate\": 0.046, \"state\": \"New York\", \"sma7d\": 9834.429}, {\"date\": \"2020-12-13T00:00:00\", \"totalTestResultsIncrease\": 205250.0, \"positiveIncrease\": 10194.0, \"death\": 27785.0, \"deathIncrease\": 110.0, \"positiveRate\": 0.05, \"state\": \"New York\", \"sma7d\": 9904.714}, {\"date\": \"2020-12-14T00:00:00\", \"totalTestResultsIncrease\": 159844.0, \"positiveIncrease\": 9044.0, \"death\": 27870.0, \"deathIncrease\": 85.0, \"positiveRate\": 0.057, \"state\": \"New York\", \"sma7d\": 10153.571}, {\"date\": \"2020-12-15T00:00:00\", \"totalTestResultsIncrease\": 194188.0, \"positiveIncrease\": 10353.0, \"death\": 28002.0, \"deathIncrease\": 132.0, \"positiveRate\": 0.053, \"state\": \"New York\", \"sma7d\": 10299.0}, {\"date\": \"2020-12-16T00:00:00\", \"totalTestResultsIncrease\": 160947.0, \"positiveIncrease\": 9998.0, \"death\": 28100.0, \"deathIncrease\": 98.0, \"positiveRate\": 0.062, \"state\": \"New York\", \"sma7d\": 10213.0}, {\"date\": \"2020-12-17T00:00:00\", \"totalTestResultsIncrease\": 202772.0, \"positiveIncrease\": 10914.0, \"death\": 28222.0, \"deathIncrease\": 122.0, \"positiveRate\": 0.054, \"state\": \"New York\", \"sma7d\": 10318.143}, {\"date\": \"2020-12-18T00:00:00\", \"totalTestResultsIncrease\": 249385.0, \"positiveIncrease\": 12697.0, \"death\": 28344.0, \"deathIncrease\": 122.0, \"positiveRate\": 0.051, \"state\": \"New York\", \"sma7d\": 10618.429}, {\"date\": \"2020-12-19T00:00:00\", \"totalTestResultsIncrease\": 191476.0, \"positiveIncrease\": 9919.0, \"death\": 28474.0, \"deathIncrease\": 130.0, \"positiveRate\": 0.052, \"state\": \"New York\", \"sma7d\": 10445.571}, {\"date\": \"2020-12-20T00:00:00\", \"totalTestResultsIncrease\": 197251.0, \"positiveIncrease\": 9957.0, \"death\": 28598.0, \"deathIncrease\": 124.0, \"positiveRate\": 0.05, \"state\": \"New York\", \"sma7d\": 10411.714}, {\"date\": \"2020-12-21T00:00:00\", \"totalTestResultsIncrease\": 156510.0, \"positiveIncrease\": 9007.0, \"death\": 28709.0, \"deathIncrease\": 111.0, \"positiveRate\": 0.058, \"state\": \"New York\", \"sma7d\": 10406.429}, {\"date\": \"2020-12-22T00:00:00\", \"totalTestResultsIncrease\": 164868.0, \"positiveIncrease\": 9716.0, \"death\": 28850.0, \"deathIncrease\": 141.0, \"positiveRate\": 0.059, \"state\": \"New York\", \"sma7d\": 10315.429}, {\"date\": \"2020-12-23T00:00:00\", \"totalTestResultsIncrease\": 204361.0, \"positiveIncrease\": 11937.0, \"death\": 29016.0, \"deathIncrease\": 166.0, \"positiveRate\": 0.058, \"state\": \"New York\", \"sma7d\": 10592.429}, {\"date\": \"2020-12-24T00:00:00\", \"totalTestResultsIncrease\": 226296.0, \"positiveIncrease\": 12568.0, \"death\": 29149.0, \"deathIncrease\": 133.0, \"positiveRate\": 0.056, \"state\": \"New York\", \"sma7d\": 10828.714}, {\"date\": \"2020-12-25T00:00:00\", \"totalTestResultsIncrease\": 226560.0, \"positiveIncrease\": 12446.0, \"death\": 29270.0, \"deathIncrease\": 121.0, \"positiveRate\": 0.055, \"state\": \"New York\", \"sma7d\": 10792.857}, {\"date\": \"2020-12-26T00:00:00\", \"totalTestResultsIncrease\": 201442.0, \"positiveIncrease\": 10806.0, \"death\": 29396.0, \"deathIncrease\": 126.0, \"positiveRate\": 0.054, \"state\": \"New York\", \"sma7d\": 10919.571}, {\"date\": \"2020-12-27T00:00:00\", \"totalTestResultsIncrease\": 130299.0, \"positiveIncrease\": 7623.0, \"death\": 29511.0, \"deathIncrease\": 115.0, \"positiveRate\": 0.059, \"state\": \"New York\", \"sma7d\": 10586.143}, {\"date\": \"2020-12-28T00:00:00\", \"totalTestResultsIncrease\": 124866.0, \"positiveIncrease\": 10407.0, \"death\": 29629.0, \"deathIncrease\": 118.0, \"positiveRate\": 0.083, \"state\": \"New York\", \"sma7d\": 10786.143}, {\"date\": \"2020-12-29T00:00:00\", \"totalTestResultsIncrease\": 160164.0, \"positiveIncrease\": 11438.0, \"death\": 29756.0, \"deathIncrease\": 127.0, \"positiveRate\": 0.071, \"state\": \"New York\", \"sma7d\": 11032.143}, {\"date\": \"2020-12-30T00:00:00\", \"totalTestResultsIncrease\": 154949.0, \"positiveIncrease\": 13422.0, \"death\": 29905.0, \"deathIncrease\": 149.0, \"positiveRate\": 0.087, \"state\": \"New York\", \"sma7d\": 11244.286}, {\"date\": \"2020-12-31T00:00:00\", \"totalTestResultsIncrease\": 216587.0, \"positiveIncrease\": 16802.0, \"death\": 30040.0, \"deathIncrease\": 135.0, \"positiveRate\": 0.078, \"state\": \"New York\", \"sma7d\": 11849.143}, {\"date\": \"2021-01-01T00:00:00\", \"totalTestResultsIncrease\": 219253.0, \"positiveIncrease\": 16497.0, \"death\": 30208.0, \"deathIncrease\": 168.0, \"positiveRate\": 0.075, \"state\": \"New York\", \"sma7d\": 12427.857}, {\"date\": \"2021-01-02T00:00:00\", \"totalTestResultsIncrease\": 202446.0, \"positiveIncrease\": 15074.0, \"death\": 30337.0, \"deathIncrease\": 129.0, \"positiveRate\": 0.074, \"state\": \"New York\", \"sma7d\": 13037.571}, {\"date\": \"2021-01-03T00:00:00\", \"totalTestResultsIncrease\": 142345.0, \"positiveIncrease\": 11368.0, \"death\": 30476.0, \"deathIncrease\": 139.0, \"positiveRate\": 0.08, \"state\": \"New York\", \"sma7d\": 13572.571}, {\"date\": \"2021-01-04T00:00:00\", \"totalTestResultsIncrease\": 134360.0, \"positiveIncrease\": 11209.0, \"death\": 30648.0, \"deathIncrease\": 172.0, \"positiveRate\": 0.083, \"state\": \"New York\", \"sma7d\": 13687.143}, {\"date\": \"2021-01-05T00:00:00\", \"totalTestResultsIncrease\": 152402.0, \"positiveIncrease\": 12666.0, \"death\": 30802.0, \"deathIncrease\": 154.0, \"positiveRate\": 0.083, \"state\": \"New York\", \"sma7d\": 13862.571}, {\"date\": \"2021-01-06T00:00:00\", \"totalTestResultsIncrease\": 197816.0, \"positiveIncrease\": 16648.0, \"death\": 30965.0, \"deathIncrease\": 163.0, \"positiveRate\": 0.084, \"state\": \"New York\", \"sma7d\": 14323.429}, {\"date\": \"2021-01-07T00:00:00\", \"totalTestResultsIncrease\": 238550.0, \"positiveIncrease\": 17636.0, \"death\": 31164.0, \"deathIncrease\": 199.0, \"positiveRate\": 0.074, \"state\": \"New York\", \"sma7d\": 14442.571}, {\"date\": \"2021-01-08T00:00:00\", \"totalTestResultsIncrease\": 243903.0, \"positiveIncrease\": 18832.0, \"death\": 31329.0, \"deathIncrease\": 165.0, \"positiveRate\": 0.077, \"state\": \"New York\", \"sma7d\": 14776.143}, {\"date\": \"2021-01-09T00:00:00\", \"totalTestResultsIncrease\": 258031.0, \"positiveIncrease\": 16943.0, \"death\": 31519.0, \"deathIncrease\": 190.0, \"positiveRate\": 0.066, \"state\": \"New York\", \"sma7d\": 15043.143}, {\"date\": \"2021-01-10T00:00:00\", \"totalTestResultsIncrease\": 246836.0, \"positiveIncrease\": 15355.0, \"death\": 31672.0, \"deathIncrease\": 153.0, \"positiveRate\": 0.062, \"state\": \"New York\", \"sma7d\": 15612.714}, {\"date\": \"2021-01-11T00:00:00\", \"totalTestResultsIncrease\": 203904.0, \"positiveIncrease\": 13714.0, \"death\": 31841.0, \"deathIncrease\": 169.0, \"positiveRate\": 0.067, \"state\": \"New York\", \"sma7d\": 15970.571}, {\"date\": \"2021-01-12T00:00:00\", \"totalTestResultsIncrease\": 196671.0, \"positiveIncrease\": 15214.0, \"death\": 32007.0, \"deathIncrease\": 166.0, \"positiveRate\": 0.077, \"state\": \"New York\", \"sma7d\": 16334.571}, {\"date\": \"2021-01-13T00:00:00\", \"totalTestResultsIncrease\": 196868.0, \"positiveIncrease\": 14577.0, \"death\": 32175.0, \"deathIncrease\": 168.0, \"positiveRate\": 0.074, \"state\": \"New York\", \"sma7d\": 16038.714}, {\"date\": \"2021-01-14T00:00:00\", \"totalTestResultsIncrease\": 212589.0, \"positiveIncrease\": 13661.0, \"death\": 32379.0, \"deathIncrease\": 204.0, \"positiveRate\": 0.064, \"state\": \"New York\", \"sma7d\": 15470.857}, {\"date\": \"2021-01-15T00:00:00\", \"totalTestResultsIncrease\": 324671.0, \"positiveIncrease\": 19942.0, \"death\": 32566.0, \"deathIncrease\": 187.0, \"positiveRate\": 0.061, \"state\": \"New York\", \"sma7d\": 15629.429}, {\"date\": \"2021-01-16T00:00:00\", \"totalTestResultsIncrease\": 277286.0, \"positiveIncrease\": 15998.0, \"death\": 32725.0, \"deathIncrease\": 159.0, \"positiveRate\": 0.058, \"state\": \"New York\", \"sma7d\": 15494.429}, {\"date\": \"2021-01-17T00:00:00\", \"totalTestResultsIncrease\": 246507.0, \"positiveIncrease\": 13842.0, \"death\": 32897.0, \"deathIncrease\": 172.0, \"positiveRate\": 0.056, \"state\": \"New York\", \"sma7d\": 15278.286}, {\"date\": \"2021-01-18T00:00:00\", \"totalTestResultsIncrease\": 186205.0, \"positiveIncrease\": 12185.0, \"death\": 33052.0, \"deathIncrease\": 155.0, \"positiveRate\": 0.065, \"state\": \"New York\", \"sma7d\": 15059.857}, {\"date\": \"2021-01-19T00:00:00\", \"totalTestResultsIncrease\": 177269.0, \"positiveIncrease\": 12512.0, \"death\": 33224.0, \"deathIncrease\": 172.0, \"positiveRate\": 0.071, \"state\": \"New York\", \"sma7d\": 14673.857}, {\"date\": \"2021-01-20T00:00:00\", \"totalTestResultsIncrease\": 195409.0, \"positiveIncrease\": 13364.0, \"death\": 33415.0, \"deathIncrease\": 191.0, \"positiveRate\": 0.068, \"state\": \"New York\", \"sma7d\": 14500.571}, {\"date\": \"2021-01-21T00:00:00\", \"totalTestResultsIncrease\": 224569.0, \"positiveIncrease\": 13886.0, \"death\": 33594.0, \"deathIncrease\": 179.0, \"positiveRate\": 0.062, \"state\": \"New York\", \"sma7d\": 14532.714}, {\"date\": \"2021-01-22T00:00:00\", \"totalTestResultsIncrease\": 268001.0, \"positiveIncrease\": 15144.0, \"death\": 33763.0, \"deathIncrease\": 169.0, \"positiveRate\": 0.057, \"state\": \"New York\", \"sma7d\": 13847.286}, {\"date\": \"2021-01-23T00:00:00\", \"totalTestResultsIncrease\": 262106.0, \"positiveIncrease\": 13786.0, \"death\": 33907.0, \"deathIncrease\": 144.0, \"positiveRate\": 0.053, \"state\": \"New York\", \"sma7d\": 13531.286}, {\"date\": \"2021-01-24T00:00:00\", \"totalTestResultsIncrease\": 249955.0, \"positiveIncrease\": 12720.0, \"death\": 34069.0, \"deathIncrease\": 162.0, \"positiveRate\": 0.051, \"state\": \"New York\", \"sma7d\": 13371.0}, {\"date\": \"2021-01-25T00:00:00\", \"totalTestResultsIncrease\": 219538.0, \"positiveIncrease\": 12003.0, \"death\": 34242.0, \"deathIncrease\": 173.0, \"positiveRate\": 0.055, \"state\": \"New York\", \"sma7d\": 13345.0}, {\"date\": \"2021-01-26T00:00:00\", \"totalTestResultsIncrease\": 162938.0, \"positiveIncrease\": 11064.0, \"death\": 34407.0, \"deathIncrease\": 165.0, \"positiveRate\": 0.068, \"state\": \"New York\", \"sma7d\": 13138.143}, {\"date\": \"2021-01-27T00:00:00\", \"totalTestResultsIncrease\": 202661.0, \"positiveIncrease\": 11028.0, \"death\": 34579.0, \"deathIncrease\": 172.0, \"positiveRate\": 0.054, \"state\": \"New York\", \"sma7d\": 12804.429}]}}, {\"mode\": \"vega-lite\"});\n",
       "</script>"
      ],
      "text/plain": [
       "alt.LayerChart(...)"
      ]
     },
     "execution_count": 11,
     "metadata": {},
     "output_type": "execute_result"
    }
   ],
   "source": [
    "create_plot(ny, 'positiveIncrease')"
   ]
  },
  {
   "cell_type": "code",
   "execution_count": 12,
   "id": "monetary-captain",
   "metadata": {
    "execution": {
     "iopub.execute_input": "2021-01-28T09:33:02.680738Z",
     "iopub.status.busy": "2021-01-28T09:33:02.680164Z",
     "iopub.status.idle": "2021-01-28T09:33:02.776664Z",
     "shell.execute_reply": "2021-01-28T09:33:02.776181Z"
    },
    "papermill": {
     "duration": 0.119886,
     "end_time": "2021-01-28T09:33:02.776794",
     "exception": false,
     "start_time": "2021-01-28T09:33:02.656908",
     "status": "completed"
    },
    "tags": []
   },
   "outputs": [
    {
     "data": {
      "text/html": [
       "\n",
       "<div id=\"altair-viz-300a8299548b4b7e830e18854a912357\"></div>\n",
       "<script type=\"text/javascript\">\n",
       "  (function(spec, embedOpt){\n",
       "    let outputDiv = document.currentScript.previousElementSibling;\n",
       "    if (outputDiv.id !== \"altair-viz-300a8299548b4b7e830e18854a912357\") {\n",
       "      outputDiv = document.getElementById(\"altair-viz-300a8299548b4b7e830e18854a912357\");\n",
       "    }\n",
       "    const paths = {\n",
       "      \"vega\": \"https://cdn.jsdelivr.net/npm//vega@5?noext\",\n",
       "      \"vega-lib\": \"https://cdn.jsdelivr.net/npm//vega-lib?noext\",\n",
       "      \"vega-lite\": \"https://cdn.jsdelivr.net/npm//vega-lite@4.8.1?noext\",\n",
       "      \"vega-embed\": \"https://cdn.jsdelivr.net/npm//vega-embed@6?noext\",\n",
       "    };\n",
       "\n",
       "    function loadScript(lib) {\n",
       "      return new Promise(function(resolve, reject) {\n",
       "        var s = document.createElement('script');\n",
       "        s.src = paths[lib];\n",
       "        s.async = true;\n",
       "        s.onload = () => resolve(paths[lib]);\n",
       "        s.onerror = () => reject(`Error loading script: ${paths[lib]}`);\n",
       "        document.getElementsByTagName(\"head\")[0].appendChild(s);\n",
       "      });\n",
       "    }\n",
       "\n",
       "    function showError(err) {\n",
       "      outputDiv.innerHTML = `<div class=\"error\" style=\"color:red;\">${err}</div>`;\n",
       "      throw err;\n",
       "    }\n",
       "\n",
       "    function displayChart(vegaEmbed) {\n",
       "      vegaEmbed(outputDiv, spec, embedOpt)\n",
       "        .catch(err => showError(`Javascript Error: ${err.message}<br>This usually means there's a typo in your chart specification. See the javascript console for the full traceback.`));\n",
       "    }\n",
       "\n",
       "    if(typeof define === \"function\" && define.amd) {\n",
       "      requirejs.config({paths});\n",
       "      require([\"vega-embed\"], displayChart, err => showError(`Error loading script: ${err.message}`));\n",
       "    } else if (typeof vegaEmbed === \"function\") {\n",
       "      displayChart(vegaEmbed);\n",
       "    } else {\n",
       "      loadScript(\"vega\")\n",
       "        .then(() => loadScript(\"vega-lite\"))\n",
       "        .then(() => loadScript(\"vega-embed\"))\n",
       "        .catch(showError)\n",
       "        .then(() => displayChart(vegaEmbed));\n",
       "    }\n",
       "  })({\"config\": {\"view\": {\"continuousWidth\": 400, \"continuousHeight\": 300}}, \"layer\": [{\"layer\": [{\"mark\": {\"type\": \"point\", \"size\": 75}, \"encoding\": {\"tooltip\": [{\"type\": \"temporal\", \"field\": \"date\"}, {\"type\": \"quantitative\", \"field\": \"positiveRate\"}, {\"type\": \"quantitative\", \"field\": \"sma7d\"}], \"x\": {\"type\": \"temporal\", \"field\": \"date\"}, \"y\": {\"type\": \"quantitative\", \"field\": \"positiveRate\"}}, \"selection\": {\"selector010\": {\"type\": \"interval\", \"bind\": \"scales\", \"encodings\": [\"x\", \"y\"]}}}, {\"mark\": {\"type\": \"line\", \"color\": \"purple\"}, \"encoding\": {\"x\": {\"type\": \"temporal\", \"field\": \"date\"}, \"y\": {\"type\": \"quantitative\", \"field\": \"sma7d\"}}}]}, {\"mark\": {\"type\": \"rule\", \"color\": \"#aaa\"}, \"encoding\": {\"x\": {\"type\": \"temporal\", \"field\": \"date\"}}, \"transform\": [{\"filter\": {\"selection\": \"selector009\"}}]}, {\"mark\": \"circle\", \"encoding\": {\"opacity\": {\"condition\": {\"value\": 1, \"selection\": \"selector009\"}, \"value\": 0}, \"tooltip\": [{\"type\": \"temporal\", \"field\": \"date\"}, {\"type\": \"quantitative\", \"field\": \"positiveRate\"}, {\"type\": \"quantitative\", \"field\": \"sma7d\"}], \"x\": {\"type\": \"temporal\", \"field\": \"date\"}, \"y\": {\"type\": \"quantitative\", \"field\": \"positiveRate\"}}, \"selection\": {\"selector009\": {\"type\": \"single\", \"encodings\": [\"x\"], \"on\": \"mouseover\", \"nearest\": true, \"empty\": \"none\"}}}, {\"mark\": {\"type\": \"text\", \"align\": \"left\", \"dx\": 5, \"dy\": -5, \"stroke\": \"white\", \"strokeWidth\": 2}, \"encoding\": {\"text\": {\"type\": \"quantitative\", \"field\": \"positiveRate\"}, \"tooltip\": [{\"type\": \"temporal\", \"field\": \"date\"}, {\"type\": \"quantitative\", \"field\": \"positiveRate\"}, {\"type\": \"quantitative\", \"field\": \"sma7d\"}], \"x\": {\"type\": \"temporal\", \"field\": \"date\"}, \"y\": {\"type\": \"quantitative\", \"field\": \"positiveRate\"}}, \"transform\": [{\"filter\": {\"selection\": \"selector009\"}}]}, {\"mark\": {\"type\": \"text\", \"align\": \"left\", \"dx\": 5, \"dy\": -5}, \"encoding\": {\"text\": {\"type\": \"quantitative\", \"field\": \"positiveRate\"}, \"tooltip\": [{\"type\": \"temporal\", \"field\": \"date\"}, {\"type\": \"quantitative\", \"field\": \"positiveRate\"}, {\"type\": \"quantitative\", \"field\": \"sma7d\"}], \"x\": {\"type\": \"temporal\", \"field\": \"date\"}, \"y\": {\"type\": \"quantitative\", \"field\": \"positiveRate\"}}, \"transform\": [{\"filter\": {\"selection\": \"selector009\"}}]}], \"data\": {\"name\": \"data-404e3d1cddef7b53becdf5558b17a40b\"}, \"height\": 400, \"title\": \"New York: positiveRate\", \"width\": 500, \"$schema\": \"https://vega.github.io/schema/vega-lite/v4.8.1.json\", \"datasets\": {\"data-404e3d1cddef7b53becdf5558b17a40b\": [{\"date\": \"2020-12-04T00:00:00\", \"totalTestResultsIncrease\": 208297.0, \"positiveIncrease\": 11271.0, \"death\": 27017.0, \"deathIncrease\": 62.0, \"positiveRate\": 0.054, \"state\": \"New York\", \"sma7d\": 0.047}, {\"date\": \"2020-12-05T00:00:00\", \"totalTestResultsIncrease\": 215401.0, \"positiveIncrease\": 10761.0, \"death\": 27089.0, \"deathIncrease\": 72.0, \"positiveRate\": 0.05, \"state\": \"New York\", \"sma7d\": 0.048}, {\"date\": \"2020-12-06T00:00:00\", \"totalTestResultsIncrease\": 205832.0, \"positiveIncrease\": 9702.0, \"death\": 27149.0, \"deathIncrease\": 60.0, \"positiveRate\": 0.047, \"state\": \"New York\", \"sma7d\": 0.049}, {\"date\": \"2020-12-07T00:00:00\", \"totalTestResultsIncrease\": 152287.0, \"positiveIncrease\": 7302.0, \"death\": 27232.0, \"deathIncrease\": 83.0, \"positiveRate\": 0.048, \"state\": \"New York\", \"sma7d\": 0.049}, {\"date\": \"2020-12-08T00:00:00\", \"totalTestResultsIncrease\": 162464.0, \"positiveIncrease\": 9335.0, \"death\": 27307.0, \"deathIncrease\": 75.0, \"positiveRate\": 0.057, \"state\": \"New York\", \"sma7d\": 0.05}, {\"date\": \"2020-12-09T00:00:00\", \"totalTestResultsIncrease\": 194595.0, \"positiveIncrease\": 10600.0, \"death\": 27404.0, \"deathIncrease\": 97.0, \"positiveRate\": 0.054, \"state\": \"New York\", \"sma7d\": 0.051}, {\"date\": \"2020-12-10T00:00:00\", \"totalTestResultsIncrease\": 197406.0, \"positiveIncrease\": 10178.0, \"death\": 27498.0, \"deathIncrease\": 94.0, \"positiveRate\": 0.052, \"state\": \"New York\", \"sma7d\": 0.052}, {\"date\": \"2020-12-11T00:00:00\", \"totalTestResultsIncrease\": 212672.0, \"positiveIncrease\": 10595.0, \"death\": 27587.0, \"deathIncrease\": 89.0, \"positiveRate\": 0.05, \"state\": \"New York\", \"sma7d\": 0.051}, {\"date\": \"2020-12-12T00:00:00\", \"totalTestResultsIncrease\": 242927.0, \"positiveIncrease\": 11129.0, \"death\": 27675.0, \"deathIncrease\": 88.0, \"positiveRate\": 0.046, \"state\": \"New York\", \"sma7d\": 0.051}, {\"date\": \"2020-12-13T00:00:00\", \"totalTestResultsIncrease\": 205250.0, \"positiveIncrease\": 10194.0, \"death\": 27785.0, \"deathIncrease\": 110.0, \"positiveRate\": 0.05, \"state\": \"New York\", \"sma7d\": 0.051}, {\"date\": \"2020-12-14T00:00:00\", \"totalTestResultsIncrease\": 159844.0, \"positiveIncrease\": 9044.0, \"death\": 27870.0, \"deathIncrease\": 85.0, \"positiveRate\": 0.057, \"state\": \"New York\", \"sma7d\": 0.052}, {\"date\": \"2020-12-15T00:00:00\", \"totalTestResultsIncrease\": 194188.0, \"positiveIncrease\": 10353.0, \"death\": 28002.0, \"deathIncrease\": 132.0, \"positiveRate\": 0.053, \"state\": \"New York\", \"sma7d\": 0.052}, {\"date\": \"2020-12-16T00:00:00\", \"totalTestResultsIncrease\": 160947.0, \"positiveIncrease\": 9998.0, \"death\": 28100.0, \"deathIncrease\": 98.0, \"positiveRate\": 0.062, \"state\": \"New York\", \"sma7d\": 0.053}, {\"date\": \"2020-12-17T00:00:00\", \"totalTestResultsIncrease\": 202772.0, \"positiveIncrease\": 10914.0, \"death\": 28222.0, \"deathIncrease\": 122.0, \"positiveRate\": 0.054, \"state\": \"New York\", \"sma7d\": 0.053}, {\"date\": \"2020-12-18T00:00:00\", \"totalTestResultsIncrease\": 249385.0, \"positiveIncrease\": 12697.0, \"death\": 28344.0, \"deathIncrease\": 122.0, \"positiveRate\": 0.051, \"state\": \"New York\", \"sma7d\": 0.053}, {\"date\": \"2020-12-19T00:00:00\", \"totalTestResultsIncrease\": 191476.0, \"positiveIncrease\": 9919.0, \"death\": 28474.0, \"deathIncrease\": 130.0, \"positiveRate\": 0.052, \"state\": \"New York\", \"sma7d\": 0.054}, {\"date\": \"2020-12-20T00:00:00\", \"totalTestResultsIncrease\": 197251.0, \"positiveIncrease\": 9957.0, \"death\": 28598.0, \"deathIncrease\": 124.0, \"positiveRate\": 0.05, \"state\": \"New York\", \"sma7d\": 0.054}, {\"date\": \"2020-12-21T00:00:00\", \"totalTestResultsIncrease\": 156510.0, \"positiveIncrease\": 9007.0, \"death\": 28709.0, \"deathIncrease\": 111.0, \"positiveRate\": 0.058, \"state\": \"New York\", \"sma7d\": 0.054}, {\"date\": \"2020-12-22T00:00:00\", \"totalTestResultsIncrease\": 164868.0, \"positiveIncrease\": 9716.0, \"death\": 28850.0, \"deathIncrease\": 141.0, \"positiveRate\": 0.059, \"state\": \"New York\", \"sma7d\": 0.055}, {\"date\": \"2020-12-23T00:00:00\", \"totalTestResultsIncrease\": 204361.0, \"positiveIncrease\": 11937.0, \"death\": 29016.0, \"deathIncrease\": 166.0, \"positiveRate\": 0.058, \"state\": \"New York\", \"sma7d\": 0.055}, {\"date\": \"2020-12-24T00:00:00\", \"totalTestResultsIncrease\": 226296.0, \"positiveIncrease\": 12568.0, \"death\": 29149.0, \"deathIncrease\": 133.0, \"positiveRate\": 0.056, \"state\": \"New York\", \"sma7d\": 0.055}, {\"date\": \"2020-12-25T00:00:00\", \"totalTestResultsIncrease\": 226560.0, \"positiveIncrease\": 12446.0, \"death\": 29270.0, \"deathIncrease\": 121.0, \"positiveRate\": 0.055, \"state\": \"New York\", \"sma7d\": 0.055}, {\"date\": \"2020-12-26T00:00:00\", \"totalTestResultsIncrease\": 201442.0, \"positiveIncrease\": 10806.0, \"death\": 29396.0, \"deathIncrease\": 126.0, \"positiveRate\": 0.054, \"state\": \"New York\", \"sma7d\": 0.056}, {\"date\": \"2020-12-27T00:00:00\", \"totalTestResultsIncrease\": 130299.0, \"positiveIncrease\": 7623.0, \"death\": 29511.0, \"deathIncrease\": 115.0, \"positiveRate\": 0.059, \"state\": \"New York\", \"sma7d\": 0.057}, {\"date\": \"2020-12-28T00:00:00\", \"totalTestResultsIncrease\": 124866.0, \"positiveIncrease\": 10407.0, \"death\": 29629.0, \"deathIncrease\": 118.0, \"positiveRate\": 0.083, \"state\": \"New York\", \"sma7d\": 0.061}, {\"date\": \"2020-12-29T00:00:00\", \"totalTestResultsIncrease\": 160164.0, \"positiveIncrease\": 11438.0, \"death\": 29756.0, \"deathIncrease\": 127.0, \"positiveRate\": 0.071, \"state\": \"New York\", \"sma7d\": 0.062}, {\"date\": \"2020-12-30T00:00:00\", \"totalTestResultsIncrease\": 154949.0, \"positiveIncrease\": 13422.0, \"death\": 29905.0, \"deathIncrease\": 149.0, \"positiveRate\": 0.087, \"state\": \"New York\", \"sma7d\": 0.066}, {\"date\": \"2020-12-31T00:00:00\", \"totalTestResultsIncrease\": 216587.0, \"positiveIncrease\": 16802.0, \"death\": 30040.0, \"deathIncrease\": 135.0, \"positiveRate\": 0.078, \"state\": \"New York\", \"sma7d\": 0.07}, {\"date\": \"2021-01-01T00:00:00\", \"totalTestResultsIncrease\": 219253.0, \"positiveIncrease\": 16497.0, \"death\": 30208.0, \"deathIncrease\": 168.0, \"positiveRate\": 0.075, \"state\": \"New York\", \"sma7d\": 0.072}, {\"date\": \"2021-01-02T00:00:00\", \"totalTestResultsIncrease\": 202446.0, \"positiveIncrease\": 15074.0, \"death\": 30337.0, \"deathIncrease\": 129.0, \"positiveRate\": 0.074, \"state\": \"New York\", \"sma7d\": 0.075}, {\"date\": \"2021-01-03T00:00:00\", \"totalTestResultsIncrease\": 142345.0, \"positiveIncrease\": 11368.0, \"death\": 30476.0, \"deathIncrease\": 139.0, \"positiveRate\": 0.08, \"state\": \"New York\", \"sma7d\": 0.078}, {\"date\": \"2021-01-04T00:00:00\", \"totalTestResultsIncrease\": 134360.0, \"positiveIncrease\": 11209.0, \"death\": 30648.0, \"deathIncrease\": 172.0, \"positiveRate\": 0.083, \"state\": \"New York\", \"sma7d\": 0.078}, {\"date\": \"2021-01-05T00:00:00\", \"totalTestResultsIncrease\": 152402.0, \"positiveIncrease\": 12666.0, \"death\": 30802.0, \"deathIncrease\": 154.0, \"positiveRate\": 0.083, \"state\": \"New York\", \"sma7d\": 0.08}, {\"date\": \"2021-01-06T00:00:00\", \"totalTestResultsIncrease\": 197816.0, \"positiveIncrease\": 16648.0, \"death\": 30965.0, \"deathIncrease\": 163.0, \"positiveRate\": 0.084, \"state\": \"New York\", \"sma7d\": 0.08}, {\"date\": \"2021-01-07T00:00:00\", \"totalTestResultsIncrease\": 238550.0, \"positiveIncrease\": 17636.0, \"death\": 31164.0, \"deathIncrease\": 199.0, \"positiveRate\": 0.074, \"state\": \"New York\", \"sma7d\": 0.079}, {\"date\": \"2021-01-08T00:00:00\", \"totalTestResultsIncrease\": 243903.0, \"positiveIncrease\": 18832.0, \"death\": 31329.0, \"deathIncrease\": 165.0, \"positiveRate\": 0.077, \"state\": \"New York\", \"sma7d\": 0.079}, {\"date\": \"2021-01-09T00:00:00\", \"totalTestResultsIncrease\": 258031.0, \"positiveIncrease\": 16943.0, \"death\": 31519.0, \"deathIncrease\": 190.0, \"positiveRate\": 0.066, \"state\": \"New York\", \"sma7d\": 0.078}, {\"date\": \"2021-01-10T00:00:00\", \"totalTestResultsIncrease\": 246836.0, \"positiveIncrease\": 15355.0, \"death\": 31672.0, \"deathIncrease\": 153.0, \"positiveRate\": 0.062, \"state\": \"New York\", \"sma7d\": 0.076}, {\"date\": \"2021-01-11T00:00:00\", \"totalTestResultsIncrease\": 203904.0, \"positiveIncrease\": 13714.0, \"death\": 31841.0, \"deathIncrease\": 169.0, \"positiveRate\": 0.067, \"state\": \"New York\", \"sma7d\": 0.073}, {\"date\": \"2021-01-12T00:00:00\", \"totalTestResultsIncrease\": 196671.0, \"positiveIncrease\": 15214.0, \"death\": 32007.0, \"deathIncrease\": 166.0, \"positiveRate\": 0.077, \"state\": \"New York\", \"sma7d\": 0.072}, {\"date\": \"2021-01-13T00:00:00\", \"totalTestResultsIncrease\": 196868.0, \"positiveIncrease\": 14577.0, \"death\": 32175.0, \"deathIncrease\": 168.0, \"positiveRate\": 0.074, \"state\": \"New York\", \"sma7d\": 0.071}, {\"date\": \"2021-01-14T00:00:00\", \"totalTestResultsIncrease\": 212589.0, \"positiveIncrease\": 13661.0, \"death\": 32379.0, \"deathIncrease\": 204.0, \"positiveRate\": 0.064, \"state\": \"New York\", \"sma7d\": 0.07}, {\"date\": \"2021-01-15T00:00:00\", \"totalTestResultsIncrease\": 324671.0, \"positiveIncrease\": 19942.0, \"death\": 32566.0, \"deathIncrease\": 187.0, \"positiveRate\": 0.061, \"state\": \"New York\", \"sma7d\": 0.067}, {\"date\": \"2021-01-16T00:00:00\", \"totalTestResultsIncrease\": 277286.0, \"positiveIncrease\": 15998.0, \"death\": 32725.0, \"deathIncrease\": 159.0, \"positiveRate\": 0.058, \"state\": \"New York\", \"sma7d\": 0.066}, {\"date\": \"2021-01-17T00:00:00\", \"totalTestResultsIncrease\": 246507.0, \"positiveIncrease\": 13842.0, \"death\": 32897.0, \"deathIncrease\": 172.0, \"positiveRate\": 0.056, \"state\": \"New York\", \"sma7d\": 0.065}, {\"date\": \"2021-01-18T00:00:00\", \"totalTestResultsIncrease\": 186205.0, \"positiveIncrease\": 12185.0, \"death\": 33052.0, \"deathIncrease\": 155.0, \"positiveRate\": 0.065, \"state\": \"New York\", \"sma7d\": 0.065}, {\"date\": \"2021-01-19T00:00:00\", \"totalTestResultsIncrease\": 177269.0, \"positiveIncrease\": 12512.0, \"death\": 33224.0, \"deathIncrease\": 172.0, \"positiveRate\": 0.071, \"state\": \"New York\", \"sma7d\": 0.064}, {\"date\": \"2021-01-20T00:00:00\", \"totalTestResultsIncrease\": 195409.0, \"positiveIncrease\": 13364.0, \"death\": 33415.0, \"deathIncrease\": 191.0, \"positiveRate\": 0.068, \"state\": \"New York\", \"sma7d\": 0.063}, {\"date\": \"2021-01-21T00:00:00\", \"totalTestResultsIncrease\": 224569.0, \"positiveIncrease\": 13886.0, \"death\": 33594.0, \"deathIncrease\": 179.0, \"positiveRate\": 0.062, \"state\": \"New York\", \"sma7d\": 0.063}, {\"date\": \"2021-01-22T00:00:00\", \"totalTestResultsIncrease\": 268001.0, \"positiveIncrease\": 15144.0, \"death\": 33763.0, \"deathIncrease\": 169.0, \"positiveRate\": 0.057, \"state\": \"New York\", \"sma7d\": 0.062}, {\"date\": \"2021-01-23T00:00:00\", \"totalTestResultsIncrease\": 262106.0, \"positiveIncrease\": 13786.0, \"death\": 33907.0, \"deathIncrease\": 144.0, \"positiveRate\": 0.053, \"state\": \"New York\", \"sma7d\": 0.062}, {\"date\": \"2021-01-24T00:00:00\", \"totalTestResultsIncrease\": 249955.0, \"positiveIncrease\": 12720.0, \"death\": 34069.0, \"deathIncrease\": 162.0, \"positiveRate\": 0.051, \"state\": \"New York\", \"sma7d\": 0.061}, {\"date\": \"2021-01-25T00:00:00\", \"totalTestResultsIncrease\": 219538.0, \"positiveIncrease\": 12003.0, \"death\": 34242.0, \"deathIncrease\": 173.0, \"positiveRate\": 0.055, \"state\": \"New York\", \"sma7d\": 0.06}, {\"date\": \"2021-01-26T00:00:00\", \"totalTestResultsIncrease\": 162938.0, \"positiveIncrease\": 11064.0, \"death\": 34407.0, \"deathIncrease\": 165.0, \"positiveRate\": 0.068, \"state\": \"New York\", \"sma7d\": 0.059}, {\"date\": \"2021-01-27T00:00:00\", \"totalTestResultsIncrease\": 202661.0, \"positiveIncrease\": 11028.0, \"death\": 34579.0, \"deathIncrease\": 172.0, \"positiveRate\": 0.054, \"state\": \"New York\", \"sma7d\": 0.057}]}}, {\"mode\": \"vega-lite\"});\n",
       "</script>"
      ],
      "text/plain": [
       "alt.LayerChart(...)"
      ]
     },
     "execution_count": 12,
     "metadata": {},
     "output_type": "execute_result"
    }
   ],
   "source": [
    "create_plot(ny, 'positiveRate')"
   ]
  },
  {
   "cell_type": "code",
   "execution_count": 13,
   "id": "instrumental-capture",
   "metadata": {
    "execution": {
     "iopub.execute_input": "2021-01-28T09:33:02.821988Z",
     "iopub.status.busy": "2021-01-28T09:33:02.821412Z",
     "iopub.status.idle": "2021-01-28T09:33:02.914011Z",
     "shell.execute_reply": "2021-01-28T09:33:02.914491Z"
    },
    "papermill": {
     "duration": 0.118269,
     "end_time": "2021-01-28T09:33:02.914644",
     "exception": false,
     "start_time": "2021-01-28T09:33:02.796375",
     "status": "completed"
    },
    "tags": []
   },
   "outputs": [
    {
     "data": {
      "text/html": [
       "\n",
       "<div id=\"altair-viz-f28a19a3ec5c446b8872dd883875bf3e\"></div>\n",
       "<script type=\"text/javascript\">\n",
       "  (function(spec, embedOpt){\n",
       "    let outputDiv = document.currentScript.previousElementSibling;\n",
       "    if (outputDiv.id !== \"altair-viz-f28a19a3ec5c446b8872dd883875bf3e\") {\n",
       "      outputDiv = document.getElementById(\"altair-viz-f28a19a3ec5c446b8872dd883875bf3e\");\n",
       "    }\n",
       "    const paths = {\n",
       "      \"vega\": \"https://cdn.jsdelivr.net/npm//vega@5?noext\",\n",
       "      \"vega-lib\": \"https://cdn.jsdelivr.net/npm//vega-lib?noext\",\n",
       "      \"vega-lite\": \"https://cdn.jsdelivr.net/npm//vega-lite@4.8.1?noext\",\n",
       "      \"vega-embed\": \"https://cdn.jsdelivr.net/npm//vega-embed@6?noext\",\n",
       "    };\n",
       "\n",
       "    function loadScript(lib) {\n",
       "      return new Promise(function(resolve, reject) {\n",
       "        var s = document.createElement('script');\n",
       "        s.src = paths[lib];\n",
       "        s.async = true;\n",
       "        s.onload = () => resolve(paths[lib]);\n",
       "        s.onerror = () => reject(`Error loading script: ${paths[lib]}`);\n",
       "        document.getElementsByTagName(\"head\")[0].appendChild(s);\n",
       "      });\n",
       "    }\n",
       "\n",
       "    function showError(err) {\n",
       "      outputDiv.innerHTML = `<div class=\"error\" style=\"color:red;\">${err}</div>`;\n",
       "      throw err;\n",
       "    }\n",
       "\n",
       "    function displayChart(vegaEmbed) {\n",
       "      vegaEmbed(outputDiv, spec, embedOpt)\n",
       "        .catch(err => showError(`Javascript Error: ${err.message}<br>This usually means there's a typo in your chart specification. See the javascript console for the full traceback.`));\n",
       "    }\n",
       "\n",
       "    if(typeof define === \"function\" && define.amd) {\n",
       "      requirejs.config({paths});\n",
       "      require([\"vega-embed\"], displayChart, err => showError(`Error loading script: ${err.message}`));\n",
       "    } else if (typeof vegaEmbed === \"function\") {\n",
       "      displayChart(vegaEmbed);\n",
       "    } else {\n",
       "      loadScript(\"vega\")\n",
       "        .then(() => loadScript(\"vega-lite\"))\n",
       "        .then(() => loadScript(\"vega-embed\"))\n",
       "        .catch(showError)\n",
       "        .then(() => displayChart(vegaEmbed));\n",
       "    }\n",
       "  })({\"config\": {\"view\": {\"continuousWidth\": 400, \"continuousHeight\": 300}}, \"layer\": [{\"layer\": [{\"mark\": {\"type\": \"point\", \"size\": 75}, \"encoding\": {\"tooltip\": [{\"type\": \"temporal\", \"field\": \"date\"}, {\"type\": \"quantitative\", \"field\": \"deathIncrease\"}, {\"type\": \"quantitative\", \"field\": \"sma7d\"}], \"x\": {\"type\": \"temporal\", \"field\": \"date\"}, \"y\": {\"type\": \"quantitative\", \"field\": \"deathIncrease\"}}, \"selection\": {\"selector012\": {\"type\": \"interval\", \"bind\": \"scales\", \"encodings\": [\"x\", \"y\"]}}}, {\"mark\": {\"type\": \"line\", \"color\": \"purple\"}, \"encoding\": {\"x\": {\"type\": \"temporal\", \"field\": \"date\"}, \"y\": {\"type\": \"quantitative\", \"field\": \"sma7d\"}}}]}, {\"mark\": {\"type\": \"rule\", \"color\": \"#aaa\"}, \"encoding\": {\"x\": {\"type\": \"temporal\", \"field\": \"date\"}}, \"transform\": [{\"filter\": {\"selection\": \"selector011\"}}]}, {\"mark\": \"circle\", \"encoding\": {\"opacity\": {\"condition\": {\"value\": 1, \"selection\": \"selector011\"}, \"value\": 0}, \"tooltip\": [{\"type\": \"temporal\", \"field\": \"date\"}, {\"type\": \"quantitative\", \"field\": \"deathIncrease\"}, {\"type\": \"quantitative\", \"field\": \"sma7d\"}], \"x\": {\"type\": \"temporal\", \"field\": \"date\"}, \"y\": {\"type\": \"quantitative\", \"field\": \"deathIncrease\"}}, \"selection\": {\"selector011\": {\"type\": \"single\", \"encodings\": [\"x\"], \"on\": \"mouseover\", \"nearest\": true, \"empty\": \"none\"}}}, {\"mark\": {\"type\": \"text\", \"align\": \"left\", \"dx\": 5, \"dy\": -5, \"stroke\": \"white\", \"strokeWidth\": 2}, \"encoding\": {\"text\": {\"type\": \"quantitative\", \"field\": \"deathIncrease\"}, \"tooltip\": [{\"type\": \"temporal\", \"field\": \"date\"}, {\"type\": \"quantitative\", \"field\": \"deathIncrease\"}, {\"type\": \"quantitative\", \"field\": \"sma7d\"}], \"x\": {\"type\": \"temporal\", \"field\": \"date\"}, \"y\": {\"type\": \"quantitative\", \"field\": \"deathIncrease\"}}, \"transform\": [{\"filter\": {\"selection\": \"selector011\"}}]}, {\"mark\": {\"type\": \"text\", \"align\": \"left\", \"dx\": 5, \"dy\": -5}, \"encoding\": {\"text\": {\"type\": \"quantitative\", \"field\": \"deathIncrease\"}, \"tooltip\": [{\"type\": \"temporal\", \"field\": \"date\"}, {\"type\": \"quantitative\", \"field\": \"deathIncrease\"}, {\"type\": \"quantitative\", \"field\": \"sma7d\"}], \"x\": {\"type\": \"temporal\", \"field\": \"date\"}, \"y\": {\"type\": \"quantitative\", \"field\": \"deathIncrease\"}}, \"transform\": [{\"filter\": {\"selection\": \"selector011\"}}]}], \"data\": {\"name\": \"data-898d593ca2e7c5fc189b7c113ba6adb2\"}, \"height\": 400, \"title\": \"New York: deathIncrease\", \"width\": 500, \"$schema\": \"https://vega.github.io/schema/vega-lite/v4.8.1.json\", \"datasets\": {\"data-898d593ca2e7c5fc189b7c113ba6adb2\": [{\"date\": \"2020-12-04T00:00:00\", \"totalTestResultsIncrease\": 208297.0, \"positiveIncrease\": 11271.0, \"death\": 27017.0, \"deathIncrease\": 62.0, \"positiveRate\": 0.054, \"state\": \"New York\", \"sma7d\": 61.286}, {\"date\": \"2020-12-05T00:00:00\", \"totalTestResultsIncrease\": 215401.0, \"positiveIncrease\": 10761.0, \"death\": 27089.0, \"deathIncrease\": 72.0, \"positiveRate\": 0.05, \"state\": \"New York\", \"sma7d\": 65.286}, {\"date\": \"2020-12-06T00:00:00\", \"totalTestResultsIncrease\": 205832.0, \"positiveIncrease\": 9702.0, \"death\": 27149.0, \"deathIncrease\": 60.0, \"positiveRate\": 0.047, \"state\": \"New York\", \"sma7d\": 65.571}, {\"date\": \"2020-12-07T00:00:00\", \"totalTestResultsIncrease\": 152287.0, \"positiveIncrease\": 7302.0, \"death\": 27232.0, \"deathIncrease\": 83.0, \"positiveRate\": 0.048, \"state\": \"New York\", \"sma7d\": 69.286}, {\"date\": \"2020-12-08T00:00:00\", \"totalTestResultsIncrease\": 162464.0, \"positiveIncrease\": 9335.0, \"death\": 27307.0, \"deathIncrease\": 75.0, \"positiveRate\": 0.057, \"state\": \"New York\", \"sma7d\": 70.143}, {\"date\": \"2020-12-09T00:00:00\", \"totalTestResultsIncrease\": 194595.0, \"positiveIncrease\": 10600.0, \"death\": 27404.0, \"deathIncrease\": 97.0, \"positiveRate\": 0.054, \"state\": \"New York\", \"sma7d\": 73.571}, {\"date\": \"2020-12-10T00:00:00\", \"totalTestResultsIncrease\": 197406.0, \"positiveIncrease\": 10178.0, \"death\": 27498.0, \"deathIncrease\": 94.0, \"positiveRate\": 0.052, \"state\": \"New York\", \"sma7d\": 77.571}, {\"date\": \"2020-12-11T00:00:00\", \"totalTestResultsIncrease\": 212672.0, \"positiveIncrease\": 10595.0, \"death\": 27587.0, \"deathIncrease\": 89.0, \"positiveRate\": 0.05, \"state\": \"New York\", \"sma7d\": 81.429}, {\"date\": \"2020-12-12T00:00:00\", \"totalTestResultsIncrease\": 242927.0, \"positiveIncrease\": 11129.0, \"death\": 27675.0, \"deathIncrease\": 88.0, \"positiveRate\": 0.046, \"state\": \"New York\", \"sma7d\": 83.714}, {\"date\": \"2020-12-13T00:00:00\", \"totalTestResultsIncrease\": 205250.0, \"positiveIncrease\": 10194.0, \"death\": 27785.0, \"deathIncrease\": 110.0, \"positiveRate\": 0.05, \"state\": \"New York\", \"sma7d\": 90.857}, {\"date\": \"2020-12-14T00:00:00\", \"totalTestResultsIncrease\": 159844.0, \"positiveIncrease\": 9044.0, \"death\": 27870.0, \"deathIncrease\": 85.0, \"positiveRate\": 0.057, \"state\": \"New York\", \"sma7d\": 91.143}, {\"date\": \"2020-12-15T00:00:00\", \"totalTestResultsIncrease\": 194188.0, \"positiveIncrease\": 10353.0, \"death\": 28002.0, \"deathIncrease\": 132.0, \"positiveRate\": 0.053, \"state\": \"New York\", \"sma7d\": 99.286}, {\"date\": \"2020-12-16T00:00:00\", \"totalTestResultsIncrease\": 160947.0, \"positiveIncrease\": 9998.0, \"death\": 28100.0, \"deathIncrease\": 98.0, \"positiveRate\": 0.062, \"state\": \"New York\", \"sma7d\": 99.429}, {\"date\": \"2020-12-17T00:00:00\", \"totalTestResultsIncrease\": 202772.0, \"positiveIncrease\": 10914.0, \"death\": 28222.0, \"deathIncrease\": 122.0, \"positiveRate\": 0.054, \"state\": \"New York\", \"sma7d\": 103.429}, {\"date\": \"2020-12-18T00:00:00\", \"totalTestResultsIncrease\": 249385.0, \"positiveIncrease\": 12697.0, \"death\": 28344.0, \"deathIncrease\": 122.0, \"positiveRate\": 0.051, \"state\": \"New York\", \"sma7d\": 108.143}, {\"date\": \"2020-12-19T00:00:00\", \"totalTestResultsIncrease\": 191476.0, \"positiveIncrease\": 9919.0, \"death\": 28474.0, \"deathIncrease\": 130.0, \"positiveRate\": 0.052, \"state\": \"New York\", \"sma7d\": 114.143}, {\"date\": \"2020-12-20T00:00:00\", \"totalTestResultsIncrease\": 197251.0, \"positiveIncrease\": 9957.0, \"death\": 28598.0, \"deathIncrease\": 124.0, \"positiveRate\": 0.05, \"state\": \"New York\", \"sma7d\": 116.143}, {\"date\": \"2020-12-21T00:00:00\", \"totalTestResultsIncrease\": 156510.0, \"positiveIncrease\": 9007.0, \"death\": 28709.0, \"deathIncrease\": 111.0, \"positiveRate\": 0.058, \"state\": \"New York\", \"sma7d\": 119.857}, {\"date\": \"2020-12-22T00:00:00\", \"totalTestResultsIncrease\": 164868.0, \"positiveIncrease\": 9716.0, \"death\": 28850.0, \"deathIncrease\": 141.0, \"positiveRate\": 0.059, \"state\": \"New York\", \"sma7d\": 121.143}, {\"date\": \"2020-12-23T00:00:00\", \"totalTestResultsIncrease\": 204361.0, \"positiveIncrease\": 11937.0, \"death\": 29016.0, \"deathIncrease\": 166.0, \"positiveRate\": 0.058, \"state\": \"New York\", \"sma7d\": 130.857}, {\"date\": \"2020-12-24T00:00:00\", \"totalTestResultsIncrease\": 226296.0, \"positiveIncrease\": 12568.0, \"death\": 29149.0, \"deathIncrease\": 133.0, \"positiveRate\": 0.056, \"state\": \"New York\", \"sma7d\": 132.429}, {\"date\": \"2020-12-25T00:00:00\", \"totalTestResultsIncrease\": 226560.0, \"positiveIncrease\": 12446.0, \"death\": 29270.0, \"deathIncrease\": 121.0, \"positiveRate\": 0.055, \"state\": \"New York\", \"sma7d\": 132.286}, {\"date\": \"2020-12-26T00:00:00\", \"totalTestResultsIncrease\": 201442.0, \"positiveIncrease\": 10806.0, \"death\": 29396.0, \"deathIncrease\": 126.0, \"positiveRate\": 0.054, \"state\": \"New York\", \"sma7d\": 131.714}, {\"date\": \"2020-12-27T00:00:00\", \"totalTestResultsIncrease\": 130299.0, \"positiveIncrease\": 7623.0, \"death\": 29511.0, \"deathIncrease\": 115.0, \"positiveRate\": 0.059, \"state\": \"New York\", \"sma7d\": 130.429}, {\"date\": \"2020-12-28T00:00:00\", \"totalTestResultsIncrease\": 124866.0, \"positiveIncrease\": 10407.0, \"death\": 29629.0, \"deathIncrease\": 118.0, \"positiveRate\": 0.083, \"state\": \"New York\", \"sma7d\": 131.429}, {\"date\": \"2020-12-29T00:00:00\", \"totalTestResultsIncrease\": 160164.0, \"positiveIncrease\": 11438.0, \"death\": 29756.0, \"deathIncrease\": 127.0, \"positiveRate\": 0.071, \"state\": \"New York\", \"sma7d\": 129.429}, {\"date\": \"2020-12-30T00:00:00\", \"totalTestResultsIncrease\": 154949.0, \"positiveIncrease\": 13422.0, \"death\": 29905.0, \"deathIncrease\": 149.0, \"positiveRate\": 0.087, \"state\": \"New York\", \"sma7d\": 127.0}, {\"date\": \"2020-12-31T00:00:00\", \"totalTestResultsIncrease\": 216587.0, \"positiveIncrease\": 16802.0, \"death\": 30040.0, \"deathIncrease\": 135.0, \"positiveRate\": 0.078, \"state\": \"New York\", \"sma7d\": 127.286}, {\"date\": \"2021-01-01T00:00:00\", \"totalTestResultsIncrease\": 219253.0, \"positiveIncrease\": 16497.0, \"death\": 30208.0, \"deathIncrease\": 168.0, \"positiveRate\": 0.075, \"state\": \"New York\", \"sma7d\": 134.0}, {\"date\": \"2021-01-02T00:00:00\", \"totalTestResultsIncrease\": 202446.0, \"positiveIncrease\": 15074.0, \"death\": 30337.0, \"deathIncrease\": 129.0, \"positiveRate\": 0.074, \"state\": \"New York\", \"sma7d\": 134.429}, {\"date\": \"2021-01-03T00:00:00\", \"totalTestResultsIncrease\": 142345.0, \"positiveIncrease\": 11368.0, \"death\": 30476.0, \"deathIncrease\": 139.0, \"positiveRate\": 0.08, \"state\": \"New York\", \"sma7d\": 137.857}, {\"date\": \"2021-01-04T00:00:00\", \"totalTestResultsIncrease\": 134360.0, \"positiveIncrease\": 11209.0, \"death\": 30648.0, \"deathIncrease\": 172.0, \"positiveRate\": 0.083, \"state\": \"New York\", \"sma7d\": 145.571}, {\"date\": \"2021-01-05T00:00:00\", \"totalTestResultsIncrease\": 152402.0, \"positiveIncrease\": 12666.0, \"death\": 30802.0, \"deathIncrease\": 154.0, \"positiveRate\": 0.083, \"state\": \"New York\", \"sma7d\": 149.429}, {\"date\": \"2021-01-06T00:00:00\", \"totalTestResultsIncrease\": 197816.0, \"positiveIncrease\": 16648.0, \"death\": 30965.0, \"deathIncrease\": 163.0, \"positiveRate\": 0.084, \"state\": \"New York\", \"sma7d\": 151.429}, {\"date\": \"2021-01-07T00:00:00\", \"totalTestResultsIncrease\": 238550.0, \"positiveIncrease\": 17636.0, \"death\": 31164.0, \"deathIncrease\": 199.0, \"positiveRate\": 0.074, \"state\": \"New York\", \"sma7d\": 160.571}, {\"date\": \"2021-01-08T00:00:00\", \"totalTestResultsIncrease\": 243903.0, \"positiveIncrease\": 18832.0, \"death\": 31329.0, \"deathIncrease\": 165.0, \"positiveRate\": 0.077, \"state\": \"New York\", \"sma7d\": 160.143}, {\"date\": \"2021-01-09T00:00:00\", \"totalTestResultsIncrease\": 258031.0, \"positiveIncrease\": 16943.0, \"death\": 31519.0, \"deathIncrease\": 190.0, \"positiveRate\": 0.066, \"state\": \"New York\", \"sma7d\": 168.857}, {\"date\": \"2021-01-10T00:00:00\", \"totalTestResultsIncrease\": 246836.0, \"positiveIncrease\": 15355.0, \"death\": 31672.0, \"deathIncrease\": 153.0, \"positiveRate\": 0.062, \"state\": \"New York\", \"sma7d\": 170.857}, {\"date\": \"2021-01-11T00:00:00\", \"totalTestResultsIncrease\": 203904.0, \"positiveIncrease\": 13714.0, \"death\": 31841.0, \"deathIncrease\": 169.0, \"positiveRate\": 0.067, \"state\": \"New York\", \"sma7d\": 170.429}, {\"date\": \"2021-01-12T00:00:00\", \"totalTestResultsIncrease\": 196671.0, \"positiveIncrease\": 15214.0, \"death\": 32007.0, \"deathIncrease\": 166.0, \"positiveRate\": 0.077, \"state\": \"New York\", \"sma7d\": 172.143}, {\"date\": \"2021-01-13T00:00:00\", \"totalTestResultsIncrease\": 196868.0, \"positiveIncrease\": 14577.0, \"death\": 32175.0, \"deathIncrease\": 168.0, \"positiveRate\": 0.074, \"state\": \"New York\", \"sma7d\": 172.857}, {\"date\": \"2021-01-14T00:00:00\", \"totalTestResultsIncrease\": 212589.0, \"positiveIncrease\": 13661.0, \"death\": 32379.0, \"deathIncrease\": 204.0, \"positiveRate\": 0.064, \"state\": \"New York\", \"sma7d\": 173.571}, {\"date\": \"2021-01-15T00:00:00\", \"totalTestResultsIncrease\": 324671.0, \"positiveIncrease\": 19942.0, \"death\": 32566.0, \"deathIncrease\": 187.0, \"positiveRate\": 0.061, \"state\": \"New York\", \"sma7d\": 176.714}, {\"date\": \"2021-01-16T00:00:00\", \"totalTestResultsIncrease\": 277286.0, \"positiveIncrease\": 15998.0, \"death\": 32725.0, \"deathIncrease\": 159.0, \"positiveRate\": 0.058, \"state\": \"New York\", \"sma7d\": 172.286}, {\"date\": \"2021-01-17T00:00:00\", \"totalTestResultsIncrease\": 246507.0, \"positiveIncrease\": 13842.0, \"death\": 32897.0, \"deathIncrease\": 172.0, \"positiveRate\": 0.056, \"state\": \"New York\", \"sma7d\": 175.0}, {\"date\": \"2021-01-18T00:00:00\", \"totalTestResultsIncrease\": 186205.0, \"positiveIncrease\": 12185.0, \"death\": 33052.0, \"deathIncrease\": 155.0, \"positiveRate\": 0.065, \"state\": \"New York\", \"sma7d\": 173.0}, {\"date\": \"2021-01-19T00:00:00\", \"totalTestResultsIncrease\": 177269.0, \"positiveIncrease\": 12512.0, \"death\": 33224.0, \"deathIncrease\": 172.0, \"positiveRate\": 0.071, \"state\": \"New York\", \"sma7d\": 173.857}, {\"date\": \"2021-01-20T00:00:00\", \"totalTestResultsIncrease\": 195409.0, \"positiveIncrease\": 13364.0, \"death\": 33415.0, \"deathIncrease\": 191.0, \"positiveRate\": 0.068, \"state\": \"New York\", \"sma7d\": 177.143}, {\"date\": \"2021-01-21T00:00:00\", \"totalTestResultsIncrease\": 224569.0, \"positiveIncrease\": 13886.0, \"death\": 33594.0, \"deathIncrease\": 179.0, \"positiveRate\": 0.062, \"state\": \"New York\", \"sma7d\": 173.571}, {\"date\": \"2021-01-22T00:00:00\", \"totalTestResultsIncrease\": 268001.0, \"positiveIncrease\": 15144.0, \"death\": 33763.0, \"deathIncrease\": 169.0, \"positiveRate\": 0.057, \"state\": \"New York\", \"sma7d\": 171.0}, {\"date\": \"2021-01-23T00:00:00\", \"totalTestResultsIncrease\": 262106.0, \"positiveIncrease\": 13786.0, \"death\": 33907.0, \"deathIncrease\": 144.0, \"positiveRate\": 0.053, \"state\": \"New York\", \"sma7d\": 168.857}, {\"date\": \"2021-01-24T00:00:00\", \"totalTestResultsIncrease\": 249955.0, \"positiveIncrease\": 12720.0, \"death\": 34069.0, \"deathIncrease\": 162.0, \"positiveRate\": 0.051, \"state\": \"New York\", \"sma7d\": 167.429}, {\"date\": \"2021-01-25T00:00:00\", \"totalTestResultsIncrease\": 219538.0, \"positiveIncrease\": 12003.0, \"death\": 34242.0, \"deathIncrease\": 173.0, \"positiveRate\": 0.055, \"state\": \"New York\", \"sma7d\": 170.0}, {\"date\": \"2021-01-26T00:00:00\", \"totalTestResultsIncrease\": 162938.0, \"positiveIncrease\": 11064.0, \"death\": 34407.0, \"deathIncrease\": 165.0, \"positiveRate\": 0.068, \"state\": \"New York\", \"sma7d\": 169.0}, {\"date\": \"2021-01-27T00:00:00\", \"totalTestResultsIncrease\": 202661.0, \"positiveIncrease\": 11028.0, \"death\": 34579.0, \"deathIncrease\": 172.0, \"positiveRate\": 0.054, \"state\": \"New York\", \"sma7d\": 166.286}]}}, {\"mode\": \"vega-lite\"});\n",
       "</script>"
      ],
      "text/plain": [
       "alt.LayerChart(...)"
      ]
     },
     "execution_count": 13,
     "metadata": {},
     "output_type": "execute_result"
    }
   ],
   "source": [
    "create_plot(ny, 'deathIncrease')"
   ]
  },
  {
   "cell_type": "markdown",
   "id": "negative-entity",
   "metadata": {
    "papermill": {
     "duration": 0.02216,
     "end_time": "2021-01-28T09:33:02.961143",
     "exception": false,
     "start_time": "2021-01-28T09:33:02.938983",
     "status": "completed"
    },
    "tags": []
   },
   "source": [
    "## Non Tri-State"
   ]
  },
  {
   "cell_type": "code",
   "execution_count": 14,
   "id": "statutory-burton",
   "metadata": {
    "execution": {
     "iopub.execute_input": "2021-01-28T09:33:03.004234Z",
     "iopub.status.busy": "2021-01-28T09:33:03.003605Z",
     "iopub.status.idle": "2021-01-28T09:33:03.486174Z",
     "shell.execute_reply": "2021-01-28T09:33:03.486640Z"
    },
    "papermill": {
     "duration": 0.505932,
     "end_time": "2021-01-28T09:33:03.486815",
     "exception": false,
     "start_time": "2021-01-28T09:33:02.980883",
     "status": "completed"
    },
    "tags": []
   },
   "outputs": [],
   "source": [
    "non_tristate = create_df(df, lambda d: ~d['state'].isin(['CT','NJ','NY']), 'Non Tri-State')"
   ]
  },
  {
   "cell_type": "code",
   "execution_count": 15,
   "id": "dimensional-hollow",
   "metadata": {
    "execution": {
     "iopub.execute_input": "2021-01-28T09:33:03.534134Z",
     "iopub.status.busy": "2021-01-28T09:33:03.533556Z",
     "iopub.status.idle": "2021-01-28T09:33:03.625347Z",
     "shell.execute_reply": "2021-01-28T09:33:03.625833Z"
    },
    "papermill": {
     "duration": 0.119854,
     "end_time": "2021-01-28T09:33:03.625992",
     "exception": false,
     "start_time": "2021-01-28T09:33:03.506138",
     "status": "completed"
    },
    "tags": []
   },
   "outputs": [
    {
     "data": {
      "text/html": [
       "\n",
       "<div id=\"altair-viz-27d38e66adc24063aa950f5d327cfc0c\"></div>\n",
       "<script type=\"text/javascript\">\n",
       "  (function(spec, embedOpt){\n",
       "    let outputDiv = document.currentScript.previousElementSibling;\n",
       "    if (outputDiv.id !== \"altair-viz-27d38e66adc24063aa950f5d327cfc0c\") {\n",
       "      outputDiv = document.getElementById(\"altair-viz-27d38e66adc24063aa950f5d327cfc0c\");\n",
       "    }\n",
       "    const paths = {\n",
       "      \"vega\": \"https://cdn.jsdelivr.net/npm//vega@5?noext\",\n",
       "      \"vega-lib\": \"https://cdn.jsdelivr.net/npm//vega-lib?noext\",\n",
       "      \"vega-lite\": \"https://cdn.jsdelivr.net/npm//vega-lite@4.8.1?noext\",\n",
       "      \"vega-embed\": \"https://cdn.jsdelivr.net/npm//vega-embed@6?noext\",\n",
       "    };\n",
       "\n",
       "    function loadScript(lib) {\n",
       "      return new Promise(function(resolve, reject) {\n",
       "        var s = document.createElement('script');\n",
       "        s.src = paths[lib];\n",
       "        s.async = true;\n",
       "        s.onload = () => resolve(paths[lib]);\n",
       "        s.onerror = () => reject(`Error loading script: ${paths[lib]}`);\n",
       "        document.getElementsByTagName(\"head\")[0].appendChild(s);\n",
       "      });\n",
       "    }\n",
       "\n",
       "    function showError(err) {\n",
       "      outputDiv.innerHTML = `<div class=\"error\" style=\"color:red;\">${err}</div>`;\n",
       "      throw err;\n",
       "    }\n",
       "\n",
       "    function displayChart(vegaEmbed) {\n",
       "      vegaEmbed(outputDiv, spec, embedOpt)\n",
       "        .catch(err => showError(`Javascript Error: ${err.message}<br>This usually means there's a typo in your chart specification. See the javascript console for the full traceback.`));\n",
       "    }\n",
       "\n",
       "    if(typeof define === \"function\" && define.amd) {\n",
       "      requirejs.config({paths});\n",
       "      require([\"vega-embed\"], displayChart, err => showError(`Error loading script: ${err.message}`));\n",
       "    } else if (typeof vegaEmbed === \"function\") {\n",
       "      displayChart(vegaEmbed);\n",
       "    } else {\n",
       "      loadScript(\"vega\")\n",
       "        .then(() => loadScript(\"vega-lite\"))\n",
       "        .then(() => loadScript(\"vega-embed\"))\n",
       "        .catch(showError)\n",
       "        .then(() => displayChart(vegaEmbed));\n",
       "    }\n",
       "  })({\"config\": {\"view\": {\"continuousWidth\": 400, \"continuousHeight\": 300}}, \"layer\": [{\"layer\": [{\"mark\": {\"type\": \"point\", \"size\": 75}, \"encoding\": {\"tooltip\": [{\"type\": \"temporal\", \"field\": \"date\"}, {\"type\": \"quantitative\", \"field\": \"positiveIncrease\"}, {\"type\": \"quantitative\", \"field\": \"sma7d\"}], \"x\": {\"type\": \"temporal\", \"field\": \"date\"}, \"y\": {\"type\": \"quantitative\", \"field\": \"positiveIncrease\"}}, \"selection\": {\"selector014\": {\"type\": \"interval\", \"bind\": \"scales\", \"encodings\": [\"x\", \"y\"]}}}, {\"mark\": {\"type\": \"line\", \"color\": \"purple\"}, \"encoding\": {\"x\": {\"type\": \"temporal\", \"field\": \"date\"}, \"y\": {\"type\": \"quantitative\", \"field\": \"sma7d\"}}}]}, {\"mark\": {\"type\": \"rule\", \"color\": \"#aaa\"}, \"encoding\": {\"x\": {\"type\": \"temporal\", \"field\": \"date\"}}, \"transform\": [{\"filter\": {\"selection\": \"selector013\"}}]}, {\"mark\": \"circle\", \"encoding\": {\"opacity\": {\"condition\": {\"value\": 1, \"selection\": \"selector013\"}, \"value\": 0}, \"tooltip\": [{\"type\": \"temporal\", \"field\": \"date\"}, {\"type\": \"quantitative\", \"field\": \"positiveIncrease\"}, {\"type\": \"quantitative\", \"field\": \"sma7d\"}], \"x\": {\"type\": \"temporal\", \"field\": \"date\"}, \"y\": {\"type\": \"quantitative\", \"field\": \"positiveIncrease\"}}, \"selection\": {\"selector013\": {\"type\": \"single\", \"encodings\": [\"x\"], \"on\": \"mouseover\", \"nearest\": true, \"empty\": \"none\"}}}, {\"mark\": {\"type\": \"text\", \"align\": \"left\", \"dx\": 5, \"dy\": -5, \"stroke\": \"white\", \"strokeWidth\": 2}, \"encoding\": {\"text\": {\"type\": \"quantitative\", \"field\": \"positiveIncrease\"}, \"tooltip\": [{\"type\": \"temporal\", \"field\": \"date\"}, {\"type\": \"quantitative\", \"field\": \"positiveIncrease\"}, {\"type\": \"quantitative\", \"field\": \"sma7d\"}], \"x\": {\"type\": \"temporal\", \"field\": \"date\"}, \"y\": {\"type\": \"quantitative\", \"field\": \"positiveIncrease\"}}, \"transform\": [{\"filter\": {\"selection\": \"selector013\"}}]}, {\"mark\": {\"type\": \"text\", \"align\": \"left\", \"dx\": 5, \"dy\": -5}, \"encoding\": {\"text\": {\"type\": \"quantitative\", \"field\": \"positiveIncrease\"}, \"tooltip\": [{\"type\": \"temporal\", \"field\": \"date\"}, {\"type\": \"quantitative\", \"field\": \"positiveIncrease\"}, {\"type\": \"quantitative\", \"field\": \"sma7d\"}], \"x\": {\"type\": \"temporal\", \"field\": \"date\"}, \"y\": {\"type\": \"quantitative\", \"field\": \"positiveIncrease\"}}, \"transform\": [{\"filter\": {\"selection\": \"selector013\"}}]}], \"data\": {\"name\": \"data-a3939cc075bf318024e28b33e33dc308\"}, \"height\": 400, \"title\": \"Non Tri-State: positiveIncrease\", \"width\": 500, \"$schema\": \"https://vega.github.io/schema/vega-lite/v4.8.1.json\", \"datasets\": {\"data-a3939cc075bf318024e28b33e33dc308\": [{\"date\": \"2020-12-04T00:00:00\", \"totalTestResultsIncrease\": 1618914.0, \"positiveIncrease\": 209649.0, \"death\": 220957.0, \"deathIncrease\": 2420.0, \"positiveRate\": 0.129, \"state\": \"Non Tri-State\", \"sma7d\": 164938.857}, {\"date\": \"2020-12-05T00:00:00\", \"totalTestResultsIncrease\": 1907544.0, \"positiveIncrease\": 200961.0, \"death\": 223320.0, \"deathIncrease\": 2363.0, \"positiveRate\": 0.105, \"state\": \"Non Tri-State\", \"sma7d\": 173580.286}, {\"date\": \"2020-12-06T00:00:00\", \"totalTestResultsIncrease\": 1407762.0, \"positiveIncrease\": 166017.0, \"death\": 224408.0, \"deathIncrease\": 1088.0, \"positiveRate\": 0.118, \"state\": \"Non Tri-State\", \"sma7d\": 179333.429}, {\"date\": \"2020-12-07T00:00:00\", \"totalTestResultsIncrease\": 1445889.0, \"positiveIncrease\": 161905.0, \"death\": 225523.0, \"deathIncrease\": 1115.0, \"positiveRate\": 0.112, \"state\": \"Non Tri-State\", \"sma7d\": 183295.857}, {\"date\": \"2020-12-08T00:00:00\", \"totalTestResultsIncrease\": 1401797.0, \"positiveIncrease\": 197885.0, \"death\": 228020.0, \"deathIncrease\": 2497.0, \"positiveRate\": 0.141, \"state\": \"Non Tri-State\", \"sma7d\": 188000.857}, {\"date\": \"2020-12-09T00:00:00\", \"totalTestResultsIncrease\": 1439031.0, \"positiveIncrease\": 196951.0, \"death\": 230933.0, \"deathIncrease\": 2913.0, \"positiveRate\": 0.137, \"state\": \"Non Tri-State\", \"sma7d\": 189715.857}, {\"date\": \"2020-12-10T00:00:00\", \"totalTestResultsIncrease\": 1603181.0, \"positiveIncrease\": 200876.0, \"death\": 233863.0, \"deathIncrease\": 2930.0, \"positiveRate\": 0.125, \"state\": \"Non Tri-State\", \"sma7d\": 190606.286}, {\"date\": \"2020-12-11T00:00:00\", \"totalTestResultsIncrease\": 1670039.0, \"positiveIncrease\": 216759.0, \"death\": 236431.0, \"deathIncrease\": 2568.0, \"positiveRate\": 0.13, \"state\": \"Non Tri-State\", \"sma7d\": 191622.0}, {\"date\": \"2020-12-12T00:00:00\", \"totalTestResultsIncrease\": 1584932.0, \"positiveIncrease\": 207270.0, \"death\": 238770.0, \"deathIncrease\": 2339.0, \"positiveRate\": 0.131, \"state\": \"Non Tri-State\", \"sma7d\": 192523.286}, {\"date\": \"2020-12-13T00:00:00\", \"totalTestResultsIncrease\": 1560202.0, \"positiveIncrease\": 171858.0, \"death\": 240142.0, \"deathIncrease\": 1372.0, \"positiveRate\": 0.11, \"state\": \"Non Tri-State\", \"sma7d\": 193357.714}, {\"date\": \"2020-12-14T00:00:00\", \"totalTestResultsIncrease\": 1627012.0, \"positiveIncrease\": 171250.0, \"death\": 241309.0, \"deathIncrease\": 1167.0, \"positiveRate\": 0.105, \"state\": \"Non Tri-State\", \"sma7d\": 194692.714}, {\"date\": \"2020-12-15T00:00:00\", \"totalTestResultsIncrease\": 1493730.0, \"positiveIncrease\": 174069.0, \"death\": 243982.0, \"deathIncrease\": 2673.0, \"positiveRate\": 0.117, \"state\": \"Non Tri-State\", \"sma7d\": 191290.429}, {\"date\": \"2020-12-16T00:00:00\", \"totalTestResultsIncrease\": 1533875.0, \"positiveIncrease\": 213227.0, \"death\": 247166.0, \"deathIncrease\": 3184.0, \"positiveRate\": 0.139, \"state\": \"Non Tri-State\", \"sma7d\": 193615.571}, {\"date\": \"2020-12-17T00:00:00\", \"totalTestResultsIncrease\": 1620802.0, \"positiveIncrease\": 222882.0, \"death\": 250386.0, \"deathIncrease\": 3220.0, \"positiveRate\": 0.138, \"state\": \"Non Tri-State\", \"sma7d\": 196759.286}, {\"date\": \"2020-12-18T00:00:00\", \"totalTestResultsIncrease\": 1762823.0, \"positiveIncrease\": 219915.0, \"death\": 253057.0, \"deathIncrease\": 2671.0, \"positiveRate\": 0.125, \"state\": \"Non Tri-State\", \"sma7d\": 197210.143}, {\"date\": \"2020-12-19T00:00:00\", \"totalTestResultsIncrease\": 1566149.0, \"positiveIncrease\": 188568.0, \"death\": 255586.0, \"deathIncrease\": 2529.0, \"positiveRate\": 0.12, \"state\": \"Non Tri-State\", \"sma7d\": 194538.429}, {\"date\": \"2020-12-20T00:00:00\", \"totalTestResultsIncrease\": 1589098.0, \"positiveIncrease\": 181275.0, \"death\": 257109.0, \"deathIncrease\": 1523.0, \"positiveRate\": 0.114, \"state\": \"Non Tri-State\", \"sma7d\": 195883.714}, {\"date\": \"2020-12-21T00:00:00\", \"totalTestResultsIncrease\": 1588929.0, \"positiveIncrease\": 161709.0, \"death\": 258354.0, \"deathIncrease\": 1245.0, \"positiveRate\": 0.102, \"state\": \"Non Tri-State\", \"sma7d\": 194520.714}, {\"date\": \"2020-12-22T00:00:00\", \"totalTestResultsIncrease\": 1533484.0, \"positiveIncrease\": 173567.0, \"death\": 261220.0, \"deathIncrease\": 2866.0, \"positiveRate\": 0.113, \"state\": \"Non Tri-State\", \"sma7d\": 194449.0}, {\"date\": \"2020-12-23T00:00:00\", \"totalTestResultsIncrease\": 1458593.0, \"positiveIncrease\": 202771.0, \"death\": 264274.0, \"deathIncrease\": 3054.0, \"positiveRate\": 0.139, \"state\": \"Non Tri-State\", \"sma7d\": 192955.286}, {\"date\": \"2020-12-24T00:00:00\", \"totalTestResultsIncrease\": 1621609.0, \"positiveIncrease\": 184361.0, \"death\": 266966.0, \"deathIncrease\": 2692.0, \"positiveRate\": 0.114, \"state\": \"Non Tri-State\", \"sma7d\": 187452.286}, {\"date\": \"2020-12-25T00:00:00\", \"totalTestResultsIncrease\": 1084166.0, \"positiveIncrease\": 107816.0, \"death\": 268347.0, \"deathIncrease\": 1381.0, \"positiveRate\": 0.099, \"state\": \"Non Tri-State\", \"sma7d\": 171438.143}, {\"date\": \"2020-12-26T00:00:00\", \"totalTestResultsIncrease\": 1916288.0, \"positiveIncrease\": 174978.0, \"death\": 269629.0, \"deathIncrease\": 1282.0, \"positiveRate\": 0.091, \"state\": \"Non Tri-State\", \"sma7d\": 169496.714}, {\"date\": \"2020-12-27T00:00:00\", \"totalTestResultsIncrease\": 1207146.0, \"positiveIncrease\": 142460.0, \"death\": 270894.0, \"deathIncrease\": 1265.0, \"positiveRate\": 0.118, \"state\": \"Non Tri-State\", \"sma7d\": 163951.714}, {\"date\": \"2020-12-28T00:00:00\", \"totalTestResultsIncrease\": 1020438.0, \"positiveIncrease\": 141161.0, \"death\": 272132.0, \"deathIncrease\": 1238.0, \"positiveRate\": 0.138, \"state\": \"Non Tri-State\", \"sma7d\": 161016.286}, {\"date\": \"2020-12-29T00:00:00\", \"totalTestResultsIncrease\": 1081278.0, \"positiveIncrease\": 179470.0, \"death\": 275148.0, \"deathIncrease\": 3016.0, \"positiveRate\": 0.166, \"state\": \"Non Tri-State\", \"sma7d\": 161859.571}, {\"date\": \"2020-12-30T00:00:00\", \"totalTestResultsIncrease\": 1355529.0, \"positiveIncrease\": 205560.0, \"death\": 278684.0, \"deathIncrease\": 3536.0, \"positiveRate\": 0.152, \"state\": \"Non Tri-State\", \"sma7d\": 162258.0}, {\"date\": \"2020-12-31T00:00:00\", \"totalTestResultsIncrease\": 1469783.0, \"positiveIncrease\": 198477.0, \"death\": 281725.0, \"deathIncrease\": 3041.0, \"positiveRate\": 0.135, \"state\": \"Non Tri-State\", \"sma7d\": 164274.571}, {\"date\": \"2021-01-01T00:00:00\", \"totalTestResultsIncrease\": 1083600.0, \"positiveIncrease\": 158073.0, \"death\": 284031.0, \"deathIncrease\": 2306.0, \"positiveRate\": 0.146, \"state\": \"Non Tri-State\", \"sma7d\": 171454.143}, {\"date\": \"2021-01-02T00:00:00\", \"totalTestResultsIncrease\": 1789307.0, \"positiveIncrease\": 254104.0, \"death\": 286177.0, \"deathIncrease\": 2146.0, \"positiveRate\": 0.142, \"state\": \"Non Tri-State\", \"sma7d\": 182757.857}, {\"date\": \"2021-01-03T00:00:00\", \"totalTestResultsIncrease\": 1255016.0, \"positiveIncrease\": 192300.0, \"death\": 287472.0, \"deathIncrease\": 1295.0, \"positiveRate\": 0.153, \"state\": \"Non Tri-State\", \"sma7d\": 189877.857}, {\"date\": \"2021-01-04T00:00:00\", \"totalTestResultsIncrease\": 1346329.0, \"positiveIncrease\": 160355.0, \"death\": 288742.0, \"deathIncrease\": 1270.0, \"positiveRate\": 0.119, \"state\": \"Non Tri-State\", \"sma7d\": 192619.857}, {\"date\": \"2021-01-05T00:00:00\", \"totalTestResultsIncrease\": 1283110.0, \"positiveIncrease\": 193817.0, \"death\": 291910.0, \"deathIncrease\": 3168.0, \"positiveRate\": 0.151, \"state\": \"Non Tri-State\", \"sma7d\": 194669.429}, {\"date\": \"2021-01-06T00:00:00\", \"totalTestResultsIncrease\": 1327901.0, \"positiveIncrease\": 223104.0, \"death\": 295470.0, \"deathIncrease\": 3560.0, \"positiveRate\": 0.168, \"state\": \"Non Tri-State\", \"sma7d\": 197175.714}, {\"date\": \"2021-01-07T00:00:00\", \"totalTestResultsIncrease\": 1616210.0, \"positiveIncrease\": 240846.0, \"death\": 299170.0, \"deathIncrease\": 3700.0, \"positiveRate\": 0.149, \"state\": \"Non Tri-State\", \"sma7d\": 203228.429}, {\"date\": \"2021-01-08T00:00:00\", \"totalTestResultsIncrease\": 1782273.0, \"positiveIncrease\": 263187.0, \"death\": 302638.0, \"deathIncrease\": 3468.0, \"positiveRate\": 0.148, \"state\": \"Non Tri-State\", \"sma7d\": 218244.714}, {\"date\": \"2021-01-09T00:00:00\", \"totalTestResultsIncrease\": 1739259.0, \"positiveIncrease\": 242029.0, \"death\": 305887.0, \"deathIncrease\": 3249.0, \"positiveRate\": 0.139, \"state\": \"Non Tri-State\", \"sma7d\": 216519.714}, {\"date\": \"2021-01-10T00:00:00\", \"totalTestResultsIncrease\": 1735400.0, \"positiveIncrease\": 206707.0, \"death\": 307770.0, \"deathIncrease\": 1883.0, \"positiveRate\": 0.119, \"state\": \"Non Tri-State\", \"sma7d\": 218577.857}, {\"date\": \"2021-01-11T00:00:00\", \"totalTestResultsIncrease\": 1518131.0, \"positiveIncrease\": 167728.0, \"death\": 309196.0, \"deathIncrease\": 1426.0, \"positiveRate\": 0.11, \"state\": \"Non Tri-State\", \"sma7d\": 219631.143}, {\"date\": \"2021-01-12T00:00:00\", \"totalTestResultsIncrease\": 1475497.0, \"positiveIncrease\": 191319.0, \"death\": 312954.0, \"deathIncrease\": 3758.0, \"positiveRate\": 0.13, \"state\": \"Non Tri-State\", \"sma7d\": 219274.286}, {\"date\": \"2021-01-13T00:00:00\", \"totalTestResultsIncrease\": 1542614.0, \"positiveIncrease\": 195571.0, \"death\": 316664.0, \"deathIncrease\": 3710.0, \"positiveRate\": 0.127, \"state\": \"Non Tri-State\", \"sma7d\": 215341.0}, {\"date\": \"2021-01-14T00:00:00\", \"totalTestResultsIncrease\": 1718214.0, \"positiveIncrease\": 201223.0, \"death\": 320266.0, \"deathIncrease\": 3602.0, \"positiveRate\": 0.117, \"state\": \"Non Tri-State\", \"sma7d\": 209680.571}, {\"date\": \"2021-01-15T00:00:00\", \"totalTestResultsIncrease\": 1781893.0, \"positiveIncrease\": 215807.0, \"death\": 323650.0, \"deathIncrease\": 3384.0, \"positiveRate\": 0.121, \"state\": \"Non Tri-State\", \"sma7d\": 202912.0}, {\"date\": \"2021-01-16T00:00:00\", \"totalTestResultsIncrease\": 1752383.0, \"positiveIncrease\": 194481.0, \"death\": 327106.0, \"deathIncrease\": 3456.0, \"positiveRate\": 0.111, \"state\": \"Non Tri-State\", \"sma7d\": 196119.429}, {\"date\": \"2021-01-17T00:00:00\", \"totalTestResultsIncrease\": 1602096.0, \"positiveIncrease\": 167296.0, \"death\": 328962.0, \"deathIncrease\": 1856.0, \"positiveRate\": 0.104, \"state\": \"Non Tri-State\", \"sma7d\": 190489.286}, {\"date\": \"2021-01-18T00:00:00\", \"totalTestResultsIncrease\": 1474235.0, \"positiveIncrease\": 127479.0, \"death\": 330107.0, \"deathIncrease\": 1145.0, \"positiveRate\": 0.086, \"state\": \"Non Tri-State\", \"sma7d\": 184739.429}, {\"date\": \"2021-01-19T00:00:00\", \"totalTestResultsIncrease\": 1310288.0, \"positiveIncrease\": 124813.0, \"death\": 332010.0, \"deathIncrease\": 1903.0, \"positiveRate\": 0.095, \"state\": \"Non Tri-State\", \"sma7d\": 175238.571}, {\"date\": \"2021-01-20T00:00:00\", \"totalTestResultsIncrease\": 1475748.0, \"positiveIncrease\": 166005.0, \"death\": 336032.0, \"deathIncrease\": 4022.0, \"positiveRate\": 0.112, \"state\": \"Non Tri-State\", \"sma7d\": 171014.857}, {\"date\": \"2021-01-21T00:00:00\", \"totalTestResultsIncrease\": 1630303.0, \"positiveIncrease\": 163436.0, \"death\": 339587.0, \"deathIncrease\": 3555.0, \"positiveRate\": 0.1, \"state\": \"Non Tri-State\", \"sma7d\": 165616.714}, {\"date\": \"2021-01-22T00:00:00\", \"totalTestResultsIncrease\": 1629563.0, \"positiveIncrease\": 167620.0, \"death\": 343238.0, \"deathIncrease\": 3651.0, \"positiveRate\": 0.103, \"state\": \"Non Tri-State\", \"sma7d\": 158732.857}, {\"date\": \"2021-01-23T00:00:00\", \"totalTestResultsIncrease\": 1616792.0, \"positiveIncrease\": 153772.0, \"death\": 346626.0, \"deathIncrease\": 3388.0, \"positiveRate\": 0.095, \"state\": \"Non Tri-State\", \"sma7d\": 152917.286}, {\"date\": \"2021-01-24T00:00:00\", \"totalTestResultsIncrease\": 1473790.0, \"positiveIncrease\": 125699.0, \"death\": 348391.0, \"deathIncrease\": 1765.0, \"positiveRate\": 0.085, \"state\": \"Non Tri-State\", \"sma7d\": 146974.857}, {\"date\": \"2021-01-25T00:00:00\", \"totalTestResultsIncrease\": 1383137.0, \"positiveIncrease\": 111104.0, \"death\": 349698.0, \"deathIncrease\": 1307.0, \"positiveRate\": 0.08, \"state\": \"Non Tri-State\", \"sma7d\": 144635.571}, {\"date\": \"2021-01-26T00:00:00\", \"totalTestResultsIncrease\": 1308132.0, \"positiveIncrease\": 126638.0, \"death\": 353111.0, \"deathIncrease\": 3413.0, \"positiveRate\": 0.097, \"state\": \"Non Tri-State\", \"sma7d\": 144896.286}, {\"date\": \"2021-01-27T00:00:00\", \"totalTestResultsIncrease\": 1326039.0, \"positiveIncrease\": 133397.0, \"death\": 356859.0, \"deathIncrease\": 3748.0, \"positiveRate\": 0.101, \"state\": \"Non Tri-State\", \"sma7d\": 140238.0}]}}, {\"mode\": \"vega-lite\"});\n",
       "</script>"
      ],
      "text/plain": [
       "alt.LayerChart(...)"
      ]
     },
     "execution_count": 15,
     "metadata": {},
     "output_type": "execute_result"
    }
   ],
   "source": [
    "create_plot(non_tristate, 'positiveIncrease')"
   ]
  },
  {
   "cell_type": "code",
   "execution_count": 16,
   "id": "western-encyclopedia",
   "metadata": {
    "execution": {
     "iopub.execute_input": "2021-01-28T09:33:03.678023Z",
     "iopub.status.busy": "2021-01-28T09:33:03.677351Z",
     "iopub.status.idle": "2021-01-28T09:33:03.771185Z",
     "shell.execute_reply": "2021-01-28T09:33:03.771763Z"
    },
    "papermill": {
     "duration": 0.125703,
     "end_time": "2021-01-28T09:33:03.771955",
     "exception": false,
     "start_time": "2021-01-28T09:33:03.646252",
     "status": "completed"
    },
    "tags": []
   },
   "outputs": [
    {
     "data": {
      "text/html": [
       "\n",
       "<div id=\"altair-viz-66f9eb2c4cdf4799aa8b2f04397e2aad\"></div>\n",
       "<script type=\"text/javascript\">\n",
       "  (function(spec, embedOpt){\n",
       "    let outputDiv = document.currentScript.previousElementSibling;\n",
       "    if (outputDiv.id !== \"altair-viz-66f9eb2c4cdf4799aa8b2f04397e2aad\") {\n",
       "      outputDiv = document.getElementById(\"altair-viz-66f9eb2c4cdf4799aa8b2f04397e2aad\");\n",
       "    }\n",
       "    const paths = {\n",
       "      \"vega\": \"https://cdn.jsdelivr.net/npm//vega@5?noext\",\n",
       "      \"vega-lib\": \"https://cdn.jsdelivr.net/npm//vega-lib?noext\",\n",
       "      \"vega-lite\": \"https://cdn.jsdelivr.net/npm//vega-lite@4.8.1?noext\",\n",
       "      \"vega-embed\": \"https://cdn.jsdelivr.net/npm//vega-embed@6?noext\",\n",
       "    };\n",
       "\n",
       "    function loadScript(lib) {\n",
       "      return new Promise(function(resolve, reject) {\n",
       "        var s = document.createElement('script');\n",
       "        s.src = paths[lib];\n",
       "        s.async = true;\n",
       "        s.onload = () => resolve(paths[lib]);\n",
       "        s.onerror = () => reject(`Error loading script: ${paths[lib]}`);\n",
       "        document.getElementsByTagName(\"head\")[0].appendChild(s);\n",
       "      });\n",
       "    }\n",
       "\n",
       "    function showError(err) {\n",
       "      outputDiv.innerHTML = `<div class=\"error\" style=\"color:red;\">${err}</div>`;\n",
       "      throw err;\n",
       "    }\n",
       "\n",
       "    function displayChart(vegaEmbed) {\n",
       "      vegaEmbed(outputDiv, spec, embedOpt)\n",
       "        .catch(err => showError(`Javascript Error: ${err.message}<br>This usually means there's a typo in your chart specification. See the javascript console for the full traceback.`));\n",
       "    }\n",
       "\n",
       "    if(typeof define === \"function\" && define.amd) {\n",
       "      requirejs.config({paths});\n",
       "      require([\"vega-embed\"], displayChart, err => showError(`Error loading script: ${err.message}`));\n",
       "    } else if (typeof vegaEmbed === \"function\") {\n",
       "      displayChart(vegaEmbed);\n",
       "    } else {\n",
       "      loadScript(\"vega\")\n",
       "        .then(() => loadScript(\"vega-lite\"))\n",
       "        .then(() => loadScript(\"vega-embed\"))\n",
       "        .catch(showError)\n",
       "        .then(() => displayChart(vegaEmbed));\n",
       "    }\n",
       "  })({\"config\": {\"view\": {\"continuousWidth\": 400, \"continuousHeight\": 300}}, \"layer\": [{\"layer\": [{\"mark\": {\"type\": \"point\", \"size\": 75}, \"encoding\": {\"tooltip\": [{\"type\": \"temporal\", \"field\": \"date\"}, {\"type\": \"quantitative\", \"field\": \"positiveRate\"}, {\"type\": \"quantitative\", \"field\": \"sma7d\"}], \"x\": {\"type\": \"temporal\", \"field\": \"date\"}, \"y\": {\"type\": \"quantitative\", \"field\": \"positiveRate\"}}, \"selection\": {\"selector016\": {\"type\": \"interval\", \"bind\": \"scales\", \"encodings\": [\"x\", \"y\"]}}}, {\"mark\": {\"type\": \"line\", \"color\": \"purple\"}, \"encoding\": {\"x\": {\"type\": \"temporal\", \"field\": \"date\"}, \"y\": {\"type\": \"quantitative\", \"field\": \"sma7d\"}}}]}, {\"mark\": {\"type\": \"rule\", \"color\": \"#aaa\"}, \"encoding\": {\"x\": {\"type\": \"temporal\", \"field\": \"date\"}}, \"transform\": [{\"filter\": {\"selection\": \"selector015\"}}]}, {\"mark\": \"circle\", \"encoding\": {\"opacity\": {\"condition\": {\"value\": 1, \"selection\": \"selector015\"}, \"value\": 0}, \"tooltip\": [{\"type\": \"temporal\", \"field\": \"date\"}, {\"type\": \"quantitative\", \"field\": \"positiveRate\"}, {\"type\": \"quantitative\", \"field\": \"sma7d\"}], \"x\": {\"type\": \"temporal\", \"field\": \"date\"}, \"y\": {\"type\": \"quantitative\", \"field\": \"positiveRate\"}}, \"selection\": {\"selector015\": {\"type\": \"single\", \"encodings\": [\"x\"], \"on\": \"mouseover\", \"nearest\": true, \"empty\": \"none\"}}}, {\"mark\": {\"type\": \"text\", \"align\": \"left\", \"dx\": 5, \"dy\": -5, \"stroke\": \"white\", \"strokeWidth\": 2}, \"encoding\": {\"text\": {\"type\": \"quantitative\", \"field\": \"positiveRate\"}, \"tooltip\": [{\"type\": \"temporal\", \"field\": \"date\"}, {\"type\": \"quantitative\", \"field\": \"positiveRate\"}, {\"type\": \"quantitative\", \"field\": \"sma7d\"}], \"x\": {\"type\": \"temporal\", \"field\": \"date\"}, \"y\": {\"type\": \"quantitative\", \"field\": \"positiveRate\"}}, \"transform\": [{\"filter\": {\"selection\": \"selector015\"}}]}, {\"mark\": {\"type\": \"text\", \"align\": \"left\", \"dx\": 5, \"dy\": -5}, \"encoding\": {\"text\": {\"type\": \"quantitative\", \"field\": \"positiveRate\"}, \"tooltip\": [{\"type\": \"temporal\", \"field\": \"date\"}, {\"type\": \"quantitative\", \"field\": \"positiveRate\"}, {\"type\": \"quantitative\", \"field\": \"sma7d\"}], \"x\": {\"type\": \"temporal\", \"field\": \"date\"}, \"y\": {\"type\": \"quantitative\", \"field\": \"positiveRate\"}}, \"transform\": [{\"filter\": {\"selection\": \"selector015\"}}]}], \"data\": {\"name\": \"data-729e3dac8789b593e51ee64db8657237\"}, \"height\": 400, \"title\": \"Non Tri-State: positiveRate\", \"width\": 500, \"$schema\": \"https://vega.github.io/schema/vega-lite/v4.8.1.json\", \"datasets\": {\"data-729e3dac8789b593e51ee64db8657237\": [{\"date\": \"2020-12-04T00:00:00\", \"totalTestResultsIncrease\": 1618914.0, \"positiveIncrease\": 209649.0, \"death\": 220957.0, \"deathIncrease\": 2420.0, \"positiveRate\": 0.129, \"state\": \"Non Tri-State\", \"sma7d\": 0.122}, {\"date\": \"2020-12-05T00:00:00\", \"totalTestResultsIncrease\": 1907544.0, \"positiveIncrease\": 200961.0, \"death\": 223320.0, \"deathIncrease\": 2363.0, \"positiveRate\": 0.105, \"state\": \"Non Tri-State\", \"sma7d\": 0.122}, {\"date\": \"2020-12-06T00:00:00\", \"totalTestResultsIncrease\": 1407762.0, \"positiveIncrease\": 166017.0, \"death\": 224408.0, \"deathIncrease\": 1088.0, \"positiveRate\": 0.118, \"state\": \"Non Tri-State\", \"sma7d\": 0.123}, {\"date\": \"2020-12-07T00:00:00\", \"totalTestResultsIncrease\": 1445889.0, \"positiveIncrease\": 161905.0, \"death\": 225523.0, \"deathIncrease\": 1115.0, \"positiveRate\": 0.112, \"state\": \"Non Tri-State\", \"sma7d\": 0.123}, {\"date\": \"2020-12-08T00:00:00\", \"totalTestResultsIncrease\": 1401797.0, \"positiveIncrease\": 197885.0, \"death\": 228020.0, \"deathIncrease\": 2497.0, \"positiveRate\": 0.141, \"state\": \"Non Tri-State\", \"sma7d\": 0.125}, {\"date\": \"2020-12-09T00:00:00\", \"totalTestResultsIncrease\": 1439031.0, \"positiveIncrease\": 196951.0, \"death\": 230933.0, \"deathIncrease\": 2913.0, \"positiveRate\": 0.137, \"state\": \"Non Tri-State\", \"sma7d\": 0.124}, {\"date\": \"2020-12-10T00:00:00\", \"totalTestResultsIncrease\": 1603181.0, \"positiveIncrease\": 200876.0, \"death\": 233863.0, \"deathIncrease\": 2930.0, \"positiveRate\": 0.125, \"state\": \"Non Tri-State\", \"sma7d\": 0.124}, {\"date\": \"2020-12-11T00:00:00\", \"totalTestResultsIncrease\": 1670039.0, \"positiveIncrease\": 216759.0, \"death\": 236431.0, \"deathIncrease\": 2568.0, \"positiveRate\": 0.13, \"state\": \"Non Tri-State\", \"sma7d\": 0.124}, {\"date\": \"2020-12-12T00:00:00\", \"totalTestResultsIncrease\": 1584932.0, \"positiveIncrease\": 207270.0, \"death\": 238770.0, \"deathIncrease\": 2339.0, \"positiveRate\": 0.131, \"state\": \"Non Tri-State\", \"sma7d\": 0.128}, {\"date\": \"2020-12-13T00:00:00\", \"totalTestResultsIncrease\": 1560202.0, \"positiveIncrease\": 171858.0, \"death\": 240142.0, \"deathIncrease\": 1372.0, \"positiveRate\": 0.11, \"state\": \"Non Tri-State\", \"sma7d\": 0.127}, {\"date\": \"2020-12-14T00:00:00\", \"totalTestResultsIncrease\": 1627012.0, \"positiveIncrease\": 171250.0, \"death\": 241309.0, \"deathIncrease\": 1167.0, \"positiveRate\": 0.105, \"state\": \"Non Tri-State\", \"sma7d\": 0.126}, {\"date\": \"2020-12-15T00:00:00\", \"totalTestResultsIncrease\": 1493730.0, \"positiveIncrease\": 174069.0, \"death\": 243982.0, \"deathIncrease\": 2673.0, \"positiveRate\": 0.117, \"state\": \"Non Tri-State\", \"sma7d\": 0.122}, {\"date\": \"2020-12-16T00:00:00\", \"totalTestResultsIncrease\": 1533875.0, \"positiveIncrease\": 213227.0, \"death\": 247166.0, \"deathIncrease\": 3184.0, \"positiveRate\": 0.139, \"state\": \"Non Tri-State\", \"sma7d\": 0.122}, {\"date\": \"2020-12-17T00:00:00\", \"totalTestResultsIncrease\": 1620802.0, \"positiveIncrease\": 222882.0, \"death\": 250386.0, \"deathIncrease\": 3220.0, \"positiveRate\": 0.138, \"state\": \"Non Tri-State\", \"sma7d\": 0.124}, {\"date\": \"2020-12-18T00:00:00\", \"totalTestResultsIncrease\": 1762823.0, \"positiveIncrease\": 219915.0, \"death\": 253057.0, \"deathIncrease\": 2671.0, \"positiveRate\": 0.125, \"state\": \"Non Tri-State\", \"sma7d\": 0.124}, {\"date\": \"2020-12-19T00:00:00\", \"totalTestResultsIncrease\": 1566149.0, \"positiveIncrease\": 188568.0, \"death\": 255586.0, \"deathIncrease\": 2529.0, \"positiveRate\": 0.12, \"state\": \"Non Tri-State\", \"sma7d\": 0.122}, {\"date\": \"2020-12-20T00:00:00\", \"totalTestResultsIncrease\": 1589098.0, \"positiveIncrease\": 181275.0, \"death\": 257109.0, \"deathIncrease\": 1523.0, \"positiveRate\": 0.114, \"state\": \"Non Tri-State\", \"sma7d\": 0.123}, {\"date\": \"2020-12-21T00:00:00\", \"totalTestResultsIncrease\": 1588929.0, \"positiveIncrease\": 161709.0, \"death\": 258354.0, \"deathIncrease\": 1245.0, \"positiveRate\": 0.102, \"state\": \"Non Tri-State\", \"sma7d\": 0.122}, {\"date\": \"2020-12-22T00:00:00\", \"totalTestResultsIncrease\": 1533484.0, \"positiveIncrease\": 173567.0, \"death\": 261220.0, \"deathIncrease\": 2866.0, \"positiveRate\": 0.113, \"state\": \"Non Tri-State\", \"sma7d\": 0.122}, {\"date\": \"2020-12-23T00:00:00\", \"totalTestResultsIncrease\": 1458593.0, \"positiveIncrease\": 202771.0, \"death\": 264274.0, \"deathIncrease\": 3054.0, \"positiveRate\": 0.139, \"state\": \"Non Tri-State\", \"sma7d\": 0.122}, {\"date\": \"2020-12-24T00:00:00\", \"totalTestResultsIncrease\": 1621609.0, \"positiveIncrease\": 184361.0, \"death\": 266966.0, \"deathIncrease\": 2692.0, \"positiveRate\": 0.114, \"state\": \"Non Tri-State\", \"sma7d\": 0.118}, {\"date\": \"2020-12-25T00:00:00\", \"totalTestResultsIncrease\": 1084166.0, \"positiveIncrease\": 107816.0, \"death\": 268347.0, \"deathIncrease\": 1381.0, \"positiveRate\": 0.099, \"state\": \"Non Tri-State\", \"sma7d\": 0.114}, {\"date\": \"2020-12-26T00:00:00\", \"totalTestResultsIncrease\": 1916288.0, \"positiveIncrease\": 174978.0, \"death\": 269629.0, \"deathIncrease\": 1282.0, \"positiveRate\": 0.091, \"state\": \"Non Tri-State\", \"sma7d\": 0.11}, {\"date\": \"2020-12-27T00:00:00\", \"totalTestResultsIncrease\": 1207146.0, \"positiveIncrease\": 142460.0, \"death\": 270894.0, \"deathIncrease\": 1265.0, \"positiveRate\": 0.118, \"state\": \"Non Tri-State\", \"sma7d\": 0.111}, {\"date\": \"2020-12-28T00:00:00\", \"totalTestResultsIncrease\": 1020438.0, \"positiveIncrease\": 141161.0, \"death\": 272132.0, \"deathIncrease\": 1238.0, \"positiveRate\": 0.138, \"state\": \"Non Tri-State\", \"sma7d\": 0.116}, {\"date\": \"2020-12-29T00:00:00\", \"totalTestResultsIncrease\": 1081278.0, \"positiveIncrease\": 179470.0, \"death\": 275148.0, \"deathIncrease\": 3016.0, \"positiveRate\": 0.166, \"state\": \"Non Tri-State\", \"sma7d\": 0.124}, {\"date\": \"2020-12-30T00:00:00\", \"totalTestResultsIncrease\": 1355529.0, \"positiveIncrease\": 205560.0, \"death\": 278684.0, \"deathIncrease\": 3536.0, \"positiveRate\": 0.152, \"state\": \"Non Tri-State\", \"sma7d\": 0.125}, {\"date\": \"2020-12-31T00:00:00\", \"totalTestResultsIncrease\": 1469783.0, \"positiveIncrease\": 198477.0, \"death\": 281725.0, \"deathIncrease\": 3041.0, \"positiveRate\": 0.135, \"state\": \"Non Tri-State\", \"sma7d\": 0.128}, {\"date\": \"2021-01-01T00:00:00\", \"totalTestResultsIncrease\": 1083600.0, \"positiveIncrease\": 158073.0, \"death\": 284031.0, \"deathIncrease\": 2306.0, \"positiveRate\": 0.146, \"state\": \"Non Tri-State\", \"sma7d\": 0.135}, {\"date\": \"2021-01-02T00:00:00\", \"totalTestResultsIncrease\": 1789307.0, \"positiveIncrease\": 254104.0, \"death\": 286177.0, \"deathIncrease\": 2146.0, \"positiveRate\": 0.142, \"state\": \"Non Tri-State\", \"sma7d\": 0.142}, {\"date\": \"2021-01-03T00:00:00\", \"totalTestResultsIncrease\": 1255016.0, \"positiveIncrease\": 192300.0, \"death\": 287472.0, \"deathIncrease\": 1295.0, \"positiveRate\": 0.153, \"state\": \"Non Tri-State\", \"sma7d\": 0.147}, {\"date\": \"2021-01-04T00:00:00\", \"totalTestResultsIncrease\": 1346329.0, \"positiveIncrease\": 160355.0, \"death\": 288742.0, \"deathIncrease\": 1270.0, \"positiveRate\": 0.119, \"state\": \"Non Tri-State\", \"sma7d\": 0.145}, {\"date\": \"2021-01-05T00:00:00\", \"totalTestResultsIncrease\": 1283110.0, \"positiveIncrease\": 193817.0, \"death\": 291910.0, \"deathIncrease\": 3168.0, \"positiveRate\": 0.151, \"state\": \"Non Tri-State\", \"sma7d\": 0.143}, {\"date\": \"2021-01-06T00:00:00\", \"totalTestResultsIncrease\": 1327901.0, \"positiveIncrease\": 223104.0, \"death\": 295470.0, \"deathIncrease\": 3560.0, \"positiveRate\": 0.168, \"state\": \"Non Tri-State\", \"sma7d\": 0.145}, {\"date\": \"2021-01-07T00:00:00\", \"totalTestResultsIncrease\": 1616210.0, \"positiveIncrease\": 240846.0, \"death\": 299170.0, \"deathIncrease\": 3700.0, \"positiveRate\": 0.149, \"state\": \"Non Tri-State\", \"sma7d\": 0.147}, {\"date\": \"2021-01-08T00:00:00\", \"totalTestResultsIncrease\": 1782273.0, \"positiveIncrease\": 263187.0, \"death\": 302638.0, \"deathIncrease\": 3468.0, \"positiveRate\": 0.148, \"state\": \"Non Tri-State\", \"sma7d\": 0.147}, {\"date\": \"2021-01-09T00:00:00\", \"totalTestResultsIncrease\": 1739259.0, \"positiveIncrease\": 242029.0, \"death\": 305887.0, \"deathIncrease\": 3249.0, \"positiveRate\": 0.139, \"state\": \"Non Tri-State\", \"sma7d\": 0.147}, {\"date\": \"2021-01-10T00:00:00\", \"totalTestResultsIncrease\": 1735400.0, \"positiveIncrease\": 206707.0, \"death\": 307770.0, \"deathIncrease\": 1883.0, \"positiveRate\": 0.119, \"state\": \"Non Tri-State\", \"sma7d\": 0.142}, {\"date\": \"2021-01-11T00:00:00\", \"totalTestResultsIncrease\": 1518131.0, \"positiveIncrease\": 167728.0, \"death\": 309196.0, \"deathIncrease\": 1426.0, \"positiveRate\": 0.11, \"state\": \"Non Tri-State\", \"sma7d\": 0.141}, {\"date\": \"2021-01-12T00:00:00\", \"totalTestResultsIncrease\": 1475497.0, \"positiveIncrease\": 191319.0, \"death\": 312954.0, \"deathIncrease\": 3758.0, \"positiveRate\": 0.13, \"state\": \"Non Tri-State\", \"sma7d\": 0.138}, {\"date\": \"2021-01-13T00:00:00\", \"totalTestResultsIncrease\": 1542614.0, \"positiveIncrease\": 195571.0, \"death\": 316664.0, \"deathIncrease\": 3710.0, \"positiveRate\": 0.127, \"state\": \"Non Tri-State\", \"sma7d\": 0.132}, {\"date\": \"2021-01-14T00:00:00\", \"totalTestResultsIncrease\": 1718214.0, \"positiveIncrease\": 201223.0, \"death\": 320266.0, \"deathIncrease\": 3602.0, \"positiveRate\": 0.117, \"state\": \"Non Tri-State\", \"sma7d\": 0.127}, {\"date\": \"2021-01-15T00:00:00\", \"totalTestResultsIncrease\": 1781893.0, \"positiveIncrease\": 215807.0, \"death\": 323650.0, \"deathIncrease\": 3384.0, \"positiveRate\": 0.121, \"state\": \"Non Tri-State\", \"sma7d\": 0.123}, {\"date\": \"2021-01-16T00:00:00\", \"totalTestResultsIncrease\": 1752383.0, \"positiveIncrease\": 194481.0, \"death\": 327106.0, \"deathIncrease\": 3456.0, \"positiveRate\": 0.111, \"state\": \"Non Tri-State\", \"sma7d\": 0.119}, {\"date\": \"2021-01-17T00:00:00\", \"totalTestResultsIncrease\": 1602096.0, \"positiveIncrease\": 167296.0, \"death\": 328962.0, \"deathIncrease\": 1856.0, \"positiveRate\": 0.104, \"state\": \"Non Tri-State\", \"sma7d\": 0.117}, {\"date\": \"2021-01-18T00:00:00\", \"totalTestResultsIncrease\": 1474235.0, \"positiveIncrease\": 127479.0, \"death\": 330107.0, \"deathIncrease\": 1145.0, \"positiveRate\": 0.086, \"state\": \"Non Tri-State\", \"sma7d\": 0.114}, {\"date\": \"2021-01-19T00:00:00\", \"totalTestResultsIncrease\": 1310288.0, \"positiveIncrease\": 124813.0, \"death\": 332010.0, \"deathIncrease\": 1903.0, \"positiveRate\": 0.095, \"state\": \"Non Tri-State\", \"sma7d\": 0.109}, {\"date\": \"2021-01-20T00:00:00\", \"totalTestResultsIncrease\": 1475748.0, \"positiveIncrease\": 166005.0, \"death\": 336032.0, \"deathIncrease\": 4022.0, \"positiveRate\": 0.112, \"state\": \"Non Tri-State\", \"sma7d\": 0.107}, {\"date\": \"2021-01-21T00:00:00\", \"totalTestResultsIncrease\": 1630303.0, \"positiveIncrease\": 163436.0, \"death\": 339587.0, \"deathIncrease\": 3555.0, \"positiveRate\": 0.1, \"state\": \"Non Tri-State\", \"sma7d\": 0.104}, {\"date\": \"2021-01-22T00:00:00\", \"totalTestResultsIncrease\": 1629563.0, \"positiveIncrease\": 167620.0, \"death\": 343238.0, \"deathIncrease\": 3651.0, \"positiveRate\": 0.103, \"state\": \"Non Tri-State\", \"sma7d\": 0.102}, {\"date\": \"2021-01-23T00:00:00\", \"totalTestResultsIncrease\": 1616792.0, \"positiveIncrease\": 153772.0, \"death\": 346626.0, \"deathIncrease\": 3388.0, \"positiveRate\": 0.095, \"state\": \"Non Tri-State\", \"sma7d\": 0.099}, {\"date\": \"2021-01-24T00:00:00\", \"totalTestResultsIncrease\": 1473790.0, \"positiveIncrease\": 125699.0, \"death\": 348391.0, \"deathIncrease\": 1765.0, \"positiveRate\": 0.085, \"state\": \"Non Tri-State\", \"sma7d\": 0.097}, {\"date\": \"2021-01-25T00:00:00\", \"totalTestResultsIncrease\": 1383137.0, \"positiveIncrease\": 111104.0, \"death\": 349698.0, \"deathIncrease\": 1307.0, \"positiveRate\": 0.08, \"state\": \"Non Tri-State\", \"sma7d\": 0.096}, {\"date\": \"2021-01-26T00:00:00\", \"totalTestResultsIncrease\": 1308132.0, \"positiveIncrease\": 126638.0, \"death\": 353111.0, \"deathIncrease\": 3413.0, \"positiveRate\": 0.097, \"state\": \"Non Tri-State\", \"sma7d\": 0.096}, {\"date\": \"2021-01-27T00:00:00\", \"totalTestResultsIncrease\": 1326039.0, \"positiveIncrease\": 133397.0, \"death\": 356859.0, \"deathIncrease\": 3748.0, \"positiveRate\": 0.101, \"state\": \"Non Tri-State\", \"sma7d\": 0.094}]}}, {\"mode\": \"vega-lite\"});\n",
       "</script>"
      ],
      "text/plain": [
       "alt.LayerChart(...)"
      ]
     },
     "execution_count": 16,
     "metadata": {},
     "output_type": "execute_result"
    }
   ],
   "source": [
    "create_plot(non_tristate, 'positiveRate')"
   ]
  },
  {
   "cell_type": "code",
   "execution_count": 17,
   "id": "worthy-speed",
   "metadata": {
    "execution": {
     "iopub.execute_input": "2021-01-28T09:33:03.817277Z",
     "iopub.status.busy": "2021-01-28T09:33:03.816697Z",
     "iopub.status.idle": "2021-01-28T09:33:03.914293Z",
     "shell.execute_reply": "2021-01-28T09:33:03.914775Z"
    },
    "papermill": {
     "duration": 0.122398,
     "end_time": "2021-01-28T09:33:03.914925",
     "exception": false,
     "start_time": "2021-01-28T09:33:03.792527",
     "status": "completed"
    },
    "tags": []
   },
   "outputs": [
    {
     "data": {
      "text/html": [
       "\n",
       "<div id=\"altair-viz-0f82e15bc6b1477482084a22b0164866\"></div>\n",
       "<script type=\"text/javascript\">\n",
       "  (function(spec, embedOpt){\n",
       "    let outputDiv = document.currentScript.previousElementSibling;\n",
       "    if (outputDiv.id !== \"altair-viz-0f82e15bc6b1477482084a22b0164866\") {\n",
       "      outputDiv = document.getElementById(\"altair-viz-0f82e15bc6b1477482084a22b0164866\");\n",
       "    }\n",
       "    const paths = {\n",
       "      \"vega\": \"https://cdn.jsdelivr.net/npm//vega@5?noext\",\n",
       "      \"vega-lib\": \"https://cdn.jsdelivr.net/npm//vega-lib?noext\",\n",
       "      \"vega-lite\": \"https://cdn.jsdelivr.net/npm//vega-lite@4.8.1?noext\",\n",
       "      \"vega-embed\": \"https://cdn.jsdelivr.net/npm//vega-embed@6?noext\",\n",
       "    };\n",
       "\n",
       "    function loadScript(lib) {\n",
       "      return new Promise(function(resolve, reject) {\n",
       "        var s = document.createElement('script');\n",
       "        s.src = paths[lib];\n",
       "        s.async = true;\n",
       "        s.onload = () => resolve(paths[lib]);\n",
       "        s.onerror = () => reject(`Error loading script: ${paths[lib]}`);\n",
       "        document.getElementsByTagName(\"head\")[0].appendChild(s);\n",
       "      });\n",
       "    }\n",
       "\n",
       "    function showError(err) {\n",
       "      outputDiv.innerHTML = `<div class=\"error\" style=\"color:red;\">${err}</div>`;\n",
       "      throw err;\n",
       "    }\n",
       "\n",
       "    function displayChart(vegaEmbed) {\n",
       "      vegaEmbed(outputDiv, spec, embedOpt)\n",
       "        .catch(err => showError(`Javascript Error: ${err.message}<br>This usually means there's a typo in your chart specification. See the javascript console for the full traceback.`));\n",
       "    }\n",
       "\n",
       "    if(typeof define === \"function\" && define.amd) {\n",
       "      requirejs.config({paths});\n",
       "      require([\"vega-embed\"], displayChart, err => showError(`Error loading script: ${err.message}`));\n",
       "    } else if (typeof vegaEmbed === \"function\") {\n",
       "      displayChart(vegaEmbed);\n",
       "    } else {\n",
       "      loadScript(\"vega\")\n",
       "        .then(() => loadScript(\"vega-lite\"))\n",
       "        .then(() => loadScript(\"vega-embed\"))\n",
       "        .catch(showError)\n",
       "        .then(() => displayChart(vegaEmbed));\n",
       "    }\n",
       "  })({\"config\": {\"view\": {\"continuousWidth\": 400, \"continuousHeight\": 300}}, \"layer\": [{\"layer\": [{\"mark\": {\"type\": \"point\", \"size\": 75}, \"encoding\": {\"tooltip\": [{\"type\": \"temporal\", \"field\": \"date\"}, {\"type\": \"quantitative\", \"field\": \"deathIncrease\"}, {\"type\": \"quantitative\", \"field\": \"sma7d\"}], \"x\": {\"type\": \"temporal\", \"field\": \"date\"}, \"y\": {\"type\": \"quantitative\", \"field\": \"deathIncrease\"}}, \"selection\": {\"selector018\": {\"type\": \"interval\", \"bind\": \"scales\", \"encodings\": [\"x\", \"y\"]}}}, {\"mark\": {\"type\": \"line\", \"color\": \"purple\"}, \"encoding\": {\"x\": {\"type\": \"temporal\", \"field\": \"date\"}, \"y\": {\"type\": \"quantitative\", \"field\": \"sma7d\"}}}]}, {\"mark\": {\"type\": \"rule\", \"color\": \"#aaa\"}, \"encoding\": {\"x\": {\"type\": \"temporal\", \"field\": \"date\"}}, \"transform\": [{\"filter\": {\"selection\": \"selector017\"}}]}, {\"mark\": \"circle\", \"encoding\": {\"opacity\": {\"condition\": {\"value\": 1, \"selection\": \"selector017\"}, \"value\": 0}, \"tooltip\": [{\"type\": \"temporal\", \"field\": \"date\"}, {\"type\": \"quantitative\", \"field\": \"deathIncrease\"}, {\"type\": \"quantitative\", \"field\": \"sma7d\"}], \"x\": {\"type\": \"temporal\", \"field\": \"date\"}, \"y\": {\"type\": \"quantitative\", \"field\": \"deathIncrease\"}}, \"selection\": {\"selector017\": {\"type\": \"single\", \"encodings\": [\"x\"], \"on\": \"mouseover\", \"nearest\": true, \"empty\": \"none\"}}}, {\"mark\": {\"type\": \"text\", \"align\": \"left\", \"dx\": 5, \"dy\": -5, \"stroke\": \"white\", \"strokeWidth\": 2}, \"encoding\": {\"text\": {\"type\": \"quantitative\", \"field\": \"deathIncrease\"}, \"tooltip\": [{\"type\": \"temporal\", \"field\": \"date\"}, {\"type\": \"quantitative\", \"field\": \"deathIncrease\"}, {\"type\": \"quantitative\", \"field\": \"sma7d\"}], \"x\": {\"type\": \"temporal\", \"field\": \"date\"}, \"y\": {\"type\": \"quantitative\", \"field\": \"deathIncrease\"}}, \"transform\": [{\"filter\": {\"selection\": \"selector017\"}}]}, {\"mark\": {\"type\": \"text\", \"align\": \"left\", \"dx\": 5, \"dy\": -5}, \"encoding\": {\"text\": {\"type\": \"quantitative\", \"field\": \"deathIncrease\"}, \"tooltip\": [{\"type\": \"temporal\", \"field\": \"date\"}, {\"type\": \"quantitative\", \"field\": \"deathIncrease\"}, {\"type\": \"quantitative\", \"field\": \"sma7d\"}], \"x\": {\"type\": \"temporal\", \"field\": \"date\"}, \"y\": {\"type\": \"quantitative\", \"field\": \"deathIncrease\"}}, \"transform\": [{\"filter\": {\"selection\": \"selector017\"}}]}], \"data\": {\"name\": \"data-93bc602c6fc3ef03c713653f229d2915\"}, \"height\": 400, \"title\": \"Non Tri-State: deathIncrease\", \"width\": 500, \"$schema\": \"https://vega.github.io/schema/vega-lite/v4.8.1.json\", \"datasets\": {\"data-93bc602c6fc3ef03c713653f229d2915\": [{\"date\": \"2020-12-04T00:00:00\", \"totalTestResultsIncrease\": 1618914.0, \"positiveIncrease\": 209649.0, \"death\": 220957.0, \"deathIncrease\": 2420.0, \"positiveRate\": 0.129, \"state\": \"Non Tri-State\", \"sma7d\": 1837.571}, {\"date\": \"2020-12-05T00:00:00\", \"totalTestResultsIncrease\": 1907544.0, \"positiveIncrease\": 200961.0, \"death\": 223320.0, \"deathIncrease\": 2363.0, \"positiveRate\": 0.105, \"state\": \"Non Tri-State\", \"sma7d\": 2007.143}, {\"date\": \"2020-12-06T00:00:00\", \"totalTestResultsIncrease\": 1407762.0, \"positiveIncrease\": 166017.0, \"death\": 224408.0, \"deathIncrease\": 1088.0, \"positiveRate\": 0.118, \"state\": \"Non Tri-State\", \"sma7d\": 2054.857}, {\"date\": \"2020-12-07T00:00:00\", \"totalTestResultsIncrease\": 1445889.0, \"positiveIncrease\": 161905.0, \"death\": 225523.0, \"deathIncrease\": 1115.0, \"positiveRate\": 0.112, \"state\": \"Non Tri-State\", \"sma7d\": 2084.714}, {\"date\": \"2020-12-08T00:00:00\", \"totalTestResultsIncrease\": 1401797.0, \"positiveIncrease\": 197885.0, \"death\": 228020.0, \"deathIncrease\": 2497.0, \"positiveRate\": 0.141, \"state\": \"Non Tri-State\", \"sma7d\": 2111.429}, {\"date\": \"2020-12-09T00:00:00\", \"totalTestResultsIncrease\": 1439031.0, \"positiveIncrease\": 196951.0, \"death\": 230933.0, \"deathIncrease\": 2913.0, \"positiveRate\": 0.137, \"state\": \"Non Tri-State\", \"sma7d\": 2152.571}, {\"date\": \"2020-12-10T00:00:00\", \"totalTestResultsIncrease\": 1603181.0, \"positiveIncrease\": 200876.0, \"death\": 233863.0, \"deathIncrease\": 2930.0, \"positiveRate\": 0.125, \"state\": \"Non Tri-State\", \"sma7d\": 2189.429}, {\"date\": \"2020-12-11T00:00:00\", \"totalTestResultsIncrease\": 1670039.0, \"positiveIncrease\": 216759.0, \"death\": 236431.0, \"deathIncrease\": 2568.0, \"positiveRate\": 0.13, \"state\": \"Non Tri-State\", \"sma7d\": 2210.571}, {\"date\": \"2020-12-12T00:00:00\", \"totalTestResultsIncrease\": 1584932.0, \"positiveIncrease\": 207270.0, \"death\": 238770.0, \"deathIncrease\": 2339.0, \"positiveRate\": 0.131, \"state\": \"Non Tri-State\", \"sma7d\": 2207.143}, {\"date\": \"2020-12-13T00:00:00\", \"totalTestResultsIncrease\": 1560202.0, \"positiveIncrease\": 171858.0, \"death\": 240142.0, \"deathIncrease\": 1372.0, \"positiveRate\": 0.11, \"state\": \"Non Tri-State\", \"sma7d\": 2247.714}, {\"date\": \"2020-12-14T00:00:00\", \"totalTestResultsIncrease\": 1627012.0, \"positiveIncrease\": 171250.0, \"death\": 241309.0, \"deathIncrease\": 1167.0, \"positiveRate\": 0.105, \"state\": \"Non Tri-State\", \"sma7d\": 2255.143}, {\"date\": \"2020-12-15T00:00:00\", \"totalTestResultsIncrease\": 1493730.0, \"positiveIncrease\": 174069.0, \"death\": 243982.0, \"deathIncrease\": 2673.0, \"positiveRate\": 0.117, \"state\": \"Non Tri-State\", \"sma7d\": 2280.286}, {\"date\": \"2020-12-16T00:00:00\", \"totalTestResultsIncrease\": 1533875.0, \"positiveIncrease\": 213227.0, \"death\": 247166.0, \"deathIncrease\": 3184.0, \"positiveRate\": 0.139, \"state\": \"Non Tri-State\", \"sma7d\": 2319.0}, {\"date\": \"2020-12-17T00:00:00\", \"totalTestResultsIncrease\": 1620802.0, \"positiveIncrease\": 222882.0, \"death\": 250386.0, \"deathIncrease\": 3220.0, \"positiveRate\": 0.138, \"state\": \"Non Tri-State\", \"sma7d\": 2360.429}, {\"date\": \"2020-12-18T00:00:00\", \"totalTestResultsIncrease\": 1762823.0, \"positiveIncrease\": 219915.0, \"death\": 253057.0, \"deathIncrease\": 2671.0, \"positiveRate\": 0.125, \"state\": \"Non Tri-State\", \"sma7d\": 2375.143}, {\"date\": \"2020-12-19T00:00:00\", \"totalTestResultsIncrease\": 1566149.0, \"positiveIncrease\": 188568.0, \"death\": 255586.0, \"deathIncrease\": 2529.0, \"positiveRate\": 0.12, \"state\": \"Non Tri-State\", \"sma7d\": 2402.286}, {\"date\": \"2020-12-20T00:00:00\", \"totalTestResultsIncrease\": 1589098.0, \"positiveIncrease\": 181275.0, \"death\": 257109.0, \"deathIncrease\": 1523.0, \"positiveRate\": 0.114, \"state\": \"Non Tri-State\", \"sma7d\": 2423.857}, {\"date\": \"2020-12-21T00:00:00\", \"totalTestResultsIncrease\": 1588929.0, \"positiveIncrease\": 161709.0, \"death\": 258354.0, \"deathIncrease\": 1245.0, \"positiveRate\": 0.102, \"state\": \"Non Tri-State\", \"sma7d\": 2435.0}, {\"date\": \"2020-12-22T00:00:00\", \"totalTestResultsIncrease\": 1533484.0, \"positiveIncrease\": 173567.0, \"death\": 261220.0, \"deathIncrease\": 2866.0, \"positiveRate\": 0.113, \"state\": \"Non Tri-State\", \"sma7d\": 2462.571}, {\"date\": \"2020-12-23T00:00:00\", \"totalTestResultsIncrease\": 1458593.0, \"positiveIncrease\": 202771.0, \"death\": 264274.0, \"deathIncrease\": 3054.0, \"positiveRate\": 0.139, \"state\": \"Non Tri-State\", \"sma7d\": 2444.0}, {\"date\": \"2020-12-24T00:00:00\", \"totalTestResultsIncrease\": 1621609.0, \"positiveIncrease\": 184361.0, \"death\": 266966.0, \"deathIncrease\": 2692.0, \"positiveRate\": 0.114, \"state\": \"Non Tri-State\", \"sma7d\": 2368.571}, {\"date\": \"2020-12-25T00:00:00\", \"totalTestResultsIncrease\": 1084166.0, \"positiveIncrease\": 107816.0, \"death\": 268347.0, \"deathIncrease\": 1381.0, \"positiveRate\": 0.099, \"state\": \"Non Tri-State\", \"sma7d\": 2184.286}, {\"date\": \"2020-12-26T00:00:00\", \"totalTestResultsIncrease\": 1916288.0, \"positiveIncrease\": 174978.0, \"death\": 269629.0, \"deathIncrease\": 1282.0, \"positiveRate\": 0.091, \"state\": \"Non Tri-State\", \"sma7d\": 2006.143}, {\"date\": \"2020-12-27T00:00:00\", \"totalTestResultsIncrease\": 1207146.0, \"positiveIncrease\": 142460.0, \"death\": 270894.0, \"deathIncrease\": 1265.0, \"positiveRate\": 0.118, \"state\": \"Non Tri-State\", \"sma7d\": 1969.286}, {\"date\": \"2020-12-28T00:00:00\", \"totalTestResultsIncrease\": 1020438.0, \"positiveIncrease\": 141161.0, \"death\": 272132.0, \"deathIncrease\": 1238.0, \"positiveRate\": 0.138, \"state\": \"Non Tri-State\", \"sma7d\": 1968.286}, {\"date\": \"2020-12-29T00:00:00\", \"totalTestResultsIncrease\": 1081278.0, \"positiveIncrease\": 179470.0, \"death\": 275148.0, \"deathIncrease\": 3016.0, \"positiveRate\": 0.166, \"state\": \"Non Tri-State\", \"sma7d\": 1989.714}, {\"date\": \"2020-12-30T00:00:00\", \"totalTestResultsIncrease\": 1355529.0, \"positiveIncrease\": 205560.0, \"death\": 278684.0, \"deathIncrease\": 3536.0, \"positiveRate\": 0.152, \"state\": \"Non Tri-State\", \"sma7d\": 2058.571}, {\"date\": \"2020-12-31T00:00:00\", \"totalTestResultsIncrease\": 1469783.0, \"positiveIncrease\": 198477.0, \"death\": 281725.0, \"deathIncrease\": 3041.0, \"positiveRate\": 0.135, \"state\": \"Non Tri-State\", \"sma7d\": 2108.429}, {\"date\": \"2021-01-01T00:00:00\", \"totalTestResultsIncrease\": 1083600.0, \"positiveIncrease\": 158073.0, \"death\": 284031.0, \"deathIncrease\": 2306.0, \"positiveRate\": 0.146, \"state\": \"Non Tri-State\", \"sma7d\": 2240.571}, {\"date\": \"2021-01-02T00:00:00\", \"totalTestResultsIncrease\": 1789307.0, \"positiveIncrease\": 254104.0, \"death\": 286177.0, \"deathIncrease\": 2146.0, \"positiveRate\": 0.142, \"state\": \"Non Tri-State\", \"sma7d\": 2364.0}, {\"date\": \"2021-01-03T00:00:00\", \"totalTestResultsIncrease\": 1255016.0, \"positiveIncrease\": 192300.0, \"death\": 287472.0, \"deathIncrease\": 1295.0, \"positiveRate\": 0.153, \"state\": \"Non Tri-State\", \"sma7d\": 2368.286}, {\"date\": \"2021-01-04T00:00:00\", \"totalTestResultsIncrease\": 1346329.0, \"positiveIncrease\": 160355.0, \"death\": 288742.0, \"deathIncrease\": 1270.0, \"positiveRate\": 0.119, \"state\": \"Non Tri-State\", \"sma7d\": 2372.857}, {\"date\": \"2021-01-05T00:00:00\", \"totalTestResultsIncrease\": 1283110.0, \"positiveIncrease\": 193817.0, \"death\": 291910.0, \"deathIncrease\": 3168.0, \"positiveRate\": 0.151, \"state\": \"Non Tri-State\", \"sma7d\": 2394.571}, {\"date\": \"2021-01-06T00:00:00\", \"totalTestResultsIncrease\": 1327901.0, \"positiveIncrease\": 223104.0, \"death\": 295470.0, \"deathIncrease\": 3560.0, \"positiveRate\": 0.168, \"state\": \"Non Tri-State\", \"sma7d\": 2398.0}, {\"date\": \"2021-01-07T00:00:00\", \"totalTestResultsIncrease\": 1616210.0, \"positiveIncrease\": 240846.0, \"death\": 299170.0, \"deathIncrease\": 3700.0, \"positiveRate\": 0.149, \"state\": \"Non Tri-State\", \"sma7d\": 2492.143}, {\"date\": \"2021-01-08T00:00:00\", \"totalTestResultsIncrease\": 1782273.0, \"positiveIncrease\": 263187.0, \"death\": 302638.0, \"deathIncrease\": 3468.0, \"positiveRate\": 0.148, \"state\": \"Non Tri-State\", \"sma7d\": 2658.143}, {\"date\": \"2021-01-09T00:00:00\", \"totalTestResultsIncrease\": 1739259.0, \"positiveIncrease\": 242029.0, \"death\": 305887.0, \"deathIncrease\": 3249.0, \"positiveRate\": 0.139, \"state\": \"Non Tri-State\", \"sma7d\": 2815.714}, {\"date\": \"2021-01-10T00:00:00\", \"totalTestResultsIncrease\": 1735400.0, \"positiveIncrease\": 206707.0, \"death\": 307770.0, \"deathIncrease\": 1883.0, \"positiveRate\": 0.119, \"state\": \"Non Tri-State\", \"sma7d\": 2899.714}, {\"date\": \"2021-01-11T00:00:00\", \"totalTestResultsIncrease\": 1518131.0, \"positiveIncrease\": 167728.0, \"death\": 309196.0, \"deathIncrease\": 1426.0, \"positiveRate\": 0.11, \"state\": \"Non Tri-State\", \"sma7d\": 2922.0}, {\"date\": \"2021-01-12T00:00:00\", \"totalTestResultsIncrease\": 1475497.0, \"positiveIncrease\": 191319.0, \"death\": 312954.0, \"deathIncrease\": 3758.0, \"positiveRate\": 0.13, \"state\": \"Non Tri-State\", \"sma7d\": 3006.286}, {\"date\": \"2021-01-13T00:00:00\", \"totalTestResultsIncrease\": 1542614.0, \"positiveIncrease\": 195571.0, \"death\": 316664.0, \"deathIncrease\": 3710.0, \"positiveRate\": 0.127, \"state\": \"Non Tri-State\", \"sma7d\": 3027.714}, {\"date\": \"2021-01-14T00:00:00\", \"totalTestResultsIncrease\": 1718214.0, \"positiveIncrease\": 201223.0, \"death\": 320266.0, \"deathIncrease\": 3602.0, \"positiveRate\": 0.117, \"state\": \"Non Tri-State\", \"sma7d\": 3013.714}, {\"date\": \"2021-01-15T00:00:00\", \"totalTestResultsIncrease\": 1781893.0, \"positiveIncrease\": 215807.0, \"death\": 323650.0, \"deathIncrease\": 3384.0, \"positiveRate\": 0.121, \"state\": \"Non Tri-State\", \"sma7d\": 3001.714}, {\"date\": \"2021-01-16T00:00:00\", \"totalTestResultsIncrease\": 1752383.0, \"positiveIncrease\": 194481.0, \"death\": 327106.0, \"deathIncrease\": 3456.0, \"positiveRate\": 0.111, \"state\": \"Non Tri-State\", \"sma7d\": 3031.286}, {\"date\": \"2021-01-17T00:00:00\", \"totalTestResultsIncrease\": 1602096.0, \"positiveIncrease\": 167296.0, \"death\": 328962.0, \"deathIncrease\": 1856.0, \"positiveRate\": 0.104, \"state\": \"Non Tri-State\", \"sma7d\": 3027.429}, {\"date\": \"2021-01-18T00:00:00\", \"totalTestResultsIncrease\": 1474235.0, \"positiveIncrease\": 127479.0, \"death\": 330107.0, \"deathIncrease\": 1145.0, \"positiveRate\": 0.086, \"state\": \"Non Tri-State\", \"sma7d\": 2987.286}, {\"date\": \"2021-01-19T00:00:00\", \"totalTestResultsIncrease\": 1310288.0, \"positiveIncrease\": 124813.0, \"death\": 332010.0, \"deathIncrease\": 1903.0, \"positiveRate\": 0.095, \"state\": \"Non Tri-State\", \"sma7d\": 2722.286}, {\"date\": \"2021-01-20T00:00:00\", \"totalTestResultsIncrease\": 1475748.0, \"positiveIncrease\": 166005.0, \"death\": 336032.0, \"deathIncrease\": 4022.0, \"positiveRate\": 0.112, \"state\": \"Non Tri-State\", \"sma7d\": 2766.857}, {\"date\": \"2021-01-21T00:00:00\", \"totalTestResultsIncrease\": 1630303.0, \"positiveIncrease\": 163436.0, \"death\": 339587.0, \"deathIncrease\": 3555.0, \"positiveRate\": 0.1, \"state\": \"Non Tri-State\", \"sma7d\": 2760.143}, {\"date\": \"2021-01-22T00:00:00\", \"totalTestResultsIncrease\": 1629563.0, \"positiveIncrease\": 167620.0, \"death\": 343238.0, \"deathIncrease\": 3651.0, \"positiveRate\": 0.103, \"state\": \"Non Tri-State\", \"sma7d\": 2798.286}, {\"date\": \"2021-01-23T00:00:00\", \"totalTestResultsIncrease\": 1616792.0, \"positiveIncrease\": 153772.0, \"death\": 346626.0, \"deathIncrease\": 3388.0, \"positiveRate\": 0.095, \"state\": \"Non Tri-State\", \"sma7d\": 2788.571}, {\"date\": \"2021-01-24T00:00:00\", \"totalTestResultsIncrease\": 1473790.0, \"positiveIncrease\": 125699.0, \"death\": 348391.0, \"deathIncrease\": 1765.0, \"positiveRate\": 0.085, \"state\": \"Non Tri-State\", \"sma7d\": 2775.571}, {\"date\": \"2021-01-25T00:00:00\", \"totalTestResultsIncrease\": 1383137.0, \"positiveIncrease\": 111104.0, \"death\": 349698.0, \"deathIncrease\": 1307.0, \"positiveRate\": 0.08, \"state\": \"Non Tri-State\", \"sma7d\": 2798.714}, {\"date\": \"2021-01-26T00:00:00\", \"totalTestResultsIncrease\": 1308132.0, \"positiveIncrease\": 126638.0, \"death\": 353111.0, \"deathIncrease\": 3413.0, \"positiveRate\": 0.097, \"state\": \"Non Tri-State\", \"sma7d\": 3014.429}, {\"date\": \"2021-01-27T00:00:00\", \"totalTestResultsIncrease\": 1326039.0, \"positiveIncrease\": 133397.0, \"death\": 356859.0, \"deathIncrease\": 3748.0, \"positiveRate\": 0.101, \"state\": \"Non Tri-State\", \"sma7d\": 2975.286}]}}, {\"mode\": \"vega-lite\"});\n",
       "</script>"
      ],
      "text/plain": [
       "alt.LayerChart(...)"
      ]
     },
     "execution_count": 17,
     "metadata": {},
     "output_type": "execute_result"
    }
   ],
   "source": [
    "create_plot(non_tristate, 'deathIncrease')"
   ]
  }
 ],
 "metadata": {
  "kernelspec": {
   "display_name": "Python 3",
   "language": "python",
   "name": "python3"
  },
  "language_info": {
   "codemirror_mode": {
    "name": "ipython",
    "version": 3
   },
   "file_extension": ".py",
   "mimetype": "text/x-python",
   "name": "python",
   "nbconvert_exporter": "python",
   "pygments_lexer": "ipython3",
   "version": "3.8.7"
  },
  "papermill": {
   "duration": 6.465559,
   "end_time": "2021-01-28T09:33:04.242946",
   "environment_variables": {},
   "exception": null,
   "input_path": "2020-07-19-covid-plots.ipynb",
   "output_path": "2020-07-19-covid-plots.ipynb",
   "parameters": {},
   "start_time": "2021-01-28T09:32:57.777387",
   "version": "2.1.2"
  }
 },
 "nbformat": 4,
 "nbformat_minor": 5
}