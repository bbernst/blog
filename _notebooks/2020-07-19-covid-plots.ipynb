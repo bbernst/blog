{
 "cells": [
  {
   "cell_type": "markdown",
   "metadata": {
    "papermill": {
     "duration": 0.013443,
     "end_time": "2020-11-18T09:12:30.642503",
     "exception": false,
     "start_time": "2020-11-18T09:12:30.629060",
     "status": "completed"
    },
    "tags": []
   },
   "source": [
    "# \"COVID-19 plots\"\n",
    "> \"Interactive plots with daily updates\"\n",
    "\n",
    "- author: bbernst\n",
    "- toc: true\n",
    "- branch: master\n",
    "- badges: true\n",
    "- comments: true\n",
    "- categories: [healthcare, covid]\n",
    "- image: images/covid_plots/covid_mask.png\n",
    "- hide: false\n",
    "- search_exclude: true"
   ]
  },
  {
   "cell_type": "markdown",
   "metadata": {
    "papermill": {
     "duration": 0.011968,
     "end_time": "2020-11-18T09:12:30.668876",
     "exception": false,
     "start_time": "2020-11-18T09:12:30.656908",
     "status": "completed"
    },
    "tags": []
   },
   "source": [
    "I wanted to make a simple COVID-19 post to accomplish two main goals:\n",
    "1. Easily see the specific plots I'm interested in\n",
    "1. Update these plots every day, automatically\n",
    "\n",
    "Enter [fastpages](https://github.com/fastai/fastpages) and [github actions](https://github.com/features/actions). I'd been meaning to set up a blog with fastpages for a while and thought this would be a good reason to try it out. The documentation was great and I was able to set up automatic updates by using https://covid19dashboards.com/ as a guide.\n",
    "\n",
    "The data for this post comes from https://covidtracking.com/, which updates by 5pm each day, and I have my dashboard update at 6:30pm. For each geography -- so far that's the US, New York, and Non Tri-State -- I look at daily positive cases, positive rate, and deaths. Be sure to hover around on each of the plots, they have helpful interactive tooltips to make reading the data more intuitive."
   ]
  },
  {
   "cell_type": "code",
   "execution_count": 1,
   "metadata": {
    "execution": {
     "iopub.execute_input": "2020-11-18T09:12:30.711636Z",
     "iopub.status.busy": "2020-11-18T09:12:30.711080Z",
     "iopub.status.idle": "2020-11-18T09:12:31.098717Z",
     "shell.execute_reply": "2020-11-18T09:12:31.097993Z"
    },
    "papermill": {
     "duration": 0.418411,
     "end_time": "2020-11-18T09:12:31.098945",
     "exception": false,
     "start_time": "2020-11-18T09:12:30.680534",
     "status": "completed"
    },
    "tags": []
   },
   "outputs": [],
   "source": [
    "#collapse\n",
    "from typing import Callable, Literal\n",
    "import pandas as pd\n",
    "import altair as alt"
   ]
  },
  {
   "cell_type": "code",
   "execution_count": 2,
   "metadata": {
    "execution": {
     "iopub.execute_input": "2020-11-18T09:12:31.129131Z",
     "iopub.status.busy": "2020-11-18T09:12:31.128593Z",
     "iopub.status.idle": "2020-11-18T09:12:31.146194Z",
     "shell.execute_reply": "2020-11-18T09:12:31.145735Z"
    },
    "papermill": {
     "duration": 0.033014,
     "end_time": "2020-11-18T09:12:31.146308",
     "exception": false,
     "start_time": "2020-11-18T09:12:31.113294",
     "status": "completed"
    },
    "tags": []
   },
   "outputs": [
    {
     "name": "stdout",
     "output_type": "stream",
     "text": [
      "Last updated at (ET): 2020-11-18 04:12:31 AM\n"
     ]
    }
   ],
   "source": [
    "#hide_input\n",
    "current_utc = pd.Timestamp.now(tz='America/New_York').strftime('%Y-%m-%d %I:%M:%S %p')\n",
    "print(f\"Last updated at (ET): {current_utc}\")"
   ]
  },
  {
   "cell_type": "markdown",
   "metadata": {
    "papermill": {
     "duration": 0.012168,
     "end_time": "2020-11-18T09:12:31.171023",
     "exception": false,
     "start_time": "2020-11-18T09:12:31.158855",
     "status": "completed"
    },
    "tags": []
   },
   "source": [
    "# Data"
   ]
  },
  {
   "cell_type": "code",
   "execution_count": 3,
   "metadata": {
    "execution": {
     "iopub.execute_input": "2020-11-18T09:12:31.201119Z",
     "iopub.status.busy": "2020-11-18T09:12:31.200567Z",
     "iopub.status.idle": "2020-11-18T09:12:32.154319Z",
     "shell.execute_reply": "2020-11-18T09:12:32.155114Z"
    },
    "papermill": {
     "duration": 0.972215,
     "end_time": "2020-11-18T09:12:32.155379",
     "exception": false,
     "start_time": "2020-11-18T09:12:31.183164",
     "status": "completed"
    },
    "tags": []
   },
   "outputs": [],
   "source": [
    "df = pd.read_csv('https://covidtracking.com/api/states/daily.csv')"
   ]
  },
  {
   "cell_type": "markdown",
   "metadata": {
    "papermill": {
     "duration": 0.012391,
     "end_time": "2020-11-18T09:12:32.182730",
     "exception": false,
     "start_time": "2020-11-18T09:12:32.170339",
     "status": "completed"
    },
    "tags": []
   },
   "source": [
    "# Helpers"
   ]
  },
  {
   "cell_type": "code",
   "execution_count": 4,
   "metadata": {
    "execution": {
     "iopub.execute_input": "2020-11-18T09:12:32.215700Z",
     "iopub.status.busy": "2020-11-18T09:12:32.215157Z",
     "iopub.status.idle": "2020-11-18T09:12:32.217040Z",
     "shell.execute_reply": "2020-11-18T09:12:32.217498Z"
    },
    "papermill": {
     "duration": 0.022093,
     "end_time": "2020-11-18T09:12:32.217637",
     "exception": false,
     "start_time": "2020-11-18T09:12:32.195544",
     "status": "completed"
    },
    "tags": []
   },
   "outputs": [],
   "source": [
    "#collapse\n",
    "def create_df(df: pd.DataFrame, \n",
    "              filter_f: Callable, \n",
    "              state_name: str):\n",
    "    out_df = (\n",
    "     df\n",
    "     .assign(date = lambda d: pd.to_datetime(d['date'], format='%Y%m%d'))\n",
    "     .loc[filter_f, :]\n",
    "     .groupby('date')\n",
    "     .apply(lambda d: pd.Series(dict(\n",
    "         totalTestResultsIncrease = d['totalTestResultsIncrease'].sum(),\n",
    "         positiveIncrease = d['positiveIncrease'].sum(),\n",
    "         death = d['death'].sum(),\n",
    "         deathIncrease = d['deathIncrease'].sum()\n",
    "     )))\n",
    "     .reset_index()\n",
    "     .assign(positiveRate = lambda d: round(d['positiveIncrease'] / d['totalTestResultsIncrease'], 3))\n",
    "     .sort_values('date', ascending=True)\n",
    "     .assign(state = state_name)\n",
    "     .reset_index(drop=True)\n",
    "    )\n",
    "    \n",
    "    return out_df"
   ]
  },
  {
   "cell_type": "code",
   "execution_count": 5,
   "metadata": {
    "execution": {
     "iopub.execute_input": "2020-11-18T09:12:32.254407Z",
     "iopub.status.busy": "2020-11-18T09:12:32.253846Z",
     "iopub.status.idle": "2020-11-18T09:12:32.256121Z",
     "shell.execute_reply": "2020-11-18T09:12:32.255662Z"
    },
    "papermill": {
     "duration": 0.026158,
     "end_time": "2020-11-18T09:12:32.256235",
     "exception": false,
     "start_time": "2020-11-18T09:12:32.230077",
     "status": "completed"
    },
    "tags": []
   },
   "outputs": [],
   "source": [
    "#collapse\n",
    "def create_plot(df: pd.DataFrame, \n",
    "                column: Literal['totalTestResultsIncrease', \n",
    "                                'positiveIncrease', \n",
    "                                'death',\n",
    "                                'deathIncrease', \n",
    "                                'positiveRate'],\n",
    "                period: int = 7*8):\n",
    "    df = (\n",
    "     df\n",
    "     .assign(sma7d = lambda d: d[column].rolling(window=7).mean().round(3))\n",
    "     .loc[lambda d: d['date'] >= pd.to_datetime('today') - period * pd.Timedelta('1 days'), :]\n",
    "     .reset_index(drop=True)\n",
    "    )\n",
    "    the_state = df['state'][0]\n",
    "    label = alt.selection_single(\n",
    "        encodings=['x'], on='mouseover', nearest=True, empty='none')\n",
    "    \n",
    "    base = alt.Chart().mark_point(size=75).encode(\n",
    "        x='date:T',\n",
    "        y=f'{column}:Q',\n",
    "        tooltip=['date', f'{column}:Q', 'sma7d:Q']\n",
    "    )\n",
    "\n",
    "    sma = alt.Chart().mark_line(color='purple').encode(\n",
    "        x='date:T',\n",
    "        y='sma7d:Q'\n",
    "    )\n",
    "\n",
    "    layers = alt.layer(\n",
    "        base + sma,\n",
    "\n",
    "        # add a rule mark to serve as a guide line\n",
    "        alt.Chart().mark_rule(color='#aaa').encode(\n",
    "            x='date:T'\n",
    "        ).transform_filter(label),\n",
    "\n",
    "        # add circle marks for selected time points, hide unselected points\n",
    "        base.mark_circle().encode(\n",
    "            opacity=alt.condition(label, alt.value(1), alt.value(0))\n",
    "        ).add_selection(label),\n",
    "\n",
    "        # add white stroked text to provide a legible background for labels\n",
    "        base.mark_text(align='left', dx=5, dy=-5, stroke='white', strokeWidth=2).encode(\n",
    "            text=f'{column}:Q'\n",
    "        ).transform_filter(label),\n",
    "\n",
    "        # add text labels\n",
    "        base.mark_text(align='left', dx=5, dy=-5).encode(\n",
    "            text=f'{column}:Q'\n",
    "        ).transform_filter(label),\n",
    "        \n",
    "        data=df\n",
    "    ).properties(\n",
    "        title=f'{the_state}: {column}',\n",
    "        width=500,\n",
    "        height=400\n",
    "    )\n",
    "    \n",
    "    return layers.interactive()"
   ]
  },
  {
   "cell_type": "markdown",
   "metadata": {
    "papermill": {
     "duration": 0.01238,
     "end_time": "2020-11-18T09:12:32.281173",
     "exception": false,
     "start_time": "2020-11-18T09:12:32.268793",
     "status": "completed"
    },
    "tags": []
   },
   "source": [
    "# Plots"
   ]
  },
  {
   "cell_type": "markdown",
   "metadata": {
    "papermill": {
     "duration": 0.0126,
     "end_time": "2020-11-18T09:12:32.306410",
     "exception": false,
     "start_time": "2020-11-18T09:12:32.293810",
     "status": "completed"
    },
    "tags": []
   },
   "source": [
    "## US"
   ]
  },
  {
   "cell_type": "code",
   "execution_count": 6,
   "metadata": {
    "execution": {
     "iopub.execute_input": "2020-11-18T09:12:32.335625Z",
     "iopub.status.busy": "2020-11-18T09:12:32.335097Z",
     "iopub.status.idle": "2020-11-18T09:12:32.670810Z",
     "shell.execute_reply": "2020-11-18T09:12:32.669960Z"
    },
    "papermill": {
     "duration": 0.351958,
     "end_time": "2020-11-18T09:12:32.671037",
     "exception": false,
     "start_time": "2020-11-18T09:12:32.319079",
     "status": "completed"
    },
    "tags": []
   },
   "outputs": [],
   "source": [
    "us = create_df(df, lambda d: d.index > 0, 'US')"
   ]
  },
  {
   "cell_type": "code",
   "execution_count": 7,
   "metadata": {
    "execution": {
     "iopub.execute_input": "2020-11-18T09:12:32.724546Z",
     "iopub.status.busy": "2020-11-18T09:12:32.714224Z",
     "iopub.status.idle": "2020-11-18T09:12:32.810154Z",
     "shell.execute_reply": "2020-11-18T09:12:32.809559Z"
    },
    "papermill": {
     "duration": 0.123615,
     "end_time": "2020-11-18T09:12:32.810289",
     "exception": false,
     "start_time": "2020-11-18T09:12:32.686674",
     "status": "completed"
    },
    "tags": []
   },
   "outputs": [
    {
     "data": {
      "text/html": [
       "\n",
       "<div id=\"altair-viz-59c6750459b44f508ddd356f0b9ded6d\"></div>\n",
       "<script type=\"text/javascript\">\n",
       "  (function(spec, embedOpt){\n",
       "    let outputDiv = document.currentScript.previousElementSibling;\n",
       "    if (outputDiv.id !== \"altair-viz-59c6750459b44f508ddd356f0b9ded6d\") {\n",
       "      outputDiv = document.getElementById(\"altair-viz-59c6750459b44f508ddd356f0b9ded6d\");\n",
       "    }\n",
       "    const paths = {\n",
       "      \"vega\": \"https://cdn.jsdelivr.net/npm//vega@5?noext\",\n",
       "      \"vega-lib\": \"https://cdn.jsdelivr.net/npm//vega-lib?noext\",\n",
       "      \"vega-lite\": \"https://cdn.jsdelivr.net/npm//vega-lite@4.8.1?noext\",\n",
       "      \"vega-embed\": \"https://cdn.jsdelivr.net/npm//vega-embed@6?noext\",\n",
       "    };\n",
       "\n",
       "    function loadScript(lib) {\n",
       "      return new Promise(function(resolve, reject) {\n",
       "        var s = document.createElement('script');\n",
       "        s.src = paths[lib];\n",
       "        s.async = true;\n",
       "        s.onload = () => resolve(paths[lib]);\n",
       "        s.onerror = () => reject(`Error loading script: ${paths[lib]}`);\n",
       "        document.getElementsByTagName(\"head\")[0].appendChild(s);\n",
       "      });\n",
       "    }\n",
       "\n",
       "    function showError(err) {\n",
       "      outputDiv.innerHTML = `<div class=\"error\" style=\"color:red;\">${err}</div>`;\n",
       "      throw err;\n",
       "    }\n",
       "\n",
       "    function displayChart(vegaEmbed) {\n",
       "      vegaEmbed(outputDiv, spec, embedOpt)\n",
       "        .catch(err => showError(`Javascript Error: ${err.message}<br>This usually means there's a typo in your chart specification. See the javascript console for the full traceback.`));\n",
       "    }\n",
       "\n",
       "    if(typeof define === \"function\" && define.amd) {\n",
       "      requirejs.config({paths});\n",
       "      require([\"vega-embed\"], displayChart, err => showError(`Error loading script: ${err.message}`));\n",
       "    } else if (typeof vegaEmbed === \"function\") {\n",
       "      displayChart(vegaEmbed);\n",
       "    } else {\n",
       "      loadScript(\"vega\")\n",
       "        .then(() => loadScript(\"vega-lite\"))\n",
       "        .then(() => loadScript(\"vega-embed\"))\n",
       "        .catch(showError)\n",
       "        .then(() => displayChart(vegaEmbed));\n",
       "    }\n",
       "  })({\"config\": {\"view\": {\"continuousWidth\": 400, \"continuousHeight\": 300}}, \"layer\": [{\"layer\": [{\"mark\": {\"type\": \"point\", \"size\": 75}, \"encoding\": {\"tooltip\": [{\"type\": \"temporal\", \"field\": \"date\"}, {\"type\": \"quantitative\", \"field\": \"positiveIncrease\"}, {\"type\": \"quantitative\", \"field\": \"sma7d\"}], \"x\": {\"type\": \"temporal\", \"field\": \"date\"}, \"y\": {\"type\": \"quantitative\", \"field\": \"positiveIncrease\"}}, \"selection\": {\"selector002\": {\"type\": \"interval\", \"bind\": \"scales\", \"encodings\": [\"x\", \"y\"]}}}, {\"mark\": {\"type\": \"line\", \"color\": \"purple\"}, \"encoding\": {\"x\": {\"type\": \"temporal\", \"field\": \"date\"}, \"y\": {\"type\": \"quantitative\", \"field\": \"sma7d\"}}}]}, {\"mark\": {\"type\": \"rule\", \"color\": \"#aaa\"}, \"encoding\": {\"x\": {\"type\": \"temporal\", \"field\": \"date\"}}, \"transform\": [{\"filter\": {\"selection\": \"selector001\"}}]}, {\"mark\": \"circle\", \"encoding\": {\"opacity\": {\"condition\": {\"value\": 1, \"selection\": \"selector001\"}, \"value\": 0}, \"tooltip\": [{\"type\": \"temporal\", \"field\": \"date\"}, {\"type\": \"quantitative\", \"field\": \"positiveIncrease\"}, {\"type\": \"quantitative\", \"field\": \"sma7d\"}], \"x\": {\"type\": \"temporal\", \"field\": \"date\"}, \"y\": {\"type\": \"quantitative\", \"field\": \"positiveIncrease\"}}, \"selection\": {\"selector001\": {\"type\": \"single\", \"encodings\": [\"x\"], \"on\": \"mouseover\", \"nearest\": true, \"empty\": \"none\"}}}, {\"mark\": {\"type\": \"text\", \"align\": \"left\", \"dx\": 5, \"dy\": -5, \"stroke\": \"white\", \"strokeWidth\": 2}, \"encoding\": {\"text\": {\"type\": \"quantitative\", \"field\": \"positiveIncrease\"}, \"tooltip\": [{\"type\": \"temporal\", \"field\": \"date\"}, {\"type\": \"quantitative\", \"field\": \"positiveIncrease\"}, {\"type\": \"quantitative\", \"field\": \"sma7d\"}], \"x\": {\"type\": \"temporal\", \"field\": \"date\"}, \"y\": {\"type\": \"quantitative\", \"field\": \"positiveIncrease\"}}, \"transform\": [{\"filter\": {\"selection\": \"selector001\"}}]}, {\"mark\": {\"type\": \"text\", \"align\": \"left\", \"dx\": 5, \"dy\": -5}, \"encoding\": {\"text\": {\"type\": \"quantitative\", \"field\": \"positiveIncrease\"}, \"tooltip\": [{\"type\": \"temporal\", \"field\": \"date\"}, {\"type\": \"quantitative\", \"field\": \"positiveIncrease\"}, {\"type\": \"quantitative\", \"field\": \"sma7d\"}], \"x\": {\"type\": \"temporal\", \"field\": \"date\"}, \"y\": {\"type\": \"quantitative\", \"field\": \"positiveIncrease\"}}, \"transform\": [{\"filter\": {\"selection\": \"selector001\"}}]}], \"data\": {\"name\": \"data-7d1b7d63be4d372ed95dcbb781d28e87\"}, \"height\": 400, \"title\": \"US: positiveIncrease\", \"width\": 500, \"$schema\": \"https://vega.github.io/schema/vega-lite/v4.8.1.json\", \"datasets\": {\"data-7d1b7d63be4d372ed95dcbb781d28e87\": [{\"date\": \"2020-09-24T00:00:00\", \"totalTestResultsIncrease\": 1037542.0, \"positiveIncrease\": 43374.0, \"death\": 194848.0, \"deathIncrease\": 921.0, \"positiveRate\": 0.042, \"state\": \"US\", \"sma7d\": 42581.571}, {\"date\": \"2020-09-25T00:00:00\", \"totalTestResultsIncrease\": 1112451.0, \"positiveIncrease\": 55002.0, \"death\": 195692.0, \"deathIncrease\": 844.0, \"positiveRate\": 0.049, \"state\": \"US\", \"sma7d\": 43708.714}, {\"date\": \"2020-09-26T00:00:00\", \"totalTestResultsIncrease\": 1123184.0, \"positiveIncrease\": 47586.0, \"death\": 196561.0, \"deathIncrease\": 869.0, \"positiveRate\": 0.042, \"state\": \"US\", \"sma7d\": 44093.429}, {\"date\": \"2020-09-27T00:00:00\", \"totalTestResultsIncrease\": 905578.0, \"positiveIncrease\": 35055.0, \"death\": 196868.0, \"deathIncrease\": 307.0, \"positiveRate\": 0.039, \"state\": \"US\", \"sma7d\": 44000.857}, {\"date\": \"2020-09-28T00:00:00\", \"totalTestResultsIncrease\": 1164211.0, \"positiveIncrease\": 36052.0, \"death\": 197125.0, \"deathIncrease\": 257.0, \"positiveRate\": 0.031, \"state\": \"US\", \"sma7d\": 43571.0}, {\"date\": \"2020-09-29T00:00:00\", \"totalTestResultsIncrease\": 914062.0, \"positiveIncrease\": 36286.0, \"death\": 197864.0, \"deathIncrease\": 739.0, \"positiveRate\": 0.04, \"state\": \"US\", \"sma7d\": 41703.286}, {\"date\": \"2020-09-30T00:00:00\", \"totalTestResultsIncrease\": 904382.0, \"positiveIncrease\": 44265.0, \"death\": 198925.0, \"deathIncrease\": 1061.0, \"positiveRate\": 0.049, \"state\": \"US\", \"sma7d\": 42517.143}, {\"date\": \"2020-10-01T00:00:00\", \"totalTestResultsIncrease\": 998172.0, \"positiveIncrease\": 45486.0, \"death\": 199776.0, \"deathIncrease\": 851.0, \"positiveRate\": 0.046, \"state\": \"US\", \"sma7d\": 42818.857}, {\"date\": \"2020-10-02T00:00:00\", \"totalTestResultsIncrease\": 1241655.0, \"positiveIncrease\": 49146.0, \"death\": 200611.0, \"deathIncrease\": 835.0, \"positiveRate\": 0.04, \"state\": \"US\", \"sma7d\": 41982.286}, {\"date\": \"2020-10-03T00:00:00\", \"totalTestResultsIncrease\": 1099978.0, \"positiveIncrease\": 51001.0, \"death\": 201352.0, \"deathIncrease\": 741.0, \"positiveRate\": 0.046, \"state\": \"US\", \"sma7d\": 42470.143}, {\"date\": \"2020-10-04T00:00:00\", \"totalTestResultsIncrease\": 1028949.0, \"positiveIncrease\": 38239.0, \"death\": 201715.0, \"deathIncrease\": 363.0, \"positiveRate\": 0.037, \"state\": \"US\", \"sma7d\": 42925.0}, {\"date\": \"2020-10-05T00:00:00\", \"totalTestResultsIncrease\": 990534.0, \"positiveIncrease\": 37842.0, \"death\": 202041.0, \"deathIncrease\": 326.0, \"positiveRate\": 0.038, \"state\": \"US\", \"sma7d\": 43180.714}, {\"date\": \"2020-10-06T00:00:00\", \"totalTestResultsIncrease\": 907026.0, \"positiveIncrease\": 38564.0, \"death\": 202675.0, \"deathIncrease\": 634.0, \"positiveRate\": 0.043, \"state\": \"US\", \"sma7d\": 43506.143}, {\"date\": \"2020-10-07T00:00:00\", \"totalTestResultsIncrease\": 973491.0, \"positiveIncrease\": 50403.0, \"death\": 203591.0, \"deathIncrease\": 916.0, \"positiveRate\": 0.052, \"state\": \"US\", \"sma7d\": 44383.0}, {\"date\": \"2020-10-08T00:00:00\", \"totalTestResultsIncrease\": 1149465.0, \"positiveIncrease\": 55117.0, \"death\": 204577.0, \"deathIncrease\": 986.0, \"positiveRate\": 0.048, \"state\": \"US\", \"sma7d\": 45758.857}, {\"date\": \"2020-10-09T00:00:00\", \"totalTestResultsIncrease\": 1200821.0, \"positiveIncrease\": 56730.0, \"death\": 205470.0, \"deathIncrease\": 893.0, \"positiveRate\": 0.047, \"state\": \"US\", \"sma7d\": 46842.286}, {\"date\": \"2020-10-10T00:00:00\", \"totalTestResultsIncrease\": 1247234.0, \"positiveIncrease\": 57230.0, \"death\": 206135.0, \"deathIncrease\": 665.0, \"positiveRate\": 0.046, \"state\": \"US\", \"sma7d\": 47732.143}, {\"date\": \"2020-10-11T00:00:00\", \"totalTestResultsIncrease\": 1083240.0, \"positiveIncrease\": 46693.0, \"death\": 206601.0, \"deathIncrease\": 466.0, \"positiveRate\": 0.043, \"state\": \"US\", \"sma7d\": 48939.857}, {\"date\": \"2020-10-12T00:00:00\", \"totalTestResultsIncrease\": 1063984.0, \"positiveIncrease\": 42768.0, \"death\": 206888.0, \"deathIncrease\": 287.0, \"positiveRate\": 0.04, \"state\": \"US\", \"sma7d\": 49643.571}, {\"date\": \"2020-10-13T00:00:00\", \"totalTestResultsIncrease\": 1040824.0, \"positiveIncrease\": 48149.0, \"death\": 207578.0, \"deathIncrease\": 690.0, \"positiveRate\": 0.046, \"state\": \"US\", \"sma7d\": 51012.857}, {\"date\": \"2020-10-14T00:00:00\", \"totalTestResultsIncrease\": 1041389.0, \"positiveIncrease\": 56247.0, \"death\": 208389.0, \"deathIncrease\": 811.0, \"positiveRate\": 0.054, \"state\": \"US\", \"sma7d\": 51847.714}, {\"date\": \"2020-10-15T00:00:00\", \"totalTestResultsIncrease\": 1102280.0, \"positiveIncrease\": 62852.0, \"death\": 209340.0, \"deathIncrease\": 951.0, \"positiveRate\": 0.057, \"state\": \"US\", \"sma7d\": 52952.714}, {\"date\": \"2020-10-16T00:00:00\", \"totalTestResultsIncrease\": 1230075.0, \"positiveIncrease\": 67933.0, \"death\": 210217.0, \"deathIncrease\": 877.0, \"positiveRate\": 0.055, \"state\": \"US\", \"sma7d\": 54553.143}, {\"date\": \"2020-10-17T00:00:00\", \"totalTestResultsIncrease\": 1295276.0, \"positiveIncrease\": 57742.0, \"death\": 210997.0, \"deathIncrease\": 780.0, \"positiveRate\": 0.045, \"state\": \"US\", \"sma7d\": 54626.286}, {\"date\": \"2020-10-18T00:00:00\", \"totalTestResultsIncrease\": 1055833.0, \"positiveIncrease\": 48618.0, \"death\": 211390.0, \"deathIncrease\": 393.0, \"positiveRate\": 0.046, \"state\": \"US\", \"sma7d\": 54901.286}, {\"date\": \"2020-10-19T00:00:00\", \"totalTestResultsIncrease\": 1130890.0, \"positiveIncrease\": 56902.0, \"death\": 211846.0, \"deathIncrease\": 456.0, \"positiveRate\": 0.05, \"state\": \"US\", \"sma7d\": 56920.429}, {\"date\": \"2020-10-20T00:00:00\", \"totalTestResultsIncrease\": 948693.0, \"positiveIncrease\": 60331.0, \"death\": 212678.0, \"deathIncrease\": 832.0, \"positiveRate\": 0.064, \"state\": \"US\", \"sma7d\": 58660.714}, {\"date\": \"2020-10-21T00:00:00\", \"totalTestResultsIncrease\": 939535.0, \"positiveIncrease\": 60669.0, \"death\": 213702.0, \"deathIncrease\": 1024.0, \"positiveRate\": 0.065, \"state\": \"US\", \"sma7d\": 59292.429}, {\"date\": \"2020-10-22T00:00:00\", \"totalTestResultsIncrease\": 1218558.0, \"positiveIncrease\": 72893.0, \"death\": 214845.0, \"deathIncrease\": 1143.0, \"positiveRate\": 0.06, \"state\": \"US\", \"sma7d\": 60726.857}, {\"date\": \"2020-10-23T00:00:00\", \"totalTestResultsIncrease\": 1378574.0, \"positiveIncrease\": 82226.0, \"death\": 215762.0, \"deathIncrease\": 917.0, \"positiveRate\": 0.06, \"state\": \"US\", \"sma7d\": 62768.714}, {\"date\": \"2020-10-24T00:00:00\", \"totalTestResultsIncrease\": 1321334.0, \"positiveIncrease\": 82727.0, \"death\": 216652.0, \"deathIncrease\": 890.0, \"positiveRate\": 0.063, \"state\": \"US\", \"sma7d\": 66338.0}, {\"date\": \"2020-10-25T00:00:00\", \"totalTestResultsIncrease\": 1191449.0, \"positiveIncrease\": 65081.0, \"death\": 217029.0, \"deathIncrease\": 377.0, \"positiveRate\": 0.055, \"state\": \"US\", \"sma7d\": 68689.857}, {\"date\": \"2020-10-26T00:00:00\", \"totalTestResultsIncrease\": 1201328.0, \"positiveIncrease\": 62104.0, \"death\": 217418.0, \"deathIncrease\": 389.0, \"positiveRate\": 0.052, \"state\": \"US\", \"sma7d\": 69433.0}, {\"date\": \"2020-10-27T00:00:00\", \"totalTestResultsIncrease\": 1080661.0, \"positiveIncrease\": 73000.0, \"death\": 218349.0, \"deathIncrease\": 931.0, \"positiveRate\": 0.068, \"state\": \"US\", \"sma7d\": 71242.857}, {\"date\": \"2020-10-28T00:00:00\", \"totalTestResultsIncrease\": 1085623.0, \"positiveIncrease\": 78632.0, \"death\": 219374.0, \"deathIncrease\": 1025.0, \"positiveRate\": 0.072, \"state\": \"US\", \"sma7d\": 73809.0}, {\"date\": \"2020-10-29T00:00:00\", \"totalTestResultsIncrease\": 1324645.0, \"positiveIncrease\": 87976.0, \"death\": 220423.0, \"deathIncrease\": 1049.0, \"positiveRate\": 0.066, \"state\": \"US\", \"sma7d\": 75963.714}, {\"date\": \"2020-10-30T00:00:00\", \"totalTestResultsIncrease\": 1362005.0, \"positiveIncrease\": 96700.0, \"death\": 221356.0, \"deathIncrease\": 933.0, \"positiveRate\": 0.071, \"state\": \"US\", \"sma7d\": 78031.429}, {\"date\": \"2020-10-31T00:00:00\", \"totalTestResultsIncrease\": 1373818.0, \"positiveIncrease\": 90499.0, \"death\": 222319.0, \"deathIncrease\": 963.0, \"positiveRate\": 0.066, \"state\": \"US\", \"sma7d\": 79141.714}, {\"date\": \"2020-11-01T00:00:00\", \"totalTestResultsIncrease\": 1139567.0, \"positiveIncrease\": 74052.0, \"death\": 222710.0, \"deathIncrease\": 391.0, \"positiveRate\": 0.065, \"state\": \"US\", \"sma7d\": 80423.286}, {\"date\": \"2020-11-02T00:00:00\", \"totalTestResultsIncrease\": 1327965.0, \"positiveIncrease\": 82240.0, \"death\": 223186.0, \"deathIncrease\": 476.0, \"positiveRate\": 0.062, \"state\": \"US\", \"sma7d\": 83299.857}, {\"date\": \"2020-11-03T00:00:00\", \"totalTestResultsIncrease\": 1125798.0, \"positiveIncrease\": 86073.0, \"death\": 224715.0, \"deathIncrease\": 1529.0, \"positiveRate\": 0.076, \"state\": \"US\", \"sma7d\": 85167.429}, {\"date\": \"2020-11-04T00:00:00\", \"totalTestResultsIncrease\": 1207099.0, \"positiveIncrease\": 103063.0, \"death\": 225831.0, \"deathIncrease\": 1116.0, \"positiveRate\": 0.085, \"state\": \"US\", \"sma7d\": 88657.571}, {\"date\": \"2020-11-05T00:00:00\", \"totalTestResultsIncrease\": 1563726.0, \"positiveIncrease\": 116152.0, \"death\": 226955.0, \"deathIncrease\": 1124.0, \"positiveRate\": 0.074, \"state\": \"US\", \"sma7d\": 92682.714}, {\"date\": \"2020-11-06T00:00:00\", \"totalTestResultsIncrease\": 1562024.0, \"positiveIncrease\": 125234.0, \"death\": 228141.0, \"deathIncrease\": 1186.0, \"positiveRate\": 0.08, \"state\": \"US\", \"sma7d\": 96759.0}, {\"date\": \"2020-11-07T00:00:00\", \"totalTestResultsIncrease\": 1405858.0, \"positiveIncrease\": 129187.0, \"death\": 229245.0, \"deathIncrease\": 1104.0, \"positiveRate\": 0.092, \"state\": \"US\", \"sma7d\": 102285.857}, {\"date\": \"2020-11-08T00:00:00\", \"totalTestResultsIncrease\": 1259450.0, \"positiveIncrease\": 110829.0, \"death\": 229732.0, \"deathIncrease\": 487.0, \"positiveRate\": 0.088, \"state\": \"US\", \"sma7d\": 107539.714}, {\"date\": \"2020-11-09T00:00:00\", \"totalTestResultsIncrease\": 1518878.0, \"positiveIncrease\": 118698.0, \"death\": 230312.0, \"deathIncrease\": 580.0, \"positiveRate\": 0.078, \"state\": \"US\", \"sma7d\": 112748.0}, {\"date\": \"2020-11-10T00:00:00\", \"totalTestResultsIncrease\": 1237365.0, \"positiveIncrease\": 130995.0, \"death\": 231659.0, \"deathIncrease\": 1347.0, \"positiveRate\": 0.106, \"state\": \"US\", \"sma7d\": 119165.429}, {\"date\": \"2020-11-11T00:00:00\", \"totalTestResultsIncrease\": 1381858.0, \"positiveIncrease\": 144487.0, \"death\": 233224.0, \"deathIncrease\": 1565.0, \"positiveRate\": 0.105, \"state\": \"US\", \"sma7d\": 125083.143}, {\"date\": \"2020-11-12T00:00:00\", \"totalTestResultsIncrease\": 1490426.0, \"positiveIncrease\": 150526.0, \"death\": 234328.0, \"deathIncrease\": 1104.0, \"positiveRate\": 0.101, \"state\": \"US\", \"sma7d\": 129993.714}, {\"date\": \"2020-11-13T00:00:00\", \"totalTestResultsIncrease\": 1683680.0, \"positiveIncrease\": 171376.0, \"death\": 235632.0, \"deathIncrease\": 1304.0, \"positiveRate\": 0.102, \"state\": \"US\", \"sma7d\": 136585.429}, {\"date\": \"2020-11-14T00:00:00\", \"totalTestResultsIncrease\": 1676767.0, \"positiveIncrease\": 164848.0, \"death\": 236956.0, \"deathIncrease\": 1324.0, \"positiveRate\": 0.098, \"state\": \"US\", \"sma7d\": 141679.857}, {\"date\": \"2020-11-15T00:00:00\", \"totalTestResultsIncrease\": 1618378.0, \"positiveIncrease\": 145582.0, \"death\": 237636.0, \"deathIncrease\": 680.0, \"positiveRate\": 0.09, \"state\": \"US\", \"sma7d\": 146644.571}, {\"date\": \"2020-11-16T00:00:00\", \"totalTestResultsIncrease\": 1479298.0, \"positiveIncrease\": 148532.0, \"death\": 238217.0, \"deathIncrease\": 581.0, \"positiveRate\": 0.1, \"state\": \"US\", \"sma7d\": 150906.571}, {\"date\": \"2020-11-17T00:00:00\", \"totalTestResultsIncrease\": 1495154.0, \"positiveIncrease\": 155201.0, \"death\": 239684.0, \"deathIncrease\": 1565.0, \"positiveRate\": 0.104, \"state\": \"US\", \"sma7d\": 154364.571}]}}, {\"mode\": \"vega-lite\"});\n",
       "</script>"
      ],
      "text/plain": [
       "alt.LayerChart(...)"
      ]
     },
     "execution_count": 7,
     "metadata": {},
     "output_type": "execute_result"
    }
   ],
   "source": [
    "create_plot(us, 'positiveIncrease')"
   ]
  },
  {
   "cell_type": "code",
   "execution_count": 8,
   "metadata": {
    "execution": {
     "iopub.execute_input": "2020-11-18T09:12:32.852023Z",
     "iopub.status.busy": "2020-11-18T09:12:32.845668Z",
     "iopub.status.idle": "2020-11-18T09:12:32.936412Z",
     "shell.execute_reply": "2020-11-18T09:12:32.935938Z"
    },
    "papermill": {
     "duration": 0.111148,
     "end_time": "2020-11-18T09:12:32.936537",
     "exception": false,
     "start_time": "2020-11-18T09:12:32.825389",
     "status": "completed"
    },
    "tags": []
   },
   "outputs": [
    {
     "data": {
      "text/html": [
       "\n",
       "<div id=\"altair-viz-a05cf122b0014d1cad130363617cc936\"></div>\n",
       "<script type=\"text/javascript\">\n",
       "  (function(spec, embedOpt){\n",
       "    let outputDiv = document.currentScript.previousElementSibling;\n",
       "    if (outputDiv.id !== \"altair-viz-a05cf122b0014d1cad130363617cc936\") {\n",
       "      outputDiv = document.getElementById(\"altair-viz-a05cf122b0014d1cad130363617cc936\");\n",
       "    }\n",
       "    const paths = {\n",
       "      \"vega\": \"https://cdn.jsdelivr.net/npm//vega@5?noext\",\n",
       "      \"vega-lib\": \"https://cdn.jsdelivr.net/npm//vega-lib?noext\",\n",
       "      \"vega-lite\": \"https://cdn.jsdelivr.net/npm//vega-lite@4.8.1?noext\",\n",
       "      \"vega-embed\": \"https://cdn.jsdelivr.net/npm//vega-embed@6?noext\",\n",
       "    };\n",
       "\n",
       "    function loadScript(lib) {\n",
       "      return new Promise(function(resolve, reject) {\n",
       "        var s = document.createElement('script');\n",
       "        s.src = paths[lib];\n",
       "        s.async = true;\n",
       "        s.onload = () => resolve(paths[lib]);\n",
       "        s.onerror = () => reject(`Error loading script: ${paths[lib]}`);\n",
       "        document.getElementsByTagName(\"head\")[0].appendChild(s);\n",
       "      });\n",
       "    }\n",
       "\n",
       "    function showError(err) {\n",
       "      outputDiv.innerHTML = `<div class=\"error\" style=\"color:red;\">${err}</div>`;\n",
       "      throw err;\n",
       "    }\n",
       "\n",
       "    function displayChart(vegaEmbed) {\n",
       "      vegaEmbed(outputDiv, spec, embedOpt)\n",
       "        .catch(err => showError(`Javascript Error: ${err.message}<br>This usually means there's a typo in your chart specification. See the javascript console for the full traceback.`));\n",
       "    }\n",
       "\n",
       "    if(typeof define === \"function\" && define.amd) {\n",
       "      requirejs.config({paths});\n",
       "      require([\"vega-embed\"], displayChart, err => showError(`Error loading script: ${err.message}`));\n",
       "    } else if (typeof vegaEmbed === \"function\") {\n",
       "      displayChart(vegaEmbed);\n",
       "    } else {\n",
       "      loadScript(\"vega\")\n",
       "        .then(() => loadScript(\"vega-lite\"))\n",
       "        .then(() => loadScript(\"vega-embed\"))\n",
       "        .catch(showError)\n",
       "        .then(() => displayChart(vegaEmbed));\n",
       "    }\n",
       "  })({\"config\": {\"view\": {\"continuousWidth\": 400, \"continuousHeight\": 300}}, \"layer\": [{\"layer\": [{\"mark\": {\"type\": \"point\", \"size\": 75}, \"encoding\": {\"tooltip\": [{\"type\": \"temporal\", \"field\": \"date\"}, {\"type\": \"quantitative\", \"field\": \"positiveRate\"}, {\"type\": \"quantitative\", \"field\": \"sma7d\"}], \"x\": {\"type\": \"temporal\", \"field\": \"date\"}, \"y\": {\"type\": \"quantitative\", \"field\": \"positiveRate\"}}, \"selection\": {\"selector004\": {\"type\": \"interval\", \"bind\": \"scales\", \"encodings\": [\"x\", \"y\"]}}}, {\"mark\": {\"type\": \"line\", \"color\": \"purple\"}, \"encoding\": {\"x\": {\"type\": \"temporal\", \"field\": \"date\"}, \"y\": {\"type\": \"quantitative\", \"field\": \"sma7d\"}}}]}, {\"mark\": {\"type\": \"rule\", \"color\": \"#aaa\"}, \"encoding\": {\"x\": {\"type\": \"temporal\", \"field\": \"date\"}}, \"transform\": [{\"filter\": {\"selection\": \"selector003\"}}]}, {\"mark\": \"circle\", \"encoding\": {\"opacity\": {\"condition\": {\"value\": 1, \"selection\": \"selector003\"}, \"value\": 0}, \"tooltip\": [{\"type\": \"temporal\", \"field\": \"date\"}, {\"type\": \"quantitative\", \"field\": \"positiveRate\"}, {\"type\": \"quantitative\", \"field\": \"sma7d\"}], \"x\": {\"type\": \"temporal\", \"field\": \"date\"}, \"y\": {\"type\": \"quantitative\", \"field\": \"positiveRate\"}}, \"selection\": {\"selector003\": {\"type\": \"single\", \"encodings\": [\"x\"], \"on\": \"mouseover\", \"nearest\": true, \"empty\": \"none\"}}}, {\"mark\": {\"type\": \"text\", \"align\": \"left\", \"dx\": 5, \"dy\": -5, \"stroke\": \"white\", \"strokeWidth\": 2}, \"encoding\": {\"text\": {\"type\": \"quantitative\", \"field\": \"positiveRate\"}, \"tooltip\": [{\"type\": \"temporal\", \"field\": \"date\"}, {\"type\": \"quantitative\", \"field\": \"positiveRate\"}, {\"type\": \"quantitative\", \"field\": \"sma7d\"}], \"x\": {\"type\": \"temporal\", \"field\": \"date\"}, \"y\": {\"type\": \"quantitative\", \"field\": \"positiveRate\"}}, \"transform\": [{\"filter\": {\"selection\": \"selector003\"}}]}, {\"mark\": {\"type\": \"text\", \"align\": \"left\", \"dx\": 5, \"dy\": -5}, \"encoding\": {\"text\": {\"type\": \"quantitative\", \"field\": \"positiveRate\"}, \"tooltip\": [{\"type\": \"temporal\", \"field\": \"date\"}, {\"type\": \"quantitative\", \"field\": \"positiveRate\"}, {\"type\": \"quantitative\", \"field\": \"sma7d\"}], \"x\": {\"type\": \"temporal\", \"field\": \"date\"}, \"y\": {\"type\": \"quantitative\", \"field\": \"positiveRate\"}}, \"transform\": [{\"filter\": {\"selection\": \"selector003\"}}]}], \"data\": {\"name\": \"data-8c388b86db3c6b0626266875b5937c9e\"}, \"height\": 400, \"title\": \"US: positiveRate\", \"width\": 500, \"$schema\": \"https://vega.github.io/schema/vega-lite/v4.8.1.json\", \"datasets\": {\"data-8c388b86db3c6b0626266875b5937c9e\": [{\"date\": \"2020-09-24T00:00:00\", \"totalTestResultsIncrease\": 1037542.0, \"positiveIncrease\": 43374.0, \"death\": 194848.0, \"deathIncrease\": 921.0, \"positiveRate\": 0.042, \"state\": \"US\", \"sma7d\": 0.044}, {\"date\": \"2020-09-25T00:00:00\", \"totalTestResultsIncrease\": 1112451.0, \"positiveIncrease\": 55002.0, \"death\": 195692.0, \"deathIncrease\": 844.0, \"positiveRate\": 0.049, \"state\": \"US\", \"sma7d\": 0.044}, {\"date\": \"2020-09-26T00:00:00\", \"totalTestResultsIncrease\": 1123184.0, \"positiveIncrease\": 47586.0, \"death\": 196561.0, \"deathIncrease\": 869.0, \"positiveRate\": 0.042, \"state\": \"US\", \"sma7d\": 0.045}, {\"date\": \"2020-09-27T00:00:00\", \"totalTestResultsIncrease\": 905578.0, \"positiveIncrease\": 35055.0, \"death\": 196868.0, \"deathIncrease\": 307.0, \"positiveRate\": 0.039, \"state\": \"US\", \"sma7d\": 0.045}, {\"date\": \"2020-09-28T00:00:00\", \"totalTestResultsIncrease\": 1164211.0, \"positiveIncrease\": 36052.0, \"death\": 197125.0, \"deathIncrease\": 257.0, \"positiveRate\": 0.031, \"state\": \"US\", \"sma7d\": 0.043}, {\"date\": \"2020-09-29T00:00:00\", \"totalTestResultsIncrease\": 914062.0, \"positiveIncrease\": 36286.0, \"death\": 197864.0, \"deathIncrease\": 739.0, \"positiveRate\": 0.04, \"state\": \"US\", \"sma7d\": 0.04}, {\"date\": \"2020-09-30T00:00:00\", \"totalTestResultsIncrease\": 904382.0, \"positiveIncrease\": 44265.0, \"death\": 198925.0, \"deathIncrease\": 1061.0, \"positiveRate\": 0.049, \"state\": \"US\", \"sma7d\": 0.042}, {\"date\": \"2020-10-01T00:00:00\", \"totalTestResultsIncrease\": 998172.0, \"positiveIncrease\": 45486.0, \"death\": 199776.0, \"deathIncrease\": 851.0, \"positiveRate\": 0.046, \"state\": \"US\", \"sma7d\": 0.042}, {\"date\": \"2020-10-02T00:00:00\", \"totalTestResultsIncrease\": 1241655.0, \"positiveIncrease\": 49146.0, \"death\": 200611.0, \"deathIncrease\": 835.0, \"positiveRate\": 0.04, \"state\": \"US\", \"sma7d\": 0.041}, {\"date\": \"2020-10-03T00:00:00\", \"totalTestResultsIncrease\": 1099978.0, \"positiveIncrease\": 51001.0, \"death\": 201352.0, \"deathIncrease\": 741.0, \"positiveRate\": 0.046, \"state\": \"US\", \"sma7d\": 0.042}, {\"date\": \"2020-10-04T00:00:00\", \"totalTestResultsIncrease\": 1028949.0, \"positiveIncrease\": 38239.0, \"death\": 201715.0, \"deathIncrease\": 363.0, \"positiveRate\": 0.037, \"state\": \"US\", \"sma7d\": 0.041}, {\"date\": \"2020-10-05T00:00:00\", \"totalTestResultsIncrease\": 990534.0, \"positiveIncrease\": 37842.0, \"death\": 202041.0, \"deathIncrease\": 326.0, \"positiveRate\": 0.038, \"state\": \"US\", \"sma7d\": 0.042}, {\"date\": \"2020-10-06T00:00:00\", \"totalTestResultsIncrease\": 907026.0, \"positiveIncrease\": 38564.0, \"death\": 202675.0, \"deathIncrease\": 634.0, \"positiveRate\": 0.043, \"state\": \"US\", \"sma7d\": 0.043}, {\"date\": \"2020-10-07T00:00:00\", \"totalTestResultsIncrease\": 973491.0, \"positiveIncrease\": 50403.0, \"death\": 203591.0, \"deathIncrease\": 916.0, \"positiveRate\": 0.052, \"state\": \"US\", \"sma7d\": 0.043}, {\"date\": \"2020-10-08T00:00:00\", \"totalTestResultsIncrease\": 1149465.0, \"positiveIncrease\": 55117.0, \"death\": 204577.0, \"deathIncrease\": 986.0, \"positiveRate\": 0.048, \"state\": \"US\", \"sma7d\": 0.043}, {\"date\": \"2020-10-09T00:00:00\", \"totalTestResultsIncrease\": 1200821.0, \"positiveIncrease\": 56730.0, \"death\": 205470.0, \"deathIncrease\": 893.0, \"positiveRate\": 0.047, \"state\": \"US\", \"sma7d\": 0.044}, {\"date\": \"2020-10-10T00:00:00\", \"totalTestResultsIncrease\": 1247234.0, \"positiveIncrease\": 57230.0, \"death\": 206135.0, \"deathIncrease\": 665.0, \"positiveRate\": 0.046, \"state\": \"US\", \"sma7d\": 0.044}, {\"date\": \"2020-10-11T00:00:00\", \"totalTestResultsIncrease\": 1083240.0, \"positiveIncrease\": 46693.0, \"death\": 206601.0, \"deathIncrease\": 466.0, \"positiveRate\": 0.043, \"state\": \"US\", \"sma7d\": 0.045}, {\"date\": \"2020-10-12T00:00:00\", \"totalTestResultsIncrease\": 1063984.0, \"positiveIncrease\": 42768.0, \"death\": 206888.0, \"deathIncrease\": 287.0, \"positiveRate\": 0.04, \"state\": \"US\", \"sma7d\": 0.046}, {\"date\": \"2020-10-13T00:00:00\", \"totalTestResultsIncrease\": 1040824.0, \"positiveIncrease\": 48149.0, \"death\": 207578.0, \"deathIncrease\": 690.0, \"positiveRate\": 0.046, \"state\": \"US\", \"sma7d\": 0.046}, {\"date\": \"2020-10-14T00:00:00\", \"totalTestResultsIncrease\": 1041389.0, \"positiveIncrease\": 56247.0, \"death\": 208389.0, \"deathIncrease\": 811.0, \"positiveRate\": 0.054, \"state\": \"US\", \"sma7d\": 0.046}, {\"date\": \"2020-10-15T00:00:00\", \"totalTestResultsIncrease\": 1102280.0, \"positiveIncrease\": 62852.0, \"death\": 209340.0, \"deathIncrease\": 951.0, \"positiveRate\": 0.057, \"state\": \"US\", \"sma7d\": 0.048}, {\"date\": \"2020-10-16T00:00:00\", \"totalTestResultsIncrease\": 1230075.0, \"positiveIncrease\": 67933.0, \"death\": 210217.0, \"deathIncrease\": 877.0, \"positiveRate\": 0.055, \"state\": \"US\", \"sma7d\": 0.049}, {\"date\": \"2020-10-17T00:00:00\", \"totalTestResultsIncrease\": 1295276.0, \"positiveIncrease\": 57742.0, \"death\": 210997.0, \"deathIncrease\": 780.0, \"positiveRate\": 0.045, \"state\": \"US\", \"sma7d\": 0.049}, {\"date\": \"2020-10-18T00:00:00\", \"totalTestResultsIncrease\": 1055833.0, \"positiveIncrease\": 48618.0, \"death\": 211390.0, \"deathIncrease\": 393.0, \"positiveRate\": 0.046, \"state\": \"US\", \"sma7d\": 0.049}, {\"date\": \"2020-10-19T00:00:00\", \"totalTestResultsIncrease\": 1130890.0, \"positiveIncrease\": 56902.0, \"death\": 211846.0, \"deathIncrease\": 456.0, \"positiveRate\": 0.05, \"state\": \"US\", \"sma7d\": 0.05}, {\"date\": \"2020-10-20T00:00:00\", \"totalTestResultsIncrease\": 948693.0, \"positiveIncrease\": 60331.0, \"death\": 212678.0, \"deathIncrease\": 832.0, \"positiveRate\": 0.064, \"state\": \"US\", \"sma7d\": 0.053}, {\"date\": \"2020-10-21T00:00:00\", \"totalTestResultsIncrease\": 939535.0, \"positiveIncrease\": 60669.0, \"death\": 213702.0, \"deathIncrease\": 1024.0, \"positiveRate\": 0.065, \"state\": \"US\", \"sma7d\": 0.055}, {\"date\": \"2020-10-22T00:00:00\", \"totalTestResultsIncrease\": 1218558.0, \"positiveIncrease\": 72893.0, \"death\": 214845.0, \"deathIncrease\": 1143.0, \"positiveRate\": 0.06, \"state\": \"US\", \"sma7d\": 0.055}, {\"date\": \"2020-10-23T00:00:00\", \"totalTestResultsIncrease\": 1378574.0, \"positiveIncrease\": 82226.0, \"death\": 215762.0, \"deathIncrease\": 917.0, \"positiveRate\": 0.06, \"state\": \"US\", \"sma7d\": 0.056}, {\"date\": \"2020-10-24T00:00:00\", \"totalTestResultsIncrease\": 1321334.0, \"positiveIncrease\": 82727.0, \"death\": 216652.0, \"deathIncrease\": 890.0, \"positiveRate\": 0.063, \"state\": \"US\", \"sma7d\": 0.058}, {\"date\": \"2020-10-25T00:00:00\", \"totalTestResultsIncrease\": 1191449.0, \"positiveIncrease\": 65081.0, \"death\": 217029.0, \"deathIncrease\": 377.0, \"positiveRate\": 0.055, \"state\": \"US\", \"sma7d\": 0.06}, {\"date\": \"2020-10-26T00:00:00\", \"totalTestResultsIncrease\": 1201328.0, \"positiveIncrease\": 62104.0, \"death\": 217418.0, \"deathIncrease\": 389.0, \"positiveRate\": 0.052, \"state\": \"US\", \"sma7d\": 0.06}, {\"date\": \"2020-10-27T00:00:00\", \"totalTestResultsIncrease\": 1080661.0, \"positiveIncrease\": 73000.0, \"death\": 218349.0, \"deathIncrease\": 931.0, \"positiveRate\": 0.068, \"state\": \"US\", \"sma7d\": 0.06}, {\"date\": \"2020-10-28T00:00:00\", \"totalTestResultsIncrease\": 1085623.0, \"positiveIncrease\": 78632.0, \"death\": 219374.0, \"deathIncrease\": 1025.0, \"positiveRate\": 0.072, \"state\": \"US\", \"sma7d\": 0.061}, {\"date\": \"2020-10-29T00:00:00\", \"totalTestResultsIncrease\": 1324645.0, \"positiveIncrease\": 87976.0, \"death\": 220423.0, \"deathIncrease\": 1049.0, \"positiveRate\": 0.066, \"state\": \"US\", \"sma7d\": 0.062}, {\"date\": \"2020-10-30T00:00:00\", \"totalTestResultsIncrease\": 1362005.0, \"positiveIncrease\": 96700.0, \"death\": 221356.0, \"deathIncrease\": 933.0, \"positiveRate\": 0.071, \"state\": \"US\", \"sma7d\": 0.064}, {\"date\": \"2020-10-31T00:00:00\", \"totalTestResultsIncrease\": 1373818.0, \"positiveIncrease\": 90499.0, \"death\": 222319.0, \"deathIncrease\": 963.0, \"positiveRate\": 0.066, \"state\": \"US\", \"sma7d\": 0.064}, {\"date\": \"2020-11-01T00:00:00\", \"totalTestResultsIncrease\": 1139567.0, \"positiveIncrease\": 74052.0, \"death\": 222710.0, \"deathIncrease\": 391.0, \"positiveRate\": 0.065, \"state\": \"US\", \"sma7d\": 0.066}, {\"date\": \"2020-11-02T00:00:00\", \"totalTestResultsIncrease\": 1327965.0, \"positiveIncrease\": 82240.0, \"death\": 223186.0, \"deathIncrease\": 476.0, \"positiveRate\": 0.062, \"state\": \"US\", \"sma7d\": 0.067}, {\"date\": \"2020-11-03T00:00:00\", \"totalTestResultsIncrease\": 1125798.0, \"positiveIncrease\": 86073.0, \"death\": 224715.0, \"deathIncrease\": 1529.0, \"positiveRate\": 0.076, \"state\": \"US\", \"sma7d\": 0.068}, {\"date\": \"2020-11-04T00:00:00\", \"totalTestResultsIncrease\": 1207099.0, \"positiveIncrease\": 103063.0, \"death\": 225831.0, \"deathIncrease\": 1116.0, \"positiveRate\": 0.085, \"state\": \"US\", \"sma7d\": 0.07}, {\"date\": \"2020-11-05T00:00:00\", \"totalTestResultsIncrease\": 1563726.0, \"positiveIncrease\": 116152.0, \"death\": 226955.0, \"deathIncrease\": 1124.0, \"positiveRate\": 0.074, \"state\": \"US\", \"sma7d\": 0.071}, {\"date\": \"2020-11-06T00:00:00\", \"totalTestResultsIncrease\": 1562024.0, \"positiveIncrease\": 125234.0, \"death\": 228141.0, \"deathIncrease\": 1186.0, \"positiveRate\": 0.08, \"state\": \"US\", \"sma7d\": 0.073}, {\"date\": \"2020-11-07T00:00:00\", \"totalTestResultsIncrease\": 1405858.0, \"positiveIncrease\": 129187.0, \"death\": 229245.0, \"deathIncrease\": 1104.0, \"positiveRate\": 0.092, \"state\": \"US\", \"sma7d\": 0.076}, {\"date\": \"2020-11-08T00:00:00\", \"totalTestResultsIncrease\": 1259450.0, \"positiveIncrease\": 110829.0, \"death\": 229732.0, \"deathIncrease\": 487.0, \"positiveRate\": 0.088, \"state\": \"US\", \"sma7d\": 0.08}, {\"date\": \"2020-11-09T00:00:00\", \"totalTestResultsIncrease\": 1518878.0, \"positiveIncrease\": 118698.0, \"death\": 230312.0, \"deathIncrease\": 580.0, \"positiveRate\": 0.078, \"state\": \"US\", \"sma7d\": 0.082}, {\"date\": \"2020-11-10T00:00:00\", \"totalTestResultsIncrease\": 1237365.0, \"positiveIncrease\": 130995.0, \"death\": 231659.0, \"deathIncrease\": 1347.0, \"positiveRate\": 0.106, \"state\": \"US\", \"sma7d\": 0.086}, {\"date\": \"2020-11-11T00:00:00\", \"totalTestResultsIncrease\": 1381858.0, \"positiveIncrease\": 144487.0, \"death\": 233224.0, \"deathIncrease\": 1565.0, \"positiveRate\": 0.105, \"state\": \"US\", \"sma7d\": 0.089}, {\"date\": \"2020-11-12T00:00:00\", \"totalTestResultsIncrease\": 1490426.0, \"positiveIncrease\": 150526.0, \"death\": 234328.0, \"deathIncrease\": 1104.0, \"positiveRate\": 0.101, \"state\": \"US\", \"sma7d\": 0.093}, {\"date\": \"2020-11-13T00:00:00\", \"totalTestResultsIncrease\": 1683680.0, \"positiveIncrease\": 171376.0, \"death\": 235632.0, \"deathIncrease\": 1304.0, \"positiveRate\": 0.102, \"state\": \"US\", \"sma7d\": 0.096}, {\"date\": \"2020-11-14T00:00:00\", \"totalTestResultsIncrease\": 1676767.0, \"positiveIncrease\": 164848.0, \"death\": 236956.0, \"deathIncrease\": 1324.0, \"positiveRate\": 0.098, \"state\": \"US\", \"sma7d\": 0.097}, {\"date\": \"2020-11-15T00:00:00\", \"totalTestResultsIncrease\": 1618378.0, \"positiveIncrease\": 145582.0, \"death\": 237636.0, \"deathIncrease\": 680.0, \"positiveRate\": 0.09, \"state\": \"US\", \"sma7d\": 0.097}, {\"date\": \"2020-11-16T00:00:00\", \"totalTestResultsIncrease\": 1479298.0, \"positiveIncrease\": 148532.0, \"death\": 238217.0, \"deathIncrease\": 581.0, \"positiveRate\": 0.1, \"state\": \"US\", \"sma7d\": 0.1}, {\"date\": \"2020-11-17T00:00:00\", \"totalTestResultsIncrease\": 1495154.0, \"positiveIncrease\": 155201.0, \"death\": 239684.0, \"deathIncrease\": 1565.0, \"positiveRate\": 0.104, \"state\": \"US\", \"sma7d\": 0.1}]}}, {\"mode\": \"vega-lite\"});\n",
       "</script>"
      ],
      "text/plain": [
       "alt.LayerChart(...)"
      ]
     },
     "execution_count": 8,
     "metadata": {},
     "output_type": "execute_result"
    }
   ],
   "source": [
    "create_plot(us, 'positiveRate')"
   ]
  },
  {
   "cell_type": "code",
   "execution_count": 9,
   "metadata": {
    "execution": {
     "iopub.execute_input": "2020-11-18T09:12:32.978170Z",
     "iopub.status.busy": "2020-11-18T09:12:32.967243Z",
     "iopub.status.idle": "2020-11-18T09:12:33.061625Z",
     "shell.execute_reply": "2020-11-18T09:12:33.061132Z"
    },
    "papermill": {
     "duration": 0.110922,
     "end_time": "2020-11-18T09:12:33.061755",
     "exception": false,
     "start_time": "2020-11-18T09:12:32.950833",
     "status": "completed"
    },
    "tags": []
   },
   "outputs": [
    {
     "data": {
      "text/html": [
       "\n",
       "<div id=\"altair-viz-ffc7b2d5c9c44db2bf9010b176ba86b5\"></div>\n",
       "<script type=\"text/javascript\">\n",
       "  (function(spec, embedOpt){\n",
       "    let outputDiv = document.currentScript.previousElementSibling;\n",
       "    if (outputDiv.id !== \"altair-viz-ffc7b2d5c9c44db2bf9010b176ba86b5\") {\n",
       "      outputDiv = document.getElementById(\"altair-viz-ffc7b2d5c9c44db2bf9010b176ba86b5\");\n",
       "    }\n",
       "    const paths = {\n",
       "      \"vega\": \"https://cdn.jsdelivr.net/npm//vega@5?noext\",\n",
       "      \"vega-lib\": \"https://cdn.jsdelivr.net/npm//vega-lib?noext\",\n",
       "      \"vega-lite\": \"https://cdn.jsdelivr.net/npm//vega-lite@4.8.1?noext\",\n",
       "      \"vega-embed\": \"https://cdn.jsdelivr.net/npm//vega-embed@6?noext\",\n",
       "    };\n",
       "\n",
       "    function loadScript(lib) {\n",
       "      return new Promise(function(resolve, reject) {\n",
       "        var s = document.createElement('script');\n",
       "        s.src = paths[lib];\n",
       "        s.async = true;\n",
       "        s.onload = () => resolve(paths[lib]);\n",
       "        s.onerror = () => reject(`Error loading script: ${paths[lib]}`);\n",
       "        document.getElementsByTagName(\"head\")[0].appendChild(s);\n",
       "      });\n",
       "    }\n",
       "\n",
       "    function showError(err) {\n",
       "      outputDiv.innerHTML = `<div class=\"error\" style=\"color:red;\">${err}</div>`;\n",
       "      throw err;\n",
       "    }\n",
       "\n",
       "    function displayChart(vegaEmbed) {\n",
       "      vegaEmbed(outputDiv, spec, embedOpt)\n",
       "        .catch(err => showError(`Javascript Error: ${err.message}<br>This usually means there's a typo in your chart specification. See the javascript console for the full traceback.`));\n",
       "    }\n",
       "\n",
       "    if(typeof define === \"function\" && define.amd) {\n",
       "      requirejs.config({paths});\n",
       "      require([\"vega-embed\"], displayChart, err => showError(`Error loading script: ${err.message}`));\n",
       "    } else if (typeof vegaEmbed === \"function\") {\n",
       "      displayChart(vegaEmbed);\n",
       "    } else {\n",
       "      loadScript(\"vega\")\n",
       "        .then(() => loadScript(\"vega-lite\"))\n",
       "        .then(() => loadScript(\"vega-embed\"))\n",
       "        .catch(showError)\n",
       "        .then(() => displayChart(vegaEmbed));\n",
       "    }\n",
       "  })({\"config\": {\"view\": {\"continuousWidth\": 400, \"continuousHeight\": 300}}, \"layer\": [{\"layer\": [{\"mark\": {\"type\": \"point\", \"size\": 75}, \"encoding\": {\"tooltip\": [{\"type\": \"temporal\", \"field\": \"date\"}, {\"type\": \"quantitative\", \"field\": \"deathIncrease\"}, {\"type\": \"quantitative\", \"field\": \"sma7d\"}], \"x\": {\"type\": \"temporal\", \"field\": \"date\"}, \"y\": {\"type\": \"quantitative\", \"field\": \"deathIncrease\"}}, \"selection\": {\"selector006\": {\"type\": \"interval\", \"bind\": \"scales\", \"encodings\": [\"x\", \"y\"]}}}, {\"mark\": {\"type\": \"line\", \"color\": \"purple\"}, \"encoding\": {\"x\": {\"type\": \"temporal\", \"field\": \"date\"}, \"y\": {\"type\": \"quantitative\", \"field\": \"sma7d\"}}}]}, {\"mark\": {\"type\": \"rule\", \"color\": \"#aaa\"}, \"encoding\": {\"x\": {\"type\": \"temporal\", \"field\": \"date\"}}, \"transform\": [{\"filter\": {\"selection\": \"selector005\"}}]}, {\"mark\": \"circle\", \"encoding\": {\"opacity\": {\"condition\": {\"value\": 1, \"selection\": \"selector005\"}, \"value\": 0}, \"tooltip\": [{\"type\": \"temporal\", \"field\": \"date\"}, {\"type\": \"quantitative\", \"field\": \"deathIncrease\"}, {\"type\": \"quantitative\", \"field\": \"sma7d\"}], \"x\": {\"type\": \"temporal\", \"field\": \"date\"}, \"y\": {\"type\": \"quantitative\", \"field\": \"deathIncrease\"}}, \"selection\": {\"selector005\": {\"type\": \"single\", \"encodings\": [\"x\"], \"on\": \"mouseover\", \"nearest\": true, \"empty\": \"none\"}}}, {\"mark\": {\"type\": \"text\", \"align\": \"left\", \"dx\": 5, \"dy\": -5, \"stroke\": \"white\", \"strokeWidth\": 2}, \"encoding\": {\"text\": {\"type\": \"quantitative\", \"field\": \"deathIncrease\"}, \"tooltip\": [{\"type\": \"temporal\", \"field\": \"date\"}, {\"type\": \"quantitative\", \"field\": \"deathIncrease\"}, {\"type\": \"quantitative\", \"field\": \"sma7d\"}], \"x\": {\"type\": \"temporal\", \"field\": \"date\"}, \"y\": {\"type\": \"quantitative\", \"field\": \"deathIncrease\"}}, \"transform\": [{\"filter\": {\"selection\": \"selector005\"}}]}, {\"mark\": {\"type\": \"text\", \"align\": \"left\", \"dx\": 5, \"dy\": -5}, \"encoding\": {\"text\": {\"type\": \"quantitative\", \"field\": \"deathIncrease\"}, \"tooltip\": [{\"type\": \"temporal\", \"field\": \"date\"}, {\"type\": \"quantitative\", \"field\": \"deathIncrease\"}, {\"type\": \"quantitative\", \"field\": \"sma7d\"}], \"x\": {\"type\": \"temporal\", \"field\": \"date\"}, \"y\": {\"type\": \"quantitative\", \"field\": \"deathIncrease\"}}, \"transform\": [{\"filter\": {\"selection\": \"selector005\"}}]}], \"data\": {\"name\": \"data-0522ab9dbb67c2e331b818c999f19ddf\"}, \"height\": 400, \"title\": \"US: deathIncrease\", \"width\": 500, \"$schema\": \"https://vega.github.io/schema/vega-lite/v4.8.1.json\", \"datasets\": {\"data-0522ab9dbb67c2e331b818c999f19ddf\": [{\"date\": \"2020-09-24T00:00:00\", \"totalTestResultsIncrease\": 1037542.0, \"positiveIncrease\": 43374.0, \"death\": 194848.0, \"deathIncrease\": 921.0, \"positiveRate\": 0.042, \"state\": \"US\", \"sma7d\": 741.286}, {\"date\": \"2020-09-25T00:00:00\", \"totalTestResultsIncrease\": 1112451.0, \"positiveIncrease\": 55002.0, \"death\": 195692.0, \"deathIncrease\": 844.0, \"positiveRate\": 0.049, \"state\": \"US\", \"sma7d\": 733.143}, {\"date\": \"2020-09-26T00:00:00\", \"totalTestResultsIncrease\": 1123184.0, \"positiveIncrease\": 47586.0, \"death\": 196561.0, \"deathIncrease\": 869.0, \"positiveRate\": 0.042, \"state\": \"US\", \"sma7d\": 751.571}, {\"date\": \"2020-09-27T00:00:00\", \"totalTestResultsIncrease\": 905578.0, \"positiveIncrease\": 35055.0, \"death\": 196868.0, \"deathIncrease\": 307.0, \"positiveRate\": 0.039, \"state\": \"US\", \"sma7d\": 748.714}, {\"date\": \"2020-09-28T00:00:00\", \"totalTestResultsIncrease\": 1164211.0, \"positiveIncrease\": 36052.0, \"death\": 197125.0, \"deathIncrease\": 257.0, \"positiveRate\": 0.031, \"state\": \"US\", \"sma7d\": 744.429}, {\"date\": \"2020-09-29T00:00:00\", \"totalTestResultsIncrease\": 914062.0, \"positiveIncrease\": 36286.0, \"death\": 197864.0, \"deathIncrease\": 739.0, \"positiveRate\": 0.04, \"state\": \"US\", \"sma7d\": 728.0}, {\"date\": \"2020-09-30T00:00:00\", \"totalTestResultsIncrease\": 904382.0, \"positiveIncrease\": 44265.0, \"death\": 198925.0, \"deathIncrease\": 1061.0, \"positiveRate\": 0.049, \"state\": \"US\", \"sma7d\": 714.0}, {\"date\": \"2020-10-01T00:00:00\", \"totalTestResultsIncrease\": 998172.0, \"positiveIncrease\": 45486.0, \"death\": 199776.0, \"deathIncrease\": 851.0, \"positiveRate\": 0.046, \"state\": \"US\", \"sma7d\": 704.0}, {\"date\": \"2020-10-02T00:00:00\", \"totalTestResultsIncrease\": 1241655.0, \"positiveIncrease\": 49146.0, \"death\": 200611.0, \"deathIncrease\": 835.0, \"positiveRate\": 0.04, \"state\": \"US\", \"sma7d\": 702.714}, {\"date\": \"2020-10-03T00:00:00\", \"totalTestResultsIncrease\": 1099978.0, \"positiveIncrease\": 51001.0, \"death\": 201352.0, \"deathIncrease\": 741.0, \"positiveRate\": 0.046, \"state\": \"US\", \"sma7d\": 684.429}, {\"date\": \"2020-10-04T00:00:00\", \"totalTestResultsIncrease\": 1028949.0, \"positiveIncrease\": 38239.0, \"death\": 201715.0, \"deathIncrease\": 363.0, \"positiveRate\": 0.037, \"state\": \"US\", \"sma7d\": 692.429}, {\"date\": \"2020-10-05T00:00:00\", \"totalTestResultsIncrease\": 990534.0, \"positiveIncrease\": 37842.0, \"death\": 202041.0, \"deathIncrease\": 326.0, \"positiveRate\": 0.038, \"state\": \"US\", \"sma7d\": 702.286}, {\"date\": \"2020-10-06T00:00:00\", \"totalTestResultsIncrease\": 907026.0, \"positiveIncrease\": 38564.0, \"death\": 202675.0, \"deathIncrease\": 634.0, \"positiveRate\": 0.043, \"state\": \"US\", \"sma7d\": 687.286}, {\"date\": \"2020-10-07T00:00:00\", \"totalTestResultsIncrease\": 973491.0, \"positiveIncrease\": 50403.0, \"death\": 203591.0, \"deathIncrease\": 916.0, \"positiveRate\": 0.052, \"state\": \"US\", \"sma7d\": 666.571}, {\"date\": \"2020-10-08T00:00:00\", \"totalTestResultsIncrease\": 1149465.0, \"positiveIncrease\": 55117.0, \"death\": 204577.0, \"deathIncrease\": 986.0, \"positiveRate\": 0.048, \"state\": \"US\", \"sma7d\": 685.857}, {\"date\": \"2020-10-09T00:00:00\", \"totalTestResultsIncrease\": 1200821.0, \"positiveIncrease\": 56730.0, \"death\": 205470.0, \"deathIncrease\": 893.0, \"positiveRate\": 0.047, \"state\": \"US\", \"sma7d\": 694.143}, {\"date\": \"2020-10-10T00:00:00\", \"totalTestResultsIncrease\": 1247234.0, \"positiveIncrease\": 57230.0, \"death\": 206135.0, \"deathIncrease\": 665.0, \"positiveRate\": 0.046, \"state\": \"US\", \"sma7d\": 683.286}, {\"date\": \"2020-10-11T00:00:00\", \"totalTestResultsIncrease\": 1083240.0, \"positiveIncrease\": 46693.0, \"death\": 206601.0, \"deathIncrease\": 466.0, \"positiveRate\": 0.043, \"state\": \"US\", \"sma7d\": 698.0}, {\"date\": \"2020-10-12T00:00:00\", \"totalTestResultsIncrease\": 1063984.0, \"positiveIncrease\": 42768.0, \"death\": 206888.0, \"deathIncrease\": 287.0, \"positiveRate\": 0.04, \"state\": \"US\", \"sma7d\": 692.429}, {\"date\": \"2020-10-13T00:00:00\", \"totalTestResultsIncrease\": 1040824.0, \"positiveIncrease\": 48149.0, \"death\": 207578.0, \"deathIncrease\": 690.0, \"positiveRate\": 0.046, \"state\": \"US\", \"sma7d\": 700.429}, {\"date\": \"2020-10-14T00:00:00\", \"totalTestResultsIncrease\": 1041389.0, \"positiveIncrease\": 56247.0, \"death\": 208389.0, \"deathIncrease\": 811.0, \"positiveRate\": 0.054, \"state\": \"US\", \"sma7d\": 685.429}, {\"date\": \"2020-10-15T00:00:00\", \"totalTestResultsIncrease\": 1102280.0, \"positiveIncrease\": 62852.0, \"death\": 209340.0, \"deathIncrease\": 951.0, \"positiveRate\": 0.057, \"state\": \"US\", \"sma7d\": 680.429}, {\"date\": \"2020-10-16T00:00:00\", \"totalTestResultsIncrease\": 1230075.0, \"positiveIncrease\": 67933.0, \"death\": 210217.0, \"deathIncrease\": 877.0, \"positiveRate\": 0.055, \"state\": \"US\", \"sma7d\": 678.143}, {\"date\": \"2020-10-17T00:00:00\", \"totalTestResultsIncrease\": 1295276.0, \"positiveIncrease\": 57742.0, \"death\": 210997.0, \"deathIncrease\": 780.0, \"positiveRate\": 0.045, \"state\": \"US\", \"sma7d\": 694.571}, {\"date\": \"2020-10-18T00:00:00\", \"totalTestResultsIncrease\": 1055833.0, \"positiveIncrease\": 48618.0, \"death\": 211390.0, \"deathIncrease\": 393.0, \"positiveRate\": 0.046, \"state\": \"US\", \"sma7d\": 684.143}, {\"date\": \"2020-10-19T00:00:00\", \"totalTestResultsIncrease\": 1130890.0, \"positiveIncrease\": 56902.0, \"death\": 211846.0, \"deathIncrease\": 456.0, \"positiveRate\": 0.05, \"state\": \"US\", \"sma7d\": 708.286}, {\"date\": \"2020-10-20T00:00:00\", \"totalTestResultsIncrease\": 948693.0, \"positiveIncrease\": 60331.0, \"death\": 212678.0, \"deathIncrease\": 832.0, \"positiveRate\": 0.064, \"state\": \"US\", \"sma7d\": 728.571}, {\"date\": \"2020-10-21T00:00:00\", \"totalTestResultsIncrease\": 939535.0, \"positiveIncrease\": 60669.0, \"death\": 213702.0, \"deathIncrease\": 1024.0, \"positiveRate\": 0.065, \"state\": \"US\", \"sma7d\": 759.0}, {\"date\": \"2020-10-22T00:00:00\", \"totalTestResultsIncrease\": 1218558.0, \"positiveIncrease\": 72893.0, \"death\": 214845.0, \"deathIncrease\": 1143.0, \"positiveRate\": 0.06, \"state\": \"US\", \"sma7d\": 786.429}, {\"date\": \"2020-10-23T00:00:00\", \"totalTestResultsIncrease\": 1378574.0, \"positiveIncrease\": 82226.0, \"death\": 215762.0, \"deathIncrease\": 917.0, \"positiveRate\": 0.06, \"state\": \"US\", \"sma7d\": 792.143}, {\"date\": \"2020-10-24T00:00:00\", \"totalTestResultsIncrease\": 1321334.0, \"positiveIncrease\": 82727.0, \"death\": 216652.0, \"deathIncrease\": 890.0, \"positiveRate\": 0.063, \"state\": \"US\", \"sma7d\": 807.857}, {\"date\": \"2020-10-25T00:00:00\", \"totalTestResultsIncrease\": 1191449.0, \"positiveIncrease\": 65081.0, \"death\": 217029.0, \"deathIncrease\": 377.0, \"positiveRate\": 0.055, \"state\": \"US\", \"sma7d\": 805.571}, {\"date\": \"2020-10-26T00:00:00\", \"totalTestResultsIncrease\": 1201328.0, \"positiveIncrease\": 62104.0, \"death\": 217418.0, \"deathIncrease\": 389.0, \"positiveRate\": 0.052, \"state\": \"US\", \"sma7d\": 796.0}, {\"date\": \"2020-10-27T00:00:00\", \"totalTestResultsIncrease\": 1080661.0, \"positiveIncrease\": 73000.0, \"death\": 218349.0, \"deathIncrease\": 931.0, \"positiveRate\": 0.068, \"state\": \"US\", \"sma7d\": 810.143}, {\"date\": \"2020-10-28T00:00:00\", \"totalTestResultsIncrease\": 1085623.0, \"positiveIncrease\": 78632.0, \"death\": 219374.0, \"deathIncrease\": 1025.0, \"positiveRate\": 0.072, \"state\": \"US\", \"sma7d\": 810.286}, {\"date\": \"2020-10-29T00:00:00\", \"totalTestResultsIncrease\": 1324645.0, \"positiveIncrease\": 87976.0, \"death\": 220423.0, \"deathIncrease\": 1049.0, \"positiveRate\": 0.066, \"state\": \"US\", \"sma7d\": 796.857}, {\"date\": \"2020-10-30T00:00:00\", \"totalTestResultsIncrease\": 1362005.0, \"positiveIncrease\": 96700.0, \"death\": 221356.0, \"deathIncrease\": 933.0, \"positiveRate\": 0.071, \"state\": \"US\", \"sma7d\": 799.143}, {\"date\": \"2020-10-31T00:00:00\", \"totalTestResultsIncrease\": 1373818.0, \"positiveIncrease\": 90499.0, \"death\": 222319.0, \"deathIncrease\": 963.0, \"positiveRate\": 0.066, \"state\": \"US\", \"sma7d\": 809.571}, {\"date\": \"2020-11-01T00:00:00\", \"totalTestResultsIncrease\": 1139567.0, \"positiveIncrease\": 74052.0, \"death\": 222710.0, \"deathIncrease\": 391.0, \"positiveRate\": 0.065, \"state\": \"US\", \"sma7d\": 811.571}, {\"date\": \"2020-11-02T00:00:00\", \"totalTestResultsIncrease\": 1327965.0, \"positiveIncrease\": 82240.0, \"death\": 223186.0, \"deathIncrease\": 476.0, \"positiveRate\": 0.062, \"state\": \"US\", \"sma7d\": 824.0}, {\"date\": \"2020-11-03T00:00:00\", \"totalTestResultsIncrease\": 1125798.0, \"positiveIncrease\": 86073.0, \"death\": 224715.0, \"deathIncrease\": 1529.0, \"positiveRate\": 0.076, \"state\": \"US\", \"sma7d\": 909.429}, {\"date\": \"2020-11-04T00:00:00\", \"totalTestResultsIncrease\": 1207099.0, \"positiveIncrease\": 103063.0, \"death\": 225831.0, \"deathIncrease\": 1116.0, \"positiveRate\": 0.085, \"state\": \"US\", \"sma7d\": 922.429}, {\"date\": \"2020-11-05T00:00:00\", \"totalTestResultsIncrease\": 1563726.0, \"positiveIncrease\": 116152.0, \"death\": 226955.0, \"deathIncrease\": 1124.0, \"positiveRate\": 0.074, \"state\": \"US\", \"sma7d\": 933.143}, {\"date\": \"2020-11-06T00:00:00\", \"totalTestResultsIncrease\": 1562024.0, \"positiveIncrease\": 125234.0, \"death\": 228141.0, \"deathIncrease\": 1186.0, \"positiveRate\": 0.08, \"state\": \"US\", \"sma7d\": 969.286}, {\"date\": \"2020-11-07T00:00:00\", \"totalTestResultsIncrease\": 1405858.0, \"positiveIncrease\": 129187.0, \"death\": 229245.0, \"deathIncrease\": 1104.0, \"positiveRate\": 0.092, \"state\": \"US\", \"sma7d\": 989.429}, {\"date\": \"2020-11-08T00:00:00\", \"totalTestResultsIncrease\": 1259450.0, \"positiveIncrease\": 110829.0, \"death\": 229732.0, \"deathIncrease\": 487.0, \"positiveRate\": 0.088, \"state\": \"US\", \"sma7d\": 1003.143}, {\"date\": \"2020-11-09T00:00:00\", \"totalTestResultsIncrease\": 1518878.0, \"positiveIncrease\": 118698.0, \"death\": 230312.0, \"deathIncrease\": 580.0, \"positiveRate\": 0.078, \"state\": \"US\", \"sma7d\": 1018.0}, {\"date\": \"2020-11-10T00:00:00\", \"totalTestResultsIncrease\": 1237365.0, \"positiveIncrease\": 130995.0, \"death\": 231659.0, \"deathIncrease\": 1347.0, \"positiveRate\": 0.106, \"state\": \"US\", \"sma7d\": 992.0}, {\"date\": \"2020-11-11T00:00:00\", \"totalTestResultsIncrease\": 1381858.0, \"positiveIncrease\": 144487.0, \"death\": 233224.0, \"deathIncrease\": 1565.0, \"positiveRate\": 0.105, \"state\": \"US\", \"sma7d\": 1056.143}, {\"date\": \"2020-11-12T00:00:00\", \"totalTestResultsIncrease\": 1490426.0, \"positiveIncrease\": 150526.0, \"death\": 234328.0, \"deathIncrease\": 1104.0, \"positiveRate\": 0.101, \"state\": \"US\", \"sma7d\": 1053.286}, {\"date\": \"2020-11-13T00:00:00\", \"totalTestResultsIncrease\": 1683680.0, \"positiveIncrease\": 171376.0, \"death\": 235632.0, \"deathIncrease\": 1304.0, \"positiveRate\": 0.102, \"state\": \"US\", \"sma7d\": 1070.143}, {\"date\": \"2020-11-14T00:00:00\", \"totalTestResultsIncrease\": 1676767.0, \"positiveIncrease\": 164848.0, \"death\": 236956.0, \"deathIncrease\": 1324.0, \"positiveRate\": 0.098, \"state\": \"US\", \"sma7d\": 1101.571}, {\"date\": \"2020-11-15T00:00:00\", \"totalTestResultsIncrease\": 1618378.0, \"positiveIncrease\": 145582.0, \"death\": 237636.0, \"deathIncrease\": 680.0, \"positiveRate\": 0.09, \"state\": \"US\", \"sma7d\": 1129.143}, {\"date\": \"2020-11-16T00:00:00\", \"totalTestResultsIncrease\": 1479298.0, \"positiveIncrease\": 148532.0, \"death\": 238217.0, \"deathIncrease\": 581.0, \"positiveRate\": 0.1, \"state\": \"US\", \"sma7d\": 1129.286}, {\"date\": \"2020-11-17T00:00:00\", \"totalTestResultsIncrease\": 1495154.0, \"positiveIncrease\": 155201.0, \"death\": 239684.0, \"deathIncrease\": 1565.0, \"positiveRate\": 0.104, \"state\": \"US\", \"sma7d\": 1160.429}]}}, {\"mode\": \"vega-lite\"});\n",
       "</script>"
      ],
      "text/plain": [
       "alt.LayerChart(...)"
      ]
     },
     "execution_count": 9,
     "metadata": {},
     "output_type": "execute_result"
    }
   ],
   "source": [
    "create_plot(us, 'deathIncrease')"
   ]
  },
  {
   "cell_type": "markdown",
   "metadata": {
    "papermill": {
     "duration": 0.076242,
     "end_time": "2020-11-18T09:12:33.152825",
     "exception": false,
     "start_time": "2020-11-18T09:12:33.076583",
     "status": "completed"
    },
    "tags": []
   },
   "source": [
    "## NY"
   ]
  },
  {
   "cell_type": "code",
   "execution_count": 10,
   "metadata": {
    "execution": {
     "iopub.execute_input": "2020-11-18T09:12:33.189882Z",
     "iopub.status.busy": "2020-11-18T09:12:33.189339Z",
     "iopub.status.idle": "2020-11-18T09:12:33.453361Z",
     "shell.execute_reply": "2020-11-18T09:12:33.452322Z"
    },
    "papermill": {
     "duration": 0.281834,
     "end_time": "2020-11-18T09:12:33.453503",
     "exception": false,
     "start_time": "2020-11-18T09:12:33.171669",
     "status": "completed"
    },
    "tags": []
   },
   "outputs": [],
   "source": [
    "ny = create_df(df, (lambda d: d['state'] == 'NY'), 'New York')"
   ]
  },
  {
   "cell_type": "code",
   "execution_count": 11,
   "metadata": {
    "execution": {
     "iopub.execute_input": "2020-11-18T09:12:33.501602Z",
     "iopub.status.busy": "2020-11-18T09:12:33.486949Z",
     "iopub.status.idle": "2020-11-18T09:12:33.577300Z",
     "shell.execute_reply": "2020-11-18T09:12:33.576857Z"
    },
    "papermill": {
     "duration": 0.108848,
     "end_time": "2020-11-18T09:12:33.577418",
     "exception": false,
     "start_time": "2020-11-18T09:12:33.468570",
     "status": "completed"
    },
    "tags": []
   },
   "outputs": [
    {
     "data": {
      "text/html": [
       "\n",
       "<div id=\"altair-viz-01a3116f3e86460ea82ae721269f9ade\"></div>\n",
       "<script type=\"text/javascript\">\n",
       "  (function(spec, embedOpt){\n",
       "    let outputDiv = document.currentScript.previousElementSibling;\n",
       "    if (outputDiv.id !== \"altair-viz-01a3116f3e86460ea82ae721269f9ade\") {\n",
       "      outputDiv = document.getElementById(\"altair-viz-01a3116f3e86460ea82ae721269f9ade\");\n",
       "    }\n",
       "    const paths = {\n",
       "      \"vega\": \"https://cdn.jsdelivr.net/npm//vega@5?noext\",\n",
       "      \"vega-lib\": \"https://cdn.jsdelivr.net/npm//vega-lib?noext\",\n",
       "      \"vega-lite\": \"https://cdn.jsdelivr.net/npm//vega-lite@4.8.1?noext\",\n",
       "      \"vega-embed\": \"https://cdn.jsdelivr.net/npm//vega-embed@6?noext\",\n",
       "    };\n",
       "\n",
       "    function loadScript(lib) {\n",
       "      return new Promise(function(resolve, reject) {\n",
       "        var s = document.createElement('script');\n",
       "        s.src = paths[lib];\n",
       "        s.async = true;\n",
       "        s.onload = () => resolve(paths[lib]);\n",
       "        s.onerror = () => reject(`Error loading script: ${paths[lib]}`);\n",
       "        document.getElementsByTagName(\"head\")[0].appendChild(s);\n",
       "      });\n",
       "    }\n",
       "\n",
       "    function showError(err) {\n",
       "      outputDiv.innerHTML = `<div class=\"error\" style=\"color:red;\">${err}</div>`;\n",
       "      throw err;\n",
       "    }\n",
       "\n",
       "    function displayChart(vegaEmbed) {\n",
       "      vegaEmbed(outputDiv, spec, embedOpt)\n",
       "        .catch(err => showError(`Javascript Error: ${err.message}<br>This usually means there's a typo in your chart specification. See the javascript console for the full traceback.`));\n",
       "    }\n",
       "\n",
       "    if(typeof define === \"function\" && define.amd) {\n",
       "      requirejs.config({paths});\n",
       "      require([\"vega-embed\"], displayChart, err => showError(`Error loading script: ${err.message}`));\n",
       "    } else if (typeof vegaEmbed === \"function\") {\n",
       "      displayChart(vegaEmbed);\n",
       "    } else {\n",
       "      loadScript(\"vega\")\n",
       "        .then(() => loadScript(\"vega-lite\"))\n",
       "        .then(() => loadScript(\"vega-embed\"))\n",
       "        .catch(showError)\n",
       "        .then(() => displayChart(vegaEmbed));\n",
       "    }\n",
       "  })({\"config\": {\"view\": {\"continuousWidth\": 400, \"continuousHeight\": 300}}, \"layer\": [{\"layer\": [{\"mark\": {\"type\": \"point\", \"size\": 75}, \"encoding\": {\"tooltip\": [{\"type\": \"temporal\", \"field\": \"date\"}, {\"type\": \"quantitative\", \"field\": \"positiveIncrease\"}, {\"type\": \"quantitative\", \"field\": \"sma7d\"}], \"x\": {\"type\": \"temporal\", \"field\": \"date\"}, \"y\": {\"type\": \"quantitative\", \"field\": \"positiveIncrease\"}}, \"selection\": {\"selector008\": {\"type\": \"interval\", \"bind\": \"scales\", \"encodings\": [\"x\", \"y\"]}}}, {\"mark\": {\"type\": \"line\", \"color\": \"purple\"}, \"encoding\": {\"x\": {\"type\": \"temporal\", \"field\": \"date\"}, \"y\": {\"type\": \"quantitative\", \"field\": \"sma7d\"}}}]}, {\"mark\": {\"type\": \"rule\", \"color\": \"#aaa\"}, \"encoding\": {\"x\": {\"type\": \"temporal\", \"field\": \"date\"}}, \"transform\": [{\"filter\": {\"selection\": \"selector007\"}}]}, {\"mark\": \"circle\", \"encoding\": {\"opacity\": {\"condition\": {\"value\": 1, \"selection\": \"selector007\"}, \"value\": 0}, \"tooltip\": [{\"type\": \"temporal\", \"field\": \"date\"}, {\"type\": \"quantitative\", \"field\": \"positiveIncrease\"}, {\"type\": \"quantitative\", \"field\": \"sma7d\"}], \"x\": {\"type\": \"temporal\", \"field\": \"date\"}, \"y\": {\"type\": \"quantitative\", \"field\": \"positiveIncrease\"}}, \"selection\": {\"selector007\": {\"type\": \"single\", \"encodings\": [\"x\"], \"on\": \"mouseover\", \"nearest\": true, \"empty\": \"none\"}}}, {\"mark\": {\"type\": \"text\", \"align\": \"left\", \"dx\": 5, \"dy\": -5, \"stroke\": \"white\", \"strokeWidth\": 2}, \"encoding\": {\"text\": {\"type\": \"quantitative\", \"field\": \"positiveIncrease\"}, \"tooltip\": [{\"type\": \"temporal\", \"field\": \"date\"}, {\"type\": \"quantitative\", \"field\": \"positiveIncrease\"}, {\"type\": \"quantitative\", \"field\": \"sma7d\"}], \"x\": {\"type\": \"temporal\", \"field\": \"date\"}, \"y\": {\"type\": \"quantitative\", \"field\": \"positiveIncrease\"}}, \"transform\": [{\"filter\": {\"selection\": \"selector007\"}}]}, {\"mark\": {\"type\": \"text\", \"align\": \"left\", \"dx\": 5, \"dy\": -5}, \"encoding\": {\"text\": {\"type\": \"quantitative\", \"field\": \"positiveIncrease\"}, \"tooltip\": [{\"type\": \"temporal\", \"field\": \"date\"}, {\"type\": \"quantitative\", \"field\": \"positiveIncrease\"}, {\"type\": \"quantitative\", \"field\": \"sma7d\"}], \"x\": {\"type\": \"temporal\", \"field\": \"date\"}, \"y\": {\"type\": \"quantitative\", \"field\": \"positiveIncrease\"}}, \"transform\": [{\"filter\": {\"selection\": \"selector007\"}}]}], \"data\": {\"name\": \"data-26614d5f9796192296817149dff85cfc\"}, \"height\": 400, \"title\": \"New York: positiveIncrease\", \"width\": 500, \"$schema\": \"https://vega.github.io/schema/vega-lite/v4.8.1.json\", \"datasets\": {\"data-26614d5f9796192296817149dff85cfc\": [{\"date\": \"2020-09-24T00:00:00\", \"totalTestResultsIncrease\": 92953.0, \"positiveIncrease\": 955.0, \"death\": 25439.0, \"deathIncrease\": 2.0, \"positiveRate\": 0.01, \"state\": \"New York\", \"sma7d\": 797.857}, {\"date\": \"2020-09-25T00:00:00\", \"totalTestResultsIncrease\": 94818.0, \"positiveIncrease\": 908.0, \"death\": 25446.0, \"deathIncrease\": 7.0, \"positiveRate\": 0.01, \"state\": \"New York\", \"sma7d\": 814.714}, {\"date\": \"2020-09-26T00:00:00\", \"totalTestResultsIncrease\": 99953.0, \"positiveIncrease\": 1005.0, \"death\": 25450.0, \"deathIncrease\": 4.0, \"positiveRate\": 0.01, \"state\": \"New York\", \"sma7d\": 817.429}, {\"date\": \"2020-09-27T00:00:00\", \"totalTestResultsIncrease\": 84770.0, \"positiveIncrease\": 866.0, \"death\": 25456.0, \"deathIncrease\": 6.0, \"positiveRate\": 0.01, \"state\": \"New York\", \"sma7d\": 818.0}, {\"date\": \"2020-09-28T00:00:00\", \"totalTestResultsIncrease\": 52936.0, \"positiveIncrease\": 834.0, \"death\": 25468.0, \"deathIncrease\": 12.0, \"positiveRate\": 0.016, \"state\": \"New York\", \"sma7d\": 855.286}, {\"date\": \"2020-09-29T00:00:00\", \"totalTestResultsIncrease\": 88231.0, \"positiveIncrease\": 1189.0, \"death\": 25470.0, \"deathIncrease\": 2.0, \"positiveRate\": 0.013, \"state\": \"New York\", \"sma7d\": 917.429}, {\"date\": \"2020-09-30T00:00:00\", \"totalTestResultsIncrease\": 97960.0, \"positiveIncrease\": 1000.0, \"death\": 25479.0, \"deathIncrease\": 9.0, \"positiveRate\": 0.01, \"state\": \"New York\", \"sma7d\": 965.286}, {\"date\": \"2020-10-01T00:00:00\", \"totalTestResultsIncrease\": 109218.0, \"positiveIncrease\": 1382.0, \"death\": 25490.0, \"deathIncrease\": 11.0, \"positiveRate\": 0.013, \"state\": \"New York\", \"sma7d\": 1026.286}, {\"date\": \"2020-10-02T00:00:00\", \"totalTestResultsIncrease\": 119493.0, \"positiveIncrease\": 1598.0, \"death\": 25497.0, \"deathIncrease\": 7.0, \"positiveRate\": 0.013, \"state\": \"New York\", \"sma7d\": 1124.857}, {\"date\": \"2020-10-03T00:00:00\", \"totalTestResultsIncrease\": 134267.0, \"positiveIncrease\": 1731.0, \"death\": 25505.0, \"deathIncrease\": 8.0, \"positiveRate\": 0.013, \"state\": \"New York\", \"sma7d\": 1228.571}, {\"date\": \"2020-10-04T00:00:00\", \"totalTestResultsIncrease\": 110329.0, \"positiveIncrease\": 1222.0, \"death\": 25519.0, \"deathIncrease\": 14.0, \"positiveRate\": 0.011, \"state\": \"New York\", \"sma7d\": 1279.429}, {\"date\": \"2020-10-05T00:00:00\", \"totalTestResultsIncrease\": 76404.0, \"positiveIncrease\": 933.0, \"death\": 25527.0, \"deathIncrease\": 8.0, \"positiveRate\": 0.012, \"state\": \"New York\", \"sma7d\": 1293.571}, {\"date\": \"2020-10-06T00:00:00\", \"totalTestResultsIncrease\": 96359.0, \"positiveIncrease\": 1393.0, \"death\": 25536.0, \"deathIncrease\": 9.0, \"positiveRate\": 0.014, \"state\": \"New York\", \"sma7d\": 1322.714}, {\"date\": \"2020-10-07T00:00:00\", \"totalTestResultsIncrease\": 108246.0, \"positiveIncrease\": 1360.0, \"death\": 25545.0, \"deathIncrease\": 9.0, \"positiveRate\": 0.013, \"state\": \"New York\", \"sma7d\": 1374.143}, {\"date\": \"2020-10-08T00:00:00\", \"totalTestResultsIncrease\": 145811.0, \"positiveIncrease\": 1836.0, \"death\": 25555.0, \"deathIncrease\": 10.0, \"positiveRate\": 0.013, \"state\": \"New York\", \"sma7d\": 1439.0}, {\"date\": \"2020-10-09T00:00:00\", \"totalTestResultsIncrease\": 139300.0, \"positiveIncrease\": 1592.0, \"death\": 25561.0, \"deathIncrease\": 6.0, \"positiveRate\": 0.011, \"state\": \"New York\", \"sma7d\": 1438.143}, {\"date\": \"2020-10-10T00:00:00\", \"totalTestResultsIncrease\": 134579.0, \"positiveIncrease\": 1447.0, \"death\": 25569.0, \"deathIncrease\": 8.0, \"positiveRate\": 0.011, \"state\": \"New York\", \"sma7d\": 1397.571}, {\"date\": \"2020-10-11T00:00:00\", \"totalTestResultsIncrease\": 118254.0, \"positiveIncrease\": 1143.0, \"death\": 25574.0, \"deathIncrease\": 5.0, \"positiveRate\": 0.01, \"state\": \"New York\", \"sma7d\": 1386.286}, {\"date\": \"2020-10-12T00:00:00\", \"totalTestResultsIncrease\": 91793.0, \"positiveIncrease\": 1029.0, \"death\": 25587.0, \"deathIncrease\": 13.0, \"positiveRate\": 0.011, \"state\": \"New York\", \"sma7d\": 1400.0}, {\"date\": \"2020-10-13T00:00:00\", \"totalTestResultsIncrease\": 99070.0, \"positiveIncrease\": 1393.0, \"death\": 25598.0, \"deathIncrease\": 11.0, \"positiveRate\": 0.014, \"state\": \"New York\", \"sma7d\": 1400.0}, {\"date\": \"2020-10-14T00:00:00\", \"totalTestResultsIncrease\": 111744.0, \"positiveIncrease\": 1232.0, \"death\": 25605.0, \"deathIncrease\": 7.0, \"positiveRate\": 0.011, \"state\": \"New York\", \"sma7d\": 1381.714}, {\"date\": \"2020-10-15T00:00:00\", \"totalTestResultsIncrease\": 133212.0, \"positiveIncrease\": 1460.0, \"death\": 25618.0, \"deathIncrease\": 13.0, \"positiveRate\": 0.011, \"state\": \"New York\", \"sma7d\": 1328.0}, {\"date\": \"2020-10-16T00:00:00\", \"totalTestResultsIncrease\": 136039.0, \"positiveIncrease\": 1707.0, \"death\": 25628.0, \"deathIncrease\": 10.0, \"positiveRate\": 0.013, \"state\": \"New York\", \"sma7d\": 1344.429}, {\"date\": \"2020-10-17T00:00:00\", \"totalTestResultsIncrease\": 159972.0, \"positiveIncrease\": 1784.0, \"death\": 25637.0, \"deathIncrease\": 9.0, \"positiveRate\": 0.011, \"state\": \"New York\", \"sma7d\": 1392.571}, {\"date\": \"2020-10-18T00:00:00\", \"totalTestResultsIncrease\": 128763.0, \"positiveIncrease\": 1390.0, \"death\": 25644.0, \"deathIncrease\": 7.0, \"positiveRate\": 0.011, \"state\": \"New York\", \"sma7d\": 1427.857}, {\"date\": \"2020-10-19T00:00:00\", \"totalTestResultsIncrease\": 82009.0, \"positiveIncrease\": 998.0, \"death\": 25659.0, \"deathIncrease\": 15.0, \"positiveRate\": 0.012, \"state\": \"New York\", \"sma7d\": 1423.429}, {\"date\": \"2020-10-20T00:00:00\", \"totalTestResultsIncrease\": 90540.0, \"positiveIncrease\": 1201.0, \"death\": 25672.0, \"deathIncrease\": 13.0, \"positiveRate\": 0.013, \"state\": \"New York\", \"sma7d\": 1396.0}, {\"date\": \"2020-10-21T00:00:00\", \"totalTestResultsIncrease\": 124789.0, \"positiveIncrease\": 2026.0, \"death\": 25679.0, \"deathIncrease\": 7.0, \"positiveRate\": 0.016, \"state\": \"New York\", \"sma7d\": 1509.429}, {\"date\": \"2020-10-22T00:00:00\", \"totalTestResultsIncrease\": 135341.0, \"positiveIncrease\": 1628.0, \"death\": 25694.0, \"deathIncrease\": 15.0, \"positiveRate\": 0.012, \"state\": \"New York\", \"sma7d\": 1533.429}, {\"date\": \"2020-10-23T00:00:00\", \"totalTestResultsIncrease\": 141508.0, \"positiveIncrease\": 1637.0, \"death\": 25705.0, \"deathIncrease\": 11.0, \"positiveRate\": 0.012, \"state\": \"New York\", \"sma7d\": 1523.429}, {\"date\": \"2020-10-24T00:00:00\", \"totalTestResultsIncrease\": 156940.0, \"positiveIncrease\": 2061.0, \"death\": 25718.0, \"deathIncrease\": 13.0, \"positiveRate\": 0.013, \"state\": \"New York\", \"sma7d\": 1563.0}, {\"date\": \"2020-10-25T00:00:00\", \"totalTestResultsIncrease\": 120830.0, \"positiveIncrease\": 1632.0, \"death\": 25730.0, \"deathIncrease\": 12.0, \"positiveRate\": 0.014, \"state\": \"New York\", \"sma7d\": 1597.571}, {\"date\": \"2020-10-26T00:00:00\", \"totalTestResultsIncrease\": 82117.0, \"positiveIncrease\": 1191.0, \"death\": 25742.0, \"deathIncrease\": 12.0, \"positiveRate\": 0.015, \"state\": \"New York\", \"sma7d\": 1625.143}, {\"date\": \"2020-10-27T00:00:00\", \"totalTestResultsIncrease\": 111618.0, \"positiveIncrease\": 1991.0, \"death\": 25758.0, \"deathIncrease\": 16.0, \"positiveRate\": 0.018, \"state\": \"New York\", \"sma7d\": 1738.0}, {\"date\": \"2020-10-28T00:00:00\", \"totalTestResultsIncrease\": 129660.0, \"positiveIncrease\": 2031.0, \"death\": 25773.0, \"deathIncrease\": 15.0, \"positiveRate\": 0.016, \"state\": \"New York\", \"sma7d\": 1738.714}, {\"date\": \"2020-10-29T00:00:00\", \"totalTestResultsIncrease\": 168353.0, \"positiveIncrease\": 2499.0, \"death\": 25792.0, \"deathIncrease\": 19.0, \"positiveRate\": 0.015, \"state\": \"New York\", \"sma7d\": 1863.143}, {\"date\": \"2020-10-30T00:00:00\", \"totalTestResultsIncrease\": 146885.0, \"positiveIncrease\": 2255.0, \"death\": 25804.0, \"deathIncrease\": 12.0, \"positiveRate\": 0.015, \"state\": \"New York\", \"sma7d\": 1951.429}, {\"date\": \"2020-10-31T00:00:00\", \"totalTestResultsIncrease\": 136962.0, \"positiveIncrease\": 2049.0, \"death\": 25807.0, \"deathIncrease\": 3.0, \"positiveRate\": 0.015, \"state\": \"New York\", \"sma7d\": 1949.714}, {\"date\": \"2020-11-01T00:00:00\", \"totalTestResultsIncrease\": 148935.0, \"positiveIncrease\": 2255.0, \"death\": 25824.0, \"deathIncrease\": 17.0, \"positiveRate\": 0.015, \"state\": \"New York\", \"sma7d\": 2038.714}, {\"date\": \"2020-11-02T00:00:00\", \"totalTestResultsIncrease\": 96101.0, \"positiveIncrease\": 1633.0, \"death\": 25838.0, \"deathIncrease\": 14.0, \"positiveRate\": 0.017, \"state\": \"New York\", \"sma7d\": 2101.857}, {\"date\": \"2020-11-03T00:00:00\", \"totalTestResultsIncrease\": 127869.0, \"positiveIncrease\": 2321.0, \"death\": 25853.0, \"deathIncrease\": 15.0, \"positiveRate\": 0.018, \"state\": \"New York\", \"sma7d\": 2149.0}, {\"date\": \"2020-11-04T00:00:00\", \"totalTestResultsIncrease\": 133534.0, \"positiveIncrease\": 2126.0, \"death\": 25868.0, \"deathIncrease\": 15.0, \"positiveRate\": 0.016, \"state\": \"New York\", \"sma7d\": 2162.571}, {\"date\": \"2020-11-05T00:00:00\", \"totalTestResultsIncrease\": 161019.0, \"positiveIncrease\": 2997.0, \"death\": 25892.0, \"deathIncrease\": 24.0, \"positiveRate\": 0.019, \"state\": \"New York\", \"sma7d\": 2233.714}, {\"date\": \"2020-11-06T00:00:00\", \"totalTestResultsIncrease\": 160705.0, \"positiveIncrease\": 3209.0, \"death\": 25910.0, \"deathIncrease\": 18.0, \"positiveRate\": 0.02, \"state\": \"New York\", \"sma7d\": 2370.0}, {\"date\": \"2020-11-07T00:00:00\", \"totalTestResultsIncrease\": 163291.0, \"positiveIncrease\": 3587.0, \"death\": 25928.0, \"deathIncrease\": 18.0, \"positiveRate\": 0.022, \"state\": \"New York\", \"sma7d\": 2589.714}, {\"date\": \"2020-11-08T00:00:00\", \"totalTestResultsIncrease\": 145642.0, \"positiveIncrease\": 3428.0, \"death\": 25947.0, \"deathIncrease\": 19.0, \"positiveRate\": 0.024, \"state\": \"New York\", \"sma7d\": 2757.286}, {\"date\": \"2020-11-09T00:00:00\", \"totalTestResultsIncrease\": 111416.0, \"positiveIncrease\": 3144.0, \"death\": 25973.0, \"deathIncrease\": 26.0, \"positiveRate\": 0.028, \"state\": \"New York\", \"sma7d\": 2973.143}, {\"date\": \"2020-11-10T00:00:00\", \"totalTestResultsIncrease\": 128036.0, \"positiveIncrease\": 3965.0, \"death\": 26005.0, \"deathIncrease\": 32.0, \"positiveRate\": 0.031, \"state\": \"New York\", \"sma7d\": 3208.0}, {\"date\": \"2020-11-11T00:00:00\", \"totalTestResultsIncrease\": 164300.0, \"positiveIncrease\": 4820.0, \"death\": 26026.0, \"deathIncrease\": 21.0, \"positiveRate\": 0.029, \"state\": \"New York\", \"sma7d\": 3592.857}, {\"date\": \"2020-11-12T00:00:00\", \"totalTestResultsIncrease\": 162627.0, \"positiveIncrease\": 4797.0, \"death\": 26055.0, \"deathIncrease\": 29.0, \"positiveRate\": 0.029, \"state\": \"New York\", \"sma7d\": 3850.0}, {\"date\": \"2020-11-13T00:00:00\", \"totalTestResultsIncrease\": 203721.0, \"positiveIncrease\": 5401.0, \"death\": 26079.0, \"deathIncrease\": 24.0, \"positiveRate\": 0.027, \"state\": \"New York\", \"sma7d\": 4163.143}, {\"date\": \"2020-11-14T00:00:00\", \"totalTestResultsIncrease\": 184162.0, \"positiveIncrease\": 5388.0, \"death\": 26103.0, \"deathIncrease\": 24.0, \"positiveRate\": 0.029, \"state\": \"New York\", \"sma7d\": 4420.429}, {\"date\": \"2020-11-15T00:00:00\", \"totalTestResultsIncrease\": 133202.0, \"positiveIncrease\": 3649.0, \"death\": 26133.0, \"deathIncrease\": 30.0, \"positiveRate\": 0.027, \"state\": \"New York\", \"sma7d\": 4452.0}, {\"date\": \"2020-11-16T00:00:00\", \"totalTestResultsIncrease\": 124565.0, \"positiveIncrease\": 3490.0, \"death\": 26159.0, \"deathIncrease\": 26.0, \"positiveRate\": 0.028, \"state\": \"New York\", \"sma7d\": 4501.429}, {\"date\": \"2020-11-17T00:00:00\", \"totalTestResultsIncrease\": 159852.0, \"positiveIncrease\": 5088.0, \"death\": 26189.0, \"deathIncrease\": 30.0, \"positiveRate\": 0.032, \"state\": \"New York\", \"sma7d\": 4661.857}]}}, {\"mode\": \"vega-lite\"});\n",
       "</script>"
      ],
      "text/plain": [
       "alt.LayerChart(...)"
      ]
     },
     "execution_count": 11,
     "metadata": {},
     "output_type": "execute_result"
    }
   ],
   "source": [
    "create_plot(ny, 'positiveIncrease')"
   ]
  },
  {
   "cell_type": "code",
   "execution_count": 12,
   "metadata": {
    "execution": {
     "iopub.execute_input": "2020-11-18T09:12:33.611429Z",
     "iopub.status.busy": "2020-11-18T09:12:33.610666Z",
     "iopub.status.idle": "2020-11-18T09:12:33.702718Z",
     "shell.execute_reply": "2020-11-18T09:12:33.703150Z"
    },
    "papermill": {
     "duration": 0.110847,
     "end_time": "2020-11-18T09:12:33.703299",
     "exception": false,
     "start_time": "2020-11-18T09:12:33.592452",
     "status": "completed"
    },
    "tags": []
   },
   "outputs": [
    {
     "data": {
      "text/html": [
       "\n",
       "<div id=\"altair-viz-044363380b104694be4c7b010d0e10d5\"></div>\n",
       "<script type=\"text/javascript\">\n",
       "  (function(spec, embedOpt){\n",
       "    let outputDiv = document.currentScript.previousElementSibling;\n",
       "    if (outputDiv.id !== \"altair-viz-044363380b104694be4c7b010d0e10d5\") {\n",
       "      outputDiv = document.getElementById(\"altair-viz-044363380b104694be4c7b010d0e10d5\");\n",
       "    }\n",
       "    const paths = {\n",
       "      \"vega\": \"https://cdn.jsdelivr.net/npm//vega@5?noext\",\n",
       "      \"vega-lib\": \"https://cdn.jsdelivr.net/npm//vega-lib?noext\",\n",
       "      \"vega-lite\": \"https://cdn.jsdelivr.net/npm//vega-lite@4.8.1?noext\",\n",
       "      \"vega-embed\": \"https://cdn.jsdelivr.net/npm//vega-embed@6?noext\",\n",
       "    };\n",
       "\n",
       "    function loadScript(lib) {\n",
       "      return new Promise(function(resolve, reject) {\n",
       "        var s = document.createElement('script');\n",
       "        s.src = paths[lib];\n",
       "        s.async = true;\n",
       "        s.onload = () => resolve(paths[lib]);\n",
       "        s.onerror = () => reject(`Error loading script: ${paths[lib]}`);\n",
       "        document.getElementsByTagName(\"head\")[0].appendChild(s);\n",
       "      });\n",
       "    }\n",
       "\n",
       "    function showError(err) {\n",
       "      outputDiv.innerHTML = `<div class=\"error\" style=\"color:red;\">${err}</div>`;\n",
       "      throw err;\n",
       "    }\n",
       "\n",
       "    function displayChart(vegaEmbed) {\n",
       "      vegaEmbed(outputDiv, spec, embedOpt)\n",
       "        .catch(err => showError(`Javascript Error: ${err.message}<br>This usually means there's a typo in your chart specification. See the javascript console for the full traceback.`));\n",
       "    }\n",
       "\n",
       "    if(typeof define === \"function\" && define.amd) {\n",
       "      requirejs.config({paths});\n",
       "      require([\"vega-embed\"], displayChart, err => showError(`Error loading script: ${err.message}`));\n",
       "    } else if (typeof vegaEmbed === \"function\") {\n",
       "      displayChart(vegaEmbed);\n",
       "    } else {\n",
       "      loadScript(\"vega\")\n",
       "        .then(() => loadScript(\"vega-lite\"))\n",
       "        .then(() => loadScript(\"vega-embed\"))\n",
       "        .catch(showError)\n",
       "        .then(() => displayChart(vegaEmbed));\n",
       "    }\n",
       "  })({\"config\": {\"view\": {\"continuousWidth\": 400, \"continuousHeight\": 300}}, \"layer\": [{\"layer\": [{\"mark\": {\"type\": \"point\", \"size\": 75}, \"encoding\": {\"tooltip\": [{\"type\": \"temporal\", \"field\": \"date\"}, {\"type\": \"quantitative\", \"field\": \"positiveRate\"}, {\"type\": \"quantitative\", \"field\": \"sma7d\"}], \"x\": {\"type\": \"temporal\", \"field\": \"date\"}, \"y\": {\"type\": \"quantitative\", \"field\": \"positiveRate\"}}, \"selection\": {\"selector010\": {\"type\": \"interval\", \"bind\": \"scales\", \"encodings\": [\"x\", \"y\"]}}}, {\"mark\": {\"type\": \"line\", \"color\": \"purple\"}, \"encoding\": {\"x\": {\"type\": \"temporal\", \"field\": \"date\"}, \"y\": {\"type\": \"quantitative\", \"field\": \"sma7d\"}}}]}, {\"mark\": {\"type\": \"rule\", \"color\": \"#aaa\"}, \"encoding\": {\"x\": {\"type\": \"temporal\", \"field\": \"date\"}}, \"transform\": [{\"filter\": {\"selection\": \"selector009\"}}]}, {\"mark\": \"circle\", \"encoding\": {\"opacity\": {\"condition\": {\"value\": 1, \"selection\": \"selector009\"}, \"value\": 0}, \"tooltip\": [{\"type\": \"temporal\", \"field\": \"date\"}, {\"type\": \"quantitative\", \"field\": \"positiveRate\"}, {\"type\": \"quantitative\", \"field\": \"sma7d\"}], \"x\": {\"type\": \"temporal\", \"field\": \"date\"}, \"y\": {\"type\": \"quantitative\", \"field\": \"positiveRate\"}}, \"selection\": {\"selector009\": {\"type\": \"single\", \"encodings\": [\"x\"], \"on\": \"mouseover\", \"nearest\": true, \"empty\": \"none\"}}}, {\"mark\": {\"type\": \"text\", \"align\": \"left\", \"dx\": 5, \"dy\": -5, \"stroke\": \"white\", \"strokeWidth\": 2}, \"encoding\": {\"text\": {\"type\": \"quantitative\", \"field\": \"positiveRate\"}, \"tooltip\": [{\"type\": \"temporal\", \"field\": \"date\"}, {\"type\": \"quantitative\", \"field\": \"positiveRate\"}, {\"type\": \"quantitative\", \"field\": \"sma7d\"}], \"x\": {\"type\": \"temporal\", \"field\": \"date\"}, \"y\": {\"type\": \"quantitative\", \"field\": \"positiveRate\"}}, \"transform\": [{\"filter\": {\"selection\": \"selector009\"}}]}, {\"mark\": {\"type\": \"text\", \"align\": \"left\", \"dx\": 5, \"dy\": -5}, \"encoding\": {\"text\": {\"type\": \"quantitative\", \"field\": \"positiveRate\"}, \"tooltip\": [{\"type\": \"temporal\", \"field\": \"date\"}, {\"type\": \"quantitative\", \"field\": \"positiveRate\"}, {\"type\": \"quantitative\", \"field\": \"sma7d\"}], \"x\": {\"type\": \"temporal\", \"field\": \"date\"}, \"y\": {\"type\": \"quantitative\", \"field\": \"positiveRate\"}}, \"transform\": [{\"filter\": {\"selection\": \"selector009\"}}]}], \"data\": {\"name\": \"data-43169c487d0abc5495b3c59be8154d05\"}, \"height\": 400, \"title\": \"New York: positiveRate\", \"width\": 500, \"$schema\": \"https://vega.github.io/schema/vega-lite/v4.8.1.json\", \"datasets\": {\"data-43169c487d0abc5495b3c59be8154d05\": [{\"date\": \"2020-09-24T00:00:00\", \"totalTestResultsIncrease\": 92953.0, \"positiveIncrease\": 955.0, \"death\": 25439.0, \"deathIncrease\": 2.0, \"positiveRate\": 0.01, \"state\": \"New York\", \"sma7d\": 0.009}, {\"date\": \"2020-09-25T00:00:00\", \"totalTestResultsIncrease\": 94818.0, \"positiveIncrease\": 908.0, \"death\": 25446.0, \"deathIncrease\": 7.0, \"positiveRate\": 0.01, \"state\": \"New York\", \"sma7d\": 0.009}, {\"date\": \"2020-09-26T00:00:00\", \"totalTestResultsIncrease\": 99953.0, \"positiveIncrease\": 1005.0, \"death\": 25450.0, \"deathIncrease\": 4.0, \"positiveRate\": 0.01, \"state\": \"New York\", \"sma7d\": 0.01}, {\"date\": \"2020-09-27T00:00:00\", \"totalTestResultsIncrease\": 84770.0, \"positiveIncrease\": 866.0, \"death\": 25456.0, \"deathIncrease\": 6.0, \"positiveRate\": 0.01, \"state\": \"New York\", \"sma7d\": 0.01}, {\"date\": \"2020-09-28T00:00:00\", \"totalTestResultsIncrease\": 52936.0, \"positiveIncrease\": 834.0, \"death\": 25468.0, \"deathIncrease\": 12.0, \"positiveRate\": 0.016, \"state\": \"New York\", \"sma7d\": 0.011}, {\"date\": \"2020-09-29T00:00:00\", \"totalTestResultsIncrease\": 88231.0, \"positiveIncrease\": 1189.0, \"death\": 25470.0, \"deathIncrease\": 2.0, \"positiveRate\": 0.013, \"state\": \"New York\", \"sma7d\": 0.011}, {\"date\": \"2020-09-30T00:00:00\", \"totalTestResultsIncrease\": 97960.0, \"positiveIncrease\": 1000.0, \"death\": 25479.0, \"deathIncrease\": 9.0, \"positiveRate\": 0.01, \"state\": \"New York\", \"sma7d\": 0.011}, {\"date\": \"2020-10-01T00:00:00\", \"totalTestResultsIncrease\": 109218.0, \"positiveIncrease\": 1382.0, \"death\": 25490.0, \"deathIncrease\": 11.0, \"positiveRate\": 0.013, \"state\": \"New York\", \"sma7d\": 0.012}, {\"date\": \"2020-10-02T00:00:00\", \"totalTestResultsIncrease\": 119493.0, \"positiveIncrease\": 1598.0, \"death\": 25497.0, \"deathIncrease\": 7.0, \"positiveRate\": 0.013, \"state\": \"New York\", \"sma7d\": 0.012}, {\"date\": \"2020-10-03T00:00:00\", \"totalTestResultsIncrease\": 134267.0, \"positiveIncrease\": 1731.0, \"death\": 25505.0, \"deathIncrease\": 8.0, \"positiveRate\": 0.013, \"state\": \"New York\", \"sma7d\": 0.013}, {\"date\": \"2020-10-04T00:00:00\", \"totalTestResultsIncrease\": 110329.0, \"positiveIncrease\": 1222.0, \"death\": 25519.0, \"deathIncrease\": 14.0, \"positiveRate\": 0.011, \"state\": \"New York\", \"sma7d\": 0.013}, {\"date\": \"2020-10-05T00:00:00\", \"totalTestResultsIncrease\": 76404.0, \"positiveIncrease\": 933.0, \"death\": 25527.0, \"deathIncrease\": 8.0, \"positiveRate\": 0.012, \"state\": \"New York\", \"sma7d\": 0.012}, {\"date\": \"2020-10-06T00:00:00\", \"totalTestResultsIncrease\": 96359.0, \"positiveIncrease\": 1393.0, \"death\": 25536.0, \"deathIncrease\": 9.0, \"positiveRate\": 0.014, \"state\": \"New York\", \"sma7d\": 0.012}, {\"date\": \"2020-10-07T00:00:00\", \"totalTestResultsIncrease\": 108246.0, \"positiveIncrease\": 1360.0, \"death\": 25545.0, \"deathIncrease\": 9.0, \"positiveRate\": 0.013, \"state\": \"New York\", \"sma7d\": 0.013}, {\"date\": \"2020-10-08T00:00:00\", \"totalTestResultsIncrease\": 145811.0, \"positiveIncrease\": 1836.0, \"death\": 25555.0, \"deathIncrease\": 10.0, \"positiveRate\": 0.013, \"state\": \"New York\", \"sma7d\": 0.013}, {\"date\": \"2020-10-09T00:00:00\", \"totalTestResultsIncrease\": 139300.0, \"positiveIncrease\": 1592.0, \"death\": 25561.0, \"deathIncrease\": 6.0, \"positiveRate\": 0.011, \"state\": \"New York\", \"sma7d\": 0.012}, {\"date\": \"2020-10-10T00:00:00\", \"totalTestResultsIncrease\": 134579.0, \"positiveIncrease\": 1447.0, \"death\": 25569.0, \"deathIncrease\": 8.0, \"positiveRate\": 0.011, \"state\": \"New York\", \"sma7d\": 0.012}, {\"date\": \"2020-10-11T00:00:00\", \"totalTestResultsIncrease\": 118254.0, \"positiveIncrease\": 1143.0, \"death\": 25574.0, \"deathIncrease\": 5.0, \"positiveRate\": 0.01, \"state\": \"New York\", \"sma7d\": 0.012}, {\"date\": \"2020-10-12T00:00:00\", \"totalTestResultsIncrease\": 91793.0, \"positiveIncrease\": 1029.0, \"death\": 25587.0, \"deathIncrease\": 13.0, \"positiveRate\": 0.011, \"state\": \"New York\", \"sma7d\": 0.012}, {\"date\": \"2020-10-13T00:00:00\", \"totalTestResultsIncrease\": 99070.0, \"positiveIncrease\": 1393.0, \"death\": 25598.0, \"deathIncrease\": 11.0, \"positiveRate\": 0.014, \"state\": \"New York\", \"sma7d\": 0.012}, {\"date\": \"2020-10-14T00:00:00\", \"totalTestResultsIncrease\": 111744.0, \"positiveIncrease\": 1232.0, \"death\": 25605.0, \"deathIncrease\": 7.0, \"positiveRate\": 0.011, \"state\": \"New York\", \"sma7d\": 0.012}, {\"date\": \"2020-10-15T00:00:00\", \"totalTestResultsIncrease\": 133212.0, \"positiveIncrease\": 1460.0, \"death\": 25618.0, \"deathIncrease\": 13.0, \"positiveRate\": 0.011, \"state\": \"New York\", \"sma7d\": 0.011}, {\"date\": \"2020-10-16T00:00:00\", \"totalTestResultsIncrease\": 136039.0, \"positiveIncrease\": 1707.0, \"death\": 25628.0, \"deathIncrease\": 10.0, \"positiveRate\": 0.013, \"state\": \"New York\", \"sma7d\": 0.012}, {\"date\": \"2020-10-17T00:00:00\", \"totalTestResultsIncrease\": 159972.0, \"positiveIncrease\": 1784.0, \"death\": 25637.0, \"deathIncrease\": 9.0, \"positiveRate\": 0.011, \"state\": \"New York\", \"sma7d\": 0.012}, {\"date\": \"2020-10-18T00:00:00\", \"totalTestResultsIncrease\": 128763.0, \"positiveIncrease\": 1390.0, \"death\": 25644.0, \"deathIncrease\": 7.0, \"positiveRate\": 0.011, \"state\": \"New York\", \"sma7d\": 0.012}, {\"date\": \"2020-10-19T00:00:00\", \"totalTestResultsIncrease\": 82009.0, \"positiveIncrease\": 998.0, \"death\": 25659.0, \"deathIncrease\": 15.0, \"positiveRate\": 0.012, \"state\": \"New York\", \"sma7d\": 0.012}, {\"date\": \"2020-10-20T00:00:00\", \"totalTestResultsIncrease\": 90540.0, \"positiveIncrease\": 1201.0, \"death\": 25672.0, \"deathIncrease\": 13.0, \"positiveRate\": 0.013, \"state\": \"New York\", \"sma7d\": 0.012}, {\"date\": \"2020-10-21T00:00:00\", \"totalTestResultsIncrease\": 124789.0, \"positiveIncrease\": 2026.0, \"death\": 25679.0, \"deathIncrease\": 7.0, \"positiveRate\": 0.016, \"state\": \"New York\", \"sma7d\": 0.012}, {\"date\": \"2020-10-22T00:00:00\", \"totalTestResultsIncrease\": 135341.0, \"positiveIncrease\": 1628.0, \"death\": 25694.0, \"deathIncrease\": 15.0, \"positiveRate\": 0.012, \"state\": \"New York\", \"sma7d\": 0.013}, {\"date\": \"2020-10-23T00:00:00\", \"totalTestResultsIncrease\": 141508.0, \"positiveIncrease\": 1637.0, \"death\": 25705.0, \"deathIncrease\": 11.0, \"positiveRate\": 0.012, \"state\": \"New York\", \"sma7d\": 0.012}, {\"date\": \"2020-10-24T00:00:00\", \"totalTestResultsIncrease\": 156940.0, \"positiveIncrease\": 2061.0, \"death\": 25718.0, \"deathIncrease\": 13.0, \"positiveRate\": 0.013, \"state\": \"New York\", \"sma7d\": 0.013}, {\"date\": \"2020-10-25T00:00:00\", \"totalTestResultsIncrease\": 120830.0, \"positiveIncrease\": 1632.0, \"death\": 25730.0, \"deathIncrease\": 12.0, \"positiveRate\": 0.014, \"state\": \"New York\", \"sma7d\": 0.013}, {\"date\": \"2020-10-26T00:00:00\", \"totalTestResultsIncrease\": 82117.0, \"positiveIncrease\": 1191.0, \"death\": 25742.0, \"deathIncrease\": 12.0, \"positiveRate\": 0.015, \"state\": \"New York\", \"sma7d\": 0.014}, {\"date\": \"2020-10-27T00:00:00\", \"totalTestResultsIncrease\": 111618.0, \"positiveIncrease\": 1991.0, \"death\": 25758.0, \"deathIncrease\": 16.0, \"positiveRate\": 0.018, \"state\": \"New York\", \"sma7d\": 0.014}, {\"date\": \"2020-10-28T00:00:00\", \"totalTestResultsIncrease\": 129660.0, \"positiveIncrease\": 2031.0, \"death\": 25773.0, \"deathIncrease\": 15.0, \"positiveRate\": 0.016, \"state\": \"New York\", \"sma7d\": 0.014}, {\"date\": \"2020-10-29T00:00:00\", \"totalTestResultsIncrease\": 168353.0, \"positiveIncrease\": 2499.0, \"death\": 25792.0, \"deathIncrease\": 19.0, \"positiveRate\": 0.015, \"state\": \"New York\", \"sma7d\": 0.015}, {\"date\": \"2020-10-30T00:00:00\", \"totalTestResultsIncrease\": 146885.0, \"positiveIncrease\": 2255.0, \"death\": 25804.0, \"deathIncrease\": 12.0, \"positiveRate\": 0.015, \"state\": \"New York\", \"sma7d\": 0.015}, {\"date\": \"2020-10-31T00:00:00\", \"totalTestResultsIncrease\": 136962.0, \"positiveIncrease\": 2049.0, \"death\": 25807.0, \"deathIncrease\": 3.0, \"positiveRate\": 0.015, \"state\": \"New York\", \"sma7d\": 0.015}, {\"date\": \"2020-11-01T00:00:00\", \"totalTestResultsIncrease\": 148935.0, \"positiveIncrease\": 2255.0, \"death\": 25824.0, \"deathIncrease\": 17.0, \"positiveRate\": 0.015, \"state\": \"New York\", \"sma7d\": 0.016}, {\"date\": \"2020-11-02T00:00:00\", \"totalTestResultsIncrease\": 96101.0, \"positiveIncrease\": 1633.0, \"death\": 25838.0, \"deathIncrease\": 14.0, \"positiveRate\": 0.017, \"state\": \"New York\", \"sma7d\": 0.016}, {\"date\": \"2020-11-03T00:00:00\", \"totalTestResultsIncrease\": 127869.0, \"positiveIncrease\": 2321.0, \"death\": 25853.0, \"deathIncrease\": 15.0, \"positiveRate\": 0.018, \"state\": \"New York\", \"sma7d\": 0.016}, {\"date\": \"2020-11-04T00:00:00\", \"totalTestResultsIncrease\": 133534.0, \"positiveIncrease\": 2126.0, \"death\": 25868.0, \"deathIncrease\": 15.0, \"positiveRate\": 0.016, \"state\": \"New York\", \"sma7d\": 0.016}, {\"date\": \"2020-11-05T00:00:00\", \"totalTestResultsIncrease\": 161019.0, \"positiveIncrease\": 2997.0, \"death\": 25892.0, \"deathIncrease\": 24.0, \"positiveRate\": 0.019, \"state\": \"New York\", \"sma7d\": 0.016}, {\"date\": \"2020-11-06T00:00:00\", \"totalTestResultsIncrease\": 160705.0, \"positiveIncrease\": 3209.0, \"death\": 25910.0, \"deathIncrease\": 18.0, \"positiveRate\": 0.02, \"state\": \"New York\", \"sma7d\": 0.017}, {\"date\": \"2020-11-07T00:00:00\", \"totalTestResultsIncrease\": 163291.0, \"positiveIncrease\": 3587.0, \"death\": 25928.0, \"deathIncrease\": 18.0, \"positiveRate\": 0.022, \"state\": \"New York\", \"sma7d\": 0.018}, {\"date\": \"2020-11-08T00:00:00\", \"totalTestResultsIncrease\": 145642.0, \"positiveIncrease\": 3428.0, \"death\": 25947.0, \"deathIncrease\": 19.0, \"positiveRate\": 0.024, \"state\": \"New York\", \"sma7d\": 0.019}, {\"date\": \"2020-11-09T00:00:00\", \"totalTestResultsIncrease\": 111416.0, \"positiveIncrease\": 3144.0, \"death\": 25973.0, \"deathIncrease\": 26.0, \"positiveRate\": 0.028, \"state\": \"New York\", \"sma7d\": 0.021}, {\"date\": \"2020-11-10T00:00:00\", \"totalTestResultsIncrease\": 128036.0, \"positiveIncrease\": 3965.0, \"death\": 26005.0, \"deathIncrease\": 32.0, \"positiveRate\": 0.031, \"state\": \"New York\", \"sma7d\": 0.023}, {\"date\": \"2020-11-11T00:00:00\", \"totalTestResultsIncrease\": 164300.0, \"positiveIncrease\": 4820.0, \"death\": 26026.0, \"deathIncrease\": 21.0, \"positiveRate\": 0.029, \"state\": \"New York\", \"sma7d\": 0.025}, {\"date\": \"2020-11-12T00:00:00\", \"totalTestResultsIncrease\": 162627.0, \"positiveIncrease\": 4797.0, \"death\": 26055.0, \"deathIncrease\": 29.0, \"positiveRate\": 0.029, \"state\": \"New York\", \"sma7d\": 0.026}, {\"date\": \"2020-11-13T00:00:00\", \"totalTestResultsIncrease\": 203721.0, \"positiveIncrease\": 5401.0, \"death\": 26079.0, \"deathIncrease\": 24.0, \"positiveRate\": 0.027, \"state\": \"New York\", \"sma7d\": 0.027}, {\"date\": \"2020-11-14T00:00:00\", \"totalTestResultsIncrease\": 184162.0, \"positiveIncrease\": 5388.0, \"death\": 26103.0, \"deathIncrease\": 24.0, \"positiveRate\": 0.029, \"state\": \"New York\", \"sma7d\": 0.028}, {\"date\": \"2020-11-15T00:00:00\", \"totalTestResultsIncrease\": 133202.0, \"positiveIncrease\": 3649.0, \"death\": 26133.0, \"deathIncrease\": 30.0, \"positiveRate\": 0.027, \"state\": \"New York\", \"sma7d\": 0.029}, {\"date\": \"2020-11-16T00:00:00\", \"totalTestResultsIncrease\": 124565.0, \"positiveIncrease\": 3490.0, \"death\": 26159.0, \"deathIncrease\": 26.0, \"positiveRate\": 0.028, \"state\": \"New York\", \"sma7d\": 0.029}, {\"date\": \"2020-11-17T00:00:00\", \"totalTestResultsIncrease\": 159852.0, \"positiveIncrease\": 5088.0, \"death\": 26189.0, \"deathIncrease\": 30.0, \"positiveRate\": 0.032, \"state\": \"New York\", \"sma7d\": 0.029}]}}, {\"mode\": \"vega-lite\"});\n",
       "</script>"
      ],
      "text/plain": [
       "alt.LayerChart(...)"
      ]
     },
     "execution_count": 12,
     "metadata": {},
     "output_type": "execute_result"
    }
   ],
   "source": [
    "create_plot(ny, 'positiveRate')"
   ]
  },
  {
   "cell_type": "code",
   "execution_count": 13,
   "metadata": {
    "execution": {
     "iopub.execute_input": "2020-11-18T09:12:33.768478Z",
     "iopub.status.busy": "2020-11-18T09:12:33.758269Z",
     "iopub.status.idle": "2020-11-18T09:12:33.829223Z",
     "shell.execute_reply": "2020-11-18T09:12:33.829638Z"
    },
    "papermill": {
     "duration": 0.11049,
     "end_time": "2020-11-18T09:12:33.829884",
     "exception": false,
     "start_time": "2020-11-18T09:12:33.719394",
     "status": "completed"
    },
    "tags": []
   },
   "outputs": [
    {
     "data": {
      "text/html": [
       "\n",
       "<div id=\"altair-viz-bad09ef977a8422796bcf263b4a62bdd\"></div>\n",
       "<script type=\"text/javascript\">\n",
       "  (function(spec, embedOpt){\n",
       "    let outputDiv = document.currentScript.previousElementSibling;\n",
       "    if (outputDiv.id !== \"altair-viz-bad09ef977a8422796bcf263b4a62bdd\") {\n",
       "      outputDiv = document.getElementById(\"altair-viz-bad09ef977a8422796bcf263b4a62bdd\");\n",
       "    }\n",
       "    const paths = {\n",
       "      \"vega\": \"https://cdn.jsdelivr.net/npm//vega@5?noext\",\n",
       "      \"vega-lib\": \"https://cdn.jsdelivr.net/npm//vega-lib?noext\",\n",
       "      \"vega-lite\": \"https://cdn.jsdelivr.net/npm//vega-lite@4.8.1?noext\",\n",
       "      \"vega-embed\": \"https://cdn.jsdelivr.net/npm//vega-embed@6?noext\",\n",
       "    };\n",
       "\n",
       "    function loadScript(lib) {\n",
       "      return new Promise(function(resolve, reject) {\n",
       "        var s = document.createElement('script');\n",
       "        s.src = paths[lib];\n",
       "        s.async = true;\n",
       "        s.onload = () => resolve(paths[lib]);\n",
       "        s.onerror = () => reject(`Error loading script: ${paths[lib]}`);\n",
       "        document.getElementsByTagName(\"head\")[0].appendChild(s);\n",
       "      });\n",
       "    }\n",
       "\n",
       "    function showError(err) {\n",
       "      outputDiv.innerHTML = `<div class=\"error\" style=\"color:red;\">${err}</div>`;\n",
       "      throw err;\n",
       "    }\n",
       "\n",
       "    function displayChart(vegaEmbed) {\n",
       "      vegaEmbed(outputDiv, spec, embedOpt)\n",
       "        .catch(err => showError(`Javascript Error: ${err.message}<br>This usually means there's a typo in your chart specification. See the javascript console for the full traceback.`));\n",
       "    }\n",
       "\n",
       "    if(typeof define === \"function\" && define.amd) {\n",
       "      requirejs.config({paths});\n",
       "      require([\"vega-embed\"], displayChart, err => showError(`Error loading script: ${err.message}`));\n",
       "    } else if (typeof vegaEmbed === \"function\") {\n",
       "      displayChart(vegaEmbed);\n",
       "    } else {\n",
       "      loadScript(\"vega\")\n",
       "        .then(() => loadScript(\"vega-lite\"))\n",
       "        .then(() => loadScript(\"vega-embed\"))\n",
       "        .catch(showError)\n",
       "        .then(() => displayChart(vegaEmbed));\n",
       "    }\n",
       "  })({\"config\": {\"view\": {\"continuousWidth\": 400, \"continuousHeight\": 300}}, \"layer\": [{\"layer\": [{\"mark\": {\"type\": \"point\", \"size\": 75}, \"encoding\": {\"tooltip\": [{\"type\": \"temporal\", \"field\": \"date\"}, {\"type\": \"quantitative\", \"field\": \"deathIncrease\"}, {\"type\": \"quantitative\", \"field\": \"sma7d\"}], \"x\": {\"type\": \"temporal\", \"field\": \"date\"}, \"y\": {\"type\": \"quantitative\", \"field\": \"deathIncrease\"}}, \"selection\": {\"selector012\": {\"type\": \"interval\", \"bind\": \"scales\", \"encodings\": [\"x\", \"y\"]}}}, {\"mark\": {\"type\": \"line\", \"color\": \"purple\"}, \"encoding\": {\"x\": {\"type\": \"temporal\", \"field\": \"date\"}, \"y\": {\"type\": \"quantitative\", \"field\": \"sma7d\"}}}]}, {\"mark\": {\"type\": \"rule\", \"color\": \"#aaa\"}, \"encoding\": {\"x\": {\"type\": \"temporal\", \"field\": \"date\"}}, \"transform\": [{\"filter\": {\"selection\": \"selector011\"}}]}, {\"mark\": \"circle\", \"encoding\": {\"opacity\": {\"condition\": {\"value\": 1, \"selection\": \"selector011\"}, \"value\": 0}, \"tooltip\": [{\"type\": \"temporal\", \"field\": \"date\"}, {\"type\": \"quantitative\", \"field\": \"deathIncrease\"}, {\"type\": \"quantitative\", \"field\": \"sma7d\"}], \"x\": {\"type\": \"temporal\", \"field\": \"date\"}, \"y\": {\"type\": \"quantitative\", \"field\": \"deathIncrease\"}}, \"selection\": {\"selector011\": {\"type\": \"single\", \"encodings\": [\"x\"], \"on\": \"mouseover\", \"nearest\": true, \"empty\": \"none\"}}}, {\"mark\": {\"type\": \"text\", \"align\": \"left\", \"dx\": 5, \"dy\": -5, \"stroke\": \"white\", \"strokeWidth\": 2}, \"encoding\": {\"text\": {\"type\": \"quantitative\", \"field\": \"deathIncrease\"}, \"tooltip\": [{\"type\": \"temporal\", \"field\": \"date\"}, {\"type\": \"quantitative\", \"field\": \"deathIncrease\"}, {\"type\": \"quantitative\", \"field\": \"sma7d\"}], \"x\": {\"type\": \"temporal\", \"field\": \"date\"}, \"y\": {\"type\": \"quantitative\", \"field\": \"deathIncrease\"}}, \"transform\": [{\"filter\": {\"selection\": \"selector011\"}}]}, {\"mark\": {\"type\": \"text\", \"align\": \"left\", \"dx\": 5, \"dy\": -5}, \"encoding\": {\"text\": {\"type\": \"quantitative\", \"field\": \"deathIncrease\"}, \"tooltip\": [{\"type\": \"temporal\", \"field\": \"date\"}, {\"type\": \"quantitative\", \"field\": \"deathIncrease\"}, {\"type\": \"quantitative\", \"field\": \"sma7d\"}], \"x\": {\"type\": \"temporal\", \"field\": \"date\"}, \"y\": {\"type\": \"quantitative\", \"field\": \"deathIncrease\"}}, \"transform\": [{\"filter\": {\"selection\": \"selector011\"}}]}], \"data\": {\"name\": \"data-db2d24fd9fa98cb78c1f58622bd29111\"}, \"height\": 400, \"title\": \"New York: deathIncrease\", \"width\": 500, \"$schema\": \"https://vega.github.io/schema/vega-lite/v4.8.1.json\", \"datasets\": {\"data-db2d24fd9fa98cb78c1f58622bd29111\": [{\"date\": \"2020-09-24T00:00:00\", \"totalTestResultsIncrease\": 92953.0, \"positiveIncrease\": 955.0, \"death\": 25439.0, \"deathIncrease\": 2.0, \"positiveRate\": 0.01, \"state\": \"New York\", \"sma7d\": 3.714}, {\"date\": \"2020-09-25T00:00:00\", \"totalTestResultsIncrease\": 94818.0, \"positiveIncrease\": 908.0, \"death\": 25446.0, \"deathIncrease\": 7.0, \"positiveRate\": 0.01, \"state\": \"New York\", \"sma7d\": 3.286}, {\"date\": \"2020-09-26T00:00:00\", \"totalTestResultsIncrease\": 99953.0, \"positiveIncrease\": 1005.0, \"death\": 25450.0, \"deathIncrease\": 4.0, \"positiveRate\": 0.01, \"state\": \"New York\", \"sma7d\": 3.571}, {\"date\": \"2020-09-27T00:00:00\", \"totalTestResultsIncrease\": 84770.0, \"positiveIncrease\": 866.0, \"death\": 25456.0, \"deathIncrease\": 6.0, \"positiveRate\": 0.01, \"state\": \"New York\", \"sma7d\": 4.143}, {\"date\": \"2020-09-28T00:00:00\", \"totalTestResultsIncrease\": 52936.0, \"positiveIncrease\": 834.0, \"death\": 25468.0, \"deathIncrease\": 12.0, \"positiveRate\": 0.016, \"state\": \"New York\", \"sma7d\": 5.714}, {\"date\": \"2020-09-29T00:00:00\", \"totalTestResultsIncrease\": 88231.0, \"positiveIncrease\": 1189.0, \"death\": 25470.0, \"deathIncrease\": 2.0, \"positiveRate\": 0.013, \"state\": \"New York\", \"sma7d\": 5.429}, {\"date\": \"2020-09-30T00:00:00\", \"totalTestResultsIncrease\": 97960.0, \"positiveIncrease\": 1000.0, \"death\": 25479.0, \"deathIncrease\": 9.0, \"positiveRate\": 0.01, \"state\": \"New York\", \"sma7d\": 6.0}, {\"date\": \"2020-10-01T00:00:00\", \"totalTestResultsIncrease\": 109218.0, \"positiveIncrease\": 1382.0, \"death\": 25490.0, \"deathIncrease\": 11.0, \"positiveRate\": 0.013, \"state\": \"New York\", \"sma7d\": 7.286}, {\"date\": \"2020-10-02T00:00:00\", \"totalTestResultsIncrease\": 119493.0, \"positiveIncrease\": 1598.0, \"death\": 25497.0, \"deathIncrease\": 7.0, \"positiveRate\": 0.013, \"state\": \"New York\", \"sma7d\": 7.286}, {\"date\": \"2020-10-03T00:00:00\", \"totalTestResultsIncrease\": 134267.0, \"positiveIncrease\": 1731.0, \"death\": 25505.0, \"deathIncrease\": 8.0, \"positiveRate\": 0.013, \"state\": \"New York\", \"sma7d\": 7.857}, {\"date\": \"2020-10-04T00:00:00\", \"totalTestResultsIncrease\": 110329.0, \"positiveIncrease\": 1222.0, \"death\": 25519.0, \"deathIncrease\": 14.0, \"positiveRate\": 0.011, \"state\": \"New York\", \"sma7d\": 9.0}, {\"date\": \"2020-10-05T00:00:00\", \"totalTestResultsIncrease\": 76404.0, \"positiveIncrease\": 933.0, \"death\": 25527.0, \"deathIncrease\": 8.0, \"positiveRate\": 0.012, \"state\": \"New York\", \"sma7d\": 8.429}, {\"date\": \"2020-10-06T00:00:00\", \"totalTestResultsIncrease\": 96359.0, \"positiveIncrease\": 1393.0, \"death\": 25536.0, \"deathIncrease\": 9.0, \"positiveRate\": 0.014, \"state\": \"New York\", \"sma7d\": 9.429}, {\"date\": \"2020-10-07T00:00:00\", \"totalTestResultsIncrease\": 108246.0, \"positiveIncrease\": 1360.0, \"death\": 25545.0, \"deathIncrease\": 9.0, \"positiveRate\": 0.013, \"state\": \"New York\", \"sma7d\": 9.429}, {\"date\": \"2020-10-08T00:00:00\", \"totalTestResultsIncrease\": 145811.0, \"positiveIncrease\": 1836.0, \"death\": 25555.0, \"deathIncrease\": 10.0, \"positiveRate\": 0.013, \"state\": \"New York\", \"sma7d\": 9.286}, {\"date\": \"2020-10-09T00:00:00\", \"totalTestResultsIncrease\": 139300.0, \"positiveIncrease\": 1592.0, \"death\": 25561.0, \"deathIncrease\": 6.0, \"positiveRate\": 0.011, \"state\": \"New York\", \"sma7d\": 9.143}, {\"date\": \"2020-10-10T00:00:00\", \"totalTestResultsIncrease\": 134579.0, \"positiveIncrease\": 1447.0, \"death\": 25569.0, \"deathIncrease\": 8.0, \"positiveRate\": 0.011, \"state\": \"New York\", \"sma7d\": 9.143}, {\"date\": \"2020-10-11T00:00:00\", \"totalTestResultsIncrease\": 118254.0, \"positiveIncrease\": 1143.0, \"death\": 25574.0, \"deathIncrease\": 5.0, \"positiveRate\": 0.01, \"state\": \"New York\", \"sma7d\": 7.857}, {\"date\": \"2020-10-12T00:00:00\", \"totalTestResultsIncrease\": 91793.0, \"positiveIncrease\": 1029.0, \"death\": 25587.0, \"deathIncrease\": 13.0, \"positiveRate\": 0.011, \"state\": \"New York\", \"sma7d\": 8.571}, {\"date\": \"2020-10-13T00:00:00\", \"totalTestResultsIncrease\": 99070.0, \"positiveIncrease\": 1393.0, \"death\": 25598.0, \"deathIncrease\": 11.0, \"positiveRate\": 0.014, \"state\": \"New York\", \"sma7d\": 8.857}, {\"date\": \"2020-10-14T00:00:00\", \"totalTestResultsIncrease\": 111744.0, \"positiveIncrease\": 1232.0, \"death\": 25605.0, \"deathIncrease\": 7.0, \"positiveRate\": 0.011, \"state\": \"New York\", \"sma7d\": 8.571}, {\"date\": \"2020-10-15T00:00:00\", \"totalTestResultsIncrease\": 133212.0, \"positiveIncrease\": 1460.0, \"death\": 25618.0, \"deathIncrease\": 13.0, \"positiveRate\": 0.011, \"state\": \"New York\", \"sma7d\": 9.0}, {\"date\": \"2020-10-16T00:00:00\", \"totalTestResultsIncrease\": 136039.0, \"positiveIncrease\": 1707.0, \"death\": 25628.0, \"deathIncrease\": 10.0, \"positiveRate\": 0.013, \"state\": \"New York\", \"sma7d\": 9.571}, {\"date\": \"2020-10-17T00:00:00\", \"totalTestResultsIncrease\": 159972.0, \"positiveIncrease\": 1784.0, \"death\": 25637.0, \"deathIncrease\": 9.0, \"positiveRate\": 0.011, \"state\": \"New York\", \"sma7d\": 9.714}, {\"date\": \"2020-10-18T00:00:00\", \"totalTestResultsIncrease\": 128763.0, \"positiveIncrease\": 1390.0, \"death\": 25644.0, \"deathIncrease\": 7.0, \"positiveRate\": 0.011, \"state\": \"New York\", \"sma7d\": 10.0}, {\"date\": \"2020-10-19T00:00:00\", \"totalTestResultsIncrease\": 82009.0, \"positiveIncrease\": 998.0, \"death\": 25659.0, \"deathIncrease\": 15.0, \"positiveRate\": 0.012, \"state\": \"New York\", \"sma7d\": 10.286}, {\"date\": \"2020-10-20T00:00:00\", \"totalTestResultsIncrease\": 90540.0, \"positiveIncrease\": 1201.0, \"death\": 25672.0, \"deathIncrease\": 13.0, \"positiveRate\": 0.013, \"state\": \"New York\", \"sma7d\": 10.571}, {\"date\": \"2020-10-21T00:00:00\", \"totalTestResultsIncrease\": 124789.0, \"positiveIncrease\": 2026.0, \"death\": 25679.0, \"deathIncrease\": 7.0, \"positiveRate\": 0.016, \"state\": \"New York\", \"sma7d\": 10.571}, {\"date\": \"2020-10-22T00:00:00\", \"totalTestResultsIncrease\": 135341.0, \"positiveIncrease\": 1628.0, \"death\": 25694.0, \"deathIncrease\": 15.0, \"positiveRate\": 0.012, \"state\": \"New York\", \"sma7d\": 10.857}, {\"date\": \"2020-10-23T00:00:00\", \"totalTestResultsIncrease\": 141508.0, \"positiveIncrease\": 1637.0, \"death\": 25705.0, \"deathIncrease\": 11.0, \"positiveRate\": 0.012, \"state\": \"New York\", \"sma7d\": 11.0}, {\"date\": \"2020-10-24T00:00:00\", \"totalTestResultsIncrease\": 156940.0, \"positiveIncrease\": 2061.0, \"death\": 25718.0, \"deathIncrease\": 13.0, \"positiveRate\": 0.013, \"state\": \"New York\", \"sma7d\": 11.571}, {\"date\": \"2020-10-25T00:00:00\", \"totalTestResultsIncrease\": 120830.0, \"positiveIncrease\": 1632.0, \"death\": 25730.0, \"deathIncrease\": 12.0, \"positiveRate\": 0.014, \"state\": \"New York\", \"sma7d\": 12.286}, {\"date\": \"2020-10-26T00:00:00\", \"totalTestResultsIncrease\": 82117.0, \"positiveIncrease\": 1191.0, \"death\": 25742.0, \"deathIncrease\": 12.0, \"positiveRate\": 0.015, \"state\": \"New York\", \"sma7d\": 11.857}, {\"date\": \"2020-10-27T00:00:00\", \"totalTestResultsIncrease\": 111618.0, \"positiveIncrease\": 1991.0, \"death\": 25758.0, \"deathIncrease\": 16.0, \"positiveRate\": 0.018, \"state\": \"New York\", \"sma7d\": 12.286}, {\"date\": \"2020-10-28T00:00:00\", \"totalTestResultsIncrease\": 129660.0, \"positiveIncrease\": 2031.0, \"death\": 25773.0, \"deathIncrease\": 15.0, \"positiveRate\": 0.016, \"state\": \"New York\", \"sma7d\": 13.429}, {\"date\": \"2020-10-29T00:00:00\", \"totalTestResultsIncrease\": 168353.0, \"positiveIncrease\": 2499.0, \"death\": 25792.0, \"deathIncrease\": 19.0, \"positiveRate\": 0.015, \"state\": \"New York\", \"sma7d\": 14.0}, {\"date\": \"2020-10-30T00:00:00\", \"totalTestResultsIncrease\": 146885.0, \"positiveIncrease\": 2255.0, \"death\": 25804.0, \"deathIncrease\": 12.0, \"positiveRate\": 0.015, \"state\": \"New York\", \"sma7d\": 14.143}, {\"date\": \"2020-10-31T00:00:00\", \"totalTestResultsIncrease\": 136962.0, \"positiveIncrease\": 2049.0, \"death\": 25807.0, \"deathIncrease\": 3.0, \"positiveRate\": 0.015, \"state\": \"New York\", \"sma7d\": 12.714}, {\"date\": \"2020-11-01T00:00:00\", \"totalTestResultsIncrease\": 148935.0, \"positiveIncrease\": 2255.0, \"death\": 25824.0, \"deathIncrease\": 17.0, \"positiveRate\": 0.015, \"state\": \"New York\", \"sma7d\": 13.429}, {\"date\": \"2020-11-02T00:00:00\", \"totalTestResultsIncrease\": 96101.0, \"positiveIncrease\": 1633.0, \"death\": 25838.0, \"deathIncrease\": 14.0, \"positiveRate\": 0.017, \"state\": \"New York\", \"sma7d\": 13.714}, {\"date\": \"2020-11-03T00:00:00\", \"totalTestResultsIncrease\": 127869.0, \"positiveIncrease\": 2321.0, \"death\": 25853.0, \"deathIncrease\": 15.0, \"positiveRate\": 0.018, \"state\": \"New York\", \"sma7d\": 13.571}, {\"date\": \"2020-11-04T00:00:00\", \"totalTestResultsIncrease\": 133534.0, \"positiveIncrease\": 2126.0, \"death\": 25868.0, \"deathIncrease\": 15.0, \"positiveRate\": 0.016, \"state\": \"New York\", \"sma7d\": 13.571}, {\"date\": \"2020-11-05T00:00:00\", \"totalTestResultsIncrease\": 161019.0, \"positiveIncrease\": 2997.0, \"death\": 25892.0, \"deathIncrease\": 24.0, \"positiveRate\": 0.019, \"state\": \"New York\", \"sma7d\": 14.286}, {\"date\": \"2020-11-06T00:00:00\", \"totalTestResultsIncrease\": 160705.0, \"positiveIncrease\": 3209.0, \"death\": 25910.0, \"deathIncrease\": 18.0, \"positiveRate\": 0.02, \"state\": \"New York\", \"sma7d\": 15.143}, {\"date\": \"2020-11-07T00:00:00\", \"totalTestResultsIncrease\": 163291.0, \"positiveIncrease\": 3587.0, \"death\": 25928.0, \"deathIncrease\": 18.0, \"positiveRate\": 0.022, \"state\": \"New York\", \"sma7d\": 17.286}, {\"date\": \"2020-11-08T00:00:00\", \"totalTestResultsIncrease\": 145642.0, \"positiveIncrease\": 3428.0, \"death\": 25947.0, \"deathIncrease\": 19.0, \"positiveRate\": 0.024, \"state\": \"New York\", \"sma7d\": 17.571}, {\"date\": \"2020-11-09T00:00:00\", \"totalTestResultsIncrease\": 111416.0, \"positiveIncrease\": 3144.0, \"death\": 25973.0, \"deathIncrease\": 26.0, \"positiveRate\": 0.028, \"state\": \"New York\", \"sma7d\": 19.286}, {\"date\": \"2020-11-10T00:00:00\", \"totalTestResultsIncrease\": 128036.0, \"positiveIncrease\": 3965.0, \"death\": 26005.0, \"deathIncrease\": 32.0, \"positiveRate\": 0.031, \"state\": \"New York\", \"sma7d\": 21.714}, {\"date\": \"2020-11-11T00:00:00\", \"totalTestResultsIncrease\": 164300.0, \"positiveIncrease\": 4820.0, \"death\": 26026.0, \"deathIncrease\": 21.0, \"positiveRate\": 0.029, \"state\": \"New York\", \"sma7d\": 22.571}, {\"date\": \"2020-11-12T00:00:00\", \"totalTestResultsIncrease\": 162627.0, \"positiveIncrease\": 4797.0, \"death\": 26055.0, \"deathIncrease\": 29.0, \"positiveRate\": 0.029, \"state\": \"New York\", \"sma7d\": 23.286}, {\"date\": \"2020-11-13T00:00:00\", \"totalTestResultsIncrease\": 203721.0, \"positiveIncrease\": 5401.0, \"death\": 26079.0, \"deathIncrease\": 24.0, \"positiveRate\": 0.027, \"state\": \"New York\", \"sma7d\": 24.143}, {\"date\": \"2020-11-14T00:00:00\", \"totalTestResultsIncrease\": 184162.0, \"positiveIncrease\": 5388.0, \"death\": 26103.0, \"deathIncrease\": 24.0, \"positiveRate\": 0.029, \"state\": \"New York\", \"sma7d\": 25.0}, {\"date\": \"2020-11-15T00:00:00\", \"totalTestResultsIncrease\": 133202.0, \"positiveIncrease\": 3649.0, \"death\": 26133.0, \"deathIncrease\": 30.0, \"positiveRate\": 0.027, \"state\": \"New York\", \"sma7d\": 26.571}, {\"date\": \"2020-11-16T00:00:00\", \"totalTestResultsIncrease\": 124565.0, \"positiveIncrease\": 3490.0, \"death\": 26159.0, \"deathIncrease\": 26.0, \"positiveRate\": 0.028, \"state\": \"New York\", \"sma7d\": 26.571}, {\"date\": \"2020-11-17T00:00:00\", \"totalTestResultsIncrease\": 159852.0, \"positiveIncrease\": 5088.0, \"death\": 26189.0, \"deathIncrease\": 30.0, \"positiveRate\": 0.032, \"state\": \"New York\", \"sma7d\": 26.286}]}}, {\"mode\": \"vega-lite\"});\n",
       "</script>"
      ],
      "text/plain": [
       "alt.LayerChart(...)"
      ]
     },
     "execution_count": 13,
     "metadata": {},
     "output_type": "execute_result"
    }
   ],
   "source": [
    "create_plot(ny, 'deathIncrease')"
   ]
  },
  {
   "cell_type": "markdown",
   "metadata": {
    "papermill": {
     "duration": 0.016017,
     "end_time": "2020-11-18T09:12:33.861644",
     "exception": false,
     "start_time": "2020-11-18T09:12:33.845627",
     "status": "completed"
    },
    "tags": []
   },
   "source": [
    "## Non Tri-State"
   ]
  },
  {
   "cell_type": "code",
   "execution_count": 14,
   "metadata": {
    "execution": {
     "iopub.execute_input": "2020-11-18T09:12:33.899219Z",
     "iopub.status.busy": "2020-11-18T09:12:33.898679Z",
     "iopub.status.idle": "2020-11-18T09:12:34.210678Z",
     "shell.execute_reply": "2020-11-18T09:12:34.209786Z"
    },
    "papermill": {
     "duration": 0.332991,
     "end_time": "2020-11-18T09:12:34.210895",
     "exception": false,
     "start_time": "2020-11-18T09:12:33.877904",
     "status": "completed"
    },
    "tags": []
   },
   "outputs": [],
   "source": [
    "non_tristate = create_df(df, lambda d: ~d['state'].isin(['CT','NJ','NY']), 'Non Tri-State')"
   ]
  },
  {
   "cell_type": "code",
   "execution_count": 15,
   "metadata": {
    "execution": {
     "iopub.execute_input": "2020-11-18T09:12:34.255643Z",
     "iopub.status.busy": "2020-11-18T09:12:34.254893Z",
     "iopub.status.idle": "2020-11-18T09:12:34.345880Z",
     "shell.execute_reply": "2020-11-18T09:12:34.345097Z"
    },
    "papermill": {
     "duration": 0.116625,
     "end_time": "2020-11-18T09:12:34.346092",
     "exception": false,
     "start_time": "2020-11-18T09:12:34.229467",
     "status": "completed"
    },
    "tags": []
   },
   "outputs": [
    {
     "data": {
      "text/html": [
       "\n",
       "<div id=\"altair-viz-65982b291add46a6b6c5bf46a3221ed7\"></div>\n",
       "<script type=\"text/javascript\">\n",
       "  (function(spec, embedOpt){\n",
       "    let outputDiv = document.currentScript.previousElementSibling;\n",
       "    if (outputDiv.id !== \"altair-viz-65982b291add46a6b6c5bf46a3221ed7\") {\n",
       "      outputDiv = document.getElementById(\"altair-viz-65982b291add46a6b6c5bf46a3221ed7\");\n",
       "    }\n",
       "    const paths = {\n",
       "      \"vega\": \"https://cdn.jsdelivr.net/npm//vega@5?noext\",\n",
       "      \"vega-lib\": \"https://cdn.jsdelivr.net/npm//vega-lib?noext\",\n",
       "      \"vega-lite\": \"https://cdn.jsdelivr.net/npm//vega-lite@4.8.1?noext\",\n",
       "      \"vega-embed\": \"https://cdn.jsdelivr.net/npm//vega-embed@6?noext\",\n",
       "    };\n",
       "\n",
       "    function loadScript(lib) {\n",
       "      return new Promise(function(resolve, reject) {\n",
       "        var s = document.createElement('script');\n",
       "        s.src = paths[lib];\n",
       "        s.async = true;\n",
       "        s.onload = () => resolve(paths[lib]);\n",
       "        s.onerror = () => reject(`Error loading script: ${paths[lib]}`);\n",
       "        document.getElementsByTagName(\"head\")[0].appendChild(s);\n",
       "      });\n",
       "    }\n",
       "\n",
       "    function showError(err) {\n",
       "      outputDiv.innerHTML = `<div class=\"error\" style=\"color:red;\">${err}</div>`;\n",
       "      throw err;\n",
       "    }\n",
       "\n",
       "    function displayChart(vegaEmbed) {\n",
       "      vegaEmbed(outputDiv, spec, embedOpt)\n",
       "        .catch(err => showError(`Javascript Error: ${err.message}<br>This usually means there's a typo in your chart specification. See the javascript console for the full traceback.`));\n",
       "    }\n",
       "\n",
       "    if(typeof define === \"function\" && define.amd) {\n",
       "      requirejs.config({paths});\n",
       "      require([\"vega-embed\"], displayChart, err => showError(`Error loading script: ${err.message}`));\n",
       "    } else if (typeof vegaEmbed === \"function\") {\n",
       "      displayChart(vegaEmbed);\n",
       "    } else {\n",
       "      loadScript(\"vega\")\n",
       "        .then(() => loadScript(\"vega-lite\"))\n",
       "        .then(() => loadScript(\"vega-embed\"))\n",
       "        .catch(showError)\n",
       "        .then(() => displayChart(vegaEmbed));\n",
       "    }\n",
       "  })({\"config\": {\"view\": {\"continuousWidth\": 400, \"continuousHeight\": 300}}, \"layer\": [{\"layer\": [{\"mark\": {\"type\": \"point\", \"size\": 75}, \"encoding\": {\"tooltip\": [{\"type\": \"temporal\", \"field\": \"date\"}, {\"type\": \"quantitative\", \"field\": \"positiveIncrease\"}, {\"type\": \"quantitative\", \"field\": \"sma7d\"}], \"x\": {\"type\": \"temporal\", \"field\": \"date\"}, \"y\": {\"type\": \"quantitative\", \"field\": \"positiveIncrease\"}}, \"selection\": {\"selector014\": {\"type\": \"interval\", \"bind\": \"scales\", \"encodings\": [\"x\", \"y\"]}}}, {\"mark\": {\"type\": \"line\", \"color\": \"purple\"}, \"encoding\": {\"x\": {\"type\": \"temporal\", \"field\": \"date\"}, \"y\": {\"type\": \"quantitative\", \"field\": \"sma7d\"}}}]}, {\"mark\": {\"type\": \"rule\", \"color\": \"#aaa\"}, \"encoding\": {\"x\": {\"type\": \"temporal\", \"field\": \"date\"}}, \"transform\": [{\"filter\": {\"selection\": \"selector013\"}}]}, {\"mark\": \"circle\", \"encoding\": {\"opacity\": {\"condition\": {\"value\": 1, \"selection\": \"selector013\"}, \"value\": 0}, \"tooltip\": [{\"type\": \"temporal\", \"field\": \"date\"}, {\"type\": \"quantitative\", \"field\": \"positiveIncrease\"}, {\"type\": \"quantitative\", \"field\": \"sma7d\"}], \"x\": {\"type\": \"temporal\", \"field\": \"date\"}, \"y\": {\"type\": \"quantitative\", \"field\": \"positiveIncrease\"}}, \"selection\": {\"selector013\": {\"type\": \"single\", \"encodings\": [\"x\"], \"on\": \"mouseover\", \"nearest\": true, \"empty\": \"none\"}}}, {\"mark\": {\"type\": \"text\", \"align\": \"left\", \"dx\": 5, \"dy\": -5, \"stroke\": \"white\", \"strokeWidth\": 2}, \"encoding\": {\"text\": {\"type\": \"quantitative\", \"field\": \"positiveIncrease\"}, \"tooltip\": [{\"type\": \"temporal\", \"field\": \"date\"}, {\"type\": \"quantitative\", \"field\": \"positiveIncrease\"}, {\"type\": \"quantitative\", \"field\": \"sma7d\"}], \"x\": {\"type\": \"temporal\", \"field\": \"date\"}, \"y\": {\"type\": \"quantitative\", \"field\": \"positiveIncrease\"}}, \"transform\": [{\"filter\": {\"selection\": \"selector013\"}}]}, {\"mark\": {\"type\": \"text\", \"align\": \"left\", \"dx\": 5, \"dy\": -5}, \"encoding\": {\"text\": {\"type\": \"quantitative\", \"field\": \"positiveIncrease\"}, \"tooltip\": [{\"type\": \"temporal\", \"field\": \"date\"}, {\"type\": \"quantitative\", \"field\": \"positiveIncrease\"}, {\"type\": \"quantitative\", \"field\": \"sma7d\"}], \"x\": {\"type\": \"temporal\", \"field\": \"date\"}, \"y\": {\"type\": \"quantitative\", \"field\": \"positiveIncrease\"}}, \"transform\": [{\"filter\": {\"selection\": \"selector013\"}}]}], \"data\": {\"name\": \"data-bd7e627bc489babe5fc3b8e57da3c6bb\"}, \"height\": 400, \"title\": \"Non Tri-State: positiveIncrease\", \"width\": 500, \"$schema\": \"https://vega.github.io/schema/vega-lite/v4.8.1.json\", \"datasets\": {\"data-bd7e627bc489babe5fc3b8e57da3c6bb\": [{\"date\": \"2020-09-24T00:00:00\", \"totalTestResultsIncrease\": 899957.0, \"positiveIncrease\": 41698.0, \"death\": 148823.0, \"deathIncrease\": 908.0, \"positiveRate\": 0.046, \"state\": \"Non Tri-State\", \"sma7d\": 41172.714}, {\"date\": \"2020-09-25T00:00:00\", \"totalTestResultsIncrease\": 977048.0, \"positiveIncrease\": 53431.0, \"death\": 149652.0, \"deathIncrease\": 829.0, \"positiveRate\": 0.055, \"state\": \"Non Tri-State\", \"sma7d\": 42278.0}, {\"date\": \"2020-09-26T00:00:00\", \"totalTestResultsIncrease\": 989374.0, \"positiveIncrease\": 45831.0, \"death\": 150511.0, \"deathIncrease\": 859.0, \"positiveRate\": 0.046, \"state\": \"Non Tri-State\", \"sma7d\": 42618.714}, {\"date\": \"2020-09-27T00:00:00\", \"totalTestResultsIncrease\": 820110.0, \"positiveIncrease\": 33491.0, \"death\": 150806.0, \"deathIncrease\": 295.0, \"positiveRate\": 0.041, \"state\": \"Non Tri-State\", \"sma7d\": 42490.571}, {\"date\": \"2020-09-28T00:00:00\", \"totalTestResultsIncrease\": 1006182.0, \"positiveIncrease\": 34099.0, \"death\": 151051.0, \"deathIncrease\": 245.0, \"positiveRate\": 0.034, \"state\": \"Non Tri-State\", \"sma7d\": 41990.571}, {\"date\": \"2020-09-29T00:00:00\", \"totalTestResultsIncrease\": 814989.0, \"positiveIncrease\": 34459.0, \"death\": 151776.0, \"deathIncrease\": 725.0, \"positiveRate\": 0.042, \"state\": \"Non Tri-State\", \"sma7d\": 40049.857}, {\"date\": \"2020-09-30T00:00:00\", \"totalTestResultsIncrease\": 747749.0, \"positiveIncrease\": 42332.0, \"death\": 152816.0, \"deathIncrease\": 1040.0, \"positiveRate\": 0.057, \"state\": \"Non Tri-State\", \"sma7d\": 40763.0}, {\"date\": \"2020-10-01T00:00:00\", \"totalTestResultsIncrease\": 877953.0, \"positiveIncrease\": 43298.0, \"death\": 153648.0, \"deathIncrease\": 832.0, \"positiveRate\": 0.049, \"state\": \"Non Tri-State\", \"sma7d\": 40991.571}, {\"date\": \"2020-10-02T00:00:00\", \"totalTestResultsIncrease\": 991651.0, \"positiveIncrease\": 46253.0, \"death\": 154470.0, \"deathIncrease\": 822.0, \"positiveRate\": 0.047, \"state\": \"Non Tri-State\", \"sma7d\": 39966.143}, {\"date\": \"2020-10-03T00:00:00\", \"totalTestResultsIncrease\": 964764.0, \"positiveIncrease\": 48323.0, \"death\": 155199.0, \"deathIncrease\": 729.0, \"positiveRate\": 0.05, \"state\": \"Non Tri-State\", \"sma7d\": 40322.143}, {\"date\": \"2020-10-04T00:00:00\", \"totalTestResultsIncrease\": 857600.0, \"positiveIncrease\": 36391.0, \"death\": 155547.0, \"deathIncrease\": 348.0, \"positiveRate\": 0.042, \"state\": \"Non Tri-State\", \"sma7d\": 40736.429}, {\"date\": \"2020-10-05T00:00:00\", \"totalTestResultsIncrease\": 839855.0, \"positiveIncrease\": 35575.0, \"death\": 155859.0, \"deathIncrease\": 312.0, \"positiveRate\": 0.042, \"state\": \"Non Tri-State\", \"sma7d\": 40947.286}, {\"date\": \"2020-10-06T00:00:00\", \"totalTestResultsIncrease\": 792325.0, \"positiveIncrease\": 36421.0, \"death\": 156471.0, \"deathIncrease\": 612.0, \"positiveRate\": 0.046, \"state\": \"Non Tri-State\", \"sma7d\": 41227.571}, {\"date\": \"2020-10-07T00:00:00\", \"totalTestResultsIncrease\": 834511.0, \"positiveIncrease\": 48412.0, \"death\": 157372.0, \"deathIncrease\": 901.0, \"positiveRate\": 0.058, \"state\": \"Non Tri-State\", \"sma7d\": 42096.143}, {\"date\": \"2020-10-08T00:00:00\", \"totalTestResultsIncrease\": 915584.0, \"positiveIncrease\": 51599.0, \"death\": 158335.0, \"deathIncrease\": 963.0, \"positiveRate\": 0.056, \"state\": \"Non Tri-State\", \"sma7d\": 43282.0}, {\"date\": \"2020-10-09T00:00:00\", \"totalTestResultsIncrease\": 1007919.0, \"positiveIncrease\": 53983.0, \"death\": 159215.0, \"deathIncrease\": 880.0, \"positiveRate\": 0.054, \"state\": \"Non Tri-State\", \"sma7d\": 44386.286}, {\"date\": \"2020-10-10T00:00:00\", \"totalTestResultsIncrease\": 1077622.0, \"positiveIncrease\": 54919.0, \"death\": 159865.0, \"deathIncrease\": 650.0, \"positiveRate\": 0.051, \"state\": \"Non Tri-State\", \"sma7d\": 45328.571}, {\"date\": \"2020-10-11T00:00:00\", \"totalTestResultsIncrease\": 964235.0, \"positiveIncrease\": 44799.0, \"death\": 160323.0, \"deathIncrease\": 458.0, \"positiveRate\": 0.046, \"state\": \"Non Tri-State\", \"sma7d\": 46529.714}, {\"date\": \"2020-10-12T00:00:00\", \"totalTestResultsIncrease\": 814961.0, \"positiveIncrease\": 39931.0, \"death\": 160594.0, \"deathIncrease\": 271.0, \"positiveRate\": 0.049, \"state\": \"Non Tri-State\", \"sma7d\": 47152.0}, {\"date\": \"2020-10-13T00:00:00\", \"totalTestResultsIncrease\": 927362.0, \"positiveIncrease\": 45448.0, \"death\": 161265.0, \"deathIncrease\": 671.0, \"positiveRate\": 0.049, \"state\": \"Non Tri-State\", \"sma7d\": 48441.571}, {\"date\": \"2020-10-14T00:00:00\", \"totalTestResultsIncrease\": 856987.0, \"positiveIncrease\": 53913.0, \"death\": 162056.0, \"deathIncrease\": 791.0, \"positiveRate\": 0.063, \"state\": \"Non Tri-State\", \"sma7d\": 49227.429}, {\"date\": \"2020-10-15T00:00:00\", \"totalTestResultsIncrease\": 919733.0, \"positiveIncrease\": 60254.0, \"death\": 162985.0, \"deathIncrease\": 929.0, \"positiveRate\": 0.066, \"state\": \"Non Tri-State\", \"sma7d\": 50463.857}, {\"date\": \"2020-10-16T00:00:00\", \"totalTestResultsIncrease\": 1029930.0, \"positiveIncrease\": 64614.0, \"death\": 163845.0, \"deathIncrease\": 860.0, \"positiveRate\": 0.063, \"state\": \"Non Tri-State\", \"sma7d\": 51982.571}, {\"date\": \"2020-10-17T00:00:00\", \"totalTestResultsIncrease\": 1100907.0, \"positiveIncrease\": 55024.0, \"death\": 164614.0, \"deathIncrease\": 769.0, \"positiveRate\": 0.05, \"state\": \"Non Tri-State\", \"sma7d\": 51997.571}, {\"date\": \"2020-10-18T00:00:00\", \"totalTestResultsIncrease\": 923995.0, \"positiveIncrease\": 45953.0, \"death\": 164993.0, \"deathIncrease\": 379.0, \"positiveRate\": 0.05, \"state\": \"Non Tri-State\", \"sma7d\": 52162.429}, {\"date\": \"2020-10-19T00:00:00\", \"totalTestResultsIncrease\": 898083.0, \"positiveIncrease\": 53521.0, \"death\": 165419.0, \"deathIncrease\": 426.0, \"positiveRate\": 0.06, \"state\": \"Non Tri-State\", \"sma7d\": 54103.857}, {\"date\": \"2020-10-20T00:00:00\", \"totalTestResultsIncrease\": 825893.0, \"positiveIncrease\": 57708.0, \"death\": 166220.0, \"deathIncrease\": 801.0, \"positiveRate\": 0.07, \"state\": \"Non Tri-State\", \"sma7d\": 55855.286}, {\"date\": \"2020-10-21T00:00:00\", \"totalTestResultsIncrease\": 770059.0, \"positiveIncrease\": 57197.0, \"death\": 167211.0, \"deathIncrease\": 991.0, \"positiveRate\": 0.074, \"state\": \"Non Tri-State\", \"sma7d\": 56324.429}, {\"date\": \"2020-10-22T00:00:00\", \"totalTestResultsIncrease\": 1027591.0, \"positiveIncrease\": 69601.0, \"death\": 168319.0, \"deathIncrease\": 1108.0, \"positiveRate\": 0.068, \"state\": \"Non Tri-State\", \"sma7d\": 57659.714}, {\"date\": \"2020-10-23T00:00:00\", \"totalTestResultsIncrease\": 1173212.0, \"positiveIncrease\": 78865.0, \"death\": 169207.0, \"deathIncrease\": 888.0, \"positiveRate\": 0.067, \"state\": \"Non Tri-State\", \"sma7d\": 59695.571}, {\"date\": \"2020-10-24T00:00:00\", \"totalTestResultsIncrease\": 1162485.0, \"positiveIncrease\": 78757.0, \"death\": 170076.0, \"deathIncrease\": 869.0, \"positiveRate\": 0.068, \"state\": \"Non Tri-State\", \"sma7d\": 63086.0}, {\"date\": \"2020-10-25T00:00:00\", \"totalTestResultsIncrease\": 1024631.0, \"positiveIncrease\": 62320.0, \"death\": 170437.0, \"deathIncrease\": 361.0, \"positiveRate\": 0.061, \"state\": \"Non Tri-State\", \"sma7d\": 65424.143}, {\"date\": \"2020-10-26T00:00:00\", \"totalTestResultsIncrease\": 957666.0, \"positiveIncrease\": 57650.0, \"death\": 170795.0, \"deathIncrease\": 358.0, \"positiveRate\": 0.06, \"state\": \"Non Tri-State\", \"sma7d\": 66014.0}, {\"date\": \"2020-10-27T00:00:00\", \"totalTestResultsIncrease\": 926367.0, \"positiveIncrease\": 68824.0, \"death\": 171690.0, \"deathIncrease\": 895.0, \"positiveRate\": 0.074, \"state\": \"Non Tri-State\", \"sma7d\": 67602.0}, {\"date\": \"2020-10-28T00:00:00\", \"totalTestResultsIncrease\": 902826.0, \"positiveIncrease\": 74445.0, \"death\": 172673.0, \"deathIncrease\": 983.0, \"positiveRate\": 0.082, \"state\": \"Non Tri-State\", \"sma7d\": 70066.0}, {\"date\": \"2020-10-29T00:00:00\", \"totalTestResultsIncrease\": 1084853.0, \"positiveIncrease\": 82608.0, \"death\": 173690.0, \"deathIncrease\": 1017.0, \"positiveRate\": 0.076, \"state\": \"Non Tri-State\", \"sma7d\": 71924.143}, {\"date\": \"2020-10-30T00:00:00\", \"totalTestResultsIncrease\": 1182452.0, \"positiveIncrease\": 91708.0, \"death\": 174597.0, \"deathIncrease\": 907.0, \"positiveRate\": 0.078, \"state\": \"Non Tri-State\", \"sma7d\": 73758.857}, {\"date\": \"2020-10-31T00:00:00\", \"totalTestResultsIncrease\": 1155257.0, \"positiveIncrease\": 87087.0, \"death\": 175546.0, \"deathIncrease\": 949.0, \"positiveRate\": 0.075, \"state\": \"Non Tri-State\", \"sma7d\": 74948.857}, {\"date\": \"2020-11-01T00:00:00\", \"totalTestResultsIncrease\": 988889.0, \"positiveIncrease\": 70054.0, \"death\": 175916.0, \"deathIncrease\": 370.0, \"positiveRate\": 0.071, \"state\": \"Non Tri-State\", \"sma7d\": 76053.714}, {\"date\": \"2020-11-02T00:00:00\", \"totalTestResultsIncrease\": 1088506.0, \"positiveIncrease\": 76588.0, \"death\": 176364.0, \"deathIncrease\": 448.0, \"positiveRate\": 0.07, \"state\": \"Non Tri-State\", \"sma7d\": 78759.143}, {\"date\": \"2020-11-03T00:00:00\", \"totalTestResultsIncrease\": 953067.0, \"positiveIncrease\": 81924.0, \"death\": 177860.0, \"deathIncrease\": 1496.0, \"positiveRate\": 0.086, \"state\": \"Non Tri-State\", \"sma7d\": 80630.571}, {\"date\": \"2020-11-04T00:00:00\", \"totalTestResultsIncrease\": 1037250.0, \"positiveIncrease\": 96990.0, \"death\": 178927.0, \"deathIncrease\": 1067.0, \"positiveRate\": 0.094, \"state\": \"Non Tri-State\", \"sma7d\": 83851.286}, {\"date\": \"2020-11-05T00:00:00\", \"totalTestResultsIncrease\": 1295702.0, \"positiveIncrease\": 109506.0, \"death\": 180004.0, \"deathIncrease\": 1077.0, \"positiveRate\": 0.085, \"state\": \"Non Tri-State\", \"sma7d\": 87693.857}, {\"date\": \"2020-11-06T00:00:00\", \"totalTestResultsIncrease\": 1326252.0, \"positiveIncrease\": 118799.0, \"death\": 181144.0, \"deathIncrease\": 1140.0, \"positiveRate\": 0.09, \"state\": \"Non Tri-State\", \"sma7d\": 91564.0}, {\"date\": \"2020-11-07T00:00:00\", \"totalTestResultsIncrease\": 1142373.0, \"positiveIncrease\": 122398.0, \"death\": 182221.0, \"deathIncrease\": 1077.0, \"positiveRate\": 0.107, \"state\": \"Non Tri-State\", \"sma7d\": 96608.429}, {\"date\": \"2020-11-08T00:00:00\", \"totalTestResultsIncrease\": 1111795.0, \"positiveIncrease\": 105388.0, \"death\": 182685.0, \"deathIncrease\": 464.0, \"positiveRate\": 0.095, \"state\": \"Non Tri-State\", \"sma7d\": 101656.143}, {\"date\": \"2020-11-09T00:00:00\", \"totalTestResultsIncrease\": 1245844.0, \"positiveIncrease\": 110158.0, \"death\": 183201.0, \"deathIncrease\": 516.0, \"positiveRate\": 0.088, \"state\": \"Non Tri-State\", \"sma7d\": 106451.857}, {\"date\": \"2020-11-10T00:00:00\", \"totalTestResultsIncrease\": 1082868.0, \"positiveIncrease\": 121729.0, \"death\": 184486.0, \"deathIncrease\": 1285.0, \"positiveRate\": 0.112, \"state\": \"Non Tri-State\", \"sma7d\": 112138.286}, {\"date\": \"2020-11-11T00:00:00\", \"totalTestResultsIncrease\": 1136886.0, \"positiveIncrease\": 134848.0, \"death\": 186006.0, \"deathIncrease\": 1520.0, \"positiveRate\": 0.119, \"state\": \"Non Tri-State\", \"sma7d\": 117546.571}, {\"date\": \"2020-11-12T00:00:00\", \"totalTestResultsIncrease\": 1263718.0, \"positiveIncrease\": 141080.0, \"death\": 187052.0, \"deathIncrease\": 1046.0, \"positiveRate\": 0.112, \"state\": \"Non Tri-State\", \"sma7d\": 122057.143}, {\"date\": \"2020-11-13T00:00:00\", \"totalTestResultsIncrease\": 1392140.0, \"positiveIncrease\": 159832.0, \"death\": 188294.0, \"deathIncrease\": 1242.0, \"positiveRate\": 0.115, \"state\": \"Non Tri-State\", \"sma7d\": 127919.0}, {\"date\": \"2020-11-14T00:00:00\", \"totalTestResultsIncrease\": 1451109.0, \"positiveIncrease\": 155107.0, \"death\": 189568.0, \"deathIncrease\": 1274.0, \"positiveRate\": 0.107, \"state\": \"Non Tri-State\", \"sma7d\": 132591.714}, {\"date\": \"2020-11-15T00:00:00\", \"totalTestResultsIncrease\": 1356833.0, \"positiveIncrease\": 137395.0, \"death\": 190200.0, \"deathIncrease\": 632.0, \"positiveRate\": 0.101, \"state\": \"Non Tri-State\", \"sma7d\": 137164.143}, {\"date\": \"2020-11-16T00:00:00\", \"totalTestResultsIncrease\": 1266029.0, \"positiveIncrease\": 138184.0, \"death\": 190719.0, \"deathIncrease\": 519.0, \"positiveRate\": 0.109, \"state\": \"Non Tri-State\", \"sma7d\": 141167.857}, {\"date\": \"2020-11-17T00:00:00\", \"totalTestResultsIncrease\": 1274869.0, \"positiveIncrease\": 145019.0, \"death\": 192206.0, \"deathIncrease\": 1487.0, \"positiveRate\": 0.114, \"state\": \"Non Tri-State\", \"sma7d\": 144495.0}]}}, {\"mode\": \"vega-lite\"});\n",
       "</script>"
      ],
      "text/plain": [
       "alt.LayerChart(...)"
      ]
     },
     "execution_count": 15,
     "metadata": {},
     "output_type": "execute_result"
    }
   ],
   "source": [
    "create_plot(non_tristate, 'positiveIncrease')"
   ]
  },
  {
   "cell_type": "code",
   "execution_count": 16,
   "metadata": {
    "execution": {
     "iopub.execute_input": "2020-11-18T09:12:34.396846Z",
     "iopub.status.busy": "2020-11-18T09:12:34.383905Z",
     "iopub.status.idle": "2020-11-18T09:12:34.473045Z",
     "shell.execute_reply": "2020-11-18T09:12:34.473430Z"
    },
    "papermill": {
     "duration": 0.11038,
     "end_time": "2020-11-18T09:12:34.473582",
     "exception": false,
     "start_time": "2020-11-18T09:12:34.363202",
     "status": "completed"
    },
    "tags": []
   },
   "outputs": [
    {
     "data": {
      "text/html": [
       "\n",
       "<div id=\"altair-viz-1dfd8cb0cca14752b313fe58e94c1f58\"></div>\n",
       "<script type=\"text/javascript\">\n",
       "  (function(spec, embedOpt){\n",
       "    let outputDiv = document.currentScript.previousElementSibling;\n",
       "    if (outputDiv.id !== \"altair-viz-1dfd8cb0cca14752b313fe58e94c1f58\") {\n",
       "      outputDiv = document.getElementById(\"altair-viz-1dfd8cb0cca14752b313fe58e94c1f58\");\n",
       "    }\n",
       "    const paths = {\n",
       "      \"vega\": \"https://cdn.jsdelivr.net/npm//vega@5?noext\",\n",
       "      \"vega-lib\": \"https://cdn.jsdelivr.net/npm//vega-lib?noext\",\n",
       "      \"vega-lite\": \"https://cdn.jsdelivr.net/npm//vega-lite@4.8.1?noext\",\n",
       "      \"vega-embed\": \"https://cdn.jsdelivr.net/npm//vega-embed@6?noext\",\n",
       "    };\n",
       "\n",
       "    function loadScript(lib) {\n",
       "      return new Promise(function(resolve, reject) {\n",
       "        var s = document.createElement('script');\n",
       "        s.src = paths[lib];\n",
       "        s.async = true;\n",
       "        s.onload = () => resolve(paths[lib]);\n",
       "        s.onerror = () => reject(`Error loading script: ${paths[lib]}`);\n",
       "        document.getElementsByTagName(\"head\")[0].appendChild(s);\n",
       "      });\n",
       "    }\n",
       "\n",
       "    function showError(err) {\n",
       "      outputDiv.innerHTML = `<div class=\"error\" style=\"color:red;\">${err}</div>`;\n",
       "      throw err;\n",
       "    }\n",
       "\n",
       "    function displayChart(vegaEmbed) {\n",
       "      vegaEmbed(outputDiv, spec, embedOpt)\n",
       "        .catch(err => showError(`Javascript Error: ${err.message}<br>This usually means there's a typo in your chart specification. See the javascript console for the full traceback.`));\n",
       "    }\n",
       "\n",
       "    if(typeof define === \"function\" && define.amd) {\n",
       "      requirejs.config({paths});\n",
       "      require([\"vega-embed\"], displayChart, err => showError(`Error loading script: ${err.message}`));\n",
       "    } else if (typeof vegaEmbed === \"function\") {\n",
       "      displayChart(vegaEmbed);\n",
       "    } else {\n",
       "      loadScript(\"vega\")\n",
       "        .then(() => loadScript(\"vega-lite\"))\n",
       "        .then(() => loadScript(\"vega-embed\"))\n",
       "        .catch(showError)\n",
       "        .then(() => displayChart(vegaEmbed));\n",
       "    }\n",
       "  })({\"config\": {\"view\": {\"continuousWidth\": 400, \"continuousHeight\": 300}}, \"layer\": [{\"layer\": [{\"mark\": {\"type\": \"point\", \"size\": 75}, \"encoding\": {\"tooltip\": [{\"type\": \"temporal\", \"field\": \"date\"}, {\"type\": \"quantitative\", \"field\": \"positiveRate\"}, {\"type\": \"quantitative\", \"field\": \"sma7d\"}], \"x\": {\"type\": \"temporal\", \"field\": \"date\"}, \"y\": {\"type\": \"quantitative\", \"field\": \"positiveRate\"}}, \"selection\": {\"selector016\": {\"type\": \"interval\", \"bind\": \"scales\", \"encodings\": [\"x\", \"y\"]}}}, {\"mark\": {\"type\": \"line\", \"color\": \"purple\"}, \"encoding\": {\"x\": {\"type\": \"temporal\", \"field\": \"date\"}, \"y\": {\"type\": \"quantitative\", \"field\": \"sma7d\"}}}]}, {\"mark\": {\"type\": \"rule\", \"color\": \"#aaa\"}, \"encoding\": {\"x\": {\"type\": \"temporal\", \"field\": \"date\"}}, \"transform\": [{\"filter\": {\"selection\": \"selector015\"}}]}, {\"mark\": \"circle\", \"encoding\": {\"opacity\": {\"condition\": {\"value\": 1, \"selection\": \"selector015\"}, \"value\": 0}, \"tooltip\": [{\"type\": \"temporal\", \"field\": \"date\"}, {\"type\": \"quantitative\", \"field\": \"positiveRate\"}, {\"type\": \"quantitative\", \"field\": \"sma7d\"}], \"x\": {\"type\": \"temporal\", \"field\": \"date\"}, \"y\": {\"type\": \"quantitative\", \"field\": \"positiveRate\"}}, \"selection\": {\"selector015\": {\"type\": \"single\", \"encodings\": [\"x\"], \"on\": \"mouseover\", \"nearest\": true, \"empty\": \"none\"}}}, {\"mark\": {\"type\": \"text\", \"align\": \"left\", \"dx\": 5, \"dy\": -5, \"stroke\": \"white\", \"strokeWidth\": 2}, \"encoding\": {\"text\": {\"type\": \"quantitative\", \"field\": \"positiveRate\"}, \"tooltip\": [{\"type\": \"temporal\", \"field\": \"date\"}, {\"type\": \"quantitative\", \"field\": \"positiveRate\"}, {\"type\": \"quantitative\", \"field\": \"sma7d\"}], \"x\": {\"type\": \"temporal\", \"field\": \"date\"}, \"y\": {\"type\": \"quantitative\", \"field\": \"positiveRate\"}}, \"transform\": [{\"filter\": {\"selection\": \"selector015\"}}]}, {\"mark\": {\"type\": \"text\", \"align\": \"left\", \"dx\": 5, \"dy\": -5}, \"encoding\": {\"text\": {\"type\": \"quantitative\", \"field\": \"positiveRate\"}, \"tooltip\": [{\"type\": \"temporal\", \"field\": \"date\"}, {\"type\": \"quantitative\", \"field\": \"positiveRate\"}, {\"type\": \"quantitative\", \"field\": \"sma7d\"}], \"x\": {\"type\": \"temporal\", \"field\": \"date\"}, \"y\": {\"type\": \"quantitative\", \"field\": \"positiveRate\"}}, \"transform\": [{\"filter\": {\"selection\": \"selector015\"}}]}], \"data\": {\"name\": \"data-4fe4c5340f24ae199055a210c351b296\"}, \"height\": 400, \"title\": \"Non Tri-State: positiveRate\", \"width\": 500, \"$schema\": \"https://vega.github.io/schema/vega-lite/v4.8.1.json\", \"datasets\": {\"data-4fe4c5340f24ae199055a210c351b296\": [{\"date\": \"2020-09-24T00:00:00\", \"totalTestResultsIncrease\": 899957.0, \"positiveIncrease\": 41698.0, \"death\": 148823.0, \"deathIncrease\": 908.0, \"positiveRate\": 0.046, \"state\": \"Non Tri-State\", \"sma7d\": 0.049}, {\"date\": \"2020-09-25T00:00:00\", \"totalTestResultsIncrease\": 977048.0, \"positiveIncrease\": 53431.0, \"death\": 149652.0, \"deathIncrease\": 829.0, \"positiveRate\": 0.055, \"state\": \"Non Tri-State\", \"sma7d\": 0.05}, {\"date\": \"2020-09-26T00:00:00\", \"totalTestResultsIncrease\": 989374.0, \"positiveIncrease\": 45831.0, \"death\": 150511.0, \"deathIncrease\": 859.0, \"positiveRate\": 0.046, \"state\": \"Non Tri-State\", \"sma7d\": 0.051}, {\"date\": \"2020-09-27T00:00:00\", \"totalTestResultsIncrease\": 820110.0, \"positiveIncrease\": 33491.0, \"death\": 150806.0, \"deathIncrease\": 295.0, \"positiveRate\": 0.041, \"state\": \"Non Tri-State\", \"sma7d\": 0.05}, {\"date\": \"2020-09-28T00:00:00\", \"totalTestResultsIncrease\": 1006182.0, \"positiveIncrease\": 34099.0, \"death\": 151051.0, \"deathIncrease\": 245.0, \"positiveRate\": 0.034, \"state\": \"Non Tri-State\", \"sma7d\": 0.047}, {\"date\": \"2020-09-29T00:00:00\", \"totalTestResultsIncrease\": 814989.0, \"positiveIncrease\": 34459.0, \"death\": 151776.0, \"deathIncrease\": 725.0, \"positiveRate\": 0.042, \"state\": \"Non Tri-State\", \"sma7d\": 0.044}, {\"date\": \"2020-09-30T00:00:00\", \"totalTestResultsIncrease\": 747749.0, \"positiveIncrease\": 42332.0, \"death\": 152816.0, \"deathIncrease\": 1040.0, \"positiveRate\": 0.057, \"state\": \"Non Tri-State\", \"sma7d\": 0.046}, {\"date\": \"2020-10-01T00:00:00\", \"totalTestResultsIncrease\": 877953.0, \"positiveIncrease\": 43298.0, \"death\": 153648.0, \"deathIncrease\": 832.0, \"positiveRate\": 0.049, \"state\": \"Non Tri-State\", \"sma7d\": 0.046}, {\"date\": \"2020-10-02T00:00:00\", \"totalTestResultsIncrease\": 991651.0, \"positiveIncrease\": 46253.0, \"death\": 154470.0, \"deathIncrease\": 822.0, \"positiveRate\": 0.047, \"state\": \"Non Tri-State\", \"sma7d\": 0.045}, {\"date\": \"2020-10-03T00:00:00\", \"totalTestResultsIncrease\": 964764.0, \"positiveIncrease\": 48323.0, \"death\": 155199.0, \"deathIncrease\": 729.0, \"positiveRate\": 0.05, \"state\": \"Non Tri-State\", \"sma7d\": 0.046}, {\"date\": \"2020-10-04T00:00:00\", \"totalTestResultsIncrease\": 857600.0, \"positiveIncrease\": 36391.0, \"death\": 155547.0, \"deathIncrease\": 348.0, \"positiveRate\": 0.042, \"state\": \"Non Tri-State\", \"sma7d\": 0.046}, {\"date\": \"2020-10-05T00:00:00\", \"totalTestResultsIncrease\": 839855.0, \"positiveIncrease\": 35575.0, \"death\": 155859.0, \"deathIncrease\": 312.0, \"positiveRate\": 0.042, \"state\": \"Non Tri-State\", \"sma7d\": 0.047}, {\"date\": \"2020-10-06T00:00:00\", \"totalTestResultsIncrease\": 792325.0, \"positiveIncrease\": 36421.0, \"death\": 156471.0, \"deathIncrease\": 612.0, \"positiveRate\": 0.046, \"state\": \"Non Tri-State\", \"sma7d\": 0.048}, {\"date\": \"2020-10-07T00:00:00\", \"totalTestResultsIncrease\": 834511.0, \"positiveIncrease\": 48412.0, \"death\": 157372.0, \"deathIncrease\": 901.0, \"positiveRate\": 0.058, \"state\": \"Non Tri-State\", \"sma7d\": 0.048}, {\"date\": \"2020-10-08T00:00:00\", \"totalTestResultsIncrease\": 915584.0, \"positiveIncrease\": 51599.0, \"death\": 158335.0, \"deathIncrease\": 963.0, \"positiveRate\": 0.056, \"state\": \"Non Tri-State\", \"sma7d\": 0.049}, {\"date\": \"2020-10-09T00:00:00\", \"totalTestResultsIncrease\": 1007919.0, \"positiveIncrease\": 53983.0, \"death\": 159215.0, \"deathIncrease\": 880.0, \"positiveRate\": 0.054, \"state\": \"Non Tri-State\", \"sma7d\": 0.05}, {\"date\": \"2020-10-10T00:00:00\", \"totalTestResultsIncrease\": 1077622.0, \"positiveIncrease\": 54919.0, \"death\": 159865.0, \"deathIncrease\": 650.0, \"positiveRate\": 0.051, \"state\": \"Non Tri-State\", \"sma7d\": 0.05}, {\"date\": \"2020-10-11T00:00:00\", \"totalTestResultsIncrease\": 964235.0, \"positiveIncrease\": 44799.0, \"death\": 160323.0, \"deathIncrease\": 458.0, \"positiveRate\": 0.046, \"state\": \"Non Tri-State\", \"sma7d\": 0.05}, {\"date\": \"2020-10-12T00:00:00\", \"totalTestResultsIncrease\": 814961.0, \"positiveIncrease\": 39931.0, \"death\": 160594.0, \"deathIncrease\": 271.0, \"positiveRate\": 0.049, \"state\": \"Non Tri-State\", \"sma7d\": 0.051}, {\"date\": \"2020-10-13T00:00:00\", \"totalTestResultsIncrease\": 927362.0, \"positiveIncrease\": 45448.0, \"death\": 161265.0, \"deathIncrease\": 671.0, \"positiveRate\": 0.049, \"state\": \"Non Tri-State\", \"sma7d\": 0.052}, {\"date\": \"2020-10-14T00:00:00\", \"totalTestResultsIncrease\": 856987.0, \"positiveIncrease\": 53913.0, \"death\": 162056.0, \"deathIncrease\": 791.0, \"positiveRate\": 0.063, \"state\": \"Non Tri-State\", \"sma7d\": 0.053}, {\"date\": \"2020-10-15T00:00:00\", \"totalTestResultsIncrease\": 919733.0, \"positiveIncrease\": 60254.0, \"death\": 162985.0, \"deathIncrease\": 929.0, \"positiveRate\": 0.066, \"state\": \"Non Tri-State\", \"sma7d\": 0.054}, {\"date\": \"2020-10-16T00:00:00\", \"totalTestResultsIncrease\": 1029930.0, \"positiveIncrease\": 64614.0, \"death\": 163845.0, \"deathIncrease\": 860.0, \"positiveRate\": 0.063, \"state\": \"Non Tri-State\", \"sma7d\": 0.055}, {\"date\": \"2020-10-17T00:00:00\", \"totalTestResultsIncrease\": 1100907.0, \"positiveIncrease\": 55024.0, \"death\": 164614.0, \"deathIncrease\": 769.0, \"positiveRate\": 0.05, \"state\": \"Non Tri-State\", \"sma7d\": 0.055}, {\"date\": \"2020-10-18T00:00:00\", \"totalTestResultsIncrease\": 923995.0, \"positiveIncrease\": 45953.0, \"death\": 164993.0, \"deathIncrease\": 379.0, \"positiveRate\": 0.05, \"state\": \"Non Tri-State\", \"sma7d\": 0.056}, {\"date\": \"2020-10-19T00:00:00\", \"totalTestResultsIncrease\": 898083.0, \"positiveIncrease\": 53521.0, \"death\": 165419.0, \"deathIncrease\": 426.0, \"positiveRate\": 0.06, \"state\": \"Non Tri-State\", \"sma7d\": 0.057}, {\"date\": \"2020-10-20T00:00:00\", \"totalTestResultsIncrease\": 825893.0, \"positiveIncrease\": 57708.0, \"death\": 166220.0, \"deathIncrease\": 801.0, \"positiveRate\": 0.07, \"state\": \"Non Tri-State\", \"sma7d\": 0.06}, {\"date\": \"2020-10-21T00:00:00\", \"totalTestResultsIncrease\": 770059.0, \"positiveIncrease\": 57197.0, \"death\": 167211.0, \"deathIncrease\": 991.0, \"positiveRate\": 0.074, \"state\": \"Non Tri-State\", \"sma7d\": 0.062}, {\"date\": \"2020-10-22T00:00:00\", \"totalTestResultsIncrease\": 1027591.0, \"positiveIncrease\": 69601.0, \"death\": 168319.0, \"deathIncrease\": 1108.0, \"positiveRate\": 0.068, \"state\": \"Non Tri-State\", \"sma7d\": 0.062}, {\"date\": \"2020-10-23T00:00:00\", \"totalTestResultsIncrease\": 1173212.0, \"positiveIncrease\": 78865.0, \"death\": 169207.0, \"deathIncrease\": 888.0, \"positiveRate\": 0.067, \"state\": \"Non Tri-State\", \"sma7d\": 0.063}, {\"date\": \"2020-10-24T00:00:00\", \"totalTestResultsIncrease\": 1162485.0, \"positiveIncrease\": 78757.0, \"death\": 170076.0, \"deathIncrease\": 869.0, \"positiveRate\": 0.068, \"state\": \"Non Tri-State\", \"sma7d\": 0.065}, {\"date\": \"2020-10-25T00:00:00\", \"totalTestResultsIncrease\": 1024631.0, \"positiveIncrease\": 62320.0, \"death\": 170437.0, \"deathIncrease\": 361.0, \"positiveRate\": 0.061, \"state\": \"Non Tri-State\", \"sma7d\": 0.067}, {\"date\": \"2020-10-26T00:00:00\", \"totalTestResultsIncrease\": 957666.0, \"positiveIncrease\": 57650.0, \"death\": 170795.0, \"deathIncrease\": 358.0, \"positiveRate\": 0.06, \"state\": \"Non Tri-State\", \"sma7d\": 0.067}, {\"date\": \"2020-10-27T00:00:00\", \"totalTestResultsIncrease\": 926367.0, \"positiveIncrease\": 68824.0, \"death\": 171690.0, \"deathIncrease\": 895.0, \"positiveRate\": 0.074, \"state\": \"Non Tri-State\", \"sma7d\": 0.067}, {\"date\": \"2020-10-28T00:00:00\", \"totalTestResultsIncrease\": 902826.0, \"positiveIncrease\": 74445.0, \"death\": 172673.0, \"deathIncrease\": 983.0, \"positiveRate\": 0.082, \"state\": \"Non Tri-State\", \"sma7d\": 0.069}, {\"date\": \"2020-10-29T00:00:00\", \"totalTestResultsIncrease\": 1084853.0, \"positiveIncrease\": 82608.0, \"death\": 173690.0, \"deathIncrease\": 1017.0, \"positiveRate\": 0.076, \"state\": \"Non Tri-State\", \"sma7d\": 0.07}, {\"date\": \"2020-10-30T00:00:00\", \"totalTestResultsIncrease\": 1182452.0, \"positiveIncrease\": 91708.0, \"death\": 174597.0, \"deathIncrease\": 907.0, \"positiveRate\": 0.078, \"state\": \"Non Tri-State\", \"sma7d\": 0.071}, {\"date\": \"2020-10-31T00:00:00\", \"totalTestResultsIncrease\": 1155257.0, \"positiveIncrease\": 87087.0, \"death\": 175546.0, \"deathIncrease\": 949.0, \"positiveRate\": 0.075, \"state\": \"Non Tri-State\", \"sma7d\": 0.072}, {\"date\": \"2020-11-01T00:00:00\", \"totalTestResultsIncrease\": 988889.0, \"positiveIncrease\": 70054.0, \"death\": 175916.0, \"deathIncrease\": 370.0, \"positiveRate\": 0.071, \"state\": \"Non Tri-State\", \"sma7d\": 0.074}, {\"date\": \"2020-11-02T00:00:00\", \"totalTestResultsIncrease\": 1088506.0, \"positiveIncrease\": 76588.0, \"death\": 176364.0, \"deathIncrease\": 448.0, \"positiveRate\": 0.07, \"state\": \"Non Tri-State\", \"sma7d\": 0.075}, {\"date\": \"2020-11-03T00:00:00\", \"totalTestResultsIncrease\": 953067.0, \"positiveIncrease\": 81924.0, \"death\": 177860.0, \"deathIncrease\": 1496.0, \"positiveRate\": 0.086, \"state\": \"Non Tri-State\", \"sma7d\": 0.077}, {\"date\": \"2020-11-04T00:00:00\", \"totalTestResultsIncrease\": 1037250.0, \"positiveIncrease\": 96990.0, \"death\": 178927.0, \"deathIncrease\": 1067.0, \"positiveRate\": 0.094, \"state\": \"Non Tri-State\", \"sma7d\": 0.079}, {\"date\": \"2020-11-05T00:00:00\", \"totalTestResultsIncrease\": 1295702.0, \"positiveIncrease\": 109506.0, \"death\": 180004.0, \"deathIncrease\": 1077.0, \"positiveRate\": 0.085, \"state\": \"Non Tri-State\", \"sma7d\": 0.08}, {\"date\": \"2020-11-06T00:00:00\", \"totalTestResultsIncrease\": 1326252.0, \"positiveIncrease\": 118799.0, \"death\": 181144.0, \"deathIncrease\": 1140.0, \"positiveRate\": 0.09, \"state\": \"Non Tri-State\", \"sma7d\": 0.082}, {\"date\": \"2020-11-07T00:00:00\", \"totalTestResultsIncrease\": 1142373.0, \"positiveIncrease\": 122398.0, \"death\": 182221.0, \"deathIncrease\": 1077.0, \"positiveRate\": 0.107, \"state\": \"Non Tri-State\", \"sma7d\": 0.086}, {\"date\": \"2020-11-08T00:00:00\", \"totalTestResultsIncrease\": 1111795.0, \"positiveIncrease\": 105388.0, \"death\": 182685.0, \"deathIncrease\": 464.0, \"positiveRate\": 0.095, \"state\": \"Non Tri-State\", \"sma7d\": 0.09}, {\"date\": \"2020-11-09T00:00:00\", \"totalTestResultsIncrease\": 1245844.0, \"positiveIncrease\": 110158.0, \"death\": 183201.0, \"deathIncrease\": 516.0, \"positiveRate\": 0.088, \"state\": \"Non Tri-State\", \"sma7d\": 0.092}, {\"date\": \"2020-11-10T00:00:00\", \"totalTestResultsIncrease\": 1082868.0, \"positiveIncrease\": 121729.0, \"death\": 184486.0, \"deathIncrease\": 1285.0, \"positiveRate\": 0.112, \"state\": \"Non Tri-State\", \"sma7d\": 0.096}, {\"date\": \"2020-11-11T00:00:00\", \"totalTestResultsIncrease\": 1136886.0, \"positiveIncrease\": 134848.0, \"death\": 186006.0, \"deathIncrease\": 1520.0, \"positiveRate\": 0.119, \"state\": \"Non Tri-State\", \"sma7d\": 0.099}, {\"date\": \"2020-11-12T00:00:00\", \"totalTestResultsIncrease\": 1263718.0, \"positiveIncrease\": 141080.0, \"death\": 187052.0, \"deathIncrease\": 1046.0, \"positiveRate\": 0.112, \"state\": \"Non Tri-State\", \"sma7d\": 0.103}, {\"date\": \"2020-11-13T00:00:00\", \"totalTestResultsIncrease\": 1392140.0, \"positiveIncrease\": 159832.0, \"death\": 188294.0, \"deathIncrease\": 1242.0, \"positiveRate\": 0.115, \"state\": \"Non Tri-State\", \"sma7d\": 0.107}, {\"date\": \"2020-11-14T00:00:00\", \"totalTestResultsIncrease\": 1451109.0, \"positiveIncrease\": 155107.0, \"death\": 189568.0, \"deathIncrease\": 1274.0, \"positiveRate\": 0.107, \"state\": \"Non Tri-State\", \"sma7d\": 0.107}, {\"date\": \"2020-11-15T00:00:00\", \"totalTestResultsIncrease\": 1356833.0, \"positiveIncrease\": 137395.0, \"death\": 190200.0, \"deathIncrease\": 632.0, \"positiveRate\": 0.101, \"state\": \"Non Tri-State\", \"sma7d\": 0.108}, {\"date\": \"2020-11-16T00:00:00\", \"totalTestResultsIncrease\": 1266029.0, \"positiveIncrease\": 138184.0, \"death\": 190719.0, \"deathIncrease\": 519.0, \"positiveRate\": 0.109, \"state\": \"Non Tri-State\", \"sma7d\": 0.111}, {\"date\": \"2020-11-17T00:00:00\", \"totalTestResultsIncrease\": 1274869.0, \"positiveIncrease\": 145019.0, \"death\": 192206.0, \"deathIncrease\": 1487.0, \"positiveRate\": 0.114, \"state\": \"Non Tri-State\", \"sma7d\": 0.111}]}}, {\"mode\": \"vega-lite\"});\n",
       "</script>"
      ],
      "text/plain": [
       "alt.LayerChart(...)"
      ]
     },
     "execution_count": 16,
     "metadata": {},
     "output_type": "execute_result"
    }
   ],
   "source": [
    "create_plot(non_tristate, 'positiveRate')"
   ]
  },
  {
   "cell_type": "code",
   "execution_count": 17,
   "metadata": {
    "execution": {
     "iopub.execute_input": "2020-11-18T09:12:34.532683Z",
     "iopub.status.busy": "2020-11-18T09:12:34.527528Z",
     "iopub.status.idle": "2020-11-18T09:12:34.605228Z",
     "shell.execute_reply": "2020-11-18T09:12:34.605640Z"
    },
    "papermill": {
     "duration": 0.114847,
     "end_time": "2020-11-18T09:12:34.605798",
     "exception": false,
     "start_time": "2020-11-18T09:12:34.490951",
     "status": "completed"
    },
    "tags": []
   },
   "outputs": [
    {
     "data": {
      "text/html": [
       "\n",
       "<div id=\"altair-viz-85f68cd97dc44d36ba5d84fed53b09b1\"></div>\n",
       "<script type=\"text/javascript\">\n",
       "  (function(spec, embedOpt){\n",
       "    let outputDiv = document.currentScript.previousElementSibling;\n",
       "    if (outputDiv.id !== \"altair-viz-85f68cd97dc44d36ba5d84fed53b09b1\") {\n",
       "      outputDiv = document.getElementById(\"altair-viz-85f68cd97dc44d36ba5d84fed53b09b1\");\n",
       "    }\n",
       "    const paths = {\n",
       "      \"vega\": \"https://cdn.jsdelivr.net/npm//vega@5?noext\",\n",
       "      \"vega-lib\": \"https://cdn.jsdelivr.net/npm//vega-lib?noext\",\n",
       "      \"vega-lite\": \"https://cdn.jsdelivr.net/npm//vega-lite@4.8.1?noext\",\n",
       "      \"vega-embed\": \"https://cdn.jsdelivr.net/npm//vega-embed@6?noext\",\n",
       "    };\n",
       "\n",
       "    function loadScript(lib) {\n",
       "      return new Promise(function(resolve, reject) {\n",
       "        var s = document.createElement('script');\n",
       "        s.src = paths[lib];\n",
       "        s.async = true;\n",
       "        s.onload = () => resolve(paths[lib]);\n",
       "        s.onerror = () => reject(`Error loading script: ${paths[lib]}`);\n",
       "        document.getElementsByTagName(\"head\")[0].appendChild(s);\n",
       "      });\n",
       "    }\n",
       "\n",
       "    function showError(err) {\n",
       "      outputDiv.innerHTML = `<div class=\"error\" style=\"color:red;\">${err}</div>`;\n",
       "      throw err;\n",
       "    }\n",
       "\n",
       "    function displayChart(vegaEmbed) {\n",
       "      vegaEmbed(outputDiv, spec, embedOpt)\n",
       "        .catch(err => showError(`Javascript Error: ${err.message}<br>This usually means there's a typo in your chart specification. See the javascript console for the full traceback.`));\n",
       "    }\n",
       "\n",
       "    if(typeof define === \"function\" && define.amd) {\n",
       "      requirejs.config({paths});\n",
       "      require([\"vega-embed\"], displayChart, err => showError(`Error loading script: ${err.message}`));\n",
       "    } else if (typeof vegaEmbed === \"function\") {\n",
       "      displayChart(vegaEmbed);\n",
       "    } else {\n",
       "      loadScript(\"vega\")\n",
       "        .then(() => loadScript(\"vega-lite\"))\n",
       "        .then(() => loadScript(\"vega-embed\"))\n",
       "        .catch(showError)\n",
       "        .then(() => displayChart(vegaEmbed));\n",
       "    }\n",
       "  })({\"config\": {\"view\": {\"continuousWidth\": 400, \"continuousHeight\": 300}}, \"layer\": [{\"layer\": [{\"mark\": {\"type\": \"point\", \"size\": 75}, \"encoding\": {\"tooltip\": [{\"type\": \"temporal\", \"field\": \"date\"}, {\"type\": \"quantitative\", \"field\": \"deathIncrease\"}, {\"type\": \"quantitative\", \"field\": \"sma7d\"}], \"x\": {\"type\": \"temporal\", \"field\": \"date\"}, \"y\": {\"type\": \"quantitative\", \"field\": \"deathIncrease\"}}, \"selection\": {\"selector018\": {\"type\": \"interval\", \"bind\": \"scales\", \"encodings\": [\"x\", \"y\"]}}}, {\"mark\": {\"type\": \"line\", \"color\": \"purple\"}, \"encoding\": {\"x\": {\"type\": \"temporal\", \"field\": \"date\"}, \"y\": {\"type\": \"quantitative\", \"field\": \"sma7d\"}}}]}, {\"mark\": {\"type\": \"rule\", \"color\": \"#aaa\"}, \"encoding\": {\"x\": {\"type\": \"temporal\", \"field\": \"date\"}}, \"transform\": [{\"filter\": {\"selection\": \"selector017\"}}]}, {\"mark\": \"circle\", \"encoding\": {\"opacity\": {\"condition\": {\"value\": 1, \"selection\": \"selector017\"}, \"value\": 0}, \"tooltip\": [{\"type\": \"temporal\", \"field\": \"date\"}, {\"type\": \"quantitative\", \"field\": \"deathIncrease\"}, {\"type\": \"quantitative\", \"field\": \"sma7d\"}], \"x\": {\"type\": \"temporal\", \"field\": \"date\"}, \"y\": {\"type\": \"quantitative\", \"field\": \"deathIncrease\"}}, \"selection\": {\"selector017\": {\"type\": \"single\", \"encodings\": [\"x\"], \"on\": \"mouseover\", \"nearest\": true, \"empty\": \"none\"}}}, {\"mark\": {\"type\": \"text\", \"align\": \"left\", \"dx\": 5, \"dy\": -5, \"stroke\": \"white\", \"strokeWidth\": 2}, \"encoding\": {\"text\": {\"type\": \"quantitative\", \"field\": \"deathIncrease\"}, \"tooltip\": [{\"type\": \"temporal\", \"field\": \"date\"}, {\"type\": \"quantitative\", \"field\": \"deathIncrease\"}, {\"type\": \"quantitative\", \"field\": \"sma7d\"}], \"x\": {\"type\": \"temporal\", \"field\": \"date\"}, \"y\": {\"type\": \"quantitative\", \"field\": \"deathIncrease\"}}, \"transform\": [{\"filter\": {\"selection\": \"selector017\"}}]}, {\"mark\": {\"type\": \"text\", \"align\": \"left\", \"dx\": 5, \"dy\": -5}, \"encoding\": {\"text\": {\"type\": \"quantitative\", \"field\": \"deathIncrease\"}, \"tooltip\": [{\"type\": \"temporal\", \"field\": \"date\"}, {\"type\": \"quantitative\", \"field\": \"deathIncrease\"}, {\"type\": \"quantitative\", \"field\": \"sma7d\"}], \"x\": {\"type\": \"temporal\", \"field\": \"date\"}, \"y\": {\"type\": \"quantitative\", \"field\": \"deathIncrease\"}}, \"transform\": [{\"filter\": {\"selection\": \"selector017\"}}]}], \"data\": {\"name\": \"data-5615f8ef0e1042ec23035c127e4d199d\"}, \"height\": 400, \"title\": \"Non Tri-State: deathIncrease\", \"width\": 500, \"$schema\": \"https://vega.github.io/schema/vega-lite/v4.8.1.json\", \"datasets\": {\"data-5615f8ef0e1042ec23035c127e4d199d\": [{\"date\": \"2020-09-24T00:00:00\", \"totalTestResultsIncrease\": 899957.0, \"positiveIncrease\": 41698.0, \"death\": 148823.0, \"deathIncrease\": 908.0, \"positiveRate\": 0.046, \"state\": \"Non Tri-State\", \"sma7d\": 730.857}, {\"date\": \"2020-09-25T00:00:00\", \"totalTestResultsIncrease\": 977048.0, \"positiveIncrease\": 53431.0, \"death\": 149652.0, \"deathIncrease\": 829.0, \"positiveRate\": 0.055, \"state\": \"Non Tri-State\", \"sma7d\": 723.143}, {\"date\": \"2020-09-26T00:00:00\", \"totalTestResultsIncrease\": 989374.0, \"positiveIncrease\": 45831.0, \"death\": 150511.0, \"deathIncrease\": 859.0, \"positiveRate\": 0.046, \"state\": \"Non Tri-State\", \"sma7d\": 740.857}, {\"date\": \"2020-09-27T00:00:00\", \"totalTestResultsIncrease\": 820110.0, \"positiveIncrease\": 33491.0, \"death\": 150806.0, \"deathIncrease\": 295.0, \"positiveRate\": 0.041, \"state\": \"Non Tri-State\", \"sma7d\": 737.0}, {\"date\": \"2020-09-28T00:00:00\", \"totalTestResultsIncrease\": 1006182.0, \"positiveIncrease\": 34099.0, \"death\": 151051.0, \"deathIncrease\": 245.0, \"positiveRate\": 0.034, \"state\": \"Non Tri-State\", \"sma7d\": 731.857}, {\"date\": \"2020-09-29T00:00:00\", \"totalTestResultsIncrease\": 814989.0, \"positiveIncrease\": 34459.0, \"death\": 151776.0, \"deathIncrease\": 725.0, \"positiveRate\": 0.042, \"state\": \"Non Tri-State\", \"sma7d\": 715.143}, {\"date\": \"2020-09-30T00:00:00\", \"totalTestResultsIncrease\": 747749.0, \"positiveIncrease\": 42332.0, \"death\": 152816.0, \"deathIncrease\": 1040.0, \"positiveRate\": 0.057, \"state\": \"Non Tri-State\", \"sma7d\": 700.143}, {\"date\": \"2020-10-01T00:00:00\", \"totalTestResultsIncrease\": 877953.0, \"positiveIncrease\": 43298.0, \"death\": 153648.0, \"deathIncrease\": 832.0, \"positiveRate\": 0.049, \"state\": \"Non Tri-State\", \"sma7d\": 689.286}, {\"date\": \"2020-10-02T00:00:00\", \"totalTestResultsIncrease\": 991651.0, \"positiveIncrease\": 46253.0, \"death\": 154470.0, \"deathIncrease\": 822.0, \"positiveRate\": 0.047, \"state\": \"Non Tri-State\", \"sma7d\": 688.286}, {\"date\": \"2020-10-03T00:00:00\", \"totalTestResultsIncrease\": 964764.0, \"positiveIncrease\": 48323.0, \"death\": 155199.0, \"deathIncrease\": 729.0, \"positiveRate\": 0.05, \"state\": \"Non Tri-State\", \"sma7d\": 669.714}, {\"date\": \"2020-10-04T00:00:00\", \"totalTestResultsIncrease\": 857600.0, \"positiveIncrease\": 36391.0, \"death\": 155547.0, \"deathIncrease\": 348.0, \"positiveRate\": 0.042, \"state\": \"Non Tri-State\", \"sma7d\": 677.286}, {\"date\": \"2020-10-05T00:00:00\", \"totalTestResultsIncrease\": 839855.0, \"positiveIncrease\": 35575.0, \"death\": 155859.0, \"deathIncrease\": 312.0, \"positiveRate\": 0.042, \"state\": \"Non Tri-State\", \"sma7d\": 686.857}, {\"date\": \"2020-10-06T00:00:00\", \"totalTestResultsIncrease\": 792325.0, \"positiveIncrease\": 36421.0, \"death\": 156471.0, \"deathIncrease\": 612.0, \"positiveRate\": 0.046, \"state\": \"Non Tri-State\", \"sma7d\": 670.714}, {\"date\": \"2020-10-07T00:00:00\", \"totalTestResultsIncrease\": 834511.0, \"positiveIncrease\": 48412.0, \"death\": 157372.0, \"deathIncrease\": 901.0, \"positiveRate\": 0.058, \"state\": \"Non Tri-State\", \"sma7d\": 650.857}, {\"date\": \"2020-10-08T00:00:00\", \"totalTestResultsIncrease\": 915584.0, \"positiveIncrease\": 51599.0, \"death\": 158335.0, \"deathIncrease\": 963.0, \"positiveRate\": 0.056, \"state\": \"Non Tri-State\", \"sma7d\": 669.571}, {\"date\": \"2020-10-09T00:00:00\", \"totalTestResultsIncrease\": 1007919.0, \"positiveIncrease\": 53983.0, \"death\": 159215.0, \"deathIncrease\": 880.0, \"positiveRate\": 0.054, \"state\": \"Non Tri-State\", \"sma7d\": 677.857}, {\"date\": \"2020-10-10T00:00:00\", \"totalTestResultsIncrease\": 1077622.0, \"positiveIncrease\": 54919.0, \"death\": 159865.0, \"deathIncrease\": 650.0, \"positiveRate\": 0.051, \"state\": \"Non Tri-State\", \"sma7d\": 666.571}, {\"date\": \"2020-10-11T00:00:00\", \"totalTestResultsIncrease\": 964235.0, \"positiveIncrease\": 44799.0, \"death\": 160323.0, \"deathIncrease\": 458.0, \"positiveRate\": 0.046, \"state\": \"Non Tri-State\", \"sma7d\": 682.286}, {\"date\": \"2020-10-12T00:00:00\", \"totalTestResultsIncrease\": 814961.0, \"positiveIncrease\": 39931.0, \"death\": 160594.0, \"deathIncrease\": 271.0, \"positiveRate\": 0.049, \"state\": \"Non Tri-State\", \"sma7d\": 676.429}, {\"date\": \"2020-10-13T00:00:00\", \"totalTestResultsIncrease\": 927362.0, \"positiveIncrease\": 45448.0, \"death\": 161265.0, \"deathIncrease\": 671.0, \"positiveRate\": 0.049, \"state\": \"Non Tri-State\", \"sma7d\": 684.857}, {\"date\": \"2020-10-14T00:00:00\", \"totalTestResultsIncrease\": 856987.0, \"positiveIncrease\": 53913.0, \"death\": 162056.0, \"deathIncrease\": 791.0, \"positiveRate\": 0.063, \"state\": \"Non Tri-State\", \"sma7d\": 669.143}, {\"date\": \"2020-10-15T00:00:00\", \"totalTestResultsIncrease\": 919733.0, \"positiveIncrease\": 60254.0, \"death\": 162985.0, \"deathIncrease\": 929.0, \"positiveRate\": 0.066, \"state\": \"Non Tri-State\", \"sma7d\": 664.286}, {\"date\": \"2020-10-16T00:00:00\", \"totalTestResultsIncrease\": 1029930.0, \"positiveIncrease\": 64614.0, \"death\": 163845.0, \"deathIncrease\": 860.0, \"positiveRate\": 0.063, \"state\": \"Non Tri-State\", \"sma7d\": 661.429}, {\"date\": \"2020-10-17T00:00:00\", \"totalTestResultsIncrease\": 1100907.0, \"positiveIncrease\": 55024.0, \"death\": 164614.0, \"deathIncrease\": 769.0, \"positiveRate\": 0.05, \"state\": \"Non Tri-State\", \"sma7d\": 678.429}, {\"date\": \"2020-10-18T00:00:00\", \"totalTestResultsIncrease\": 923995.0, \"positiveIncrease\": 45953.0, \"death\": 164993.0, \"deathIncrease\": 379.0, \"positiveRate\": 0.05, \"state\": \"Non Tri-State\", \"sma7d\": 667.143}, {\"date\": \"2020-10-19T00:00:00\", \"totalTestResultsIncrease\": 898083.0, \"positiveIncrease\": 53521.0, \"death\": 165419.0, \"deathIncrease\": 426.0, \"positiveRate\": 0.06, \"state\": \"Non Tri-State\", \"sma7d\": 689.286}, {\"date\": \"2020-10-20T00:00:00\", \"totalTestResultsIncrease\": 825893.0, \"positiveIncrease\": 57708.0, \"death\": 166220.0, \"deathIncrease\": 801.0, \"positiveRate\": 0.07, \"state\": \"Non Tri-State\", \"sma7d\": 707.857}, {\"date\": \"2020-10-21T00:00:00\", \"totalTestResultsIncrease\": 770059.0, \"positiveIncrease\": 57197.0, \"death\": 167211.0, \"deathIncrease\": 991.0, \"positiveRate\": 0.074, \"state\": \"Non Tri-State\", \"sma7d\": 736.429}, {\"date\": \"2020-10-22T00:00:00\", \"totalTestResultsIncrease\": 1027591.0, \"positiveIncrease\": 69601.0, \"death\": 168319.0, \"deathIncrease\": 1108.0, \"positiveRate\": 0.068, \"state\": \"Non Tri-State\", \"sma7d\": 762.0}, {\"date\": \"2020-10-23T00:00:00\", \"totalTestResultsIncrease\": 1173212.0, \"positiveIncrease\": 78865.0, \"death\": 169207.0, \"deathIncrease\": 888.0, \"positiveRate\": 0.067, \"state\": \"Non Tri-State\", \"sma7d\": 766.0}, {\"date\": \"2020-10-24T00:00:00\", \"totalTestResultsIncrease\": 1162485.0, \"positiveIncrease\": 78757.0, \"death\": 170076.0, \"deathIncrease\": 869.0, \"positiveRate\": 0.068, \"state\": \"Non Tri-State\", \"sma7d\": 780.286}, {\"date\": \"2020-10-25T00:00:00\", \"totalTestResultsIncrease\": 1024631.0, \"positiveIncrease\": 62320.0, \"death\": 170437.0, \"deathIncrease\": 361.0, \"positiveRate\": 0.061, \"state\": \"Non Tri-State\", \"sma7d\": 777.714}, {\"date\": \"2020-10-26T00:00:00\", \"totalTestResultsIncrease\": 957666.0, \"positiveIncrease\": 57650.0, \"death\": 170795.0, \"deathIncrease\": 358.0, \"positiveRate\": 0.06, \"state\": \"Non Tri-State\", \"sma7d\": 768.0}, {\"date\": \"2020-10-27T00:00:00\", \"totalTestResultsIncrease\": 926367.0, \"positiveIncrease\": 68824.0, \"death\": 171690.0, \"deathIncrease\": 895.0, \"positiveRate\": 0.074, \"state\": \"Non Tri-State\", \"sma7d\": 781.429}, {\"date\": \"2020-10-28T00:00:00\", \"totalTestResultsIncrease\": 902826.0, \"positiveIncrease\": 74445.0, \"death\": 172673.0, \"deathIncrease\": 983.0, \"positiveRate\": 0.082, \"state\": \"Non Tri-State\", \"sma7d\": 780.286}, {\"date\": \"2020-10-29T00:00:00\", \"totalTestResultsIncrease\": 1084853.0, \"positiveIncrease\": 82608.0, \"death\": 173690.0, \"deathIncrease\": 1017.0, \"positiveRate\": 0.076, \"state\": \"Non Tri-State\", \"sma7d\": 767.286}, {\"date\": \"2020-10-30T00:00:00\", \"totalTestResultsIncrease\": 1182452.0, \"positiveIncrease\": 91708.0, \"death\": 174597.0, \"deathIncrease\": 907.0, \"positiveRate\": 0.078, \"state\": \"Non Tri-State\", \"sma7d\": 770.0}, {\"date\": \"2020-10-31T00:00:00\", \"totalTestResultsIncrease\": 1155257.0, \"positiveIncrease\": 87087.0, \"death\": 175546.0, \"deathIncrease\": 949.0, \"positiveRate\": 0.075, \"state\": \"Non Tri-State\", \"sma7d\": 781.429}, {\"date\": \"2020-11-01T00:00:00\", \"totalTestResultsIncrease\": 988889.0, \"positiveIncrease\": 70054.0, \"death\": 175916.0, \"deathIncrease\": 370.0, \"positiveRate\": 0.071, \"state\": \"Non Tri-State\", \"sma7d\": 782.714}, {\"date\": \"2020-11-02T00:00:00\", \"totalTestResultsIncrease\": 1088506.0, \"positiveIncrease\": 76588.0, \"death\": 176364.0, \"deathIncrease\": 448.0, \"positiveRate\": 0.07, \"state\": \"Non Tri-State\", \"sma7d\": 795.571}, {\"date\": \"2020-11-03T00:00:00\", \"totalTestResultsIncrease\": 953067.0, \"positiveIncrease\": 81924.0, \"death\": 177860.0, \"deathIncrease\": 1496.0, \"positiveRate\": 0.086, \"state\": \"Non Tri-State\", \"sma7d\": 881.429}, {\"date\": \"2020-11-04T00:00:00\", \"totalTestResultsIncrease\": 1037250.0, \"positiveIncrease\": 96990.0, \"death\": 178927.0, \"deathIncrease\": 1067.0, \"positiveRate\": 0.094, \"state\": \"Non Tri-State\", \"sma7d\": 893.429}, {\"date\": \"2020-11-05T00:00:00\", \"totalTestResultsIncrease\": 1295702.0, \"positiveIncrease\": 109506.0, \"death\": 180004.0, \"deathIncrease\": 1077.0, \"positiveRate\": 0.085, \"state\": \"Non Tri-State\", \"sma7d\": 902.0}, {\"date\": \"2020-11-06T00:00:00\", \"totalTestResultsIncrease\": 1326252.0, \"positiveIncrease\": 118799.0, \"death\": 181144.0, \"deathIncrease\": 1140.0, \"positiveRate\": 0.09, \"state\": \"Non Tri-State\", \"sma7d\": 935.286}, {\"date\": \"2020-11-07T00:00:00\", \"totalTestResultsIncrease\": 1142373.0, \"positiveIncrease\": 122398.0, \"death\": 182221.0, \"deathIncrease\": 1077.0, \"positiveRate\": 0.107, \"state\": \"Non Tri-State\", \"sma7d\": 953.571}, {\"date\": \"2020-11-08T00:00:00\", \"totalTestResultsIncrease\": 1111795.0, \"positiveIncrease\": 105388.0, \"death\": 182685.0, \"deathIncrease\": 464.0, \"positiveRate\": 0.095, \"state\": \"Non Tri-State\", \"sma7d\": 967.0}, {\"date\": \"2020-11-09T00:00:00\", \"totalTestResultsIncrease\": 1245844.0, \"positiveIncrease\": 110158.0, \"death\": 183201.0, \"deathIncrease\": 516.0, \"positiveRate\": 0.088, \"state\": \"Non Tri-State\", \"sma7d\": 976.714}, {\"date\": \"2020-11-10T00:00:00\", \"totalTestResultsIncrease\": 1082868.0, \"positiveIncrease\": 121729.0, \"death\": 184486.0, \"deathIncrease\": 1285.0, \"positiveRate\": 0.112, \"state\": \"Non Tri-State\", \"sma7d\": 946.571}, {\"date\": \"2020-11-11T00:00:00\", \"totalTestResultsIncrease\": 1136886.0, \"positiveIncrease\": 134848.0, \"death\": 186006.0, \"deathIncrease\": 1520.0, \"positiveRate\": 0.119, \"state\": \"Non Tri-State\", \"sma7d\": 1011.286}, {\"date\": \"2020-11-12T00:00:00\", \"totalTestResultsIncrease\": 1263718.0, \"positiveIncrease\": 141080.0, \"death\": 187052.0, \"deathIncrease\": 1046.0, \"positiveRate\": 0.112, \"state\": \"Non Tri-State\", \"sma7d\": 1006.857}, {\"date\": \"2020-11-13T00:00:00\", \"totalTestResultsIncrease\": 1392140.0, \"positiveIncrease\": 159832.0, \"death\": 188294.0, \"deathIncrease\": 1242.0, \"positiveRate\": 0.115, \"state\": \"Non Tri-State\", \"sma7d\": 1021.429}, {\"date\": \"2020-11-14T00:00:00\", \"totalTestResultsIncrease\": 1451109.0, \"positiveIncrease\": 155107.0, \"death\": 189568.0, \"deathIncrease\": 1274.0, \"positiveRate\": 0.107, \"state\": \"Non Tri-State\", \"sma7d\": 1049.571}, {\"date\": \"2020-11-15T00:00:00\", \"totalTestResultsIncrease\": 1356833.0, \"positiveIncrease\": 137395.0, \"death\": 190200.0, \"deathIncrease\": 632.0, \"positiveRate\": 0.101, \"state\": \"Non Tri-State\", \"sma7d\": 1073.571}, {\"date\": \"2020-11-16T00:00:00\", \"totalTestResultsIncrease\": 1266029.0, \"positiveIncrease\": 138184.0, \"death\": 190719.0, \"deathIncrease\": 519.0, \"positiveRate\": 0.109, \"state\": \"Non Tri-State\", \"sma7d\": 1074.0}, {\"date\": \"2020-11-17T00:00:00\", \"totalTestResultsIncrease\": 1274869.0, \"positiveIncrease\": 145019.0, \"death\": 192206.0, \"deathIncrease\": 1487.0, \"positiveRate\": 0.114, \"state\": \"Non Tri-State\", \"sma7d\": 1102.857}]}}, {\"mode\": \"vega-lite\"});\n",
       "</script>"
      ],
      "text/plain": [
       "alt.LayerChart(...)"
      ]
     },
     "execution_count": 17,
     "metadata": {},
     "output_type": "execute_result"
    }
   ],
   "source": [
    "create_plot(non_tristate, 'deathIncrease')"
   ]
  }
 ],
 "metadata": {
  "kernelspec": {
   "display_name": "Python 3",
   "language": "python",
   "name": "python3"
  },
  "language_info": {
   "codemirror_mode": {
    "name": "ipython",
    "version": 3
   },
   "file_extension": ".py",
   "mimetype": "text/x-python",
   "name": "python",
   "nbconvert_exporter": "python",
   "pygments_lexer": "ipython3",
   "version": "3.8.6"
  },
  "papermill": {
   "duration": 5.204489,
   "end_time": "2020-11-18T09:12:34.934629",
   "environment_variables": {},
   "exception": null,
   "input_path": "2020-07-19-covid-plots.ipynb",
   "output_path": "2020-07-19-covid-plots.ipynb",
   "parameters": {},
   "start_time": "2020-11-18T09:12:29.730140",
   "version": "2.1.2"
  }
 },
 "nbformat": 4,
 "nbformat_minor": 4
}