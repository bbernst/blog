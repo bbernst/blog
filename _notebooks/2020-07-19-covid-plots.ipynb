{
 "cells": [
  {
   "cell_type": "markdown",
   "metadata": {
    "papermill": {
     "duration": 0.017537,
     "end_time": "2021-01-14T09:50:54.199278",
     "exception": false,
     "start_time": "2021-01-14T09:50:54.181741",
     "status": "completed"
    },
    "tags": []
   },
   "source": [
    "# \"COVID-19 plots\"\n",
    "> \"Interactive plots with daily updates\"\n",
    "\n",
    "- author: bbernst\n",
    "- toc: true\n",
    "- branch: master\n",
    "- badges: true\n",
    "- comments: true\n",
    "- categories: [healthcare, covid]\n",
    "- image: images/covid_plots/covid_mask.png\n",
    "- hide: false\n",
    "- search_exclude: true"
   ]
  },
  {
   "cell_type": "markdown",
   "metadata": {
    "papermill": {
     "duration": 0.011728,
     "end_time": "2021-01-14T09:50:54.223589",
     "exception": false,
     "start_time": "2021-01-14T09:50:54.211861",
     "status": "completed"
    },
    "tags": []
   },
   "source": [
    "I wanted to make a simple COVID-19 post to accomplish two main goals:\n",
    "1. Easily see the specific plots I'm interested in\n",
    "1. Update these plots every day, automatically\n",
    "\n",
    "Enter [fastpages](https://github.com/fastai/fastpages) and [github actions](https://github.com/features/actions). I'd been meaning to set up a blog with fastpages for a while and thought this would be a good reason to try it out. The documentation was great and I was able to set up automatic updates by using https://covid19dashboards.com/ as a guide.\n",
    "\n",
    "The data for this post comes from https://covidtracking.com/, which updates by 5pm each day, and I have my dashboard update at 6:30pm. For each geography -- so far that's the US, New York, and Non Tri-State -- I look at daily positive cases, positive rate, and deaths. Be sure to hover around on each of the plots, they have helpful interactive tooltips to make reading the data more intuitive."
   ]
  },
  {
   "cell_type": "code",
   "execution_count": 1,
   "metadata": {
    "execution": {
     "iopub.execute_input": "2021-01-14T09:50:54.255866Z",
     "iopub.status.busy": "2021-01-14T09:50:54.255319Z",
     "iopub.status.idle": "2021-01-14T09:50:54.688742Z",
     "shell.execute_reply": "2021-01-14T09:50:54.688207Z"
    },
    "papermill": {
     "duration": 0.453572,
     "end_time": "2021-01-14T09:50:54.688914",
     "exception": false,
     "start_time": "2021-01-14T09:50:54.235342",
     "status": "completed"
    },
    "tags": []
   },
   "outputs": [],
   "source": [
    "#collapse\n",
    "from typing import Callable, Literal\n",
    "import pandas as pd\n",
    "import altair as alt"
   ]
  },
  {
   "cell_type": "code",
   "execution_count": 2,
   "metadata": {
    "execution": {
     "iopub.execute_input": "2021-01-14T09:50:54.718655Z",
     "iopub.status.busy": "2021-01-14T09:50:54.718124Z",
     "iopub.status.idle": "2021-01-14T09:50:54.735605Z",
     "shell.execute_reply": "2021-01-14T09:50:54.735997Z"
    },
    "papermill": {
     "duration": 0.034442,
     "end_time": "2021-01-14T09:50:54.736122",
     "exception": false,
     "start_time": "2021-01-14T09:50:54.701680",
     "status": "completed"
    },
    "tags": []
   },
   "outputs": [
    {
     "name": "stdout",
     "output_type": "stream",
     "text": [
      "Last updated at (ET): 2021-01-14 04:50:54 AM\n"
     ]
    }
   ],
   "source": [
    "#hide_input\n",
    "current_utc = pd.Timestamp.now(tz='America/New_York').strftime('%Y-%m-%d %I:%M:%S %p')\n",
    "print(f\"Last updated at (ET): {current_utc}\")"
   ]
  },
  {
   "cell_type": "markdown",
   "metadata": {
    "papermill": {
     "duration": 0.012186,
     "end_time": "2021-01-14T09:50:54.760752",
     "exception": false,
     "start_time": "2021-01-14T09:50:54.748566",
     "status": "completed"
    },
    "tags": []
   },
   "source": [
    "# Data"
   ]
  },
  {
   "cell_type": "code",
   "execution_count": 3,
   "metadata": {
    "execution": {
     "iopub.execute_input": "2021-01-14T09:50:54.790701Z",
     "iopub.status.busy": "2021-01-14T09:50:54.790206Z",
     "iopub.status.idle": "2021-01-14T09:50:56.122850Z",
     "shell.execute_reply": "2021-01-14T09:50:56.122257Z"
    },
    "papermill": {
     "duration": 1.35009,
     "end_time": "2021-01-14T09:50:56.123007",
     "exception": false,
     "start_time": "2021-01-14T09:50:54.772917",
     "status": "completed"
    },
    "tags": []
   },
   "outputs": [],
   "source": [
    "df = pd.read_csv('https://covidtracking.com/api/states/daily.csv')"
   ]
  },
  {
   "cell_type": "markdown",
   "metadata": {
    "papermill": {
     "duration": 0.012992,
     "end_time": "2021-01-14T09:50:56.149966",
     "exception": false,
     "start_time": "2021-01-14T09:50:56.136974",
     "status": "completed"
    },
    "tags": []
   },
   "source": [
    "# Helpers"
   ]
  },
  {
   "cell_type": "code",
   "execution_count": 4,
   "metadata": {
    "execution": {
     "iopub.execute_input": "2021-01-14T09:50:56.182986Z",
     "iopub.status.busy": "2021-01-14T09:50:56.182406Z",
     "iopub.status.idle": "2021-01-14T09:50:56.184932Z",
     "shell.execute_reply": "2021-01-14T09:50:56.184503Z"
    },
    "papermill": {
     "duration": 0.021947,
     "end_time": "2021-01-14T09:50:56.185050",
     "exception": false,
     "start_time": "2021-01-14T09:50:56.163103",
     "status": "completed"
    },
    "tags": []
   },
   "outputs": [],
   "source": [
    "#collapse\n",
    "def create_df(df: pd.DataFrame, \n",
    "              filter_f: Callable, \n",
    "              state_name: str):\n",
    "    out_df = (\n",
    "     df\n",
    "     .assign(date = lambda d: pd.to_datetime(d['date'], format='%Y%m%d'))\n",
    "     .loc[filter_f, :]\n",
    "     .groupby('date')\n",
    "     .apply(lambda d: pd.Series(dict(\n",
    "         totalTestResultsIncrease = d['totalTestResultsIncrease'].sum(),\n",
    "         positiveIncrease = d['positiveIncrease'].sum(),\n",
    "         death = d['death'].sum(),\n",
    "         deathIncrease = d['deathIncrease'].sum()\n",
    "     )))\n",
    "     .reset_index()\n",
    "     .assign(positiveRate = lambda d: round(d['positiveIncrease'] / d['totalTestResultsIncrease'], 3))\n",
    "     .sort_values('date', ascending=True)\n",
    "     .assign(state = state_name)\n",
    "     .reset_index(drop=True)\n",
    "    )\n",
    "    \n",
    "    return out_df"
   ]
  },
  {
   "cell_type": "code",
   "execution_count": 5,
   "metadata": {
    "execution": {
     "iopub.execute_input": "2021-01-14T09:50:56.219956Z",
     "iopub.status.busy": "2021-01-14T09:50:56.219436Z",
     "iopub.status.idle": "2021-01-14T09:50:56.221667Z",
     "shell.execute_reply": "2021-01-14T09:50:56.221173Z"
    },
    "papermill": {
     "duration": 0.023846,
     "end_time": "2021-01-14T09:50:56.221774",
     "exception": false,
     "start_time": "2021-01-14T09:50:56.197928",
     "status": "completed"
    },
    "tags": []
   },
   "outputs": [],
   "source": [
    "#collapse\n",
    "def create_plot(df: pd.DataFrame, \n",
    "                column: Literal['totalTestResultsIncrease', \n",
    "                                'positiveIncrease', \n",
    "                                'death',\n",
    "                                'deathIncrease', \n",
    "                                'positiveRate'],\n",
    "                period: int = 7*8):\n",
    "    df = (\n",
    "     df\n",
    "     .assign(sma7d = lambda d: d[column].rolling(window=7).mean().round(3))\n",
    "     .loc[lambda d: d['date'] >= pd.to_datetime('today') - period * pd.Timedelta('1 days'), :]\n",
    "     .reset_index(drop=True)\n",
    "    )\n",
    "    the_state = df['state'][0]\n",
    "    label = alt.selection_single(\n",
    "        encodings=['x'], on='mouseover', nearest=True, empty='none')\n",
    "    \n",
    "    base = alt.Chart().mark_point(size=75).encode(\n",
    "        x='date:T',\n",
    "        y=f'{column}:Q',\n",
    "        tooltip=['date', f'{column}:Q', 'sma7d:Q']\n",
    "    )\n",
    "\n",
    "    sma = alt.Chart().mark_line(color='purple').encode(\n",
    "        x='date:T',\n",
    "        y='sma7d:Q'\n",
    "    )\n",
    "\n",
    "    layers = alt.layer(\n",
    "        base + sma,\n",
    "\n",
    "        # add a rule mark to serve as a guide line\n",
    "        alt.Chart().mark_rule(color='#aaa').encode(\n",
    "            x='date:T'\n",
    "        ).transform_filter(label),\n",
    "\n",
    "        # add circle marks for selected time points, hide unselected points\n",
    "        base.mark_circle().encode(\n",
    "            opacity=alt.condition(label, alt.value(1), alt.value(0))\n",
    "        ).add_selection(label),\n",
    "\n",
    "        # add white stroked text to provide a legible background for labels\n",
    "        base.mark_text(align='left', dx=5, dy=-5, stroke='white', strokeWidth=2).encode(\n",
    "            text=f'{column}:Q'\n",
    "        ).transform_filter(label),\n",
    "\n",
    "        # add text labels\n",
    "        base.mark_text(align='left', dx=5, dy=-5).encode(\n",
    "            text=f'{column}:Q'\n",
    "        ).transform_filter(label),\n",
    "        \n",
    "        data=df\n",
    "    ).properties(\n",
    "        title=f'{the_state}: {column}',\n",
    "        width=500,\n",
    "        height=400\n",
    "    )\n",
    "    \n",
    "    return layers.interactive()"
   ]
  },
  {
   "cell_type": "markdown",
   "metadata": {
    "papermill": {
     "duration": 0.012536,
     "end_time": "2021-01-14T09:50:56.246425",
     "exception": false,
     "start_time": "2021-01-14T09:50:56.233889",
     "status": "completed"
    },
    "tags": []
   },
   "source": [
    "# Plots"
   ]
  },
  {
   "cell_type": "markdown",
   "metadata": {
    "papermill": {
     "duration": 0.013291,
     "end_time": "2021-01-14T09:50:56.272111",
     "exception": false,
     "start_time": "2021-01-14T09:50:56.258820",
     "status": "completed"
    },
    "tags": []
   },
   "source": [
    "## US"
   ]
  },
  {
   "cell_type": "code",
   "execution_count": 6,
   "metadata": {
    "execution": {
     "iopub.execute_input": "2021-01-14T09:50:56.301174Z",
     "iopub.status.busy": "2021-01-14T09:50:56.300638Z",
     "iopub.status.idle": "2021-01-14T09:50:56.683065Z",
     "shell.execute_reply": "2021-01-14T09:50:56.682464Z"
    },
    "papermill": {
     "duration": 0.398728,
     "end_time": "2021-01-14T09:50:56.683219",
     "exception": false,
     "start_time": "2021-01-14T09:50:56.284491",
     "status": "completed"
    },
    "tags": []
   },
   "outputs": [],
   "source": [
    "us = create_df(df, lambda d: d.index > 0, 'US')"
   ]
  },
  {
   "cell_type": "code",
   "execution_count": 7,
   "metadata": {
    "execution": {
     "iopub.execute_input": "2021-01-14T09:50:56.717638Z",
     "iopub.status.busy": "2021-01-14T09:50:56.714705Z",
     "iopub.status.idle": "2021-01-14T09:50:56.813765Z",
     "shell.execute_reply": "2021-01-14T09:50:56.813218Z"
    },
    "papermill": {
     "duration": 0.117746,
     "end_time": "2021-01-14T09:50:56.813876",
     "exception": false,
     "start_time": "2021-01-14T09:50:56.696130",
     "status": "completed"
    },
    "tags": []
   },
   "outputs": [
    {
     "data": {
      "text/html": [
       "\n",
       "<div id=\"altair-viz-61744400f49c4f498dc6300fa0962b4f\"></div>\n",
       "<script type=\"text/javascript\">\n",
       "  (function(spec, embedOpt){\n",
       "    let outputDiv = document.currentScript.previousElementSibling;\n",
       "    if (outputDiv.id !== \"altair-viz-61744400f49c4f498dc6300fa0962b4f\") {\n",
       "      outputDiv = document.getElementById(\"altair-viz-61744400f49c4f498dc6300fa0962b4f\");\n",
       "    }\n",
       "    const paths = {\n",
       "      \"vega\": \"https://cdn.jsdelivr.net/npm//vega@5?noext\",\n",
       "      \"vega-lib\": \"https://cdn.jsdelivr.net/npm//vega-lib?noext\",\n",
       "      \"vega-lite\": \"https://cdn.jsdelivr.net/npm//vega-lite@4.8.1?noext\",\n",
       "      \"vega-embed\": \"https://cdn.jsdelivr.net/npm//vega-embed@6?noext\",\n",
       "    };\n",
       "\n",
       "    function loadScript(lib) {\n",
       "      return new Promise(function(resolve, reject) {\n",
       "        var s = document.createElement('script');\n",
       "        s.src = paths[lib];\n",
       "        s.async = true;\n",
       "        s.onload = () => resolve(paths[lib]);\n",
       "        s.onerror = () => reject(`Error loading script: ${paths[lib]}`);\n",
       "        document.getElementsByTagName(\"head\")[0].appendChild(s);\n",
       "      });\n",
       "    }\n",
       "\n",
       "    function showError(err) {\n",
       "      outputDiv.innerHTML = `<div class=\"error\" style=\"color:red;\">${err}</div>`;\n",
       "      throw err;\n",
       "    }\n",
       "\n",
       "    function displayChart(vegaEmbed) {\n",
       "      vegaEmbed(outputDiv, spec, embedOpt)\n",
       "        .catch(err => showError(`Javascript Error: ${err.message}<br>This usually means there's a typo in your chart specification. See the javascript console for the full traceback.`));\n",
       "    }\n",
       "\n",
       "    if(typeof define === \"function\" && define.amd) {\n",
       "      requirejs.config({paths});\n",
       "      require([\"vega-embed\"], displayChart, err => showError(`Error loading script: ${err.message}`));\n",
       "    } else if (typeof vegaEmbed === \"function\") {\n",
       "      displayChart(vegaEmbed);\n",
       "    } else {\n",
       "      loadScript(\"vega\")\n",
       "        .then(() => loadScript(\"vega-lite\"))\n",
       "        .then(() => loadScript(\"vega-embed\"))\n",
       "        .catch(showError)\n",
       "        .then(() => displayChart(vegaEmbed));\n",
       "    }\n",
       "  })({\"config\": {\"view\": {\"continuousWidth\": 400, \"continuousHeight\": 300}}, \"layer\": [{\"layer\": [{\"mark\": {\"type\": \"point\", \"size\": 75}, \"encoding\": {\"tooltip\": [{\"type\": \"temporal\", \"field\": \"date\"}, {\"type\": \"quantitative\", \"field\": \"positiveIncrease\"}, {\"type\": \"quantitative\", \"field\": \"sma7d\"}], \"x\": {\"type\": \"temporal\", \"field\": \"date\"}, \"y\": {\"type\": \"quantitative\", \"field\": \"positiveIncrease\"}}, \"selection\": {\"selector002\": {\"type\": \"interval\", \"bind\": \"scales\", \"encodings\": [\"x\", \"y\"]}}}, {\"mark\": {\"type\": \"line\", \"color\": \"purple\"}, \"encoding\": {\"x\": {\"type\": \"temporal\", \"field\": \"date\"}, \"y\": {\"type\": \"quantitative\", \"field\": \"sma7d\"}}}]}, {\"mark\": {\"type\": \"rule\", \"color\": \"#aaa\"}, \"encoding\": {\"x\": {\"type\": \"temporal\", \"field\": \"date\"}}, \"transform\": [{\"filter\": {\"selection\": \"selector001\"}}]}, {\"mark\": \"circle\", \"encoding\": {\"opacity\": {\"condition\": {\"value\": 1, \"selection\": \"selector001\"}, \"value\": 0}, \"tooltip\": [{\"type\": \"temporal\", \"field\": \"date\"}, {\"type\": \"quantitative\", \"field\": \"positiveIncrease\"}, {\"type\": \"quantitative\", \"field\": \"sma7d\"}], \"x\": {\"type\": \"temporal\", \"field\": \"date\"}, \"y\": {\"type\": \"quantitative\", \"field\": \"positiveIncrease\"}}, \"selection\": {\"selector001\": {\"type\": \"single\", \"encodings\": [\"x\"], \"on\": \"mouseover\", \"nearest\": true, \"empty\": \"none\"}}}, {\"mark\": {\"type\": \"text\", \"align\": \"left\", \"dx\": 5, \"dy\": -5, \"stroke\": \"white\", \"strokeWidth\": 2}, \"encoding\": {\"text\": {\"type\": \"quantitative\", \"field\": \"positiveIncrease\"}, \"tooltip\": [{\"type\": \"temporal\", \"field\": \"date\"}, {\"type\": \"quantitative\", \"field\": \"positiveIncrease\"}, {\"type\": \"quantitative\", \"field\": \"sma7d\"}], \"x\": {\"type\": \"temporal\", \"field\": \"date\"}, \"y\": {\"type\": \"quantitative\", \"field\": \"positiveIncrease\"}}, \"transform\": [{\"filter\": {\"selection\": \"selector001\"}}]}, {\"mark\": {\"type\": \"text\", \"align\": \"left\", \"dx\": 5, \"dy\": -5}, \"encoding\": {\"text\": {\"type\": \"quantitative\", \"field\": \"positiveIncrease\"}, \"tooltip\": [{\"type\": \"temporal\", \"field\": \"date\"}, {\"type\": \"quantitative\", \"field\": \"positiveIncrease\"}, {\"type\": \"quantitative\", \"field\": \"sma7d\"}], \"x\": {\"type\": \"temporal\", \"field\": \"date\"}, \"y\": {\"type\": \"quantitative\", \"field\": \"positiveIncrease\"}}, \"transform\": [{\"filter\": {\"selection\": \"selector001\"}}]}], \"data\": {\"name\": \"data-0780ad60a34e224ad881d1b69f36f07c\"}, \"height\": 400, \"title\": \"US: positiveIncrease\", \"width\": 500, \"$schema\": \"https://vega.github.io/schema/vega-lite/v4.8.1.json\", \"datasets\": {\"data-0780ad60a34e224ad881d1b69f36f07c\": [{\"date\": \"2020-11-20T00:00:00\", \"totalTestResultsIncrease\": 1939886.0, \"positiveIncrease\": 196494.0, \"death\": 246090.0, \"deathIncrease\": 1910.0, \"positiveRate\": 0.101, \"state\": \"US\", \"sma7d\": 167726.714}, {\"date\": \"2020-11-21T00:00:00\", \"totalTestResultsIncrease\": 2050730.0, \"positiveIncrease\": 183201.0, \"death\": 247641.0, \"deathIncrease\": 1551.0, \"positiveRate\": 0.089, \"state\": \"US\", \"sma7d\": 170015.0}, {\"date\": \"2020-11-22T00:00:00\", \"totalTestResultsIncrease\": 1771163.0, \"positiveIncrease\": 153836.0, \"death\": 248564.0, \"deathIncrease\": 923.0, \"positiveRate\": 0.087, \"state\": \"US\", \"sma7d\": 171001.571}, {\"date\": \"2020-11-23T00:00:00\", \"totalTestResultsIncrease\": 1748897.0, \"positiveIncrease\": 154581.0, \"death\": 249417.0, \"deathIncrease\": 853.0, \"positiveRate\": 0.088, \"state\": \"US\", \"sma7d\": 171697.286}, {\"date\": \"2020-11-24T00:00:00\", \"totalTestResultsIncrease\": 1805620.0, \"positiveIncrease\": 165251.0, \"death\": 251508.0, \"deathIncrease\": 2091.0, \"positiveRate\": 0.092, \"state\": \"US\", \"sma7d\": 172586.429}, {\"date\": \"2020-11-25T00:00:00\", \"totalTestResultsIncrease\": 1828813.0, \"positiveIncrease\": 187677.0, \"death\": 253789.0, \"deathIncrease\": 2281.0, \"positiveRate\": 0.103, \"state\": \"US\", \"sma7d\": 175458.429}, {\"date\": \"2020-11-26T00:00:00\", \"totalTestResultsIncrease\": 1331056.0, \"positiveIncrease\": 129063.0, \"death\": 255181.0, \"deathIncrease\": 1392.0, \"positiveRate\": 0.097, \"state\": \"US\", \"sma7d\": 167157.571}, {\"date\": \"2020-11-27T00:00:00\", \"totalTestResultsIncrease\": 2043917.0, \"positiveIncrease\": 198259.0, \"death\": 256585.0, \"deathIncrease\": 1404.0, \"positiveRate\": 0.097, \"state\": \"US\", \"sma7d\": 167409.714}, {\"date\": \"2020-11-28T00:00:00\", \"totalTestResultsIncrease\": 1616060.0, \"positiveIncrease\": 151064.0, \"death\": 257828.0, \"deathIncrease\": 1243.0, \"positiveRate\": 0.093, \"state\": \"US\", \"sma7d\": 162818.714}, {\"date\": \"2020-11-29T00:00:00\", \"totalTestResultsIncrease\": 1286929.0, \"positiveIncrease\": 136967.0, \"death\": 258653.0, \"deathIncrease\": 825.0, \"positiveRate\": 0.106, \"state\": \"US\", \"sma7d\": 160408.857}, {\"date\": \"2020-11-30T00:00:00\", \"totalTestResultsIncrease\": 1612731.0, \"positiveIncrease\": 149516.0, \"death\": 259690.0, \"deathIncrease\": 1037.0, \"positiveRate\": 0.093, \"state\": \"US\", \"sma7d\": 159685.286}, {\"date\": \"2020-12-01T00:00:00\", \"totalTestResultsIncrease\": 1456016.0, \"positiveIncrease\": 179137.0, \"death\": 262179.0, \"deathIncrease\": 2489.0, \"positiveRate\": 0.123, \"state\": \"US\", \"sma7d\": 161669.0}, {\"date\": \"2020-12-02T00:00:00\", \"totalTestResultsIncrease\": 1559671.0, \"positiveIncrease\": 201746.0, \"death\": 264990.0, \"deathIncrease\": 2811.0, \"positiveRate\": 0.129, \"state\": \"US\", \"sma7d\": 163678.857}, {\"date\": \"2020-12-03T00:00:00\", \"totalTestResultsIncrease\": 1892944.0, \"positiveIncrease\": 214805.0, \"death\": 267812.0, \"deathIncrease\": 2822.0, \"positiveRate\": 0.113, \"state\": \"US\", \"sma7d\": 175927.714}, {\"date\": \"2020-12-04T00:00:00\", \"totalTestResultsIncrease\": 1861622.0, \"positiveIncrease\": 228884.0, \"death\": 270375.0, \"deathIncrease\": 2563.0, \"positiveRate\": 0.123, \"state\": \"US\", \"sma7d\": 180302.714}, {\"date\": \"2020-12-05T00:00:00\", \"totalTestResultsIncrease\": 2221953.0, \"positiveIncrease\": 217770.0, \"death\": 272861.0, \"deathIncrease\": 2486.0, \"positiveRate\": 0.098, \"state\": \"US\", \"sma7d\": 189832.143}, {\"date\": \"2020-12-06T00:00:00\", \"totalTestResultsIncrease\": 1620226.0, \"positiveIncrease\": 182351.0, \"death\": 274024.0, \"deathIncrease\": 1163.0, \"positiveRate\": 0.113, \"state\": \"US\", \"sma7d\": 196315.571}, {\"date\": \"2020-12-07T00:00:00\", \"totalTestResultsIncrease\": 1725636.0, \"positiveIncrease\": 181473.0, \"death\": 275315.0, \"deathIncrease\": 1291.0, \"positiveRate\": 0.105, \"state\": \"US\", \"sma7d\": 200880.857}, {\"date\": \"2020-12-08T00:00:00\", \"totalTestResultsIncrease\": 1652188.0, \"positiveIncrease\": 215953.0, \"death\": 277995.0, \"deathIncrease\": 2680.0, \"positiveRate\": 0.131, \"state\": \"US\", \"sma7d\": 206140.286}, {\"date\": \"2020-12-09T00:00:00\", \"totalTestResultsIncrease\": 1803813.0, \"positiveIncrease\": 214960.0, \"death\": 281164.0, \"deathIncrease\": 3169.0, \"positiveRate\": 0.119, \"state\": \"US\", \"sma7d\": 208028.0}, {\"date\": \"2020-12-10T00:00:00\", \"totalTestResultsIncrease\": 1887187.0, \"positiveIncrease\": 219285.0, \"death\": 284296.0, \"deathIncrease\": 3132.0, \"positiveRate\": 0.116, \"state\": \"US\", \"sma7d\": 208668.0}, {\"date\": \"2020-12-11T00:00:00\", \"totalTestResultsIncrease\": 1987199.0, \"positiveIncrease\": 235471.0, \"death\": 287043.0, \"deathIncrease\": 2747.0, \"positiveRate\": 0.118, \"state\": \"US\", \"sma7d\": 209609.0}, {\"date\": \"2020-12-12T00:00:00\", \"totalTestResultsIncrease\": 1834747.0, \"positiveIncrease\": 225287.0, \"death\": 289540.0, \"deathIncrease\": 2497.0, \"positiveRate\": 0.123, \"state\": \"US\", \"sma7d\": 210682.857}, {\"date\": \"2020-12-13T00:00:00\", \"totalTestResultsIncrease\": 1770163.0, \"positiveIncrease\": 186763.0, \"death\": 291041.0, \"deathIncrease\": 1501.0, \"positiveRate\": 0.106, \"state\": \"US\", \"sma7d\": 211313.143}, {\"date\": \"2020-12-14T00:00:00\", \"totalTestResultsIncrease\": 2095868.0, \"positiveIncrease\": 192862.0, \"death\": 292398.0, \"deathIncrease\": 1357.0, \"positiveRate\": 0.092, \"state\": \"US\", \"sma7d\": 212940.143}, {\"date\": \"2020-12-15T00:00:00\", \"totalTestResultsIncrease\": 1797070.0, \"positiveIncrease\": 190593.0, \"death\": 295322.0, \"deathIncrease\": 2924.0, \"positiveRate\": 0.106, \"state\": \"US\", \"sma7d\": 209317.286}, {\"date\": \"2020-12-16T00:00:00\", \"totalTestResultsIncrease\": 1802086.0, \"positiveIncrease\": 231850.0, \"death\": 298775.0, \"deathIncrease\": 3453.0, \"positiveRate\": 0.129, \"state\": \"US\", \"sma7d\": 211730.143}, {\"date\": \"2020-12-17T00:00:00\", \"totalTestResultsIncrease\": 1864588.0, \"positiveIncrease\": 241028.0, \"death\": 302240.0, \"deathIncrease\": 3465.0, \"positiveRate\": 0.129, \"state\": \"US\", \"sma7d\": 214836.286}, {\"date\": \"2020-12-18T00:00:00\", \"totalTestResultsIncrease\": 2197746.0, \"positiveIncrease\": 239737.0, \"death\": 305106.0, \"deathIncrease\": 2866.0, \"positiveRate\": 0.109, \"state\": \"US\", \"sma7d\": 215445.714}, {\"date\": \"2020-12-19T00:00:00\", \"totalTestResultsIncrease\": 1762484.0, \"positiveIncrease\": 203346.0, \"death\": 307814.0, \"deathIncrease\": 2708.0, \"positiveRate\": 0.115, \"state\": \"US\", \"sma7d\": 212311.286}, {\"date\": \"2020-12-20T00:00:00\", \"totalTestResultsIncrease\": 1792080.0, \"positiveIncrease\": 196963.0, \"death\": 309482.0, \"deathIncrease\": 1668.0, \"positiveRate\": 0.11, \"state\": \"US\", \"sma7d\": 213768.429}, {\"date\": \"2020-12-21T00:00:00\", \"totalTestResultsIncrease\": 2025427.0, \"positiveIncrease\": 178997.0, \"death\": 310962.0, \"deathIncrease\": 1480.0, \"positiveRate\": 0.088, \"state\": \"US\", \"sma7d\": 211787.714}, {\"date\": \"2020-12-22T00:00:00\", \"totalTestResultsIncrease\": 1727489.0, \"positiveIncrease\": 190132.0, \"death\": 314099.0, \"deathIncrease\": 3137.0, \"positiveRate\": 0.11, \"state\": \"US\", \"sma7d\": 211721.857}, {\"date\": \"2020-12-23T00:00:00\", \"totalTestResultsIncrease\": 1740033.0, \"positiveIncrease\": 221906.0, \"death\": 317492.0, \"deathIncrease\": 3393.0, \"positiveRate\": 0.128, \"state\": \"US\", \"sma7d\": 210301.286}, {\"date\": \"2020-12-24T00:00:00\", \"totalTestResultsIncrease\": 1936907.0, \"positiveIncrease\": 204297.0, \"death\": 320450.0, \"deathIncrease\": 2958.0, \"positiveRate\": 0.105, \"state\": \"US\", \"sma7d\": 205054.0}, {\"date\": \"2020-12-25T00:00:00\", \"totalTestResultsIncrease\": 1373275.0, \"positiveIncrease\": 125867.0, \"death\": 322003.0, \"deathIncrease\": 1553.0, \"positiveRate\": 0.092, \"state\": \"US\", \"sma7d\": 188786.857}, {\"date\": \"2020-12-26T00:00:00\", \"totalTestResultsIncrease\": 2122061.0, \"positiveIncrease\": 190115.0, \"death\": 323429.0, \"deathIncrease\": 1426.0, \"positiveRate\": 0.09, \"state\": \"US\", \"sma7d\": 186896.714}, {\"date\": \"2020-12-27T00:00:00\", \"totalTestResultsIncrease\": 1340340.0, \"positiveIncrease\": 152978.0, \"death\": 324826.0, \"deathIncrease\": 1397.0, \"positiveRate\": 0.114, \"state\": \"US\", \"sma7d\": 180613.143}, {\"date\": \"2020-12-28T00:00:00\", \"totalTestResultsIncrease\": 1476860.0, \"positiveIncrease\": 163338.0, \"death\": 326316.0, \"deathIncrease\": 1490.0, \"positiveRate\": 0.111, \"state\": \"US\", \"sma7d\": 178376.143}, {\"date\": \"2020-12-29T00:00:00\", \"totalTestResultsIncrease\": 1291843.0, \"positiveIncrease\": 196082.0, \"death\": 329605.0, \"deathIncrease\": 3289.0, \"positiveRate\": 0.152, \"state\": \"US\", \"sma7d\": 179226.143}, {\"date\": \"2020-12-30T00:00:00\", \"totalTestResultsIncrease\": 1534374.0, \"positiveIncrease\": 225908.0, \"death\": 333505.0, \"deathIncrease\": 3900.0, \"positiveRate\": 0.147, \"state\": \"US\", \"sma7d\": 179797.857}, {\"date\": \"2020-12-31T00:00:00\", \"totalTestResultsIncrease\": 1747745.0, \"positiveIncrease\": 223036.0, \"death\": 336802.0, \"deathIncrease\": 3297.0, \"positiveRate\": 0.128, \"state\": \"US\", \"sma7d\": 182474.857}, {\"date\": \"2021-01-01T00:00:00\", \"totalTestResultsIncrease\": 1360209.0, \"positiveIncrease\": 180488.0, \"death\": 339394.0, \"deathIncrease\": 2592.0, \"positiveRate\": 0.133, \"state\": \"US\", \"sma7d\": 190277.857}, {\"date\": \"2021-01-02T00:00:00\", \"totalTestResultsIncrease\": 2060220.0, \"positiveIncrease\": 279389.0, \"death\": 341800.0, \"deathIncrease\": 2406.0, \"positiveRate\": 0.136, \"state\": \"US\", \"sma7d\": 203031.286}, {\"date\": \"2021-01-03T00:00:00\", \"totalTestResultsIncrease\": 1401449.0, \"positiveIncrease\": 207756.0, \"death\": 343255.0, \"deathIncrease\": 1455.0, \"positiveRate\": 0.148, \"state\": \"US\", \"sma7d\": 210856.714}, {\"date\": \"2021-01-04T00:00:00\", \"totalTestResultsIncrease\": 1568546.0, \"positiveIncrease\": 178438.0, \"death\": 344802.0, \"deathIncrease\": 1547.0, \"positiveRate\": 0.114, \"state\": \"US\", \"sma7d\": 213013.857}, {\"date\": \"2021-01-05T00:00:00\", \"totalTestResultsIncrease\": 1678839.0, \"positiveIncrease\": 215086.0, \"death\": 348286.0, \"deathIncrease\": 3484.0, \"positiveRate\": 0.128, \"state\": \"US\", \"sma7d\": 215728.714}, {\"date\": \"2021-01-06T00:00:00\", \"totalTestResultsIncrease\": 1600829.0, \"positiveIncrease\": 248086.0, \"death\": 352188.0, \"deathIncrease\": 3902.0, \"positiveRate\": 0.155, \"state\": \"US\", \"sma7d\": 218897.0}, {\"date\": \"2021-01-07T00:00:00\", \"totalTestResultsIncrease\": 1915218.0, \"positiveIncrease\": 269325.0, \"death\": 356267.0, \"deathIncrease\": 4079.0, \"positiveRate\": 0.141, \"state\": \"US\", \"sma7d\": 225509.714}, {\"date\": \"2021-01-08T00:00:00\", \"totalTestResultsIncrease\": 2117440.0, \"positiveIncrease\": 292204.0, \"death\": 360047.0, \"deathIncrease\": 3780.0, \"positiveRate\": 0.138, \"state\": \"US\", \"sma7d\": 241469.143}, {\"date\": \"2021-01-09T00:00:00\", \"totalTestResultsIncrease\": 2064103.0, \"positiveIncrease\": 266399.0, \"death\": 363584.0, \"deathIncrease\": 3537.0, \"positiveRate\": 0.129, \"state\": \"US\", \"sma7d\": 239613.429}, {\"date\": \"2021-01-10T00:00:00\", \"totalTestResultsIncrease\": 1987882.0, \"positiveIncrease\": 227708.0, \"death\": 365652.0, \"deathIncrease\": 2068.0, \"positiveRate\": 0.115, \"state\": \"US\", \"sma7d\": 242463.714}, {\"date\": \"2021-01-11T00:00:00\", \"totalTestResultsIncrease\": 1843844.0, \"positiveIncrease\": 194140.0, \"death\": 367385.0, \"deathIncrease\": 1733.0, \"positiveRate\": 0.105, \"state\": \"US\", \"sma7d\": 244706.857}, {\"date\": \"2021-01-12T00:00:00\", \"totalTestResultsIncrease\": 1924459.0, \"positiveIncrease\": 214809.0, \"death\": 371449.0, \"deathIncrease\": 4064.0, \"positiveRate\": 0.112, \"state\": \"US\", \"sma7d\": 244667.286}, {\"date\": \"2021-01-13T00:00:00\", \"totalTestResultsIncrease\": 1780441.0, \"positiveIncrease\": 218684.0, \"death\": 375245.0, \"deathIncrease\": 4020.0, \"positiveRate\": 0.123, \"state\": \"US\", \"sma7d\": 240467.0}]}}, {\"mode\": \"vega-lite\"});\n",
       "</script>"
      ],
      "text/plain": [
       "alt.LayerChart(...)"
      ]
     },
     "execution_count": 7,
     "metadata": {},
     "output_type": "execute_result"
    }
   ],
   "source": [
    "create_plot(us, 'positiveIncrease')"
   ]
  },
  {
   "cell_type": "code",
   "execution_count": 8,
   "metadata": {
    "execution": {
     "iopub.execute_input": "2021-01-14T09:50:56.842755Z",
     "iopub.status.busy": "2021-01-14T09:50:56.842125Z",
     "iopub.status.idle": "2021-01-14T09:50:56.926530Z",
     "shell.execute_reply": "2021-01-14T09:50:56.927064Z"
    },
    "papermill": {
     "duration": 0.100581,
     "end_time": "2021-01-14T09:50:56.927226",
     "exception": false,
     "start_time": "2021-01-14T09:50:56.826645",
     "status": "completed"
    },
    "tags": []
   },
   "outputs": [
    {
     "data": {
      "text/html": [
       "\n",
       "<div id=\"altair-viz-971a7ae009de4e5490a8d69e915bf2f3\"></div>\n",
       "<script type=\"text/javascript\">\n",
       "  (function(spec, embedOpt){\n",
       "    let outputDiv = document.currentScript.previousElementSibling;\n",
       "    if (outputDiv.id !== \"altair-viz-971a7ae009de4e5490a8d69e915bf2f3\") {\n",
       "      outputDiv = document.getElementById(\"altair-viz-971a7ae009de4e5490a8d69e915bf2f3\");\n",
       "    }\n",
       "    const paths = {\n",
       "      \"vega\": \"https://cdn.jsdelivr.net/npm//vega@5?noext\",\n",
       "      \"vega-lib\": \"https://cdn.jsdelivr.net/npm//vega-lib?noext\",\n",
       "      \"vega-lite\": \"https://cdn.jsdelivr.net/npm//vega-lite@4.8.1?noext\",\n",
       "      \"vega-embed\": \"https://cdn.jsdelivr.net/npm//vega-embed@6?noext\",\n",
       "    };\n",
       "\n",
       "    function loadScript(lib) {\n",
       "      return new Promise(function(resolve, reject) {\n",
       "        var s = document.createElement('script');\n",
       "        s.src = paths[lib];\n",
       "        s.async = true;\n",
       "        s.onload = () => resolve(paths[lib]);\n",
       "        s.onerror = () => reject(`Error loading script: ${paths[lib]}`);\n",
       "        document.getElementsByTagName(\"head\")[0].appendChild(s);\n",
       "      });\n",
       "    }\n",
       "\n",
       "    function showError(err) {\n",
       "      outputDiv.innerHTML = `<div class=\"error\" style=\"color:red;\">${err}</div>`;\n",
       "      throw err;\n",
       "    }\n",
       "\n",
       "    function displayChart(vegaEmbed) {\n",
       "      vegaEmbed(outputDiv, spec, embedOpt)\n",
       "        .catch(err => showError(`Javascript Error: ${err.message}<br>This usually means there's a typo in your chart specification. See the javascript console for the full traceback.`));\n",
       "    }\n",
       "\n",
       "    if(typeof define === \"function\" && define.amd) {\n",
       "      requirejs.config({paths});\n",
       "      require([\"vega-embed\"], displayChart, err => showError(`Error loading script: ${err.message}`));\n",
       "    } else if (typeof vegaEmbed === \"function\") {\n",
       "      displayChart(vegaEmbed);\n",
       "    } else {\n",
       "      loadScript(\"vega\")\n",
       "        .then(() => loadScript(\"vega-lite\"))\n",
       "        .then(() => loadScript(\"vega-embed\"))\n",
       "        .catch(showError)\n",
       "        .then(() => displayChart(vegaEmbed));\n",
       "    }\n",
       "  })({\"config\": {\"view\": {\"continuousWidth\": 400, \"continuousHeight\": 300}}, \"layer\": [{\"layer\": [{\"mark\": {\"type\": \"point\", \"size\": 75}, \"encoding\": {\"tooltip\": [{\"type\": \"temporal\", \"field\": \"date\"}, {\"type\": \"quantitative\", \"field\": \"positiveRate\"}, {\"type\": \"quantitative\", \"field\": \"sma7d\"}], \"x\": {\"type\": \"temporal\", \"field\": \"date\"}, \"y\": {\"type\": \"quantitative\", \"field\": \"positiveRate\"}}, \"selection\": {\"selector004\": {\"type\": \"interval\", \"bind\": \"scales\", \"encodings\": [\"x\", \"y\"]}}}, {\"mark\": {\"type\": \"line\", \"color\": \"purple\"}, \"encoding\": {\"x\": {\"type\": \"temporal\", \"field\": \"date\"}, \"y\": {\"type\": \"quantitative\", \"field\": \"sma7d\"}}}]}, {\"mark\": {\"type\": \"rule\", \"color\": \"#aaa\"}, \"encoding\": {\"x\": {\"type\": \"temporal\", \"field\": \"date\"}}, \"transform\": [{\"filter\": {\"selection\": \"selector003\"}}]}, {\"mark\": \"circle\", \"encoding\": {\"opacity\": {\"condition\": {\"value\": 1, \"selection\": \"selector003\"}, \"value\": 0}, \"tooltip\": [{\"type\": \"temporal\", \"field\": \"date\"}, {\"type\": \"quantitative\", \"field\": \"positiveRate\"}, {\"type\": \"quantitative\", \"field\": \"sma7d\"}], \"x\": {\"type\": \"temporal\", \"field\": \"date\"}, \"y\": {\"type\": \"quantitative\", \"field\": \"positiveRate\"}}, \"selection\": {\"selector003\": {\"type\": \"single\", \"encodings\": [\"x\"], \"on\": \"mouseover\", \"nearest\": true, \"empty\": \"none\"}}}, {\"mark\": {\"type\": \"text\", \"align\": \"left\", \"dx\": 5, \"dy\": -5, \"stroke\": \"white\", \"strokeWidth\": 2}, \"encoding\": {\"text\": {\"type\": \"quantitative\", \"field\": \"positiveRate\"}, \"tooltip\": [{\"type\": \"temporal\", \"field\": \"date\"}, {\"type\": \"quantitative\", \"field\": \"positiveRate\"}, {\"type\": \"quantitative\", \"field\": \"sma7d\"}], \"x\": {\"type\": \"temporal\", \"field\": \"date\"}, \"y\": {\"type\": \"quantitative\", \"field\": \"positiveRate\"}}, \"transform\": [{\"filter\": {\"selection\": \"selector003\"}}]}, {\"mark\": {\"type\": \"text\", \"align\": \"left\", \"dx\": 5, \"dy\": -5}, \"encoding\": {\"text\": {\"type\": \"quantitative\", \"field\": \"positiveRate\"}, \"tooltip\": [{\"type\": \"temporal\", \"field\": \"date\"}, {\"type\": \"quantitative\", \"field\": \"positiveRate\"}, {\"type\": \"quantitative\", \"field\": \"sma7d\"}], \"x\": {\"type\": \"temporal\", \"field\": \"date\"}, \"y\": {\"type\": \"quantitative\", \"field\": \"positiveRate\"}}, \"transform\": [{\"filter\": {\"selection\": \"selector003\"}}]}], \"data\": {\"name\": \"data-e215259abd9be360484a5a2e0fcfc862\"}, \"height\": 400, \"title\": \"US: positiveRate\", \"width\": 500, \"$schema\": \"https://vega.github.io/schema/vega-lite/v4.8.1.json\", \"datasets\": {\"data-e215259abd9be360484a5a2e0fcfc862\": [{\"date\": \"2020-11-20T00:00:00\", \"totalTestResultsIncrease\": 1939886.0, \"positiveIncrease\": 196494.0, \"death\": 246090.0, \"deathIncrease\": 1910.0, \"positiveRate\": 0.101, \"state\": \"US\", \"sma7d\": 0.099}, {\"date\": \"2020-11-21T00:00:00\", \"totalTestResultsIncrease\": 2050730.0, \"positiveIncrease\": 183201.0, \"death\": 247641.0, \"deathIncrease\": 1551.0, \"positiveRate\": 0.089, \"state\": \"US\", \"sma7d\": 0.098}, {\"date\": \"2020-11-22T00:00:00\", \"totalTestResultsIncrease\": 1771163.0, \"positiveIncrease\": 153836.0, \"death\": 248564.0, \"deathIncrease\": 923.0, \"positiveRate\": 0.087, \"state\": \"US\", \"sma7d\": 0.097}, {\"date\": \"2020-11-23T00:00:00\", \"totalTestResultsIncrease\": 1748897.0, \"positiveIncrease\": 154581.0, \"death\": 249417.0, \"deathIncrease\": 853.0, \"positiveRate\": 0.088, \"state\": \"US\", \"sma7d\": 0.096}, {\"date\": \"2020-11-24T00:00:00\", \"totalTestResultsIncrease\": 1805620.0, \"positiveIncrease\": 165251.0, \"death\": 251508.0, \"deathIncrease\": 2091.0, \"positiveRate\": 0.092, \"state\": \"US\", \"sma7d\": 0.095}, {\"date\": \"2020-11-25T00:00:00\", \"totalTestResultsIncrease\": 1828813.0, \"positiveIncrease\": 187677.0, \"death\": 253789.0, \"deathIncrease\": 2281.0, \"positiveRate\": 0.103, \"state\": \"US\", \"sma7d\": 0.095}, {\"date\": \"2020-11-26T00:00:00\", \"totalTestResultsIncrease\": 1331056.0, \"positiveIncrease\": 129063.0, \"death\": 255181.0, \"deathIncrease\": 1392.0, \"positiveRate\": 0.097, \"state\": \"US\", \"sma7d\": 0.094}, {\"date\": \"2020-11-27T00:00:00\", \"totalTestResultsIncrease\": 2043917.0, \"positiveIncrease\": 198259.0, \"death\": 256585.0, \"deathIncrease\": 1404.0, \"positiveRate\": 0.097, \"state\": \"US\", \"sma7d\": 0.093}, {\"date\": \"2020-11-28T00:00:00\", \"totalTestResultsIncrease\": 1616060.0, \"positiveIncrease\": 151064.0, \"death\": 257828.0, \"deathIncrease\": 1243.0, \"positiveRate\": 0.093, \"state\": \"US\", \"sma7d\": 0.094}, {\"date\": \"2020-11-29T00:00:00\", \"totalTestResultsIncrease\": 1286929.0, \"positiveIncrease\": 136967.0, \"death\": 258653.0, \"deathIncrease\": 825.0, \"positiveRate\": 0.106, \"state\": \"US\", \"sma7d\": 0.097}, {\"date\": \"2020-11-30T00:00:00\", \"totalTestResultsIncrease\": 1612731.0, \"positiveIncrease\": 149516.0, \"death\": 259690.0, \"deathIncrease\": 1037.0, \"positiveRate\": 0.093, \"state\": \"US\", \"sma7d\": 0.097}, {\"date\": \"2020-12-01T00:00:00\", \"totalTestResultsIncrease\": 1456016.0, \"positiveIncrease\": 179137.0, \"death\": 262179.0, \"deathIncrease\": 2489.0, \"positiveRate\": 0.123, \"state\": \"US\", \"sma7d\": 0.102}, {\"date\": \"2020-12-02T00:00:00\", \"totalTestResultsIncrease\": 1559671.0, \"positiveIncrease\": 201746.0, \"death\": 264990.0, \"deathIncrease\": 2811.0, \"positiveRate\": 0.129, \"state\": \"US\", \"sma7d\": 0.105}, {\"date\": \"2020-12-03T00:00:00\", \"totalTestResultsIncrease\": 1892944.0, \"positiveIncrease\": 214805.0, \"death\": 267812.0, \"deathIncrease\": 2822.0, \"positiveRate\": 0.113, \"state\": \"US\", \"sma7d\": 0.108}, {\"date\": \"2020-12-04T00:00:00\", \"totalTestResultsIncrease\": 1861622.0, \"positiveIncrease\": 228884.0, \"death\": 270375.0, \"deathIncrease\": 2563.0, \"positiveRate\": 0.123, \"state\": \"US\", \"sma7d\": 0.111}, {\"date\": \"2020-12-05T00:00:00\", \"totalTestResultsIncrease\": 2221953.0, \"positiveIncrease\": 217770.0, \"death\": 272861.0, \"deathIncrease\": 2486.0, \"positiveRate\": 0.098, \"state\": \"US\", \"sma7d\": 0.112}, {\"date\": \"2020-12-06T00:00:00\", \"totalTestResultsIncrease\": 1620226.0, \"positiveIncrease\": 182351.0, \"death\": 274024.0, \"deathIncrease\": 1163.0, \"positiveRate\": 0.113, \"state\": \"US\", \"sma7d\": 0.113}, {\"date\": \"2020-12-07T00:00:00\", \"totalTestResultsIncrease\": 1725636.0, \"positiveIncrease\": 181473.0, \"death\": 275315.0, \"deathIncrease\": 1291.0, \"positiveRate\": 0.105, \"state\": \"US\", \"sma7d\": 0.115}, {\"date\": \"2020-12-08T00:00:00\", \"totalTestResultsIncrease\": 1652188.0, \"positiveIncrease\": 215953.0, \"death\": 277995.0, \"deathIncrease\": 2680.0, \"positiveRate\": 0.131, \"state\": \"US\", \"sma7d\": 0.116}, {\"date\": \"2020-12-09T00:00:00\", \"totalTestResultsIncrease\": 1803813.0, \"positiveIncrease\": 214960.0, \"death\": 281164.0, \"deathIncrease\": 3169.0, \"positiveRate\": 0.119, \"state\": \"US\", \"sma7d\": 0.115}, {\"date\": \"2020-12-10T00:00:00\", \"totalTestResultsIncrease\": 1887187.0, \"positiveIncrease\": 219285.0, \"death\": 284296.0, \"deathIncrease\": 3132.0, \"positiveRate\": 0.116, \"state\": \"US\", \"sma7d\": 0.115}, {\"date\": \"2020-12-11T00:00:00\", \"totalTestResultsIncrease\": 1987199.0, \"positiveIncrease\": 235471.0, \"death\": 287043.0, \"deathIncrease\": 2747.0, \"positiveRate\": 0.118, \"state\": \"US\", \"sma7d\": 0.114}, {\"date\": \"2020-12-12T00:00:00\", \"totalTestResultsIncrease\": 1834747.0, \"positiveIncrease\": 225287.0, \"death\": 289540.0, \"deathIncrease\": 2497.0, \"positiveRate\": 0.123, \"state\": \"US\", \"sma7d\": 0.118}, {\"date\": \"2020-12-13T00:00:00\", \"totalTestResultsIncrease\": 1770163.0, \"positiveIncrease\": 186763.0, \"death\": 291041.0, \"deathIncrease\": 1501.0, \"positiveRate\": 0.106, \"state\": \"US\", \"sma7d\": 0.117}, {\"date\": \"2020-12-14T00:00:00\", \"totalTestResultsIncrease\": 2095868.0, \"positiveIncrease\": 192862.0, \"death\": 292398.0, \"deathIncrease\": 1357.0, \"positiveRate\": 0.092, \"state\": \"US\", \"sma7d\": 0.115}, {\"date\": \"2020-12-15T00:00:00\", \"totalTestResultsIncrease\": 1797070.0, \"positiveIncrease\": 190593.0, \"death\": 295322.0, \"deathIncrease\": 2924.0, \"positiveRate\": 0.106, \"state\": \"US\", \"sma7d\": 0.111}, {\"date\": \"2020-12-16T00:00:00\", \"totalTestResultsIncrease\": 1802086.0, \"positiveIncrease\": 231850.0, \"death\": 298775.0, \"deathIncrease\": 3453.0, \"positiveRate\": 0.129, \"state\": \"US\", \"sma7d\": 0.113}, {\"date\": \"2020-12-17T00:00:00\", \"totalTestResultsIncrease\": 1864588.0, \"positiveIncrease\": 241028.0, \"death\": 302240.0, \"deathIncrease\": 3465.0, \"positiveRate\": 0.129, \"state\": \"US\", \"sma7d\": 0.115}, {\"date\": \"2020-12-18T00:00:00\", \"totalTestResultsIncrease\": 2197746.0, \"positiveIncrease\": 239737.0, \"death\": 305106.0, \"deathIncrease\": 2866.0, \"positiveRate\": 0.109, \"state\": \"US\", \"sma7d\": 0.113}, {\"date\": \"2020-12-19T00:00:00\", \"totalTestResultsIncrease\": 1762484.0, \"positiveIncrease\": 203346.0, \"death\": 307814.0, \"deathIncrease\": 2708.0, \"positiveRate\": 0.115, \"state\": \"US\", \"sma7d\": 0.112}, {\"date\": \"2020-12-20T00:00:00\", \"totalTestResultsIncrease\": 1792080.0, \"positiveIncrease\": 196963.0, \"death\": 309482.0, \"deathIncrease\": 1668.0, \"positiveRate\": 0.11, \"state\": \"US\", \"sma7d\": 0.113}, {\"date\": \"2020-12-21T00:00:00\", \"totalTestResultsIncrease\": 2025427.0, \"positiveIncrease\": 178997.0, \"death\": 310962.0, \"deathIncrease\": 1480.0, \"positiveRate\": 0.088, \"state\": \"US\", \"sma7d\": 0.112}, {\"date\": \"2020-12-22T00:00:00\", \"totalTestResultsIncrease\": 1727489.0, \"positiveIncrease\": 190132.0, \"death\": 314099.0, \"deathIncrease\": 3137.0, \"positiveRate\": 0.11, \"state\": \"US\", \"sma7d\": 0.113}, {\"date\": \"2020-12-23T00:00:00\", \"totalTestResultsIncrease\": 1740033.0, \"positiveIncrease\": 221906.0, \"death\": 317492.0, \"deathIncrease\": 3393.0, \"positiveRate\": 0.128, \"state\": \"US\", \"sma7d\": 0.113}, {\"date\": \"2020-12-24T00:00:00\", \"totalTestResultsIncrease\": 1936907.0, \"positiveIncrease\": 204297.0, \"death\": 320450.0, \"deathIncrease\": 2958.0, \"positiveRate\": 0.105, \"state\": \"US\", \"sma7d\": 0.109}, {\"date\": \"2020-12-25T00:00:00\", \"totalTestResultsIncrease\": 1373275.0, \"positiveIncrease\": 125867.0, \"death\": 322003.0, \"deathIncrease\": 1553.0, \"positiveRate\": 0.092, \"state\": \"US\", \"sma7d\": 0.107}, {\"date\": \"2020-12-26T00:00:00\", \"totalTestResultsIncrease\": 2122061.0, \"positiveIncrease\": 190115.0, \"death\": 323429.0, \"deathIncrease\": 1426.0, \"positiveRate\": 0.09, \"state\": \"US\", \"sma7d\": 0.103}, {\"date\": \"2020-12-27T00:00:00\", \"totalTestResultsIncrease\": 1340340.0, \"positiveIncrease\": 152978.0, \"death\": 324826.0, \"deathIncrease\": 1397.0, \"positiveRate\": 0.114, \"state\": \"US\", \"sma7d\": 0.104}, {\"date\": \"2020-12-28T00:00:00\", \"totalTestResultsIncrease\": 1476860.0, \"positiveIncrease\": 163338.0, \"death\": 326316.0, \"deathIncrease\": 1490.0, \"positiveRate\": 0.111, \"state\": \"US\", \"sma7d\": 0.107}, {\"date\": \"2020-12-29T00:00:00\", \"totalTestResultsIncrease\": 1291843.0, \"positiveIncrease\": 196082.0, \"death\": 329605.0, \"deathIncrease\": 3289.0, \"positiveRate\": 0.152, \"state\": \"US\", \"sma7d\": 0.113}, {\"date\": \"2020-12-30T00:00:00\", \"totalTestResultsIncrease\": 1534374.0, \"positiveIncrease\": 225908.0, \"death\": 333505.0, \"deathIncrease\": 3900.0, \"positiveRate\": 0.147, \"state\": \"US\", \"sma7d\": 0.116}, {\"date\": \"2020-12-31T00:00:00\", \"totalTestResultsIncrease\": 1747745.0, \"positiveIncrease\": 223036.0, \"death\": 336802.0, \"deathIncrease\": 3297.0, \"positiveRate\": 0.128, \"state\": \"US\", \"sma7d\": 0.119}, {\"date\": \"2021-01-01T00:00:00\", \"totalTestResultsIncrease\": 1360209.0, \"positiveIncrease\": 180488.0, \"death\": 339394.0, \"deathIncrease\": 2592.0, \"positiveRate\": 0.133, \"state\": \"US\", \"sma7d\": 0.125}, {\"date\": \"2021-01-02T00:00:00\", \"totalTestResultsIncrease\": 2060220.0, \"positiveIncrease\": 279389.0, \"death\": 341800.0, \"deathIncrease\": 2406.0, \"positiveRate\": 0.136, \"state\": \"US\", \"sma7d\": 0.132}, {\"date\": \"2021-01-03T00:00:00\", \"totalTestResultsIncrease\": 1401449.0, \"positiveIncrease\": 207756.0, \"death\": 343255.0, \"deathIncrease\": 1455.0, \"positiveRate\": 0.148, \"state\": \"US\", \"sma7d\": 0.136}, {\"date\": \"2021-01-04T00:00:00\", \"totalTestResultsIncrease\": 1568546.0, \"positiveIncrease\": 178438.0, \"death\": 344802.0, \"deathIncrease\": 1547.0, \"positiveRate\": 0.114, \"state\": \"US\", \"sma7d\": 0.137}, {\"date\": \"2021-01-05T00:00:00\", \"totalTestResultsIncrease\": 1678839.0, \"positiveIncrease\": 215086.0, \"death\": 348286.0, \"deathIncrease\": 3484.0, \"positiveRate\": 0.128, \"state\": \"US\", \"sma7d\": 0.133}, {\"date\": \"2021-01-06T00:00:00\", \"totalTestResultsIncrease\": 1600829.0, \"positiveIncrease\": 248086.0, \"death\": 352188.0, \"deathIncrease\": 3902.0, \"positiveRate\": 0.155, \"state\": \"US\", \"sma7d\": 0.135}, {\"date\": \"2021-01-07T00:00:00\", \"totalTestResultsIncrease\": 1915218.0, \"positiveIncrease\": 269325.0, \"death\": 356267.0, \"deathIncrease\": 4079.0, \"positiveRate\": 0.141, \"state\": \"US\", \"sma7d\": 0.136}, {\"date\": \"2021-01-08T00:00:00\", \"totalTestResultsIncrease\": 2117440.0, \"positiveIncrease\": 292204.0, \"death\": 360047.0, \"deathIncrease\": 3780.0, \"positiveRate\": 0.138, \"state\": \"US\", \"sma7d\": 0.137}, {\"date\": \"2021-01-09T00:00:00\", \"totalTestResultsIncrease\": 2064103.0, \"positiveIncrease\": 266399.0, \"death\": 363584.0, \"deathIncrease\": 3537.0, \"positiveRate\": 0.129, \"state\": \"US\", \"sma7d\": 0.136}, {\"date\": \"2021-01-10T00:00:00\", \"totalTestResultsIncrease\": 1987882.0, \"positiveIncrease\": 227708.0, \"death\": 365652.0, \"deathIncrease\": 2068.0, \"positiveRate\": 0.115, \"state\": \"US\", \"sma7d\": 0.131}, {\"date\": \"2021-01-11T00:00:00\", \"totalTestResultsIncrease\": 1843844.0, \"positiveIncrease\": 194140.0, \"death\": 367385.0, \"deathIncrease\": 1733.0, \"positiveRate\": 0.105, \"state\": \"US\", \"sma7d\": 0.13}, {\"date\": \"2021-01-12T00:00:00\", \"totalTestResultsIncrease\": 1924459.0, \"positiveIncrease\": 214809.0, \"death\": 371449.0, \"deathIncrease\": 4064.0, \"positiveRate\": 0.112, \"state\": \"US\", \"sma7d\": 0.128}, {\"date\": \"2021-01-13T00:00:00\", \"totalTestResultsIncrease\": 1780441.0, \"positiveIncrease\": 218684.0, \"death\": 375245.0, \"deathIncrease\": 4020.0, \"positiveRate\": 0.123, \"state\": \"US\", \"sma7d\": 0.123}]}}, {\"mode\": \"vega-lite\"});\n",
       "</script>"
      ],
      "text/plain": [
       "alt.LayerChart(...)"
      ]
     },
     "execution_count": 8,
     "metadata": {},
     "output_type": "execute_result"
    }
   ],
   "source": [
    "create_plot(us, 'positiveRate')"
   ]
  },
  {
   "cell_type": "code",
   "execution_count": 9,
   "metadata": {
    "execution": {
     "iopub.execute_input": "2021-01-14T09:50:56.959465Z",
     "iopub.status.busy": "2021-01-14T09:50:56.958938Z",
     "iopub.status.idle": "2021-01-14T09:50:57.047857Z",
     "shell.execute_reply": "2021-01-14T09:50:57.048368Z"
    },
    "papermill": {
     "duration": 0.106914,
     "end_time": "2021-01-14T09:50:57.048541",
     "exception": false,
     "start_time": "2021-01-14T09:50:56.941627",
     "status": "completed"
    },
    "tags": []
   },
   "outputs": [
    {
     "data": {
      "text/html": [
       "\n",
       "<div id=\"altair-viz-3939e610e15649f2a9097559cee7eac6\"></div>\n",
       "<script type=\"text/javascript\">\n",
       "  (function(spec, embedOpt){\n",
       "    let outputDiv = document.currentScript.previousElementSibling;\n",
       "    if (outputDiv.id !== \"altair-viz-3939e610e15649f2a9097559cee7eac6\") {\n",
       "      outputDiv = document.getElementById(\"altair-viz-3939e610e15649f2a9097559cee7eac6\");\n",
       "    }\n",
       "    const paths = {\n",
       "      \"vega\": \"https://cdn.jsdelivr.net/npm//vega@5?noext\",\n",
       "      \"vega-lib\": \"https://cdn.jsdelivr.net/npm//vega-lib?noext\",\n",
       "      \"vega-lite\": \"https://cdn.jsdelivr.net/npm//vega-lite@4.8.1?noext\",\n",
       "      \"vega-embed\": \"https://cdn.jsdelivr.net/npm//vega-embed@6?noext\",\n",
       "    };\n",
       "\n",
       "    function loadScript(lib) {\n",
       "      return new Promise(function(resolve, reject) {\n",
       "        var s = document.createElement('script');\n",
       "        s.src = paths[lib];\n",
       "        s.async = true;\n",
       "        s.onload = () => resolve(paths[lib]);\n",
       "        s.onerror = () => reject(`Error loading script: ${paths[lib]}`);\n",
       "        document.getElementsByTagName(\"head\")[0].appendChild(s);\n",
       "      });\n",
       "    }\n",
       "\n",
       "    function showError(err) {\n",
       "      outputDiv.innerHTML = `<div class=\"error\" style=\"color:red;\">${err}</div>`;\n",
       "      throw err;\n",
       "    }\n",
       "\n",
       "    function displayChart(vegaEmbed) {\n",
       "      vegaEmbed(outputDiv, spec, embedOpt)\n",
       "        .catch(err => showError(`Javascript Error: ${err.message}<br>This usually means there's a typo in your chart specification. See the javascript console for the full traceback.`));\n",
       "    }\n",
       "\n",
       "    if(typeof define === \"function\" && define.amd) {\n",
       "      requirejs.config({paths});\n",
       "      require([\"vega-embed\"], displayChart, err => showError(`Error loading script: ${err.message}`));\n",
       "    } else if (typeof vegaEmbed === \"function\") {\n",
       "      displayChart(vegaEmbed);\n",
       "    } else {\n",
       "      loadScript(\"vega\")\n",
       "        .then(() => loadScript(\"vega-lite\"))\n",
       "        .then(() => loadScript(\"vega-embed\"))\n",
       "        .catch(showError)\n",
       "        .then(() => displayChart(vegaEmbed));\n",
       "    }\n",
       "  })({\"config\": {\"view\": {\"continuousWidth\": 400, \"continuousHeight\": 300}}, \"layer\": [{\"layer\": [{\"mark\": {\"type\": \"point\", \"size\": 75}, \"encoding\": {\"tooltip\": [{\"type\": \"temporal\", \"field\": \"date\"}, {\"type\": \"quantitative\", \"field\": \"deathIncrease\"}, {\"type\": \"quantitative\", \"field\": \"sma7d\"}], \"x\": {\"type\": \"temporal\", \"field\": \"date\"}, \"y\": {\"type\": \"quantitative\", \"field\": \"deathIncrease\"}}, \"selection\": {\"selector006\": {\"type\": \"interval\", \"bind\": \"scales\", \"encodings\": [\"x\", \"y\"]}}}, {\"mark\": {\"type\": \"line\", \"color\": \"purple\"}, \"encoding\": {\"x\": {\"type\": \"temporal\", \"field\": \"date\"}, \"y\": {\"type\": \"quantitative\", \"field\": \"sma7d\"}}}]}, {\"mark\": {\"type\": \"rule\", \"color\": \"#aaa\"}, \"encoding\": {\"x\": {\"type\": \"temporal\", \"field\": \"date\"}}, \"transform\": [{\"filter\": {\"selection\": \"selector005\"}}]}, {\"mark\": \"circle\", \"encoding\": {\"opacity\": {\"condition\": {\"value\": 1, \"selection\": \"selector005\"}, \"value\": 0}, \"tooltip\": [{\"type\": \"temporal\", \"field\": \"date\"}, {\"type\": \"quantitative\", \"field\": \"deathIncrease\"}, {\"type\": \"quantitative\", \"field\": \"sma7d\"}], \"x\": {\"type\": \"temporal\", \"field\": \"date\"}, \"y\": {\"type\": \"quantitative\", \"field\": \"deathIncrease\"}}, \"selection\": {\"selector005\": {\"type\": \"single\", \"encodings\": [\"x\"], \"on\": \"mouseover\", \"nearest\": true, \"empty\": \"none\"}}}, {\"mark\": {\"type\": \"text\", \"align\": \"left\", \"dx\": 5, \"dy\": -5, \"stroke\": \"white\", \"strokeWidth\": 2}, \"encoding\": {\"text\": {\"type\": \"quantitative\", \"field\": \"deathIncrease\"}, \"tooltip\": [{\"type\": \"temporal\", \"field\": \"date\"}, {\"type\": \"quantitative\", \"field\": \"deathIncrease\"}, {\"type\": \"quantitative\", \"field\": \"sma7d\"}], \"x\": {\"type\": \"temporal\", \"field\": \"date\"}, \"y\": {\"type\": \"quantitative\", \"field\": \"deathIncrease\"}}, \"transform\": [{\"filter\": {\"selection\": \"selector005\"}}]}, {\"mark\": {\"type\": \"text\", \"align\": \"left\", \"dx\": 5, \"dy\": -5}, \"encoding\": {\"text\": {\"type\": \"quantitative\", \"field\": \"deathIncrease\"}, \"tooltip\": [{\"type\": \"temporal\", \"field\": \"date\"}, {\"type\": \"quantitative\", \"field\": \"deathIncrease\"}, {\"type\": \"quantitative\", \"field\": \"sma7d\"}], \"x\": {\"type\": \"temporal\", \"field\": \"date\"}, \"y\": {\"type\": \"quantitative\", \"field\": \"deathIncrease\"}}, \"transform\": [{\"filter\": {\"selection\": \"selector005\"}}]}], \"data\": {\"name\": \"data-dd026bbd2ccb80ae851a692b72615b78\"}, \"height\": 400, \"title\": \"US: deathIncrease\", \"width\": 500, \"$schema\": \"https://vega.github.io/schema/vega-lite/v4.8.1.json\", \"datasets\": {\"data-dd026bbd2ccb80ae851a692b72615b78\": [{\"date\": \"2020-11-20T00:00:00\", \"totalTestResultsIncrease\": 1939886.0, \"positiveIncrease\": 196494.0, \"death\": 246090.0, \"deathIncrease\": 1910.0, \"positiveRate\": 0.101, \"state\": \"US\", \"sma7d\": 1432.857}, {\"date\": \"2020-11-21T00:00:00\", \"totalTestResultsIncrease\": 2050730.0, \"positiveIncrease\": 183201.0, \"death\": 247641.0, \"deathIncrease\": 1551.0, \"positiveRate\": 0.089, \"state\": \"US\", \"sma7d\": 1461.143}, {\"date\": \"2020-11-22T00:00:00\", \"totalTestResultsIncrease\": 1771163.0, \"positiveIncrease\": 153836.0, \"death\": 248564.0, \"deathIncrease\": 923.0, \"positiveRate\": 0.087, \"state\": \"US\", \"sma7d\": 1491.286}, {\"date\": \"2020-11-23T00:00:00\", \"totalTestResultsIncrease\": 1748897.0, \"positiveIncrease\": 154581.0, \"death\": 249417.0, \"deathIncrease\": 853.0, \"positiveRate\": 0.088, \"state\": \"US\", \"sma7d\": 1526.429}, {\"date\": \"2020-11-24T00:00:00\", \"totalTestResultsIncrease\": 1805620.0, \"positiveIncrease\": 165251.0, \"death\": 251508.0, \"deathIncrease\": 2091.0, \"positiveRate\": 0.092, \"state\": \"US\", \"sma7d\": 1603.286}, {\"date\": \"2020-11-25T00:00:00\", \"totalTestResultsIncrease\": 1828813.0, \"positiveIncrease\": 187677.0, \"death\": 253789.0, \"deathIncrease\": 2281.0, \"positiveRate\": 0.103, \"state\": \"US\", \"sma7d\": 1659.857}, {\"date\": \"2020-11-26T00:00:00\", \"totalTestResultsIncrease\": 1331056.0, \"positiveIncrease\": 129063.0, \"death\": 255181.0, \"deathIncrease\": 1392.0, \"positiveRate\": 0.097, \"state\": \"US\", \"sma7d\": 1571.571}, {\"date\": \"2020-11-27T00:00:00\", \"totalTestResultsIncrease\": 2043917.0, \"positiveIncrease\": 198259.0, \"death\": 256585.0, \"deathIncrease\": 1404.0, \"positiveRate\": 0.097, \"state\": \"US\", \"sma7d\": 1499.286}, {\"date\": \"2020-11-28T00:00:00\", \"totalTestResultsIncrease\": 1616060.0, \"positiveIncrease\": 151064.0, \"death\": 257828.0, \"deathIncrease\": 1243.0, \"positiveRate\": 0.093, \"state\": \"US\", \"sma7d\": 1455.286}, {\"date\": \"2020-11-29T00:00:00\", \"totalTestResultsIncrease\": 1286929.0, \"positiveIncrease\": 136967.0, \"death\": 258653.0, \"deathIncrease\": 825.0, \"positiveRate\": 0.106, \"state\": \"US\", \"sma7d\": 1441.286}, {\"date\": \"2020-11-30T00:00:00\", \"totalTestResultsIncrease\": 1612731.0, \"positiveIncrease\": 149516.0, \"death\": 259690.0, \"deathIncrease\": 1037.0, \"positiveRate\": 0.093, \"state\": \"US\", \"sma7d\": 1467.571}, {\"date\": \"2020-12-01T00:00:00\", \"totalTestResultsIncrease\": 1456016.0, \"positiveIncrease\": 179137.0, \"death\": 262179.0, \"deathIncrease\": 2489.0, \"positiveRate\": 0.123, \"state\": \"US\", \"sma7d\": 1524.429}, {\"date\": \"2020-12-02T00:00:00\", \"totalTestResultsIncrease\": 1559671.0, \"positiveIncrease\": 201746.0, \"death\": 264990.0, \"deathIncrease\": 2811.0, \"positiveRate\": 0.129, \"state\": \"US\", \"sma7d\": 1600.143}, {\"date\": \"2020-12-03T00:00:00\", \"totalTestResultsIncrease\": 1892944.0, \"positiveIncrease\": 214805.0, \"death\": 267812.0, \"deathIncrease\": 2822.0, \"positiveRate\": 0.113, \"state\": \"US\", \"sma7d\": 1804.429}, {\"date\": \"2020-12-04T00:00:00\", \"totalTestResultsIncrease\": 1861622.0, \"positiveIncrease\": 228884.0, \"death\": 270375.0, \"deathIncrease\": 2563.0, \"positiveRate\": 0.123, \"state\": \"US\", \"sma7d\": 1970.0}, {\"date\": \"2020-12-05T00:00:00\", \"totalTestResultsIncrease\": 2221953.0, \"positiveIncrease\": 217770.0, \"death\": 272861.0, \"deathIncrease\": 2486.0, \"positiveRate\": 0.098, \"state\": \"US\", \"sma7d\": 2147.571}, {\"date\": \"2020-12-06T00:00:00\", \"totalTestResultsIncrease\": 1620226.0, \"positiveIncrease\": 182351.0, \"death\": 274024.0, \"deathIncrease\": 1163.0, \"positiveRate\": 0.113, \"state\": \"US\", \"sma7d\": 2195.857}, {\"date\": \"2020-12-07T00:00:00\", \"totalTestResultsIncrease\": 1725636.0, \"positiveIncrease\": 181473.0, \"death\": 275315.0, \"deathIncrease\": 1291.0, \"positiveRate\": 0.105, \"state\": \"US\", \"sma7d\": 2232.143}, {\"date\": \"2020-12-08T00:00:00\", \"totalTestResultsIncrease\": 1652188.0, \"positiveIncrease\": 215953.0, \"death\": 277995.0, \"deathIncrease\": 2680.0, \"positiveRate\": 0.131, \"state\": \"US\", \"sma7d\": 2259.429}, {\"date\": \"2020-12-09T00:00:00\", \"totalTestResultsIncrease\": 1803813.0, \"positiveIncrease\": 214960.0, \"death\": 281164.0, \"deathIncrease\": 3169.0, \"positiveRate\": 0.119, \"state\": \"US\", \"sma7d\": 2310.571}, {\"date\": \"2020-12-10T00:00:00\", \"totalTestResultsIncrease\": 1887187.0, \"positiveIncrease\": 219285.0, \"death\": 284296.0, \"deathIncrease\": 3132.0, \"positiveRate\": 0.116, \"state\": \"US\", \"sma7d\": 2354.857}, {\"date\": \"2020-12-11T00:00:00\", \"totalTestResultsIncrease\": 1987199.0, \"positiveIncrease\": 235471.0, \"death\": 287043.0, \"deathIncrease\": 2747.0, \"positiveRate\": 0.118, \"state\": \"US\", \"sma7d\": 2381.143}, {\"date\": \"2020-12-12T00:00:00\", \"totalTestResultsIncrease\": 1834747.0, \"positiveIncrease\": 225287.0, \"death\": 289540.0, \"deathIncrease\": 2497.0, \"positiveRate\": 0.123, \"state\": \"US\", \"sma7d\": 2382.714}, {\"date\": \"2020-12-13T00:00:00\", \"totalTestResultsIncrease\": 1770163.0, \"positiveIncrease\": 186763.0, \"death\": 291041.0, \"deathIncrease\": 1501.0, \"positiveRate\": 0.106, \"state\": \"US\", \"sma7d\": 2431.0}, {\"date\": \"2020-12-14T00:00:00\", \"totalTestResultsIncrease\": 2095868.0, \"positiveIncrease\": 192862.0, \"death\": 292398.0, \"deathIncrease\": 1357.0, \"positiveRate\": 0.092, \"state\": \"US\", \"sma7d\": 2440.429}, {\"date\": \"2020-12-15T00:00:00\", \"totalTestResultsIncrease\": 1797070.0, \"positiveIncrease\": 190593.0, \"death\": 295322.0, \"deathIncrease\": 2924.0, \"positiveRate\": 0.106, \"state\": \"US\", \"sma7d\": 2475.286}, {\"date\": \"2020-12-16T00:00:00\", \"totalTestResultsIncrease\": 1802086.0, \"positiveIncrease\": 231850.0, \"death\": 298775.0, \"deathIncrease\": 3453.0, \"positiveRate\": 0.129, \"state\": \"US\", \"sma7d\": 2515.857}, {\"date\": \"2020-12-17T00:00:00\", \"totalTestResultsIncrease\": 1864588.0, \"positiveIncrease\": 241028.0, \"death\": 302240.0, \"deathIncrease\": 3465.0, \"positiveRate\": 0.129, \"state\": \"US\", \"sma7d\": 2563.429}, {\"date\": \"2020-12-18T00:00:00\", \"totalTestResultsIncrease\": 2197746.0, \"positiveIncrease\": 239737.0, \"death\": 305106.0, \"deathIncrease\": 2866.0, \"positiveRate\": 0.109, \"state\": \"US\", \"sma7d\": 2580.429}, {\"date\": \"2020-12-19T00:00:00\", \"totalTestResultsIncrease\": 1762484.0, \"positiveIncrease\": 203346.0, \"death\": 307814.0, \"deathIncrease\": 2708.0, \"positiveRate\": 0.115, \"state\": \"US\", \"sma7d\": 2610.571}, {\"date\": \"2020-12-20T00:00:00\", \"totalTestResultsIncrease\": 1792080.0, \"positiveIncrease\": 196963.0, \"death\": 309482.0, \"deathIncrease\": 1668.0, \"positiveRate\": 0.11, \"state\": \"US\", \"sma7d\": 2634.429}, {\"date\": \"2020-12-21T00:00:00\", \"totalTestResultsIncrease\": 2025427.0, \"positiveIncrease\": 178997.0, \"death\": 310962.0, \"deathIncrease\": 1480.0, \"positiveRate\": 0.088, \"state\": \"US\", \"sma7d\": 2652.0}, {\"date\": \"2020-12-22T00:00:00\", \"totalTestResultsIncrease\": 1727489.0, \"positiveIncrease\": 190132.0, \"death\": 314099.0, \"deathIncrease\": 3137.0, \"positiveRate\": 0.11, \"state\": \"US\", \"sma7d\": 2682.429}, {\"date\": \"2020-12-23T00:00:00\", \"totalTestResultsIncrease\": 1740033.0, \"positiveIncrease\": 221906.0, \"death\": 317492.0, \"deathIncrease\": 3393.0, \"positiveRate\": 0.128, \"state\": \"US\", \"sma7d\": 2673.857}, {\"date\": \"2020-12-24T00:00:00\", \"totalTestResultsIncrease\": 1936907.0, \"positiveIncrease\": 204297.0, \"death\": 320450.0, \"deathIncrease\": 2958.0, \"positiveRate\": 0.105, \"state\": \"US\", \"sma7d\": 2601.429}, {\"date\": \"2020-12-25T00:00:00\", \"totalTestResultsIncrease\": 1373275.0, \"positiveIncrease\": 125867.0, \"death\": 322003.0, \"deathIncrease\": 1553.0, \"positiveRate\": 0.092, \"state\": \"US\", \"sma7d\": 2413.857}, {\"date\": \"2020-12-26T00:00:00\", \"totalTestResultsIncrease\": 2122061.0, \"positiveIncrease\": 190115.0, \"death\": 323429.0, \"deathIncrease\": 1426.0, \"positiveRate\": 0.09, \"state\": \"US\", \"sma7d\": 2230.714}, {\"date\": \"2020-12-27T00:00:00\", \"totalTestResultsIncrease\": 1340340.0, \"positiveIncrease\": 152978.0, \"death\": 324826.0, \"deathIncrease\": 1397.0, \"positiveRate\": 0.114, \"state\": \"US\", \"sma7d\": 2192.0}, {\"date\": \"2020-12-28T00:00:00\", \"totalTestResultsIncrease\": 1476860.0, \"positiveIncrease\": 163338.0, \"death\": 326316.0, \"deathIncrease\": 1490.0, \"positiveRate\": 0.111, \"state\": \"US\", \"sma7d\": 2193.429}, {\"date\": \"2020-12-29T00:00:00\", \"totalTestResultsIncrease\": 1291843.0, \"positiveIncrease\": 196082.0, \"death\": 329605.0, \"deathIncrease\": 3289.0, \"positiveRate\": 0.152, \"state\": \"US\", \"sma7d\": 2215.143}, {\"date\": \"2020-12-30T00:00:00\", \"totalTestResultsIncrease\": 1534374.0, \"positiveIncrease\": 225908.0, \"death\": 333505.0, \"deathIncrease\": 3900.0, \"positiveRate\": 0.147, \"state\": \"US\", \"sma7d\": 2287.571}, {\"date\": \"2020-12-31T00:00:00\", \"totalTestResultsIncrease\": 1747745.0, \"positiveIncrease\": 223036.0, \"death\": 336802.0, \"deathIncrease\": 3297.0, \"positiveRate\": 0.128, \"state\": \"US\", \"sma7d\": 2336.0}, {\"date\": \"2021-01-01T00:00:00\", \"totalTestResultsIncrease\": 1360209.0, \"positiveIncrease\": 180488.0, \"death\": 339394.0, \"deathIncrease\": 2592.0, \"positiveRate\": 0.133, \"state\": \"US\", \"sma7d\": 2484.429}, {\"date\": \"2021-01-02T00:00:00\", \"totalTestResultsIncrease\": 2060220.0, \"positiveIncrease\": 279389.0, \"death\": 341800.0, \"deathIncrease\": 2406.0, \"positiveRate\": 0.136, \"state\": \"US\", \"sma7d\": 2624.429}, {\"date\": \"2021-01-03T00:00:00\", \"totalTestResultsIncrease\": 1401449.0, \"positiveIncrease\": 207756.0, \"death\": 343255.0, \"deathIncrease\": 1455.0, \"positiveRate\": 0.148, \"state\": \"US\", \"sma7d\": 2632.714}, {\"date\": \"2021-01-04T00:00:00\", \"totalTestResultsIncrease\": 1568546.0, \"positiveIncrease\": 178438.0, \"death\": 344802.0, \"deathIncrease\": 1547.0, \"positiveRate\": 0.114, \"state\": \"US\", \"sma7d\": 2640.857}, {\"date\": \"2021-01-05T00:00:00\", \"totalTestResultsIncrease\": 1678839.0, \"positiveIncrease\": 215086.0, \"death\": 348286.0, \"deathIncrease\": 3484.0, \"positiveRate\": 0.128, \"state\": \"US\", \"sma7d\": 2668.714}, {\"date\": \"2021-01-06T00:00:00\", \"totalTestResultsIncrease\": 1600829.0, \"positiveIncrease\": 248086.0, \"death\": 352188.0, \"deathIncrease\": 3902.0, \"positiveRate\": 0.155, \"state\": \"US\", \"sma7d\": 2669.0}, {\"date\": \"2021-01-07T00:00:00\", \"totalTestResultsIncrease\": 1915218.0, \"positiveIncrease\": 269325.0, \"death\": 356267.0, \"deathIncrease\": 4079.0, \"positiveRate\": 0.141, \"state\": \"US\", \"sma7d\": 2780.714}, {\"date\": \"2021-01-08T00:00:00\", \"totalTestResultsIncrease\": 2117440.0, \"positiveIncrease\": 292204.0, \"death\": 360047.0, \"deathIncrease\": 3780.0, \"positiveRate\": 0.138, \"state\": \"US\", \"sma7d\": 2950.429}, {\"date\": \"2021-01-09T00:00:00\", \"totalTestResultsIncrease\": 2064103.0, \"positiveIncrease\": 266399.0, \"death\": 363584.0, \"deathIncrease\": 3537.0, \"positiveRate\": 0.129, \"state\": \"US\", \"sma7d\": 3112.0}, {\"date\": \"2021-01-10T00:00:00\", \"totalTestResultsIncrease\": 1987882.0, \"positiveIncrease\": 227708.0, \"death\": 365652.0, \"deathIncrease\": 2068.0, \"positiveRate\": 0.115, \"state\": \"US\", \"sma7d\": 3199.571}, {\"date\": \"2021-01-11T00:00:00\", \"totalTestResultsIncrease\": 1843844.0, \"positiveIncrease\": 194140.0, \"death\": 367385.0, \"deathIncrease\": 1733.0, \"positiveRate\": 0.105, \"state\": \"US\", \"sma7d\": 3226.143}, {\"date\": \"2021-01-12T00:00:00\", \"totalTestResultsIncrease\": 1924459.0, \"positiveIncrease\": 214809.0, \"death\": 371449.0, \"deathIncrease\": 4064.0, \"positiveRate\": 0.112, \"state\": \"US\", \"sma7d\": 3309.0}, {\"date\": \"2021-01-13T00:00:00\", \"totalTestResultsIncrease\": 1780441.0, \"positiveIncrease\": 218684.0, \"death\": 375245.0, \"deathIncrease\": 4020.0, \"positiveRate\": 0.123, \"state\": \"US\", \"sma7d\": 3325.857}]}}, {\"mode\": \"vega-lite\"});\n",
       "</script>"
      ],
      "text/plain": [
       "alt.LayerChart(...)"
      ]
     },
     "execution_count": 9,
     "metadata": {},
     "output_type": "execute_result"
    }
   ],
   "source": [
    "create_plot(us, 'deathIncrease')"
   ]
  },
  {
   "cell_type": "markdown",
   "metadata": {
    "papermill": {
     "duration": 0.014523,
     "end_time": "2021-01-14T09:50:57.082001",
     "exception": false,
     "start_time": "2021-01-14T09:50:57.067478",
     "status": "completed"
    },
    "tags": []
   },
   "source": [
    "## NY"
   ]
  },
  {
   "cell_type": "code",
   "execution_count": 10,
   "metadata": {
    "execution": {
     "iopub.execute_input": "2021-01-14T09:50:57.115640Z",
     "iopub.status.busy": "2021-01-14T09:50:57.115127Z",
     "iopub.status.idle": "2021-01-14T09:50:57.441825Z",
     "shell.execute_reply": "2021-01-14T09:50:57.441242Z"
    },
    "papermill": {
     "duration": 0.34551,
     "end_time": "2021-01-14T09:50:57.441969",
     "exception": false,
     "start_time": "2021-01-14T09:50:57.096459",
     "status": "completed"
    },
    "tags": []
   },
   "outputs": [],
   "source": [
    "ny = create_df(df, (lambda d: d['state'] == 'NY'), 'New York')"
   ]
  },
  {
   "cell_type": "code",
   "execution_count": 11,
   "metadata": {
    "execution": {
     "iopub.execute_input": "2021-01-14T09:50:57.481788Z",
     "iopub.status.busy": "2021-01-14T09:50:57.481256Z",
     "iopub.status.idle": "2021-01-14T09:50:57.570161Z",
     "shell.execute_reply": "2021-01-14T09:50:57.570637Z"
    },
    "papermill": {
     "duration": 0.110618,
     "end_time": "2021-01-14T09:50:57.570825",
     "exception": false,
     "start_time": "2021-01-14T09:50:57.460207",
     "status": "completed"
    },
    "tags": []
   },
   "outputs": [
    {
     "data": {
      "text/html": [
       "\n",
       "<div id=\"altair-viz-faa17444f4ca4fc4b914f7e350d946e6\"></div>\n",
       "<script type=\"text/javascript\">\n",
       "  (function(spec, embedOpt){\n",
       "    let outputDiv = document.currentScript.previousElementSibling;\n",
       "    if (outputDiv.id !== \"altair-viz-faa17444f4ca4fc4b914f7e350d946e6\") {\n",
       "      outputDiv = document.getElementById(\"altair-viz-faa17444f4ca4fc4b914f7e350d946e6\");\n",
       "    }\n",
       "    const paths = {\n",
       "      \"vega\": \"https://cdn.jsdelivr.net/npm//vega@5?noext\",\n",
       "      \"vega-lib\": \"https://cdn.jsdelivr.net/npm//vega-lib?noext\",\n",
       "      \"vega-lite\": \"https://cdn.jsdelivr.net/npm//vega-lite@4.8.1?noext\",\n",
       "      \"vega-embed\": \"https://cdn.jsdelivr.net/npm//vega-embed@6?noext\",\n",
       "    };\n",
       "\n",
       "    function loadScript(lib) {\n",
       "      return new Promise(function(resolve, reject) {\n",
       "        var s = document.createElement('script');\n",
       "        s.src = paths[lib];\n",
       "        s.async = true;\n",
       "        s.onload = () => resolve(paths[lib]);\n",
       "        s.onerror = () => reject(`Error loading script: ${paths[lib]}`);\n",
       "        document.getElementsByTagName(\"head\")[0].appendChild(s);\n",
       "      });\n",
       "    }\n",
       "\n",
       "    function showError(err) {\n",
       "      outputDiv.innerHTML = `<div class=\"error\" style=\"color:red;\">${err}</div>`;\n",
       "      throw err;\n",
       "    }\n",
       "\n",
       "    function displayChart(vegaEmbed) {\n",
       "      vegaEmbed(outputDiv, spec, embedOpt)\n",
       "        .catch(err => showError(`Javascript Error: ${err.message}<br>This usually means there's a typo in your chart specification. See the javascript console for the full traceback.`));\n",
       "    }\n",
       "\n",
       "    if(typeof define === \"function\" && define.amd) {\n",
       "      requirejs.config({paths});\n",
       "      require([\"vega-embed\"], displayChart, err => showError(`Error loading script: ${err.message}`));\n",
       "    } else if (typeof vegaEmbed === \"function\") {\n",
       "      displayChart(vegaEmbed);\n",
       "    } else {\n",
       "      loadScript(\"vega\")\n",
       "        .then(() => loadScript(\"vega-lite\"))\n",
       "        .then(() => loadScript(\"vega-embed\"))\n",
       "        .catch(showError)\n",
       "        .then(() => displayChart(vegaEmbed));\n",
       "    }\n",
       "  })({\"config\": {\"view\": {\"continuousWidth\": 400, \"continuousHeight\": 300}}, \"layer\": [{\"layer\": [{\"mark\": {\"type\": \"point\", \"size\": 75}, \"encoding\": {\"tooltip\": [{\"type\": \"temporal\", \"field\": \"date\"}, {\"type\": \"quantitative\", \"field\": \"positiveIncrease\"}, {\"type\": \"quantitative\", \"field\": \"sma7d\"}], \"x\": {\"type\": \"temporal\", \"field\": \"date\"}, \"y\": {\"type\": \"quantitative\", \"field\": \"positiveIncrease\"}}, \"selection\": {\"selector008\": {\"type\": \"interval\", \"bind\": \"scales\", \"encodings\": [\"x\", \"y\"]}}}, {\"mark\": {\"type\": \"line\", \"color\": \"purple\"}, \"encoding\": {\"x\": {\"type\": \"temporal\", \"field\": \"date\"}, \"y\": {\"type\": \"quantitative\", \"field\": \"sma7d\"}}}]}, {\"mark\": {\"type\": \"rule\", \"color\": \"#aaa\"}, \"encoding\": {\"x\": {\"type\": \"temporal\", \"field\": \"date\"}}, \"transform\": [{\"filter\": {\"selection\": \"selector007\"}}]}, {\"mark\": \"circle\", \"encoding\": {\"opacity\": {\"condition\": {\"value\": 1, \"selection\": \"selector007\"}, \"value\": 0}, \"tooltip\": [{\"type\": \"temporal\", \"field\": \"date\"}, {\"type\": \"quantitative\", \"field\": \"positiveIncrease\"}, {\"type\": \"quantitative\", \"field\": \"sma7d\"}], \"x\": {\"type\": \"temporal\", \"field\": \"date\"}, \"y\": {\"type\": \"quantitative\", \"field\": \"positiveIncrease\"}}, \"selection\": {\"selector007\": {\"type\": \"single\", \"encodings\": [\"x\"], \"on\": \"mouseover\", \"nearest\": true, \"empty\": \"none\"}}}, {\"mark\": {\"type\": \"text\", \"align\": \"left\", \"dx\": 5, \"dy\": -5, \"stroke\": \"white\", \"strokeWidth\": 2}, \"encoding\": {\"text\": {\"type\": \"quantitative\", \"field\": \"positiveIncrease\"}, \"tooltip\": [{\"type\": \"temporal\", \"field\": \"date\"}, {\"type\": \"quantitative\", \"field\": \"positiveIncrease\"}, {\"type\": \"quantitative\", \"field\": \"sma7d\"}], \"x\": {\"type\": \"temporal\", \"field\": \"date\"}, \"y\": {\"type\": \"quantitative\", \"field\": \"positiveIncrease\"}}, \"transform\": [{\"filter\": {\"selection\": \"selector007\"}}]}, {\"mark\": {\"type\": \"text\", \"align\": \"left\", \"dx\": 5, \"dy\": -5}, \"encoding\": {\"text\": {\"type\": \"quantitative\", \"field\": \"positiveIncrease\"}, \"tooltip\": [{\"type\": \"temporal\", \"field\": \"date\"}, {\"type\": \"quantitative\", \"field\": \"positiveIncrease\"}, {\"type\": \"quantitative\", \"field\": \"sma7d\"}], \"x\": {\"type\": \"temporal\", \"field\": \"date\"}, \"y\": {\"type\": \"quantitative\", \"field\": \"positiveIncrease\"}}, \"transform\": [{\"filter\": {\"selection\": \"selector007\"}}]}], \"data\": {\"name\": \"data-9dbf18225eedffbf17de17ffda35bbd9\"}, \"height\": 400, \"title\": \"New York: positiveIncrease\", \"width\": 500, \"$schema\": \"https://vega.github.io/schema/vega-lite/v4.8.1.json\", \"datasets\": {\"data-9dbf18225eedffbf17de17ffda35bbd9\": [{\"date\": \"2020-11-20T00:00:00\", \"totalTestResultsIncrease\": 205466.0, \"positiveIncrease\": 5468.0, \"death\": 26292.0, \"deathIncrease\": 35.0, \"positiveRate\": 0.027, \"state\": \"New York\", \"sma7d\": 4812.429}, {\"date\": \"2020-11-21T00:00:00\", \"totalTestResultsIncrease\": 207907.0, \"positiveIncrease\": 5972.0, \"death\": 26326.0, \"deathIncrease\": 34.0, \"positiveRate\": 0.029, \"state\": \"New York\", \"sma7d\": 4895.857}, {\"date\": \"2020-11-22T00:00:00\", \"totalTestResultsIncrease\": 196610.0, \"positiveIncrease\": 5392.0, \"death\": 26357.0, \"deathIncrease\": 31.0, \"positiveRate\": 0.027, \"state\": \"New York\", \"sma7d\": 5144.857}, {\"date\": \"2020-11-23T00:00:00\", \"totalTestResultsIncrease\": 191489.0, \"positiveIncrease\": 5906.0, \"death\": 26390.0, \"deathIncrease\": 33.0, \"positiveRate\": 0.031, \"state\": \"New York\", \"sma7d\": 5490.0}, {\"date\": \"2020-11-24T00:00:00\", \"totalTestResultsIncrease\": 164761.0, \"positiveIncrease\": 4881.0, \"death\": 26441.0, \"deathIncrease\": 51.0, \"positiveRate\": 0.03, \"state\": \"New York\", \"sma7d\": 5460.429}, {\"date\": \"2020-11-25T00:00:00\", \"totalTestResultsIncrease\": 173085.0, \"positiveIncrease\": 6265.0, \"death\": 26482.0, \"deathIncrease\": 41.0, \"positiveRate\": 0.036, \"state\": \"New York\", \"sma7d\": 5599.143}, {\"date\": \"2020-11-26T00:00:00\", \"totalTestResultsIncrease\": 217721.0, \"positiveIncrease\": 6933.0, \"death\": 26549.0, \"deathIncrease\": 67.0, \"positiveRate\": 0.032, \"state\": \"New York\", \"sma7d\": 5831.0}, {\"date\": \"2020-11-27T00:00:00\", \"totalTestResultsIncrease\": 219442.0, \"positiveIncrease\": 8176.0, \"death\": 26588.0, \"deathIncrease\": 39.0, \"positiveRate\": 0.037, \"state\": \"New York\", \"sma7d\": 6217.857}, {\"date\": \"2020-11-28T00:00:00\", \"totalTestResultsIncrease\": 152355.0, \"positiveIncrease\": 6063.0, \"death\": 26632.0, \"deathIncrease\": 44.0, \"positiveRate\": 0.04, \"state\": \"New York\", \"sma7d\": 6230.857}, {\"date\": \"2020-11-29T00:00:00\", \"totalTestResultsIncrease\": 157320.0, \"positiveIncrease\": 6723.0, \"death\": 26690.0, \"deathIncrease\": 58.0, \"positiveRate\": 0.043, \"state\": \"New York\", \"sma7d\": 6421.0}, {\"date\": \"2020-11-30T00:00:00\", \"totalTestResultsIncrease\": 148974.0, \"positiveIncrease\": 6819.0, \"death\": 26747.0, \"deathIncrease\": 57.0, \"positiveRate\": 0.046, \"state\": \"New York\", \"sma7d\": 6551.429}, {\"date\": \"2020-12-01T00:00:00\", \"totalTestResultsIncrease\": 146675.0, \"positiveIncrease\": 7285.0, \"death\": 26816.0, \"deathIncrease\": 69.0, \"positiveRate\": 0.05, \"state\": \"New York\", \"sma7d\": 6894.857}, {\"date\": \"2020-12-02T00:00:00\", \"totalTestResultsIncrease\": 193551.0, \"positiveIncrease\": 8973.0, \"death\": 26889.0, \"deathIncrease\": 73.0, \"positiveRate\": 0.046, \"state\": \"New York\", \"sma7d\": 7281.714}, {\"date\": \"2020-12-03T00:00:00\", \"totalTestResultsIncrease\": 203440.0, \"positiveIncrease\": 9855.0, \"death\": 26955.0, \"deathIncrease\": 66.0, \"positiveRate\": 0.048, \"state\": \"New York\", \"sma7d\": 7699.143}, {\"date\": \"2020-12-04T00:00:00\", \"totalTestResultsIncrease\": 208297.0, \"positiveIncrease\": 11271.0, \"death\": 27017.0, \"deathIncrease\": 62.0, \"positiveRate\": 0.054, \"state\": \"New York\", \"sma7d\": 8141.286}, {\"date\": \"2020-12-05T00:00:00\", \"totalTestResultsIncrease\": 215401.0, \"positiveIncrease\": 10761.0, \"death\": 27089.0, \"deathIncrease\": 72.0, \"positiveRate\": 0.05, \"state\": \"New York\", \"sma7d\": 8812.429}, {\"date\": \"2020-12-06T00:00:00\", \"totalTestResultsIncrease\": 205832.0, \"positiveIncrease\": 9702.0, \"death\": 27149.0, \"deathIncrease\": 60.0, \"positiveRate\": 0.047, \"state\": \"New York\", \"sma7d\": 9238.0}, {\"date\": \"2020-12-07T00:00:00\", \"totalTestResultsIncrease\": 152287.0, \"positiveIncrease\": 7302.0, \"death\": 27232.0, \"deathIncrease\": 83.0, \"positiveRate\": 0.048, \"state\": \"New York\", \"sma7d\": 9307.0}, {\"date\": \"2020-12-08T00:00:00\", \"totalTestResultsIncrease\": 162464.0, \"positiveIncrease\": 9335.0, \"death\": 27307.0, \"deathIncrease\": 75.0, \"positiveRate\": 0.057, \"state\": \"New York\", \"sma7d\": 9599.857}, {\"date\": \"2020-12-09T00:00:00\", \"totalTestResultsIncrease\": 194595.0, \"positiveIncrease\": 10600.0, \"death\": 27404.0, \"deathIncrease\": 97.0, \"positiveRate\": 0.054, \"state\": \"New York\", \"sma7d\": 9832.286}, {\"date\": \"2020-12-10T00:00:00\", \"totalTestResultsIncrease\": 197406.0, \"positiveIncrease\": 10178.0, \"death\": 27498.0, \"deathIncrease\": 94.0, \"positiveRate\": 0.052, \"state\": \"New York\", \"sma7d\": 9878.429}, {\"date\": \"2020-12-11T00:00:00\", \"totalTestResultsIncrease\": 212672.0, \"positiveIncrease\": 10595.0, \"death\": 27587.0, \"deathIncrease\": 89.0, \"positiveRate\": 0.05, \"state\": \"New York\", \"sma7d\": 9781.857}, {\"date\": \"2020-12-12T00:00:00\", \"totalTestResultsIncrease\": 242927.0, \"positiveIncrease\": 11129.0, \"death\": 27675.0, \"deathIncrease\": 88.0, \"positiveRate\": 0.046, \"state\": \"New York\", \"sma7d\": 9834.429}, {\"date\": \"2020-12-13T00:00:00\", \"totalTestResultsIncrease\": 205250.0, \"positiveIncrease\": 10194.0, \"death\": 27785.0, \"deathIncrease\": 110.0, \"positiveRate\": 0.05, \"state\": \"New York\", \"sma7d\": 9904.714}, {\"date\": \"2020-12-14T00:00:00\", \"totalTestResultsIncrease\": 159844.0, \"positiveIncrease\": 9044.0, \"death\": 27870.0, \"deathIncrease\": 85.0, \"positiveRate\": 0.057, \"state\": \"New York\", \"sma7d\": 10153.571}, {\"date\": \"2020-12-15T00:00:00\", \"totalTestResultsIncrease\": 194188.0, \"positiveIncrease\": 10353.0, \"death\": 28002.0, \"deathIncrease\": 132.0, \"positiveRate\": 0.053, \"state\": \"New York\", \"sma7d\": 10299.0}, {\"date\": \"2020-12-16T00:00:00\", \"totalTestResultsIncrease\": 160947.0, \"positiveIncrease\": 9998.0, \"death\": 28100.0, \"deathIncrease\": 98.0, \"positiveRate\": 0.062, \"state\": \"New York\", \"sma7d\": 10213.0}, {\"date\": \"2020-12-17T00:00:00\", \"totalTestResultsIncrease\": 202772.0, \"positiveIncrease\": 10914.0, \"death\": 28222.0, \"deathIncrease\": 122.0, \"positiveRate\": 0.054, \"state\": \"New York\", \"sma7d\": 10318.143}, {\"date\": \"2020-12-18T00:00:00\", \"totalTestResultsIncrease\": 249385.0, \"positiveIncrease\": 12697.0, \"death\": 28344.0, \"deathIncrease\": 122.0, \"positiveRate\": 0.051, \"state\": \"New York\", \"sma7d\": 10618.429}, {\"date\": \"2020-12-19T00:00:00\", \"totalTestResultsIncrease\": 191476.0, \"positiveIncrease\": 9919.0, \"death\": 28474.0, \"deathIncrease\": 130.0, \"positiveRate\": 0.052, \"state\": \"New York\", \"sma7d\": 10445.571}, {\"date\": \"2020-12-20T00:00:00\", \"totalTestResultsIncrease\": 197251.0, \"positiveIncrease\": 9957.0, \"death\": 28598.0, \"deathIncrease\": 124.0, \"positiveRate\": 0.05, \"state\": \"New York\", \"sma7d\": 10411.714}, {\"date\": \"2020-12-21T00:00:00\", \"totalTestResultsIncrease\": 156510.0, \"positiveIncrease\": 9007.0, \"death\": 28709.0, \"deathIncrease\": 111.0, \"positiveRate\": 0.058, \"state\": \"New York\", \"sma7d\": 10406.429}, {\"date\": \"2020-12-22T00:00:00\", \"totalTestResultsIncrease\": 164868.0, \"positiveIncrease\": 9716.0, \"death\": 28850.0, \"deathIncrease\": 141.0, \"positiveRate\": 0.059, \"state\": \"New York\", \"sma7d\": 10315.429}, {\"date\": \"2020-12-23T00:00:00\", \"totalTestResultsIncrease\": 204361.0, \"positiveIncrease\": 11937.0, \"death\": 29016.0, \"deathIncrease\": 166.0, \"positiveRate\": 0.058, \"state\": \"New York\", \"sma7d\": 10592.429}, {\"date\": \"2020-12-24T00:00:00\", \"totalTestResultsIncrease\": 226296.0, \"positiveIncrease\": 12568.0, \"death\": 29149.0, \"deathIncrease\": 133.0, \"positiveRate\": 0.056, \"state\": \"New York\", \"sma7d\": 10828.714}, {\"date\": \"2020-12-25T00:00:00\", \"totalTestResultsIncrease\": 226560.0, \"positiveIncrease\": 12446.0, \"death\": 29270.0, \"deathIncrease\": 121.0, \"positiveRate\": 0.055, \"state\": \"New York\", \"sma7d\": 10792.857}, {\"date\": \"2020-12-26T00:00:00\", \"totalTestResultsIncrease\": 201442.0, \"positiveIncrease\": 10806.0, \"death\": 29396.0, \"deathIncrease\": 126.0, \"positiveRate\": 0.054, \"state\": \"New York\", \"sma7d\": 10919.571}, {\"date\": \"2020-12-27T00:00:00\", \"totalTestResultsIncrease\": 130299.0, \"positiveIncrease\": 7623.0, \"death\": 29511.0, \"deathIncrease\": 115.0, \"positiveRate\": 0.059, \"state\": \"New York\", \"sma7d\": 10586.143}, {\"date\": \"2020-12-28T00:00:00\", \"totalTestResultsIncrease\": 124866.0, \"positiveIncrease\": 10407.0, \"death\": 29629.0, \"deathIncrease\": 118.0, \"positiveRate\": 0.083, \"state\": \"New York\", \"sma7d\": 10786.143}, {\"date\": \"2020-12-29T00:00:00\", \"totalTestResultsIncrease\": 160164.0, \"positiveIncrease\": 11438.0, \"death\": 29756.0, \"deathIncrease\": 127.0, \"positiveRate\": 0.071, \"state\": \"New York\", \"sma7d\": 11032.143}, {\"date\": \"2020-12-30T00:00:00\", \"totalTestResultsIncrease\": 154949.0, \"positiveIncrease\": 13422.0, \"death\": 29905.0, \"deathIncrease\": 149.0, \"positiveRate\": 0.087, \"state\": \"New York\", \"sma7d\": 11244.286}, {\"date\": \"2020-12-31T00:00:00\", \"totalTestResultsIncrease\": 216587.0, \"positiveIncrease\": 16802.0, \"death\": 30040.0, \"deathIncrease\": 135.0, \"positiveRate\": 0.078, \"state\": \"New York\", \"sma7d\": 11849.143}, {\"date\": \"2021-01-01T00:00:00\", \"totalTestResultsIncrease\": 219253.0, \"positiveIncrease\": 16497.0, \"death\": 30208.0, \"deathIncrease\": 168.0, \"positiveRate\": 0.075, \"state\": \"New York\", \"sma7d\": 12427.857}, {\"date\": \"2021-01-02T00:00:00\", \"totalTestResultsIncrease\": 202446.0, \"positiveIncrease\": 15074.0, \"death\": 30337.0, \"deathIncrease\": 129.0, \"positiveRate\": 0.074, \"state\": \"New York\", \"sma7d\": 13037.571}, {\"date\": \"2021-01-03T00:00:00\", \"totalTestResultsIncrease\": 142345.0, \"positiveIncrease\": 11368.0, \"death\": 30476.0, \"deathIncrease\": 139.0, \"positiveRate\": 0.08, \"state\": \"New York\", \"sma7d\": 13572.571}, {\"date\": \"2021-01-04T00:00:00\", \"totalTestResultsIncrease\": 134360.0, \"positiveIncrease\": 11209.0, \"death\": 30648.0, \"deathIncrease\": 172.0, \"positiveRate\": 0.083, \"state\": \"New York\", \"sma7d\": 13687.143}, {\"date\": \"2021-01-05T00:00:00\", \"totalTestResultsIncrease\": 152402.0, \"positiveIncrease\": 12666.0, \"death\": 30802.0, \"deathIncrease\": 154.0, \"positiveRate\": 0.083, \"state\": \"New York\", \"sma7d\": 13862.571}, {\"date\": \"2021-01-06T00:00:00\", \"totalTestResultsIncrease\": 197816.0, \"positiveIncrease\": 16648.0, \"death\": 30965.0, \"deathIncrease\": 163.0, \"positiveRate\": 0.084, \"state\": \"New York\", \"sma7d\": 14323.429}, {\"date\": \"2021-01-07T00:00:00\", \"totalTestResultsIncrease\": 238550.0, \"positiveIncrease\": 17636.0, \"death\": 31164.0, \"deathIncrease\": 199.0, \"positiveRate\": 0.074, \"state\": \"New York\", \"sma7d\": 14442.571}, {\"date\": \"2021-01-08T00:00:00\", \"totalTestResultsIncrease\": 243903.0, \"positiveIncrease\": 18832.0, \"death\": 31329.0, \"deathIncrease\": 165.0, \"positiveRate\": 0.077, \"state\": \"New York\", \"sma7d\": 14776.143}, {\"date\": \"2021-01-09T00:00:00\", \"totalTestResultsIncrease\": 258031.0, \"positiveIncrease\": 16943.0, \"death\": 31519.0, \"deathIncrease\": 190.0, \"positiveRate\": 0.066, \"state\": \"New York\", \"sma7d\": 15043.143}, {\"date\": \"2021-01-10T00:00:00\", \"totalTestResultsIncrease\": 246836.0, \"positiveIncrease\": 15355.0, \"death\": 31672.0, \"deathIncrease\": 153.0, \"positiveRate\": 0.062, \"state\": \"New York\", \"sma7d\": 15612.714}, {\"date\": \"2021-01-11T00:00:00\", \"totalTestResultsIncrease\": 203904.0, \"positiveIncrease\": 13714.0, \"death\": 31841.0, \"deathIncrease\": 169.0, \"positiveRate\": 0.067, \"state\": \"New York\", \"sma7d\": 15970.571}, {\"date\": \"2021-01-12T00:00:00\", \"totalTestResultsIncrease\": 196671.0, \"positiveIncrease\": 15214.0, \"death\": 32007.0, \"deathIncrease\": 166.0, \"positiveRate\": 0.077, \"state\": \"New York\", \"sma7d\": 16334.571}, {\"date\": \"2021-01-13T00:00:00\", \"totalTestResultsIncrease\": 196868.0, \"positiveIncrease\": 14577.0, \"death\": 32175.0, \"deathIncrease\": 168.0, \"positiveRate\": 0.074, \"state\": \"New York\", \"sma7d\": 16038.714}]}}, {\"mode\": \"vega-lite\"});\n",
       "</script>"
      ],
      "text/plain": [
       "alt.LayerChart(...)"
      ]
     },
     "execution_count": 11,
     "metadata": {},
     "output_type": "execute_result"
    }
   ],
   "source": [
    "create_plot(ny, 'positiveIncrease')"
   ]
  },
  {
   "cell_type": "code",
   "execution_count": 12,
   "metadata": {
    "execution": {
     "iopub.execute_input": "2021-01-14T09:50:57.610040Z",
     "iopub.status.busy": "2021-01-14T09:50:57.609545Z",
     "iopub.status.idle": "2021-01-14T09:50:57.696326Z",
     "shell.execute_reply": "2021-01-14T09:50:57.695866Z"
    },
    "papermill": {
     "duration": 0.107959,
     "end_time": "2021-01-14T09:50:57.696438",
     "exception": false,
     "start_time": "2021-01-14T09:50:57.588479",
     "status": "completed"
    },
    "tags": []
   },
   "outputs": [
    {
     "data": {
      "text/html": [
       "\n",
       "<div id=\"altair-viz-d91239395d77468abb93cd9364d446c8\"></div>\n",
       "<script type=\"text/javascript\">\n",
       "  (function(spec, embedOpt){\n",
       "    let outputDiv = document.currentScript.previousElementSibling;\n",
       "    if (outputDiv.id !== \"altair-viz-d91239395d77468abb93cd9364d446c8\") {\n",
       "      outputDiv = document.getElementById(\"altair-viz-d91239395d77468abb93cd9364d446c8\");\n",
       "    }\n",
       "    const paths = {\n",
       "      \"vega\": \"https://cdn.jsdelivr.net/npm//vega@5?noext\",\n",
       "      \"vega-lib\": \"https://cdn.jsdelivr.net/npm//vega-lib?noext\",\n",
       "      \"vega-lite\": \"https://cdn.jsdelivr.net/npm//vega-lite@4.8.1?noext\",\n",
       "      \"vega-embed\": \"https://cdn.jsdelivr.net/npm//vega-embed@6?noext\",\n",
       "    };\n",
       "\n",
       "    function loadScript(lib) {\n",
       "      return new Promise(function(resolve, reject) {\n",
       "        var s = document.createElement('script');\n",
       "        s.src = paths[lib];\n",
       "        s.async = true;\n",
       "        s.onload = () => resolve(paths[lib]);\n",
       "        s.onerror = () => reject(`Error loading script: ${paths[lib]}`);\n",
       "        document.getElementsByTagName(\"head\")[0].appendChild(s);\n",
       "      });\n",
       "    }\n",
       "\n",
       "    function showError(err) {\n",
       "      outputDiv.innerHTML = `<div class=\"error\" style=\"color:red;\">${err}</div>`;\n",
       "      throw err;\n",
       "    }\n",
       "\n",
       "    function displayChart(vegaEmbed) {\n",
       "      vegaEmbed(outputDiv, spec, embedOpt)\n",
       "        .catch(err => showError(`Javascript Error: ${err.message}<br>This usually means there's a typo in your chart specification. See the javascript console for the full traceback.`));\n",
       "    }\n",
       "\n",
       "    if(typeof define === \"function\" && define.amd) {\n",
       "      requirejs.config({paths});\n",
       "      require([\"vega-embed\"], displayChart, err => showError(`Error loading script: ${err.message}`));\n",
       "    } else if (typeof vegaEmbed === \"function\") {\n",
       "      displayChart(vegaEmbed);\n",
       "    } else {\n",
       "      loadScript(\"vega\")\n",
       "        .then(() => loadScript(\"vega-lite\"))\n",
       "        .then(() => loadScript(\"vega-embed\"))\n",
       "        .catch(showError)\n",
       "        .then(() => displayChart(vegaEmbed));\n",
       "    }\n",
       "  })({\"config\": {\"view\": {\"continuousWidth\": 400, \"continuousHeight\": 300}}, \"layer\": [{\"layer\": [{\"mark\": {\"type\": \"point\", \"size\": 75}, \"encoding\": {\"tooltip\": [{\"type\": \"temporal\", \"field\": \"date\"}, {\"type\": \"quantitative\", \"field\": \"positiveRate\"}, {\"type\": \"quantitative\", \"field\": \"sma7d\"}], \"x\": {\"type\": \"temporal\", \"field\": \"date\"}, \"y\": {\"type\": \"quantitative\", \"field\": \"positiveRate\"}}, \"selection\": {\"selector010\": {\"type\": \"interval\", \"bind\": \"scales\", \"encodings\": [\"x\", \"y\"]}}}, {\"mark\": {\"type\": \"line\", \"color\": \"purple\"}, \"encoding\": {\"x\": {\"type\": \"temporal\", \"field\": \"date\"}, \"y\": {\"type\": \"quantitative\", \"field\": \"sma7d\"}}}]}, {\"mark\": {\"type\": \"rule\", \"color\": \"#aaa\"}, \"encoding\": {\"x\": {\"type\": \"temporal\", \"field\": \"date\"}}, \"transform\": [{\"filter\": {\"selection\": \"selector009\"}}]}, {\"mark\": \"circle\", \"encoding\": {\"opacity\": {\"condition\": {\"value\": 1, \"selection\": \"selector009\"}, \"value\": 0}, \"tooltip\": [{\"type\": \"temporal\", \"field\": \"date\"}, {\"type\": \"quantitative\", \"field\": \"positiveRate\"}, {\"type\": \"quantitative\", \"field\": \"sma7d\"}], \"x\": {\"type\": \"temporal\", \"field\": \"date\"}, \"y\": {\"type\": \"quantitative\", \"field\": \"positiveRate\"}}, \"selection\": {\"selector009\": {\"type\": \"single\", \"encodings\": [\"x\"], \"on\": \"mouseover\", \"nearest\": true, \"empty\": \"none\"}}}, {\"mark\": {\"type\": \"text\", \"align\": \"left\", \"dx\": 5, \"dy\": -5, \"stroke\": \"white\", \"strokeWidth\": 2}, \"encoding\": {\"text\": {\"type\": \"quantitative\", \"field\": \"positiveRate\"}, \"tooltip\": [{\"type\": \"temporal\", \"field\": \"date\"}, {\"type\": \"quantitative\", \"field\": \"positiveRate\"}, {\"type\": \"quantitative\", \"field\": \"sma7d\"}], \"x\": {\"type\": \"temporal\", \"field\": \"date\"}, \"y\": {\"type\": \"quantitative\", \"field\": \"positiveRate\"}}, \"transform\": [{\"filter\": {\"selection\": \"selector009\"}}]}, {\"mark\": {\"type\": \"text\", \"align\": \"left\", \"dx\": 5, \"dy\": -5}, \"encoding\": {\"text\": {\"type\": \"quantitative\", \"field\": \"positiveRate\"}, \"tooltip\": [{\"type\": \"temporal\", \"field\": \"date\"}, {\"type\": \"quantitative\", \"field\": \"positiveRate\"}, {\"type\": \"quantitative\", \"field\": \"sma7d\"}], \"x\": {\"type\": \"temporal\", \"field\": \"date\"}, \"y\": {\"type\": \"quantitative\", \"field\": \"positiveRate\"}}, \"transform\": [{\"filter\": {\"selection\": \"selector009\"}}]}], \"data\": {\"name\": \"data-1ef924973d38ae41f76acb51078859c4\"}, \"height\": 400, \"title\": \"New York: positiveRate\", \"width\": 500, \"$schema\": \"https://vega.github.io/schema/vega-lite/v4.8.1.json\", \"datasets\": {\"data-1ef924973d38ae41f76acb51078859c4\": [{\"date\": \"2020-11-20T00:00:00\", \"totalTestResultsIncrease\": 205466.0, \"positiveIncrease\": 5468.0, \"death\": 26292.0, \"deathIncrease\": 35.0, \"positiveRate\": 0.027, \"state\": \"New York\", \"sma7d\": 0.029}, {\"date\": \"2020-11-21T00:00:00\", \"totalTestResultsIncrease\": 207907.0, \"positiveIncrease\": 5972.0, \"death\": 26326.0, \"deathIncrease\": 34.0, \"positiveRate\": 0.029, \"state\": \"New York\", \"sma7d\": 0.029}, {\"date\": \"2020-11-22T00:00:00\", \"totalTestResultsIncrease\": 196610.0, \"positiveIncrease\": 5392.0, \"death\": 26357.0, \"deathIncrease\": 31.0, \"positiveRate\": 0.027, \"state\": \"New York\", \"sma7d\": 0.029}, {\"date\": \"2020-11-23T00:00:00\", \"totalTestResultsIncrease\": 191489.0, \"positiveIncrease\": 5906.0, \"death\": 26390.0, \"deathIncrease\": 33.0, \"positiveRate\": 0.031, \"state\": \"New York\", \"sma7d\": 0.03}, {\"date\": \"2020-11-24T00:00:00\", \"totalTestResultsIncrease\": 164761.0, \"positiveIncrease\": 4881.0, \"death\": 26441.0, \"deathIncrease\": 51.0, \"positiveRate\": 0.03, \"state\": \"New York\", \"sma7d\": 0.029}, {\"date\": \"2020-11-25T00:00:00\", \"totalTestResultsIncrease\": 173085.0, \"positiveIncrease\": 6265.0, \"death\": 26482.0, \"deathIncrease\": 41.0, \"positiveRate\": 0.036, \"state\": \"New York\", \"sma7d\": 0.03}, {\"date\": \"2020-11-26T00:00:00\", \"totalTestResultsIncrease\": 217721.0, \"positiveIncrease\": 6933.0, \"death\": 26549.0, \"deathIncrease\": 67.0, \"positiveRate\": 0.032, \"state\": \"New York\", \"sma7d\": 0.03}, {\"date\": \"2020-11-27T00:00:00\", \"totalTestResultsIncrease\": 219442.0, \"positiveIncrease\": 8176.0, \"death\": 26588.0, \"deathIncrease\": 39.0, \"positiveRate\": 0.037, \"state\": \"New York\", \"sma7d\": 0.032}, {\"date\": \"2020-11-28T00:00:00\", \"totalTestResultsIncrease\": 152355.0, \"positiveIncrease\": 6063.0, \"death\": 26632.0, \"deathIncrease\": 44.0, \"positiveRate\": 0.04, \"state\": \"New York\", \"sma7d\": 0.033}, {\"date\": \"2020-11-29T00:00:00\", \"totalTestResultsIncrease\": 157320.0, \"positiveIncrease\": 6723.0, \"death\": 26690.0, \"deathIncrease\": 58.0, \"positiveRate\": 0.043, \"state\": \"New York\", \"sma7d\": 0.036}, {\"date\": \"2020-11-30T00:00:00\", \"totalTestResultsIncrease\": 148974.0, \"positiveIncrease\": 6819.0, \"death\": 26747.0, \"deathIncrease\": 57.0, \"positiveRate\": 0.046, \"state\": \"New York\", \"sma7d\": 0.038}, {\"date\": \"2020-12-01T00:00:00\", \"totalTestResultsIncrease\": 146675.0, \"positiveIncrease\": 7285.0, \"death\": 26816.0, \"deathIncrease\": 69.0, \"positiveRate\": 0.05, \"state\": \"New York\", \"sma7d\": 0.041}, {\"date\": \"2020-12-02T00:00:00\", \"totalTestResultsIncrease\": 193551.0, \"positiveIncrease\": 8973.0, \"death\": 26889.0, \"deathIncrease\": 73.0, \"positiveRate\": 0.046, \"state\": \"New York\", \"sma7d\": 0.042}, {\"date\": \"2020-12-03T00:00:00\", \"totalTestResultsIncrease\": 203440.0, \"positiveIncrease\": 9855.0, \"death\": 26955.0, \"deathIncrease\": 66.0, \"positiveRate\": 0.048, \"state\": \"New York\", \"sma7d\": 0.044}, {\"date\": \"2020-12-04T00:00:00\", \"totalTestResultsIncrease\": 208297.0, \"positiveIncrease\": 11271.0, \"death\": 27017.0, \"deathIncrease\": 62.0, \"positiveRate\": 0.054, \"state\": \"New York\", \"sma7d\": 0.047}, {\"date\": \"2020-12-05T00:00:00\", \"totalTestResultsIncrease\": 215401.0, \"positiveIncrease\": 10761.0, \"death\": 27089.0, \"deathIncrease\": 72.0, \"positiveRate\": 0.05, \"state\": \"New York\", \"sma7d\": 0.048}, {\"date\": \"2020-12-06T00:00:00\", \"totalTestResultsIncrease\": 205832.0, \"positiveIncrease\": 9702.0, \"death\": 27149.0, \"deathIncrease\": 60.0, \"positiveRate\": 0.047, \"state\": \"New York\", \"sma7d\": 0.049}, {\"date\": \"2020-12-07T00:00:00\", \"totalTestResultsIncrease\": 152287.0, \"positiveIncrease\": 7302.0, \"death\": 27232.0, \"deathIncrease\": 83.0, \"positiveRate\": 0.048, \"state\": \"New York\", \"sma7d\": 0.049}, {\"date\": \"2020-12-08T00:00:00\", \"totalTestResultsIncrease\": 162464.0, \"positiveIncrease\": 9335.0, \"death\": 27307.0, \"deathIncrease\": 75.0, \"positiveRate\": 0.057, \"state\": \"New York\", \"sma7d\": 0.05}, {\"date\": \"2020-12-09T00:00:00\", \"totalTestResultsIncrease\": 194595.0, \"positiveIncrease\": 10600.0, \"death\": 27404.0, \"deathIncrease\": 97.0, \"positiveRate\": 0.054, \"state\": \"New York\", \"sma7d\": 0.051}, {\"date\": \"2020-12-10T00:00:00\", \"totalTestResultsIncrease\": 197406.0, \"positiveIncrease\": 10178.0, \"death\": 27498.0, \"deathIncrease\": 94.0, \"positiveRate\": 0.052, \"state\": \"New York\", \"sma7d\": 0.052}, {\"date\": \"2020-12-11T00:00:00\", \"totalTestResultsIncrease\": 212672.0, \"positiveIncrease\": 10595.0, \"death\": 27587.0, \"deathIncrease\": 89.0, \"positiveRate\": 0.05, \"state\": \"New York\", \"sma7d\": 0.051}, {\"date\": \"2020-12-12T00:00:00\", \"totalTestResultsIncrease\": 242927.0, \"positiveIncrease\": 11129.0, \"death\": 27675.0, \"deathIncrease\": 88.0, \"positiveRate\": 0.046, \"state\": \"New York\", \"sma7d\": 0.051}, {\"date\": \"2020-12-13T00:00:00\", \"totalTestResultsIncrease\": 205250.0, \"positiveIncrease\": 10194.0, \"death\": 27785.0, \"deathIncrease\": 110.0, \"positiveRate\": 0.05, \"state\": \"New York\", \"sma7d\": 0.051}, {\"date\": \"2020-12-14T00:00:00\", \"totalTestResultsIncrease\": 159844.0, \"positiveIncrease\": 9044.0, \"death\": 27870.0, \"deathIncrease\": 85.0, \"positiveRate\": 0.057, \"state\": \"New York\", \"sma7d\": 0.052}, {\"date\": \"2020-12-15T00:00:00\", \"totalTestResultsIncrease\": 194188.0, \"positiveIncrease\": 10353.0, \"death\": 28002.0, \"deathIncrease\": 132.0, \"positiveRate\": 0.053, \"state\": \"New York\", \"sma7d\": 0.052}, {\"date\": \"2020-12-16T00:00:00\", \"totalTestResultsIncrease\": 160947.0, \"positiveIncrease\": 9998.0, \"death\": 28100.0, \"deathIncrease\": 98.0, \"positiveRate\": 0.062, \"state\": \"New York\", \"sma7d\": 0.053}, {\"date\": \"2020-12-17T00:00:00\", \"totalTestResultsIncrease\": 202772.0, \"positiveIncrease\": 10914.0, \"death\": 28222.0, \"deathIncrease\": 122.0, \"positiveRate\": 0.054, \"state\": \"New York\", \"sma7d\": 0.053}, {\"date\": \"2020-12-18T00:00:00\", \"totalTestResultsIncrease\": 249385.0, \"positiveIncrease\": 12697.0, \"death\": 28344.0, \"deathIncrease\": 122.0, \"positiveRate\": 0.051, \"state\": \"New York\", \"sma7d\": 0.053}, {\"date\": \"2020-12-19T00:00:00\", \"totalTestResultsIncrease\": 191476.0, \"positiveIncrease\": 9919.0, \"death\": 28474.0, \"deathIncrease\": 130.0, \"positiveRate\": 0.052, \"state\": \"New York\", \"sma7d\": 0.054}, {\"date\": \"2020-12-20T00:00:00\", \"totalTestResultsIncrease\": 197251.0, \"positiveIncrease\": 9957.0, \"death\": 28598.0, \"deathIncrease\": 124.0, \"positiveRate\": 0.05, \"state\": \"New York\", \"sma7d\": 0.054}, {\"date\": \"2020-12-21T00:00:00\", \"totalTestResultsIncrease\": 156510.0, \"positiveIncrease\": 9007.0, \"death\": 28709.0, \"deathIncrease\": 111.0, \"positiveRate\": 0.058, \"state\": \"New York\", \"sma7d\": 0.054}, {\"date\": \"2020-12-22T00:00:00\", \"totalTestResultsIncrease\": 164868.0, \"positiveIncrease\": 9716.0, \"death\": 28850.0, \"deathIncrease\": 141.0, \"positiveRate\": 0.059, \"state\": \"New York\", \"sma7d\": 0.055}, {\"date\": \"2020-12-23T00:00:00\", \"totalTestResultsIncrease\": 204361.0, \"positiveIncrease\": 11937.0, \"death\": 29016.0, \"deathIncrease\": 166.0, \"positiveRate\": 0.058, \"state\": \"New York\", \"sma7d\": 0.055}, {\"date\": \"2020-12-24T00:00:00\", \"totalTestResultsIncrease\": 226296.0, \"positiveIncrease\": 12568.0, \"death\": 29149.0, \"deathIncrease\": 133.0, \"positiveRate\": 0.056, \"state\": \"New York\", \"sma7d\": 0.055}, {\"date\": \"2020-12-25T00:00:00\", \"totalTestResultsIncrease\": 226560.0, \"positiveIncrease\": 12446.0, \"death\": 29270.0, \"deathIncrease\": 121.0, \"positiveRate\": 0.055, \"state\": \"New York\", \"sma7d\": 0.055}, {\"date\": \"2020-12-26T00:00:00\", \"totalTestResultsIncrease\": 201442.0, \"positiveIncrease\": 10806.0, \"death\": 29396.0, \"deathIncrease\": 126.0, \"positiveRate\": 0.054, \"state\": \"New York\", \"sma7d\": 0.056}, {\"date\": \"2020-12-27T00:00:00\", \"totalTestResultsIncrease\": 130299.0, \"positiveIncrease\": 7623.0, \"death\": 29511.0, \"deathIncrease\": 115.0, \"positiveRate\": 0.059, \"state\": \"New York\", \"sma7d\": 0.057}, {\"date\": \"2020-12-28T00:00:00\", \"totalTestResultsIncrease\": 124866.0, \"positiveIncrease\": 10407.0, \"death\": 29629.0, \"deathIncrease\": 118.0, \"positiveRate\": 0.083, \"state\": \"New York\", \"sma7d\": 0.061}, {\"date\": \"2020-12-29T00:00:00\", \"totalTestResultsIncrease\": 160164.0, \"positiveIncrease\": 11438.0, \"death\": 29756.0, \"deathIncrease\": 127.0, \"positiveRate\": 0.071, \"state\": \"New York\", \"sma7d\": 0.062}, {\"date\": \"2020-12-30T00:00:00\", \"totalTestResultsIncrease\": 154949.0, \"positiveIncrease\": 13422.0, \"death\": 29905.0, \"deathIncrease\": 149.0, \"positiveRate\": 0.087, \"state\": \"New York\", \"sma7d\": 0.066}, {\"date\": \"2020-12-31T00:00:00\", \"totalTestResultsIncrease\": 216587.0, \"positiveIncrease\": 16802.0, \"death\": 30040.0, \"deathIncrease\": 135.0, \"positiveRate\": 0.078, \"state\": \"New York\", \"sma7d\": 0.07}, {\"date\": \"2021-01-01T00:00:00\", \"totalTestResultsIncrease\": 219253.0, \"positiveIncrease\": 16497.0, \"death\": 30208.0, \"deathIncrease\": 168.0, \"positiveRate\": 0.075, \"state\": \"New York\", \"sma7d\": 0.072}, {\"date\": \"2021-01-02T00:00:00\", \"totalTestResultsIncrease\": 202446.0, \"positiveIncrease\": 15074.0, \"death\": 30337.0, \"deathIncrease\": 129.0, \"positiveRate\": 0.074, \"state\": \"New York\", \"sma7d\": 0.075}, {\"date\": \"2021-01-03T00:00:00\", \"totalTestResultsIncrease\": 142345.0, \"positiveIncrease\": 11368.0, \"death\": 30476.0, \"deathIncrease\": 139.0, \"positiveRate\": 0.08, \"state\": \"New York\", \"sma7d\": 0.078}, {\"date\": \"2021-01-04T00:00:00\", \"totalTestResultsIncrease\": 134360.0, \"positiveIncrease\": 11209.0, \"death\": 30648.0, \"deathIncrease\": 172.0, \"positiveRate\": 0.083, \"state\": \"New York\", \"sma7d\": 0.078}, {\"date\": \"2021-01-05T00:00:00\", \"totalTestResultsIncrease\": 152402.0, \"positiveIncrease\": 12666.0, \"death\": 30802.0, \"deathIncrease\": 154.0, \"positiveRate\": 0.083, \"state\": \"New York\", \"sma7d\": 0.08}, {\"date\": \"2021-01-06T00:00:00\", \"totalTestResultsIncrease\": 197816.0, \"positiveIncrease\": 16648.0, \"death\": 30965.0, \"deathIncrease\": 163.0, \"positiveRate\": 0.084, \"state\": \"New York\", \"sma7d\": 0.08}, {\"date\": \"2021-01-07T00:00:00\", \"totalTestResultsIncrease\": 238550.0, \"positiveIncrease\": 17636.0, \"death\": 31164.0, \"deathIncrease\": 199.0, \"positiveRate\": 0.074, \"state\": \"New York\", \"sma7d\": 0.079}, {\"date\": \"2021-01-08T00:00:00\", \"totalTestResultsIncrease\": 243903.0, \"positiveIncrease\": 18832.0, \"death\": 31329.0, \"deathIncrease\": 165.0, \"positiveRate\": 0.077, \"state\": \"New York\", \"sma7d\": 0.079}, {\"date\": \"2021-01-09T00:00:00\", \"totalTestResultsIncrease\": 258031.0, \"positiveIncrease\": 16943.0, \"death\": 31519.0, \"deathIncrease\": 190.0, \"positiveRate\": 0.066, \"state\": \"New York\", \"sma7d\": 0.078}, {\"date\": \"2021-01-10T00:00:00\", \"totalTestResultsIncrease\": 246836.0, \"positiveIncrease\": 15355.0, \"death\": 31672.0, \"deathIncrease\": 153.0, \"positiveRate\": 0.062, \"state\": \"New York\", \"sma7d\": 0.076}, {\"date\": \"2021-01-11T00:00:00\", \"totalTestResultsIncrease\": 203904.0, \"positiveIncrease\": 13714.0, \"death\": 31841.0, \"deathIncrease\": 169.0, \"positiveRate\": 0.067, \"state\": \"New York\", \"sma7d\": 0.073}, {\"date\": \"2021-01-12T00:00:00\", \"totalTestResultsIncrease\": 196671.0, \"positiveIncrease\": 15214.0, \"death\": 32007.0, \"deathIncrease\": 166.0, \"positiveRate\": 0.077, \"state\": \"New York\", \"sma7d\": 0.072}, {\"date\": \"2021-01-13T00:00:00\", \"totalTestResultsIncrease\": 196868.0, \"positiveIncrease\": 14577.0, \"death\": 32175.0, \"deathIncrease\": 168.0, \"positiveRate\": 0.074, \"state\": \"New York\", \"sma7d\": 0.071}]}}, {\"mode\": \"vega-lite\"});\n",
       "</script>"
      ],
      "text/plain": [
       "alt.LayerChart(...)"
      ]
     },
     "execution_count": 12,
     "metadata": {},
     "output_type": "execute_result"
    }
   ],
   "source": [
    "create_plot(ny, 'positiveRate')"
   ]
  },
  {
   "cell_type": "code",
   "execution_count": 13,
   "metadata": {
    "execution": {
     "iopub.execute_input": "2021-01-14T09:50:57.730824Z",
     "iopub.status.busy": "2021-01-14T09:50:57.730312Z",
     "iopub.status.idle": "2021-01-14T09:50:57.817475Z",
     "shell.execute_reply": "2021-01-14T09:50:57.816987Z"
    },
    "papermill": {
     "duration": 0.105659,
     "end_time": "2021-01-14T09:50:57.817597",
     "exception": false,
     "start_time": "2021-01-14T09:50:57.711938",
     "status": "completed"
    },
    "tags": []
   },
   "outputs": [
    {
     "data": {
      "text/html": [
       "\n",
       "<div id=\"altair-viz-f0f89c20155e4dd783fb7b7f987b7423\"></div>\n",
       "<script type=\"text/javascript\">\n",
       "  (function(spec, embedOpt){\n",
       "    let outputDiv = document.currentScript.previousElementSibling;\n",
       "    if (outputDiv.id !== \"altair-viz-f0f89c20155e4dd783fb7b7f987b7423\") {\n",
       "      outputDiv = document.getElementById(\"altair-viz-f0f89c20155e4dd783fb7b7f987b7423\");\n",
       "    }\n",
       "    const paths = {\n",
       "      \"vega\": \"https://cdn.jsdelivr.net/npm//vega@5?noext\",\n",
       "      \"vega-lib\": \"https://cdn.jsdelivr.net/npm//vega-lib?noext\",\n",
       "      \"vega-lite\": \"https://cdn.jsdelivr.net/npm//vega-lite@4.8.1?noext\",\n",
       "      \"vega-embed\": \"https://cdn.jsdelivr.net/npm//vega-embed@6?noext\",\n",
       "    };\n",
       "\n",
       "    function loadScript(lib) {\n",
       "      return new Promise(function(resolve, reject) {\n",
       "        var s = document.createElement('script');\n",
       "        s.src = paths[lib];\n",
       "        s.async = true;\n",
       "        s.onload = () => resolve(paths[lib]);\n",
       "        s.onerror = () => reject(`Error loading script: ${paths[lib]}`);\n",
       "        document.getElementsByTagName(\"head\")[0].appendChild(s);\n",
       "      });\n",
       "    }\n",
       "\n",
       "    function showError(err) {\n",
       "      outputDiv.innerHTML = `<div class=\"error\" style=\"color:red;\">${err}</div>`;\n",
       "      throw err;\n",
       "    }\n",
       "\n",
       "    function displayChart(vegaEmbed) {\n",
       "      vegaEmbed(outputDiv, spec, embedOpt)\n",
       "        .catch(err => showError(`Javascript Error: ${err.message}<br>This usually means there's a typo in your chart specification. See the javascript console for the full traceback.`));\n",
       "    }\n",
       "\n",
       "    if(typeof define === \"function\" && define.amd) {\n",
       "      requirejs.config({paths});\n",
       "      require([\"vega-embed\"], displayChart, err => showError(`Error loading script: ${err.message}`));\n",
       "    } else if (typeof vegaEmbed === \"function\") {\n",
       "      displayChart(vegaEmbed);\n",
       "    } else {\n",
       "      loadScript(\"vega\")\n",
       "        .then(() => loadScript(\"vega-lite\"))\n",
       "        .then(() => loadScript(\"vega-embed\"))\n",
       "        .catch(showError)\n",
       "        .then(() => displayChart(vegaEmbed));\n",
       "    }\n",
       "  })({\"config\": {\"view\": {\"continuousWidth\": 400, \"continuousHeight\": 300}}, \"layer\": [{\"layer\": [{\"mark\": {\"type\": \"point\", \"size\": 75}, \"encoding\": {\"tooltip\": [{\"type\": \"temporal\", \"field\": \"date\"}, {\"type\": \"quantitative\", \"field\": \"deathIncrease\"}, {\"type\": \"quantitative\", \"field\": \"sma7d\"}], \"x\": {\"type\": \"temporal\", \"field\": \"date\"}, \"y\": {\"type\": \"quantitative\", \"field\": \"deathIncrease\"}}, \"selection\": {\"selector012\": {\"type\": \"interval\", \"bind\": \"scales\", \"encodings\": [\"x\", \"y\"]}}}, {\"mark\": {\"type\": \"line\", \"color\": \"purple\"}, \"encoding\": {\"x\": {\"type\": \"temporal\", \"field\": \"date\"}, \"y\": {\"type\": \"quantitative\", \"field\": \"sma7d\"}}}]}, {\"mark\": {\"type\": \"rule\", \"color\": \"#aaa\"}, \"encoding\": {\"x\": {\"type\": \"temporal\", \"field\": \"date\"}}, \"transform\": [{\"filter\": {\"selection\": \"selector011\"}}]}, {\"mark\": \"circle\", \"encoding\": {\"opacity\": {\"condition\": {\"value\": 1, \"selection\": \"selector011\"}, \"value\": 0}, \"tooltip\": [{\"type\": \"temporal\", \"field\": \"date\"}, {\"type\": \"quantitative\", \"field\": \"deathIncrease\"}, {\"type\": \"quantitative\", \"field\": \"sma7d\"}], \"x\": {\"type\": \"temporal\", \"field\": \"date\"}, \"y\": {\"type\": \"quantitative\", \"field\": \"deathIncrease\"}}, \"selection\": {\"selector011\": {\"type\": \"single\", \"encodings\": [\"x\"], \"on\": \"mouseover\", \"nearest\": true, \"empty\": \"none\"}}}, {\"mark\": {\"type\": \"text\", \"align\": \"left\", \"dx\": 5, \"dy\": -5, \"stroke\": \"white\", \"strokeWidth\": 2}, \"encoding\": {\"text\": {\"type\": \"quantitative\", \"field\": \"deathIncrease\"}, \"tooltip\": [{\"type\": \"temporal\", \"field\": \"date\"}, {\"type\": \"quantitative\", \"field\": \"deathIncrease\"}, {\"type\": \"quantitative\", \"field\": \"sma7d\"}], \"x\": {\"type\": \"temporal\", \"field\": \"date\"}, \"y\": {\"type\": \"quantitative\", \"field\": \"deathIncrease\"}}, \"transform\": [{\"filter\": {\"selection\": \"selector011\"}}]}, {\"mark\": {\"type\": \"text\", \"align\": \"left\", \"dx\": 5, \"dy\": -5}, \"encoding\": {\"text\": {\"type\": \"quantitative\", \"field\": \"deathIncrease\"}, \"tooltip\": [{\"type\": \"temporal\", \"field\": \"date\"}, {\"type\": \"quantitative\", \"field\": \"deathIncrease\"}, {\"type\": \"quantitative\", \"field\": \"sma7d\"}], \"x\": {\"type\": \"temporal\", \"field\": \"date\"}, \"y\": {\"type\": \"quantitative\", \"field\": \"deathIncrease\"}}, \"transform\": [{\"filter\": {\"selection\": \"selector011\"}}]}], \"data\": {\"name\": \"data-8a77d945bdf52ce2a83757a2a10af037\"}, \"height\": 400, \"title\": \"New York: deathIncrease\", \"width\": 500, \"$schema\": \"https://vega.github.io/schema/vega-lite/v4.8.1.json\", \"datasets\": {\"data-8a77d945bdf52ce2a83757a2a10af037\": [{\"date\": \"2020-11-20T00:00:00\", \"totalTestResultsIncrease\": 205466.0, \"positiveIncrease\": 5468.0, \"death\": 26292.0, \"deathIncrease\": 35.0, \"positiveRate\": 0.027, \"state\": \"New York\", \"sma7d\": 30.429}, {\"date\": \"2020-11-21T00:00:00\", \"totalTestResultsIncrease\": 207907.0, \"positiveIncrease\": 5972.0, \"death\": 26326.0, \"deathIncrease\": 34.0, \"positiveRate\": 0.029, \"state\": \"New York\", \"sma7d\": 31.857}, {\"date\": \"2020-11-22T00:00:00\", \"totalTestResultsIncrease\": 196610.0, \"positiveIncrease\": 5392.0, \"death\": 26357.0, \"deathIncrease\": 31.0, \"positiveRate\": 0.027, \"state\": \"New York\", \"sma7d\": 32.0}, {\"date\": \"2020-11-23T00:00:00\", \"totalTestResultsIncrease\": 191489.0, \"positiveIncrease\": 5906.0, \"death\": 26390.0, \"deathIncrease\": 33.0, \"positiveRate\": 0.031, \"state\": \"New York\", \"sma7d\": 33.0}, {\"date\": \"2020-11-24T00:00:00\", \"totalTestResultsIncrease\": 164761.0, \"positiveIncrease\": 4881.0, \"death\": 26441.0, \"deathIncrease\": 51.0, \"positiveRate\": 0.03, \"state\": \"New York\", \"sma7d\": 36.0}, {\"date\": \"2020-11-25T00:00:00\", \"totalTestResultsIncrease\": 173085.0, \"positiveIncrease\": 6265.0, \"death\": 26482.0, \"deathIncrease\": 41.0, \"positiveRate\": 0.036, \"state\": \"New York\", \"sma7d\": 36.714}, {\"date\": \"2020-11-26T00:00:00\", \"totalTestResultsIncrease\": 217721.0, \"positiveIncrease\": 6933.0, \"death\": 26549.0, \"deathIncrease\": 67.0, \"positiveRate\": 0.032, \"state\": \"New York\", \"sma7d\": 41.714}, {\"date\": \"2020-11-27T00:00:00\", \"totalTestResultsIncrease\": 219442.0, \"positiveIncrease\": 8176.0, \"death\": 26588.0, \"deathIncrease\": 39.0, \"positiveRate\": 0.037, \"state\": \"New York\", \"sma7d\": 42.286}, {\"date\": \"2020-11-28T00:00:00\", \"totalTestResultsIncrease\": 152355.0, \"positiveIncrease\": 6063.0, \"death\": 26632.0, \"deathIncrease\": 44.0, \"positiveRate\": 0.04, \"state\": \"New York\", \"sma7d\": 43.714}, {\"date\": \"2020-11-29T00:00:00\", \"totalTestResultsIncrease\": 157320.0, \"positiveIncrease\": 6723.0, \"death\": 26690.0, \"deathIncrease\": 58.0, \"positiveRate\": 0.043, \"state\": \"New York\", \"sma7d\": 47.571}, {\"date\": \"2020-11-30T00:00:00\", \"totalTestResultsIncrease\": 148974.0, \"positiveIncrease\": 6819.0, \"death\": 26747.0, \"deathIncrease\": 57.0, \"positiveRate\": 0.046, \"state\": \"New York\", \"sma7d\": 51.0}, {\"date\": \"2020-12-01T00:00:00\", \"totalTestResultsIncrease\": 146675.0, \"positiveIncrease\": 7285.0, \"death\": 26816.0, \"deathIncrease\": 69.0, \"positiveRate\": 0.05, \"state\": \"New York\", \"sma7d\": 53.571}, {\"date\": \"2020-12-02T00:00:00\", \"totalTestResultsIncrease\": 193551.0, \"positiveIncrease\": 8973.0, \"death\": 26889.0, \"deathIncrease\": 73.0, \"positiveRate\": 0.046, \"state\": \"New York\", \"sma7d\": 58.143}, {\"date\": \"2020-12-03T00:00:00\", \"totalTestResultsIncrease\": 203440.0, \"positiveIncrease\": 9855.0, \"death\": 26955.0, \"deathIncrease\": 66.0, \"positiveRate\": 0.048, \"state\": \"New York\", \"sma7d\": 58.0}, {\"date\": \"2020-12-04T00:00:00\", \"totalTestResultsIncrease\": 208297.0, \"positiveIncrease\": 11271.0, \"death\": 27017.0, \"deathIncrease\": 62.0, \"positiveRate\": 0.054, \"state\": \"New York\", \"sma7d\": 61.286}, {\"date\": \"2020-12-05T00:00:00\", \"totalTestResultsIncrease\": 215401.0, \"positiveIncrease\": 10761.0, \"death\": 27089.0, \"deathIncrease\": 72.0, \"positiveRate\": 0.05, \"state\": \"New York\", \"sma7d\": 65.286}, {\"date\": \"2020-12-06T00:00:00\", \"totalTestResultsIncrease\": 205832.0, \"positiveIncrease\": 9702.0, \"death\": 27149.0, \"deathIncrease\": 60.0, \"positiveRate\": 0.047, \"state\": \"New York\", \"sma7d\": 65.571}, {\"date\": \"2020-12-07T00:00:00\", \"totalTestResultsIncrease\": 152287.0, \"positiveIncrease\": 7302.0, \"death\": 27232.0, \"deathIncrease\": 83.0, \"positiveRate\": 0.048, \"state\": \"New York\", \"sma7d\": 69.286}, {\"date\": \"2020-12-08T00:00:00\", \"totalTestResultsIncrease\": 162464.0, \"positiveIncrease\": 9335.0, \"death\": 27307.0, \"deathIncrease\": 75.0, \"positiveRate\": 0.057, \"state\": \"New York\", \"sma7d\": 70.143}, {\"date\": \"2020-12-09T00:00:00\", \"totalTestResultsIncrease\": 194595.0, \"positiveIncrease\": 10600.0, \"death\": 27404.0, \"deathIncrease\": 97.0, \"positiveRate\": 0.054, \"state\": \"New York\", \"sma7d\": 73.571}, {\"date\": \"2020-12-10T00:00:00\", \"totalTestResultsIncrease\": 197406.0, \"positiveIncrease\": 10178.0, \"death\": 27498.0, \"deathIncrease\": 94.0, \"positiveRate\": 0.052, \"state\": \"New York\", \"sma7d\": 77.571}, {\"date\": \"2020-12-11T00:00:00\", \"totalTestResultsIncrease\": 212672.0, \"positiveIncrease\": 10595.0, \"death\": 27587.0, \"deathIncrease\": 89.0, \"positiveRate\": 0.05, \"state\": \"New York\", \"sma7d\": 81.429}, {\"date\": \"2020-12-12T00:00:00\", \"totalTestResultsIncrease\": 242927.0, \"positiveIncrease\": 11129.0, \"death\": 27675.0, \"deathIncrease\": 88.0, \"positiveRate\": 0.046, \"state\": \"New York\", \"sma7d\": 83.714}, {\"date\": \"2020-12-13T00:00:00\", \"totalTestResultsIncrease\": 205250.0, \"positiveIncrease\": 10194.0, \"death\": 27785.0, \"deathIncrease\": 110.0, \"positiveRate\": 0.05, \"state\": \"New York\", \"sma7d\": 90.857}, {\"date\": \"2020-12-14T00:00:00\", \"totalTestResultsIncrease\": 159844.0, \"positiveIncrease\": 9044.0, \"death\": 27870.0, \"deathIncrease\": 85.0, \"positiveRate\": 0.057, \"state\": \"New York\", \"sma7d\": 91.143}, {\"date\": \"2020-12-15T00:00:00\", \"totalTestResultsIncrease\": 194188.0, \"positiveIncrease\": 10353.0, \"death\": 28002.0, \"deathIncrease\": 132.0, \"positiveRate\": 0.053, \"state\": \"New York\", \"sma7d\": 99.286}, {\"date\": \"2020-12-16T00:00:00\", \"totalTestResultsIncrease\": 160947.0, \"positiveIncrease\": 9998.0, \"death\": 28100.0, \"deathIncrease\": 98.0, \"positiveRate\": 0.062, \"state\": \"New York\", \"sma7d\": 99.429}, {\"date\": \"2020-12-17T00:00:00\", \"totalTestResultsIncrease\": 202772.0, \"positiveIncrease\": 10914.0, \"death\": 28222.0, \"deathIncrease\": 122.0, \"positiveRate\": 0.054, \"state\": \"New York\", \"sma7d\": 103.429}, {\"date\": \"2020-12-18T00:00:00\", \"totalTestResultsIncrease\": 249385.0, \"positiveIncrease\": 12697.0, \"death\": 28344.0, \"deathIncrease\": 122.0, \"positiveRate\": 0.051, \"state\": \"New York\", \"sma7d\": 108.143}, {\"date\": \"2020-12-19T00:00:00\", \"totalTestResultsIncrease\": 191476.0, \"positiveIncrease\": 9919.0, \"death\": 28474.0, \"deathIncrease\": 130.0, \"positiveRate\": 0.052, \"state\": \"New York\", \"sma7d\": 114.143}, {\"date\": \"2020-12-20T00:00:00\", \"totalTestResultsIncrease\": 197251.0, \"positiveIncrease\": 9957.0, \"death\": 28598.0, \"deathIncrease\": 124.0, \"positiveRate\": 0.05, \"state\": \"New York\", \"sma7d\": 116.143}, {\"date\": \"2020-12-21T00:00:00\", \"totalTestResultsIncrease\": 156510.0, \"positiveIncrease\": 9007.0, \"death\": 28709.0, \"deathIncrease\": 111.0, \"positiveRate\": 0.058, \"state\": \"New York\", \"sma7d\": 119.857}, {\"date\": \"2020-12-22T00:00:00\", \"totalTestResultsIncrease\": 164868.0, \"positiveIncrease\": 9716.0, \"death\": 28850.0, \"deathIncrease\": 141.0, \"positiveRate\": 0.059, \"state\": \"New York\", \"sma7d\": 121.143}, {\"date\": \"2020-12-23T00:00:00\", \"totalTestResultsIncrease\": 204361.0, \"positiveIncrease\": 11937.0, \"death\": 29016.0, \"deathIncrease\": 166.0, \"positiveRate\": 0.058, \"state\": \"New York\", \"sma7d\": 130.857}, {\"date\": \"2020-12-24T00:00:00\", \"totalTestResultsIncrease\": 226296.0, \"positiveIncrease\": 12568.0, \"death\": 29149.0, \"deathIncrease\": 133.0, \"positiveRate\": 0.056, \"state\": \"New York\", \"sma7d\": 132.429}, {\"date\": \"2020-12-25T00:00:00\", \"totalTestResultsIncrease\": 226560.0, \"positiveIncrease\": 12446.0, \"death\": 29270.0, \"deathIncrease\": 121.0, \"positiveRate\": 0.055, \"state\": \"New York\", \"sma7d\": 132.286}, {\"date\": \"2020-12-26T00:00:00\", \"totalTestResultsIncrease\": 201442.0, \"positiveIncrease\": 10806.0, \"death\": 29396.0, \"deathIncrease\": 126.0, \"positiveRate\": 0.054, \"state\": \"New York\", \"sma7d\": 131.714}, {\"date\": \"2020-12-27T00:00:00\", \"totalTestResultsIncrease\": 130299.0, \"positiveIncrease\": 7623.0, \"death\": 29511.0, \"deathIncrease\": 115.0, \"positiveRate\": 0.059, \"state\": \"New York\", \"sma7d\": 130.429}, {\"date\": \"2020-12-28T00:00:00\", \"totalTestResultsIncrease\": 124866.0, \"positiveIncrease\": 10407.0, \"death\": 29629.0, \"deathIncrease\": 118.0, \"positiveRate\": 0.083, \"state\": \"New York\", \"sma7d\": 131.429}, {\"date\": \"2020-12-29T00:00:00\", \"totalTestResultsIncrease\": 160164.0, \"positiveIncrease\": 11438.0, \"death\": 29756.0, \"deathIncrease\": 127.0, \"positiveRate\": 0.071, \"state\": \"New York\", \"sma7d\": 129.429}, {\"date\": \"2020-12-30T00:00:00\", \"totalTestResultsIncrease\": 154949.0, \"positiveIncrease\": 13422.0, \"death\": 29905.0, \"deathIncrease\": 149.0, \"positiveRate\": 0.087, \"state\": \"New York\", \"sma7d\": 127.0}, {\"date\": \"2020-12-31T00:00:00\", \"totalTestResultsIncrease\": 216587.0, \"positiveIncrease\": 16802.0, \"death\": 30040.0, \"deathIncrease\": 135.0, \"positiveRate\": 0.078, \"state\": \"New York\", \"sma7d\": 127.286}, {\"date\": \"2021-01-01T00:00:00\", \"totalTestResultsIncrease\": 219253.0, \"positiveIncrease\": 16497.0, \"death\": 30208.0, \"deathIncrease\": 168.0, \"positiveRate\": 0.075, \"state\": \"New York\", \"sma7d\": 134.0}, {\"date\": \"2021-01-02T00:00:00\", \"totalTestResultsIncrease\": 202446.0, \"positiveIncrease\": 15074.0, \"death\": 30337.0, \"deathIncrease\": 129.0, \"positiveRate\": 0.074, \"state\": \"New York\", \"sma7d\": 134.429}, {\"date\": \"2021-01-03T00:00:00\", \"totalTestResultsIncrease\": 142345.0, \"positiveIncrease\": 11368.0, \"death\": 30476.0, \"deathIncrease\": 139.0, \"positiveRate\": 0.08, \"state\": \"New York\", \"sma7d\": 137.857}, {\"date\": \"2021-01-04T00:00:00\", \"totalTestResultsIncrease\": 134360.0, \"positiveIncrease\": 11209.0, \"death\": 30648.0, \"deathIncrease\": 172.0, \"positiveRate\": 0.083, \"state\": \"New York\", \"sma7d\": 145.571}, {\"date\": \"2021-01-05T00:00:00\", \"totalTestResultsIncrease\": 152402.0, \"positiveIncrease\": 12666.0, \"death\": 30802.0, \"deathIncrease\": 154.0, \"positiveRate\": 0.083, \"state\": \"New York\", \"sma7d\": 149.429}, {\"date\": \"2021-01-06T00:00:00\", \"totalTestResultsIncrease\": 197816.0, \"positiveIncrease\": 16648.0, \"death\": 30965.0, \"deathIncrease\": 163.0, \"positiveRate\": 0.084, \"state\": \"New York\", \"sma7d\": 151.429}, {\"date\": \"2021-01-07T00:00:00\", \"totalTestResultsIncrease\": 238550.0, \"positiveIncrease\": 17636.0, \"death\": 31164.0, \"deathIncrease\": 199.0, \"positiveRate\": 0.074, \"state\": \"New York\", \"sma7d\": 160.571}, {\"date\": \"2021-01-08T00:00:00\", \"totalTestResultsIncrease\": 243903.0, \"positiveIncrease\": 18832.0, \"death\": 31329.0, \"deathIncrease\": 165.0, \"positiveRate\": 0.077, \"state\": \"New York\", \"sma7d\": 160.143}, {\"date\": \"2021-01-09T00:00:00\", \"totalTestResultsIncrease\": 258031.0, \"positiveIncrease\": 16943.0, \"death\": 31519.0, \"deathIncrease\": 190.0, \"positiveRate\": 0.066, \"state\": \"New York\", \"sma7d\": 168.857}, {\"date\": \"2021-01-10T00:00:00\", \"totalTestResultsIncrease\": 246836.0, \"positiveIncrease\": 15355.0, \"death\": 31672.0, \"deathIncrease\": 153.0, \"positiveRate\": 0.062, \"state\": \"New York\", \"sma7d\": 170.857}, {\"date\": \"2021-01-11T00:00:00\", \"totalTestResultsIncrease\": 203904.0, \"positiveIncrease\": 13714.0, \"death\": 31841.0, \"deathIncrease\": 169.0, \"positiveRate\": 0.067, \"state\": \"New York\", \"sma7d\": 170.429}, {\"date\": \"2021-01-12T00:00:00\", \"totalTestResultsIncrease\": 196671.0, \"positiveIncrease\": 15214.0, \"death\": 32007.0, \"deathIncrease\": 166.0, \"positiveRate\": 0.077, \"state\": \"New York\", \"sma7d\": 172.143}, {\"date\": \"2021-01-13T00:00:00\", \"totalTestResultsIncrease\": 196868.0, \"positiveIncrease\": 14577.0, \"death\": 32175.0, \"deathIncrease\": 168.0, \"positiveRate\": 0.074, \"state\": \"New York\", \"sma7d\": 172.857}]}}, {\"mode\": \"vega-lite\"});\n",
       "</script>"
      ],
      "text/plain": [
       "alt.LayerChart(...)"
      ]
     },
     "execution_count": 13,
     "metadata": {},
     "output_type": "execute_result"
    }
   ],
   "source": [
    "create_plot(ny, 'deathIncrease')"
   ]
  },
  {
   "cell_type": "markdown",
   "metadata": {
    "papermill": {
     "duration": 0.015778,
     "end_time": "2021-01-14T09:50:57.849414",
     "exception": false,
     "start_time": "2021-01-14T09:50:57.833636",
     "status": "completed"
    },
    "tags": []
   },
   "source": [
    "## Non Tri-State"
   ]
  },
  {
   "cell_type": "code",
   "execution_count": 14,
   "metadata": {
    "execution": {
     "iopub.execute_input": "2021-01-14T09:50:57.885289Z",
     "iopub.status.busy": "2021-01-14T09:50:57.884374Z",
     "iopub.status.idle": "2021-01-14T09:50:58.253549Z",
     "shell.execute_reply": "2021-01-14T09:50:58.252690Z"
    },
    "papermill": {
     "duration": 0.388604,
     "end_time": "2021-01-14T09:50:58.253756",
     "exception": false,
     "start_time": "2021-01-14T09:50:57.865152",
     "status": "completed"
    },
    "tags": []
   },
   "outputs": [],
   "source": [
    "non_tristate = create_df(df, lambda d: ~d['state'].isin(['CT','NJ','NY']), 'Non Tri-State')"
   ]
  },
  {
   "cell_type": "code",
   "execution_count": 15,
   "metadata": {
    "execution": {
     "iopub.execute_input": "2021-01-14T09:50:58.319567Z",
     "iopub.status.busy": "2021-01-14T09:50:58.298851Z",
     "iopub.status.idle": "2021-01-14T09:50:58.392904Z",
     "shell.execute_reply": "2021-01-14T09:50:58.392398Z"
    },
    "papermill": {
     "duration": 0.117433,
     "end_time": "2021-01-14T09:50:58.393018",
     "exception": false,
     "start_time": "2021-01-14T09:50:58.275585",
     "status": "completed"
    },
    "tags": []
   },
   "outputs": [
    {
     "data": {
      "text/html": [
       "\n",
       "<div id=\"altair-viz-0d6daafd55834cc4a1d43df44f60d2f5\"></div>\n",
       "<script type=\"text/javascript\">\n",
       "  (function(spec, embedOpt){\n",
       "    let outputDiv = document.currentScript.previousElementSibling;\n",
       "    if (outputDiv.id !== \"altair-viz-0d6daafd55834cc4a1d43df44f60d2f5\") {\n",
       "      outputDiv = document.getElementById(\"altair-viz-0d6daafd55834cc4a1d43df44f60d2f5\");\n",
       "    }\n",
       "    const paths = {\n",
       "      \"vega\": \"https://cdn.jsdelivr.net/npm//vega@5?noext\",\n",
       "      \"vega-lib\": \"https://cdn.jsdelivr.net/npm//vega-lib?noext\",\n",
       "      \"vega-lite\": \"https://cdn.jsdelivr.net/npm//vega-lite@4.8.1?noext\",\n",
       "      \"vega-embed\": \"https://cdn.jsdelivr.net/npm//vega-embed@6?noext\",\n",
       "    };\n",
       "\n",
       "    function loadScript(lib) {\n",
       "      return new Promise(function(resolve, reject) {\n",
       "        var s = document.createElement('script');\n",
       "        s.src = paths[lib];\n",
       "        s.async = true;\n",
       "        s.onload = () => resolve(paths[lib]);\n",
       "        s.onerror = () => reject(`Error loading script: ${paths[lib]}`);\n",
       "        document.getElementsByTagName(\"head\")[0].appendChild(s);\n",
       "      });\n",
       "    }\n",
       "\n",
       "    function showError(err) {\n",
       "      outputDiv.innerHTML = `<div class=\"error\" style=\"color:red;\">${err}</div>`;\n",
       "      throw err;\n",
       "    }\n",
       "\n",
       "    function displayChart(vegaEmbed) {\n",
       "      vegaEmbed(outputDiv, spec, embedOpt)\n",
       "        .catch(err => showError(`Javascript Error: ${err.message}<br>This usually means there's a typo in your chart specification. See the javascript console for the full traceback.`));\n",
       "    }\n",
       "\n",
       "    if(typeof define === \"function\" && define.amd) {\n",
       "      requirejs.config({paths});\n",
       "      require([\"vega-embed\"], displayChart, err => showError(`Error loading script: ${err.message}`));\n",
       "    } else if (typeof vegaEmbed === \"function\") {\n",
       "      displayChart(vegaEmbed);\n",
       "    } else {\n",
       "      loadScript(\"vega\")\n",
       "        .then(() => loadScript(\"vega-lite\"))\n",
       "        .then(() => loadScript(\"vega-embed\"))\n",
       "        .catch(showError)\n",
       "        .then(() => displayChart(vegaEmbed));\n",
       "    }\n",
       "  })({\"config\": {\"view\": {\"continuousWidth\": 400, \"continuousHeight\": 300}}, \"layer\": [{\"layer\": [{\"mark\": {\"type\": \"point\", \"size\": 75}, \"encoding\": {\"tooltip\": [{\"type\": \"temporal\", \"field\": \"date\"}, {\"type\": \"quantitative\", \"field\": \"positiveIncrease\"}, {\"type\": \"quantitative\", \"field\": \"sma7d\"}], \"x\": {\"type\": \"temporal\", \"field\": \"date\"}, \"y\": {\"type\": \"quantitative\", \"field\": \"positiveIncrease\"}}, \"selection\": {\"selector014\": {\"type\": \"interval\", \"bind\": \"scales\", \"encodings\": [\"x\", \"y\"]}}}, {\"mark\": {\"type\": \"line\", \"color\": \"purple\"}, \"encoding\": {\"x\": {\"type\": \"temporal\", \"field\": \"date\"}, \"y\": {\"type\": \"quantitative\", \"field\": \"sma7d\"}}}]}, {\"mark\": {\"type\": \"rule\", \"color\": \"#aaa\"}, \"encoding\": {\"x\": {\"type\": \"temporal\", \"field\": \"date\"}}, \"transform\": [{\"filter\": {\"selection\": \"selector013\"}}]}, {\"mark\": \"circle\", \"encoding\": {\"opacity\": {\"condition\": {\"value\": 1, \"selection\": \"selector013\"}, \"value\": 0}, \"tooltip\": [{\"type\": \"temporal\", \"field\": \"date\"}, {\"type\": \"quantitative\", \"field\": \"positiveIncrease\"}, {\"type\": \"quantitative\", \"field\": \"sma7d\"}], \"x\": {\"type\": \"temporal\", \"field\": \"date\"}, \"y\": {\"type\": \"quantitative\", \"field\": \"positiveIncrease\"}}, \"selection\": {\"selector013\": {\"type\": \"single\", \"encodings\": [\"x\"], \"on\": \"mouseover\", \"nearest\": true, \"empty\": \"none\"}}}, {\"mark\": {\"type\": \"text\", \"align\": \"left\", \"dx\": 5, \"dy\": -5, \"stroke\": \"white\", \"strokeWidth\": 2}, \"encoding\": {\"text\": {\"type\": \"quantitative\", \"field\": \"positiveIncrease\"}, \"tooltip\": [{\"type\": \"temporal\", \"field\": \"date\"}, {\"type\": \"quantitative\", \"field\": \"positiveIncrease\"}, {\"type\": \"quantitative\", \"field\": \"sma7d\"}], \"x\": {\"type\": \"temporal\", \"field\": \"date\"}, \"y\": {\"type\": \"quantitative\", \"field\": \"positiveIncrease\"}}, \"transform\": [{\"filter\": {\"selection\": \"selector013\"}}]}, {\"mark\": {\"type\": \"text\", \"align\": \"left\", \"dx\": 5, \"dy\": -5}, \"encoding\": {\"text\": {\"type\": \"quantitative\", \"field\": \"positiveIncrease\"}, \"tooltip\": [{\"type\": \"temporal\", \"field\": \"date\"}, {\"type\": \"quantitative\", \"field\": \"positiveIncrease\"}, {\"type\": \"quantitative\", \"field\": \"sma7d\"}], \"x\": {\"type\": \"temporal\", \"field\": \"date\"}, \"y\": {\"type\": \"quantitative\", \"field\": \"positiveIncrease\"}}, \"transform\": [{\"filter\": {\"selection\": \"selector013\"}}]}], \"data\": {\"name\": \"data-3bff475bbcd5447120e4b0d5f7a2e76d\"}, \"height\": 400, \"title\": \"Non Tri-State: positiveIncrease\", \"width\": 500, \"$schema\": \"https://vega.github.io/schema/vega-lite/v4.8.1.json\", \"datasets\": {\"data-3bff475bbcd5447120e4b0d5f7a2e76d\": [{\"date\": \"2020-11-20T00:00:00\", \"totalTestResultsIncrease\": 1654571.0, \"positiveIncrease\": 184613.0, \"death\": 198258.0, \"deathIncrease\": 1829.0, \"positiveRate\": 0.112, \"state\": \"Non Tri-State\", \"sma7d\": 156591.429}, {\"date\": \"2020-11-21T00:00:00\", \"totalTestResultsIncrease\": 1792598.0, \"positiveIncrease\": 171977.0, \"death\": 199741.0, \"deathIncrease\": 1483.0, \"positiveRate\": 0.096, \"state\": \"Non Tri-State\", \"sma7d\": 158756.0}, {\"date\": \"2020-11-22T00:00:00\", \"totalTestResultsIncrease\": 1520273.0, \"positiveIncrease\": 144003.0, \"death\": 200618.0, \"deathIncrease\": 877.0, \"positiveRate\": 0.095, \"state\": \"Non Tri-State\", \"sma7d\": 159579.429}, {\"date\": \"2020-11-23T00:00:00\", \"totalTestResultsIncrease\": 1393403.0, \"positiveIncrease\": 139364.0, \"death\": 201384.0, \"deathIncrease\": 766.0, \"positiveRate\": 0.1, \"state\": \"Non Tri-State\", \"sma7d\": 159653.143}, {\"date\": \"2020-11-24T00:00:00\", \"totalTestResultsIncrease\": 1576609.0, \"positiveIncrease\": 154859.0, \"death\": 203367.0, \"deathIncrease\": 1983.0, \"positiveRate\": 0.098, \"state\": \"Non Tri-State\", \"sma7d\": 160704.143}, {\"date\": \"2020-11-25T00:00:00\", \"totalTestResultsIncrease\": 1521872.0, \"positiveIncrease\": 174785.0, \"death\": 205495.0, \"deathIncrease\": 2128.0, \"positiveRate\": 0.115, \"state\": \"Non Tri-State\", \"sma7d\": 163462.286}, {\"date\": \"2020-11-26T00:00:00\", \"totalTestResultsIncrease\": 1108175.0, \"positiveIncrease\": 116970.0, \"death\": 206781.0, \"deathIncrease\": 1286.0, \"positiveRate\": 0.106, \"state\": \"Non Tri-State\", \"sma7d\": 155224.429}, {\"date\": \"2020-11-27T00:00:00\", \"totalTestResultsIncrease\": 1748474.0, \"positiveIncrease\": 182157.0, \"death\": 208094.0, \"deathIncrease\": 1313.0, \"positiveRate\": 0.104, \"state\": \"Non Tri-State\", \"sma7d\": 154873.571}, {\"date\": \"2020-11-28T00:00:00\", \"totalTestResultsIncrease\": 1355300.0, \"positiveIncrease\": 140471.0, \"death\": 209270.0, \"deathIncrease\": 1176.0, \"positiveRate\": 0.104, \"state\": \"Non Tri-State\", \"sma7d\": 150372.714}, {\"date\": \"2020-11-29T00:00:00\", \"totalTestResultsIncrease\": 1125110.0, \"positiveIncrease\": 125745.0, \"death\": 210024.0, \"deathIncrease\": 754.0, \"positiveRate\": 0.112, \"state\": \"Non Tri-State\", \"sma7d\": 147764.429}, {\"date\": \"2020-11-30T00:00:00\", \"totalTestResultsIncrease\": 1217222.0, \"positiveIncrease\": 134168.0, \"death\": 210930.0, \"deathIncrease\": 906.0, \"positiveRate\": 0.11, \"state\": \"Non Tri-State\", \"sma7d\": 147022.143}, {\"date\": \"2020-12-01T00:00:00\", \"totalTestResultsIncrease\": 1279142.0, \"positiveIncrease\": 164950.0, \"death\": 213240.0, \"deathIncrease\": 2310.0, \"positiveRate\": 0.129, \"state\": \"Non Tri-State\", \"sma7d\": 148463.714}, {\"date\": \"2020-12-02T00:00:00\", \"totalTestResultsIncrease\": 1281546.0, \"positiveIncrease\": 184946.0, \"death\": 215865.0, \"deathIncrease\": 2625.0, \"positiveRate\": 0.144, \"state\": \"Non Tri-State\", \"sma7d\": 149915.286}, {\"date\": \"2020-12-03T00:00:00\", \"totalTestResultsIncrease\": 1578819.0, \"positiveIncrease\": 194643.0, \"death\": 218537.0, \"deathIncrease\": 2672.0, \"positiveRate\": 0.123, \"state\": \"Non Tri-State\", \"sma7d\": 161011.429}, {\"date\": \"2020-12-04T00:00:00\", \"totalTestResultsIncrease\": 1618914.0, \"positiveIncrease\": 209649.0, \"death\": 220957.0, \"deathIncrease\": 2420.0, \"positiveRate\": 0.129, \"state\": \"Non Tri-State\", \"sma7d\": 164938.857}, {\"date\": \"2020-12-05T00:00:00\", \"totalTestResultsIncrease\": 1907544.0, \"positiveIncrease\": 200961.0, \"death\": 223320.0, \"deathIncrease\": 2363.0, \"positiveRate\": 0.105, \"state\": \"Non Tri-State\", \"sma7d\": 173580.286}, {\"date\": \"2020-12-06T00:00:00\", \"totalTestResultsIncrease\": 1407762.0, \"positiveIncrease\": 166017.0, \"death\": 224408.0, \"deathIncrease\": 1088.0, \"positiveRate\": 0.118, \"state\": \"Non Tri-State\", \"sma7d\": 179333.429}, {\"date\": \"2020-12-07T00:00:00\", \"totalTestResultsIncrease\": 1445889.0, \"positiveIncrease\": 161905.0, \"death\": 225523.0, \"deathIncrease\": 1115.0, \"positiveRate\": 0.112, \"state\": \"Non Tri-State\", \"sma7d\": 183295.857}, {\"date\": \"2020-12-08T00:00:00\", \"totalTestResultsIncrease\": 1401797.0, \"positiveIncrease\": 197885.0, \"death\": 228020.0, \"deathIncrease\": 2497.0, \"positiveRate\": 0.141, \"state\": \"Non Tri-State\", \"sma7d\": 188000.857}, {\"date\": \"2020-12-09T00:00:00\", \"totalTestResultsIncrease\": 1439031.0, \"positiveIncrease\": 196951.0, \"death\": 230933.0, \"deathIncrease\": 2913.0, \"positiveRate\": 0.137, \"state\": \"Non Tri-State\", \"sma7d\": 189715.857}, {\"date\": \"2020-12-10T00:00:00\", \"totalTestResultsIncrease\": 1603181.0, \"positiveIncrease\": 200876.0, \"death\": 233863.0, \"deathIncrease\": 2930.0, \"positiveRate\": 0.125, \"state\": \"Non Tri-State\", \"sma7d\": 190606.286}, {\"date\": \"2020-12-11T00:00:00\", \"totalTestResultsIncrease\": 1670039.0, \"positiveIncrease\": 216759.0, \"death\": 236431.0, \"deathIncrease\": 2568.0, \"positiveRate\": 0.13, \"state\": \"Non Tri-State\", \"sma7d\": 191622.0}, {\"date\": \"2020-12-12T00:00:00\", \"totalTestResultsIncrease\": 1584932.0, \"positiveIncrease\": 207270.0, \"death\": 238770.0, \"deathIncrease\": 2339.0, \"positiveRate\": 0.131, \"state\": \"Non Tri-State\", \"sma7d\": 192523.286}, {\"date\": \"2020-12-13T00:00:00\", \"totalTestResultsIncrease\": 1560202.0, \"positiveIncrease\": 171858.0, \"death\": 240142.0, \"deathIncrease\": 1372.0, \"positiveRate\": 0.11, \"state\": \"Non Tri-State\", \"sma7d\": 193357.714}, {\"date\": \"2020-12-14T00:00:00\", \"totalTestResultsIncrease\": 1627012.0, \"positiveIncrease\": 171250.0, \"death\": 241309.0, \"deathIncrease\": 1167.0, \"positiveRate\": 0.105, \"state\": \"Non Tri-State\", \"sma7d\": 194692.714}, {\"date\": \"2020-12-15T00:00:00\", \"totalTestResultsIncrease\": 1493730.0, \"positiveIncrease\": 174069.0, \"death\": 243982.0, \"deathIncrease\": 2673.0, \"positiveRate\": 0.117, \"state\": \"Non Tri-State\", \"sma7d\": 191290.429}, {\"date\": \"2020-12-16T00:00:00\", \"totalTestResultsIncrease\": 1533875.0, \"positiveIncrease\": 213227.0, \"death\": 247166.0, \"deathIncrease\": 3184.0, \"positiveRate\": 0.139, \"state\": \"Non Tri-State\", \"sma7d\": 193615.571}, {\"date\": \"2020-12-17T00:00:00\", \"totalTestResultsIncrease\": 1620802.0, \"positiveIncrease\": 222882.0, \"death\": 250386.0, \"deathIncrease\": 3220.0, \"positiveRate\": 0.138, \"state\": \"Non Tri-State\", \"sma7d\": 196759.286}, {\"date\": \"2020-12-18T00:00:00\", \"totalTestResultsIncrease\": 1762823.0, \"positiveIncrease\": 219915.0, \"death\": 253057.0, \"deathIncrease\": 2671.0, \"positiveRate\": 0.125, \"state\": \"Non Tri-State\", \"sma7d\": 197210.143}, {\"date\": \"2020-12-19T00:00:00\", \"totalTestResultsIncrease\": 1566149.0, \"positiveIncrease\": 188568.0, \"death\": 255586.0, \"deathIncrease\": 2529.0, \"positiveRate\": 0.12, \"state\": \"Non Tri-State\", \"sma7d\": 194538.429}, {\"date\": \"2020-12-20T00:00:00\", \"totalTestResultsIncrease\": 1589098.0, \"positiveIncrease\": 181275.0, \"death\": 257109.0, \"deathIncrease\": 1523.0, \"positiveRate\": 0.114, \"state\": \"Non Tri-State\", \"sma7d\": 195883.714}, {\"date\": \"2020-12-21T00:00:00\", \"totalTestResultsIncrease\": 1588929.0, \"positiveIncrease\": 161709.0, \"death\": 258354.0, \"deathIncrease\": 1245.0, \"positiveRate\": 0.102, \"state\": \"Non Tri-State\", \"sma7d\": 194520.714}, {\"date\": \"2020-12-22T00:00:00\", \"totalTestResultsIncrease\": 1533484.0, \"positiveIncrease\": 173567.0, \"death\": 261220.0, \"deathIncrease\": 2866.0, \"positiveRate\": 0.113, \"state\": \"Non Tri-State\", \"sma7d\": 194449.0}, {\"date\": \"2020-12-23T00:00:00\", \"totalTestResultsIncrease\": 1458593.0, \"positiveIncrease\": 202771.0, \"death\": 264274.0, \"deathIncrease\": 3054.0, \"positiveRate\": 0.139, \"state\": \"Non Tri-State\", \"sma7d\": 192955.286}, {\"date\": \"2020-12-24T00:00:00\", \"totalTestResultsIncrease\": 1621609.0, \"positiveIncrease\": 184361.0, \"death\": 266966.0, \"deathIncrease\": 2692.0, \"positiveRate\": 0.114, \"state\": \"Non Tri-State\", \"sma7d\": 187452.286}, {\"date\": \"2020-12-25T00:00:00\", \"totalTestResultsIncrease\": 1084166.0, \"positiveIncrease\": 107816.0, \"death\": 268347.0, \"deathIncrease\": 1381.0, \"positiveRate\": 0.099, \"state\": \"Non Tri-State\", \"sma7d\": 171438.143}, {\"date\": \"2020-12-26T00:00:00\", \"totalTestResultsIncrease\": 1916288.0, \"positiveIncrease\": 174978.0, \"death\": 269629.0, \"deathIncrease\": 1282.0, \"positiveRate\": 0.091, \"state\": \"Non Tri-State\", \"sma7d\": 169496.714}, {\"date\": \"2020-12-27T00:00:00\", \"totalTestResultsIncrease\": 1207146.0, \"positiveIncrease\": 142460.0, \"death\": 270894.0, \"deathIncrease\": 1265.0, \"positiveRate\": 0.118, \"state\": \"Non Tri-State\", \"sma7d\": 163951.714}, {\"date\": \"2020-12-28T00:00:00\", \"totalTestResultsIncrease\": 1020438.0, \"positiveIncrease\": 141161.0, \"death\": 272132.0, \"deathIncrease\": 1238.0, \"positiveRate\": 0.138, \"state\": \"Non Tri-State\", \"sma7d\": 161016.286}, {\"date\": \"2020-12-29T00:00:00\", \"totalTestResultsIncrease\": 1081278.0, \"positiveIncrease\": 179470.0, \"death\": 275148.0, \"deathIncrease\": 3016.0, \"positiveRate\": 0.166, \"state\": \"Non Tri-State\", \"sma7d\": 161859.571}, {\"date\": \"2020-12-30T00:00:00\", \"totalTestResultsIncrease\": 1355529.0, \"positiveIncrease\": 205560.0, \"death\": 278684.0, \"deathIncrease\": 3536.0, \"positiveRate\": 0.152, \"state\": \"Non Tri-State\", \"sma7d\": 162258.0}, {\"date\": \"2020-12-31T00:00:00\", \"totalTestResultsIncrease\": 1469783.0, \"positiveIncrease\": 198477.0, \"death\": 281725.0, \"deathIncrease\": 3041.0, \"positiveRate\": 0.135, \"state\": \"Non Tri-State\", \"sma7d\": 164274.571}, {\"date\": \"2021-01-01T00:00:00\", \"totalTestResultsIncrease\": 1083600.0, \"positiveIncrease\": 158073.0, \"death\": 284031.0, \"deathIncrease\": 2306.0, \"positiveRate\": 0.146, \"state\": \"Non Tri-State\", \"sma7d\": 171454.143}, {\"date\": \"2021-01-02T00:00:00\", \"totalTestResultsIncrease\": 1789307.0, \"positiveIncrease\": 254104.0, \"death\": 286177.0, \"deathIncrease\": 2146.0, \"positiveRate\": 0.142, \"state\": \"Non Tri-State\", \"sma7d\": 182757.857}, {\"date\": \"2021-01-03T00:00:00\", \"totalTestResultsIncrease\": 1255016.0, \"positiveIncrease\": 192300.0, \"death\": 287472.0, \"deathIncrease\": 1295.0, \"positiveRate\": 0.153, \"state\": \"Non Tri-State\", \"sma7d\": 189877.857}, {\"date\": \"2021-01-04T00:00:00\", \"totalTestResultsIncrease\": 1346329.0, \"positiveIncrease\": 160355.0, \"death\": 288742.0, \"deathIncrease\": 1270.0, \"positiveRate\": 0.119, \"state\": \"Non Tri-State\", \"sma7d\": 192619.857}, {\"date\": \"2021-01-05T00:00:00\", \"totalTestResultsIncrease\": 1283110.0, \"positiveIncrease\": 193817.0, \"death\": 291910.0, \"deathIncrease\": 3168.0, \"positiveRate\": 0.151, \"state\": \"Non Tri-State\", \"sma7d\": 194669.429}, {\"date\": \"2021-01-06T00:00:00\", \"totalTestResultsIncrease\": 1327901.0, \"positiveIncrease\": 223104.0, \"death\": 295470.0, \"deathIncrease\": 3560.0, \"positiveRate\": 0.168, \"state\": \"Non Tri-State\", \"sma7d\": 197175.714}, {\"date\": \"2021-01-07T00:00:00\", \"totalTestResultsIncrease\": 1616210.0, \"positiveIncrease\": 240846.0, \"death\": 299170.0, \"deathIncrease\": 3700.0, \"positiveRate\": 0.149, \"state\": \"Non Tri-State\", \"sma7d\": 203228.429}, {\"date\": \"2021-01-08T00:00:00\", \"totalTestResultsIncrease\": 1782273.0, \"positiveIncrease\": 263187.0, \"death\": 302638.0, \"deathIncrease\": 3468.0, \"positiveRate\": 0.148, \"state\": \"Non Tri-State\", \"sma7d\": 218244.714}, {\"date\": \"2021-01-09T00:00:00\", \"totalTestResultsIncrease\": 1739259.0, \"positiveIncrease\": 242029.0, \"death\": 305887.0, \"deathIncrease\": 3249.0, \"positiveRate\": 0.139, \"state\": \"Non Tri-State\", \"sma7d\": 216519.714}, {\"date\": \"2021-01-10T00:00:00\", \"totalTestResultsIncrease\": 1735400.0, \"positiveIncrease\": 206707.0, \"death\": 307770.0, \"deathIncrease\": 1883.0, \"positiveRate\": 0.119, \"state\": \"Non Tri-State\", \"sma7d\": 218577.857}, {\"date\": \"2021-01-11T00:00:00\", \"totalTestResultsIncrease\": 1518131.0, \"positiveIncrease\": 167728.0, \"death\": 309196.0, \"deathIncrease\": 1426.0, \"positiveRate\": 0.11, \"state\": \"Non Tri-State\", \"sma7d\": 219631.143}, {\"date\": \"2021-01-12T00:00:00\", \"totalTestResultsIncrease\": 1475497.0, \"positiveIncrease\": 191319.0, \"death\": 312954.0, \"deathIncrease\": 3758.0, \"positiveRate\": 0.13, \"state\": \"Non Tri-State\", \"sma7d\": 219274.286}, {\"date\": \"2021-01-13T00:00:00\", \"totalTestResultsIncrease\": 1531926.0, \"positiveIncrease\": 193104.0, \"death\": 316599.0, \"deathIncrease\": 3645.0, \"positiveRate\": 0.126, \"state\": \"Non Tri-State\", \"sma7d\": 214988.571}]}}, {\"mode\": \"vega-lite\"});\n",
       "</script>"
      ],
      "text/plain": [
       "alt.LayerChart(...)"
      ]
     },
     "execution_count": 15,
     "metadata": {},
     "output_type": "execute_result"
    }
   ],
   "source": [
    "create_plot(non_tristate, 'positiveIncrease')"
   ]
  },
  {
   "cell_type": "code",
   "execution_count": 16,
   "metadata": {
    "execution": {
     "iopub.execute_input": "2021-01-14T09:50:58.457877Z",
     "iopub.status.busy": "2021-01-14T09:50:58.447496Z",
     "iopub.status.idle": "2021-01-14T09:50:58.524786Z",
     "shell.execute_reply": "2021-01-14T09:50:58.524349Z"
    },
    "papermill": {
     "duration": 0.114456,
     "end_time": "2021-01-14T09:50:58.524902",
     "exception": false,
     "start_time": "2021-01-14T09:50:58.410446",
     "status": "completed"
    },
    "tags": []
   },
   "outputs": [
    {
     "data": {
      "text/html": [
       "\n",
       "<div id=\"altair-viz-00e407024b8a40c29aacfb4f19c51463\"></div>\n",
       "<script type=\"text/javascript\">\n",
       "  (function(spec, embedOpt){\n",
       "    let outputDiv = document.currentScript.previousElementSibling;\n",
       "    if (outputDiv.id !== \"altair-viz-00e407024b8a40c29aacfb4f19c51463\") {\n",
       "      outputDiv = document.getElementById(\"altair-viz-00e407024b8a40c29aacfb4f19c51463\");\n",
       "    }\n",
       "    const paths = {\n",
       "      \"vega\": \"https://cdn.jsdelivr.net/npm//vega@5?noext\",\n",
       "      \"vega-lib\": \"https://cdn.jsdelivr.net/npm//vega-lib?noext\",\n",
       "      \"vega-lite\": \"https://cdn.jsdelivr.net/npm//vega-lite@4.8.1?noext\",\n",
       "      \"vega-embed\": \"https://cdn.jsdelivr.net/npm//vega-embed@6?noext\",\n",
       "    };\n",
       "\n",
       "    function loadScript(lib) {\n",
       "      return new Promise(function(resolve, reject) {\n",
       "        var s = document.createElement('script');\n",
       "        s.src = paths[lib];\n",
       "        s.async = true;\n",
       "        s.onload = () => resolve(paths[lib]);\n",
       "        s.onerror = () => reject(`Error loading script: ${paths[lib]}`);\n",
       "        document.getElementsByTagName(\"head\")[0].appendChild(s);\n",
       "      });\n",
       "    }\n",
       "\n",
       "    function showError(err) {\n",
       "      outputDiv.innerHTML = `<div class=\"error\" style=\"color:red;\">${err}</div>`;\n",
       "      throw err;\n",
       "    }\n",
       "\n",
       "    function displayChart(vegaEmbed) {\n",
       "      vegaEmbed(outputDiv, spec, embedOpt)\n",
       "        .catch(err => showError(`Javascript Error: ${err.message}<br>This usually means there's a typo in your chart specification. See the javascript console for the full traceback.`));\n",
       "    }\n",
       "\n",
       "    if(typeof define === \"function\" && define.amd) {\n",
       "      requirejs.config({paths});\n",
       "      require([\"vega-embed\"], displayChart, err => showError(`Error loading script: ${err.message}`));\n",
       "    } else if (typeof vegaEmbed === \"function\") {\n",
       "      displayChart(vegaEmbed);\n",
       "    } else {\n",
       "      loadScript(\"vega\")\n",
       "        .then(() => loadScript(\"vega-lite\"))\n",
       "        .then(() => loadScript(\"vega-embed\"))\n",
       "        .catch(showError)\n",
       "        .then(() => displayChart(vegaEmbed));\n",
       "    }\n",
       "  })({\"config\": {\"view\": {\"continuousWidth\": 400, \"continuousHeight\": 300}}, \"layer\": [{\"layer\": [{\"mark\": {\"type\": \"point\", \"size\": 75}, \"encoding\": {\"tooltip\": [{\"type\": \"temporal\", \"field\": \"date\"}, {\"type\": \"quantitative\", \"field\": \"positiveRate\"}, {\"type\": \"quantitative\", \"field\": \"sma7d\"}], \"x\": {\"type\": \"temporal\", \"field\": \"date\"}, \"y\": {\"type\": \"quantitative\", \"field\": \"positiveRate\"}}, \"selection\": {\"selector016\": {\"type\": \"interval\", \"bind\": \"scales\", \"encodings\": [\"x\", \"y\"]}}}, {\"mark\": {\"type\": \"line\", \"color\": \"purple\"}, \"encoding\": {\"x\": {\"type\": \"temporal\", \"field\": \"date\"}, \"y\": {\"type\": \"quantitative\", \"field\": \"sma7d\"}}}]}, {\"mark\": {\"type\": \"rule\", \"color\": \"#aaa\"}, \"encoding\": {\"x\": {\"type\": \"temporal\", \"field\": \"date\"}}, \"transform\": [{\"filter\": {\"selection\": \"selector015\"}}]}, {\"mark\": \"circle\", \"encoding\": {\"opacity\": {\"condition\": {\"value\": 1, \"selection\": \"selector015\"}, \"value\": 0}, \"tooltip\": [{\"type\": \"temporal\", \"field\": \"date\"}, {\"type\": \"quantitative\", \"field\": \"positiveRate\"}, {\"type\": \"quantitative\", \"field\": \"sma7d\"}], \"x\": {\"type\": \"temporal\", \"field\": \"date\"}, \"y\": {\"type\": \"quantitative\", \"field\": \"positiveRate\"}}, \"selection\": {\"selector015\": {\"type\": \"single\", \"encodings\": [\"x\"], \"on\": \"mouseover\", \"nearest\": true, \"empty\": \"none\"}}}, {\"mark\": {\"type\": \"text\", \"align\": \"left\", \"dx\": 5, \"dy\": -5, \"stroke\": \"white\", \"strokeWidth\": 2}, \"encoding\": {\"text\": {\"type\": \"quantitative\", \"field\": \"positiveRate\"}, \"tooltip\": [{\"type\": \"temporal\", \"field\": \"date\"}, {\"type\": \"quantitative\", \"field\": \"positiveRate\"}, {\"type\": \"quantitative\", \"field\": \"sma7d\"}], \"x\": {\"type\": \"temporal\", \"field\": \"date\"}, \"y\": {\"type\": \"quantitative\", \"field\": \"positiveRate\"}}, \"transform\": [{\"filter\": {\"selection\": \"selector015\"}}]}, {\"mark\": {\"type\": \"text\", \"align\": \"left\", \"dx\": 5, \"dy\": -5}, \"encoding\": {\"text\": {\"type\": \"quantitative\", \"field\": \"positiveRate\"}, \"tooltip\": [{\"type\": \"temporal\", \"field\": \"date\"}, {\"type\": \"quantitative\", \"field\": \"positiveRate\"}, {\"type\": \"quantitative\", \"field\": \"sma7d\"}], \"x\": {\"type\": \"temporal\", \"field\": \"date\"}, \"y\": {\"type\": \"quantitative\", \"field\": \"positiveRate\"}}, \"transform\": [{\"filter\": {\"selection\": \"selector015\"}}]}], \"data\": {\"name\": \"data-618e57f76ef0e04d9cb457eadefebbfa\"}, \"height\": 400, \"title\": \"Non Tri-State: positiveRate\", \"width\": 500, \"$schema\": \"https://vega.github.io/schema/vega-lite/v4.8.1.json\", \"datasets\": {\"data-618e57f76ef0e04d9cb457eadefebbfa\": [{\"date\": \"2020-11-20T00:00:00\", \"totalTestResultsIncrease\": 1654571.0, \"positiveIncrease\": 184613.0, \"death\": 198258.0, \"deathIncrease\": 1829.0, \"positiveRate\": 0.112, \"state\": \"Non Tri-State\", \"sma7d\": 0.109}, {\"date\": \"2020-11-21T00:00:00\", \"totalTestResultsIncrease\": 1792598.0, \"positiveIncrease\": 171977.0, \"death\": 199741.0, \"deathIncrease\": 1483.0, \"positiveRate\": 0.096, \"state\": \"Non Tri-State\", \"sma7d\": 0.107}, {\"date\": \"2020-11-22T00:00:00\", \"totalTestResultsIncrease\": 1520273.0, \"positiveIncrease\": 144003.0, \"death\": 200618.0, \"deathIncrease\": 877.0, \"positiveRate\": 0.095, \"state\": \"Non Tri-State\", \"sma7d\": 0.106}, {\"date\": \"2020-11-23T00:00:00\", \"totalTestResultsIncrease\": 1393403.0, \"positiveIncrease\": 139364.0, \"death\": 201384.0, \"deathIncrease\": 766.0, \"positiveRate\": 0.1, \"state\": \"Non Tri-State\", \"sma7d\": 0.105}, {\"date\": \"2020-11-24T00:00:00\", \"totalTestResultsIncrease\": 1576609.0, \"positiveIncrease\": 154859.0, \"death\": 203367.0, \"deathIncrease\": 1983.0, \"positiveRate\": 0.098, \"state\": \"Non Tri-State\", \"sma7d\": 0.104}, {\"date\": \"2020-11-25T00:00:00\", \"totalTestResultsIncrease\": 1521872.0, \"positiveIncrease\": 174785.0, \"death\": 205495.0, \"deathIncrease\": 2128.0, \"positiveRate\": 0.115, \"state\": \"Non Tri-State\", \"sma7d\": 0.104}, {\"date\": \"2020-11-26T00:00:00\", \"totalTestResultsIncrease\": 1108175.0, \"positiveIncrease\": 116970.0, \"death\": 206781.0, \"deathIncrease\": 1286.0, \"positiveRate\": 0.106, \"state\": \"Non Tri-State\", \"sma7d\": 0.103}, {\"date\": \"2020-11-27T00:00:00\", \"totalTestResultsIncrease\": 1748474.0, \"positiveIncrease\": 182157.0, \"death\": 208094.0, \"deathIncrease\": 1313.0, \"positiveRate\": 0.104, \"state\": \"Non Tri-State\", \"sma7d\": 0.102}, {\"date\": \"2020-11-28T00:00:00\", \"totalTestResultsIncrease\": 1355300.0, \"positiveIncrease\": 140471.0, \"death\": 209270.0, \"deathIncrease\": 1176.0, \"positiveRate\": 0.104, \"state\": \"Non Tri-State\", \"sma7d\": 0.103}, {\"date\": \"2020-11-29T00:00:00\", \"totalTestResultsIncrease\": 1125110.0, \"positiveIncrease\": 125745.0, \"death\": 210024.0, \"deathIncrease\": 754.0, \"positiveRate\": 0.112, \"state\": \"Non Tri-State\", \"sma7d\": 0.106}, {\"date\": \"2020-11-30T00:00:00\", \"totalTestResultsIncrease\": 1217222.0, \"positiveIncrease\": 134168.0, \"death\": 210930.0, \"deathIncrease\": 906.0, \"positiveRate\": 0.11, \"state\": \"Non Tri-State\", \"sma7d\": 0.107}, {\"date\": \"2020-12-01T00:00:00\", \"totalTestResultsIncrease\": 1279142.0, \"positiveIncrease\": 164950.0, \"death\": 213240.0, \"deathIncrease\": 2310.0, \"positiveRate\": 0.129, \"state\": \"Non Tri-State\", \"sma7d\": 0.111}, {\"date\": \"2020-12-02T00:00:00\", \"totalTestResultsIncrease\": 1281546.0, \"positiveIncrease\": 184946.0, \"death\": 215865.0, \"deathIncrease\": 2625.0, \"positiveRate\": 0.144, \"state\": \"Non Tri-State\", \"sma7d\": 0.116}, {\"date\": \"2020-12-03T00:00:00\", \"totalTestResultsIncrease\": 1578819.0, \"positiveIncrease\": 194643.0, \"death\": 218537.0, \"deathIncrease\": 2672.0, \"positiveRate\": 0.123, \"state\": \"Non Tri-State\", \"sma7d\": 0.118}, {\"date\": \"2020-12-04T00:00:00\", \"totalTestResultsIncrease\": 1618914.0, \"positiveIncrease\": 209649.0, \"death\": 220957.0, \"deathIncrease\": 2420.0, \"positiveRate\": 0.129, \"state\": \"Non Tri-State\", \"sma7d\": 0.122}, {\"date\": \"2020-12-05T00:00:00\", \"totalTestResultsIncrease\": 1907544.0, \"positiveIncrease\": 200961.0, \"death\": 223320.0, \"deathIncrease\": 2363.0, \"positiveRate\": 0.105, \"state\": \"Non Tri-State\", \"sma7d\": 0.122}, {\"date\": \"2020-12-06T00:00:00\", \"totalTestResultsIncrease\": 1407762.0, \"positiveIncrease\": 166017.0, \"death\": 224408.0, \"deathIncrease\": 1088.0, \"positiveRate\": 0.118, \"state\": \"Non Tri-State\", \"sma7d\": 0.123}, {\"date\": \"2020-12-07T00:00:00\", \"totalTestResultsIncrease\": 1445889.0, \"positiveIncrease\": 161905.0, \"death\": 225523.0, \"deathIncrease\": 1115.0, \"positiveRate\": 0.112, \"state\": \"Non Tri-State\", \"sma7d\": 0.123}, {\"date\": \"2020-12-08T00:00:00\", \"totalTestResultsIncrease\": 1401797.0, \"positiveIncrease\": 197885.0, \"death\": 228020.0, \"deathIncrease\": 2497.0, \"positiveRate\": 0.141, \"state\": \"Non Tri-State\", \"sma7d\": 0.125}, {\"date\": \"2020-12-09T00:00:00\", \"totalTestResultsIncrease\": 1439031.0, \"positiveIncrease\": 196951.0, \"death\": 230933.0, \"deathIncrease\": 2913.0, \"positiveRate\": 0.137, \"state\": \"Non Tri-State\", \"sma7d\": 0.124}, {\"date\": \"2020-12-10T00:00:00\", \"totalTestResultsIncrease\": 1603181.0, \"positiveIncrease\": 200876.0, \"death\": 233863.0, \"deathIncrease\": 2930.0, \"positiveRate\": 0.125, \"state\": \"Non Tri-State\", \"sma7d\": 0.124}, {\"date\": \"2020-12-11T00:00:00\", \"totalTestResultsIncrease\": 1670039.0, \"positiveIncrease\": 216759.0, \"death\": 236431.0, \"deathIncrease\": 2568.0, \"positiveRate\": 0.13, \"state\": \"Non Tri-State\", \"sma7d\": 0.124}, {\"date\": \"2020-12-12T00:00:00\", \"totalTestResultsIncrease\": 1584932.0, \"positiveIncrease\": 207270.0, \"death\": 238770.0, \"deathIncrease\": 2339.0, \"positiveRate\": 0.131, \"state\": \"Non Tri-State\", \"sma7d\": 0.128}, {\"date\": \"2020-12-13T00:00:00\", \"totalTestResultsIncrease\": 1560202.0, \"positiveIncrease\": 171858.0, \"death\": 240142.0, \"deathIncrease\": 1372.0, \"positiveRate\": 0.11, \"state\": \"Non Tri-State\", \"sma7d\": 0.127}, {\"date\": \"2020-12-14T00:00:00\", \"totalTestResultsIncrease\": 1627012.0, \"positiveIncrease\": 171250.0, \"death\": 241309.0, \"deathIncrease\": 1167.0, \"positiveRate\": 0.105, \"state\": \"Non Tri-State\", \"sma7d\": 0.126}, {\"date\": \"2020-12-15T00:00:00\", \"totalTestResultsIncrease\": 1493730.0, \"positiveIncrease\": 174069.0, \"death\": 243982.0, \"deathIncrease\": 2673.0, \"positiveRate\": 0.117, \"state\": \"Non Tri-State\", \"sma7d\": 0.122}, {\"date\": \"2020-12-16T00:00:00\", \"totalTestResultsIncrease\": 1533875.0, \"positiveIncrease\": 213227.0, \"death\": 247166.0, \"deathIncrease\": 3184.0, \"positiveRate\": 0.139, \"state\": \"Non Tri-State\", \"sma7d\": 0.122}, {\"date\": \"2020-12-17T00:00:00\", \"totalTestResultsIncrease\": 1620802.0, \"positiveIncrease\": 222882.0, \"death\": 250386.0, \"deathIncrease\": 3220.0, \"positiveRate\": 0.138, \"state\": \"Non Tri-State\", \"sma7d\": 0.124}, {\"date\": \"2020-12-18T00:00:00\", \"totalTestResultsIncrease\": 1762823.0, \"positiveIncrease\": 219915.0, \"death\": 253057.0, \"deathIncrease\": 2671.0, \"positiveRate\": 0.125, \"state\": \"Non Tri-State\", \"sma7d\": 0.124}, {\"date\": \"2020-12-19T00:00:00\", \"totalTestResultsIncrease\": 1566149.0, \"positiveIncrease\": 188568.0, \"death\": 255586.0, \"deathIncrease\": 2529.0, \"positiveRate\": 0.12, \"state\": \"Non Tri-State\", \"sma7d\": 0.122}, {\"date\": \"2020-12-20T00:00:00\", \"totalTestResultsIncrease\": 1589098.0, \"positiveIncrease\": 181275.0, \"death\": 257109.0, \"deathIncrease\": 1523.0, \"positiveRate\": 0.114, \"state\": \"Non Tri-State\", \"sma7d\": 0.123}, {\"date\": \"2020-12-21T00:00:00\", \"totalTestResultsIncrease\": 1588929.0, \"positiveIncrease\": 161709.0, \"death\": 258354.0, \"deathIncrease\": 1245.0, \"positiveRate\": 0.102, \"state\": \"Non Tri-State\", \"sma7d\": 0.122}, {\"date\": \"2020-12-22T00:00:00\", \"totalTestResultsIncrease\": 1533484.0, \"positiveIncrease\": 173567.0, \"death\": 261220.0, \"deathIncrease\": 2866.0, \"positiveRate\": 0.113, \"state\": \"Non Tri-State\", \"sma7d\": 0.122}, {\"date\": \"2020-12-23T00:00:00\", \"totalTestResultsIncrease\": 1458593.0, \"positiveIncrease\": 202771.0, \"death\": 264274.0, \"deathIncrease\": 3054.0, \"positiveRate\": 0.139, \"state\": \"Non Tri-State\", \"sma7d\": 0.122}, {\"date\": \"2020-12-24T00:00:00\", \"totalTestResultsIncrease\": 1621609.0, \"positiveIncrease\": 184361.0, \"death\": 266966.0, \"deathIncrease\": 2692.0, \"positiveRate\": 0.114, \"state\": \"Non Tri-State\", \"sma7d\": 0.118}, {\"date\": \"2020-12-25T00:00:00\", \"totalTestResultsIncrease\": 1084166.0, \"positiveIncrease\": 107816.0, \"death\": 268347.0, \"deathIncrease\": 1381.0, \"positiveRate\": 0.099, \"state\": \"Non Tri-State\", \"sma7d\": 0.114}, {\"date\": \"2020-12-26T00:00:00\", \"totalTestResultsIncrease\": 1916288.0, \"positiveIncrease\": 174978.0, \"death\": 269629.0, \"deathIncrease\": 1282.0, \"positiveRate\": 0.091, \"state\": \"Non Tri-State\", \"sma7d\": 0.11}, {\"date\": \"2020-12-27T00:00:00\", \"totalTestResultsIncrease\": 1207146.0, \"positiveIncrease\": 142460.0, \"death\": 270894.0, \"deathIncrease\": 1265.0, \"positiveRate\": 0.118, \"state\": \"Non Tri-State\", \"sma7d\": 0.111}, {\"date\": \"2020-12-28T00:00:00\", \"totalTestResultsIncrease\": 1020438.0, \"positiveIncrease\": 141161.0, \"death\": 272132.0, \"deathIncrease\": 1238.0, \"positiveRate\": 0.138, \"state\": \"Non Tri-State\", \"sma7d\": 0.116}, {\"date\": \"2020-12-29T00:00:00\", \"totalTestResultsIncrease\": 1081278.0, \"positiveIncrease\": 179470.0, \"death\": 275148.0, \"deathIncrease\": 3016.0, \"positiveRate\": 0.166, \"state\": \"Non Tri-State\", \"sma7d\": 0.124}, {\"date\": \"2020-12-30T00:00:00\", \"totalTestResultsIncrease\": 1355529.0, \"positiveIncrease\": 205560.0, \"death\": 278684.0, \"deathIncrease\": 3536.0, \"positiveRate\": 0.152, \"state\": \"Non Tri-State\", \"sma7d\": 0.125}, {\"date\": \"2020-12-31T00:00:00\", \"totalTestResultsIncrease\": 1469783.0, \"positiveIncrease\": 198477.0, \"death\": 281725.0, \"deathIncrease\": 3041.0, \"positiveRate\": 0.135, \"state\": \"Non Tri-State\", \"sma7d\": 0.128}, {\"date\": \"2021-01-01T00:00:00\", \"totalTestResultsIncrease\": 1083600.0, \"positiveIncrease\": 158073.0, \"death\": 284031.0, \"deathIncrease\": 2306.0, \"positiveRate\": 0.146, \"state\": \"Non Tri-State\", \"sma7d\": 0.135}, {\"date\": \"2021-01-02T00:00:00\", \"totalTestResultsIncrease\": 1789307.0, \"positiveIncrease\": 254104.0, \"death\": 286177.0, \"deathIncrease\": 2146.0, \"positiveRate\": 0.142, \"state\": \"Non Tri-State\", \"sma7d\": 0.142}, {\"date\": \"2021-01-03T00:00:00\", \"totalTestResultsIncrease\": 1255016.0, \"positiveIncrease\": 192300.0, \"death\": 287472.0, \"deathIncrease\": 1295.0, \"positiveRate\": 0.153, \"state\": \"Non Tri-State\", \"sma7d\": 0.147}, {\"date\": \"2021-01-04T00:00:00\", \"totalTestResultsIncrease\": 1346329.0, \"positiveIncrease\": 160355.0, \"death\": 288742.0, \"deathIncrease\": 1270.0, \"positiveRate\": 0.119, \"state\": \"Non Tri-State\", \"sma7d\": 0.145}, {\"date\": \"2021-01-05T00:00:00\", \"totalTestResultsIncrease\": 1283110.0, \"positiveIncrease\": 193817.0, \"death\": 291910.0, \"deathIncrease\": 3168.0, \"positiveRate\": 0.151, \"state\": \"Non Tri-State\", \"sma7d\": 0.143}, {\"date\": \"2021-01-06T00:00:00\", \"totalTestResultsIncrease\": 1327901.0, \"positiveIncrease\": 223104.0, \"death\": 295470.0, \"deathIncrease\": 3560.0, \"positiveRate\": 0.168, \"state\": \"Non Tri-State\", \"sma7d\": 0.145}, {\"date\": \"2021-01-07T00:00:00\", \"totalTestResultsIncrease\": 1616210.0, \"positiveIncrease\": 240846.0, \"death\": 299170.0, \"deathIncrease\": 3700.0, \"positiveRate\": 0.149, \"state\": \"Non Tri-State\", \"sma7d\": 0.147}, {\"date\": \"2021-01-08T00:00:00\", \"totalTestResultsIncrease\": 1782273.0, \"positiveIncrease\": 263187.0, \"death\": 302638.0, \"deathIncrease\": 3468.0, \"positiveRate\": 0.148, \"state\": \"Non Tri-State\", \"sma7d\": 0.147}, {\"date\": \"2021-01-09T00:00:00\", \"totalTestResultsIncrease\": 1739259.0, \"positiveIncrease\": 242029.0, \"death\": 305887.0, \"deathIncrease\": 3249.0, \"positiveRate\": 0.139, \"state\": \"Non Tri-State\", \"sma7d\": 0.147}, {\"date\": \"2021-01-10T00:00:00\", \"totalTestResultsIncrease\": 1735400.0, \"positiveIncrease\": 206707.0, \"death\": 307770.0, \"deathIncrease\": 1883.0, \"positiveRate\": 0.119, \"state\": \"Non Tri-State\", \"sma7d\": 0.142}, {\"date\": \"2021-01-11T00:00:00\", \"totalTestResultsIncrease\": 1518131.0, \"positiveIncrease\": 167728.0, \"death\": 309196.0, \"deathIncrease\": 1426.0, \"positiveRate\": 0.11, \"state\": \"Non Tri-State\", \"sma7d\": 0.141}, {\"date\": \"2021-01-12T00:00:00\", \"totalTestResultsIncrease\": 1475497.0, \"positiveIncrease\": 191319.0, \"death\": 312954.0, \"deathIncrease\": 3758.0, \"positiveRate\": 0.13, \"state\": \"Non Tri-State\", \"sma7d\": 0.138}, {\"date\": \"2021-01-13T00:00:00\", \"totalTestResultsIncrease\": 1531926.0, \"positiveIncrease\": 193104.0, \"death\": 316599.0, \"deathIncrease\": 3645.0, \"positiveRate\": 0.126, \"state\": \"Non Tri-State\", \"sma7d\": 0.132}]}}, {\"mode\": \"vega-lite\"});\n",
       "</script>"
      ],
      "text/plain": [
       "alt.LayerChart(...)"
      ]
     },
     "execution_count": 16,
     "metadata": {},
     "output_type": "execute_result"
    }
   ],
   "source": [
    "create_plot(non_tristate, 'positiveRate')"
   ]
  },
  {
   "cell_type": "code",
   "execution_count": 17,
   "metadata": {
    "execution": {
     "iopub.execute_input": "2021-01-14T09:50:58.563369Z",
     "iopub.status.busy": "2021-01-14T09:50:58.562852Z",
     "iopub.status.idle": "2021-01-14T09:50:58.650994Z",
     "shell.execute_reply": "2021-01-14T09:50:58.651389Z"
    },
    "papermill": {
     "duration": 0.109266,
     "end_time": "2021-01-14T09:50:58.651538",
     "exception": false,
     "start_time": "2021-01-14T09:50:58.542272",
     "status": "completed"
    },
    "tags": []
   },
   "outputs": [
    {
     "data": {
      "text/html": [
       "\n",
       "<div id=\"altair-viz-ec5bc668b2f84b9f8044cc83782f5ec5\"></div>\n",
       "<script type=\"text/javascript\">\n",
       "  (function(spec, embedOpt){\n",
       "    let outputDiv = document.currentScript.previousElementSibling;\n",
       "    if (outputDiv.id !== \"altair-viz-ec5bc668b2f84b9f8044cc83782f5ec5\") {\n",
       "      outputDiv = document.getElementById(\"altair-viz-ec5bc668b2f84b9f8044cc83782f5ec5\");\n",
       "    }\n",
       "    const paths = {\n",
       "      \"vega\": \"https://cdn.jsdelivr.net/npm//vega@5?noext\",\n",
       "      \"vega-lib\": \"https://cdn.jsdelivr.net/npm//vega-lib?noext\",\n",
       "      \"vega-lite\": \"https://cdn.jsdelivr.net/npm//vega-lite@4.8.1?noext\",\n",
       "      \"vega-embed\": \"https://cdn.jsdelivr.net/npm//vega-embed@6?noext\",\n",
       "    };\n",
       "\n",
       "    function loadScript(lib) {\n",
       "      return new Promise(function(resolve, reject) {\n",
       "        var s = document.createElement('script');\n",
       "        s.src = paths[lib];\n",
       "        s.async = true;\n",
       "        s.onload = () => resolve(paths[lib]);\n",
       "        s.onerror = () => reject(`Error loading script: ${paths[lib]}`);\n",
       "        document.getElementsByTagName(\"head\")[0].appendChild(s);\n",
       "      });\n",
       "    }\n",
       "\n",
       "    function showError(err) {\n",
       "      outputDiv.innerHTML = `<div class=\"error\" style=\"color:red;\">${err}</div>`;\n",
       "      throw err;\n",
       "    }\n",
       "\n",
       "    function displayChart(vegaEmbed) {\n",
       "      vegaEmbed(outputDiv, spec, embedOpt)\n",
       "        .catch(err => showError(`Javascript Error: ${err.message}<br>This usually means there's a typo in your chart specification. See the javascript console for the full traceback.`));\n",
       "    }\n",
       "\n",
       "    if(typeof define === \"function\" && define.amd) {\n",
       "      requirejs.config({paths});\n",
       "      require([\"vega-embed\"], displayChart, err => showError(`Error loading script: ${err.message}`));\n",
       "    } else if (typeof vegaEmbed === \"function\") {\n",
       "      displayChart(vegaEmbed);\n",
       "    } else {\n",
       "      loadScript(\"vega\")\n",
       "        .then(() => loadScript(\"vega-lite\"))\n",
       "        .then(() => loadScript(\"vega-embed\"))\n",
       "        .catch(showError)\n",
       "        .then(() => displayChart(vegaEmbed));\n",
       "    }\n",
       "  })({\"config\": {\"view\": {\"continuousWidth\": 400, \"continuousHeight\": 300}}, \"layer\": [{\"layer\": [{\"mark\": {\"type\": \"point\", \"size\": 75}, \"encoding\": {\"tooltip\": [{\"type\": \"temporal\", \"field\": \"date\"}, {\"type\": \"quantitative\", \"field\": \"deathIncrease\"}, {\"type\": \"quantitative\", \"field\": \"sma7d\"}], \"x\": {\"type\": \"temporal\", \"field\": \"date\"}, \"y\": {\"type\": \"quantitative\", \"field\": \"deathIncrease\"}}, \"selection\": {\"selector018\": {\"type\": \"interval\", \"bind\": \"scales\", \"encodings\": [\"x\", \"y\"]}}}, {\"mark\": {\"type\": \"line\", \"color\": \"purple\"}, \"encoding\": {\"x\": {\"type\": \"temporal\", \"field\": \"date\"}, \"y\": {\"type\": \"quantitative\", \"field\": \"sma7d\"}}}]}, {\"mark\": {\"type\": \"rule\", \"color\": \"#aaa\"}, \"encoding\": {\"x\": {\"type\": \"temporal\", \"field\": \"date\"}}, \"transform\": [{\"filter\": {\"selection\": \"selector017\"}}]}, {\"mark\": \"circle\", \"encoding\": {\"opacity\": {\"condition\": {\"value\": 1, \"selection\": \"selector017\"}, \"value\": 0}, \"tooltip\": [{\"type\": \"temporal\", \"field\": \"date\"}, {\"type\": \"quantitative\", \"field\": \"deathIncrease\"}, {\"type\": \"quantitative\", \"field\": \"sma7d\"}], \"x\": {\"type\": \"temporal\", \"field\": \"date\"}, \"y\": {\"type\": \"quantitative\", \"field\": \"deathIncrease\"}}, \"selection\": {\"selector017\": {\"type\": \"single\", \"encodings\": [\"x\"], \"on\": \"mouseover\", \"nearest\": true, \"empty\": \"none\"}}}, {\"mark\": {\"type\": \"text\", \"align\": \"left\", \"dx\": 5, \"dy\": -5, \"stroke\": \"white\", \"strokeWidth\": 2}, \"encoding\": {\"text\": {\"type\": \"quantitative\", \"field\": \"deathIncrease\"}, \"tooltip\": [{\"type\": \"temporal\", \"field\": \"date\"}, {\"type\": \"quantitative\", \"field\": \"deathIncrease\"}, {\"type\": \"quantitative\", \"field\": \"sma7d\"}], \"x\": {\"type\": \"temporal\", \"field\": \"date\"}, \"y\": {\"type\": \"quantitative\", \"field\": \"deathIncrease\"}}, \"transform\": [{\"filter\": {\"selection\": \"selector017\"}}]}, {\"mark\": {\"type\": \"text\", \"align\": \"left\", \"dx\": 5, \"dy\": -5}, \"encoding\": {\"text\": {\"type\": \"quantitative\", \"field\": \"deathIncrease\"}, \"tooltip\": [{\"type\": \"temporal\", \"field\": \"date\"}, {\"type\": \"quantitative\", \"field\": \"deathIncrease\"}, {\"type\": \"quantitative\", \"field\": \"sma7d\"}], \"x\": {\"type\": \"temporal\", \"field\": \"date\"}, \"y\": {\"type\": \"quantitative\", \"field\": \"deathIncrease\"}}, \"transform\": [{\"filter\": {\"selection\": \"selector017\"}}]}], \"data\": {\"name\": \"data-707b66dcf3045f1059874ad9f84ca022\"}, \"height\": 400, \"title\": \"Non Tri-State: deathIncrease\", \"width\": 500, \"$schema\": \"https://vega.github.io/schema/vega-lite/v4.8.1.json\", \"datasets\": {\"data-707b66dcf3045f1059874ad9f84ca022\": [{\"date\": \"2020-11-20T00:00:00\", \"totalTestResultsIncrease\": 1654571.0, \"positiveIncrease\": 184613.0, \"death\": 198258.0, \"deathIncrease\": 1829.0, \"positiveRate\": 0.112, \"state\": \"Non Tri-State\", \"sma7d\": 1362.286}, {\"date\": \"2020-11-21T00:00:00\", \"totalTestResultsIncrease\": 1792598.0, \"positiveIncrease\": 171977.0, \"death\": 199741.0, \"deathIncrease\": 1483.0, \"positiveRate\": 0.096, \"state\": \"Non Tri-State\", \"sma7d\": 1388.0}, {\"date\": \"2020-11-22T00:00:00\", \"totalTestResultsIncrease\": 1520273.0, \"positiveIncrease\": 144003.0, \"death\": 200618.0, \"deathIncrease\": 877.0, \"positiveRate\": 0.095, \"state\": \"Non Tri-State\", \"sma7d\": 1418.429}, {\"date\": \"2020-11-23T00:00:00\", \"totalTestResultsIncrease\": 1393403.0, \"positiveIncrease\": 139364.0, \"death\": 201384.0, \"deathIncrease\": 766.0, \"positiveRate\": 0.1, \"state\": \"Non Tri-State\", \"sma7d\": 1450.0}, {\"date\": \"2020-11-24T00:00:00\", \"totalTestResultsIncrease\": 1576609.0, \"positiveIncrease\": 154859.0, \"death\": 203367.0, \"deathIncrease\": 1983.0, \"positiveRate\": 0.098, \"state\": \"Non Tri-State\", \"sma7d\": 1522.857}, {\"date\": \"2020-11-25T00:00:00\", \"totalTestResultsIncrease\": 1521872.0, \"positiveIncrease\": 174785.0, \"death\": 205495.0, \"deathIncrease\": 2128.0, \"positiveRate\": 0.115, \"state\": \"Non Tri-State\", \"sma7d\": 1569.857}, {\"date\": \"2020-11-26T00:00:00\", \"totalTestResultsIncrease\": 1108175.0, \"positiveIncrease\": 116970.0, \"death\": 206781.0, \"deathIncrease\": 1286.0, \"positiveRate\": 0.106, \"state\": \"Non Tri-State\", \"sma7d\": 1478.857}, {\"date\": \"2020-11-27T00:00:00\", \"totalTestResultsIncrease\": 1748474.0, \"positiveIncrease\": 182157.0, \"death\": 208094.0, \"deathIncrease\": 1313.0, \"positiveRate\": 0.104, \"state\": \"Non Tri-State\", \"sma7d\": 1405.143}, {\"date\": \"2020-11-28T00:00:00\", \"totalTestResultsIncrease\": 1355300.0, \"positiveIncrease\": 140471.0, \"death\": 209270.0, \"deathIncrease\": 1176.0, \"positiveRate\": 0.104, \"state\": \"Non Tri-State\", \"sma7d\": 1361.286}, {\"date\": \"2020-11-29T00:00:00\", \"totalTestResultsIncrease\": 1125110.0, \"positiveIncrease\": 125745.0, \"death\": 210024.0, \"deathIncrease\": 754.0, \"positiveRate\": 0.112, \"state\": \"Non Tri-State\", \"sma7d\": 1343.714}, {\"date\": \"2020-11-30T00:00:00\", \"totalTestResultsIncrease\": 1217222.0, \"positiveIncrease\": 134168.0, \"death\": 210930.0, \"deathIncrease\": 906.0, \"positiveRate\": 0.11, \"state\": \"Non Tri-State\", \"sma7d\": 1363.714}, {\"date\": \"2020-12-01T00:00:00\", \"totalTestResultsIncrease\": 1279142.0, \"positiveIncrease\": 164950.0, \"death\": 213240.0, \"deathIncrease\": 2310.0, \"positiveRate\": 0.129, \"state\": \"Non Tri-State\", \"sma7d\": 1410.429}, {\"date\": \"2020-12-02T00:00:00\", \"totalTestResultsIncrease\": 1281546.0, \"positiveIncrease\": 184946.0, \"death\": 215865.0, \"deathIncrease\": 2625.0, \"positiveRate\": 0.144, \"state\": \"Non Tri-State\", \"sma7d\": 1481.429}, {\"date\": \"2020-12-03T00:00:00\", \"totalTestResultsIncrease\": 1578819.0, \"positiveIncrease\": 194643.0, \"death\": 218537.0, \"deathIncrease\": 2672.0, \"positiveRate\": 0.123, \"state\": \"Non Tri-State\", \"sma7d\": 1679.429}, {\"date\": \"2020-12-04T00:00:00\", \"totalTestResultsIncrease\": 1618914.0, \"positiveIncrease\": 209649.0, \"death\": 220957.0, \"deathIncrease\": 2420.0, \"positiveRate\": 0.129, \"state\": \"Non Tri-State\", \"sma7d\": 1837.571}, {\"date\": \"2020-12-05T00:00:00\", \"totalTestResultsIncrease\": 1907544.0, \"positiveIncrease\": 200961.0, \"death\": 223320.0, \"deathIncrease\": 2363.0, \"positiveRate\": 0.105, \"state\": \"Non Tri-State\", \"sma7d\": 2007.143}, {\"date\": \"2020-12-06T00:00:00\", \"totalTestResultsIncrease\": 1407762.0, \"positiveIncrease\": 166017.0, \"death\": 224408.0, \"deathIncrease\": 1088.0, \"positiveRate\": 0.118, \"state\": \"Non Tri-State\", \"sma7d\": 2054.857}, {\"date\": \"2020-12-07T00:00:00\", \"totalTestResultsIncrease\": 1445889.0, \"positiveIncrease\": 161905.0, \"death\": 225523.0, \"deathIncrease\": 1115.0, \"positiveRate\": 0.112, \"state\": \"Non Tri-State\", \"sma7d\": 2084.714}, {\"date\": \"2020-12-08T00:00:00\", \"totalTestResultsIncrease\": 1401797.0, \"positiveIncrease\": 197885.0, \"death\": 228020.0, \"deathIncrease\": 2497.0, \"positiveRate\": 0.141, \"state\": \"Non Tri-State\", \"sma7d\": 2111.429}, {\"date\": \"2020-12-09T00:00:00\", \"totalTestResultsIncrease\": 1439031.0, \"positiveIncrease\": 196951.0, \"death\": 230933.0, \"deathIncrease\": 2913.0, \"positiveRate\": 0.137, \"state\": \"Non Tri-State\", \"sma7d\": 2152.571}, {\"date\": \"2020-12-10T00:00:00\", \"totalTestResultsIncrease\": 1603181.0, \"positiveIncrease\": 200876.0, \"death\": 233863.0, \"deathIncrease\": 2930.0, \"positiveRate\": 0.125, \"state\": \"Non Tri-State\", \"sma7d\": 2189.429}, {\"date\": \"2020-12-11T00:00:00\", \"totalTestResultsIncrease\": 1670039.0, \"positiveIncrease\": 216759.0, \"death\": 236431.0, \"deathIncrease\": 2568.0, \"positiveRate\": 0.13, \"state\": \"Non Tri-State\", \"sma7d\": 2210.571}, {\"date\": \"2020-12-12T00:00:00\", \"totalTestResultsIncrease\": 1584932.0, \"positiveIncrease\": 207270.0, \"death\": 238770.0, \"deathIncrease\": 2339.0, \"positiveRate\": 0.131, \"state\": \"Non Tri-State\", \"sma7d\": 2207.143}, {\"date\": \"2020-12-13T00:00:00\", \"totalTestResultsIncrease\": 1560202.0, \"positiveIncrease\": 171858.0, \"death\": 240142.0, \"deathIncrease\": 1372.0, \"positiveRate\": 0.11, \"state\": \"Non Tri-State\", \"sma7d\": 2247.714}, {\"date\": \"2020-12-14T00:00:00\", \"totalTestResultsIncrease\": 1627012.0, \"positiveIncrease\": 171250.0, \"death\": 241309.0, \"deathIncrease\": 1167.0, \"positiveRate\": 0.105, \"state\": \"Non Tri-State\", \"sma7d\": 2255.143}, {\"date\": \"2020-12-15T00:00:00\", \"totalTestResultsIncrease\": 1493730.0, \"positiveIncrease\": 174069.0, \"death\": 243982.0, \"deathIncrease\": 2673.0, \"positiveRate\": 0.117, \"state\": \"Non Tri-State\", \"sma7d\": 2280.286}, {\"date\": \"2020-12-16T00:00:00\", \"totalTestResultsIncrease\": 1533875.0, \"positiveIncrease\": 213227.0, \"death\": 247166.0, \"deathIncrease\": 3184.0, \"positiveRate\": 0.139, \"state\": \"Non Tri-State\", \"sma7d\": 2319.0}, {\"date\": \"2020-12-17T00:00:00\", \"totalTestResultsIncrease\": 1620802.0, \"positiveIncrease\": 222882.0, \"death\": 250386.0, \"deathIncrease\": 3220.0, \"positiveRate\": 0.138, \"state\": \"Non Tri-State\", \"sma7d\": 2360.429}, {\"date\": \"2020-12-18T00:00:00\", \"totalTestResultsIncrease\": 1762823.0, \"positiveIncrease\": 219915.0, \"death\": 253057.0, \"deathIncrease\": 2671.0, \"positiveRate\": 0.125, \"state\": \"Non Tri-State\", \"sma7d\": 2375.143}, {\"date\": \"2020-12-19T00:00:00\", \"totalTestResultsIncrease\": 1566149.0, \"positiveIncrease\": 188568.0, \"death\": 255586.0, \"deathIncrease\": 2529.0, \"positiveRate\": 0.12, \"state\": \"Non Tri-State\", \"sma7d\": 2402.286}, {\"date\": \"2020-12-20T00:00:00\", \"totalTestResultsIncrease\": 1589098.0, \"positiveIncrease\": 181275.0, \"death\": 257109.0, \"deathIncrease\": 1523.0, \"positiveRate\": 0.114, \"state\": \"Non Tri-State\", \"sma7d\": 2423.857}, {\"date\": \"2020-12-21T00:00:00\", \"totalTestResultsIncrease\": 1588929.0, \"positiveIncrease\": 161709.0, \"death\": 258354.0, \"deathIncrease\": 1245.0, \"positiveRate\": 0.102, \"state\": \"Non Tri-State\", \"sma7d\": 2435.0}, {\"date\": \"2020-12-22T00:00:00\", \"totalTestResultsIncrease\": 1533484.0, \"positiveIncrease\": 173567.0, \"death\": 261220.0, \"deathIncrease\": 2866.0, \"positiveRate\": 0.113, \"state\": \"Non Tri-State\", \"sma7d\": 2462.571}, {\"date\": \"2020-12-23T00:00:00\", \"totalTestResultsIncrease\": 1458593.0, \"positiveIncrease\": 202771.0, \"death\": 264274.0, \"deathIncrease\": 3054.0, \"positiveRate\": 0.139, \"state\": \"Non Tri-State\", \"sma7d\": 2444.0}, {\"date\": \"2020-12-24T00:00:00\", \"totalTestResultsIncrease\": 1621609.0, \"positiveIncrease\": 184361.0, \"death\": 266966.0, \"deathIncrease\": 2692.0, \"positiveRate\": 0.114, \"state\": \"Non Tri-State\", \"sma7d\": 2368.571}, {\"date\": \"2020-12-25T00:00:00\", \"totalTestResultsIncrease\": 1084166.0, \"positiveIncrease\": 107816.0, \"death\": 268347.0, \"deathIncrease\": 1381.0, \"positiveRate\": 0.099, \"state\": \"Non Tri-State\", \"sma7d\": 2184.286}, {\"date\": \"2020-12-26T00:00:00\", \"totalTestResultsIncrease\": 1916288.0, \"positiveIncrease\": 174978.0, \"death\": 269629.0, \"deathIncrease\": 1282.0, \"positiveRate\": 0.091, \"state\": \"Non Tri-State\", \"sma7d\": 2006.143}, {\"date\": \"2020-12-27T00:00:00\", \"totalTestResultsIncrease\": 1207146.0, \"positiveIncrease\": 142460.0, \"death\": 270894.0, \"deathIncrease\": 1265.0, \"positiveRate\": 0.118, \"state\": \"Non Tri-State\", \"sma7d\": 1969.286}, {\"date\": \"2020-12-28T00:00:00\", \"totalTestResultsIncrease\": 1020438.0, \"positiveIncrease\": 141161.0, \"death\": 272132.0, \"deathIncrease\": 1238.0, \"positiveRate\": 0.138, \"state\": \"Non Tri-State\", \"sma7d\": 1968.286}, {\"date\": \"2020-12-29T00:00:00\", \"totalTestResultsIncrease\": 1081278.0, \"positiveIncrease\": 179470.0, \"death\": 275148.0, \"deathIncrease\": 3016.0, \"positiveRate\": 0.166, \"state\": \"Non Tri-State\", \"sma7d\": 1989.714}, {\"date\": \"2020-12-30T00:00:00\", \"totalTestResultsIncrease\": 1355529.0, \"positiveIncrease\": 205560.0, \"death\": 278684.0, \"deathIncrease\": 3536.0, \"positiveRate\": 0.152, \"state\": \"Non Tri-State\", \"sma7d\": 2058.571}, {\"date\": \"2020-12-31T00:00:00\", \"totalTestResultsIncrease\": 1469783.0, \"positiveIncrease\": 198477.0, \"death\": 281725.0, \"deathIncrease\": 3041.0, \"positiveRate\": 0.135, \"state\": \"Non Tri-State\", \"sma7d\": 2108.429}, {\"date\": \"2021-01-01T00:00:00\", \"totalTestResultsIncrease\": 1083600.0, \"positiveIncrease\": 158073.0, \"death\": 284031.0, \"deathIncrease\": 2306.0, \"positiveRate\": 0.146, \"state\": \"Non Tri-State\", \"sma7d\": 2240.571}, {\"date\": \"2021-01-02T00:00:00\", \"totalTestResultsIncrease\": 1789307.0, \"positiveIncrease\": 254104.0, \"death\": 286177.0, \"deathIncrease\": 2146.0, \"positiveRate\": 0.142, \"state\": \"Non Tri-State\", \"sma7d\": 2364.0}, {\"date\": \"2021-01-03T00:00:00\", \"totalTestResultsIncrease\": 1255016.0, \"positiveIncrease\": 192300.0, \"death\": 287472.0, \"deathIncrease\": 1295.0, \"positiveRate\": 0.153, \"state\": \"Non Tri-State\", \"sma7d\": 2368.286}, {\"date\": \"2021-01-04T00:00:00\", \"totalTestResultsIncrease\": 1346329.0, \"positiveIncrease\": 160355.0, \"death\": 288742.0, \"deathIncrease\": 1270.0, \"positiveRate\": 0.119, \"state\": \"Non Tri-State\", \"sma7d\": 2372.857}, {\"date\": \"2021-01-05T00:00:00\", \"totalTestResultsIncrease\": 1283110.0, \"positiveIncrease\": 193817.0, \"death\": 291910.0, \"deathIncrease\": 3168.0, \"positiveRate\": 0.151, \"state\": \"Non Tri-State\", \"sma7d\": 2394.571}, {\"date\": \"2021-01-06T00:00:00\", \"totalTestResultsIncrease\": 1327901.0, \"positiveIncrease\": 223104.0, \"death\": 295470.0, \"deathIncrease\": 3560.0, \"positiveRate\": 0.168, \"state\": \"Non Tri-State\", \"sma7d\": 2398.0}, {\"date\": \"2021-01-07T00:00:00\", \"totalTestResultsIncrease\": 1616210.0, \"positiveIncrease\": 240846.0, \"death\": 299170.0, \"deathIncrease\": 3700.0, \"positiveRate\": 0.149, \"state\": \"Non Tri-State\", \"sma7d\": 2492.143}, {\"date\": \"2021-01-08T00:00:00\", \"totalTestResultsIncrease\": 1782273.0, \"positiveIncrease\": 263187.0, \"death\": 302638.0, \"deathIncrease\": 3468.0, \"positiveRate\": 0.148, \"state\": \"Non Tri-State\", \"sma7d\": 2658.143}, {\"date\": \"2021-01-09T00:00:00\", \"totalTestResultsIncrease\": 1739259.0, \"positiveIncrease\": 242029.0, \"death\": 305887.0, \"deathIncrease\": 3249.0, \"positiveRate\": 0.139, \"state\": \"Non Tri-State\", \"sma7d\": 2815.714}, {\"date\": \"2021-01-10T00:00:00\", \"totalTestResultsIncrease\": 1735400.0, \"positiveIncrease\": 206707.0, \"death\": 307770.0, \"deathIncrease\": 1883.0, \"positiveRate\": 0.119, \"state\": \"Non Tri-State\", \"sma7d\": 2899.714}, {\"date\": \"2021-01-11T00:00:00\", \"totalTestResultsIncrease\": 1518131.0, \"positiveIncrease\": 167728.0, \"death\": 309196.0, \"deathIncrease\": 1426.0, \"positiveRate\": 0.11, \"state\": \"Non Tri-State\", \"sma7d\": 2922.0}, {\"date\": \"2021-01-12T00:00:00\", \"totalTestResultsIncrease\": 1475497.0, \"positiveIncrease\": 191319.0, \"death\": 312954.0, \"deathIncrease\": 3758.0, \"positiveRate\": 0.13, \"state\": \"Non Tri-State\", \"sma7d\": 3006.286}, {\"date\": \"2021-01-13T00:00:00\", \"totalTestResultsIncrease\": 1531926.0, \"positiveIncrease\": 193104.0, \"death\": 316599.0, \"deathIncrease\": 3645.0, \"positiveRate\": 0.126, \"state\": \"Non Tri-State\", \"sma7d\": 3018.429}]}}, {\"mode\": \"vega-lite\"});\n",
       "</script>"
      ],
      "text/plain": [
       "alt.LayerChart(...)"
      ]
     },
     "execution_count": 17,
     "metadata": {},
     "output_type": "execute_result"
    }
   ],
   "source": [
    "create_plot(non_tristate, 'deathIncrease')"
   ]
  }
 ],
 "metadata": {
  "kernelspec": {
   "display_name": "Python 3",
   "language": "python",
   "name": "python3"
  },
  "language_info": {
   "codemirror_mode": {
    "name": "ipython",
    "version": 3
   },
   "file_extension": ".py",
   "mimetype": "text/x-python",
   "name": "python",
   "nbconvert_exporter": "python",
   "pygments_lexer": "ipython3",
   "version": "3.8.7"
  },
  "papermill": {
   "duration": 5.811919,
   "end_time": "2021-01-14T09:50:58.976576",
   "environment_variables": {},
   "exception": null,
   "input_path": "2020-07-19-covid-plots.ipynb",
   "output_path": "2020-07-19-covid-plots.ipynb",
   "parameters": {},
   "start_time": "2021-01-14T09:50:53.164657",
   "version": "2.1.2"
  }
 },
 "nbformat": 4,
 "nbformat_minor": 4
}