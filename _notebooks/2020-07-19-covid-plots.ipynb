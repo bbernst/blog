{
 "cells": [
  {
   "cell_type": "markdown",
   "metadata": {
    "papermill": {
     "duration": 0.030104,
     "end_time": "2021-01-08T09:33:44.369886",
     "exception": false,
     "start_time": "2021-01-08T09:33:44.339782",
     "status": "completed"
    },
    "tags": []
   },
   "source": [
    "# \"COVID-19 plots\"\n",
    "> \"Interactive plots with daily updates\"\n",
    "\n",
    "- author: bbernst\n",
    "- toc: true\n",
    "- branch: master\n",
    "- badges: true\n",
    "- comments: true\n",
    "- categories: [healthcare, covid]\n",
    "- image: images/covid_plots/covid_mask.png\n",
    "- hide: false\n",
    "- search_exclude: true"
   ]
  },
  {
   "cell_type": "markdown",
   "metadata": {
    "papermill": {
     "duration": 0.011362,
     "end_time": "2021-01-08T09:33:44.393434",
     "exception": false,
     "start_time": "2021-01-08T09:33:44.382072",
     "status": "completed"
    },
    "tags": []
   },
   "source": [
    "I wanted to make a simple COVID-19 post to accomplish two main goals:\n",
    "1. Easily see the specific plots I'm interested in\n",
    "1. Update these plots every day, automatically\n",
    "\n",
    "Enter [fastpages](https://github.com/fastai/fastpages) and [github actions](https://github.com/features/actions). I'd been meaning to set up a blog with fastpages for a while and thought this would be a good reason to try it out. The documentation was great and I was able to set up automatic updates by using https://covid19dashboards.com/ as a guide.\n",
    "\n",
    "The data for this post comes from https://covidtracking.com/, which updates by 5pm each day, and I have my dashboard update at 6:30pm. For each geography -- so far that's the US, New York, and Non Tri-State -- I look at daily positive cases, positive rate, and deaths. Be sure to hover around on each of the plots, they have helpful interactive tooltips to make reading the data more intuitive."
   ]
  },
  {
   "cell_type": "code",
   "execution_count": 1,
   "metadata": {
    "execution": {
     "iopub.execute_input": "2021-01-08T09:33:44.423609Z",
     "iopub.status.busy": "2021-01-08T09:33:44.423141Z",
     "iopub.status.idle": "2021-01-08T09:33:44.761933Z",
     "shell.execute_reply": "2021-01-08T09:33:44.761354Z"
    },
    "papermill": {
     "duration": 0.357594,
     "end_time": "2021-01-08T09:33:44.762120",
     "exception": false,
     "start_time": "2021-01-08T09:33:44.404526",
     "status": "completed"
    },
    "tags": []
   },
   "outputs": [],
   "source": [
    "#collapse\n",
    "from typing import Callable, Literal\n",
    "import pandas as pd\n",
    "import altair as alt"
   ]
  },
  {
   "cell_type": "code",
   "execution_count": 2,
   "metadata": {
    "execution": {
     "iopub.execute_input": "2021-01-08T09:33:44.789666Z",
     "iopub.status.busy": "2021-01-08T09:33:44.789202Z",
     "iopub.status.idle": "2021-01-08T09:33:44.805069Z",
     "shell.execute_reply": "2021-01-08T09:33:44.804695Z"
    },
    "papermill": {
     "duration": 0.030594,
     "end_time": "2021-01-08T09:33:44.805177",
     "exception": false,
     "start_time": "2021-01-08T09:33:44.774583",
     "status": "completed"
    },
    "tags": []
   },
   "outputs": [
    {
     "name": "stdout",
     "output_type": "stream",
     "text": [
      "Last updated at (ET): 2021-01-08 04:33:44 AM\n"
     ]
    }
   ],
   "source": [
    "#hide_input\n",
    "current_utc = pd.Timestamp.now(tz='America/New_York').strftime('%Y-%m-%d %I:%M:%S %p')\n",
    "print(f\"Last updated at (ET): {current_utc}\")"
   ]
  },
  {
   "cell_type": "markdown",
   "metadata": {
    "papermill": {
     "duration": 0.011465,
     "end_time": "2021-01-08T09:33:44.828092",
     "exception": false,
     "start_time": "2021-01-08T09:33:44.816627",
     "status": "completed"
    },
    "tags": []
   },
   "source": [
    "# Data"
   ]
  },
  {
   "cell_type": "code",
   "execution_count": 3,
   "metadata": {
    "execution": {
     "iopub.execute_input": "2021-01-08T09:33:44.855138Z",
     "iopub.status.busy": "2021-01-08T09:33:44.854659Z",
     "iopub.status.idle": "2021-01-08T09:33:50.046415Z",
     "shell.execute_reply": "2021-01-08T09:33:50.046792Z"
    },
    "papermill": {
     "duration": 5.207533,
     "end_time": "2021-01-08T09:33:50.046950",
     "exception": false,
     "start_time": "2021-01-08T09:33:44.839417",
     "status": "completed"
    },
    "tags": []
   },
   "outputs": [
    {
     "name": "stderr",
     "output_type": "stream",
     "text": [
      "/opt/hostedtoolcache/Python/3.8.6/x64/lib/python3.8/site-packages/IPython/core/interactiveshell.py:3146: DtypeWarning: Columns (15) have mixed types.Specify dtype option on import or set low_memory=False.\n",
      "  has_raised = await self.run_ast_nodes(code_ast.body, cell_name,\n"
     ]
    }
   ],
   "source": [
    "df = pd.read_csv('https://covidtracking.com/api/states/daily.csv')"
   ]
  },
  {
   "cell_type": "markdown",
   "metadata": {
    "papermill": {
     "duration": 0.011941,
     "end_time": "2021-01-08T09:33:50.070939",
     "exception": false,
     "start_time": "2021-01-08T09:33:50.058998",
     "status": "completed"
    },
    "tags": []
   },
   "source": [
    "# Helpers"
   ]
  },
  {
   "cell_type": "code",
   "execution_count": 4,
   "metadata": {
    "execution": {
     "iopub.execute_input": "2021-01-08T09:33:50.100739Z",
     "iopub.status.busy": "2021-01-08T09:33:50.100261Z",
     "iopub.status.idle": "2021-01-08T09:33:50.102458Z",
     "shell.execute_reply": "2021-01-08T09:33:50.102056Z"
    },
    "papermill": {
     "duration": 0.02007,
     "end_time": "2021-01-08T09:33:50.102563",
     "exception": false,
     "start_time": "2021-01-08T09:33:50.082493",
     "status": "completed"
    },
    "tags": []
   },
   "outputs": [],
   "source": [
    "#collapse\n",
    "def create_df(df: pd.DataFrame, \n",
    "              filter_f: Callable, \n",
    "              state_name: str):\n",
    "    out_df = (\n",
    "     df\n",
    "     .assign(date = lambda d: pd.to_datetime(d['date'], format='%Y%m%d'))\n",
    "     .loc[filter_f, :]\n",
    "     .groupby('date')\n",
    "     .apply(lambda d: pd.Series(dict(\n",
    "         totalTestResultsIncrease = d['totalTestResultsIncrease'].sum(),\n",
    "         positiveIncrease = d['positiveIncrease'].sum(),\n",
    "         death = d['death'].sum(),\n",
    "         deathIncrease = d['deathIncrease'].sum()\n",
    "     )))\n",
    "     .reset_index()\n",
    "     .assign(positiveRate = lambda d: round(d['positiveIncrease'] / d['totalTestResultsIncrease'], 3))\n",
    "     .sort_values('date', ascending=True)\n",
    "     .assign(state = state_name)\n",
    "     .reset_index(drop=True)\n",
    "    )\n",
    "    \n",
    "    return out_df"
   ]
  },
  {
   "cell_type": "code",
   "execution_count": 5,
   "metadata": {
    "execution": {
     "iopub.execute_input": "2021-01-08T09:33:50.134463Z",
     "iopub.status.busy": "2021-01-08T09:33:50.133990Z",
     "iopub.status.idle": "2021-01-08T09:33:50.135787Z",
     "shell.execute_reply": "2021-01-08T09:33:50.136130Z"
    },
    "papermill": {
     "duration": 0.022107,
     "end_time": "2021-01-08T09:33:50.136251",
     "exception": false,
     "start_time": "2021-01-08T09:33:50.114144",
     "status": "completed"
    },
    "tags": []
   },
   "outputs": [],
   "source": [
    "#collapse\n",
    "def create_plot(df: pd.DataFrame, \n",
    "                column: Literal['totalTestResultsIncrease', \n",
    "                                'positiveIncrease', \n",
    "                                'death',\n",
    "                                'deathIncrease', \n",
    "                                'positiveRate'],\n",
    "                period: int = 7*8):\n",
    "    df = (\n",
    "     df\n",
    "     .assign(sma7d = lambda d: d[column].rolling(window=7).mean().round(3))\n",
    "     .loc[lambda d: d['date'] >= pd.to_datetime('today') - period * pd.Timedelta('1 days'), :]\n",
    "     .reset_index(drop=True)\n",
    "    )\n",
    "    the_state = df['state'][0]\n",
    "    label = alt.selection_single(\n",
    "        encodings=['x'], on='mouseover', nearest=True, empty='none')\n",
    "    \n",
    "    base = alt.Chart().mark_point(size=75).encode(\n",
    "        x='date:T',\n",
    "        y=f'{column}:Q',\n",
    "        tooltip=['date', f'{column}:Q', 'sma7d:Q']\n",
    "    )\n",
    "\n",
    "    sma = alt.Chart().mark_line(color='purple').encode(\n",
    "        x='date:T',\n",
    "        y='sma7d:Q'\n",
    "    )\n",
    "\n",
    "    layers = alt.layer(\n",
    "        base + sma,\n",
    "\n",
    "        # add a rule mark to serve as a guide line\n",
    "        alt.Chart().mark_rule(color='#aaa').encode(\n",
    "            x='date:T'\n",
    "        ).transform_filter(label),\n",
    "\n",
    "        # add circle marks for selected time points, hide unselected points\n",
    "        base.mark_circle().encode(\n",
    "            opacity=alt.condition(label, alt.value(1), alt.value(0))\n",
    "        ).add_selection(label),\n",
    "\n",
    "        # add white stroked text to provide a legible background for labels\n",
    "        base.mark_text(align='left', dx=5, dy=-5, stroke='white', strokeWidth=2).encode(\n",
    "            text=f'{column}:Q'\n",
    "        ).transform_filter(label),\n",
    "\n",
    "        # add text labels\n",
    "        base.mark_text(align='left', dx=5, dy=-5).encode(\n",
    "            text=f'{column}:Q'\n",
    "        ).transform_filter(label),\n",
    "        \n",
    "        data=df\n",
    "    ).properties(\n",
    "        title=f'{the_state}: {column}',\n",
    "        width=500,\n",
    "        height=400\n",
    "    )\n",
    "    \n",
    "    return layers.interactive()"
   ]
  },
  {
   "cell_type": "markdown",
   "metadata": {
    "papermill": {
     "duration": 0.011553,
     "end_time": "2021-01-08T09:33:50.159401",
     "exception": false,
     "start_time": "2021-01-08T09:33:50.147848",
     "status": "completed"
    },
    "tags": []
   },
   "source": [
    "# Plots"
   ]
  },
  {
   "cell_type": "markdown",
   "metadata": {
    "papermill": {
     "duration": 0.011844,
     "end_time": "2021-01-08T09:33:50.183065",
     "exception": false,
     "start_time": "2021-01-08T09:33:50.171221",
     "status": "completed"
    },
    "tags": []
   },
   "source": [
    "## US"
   ]
  },
  {
   "cell_type": "code",
   "execution_count": 6,
   "metadata": {
    "execution": {
     "iopub.execute_input": "2021-01-08T09:33:50.209736Z",
     "iopub.status.busy": "2021-01-08T09:33:50.209292Z",
     "iopub.status.idle": "2021-01-08T09:33:50.555882Z",
     "shell.execute_reply": "2021-01-08T09:33:50.555426Z"
    },
    "papermill": {
     "duration": 0.361155,
     "end_time": "2021-01-08T09:33:50.556004",
     "exception": false,
     "start_time": "2021-01-08T09:33:50.194849",
     "status": "completed"
    },
    "tags": []
   },
   "outputs": [],
   "source": [
    "us = create_df(df, lambda d: d.index > 0, 'US')"
   ]
  },
  {
   "cell_type": "code",
   "execution_count": 7,
   "metadata": {
    "execution": {
     "iopub.execute_input": "2021-01-08T09:33:50.601821Z",
     "iopub.status.busy": "2021-01-08T09:33:50.583629Z",
     "iopub.status.idle": "2021-01-08T09:33:50.673076Z",
     "shell.execute_reply": "2021-01-08T09:33:50.673434Z"
    },
    "papermill": {
     "duration": 0.105549,
     "end_time": "2021-01-08T09:33:50.673579",
     "exception": false,
     "start_time": "2021-01-08T09:33:50.568030",
     "status": "completed"
    },
    "tags": []
   },
   "outputs": [
    {
     "data": {
      "text/html": [
       "\n",
       "<div id=\"altair-viz-312af80c4d174fea8cb4f965c96d2e32\"></div>\n",
       "<script type=\"text/javascript\">\n",
       "  (function(spec, embedOpt){\n",
       "    let outputDiv = document.currentScript.previousElementSibling;\n",
       "    if (outputDiv.id !== \"altair-viz-312af80c4d174fea8cb4f965c96d2e32\") {\n",
       "      outputDiv = document.getElementById(\"altair-viz-312af80c4d174fea8cb4f965c96d2e32\");\n",
       "    }\n",
       "    const paths = {\n",
       "      \"vega\": \"https://cdn.jsdelivr.net/npm//vega@5?noext\",\n",
       "      \"vega-lib\": \"https://cdn.jsdelivr.net/npm//vega-lib?noext\",\n",
       "      \"vega-lite\": \"https://cdn.jsdelivr.net/npm//vega-lite@4.8.1?noext\",\n",
       "      \"vega-embed\": \"https://cdn.jsdelivr.net/npm//vega-embed@6?noext\",\n",
       "    };\n",
       "\n",
       "    function loadScript(lib) {\n",
       "      return new Promise(function(resolve, reject) {\n",
       "        var s = document.createElement('script');\n",
       "        s.src = paths[lib];\n",
       "        s.async = true;\n",
       "        s.onload = () => resolve(paths[lib]);\n",
       "        s.onerror = () => reject(`Error loading script: ${paths[lib]}`);\n",
       "        document.getElementsByTagName(\"head\")[0].appendChild(s);\n",
       "      });\n",
       "    }\n",
       "\n",
       "    function showError(err) {\n",
       "      outputDiv.innerHTML = `<div class=\"error\" style=\"color:red;\">${err}</div>`;\n",
       "      throw err;\n",
       "    }\n",
       "\n",
       "    function displayChart(vegaEmbed) {\n",
       "      vegaEmbed(outputDiv, spec, embedOpt)\n",
       "        .catch(err => showError(`Javascript Error: ${err.message}<br>This usually means there's a typo in your chart specification. See the javascript console for the full traceback.`));\n",
       "    }\n",
       "\n",
       "    if(typeof define === \"function\" && define.amd) {\n",
       "      requirejs.config({paths});\n",
       "      require([\"vega-embed\"], displayChart, err => showError(`Error loading script: ${err.message}`));\n",
       "    } else if (typeof vegaEmbed === \"function\") {\n",
       "      displayChart(vegaEmbed);\n",
       "    } else {\n",
       "      loadScript(\"vega\")\n",
       "        .then(() => loadScript(\"vega-lite\"))\n",
       "        .then(() => loadScript(\"vega-embed\"))\n",
       "        .catch(showError)\n",
       "        .then(() => displayChart(vegaEmbed));\n",
       "    }\n",
       "  })({\"config\": {\"view\": {\"continuousWidth\": 400, \"continuousHeight\": 300}}, \"layer\": [{\"layer\": [{\"mark\": {\"type\": \"point\", \"size\": 75}, \"encoding\": {\"tooltip\": [{\"type\": \"temporal\", \"field\": \"date\"}, {\"type\": \"quantitative\", \"field\": \"positiveIncrease\"}, {\"type\": \"quantitative\", \"field\": \"sma7d\"}], \"x\": {\"type\": \"temporal\", \"field\": \"date\"}, \"y\": {\"type\": \"quantitative\", \"field\": \"positiveIncrease\"}}, \"selection\": {\"selector002\": {\"type\": \"interval\", \"bind\": \"scales\", \"encodings\": [\"x\", \"y\"]}}}, {\"mark\": {\"type\": \"line\", \"color\": \"purple\"}, \"encoding\": {\"x\": {\"type\": \"temporal\", \"field\": \"date\"}, \"y\": {\"type\": \"quantitative\", \"field\": \"sma7d\"}}}]}, {\"mark\": {\"type\": \"rule\", \"color\": \"#aaa\"}, \"encoding\": {\"x\": {\"type\": \"temporal\", \"field\": \"date\"}}, \"transform\": [{\"filter\": {\"selection\": \"selector001\"}}]}, {\"mark\": \"circle\", \"encoding\": {\"opacity\": {\"condition\": {\"value\": 1, \"selection\": \"selector001\"}, \"value\": 0}, \"tooltip\": [{\"type\": \"temporal\", \"field\": \"date\"}, {\"type\": \"quantitative\", \"field\": \"positiveIncrease\"}, {\"type\": \"quantitative\", \"field\": \"sma7d\"}], \"x\": {\"type\": \"temporal\", \"field\": \"date\"}, \"y\": {\"type\": \"quantitative\", \"field\": \"positiveIncrease\"}}, \"selection\": {\"selector001\": {\"type\": \"single\", \"encodings\": [\"x\"], \"on\": \"mouseover\", \"nearest\": true, \"empty\": \"none\"}}}, {\"mark\": {\"type\": \"text\", \"align\": \"left\", \"dx\": 5, \"dy\": -5, \"stroke\": \"white\", \"strokeWidth\": 2}, \"encoding\": {\"text\": {\"type\": \"quantitative\", \"field\": \"positiveIncrease\"}, \"tooltip\": [{\"type\": \"temporal\", \"field\": \"date\"}, {\"type\": \"quantitative\", \"field\": \"positiveIncrease\"}, {\"type\": \"quantitative\", \"field\": \"sma7d\"}], \"x\": {\"type\": \"temporal\", \"field\": \"date\"}, \"y\": {\"type\": \"quantitative\", \"field\": \"positiveIncrease\"}}, \"transform\": [{\"filter\": {\"selection\": \"selector001\"}}]}, {\"mark\": {\"type\": \"text\", \"align\": \"left\", \"dx\": 5, \"dy\": -5}, \"encoding\": {\"text\": {\"type\": \"quantitative\", \"field\": \"positiveIncrease\"}, \"tooltip\": [{\"type\": \"temporal\", \"field\": \"date\"}, {\"type\": \"quantitative\", \"field\": \"positiveIncrease\"}, {\"type\": \"quantitative\", \"field\": \"sma7d\"}], \"x\": {\"type\": \"temporal\", \"field\": \"date\"}, \"y\": {\"type\": \"quantitative\", \"field\": \"positiveIncrease\"}}, \"transform\": [{\"filter\": {\"selection\": \"selector001\"}}]}], \"data\": {\"name\": \"data-179733c839b662b0d4f3b4ee1f228774\"}, \"height\": 400, \"title\": \"US: positiveIncrease\", \"width\": 500, \"$schema\": \"https://vega.github.io/schema/vega-lite/v4.8.1.json\", \"datasets\": {\"data-179733c839b662b0d4f3b4ee1f228774\": [{\"date\": \"2020-11-14T00:00:00\", \"totalTestResultsIncrease\": 1703386.0, \"positiveIncrease\": 167206.0, \"death\": 237419.0, \"deathIncrease\": 1352.0, \"positiveRate\": 0.098, \"state\": \"US\", \"sma7d\": 144377.429}, {\"date\": \"2020-11-15T00:00:00\", \"totalTestResultsIncrease\": 1556532.0, \"positiveIncrease\": 146711.0, \"death\": 238127.0, \"deathIncrease\": 708.0, \"positiveRate\": 0.094, \"state\": \"US\", \"sma7d\": 149316.0}, {\"date\": \"2020-11-16T00:00:00\", \"totalTestResultsIncrease\": 1533295.0, \"positiveIncrease\": 149615.0, \"death\": 238736.0, \"deathIncrease\": 609.0, \"positiveRate\": 0.098, \"state\": \"US\", \"sma7d\": 153821.0}, {\"date\": \"2020-11-17T00:00:00\", \"totalTestResultsIncrease\": 1600147.0, \"positiveIncrease\": 159185.0, \"death\": 240298.0, \"deathIncrease\": 1562.0, \"positiveRate\": 0.099, \"state\": \"US\", \"sma7d\": 157537.429}, {\"date\": \"2020-11-18T00:00:00\", \"totalTestResultsIncrease\": 1656482.0, \"positiveIncrease\": 167748.0, \"death\": 242180.0, \"deathIncrease\": 1882.0, \"positiveRate\": 0.101, \"state\": \"US\", \"sma7d\": 160238.857}, {\"date\": \"2020-11-19T00:00:00\", \"totalTestResultsIncrease\": 1808351.0, \"positiveIncrease\": 187274.0, \"death\": 244200.0, \"deathIncrease\": 2020.0, \"positiveRate\": 0.104, \"state\": \"US\", \"sma7d\": 164520.286}, {\"date\": \"2020-11-20T00:00:00\", \"totalTestResultsIncrease\": 1942859.0, \"positiveIncrease\": 196592.0, \"death\": 246094.0, \"deathIncrease\": 1894.0, \"positiveRate\": 0.101, \"state\": \"US\", \"sma7d\": 167761.571}, {\"date\": \"2020-11-21T00:00:00\", \"totalTestResultsIncrease\": 2050886.0, \"positiveIncrease\": 183392.0, \"death\": 247648.0, \"deathIncrease\": 1554.0, \"positiveRate\": 0.089, \"state\": \"US\", \"sma7d\": 170073.857}, {\"date\": \"2020-11-22T00:00:00\", \"totalTestResultsIncrease\": 1760391.0, \"positiveIncrease\": 153845.0, \"death\": 248565.0, \"deathIncrease\": 917.0, \"positiveRate\": 0.087, \"state\": \"US\", \"sma7d\": 171093.0}, {\"date\": \"2020-11-23T00:00:00\", \"totalTestResultsIncrease\": 1751628.0, \"positiveIncrease\": 154242.0, \"death\": 249423.0, \"deathIncrease\": 858.0, \"positiveRate\": 0.088, \"state\": \"US\", \"sma7d\": 171754.0}, {\"date\": \"2020-11-24T00:00:00\", \"totalTestResultsIncrease\": 1816522.0, \"positiveIncrease\": 165088.0, \"death\": 251529.0, \"deathIncrease\": 2106.0, \"positiveRate\": 0.091, \"state\": \"US\", \"sma7d\": 172597.286}, {\"date\": \"2020-11-25T00:00:00\", \"totalTestResultsIncrease\": 1824361.0, \"positiveIncrease\": 187847.0, \"death\": 253809.0, \"deathIncrease\": 2280.0, \"positiveRate\": 0.103, \"state\": \"US\", \"sma7d\": 175468.571}, {\"date\": \"2020-11-26T00:00:00\", \"totalTestResultsIncrease\": 1332160.0, \"positiveIncrease\": 129396.0, \"death\": 255196.0, \"deathIncrease\": 1387.0, \"positiveRate\": 0.097, \"state\": \"US\", \"sma7d\": 167200.286}, {\"date\": \"2020-11-27T00:00:00\", \"totalTestResultsIncrease\": 2040543.0, \"positiveIncrease\": 197582.0, \"death\": 256588.0, \"deathIncrease\": 1392.0, \"positiveRate\": 0.097, \"state\": \"US\", \"sma7d\": 167341.714}, {\"date\": \"2020-11-28T00:00:00\", \"totalTestResultsIncrease\": 1614409.0, \"positiveIncrease\": 151912.0, \"death\": 257839.0, \"deathIncrease\": 1251.0, \"positiveRate\": 0.094, \"state\": \"US\", \"sma7d\": 162844.571}, {\"date\": \"2020-11-29T00:00:00\", \"totalTestResultsIncrease\": 1281241.0, \"positiveIncrease\": 136907.0, \"death\": 258662.0, \"deathIncrease\": 823.0, \"positiveRate\": 0.107, \"state\": \"US\", \"sma7d\": 160424.857}, {\"date\": \"2020-11-30T00:00:00\", \"totalTestResultsIncrease\": 1612146.0, \"positiveIncrease\": 149213.0, \"death\": 259697.0, \"deathIncrease\": 1035.0, \"positiveRate\": 0.093, \"state\": \"US\", \"sma7d\": 159706.429}, {\"date\": \"2020-12-01T00:00:00\", \"totalTestResultsIncrease\": 1466168.0, \"positiveIncrease\": 179049.0, \"death\": 262203.0, \"deathIncrease\": 2506.0, \"positiveRate\": 0.122, \"state\": \"US\", \"sma7d\": 161700.857}, {\"date\": \"2020-12-02T00:00:00\", \"totalTestResultsIncrease\": 1556486.0, \"positiveIncrease\": 202029.0, \"death\": 265007.0, \"deathIncrease\": 2804.0, \"positiveRate\": 0.13, \"state\": \"US\", \"sma7d\": 163726.857}, {\"date\": \"2020-12-03T00:00:00\", \"totalTestResultsIncrease\": 1894976.0, \"positiveIncrease\": 214402.0, \"death\": 267832.0, \"deathIncrease\": 2825.0, \"positiveRate\": 0.113, \"state\": \"US\", \"sma7d\": 175870.571}, {\"date\": \"2020-12-04T00:00:00\", \"totalTestResultsIncrease\": 1884247.0, \"positiveIncrease\": 229955.0, \"death\": 270405.0, \"deathIncrease\": 2573.0, \"positiveRate\": 0.122, \"state\": \"US\", \"sma7d\": 180495.286}, {\"date\": \"2020-12-05T00:00:00\", \"totalTestResultsIncrease\": 2210402.0, \"positiveIncrease\": 217402.0, \"death\": 272885.0, \"deathIncrease\": 2480.0, \"positiveRate\": 0.098, \"state\": \"US\", \"sma7d\": 189851.0}, {\"date\": \"2020-12-06T00:00:00\", \"totalTestResultsIncrease\": 1606591.0, \"positiveIncrease\": 181798.0, \"death\": 274030.0, \"deathIncrease\": 1145.0, \"positiveRate\": 0.113, \"state\": \"US\", \"sma7d\": 196264.0}, {\"date\": \"2020-12-07T00:00:00\", \"totalTestResultsIncrease\": 1722145.0, \"positiveIncrease\": 181512.0, \"death\": 275327.0, \"deathIncrease\": 1297.0, \"positiveRate\": 0.105, \"state\": \"US\", \"sma7d\": 200878.143}, {\"date\": \"2020-12-08T00:00:00\", \"totalTestResultsIncrease\": 1658357.0, \"positiveIncrease\": 215955.0, \"death\": 278030.0, \"deathIncrease\": 2703.0, \"positiveRate\": 0.13, \"state\": \"US\", \"sma7d\": 206150.429}, {\"date\": \"2020-12-09T00:00:00\", \"totalTestResultsIncrease\": 1800976.0, \"positiveIncrease\": 214871.0, \"death\": 281194.0, \"deathIncrease\": 3164.0, \"positiveRate\": 0.119, \"state\": \"US\", \"sma7d\": 207985.0}, {\"date\": \"2020-12-10T00:00:00\", \"totalTestResultsIncrease\": 1891230.0, \"positiveIncrease\": 219631.0, \"death\": 284309.0, \"deathIncrease\": 3115.0, \"positiveRate\": 0.116, \"state\": \"US\", \"sma7d\": 208732.0}, {\"date\": \"2020-12-11T00:00:00\", \"totalTestResultsIncrease\": 1990738.0, \"positiveIncrease\": 235502.0, \"death\": 287058.0, \"deathIncrease\": 2749.0, \"positiveRate\": 0.118, \"state\": \"US\", \"sma7d\": 209524.429}, {\"date\": \"2020-12-12T00:00:00\", \"totalTestResultsIncrease\": 1808503.0, \"positiveIncrease\": 225124.0, \"death\": 289552.0, \"deathIncrease\": 2494.0, \"positiveRate\": 0.124, \"state\": \"US\", \"sma7d\": 210627.571}, {\"date\": \"2020-12-13T00:00:00\", \"totalTestResultsIncrease\": 1770163.0, \"positiveIncrease\": 186358.0, \"death\": 291046.0, \"deathIncrease\": 1494.0, \"positiveRate\": 0.105, \"state\": \"US\", \"sma7d\": 211279.0}, {\"date\": \"2020-12-14T00:00:00\", \"totalTestResultsIncrease\": 2158028.0, \"positiveIncrease\": 193005.0, \"death\": 292404.0, \"deathIncrease\": 1358.0, \"positiveRate\": 0.089, \"state\": \"US\", \"sma7d\": 212920.857}, {\"date\": \"2020-12-15T00:00:00\", \"totalTestResultsIncrease\": 1773707.0, \"positiveIncrease\": 190518.0, \"death\": 295375.0, \"deathIncrease\": 2971.0, \"positiveRate\": 0.107, \"state\": \"US\", \"sma7d\": 209287.0}, {\"date\": \"2020-12-16T00:00:00\", \"totalTestResultsIncrease\": 1787970.0, \"positiveIncrease\": 232298.0, \"death\": 298823.0, \"deathIncrease\": 3448.0, \"positiveRate\": 0.13, \"state\": \"US\", \"sma7d\": 211776.571}, {\"date\": \"2020-12-17T00:00:00\", \"totalTestResultsIncrease\": 1864311.0, \"positiveIncrease\": 240812.0, \"death\": 302261.0, \"deathIncrease\": 3438.0, \"positiveRate\": 0.129, \"state\": \"US\", \"sma7d\": 214802.429}, {\"date\": \"2020-12-18T00:00:00\", \"totalTestResultsIncrease\": 2196333.0, \"positiveIncrease\": 239795.0, \"death\": 305127.0, \"deathIncrease\": 2866.0, \"positiveRate\": 0.109, \"state\": \"US\", \"sma7d\": 215415.714}, {\"date\": \"2020-12-19T00:00:00\", \"totalTestResultsIncrease\": 1739493.0, \"positiveIncrease\": 203480.0, \"death\": 307850.0, \"deathIncrease\": 2723.0, \"positiveRate\": 0.117, \"state\": \"US\", \"sma7d\": 212323.714}, {\"date\": \"2020-12-20T00:00:00\", \"totalTestResultsIncrease\": 1792080.0, \"positiveIncrease\": 196573.0, \"death\": 309483.0, \"deathIncrease\": 1633.0, \"positiveRate\": 0.11, \"state\": \"US\", \"sma7d\": 213783.0}, {\"date\": \"2020-12-21T00:00:00\", \"totalTestResultsIncrease\": 2082067.0, \"positiveIncrease\": 178706.0, \"death\": 310968.0, \"deathIncrease\": 1485.0, \"positiveRate\": 0.086, \"state\": \"US\", \"sma7d\": 211740.286}, {\"date\": \"2020-12-22T00:00:00\", \"totalTestResultsIncrease\": 1689842.0, \"positiveIncrease\": 190625.0, \"death\": 314134.0, \"deathIncrease\": 3166.0, \"positiveRate\": 0.113, \"state\": \"US\", \"sma7d\": 211755.571}, {\"date\": \"2020-12-23T00:00:00\", \"totalTestResultsIncrease\": 1747499.0, \"positiveIncrease\": 221485.0, \"death\": 317513.0, \"deathIncrease\": 3379.0, \"positiveRate\": 0.127, \"state\": \"US\", \"sma7d\": 210210.857}, {\"date\": \"2020-12-24T00:00:00\", \"totalTestResultsIncrease\": 1930034.0, \"positiveIncrease\": 204251.0, \"death\": 320462.0, \"deathIncrease\": 2949.0, \"positiveRate\": 0.106, \"state\": \"US\", \"sma7d\": 204987.857}, {\"date\": \"2020-12-25T00:00:00\", \"totalTestResultsIncrease\": 1353689.0, \"positiveIncrease\": 125913.0, \"death\": 322010.0, \"deathIncrease\": 1548.0, \"positiveRate\": 0.093, \"state\": \"US\", \"sma7d\": 188719.0}, {\"date\": \"2020-12-26T00:00:00\", \"totalTestResultsIncrease\": 2122061.0, \"positiveIncrease\": 189826.0, \"death\": 323429.0, \"deathIncrease\": 1419.0, \"positiveRate\": 0.089, \"state\": \"US\", \"sma7d\": 186768.429}, {\"date\": \"2020-12-27T00:00:00\", \"totalTestResultsIncrease\": 1340340.0, \"positiveIncrease\": 153769.0, \"death\": 324831.0, \"deathIncrease\": 1402.0, \"positiveRate\": 0.115, \"state\": \"US\", \"sma7d\": 180653.571}, {\"date\": \"2020-12-28T00:00:00\", \"totalTestResultsIncrease\": 1537769.0, \"positiveIncrease\": 162759.0, \"death\": 326322.0, \"deathIncrease\": 1491.0, \"positiveRate\": 0.106, \"state\": \"US\", \"sma7d\": 178375.429}, {\"date\": \"2020-12-29T00:00:00\", \"totalTestResultsIncrease\": 1246101.0, \"positiveIncrease\": 195944.0, \"death\": 329621.0, \"deathIncrease\": 3299.0, \"positiveRate\": 0.157, \"state\": \"US\", \"sma7d\": 179135.286}, {\"date\": \"2020-12-30T00:00:00\", \"totalTestResultsIncrease\": 1538124.0, \"positiveIncrease\": 226259.0, \"death\": 333524.0, \"deathIncrease\": 3903.0, \"positiveRate\": 0.147, \"state\": \"US\", \"sma7d\": 179817.286}, {\"date\": \"2020-12-31T00:00:00\", \"totalTestResultsIncrease\": 1749023.0, \"positiveIncrease\": 223652.0, \"death\": 336811.0, \"deathIncrease\": 3287.0, \"positiveRate\": 0.128, \"state\": \"US\", \"sma7d\": 182588.857}, {\"date\": \"2021-01-01T00:00:00\", \"totalTestResultsIncrease\": 1340014.0, \"positiveIncrease\": 180269.0, \"death\": 339407.0, \"deathIncrease\": 2596.0, \"positiveRate\": 0.135, \"state\": \"US\", \"sma7d\": 190354.0}, {\"date\": \"2021-01-02T00:00:00\", \"totalTestResultsIncrease\": 2060220.0, \"positiveIncrease\": 278968.0, \"death\": 341802.0, \"deathIncrease\": 2395.0, \"positiveRate\": 0.135, \"state\": \"US\", \"sma7d\": 203088.571}, {\"date\": \"2021-01-03T00:00:00\", \"totalTestResultsIncrease\": 1401449.0, \"positiveIncrease\": 208144.0, \"death\": 343263.0, \"deathIncrease\": 1461.0, \"positiveRate\": 0.149, \"state\": \"US\", \"sma7d\": 210856.429}, {\"date\": \"2021-01-04T00:00:00\", \"totalTestResultsIncrease\": 1638653.0, \"positiveIncrease\": 177749.0, \"death\": 344808.0, \"deathIncrease\": 1545.0, \"positiveRate\": 0.108, \"state\": \"US\", \"sma7d\": 212997.857}, {\"date\": \"2021-01-05T00:00:00\", \"totalTestResultsIncrease\": 1608732.0, \"positiveIncrease\": 215413.0, \"death\": 348330.0, \"deathIncrease\": 3522.0, \"positiveRate\": 0.134, \"state\": \"US\", \"sma7d\": 215779.143}, {\"date\": \"2021-01-06T00:00:00\", \"totalTestResultsIncrease\": 1619168.0, \"positiveIncrease\": 247786.0, \"death\": 352196.0, \"deathIncrease\": 3866.0, \"positiveRate\": 0.153, \"state\": \"US\", \"sma7d\": 218854.429}, {\"date\": \"2021-01-07T00:00:00\", \"totalTestResultsIncrease\": 1899312.0, \"positiveIncrease\": 265871.0, \"death\": 356006.0, \"deathIncrease\": 4030.0, \"positiveRate\": 0.14, \"state\": \"US\", \"sma7d\": 224885.714}]}}, {\"mode\": \"vega-lite\"});\n",
       "</script>"
      ],
      "text/plain": [
       "alt.LayerChart(...)"
      ]
     },
     "execution_count": 7,
     "metadata": {},
     "output_type": "execute_result"
    }
   ],
   "source": [
    "create_plot(us, 'positiveIncrease')"
   ]
  },
  {
   "cell_type": "code",
   "execution_count": 8,
   "metadata": {
    "execution": {
     "iopub.execute_input": "2021-01-08T09:33:50.709175Z",
     "iopub.status.busy": "2021-01-08T09:33:50.701329Z",
     "iopub.status.idle": "2021-01-08T09:33:50.781357Z",
     "shell.execute_reply": "2021-01-08T09:33:50.780974Z"
    },
    "papermill": {
     "duration": 0.09551,
     "end_time": "2021-01-08T09:33:50.781468",
     "exception": false,
     "start_time": "2021-01-08T09:33:50.685958",
     "status": "completed"
    },
    "tags": []
   },
   "outputs": [
    {
     "data": {
      "text/html": [
       "\n",
       "<div id=\"altair-viz-a298a95e29ca418e96d13e4545ad79b4\"></div>\n",
       "<script type=\"text/javascript\">\n",
       "  (function(spec, embedOpt){\n",
       "    let outputDiv = document.currentScript.previousElementSibling;\n",
       "    if (outputDiv.id !== \"altair-viz-a298a95e29ca418e96d13e4545ad79b4\") {\n",
       "      outputDiv = document.getElementById(\"altair-viz-a298a95e29ca418e96d13e4545ad79b4\");\n",
       "    }\n",
       "    const paths = {\n",
       "      \"vega\": \"https://cdn.jsdelivr.net/npm//vega@5?noext\",\n",
       "      \"vega-lib\": \"https://cdn.jsdelivr.net/npm//vega-lib?noext\",\n",
       "      \"vega-lite\": \"https://cdn.jsdelivr.net/npm//vega-lite@4.8.1?noext\",\n",
       "      \"vega-embed\": \"https://cdn.jsdelivr.net/npm//vega-embed@6?noext\",\n",
       "    };\n",
       "\n",
       "    function loadScript(lib) {\n",
       "      return new Promise(function(resolve, reject) {\n",
       "        var s = document.createElement('script');\n",
       "        s.src = paths[lib];\n",
       "        s.async = true;\n",
       "        s.onload = () => resolve(paths[lib]);\n",
       "        s.onerror = () => reject(`Error loading script: ${paths[lib]}`);\n",
       "        document.getElementsByTagName(\"head\")[0].appendChild(s);\n",
       "      });\n",
       "    }\n",
       "\n",
       "    function showError(err) {\n",
       "      outputDiv.innerHTML = `<div class=\"error\" style=\"color:red;\">${err}</div>`;\n",
       "      throw err;\n",
       "    }\n",
       "\n",
       "    function displayChart(vegaEmbed) {\n",
       "      vegaEmbed(outputDiv, spec, embedOpt)\n",
       "        .catch(err => showError(`Javascript Error: ${err.message}<br>This usually means there's a typo in your chart specification. See the javascript console for the full traceback.`));\n",
       "    }\n",
       "\n",
       "    if(typeof define === \"function\" && define.amd) {\n",
       "      requirejs.config({paths});\n",
       "      require([\"vega-embed\"], displayChart, err => showError(`Error loading script: ${err.message}`));\n",
       "    } else if (typeof vegaEmbed === \"function\") {\n",
       "      displayChart(vegaEmbed);\n",
       "    } else {\n",
       "      loadScript(\"vega\")\n",
       "        .then(() => loadScript(\"vega-lite\"))\n",
       "        .then(() => loadScript(\"vega-embed\"))\n",
       "        .catch(showError)\n",
       "        .then(() => displayChart(vegaEmbed));\n",
       "    }\n",
       "  })({\"config\": {\"view\": {\"continuousWidth\": 400, \"continuousHeight\": 300}}, \"layer\": [{\"layer\": [{\"mark\": {\"type\": \"point\", \"size\": 75}, \"encoding\": {\"tooltip\": [{\"type\": \"temporal\", \"field\": \"date\"}, {\"type\": \"quantitative\", \"field\": \"positiveRate\"}, {\"type\": \"quantitative\", \"field\": \"sma7d\"}], \"x\": {\"type\": \"temporal\", \"field\": \"date\"}, \"y\": {\"type\": \"quantitative\", \"field\": \"positiveRate\"}}, \"selection\": {\"selector004\": {\"type\": \"interval\", \"bind\": \"scales\", \"encodings\": [\"x\", \"y\"]}}}, {\"mark\": {\"type\": \"line\", \"color\": \"purple\"}, \"encoding\": {\"x\": {\"type\": \"temporal\", \"field\": \"date\"}, \"y\": {\"type\": \"quantitative\", \"field\": \"sma7d\"}}}]}, {\"mark\": {\"type\": \"rule\", \"color\": \"#aaa\"}, \"encoding\": {\"x\": {\"type\": \"temporal\", \"field\": \"date\"}}, \"transform\": [{\"filter\": {\"selection\": \"selector003\"}}]}, {\"mark\": \"circle\", \"encoding\": {\"opacity\": {\"condition\": {\"value\": 1, \"selection\": \"selector003\"}, \"value\": 0}, \"tooltip\": [{\"type\": \"temporal\", \"field\": \"date\"}, {\"type\": \"quantitative\", \"field\": \"positiveRate\"}, {\"type\": \"quantitative\", \"field\": \"sma7d\"}], \"x\": {\"type\": \"temporal\", \"field\": \"date\"}, \"y\": {\"type\": \"quantitative\", \"field\": \"positiveRate\"}}, \"selection\": {\"selector003\": {\"type\": \"single\", \"encodings\": [\"x\"], \"on\": \"mouseover\", \"nearest\": true, \"empty\": \"none\"}}}, {\"mark\": {\"type\": \"text\", \"align\": \"left\", \"dx\": 5, \"dy\": -5, \"stroke\": \"white\", \"strokeWidth\": 2}, \"encoding\": {\"text\": {\"type\": \"quantitative\", \"field\": \"positiveRate\"}, \"tooltip\": [{\"type\": \"temporal\", \"field\": \"date\"}, {\"type\": \"quantitative\", \"field\": \"positiveRate\"}, {\"type\": \"quantitative\", \"field\": \"sma7d\"}], \"x\": {\"type\": \"temporal\", \"field\": \"date\"}, \"y\": {\"type\": \"quantitative\", \"field\": \"positiveRate\"}}, \"transform\": [{\"filter\": {\"selection\": \"selector003\"}}]}, {\"mark\": {\"type\": \"text\", \"align\": \"left\", \"dx\": 5, \"dy\": -5}, \"encoding\": {\"text\": {\"type\": \"quantitative\", \"field\": \"positiveRate\"}, \"tooltip\": [{\"type\": \"temporal\", \"field\": \"date\"}, {\"type\": \"quantitative\", \"field\": \"positiveRate\"}, {\"type\": \"quantitative\", \"field\": \"sma7d\"}], \"x\": {\"type\": \"temporal\", \"field\": \"date\"}, \"y\": {\"type\": \"quantitative\", \"field\": \"positiveRate\"}}, \"transform\": [{\"filter\": {\"selection\": \"selector003\"}}]}], \"data\": {\"name\": \"data-9309f0347c3aa8ddf6a52ba3266ff72f\"}, \"height\": 400, \"title\": \"US: positiveRate\", \"width\": 500, \"$schema\": \"https://vega.github.io/schema/vega-lite/v4.8.1.json\", \"datasets\": {\"data-9309f0347c3aa8ddf6a52ba3266ff72f\": [{\"date\": \"2020-11-14T00:00:00\", \"totalTestResultsIncrease\": 1703386.0, \"positiveIncrease\": 167206.0, \"death\": 237419.0, \"deathIncrease\": 1352.0, \"positiveRate\": 0.098, \"state\": \"US\", \"sma7d\": 0.096}, {\"date\": \"2020-11-15T00:00:00\", \"totalTestResultsIncrease\": 1556532.0, \"positiveIncrease\": 146711.0, \"death\": 238127.0, \"deathIncrease\": 708.0, \"positiveRate\": 0.094, \"state\": \"US\", \"sma7d\": 0.097}, {\"date\": \"2020-11-16T00:00:00\", \"totalTestResultsIncrease\": 1533295.0, \"positiveIncrease\": 149615.0, \"death\": 238736.0, \"deathIncrease\": 609.0, \"positiveRate\": 0.098, \"state\": \"US\", \"sma7d\": 0.099}, {\"date\": \"2020-11-17T00:00:00\", \"totalTestResultsIncrease\": 1600147.0, \"positiveIncrease\": 159185.0, \"death\": 240298.0, \"deathIncrease\": 1562.0, \"positiveRate\": 0.099, \"state\": \"US\", \"sma7d\": 0.099}, {\"date\": \"2020-11-18T00:00:00\", \"totalTestResultsIncrease\": 1656482.0, \"positiveIncrease\": 167748.0, \"death\": 242180.0, \"deathIncrease\": 1882.0, \"positiveRate\": 0.101, \"state\": \"US\", \"sma7d\": 0.099}, {\"date\": \"2020-11-19T00:00:00\", \"totalTestResultsIncrease\": 1808351.0, \"positiveIncrease\": 187274.0, \"death\": 244200.0, \"deathIncrease\": 2020.0, \"positiveRate\": 0.104, \"state\": \"US\", \"sma7d\": 0.099}, {\"date\": \"2020-11-20T00:00:00\", \"totalTestResultsIncrease\": 1942859.0, \"positiveIncrease\": 196592.0, \"death\": 246094.0, \"deathIncrease\": 1894.0, \"positiveRate\": 0.101, \"state\": \"US\", \"sma7d\": 0.099}, {\"date\": \"2020-11-21T00:00:00\", \"totalTestResultsIncrease\": 2050886.0, \"positiveIncrease\": 183392.0, \"death\": 247648.0, \"deathIncrease\": 1554.0, \"positiveRate\": 0.089, \"state\": \"US\", \"sma7d\": 0.098}, {\"date\": \"2020-11-22T00:00:00\", \"totalTestResultsIncrease\": 1760391.0, \"positiveIncrease\": 153845.0, \"death\": 248565.0, \"deathIncrease\": 917.0, \"positiveRate\": 0.087, \"state\": \"US\", \"sma7d\": 0.097}, {\"date\": \"2020-11-23T00:00:00\", \"totalTestResultsIncrease\": 1751628.0, \"positiveIncrease\": 154242.0, \"death\": 249423.0, \"deathIncrease\": 858.0, \"positiveRate\": 0.088, \"state\": \"US\", \"sma7d\": 0.096}, {\"date\": \"2020-11-24T00:00:00\", \"totalTestResultsIncrease\": 1816522.0, \"positiveIncrease\": 165088.0, \"death\": 251529.0, \"deathIncrease\": 2106.0, \"positiveRate\": 0.091, \"state\": \"US\", \"sma7d\": 0.094}, {\"date\": \"2020-11-25T00:00:00\", \"totalTestResultsIncrease\": 1824361.0, \"positiveIncrease\": 187847.0, \"death\": 253809.0, \"deathIncrease\": 2280.0, \"positiveRate\": 0.103, \"state\": \"US\", \"sma7d\": 0.095}, {\"date\": \"2020-11-26T00:00:00\", \"totalTestResultsIncrease\": 1332160.0, \"positiveIncrease\": 129396.0, \"death\": 255196.0, \"deathIncrease\": 1387.0, \"positiveRate\": 0.097, \"state\": \"US\", \"sma7d\": 0.094}, {\"date\": \"2020-11-27T00:00:00\", \"totalTestResultsIncrease\": 2040543.0, \"positiveIncrease\": 197582.0, \"death\": 256588.0, \"deathIncrease\": 1392.0, \"positiveRate\": 0.097, \"state\": \"US\", \"sma7d\": 0.093}, {\"date\": \"2020-11-28T00:00:00\", \"totalTestResultsIncrease\": 1614409.0, \"positiveIncrease\": 151912.0, \"death\": 257839.0, \"deathIncrease\": 1251.0, \"positiveRate\": 0.094, \"state\": \"US\", \"sma7d\": 0.094}, {\"date\": \"2020-11-29T00:00:00\", \"totalTestResultsIncrease\": 1281241.0, \"positiveIncrease\": 136907.0, \"death\": 258662.0, \"deathIncrease\": 823.0, \"positiveRate\": 0.107, \"state\": \"US\", \"sma7d\": 0.097}, {\"date\": \"2020-11-30T00:00:00\", \"totalTestResultsIncrease\": 1612146.0, \"positiveIncrease\": 149213.0, \"death\": 259697.0, \"deathIncrease\": 1035.0, \"positiveRate\": 0.093, \"state\": \"US\", \"sma7d\": 0.097}, {\"date\": \"2020-12-01T00:00:00\", \"totalTestResultsIncrease\": 1466168.0, \"positiveIncrease\": 179049.0, \"death\": 262203.0, \"deathIncrease\": 2506.0, \"positiveRate\": 0.122, \"state\": \"US\", \"sma7d\": 0.102}, {\"date\": \"2020-12-02T00:00:00\", \"totalTestResultsIncrease\": 1556486.0, \"positiveIncrease\": 202029.0, \"death\": 265007.0, \"deathIncrease\": 2804.0, \"positiveRate\": 0.13, \"state\": \"US\", \"sma7d\": 0.106}, {\"date\": \"2020-12-03T00:00:00\", \"totalTestResultsIncrease\": 1894976.0, \"positiveIncrease\": 214402.0, \"death\": 267832.0, \"deathIncrease\": 2825.0, \"positiveRate\": 0.113, \"state\": \"US\", \"sma7d\": 0.108}, {\"date\": \"2020-12-04T00:00:00\", \"totalTestResultsIncrease\": 1884247.0, \"positiveIncrease\": 229955.0, \"death\": 270405.0, \"deathIncrease\": 2573.0, \"positiveRate\": 0.122, \"state\": \"US\", \"sma7d\": 0.112}, {\"date\": \"2020-12-05T00:00:00\", \"totalTestResultsIncrease\": 2210402.0, \"positiveIncrease\": 217402.0, \"death\": 272885.0, \"deathIncrease\": 2480.0, \"positiveRate\": 0.098, \"state\": \"US\", \"sma7d\": 0.112}, {\"date\": \"2020-12-06T00:00:00\", \"totalTestResultsIncrease\": 1606591.0, \"positiveIncrease\": 181798.0, \"death\": 274030.0, \"deathIncrease\": 1145.0, \"positiveRate\": 0.113, \"state\": \"US\", \"sma7d\": 0.113}, {\"date\": \"2020-12-07T00:00:00\", \"totalTestResultsIncrease\": 1722145.0, \"positiveIncrease\": 181512.0, \"death\": 275327.0, \"deathIncrease\": 1297.0, \"positiveRate\": 0.105, \"state\": \"US\", \"sma7d\": 0.115}, {\"date\": \"2020-12-08T00:00:00\", \"totalTestResultsIncrease\": 1658357.0, \"positiveIncrease\": 215955.0, \"death\": 278030.0, \"deathIncrease\": 2703.0, \"positiveRate\": 0.13, \"state\": \"US\", \"sma7d\": 0.116}, {\"date\": \"2020-12-09T00:00:00\", \"totalTestResultsIncrease\": 1800976.0, \"positiveIncrease\": 214871.0, \"death\": 281194.0, \"deathIncrease\": 3164.0, \"positiveRate\": 0.119, \"state\": \"US\", \"sma7d\": 0.114}, {\"date\": \"2020-12-10T00:00:00\", \"totalTestResultsIncrease\": 1891230.0, \"positiveIncrease\": 219631.0, \"death\": 284309.0, \"deathIncrease\": 3115.0, \"positiveRate\": 0.116, \"state\": \"US\", \"sma7d\": 0.115}, {\"date\": \"2020-12-11T00:00:00\", \"totalTestResultsIncrease\": 1990738.0, \"positiveIncrease\": 235502.0, \"death\": 287058.0, \"deathIncrease\": 2749.0, \"positiveRate\": 0.118, \"state\": \"US\", \"sma7d\": 0.114}, {\"date\": \"2020-12-12T00:00:00\", \"totalTestResultsIncrease\": 1808503.0, \"positiveIncrease\": 225124.0, \"death\": 289552.0, \"deathIncrease\": 2494.0, \"positiveRate\": 0.124, \"state\": \"US\", \"sma7d\": 0.118}, {\"date\": \"2020-12-13T00:00:00\", \"totalTestResultsIncrease\": 1770163.0, \"positiveIncrease\": 186358.0, \"death\": 291046.0, \"deathIncrease\": 1494.0, \"positiveRate\": 0.105, \"state\": \"US\", \"sma7d\": 0.117}, {\"date\": \"2020-12-14T00:00:00\", \"totalTestResultsIncrease\": 2158028.0, \"positiveIncrease\": 193005.0, \"death\": 292404.0, \"deathIncrease\": 1358.0, \"positiveRate\": 0.089, \"state\": \"US\", \"sma7d\": 0.114}, {\"date\": \"2020-12-15T00:00:00\", \"totalTestResultsIncrease\": 1773707.0, \"positiveIncrease\": 190518.0, \"death\": 295375.0, \"deathIncrease\": 2971.0, \"positiveRate\": 0.107, \"state\": \"US\", \"sma7d\": 0.111}, {\"date\": \"2020-12-16T00:00:00\", \"totalTestResultsIncrease\": 1787970.0, \"positiveIncrease\": 232298.0, \"death\": 298823.0, \"deathIncrease\": 3448.0, \"positiveRate\": 0.13, \"state\": \"US\", \"sma7d\": 0.113}, {\"date\": \"2020-12-17T00:00:00\", \"totalTestResultsIncrease\": 1864311.0, \"positiveIncrease\": 240812.0, \"death\": 302261.0, \"deathIncrease\": 3438.0, \"positiveRate\": 0.129, \"state\": \"US\", \"sma7d\": 0.115}, {\"date\": \"2020-12-18T00:00:00\", \"totalTestResultsIncrease\": 2196333.0, \"positiveIncrease\": 239795.0, \"death\": 305127.0, \"deathIncrease\": 2866.0, \"positiveRate\": 0.109, \"state\": \"US\", \"sma7d\": 0.113}, {\"date\": \"2020-12-19T00:00:00\", \"totalTestResultsIncrease\": 1739493.0, \"positiveIncrease\": 203480.0, \"death\": 307850.0, \"deathIncrease\": 2723.0, \"positiveRate\": 0.117, \"state\": \"US\", \"sma7d\": 0.112}, {\"date\": \"2020-12-20T00:00:00\", \"totalTestResultsIncrease\": 1792080.0, \"positiveIncrease\": 196573.0, \"death\": 309483.0, \"deathIncrease\": 1633.0, \"positiveRate\": 0.11, \"state\": \"US\", \"sma7d\": 0.113}, {\"date\": \"2020-12-21T00:00:00\", \"totalTestResultsIncrease\": 2082067.0, \"positiveIncrease\": 178706.0, \"death\": 310968.0, \"deathIncrease\": 1485.0, \"positiveRate\": 0.086, \"state\": \"US\", \"sma7d\": 0.113}, {\"date\": \"2020-12-22T00:00:00\", \"totalTestResultsIncrease\": 1689842.0, \"positiveIncrease\": 190625.0, \"death\": 314134.0, \"deathIncrease\": 3166.0, \"positiveRate\": 0.113, \"state\": \"US\", \"sma7d\": 0.113}, {\"date\": \"2020-12-23T00:00:00\", \"totalTestResultsIncrease\": 1747499.0, \"positiveIncrease\": 221485.0, \"death\": 317513.0, \"deathIncrease\": 3379.0, \"positiveRate\": 0.127, \"state\": \"US\", \"sma7d\": 0.113}, {\"date\": \"2020-12-24T00:00:00\", \"totalTestResultsIncrease\": 1930034.0, \"positiveIncrease\": 204251.0, \"death\": 320462.0, \"deathIncrease\": 2949.0, \"positiveRate\": 0.106, \"state\": \"US\", \"sma7d\": 0.11}, {\"date\": \"2020-12-25T00:00:00\", \"totalTestResultsIncrease\": 1353689.0, \"positiveIncrease\": 125913.0, \"death\": 322010.0, \"deathIncrease\": 1548.0, \"positiveRate\": 0.093, \"state\": \"US\", \"sma7d\": 0.107}, {\"date\": \"2020-12-26T00:00:00\", \"totalTestResultsIncrease\": 2122061.0, \"positiveIncrease\": 189826.0, \"death\": 323429.0, \"deathIncrease\": 1419.0, \"positiveRate\": 0.089, \"state\": \"US\", \"sma7d\": 0.103}, {\"date\": \"2020-12-27T00:00:00\", \"totalTestResultsIncrease\": 1340340.0, \"positiveIncrease\": 153769.0, \"death\": 324831.0, \"deathIncrease\": 1402.0, \"positiveRate\": 0.115, \"state\": \"US\", \"sma7d\": 0.104}, {\"date\": \"2020-12-28T00:00:00\", \"totalTestResultsIncrease\": 1537769.0, \"positiveIncrease\": 162759.0, \"death\": 326322.0, \"deathIncrease\": 1491.0, \"positiveRate\": 0.106, \"state\": \"US\", \"sma7d\": 0.107}, {\"date\": \"2020-12-29T00:00:00\", \"totalTestResultsIncrease\": 1246101.0, \"positiveIncrease\": 195944.0, \"death\": 329621.0, \"deathIncrease\": 3299.0, \"positiveRate\": 0.157, \"state\": \"US\", \"sma7d\": 0.113}, {\"date\": \"2020-12-30T00:00:00\", \"totalTestResultsIncrease\": 1538124.0, \"positiveIncrease\": 226259.0, \"death\": 333524.0, \"deathIncrease\": 3903.0, \"positiveRate\": 0.147, \"state\": \"US\", \"sma7d\": 0.116}, {\"date\": \"2020-12-31T00:00:00\", \"totalTestResultsIncrease\": 1749023.0, \"positiveIncrease\": 223652.0, \"death\": 336811.0, \"deathIncrease\": 3287.0, \"positiveRate\": 0.128, \"state\": \"US\", \"sma7d\": 0.119}, {\"date\": \"2021-01-01T00:00:00\", \"totalTestResultsIncrease\": 1340014.0, \"positiveIncrease\": 180269.0, \"death\": 339407.0, \"deathIncrease\": 2596.0, \"positiveRate\": 0.135, \"state\": \"US\", \"sma7d\": 0.125}, {\"date\": \"2021-01-02T00:00:00\", \"totalTestResultsIncrease\": 2060220.0, \"positiveIncrease\": 278968.0, \"death\": 341802.0, \"deathIncrease\": 2395.0, \"positiveRate\": 0.135, \"state\": \"US\", \"sma7d\": 0.132}, {\"date\": \"2021-01-03T00:00:00\", \"totalTestResultsIncrease\": 1401449.0, \"positiveIncrease\": 208144.0, \"death\": 343263.0, \"deathIncrease\": 1461.0, \"positiveRate\": 0.149, \"state\": \"US\", \"sma7d\": 0.137}, {\"date\": \"2021-01-04T00:00:00\", \"totalTestResultsIncrease\": 1638653.0, \"positiveIncrease\": 177749.0, \"death\": 344808.0, \"deathIncrease\": 1545.0, \"positiveRate\": 0.108, \"state\": \"US\", \"sma7d\": 0.137}, {\"date\": \"2021-01-05T00:00:00\", \"totalTestResultsIncrease\": 1608732.0, \"positiveIncrease\": 215413.0, \"death\": 348330.0, \"deathIncrease\": 3522.0, \"positiveRate\": 0.134, \"state\": \"US\", \"sma7d\": 0.134}, {\"date\": \"2021-01-06T00:00:00\", \"totalTestResultsIncrease\": 1619168.0, \"positiveIncrease\": 247786.0, \"death\": 352196.0, \"deathIncrease\": 3866.0, \"positiveRate\": 0.153, \"state\": \"US\", \"sma7d\": 0.135}, {\"date\": \"2021-01-07T00:00:00\", \"totalTestResultsIncrease\": 1899312.0, \"positiveIncrease\": 265871.0, \"death\": 356006.0, \"deathIncrease\": 4030.0, \"positiveRate\": 0.14, \"state\": \"US\", \"sma7d\": 0.136}]}}, {\"mode\": \"vega-lite\"});\n",
       "</script>"
      ],
      "text/plain": [
       "alt.LayerChart(...)"
      ]
     },
     "execution_count": 8,
     "metadata": {},
     "output_type": "execute_result"
    }
   ],
   "source": [
    "create_plot(us, 'positiveRate')"
   ]
  },
  {
   "cell_type": "code",
   "execution_count": 9,
   "metadata": {
    "execution": {
     "iopub.execute_input": "2021-01-08T09:33:50.830881Z",
     "iopub.status.busy": "2021-01-08T09:33:50.810278Z",
     "iopub.status.idle": "2021-01-08T09:33:50.890175Z",
     "shell.execute_reply": "2021-01-08T09:33:50.889298Z"
    },
    "papermill": {
     "duration": 0.095779,
     "end_time": "2021-01-08T09:33:50.890293",
     "exception": false,
     "start_time": "2021-01-08T09:33:50.794514",
     "status": "completed"
    },
    "tags": []
   },
   "outputs": [
    {
     "data": {
      "text/html": [
       "\n",
       "<div id=\"altair-viz-cd86cf3b9583450a9a0e81593f1bd4c9\"></div>\n",
       "<script type=\"text/javascript\">\n",
       "  (function(spec, embedOpt){\n",
       "    let outputDiv = document.currentScript.previousElementSibling;\n",
       "    if (outputDiv.id !== \"altair-viz-cd86cf3b9583450a9a0e81593f1bd4c9\") {\n",
       "      outputDiv = document.getElementById(\"altair-viz-cd86cf3b9583450a9a0e81593f1bd4c9\");\n",
       "    }\n",
       "    const paths = {\n",
       "      \"vega\": \"https://cdn.jsdelivr.net/npm//vega@5?noext\",\n",
       "      \"vega-lib\": \"https://cdn.jsdelivr.net/npm//vega-lib?noext\",\n",
       "      \"vega-lite\": \"https://cdn.jsdelivr.net/npm//vega-lite@4.8.1?noext\",\n",
       "      \"vega-embed\": \"https://cdn.jsdelivr.net/npm//vega-embed@6?noext\",\n",
       "    };\n",
       "\n",
       "    function loadScript(lib) {\n",
       "      return new Promise(function(resolve, reject) {\n",
       "        var s = document.createElement('script');\n",
       "        s.src = paths[lib];\n",
       "        s.async = true;\n",
       "        s.onload = () => resolve(paths[lib]);\n",
       "        s.onerror = () => reject(`Error loading script: ${paths[lib]}`);\n",
       "        document.getElementsByTagName(\"head\")[0].appendChild(s);\n",
       "      });\n",
       "    }\n",
       "\n",
       "    function showError(err) {\n",
       "      outputDiv.innerHTML = `<div class=\"error\" style=\"color:red;\">${err}</div>`;\n",
       "      throw err;\n",
       "    }\n",
       "\n",
       "    function displayChart(vegaEmbed) {\n",
       "      vegaEmbed(outputDiv, spec, embedOpt)\n",
       "        .catch(err => showError(`Javascript Error: ${err.message}<br>This usually means there's a typo in your chart specification. See the javascript console for the full traceback.`));\n",
       "    }\n",
       "\n",
       "    if(typeof define === \"function\" && define.amd) {\n",
       "      requirejs.config({paths});\n",
       "      require([\"vega-embed\"], displayChart, err => showError(`Error loading script: ${err.message}`));\n",
       "    } else if (typeof vegaEmbed === \"function\") {\n",
       "      displayChart(vegaEmbed);\n",
       "    } else {\n",
       "      loadScript(\"vega\")\n",
       "        .then(() => loadScript(\"vega-lite\"))\n",
       "        .then(() => loadScript(\"vega-embed\"))\n",
       "        .catch(showError)\n",
       "        .then(() => displayChart(vegaEmbed));\n",
       "    }\n",
       "  })({\"config\": {\"view\": {\"continuousWidth\": 400, \"continuousHeight\": 300}}, \"layer\": [{\"layer\": [{\"mark\": {\"type\": \"point\", \"size\": 75}, \"encoding\": {\"tooltip\": [{\"type\": \"temporal\", \"field\": \"date\"}, {\"type\": \"quantitative\", \"field\": \"deathIncrease\"}, {\"type\": \"quantitative\", \"field\": \"sma7d\"}], \"x\": {\"type\": \"temporal\", \"field\": \"date\"}, \"y\": {\"type\": \"quantitative\", \"field\": \"deathIncrease\"}}, \"selection\": {\"selector006\": {\"type\": \"interval\", \"bind\": \"scales\", \"encodings\": [\"x\", \"y\"]}}}, {\"mark\": {\"type\": \"line\", \"color\": \"purple\"}, \"encoding\": {\"x\": {\"type\": \"temporal\", \"field\": \"date\"}, \"y\": {\"type\": \"quantitative\", \"field\": \"sma7d\"}}}]}, {\"mark\": {\"type\": \"rule\", \"color\": \"#aaa\"}, \"encoding\": {\"x\": {\"type\": \"temporal\", \"field\": \"date\"}}, \"transform\": [{\"filter\": {\"selection\": \"selector005\"}}]}, {\"mark\": \"circle\", \"encoding\": {\"opacity\": {\"condition\": {\"value\": 1, \"selection\": \"selector005\"}, \"value\": 0}, \"tooltip\": [{\"type\": \"temporal\", \"field\": \"date\"}, {\"type\": \"quantitative\", \"field\": \"deathIncrease\"}, {\"type\": \"quantitative\", \"field\": \"sma7d\"}], \"x\": {\"type\": \"temporal\", \"field\": \"date\"}, \"y\": {\"type\": \"quantitative\", \"field\": \"deathIncrease\"}}, \"selection\": {\"selector005\": {\"type\": \"single\", \"encodings\": [\"x\"], \"on\": \"mouseover\", \"nearest\": true, \"empty\": \"none\"}}}, {\"mark\": {\"type\": \"text\", \"align\": \"left\", \"dx\": 5, \"dy\": -5, \"stroke\": \"white\", \"strokeWidth\": 2}, \"encoding\": {\"text\": {\"type\": \"quantitative\", \"field\": \"deathIncrease\"}, \"tooltip\": [{\"type\": \"temporal\", \"field\": \"date\"}, {\"type\": \"quantitative\", \"field\": \"deathIncrease\"}, {\"type\": \"quantitative\", \"field\": \"sma7d\"}], \"x\": {\"type\": \"temporal\", \"field\": \"date\"}, \"y\": {\"type\": \"quantitative\", \"field\": \"deathIncrease\"}}, \"transform\": [{\"filter\": {\"selection\": \"selector005\"}}]}, {\"mark\": {\"type\": \"text\", \"align\": \"left\", \"dx\": 5, \"dy\": -5}, \"encoding\": {\"text\": {\"type\": \"quantitative\", \"field\": \"deathIncrease\"}, \"tooltip\": [{\"type\": \"temporal\", \"field\": \"date\"}, {\"type\": \"quantitative\", \"field\": \"deathIncrease\"}, {\"type\": \"quantitative\", \"field\": \"sma7d\"}], \"x\": {\"type\": \"temporal\", \"field\": \"date\"}, \"y\": {\"type\": \"quantitative\", \"field\": \"deathIncrease\"}}, \"transform\": [{\"filter\": {\"selection\": \"selector005\"}}]}], \"data\": {\"name\": \"data-d06e92ddce036d635eecf9addf8cc2c4\"}, \"height\": 400, \"title\": \"US: deathIncrease\", \"width\": 500, \"$schema\": \"https://vega.github.io/schema/vega-lite/v4.8.1.json\", \"datasets\": {\"data-d06e92ddce036d635eecf9addf8cc2c4\": [{\"date\": \"2020-11-14T00:00:00\", \"totalTestResultsIncrease\": 1703386.0, \"positiveIncrease\": 167206.0, \"death\": 237419.0, \"deathIncrease\": 1352.0, \"positiveRate\": 0.098, \"state\": \"US\", \"sma7d\": 1112.0}, {\"date\": \"2020-11-15T00:00:00\", \"totalTestResultsIncrease\": 1556532.0, \"positiveIncrease\": 146711.0, \"death\": 238127.0, \"deathIncrease\": 708.0, \"positiveRate\": 0.094, \"state\": \"US\", \"sma7d\": 1141.571}, {\"date\": \"2020-11-16T00:00:00\", \"totalTestResultsIncrease\": 1533295.0, \"positiveIncrease\": 149615.0, \"death\": 238736.0, \"deathIncrease\": 609.0, \"positiveRate\": 0.098, \"state\": \"US\", \"sma7d\": 1145.714}, {\"date\": \"2020-11-17T00:00:00\", \"totalTestResultsIncrease\": 1600147.0, \"positiveIncrease\": 159185.0, \"death\": 240298.0, \"deathIncrease\": 1562.0, \"positiveRate\": 0.099, \"state\": \"US\", \"sma7d\": 1175.0}, {\"date\": \"2020-11-18T00:00:00\", \"totalTestResultsIncrease\": 1656482.0, \"positiveIncrease\": 167748.0, \"death\": 242180.0, \"deathIncrease\": 1882.0, \"positiveRate\": 0.101, \"state\": \"US\", \"sma7d\": 1218.286}, {\"date\": \"2020-11-19T00:00:00\", \"totalTestResultsIncrease\": 1808351.0, \"positiveIncrease\": 187274.0, \"death\": 244200.0, \"deathIncrease\": 2020.0, \"positiveRate\": 0.104, \"state\": \"US\", \"sma7d\": 1348.143}, {\"date\": \"2020-11-20T00:00:00\", \"totalTestResultsIncrease\": 1942859.0, \"positiveIncrease\": 196592.0, \"death\": 246094.0, \"deathIncrease\": 1894.0, \"positiveRate\": 0.101, \"state\": \"US\", \"sma7d\": 1432.429}, {\"date\": \"2020-11-21T00:00:00\", \"totalTestResultsIncrease\": 2050886.0, \"positiveIncrease\": 183392.0, \"death\": 247648.0, \"deathIncrease\": 1554.0, \"positiveRate\": 0.089, \"state\": \"US\", \"sma7d\": 1461.286}, {\"date\": \"2020-11-22T00:00:00\", \"totalTestResultsIncrease\": 1760391.0, \"positiveIncrease\": 153845.0, \"death\": 248565.0, \"deathIncrease\": 917.0, \"positiveRate\": 0.087, \"state\": \"US\", \"sma7d\": 1491.143}, {\"date\": \"2020-11-23T00:00:00\", \"totalTestResultsIncrease\": 1751628.0, \"positiveIncrease\": 154242.0, \"death\": 249423.0, \"deathIncrease\": 858.0, \"positiveRate\": 0.088, \"state\": \"US\", \"sma7d\": 1526.714}, {\"date\": \"2020-11-24T00:00:00\", \"totalTestResultsIncrease\": 1816522.0, \"positiveIncrease\": 165088.0, \"death\": 251529.0, \"deathIncrease\": 2106.0, \"positiveRate\": 0.091, \"state\": \"US\", \"sma7d\": 1604.429}, {\"date\": \"2020-11-25T00:00:00\", \"totalTestResultsIncrease\": 1824361.0, \"positiveIncrease\": 187847.0, \"death\": 253809.0, \"deathIncrease\": 2280.0, \"positiveRate\": 0.103, \"state\": \"US\", \"sma7d\": 1661.286}, {\"date\": \"2020-11-26T00:00:00\", \"totalTestResultsIncrease\": 1332160.0, \"positiveIncrease\": 129396.0, \"death\": 255196.0, \"deathIncrease\": 1387.0, \"positiveRate\": 0.097, \"state\": \"US\", \"sma7d\": 1570.857}, {\"date\": \"2020-11-27T00:00:00\", \"totalTestResultsIncrease\": 2040543.0, \"positiveIncrease\": 197582.0, \"death\": 256588.0, \"deathIncrease\": 1392.0, \"positiveRate\": 0.097, \"state\": \"US\", \"sma7d\": 1499.143}, {\"date\": \"2020-11-28T00:00:00\", \"totalTestResultsIncrease\": 1614409.0, \"positiveIncrease\": 151912.0, \"death\": 257839.0, \"deathIncrease\": 1251.0, \"positiveRate\": 0.094, \"state\": \"US\", \"sma7d\": 1455.857}, {\"date\": \"2020-11-29T00:00:00\", \"totalTestResultsIncrease\": 1281241.0, \"positiveIncrease\": 136907.0, \"death\": 258662.0, \"deathIncrease\": 823.0, \"positiveRate\": 0.107, \"state\": \"US\", \"sma7d\": 1442.429}, {\"date\": \"2020-11-30T00:00:00\", \"totalTestResultsIncrease\": 1612146.0, \"positiveIncrease\": 149213.0, \"death\": 259697.0, \"deathIncrease\": 1035.0, \"positiveRate\": 0.093, \"state\": \"US\", \"sma7d\": 1467.714}, {\"date\": \"2020-12-01T00:00:00\", \"totalTestResultsIncrease\": 1466168.0, \"positiveIncrease\": 179049.0, \"death\": 262203.0, \"deathIncrease\": 2506.0, \"positiveRate\": 0.122, \"state\": \"US\", \"sma7d\": 1524.857}, {\"date\": \"2020-12-02T00:00:00\", \"totalTestResultsIncrease\": 1556486.0, \"positiveIncrease\": 202029.0, \"death\": 265007.0, \"deathIncrease\": 2804.0, \"positiveRate\": 0.13, \"state\": \"US\", \"sma7d\": 1599.714}, {\"date\": \"2020-12-03T00:00:00\", \"totalTestResultsIncrease\": 1894976.0, \"positiveIncrease\": 214402.0, \"death\": 267832.0, \"deathIncrease\": 2825.0, \"positiveRate\": 0.113, \"state\": \"US\", \"sma7d\": 1805.143}, {\"date\": \"2020-12-04T00:00:00\", \"totalTestResultsIncrease\": 1884247.0, \"positiveIncrease\": 229955.0, \"death\": 270405.0, \"deathIncrease\": 2573.0, \"positiveRate\": 0.122, \"state\": \"US\", \"sma7d\": 1973.857}, {\"date\": \"2020-12-05T00:00:00\", \"totalTestResultsIncrease\": 2210402.0, \"positiveIncrease\": 217402.0, \"death\": 272885.0, \"deathIncrease\": 2480.0, \"positiveRate\": 0.098, \"state\": \"US\", \"sma7d\": 2149.429}, {\"date\": \"2020-12-06T00:00:00\", \"totalTestResultsIncrease\": 1606591.0, \"positiveIncrease\": 181798.0, \"death\": 274030.0, \"deathIncrease\": 1145.0, \"positiveRate\": 0.113, \"state\": \"US\", \"sma7d\": 2195.429}, {\"date\": \"2020-12-07T00:00:00\", \"totalTestResultsIncrease\": 1722145.0, \"positiveIncrease\": 181512.0, \"death\": 275327.0, \"deathIncrease\": 1297.0, \"positiveRate\": 0.105, \"state\": \"US\", \"sma7d\": 2232.857}, {\"date\": \"2020-12-08T00:00:00\", \"totalTestResultsIncrease\": 1658357.0, \"positiveIncrease\": 215955.0, \"death\": 278030.0, \"deathIncrease\": 2703.0, \"positiveRate\": 0.13, \"state\": \"US\", \"sma7d\": 2261.0}, {\"date\": \"2020-12-09T00:00:00\", \"totalTestResultsIncrease\": 1800976.0, \"positiveIncrease\": 214871.0, \"death\": 281194.0, \"deathIncrease\": 3164.0, \"positiveRate\": 0.119, \"state\": \"US\", \"sma7d\": 2312.429}, {\"date\": \"2020-12-10T00:00:00\", \"totalTestResultsIncrease\": 1891230.0, \"positiveIncrease\": 219631.0, \"death\": 284309.0, \"deathIncrease\": 3115.0, \"positiveRate\": 0.116, \"state\": \"US\", \"sma7d\": 2353.857}, {\"date\": \"2020-12-11T00:00:00\", \"totalTestResultsIncrease\": 1990738.0, \"positiveIncrease\": 235502.0, \"death\": 287058.0, \"deathIncrease\": 2749.0, \"positiveRate\": 0.118, \"state\": \"US\", \"sma7d\": 2379.0}, {\"date\": \"2020-12-12T00:00:00\", \"totalTestResultsIncrease\": 1808503.0, \"positiveIncrease\": 225124.0, \"death\": 289552.0, \"deathIncrease\": 2494.0, \"positiveRate\": 0.124, \"state\": \"US\", \"sma7d\": 2381.0}, {\"date\": \"2020-12-13T00:00:00\", \"totalTestResultsIncrease\": 1770163.0, \"positiveIncrease\": 186358.0, \"death\": 291046.0, \"deathIncrease\": 1494.0, \"positiveRate\": 0.105, \"state\": \"US\", \"sma7d\": 2430.857}, {\"date\": \"2020-12-14T00:00:00\", \"totalTestResultsIncrease\": 2158028.0, \"positiveIncrease\": 193005.0, \"death\": 292404.0, \"deathIncrease\": 1358.0, \"positiveRate\": 0.089, \"state\": \"US\", \"sma7d\": 2439.571}, {\"date\": \"2020-12-15T00:00:00\", \"totalTestResultsIncrease\": 1773707.0, \"positiveIncrease\": 190518.0, \"death\": 295375.0, \"deathIncrease\": 2971.0, \"positiveRate\": 0.107, \"state\": \"US\", \"sma7d\": 2477.857}, {\"date\": \"2020-12-16T00:00:00\", \"totalTestResultsIncrease\": 1787970.0, \"positiveIncrease\": 232298.0, \"death\": 298823.0, \"deathIncrease\": 3448.0, \"positiveRate\": 0.13, \"state\": \"US\", \"sma7d\": 2518.429}, {\"date\": \"2020-12-17T00:00:00\", \"totalTestResultsIncrease\": 1864311.0, \"positiveIncrease\": 240812.0, \"death\": 302261.0, \"deathIncrease\": 3438.0, \"positiveRate\": 0.129, \"state\": \"US\", \"sma7d\": 2564.571}, {\"date\": \"2020-12-18T00:00:00\", \"totalTestResultsIncrease\": 2196333.0, \"positiveIncrease\": 239795.0, \"death\": 305127.0, \"deathIncrease\": 2866.0, \"positiveRate\": 0.109, \"state\": \"US\", \"sma7d\": 2581.286}, {\"date\": \"2020-12-19T00:00:00\", \"totalTestResultsIncrease\": 1739493.0, \"positiveIncrease\": 203480.0, \"death\": 307850.0, \"deathIncrease\": 2723.0, \"positiveRate\": 0.117, \"state\": \"US\", \"sma7d\": 2614.0}, {\"date\": \"2020-12-20T00:00:00\", \"totalTestResultsIncrease\": 1792080.0, \"positiveIncrease\": 196573.0, \"death\": 309483.0, \"deathIncrease\": 1633.0, \"positiveRate\": 0.11, \"state\": \"US\", \"sma7d\": 2633.857}, {\"date\": \"2020-12-21T00:00:00\", \"totalTestResultsIncrease\": 2082067.0, \"positiveIncrease\": 178706.0, \"death\": 310968.0, \"deathIncrease\": 1485.0, \"positiveRate\": 0.086, \"state\": \"US\", \"sma7d\": 2652.0}, {\"date\": \"2020-12-22T00:00:00\", \"totalTestResultsIncrease\": 1689842.0, \"positiveIncrease\": 190625.0, \"death\": 314134.0, \"deathIncrease\": 3166.0, \"positiveRate\": 0.113, \"state\": \"US\", \"sma7d\": 2679.857}, {\"date\": \"2020-12-23T00:00:00\", \"totalTestResultsIncrease\": 1747499.0, \"positiveIncrease\": 221485.0, \"death\": 317513.0, \"deathIncrease\": 3379.0, \"positiveRate\": 0.127, \"state\": \"US\", \"sma7d\": 2670.0}, {\"date\": \"2020-12-24T00:00:00\", \"totalTestResultsIncrease\": 1930034.0, \"positiveIncrease\": 204251.0, \"death\": 320462.0, \"deathIncrease\": 2949.0, \"positiveRate\": 0.106, \"state\": \"US\", \"sma7d\": 2600.143}, {\"date\": \"2020-12-25T00:00:00\", \"totalTestResultsIncrease\": 1353689.0, \"positiveIncrease\": 125913.0, \"death\": 322010.0, \"deathIncrease\": 1548.0, \"positiveRate\": 0.093, \"state\": \"US\", \"sma7d\": 2411.857}, {\"date\": \"2020-12-26T00:00:00\", \"totalTestResultsIncrease\": 2122061.0, \"positiveIncrease\": 189826.0, \"death\": 323429.0, \"deathIncrease\": 1419.0, \"positiveRate\": 0.089, \"state\": \"US\", \"sma7d\": 2225.571}, {\"date\": \"2020-12-27T00:00:00\", \"totalTestResultsIncrease\": 1340340.0, \"positiveIncrease\": 153769.0, \"death\": 324831.0, \"deathIncrease\": 1402.0, \"positiveRate\": 0.115, \"state\": \"US\", \"sma7d\": 2192.571}, {\"date\": \"2020-12-28T00:00:00\", \"totalTestResultsIncrease\": 1537769.0, \"positiveIncrease\": 162759.0, \"death\": 326322.0, \"deathIncrease\": 1491.0, \"positiveRate\": 0.106, \"state\": \"US\", \"sma7d\": 2193.429}, {\"date\": \"2020-12-29T00:00:00\", \"totalTestResultsIncrease\": 1246101.0, \"positiveIncrease\": 195944.0, \"death\": 329621.0, \"deathIncrease\": 3299.0, \"positiveRate\": 0.157, \"state\": \"US\", \"sma7d\": 2212.429}, {\"date\": \"2020-12-30T00:00:00\", \"totalTestResultsIncrease\": 1538124.0, \"positiveIncrease\": 226259.0, \"death\": 333524.0, \"deathIncrease\": 3903.0, \"positiveRate\": 0.147, \"state\": \"US\", \"sma7d\": 2287.286}, {\"date\": \"2020-12-31T00:00:00\", \"totalTestResultsIncrease\": 1749023.0, \"positiveIncrease\": 223652.0, \"death\": 336811.0, \"deathIncrease\": 3287.0, \"positiveRate\": 0.128, \"state\": \"US\", \"sma7d\": 2335.571}, {\"date\": \"2021-01-01T00:00:00\", \"totalTestResultsIncrease\": 1340014.0, \"positiveIncrease\": 180269.0, \"death\": 339407.0, \"deathIncrease\": 2596.0, \"positiveRate\": 0.135, \"state\": \"US\", \"sma7d\": 2485.286}, {\"date\": \"2021-01-02T00:00:00\", \"totalTestResultsIncrease\": 2060220.0, \"positiveIncrease\": 278968.0, \"death\": 341802.0, \"deathIncrease\": 2395.0, \"positiveRate\": 0.135, \"state\": \"US\", \"sma7d\": 2624.714}, {\"date\": \"2021-01-03T00:00:00\", \"totalTestResultsIncrease\": 1401449.0, \"positiveIncrease\": 208144.0, \"death\": 343263.0, \"deathIncrease\": 1461.0, \"positiveRate\": 0.149, \"state\": \"US\", \"sma7d\": 2633.143}, {\"date\": \"2021-01-04T00:00:00\", \"totalTestResultsIncrease\": 1638653.0, \"positiveIncrease\": 177749.0, \"death\": 344808.0, \"deathIncrease\": 1545.0, \"positiveRate\": 0.108, \"state\": \"US\", \"sma7d\": 2640.857}, {\"date\": \"2021-01-05T00:00:00\", \"totalTestResultsIncrease\": 1608732.0, \"positiveIncrease\": 215413.0, \"death\": 348330.0, \"deathIncrease\": 3522.0, \"positiveRate\": 0.134, \"state\": \"US\", \"sma7d\": 2672.714}, {\"date\": \"2021-01-06T00:00:00\", \"totalTestResultsIncrease\": 1619168.0, \"positiveIncrease\": 247786.0, \"death\": 352196.0, \"deathIncrease\": 3866.0, \"positiveRate\": 0.153, \"state\": \"US\", \"sma7d\": 2667.429}, {\"date\": \"2021-01-07T00:00:00\", \"totalTestResultsIncrease\": 1899312.0, \"positiveIncrease\": 265871.0, \"death\": 356006.0, \"deathIncrease\": 4030.0, \"positiveRate\": 0.14, \"state\": \"US\", \"sma7d\": 2773.571}]}}, {\"mode\": \"vega-lite\"});\n",
       "</script>"
      ],
      "text/plain": [
       "alt.LayerChart(...)"
      ]
     },
     "execution_count": 9,
     "metadata": {},
     "output_type": "execute_result"
    }
   ],
   "source": [
    "create_plot(us, 'deathIncrease')"
   ]
  },
  {
   "cell_type": "markdown",
   "metadata": {
    "papermill": {
     "duration": 0.013274,
     "end_time": "2021-01-08T09:33:50.916985",
     "exception": false,
     "start_time": "2021-01-08T09:33:50.903711",
     "status": "completed"
    },
    "tags": []
   },
   "source": [
    "## NY"
   ]
  },
  {
   "cell_type": "code",
   "execution_count": 10,
   "metadata": {
    "execution": {
     "iopub.execute_input": "2021-01-08T09:33:50.946998Z",
     "iopub.status.busy": "2021-01-08T09:33:50.946445Z",
     "iopub.status.idle": "2021-01-08T09:33:51.225900Z",
     "shell.execute_reply": "2021-01-08T09:33:51.225413Z"
    },
    "papermill": {
     "duration": 0.295648,
     "end_time": "2021-01-08T09:33:51.226042",
     "exception": false,
     "start_time": "2021-01-08T09:33:50.930394",
     "status": "completed"
    },
    "tags": []
   },
   "outputs": [],
   "source": [
    "ny = create_df(df, (lambda d: d['state'] == 'NY'), 'New York')"
   ]
  },
  {
   "cell_type": "code",
   "execution_count": 11,
   "metadata": {
    "execution": {
     "iopub.execute_input": "2021-01-08T09:33:51.264977Z",
     "iopub.status.busy": "2021-01-08T09:33:51.257074Z",
     "iopub.status.idle": "2021-01-08T09:33:51.337360Z",
     "shell.execute_reply": "2021-01-08T09:33:51.336965Z"
    },
    "papermill": {
     "duration": 0.096819,
     "end_time": "2021-01-08T09:33:51.337475",
     "exception": false,
     "start_time": "2021-01-08T09:33:51.240656",
     "status": "completed"
    },
    "tags": []
   },
   "outputs": [
    {
     "data": {
      "text/html": [
       "\n",
       "<div id=\"altair-viz-0e522e4522aa4522b43c04eb81089fce\"></div>\n",
       "<script type=\"text/javascript\">\n",
       "  (function(spec, embedOpt){\n",
       "    let outputDiv = document.currentScript.previousElementSibling;\n",
       "    if (outputDiv.id !== \"altair-viz-0e522e4522aa4522b43c04eb81089fce\") {\n",
       "      outputDiv = document.getElementById(\"altair-viz-0e522e4522aa4522b43c04eb81089fce\");\n",
       "    }\n",
       "    const paths = {\n",
       "      \"vega\": \"https://cdn.jsdelivr.net/npm//vega@5?noext\",\n",
       "      \"vega-lib\": \"https://cdn.jsdelivr.net/npm//vega-lib?noext\",\n",
       "      \"vega-lite\": \"https://cdn.jsdelivr.net/npm//vega-lite@4.8.1?noext\",\n",
       "      \"vega-embed\": \"https://cdn.jsdelivr.net/npm//vega-embed@6?noext\",\n",
       "    };\n",
       "\n",
       "    function loadScript(lib) {\n",
       "      return new Promise(function(resolve, reject) {\n",
       "        var s = document.createElement('script');\n",
       "        s.src = paths[lib];\n",
       "        s.async = true;\n",
       "        s.onload = () => resolve(paths[lib]);\n",
       "        s.onerror = () => reject(`Error loading script: ${paths[lib]}`);\n",
       "        document.getElementsByTagName(\"head\")[0].appendChild(s);\n",
       "      });\n",
       "    }\n",
       "\n",
       "    function showError(err) {\n",
       "      outputDiv.innerHTML = `<div class=\"error\" style=\"color:red;\">${err}</div>`;\n",
       "      throw err;\n",
       "    }\n",
       "\n",
       "    function displayChart(vegaEmbed) {\n",
       "      vegaEmbed(outputDiv, spec, embedOpt)\n",
       "        .catch(err => showError(`Javascript Error: ${err.message}<br>This usually means there's a typo in your chart specification. See the javascript console for the full traceback.`));\n",
       "    }\n",
       "\n",
       "    if(typeof define === \"function\" && define.amd) {\n",
       "      requirejs.config({paths});\n",
       "      require([\"vega-embed\"], displayChart, err => showError(`Error loading script: ${err.message}`));\n",
       "    } else if (typeof vegaEmbed === \"function\") {\n",
       "      displayChart(vegaEmbed);\n",
       "    } else {\n",
       "      loadScript(\"vega\")\n",
       "        .then(() => loadScript(\"vega-lite\"))\n",
       "        .then(() => loadScript(\"vega-embed\"))\n",
       "        .catch(showError)\n",
       "        .then(() => displayChart(vegaEmbed));\n",
       "    }\n",
       "  })({\"config\": {\"view\": {\"continuousWidth\": 400, \"continuousHeight\": 300}}, \"layer\": [{\"layer\": [{\"mark\": {\"type\": \"point\", \"size\": 75}, \"encoding\": {\"tooltip\": [{\"type\": \"temporal\", \"field\": \"date\"}, {\"type\": \"quantitative\", \"field\": \"positiveIncrease\"}, {\"type\": \"quantitative\", \"field\": \"sma7d\"}], \"x\": {\"type\": \"temporal\", \"field\": \"date\"}, \"y\": {\"type\": \"quantitative\", \"field\": \"positiveIncrease\"}}, \"selection\": {\"selector008\": {\"type\": \"interval\", \"bind\": \"scales\", \"encodings\": [\"x\", \"y\"]}}}, {\"mark\": {\"type\": \"line\", \"color\": \"purple\"}, \"encoding\": {\"x\": {\"type\": \"temporal\", \"field\": \"date\"}, \"y\": {\"type\": \"quantitative\", \"field\": \"sma7d\"}}}]}, {\"mark\": {\"type\": \"rule\", \"color\": \"#aaa\"}, \"encoding\": {\"x\": {\"type\": \"temporal\", \"field\": \"date\"}}, \"transform\": [{\"filter\": {\"selection\": \"selector007\"}}]}, {\"mark\": \"circle\", \"encoding\": {\"opacity\": {\"condition\": {\"value\": 1, \"selection\": \"selector007\"}, \"value\": 0}, \"tooltip\": [{\"type\": \"temporal\", \"field\": \"date\"}, {\"type\": \"quantitative\", \"field\": \"positiveIncrease\"}, {\"type\": \"quantitative\", \"field\": \"sma7d\"}], \"x\": {\"type\": \"temporal\", \"field\": \"date\"}, \"y\": {\"type\": \"quantitative\", \"field\": \"positiveIncrease\"}}, \"selection\": {\"selector007\": {\"type\": \"single\", \"encodings\": [\"x\"], \"on\": \"mouseover\", \"nearest\": true, \"empty\": \"none\"}}}, {\"mark\": {\"type\": \"text\", \"align\": \"left\", \"dx\": 5, \"dy\": -5, \"stroke\": \"white\", \"strokeWidth\": 2}, \"encoding\": {\"text\": {\"type\": \"quantitative\", \"field\": \"positiveIncrease\"}, \"tooltip\": [{\"type\": \"temporal\", \"field\": \"date\"}, {\"type\": \"quantitative\", \"field\": \"positiveIncrease\"}, {\"type\": \"quantitative\", \"field\": \"sma7d\"}], \"x\": {\"type\": \"temporal\", \"field\": \"date\"}, \"y\": {\"type\": \"quantitative\", \"field\": \"positiveIncrease\"}}, \"transform\": [{\"filter\": {\"selection\": \"selector007\"}}]}, {\"mark\": {\"type\": \"text\", \"align\": \"left\", \"dx\": 5, \"dy\": -5}, \"encoding\": {\"text\": {\"type\": \"quantitative\", \"field\": \"positiveIncrease\"}, \"tooltip\": [{\"type\": \"temporal\", \"field\": \"date\"}, {\"type\": \"quantitative\", \"field\": \"positiveIncrease\"}, {\"type\": \"quantitative\", \"field\": \"sma7d\"}], \"x\": {\"type\": \"temporal\", \"field\": \"date\"}, \"y\": {\"type\": \"quantitative\", \"field\": \"positiveIncrease\"}}, \"transform\": [{\"filter\": {\"selection\": \"selector007\"}}]}], \"data\": {\"name\": \"data-5116a0d3b9ea632a036a07da962b2170\"}, \"height\": 400, \"title\": \"New York: positiveIncrease\", \"width\": 500, \"$schema\": \"https://vega.github.io/schema/vega-lite/v4.8.1.json\", \"datasets\": {\"data-5116a0d3b9ea632a036a07da962b2170\": [{\"date\": \"2020-11-14T00:00:00\", \"totalTestResultsIncrease\": 184162.0, \"positiveIncrease\": 5388.0, \"death\": 26103.0, \"deathIncrease\": 24.0, \"positiveRate\": 0.029, \"state\": \"New York\", \"sma7d\": 4420.429}, {\"date\": \"2020-11-15T00:00:00\", \"totalTestResultsIncrease\": 133202.0, \"positiveIncrease\": 3649.0, \"death\": 26133.0, \"deathIncrease\": 30.0, \"positiveRate\": 0.027, \"state\": \"New York\", \"sma7d\": 4452.0}, {\"date\": \"2020-11-16T00:00:00\", \"totalTestResultsIncrease\": 124565.0, \"positiveIncrease\": 3490.0, \"death\": 26159.0, \"deathIncrease\": 26.0, \"positiveRate\": 0.028, \"state\": \"New York\", \"sma7d\": 4501.429}, {\"date\": \"2020-11-17T00:00:00\", \"totalTestResultsIncrease\": 159852.0, \"positiveIncrease\": 5088.0, \"death\": 26189.0, \"deathIncrease\": 30.0, \"positiveRate\": 0.032, \"state\": \"New York\", \"sma7d\": 4661.857}, {\"date\": \"2020-11-18T00:00:00\", \"totalTestResultsIncrease\": 154434.0, \"positiveIncrease\": 5294.0, \"death\": 26225.0, \"deathIncrease\": 36.0, \"positiveRate\": 0.034, \"state\": \"New York\", \"sma7d\": 4729.571}, {\"date\": \"2020-11-19T00:00:00\", \"totalTestResultsIncrease\": 195239.0, \"positiveIncrease\": 5310.0, \"death\": 26257.0, \"deathIncrease\": 32.0, \"positiveRate\": 0.027, \"state\": \"New York\", \"sma7d\": 4802.857}, {\"date\": \"2020-11-20T00:00:00\", \"totalTestResultsIncrease\": 205466.0, \"positiveIncrease\": 5468.0, \"death\": 26292.0, \"deathIncrease\": 35.0, \"positiveRate\": 0.027, \"state\": \"New York\", \"sma7d\": 4812.429}, {\"date\": \"2020-11-21T00:00:00\", \"totalTestResultsIncrease\": 207907.0, \"positiveIncrease\": 5972.0, \"death\": 26326.0, \"deathIncrease\": 34.0, \"positiveRate\": 0.029, \"state\": \"New York\", \"sma7d\": 4895.857}, {\"date\": \"2020-11-22T00:00:00\", \"totalTestResultsIncrease\": 196610.0, \"positiveIncrease\": 5392.0, \"death\": 26357.0, \"deathIncrease\": 31.0, \"positiveRate\": 0.027, \"state\": \"New York\", \"sma7d\": 5144.857}, {\"date\": \"2020-11-23T00:00:00\", \"totalTestResultsIncrease\": 191489.0, \"positiveIncrease\": 5906.0, \"death\": 26390.0, \"deathIncrease\": 33.0, \"positiveRate\": 0.031, \"state\": \"New York\", \"sma7d\": 5490.0}, {\"date\": \"2020-11-24T00:00:00\", \"totalTestResultsIncrease\": 164761.0, \"positiveIncrease\": 4881.0, \"death\": 26441.0, \"deathIncrease\": 51.0, \"positiveRate\": 0.03, \"state\": \"New York\", \"sma7d\": 5460.429}, {\"date\": \"2020-11-25T00:00:00\", \"totalTestResultsIncrease\": 173085.0, \"positiveIncrease\": 6265.0, \"death\": 26482.0, \"deathIncrease\": 41.0, \"positiveRate\": 0.036, \"state\": \"New York\", \"sma7d\": 5599.143}, {\"date\": \"2020-11-26T00:00:00\", \"totalTestResultsIncrease\": 217721.0, \"positiveIncrease\": 6933.0, \"death\": 26549.0, \"deathIncrease\": 67.0, \"positiveRate\": 0.032, \"state\": \"New York\", \"sma7d\": 5831.0}, {\"date\": \"2020-11-27T00:00:00\", \"totalTestResultsIncrease\": 219442.0, \"positiveIncrease\": 8176.0, \"death\": 26588.0, \"deathIncrease\": 39.0, \"positiveRate\": 0.037, \"state\": \"New York\", \"sma7d\": 6217.857}, {\"date\": \"2020-11-28T00:00:00\", \"totalTestResultsIncrease\": 152355.0, \"positiveIncrease\": 6063.0, \"death\": 26632.0, \"deathIncrease\": 44.0, \"positiveRate\": 0.04, \"state\": \"New York\", \"sma7d\": 6230.857}, {\"date\": \"2020-11-29T00:00:00\", \"totalTestResultsIncrease\": 157320.0, \"positiveIncrease\": 6723.0, \"death\": 26690.0, \"deathIncrease\": 58.0, \"positiveRate\": 0.043, \"state\": \"New York\", \"sma7d\": 6421.0}, {\"date\": \"2020-11-30T00:00:00\", \"totalTestResultsIncrease\": 148974.0, \"positiveIncrease\": 6819.0, \"death\": 26747.0, \"deathIncrease\": 57.0, \"positiveRate\": 0.046, \"state\": \"New York\", \"sma7d\": 6551.429}, {\"date\": \"2020-12-01T00:00:00\", \"totalTestResultsIncrease\": 146675.0, \"positiveIncrease\": 7285.0, \"death\": 26816.0, \"deathIncrease\": 69.0, \"positiveRate\": 0.05, \"state\": \"New York\", \"sma7d\": 6894.857}, {\"date\": \"2020-12-02T00:00:00\", \"totalTestResultsIncrease\": 193551.0, \"positiveIncrease\": 8973.0, \"death\": 26889.0, \"deathIncrease\": 73.0, \"positiveRate\": 0.046, \"state\": \"New York\", \"sma7d\": 7281.714}, {\"date\": \"2020-12-03T00:00:00\", \"totalTestResultsIncrease\": 203440.0, \"positiveIncrease\": 9855.0, \"death\": 26955.0, \"deathIncrease\": 66.0, \"positiveRate\": 0.048, \"state\": \"New York\", \"sma7d\": 7699.143}, {\"date\": \"2020-12-04T00:00:00\", \"totalTestResultsIncrease\": 208297.0, \"positiveIncrease\": 11271.0, \"death\": 27017.0, \"deathIncrease\": 62.0, \"positiveRate\": 0.054, \"state\": \"New York\", \"sma7d\": 8141.286}, {\"date\": \"2020-12-05T00:00:00\", \"totalTestResultsIncrease\": 215401.0, \"positiveIncrease\": 10761.0, \"death\": 27089.0, \"deathIncrease\": 72.0, \"positiveRate\": 0.05, \"state\": \"New York\", \"sma7d\": 8812.429}, {\"date\": \"2020-12-06T00:00:00\", \"totalTestResultsIncrease\": 205832.0, \"positiveIncrease\": 9702.0, \"death\": 27149.0, \"deathIncrease\": 60.0, \"positiveRate\": 0.047, \"state\": \"New York\", \"sma7d\": 9238.0}, {\"date\": \"2020-12-07T00:00:00\", \"totalTestResultsIncrease\": 152287.0, \"positiveIncrease\": 7302.0, \"death\": 27232.0, \"deathIncrease\": 83.0, \"positiveRate\": 0.048, \"state\": \"New York\", \"sma7d\": 9307.0}, {\"date\": \"2020-12-08T00:00:00\", \"totalTestResultsIncrease\": 162464.0, \"positiveIncrease\": 9335.0, \"death\": 27307.0, \"deathIncrease\": 75.0, \"positiveRate\": 0.057, \"state\": \"New York\", \"sma7d\": 9599.857}, {\"date\": \"2020-12-09T00:00:00\", \"totalTestResultsIncrease\": 194595.0, \"positiveIncrease\": 10600.0, \"death\": 27404.0, \"deathIncrease\": 97.0, \"positiveRate\": 0.054, \"state\": \"New York\", \"sma7d\": 9832.286}, {\"date\": \"2020-12-10T00:00:00\", \"totalTestResultsIncrease\": 197406.0, \"positiveIncrease\": 10178.0, \"death\": 27498.0, \"deathIncrease\": 94.0, \"positiveRate\": 0.052, \"state\": \"New York\", \"sma7d\": 9878.429}, {\"date\": \"2020-12-11T00:00:00\", \"totalTestResultsIncrease\": 212672.0, \"positiveIncrease\": 10595.0, \"death\": 27587.0, \"deathIncrease\": 89.0, \"positiveRate\": 0.05, \"state\": \"New York\", \"sma7d\": 9781.857}, {\"date\": \"2020-12-12T00:00:00\", \"totalTestResultsIncrease\": 242927.0, \"positiveIncrease\": 11129.0, \"death\": 27675.0, \"deathIncrease\": 88.0, \"positiveRate\": 0.046, \"state\": \"New York\", \"sma7d\": 9834.429}, {\"date\": \"2020-12-13T00:00:00\", \"totalTestResultsIncrease\": 205250.0, \"positiveIncrease\": 10194.0, \"death\": 27785.0, \"deathIncrease\": 110.0, \"positiveRate\": 0.05, \"state\": \"New York\", \"sma7d\": 9904.714}, {\"date\": \"2020-12-14T00:00:00\", \"totalTestResultsIncrease\": 159844.0, \"positiveIncrease\": 9044.0, \"death\": 27870.0, \"deathIncrease\": 85.0, \"positiveRate\": 0.057, \"state\": \"New York\", \"sma7d\": 10153.571}, {\"date\": \"2020-12-15T00:00:00\", \"totalTestResultsIncrease\": 194188.0, \"positiveIncrease\": 10353.0, \"death\": 28002.0, \"deathIncrease\": 132.0, \"positiveRate\": 0.053, \"state\": \"New York\", \"sma7d\": 10299.0}, {\"date\": \"2020-12-16T00:00:00\", \"totalTestResultsIncrease\": 160947.0, \"positiveIncrease\": 9998.0, \"death\": 28100.0, \"deathIncrease\": 98.0, \"positiveRate\": 0.062, \"state\": \"New York\", \"sma7d\": 10213.0}, {\"date\": \"2020-12-17T00:00:00\", \"totalTestResultsIncrease\": 202772.0, \"positiveIncrease\": 10914.0, \"death\": 28222.0, \"deathIncrease\": 122.0, \"positiveRate\": 0.054, \"state\": \"New York\", \"sma7d\": 10318.143}, {\"date\": \"2020-12-18T00:00:00\", \"totalTestResultsIncrease\": 249385.0, \"positiveIncrease\": 12697.0, \"death\": 28344.0, \"deathIncrease\": 122.0, \"positiveRate\": 0.051, \"state\": \"New York\", \"sma7d\": 10618.429}, {\"date\": \"2020-12-19T00:00:00\", \"totalTestResultsIncrease\": 191476.0, \"positiveIncrease\": 9919.0, \"death\": 28474.0, \"deathIncrease\": 130.0, \"positiveRate\": 0.052, \"state\": \"New York\", \"sma7d\": 10445.571}, {\"date\": \"2020-12-20T00:00:00\", \"totalTestResultsIncrease\": 197251.0, \"positiveIncrease\": 9957.0, \"death\": 28598.0, \"deathIncrease\": 124.0, \"positiveRate\": 0.05, \"state\": \"New York\", \"sma7d\": 10411.714}, {\"date\": \"2020-12-21T00:00:00\", \"totalTestResultsIncrease\": 156510.0, \"positiveIncrease\": 9007.0, \"death\": 28709.0, \"deathIncrease\": 111.0, \"positiveRate\": 0.058, \"state\": \"New York\", \"sma7d\": 10406.429}, {\"date\": \"2020-12-22T00:00:00\", \"totalTestResultsIncrease\": 164868.0, \"positiveIncrease\": 9716.0, \"death\": 28850.0, \"deathIncrease\": 141.0, \"positiveRate\": 0.059, \"state\": \"New York\", \"sma7d\": 10315.429}, {\"date\": \"2020-12-23T00:00:00\", \"totalTestResultsIncrease\": 204361.0, \"positiveIncrease\": 11937.0, \"death\": 29016.0, \"deathIncrease\": 166.0, \"positiveRate\": 0.058, \"state\": \"New York\", \"sma7d\": 10592.429}, {\"date\": \"2020-12-24T00:00:00\", \"totalTestResultsIncrease\": 226296.0, \"positiveIncrease\": 12568.0, \"death\": 29149.0, \"deathIncrease\": 133.0, \"positiveRate\": 0.056, \"state\": \"New York\", \"sma7d\": 10828.714}, {\"date\": \"2020-12-25T00:00:00\", \"totalTestResultsIncrease\": 226560.0, \"positiveIncrease\": 12446.0, \"death\": 29270.0, \"deathIncrease\": 121.0, \"positiveRate\": 0.055, \"state\": \"New York\", \"sma7d\": 10792.857}, {\"date\": \"2020-12-26T00:00:00\", \"totalTestResultsIncrease\": 201442.0, \"positiveIncrease\": 10806.0, \"death\": 29396.0, \"deathIncrease\": 126.0, \"positiveRate\": 0.054, \"state\": \"New York\", \"sma7d\": 10919.571}, {\"date\": \"2020-12-27T00:00:00\", \"totalTestResultsIncrease\": 130299.0, \"positiveIncrease\": 7623.0, \"death\": 29511.0, \"deathIncrease\": 115.0, \"positiveRate\": 0.059, \"state\": \"New York\", \"sma7d\": 10586.143}, {\"date\": \"2020-12-28T00:00:00\", \"totalTestResultsIncrease\": 124866.0, \"positiveIncrease\": 10407.0, \"death\": 29629.0, \"deathIncrease\": 118.0, \"positiveRate\": 0.083, \"state\": \"New York\", \"sma7d\": 10786.143}, {\"date\": \"2020-12-29T00:00:00\", \"totalTestResultsIncrease\": 160164.0, \"positiveIncrease\": 11438.0, \"death\": 29756.0, \"deathIncrease\": 127.0, \"positiveRate\": 0.071, \"state\": \"New York\", \"sma7d\": 11032.143}, {\"date\": \"2020-12-30T00:00:00\", \"totalTestResultsIncrease\": 154949.0, \"positiveIncrease\": 13422.0, \"death\": 29905.0, \"deathIncrease\": 149.0, \"positiveRate\": 0.087, \"state\": \"New York\", \"sma7d\": 11244.286}, {\"date\": \"2020-12-31T00:00:00\", \"totalTestResultsIncrease\": 216587.0, \"positiveIncrease\": 16802.0, \"death\": 30040.0, \"deathIncrease\": 135.0, \"positiveRate\": 0.078, \"state\": \"New York\", \"sma7d\": 11849.143}, {\"date\": \"2021-01-01T00:00:00\", \"totalTestResultsIncrease\": 219253.0, \"positiveIncrease\": 16497.0, \"death\": 30208.0, \"deathIncrease\": 168.0, \"positiveRate\": 0.075, \"state\": \"New York\", \"sma7d\": 12427.857}, {\"date\": \"2021-01-02T00:00:00\", \"totalTestResultsIncrease\": 202446.0, \"positiveIncrease\": 15074.0, \"death\": 30337.0, \"deathIncrease\": 129.0, \"positiveRate\": 0.074, \"state\": \"New York\", \"sma7d\": 13037.571}, {\"date\": \"2021-01-03T00:00:00\", \"totalTestResultsIncrease\": 142345.0, \"positiveIncrease\": 11368.0, \"death\": 30476.0, \"deathIncrease\": 139.0, \"positiveRate\": 0.08, \"state\": \"New York\", \"sma7d\": 13572.571}, {\"date\": \"2021-01-04T00:00:00\", \"totalTestResultsIncrease\": 134360.0, \"positiveIncrease\": 11209.0, \"death\": 30648.0, \"deathIncrease\": 172.0, \"positiveRate\": 0.083, \"state\": \"New York\", \"sma7d\": 13687.143}, {\"date\": \"2021-01-05T00:00:00\", \"totalTestResultsIncrease\": 152402.0, \"positiveIncrease\": 12666.0, \"death\": 30802.0, \"deathIncrease\": 154.0, \"positiveRate\": 0.083, \"state\": \"New York\", \"sma7d\": 13862.571}, {\"date\": \"2021-01-06T00:00:00\", \"totalTestResultsIncrease\": 197816.0, \"positiveIncrease\": 16648.0, \"death\": 30965.0, \"deathIncrease\": 163.0, \"positiveRate\": 0.084, \"state\": \"New York\", \"sma7d\": 14323.429}, {\"date\": \"2021-01-07T00:00:00\", \"totalTestResultsIncrease\": 238550.0, \"positiveIncrease\": 17636.0, \"death\": 31164.0, \"deathIncrease\": 199.0, \"positiveRate\": 0.074, \"state\": \"New York\", \"sma7d\": 14442.571}]}}, {\"mode\": \"vega-lite\"});\n",
       "</script>"
      ],
      "text/plain": [
       "alt.LayerChart(...)"
      ]
     },
     "execution_count": 11,
     "metadata": {},
     "output_type": "execute_result"
    }
   ],
   "source": [
    "create_plot(ny, 'positiveIncrease')"
   ]
  },
  {
   "cell_type": "code",
   "execution_count": 12,
   "metadata": {
    "execution": {
     "iopub.execute_input": "2021-01-08T09:33:51.370423Z",
     "iopub.status.busy": "2021-01-08T09:33:51.368523Z",
     "iopub.status.idle": "2021-01-08T09:33:51.447863Z",
     "shell.execute_reply": "2021-01-08T09:33:51.447485Z"
    },
    "papermill": {
     "duration": 0.096294,
     "end_time": "2021-01-08T09:33:51.447975",
     "exception": false,
     "start_time": "2021-01-08T09:33:51.351681",
     "status": "completed"
    },
    "tags": []
   },
   "outputs": [
    {
     "data": {
      "text/html": [
       "\n",
       "<div id=\"altair-viz-f8759b578d0c43369f57f0b62ae8d4f8\"></div>\n",
       "<script type=\"text/javascript\">\n",
       "  (function(spec, embedOpt){\n",
       "    let outputDiv = document.currentScript.previousElementSibling;\n",
       "    if (outputDiv.id !== \"altair-viz-f8759b578d0c43369f57f0b62ae8d4f8\") {\n",
       "      outputDiv = document.getElementById(\"altair-viz-f8759b578d0c43369f57f0b62ae8d4f8\");\n",
       "    }\n",
       "    const paths = {\n",
       "      \"vega\": \"https://cdn.jsdelivr.net/npm//vega@5?noext\",\n",
       "      \"vega-lib\": \"https://cdn.jsdelivr.net/npm//vega-lib?noext\",\n",
       "      \"vega-lite\": \"https://cdn.jsdelivr.net/npm//vega-lite@4.8.1?noext\",\n",
       "      \"vega-embed\": \"https://cdn.jsdelivr.net/npm//vega-embed@6?noext\",\n",
       "    };\n",
       "\n",
       "    function loadScript(lib) {\n",
       "      return new Promise(function(resolve, reject) {\n",
       "        var s = document.createElement('script');\n",
       "        s.src = paths[lib];\n",
       "        s.async = true;\n",
       "        s.onload = () => resolve(paths[lib]);\n",
       "        s.onerror = () => reject(`Error loading script: ${paths[lib]}`);\n",
       "        document.getElementsByTagName(\"head\")[0].appendChild(s);\n",
       "      });\n",
       "    }\n",
       "\n",
       "    function showError(err) {\n",
       "      outputDiv.innerHTML = `<div class=\"error\" style=\"color:red;\">${err}</div>`;\n",
       "      throw err;\n",
       "    }\n",
       "\n",
       "    function displayChart(vegaEmbed) {\n",
       "      vegaEmbed(outputDiv, spec, embedOpt)\n",
       "        .catch(err => showError(`Javascript Error: ${err.message}<br>This usually means there's a typo in your chart specification. See the javascript console for the full traceback.`));\n",
       "    }\n",
       "\n",
       "    if(typeof define === \"function\" && define.amd) {\n",
       "      requirejs.config({paths});\n",
       "      require([\"vega-embed\"], displayChart, err => showError(`Error loading script: ${err.message}`));\n",
       "    } else if (typeof vegaEmbed === \"function\") {\n",
       "      displayChart(vegaEmbed);\n",
       "    } else {\n",
       "      loadScript(\"vega\")\n",
       "        .then(() => loadScript(\"vega-lite\"))\n",
       "        .then(() => loadScript(\"vega-embed\"))\n",
       "        .catch(showError)\n",
       "        .then(() => displayChart(vegaEmbed));\n",
       "    }\n",
       "  })({\"config\": {\"view\": {\"continuousWidth\": 400, \"continuousHeight\": 300}}, \"layer\": [{\"layer\": [{\"mark\": {\"type\": \"point\", \"size\": 75}, \"encoding\": {\"tooltip\": [{\"type\": \"temporal\", \"field\": \"date\"}, {\"type\": \"quantitative\", \"field\": \"positiveRate\"}, {\"type\": \"quantitative\", \"field\": \"sma7d\"}], \"x\": {\"type\": \"temporal\", \"field\": \"date\"}, \"y\": {\"type\": \"quantitative\", \"field\": \"positiveRate\"}}, \"selection\": {\"selector010\": {\"type\": \"interval\", \"bind\": \"scales\", \"encodings\": [\"x\", \"y\"]}}}, {\"mark\": {\"type\": \"line\", \"color\": \"purple\"}, \"encoding\": {\"x\": {\"type\": \"temporal\", \"field\": \"date\"}, \"y\": {\"type\": \"quantitative\", \"field\": \"sma7d\"}}}]}, {\"mark\": {\"type\": \"rule\", \"color\": \"#aaa\"}, \"encoding\": {\"x\": {\"type\": \"temporal\", \"field\": \"date\"}}, \"transform\": [{\"filter\": {\"selection\": \"selector009\"}}]}, {\"mark\": \"circle\", \"encoding\": {\"opacity\": {\"condition\": {\"value\": 1, \"selection\": \"selector009\"}, \"value\": 0}, \"tooltip\": [{\"type\": \"temporal\", \"field\": \"date\"}, {\"type\": \"quantitative\", \"field\": \"positiveRate\"}, {\"type\": \"quantitative\", \"field\": \"sma7d\"}], \"x\": {\"type\": \"temporal\", \"field\": \"date\"}, \"y\": {\"type\": \"quantitative\", \"field\": \"positiveRate\"}}, \"selection\": {\"selector009\": {\"type\": \"single\", \"encodings\": [\"x\"], \"on\": \"mouseover\", \"nearest\": true, \"empty\": \"none\"}}}, {\"mark\": {\"type\": \"text\", \"align\": \"left\", \"dx\": 5, \"dy\": -5, \"stroke\": \"white\", \"strokeWidth\": 2}, \"encoding\": {\"text\": {\"type\": \"quantitative\", \"field\": \"positiveRate\"}, \"tooltip\": [{\"type\": \"temporal\", \"field\": \"date\"}, {\"type\": \"quantitative\", \"field\": \"positiveRate\"}, {\"type\": \"quantitative\", \"field\": \"sma7d\"}], \"x\": {\"type\": \"temporal\", \"field\": \"date\"}, \"y\": {\"type\": \"quantitative\", \"field\": \"positiveRate\"}}, \"transform\": [{\"filter\": {\"selection\": \"selector009\"}}]}, {\"mark\": {\"type\": \"text\", \"align\": \"left\", \"dx\": 5, \"dy\": -5}, \"encoding\": {\"text\": {\"type\": \"quantitative\", \"field\": \"positiveRate\"}, \"tooltip\": [{\"type\": \"temporal\", \"field\": \"date\"}, {\"type\": \"quantitative\", \"field\": \"positiveRate\"}, {\"type\": \"quantitative\", \"field\": \"sma7d\"}], \"x\": {\"type\": \"temporal\", \"field\": \"date\"}, \"y\": {\"type\": \"quantitative\", \"field\": \"positiveRate\"}}, \"transform\": [{\"filter\": {\"selection\": \"selector009\"}}]}], \"data\": {\"name\": \"data-de139d63e98a334e350106b40723d683\"}, \"height\": 400, \"title\": \"New York: positiveRate\", \"width\": 500, \"$schema\": \"https://vega.github.io/schema/vega-lite/v4.8.1.json\", \"datasets\": {\"data-de139d63e98a334e350106b40723d683\": [{\"date\": \"2020-11-14T00:00:00\", \"totalTestResultsIncrease\": 184162.0, \"positiveIncrease\": 5388.0, \"death\": 26103.0, \"deathIncrease\": 24.0, \"positiveRate\": 0.029, \"state\": \"New York\", \"sma7d\": 0.028}, {\"date\": \"2020-11-15T00:00:00\", \"totalTestResultsIncrease\": 133202.0, \"positiveIncrease\": 3649.0, \"death\": 26133.0, \"deathIncrease\": 30.0, \"positiveRate\": 0.027, \"state\": \"New York\", \"sma7d\": 0.029}, {\"date\": \"2020-11-16T00:00:00\", \"totalTestResultsIncrease\": 124565.0, \"positiveIncrease\": 3490.0, \"death\": 26159.0, \"deathIncrease\": 26.0, \"positiveRate\": 0.028, \"state\": \"New York\", \"sma7d\": 0.029}, {\"date\": \"2020-11-17T00:00:00\", \"totalTestResultsIncrease\": 159852.0, \"positiveIncrease\": 5088.0, \"death\": 26189.0, \"deathIncrease\": 30.0, \"positiveRate\": 0.032, \"state\": \"New York\", \"sma7d\": 0.029}, {\"date\": \"2020-11-18T00:00:00\", \"totalTestResultsIncrease\": 154434.0, \"positiveIncrease\": 5294.0, \"death\": 26225.0, \"deathIncrease\": 36.0, \"positiveRate\": 0.034, \"state\": \"New York\", \"sma7d\": 0.029}, {\"date\": \"2020-11-19T00:00:00\", \"totalTestResultsIncrease\": 195239.0, \"positiveIncrease\": 5310.0, \"death\": 26257.0, \"deathIncrease\": 32.0, \"positiveRate\": 0.027, \"state\": \"New York\", \"sma7d\": 0.029}, {\"date\": \"2020-11-20T00:00:00\", \"totalTestResultsIncrease\": 205466.0, \"positiveIncrease\": 5468.0, \"death\": 26292.0, \"deathIncrease\": 35.0, \"positiveRate\": 0.027, \"state\": \"New York\", \"sma7d\": 0.029}, {\"date\": \"2020-11-21T00:00:00\", \"totalTestResultsIncrease\": 207907.0, \"positiveIncrease\": 5972.0, \"death\": 26326.0, \"deathIncrease\": 34.0, \"positiveRate\": 0.029, \"state\": \"New York\", \"sma7d\": 0.029}, {\"date\": \"2020-11-22T00:00:00\", \"totalTestResultsIncrease\": 196610.0, \"positiveIncrease\": 5392.0, \"death\": 26357.0, \"deathIncrease\": 31.0, \"positiveRate\": 0.027, \"state\": \"New York\", \"sma7d\": 0.029}, {\"date\": \"2020-11-23T00:00:00\", \"totalTestResultsIncrease\": 191489.0, \"positiveIncrease\": 5906.0, \"death\": 26390.0, \"deathIncrease\": 33.0, \"positiveRate\": 0.031, \"state\": \"New York\", \"sma7d\": 0.03}, {\"date\": \"2020-11-24T00:00:00\", \"totalTestResultsIncrease\": 164761.0, \"positiveIncrease\": 4881.0, \"death\": 26441.0, \"deathIncrease\": 51.0, \"positiveRate\": 0.03, \"state\": \"New York\", \"sma7d\": 0.029}, {\"date\": \"2020-11-25T00:00:00\", \"totalTestResultsIncrease\": 173085.0, \"positiveIncrease\": 6265.0, \"death\": 26482.0, \"deathIncrease\": 41.0, \"positiveRate\": 0.036, \"state\": \"New York\", \"sma7d\": 0.03}, {\"date\": \"2020-11-26T00:00:00\", \"totalTestResultsIncrease\": 217721.0, \"positiveIncrease\": 6933.0, \"death\": 26549.0, \"deathIncrease\": 67.0, \"positiveRate\": 0.032, \"state\": \"New York\", \"sma7d\": 0.03}, {\"date\": \"2020-11-27T00:00:00\", \"totalTestResultsIncrease\": 219442.0, \"positiveIncrease\": 8176.0, \"death\": 26588.0, \"deathIncrease\": 39.0, \"positiveRate\": 0.037, \"state\": \"New York\", \"sma7d\": 0.032}, {\"date\": \"2020-11-28T00:00:00\", \"totalTestResultsIncrease\": 152355.0, \"positiveIncrease\": 6063.0, \"death\": 26632.0, \"deathIncrease\": 44.0, \"positiveRate\": 0.04, \"state\": \"New York\", \"sma7d\": 0.033}, {\"date\": \"2020-11-29T00:00:00\", \"totalTestResultsIncrease\": 157320.0, \"positiveIncrease\": 6723.0, \"death\": 26690.0, \"deathIncrease\": 58.0, \"positiveRate\": 0.043, \"state\": \"New York\", \"sma7d\": 0.036}, {\"date\": \"2020-11-30T00:00:00\", \"totalTestResultsIncrease\": 148974.0, \"positiveIncrease\": 6819.0, \"death\": 26747.0, \"deathIncrease\": 57.0, \"positiveRate\": 0.046, \"state\": \"New York\", \"sma7d\": 0.038}, {\"date\": \"2020-12-01T00:00:00\", \"totalTestResultsIncrease\": 146675.0, \"positiveIncrease\": 7285.0, \"death\": 26816.0, \"deathIncrease\": 69.0, \"positiveRate\": 0.05, \"state\": \"New York\", \"sma7d\": 0.041}, {\"date\": \"2020-12-02T00:00:00\", \"totalTestResultsIncrease\": 193551.0, \"positiveIncrease\": 8973.0, \"death\": 26889.0, \"deathIncrease\": 73.0, \"positiveRate\": 0.046, \"state\": \"New York\", \"sma7d\": 0.042}, {\"date\": \"2020-12-03T00:00:00\", \"totalTestResultsIncrease\": 203440.0, \"positiveIncrease\": 9855.0, \"death\": 26955.0, \"deathIncrease\": 66.0, \"positiveRate\": 0.048, \"state\": \"New York\", \"sma7d\": 0.044}, {\"date\": \"2020-12-04T00:00:00\", \"totalTestResultsIncrease\": 208297.0, \"positiveIncrease\": 11271.0, \"death\": 27017.0, \"deathIncrease\": 62.0, \"positiveRate\": 0.054, \"state\": \"New York\", \"sma7d\": 0.047}, {\"date\": \"2020-12-05T00:00:00\", \"totalTestResultsIncrease\": 215401.0, \"positiveIncrease\": 10761.0, \"death\": 27089.0, \"deathIncrease\": 72.0, \"positiveRate\": 0.05, \"state\": \"New York\", \"sma7d\": 0.048}, {\"date\": \"2020-12-06T00:00:00\", \"totalTestResultsIncrease\": 205832.0, \"positiveIncrease\": 9702.0, \"death\": 27149.0, \"deathIncrease\": 60.0, \"positiveRate\": 0.047, \"state\": \"New York\", \"sma7d\": 0.049}, {\"date\": \"2020-12-07T00:00:00\", \"totalTestResultsIncrease\": 152287.0, \"positiveIncrease\": 7302.0, \"death\": 27232.0, \"deathIncrease\": 83.0, \"positiveRate\": 0.048, \"state\": \"New York\", \"sma7d\": 0.049}, {\"date\": \"2020-12-08T00:00:00\", \"totalTestResultsIncrease\": 162464.0, \"positiveIncrease\": 9335.0, \"death\": 27307.0, \"deathIncrease\": 75.0, \"positiveRate\": 0.057, \"state\": \"New York\", \"sma7d\": 0.05}, {\"date\": \"2020-12-09T00:00:00\", \"totalTestResultsIncrease\": 194595.0, \"positiveIncrease\": 10600.0, \"death\": 27404.0, \"deathIncrease\": 97.0, \"positiveRate\": 0.054, \"state\": \"New York\", \"sma7d\": 0.051}, {\"date\": \"2020-12-10T00:00:00\", \"totalTestResultsIncrease\": 197406.0, \"positiveIncrease\": 10178.0, \"death\": 27498.0, \"deathIncrease\": 94.0, \"positiveRate\": 0.052, \"state\": \"New York\", \"sma7d\": 0.052}, {\"date\": \"2020-12-11T00:00:00\", \"totalTestResultsIncrease\": 212672.0, \"positiveIncrease\": 10595.0, \"death\": 27587.0, \"deathIncrease\": 89.0, \"positiveRate\": 0.05, \"state\": \"New York\", \"sma7d\": 0.051}, {\"date\": \"2020-12-12T00:00:00\", \"totalTestResultsIncrease\": 242927.0, \"positiveIncrease\": 11129.0, \"death\": 27675.0, \"deathIncrease\": 88.0, \"positiveRate\": 0.046, \"state\": \"New York\", \"sma7d\": 0.051}, {\"date\": \"2020-12-13T00:00:00\", \"totalTestResultsIncrease\": 205250.0, \"positiveIncrease\": 10194.0, \"death\": 27785.0, \"deathIncrease\": 110.0, \"positiveRate\": 0.05, \"state\": \"New York\", \"sma7d\": 0.051}, {\"date\": \"2020-12-14T00:00:00\", \"totalTestResultsIncrease\": 159844.0, \"positiveIncrease\": 9044.0, \"death\": 27870.0, \"deathIncrease\": 85.0, \"positiveRate\": 0.057, \"state\": \"New York\", \"sma7d\": 0.052}, {\"date\": \"2020-12-15T00:00:00\", \"totalTestResultsIncrease\": 194188.0, \"positiveIncrease\": 10353.0, \"death\": 28002.0, \"deathIncrease\": 132.0, \"positiveRate\": 0.053, \"state\": \"New York\", \"sma7d\": 0.052}, {\"date\": \"2020-12-16T00:00:00\", \"totalTestResultsIncrease\": 160947.0, \"positiveIncrease\": 9998.0, \"death\": 28100.0, \"deathIncrease\": 98.0, \"positiveRate\": 0.062, \"state\": \"New York\", \"sma7d\": 0.053}, {\"date\": \"2020-12-17T00:00:00\", \"totalTestResultsIncrease\": 202772.0, \"positiveIncrease\": 10914.0, \"death\": 28222.0, \"deathIncrease\": 122.0, \"positiveRate\": 0.054, \"state\": \"New York\", \"sma7d\": 0.053}, {\"date\": \"2020-12-18T00:00:00\", \"totalTestResultsIncrease\": 249385.0, \"positiveIncrease\": 12697.0, \"death\": 28344.0, \"deathIncrease\": 122.0, \"positiveRate\": 0.051, \"state\": \"New York\", \"sma7d\": 0.053}, {\"date\": \"2020-12-19T00:00:00\", \"totalTestResultsIncrease\": 191476.0, \"positiveIncrease\": 9919.0, \"death\": 28474.0, \"deathIncrease\": 130.0, \"positiveRate\": 0.052, \"state\": \"New York\", \"sma7d\": 0.054}, {\"date\": \"2020-12-20T00:00:00\", \"totalTestResultsIncrease\": 197251.0, \"positiveIncrease\": 9957.0, \"death\": 28598.0, \"deathIncrease\": 124.0, \"positiveRate\": 0.05, \"state\": \"New York\", \"sma7d\": 0.054}, {\"date\": \"2020-12-21T00:00:00\", \"totalTestResultsIncrease\": 156510.0, \"positiveIncrease\": 9007.0, \"death\": 28709.0, \"deathIncrease\": 111.0, \"positiveRate\": 0.058, \"state\": \"New York\", \"sma7d\": 0.054}, {\"date\": \"2020-12-22T00:00:00\", \"totalTestResultsIncrease\": 164868.0, \"positiveIncrease\": 9716.0, \"death\": 28850.0, \"deathIncrease\": 141.0, \"positiveRate\": 0.059, \"state\": \"New York\", \"sma7d\": 0.055}, {\"date\": \"2020-12-23T00:00:00\", \"totalTestResultsIncrease\": 204361.0, \"positiveIncrease\": 11937.0, \"death\": 29016.0, \"deathIncrease\": 166.0, \"positiveRate\": 0.058, \"state\": \"New York\", \"sma7d\": 0.055}, {\"date\": \"2020-12-24T00:00:00\", \"totalTestResultsIncrease\": 226296.0, \"positiveIncrease\": 12568.0, \"death\": 29149.0, \"deathIncrease\": 133.0, \"positiveRate\": 0.056, \"state\": \"New York\", \"sma7d\": 0.055}, {\"date\": \"2020-12-25T00:00:00\", \"totalTestResultsIncrease\": 226560.0, \"positiveIncrease\": 12446.0, \"death\": 29270.0, \"deathIncrease\": 121.0, \"positiveRate\": 0.055, \"state\": \"New York\", \"sma7d\": 0.055}, {\"date\": \"2020-12-26T00:00:00\", \"totalTestResultsIncrease\": 201442.0, \"positiveIncrease\": 10806.0, \"death\": 29396.0, \"deathIncrease\": 126.0, \"positiveRate\": 0.054, \"state\": \"New York\", \"sma7d\": 0.056}, {\"date\": \"2020-12-27T00:00:00\", \"totalTestResultsIncrease\": 130299.0, \"positiveIncrease\": 7623.0, \"death\": 29511.0, \"deathIncrease\": 115.0, \"positiveRate\": 0.059, \"state\": \"New York\", \"sma7d\": 0.057}, {\"date\": \"2020-12-28T00:00:00\", \"totalTestResultsIncrease\": 124866.0, \"positiveIncrease\": 10407.0, \"death\": 29629.0, \"deathIncrease\": 118.0, \"positiveRate\": 0.083, \"state\": \"New York\", \"sma7d\": 0.061}, {\"date\": \"2020-12-29T00:00:00\", \"totalTestResultsIncrease\": 160164.0, \"positiveIncrease\": 11438.0, \"death\": 29756.0, \"deathIncrease\": 127.0, \"positiveRate\": 0.071, \"state\": \"New York\", \"sma7d\": 0.062}, {\"date\": \"2020-12-30T00:00:00\", \"totalTestResultsIncrease\": 154949.0, \"positiveIncrease\": 13422.0, \"death\": 29905.0, \"deathIncrease\": 149.0, \"positiveRate\": 0.087, \"state\": \"New York\", \"sma7d\": 0.066}, {\"date\": \"2020-12-31T00:00:00\", \"totalTestResultsIncrease\": 216587.0, \"positiveIncrease\": 16802.0, \"death\": 30040.0, \"deathIncrease\": 135.0, \"positiveRate\": 0.078, \"state\": \"New York\", \"sma7d\": 0.07}, {\"date\": \"2021-01-01T00:00:00\", \"totalTestResultsIncrease\": 219253.0, \"positiveIncrease\": 16497.0, \"death\": 30208.0, \"deathIncrease\": 168.0, \"positiveRate\": 0.075, \"state\": \"New York\", \"sma7d\": 0.072}, {\"date\": \"2021-01-02T00:00:00\", \"totalTestResultsIncrease\": 202446.0, \"positiveIncrease\": 15074.0, \"death\": 30337.0, \"deathIncrease\": 129.0, \"positiveRate\": 0.074, \"state\": \"New York\", \"sma7d\": 0.075}, {\"date\": \"2021-01-03T00:00:00\", \"totalTestResultsIncrease\": 142345.0, \"positiveIncrease\": 11368.0, \"death\": 30476.0, \"deathIncrease\": 139.0, \"positiveRate\": 0.08, \"state\": \"New York\", \"sma7d\": 0.078}, {\"date\": \"2021-01-04T00:00:00\", \"totalTestResultsIncrease\": 134360.0, \"positiveIncrease\": 11209.0, \"death\": 30648.0, \"deathIncrease\": 172.0, \"positiveRate\": 0.083, \"state\": \"New York\", \"sma7d\": 0.078}, {\"date\": \"2021-01-05T00:00:00\", \"totalTestResultsIncrease\": 152402.0, \"positiveIncrease\": 12666.0, \"death\": 30802.0, \"deathIncrease\": 154.0, \"positiveRate\": 0.083, \"state\": \"New York\", \"sma7d\": 0.08}, {\"date\": \"2021-01-06T00:00:00\", \"totalTestResultsIncrease\": 197816.0, \"positiveIncrease\": 16648.0, \"death\": 30965.0, \"deathIncrease\": 163.0, \"positiveRate\": 0.084, \"state\": \"New York\", \"sma7d\": 0.08}, {\"date\": \"2021-01-07T00:00:00\", \"totalTestResultsIncrease\": 238550.0, \"positiveIncrease\": 17636.0, \"death\": 31164.0, \"deathIncrease\": 199.0, \"positiveRate\": 0.074, \"state\": \"New York\", \"sma7d\": 0.079}]}}, {\"mode\": \"vega-lite\"});\n",
       "</script>"
      ],
      "text/plain": [
       "alt.LayerChart(...)"
      ]
     },
     "execution_count": 12,
     "metadata": {},
     "output_type": "execute_result"
    }
   ],
   "source": [
    "create_plot(ny, 'positiveRate')"
   ]
  },
  {
   "cell_type": "code",
   "execution_count": 13,
   "metadata": {
    "execution": {
     "iopub.execute_input": "2021-01-08T09:33:51.518340Z",
     "iopub.status.busy": "2021-01-08T09:33:51.502794Z",
     "iopub.status.idle": "2021-01-08T09:33:51.557447Z",
     "shell.execute_reply": "2021-01-08T09:33:51.557018Z"
    },
    "papermill": {
     "duration": 0.095011,
     "end_time": "2021-01-08T09:33:51.557556",
     "exception": false,
     "start_time": "2021-01-08T09:33:51.462545",
     "status": "completed"
    },
    "tags": []
   },
   "outputs": [
    {
     "data": {
      "text/html": [
       "\n",
       "<div id=\"altair-viz-c74f73ff37ac49e7a8303532ad83a141\"></div>\n",
       "<script type=\"text/javascript\">\n",
       "  (function(spec, embedOpt){\n",
       "    let outputDiv = document.currentScript.previousElementSibling;\n",
       "    if (outputDiv.id !== \"altair-viz-c74f73ff37ac49e7a8303532ad83a141\") {\n",
       "      outputDiv = document.getElementById(\"altair-viz-c74f73ff37ac49e7a8303532ad83a141\");\n",
       "    }\n",
       "    const paths = {\n",
       "      \"vega\": \"https://cdn.jsdelivr.net/npm//vega@5?noext\",\n",
       "      \"vega-lib\": \"https://cdn.jsdelivr.net/npm//vega-lib?noext\",\n",
       "      \"vega-lite\": \"https://cdn.jsdelivr.net/npm//vega-lite@4.8.1?noext\",\n",
       "      \"vega-embed\": \"https://cdn.jsdelivr.net/npm//vega-embed@6?noext\",\n",
       "    };\n",
       "\n",
       "    function loadScript(lib) {\n",
       "      return new Promise(function(resolve, reject) {\n",
       "        var s = document.createElement('script');\n",
       "        s.src = paths[lib];\n",
       "        s.async = true;\n",
       "        s.onload = () => resolve(paths[lib]);\n",
       "        s.onerror = () => reject(`Error loading script: ${paths[lib]}`);\n",
       "        document.getElementsByTagName(\"head\")[0].appendChild(s);\n",
       "      });\n",
       "    }\n",
       "\n",
       "    function showError(err) {\n",
       "      outputDiv.innerHTML = `<div class=\"error\" style=\"color:red;\">${err}</div>`;\n",
       "      throw err;\n",
       "    }\n",
       "\n",
       "    function displayChart(vegaEmbed) {\n",
       "      vegaEmbed(outputDiv, spec, embedOpt)\n",
       "        .catch(err => showError(`Javascript Error: ${err.message}<br>This usually means there's a typo in your chart specification. See the javascript console for the full traceback.`));\n",
       "    }\n",
       "\n",
       "    if(typeof define === \"function\" && define.amd) {\n",
       "      requirejs.config({paths});\n",
       "      require([\"vega-embed\"], displayChart, err => showError(`Error loading script: ${err.message}`));\n",
       "    } else if (typeof vegaEmbed === \"function\") {\n",
       "      displayChart(vegaEmbed);\n",
       "    } else {\n",
       "      loadScript(\"vega\")\n",
       "        .then(() => loadScript(\"vega-lite\"))\n",
       "        .then(() => loadScript(\"vega-embed\"))\n",
       "        .catch(showError)\n",
       "        .then(() => displayChart(vegaEmbed));\n",
       "    }\n",
       "  })({\"config\": {\"view\": {\"continuousWidth\": 400, \"continuousHeight\": 300}}, \"layer\": [{\"layer\": [{\"mark\": {\"type\": \"point\", \"size\": 75}, \"encoding\": {\"tooltip\": [{\"type\": \"temporal\", \"field\": \"date\"}, {\"type\": \"quantitative\", \"field\": \"deathIncrease\"}, {\"type\": \"quantitative\", \"field\": \"sma7d\"}], \"x\": {\"type\": \"temporal\", \"field\": \"date\"}, \"y\": {\"type\": \"quantitative\", \"field\": \"deathIncrease\"}}, \"selection\": {\"selector012\": {\"type\": \"interval\", \"bind\": \"scales\", \"encodings\": [\"x\", \"y\"]}}}, {\"mark\": {\"type\": \"line\", \"color\": \"purple\"}, \"encoding\": {\"x\": {\"type\": \"temporal\", \"field\": \"date\"}, \"y\": {\"type\": \"quantitative\", \"field\": \"sma7d\"}}}]}, {\"mark\": {\"type\": \"rule\", \"color\": \"#aaa\"}, \"encoding\": {\"x\": {\"type\": \"temporal\", \"field\": \"date\"}}, \"transform\": [{\"filter\": {\"selection\": \"selector011\"}}]}, {\"mark\": \"circle\", \"encoding\": {\"opacity\": {\"condition\": {\"value\": 1, \"selection\": \"selector011\"}, \"value\": 0}, \"tooltip\": [{\"type\": \"temporal\", \"field\": \"date\"}, {\"type\": \"quantitative\", \"field\": \"deathIncrease\"}, {\"type\": \"quantitative\", \"field\": \"sma7d\"}], \"x\": {\"type\": \"temporal\", \"field\": \"date\"}, \"y\": {\"type\": \"quantitative\", \"field\": \"deathIncrease\"}}, \"selection\": {\"selector011\": {\"type\": \"single\", \"encodings\": [\"x\"], \"on\": \"mouseover\", \"nearest\": true, \"empty\": \"none\"}}}, {\"mark\": {\"type\": \"text\", \"align\": \"left\", \"dx\": 5, \"dy\": -5, \"stroke\": \"white\", \"strokeWidth\": 2}, \"encoding\": {\"text\": {\"type\": \"quantitative\", \"field\": \"deathIncrease\"}, \"tooltip\": [{\"type\": \"temporal\", \"field\": \"date\"}, {\"type\": \"quantitative\", \"field\": \"deathIncrease\"}, {\"type\": \"quantitative\", \"field\": \"sma7d\"}], \"x\": {\"type\": \"temporal\", \"field\": \"date\"}, \"y\": {\"type\": \"quantitative\", \"field\": \"deathIncrease\"}}, \"transform\": [{\"filter\": {\"selection\": \"selector011\"}}]}, {\"mark\": {\"type\": \"text\", \"align\": \"left\", \"dx\": 5, \"dy\": -5}, \"encoding\": {\"text\": {\"type\": \"quantitative\", \"field\": \"deathIncrease\"}, \"tooltip\": [{\"type\": \"temporal\", \"field\": \"date\"}, {\"type\": \"quantitative\", \"field\": \"deathIncrease\"}, {\"type\": \"quantitative\", \"field\": \"sma7d\"}], \"x\": {\"type\": \"temporal\", \"field\": \"date\"}, \"y\": {\"type\": \"quantitative\", \"field\": \"deathIncrease\"}}, \"transform\": [{\"filter\": {\"selection\": \"selector011\"}}]}], \"data\": {\"name\": \"data-f0d8a045100fda1b5bce054ec5df374d\"}, \"height\": 400, \"title\": \"New York: deathIncrease\", \"width\": 500, \"$schema\": \"https://vega.github.io/schema/vega-lite/v4.8.1.json\", \"datasets\": {\"data-f0d8a045100fda1b5bce054ec5df374d\": [{\"date\": \"2020-11-14T00:00:00\", \"totalTestResultsIncrease\": 184162.0, \"positiveIncrease\": 5388.0, \"death\": 26103.0, \"deathIncrease\": 24.0, \"positiveRate\": 0.029, \"state\": \"New York\", \"sma7d\": 25.0}, {\"date\": \"2020-11-15T00:00:00\", \"totalTestResultsIncrease\": 133202.0, \"positiveIncrease\": 3649.0, \"death\": 26133.0, \"deathIncrease\": 30.0, \"positiveRate\": 0.027, \"state\": \"New York\", \"sma7d\": 26.571}, {\"date\": \"2020-11-16T00:00:00\", \"totalTestResultsIncrease\": 124565.0, \"positiveIncrease\": 3490.0, \"death\": 26159.0, \"deathIncrease\": 26.0, \"positiveRate\": 0.028, \"state\": \"New York\", \"sma7d\": 26.571}, {\"date\": \"2020-11-17T00:00:00\", \"totalTestResultsIncrease\": 159852.0, \"positiveIncrease\": 5088.0, \"death\": 26189.0, \"deathIncrease\": 30.0, \"positiveRate\": 0.032, \"state\": \"New York\", \"sma7d\": 26.286}, {\"date\": \"2020-11-18T00:00:00\", \"totalTestResultsIncrease\": 154434.0, \"positiveIncrease\": 5294.0, \"death\": 26225.0, \"deathIncrease\": 36.0, \"positiveRate\": 0.034, \"state\": \"New York\", \"sma7d\": 28.429}, {\"date\": \"2020-11-19T00:00:00\", \"totalTestResultsIncrease\": 195239.0, \"positiveIncrease\": 5310.0, \"death\": 26257.0, \"deathIncrease\": 32.0, \"positiveRate\": 0.027, \"state\": \"New York\", \"sma7d\": 28.857}, {\"date\": \"2020-11-20T00:00:00\", \"totalTestResultsIncrease\": 205466.0, \"positiveIncrease\": 5468.0, \"death\": 26292.0, \"deathIncrease\": 35.0, \"positiveRate\": 0.027, \"state\": \"New York\", \"sma7d\": 30.429}, {\"date\": \"2020-11-21T00:00:00\", \"totalTestResultsIncrease\": 207907.0, \"positiveIncrease\": 5972.0, \"death\": 26326.0, \"deathIncrease\": 34.0, \"positiveRate\": 0.029, \"state\": \"New York\", \"sma7d\": 31.857}, {\"date\": \"2020-11-22T00:00:00\", \"totalTestResultsIncrease\": 196610.0, \"positiveIncrease\": 5392.0, \"death\": 26357.0, \"deathIncrease\": 31.0, \"positiveRate\": 0.027, \"state\": \"New York\", \"sma7d\": 32.0}, {\"date\": \"2020-11-23T00:00:00\", \"totalTestResultsIncrease\": 191489.0, \"positiveIncrease\": 5906.0, \"death\": 26390.0, \"deathIncrease\": 33.0, \"positiveRate\": 0.031, \"state\": \"New York\", \"sma7d\": 33.0}, {\"date\": \"2020-11-24T00:00:00\", \"totalTestResultsIncrease\": 164761.0, \"positiveIncrease\": 4881.0, \"death\": 26441.0, \"deathIncrease\": 51.0, \"positiveRate\": 0.03, \"state\": \"New York\", \"sma7d\": 36.0}, {\"date\": \"2020-11-25T00:00:00\", \"totalTestResultsIncrease\": 173085.0, \"positiveIncrease\": 6265.0, \"death\": 26482.0, \"deathIncrease\": 41.0, \"positiveRate\": 0.036, \"state\": \"New York\", \"sma7d\": 36.714}, {\"date\": \"2020-11-26T00:00:00\", \"totalTestResultsIncrease\": 217721.0, \"positiveIncrease\": 6933.0, \"death\": 26549.0, \"deathIncrease\": 67.0, \"positiveRate\": 0.032, \"state\": \"New York\", \"sma7d\": 41.714}, {\"date\": \"2020-11-27T00:00:00\", \"totalTestResultsIncrease\": 219442.0, \"positiveIncrease\": 8176.0, \"death\": 26588.0, \"deathIncrease\": 39.0, \"positiveRate\": 0.037, \"state\": \"New York\", \"sma7d\": 42.286}, {\"date\": \"2020-11-28T00:00:00\", \"totalTestResultsIncrease\": 152355.0, \"positiveIncrease\": 6063.0, \"death\": 26632.0, \"deathIncrease\": 44.0, \"positiveRate\": 0.04, \"state\": \"New York\", \"sma7d\": 43.714}, {\"date\": \"2020-11-29T00:00:00\", \"totalTestResultsIncrease\": 157320.0, \"positiveIncrease\": 6723.0, \"death\": 26690.0, \"deathIncrease\": 58.0, \"positiveRate\": 0.043, \"state\": \"New York\", \"sma7d\": 47.571}, {\"date\": \"2020-11-30T00:00:00\", \"totalTestResultsIncrease\": 148974.0, \"positiveIncrease\": 6819.0, \"death\": 26747.0, \"deathIncrease\": 57.0, \"positiveRate\": 0.046, \"state\": \"New York\", \"sma7d\": 51.0}, {\"date\": \"2020-12-01T00:00:00\", \"totalTestResultsIncrease\": 146675.0, \"positiveIncrease\": 7285.0, \"death\": 26816.0, \"deathIncrease\": 69.0, \"positiveRate\": 0.05, \"state\": \"New York\", \"sma7d\": 53.571}, {\"date\": \"2020-12-02T00:00:00\", \"totalTestResultsIncrease\": 193551.0, \"positiveIncrease\": 8973.0, \"death\": 26889.0, \"deathIncrease\": 73.0, \"positiveRate\": 0.046, \"state\": \"New York\", \"sma7d\": 58.143}, {\"date\": \"2020-12-03T00:00:00\", \"totalTestResultsIncrease\": 203440.0, \"positiveIncrease\": 9855.0, \"death\": 26955.0, \"deathIncrease\": 66.0, \"positiveRate\": 0.048, \"state\": \"New York\", \"sma7d\": 58.0}, {\"date\": \"2020-12-04T00:00:00\", \"totalTestResultsIncrease\": 208297.0, \"positiveIncrease\": 11271.0, \"death\": 27017.0, \"deathIncrease\": 62.0, \"positiveRate\": 0.054, \"state\": \"New York\", \"sma7d\": 61.286}, {\"date\": \"2020-12-05T00:00:00\", \"totalTestResultsIncrease\": 215401.0, \"positiveIncrease\": 10761.0, \"death\": 27089.0, \"deathIncrease\": 72.0, \"positiveRate\": 0.05, \"state\": \"New York\", \"sma7d\": 65.286}, {\"date\": \"2020-12-06T00:00:00\", \"totalTestResultsIncrease\": 205832.0, \"positiveIncrease\": 9702.0, \"death\": 27149.0, \"deathIncrease\": 60.0, \"positiveRate\": 0.047, \"state\": \"New York\", \"sma7d\": 65.571}, {\"date\": \"2020-12-07T00:00:00\", \"totalTestResultsIncrease\": 152287.0, \"positiveIncrease\": 7302.0, \"death\": 27232.0, \"deathIncrease\": 83.0, \"positiveRate\": 0.048, \"state\": \"New York\", \"sma7d\": 69.286}, {\"date\": \"2020-12-08T00:00:00\", \"totalTestResultsIncrease\": 162464.0, \"positiveIncrease\": 9335.0, \"death\": 27307.0, \"deathIncrease\": 75.0, \"positiveRate\": 0.057, \"state\": \"New York\", \"sma7d\": 70.143}, {\"date\": \"2020-12-09T00:00:00\", \"totalTestResultsIncrease\": 194595.0, \"positiveIncrease\": 10600.0, \"death\": 27404.0, \"deathIncrease\": 97.0, \"positiveRate\": 0.054, \"state\": \"New York\", \"sma7d\": 73.571}, {\"date\": \"2020-12-10T00:00:00\", \"totalTestResultsIncrease\": 197406.0, \"positiveIncrease\": 10178.0, \"death\": 27498.0, \"deathIncrease\": 94.0, \"positiveRate\": 0.052, \"state\": \"New York\", \"sma7d\": 77.571}, {\"date\": \"2020-12-11T00:00:00\", \"totalTestResultsIncrease\": 212672.0, \"positiveIncrease\": 10595.0, \"death\": 27587.0, \"deathIncrease\": 89.0, \"positiveRate\": 0.05, \"state\": \"New York\", \"sma7d\": 81.429}, {\"date\": \"2020-12-12T00:00:00\", \"totalTestResultsIncrease\": 242927.0, \"positiveIncrease\": 11129.0, \"death\": 27675.0, \"deathIncrease\": 88.0, \"positiveRate\": 0.046, \"state\": \"New York\", \"sma7d\": 83.714}, {\"date\": \"2020-12-13T00:00:00\", \"totalTestResultsIncrease\": 205250.0, \"positiveIncrease\": 10194.0, \"death\": 27785.0, \"deathIncrease\": 110.0, \"positiveRate\": 0.05, \"state\": \"New York\", \"sma7d\": 90.857}, {\"date\": \"2020-12-14T00:00:00\", \"totalTestResultsIncrease\": 159844.0, \"positiveIncrease\": 9044.0, \"death\": 27870.0, \"deathIncrease\": 85.0, \"positiveRate\": 0.057, \"state\": \"New York\", \"sma7d\": 91.143}, {\"date\": \"2020-12-15T00:00:00\", \"totalTestResultsIncrease\": 194188.0, \"positiveIncrease\": 10353.0, \"death\": 28002.0, \"deathIncrease\": 132.0, \"positiveRate\": 0.053, \"state\": \"New York\", \"sma7d\": 99.286}, {\"date\": \"2020-12-16T00:00:00\", \"totalTestResultsIncrease\": 160947.0, \"positiveIncrease\": 9998.0, \"death\": 28100.0, \"deathIncrease\": 98.0, \"positiveRate\": 0.062, \"state\": \"New York\", \"sma7d\": 99.429}, {\"date\": \"2020-12-17T00:00:00\", \"totalTestResultsIncrease\": 202772.0, \"positiveIncrease\": 10914.0, \"death\": 28222.0, \"deathIncrease\": 122.0, \"positiveRate\": 0.054, \"state\": \"New York\", \"sma7d\": 103.429}, {\"date\": \"2020-12-18T00:00:00\", \"totalTestResultsIncrease\": 249385.0, \"positiveIncrease\": 12697.0, \"death\": 28344.0, \"deathIncrease\": 122.0, \"positiveRate\": 0.051, \"state\": \"New York\", \"sma7d\": 108.143}, {\"date\": \"2020-12-19T00:00:00\", \"totalTestResultsIncrease\": 191476.0, \"positiveIncrease\": 9919.0, \"death\": 28474.0, \"deathIncrease\": 130.0, \"positiveRate\": 0.052, \"state\": \"New York\", \"sma7d\": 114.143}, {\"date\": \"2020-12-20T00:00:00\", \"totalTestResultsIncrease\": 197251.0, \"positiveIncrease\": 9957.0, \"death\": 28598.0, \"deathIncrease\": 124.0, \"positiveRate\": 0.05, \"state\": \"New York\", \"sma7d\": 116.143}, {\"date\": \"2020-12-21T00:00:00\", \"totalTestResultsIncrease\": 156510.0, \"positiveIncrease\": 9007.0, \"death\": 28709.0, \"deathIncrease\": 111.0, \"positiveRate\": 0.058, \"state\": \"New York\", \"sma7d\": 119.857}, {\"date\": \"2020-12-22T00:00:00\", \"totalTestResultsIncrease\": 164868.0, \"positiveIncrease\": 9716.0, \"death\": 28850.0, \"deathIncrease\": 141.0, \"positiveRate\": 0.059, \"state\": \"New York\", \"sma7d\": 121.143}, {\"date\": \"2020-12-23T00:00:00\", \"totalTestResultsIncrease\": 204361.0, \"positiveIncrease\": 11937.0, \"death\": 29016.0, \"deathIncrease\": 166.0, \"positiveRate\": 0.058, \"state\": \"New York\", \"sma7d\": 130.857}, {\"date\": \"2020-12-24T00:00:00\", \"totalTestResultsIncrease\": 226296.0, \"positiveIncrease\": 12568.0, \"death\": 29149.0, \"deathIncrease\": 133.0, \"positiveRate\": 0.056, \"state\": \"New York\", \"sma7d\": 132.429}, {\"date\": \"2020-12-25T00:00:00\", \"totalTestResultsIncrease\": 226560.0, \"positiveIncrease\": 12446.0, \"death\": 29270.0, \"deathIncrease\": 121.0, \"positiveRate\": 0.055, \"state\": \"New York\", \"sma7d\": 132.286}, {\"date\": \"2020-12-26T00:00:00\", \"totalTestResultsIncrease\": 201442.0, \"positiveIncrease\": 10806.0, \"death\": 29396.0, \"deathIncrease\": 126.0, \"positiveRate\": 0.054, \"state\": \"New York\", \"sma7d\": 131.714}, {\"date\": \"2020-12-27T00:00:00\", \"totalTestResultsIncrease\": 130299.0, \"positiveIncrease\": 7623.0, \"death\": 29511.0, \"deathIncrease\": 115.0, \"positiveRate\": 0.059, \"state\": \"New York\", \"sma7d\": 130.429}, {\"date\": \"2020-12-28T00:00:00\", \"totalTestResultsIncrease\": 124866.0, \"positiveIncrease\": 10407.0, \"death\": 29629.0, \"deathIncrease\": 118.0, \"positiveRate\": 0.083, \"state\": \"New York\", \"sma7d\": 131.429}, {\"date\": \"2020-12-29T00:00:00\", \"totalTestResultsIncrease\": 160164.0, \"positiveIncrease\": 11438.0, \"death\": 29756.0, \"deathIncrease\": 127.0, \"positiveRate\": 0.071, \"state\": \"New York\", \"sma7d\": 129.429}, {\"date\": \"2020-12-30T00:00:00\", \"totalTestResultsIncrease\": 154949.0, \"positiveIncrease\": 13422.0, \"death\": 29905.0, \"deathIncrease\": 149.0, \"positiveRate\": 0.087, \"state\": \"New York\", \"sma7d\": 127.0}, {\"date\": \"2020-12-31T00:00:00\", \"totalTestResultsIncrease\": 216587.0, \"positiveIncrease\": 16802.0, \"death\": 30040.0, \"deathIncrease\": 135.0, \"positiveRate\": 0.078, \"state\": \"New York\", \"sma7d\": 127.286}, {\"date\": \"2021-01-01T00:00:00\", \"totalTestResultsIncrease\": 219253.0, \"positiveIncrease\": 16497.0, \"death\": 30208.0, \"deathIncrease\": 168.0, \"positiveRate\": 0.075, \"state\": \"New York\", \"sma7d\": 134.0}, {\"date\": \"2021-01-02T00:00:00\", \"totalTestResultsIncrease\": 202446.0, \"positiveIncrease\": 15074.0, \"death\": 30337.0, \"deathIncrease\": 129.0, \"positiveRate\": 0.074, \"state\": \"New York\", \"sma7d\": 134.429}, {\"date\": \"2021-01-03T00:00:00\", \"totalTestResultsIncrease\": 142345.0, \"positiveIncrease\": 11368.0, \"death\": 30476.0, \"deathIncrease\": 139.0, \"positiveRate\": 0.08, \"state\": \"New York\", \"sma7d\": 137.857}, {\"date\": \"2021-01-04T00:00:00\", \"totalTestResultsIncrease\": 134360.0, \"positiveIncrease\": 11209.0, \"death\": 30648.0, \"deathIncrease\": 172.0, \"positiveRate\": 0.083, \"state\": \"New York\", \"sma7d\": 145.571}, {\"date\": \"2021-01-05T00:00:00\", \"totalTestResultsIncrease\": 152402.0, \"positiveIncrease\": 12666.0, \"death\": 30802.0, \"deathIncrease\": 154.0, \"positiveRate\": 0.083, \"state\": \"New York\", \"sma7d\": 149.429}, {\"date\": \"2021-01-06T00:00:00\", \"totalTestResultsIncrease\": 197816.0, \"positiveIncrease\": 16648.0, \"death\": 30965.0, \"deathIncrease\": 163.0, \"positiveRate\": 0.084, \"state\": \"New York\", \"sma7d\": 151.429}, {\"date\": \"2021-01-07T00:00:00\", \"totalTestResultsIncrease\": 238550.0, \"positiveIncrease\": 17636.0, \"death\": 31164.0, \"deathIncrease\": 199.0, \"positiveRate\": 0.074, \"state\": \"New York\", \"sma7d\": 160.571}]}}, {\"mode\": \"vega-lite\"});\n",
       "</script>"
      ],
      "text/plain": [
       "alt.LayerChart(...)"
      ]
     },
     "execution_count": 13,
     "metadata": {},
     "output_type": "execute_result"
    }
   ],
   "source": [
    "create_plot(ny, 'deathIncrease')"
   ]
  },
  {
   "cell_type": "markdown",
   "metadata": {
    "papermill": {
     "duration": 0.014739,
     "end_time": "2021-01-08T09:33:51.587341",
     "exception": false,
     "start_time": "2021-01-08T09:33:51.572602",
     "status": "completed"
    },
    "tags": []
   },
   "source": [
    "## Non Tri-State"
   ]
  },
  {
   "cell_type": "code",
   "execution_count": 14,
   "metadata": {
    "execution": {
     "iopub.execute_input": "2021-01-08T09:33:51.620498Z",
     "iopub.status.busy": "2021-01-08T09:33:51.620049Z",
     "iopub.status.idle": "2021-01-08T09:33:51.953494Z",
     "shell.execute_reply": "2021-01-08T09:33:51.953050Z"
    },
    "papermill": {
     "duration": 0.351498,
     "end_time": "2021-01-08T09:33:51.953621",
     "exception": false,
     "start_time": "2021-01-08T09:33:51.602123",
     "status": "completed"
    },
    "tags": []
   },
   "outputs": [],
   "source": [
    "non_tristate = create_df(df, lambda d: ~d['state'].isin(['CT','NJ','NY']), 'Non Tri-State')"
   ]
  },
  {
   "cell_type": "code",
   "execution_count": 15,
   "metadata": {
    "execution": {
     "iopub.execute_input": "2021-01-08T09:33:51.990411Z",
     "iopub.status.busy": "2021-01-08T09:33:51.989941Z",
     "iopub.status.idle": "2021-01-08T09:33:52.067221Z",
     "shell.execute_reply": "2021-01-08T09:33:52.066832Z"
    },
    "papermill": {
     "duration": 0.09838,
     "end_time": "2021-01-08T09:33:52.067340",
     "exception": false,
     "start_time": "2021-01-08T09:33:51.968960",
     "status": "completed"
    },
    "tags": []
   },
   "outputs": [
    {
     "data": {
      "text/html": [
       "\n",
       "<div id=\"altair-viz-4f48d938058c4853bce9f2e474dfd2b7\"></div>\n",
       "<script type=\"text/javascript\">\n",
       "  (function(spec, embedOpt){\n",
       "    let outputDiv = document.currentScript.previousElementSibling;\n",
       "    if (outputDiv.id !== \"altair-viz-4f48d938058c4853bce9f2e474dfd2b7\") {\n",
       "      outputDiv = document.getElementById(\"altair-viz-4f48d938058c4853bce9f2e474dfd2b7\");\n",
       "    }\n",
       "    const paths = {\n",
       "      \"vega\": \"https://cdn.jsdelivr.net/npm//vega@5?noext\",\n",
       "      \"vega-lib\": \"https://cdn.jsdelivr.net/npm//vega-lib?noext\",\n",
       "      \"vega-lite\": \"https://cdn.jsdelivr.net/npm//vega-lite@4.8.1?noext\",\n",
       "      \"vega-embed\": \"https://cdn.jsdelivr.net/npm//vega-embed@6?noext\",\n",
       "    };\n",
       "\n",
       "    function loadScript(lib) {\n",
       "      return new Promise(function(resolve, reject) {\n",
       "        var s = document.createElement('script');\n",
       "        s.src = paths[lib];\n",
       "        s.async = true;\n",
       "        s.onload = () => resolve(paths[lib]);\n",
       "        s.onerror = () => reject(`Error loading script: ${paths[lib]}`);\n",
       "        document.getElementsByTagName(\"head\")[0].appendChild(s);\n",
       "      });\n",
       "    }\n",
       "\n",
       "    function showError(err) {\n",
       "      outputDiv.innerHTML = `<div class=\"error\" style=\"color:red;\">${err}</div>`;\n",
       "      throw err;\n",
       "    }\n",
       "\n",
       "    function displayChart(vegaEmbed) {\n",
       "      vegaEmbed(outputDiv, spec, embedOpt)\n",
       "        .catch(err => showError(`Javascript Error: ${err.message}<br>This usually means there's a typo in your chart specification. See the javascript console for the full traceback.`));\n",
       "    }\n",
       "\n",
       "    if(typeof define === \"function\" && define.amd) {\n",
       "      requirejs.config({paths});\n",
       "      require([\"vega-embed\"], displayChart, err => showError(`Error loading script: ${err.message}`));\n",
       "    } else if (typeof vegaEmbed === \"function\") {\n",
       "      displayChart(vegaEmbed);\n",
       "    } else {\n",
       "      loadScript(\"vega\")\n",
       "        .then(() => loadScript(\"vega-lite\"))\n",
       "        .then(() => loadScript(\"vega-embed\"))\n",
       "        .catch(showError)\n",
       "        .then(() => displayChart(vegaEmbed));\n",
       "    }\n",
       "  })({\"config\": {\"view\": {\"continuousWidth\": 400, \"continuousHeight\": 300}}, \"layer\": [{\"layer\": [{\"mark\": {\"type\": \"point\", \"size\": 75}, \"encoding\": {\"tooltip\": [{\"type\": \"temporal\", \"field\": \"date\"}, {\"type\": \"quantitative\", \"field\": \"positiveIncrease\"}, {\"type\": \"quantitative\", \"field\": \"sma7d\"}], \"x\": {\"type\": \"temporal\", \"field\": \"date\"}, \"y\": {\"type\": \"quantitative\", \"field\": \"positiveIncrease\"}}, \"selection\": {\"selector014\": {\"type\": \"interval\", \"bind\": \"scales\", \"encodings\": [\"x\", \"y\"]}}}, {\"mark\": {\"type\": \"line\", \"color\": \"purple\"}, \"encoding\": {\"x\": {\"type\": \"temporal\", \"field\": \"date\"}, \"y\": {\"type\": \"quantitative\", \"field\": \"sma7d\"}}}]}, {\"mark\": {\"type\": \"rule\", \"color\": \"#aaa\"}, \"encoding\": {\"x\": {\"type\": \"temporal\", \"field\": \"date\"}}, \"transform\": [{\"filter\": {\"selection\": \"selector013\"}}]}, {\"mark\": \"circle\", \"encoding\": {\"opacity\": {\"condition\": {\"value\": 1, \"selection\": \"selector013\"}, \"value\": 0}, \"tooltip\": [{\"type\": \"temporal\", \"field\": \"date\"}, {\"type\": \"quantitative\", \"field\": \"positiveIncrease\"}, {\"type\": \"quantitative\", \"field\": \"sma7d\"}], \"x\": {\"type\": \"temporal\", \"field\": \"date\"}, \"y\": {\"type\": \"quantitative\", \"field\": \"positiveIncrease\"}}, \"selection\": {\"selector013\": {\"type\": \"single\", \"encodings\": [\"x\"], \"on\": \"mouseover\", \"nearest\": true, \"empty\": \"none\"}}}, {\"mark\": {\"type\": \"text\", \"align\": \"left\", \"dx\": 5, \"dy\": -5, \"stroke\": \"white\", \"strokeWidth\": 2}, \"encoding\": {\"text\": {\"type\": \"quantitative\", \"field\": \"positiveIncrease\"}, \"tooltip\": [{\"type\": \"temporal\", \"field\": \"date\"}, {\"type\": \"quantitative\", \"field\": \"positiveIncrease\"}, {\"type\": \"quantitative\", \"field\": \"sma7d\"}], \"x\": {\"type\": \"temporal\", \"field\": \"date\"}, \"y\": {\"type\": \"quantitative\", \"field\": \"positiveIncrease\"}}, \"transform\": [{\"filter\": {\"selection\": \"selector013\"}}]}, {\"mark\": {\"type\": \"text\", \"align\": \"left\", \"dx\": 5, \"dy\": -5}, \"encoding\": {\"text\": {\"type\": \"quantitative\", \"field\": \"positiveIncrease\"}, \"tooltip\": [{\"type\": \"temporal\", \"field\": \"date\"}, {\"type\": \"quantitative\", \"field\": \"positiveIncrease\"}, {\"type\": \"quantitative\", \"field\": \"sma7d\"}], \"x\": {\"type\": \"temporal\", \"field\": \"date\"}, \"y\": {\"type\": \"quantitative\", \"field\": \"positiveIncrease\"}}, \"transform\": [{\"filter\": {\"selection\": \"selector013\"}}]}], \"data\": {\"name\": \"data-539d9f1d1666a920cbf9112df2572305\"}, \"height\": 400, \"title\": \"Non Tri-State: positiveIncrease\", \"width\": 500, \"$schema\": \"https://vega.github.io/schema/vega-lite/v4.8.1.json\", \"datasets\": {\"data-539d9f1d1666a920cbf9112df2572305\": [{\"date\": \"2020-11-14T00:00:00\", \"totalTestResultsIncrease\": 1477111.0, \"positiveIncrease\": 156848.0, \"death\": 190031.0, \"deathIncrease\": 1302.0, \"positiveRate\": 0.106, \"state\": \"Non Tri-State\", \"sma7d\": 134676.429}, {\"date\": \"2020-11-15T00:00:00\", \"totalTestResultsIncrease\": 1294483.0, \"positiveIncrease\": 138020.0, \"death\": 190691.0, \"deathIncrease\": 660.0, \"positiveRate\": 0.107, \"state\": \"Non Tri-State\", \"sma7d\": 139219.429}, {\"date\": \"2020-11-16T00:00:00\", \"totalTestResultsIncrease\": 1319511.0, \"positiveIncrease\": 138752.0, \"death\": 191238.0, \"deathIncrease\": 547.0, \"positiveRate\": 0.105, \"state\": \"Non Tri-State\", \"sma7d\": 143463.286}, {\"date\": \"2020-11-17T00:00:00\", \"totalTestResultsIncrease\": 1372878.0, \"positiveIncrease\": 147660.0, \"death\": 192720.0, \"deathIncrease\": 1482.0, \"positiveRate\": 0.108, \"state\": \"Non Tri-State\", \"sma7d\": 146951.0}, {\"date\": \"2020-11-18T00:00:00\", \"totalTestResultsIncrease\": 1375649.0, \"positiveIncrease\": 155653.0, \"death\": 194516.0, \"deathIncrease\": 1796.0, \"positiveRate\": 0.113, \"state\": \"Non Tri-State\", \"sma7d\": 149397.0}, {\"date\": \"2020-11-19T00:00:00\", \"totalTestResultsIncrease\": 1571645.0, \"positiveIncrease\": 174740.0, \"death\": 196449.0, \"deathIncrease\": 1933.0, \"positiveRate\": 0.111, \"state\": \"Non Tri-State\", \"sma7d\": 153343.714}, {\"date\": \"2020-11-20T00:00:00\", \"totalTestResultsIncrease\": 1657544.0, \"positiveIncrease\": 184711.0, \"death\": 198262.0, \"deathIncrease\": 1813.0, \"positiveRate\": 0.111, \"state\": \"Non Tri-State\", \"sma7d\": 156626.286}, {\"date\": \"2020-11-21T00:00:00\", \"totalTestResultsIncrease\": 1792754.0, \"positiveIncrease\": 172168.0, \"death\": 199748.0, \"deathIncrease\": 1486.0, \"positiveRate\": 0.096, \"state\": \"Non Tri-State\", \"sma7d\": 158814.857}, {\"date\": \"2020-11-22T00:00:00\", \"totalTestResultsIncrease\": 1509501.0, \"positiveIncrease\": 144012.0, \"death\": 200619.0, \"deathIncrease\": 871.0, \"positiveRate\": 0.095, \"state\": \"Non Tri-State\", \"sma7d\": 159670.857}, {\"date\": \"2020-11-23T00:00:00\", \"totalTestResultsIncrease\": 1396134.0, \"positiveIncrease\": 139025.0, \"death\": 201390.0, \"deathIncrease\": 771.0, \"positiveRate\": 0.1, \"state\": \"Non Tri-State\", \"sma7d\": 159709.857}, {\"date\": \"2020-11-24T00:00:00\", \"totalTestResultsIncrease\": 1587511.0, \"positiveIncrease\": 154696.0, \"death\": 203388.0, \"deathIncrease\": 1998.0, \"positiveRate\": 0.097, \"state\": \"Non Tri-State\", \"sma7d\": 160715.0}, {\"date\": \"2020-11-25T00:00:00\", \"totalTestResultsIncrease\": 1517420.0, \"positiveIncrease\": 174955.0, \"death\": 205515.0, \"deathIncrease\": 2127.0, \"positiveRate\": 0.115, \"state\": \"Non Tri-State\", \"sma7d\": 163472.429}, {\"date\": \"2020-11-26T00:00:00\", \"totalTestResultsIncrease\": 1109279.0, \"positiveIncrease\": 117303.0, \"death\": 206796.0, \"deathIncrease\": 1281.0, \"positiveRate\": 0.106, \"state\": \"Non Tri-State\", \"sma7d\": 155267.143}, {\"date\": \"2020-11-27T00:00:00\", \"totalTestResultsIncrease\": 1745100.0, \"positiveIncrease\": 181480.0, \"death\": 208097.0, \"deathIncrease\": 1301.0, \"positiveRate\": 0.104, \"state\": \"Non Tri-State\", \"sma7d\": 154805.571}, {\"date\": \"2020-11-28T00:00:00\", \"totalTestResultsIncrease\": 1353649.0, \"positiveIncrease\": 141319.0, \"death\": 209281.0, \"deathIncrease\": 1184.0, \"positiveRate\": 0.104, \"state\": \"Non Tri-State\", \"sma7d\": 150398.571}, {\"date\": \"2020-11-29T00:00:00\", \"totalTestResultsIncrease\": 1119422.0, \"positiveIncrease\": 125685.0, \"death\": 210033.0, \"deathIncrease\": 752.0, \"positiveRate\": 0.112, \"state\": \"Non Tri-State\", \"sma7d\": 147780.429}, {\"date\": \"2020-11-30T00:00:00\", \"totalTestResultsIncrease\": 1216637.0, \"positiveIncrease\": 133865.0, \"death\": 210937.0, \"deathIncrease\": 904.0, \"positiveRate\": 0.11, \"state\": \"Non Tri-State\", \"sma7d\": 147043.286}, {\"date\": \"2020-12-01T00:00:00\", \"totalTestResultsIncrease\": 1289294.0, \"positiveIncrease\": 164862.0, \"death\": 213264.0, \"deathIncrease\": 2327.0, \"positiveRate\": 0.128, \"state\": \"Non Tri-State\", \"sma7d\": 148495.571}, {\"date\": \"2020-12-02T00:00:00\", \"totalTestResultsIncrease\": 1278361.0, \"positiveIncrease\": 185229.0, \"death\": 215882.0, \"deathIncrease\": 2618.0, \"positiveRate\": 0.145, \"state\": \"Non Tri-State\", \"sma7d\": 149963.286}, {\"date\": \"2020-12-03T00:00:00\", \"totalTestResultsIncrease\": 1580851.0, \"positiveIncrease\": 194240.0, \"death\": 218557.0, \"deathIncrease\": 2675.0, \"positiveRate\": 0.123, \"state\": \"Non Tri-State\", \"sma7d\": 160954.286}, {\"date\": \"2020-12-04T00:00:00\", \"totalTestResultsIncrease\": 1641539.0, \"positiveIncrease\": 210720.0, \"death\": 220987.0, \"deathIncrease\": 2430.0, \"positiveRate\": 0.128, \"state\": \"Non Tri-State\", \"sma7d\": 165131.429}, {\"date\": \"2020-12-05T00:00:00\", \"totalTestResultsIncrease\": 1895993.0, \"positiveIncrease\": 200593.0, \"death\": 223344.0, \"deathIncrease\": 2357.0, \"positiveRate\": 0.106, \"state\": \"Non Tri-State\", \"sma7d\": 173599.143}, {\"date\": \"2020-12-06T00:00:00\", \"totalTestResultsIncrease\": 1394127.0, \"positiveIncrease\": 165464.0, \"death\": 224414.0, \"deathIncrease\": 1070.0, \"positiveRate\": 0.119, \"state\": \"Non Tri-State\", \"sma7d\": 179281.857}, {\"date\": \"2020-12-07T00:00:00\", \"totalTestResultsIncrease\": 1442398.0, \"positiveIncrease\": 161944.0, \"death\": 225535.0, \"deathIncrease\": 1121.0, \"positiveRate\": 0.112, \"state\": \"Non Tri-State\", \"sma7d\": 183293.143}, {\"date\": \"2020-12-08T00:00:00\", \"totalTestResultsIncrease\": 1407966.0, \"positiveIncrease\": 197887.0, \"death\": 228055.0, \"deathIncrease\": 2520.0, \"positiveRate\": 0.141, \"state\": \"Non Tri-State\", \"sma7d\": 188011.0}, {\"date\": \"2020-12-09T00:00:00\", \"totalTestResultsIncrease\": 1436194.0, \"positiveIncrease\": 196862.0, \"death\": 230963.0, \"deathIncrease\": 2908.0, \"positiveRate\": 0.137, \"state\": \"Non Tri-State\", \"sma7d\": 189672.857}, {\"date\": \"2020-12-10T00:00:00\", \"totalTestResultsIncrease\": 1607224.0, \"positiveIncrease\": 201222.0, \"death\": 233876.0, \"deathIncrease\": 2913.0, \"positiveRate\": 0.125, \"state\": \"Non Tri-State\", \"sma7d\": 190670.286}, {\"date\": \"2020-12-11T00:00:00\", \"totalTestResultsIncrease\": 1673578.0, \"positiveIncrease\": 216790.0, \"death\": 236446.0, \"deathIncrease\": 2570.0, \"positiveRate\": 0.13, \"state\": \"Non Tri-State\", \"sma7d\": 191537.429}, {\"date\": \"2020-12-12T00:00:00\", \"totalTestResultsIncrease\": 1558688.0, \"positiveIncrease\": 207107.0, \"death\": 238782.0, \"deathIncrease\": 2336.0, \"positiveRate\": 0.133, \"state\": \"Non Tri-State\", \"sma7d\": 192468.0}, {\"date\": \"2020-12-13T00:00:00\", \"totalTestResultsIncrease\": 1560202.0, \"positiveIncrease\": 171453.0, \"death\": 240147.0, \"deathIncrease\": 1365.0, \"positiveRate\": 0.11, \"state\": \"Non Tri-State\", \"sma7d\": 193323.571}, {\"date\": \"2020-12-14T00:00:00\", \"totalTestResultsIncrease\": 1689172.0, \"positiveIncrease\": 171393.0, \"death\": 241315.0, \"deathIncrease\": 1168.0, \"positiveRate\": 0.101, \"state\": \"Non Tri-State\", \"sma7d\": 194673.429}, {\"date\": \"2020-12-15T00:00:00\", \"totalTestResultsIncrease\": 1470367.0, \"positiveIncrease\": 173994.0, \"death\": 244035.0, \"deathIncrease\": 2720.0, \"positiveRate\": 0.118, \"state\": \"Non Tri-State\", \"sma7d\": 191260.143}, {\"date\": \"2020-12-16T00:00:00\", \"totalTestResultsIncrease\": 1519759.0, \"positiveIncrease\": 213675.0, \"death\": 247214.0, \"deathIncrease\": 3179.0, \"positiveRate\": 0.141, \"state\": \"Non Tri-State\", \"sma7d\": 193662.0}, {\"date\": \"2020-12-17T00:00:00\", \"totalTestResultsIncrease\": 1620525.0, \"positiveIncrease\": 222666.0, \"death\": 250407.0, \"deathIncrease\": 3193.0, \"positiveRate\": 0.137, \"state\": \"Non Tri-State\", \"sma7d\": 196725.429}, {\"date\": \"2020-12-18T00:00:00\", \"totalTestResultsIncrease\": 1761410.0, \"positiveIncrease\": 219973.0, \"death\": 253078.0, \"deathIncrease\": 2671.0, \"positiveRate\": 0.125, \"state\": \"Non Tri-State\", \"sma7d\": 197180.143}, {\"date\": \"2020-12-19T00:00:00\", \"totalTestResultsIncrease\": 1543158.0, \"positiveIncrease\": 188702.0, \"death\": 255622.0, \"deathIncrease\": 2544.0, \"positiveRate\": 0.122, \"state\": \"Non Tri-State\", \"sma7d\": 194550.857}, {\"date\": \"2020-12-20T00:00:00\", \"totalTestResultsIncrease\": 1589098.0, \"positiveIncrease\": 180885.0, \"death\": 257110.0, \"deathIncrease\": 1488.0, \"positiveRate\": 0.114, \"state\": \"Non Tri-State\", \"sma7d\": 195898.286}, {\"date\": \"2020-12-21T00:00:00\", \"totalTestResultsIncrease\": 1645569.0, \"positiveIncrease\": 161418.0, \"death\": 258360.0, \"deathIncrease\": 1250.0, \"positiveRate\": 0.098, \"state\": \"Non Tri-State\", \"sma7d\": 194473.286}, {\"date\": \"2020-12-22T00:00:00\", \"totalTestResultsIncrease\": 1495837.0, \"positiveIncrease\": 174060.0, \"death\": 261255.0, \"deathIncrease\": 2895.0, \"positiveRate\": 0.116, \"state\": \"Non Tri-State\", \"sma7d\": 194482.714}, {\"date\": \"2020-12-23T00:00:00\", \"totalTestResultsIncrease\": 1466059.0, \"positiveIncrease\": 202350.0, \"death\": 264295.0, \"deathIncrease\": 3040.0, \"positiveRate\": 0.138, \"state\": \"Non Tri-State\", \"sma7d\": 192864.857}, {\"date\": \"2020-12-24T00:00:00\", \"totalTestResultsIncrease\": 1614736.0, \"positiveIncrease\": 184315.0, \"death\": 266978.0, \"deathIncrease\": 2683.0, \"positiveRate\": 0.114, \"state\": \"Non Tri-State\", \"sma7d\": 187386.143}, {\"date\": \"2020-12-25T00:00:00\", \"totalTestResultsIncrease\": 1064580.0, \"positiveIncrease\": 107862.0, \"death\": 268354.0, \"deathIncrease\": 1376.0, \"positiveRate\": 0.101, \"state\": \"Non Tri-State\", \"sma7d\": 171370.286}, {\"date\": \"2020-12-26T00:00:00\", \"totalTestResultsIncrease\": 1916288.0, \"positiveIncrease\": 174689.0, \"death\": 269629.0, \"deathIncrease\": 1275.0, \"positiveRate\": 0.091, \"state\": \"Non Tri-State\", \"sma7d\": 169368.429}, {\"date\": \"2020-12-27T00:00:00\", \"totalTestResultsIncrease\": 1207146.0, \"positiveIncrease\": 143251.0, \"death\": 270899.0, \"deathIncrease\": 1270.0, \"positiveRate\": 0.119, \"state\": \"Non Tri-State\", \"sma7d\": 163992.143}, {\"date\": \"2020-12-28T00:00:00\", \"totalTestResultsIncrease\": 1081347.0, \"positiveIncrease\": 140582.0, \"death\": 272138.0, \"deathIncrease\": 1239.0, \"positiveRate\": 0.13, \"state\": \"Non Tri-State\", \"sma7d\": 161015.571}, {\"date\": \"2020-12-29T00:00:00\", \"totalTestResultsIncrease\": 1035536.0, \"positiveIncrease\": 179332.0, \"death\": 275164.0, \"deathIncrease\": 3026.0, \"positiveRate\": 0.173, \"state\": \"Non Tri-State\", \"sma7d\": 161768.714}, {\"date\": \"2020-12-30T00:00:00\", \"totalTestResultsIncrease\": 1359279.0, \"positiveIncrease\": 205911.0, \"death\": 278703.0, \"deathIncrease\": 3539.0, \"positiveRate\": 0.151, \"state\": \"Non Tri-State\", \"sma7d\": 162277.429}, {\"date\": \"2020-12-31T00:00:00\", \"totalTestResultsIncrease\": 1471061.0, \"positiveIncrease\": 199093.0, \"death\": 281734.0, \"deathIncrease\": 3031.0, \"positiveRate\": 0.135, \"state\": \"Non Tri-State\", \"sma7d\": 164388.571}, {\"date\": \"2021-01-01T00:00:00\", \"totalTestResultsIncrease\": 1063405.0, \"positiveIncrease\": 157854.0, \"death\": 284044.0, \"deathIncrease\": 2310.0, \"positiveRate\": 0.148, \"state\": \"Non Tri-State\", \"sma7d\": 171530.286}, {\"date\": \"2021-01-02T00:00:00\", \"totalTestResultsIncrease\": 1789307.0, \"positiveIncrease\": 253683.0, \"death\": 286179.0, \"deathIncrease\": 2135.0, \"positiveRate\": 0.142, \"state\": \"Non Tri-State\", \"sma7d\": 182815.143}, {\"date\": \"2021-01-03T00:00:00\", \"totalTestResultsIncrease\": 1255016.0, \"positiveIncrease\": 192688.0, \"death\": 287480.0, \"deathIncrease\": 1301.0, \"positiveRate\": 0.154, \"state\": \"Non Tri-State\", \"sma7d\": 189877.571}, {\"date\": \"2021-01-04T00:00:00\", \"totalTestResultsIncrease\": 1416436.0, \"positiveIncrease\": 159666.0, \"death\": 288748.0, \"deathIncrease\": 1268.0, \"positiveRate\": 0.113, \"state\": \"Non Tri-State\", \"sma7d\": 192603.857}, {\"date\": \"2021-01-05T00:00:00\", \"totalTestResultsIncrease\": 1213003.0, \"positiveIncrease\": 194144.0, \"death\": 291954.0, \"deathIncrease\": 3206.0, \"positiveRate\": 0.16, \"state\": \"Non Tri-State\", \"sma7d\": 194719.857}, {\"date\": \"2021-01-06T00:00:00\", \"totalTestResultsIncrease\": 1346240.0, \"positiveIncrease\": 222804.0, \"death\": 295478.0, \"deathIncrease\": 3524.0, \"positiveRate\": 0.166, \"state\": \"Non Tri-State\", \"sma7d\": 197133.143}, {\"date\": \"2021-01-07T00:00:00\", \"totalTestResultsIncrease\": 1615831.0, \"positiveIncrease\": 237718.0, \"death\": 299132.0, \"deathIncrease\": 3654.0, \"positiveRate\": 0.147, \"state\": \"Non Tri-State\", \"sma7d\": 202651.0}]}}, {\"mode\": \"vega-lite\"});\n",
       "</script>"
      ],
      "text/plain": [
       "alt.LayerChart(...)"
      ]
     },
     "execution_count": 15,
     "metadata": {},
     "output_type": "execute_result"
    }
   ],
   "source": [
    "create_plot(non_tristate, 'positiveIncrease')"
   ]
  },
  {
   "cell_type": "code",
   "execution_count": 16,
   "metadata": {
    "execution": {
     "iopub.execute_input": "2021-01-08T09:33:52.122991Z",
     "iopub.status.busy": "2021-01-08T09:33:52.101607Z",
     "iopub.status.idle": "2021-01-08T09:33:52.181874Z",
     "shell.execute_reply": "2021-01-08T09:33:52.181489Z"
    },
    "papermill": {
     "duration": 0.09889,
     "end_time": "2021-01-08T09:33:52.181985",
     "exception": false,
     "start_time": "2021-01-08T09:33:52.083095",
     "status": "completed"
    },
    "tags": []
   },
   "outputs": [
    {
     "data": {
      "text/html": [
       "\n",
       "<div id=\"altair-viz-c53231cc1d114e5a8a58b25f47283870\"></div>\n",
       "<script type=\"text/javascript\">\n",
       "  (function(spec, embedOpt){\n",
       "    let outputDiv = document.currentScript.previousElementSibling;\n",
       "    if (outputDiv.id !== \"altair-viz-c53231cc1d114e5a8a58b25f47283870\") {\n",
       "      outputDiv = document.getElementById(\"altair-viz-c53231cc1d114e5a8a58b25f47283870\");\n",
       "    }\n",
       "    const paths = {\n",
       "      \"vega\": \"https://cdn.jsdelivr.net/npm//vega@5?noext\",\n",
       "      \"vega-lib\": \"https://cdn.jsdelivr.net/npm//vega-lib?noext\",\n",
       "      \"vega-lite\": \"https://cdn.jsdelivr.net/npm//vega-lite@4.8.1?noext\",\n",
       "      \"vega-embed\": \"https://cdn.jsdelivr.net/npm//vega-embed@6?noext\",\n",
       "    };\n",
       "\n",
       "    function loadScript(lib) {\n",
       "      return new Promise(function(resolve, reject) {\n",
       "        var s = document.createElement('script');\n",
       "        s.src = paths[lib];\n",
       "        s.async = true;\n",
       "        s.onload = () => resolve(paths[lib]);\n",
       "        s.onerror = () => reject(`Error loading script: ${paths[lib]}`);\n",
       "        document.getElementsByTagName(\"head\")[0].appendChild(s);\n",
       "      });\n",
       "    }\n",
       "\n",
       "    function showError(err) {\n",
       "      outputDiv.innerHTML = `<div class=\"error\" style=\"color:red;\">${err}</div>`;\n",
       "      throw err;\n",
       "    }\n",
       "\n",
       "    function displayChart(vegaEmbed) {\n",
       "      vegaEmbed(outputDiv, spec, embedOpt)\n",
       "        .catch(err => showError(`Javascript Error: ${err.message}<br>This usually means there's a typo in your chart specification. See the javascript console for the full traceback.`));\n",
       "    }\n",
       "\n",
       "    if(typeof define === \"function\" && define.amd) {\n",
       "      requirejs.config({paths});\n",
       "      require([\"vega-embed\"], displayChart, err => showError(`Error loading script: ${err.message}`));\n",
       "    } else if (typeof vegaEmbed === \"function\") {\n",
       "      displayChart(vegaEmbed);\n",
       "    } else {\n",
       "      loadScript(\"vega\")\n",
       "        .then(() => loadScript(\"vega-lite\"))\n",
       "        .then(() => loadScript(\"vega-embed\"))\n",
       "        .catch(showError)\n",
       "        .then(() => displayChart(vegaEmbed));\n",
       "    }\n",
       "  })({\"config\": {\"view\": {\"continuousWidth\": 400, \"continuousHeight\": 300}}, \"layer\": [{\"layer\": [{\"mark\": {\"type\": \"point\", \"size\": 75}, \"encoding\": {\"tooltip\": [{\"type\": \"temporal\", \"field\": \"date\"}, {\"type\": \"quantitative\", \"field\": \"positiveRate\"}, {\"type\": \"quantitative\", \"field\": \"sma7d\"}], \"x\": {\"type\": \"temporal\", \"field\": \"date\"}, \"y\": {\"type\": \"quantitative\", \"field\": \"positiveRate\"}}, \"selection\": {\"selector016\": {\"type\": \"interval\", \"bind\": \"scales\", \"encodings\": [\"x\", \"y\"]}}}, {\"mark\": {\"type\": \"line\", \"color\": \"purple\"}, \"encoding\": {\"x\": {\"type\": \"temporal\", \"field\": \"date\"}, \"y\": {\"type\": \"quantitative\", \"field\": \"sma7d\"}}}]}, {\"mark\": {\"type\": \"rule\", \"color\": \"#aaa\"}, \"encoding\": {\"x\": {\"type\": \"temporal\", \"field\": \"date\"}}, \"transform\": [{\"filter\": {\"selection\": \"selector015\"}}]}, {\"mark\": \"circle\", \"encoding\": {\"opacity\": {\"condition\": {\"value\": 1, \"selection\": \"selector015\"}, \"value\": 0}, \"tooltip\": [{\"type\": \"temporal\", \"field\": \"date\"}, {\"type\": \"quantitative\", \"field\": \"positiveRate\"}, {\"type\": \"quantitative\", \"field\": \"sma7d\"}], \"x\": {\"type\": \"temporal\", \"field\": \"date\"}, \"y\": {\"type\": \"quantitative\", \"field\": \"positiveRate\"}}, \"selection\": {\"selector015\": {\"type\": \"single\", \"encodings\": [\"x\"], \"on\": \"mouseover\", \"nearest\": true, \"empty\": \"none\"}}}, {\"mark\": {\"type\": \"text\", \"align\": \"left\", \"dx\": 5, \"dy\": -5, \"stroke\": \"white\", \"strokeWidth\": 2}, \"encoding\": {\"text\": {\"type\": \"quantitative\", \"field\": \"positiveRate\"}, \"tooltip\": [{\"type\": \"temporal\", \"field\": \"date\"}, {\"type\": \"quantitative\", \"field\": \"positiveRate\"}, {\"type\": \"quantitative\", \"field\": \"sma7d\"}], \"x\": {\"type\": \"temporal\", \"field\": \"date\"}, \"y\": {\"type\": \"quantitative\", \"field\": \"positiveRate\"}}, \"transform\": [{\"filter\": {\"selection\": \"selector015\"}}]}, {\"mark\": {\"type\": \"text\", \"align\": \"left\", \"dx\": 5, \"dy\": -5}, \"encoding\": {\"text\": {\"type\": \"quantitative\", \"field\": \"positiveRate\"}, \"tooltip\": [{\"type\": \"temporal\", \"field\": \"date\"}, {\"type\": \"quantitative\", \"field\": \"positiveRate\"}, {\"type\": \"quantitative\", \"field\": \"sma7d\"}], \"x\": {\"type\": \"temporal\", \"field\": \"date\"}, \"y\": {\"type\": \"quantitative\", \"field\": \"positiveRate\"}}, \"transform\": [{\"filter\": {\"selection\": \"selector015\"}}]}], \"data\": {\"name\": \"data-d58587f2a27bd02f2efa256879564fc3\"}, \"height\": 400, \"title\": \"Non Tri-State: positiveRate\", \"width\": 500, \"$schema\": \"https://vega.github.io/schema/vega-lite/v4.8.1.json\", \"datasets\": {\"data-d58587f2a27bd02f2efa256879564fc3\": [{\"date\": \"2020-11-14T00:00:00\", \"totalTestResultsIncrease\": 1477111.0, \"positiveIncrease\": 156848.0, \"death\": 190031.0, \"deathIncrease\": 1302.0, \"positiveRate\": 0.106, \"state\": \"Non Tri-State\", \"sma7d\": 0.106}, {\"date\": \"2020-11-15T00:00:00\", \"totalTestResultsIncrease\": 1294483.0, \"positiveIncrease\": 138020.0, \"death\": 190691.0, \"deathIncrease\": 660.0, \"positiveRate\": 0.107, \"state\": \"Non Tri-State\", \"sma7d\": 0.107}, {\"date\": \"2020-11-16T00:00:00\", \"totalTestResultsIncrease\": 1319511.0, \"positiveIncrease\": 138752.0, \"death\": 191238.0, \"deathIncrease\": 547.0, \"positiveRate\": 0.105, \"state\": \"Non Tri-State\", \"sma7d\": 0.109}, {\"date\": \"2020-11-17T00:00:00\", \"totalTestResultsIncrease\": 1372878.0, \"positiveIncrease\": 147660.0, \"death\": 192720.0, \"deathIncrease\": 1482.0, \"positiveRate\": 0.108, \"state\": \"Non Tri-State\", \"sma7d\": 0.109}, {\"date\": \"2020-11-18T00:00:00\", \"totalTestResultsIncrease\": 1375649.0, \"positiveIncrease\": 155653.0, \"death\": 194516.0, \"deathIncrease\": 1796.0, \"positiveRate\": 0.113, \"state\": \"Non Tri-State\", \"sma7d\": 0.109}, {\"date\": \"2020-11-19T00:00:00\", \"totalTestResultsIncrease\": 1571645.0, \"positiveIncrease\": 174740.0, \"death\": 196449.0, \"deathIncrease\": 1933.0, \"positiveRate\": 0.111, \"state\": \"Non Tri-State\", \"sma7d\": 0.109}, {\"date\": \"2020-11-20T00:00:00\", \"totalTestResultsIncrease\": 1657544.0, \"positiveIncrease\": 184711.0, \"death\": 198262.0, \"deathIncrease\": 1813.0, \"positiveRate\": 0.111, \"state\": \"Non Tri-State\", \"sma7d\": 0.109}, {\"date\": \"2020-11-21T00:00:00\", \"totalTestResultsIncrease\": 1792754.0, \"positiveIncrease\": 172168.0, \"death\": 199748.0, \"deathIncrease\": 1486.0, \"positiveRate\": 0.096, \"state\": \"Non Tri-State\", \"sma7d\": 0.107}, {\"date\": \"2020-11-22T00:00:00\", \"totalTestResultsIncrease\": 1509501.0, \"positiveIncrease\": 144012.0, \"death\": 200619.0, \"deathIncrease\": 871.0, \"positiveRate\": 0.095, \"state\": \"Non Tri-State\", \"sma7d\": 0.106}, {\"date\": \"2020-11-23T00:00:00\", \"totalTestResultsIncrease\": 1396134.0, \"positiveIncrease\": 139025.0, \"death\": 201390.0, \"deathIncrease\": 771.0, \"positiveRate\": 0.1, \"state\": \"Non Tri-State\", \"sma7d\": 0.105}, {\"date\": \"2020-11-24T00:00:00\", \"totalTestResultsIncrease\": 1587511.0, \"positiveIncrease\": 154696.0, \"death\": 203388.0, \"deathIncrease\": 1998.0, \"positiveRate\": 0.097, \"state\": \"Non Tri-State\", \"sma7d\": 0.103}, {\"date\": \"2020-11-25T00:00:00\", \"totalTestResultsIncrease\": 1517420.0, \"positiveIncrease\": 174955.0, \"death\": 205515.0, \"deathIncrease\": 2127.0, \"positiveRate\": 0.115, \"state\": \"Non Tri-State\", \"sma7d\": 0.104}, {\"date\": \"2020-11-26T00:00:00\", \"totalTestResultsIncrease\": 1109279.0, \"positiveIncrease\": 117303.0, \"death\": 206796.0, \"deathIncrease\": 1281.0, \"positiveRate\": 0.106, \"state\": \"Non Tri-State\", \"sma7d\": 0.103}, {\"date\": \"2020-11-27T00:00:00\", \"totalTestResultsIncrease\": 1745100.0, \"positiveIncrease\": 181480.0, \"death\": 208097.0, \"deathIncrease\": 1301.0, \"positiveRate\": 0.104, \"state\": \"Non Tri-State\", \"sma7d\": 0.102}, {\"date\": \"2020-11-28T00:00:00\", \"totalTestResultsIncrease\": 1353649.0, \"positiveIncrease\": 141319.0, \"death\": 209281.0, \"deathIncrease\": 1184.0, \"positiveRate\": 0.104, \"state\": \"Non Tri-State\", \"sma7d\": 0.103}, {\"date\": \"2020-11-29T00:00:00\", \"totalTestResultsIncrease\": 1119422.0, \"positiveIncrease\": 125685.0, \"death\": 210033.0, \"deathIncrease\": 752.0, \"positiveRate\": 0.112, \"state\": \"Non Tri-State\", \"sma7d\": 0.105}, {\"date\": \"2020-11-30T00:00:00\", \"totalTestResultsIncrease\": 1216637.0, \"positiveIncrease\": 133865.0, \"death\": 210937.0, \"deathIncrease\": 904.0, \"positiveRate\": 0.11, \"state\": \"Non Tri-State\", \"sma7d\": 0.107}, {\"date\": \"2020-12-01T00:00:00\", \"totalTestResultsIncrease\": 1289294.0, \"positiveIncrease\": 164862.0, \"death\": 213264.0, \"deathIncrease\": 2327.0, \"positiveRate\": 0.128, \"state\": \"Non Tri-State\", \"sma7d\": 0.111}, {\"date\": \"2020-12-02T00:00:00\", \"totalTestResultsIncrease\": 1278361.0, \"positiveIncrease\": 185229.0, \"death\": 215882.0, \"deathIncrease\": 2618.0, \"positiveRate\": 0.145, \"state\": \"Non Tri-State\", \"sma7d\": 0.116}, {\"date\": \"2020-12-03T00:00:00\", \"totalTestResultsIncrease\": 1580851.0, \"positiveIncrease\": 194240.0, \"death\": 218557.0, \"deathIncrease\": 2675.0, \"positiveRate\": 0.123, \"state\": \"Non Tri-State\", \"sma7d\": 0.118}, {\"date\": \"2020-12-04T00:00:00\", \"totalTestResultsIncrease\": 1641539.0, \"positiveIncrease\": 210720.0, \"death\": 220987.0, \"deathIncrease\": 2430.0, \"positiveRate\": 0.128, \"state\": \"Non Tri-State\", \"sma7d\": 0.121}, {\"date\": \"2020-12-05T00:00:00\", \"totalTestResultsIncrease\": 1895993.0, \"positiveIncrease\": 200593.0, \"death\": 223344.0, \"deathIncrease\": 2357.0, \"positiveRate\": 0.106, \"state\": \"Non Tri-State\", \"sma7d\": 0.122}, {\"date\": \"2020-12-06T00:00:00\", \"totalTestResultsIncrease\": 1394127.0, \"positiveIncrease\": 165464.0, \"death\": 224414.0, \"deathIncrease\": 1070.0, \"positiveRate\": 0.119, \"state\": \"Non Tri-State\", \"sma7d\": 0.123}, {\"date\": \"2020-12-07T00:00:00\", \"totalTestResultsIncrease\": 1442398.0, \"positiveIncrease\": 161944.0, \"death\": 225535.0, \"deathIncrease\": 1121.0, \"positiveRate\": 0.112, \"state\": \"Non Tri-State\", \"sma7d\": 0.123}, {\"date\": \"2020-12-08T00:00:00\", \"totalTestResultsIncrease\": 1407966.0, \"positiveIncrease\": 197887.0, \"death\": 228055.0, \"deathIncrease\": 2520.0, \"positiveRate\": 0.141, \"state\": \"Non Tri-State\", \"sma7d\": 0.125}, {\"date\": \"2020-12-09T00:00:00\", \"totalTestResultsIncrease\": 1436194.0, \"positiveIncrease\": 196862.0, \"death\": 230963.0, \"deathIncrease\": 2908.0, \"positiveRate\": 0.137, \"state\": \"Non Tri-State\", \"sma7d\": 0.124}, {\"date\": \"2020-12-10T00:00:00\", \"totalTestResultsIncrease\": 1607224.0, \"positiveIncrease\": 201222.0, \"death\": 233876.0, \"deathIncrease\": 2913.0, \"positiveRate\": 0.125, \"state\": \"Non Tri-State\", \"sma7d\": 0.124}, {\"date\": \"2020-12-11T00:00:00\", \"totalTestResultsIncrease\": 1673578.0, \"positiveIncrease\": 216790.0, \"death\": 236446.0, \"deathIncrease\": 2570.0, \"positiveRate\": 0.13, \"state\": \"Non Tri-State\", \"sma7d\": 0.124}, {\"date\": \"2020-12-12T00:00:00\", \"totalTestResultsIncrease\": 1558688.0, \"positiveIncrease\": 207107.0, \"death\": 238782.0, \"deathIncrease\": 2336.0, \"positiveRate\": 0.133, \"state\": \"Non Tri-State\", \"sma7d\": 0.128}, {\"date\": \"2020-12-13T00:00:00\", \"totalTestResultsIncrease\": 1560202.0, \"positiveIncrease\": 171453.0, \"death\": 240147.0, \"deathIncrease\": 1365.0, \"positiveRate\": 0.11, \"state\": \"Non Tri-State\", \"sma7d\": 0.127}, {\"date\": \"2020-12-14T00:00:00\", \"totalTestResultsIncrease\": 1689172.0, \"positiveIncrease\": 171393.0, \"death\": 241315.0, \"deathIncrease\": 1168.0, \"positiveRate\": 0.101, \"state\": \"Non Tri-State\", \"sma7d\": 0.125}, {\"date\": \"2020-12-15T00:00:00\", \"totalTestResultsIncrease\": 1470367.0, \"positiveIncrease\": 173994.0, \"death\": 244035.0, \"deathIncrease\": 2720.0, \"positiveRate\": 0.118, \"state\": \"Non Tri-State\", \"sma7d\": 0.122}, {\"date\": \"2020-12-16T00:00:00\", \"totalTestResultsIncrease\": 1519759.0, \"positiveIncrease\": 213675.0, \"death\": 247214.0, \"deathIncrease\": 3179.0, \"positiveRate\": 0.141, \"state\": \"Non Tri-State\", \"sma7d\": 0.123}, {\"date\": \"2020-12-17T00:00:00\", \"totalTestResultsIncrease\": 1620525.0, \"positiveIncrease\": 222666.0, \"death\": 250407.0, \"deathIncrease\": 3193.0, \"positiveRate\": 0.137, \"state\": \"Non Tri-State\", \"sma7d\": 0.124}, {\"date\": \"2020-12-18T00:00:00\", \"totalTestResultsIncrease\": 1761410.0, \"positiveIncrease\": 219973.0, \"death\": 253078.0, \"deathIncrease\": 2671.0, \"positiveRate\": 0.125, \"state\": \"Non Tri-State\", \"sma7d\": 0.124}, {\"date\": \"2020-12-19T00:00:00\", \"totalTestResultsIncrease\": 1543158.0, \"positiveIncrease\": 188702.0, \"death\": 255622.0, \"deathIncrease\": 2544.0, \"positiveRate\": 0.122, \"state\": \"Non Tri-State\", \"sma7d\": 0.122}, {\"date\": \"2020-12-20T00:00:00\", \"totalTestResultsIncrease\": 1589098.0, \"positiveIncrease\": 180885.0, \"death\": 257110.0, \"deathIncrease\": 1488.0, \"positiveRate\": 0.114, \"state\": \"Non Tri-State\", \"sma7d\": 0.123}, {\"date\": \"2020-12-21T00:00:00\", \"totalTestResultsIncrease\": 1645569.0, \"positiveIncrease\": 161418.0, \"death\": 258360.0, \"deathIncrease\": 1250.0, \"positiveRate\": 0.098, \"state\": \"Non Tri-State\", \"sma7d\": 0.122}, {\"date\": \"2020-12-22T00:00:00\", \"totalTestResultsIncrease\": 1495837.0, \"positiveIncrease\": 174060.0, \"death\": 261255.0, \"deathIncrease\": 2895.0, \"positiveRate\": 0.116, \"state\": \"Non Tri-State\", \"sma7d\": 0.122}, {\"date\": \"2020-12-23T00:00:00\", \"totalTestResultsIncrease\": 1466059.0, \"positiveIncrease\": 202350.0, \"death\": 264295.0, \"deathIncrease\": 3040.0, \"positiveRate\": 0.138, \"state\": \"Non Tri-State\", \"sma7d\": 0.121}, {\"date\": \"2020-12-24T00:00:00\", \"totalTestResultsIncrease\": 1614736.0, \"positiveIncrease\": 184315.0, \"death\": 266978.0, \"deathIncrease\": 2683.0, \"positiveRate\": 0.114, \"state\": \"Non Tri-State\", \"sma7d\": 0.118}, {\"date\": \"2020-12-25T00:00:00\", \"totalTestResultsIncrease\": 1064580.0, \"positiveIncrease\": 107862.0, \"death\": 268354.0, \"deathIncrease\": 1376.0, \"positiveRate\": 0.101, \"state\": \"Non Tri-State\", \"sma7d\": 0.115}, {\"date\": \"2020-12-26T00:00:00\", \"totalTestResultsIncrease\": 1916288.0, \"positiveIncrease\": 174689.0, \"death\": 269629.0, \"deathIncrease\": 1275.0, \"positiveRate\": 0.091, \"state\": \"Non Tri-State\", \"sma7d\": 0.11}, {\"date\": \"2020-12-27T00:00:00\", \"totalTestResultsIncrease\": 1207146.0, \"positiveIncrease\": 143251.0, \"death\": 270899.0, \"deathIncrease\": 1270.0, \"positiveRate\": 0.119, \"state\": \"Non Tri-State\", \"sma7d\": 0.111}, {\"date\": \"2020-12-28T00:00:00\", \"totalTestResultsIncrease\": 1081347.0, \"positiveIncrease\": 140582.0, \"death\": 272138.0, \"deathIncrease\": 1239.0, \"positiveRate\": 0.13, \"state\": \"Non Tri-State\", \"sma7d\": 0.116}, {\"date\": \"2020-12-29T00:00:00\", \"totalTestResultsIncrease\": 1035536.0, \"positiveIncrease\": 179332.0, \"death\": 275164.0, \"deathIncrease\": 3026.0, \"positiveRate\": 0.173, \"state\": \"Non Tri-State\", \"sma7d\": 0.124}, {\"date\": \"2020-12-30T00:00:00\", \"totalTestResultsIncrease\": 1359279.0, \"positiveIncrease\": 205911.0, \"death\": 278703.0, \"deathIncrease\": 3539.0, \"positiveRate\": 0.151, \"state\": \"Non Tri-State\", \"sma7d\": 0.126}, {\"date\": \"2020-12-31T00:00:00\", \"totalTestResultsIncrease\": 1471061.0, \"positiveIncrease\": 199093.0, \"death\": 281734.0, \"deathIncrease\": 3031.0, \"positiveRate\": 0.135, \"state\": \"Non Tri-State\", \"sma7d\": 0.129}, {\"date\": \"2021-01-01T00:00:00\", \"totalTestResultsIncrease\": 1063405.0, \"positiveIncrease\": 157854.0, \"death\": 284044.0, \"deathIncrease\": 2310.0, \"positiveRate\": 0.148, \"state\": \"Non Tri-State\", \"sma7d\": 0.135}, {\"date\": \"2021-01-02T00:00:00\", \"totalTestResultsIncrease\": 1789307.0, \"positiveIncrease\": 253683.0, \"death\": 286179.0, \"deathIncrease\": 2135.0, \"positiveRate\": 0.142, \"state\": \"Non Tri-State\", \"sma7d\": 0.143}, {\"date\": \"2021-01-03T00:00:00\", \"totalTestResultsIncrease\": 1255016.0, \"positiveIncrease\": 192688.0, \"death\": 287480.0, \"deathIncrease\": 1301.0, \"positiveRate\": 0.154, \"state\": \"Non Tri-State\", \"sma7d\": 0.148}, {\"date\": \"2021-01-04T00:00:00\", \"totalTestResultsIncrease\": 1416436.0, \"positiveIncrease\": 159666.0, \"death\": 288748.0, \"deathIncrease\": 1268.0, \"positiveRate\": 0.113, \"state\": \"Non Tri-State\", \"sma7d\": 0.145}, {\"date\": \"2021-01-05T00:00:00\", \"totalTestResultsIncrease\": 1213003.0, \"positiveIncrease\": 194144.0, \"death\": 291954.0, \"deathIncrease\": 3206.0, \"positiveRate\": 0.16, \"state\": \"Non Tri-State\", \"sma7d\": 0.143}, {\"date\": \"2021-01-06T00:00:00\", \"totalTestResultsIncrease\": 1346240.0, \"positiveIncrease\": 222804.0, \"death\": 295478.0, \"deathIncrease\": 3524.0, \"positiveRate\": 0.166, \"state\": \"Non Tri-State\", \"sma7d\": 0.145}, {\"date\": \"2021-01-07T00:00:00\", \"totalTestResultsIncrease\": 1615831.0, \"positiveIncrease\": 237718.0, \"death\": 299132.0, \"deathIncrease\": 3654.0, \"positiveRate\": 0.147, \"state\": \"Non Tri-State\", \"sma7d\": 0.147}]}}, {\"mode\": \"vega-lite\"});\n",
       "</script>"
      ],
      "text/plain": [
       "alt.LayerChart(...)"
      ]
     },
     "execution_count": 16,
     "metadata": {},
     "output_type": "execute_result"
    }
   ],
   "source": [
    "create_plot(non_tristate, 'positiveRate')"
   ]
  },
  {
   "cell_type": "code",
   "execution_count": 17,
   "metadata": {
    "execution": {
     "iopub.execute_input": "2021-01-08T09:33:52.240689Z",
     "iopub.status.busy": "2021-01-08T09:33:52.225054Z",
     "iopub.status.idle": "2021-01-08T09:33:52.297525Z",
     "shell.execute_reply": "2021-01-08T09:33:52.297130Z"
    },
    "papermill": {
     "duration": 0.099139,
     "end_time": "2021-01-08T09:33:52.297642",
     "exception": false,
     "start_time": "2021-01-08T09:33:52.198503",
     "status": "completed"
    },
    "tags": []
   },
   "outputs": [
    {
     "data": {
      "text/html": [
       "\n",
       "<div id=\"altair-viz-71060ea1037043af92b69113e01e0a0c\"></div>\n",
       "<script type=\"text/javascript\">\n",
       "  (function(spec, embedOpt){\n",
       "    let outputDiv = document.currentScript.previousElementSibling;\n",
       "    if (outputDiv.id !== \"altair-viz-71060ea1037043af92b69113e01e0a0c\") {\n",
       "      outputDiv = document.getElementById(\"altair-viz-71060ea1037043af92b69113e01e0a0c\");\n",
       "    }\n",
       "    const paths = {\n",
       "      \"vega\": \"https://cdn.jsdelivr.net/npm//vega@5?noext\",\n",
       "      \"vega-lib\": \"https://cdn.jsdelivr.net/npm//vega-lib?noext\",\n",
       "      \"vega-lite\": \"https://cdn.jsdelivr.net/npm//vega-lite@4.8.1?noext\",\n",
       "      \"vega-embed\": \"https://cdn.jsdelivr.net/npm//vega-embed@6?noext\",\n",
       "    };\n",
       "\n",
       "    function loadScript(lib) {\n",
       "      return new Promise(function(resolve, reject) {\n",
       "        var s = document.createElement('script');\n",
       "        s.src = paths[lib];\n",
       "        s.async = true;\n",
       "        s.onload = () => resolve(paths[lib]);\n",
       "        s.onerror = () => reject(`Error loading script: ${paths[lib]}`);\n",
       "        document.getElementsByTagName(\"head\")[0].appendChild(s);\n",
       "      });\n",
       "    }\n",
       "\n",
       "    function showError(err) {\n",
       "      outputDiv.innerHTML = `<div class=\"error\" style=\"color:red;\">${err}</div>`;\n",
       "      throw err;\n",
       "    }\n",
       "\n",
       "    function displayChart(vegaEmbed) {\n",
       "      vegaEmbed(outputDiv, spec, embedOpt)\n",
       "        .catch(err => showError(`Javascript Error: ${err.message}<br>This usually means there's a typo in your chart specification. See the javascript console for the full traceback.`));\n",
       "    }\n",
       "\n",
       "    if(typeof define === \"function\" && define.amd) {\n",
       "      requirejs.config({paths});\n",
       "      require([\"vega-embed\"], displayChart, err => showError(`Error loading script: ${err.message}`));\n",
       "    } else if (typeof vegaEmbed === \"function\") {\n",
       "      displayChart(vegaEmbed);\n",
       "    } else {\n",
       "      loadScript(\"vega\")\n",
       "        .then(() => loadScript(\"vega-lite\"))\n",
       "        .then(() => loadScript(\"vega-embed\"))\n",
       "        .catch(showError)\n",
       "        .then(() => displayChart(vegaEmbed));\n",
       "    }\n",
       "  })({\"config\": {\"view\": {\"continuousWidth\": 400, \"continuousHeight\": 300}}, \"layer\": [{\"layer\": [{\"mark\": {\"type\": \"point\", \"size\": 75}, \"encoding\": {\"tooltip\": [{\"type\": \"temporal\", \"field\": \"date\"}, {\"type\": \"quantitative\", \"field\": \"deathIncrease\"}, {\"type\": \"quantitative\", \"field\": \"sma7d\"}], \"x\": {\"type\": \"temporal\", \"field\": \"date\"}, \"y\": {\"type\": \"quantitative\", \"field\": \"deathIncrease\"}}, \"selection\": {\"selector018\": {\"type\": \"interval\", \"bind\": \"scales\", \"encodings\": [\"x\", \"y\"]}}}, {\"mark\": {\"type\": \"line\", \"color\": \"purple\"}, \"encoding\": {\"x\": {\"type\": \"temporal\", \"field\": \"date\"}, \"y\": {\"type\": \"quantitative\", \"field\": \"sma7d\"}}}]}, {\"mark\": {\"type\": \"rule\", \"color\": \"#aaa\"}, \"encoding\": {\"x\": {\"type\": \"temporal\", \"field\": \"date\"}}, \"transform\": [{\"filter\": {\"selection\": \"selector017\"}}]}, {\"mark\": \"circle\", \"encoding\": {\"opacity\": {\"condition\": {\"value\": 1, \"selection\": \"selector017\"}, \"value\": 0}, \"tooltip\": [{\"type\": \"temporal\", \"field\": \"date\"}, {\"type\": \"quantitative\", \"field\": \"deathIncrease\"}, {\"type\": \"quantitative\", \"field\": \"sma7d\"}], \"x\": {\"type\": \"temporal\", \"field\": \"date\"}, \"y\": {\"type\": \"quantitative\", \"field\": \"deathIncrease\"}}, \"selection\": {\"selector017\": {\"type\": \"single\", \"encodings\": [\"x\"], \"on\": \"mouseover\", \"nearest\": true, \"empty\": \"none\"}}}, {\"mark\": {\"type\": \"text\", \"align\": \"left\", \"dx\": 5, \"dy\": -5, \"stroke\": \"white\", \"strokeWidth\": 2}, \"encoding\": {\"text\": {\"type\": \"quantitative\", \"field\": \"deathIncrease\"}, \"tooltip\": [{\"type\": \"temporal\", \"field\": \"date\"}, {\"type\": \"quantitative\", \"field\": \"deathIncrease\"}, {\"type\": \"quantitative\", \"field\": \"sma7d\"}], \"x\": {\"type\": \"temporal\", \"field\": \"date\"}, \"y\": {\"type\": \"quantitative\", \"field\": \"deathIncrease\"}}, \"transform\": [{\"filter\": {\"selection\": \"selector017\"}}]}, {\"mark\": {\"type\": \"text\", \"align\": \"left\", \"dx\": 5, \"dy\": -5}, \"encoding\": {\"text\": {\"type\": \"quantitative\", \"field\": \"deathIncrease\"}, \"tooltip\": [{\"type\": \"temporal\", \"field\": \"date\"}, {\"type\": \"quantitative\", \"field\": \"deathIncrease\"}, {\"type\": \"quantitative\", \"field\": \"sma7d\"}], \"x\": {\"type\": \"temporal\", \"field\": \"date\"}, \"y\": {\"type\": \"quantitative\", \"field\": \"deathIncrease\"}}, \"transform\": [{\"filter\": {\"selection\": \"selector017\"}}]}], \"data\": {\"name\": \"data-2d81f3d2a833bc01802801b271cc78e5\"}, \"height\": 400, \"title\": \"Non Tri-State: deathIncrease\", \"width\": 500, \"$schema\": \"https://vega.github.io/schema/vega-lite/v4.8.1.json\", \"datasets\": {\"data-2d81f3d2a833bc01802801b271cc78e5\": [{\"date\": \"2020-11-14T00:00:00\", \"totalTestResultsIncrease\": 1477111.0, \"positiveIncrease\": 156848.0, \"death\": 190031.0, \"deathIncrease\": 1302.0, \"positiveRate\": 0.106, \"state\": \"Non Tri-State\", \"sma7d\": 1060.0}, {\"date\": \"2020-11-15T00:00:00\", \"totalTestResultsIncrease\": 1294483.0, \"positiveIncrease\": 138020.0, \"death\": 190691.0, \"deathIncrease\": 660.0, \"positiveRate\": 0.107, \"state\": \"Non Tri-State\", \"sma7d\": 1086.0}, {\"date\": \"2020-11-16T00:00:00\", \"totalTestResultsIncrease\": 1319511.0, \"positiveIncrease\": 138752.0, \"death\": 191238.0, \"deathIncrease\": 547.0, \"positiveRate\": 0.105, \"state\": \"Non Tri-State\", \"sma7d\": 1090.429}, {\"date\": \"2020-11-17T00:00:00\", \"totalTestResultsIncrease\": 1372878.0, \"positiveIncrease\": 147660.0, \"death\": 192720.0, \"deathIncrease\": 1482.0, \"positiveRate\": 0.108, \"state\": \"Non Tri-State\", \"sma7d\": 1117.143}, {\"date\": \"2020-11-18T00:00:00\", \"totalTestResultsIncrease\": 1375649.0, \"positiveIncrease\": 155653.0, \"death\": 194516.0, \"deathIncrease\": 1796.0, \"positiveRate\": 0.113, \"state\": \"Non Tri-State\", \"sma7d\": 1154.571}, {\"date\": \"2020-11-19T00:00:00\", \"totalTestResultsIncrease\": 1571645.0, \"positiveIncrease\": 174740.0, \"death\": 196449.0, \"deathIncrease\": 1933.0, \"positiveRate\": 0.111, \"state\": \"Non Tri-State\", \"sma7d\": 1280.286}, {\"date\": \"2020-11-20T00:00:00\", \"totalTestResultsIncrease\": 1657544.0, \"positiveIncrease\": 184711.0, \"death\": 198262.0, \"deathIncrease\": 1813.0, \"positiveRate\": 0.111, \"state\": \"Non Tri-State\", \"sma7d\": 1361.857}, {\"date\": \"2020-11-21T00:00:00\", \"totalTestResultsIncrease\": 1792754.0, \"positiveIncrease\": 172168.0, \"death\": 199748.0, \"deathIncrease\": 1486.0, \"positiveRate\": 0.096, \"state\": \"Non Tri-State\", \"sma7d\": 1388.143}, {\"date\": \"2020-11-22T00:00:00\", \"totalTestResultsIncrease\": 1509501.0, \"positiveIncrease\": 144012.0, \"death\": 200619.0, \"deathIncrease\": 871.0, \"positiveRate\": 0.095, \"state\": \"Non Tri-State\", \"sma7d\": 1418.286}, {\"date\": \"2020-11-23T00:00:00\", \"totalTestResultsIncrease\": 1396134.0, \"positiveIncrease\": 139025.0, \"death\": 201390.0, \"deathIncrease\": 771.0, \"positiveRate\": 0.1, \"state\": \"Non Tri-State\", \"sma7d\": 1450.286}, {\"date\": \"2020-11-24T00:00:00\", \"totalTestResultsIncrease\": 1587511.0, \"positiveIncrease\": 154696.0, \"death\": 203388.0, \"deathIncrease\": 1998.0, \"positiveRate\": 0.097, \"state\": \"Non Tri-State\", \"sma7d\": 1524.0}, {\"date\": \"2020-11-25T00:00:00\", \"totalTestResultsIncrease\": 1517420.0, \"positiveIncrease\": 174955.0, \"death\": 205515.0, \"deathIncrease\": 2127.0, \"positiveRate\": 0.115, \"state\": \"Non Tri-State\", \"sma7d\": 1571.286}, {\"date\": \"2020-11-26T00:00:00\", \"totalTestResultsIncrease\": 1109279.0, \"positiveIncrease\": 117303.0, \"death\": 206796.0, \"deathIncrease\": 1281.0, \"positiveRate\": 0.106, \"state\": \"Non Tri-State\", \"sma7d\": 1478.143}, {\"date\": \"2020-11-27T00:00:00\", \"totalTestResultsIncrease\": 1745100.0, \"positiveIncrease\": 181480.0, \"death\": 208097.0, \"deathIncrease\": 1301.0, \"positiveRate\": 0.104, \"state\": \"Non Tri-State\", \"sma7d\": 1405.0}, {\"date\": \"2020-11-28T00:00:00\", \"totalTestResultsIncrease\": 1353649.0, \"positiveIncrease\": 141319.0, \"death\": 209281.0, \"deathIncrease\": 1184.0, \"positiveRate\": 0.104, \"state\": \"Non Tri-State\", \"sma7d\": 1361.857}, {\"date\": \"2020-11-29T00:00:00\", \"totalTestResultsIncrease\": 1119422.0, \"positiveIncrease\": 125685.0, \"death\": 210033.0, \"deathIncrease\": 752.0, \"positiveRate\": 0.112, \"state\": \"Non Tri-State\", \"sma7d\": 1344.857}, {\"date\": \"2020-11-30T00:00:00\", \"totalTestResultsIncrease\": 1216637.0, \"positiveIncrease\": 133865.0, \"death\": 210937.0, \"deathIncrease\": 904.0, \"positiveRate\": 0.11, \"state\": \"Non Tri-State\", \"sma7d\": 1363.857}, {\"date\": \"2020-12-01T00:00:00\", \"totalTestResultsIncrease\": 1289294.0, \"positiveIncrease\": 164862.0, \"death\": 213264.0, \"deathIncrease\": 2327.0, \"positiveRate\": 0.128, \"state\": \"Non Tri-State\", \"sma7d\": 1410.857}, {\"date\": \"2020-12-02T00:00:00\", \"totalTestResultsIncrease\": 1278361.0, \"positiveIncrease\": 185229.0, \"death\": 215882.0, \"deathIncrease\": 2618.0, \"positiveRate\": 0.145, \"state\": \"Non Tri-State\", \"sma7d\": 1481.0}, {\"date\": \"2020-12-03T00:00:00\", \"totalTestResultsIncrease\": 1580851.0, \"positiveIncrease\": 194240.0, \"death\": 218557.0, \"deathIncrease\": 2675.0, \"positiveRate\": 0.123, \"state\": \"Non Tri-State\", \"sma7d\": 1680.143}, {\"date\": \"2020-12-04T00:00:00\", \"totalTestResultsIncrease\": 1641539.0, \"positiveIncrease\": 210720.0, \"death\": 220987.0, \"deathIncrease\": 2430.0, \"positiveRate\": 0.128, \"state\": \"Non Tri-State\", \"sma7d\": 1841.429}, {\"date\": \"2020-12-05T00:00:00\", \"totalTestResultsIncrease\": 1895993.0, \"positiveIncrease\": 200593.0, \"death\": 223344.0, \"deathIncrease\": 2357.0, \"positiveRate\": 0.106, \"state\": \"Non Tri-State\", \"sma7d\": 2009.0}, {\"date\": \"2020-12-06T00:00:00\", \"totalTestResultsIncrease\": 1394127.0, \"positiveIncrease\": 165464.0, \"death\": 224414.0, \"deathIncrease\": 1070.0, \"positiveRate\": 0.119, \"state\": \"Non Tri-State\", \"sma7d\": 2054.429}, {\"date\": \"2020-12-07T00:00:00\", \"totalTestResultsIncrease\": 1442398.0, \"positiveIncrease\": 161944.0, \"death\": 225535.0, \"deathIncrease\": 1121.0, \"positiveRate\": 0.112, \"state\": \"Non Tri-State\", \"sma7d\": 2085.429}, {\"date\": \"2020-12-08T00:00:00\", \"totalTestResultsIncrease\": 1407966.0, \"positiveIncrease\": 197887.0, \"death\": 228055.0, \"deathIncrease\": 2520.0, \"positiveRate\": 0.141, \"state\": \"Non Tri-State\", \"sma7d\": 2113.0}, {\"date\": \"2020-12-09T00:00:00\", \"totalTestResultsIncrease\": 1436194.0, \"positiveIncrease\": 196862.0, \"death\": 230963.0, \"deathIncrease\": 2908.0, \"positiveRate\": 0.137, \"state\": \"Non Tri-State\", \"sma7d\": 2154.429}, {\"date\": \"2020-12-10T00:00:00\", \"totalTestResultsIncrease\": 1607224.0, \"positiveIncrease\": 201222.0, \"death\": 233876.0, \"deathIncrease\": 2913.0, \"positiveRate\": 0.125, \"state\": \"Non Tri-State\", \"sma7d\": 2188.429}, {\"date\": \"2020-12-11T00:00:00\", \"totalTestResultsIncrease\": 1673578.0, \"positiveIncrease\": 216790.0, \"death\": 236446.0, \"deathIncrease\": 2570.0, \"positiveRate\": 0.13, \"state\": \"Non Tri-State\", \"sma7d\": 2208.429}, {\"date\": \"2020-12-12T00:00:00\", \"totalTestResultsIncrease\": 1558688.0, \"positiveIncrease\": 207107.0, \"death\": 238782.0, \"deathIncrease\": 2336.0, \"positiveRate\": 0.133, \"state\": \"Non Tri-State\", \"sma7d\": 2205.429}, {\"date\": \"2020-12-13T00:00:00\", \"totalTestResultsIncrease\": 1560202.0, \"positiveIncrease\": 171453.0, \"death\": 240147.0, \"deathIncrease\": 1365.0, \"positiveRate\": 0.11, \"state\": \"Non Tri-State\", \"sma7d\": 2247.571}, {\"date\": \"2020-12-14T00:00:00\", \"totalTestResultsIncrease\": 1689172.0, \"positiveIncrease\": 171393.0, \"death\": 241315.0, \"deathIncrease\": 1168.0, \"positiveRate\": 0.101, \"state\": \"Non Tri-State\", \"sma7d\": 2254.286}, {\"date\": \"2020-12-15T00:00:00\", \"totalTestResultsIncrease\": 1470367.0, \"positiveIncrease\": 173994.0, \"death\": 244035.0, \"deathIncrease\": 2720.0, \"positiveRate\": 0.118, \"state\": \"Non Tri-State\", \"sma7d\": 2282.857}, {\"date\": \"2020-12-16T00:00:00\", \"totalTestResultsIncrease\": 1519759.0, \"positiveIncrease\": 213675.0, \"death\": 247214.0, \"deathIncrease\": 3179.0, \"positiveRate\": 0.141, \"state\": \"Non Tri-State\", \"sma7d\": 2321.571}, {\"date\": \"2020-12-17T00:00:00\", \"totalTestResultsIncrease\": 1620525.0, \"positiveIncrease\": 222666.0, \"death\": 250407.0, \"deathIncrease\": 3193.0, \"positiveRate\": 0.137, \"state\": \"Non Tri-State\", \"sma7d\": 2361.571}, {\"date\": \"2020-12-18T00:00:00\", \"totalTestResultsIncrease\": 1761410.0, \"positiveIncrease\": 219973.0, \"death\": 253078.0, \"deathIncrease\": 2671.0, \"positiveRate\": 0.125, \"state\": \"Non Tri-State\", \"sma7d\": 2376.0}, {\"date\": \"2020-12-19T00:00:00\", \"totalTestResultsIncrease\": 1543158.0, \"positiveIncrease\": 188702.0, \"death\": 255622.0, \"deathIncrease\": 2544.0, \"positiveRate\": 0.122, \"state\": \"Non Tri-State\", \"sma7d\": 2405.714}, {\"date\": \"2020-12-20T00:00:00\", \"totalTestResultsIncrease\": 1589098.0, \"positiveIncrease\": 180885.0, \"death\": 257110.0, \"deathIncrease\": 1488.0, \"positiveRate\": 0.114, \"state\": \"Non Tri-State\", \"sma7d\": 2423.286}, {\"date\": \"2020-12-21T00:00:00\", \"totalTestResultsIncrease\": 1645569.0, \"positiveIncrease\": 161418.0, \"death\": 258360.0, \"deathIncrease\": 1250.0, \"positiveRate\": 0.098, \"state\": \"Non Tri-State\", \"sma7d\": 2435.0}, {\"date\": \"2020-12-22T00:00:00\", \"totalTestResultsIncrease\": 1495837.0, \"positiveIncrease\": 174060.0, \"death\": 261255.0, \"deathIncrease\": 2895.0, \"positiveRate\": 0.116, \"state\": \"Non Tri-State\", \"sma7d\": 2460.0}, {\"date\": \"2020-12-23T00:00:00\", \"totalTestResultsIncrease\": 1466059.0, \"positiveIncrease\": 202350.0, \"death\": 264295.0, \"deathIncrease\": 3040.0, \"positiveRate\": 0.138, \"state\": \"Non Tri-State\", \"sma7d\": 2440.143}, {\"date\": \"2020-12-24T00:00:00\", \"totalTestResultsIncrease\": 1614736.0, \"positiveIncrease\": 184315.0, \"death\": 266978.0, \"deathIncrease\": 2683.0, \"positiveRate\": 0.114, \"state\": \"Non Tri-State\", \"sma7d\": 2367.286}, {\"date\": \"2020-12-25T00:00:00\", \"totalTestResultsIncrease\": 1064580.0, \"positiveIncrease\": 107862.0, \"death\": 268354.0, \"deathIncrease\": 1376.0, \"positiveRate\": 0.101, \"state\": \"Non Tri-State\", \"sma7d\": 2182.286}, {\"date\": \"2020-12-26T00:00:00\", \"totalTestResultsIncrease\": 1916288.0, \"positiveIncrease\": 174689.0, \"death\": 269629.0, \"deathIncrease\": 1275.0, \"positiveRate\": 0.091, \"state\": \"Non Tri-State\", \"sma7d\": 2001.0}, {\"date\": \"2020-12-27T00:00:00\", \"totalTestResultsIncrease\": 1207146.0, \"positiveIncrease\": 143251.0, \"death\": 270899.0, \"deathIncrease\": 1270.0, \"positiveRate\": 0.119, \"state\": \"Non Tri-State\", \"sma7d\": 1969.857}, {\"date\": \"2020-12-28T00:00:00\", \"totalTestResultsIncrease\": 1081347.0, \"positiveIncrease\": 140582.0, \"death\": 272138.0, \"deathIncrease\": 1239.0, \"positiveRate\": 0.13, \"state\": \"Non Tri-State\", \"sma7d\": 1968.286}, {\"date\": \"2020-12-29T00:00:00\", \"totalTestResultsIncrease\": 1035536.0, \"positiveIncrease\": 179332.0, \"death\": 275164.0, \"deathIncrease\": 3026.0, \"positiveRate\": 0.173, \"state\": \"Non Tri-State\", \"sma7d\": 1987.0}, {\"date\": \"2020-12-30T00:00:00\", \"totalTestResultsIncrease\": 1359279.0, \"positiveIncrease\": 205911.0, \"death\": 278703.0, \"deathIncrease\": 3539.0, \"positiveRate\": 0.151, \"state\": \"Non Tri-State\", \"sma7d\": 2058.286}, {\"date\": \"2020-12-31T00:00:00\", \"totalTestResultsIncrease\": 1471061.0, \"positiveIncrease\": 199093.0, \"death\": 281734.0, \"deathIncrease\": 3031.0, \"positiveRate\": 0.135, \"state\": \"Non Tri-State\", \"sma7d\": 2108.0}, {\"date\": \"2021-01-01T00:00:00\", \"totalTestResultsIncrease\": 1063405.0, \"positiveIncrease\": 157854.0, \"death\": 284044.0, \"deathIncrease\": 2310.0, \"positiveRate\": 0.148, \"state\": \"Non Tri-State\", \"sma7d\": 2241.429}, {\"date\": \"2021-01-02T00:00:00\", \"totalTestResultsIncrease\": 1789307.0, \"positiveIncrease\": 253683.0, \"death\": 286179.0, \"deathIncrease\": 2135.0, \"positiveRate\": 0.142, \"state\": \"Non Tri-State\", \"sma7d\": 2364.286}, {\"date\": \"2021-01-03T00:00:00\", \"totalTestResultsIncrease\": 1255016.0, \"positiveIncrease\": 192688.0, \"death\": 287480.0, \"deathIncrease\": 1301.0, \"positiveRate\": 0.154, \"state\": \"Non Tri-State\", \"sma7d\": 2368.714}, {\"date\": \"2021-01-04T00:00:00\", \"totalTestResultsIncrease\": 1416436.0, \"positiveIncrease\": 159666.0, \"death\": 288748.0, \"deathIncrease\": 1268.0, \"positiveRate\": 0.113, \"state\": \"Non Tri-State\", \"sma7d\": 2372.857}, {\"date\": \"2021-01-05T00:00:00\", \"totalTestResultsIncrease\": 1213003.0, \"positiveIncrease\": 194144.0, \"death\": 291954.0, \"deathIncrease\": 3206.0, \"positiveRate\": 0.16, \"state\": \"Non Tri-State\", \"sma7d\": 2398.571}, {\"date\": \"2021-01-06T00:00:00\", \"totalTestResultsIncrease\": 1346240.0, \"positiveIncrease\": 222804.0, \"death\": 295478.0, \"deathIncrease\": 3524.0, \"positiveRate\": 0.166, \"state\": \"Non Tri-State\", \"sma7d\": 2396.429}, {\"date\": \"2021-01-07T00:00:00\", \"totalTestResultsIncrease\": 1615831.0, \"positiveIncrease\": 237718.0, \"death\": 299132.0, \"deathIncrease\": 3654.0, \"positiveRate\": 0.147, \"state\": \"Non Tri-State\", \"sma7d\": 2485.429}]}}, {\"mode\": \"vega-lite\"});\n",
       "</script>"
      ],
      "text/plain": [
       "alt.LayerChart(...)"
      ]
     },
     "execution_count": 17,
     "metadata": {},
     "output_type": "execute_result"
    }
   ],
   "source": [
    "create_plot(non_tristate, 'deathIncrease')"
   ]
  }
 ],
 "metadata": {
  "kernelspec": {
   "display_name": "Python 3",
   "language": "python",
   "name": "python3"
  },
  "language_info": {
   "codemirror_mode": {
    "name": "ipython",
    "version": 3
   },
   "file_extension": ".py",
   "mimetype": "text/x-python",
   "name": "python",
   "nbconvert_exporter": "python",
   "pygments_lexer": "ipython3",
   "version": "3.8.6"
  },
  "papermill": {
   "duration": 9.740045,
   "end_time": "2021-01-08T09:33:52.620631",
   "environment_variables": {},
   "exception": null,
   "input_path": "2020-07-19-covid-plots.ipynb",
   "output_path": "2020-07-19-covid-plots.ipynb",
   "parameters": {},
   "start_time": "2021-01-08T09:33:42.880586",
   "version": "2.1.2"
  }
 },
 "nbformat": 4,
 "nbformat_minor": 4
}