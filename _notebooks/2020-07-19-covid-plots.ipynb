{
 "cells": [
  {
   "cell_type": "markdown",
   "metadata": {
    "papermill": {
     "duration": 0.014972,
     "end_time": "2020-10-12T22:34:04.785588",
     "exception": false,
     "start_time": "2020-10-12T22:34:04.770616",
     "status": "completed"
    },
    "tags": []
   },
   "source": [
    "# \"COVID-19 plots\"\n",
    "> \"Interactive plots with daily updates\"\n",
    "\n",
    "- author: bbernst\n",
    "- toc: true\n",
    "- branch: master\n",
    "- badges: true\n",
    "- comments: true\n",
    "- categories: [healthcare, covid]\n",
    "- image: images/covid_plots/covid_mask.png\n",
    "- hide: false\n",
    "- search_exclude: true"
   ]
  },
  {
   "cell_type": "markdown",
   "metadata": {
    "papermill": {
     "duration": 0.014802,
     "end_time": "2020-10-12T22:34:04.816149",
     "exception": false,
     "start_time": "2020-10-12T22:34:04.801347",
     "status": "completed"
    },
    "tags": []
   },
   "source": [
    "I wanted to make a simple COVID-19 post to accomplish two main goals:\n",
    "1. Easily see the specific plots I'm interested in\n",
    "1. Update these plots every day, automatically\n",
    "\n",
    "Enter [fastpages](https://github.com/fastai/fastpages) and [github actions](https://github.com/features/actions). I'd been meaning to set up a blog with fastpages for a while and thought this would be a good reason to try it out. The documentation was great and I was able to set up automatic updates by using https://covid19dashboards.com/ as a guide.\n",
    "\n",
    "The data for this post comes from https://covidtracking.com/, which updates by 5pm each day, and I have my dashboard update at 6:30pm. For each geography -- so far that's the US, New York, and Non Tri-State -- I look at daily positive cases, positive rate, and deaths. Be sure to hover around on each of the plots, they have helpful interactive tooltips to make reading the data more intuitive."
   ]
  },
  {
   "cell_type": "code",
   "execution_count": 1,
   "metadata": {
    "execution": {
     "iopub.execute_input": "2020-10-12T22:34:04.848679Z",
     "iopub.status.busy": "2020-10-12T22:34:04.847983Z",
     "iopub.status.idle": "2020-10-12T22:34:05.313800Z",
     "shell.execute_reply": "2020-10-12T22:34:05.314302Z"
    },
    "papermill": {
     "duration": 0.485602,
     "end_time": "2020-10-12T22:34:05.315377",
     "exception": false,
     "start_time": "2020-10-12T22:34:04.829775",
     "status": "completed"
    },
    "tags": []
   },
   "outputs": [],
   "source": [
    "#collapse\n",
    "from typing import Callable, Literal\n",
    "import pandas as pd\n",
    "import altair as alt"
   ]
  },
  {
   "cell_type": "code",
   "execution_count": 2,
   "metadata": {
    "execution": {
     "iopub.execute_input": "2020-10-12T22:34:05.346494Z",
     "iopub.status.busy": "2020-10-12T22:34:05.345858Z",
     "iopub.status.idle": "2020-10-12T22:34:05.369369Z",
     "shell.execute_reply": "2020-10-12T22:34:05.368733Z"
    },
    "papermill": {
     "duration": 0.040436,
     "end_time": "2020-10-12T22:34:05.369512",
     "exception": false,
     "start_time": "2020-10-12T22:34:05.329076",
     "status": "completed"
    },
    "tags": []
   },
   "outputs": [
    {
     "name": "stdout",
     "output_type": "stream",
     "text": [
      "Last updated at (ET): 2020-10-12 06:34:05 PM\n"
     ]
    }
   ],
   "source": [
    "#hide_input\n",
    "current_utc = pd.Timestamp.now(tz='America/New_York').strftime('%Y-%m-%d %I:%M:%S %p')\n",
    "print(f\"Last updated at (ET): {current_utc}\")"
   ]
  },
  {
   "cell_type": "markdown",
   "metadata": {
    "papermill": {
     "duration": 0.013709,
     "end_time": "2020-10-12T22:34:05.405915",
     "exception": false,
     "start_time": "2020-10-12T22:34:05.392206",
     "status": "completed"
    },
    "tags": []
   },
   "source": [
    "# Data"
   ]
  },
  {
   "cell_type": "code",
   "execution_count": 3,
   "metadata": {
    "execution": {
     "iopub.execute_input": "2020-10-12T22:34:05.438009Z",
     "iopub.status.busy": "2020-10-12T22:34:05.437416Z",
     "iopub.status.idle": "2020-10-12T22:34:07.896512Z",
     "shell.execute_reply": "2020-10-12T22:34:07.895552Z"
    },
    "papermill": {
     "duration": 2.477005,
     "end_time": "2020-10-12T22:34:07.896691",
     "exception": false,
     "start_time": "2020-10-12T22:34:05.419686",
     "status": "completed"
    },
    "tags": []
   },
   "outputs": [],
   "source": [
    "df = pd.read_csv('https://covidtracking.com/api/states/daily.csv')"
   ]
  },
  {
   "cell_type": "markdown",
   "metadata": {
    "papermill": {
     "duration": 0.012377,
     "end_time": "2020-10-12T22:34:07.922297",
     "exception": false,
     "start_time": "2020-10-12T22:34:07.909920",
     "status": "completed"
    },
    "tags": []
   },
   "source": [
    "# Helpers"
   ]
  },
  {
   "cell_type": "code",
   "execution_count": 4,
   "metadata": {
    "execution": {
     "iopub.execute_input": "2020-10-12T22:34:07.954220Z",
     "iopub.status.busy": "2020-10-12T22:34:07.953657Z",
     "iopub.status.idle": "2020-10-12T22:34:07.956021Z",
     "shell.execute_reply": "2020-10-12T22:34:07.955524Z"
    },
    "papermill": {
     "duration": 0.020646,
     "end_time": "2020-10-12T22:34:07.956139",
     "exception": false,
     "start_time": "2020-10-12T22:34:07.935493",
     "status": "completed"
    },
    "tags": []
   },
   "outputs": [],
   "source": [
    "#collapse\n",
    "def create_df(df: pd.DataFrame, \n",
    "              filter_f: Callable, \n",
    "              state_name: str):\n",
    "    out_df = (\n",
    "     df\n",
    "     .assign(date = lambda d: pd.to_datetime(d['date'], format='%Y%m%d'))\n",
    "     .loc[filter_f, :]\n",
    "     .groupby('date')\n",
    "     .apply(lambda d: pd.Series(dict(\n",
    "         totalTestResultsIncrease = d['totalTestResultsIncrease'].sum(),\n",
    "         positiveIncrease = d['positiveIncrease'].sum(),\n",
    "         death = d['death'].sum(),\n",
    "         deathIncrease = d['deathIncrease'].sum()\n",
    "     )))\n",
    "     .reset_index()\n",
    "     .assign(positiveRate = lambda d: round(d['positiveIncrease'] / d['totalTestResultsIncrease'], 3))\n",
    "     .sort_values('date', ascending=True)\n",
    "     .assign(state = state_name)\n",
    "     .reset_index(drop=True)\n",
    "    )\n",
    "    \n",
    "    return out_df"
   ]
  },
  {
   "cell_type": "code",
   "execution_count": 5,
   "metadata": {
    "execution": {
     "iopub.execute_input": "2020-10-12T22:34:07.997590Z",
     "iopub.status.busy": "2020-10-12T22:34:07.996990Z",
     "iopub.status.idle": "2020-10-12T22:34:07.999161Z",
     "shell.execute_reply": "2020-10-12T22:34:07.999616Z"
    },
    "papermill": {
     "duration": 0.031026,
     "end_time": "2020-10-12T22:34:07.999750",
     "exception": false,
     "start_time": "2020-10-12T22:34:07.968724",
     "status": "completed"
    },
    "tags": []
   },
   "outputs": [],
   "source": [
    "#collapse\n",
    "def create_plot(df: pd.DataFrame, \n",
    "                column: Literal['totalTestResultsIncrease', \n",
    "                                'positiveIncrease', \n",
    "                                'death',\n",
    "                                'deathIncrease', \n",
    "                                'positiveRate'],\n",
    "                period: int = 7*8):\n",
    "    df = (\n",
    "     df\n",
    "     .assign(sma7d = lambda d: d[column].rolling(window=7).mean().round(3))\n",
    "     .loc[lambda d: d['date'] >= pd.to_datetime('today') - period * pd.Timedelta('1 days'), :]\n",
    "     .reset_index(drop=True)\n",
    "    )\n",
    "    the_state = df['state'][0]\n",
    "    label = alt.selection_single(\n",
    "        encodings=['x'], on='mouseover', nearest=True, empty='none')\n",
    "    \n",
    "    base = alt.Chart().mark_point(size=75).encode(\n",
    "        x='date:T',\n",
    "        y=f'{column}:Q',\n",
    "        tooltip=['date', f'{column}:Q', 'sma7d:Q']\n",
    "    )\n",
    "\n",
    "    sma = alt.Chart().mark_line(color='purple').encode(\n",
    "        x='date:T',\n",
    "        y='sma7d:Q'\n",
    "    )\n",
    "\n",
    "    layers = alt.layer(\n",
    "        base + sma,\n",
    "\n",
    "        # add a rule mark to serve as a guide line\n",
    "        alt.Chart().mark_rule(color='#aaa').encode(\n",
    "            x='date:T'\n",
    "        ).transform_filter(label),\n",
    "\n",
    "        # add circle marks for selected time points, hide unselected points\n",
    "        base.mark_circle().encode(\n",
    "            opacity=alt.condition(label, alt.value(1), alt.value(0))\n",
    "        ).add_selection(label),\n",
    "\n",
    "        # add white stroked text to provide a legible background for labels\n",
    "        base.mark_text(align='left', dx=5, dy=-5, stroke='white', strokeWidth=2).encode(\n",
    "            text=f'{column}:Q'\n",
    "        ).transform_filter(label),\n",
    "\n",
    "        # add text labels\n",
    "        base.mark_text(align='left', dx=5, dy=-5).encode(\n",
    "            text=f'{column}:Q'\n",
    "        ).transform_filter(label),\n",
    "        \n",
    "        data=df\n",
    "    ).properties(\n",
    "        title=f'{the_state}: {column}',\n",
    "        width=500,\n",
    "        height=400\n",
    "    )\n",
    "    \n",
    "    return layers.interactive()"
   ]
  },
  {
   "cell_type": "markdown",
   "metadata": {
    "papermill": {
     "duration": 0.013967,
     "end_time": "2020-10-12T22:34:08.026814",
     "exception": false,
     "start_time": "2020-10-12T22:34:08.012847",
     "status": "completed"
    },
    "tags": []
   },
   "source": [
    "# Plots"
   ]
  },
  {
   "cell_type": "markdown",
   "metadata": {
    "papermill": {
     "duration": 0.013027,
     "end_time": "2020-10-12T22:34:08.052708",
     "exception": false,
     "start_time": "2020-10-12T22:34:08.039681",
     "status": "completed"
    },
    "tags": []
   },
   "source": [
    "## US"
   ]
  },
  {
   "cell_type": "code",
   "execution_count": 6,
   "metadata": {
    "execution": {
     "iopub.execute_input": "2020-10-12T22:34:08.082576Z",
     "iopub.status.busy": "2020-10-12T22:34:08.082021Z",
     "iopub.status.idle": "2020-10-12T22:34:08.405845Z",
     "shell.execute_reply": "2020-10-12T22:34:08.405345Z"
    },
    "papermill": {
     "duration": 0.340375,
     "end_time": "2020-10-12T22:34:08.405991",
     "exception": false,
     "start_time": "2020-10-12T22:34:08.065616",
     "status": "completed"
    },
    "tags": []
   },
   "outputs": [],
   "source": [
    "us = create_df(df, lambda d: d.index > 0, 'US')"
   ]
  },
  {
   "cell_type": "code",
   "execution_count": 7,
   "metadata": {
    "execution": {
     "iopub.execute_input": "2020-10-12T22:34:08.453065Z",
     "iopub.status.busy": "2020-10-12T22:34:08.447611Z",
     "iopub.status.idle": "2020-10-12T22:34:08.542730Z",
     "shell.execute_reply": "2020-10-12T22:34:08.543193Z"
    },
    "papermill": {
     "duration": 0.122474,
     "end_time": "2020-10-12T22:34:08.543372",
     "exception": false,
     "start_time": "2020-10-12T22:34:08.420898",
     "status": "completed"
    },
    "tags": []
   },
   "outputs": [
    {
     "data": {
      "text/html": [
       "\n",
       "<div id=\"altair-viz-050d76c2b96640df81078751e273e6fa\"></div>\n",
       "<script type=\"text/javascript\">\n",
       "  (function(spec, embedOpt){\n",
       "    let outputDiv = document.currentScript.previousElementSibling;\n",
       "    if (outputDiv.id !== \"altair-viz-050d76c2b96640df81078751e273e6fa\") {\n",
       "      outputDiv = document.getElementById(\"altair-viz-050d76c2b96640df81078751e273e6fa\");\n",
       "    }\n",
       "    const paths = {\n",
       "      \"vega\": \"https://cdn.jsdelivr.net/npm//vega@5?noext\",\n",
       "      \"vega-lib\": \"https://cdn.jsdelivr.net/npm//vega-lib?noext\",\n",
       "      \"vega-lite\": \"https://cdn.jsdelivr.net/npm//vega-lite@4.8.1?noext\",\n",
       "      \"vega-embed\": \"https://cdn.jsdelivr.net/npm//vega-embed@6?noext\",\n",
       "    };\n",
       "\n",
       "    function loadScript(lib) {\n",
       "      return new Promise(function(resolve, reject) {\n",
       "        var s = document.createElement('script');\n",
       "        s.src = paths[lib];\n",
       "        s.async = true;\n",
       "        s.onload = () => resolve(paths[lib]);\n",
       "        s.onerror = () => reject(`Error loading script: ${paths[lib]}`);\n",
       "        document.getElementsByTagName(\"head\")[0].appendChild(s);\n",
       "      });\n",
       "    }\n",
       "\n",
       "    function showError(err) {\n",
       "      outputDiv.innerHTML = `<div class=\"error\" style=\"color:red;\">${err}</div>`;\n",
       "      throw err;\n",
       "    }\n",
       "\n",
       "    function displayChart(vegaEmbed) {\n",
       "      vegaEmbed(outputDiv, spec, embedOpt)\n",
       "        .catch(err => showError(`Javascript Error: ${err.message}<br>This usually means there's a typo in your chart specification. See the javascript console for the full traceback.`));\n",
       "    }\n",
       "\n",
       "    if(typeof define === \"function\" && define.amd) {\n",
       "      requirejs.config({paths});\n",
       "      require([\"vega-embed\"], displayChart, err => showError(`Error loading script: ${err.message}`));\n",
       "    } else if (typeof vegaEmbed === \"function\") {\n",
       "      displayChart(vegaEmbed);\n",
       "    } else {\n",
       "      loadScript(\"vega\")\n",
       "        .then(() => loadScript(\"vega-lite\"))\n",
       "        .then(() => loadScript(\"vega-embed\"))\n",
       "        .catch(showError)\n",
       "        .then(() => displayChart(vegaEmbed));\n",
       "    }\n",
       "  })({\"config\": {\"view\": {\"continuousWidth\": 400, \"continuousHeight\": 300}}, \"layer\": [{\"layer\": [{\"mark\": {\"type\": \"point\", \"size\": 75}, \"encoding\": {\"tooltip\": [{\"type\": \"temporal\", \"field\": \"date\"}, {\"type\": \"quantitative\", \"field\": \"positiveIncrease\"}, {\"type\": \"quantitative\", \"field\": \"sma7d\"}], \"x\": {\"type\": \"temporal\", \"field\": \"date\"}, \"y\": {\"type\": \"quantitative\", \"field\": \"positiveIncrease\"}}, \"selection\": {\"selector002\": {\"type\": \"interval\", \"bind\": \"scales\", \"encodings\": [\"x\", \"y\"]}}}, {\"mark\": {\"type\": \"line\", \"color\": \"purple\"}, \"encoding\": {\"x\": {\"type\": \"temporal\", \"field\": \"date\"}, \"y\": {\"type\": \"quantitative\", \"field\": \"sma7d\"}}}]}, {\"mark\": {\"type\": \"rule\", \"color\": \"#aaa\"}, \"encoding\": {\"x\": {\"type\": \"temporal\", \"field\": \"date\"}}, \"transform\": [{\"filter\": {\"selection\": \"selector001\"}}]}, {\"mark\": \"circle\", \"encoding\": {\"opacity\": {\"condition\": {\"value\": 1, \"selection\": \"selector001\"}, \"value\": 0}, \"tooltip\": [{\"type\": \"temporal\", \"field\": \"date\"}, {\"type\": \"quantitative\", \"field\": \"positiveIncrease\"}, {\"type\": \"quantitative\", \"field\": \"sma7d\"}], \"x\": {\"type\": \"temporal\", \"field\": \"date\"}, \"y\": {\"type\": \"quantitative\", \"field\": \"positiveIncrease\"}}, \"selection\": {\"selector001\": {\"type\": \"single\", \"encodings\": [\"x\"], \"on\": \"mouseover\", \"nearest\": true, \"empty\": \"none\"}}}, {\"mark\": {\"type\": \"text\", \"align\": \"left\", \"dx\": 5, \"dy\": -5, \"stroke\": \"white\", \"strokeWidth\": 2}, \"encoding\": {\"text\": {\"type\": \"quantitative\", \"field\": \"positiveIncrease\"}, \"tooltip\": [{\"type\": \"temporal\", \"field\": \"date\"}, {\"type\": \"quantitative\", \"field\": \"positiveIncrease\"}, {\"type\": \"quantitative\", \"field\": \"sma7d\"}], \"x\": {\"type\": \"temporal\", \"field\": \"date\"}, \"y\": {\"type\": \"quantitative\", \"field\": \"positiveIncrease\"}}, \"transform\": [{\"filter\": {\"selection\": \"selector001\"}}]}, {\"mark\": {\"type\": \"text\", \"align\": \"left\", \"dx\": 5, \"dy\": -5}, \"encoding\": {\"text\": {\"type\": \"quantitative\", \"field\": \"positiveIncrease\"}, \"tooltip\": [{\"type\": \"temporal\", \"field\": \"date\"}, {\"type\": \"quantitative\", \"field\": \"positiveIncrease\"}, {\"type\": \"quantitative\", \"field\": \"sma7d\"}], \"x\": {\"type\": \"temporal\", \"field\": \"date\"}, \"y\": {\"type\": \"quantitative\", \"field\": \"positiveIncrease\"}}, \"transform\": [{\"filter\": {\"selection\": \"selector001\"}}]}], \"data\": {\"name\": \"data-a9370c7a1765991e1f8b07d2d950c938\"}, \"height\": 400, \"title\": \"US: positiveIncrease\", \"width\": 500, \"$schema\": \"https://vega.github.io/schema/vega-lite/v4.8.1.json\", \"datasets\": {\"data-a9370c7a1765991e1f8b07d2d950c938\": [{\"date\": \"2020-08-18T00:00:00\", \"totalTestResultsIncrease\": 677615.0, \"positiveIncrease\": 40795.0, \"death\": 163537.0, \"deathIncrease\": 1196.0, \"positiveRate\": 0.06, \"state\": \"US\", \"sma7d\": 48691.429}, {\"date\": \"2020-08-19T00:00:00\", \"totalTestResultsIncrease\": 705215.0, \"positiveIncrease\": 44955.0, \"death\": 164957.0, \"deathIncrease\": 1420.0, \"positiveRate\": 0.064, \"state\": \"US\", \"sma7d\": 47094.429}, {\"date\": \"2020-08-20T00:00:00\", \"totalTestResultsIncrease\": 730608.0, \"positiveIncrease\": 43758.0, \"death\": 166091.0, \"deathIncrease\": 1134.0, \"positiveRate\": 0.06, \"state\": \"US\", \"sma7d\": 45951.429}, {\"date\": \"2020-08-21T00:00:00\", \"totalTestResultsIncrease\": 791213.0, \"positiveIncrease\": 46561.0, \"death\": 167214.0, \"deathIncrease\": 1123.0, \"positiveRate\": 0.059, \"state\": \"US\", \"sma7d\": 44655.0}, {\"date\": \"2020-08-22T00:00:00\", \"totalTestResultsIncrease\": 795601.0, \"positiveIncrease\": 46236.0, \"death\": 168243.0, \"deathIncrease\": 1029.0, \"positiveRate\": 0.058, \"state\": \"US\", \"sma7d\": 43238.857}, {\"date\": \"2020-08-23T00:00:00\", \"totalTestResultsIncrease\": 658496.0, \"positiveIncrease\": 37566.0, \"death\": 168815.0, \"deathIncrease\": 572.0, \"positiveRate\": 0.057, \"state\": \"US\", \"sma7d\": 42535.857}, {\"date\": \"2020-08-24T00:00:00\", \"totalTestResultsIncrease\": 706152.0, \"positiveIncrease\": 34643.0, \"death\": 169158.0, \"deathIncrease\": 343.0, \"positiveRate\": 0.049, \"state\": \"US\", \"sma7d\": 42073.429}, {\"date\": \"2020-08-25T00:00:00\", \"totalTestResultsIncrease\": 669714.0, \"positiveIncrease\": 36379.0, \"death\": 170305.0, \"deathIncrease\": 1147.0, \"positiveRate\": 0.054, \"state\": \"US\", \"sma7d\": 41442.571}, {\"date\": \"2020-08-26T00:00:00\", \"totalTestResultsIncrease\": 680144.0, \"positiveIncrease\": 44053.0, \"death\": 171603.0, \"deathIncrease\": 1298.0, \"positiveRate\": 0.065, \"state\": \"US\", \"sma7d\": 41313.714}, {\"date\": \"2020-08-27T00:00:00\", \"totalTestResultsIncrease\": 795295.0, \"positiveIncrease\": 43984.0, \"death\": 172732.0, \"deathIncrease\": 1129.0, \"positiveRate\": 0.055, \"state\": \"US\", \"sma7d\": 41346.0}, {\"date\": \"2020-08-28T00:00:00\", \"totalTestResultsIncrease\": 823828.0, \"positiveIncrease\": 46548.0, \"death\": 173756.0, \"deathIncrease\": 1024.0, \"positiveRate\": 0.057, \"state\": \"US\", \"sma7d\": 41344.143}, {\"date\": \"2020-08-29T00:00:00\", \"totalTestResultsIncrease\": 819828.0, \"positiveIncrease\": 44501.0, \"death\": 174771.0, \"deathIncrease\": 1015.0, \"positiveRate\": 0.054, \"state\": \"US\", \"sma7d\": 41096.286}, {\"date\": \"2020-08-30T00:00:00\", \"totalTestResultsIncrease\": 778906.0, \"positiveIncrease\": 39501.0, \"death\": 175246.0, \"deathIncrease\": 475.0, \"positiveRate\": 0.051, \"state\": \"US\", \"sma7d\": 41372.714}, {\"date\": \"2020-08-31T00:00:00\", \"totalTestResultsIncrease\": 709021.0, \"positiveIncrease\": 31406.0, \"death\": 175612.0, \"deathIncrease\": 366.0, \"positiveRate\": 0.044, \"state\": \"US\", \"sma7d\": 40910.286}, {\"date\": \"2020-09-01T00:00:00\", \"totalTestResultsIncrease\": 735567.0, \"positiveIncrease\": 42433.0, \"death\": 176639.0, \"deathIncrease\": 1027.0, \"positiveRate\": 0.058, \"state\": \"US\", \"sma7d\": 41775.143}, {\"date\": \"2020-09-02T00:00:00\", \"totalTestResultsIncrease\": 684407.0, \"positiveIncrease\": 30603.0, \"death\": 177671.0, \"deathIncrease\": 1032.0, \"positiveRate\": 0.045, \"state\": \"US\", \"sma7d\": 39853.714}, {\"date\": \"2020-09-03T00:00:00\", \"totalTestResultsIncrease\": 802498.0, \"positiveIncrease\": 44714.0, \"death\": 178741.0, \"deathIncrease\": 1070.0, \"positiveRate\": 0.056, \"state\": \"US\", \"sma7d\": 39958.0}, {\"date\": \"2020-09-04T00:00:00\", \"totalTestResultsIncrease\": 954666.0, \"positiveIncrease\": 51591.0, \"death\": 179739.0, \"deathIncrease\": 998.0, \"positiveRate\": 0.054, \"state\": \"US\", \"sma7d\": 40678.429}, {\"date\": \"2020-09-05T00:00:00\", \"totalTestResultsIncrease\": 883097.0, \"positiveIncrease\": 44905.0, \"death\": 180657.0, \"deathIncrease\": 918.0, \"positiveRate\": 0.051, \"state\": \"US\", \"sma7d\": 40736.143}, {\"date\": \"2020-09-06T00:00:00\", \"totalTestResultsIncrease\": 785254.0, \"positiveIncrease\": 33117.0, \"death\": 181106.0, \"deathIncrease\": 449.0, \"positiveRate\": 0.042, \"state\": \"US\", \"sma7d\": 39824.143}, {\"date\": \"2020-09-07T00:00:00\", \"totalTestResultsIncrease\": 618579.0, \"positiveIncrease\": 28682.0, \"death\": 181331.0, \"deathIncrease\": 225.0, \"positiveRate\": 0.046, \"state\": \"US\", \"sma7d\": 39435.0}, {\"date\": \"2020-09-08T00:00:00\", \"totalTestResultsIncrease\": 542885.0, \"positiveIncrease\": 22223.0, \"death\": 181689.0, \"deathIncrease\": 358.0, \"positiveRate\": 0.041, \"state\": \"US\", \"sma7d\": 36547.857}, {\"date\": \"2020-09-09T00:00:00\", \"totalTestResultsIncrease\": 629649.0, \"positiveIncrease\": 31114.0, \"death\": 182773.0, \"deathIncrease\": 1084.0, \"positiveRate\": 0.049, \"state\": \"US\", \"sma7d\": 36620.857}, {\"date\": \"2020-09-10T00:00:00\", \"totalTestResultsIncrease\": 698008.0, \"positiveIncrease\": 37581.0, \"death\": 183943.0, \"deathIncrease\": 1170.0, \"positiveRate\": 0.054, \"state\": \"US\", \"sma7d\": 35601.857}, {\"date\": \"2020-09-11T00:00:00\", \"totalTestResultsIncrease\": 834688.0, \"positiveIncrease\": 44927.0, \"death\": 184961.0, \"deathIncrease\": 1018.0, \"positiveRate\": 0.054, \"state\": \"US\", \"sma7d\": 34649.857}, {\"date\": \"2020-09-12T00:00:00\", \"totalTestResultsIncrease\": 907846.0, \"positiveIncrease\": 42090.0, \"death\": 185771.0, \"deathIncrease\": 810.0, \"positiveRate\": 0.046, \"state\": \"US\", \"sma7d\": 34247.714}, {\"date\": \"2020-09-13T00:00:00\", \"totalTestResultsIncrease\": 733621.0, \"positiveIncrease\": 34453.0, \"death\": 186161.0, \"deathIncrease\": 390.0, \"positiveRate\": 0.047, \"state\": \"US\", \"sma7d\": 34438.571}, {\"date\": \"2020-09-14T00:00:00\", \"totalTestResultsIncrease\": 451333.0, \"positiveIncrease\": 33864.0, \"death\": 186565.0, \"deathIncrease\": 404.0, \"positiveRate\": 0.075, \"state\": \"US\", \"sma7d\": 35178.857}, {\"date\": \"2020-09-15T00:00:00\", \"totalTestResultsIncrease\": 730409.0, \"positiveIncrease\": 35445.0, \"death\": 187596.0, \"deathIncrease\": 1031.0, \"positiveRate\": 0.049, \"state\": \"US\", \"sma7d\": 37067.714}, {\"date\": \"2020-09-16T00:00:00\", \"totalTestResultsIncrease\": 731850.0, \"positiveIncrease\": 40021.0, \"death\": 188796.0, \"deathIncrease\": 1200.0, \"positiveRate\": 0.055, \"state\": \"US\", \"sma7d\": 38340.143}, {\"date\": \"2020-09-17T00:00:00\", \"totalTestResultsIncrease\": 850502.0, \"positiveIncrease\": 43558.0, \"death\": 189659.0, \"deathIncrease\": 863.0, \"positiveRate\": 0.051, \"state\": \"US\", \"sma7d\": 39194.0}, {\"date\": \"2020-09-18T00:00:00\", \"totalTestResultsIncrease\": 990369.0, \"positiveIncrease\": 47486.0, \"death\": 190560.0, \"deathIncrease\": 901.0, \"positiveRate\": 0.048, \"state\": \"US\", \"sma7d\": 39559.571}, {\"date\": \"2020-09-19T00:00:00\", \"totalTestResultsIncrease\": 1066766.0, \"positiveIncrease\": 45564.0, \"death\": 191300.0, \"deathIncrease\": 740.0, \"positiveRate\": 0.043, \"state\": \"US\", \"sma7d\": 40055.857}, {\"date\": \"2020-09-20T00:00:00\", \"totalTestResultsIncrease\": 917564.0, \"positiveIncrease\": 36295.0, \"death\": 191627.0, \"deathIncrease\": 327.0, \"positiveRate\": 0.04, \"state\": \"US\", \"sma7d\": 40319.0}, {\"date\": \"2020-09-21T00:00:00\", \"totalTestResultsIncrease\": 729336.0, \"positiveIncrease\": 39472.0, \"death\": 191914.0, \"deathIncrease\": 287.0, \"positiveRate\": 0.054, \"state\": \"US\", \"sma7d\": 41120.143}, {\"date\": \"2020-09-22T00:00:00\", \"totalTestResultsIncrease\": 783814.0, \"positiveIncrease\": 49439.0, \"death\": 192768.0, \"deathIncrease\": 854.0, \"positiveRate\": 0.063, \"state\": \"US\", \"sma7d\": 43119.286}, {\"date\": \"2020-09-23T00:00:00\", \"totalTestResultsIncrease\": 928020.0, \"positiveIncrease\": 38567.0, \"death\": 193927.0, \"deathIncrease\": 1159.0, \"positiveRate\": 0.042, \"state\": \"US\", \"sma7d\": 42911.571}, {\"date\": \"2020-09-24T00:00:00\", \"totalTestResultsIncrease\": 943266.0, \"positiveIncrease\": 43772.0, \"death\": 194848.0, \"deathIncrease\": 921.0, \"positiveRate\": 0.046, \"state\": \"US\", \"sma7d\": 42942.143}, {\"date\": \"2020-09-25T00:00:00\", \"totalTestResultsIncrease\": 1019392.0, \"positiveIncrease\": 55526.0, \"death\": 195692.0, \"deathIncrease\": 844.0, \"positiveRate\": 0.054, \"state\": \"US\", \"sma7d\": 44090.714}, {\"date\": \"2020-09-26T00:00:00\", \"totalTestResultsIncrease\": 1023011.0, \"positiveIncrease\": 47856.0, \"death\": 196561.0, \"deathIncrease\": 869.0, \"positiveRate\": 0.047, \"state\": \"US\", \"sma7d\": 44418.143}, {\"date\": \"2020-09-27T00:00:00\", \"totalTestResultsIncrease\": 830686.0, \"positiveIncrease\": 35454.0, \"death\": 196868.0, \"deathIncrease\": 307.0, \"positiveRate\": 0.043, \"state\": \"US\", \"sma7d\": 44298.0}, {\"date\": \"2020-09-28T00:00:00\", \"totalTestResultsIncrease\": 1121479.0, \"positiveIncrease\": 36524.0, \"death\": 197125.0, \"deathIncrease\": 257.0, \"positiveRate\": 0.033, \"state\": \"US\", \"sma7d\": 43876.857}, {\"date\": \"2020-09-29T00:00:00\", \"totalTestResultsIncrease\": 825336.0, \"positiveIncrease\": 36947.0, \"death\": 197864.0, \"deathIncrease\": 739.0, \"positiveRate\": 0.045, \"state\": \"US\", \"sma7d\": 42092.286}, {\"date\": \"2020-09-30T00:00:00\", \"totalTestResultsIncrease\": 814137.0, \"positiveIncrease\": 44424.0, \"death\": 198925.0, \"deathIncrease\": 1061.0, \"positiveRate\": 0.055, \"state\": \"US\", \"sma7d\": 42929.0}, {\"date\": \"2020-10-01T00:00:00\", \"totalTestResultsIncrease\": 899663.0, \"positiveIncrease\": 45694.0, \"death\": 199776.0, \"deathIncrease\": 851.0, \"positiveRate\": 0.051, \"state\": \"US\", \"sma7d\": 43203.571}, {\"date\": \"2020-10-02T00:00:00\", \"totalTestResultsIncrease\": 1128719.0, \"positiveIncrease\": 49534.0, \"death\": 200611.0, \"deathIncrease\": 835.0, \"positiveRate\": 0.044, \"state\": \"US\", \"sma7d\": 42347.571}, {\"date\": \"2020-10-03T00:00:00\", \"totalTestResultsIncrease\": 999895.0, \"positiveIncrease\": 51372.0, \"death\": 201352.0, \"deathIncrease\": 741.0, \"positiveRate\": 0.051, \"state\": \"US\", \"sma7d\": 42849.857}, {\"date\": \"2020-10-04T00:00:00\", \"totalTestResultsIncrease\": 958782.0, \"positiveIncrease\": 38439.0, \"death\": 201715.0, \"deathIncrease\": 363.0, \"positiveRate\": 0.04, \"state\": \"US\", \"sma7d\": 43276.286}, {\"date\": \"2020-10-05T00:00:00\", \"totalTestResultsIncrease\": 937079.0, \"positiveIncrease\": 38133.0, \"death\": 202041.0, \"deathIncrease\": 326.0, \"positiveRate\": 0.041, \"state\": \"US\", \"sma7d\": 43506.143}, {\"date\": \"2020-10-06T00:00:00\", \"totalTestResultsIncrease\": 824253.0, \"positiveIncrease\": 38661.0, \"death\": 202675.0, \"deathIncrease\": 634.0, \"positiveRate\": 0.047, \"state\": \"US\", \"sma7d\": 43751.0}, {\"date\": \"2020-10-07T00:00:00\", \"totalTestResultsIncrease\": 862764.0, \"positiveIncrease\": 50602.0, \"death\": 203591.0, \"deathIncrease\": 916.0, \"positiveRate\": 0.059, \"state\": \"US\", \"sma7d\": 44633.571}, {\"date\": \"2020-10-08T00:00:00\", \"totalTestResultsIncrease\": 1040059.0, \"positiveIncrease\": 55352.0, \"death\": 204577.0, \"deathIncrease\": 986.0, \"positiveRate\": 0.053, \"state\": \"US\", \"sma7d\": 46013.286}, {\"date\": \"2020-10-09T00:00:00\", \"totalTestResultsIncrease\": 1092407.0, \"positiveIncrease\": 57060.0, \"death\": 205470.0, \"deathIncrease\": 893.0, \"positiveRate\": 0.052, \"state\": \"US\", \"sma7d\": 47088.429}, {\"date\": \"2020-10-10T00:00:00\", \"totalTestResultsIncrease\": 1133178.0, \"positiveIncrease\": 57206.0, \"death\": 206133.0, \"deathIncrease\": 663.0, \"positiveRate\": 0.05, \"state\": \"US\", \"sma7d\": 47921.857}, {\"date\": \"2020-10-11T00:00:00\", \"totalTestResultsIncrease\": 943645.0, \"positiveIncrease\": 46776.0, \"death\": 206597.0, \"deathIncrease\": 464.0, \"positiveRate\": 0.05, \"state\": \"US\", \"sma7d\": 49112.857}, {\"date\": \"2020-10-12T00:00:00\", \"totalTestResultsIncrease\": 1000648.0, \"positiveIncrease\": 42845.0, \"death\": 206821.0, \"deathIncrease\": 284.0, \"positiveRate\": 0.043, \"state\": \"US\", \"sma7d\": 49786.0}]}}, {\"mode\": \"vega-lite\"});\n",
       "</script>"
      ],
      "text/plain": [
       "alt.LayerChart(...)"
      ]
     },
     "execution_count": 7,
     "metadata": {},
     "output_type": "execute_result"
    }
   ],
   "source": [
    "create_plot(us, 'positiveIncrease')"
   ]
  },
  {
   "cell_type": "code",
   "execution_count": 8,
   "metadata": {
    "execution": {
     "iopub.execute_input": "2020-10-12T22:34:08.604253Z",
     "iopub.status.busy": "2020-10-12T22:34:08.588878Z",
     "iopub.status.idle": "2020-10-12T22:34:08.664586Z",
     "shell.execute_reply": "2020-10-12T22:34:08.665095Z"
    },
    "papermill": {
     "duration": 0.108345,
     "end_time": "2020-10-12T22:34:08.665243",
     "exception": false,
     "start_time": "2020-10-12T22:34:08.556898",
     "status": "completed"
    },
    "tags": []
   },
   "outputs": [
    {
     "data": {
      "text/html": [
       "\n",
       "<div id=\"altair-viz-447a914ec3b74afd8a9be7cceadfbe19\"></div>\n",
       "<script type=\"text/javascript\">\n",
       "  (function(spec, embedOpt){\n",
       "    let outputDiv = document.currentScript.previousElementSibling;\n",
       "    if (outputDiv.id !== \"altair-viz-447a914ec3b74afd8a9be7cceadfbe19\") {\n",
       "      outputDiv = document.getElementById(\"altair-viz-447a914ec3b74afd8a9be7cceadfbe19\");\n",
       "    }\n",
       "    const paths = {\n",
       "      \"vega\": \"https://cdn.jsdelivr.net/npm//vega@5?noext\",\n",
       "      \"vega-lib\": \"https://cdn.jsdelivr.net/npm//vega-lib?noext\",\n",
       "      \"vega-lite\": \"https://cdn.jsdelivr.net/npm//vega-lite@4.8.1?noext\",\n",
       "      \"vega-embed\": \"https://cdn.jsdelivr.net/npm//vega-embed@6?noext\",\n",
       "    };\n",
       "\n",
       "    function loadScript(lib) {\n",
       "      return new Promise(function(resolve, reject) {\n",
       "        var s = document.createElement('script');\n",
       "        s.src = paths[lib];\n",
       "        s.async = true;\n",
       "        s.onload = () => resolve(paths[lib]);\n",
       "        s.onerror = () => reject(`Error loading script: ${paths[lib]}`);\n",
       "        document.getElementsByTagName(\"head\")[0].appendChild(s);\n",
       "      });\n",
       "    }\n",
       "\n",
       "    function showError(err) {\n",
       "      outputDiv.innerHTML = `<div class=\"error\" style=\"color:red;\">${err}</div>`;\n",
       "      throw err;\n",
       "    }\n",
       "\n",
       "    function displayChart(vegaEmbed) {\n",
       "      vegaEmbed(outputDiv, spec, embedOpt)\n",
       "        .catch(err => showError(`Javascript Error: ${err.message}<br>This usually means there's a typo in your chart specification. See the javascript console for the full traceback.`));\n",
       "    }\n",
       "\n",
       "    if(typeof define === \"function\" && define.amd) {\n",
       "      requirejs.config({paths});\n",
       "      require([\"vega-embed\"], displayChart, err => showError(`Error loading script: ${err.message}`));\n",
       "    } else if (typeof vegaEmbed === \"function\") {\n",
       "      displayChart(vegaEmbed);\n",
       "    } else {\n",
       "      loadScript(\"vega\")\n",
       "        .then(() => loadScript(\"vega-lite\"))\n",
       "        .then(() => loadScript(\"vega-embed\"))\n",
       "        .catch(showError)\n",
       "        .then(() => displayChart(vegaEmbed));\n",
       "    }\n",
       "  })({\"config\": {\"view\": {\"continuousWidth\": 400, \"continuousHeight\": 300}}, \"layer\": [{\"layer\": [{\"mark\": {\"type\": \"point\", \"size\": 75}, \"encoding\": {\"tooltip\": [{\"type\": \"temporal\", \"field\": \"date\"}, {\"type\": \"quantitative\", \"field\": \"positiveRate\"}, {\"type\": \"quantitative\", \"field\": \"sma7d\"}], \"x\": {\"type\": \"temporal\", \"field\": \"date\"}, \"y\": {\"type\": \"quantitative\", \"field\": \"positiveRate\"}}, \"selection\": {\"selector004\": {\"type\": \"interval\", \"bind\": \"scales\", \"encodings\": [\"x\", \"y\"]}}}, {\"mark\": {\"type\": \"line\", \"color\": \"purple\"}, \"encoding\": {\"x\": {\"type\": \"temporal\", \"field\": \"date\"}, \"y\": {\"type\": \"quantitative\", \"field\": \"sma7d\"}}}]}, {\"mark\": {\"type\": \"rule\", \"color\": \"#aaa\"}, \"encoding\": {\"x\": {\"type\": \"temporal\", \"field\": \"date\"}}, \"transform\": [{\"filter\": {\"selection\": \"selector003\"}}]}, {\"mark\": \"circle\", \"encoding\": {\"opacity\": {\"condition\": {\"value\": 1, \"selection\": \"selector003\"}, \"value\": 0}, \"tooltip\": [{\"type\": \"temporal\", \"field\": \"date\"}, {\"type\": \"quantitative\", \"field\": \"positiveRate\"}, {\"type\": \"quantitative\", \"field\": \"sma7d\"}], \"x\": {\"type\": \"temporal\", \"field\": \"date\"}, \"y\": {\"type\": \"quantitative\", \"field\": \"positiveRate\"}}, \"selection\": {\"selector003\": {\"type\": \"single\", \"encodings\": [\"x\"], \"on\": \"mouseover\", \"nearest\": true, \"empty\": \"none\"}}}, {\"mark\": {\"type\": \"text\", \"align\": \"left\", \"dx\": 5, \"dy\": -5, \"stroke\": \"white\", \"strokeWidth\": 2}, \"encoding\": {\"text\": {\"type\": \"quantitative\", \"field\": \"positiveRate\"}, \"tooltip\": [{\"type\": \"temporal\", \"field\": \"date\"}, {\"type\": \"quantitative\", \"field\": \"positiveRate\"}, {\"type\": \"quantitative\", \"field\": \"sma7d\"}], \"x\": {\"type\": \"temporal\", \"field\": \"date\"}, \"y\": {\"type\": \"quantitative\", \"field\": \"positiveRate\"}}, \"transform\": [{\"filter\": {\"selection\": \"selector003\"}}]}, {\"mark\": {\"type\": \"text\", \"align\": \"left\", \"dx\": 5, \"dy\": -5}, \"encoding\": {\"text\": {\"type\": \"quantitative\", \"field\": \"positiveRate\"}, \"tooltip\": [{\"type\": \"temporal\", \"field\": \"date\"}, {\"type\": \"quantitative\", \"field\": \"positiveRate\"}, {\"type\": \"quantitative\", \"field\": \"sma7d\"}], \"x\": {\"type\": \"temporal\", \"field\": \"date\"}, \"y\": {\"type\": \"quantitative\", \"field\": \"positiveRate\"}}, \"transform\": [{\"filter\": {\"selection\": \"selector003\"}}]}], \"data\": {\"name\": \"data-d84c7b8cabc613d69a052adffb603af9\"}, \"height\": 400, \"title\": \"US: positiveRate\", \"width\": 500, \"$schema\": \"https://vega.github.io/schema/vega-lite/v4.8.1.json\", \"datasets\": {\"data-d84c7b8cabc613d69a052adffb603af9\": [{\"date\": \"2020-08-18T00:00:00\", \"totalTestResultsIncrease\": 677615.0, \"positiveIncrease\": 40795.0, \"death\": 163537.0, \"deathIncrease\": 1196.0, \"positiveRate\": 0.06, \"state\": \"US\", \"sma7d\": 0.068}, {\"date\": \"2020-08-19T00:00:00\", \"totalTestResultsIncrease\": 705215.0, \"positiveIncrease\": 44955.0, \"death\": 164957.0, \"deathIncrease\": 1420.0, \"positiveRate\": 0.064, \"state\": \"US\", \"sma7d\": 0.06}, {\"date\": \"2020-08-20T00:00:00\", \"totalTestResultsIncrease\": 730608.0, \"positiveIncrease\": 43758.0, \"death\": 166091.0, \"deathIncrease\": 1134.0, \"positiveRate\": 0.06, \"state\": \"US\", \"sma7d\": 0.061}, {\"date\": \"2020-08-21T00:00:00\", \"totalTestResultsIncrease\": 791213.0, \"positiveIncrease\": 46561.0, \"death\": 167214.0, \"deathIncrease\": 1123.0, \"positiveRate\": 0.059, \"state\": \"US\", \"sma7d\": 0.06}, {\"date\": \"2020-08-22T00:00:00\", \"totalTestResultsIncrease\": 795601.0, \"positiveIncrease\": 46236.0, \"death\": 168243.0, \"deathIncrease\": 1029.0, \"positiveRate\": 0.058, \"state\": \"US\", \"sma7d\": 0.058}, {\"date\": \"2020-08-23T00:00:00\", \"totalTestResultsIncrease\": 658496.0, \"positiveIncrease\": 37566.0, \"death\": 168815.0, \"deathIncrease\": 572.0, \"positiveRate\": 0.057, \"state\": \"US\", \"sma7d\": 0.059}, {\"date\": \"2020-08-24T00:00:00\", \"totalTestResultsIncrease\": 706152.0, \"positiveIncrease\": 34643.0, \"death\": 169158.0, \"deathIncrease\": 343.0, \"positiveRate\": 0.049, \"state\": \"US\", \"sma7d\": 0.058}, {\"date\": \"2020-08-25T00:00:00\", \"totalTestResultsIncrease\": 669714.0, \"positiveIncrease\": 36379.0, \"death\": 170305.0, \"deathIncrease\": 1147.0, \"positiveRate\": 0.054, \"state\": \"US\", \"sma7d\": 0.057}, {\"date\": \"2020-08-26T00:00:00\", \"totalTestResultsIncrease\": 680144.0, \"positiveIncrease\": 44053.0, \"death\": 171603.0, \"deathIncrease\": 1298.0, \"positiveRate\": 0.065, \"state\": \"US\", \"sma7d\": 0.057}, {\"date\": \"2020-08-27T00:00:00\", \"totalTestResultsIncrease\": 795295.0, \"positiveIncrease\": 43984.0, \"death\": 172732.0, \"deathIncrease\": 1129.0, \"positiveRate\": 0.055, \"state\": \"US\", \"sma7d\": 0.057}, {\"date\": \"2020-08-28T00:00:00\", \"totalTestResultsIncrease\": 823828.0, \"positiveIncrease\": 46548.0, \"death\": 173756.0, \"deathIncrease\": 1024.0, \"positiveRate\": 0.057, \"state\": \"US\", \"sma7d\": 0.056}, {\"date\": \"2020-08-29T00:00:00\", \"totalTestResultsIncrease\": 819828.0, \"positiveIncrease\": 44501.0, \"death\": 174771.0, \"deathIncrease\": 1015.0, \"positiveRate\": 0.054, \"state\": \"US\", \"sma7d\": 0.056}, {\"date\": \"2020-08-30T00:00:00\", \"totalTestResultsIncrease\": 778906.0, \"positiveIncrease\": 39501.0, \"death\": 175246.0, \"deathIncrease\": 475.0, \"positiveRate\": 0.051, \"state\": \"US\", \"sma7d\": 0.055}, {\"date\": \"2020-08-31T00:00:00\", \"totalTestResultsIncrease\": 709021.0, \"positiveIncrease\": 31406.0, \"death\": 175612.0, \"deathIncrease\": 366.0, \"positiveRate\": 0.044, \"state\": \"US\", \"sma7d\": 0.054}, {\"date\": \"2020-09-01T00:00:00\", \"totalTestResultsIncrease\": 735567.0, \"positiveIncrease\": 42433.0, \"death\": 176639.0, \"deathIncrease\": 1027.0, \"positiveRate\": 0.058, \"state\": \"US\", \"sma7d\": 0.055}, {\"date\": \"2020-09-02T00:00:00\", \"totalTestResultsIncrease\": 684407.0, \"positiveIncrease\": 30603.0, \"death\": 177671.0, \"deathIncrease\": 1032.0, \"positiveRate\": 0.045, \"state\": \"US\", \"sma7d\": 0.052}, {\"date\": \"2020-09-03T00:00:00\", \"totalTestResultsIncrease\": 802498.0, \"positiveIncrease\": 44714.0, \"death\": 178741.0, \"deathIncrease\": 1070.0, \"positiveRate\": 0.056, \"state\": \"US\", \"sma7d\": 0.052}, {\"date\": \"2020-09-04T00:00:00\", \"totalTestResultsIncrease\": 954666.0, \"positiveIncrease\": 51591.0, \"death\": 179739.0, \"deathIncrease\": 998.0, \"positiveRate\": 0.054, \"state\": \"US\", \"sma7d\": 0.052}, {\"date\": \"2020-09-05T00:00:00\", \"totalTestResultsIncrease\": 883097.0, \"positiveIncrease\": 44905.0, \"death\": 180657.0, \"deathIncrease\": 918.0, \"positiveRate\": 0.051, \"state\": \"US\", \"sma7d\": 0.051}, {\"date\": \"2020-09-06T00:00:00\", \"totalTestResultsIncrease\": 785254.0, \"positiveIncrease\": 33117.0, \"death\": 181106.0, \"deathIncrease\": 449.0, \"positiveRate\": 0.042, \"state\": \"US\", \"sma7d\": 0.05}, {\"date\": \"2020-09-07T00:00:00\", \"totalTestResultsIncrease\": 618579.0, \"positiveIncrease\": 28682.0, \"death\": 181331.0, \"deathIncrease\": 225.0, \"positiveRate\": 0.046, \"state\": \"US\", \"sma7d\": 0.05}, {\"date\": \"2020-09-08T00:00:00\", \"totalTestResultsIncrease\": 542885.0, \"positiveIncrease\": 22223.0, \"death\": 181689.0, \"deathIncrease\": 358.0, \"positiveRate\": 0.041, \"state\": \"US\", \"sma7d\": 0.048}, {\"date\": \"2020-09-09T00:00:00\", \"totalTestResultsIncrease\": 629649.0, \"positiveIncrease\": 31114.0, \"death\": 182773.0, \"deathIncrease\": 1084.0, \"positiveRate\": 0.049, \"state\": \"US\", \"sma7d\": 0.048}, {\"date\": \"2020-09-10T00:00:00\", \"totalTestResultsIncrease\": 698008.0, \"positiveIncrease\": 37581.0, \"death\": 183943.0, \"deathIncrease\": 1170.0, \"positiveRate\": 0.054, \"state\": \"US\", \"sma7d\": 0.048}, {\"date\": \"2020-09-11T00:00:00\", \"totalTestResultsIncrease\": 834688.0, \"positiveIncrease\": 44927.0, \"death\": 184961.0, \"deathIncrease\": 1018.0, \"positiveRate\": 0.054, \"state\": \"US\", \"sma7d\": 0.048}, {\"date\": \"2020-09-12T00:00:00\", \"totalTestResultsIncrease\": 907846.0, \"positiveIncrease\": 42090.0, \"death\": 185771.0, \"deathIncrease\": 810.0, \"positiveRate\": 0.046, \"state\": \"US\", \"sma7d\": 0.047}, {\"date\": \"2020-09-13T00:00:00\", \"totalTestResultsIncrease\": 733621.0, \"positiveIncrease\": 34453.0, \"death\": 186161.0, \"deathIncrease\": 390.0, \"positiveRate\": 0.047, \"state\": \"US\", \"sma7d\": 0.048}, {\"date\": \"2020-09-14T00:00:00\", \"totalTestResultsIncrease\": 451333.0, \"positiveIncrease\": 33864.0, \"death\": 186565.0, \"deathIncrease\": 404.0, \"positiveRate\": 0.075, \"state\": \"US\", \"sma7d\": 0.052}, {\"date\": \"2020-09-15T00:00:00\", \"totalTestResultsIncrease\": 730409.0, \"positiveIncrease\": 35445.0, \"death\": 187596.0, \"deathIncrease\": 1031.0, \"positiveRate\": 0.049, \"state\": \"US\", \"sma7d\": 0.053}, {\"date\": \"2020-09-16T00:00:00\", \"totalTestResultsIncrease\": 731850.0, \"positiveIncrease\": 40021.0, \"death\": 188796.0, \"deathIncrease\": 1200.0, \"positiveRate\": 0.055, \"state\": \"US\", \"sma7d\": 0.054}, {\"date\": \"2020-09-17T00:00:00\", \"totalTestResultsIncrease\": 850502.0, \"positiveIncrease\": 43558.0, \"death\": 189659.0, \"deathIncrease\": 863.0, \"positiveRate\": 0.051, \"state\": \"US\", \"sma7d\": 0.054}, {\"date\": \"2020-09-18T00:00:00\", \"totalTestResultsIncrease\": 990369.0, \"positiveIncrease\": 47486.0, \"death\": 190560.0, \"deathIncrease\": 901.0, \"positiveRate\": 0.048, \"state\": \"US\", \"sma7d\": 0.053}, {\"date\": \"2020-09-19T00:00:00\", \"totalTestResultsIncrease\": 1066766.0, \"positiveIncrease\": 45564.0, \"death\": 191300.0, \"deathIncrease\": 740.0, \"positiveRate\": 0.043, \"state\": \"US\", \"sma7d\": 0.053}, {\"date\": \"2020-09-20T00:00:00\", \"totalTestResultsIncrease\": 917564.0, \"positiveIncrease\": 36295.0, \"death\": 191627.0, \"deathIncrease\": 327.0, \"positiveRate\": 0.04, \"state\": \"US\", \"sma7d\": 0.052}, {\"date\": \"2020-09-21T00:00:00\", \"totalTestResultsIncrease\": 729336.0, \"positiveIncrease\": 39472.0, \"death\": 191914.0, \"deathIncrease\": 287.0, \"positiveRate\": 0.054, \"state\": \"US\", \"sma7d\": 0.049}, {\"date\": \"2020-09-22T00:00:00\", \"totalTestResultsIncrease\": 783814.0, \"positiveIncrease\": 49439.0, \"death\": 192768.0, \"deathIncrease\": 854.0, \"positiveRate\": 0.063, \"state\": \"US\", \"sma7d\": 0.051}, {\"date\": \"2020-09-23T00:00:00\", \"totalTestResultsIncrease\": 928020.0, \"positiveIncrease\": 38567.0, \"death\": 193927.0, \"deathIncrease\": 1159.0, \"positiveRate\": 0.042, \"state\": \"US\", \"sma7d\": 0.049}, {\"date\": \"2020-09-24T00:00:00\", \"totalTestResultsIncrease\": 943266.0, \"positiveIncrease\": 43772.0, \"death\": 194848.0, \"deathIncrease\": 921.0, \"positiveRate\": 0.046, \"state\": \"US\", \"sma7d\": 0.048}, {\"date\": \"2020-09-25T00:00:00\", \"totalTestResultsIncrease\": 1019392.0, \"positiveIncrease\": 55526.0, \"death\": 195692.0, \"deathIncrease\": 844.0, \"positiveRate\": 0.054, \"state\": \"US\", \"sma7d\": 0.049}, {\"date\": \"2020-09-26T00:00:00\", \"totalTestResultsIncrease\": 1023011.0, \"positiveIncrease\": 47856.0, \"death\": 196561.0, \"deathIncrease\": 869.0, \"positiveRate\": 0.047, \"state\": \"US\", \"sma7d\": 0.049}, {\"date\": \"2020-09-27T00:00:00\", \"totalTestResultsIncrease\": 830686.0, \"positiveIncrease\": 35454.0, \"death\": 196868.0, \"deathIncrease\": 307.0, \"positiveRate\": 0.043, \"state\": \"US\", \"sma7d\": 0.05}, {\"date\": \"2020-09-28T00:00:00\", \"totalTestResultsIncrease\": 1121479.0, \"positiveIncrease\": 36524.0, \"death\": 197125.0, \"deathIncrease\": 257.0, \"positiveRate\": 0.033, \"state\": \"US\", \"sma7d\": 0.047}, {\"date\": \"2020-09-29T00:00:00\", \"totalTestResultsIncrease\": 825336.0, \"positiveIncrease\": 36947.0, \"death\": 197864.0, \"deathIncrease\": 739.0, \"positiveRate\": 0.045, \"state\": \"US\", \"sma7d\": 0.044}, {\"date\": \"2020-09-30T00:00:00\", \"totalTestResultsIncrease\": 814137.0, \"positiveIncrease\": 44424.0, \"death\": 198925.0, \"deathIncrease\": 1061.0, \"positiveRate\": 0.055, \"state\": \"US\", \"sma7d\": 0.046}, {\"date\": \"2020-10-01T00:00:00\", \"totalTestResultsIncrease\": 899663.0, \"positiveIncrease\": 45694.0, \"death\": 199776.0, \"deathIncrease\": 851.0, \"positiveRate\": 0.051, \"state\": \"US\", \"sma7d\": 0.047}, {\"date\": \"2020-10-02T00:00:00\", \"totalTestResultsIncrease\": 1128719.0, \"positiveIncrease\": 49534.0, \"death\": 200611.0, \"deathIncrease\": 835.0, \"positiveRate\": 0.044, \"state\": \"US\", \"sma7d\": 0.045}, {\"date\": \"2020-10-03T00:00:00\", \"totalTestResultsIncrease\": 999895.0, \"positiveIncrease\": 51372.0, \"death\": 201352.0, \"deathIncrease\": 741.0, \"positiveRate\": 0.051, \"state\": \"US\", \"sma7d\": 0.046}, {\"date\": \"2020-10-04T00:00:00\", \"totalTestResultsIncrease\": 958782.0, \"positiveIncrease\": 38439.0, \"death\": 201715.0, \"deathIncrease\": 363.0, \"positiveRate\": 0.04, \"state\": \"US\", \"sma7d\": 0.046}, {\"date\": \"2020-10-05T00:00:00\", \"totalTestResultsIncrease\": 937079.0, \"positiveIncrease\": 38133.0, \"death\": 202041.0, \"deathIncrease\": 326.0, \"positiveRate\": 0.041, \"state\": \"US\", \"sma7d\": 0.047}, {\"date\": \"2020-10-06T00:00:00\", \"totalTestResultsIncrease\": 824253.0, \"positiveIncrease\": 38661.0, \"death\": 202675.0, \"deathIncrease\": 634.0, \"positiveRate\": 0.047, \"state\": \"US\", \"sma7d\": 0.047}, {\"date\": \"2020-10-07T00:00:00\", \"totalTestResultsIncrease\": 862764.0, \"positiveIncrease\": 50602.0, \"death\": 203591.0, \"deathIncrease\": 916.0, \"positiveRate\": 0.059, \"state\": \"US\", \"sma7d\": 0.048}, {\"date\": \"2020-10-08T00:00:00\", \"totalTestResultsIncrease\": 1040059.0, \"positiveIncrease\": 55352.0, \"death\": 204577.0, \"deathIncrease\": 986.0, \"positiveRate\": 0.053, \"state\": \"US\", \"sma7d\": 0.048}, {\"date\": \"2020-10-09T00:00:00\", \"totalTestResultsIncrease\": 1092407.0, \"positiveIncrease\": 57060.0, \"death\": 205470.0, \"deathIncrease\": 893.0, \"positiveRate\": 0.052, \"state\": \"US\", \"sma7d\": 0.049}, {\"date\": \"2020-10-10T00:00:00\", \"totalTestResultsIncrease\": 1133178.0, \"positiveIncrease\": 57206.0, \"death\": 206133.0, \"deathIncrease\": 663.0, \"positiveRate\": 0.05, \"state\": \"US\", \"sma7d\": 0.049}, {\"date\": \"2020-10-11T00:00:00\", \"totalTestResultsIncrease\": 943645.0, \"positiveIncrease\": 46776.0, \"death\": 206597.0, \"deathIncrease\": 464.0, \"positiveRate\": 0.05, \"state\": \"US\", \"sma7d\": 0.05}, {\"date\": \"2020-10-12T00:00:00\", \"totalTestResultsIncrease\": 1000648.0, \"positiveIncrease\": 42845.0, \"death\": 206821.0, \"deathIncrease\": 284.0, \"positiveRate\": 0.043, \"state\": \"US\", \"sma7d\": 0.051}]}}, {\"mode\": \"vega-lite\"});\n",
       "</script>"
      ],
      "text/plain": [
       "alt.LayerChart(...)"
      ]
     },
     "execution_count": 8,
     "metadata": {},
     "output_type": "execute_result"
    }
   ],
   "source": [
    "create_plot(us, 'positiveRate')"
   ]
  },
  {
   "cell_type": "code",
   "execution_count": 9,
   "metadata": {
    "execution": {
     "iopub.execute_input": "2020-10-12T22:34:08.714174Z",
     "iopub.status.busy": "2020-10-12T22:34:08.696106Z",
     "iopub.status.idle": "2020-10-12T22:34:08.786720Z",
     "shell.execute_reply": "2020-10-12T22:34:08.787216Z"
    },
    "papermill": {
     "duration": 0.108461,
     "end_time": "2020-10-12T22:34:08.787391",
     "exception": false,
     "start_time": "2020-10-12T22:34:08.678930",
     "status": "completed"
    },
    "tags": []
   },
   "outputs": [
    {
     "data": {
      "text/html": [
       "\n",
       "<div id=\"altair-viz-11888f1dd25741239a625a36c133fc73\"></div>\n",
       "<script type=\"text/javascript\">\n",
       "  (function(spec, embedOpt){\n",
       "    let outputDiv = document.currentScript.previousElementSibling;\n",
       "    if (outputDiv.id !== \"altair-viz-11888f1dd25741239a625a36c133fc73\") {\n",
       "      outputDiv = document.getElementById(\"altair-viz-11888f1dd25741239a625a36c133fc73\");\n",
       "    }\n",
       "    const paths = {\n",
       "      \"vega\": \"https://cdn.jsdelivr.net/npm//vega@5?noext\",\n",
       "      \"vega-lib\": \"https://cdn.jsdelivr.net/npm//vega-lib?noext\",\n",
       "      \"vega-lite\": \"https://cdn.jsdelivr.net/npm//vega-lite@4.8.1?noext\",\n",
       "      \"vega-embed\": \"https://cdn.jsdelivr.net/npm//vega-embed@6?noext\",\n",
       "    };\n",
       "\n",
       "    function loadScript(lib) {\n",
       "      return new Promise(function(resolve, reject) {\n",
       "        var s = document.createElement('script');\n",
       "        s.src = paths[lib];\n",
       "        s.async = true;\n",
       "        s.onload = () => resolve(paths[lib]);\n",
       "        s.onerror = () => reject(`Error loading script: ${paths[lib]}`);\n",
       "        document.getElementsByTagName(\"head\")[0].appendChild(s);\n",
       "      });\n",
       "    }\n",
       "\n",
       "    function showError(err) {\n",
       "      outputDiv.innerHTML = `<div class=\"error\" style=\"color:red;\">${err}</div>`;\n",
       "      throw err;\n",
       "    }\n",
       "\n",
       "    function displayChart(vegaEmbed) {\n",
       "      vegaEmbed(outputDiv, spec, embedOpt)\n",
       "        .catch(err => showError(`Javascript Error: ${err.message}<br>This usually means there's a typo in your chart specification. See the javascript console for the full traceback.`));\n",
       "    }\n",
       "\n",
       "    if(typeof define === \"function\" && define.amd) {\n",
       "      requirejs.config({paths});\n",
       "      require([\"vega-embed\"], displayChart, err => showError(`Error loading script: ${err.message}`));\n",
       "    } else if (typeof vegaEmbed === \"function\") {\n",
       "      displayChart(vegaEmbed);\n",
       "    } else {\n",
       "      loadScript(\"vega\")\n",
       "        .then(() => loadScript(\"vega-lite\"))\n",
       "        .then(() => loadScript(\"vega-embed\"))\n",
       "        .catch(showError)\n",
       "        .then(() => displayChart(vegaEmbed));\n",
       "    }\n",
       "  })({\"config\": {\"view\": {\"continuousWidth\": 400, \"continuousHeight\": 300}}, \"layer\": [{\"layer\": [{\"mark\": {\"type\": \"point\", \"size\": 75}, \"encoding\": {\"tooltip\": [{\"type\": \"temporal\", \"field\": \"date\"}, {\"type\": \"quantitative\", \"field\": \"deathIncrease\"}, {\"type\": \"quantitative\", \"field\": \"sma7d\"}], \"x\": {\"type\": \"temporal\", \"field\": \"date\"}, \"y\": {\"type\": \"quantitative\", \"field\": \"deathIncrease\"}}, \"selection\": {\"selector006\": {\"type\": \"interval\", \"bind\": \"scales\", \"encodings\": [\"x\", \"y\"]}}}, {\"mark\": {\"type\": \"line\", \"color\": \"purple\"}, \"encoding\": {\"x\": {\"type\": \"temporal\", \"field\": \"date\"}, \"y\": {\"type\": \"quantitative\", \"field\": \"sma7d\"}}}]}, {\"mark\": {\"type\": \"rule\", \"color\": \"#aaa\"}, \"encoding\": {\"x\": {\"type\": \"temporal\", \"field\": \"date\"}}, \"transform\": [{\"filter\": {\"selection\": \"selector005\"}}]}, {\"mark\": \"circle\", \"encoding\": {\"opacity\": {\"condition\": {\"value\": 1, \"selection\": \"selector005\"}, \"value\": 0}, \"tooltip\": [{\"type\": \"temporal\", \"field\": \"date\"}, {\"type\": \"quantitative\", \"field\": \"deathIncrease\"}, {\"type\": \"quantitative\", \"field\": \"sma7d\"}], \"x\": {\"type\": \"temporal\", \"field\": \"date\"}, \"y\": {\"type\": \"quantitative\", \"field\": \"deathIncrease\"}}, \"selection\": {\"selector005\": {\"type\": \"single\", \"encodings\": [\"x\"], \"on\": \"mouseover\", \"nearest\": true, \"empty\": \"none\"}}}, {\"mark\": {\"type\": \"text\", \"align\": \"left\", \"dx\": 5, \"dy\": -5, \"stroke\": \"white\", \"strokeWidth\": 2}, \"encoding\": {\"text\": {\"type\": \"quantitative\", \"field\": \"deathIncrease\"}, \"tooltip\": [{\"type\": \"temporal\", \"field\": \"date\"}, {\"type\": \"quantitative\", \"field\": \"deathIncrease\"}, {\"type\": \"quantitative\", \"field\": \"sma7d\"}], \"x\": {\"type\": \"temporal\", \"field\": \"date\"}, \"y\": {\"type\": \"quantitative\", \"field\": \"deathIncrease\"}}, \"transform\": [{\"filter\": {\"selection\": \"selector005\"}}]}, {\"mark\": {\"type\": \"text\", \"align\": \"left\", \"dx\": 5, \"dy\": -5}, \"encoding\": {\"text\": {\"type\": \"quantitative\", \"field\": \"deathIncrease\"}, \"tooltip\": [{\"type\": \"temporal\", \"field\": \"date\"}, {\"type\": \"quantitative\", \"field\": \"deathIncrease\"}, {\"type\": \"quantitative\", \"field\": \"sma7d\"}], \"x\": {\"type\": \"temporal\", \"field\": \"date\"}, \"y\": {\"type\": \"quantitative\", \"field\": \"deathIncrease\"}}, \"transform\": [{\"filter\": {\"selection\": \"selector005\"}}]}], \"data\": {\"name\": \"data-8f9ce7a603df8a06faf78bc852ea8491\"}, \"height\": 400, \"title\": \"US: deathIncrease\", \"width\": 500, \"$schema\": \"https://vega.github.io/schema/vega-lite/v4.8.1.json\", \"datasets\": {\"data-8f9ce7a603df8a06faf78bc852ea8491\": [{\"date\": \"2020-08-18T00:00:00\", \"totalTestResultsIncrease\": 677615.0, \"positiveIncrease\": 40795.0, \"death\": 163537.0, \"deathIncrease\": 1196.0, \"positiveRate\": 0.06, \"state\": \"US\", \"sma7d\": 1048.714}, {\"date\": \"2020-08-19T00:00:00\", \"totalTestResultsIncrease\": 705215.0, \"positiveIncrease\": 44955.0, \"death\": 164957.0, \"deathIncrease\": 1420.0, \"positiveRate\": 0.064, \"state\": \"US\", \"sma7d\": 1034.571}, {\"date\": \"2020-08-20T00:00:00\", \"totalTestResultsIncrease\": 730608.0, \"positiveIncrease\": 43758.0, \"death\": 166091.0, \"deathIncrease\": 1134.0, \"positiveRate\": 0.06, \"state\": \"US\", \"sma7d\": 1030.429}, {\"date\": \"2020-08-21T00:00:00\", \"totalTestResultsIncrease\": 791213.0, \"positiveIncrease\": 46561.0, \"death\": 167214.0, \"deathIncrease\": 1123.0, \"positiveRate\": 0.059, \"state\": \"US\", \"sma7d\": 1017.143}, {\"date\": \"2020-08-22T00:00:00\", \"totalTestResultsIncrease\": 795601.0, \"positiveIncrease\": 46236.0, \"death\": 168243.0, \"deathIncrease\": 1029.0, \"positiveRate\": 0.058, \"state\": \"US\", \"sma7d\": 989.714}, {\"date\": \"2020-08-23T00:00:00\", \"totalTestResultsIncrease\": 658496.0, \"positiveIncrease\": 37566.0, \"death\": 168815.0, \"deathIncrease\": 572.0, \"positiveRate\": 0.057, \"state\": \"US\", \"sma7d\": 983.0}, {\"date\": \"2020-08-24T00:00:00\", \"totalTestResultsIncrease\": 706152.0, \"positiveIncrease\": 34643.0, \"death\": 169158.0, \"deathIncrease\": 343.0, \"positiveRate\": 0.049, \"state\": \"US\", \"sma7d\": 973.857}, {\"date\": \"2020-08-25T00:00:00\", \"totalTestResultsIncrease\": 669714.0, \"positiveIncrease\": 36379.0, \"death\": 170305.0, \"deathIncrease\": 1147.0, \"positiveRate\": 0.054, \"state\": \"US\", \"sma7d\": 966.857}, {\"date\": \"2020-08-26T00:00:00\", \"totalTestResultsIncrease\": 680144.0, \"positiveIncrease\": 44053.0, \"death\": 171603.0, \"deathIncrease\": 1298.0, \"positiveRate\": 0.065, \"state\": \"US\", \"sma7d\": 949.429}, {\"date\": \"2020-08-27T00:00:00\", \"totalTestResultsIncrease\": 795295.0, \"positiveIncrease\": 43984.0, \"death\": 172732.0, \"deathIncrease\": 1129.0, \"positiveRate\": 0.055, \"state\": \"US\", \"sma7d\": 948.714}, {\"date\": \"2020-08-28T00:00:00\", \"totalTestResultsIncrease\": 823828.0, \"positiveIncrease\": 46548.0, \"death\": 173756.0, \"deathIncrease\": 1024.0, \"positiveRate\": 0.057, \"state\": \"US\", \"sma7d\": 934.571}, {\"date\": \"2020-08-29T00:00:00\", \"totalTestResultsIncrease\": 819828.0, \"positiveIncrease\": 44501.0, \"death\": 174771.0, \"deathIncrease\": 1015.0, \"positiveRate\": 0.054, \"state\": \"US\", \"sma7d\": 932.571}, {\"date\": \"2020-08-30T00:00:00\", \"totalTestResultsIncrease\": 778906.0, \"positiveIncrease\": 39501.0, \"death\": 175246.0, \"deathIncrease\": 475.0, \"positiveRate\": 0.051, \"state\": \"US\", \"sma7d\": 918.714}, {\"date\": \"2020-08-31T00:00:00\", \"totalTestResultsIncrease\": 709021.0, \"positiveIncrease\": 31406.0, \"death\": 175612.0, \"deathIncrease\": 366.0, \"positiveRate\": 0.044, \"state\": \"US\", \"sma7d\": 922.0}, {\"date\": \"2020-09-01T00:00:00\", \"totalTestResultsIncrease\": 735567.0, \"positiveIncrease\": 42433.0, \"death\": 176639.0, \"deathIncrease\": 1027.0, \"positiveRate\": 0.058, \"state\": \"US\", \"sma7d\": 904.857}, {\"date\": \"2020-09-02T00:00:00\", \"totalTestResultsIncrease\": 684407.0, \"positiveIncrease\": 30603.0, \"death\": 177671.0, \"deathIncrease\": 1032.0, \"positiveRate\": 0.045, \"state\": \"US\", \"sma7d\": 866.857}, {\"date\": \"2020-09-03T00:00:00\", \"totalTestResultsIncrease\": 802498.0, \"positiveIncrease\": 44714.0, \"death\": 178741.0, \"deathIncrease\": 1070.0, \"positiveRate\": 0.056, \"state\": \"US\", \"sma7d\": 858.429}, {\"date\": \"2020-09-04T00:00:00\", \"totalTestResultsIncrease\": 954666.0, \"positiveIncrease\": 51591.0, \"death\": 179739.0, \"deathIncrease\": 998.0, \"positiveRate\": 0.054, \"state\": \"US\", \"sma7d\": 854.714}, {\"date\": \"2020-09-05T00:00:00\", \"totalTestResultsIncrease\": 883097.0, \"positiveIncrease\": 44905.0, \"death\": 180657.0, \"deathIncrease\": 918.0, \"positiveRate\": 0.051, \"state\": \"US\", \"sma7d\": 840.857}, {\"date\": \"2020-09-06T00:00:00\", \"totalTestResultsIncrease\": 785254.0, \"positiveIncrease\": 33117.0, \"death\": 181106.0, \"deathIncrease\": 449.0, \"positiveRate\": 0.042, \"state\": \"US\", \"sma7d\": 837.143}, {\"date\": \"2020-09-07T00:00:00\", \"totalTestResultsIncrease\": 618579.0, \"positiveIncrease\": 28682.0, \"death\": 181331.0, \"deathIncrease\": 225.0, \"positiveRate\": 0.046, \"state\": \"US\", \"sma7d\": 817.0}, {\"date\": \"2020-09-08T00:00:00\", \"totalTestResultsIncrease\": 542885.0, \"positiveIncrease\": 22223.0, \"death\": 181689.0, \"deathIncrease\": 358.0, \"positiveRate\": 0.041, \"state\": \"US\", \"sma7d\": 721.429}, {\"date\": \"2020-09-09T00:00:00\", \"totalTestResultsIncrease\": 629649.0, \"positiveIncrease\": 31114.0, \"death\": 182773.0, \"deathIncrease\": 1084.0, \"positiveRate\": 0.049, \"state\": \"US\", \"sma7d\": 728.857}, {\"date\": \"2020-09-10T00:00:00\", \"totalTestResultsIncrease\": 698008.0, \"positiveIncrease\": 37581.0, \"death\": 183943.0, \"deathIncrease\": 1170.0, \"positiveRate\": 0.054, \"state\": \"US\", \"sma7d\": 743.143}, {\"date\": \"2020-09-11T00:00:00\", \"totalTestResultsIncrease\": 834688.0, \"positiveIncrease\": 44927.0, \"death\": 184961.0, \"deathIncrease\": 1018.0, \"positiveRate\": 0.054, \"state\": \"US\", \"sma7d\": 746.0}, {\"date\": \"2020-09-12T00:00:00\", \"totalTestResultsIncrease\": 907846.0, \"positiveIncrease\": 42090.0, \"death\": 185771.0, \"deathIncrease\": 810.0, \"positiveRate\": 0.046, \"state\": \"US\", \"sma7d\": 730.571}, {\"date\": \"2020-09-13T00:00:00\", \"totalTestResultsIncrease\": 733621.0, \"positiveIncrease\": 34453.0, \"death\": 186161.0, \"deathIncrease\": 390.0, \"positiveRate\": 0.047, \"state\": \"US\", \"sma7d\": 722.143}, {\"date\": \"2020-09-14T00:00:00\", \"totalTestResultsIncrease\": 451333.0, \"positiveIncrease\": 33864.0, \"death\": 186565.0, \"deathIncrease\": 404.0, \"positiveRate\": 0.075, \"state\": \"US\", \"sma7d\": 747.714}, {\"date\": \"2020-09-15T00:00:00\", \"totalTestResultsIncrease\": 730409.0, \"positiveIncrease\": 35445.0, \"death\": 187596.0, \"deathIncrease\": 1031.0, \"positiveRate\": 0.049, \"state\": \"US\", \"sma7d\": 843.857}, {\"date\": \"2020-09-16T00:00:00\", \"totalTestResultsIncrease\": 731850.0, \"positiveIncrease\": 40021.0, \"death\": 188796.0, \"deathIncrease\": 1200.0, \"positiveRate\": 0.055, \"state\": \"US\", \"sma7d\": 860.429}, {\"date\": \"2020-09-17T00:00:00\", \"totalTestResultsIncrease\": 850502.0, \"positiveIncrease\": 43558.0, \"death\": 189659.0, \"deathIncrease\": 863.0, \"positiveRate\": 0.051, \"state\": \"US\", \"sma7d\": 816.571}, {\"date\": \"2020-09-18T00:00:00\", \"totalTestResultsIncrease\": 990369.0, \"positiveIncrease\": 47486.0, \"death\": 190560.0, \"deathIncrease\": 901.0, \"positiveRate\": 0.048, \"state\": \"US\", \"sma7d\": 799.857}, {\"date\": \"2020-09-19T00:00:00\", \"totalTestResultsIncrease\": 1066766.0, \"positiveIncrease\": 45564.0, \"death\": 191300.0, \"deathIncrease\": 740.0, \"positiveRate\": 0.043, \"state\": \"US\", \"sma7d\": 789.857}, {\"date\": \"2020-09-20T00:00:00\", \"totalTestResultsIncrease\": 917564.0, \"positiveIncrease\": 36295.0, \"death\": 191627.0, \"deathIncrease\": 327.0, \"positiveRate\": 0.04, \"state\": \"US\", \"sma7d\": 780.857}, {\"date\": \"2020-09-21T00:00:00\", \"totalTestResultsIncrease\": 729336.0, \"positiveIncrease\": 39472.0, \"death\": 191914.0, \"deathIncrease\": 287.0, \"positiveRate\": 0.054, \"state\": \"US\", \"sma7d\": 764.143}, {\"date\": \"2020-09-22T00:00:00\", \"totalTestResultsIncrease\": 783814.0, \"positiveIncrease\": 49439.0, \"death\": 192768.0, \"deathIncrease\": 854.0, \"positiveRate\": 0.063, \"state\": \"US\", \"sma7d\": 738.857}, {\"date\": \"2020-09-23T00:00:00\", \"totalTestResultsIncrease\": 928020.0, \"positiveIncrease\": 38567.0, \"death\": 193927.0, \"deathIncrease\": 1159.0, \"positiveRate\": 0.042, \"state\": \"US\", \"sma7d\": 733.0}, {\"date\": \"2020-09-24T00:00:00\", \"totalTestResultsIncrease\": 943266.0, \"positiveIncrease\": 43772.0, \"death\": 194848.0, \"deathIncrease\": 921.0, \"positiveRate\": 0.046, \"state\": \"US\", \"sma7d\": 741.286}, {\"date\": \"2020-09-25T00:00:00\", \"totalTestResultsIncrease\": 1019392.0, \"positiveIncrease\": 55526.0, \"death\": 195692.0, \"deathIncrease\": 844.0, \"positiveRate\": 0.054, \"state\": \"US\", \"sma7d\": 733.143}, {\"date\": \"2020-09-26T00:00:00\", \"totalTestResultsIncrease\": 1023011.0, \"positiveIncrease\": 47856.0, \"death\": 196561.0, \"deathIncrease\": 869.0, \"positiveRate\": 0.047, \"state\": \"US\", \"sma7d\": 751.571}, {\"date\": \"2020-09-27T00:00:00\", \"totalTestResultsIncrease\": 830686.0, \"positiveIncrease\": 35454.0, \"death\": 196868.0, \"deathIncrease\": 307.0, \"positiveRate\": 0.043, \"state\": \"US\", \"sma7d\": 748.714}, {\"date\": \"2020-09-28T00:00:00\", \"totalTestResultsIncrease\": 1121479.0, \"positiveIncrease\": 36524.0, \"death\": 197125.0, \"deathIncrease\": 257.0, \"positiveRate\": 0.033, \"state\": \"US\", \"sma7d\": 744.429}, {\"date\": \"2020-09-29T00:00:00\", \"totalTestResultsIncrease\": 825336.0, \"positiveIncrease\": 36947.0, \"death\": 197864.0, \"deathIncrease\": 739.0, \"positiveRate\": 0.045, \"state\": \"US\", \"sma7d\": 728.0}, {\"date\": \"2020-09-30T00:00:00\", \"totalTestResultsIncrease\": 814137.0, \"positiveIncrease\": 44424.0, \"death\": 198925.0, \"deathIncrease\": 1061.0, \"positiveRate\": 0.055, \"state\": \"US\", \"sma7d\": 714.0}, {\"date\": \"2020-10-01T00:00:00\", \"totalTestResultsIncrease\": 899663.0, \"positiveIncrease\": 45694.0, \"death\": 199776.0, \"deathIncrease\": 851.0, \"positiveRate\": 0.051, \"state\": \"US\", \"sma7d\": 704.0}, {\"date\": \"2020-10-02T00:00:00\", \"totalTestResultsIncrease\": 1128719.0, \"positiveIncrease\": 49534.0, \"death\": 200611.0, \"deathIncrease\": 835.0, \"positiveRate\": 0.044, \"state\": \"US\", \"sma7d\": 702.714}, {\"date\": \"2020-10-03T00:00:00\", \"totalTestResultsIncrease\": 999895.0, \"positiveIncrease\": 51372.0, \"death\": 201352.0, \"deathIncrease\": 741.0, \"positiveRate\": 0.051, \"state\": \"US\", \"sma7d\": 684.429}, {\"date\": \"2020-10-04T00:00:00\", \"totalTestResultsIncrease\": 958782.0, \"positiveIncrease\": 38439.0, \"death\": 201715.0, \"deathIncrease\": 363.0, \"positiveRate\": 0.04, \"state\": \"US\", \"sma7d\": 692.429}, {\"date\": \"2020-10-05T00:00:00\", \"totalTestResultsIncrease\": 937079.0, \"positiveIncrease\": 38133.0, \"death\": 202041.0, \"deathIncrease\": 326.0, \"positiveRate\": 0.041, \"state\": \"US\", \"sma7d\": 702.286}, {\"date\": \"2020-10-06T00:00:00\", \"totalTestResultsIncrease\": 824253.0, \"positiveIncrease\": 38661.0, \"death\": 202675.0, \"deathIncrease\": 634.0, \"positiveRate\": 0.047, \"state\": \"US\", \"sma7d\": 687.286}, {\"date\": \"2020-10-07T00:00:00\", \"totalTestResultsIncrease\": 862764.0, \"positiveIncrease\": 50602.0, \"death\": 203591.0, \"deathIncrease\": 916.0, \"positiveRate\": 0.059, \"state\": \"US\", \"sma7d\": 666.571}, {\"date\": \"2020-10-08T00:00:00\", \"totalTestResultsIncrease\": 1040059.0, \"positiveIncrease\": 55352.0, \"death\": 204577.0, \"deathIncrease\": 986.0, \"positiveRate\": 0.053, \"state\": \"US\", \"sma7d\": 685.857}, {\"date\": \"2020-10-09T00:00:00\", \"totalTestResultsIncrease\": 1092407.0, \"positiveIncrease\": 57060.0, \"death\": 205470.0, \"deathIncrease\": 893.0, \"positiveRate\": 0.052, \"state\": \"US\", \"sma7d\": 694.143}, {\"date\": \"2020-10-10T00:00:00\", \"totalTestResultsIncrease\": 1133178.0, \"positiveIncrease\": 57206.0, \"death\": 206133.0, \"deathIncrease\": 663.0, \"positiveRate\": 0.05, \"state\": \"US\", \"sma7d\": 683.0}, {\"date\": \"2020-10-11T00:00:00\", \"totalTestResultsIncrease\": 943645.0, \"positiveIncrease\": 46776.0, \"death\": 206597.0, \"deathIncrease\": 464.0, \"positiveRate\": 0.05, \"state\": \"US\", \"sma7d\": 697.429}, {\"date\": \"2020-10-12T00:00:00\", \"totalTestResultsIncrease\": 1000648.0, \"positiveIncrease\": 42845.0, \"death\": 206821.0, \"deathIncrease\": 284.0, \"positiveRate\": 0.043, \"state\": \"US\", \"sma7d\": 691.429}]}}, {\"mode\": \"vega-lite\"});\n",
       "</script>"
      ],
      "text/plain": [
       "alt.LayerChart(...)"
      ]
     },
     "execution_count": 9,
     "metadata": {},
     "output_type": "execute_result"
    }
   ],
   "source": [
    "create_plot(us, 'deathIncrease')"
   ]
  },
  {
   "cell_type": "markdown",
   "metadata": {
    "papermill": {
     "duration": 0.016439,
     "end_time": "2020-10-12T22:34:08.819355",
     "exception": false,
     "start_time": "2020-10-12T22:34:08.802916",
     "status": "completed"
    },
    "tags": []
   },
   "source": [
    "## NY"
   ]
  },
  {
   "cell_type": "code",
   "execution_count": 10,
   "metadata": {
    "execution": {
     "iopub.execute_input": "2020-10-12T22:34:08.853231Z",
     "iopub.status.busy": "2020-10-12T22:34:08.852638Z",
     "iopub.status.idle": "2020-10-12T22:34:09.172227Z",
     "shell.execute_reply": "2020-10-12T22:34:09.171679Z"
    },
    "papermill": {
     "duration": 0.337951,
     "end_time": "2020-10-12T22:34:09.172383",
     "exception": false,
     "start_time": "2020-10-12T22:34:08.834432",
     "status": "completed"
    },
    "tags": []
   },
   "outputs": [],
   "source": [
    "ny = create_df(df, (lambda d: d['state'] == 'NY'), 'New York')"
   ]
  },
  {
   "cell_type": "code",
   "execution_count": 11,
   "metadata": {
    "execution": {
     "iopub.execute_input": "2020-10-12T22:34:09.254364Z",
     "iopub.status.busy": "2020-10-12T22:34:09.239179Z",
     "iopub.status.idle": "2020-10-12T22:34:09.309478Z",
     "shell.execute_reply": "2020-10-12T22:34:09.309963Z"
    },
    "papermill": {
     "duration": 0.121326,
     "end_time": "2020-10-12T22:34:09.310147",
     "exception": false,
     "start_time": "2020-10-12T22:34:09.188821",
     "status": "completed"
    },
    "tags": []
   },
   "outputs": [
    {
     "data": {
      "text/html": [
       "\n",
       "<div id=\"altair-viz-9219dd45732742fcb287f15b709c1614\"></div>\n",
       "<script type=\"text/javascript\">\n",
       "  (function(spec, embedOpt){\n",
       "    let outputDiv = document.currentScript.previousElementSibling;\n",
       "    if (outputDiv.id !== \"altair-viz-9219dd45732742fcb287f15b709c1614\") {\n",
       "      outputDiv = document.getElementById(\"altair-viz-9219dd45732742fcb287f15b709c1614\");\n",
       "    }\n",
       "    const paths = {\n",
       "      \"vega\": \"https://cdn.jsdelivr.net/npm//vega@5?noext\",\n",
       "      \"vega-lib\": \"https://cdn.jsdelivr.net/npm//vega-lib?noext\",\n",
       "      \"vega-lite\": \"https://cdn.jsdelivr.net/npm//vega-lite@4.8.1?noext\",\n",
       "      \"vega-embed\": \"https://cdn.jsdelivr.net/npm//vega-embed@6?noext\",\n",
       "    };\n",
       "\n",
       "    function loadScript(lib) {\n",
       "      return new Promise(function(resolve, reject) {\n",
       "        var s = document.createElement('script');\n",
       "        s.src = paths[lib];\n",
       "        s.async = true;\n",
       "        s.onload = () => resolve(paths[lib]);\n",
       "        s.onerror = () => reject(`Error loading script: ${paths[lib]}`);\n",
       "        document.getElementsByTagName(\"head\")[0].appendChild(s);\n",
       "      });\n",
       "    }\n",
       "\n",
       "    function showError(err) {\n",
       "      outputDiv.innerHTML = `<div class=\"error\" style=\"color:red;\">${err}</div>`;\n",
       "      throw err;\n",
       "    }\n",
       "\n",
       "    function displayChart(vegaEmbed) {\n",
       "      vegaEmbed(outputDiv, spec, embedOpt)\n",
       "        .catch(err => showError(`Javascript Error: ${err.message}<br>This usually means there's a typo in your chart specification. See the javascript console for the full traceback.`));\n",
       "    }\n",
       "\n",
       "    if(typeof define === \"function\" && define.amd) {\n",
       "      requirejs.config({paths});\n",
       "      require([\"vega-embed\"], displayChart, err => showError(`Error loading script: ${err.message}`));\n",
       "    } else if (typeof vegaEmbed === \"function\") {\n",
       "      displayChart(vegaEmbed);\n",
       "    } else {\n",
       "      loadScript(\"vega\")\n",
       "        .then(() => loadScript(\"vega-lite\"))\n",
       "        .then(() => loadScript(\"vega-embed\"))\n",
       "        .catch(showError)\n",
       "        .then(() => displayChart(vegaEmbed));\n",
       "    }\n",
       "  })({\"config\": {\"view\": {\"continuousWidth\": 400, \"continuousHeight\": 300}}, \"layer\": [{\"layer\": [{\"mark\": {\"type\": \"point\", \"size\": 75}, \"encoding\": {\"tooltip\": [{\"type\": \"temporal\", \"field\": \"date\"}, {\"type\": \"quantitative\", \"field\": \"positiveIncrease\"}, {\"type\": \"quantitative\", \"field\": \"sma7d\"}], \"x\": {\"type\": \"temporal\", \"field\": \"date\"}, \"y\": {\"type\": \"quantitative\", \"field\": \"positiveIncrease\"}}, \"selection\": {\"selector008\": {\"type\": \"interval\", \"bind\": \"scales\", \"encodings\": [\"x\", \"y\"]}}}, {\"mark\": {\"type\": \"line\", \"color\": \"purple\"}, \"encoding\": {\"x\": {\"type\": \"temporal\", \"field\": \"date\"}, \"y\": {\"type\": \"quantitative\", \"field\": \"sma7d\"}}}]}, {\"mark\": {\"type\": \"rule\", \"color\": \"#aaa\"}, \"encoding\": {\"x\": {\"type\": \"temporal\", \"field\": \"date\"}}, \"transform\": [{\"filter\": {\"selection\": \"selector007\"}}]}, {\"mark\": \"circle\", \"encoding\": {\"opacity\": {\"condition\": {\"value\": 1, \"selection\": \"selector007\"}, \"value\": 0}, \"tooltip\": [{\"type\": \"temporal\", \"field\": \"date\"}, {\"type\": \"quantitative\", \"field\": \"positiveIncrease\"}, {\"type\": \"quantitative\", \"field\": \"sma7d\"}], \"x\": {\"type\": \"temporal\", \"field\": \"date\"}, \"y\": {\"type\": \"quantitative\", \"field\": \"positiveIncrease\"}}, \"selection\": {\"selector007\": {\"type\": \"single\", \"encodings\": [\"x\"], \"on\": \"mouseover\", \"nearest\": true, \"empty\": \"none\"}}}, {\"mark\": {\"type\": \"text\", \"align\": \"left\", \"dx\": 5, \"dy\": -5, \"stroke\": \"white\", \"strokeWidth\": 2}, \"encoding\": {\"text\": {\"type\": \"quantitative\", \"field\": \"positiveIncrease\"}, \"tooltip\": [{\"type\": \"temporal\", \"field\": \"date\"}, {\"type\": \"quantitative\", \"field\": \"positiveIncrease\"}, {\"type\": \"quantitative\", \"field\": \"sma7d\"}], \"x\": {\"type\": \"temporal\", \"field\": \"date\"}, \"y\": {\"type\": \"quantitative\", \"field\": \"positiveIncrease\"}}, \"transform\": [{\"filter\": {\"selection\": \"selector007\"}}]}, {\"mark\": {\"type\": \"text\", \"align\": \"left\", \"dx\": 5, \"dy\": -5}, \"encoding\": {\"text\": {\"type\": \"quantitative\", \"field\": \"positiveIncrease\"}, \"tooltip\": [{\"type\": \"temporal\", \"field\": \"date\"}, {\"type\": \"quantitative\", \"field\": \"positiveIncrease\"}, {\"type\": \"quantitative\", \"field\": \"sma7d\"}], \"x\": {\"type\": \"temporal\", \"field\": \"date\"}, \"y\": {\"type\": \"quantitative\", \"field\": \"positiveIncrease\"}}, \"transform\": [{\"filter\": {\"selection\": \"selector007\"}}]}], \"data\": {\"name\": \"data-26b0023c154c0183d6d4ef3ff9d0346a\"}, \"height\": 400, \"title\": \"New York: positiveIncrease\", \"width\": 500, \"$schema\": \"https://vega.github.io/schema/vega-lite/v4.8.1.json\", \"datasets\": {\"data-26b0023c154c0183d6d4ef3ff9d0346a\": [{\"date\": \"2020-08-18T00:00:00\", \"totalTestResultsIncrease\": 66891.0, \"positiveIncrease\": 655.0, \"death\": 25264.0, \"deathIncrease\": 8.0, \"positiveRate\": 0.01, \"state\": \"New York\", \"sma7d\": 652.571}, {\"date\": \"2020-08-19T00:00:00\", \"totalTestResultsIncrease\": 80425.0, \"positiveIncrease\": 631.0, \"death\": 25270.0, \"deathIncrease\": 6.0, \"positiveRate\": 0.008, \"state\": \"New York\", \"sma7d\": 642.714}, {\"date\": \"2020-08-20T00:00:00\", \"totalTestResultsIncrease\": 80984.0, \"positiveIncrease\": 601.0, \"death\": 25275.0, \"deathIncrease\": 5.0, \"positiveRate\": 0.007, \"state\": \"New York\", \"sma7d\": 623.286}, {\"date\": \"2020-08-21T00:00:00\", \"totalTestResultsIncrease\": 98880.0, \"positiveIncrease\": 709.0, \"death\": 25278.0, \"deathIncrease\": 3.0, \"positiveRate\": 0.007, \"state\": \"New York\", \"sma7d\": 620.714}, {\"date\": \"2020-08-22T00:00:00\", \"totalTestResultsIncrease\": 94849.0, \"positiveIncrease\": 653.0, \"death\": 25282.0, \"deathIncrease\": 4.0, \"positiveRate\": 0.007, \"state\": \"New York\", \"sma7d\": 609.143}, {\"date\": \"2020-08-23T00:00:00\", \"totalTestResultsIncrease\": 74043.0, \"positiveIncrease\": 572.0, \"death\": 25288.0, \"deathIncrease\": 6.0, \"positiveRate\": 0.008, \"state\": \"New York\", \"sma7d\": 604.143}, {\"date\": \"2020-08-24T00:00:00\", \"totalTestResultsIncrease\": 62031.0, \"positiveIncrease\": 408.0, \"death\": 25295.0, \"deathIncrease\": 7.0, \"positiveRate\": 0.007, \"state\": \"New York\", \"sma7d\": 604.143}, {\"date\": \"2020-08-25T00:00:00\", \"totalTestResultsIncrease\": 67255.0, \"positiveIncrease\": 629.0, \"death\": 25297.0, \"deathIncrease\": 2.0, \"positiveRate\": 0.009, \"state\": \"New York\", \"sma7d\": 600.429}, {\"date\": \"2020-08-26T00:00:00\", \"totalTestResultsIncrease\": 71189.0, \"positiveIncrease\": 566.0, \"death\": 25305.0, \"deathIncrease\": 8.0, \"positiveRate\": 0.008, \"state\": \"New York\", \"sma7d\": 591.143}, {\"date\": \"2020-08-27T00:00:00\", \"totalTestResultsIncrease\": 83437.0, \"positiveIncrease\": 791.0, \"death\": 25309.0, \"deathIncrease\": 4.0, \"positiveRate\": 0.009, \"state\": \"New York\", \"sma7d\": 618.286}, {\"date\": \"2020-08-28T00:00:00\", \"totalTestResultsIncrease\": 97826.0, \"positiveIncrease\": 636.0, \"death\": 25312.0, \"deathIncrease\": 3.0, \"positiveRate\": 0.007, \"state\": \"New York\", \"sma7d\": 607.857}, {\"date\": \"2020-08-29T00:00:00\", \"totalTestResultsIncrease\": 93873.0, \"positiveIncrease\": 635.0, \"death\": 25319.0, \"deathIncrease\": 7.0, \"positiveRate\": 0.007, \"state\": \"New York\", \"sma7d\": 605.286}, {\"date\": \"2020-08-30T00:00:00\", \"totalTestResultsIncrease\": 100022.0, \"positiveIncrease\": 698.0, \"death\": 25327.0, \"deathIncrease\": 8.0, \"positiveRate\": 0.007, \"state\": \"New York\", \"sma7d\": 623.286}, {\"date\": \"2020-08-31T00:00:00\", \"totalTestResultsIncrease\": 66241.0, \"positiveIncrease\": 656.0, \"death\": 25328.0, \"deathIncrease\": 1.0, \"positiveRate\": 0.01, \"state\": \"New York\", \"sma7d\": 658.714}, {\"date\": \"2020-09-01T00:00:00\", \"totalTestResultsIncrease\": 76997.0, \"positiveIncrease\": 754.0, \"death\": 25331.0, \"deathIncrease\": 3.0, \"positiveRate\": 0.01, \"state\": \"New York\", \"sma7d\": 676.571}, {\"date\": \"2020-09-02T00:00:00\", \"totalTestResultsIncrease\": 88447.0, \"positiveIncrease\": 708.0, \"death\": 25336.0, \"deathIncrease\": 5.0, \"positiveRate\": 0.008, \"state\": \"New York\", \"sma7d\": 696.857}, {\"date\": \"2020-09-03T00:00:00\", \"totalTestResultsIncrease\": 88981.0, \"positiveIncrease\": 889.0, \"death\": 25343.0, \"deathIncrease\": 7.0, \"positiveRate\": 0.01, \"state\": \"New York\", \"sma7d\": 710.857}, {\"date\": \"2020-09-04T00:00:00\", \"totalTestResultsIncrease\": 93395.0, \"positiveIncrease\": 864.0, \"death\": 25348.0, \"deathIncrease\": 5.0, \"positiveRate\": 0.009, \"state\": \"New York\", \"sma7d\": 743.429}, {\"date\": \"2020-09-05T00:00:00\", \"totalTestResultsIncrease\": 99761.0, \"positiveIncrease\": 801.0, \"death\": 25350.0, \"deathIncrease\": 2.0, \"positiveRate\": 0.008, \"state\": \"New York\", \"sma7d\": 767.143}, {\"date\": \"2020-09-06T00:00:00\", \"totalTestResultsIncrease\": 85630.0, \"positiveIncrease\": 729.0, \"death\": 25359.0, \"deathIncrease\": 9.0, \"positiveRate\": 0.009, \"state\": \"New York\", \"sma7d\": 771.571}, {\"date\": \"2020-09-07T00:00:00\", \"totalTestResultsIncrease\": 58865.0, \"positiveIncrease\": 520.0, \"death\": 25361.0, \"deathIncrease\": 2.0, \"positiveRate\": 0.009, \"state\": \"New York\", \"sma7d\": 752.143}, {\"date\": \"2020-09-08T00:00:00\", \"totalTestResultsIncrease\": 57826.0, \"positiveIncrease\": 557.0, \"death\": 25367.0, \"deathIncrease\": 6.0, \"positiveRate\": 0.01, \"state\": \"New York\", \"sma7d\": 724.0}, {\"date\": \"2020-09-09T00:00:00\", \"totalTestResultsIncrease\": 63230.0, \"positiveIncrease\": 576.0, \"death\": 25370.0, \"deathIncrease\": 3.0, \"positiveRate\": 0.009, \"state\": \"New York\", \"sma7d\": 705.143}, {\"date\": \"2020-09-10T00:00:00\", \"totalTestResultsIncrease\": 76813.0, \"positiveIncrease\": 757.0, \"death\": 25377.0, \"deathIncrease\": 7.0, \"positiveRate\": 0.01, \"state\": \"New York\", \"sma7d\": 686.286}, {\"date\": \"2020-09-11T00:00:00\", \"totalTestResultsIncrease\": 89722.0, \"positiveIncrease\": 880.0, \"death\": 25382.0, \"deathIncrease\": 5.0, \"positiveRate\": 0.01, \"state\": \"New York\", \"sma7d\": 688.571}, {\"date\": \"2020-09-12T00:00:00\", \"totalTestResultsIncrease\": 102925.0, \"positiveIncrease\": 849.0, \"death\": 25384.0, \"deathIncrease\": 2.0, \"positiveRate\": 0.008, \"state\": \"New York\", \"sma7d\": 695.429}, {\"date\": \"2020-09-13T00:00:00\", \"totalTestResultsIncrease\": 72668.0, \"positiveIncrease\": 725.0, \"death\": 25390.0, \"deathIncrease\": 6.0, \"positiveRate\": 0.01, \"state\": \"New York\", \"sma7d\": 694.857}, {\"date\": \"2020-09-14T00:00:00\", \"totalTestResultsIncrease\": 63358.0, \"positiveIncrease\": 583.0, \"death\": 25394.0, \"deathIncrease\": 4.0, \"positiveRate\": 0.009, \"state\": \"New York\", \"sma7d\": 703.857}, {\"date\": \"2020-09-15T00:00:00\", \"totalTestResultsIncrease\": 73678.0, \"positiveIncrease\": 766.0, \"death\": 25405.0, \"deathIncrease\": 11.0, \"positiveRate\": 0.01, \"state\": \"New York\", \"sma7d\": 733.714}, {\"date\": \"2020-09-16T00:00:00\", \"totalTestResultsIncrease\": 75087.0, \"positiveIncrease\": 652.0, \"death\": 25410.0, \"deathIncrease\": 5.0, \"positiveRate\": 0.009, \"state\": \"New York\", \"sma7d\": 744.571}, {\"date\": \"2020-09-17T00:00:00\", \"totalTestResultsIncrease\": 91504.0, \"positiveIncrease\": 896.0, \"death\": 25413.0, \"deathIncrease\": 3.0, \"positiveRate\": 0.01, \"state\": \"New York\", \"sma7d\": 764.429}, {\"date\": \"2020-09-18T00:00:00\", \"totalTestResultsIncrease\": 89727.0, \"positiveIncrease\": 790.0, \"death\": 25423.0, \"deathIncrease\": 10.0, \"positiveRate\": 0.009, \"state\": \"New York\", \"sma7d\": 751.571}, {\"date\": \"2020-09-19T00:00:00\", \"totalTestResultsIncrease\": 110444.0, \"positiveIncrease\": 986.0, \"death\": 25425.0, \"deathIncrease\": 2.0, \"positiveRate\": 0.009, \"state\": \"New York\", \"sma7d\": 771.143}, {\"date\": \"2020-09-20T00:00:00\", \"totalTestResultsIncrease\": 100355.0, \"positiveIncrease\": 862.0, \"death\": 25427.0, \"deathIncrease\": 2.0, \"positiveRate\": 0.009, \"state\": \"New York\", \"sma7d\": 790.714}, {\"date\": \"2020-09-21T00:00:00\", \"totalTestResultsIncrease\": 58319.0, \"positiveIncrease\": 573.0, \"death\": 25428.0, \"deathIncrease\": 1.0, \"positiveRate\": 0.01, \"state\": \"New York\", \"sma7d\": 789.286}, {\"date\": \"2020-09-22T00:00:00\", \"totalTestResultsIncrease\": 83997.0, \"positiveIncrease\": 754.0, \"death\": 25432.0, \"deathIncrease\": 4.0, \"positiveRate\": 0.009, \"state\": \"New York\", \"sma7d\": 787.571}, {\"date\": \"2020-09-23T00:00:00\", \"totalTestResultsIncrease\": 70930.0, \"positiveIncrease\": 665.0, \"death\": 25437.0, \"deathIncrease\": 5.0, \"positiveRate\": 0.009, \"state\": \"New York\", \"sma7d\": 789.429}, {\"date\": \"2020-09-24T00:00:00\", \"totalTestResultsIncrease\": 92953.0, \"positiveIncrease\": 955.0, \"death\": 25439.0, \"deathIncrease\": 2.0, \"positiveRate\": 0.01, \"state\": \"New York\", \"sma7d\": 797.857}, {\"date\": \"2020-09-25T00:00:00\", \"totalTestResultsIncrease\": 94818.0, \"positiveIncrease\": 908.0, \"death\": 25446.0, \"deathIncrease\": 7.0, \"positiveRate\": 0.01, \"state\": \"New York\", \"sma7d\": 814.714}, {\"date\": \"2020-09-26T00:00:00\", \"totalTestResultsIncrease\": 99953.0, \"positiveIncrease\": 1005.0, \"death\": 25450.0, \"deathIncrease\": 4.0, \"positiveRate\": 0.01, \"state\": \"New York\", \"sma7d\": 817.429}, {\"date\": \"2020-09-27T00:00:00\", \"totalTestResultsIncrease\": 84770.0, \"positiveIncrease\": 866.0, \"death\": 25456.0, \"deathIncrease\": 6.0, \"positiveRate\": 0.01, \"state\": \"New York\", \"sma7d\": 818.0}, {\"date\": \"2020-09-28T00:00:00\", \"totalTestResultsIncrease\": 52936.0, \"positiveIncrease\": 834.0, \"death\": 25468.0, \"deathIncrease\": 12.0, \"positiveRate\": 0.016, \"state\": \"New York\", \"sma7d\": 855.286}, {\"date\": \"2020-09-29T00:00:00\", \"totalTestResultsIncrease\": 88231.0, \"positiveIncrease\": 1189.0, \"death\": 25470.0, \"deathIncrease\": 2.0, \"positiveRate\": 0.013, \"state\": \"New York\", \"sma7d\": 917.429}, {\"date\": \"2020-09-30T00:00:00\", \"totalTestResultsIncrease\": 97960.0, \"positiveIncrease\": 1000.0, \"death\": 25479.0, \"deathIncrease\": 9.0, \"positiveRate\": 0.01, \"state\": \"New York\", \"sma7d\": 965.286}, {\"date\": \"2020-10-01T00:00:00\", \"totalTestResultsIncrease\": 109218.0, \"positiveIncrease\": 1382.0, \"death\": 25490.0, \"deathIncrease\": 11.0, \"positiveRate\": 0.013, \"state\": \"New York\", \"sma7d\": 1026.286}, {\"date\": \"2020-10-02T00:00:00\", \"totalTestResultsIncrease\": 119493.0, \"positiveIncrease\": 1598.0, \"death\": 25497.0, \"deathIncrease\": 7.0, \"positiveRate\": 0.013, \"state\": \"New York\", \"sma7d\": 1124.857}, {\"date\": \"2020-10-03T00:00:00\", \"totalTestResultsIncrease\": 134267.0, \"positiveIncrease\": 1731.0, \"death\": 25505.0, \"deathIncrease\": 8.0, \"positiveRate\": 0.013, \"state\": \"New York\", \"sma7d\": 1228.571}, {\"date\": \"2020-10-04T00:00:00\", \"totalTestResultsIncrease\": 110329.0, \"positiveIncrease\": 1222.0, \"death\": 25519.0, \"deathIncrease\": 14.0, \"positiveRate\": 0.011, \"state\": \"New York\", \"sma7d\": 1279.429}, {\"date\": \"2020-10-05T00:00:00\", \"totalTestResultsIncrease\": 76404.0, \"positiveIncrease\": 933.0, \"death\": 25527.0, \"deathIncrease\": 8.0, \"positiveRate\": 0.012, \"state\": \"New York\", \"sma7d\": 1293.571}, {\"date\": \"2020-10-06T00:00:00\", \"totalTestResultsIncrease\": 96359.0, \"positiveIncrease\": 1393.0, \"death\": 25536.0, \"deathIncrease\": 9.0, \"positiveRate\": 0.014, \"state\": \"New York\", \"sma7d\": 1322.714}, {\"date\": \"2020-10-07T00:00:00\", \"totalTestResultsIncrease\": 108246.0, \"positiveIncrease\": 1360.0, \"death\": 25545.0, \"deathIncrease\": 9.0, \"positiveRate\": 0.013, \"state\": \"New York\", \"sma7d\": 1374.143}, {\"date\": \"2020-10-08T00:00:00\", \"totalTestResultsIncrease\": 145811.0, \"positiveIncrease\": 1836.0, \"death\": 25555.0, \"deathIncrease\": 10.0, \"positiveRate\": 0.013, \"state\": \"New York\", \"sma7d\": 1439.0}, {\"date\": \"2020-10-09T00:00:00\", \"totalTestResultsIncrease\": 139300.0, \"positiveIncrease\": 1592.0, \"death\": 25561.0, \"deathIncrease\": 6.0, \"positiveRate\": 0.011, \"state\": \"New York\", \"sma7d\": 1438.143}, {\"date\": \"2020-10-10T00:00:00\", \"totalTestResultsIncrease\": 134579.0, \"positiveIncrease\": 1447.0, \"death\": 25569.0, \"deathIncrease\": 8.0, \"positiveRate\": 0.011, \"state\": \"New York\", \"sma7d\": 1397.571}, {\"date\": \"2020-10-11T00:00:00\", \"totalTestResultsIncrease\": 118254.0, \"positiveIncrease\": 1143.0, \"death\": 25574.0, \"deathIncrease\": 5.0, \"positiveRate\": 0.01, \"state\": \"New York\", \"sma7d\": 1386.286}, {\"date\": \"2020-10-12T00:00:00\", \"totalTestResultsIncrease\": 91793.0, \"positiveIncrease\": 1029.0, \"death\": 25587.0, \"deathIncrease\": 13.0, \"positiveRate\": 0.011, \"state\": \"New York\", \"sma7d\": 1400.0}]}}, {\"mode\": \"vega-lite\"});\n",
       "</script>"
      ],
      "text/plain": [
       "alt.LayerChart(...)"
      ]
     },
     "execution_count": 11,
     "metadata": {},
     "output_type": "execute_result"
    }
   ],
   "source": [
    "create_plot(ny, 'positiveIncrease')"
   ]
  },
  {
   "cell_type": "code",
   "execution_count": 12,
   "metadata": {
    "execution": {
     "iopub.execute_input": "2020-10-12T22:34:09.364957Z",
     "iopub.status.busy": "2020-10-12T22:34:09.364271Z",
     "iopub.status.idle": "2020-10-12T22:34:09.460554Z",
     "shell.execute_reply": "2020-10-12T22:34:09.461093Z"
    },
    "papermill": {
     "duration": 0.126922,
     "end_time": "2020-10-12T22:34:09.461291",
     "exception": false,
     "start_time": "2020-10-12T22:34:09.334369",
     "status": "completed"
    },
    "tags": []
   },
   "outputs": [
    {
     "data": {
      "text/html": [
       "\n",
       "<div id=\"altair-viz-2bafedc870df4eddad1bf5d053faa9d8\"></div>\n",
       "<script type=\"text/javascript\">\n",
       "  (function(spec, embedOpt){\n",
       "    let outputDiv = document.currentScript.previousElementSibling;\n",
       "    if (outputDiv.id !== \"altair-viz-2bafedc870df4eddad1bf5d053faa9d8\") {\n",
       "      outputDiv = document.getElementById(\"altair-viz-2bafedc870df4eddad1bf5d053faa9d8\");\n",
       "    }\n",
       "    const paths = {\n",
       "      \"vega\": \"https://cdn.jsdelivr.net/npm//vega@5?noext\",\n",
       "      \"vega-lib\": \"https://cdn.jsdelivr.net/npm//vega-lib?noext\",\n",
       "      \"vega-lite\": \"https://cdn.jsdelivr.net/npm//vega-lite@4.8.1?noext\",\n",
       "      \"vega-embed\": \"https://cdn.jsdelivr.net/npm//vega-embed@6?noext\",\n",
       "    };\n",
       "\n",
       "    function loadScript(lib) {\n",
       "      return new Promise(function(resolve, reject) {\n",
       "        var s = document.createElement('script');\n",
       "        s.src = paths[lib];\n",
       "        s.async = true;\n",
       "        s.onload = () => resolve(paths[lib]);\n",
       "        s.onerror = () => reject(`Error loading script: ${paths[lib]}`);\n",
       "        document.getElementsByTagName(\"head\")[0].appendChild(s);\n",
       "      });\n",
       "    }\n",
       "\n",
       "    function showError(err) {\n",
       "      outputDiv.innerHTML = `<div class=\"error\" style=\"color:red;\">${err}</div>`;\n",
       "      throw err;\n",
       "    }\n",
       "\n",
       "    function displayChart(vegaEmbed) {\n",
       "      vegaEmbed(outputDiv, spec, embedOpt)\n",
       "        .catch(err => showError(`Javascript Error: ${err.message}<br>This usually means there's a typo in your chart specification. See the javascript console for the full traceback.`));\n",
       "    }\n",
       "\n",
       "    if(typeof define === \"function\" && define.amd) {\n",
       "      requirejs.config({paths});\n",
       "      require([\"vega-embed\"], displayChart, err => showError(`Error loading script: ${err.message}`));\n",
       "    } else if (typeof vegaEmbed === \"function\") {\n",
       "      displayChart(vegaEmbed);\n",
       "    } else {\n",
       "      loadScript(\"vega\")\n",
       "        .then(() => loadScript(\"vega-lite\"))\n",
       "        .then(() => loadScript(\"vega-embed\"))\n",
       "        .catch(showError)\n",
       "        .then(() => displayChart(vegaEmbed));\n",
       "    }\n",
       "  })({\"config\": {\"view\": {\"continuousWidth\": 400, \"continuousHeight\": 300}}, \"layer\": [{\"layer\": [{\"mark\": {\"type\": \"point\", \"size\": 75}, \"encoding\": {\"tooltip\": [{\"type\": \"temporal\", \"field\": \"date\"}, {\"type\": \"quantitative\", \"field\": \"positiveRate\"}, {\"type\": \"quantitative\", \"field\": \"sma7d\"}], \"x\": {\"type\": \"temporal\", \"field\": \"date\"}, \"y\": {\"type\": \"quantitative\", \"field\": \"positiveRate\"}}, \"selection\": {\"selector010\": {\"type\": \"interval\", \"bind\": \"scales\", \"encodings\": [\"x\", \"y\"]}}}, {\"mark\": {\"type\": \"line\", \"color\": \"purple\"}, \"encoding\": {\"x\": {\"type\": \"temporal\", \"field\": \"date\"}, \"y\": {\"type\": \"quantitative\", \"field\": \"sma7d\"}}}]}, {\"mark\": {\"type\": \"rule\", \"color\": \"#aaa\"}, \"encoding\": {\"x\": {\"type\": \"temporal\", \"field\": \"date\"}}, \"transform\": [{\"filter\": {\"selection\": \"selector009\"}}]}, {\"mark\": \"circle\", \"encoding\": {\"opacity\": {\"condition\": {\"value\": 1, \"selection\": \"selector009\"}, \"value\": 0}, \"tooltip\": [{\"type\": \"temporal\", \"field\": \"date\"}, {\"type\": \"quantitative\", \"field\": \"positiveRate\"}, {\"type\": \"quantitative\", \"field\": \"sma7d\"}], \"x\": {\"type\": \"temporal\", \"field\": \"date\"}, \"y\": {\"type\": \"quantitative\", \"field\": \"positiveRate\"}}, \"selection\": {\"selector009\": {\"type\": \"single\", \"encodings\": [\"x\"], \"on\": \"mouseover\", \"nearest\": true, \"empty\": \"none\"}}}, {\"mark\": {\"type\": \"text\", \"align\": \"left\", \"dx\": 5, \"dy\": -5, \"stroke\": \"white\", \"strokeWidth\": 2}, \"encoding\": {\"text\": {\"type\": \"quantitative\", \"field\": \"positiveRate\"}, \"tooltip\": [{\"type\": \"temporal\", \"field\": \"date\"}, {\"type\": \"quantitative\", \"field\": \"positiveRate\"}, {\"type\": \"quantitative\", \"field\": \"sma7d\"}], \"x\": {\"type\": \"temporal\", \"field\": \"date\"}, \"y\": {\"type\": \"quantitative\", \"field\": \"positiveRate\"}}, \"transform\": [{\"filter\": {\"selection\": \"selector009\"}}]}, {\"mark\": {\"type\": \"text\", \"align\": \"left\", \"dx\": 5, \"dy\": -5}, \"encoding\": {\"text\": {\"type\": \"quantitative\", \"field\": \"positiveRate\"}, \"tooltip\": [{\"type\": \"temporal\", \"field\": \"date\"}, {\"type\": \"quantitative\", \"field\": \"positiveRate\"}, {\"type\": \"quantitative\", \"field\": \"sma7d\"}], \"x\": {\"type\": \"temporal\", \"field\": \"date\"}, \"y\": {\"type\": \"quantitative\", \"field\": \"positiveRate\"}}, \"transform\": [{\"filter\": {\"selection\": \"selector009\"}}]}], \"data\": {\"name\": \"data-ff8a7afb2e30fa07350aee389ac4255e\"}, \"height\": 400, \"title\": \"New York: positiveRate\", \"width\": 500, \"$schema\": \"https://vega.github.io/schema/vega-lite/v4.8.1.json\", \"datasets\": {\"data-ff8a7afb2e30fa07350aee389ac4255e\": [{\"date\": \"2020-08-18T00:00:00\", \"totalTestResultsIncrease\": 66891.0, \"positiveIncrease\": 655.0, \"death\": 25264.0, \"deathIncrease\": 8.0, \"positiveRate\": 0.01, \"state\": \"New York\", \"sma7d\": 0.008}, {\"date\": \"2020-08-19T00:00:00\", \"totalTestResultsIncrease\": 80425.0, \"positiveIncrease\": 631.0, \"death\": 25270.0, \"deathIncrease\": 6.0, \"positiveRate\": 0.008, \"state\": \"New York\", \"sma7d\": 0.008}, {\"date\": \"2020-08-20T00:00:00\", \"totalTestResultsIncrease\": 80984.0, \"positiveIncrease\": 601.0, \"death\": 25275.0, \"deathIncrease\": 5.0, \"positiveRate\": 0.007, \"state\": \"New York\", \"sma7d\": 0.008}, {\"date\": \"2020-08-21T00:00:00\", \"totalTestResultsIncrease\": 98880.0, \"positiveIncrease\": 709.0, \"death\": 25278.0, \"deathIncrease\": 3.0, \"positiveRate\": 0.007, \"state\": \"New York\", \"sma7d\": 0.008}, {\"date\": \"2020-08-22T00:00:00\", \"totalTestResultsIncrease\": 94849.0, \"positiveIncrease\": 653.0, \"death\": 25282.0, \"deathIncrease\": 4.0, \"positiveRate\": 0.007, \"state\": \"New York\", \"sma7d\": 0.008}, {\"date\": \"2020-08-23T00:00:00\", \"totalTestResultsIncrease\": 74043.0, \"positiveIncrease\": 572.0, \"death\": 25288.0, \"deathIncrease\": 6.0, \"positiveRate\": 0.008, \"state\": \"New York\", \"sma7d\": 0.008}, {\"date\": \"2020-08-24T00:00:00\", \"totalTestResultsIncrease\": 62031.0, \"positiveIncrease\": 408.0, \"death\": 25295.0, \"deathIncrease\": 7.0, \"positiveRate\": 0.007, \"state\": \"New York\", \"sma7d\": 0.008}, {\"date\": \"2020-08-25T00:00:00\", \"totalTestResultsIncrease\": 67255.0, \"positiveIncrease\": 629.0, \"death\": 25297.0, \"deathIncrease\": 2.0, \"positiveRate\": 0.009, \"state\": \"New York\", \"sma7d\": 0.008}, {\"date\": \"2020-08-26T00:00:00\", \"totalTestResultsIncrease\": 71189.0, \"positiveIncrease\": 566.0, \"death\": 25305.0, \"deathIncrease\": 8.0, \"positiveRate\": 0.008, \"state\": \"New York\", \"sma7d\": 0.008}, {\"date\": \"2020-08-27T00:00:00\", \"totalTestResultsIncrease\": 83437.0, \"positiveIncrease\": 791.0, \"death\": 25309.0, \"deathIncrease\": 4.0, \"positiveRate\": 0.009, \"state\": \"New York\", \"sma7d\": 0.008}, {\"date\": \"2020-08-28T00:00:00\", \"totalTestResultsIncrease\": 97826.0, \"positiveIncrease\": 636.0, \"death\": 25312.0, \"deathIncrease\": 3.0, \"positiveRate\": 0.007, \"state\": \"New York\", \"sma7d\": 0.008}, {\"date\": \"2020-08-29T00:00:00\", \"totalTestResultsIncrease\": 93873.0, \"positiveIncrease\": 635.0, \"death\": 25319.0, \"deathIncrease\": 7.0, \"positiveRate\": 0.007, \"state\": \"New York\", \"sma7d\": 0.008}, {\"date\": \"2020-08-30T00:00:00\", \"totalTestResultsIncrease\": 100022.0, \"positiveIncrease\": 698.0, \"death\": 25327.0, \"deathIncrease\": 8.0, \"positiveRate\": 0.007, \"state\": \"New York\", \"sma7d\": 0.008}, {\"date\": \"2020-08-31T00:00:00\", \"totalTestResultsIncrease\": 66241.0, \"positiveIncrease\": 656.0, \"death\": 25328.0, \"deathIncrease\": 1.0, \"positiveRate\": 0.01, \"state\": \"New York\", \"sma7d\": 0.008}, {\"date\": \"2020-09-01T00:00:00\", \"totalTestResultsIncrease\": 76997.0, \"positiveIncrease\": 754.0, \"death\": 25331.0, \"deathIncrease\": 3.0, \"positiveRate\": 0.01, \"state\": \"New York\", \"sma7d\": 0.008}, {\"date\": \"2020-09-02T00:00:00\", \"totalTestResultsIncrease\": 88447.0, \"positiveIncrease\": 708.0, \"death\": 25336.0, \"deathIncrease\": 5.0, \"positiveRate\": 0.008, \"state\": \"New York\", \"sma7d\": 0.008}, {\"date\": \"2020-09-03T00:00:00\", \"totalTestResultsIncrease\": 88981.0, \"positiveIncrease\": 889.0, \"death\": 25343.0, \"deathIncrease\": 7.0, \"positiveRate\": 0.01, \"state\": \"New York\", \"sma7d\": 0.008}, {\"date\": \"2020-09-04T00:00:00\", \"totalTestResultsIncrease\": 93395.0, \"positiveIncrease\": 864.0, \"death\": 25348.0, \"deathIncrease\": 5.0, \"positiveRate\": 0.009, \"state\": \"New York\", \"sma7d\": 0.009}, {\"date\": \"2020-09-05T00:00:00\", \"totalTestResultsIncrease\": 99761.0, \"positiveIncrease\": 801.0, \"death\": 25350.0, \"deathIncrease\": 2.0, \"positiveRate\": 0.008, \"state\": \"New York\", \"sma7d\": 0.009}, {\"date\": \"2020-09-06T00:00:00\", \"totalTestResultsIncrease\": 85630.0, \"positiveIncrease\": 729.0, \"death\": 25359.0, \"deathIncrease\": 9.0, \"positiveRate\": 0.009, \"state\": \"New York\", \"sma7d\": 0.009}, {\"date\": \"2020-09-07T00:00:00\", \"totalTestResultsIncrease\": 58865.0, \"positiveIncrease\": 520.0, \"death\": 25361.0, \"deathIncrease\": 2.0, \"positiveRate\": 0.009, \"state\": \"New York\", \"sma7d\": 0.009}, {\"date\": \"2020-09-08T00:00:00\", \"totalTestResultsIncrease\": 57826.0, \"positiveIncrease\": 557.0, \"death\": 25367.0, \"deathIncrease\": 6.0, \"positiveRate\": 0.01, \"state\": \"New York\", \"sma7d\": 0.009}, {\"date\": \"2020-09-09T00:00:00\", \"totalTestResultsIncrease\": 63230.0, \"positiveIncrease\": 576.0, \"death\": 25370.0, \"deathIncrease\": 3.0, \"positiveRate\": 0.009, \"state\": \"New York\", \"sma7d\": 0.009}, {\"date\": \"2020-09-10T00:00:00\", \"totalTestResultsIncrease\": 76813.0, \"positiveIncrease\": 757.0, \"death\": 25377.0, \"deathIncrease\": 7.0, \"positiveRate\": 0.01, \"state\": \"New York\", \"sma7d\": 0.009}, {\"date\": \"2020-09-11T00:00:00\", \"totalTestResultsIncrease\": 89722.0, \"positiveIncrease\": 880.0, \"death\": 25382.0, \"deathIncrease\": 5.0, \"positiveRate\": 0.01, \"state\": \"New York\", \"sma7d\": 0.009}, {\"date\": \"2020-09-12T00:00:00\", \"totalTestResultsIncrease\": 102925.0, \"positiveIncrease\": 849.0, \"death\": 25384.0, \"deathIncrease\": 2.0, \"positiveRate\": 0.008, \"state\": \"New York\", \"sma7d\": 0.009}, {\"date\": \"2020-09-13T00:00:00\", \"totalTestResultsIncrease\": 72668.0, \"positiveIncrease\": 725.0, \"death\": 25390.0, \"deathIncrease\": 6.0, \"positiveRate\": 0.01, \"state\": \"New York\", \"sma7d\": 0.009}, {\"date\": \"2020-09-14T00:00:00\", \"totalTestResultsIncrease\": 63358.0, \"positiveIncrease\": 583.0, \"death\": 25394.0, \"deathIncrease\": 4.0, \"positiveRate\": 0.009, \"state\": \"New York\", \"sma7d\": 0.009}, {\"date\": \"2020-09-15T00:00:00\", \"totalTestResultsIncrease\": 73678.0, \"positiveIncrease\": 766.0, \"death\": 25405.0, \"deathIncrease\": 11.0, \"positiveRate\": 0.01, \"state\": \"New York\", \"sma7d\": 0.009}, {\"date\": \"2020-09-16T00:00:00\", \"totalTestResultsIncrease\": 75087.0, \"positiveIncrease\": 652.0, \"death\": 25410.0, \"deathIncrease\": 5.0, \"positiveRate\": 0.009, \"state\": \"New York\", \"sma7d\": 0.009}, {\"date\": \"2020-09-17T00:00:00\", \"totalTestResultsIncrease\": 91504.0, \"positiveIncrease\": 896.0, \"death\": 25413.0, \"deathIncrease\": 3.0, \"positiveRate\": 0.01, \"state\": \"New York\", \"sma7d\": 0.009}, {\"date\": \"2020-09-18T00:00:00\", \"totalTestResultsIncrease\": 89727.0, \"positiveIncrease\": 790.0, \"death\": 25423.0, \"deathIncrease\": 10.0, \"positiveRate\": 0.009, \"state\": \"New York\", \"sma7d\": 0.009}, {\"date\": \"2020-09-19T00:00:00\", \"totalTestResultsIncrease\": 110444.0, \"positiveIncrease\": 986.0, \"death\": 25425.0, \"deathIncrease\": 2.0, \"positiveRate\": 0.009, \"state\": \"New York\", \"sma7d\": 0.009}, {\"date\": \"2020-09-20T00:00:00\", \"totalTestResultsIncrease\": 100355.0, \"positiveIncrease\": 862.0, \"death\": 25427.0, \"deathIncrease\": 2.0, \"positiveRate\": 0.009, \"state\": \"New York\", \"sma7d\": 0.009}, {\"date\": \"2020-09-21T00:00:00\", \"totalTestResultsIncrease\": 58319.0, \"positiveIncrease\": 573.0, \"death\": 25428.0, \"deathIncrease\": 1.0, \"positiveRate\": 0.01, \"state\": \"New York\", \"sma7d\": 0.009}, {\"date\": \"2020-09-22T00:00:00\", \"totalTestResultsIncrease\": 83997.0, \"positiveIncrease\": 754.0, \"death\": 25432.0, \"deathIncrease\": 4.0, \"positiveRate\": 0.009, \"state\": \"New York\", \"sma7d\": 0.009}, {\"date\": \"2020-09-23T00:00:00\", \"totalTestResultsIncrease\": 70930.0, \"positiveIncrease\": 665.0, \"death\": 25437.0, \"deathIncrease\": 5.0, \"positiveRate\": 0.009, \"state\": \"New York\", \"sma7d\": 0.009}, {\"date\": \"2020-09-24T00:00:00\", \"totalTestResultsIncrease\": 92953.0, \"positiveIncrease\": 955.0, \"death\": 25439.0, \"deathIncrease\": 2.0, \"positiveRate\": 0.01, \"state\": \"New York\", \"sma7d\": 0.009}, {\"date\": \"2020-09-25T00:00:00\", \"totalTestResultsIncrease\": 94818.0, \"positiveIncrease\": 908.0, \"death\": 25446.0, \"deathIncrease\": 7.0, \"positiveRate\": 0.01, \"state\": \"New York\", \"sma7d\": 0.009}, {\"date\": \"2020-09-26T00:00:00\", \"totalTestResultsIncrease\": 99953.0, \"positiveIncrease\": 1005.0, \"death\": 25450.0, \"deathIncrease\": 4.0, \"positiveRate\": 0.01, \"state\": \"New York\", \"sma7d\": 0.01}, {\"date\": \"2020-09-27T00:00:00\", \"totalTestResultsIncrease\": 84770.0, \"positiveIncrease\": 866.0, \"death\": 25456.0, \"deathIncrease\": 6.0, \"positiveRate\": 0.01, \"state\": \"New York\", \"sma7d\": 0.01}, {\"date\": \"2020-09-28T00:00:00\", \"totalTestResultsIncrease\": 52936.0, \"positiveIncrease\": 834.0, \"death\": 25468.0, \"deathIncrease\": 12.0, \"positiveRate\": 0.016, \"state\": \"New York\", \"sma7d\": 0.011}, {\"date\": \"2020-09-29T00:00:00\", \"totalTestResultsIncrease\": 88231.0, \"positiveIncrease\": 1189.0, \"death\": 25470.0, \"deathIncrease\": 2.0, \"positiveRate\": 0.013, \"state\": \"New York\", \"sma7d\": 0.011}, {\"date\": \"2020-09-30T00:00:00\", \"totalTestResultsIncrease\": 97960.0, \"positiveIncrease\": 1000.0, \"death\": 25479.0, \"deathIncrease\": 9.0, \"positiveRate\": 0.01, \"state\": \"New York\", \"sma7d\": 0.011}, {\"date\": \"2020-10-01T00:00:00\", \"totalTestResultsIncrease\": 109218.0, \"positiveIncrease\": 1382.0, \"death\": 25490.0, \"deathIncrease\": 11.0, \"positiveRate\": 0.013, \"state\": \"New York\", \"sma7d\": 0.012}, {\"date\": \"2020-10-02T00:00:00\", \"totalTestResultsIncrease\": 119493.0, \"positiveIncrease\": 1598.0, \"death\": 25497.0, \"deathIncrease\": 7.0, \"positiveRate\": 0.013, \"state\": \"New York\", \"sma7d\": 0.012}, {\"date\": \"2020-10-03T00:00:00\", \"totalTestResultsIncrease\": 134267.0, \"positiveIncrease\": 1731.0, \"death\": 25505.0, \"deathIncrease\": 8.0, \"positiveRate\": 0.013, \"state\": \"New York\", \"sma7d\": 0.013}, {\"date\": \"2020-10-04T00:00:00\", \"totalTestResultsIncrease\": 110329.0, \"positiveIncrease\": 1222.0, \"death\": 25519.0, \"deathIncrease\": 14.0, \"positiveRate\": 0.011, \"state\": \"New York\", \"sma7d\": 0.013}, {\"date\": \"2020-10-05T00:00:00\", \"totalTestResultsIncrease\": 76404.0, \"positiveIncrease\": 933.0, \"death\": 25527.0, \"deathIncrease\": 8.0, \"positiveRate\": 0.012, \"state\": \"New York\", \"sma7d\": 0.012}, {\"date\": \"2020-10-06T00:00:00\", \"totalTestResultsIncrease\": 96359.0, \"positiveIncrease\": 1393.0, \"death\": 25536.0, \"deathIncrease\": 9.0, \"positiveRate\": 0.014, \"state\": \"New York\", \"sma7d\": 0.012}, {\"date\": \"2020-10-07T00:00:00\", \"totalTestResultsIncrease\": 108246.0, \"positiveIncrease\": 1360.0, \"death\": 25545.0, \"deathIncrease\": 9.0, \"positiveRate\": 0.013, \"state\": \"New York\", \"sma7d\": 0.013}, {\"date\": \"2020-10-08T00:00:00\", \"totalTestResultsIncrease\": 145811.0, \"positiveIncrease\": 1836.0, \"death\": 25555.0, \"deathIncrease\": 10.0, \"positiveRate\": 0.013, \"state\": \"New York\", \"sma7d\": 0.013}, {\"date\": \"2020-10-09T00:00:00\", \"totalTestResultsIncrease\": 139300.0, \"positiveIncrease\": 1592.0, \"death\": 25561.0, \"deathIncrease\": 6.0, \"positiveRate\": 0.011, \"state\": \"New York\", \"sma7d\": 0.012}, {\"date\": \"2020-10-10T00:00:00\", \"totalTestResultsIncrease\": 134579.0, \"positiveIncrease\": 1447.0, \"death\": 25569.0, \"deathIncrease\": 8.0, \"positiveRate\": 0.011, \"state\": \"New York\", \"sma7d\": 0.012}, {\"date\": \"2020-10-11T00:00:00\", \"totalTestResultsIncrease\": 118254.0, \"positiveIncrease\": 1143.0, \"death\": 25574.0, \"deathIncrease\": 5.0, \"positiveRate\": 0.01, \"state\": \"New York\", \"sma7d\": 0.012}, {\"date\": \"2020-10-12T00:00:00\", \"totalTestResultsIncrease\": 91793.0, \"positiveIncrease\": 1029.0, \"death\": 25587.0, \"deathIncrease\": 13.0, \"positiveRate\": 0.011, \"state\": \"New York\", \"sma7d\": 0.012}]}}, {\"mode\": \"vega-lite\"});\n",
       "</script>"
      ],
      "text/plain": [
       "alt.LayerChart(...)"
      ]
     },
     "execution_count": 12,
     "metadata": {},
     "output_type": "execute_result"
    }
   ],
   "source": [
    "create_plot(ny, 'positiveRate')"
   ]
  },
  {
   "cell_type": "code",
   "execution_count": 13,
   "metadata": {
    "execution": {
     "iopub.execute_input": "2020-10-12T22:34:09.503929Z",
     "iopub.status.busy": "2020-10-12T22:34:09.503294Z",
     "iopub.status.idle": "2020-10-12T22:34:09.611394Z",
     "shell.execute_reply": "2020-10-12T22:34:09.612778Z"
    },
    "papermill": {
     "duration": 0.133485,
     "end_time": "2020-10-12T22:34:09.612966",
     "exception": false,
     "start_time": "2020-10-12T22:34:09.479481",
     "status": "completed"
    },
    "tags": []
   },
   "outputs": [
    {
     "data": {
      "text/html": [
       "\n",
       "<div id=\"altair-viz-4f3785e1ebe44323bb6c7aa30d2197e0\"></div>\n",
       "<script type=\"text/javascript\">\n",
       "  (function(spec, embedOpt){\n",
       "    let outputDiv = document.currentScript.previousElementSibling;\n",
       "    if (outputDiv.id !== \"altair-viz-4f3785e1ebe44323bb6c7aa30d2197e0\") {\n",
       "      outputDiv = document.getElementById(\"altair-viz-4f3785e1ebe44323bb6c7aa30d2197e0\");\n",
       "    }\n",
       "    const paths = {\n",
       "      \"vega\": \"https://cdn.jsdelivr.net/npm//vega@5?noext\",\n",
       "      \"vega-lib\": \"https://cdn.jsdelivr.net/npm//vega-lib?noext\",\n",
       "      \"vega-lite\": \"https://cdn.jsdelivr.net/npm//vega-lite@4.8.1?noext\",\n",
       "      \"vega-embed\": \"https://cdn.jsdelivr.net/npm//vega-embed@6?noext\",\n",
       "    };\n",
       "\n",
       "    function loadScript(lib) {\n",
       "      return new Promise(function(resolve, reject) {\n",
       "        var s = document.createElement('script');\n",
       "        s.src = paths[lib];\n",
       "        s.async = true;\n",
       "        s.onload = () => resolve(paths[lib]);\n",
       "        s.onerror = () => reject(`Error loading script: ${paths[lib]}`);\n",
       "        document.getElementsByTagName(\"head\")[0].appendChild(s);\n",
       "      });\n",
       "    }\n",
       "\n",
       "    function showError(err) {\n",
       "      outputDiv.innerHTML = `<div class=\"error\" style=\"color:red;\">${err}</div>`;\n",
       "      throw err;\n",
       "    }\n",
       "\n",
       "    function displayChart(vegaEmbed) {\n",
       "      vegaEmbed(outputDiv, spec, embedOpt)\n",
       "        .catch(err => showError(`Javascript Error: ${err.message}<br>This usually means there's a typo in your chart specification. See the javascript console for the full traceback.`));\n",
       "    }\n",
       "\n",
       "    if(typeof define === \"function\" && define.amd) {\n",
       "      requirejs.config({paths});\n",
       "      require([\"vega-embed\"], displayChart, err => showError(`Error loading script: ${err.message}`));\n",
       "    } else if (typeof vegaEmbed === \"function\") {\n",
       "      displayChart(vegaEmbed);\n",
       "    } else {\n",
       "      loadScript(\"vega\")\n",
       "        .then(() => loadScript(\"vega-lite\"))\n",
       "        .then(() => loadScript(\"vega-embed\"))\n",
       "        .catch(showError)\n",
       "        .then(() => displayChart(vegaEmbed));\n",
       "    }\n",
       "  })({\"config\": {\"view\": {\"continuousWidth\": 400, \"continuousHeight\": 300}}, \"layer\": [{\"layer\": [{\"mark\": {\"type\": \"point\", \"size\": 75}, \"encoding\": {\"tooltip\": [{\"type\": \"temporal\", \"field\": \"date\"}, {\"type\": \"quantitative\", \"field\": \"deathIncrease\"}, {\"type\": \"quantitative\", \"field\": \"sma7d\"}], \"x\": {\"type\": \"temporal\", \"field\": \"date\"}, \"y\": {\"type\": \"quantitative\", \"field\": \"deathIncrease\"}}, \"selection\": {\"selector012\": {\"type\": \"interval\", \"bind\": \"scales\", \"encodings\": [\"x\", \"y\"]}}}, {\"mark\": {\"type\": \"line\", \"color\": \"purple\"}, \"encoding\": {\"x\": {\"type\": \"temporal\", \"field\": \"date\"}, \"y\": {\"type\": \"quantitative\", \"field\": \"sma7d\"}}}]}, {\"mark\": {\"type\": \"rule\", \"color\": \"#aaa\"}, \"encoding\": {\"x\": {\"type\": \"temporal\", \"field\": \"date\"}}, \"transform\": [{\"filter\": {\"selection\": \"selector011\"}}]}, {\"mark\": \"circle\", \"encoding\": {\"opacity\": {\"condition\": {\"value\": 1, \"selection\": \"selector011\"}, \"value\": 0}, \"tooltip\": [{\"type\": \"temporal\", \"field\": \"date\"}, {\"type\": \"quantitative\", \"field\": \"deathIncrease\"}, {\"type\": \"quantitative\", \"field\": \"sma7d\"}], \"x\": {\"type\": \"temporal\", \"field\": \"date\"}, \"y\": {\"type\": \"quantitative\", \"field\": \"deathIncrease\"}}, \"selection\": {\"selector011\": {\"type\": \"single\", \"encodings\": [\"x\"], \"on\": \"mouseover\", \"nearest\": true, \"empty\": \"none\"}}}, {\"mark\": {\"type\": \"text\", \"align\": \"left\", \"dx\": 5, \"dy\": -5, \"stroke\": \"white\", \"strokeWidth\": 2}, \"encoding\": {\"text\": {\"type\": \"quantitative\", \"field\": \"deathIncrease\"}, \"tooltip\": [{\"type\": \"temporal\", \"field\": \"date\"}, {\"type\": \"quantitative\", \"field\": \"deathIncrease\"}, {\"type\": \"quantitative\", \"field\": \"sma7d\"}], \"x\": {\"type\": \"temporal\", \"field\": \"date\"}, \"y\": {\"type\": \"quantitative\", \"field\": \"deathIncrease\"}}, \"transform\": [{\"filter\": {\"selection\": \"selector011\"}}]}, {\"mark\": {\"type\": \"text\", \"align\": \"left\", \"dx\": 5, \"dy\": -5}, \"encoding\": {\"text\": {\"type\": \"quantitative\", \"field\": \"deathIncrease\"}, \"tooltip\": [{\"type\": \"temporal\", \"field\": \"date\"}, {\"type\": \"quantitative\", \"field\": \"deathIncrease\"}, {\"type\": \"quantitative\", \"field\": \"sma7d\"}], \"x\": {\"type\": \"temporal\", \"field\": \"date\"}, \"y\": {\"type\": \"quantitative\", \"field\": \"deathIncrease\"}}, \"transform\": [{\"filter\": {\"selection\": \"selector011\"}}]}], \"data\": {\"name\": \"data-99f4a45feed89ed12bbabe0dfc4242be\"}, \"height\": 400, \"title\": \"New York: deathIncrease\", \"width\": 500, \"$schema\": \"https://vega.github.io/schema/vega-lite/v4.8.1.json\", \"datasets\": {\"data-99f4a45feed89ed12bbabe0dfc4242be\": [{\"date\": \"2020-08-18T00:00:00\", \"totalTestResultsIncrease\": 66891.0, \"positiveIncrease\": 655.0, \"death\": 25264.0, \"deathIncrease\": 8.0, \"positiveRate\": 0.01, \"state\": \"New York\", \"sma7d\": 7.571}, {\"date\": \"2020-08-19T00:00:00\", \"totalTestResultsIncrease\": 80425.0, \"positiveIncrease\": 631.0, \"death\": 25270.0, \"deathIncrease\": 6.0, \"positiveRate\": 0.008, \"state\": \"New York\", \"sma7d\": 7.429}, {\"date\": \"2020-08-20T00:00:00\", \"totalTestResultsIncrease\": 80984.0, \"positiveIncrease\": 601.0, \"death\": 25275.0, \"deathIncrease\": 5.0, \"positiveRate\": 0.007, \"state\": \"New York\", \"sma7d\": 6.714}, {\"date\": \"2020-08-21T00:00:00\", \"totalTestResultsIncrease\": 98880.0, \"positiveIncrease\": 709.0, \"death\": 25278.0, \"deathIncrease\": 3.0, \"positiveRate\": 0.007, \"state\": \"New York\", \"sma7d\": 6.571}, {\"date\": \"2020-08-22T00:00:00\", \"totalTestResultsIncrease\": 94849.0, \"positiveIncrease\": 653.0, \"death\": 25282.0, \"deathIncrease\": 4.0, \"positiveRate\": 0.007, \"state\": \"New York\", \"sma7d\": 5.429}, {\"date\": \"2020-08-23T00:00:00\", \"totalTestResultsIncrease\": 74043.0, \"positiveIncrease\": 572.0, \"death\": 25288.0, \"deathIncrease\": 6.0, \"positiveRate\": 0.008, \"state\": \"New York\", \"sma7d\": 5.429}, {\"date\": \"2020-08-24T00:00:00\", \"totalTestResultsIncrease\": 62031.0, \"positiveIncrease\": 408.0, \"death\": 25295.0, \"deathIncrease\": 7.0, \"positiveRate\": 0.007, \"state\": \"New York\", \"sma7d\": 5.571}, {\"date\": \"2020-08-25T00:00:00\", \"totalTestResultsIncrease\": 67255.0, \"positiveIncrease\": 629.0, \"death\": 25297.0, \"deathIncrease\": 2.0, \"positiveRate\": 0.009, \"state\": \"New York\", \"sma7d\": 4.714}, {\"date\": \"2020-08-26T00:00:00\", \"totalTestResultsIncrease\": 71189.0, \"positiveIncrease\": 566.0, \"death\": 25305.0, \"deathIncrease\": 8.0, \"positiveRate\": 0.008, \"state\": \"New York\", \"sma7d\": 5.0}, {\"date\": \"2020-08-27T00:00:00\", \"totalTestResultsIncrease\": 83437.0, \"positiveIncrease\": 791.0, \"death\": 25309.0, \"deathIncrease\": 4.0, \"positiveRate\": 0.009, \"state\": \"New York\", \"sma7d\": 4.857}, {\"date\": \"2020-08-28T00:00:00\", \"totalTestResultsIncrease\": 97826.0, \"positiveIncrease\": 636.0, \"death\": 25312.0, \"deathIncrease\": 3.0, \"positiveRate\": 0.007, \"state\": \"New York\", \"sma7d\": 4.857}, {\"date\": \"2020-08-29T00:00:00\", \"totalTestResultsIncrease\": 93873.0, \"positiveIncrease\": 635.0, \"death\": 25319.0, \"deathIncrease\": 7.0, \"positiveRate\": 0.007, \"state\": \"New York\", \"sma7d\": 5.286}, {\"date\": \"2020-08-30T00:00:00\", \"totalTestResultsIncrease\": 100022.0, \"positiveIncrease\": 698.0, \"death\": 25327.0, \"deathIncrease\": 8.0, \"positiveRate\": 0.007, \"state\": \"New York\", \"sma7d\": 5.571}, {\"date\": \"2020-08-31T00:00:00\", \"totalTestResultsIncrease\": 66241.0, \"positiveIncrease\": 656.0, \"death\": 25328.0, \"deathIncrease\": 1.0, \"positiveRate\": 0.01, \"state\": \"New York\", \"sma7d\": 4.714}, {\"date\": \"2020-09-01T00:00:00\", \"totalTestResultsIncrease\": 76997.0, \"positiveIncrease\": 754.0, \"death\": 25331.0, \"deathIncrease\": 3.0, \"positiveRate\": 0.01, \"state\": \"New York\", \"sma7d\": 4.857}, {\"date\": \"2020-09-02T00:00:00\", \"totalTestResultsIncrease\": 88447.0, \"positiveIncrease\": 708.0, \"death\": 25336.0, \"deathIncrease\": 5.0, \"positiveRate\": 0.008, \"state\": \"New York\", \"sma7d\": 4.429}, {\"date\": \"2020-09-03T00:00:00\", \"totalTestResultsIncrease\": 88981.0, \"positiveIncrease\": 889.0, \"death\": 25343.0, \"deathIncrease\": 7.0, \"positiveRate\": 0.01, \"state\": \"New York\", \"sma7d\": 4.857}, {\"date\": \"2020-09-04T00:00:00\", \"totalTestResultsIncrease\": 93395.0, \"positiveIncrease\": 864.0, \"death\": 25348.0, \"deathIncrease\": 5.0, \"positiveRate\": 0.009, \"state\": \"New York\", \"sma7d\": 5.143}, {\"date\": \"2020-09-05T00:00:00\", \"totalTestResultsIncrease\": 99761.0, \"positiveIncrease\": 801.0, \"death\": 25350.0, \"deathIncrease\": 2.0, \"positiveRate\": 0.008, \"state\": \"New York\", \"sma7d\": 4.429}, {\"date\": \"2020-09-06T00:00:00\", \"totalTestResultsIncrease\": 85630.0, \"positiveIncrease\": 729.0, \"death\": 25359.0, \"deathIncrease\": 9.0, \"positiveRate\": 0.009, \"state\": \"New York\", \"sma7d\": 4.571}, {\"date\": \"2020-09-07T00:00:00\", \"totalTestResultsIncrease\": 58865.0, \"positiveIncrease\": 520.0, \"death\": 25361.0, \"deathIncrease\": 2.0, \"positiveRate\": 0.009, \"state\": \"New York\", \"sma7d\": 4.714}, {\"date\": \"2020-09-08T00:00:00\", \"totalTestResultsIncrease\": 57826.0, \"positiveIncrease\": 557.0, \"death\": 25367.0, \"deathIncrease\": 6.0, \"positiveRate\": 0.01, \"state\": \"New York\", \"sma7d\": 5.143}, {\"date\": \"2020-09-09T00:00:00\", \"totalTestResultsIncrease\": 63230.0, \"positiveIncrease\": 576.0, \"death\": 25370.0, \"deathIncrease\": 3.0, \"positiveRate\": 0.009, \"state\": \"New York\", \"sma7d\": 4.857}, {\"date\": \"2020-09-10T00:00:00\", \"totalTestResultsIncrease\": 76813.0, \"positiveIncrease\": 757.0, \"death\": 25377.0, \"deathIncrease\": 7.0, \"positiveRate\": 0.01, \"state\": \"New York\", \"sma7d\": 4.857}, {\"date\": \"2020-09-11T00:00:00\", \"totalTestResultsIncrease\": 89722.0, \"positiveIncrease\": 880.0, \"death\": 25382.0, \"deathIncrease\": 5.0, \"positiveRate\": 0.01, \"state\": \"New York\", \"sma7d\": 4.857}, {\"date\": \"2020-09-12T00:00:00\", \"totalTestResultsIncrease\": 102925.0, \"positiveIncrease\": 849.0, \"death\": 25384.0, \"deathIncrease\": 2.0, \"positiveRate\": 0.008, \"state\": \"New York\", \"sma7d\": 4.857}, {\"date\": \"2020-09-13T00:00:00\", \"totalTestResultsIncrease\": 72668.0, \"positiveIncrease\": 725.0, \"death\": 25390.0, \"deathIncrease\": 6.0, \"positiveRate\": 0.01, \"state\": \"New York\", \"sma7d\": 4.429}, {\"date\": \"2020-09-14T00:00:00\", \"totalTestResultsIncrease\": 63358.0, \"positiveIncrease\": 583.0, \"death\": 25394.0, \"deathIncrease\": 4.0, \"positiveRate\": 0.009, \"state\": \"New York\", \"sma7d\": 4.714}, {\"date\": \"2020-09-15T00:00:00\", \"totalTestResultsIncrease\": 73678.0, \"positiveIncrease\": 766.0, \"death\": 25405.0, \"deathIncrease\": 11.0, \"positiveRate\": 0.01, \"state\": \"New York\", \"sma7d\": 5.429}, {\"date\": \"2020-09-16T00:00:00\", \"totalTestResultsIncrease\": 75087.0, \"positiveIncrease\": 652.0, \"death\": 25410.0, \"deathIncrease\": 5.0, \"positiveRate\": 0.009, \"state\": \"New York\", \"sma7d\": 5.714}, {\"date\": \"2020-09-17T00:00:00\", \"totalTestResultsIncrease\": 91504.0, \"positiveIncrease\": 896.0, \"death\": 25413.0, \"deathIncrease\": 3.0, \"positiveRate\": 0.01, \"state\": \"New York\", \"sma7d\": 5.143}, {\"date\": \"2020-09-18T00:00:00\", \"totalTestResultsIncrease\": 89727.0, \"positiveIncrease\": 790.0, \"death\": 25423.0, \"deathIncrease\": 10.0, \"positiveRate\": 0.009, \"state\": \"New York\", \"sma7d\": 5.857}, {\"date\": \"2020-09-19T00:00:00\", \"totalTestResultsIncrease\": 110444.0, \"positiveIncrease\": 986.0, \"death\": 25425.0, \"deathIncrease\": 2.0, \"positiveRate\": 0.009, \"state\": \"New York\", \"sma7d\": 5.857}, {\"date\": \"2020-09-20T00:00:00\", \"totalTestResultsIncrease\": 100355.0, \"positiveIncrease\": 862.0, \"death\": 25427.0, \"deathIncrease\": 2.0, \"positiveRate\": 0.009, \"state\": \"New York\", \"sma7d\": 5.286}, {\"date\": \"2020-09-21T00:00:00\", \"totalTestResultsIncrease\": 58319.0, \"positiveIncrease\": 573.0, \"death\": 25428.0, \"deathIncrease\": 1.0, \"positiveRate\": 0.01, \"state\": \"New York\", \"sma7d\": 4.857}, {\"date\": \"2020-09-22T00:00:00\", \"totalTestResultsIncrease\": 83997.0, \"positiveIncrease\": 754.0, \"death\": 25432.0, \"deathIncrease\": 4.0, \"positiveRate\": 0.009, \"state\": \"New York\", \"sma7d\": 3.857}, {\"date\": \"2020-09-23T00:00:00\", \"totalTestResultsIncrease\": 70930.0, \"positiveIncrease\": 665.0, \"death\": 25437.0, \"deathIncrease\": 5.0, \"positiveRate\": 0.009, \"state\": \"New York\", \"sma7d\": 3.857}, {\"date\": \"2020-09-24T00:00:00\", \"totalTestResultsIncrease\": 92953.0, \"positiveIncrease\": 955.0, \"death\": 25439.0, \"deathIncrease\": 2.0, \"positiveRate\": 0.01, \"state\": \"New York\", \"sma7d\": 3.714}, {\"date\": \"2020-09-25T00:00:00\", \"totalTestResultsIncrease\": 94818.0, \"positiveIncrease\": 908.0, \"death\": 25446.0, \"deathIncrease\": 7.0, \"positiveRate\": 0.01, \"state\": \"New York\", \"sma7d\": 3.286}, {\"date\": \"2020-09-26T00:00:00\", \"totalTestResultsIncrease\": 99953.0, \"positiveIncrease\": 1005.0, \"death\": 25450.0, \"deathIncrease\": 4.0, \"positiveRate\": 0.01, \"state\": \"New York\", \"sma7d\": 3.571}, {\"date\": \"2020-09-27T00:00:00\", \"totalTestResultsIncrease\": 84770.0, \"positiveIncrease\": 866.0, \"death\": 25456.0, \"deathIncrease\": 6.0, \"positiveRate\": 0.01, \"state\": \"New York\", \"sma7d\": 4.143}, {\"date\": \"2020-09-28T00:00:00\", \"totalTestResultsIncrease\": 52936.0, \"positiveIncrease\": 834.0, \"death\": 25468.0, \"deathIncrease\": 12.0, \"positiveRate\": 0.016, \"state\": \"New York\", \"sma7d\": 5.714}, {\"date\": \"2020-09-29T00:00:00\", \"totalTestResultsIncrease\": 88231.0, \"positiveIncrease\": 1189.0, \"death\": 25470.0, \"deathIncrease\": 2.0, \"positiveRate\": 0.013, \"state\": \"New York\", \"sma7d\": 5.429}, {\"date\": \"2020-09-30T00:00:00\", \"totalTestResultsIncrease\": 97960.0, \"positiveIncrease\": 1000.0, \"death\": 25479.0, \"deathIncrease\": 9.0, \"positiveRate\": 0.01, \"state\": \"New York\", \"sma7d\": 6.0}, {\"date\": \"2020-10-01T00:00:00\", \"totalTestResultsIncrease\": 109218.0, \"positiveIncrease\": 1382.0, \"death\": 25490.0, \"deathIncrease\": 11.0, \"positiveRate\": 0.013, \"state\": \"New York\", \"sma7d\": 7.286}, {\"date\": \"2020-10-02T00:00:00\", \"totalTestResultsIncrease\": 119493.0, \"positiveIncrease\": 1598.0, \"death\": 25497.0, \"deathIncrease\": 7.0, \"positiveRate\": 0.013, \"state\": \"New York\", \"sma7d\": 7.286}, {\"date\": \"2020-10-03T00:00:00\", \"totalTestResultsIncrease\": 134267.0, \"positiveIncrease\": 1731.0, \"death\": 25505.0, \"deathIncrease\": 8.0, \"positiveRate\": 0.013, \"state\": \"New York\", \"sma7d\": 7.857}, {\"date\": \"2020-10-04T00:00:00\", \"totalTestResultsIncrease\": 110329.0, \"positiveIncrease\": 1222.0, \"death\": 25519.0, \"deathIncrease\": 14.0, \"positiveRate\": 0.011, \"state\": \"New York\", \"sma7d\": 9.0}, {\"date\": \"2020-10-05T00:00:00\", \"totalTestResultsIncrease\": 76404.0, \"positiveIncrease\": 933.0, \"death\": 25527.0, \"deathIncrease\": 8.0, \"positiveRate\": 0.012, \"state\": \"New York\", \"sma7d\": 8.429}, {\"date\": \"2020-10-06T00:00:00\", \"totalTestResultsIncrease\": 96359.0, \"positiveIncrease\": 1393.0, \"death\": 25536.0, \"deathIncrease\": 9.0, \"positiveRate\": 0.014, \"state\": \"New York\", \"sma7d\": 9.429}, {\"date\": \"2020-10-07T00:00:00\", \"totalTestResultsIncrease\": 108246.0, \"positiveIncrease\": 1360.0, \"death\": 25545.0, \"deathIncrease\": 9.0, \"positiveRate\": 0.013, \"state\": \"New York\", \"sma7d\": 9.429}, {\"date\": \"2020-10-08T00:00:00\", \"totalTestResultsIncrease\": 145811.0, \"positiveIncrease\": 1836.0, \"death\": 25555.0, \"deathIncrease\": 10.0, \"positiveRate\": 0.013, \"state\": \"New York\", \"sma7d\": 9.286}, {\"date\": \"2020-10-09T00:00:00\", \"totalTestResultsIncrease\": 139300.0, \"positiveIncrease\": 1592.0, \"death\": 25561.0, \"deathIncrease\": 6.0, \"positiveRate\": 0.011, \"state\": \"New York\", \"sma7d\": 9.143}, {\"date\": \"2020-10-10T00:00:00\", \"totalTestResultsIncrease\": 134579.0, \"positiveIncrease\": 1447.0, \"death\": 25569.0, \"deathIncrease\": 8.0, \"positiveRate\": 0.011, \"state\": \"New York\", \"sma7d\": 9.143}, {\"date\": \"2020-10-11T00:00:00\", \"totalTestResultsIncrease\": 118254.0, \"positiveIncrease\": 1143.0, \"death\": 25574.0, \"deathIncrease\": 5.0, \"positiveRate\": 0.01, \"state\": \"New York\", \"sma7d\": 7.857}, {\"date\": \"2020-10-12T00:00:00\", \"totalTestResultsIncrease\": 91793.0, \"positiveIncrease\": 1029.0, \"death\": 25587.0, \"deathIncrease\": 13.0, \"positiveRate\": 0.011, \"state\": \"New York\", \"sma7d\": 8.571}]}}, {\"mode\": \"vega-lite\"});\n",
       "</script>"
      ],
      "text/plain": [
       "alt.LayerChart(...)"
      ]
     },
     "execution_count": 13,
     "metadata": {},
     "output_type": "execute_result"
    }
   ],
   "source": [
    "create_plot(ny, 'deathIncrease')"
   ]
  },
  {
   "cell_type": "markdown",
   "metadata": {
    "papermill": {
     "duration": 0.017897,
     "end_time": "2020-10-12T22:34:09.650154",
     "exception": false,
     "start_time": "2020-10-12T22:34:09.632257",
     "status": "completed"
    },
    "tags": []
   },
   "source": [
    "## Non Tri-State"
   ]
  },
  {
   "cell_type": "code",
   "execution_count": 14,
   "metadata": {
    "execution": {
     "iopub.execute_input": "2020-10-12T22:34:09.689955Z",
     "iopub.status.busy": "2020-10-12T22:34:09.689183Z",
     "iopub.status.idle": "2020-10-12T22:34:10.031891Z",
     "shell.execute_reply": "2020-10-12T22:34:10.031364Z"
    },
    "papermill": {
     "duration": 0.363907,
     "end_time": "2020-10-12T22:34:10.032066",
     "exception": false,
     "start_time": "2020-10-12T22:34:09.668159",
     "status": "completed"
    },
    "tags": []
   },
   "outputs": [],
   "source": [
    "non_tristate = create_df(df, lambda d: ~d['state'].isin(['CT','NJ','NY']), 'Non Tri-State')"
   ]
  },
  {
   "cell_type": "code",
   "execution_count": 15,
   "metadata": {
    "execution": {
     "iopub.execute_input": "2020-10-12T22:34:10.077707Z",
     "iopub.status.busy": "2020-10-12T22:34:10.077146Z",
     "iopub.status.idle": "2020-10-12T22:34:10.166703Z",
     "shell.execute_reply": "2020-10-12T22:34:10.167192Z"
    },
    "papermill": {
     "duration": 0.114708,
     "end_time": "2020-10-12T22:34:10.167408",
     "exception": false,
     "start_time": "2020-10-12T22:34:10.052700",
     "status": "completed"
    },
    "tags": []
   },
   "outputs": [
    {
     "data": {
      "text/html": [
       "\n",
       "<div id=\"altair-viz-fe903768007041fab63953c3d7053645\"></div>\n",
       "<script type=\"text/javascript\">\n",
       "  (function(spec, embedOpt){\n",
       "    let outputDiv = document.currentScript.previousElementSibling;\n",
       "    if (outputDiv.id !== \"altair-viz-fe903768007041fab63953c3d7053645\") {\n",
       "      outputDiv = document.getElementById(\"altair-viz-fe903768007041fab63953c3d7053645\");\n",
       "    }\n",
       "    const paths = {\n",
       "      \"vega\": \"https://cdn.jsdelivr.net/npm//vega@5?noext\",\n",
       "      \"vega-lib\": \"https://cdn.jsdelivr.net/npm//vega-lib?noext\",\n",
       "      \"vega-lite\": \"https://cdn.jsdelivr.net/npm//vega-lite@4.8.1?noext\",\n",
       "      \"vega-embed\": \"https://cdn.jsdelivr.net/npm//vega-embed@6?noext\",\n",
       "    };\n",
       "\n",
       "    function loadScript(lib) {\n",
       "      return new Promise(function(resolve, reject) {\n",
       "        var s = document.createElement('script');\n",
       "        s.src = paths[lib];\n",
       "        s.async = true;\n",
       "        s.onload = () => resolve(paths[lib]);\n",
       "        s.onerror = () => reject(`Error loading script: ${paths[lib]}`);\n",
       "        document.getElementsByTagName(\"head\")[0].appendChild(s);\n",
       "      });\n",
       "    }\n",
       "\n",
       "    function showError(err) {\n",
       "      outputDiv.innerHTML = `<div class=\"error\" style=\"color:red;\">${err}</div>`;\n",
       "      throw err;\n",
       "    }\n",
       "\n",
       "    function displayChart(vegaEmbed) {\n",
       "      vegaEmbed(outputDiv, spec, embedOpt)\n",
       "        .catch(err => showError(`Javascript Error: ${err.message}<br>This usually means there's a typo in your chart specification. See the javascript console for the full traceback.`));\n",
       "    }\n",
       "\n",
       "    if(typeof define === \"function\" && define.amd) {\n",
       "      requirejs.config({paths});\n",
       "      require([\"vega-embed\"], displayChart, err => showError(`Error loading script: ${err.message}`));\n",
       "    } else if (typeof vegaEmbed === \"function\") {\n",
       "      displayChart(vegaEmbed);\n",
       "    } else {\n",
       "      loadScript(\"vega\")\n",
       "        .then(() => loadScript(\"vega-lite\"))\n",
       "        .then(() => loadScript(\"vega-embed\"))\n",
       "        .catch(showError)\n",
       "        .then(() => displayChart(vegaEmbed));\n",
       "    }\n",
       "  })({\"config\": {\"view\": {\"continuousWidth\": 400, \"continuousHeight\": 300}}, \"layer\": [{\"layer\": [{\"mark\": {\"type\": \"point\", \"size\": 75}, \"encoding\": {\"tooltip\": [{\"type\": \"temporal\", \"field\": \"date\"}, {\"type\": \"quantitative\", \"field\": \"positiveIncrease\"}, {\"type\": \"quantitative\", \"field\": \"sma7d\"}], \"x\": {\"type\": \"temporal\", \"field\": \"date\"}, \"y\": {\"type\": \"quantitative\", \"field\": \"positiveIncrease\"}}, \"selection\": {\"selector014\": {\"type\": \"interval\", \"bind\": \"scales\", \"encodings\": [\"x\", \"y\"]}}}, {\"mark\": {\"type\": \"line\", \"color\": \"purple\"}, \"encoding\": {\"x\": {\"type\": \"temporal\", \"field\": \"date\"}, \"y\": {\"type\": \"quantitative\", \"field\": \"sma7d\"}}}]}, {\"mark\": {\"type\": \"rule\", \"color\": \"#aaa\"}, \"encoding\": {\"x\": {\"type\": \"temporal\", \"field\": \"date\"}}, \"transform\": [{\"filter\": {\"selection\": \"selector013\"}}]}, {\"mark\": \"circle\", \"encoding\": {\"opacity\": {\"condition\": {\"value\": 1, \"selection\": \"selector013\"}, \"value\": 0}, \"tooltip\": [{\"type\": \"temporal\", \"field\": \"date\"}, {\"type\": \"quantitative\", \"field\": \"positiveIncrease\"}, {\"type\": \"quantitative\", \"field\": \"sma7d\"}], \"x\": {\"type\": \"temporal\", \"field\": \"date\"}, \"y\": {\"type\": \"quantitative\", \"field\": \"positiveIncrease\"}}, \"selection\": {\"selector013\": {\"type\": \"single\", \"encodings\": [\"x\"], \"on\": \"mouseover\", \"nearest\": true, \"empty\": \"none\"}}}, {\"mark\": {\"type\": \"text\", \"align\": \"left\", \"dx\": 5, \"dy\": -5, \"stroke\": \"white\", \"strokeWidth\": 2}, \"encoding\": {\"text\": {\"type\": \"quantitative\", \"field\": \"positiveIncrease\"}, \"tooltip\": [{\"type\": \"temporal\", \"field\": \"date\"}, {\"type\": \"quantitative\", \"field\": \"positiveIncrease\"}, {\"type\": \"quantitative\", \"field\": \"sma7d\"}], \"x\": {\"type\": \"temporal\", \"field\": \"date\"}, \"y\": {\"type\": \"quantitative\", \"field\": \"positiveIncrease\"}}, \"transform\": [{\"filter\": {\"selection\": \"selector013\"}}]}, {\"mark\": {\"type\": \"text\", \"align\": \"left\", \"dx\": 5, \"dy\": -5}, \"encoding\": {\"text\": {\"type\": \"quantitative\", \"field\": \"positiveIncrease\"}, \"tooltip\": [{\"type\": \"temporal\", \"field\": \"date\"}, {\"type\": \"quantitative\", \"field\": \"positiveIncrease\"}, {\"type\": \"quantitative\", \"field\": \"sma7d\"}], \"x\": {\"type\": \"temporal\", \"field\": \"date\"}, \"y\": {\"type\": \"quantitative\", \"field\": \"positiveIncrease\"}}, \"transform\": [{\"filter\": {\"selection\": \"selector013\"}}]}], \"data\": {\"name\": \"data-41805bc049e6b20f2391f8cb181ea8a5\"}, \"height\": 400, \"title\": \"Non Tri-State: positiveIncrease\", \"width\": 500, \"$schema\": \"https://vega.github.io/schema/vega-lite/v4.8.1.json\", \"datasets\": {\"data-41805bc049e6b20f2391f8cb181ea8a5\": [{\"date\": \"2020-08-18T00:00:00\", \"totalTestResultsIncrease\": 578286.0, \"positiveIncrease\": 39821.0, \"death\": 117950.0, \"deathIncrease\": 1178.0, \"positiveRate\": 0.069, \"state\": \"Non Tri-State\", \"sma7d\": 47582.571}, {\"date\": \"2020-08-19T00:00:00\", \"totalTestResultsIncrease\": 590134.0, \"positiveIncrease\": 43936.0, \"death\": 119352.0, \"deathIncrease\": 1402.0, \"positiveRate\": 0.074, \"state\": \"Non Tri-State\", \"sma7d\": 46009.286}, {\"date\": \"2020-08-20T00:00:00\", \"totalTestResultsIncrease\": 609709.0, \"positiveIncrease\": 42939.0, \"death\": 120474.0, \"deathIncrease\": 1122.0, \"positiveRate\": 0.07, \"state\": \"Non Tri-State\", \"sma7d\": 44959.143}, {\"date\": \"2020-08-21T00:00:00\", \"totalTestResultsIncrease\": 654318.0, \"positiveIncrease\": 45475.0, \"death\": 121583.0, \"deathIncrease\": 1109.0, \"positiveRate\": 0.069, \"state\": \"Non Tri-State\", \"sma7d\": 43709.286}, {\"date\": \"2020-08-22T00:00:00\", \"totalTestResultsIncrease\": 667704.0, \"positiveIncrease\": 45164.0, \"death\": 122606.0, \"deathIncrease\": 1023.0, \"positiveRate\": 0.068, \"state\": \"Non Tri-State\", \"sma7d\": 42284.571}, {\"date\": \"2020-08-23T00:00:00\", \"totalTestResultsIncrease\": 584195.0, \"positiveIncrease\": 36736.0, \"death\": 123169.0, \"deathIncrease\": 563.0, \"positiveRate\": 0.063, \"state\": \"Non Tri-State\", \"sma7d\": 41551.571}, {\"date\": \"2020-08-24T00:00:00\", \"totalTestResultsIncrease\": 560961.0, \"positiveIncrease\": 33518.0, \"death\": 123502.0, \"deathIncrease\": 333.0, \"positiveRate\": 0.06, \"state\": \"Non Tri-State\", \"sma7d\": 41084.143}, {\"date\": \"2020-08-25T00:00:00\", \"totalTestResultsIncrease\": 576386.0, \"positiveIncrease\": 35419.0, \"death\": 124640.0, \"deathIncrease\": 1138.0, \"positiveRate\": 0.061, \"state\": \"Non Tri-State\", \"sma7d\": 40455.286}, {\"date\": \"2020-08-26T00:00:00\", \"totalTestResultsIncrease\": 569937.0, \"positiveIncrease\": 43022.0, \"death\": 125920.0, \"deathIncrease\": 1280.0, \"positiveRate\": 0.075, \"state\": \"Non Tri-State\", \"sma7d\": 40324.714}, {\"date\": \"2020-08-27T00:00:00\", \"totalTestResultsIncrease\": 669145.0, \"positiveIncrease\": 42756.0, \"death\": 127036.0, \"deathIncrease\": 1116.0, \"positiveRate\": 0.064, \"state\": \"Non Tri-State\", \"sma7d\": 40298.571}, {\"date\": \"2020-08-28T00:00:00\", \"totalTestResultsIncrease\": 711634.0, \"positiveIncrease\": 45409.0, \"death\": 128047.0, \"deathIncrease\": 1011.0, \"positiveRate\": 0.064, \"state\": \"Non Tri-State\", \"sma7d\": 40289.143}, {\"date\": \"2020-08-29T00:00:00\", \"totalTestResultsIncrease\": 667402.0, \"positiveIncrease\": 43517.0, \"death\": 129052.0, \"deathIncrease\": 1005.0, \"positiveRate\": 0.065, \"state\": \"Non Tri-State\", \"sma7d\": 40053.857}, {\"date\": \"2020-08-30T00:00:00\", \"totalTestResultsIncrease\": 650297.0, \"positiveIncrease\": 38512.0, \"death\": 129515.0, \"deathIncrease\": 463.0, \"positiveRate\": 0.059, \"state\": \"Non Tri-State\", \"sma7d\": 40307.571}, {\"date\": \"2020-08-31T00:00:00\", \"totalTestResultsIncrease\": 575606.0, \"positiveIncrease\": 30017.0, \"death\": 129872.0, \"deathIncrease\": 357.0, \"positiveRate\": 0.052, \"state\": \"Non Tri-State\", \"sma7d\": 39807.429}, {\"date\": \"2020-09-01T00:00:00\", \"totalTestResultsIncrease\": 638198.0, \"positiveIncrease\": 41222.0, \"death\": 130890.0, \"deathIncrease\": 1018.0, \"positiveRate\": 0.065, \"state\": \"Non Tri-State\", \"sma7d\": 40636.429}, {\"date\": \"2020-09-02T00:00:00\", \"totalTestResultsIncrease\": 541100.0, \"positiveIncrease\": 29488.0, \"death\": 131905.0, \"deathIncrease\": 1015.0, \"positiveRate\": 0.054, \"state\": \"Non Tri-State\", \"sma7d\": 38703.0}, {\"date\": \"2020-09-03T00:00:00\", \"totalTestResultsIncrease\": 671532.0, \"positiveIncrease\": 43346.0, \"death\": 132960.0, \"deathIncrease\": 1055.0, \"positiveRate\": 0.065, \"state\": \"Non Tri-State\", \"sma7d\": 38787.286}, {\"date\": \"2020-09-04T00:00:00\", \"totalTestResultsIncrease\": 807122.0, \"positiveIncrease\": 50122.0, \"death\": 133946.0, \"deathIncrease\": 986.0, \"positiveRate\": 0.062, \"state\": \"Non Tri-State\", \"sma7d\": 39460.571}, {\"date\": \"2020-09-05T00:00:00\", \"totalTestResultsIncrease\": 783011.0, \"positiveIncrease\": 43779.0, \"death\": 134855.0, \"deathIncrease\": 909.0, \"positiveRate\": 0.056, \"state\": \"Non Tri-State\", \"sma7d\": 39498.0}, {\"date\": \"2020-09-06T00:00:00\", \"totalTestResultsIncrease\": 662364.0, \"positiveIncrease\": 32077.0, \"death\": 135291.0, \"deathIncrease\": 436.0, \"positiveRate\": 0.048, \"state\": \"Non Tri-State\", \"sma7d\": 38578.714}, {\"date\": \"2020-09-07T00:00:00\", \"totalTestResultsIncrease\": 507493.0, \"positiveIncrease\": 27830.0, \"death\": 135512.0, \"deathIncrease\": 221.0, \"positiveRate\": 0.055, \"state\": \"Non Tri-State\", \"sma7d\": 38266.286}, {\"date\": \"2020-09-08T00:00:00\", \"totalTestResultsIncrease\": 419612.0, \"positiveIncrease\": 20972.0, \"death\": 135853.0, \"deathIncrease\": 341.0, \"positiveRate\": 0.05, \"state\": \"Non Tri-State\", \"sma7d\": 35373.429}, {\"date\": \"2020-09-09T00:00:00\", \"totalTestResultsIncrease\": 540056.0, \"positiveIncrease\": 30126.0, \"death\": 136926.0, \"deathIncrease\": 1073.0, \"positiveRate\": 0.056, \"state\": \"Non Tri-State\", \"sma7d\": 35464.571}, {\"date\": \"2020-09-10T00:00:00\", \"totalTestResultsIncrease\": 582077.0, \"positiveIncrease\": 36178.0, \"death\": 138080.0, \"deathIncrease\": 1154.0, \"positiveRate\": 0.062, \"state\": \"Non Tri-State\", \"sma7d\": 34440.571}, {\"date\": \"2020-09-11T00:00:00\", \"totalTestResultsIncrease\": 696310.0, \"positiveIncrease\": 43340.0, \"death\": 139082.0, \"deathIncrease\": 1002.0, \"positiveRate\": 0.062, \"state\": \"Non Tri-State\", \"sma7d\": 33471.714}, {\"date\": \"2020-09-12T00:00:00\", \"totalTestResultsIncrease\": 804472.0, \"positiveIncrease\": 40792.0, \"death\": 139886.0, \"deathIncrease\": 804.0, \"positiveRate\": 0.051, \"state\": \"Non Tri-State\", \"sma7d\": 33045.0}, {\"date\": \"2020-09-13T00:00:00\", \"totalTestResultsIncrease\": 633658.0, \"positiveIncrease\": 33431.0, \"death\": 140265.0, \"deathIncrease\": 379.0, \"positiveRate\": 0.053, \"state\": \"Non Tri-State\", \"sma7d\": 33238.429}, {\"date\": \"2020-09-14T00:00:00\", \"totalTestResultsIncrease\": 317531.0, \"positiveIncrease\": 32378.0, \"death\": 140656.0, \"deathIncrease\": 391.0, \"positiveRate\": 0.102, \"state\": \"Non Tri-State\", \"sma7d\": 33888.143}, {\"date\": \"2020-09-15T00:00:00\", \"totalTestResultsIncrease\": 623607.0, \"positiveIncrease\": 34107.0, \"death\": 141667.0, \"deathIncrease\": 1011.0, \"positiveRate\": 0.055, \"state\": \"Non Tri-State\", \"sma7d\": 35764.571}, {\"date\": \"2020-09-16T00:00:00\", \"totalTestResultsIncrease\": 630468.0, \"positiveIncrease\": 38846.0, \"death\": 142851.0, \"deathIncrease\": 1184.0, \"positiveRate\": 0.062, \"state\": \"Non Tri-State\", \"sma7d\": 37010.286}, {\"date\": \"2020-09-17T00:00:00\", \"totalTestResultsIncrease\": 714284.0, \"positiveIncrease\": 41873.0, \"death\": 143707.0, \"deathIncrease\": 856.0, \"positiveRate\": 0.059, \"state\": \"Non Tri-State\", \"sma7d\": 37823.857}, {\"date\": \"2020-09-18T00:00:00\", \"totalTestResultsIncrease\": 860669.0, \"positiveIncrease\": 46068.0, \"death\": 144590.0, \"deathIncrease\": 883.0, \"positiveRate\": 0.054, \"state\": \"Non Tri-State\", \"sma7d\": 38213.571}, {\"date\": \"2020-09-19T00:00:00\", \"totalTestResultsIncrease\": 955861.0, \"positiveIncrease\": 44117.0, \"death\": 145325.0, \"deathIncrease\": 735.0, \"positiveRate\": 0.046, \"state\": \"Non Tri-State\", \"sma7d\": 38688.571}, {\"date\": \"2020-09-20T00:00:00\", \"totalTestResultsIncrease\": 756795.0, \"positiveIncrease\": 34980.0, \"death\": 145647.0, \"deathIncrease\": 322.0, \"positiveRate\": 0.046, \"state\": \"Non Tri-State\", \"sma7d\": 38909.857}, {\"date\": \"2020-09-21T00:00:00\", \"totalTestResultsIncrease\": 625007.0, \"positiveIncrease\": 38010.0, \"death\": 145928.0, \"deathIncrease\": 281.0, \"positiveRate\": 0.061, \"state\": \"Non Tri-State\", \"sma7d\": 39714.429}, {\"date\": \"2020-09-22T00:00:00\", \"totalTestResultsIncrease\": 643293.0, \"positiveIncrease\": 48123.0, \"death\": 146770.0, \"deathIncrease\": 842.0, \"positiveRate\": 0.075, \"state\": \"Non Tri-State\", \"sma7d\": 41716.714}, {\"date\": \"2020-09-23T00:00:00\", \"totalTestResultsIncrease\": 821918.0, \"positiveIncrease\": 37339.0, \"death\": 147915.0, \"deathIncrease\": 1145.0, \"positiveRate\": 0.045, \"state\": \"Non Tri-State\", \"sma7d\": 41501.429}, {\"date\": \"2020-09-24T00:00:00\", \"totalTestResultsIncrease\": 805681.0, \"positiveIncrease\": 42096.0, \"death\": 148823.0, \"deathIncrease\": 908.0, \"positiveRate\": 0.052, \"state\": \"Non Tri-State\", \"sma7d\": 41533.286}, {\"date\": \"2020-09-25T00:00:00\", \"totalTestResultsIncrease\": 883989.0, \"positiveIncrease\": 53955.0, \"death\": 149652.0, \"deathIncrease\": 829.0, \"positiveRate\": 0.061, \"state\": \"Non Tri-State\", \"sma7d\": 42660.0}, {\"date\": \"2020-09-26T00:00:00\", \"totalTestResultsIncrease\": 889201.0, \"positiveIncrease\": 46101.0, \"death\": 150511.0, \"deathIncrease\": 859.0, \"positiveRate\": 0.052, \"state\": \"Non Tri-State\", \"sma7d\": 42943.429}, {\"date\": \"2020-09-27T00:00:00\", \"totalTestResultsIncrease\": 745218.0, \"positiveIncrease\": 33890.0, \"death\": 150806.0, \"deathIncrease\": 295.0, \"positiveRate\": 0.045, \"state\": \"Non Tri-State\", \"sma7d\": 42787.714}, {\"date\": \"2020-09-28T00:00:00\", \"totalTestResultsIncrease\": 963450.0, \"positiveIncrease\": 34571.0, \"death\": 151051.0, \"deathIncrease\": 245.0, \"positiveRate\": 0.036, \"state\": \"Non Tri-State\", \"sma7d\": 42296.429}, {\"date\": \"2020-09-29T00:00:00\", \"totalTestResultsIncrease\": 726263.0, \"positiveIncrease\": 35120.0, \"death\": 151776.0, \"deathIncrease\": 725.0, \"positiveRate\": 0.048, \"state\": \"Non Tri-State\", \"sma7d\": 40438.857}, {\"date\": \"2020-09-30T00:00:00\", \"totalTestResultsIncrease\": 657504.0, \"positiveIncrease\": 42491.0, \"death\": 152816.0, \"deathIncrease\": 1040.0, \"positiveRate\": 0.065, \"state\": \"Non Tri-State\", \"sma7d\": 41174.857}, {\"date\": \"2020-10-01T00:00:00\", \"totalTestResultsIncrease\": 779444.0, \"positiveIncrease\": 43506.0, \"death\": 153648.0, \"deathIncrease\": 832.0, \"positiveRate\": 0.056, \"state\": \"Non Tri-State\", \"sma7d\": 41376.286}, {\"date\": \"2020-10-02T00:00:00\", \"totalTestResultsIncrease\": 878715.0, \"positiveIncrease\": 46641.0, \"death\": 154470.0, \"deathIncrease\": 822.0, \"positiveRate\": 0.053, \"state\": \"Non Tri-State\", \"sma7d\": 40331.429}, {\"date\": \"2020-10-03T00:00:00\", \"totalTestResultsIncrease\": 864681.0, \"positiveIncrease\": 48694.0, \"death\": 155199.0, \"deathIncrease\": 729.0, \"positiveRate\": 0.056, \"state\": \"Non Tri-State\", \"sma7d\": 40701.857}, {\"date\": \"2020-10-04T00:00:00\", \"totalTestResultsIncrease\": 787433.0, \"positiveIncrease\": 36591.0, \"death\": 155547.0, \"deathIncrease\": 348.0, \"positiveRate\": 0.046, \"state\": \"Non Tri-State\", \"sma7d\": 41087.714}, {\"date\": \"2020-10-05T00:00:00\", \"totalTestResultsIncrease\": 786400.0, \"positiveIncrease\": 35866.0, \"death\": 155859.0, \"deathIncrease\": 312.0, \"positiveRate\": 0.046, \"state\": \"Non Tri-State\", \"sma7d\": 41272.714}, {\"date\": \"2020-10-06T00:00:00\", \"totalTestResultsIncrease\": 709552.0, \"positiveIncrease\": 36518.0, \"death\": 156471.0, \"deathIncrease\": 612.0, \"positiveRate\": 0.051, \"state\": \"Non Tri-State\", \"sma7d\": 41472.429}, {\"date\": \"2020-10-07T00:00:00\", \"totalTestResultsIncrease\": 723784.0, \"positiveIncrease\": 48611.0, \"death\": 157372.0, \"deathIncrease\": 901.0, \"positiveRate\": 0.067, \"state\": \"Non Tri-State\", \"sma7d\": 42346.714}, {\"date\": \"2020-10-08T00:00:00\", \"totalTestResultsIncrease\": 806178.0, \"positiveIncrease\": 51834.0, \"death\": 158335.0, \"deathIncrease\": 963.0, \"positiveRate\": 0.064, \"state\": \"Non Tri-State\", \"sma7d\": 43536.429}, {\"date\": \"2020-10-09T00:00:00\", \"totalTestResultsIncrease\": 899505.0, \"positiveIncrease\": 54313.0, \"death\": 159215.0, \"deathIncrease\": 880.0, \"positiveRate\": 0.06, \"state\": \"Non Tri-State\", \"sma7d\": 44632.429}, {\"date\": \"2020-10-10T00:00:00\", \"totalTestResultsIncrease\": 963566.0, \"positiveIncrease\": 54895.0, \"death\": 159863.0, \"deathIncrease\": 648.0, \"positiveRate\": 0.057, \"state\": \"Non Tri-State\", \"sma7d\": 45518.286}, {\"date\": \"2020-10-11T00:00:00\", \"totalTestResultsIncrease\": 824640.0, \"positiveIncrease\": 44882.0, \"death\": 160319.0, \"deathIncrease\": 456.0, \"positiveRate\": 0.054, \"state\": \"Non Tri-State\", \"sma7d\": 46702.714}, {\"date\": \"2020-10-12T00:00:00\", \"totalTestResultsIncrease\": 754555.0, \"positiveIncrease\": 40206.0, \"death\": 160587.0, \"deathIncrease\": 268.0, \"positiveRate\": 0.053, \"state\": \"Non Tri-State\", \"sma7d\": 47322.714}]}}, {\"mode\": \"vega-lite\"});\n",
       "</script>"
      ],
      "text/plain": [
       "alt.LayerChart(...)"
      ]
     },
     "execution_count": 15,
     "metadata": {},
     "output_type": "execute_result"
    }
   ],
   "source": [
    "create_plot(non_tristate, 'positiveIncrease')"
   ]
  },
  {
   "cell_type": "code",
   "execution_count": 16,
   "metadata": {
    "execution": {
     "iopub.execute_input": "2020-10-12T22:34:10.214272Z",
     "iopub.status.busy": "2020-10-12T22:34:10.208213Z",
     "iopub.status.idle": "2020-10-12T22:34:10.294239Z",
     "shell.execute_reply": "2020-10-12T22:34:10.294701Z"
    },
    "papermill": {
     "duration": 0.10962,
     "end_time": "2020-10-12T22:34:10.294846",
     "exception": false,
     "start_time": "2020-10-12T22:34:10.185226",
     "status": "completed"
    },
    "tags": []
   },
   "outputs": [
    {
     "data": {
      "text/html": [
       "\n",
       "<div id=\"altair-viz-2280e4a5629543eb881994b339d005a0\"></div>\n",
       "<script type=\"text/javascript\">\n",
       "  (function(spec, embedOpt){\n",
       "    let outputDiv = document.currentScript.previousElementSibling;\n",
       "    if (outputDiv.id !== \"altair-viz-2280e4a5629543eb881994b339d005a0\") {\n",
       "      outputDiv = document.getElementById(\"altair-viz-2280e4a5629543eb881994b339d005a0\");\n",
       "    }\n",
       "    const paths = {\n",
       "      \"vega\": \"https://cdn.jsdelivr.net/npm//vega@5?noext\",\n",
       "      \"vega-lib\": \"https://cdn.jsdelivr.net/npm//vega-lib?noext\",\n",
       "      \"vega-lite\": \"https://cdn.jsdelivr.net/npm//vega-lite@4.8.1?noext\",\n",
       "      \"vega-embed\": \"https://cdn.jsdelivr.net/npm//vega-embed@6?noext\",\n",
       "    };\n",
       "\n",
       "    function loadScript(lib) {\n",
       "      return new Promise(function(resolve, reject) {\n",
       "        var s = document.createElement('script');\n",
       "        s.src = paths[lib];\n",
       "        s.async = true;\n",
       "        s.onload = () => resolve(paths[lib]);\n",
       "        s.onerror = () => reject(`Error loading script: ${paths[lib]}`);\n",
       "        document.getElementsByTagName(\"head\")[0].appendChild(s);\n",
       "      });\n",
       "    }\n",
       "\n",
       "    function showError(err) {\n",
       "      outputDiv.innerHTML = `<div class=\"error\" style=\"color:red;\">${err}</div>`;\n",
       "      throw err;\n",
       "    }\n",
       "\n",
       "    function displayChart(vegaEmbed) {\n",
       "      vegaEmbed(outputDiv, spec, embedOpt)\n",
       "        .catch(err => showError(`Javascript Error: ${err.message}<br>This usually means there's a typo in your chart specification. See the javascript console for the full traceback.`));\n",
       "    }\n",
       "\n",
       "    if(typeof define === \"function\" && define.amd) {\n",
       "      requirejs.config({paths});\n",
       "      require([\"vega-embed\"], displayChart, err => showError(`Error loading script: ${err.message}`));\n",
       "    } else if (typeof vegaEmbed === \"function\") {\n",
       "      displayChart(vegaEmbed);\n",
       "    } else {\n",
       "      loadScript(\"vega\")\n",
       "        .then(() => loadScript(\"vega-lite\"))\n",
       "        .then(() => loadScript(\"vega-embed\"))\n",
       "        .catch(showError)\n",
       "        .then(() => displayChart(vegaEmbed));\n",
       "    }\n",
       "  })({\"config\": {\"view\": {\"continuousWidth\": 400, \"continuousHeight\": 300}}, \"layer\": [{\"layer\": [{\"mark\": {\"type\": \"point\", \"size\": 75}, \"encoding\": {\"tooltip\": [{\"type\": \"temporal\", \"field\": \"date\"}, {\"type\": \"quantitative\", \"field\": \"positiveRate\"}, {\"type\": \"quantitative\", \"field\": \"sma7d\"}], \"x\": {\"type\": \"temporal\", \"field\": \"date\"}, \"y\": {\"type\": \"quantitative\", \"field\": \"positiveRate\"}}, \"selection\": {\"selector016\": {\"type\": \"interval\", \"bind\": \"scales\", \"encodings\": [\"x\", \"y\"]}}}, {\"mark\": {\"type\": \"line\", \"color\": \"purple\"}, \"encoding\": {\"x\": {\"type\": \"temporal\", \"field\": \"date\"}, \"y\": {\"type\": \"quantitative\", \"field\": \"sma7d\"}}}]}, {\"mark\": {\"type\": \"rule\", \"color\": \"#aaa\"}, \"encoding\": {\"x\": {\"type\": \"temporal\", \"field\": \"date\"}}, \"transform\": [{\"filter\": {\"selection\": \"selector015\"}}]}, {\"mark\": \"circle\", \"encoding\": {\"opacity\": {\"condition\": {\"value\": 1, \"selection\": \"selector015\"}, \"value\": 0}, \"tooltip\": [{\"type\": \"temporal\", \"field\": \"date\"}, {\"type\": \"quantitative\", \"field\": \"positiveRate\"}, {\"type\": \"quantitative\", \"field\": \"sma7d\"}], \"x\": {\"type\": \"temporal\", \"field\": \"date\"}, \"y\": {\"type\": \"quantitative\", \"field\": \"positiveRate\"}}, \"selection\": {\"selector015\": {\"type\": \"single\", \"encodings\": [\"x\"], \"on\": \"mouseover\", \"nearest\": true, \"empty\": \"none\"}}}, {\"mark\": {\"type\": \"text\", \"align\": \"left\", \"dx\": 5, \"dy\": -5, \"stroke\": \"white\", \"strokeWidth\": 2}, \"encoding\": {\"text\": {\"type\": \"quantitative\", \"field\": \"positiveRate\"}, \"tooltip\": [{\"type\": \"temporal\", \"field\": \"date\"}, {\"type\": \"quantitative\", \"field\": \"positiveRate\"}, {\"type\": \"quantitative\", \"field\": \"sma7d\"}], \"x\": {\"type\": \"temporal\", \"field\": \"date\"}, \"y\": {\"type\": \"quantitative\", \"field\": \"positiveRate\"}}, \"transform\": [{\"filter\": {\"selection\": \"selector015\"}}]}, {\"mark\": {\"type\": \"text\", \"align\": \"left\", \"dx\": 5, \"dy\": -5}, \"encoding\": {\"text\": {\"type\": \"quantitative\", \"field\": \"positiveRate\"}, \"tooltip\": [{\"type\": \"temporal\", \"field\": \"date\"}, {\"type\": \"quantitative\", \"field\": \"positiveRate\"}, {\"type\": \"quantitative\", \"field\": \"sma7d\"}], \"x\": {\"type\": \"temporal\", \"field\": \"date\"}, \"y\": {\"type\": \"quantitative\", \"field\": \"positiveRate\"}}, \"transform\": [{\"filter\": {\"selection\": \"selector015\"}}]}], \"data\": {\"name\": \"data-3f78ac8861e4eaf1963777e9b41f8f55\"}, \"height\": 400, \"title\": \"Non Tri-State: positiveRate\", \"width\": 500, \"$schema\": \"https://vega.github.io/schema/vega-lite/v4.8.1.json\", \"datasets\": {\"data-3f78ac8861e4eaf1963777e9b41f8f55\": [{\"date\": \"2020-08-18T00:00:00\", \"totalTestResultsIncrease\": 578286.0, \"positiveIncrease\": 39821.0, \"death\": 117950.0, \"deathIncrease\": 1178.0, \"positiveRate\": 0.069, \"state\": \"Non Tri-State\", \"sma7d\": 0.08}, {\"date\": \"2020-08-19T00:00:00\", \"totalTestResultsIncrease\": 590134.0, \"positiveIncrease\": 43936.0, \"death\": 119352.0, \"deathIncrease\": 1402.0, \"positiveRate\": 0.074, \"state\": \"Non Tri-State\", \"sma7d\": 0.069}, {\"date\": \"2020-08-20T00:00:00\", \"totalTestResultsIncrease\": 609709.0, \"positiveIncrease\": 42939.0, \"death\": 120474.0, \"deathIncrease\": 1122.0, \"positiveRate\": 0.07, \"state\": \"Non Tri-State\", \"sma7d\": 0.07}, {\"date\": \"2020-08-21T00:00:00\", \"totalTestResultsIncrease\": 654318.0, \"positiveIncrease\": 45475.0, \"death\": 121583.0, \"deathIncrease\": 1109.0, \"positiveRate\": 0.069, \"state\": \"Non Tri-State\", \"sma7d\": 0.07}, {\"date\": \"2020-08-22T00:00:00\", \"totalTestResultsIncrease\": 667704.0, \"positiveIncrease\": 45164.0, \"death\": 122606.0, \"deathIncrease\": 1023.0, \"positiveRate\": 0.068, \"state\": \"Non Tri-State\", \"sma7d\": 0.068}, {\"date\": \"2020-08-23T00:00:00\", \"totalTestResultsIncrease\": 584195.0, \"positiveIncrease\": 36736.0, \"death\": 123169.0, \"deathIncrease\": 563.0, \"positiveRate\": 0.063, \"state\": \"Non Tri-State\", \"sma7d\": 0.068}, {\"date\": \"2020-08-24T00:00:00\", \"totalTestResultsIncrease\": 560961.0, \"positiveIncrease\": 33518.0, \"death\": 123502.0, \"deathIncrease\": 333.0, \"positiveRate\": 0.06, \"state\": \"Non Tri-State\", \"sma7d\": 0.068}, {\"date\": \"2020-08-25T00:00:00\", \"totalTestResultsIncrease\": 576386.0, \"positiveIncrease\": 35419.0, \"death\": 124640.0, \"deathIncrease\": 1138.0, \"positiveRate\": 0.061, \"state\": \"Non Tri-State\", \"sma7d\": 0.066}, {\"date\": \"2020-08-26T00:00:00\", \"totalTestResultsIncrease\": 569937.0, \"positiveIncrease\": 43022.0, \"death\": 125920.0, \"deathIncrease\": 1280.0, \"positiveRate\": 0.075, \"state\": \"Non Tri-State\", \"sma7d\": 0.067}, {\"date\": \"2020-08-27T00:00:00\", \"totalTestResultsIncrease\": 669145.0, \"positiveIncrease\": 42756.0, \"death\": 127036.0, \"deathIncrease\": 1116.0, \"positiveRate\": 0.064, \"state\": \"Non Tri-State\", \"sma7d\": 0.066}, {\"date\": \"2020-08-28T00:00:00\", \"totalTestResultsIncrease\": 711634.0, \"positiveIncrease\": 45409.0, \"death\": 128047.0, \"deathIncrease\": 1011.0, \"positiveRate\": 0.064, \"state\": \"Non Tri-State\", \"sma7d\": 0.065}, {\"date\": \"2020-08-29T00:00:00\", \"totalTestResultsIncrease\": 667402.0, \"positiveIncrease\": 43517.0, \"death\": 129052.0, \"deathIncrease\": 1005.0, \"positiveRate\": 0.065, \"state\": \"Non Tri-State\", \"sma7d\": 0.065}, {\"date\": \"2020-08-30T00:00:00\", \"totalTestResultsIncrease\": 650297.0, \"positiveIncrease\": 38512.0, \"death\": 129515.0, \"deathIncrease\": 463.0, \"positiveRate\": 0.059, \"state\": \"Non Tri-State\", \"sma7d\": 0.064}, {\"date\": \"2020-08-31T00:00:00\", \"totalTestResultsIncrease\": 575606.0, \"positiveIncrease\": 30017.0, \"death\": 129872.0, \"deathIncrease\": 357.0, \"positiveRate\": 0.052, \"state\": \"Non Tri-State\", \"sma7d\": 0.063}, {\"date\": \"2020-09-01T00:00:00\", \"totalTestResultsIncrease\": 638198.0, \"positiveIncrease\": 41222.0, \"death\": 130890.0, \"deathIncrease\": 1018.0, \"positiveRate\": 0.065, \"state\": \"Non Tri-State\", \"sma7d\": 0.063}, {\"date\": \"2020-09-02T00:00:00\", \"totalTestResultsIncrease\": 541100.0, \"positiveIncrease\": 29488.0, \"death\": 131905.0, \"deathIncrease\": 1015.0, \"positiveRate\": 0.054, \"state\": \"Non Tri-State\", \"sma7d\": 0.06}, {\"date\": \"2020-09-03T00:00:00\", \"totalTestResultsIncrease\": 671532.0, \"positiveIncrease\": 43346.0, \"death\": 132960.0, \"deathIncrease\": 1055.0, \"positiveRate\": 0.065, \"state\": \"Non Tri-State\", \"sma7d\": 0.061}, {\"date\": \"2020-09-04T00:00:00\", \"totalTestResultsIncrease\": 807122.0, \"positiveIncrease\": 50122.0, \"death\": 133946.0, \"deathIncrease\": 986.0, \"positiveRate\": 0.062, \"state\": \"Non Tri-State\", \"sma7d\": 0.06}, {\"date\": \"2020-09-05T00:00:00\", \"totalTestResultsIncrease\": 783011.0, \"positiveIncrease\": 43779.0, \"death\": 134855.0, \"deathIncrease\": 909.0, \"positiveRate\": 0.056, \"state\": \"Non Tri-State\", \"sma7d\": 0.059}, {\"date\": \"2020-09-06T00:00:00\", \"totalTestResultsIncrease\": 662364.0, \"positiveIncrease\": 32077.0, \"death\": 135291.0, \"deathIncrease\": 436.0, \"positiveRate\": 0.048, \"state\": \"Non Tri-State\", \"sma7d\": 0.057}, {\"date\": \"2020-09-07T00:00:00\", \"totalTestResultsIncrease\": 507493.0, \"positiveIncrease\": 27830.0, \"death\": 135512.0, \"deathIncrease\": 221.0, \"positiveRate\": 0.055, \"state\": \"Non Tri-State\", \"sma7d\": 0.058}, {\"date\": \"2020-09-08T00:00:00\", \"totalTestResultsIncrease\": 419612.0, \"positiveIncrease\": 20972.0, \"death\": 135853.0, \"deathIncrease\": 341.0, \"positiveRate\": 0.05, \"state\": \"Non Tri-State\", \"sma7d\": 0.056}, {\"date\": \"2020-09-09T00:00:00\", \"totalTestResultsIncrease\": 540056.0, \"positiveIncrease\": 30126.0, \"death\": 136926.0, \"deathIncrease\": 1073.0, \"positiveRate\": 0.056, \"state\": \"Non Tri-State\", \"sma7d\": 0.056}, {\"date\": \"2020-09-10T00:00:00\", \"totalTestResultsIncrease\": 582077.0, \"positiveIncrease\": 36178.0, \"death\": 138080.0, \"deathIncrease\": 1154.0, \"positiveRate\": 0.062, \"state\": \"Non Tri-State\", \"sma7d\": 0.056}, {\"date\": \"2020-09-11T00:00:00\", \"totalTestResultsIncrease\": 696310.0, \"positiveIncrease\": 43340.0, \"death\": 139082.0, \"deathIncrease\": 1002.0, \"positiveRate\": 0.062, \"state\": \"Non Tri-State\", \"sma7d\": 0.056}, {\"date\": \"2020-09-12T00:00:00\", \"totalTestResultsIncrease\": 804472.0, \"positiveIncrease\": 40792.0, \"death\": 139886.0, \"deathIncrease\": 804.0, \"positiveRate\": 0.051, \"state\": \"Non Tri-State\", \"sma7d\": 0.055}, {\"date\": \"2020-09-13T00:00:00\", \"totalTestResultsIncrease\": 633658.0, \"positiveIncrease\": 33431.0, \"death\": 140265.0, \"deathIncrease\": 379.0, \"positiveRate\": 0.053, \"state\": \"Non Tri-State\", \"sma7d\": 0.056}, {\"date\": \"2020-09-14T00:00:00\", \"totalTestResultsIncrease\": 317531.0, \"positiveIncrease\": 32378.0, \"death\": 140656.0, \"deathIncrease\": 391.0, \"positiveRate\": 0.102, \"state\": \"Non Tri-State\", \"sma7d\": 0.062}, {\"date\": \"2020-09-15T00:00:00\", \"totalTestResultsIncrease\": 623607.0, \"positiveIncrease\": 34107.0, \"death\": 141667.0, \"deathIncrease\": 1011.0, \"positiveRate\": 0.055, \"state\": \"Non Tri-State\", \"sma7d\": 0.063}, {\"date\": \"2020-09-16T00:00:00\", \"totalTestResultsIncrease\": 630468.0, \"positiveIncrease\": 38846.0, \"death\": 142851.0, \"deathIncrease\": 1184.0, \"positiveRate\": 0.062, \"state\": \"Non Tri-State\", \"sma7d\": 0.064}, {\"date\": \"2020-09-17T00:00:00\", \"totalTestResultsIncrease\": 714284.0, \"positiveIncrease\": 41873.0, \"death\": 143707.0, \"deathIncrease\": 856.0, \"positiveRate\": 0.059, \"state\": \"Non Tri-State\", \"sma7d\": 0.063}, {\"date\": \"2020-09-18T00:00:00\", \"totalTestResultsIncrease\": 860669.0, \"positiveIncrease\": 46068.0, \"death\": 144590.0, \"deathIncrease\": 883.0, \"positiveRate\": 0.054, \"state\": \"Non Tri-State\", \"sma7d\": 0.062}, {\"date\": \"2020-09-19T00:00:00\", \"totalTestResultsIncrease\": 955861.0, \"positiveIncrease\": 44117.0, \"death\": 145325.0, \"deathIncrease\": 735.0, \"positiveRate\": 0.046, \"state\": \"Non Tri-State\", \"sma7d\": 0.062}, {\"date\": \"2020-09-20T00:00:00\", \"totalTestResultsIncrease\": 756795.0, \"positiveIncrease\": 34980.0, \"death\": 145647.0, \"deathIncrease\": 322.0, \"positiveRate\": 0.046, \"state\": \"Non Tri-State\", \"sma7d\": 0.061}, {\"date\": \"2020-09-21T00:00:00\", \"totalTestResultsIncrease\": 625007.0, \"positiveIncrease\": 38010.0, \"death\": 145928.0, \"deathIncrease\": 281.0, \"positiveRate\": 0.061, \"state\": \"Non Tri-State\", \"sma7d\": 0.055}, {\"date\": \"2020-09-22T00:00:00\", \"totalTestResultsIncrease\": 643293.0, \"positiveIncrease\": 48123.0, \"death\": 146770.0, \"deathIncrease\": 842.0, \"positiveRate\": 0.075, \"state\": \"Non Tri-State\", \"sma7d\": 0.058}, {\"date\": \"2020-09-23T00:00:00\", \"totalTestResultsIncrease\": 821918.0, \"positiveIncrease\": 37339.0, \"death\": 147915.0, \"deathIncrease\": 1145.0, \"positiveRate\": 0.045, \"state\": \"Non Tri-State\", \"sma7d\": 0.055}, {\"date\": \"2020-09-24T00:00:00\", \"totalTestResultsIncrease\": 805681.0, \"positiveIncrease\": 42096.0, \"death\": 148823.0, \"deathIncrease\": 908.0, \"positiveRate\": 0.052, \"state\": \"Non Tri-State\", \"sma7d\": 0.054}, {\"date\": \"2020-09-25T00:00:00\", \"totalTestResultsIncrease\": 883989.0, \"positiveIncrease\": 53955.0, \"death\": 149652.0, \"deathIncrease\": 829.0, \"positiveRate\": 0.061, \"state\": \"Non Tri-State\", \"sma7d\": 0.055}, {\"date\": \"2020-09-26T00:00:00\", \"totalTestResultsIncrease\": 889201.0, \"positiveIncrease\": 46101.0, \"death\": 150511.0, \"deathIncrease\": 859.0, \"positiveRate\": 0.052, \"state\": \"Non Tri-State\", \"sma7d\": 0.056}, {\"date\": \"2020-09-27T00:00:00\", \"totalTestResultsIncrease\": 745218.0, \"positiveIncrease\": 33890.0, \"death\": 150806.0, \"deathIncrease\": 295.0, \"positiveRate\": 0.045, \"state\": \"Non Tri-State\", \"sma7d\": 0.056}, {\"date\": \"2020-09-28T00:00:00\", \"totalTestResultsIncrease\": 963450.0, \"positiveIncrease\": 34571.0, \"death\": 151051.0, \"deathIncrease\": 245.0, \"positiveRate\": 0.036, \"state\": \"Non Tri-State\", \"sma7d\": 0.052}, {\"date\": \"2020-09-29T00:00:00\", \"totalTestResultsIncrease\": 726263.0, \"positiveIncrease\": 35120.0, \"death\": 151776.0, \"deathIncrease\": 725.0, \"positiveRate\": 0.048, \"state\": \"Non Tri-State\", \"sma7d\": 0.048}, {\"date\": \"2020-09-30T00:00:00\", \"totalTestResultsIncrease\": 657504.0, \"positiveIncrease\": 42491.0, \"death\": 152816.0, \"deathIncrease\": 1040.0, \"positiveRate\": 0.065, \"state\": \"Non Tri-State\", \"sma7d\": 0.051}, {\"date\": \"2020-10-01T00:00:00\", \"totalTestResultsIncrease\": 779444.0, \"positiveIncrease\": 43506.0, \"death\": 153648.0, \"deathIncrease\": 832.0, \"positiveRate\": 0.056, \"state\": \"Non Tri-State\", \"sma7d\": 0.052}, {\"date\": \"2020-10-02T00:00:00\", \"totalTestResultsIncrease\": 878715.0, \"positiveIncrease\": 46641.0, \"death\": 154470.0, \"deathIncrease\": 822.0, \"positiveRate\": 0.053, \"state\": \"Non Tri-State\", \"sma7d\": 0.051}, {\"date\": \"2020-10-03T00:00:00\", \"totalTestResultsIncrease\": 864681.0, \"positiveIncrease\": 48694.0, \"death\": 155199.0, \"deathIncrease\": 729.0, \"positiveRate\": 0.056, \"state\": \"Non Tri-State\", \"sma7d\": 0.051}, {\"date\": \"2020-10-04T00:00:00\", \"totalTestResultsIncrease\": 787433.0, \"positiveIncrease\": 36591.0, \"death\": 155547.0, \"deathIncrease\": 348.0, \"positiveRate\": 0.046, \"state\": \"Non Tri-State\", \"sma7d\": 0.051}, {\"date\": \"2020-10-05T00:00:00\", \"totalTestResultsIncrease\": 786400.0, \"positiveIncrease\": 35866.0, \"death\": 155859.0, \"deathIncrease\": 312.0, \"positiveRate\": 0.046, \"state\": \"Non Tri-State\", \"sma7d\": 0.053}, {\"date\": \"2020-10-06T00:00:00\", \"totalTestResultsIncrease\": 709552.0, \"positiveIncrease\": 36518.0, \"death\": 156471.0, \"deathIncrease\": 612.0, \"positiveRate\": 0.051, \"state\": \"Non Tri-State\", \"sma7d\": 0.053}, {\"date\": \"2020-10-07T00:00:00\", \"totalTestResultsIncrease\": 723784.0, \"positiveIncrease\": 48611.0, \"death\": 157372.0, \"deathIncrease\": 901.0, \"positiveRate\": 0.067, \"state\": \"Non Tri-State\", \"sma7d\": 0.054}, {\"date\": \"2020-10-08T00:00:00\", \"totalTestResultsIncrease\": 806178.0, \"positiveIncrease\": 51834.0, \"death\": 158335.0, \"deathIncrease\": 963.0, \"positiveRate\": 0.064, \"state\": \"Non Tri-State\", \"sma7d\": 0.055}, {\"date\": \"2020-10-09T00:00:00\", \"totalTestResultsIncrease\": 899505.0, \"positiveIncrease\": 54313.0, \"death\": 159215.0, \"deathIncrease\": 880.0, \"positiveRate\": 0.06, \"state\": \"Non Tri-State\", \"sma7d\": 0.056}, {\"date\": \"2020-10-10T00:00:00\", \"totalTestResultsIncrease\": 963566.0, \"positiveIncrease\": 54895.0, \"death\": 159863.0, \"deathIncrease\": 648.0, \"positiveRate\": 0.057, \"state\": \"Non Tri-State\", \"sma7d\": 0.056}, {\"date\": \"2020-10-11T00:00:00\", \"totalTestResultsIncrease\": 824640.0, \"positiveIncrease\": 44882.0, \"death\": 160319.0, \"deathIncrease\": 456.0, \"positiveRate\": 0.054, \"state\": \"Non Tri-State\", \"sma7d\": 0.057}, {\"date\": \"2020-10-12T00:00:00\", \"totalTestResultsIncrease\": 754555.0, \"positiveIncrease\": 40206.0, \"death\": 160587.0, \"deathIncrease\": 268.0, \"positiveRate\": 0.053, \"state\": \"Non Tri-State\", \"sma7d\": 0.058}]}}, {\"mode\": \"vega-lite\"});\n",
       "</script>"
      ],
      "text/plain": [
       "alt.LayerChart(...)"
      ]
     },
     "execution_count": 16,
     "metadata": {},
     "output_type": "execute_result"
    }
   ],
   "source": [
    "create_plot(non_tristate, 'positiveRate')"
   ]
  },
  {
   "cell_type": "code",
   "execution_count": 17,
   "metadata": {
    "execution": {
     "iopub.execute_input": "2020-10-12T22:34:10.334015Z",
     "iopub.status.busy": "2020-10-12T22:34:10.333466Z",
     "iopub.status.idle": "2020-10-12T22:34:10.425312Z",
     "shell.execute_reply": "2020-10-12T22:34:10.425763Z"
    },
    "papermill": {
     "duration": 0.114131,
     "end_time": "2020-10-12T22:34:10.425911",
     "exception": false,
     "start_time": "2020-10-12T22:34:10.311780",
     "status": "completed"
    },
    "tags": []
   },
   "outputs": [
    {
     "data": {
      "text/html": [
       "\n",
       "<div id=\"altair-viz-81bb53bdbb874811844290dd1abb61be\"></div>\n",
       "<script type=\"text/javascript\">\n",
       "  (function(spec, embedOpt){\n",
       "    let outputDiv = document.currentScript.previousElementSibling;\n",
       "    if (outputDiv.id !== \"altair-viz-81bb53bdbb874811844290dd1abb61be\") {\n",
       "      outputDiv = document.getElementById(\"altair-viz-81bb53bdbb874811844290dd1abb61be\");\n",
       "    }\n",
       "    const paths = {\n",
       "      \"vega\": \"https://cdn.jsdelivr.net/npm//vega@5?noext\",\n",
       "      \"vega-lib\": \"https://cdn.jsdelivr.net/npm//vega-lib?noext\",\n",
       "      \"vega-lite\": \"https://cdn.jsdelivr.net/npm//vega-lite@4.8.1?noext\",\n",
       "      \"vega-embed\": \"https://cdn.jsdelivr.net/npm//vega-embed@6?noext\",\n",
       "    };\n",
       "\n",
       "    function loadScript(lib) {\n",
       "      return new Promise(function(resolve, reject) {\n",
       "        var s = document.createElement('script');\n",
       "        s.src = paths[lib];\n",
       "        s.async = true;\n",
       "        s.onload = () => resolve(paths[lib]);\n",
       "        s.onerror = () => reject(`Error loading script: ${paths[lib]}`);\n",
       "        document.getElementsByTagName(\"head\")[0].appendChild(s);\n",
       "      });\n",
       "    }\n",
       "\n",
       "    function showError(err) {\n",
       "      outputDiv.innerHTML = `<div class=\"error\" style=\"color:red;\">${err}</div>`;\n",
       "      throw err;\n",
       "    }\n",
       "\n",
       "    function displayChart(vegaEmbed) {\n",
       "      vegaEmbed(outputDiv, spec, embedOpt)\n",
       "        .catch(err => showError(`Javascript Error: ${err.message}<br>This usually means there's a typo in your chart specification. See the javascript console for the full traceback.`));\n",
       "    }\n",
       "\n",
       "    if(typeof define === \"function\" && define.amd) {\n",
       "      requirejs.config({paths});\n",
       "      require([\"vega-embed\"], displayChart, err => showError(`Error loading script: ${err.message}`));\n",
       "    } else if (typeof vegaEmbed === \"function\") {\n",
       "      displayChart(vegaEmbed);\n",
       "    } else {\n",
       "      loadScript(\"vega\")\n",
       "        .then(() => loadScript(\"vega-lite\"))\n",
       "        .then(() => loadScript(\"vega-embed\"))\n",
       "        .catch(showError)\n",
       "        .then(() => displayChart(vegaEmbed));\n",
       "    }\n",
       "  })({\"config\": {\"view\": {\"continuousWidth\": 400, \"continuousHeight\": 300}}, \"layer\": [{\"layer\": [{\"mark\": {\"type\": \"point\", \"size\": 75}, \"encoding\": {\"tooltip\": [{\"type\": \"temporal\", \"field\": \"date\"}, {\"type\": \"quantitative\", \"field\": \"deathIncrease\"}, {\"type\": \"quantitative\", \"field\": \"sma7d\"}], \"x\": {\"type\": \"temporal\", \"field\": \"date\"}, \"y\": {\"type\": \"quantitative\", \"field\": \"deathIncrease\"}}, \"selection\": {\"selector018\": {\"type\": \"interval\", \"bind\": \"scales\", \"encodings\": [\"x\", \"y\"]}}}, {\"mark\": {\"type\": \"line\", \"color\": \"purple\"}, \"encoding\": {\"x\": {\"type\": \"temporal\", \"field\": \"date\"}, \"y\": {\"type\": \"quantitative\", \"field\": \"sma7d\"}}}]}, {\"mark\": {\"type\": \"rule\", \"color\": \"#aaa\"}, \"encoding\": {\"x\": {\"type\": \"temporal\", \"field\": \"date\"}}, \"transform\": [{\"filter\": {\"selection\": \"selector017\"}}]}, {\"mark\": \"circle\", \"encoding\": {\"opacity\": {\"condition\": {\"value\": 1, \"selection\": \"selector017\"}, \"value\": 0}, \"tooltip\": [{\"type\": \"temporal\", \"field\": \"date\"}, {\"type\": \"quantitative\", \"field\": \"deathIncrease\"}, {\"type\": \"quantitative\", \"field\": \"sma7d\"}], \"x\": {\"type\": \"temporal\", \"field\": \"date\"}, \"y\": {\"type\": \"quantitative\", \"field\": \"deathIncrease\"}}, \"selection\": {\"selector017\": {\"type\": \"single\", \"encodings\": [\"x\"], \"on\": \"mouseover\", \"nearest\": true, \"empty\": \"none\"}}}, {\"mark\": {\"type\": \"text\", \"align\": \"left\", \"dx\": 5, \"dy\": -5, \"stroke\": \"white\", \"strokeWidth\": 2}, \"encoding\": {\"text\": {\"type\": \"quantitative\", \"field\": \"deathIncrease\"}, \"tooltip\": [{\"type\": \"temporal\", \"field\": \"date\"}, {\"type\": \"quantitative\", \"field\": \"deathIncrease\"}, {\"type\": \"quantitative\", \"field\": \"sma7d\"}], \"x\": {\"type\": \"temporal\", \"field\": \"date\"}, \"y\": {\"type\": \"quantitative\", \"field\": \"deathIncrease\"}}, \"transform\": [{\"filter\": {\"selection\": \"selector017\"}}]}, {\"mark\": {\"type\": \"text\", \"align\": \"left\", \"dx\": 5, \"dy\": -5}, \"encoding\": {\"text\": {\"type\": \"quantitative\", \"field\": \"deathIncrease\"}, \"tooltip\": [{\"type\": \"temporal\", \"field\": \"date\"}, {\"type\": \"quantitative\", \"field\": \"deathIncrease\"}, {\"type\": \"quantitative\", \"field\": \"sma7d\"}], \"x\": {\"type\": \"temporal\", \"field\": \"date\"}, \"y\": {\"type\": \"quantitative\", \"field\": \"deathIncrease\"}}, \"transform\": [{\"filter\": {\"selection\": \"selector017\"}}]}], \"data\": {\"name\": \"data-debef86b76af1ef3c80c6db3b9c4ffc0\"}, \"height\": 400, \"title\": \"Non Tri-State: deathIncrease\", \"width\": 500, \"$schema\": \"https://vega.github.io/schema/vega-lite/v4.8.1.json\", \"datasets\": {\"data-debef86b76af1ef3c80c6db3b9c4ffc0\": [{\"date\": \"2020-08-18T00:00:00\", \"totalTestResultsIncrease\": 578286.0, \"positiveIncrease\": 39821.0, \"death\": 117950.0, \"deathIncrease\": 1178.0, \"positiveRate\": 0.069, \"state\": \"Non Tri-State\", \"sma7d\": 1031.714}, {\"date\": \"2020-08-19T00:00:00\", \"totalTestResultsIncrease\": 590134.0, \"positiveIncrease\": 43936.0, \"death\": 119352.0, \"deathIncrease\": 1402.0, \"positiveRate\": 0.074, \"state\": \"Non Tri-State\", \"sma7d\": 1018.429}, {\"date\": \"2020-08-20T00:00:00\", \"totalTestResultsIncrease\": 609709.0, \"positiveIncrease\": 42939.0, \"death\": 120474.0, \"deathIncrease\": 1122.0, \"positiveRate\": 0.07, \"state\": \"Non Tri-State\", \"sma7d\": 1015.143}, {\"date\": \"2020-08-21T00:00:00\", \"totalTestResultsIncrease\": 654318.0, \"positiveIncrease\": 45475.0, \"death\": 121583.0, \"deathIncrease\": 1109.0, \"positiveRate\": 0.069, \"state\": \"Non Tri-State\", \"sma7d\": 1002.286}, {\"date\": \"2020-08-22T00:00:00\", \"totalTestResultsIncrease\": 667704.0, \"positiveIncrease\": 45164.0, \"death\": 122606.0, \"deathIncrease\": 1023.0, \"positiveRate\": 0.068, \"state\": \"Non Tri-State\", \"sma7d\": 977.0}, {\"date\": \"2020-08-23T00:00:00\", \"totalTestResultsIncrease\": 584195.0, \"positiveIncrease\": 36736.0, \"death\": 123169.0, \"deathIncrease\": 563.0, \"positiveRate\": 0.063, \"state\": \"Non Tri-State\", \"sma7d\": 970.143}, {\"date\": \"2020-08-24T00:00:00\", \"totalTestResultsIncrease\": 560961.0, \"positiveIncrease\": 33518.0, \"death\": 123502.0, \"deathIncrease\": 333.0, \"positiveRate\": 0.06, \"state\": \"Non Tri-State\", \"sma7d\": 961.429}, {\"date\": \"2020-08-25T00:00:00\", \"totalTestResultsIncrease\": 576386.0, \"positiveIncrease\": 35419.0, \"death\": 124640.0, \"deathIncrease\": 1138.0, \"positiveRate\": 0.061, \"state\": \"Non Tri-State\", \"sma7d\": 955.714}, {\"date\": \"2020-08-26T00:00:00\", \"totalTestResultsIncrease\": 569937.0, \"positiveIncrease\": 43022.0, \"death\": 125920.0, \"deathIncrease\": 1280.0, \"positiveRate\": 0.075, \"state\": \"Non Tri-State\", \"sma7d\": 938.286}, {\"date\": \"2020-08-27T00:00:00\", \"totalTestResultsIncrease\": 669145.0, \"positiveIncrease\": 42756.0, \"death\": 127036.0, \"deathIncrease\": 1116.0, \"positiveRate\": 0.064, \"state\": \"Non Tri-State\", \"sma7d\": 937.429}, {\"date\": \"2020-08-28T00:00:00\", \"totalTestResultsIncrease\": 711634.0, \"positiveIncrease\": 45409.0, \"death\": 128047.0, \"deathIncrease\": 1011.0, \"positiveRate\": 0.064, \"state\": \"Non Tri-State\", \"sma7d\": 923.429}, {\"date\": \"2020-08-29T00:00:00\", \"totalTestResultsIncrease\": 667402.0, \"positiveIncrease\": 43517.0, \"death\": 129052.0, \"deathIncrease\": 1005.0, \"positiveRate\": 0.065, \"state\": \"Non Tri-State\", \"sma7d\": 920.857}, {\"date\": \"2020-08-30T00:00:00\", \"totalTestResultsIncrease\": 650297.0, \"positiveIncrease\": 38512.0, \"death\": 129515.0, \"deathIncrease\": 463.0, \"positiveRate\": 0.059, \"state\": \"Non Tri-State\", \"sma7d\": 906.571}, {\"date\": \"2020-08-31T00:00:00\", \"totalTestResultsIncrease\": 575606.0, \"positiveIncrease\": 30017.0, \"death\": 129872.0, \"deathIncrease\": 357.0, \"positiveRate\": 0.052, \"state\": \"Non Tri-State\", \"sma7d\": 910.0}, {\"date\": \"2020-09-01T00:00:00\", \"totalTestResultsIncrease\": 638198.0, \"positiveIncrease\": 41222.0, \"death\": 130890.0, \"deathIncrease\": 1018.0, \"positiveRate\": 0.065, \"state\": \"Non Tri-State\", \"sma7d\": 892.857}, {\"date\": \"2020-09-02T00:00:00\", \"totalTestResultsIncrease\": 541100.0, \"positiveIncrease\": 29488.0, \"death\": 131905.0, \"deathIncrease\": 1015.0, \"positiveRate\": 0.054, \"state\": \"Non Tri-State\", \"sma7d\": 855.0}, {\"date\": \"2020-09-03T00:00:00\", \"totalTestResultsIncrease\": 671532.0, \"positiveIncrease\": 43346.0, \"death\": 132960.0, \"deathIncrease\": 1055.0, \"positiveRate\": 0.065, \"state\": \"Non Tri-State\", \"sma7d\": 846.286}, {\"date\": \"2020-09-04T00:00:00\", \"totalTestResultsIncrease\": 807122.0, \"positiveIncrease\": 50122.0, \"death\": 133946.0, \"deathIncrease\": 986.0, \"positiveRate\": 0.062, \"state\": \"Non Tri-State\", \"sma7d\": 842.714}, {\"date\": \"2020-09-05T00:00:00\", \"totalTestResultsIncrease\": 783011.0, \"positiveIncrease\": 43779.0, \"death\": 134855.0, \"deathIncrease\": 909.0, \"positiveRate\": 0.056, \"state\": \"Non Tri-State\", \"sma7d\": 829.0}, {\"date\": \"2020-09-06T00:00:00\", \"totalTestResultsIncrease\": 662364.0, \"positiveIncrease\": 32077.0, \"death\": 135291.0, \"deathIncrease\": 436.0, \"positiveRate\": 0.048, \"state\": \"Non Tri-State\", \"sma7d\": 825.143}, {\"date\": \"2020-09-07T00:00:00\", \"totalTestResultsIncrease\": 507493.0, \"positiveIncrease\": 27830.0, \"death\": 135512.0, \"deathIncrease\": 221.0, \"positiveRate\": 0.055, \"state\": \"Non Tri-State\", \"sma7d\": 805.714}, {\"date\": \"2020-09-08T00:00:00\", \"totalTestResultsIncrease\": 419612.0, \"positiveIncrease\": 20972.0, \"death\": 135853.0, \"deathIncrease\": 341.0, \"positiveRate\": 0.05, \"state\": \"Non Tri-State\", \"sma7d\": 709.0}, {\"date\": \"2020-09-09T00:00:00\", \"totalTestResultsIncrease\": 540056.0, \"positiveIncrease\": 30126.0, \"death\": 136926.0, \"deathIncrease\": 1073.0, \"positiveRate\": 0.056, \"state\": \"Non Tri-State\", \"sma7d\": 717.286}, {\"date\": \"2020-09-10T00:00:00\", \"totalTestResultsIncrease\": 582077.0, \"positiveIncrease\": 36178.0, \"death\": 138080.0, \"deathIncrease\": 1154.0, \"positiveRate\": 0.062, \"state\": \"Non Tri-State\", \"sma7d\": 731.429}, {\"date\": \"2020-09-11T00:00:00\", \"totalTestResultsIncrease\": 696310.0, \"positiveIncrease\": 43340.0, \"death\": 139082.0, \"deathIncrease\": 1002.0, \"positiveRate\": 0.062, \"state\": \"Non Tri-State\", \"sma7d\": 733.714}, {\"date\": \"2020-09-12T00:00:00\", \"totalTestResultsIncrease\": 804472.0, \"positiveIncrease\": 40792.0, \"death\": 139886.0, \"deathIncrease\": 804.0, \"positiveRate\": 0.051, \"state\": \"Non Tri-State\", \"sma7d\": 718.714}, {\"date\": \"2020-09-13T00:00:00\", \"totalTestResultsIncrease\": 633658.0, \"positiveIncrease\": 33431.0, \"death\": 140265.0, \"deathIncrease\": 379.0, \"positiveRate\": 0.053, \"state\": \"Non Tri-State\", \"sma7d\": 710.571}, {\"date\": \"2020-09-14T00:00:00\", \"totalTestResultsIncrease\": 317531.0, \"positiveIncrease\": 32378.0, \"death\": 140656.0, \"deathIncrease\": 391.0, \"positiveRate\": 0.102, \"state\": \"Non Tri-State\", \"sma7d\": 734.857}, {\"date\": \"2020-09-15T00:00:00\", \"totalTestResultsIncrease\": 623607.0, \"positiveIncrease\": 34107.0, \"death\": 141667.0, \"deathIncrease\": 1011.0, \"positiveRate\": 0.055, \"state\": \"Non Tri-State\", \"sma7d\": 830.571}, {\"date\": \"2020-09-16T00:00:00\", \"totalTestResultsIncrease\": 630468.0, \"positiveIncrease\": 38846.0, \"death\": 142851.0, \"deathIncrease\": 1184.0, \"positiveRate\": 0.062, \"state\": \"Non Tri-State\", \"sma7d\": 846.429}, {\"date\": \"2020-09-17T00:00:00\", \"totalTestResultsIncrease\": 714284.0, \"positiveIncrease\": 41873.0, \"death\": 143707.0, \"deathIncrease\": 856.0, \"positiveRate\": 0.059, \"state\": \"Non Tri-State\", \"sma7d\": 803.857}, {\"date\": \"2020-09-18T00:00:00\", \"totalTestResultsIncrease\": 860669.0, \"positiveIncrease\": 46068.0, \"death\": 144590.0, \"deathIncrease\": 883.0, \"positiveRate\": 0.054, \"state\": \"Non Tri-State\", \"sma7d\": 786.857}, {\"date\": \"2020-09-19T00:00:00\", \"totalTestResultsIncrease\": 955861.0, \"positiveIncrease\": 44117.0, \"death\": 145325.0, \"deathIncrease\": 735.0, \"positiveRate\": 0.046, \"state\": \"Non Tri-State\", \"sma7d\": 777.0}, {\"date\": \"2020-09-20T00:00:00\", \"totalTestResultsIncrease\": 756795.0, \"positiveIncrease\": 34980.0, \"death\": 145647.0, \"deathIncrease\": 322.0, \"positiveRate\": 0.046, \"state\": \"Non Tri-State\", \"sma7d\": 768.857}, {\"date\": \"2020-09-21T00:00:00\", \"totalTestResultsIncrease\": 625007.0, \"positiveIncrease\": 38010.0, \"death\": 145928.0, \"deathIncrease\": 281.0, \"positiveRate\": 0.061, \"state\": \"Non Tri-State\", \"sma7d\": 753.143}, {\"date\": \"2020-09-22T00:00:00\", \"totalTestResultsIncrease\": 643293.0, \"positiveIncrease\": 48123.0, \"death\": 146770.0, \"deathIncrease\": 842.0, \"positiveRate\": 0.075, \"state\": \"Non Tri-State\", \"sma7d\": 729.0}, {\"date\": \"2020-09-23T00:00:00\", \"totalTestResultsIncrease\": 821918.0, \"positiveIncrease\": 37339.0, \"death\": 147915.0, \"deathIncrease\": 1145.0, \"positiveRate\": 0.045, \"state\": \"Non Tri-State\", \"sma7d\": 723.429}, {\"date\": \"2020-09-24T00:00:00\", \"totalTestResultsIncrease\": 805681.0, \"positiveIncrease\": 42096.0, \"death\": 148823.0, \"deathIncrease\": 908.0, \"positiveRate\": 0.052, \"state\": \"Non Tri-State\", \"sma7d\": 730.857}, {\"date\": \"2020-09-25T00:00:00\", \"totalTestResultsIncrease\": 883989.0, \"positiveIncrease\": 53955.0, \"death\": 149652.0, \"deathIncrease\": 829.0, \"positiveRate\": 0.061, \"state\": \"Non Tri-State\", \"sma7d\": 723.143}, {\"date\": \"2020-09-26T00:00:00\", \"totalTestResultsIncrease\": 889201.0, \"positiveIncrease\": 46101.0, \"death\": 150511.0, \"deathIncrease\": 859.0, \"positiveRate\": 0.052, \"state\": \"Non Tri-State\", \"sma7d\": 740.857}, {\"date\": \"2020-09-27T00:00:00\", \"totalTestResultsIncrease\": 745218.0, \"positiveIncrease\": 33890.0, \"death\": 150806.0, \"deathIncrease\": 295.0, \"positiveRate\": 0.045, \"state\": \"Non Tri-State\", \"sma7d\": 737.0}, {\"date\": \"2020-09-28T00:00:00\", \"totalTestResultsIncrease\": 963450.0, \"positiveIncrease\": 34571.0, \"death\": 151051.0, \"deathIncrease\": 245.0, \"positiveRate\": 0.036, \"state\": \"Non Tri-State\", \"sma7d\": 731.857}, {\"date\": \"2020-09-29T00:00:00\", \"totalTestResultsIncrease\": 726263.0, \"positiveIncrease\": 35120.0, \"death\": 151776.0, \"deathIncrease\": 725.0, \"positiveRate\": 0.048, \"state\": \"Non Tri-State\", \"sma7d\": 715.143}, {\"date\": \"2020-09-30T00:00:00\", \"totalTestResultsIncrease\": 657504.0, \"positiveIncrease\": 42491.0, \"death\": 152816.0, \"deathIncrease\": 1040.0, \"positiveRate\": 0.065, \"state\": \"Non Tri-State\", \"sma7d\": 700.143}, {\"date\": \"2020-10-01T00:00:00\", \"totalTestResultsIncrease\": 779444.0, \"positiveIncrease\": 43506.0, \"death\": 153648.0, \"deathIncrease\": 832.0, \"positiveRate\": 0.056, \"state\": \"Non Tri-State\", \"sma7d\": 689.286}, {\"date\": \"2020-10-02T00:00:00\", \"totalTestResultsIncrease\": 878715.0, \"positiveIncrease\": 46641.0, \"death\": 154470.0, \"deathIncrease\": 822.0, \"positiveRate\": 0.053, \"state\": \"Non Tri-State\", \"sma7d\": 688.286}, {\"date\": \"2020-10-03T00:00:00\", \"totalTestResultsIncrease\": 864681.0, \"positiveIncrease\": 48694.0, \"death\": 155199.0, \"deathIncrease\": 729.0, \"positiveRate\": 0.056, \"state\": \"Non Tri-State\", \"sma7d\": 669.714}, {\"date\": \"2020-10-04T00:00:00\", \"totalTestResultsIncrease\": 787433.0, \"positiveIncrease\": 36591.0, \"death\": 155547.0, \"deathIncrease\": 348.0, \"positiveRate\": 0.046, \"state\": \"Non Tri-State\", \"sma7d\": 677.286}, {\"date\": \"2020-10-05T00:00:00\", \"totalTestResultsIncrease\": 786400.0, \"positiveIncrease\": 35866.0, \"death\": 155859.0, \"deathIncrease\": 312.0, \"positiveRate\": 0.046, \"state\": \"Non Tri-State\", \"sma7d\": 686.857}, {\"date\": \"2020-10-06T00:00:00\", \"totalTestResultsIncrease\": 709552.0, \"positiveIncrease\": 36518.0, \"death\": 156471.0, \"deathIncrease\": 612.0, \"positiveRate\": 0.051, \"state\": \"Non Tri-State\", \"sma7d\": 670.714}, {\"date\": \"2020-10-07T00:00:00\", \"totalTestResultsIncrease\": 723784.0, \"positiveIncrease\": 48611.0, \"death\": 157372.0, \"deathIncrease\": 901.0, \"positiveRate\": 0.067, \"state\": \"Non Tri-State\", \"sma7d\": 650.857}, {\"date\": \"2020-10-08T00:00:00\", \"totalTestResultsIncrease\": 806178.0, \"positiveIncrease\": 51834.0, \"death\": 158335.0, \"deathIncrease\": 963.0, \"positiveRate\": 0.064, \"state\": \"Non Tri-State\", \"sma7d\": 669.571}, {\"date\": \"2020-10-09T00:00:00\", \"totalTestResultsIncrease\": 899505.0, \"positiveIncrease\": 54313.0, \"death\": 159215.0, \"deathIncrease\": 880.0, \"positiveRate\": 0.06, \"state\": \"Non Tri-State\", \"sma7d\": 677.857}, {\"date\": \"2020-10-10T00:00:00\", \"totalTestResultsIncrease\": 963566.0, \"positiveIncrease\": 54895.0, \"death\": 159863.0, \"deathIncrease\": 648.0, \"positiveRate\": 0.057, \"state\": \"Non Tri-State\", \"sma7d\": 666.286}, {\"date\": \"2020-10-11T00:00:00\", \"totalTestResultsIncrease\": 824640.0, \"positiveIncrease\": 44882.0, \"death\": 160319.0, \"deathIncrease\": 456.0, \"positiveRate\": 0.054, \"state\": \"Non Tri-State\", \"sma7d\": 681.714}, {\"date\": \"2020-10-12T00:00:00\", \"totalTestResultsIncrease\": 754555.0, \"positiveIncrease\": 40206.0, \"death\": 160587.0, \"deathIncrease\": 268.0, \"positiveRate\": 0.053, \"state\": \"Non Tri-State\", \"sma7d\": 675.429}]}}, {\"mode\": \"vega-lite\"});\n",
       "</script>"
      ],
      "text/plain": [
       "alt.LayerChart(...)"
      ]
     },
     "execution_count": 17,
     "metadata": {},
     "output_type": "execute_result"
    }
   ],
   "source": [
    "create_plot(non_tristate, 'deathIncrease')"
   ]
  }
 ],
 "metadata": {
  "kernelspec": {
   "display_name": "Python 3",
   "language": "python",
   "name": "python3"
  },
  "language_info": {
   "codemirror_mode": {
    "name": "ipython",
    "version": 3
   },
   "file_extension": ".py",
   "mimetype": "text/x-python",
   "name": "python",
   "nbconvert_exporter": "python",
   "pygments_lexer": "ipython3",
   "version": "3.8.6"
  },
  "papermill": {
   "duration": 7.012482,
   "end_time": "2020-10-12T22:34:10.750070",
   "environment_variables": {},
   "exception": null,
   "input_path": "2020-07-19-covid-plots.ipynb",
   "output_path": "2020-07-19-covid-plots.ipynb",
   "parameters": {},
   "start_time": "2020-10-12T22:34:03.737588",
   "version": "2.1.2"
  }
 },
 "nbformat": 4,
 "nbformat_minor": 4
}