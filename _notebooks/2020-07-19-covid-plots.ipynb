{
 "cells": [
  {
   "cell_type": "markdown",
   "metadata": {
    "papermill": {
     "duration": 0.017091,
     "end_time": "2020-10-16T22:34:58.117316",
     "exception": false,
     "start_time": "2020-10-16T22:34:58.100225",
     "status": "completed"
    },
    "tags": []
   },
   "source": [
    "# \"COVID-19 plots\"\n",
    "> \"Interactive plots with daily updates\"\n",
    "\n",
    "- author: bbernst\n",
    "- toc: true\n",
    "- branch: master\n",
    "- badges: true\n",
    "- comments: true\n",
    "- categories: [healthcare, covid]\n",
    "- image: images/covid_plots/covid_mask.png\n",
    "- hide: false\n",
    "- search_exclude: true"
   ]
  },
  {
   "cell_type": "markdown",
   "metadata": {
    "papermill": {
     "duration": 0.012024,
     "end_time": "2020-10-16T22:34:58.143818",
     "exception": false,
     "start_time": "2020-10-16T22:34:58.131794",
     "status": "completed"
    },
    "tags": []
   },
   "source": [
    "I wanted to make a simple COVID-19 post to accomplish two main goals:\n",
    "1. Easily see the specific plots I'm interested in\n",
    "1. Update these plots every day, automatically\n",
    "\n",
    "Enter [fastpages](https://github.com/fastai/fastpages) and [github actions](https://github.com/features/actions). I'd been meaning to set up a blog with fastpages for a while and thought this would be a good reason to try it out. The documentation was great and I was able to set up automatic updates by using https://covid19dashboards.com/ as a guide.\n",
    "\n",
    "The data for this post comes from https://covidtracking.com/, which updates by 5pm each day, and I have my dashboard update at 6:30pm. For each geography -- so far that's the US, New York, and Non Tri-State -- I look at daily positive cases, positive rate, and deaths. Be sure to hover around on each of the plots, they have helpful interactive tooltips to make reading the data more intuitive."
   ]
  },
  {
   "cell_type": "code",
   "execution_count": 1,
   "metadata": {
    "execution": {
     "iopub.execute_input": "2020-10-16T22:34:58.173134Z",
     "iopub.status.busy": "2020-10-16T22:34:58.172567Z",
     "iopub.status.idle": "2020-10-16T22:34:58.619227Z",
     "shell.execute_reply": "2020-10-16T22:34:58.618430Z"
    },
    "papermill": {
     "duration": 0.463166,
     "end_time": "2020-10-16T22:34:58.619482",
     "exception": false,
     "start_time": "2020-10-16T22:34:58.156316",
     "status": "completed"
    },
    "tags": []
   },
   "outputs": [],
   "source": [
    "#collapse\n",
    "from typing import Callable, Literal\n",
    "import pandas as pd\n",
    "import altair as alt"
   ]
  },
  {
   "cell_type": "code",
   "execution_count": 2,
   "metadata": {
    "execution": {
     "iopub.execute_input": "2020-10-16T22:34:58.652677Z",
     "iopub.status.busy": "2020-10-16T22:34:58.652096Z",
     "iopub.status.idle": "2020-10-16T22:34:58.670863Z",
     "shell.execute_reply": "2020-10-16T22:34:58.671313Z"
    },
    "papermill": {
     "duration": 0.037162,
     "end_time": "2020-10-16T22:34:58.671460",
     "exception": false,
     "start_time": "2020-10-16T22:34:58.634298",
     "status": "completed"
    },
    "tags": []
   },
   "outputs": [
    {
     "name": "stdout",
     "output_type": "stream",
     "text": [
      "Last updated at (ET): 2020-10-16 06:34:58 PM\n"
     ]
    }
   ],
   "source": [
    "#hide_input\n",
    "current_utc = pd.Timestamp.now(tz='America/New_York').strftime('%Y-%m-%d %I:%M:%S %p')\n",
    "print(f\"Last updated at (ET): {current_utc}\")"
   ]
  },
  {
   "cell_type": "markdown",
   "metadata": {
    "papermill": {
     "duration": 0.01214,
     "end_time": "2020-10-16T22:34:58.695652",
     "exception": false,
     "start_time": "2020-10-16T22:34:58.683512",
     "status": "completed"
    },
    "tags": []
   },
   "source": [
    "# Data"
   ]
  },
  {
   "cell_type": "code",
   "execution_count": 3,
   "metadata": {
    "execution": {
     "iopub.execute_input": "2020-10-16T22:34:58.726646Z",
     "iopub.status.busy": "2020-10-16T22:34:58.726118Z",
     "iopub.status.idle": "2020-10-16T22:34:59.545495Z",
     "shell.execute_reply": "2020-10-16T22:34:59.544476Z"
    },
    "papermill": {
     "duration": 0.837746,
     "end_time": "2020-10-16T22:34:59.545623",
     "exception": false,
     "start_time": "2020-10-16T22:34:58.707877",
     "status": "completed"
    },
    "tags": []
   },
   "outputs": [],
   "source": [
    "df = pd.read_csv('https://covidtracking.com/api/states/daily.csv')"
   ]
  },
  {
   "cell_type": "markdown",
   "metadata": {
    "papermill": {
     "duration": 0.010505,
     "end_time": "2020-10-16T22:34:59.567627",
     "exception": false,
     "start_time": "2020-10-16T22:34:59.557122",
     "status": "completed"
    },
    "tags": []
   },
   "source": [
    "# Helpers"
   ]
  },
  {
   "cell_type": "code",
   "execution_count": 4,
   "metadata": {
    "execution": {
     "iopub.execute_input": "2020-10-16T22:34:59.596838Z",
     "iopub.status.busy": "2020-10-16T22:34:59.596162Z",
     "iopub.status.idle": "2020-10-16T22:34:59.597309Z",
     "shell.execute_reply": "2020-10-16T22:34:59.597653Z"
    },
    "papermill": {
     "duration": 0.019175,
     "end_time": "2020-10-16T22:34:59.597770",
     "exception": false,
     "start_time": "2020-10-16T22:34:59.578595",
     "status": "completed"
    },
    "tags": []
   },
   "outputs": [],
   "source": [
    "#collapse\n",
    "def create_df(df: pd.DataFrame, \n",
    "              filter_f: Callable, \n",
    "              state_name: str):\n",
    "    out_df = (\n",
    "     df\n",
    "     .assign(date = lambda d: pd.to_datetime(d['date'], format='%Y%m%d'))\n",
    "     .loc[filter_f, :]\n",
    "     .groupby('date')\n",
    "     .apply(lambda d: pd.Series(dict(\n",
    "         totalTestResultsIncrease = d['totalTestResultsIncrease'].sum(),\n",
    "         positiveIncrease = d['positiveIncrease'].sum(),\n",
    "         death = d['death'].sum(),\n",
    "         deathIncrease = d['deathIncrease'].sum()\n",
    "     )))\n",
    "     .reset_index()\n",
    "     .assign(positiveRate = lambda d: round(d['positiveIncrease'] / d['totalTestResultsIncrease'], 3))\n",
    "     .sort_values('date', ascending=True)\n",
    "     .assign(state = state_name)\n",
    "     .reset_index(drop=True)\n",
    "    )\n",
    "    \n",
    "    return out_df"
   ]
  },
  {
   "cell_type": "code",
   "execution_count": 5,
   "metadata": {
    "execution": {
     "iopub.execute_input": "2020-10-16T22:34:59.628481Z",
     "iopub.status.busy": "2020-10-16T22:34:59.627988Z",
     "iopub.status.idle": "2020-10-16T22:34:59.630244Z",
     "shell.execute_reply": "2020-10-16T22:34:59.629863Z"
    },
    "papermill": {
     "duration": 0.02124,
     "end_time": "2020-10-16T22:34:59.630338",
     "exception": false,
     "start_time": "2020-10-16T22:34:59.609098",
     "status": "completed"
    },
    "tags": []
   },
   "outputs": [],
   "source": [
    "#collapse\n",
    "def create_plot(df: pd.DataFrame, \n",
    "                column: Literal['totalTestResultsIncrease', \n",
    "                                'positiveIncrease', \n",
    "                                'death',\n",
    "                                'deathIncrease', \n",
    "                                'positiveRate'],\n",
    "                period: int = 7*8):\n",
    "    df = (\n",
    "     df\n",
    "     .assign(sma7d = lambda d: d[column].rolling(window=7).mean().round(3))\n",
    "     .loc[lambda d: d['date'] >= pd.to_datetime('today') - period * pd.Timedelta('1 days'), :]\n",
    "     .reset_index(drop=True)\n",
    "    )\n",
    "    the_state = df['state'][0]\n",
    "    label = alt.selection_single(\n",
    "        encodings=['x'], on='mouseover', nearest=True, empty='none')\n",
    "    \n",
    "    base = alt.Chart().mark_point(size=75).encode(\n",
    "        x='date:T',\n",
    "        y=f'{column}:Q',\n",
    "        tooltip=['date', f'{column}:Q', 'sma7d:Q']\n",
    "    )\n",
    "\n",
    "    sma = alt.Chart().mark_line(color='purple').encode(\n",
    "        x='date:T',\n",
    "        y='sma7d:Q'\n",
    "    )\n",
    "\n",
    "    layers = alt.layer(\n",
    "        base + sma,\n",
    "\n",
    "        # add a rule mark to serve as a guide line\n",
    "        alt.Chart().mark_rule(color='#aaa').encode(\n",
    "            x='date:T'\n",
    "        ).transform_filter(label),\n",
    "\n",
    "        # add circle marks for selected time points, hide unselected points\n",
    "        base.mark_circle().encode(\n",
    "            opacity=alt.condition(label, alt.value(1), alt.value(0))\n",
    "        ).add_selection(label),\n",
    "\n",
    "        # add white stroked text to provide a legible background for labels\n",
    "        base.mark_text(align='left', dx=5, dy=-5, stroke='white', strokeWidth=2).encode(\n",
    "            text=f'{column}:Q'\n",
    "        ).transform_filter(label),\n",
    "\n",
    "        # add text labels\n",
    "        base.mark_text(align='left', dx=5, dy=-5).encode(\n",
    "            text=f'{column}:Q'\n",
    "        ).transform_filter(label),\n",
    "        \n",
    "        data=df\n",
    "    ).properties(\n",
    "        title=f'{the_state}: {column}',\n",
    "        width=500,\n",
    "        height=400\n",
    "    )\n",
    "    \n",
    "    return layers.interactive()"
   ]
  },
  {
   "cell_type": "markdown",
   "metadata": {
    "papermill": {
     "duration": 0.010969,
     "end_time": "2020-10-16T22:34:59.652665",
     "exception": false,
     "start_time": "2020-10-16T22:34:59.641696",
     "status": "completed"
    },
    "tags": []
   },
   "source": [
    "# Plots"
   ]
  },
  {
   "cell_type": "markdown",
   "metadata": {
    "papermill": {
     "duration": 0.010218,
     "end_time": "2020-10-16T22:34:59.674015",
     "exception": false,
     "start_time": "2020-10-16T22:34:59.663797",
     "status": "completed"
    },
    "tags": []
   },
   "source": [
    "## US"
   ]
  },
  {
   "cell_type": "code",
   "execution_count": 6,
   "metadata": {
    "execution": {
     "iopub.execute_input": "2020-10-16T22:34:59.699518Z",
     "iopub.status.busy": "2020-10-16T22:34:59.699081Z",
     "iopub.status.idle": "2020-10-16T22:34:59.995737Z",
     "shell.execute_reply": "2020-10-16T22:34:59.995214Z"
    },
    "papermill": {
     "duration": 0.310894,
     "end_time": "2020-10-16T22:34:59.995879",
     "exception": false,
     "start_time": "2020-10-16T22:34:59.684985",
     "status": "completed"
    },
    "tags": []
   },
   "outputs": [],
   "source": [
    "us = create_df(df, lambda d: d.index > 0, 'US')"
   ]
  },
  {
   "cell_type": "code",
   "execution_count": 7,
   "metadata": {
    "execution": {
     "iopub.execute_input": "2020-10-16T22:35:00.045801Z",
     "iopub.status.busy": "2020-10-16T22:35:00.026072Z",
     "iopub.status.idle": "2020-10-16T22:35:00.134064Z",
     "shell.execute_reply": "2020-10-16T22:35:00.134505Z"
    },
    "papermill": {
     "duration": 0.125717,
     "end_time": "2020-10-16T22:35:00.134655",
     "exception": false,
     "start_time": "2020-10-16T22:35:00.008938",
     "status": "completed"
    },
    "tags": []
   },
   "outputs": [
    {
     "data": {
      "text/html": [
       "\n",
       "<div id=\"altair-viz-ef0b93f55f0a4dd79f6db78fb5ac1ab5\"></div>\n",
       "<script type=\"text/javascript\">\n",
       "  (function(spec, embedOpt){\n",
       "    let outputDiv = document.currentScript.previousElementSibling;\n",
       "    if (outputDiv.id !== \"altair-viz-ef0b93f55f0a4dd79f6db78fb5ac1ab5\") {\n",
       "      outputDiv = document.getElementById(\"altair-viz-ef0b93f55f0a4dd79f6db78fb5ac1ab5\");\n",
       "    }\n",
       "    const paths = {\n",
       "      \"vega\": \"https://cdn.jsdelivr.net/npm//vega@5?noext\",\n",
       "      \"vega-lib\": \"https://cdn.jsdelivr.net/npm//vega-lib?noext\",\n",
       "      \"vega-lite\": \"https://cdn.jsdelivr.net/npm//vega-lite@4.8.1?noext\",\n",
       "      \"vega-embed\": \"https://cdn.jsdelivr.net/npm//vega-embed@6?noext\",\n",
       "    };\n",
       "\n",
       "    function loadScript(lib) {\n",
       "      return new Promise(function(resolve, reject) {\n",
       "        var s = document.createElement('script');\n",
       "        s.src = paths[lib];\n",
       "        s.async = true;\n",
       "        s.onload = () => resolve(paths[lib]);\n",
       "        s.onerror = () => reject(`Error loading script: ${paths[lib]}`);\n",
       "        document.getElementsByTagName(\"head\")[0].appendChild(s);\n",
       "      });\n",
       "    }\n",
       "\n",
       "    function showError(err) {\n",
       "      outputDiv.innerHTML = `<div class=\"error\" style=\"color:red;\">${err}</div>`;\n",
       "      throw err;\n",
       "    }\n",
       "\n",
       "    function displayChart(vegaEmbed) {\n",
       "      vegaEmbed(outputDiv, spec, embedOpt)\n",
       "        .catch(err => showError(`Javascript Error: ${err.message}<br>This usually means there's a typo in your chart specification. See the javascript console for the full traceback.`));\n",
       "    }\n",
       "\n",
       "    if(typeof define === \"function\" && define.amd) {\n",
       "      requirejs.config({paths});\n",
       "      require([\"vega-embed\"], displayChart, err => showError(`Error loading script: ${err.message}`));\n",
       "    } else if (typeof vegaEmbed === \"function\") {\n",
       "      displayChart(vegaEmbed);\n",
       "    } else {\n",
       "      loadScript(\"vega\")\n",
       "        .then(() => loadScript(\"vega-lite\"))\n",
       "        .then(() => loadScript(\"vega-embed\"))\n",
       "        .catch(showError)\n",
       "        .then(() => displayChart(vegaEmbed));\n",
       "    }\n",
       "  })({\"config\": {\"view\": {\"continuousWidth\": 400, \"continuousHeight\": 300}}, \"layer\": [{\"layer\": [{\"mark\": {\"type\": \"point\", \"size\": 75}, \"encoding\": {\"tooltip\": [{\"type\": \"temporal\", \"field\": \"date\"}, {\"type\": \"quantitative\", \"field\": \"positiveIncrease\"}, {\"type\": \"quantitative\", \"field\": \"sma7d\"}], \"x\": {\"type\": \"temporal\", \"field\": \"date\"}, \"y\": {\"type\": \"quantitative\", \"field\": \"positiveIncrease\"}}, \"selection\": {\"selector002\": {\"type\": \"interval\", \"bind\": \"scales\", \"encodings\": [\"x\", \"y\"]}}}, {\"mark\": {\"type\": \"line\", \"color\": \"purple\"}, \"encoding\": {\"x\": {\"type\": \"temporal\", \"field\": \"date\"}, \"y\": {\"type\": \"quantitative\", \"field\": \"sma7d\"}}}]}, {\"mark\": {\"type\": \"rule\", \"color\": \"#aaa\"}, \"encoding\": {\"x\": {\"type\": \"temporal\", \"field\": \"date\"}}, \"transform\": [{\"filter\": {\"selection\": \"selector001\"}}]}, {\"mark\": \"circle\", \"encoding\": {\"opacity\": {\"condition\": {\"value\": 1, \"selection\": \"selector001\"}, \"value\": 0}, \"tooltip\": [{\"type\": \"temporal\", \"field\": \"date\"}, {\"type\": \"quantitative\", \"field\": \"positiveIncrease\"}, {\"type\": \"quantitative\", \"field\": \"sma7d\"}], \"x\": {\"type\": \"temporal\", \"field\": \"date\"}, \"y\": {\"type\": \"quantitative\", \"field\": \"positiveIncrease\"}}, \"selection\": {\"selector001\": {\"type\": \"single\", \"encodings\": [\"x\"], \"on\": \"mouseover\", \"nearest\": true, \"empty\": \"none\"}}}, {\"mark\": {\"type\": \"text\", \"align\": \"left\", \"dx\": 5, \"dy\": -5, \"stroke\": \"white\", \"strokeWidth\": 2}, \"encoding\": {\"text\": {\"type\": \"quantitative\", \"field\": \"positiveIncrease\"}, \"tooltip\": [{\"type\": \"temporal\", \"field\": \"date\"}, {\"type\": \"quantitative\", \"field\": \"positiveIncrease\"}, {\"type\": \"quantitative\", \"field\": \"sma7d\"}], \"x\": {\"type\": \"temporal\", \"field\": \"date\"}, \"y\": {\"type\": \"quantitative\", \"field\": \"positiveIncrease\"}}, \"transform\": [{\"filter\": {\"selection\": \"selector001\"}}]}, {\"mark\": {\"type\": \"text\", \"align\": \"left\", \"dx\": 5, \"dy\": -5}, \"encoding\": {\"text\": {\"type\": \"quantitative\", \"field\": \"positiveIncrease\"}, \"tooltip\": [{\"type\": \"temporal\", \"field\": \"date\"}, {\"type\": \"quantitative\", \"field\": \"positiveIncrease\"}, {\"type\": \"quantitative\", \"field\": \"sma7d\"}], \"x\": {\"type\": \"temporal\", \"field\": \"date\"}, \"y\": {\"type\": \"quantitative\", \"field\": \"positiveIncrease\"}}, \"transform\": [{\"filter\": {\"selection\": \"selector001\"}}]}], \"data\": {\"name\": \"data-0067280d8e15b04a9b8e55e8a2248cef\"}, \"height\": 400, \"title\": \"US: positiveIncrease\", \"width\": 500, \"$schema\": \"https://vega.github.io/schema/vega-lite/v4.8.1.json\", \"datasets\": {\"data-0067280d8e15b04a9b8e55e8a2248cef\": [{\"date\": \"2020-08-22T00:00:00\", \"totalTestResultsIncrease\": 807985.0, \"positiveIncrease\": 46236.0, \"death\": 168243.0, \"deathIncrease\": 1029.0, \"positiveRate\": 0.057, \"state\": \"US\", \"sma7d\": 43238.857}, {\"date\": \"2020-08-23T00:00:00\", \"totalTestResultsIncrease\": 667182.0, \"positiveIncrease\": 37566.0, \"death\": 168815.0, \"deathIncrease\": 572.0, \"positiveRate\": 0.056, \"state\": \"US\", \"sma7d\": 42535.857}, {\"date\": \"2020-08-24T00:00:00\", \"totalTestResultsIncrease\": 713502.0, \"positiveIncrease\": 34643.0, \"death\": 169158.0, \"deathIncrease\": 343.0, \"positiveRate\": 0.049, \"state\": \"US\", \"sma7d\": 42073.429}, {\"date\": \"2020-08-25T00:00:00\", \"totalTestResultsIncrease\": 674612.0, \"positiveIncrease\": 36379.0, \"death\": 170305.0, \"deathIncrease\": 1147.0, \"positiveRate\": 0.054, \"state\": \"US\", \"sma7d\": 41442.571}, {\"date\": \"2020-08-26T00:00:00\", \"totalTestResultsIncrease\": 684915.0, \"positiveIncrease\": 44053.0, \"death\": 171603.0, \"deathIncrease\": 1298.0, \"positiveRate\": 0.064, \"state\": \"US\", \"sma7d\": 41313.714}, {\"date\": \"2020-08-27T00:00:00\", \"totalTestResultsIncrease\": 804859.0, \"positiveIncrease\": 43984.0, \"death\": 172732.0, \"deathIncrease\": 1129.0, \"positiveRate\": 0.055, \"state\": \"US\", \"sma7d\": 41346.0}, {\"date\": \"2020-08-28T00:00:00\", \"totalTestResultsIncrease\": 835142.0, \"positiveIncrease\": 46548.0, \"death\": 173756.0, \"deathIncrease\": 1024.0, \"positiveRate\": 0.056, \"state\": \"US\", \"sma7d\": 41344.143}, {\"date\": \"2020-08-29T00:00:00\", \"totalTestResultsIncrease\": 832098.0, \"positiveIncrease\": 44501.0, \"death\": 174771.0, \"deathIncrease\": 1015.0, \"positiveRate\": 0.053, \"state\": \"US\", \"sma7d\": 41096.286}, {\"date\": \"2020-08-30T00:00:00\", \"totalTestResultsIncrease\": 789256.0, \"positiveIncrease\": 39501.0, \"death\": 175246.0, \"deathIncrease\": 475.0, \"positiveRate\": 0.05, \"state\": \"US\", \"sma7d\": 41372.714}, {\"date\": \"2020-08-31T00:00:00\", \"totalTestResultsIncrease\": 716737.0, \"positiveIncrease\": 31406.0, \"death\": 175612.0, \"deathIncrease\": 366.0, \"positiveRate\": 0.044, \"state\": \"US\", \"sma7d\": 40910.286}, {\"date\": \"2020-09-01T00:00:00\", \"totalTestResultsIncrease\": 741158.0, \"positiveIncrease\": 42433.0, \"death\": 176639.0, \"deathIncrease\": 1027.0, \"positiveRate\": 0.057, \"state\": \"US\", \"sma7d\": 41775.143}, {\"date\": \"2020-09-02T00:00:00\", \"totalTestResultsIncrease\": 690108.0, \"positiveIncrease\": 30603.0, \"death\": 177671.0, \"deathIncrease\": 1032.0, \"positiveRate\": 0.044, \"state\": \"US\", \"sma7d\": 39853.714}, {\"date\": \"2020-09-03T00:00:00\", \"totalTestResultsIncrease\": 815499.0, \"positiveIncrease\": 44714.0, \"death\": 178741.0, \"deathIncrease\": 1070.0, \"positiveRate\": 0.055, \"state\": \"US\", \"sma7d\": 39958.0}, {\"date\": \"2020-09-04T00:00:00\", \"totalTestResultsIncrease\": 970239.0, \"positiveIncrease\": 51591.0, \"death\": 179739.0, \"deathIncrease\": 998.0, \"positiveRate\": 0.053, \"state\": \"US\", \"sma7d\": 40678.429}, {\"date\": \"2020-09-05T00:00:00\", \"totalTestResultsIncrease\": 898299.0, \"positiveIncrease\": 44905.0, \"death\": 180657.0, \"deathIncrease\": 918.0, \"positiveRate\": 0.05, \"state\": \"US\", \"sma7d\": 40736.143}, {\"date\": \"2020-09-06T00:00:00\", \"totalTestResultsIncrease\": 793108.0, \"positiveIncrease\": 33117.0, \"death\": 181106.0, \"deathIncrease\": 449.0, \"positiveRate\": 0.042, \"state\": \"US\", \"sma7d\": 39824.143}, {\"date\": \"2020-09-07T00:00:00\", \"totalTestResultsIncrease\": 629084.0, \"positiveIncrease\": 28682.0, \"death\": 181331.0, \"deathIncrease\": 225.0, \"positiveRate\": 0.046, \"state\": \"US\", \"sma7d\": 39435.0}, {\"date\": \"2020-09-08T00:00:00\", \"totalTestResultsIncrease\": 550429.0, \"positiveIncrease\": 22223.0, \"death\": 181689.0, \"deathIncrease\": 358.0, \"positiveRate\": 0.04, \"state\": \"US\", \"sma7d\": 36547.857}, {\"date\": \"2020-09-09T00:00:00\", \"totalTestResultsIncrease\": 634636.0, \"positiveIncrease\": 31114.0, \"death\": 182773.0, \"deathIncrease\": 1084.0, \"positiveRate\": 0.049, \"state\": \"US\", \"sma7d\": 36620.857}, {\"date\": \"2020-09-10T00:00:00\", \"totalTestResultsIncrease\": 708354.0, \"positiveIncrease\": 37581.0, \"death\": 183943.0, \"deathIncrease\": 1170.0, \"positiveRate\": 0.053, \"state\": \"US\", \"sma7d\": 35601.857}, {\"date\": \"2020-09-11T00:00:00\", \"totalTestResultsIncrease\": 848153.0, \"positiveIncrease\": 44927.0, \"death\": 184961.0, \"deathIncrease\": 1018.0, \"positiveRate\": 0.053, \"state\": \"US\", \"sma7d\": 34649.857}, {\"date\": \"2020-09-12T00:00:00\", \"totalTestResultsIncrease\": 929573.0, \"positiveIncrease\": 42090.0, \"death\": 185771.0, \"deathIncrease\": 810.0, \"positiveRate\": 0.045, \"state\": \"US\", \"sma7d\": 34247.714}, {\"date\": \"2020-09-13T00:00:00\", \"totalTestResultsIncrease\": 745745.0, \"positiveIncrease\": 34453.0, \"death\": 186161.0, \"deathIncrease\": 390.0, \"positiveRate\": 0.046, \"state\": \"US\", \"sma7d\": 34438.571}, {\"date\": \"2020-09-14T00:00:00\", \"totalTestResultsIncrease\": 461512.0, \"positiveIncrease\": 33864.0, \"death\": 186565.0, \"deathIncrease\": 404.0, \"positiveRate\": 0.073, \"state\": \"US\", \"sma7d\": 35178.857}, {\"date\": \"2020-09-15T00:00:00\", \"totalTestResultsIncrease\": 741501.0, \"positiveIncrease\": 35445.0, \"death\": 187596.0, \"deathIncrease\": 1031.0, \"positiveRate\": 0.048, \"state\": \"US\", \"sma7d\": 37067.714}, {\"date\": \"2020-09-16T00:00:00\", \"totalTestResultsIncrease\": 748273.0, \"positiveIncrease\": 40021.0, \"death\": 188796.0, \"deathIncrease\": 1200.0, \"positiveRate\": 0.053, \"state\": \"US\", \"sma7d\": 38340.143}, {\"date\": \"2020-09-17T00:00:00\", \"totalTestResultsIncrease\": 866461.0, \"positiveIncrease\": 43558.0, \"death\": 189659.0, \"deathIncrease\": 863.0, \"positiveRate\": 0.05, \"state\": \"US\", \"sma7d\": 39194.0}, {\"date\": \"2020-09-18T00:00:00\", \"totalTestResultsIncrease\": 1004488.0, \"positiveIncrease\": 47486.0, \"death\": 190560.0, \"deathIncrease\": 901.0, \"positiveRate\": 0.047, \"state\": \"US\", \"sma7d\": 39559.571}, {\"date\": \"2020-09-19T00:00:00\", \"totalTestResultsIncrease\": 1089960.0, \"positiveIncrease\": 45564.0, \"death\": 191300.0, \"deathIncrease\": 740.0, \"positiveRate\": 0.042, \"state\": \"US\", \"sma7d\": 40055.857}, {\"date\": \"2020-09-20T00:00:00\", \"totalTestResultsIncrease\": 935778.0, \"positiveIncrease\": 36295.0, \"death\": 191627.0, \"deathIncrease\": 327.0, \"positiveRate\": 0.039, \"state\": \"US\", \"sma7d\": 40319.0}, {\"date\": \"2020-09-21T00:00:00\", \"totalTestResultsIncrease\": 738532.0, \"positiveIncrease\": 39472.0, \"death\": 191914.0, \"deathIncrease\": 287.0, \"positiveRate\": 0.053, \"state\": \"US\", \"sma7d\": 41120.143}, {\"date\": \"2020-09-22T00:00:00\", \"totalTestResultsIncrease\": 791878.0, \"positiveIncrease\": 49439.0, \"death\": 192768.0, \"deathIncrease\": 854.0, \"positiveRate\": 0.062, \"state\": \"US\", \"sma7d\": 43119.286}, {\"date\": \"2020-09-23T00:00:00\", \"totalTestResultsIncrease\": 939087.0, \"positiveIncrease\": 38567.0, \"death\": 193927.0, \"deathIncrease\": 1159.0, \"positiveRate\": 0.041, \"state\": \"US\", \"sma7d\": 42911.571}, {\"date\": \"2020-09-24T00:00:00\", \"totalTestResultsIncrease\": 957494.0, \"positiveIncrease\": 43772.0, \"death\": 194848.0, \"deathIncrease\": 921.0, \"positiveRate\": 0.046, \"state\": \"US\", \"sma7d\": 42942.143}, {\"date\": \"2020-09-25T00:00:00\", \"totalTestResultsIncrease\": 1037579.0, \"positiveIncrease\": 55526.0, \"death\": 195692.0, \"deathIncrease\": 844.0, \"positiveRate\": 0.054, \"state\": \"US\", \"sma7d\": 44090.714}, {\"date\": \"2020-09-26T00:00:00\", \"totalTestResultsIncrease\": 1042834.0, \"positiveIncrease\": 47856.0, \"death\": 196561.0, \"deathIncrease\": 869.0, \"positiveRate\": 0.046, \"state\": \"US\", \"sma7d\": 44418.143}, {\"date\": \"2020-09-27T00:00:00\", \"totalTestResultsIncrease\": 850670.0, \"positiveIncrease\": 35454.0, \"death\": 196868.0, \"deathIncrease\": 307.0, \"positiveRate\": 0.042, \"state\": \"US\", \"sma7d\": 44298.0}, {\"date\": \"2020-09-28T00:00:00\", \"totalTestResultsIncrease\": 1130645.0, \"positiveIncrease\": 36524.0, \"death\": 197125.0, \"deathIncrease\": 257.0, \"positiveRate\": 0.032, \"state\": \"US\", \"sma7d\": 43876.857}, {\"date\": \"2020-09-29T00:00:00\", \"totalTestResultsIncrease\": 833208.0, \"positiveIncrease\": 36947.0, \"death\": 197864.0, \"deathIncrease\": 739.0, \"positiveRate\": 0.044, \"state\": \"US\", \"sma7d\": 42092.286}, {\"date\": \"2020-09-30T00:00:00\", \"totalTestResultsIncrease\": 823663.0, \"positiveIncrease\": 44424.0, \"death\": 198925.0, \"deathIncrease\": 1061.0, \"positiveRate\": 0.054, \"state\": \"US\", \"sma7d\": 42929.0}, {\"date\": \"2020-10-01T00:00:00\", \"totalTestResultsIncrease\": 913455.0, \"positiveIncrease\": 45694.0, \"death\": 199776.0, \"deathIncrease\": 851.0, \"positiveRate\": 0.05, \"state\": \"US\", \"sma7d\": 43203.571}, {\"date\": \"2020-10-02T00:00:00\", \"totalTestResultsIncrease\": 1148036.0, \"positiveIncrease\": 49534.0, \"death\": 200611.0, \"deathIncrease\": 835.0, \"positiveRate\": 0.043, \"state\": \"US\", \"sma7d\": 42347.571}, {\"date\": \"2020-10-03T00:00:00\", \"totalTestResultsIncrease\": 1018021.0, \"positiveIncrease\": 51372.0, \"death\": 201352.0, \"deathIncrease\": 741.0, \"positiveRate\": 0.05, \"state\": \"US\", \"sma7d\": 42849.857}, {\"date\": \"2020-10-04T00:00:00\", \"totalTestResultsIncrease\": 975024.0, \"positiveIncrease\": 38439.0, \"death\": 201715.0, \"deathIncrease\": 363.0, \"positiveRate\": 0.039, \"state\": \"US\", \"sma7d\": 43276.286}, {\"date\": \"2020-10-05T00:00:00\", \"totalTestResultsIncrease\": 948179.0, \"positiveIncrease\": 38133.0, \"death\": 202041.0, \"deathIncrease\": 326.0, \"positiveRate\": 0.04, \"state\": \"US\", \"sma7d\": 43506.143}, {\"date\": \"2020-10-06T00:00:00\", \"totalTestResultsIncrease\": 835089.0, \"positiveIncrease\": 38661.0, \"death\": 202675.0, \"deathIncrease\": 634.0, \"positiveRate\": 0.046, \"state\": \"US\", \"sma7d\": 43751.0}, {\"date\": \"2020-10-07T00:00:00\", \"totalTestResultsIncrease\": 874821.0, \"positiveIncrease\": 50602.0, \"death\": 203591.0, \"deathIncrease\": 916.0, \"positiveRate\": 0.058, \"state\": \"US\", \"sma7d\": 44633.571}, {\"date\": \"2020-10-08T00:00:00\", \"totalTestResultsIncrease\": 1056687.0, \"positiveIncrease\": 55352.0, \"death\": 204577.0, \"deathIncrease\": 986.0, \"positiveRate\": 0.052, \"state\": \"US\", \"sma7d\": 46013.286}, {\"date\": \"2020-10-09T00:00:00\", \"totalTestResultsIncrease\": 1108459.0, \"positiveIncrease\": 57060.0, \"death\": 205470.0, \"deathIncrease\": 893.0, \"positiveRate\": 0.051, \"state\": \"US\", \"sma7d\": 47088.429}, {\"date\": \"2020-10-10T00:00:00\", \"totalTestResultsIncrease\": 1172515.0, \"positiveIncrease\": 57492.0, \"death\": 206135.0, \"deathIncrease\": 665.0, \"positiveRate\": 0.049, \"state\": \"US\", \"sma7d\": 47962.714}, {\"date\": \"2020-10-11T00:00:00\", \"totalTestResultsIncrease\": 974485.0, \"positiveIncrease\": 46946.0, \"death\": 206601.0, \"deathIncrease\": 466.0, \"positiveRate\": 0.048, \"state\": \"US\", \"sma7d\": 49178.0}, {\"date\": \"2020-10-12T00:00:00\", \"totalTestResultsIncrease\": 1020286.0, \"positiveIncrease\": 43124.0, \"death\": 206888.0, \"deathIncrease\": 287.0, \"positiveRate\": 0.042, \"state\": \"US\", \"sma7d\": 49891.0}, {\"date\": \"2020-10-13T00:00:00\", \"totalTestResultsIncrease\": 966720.0, \"positiveIncrease\": 48387.0, \"death\": 207578.0, \"deathIncrease\": 690.0, \"positiveRate\": 0.05, \"state\": \"US\", \"sma7d\": 51280.429}, {\"date\": \"2020-10-14T00:00:00\", \"totalTestResultsIncrease\": 966753.0, \"positiveIncrease\": 56797.0, \"death\": 208389.0, \"deathIncrease\": 811.0, \"positiveRate\": 0.059, \"state\": \"US\", \"sma7d\": 52165.429}, {\"date\": \"2020-10-15T00:00:00\", \"totalTestResultsIncrease\": 1024498.0, \"positiveIncrease\": 63172.0, \"death\": 209340.0, \"deathIncrease\": 951.0, \"positiveRate\": 0.062, \"state\": \"US\", \"sma7d\": 53282.571}, {\"date\": \"2020-10-16T00:00:00\", \"totalTestResultsIncrease\": 1148888.0, \"positiveIncrease\": 67896.0, \"death\": 210151.0, \"deathIncrease\": 876.0, \"positiveRate\": 0.059, \"state\": \"US\", \"sma7d\": 54830.571}]}}, {\"mode\": \"vega-lite\"});\n",
       "</script>"
      ],
      "text/plain": [
       "alt.LayerChart(...)"
      ]
     },
     "execution_count": 7,
     "metadata": {},
     "output_type": "execute_result"
    }
   ],
   "source": [
    "create_plot(us, 'positiveIncrease')"
   ]
  },
  {
   "cell_type": "code",
   "execution_count": 8,
   "metadata": {
    "execution": {
     "iopub.execute_input": "2020-10-16T22:35:00.178196Z",
     "iopub.status.busy": "2020-10-16T22:35:00.167735Z",
     "iopub.status.idle": "2020-10-16T22:35:00.257557Z",
     "shell.execute_reply": "2020-10-16T22:35:00.257107Z"
    },
    "papermill": {
     "duration": 0.109613,
     "end_time": "2020-10-16T22:35:00.257681",
     "exception": false,
     "start_time": "2020-10-16T22:35:00.148068",
     "status": "completed"
    },
    "tags": []
   },
   "outputs": [
    {
     "data": {
      "text/html": [
       "\n",
       "<div id=\"altair-viz-bf9636ef2a3749e8be29f6de1bcd9d5a\"></div>\n",
       "<script type=\"text/javascript\">\n",
       "  (function(spec, embedOpt){\n",
       "    let outputDiv = document.currentScript.previousElementSibling;\n",
       "    if (outputDiv.id !== \"altair-viz-bf9636ef2a3749e8be29f6de1bcd9d5a\") {\n",
       "      outputDiv = document.getElementById(\"altair-viz-bf9636ef2a3749e8be29f6de1bcd9d5a\");\n",
       "    }\n",
       "    const paths = {\n",
       "      \"vega\": \"https://cdn.jsdelivr.net/npm//vega@5?noext\",\n",
       "      \"vega-lib\": \"https://cdn.jsdelivr.net/npm//vega-lib?noext\",\n",
       "      \"vega-lite\": \"https://cdn.jsdelivr.net/npm//vega-lite@4.8.1?noext\",\n",
       "      \"vega-embed\": \"https://cdn.jsdelivr.net/npm//vega-embed@6?noext\",\n",
       "    };\n",
       "\n",
       "    function loadScript(lib) {\n",
       "      return new Promise(function(resolve, reject) {\n",
       "        var s = document.createElement('script');\n",
       "        s.src = paths[lib];\n",
       "        s.async = true;\n",
       "        s.onload = () => resolve(paths[lib]);\n",
       "        s.onerror = () => reject(`Error loading script: ${paths[lib]}`);\n",
       "        document.getElementsByTagName(\"head\")[0].appendChild(s);\n",
       "      });\n",
       "    }\n",
       "\n",
       "    function showError(err) {\n",
       "      outputDiv.innerHTML = `<div class=\"error\" style=\"color:red;\">${err}</div>`;\n",
       "      throw err;\n",
       "    }\n",
       "\n",
       "    function displayChart(vegaEmbed) {\n",
       "      vegaEmbed(outputDiv, spec, embedOpt)\n",
       "        .catch(err => showError(`Javascript Error: ${err.message}<br>This usually means there's a typo in your chart specification. See the javascript console for the full traceback.`));\n",
       "    }\n",
       "\n",
       "    if(typeof define === \"function\" && define.amd) {\n",
       "      requirejs.config({paths});\n",
       "      require([\"vega-embed\"], displayChart, err => showError(`Error loading script: ${err.message}`));\n",
       "    } else if (typeof vegaEmbed === \"function\") {\n",
       "      displayChart(vegaEmbed);\n",
       "    } else {\n",
       "      loadScript(\"vega\")\n",
       "        .then(() => loadScript(\"vega-lite\"))\n",
       "        .then(() => loadScript(\"vega-embed\"))\n",
       "        .catch(showError)\n",
       "        .then(() => displayChart(vegaEmbed));\n",
       "    }\n",
       "  })({\"config\": {\"view\": {\"continuousWidth\": 400, \"continuousHeight\": 300}}, \"layer\": [{\"layer\": [{\"mark\": {\"type\": \"point\", \"size\": 75}, \"encoding\": {\"tooltip\": [{\"type\": \"temporal\", \"field\": \"date\"}, {\"type\": \"quantitative\", \"field\": \"positiveRate\"}, {\"type\": \"quantitative\", \"field\": \"sma7d\"}], \"x\": {\"type\": \"temporal\", \"field\": \"date\"}, \"y\": {\"type\": \"quantitative\", \"field\": \"positiveRate\"}}, \"selection\": {\"selector004\": {\"type\": \"interval\", \"bind\": \"scales\", \"encodings\": [\"x\", \"y\"]}}}, {\"mark\": {\"type\": \"line\", \"color\": \"purple\"}, \"encoding\": {\"x\": {\"type\": \"temporal\", \"field\": \"date\"}, \"y\": {\"type\": \"quantitative\", \"field\": \"sma7d\"}}}]}, {\"mark\": {\"type\": \"rule\", \"color\": \"#aaa\"}, \"encoding\": {\"x\": {\"type\": \"temporal\", \"field\": \"date\"}}, \"transform\": [{\"filter\": {\"selection\": \"selector003\"}}]}, {\"mark\": \"circle\", \"encoding\": {\"opacity\": {\"condition\": {\"value\": 1, \"selection\": \"selector003\"}, \"value\": 0}, \"tooltip\": [{\"type\": \"temporal\", \"field\": \"date\"}, {\"type\": \"quantitative\", \"field\": \"positiveRate\"}, {\"type\": \"quantitative\", \"field\": \"sma7d\"}], \"x\": {\"type\": \"temporal\", \"field\": \"date\"}, \"y\": {\"type\": \"quantitative\", \"field\": \"positiveRate\"}}, \"selection\": {\"selector003\": {\"type\": \"single\", \"encodings\": [\"x\"], \"on\": \"mouseover\", \"nearest\": true, \"empty\": \"none\"}}}, {\"mark\": {\"type\": \"text\", \"align\": \"left\", \"dx\": 5, \"dy\": -5, \"stroke\": \"white\", \"strokeWidth\": 2}, \"encoding\": {\"text\": {\"type\": \"quantitative\", \"field\": \"positiveRate\"}, \"tooltip\": [{\"type\": \"temporal\", \"field\": \"date\"}, {\"type\": \"quantitative\", \"field\": \"positiveRate\"}, {\"type\": \"quantitative\", \"field\": \"sma7d\"}], \"x\": {\"type\": \"temporal\", \"field\": \"date\"}, \"y\": {\"type\": \"quantitative\", \"field\": \"positiveRate\"}}, \"transform\": [{\"filter\": {\"selection\": \"selector003\"}}]}, {\"mark\": {\"type\": \"text\", \"align\": \"left\", \"dx\": 5, \"dy\": -5}, \"encoding\": {\"text\": {\"type\": \"quantitative\", \"field\": \"positiveRate\"}, \"tooltip\": [{\"type\": \"temporal\", \"field\": \"date\"}, {\"type\": \"quantitative\", \"field\": \"positiveRate\"}, {\"type\": \"quantitative\", \"field\": \"sma7d\"}], \"x\": {\"type\": \"temporal\", \"field\": \"date\"}, \"y\": {\"type\": \"quantitative\", \"field\": \"positiveRate\"}}, \"transform\": [{\"filter\": {\"selection\": \"selector003\"}}]}], \"data\": {\"name\": \"data-ebfa5b1d7fcde0712c4ebccce3898e4e\"}, \"height\": 400, \"title\": \"US: positiveRate\", \"width\": 500, \"$schema\": \"https://vega.github.io/schema/vega-lite/v4.8.1.json\", \"datasets\": {\"data-ebfa5b1d7fcde0712c4ebccce3898e4e\": [{\"date\": \"2020-08-22T00:00:00\", \"totalTestResultsIncrease\": 807985.0, \"positiveIncrease\": 46236.0, \"death\": 168243.0, \"deathIncrease\": 1029.0, \"positiveRate\": 0.057, \"state\": \"US\", \"sma7d\": 0.057}, {\"date\": \"2020-08-23T00:00:00\", \"totalTestResultsIncrease\": 667182.0, \"positiveIncrease\": 37566.0, \"death\": 168815.0, \"deathIncrease\": 572.0, \"positiveRate\": 0.056, \"state\": \"US\", \"sma7d\": 0.058}, {\"date\": \"2020-08-24T00:00:00\", \"totalTestResultsIncrease\": 713502.0, \"positiveIncrease\": 34643.0, \"death\": 169158.0, \"deathIncrease\": 343.0, \"positiveRate\": 0.049, \"state\": \"US\", \"sma7d\": 0.057}, {\"date\": \"2020-08-25T00:00:00\", \"totalTestResultsIncrease\": 674612.0, \"positiveIncrease\": 36379.0, \"death\": 170305.0, \"deathIncrease\": 1147.0, \"positiveRate\": 0.054, \"state\": \"US\", \"sma7d\": 0.057}, {\"date\": \"2020-08-26T00:00:00\", \"totalTestResultsIncrease\": 684915.0, \"positiveIncrease\": 44053.0, \"death\": 171603.0, \"deathIncrease\": 1298.0, \"positiveRate\": 0.064, \"state\": \"US\", \"sma7d\": 0.057}, {\"date\": \"2020-08-27T00:00:00\", \"totalTestResultsIncrease\": 804859.0, \"positiveIncrease\": 43984.0, \"death\": 172732.0, \"deathIncrease\": 1129.0, \"positiveRate\": 0.055, \"state\": \"US\", \"sma7d\": 0.056}, {\"date\": \"2020-08-28T00:00:00\", \"totalTestResultsIncrease\": 835142.0, \"positiveIncrease\": 46548.0, \"death\": 173756.0, \"deathIncrease\": 1024.0, \"positiveRate\": 0.056, \"state\": \"US\", \"sma7d\": 0.056}, {\"date\": \"2020-08-29T00:00:00\", \"totalTestResultsIncrease\": 832098.0, \"positiveIncrease\": 44501.0, \"death\": 174771.0, \"deathIncrease\": 1015.0, \"positiveRate\": 0.053, \"state\": \"US\", \"sma7d\": 0.055}, {\"date\": \"2020-08-30T00:00:00\", \"totalTestResultsIncrease\": 789256.0, \"positiveIncrease\": 39501.0, \"death\": 175246.0, \"deathIncrease\": 475.0, \"positiveRate\": 0.05, \"state\": \"US\", \"sma7d\": 0.054}, {\"date\": \"2020-08-31T00:00:00\", \"totalTestResultsIncrease\": 716737.0, \"positiveIncrease\": 31406.0, \"death\": 175612.0, \"deathIncrease\": 366.0, \"positiveRate\": 0.044, \"state\": \"US\", \"sma7d\": 0.054}, {\"date\": \"2020-09-01T00:00:00\", \"totalTestResultsIncrease\": 741158.0, \"positiveIncrease\": 42433.0, \"death\": 176639.0, \"deathIncrease\": 1027.0, \"positiveRate\": 0.057, \"state\": \"US\", \"sma7d\": 0.054}, {\"date\": \"2020-09-02T00:00:00\", \"totalTestResultsIncrease\": 690108.0, \"positiveIncrease\": 30603.0, \"death\": 177671.0, \"deathIncrease\": 1032.0, \"positiveRate\": 0.044, \"state\": \"US\", \"sma7d\": 0.051}, {\"date\": \"2020-09-03T00:00:00\", \"totalTestResultsIncrease\": 815499.0, \"positiveIncrease\": 44714.0, \"death\": 178741.0, \"deathIncrease\": 1070.0, \"positiveRate\": 0.055, \"state\": \"US\", \"sma7d\": 0.051}, {\"date\": \"2020-09-04T00:00:00\", \"totalTestResultsIncrease\": 970239.0, \"positiveIncrease\": 51591.0, \"death\": 179739.0, \"deathIncrease\": 998.0, \"positiveRate\": 0.053, \"state\": \"US\", \"sma7d\": 0.051}, {\"date\": \"2020-09-05T00:00:00\", \"totalTestResultsIncrease\": 898299.0, \"positiveIncrease\": 44905.0, \"death\": 180657.0, \"deathIncrease\": 918.0, \"positiveRate\": 0.05, \"state\": \"US\", \"sma7d\": 0.05}, {\"date\": \"2020-09-06T00:00:00\", \"totalTestResultsIncrease\": 793108.0, \"positiveIncrease\": 33117.0, \"death\": 181106.0, \"deathIncrease\": 449.0, \"positiveRate\": 0.042, \"state\": \"US\", \"sma7d\": 0.049}, {\"date\": \"2020-09-07T00:00:00\", \"totalTestResultsIncrease\": 629084.0, \"positiveIncrease\": 28682.0, \"death\": 181331.0, \"deathIncrease\": 225.0, \"positiveRate\": 0.046, \"state\": \"US\", \"sma7d\": 0.05}, {\"date\": \"2020-09-08T00:00:00\", \"totalTestResultsIncrease\": 550429.0, \"positiveIncrease\": 22223.0, \"death\": 181689.0, \"deathIncrease\": 358.0, \"positiveRate\": 0.04, \"state\": \"US\", \"sma7d\": 0.047}, {\"date\": \"2020-09-09T00:00:00\", \"totalTestResultsIncrease\": 634636.0, \"positiveIncrease\": 31114.0, \"death\": 182773.0, \"deathIncrease\": 1084.0, \"positiveRate\": 0.049, \"state\": \"US\", \"sma7d\": 0.048}, {\"date\": \"2020-09-10T00:00:00\", \"totalTestResultsIncrease\": 708354.0, \"positiveIncrease\": 37581.0, \"death\": 183943.0, \"deathIncrease\": 1170.0, \"positiveRate\": 0.053, \"state\": \"US\", \"sma7d\": 0.048}, {\"date\": \"2020-09-11T00:00:00\", \"totalTestResultsIncrease\": 848153.0, \"positiveIncrease\": 44927.0, \"death\": 184961.0, \"deathIncrease\": 1018.0, \"positiveRate\": 0.053, \"state\": \"US\", \"sma7d\": 0.048}, {\"date\": \"2020-09-12T00:00:00\", \"totalTestResultsIncrease\": 929573.0, \"positiveIncrease\": 42090.0, \"death\": 185771.0, \"deathIncrease\": 810.0, \"positiveRate\": 0.045, \"state\": \"US\", \"sma7d\": 0.047}, {\"date\": \"2020-09-13T00:00:00\", \"totalTestResultsIncrease\": 745745.0, \"positiveIncrease\": 34453.0, \"death\": 186161.0, \"deathIncrease\": 390.0, \"positiveRate\": 0.046, \"state\": \"US\", \"sma7d\": 0.047}, {\"date\": \"2020-09-14T00:00:00\", \"totalTestResultsIncrease\": 461512.0, \"positiveIncrease\": 33864.0, \"death\": 186565.0, \"deathIncrease\": 404.0, \"positiveRate\": 0.073, \"state\": \"US\", \"sma7d\": 0.051}, {\"date\": \"2020-09-15T00:00:00\", \"totalTestResultsIncrease\": 741501.0, \"positiveIncrease\": 35445.0, \"death\": 187596.0, \"deathIncrease\": 1031.0, \"positiveRate\": 0.048, \"state\": \"US\", \"sma7d\": 0.052}, {\"date\": \"2020-09-16T00:00:00\", \"totalTestResultsIncrease\": 748273.0, \"positiveIncrease\": 40021.0, \"death\": 188796.0, \"deathIncrease\": 1200.0, \"positiveRate\": 0.053, \"state\": \"US\", \"sma7d\": 0.053}, {\"date\": \"2020-09-17T00:00:00\", \"totalTestResultsIncrease\": 866461.0, \"positiveIncrease\": 43558.0, \"death\": 189659.0, \"deathIncrease\": 863.0, \"positiveRate\": 0.05, \"state\": \"US\", \"sma7d\": 0.053}, {\"date\": \"2020-09-18T00:00:00\", \"totalTestResultsIncrease\": 1004488.0, \"positiveIncrease\": 47486.0, \"death\": 190560.0, \"deathIncrease\": 901.0, \"positiveRate\": 0.047, \"state\": \"US\", \"sma7d\": 0.052}, {\"date\": \"2020-09-19T00:00:00\", \"totalTestResultsIncrease\": 1089960.0, \"positiveIncrease\": 45564.0, \"death\": 191300.0, \"deathIncrease\": 740.0, \"positiveRate\": 0.042, \"state\": \"US\", \"sma7d\": 0.051}, {\"date\": \"2020-09-20T00:00:00\", \"totalTestResultsIncrease\": 935778.0, \"positiveIncrease\": 36295.0, \"death\": 191627.0, \"deathIncrease\": 327.0, \"positiveRate\": 0.039, \"state\": \"US\", \"sma7d\": 0.05}, {\"date\": \"2020-09-21T00:00:00\", \"totalTestResultsIncrease\": 738532.0, \"positiveIncrease\": 39472.0, \"death\": 191914.0, \"deathIncrease\": 287.0, \"positiveRate\": 0.053, \"state\": \"US\", \"sma7d\": 0.047}, {\"date\": \"2020-09-22T00:00:00\", \"totalTestResultsIncrease\": 791878.0, \"positiveIncrease\": 49439.0, \"death\": 192768.0, \"deathIncrease\": 854.0, \"positiveRate\": 0.062, \"state\": \"US\", \"sma7d\": 0.049}, {\"date\": \"2020-09-23T00:00:00\", \"totalTestResultsIncrease\": 939087.0, \"positiveIncrease\": 38567.0, \"death\": 193927.0, \"deathIncrease\": 1159.0, \"positiveRate\": 0.041, \"state\": \"US\", \"sma7d\": 0.048}, {\"date\": \"2020-09-24T00:00:00\", \"totalTestResultsIncrease\": 957494.0, \"positiveIncrease\": 43772.0, \"death\": 194848.0, \"deathIncrease\": 921.0, \"positiveRate\": 0.046, \"state\": \"US\", \"sma7d\": 0.047}, {\"date\": \"2020-09-25T00:00:00\", \"totalTestResultsIncrease\": 1037579.0, \"positiveIncrease\": 55526.0, \"death\": 195692.0, \"deathIncrease\": 844.0, \"positiveRate\": 0.054, \"state\": \"US\", \"sma7d\": 0.048}, {\"date\": \"2020-09-26T00:00:00\", \"totalTestResultsIncrease\": 1042834.0, \"positiveIncrease\": 47856.0, \"death\": 196561.0, \"deathIncrease\": 869.0, \"positiveRate\": 0.046, \"state\": \"US\", \"sma7d\": 0.049}, {\"date\": \"2020-09-27T00:00:00\", \"totalTestResultsIncrease\": 850670.0, \"positiveIncrease\": 35454.0, \"death\": 196868.0, \"deathIncrease\": 307.0, \"positiveRate\": 0.042, \"state\": \"US\", \"sma7d\": 0.049}, {\"date\": \"2020-09-28T00:00:00\", \"totalTestResultsIncrease\": 1130645.0, \"positiveIncrease\": 36524.0, \"death\": 197125.0, \"deathIncrease\": 257.0, \"positiveRate\": 0.032, \"state\": \"US\", \"sma7d\": 0.046}, {\"date\": \"2020-09-29T00:00:00\", \"totalTestResultsIncrease\": 833208.0, \"positiveIncrease\": 36947.0, \"death\": 197864.0, \"deathIncrease\": 739.0, \"positiveRate\": 0.044, \"state\": \"US\", \"sma7d\": 0.044}, {\"date\": \"2020-09-30T00:00:00\", \"totalTestResultsIncrease\": 823663.0, \"positiveIncrease\": 44424.0, \"death\": 198925.0, \"deathIncrease\": 1061.0, \"positiveRate\": 0.054, \"state\": \"US\", \"sma7d\": 0.045}, {\"date\": \"2020-10-01T00:00:00\", \"totalTestResultsIncrease\": 913455.0, \"positiveIncrease\": 45694.0, \"death\": 199776.0, \"deathIncrease\": 851.0, \"positiveRate\": 0.05, \"state\": \"US\", \"sma7d\": 0.046}, {\"date\": \"2020-10-02T00:00:00\", \"totalTestResultsIncrease\": 1148036.0, \"positiveIncrease\": 49534.0, \"death\": 200611.0, \"deathIncrease\": 835.0, \"positiveRate\": 0.043, \"state\": \"US\", \"sma7d\": 0.044}, {\"date\": \"2020-10-03T00:00:00\", \"totalTestResultsIncrease\": 1018021.0, \"positiveIncrease\": 51372.0, \"death\": 201352.0, \"deathIncrease\": 741.0, \"positiveRate\": 0.05, \"state\": \"US\", \"sma7d\": 0.045}, {\"date\": \"2020-10-04T00:00:00\", \"totalTestResultsIncrease\": 975024.0, \"positiveIncrease\": 38439.0, \"death\": 201715.0, \"deathIncrease\": 363.0, \"positiveRate\": 0.039, \"state\": \"US\", \"sma7d\": 0.045}, {\"date\": \"2020-10-05T00:00:00\", \"totalTestResultsIncrease\": 948179.0, \"positiveIncrease\": 38133.0, \"death\": 202041.0, \"deathIncrease\": 326.0, \"positiveRate\": 0.04, \"state\": \"US\", \"sma7d\": 0.046}, {\"date\": \"2020-10-06T00:00:00\", \"totalTestResultsIncrease\": 835089.0, \"positiveIncrease\": 38661.0, \"death\": 202675.0, \"deathIncrease\": 634.0, \"positiveRate\": 0.046, \"state\": \"US\", \"sma7d\": 0.046}, {\"date\": \"2020-10-07T00:00:00\", \"totalTestResultsIncrease\": 874821.0, \"positiveIncrease\": 50602.0, \"death\": 203591.0, \"deathIncrease\": 916.0, \"positiveRate\": 0.058, \"state\": \"US\", \"sma7d\": 0.047}, {\"date\": \"2020-10-08T00:00:00\", \"totalTestResultsIncrease\": 1056687.0, \"positiveIncrease\": 55352.0, \"death\": 204577.0, \"deathIncrease\": 986.0, \"positiveRate\": 0.052, \"state\": \"US\", \"sma7d\": 0.047}, {\"date\": \"2020-10-09T00:00:00\", \"totalTestResultsIncrease\": 1108459.0, \"positiveIncrease\": 57060.0, \"death\": 205470.0, \"deathIncrease\": 893.0, \"positiveRate\": 0.051, \"state\": \"US\", \"sma7d\": 0.048}, {\"date\": \"2020-10-10T00:00:00\", \"totalTestResultsIncrease\": 1172515.0, \"positiveIncrease\": 57492.0, \"death\": 206135.0, \"deathIncrease\": 665.0, \"positiveRate\": 0.049, \"state\": \"US\", \"sma7d\": 0.048}, {\"date\": \"2020-10-11T00:00:00\", \"totalTestResultsIncrease\": 974485.0, \"positiveIncrease\": 46946.0, \"death\": 206601.0, \"deathIncrease\": 466.0, \"positiveRate\": 0.048, \"state\": \"US\", \"sma7d\": 0.049}, {\"date\": \"2020-10-12T00:00:00\", \"totalTestResultsIncrease\": 1020286.0, \"positiveIncrease\": 43124.0, \"death\": 206888.0, \"deathIncrease\": 287.0, \"positiveRate\": 0.042, \"state\": \"US\", \"sma7d\": 0.049}, {\"date\": \"2020-10-13T00:00:00\", \"totalTestResultsIncrease\": 966720.0, \"positiveIncrease\": 48387.0, \"death\": 207578.0, \"deathIncrease\": 690.0, \"positiveRate\": 0.05, \"state\": \"US\", \"sma7d\": 0.05}, {\"date\": \"2020-10-14T00:00:00\", \"totalTestResultsIncrease\": 966753.0, \"positiveIncrease\": 56797.0, \"death\": 208389.0, \"deathIncrease\": 811.0, \"positiveRate\": 0.059, \"state\": \"US\", \"sma7d\": 0.05}, {\"date\": \"2020-10-15T00:00:00\", \"totalTestResultsIncrease\": 1024498.0, \"positiveIncrease\": 63172.0, \"death\": 209340.0, \"deathIncrease\": 951.0, \"positiveRate\": 0.062, \"state\": \"US\", \"sma7d\": 0.052}, {\"date\": \"2020-10-16T00:00:00\", \"totalTestResultsIncrease\": 1148888.0, \"positiveIncrease\": 67896.0, \"death\": 210151.0, \"deathIncrease\": 876.0, \"positiveRate\": 0.059, \"state\": \"US\", \"sma7d\": 0.053}]}}, {\"mode\": \"vega-lite\"});\n",
       "</script>"
      ],
      "text/plain": [
       "alt.LayerChart(...)"
      ]
     },
     "execution_count": 8,
     "metadata": {},
     "output_type": "execute_result"
    }
   ],
   "source": [
    "create_plot(us, 'positiveRate')"
   ]
  },
  {
   "cell_type": "code",
   "execution_count": 9,
   "metadata": {
    "execution": {
     "iopub.execute_input": "2020-10-16T22:35:00.316227Z",
     "iopub.status.busy": "2020-10-16T22:35:00.305788Z",
     "iopub.status.idle": "2020-10-16T22:35:00.383006Z",
     "shell.execute_reply": "2020-10-16T22:35:00.383422Z"
    },
    "papermill": {
     "duration": 0.111748,
     "end_time": "2020-10-16T22:35:00.383570",
     "exception": false,
     "start_time": "2020-10-16T22:35:00.271822",
     "status": "completed"
    },
    "tags": []
   },
   "outputs": [
    {
     "data": {
      "text/html": [
       "\n",
       "<div id=\"altair-viz-7668c64da966415587354506d20285f5\"></div>\n",
       "<script type=\"text/javascript\">\n",
       "  (function(spec, embedOpt){\n",
       "    let outputDiv = document.currentScript.previousElementSibling;\n",
       "    if (outputDiv.id !== \"altair-viz-7668c64da966415587354506d20285f5\") {\n",
       "      outputDiv = document.getElementById(\"altair-viz-7668c64da966415587354506d20285f5\");\n",
       "    }\n",
       "    const paths = {\n",
       "      \"vega\": \"https://cdn.jsdelivr.net/npm//vega@5?noext\",\n",
       "      \"vega-lib\": \"https://cdn.jsdelivr.net/npm//vega-lib?noext\",\n",
       "      \"vega-lite\": \"https://cdn.jsdelivr.net/npm//vega-lite@4.8.1?noext\",\n",
       "      \"vega-embed\": \"https://cdn.jsdelivr.net/npm//vega-embed@6?noext\",\n",
       "    };\n",
       "\n",
       "    function loadScript(lib) {\n",
       "      return new Promise(function(resolve, reject) {\n",
       "        var s = document.createElement('script');\n",
       "        s.src = paths[lib];\n",
       "        s.async = true;\n",
       "        s.onload = () => resolve(paths[lib]);\n",
       "        s.onerror = () => reject(`Error loading script: ${paths[lib]}`);\n",
       "        document.getElementsByTagName(\"head\")[0].appendChild(s);\n",
       "      });\n",
       "    }\n",
       "\n",
       "    function showError(err) {\n",
       "      outputDiv.innerHTML = `<div class=\"error\" style=\"color:red;\">${err}</div>`;\n",
       "      throw err;\n",
       "    }\n",
       "\n",
       "    function displayChart(vegaEmbed) {\n",
       "      vegaEmbed(outputDiv, spec, embedOpt)\n",
       "        .catch(err => showError(`Javascript Error: ${err.message}<br>This usually means there's a typo in your chart specification. See the javascript console for the full traceback.`));\n",
       "    }\n",
       "\n",
       "    if(typeof define === \"function\" && define.amd) {\n",
       "      requirejs.config({paths});\n",
       "      require([\"vega-embed\"], displayChart, err => showError(`Error loading script: ${err.message}`));\n",
       "    } else if (typeof vegaEmbed === \"function\") {\n",
       "      displayChart(vegaEmbed);\n",
       "    } else {\n",
       "      loadScript(\"vega\")\n",
       "        .then(() => loadScript(\"vega-lite\"))\n",
       "        .then(() => loadScript(\"vega-embed\"))\n",
       "        .catch(showError)\n",
       "        .then(() => displayChart(vegaEmbed));\n",
       "    }\n",
       "  })({\"config\": {\"view\": {\"continuousWidth\": 400, \"continuousHeight\": 300}}, \"layer\": [{\"layer\": [{\"mark\": {\"type\": \"point\", \"size\": 75}, \"encoding\": {\"tooltip\": [{\"type\": \"temporal\", \"field\": \"date\"}, {\"type\": \"quantitative\", \"field\": \"deathIncrease\"}, {\"type\": \"quantitative\", \"field\": \"sma7d\"}], \"x\": {\"type\": \"temporal\", \"field\": \"date\"}, \"y\": {\"type\": \"quantitative\", \"field\": \"deathIncrease\"}}, \"selection\": {\"selector006\": {\"type\": \"interval\", \"bind\": \"scales\", \"encodings\": [\"x\", \"y\"]}}}, {\"mark\": {\"type\": \"line\", \"color\": \"purple\"}, \"encoding\": {\"x\": {\"type\": \"temporal\", \"field\": \"date\"}, \"y\": {\"type\": \"quantitative\", \"field\": \"sma7d\"}}}]}, {\"mark\": {\"type\": \"rule\", \"color\": \"#aaa\"}, \"encoding\": {\"x\": {\"type\": \"temporal\", \"field\": \"date\"}}, \"transform\": [{\"filter\": {\"selection\": \"selector005\"}}]}, {\"mark\": \"circle\", \"encoding\": {\"opacity\": {\"condition\": {\"value\": 1, \"selection\": \"selector005\"}, \"value\": 0}, \"tooltip\": [{\"type\": \"temporal\", \"field\": \"date\"}, {\"type\": \"quantitative\", \"field\": \"deathIncrease\"}, {\"type\": \"quantitative\", \"field\": \"sma7d\"}], \"x\": {\"type\": \"temporal\", \"field\": \"date\"}, \"y\": {\"type\": \"quantitative\", \"field\": \"deathIncrease\"}}, \"selection\": {\"selector005\": {\"type\": \"single\", \"encodings\": [\"x\"], \"on\": \"mouseover\", \"nearest\": true, \"empty\": \"none\"}}}, {\"mark\": {\"type\": \"text\", \"align\": \"left\", \"dx\": 5, \"dy\": -5, \"stroke\": \"white\", \"strokeWidth\": 2}, \"encoding\": {\"text\": {\"type\": \"quantitative\", \"field\": \"deathIncrease\"}, \"tooltip\": [{\"type\": \"temporal\", \"field\": \"date\"}, {\"type\": \"quantitative\", \"field\": \"deathIncrease\"}, {\"type\": \"quantitative\", \"field\": \"sma7d\"}], \"x\": {\"type\": \"temporal\", \"field\": \"date\"}, \"y\": {\"type\": \"quantitative\", \"field\": \"deathIncrease\"}}, \"transform\": [{\"filter\": {\"selection\": \"selector005\"}}]}, {\"mark\": {\"type\": \"text\", \"align\": \"left\", \"dx\": 5, \"dy\": -5}, \"encoding\": {\"text\": {\"type\": \"quantitative\", \"field\": \"deathIncrease\"}, \"tooltip\": [{\"type\": \"temporal\", \"field\": \"date\"}, {\"type\": \"quantitative\", \"field\": \"deathIncrease\"}, {\"type\": \"quantitative\", \"field\": \"sma7d\"}], \"x\": {\"type\": \"temporal\", \"field\": \"date\"}, \"y\": {\"type\": \"quantitative\", \"field\": \"deathIncrease\"}}, \"transform\": [{\"filter\": {\"selection\": \"selector005\"}}]}], \"data\": {\"name\": \"data-701ee9d244639ab29e0283322ccef0a1\"}, \"height\": 400, \"title\": \"US: deathIncrease\", \"width\": 500, \"$schema\": \"https://vega.github.io/schema/vega-lite/v4.8.1.json\", \"datasets\": {\"data-701ee9d244639ab29e0283322ccef0a1\": [{\"date\": \"2020-08-22T00:00:00\", \"totalTestResultsIncrease\": 807985.0, \"positiveIncrease\": 46236.0, \"death\": 168243.0, \"deathIncrease\": 1029.0, \"positiveRate\": 0.057, \"state\": \"US\", \"sma7d\": 989.714}, {\"date\": \"2020-08-23T00:00:00\", \"totalTestResultsIncrease\": 667182.0, \"positiveIncrease\": 37566.0, \"death\": 168815.0, \"deathIncrease\": 572.0, \"positiveRate\": 0.056, \"state\": \"US\", \"sma7d\": 983.0}, {\"date\": \"2020-08-24T00:00:00\", \"totalTestResultsIncrease\": 713502.0, \"positiveIncrease\": 34643.0, \"death\": 169158.0, \"deathIncrease\": 343.0, \"positiveRate\": 0.049, \"state\": \"US\", \"sma7d\": 973.857}, {\"date\": \"2020-08-25T00:00:00\", \"totalTestResultsIncrease\": 674612.0, \"positiveIncrease\": 36379.0, \"death\": 170305.0, \"deathIncrease\": 1147.0, \"positiveRate\": 0.054, \"state\": \"US\", \"sma7d\": 966.857}, {\"date\": \"2020-08-26T00:00:00\", \"totalTestResultsIncrease\": 684915.0, \"positiveIncrease\": 44053.0, \"death\": 171603.0, \"deathIncrease\": 1298.0, \"positiveRate\": 0.064, \"state\": \"US\", \"sma7d\": 949.429}, {\"date\": \"2020-08-27T00:00:00\", \"totalTestResultsIncrease\": 804859.0, \"positiveIncrease\": 43984.0, \"death\": 172732.0, \"deathIncrease\": 1129.0, \"positiveRate\": 0.055, \"state\": \"US\", \"sma7d\": 948.714}, {\"date\": \"2020-08-28T00:00:00\", \"totalTestResultsIncrease\": 835142.0, \"positiveIncrease\": 46548.0, \"death\": 173756.0, \"deathIncrease\": 1024.0, \"positiveRate\": 0.056, \"state\": \"US\", \"sma7d\": 934.571}, {\"date\": \"2020-08-29T00:00:00\", \"totalTestResultsIncrease\": 832098.0, \"positiveIncrease\": 44501.0, \"death\": 174771.0, \"deathIncrease\": 1015.0, \"positiveRate\": 0.053, \"state\": \"US\", \"sma7d\": 932.571}, {\"date\": \"2020-08-30T00:00:00\", \"totalTestResultsIncrease\": 789256.0, \"positiveIncrease\": 39501.0, \"death\": 175246.0, \"deathIncrease\": 475.0, \"positiveRate\": 0.05, \"state\": \"US\", \"sma7d\": 918.714}, {\"date\": \"2020-08-31T00:00:00\", \"totalTestResultsIncrease\": 716737.0, \"positiveIncrease\": 31406.0, \"death\": 175612.0, \"deathIncrease\": 366.0, \"positiveRate\": 0.044, \"state\": \"US\", \"sma7d\": 922.0}, {\"date\": \"2020-09-01T00:00:00\", \"totalTestResultsIncrease\": 741158.0, \"positiveIncrease\": 42433.0, \"death\": 176639.0, \"deathIncrease\": 1027.0, \"positiveRate\": 0.057, \"state\": \"US\", \"sma7d\": 904.857}, {\"date\": \"2020-09-02T00:00:00\", \"totalTestResultsIncrease\": 690108.0, \"positiveIncrease\": 30603.0, \"death\": 177671.0, \"deathIncrease\": 1032.0, \"positiveRate\": 0.044, \"state\": \"US\", \"sma7d\": 866.857}, {\"date\": \"2020-09-03T00:00:00\", \"totalTestResultsIncrease\": 815499.0, \"positiveIncrease\": 44714.0, \"death\": 178741.0, \"deathIncrease\": 1070.0, \"positiveRate\": 0.055, \"state\": \"US\", \"sma7d\": 858.429}, {\"date\": \"2020-09-04T00:00:00\", \"totalTestResultsIncrease\": 970239.0, \"positiveIncrease\": 51591.0, \"death\": 179739.0, \"deathIncrease\": 998.0, \"positiveRate\": 0.053, \"state\": \"US\", \"sma7d\": 854.714}, {\"date\": \"2020-09-05T00:00:00\", \"totalTestResultsIncrease\": 898299.0, \"positiveIncrease\": 44905.0, \"death\": 180657.0, \"deathIncrease\": 918.0, \"positiveRate\": 0.05, \"state\": \"US\", \"sma7d\": 840.857}, {\"date\": \"2020-09-06T00:00:00\", \"totalTestResultsIncrease\": 793108.0, \"positiveIncrease\": 33117.0, \"death\": 181106.0, \"deathIncrease\": 449.0, \"positiveRate\": 0.042, \"state\": \"US\", \"sma7d\": 837.143}, {\"date\": \"2020-09-07T00:00:00\", \"totalTestResultsIncrease\": 629084.0, \"positiveIncrease\": 28682.0, \"death\": 181331.0, \"deathIncrease\": 225.0, \"positiveRate\": 0.046, \"state\": \"US\", \"sma7d\": 817.0}, {\"date\": \"2020-09-08T00:00:00\", \"totalTestResultsIncrease\": 550429.0, \"positiveIncrease\": 22223.0, \"death\": 181689.0, \"deathIncrease\": 358.0, \"positiveRate\": 0.04, \"state\": \"US\", \"sma7d\": 721.429}, {\"date\": \"2020-09-09T00:00:00\", \"totalTestResultsIncrease\": 634636.0, \"positiveIncrease\": 31114.0, \"death\": 182773.0, \"deathIncrease\": 1084.0, \"positiveRate\": 0.049, \"state\": \"US\", \"sma7d\": 728.857}, {\"date\": \"2020-09-10T00:00:00\", \"totalTestResultsIncrease\": 708354.0, \"positiveIncrease\": 37581.0, \"death\": 183943.0, \"deathIncrease\": 1170.0, \"positiveRate\": 0.053, \"state\": \"US\", \"sma7d\": 743.143}, {\"date\": \"2020-09-11T00:00:00\", \"totalTestResultsIncrease\": 848153.0, \"positiveIncrease\": 44927.0, \"death\": 184961.0, \"deathIncrease\": 1018.0, \"positiveRate\": 0.053, \"state\": \"US\", \"sma7d\": 746.0}, {\"date\": \"2020-09-12T00:00:00\", \"totalTestResultsIncrease\": 929573.0, \"positiveIncrease\": 42090.0, \"death\": 185771.0, \"deathIncrease\": 810.0, \"positiveRate\": 0.045, \"state\": \"US\", \"sma7d\": 730.571}, {\"date\": \"2020-09-13T00:00:00\", \"totalTestResultsIncrease\": 745745.0, \"positiveIncrease\": 34453.0, \"death\": 186161.0, \"deathIncrease\": 390.0, \"positiveRate\": 0.046, \"state\": \"US\", \"sma7d\": 722.143}, {\"date\": \"2020-09-14T00:00:00\", \"totalTestResultsIncrease\": 461512.0, \"positiveIncrease\": 33864.0, \"death\": 186565.0, \"deathIncrease\": 404.0, \"positiveRate\": 0.073, \"state\": \"US\", \"sma7d\": 747.714}, {\"date\": \"2020-09-15T00:00:00\", \"totalTestResultsIncrease\": 741501.0, \"positiveIncrease\": 35445.0, \"death\": 187596.0, \"deathIncrease\": 1031.0, \"positiveRate\": 0.048, \"state\": \"US\", \"sma7d\": 843.857}, {\"date\": \"2020-09-16T00:00:00\", \"totalTestResultsIncrease\": 748273.0, \"positiveIncrease\": 40021.0, \"death\": 188796.0, \"deathIncrease\": 1200.0, \"positiveRate\": 0.053, \"state\": \"US\", \"sma7d\": 860.429}, {\"date\": \"2020-09-17T00:00:00\", \"totalTestResultsIncrease\": 866461.0, \"positiveIncrease\": 43558.0, \"death\": 189659.0, \"deathIncrease\": 863.0, \"positiveRate\": 0.05, \"state\": \"US\", \"sma7d\": 816.571}, {\"date\": \"2020-09-18T00:00:00\", \"totalTestResultsIncrease\": 1004488.0, \"positiveIncrease\": 47486.0, \"death\": 190560.0, \"deathIncrease\": 901.0, \"positiveRate\": 0.047, \"state\": \"US\", \"sma7d\": 799.857}, {\"date\": \"2020-09-19T00:00:00\", \"totalTestResultsIncrease\": 1089960.0, \"positiveIncrease\": 45564.0, \"death\": 191300.0, \"deathIncrease\": 740.0, \"positiveRate\": 0.042, \"state\": \"US\", \"sma7d\": 789.857}, {\"date\": \"2020-09-20T00:00:00\", \"totalTestResultsIncrease\": 935778.0, \"positiveIncrease\": 36295.0, \"death\": 191627.0, \"deathIncrease\": 327.0, \"positiveRate\": 0.039, \"state\": \"US\", \"sma7d\": 780.857}, {\"date\": \"2020-09-21T00:00:00\", \"totalTestResultsIncrease\": 738532.0, \"positiveIncrease\": 39472.0, \"death\": 191914.0, \"deathIncrease\": 287.0, \"positiveRate\": 0.053, \"state\": \"US\", \"sma7d\": 764.143}, {\"date\": \"2020-09-22T00:00:00\", \"totalTestResultsIncrease\": 791878.0, \"positiveIncrease\": 49439.0, \"death\": 192768.0, \"deathIncrease\": 854.0, \"positiveRate\": 0.062, \"state\": \"US\", \"sma7d\": 738.857}, {\"date\": \"2020-09-23T00:00:00\", \"totalTestResultsIncrease\": 939087.0, \"positiveIncrease\": 38567.0, \"death\": 193927.0, \"deathIncrease\": 1159.0, \"positiveRate\": 0.041, \"state\": \"US\", \"sma7d\": 733.0}, {\"date\": \"2020-09-24T00:00:00\", \"totalTestResultsIncrease\": 957494.0, \"positiveIncrease\": 43772.0, \"death\": 194848.0, \"deathIncrease\": 921.0, \"positiveRate\": 0.046, \"state\": \"US\", \"sma7d\": 741.286}, {\"date\": \"2020-09-25T00:00:00\", \"totalTestResultsIncrease\": 1037579.0, \"positiveIncrease\": 55526.0, \"death\": 195692.0, \"deathIncrease\": 844.0, \"positiveRate\": 0.054, \"state\": \"US\", \"sma7d\": 733.143}, {\"date\": \"2020-09-26T00:00:00\", \"totalTestResultsIncrease\": 1042834.0, \"positiveIncrease\": 47856.0, \"death\": 196561.0, \"deathIncrease\": 869.0, \"positiveRate\": 0.046, \"state\": \"US\", \"sma7d\": 751.571}, {\"date\": \"2020-09-27T00:00:00\", \"totalTestResultsIncrease\": 850670.0, \"positiveIncrease\": 35454.0, \"death\": 196868.0, \"deathIncrease\": 307.0, \"positiveRate\": 0.042, \"state\": \"US\", \"sma7d\": 748.714}, {\"date\": \"2020-09-28T00:00:00\", \"totalTestResultsIncrease\": 1130645.0, \"positiveIncrease\": 36524.0, \"death\": 197125.0, \"deathIncrease\": 257.0, \"positiveRate\": 0.032, \"state\": \"US\", \"sma7d\": 744.429}, {\"date\": \"2020-09-29T00:00:00\", \"totalTestResultsIncrease\": 833208.0, \"positiveIncrease\": 36947.0, \"death\": 197864.0, \"deathIncrease\": 739.0, \"positiveRate\": 0.044, \"state\": \"US\", \"sma7d\": 728.0}, {\"date\": \"2020-09-30T00:00:00\", \"totalTestResultsIncrease\": 823663.0, \"positiveIncrease\": 44424.0, \"death\": 198925.0, \"deathIncrease\": 1061.0, \"positiveRate\": 0.054, \"state\": \"US\", \"sma7d\": 714.0}, {\"date\": \"2020-10-01T00:00:00\", \"totalTestResultsIncrease\": 913455.0, \"positiveIncrease\": 45694.0, \"death\": 199776.0, \"deathIncrease\": 851.0, \"positiveRate\": 0.05, \"state\": \"US\", \"sma7d\": 704.0}, {\"date\": \"2020-10-02T00:00:00\", \"totalTestResultsIncrease\": 1148036.0, \"positiveIncrease\": 49534.0, \"death\": 200611.0, \"deathIncrease\": 835.0, \"positiveRate\": 0.043, \"state\": \"US\", \"sma7d\": 702.714}, {\"date\": \"2020-10-03T00:00:00\", \"totalTestResultsIncrease\": 1018021.0, \"positiveIncrease\": 51372.0, \"death\": 201352.0, \"deathIncrease\": 741.0, \"positiveRate\": 0.05, \"state\": \"US\", \"sma7d\": 684.429}, {\"date\": \"2020-10-04T00:00:00\", \"totalTestResultsIncrease\": 975024.0, \"positiveIncrease\": 38439.0, \"death\": 201715.0, \"deathIncrease\": 363.0, \"positiveRate\": 0.039, \"state\": \"US\", \"sma7d\": 692.429}, {\"date\": \"2020-10-05T00:00:00\", \"totalTestResultsIncrease\": 948179.0, \"positiveIncrease\": 38133.0, \"death\": 202041.0, \"deathIncrease\": 326.0, \"positiveRate\": 0.04, \"state\": \"US\", \"sma7d\": 702.286}, {\"date\": \"2020-10-06T00:00:00\", \"totalTestResultsIncrease\": 835089.0, \"positiveIncrease\": 38661.0, \"death\": 202675.0, \"deathIncrease\": 634.0, \"positiveRate\": 0.046, \"state\": \"US\", \"sma7d\": 687.286}, {\"date\": \"2020-10-07T00:00:00\", \"totalTestResultsIncrease\": 874821.0, \"positiveIncrease\": 50602.0, \"death\": 203591.0, \"deathIncrease\": 916.0, \"positiveRate\": 0.058, \"state\": \"US\", \"sma7d\": 666.571}, {\"date\": \"2020-10-08T00:00:00\", \"totalTestResultsIncrease\": 1056687.0, \"positiveIncrease\": 55352.0, \"death\": 204577.0, \"deathIncrease\": 986.0, \"positiveRate\": 0.052, \"state\": \"US\", \"sma7d\": 685.857}, {\"date\": \"2020-10-09T00:00:00\", \"totalTestResultsIncrease\": 1108459.0, \"positiveIncrease\": 57060.0, \"death\": 205470.0, \"deathIncrease\": 893.0, \"positiveRate\": 0.051, \"state\": \"US\", \"sma7d\": 694.143}, {\"date\": \"2020-10-10T00:00:00\", \"totalTestResultsIncrease\": 1172515.0, \"positiveIncrease\": 57492.0, \"death\": 206135.0, \"deathIncrease\": 665.0, \"positiveRate\": 0.049, \"state\": \"US\", \"sma7d\": 683.286}, {\"date\": \"2020-10-11T00:00:00\", \"totalTestResultsIncrease\": 974485.0, \"positiveIncrease\": 46946.0, \"death\": 206601.0, \"deathIncrease\": 466.0, \"positiveRate\": 0.048, \"state\": \"US\", \"sma7d\": 698.0}, {\"date\": \"2020-10-12T00:00:00\", \"totalTestResultsIncrease\": 1020286.0, \"positiveIncrease\": 43124.0, \"death\": 206888.0, \"deathIncrease\": 287.0, \"positiveRate\": 0.042, \"state\": \"US\", \"sma7d\": 692.429}, {\"date\": \"2020-10-13T00:00:00\", \"totalTestResultsIncrease\": 966720.0, \"positiveIncrease\": 48387.0, \"death\": 207578.0, \"deathIncrease\": 690.0, \"positiveRate\": 0.05, \"state\": \"US\", \"sma7d\": 700.429}, {\"date\": \"2020-10-14T00:00:00\", \"totalTestResultsIncrease\": 966753.0, \"positiveIncrease\": 56797.0, \"death\": 208389.0, \"deathIncrease\": 811.0, \"positiveRate\": 0.059, \"state\": \"US\", \"sma7d\": 685.429}, {\"date\": \"2020-10-15T00:00:00\", \"totalTestResultsIncrease\": 1024498.0, \"positiveIncrease\": 63172.0, \"death\": 209340.0, \"deathIncrease\": 951.0, \"positiveRate\": 0.062, \"state\": \"US\", \"sma7d\": 680.429}, {\"date\": \"2020-10-16T00:00:00\", \"totalTestResultsIncrease\": 1148888.0, \"positiveIncrease\": 67896.0, \"death\": 210151.0, \"deathIncrease\": 876.0, \"positiveRate\": 0.059, \"state\": \"US\", \"sma7d\": 678.0}]}}, {\"mode\": \"vega-lite\"});\n",
       "</script>"
      ],
      "text/plain": [
       "alt.LayerChart(...)"
      ]
     },
     "execution_count": 9,
     "metadata": {},
     "output_type": "execute_result"
    }
   ],
   "source": [
    "create_plot(us, 'deathIncrease')"
   ]
  },
  {
   "cell_type": "markdown",
   "metadata": {
    "papermill": {
     "duration": 0.014585,
     "end_time": "2020-10-16T22:35:00.412845",
     "exception": false,
     "start_time": "2020-10-16T22:35:00.398260",
     "status": "completed"
    },
    "tags": []
   },
   "source": [
    "## NY"
   ]
  },
  {
   "cell_type": "code",
   "execution_count": 10,
   "metadata": {
    "execution": {
     "iopub.execute_input": "2020-10-16T22:35:00.447631Z",
     "iopub.status.busy": "2020-10-16T22:35:00.447101Z",
     "iopub.status.idle": "2020-10-16T22:35:00.686525Z",
     "shell.execute_reply": "2020-10-16T22:35:00.686044Z"
    },
    "papermill": {
     "duration": 0.259199,
     "end_time": "2020-10-16T22:35:00.686704",
     "exception": false,
     "start_time": "2020-10-16T22:35:00.427505",
     "status": "completed"
    },
    "tags": []
   },
   "outputs": [],
   "source": [
    "ny = create_df(df, (lambda d: d['state'] == 'NY'), 'New York')"
   ]
  },
  {
   "cell_type": "code",
   "execution_count": 11,
   "metadata": {
    "execution": {
     "iopub.execute_input": "2020-10-16T22:35:00.724541Z",
     "iopub.status.busy": "2020-10-16T22:35:00.722698Z",
     "iopub.status.idle": "2020-10-16T22:35:00.813476Z",
     "shell.execute_reply": "2020-10-16T22:35:00.812998Z"
    },
    "papermill": {
     "duration": 0.111353,
     "end_time": "2020-10-16T22:35:00.813594",
     "exception": false,
     "start_time": "2020-10-16T22:35:00.702241",
     "status": "completed"
    },
    "tags": []
   },
   "outputs": [
    {
     "data": {
      "text/html": [
       "\n",
       "<div id=\"altair-viz-0a35983646344d5c9008ef3225696d9a\"></div>\n",
       "<script type=\"text/javascript\">\n",
       "  (function(spec, embedOpt){\n",
       "    let outputDiv = document.currentScript.previousElementSibling;\n",
       "    if (outputDiv.id !== \"altair-viz-0a35983646344d5c9008ef3225696d9a\") {\n",
       "      outputDiv = document.getElementById(\"altair-viz-0a35983646344d5c9008ef3225696d9a\");\n",
       "    }\n",
       "    const paths = {\n",
       "      \"vega\": \"https://cdn.jsdelivr.net/npm//vega@5?noext\",\n",
       "      \"vega-lib\": \"https://cdn.jsdelivr.net/npm//vega-lib?noext\",\n",
       "      \"vega-lite\": \"https://cdn.jsdelivr.net/npm//vega-lite@4.8.1?noext\",\n",
       "      \"vega-embed\": \"https://cdn.jsdelivr.net/npm//vega-embed@6?noext\",\n",
       "    };\n",
       "\n",
       "    function loadScript(lib) {\n",
       "      return new Promise(function(resolve, reject) {\n",
       "        var s = document.createElement('script');\n",
       "        s.src = paths[lib];\n",
       "        s.async = true;\n",
       "        s.onload = () => resolve(paths[lib]);\n",
       "        s.onerror = () => reject(`Error loading script: ${paths[lib]}`);\n",
       "        document.getElementsByTagName(\"head\")[0].appendChild(s);\n",
       "      });\n",
       "    }\n",
       "\n",
       "    function showError(err) {\n",
       "      outputDiv.innerHTML = `<div class=\"error\" style=\"color:red;\">${err}</div>`;\n",
       "      throw err;\n",
       "    }\n",
       "\n",
       "    function displayChart(vegaEmbed) {\n",
       "      vegaEmbed(outputDiv, spec, embedOpt)\n",
       "        .catch(err => showError(`Javascript Error: ${err.message}<br>This usually means there's a typo in your chart specification. See the javascript console for the full traceback.`));\n",
       "    }\n",
       "\n",
       "    if(typeof define === \"function\" && define.amd) {\n",
       "      requirejs.config({paths});\n",
       "      require([\"vega-embed\"], displayChart, err => showError(`Error loading script: ${err.message}`));\n",
       "    } else if (typeof vegaEmbed === \"function\") {\n",
       "      displayChart(vegaEmbed);\n",
       "    } else {\n",
       "      loadScript(\"vega\")\n",
       "        .then(() => loadScript(\"vega-lite\"))\n",
       "        .then(() => loadScript(\"vega-embed\"))\n",
       "        .catch(showError)\n",
       "        .then(() => displayChart(vegaEmbed));\n",
       "    }\n",
       "  })({\"config\": {\"view\": {\"continuousWidth\": 400, \"continuousHeight\": 300}}, \"layer\": [{\"layer\": [{\"mark\": {\"type\": \"point\", \"size\": 75}, \"encoding\": {\"tooltip\": [{\"type\": \"temporal\", \"field\": \"date\"}, {\"type\": \"quantitative\", \"field\": \"positiveIncrease\"}, {\"type\": \"quantitative\", \"field\": \"sma7d\"}], \"x\": {\"type\": \"temporal\", \"field\": \"date\"}, \"y\": {\"type\": \"quantitative\", \"field\": \"positiveIncrease\"}}, \"selection\": {\"selector008\": {\"type\": \"interval\", \"bind\": \"scales\", \"encodings\": [\"x\", \"y\"]}}}, {\"mark\": {\"type\": \"line\", \"color\": \"purple\"}, \"encoding\": {\"x\": {\"type\": \"temporal\", \"field\": \"date\"}, \"y\": {\"type\": \"quantitative\", \"field\": \"sma7d\"}}}]}, {\"mark\": {\"type\": \"rule\", \"color\": \"#aaa\"}, \"encoding\": {\"x\": {\"type\": \"temporal\", \"field\": \"date\"}}, \"transform\": [{\"filter\": {\"selection\": \"selector007\"}}]}, {\"mark\": \"circle\", \"encoding\": {\"opacity\": {\"condition\": {\"value\": 1, \"selection\": \"selector007\"}, \"value\": 0}, \"tooltip\": [{\"type\": \"temporal\", \"field\": \"date\"}, {\"type\": \"quantitative\", \"field\": \"positiveIncrease\"}, {\"type\": \"quantitative\", \"field\": \"sma7d\"}], \"x\": {\"type\": \"temporal\", \"field\": \"date\"}, \"y\": {\"type\": \"quantitative\", \"field\": \"positiveIncrease\"}}, \"selection\": {\"selector007\": {\"type\": \"single\", \"encodings\": [\"x\"], \"on\": \"mouseover\", \"nearest\": true, \"empty\": \"none\"}}}, {\"mark\": {\"type\": \"text\", \"align\": \"left\", \"dx\": 5, \"dy\": -5, \"stroke\": \"white\", \"strokeWidth\": 2}, \"encoding\": {\"text\": {\"type\": \"quantitative\", \"field\": \"positiveIncrease\"}, \"tooltip\": [{\"type\": \"temporal\", \"field\": \"date\"}, {\"type\": \"quantitative\", \"field\": \"positiveIncrease\"}, {\"type\": \"quantitative\", \"field\": \"sma7d\"}], \"x\": {\"type\": \"temporal\", \"field\": \"date\"}, \"y\": {\"type\": \"quantitative\", \"field\": \"positiveIncrease\"}}, \"transform\": [{\"filter\": {\"selection\": \"selector007\"}}]}, {\"mark\": {\"type\": \"text\", \"align\": \"left\", \"dx\": 5, \"dy\": -5}, \"encoding\": {\"text\": {\"type\": \"quantitative\", \"field\": \"positiveIncrease\"}, \"tooltip\": [{\"type\": \"temporal\", \"field\": \"date\"}, {\"type\": \"quantitative\", \"field\": \"positiveIncrease\"}, {\"type\": \"quantitative\", \"field\": \"sma7d\"}], \"x\": {\"type\": \"temporal\", \"field\": \"date\"}, \"y\": {\"type\": \"quantitative\", \"field\": \"positiveIncrease\"}}, \"transform\": [{\"filter\": {\"selection\": \"selector007\"}}]}], \"data\": {\"name\": \"data-151ffb4819173b8f36b28a551a49500b\"}, \"height\": 400, \"title\": \"New York: positiveIncrease\", \"width\": 500, \"$schema\": \"https://vega.github.io/schema/vega-lite/v4.8.1.json\", \"datasets\": {\"data-151ffb4819173b8f36b28a551a49500b\": [{\"date\": \"2020-08-22T00:00:00\", \"totalTestResultsIncrease\": 94849.0, \"positiveIncrease\": 653.0, \"death\": 25282.0, \"deathIncrease\": 4.0, \"positiveRate\": 0.007, \"state\": \"New York\", \"sma7d\": 609.143}, {\"date\": \"2020-08-23T00:00:00\", \"totalTestResultsIncrease\": 74043.0, \"positiveIncrease\": 572.0, \"death\": 25288.0, \"deathIncrease\": 6.0, \"positiveRate\": 0.008, \"state\": \"New York\", \"sma7d\": 604.143}, {\"date\": \"2020-08-24T00:00:00\", \"totalTestResultsIncrease\": 62031.0, \"positiveIncrease\": 408.0, \"death\": 25295.0, \"deathIncrease\": 7.0, \"positiveRate\": 0.007, \"state\": \"New York\", \"sma7d\": 604.143}, {\"date\": \"2020-08-25T00:00:00\", \"totalTestResultsIncrease\": 67255.0, \"positiveIncrease\": 629.0, \"death\": 25297.0, \"deathIncrease\": 2.0, \"positiveRate\": 0.009, \"state\": \"New York\", \"sma7d\": 600.429}, {\"date\": \"2020-08-26T00:00:00\", \"totalTestResultsIncrease\": 71189.0, \"positiveIncrease\": 566.0, \"death\": 25305.0, \"deathIncrease\": 8.0, \"positiveRate\": 0.008, \"state\": \"New York\", \"sma7d\": 591.143}, {\"date\": \"2020-08-27T00:00:00\", \"totalTestResultsIncrease\": 83437.0, \"positiveIncrease\": 791.0, \"death\": 25309.0, \"deathIncrease\": 4.0, \"positiveRate\": 0.009, \"state\": \"New York\", \"sma7d\": 618.286}, {\"date\": \"2020-08-28T00:00:00\", \"totalTestResultsIncrease\": 97826.0, \"positiveIncrease\": 636.0, \"death\": 25312.0, \"deathIncrease\": 3.0, \"positiveRate\": 0.007, \"state\": \"New York\", \"sma7d\": 607.857}, {\"date\": \"2020-08-29T00:00:00\", \"totalTestResultsIncrease\": 93873.0, \"positiveIncrease\": 635.0, \"death\": 25319.0, \"deathIncrease\": 7.0, \"positiveRate\": 0.007, \"state\": \"New York\", \"sma7d\": 605.286}, {\"date\": \"2020-08-30T00:00:00\", \"totalTestResultsIncrease\": 100022.0, \"positiveIncrease\": 698.0, \"death\": 25327.0, \"deathIncrease\": 8.0, \"positiveRate\": 0.007, \"state\": \"New York\", \"sma7d\": 623.286}, {\"date\": \"2020-08-31T00:00:00\", \"totalTestResultsIncrease\": 66241.0, \"positiveIncrease\": 656.0, \"death\": 25328.0, \"deathIncrease\": 1.0, \"positiveRate\": 0.01, \"state\": \"New York\", \"sma7d\": 658.714}, {\"date\": \"2020-09-01T00:00:00\", \"totalTestResultsIncrease\": 76997.0, \"positiveIncrease\": 754.0, \"death\": 25331.0, \"deathIncrease\": 3.0, \"positiveRate\": 0.01, \"state\": \"New York\", \"sma7d\": 676.571}, {\"date\": \"2020-09-02T00:00:00\", \"totalTestResultsIncrease\": 88447.0, \"positiveIncrease\": 708.0, \"death\": 25336.0, \"deathIncrease\": 5.0, \"positiveRate\": 0.008, \"state\": \"New York\", \"sma7d\": 696.857}, {\"date\": \"2020-09-03T00:00:00\", \"totalTestResultsIncrease\": 88981.0, \"positiveIncrease\": 889.0, \"death\": 25343.0, \"deathIncrease\": 7.0, \"positiveRate\": 0.01, \"state\": \"New York\", \"sma7d\": 710.857}, {\"date\": \"2020-09-04T00:00:00\", \"totalTestResultsIncrease\": 93395.0, \"positiveIncrease\": 864.0, \"death\": 25348.0, \"deathIncrease\": 5.0, \"positiveRate\": 0.009, \"state\": \"New York\", \"sma7d\": 743.429}, {\"date\": \"2020-09-05T00:00:00\", \"totalTestResultsIncrease\": 99761.0, \"positiveIncrease\": 801.0, \"death\": 25350.0, \"deathIncrease\": 2.0, \"positiveRate\": 0.008, \"state\": \"New York\", \"sma7d\": 767.143}, {\"date\": \"2020-09-06T00:00:00\", \"totalTestResultsIncrease\": 85630.0, \"positiveIncrease\": 729.0, \"death\": 25359.0, \"deathIncrease\": 9.0, \"positiveRate\": 0.009, \"state\": \"New York\", \"sma7d\": 771.571}, {\"date\": \"2020-09-07T00:00:00\", \"totalTestResultsIncrease\": 58865.0, \"positiveIncrease\": 520.0, \"death\": 25361.0, \"deathIncrease\": 2.0, \"positiveRate\": 0.009, \"state\": \"New York\", \"sma7d\": 752.143}, {\"date\": \"2020-09-08T00:00:00\", \"totalTestResultsIncrease\": 57826.0, \"positiveIncrease\": 557.0, \"death\": 25367.0, \"deathIncrease\": 6.0, \"positiveRate\": 0.01, \"state\": \"New York\", \"sma7d\": 724.0}, {\"date\": \"2020-09-09T00:00:00\", \"totalTestResultsIncrease\": 63230.0, \"positiveIncrease\": 576.0, \"death\": 25370.0, \"deathIncrease\": 3.0, \"positiveRate\": 0.009, \"state\": \"New York\", \"sma7d\": 705.143}, {\"date\": \"2020-09-10T00:00:00\", \"totalTestResultsIncrease\": 76813.0, \"positiveIncrease\": 757.0, \"death\": 25377.0, \"deathIncrease\": 7.0, \"positiveRate\": 0.01, \"state\": \"New York\", \"sma7d\": 686.286}, {\"date\": \"2020-09-11T00:00:00\", \"totalTestResultsIncrease\": 89722.0, \"positiveIncrease\": 880.0, \"death\": 25382.0, \"deathIncrease\": 5.0, \"positiveRate\": 0.01, \"state\": \"New York\", \"sma7d\": 688.571}, {\"date\": \"2020-09-12T00:00:00\", \"totalTestResultsIncrease\": 102925.0, \"positiveIncrease\": 849.0, \"death\": 25384.0, \"deathIncrease\": 2.0, \"positiveRate\": 0.008, \"state\": \"New York\", \"sma7d\": 695.429}, {\"date\": \"2020-09-13T00:00:00\", \"totalTestResultsIncrease\": 72668.0, \"positiveIncrease\": 725.0, \"death\": 25390.0, \"deathIncrease\": 6.0, \"positiveRate\": 0.01, \"state\": \"New York\", \"sma7d\": 694.857}, {\"date\": \"2020-09-14T00:00:00\", \"totalTestResultsIncrease\": 63358.0, \"positiveIncrease\": 583.0, \"death\": 25394.0, \"deathIncrease\": 4.0, \"positiveRate\": 0.009, \"state\": \"New York\", \"sma7d\": 703.857}, {\"date\": \"2020-09-15T00:00:00\", \"totalTestResultsIncrease\": 73678.0, \"positiveIncrease\": 766.0, \"death\": 25405.0, \"deathIncrease\": 11.0, \"positiveRate\": 0.01, \"state\": \"New York\", \"sma7d\": 733.714}, {\"date\": \"2020-09-16T00:00:00\", \"totalTestResultsIncrease\": 75087.0, \"positiveIncrease\": 652.0, \"death\": 25410.0, \"deathIncrease\": 5.0, \"positiveRate\": 0.009, \"state\": \"New York\", \"sma7d\": 744.571}, {\"date\": \"2020-09-17T00:00:00\", \"totalTestResultsIncrease\": 91504.0, \"positiveIncrease\": 896.0, \"death\": 25413.0, \"deathIncrease\": 3.0, \"positiveRate\": 0.01, \"state\": \"New York\", \"sma7d\": 764.429}, {\"date\": \"2020-09-18T00:00:00\", \"totalTestResultsIncrease\": 89727.0, \"positiveIncrease\": 790.0, \"death\": 25423.0, \"deathIncrease\": 10.0, \"positiveRate\": 0.009, \"state\": \"New York\", \"sma7d\": 751.571}, {\"date\": \"2020-09-19T00:00:00\", \"totalTestResultsIncrease\": 110444.0, \"positiveIncrease\": 986.0, \"death\": 25425.0, \"deathIncrease\": 2.0, \"positiveRate\": 0.009, \"state\": \"New York\", \"sma7d\": 771.143}, {\"date\": \"2020-09-20T00:00:00\", \"totalTestResultsIncrease\": 100355.0, \"positiveIncrease\": 862.0, \"death\": 25427.0, \"deathIncrease\": 2.0, \"positiveRate\": 0.009, \"state\": \"New York\", \"sma7d\": 790.714}, {\"date\": \"2020-09-21T00:00:00\", \"totalTestResultsIncrease\": 58319.0, \"positiveIncrease\": 573.0, \"death\": 25428.0, \"deathIncrease\": 1.0, \"positiveRate\": 0.01, \"state\": \"New York\", \"sma7d\": 789.286}, {\"date\": \"2020-09-22T00:00:00\", \"totalTestResultsIncrease\": 83997.0, \"positiveIncrease\": 754.0, \"death\": 25432.0, \"deathIncrease\": 4.0, \"positiveRate\": 0.009, \"state\": \"New York\", \"sma7d\": 787.571}, {\"date\": \"2020-09-23T00:00:00\", \"totalTestResultsIncrease\": 70930.0, \"positiveIncrease\": 665.0, \"death\": 25437.0, \"deathIncrease\": 5.0, \"positiveRate\": 0.009, \"state\": \"New York\", \"sma7d\": 789.429}, {\"date\": \"2020-09-24T00:00:00\", \"totalTestResultsIncrease\": 92953.0, \"positiveIncrease\": 955.0, \"death\": 25439.0, \"deathIncrease\": 2.0, \"positiveRate\": 0.01, \"state\": \"New York\", \"sma7d\": 797.857}, {\"date\": \"2020-09-25T00:00:00\", \"totalTestResultsIncrease\": 94818.0, \"positiveIncrease\": 908.0, \"death\": 25446.0, \"deathIncrease\": 7.0, \"positiveRate\": 0.01, \"state\": \"New York\", \"sma7d\": 814.714}, {\"date\": \"2020-09-26T00:00:00\", \"totalTestResultsIncrease\": 99953.0, \"positiveIncrease\": 1005.0, \"death\": 25450.0, \"deathIncrease\": 4.0, \"positiveRate\": 0.01, \"state\": \"New York\", \"sma7d\": 817.429}, {\"date\": \"2020-09-27T00:00:00\", \"totalTestResultsIncrease\": 84770.0, \"positiveIncrease\": 866.0, \"death\": 25456.0, \"deathIncrease\": 6.0, \"positiveRate\": 0.01, \"state\": \"New York\", \"sma7d\": 818.0}, {\"date\": \"2020-09-28T00:00:00\", \"totalTestResultsIncrease\": 52936.0, \"positiveIncrease\": 834.0, \"death\": 25468.0, \"deathIncrease\": 12.0, \"positiveRate\": 0.016, \"state\": \"New York\", \"sma7d\": 855.286}, {\"date\": \"2020-09-29T00:00:00\", \"totalTestResultsIncrease\": 88231.0, \"positiveIncrease\": 1189.0, \"death\": 25470.0, \"deathIncrease\": 2.0, \"positiveRate\": 0.013, \"state\": \"New York\", \"sma7d\": 917.429}, {\"date\": \"2020-09-30T00:00:00\", \"totalTestResultsIncrease\": 97960.0, \"positiveIncrease\": 1000.0, \"death\": 25479.0, \"deathIncrease\": 9.0, \"positiveRate\": 0.01, \"state\": \"New York\", \"sma7d\": 965.286}, {\"date\": \"2020-10-01T00:00:00\", \"totalTestResultsIncrease\": 109218.0, \"positiveIncrease\": 1382.0, \"death\": 25490.0, \"deathIncrease\": 11.0, \"positiveRate\": 0.013, \"state\": \"New York\", \"sma7d\": 1026.286}, {\"date\": \"2020-10-02T00:00:00\", \"totalTestResultsIncrease\": 119493.0, \"positiveIncrease\": 1598.0, \"death\": 25497.0, \"deathIncrease\": 7.0, \"positiveRate\": 0.013, \"state\": \"New York\", \"sma7d\": 1124.857}, {\"date\": \"2020-10-03T00:00:00\", \"totalTestResultsIncrease\": 134267.0, \"positiveIncrease\": 1731.0, \"death\": 25505.0, \"deathIncrease\": 8.0, \"positiveRate\": 0.013, \"state\": \"New York\", \"sma7d\": 1228.571}, {\"date\": \"2020-10-04T00:00:00\", \"totalTestResultsIncrease\": 110329.0, \"positiveIncrease\": 1222.0, \"death\": 25519.0, \"deathIncrease\": 14.0, \"positiveRate\": 0.011, \"state\": \"New York\", \"sma7d\": 1279.429}, {\"date\": \"2020-10-05T00:00:00\", \"totalTestResultsIncrease\": 76404.0, \"positiveIncrease\": 933.0, \"death\": 25527.0, \"deathIncrease\": 8.0, \"positiveRate\": 0.012, \"state\": \"New York\", \"sma7d\": 1293.571}, {\"date\": \"2020-10-06T00:00:00\", \"totalTestResultsIncrease\": 96359.0, \"positiveIncrease\": 1393.0, \"death\": 25536.0, \"deathIncrease\": 9.0, \"positiveRate\": 0.014, \"state\": \"New York\", \"sma7d\": 1322.714}, {\"date\": \"2020-10-07T00:00:00\", \"totalTestResultsIncrease\": 108246.0, \"positiveIncrease\": 1360.0, \"death\": 25545.0, \"deathIncrease\": 9.0, \"positiveRate\": 0.013, \"state\": \"New York\", \"sma7d\": 1374.143}, {\"date\": \"2020-10-08T00:00:00\", \"totalTestResultsIncrease\": 145811.0, \"positiveIncrease\": 1836.0, \"death\": 25555.0, \"deathIncrease\": 10.0, \"positiveRate\": 0.013, \"state\": \"New York\", \"sma7d\": 1439.0}, {\"date\": \"2020-10-09T00:00:00\", \"totalTestResultsIncrease\": 139300.0, \"positiveIncrease\": 1592.0, \"death\": 25561.0, \"deathIncrease\": 6.0, \"positiveRate\": 0.011, \"state\": \"New York\", \"sma7d\": 1438.143}, {\"date\": \"2020-10-10T00:00:00\", \"totalTestResultsIncrease\": 134579.0, \"positiveIncrease\": 1447.0, \"death\": 25569.0, \"deathIncrease\": 8.0, \"positiveRate\": 0.011, \"state\": \"New York\", \"sma7d\": 1397.571}, {\"date\": \"2020-10-11T00:00:00\", \"totalTestResultsIncrease\": 118254.0, \"positiveIncrease\": 1143.0, \"death\": 25574.0, \"deathIncrease\": 5.0, \"positiveRate\": 0.01, \"state\": \"New York\", \"sma7d\": 1386.286}, {\"date\": \"2020-10-12T00:00:00\", \"totalTestResultsIncrease\": 91793.0, \"positiveIncrease\": 1029.0, \"death\": 25587.0, \"deathIncrease\": 13.0, \"positiveRate\": 0.011, \"state\": \"New York\", \"sma7d\": 1400.0}, {\"date\": \"2020-10-13T00:00:00\", \"totalTestResultsIncrease\": 99070.0, \"positiveIncrease\": 1393.0, \"death\": 25598.0, \"deathIncrease\": 11.0, \"positiveRate\": 0.014, \"state\": \"New York\", \"sma7d\": 1400.0}, {\"date\": \"2020-10-14T00:00:00\", \"totalTestResultsIncrease\": 111744.0, \"positiveIncrease\": 1232.0, \"death\": 25605.0, \"deathIncrease\": 7.0, \"positiveRate\": 0.011, \"state\": \"New York\", \"sma7d\": 1381.714}, {\"date\": \"2020-10-15T00:00:00\", \"totalTestResultsIncrease\": 133212.0, \"positiveIncrease\": 1460.0, \"death\": 25618.0, \"deathIncrease\": 13.0, \"positiveRate\": 0.011, \"state\": \"New York\", \"sma7d\": 1328.0}, {\"date\": \"2020-10-16T00:00:00\", \"totalTestResultsIncrease\": 136039.0, \"positiveIncrease\": 1707.0, \"death\": 25628.0, \"deathIncrease\": 10.0, \"positiveRate\": 0.013, \"state\": \"New York\", \"sma7d\": 1344.429}]}}, {\"mode\": \"vega-lite\"});\n",
       "</script>"
      ],
      "text/plain": [
       "alt.LayerChart(...)"
      ]
     },
     "execution_count": 11,
     "metadata": {},
     "output_type": "execute_result"
    }
   ],
   "source": [
    "create_plot(ny, 'positiveIncrease')"
   ]
  },
  {
   "cell_type": "code",
   "execution_count": 12,
   "metadata": {
    "execution": {
     "iopub.execute_input": "2020-10-16T22:35:00.866871Z",
     "iopub.status.busy": "2020-10-16T22:35:00.856212Z",
     "iopub.status.idle": "2020-10-16T22:35:00.943021Z",
     "shell.execute_reply": "2020-10-16T22:35:00.943451Z"
    },
    "papermill": {
     "duration": 0.112067,
     "end_time": "2020-10-16T22:35:00.943591",
     "exception": false,
     "start_time": "2020-10-16T22:35:00.831524",
     "status": "completed"
    },
    "tags": []
   },
   "outputs": [
    {
     "data": {
      "text/html": [
       "\n",
       "<div id=\"altair-viz-898501b6c11d4ed3a0f77125f1ea601b\"></div>\n",
       "<script type=\"text/javascript\">\n",
       "  (function(spec, embedOpt){\n",
       "    let outputDiv = document.currentScript.previousElementSibling;\n",
       "    if (outputDiv.id !== \"altair-viz-898501b6c11d4ed3a0f77125f1ea601b\") {\n",
       "      outputDiv = document.getElementById(\"altair-viz-898501b6c11d4ed3a0f77125f1ea601b\");\n",
       "    }\n",
       "    const paths = {\n",
       "      \"vega\": \"https://cdn.jsdelivr.net/npm//vega@5?noext\",\n",
       "      \"vega-lib\": \"https://cdn.jsdelivr.net/npm//vega-lib?noext\",\n",
       "      \"vega-lite\": \"https://cdn.jsdelivr.net/npm//vega-lite@4.8.1?noext\",\n",
       "      \"vega-embed\": \"https://cdn.jsdelivr.net/npm//vega-embed@6?noext\",\n",
       "    };\n",
       "\n",
       "    function loadScript(lib) {\n",
       "      return new Promise(function(resolve, reject) {\n",
       "        var s = document.createElement('script');\n",
       "        s.src = paths[lib];\n",
       "        s.async = true;\n",
       "        s.onload = () => resolve(paths[lib]);\n",
       "        s.onerror = () => reject(`Error loading script: ${paths[lib]}`);\n",
       "        document.getElementsByTagName(\"head\")[0].appendChild(s);\n",
       "      });\n",
       "    }\n",
       "\n",
       "    function showError(err) {\n",
       "      outputDiv.innerHTML = `<div class=\"error\" style=\"color:red;\">${err}</div>`;\n",
       "      throw err;\n",
       "    }\n",
       "\n",
       "    function displayChart(vegaEmbed) {\n",
       "      vegaEmbed(outputDiv, spec, embedOpt)\n",
       "        .catch(err => showError(`Javascript Error: ${err.message}<br>This usually means there's a typo in your chart specification. See the javascript console for the full traceback.`));\n",
       "    }\n",
       "\n",
       "    if(typeof define === \"function\" && define.amd) {\n",
       "      requirejs.config({paths});\n",
       "      require([\"vega-embed\"], displayChart, err => showError(`Error loading script: ${err.message}`));\n",
       "    } else if (typeof vegaEmbed === \"function\") {\n",
       "      displayChart(vegaEmbed);\n",
       "    } else {\n",
       "      loadScript(\"vega\")\n",
       "        .then(() => loadScript(\"vega-lite\"))\n",
       "        .then(() => loadScript(\"vega-embed\"))\n",
       "        .catch(showError)\n",
       "        .then(() => displayChart(vegaEmbed));\n",
       "    }\n",
       "  })({\"config\": {\"view\": {\"continuousWidth\": 400, \"continuousHeight\": 300}}, \"layer\": [{\"layer\": [{\"mark\": {\"type\": \"point\", \"size\": 75}, \"encoding\": {\"tooltip\": [{\"type\": \"temporal\", \"field\": \"date\"}, {\"type\": \"quantitative\", \"field\": \"positiveRate\"}, {\"type\": \"quantitative\", \"field\": \"sma7d\"}], \"x\": {\"type\": \"temporal\", \"field\": \"date\"}, \"y\": {\"type\": \"quantitative\", \"field\": \"positiveRate\"}}, \"selection\": {\"selector010\": {\"type\": \"interval\", \"bind\": \"scales\", \"encodings\": [\"x\", \"y\"]}}}, {\"mark\": {\"type\": \"line\", \"color\": \"purple\"}, \"encoding\": {\"x\": {\"type\": \"temporal\", \"field\": \"date\"}, \"y\": {\"type\": \"quantitative\", \"field\": \"sma7d\"}}}]}, {\"mark\": {\"type\": \"rule\", \"color\": \"#aaa\"}, \"encoding\": {\"x\": {\"type\": \"temporal\", \"field\": \"date\"}}, \"transform\": [{\"filter\": {\"selection\": \"selector009\"}}]}, {\"mark\": \"circle\", \"encoding\": {\"opacity\": {\"condition\": {\"value\": 1, \"selection\": \"selector009\"}, \"value\": 0}, \"tooltip\": [{\"type\": \"temporal\", \"field\": \"date\"}, {\"type\": \"quantitative\", \"field\": \"positiveRate\"}, {\"type\": \"quantitative\", \"field\": \"sma7d\"}], \"x\": {\"type\": \"temporal\", \"field\": \"date\"}, \"y\": {\"type\": \"quantitative\", \"field\": \"positiveRate\"}}, \"selection\": {\"selector009\": {\"type\": \"single\", \"encodings\": [\"x\"], \"on\": \"mouseover\", \"nearest\": true, \"empty\": \"none\"}}}, {\"mark\": {\"type\": \"text\", \"align\": \"left\", \"dx\": 5, \"dy\": -5, \"stroke\": \"white\", \"strokeWidth\": 2}, \"encoding\": {\"text\": {\"type\": \"quantitative\", \"field\": \"positiveRate\"}, \"tooltip\": [{\"type\": \"temporal\", \"field\": \"date\"}, {\"type\": \"quantitative\", \"field\": \"positiveRate\"}, {\"type\": \"quantitative\", \"field\": \"sma7d\"}], \"x\": {\"type\": \"temporal\", \"field\": \"date\"}, \"y\": {\"type\": \"quantitative\", \"field\": \"positiveRate\"}}, \"transform\": [{\"filter\": {\"selection\": \"selector009\"}}]}, {\"mark\": {\"type\": \"text\", \"align\": \"left\", \"dx\": 5, \"dy\": -5}, \"encoding\": {\"text\": {\"type\": \"quantitative\", \"field\": \"positiveRate\"}, \"tooltip\": [{\"type\": \"temporal\", \"field\": \"date\"}, {\"type\": \"quantitative\", \"field\": \"positiveRate\"}, {\"type\": \"quantitative\", \"field\": \"sma7d\"}], \"x\": {\"type\": \"temporal\", \"field\": \"date\"}, \"y\": {\"type\": \"quantitative\", \"field\": \"positiveRate\"}}, \"transform\": [{\"filter\": {\"selection\": \"selector009\"}}]}], \"data\": {\"name\": \"data-196451bfb88daa51b3c805b98ba73aec\"}, \"height\": 400, \"title\": \"New York: positiveRate\", \"width\": 500, \"$schema\": \"https://vega.github.io/schema/vega-lite/v4.8.1.json\", \"datasets\": {\"data-196451bfb88daa51b3c805b98ba73aec\": [{\"date\": \"2020-08-22T00:00:00\", \"totalTestResultsIncrease\": 94849.0, \"positiveIncrease\": 653.0, \"death\": 25282.0, \"deathIncrease\": 4.0, \"positiveRate\": 0.007, \"state\": \"New York\", \"sma7d\": 0.008}, {\"date\": \"2020-08-23T00:00:00\", \"totalTestResultsIncrease\": 74043.0, \"positiveIncrease\": 572.0, \"death\": 25288.0, \"deathIncrease\": 6.0, \"positiveRate\": 0.008, \"state\": \"New York\", \"sma7d\": 0.008}, {\"date\": \"2020-08-24T00:00:00\", \"totalTestResultsIncrease\": 62031.0, \"positiveIncrease\": 408.0, \"death\": 25295.0, \"deathIncrease\": 7.0, \"positiveRate\": 0.007, \"state\": \"New York\", \"sma7d\": 0.008}, {\"date\": \"2020-08-25T00:00:00\", \"totalTestResultsIncrease\": 67255.0, \"positiveIncrease\": 629.0, \"death\": 25297.0, \"deathIncrease\": 2.0, \"positiveRate\": 0.009, \"state\": \"New York\", \"sma7d\": 0.008}, {\"date\": \"2020-08-26T00:00:00\", \"totalTestResultsIncrease\": 71189.0, \"positiveIncrease\": 566.0, \"death\": 25305.0, \"deathIncrease\": 8.0, \"positiveRate\": 0.008, \"state\": \"New York\", \"sma7d\": 0.008}, {\"date\": \"2020-08-27T00:00:00\", \"totalTestResultsIncrease\": 83437.0, \"positiveIncrease\": 791.0, \"death\": 25309.0, \"deathIncrease\": 4.0, \"positiveRate\": 0.009, \"state\": \"New York\", \"sma7d\": 0.008}, {\"date\": \"2020-08-28T00:00:00\", \"totalTestResultsIncrease\": 97826.0, \"positiveIncrease\": 636.0, \"death\": 25312.0, \"deathIncrease\": 3.0, \"positiveRate\": 0.007, \"state\": \"New York\", \"sma7d\": 0.008}, {\"date\": \"2020-08-29T00:00:00\", \"totalTestResultsIncrease\": 93873.0, \"positiveIncrease\": 635.0, \"death\": 25319.0, \"deathIncrease\": 7.0, \"positiveRate\": 0.007, \"state\": \"New York\", \"sma7d\": 0.008}, {\"date\": \"2020-08-30T00:00:00\", \"totalTestResultsIncrease\": 100022.0, \"positiveIncrease\": 698.0, \"death\": 25327.0, \"deathIncrease\": 8.0, \"positiveRate\": 0.007, \"state\": \"New York\", \"sma7d\": 0.008}, {\"date\": \"2020-08-31T00:00:00\", \"totalTestResultsIncrease\": 66241.0, \"positiveIncrease\": 656.0, \"death\": 25328.0, \"deathIncrease\": 1.0, \"positiveRate\": 0.01, \"state\": \"New York\", \"sma7d\": 0.008}, {\"date\": \"2020-09-01T00:00:00\", \"totalTestResultsIncrease\": 76997.0, \"positiveIncrease\": 754.0, \"death\": 25331.0, \"deathIncrease\": 3.0, \"positiveRate\": 0.01, \"state\": \"New York\", \"sma7d\": 0.008}, {\"date\": \"2020-09-02T00:00:00\", \"totalTestResultsIncrease\": 88447.0, \"positiveIncrease\": 708.0, \"death\": 25336.0, \"deathIncrease\": 5.0, \"positiveRate\": 0.008, \"state\": \"New York\", \"sma7d\": 0.008}, {\"date\": \"2020-09-03T00:00:00\", \"totalTestResultsIncrease\": 88981.0, \"positiveIncrease\": 889.0, \"death\": 25343.0, \"deathIncrease\": 7.0, \"positiveRate\": 0.01, \"state\": \"New York\", \"sma7d\": 0.008}, {\"date\": \"2020-09-04T00:00:00\", \"totalTestResultsIncrease\": 93395.0, \"positiveIncrease\": 864.0, \"death\": 25348.0, \"deathIncrease\": 5.0, \"positiveRate\": 0.009, \"state\": \"New York\", \"sma7d\": 0.009}, {\"date\": \"2020-09-05T00:00:00\", \"totalTestResultsIncrease\": 99761.0, \"positiveIncrease\": 801.0, \"death\": 25350.0, \"deathIncrease\": 2.0, \"positiveRate\": 0.008, \"state\": \"New York\", \"sma7d\": 0.009}, {\"date\": \"2020-09-06T00:00:00\", \"totalTestResultsIncrease\": 85630.0, \"positiveIncrease\": 729.0, \"death\": 25359.0, \"deathIncrease\": 9.0, \"positiveRate\": 0.009, \"state\": \"New York\", \"sma7d\": 0.009}, {\"date\": \"2020-09-07T00:00:00\", \"totalTestResultsIncrease\": 58865.0, \"positiveIncrease\": 520.0, \"death\": 25361.0, \"deathIncrease\": 2.0, \"positiveRate\": 0.009, \"state\": \"New York\", \"sma7d\": 0.009}, {\"date\": \"2020-09-08T00:00:00\", \"totalTestResultsIncrease\": 57826.0, \"positiveIncrease\": 557.0, \"death\": 25367.0, \"deathIncrease\": 6.0, \"positiveRate\": 0.01, \"state\": \"New York\", \"sma7d\": 0.009}, {\"date\": \"2020-09-09T00:00:00\", \"totalTestResultsIncrease\": 63230.0, \"positiveIncrease\": 576.0, \"death\": 25370.0, \"deathIncrease\": 3.0, \"positiveRate\": 0.009, \"state\": \"New York\", \"sma7d\": 0.009}, {\"date\": \"2020-09-10T00:00:00\", \"totalTestResultsIncrease\": 76813.0, \"positiveIncrease\": 757.0, \"death\": 25377.0, \"deathIncrease\": 7.0, \"positiveRate\": 0.01, \"state\": \"New York\", \"sma7d\": 0.009}, {\"date\": \"2020-09-11T00:00:00\", \"totalTestResultsIncrease\": 89722.0, \"positiveIncrease\": 880.0, \"death\": 25382.0, \"deathIncrease\": 5.0, \"positiveRate\": 0.01, \"state\": \"New York\", \"sma7d\": 0.009}, {\"date\": \"2020-09-12T00:00:00\", \"totalTestResultsIncrease\": 102925.0, \"positiveIncrease\": 849.0, \"death\": 25384.0, \"deathIncrease\": 2.0, \"positiveRate\": 0.008, \"state\": \"New York\", \"sma7d\": 0.009}, {\"date\": \"2020-09-13T00:00:00\", \"totalTestResultsIncrease\": 72668.0, \"positiveIncrease\": 725.0, \"death\": 25390.0, \"deathIncrease\": 6.0, \"positiveRate\": 0.01, \"state\": \"New York\", \"sma7d\": 0.009}, {\"date\": \"2020-09-14T00:00:00\", \"totalTestResultsIncrease\": 63358.0, \"positiveIncrease\": 583.0, \"death\": 25394.0, \"deathIncrease\": 4.0, \"positiveRate\": 0.009, \"state\": \"New York\", \"sma7d\": 0.009}, {\"date\": \"2020-09-15T00:00:00\", \"totalTestResultsIncrease\": 73678.0, \"positiveIncrease\": 766.0, \"death\": 25405.0, \"deathIncrease\": 11.0, \"positiveRate\": 0.01, \"state\": \"New York\", \"sma7d\": 0.009}, {\"date\": \"2020-09-16T00:00:00\", \"totalTestResultsIncrease\": 75087.0, \"positiveIncrease\": 652.0, \"death\": 25410.0, \"deathIncrease\": 5.0, \"positiveRate\": 0.009, \"state\": \"New York\", \"sma7d\": 0.009}, {\"date\": \"2020-09-17T00:00:00\", \"totalTestResultsIncrease\": 91504.0, \"positiveIncrease\": 896.0, \"death\": 25413.0, \"deathIncrease\": 3.0, \"positiveRate\": 0.01, \"state\": \"New York\", \"sma7d\": 0.009}, {\"date\": \"2020-09-18T00:00:00\", \"totalTestResultsIncrease\": 89727.0, \"positiveIncrease\": 790.0, \"death\": 25423.0, \"deathIncrease\": 10.0, \"positiveRate\": 0.009, \"state\": \"New York\", \"sma7d\": 0.009}, {\"date\": \"2020-09-19T00:00:00\", \"totalTestResultsIncrease\": 110444.0, \"positiveIncrease\": 986.0, \"death\": 25425.0, \"deathIncrease\": 2.0, \"positiveRate\": 0.009, \"state\": \"New York\", \"sma7d\": 0.009}, {\"date\": \"2020-09-20T00:00:00\", \"totalTestResultsIncrease\": 100355.0, \"positiveIncrease\": 862.0, \"death\": 25427.0, \"deathIncrease\": 2.0, \"positiveRate\": 0.009, \"state\": \"New York\", \"sma7d\": 0.009}, {\"date\": \"2020-09-21T00:00:00\", \"totalTestResultsIncrease\": 58319.0, \"positiveIncrease\": 573.0, \"death\": 25428.0, \"deathIncrease\": 1.0, \"positiveRate\": 0.01, \"state\": \"New York\", \"sma7d\": 0.009}, {\"date\": \"2020-09-22T00:00:00\", \"totalTestResultsIncrease\": 83997.0, \"positiveIncrease\": 754.0, \"death\": 25432.0, \"deathIncrease\": 4.0, \"positiveRate\": 0.009, \"state\": \"New York\", \"sma7d\": 0.009}, {\"date\": \"2020-09-23T00:00:00\", \"totalTestResultsIncrease\": 70930.0, \"positiveIncrease\": 665.0, \"death\": 25437.0, \"deathIncrease\": 5.0, \"positiveRate\": 0.009, \"state\": \"New York\", \"sma7d\": 0.009}, {\"date\": \"2020-09-24T00:00:00\", \"totalTestResultsIncrease\": 92953.0, \"positiveIncrease\": 955.0, \"death\": 25439.0, \"deathIncrease\": 2.0, \"positiveRate\": 0.01, \"state\": \"New York\", \"sma7d\": 0.009}, {\"date\": \"2020-09-25T00:00:00\", \"totalTestResultsIncrease\": 94818.0, \"positiveIncrease\": 908.0, \"death\": 25446.0, \"deathIncrease\": 7.0, \"positiveRate\": 0.01, \"state\": \"New York\", \"sma7d\": 0.009}, {\"date\": \"2020-09-26T00:00:00\", \"totalTestResultsIncrease\": 99953.0, \"positiveIncrease\": 1005.0, \"death\": 25450.0, \"deathIncrease\": 4.0, \"positiveRate\": 0.01, \"state\": \"New York\", \"sma7d\": 0.01}, {\"date\": \"2020-09-27T00:00:00\", \"totalTestResultsIncrease\": 84770.0, \"positiveIncrease\": 866.0, \"death\": 25456.0, \"deathIncrease\": 6.0, \"positiveRate\": 0.01, \"state\": \"New York\", \"sma7d\": 0.01}, {\"date\": \"2020-09-28T00:00:00\", \"totalTestResultsIncrease\": 52936.0, \"positiveIncrease\": 834.0, \"death\": 25468.0, \"deathIncrease\": 12.0, \"positiveRate\": 0.016, \"state\": \"New York\", \"sma7d\": 0.011}, {\"date\": \"2020-09-29T00:00:00\", \"totalTestResultsIncrease\": 88231.0, \"positiveIncrease\": 1189.0, \"death\": 25470.0, \"deathIncrease\": 2.0, \"positiveRate\": 0.013, \"state\": \"New York\", \"sma7d\": 0.011}, {\"date\": \"2020-09-30T00:00:00\", \"totalTestResultsIncrease\": 97960.0, \"positiveIncrease\": 1000.0, \"death\": 25479.0, \"deathIncrease\": 9.0, \"positiveRate\": 0.01, \"state\": \"New York\", \"sma7d\": 0.011}, {\"date\": \"2020-10-01T00:00:00\", \"totalTestResultsIncrease\": 109218.0, \"positiveIncrease\": 1382.0, \"death\": 25490.0, \"deathIncrease\": 11.0, \"positiveRate\": 0.013, \"state\": \"New York\", \"sma7d\": 0.012}, {\"date\": \"2020-10-02T00:00:00\", \"totalTestResultsIncrease\": 119493.0, \"positiveIncrease\": 1598.0, \"death\": 25497.0, \"deathIncrease\": 7.0, \"positiveRate\": 0.013, \"state\": \"New York\", \"sma7d\": 0.012}, {\"date\": \"2020-10-03T00:00:00\", \"totalTestResultsIncrease\": 134267.0, \"positiveIncrease\": 1731.0, \"death\": 25505.0, \"deathIncrease\": 8.0, \"positiveRate\": 0.013, \"state\": \"New York\", \"sma7d\": 0.013}, {\"date\": \"2020-10-04T00:00:00\", \"totalTestResultsIncrease\": 110329.0, \"positiveIncrease\": 1222.0, \"death\": 25519.0, \"deathIncrease\": 14.0, \"positiveRate\": 0.011, \"state\": \"New York\", \"sma7d\": 0.013}, {\"date\": \"2020-10-05T00:00:00\", \"totalTestResultsIncrease\": 76404.0, \"positiveIncrease\": 933.0, \"death\": 25527.0, \"deathIncrease\": 8.0, \"positiveRate\": 0.012, \"state\": \"New York\", \"sma7d\": 0.012}, {\"date\": \"2020-10-06T00:00:00\", \"totalTestResultsIncrease\": 96359.0, \"positiveIncrease\": 1393.0, \"death\": 25536.0, \"deathIncrease\": 9.0, \"positiveRate\": 0.014, \"state\": \"New York\", \"sma7d\": 0.012}, {\"date\": \"2020-10-07T00:00:00\", \"totalTestResultsIncrease\": 108246.0, \"positiveIncrease\": 1360.0, \"death\": 25545.0, \"deathIncrease\": 9.0, \"positiveRate\": 0.013, \"state\": \"New York\", \"sma7d\": 0.013}, {\"date\": \"2020-10-08T00:00:00\", \"totalTestResultsIncrease\": 145811.0, \"positiveIncrease\": 1836.0, \"death\": 25555.0, \"deathIncrease\": 10.0, \"positiveRate\": 0.013, \"state\": \"New York\", \"sma7d\": 0.013}, {\"date\": \"2020-10-09T00:00:00\", \"totalTestResultsIncrease\": 139300.0, \"positiveIncrease\": 1592.0, \"death\": 25561.0, \"deathIncrease\": 6.0, \"positiveRate\": 0.011, \"state\": \"New York\", \"sma7d\": 0.012}, {\"date\": \"2020-10-10T00:00:00\", \"totalTestResultsIncrease\": 134579.0, \"positiveIncrease\": 1447.0, \"death\": 25569.0, \"deathIncrease\": 8.0, \"positiveRate\": 0.011, \"state\": \"New York\", \"sma7d\": 0.012}, {\"date\": \"2020-10-11T00:00:00\", \"totalTestResultsIncrease\": 118254.0, \"positiveIncrease\": 1143.0, \"death\": 25574.0, \"deathIncrease\": 5.0, \"positiveRate\": 0.01, \"state\": \"New York\", \"sma7d\": 0.012}, {\"date\": \"2020-10-12T00:00:00\", \"totalTestResultsIncrease\": 91793.0, \"positiveIncrease\": 1029.0, \"death\": 25587.0, \"deathIncrease\": 13.0, \"positiveRate\": 0.011, \"state\": \"New York\", \"sma7d\": 0.012}, {\"date\": \"2020-10-13T00:00:00\", \"totalTestResultsIncrease\": 99070.0, \"positiveIncrease\": 1393.0, \"death\": 25598.0, \"deathIncrease\": 11.0, \"positiveRate\": 0.014, \"state\": \"New York\", \"sma7d\": 0.012}, {\"date\": \"2020-10-14T00:00:00\", \"totalTestResultsIncrease\": 111744.0, \"positiveIncrease\": 1232.0, \"death\": 25605.0, \"deathIncrease\": 7.0, \"positiveRate\": 0.011, \"state\": \"New York\", \"sma7d\": 0.012}, {\"date\": \"2020-10-15T00:00:00\", \"totalTestResultsIncrease\": 133212.0, \"positiveIncrease\": 1460.0, \"death\": 25618.0, \"deathIncrease\": 13.0, \"positiveRate\": 0.011, \"state\": \"New York\", \"sma7d\": 0.011}, {\"date\": \"2020-10-16T00:00:00\", \"totalTestResultsIncrease\": 136039.0, \"positiveIncrease\": 1707.0, \"death\": 25628.0, \"deathIncrease\": 10.0, \"positiveRate\": 0.013, \"state\": \"New York\", \"sma7d\": 0.012}]}}, {\"mode\": \"vega-lite\"});\n",
       "</script>"
      ],
      "text/plain": [
       "alt.LayerChart(...)"
      ]
     },
     "execution_count": 12,
     "metadata": {},
     "output_type": "execute_result"
    }
   ],
   "source": [
    "create_plot(ny, 'positiveRate')"
   ]
  },
  {
   "cell_type": "code",
   "execution_count": 13,
   "metadata": {
    "execution": {
     "iopub.execute_input": "2020-10-16T22:35:00.989016Z",
     "iopub.status.busy": "2020-10-16T22:35:00.988461Z",
     "iopub.status.idle": "2020-10-16T22:35:01.070944Z",
     "shell.execute_reply": "2020-10-16T22:35:01.071330Z"
    },
    "papermill": {
     "duration": 0.112847,
     "end_time": "2020-10-16T22:35:01.071466",
     "exception": false,
     "start_time": "2020-10-16T22:35:00.958619",
     "status": "completed"
    },
    "tags": []
   },
   "outputs": [
    {
     "data": {
      "text/html": [
       "\n",
       "<div id=\"altair-viz-b343a85a52c64ecaa71d6c35a0de92c9\"></div>\n",
       "<script type=\"text/javascript\">\n",
       "  (function(spec, embedOpt){\n",
       "    let outputDiv = document.currentScript.previousElementSibling;\n",
       "    if (outputDiv.id !== \"altair-viz-b343a85a52c64ecaa71d6c35a0de92c9\") {\n",
       "      outputDiv = document.getElementById(\"altair-viz-b343a85a52c64ecaa71d6c35a0de92c9\");\n",
       "    }\n",
       "    const paths = {\n",
       "      \"vega\": \"https://cdn.jsdelivr.net/npm//vega@5?noext\",\n",
       "      \"vega-lib\": \"https://cdn.jsdelivr.net/npm//vega-lib?noext\",\n",
       "      \"vega-lite\": \"https://cdn.jsdelivr.net/npm//vega-lite@4.8.1?noext\",\n",
       "      \"vega-embed\": \"https://cdn.jsdelivr.net/npm//vega-embed@6?noext\",\n",
       "    };\n",
       "\n",
       "    function loadScript(lib) {\n",
       "      return new Promise(function(resolve, reject) {\n",
       "        var s = document.createElement('script');\n",
       "        s.src = paths[lib];\n",
       "        s.async = true;\n",
       "        s.onload = () => resolve(paths[lib]);\n",
       "        s.onerror = () => reject(`Error loading script: ${paths[lib]}`);\n",
       "        document.getElementsByTagName(\"head\")[0].appendChild(s);\n",
       "      });\n",
       "    }\n",
       "\n",
       "    function showError(err) {\n",
       "      outputDiv.innerHTML = `<div class=\"error\" style=\"color:red;\">${err}</div>`;\n",
       "      throw err;\n",
       "    }\n",
       "\n",
       "    function displayChart(vegaEmbed) {\n",
       "      vegaEmbed(outputDiv, spec, embedOpt)\n",
       "        .catch(err => showError(`Javascript Error: ${err.message}<br>This usually means there's a typo in your chart specification. See the javascript console for the full traceback.`));\n",
       "    }\n",
       "\n",
       "    if(typeof define === \"function\" && define.amd) {\n",
       "      requirejs.config({paths});\n",
       "      require([\"vega-embed\"], displayChart, err => showError(`Error loading script: ${err.message}`));\n",
       "    } else if (typeof vegaEmbed === \"function\") {\n",
       "      displayChart(vegaEmbed);\n",
       "    } else {\n",
       "      loadScript(\"vega\")\n",
       "        .then(() => loadScript(\"vega-lite\"))\n",
       "        .then(() => loadScript(\"vega-embed\"))\n",
       "        .catch(showError)\n",
       "        .then(() => displayChart(vegaEmbed));\n",
       "    }\n",
       "  })({\"config\": {\"view\": {\"continuousWidth\": 400, \"continuousHeight\": 300}}, \"layer\": [{\"layer\": [{\"mark\": {\"type\": \"point\", \"size\": 75}, \"encoding\": {\"tooltip\": [{\"type\": \"temporal\", \"field\": \"date\"}, {\"type\": \"quantitative\", \"field\": \"deathIncrease\"}, {\"type\": \"quantitative\", \"field\": \"sma7d\"}], \"x\": {\"type\": \"temporal\", \"field\": \"date\"}, \"y\": {\"type\": \"quantitative\", \"field\": \"deathIncrease\"}}, \"selection\": {\"selector012\": {\"type\": \"interval\", \"bind\": \"scales\", \"encodings\": [\"x\", \"y\"]}}}, {\"mark\": {\"type\": \"line\", \"color\": \"purple\"}, \"encoding\": {\"x\": {\"type\": \"temporal\", \"field\": \"date\"}, \"y\": {\"type\": \"quantitative\", \"field\": \"sma7d\"}}}]}, {\"mark\": {\"type\": \"rule\", \"color\": \"#aaa\"}, \"encoding\": {\"x\": {\"type\": \"temporal\", \"field\": \"date\"}}, \"transform\": [{\"filter\": {\"selection\": \"selector011\"}}]}, {\"mark\": \"circle\", \"encoding\": {\"opacity\": {\"condition\": {\"value\": 1, \"selection\": \"selector011\"}, \"value\": 0}, \"tooltip\": [{\"type\": \"temporal\", \"field\": \"date\"}, {\"type\": \"quantitative\", \"field\": \"deathIncrease\"}, {\"type\": \"quantitative\", \"field\": \"sma7d\"}], \"x\": {\"type\": \"temporal\", \"field\": \"date\"}, \"y\": {\"type\": \"quantitative\", \"field\": \"deathIncrease\"}}, \"selection\": {\"selector011\": {\"type\": \"single\", \"encodings\": [\"x\"], \"on\": \"mouseover\", \"nearest\": true, \"empty\": \"none\"}}}, {\"mark\": {\"type\": \"text\", \"align\": \"left\", \"dx\": 5, \"dy\": -5, \"stroke\": \"white\", \"strokeWidth\": 2}, \"encoding\": {\"text\": {\"type\": \"quantitative\", \"field\": \"deathIncrease\"}, \"tooltip\": [{\"type\": \"temporal\", \"field\": \"date\"}, {\"type\": \"quantitative\", \"field\": \"deathIncrease\"}, {\"type\": \"quantitative\", \"field\": \"sma7d\"}], \"x\": {\"type\": \"temporal\", \"field\": \"date\"}, \"y\": {\"type\": \"quantitative\", \"field\": \"deathIncrease\"}}, \"transform\": [{\"filter\": {\"selection\": \"selector011\"}}]}, {\"mark\": {\"type\": \"text\", \"align\": \"left\", \"dx\": 5, \"dy\": -5}, \"encoding\": {\"text\": {\"type\": \"quantitative\", \"field\": \"deathIncrease\"}, \"tooltip\": [{\"type\": \"temporal\", \"field\": \"date\"}, {\"type\": \"quantitative\", \"field\": \"deathIncrease\"}, {\"type\": \"quantitative\", \"field\": \"sma7d\"}], \"x\": {\"type\": \"temporal\", \"field\": \"date\"}, \"y\": {\"type\": \"quantitative\", \"field\": \"deathIncrease\"}}, \"transform\": [{\"filter\": {\"selection\": \"selector011\"}}]}], \"data\": {\"name\": \"data-8f082f7467f0197c528b1d34d2c54ff6\"}, \"height\": 400, \"title\": \"New York: deathIncrease\", \"width\": 500, \"$schema\": \"https://vega.github.io/schema/vega-lite/v4.8.1.json\", \"datasets\": {\"data-8f082f7467f0197c528b1d34d2c54ff6\": [{\"date\": \"2020-08-22T00:00:00\", \"totalTestResultsIncrease\": 94849.0, \"positiveIncrease\": 653.0, \"death\": 25282.0, \"deathIncrease\": 4.0, \"positiveRate\": 0.007, \"state\": \"New York\", \"sma7d\": 5.429}, {\"date\": \"2020-08-23T00:00:00\", \"totalTestResultsIncrease\": 74043.0, \"positiveIncrease\": 572.0, \"death\": 25288.0, \"deathIncrease\": 6.0, \"positiveRate\": 0.008, \"state\": \"New York\", \"sma7d\": 5.429}, {\"date\": \"2020-08-24T00:00:00\", \"totalTestResultsIncrease\": 62031.0, \"positiveIncrease\": 408.0, \"death\": 25295.0, \"deathIncrease\": 7.0, \"positiveRate\": 0.007, \"state\": \"New York\", \"sma7d\": 5.571}, {\"date\": \"2020-08-25T00:00:00\", \"totalTestResultsIncrease\": 67255.0, \"positiveIncrease\": 629.0, \"death\": 25297.0, \"deathIncrease\": 2.0, \"positiveRate\": 0.009, \"state\": \"New York\", \"sma7d\": 4.714}, {\"date\": \"2020-08-26T00:00:00\", \"totalTestResultsIncrease\": 71189.0, \"positiveIncrease\": 566.0, \"death\": 25305.0, \"deathIncrease\": 8.0, \"positiveRate\": 0.008, \"state\": \"New York\", \"sma7d\": 5.0}, {\"date\": \"2020-08-27T00:00:00\", \"totalTestResultsIncrease\": 83437.0, \"positiveIncrease\": 791.0, \"death\": 25309.0, \"deathIncrease\": 4.0, \"positiveRate\": 0.009, \"state\": \"New York\", \"sma7d\": 4.857}, {\"date\": \"2020-08-28T00:00:00\", \"totalTestResultsIncrease\": 97826.0, \"positiveIncrease\": 636.0, \"death\": 25312.0, \"deathIncrease\": 3.0, \"positiveRate\": 0.007, \"state\": \"New York\", \"sma7d\": 4.857}, {\"date\": \"2020-08-29T00:00:00\", \"totalTestResultsIncrease\": 93873.0, \"positiveIncrease\": 635.0, \"death\": 25319.0, \"deathIncrease\": 7.0, \"positiveRate\": 0.007, \"state\": \"New York\", \"sma7d\": 5.286}, {\"date\": \"2020-08-30T00:00:00\", \"totalTestResultsIncrease\": 100022.0, \"positiveIncrease\": 698.0, \"death\": 25327.0, \"deathIncrease\": 8.0, \"positiveRate\": 0.007, \"state\": \"New York\", \"sma7d\": 5.571}, {\"date\": \"2020-08-31T00:00:00\", \"totalTestResultsIncrease\": 66241.0, \"positiveIncrease\": 656.0, \"death\": 25328.0, \"deathIncrease\": 1.0, \"positiveRate\": 0.01, \"state\": \"New York\", \"sma7d\": 4.714}, {\"date\": \"2020-09-01T00:00:00\", \"totalTestResultsIncrease\": 76997.0, \"positiveIncrease\": 754.0, \"death\": 25331.0, \"deathIncrease\": 3.0, \"positiveRate\": 0.01, \"state\": \"New York\", \"sma7d\": 4.857}, {\"date\": \"2020-09-02T00:00:00\", \"totalTestResultsIncrease\": 88447.0, \"positiveIncrease\": 708.0, \"death\": 25336.0, \"deathIncrease\": 5.0, \"positiveRate\": 0.008, \"state\": \"New York\", \"sma7d\": 4.429}, {\"date\": \"2020-09-03T00:00:00\", \"totalTestResultsIncrease\": 88981.0, \"positiveIncrease\": 889.0, \"death\": 25343.0, \"deathIncrease\": 7.0, \"positiveRate\": 0.01, \"state\": \"New York\", \"sma7d\": 4.857}, {\"date\": \"2020-09-04T00:00:00\", \"totalTestResultsIncrease\": 93395.0, \"positiveIncrease\": 864.0, \"death\": 25348.0, \"deathIncrease\": 5.0, \"positiveRate\": 0.009, \"state\": \"New York\", \"sma7d\": 5.143}, {\"date\": \"2020-09-05T00:00:00\", \"totalTestResultsIncrease\": 99761.0, \"positiveIncrease\": 801.0, \"death\": 25350.0, \"deathIncrease\": 2.0, \"positiveRate\": 0.008, \"state\": \"New York\", \"sma7d\": 4.429}, {\"date\": \"2020-09-06T00:00:00\", \"totalTestResultsIncrease\": 85630.0, \"positiveIncrease\": 729.0, \"death\": 25359.0, \"deathIncrease\": 9.0, \"positiveRate\": 0.009, \"state\": \"New York\", \"sma7d\": 4.571}, {\"date\": \"2020-09-07T00:00:00\", \"totalTestResultsIncrease\": 58865.0, \"positiveIncrease\": 520.0, \"death\": 25361.0, \"deathIncrease\": 2.0, \"positiveRate\": 0.009, \"state\": \"New York\", \"sma7d\": 4.714}, {\"date\": \"2020-09-08T00:00:00\", \"totalTestResultsIncrease\": 57826.0, \"positiveIncrease\": 557.0, \"death\": 25367.0, \"deathIncrease\": 6.0, \"positiveRate\": 0.01, \"state\": \"New York\", \"sma7d\": 5.143}, {\"date\": \"2020-09-09T00:00:00\", \"totalTestResultsIncrease\": 63230.0, \"positiveIncrease\": 576.0, \"death\": 25370.0, \"deathIncrease\": 3.0, \"positiveRate\": 0.009, \"state\": \"New York\", \"sma7d\": 4.857}, {\"date\": \"2020-09-10T00:00:00\", \"totalTestResultsIncrease\": 76813.0, \"positiveIncrease\": 757.0, \"death\": 25377.0, \"deathIncrease\": 7.0, \"positiveRate\": 0.01, \"state\": \"New York\", \"sma7d\": 4.857}, {\"date\": \"2020-09-11T00:00:00\", \"totalTestResultsIncrease\": 89722.0, \"positiveIncrease\": 880.0, \"death\": 25382.0, \"deathIncrease\": 5.0, \"positiveRate\": 0.01, \"state\": \"New York\", \"sma7d\": 4.857}, {\"date\": \"2020-09-12T00:00:00\", \"totalTestResultsIncrease\": 102925.0, \"positiveIncrease\": 849.0, \"death\": 25384.0, \"deathIncrease\": 2.0, \"positiveRate\": 0.008, \"state\": \"New York\", \"sma7d\": 4.857}, {\"date\": \"2020-09-13T00:00:00\", \"totalTestResultsIncrease\": 72668.0, \"positiveIncrease\": 725.0, \"death\": 25390.0, \"deathIncrease\": 6.0, \"positiveRate\": 0.01, \"state\": \"New York\", \"sma7d\": 4.429}, {\"date\": \"2020-09-14T00:00:00\", \"totalTestResultsIncrease\": 63358.0, \"positiveIncrease\": 583.0, \"death\": 25394.0, \"deathIncrease\": 4.0, \"positiveRate\": 0.009, \"state\": \"New York\", \"sma7d\": 4.714}, {\"date\": \"2020-09-15T00:00:00\", \"totalTestResultsIncrease\": 73678.0, \"positiveIncrease\": 766.0, \"death\": 25405.0, \"deathIncrease\": 11.0, \"positiveRate\": 0.01, \"state\": \"New York\", \"sma7d\": 5.429}, {\"date\": \"2020-09-16T00:00:00\", \"totalTestResultsIncrease\": 75087.0, \"positiveIncrease\": 652.0, \"death\": 25410.0, \"deathIncrease\": 5.0, \"positiveRate\": 0.009, \"state\": \"New York\", \"sma7d\": 5.714}, {\"date\": \"2020-09-17T00:00:00\", \"totalTestResultsIncrease\": 91504.0, \"positiveIncrease\": 896.0, \"death\": 25413.0, \"deathIncrease\": 3.0, \"positiveRate\": 0.01, \"state\": \"New York\", \"sma7d\": 5.143}, {\"date\": \"2020-09-18T00:00:00\", \"totalTestResultsIncrease\": 89727.0, \"positiveIncrease\": 790.0, \"death\": 25423.0, \"deathIncrease\": 10.0, \"positiveRate\": 0.009, \"state\": \"New York\", \"sma7d\": 5.857}, {\"date\": \"2020-09-19T00:00:00\", \"totalTestResultsIncrease\": 110444.0, \"positiveIncrease\": 986.0, \"death\": 25425.0, \"deathIncrease\": 2.0, \"positiveRate\": 0.009, \"state\": \"New York\", \"sma7d\": 5.857}, {\"date\": \"2020-09-20T00:00:00\", \"totalTestResultsIncrease\": 100355.0, \"positiveIncrease\": 862.0, \"death\": 25427.0, \"deathIncrease\": 2.0, \"positiveRate\": 0.009, \"state\": \"New York\", \"sma7d\": 5.286}, {\"date\": \"2020-09-21T00:00:00\", \"totalTestResultsIncrease\": 58319.0, \"positiveIncrease\": 573.0, \"death\": 25428.0, \"deathIncrease\": 1.0, \"positiveRate\": 0.01, \"state\": \"New York\", \"sma7d\": 4.857}, {\"date\": \"2020-09-22T00:00:00\", \"totalTestResultsIncrease\": 83997.0, \"positiveIncrease\": 754.0, \"death\": 25432.0, \"deathIncrease\": 4.0, \"positiveRate\": 0.009, \"state\": \"New York\", \"sma7d\": 3.857}, {\"date\": \"2020-09-23T00:00:00\", \"totalTestResultsIncrease\": 70930.0, \"positiveIncrease\": 665.0, \"death\": 25437.0, \"deathIncrease\": 5.0, \"positiveRate\": 0.009, \"state\": \"New York\", \"sma7d\": 3.857}, {\"date\": \"2020-09-24T00:00:00\", \"totalTestResultsIncrease\": 92953.0, \"positiveIncrease\": 955.0, \"death\": 25439.0, \"deathIncrease\": 2.0, \"positiveRate\": 0.01, \"state\": \"New York\", \"sma7d\": 3.714}, {\"date\": \"2020-09-25T00:00:00\", \"totalTestResultsIncrease\": 94818.0, \"positiveIncrease\": 908.0, \"death\": 25446.0, \"deathIncrease\": 7.0, \"positiveRate\": 0.01, \"state\": \"New York\", \"sma7d\": 3.286}, {\"date\": \"2020-09-26T00:00:00\", \"totalTestResultsIncrease\": 99953.0, \"positiveIncrease\": 1005.0, \"death\": 25450.0, \"deathIncrease\": 4.0, \"positiveRate\": 0.01, \"state\": \"New York\", \"sma7d\": 3.571}, {\"date\": \"2020-09-27T00:00:00\", \"totalTestResultsIncrease\": 84770.0, \"positiveIncrease\": 866.0, \"death\": 25456.0, \"deathIncrease\": 6.0, \"positiveRate\": 0.01, \"state\": \"New York\", \"sma7d\": 4.143}, {\"date\": \"2020-09-28T00:00:00\", \"totalTestResultsIncrease\": 52936.0, \"positiveIncrease\": 834.0, \"death\": 25468.0, \"deathIncrease\": 12.0, \"positiveRate\": 0.016, \"state\": \"New York\", \"sma7d\": 5.714}, {\"date\": \"2020-09-29T00:00:00\", \"totalTestResultsIncrease\": 88231.0, \"positiveIncrease\": 1189.0, \"death\": 25470.0, \"deathIncrease\": 2.0, \"positiveRate\": 0.013, \"state\": \"New York\", \"sma7d\": 5.429}, {\"date\": \"2020-09-30T00:00:00\", \"totalTestResultsIncrease\": 97960.0, \"positiveIncrease\": 1000.0, \"death\": 25479.0, \"deathIncrease\": 9.0, \"positiveRate\": 0.01, \"state\": \"New York\", \"sma7d\": 6.0}, {\"date\": \"2020-10-01T00:00:00\", \"totalTestResultsIncrease\": 109218.0, \"positiveIncrease\": 1382.0, \"death\": 25490.0, \"deathIncrease\": 11.0, \"positiveRate\": 0.013, \"state\": \"New York\", \"sma7d\": 7.286}, {\"date\": \"2020-10-02T00:00:00\", \"totalTestResultsIncrease\": 119493.0, \"positiveIncrease\": 1598.0, \"death\": 25497.0, \"deathIncrease\": 7.0, \"positiveRate\": 0.013, \"state\": \"New York\", \"sma7d\": 7.286}, {\"date\": \"2020-10-03T00:00:00\", \"totalTestResultsIncrease\": 134267.0, \"positiveIncrease\": 1731.0, \"death\": 25505.0, \"deathIncrease\": 8.0, \"positiveRate\": 0.013, \"state\": \"New York\", \"sma7d\": 7.857}, {\"date\": \"2020-10-04T00:00:00\", \"totalTestResultsIncrease\": 110329.0, \"positiveIncrease\": 1222.0, \"death\": 25519.0, \"deathIncrease\": 14.0, \"positiveRate\": 0.011, \"state\": \"New York\", \"sma7d\": 9.0}, {\"date\": \"2020-10-05T00:00:00\", \"totalTestResultsIncrease\": 76404.0, \"positiveIncrease\": 933.0, \"death\": 25527.0, \"deathIncrease\": 8.0, \"positiveRate\": 0.012, \"state\": \"New York\", \"sma7d\": 8.429}, {\"date\": \"2020-10-06T00:00:00\", \"totalTestResultsIncrease\": 96359.0, \"positiveIncrease\": 1393.0, \"death\": 25536.0, \"deathIncrease\": 9.0, \"positiveRate\": 0.014, \"state\": \"New York\", \"sma7d\": 9.429}, {\"date\": \"2020-10-07T00:00:00\", \"totalTestResultsIncrease\": 108246.0, \"positiveIncrease\": 1360.0, \"death\": 25545.0, \"deathIncrease\": 9.0, \"positiveRate\": 0.013, \"state\": \"New York\", \"sma7d\": 9.429}, {\"date\": \"2020-10-08T00:00:00\", \"totalTestResultsIncrease\": 145811.0, \"positiveIncrease\": 1836.0, \"death\": 25555.0, \"deathIncrease\": 10.0, \"positiveRate\": 0.013, \"state\": \"New York\", \"sma7d\": 9.286}, {\"date\": \"2020-10-09T00:00:00\", \"totalTestResultsIncrease\": 139300.0, \"positiveIncrease\": 1592.0, \"death\": 25561.0, \"deathIncrease\": 6.0, \"positiveRate\": 0.011, \"state\": \"New York\", \"sma7d\": 9.143}, {\"date\": \"2020-10-10T00:00:00\", \"totalTestResultsIncrease\": 134579.0, \"positiveIncrease\": 1447.0, \"death\": 25569.0, \"deathIncrease\": 8.0, \"positiveRate\": 0.011, \"state\": \"New York\", \"sma7d\": 9.143}, {\"date\": \"2020-10-11T00:00:00\", \"totalTestResultsIncrease\": 118254.0, \"positiveIncrease\": 1143.0, \"death\": 25574.0, \"deathIncrease\": 5.0, \"positiveRate\": 0.01, \"state\": \"New York\", \"sma7d\": 7.857}, {\"date\": \"2020-10-12T00:00:00\", \"totalTestResultsIncrease\": 91793.0, \"positiveIncrease\": 1029.0, \"death\": 25587.0, \"deathIncrease\": 13.0, \"positiveRate\": 0.011, \"state\": \"New York\", \"sma7d\": 8.571}, {\"date\": \"2020-10-13T00:00:00\", \"totalTestResultsIncrease\": 99070.0, \"positiveIncrease\": 1393.0, \"death\": 25598.0, \"deathIncrease\": 11.0, \"positiveRate\": 0.014, \"state\": \"New York\", \"sma7d\": 8.857}, {\"date\": \"2020-10-14T00:00:00\", \"totalTestResultsIncrease\": 111744.0, \"positiveIncrease\": 1232.0, \"death\": 25605.0, \"deathIncrease\": 7.0, \"positiveRate\": 0.011, \"state\": \"New York\", \"sma7d\": 8.571}, {\"date\": \"2020-10-15T00:00:00\", \"totalTestResultsIncrease\": 133212.0, \"positiveIncrease\": 1460.0, \"death\": 25618.0, \"deathIncrease\": 13.0, \"positiveRate\": 0.011, \"state\": \"New York\", \"sma7d\": 9.0}, {\"date\": \"2020-10-16T00:00:00\", \"totalTestResultsIncrease\": 136039.0, \"positiveIncrease\": 1707.0, \"death\": 25628.0, \"deathIncrease\": 10.0, \"positiveRate\": 0.013, \"state\": \"New York\", \"sma7d\": 9.571}]}}, {\"mode\": \"vega-lite\"});\n",
       "</script>"
      ],
      "text/plain": [
       "alt.LayerChart(...)"
      ]
     },
     "execution_count": 13,
     "metadata": {},
     "output_type": "execute_result"
    }
   ],
   "source": [
    "create_plot(ny, 'deathIncrease')"
   ]
  },
  {
   "cell_type": "markdown",
   "metadata": {
    "papermill": {
     "duration": 0.016612,
     "end_time": "2020-10-16T22:35:01.104640",
     "exception": false,
     "start_time": "2020-10-16T22:35:01.088028",
     "status": "completed"
    },
    "tags": []
   },
   "source": [
    "## Non Tri-State"
   ]
  },
  {
   "cell_type": "code",
   "execution_count": 14,
   "metadata": {
    "execution": {
     "iopub.execute_input": "2020-10-16T22:35:01.141591Z",
     "iopub.status.busy": "2020-10-16T22:35:01.141042Z",
     "iopub.status.idle": "2020-10-16T22:35:01.451402Z",
     "shell.execute_reply": "2020-10-16T22:35:01.451877Z"
    },
    "papermill": {
     "duration": 0.331158,
     "end_time": "2020-10-16T22:35:01.452054",
     "exception": false,
     "start_time": "2020-10-16T22:35:01.120896",
     "status": "completed"
    },
    "tags": []
   },
   "outputs": [],
   "source": [
    "non_tristate = create_df(df, lambda d: ~d['state'].isin(['CT','NJ','NY']), 'Non Tri-State')"
   ]
  },
  {
   "cell_type": "code",
   "execution_count": 15,
   "metadata": {
    "execution": {
     "iopub.execute_input": "2020-10-16T22:35:01.490528Z",
     "iopub.status.busy": "2020-10-16T22:35:01.489988Z",
     "iopub.status.idle": "2020-10-16T22:35:01.581261Z",
     "shell.execute_reply": "2020-10-16T22:35:01.581940Z"
    },
    "papermill": {
     "duration": 0.112986,
     "end_time": "2020-10-16T22:35:01.582088",
     "exception": false,
     "start_time": "2020-10-16T22:35:01.469102",
     "status": "completed"
    },
    "tags": []
   },
   "outputs": [
    {
     "data": {
      "text/html": [
       "\n",
       "<div id=\"altair-viz-108a0e149d414750931f78b97aad63af\"></div>\n",
       "<script type=\"text/javascript\">\n",
       "  (function(spec, embedOpt){\n",
       "    let outputDiv = document.currentScript.previousElementSibling;\n",
       "    if (outputDiv.id !== \"altair-viz-108a0e149d414750931f78b97aad63af\") {\n",
       "      outputDiv = document.getElementById(\"altair-viz-108a0e149d414750931f78b97aad63af\");\n",
       "    }\n",
       "    const paths = {\n",
       "      \"vega\": \"https://cdn.jsdelivr.net/npm//vega@5?noext\",\n",
       "      \"vega-lib\": \"https://cdn.jsdelivr.net/npm//vega-lib?noext\",\n",
       "      \"vega-lite\": \"https://cdn.jsdelivr.net/npm//vega-lite@4.8.1?noext\",\n",
       "      \"vega-embed\": \"https://cdn.jsdelivr.net/npm//vega-embed@6?noext\",\n",
       "    };\n",
       "\n",
       "    function loadScript(lib) {\n",
       "      return new Promise(function(resolve, reject) {\n",
       "        var s = document.createElement('script');\n",
       "        s.src = paths[lib];\n",
       "        s.async = true;\n",
       "        s.onload = () => resolve(paths[lib]);\n",
       "        s.onerror = () => reject(`Error loading script: ${paths[lib]}`);\n",
       "        document.getElementsByTagName(\"head\")[0].appendChild(s);\n",
       "      });\n",
       "    }\n",
       "\n",
       "    function showError(err) {\n",
       "      outputDiv.innerHTML = `<div class=\"error\" style=\"color:red;\">${err}</div>`;\n",
       "      throw err;\n",
       "    }\n",
       "\n",
       "    function displayChart(vegaEmbed) {\n",
       "      vegaEmbed(outputDiv, spec, embedOpt)\n",
       "        .catch(err => showError(`Javascript Error: ${err.message}<br>This usually means there's a typo in your chart specification. See the javascript console for the full traceback.`));\n",
       "    }\n",
       "\n",
       "    if(typeof define === \"function\" && define.amd) {\n",
       "      requirejs.config({paths});\n",
       "      require([\"vega-embed\"], displayChart, err => showError(`Error loading script: ${err.message}`));\n",
       "    } else if (typeof vegaEmbed === \"function\") {\n",
       "      displayChart(vegaEmbed);\n",
       "    } else {\n",
       "      loadScript(\"vega\")\n",
       "        .then(() => loadScript(\"vega-lite\"))\n",
       "        .then(() => loadScript(\"vega-embed\"))\n",
       "        .catch(showError)\n",
       "        .then(() => displayChart(vegaEmbed));\n",
       "    }\n",
       "  })({\"config\": {\"view\": {\"continuousWidth\": 400, \"continuousHeight\": 300}}, \"layer\": [{\"layer\": [{\"mark\": {\"type\": \"point\", \"size\": 75}, \"encoding\": {\"tooltip\": [{\"type\": \"temporal\", \"field\": \"date\"}, {\"type\": \"quantitative\", \"field\": \"positiveIncrease\"}, {\"type\": \"quantitative\", \"field\": \"sma7d\"}], \"x\": {\"type\": \"temporal\", \"field\": \"date\"}, \"y\": {\"type\": \"quantitative\", \"field\": \"positiveIncrease\"}}, \"selection\": {\"selector014\": {\"type\": \"interval\", \"bind\": \"scales\", \"encodings\": [\"x\", \"y\"]}}}, {\"mark\": {\"type\": \"line\", \"color\": \"purple\"}, \"encoding\": {\"x\": {\"type\": \"temporal\", \"field\": \"date\"}, \"y\": {\"type\": \"quantitative\", \"field\": \"sma7d\"}}}]}, {\"mark\": {\"type\": \"rule\", \"color\": \"#aaa\"}, \"encoding\": {\"x\": {\"type\": \"temporal\", \"field\": \"date\"}}, \"transform\": [{\"filter\": {\"selection\": \"selector013\"}}]}, {\"mark\": \"circle\", \"encoding\": {\"opacity\": {\"condition\": {\"value\": 1, \"selection\": \"selector013\"}, \"value\": 0}, \"tooltip\": [{\"type\": \"temporal\", \"field\": \"date\"}, {\"type\": \"quantitative\", \"field\": \"positiveIncrease\"}, {\"type\": \"quantitative\", \"field\": \"sma7d\"}], \"x\": {\"type\": \"temporal\", \"field\": \"date\"}, \"y\": {\"type\": \"quantitative\", \"field\": \"positiveIncrease\"}}, \"selection\": {\"selector013\": {\"type\": \"single\", \"encodings\": [\"x\"], \"on\": \"mouseover\", \"nearest\": true, \"empty\": \"none\"}}}, {\"mark\": {\"type\": \"text\", \"align\": \"left\", \"dx\": 5, \"dy\": -5, \"stroke\": \"white\", \"strokeWidth\": 2}, \"encoding\": {\"text\": {\"type\": \"quantitative\", \"field\": \"positiveIncrease\"}, \"tooltip\": [{\"type\": \"temporal\", \"field\": \"date\"}, {\"type\": \"quantitative\", \"field\": \"positiveIncrease\"}, {\"type\": \"quantitative\", \"field\": \"sma7d\"}], \"x\": {\"type\": \"temporal\", \"field\": \"date\"}, \"y\": {\"type\": \"quantitative\", \"field\": \"positiveIncrease\"}}, \"transform\": [{\"filter\": {\"selection\": \"selector013\"}}]}, {\"mark\": {\"type\": \"text\", \"align\": \"left\", \"dx\": 5, \"dy\": -5}, \"encoding\": {\"text\": {\"type\": \"quantitative\", \"field\": \"positiveIncrease\"}, \"tooltip\": [{\"type\": \"temporal\", \"field\": \"date\"}, {\"type\": \"quantitative\", \"field\": \"positiveIncrease\"}, {\"type\": \"quantitative\", \"field\": \"sma7d\"}], \"x\": {\"type\": \"temporal\", \"field\": \"date\"}, \"y\": {\"type\": \"quantitative\", \"field\": \"positiveIncrease\"}}, \"transform\": [{\"filter\": {\"selection\": \"selector013\"}}]}], \"data\": {\"name\": \"data-79f7f1f531f0705638ad8b7f80177d14\"}, \"height\": 400, \"title\": \"Non Tri-State: positiveIncrease\", \"width\": 500, \"$schema\": \"https://vega.github.io/schema/vega-lite/v4.8.1.json\", \"datasets\": {\"data-79f7f1f531f0705638ad8b7f80177d14\": [{\"date\": \"2020-08-22T00:00:00\", \"totalTestResultsIncrease\": 680088.0, \"positiveIncrease\": 45164.0, \"death\": 122606.0, \"deathIncrease\": 1023.0, \"positiveRate\": 0.066, \"state\": \"Non Tri-State\", \"sma7d\": 42284.571}, {\"date\": \"2020-08-23T00:00:00\", \"totalTestResultsIncrease\": 592881.0, \"positiveIncrease\": 36736.0, \"death\": 123169.0, \"deathIncrease\": 563.0, \"positiveRate\": 0.062, \"state\": \"Non Tri-State\", \"sma7d\": 41551.571}, {\"date\": \"2020-08-24T00:00:00\", \"totalTestResultsIncrease\": 568311.0, \"positiveIncrease\": 33518.0, \"death\": 123502.0, \"deathIncrease\": 333.0, \"positiveRate\": 0.059, \"state\": \"Non Tri-State\", \"sma7d\": 41084.143}, {\"date\": \"2020-08-25T00:00:00\", \"totalTestResultsIncrease\": 581284.0, \"positiveIncrease\": 35419.0, \"death\": 124640.0, \"deathIncrease\": 1138.0, \"positiveRate\": 0.061, \"state\": \"Non Tri-State\", \"sma7d\": 40455.286}, {\"date\": \"2020-08-26T00:00:00\", \"totalTestResultsIncrease\": 574708.0, \"positiveIncrease\": 43022.0, \"death\": 125920.0, \"deathIncrease\": 1280.0, \"positiveRate\": 0.075, \"state\": \"Non Tri-State\", \"sma7d\": 40324.714}, {\"date\": \"2020-08-27T00:00:00\", \"totalTestResultsIncrease\": 678709.0, \"positiveIncrease\": 42756.0, \"death\": 127036.0, \"deathIncrease\": 1116.0, \"positiveRate\": 0.063, \"state\": \"Non Tri-State\", \"sma7d\": 40298.571}, {\"date\": \"2020-08-28T00:00:00\", \"totalTestResultsIncrease\": 722948.0, \"positiveIncrease\": 45409.0, \"death\": 128047.0, \"deathIncrease\": 1011.0, \"positiveRate\": 0.063, \"state\": \"Non Tri-State\", \"sma7d\": 40289.143}, {\"date\": \"2020-08-29T00:00:00\", \"totalTestResultsIncrease\": 679672.0, \"positiveIncrease\": 43517.0, \"death\": 129052.0, \"deathIncrease\": 1005.0, \"positiveRate\": 0.064, \"state\": \"Non Tri-State\", \"sma7d\": 40053.857}, {\"date\": \"2020-08-30T00:00:00\", \"totalTestResultsIncrease\": 660647.0, \"positiveIncrease\": 38512.0, \"death\": 129515.0, \"deathIncrease\": 463.0, \"positiveRate\": 0.058, \"state\": \"Non Tri-State\", \"sma7d\": 40307.571}, {\"date\": \"2020-08-31T00:00:00\", \"totalTestResultsIncrease\": 583322.0, \"positiveIncrease\": 30017.0, \"death\": 129872.0, \"deathIncrease\": 357.0, \"positiveRate\": 0.051, \"state\": \"Non Tri-State\", \"sma7d\": 39807.429}, {\"date\": \"2020-09-01T00:00:00\", \"totalTestResultsIncrease\": 643789.0, \"positiveIncrease\": 41222.0, \"death\": 130890.0, \"deathIncrease\": 1018.0, \"positiveRate\": 0.064, \"state\": \"Non Tri-State\", \"sma7d\": 40636.429}, {\"date\": \"2020-09-02T00:00:00\", \"totalTestResultsIncrease\": 546801.0, \"positiveIncrease\": 29488.0, \"death\": 131905.0, \"deathIncrease\": 1015.0, \"positiveRate\": 0.054, \"state\": \"Non Tri-State\", \"sma7d\": 38703.0}, {\"date\": \"2020-09-03T00:00:00\", \"totalTestResultsIncrease\": 684533.0, \"positiveIncrease\": 43346.0, \"death\": 132960.0, \"deathIncrease\": 1055.0, \"positiveRate\": 0.063, \"state\": \"Non Tri-State\", \"sma7d\": 38787.286}, {\"date\": \"2020-09-04T00:00:00\", \"totalTestResultsIncrease\": 822695.0, \"positiveIncrease\": 50122.0, \"death\": 133946.0, \"deathIncrease\": 986.0, \"positiveRate\": 0.061, \"state\": \"Non Tri-State\", \"sma7d\": 39460.571}, {\"date\": \"2020-09-05T00:00:00\", \"totalTestResultsIncrease\": 798213.0, \"positiveIncrease\": 43779.0, \"death\": 134855.0, \"deathIncrease\": 909.0, \"positiveRate\": 0.055, \"state\": \"Non Tri-State\", \"sma7d\": 39498.0}, {\"date\": \"2020-09-06T00:00:00\", \"totalTestResultsIncrease\": 670218.0, \"positiveIncrease\": 32077.0, \"death\": 135291.0, \"deathIncrease\": 436.0, \"positiveRate\": 0.048, \"state\": \"Non Tri-State\", \"sma7d\": 38578.714}, {\"date\": \"2020-09-07T00:00:00\", \"totalTestResultsIncrease\": 517998.0, \"positiveIncrease\": 27830.0, \"death\": 135512.0, \"deathIncrease\": 221.0, \"positiveRate\": 0.054, \"state\": \"Non Tri-State\", \"sma7d\": 38266.286}, {\"date\": \"2020-09-08T00:00:00\", \"totalTestResultsIncrease\": 427156.0, \"positiveIncrease\": 20972.0, \"death\": 135853.0, \"deathIncrease\": 341.0, \"positiveRate\": 0.049, \"state\": \"Non Tri-State\", \"sma7d\": 35373.429}, {\"date\": \"2020-09-09T00:00:00\", \"totalTestResultsIncrease\": 545043.0, \"positiveIncrease\": 30126.0, \"death\": 136926.0, \"deathIncrease\": 1073.0, \"positiveRate\": 0.055, \"state\": \"Non Tri-State\", \"sma7d\": 35464.571}, {\"date\": \"2020-09-10T00:00:00\", \"totalTestResultsIncrease\": 592423.0, \"positiveIncrease\": 36178.0, \"death\": 138080.0, \"deathIncrease\": 1154.0, \"positiveRate\": 0.061, \"state\": \"Non Tri-State\", \"sma7d\": 34440.571}, {\"date\": \"2020-09-11T00:00:00\", \"totalTestResultsIncrease\": 709775.0, \"positiveIncrease\": 43340.0, \"death\": 139082.0, \"deathIncrease\": 1002.0, \"positiveRate\": 0.061, \"state\": \"Non Tri-State\", \"sma7d\": 33471.714}, {\"date\": \"2020-09-12T00:00:00\", \"totalTestResultsIncrease\": 826199.0, \"positiveIncrease\": 40792.0, \"death\": 139886.0, \"deathIncrease\": 804.0, \"positiveRate\": 0.049, \"state\": \"Non Tri-State\", \"sma7d\": 33045.0}, {\"date\": \"2020-09-13T00:00:00\", \"totalTestResultsIncrease\": 645782.0, \"positiveIncrease\": 33431.0, \"death\": 140265.0, \"deathIncrease\": 379.0, \"positiveRate\": 0.052, \"state\": \"Non Tri-State\", \"sma7d\": 33238.429}, {\"date\": \"2020-09-14T00:00:00\", \"totalTestResultsIncrease\": 327710.0, \"positiveIncrease\": 32378.0, \"death\": 140656.0, \"deathIncrease\": 391.0, \"positiveRate\": 0.099, \"state\": \"Non Tri-State\", \"sma7d\": 33888.143}, {\"date\": \"2020-09-15T00:00:00\", \"totalTestResultsIncrease\": 634699.0, \"positiveIncrease\": 34107.0, \"death\": 141667.0, \"deathIncrease\": 1011.0, \"positiveRate\": 0.054, \"state\": \"Non Tri-State\", \"sma7d\": 35764.571}, {\"date\": \"2020-09-16T00:00:00\", \"totalTestResultsIncrease\": 646891.0, \"positiveIncrease\": 38846.0, \"death\": 142851.0, \"deathIncrease\": 1184.0, \"positiveRate\": 0.06, \"state\": \"Non Tri-State\", \"sma7d\": 37010.286}, {\"date\": \"2020-09-17T00:00:00\", \"totalTestResultsIncrease\": 730243.0, \"positiveIncrease\": 41873.0, \"death\": 143707.0, \"deathIncrease\": 856.0, \"positiveRate\": 0.057, \"state\": \"Non Tri-State\", \"sma7d\": 37823.857}, {\"date\": \"2020-09-18T00:00:00\", \"totalTestResultsIncrease\": 874788.0, \"positiveIncrease\": 46068.0, \"death\": 144590.0, \"deathIncrease\": 883.0, \"positiveRate\": 0.053, \"state\": \"Non Tri-State\", \"sma7d\": 38213.571}, {\"date\": \"2020-09-19T00:00:00\", \"totalTestResultsIncrease\": 979055.0, \"positiveIncrease\": 44117.0, \"death\": 145325.0, \"deathIncrease\": 735.0, \"positiveRate\": 0.045, \"state\": \"Non Tri-State\", \"sma7d\": 38688.571}, {\"date\": \"2020-09-20T00:00:00\", \"totalTestResultsIncrease\": 775009.0, \"positiveIncrease\": 34980.0, \"death\": 145647.0, \"deathIncrease\": 322.0, \"positiveRate\": 0.045, \"state\": \"Non Tri-State\", \"sma7d\": 38909.857}, {\"date\": \"2020-09-21T00:00:00\", \"totalTestResultsIncrease\": 634203.0, \"positiveIncrease\": 38010.0, \"death\": 145928.0, \"deathIncrease\": 281.0, \"positiveRate\": 0.06, \"state\": \"Non Tri-State\", \"sma7d\": 39714.429}, {\"date\": \"2020-09-22T00:00:00\", \"totalTestResultsIncrease\": 651357.0, \"positiveIncrease\": 48123.0, \"death\": 146770.0, \"deathIncrease\": 842.0, \"positiveRate\": 0.074, \"state\": \"Non Tri-State\", \"sma7d\": 41716.714}, {\"date\": \"2020-09-23T00:00:00\", \"totalTestResultsIncrease\": 832985.0, \"positiveIncrease\": 37339.0, \"death\": 147915.0, \"deathIncrease\": 1145.0, \"positiveRate\": 0.045, \"state\": \"Non Tri-State\", \"sma7d\": 41501.429}, {\"date\": \"2020-09-24T00:00:00\", \"totalTestResultsIncrease\": 819909.0, \"positiveIncrease\": 42096.0, \"death\": 148823.0, \"deathIncrease\": 908.0, \"positiveRate\": 0.051, \"state\": \"Non Tri-State\", \"sma7d\": 41533.286}, {\"date\": \"2020-09-25T00:00:00\", \"totalTestResultsIncrease\": 902176.0, \"positiveIncrease\": 53955.0, \"death\": 149652.0, \"deathIncrease\": 829.0, \"positiveRate\": 0.06, \"state\": \"Non Tri-State\", \"sma7d\": 42660.0}, {\"date\": \"2020-09-26T00:00:00\", \"totalTestResultsIncrease\": 909024.0, \"positiveIncrease\": 46101.0, \"death\": 150511.0, \"deathIncrease\": 859.0, \"positiveRate\": 0.051, \"state\": \"Non Tri-State\", \"sma7d\": 42943.429}, {\"date\": \"2020-09-27T00:00:00\", \"totalTestResultsIncrease\": 765202.0, \"positiveIncrease\": 33890.0, \"death\": 150806.0, \"deathIncrease\": 295.0, \"positiveRate\": 0.044, \"state\": \"Non Tri-State\", \"sma7d\": 42787.714}, {\"date\": \"2020-09-28T00:00:00\", \"totalTestResultsIncrease\": 972616.0, \"positiveIncrease\": 34571.0, \"death\": 151051.0, \"deathIncrease\": 245.0, \"positiveRate\": 0.036, \"state\": \"Non Tri-State\", \"sma7d\": 42296.429}, {\"date\": \"2020-09-29T00:00:00\", \"totalTestResultsIncrease\": 734135.0, \"positiveIncrease\": 35120.0, \"death\": 151776.0, \"deathIncrease\": 725.0, \"positiveRate\": 0.048, \"state\": \"Non Tri-State\", \"sma7d\": 40438.857}, {\"date\": \"2020-09-30T00:00:00\", \"totalTestResultsIncrease\": 667030.0, \"positiveIncrease\": 42491.0, \"death\": 152816.0, \"deathIncrease\": 1040.0, \"positiveRate\": 0.064, \"state\": \"Non Tri-State\", \"sma7d\": 41174.857}, {\"date\": \"2020-10-01T00:00:00\", \"totalTestResultsIncrease\": 793236.0, \"positiveIncrease\": 43506.0, \"death\": 153648.0, \"deathIncrease\": 832.0, \"positiveRate\": 0.055, \"state\": \"Non Tri-State\", \"sma7d\": 41376.286}, {\"date\": \"2020-10-02T00:00:00\", \"totalTestResultsIncrease\": 898032.0, \"positiveIncrease\": 46641.0, \"death\": 154470.0, \"deathIncrease\": 822.0, \"positiveRate\": 0.052, \"state\": \"Non Tri-State\", \"sma7d\": 40331.429}, {\"date\": \"2020-10-03T00:00:00\", \"totalTestResultsIncrease\": 882807.0, \"positiveIncrease\": 48694.0, \"death\": 155199.0, \"deathIncrease\": 729.0, \"positiveRate\": 0.055, \"state\": \"Non Tri-State\", \"sma7d\": 40701.857}, {\"date\": \"2020-10-04T00:00:00\", \"totalTestResultsIncrease\": 803675.0, \"positiveIncrease\": 36591.0, \"death\": 155547.0, \"deathIncrease\": 348.0, \"positiveRate\": 0.046, \"state\": \"Non Tri-State\", \"sma7d\": 41087.714}, {\"date\": \"2020-10-05T00:00:00\", \"totalTestResultsIncrease\": 797500.0, \"positiveIncrease\": 35866.0, \"death\": 155859.0, \"deathIncrease\": 312.0, \"positiveRate\": 0.045, \"state\": \"Non Tri-State\", \"sma7d\": 41272.714}, {\"date\": \"2020-10-06T00:00:00\", \"totalTestResultsIncrease\": 720388.0, \"positiveIncrease\": 36518.0, \"death\": 156471.0, \"deathIncrease\": 612.0, \"positiveRate\": 0.051, \"state\": \"Non Tri-State\", \"sma7d\": 41472.429}, {\"date\": \"2020-10-07T00:00:00\", \"totalTestResultsIncrease\": 735841.0, \"positiveIncrease\": 48611.0, \"death\": 157372.0, \"deathIncrease\": 901.0, \"positiveRate\": 0.066, \"state\": \"Non Tri-State\", \"sma7d\": 42346.714}, {\"date\": \"2020-10-08T00:00:00\", \"totalTestResultsIncrease\": 822806.0, \"positiveIncrease\": 51834.0, \"death\": 158335.0, \"deathIncrease\": 963.0, \"positiveRate\": 0.063, \"state\": \"Non Tri-State\", \"sma7d\": 43536.429}, {\"date\": \"2020-10-09T00:00:00\", \"totalTestResultsIncrease\": 915557.0, \"positiveIncrease\": 54313.0, \"death\": 159215.0, \"deathIncrease\": 880.0, \"positiveRate\": 0.059, \"state\": \"Non Tri-State\", \"sma7d\": 44632.429}, {\"date\": \"2020-10-10T00:00:00\", \"totalTestResultsIncrease\": 1002903.0, \"positiveIncrease\": 55181.0, \"death\": 159865.0, \"deathIncrease\": 650.0, \"positiveRate\": 0.055, \"state\": \"Non Tri-State\", \"sma7d\": 45559.143}, {\"date\": \"2020-10-11T00:00:00\", \"totalTestResultsIncrease\": 855480.0, \"positiveIncrease\": 45052.0, \"death\": 160323.0, \"deathIncrease\": 458.0, \"positiveRate\": 0.053, \"state\": \"Non Tri-State\", \"sma7d\": 46767.857}, {\"date\": \"2020-10-12T00:00:00\", \"totalTestResultsIncrease\": 771263.0, \"positiveIncrease\": 40287.0, \"death\": 160594.0, \"deathIncrease\": 271.0, \"positiveRate\": 0.052, \"state\": \"Non Tri-State\", \"sma7d\": 47399.429}, {\"date\": \"2020-10-13T00:00:00\", \"totalTestResultsIncrease\": 853258.0, \"positiveIncrease\": 45686.0, \"death\": 161265.0, \"deathIncrease\": 671.0, \"positiveRate\": 0.054, \"state\": \"Non Tri-State\", \"sma7d\": 48709.143}, {\"date\": \"2020-10-14T00:00:00\", \"totalTestResultsIncrease\": 782351.0, \"positiveIncrease\": 54463.0, \"death\": 162056.0, \"deathIncrease\": 791.0, \"positiveRate\": 0.07, \"state\": \"Non Tri-State\", \"sma7d\": 49545.143}, {\"date\": \"2020-10-15T00:00:00\", \"totalTestResultsIncrease\": 841951.0, \"positiveIncrease\": 60574.0, \"death\": 162985.0, \"deathIncrease\": 929.0, \"positiveRate\": 0.072, \"state\": \"Non Tri-State\", \"sma7d\": 50793.714}, {\"date\": \"2020-10-16T00:00:00\", \"totalTestResultsIncrease\": 951946.0, \"positiveIncrease\": 64805.0, \"death\": 163845.0, \"deathIncrease\": 860.0, \"positiveRate\": 0.068, \"state\": \"Non Tri-State\", \"sma7d\": 52292.571}]}}, {\"mode\": \"vega-lite\"});\n",
       "</script>"
      ],
      "text/plain": [
       "alt.LayerChart(...)"
      ]
     },
     "execution_count": 15,
     "metadata": {},
     "output_type": "execute_result"
    }
   ],
   "source": [
    "create_plot(non_tristate, 'positiveIncrease')"
   ]
  },
  {
   "cell_type": "code",
   "execution_count": 16,
   "metadata": {
    "execution": {
     "iopub.execute_input": "2020-10-16T22:35:01.621115Z",
     "iopub.status.busy": "2020-10-16T22:35:01.620572Z",
     "iopub.status.idle": "2020-10-16T22:35:01.709178Z",
     "shell.execute_reply": "2020-10-16T22:35:01.709648Z"
    },
    "papermill": {
     "duration": 0.110432,
     "end_time": "2020-10-16T22:35:01.709794",
     "exception": false,
     "start_time": "2020-10-16T22:35:01.599362",
     "status": "completed"
    },
    "tags": []
   },
   "outputs": [
    {
     "data": {
      "text/html": [
       "\n",
       "<div id=\"altair-viz-fc8dc68780b743329ef130f739835937\"></div>\n",
       "<script type=\"text/javascript\">\n",
       "  (function(spec, embedOpt){\n",
       "    let outputDiv = document.currentScript.previousElementSibling;\n",
       "    if (outputDiv.id !== \"altair-viz-fc8dc68780b743329ef130f739835937\") {\n",
       "      outputDiv = document.getElementById(\"altair-viz-fc8dc68780b743329ef130f739835937\");\n",
       "    }\n",
       "    const paths = {\n",
       "      \"vega\": \"https://cdn.jsdelivr.net/npm//vega@5?noext\",\n",
       "      \"vega-lib\": \"https://cdn.jsdelivr.net/npm//vega-lib?noext\",\n",
       "      \"vega-lite\": \"https://cdn.jsdelivr.net/npm//vega-lite@4.8.1?noext\",\n",
       "      \"vega-embed\": \"https://cdn.jsdelivr.net/npm//vega-embed@6?noext\",\n",
       "    };\n",
       "\n",
       "    function loadScript(lib) {\n",
       "      return new Promise(function(resolve, reject) {\n",
       "        var s = document.createElement('script');\n",
       "        s.src = paths[lib];\n",
       "        s.async = true;\n",
       "        s.onload = () => resolve(paths[lib]);\n",
       "        s.onerror = () => reject(`Error loading script: ${paths[lib]}`);\n",
       "        document.getElementsByTagName(\"head\")[0].appendChild(s);\n",
       "      });\n",
       "    }\n",
       "\n",
       "    function showError(err) {\n",
       "      outputDiv.innerHTML = `<div class=\"error\" style=\"color:red;\">${err}</div>`;\n",
       "      throw err;\n",
       "    }\n",
       "\n",
       "    function displayChart(vegaEmbed) {\n",
       "      vegaEmbed(outputDiv, spec, embedOpt)\n",
       "        .catch(err => showError(`Javascript Error: ${err.message}<br>This usually means there's a typo in your chart specification. See the javascript console for the full traceback.`));\n",
       "    }\n",
       "\n",
       "    if(typeof define === \"function\" && define.amd) {\n",
       "      requirejs.config({paths});\n",
       "      require([\"vega-embed\"], displayChart, err => showError(`Error loading script: ${err.message}`));\n",
       "    } else if (typeof vegaEmbed === \"function\") {\n",
       "      displayChart(vegaEmbed);\n",
       "    } else {\n",
       "      loadScript(\"vega\")\n",
       "        .then(() => loadScript(\"vega-lite\"))\n",
       "        .then(() => loadScript(\"vega-embed\"))\n",
       "        .catch(showError)\n",
       "        .then(() => displayChart(vegaEmbed));\n",
       "    }\n",
       "  })({\"config\": {\"view\": {\"continuousWidth\": 400, \"continuousHeight\": 300}}, \"layer\": [{\"layer\": [{\"mark\": {\"type\": \"point\", \"size\": 75}, \"encoding\": {\"tooltip\": [{\"type\": \"temporal\", \"field\": \"date\"}, {\"type\": \"quantitative\", \"field\": \"positiveRate\"}, {\"type\": \"quantitative\", \"field\": \"sma7d\"}], \"x\": {\"type\": \"temporal\", \"field\": \"date\"}, \"y\": {\"type\": \"quantitative\", \"field\": \"positiveRate\"}}, \"selection\": {\"selector016\": {\"type\": \"interval\", \"bind\": \"scales\", \"encodings\": [\"x\", \"y\"]}}}, {\"mark\": {\"type\": \"line\", \"color\": \"purple\"}, \"encoding\": {\"x\": {\"type\": \"temporal\", \"field\": \"date\"}, \"y\": {\"type\": \"quantitative\", \"field\": \"sma7d\"}}}]}, {\"mark\": {\"type\": \"rule\", \"color\": \"#aaa\"}, \"encoding\": {\"x\": {\"type\": \"temporal\", \"field\": \"date\"}}, \"transform\": [{\"filter\": {\"selection\": \"selector015\"}}]}, {\"mark\": \"circle\", \"encoding\": {\"opacity\": {\"condition\": {\"value\": 1, \"selection\": \"selector015\"}, \"value\": 0}, \"tooltip\": [{\"type\": \"temporal\", \"field\": \"date\"}, {\"type\": \"quantitative\", \"field\": \"positiveRate\"}, {\"type\": \"quantitative\", \"field\": \"sma7d\"}], \"x\": {\"type\": \"temporal\", \"field\": \"date\"}, \"y\": {\"type\": \"quantitative\", \"field\": \"positiveRate\"}}, \"selection\": {\"selector015\": {\"type\": \"single\", \"encodings\": [\"x\"], \"on\": \"mouseover\", \"nearest\": true, \"empty\": \"none\"}}}, {\"mark\": {\"type\": \"text\", \"align\": \"left\", \"dx\": 5, \"dy\": -5, \"stroke\": \"white\", \"strokeWidth\": 2}, \"encoding\": {\"text\": {\"type\": \"quantitative\", \"field\": \"positiveRate\"}, \"tooltip\": [{\"type\": \"temporal\", \"field\": \"date\"}, {\"type\": \"quantitative\", \"field\": \"positiveRate\"}, {\"type\": \"quantitative\", \"field\": \"sma7d\"}], \"x\": {\"type\": \"temporal\", \"field\": \"date\"}, \"y\": {\"type\": \"quantitative\", \"field\": \"positiveRate\"}}, \"transform\": [{\"filter\": {\"selection\": \"selector015\"}}]}, {\"mark\": {\"type\": \"text\", \"align\": \"left\", \"dx\": 5, \"dy\": -5}, \"encoding\": {\"text\": {\"type\": \"quantitative\", \"field\": \"positiveRate\"}, \"tooltip\": [{\"type\": \"temporal\", \"field\": \"date\"}, {\"type\": \"quantitative\", \"field\": \"positiveRate\"}, {\"type\": \"quantitative\", \"field\": \"sma7d\"}], \"x\": {\"type\": \"temporal\", \"field\": \"date\"}, \"y\": {\"type\": \"quantitative\", \"field\": \"positiveRate\"}}, \"transform\": [{\"filter\": {\"selection\": \"selector015\"}}]}], \"data\": {\"name\": \"data-58b5871fb5968465b0f0e47f4c51fd0a\"}, \"height\": 400, \"title\": \"Non Tri-State: positiveRate\", \"width\": 500, \"$schema\": \"https://vega.github.io/schema/vega-lite/v4.8.1.json\", \"datasets\": {\"data-58b5871fb5968465b0f0e47f4c51fd0a\": [{\"date\": \"2020-08-22T00:00:00\", \"totalTestResultsIncrease\": 680088.0, \"positiveIncrease\": 45164.0, \"death\": 122606.0, \"deathIncrease\": 1023.0, \"positiveRate\": 0.066, \"state\": \"Non Tri-State\", \"sma7d\": 0.067}, {\"date\": \"2020-08-23T00:00:00\", \"totalTestResultsIncrease\": 592881.0, \"positiveIncrease\": 36736.0, \"death\": 123169.0, \"deathIncrease\": 563.0, \"positiveRate\": 0.062, \"state\": \"Non Tri-State\", \"sma7d\": 0.067}, {\"date\": \"2020-08-24T00:00:00\", \"totalTestResultsIncrease\": 568311.0, \"positiveIncrease\": 33518.0, \"death\": 123502.0, \"deathIncrease\": 333.0, \"positiveRate\": 0.059, \"state\": \"Non Tri-State\", \"sma7d\": 0.067}, {\"date\": \"2020-08-25T00:00:00\", \"totalTestResultsIncrease\": 581284.0, \"positiveIncrease\": 35419.0, \"death\": 124640.0, \"deathIncrease\": 1138.0, \"positiveRate\": 0.061, \"state\": \"Non Tri-State\", \"sma7d\": 0.066}, {\"date\": \"2020-08-26T00:00:00\", \"totalTestResultsIncrease\": 574708.0, \"positiveIncrease\": 43022.0, \"death\": 125920.0, \"deathIncrease\": 1280.0, \"positiveRate\": 0.075, \"state\": \"Non Tri-State\", \"sma7d\": 0.066}, {\"date\": \"2020-08-27T00:00:00\", \"totalTestResultsIncrease\": 678709.0, \"positiveIncrease\": 42756.0, \"death\": 127036.0, \"deathIncrease\": 1116.0, \"positiveRate\": 0.063, \"state\": \"Non Tri-State\", \"sma7d\": 0.065}, {\"date\": \"2020-08-28T00:00:00\", \"totalTestResultsIncrease\": 722948.0, \"positiveIncrease\": 45409.0, \"death\": 128047.0, \"deathIncrease\": 1011.0, \"positiveRate\": 0.063, \"state\": \"Non Tri-State\", \"sma7d\": 0.064}, {\"date\": \"2020-08-29T00:00:00\", \"totalTestResultsIncrease\": 679672.0, \"positiveIncrease\": 43517.0, \"death\": 129052.0, \"deathIncrease\": 1005.0, \"positiveRate\": 0.064, \"state\": \"Non Tri-State\", \"sma7d\": 0.064}, {\"date\": \"2020-08-30T00:00:00\", \"totalTestResultsIncrease\": 660647.0, \"positiveIncrease\": 38512.0, \"death\": 129515.0, \"deathIncrease\": 463.0, \"positiveRate\": 0.058, \"state\": \"Non Tri-State\", \"sma7d\": 0.063}, {\"date\": \"2020-08-31T00:00:00\", \"totalTestResultsIncrease\": 583322.0, \"positiveIncrease\": 30017.0, \"death\": 129872.0, \"deathIncrease\": 357.0, \"positiveRate\": 0.051, \"state\": \"Non Tri-State\", \"sma7d\": 0.062}, {\"date\": \"2020-09-01T00:00:00\", \"totalTestResultsIncrease\": 643789.0, \"positiveIncrease\": 41222.0, \"death\": 130890.0, \"deathIncrease\": 1018.0, \"positiveRate\": 0.064, \"state\": \"Non Tri-State\", \"sma7d\": 0.063}, {\"date\": \"2020-09-02T00:00:00\", \"totalTestResultsIncrease\": 546801.0, \"positiveIncrease\": 29488.0, \"death\": 131905.0, \"deathIncrease\": 1015.0, \"positiveRate\": 0.054, \"state\": \"Non Tri-State\", \"sma7d\": 0.06}, {\"date\": \"2020-09-03T00:00:00\", \"totalTestResultsIncrease\": 684533.0, \"positiveIncrease\": 43346.0, \"death\": 132960.0, \"deathIncrease\": 1055.0, \"positiveRate\": 0.063, \"state\": \"Non Tri-State\", \"sma7d\": 0.06}, {\"date\": \"2020-09-04T00:00:00\", \"totalTestResultsIncrease\": 822695.0, \"positiveIncrease\": 50122.0, \"death\": 133946.0, \"deathIncrease\": 986.0, \"positiveRate\": 0.061, \"state\": \"Non Tri-State\", \"sma7d\": 0.059}, {\"date\": \"2020-09-05T00:00:00\", \"totalTestResultsIncrease\": 798213.0, \"positiveIncrease\": 43779.0, \"death\": 134855.0, \"deathIncrease\": 909.0, \"positiveRate\": 0.055, \"state\": \"Non Tri-State\", \"sma7d\": 0.058}, {\"date\": \"2020-09-06T00:00:00\", \"totalTestResultsIncrease\": 670218.0, \"positiveIncrease\": 32077.0, \"death\": 135291.0, \"deathIncrease\": 436.0, \"positiveRate\": 0.048, \"state\": \"Non Tri-State\", \"sma7d\": 0.057}, {\"date\": \"2020-09-07T00:00:00\", \"totalTestResultsIncrease\": 517998.0, \"positiveIncrease\": 27830.0, \"death\": 135512.0, \"deathIncrease\": 221.0, \"positiveRate\": 0.054, \"state\": \"Non Tri-State\", \"sma7d\": 0.057}, {\"date\": \"2020-09-08T00:00:00\", \"totalTestResultsIncrease\": 427156.0, \"positiveIncrease\": 20972.0, \"death\": 135853.0, \"deathIncrease\": 341.0, \"positiveRate\": 0.049, \"state\": \"Non Tri-State\", \"sma7d\": 0.055}, {\"date\": \"2020-09-09T00:00:00\", \"totalTestResultsIncrease\": 545043.0, \"positiveIncrease\": 30126.0, \"death\": 136926.0, \"deathIncrease\": 1073.0, \"positiveRate\": 0.055, \"state\": \"Non Tri-State\", \"sma7d\": 0.055}, {\"date\": \"2020-09-10T00:00:00\", \"totalTestResultsIncrease\": 592423.0, \"positiveIncrease\": 36178.0, \"death\": 138080.0, \"deathIncrease\": 1154.0, \"positiveRate\": 0.061, \"state\": \"Non Tri-State\", \"sma7d\": 0.055}, {\"date\": \"2020-09-11T00:00:00\", \"totalTestResultsIncrease\": 709775.0, \"positiveIncrease\": 43340.0, \"death\": 139082.0, \"deathIncrease\": 1002.0, \"positiveRate\": 0.061, \"state\": \"Non Tri-State\", \"sma7d\": 0.055}, {\"date\": \"2020-09-12T00:00:00\", \"totalTestResultsIncrease\": 826199.0, \"positiveIncrease\": 40792.0, \"death\": 139886.0, \"deathIncrease\": 804.0, \"positiveRate\": 0.049, \"state\": \"Non Tri-State\", \"sma7d\": 0.054}, {\"date\": \"2020-09-13T00:00:00\", \"totalTestResultsIncrease\": 645782.0, \"positiveIncrease\": 33431.0, \"death\": 140265.0, \"deathIncrease\": 379.0, \"positiveRate\": 0.052, \"state\": \"Non Tri-State\", \"sma7d\": 0.054}, {\"date\": \"2020-09-14T00:00:00\", \"totalTestResultsIncrease\": 327710.0, \"positiveIncrease\": 32378.0, \"death\": 140656.0, \"deathIncrease\": 391.0, \"positiveRate\": 0.099, \"state\": \"Non Tri-State\", \"sma7d\": 0.061}, {\"date\": \"2020-09-15T00:00:00\", \"totalTestResultsIncrease\": 634699.0, \"positiveIncrease\": 34107.0, \"death\": 141667.0, \"deathIncrease\": 1011.0, \"positiveRate\": 0.054, \"state\": \"Non Tri-State\", \"sma7d\": 0.062}, {\"date\": \"2020-09-16T00:00:00\", \"totalTestResultsIncrease\": 646891.0, \"positiveIncrease\": 38846.0, \"death\": 142851.0, \"deathIncrease\": 1184.0, \"positiveRate\": 0.06, \"state\": \"Non Tri-State\", \"sma7d\": 0.062}, {\"date\": \"2020-09-17T00:00:00\", \"totalTestResultsIncrease\": 730243.0, \"positiveIncrease\": 41873.0, \"death\": 143707.0, \"deathIncrease\": 856.0, \"positiveRate\": 0.057, \"state\": \"Non Tri-State\", \"sma7d\": 0.062}, {\"date\": \"2020-09-18T00:00:00\", \"totalTestResultsIncrease\": 874788.0, \"positiveIncrease\": 46068.0, \"death\": 144590.0, \"deathIncrease\": 883.0, \"positiveRate\": 0.053, \"state\": \"Non Tri-State\", \"sma7d\": 0.061}, {\"date\": \"2020-09-19T00:00:00\", \"totalTestResultsIncrease\": 979055.0, \"positiveIncrease\": 44117.0, \"death\": 145325.0, \"deathIncrease\": 735.0, \"positiveRate\": 0.045, \"state\": \"Non Tri-State\", \"sma7d\": 0.06}, {\"date\": \"2020-09-20T00:00:00\", \"totalTestResultsIncrease\": 775009.0, \"positiveIncrease\": 34980.0, \"death\": 145647.0, \"deathIncrease\": 322.0, \"positiveRate\": 0.045, \"state\": \"Non Tri-State\", \"sma7d\": 0.059}, {\"date\": \"2020-09-21T00:00:00\", \"totalTestResultsIncrease\": 634203.0, \"positiveIncrease\": 38010.0, \"death\": 145928.0, \"deathIncrease\": 281.0, \"positiveRate\": 0.06, \"state\": \"Non Tri-State\", \"sma7d\": 0.053}, {\"date\": \"2020-09-22T00:00:00\", \"totalTestResultsIncrease\": 651357.0, \"positiveIncrease\": 48123.0, \"death\": 146770.0, \"deathIncrease\": 842.0, \"positiveRate\": 0.074, \"state\": \"Non Tri-State\", \"sma7d\": 0.056}, {\"date\": \"2020-09-23T00:00:00\", \"totalTestResultsIncrease\": 832985.0, \"positiveIncrease\": 37339.0, \"death\": 147915.0, \"deathIncrease\": 1145.0, \"positiveRate\": 0.045, \"state\": \"Non Tri-State\", \"sma7d\": 0.054}, {\"date\": \"2020-09-24T00:00:00\", \"totalTestResultsIncrease\": 819909.0, \"positiveIncrease\": 42096.0, \"death\": 148823.0, \"deathIncrease\": 908.0, \"positiveRate\": 0.051, \"state\": \"Non Tri-State\", \"sma7d\": 0.053}, {\"date\": \"2020-09-25T00:00:00\", \"totalTestResultsIncrease\": 902176.0, \"positiveIncrease\": 53955.0, \"death\": 149652.0, \"deathIncrease\": 829.0, \"positiveRate\": 0.06, \"state\": \"Non Tri-State\", \"sma7d\": 0.054}, {\"date\": \"2020-09-26T00:00:00\", \"totalTestResultsIncrease\": 909024.0, \"positiveIncrease\": 46101.0, \"death\": 150511.0, \"deathIncrease\": 859.0, \"positiveRate\": 0.051, \"state\": \"Non Tri-State\", \"sma7d\": 0.055}, {\"date\": \"2020-09-27T00:00:00\", \"totalTestResultsIncrease\": 765202.0, \"positiveIncrease\": 33890.0, \"death\": 150806.0, \"deathIncrease\": 295.0, \"positiveRate\": 0.044, \"state\": \"Non Tri-State\", \"sma7d\": 0.055}, {\"date\": \"2020-09-28T00:00:00\", \"totalTestResultsIncrease\": 972616.0, \"positiveIncrease\": 34571.0, \"death\": 151051.0, \"deathIncrease\": 245.0, \"positiveRate\": 0.036, \"state\": \"Non Tri-State\", \"sma7d\": 0.052}, {\"date\": \"2020-09-29T00:00:00\", \"totalTestResultsIncrease\": 734135.0, \"positiveIncrease\": 35120.0, \"death\": 151776.0, \"deathIncrease\": 725.0, \"positiveRate\": 0.048, \"state\": \"Non Tri-State\", \"sma7d\": 0.048}, {\"date\": \"2020-09-30T00:00:00\", \"totalTestResultsIncrease\": 667030.0, \"positiveIncrease\": 42491.0, \"death\": 152816.0, \"deathIncrease\": 1040.0, \"positiveRate\": 0.064, \"state\": \"Non Tri-State\", \"sma7d\": 0.051}, {\"date\": \"2020-10-01T00:00:00\", \"totalTestResultsIncrease\": 793236.0, \"positiveIncrease\": 43506.0, \"death\": 153648.0, \"deathIncrease\": 832.0, \"positiveRate\": 0.055, \"state\": \"Non Tri-State\", \"sma7d\": 0.051}, {\"date\": \"2020-10-02T00:00:00\", \"totalTestResultsIncrease\": 898032.0, \"positiveIncrease\": 46641.0, \"death\": 154470.0, \"deathIncrease\": 822.0, \"positiveRate\": 0.052, \"state\": \"Non Tri-State\", \"sma7d\": 0.05}, {\"date\": \"2020-10-03T00:00:00\", \"totalTestResultsIncrease\": 882807.0, \"positiveIncrease\": 48694.0, \"death\": 155199.0, \"deathIncrease\": 729.0, \"positiveRate\": 0.055, \"state\": \"Non Tri-State\", \"sma7d\": 0.051}, {\"date\": \"2020-10-04T00:00:00\", \"totalTestResultsIncrease\": 803675.0, \"positiveIncrease\": 36591.0, \"death\": 155547.0, \"deathIncrease\": 348.0, \"positiveRate\": 0.046, \"state\": \"Non Tri-State\", \"sma7d\": 0.051}, {\"date\": \"2020-10-05T00:00:00\", \"totalTestResultsIncrease\": 797500.0, \"positiveIncrease\": 35866.0, \"death\": 155859.0, \"deathIncrease\": 312.0, \"positiveRate\": 0.045, \"state\": \"Non Tri-State\", \"sma7d\": 0.052}, {\"date\": \"2020-10-06T00:00:00\", \"totalTestResultsIncrease\": 720388.0, \"positiveIncrease\": 36518.0, \"death\": 156471.0, \"deathIncrease\": 612.0, \"positiveRate\": 0.051, \"state\": \"Non Tri-State\", \"sma7d\": 0.053}, {\"date\": \"2020-10-07T00:00:00\", \"totalTestResultsIncrease\": 735841.0, \"positiveIncrease\": 48611.0, \"death\": 157372.0, \"deathIncrease\": 901.0, \"positiveRate\": 0.066, \"state\": \"Non Tri-State\", \"sma7d\": 0.053}, {\"date\": \"2020-10-08T00:00:00\", \"totalTestResultsIncrease\": 822806.0, \"positiveIncrease\": 51834.0, \"death\": 158335.0, \"deathIncrease\": 963.0, \"positiveRate\": 0.063, \"state\": \"Non Tri-State\", \"sma7d\": 0.054}, {\"date\": \"2020-10-09T00:00:00\", \"totalTestResultsIncrease\": 915557.0, \"positiveIncrease\": 54313.0, \"death\": 159215.0, \"deathIncrease\": 880.0, \"positiveRate\": 0.059, \"state\": \"Non Tri-State\", \"sma7d\": 0.055}, {\"date\": \"2020-10-10T00:00:00\", \"totalTestResultsIncrease\": 1002903.0, \"positiveIncrease\": 55181.0, \"death\": 159865.0, \"deathIncrease\": 650.0, \"positiveRate\": 0.055, \"state\": \"Non Tri-State\", \"sma7d\": 0.055}, {\"date\": \"2020-10-11T00:00:00\", \"totalTestResultsIncrease\": 855480.0, \"positiveIncrease\": 45052.0, \"death\": 160323.0, \"deathIncrease\": 458.0, \"positiveRate\": 0.053, \"state\": \"Non Tri-State\", \"sma7d\": 0.056}, {\"date\": \"2020-10-12T00:00:00\", \"totalTestResultsIncrease\": 771263.0, \"positiveIncrease\": 40287.0, \"death\": 160594.0, \"deathIncrease\": 271.0, \"positiveRate\": 0.052, \"state\": \"Non Tri-State\", \"sma7d\": 0.057}, {\"date\": \"2020-10-13T00:00:00\", \"totalTestResultsIncrease\": 853258.0, \"positiveIncrease\": 45686.0, \"death\": 161265.0, \"deathIncrease\": 671.0, \"positiveRate\": 0.054, \"state\": \"Non Tri-State\", \"sma7d\": 0.057}, {\"date\": \"2020-10-14T00:00:00\", \"totalTestResultsIncrease\": 782351.0, \"positiveIncrease\": 54463.0, \"death\": 162056.0, \"deathIncrease\": 791.0, \"positiveRate\": 0.07, \"state\": \"Non Tri-State\", \"sma7d\": 0.058}, {\"date\": \"2020-10-15T00:00:00\", \"totalTestResultsIncrease\": 841951.0, \"positiveIncrease\": 60574.0, \"death\": 162985.0, \"deathIncrease\": 929.0, \"positiveRate\": 0.072, \"state\": \"Non Tri-State\", \"sma7d\": 0.059}, {\"date\": \"2020-10-16T00:00:00\", \"totalTestResultsIncrease\": 951946.0, \"positiveIncrease\": 64805.0, \"death\": 163845.0, \"deathIncrease\": 860.0, \"positiveRate\": 0.068, \"state\": \"Non Tri-State\", \"sma7d\": 0.061}]}}, {\"mode\": \"vega-lite\"});\n",
       "</script>"
      ],
      "text/plain": [
       "alt.LayerChart(...)"
      ]
     },
     "execution_count": 16,
     "metadata": {},
     "output_type": "execute_result"
    }
   ],
   "source": [
    "create_plot(non_tristate, 'positiveRate')"
   ]
  },
  {
   "cell_type": "code",
   "execution_count": 17,
   "metadata": {
    "execution": {
     "iopub.execute_input": "2020-10-16T22:35:01.774564Z",
     "iopub.status.busy": "2020-10-16T22:35:01.764393Z",
     "iopub.status.idle": "2020-10-16T22:35:01.837256Z",
     "shell.execute_reply": "2020-10-16T22:35:01.836731Z"
    },
    "papermill": {
     "duration": 0.11002,
     "end_time": "2020-10-16T22:35:01.837370",
     "exception": false,
     "start_time": "2020-10-16T22:35:01.727350",
     "status": "completed"
    },
    "tags": []
   },
   "outputs": [
    {
     "data": {
      "text/html": [
       "\n",
       "<div id=\"altair-viz-ae4088a7a7344f3d95f78774a45dd270\"></div>\n",
       "<script type=\"text/javascript\">\n",
       "  (function(spec, embedOpt){\n",
       "    let outputDiv = document.currentScript.previousElementSibling;\n",
       "    if (outputDiv.id !== \"altair-viz-ae4088a7a7344f3d95f78774a45dd270\") {\n",
       "      outputDiv = document.getElementById(\"altair-viz-ae4088a7a7344f3d95f78774a45dd270\");\n",
       "    }\n",
       "    const paths = {\n",
       "      \"vega\": \"https://cdn.jsdelivr.net/npm//vega@5?noext\",\n",
       "      \"vega-lib\": \"https://cdn.jsdelivr.net/npm//vega-lib?noext\",\n",
       "      \"vega-lite\": \"https://cdn.jsdelivr.net/npm//vega-lite@4.8.1?noext\",\n",
       "      \"vega-embed\": \"https://cdn.jsdelivr.net/npm//vega-embed@6?noext\",\n",
       "    };\n",
       "\n",
       "    function loadScript(lib) {\n",
       "      return new Promise(function(resolve, reject) {\n",
       "        var s = document.createElement('script');\n",
       "        s.src = paths[lib];\n",
       "        s.async = true;\n",
       "        s.onload = () => resolve(paths[lib]);\n",
       "        s.onerror = () => reject(`Error loading script: ${paths[lib]}`);\n",
       "        document.getElementsByTagName(\"head\")[0].appendChild(s);\n",
       "      });\n",
       "    }\n",
       "\n",
       "    function showError(err) {\n",
       "      outputDiv.innerHTML = `<div class=\"error\" style=\"color:red;\">${err}</div>`;\n",
       "      throw err;\n",
       "    }\n",
       "\n",
       "    function displayChart(vegaEmbed) {\n",
       "      vegaEmbed(outputDiv, spec, embedOpt)\n",
       "        .catch(err => showError(`Javascript Error: ${err.message}<br>This usually means there's a typo in your chart specification. See the javascript console for the full traceback.`));\n",
       "    }\n",
       "\n",
       "    if(typeof define === \"function\" && define.amd) {\n",
       "      requirejs.config({paths});\n",
       "      require([\"vega-embed\"], displayChart, err => showError(`Error loading script: ${err.message}`));\n",
       "    } else if (typeof vegaEmbed === \"function\") {\n",
       "      displayChart(vegaEmbed);\n",
       "    } else {\n",
       "      loadScript(\"vega\")\n",
       "        .then(() => loadScript(\"vega-lite\"))\n",
       "        .then(() => loadScript(\"vega-embed\"))\n",
       "        .catch(showError)\n",
       "        .then(() => displayChart(vegaEmbed));\n",
       "    }\n",
       "  })({\"config\": {\"view\": {\"continuousWidth\": 400, \"continuousHeight\": 300}}, \"layer\": [{\"layer\": [{\"mark\": {\"type\": \"point\", \"size\": 75}, \"encoding\": {\"tooltip\": [{\"type\": \"temporal\", \"field\": \"date\"}, {\"type\": \"quantitative\", \"field\": \"deathIncrease\"}, {\"type\": \"quantitative\", \"field\": \"sma7d\"}], \"x\": {\"type\": \"temporal\", \"field\": \"date\"}, \"y\": {\"type\": \"quantitative\", \"field\": \"deathIncrease\"}}, \"selection\": {\"selector018\": {\"type\": \"interval\", \"bind\": \"scales\", \"encodings\": [\"x\", \"y\"]}}}, {\"mark\": {\"type\": \"line\", \"color\": \"purple\"}, \"encoding\": {\"x\": {\"type\": \"temporal\", \"field\": \"date\"}, \"y\": {\"type\": \"quantitative\", \"field\": \"sma7d\"}}}]}, {\"mark\": {\"type\": \"rule\", \"color\": \"#aaa\"}, \"encoding\": {\"x\": {\"type\": \"temporal\", \"field\": \"date\"}}, \"transform\": [{\"filter\": {\"selection\": \"selector017\"}}]}, {\"mark\": \"circle\", \"encoding\": {\"opacity\": {\"condition\": {\"value\": 1, \"selection\": \"selector017\"}, \"value\": 0}, \"tooltip\": [{\"type\": \"temporal\", \"field\": \"date\"}, {\"type\": \"quantitative\", \"field\": \"deathIncrease\"}, {\"type\": \"quantitative\", \"field\": \"sma7d\"}], \"x\": {\"type\": \"temporal\", \"field\": \"date\"}, \"y\": {\"type\": \"quantitative\", \"field\": \"deathIncrease\"}}, \"selection\": {\"selector017\": {\"type\": \"single\", \"encodings\": [\"x\"], \"on\": \"mouseover\", \"nearest\": true, \"empty\": \"none\"}}}, {\"mark\": {\"type\": \"text\", \"align\": \"left\", \"dx\": 5, \"dy\": -5, \"stroke\": \"white\", \"strokeWidth\": 2}, \"encoding\": {\"text\": {\"type\": \"quantitative\", \"field\": \"deathIncrease\"}, \"tooltip\": [{\"type\": \"temporal\", \"field\": \"date\"}, {\"type\": \"quantitative\", \"field\": \"deathIncrease\"}, {\"type\": \"quantitative\", \"field\": \"sma7d\"}], \"x\": {\"type\": \"temporal\", \"field\": \"date\"}, \"y\": {\"type\": \"quantitative\", \"field\": \"deathIncrease\"}}, \"transform\": [{\"filter\": {\"selection\": \"selector017\"}}]}, {\"mark\": {\"type\": \"text\", \"align\": \"left\", \"dx\": 5, \"dy\": -5}, \"encoding\": {\"text\": {\"type\": \"quantitative\", \"field\": \"deathIncrease\"}, \"tooltip\": [{\"type\": \"temporal\", \"field\": \"date\"}, {\"type\": \"quantitative\", \"field\": \"deathIncrease\"}, {\"type\": \"quantitative\", \"field\": \"sma7d\"}], \"x\": {\"type\": \"temporal\", \"field\": \"date\"}, \"y\": {\"type\": \"quantitative\", \"field\": \"deathIncrease\"}}, \"transform\": [{\"filter\": {\"selection\": \"selector017\"}}]}], \"data\": {\"name\": \"data-5748077f9cb8e9c3e84a65cf3371b137\"}, \"height\": 400, \"title\": \"Non Tri-State: deathIncrease\", \"width\": 500, \"$schema\": \"https://vega.github.io/schema/vega-lite/v4.8.1.json\", \"datasets\": {\"data-5748077f9cb8e9c3e84a65cf3371b137\": [{\"date\": \"2020-08-22T00:00:00\", \"totalTestResultsIncrease\": 680088.0, \"positiveIncrease\": 45164.0, \"death\": 122606.0, \"deathIncrease\": 1023.0, \"positiveRate\": 0.066, \"state\": \"Non Tri-State\", \"sma7d\": 977.0}, {\"date\": \"2020-08-23T00:00:00\", \"totalTestResultsIncrease\": 592881.0, \"positiveIncrease\": 36736.0, \"death\": 123169.0, \"deathIncrease\": 563.0, \"positiveRate\": 0.062, \"state\": \"Non Tri-State\", \"sma7d\": 970.143}, {\"date\": \"2020-08-24T00:00:00\", \"totalTestResultsIncrease\": 568311.0, \"positiveIncrease\": 33518.0, \"death\": 123502.0, \"deathIncrease\": 333.0, \"positiveRate\": 0.059, \"state\": \"Non Tri-State\", \"sma7d\": 961.429}, {\"date\": \"2020-08-25T00:00:00\", \"totalTestResultsIncrease\": 581284.0, \"positiveIncrease\": 35419.0, \"death\": 124640.0, \"deathIncrease\": 1138.0, \"positiveRate\": 0.061, \"state\": \"Non Tri-State\", \"sma7d\": 955.714}, {\"date\": \"2020-08-26T00:00:00\", \"totalTestResultsIncrease\": 574708.0, \"positiveIncrease\": 43022.0, \"death\": 125920.0, \"deathIncrease\": 1280.0, \"positiveRate\": 0.075, \"state\": \"Non Tri-State\", \"sma7d\": 938.286}, {\"date\": \"2020-08-27T00:00:00\", \"totalTestResultsIncrease\": 678709.0, \"positiveIncrease\": 42756.0, \"death\": 127036.0, \"deathIncrease\": 1116.0, \"positiveRate\": 0.063, \"state\": \"Non Tri-State\", \"sma7d\": 937.429}, {\"date\": \"2020-08-28T00:00:00\", \"totalTestResultsIncrease\": 722948.0, \"positiveIncrease\": 45409.0, \"death\": 128047.0, \"deathIncrease\": 1011.0, \"positiveRate\": 0.063, \"state\": \"Non Tri-State\", \"sma7d\": 923.429}, {\"date\": \"2020-08-29T00:00:00\", \"totalTestResultsIncrease\": 679672.0, \"positiveIncrease\": 43517.0, \"death\": 129052.0, \"deathIncrease\": 1005.0, \"positiveRate\": 0.064, \"state\": \"Non Tri-State\", \"sma7d\": 920.857}, {\"date\": \"2020-08-30T00:00:00\", \"totalTestResultsIncrease\": 660647.0, \"positiveIncrease\": 38512.0, \"death\": 129515.0, \"deathIncrease\": 463.0, \"positiveRate\": 0.058, \"state\": \"Non Tri-State\", \"sma7d\": 906.571}, {\"date\": \"2020-08-31T00:00:00\", \"totalTestResultsIncrease\": 583322.0, \"positiveIncrease\": 30017.0, \"death\": 129872.0, \"deathIncrease\": 357.0, \"positiveRate\": 0.051, \"state\": \"Non Tri-State\", \"sma7d\": 910.0}, {\"date\": \"2020-09-01T00:00:00\", \"totalTestResultsIncrease\": 643789.0, \"positiveIncrease\": 41222.0, \"death\": 130890.0, \"deathIncrease\": 1018.0, \"positiveRate\": 0.064, \"state\": \"Non Tri-State\", \"sma7d\": 892.857}, {\"date\": \"2020-09-02T00:00:00\", \"totalTestResultsIncrease\": 546801.0, \"positiveIncrease\": 29488.0, \"death\": 131905.0, \"deathIncrease\": 1015.0, \"positiveRate\": 0.054, \"state\": \"Non Tri-State\", \"sma7d\": 855.0}, {\"date\": \"2020-09-03T00:00:00\", \"totalTestResultsIncrease\": 684533.0, \"positiveIncrease\": 43346.0, \"death\": 132960.0, \"deathIncrease\": 1055.0, \"positiveRate\": 0.063, \"state\": \"Non Tri-State\", \"sma7d\": 846.286}, {\"date\": \"2020-09-04T00:00:00\", \"totalTestResultsIncrease\": 822695.0, \"positiveIncrease\": 50122.0, \"death\": 133946.0, \"deathIncrease\": 986.0, \"positiveRate\": 0.061, \"state\": \"Non Tri-State\", \"sma7d\": 842.714}, {\"date\": \"2020-09-05T00:00:00\", \"totalTestResultsIncrease\": 798213.0, \"positiveIncrease\": 43779.0, \"death\": 134855.0, \"deathIncrease\": 909.0, \"positiveRate\": 0.055, \"state\": \"Non Tri-State\", \"sma7d\": 829.0}, {\"date\": \"2020-09-06T00:00:00\", \"totalTestResultsIncrease\": 670218.0, \"positiveIncrease\": 32077.0, \"death\": 135291.0, \"deathIncrease\": 436.0, \"positiveRate\": 0.048, \"state\": \"Non Tri-State\", \"sma7d\": 825.143}, {\"date\": \"2020-09-07T00:00:00\", \"totalTestResultsIncrease\": 517998.0, \"positiveIncrease\": 27830.0, \"death\": 135512.0, \"deathIncrease\": 221.0, \"positiveRate\": 0.054, \"state\": \"Non Tri-State\", \"sma7d\": 805.714}, {\"date\": \"2020-09-08T00:00:00\", \"totalTestResultsIncrease\": 427156.0, \"positiveIncrease\": 20972.0, \"death\": 135853.0, \"deathIncrease\": 341.0, \"positiveRate\": 0.049, \"state\": \"Non Tri-State\", \"sma7d\": 709.0}, {\"date\": \"2020-09-09T00:00:00\", \"totalTestResultsIncrease\": 545043.0, \"positiveIncrease\": 30126.0, \"death\": 136926.0, \"deathIncrease\": 1073.0, \"positiveRate\": 0.055, \"state\": \"Non Tri-State\", \"sma7d\": 717.286}, {\"date\": \"2020-09-10T00:00:00\", \"totalTestResultsIncrease\": 592423.0, \"positiveIncrease\": 36178.0, \"death\": 138080.0, \"deathIncrease\": 1154.0, \"positiveRate\": 0.061, \"state\": \"Non Tri-State\", \"sma7d\": 731.429}, {\"date\": \"2020-09-11T00:00:00\", \"totalTestResultsIncrease\": 709775.0, \"positiveIncrease\": 43340.0, \"death\": 139082.0, \"deathIncrease\": 1002.0, \"positiveRate\": 0.061, \"state\": \"Non Tri-State\", \"sma7d\": 733.714}, {\"date\": \"2020-09-12T00:00:00\", \"totalTestResultsIncrease\": 826199.0, \"positiveIncrease\": 40792.0, \"death\": 139886.0, \"deathIncrease\": 804.0, \"positiveRate\": 0.049, \"state\": \"Non Tri-State\", \"sma7d\": 718.714}, {\"date\": \"2020-09-13T00:00:00\", \"totalTestResultsIncrease\": 645782.0, \"positiveIncrease\": 33431.0, \"death\": 140265.0, \"deathIncrease\": 379.0, \"positiveRate\": 0.052, \"state\": \"Non Tri-State\", \"sma7d\": 710.571}, {\"date\": \"2020-09-14T00:00:00\", \"totalTestResultsIncrease\": 327710.0, \"positiveIncrease\": 32378.0, \"death\": 140656.0, \"deathIncrease\": 391.0, \"positiveRate\": 0.099, \"state\": \"Non Tri-State\", \"sma7d\": 734.857}, {\"date\": \"2020-09-15T00:00:00\", \"totalTestResultsIncrease\": 634699.0, \"positiveIncrease\": 34107.0, \"death\": 141667.0, \"deathIncrease\": 1011.0, \"positiveRate\": 0.054, \"state\": \"Non Tri-State\", \"sma7d\": 830.571}, {\"date\": \"2020-09-16T00:00:00\", \"totalTestResultsIncrease\": 646891.0, \"positiveIncrease\": 38846.0, \"death\": 142851.0, \"deathIncrease\": 1184.0, \"positiveRate\": 0.06, \"state\": \"Non Tri-State\", \"sma7d\": 846.429}, {\"date\": \"2020-09-17T00:00:00\", \"totalTestResultsIncrease\": 730243.0, \"positiveIncrease\": 41873.0, \"death\": 143707.0, \"deathIncrease\": 856.0, \"positiveRate\": 0.057, \"state\": \"Non Tri-State\", \"sma7d\": 803.857}, {\"date\": \"2020-09-18T00:00:00\", \"totalTestResultsIncrease\": 874788.0, \"positiveIncrease\": 46068.0, \"death\": 144590.0, \"deathIncrease\": 883.0, \"positiveRate\": 0.053, \"state\": \"Non Tri-State\", \"sma7d\": 786.857}, {\"date\": \"2020-09-19T00:00:00\", \"totalTestResultsIncrease\": 979055.0, \"positiveIncrease\": 44117.0, \"death\": 145325.0, \"deathIncrease\": 735.0, \"positiveRate\": 0.045, \"state\": \"Non Tri-State\", \"sma7d\": 777.0}, {\"date\": \"2020-09-20T00:00:00\", \"totalTestResultsIncrease\": 775009.0, \"positiveIncrease\": 34980.0, \"death\": 145647.0, \"deathIncrease\": 322.0, \"positiveRate\": 0.045, \"state\": \"Non Tri-State\", \"sma7d\": 768.857}, {\"date\": \"2020-09-21T00:00:00\", \"totalTestResultsIncrease\": 634203.0, \"positiveIncrease\": 38010.0, \"death\": 145928.0, \"deathIncrease\": 281.0, \"positiveRate\": 0.06, \"state\": \"Non Tri-State\", \"sma7d\": 753.143}, {\"date\": \"2020-09-22T00:00:00\", \"totalTestResultsIncrease\": 651357.0, \"positiveIncrease\": 48123.0, \"death\": 146770.0, \"deathIncrease\": 842.0, \"positiveRate\": 0.074, \"state\": \"Non Tri-State\", \"sma7d\": 729.0}, {\"date\": \"2020-09-23T00:00:00\", \"totalTestResultsIncrease\": 832985.0, \"positiveIncrease\": 37339.0, \"death\": 147915.0, \"deathIncrease\": 1145.0, \"positiveRate\": 0.045, \"state\": \"Non Tri-State\", \"sma7d\": 723.429}, {\"date\": \"2020-09-24T00:00:00\", \"totalTestResultsIncrease\": 819909.0, \"positiveIncrease\": 42096.0, \"death\": 148823.0, \"deathIncrease\": 908.0, \"positiveRate\": 0.051, \"state\": \"Non Tri-State\", \"sma7d\": 730.857}, {\"date\": \"2020-09-25T00:00:00\", \"totalTestResultsIncrease\": 902176.0, \"positiveIncrease\": 53955.0, \"death\": 149652.0, \"deathIncrease\": 829.0, \"positiveRate\": 0.06, \"state\": \"Non Tri-State\", \"sma7d\": 723.143}, {\"date\": \"2020-09-26T00:00:00\", \"totalTestResultsIncrease\": 909024.0, \"positiveIncrease\": 46101.0, \"death\": 150511.0, \"deathIncrease\": 859.0, \"positiveRate\": 0.051, \"state\": \"Non Tri-State\", \"sma7d\": 740.857}, {\"date\": \"2020-09-27T00:00:00\", \"totalTestResultsIncrease\": 765202.0, \"positiveIncrease\": 33890.0, \"death\": 150806.0, \"deathIncrease\": 295.0, \"positiveRate\": 0.044, \"state\": \"Non Tri-State\", \"sma7d\": 737.0}, {\"date\": \"2020-09-28T00:00:00\", \"totalTestResultsIncrease\": 972616.0, \"positiveIncrease\": 34571.0, \"death\": 151051.0, \"deathIncrease\": 245.0, \"positiveRate\": 0.036, \"state\": \"Non Tri-State\", \"sma7d\": 731.857}, {\"date\": \"2020-09-29T00:00:00\", \"totalTestResultsIncrease\": 734135.0, \"positiveIncrease\": 35120.0, \"death\": 151776.0, \"deathIncrease\": 725.0, \"positiveRate\": 0.048, \"state\": \"Non Tri-State\", \"sma7d\": 715.143}, {\"date\": \"2020-09-30T00:00:00\", \"totalTestResultsIncrease\": 667030.0, \"positiveIncrease\": 42491.0, \"death\": 152816.0, \"deathIncrease\": 1040.0, \"positiveRate\": 0.064, \"state\": \"Non Tri-State\", \"sma7d\": 700.143}, {\"date\": \"2020-10-01T00:00:00\", \"totalTestResultsIncrease\": 793236.0, \"positiveIncrease\": 43506.0, \"death\": 153648.0, \"deathIncrease\": 832.0, \"positiveRate\": 0.055, \"state\": \"Non Tri-State\", \"sma7d\": 689.286}, {\"date\": \"2020-10-02T00:00:00\", \"totalTestResultsIncrease\": 898032.0, \"positiveIncrease\": 46641.0, \"death\": 154470.0, \"deathIncrease\": 822.0, \"positiveRate\": 0.052, \"state\": \"Non Tri-State\", \"sma7d\": 688.286}, {\"date\": \"2020-10-03T00:00:00\", \"totalTestResultsIncrease\": 882807.0, \"positiveIncrease\": 48694.0, \"death\": 155199.0, \"deathIncrease\": 729.0, \"positiveRate\": 0.055, \"state\": \"Non Tri-State\", \"sma7d\": 669.714}, {\"date\": \"2020-10-04T00:00:00\", \"totalTestResultsIncrease\": 803675.0, \"positiveIncrease\": 36591.0, \"death\": 155547.0, \"deathIncrease\": 348.0, \"positiveRate\": 0.046, \"state\": \"Non Tri-State\", \"sma7d\": 677.286}, {\"date\": \"2020-10-05T00:00:00\", \"totalTestResultsIncrease\": 797500.0, \"positiveIncrease\": 35866.0, \"death\": 155859.0, \"deathIncrease\": 312.0, \"positiveRate\": 0.045, \"state\": \"Non Tri-State\", \"sma7d\": 686.857}, {\"date\": \"2020-10-06T00:00:00\", \"totalTestResultsIncrease\": 720388.0, \"positiveIncrease\": 36518.0, \"death\": 156471.0, \"deathIncrease\": 612.0, \"positiveRate\": 0.051, \"state\": \"Non Tri-State\", \"sma7d\": 670.714}, {\"date\": \"2020-10-07T00:00:00\", \"totalTestResultsIncrease\": 735841.0, \"positiveIncrease\": 48611.0, \"death\": 157372.0, \"deathIncrease\": 901.0, \"positiveRate\": 0.066, \"state\": \"Non Tri-State\", \"sma7d\": 650.857}, {\"date\": \"2020-10-08T00:00:00\", \"totalTestResultsIncrease\": 822806.0, \"positiveIncrease\": 51834.0, \"death\": 158335.0, \"deathIncrease\": 963.0, \"positiveRate\": 0.063, \"state\": \"Non Tri-State\", \"sma7d\": 669.571}, {\"date\": \"2020-10-09T00:00:00\", \"totalTestResultsIncrease\": 915557.0, \"positiveIncrease\": 54313.0, \"death\": 159215.0, \"deathIncrease\": 880.0, \"positiveRate\": 0.059, \"state\": \"Non Tri-State\", \"sma7d\": 677.857}, {\"date\": \"2020-10-10T00:00:00\", \"totalTestResultsIncrease\": 1002903.0, \"positiveIncrease\": 55181.0, \"death\": 159865.0, \"deathIncrease\": 650.0, \"positiveRate\": 0.055, \"state\": \"Non Tri-State\", \"sma7d\": 666.571}, {\"date\": \"2020-10-11T00:00:00\", \"totalTestResultsIncrease\": 855480.0, \"positiveIncrease\": 45052.0, \"death\": 160323.0, \"deathIncrease\": 458.0, \"positiveRate\": 0.053, \"state\": \"Non Tri-State\", \"sma7d\": 682.286}, {\"date\": \"2020-10-12T00:00:00\", \"totalTestResultsIncrease\": 771263.0, \"positiveIncrease\": 40287.0, \"death\": 160594.0, \"deathIncrease\": 271.0, \"positiveRate\": 0.052, \"state\": \"Non Tri-State\", \"sma7d\": 676.429}, {\"date\": \"2020-10-13T00:00:00\", \"totalTestResultsIncrease\": 853258.0, \"positiveIncrease\": 45686.0, \"death\": 161265.0, \"deathIncrease\": 671.0, \"positiveRate\": 0.054, \"state\": \"Non Tri-State\", \"sma7d\": 684.857}, {\"date\": \"2020-10-14T00:00:00\", \"totalTestResultsIncrease\": 782351.0, \"positiveIncrease\": 54463.0, \"death\": 162056.0, \"deathIncrease\": 791.0, \"positiveRate\": 0.07, \"state\": \"Non Tri-State\", \"sma7d\": 669.143}, {\"date\": \"2020-10-15T00:00:00\", \"totalTestResultsIncrease\": 841951.0, \"positiveIncrease\": 60574.0, \"death\": 162985.0, \"deathIncrease\": 929.0, \"positiveRate\": 0.072, \"state\": \"Non Tri-State\", \"sma7d\": 664.286}, {\"date\": \"2020-10-16T00:00:00\", \"totalTestResultsIncrease\": 951946.0, \"positiveIncrease\": 64805.0, \"death\": 163845.0, \"deathIncrease\": 860.0, \"positiveRate\": 0.068, \"state\": \"Non Tri-State\", \"sma7d\": 661.429}]}}, {\"mode\": \"vega-lite\"});\n",
       "</script>"
      ],
      "text/plain": [
       "alt.LayerChart(...)"
      ]
     },
     "execution_count": 17,
     "metadata": {},
     "output_type": "execute_result"
    }
   ],
   "source": [
    "create_plot(non_tristate, 'deathIncrease')"
   ]
  }
 ],
 "metadata": {
  "kernelspec": {
   "display_name": "Python 3",
   "language": "python",
   "name": "python3"
  },
  "language_info": {
   "codemirror_mode": {
    "name": "ipython",
    "version": 3
   },
   "file_extension": ".py",
   "mimetype": "text/x-python",
   "name": "python",
   "nbconvert_exporter": "python",
   "pygments_lexer": "ipython3",
   "version": "3.8.6"
  },
  "papermill": {
   "duration": 5.003969,
   "end_time": "2020-10-16T22:35:02.162999",
   "environment_variables": {},
   "exception": null,
   "input_path": "2020-07-19-covid-plots.ipynb",
   "output_path": "2020-07-19-covid-plots.ipynb",
   "parameters": {},
   "start_time": "2020-10-16T22:34:57.159030",
   "version": "2.1.2"
  }
 },
 "nbformat": 4,
 "nbformat_minor": 4
}