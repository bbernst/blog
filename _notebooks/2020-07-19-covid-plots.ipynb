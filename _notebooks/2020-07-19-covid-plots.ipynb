{
 "cells": [
  {
   "cell_type": "markdown",
   "metadata": {
    "papermill": {
     "duration": 0.016052,
     "end_time": "2020-10-25T22:36:20.452135",
     "exception": false,
     "start_time": "2020-10-25T22:36:20.436083",
     "status": "completed"
    },
    "tags": []
   },
   "source": [
    "# \"COVID-19 plots\"\n",
    "> \"Interactive plots with daily updates\"\n",
    "\n",
    "- author: bbernst\n",
    "- toc: true\n",
    "- branch: master\n",
    "- badges: true\n",
    "- comments: true\n",
    "- categories: [healthcare, covid]\n",
    "- image: images/covid_plots/covid_mask.png\n",
    "- hide: false\n",
    "- search_exclude: true"
   ]
  },
  {
   "cell_type": "markdown",
   "metadata": {
    "papermill": {
     "duration": 0.011526,
     "end_time": "2020-10-25T22:36:20.476801",
     "exception": false,
     "start_time": "2020-10-25T22:36:20.465275",
     "status": "completed"
    },
    "tags": []
   },
   "source": [
    "I wanted to make a simple COVID-19 post to accomplish two main goals:\n",
    "1. Easily see the specific plots I'm interested in\n",
    "1. Update these plots every day, automatically\n",
    "\n",
    "Enter [fastpages](https://github.com/fastai/fastpages) and [github actions](https://github.com/features/actions). I'd been meaning to set up a blog with fastpages for a while and thought this would be a good reason to try it out. The documentation was great and I was able to set up automatic updates by using https://covid19dashboards.com/ as a guide.\n",
    "\n",
    "The data for this post comes from https://covidtracking.com/, which updates by 5pm each day, and I have my dashboard update at 6:30pm. For each geography -- so far that's the US, New York, and Non Tri-State -- I look at daily positive cases, positive rate, and deaths. Be sure to hover around on each of the plots, they have helpful interactive tooltips to make reading the data more intuitive."
   ]
  },
  {
   "cell_type": "code",
   "execution_count": 1,
   "metadata": {
    "execution": {
     "iopub.execute_input": "2020-10-25T22:36:20.507156Z",
     "iopub.status.busy": "2020-10-25T22:36:20.506586Z",
     "iopub.status.idle": "2020-10-25T22:36:20.878735Z",
     "shell.execute_reply": "2020-10-25T22:36:20.878172Z"
    },
    "papermill": {
     "duration": 0.389952,
     "end_time": "2020-10-25T22:36:20.878917",
     "exception": false,
     "start_time": "2020-10-25T22:36:20.488965",
     "status": "completed"
    },
    "tags": []
   },
   "outputs": [],
   "source": [
    "#collapse\n",
    "from typing import Callable, Literal\n",
    "import pandas as pd\n",
    "import altair as alt"
   ]
  },
  {
   "cell_type": "code",
   "execution_count": 2,
   "metadata": {
    "execution": {
     "iopub.execute_input": "2020-10-25T22:36:20.911104Z",
     "iopub.status.busy": "2020-10-25T22:36:20.910580Z",
     "iopub.status.idle": "2020-10-25T22:36:20.927036Z",
     "shell.execute_reply": "2020-10-25T22:36:20.927490Z"
    },
    "papermill": {
     "duration": 0.033299,
     "end_time": "2020-10-25T22:36:20.927646",
     "exception": false,
     "start_time": "2020-10-25T22:36:20.894347",
     "status": "completed"
    },
    "tags": []
   },
   "outputs": [
    {
     "name": "stdout",
     "output_type": "stream",
     "text": [
      "Last updated at (ET): 2020-10-25 06:36:20 PM\n"
     ]
    }
   ],
   "source": [
    "#hide_input\n",
    "current_utc = pd.Timestamp.now(tz='America/New_York').strftime('%Y-%m-%d %I:%M:%S %p')\n",
    "print(f\"Last updated at (ET): {current_utc}\")"
   ]
  },
  {
   "cell_type": "markdown",
   "metadata": {
    "papermill": {
     "duration": 0.01222,
     "end_time": "2020-10-25T22:36:20.952038",
     "exception": false,
     "start_time": "2020-10-25T22:36:20.939818",
     "status": "completed"
    },
    "tags": []
   },
   "source": [
    "# Data"
   ]
  },
  {
   "cell_type": "code",
   "execution_count": 3,
   "metadata": {
    "execution": {
     "iopub.execute_input": "2020-10-25T22:36:20.981819Z",
     "iopub.status.busy": "2020-10-25T22:36:20.981287Z",
     "iopub.status.idle": "2020-10-25T22:36:22.364221Z",
     "shell.execute_reply": "2020-10-25T22:36:22.363659Z"
    },
    "papermill": {
     "duration": 1.400006,
     "end_time": "2020-10-25T22:36:22.364369",
     "exception": false,
     "start_time": "2020-10-25T22:36:20.964363",
     "status": "completed"
    },
    "tags": []
   },
   "outputs": [],
   "source": [
    "df = pd.read_csv('https://covidtracking.com/api/states/daily.csv')"
   ]
  },
  {
   "cell_type": "markdown",
   "metadata": {
    "papermill": {
     "duration": 0.776312,
     "end_time": "2020-10-25T22:36:23.154263",
     "exception": false,
     "start_time": "2020-10-25T22:36:22.377951",
     "status": "completed"
    },
    "tags": []
   },
   "source": [
    "# Helpers"
   ]
  },
  {
   "cell_type": "code",
   "execution_count": 4,
   "metadata": {
    "execution": {
     "iopub.execute_input": "2020-10-25T22:36:23.225986Z",
     "iopub.status.busy": "2020-10-25T22:36:23.225534Z",
     "iopub.status.idle": "2020-10-25T22:36:23.227335Z",
     "shell.execute_reply": "2020-10-25T22:36:23.227741Z"
    },
    "papermill": {
     "duration": 0.028248,
     "end_time": "2020-10-25T22:36:23.227861",
     "exception": false,
     "start_time": "2020-10-25T22:36:23.199613",
     "status": "completed"
    },
    "tags": []
   },
   "outputs": [],
   "source": [
    "#collapse\n",
    "def create_df(df: pd.DataFrame, \n",
    "              filter_f: Callable, \n",
    "              state_name: str):\n",
    "    out_df = (\n",
    "     df\n",
    "     .assign(date = lambda d: pd.to_datetime(d['date'], format='%Y%m%d'))\n",
    "     .loc[filter_f, :]\n",
    "     .groupby('date')\n",
    "     .apply(lambda d: pd.Series(dict(\n",
    "         totalTestResultsIncrease = d['totalTestResultsIncrease'].sum(),\n",
    "         positiveIncrease = d['positiveIncrease'].sum(),\n",
    "         death = d['death'].sum(),\n",
    "         deathIncrease = d['deathIncrease'].sum()\n",
    "     )))\n",
    "     .reset_index()\n",
    "     .assign(positiveRate = lambda d: round(d['positiveIncrease'] / d['totalTestResultsIncrease'], 3))\n",
    "     .sort_values('date', ascending=True)\n",
    "     .assign(state = state_name)\n",
    "     .reset_index(drop=True)\n",
    "    )\n",
    "    \n",
    "    return out_df"
   ]
  },
  {
   "cell_type": "code",
   "execution_count": 5,
   "metadata": {
    "execution": {
     "iopub.execute_input": "2020-10-25T22:36:23.307329Z",
     "iopub.status.busy": "2020-10-25T22:36:23.306356Z",
     "iopub.status.idle": "2020-10-25T22:36:23.308327Z",
     "shell.execute_reply": "2020-10-25T22:36:23.308977Z"
    },
    "papermill": {
     "duration": 0.062272,
     "end_time": "2020-10-25T22:36:23.309173",
     "exception": false,
     "start_time": "2020-10-25T22:36:23.246901",
     "status": "completed"
    },
    "tags": []
   },
   "outputs": [],
   "source": [
    "#collapse\n",
    "def create_plot(df: pd.DataFrame, \n",
    "                column: Literal['totalTestResultsIncrease', \n",
    "                                'positiveIncrease', \n",
    "                                'death',\n",
    "                                'deathIncrease', \n",
    "                                'positiveRate'],\n",
    "                period: int = 7*8):\n",
    "    df = (\n",
    "     df\n",
    "     .assign(sma7d = lambda d: d[column].rolling(window=7).mean().round(3))\n",
    "     .loc[lambda d: d['date'] >= pd.to_datetime('today') - period * pd.Timedelta('1 days'), :]\n",
    "     .reset_index(drop=True)\n",
    "    )\n",
    "    the_state = df['state'][0]\n",
    "    label = alt.selection_single(\n",
    "        encodings=['x'], on='mouseover', nearest=True, empty='none')\n",
    "    \n",
    "    base = alt.Chart().mark_point(size=75).encode(\n",
    "        x='date:T',\n",
    "        y=f'{column}:Q',\n",
    "        tooltip=['date', f'{column}:Q', 'sma7d:Q']\n",
    "    )\n",
    "\n",
    "    sma = alt.Chart().mark_line(color='purple').encode(\n",
    "        x='date:T',\n",
    "        y='sma7d:Q'\n",
    "    )\n",
    "\n",
    "    layers = alt.layer(\n",
    "        base + sma,\n",
    "\n",
    "        # add a rule mark to serve as a guide line\n",
    "        alt.Chart().mark_rule(color='#aaa').encode(\n",
    "            x='date:T'\n",
    "        ).transform_filter(label),\n",
    "\n",
    "        # add circle marks for selected time points, hide unselected points\n",
    "        base.mark_circle().encode(\n",
    "            opacity=alt.condition(label, alt.value(1), alt.value(0))\n",
    "        ).add_selection(label),\n",
    "\n",
    "        # add white stroked text to provide a legible background for labels\n",
    "        base.mark_text(align='left', dx=5, dy=-5, stroke='white', strokeWidth=2).encode(\n",
    "            text=f'{column}:Q'\n",
    "        ).transform_filter(label),\n",
    "\n",
    "        # add text labels\n",
    "        base.mark_text(align='left', dx=5, dy=-5).encode(\n",
    "            text=f'{column}:Q'\n",
    "        ).transform_filter(label),\n",
    "        \n",
    "        data=df\n",
    "    ).properties(\n",
    "        title=f'{the_state}: {column}',\n",
    "        width=500,\n",
    "        height=400\n",
    "    )\n",
    "    \n",
    "    return layers.interactive()"
   ]
  },
  {
   "cell_type": "markdown",
   "metadata": {
    "papermill": {
     "duration": 0.043091,
     "end_time": "2020-10-25T22:36:23.399585",
     "exception": false,
     "start_time": "2020-10-25T22:36:23.356494",
     "status": "completed"
    },
    "tags": []
   },
   "source": [
    "# Plots"
   ]
  },
  {
   "cell_type": "markdown",
   "metadata": {
    "papermill": {
     "duration": 0.196847,
     "end_time": "2020-10-25T22:36:23.700755",
     "exception": false,
     "start_time": "2020-10-25T22:36:23.503908",
     "status": "completed"
    },
    "tags": []
   },
   "source": [
    "## US"
   ]
  },
  {
   "cell_type": "code",
   "execution_count": 6,
   "metadata": {
    "execution": {
     "iopub.execute_input": "2020-10-25T22:36:24.959212Z",
     "iopub.status.busy": "2020-10-25T22:36:24.958244Z",
     "iopub.status.idle": "2020-10-25T22:36:25.251486Z",
     "shell.execute_reply": "2020-10-25T22:36:25.250820Z"
    },
    "papermill": {
     "duration": 1.205767,
     "end_time": "2020-10-25T22:36:25.251644",
     "exception": false,
     "start_time": "2020-10-25T22:36:24.045877",
     "status": "completed"
    },
    "tags": []
   },
   "outputs": [],
   "source": [
    "us = create_df(df, lambda d: d.index > 0, 'US')"
   ]
  },
  {
   "cell_type": "code",
   "execution_count": 7,
   "metadata": {
    "execution": {
     "iopub.execute_input": "2020-10-25T22:36:25.313532Z",
     "iopub.status.busy": "2020-10-25T22:36:25.298266Z",
     "iopub.status.idle": "2020-10-25T22:36:25.376656Z",
     "shell.execute_reply": "2020-10-25T22:36:25.376097Z"
    },
    "papermill": {
     "duration": 0.112666,
     "end_time": "2020-10-25T22:36:25.376780",
     "exception": false,
     "start_time": "2020-10-25T22:36:25.264114",
     "status": "completed"
    },
    "tags": []
   },
   "outputs": [
    {
     "data": {
      "text/html": [
       "\n",
       "<div id=\"altair-viz-ec3603d588404519944b6ddbaee3606f\"></div>\n",
       "<script type=\"text/javascript\">\n",
       "  (function(spec, embedOpt){\n",
       "    let outputDiv = document.currentScript.previousElementSibling;\n",
       "    if (outputDiv.id !== \"altair-viz-ec3603d588404519944b6ddbaee3606f\") {\n",
       "      outputDiv = document.getElementById(\"altair-viz-ec3603d588404519944b6ddbaee3606f\");\n",
       "    }\n",
       "    const paths = {\n",
       "      \"vega\": \"https://cdn.jsdelivr.net/npm//vega@5?noext\",\n",
       "      \"vega-lib\": \"https://cdn.jsdelivr.net/npm//vega-lib?noext\",\n",
       "      \"vega-lite\": \"https://cdn.jsdelivr.net/npm//vega-lite@4.8.1?noext\",\n",
       "      \"vega-embed\": \"https://cdn.jsdelivr.net/npm//vega-embed@6?noext\",\n",
       "    };\n",
       "\n",
       "    function loadScript(lib) {\n",
       "      return new Promise(function(resolve, reject) {\n",
       "        var s = document.createElement('script');\n",
       "        s.src = paths[lib];\n",
       "        s.async = true;\n",
       "        s.onload = () => resolve(paths[lib]);\n",
       "        s.onerror = () => reject(`Error loading script: ${paths[lib]}`);\n",
       "        document.getElementsByTagName(\"head\")[0].appendChild(s);\n",
       "      });\n",
       "    }\n",
       "\n",
       "    function showError(err) {\n",
       "      outputDiv.innerHTML = `<div class=\"error\" style=\"color:red;\">${err}</div>`;\n",
       "      throw err;\n",
       "    }\n",
       "\n",
       "    function displayChart(vegaEmbed) {\n",
       "      vegaEmbed(outputDiv, spec, embedOpt)\n",
       "        .catch(err => showError(`Javascript Error: ${err.message}<br>This usually means there's a typo in your chart specification. See the javascript console for the full traceback.`));\n",
       "    }\n",
       "\n",
       "    if(typeof define === \"function\" && define.amd) {\n",
       "      requirejs.config({paths});\n",
       "      require([\"vega-embed\"], displayChart, err => showError(`Error loading script: ${err.message}`));\n",
       "    } else if (typeof vegaEmbed === \"function\") {\n",
       "      displayChart(vegaEmbed);\n",
       "    } else {\n",
       "      loadScript(\"vega\")\n",
       "        .then(() => loadScript(\"vega-lite\"))\n",
       "        .then(() => loadScript(\"vega-embed\"))\n",
       "        .catch(showError)\n",
       "        .then(() => displayChart(vegaEmbed));\n",
       "    }\n",
       "  })({\"config\": {\"view\": {\"continuousWidth\": 400, \"continuousHeight\": 300}}, \"layer\": [{\"layer\": [{\"mark\": {\"type\": \"point\", \"size\": 75}, \"encoding\": {\"tooltip\": [{\"type\": \"temporal\", \"field\": \"date\"}, {\"type\": \"quantitative\", \"field\": \"positiveIncrease\"}, {\"type\": \"quantitative\", \"field\": \"sma7d\"}], \"x\": {\"type\": \"temporal\", \"field\": \"date\"}, \"y\": {\"type\": \"quantitative\", \"field\": \"positiveIncrease\"}}, \"selection\": {\"selector002\": {\"type\": \"interval\", \"bind\": \"scales\", \"encodings\": [\"x\", \"y\"]}}}, {\"mark\": {\"type\": \"line\", \"color\": \"purple\"}, \"encoding\": {\"x\": {\"type\": \"temporal\", \"field\": \"date\"}, \"y\": {\"type\": \"quantitative\", \"field\": \"sma7d\"}}}]}, {\"mark\": {\"type\": \"rule\", \"color\": \"#aaa\"}, \"encoding\": {\"x\": {\"type\": \"temporal\", \"field\": \"date\"}}, \"transform\": [{\"filter\": {\"selection\": \"selector001\"}}]}, {\"mark\": \"circle\", \"encoding\": {\"opacity\": {\"condition\": {\"value\": 1, \"selection\": \"selector001\"}, \"value\": 0}, \"tooltip\": [{\"type\": \"temporal\", \"field\": \"date\"}, {\"type\": \"quantitative\", \"field\": \"positiveIncrease\"}, {\"type\": \"quantitative\", \"field\": \"sma7d\"}], \"x\": {\"type\": \"temporal\", \"field\": \"date\"}, \"y\": {\"type\": \"quantitative\", \"field\": \"positiveIncrease\"}}, \"selection\": {\"selector001\": {\"type\": \"single\", \"encodings\": [\"x\"], \"on\": \"mouseover\", \"nearest\": true, \"empty\": \"none\"}}}, {\"mark\": {\"type\": \"text\", \"align\": \"left\", \"dx\": 5, \"dy\": -5, \"stroke\": \"white\", \"strokeWidth\": 2}, \"encoding\": {\"text\": {\"type\": \"quantitative\", \"field\": \"positiveIncrease\"}, \"tooltip\": [{\"type\": \"temporal\", \"field\": \"date\"}, {\"type\": \"quantitative\", \"field\": \"positiveIncrease\"}, {\"type\": \"quantitative\", \"field\": \"sma7d\"}], \"x\": {\"type\": \"temporal\", \"field\": \"date\"}, \"y\": {\"type\": \"quantitative\", \"field\": \"positiveIncrease\"}}, \"transform\": [{\"filter\": {\"selection\": \"selector001\"}}]}, {\"mark\": {\"type\": \"text\", \"align\": \"left\", \"dx\": 5, \"dy\": -5}, \"encoding\": {\"text\": {\"type\": \"quantitative\", \"field\": \"positiveIncrease\"}, \"tooltip\": [{\"type\": \"temporal\", \"field\": \"date\"}, {\"type\": \"quantitative\", \"field\": \"positiveIncrease\"}, {\"type\": \"quantitative\", \"field\": \"sma7d\"}], \"x\": {\"type\": \"temporal\", \"field\": \"date\"}, \"y\": {\"type\": \"quantitative\", \"field\": \"positiveIncrease\"}}, \"transform\": [{\"filter\": {\"selection\": \"selector001\"}}]}], \"data\": {\"name\": \"data-17820cee6878112acaae06abe5545abf\"}, \"height\": 400, \"title\": \"US: positiveIncrease\", \"width\": 500, \"$schema\": \"https://vega.github.io/schema/vega-lite/v4.8.1.json\", \"datasets\": {\"data-17820cee6878112acaae06abe5545abf\": [{\"date\": \"2020-08-31T00:00:00\", \"totalTestResultsIncrease\": 709747.0, \"positiveIncrease\": 31406.0, \"death\": 175612.0, \"deathIncrease\": 366.0, \"positiveRate\": 0.044, \"state\": \"US\", \"sma7d\": 40910.286}, {\"date\": \"2020-09-01T00:00:00\", \"totalTestResultsIncrease\": 755892.0, \"positiveIncrease\": 42433.0, \"death\": 176639.0, \"deathIncrease\": 1027.0, \"positiveRate\": 0.056, \"state\": \"US\", \"sma7d\": 41775.143}, {\"date\": \"2020-09-02T00:00:00\", \"totalTestResultsIncrease\": 704010.0, \"positiveIncrease\": 30603.0, \"death\": 177671.0, \"deathIncrease\": 1032.0, \"positiveRate\": 0.043, \"state\": \"US\", \"sma7d\": 39853.714}, {\"date\": \"2020-09-03T00:00:00\", \"totalTestResultsIncrease\": 829026.0, \"positiveIncrease\": 44714.0, \"death\": 178741.0, \"deathIncrease\": 1070.0, \"positiveRate\": 0.054, \"state\": \"US\", \"sma7d\": 39958.0}, {\"date\": \"2020-09-04T00:00:00\", \"totalTestResultsIncrease\": 979276.0, \"positiveIncrease\": 51591.0, \"death\": 179739.0, \"deathIncrease\": 998.0, \"positiveRate\": 0.053, \"state\": \"US\", \"sma7d\": 40678.429}, {\"date\": \"2020-09-05T00:00:00\", \"totalTestResultsIncrease\": 908170.0, \"positiveIncrease\": 44905.0, \"death\": 180657.0, \"deathIncrease\": 918.0, \"positiveRate\": 0.049, \"state\": \"US\", \"sma7d\": 40736.143}, {\"date\": \"2020-09-06T00:00:00\", \"totalTestResultsIncrease\": 789810.0, \"positiveIncrease\": 33117.0, \"death\": 181106.0, \"deathIncrease\": 449.0, \"positiveRate\": 0.042, \"state\": \"US\", \"sma7d\": 39824.143}, {\"date\": \"2020-09-07T00:00:00\", \"totalTestResultsIncrease\": 626056.0, \"positiveIncrease\": 28682.0, \"death\": 181331.0, \"deathIncrease\": 225.0, \"positiveRate\": 0.046, \"state\": \"US\", \"sma7d\": 39435.0}, {\"date\": \"2020-09-08T00:00:00\", \"totalTestResultsIncrease\": 552119.0, \"positiveIncrease\": 22223.0, \"death\": 181689.0, \"deathIncrease\": 358.0, \"positiveRate\": 0.04, \"state\": \"US\", \"sma7d\": 36547.857}, {\"date\": \"2020-09-09T00:00:00\", \"totalTestResultsIncrease\": 659081.0, \"positiveIncrease\": 31114.0, \"death\": 182773.0, \"deathIncrease\": 1084.0, \"positiveRate\": 0.047, \"state\": \"US\", \"sma7d\": 36620.857}, {\"date\": \"2020-09-10T00:00:00\", \"totalTestResultsIncrease\": 730436.0, \"positiveIncrease\": 37581.0, \"death\": 183943.0, \"deathIncrease\": 1170.0, \"positiveRate\": 0.051, \"state\": \"US\", \"sma7d\": 35601.857}, {\"date\": \"2020-09-11T00:00:00\", \"totalTestResultsIncrease\": 857008.0, \"positiveIncrease\": 44927.0, \"death\": 184961.0, \"deathIncrease\": 1018.0, \"positiveRate\": 0.052, \"state\": \"US\", \"sma7d\": 34649.857}, {\"date\": \"2020-09-12T00:00:00\", \"totalTestResultsIncrease\": 930296.0, \"positiveIncrease\": 42090.0, \"death\": 185771.0, \"deathIncrease\": 810.0, \"positiveRate\": 0.045, \"state\": \"US\", \"sma7d\": 34247.714}, {\"date\": \"2020-09-13T00:00:00\", \"totalTestResultsIncrease\": 720625.0, \"positiveIncrease\": 34453.0, \"death\": 186161.0, \"deathIncrease\": 390.0, \"positiveRate\": 0.048, \"state\": \"US\", \"sma7d\": 34438.571}, {\"date\": \"2020-09-14T00:00:00\", \"totalTestResultsIncrease\": 457583.0, \"positiveIncrease\": 33864.0, \"death\": 186565.0, \"deathIncrease\": 404.0, \"positiveRate\": 0.074, \"state\": \"US\", \"sma7d\": 35178.857}, {\"date\": \"2020-09-15T00:00:00\", \"totalTestResultsIncrease\": 760441.0, \"positiveIncrease\": 35445.0, \"death\": 187596.0, \"deathIncrease\": 1031.0, \"positiveRate\": 0.047, \"state\": \"US\", \"sma7d\": 37067.714}, {\"date\": \"2020-09-16T00:00:00\", \"totalTestResultsIncrease\": 770519.0, \"positiveIncrease\": 40021.0, \"death\": 188796.0, \"deathIncrease\": 1200.0, \"positiveRate\": 0.052, \"state\": \"US\", \"sma7d\": 38340.143}, {\"date\": \"2020-09-17T00:00:00\", \"totalTestResultsIncrease\": 885801.0, \"positiveIncrease\": 43558.0, \"death\": 189659.0, \"deathIncrease\": 863.0, \"positiveRate\": 0.049, \"state\": \"US\", \"sma7d\": 39194.0}, {\"date\": \"2020-09-18T00:00:00\", \"totalTestResultsIncrease\": 1019046.0, \"positiveIncrease\": 47486.0, \"death\": 190560.0, \"deathIncrease\": 901.0, \"positiveRate\": 0.047, \"state\": \"US\", \"sma7d\": 39559.571}, {\"date\": \"2020-09-19T00:00:00\", \"totalTestResultsIncrease\": 1100834.0, \"positiveIncrease\": 45564.0, \"death\": 191300.0, \"deathIncrease\": 740.0, \"positiveRate\": 0.041, \"state\": \"US\", \"sma7d\": 40055.857}, {\"date\": \"2020-09-20T00:00:00\", \"totalTestResultsIncrease\": 932891.0, \"positiveIncrease\": 36295.0, \"death\": 191627.0, \"deathIncrease\": 327.0, \"positiveRate\": 0.039, \"state\": \"US\", \"sma7d\": 40319.0}, {\"date\": \"2020-09-21T00:00:00\", \"totalTestResultsIncrease\": 736099.0, \"positiveIncrease\": 39472.0, \"death\": 191914.0, \"deathIncrease\": 287.0, \"positiveRate\": 0.054, \"state\": \"US\", \"sma7d\": 41120.143}, {\"date\": \"2020-09-22T00:00:00\", \"totalTestResultsIncrease\": 812522.0, \"positiveIncrease\": 49439.0, \"death\": 192768.0, \"deathIncrease\": 854.0, \"positiveRate\": 0.061, \"state\": \"US\", \"sma7d\": 43119.286}, {\"date\": \"2020-09-23T00:00:00\", \"totalTestResultsIncrease\": 962736.0, \"positiveIncrease\": 38567.0, \"death\": 193927.0, \"deathIncrease\": 1159.0, \"positiveRate\": 0.04, \"state\": \"US\", \"sma7d\": 42911.571}, {\"date\": \"2020-09-24T00:00:00\", \"totalTestResultsIncrease\": 974780.0, \"positiveIncrease\": 43772.0, \"death\": 194848.0, \"deathIncrease\": 921.0, \"positiveRate\": 0.045, \"state\": \"US\", \"sma7d\": 42942.143}, {\"date\": \"2020-09-25T00:00:00\", \"totalTestResultsIncrease\": 1054257.0, \"positiveIncrease\": 55526.0, \"death\": 195692.0, \"deathIncrease\": 844.0, \"positiveRate\": 0.053, \"state\": \"US\", \"sma7d\": 44090.714}, {\"date\": \"2020-09-26T00:00:00\", \"totalTestResultsIncrease\": 1056638.0, \"positiveIncrease\": 47856.0, \"death\": 196561.0, \"deathIncrease\": 869.0, \"positiveRate\": 0.045, \"state\": \"US\", \"sma7d\": 44418.143}, {\"date\": \"2020-09-27T00:00:00\", \"totalTestResultsIncrease\": 849716.0, \"positiveIncrease\": 35454.0, \"death\": 196868.0, \"deathIncrease\": 307.0, \"positiveRate\": 0.042, \"state\": \"US\", \"sma7d\": 44298.0}, {\"date\": \"2020-09-28T00:00:00\", \"totalTestResultsIncrease\": 1128313.0, \"positiveIncrease\": 36524.0, \"death\": 197125.0, \"deathIncrease\": 257.0, \"positiveRate\": 0.032, \"state\": \"US\", \"sma7d\": 43876.857}, {\"date\": \"2020-09-29T00:00:00\", \"totalTestResultsIncrease\": 858199.0, \"positiveIncrease\": 36947.0, \"death\": 197864.0, \"deathIncrease\": 739.0, \"positiveRate\": 0.043, \"state\": \"US\", \"sma7d\": 42092.286}, {\"date\": \"2020-09-30T00:00:00\", \"totalTestResultsIncrease\": 846795.0, \"positiveIncrease\": 44424.0, \"death\": 198925.0, \"deathIncrease\": 1061.0, \"positiveRate\": 0.052, \"state\": \"US\", \"sma7d\": 42929.0}, {\"date\": \"2020-10-01T00:00:00\", \"totalTestResultsIncrease\": 932192.0, \"positiveIncrease\": 45694.0, \"death\": 199776.0, \"deathIncrease\": 851.0, \"positiveRate\": 0.049, \"state\": \"US\", \"sma7d\": 43203.571}, {\"date\": \"2020-10-02T00:00:00\", \"totalTestResultsIncrease\": 1163846.0, \"positiveIncrease\": 49534.0, \"death\": 200611.0, \"deathIncrease\": 835.0, \"positiveRate\": 0.043, \"state\": \"US\", \"sma7d\": 42347.571}, {\"date\": \"2020-10-03T00:00:00\", \"totalTestResultsIncrease\": 1033797.0, \"positiveIncrease\": 51372.0, \"death\": 201352.0, \"deathIncrease\": 741.0, \"positiveRate\": 0.05, \"state\": \"US\", \"sma7d\": 42849.857}, {\"date\": \"2020-10-04T00:00:00\", \"totalTestResultsIncrease\": 973819.0, \"positiveIncrease\": 38439.0, \"death\": 201715.0, \"deathIncrease\": 363.0, \"positiveRate\": 0.039, \"state\": \"US\", \"sma7d\": 43276.286}, {\"date\": \"2020-10-05T00:00:00\", \"totalTestResultsIncrease\": 947309.0, \"positiveIncrease\": 38133.0, \"death\": 202041.0, \"deathIncrease\": 326.0, \"positiveRate\": 0.04, \"state\": \"US\", \"sma7d\": 43506.143}, {\"date\": \"2020-10-06T00:00:00\", \"totalTestResultsIncrease\": 859821.0, \"positiveIncrease\": 38661.0, \"death\": 202675.0, \"deathIncrease\": 634.0, \"positiveRate\": 0.045, \"state\": \"US\", \"sma7d\": 43751.0}, {\"date\": \"2020-10-07T00:00:00\", \"totalTestResultsIncrease\": 900890.0, \"positiveIncrease\": 50602.0, \"death\": 203591.0, \"deathIncrease\": 916.0, \"positiveRate\": 0.056, \"state\": \"US\", \"sma7d\": 44633.571}, {\"date\": \"2020-10-08T00:00:00\", \"totalTestResultsIncrease\": 1076091.0, \"positiveIncrease\": 55352.0, \"death\": 204577.0, \"deathIncrease\": 986.0, \"positiveRate\": 0.051, \"state\": \"US\", \"sma7d\": 46013.286}, {\"date\": \"2020-10-09T00:00:00\", \"totalTestResultsIncrease\": 1126887.0, \"positiveIncrease\": 57060.0, \"death\": 205470.0, \"deathIncrease\": 893.0, \"positiveRate\": 0.051, \"state\": \"US\", \"sma7d\": 47088.429}, {\"date\": \"2020-10-10T00:00:00\", \"totalTestResultsIncrease\": 1185902.0, \"positiveIncrease\": 57492.0, \"death\": 206135.0, \"deathIncrease\": 665.0, \"positiveRate\": 0.048, \"state\": \"US\", \"sma7d\": 47962.714}, {\"date\": \"2020-10-11T00:00:00\", \"totalTestResultsIncrease\": 972008.0, \"positiveIncrease\": 46946.0, \"death\": 206601.0, \"deathIncrease\": 466.0, \"positiveRate\": 0.048, \"state\": \"US\", \"sma7d\": 49178.0}, {\"date\": \"2020-10-12T00:00:00\", \"totalTestResultsIncrease\": 1016963.0, \"positiveIncrease\": 43124.0, \"death\": 206888.0, \"deathIncrease\": 287.0, \"positiveRate\": 0.042, \"state\": \"US\", \"sma7d\": 49891.0}, {\"date\": \"2020-10-13T00:00:00\", \"totalTestResultsIncrease\": 986044.0, \"positiveIncrease\": 48387.0, \"death\": 207578.0, \"deathIncrease\": 690.0, \"positiveRate\": 0.049, \"state\": \"US\", \"sma7d\": 51280.429}, {\"date\": \"2020-10-14T00:00:00\", \"totalTestResultsIncrease\": 981061.0, \"positiveIncrease\": 56797.0, \"death\": 208389.0, \"deathIncrease\": 811.0, \"positiveRate\": 0.058, \"state\": \"US\", \"sma7d\": 52165.429}, {\"date\": \"2020-10-15T00:00:00\", \"totalTestResultsIncrease\": 1019134.0, \"positiveIncrease\": 63172.0, \"death\": 209340.0, \"deathIncrease\": 951.0, \"positiveRate\": 0.062, \"state\": \"US\", \"sma7d\": 53282.571}, {\"date\": \"2020-10-16T00:00:00\", \"totalTestResultsIncrease\": 1143161.0, \"positiveIncrease\": 68124.0, \"death\": 210217.0, \"deathIncrease\": 877.0, \"positiveRate\": 0.06, \"state\": \"US\", \"sma7d\": 54863.143}, {\"date\": \"2020-10-17T00:00:00\", \"totalTestResultsIncrease\": 1195546.0, \"positiveIncrease\": 57943.0, \"death\": 210997.0, \"deathIncrease\": 780.0, \"positiveRate\": 0.048, \"state\": \"US\", \"sma7d\": 54927.571}, {\"date\": \"2020-10-18T00:00:00\", \"totalTestResultsIncrease\": 982434.0, \"positiveIncrease\": 48922.0, \"death\": 211390.0, \"deathIncrease\": 393.0, \"positiveRate\": 0.05, \"state\": \"US\", \"sma7d\": 55209.857}, {\"date\": \"2020-10-19T00:00:00\", \"totalTestResultsIncrease\": 1203168.0, \"positiveIncrease\": 57148.0, \"death\": 211846.0, \"deathIncrease\": 456.0, \"positiveRate\": 0.047, \"state\": \"US\", \"sma7d\": 57213.286}, {\"date\": \"2020-10-20T00:00:00\", \"totalTestResultsIncrease\": 909386.0, \"positiveIncrease\": 60664.0, \"death\": 212678.0, \"deathIncrease\": 832.0, \"positiveRate\": 0.067, \"state\": \"US\", \"sma7d\": 58967.143}, {\"date\": \"2020-10-21T00:00:00\", \"totalTestResultsIncrease\": 880842.0, \"positiveIncrease\": 58606.0, \"death\": 213702.0, \"deathIncrease\": 1024.0, \"positiveRate\": 0.067, \"state\": \"US\", \"sma7d\": 59225.571}, {\"date\": \"2020-10-22T00:00:00\", \"totalTestResultsIncrease\": 1128940.0, \"positiveIncrease\": 75248.0, \"death\": 214845.0, \"deathIncrease\": 1143.0, \"positiveRate\": 0.067, \"state\": \"US\", \"sma7d\": 60950.714}, {\"date\": \"2020-10-23T00:00:00\", \"totalTestResultsIncrease\": 1280133.0, \"positiveIncrease\": 83010.0, \"death\": 215761.0, \"deathIncrease\": 916.0, \"positiveRate\": 0.065, \"state\": \"US\", \"sma7d\": 63077.286}, {\"date\": \"2020-10-24T00:00:00\", \"totalTestResultsIncrease\": 1210497.0, \"positiveIncrease\": 82668.0, \"death\": 216646.0, \"deathIncrease\": 885.0, \"positiveRate\": 0.068, \"state\": \"US\", \"sma7d\": 66609.429}, {\"date\": \"2020-10-25T00:00:00\", \"totalTestResultsIncrease\": 1105926.0, \"positiveIncrease\": 64884.0, \"death\": 216955.0, \"deathIncrease\": 377.0, \"positiveRate\": 0.059, \"state\": \"US\", \"sma7d\": 68889.714}]}}, {\"mode\": \"vega-lite\"});\n",
       "</script>"
      ],
      "text/plain": [
       "alt.LayerChart(...)"
      ]
     },
     "execution_count": 7,
     "metadata": {},
     "output_type": "execute_result"
    }
   ],
   "source": [
    "create_plot(us, 'positiveIncrease')"
   ]
  },
  {
   "cell_type": "code",
   "execution_count": 8,
   "metadata": {
    "execution": {
     "iopub.execute_input": "2020-10-25T22:36:25.404731Z",
     "iopub.status.busy": "2020-10-25T22:36:25.404109Z",
     "iopub.status.idle": "2020-10-25T22:36:25.490537Z",
     "shell.execute_reply": "2020-10-25T22:36:25.489816Z"
    },
    "papermill": {
     "duration": 0.102033,
     "end_time": "2020-10-25T22:36:25.490654",
     "exception": false,
     "start_time": "2020-10-25T22:36:25.388621",
     "status": "completed"
    },
    "tags": []
   },
   "outputs": [
    {
     "data": {
      "text/html": [
       "\n",
       "<div id=\"altair-viz-f293cdee824c49098d763fbe98701ebf\"></div>\n",
       "<script type=\"text/javascript\">\n",
       "  (function(spec, embedOpt){\n",
       "    let outputDiv = document.currentScript.previousElementSibling;\n",
       "    if (outputDiv.id !== \"altair-viz-f293cdee824c49098d763fbe98701ebf\") {\n",
       "      outputDiv = document.getElementById(\"altair-viz-f293cdee824c49098d763fbe98701ebf\");\n",
       "    }\n",
       "    const paths = {\n",
       "      \"vega\": \"https://cdn.jsdelivr.net/npm//vega@5?noext\",\n",
       "      \"vega-lib\": \"https://cdn.jsdelivr.net/npm//vega-lib?noext\",\n",
       "      \"vega-lite\": \"https://cdn.jsdelivr.net/npm//vega-lite@4.8.1?noext\",\n",
       "      \"vega-embed\": \"https://cdn.jsdelivr.net/npm//vega-embed@6?noext\",\n",
       "    };\n",
       "\n",
       "    function loadScript(lib) {\n",
       "      return new Promise(function(resolve, reject) {\n",
       "        var s = document.createElement('script');\n",
       "        s.src = paths[lib];\n",
       "        s.async = true;\n",
       "        s.onload = () => resolve(paths[lib]);\n",
       "        s.onerror = () => reject(`Error loading script: ${paths[lib]}`);\n",
       "        document.getElementsByTagName(\"head\")[0].appendChild(s);\n",
       "      });\n",
       "    }\n",
       "\n",
       "    function showError(err) {\n",
       "      outputDiv.innerHTML = `<div class=\"error\" style=\"color:red;\">${err}</div>`;\n",
       "      throw err;\n",
       "    }\n",
       "\n",
       "    function displayChart(vegaEmbed) {\n",
       "      vegaEmbed(outputDiv, spec, embedOpt)\n",
       "        .catch(err => showError(`Javascript Error: ${err.message}<br>This usually means there's a typo in your chart specification. See the javascript console for the full traceback.`));\n",
       "    }\n",
       "\n",
       "    if(typeof define === \"function\" && define.amd) {\n",
       "      requirejs.config({paths});\n",
       "      require([\"vega-embed\"], displayChart, err => showError(`Error loading script: ${err.message}`));\n",
       "    } else if (typeof vegaEmbed === \"function\") {\n",
       "      displayChart(vegaEmbed);\n",
       "    } else {\n",
       "      loadScript(\"vega\")\n",
       "        .then(() => loadScript(\"vega-lite\"))\n",
       "        .then(() => loadScript(\"vega-embed\"))\n",
       "        .catch(showError)\n",
       "        .then(() => displayChart(vegaEmbed));\n",
       "    }\n",
       "  })({\"config\": {\"view\": {\"continuousWidth\": 400, \"continuousHeight\": 300}}, \"layer\": [{\"layer\": [{\"mark\": {\"type\": \"point\", \"size\": 75}, \"encoding\": {\"tooltip\": [{\"type\": \"temporal\", \"field\": \"date\"}, {\"type\": \"quantitative\", \"field\": \"positiveRate\"}, {\"type\": \"quantitative\", \"field\": \"sma7d\"}], \"x\": {\"type\": \"temporal\", \"field\": \"date\"}, \"y\": {\"type\": \"quantitative\", \"field\": \"positiveRate\"}}, \"selection\": {\"selector004\": {\"type\": \"interval\", \"bind\": \"scales\", \"encodings\": [\"x\", \"y\"]}}}, {\"mark\": {\"type\": \"line\", \"color\": \"purple\"}, \"encoding\": {\"x\": {\"type\": \"temporal\", \"field\": \"date\"}, \"y\": {\"type\": \"quantitative\", \"field\": \"sma7d\"}}}]}, {\"mark\": {\"type\": \"rule\", \"color\": \"#aaa\"}, \"encoding\": {\"x\": {\"type\": \"temporal\", \"field\": \"date\"}}, \"transform\": [{\"filter\": {\"selection\": \"selector003\"}}]}, {\"mark\": \"circle\", \"encoding\": {\"opacity\": {\"condition\": {\"value\": 1, \"selection\": \"selector003\"}, \"value\": 0}, \"tooltip\": [{\"type\": \"temporal\", \"field\": \"date\"}, {\"type\": \"quantitative\", \"field\": \"positiveRate\"}, {\"type\": \"quantitative\", \"field\": \"sma7d\"}], \"x\": {\"type\": \"temporal\", \"field\": \"date\"}, \"y\": {\"type\": \"quantitative\", \"field\": \"positiveRate\"}}, \"selection\": {\"selector003\": {\"type\": \"single\", \"encodings\": [\"x\"], \"on\": \"mouseover\", \"nearest\": true, \"empty\": \"none\"}}}, {\"mark\": {\"type\": \"text\", \"align\": \"left\", \"dx\": 5, \"dy\": -5, \"stroke\": \"white\", \"strokeWidth\": 2}, \"encoding\": {\"text\": {\"type\": \"quantitative\", \"field\": \"positiveRate\"}, \"tooltip\": [{\"type\": \"temporal\", \"field\": \"date\"}, {\"type\": \"quantitative\", \"field\": \"positiveRate\"}, {\"type\": \"quantitative\", \"field\": \"sma7d\"}], \"x\": {\"type\": \"temporal\", \"field\": \"date\"}, \"y\": {\"type\": \"quantitative\", \"field\": \"positiveRate\"}}, \"transform\": [{\"filter\": {\"selection\": \"selector003\"}}]}, {\"mark\": {\"type\": \"text\", \"align\": \"left\", \"dx\": 5, \"dy\": -5}, \"encoding\": {\"text\": {\"type\": \"quantitative\", \"field\": \"positiveRate\"}, \"tooltip\": [{\"type\": \"temporal\", \"field\": \"date\"}, {\"type\": \"quantitative\", \"field\": \"positiveRate\"}, {\"type\": \"quantitative\", \"field\": \"sma7d\"}], \"x\": {\"type\": \"temporal\", \"field\": \"date\"}, \"y\": {\"type\": \"quantitative\", \"field\": \"positiveRate\"}}, \"transform\": [{\"filter\": {\"selection\": \"selector003\"}}]}], \"data\": {\"name\": \"data-53f7b14f41ba875f7e36257ea6b44e78\"}, \"height\": 400, \"title\": \"US: positiveRate\", \"width\": 500, \"$schema\": \"https://vega.github.io/schema/vega-lite/v4.8.1.json\", \"datasets\": {\"data-53f7b14f41ba875f7e36257ea6b44e78\": [{\"date\": \"2020-08-31T00:00:00\", \"totalTestResultsIncrease\": 709747.0, \"positiveIncrease\": 31406.0, \"death\": 175612.0, \"deathIncrease\": 366.0, \"positiveRate\": 0.044, \"state\": \"US\", \"sma7d\": 0.053}, {\"date\": \"2020-09-01T00:00:00\", \"totalTestResultsIncrease\": 755892.0, \"positiveIncrease\": 42433.0, \"death\": 176639.0, \"deathIncrease\": 1027.0, \"positiveRate\": 0.056, \"state\": \"US\", \"sma7d\": 0.054}, {\"date\": \"2020-09-02T00:00:00\", \"totalTestResultsIncrease\": 704010.0, \"positiveIncrease\": 30603.0, \"death\": 177671.0, \"deathIncrease\": 1032.0, \"positiveRate\": 0.043, \"state\": \"US\", \"sma7d\": 0.051}, {\"date\": \"2020-09-03T00:00:00\", \"totalTestResultsIncrease\": 829026.0, \"positiveIncrease\": 44714.0, \"death\": 178741.0, \"deathIncrease\": 1070.0, \"positiveRate\": 0.054, \"state\": \"US\", \"sma7d\": 0.051}, {\"date\": \"2020-09-04T00:00:00\", \"totalTestResultsIncrease\": 979276.0, \"positiveIncrease\": 51591.0, \"death\": 179739.0, \"deathIncrease\": 998.0, \"positiveRate\": 0.053, \"state\": \"US\", \"sma7d\": 0.05}, {\"date\": \"2020-09-05T00:00:00\", \"totalTestResultsIncrease\": 908170.0, \"positiveIncrease\": 44905.0, \"death\": 180657.0, \"deathIncrease\": 918.0, \"positiveRate\": 0.049, \"state\": \"US\", \"sma7d\": 0.05}, {\"date\": \"2020-09-06T00:00:00\", \"totalTestResultsIncrease\": 789810.0, \"positiveIncrease\": 33117.0, \"death\": 181106.0, \"deathIncrease\": 449.0, \"positiveRate\": 0.042, \"state\": \"US\", \"sma7d\": 0.049}, {\"date\": \"2020-09-07T00:00:00\", \"totalTestResultsIncrease\": 626056.0, \"positiveIncrease\": 28682.0, \"death\": 181331.0, \"deathIncrease\": 225.0, \"positiveRate\": 0.046, \"state\": \"US\", \"sma7d\": 0.049}, {\"date\": \"2020-09-08T00:00:00\", \"totalTestResultsIncrease\": 552119.0, \"positiveIncrease\": 22223.0, \"death\": 181689.0, \"deathIncrease\": 358.0, \"positiveRate\": 0.04, \"state\": \"US\", \"sma7d\": 0.047}, {\"date\": \"2020-09-09T00:00:00\", \"totalTestResultsIncrease\": 659081.0, \"positiveIncrease\": 31114.0, \"death\": 182773.0, \"deathIncrease\": 1084.0, \"positiveRate\": 0.047, \"state\": \"US\", \"sma7d\": 0.047}, {\"date\": \"2020-09-10T00:00:00\", \"totalTestResultsIncrease\": 730436.0, \"positiveIncrease\": 37581.0, \"death\": 183943.0, \"deathIncrease\": 1170.0, \"positiveRate\": 0.051, \"state\": \"US\", \"sma7d\": 0.047}, {\"date\": \"2020-09-11T00:00:00\", \"totalTestResultsIncrease\": 857008.0, \"positiveIncrease\": 44927.0, \"death\": 184961.0, \"deathIncrease\": 1018.0, \"positiveRate\": 0.052, \"state\": \"US\", \"sma7d\": 0.047}, {\"date\": \"2020-09-12T00:00:00\", \"totalTestResultsIncrease\": 930296.0, \"positiveIncrease\": 42090.0, \"death\": 185771.0, \"deathIncrease\": 810.0, \"positiveRate\": 0.045, \"state\": \"US\", \"sma7d\": 0.046}, {\"date\": \"2020-09-13T00:00:00\", \"totalTestResultsIncrease\": 720625.0, \"positiveIncrease\": 34453.0, \"death\": 186161.0, \"deathIncrease\": 390.0, \"positiveRate\": 0.048, \"state\": \"US\", \"sma7d\": 0.047}, {\"date\": \"2020-09-14T00:00:00\", \"totalTestResultsIncrease\": 457583.0, \"positiveIncrease\": 33864.0, \"death\": 186565.0, \"deathIncrease\": 404.0, \"positiveRate\": 0.074, \"state\": \"US\", \"sma7d\": 0.051}, {\"date\": \"2020-09-15T00:00:00\", \"totalTestResultsIncrease\": 760441.0, \"positiveIncrease\": 35445.0, \"death\": 187596.0, \"deathIncrease\": 1031.0, \"positiveRate\": 0.047, \"state\": \"US\", \"sma7d\": 0.052}, {\"date\": \"2020-09-16T00:00:00\", \"totalTestResultsIncrease\": 770519.0, \"positiveIncrease\": 40021.0, \"death\": 188796.0, \"deathIncrease\": 1200.0, \"positiveRate\": 0.052, \"state\": \"US\", \"sma7d\": 0.053}, {\"date\": \"2020-09-17T00:00:00\", \"totalTestResultsIncrease\": 885801.0, \"positiveIncrease\": 43558.0, \"death\": 189659.0, \"deathIncrease\": 863.0, \"positiveRate\": 0.049, \"state\": \"US\", \"sma7d\": 0.052}, {\"date\": \"2020-09-18T00:00:00\", \"totalTestResultsIncrease\": 1019046.0, \"positiveIncrease\": 47486.0, \"death\": 190560.0, \"deathIncrease\": 901.0, \"positiveRate\": 0.047, \"state\": \"US\", \"sma7d\": 0.052}, {\"date\": \"2020-09-19T00:00:00\", \"totalTestResultsIncrease\": 1100834.0, \"positiveIncrease\": 45564.0, \"death\": 191300.0, \"deathIncrease\": 740.0, \"positiveRate\": 0.041, \"state\": \"US\", \"sma7d\": 0.051}, {\"date\": \"2020-09-20T00:00:00\", \"totalTestResultsIncrease\": 932891.0, \"positiveIncrease\": 36295.0, \"death\": 191627.0, \"deathIncrease\": 327.0, \"positiveRate\": 0.039, \"state\": \"US\", \"sma7d\": 0.05}, {\"date\": \"2020-09-21T00:00:00\", \"totalTestResultsIncrease\": 736099.0, \"positiveIncrease\": 39472.0, \"death\": 191914.0, \"deathIncrease\": 287.0, \"positiveRate\": 0.054, \"state\": \"US\", \"sma7d\": 0.047}, {\"date\": \"2020-09-22T00:00:00\", \"totalTestResultsIncrease\": 812522.0, \"positiveIncrease\": 49439.0, \"death\": 192768.0, \"deathIncrease\": 854.0, \"positiveRate\": 0.061, \"state\": \"US\", \"sma7d\": 0.049}, {\"date\": \"2020-09-23T00:00:00\", \"totalTestResultsIncrease\": 962736.0, \"positiveIncrease\": 38567.0, \"death\": 193927.0, \"deathIncrease\": 1159.0, \"positiveRate\": 0.04, \"state\": \"US\", \"sma7d\": 0.047}, {\"date\": \"2020-09-24T00:00:00\", \"totalTestResultsIncrease\": 974780.0, \"positiveIncrease\": 43772.0, \"death\": 194848.0, \"deathIncrease\": 921.0, \"positiveRate\": 0.045, \"state\": \"US\", \"sma7d\": 0.047}, {\"date\": \"2020-09-25T00:00:00\", \"totalTestResultsIncrease\": 1054257.0, \"positiveIncrease\": 55526.0, \"death\": 195692.0, \"deathIncrease\": 844.0, \"positiveRate\": 0.053, \"state\": \"US\", \"sma7d\": 0.048}, {\"date\": \"2020-09-26T00:00:00\", \"totalTestResultsIncrease\": 1056638.0, \"positiveIncrease\": 47856.0, \"death\": 196561.0, \"deathIncrease\": 869.0, \"positiveRate\": 0.045, \"state\": \"US\", \"sma7d\": 0.048}, {\"date\": \"2020-09-27T00:00:00\", \"totalTestResultsIncrease\": 849716.0, \"positiveIncrease\": 35454.0, \"death\": 196868.0, \"deathIncrease\": 307.0, \"positiveRate\": 0.042, \"state\": \"US\", \"sma7d\": 0.049}, {\"date\": \"2020-09-28T00:00:00\", \"totalTestResultsIncrease\": 1128313.0, \"positiveIncrease\": 36524.0, \"death\": 197125.0, \"deathIncrease\": 257.0, \"positiveRate\": 0.032, \"state\": \"US\", \"sma7d\": 0.045}, {\"date\": \"2020-09-29T00:00:00\", \"totalTestResultsIncrease\": 858199.0, \"positiveIncrease\": 36947.0, \"death\": 197864.0, \"deathIncrease\": 739.0, \"positiveRate\": 0.043, \"state\": \"US\", \"sma7d\": 0.043}, {\"date\": \"2020-09-30T00:00:00\", \"totalTestResultsIncrease\": 846795.0, \"positiveIncrease\": 44424.0, \"death\": 198925.0, \"deathIncrease\": 1061.0, \"positiveRate\": 0.052, \"state\": \"US\", \"sma7d\": 0.045}, {\"date\": \"2020-10-01T00:00:00\", \"totalTestResultsIncrease\": 932192.0, \"positiveIncrease\": 45694.0, \"death\": 199776.0, \"deathIncrease\": 851.0, \"positiveRate\": 0.049, \"state\": \"US\", \"sma7d\": 0.045}, {\"date\": \"2020-10-02T00:00:00\", \"totalTestResultsIncrease\": 1163846.0, \"positiveIncrease\": 49534.0, \"death\": 200611.0, \"deathIncrease\": 835.0, \"positiveRate\": 0.043, \"state\": \"US\", \"sma7d\": 0.044}, {\"date\": \"2020-10-03T00:00:00\", \"totalTestResultsIncrease\": 1033797.0, \"positiveIncrease\": 51372.0, \"death\": 201352.0, \"deathIncrease\": 741.0, \"positiveRate\": 0.05, \"state\": \"US\", \"sma7d\": 0.044}, {\"date\": \"2020-10-04T00:00:00\", \"totalTestResultsIncrease\": 973819.0, \"positiveIncrease\": 38439.0, \"death\": 201715.0, \"deathIncrease\": 363.0, \"positiveRate\": 0.039, \"state\": \"US\", \"sma7d\": 0.044}, {\"date\": \"2020-10-05T00:00:00\", \"totalTestResultsIncrease\": 947309.0, \"positiveIncrease\": 38133.0, \"death\": 202041.0, \"deathIncrease\": 326.0, \"positiveRate\": 0.04, \"state\": \"US\", \"sma7d\": 0.045}, {\"date\": \"2020-10-06T00:00:00\", \"totalTestResultsIncrease\": 859821.0, \"positiveIncrease\": 38661.0, \"death\": 202675.0, \"deathIncrease\": 634.0, \"positiveRate\": 0.045, \"state\": \"US\", \"sma7d\": 0.045}, {\"date\": \"2020-10-07T00:00:00\", \"totalTestResultsIncrease\": 900890.0, \"positiveIncrease\": 50602.0, \"death\": 203591.0, \"deathIncrease\": 916.0, \"positiveRate\": 0.056, \"state\": \"US\", \"sma7d\": 0.046}, {\"date\": \"2020-10-08T00:00:00\", \"totalTestResultsIncrease\": 1076091.0, \"positiveIncrease\": 55352.0, \"death\": 204577.0, \"deathIncrease\": 986.0, \"positiveRate\": 0.051, \"state\": \"US\", \"sma7d\": 0.046}, {\"date\": \"2020-10-09T00:00:00\", \"totalTestResultsIncrease\": 1126887.0, \"positiveIncrease\": 57060.0, \"death\": 205470.0, \"deathIncrease\": 893.0, \"positiveRate\": 0.051, \"state\": \"US\", \"sma7d\": 0.047}, {\"date\": \"2020-10-10T00:00:00\", \"totalTestResultsIncrease\": 1185902.0, \"positiveIncrease\": 57492.0, \"death\": 206135.0, \"deathIncrease\": 665.0, \"positiveRate\": 0.048, \"state\": \"US\", \"sma7d\": 0.047}, {\"date\": \"2020-10-11T00:00:00\", \"totalTestResultsIncrease\": 972008.0, \"positiveIncrease\": 46946.0, \"death\": 206601.0, \"deathIncrease\": 466.0, \"positiveRate\": 0.048, \"state\": \"US\", \"sma7d\": 0.048}, {\"date\": \"2020-10-12T00:00:00\", \"totalTestResultsIncrease\": 1016963.0, \"positiveIncrease\": 43124.0, \"death\": 206888.0, \"deathIncrease\": 287.0, \"positiveRate\": 0.042, \"state\": \"US\", \"sma7d\": 0.049}, {\"date\": \"2020-10-13T00:00:00\", \"totalTestResultsIncrease\": 986044.0, \"positiveIncrease\": 48387.0, \"death\": 207578.0, \"deathIncrease\": 690.0, \"positiveRate\": 0.049, \"state\": \"US\", \"sma7d\": 0.049}, {\"date\": \"2020-10-14T00:00:00\", \"totalTestResultsIncrease\": 981061.0, \"positiveIncrease\": 56797.0, \"death\": 208389.0, \"deathIncrease\": 811.0, \"positiveRate\": 0.058, \"state\": \"US\", \"sma7d\": 0.05}, {\"date\": \"2020-10-15T00:00:00\", \"totalTestResultsIncrease\": 1019134.0, \"positiveIncrease\": 63172.0, \"death\": 209340.0, \"deathIncrease\": 951.0, \"positiveRate\": 0.062, \"state\": \"US\", \"sma7d\": 0.051}, {\"date\": \"2020-10-16T00:00:00\", \"totalTestResultsIncrease\": 1143161.0, \"positiveIncrease\": 68124.0, \"death\": 210217.0, \"deathIncrease\": 877.0, \"positiveRate\": 0.06, \"state\": \"US\", \"sma7d\": 0.052}, {\"date\": \"2020-10-17T00:00:00\", \"totalTestResultsIncrease\": 1195546.0, \"positiveIncrease\": 57943.0, \"death\": 210997.0, \"deathIncrease\": 780.0, \"positiveRate\": 0.048, \"state\": \"US\", \"sma7d\": 0.052}, {\"date\": \"2020-10-18T00:00:00\", \"totalTestResultsIncrease\": 982434.0, \"positiveIncrease\": 48922.0, \"death\": 211390.0, \"deathIncrease\": 393.0, \"positiveRate\": 0.05, \"state\": \"US\", \"sma7d\": 0.053}, {\"date\": \"2020-10-19T00:00:00\", \"totalTestResultsIncrease\": 1203168.0, \"positiveIncrease\": 57148.0, \"death\": 211846.0, \"deathIncrease\": 456.0, \"positiveRate\": 0.047, \"state\": \"US\", \"sma7d\": 0.053}, {\"date\": \"2020-10-20T00:00:00\", \"totalTestResultsIncrease\": 909386.0, \"positiveIncrease\": 60664.0, \"death\": 212678.0, \"deathIncrease\": 832.0, \"positiveRate\": 0.067, \"state\": \"US\", \"sma7d\": 0.056}, {\"date\": \"2020-10-21T00:00:00\", \"totalTestResultsIncrease\": 880842.0, \"positiveIncrease\": 58606.0, \"death\": 213702.0, \"deathIncrease\": 1024.0, \"positiveRate\": 0.067, \"state\": \"US\", \"sma7d\": 0.057}, {\"date\": \"2020-10-22T00:00:00\", \"totalTestResultsIncrease\": 1128940.0, \"positiveIncrease\": 75248.0, \"death\": 214845.0, \"deathIncrease\": 1143.0, \"positiveRate\": 0.067, \"state\": \"US\", \"sma7d\": 0.058}, {\"date\": \"2020-10-23T00:00:00\", \"totalTestResultsIncrease\": 1280133.0, \"positiveIncrease\": 83010.0, \"death\": 215761.0, \"deathIncrease\": 916.0, \"positiveRate\": 0.065, \"state\": \"US\", \"sma7d\": 0.059}, {\"date\": \"2020-10-24T00:00:00\", \"totalTestResultsIncrease\": 1210497.0, \"positiveIncrease\": 82668.0, \"death\": 216646.0, \"deathIncrease\": 885.0, \"positiveRate\": 0.068, \"state\": \"US\", \"sma7d\": 0.062}, {\"date\": \"2020-10-25T00:00:00\", \"totalTestResultsIncrease\": 1105926.0, \"positiveIncrease\": 64884.0, \"death\": 216955.0, \"deathIncrease\": 377.0, \"positiveRate\": 0.059, \"state\": \"US\", \"sma7d\": 0.063}]}}, {\"mode\": \"vega-lite\"});\n",
       "</script>"
      ],
      "text/plain": [
       "alt.LayerChart(...)"
      ]
     },
     "execution_count": 8,
     "metadata": {},
     "output_type": "execute_result"
    }
   ],
   "source": [
    "create_plot(us, 'positiveRate')"
   ]
  },
  {
   "cell_type": "code",
   "execution_count": 9,
   "metadata": {
    "execution": {
     "iopub.execute_input": "2020-10-25T22:36:25.528341Z",
     "iopub.status.busy": "2020-10-25T22:36:25.520382Z",
     "iopub.status.idle": "2020-10-25T22:36:25.606456Z",
     "shell.execute_reply": "2020-10-25T22:36:25.606857Z"
    },
    "papermill": {
     "duration": 0.103251,
     "end_time": "2020-10-25T22:36:25.607007",
     "exception": false,
     "start_time": "2020-10-25T22:36:25.503756",
     "status": "completed"
    },
    "tags": []
   },
   "outputs": [
    {
     "data": {
      "text/html": [
       "\n",
       "<div id=\"altair-viz-7bbc9a7fc1e0443095f22beb342705bc\"></div>\n",
       "<script type=\"text/javascript\">\n",
       "  (function(spec, embedOpt){\n",
       "    let outputDiv = document.currentScript.previousElementSibling;\n",
       "    if (outputDiv.id !== \"altair-viz-7bbc9a7fc1e0443095f22beb342705bc\") {\n",
       "      outputDiv = document.getElementById(\"altair-viz-7bbc9a7fc1e0443095f22beb342705bc\");\n",
       "    }\n",
       "    const paths = {\n",
       "      \"vega\": \"https://cdn.jsdelivr.net/npm//vega@5?noext\",\n",
       "      \"vega-lib\": \"https://cdn.jsdelivr.net/npm//vega-lib?noext\",\n",
       "      \"vega-lite\": \"https://cdn.jsdelivr.net/npm//vega-lite@4.8.1?noext\",\n",
       "      \"vega-embed\": \"https://cdn.jsdelivr.net/npm//vega-embed@6?noext\",\n",
       "    };\n",
       "\n",
       "    function loadScript(lib) {\n",
       "      return new Promise(function(resolve, reject) {\n",
       "        var s = document.createElement('script');\n",
       "        s.src = paths[lib];\n",
       "        s.async = true;\n",
       "        s.onload = () => resolve(paths[lib]);\n",
       "        s.onerror = () => reject(`Error loading script: ${paths[lib]}`);\n",
       "        document.getElementsByTagName(\"head\")[0].appendChild(s);\n",
       "      });\n",
       "    }\n",
       "\n",
       "    function showError(err) {\n",
       "      outputDiv.innerHTML = `<div class=\"error\" style=\"color:red;\">${err}</div>`;\n",
       "      throw err;\n",
       "    }\n",
       "\n",
       "    function displayChart(vegaEmbed) {\n",
       "      vegaEmbed(outputDiv, spec, embedOpt)\n",
       "        .catch(err => showError(`Javascript Error: ${err.message}<br>This usually means there's a typo in your chart specification. See the javascript console for the full traceback.`));\n",
       "    }\n",
       "\n",
       "    if(typeof define === \"function\" && define.amd) {\n",
       "      requirejs.config({paths});\n",
       "      require([\"vega-embed\"], displayChart, err => showError(`Error loading script: ${err.message}`));\n",
       "    } else if (typeof vegaEmbed === \"function\") {\n",
       "      displayChart(vegaEmbed);\n",
       "    } else {\n",
       "      loadScript(\"vega\")\n",
       "        .then(() => loadScript(\"vega-lite\"))\n",
       "        .then(() => loadScript(\"vega-embed\"))\n",
       "        .catch(showError)\n",
       "        .then(() => displayChart(vegaEmbed));\n",
       "    }\n",
       "  })({\"config\": {\"view\": {\"continuousWidth\": 400, \"continuousHeight\": 300}}, \"layer\": [{\"layer\": [{\"mark\": {\"type\": \"point\", \"size\": 75}, \"encoding\": {\"tooltip\": [{\"type\": \"temporal\", \"field\": \"date\"}, {\"type\": \"quantitative\", \"field\": \"deathIncrease\"}, {\"type\": \"quantitative\", \"field\": \"sma7d\"}], \"x\": {\"type\": \"temporal\", \"field\": \"date\"}, \"y\": {\"type\": \"quantitative\", \"field\": \"deathIncrease\"}}, \"selection\": {\"selector006\": {\"type\": \"interval\", \"bind\": \"scales\", \"encodings\": [\"x\", \"y\"]}}}, {\"mark\": {\"type\": \"line\", \"color\": \"purple\"}, \"encoding\": {\"x\": {\"type\": \"temporal\", \"field\": \"date\"}, \"y\": {\"type\": \"quantitative\", \"field\": \"sma7d\"}}}]}, {\"mark\": {\"type\": \"rule\", \"color\": \"#aaa\"}, \"encoding\": {\"x\": {\"type\": \"temporal\", \"field\": \"date\"}}, \"transform\": [{\"filter\": {\"selection\": \"selector005\"}}]}, {\"mark\": \"circle\", \"encoding\": {\"opacity\": {\"condition\": {\"value\": 1, \"selection\": \"selector005\"}, \"value\": 0}, \"tooltip\": [{\"type\": \"temporal\", \"field\": \"date\"}, {\"type\": \"quantitative\", \"field\": \"deathIncrease\"}, {\"type\": \"quantitative\", \"field\": \"sma7d\"}], \"x\": {\"type\": \"temporal\", \"field\": \"date\"}, \"y\": {\"type\": \"quantitative\", \"field\": \"deathIncrease\"}}, \"selection\": {\"selector005\": {\"type\": \"single\", \"encodings\": [\"x\"], \"on\": \"mouseover\", \"nearest\": true, \"empty\": \"none\"}}}, {\"mark\": {\"type\": \"text\", \"align\": \"left\", \"dx\": 5, \"dy\": -5, \"stroke\": \"white\", \"strokeWidth\": 2}, \"encoding\": {\"text\": {\"type\": \"quantitative\", \"field\": \"deathIncrease\"}, \"tooltip\": [{\"type\": \"temporal\", \"field\": \"date\"}, {\"type\": \"quantitative\", \"field\": \"deathIncrease\"}, {\"type\": \"quantitative\", \"field\": \"sma7d\"}], \"x\": {\"type\": \"temporal\", \"field\": \"date\"}, \"y\": {\"type\": \"quantitative\", \"field\": \"deathIncrease\"}}, \"transform\": [{\"filter\": {\"selection\": \"selector005\"}}]}, {\"mark\": {\"type\": \"text\", \"align\": \"left\", \"dx\": 5, \"dy\": -5}, \"encoding\": {\"text\": {\"type\": \"quantitative\", \"field\": \"deathIncrease\"}, \"tooltip\": [{\"type\": \"temporal\", \"field\": \"date\"}, {\"type\": \"quantitative\", \"field\": \"deathIncrease\"}, {\"type\": \"quantitative\", \"field\": \"sma7d\"}], \"x\": {\"type\": \"temporal\", \"field\": \"date\"}, \"y\": {\"type\": \"quantitative\", \"field\": \"deathIncrease\"}}, \"transform\": [{\"filter\": {\"selection\": \"selector005\"}}]}], \"data\": {\"name\": \"data-f7b3c770784dd0b32587f5aa2b5c3e43\"}, \"height\": 400, \"title\": \"US: deathIncrease\", \"width\": 500, \"$schema\": \"https://vega.github.io/schema/vega-lite/v4.8.1.json\", \"datasets\": {\"data-f7b3c770784dd0b32587f5aa2b5c3e43\": [{\"date\": \"2020-08-31T00:00:00\", \"totalTestResultsIncrease\": 709747.0, \"positiveIncrease\": 31406.0, \"death\": 175612.0, \"deathIncrease\": 366.0, \"positiveRate\": 0.044, \"state\": \"US\", \"sma7d\": 922.0}, {\"date\": \"2020-09-01T00:00:00\", \"totalTestResultsIncrease\": 755892.0, \"positiveIncrease\": 42433.0, \"death\": 176639.0, \"deathIncrease\": 1027.0, \"positiveRate\": 0.056, \"state\": \"US\", \"sma7d\": 904.857}, {\"date\": \"2020-09-02T00:00:00\", \"totalTestResultsIncrease\": 704010.0, \"positiveIncrease\": 30603.0, \"death\": 177671.0, \"deathIncrease\": 1032.0, \"positiveRate\": 0.043, \"state\": \"US\", \"sma7d\": 866.857}, {\"date\": \"2020-09-03T00:00:00\", \"totalTestResultsIncrease\": 829026.0, \"positiveIncrease\": 44714.0, \"death\": 178741.0, \"deathIncrease\": 1070.0, \"positiveRate\": 0.054, \"state\": \"US\", \"sma7d\": 858.429}, {\"date\": \"2020-09-04T00:00:00\", \"totalTestResultsIncrease\": 979276.0, \"positiveIncrease\": 51591.0, \"death\": 179739.0, \"deathIncrease\": 998.0, \"positiveRate\": 0.053, \"state\": \"US\", \"sma7d\": 854.714}, {\"date\": \"2020-09-05T00:00:00\", \"totalTestResultsIncrease\": 908170.0, \"positiveIncrease\": 44905.0, \"death\": 180657.0, \"deathIncrease\": 918.0, \"positiveRate\": 0.049, \"state\": \"US\", \"sma7d\": 840.857}, {\"date\": \"2020-09-06T00:00:00\", \"totalTestResultsIncrease\": 789810.0, \"positiveIncrease\": 33117.0, \"death\": 181106.0, \"deathIncrease\": 449.0, \"positiveRate\": 0.042, \"state\": \"US\", \"sma7d\": 837.143}, {\"date\": \"2020-09-07T00:00:00\", \"totalTestResultsIncrease\": 626056.0, \"positiveIncrease\": 28682.0, \"death\": 181331.0, \"deathIncrease\": 225.0, \"positiveRate\": 0.046, \"state\": \"US\", \"sma7d\": 817.0}, {\"date\": \"2020-09-08T00:00:00\", \"totalTestResultsIncrease\": 552119.0, \"positiveIncrease\": 22223.0, \"death\": 181689.0, \"deathIncrease\": 358.0, \"positiveRate\": 0.04, \"state\": \"US\", \"sma7d\": 721.429}, {\"date\": \"2020-09-09T00:00:00\", \"totalTestResultsIncrease\": 659081.0, \"positiveIncrease\": 31114.0, \"death\": 182773.0, \"deathIncrease\": 1084.0, \"positiveRate\": 0.047, \"state\": \"US\", \"sma7d\": 728.857}, {\"date\": \"2020-09-10T00:00:00\", \"totalTestResultsIncrease\": 730436.0, \"positiveIncrease\": 37581.0, \"death\": 183943.0, \"deathIncrease\": 1170.0, \"positiveRate\": 0.051, \"state\": \"US\", \"sma7d\": 743.143}, {\"date\": \"2020-09-11T00:00:00\", \"totalTestResultsIncrease\": 857008.0, \"positiveIncrease\": 44927.0, \"death\": 184961.0, \"deathIncrease\": 1018.0, \"positiveRate\": 0.052, \"state\": \"US\", \"sma7d\": 746.0}, {\"date\": \"2020-09-12T00:00:00\", \"totalTestResultsIncrease\": 930296.0, \"positiveIncrease\": 42090.0, \"death\": 185771.0, \"deathIncrease\": 810.0, \"positiveRate\": 0.045, \"state\": \"US\", \"sma7d\": 730.571}, {\"date\": \"2020-09-13T00:00:00\", \"totalTestResultsIncrease\": 720625.0, \"positiveIncrease\": 34453.0, \"death\": 186161.0, \"deathIncrease\": 390.0, \"positiveRate\": 0.048, \"state\": \"US\", \"sma7d\": 722.143}, {\"date\": \"2020-09-14T00:00:00\", \"totalTestResultsIncrease\": 457583.0, \"positiveIncrease\": 33864.0, \"death\": 186565.0, \"deathIncrease\": 404.0, \"positiveRate\": 0.074, \"state\": \"US\", \"sma7d\": 747.714}, {\"date\": \"2020-09-15T00:00:00\", \"totalTestResultsIncrease\": 760441.0, \"positiveIncrease\": 35445.0, \"death\": 187596.0, \"deathIncrease\": 1031.0, \"positiveRate\": 0.047, \"state\": \"US\", \"sma7d\": 843.857}, {\"date\": \"2020-09-16T00:00:00\", \"totalTestResultsIncrease\": 770519.0, \"positiveIncrease\": 40021.0, \"death\": 188796.0, \"deathIncrease\": 1200.0, \"positiveRate\": 0.052, \"state\": \"US\", \"sma7d\": 860.429}, {\"date\": \"2020-09-17T00:00:00\", \"totalTestResultsIncrease\": 885801.0, \"positiveIncrease\": 43558.0, \"death\": 189659.0, \"deathIncrease\": 863.0, \"positiveRate\": 0.049, \"state\": \"US\", \"sma7d\": 816.571}, {\"date\": \"2020-09-18T00:00:00\", \"totalTestResultsIncrease\": 1019046.0, \"positiveIncrease\": 47486.0, \"death\": 190560.0, \"deathIncrease\": 901.0, \"positiveRate\": 0.047, \"state\": \"US\", \"sma7d\": 799.857}, {\"date\": \"2020-09-19T00:00:00\", \"totalTestResultsIncrease\": 1100834.0, \"positiveIncrease\": 45564.0, \"death\": 191300.0, \"deathIncrease\": 740.0, \"positiveRate\": 0.041, \"state\": \"US\", \"sma7d\": 789.857}, {\"date\": \"2020-09-20T00:00:00\", \"totalTestResultsIncrease\": 932891.0, \"positiveIncrease\": 36295.0, \"death\": 191627.0, \"deathIncrease\": 327.0, \"positiveRate\": 0.039, \"state\": \"US\", \"sma7d\": 780.857}, {\"date\": \"2020-09-21T00:00:00\", \"totalTestResultsIncrease\": 736099.0, \"positiveIncrease\": 39472.0, \"death\": 191914.0, \"deathIncrease\": 287.0, \"positiveRate\": 0.054, \"state\": \"US\", \"sma7d\": 764.143}, {\"date\": \"2020-09-22T00:00:00\", \"totalTestResultsIncrease\": 812522.0, \"positiveIncrease\": 49439.0, \"death\": 192768.0, \"deathIncrease\": 854.0, \"positiveRate\": 0.061, \"state\": \"US\", \"sma7d\": 738.857}, {\"date\": \"2020-09-23T00:00:00\", \"totalTestResultsIncrease\": 962736.0, \"positiveIncrease\": 38567.0, \"death\": 193927.0, \"deathIncrease\": 1159.0, \"positiveRate\": 0.04, \"state\": \"US\", \"sma7d\": 733.0}, {\"date\": \"2020-09-24T00:00:00\", \"totalTestResultsIncrease\": 974780.0, \"positiveIncrease\": 43772.0, \"death\": 194848.0, \"deathIncrease\": 921.0, \"positiveRate\": 0.045, \"state\": \"US\", \"sma7d\": 741.286}, {\"date\": \"2020-09-25T00:00:00\", \"totalTestResultsIncrease\": 1054257.0, \"positiveIncrease\": 55526.0, \"death\": 195692.0, \"deathIncrease\": 844.0, \"positiveRate\": 0.053, \"state\": \"US\", \"sma7d\": 733.143}, {\"date\": \"2020-09-26T00:00:00\", \"totalTestResultsIncrease\": 1056638.0, \"positiveIncrease\": 47856.0, \"death\": 196561.0, \"deathIncrease\": 869.0, \"positiveRate\": 0.045, \"state\": \"US\", \"sma7d\": 751.571}, {\"date\": \"2020-09-27T00:00:00\", \"totalTestResultsIncrease\": 849716.0, \"positiveIncrease\": 35454.0, \"death\": 196868.0, \"deathIncrease\": 307.0, \"positiveRate\": 0.042, \"state\": \"US\", \"sma7d\": 748.714}, {\"date\": \"2020-09-28T00:00:00\", \"totalTestResultsIncrease\": 1128313.0, \"positiveIncrease\": 36524.0, \"death\": 197125.0, \"deathIncrease\": 257.0, \"positiveRate\": 0.032, \"state\": \"US\", \"sma7d\": 744.429}, {\"date\": \"2020-09-29T00:00:00\", \"totalTestResultsIncrease\": 858199.0, \"positiveIncrease\": 36947.0, \"death\": 197864.0, \"deathIncrease\": 739.0, \"positiveRate\": 0.043, \"state\": \"US\", \"sma7d\": 728.0}, {\"date\": \"2020-09-30T00:00:00\", \"totalTestResultsIncrease\": 846795.0, \"positiveIncrease\": 44424.0, \"death\": 198925.0, \"deathIncrease\": 1061.0, \"positiveRate\": 0.052, \"state\": \"US\", \"sma7d\": 714.0}, {\"date\": \"2020-10-01T00:00:00\", \"totalTestResultsIncrease\": 932192.0, \"positiveIncrease\": 45694.0, \"death\": 199776.0, \"deathIncrease\": 851.0, \"positiveRate\": 0.049, \"state\": \"US\", \"sma7d\": 704.0}, {\"date\": \"2020-10-02T00:00:00\", \"totalTestResultsIncrease\": 1163846.0, \"positiveIncrease\": 49534.0, \"death\": 200611.0, \"deathIncrease\": 835.0, \"positiveRate\": 0.043, \"state\": \"US\", \"sma7d\": 702.714}, {\"date\": \"2020-10-03T00:00:00\", \"totalTestResultsIncrease\": 1033797.0, \"positiveIncrease\": 51372.0, \"death\": 201352.0, \"deathIncrease\": 741.0, \"positiveRate\": 0.05, \"state\": \"US\", \"sma7d\": 684.429}, {\"date\": \"2020-10-04T00:00:00\", \"totalTestResultsIncrease\": 973819.0, \"positiveIncrease\": 38439.0, \"death\": 201715.0, \"deathIncrease\": 363.0, \"positiveRate\": 0.039, \"state\": \"US\", \"sma7d\": 692.429}, {\"date\": \"2020-10-05T00:00:00\", \"totalTestResultsIncrease\": 947309.0, \"positiveIncrease\": 38133.0, \"death\": 202041.0, \"deathIncrease\": 326.0, \"positiveRate\": 0.04, \"state\": \"US\", \"sma7d\": 702.286}, {\"date\": \"2020-10-06T00:00:00\", \"totalTestResultsIncrease\": 859821.0, \"positiveIncrease\": 38661.0, \"death\": 202675.0, \"deathIncrease\": 634.0, \"positiveRate\": 0.045, \"state\": \"US\", \"sma7d\": 687.286}, {\"date\": \"2020-10-07T00:00:00\", \"totalTestResultsIncrease\": 900890.0, \"positiveIncrease\": 50602.0, \"death\": 203591.0, \"deathIncrease\": 916.0, \"positiveRate\": 0.056, \"state\": \"US\", \"sma7d\": 666.571}, {\"date\": \"2020-10-08T00:00:00\", \"totalTestResultsIncrease\": 1076091.0, \"positiveIncrease\": 55352.0, \"death\": 204577.0, \"deathIncrease\": 986.0, \"positiveRate\": 0.051, \"state\": \"US\", \"sma7d\": 685.857}, {\"date\": \"2020-10-09T00:00:00\", \"totalTestResultsIncrease\": 1126887.0, \"positiveIncrease\": 57060.0, \"death\": 205470.0, \"deathIncrease\": 893.0, \"positiveRate\": 0.051, \"state\": \"US\", \"sma7d\": 694.143}, {\"date\": \"2020-10-10T00:00:00\", \"totalTestResultsIncrease\": 1185902.0, \"positiveIncrease\": 57492.0, \"death\": 206135.0, \"deathIncrease\": 665.0, \"positiveRate\": 0.048, \"state\": \"US\", \"sma7d\": 683.286}, {\"date\": \"2020-10-11T00:00:00\", \"totalTestResultsIncrease\": 972008.0, \"positiveIncrease\": 46946.0, \"death\": 206601.0, \"deathIncrease\": 466.0, \"positiveRate\": 0.048, \"state\": \"US\", \"sma7d\": 698.0}, {\"date\": \"2020-10-12T00:00:00\", \"totalTestResultsIncrease\": 1016963.0, \"positiveIncrease\": 43124.0, \"death\": 206888.0, \"deathIncrease\": 287.0, \"positiveRate\": 0.042, \"state\": \"US\", \"sma7d\": 692.429}, {\"date\": \"2020-10-13T00:00:00\", \"totalTestResultsIncrease\": 986044.0, \"positiveIncrease\": 48387.0, \"death\": 207578.0, \"deathIncrease\": 690.0, \"positiveRate\": 0.049, \"state\": \"US\", \"sma7d\": 700.429}, {\"date\": \"2020-10-14T00:00:00\", \"totalTestResultsIncrease\": 981061.0, \"positiveIncrease\": 56797.0, \"death\": 208389.0, \"deathIncrease\": 811.0, \"positiveRate\": 0.058, \"state\": \"US\", \"sma7d\": 685.429}, {\"date\": \"2020-10-15T00:00:00\", \"totalTestResultsIncrease\": 1019134.0, \"positiveIncrease\": 63172.0, \"death\": 209340.0, \"deathIncrease\": 951.0, \"positiveRate\": 0.062, \"state\": \"US\", \"sma7d\": 680.429}, {\"date\": \"2020-10-16T00:00:00\", \"totalTestResultsIncrease\": 1143161.0, \"positiveIncrease\": 68124.0, \"death\": 210217.0, \"deathIncrease\": 877.0, \"positiveRate\": 0.06, \"state\": \"US\", \"sma7d\": 678.143}, {\"date\": \"2020-10-17T00:00:00\", \"totalTestResultsIncrease\": 1195546.0, \"positiveIncrease\": 57943.0, \"death\": 210997.0, \"deathIncrease\": 780.0, \"positiveRate\": 0.048, \"state\": \"US\", \"sma7d\": 694.571}, {\"date\": \"2020-10-18T00:00:00\", \"totalTestResultsIncrease\": 982434.0, \"positiveIncrease\": 48922.0, \"death\": 211390.0, \"deathIncrease\": 393.0, \"positiveRate\": 0.05, \"state\": \"US\", \"sma7d\": 684.143}, {\"date\": \"2020-10-19T00:00:00\", \"totalTestResultsIncrease\": 1203168.0, \"positiveIncrease\": 57148.0, \"death\": 211846.0, \"deathIncrease\": 456.0, \"positiveRate\": 0.047, \"state\": \"US\", \"sma7d\": 708.286}, {\"date\": \"2020-10-20T00:00:00\", \"totalTestResultsIncrease\": 909386.0, \"positiveIncrease\": 60664.0, \"death\": 212678.0, \"deathIncrease\": 832.0, \"positiveRate\": 0.067, \"state\": \"US\", \"sma7d\": 728.571}, {\"date\": \"2020-10-21T00:00:00\", \"totalTestResultsIncrease\": 880842.0, \"positiveIncrease\": 58606.0, \"death\": 213702.0, \"deathIncrease\": 1024.0, \"positiveRate\": 0.067, \"state\": \"US\", \"sma7d\": 759.0}, {\"date\": \"2020-10-22T00:00:00\", \"totalTestResultsIncrease\": 1128940.0, \"positiveIncrease\": 75248.0, \"death\": 214845.0, \"deathIncrease\": 1143.0, \"positiveRate\": 0.067, \"state\": \"US\", \"sma7d\": 786.429}, {\"date\": \"2020-10-23T00:00:00\", \"totalTestResultsIncrease\": 1280133.0, \"positiveIncrease\": 83010.0, \"death\": 215761.0, \"deathIncrease\": 916.0, \"positiveRate\": 0.065, \"state\": \"US\", \"sma7d\": 792.0}, {\"date\": \"2020-10-24T00:00:00\", \"totalTestResultsIncrease\": 1210497.0, \"positiveIncrease\": 82668.0, \"death\": 216646.0, \"deathIncrease\": 885.0, \"positiveRate\": 0.068, \"state\": \"US\", \"sma7d\": 807.0}, {\"date\": \"2020-10-25T00:00:00\", \"totalTestResultsIncrease\": 1105926.0, \"positiveIncrease\": 64884.0, \"death\": 216955.0, \"deathIncrease\": 377.0, \"positiveRate\": 0.059, \"state\": \"US\", \"sma7d\": 804.714}]}}, {\"mode\": \"vega-lite\"});\n",
       "</script>"
      ],
      "text/plain": [
       "alt.LayerChart(...)"
      ]
     },
     "execution_count": 9,
     "metadata": {},
     "output_type": "execute_result"
    }
   ],
   "source": [
    "create_plot(us, 'deathIncrease')"
   ]
  },
  {
   "cell_type": "markdown",
   "metadata": {
    "papermill": {
     "duration": 0.013809,
     "end_time": "2020-10-25T22:36:25.635610",
     "exception": false,
     "start_time": "2020-10-25T22:36:25.621801",
     "status": "completed"
    },
    "tags": []
   },
   "source": [
    "## NY"
   ]
  },
  {
   "cell_type": "code",
   "execution_count": 10,
   "metadata": {
    "execution": {
     "iopub.execute_input": "2020-10-25T22:36:25.668034Z",
     "iopub.status.busy": "2020-10-25T22:36:25.667490Z",
     "iopub.status.idle": "2020-10-25T22:36:25.907642Z",
     "shell.execute_reply": "2020-10-25T22:36:25.906809Z"
    },
    "papermill": {
     "duration": 0.257909,
     "end_time": "2020-10-25T22:36:25.907859",
     "exception": false,
     "start_time": "2020-10-25T22:36:25.649950",
     "status": "completed"
    },
    "tags": []
   },
   "outputs": [],
   "source": [
    "ny = create_df(df, (lambda d: d['state'] == 'NY'), 'New York')"
   ]
  },
  {
   "cell_type": "code",
   "execution_count": 11,
   "metadata": {
    "execution": {
     "iopub.execute_input": "2020-10-25T22:36:25.944911Z",
     "iopub.status.busy": "2020-10-25T22:36:25.942119Z",
     "iopub.status.idle": "2020-10-25T22:36:26.033476Z",
     "shell.execute_reply": "2020-10-25T22:36:26.033046Z"
    },
    "papermill": {
     "duration": 0.109269,
     "end_time": "2020-10-25T22:36:26.033588",
     "exception": false,
     "start_time": "2020-10-25T22:36:25.924319",
     "status": "completed"
    },
    "tags": []
   },
   "outputs": [
    {
     "data": {
      "text/html": [
       "\n",
       "<div id=\"altair-viz-310ef9a482614a67850683dc0c6bbc33\"></div>\n",
       "<script type=\"text/javascript\">\n",
       "  (function(spec, embedOpt){\n",
       "    let outputDiv = document.currentScript.previousElementSibling;\n",
       "    if (outputDiv.id !== \"altair-viz-310ef9a482614a67850683dc0c6bbc33\") {\n",
       "      outputDiv = document.getElementById(\"altair-viz-310ef9a482614a67850683dc0c6bbc33\");\n",
       "    }\n",
       "    const paths = {\n",
       "      \"vega\": \"https://cdn.jsdelivr.net/npm//vega@5?noext\",\n",
       "      \"vega-lib\": \"https://cdn.jsdelivr.net/npm//vega-lib?noext\",\n",
       "      \"vega-lite\": \"https://cdn.jsdelivr.net/npm//vega-lite@4.8.1?noext\",\n",
       "      \"vega-embed\": \"https://cdn.jsdelivr.net/npm//vega-embed@6?noext\",\n",
       "    };\n",
       "\n",
       "    function loadScript(lib) {\n",
       "      return new Promise(function(resolve, reject) {\n",
       "        var s = document.createElement('script');\n",
       "        s.src = paths[lib];\n",
       "        s.async = true;\n",
       "        s.onload = () => resolve(paths[lib]);\n",
       "        s.onerror = () => reject(`Error loading script: ${paths[lib]}`);\n",
       "        document.getElementsByTagName(\"head\")[0].appendChild(s);\n",
       "      });\n",
       "    }\n",
       "\n",
       "    function showError(err) {\n",
       "      outputDiv.innerHTML = `<div class=\"error\" style=\"color:red;\">${err}</div>`;\n",
       "      throw err;\n",
       "    }\n",
       "\n",
       "    function displayChart(vegaEmbed) {\n",
       "      vegaEmbed(outputDiv, spec, embedOpt)\n",
       "        .catch(err => showError(`Javascript Error: ${err.message}<br>This usually means there's a typo in your chart specification. See the javascript console for the full traceback.`));\n",
       "    }\n",
       "\n",
       "    if(typeof define === \"function\" && define.amd) {\n",
       "      requirejs.config({paths});\n",
       "      require([\"vega-embed\"], displayChart, err => showError(`Error loading script: ${err.message}`));\n",
       "    } else if (typeof vegaEmbed === \"function\") {\n",
       "      displayChart(vegaEmbed);\n",
       "    } else {\n",
       "      loadScript(\"vega\")\n",
       "        .then(() => loadScript(\"vega-lite\"))\n",
       "        .then(() => loadScript(\"vega-embed\"))\n",
       "        .catch(showError)\n",
       "        .then(() => displayChart(vegaEmbed));\n",
       "    }\n",
       "  })({\"config\": {\"view\": {\"continuousWidth\": 400, \"continuousHeight\": 300}}, \"layer\": [{\"layer\": [{\"mark\": {\"type\": \"point\", \"size\": 75}, \"encoding\": {\"tooltip\": [{\"type\": \"temporal\", \"field\": \"date\"}, {\"type\": \"quantitative\", \"field\": \"positiveIncrease\"}, {\"type\": \"quantitative\", \"field\": \"sma7d\"}], \"x\": {\"type\": \"temporal\", \"field\": \"date\"}, \"y\": {\"type\": \"quantitative\", \"field\": \"positiveIncrease\"}}, \"selection\": {\"selector008\": {\"type\": \"interval\", \"bind\": \"scales\", \"encodings\": [\"x\", \"y\"]}}}, {\"mark\": {\"type\": \"line\", \"color\": \"purple\"}, \"encoding\": {\"x\": {\"type\": \"temporal\", \"field\": \"date\"}, \"y\": {\"type\": \"quantitative\", \"field\": \"sma7d\"}}}]}, {\"mark\": {\"type\": \"rule\", \"color\": \"#aaa\"}, \"encoding\": {\"x\": {\"type\": \"temporal\", \"field\": \"date\"}}, \"transform\": [{\"filter\": {\"selection\": \"selector007\"}}]}, {\"mark\": \"circle\", \"encoding\": {\"opacity\": {\"condition\": {\"value\": 1, \"selection\": \"selector007\"}, \"value\": 0}, \"tooltip\": [{\"type\": \"temporal\", \"field\": \"date\"}, {\"type\": \"quantitative\", \"field\": \"positiveIncrease\"}, {\"type\": \"quantitative\", \"field\": \"sma7d\"}], \"x\": {\"type\": \"temporal\", \"field\": \"date\"}, \"y\": {\"type\": \"quantitative\", \"field\": \"positiveIncrease\"}}, \"selection\": {\"selector007\": {\"type\": \"single\", \"encodings\": [\"x\"], \"on\": \"mouseover\", \"nearest\": true, \"empty\": \"none\"}}}, {\"mark\": {\"type\": \"text\", \"align\": \"left\", \"dx\": 5, \"dy\": -5, \"stroke\": \"white\", \"strokeWidth\": 2}, \"encoding\": {\"text\": {\"type\": \"quantitative\", \"field\": \"positiveIncrease\"}, \"tooltip\": [{\"type\": \"temporal\", \"field\": \"date\"}, {\"type\": \"quantitative\", \"field\": \"positiveIncrease\"}, {\"type\": \"quantitative\", \"field\": \"sma7d\"}], \"x\": {\"type\": \"temporal\", \"field\": \"date\"}, \"y\": {\"type\": \"quantitative\", \"field\": \"positiveIncrease\"}}, \"transform\": [{\"filter\": {\"selection\": \"selector007\"}}]}, {\"mark\": {\"type\": \"text\", \"align\": \"left\", \"dx\": 5, \"dy\": -5}, \"encoding\": {\"text\": {\"type\": \"quantitative\", \"field\": \"positiveIncrease\"}, \"tooltip\": [{\"type\": \"temporal\", \"field\": \"date\"}, {\"type\": \"quantitative\", \"field\": \"positiveIncrease\"}, {\"type\": \"quantitative\", \"field\": \"sma7d\"}], \"x\": {\"type\": \"temporal\", \"field\": \"date\"}, \"y\": {\"type\": \"quantitative\", \"field\": \"positiveIncrease\"}}, \"transform\": [{\"filter\": {\"selection\": \"selector007\"}}]}], \"data\": {\"name\": \"data-73bb68add133b2aa6a822e9ab62a6d95\"}, \"height\": 400, \"title\": \"New York: positiveIncrease\", \"width\": 500, \"$schema\": \"https://vega.github.io/schema/vega-lite/v4.8.1.json\", \"datasets\": {\"data-73bb68add133b2aa6a822e9ab62a6d95\": [{\"date\": \"2020-08-31T00:00:00\", \"totalTestResultsIncrease\": 66241.0, \"positiveIncrease\": 656.0, \"death\": 25328.0, \"deathIncrease\": 1.0, \"positiveRate\": 0.01, \"state\": \"New York\", \"sma7d\": 658.714}, {\"date\": \"2020-09-01T00:00:00\", \"totalTestResultsIncrease\": 76997.0, \"positiveIncrease\": 754.0, \"death\": 25331.0, \"deathIncrease\": 3.0, \"positiveRate\": 0.01, \"state\": \"New York\", \"sma7d\": 676.571}, {\"date\": \"2020-09-02T00:00:00\", \"totalTestResultsIncrease\": 88447.0, \"positiveIncrease\": 708.0, \"death\": 25336.0, \"deathIncrease\": 5.0, \"positiveRate\": 0.008, \"state\": \"New York\", \"sma7d\": 696.857}, {\"date\": \"2020-09-03T00:00:00\", \"totalTestResultsIncrease\": 88981.0, \"positiveIncrease\": 889.0, \"death\": 25343.0, \"deathIncrease\": 7.0, \"positiveRate\": 0.01, \"state\": \"New York\", \"sma7d\": 710.857}, {\"date\": \"2020-09-04T00:00:00\", \"totalTestResultsIncrease\": 93395.0, \"positiveIncrease\": 864.0, \"death\": 25348.0, \"deathIncrease\": 5.0, \"positiveRate\": 0.009, \"state\": \"New York\", \"sma7d\": 743.429}, {\"date\": \"2020-09-05T00:00:00\", \"totalTestResultsIncrease\": 99761.0, \"positiveIncrease\": 801.0, \"death\": 25350.0, \"deathIncrease\": 2.0, \"positiveRate\": 0.008, \"state\": \"New York\", \"sma7d\": 767.143}, {\"date\": \"2020-09-06T00:00:00\", \"totalTestResultsIncrease\": 85630.0, \"positiveIncrease\": 729.0, \"death\": 25359.0, \"deathIncrease\": 9.0, \"positiveRate\": 0.009, \"state\": \"New York\", \"sma7d\": 771.571}, {\"date\": \"2020-09-07T00:00:00\", \"totalTestResultsIncrease\": 58865.0, \"positiveIncrease\": 520.0, \"death\": 25361.0, \"deathIncrease\": 2.0, \"positiveRate\": 0.009, \"state\": \"New York\", \"sma7d\": 752.143}, {\"date\": \"2020-09-08T00:00:00\", \"totalTestResultsIncrease\": 57826.0, \"positiveIncrease\": 557.0, \"death\": 25367.0, \"deathIncrease\": 6.0, \"positiveRate\": 0.01, \"state\": \"New York\", \"sma7d\": 724.0}, {\"date\": \"2020-09-09T00:00:00\", \"totalTestResultsIncrease\": 63230.0, \"positiveIncrease\": 576.0, \"death\": 25370.0, \"deathIncrease\": 3.0, \"positiveRate\": 0.009, \"state\": \"New York\", \"sma7d\": 705.143}, {\"date\": \"2020-09-10T00:00:00\", \"totalTestResultsIncrease\": 76813.0, \"positiveIncrease\": 757.0, \"death\": 25377.0, \"deathIncrease\": 7.0, \"positiveRate\": 0.01, \"state\": \"New York\", \"sma7d\": 686.286}, {\"date\": \"2020-09-11T00:00:00\", \"totalTestResultsIncrease\": 89722.0, \"positiveIncrease\": 880.0, \"death\": 25382.0, \"deathIncrease\": 5.0, \"positiveRate\": 0.01, \"state\": \"New York\", \"sma7d\": 688.571}, {\"date\": \"2020-09-12T00:00:00\", \"totalTestResultsIncrease\": 102925.0, \"positiveIncrease\": 849.0, \"death\": 25384.0, \"deathIncrease\": 2.0, \"positiveRate\": 0.008, \"state\": \"New York\", \"sma7d\": 695.429}, {\"date\": \"2020-09-13T00:00:00\", \"totalTestResultsIncrease\": 72668.0, \"positiveIncrease\": 725.0, \"death\": 25390.0, \"deathIncrease\": 6.0, \"positiveRate\": 0.01, \"state\": \"New York\", \"sma7d\": 694.857}, {\"date\": \"2020-09-14T00:00:00\", \"totalTestResultsIncrease\": 63358.0, \"positiveIncrease\": 583.0, \"death\": 25394.0, \"deathIncrease\": 4.0, \"positiveRate\": 0.009, \"state\": \"New York\", \"sma7d\": 703.857}, {\"date\": \"2020-09-15T00:00:00\", \"totalTestResultsIncrease\": 73678.0, \"positiveIncrease\": 766.0, \"death\": 25405.0, \"deathIncrease\": 11.0, \"positiveRate\": 0.01, \"state\": \"New York\", \"sma7d\": 733.714}, {\"date\": \"2020-09-16T00:00:00\", \"totalTestResultsIncrease\": 75087.0, \"positiveIncrease\": 652.0, \"death\": 25410.0, \"deathIncrease\": 5.0, \"positiveRate\": 0.009, \"state\": \"New York\", \"sma7d\": 744.571}, {\"date\": \"2020-09-17T00:00:00\", \"totalTestResultsIncrease\": 91504.0, \"positiveIncrease\": 896.0, \"death\": 25413.0, \"deathIncrease\": 3.0, \"positiveRate\": 0.01, \"state\": \"New York\", \"sma7d\": 764.429}, {\"date\": \"2020-09-18T00:00:00\", \"totalTestResultsIncrease\": 89727.0, \"positiveIncrease\": 790.0, \"death\": 25423.0, \"deathIncrease\": 10.0, \"positiveRate\": 0.009, \"state\": \"New York\", \"sma7d\": 751.571}, {\"date\": \"2020-09-19T00:00:00\", \"totalTestResultsIncrease\": 110444.0, \"positiveIncrease\": 986.0, \"death\": 25425.0, \"deathIncrease\": 2.0, \"positiveRate\": 0.009, \"state\": \"New York\", \"sma7d\": 771.143}, {\"date\": \"2020-09-20T00:00:00\", \"totalTestResultsIncrease\": 100355.0, \"positiveIncrease\": 862.0, \"death\": 25427.0, \"deathIncrease\": 2.0, \"positiveRate\": 0.009, \"state\": \"New York\", \"sma7d\": 790.714}, {\"date\": \"2020-09-21T00:00:00\", \"totalTestResultsIncrease\": 58319.0, \"positiveIncrease\": 573.0, \"death\": 25428.0, \"deathIncrease\": 1.0, \"positiveRate\": 0.01, \"state\": \"New York\", \"sma7d\": 789.286}, {\"date\": \"2020-09-22T00:00:00\", \"totalTestResultsIncrease\": 83997.0, \"positiveIncrease\": 754.0, \"death\": 25432.0, \"deathIncrease\": 4.0, \"positiveRate\": 0.009, \"state\": \"New York\", \"sma7d\": 787.571}, {\"date\": \"2020-09-23T00:00:00\", \"totalTestResultsIncrease\": 70930.0, \"positiveIncrease\": 665.0, \"death\": 25437.0, \"deathIncrease\": 5.0, \"positiveRate\": 0.009, \"state\": \"New York\", \"sma7d\": 789.429}, {\"date\": \"2020-09-24T00:00:00\", \"totalTestResultsIncrease\": 92953.0, \"positiveIncrease\": 955.0, \"death\": 25439.0, \"deathIncrease\": 2.0, \"positiveRate\": 0.01, \"state\": \"New York\", \"sma7d\": 797.857}, {\"date\": \"2020-09-25T00:00:00\", \"totalTestResultsIncrease\": 94818.0, \"positiveIncrease\": 908.0, \"death\": 25446.0, \"deathIncrease\": 7.0, \"positiveRate\": 0.01, \"state\": \"New York\", \"sma7d\": 814.714}, {\"date\": \"2020-09-26T00:00:00\", \"totalTestResultsIncrease\": 99953.0, \"positiveIncrease\": 1005.0, \"death\": 25450.0, \"deathIncrease\": 4.0, \"positiveRate\": 0.01, \"state\": \"New York\", \"sma7d\": 817.429}, {\"date\": \"2020-09-27T00:00:00\", \"totalTestResultsIncrease\": 84770.0, \"positiveIncrease\": 866.0, \"death\": 25456.0, \"deathIncrease\": 6.0, \"positiveRate\": 0.01, \"state\": \"New York\", \"sma7d\": 818.0}, {\"date\": \"2020-09-28T00:00:00\", \"totalTestResultsIncrease\": 52936.0, \"positiveIncrease\": 834.0, \"death\": 25468.0, \"deathIncrease\": 12.0, \"positiveRate\": 0.016, \"state\": \"New York\", \"sma7d\": 855.286}, {\"date\": \"2020-09-29T00:00:00\", \"totalTestResultsIncrease\": 88231.0, \"positiveIncrease\": 1189.0, \"death\": 25470.0, \"deathIncrease\": 2.0, \"positiveRate\": 0.013, \"state\": \"New York\", \"sma7d\": 917.429}, {\"date\": \"2020-09-30T00:00:00\", \"totalTestResultsIncrease\": 97960.0, \"positiveIncrease\": 1000.0, \"death\": 25479.0, \"deathIncrease\": 9.0, \"positiveRate\": 0.01, \"state\": \"New York\", \"sma7d\": 965.286}, {\"date\": \"2020-10-01T00:00:00\", \"totalTestResultsIncrease\": 109218.0, \"positiveIncrease\": 1382.0, \"death\": 25490.0, \"deathIncrease\": 11.0, \"positiveRate\": 0.013, \"state\": \"New York\", \"sma7d\": 1026.286}, {\"date\": \"2020-10-02T00:00:00\", \"totalTestResultsIncrease\": 119493.0, \"positiveIncrease\": 1598.0, \"death\": 25497.0, \"deathIncrease\": 7.0, \"positiveRate\": 0.013, \"state\": \"New York\", \"sma7d\": 1124.857}, {\"date\": \"2020-10-03T00:00:00\", \"totalTestResultsIncrease\": 134267.0, \"positiveIncrease\": 1731.0, \"death\": 25505.0, \"deathIncrease\": 8.0, \"positiveRate\": 0.013, \"state\": \"New York\", \"sma7d\": 1228.571}, {\"date\": \"2020-10-04T00:00:00\", \"totalTestResultsIncrease\": 110329.0, \"positiveIncrease\": 1222.0, \"death\": 25519.0, \"deathIncrease\": 14.0, \"positiveRate\": 0.011, \"state\": \"New York\", \"sma7d\": 1279.429}, {\"date\": \"2020-10-05T00:00:00\", \"totalTestResultsIncrease\": 76404.0, \"positiveIncrease\": 933.0, \"death\": 25527.0, \"deathIncrease\": 8.0, \"positiveRate\": 0.012, \"state\": \"New York\", \"sma7d\": 1293.571}, {\"date\": \"2020-10-06T00:00:00\", \"totalTestResultsIncrease\": 96359.0, \"positiveIncrease\": 1393.0, \"death\": 25536.0, \"deathIncrease\": 9.0, \"positiveRate\": 0.014, \"state\": \"New York\", \"sma7d\": 1322.714}, {\"date\": \"2020-10-07T00:00:00\", \"totalTestResultsIncrease\": 108246.0, \"positiveIncrease\": 1360.0, \"death\": 25545.0, \"deathIncrease\": 9.0, \"positiveRate\": 0.013, \"state\": \"New York\", \"sma7d\": 1374.143}, {\"date\": \"2020-10-08T00:00:00\", \"totalTestResultsIncrease\": 145811.0, \"positiveIncrease\": 1836.0, \"death\": 25555.0, \"deathIncrease\": 10.0, \"positiveRate\": 0.013, \"state\": \"New York\", \"sma7d\": 1439.0}, {\"date\": \"2020-10-09T00:00:00\", \"totalTestResultsIncrease\": 139300.0, \"positiveIncrease\": 1592.0, \"death\": 25561.0, \"deathIncrease\": 6.0, \"positiveRate\": 0.011, \"state\": \"New York\", \"sma7d\": 1438.143}, {\"date\": \"2020-10-10T00:00:00\", \"totalTestResultsIncrease\": 134579.0, \"positiveIncrease\": 1447.0, \"death\": 25569.0, \"deathIncrease\": 8.0, \"positiveRate\": 0.011, \"state\": \"New York\", \"sma7d\": 1397.571}, {\"date\": \"2020-10-11T00:00:00\", \"totalTestResultsIncrease\": 118254.0, \"positiveIncrease\": 1143.0, \"death\": 25574.0, \"deathIncrease\": 5.0, \"positiveRate\": 0.01, \"state\": \"New York\", \"sma7d\": 1386.286}, {\"date\": \"2020-10-12T00:00:00\", \"totalTestResultsIncrease\": 91793.0, \"positiveIncrease\": 1029.0, \"death\": 25587.0, \"deathIncrease\": 13.0, \"positiveRate\": 0.011, \"state\": \"New York\", \"sma7d\": 1400.0}, {\"date\": \"2020-10-13T00:00:00\", \"totalTestResultsIncrease\": 99070.0, \"positiveIncrease\": 1393.0, \"death\": 25598.0, \"deathIncrease\": 11.0, \"positiveRate\": 0.014, \"state\": \"New York\", \"sma7d\": 1400.0}, {\"date\": \"2020-10-14T00:00:00\", \"totalTestResultsIncrease\": 111744.0, \"positiveIncrease\": 1232.0, \"death\": 25605.0, \"deathIncrease\": 7.0, \"positiveRate\": 0.011, \"state\": \"New York\", \"sma7d\": 1381.714}, {\"date\": \"2020-10-15T00:00:00\", \"totalTestResultsIncrease\": 133212.0, \"positiveIncrease\": 1460.0, \"death\": 25618.0, \"deathIncrease\": 13.0, \"positiveRate\": 0.011, \"state\": \"New York\", \"sma7d\": 1328.0}, {\"date\": \"2020-10-16T00:00:00\", \"totalTestResultsIncrease\": 136039.0, \"positiveIncrease\": 1707.0, \"death\": 25628.0, \"deathIncrease\": 10.0, \"positiveRate\": 0.013, \"state\": \"New York\", \"sma7d\": 1344.429}, {\"date\": \"2020-10-17T00:00:00\", \"totalTestResultsIncrease\": 159972.0, \"positiveIncrease\": 1784.0, \"death\": 25637.0, \"deathIncrease\": 9.0, \"positiveRate\": 0.011, \"state\": \"New York\", \"sma7d\": 1392.571}, {\"date\": \"2020-10-18T00:00:00\", \"totalTestResultsIncrease\": 128763.0, \"positiveIncrease\": 1390.0, \"death\": 25644.0, \"deathIncrease\": 7.0, \"positiveRate\": 0.011, \"state\": \"New York\", \"sma7d\": 1427.857}, {\"date\": \"2020-10-19T00:00:00\", \"totalTestResultsIncrease\": 82009.0, \"positiveIncrease\": 998.0, \"death\": 25659.0, \"deathIncrease\": 15.0, \"positiveRate\": 0.012, \"state\": \"New York\", \"sma7d\": 1423.429}, {\"date\": \"2020-10-20T00:00:00\", \"totalTestResultsIncrease\": 90540.0, \"positiveIncrease\": 1201.0, \"death\": 25672.0, \"deathIncrease\": 13.0, \"positiveRate\": 0.013, \"state\": \"New York\", \"sma7d\": 1396.0}, {\"date\": \"2020-10-21T00:00:00\", \"totalTestResultsIncrease\": 124789.0, \"positiveIncrease\": 2026.0, \"death\": 25679.0, \"deathIncrease\": 7.0, \"positiveRate\": 0.016, \"state\": \"New York\", \"sma7d\": 1509.429}, {\"date\": \"2020-10-22T00:00:00\", \"totalTestResultsIncrease\": 135341.0, \"positiveIncrease\": 1628.0, \"death\": 25694.0, \"deathIncrease\": 15.0, \"positiveRate\": 0.012, \"state\": \"New York\", \"sma7d\": 1533.429}, {\"date\": \"2020-10-23T00:00:00\", \"totalTestResultsIncrease\": 141508.0, \"positiveIncrease\": 1637.0, \"death\": 25705.0, \"deathIncrease\": 11.0, \"positiveRate\": 0.012, \"state\": \"New York\", \"sma7d\": 1523.429}, {\"date\": \"2020-10-24T00:00:00\", \"totalTestResultsIncrease\": 156940.0, \"positiveIncrease\": 2061.0, \"death\": 25718.0, \"deathIncrease\": 13.0, \"positiveRate\": 0.013, \"state\": \"New York\", \"sma7d\": 1563.0}, {\"date\": \"2020-10-25T00:00:00\", \"totalTestResultsIncrease\": 120830.0, \"positiveIncrease\": 1632.0, \"death\": 25730.0, \"deathIncrease\": 12.0, \"positiveRate\": 0.014, \"state\": \"New York\", \"sma7d\": 1597.571}]}}, {\"mode\": \"vega-lite\"});\n",
       "</script>"
      ],
      "text/plain": [
       "alt.LayerChart(...)"
      ]
     },
     "execution_count": 11,
     "metadata": {},
     "output_type": "execute_result"
    }
   ],
   "source": [
    "create_plot(ny, 'positiveIncrease')"
   ]
  },
  {
   "cell_type": "code",
   "execution_count": 12,
   "metadata": {
    "execution": {
     "iopub.execute_input": "2020-10-25T22:36:26.072171Z",
     "iopub.status.busy": "2020-10-25T22:36:26.071610Z",
     "iopub.status.idle": "2020-10-25T22:36:26.166358Z",
     "shell.execute_reply": "2020-10-25T22:36:26.165913Z"
    },
    "papermill": {
     "duration": 0.117561,
     "end_time": "2020-10-25T22:36:26.166484",
     "exception": false,
     "start_time": "2020-10-25T22:36:26.048923",
     "status": "completed"
    },
    "tags": []
   },
   "outputs": [
    {
     "data": {
      "text/html": [
       "\n",
       "<div id=\"altair-viz-2b429d0a17d64e1f9d7c9100db945f14\"></div>\n",
       "<script type=\"text/javascript\">\n",
       "  (function(spec, embedOpt){\n",
       "    let outputDiv = document.currentScript.previousElementSibling;\n",
       "    if (outputDiv.id !== \"altair-viz-2b429d0a17d64e1f9d7c9100db945f14\") {\n",
       "      outputDiv = document.getElementById(\"altair-viz-2b429d0a17d64e1f9d7c9100db945f14\");\n",
       "    }\n",
       "    const paths = {\n",
       "      \"vega\": \"https://cdn.jsdelivr.net/npm//vega@5?noext\",\n",
       "      \"vega-lib\": \"https://cdn.jsdelivr.net/npm//vega-lib?noext\",\n",
       "      \"vega-lite\": \"https://cdn.jsdelivr.net/npm//vega-lite@4.8.1?noext\",\n",
       "      \"vega-embed\": \"https://cdn.jsdelivr.net/npm//vega-embed@6?noext\",\n",
       "    };\n",
       "\n",
       "    function loadScript(lib) {\n",
       "      return new Promise(function(resolve, reject) {\n",
       "        var s = document.createElement('script');\n",
       "        s.src = paths[lib];\n",
       "        s.async = true;\n",
       "        s.onload = () => resolve(paths[lib]);\n",
       "        s.onerror = () => reject(`Error loading script: ${paths[lib]}`);\n",
       "        document.getElementsByTagName(\"head\")[0].appendChild(s);\n",
       "      });\n",
       "    }\n",
       "\n",
       "    function showError(err) {\n",
       "      outputDiv.innerHTML = `<div class=\"error\" style=\"color:red;\">${err}</div>`;\n",
       "      throw err;\n",
       "    }\n",
       "\n",
       "    function displayChart(vegaEmbed) {\n",
       "      vegaEmbed(outputDiv, spec, embedOpt)\n",
       "        .catch(err => showError(`Javascript Error: ${err.message}<br>This usually means there's a typo in your chart specification. See the javascript console for the full traceback.`));\n",
       "    }\n",
       "\n",
       "    if(typeof define === \"function\" && define.amd) {\n",
       "      requirejs.config({paths});\n",
       "      require([\"vega-embed\"], displayChart, err => showError(`Error loading script: ${err.message}`));\n",
       "    } else if (typeof vegaEmbed === \"function\") {\n",
       "      displayChart(vegaEmbed);\n",
       "    } else {\n",
       "      loadScript(\"vega\")\n",
       "        .then(() => loadScript(\"vega-lite\"))\n",
       "        .then(() => loadScript(\"vega-embed\"))\n",
       "        .catch(showError)\n",
       "        .then(() => displayChart(vegaEmbed));\n",
       "    }\n",
       "  })({\"config\": {\"view\": {\"continuousWidth\": 400, \"continuousHeight\": 300}}, \"layer\": [{\"layer\": [{\"mark\": {\"type\": \"point\", \"size\": 75}, \"encoding\": {\"tooltip\": [{\"type\": \"temporal\", \"field\": \"date\"}, {\"type\": \"quantitative\", \"field\": \"positiveRate\"}, {\"type\": \"quantitative\", \"field\": \"sma7d\"}], \"x\": {\"type\": \"temporal\", \"field\": \"date\"}, \"y\": {\"type\": \"quantitative\", \"field\": \"positiveRate\"}}, \"selection\": {\"selector010\": {\"type\": \"interval\", \"bind\": \"scales\", \"encodings\": [\"x\", \"y\"]}}}, {\"mark\": {\"type\": \"line\", \"color\": \"purple\"}, \"encoding\": {\"x\": {\"type\": \"temporal\", \"field\": \"date\"}, \"y\": {\"type\": \"quantitative\", \"field\": \"sma7d\"}}}]}, {\"mark\": {\"type\": \"rule\", \"color\": \"#aaa\"}, \"encoding\": {\"x\": {\"type\": \"temporal\", \"field\": \"date\"}}, \"transform\": [{\"filter\": {\"selection\": \"selector009\"}}]}, {\"mark\": \"circle\", \"encoding\": {\"opacity\": {\"condition\": {\"value\": 1, \"selection\": \"selector009\"}, \"value\": 0}, \"tooltip\": [{\"type\": \"temporal\", \"field\": \"date\"}, {\"type\": \"quantitative\", \"field\": \"positiveRate\"}, {\"type\": \"quantitative\", \"field\": \"sma7d\"}], \"x\": {\"type\": \"temporal\", \"field\": \"date\"}, \"y\": {\"type\": \"quantitative\", \"field\": \"positiveRate\"}}, \"selection\": {\"selector009\": {\"type\": \"single\", \"encodings\": [\"x\"], \"on\": \"mouseover\", \"nearest\": true, \"empty\": \"none\"}}}, {\"mark\": {\"type\": \"text\", \"align\": \"left\", \"dx\": 5, \"dy\": -5, \"stroke\": \"white\", \"strokeWidth\": 2}, \"encoding\": {\"text\": {\"type\": \"quantitative\", \"field\": \"positiveRate\"}, \"tooltip\": [{\"type\": \"temporal\", \"field\": \"date\"}, {\"type\": \"quantitative\", \"field\": \"positiveRate\"}, {\"type\": \"quantitative\", \"field\": \"sma7d\"}], \"x\": {\"type\": \"temporal\", \"field\": \"date\"}, \"y\": {\"type\": \"quantitative\", \"field\": \"positiveRate\"}}, \"transform\": [{\"filter\": {\"selection\": \"selector009\"}}]}, {\"mark\": {\"type\": \"text\", \"align\": \"left\", \"dx\": 5, \"dy\": -5}, \"encoding\": {\"text\": {\"type\": \"quantitative\", \"field\": \"positiveRate\"}, \"tooltip\": [{\"type\": \"temporal\", \"field\": \"date\"}, {\"type\": \"quantitative\", \"field\": \"positiveRate\"}, {\"type\": \"quantitative\", \"field\": \"sma7d\"}], \"x\": {\"type\": \"temporal\", \"field\": \"date\"}, \"y\": {\"type\": \"quantitative\", \"field\": \"positiveRate\"}}, \"transform\": [{\"filter\": {\"selection\": \"selector009\"}}]}], \"data\": {\"name\": \"data-b6d82e8aec36a485ff54042293a4d83d\"}, \"height\": 400, \"title\": \"New York: positiveRate\", \"width\": 500, \"$schema\": \"https://vega.github.io/schema/vega-lite/v4.8.1.json\", \"datasets\": {\"data-b6d82e8aec36a485ff54042293a4d83d\": [{\"date\": \"2020-08-31T00:00:00\", \"totalTestResultsIncrease\": 66241.0, \"positiveIncrease\": 656.0, \"death\": 25328.0, \"deathIncrease\": 1.0, \"positiveRate\": 0.01, \"state\": \"New York\", \"sma7d\": 0.008}, {\"date\": \"2020-09-01T00:00:00\", \"totalTestResultsIncrease\": 76997.0, \"positiveIncrease\": 754.0, \"death\": 25331.0, \"deathIncrease\": 3.0, \"positiveRate\": 0.01, \"state\": \"New York\", \"sma7d\": 0.008}, {\"date\": \"2020-09-02T00:00:00\", \"totalTestResultsIncrease\": 88447.0, \"positiveIncrease\": 708.0, \"death\": 25336.0, \"deathIncrease\": 5.0, \"positiveRate\": 0.008, \"state\": \"New York\", \"sma7d\": 0.008}, {\"date\": \"2020-09-03T00:00:00\", \"totalTestResultsIncrease\": 88981.0, \"positiveIncrease\": 889.0, \"death\": 25343.0, \"deathIncrease\": 7.0, \"positiveRate\": 0.01, \"state\": \"New York\", \"sma7d\": 0.008}, {\"date\": \"2020-09-04T00:00:00\", \"totalTestResultsIncrease\": 93395.0, \"positiveIncrease\": 864.0, \"death\": 25348.0, \"deathIncrease\": 5.0, \"positiveRate\": 0.009, \"state\": \"New York\", \"sma7d\": 0.009}, {\"date\": \"2020-09-05T00:00:00\", \"totalTestResultsIncrease\": 99761.0, \"positiveIncrease\": 801.0, \"death\": 25350.0, \"deathIncrease\": 2.0, \"positiveRate\": 0.008, \"state\": \"New York\", \"sma7d\": 0.009}, {\"date\": \"2020-09-06T00:00:00\", \"totalTestResultsIncrease\": 85630.0, \"positiveIncrease\": 729.0, \"death\": 25359.0, \"deathIncrease\": 9.0, \"positiveRate\": 0.009, \"state\": \"New York\", \"sma7d\": 0.009}, {\"date\": \"2020-09-07T00:00:00\", \"totalTestResultsIncrease\": 58865.0, \"positiveIncrease\": 520.0, \"death\": 25361.0, \"deathIncrease\": 2.0, \"positiveRate\": 0.009, \"state\": \"New York\", \"sma7d\": 0.009}, {\"date\": \"2020-09-08T00:00:00\", \"totalTestResultsIncrease\": 57826.0, \"positiveIncrease\": 557.0, \"death\": 25367.0, \"deathIncrease\": 6.0, \"positiveRate\": 0.01, \"state\": \"New York\", \"sma7d\": 0.009}, {\"date\": \"2020-09-09T00:00:00\", \"totalTestResultsIncrease\": 63230.0, \"positiveIncrease\": 576.0, \"death\": 25370.0, \"deathIncrease\": 3.0, \"positiveRate\": 0.009, \"state\": \"New York\", \"sma7d\": 0.009}, {\"date\": \"2020-09-10T00:00:00\", \"totalTestResultsIncrease\": 76813.0, \"positiveIncrease\": 757.0, \"death\": 25377.0, \"deathIncrease\": 7.0, \"positiveRate\": 0.01, \"state\": \"New York\", \"sma7d\": 0.009}, {\"date\": \"2020-09-11T00:00:00\", \"totalTestResultsIncrease\": 89722.0, \"positiveIncrease\": 880.0, \"death\": 25382.0, \"deathIncrease\": 5.0, \"positiveRate\": 0.01, \"state\": \"New York\", \"sma7d\": 0.009}, {\"date\": \"2020-09-12T00:00:00\", \"totalTestResultsIncrease\": 102925.0, \"positiveIncrease\": 849.0, \"death\": 25384.0, \"deathIncrease\": 2.0, \"positiveRate\": 0.008, \"state\": \"New York\", \"sma7d\": 0.009}, {\"date\": \"2020-09-13T00:00:00\", \"totalTestResultsIncrease\": 72668.0, \"positiveIncrease\": 725.0, \"death\": 25390.0, \"deathIncrease\": 6.0, \"positiveRate\": 0.01, \"state\": \"New York\", \"sma7d\": 0.009}, {\"date\": \"2020-09-14T00:00:00\", \"totalTestResultsIncrease\": 63358.0, \"positiveIncrease\": 583.0, \"death\": 25394.0, \"deathIncrease\": 4.0, \"positiveRate\": 0.009, \"state\": \"New York\", \"sma7d\": 0.009}, {\"date\": \"2020-09-15T00:00:00\", \"totalTestResultsIncrease\": 73678.0, \"positiveIncrease\": 766.0, \"death\": 25405.0, \"deathIncrease\": 11.0, \"positiveRate\": 0.01, \"state\": \"New York\", \"sma7d\": 0.009}, {\"date\": \"2020-09-16T00:00:00\", \"totalTestResultsIncrease\": 75087.0, \"positiveIncrease\": 652.0, \"death\": 25410.0, \"deathIncrease\": 5.0, \"positiveRate\": 0.009, \"state\": \"New York\", \"sma7d\": 0.009}, {\"date\": \"2020-09-17T00:00:00\", \"totalTestResultsIncrease\": 91504.0, \"positiveIncrease\": 896.0, \"death\": 25413.0, \"deathIncrease\": 3.0, \"positiveRate\": 0.01, \"state\": \"New York\", \"sma7d\": 0.009}, {\"date\": \"2020-09-18T00:00:00\", \"totalTestResultsIncrease\": 89727.0, \"positiveIncrease\": 790.0, \"death\": 25423.0, \"deathIncrease\": 10.0, \"positiveRate\": 0.009, \"state\": \"New York\", \"sma7d\": 0.009}, {\"date\": \"2020-09-19T00:00:00\", \"totalTestResultsIncrease\": 110444.0, \"positiveIncrease\": 986.0, \"death\": 25425.0, \"deathIncrease\": 2.0, \"positiveRate\": 0.009, \"state\": \"New York\", \"sma7d\": 0.009}, {\"date\": \"2020-09-20T00:00:00\", \"totalTestResultsIncrease\": 100355.0, \"positiveIncrease\": 862.0, \"death\": 25427.0, \"deathIncrease\": 2.0, \"positiveRate\": 0.009, \"state\": \"New York\", \"sma7d\": 0.009}, {\"date\": \"2020-09-21T00:00:00\", \"totalTestResultsIncrease\": 58319.0, \"positiveIncrease\": 573.0, \"death\": 25428.0, \"deathIncrease\": 1.0, \"positiveRate\": 0.01, \"state\": \"New York\", \"sma7d\": 0.009}, {\"date\": \"2020-09-22T00:00:00\", \"totalTestResultsIncrease\": 83997.0, \"positiveIncrease\": 754.0, \"death\": 25432.0, \"deathIncrease\": 4.0, \"positiveRate\": 0.009, \"state\": \"New York\", \"sma7d\": 0.009}, {\"date\": \"2020-09-23T00:00:00\", \"totalTestResultsIncrease\": 70930.0, \"positiveIncrease\": 665.0, \"death\": 25437.0, \"deathIncrease\": 5.0, \"positiveRate\": 0.009, \"state\": \"New York\", \"sma7d\": 0.009}, {\"date\": \"2020-09-24T00:00:00\", \"totalTestResultsIncrease\": 92953.0, \"positiveIncrease\": 955.0, \"death\": 25439.0, \"deathIncrease\": 2.0, \"positiveRate\": 0.01, \"state\": \"New York\", \"sma7d\": 0.009}, {\"date\": \"2020-09-25T00:00:00\", \"totalTestResultsIncrease\": 94818.0, \"positiveIncrease\": 908.0, \"death\": 25446.0, \"deathIncrease\": 7.0, \"positiveRate\": 0.01, \"state\": \"New York\", \"sma7d\": 0.009}, {\"date\": \"2020-09-26T00:00:00\", \"totalTestResultsIncrease\": 99953.0, \"positiveIncrease\": 1005.0, \"death\": 25450.0, \"deathIncrease\": 4.0, \"positiveRate\": 0.01, \"state\": \"New York\", \"sma7d\": 0.01}, {\"date\": \"2020-09-27T00:00:00\", \"totalTestResultsIncrease\": 84770.0, \"positiveIncrease\": 866.0, \"death\": 25456.0, \"deathIncrease\": 6.0, \"positiveRate\": 0.01, \"state\": \"New York\", \"sma7d\": 0.01}, {\"date\": \"2020-09-28T00:00:00\", \"totalTestResultsIncrease\": 52936.0, \"positiveIncrease\": 834.0, \"death\": 25468.0, \"deathIncrease\": 12.0, \"positiveRate\": 0.016, \"state\": \"New York\", \"sma7d\": 0.011}, {\"date\": \"2020-09-29T00:00:00\", \"totalTestResultsIncrease\": 88231.0, \"positiveIncrease\": 1189.0, \"death\": 25470.0, \"deathIncrease\": 2.0, \"positiveRate\": 0.013, \"state\": \"New York\", \"sma7d\": 0.011}, {\"date\": \"2020-09-30T00:00:00\", \"totalTestResultsIncrease\": 97960.0, \"positiveIncrease\": 1000.0, \"death\": 25479.0, \"deathIncrease\": 9.0, \"positiveRate\": 0.01, \"state\": \"New York\", \"sma7d\": 0.011}, {\"date\": \"2020-10-01T00:00:00\", \"totalTestResultsIncrease\": 109218.0, \"positiveIncrease\": 1382.0, \"death\": 25490.0, \"deathIncrease\": 11.0, \"positiveRate\": 0.013, \"state\": \"New York\", \"sma7d\": 0.012}, {\"date\": \"2020-10-02T00:00:00\", \"totalTestResultsIncrease\": 119493.0, \"positiveIncrease\": 1598.0, \"death\": 25497.0, \"deathIncrease\": 7.0, \"positiveRate\": 0.013, \"state\": \"New York\", \"sma7d\": 0.012}, {\"date\": \"2020-10-03T00:00:00\", \"totalTestResultsIncrease\": 134267.0, \"positiveIncrease\": 1731.0, \"death\": 25505.0, \"deathIncrease\": 8.0, \"positiveRate\": 0.013, \"state\": \"New York\", \"sma7d\": 0.013}, {\"date\": \"2020-10-04T00:00:00\", \"totalTestResultsIncrease\": 110329.0, \"positiveIncrease\": 1222.0, \"death\": 25519.0, \"deathIncrease\": 14.0, \"positiveRate\": 0.011, \"state\": \"New York\", \"sma7d\": 0.013}, {\"date\": \"2020-10-05T00:00:00\", \"totalTestResultsIncrease\": 76404.0, \"positiveIncrease\": 933.0, \"death\": 25527.0, \"deathIncrease\": 8.0, \"positiveRate\": 0.012, \"state\": \"New York\", \"sma7d\": 0.012}, {\"date\": \"2020-10-06T00:00:00\", \"totalTestResultsIncrease\": 96359.0, \"positiveIncrease\": 1393.0, \"death\": 25536.0, \"deathIncrease\": 9.0, \"positiveRate\": 0.014, \"state\": \"New York\", \"sma7d\": 0.012}, {\"date\": \"2020-10-07T00:00:00\", \"totalTestResultsIncrease\": 108246.0, \"positiveIncrease\": 1360.0, \"death\": 25545.0, \"deathIncrease\": 9.0, \"positiveRate\": 0.013, \"state\": \"New York\", \"sma7d\": 0.013}, {\"date\": \"2020-10-08T00:00:00\", \"totalTestResultsIncrease\": 145811.0, \"positiveIncrease\": 1836.0, \"death\": 25555.0, \"deathIncrease\": 10.0, \"positiveRate\": 0.013, \"state\": \"New York\", \"sma7d\": 0.013}, {\"date\": \"2020-10-09T00:00:00\", \"totalTestResultsIncrease\": 139300.0, \"positiveIncrease\": 1592.0, \"death\": 25561.0, \"deathIncrease\": 6.0, \"positiveRate\": 0.011, \"state\": \"New York\", \"sma7d\": 0.012}, {\"date\": \"2020-10-10T00:00:00\", \"totalTestResultsIncrease\": 134579.0, \"positiveIncrease\": 1447.0, \"death\": 25569.0, \"deathIncrease\": 8.0, \"positiveRate\": 0.011, \"state\": \"New York\", \"sma7d\": 0.012}, {\"date\": \"2020-10-11T00:00:00\", \"totalTestResultsIncrease\": 118254.0, \"positiveIncrease\": 1143.0, \"death\": 25574.0, \"deathIncrease\": 5.0, \"positiveRate\": 0.01, \"state\": \"New York\", \"sma7d\": 0.012}, {\"date\": \"2020-10-12T00:00:00\", \"totalTestResultsIncrease\": 91793.0, \"positiveIncrease\": 1029.0, \"death\": 25587.0, \"deathIncrease\": 13.0, \"positiveRate\": 0.011, \"state\": \"New York\", \"sma7d\": 0.012}, {\"date\": \"2020-10-13T00:00:00\", \"totalTestResultsIncrease\": 99070.0, \"positiveIncrease\": 1393.0, \"death\": 25598.0, \"deathIncrease\": 11.0, \"positiveRate\": 0.014, \"state\": \"New York\", \"sma7d\": 0.012}, {\"date\": \"2020-10-14T00:00:00\", \"totalTestResultsIncrease\": 111744.0, \"positiveIncrease\": 1232.0, \"death\": 25605.0, \"deathIncrease\": 7.0, \"positiveRate\": 0.011, \"state\": \"New York\", \"sma7d\": 0.012}, {\"date\": \"2020-10-15T00:00:00\", \"totalTestResultsIncrease\": 133212.0, \"positiveIncrease\": 1460.0, \"death\": 25618.0, \"deathIncrease\": 13.0, \"positiveRate\": 0.011, \"state\": \"New York\", \"sma7d\": 0.011}, {\"date\": \"2020-10-16T00:00:00\", \"totalTestResultsIncrease\": 136039.0, \"positiveIncrease\": 1707.0, \"death\": 25628.0, \"deathIncrease\": 10.0, \"positiveRate\": 0.013, \"state\": \"New York\", \"sma7d\": 0.012}, {\"date\": \"2020-10-17T00:00:00\", \"totalTestResultsIncrease\": 159972.0, \"positiveIncrease\": 1784.0, \"death\": 25637.0, \"deathIncrease\": 9.0, \"positiveRate\": 0.011, \"state\": \"New York\", \"sma7d\": 0.012}, {\"date\": \"2020-10-18T00:00:00\", \"totalTestResultsIncrease\": 128763.0, \"positiveIncrease\": 1390.0, \"death\": 25644.0, \"deathIncrease\": 7.0, \"positiveRate\": 0.011, \"state\": \"New York\", \"sma7d\": 0.012}, {\"date\": \"2020-10-19T00:00:00\", \"totalTestResultsIncrease\": 82009.0, \"positiveIncrease\": 998.0, \"death\": 25659.0, \"deathIncrease\": 15.0, \"positiveRate\": 0.012, \"state\": \"New York\", \"sma7d\": 0.012}, {\"date\": \"2020-10-20T00:00:00\", \"totalTestResultsIncrease\": 90540.0, \"positiveIncrease\": 1201.0, \"death\": 25672.0, \"deathIncrease\": 13.0, \"positiveRate\": 0.013, \"state\": \"New York\", \"sma7d\": 0.012}, {\"date\": \"2020-10-21T00:00:00\", \"totalTestResultsIncrease\": 124789.0, \"positiveIncrease\": 2026.0, \"death\": 25679.0, \"deathIncrease\": 7.0, \"positiveRate\": 0.016, \"state\": \"New York\", \"sma7d\": 0.012}, {\"date\": \"2020-10-22T00:00:00\", \"totalTestResultsIncrease\": 135341.0, \"positiveIncrease\": 1628.0, \"death\": 25694.0, \"deathIncrease\": 15.0, \"positiveRate\": 0.012, \"state\": \"New York\", \"sma7d\": 0.013}, {\"date\": \"2020-10-23T00:00:00\", \"totalTestResultsIncrease\": 141508.0, \"positiveIncrease\": 1637.0, \"death\": 25705.0, \"deathIncrease\": 11.0, \"positiveRate\": 0.012, \"state\": \"New York\", \"sma7d\": 0.012}, {\"date\": \"2020-10-24T00:00:00\", \"totalTestResultsIncrease\": 156940.0, \"positiveIncrease\": 2061.0, \"death\": 25718.0, \"deathIncrease\": 13.0, \"positiveRate\": 0.013, \"state\": \"New York\", \"sma7d\": 0.013}, {\"date\": \"2020-10-25T00:00:00\", \"totalTestResultsIncrease\": 120830.0, \"positiveIncrease\": 1632.0, \"death\": 25730.0, \"deathIncrease\": 12.0, \"positiveRate\": 0.014, \"state\": \"New York\", \"sma7d\": 0.013}]}}, {\"mode\": \"vega-lite\"});\n",
       "</script>"
      ],
      "text/plain": [
       "alt.LayerChart(...)"
      ]
     },
     "execution_count": 12,
     "metadata": {},
     "output_type": "execute_result"
    }
   ],
   "source": [
    "create_plot(ny, 'positiveRate')"
   ]
  },
  {
   "cell_type": "code",
   "execution_count": 13,
   "metadata": {
    "execution": {
     "iopub.execute_input": "2020-10-25T22:36:26.218051Z",
     "iopub.status.busy": "2020-10-25T22:36:26.207023Z",
     "iopub.status.idle": "2020-10-25T22:36:26.293881Z",
     "shell.execute_reply": "2020-10-25T22:36:26.294610Z"
    },
    "papermill": {
     "duration": 0.112583,
     "end_time": "2020-10-25T22:36:26.294868",
     "exception": false,
     "start_time": "2020-10-25T22:36:26.182285",
     "status": "completed"
    },
    "tags": []
   },
   "outputs": [
    {
     "data": {
      "text/html": [
       "\n",
       "<div id=\"altair-viz-0b02f5d8e8f7423fac7867c4acb94127\"></div>\n",
       "<script type=\"text/javascript\">\n",
       "  (function(spec, embedOpt){\n",
       "    let outputDiv = document.currentScript.previousElementSibling;\n",
       "    if (outputDiv.id !== \"altair-viz-0b02f5d8e8f7423fac7867c4acb94127\") {\n",
       "      outputDiv = document.getElementById(\"altair-viz-0b02f5d8e8f7423fac7867c4acb94127\");\n",
       "    }\n",
       "    const paths = {\n",
       "      \"vega\": \"https://cdn.jsdelivr.net/npm//vega@5?noext\",\n",
       "      \"vega-lib\": \"https://cdn.jsdelivr.net/npm//vega-lib?noext\",\n",
       "      \"vega-lite\": \"https://cdn.jsdelivr.net/npm//vega-lite@4.8.1?noext\",\n",
       "      \"vega-embed\": \"https://cdn.jsdelivr.net/npm//vega-embed@6?noext\",\n",
       "    };\n",
       "\n",
       "    function loadScript(lib) {\n",
       "      return new Promise(function(resolve, reject) {\n",
       "        var s = document.createElement('script');\n",
       "        s.src = paths[lib];\n",
       "        s.async = true;\n",
       "        s.onload = () => resolve(paths[lib]);\n",
       "        s.onerror = () => reject(`Error loading script: ${paths[lib]}`);\n",
       "        document.getElementsByTagName(\"head\")[0].appendChild(s);\n",
       "      });\n",
       "    }\n",
       "\n",
       "    function showError(err) {\n",
       "      outputDiv.innerHTML = `<div class=\"error\" style=\"color:red;\">${err}</div>`;\n",
       "      throw err;\n",
       "    }\n",
       "\n",
       "    function displayChart(vegaEmbed) {\n",
       "      vegaEmbed(outputDiv, spec, embedOpt)\n",
       "        .catch(err => showError(`Javascript Error: ${err.message}<br>This usually means there's a typo in your chart specification. See the javascript console for the full traceback.`));\n",
       "    }\n",
       "\n",
       "    if(typeof define === \"function\" && define.amd) {\n",
       "      requirejs.config({paths});\n",
       "      require([\"vega-embed\"], displayChart, err => showError(`Error loading script: ${err.message}`));\n",
       "    } else if (typeof vegaEmbed === \"function\") {\n",
       "      displayChart(vegaEmbed);\n",
       "    } else {\n",
       "      loadScript(\"vega\")\n",
       "        .then(() => loadScript(\"vega-lite\"))\n",
       "        .then(() => loadScript(\"vega-embed\"))\n",
       "        .catch(showError)\n",
       "        .then(() => displayChart(vegaEmbed));\n",
       "    }\n",
       "  })({\"config\": {\"view\": {\"continuousWidth\": 400, \"continuousHeight\": 300}}, \"layer\": [{\"layer\": [{\"mark\": {\"type\": \"point\", \"size\": 75}, \"encoding\": {\"tooltip\": [{\"type\": \"temporal\", \"field\": \"date\"}, {\"type\": \"quantitative\", \"field\": \"deathIncrease\"}, {\"type\": \"quantitative\", \"field\": \"sma7d\"}], \"x\": {\"type\": \"temporal\", \"field\": \"date\"}, \"y\": {\"type\": \"quantitative\", \"field\": \"deathIncrease\"}}, \"selection\": {\"selector012\": {\"type\": \"interval\", \"bind\": \"scales\", \"encodings\": [\"x\", \"y\"]}}}, {\"mark\": {\"type\": \"line\", \"color\": \"purple\"}, \"encoding\": {\"x\": {\"type\": \"temporal\", \"field\": \"date\"}, \"y\": {\"type\": \"quantitative\", \"field\": \"sma7d\"}}}]}, {\"mark\": {\"type\": \"rule\", \"color\": \"#aaa\"}, \"encoding\": {\"x\": {\"type\": \"temporal\", \"field\": \"date\"}}, \"transform\": [{\"filter\": {\"selection\": \"selector011\"}}]}, {\"mark\": \"circle\", \"encoding\": {\"opacity\": {\"condition\": {\"value\": 1, \"selection\": \"selector011\"}, \"value\": 0}, \"tooltip\": [{\"type\": \"temporal\", \"field\": \"date\"}, {\"type\": \"quantitative\", \"field\": \"deathIncrease\"}, {\"type\": \"quantitative\", \"field\": \"sma7d\"}], \"x\": {\"type\": \"temporal\", \"field\": \"date\"}, \"y\": {\"type\": \"quantitative\", \"field\": \"deathIncrease\"}}, \"selection\": {\"selector011\": {\"type\": \"single\", \"encodings\": [\"x\"], \"on\": \"mouseover\", \"nearest\": true, \"empty\": \"none\"}}}, {\"mark\": {\"type\": \"text\", \"align\": \"left\", \"dx\": 5, \"dy\": -5, \"stroke\": \"white\", \"strokeWidth\": 2}, \"encoding\": {\"text\": {\"type\": \"quantitative\", \"field\": \"deathIncrease\"}, \"tooltip\": [{\"type\": \"temporal\", \"field\": \"date\"}, {\"type\": \"quantitative\", \"field\": \"deathIncrease\"}, {\"type\": \"quantitative\", \"field\": \"sma7d\"}], \"x\": {\"type\": \"temporal\", \"field\": \"date\"}, \"y\": {\"type\": \"quantitative\", \"field\": \"deathIncrease\"}}, \"transform\": [{\"filter\": {\"selection\": \"selector011\"}}]}, {\"mark\": {\"type\": \"text\", \"align\": \"left\", \"dx\": 5, \"dy\": -5}, \"encoding\": {\"text\": {\"type\": \"quantitative\", \"field\": \"deathIncrease\"}, \"tooltip\": [{\"type\": \"temporal\", \"field\": \"date\"}, {\"type\": \"quantitative\", \"field\": \"deathIncrease\"}, {\"type\": \"quantitative\", \"field\": \"sma7d\"}], \"x\": {\"type\": \"temporal\", \"field\": \"date\"}, \"y\": {\"type\": \"quantitative\", \"field\": \"deathIncrease\"}}, \"transform\": [{\"filter\": {\"selection\": \"selector011\"}}]}], \"data\": {\"name\": \"data-91c3afa3d02b7535e15ff94cd58f3403\"}, \"height\": 400, \"title\": \"New York: deathIncrease\", \"width\": 500, \"$schema\": \"https://vega.github.io/schema/vega-lite/v4.8.1.json\", \"datasets\": {\"data-91c3afa3d02b7535e15ff94cd58f3403\": [{\"date\": \"2020-08-31T00:00:00\", \"totalTestResultsIncrease\": 66241.0, \"positiveIncrease\": 656.0, \"death\": 25328.0, \"deathIncrease\": 1.0, \"positiveRate\": 0.01, \"state\": \"New York\", \"sma7d\": 4.714}, {\"date\": \"2020-09-01T00:00:00\", \"totalTestResultsIncrease\": 76997.0, \"positiveIncrease\": 754.0, \"death\": 25331.0, \"deathIncrease\": 3.0, \"positiveRate\": 0.01, \"state\": \"New York\", \"sma7d\": 4.857}, {\"date\": \"2020-09-02T00:00:00\", \"totalTestResultsIncrease\": 88447.0, \"positiveIncrease\": 708.0, \"death\": 25336.0, \"deathIncrease\": 5.0, \"positiveRate\": 0.008, \"state\": \"New York\", \"sma7d\": 4.429}, {\"date\": \"2020-09-03T00:00:00\", \"totalTestResultsIncrease\": 88981.0, \"positiveIncrease\": 889.0, \"death\": 25343.0, \"deathIncrease\": 7.0, \"positiveRate\": 0.01, \"state\": \"New York\", \"sma7d\": 4.857}, {\"date\": \"2020-09-04T00:00:00\", \"totalTestResultsIncrease\": 93395.0, \"positiveIncrease\": 864.0, \"death\": 25348.0, \"deathIncrease\": 5.0, \"positiveRate\": 0.009, \"state\": \"New York\", \"sma7d\": 5.143}, {\"date\": \"2020-09-05T00:00:00\", \"totalTestResultsIncrease\": 99761.0, \"positiveIncrease\": 801.0, \"death\": 25350.0, \"deathIncrease\": 2.0, \"positiveRate\": 0.008, \"state\": \"New York\", \"sma7d\": 4.429}, {\"date\": \"2020-09-06T00:00:00\", \"totalTestResultsIncrease\": 85630.0, \"positiveIncrease\": 729.0, \"death\": 25359.0, \"deathIncrease\": 9.0, \"positiveRate\": 0.009, \"state\": \"New York\", \"sma7d\": 4.571}, {\"date\": \"2020-09-07T00:00:00\", \"totalTestResultsIncrease\": 58865.0, \"positiveIncrease\": 520.0, \"death\": 25361.0, \"deathIncrease\": 2.0, \"positiveRate\": 0.009, \"state\": \"New York\", \"sma7d\": 4.714}, {\"date\": \"2020-09-08T00:00:00\", \"totalTestResultsIncrease\": 57826.0, \"positiveIncrease\": 557.0, \"death\": 25367.0, \"deathIncrease\": 6.0, \"positiveRate\": 0.01, \"state\": \"New York\", \"sma7d\": 5.143}, {\"date\": \"2020-09-09T00:00:00\", \"totalTestResultsIncrease\": 63230.0, \"positiveIncrease\": 576.0, \"death\": 25370.0, \"deathIncrease\": 3.0, \"positiveRate\": 0.009, \"state\": \"New York\", \"sma7d\": 4.857}, {\"date\": \"2020-09-10T00:00:00\", \"totalTestResultsIncrease\": 76813.0, \"positiveIncrease\": 757.0, \"death\": 25377.0, \"deathIncrease\": 7.0, \"positiveRate\": 0.01, \"state\": \"New York\", \"sma7d\": 4.857}, {\"date\": \"2020-09-11T00:00:00\", \"totalTestResultsIncrease\": 89722.0, \"positiveIncrease\": 880.0, \"death\": 25382.0, \"deathIncrease\": 5.0, \"positiveRate\": 0.01, \"state\": \"New York\", \"sma7d\": 4.857}, {\"date\": \"2020-09-12T00:00:00\", \"totalTestResultsIncrease\": 102925.0, \"positiveIncrease\": 849.0, \"death\": 25384.0, \"deathIncrease\": 2.0, \"positiveRate\": 0.008, \"state\": \"New York\", \"sma7d\": 4.857}, {\"date\": \"2020-09-13T00:00:00\", \"totalTestResultsIncrease\": 72668.0, \"positiveIncrease\": 725.0, \"death\": 25390.0, \"deathIncrease\": 6.0, \"positiveRate\": 0.01, \"state\": \"New York\", \"sma7d\": 4.429}, {\"date\": \"2020-09-14T00:00:00\", \"totalTestResultsIncrease\": 63358.0, \"positiveIncrease\": 583.0, \"death\": 25394.0, \"deathIncrease\": 4.0, \"positiveRate\": 0.009, \"state\": \"New York\", \"sma7d\": 4.714}, {\"date\": \"2020-09-15T00:00:00\", \"totalTestResultsIncrease\": 73678.0, \"positiveIncrease\": 766.0, \"death\": 25405.0, \"deathIncrease\": 11.0, \"positiveRate\": 0.01, \"state\": \"New York\", \"sma7d\": 5.429}, {\"date\": \"2020-09-16T00:00:00\", \"totalTestResultsIncrease\": 75087.0, \"positiveIncrease\": 652.0, \"death\": 25410.0, \"deathIncrease\": 5.0, \"positiveRate\": 0.009, \"state\": \"New York\", \"sma7d\": 5.714}, {\"date\": \"2020-09-17T00:00:00\", \"totalTestResultsIncrease\": 91504.0, \"positiveIncrease\": 896.0, \"death\": 25413.0, \"deathIncrease\": 3.0, \"positiveRate\": 0.01, \"state\": \"New York\", \"sma7d\": 5.143}, {\"date\": \"2020-09-18T00:00:00\", \"totalTestResultsIncrease\": 89727.0, \"positiveIncrease\": 790.0, \"death\": 25423.0, \"deathIncrease\": 10.0, \"positiveRate\": 0.009, \"state\": \"New York\", \"sma7d\": 5.857}, {\"date\": \"2020-09-19T00:00:00\", \"totalTestResultsIncrease\": 110444.0, \"positiveIncrease\": 986.0, \"death\": 25425.0, \"deathIncrease\": 2.0, \"positiveRate\": 0.009, \"state\": \"New York\", \"sma7d\": 5.857}, {\"date\": \"2020-09-20T00:00:00\", \"totalTestResultsIncrease\": 100355.0, \"positiveIncrease\": 862.0, \"death\": 25427.0, \"deathIncrease\": 2.0, \"positiveRate\": 0.009, \"state\": \"New York\", \"sma7d\": 5.286}, {\"date\": \"2020-09-21T00:00:00\", \"totalTestResultsIncrease\": 58319.0, \"positiveIncrease\": 573.0, \"death\": 25428.0, \"deathIncrease\": 1.0, \"positiveRate\": 0.01, \"state\": \"New York\", \"sma7d\": 4.857}, {\"date\": \"2020-09-22T00:00:00\", \"totalTestResultsIncrease\": 83997.0, \"positiveIncrease\": 754.0, \"death\": 25432.0, \"deathIncrease\": 4.0, \"positiveRate\": 0.009, \"state\": \"New York\", \"sma7d\": 3.857}, {\"date\": \"2020-09-23T00:00:00\", \"totalTestResultsIncrease\": 70930.0, \"positiveIncrease\": 665.0, \"death\": 25437.0, \"deathIncrease\": 5.0, \"positiveRate\": 0.009, \"state\": \"New York\", \"sma7d\": 3.857}, {\"date\": \"2020-09-24T00:00:00\", \"totalTestResultsIncrease\": 92953.0, \"positiveIncrease\": 955.0, \"death\": 25439.0, \"deathIncrease\": 2.0, \"positiveRate\": 0.01, \"state\": \"New York\", \"sma7d\": 3.714}, {\"date\": \"2020-09-25T00:00:00\", \"totalTestResultsIncrease\": 94818.0, \"positiveIncrease\": 908.0, \"death\": 25446.0, \"deathIncrease\": 7.0, \"positiveRate\": 0.01, \"state\": \"New York\", \"sma7d\": 3.286}, {\"date\": \"2020-09-26T00:00:00\", \"totalTestResultsIncrease\": 99953.0, \"positiveIncrease\": 1005.0, \"death\": 25450.0, \"deathIncrease\": 4.0, \"positiveRate\": 0.01, \"state\": \"New York\", \"sma7d\": 3.571}, {\"date\": \"2020-09-27T00:00:00\", \"totalTestResultsIncrease\": 84770.0, \"positiveIncrease\": 866.0, \"death\": 25456.0, \"deathIncrease\": 6.0, \"positiveRate\": 0.01, \"state\": \"New York\", \"sma7d\": 4.143}, {\"date\": \"2020-09-28T00:00:00\", \"totalTestResultsIncrease\": 52936.0, \"positiveIncrease\": 834.0, \"death\": 25468.0, \"deathIncrease\": 12.0, \"positiveRate\": 0.016, \"state\": \"New York\", \"sma7d\": 5.714}, {\"date\": \"2020-09-29T00:00:00\", \"totalTestResultsIncrease\": 88231.0, \"positiveIncrease\": 1189.0, \"death\": 25470.0, \"deathIncrease\": 2.0, \"positiveRate\": 0.013, \"state\": \"New York\", \"sma7d\": 5.429}, {\"date\": \"2020-09-30T00:00:00\", \"totalTestResultsIncrease\": 97960.0, \"positiveIncrease\": 1000.0, \"death\": 25479.0, \"deathIncrease\": 9.0, \"positiveRate\": 0.01, \"state\": \"New York\", \"sma7d\": 6.0}, {\"date\": \"2020-10-01T00:00:00\", \"totalTestResultsIncrease\": 109218.0, \"positiveIncrease\": 1382.0, \"death\": 25490.0, \"deathIncrease\": 11.0, \"positiveRate\": 0.013, \"state\": \"New York\", \"sma7d\": 7.286}, {\"date\": \"2020-10-02T00:00:00\", \"totalTestResultsIncrease\": 119493.0, \"positiveIncrease\": 1598.0, \"death\": 25497.0, \"deathIncrease\": 7.0, \"positiveRate\": 0.013, \"state\": \"New York\", \"sma7d\": 7.286}, {\"date\": \"2020-10-03T00:00:00\", \"totalTestResultsIncrease\": 134267.0, \"positiveIncrease\": 1731.0, \"death\": 25505.0, \"deathIncrease\": 8.0, \"positiveRate\": 0.013, \"state\": \"New York\", \"sma7d\": 7.857}, {\"date\": \"2020-10-04T00:00:00\", \"totalTestResultsIncrease\": 110329.0, \"positiveIncrease\": 1222.0, \"death\": 25519.0, \"deathIncrease\": 14.0, \"positiveRate\": 0.011, \"state\": \"New York\", \"sma7d\": 9.0}, {\"date\": \"2020-10-05T00:00:00\", \"totalTestResultsIncrease\": 76404.0, \"positiveIncrease\": 933.0, \"death\": 25527.0, \"deathIncrease\": 8.0, \"positiveRate\": 0.012, \"state\": \"New York\", \"sma7d\": 8.429}, {\"date\": \"2020-10-06T00:00:00\", \"totalTestResultsIncrease\": 96359.0, \"positiveIncrease\": 1393.0, \"death\": 25536.0, \"deathIncrease\": 9.0, \"positiveRate\": 0.014, \"state\": \"New York\", \"sma7d\": 9.429}, {\"date\": \"2020-10-07T00:00:00\", \"totalTestResultsIncrease\": 108246.0, \"positiveIncrease\": 1360.0, \"death\": 25545.0, \"deathIncrease\": 9.0, \"positiveRate\": 0.013, \"state\": \"New York\", \"sma7d\": 9.429}, {\"date\": \"2020-10-08T00:00:00\", \"totalTestResultsIncrease\": 145811.0, \"positiveIncrease\": 1836.0, \"death\": 25555.0, \"deathIncrease\": 10.0, \"positiveRate\": 0.013, \"state\": \"New York\", \"sma7d\": 9.286}, {\"date\": \"2020-10-09T00:00:00\", \"totalTestResultsIncrease\": 139300.0, \"positiveIncrease\": 1592.0, \"death\": 25561.0, \"deathIncrease\": 6.0, \"positiveRate\": 0.011, \"state\": \"New York\", \"sma7d\": 9.143}, {\"date\": \"2020-10-10T00:00:00\", \"totalTestResultsIncrease\": 134579.0, \"positiveIncrease\": 1447.0, \"death\": 25569.0, \"deathIncrease\": 8.0, \"positiveRate\": 0.011, \"state\": \"New York\", \"sma7d\": 9.143}, {\"date\": \"2020-10-11T00:00:00\", \"totalTestResultsIncrease\": 118254.0, \"positiveIncrease\": 1143.0, \"death\": 25574.0, \"deathIncrease\": 5.0, \"positiveRate\": 0.01, \"state\": \"New York\", \"sma7d\": 7.857}, {\"date\": \"2020-10-12T00:00:00\", \"totalTestResultsIncrease\": 91793.0, \"positiveIncrease\": 1029.0, \"death\": 25587.0, \"deathIncrease\": 13.0, \"positiveRate\": 0.011, \"state\": \"New York\", \"sma7d\": 8.571}, {\"date\": \"2020-10-13T00:00:00\", \"totalTestResultsIncrease\": 99070.0, \"positiveIncrease\": 1393.0, \"death\": 25598.0, \"deathIncrease\": 11.0, \"positiveRate\": 0.014, \"state\": \"New York\", \"sma7d\": 8.857}, {\"date\": \"2020-10-14T00:00:00\", \"totalTestResultsIncrease\": 111744.0, \"positiveIncrease\": 1232.0, \"death\": 25605.0, \"deathIncrease\": 7.0, \"positiveRate\": 0.011, \"state\": \"New York\", \"sma7d\": 8.571}, {\"date\": \"2020-10-15T00:00:00\", \"totalTestResultsIncrease\": 133212.0, \"positiveIncrease\": 1460.0, \"death\": 25618.0, \"deathIncrease\": 13.0, \"positiveRate\": 0.011, \"state\": \"New York\", \"sma7d\": 9.0}, {\"date\": \"2020-10-16T00:00:00\", \"totalTestResultsIncrease\": 136039.0, \"positiveIncrease\": 1707.0, \"death\": 25628.0, \"deathIncrease\": 10.0, \"positiveRate\": 0.013, \"state\": \"New York\", \"sma7d\": 9.571}, {\"date\": \"2020-10-17T00:00:00\", \"totalTestResultsIncrease\": 159972.0, \"positiveIncrease\": 1784.0, \"death\": 25637.0, \"deathIncrease\": 9.0, \"positiveRate\": 0.011, \"state\": \"New York\", \"sma7d\": 9.714}, {\"date\": \"2020-10-18T00:00:00\", \"totalTestResultsIncrease\": 128763.0, \"positiveIncrease\": 1390.0, \"death\": 25644.0, \"deathIncrease\": 7.0, \"positiveRate\": 0.011, \"state\": \"New York\", \"sma7d\": 10.0}, {\"date\": \"2020-10-19T00:00:00\", \"totalTestResultsIncrease\": 82009.0, \"positiveIncrease\": 998.0, \"death\": 25659.0, \"deathIncrease\": 15.0, \"positiveRate\": 0.012, \"state\": \"New York\", \"sma7d\": 10.286}, {\"date\": \"2020-10-20T00:00:00\", \"totalTestResultsIncrease\": 90540.0, \"positiveIncrease\": 1201.0, \"death\": 25672.0, \"deathIncrease\": 13.0, \"positiveRate\": 0.013, \"state\": \"New York\", \"sma7d\": 10.571}, {\"date\": \"2020-10-21T00:00:00\", \"totalTestResultsIncrease\": 124789.0, \"positiveIncrease\": 2026.0, \"death\": 25679.0, \"deathIncrease\": 7.0, \"positiveRate\": 0.016, \"state\": \"New York\", \"sma7d\": 10.571}, {\"date\": \"2020-10-22T00:00:00\", \"totalTestResultsIncrease\": 135341.0, \"positiveIncrease\": 1628.0, \"death\": 25694.0, \"deathIncrease\": 15.0, \"positiveRate\": 0.012, \"state\": \"New York\", \"sma7d\": 10.857}, {\"date\": \"2020-10-23T00:00:00\", \"totalTestResultsIncrease\": 141508.0, \"positiveIncrease\": 1637.0, \"death\": 25705.0, \"deathIncrease\": 11.0, \"positiveRate\": 0.012, \"state\": \"New York\", \"sma7d\": 11.0}, {\"date\": \"2020-10-24T00:00:00\", \"totalTestResultsIncrease\": 156940.0, \"positiveIncrease\": 2061.0, \"death\": 25718.0, \"deathIncrease\": 13.0, \"positiveRate\": 0.013, \"state\": \"New York\", \"sma7d\": 11.571}, {\"date\": \"2020-10-25T00:00:00\", \"totalTestResultsIncrease\": 120830.0, \"positiveIncrease\": 1632.0, \"death\": 25730.0, \"deathIncrease\": 12.0, \"positiveRate\": 0.014, \"state\": \"New York\", \"sma7d\": 12.286}]}}, {\"mode\": \"vega-lite\"});\n",
       "</script>"
      ],
      "text/plain": [
       "alt.LayerChart(...)"
      ]
     },
     "execution_count": 13,
     "metadata": {},
     "output_type": "execute_result"
    }
   ],
   "source": [
    "create_plot(ny, 'deathIncrease')"
   ]
  },
  {
   "cell_type": "markdown",
   "metadata": {
    "papermill": {
     "duration": 0.015362,
     "end_time": "2020-10-25T22:36:26.327025",
     "exception": false,
     "start_time": "2020-10-25T22:36:26.311663",
     "status": "completed"
    },
    "tags": []
   },
   "source": [
    "## Non Tri-State"
   ]
  },
  {
   "cell_type": "code",
   "execution_count": 14,
   "metadata": {
    "execution": {
     "iopub.execute_input": "2020-10-25T22:36:26.360860Z",
     "iopub.status.busy": "2020-10-25T22:36:26.360347Z",
     "iopub.status.idle": "2020-10-25T22:36:26.637401Z",
     "shell.execute_reply": "2020-10-25T22:36:26.636524Z"
    },
    "papermill": {
     "duration": 0.295461,
     "end_time": "2020-10-25T22:36:26.637608",
     "exception": false,
     "start_time": "2020-10-25T22:36:26.342147",
     "status": "completed"
    },
    "tags": []
   },
   "outputs": [],
   "source": [
    "non_tristate = create_df(df, lambda d: ~d['state'].isin(['CT','NJ','NY']), 'Non Tri-State')"
   ]
  },
  {
   "cell_type": "code",
   "execution_count": 15,
   "metadata": {
    "execution": {
     "iopub.execute_input": "2020-10-25T22:36:26.701268Z",
     "iopub.status.busy": "2020-10-25T22:36:26.700681Z",
     "iopub.status.idle": "2020-10-25T22:36:26.764944Z",
     "shell.execute_reply": "2020-10-25T22:36:26.765345Z"
    },
    "papermill": {
     "duration": 0.111043,
     "end_time": "2020-10-25T22:36:26.765496",
     "exception": false,
     "start_time": "2020-10-25T22:36:26.654453",
     "status": "completed"
    },
    "tags": []
   },
   "outputs": [
    {
     "data": {
      "text/html": [
       "\n",
       "<div id=\"altair-viz-e4a965f3e39f45d78bb1c09197b5e5e7\"></div>\n",
       "<script type=\"text/javascript\">\n",
       "  (function(spec, embedOpt){\n",
       "    let outputDiv = document.currentScript.previousElementSibling;\n",
       "    if (outputDiv.id !== \"altair-viz-e4a965f3e39f45d78bb1c09197b5e5e7\") {\n",
       "      outputDiv = document.getElementById(\"altair-viz-e4a965f3e39f45d78bb1c09197b5e5e7\");\n",
       "    }\n",
       "    const paths = {\n",
       "      \"vega\": \"https://cdn.jsdelivr.net/npm//vega@5?noext\",\n",
       "      \"vega-lib\": \"https://cdn.jsdelivr.net/npm//vega-lib?noext\",\n",
       "      \"vega-lite\": \"https://cdn.jsdelivr.net/npm//vega-lite@4.8.1?noext\",\n",
       "      \"vega-embed\": \"https://cdn.jsdelivr.net/npm//vega-embed@6?noext\",\n",
       "    };\n",
       "\n",
       "    function loadScript(lib) {\n",
       "      return new Promise(function(resolve, reject) {\n",
       "        var s = document.createElement('script');\n",
       "        s.src = paths[lib];\n",
       "        s.async = true;\n",
       "        s.onload = () => resolve(paths[lib]);\n",
       "        s.onerror = () => reject(`Error loading script: ${paths[lib]}`);\n",
       "        document.getElementsByTagName(\"head\")[0].appendChild(s);\n",
       "      });\n",
       "    }\n",
       "\n",
       "    function showError(err) {\n",
       "      outputDiv.innerHTML = `<div class=\"error\" style=\"color:red;\">${err}</div>`;\n",
       "      throw err;\n",
       "    }\n",
       "\n",
       "    function displayChart(vegaEmbed) {\n",
       "      vegaEmbed(outputDiv, spec, embedOpt)\n",
       "        .catch(err => showError(`Javascript Error: ${err.message}<br>This usually means there's a typo in your chart specification. See the javascript console for the full traceback.`));\n",
       "    }\n",
       "\n",
       "    if(typeof define === \"function\" && define.amd) {\n",
       "      requirejs.config({paths});\n",
       "      require([\"vega-embed\"], displayChart, err => showError(`Error loading script: ${err.message}`));\n",
       "    } else if (typeof vegaEmbed === \"function\") {\n",
       "      displayChart(vegaEmbed);\n",
       "    } else {\n",
       "      loadScript(\"vega\")\n",
       "        .then(() => loadScript(\"vega-lite\"))\n",
       "        .then(() => loadScript(\"vega-embed\"))\n",
       "        .catch(showError)\n",
       "        .then(() => displayChart(vegaEmbed));\n",
       "    }\n",
       "  })({\"config\": {\"view\": {\"continuousWidth\": 400, \"continuousHeight\": 300}}, \"layer\": [{\"layer\": [{\"mark\": {\"type\": \"point\", \"size\": 75}, \"encoding\": {\"tooltip\": [{\"type\": \"temporal\", \"field\": \"date\"}, {\"type\": \"quantitative\", \"field\": \"positiveIncrease\"}, {\"type\": \"quantitative\", \"field\": \"sma7d\"}], \"x\": {\"type\": \"temporal\", \"field\": \"date\"}, \"y\": {\"type\": \"quantitative\", \"field\": \"positiveIncrease\"}}, \"selection\": {\"selector014\": {\"type\": \"interval\", \"bind\": \"scales\", \"encodings\": [\"x\", \"y\"]}}}, {\"mark\": {\"type\": \"line\", \"color\": \"purple\"}, \"encoding\": {\"x\": {\"type\": \"temporal\", \"field\": \"date\"}, \"y\": {\"type\": \"quantitative\", \"field\": \"sma7d\"}}}]}, {\"mark\": {\"type\": \"rule\", \"color\": \"#aaa\"}, \"encoding\": {\"x\": {\"type\": \"temporal\", \"field\": \"date\"}}, \"transform\": [{\"filter\": {\"selection\": \"selector013\"}}]}, {\"mark\": \"circle\", \"encoding\": {\"opacity\": {\"condition\": {\"value\": 1, \"selection\": \"selector013\"}, \"value\": 0}, \"tooltip\": [{\"type\": \"temporal\", \"field\": \"date\"}, {\"type\": \"quantitative\", \"field\": \"positiveIncrease\"}, {\"type\": \"quantitative\", \"field\": \"sma7d\"}], \"x\": {\"type\": \"temporal\", \"field\": \"date\"}, \"y\": {\"type\": \"quantitative\", \"field\": \"positiveIncrease\"}}, \"selection\": {\"selector013\": {\"type\": \"single\", \"encodings\": [\"x\"], \"on\": \"mouseover\", \"nearest\": true, \"empty\": \"none\"}}}, {\"mark\": {\"type\": \"text\", \"align\": \"left\", \"dx\": 5, \"dy\": -5, \"stroke\": \"white\", \"strokeWidth\": 2}, \"encoding\": {\"text\": {\"type\": \"quantitative\", \"field\": \"positiveIncrease\"}, \"tooltip\": [{\"type\": \"temporal\", \"field\": \"date\"}, {\"type\": \"quantitative\", \"field\": \"positiveIncrease\"}, {\"type\": \"quantitative\", \"field\": \"sma7d\"}], \"x\": {\"type\": \"temporal\", \"field\": \"date\"}, \"y\": {\"type\": \"quantitative\", \"field\": \"positiveIncrease\"}}, \"transform\": [{\"filter\": {\"selection\": \"selector013\"}}]}, {\"mark\": {\"type\": \"text\", \"align\": \"left\", \"dx\": 5, \"dy\": -5}, \"encoding\": {\"text\": {\"type\": \"quantitative\", \"field\": \"positiveIncrease\"}, \"tooltip\": [{\"type\": \"temporal\", \"field\": \"date\"}, {\"type\": \"quantitative\", \"field\": \"positiveIncrease\"}, {\"type\": \"quantitative\", \"field\": \"sma7d\"}], \"x\": {\"type\": \"temporal\", \"field\": \"date\"}, \"y\": {\"type\": \"quantitative\", \"field\": \"positiveIncrease\"}}, \"transform\": [{\"filter\": {\"selection\": \"selector013\"}}]}], \"data\": {\"name\": \"data-f9f675d8e3d932913edbd4ddfdd0185d\"}, \"height\": 400, \"title\": \"Non Tri-State: positiveIncrease\", \"width\": 500, \"$schema\": \"https://vega.github.io/schema/vega-lite/v4.8.1.json\", \"datasets\": {\"data-f9f675d8e3d932913edbd4ddfdd0185d\": [{\"date\": \"2020-08-31T00:00:00\", \"totalTestResultsIncrease\": 576332.0, \"positiveIncrease\": 30017.0, \"death\": 129872.0, \"deathIncrease\": 357.0, \"positiveRate\": 0.052, \"state\": \"Non Tri-State\", \"sma7d\": 39807.429}, {\"date\": \"2020-09-01T00:00:00\", \"totalTestResultsIncrease\": 658523.0, \"positiveIncrease\": 41222.0, \"death\": 130890.0, \"deathIncrease\": 1018.0, \"positiveRate\": 0.063, \"state\": \"Non Tri-State\", \"sma7d\": 40636.429}, {\"date\": \"2020-09-02T00:00:00\", \"totalTestResultsIncrease\": 560703.0, \"positiveIncrease\": 29488.0, \"death\": 131905.0, \"deathIncrease\": 1015.0, \"positiveRate\": 0.053, \"state\": \"Non Tri-State\", \"sma7d\": 38703.0}, {\"date\": \"2020-09-03T00:00:00\", \"totalTestResultsIncrease\": 698060.0, \"positiveIncrease\": 43346.0, \"death\": 132960.0, \"deathIncrease\": 1055.0, \"positiveRate\": 0.062, \"state\": \"Non Tri-State\", \"sma7d\": 38787.286}, {\"date\": \"2020-09-04T00:00:00\", \"totalTestResultsIncrease\": 831732.0, \"positiveIncrease\": 50122.0, \"death\": 133946.0, \"deathIncrease\": 986.0, \"positiveRate\": 0.06, \"state\": \"Non Tri-State\", \"sma7d\": 39460.571}, {\"date\": \"2020-09-05T00:00:00\", \"totalTestResultsIncrease\": 808084.0, \"positiveIncrease\": 43779.0, \"death\": 134855.0, \"deathIncrease\": 909.0, \"positiveRate\": 0.054, \"state\": \"Non Tri-State\", \"sma7d\": 39498.0}, {\"date\": \"2020-09-06T00:00:00\", \"totalTestResultsIncrease\": 666920.0, \"positiveIncrease\": 32077.0, \"death\": 135291.0, \"deathIncrease\": 436.0, \"positiveRate\": 0.048, \"state\": \"Non Tri-State\", \"sma7d\": 38578.714}, {\"date\": \"2020-09-07T00:00:00\", \"totalTestResultsIncrease\": 514970.0, \"positiveIncrease\": 27830.0, \"death\": 135512.0, \"deathIncrease\": 221.0, \"positiveRate\": 0.054, \"state\": \"Non Tri-State\", \"sma7d\": 38266.286}, {\"date\": \"2020-09-08T00:00:00\", \"totalTestResultsIncrease\": 428846.0, \"positiveIncrease\": 20972.0, \"death\": 135853.0, \"deathIncrease\": 341.0, \"positiveRate\": 0.049, \"state\": \"Non Tri-State\", \"sma7d\": 35373.429}, {\"date\": \"2020-09-09T00:00:00\", \"totalTestResultsIncrease\": 569488.0, \"positiveIncrease\": 30126.0, \"death\": 136926.0, \"deathIncrease\": 1073.0, \"positiveRate\": 0.053, \"state\": \"Non Tri-State\", \"sma7d\": 35464.571}, {\"date\": \"2020-09-10T00:00:00\", \"totalTestResultsIncrease\": 614505.0, \"positiveIncrease\": 36178.0, \"death\": 138080.0, \"deathIncrease\": 1154.0, \"positiveRate\": 0.059, \"state\": \"Non Tri-State\", \"sma7d\": 34440.571}, {\"date\": \"2020-09-11T00:00:00\", \"totalTestResultsIncrease\": 718630.0, \"positiveIncrease\": 43340.0, \"death\": 139082.0, \"deathIncrease\": 1002.0, \"positiveRate\": 0.06, \"state\": \"Non Tri-State\", \"sma7d\": 33471.714}, {\"date\": \"2020-09-12T00:00:00\", \"totalTestResultsIncrease\": 826922.0, \"positiveIncrease\": 40792.0, \"death\": 139886.0, \"deathIncrease\": 804.0, \"positiveRate\": 0.049, \"state\": \"Non Tri-State\", \"sma7d\": 33045.0}, {\"date\": \"2020-09-13T00:00:00\", \"totalTestResultsIncrease\": 620662.0, \"positiveIncrease\": 33431.0, \"death\": 140265.0, \"deathIncrease\": 379.0, \"positiveRate\": 0.054, \"state\": \"Non Tri-State\", \"sma7d\": 33238.429}, {\"date\": \"2020-09-14T00:00:00\", \"totalTestResultsIncrease\": 323781.0, \"positiveIncrease\": 32378.0, \"death\": 140656.0, \"deathIncrease\": 391.0, \"positiveRate\": 0.1, \"state\": \"Non Tri-State\", \"sma7d\": 33888.143}, {\"date\": \"2020-09-15T00:00:00\", \"totalTestResultsIncrease\": 653639.0, \"positiveIncrease\": 34107.0, \"death\": 141667.0, \"deathIncrease\": 1011.0, \"positiveRate\": 0.052, \"state\": \"Non Tri-State\", \"sma7d\": 35764.571}, {\"date\": \"2020-09-16T00:00:00\", \"totalTestResultsIncrease\": 669137.0, \"positiveIncrease\": 38846.0, \"death\": 142851.0, \"deathIncrease\": 1184.0, \"positiveRate\": 0.058, \"state\": \"Non Tri-State\", \"sma7d\": 37010.286}, {\"date\": \"2020-09-17T00:00:00\", \"totalTestResultsIncrease\": 749583.0, \"positiveIncrease\": 41873.0, \"death\": 143707.0, \"deathIncrease\": 856.0, \"positiveRate\": 0.056, \"state\": \"Non Tri-State\", \"sma7d\": 37823.857}, {\"date\": \"2020-09-18T00:00:00\", \"totalTestResultsIncrease\": 889346.0, \"positiveIncrease\": 46068.0, \"death\": 144590.0, \"deathIncrease\": 883.0, \"positiveRate\": 0.052, \"state\": \"Non Tri-State\", \"sma7d\": 38213.571}, {\"date\": \"2020-09-19T00:00:00\", \"totalTestResultsIncrease\": 989929.0, \"positiveIncrease\": 44117.0, \"death\": 145325.0, \"deathIncrease\": 735.0, \"positiveRate\": 0.045, \"state\": \"Non Tri-State\", \"sma7d\": 38688.571}, {\"date\": \"2020-09-20T00:00:00\", \"totalTestResultsIncrease\": 772122.0, \"positiveIncrease\": 34980.0, \"death\": 145647.0, \"deathIncrease\": 322.0, \"positiveRate\": 0.045, \"state\": \"Non Tri-State\", \"sma7d\": 38909.857}, {\"date\": \"2020-09-21T00:00:00\", \"totalTestResultsIncrease\": 631770.0, \"positiveIncrease\": 38010.0, \"death\": 145928.0, \"deathIncrease\": 281.0, \"positiveRate\": 0.06, \"state\": \"Non Tri-State\", \"sma7d\": 39714.429}, {\"date\": \"2020-09-22T00:00:00\", \"totalTestResultsIncrease\": 672001.0, \"positiveIncrease\": 48123.0, \"death\": 146770.0, \"deathIncrease\": 842.0, \"positiveRate\": 0.072, \"state\": \"Non Tri-State\", \"sma7d\": 41716.714}, {\"date\": \"2020-09-23T00:00:00\", \"totalTestResultsIncrease\": 856634.0, \"positiveIncrease\": 37339.0, \"death\": 147915.0, \"deathIncrease\": 1145.0, \"positiveRate\": 0.044, \"state\": \"Non Tri-State\", \"sma7d\": 41501.429}, {\"date\": \"2020-09-24T00:00:00\", \"totalTestResultsIncrease\": 837195.0, \"positiveIncrease\": 42096.0, \"death\": 148823.0, \"deathIncrease\": 908.0, \"positiveRate\": 0.05, \"state\": \"Non Tri-State\", \"sma7d\": 41533.286}, {\"date\": \"2020-09-25T00:00:00\", \"totalTestResultsIncrease\": 918854.0, \"positiveIncrease\": 53955.0, \"death\": 149652.0, \"deathIncrease\": 829.0, \"positiveRate\": 0.059, \"state\": \"Non Tri-State\", \"sma7d\": 42660.0}, {\"date\": \"2020-09-26T00:00:00\", \"totalTestResultsIncrease\": 922828.0, \"positiveIncrease\": 46101.0, \"death\": 150511.0, \"deathIncrease\": 859.0, \"positiveRate\": 0.05, \"state\": \"Non Tri-State\", \"sma7d\": 42943.429}, {\"date\": \"2020-09-27T00:00:00\", \"totalTestResultsIncrease\": 764248.0, \"positiveIncrease\": 33890.0, \"death\": 150806.0, \"deathIncrease\": 295.0, \"positiveRate\": 0.044, \"state\": \"Non Tri-State\", \"sma7d\": 42787.714}, {\"date\": \"2020-09-28T00:00:00\", \"totalTestResultsIncrease\": 970284.0, \"positiveIncrease\": 34571.0, \"death\": 151051.0, \"deathIncrease\": 245.0, \"positiveRate\": 0.036, \"state\": \"Non Tri-State\", \"sma7d\": 42296.429}, {\"date\": \"2020-09-29T00:00:00\", \"totalTestResultsIncrease\": 759126.0, \"positiveIncrease\": 35120.0, \"death\": 151776.0, \"deathIncrease\": 725.0, \"positiveRate\": 0.046, \"state\": \"Non Tri-State\", \"sma7d\": 40438.857}, {\"date\": \"2020-09-30T00:00:00\", \"totalTestResultsIncrease\": 690162.0, \"positiveIncrease\": 42491.0, \"death\": 152816.0, \"deathIncrease\": 1040.0, \"positiveRate\": 0.062, \"state\": \"Non Tri-State\", \"sma7d\": 41174.857}, {\"date\": \"2020-10-01T00:00:00\", \"totalTestResultsIncrease\": 811973.0, \"positiveIncrease\": 43506.0, \"death\": 153648.0, \"deathIncrease\": 832.0, \"positiveRate\": 0.054, \"state\": \"Non Tri-State\", \"sma7d\": 41376.286}, {\"date\": \"2020-10-02T00:00:00\", \"totalTestResultsIncrease\": 913842.0, \"positiveIncrease\": 46641.0, \"death\": 154470.0, \"deathIncrease\": 822.0, \"positiveRate\": 0.051, \"state\": \"Non Tri-State\", \"sma7d\": 40331.429}, {\"date\": \"2020-10-03T00:00:00\", \"totalTestResultsIncrease\": 898583.0, \"positiveIncrease\": 48694.0, \"death\": 155199.0, \"deathIncrease\": 729.0, \"positiveRate\": 0.054, \"state\": \"Non Tri-State\", \"sma7d\": 40701.857}, {\"date\": \"2020-10-04T00:00:00\", \"totalTestResultsIncrease\": 802470.0, \"positiveIncrease\": 36591.0, \"death\": 155547.0, \"deathIncrease\": 348.0, \"positiveRate\": 0.046, \"state\": \"Non Tri-State\", \"sma7d\": 41087.714}, {\"date\": \"2020-10-05T00:00:00\", \"totalTestResultsIncrease\": 796630.0, \"positiveIncrease\": 35866.0, \"death\": 155859.0, \"deathIncrease\": 312.0, \"positiveRate\": 0.045, \"state\": \"Non Tri-State\", \"sma7d\": 41272.714}, {\"date\": \"2020-10-06T00:00:00\", \"totalTestResultsIncrease\": 745120.0, \"positiveIncrease\": 36518.0, \"death\": 156471.0, \"deathIncrease\": 612.0, \"positiveRate\": 0.049, \"state\": \"Non Tri-State\", \"sma7d\": 41472.429}, {\"date\": \"2020-10-07T00:00:00\", \"totalTestResultsIncrease\": 761910.0, \"positiveIncrease\": 48611.0, \"death\": 157372.0, \"deathIncrease\": 901.0, \"positiveRate\": 0.064, \"state\": \"Non Tri-State\", \"sma7d\": 42346.714}, {\"date\": \"2020-10-08T00:00:00\", \"totalTestResultsIncrease\": 842210.0, \"positiveIncrease\": 51834.0, \"death\": 158335.0, \"deathIncrease\": 963.0, \"positiveRate\": 0.062, \"state\": \"Non Tri-State\", \"sma7d\": 43536.429}, {\"date\": \"2020-10-09T00:00:00\", \"totalTestResultsIncrease\": 933985.0, \"positiveIncrease\": 54313.0, \"death\": 159215.0, \"deathIncrease\": 880.0, \"positiveRate\": 0.058, \"state\": \"Non Tri-State\", \"sma7d\": 44632.429}, {\"date\": \"2020-10-10T00:00:00\", \"totalTestResultsIncrease\": 1016290.0, \"positiveIncrease\": 55181.0, \"death\": 159865.0, \"deathIncrease\": 650.0, \"positiveRate\": 0.054, \"state\": \"Non Tri-State\", \"sma7d\": 45559.143}, {\"date\": \"2020-10-11T00:00:00\", \"totalTestResultsIncrease\": 853003.0, \"positiveIncrease\": 45052.0, \"death\": 160323.0, \"deathIncrease\": 458.0, \"positiveRate\": 0.053, \"state\": \"Non Tri-State\", \"sma7d\": 46767.857}, {\"date\": \"2020-10-12T00:00:00\", \"totalTestResultsIncrease\": 767940.0, \"positiveIncrease\": 40287.0, \"death\": 160594.0, \"deathIncrease\": 271.0, \"positiveRate\": 0.052, \"state\": \"Non Tri-State\", \"sma7d\": 47399.429}, {\"date\": \"2020-10-13T00:00:00\", \"totalTestResultsIncrease\": 872582.0, \"positiveIncrease\": 45686.0, \"death\": 161265.0, \"deathIncrease\": 671.0, \"positiveRate\": 0.052, \"state\": \"Non Tri-State\", \"sma7d\": 48709.143}, {\"date\": \"2020-10-14T00:00:00\", \"totalTestResultsIncrease\": 796659.0, \"positiveIncrease\": 54463.0, \"death\": 162056.0, \"deathIncrease\": 791.0, \"positiveRate\": 0.068, \"state\": \"Non Tri-State\", \"sma7d\": 49545.143}, {\"date\": \"2020-10-15T00:00:00\", \"totalTestResultsIncrease\": 836587.0, \"positiveIncrease\": 60574.0, \"death\": 162985.0, \"deathIncrease\": 929.0, \"positiveRate\": 0.072, \"state\": \"Non Tri-State\", \"sma7d\": 50793.714}, {\"date\": \"2020-10-16T00:00:00\", \"totalTestResultsIncrease\": 943016.0, \"positiveIncrease\": 64805.0, \"death\": 163845.0, \"deathIncrease\": 860.0, \"positiveRate\": 0.069, \"state\": \"Non Tri-State\", \"sma7d\": 52292.571}, {\"date\": \"2020-10-17T00:00:00\", \"totalTestResultsIncrease\": 1001177.0, \"positiveIncrease\": 55225.0, \"death\": 164614.0, \"deathIncrease\": 769.0, \"positiveRate\": 0.055, \"state\": \"Non Tri-State\", \"sma7d\": 52298.857}, {\"date\": \"2020-10-18T00:00:00\", \"totalTestResultsIncrease\": 850596.0, \"positiveIncrease\": 46257.0, \"death\": 164993.0, \"deathIncrease\": 379.0, \"positiveRate\": 0.054, \"state\": \"Non Tri-State\", \"sma7d\": 52471.0}, {\"date\": \"2020-10-19T00:00:00\", \"totalTestResultsIncrease\": 970361.0, \"positiveIncrease\": 53767.0, \"death\": 165419.0, \"deathIncrease\": 426.0, \"positiveRate\": 0.055, \"state\": \"Non Tri-State\", \"sma7d\": 54396.714}, {\"date\": \"2020-10-20T00:00:00\", \"totalTestResultsIncrease\": 786586.0, \"positiveIncrease\": 58041.0, \"death\": 166220.0, \"deathIncrease\": 801.0, \"positiveRate\": 0.074, \"state\": \"Non Tri-State\", \"sma7d\": 56161.714}, {\"date\": \"2020-10-21T00:00:00\", \"totalTestResultsIncrease\": 711366.0, \"positiveIncrease\": 55134.0, \"death\": 167211.0, \"deathIncrease\": 991.0, \"positiveRate\": 0.078, \"state\": \"Non Tri-State\", \"sma7d\": 56257.571}, {\"date\": \"2020-10-22T00:00:00\", \"totalTestResultsIncrease\": 937973.0, \"positiveIncrease\": 71956.0, \"death\": 168319.0, \"deathIncrease\": 1108.0, \"positiveRate\": 0.077, \"state\": \"Non Tri-State\", \"sma7d\": 57883.571}, {\"date\": \"2020-10-23T00:00:00\", \"totalTestResultsIncrease\": 1074771.0, \"positiveIncrease\": 79649.0, \"death\": 169206.0, \"deathIncrease\": 887.0, \"positiveRate\": 0.074, \"state\": \"Non Tri-State\", \"sma7d\": 60004.143}, {\"date\": \"2020-10-24T00:00:00\", \"totalTestResultsIncrease\": 1051648.0, \"positiveIncrease\": 78698.0, \"death\": 170070.0, \"deathIncrease\": 864.0, \"positiveRate\": 0.075, \"state\": \"Non Tri-State\", \"sma7d\": 63357.429}, {\"date\": \"2020-10-25T00:00:00\", \"totalTestResultsIncrease\": 946331.0, \"positiveIncrease\": 62652.0, \"death\": 170431.0, \"deathIncrease\": 361.0, \"positiveRate\": 0.066, \"state\": \"Non Tri-State\", \"sma7d\": 65699.571}]}}, {\"mode\": \"vega-lite\"});\n",
       "</script>"
      ],
      "text/plain": [
       "alt.LayerChart(...)"
      ]
     },
     "execution_count": 15,
     "metadata": {},
     "output_type": "execute_result"
    }
   ],
   "source": [
    "create_plot(non_tristate, 'positiveIncrease')"
   ]
  },
  {
   "cell_type": "code",
   "execution_count": 16,
   "metadata": {
    "execution": {
     "iopub.execute_input": "2020-10-25T22:36:26.805218Z",
     "iopub.status.busy": "2020-10-25T22:36:26.804714Z",
     "iopub.status.idle": "2020-10-25T22:36:26.894033Z",
     "shell.execute_reply": "2020-10-25T22:36:26.894426Z"
    },
    "papermill": {
     "duration": 0.11197,
     "end_time": "2020-10-25T22:36:26.894558",
     "exception": false,
     "start_time": "2020-10-25T22:36:26.782588",
     "status": "completed"
    },
    "tags": []
   },
   "outputs": [
    {
     "data": {
      "text/html": [
       "\n",
       "<div id=\"altair-viz-6867240c87ab446391095f1d14e156cd\"></div>\n",
       "<script type=\"text/javascript\">\n",
       "  (function(spec, embedOpt){\n",
       "    let outputDiv = document.currentScript.previousElementSibling;\n",
       "    if (outputDiv.id !== \"altair-viz-6867240c87ab446391095f1d14e156cd\") {\n",
       "      outputDiv = document.getElementById(\"altair-viz-6867240c87ab446391095f1d14e156cd\");\n",
       "    }\n",
       "    const paths = {\n",
       "      \"vega\": \"https://cdn.jsdelivr.net/npm//vega@5?noext\",\n",
       "      \"vega-lib\": \"https://cdn.jsdelivr.net/npm//vega-lib?noext\",\n",
       "      \"vega-lite\": \"https://cdn.jsdelivr.net/npm//vega-lite@4.8.1?noext\",\n",
       "      \"vega-embed\": \"https://cdn.jsdelivr.net/npm//vega-embed@6?noext\",\n",
       "    };\n",
       "\n",
       "    function loadScript(lib) {\n",
       "      return new Promise(function(resolve, reject) {\n",
       "        var s = document.createElement('script');\n",
       "        s.src = paths[lib];\n",
       "        s.async = true;\n",
       "        s.onload = () => resolve(paths[lib]);\n",
       "        s.onerror = () => reject(`Error loading script: ${paths[lib]}`);\n",
       "        document.getElementsByTagName(\"head\")[0].appendChild(s);\n",
       "      });\n",
       "    }\n",
       "\n",
       "    function showError(err) {\n",
       "      outputDiv.innerHTML = `<div class=\"error\" style=\"color:red;\">${err}</div>`;\n",
       "      throw err;\n",
       "    }\n",
       "\n",
       "    function displayChart(vegaEmbed) {\n",
       "      vegaEmbed(outputDiv, spec, embedOpt)\n",
       "        .catch(err => showError(`Javascript Error: ${err.message}<br>This usually means there's a typo in your chart specification. See the javascript console for the full traceback.`));\n",
       "    }\n",
       "\n",
       "    if(typeof define === \"function\" && define.amd) {\n",
       "      requirejs.config({paths});\n",
       "      require([\"vega-embed\"], displayChart, err => showError(`Error loading script: ${err.message}`));\n",
       "    } else if (typeof vegaEmbed === \"function\") {\n",
       "      displayChart(vegaEmbed);\n",
       "    } else {\n",
       "      loadScript(\"vega\")\n",
       "        .then(() => loadScript(\"vega-lite\"))\n",
       "        .then(() => loadScript(\"vega-embed\"))\n",
       "        .catch(showError)\n",
       "        .then(() => displayChart(vegaEmbed));\n",
       "    }\n",
       "  })({\"config\": {\"view\": {\"continuousWidth\": 400, \"continuousHeight\": 300}}, \"layer\": [{\"layer\": [{\"mark\": {\"type\": \"point\", \"size\": 75}, \"encoding\": {\"tooltip\": [{\"type\": \"temporal\", \"field\": \"date\"}, {\"type\": \"quantitative\", \"field\": \"positiveRate\"}, {\"type\": \"quantitative\", \"field\": \"sma7d\"}], \"x\": {\"type\": \"temporal\", \"field\": \"date\"}, \"y\": {\"type\": \"quantitative\", \"field\": \"positiveRate\"}}, \"selection\": {\"selector016\": {\"type\": \"interval\", \"bind\": \"scales\", \"encodings\": [\"x\", \"y\"]}}}, {\"mark\": {\"type\": \"line\", \"color\": \"purple\"}, \"encoding\": {\"x\": {\"type\": \"temporal\", \"field\": \"date\"}, \"y\": {\"type\": \"quantitative\", \"field\": \"sma7d\"}}}]}, {\"mark\": {\"type\": \"rule\", \"color\": \"#aaa\"}, \"encoding\": {\"x\": {\"type\": \"temporal\", \"field\": \"date\"}}, \"transform\": [{\"filter\": {\"selection\": \"selector015\"}}]}, {\"mark\": \"circle\", \"encoding\": {\"opacity\": {\"condition\": {\"value\": 1, \"selection\": \"selector015\"}, \"value\": 0}, \"tooltip\": [{\"type\": \"temporal\", \"field\": \"date\"}, {\"type\": \"quantitative\", \"field\": \"positiveRate\"}, {\"type\": \"quantitative\", \"field\": \"sma7d\"}], \"x\": {\"type\": \"temporal\", \"field\": \"date\"}, \"y\": {\"type\": \"quantitative\", \"field\": \"positiveRate\"}}, \"selection\": {\"selector015\": {\"type\": \"single\", \"encodings\": [\"x\"], \"on\": \"mouseover\", \"nearest\": true, \"empty\": \"none\"}}}, {\"mark\": {\"type\": \"text\", \"align\": \"left\", \"dx\": 5, \"dy\": -5, \"stroke\": \"white\", \"strokeWidth\": 2}, \"encoding\": {\"text\": {\"type\": \"quantitative\", \"field\": \"positiveRate\"}, \"tooltip\": [{\"type\": \"temporal\", \"field\": \"date\"}, {\"type\": \"quantitative\", \"field\": \"positiveRate\"}, {\"type\": \"quantitative\", \"field\": \"sma7d\"}], \"x\": {\"type\": \"temporal\", \"field\": \"date\"}, \"y\": {\"type\": \"quantitative\", \"field\": \"positiveRate\"}}, \"transform\": [{\"filter\": {\"selection\": \"selector015\"}}]}, {\"mark\": {\"type\": \"text\", \"align\": \"left\", \"dx\": 5, \"dy\": -5}, \"encoding\": {\"text\": {\"type\": \"quantitative\", \"field\": \"positiveRate\"}, \"tooltip\": [{\"type\": \"temporal\", \"field\": \"date\"}, {\"type\": \"quantitative\", \"field\": \"positiveRate\"}, {\"type\": \"quantitative\", \"field\": \"sma7d\"}], \"x\": {\"type\": \"temporal\", \"field\": \"date\"}, \"y\": {\"type\": \"quantitative\", \"field\": \"positiveRate\"}}, \"transform\": [{\"filter\": {\"selection\": \"selector015\"}}]}], \"data\": {\"name\": \"data-063ffdb75c7ba95ac5a755b8ec076e5c\"}, \"height\": 400, \"title\": \"Non Tri-State: positiveRate\", \"width\": 500, \"$schema\": \"https://vega.github.io/schema/vega-lite/v4.8.1.json\", \"datasets\": {\"data-063ffdb75c7ba95ac5a755b8ec076e5c\": [{\"date\": \"2020-08-31T00:00:00\", \"totalTestResultsIncrease\": 576332.0, \"positiveIncrease\": 30017.0, \"death\": 129872.0, \"deathIncrease\": 357.0, \"positiveRate\": 0.052, \"state\": \"Non Tri-State\", \"sma7d\": 0.062}, {\"date\": \"2020-09-01T00:00:00\", \"totalTestResultsIncrease\": 658523.0, \"positiveIncrease\": 41222.0, \"death\": 130890.0, \"deathIncrease\": 1018.0, \"positiveRate\": 0.063, \"state\": \"Non Tri-State\", \"sma7d\": 0.062}, {\"date\": \"2020-09-02T00:00:00\", \"totalTestResultsIncrease\": 560703.0, \"positiveIncrease\": 29488.0, \"death\": 131905.0, \"deathIncrease\": 1015.0, \"positiveRate\": 0.053, \"state\": \"Non Tri-State\", \"sma7d\": 0.059}, {\"date\": \"2020-09-03T00:00:00\", \"totalTestResultsIncrease\": 698060.0, \"positiveIncrease\": 43346.0, \"death\": 132960.0, \"deathIncrease\": 1055.0, \"positiveRate\": 0.062, \"state\": \"Non Tri-State\", \"sma7d\": 0.059}, {\"date\": \"2020-09-04T00:00:00\", \"totalTestResultsIncrease\": 831732.0, \"positiveIncrease\": 50122.0, \"death\": 133946.0, \"deathIncrease\": 986.0, \"positiveRate\": 0.06, \"state\": \"Non Tri-State\", \"sma7d\": 0.059}, {\"date\": \"2020-09-05T00:00:00\", \"totalTestResultsIncrease\": 808084.0, \"positiveIncrease\": 43779.0, \"death\": 134855.0, \"deathIncrease\": 909.0, \"positiveRate\": 0.054, \"state\": \"Non Tri-State\", \"sma7d\": 0.058}, {\"date\": \"2020-09-06T00:00:00\", \"totalTestResultsIncrease\": 666920.0, \"positiveIncrease\": 32077.0, \"death\": 135291.0, \"deathIncrease\": 436.0, \"positiveRate\": 0.048, \"state\": \"Non Tri-State\", \"sma7d\": 0.056}, {\"date\": \"2020-09-07T00:00:00\", \"totalTestResultsIncrease\": 514970.0, \"positiveIncrease\": 27830.0, \"death\": 135512.0, \"deathIncrease\": 221.0, \"positiveRate\": 0.054, \"state\": \"Non Tri-State\", \"sma7d\": 0.056}, {\"date\": \"2020-09-08T00:00:00\", \"totalTestResultsIncrease\": 428846.0, \"positiveIncrease\": 20972.0, \"death\": 135853.0, \"deathIncrease\": 341.0, \"positiveRate\": 0.049, \"state\": \"Non Tri-State\", \"sma7d\": 0.054}, {\"date\": \"2020-09-09T00:00:00\", \"totalTestResultsIncrease\": 569488.0, \"positiveIncrease\": 30126.0, \"death\": 136926.0, \"deathIncrease\": 1073.0, \"positiveRate\": 0.053, \"state\": \"Non Tri-State\", \"sma7d\": 0.054}, {\"date\": \"2020-09-10T00:00:00\", \"totalTestResultsIncrease\": 614505.0, \"positiveIncrease\": 36178.0, \"death\": 138080.0, \"deathIncrease\": 1154.0, \"positiveRate\": 0.059, \"state\": \"Non Tri-State\", \"sma7d\": 0.054}, {\"date\": \"2020-09-11T00:00:00\", \"totalTestResultsIncrease\": 718630.0, \"positiveIncrease\": 43340.0, \"death\": 139082.0, \"deathIncrease\": 1002.0, \"positiveRate\": 0.06, \"state\": \"Non Tri-State\", \"sma7d\": 0.054}, {\"date\": \"2020-09-12T00:00:00\", \"totalTestResultsIncrease\": 826922.0, \"positiveIncrease\": 40792.0, \"death\": 139886.0, \"deathIncrease\": 804.0, \"positiveRate\": 0.049, \"state\": \"Non Tri-State\", \"sma7d\": 0.053}, {\"date\": \"2020-09-13T00:00:00\", \"totalTestResultsIncrease\": 620662.0, \"positiveIncrease\": 33431.0, \"death\": 140265.0, \"deathIncrease\": 379.0, \"positiveRate\": 0.054, \"state\": \"Non Tri-State\", \"sma7d\": 0.054}, {\"date\": \"2020-09-14T00:00:00\", \"totalTestResultsIncrease\": 323781.0, \"positiveIncrease\": 32378.0, \"death\": 140656.0, \"deathIncrease\": 391.0, \"positiveRate\": 0.1, \"state\": \"Non Tri-State\", \"sma7d\": 0.061}, {\"date\": \"2020-09-15T00:00:00\", \"totalTestResultsIncrease\": 653639.0, \"positiveIncrease\": 34107.0, \"death\": 141667.0, \"deathIncrease\": 1011.0, \"positiveRate\": 0.052, \"state\": \"Non Tri-State\", \"sma7d\": 0.061}, {\"date\": \"2020-09-16T00:00:00\", \"totalTestResultsIncrease\": 669137.0, \"positiveIncrease\": 38846.0, \"death\": 142851.0, \"deathIncrease\": 1184.0, \"positiveRate\": 0.058, \"state\": \"Non Tri-State\", \"sma7d\": 0.062}, {\"date\": \"2020-09-17T00:00:00\", \"totalTestResultsIncrease\": 749583.0, \"positiveIncrease\": 41873.0, \"death\": 143707.0, \"deathIncrease\": 856.0, \"positiveRate\": 0.056, \"state\": \"Non Tri-State\", \"sma7d\": 0.061}, {\"date\": \"2020-09-18T00:00:00\", \"totalTestResultsIncrease\": 889346.0, \"positiveIncrease\": 46068.0, \"death\": 144590.0, \"deathIncrease\": 883.0, \"positiveRate\": 0.052, \"state\": \"Non Tri-State\", \"sma7d\": 0.06}, {\"date\": \"2020-09-19T00:00:00\", \"totalTestResultsIncrease\": 989929.0, \"positiveIncrease\": 44117.0, \"death\": 145325.0, \"deathIncrease\": 735.0, \"positiveRate\": 0.045, \"state\": \"Non Tri-State\", \"sma7d\": 0.06}, {\"date\": \"2020-09-20T00:00:00\", \"totalTestResultsIncrease\": 772122.0, \"positiveIncrease\": 34980.0, \"death\": 145647.0, \"deathIncrease\": 322.0, \"positiveRate\": 0.045, \"state\": \"Non Tri-State\", \"sma7d\": 0.058}, {\"date\": \"2020-09-21T00:00:00\", \"totalTestResultsIncrease\": 631770.0, \"positiveIncrease\": 38010.0, \"death\": 145928.0, \"deathIncrease\": 281.0, \"positiveRate\": 0.06, \"state\": \"Non Tri-State\", \"sma7d\": 0.053}, {\"date\": \"2020-09-22T00:00:00\", \"totalTestResultsIncrease\": 672001.0, \"positiveIncrease\": 48123.0, \"death\": 146770.0, \"deathIncrease\": 842.0, \"positiveRate\": 0.072, \"state\": \"Non Tri-State\", \"sma7d\": 0.055}, {\"date\": \"2020-09-23T00:00:00\", \"totalTestResultsIncrease\": 856634.0, \"positiveIncrease\": 37339.0, \"death\": 147915.0, \"deathIncrease\": 1145.0, \"positiveRate\": 0.044, \"state\": \"Non Tri-State\", \"sma7d\": 0.053}, {\"date\": \"2020-09-24T00:00:00\", \"totalTestResultsIncrease\": 837195.0, \"positiveIncrease\": 42096.0, \"death\": 148823.0, \"deathIncrease\": 908.0, \"positiveRate\": 0.05, \"state\": \"Non Tri-State\", \"sma7d\": 0.053}, {\"date\": \"2020-09-25T00:00:00\", \"totalTestResultsIncrease\": 918854.0, \"positiveIncrease\": 53955.0, \"death\": 149652.0, \"deathIncrease\": 829.0, \"positiveRate\": 0.059, \"state\": \"Non Tri-State\", \"sma7d\": 0.054}, {\"date\": \"2020-09-26T00:00:00\", \"totalTestResultsIncrease\": 922828.0, \"positiveIncrease\": 46101.0, \"death\": 150511.0, \"deathIncrease\": 859.0, \"positiveRate\": 0.05, \"state\": \"Non Tri-State\", \"sma7d\": 0.054}, {\"date\": \"2020-09-27T00:00:00\", \"totalTestResultsIncrease\": 764248.0, \"positiveIncrease\": 33890.0, \"death\": 150806.0, \"deathIncrease\": 295.0, \"positiveRate\": 0.044, \"state\": \"Non Tri-State\", \"sma7d\": 0.054}, {\"date\": \"2020-09-28T00:00:00\", \"totalTestResultsIncrease\": 970284.0, \"positiveIncrease\": 34571.0, \"death\": 151051.0, \"deathIncrease\": 245.0, \"positiveRate\": 0.036, \"state\": \"Non Tri-State\", \"sma7d\": 0.051}, {\"date\": \"2020-09-29T00:00:00\", \"totalTestResultsIncrease\": 759126.0, \"positiveIncrease\": 35120.0, \"death\": 151776.0, \"deathIncrease\": 725.0, \"positiveRate\": 0.046, \"state\": \"Non Tri-State\", \"sma7d\": 0.047}, {\"date\": \"2020-09-30T00:00:00\", \"totalTestResultsIncrease\": 690162.0, \"positiveIncrease\": 42491.0, \"death\": 152816.0, \"deathIncrease\": 1040.0, \"positiveRate\": 0.062, \"state\": \"Non Tri-State\", \"sma7d\": 0.05}, {\"date\": \"2020-10-01T00:00:00\", \"totalTestResultsIncrease\": 811973.0, \"positiveIncrease\": 43506.0, \"death\": 153648.0, \"deathIncrease\": 832.0, \"positiveRate\": 0.054, \"state\": \"Non Tri-State\", \"sma7d\": 0.05}, {\"date\": \"2020-10-02T00:00:00\", \"totalTestResultsIncrease\": 913842.0, \"positiveIncrease\": 46641.0, \"death\": 154470.0, \"deathIncrease\": 822.0, \"positiveRate\": 0.051, \"state\": \"Non Tri-State\", \"sma7d\": 0.049}, {\"date\": \"2020-10-03T00:00:00\", \"totalTestResultsIncrease\": 898583.0, \"positiveIncrease\": 48694.0, \"death\": 155199.0, \"deathIncrease\": 729.0, \"positiveRate\": 0.054, \"state\": \"Non Tri-State\", \"sma7d\": 0.05}, {\"date\": \"2020-10-04T00:00:00\", \"totalTestResultsIncrease\": 802470.0, \"positiveIncrease\": 36591.0, \"death\": 155547.0, \"deathIncrease\": 348.0, \"positiveRate\": 0.046, \"state\": \"Non Tri-State\", \"sma7d\": 0.05}, {\"date\": \"2020-10-05T00:00:00\", \"totalTestResultsIncrease\": 796630.0, \"positiveIncrease\": 35866.0, \"death\": 155859.0, \"deathIncrease\": 312.0, \"positiveRate\": 0.045, \"state\": \"Non Tri-State\", \"sma7d\": 0.051}, {\"date\": \"2020-10-06T00:00:00\", \"totalTestResultsIncrease\": 745120.0, \"positiveIncrease\": 36518.0, \"death\": 156471.0, \"deathIncrease\": 612.0, \"positiveRate\": 0.049, \"state\": \"Non Tri-State\", \"sma7d\": 0.052}, {\"date\": \"2020-10-07T00:00:00\", \"totalTestResultsIncrease\": 761910.0, \"positiveIncrease\": 48611.0, \"death\": 157372.0, \"deathIncrease\": 901.0, \"positiveRate\": 0.064, \"state\": \"Non Tri-State\", \"sma7d\": 0.052}, {\"date\": \"2020-10-08T00:00:00\", \"totalTestResultsIncrease\": 842210.0, \"positiveIncrease\": 51834.0, \"death\": 158335.0, \"deathIncrease\": 963.0, \"positiveRate\": 0.062, \"state\": \"Non Tri-State\", \"sma7d\": 0.053}, {\"date\": \"2020-10-09T00:00:00\", \"totalTestResultsIncrease\": 933985.0, \"positiveIncrease\": 54313.0, \"death\": 159215.0, \"deathIncrease\": 880.0, \"positiveRate\": 0.058, \"state\": \"Non Tri-State\", \"sma7d\": 0.054}, {\"date\": \"2020-10-10T00:00:00\", \"totalTestResultsIncrease\": 1016290.0, \"positiveIncrease\": 55181.0, \"death\": 159865.0, \"deathIncrease\": 650.0, \"positiveRate\": 0.054, \"state\": \"Non Tri-State\", \"sma7d\": 0.054}, {\"date\": \"2020-10-11T00:00:00\", \"totalTestResultsIncrease\": 853003.0, \"positiveIncrease\": 45052.0, \"death\": 160323.0, \"deathIncrease\": 458.0, \"positiveRate\": 0.053, \"state\": \"Non Tri-State\", \"sma7d\": 0.055}, {\"date\": \"2020-10-12T00:00:00\", \"totalTestResultsIncrease\": 767940.0, \"positiveIncrease\": 40287.0, \"death\": 160594.0, \"deathIncrease\": 271.0, \"positiveRate\": 0.052, \"state\": \"Non Tri-State\", \"sma7d\": 0.056}, {\"date\": \"2020-10-13T00:00:00\", \"totalTestResultsIncrease\": 872582.0, \"positiveIncrease\": 45686.0, \"death\": 161265.0, \"deathIncrease\": 671.0, \"positiveRate\": 0.052, \"state\": \"Non Tri-State\", \"sma7d\": 0.056}, {\"date\": \"2020-10-14T00:00:00\", \"totalTestResultsIncrease\": 796659.0, \"positiveIncrease\": 54463.0, \"death\": 162056.0, \"deathIncrease\": 791.0, \"positiveRate\": 0.068, \"state\": \"Non Tri-State\", \"sma7d\": 0.057}, {\"date\": \"2020-10-15T00:00:00\", \"totalTestResultsIncrease\": 836587.0, \"positiveIncrease\": 60574.0, \"death\": 162985.0, \"deathIncrease\": 929.0, \"positiveRate\": 0.072, \"state\": \"Non Tri-State\", \"sma7d\": 0.058}, {\"date\": \"2020-10-16T00:00:00\", \"totalTestResultsIncrease\": 943016.0, \"positiveIncrease\": 64805.0, \"death\": 163845.0, \"deathIncrease\": 860.0, \"positiveRate\": 0.069, \"state\": \"Non Tri-State\", \"sma7d\": 0.06}, {\"date\": \"2020-10-17T00:00:00\", \"totalTestResultsIncrease\": 1001177.0, \"positiveIncrease\": 55225.0, \"death\": 164614.0, \"deathIncrease\": 769.0, \"positiveRate\": 0.055, \"state\": \"Non Tri-State\", \"sma7d\": 0.06}, {\"date\": \"2020-10-18T00:00:00\", \"totalTestResultsIncrease\": 850596.0, \"positiveIncrease\": 46257.0, \"death\": 164993.0, \"deathIncrease\": 379.0, \"positiveRate\": 0.054, \"state\": \"Non Tri-State\", \"sma7d\": 0.06}, {\"date\": \"2020-10-19T00:00:00\", \"totalTestResultsIncrease\": 970361.0, \"positiveIncrease\": 53767.0, \"death\": 165419.0, \"deathIncrease\": 426.0, \"positiveRate\": 0.055, \"state\": \"Non Tri-State\", \"sma7d\": 0.061}, {\"date\": \"2020-10-20T00:00:00\", \"totalTestResultsIncrease\": 786586.0, \"positiveIncrease\": 58041.0, \"death\": 166220.0, \"deathIncrease\": 801.0, \"positiveRate\": 0.074, \"state\": \"Non Tri-State\", \"sma7d\": 0.064}, {\"date\": \"2020-10-21T00:00:00\", \"totalTestResultsIncrease\": 711366.0, \"positiveIncrease\": 55134.0, \"death\": 167211.0, \"deathIncrease\": 991.0, \"positiveRate\": 0.078, \"state\": \"Non Tri-State\", \"sma7d\": 0.065}, {\"date\": \"2020-10-22T00:00:00\", \"totalTestResultsIncrease\": 937973.0, \"positiveIncrease\": 71956.0, \"death\": 168319.0, \"deathIncrease\": 1108.0, \"positiveRate\": 0.077, \"state\": \"Non Tri-State\", \"sma7d\": 0.066}, {\"date\": \"2020-10-23T00:00:00\", \"totalTestResultsIncrease\": 1074771.0, \"positiveIncrease\": 79649.0, \"death\": 169206.0, \"deathIncrease\": 887.0, \"positiveRate\": 0.074, \"state\": \"Non Tri-State\", \"sma7d\": 0.067}, {\"date\": \"2020-10-24T00:00:00\", \"totalTestResultsIncrease\": 1051648.0, \"positiveIncrease\": 78698.0, \"death\": 170070.0, \"deathIncrease\": 864.0, \"positiveRate\": 0.075, \"state\": \"Non Tri-State\", \"sma7d\": 0.07}, {\"date\": \"2020-10-25T00:00:00\", \"totalTestResultsIncrease\": 946331.0, \"positiveIncrease\": 62652.0, \"death\": 170431.0, \"deathIncrease\": 361.0, \"positiveRate\": 0.066, \"state\": \"Non Tri-State\", \"sma7d\": 0.071}]}}, {\"mode\": \"vega-lite\"});\n",
       "</script>"
      ],
      "text/plain": [
       "alt.LayerChart(...)"
      ]
     },
     "execution_count": 16,
     "metadata": {},
     "output_type": "execute_result"
    }
   ],
   "source": [
    "create_plot(non_tristate, 'positiveRate')"
   ]
  },
  {
   "cell_type": "code",
   "execution_count": 17,
   "metadata": {
    "execution": {
     "iopub.execute_input": "2020-10-25T22:36:26.936284Z",
     "iopub.status.busy": "2020-10-25T22:36:26.935738Z",
     "iopub.status.idle": "2020-10-25T22:36:27.028747Z",
     "shell.execute_reply": "2020-10-25T22:36:27.028312Z"
    },
    "papermill": {
     "duration": 0.115778,
     "end_time": "2020-10-25T22:36:27.028890",
     "exception": false,
     "start_time": "2020-10-25T22:36:26.913112",
     "status": "completed"
    },
    "tags": []
   },
   "outputs": [
    {
     "data": {
      "text/html": [
       "\n",
       "<div id=\"altair-viz-af89f4a7d338465d9790e4acd657e100\"></div>\n",
       "<script type=\"text/javascript\">\n",
       "  (function(spec, embedOpt){\n",
       "    let outputDiv = document.currentScript.previousElementSibling;\n",
       "    if (outputDiv.id !== \"altair-viz-af89f4a7d338465d9790e4acd657e100\") {\n",
       "      outputDiv = document.getElementById(\"altair-viz-af89f4a7d338465d9790e4acd657e100\");\n",
       "    }\n",
       "    const paths = {\n",
       "      \"vega\": \"https://cdn.jsdelivr.net/npm//vega@5?noext\",\n",
       "      \"vega-lib\": \"https://cdn.jsdelivr.net/npm//vega-lib?noext\",\n",
       "      \"vega-lite\": \"https://cdn.jsdelivr.net/npm//vega-lite@4.8.1?noext\",\n",
       "      \"vega-embed\": \"https://cdn.jsdelivr.net/npm//vega-embed@6?noext\",\n",
       "    };\n",
       "\n",
       "    function loadScript(lib) {\n",
       "      return new Promise(function(resolve, reject) {\n",
       "        var s = document.createElement('script');\n",
       "        s.src = paths[lib];\n",
       "        s.async = true;\n",
       "        s.onload = () => resolve(paths[lib]);\n",
       "        s.onerror = () => reject(`Error loading script: ${paths[lib]}`);\n",
       "        document.getElementsByTagName(\"head\")[0].appendChild(s);\n",
       "      });\n",
       "    }\n",
       "\n",
       "    function showError(err) {\n",
       "      outputDiv.innerHTML = `<div class=\"error\" style=\"color:red;\">${err}</div>`;\n",
       "      throw err;\n",
       "    }\n",
       "\n",
       "    function displayChart(vegaEmbed) {\n",
       "      vegaEmbed(outputDiv, spec, embedOpt)\n",
       "        .catch(err => showError(`Javascript Error: ${err.message}<br>This usually means there's a typo in your chart specification. See the javascript console for the full traceback.`));\n",
       "    }\n",
       "\n",
       "    if(typeof define === \"function\" && define.amd) {\n",
       "      requirejs.config({paths});\n",
       "      require([\"vega-embed\"], displayChart, err => showError(`Error loading script: ${err.message}`));\n",
       "    } else if (typeof vegaEmbed === \"function\") {\n",
       "      displayChart(vegaEmbed);\n",
       "    } else {\n",
       "      loadScript(\"vega\")\n",
       "        .then(() => loadScript(\"vega-lite\"))\n",
       "        .then(() => loadScript(\"vega-embed\"))\n",
       "        .catch(showError)\n",
       "        .then(() => displayChart(vegaEmbed));\n",
       "    }\n",
       "  })({\"config\": {\"view\": {\"continuousWidth\": 400, \"continuousHeight\": 300}}, \"layer\": [{\"layer\": [{\"mark\": {\"type\": \"point\", \"size\": 75}, \"encoding\": {\"tooltip\": [{\"type\": \"temporal\", \"field\": \"date\"}, {\"type\": \"quantitative\", \"field\": \"deathIncrease\"}, {\"type\": \"quantitative\", \"field\": \"sma7d\"}], \"x\": {\"type\": \"temporal\", \"field\": \"date\"}, \"y\": {\"type\": \"quantitative\", \"field\": \"deathIncrease\"}}, \"selection\": {\"selector018\": {\"type\": \"interval\", \"bind\": \"scales\", \"encodings\": [\"x\", \"y\"]}}}, {\"mark\": {\"type\": \"line\", \"color\": \"purple\"}, \"encoding\": {\"x\": {\"type\": \"temporal\", \"field\": \"date\"}, \"y\": {\"type\": \"quantitative\", \"field\": \"sma7d\"}}}]}, {\"mark\": {\"type\": \"rule\", \"color\": \"#aaa\"}, \"encoding\": {\"x\": {\"type\": \"temporal\", \"field\": \"date\"}}, \"transform\": [{\"filter\": {\"selection\": \"selector017\"}}]}, {\"mark\": \"circle\", \"encoding\": {\"opacity\": {\"condition\": {\"value\": 1, \"selection\": \"selector017\"}, \"value\": 0}, \"tooltip\": [{\"type\": \"temporal\", \"field\": \"date\"}, {\"type\": \"quantitative\", \"field\": \"deathIncrease\"}, {\"type\": \"quantitative\", \"field\": \"sma7d\"}], \"x\": {\"type\": \"temporal\", \"field\": \"date\"}, \"y\": {\"type\": \"quantitative\", \"field\": \"deathIncrease\"}}, \"selection\": {\"selector017\": {\"type\": \"single\", \"encodings\": [\"x\"], \"on\": \"mouseover\", \"nearest\": true, \"empty\": \"none\"}}}, {\"mark\": {\"type\": \"text\", \"align\": \"left\", \"dx\": 5, \"dy\": -5, \"stroke\": \"white\", \"strokeWidth\": 2}, \"encoding\": {\"text\": {\"type\": \"quantitative\", \"field\": \"deathIncrease\"}, \"tooltip\": [{\"type\": \"temporal\", \"field\": \"date\"}, {\"type\": \"quantitative\", \"field\": \"deathIncrease\"}, {\"type\": \"quantitative\", \"field\": \"sma7d\"}], \"x\": {\"type\": \"temporal\", \"field\": \"date\"}, \"y\": {\"type\": \"quantitative\", \"field\": \"deathIncrease\"}}, \"transform\": [{\"filter\": {\"selection\": \"selector017\"}}]}, {\"mark\": {\"type\": \"text\", \"align\": \"left\", \"dx\": 5, \"dy\": -5}, \"encoding\": {\"text\": {\"type\": \"quantitative\", \"field\": \"deathIncrease\"}, \"tooltip\": [{\"type\": \"temporal\", \"field\": \"date\"}, {\"type\": \"quantitative\", \"field\": \"deathIncrease\"}, {\"type\": \"quantitative\", \"field\": \"sma7d\"}], \"x\": {\"type\": \"temporal\", \"field\": \"date\"}, \"y\": {\"type\": \"quantitative\", \"field\": \"deathIncrease\"}}, \"transform\": [{\"filter\": {\"selection\": \"selector017\"}}]}], \"data\": {\"name\": \"data-c140f68e81d01c1aac63bcf285a6a512\"}, \"height\": 400, \"title\": \"Non Tri-State: deathIncrease\", \"width\": 500, \"$schema\": \"https://vega.github.io/schema/vega-lite/v4.8.1.json\", \"datasets\": {\"data-c140f68e81d01c1aac63bcf285a6a512\": [{\"date\": \"2020-08-31T00:00:00\", \"totalTestResultsIncrease\": 576332.0, \"positiveIncrease\": 30017.0, \"death\": 129872.0, \"deathIncrease\": 357.0, \"positiveRate\": 0.052, \"state\": \"Non Tri-State\", \"sma7d\": 910.0}, {\"date\": \"2020-09-01T00:00:00\", \"totalTestResultsIncrease\": 658523.0, \"positiveIncrease\": 41222.0, \"death\": 130890.0, \"deathIncrease\": 1018.0, \"positiveRate\": 0.063, \"state\": \"Non Tri-State\", \"sma7d\": 892.857}, {\"date\": \"2020-09-02T00:00:00\", \"totalTestResultsIncrease\": 560703.0, \"positiveIncrease\": 29488.0, \"death\": 131905.0, \"deathIncrease\": 1015.0, \"positiveRate\": 0.053, \"state\": \"Non Tri-State\", \"sma7d\": 855.0}, {\"date\": \"2020-09-03T00:00:00\", \"totalTestResultsIncrease\": 698060.0, \"positiveIncrease\": 43346.0, \"death\": 132960.0, \"deathIncrease\": 1055.0, \"positiveRate\": 0.062, \"state\": \"Non Tri-State\", \"sma7d\": 846.286}, {\"date\": \"2020-09-04T00:00:00\", \"totalTestResultsIncrease\": 831732.0, \"positiveIncrease\": 50122.0, \"death\": 133946.0, \"deathIncrease\": 986.0, \"positiveRate\": 0.06, \"state\": \"Non Tri-State\", \"sma7d\": 842.714}, {\"date\": \"2020-09-05T00:00:00\", \"totalTestResultsIncrease\": 808084.0, \"positiveIncrease\": 43779.0, \"death\": 134855.0, \"deathIncrease\": 909.0, \"positiveRate\": 0.054, \"state\": \"Non Tri-State\", \"sma7d\": 829.0}, {\"date\": \"2020-09-06T00:00:00\", \"totalTestResultsIncrease\": 666920.0, \"positiveIncrease\": 32077.0, \"death\": 135291.0, \"deathIncrease\": 436.0, \"positiveRate\": 0.048, \"state\": \"Non Tri-State\", \"sma7d\": 825.143}, {\"date\": \"2020-09-07T00:00:00\", \"totalTestResultsIncrease\": 514970.0, \"positiveIncrease\": 27830.0, \"death\": 135512.0, \"deathIncrease\": 221.0, \"positiveRate\": 0.054, \"state\": \"Non Tri-State\", \"sma7d\": 805.714}, {\"date\": \"2020-09-08T00:00:00\", \"totalTestResultsIncrease\": 428846.0, \"positiveIncrease\": 20972.0, \"death\": 135853.0, \"deathIncrease\": 341.0, \"positiveRate\": 0.049, \"state\": \"Non Tri-State\", \"sma7d\": 709.0}, {\"date\": \"2020-09-09T00:00:00\", \"totalTestResultsIncrease\": 569488.0, \"positiveIncrease\": 30126.0, \"death\": 136926.0, \"deathIncrease\": 1073.0, \"positiveRate\": 0.053, \"state\": \"Non Tri-State\", \"sma7d\": 717.286}, {\"date\": \"2020-09-10T00:00:00\", \"totalTestResultsIncrease\": 614505.0, \"positiveIncrease\": 36178.0, \"death\": 138080.0, \"deathIncrease\": 1154.0, \"positiveRate\": 0.059, \"state\": \"Non Tri-State\", \"sma7d\": 731.429}, {\"date\": \"2020-09-11T00:00:00\", \"totalTestResultsIncrease\": 718630.0, \"positiveIncrease\": 43340.0, \"death\": 139082.0, \"deathIncrease\": 1002.0, \"positiveRate\": 0.06, \"state\": \"Non Tri-State\", \"sma7d\": 733.714}, {\"date\": \"2020-09-12T00:00:00\", \"totalTestResultsIncrease\": 826922.0, \"positiveIncrease\": 40792.0, \"death\": 139886.0, \"deathIncrease\": 804.0, \"positiveRate\": 0.049, \"state\": \"Non Tri-State\", \"sma7d\": 718.714}, {\"date\": \"2020-09-13T00:00:00\", \"totalTestResultsIncrease\": 620662.0, \"positiveIncrease\": 33431.0, \"death\": 140265.0, \"deathIncrease\": 379.0, \"positiveRate\": 0.054, \"state\": \"Non Tri-State\", \"sma7d\": 710.571}, {\"date\": \"2020-09-14T00:00:00\", \"totalTestResultsIncrease\": 323781.0, \"positiveIncrease\": 32378.0, \"death\": 140656.0, \"deathIncrease\": 391.0, \"positiveRate\": 0.1, \"state\": \"Non Tri-State\", \"sma7d\": 734.857}, {\"date\": \"2020-09-15T00:00:00\", \"totalTestResultsIncrease\": 653639.0, \"positiveIncrease\": 34107.0, \"death\": 141667.0, \"deathIncrease\": 1011.0, \"positiveRate\": 0.052, \"state\": \"Non Tri-State\", \"sma7d\": 830.571}, {\"date\": \"2020-09-16T00:00:00\", \"totalTestResultsIncrease\": 669137.0, \"positiveIncrease\": 38846.0, \"death\": 142851.0, \"deathIncrease\": 1184.0, \"positiveRate\": 0.058, \"state\": \"Non Tri-State\", \"sma7d\": 846.429}, {\"date\": \"2020-09-17T00:00:00\", \"totalTestResultsIncrease\": 749583.0, \"positiveIncrease\": 41873.0, \"death\": 143707.0, \"deathIncrease\": 856.0, \"positiveRate\": 0.056, \"state\": \"Non Tri-State\", \"sma7d\": 803.857}, {\"date\": \"2020-09-18T00:00:00\", \"totalTestResultsIncrease\": 889346.0, \"positiveIncrease\": 46068.0, \"death\": 144590.0, \"deathIncrease\": 883.0, \"positiveRate\": 0.052, \"state\": \"Non Tri-State\", \"sma7d\": 786.857}, {\"date\": \"2020-09-19T00:00:00\", \"totalTestResultsIncrease\": 989929.0, \"positiveIncrease\": 44117.0, \"death\": 145325.0, \"deathIncrease\": 735.0, \"positiveRate\": 0.045, \"state\": \"Non Tri-State\", \"sma7d\": 777.0}, {\"date\": \"2020-09-20T00:00:00\", \"totalTestResultsIncrease\": 772122.0, \"positiveIncrease\": 34980.0, \"death\": 145647.0, \"deathIncrease\": 322.0, \"positiveRate\": 0.045, \"state\": \"Non Tri-State\", \"sma7d\": 768.857}, {\"date\": \"2020-09-21T00:00:00\", \"totalTestResultsIncrease\": 631770.0, \"positiveIncrease\": 38010.0, \"death\": 145928.0, \"deathIncrease\": 281.0, \"positiveRate\": 0.06, \"state\": \"Non Tri-State\", \"sma7d\": 753.143}, {\"date\": \"2020-09-22T00:00:00\", \"totalTestResultsIncrease\": 672001.0, \"positiveIncrease\": 48123.0, \"death\": 146770.0, \"deathIncrease\": 842.0, \"positiveRate\": 0.072, \"state\": \"Non Tri-State\", \"sma7d\": 729.0}, {\"date\": \"2020-09-23T00:00:00\", \"totalTestResultsIncrease\": 856634.0, \"positiveIncrease\": 37339.0, \"death\": 147915.0, \"deathIncrease\": 1145.0, \"positiveRate\": 0.044, \"state\": \"Non Tri-State\", \"sma7d\": 723.429}, {\"date\": \"2020-09-24T00:00:00\", \"totalTestResultsIncrease\": 837195.0, \"positiveIncrease\": 42096.0, \"death\": 148823.0, \"deathIncrease\": 908.0, \"positiveRate\": 0.05, \"state\": \"Non Tri-State\", \"sma7d\": 730.857}, {\"date\": \"2020-09-25T00:00:00\", \"totalTestResultsIncrease\": 918854.0, \"positiveIncrease\": 53955.0, \"death\": 149652.0, \"deathIncrease\": 829.0, \"positiveRate\": 0.059, \"state\": \"Non Tri-State\", \"sma7d\": 723.143}, {\"date\": \"2020-09-26T00:00:00\", \"totalTestResultsIncrease\": 922828.0, \"positiveIncrease\": 46101.0, \"death\": 150511.0, \"deathIncrease\": 859.0, \"positiveRate\": 0.05, \"state\": \"Non Tri-State\", \"sma7d\": 740.857}, {\"date\": \"2020-09-27T00:00:00\", \"totalTestResultsIncrease\": 764248.0, \"positiveIncrease\": 33890.0, \"death\": 150806.0, \"deathIncrease\": 295.0, \"positiveRate\": 0.044, \"state\": \"Non Tri-State\", \"sma7d\": 737.0}, {\"date\": \"2020-09-28T00:00:00\", \"totalTestResultsIncrease\": 970284.0, \"positiveIncrease\": 34571.0, \"death\": 151051.0, \"deathIncrease\": 245.0, \"positiveRate\": 0.036, \"state\": \"Non Tri-State\", \"sma7d\": 731.857}, {\"date\": \"2020-09-29T00:00:00\", \"totalTestResultsIncrease\": 759126.0, \"positiveIncrease\": 35120.0, \"death\": 151776.0, \"deathIncrease\": 725.0, \"positiveRate\": 0.046, \"state\": \"Non Tri-State\", \"sma7d\": 715.143}, {\"date\": \"2020-09-30T00:00:00\", \"totalTestResultsIncrease\": 690162.0, \"positiveIncrease\": 42491.0, \"death\": 152816.0, \"deathIncrease\": 1040.0, \"positiveRate\": 0.062, \"state\": \"Non Tri-State\", \"sma7d\": 700.143}, {\"date\": \"2020-10-01T00:00:00\", \"totalTestResultsIncrease\": 811973.0, \"positiveIncrease\": 43506.0, \"death\": 153648.0, \"deathIncrease\": 832.0, \"positiveRate\": 0.054, \"state\": \"Non Tri-State\", \"sma7d\": 689.286}, {\"date\": \"2020-10-02T00:00:00\", \"totalTestResultsIncrease\": 913842.0, \"positiveIncrease\": 46641.0, \"death\": 154470.0, \"deathIncrease\": 822.0, \"positiveRate\": 0.051, \"state\": \"Non Tri-State\", \"sma7d\": 688.286}, {\"date\": \"2020-10-03T00:00:00\", \"totalTestResultsIncrease\": 898583.0, \"positiveIncrease\": 48694.0, \"death\": 155199.0, \"deathIncrease\": 729.0, \"positiveRate\": 0.054, \"state\": \"Non Tri-State\", \"sma7d\": 669.714}, {\"date\": \"2020-10-04T00:00:00\", \"totalTestResultsIncrease\": 802470.0, \"positiveIncrease\": 36591.0, \"death\": 155547.0, \"deathIncrease\": 348.0, \"positiveRate\": 0.046, \"state\": \"Non Tri-State\", \"sma7d\": 677.286}, {\"date\": \"2020-10-05T00:00:00\", \"totalTestResultsIncrease\": 796630.0, \"positiveIncrease\": 35866.0, \"death\": 155859.0, \"deathIncrease\": 312.0, \"positiveRate\": 0.045, \"state\": \"Non Tri-State\", \"sma7d\": 686.857}, {\"date\": \"2020-10-06T00:00:00\", \"totalTestResultsIncrease\": 745120.0, \"positiveIncrease\": 36518.0, \"death\": 156471.0, \"deathIncrease\": 612.0, \"positiveRate\": 0.049, \"state\": \"Non Tri-State\", \"sma7d\": 670.714}, {\"date\": \"2020-10-07T00:00:00\", \"totalTestResultsIncrease\": 761910.0, \"positiveIncrease\": 48611.0, \"death\": 157372.0, \"deathIncrease\": 901.0, \"positiveRate\": 0.064, \"state\": \"Non Tri-State\", \"sma7d\": 650.857}, {\"date\": \"2020-10-08T00:00:00\", \"totalTestResultsIncrease\": 842210.0, \"positiveIncrease\": 51834.0, \"death\": 158335.0, \"deathIncrease\": 963.0, \"positiveRate\": 0.062, \"state\": \"Non Tri-State\", \"sma7d\": 669.571}, {\"date\": \"2020-10-09T00:00:00\", \"totalTestResultsIncrease\": 933985.0, \"positiveIncrease\": 54313.0, \"death\": 159215.0, \"deathIncrease\": 880.0, \"positiveRate\": 0.058, \"state\": \"Non Tri-State\", \"sma7d\": 677.857}, {\"date\": \"2020-10-10T00:00:00\", \"totalTestResultsIncrease\": 1016290.0, \"positiveIncrease\": 55181.0, \"death\": 159865.0, \"deathIncrease\": 650.0, \"positiveRate\": 0.054, \"state\": \"Non Tri-State\", \"sma7d\": 666.571}, {\"date\": \"2020-10-11T00:00:00\", \"totalTestResultsIncrease\": 853003.0, \"positiveIncrease\": 45052.0, \"death\": 160323.0, \"deathIncrease\": 458.0, \"positiveRate\": 0.053, \"state\": \"Non Tri-State\", \"sma7d\": 682.286}, {\"date\": \"2020-10-12T00:00:00\", \"totalTestResultsIncrease\": 767940.0, \"positiveIncrease\": 40287.0, \"death\": 160594.0, \"deathIncrease\": 271.0, \"positiveRate\": 0.052, \"state\": \"Non Tri-State\", \"sma7d\": 676.429}, {\"date\": \"2020-10-13T00:00:00\", \"totalTestResultsIncrease\": 872582.0, \"positiveIncrease\": 45686.0, \"death\": 161265.0, \"deathIncrease\": 671.0, \"positiveRate\": 0.052, \"state\": \"Non Tri-State\", \"sma7d\": 684.857}, {\"date\": \"2020-10-14T00:00:00\", \"totalTestResultsIncrease\": 796659.0, \"positiveIncrease\": 54463.0, \"death\": 162056.0, \"deathIncrease\": 791.0, \"positiveRate\": 0.068, \"state\": \"Non Tri-State\", \"sma7d\": 669.143}, {\"date\": \"2020-10-15T00:00:00\", \"totalTestResultsIncrease\": 836587.0, \"positiveIncrease\": 60574.0, \"death\": 162985.0, \"deathIncrease\": 929.0, \"positiveRate\": 0.072, \"state\": \"Non Tri-State\", \"sma7d\": 664.286}, {\"date\": \"2020-10-16T00:00:00\", \"totalTestResultsIncrease\": 943016.0, \"positiveIncrease\": 64805.0, \"death\": 163845.0, \"deathIncrease\": 860.0, \"positiveRate\": 0.069, \"state\": \"Non Tri-State\", \"sma7d\": 661.429}, {\"date\": \"2020-10-17T00:00:00\", \"totalTestResultsIncrease\": 1001177.0, \"positiveIncrease\": 55225.0, \"death\": 164614.0, \"deathIncrease\": 769.0, \"positiveRate\": 0.055, \"state\": \"Non Tri-State\", \"sma7d\": 678.429}, {\"date\": \"2020-10-18T00:00:00\", \"totalTestResultsIncrease\": 850596.0, \"positiveIncrease\": 46257.0, \"death\": 164993.0, \"deathIncrease\": 379.0, \"positiveRate\": 0.054, \"state\": \"Non Tri-State\", \"sma7d\": 667.143}, {\"date\": \"2020-10-19T00:00:00\", \"totalTestResultsIncrease\": 970361.0, \"positiveIncrease\": 53767.0, \"death\": 165419.0, \"deathIncrease\": 426.0, \"positiveRate\": 0.055, \"state\": \"Non Tri-State\", \"sma7d\": 689.286}, {\"date\": \"2020-10-20T00:00:00\", \"totalTestResultsIncrease\": 786586.0, \"positiveIncrease\": 58041.0, \"death\": 166220.0, \"deathIncrease\": 801.0, \"positiveRate\": 0.074, \"state\": \"Non Tri-State\", \"sma7d\": 707.857}, {\"date\": \"2020-10-21T00:00:00\", \"totalTestResultsIncrease\": 711366.0, \"positiveIncrease\": 55134.0, \"death\": 167211.0, \"deathIncrease\": 991.0, \"positiveRate\": 0.078, \"state\": \"Non Tri-State\", \"sma7d\": 736.429}, {\"date\": \"2020-10-22T00:00:00\", \"totalTestResultsIncrease\": 937973.0, \"positiveIncrease\": 71956.0, \"death\": 168319.0, \"deathIncrease\": 1108.0, \"positiveRate\": 0.077, \"state\": \"Non Tri-State\", \"sma7d\": 762.0}, {\"date\": \"2020-10-23T00:00:00\", \"totalTestResultsIncrease\": 1074771.0, \"positiveIncrease\": 79649.0, \"death\": 169206.0, \"deathIncrease\": 887.0, \"positiveRate\": 0.074, \"state\": \"Non Tri-State\", \"sma7d\": 765.857}, {\"date\": \"2020-10-24T00:00:00\", \"totalTestResultsIncrease\": 1051648.0, \"positiveIncrease\": 78698.0, \"death\": 170070.0, \"deathIncrease\": 864.0, \"positiveRate\": 0.075, \"state\": \"Non Tri-State\", \"sma7d\": 779.429}, {\"date\": \"2020-10-25T00:00:00\", \"totalTestResultsIncrease\": 946331.0, \"positiveIncrease\": 62652.0, \"death\": 170431.0, \"deathIncrease\": 361.0, \"positiveRate\": 0.066, \"state\": \"Non Tri-State\", \"sma7d\": 776.857}]}}, {\"mode\": \"vega-lite\"});\n",
       "</script>"
      ],
      "text/plain": [
       "alt.LayerChart(...)"
      ]
     },
     "execution_count": 17,
     "metadata": {},
     "output_type": "execute_result"
    }
   ],
   "source": [
    "create_plot(non_tristate, 'deathIncrease')"
   ]
  }
 ],
 "metadata": {
  "kernelspec": {
   "display_name": "Python 3",
   "language": "python",
   "name": "python3"
  },
  "language_info": {
   "codemirror_mode": {
    "name": "ipython",
    "version": 3
   },
   "file_extension": ".py",
   "mimetype": "text/x-python",
   "name": "python",
   "nbconvert_exporter": "python",
   "pygments_lexer": "ipython3",
   "version": "3.8.6"
  },
  "papermill": {
   "duration": 7.778738,
   "end_time": "2020-10-25T22:36:27.355468",
   "environment_variables": {},
   "exception": null,
   "input_path": "2020-07-19-covid-plots.ipynb",
   "output_path": "2020-07-19-covid-plots.ipynb",
   "parameters": {},
   "start_time": "2020-10-25T22:36:19.576730",
   "version": "2.1.2"
  }
 },
 "nbformat": 4,
 "nbformat_minor": 4
}