{
 "cells": [
  {
   "cell_type": "markdown",
   "id": "athletic-redhead",
   "metadata": {
    "papermill": {
     "duration": 0.018378,
     "end_time": "2021-02-15T09:16:42.150991",
     "exception": false,
     "start_time": "2021-02-15T09:16:42.132613",
     "status": "completed"
    },
    "tags": []
   },
   "source": [
    "# \"COVID-19 plots\"\n",
    "> \"Interactive plots with daily updates\"\n",
    "\n",
    "- author: bbernst\n",
    "- toc: true\n",
    "- branch: master\n",
    "- badges: true\n",
    "- comments: true\n",
    "- categories: [healthcare, covid]\n",
    "- image: images/covid_plots/covid_mask.png\n",
    "- hide: false\n",
    "- search_exclude: true"
   ]
  },
  {
   "cell_type": "markdown",
   "id": "broken-bernard",
   "metadata": {
    "papermill": {
     "duration": 0.014296,
     "end_time": "2021-02-15T09:16:42.182451",
     "exception": false,
     "start_time": "2021-02-15T09:16:42.168155",
     "status": "completed"
    },
    "tags": []
   },
   "source": [
    "I wanted to make a simple COVID-19 post to accomplish two main goals:\n",
    "1. Easily see the specific plots I'm interested in\n",
    "1. Update these plots every day, automatically\n",
    "\n",
    "Enter [fastpages](https://github.com/fastai/fastpages) and [github actions](https://github.com/features/actions). I'd been meaning to set up a blog with fastpages for a while and thought this would be a good reason to try it out. The documentation was great and I was able to set up automatic updates by using https://covid19dashboards.com/ as a guide.\n",
    "\n",
    "The data for this post comes from https://covidtracking.com/, which updates by 5pm each day, and I have my dashboard update at 6:30pm. For each geography -- so far that's the US, New York, and Non Tri-State -- I look at daily positive cases, positive rate, and deaths. Be sure to hover around on each of the plots, they have helpful interactive tooltips to make reading the data more intuitive."
   ]
  },
  {
   "cell_type": "code",
   "execution_count": 1,
   "id": "numerous-cedar",
   "metadata": {
    "execution": {
     "iopub.execute_input": "2021-02-15T09:16:42.223882Z",
     "iopub.status.busy": "2021-02-15T09:16:42.220796Z",
     "iopub.status.idle": "2021-02-15T09:16:42.679091Z",
     "shell.execute_reply": "2021-02-15T09:16:42.678075Z"
    },
    "papermill": {
     "duration": 0.480841,
     "end_time": "2021-02-15T09:16:42.679240",
     "exception": false,
     "start_time": "2021-02-15T09:16:42.198399",
     "status": "completed"
    },
    "tags": []
   },
   "outputs": [],
   "source": [
    "#collapse\n",
    "from typing import Callable, Literal\n",
    "import pandas as pd\n",
    "import altair as alt"
   ]
  },
  {
   "cell_type": "code",
   "execution_count": 2,
   "id": "descending-refrigerator",
   "metadata": {
    "execution": {
     "iopub.execute_input": "2021-02-15T09:16:42.712461Z",
     "iopub.status.busy": "2021-02-15T09:16:42.711368Z",
     "iopub.status.idle": "2021-02-15T09:16:42.728031Z",
     "shell.execute_reply": "2021-02-15T09:16:42.728404Z"
    },
    "papermill": {
     "duration": 0.034733,
     "end_time": "2021-02-15T09:16:42.728545",
     "exception": false,
     "start_time": "2021-02-15T09:16:42.693812",
     "status": "completed"
    },
    "tags": []
   },
   "outputs": [
    {
     "name": "stdout",
     "output_type": "stream",
     "text": [
      "Last updated at (ET): 2021-02-15 04:16:42 AM\n"
     ]
    }
   ],
   "source": [
    "#hide_input\n",
    "current_utc = pd.Timestamp.now(tz='America/New_York').strftime('%Y-%m-%d %I:%M:%S %p')\n",
    "print(f\"Last updated at (ET): {current_utc}\")"
   ]
  },
  {
   "cell_type": "markdown",
   "id": "expanded-direction",
   "metadata": {
    "papermill": {
     "duration": 0.014218,
     "end_time": "2021-02-15T09:16:42.757077",
     "exception": false,
     "start_time": "2021-02-15T09:16:42.742859",
     "status": "completed"
    },
    "tags": []
   },
   "source": [
    "# Data"
   ]
  },
  {
   "cell_type": "code",
   "execution_count": 3,
   "id": "swiss-wrestling",
   "metadata": {
    "execution": {
     "iopub.execute_input": "2021-02-15T09:16:42.790697Z",
     "iopub.status.busy": "2021-02-15T09:16:42.790104Z",
     "iopub.status.idle": "2021-02-15T09:16:48.643321Z",
     "shell.execute_reply": "2021-02-15T09:16:48.642492Z"
    },
    "papermill": {
     "duration": 5.872271,
     "end_time": "2021-02-15T09:16:48.643541",
     "exception": false,
     "start_time": "2021-02-15T09:16:42.771270",
     "status": "completed"
    },
    "tags": []
   },
   "outputs": [],
   "source": [
    "df = pd.read_csv('https://covidtracking.com/api/states/daily.csv')"
   ]
  },
  {
   "cell_type": "markdown",
   "id": "other-pantyhose",
   "metadata": {
    "papermill": {
     "duration": 0.014443,
     "end_time": "2021-02-15T09:16:48.673357",
     "exception": false,
     "start_time": "2021-02-15T09:16:48.658914",
     "status": "completed"
    },
    "tags": []
   },
   "source": [
    "# Helpers"
   ]
  },
  {
   "cell_type": "code",
   "execution_count": 4,
   "id": "republican-closing",
   "metadata": {
    "execution": {
     "iopub.execute_input": "2021-02-15T09:16:48.708877Z",
     "iopub.status.busy": "2021-02-15T09:16:48.708288Z",
     "iopub.status.idle": "2021-02-15T09:16:48.711583Z",
     "shell.execute_reply": "2021-02-15T09:16:48.712096Z"
    },
    "papermill": {
     "duration": 0.024581,
     "end_time": "2021-02-15T09:16:48.712264",
     "exception": false,
     "start_time": "2021-02-15T09:16:48.687683",
     "status": "completed"
    },
    "tags": []
   },
   "outputs": [],
   "source": [
    "#collapse\n",
    "def create_df(df: pd.DataFrame, \n",
    "              filter_f: Callable, \n",
    "              state_name: str):\n",
    "    out_df = (\n",
    "     df\n",
    "     .assign(date = lambda d: pd.to_datetime(d['date'], format='%Y%m%d'))\n",
    "     .loc[filter_f, :]\n",
    "     .groupby('date')\n",
    "     .apply(lambda d: pd.Series(dict(\n",
    "         totalTestResultsIncrease = d['totalTestResultsIncrease'].sum(),\n",
    "         positiveIncrease = d['positiveIncrease'].sum(),\n",
    "         death = d['death'].sum(),\n",
    "         deathIncrease = d['deathIncrease'].sum()\n",
    "     )))\n",
    "     .reset_index()\n",
    "     .assign(positiveRate = lambda d: round(d['positiveIncrease'] / d['totalTestResultsIncrease'], 3))\n",
    "     .sort_values('date', ascending=True)\n",
    "     .assign(state = state_name)\n",
    "     .reset_index(drop=True)\n",
    "    )\n",
    "    \n",
    "    return out_df"
   ]
  },
  {
   "cell_type": "code",
   "execution_count": 5,
   "id": "orange-personality",
   "metadata": {
    "execution": {
     "iopub.execute_input": "2021-02-15T09:16:48.751885Z",
     "iopub.status.busy": "2021-02-15T09:16:48.751311Z",
     "iopub.status.idle": "2021-02-15T09:16:48.753536Z",
     "shell.execute_reply": "2021-02-15T09:16:48.753054Z"
    },
    "papermill": {
     "duration": 0.027328,
     "end_time": "2021-02-15T09:16:48.753656",
     "exception": false,
     "start_time": "2021-02-15T09:16:48.726328",
     "status": "completed"
    },
    "tags": []
   },
   "outputs": [],
   "source": [
    "#collapse\n",
    "def create_plot(df: pd.DataFrame, \n",
    "                column: Literal['totalTestResultsIncrease', \n",
    "                                'positiveIncrease', \n",
    "                                'death',\n",
    "                                'deathIncrease', \n",
    "                                'positiveRate'],\n",
    "                period: int = 7*8):\n",
    "    df = (\n",
    "     df\n",
    "     .assign(sma7d = lambda d: d[column].rolling(window=7).mean().round(3))\n",
    "     .loc[lambda d: d['date'] >= pd.to_datetime('today') - period * pd.Timedelta('1 days'), :]\n",
    "     .reset_index(drop=True)\n",
    "    )\n",
    "    the_state = df['state'][0]\n",
    "    label = alt.selection_single(\n",
    "        encodings=['x'], on='mouseover', nearest=True, empty='none')\n",
    "    \n",
    "    base = alt.Chart().mark_point(size=75).encode(\n",
    "        x='date:T',\n",
    "        y=f'{column}:Q',\n",
    "        tooltip=['date', f'{column}:Q', 'sma7d:Q']\n",
    "    )\n",
    "\n",
    "    sma = alt.Chart().mark_line(color='purple').encode(\n",
    "        x='date:T',\n",
    "        y='sma7d:Q'\n",
    "    )\n",
    "\n",
    "    layers = alt.layer(\n",
    "        base + sma,\n",
    "\n",
    "        # add a rule mark to serve as a guide line\n",
    "        alt.Chart().mark_rule(color='#aaa').encode(\n",
    "            x='date:T'\n",
    "        ).transform_filter(label),\n",
    "\n",
    "        # add circle marks for selected time points, hide unselected points\n",
    "        base.mark_circle().encode(\n",
    "            opacity=alt.condition(label, alt.value(1), alt.value(0))\n",
    "        ).add_selection(label),\n",
    "\n",
    "        # add white stroked text to provide a legible background for labels\n",
    "        base.mark_text(align='left', dx=5, dy=-5, stroke='white', strokeWidth=2).encode(\n",
    "            text=f'{column}:Q'\n",
    "        ).transform_filter(label),\n",
    "\n",
    "        # add text labels\n",
    "        base.mark_text(align='left', dx=5, dy=-5).encode(\n",
    "            text=f'{column}:Q'\n",
    "        ).transform_filter(label),\n",
    "        \n",
    "        data=df\n",
    "    ).properties(\n",
    "        title=f'{the_state}: {column}',\n",
    "        width=500,\n",
    "        height=400\n",
    "    )\n",
    "    \n",
    "    return layers.interactive()"
   ]
  },
  {
   "cell_type": "markdown",
   "id": "exterior-duplicate",
   "metadata": {
    "papermill": {
     "duration": 0.014526,
     "end_time": "2021-02-15T09:16:48.782554",
     "exception": false,
     "start_time": "2021-02-15T09:16:48.768028",
     "status": "completed"
    },
    "tags": []
   },
   "source": [
    "# Plots"
   ]
  },
  {
   "cell_type": "markdown",
   "id": "technical-stewart",
   "metadata": {
    "papermill": {
     "duration": 0.014689,
     "end_time": "2021-02-15T09:16:48.811554",
     "exception": false,
     "start_time": "2021-02-15T09:16:48.796865",
     "status": "completed"
    },
    "tags": []
   },
   "source": [
    "## US"
   ]
  },
  {
   "cell_type": "code",
   "execution_count": 6,
   "id": "environmental-literacy",
   "metadata": {
    "execution": {
     "iopub.execute_input": "2021-02-15T09:16:48.844041Z",
     "iopub.status.busy": "2021-02-15T09:16:48.843489Z",
     "iopub.status.idle": "2021-02-15T09:16:49.282313Z",
     "shell.execute_reply": "2021-02-15T09:16:49.281511Z"
    },
    "papermill": {
     "duration": 0.457106,
     "end_time": "2021-02-15T09:16:49.282523",
     "exception": false,
     "start_time": "2021-02-15T09:16:48.825417",
     "status": "completed"
    },
    "tags": []
   },
   "outputs": [],
   "source": [
    "us = create_df(df, lambda d: d.index > 0, 'US')"
   ]
  },
  {
   "cell_type": "code",
   "execution_count": 7,
   "id": "signed-mystery",
   "metadata": {
    "execution": {
     "iopub.execute_input": "2021-02-15T09:16:49.329477Z",
     "iopub.status.busy": "2021-02-15T09:16:49.324415Z",
     "iopub.status.idle": "2021-02-15T09:16:49.419833Z",
     "shell.execute_reply": "2021-02-15T09:16:49.419370Z"
    },
    "papermill": {
     "duration": 0.122209,
     "end_time": "2021-02-15T09:16:49.419968",
     "exception": false,
     "start_time": "2021-02-15T09:16:49.297759",
     "status": "completed"
    },
    "tags": []
   },
   "outputs": [
    {
     "data": {
      "text/html": [
       "\n",
       "<div id=\"altair-viz-8adf86ec8e21431b9c196d12aa274327\"></div>\n",
       "<script type=\"text/javascript\">\n",
       "  (function(spec, embedOpt){\n",
       "    let outputDiv = document.currentScript.previousElementSibling;\n",
       "    if (outputDiv.id !== \"altair-viz-8adf86ec8e21431b9c196d12aa274327\") {\n",
       "      outputDiv = document.getElementById(\"altair-viz-8adf86ec8e21431b9c196d12aa274327\");\n",
       "    }\n",
       "    const paths = {\n",
       "      \"vega\": \"https://cdn.jsdelivr.net/npm//vega@5?noext\",\n",
       "      \"vega-lib\": \"https://cdn.jsdelivr.net/npm//vega-lib?noext\",\n",
       "      \"vega-lite\": \"https://cdn.jsdelivr.net/npm//vega-lite@4.8.1?noext\",\n",
       "      \"vega-embed\": \"https://cdn.jsdelivr.net/npm//vega-embed@6?noext\",\n",
       "    };\n",
       "\n",
       "    function loadScript(lib) {\n",
       "      return new Promise(function(resolve, reject) {\n",
       "        var s = document.createElement('script');\n",
       "        s.src = paths[lib];\n",
       "        s.async = true;\n",
       "        s.onload = () => resolve(paths[lib]);\n",
       "        s.onerror = () => reject(`Error loading script: ${paths[lib]}`);\n",
       "        document.getElementsByTagName(\"head\")[0].appendChild(s);\n",
       "      });\n",
       "    }\n",
       "\n",
       "    function showError(err) {\n",
       "      outputDiv.innerHTML = `<div class=\"error\" style=\"color:red;\">${err}</div>`;\n",
       "      throw err;\n",
       "    }\n",
       "\n",
       "    function displayChart(vegaEmbed) {\n",
       "      vegaEmbed(outputDiv, spec, embedOpt)\n",
       "        .catch(err => showError(`Javascript Error: ${err.message}<br>This usually means there's a typo in your chart specification. See the javascript console for the full traceback.`));\n",
       "    }\n",
       "\n",
       "    if(typeof define === \"function\" && define.amd) {\n",
       "      requirejs.config({paths});\n",
       "      require([\"vega-embed\"], displayChart, err => showError(`Error loading script: ${err.message}`));\n",
       "    } else if (typeof vegaEmbed === \"function\") {\n",
       "      displayChart(vegaEmbed);\n",
       "    } else {\n",
       "      loadScript(\"vega\")\n",
       "        .then(() => loadScript(\"vega-lite\"))\n",
       "        .then(() => loadScript(\"vega-embed\"))\n",
       "        .catch(showError)\n",
       "        .then(() => displayChart(vegaEmbed));\n",
       "    }\n",
       "  })({\"config\": {\"view\": {\"continuousWidth\": 400, \"continuousHeight\": 300}}, \"layer\": [{\"layer\": [{\"mark\": {\"type\": \"point\", \"size\": 75}, \"encoding\": {\"tooltip\": [{\"type\": \"temporal\", \"field\": \"date\"}, {\"type\": \"quantitative\", \"field\": \"positiveIncrease\"}, {\"type\": \"quantitative\", \"field\": \"sma7d\"}], \"x\": {\"type\": \"temporal\", \"field\": \"date\"}, \"y\": {\"type\": \"quantitative\", \"field\": \"positiveIncrease\"}}, \"selection\": {\"selector002\": {\"type\": \"interval\", \"bind\": \"scales\", \"encodings\": [\"x\", \"y\"]}}}, {\"mark\": {\"type\": \"line\", \"color\": \"purple\"}, \"encoding\": {\"x\": {\"type\": \"temporal\", \"field\": \"date\"}, \"y\": {\"type\": \"quantitative\", \"field\": \"sma7d\"}}}]}, {\"mark\": {\"type\": \"rule\", \"color\": \"#aaa\"}, \"encoding\": {\"x\": {\"type\": \"temporal\", \"field\": \"date\"}}, \"transform\": [{\"filter\": {\"selection\": \"selector001\"}}]}, {\"mark\": \"circle\", \"encoding\": {\"opacity\": {\"condition\": {\"value\": 1, \"selection\": \"selector001\"}, \"value\": 0}, \"tooltip\": [{\"type\": \"temporal\", \"field\": \"date\"}, {\"type\": \"quantitative\", \"field\": \"positiveIncrease\"}, {\"type\": \"quantitative\", \"field\": \"sma7d\"}], \"x\": {\"type\": \"temporal\", \"field\": \"date\"}, \"y\": {\"type\": \"quantitative\", \"field\": \"positiveIncrease\"}}, \"selection\": {\"selector001\": {\"type\": \"single\", \"encodings\": [\"x\"], \"on\": \"mouseover\", \"nearest\": true, \"empty\": \"none\"}}}, {\"mark\": {\"type\": \"text\", \"align\": \"left\", \"dx\": 5, \"dy\": -5, \"stroke\": \"white\", \"strokeWidth\": 2}, \"encoding\": {\"text\": {\"type\": \"quantitative\", \"field\": \"positiveIncrease\"}, \"tooltip\": [{\"type\": \"temporal\", \"field\": \"date\"}, {\"type\": \"quantitative\", \"field\": \"positiveIncrease\"}, {\"type\": \"quantitative\", \"field\": \"sma7d\"}], \"x\": {\"type\": \"temporal\", \"field\": \"date\"}, \"y\": {\"type\": \"quantitative\", \"field\": \"positiveIncrease\"}}, \"transform\": [{\"filter\": {\"selection\": \"selector001\"}}]}, {\"mark\": {\"type\": \"text\", \"align\": \"left\", \"dx\": 5, \"dy\": -5}, \"encoding\": {\"text\": {\"type\": \"quantitative\", \"field\": \"positiveIncrease\"}, \"tooltip\": [{\"type\": \"temporal\", \"field\": \"date\"}, {\"type\": \"quantitative\", \"field\": \"positiveIncrease\"}, {\"type\": \"quantitative\", \"field\": \"sma7d\"}], \"x\": {\"type\": \"temporal\", \"field\": \"date\"}, \"y\": {\"type\": \"quantitative\", \"field\": \"positiveIncrease\"}}, \"transform\": [{\"filter\": {\"selection\": \"selector001\"}}]}], \"data\": {\"name\": \"data-63d50e65f6ceb838d685b8a6cdda1a68\"}, \"height\": 400, \"title\": \"US: positiveIncrease\", \"width\": 500, \"$schema\": \"https://vega.github.io/schema/vega-lite/v4.8.1.json\", \"datasets\": {\"data-63d50e65f6ceb838d685b8a6cdda1a68\": [{\"date\": \"2020-12-22T00:00:00\", \"totalTestResultsIncrease\": 1758089.0, \"positiveIncrease\": 193008.0, \"death\": 314099.0, \"deathIncrease\": 3137.0, \"positiveRate\": 0.11, \"state\": \"US\", \"sma7d\": 213403.571}, {\"date\": \"2020-12-23T00:00:00\", \"totalTestResultsIncrease\": 1780319.0, \"positiveIncrease\": 224526.0, \"death\": 317492.0, \"deathIncrease\": 3393.0, \"positiveRate\": 0.126, \"state\": \"US\", \"sma7d\": 212009.0}, {\"date\": \"2020-12-24T00:00:00\", \"totalTestResultsIncrease\": 1972862.0, \"positiveIncrease\": 206684.0, \"death\": 320450.0, \"deathIncrease\": 2958.0, \"positiveRate\": 0.105, \"state\": \"US\", \"sma7d\": 206825.286}, {\"date\": \"2020-12-25T00:00:00\", \"totalTestResultsIncrease\": 1416144.0, \"positiveIncrease\": 126796.0, \"death\": 322003.0, \"deathIncrease\": 1553.0, \"positiveRate\": 0.09, \"state\": \"US\", \"sma7d\": 190398.143}, {\"date\": \"2020-12-26T00:00:00\", \"totalTestResultsIncrease\": 2157580.0, \"positiveIncrease\": 190594.0, \"death\": 323429.0, \"deathIncrease\": 1426.0, \"positiveRate\": 0.088, \"state\": \"US\", \"sma7d\": 188358.286}, {\"date\": \"2020-12-27T00:00:00\", \"totalTestResultsIncrease\": 1370750.0, \"positiveIncrease\": 153540.0, \"death\": 324826.0, \"deathIncrease\": 1397.0, \"positiveRate\": 0.112, \"state\": \"US\", \"sma7d\": 182079.143}, {\"date\": \"2020-12-28T00:00:00\", \"totalTestResultsIncrease\": 1493296.0, \"positiveIncrease\": 164127.0, \"death\": 326316.0, \"deathIncrease\": 1490.0, \"positiveRate\": 0.11, \"state\": \"US\", \"sma7d\": 179896.429}, {\"date\": \"2020-12-29T00:00:00\", \"totalTestResultsIncrease\": 1322227.0, \"positiveIncrease\": 199679.0, \"death\": 329605.0, \"deathIncrease\": 3289.0, \"positiveRate\": 0.151, \"state\": \"US\", \"sma7d\": 180849.429}, {\"date\": \"2020-12-30T00:00:00\", \"totalTestResultsIncrease\": 1568065.0, \"positiveIncrease\": 229496.0, \"death\": 333505.0, \"deathIncrease\": 3900.0, \"positiveRate\": 0.146, \"state\": \"US\", \"sma7d\": 181559.429}, {\"date\": \"2020-12-31T00:00:00\", \"totalTestResultsIncrease\": 1785816.0, \"positiveIncrease\": 226246.0, \"death\": 336802.0, \"deathIncrease\": 3297.0, \"positiveRate\": 0.127, \"state\": \"US\", \"sma7d\": 184354.0}, {\"date\": \"2021-01-01T00:00:00\", \"totalTestResultsIncrease\": 1395406.0, \"positiveIncrease\": 182906.0, \"death\": 339394.0, \"deathIncrease\": 2592.0, \"positiveRate\": 0.131, \"state\": \"US\", \"sma7d\": 192369.714}, {\"date\": \"2021-01-02T00:00:00\", \"totalTestResultsIncrease\": 2104010.0, \"positiveIncrease\": 280318.0, \"death\": 341800.0, \"deathIncrease\": 2406.0, \"positiveRate\": 0.133, \"state\": \"US\", \"sma7d\": 205187.429}, {\"date\": \"2021-01-03T00:00:00\", \"totalTestResultsIncrease\": 1429565.0, \"positiveIncrease\": 208457.0, \"death\": 343255.0, \"deathIncrease\": 1455.0, \"positiveRate\": 0.146, \"state\": \"US\", \"sma7d\": 213032.714}, {\"date\": \"2021-01-04T00:00:00\", \"totalTestResultsIncrease\": 1581745.0, \"positiveIncrease\": 179571.0, \"death\": 344802.0, \"deathIncrease\": 1547.0, \"positiveRate\": 0.114, \"state\": \"US\", \"sma7d\": 215239.0}, {\"date\": \"2021-01-05T00:00:00\", \"totalTestResultsIncrease\": 1714814.0, \"positiveIncrease\": 219075.0, \"death\": 348286.0, \"deathIncrease\": 3484.0, \"positiveRate\": 0.128, \"state\": \"US\", \"sma7d\": 218009.857}, {\"date\": \"2021-01-06T00:00:00\", \"totalTestResultsIncrease\": 1638284.0, \"positiveIncrease\": 250184.0, \"death\": 352188.0, \"deathIncrease\": 3902.0, \"positiveRate\": 0.153, \"state\": \"US\", \"sma7d\": 220965.286}, {\"date\": \"2021-01-07T00:00:00\", \"totalTestResultsIncrease\": 1946262.0, \"positiveIncrease\": 272043.0, \"death\": 356267.0, \"deathIncrease\": 4079.0, \"positiveRate\": 0.14, \"state\": \"US\", \"sma7d\": 227507.714}, {\"date\": \"2021-01-08T00:00:00\", \"totalTestResultsIncrease\": 2163546.0, \"positiveIncrease\": 295121.0, \"death\": 360047.0, \"deathIncrease\": 3780.0, \"positiveRate\": 0.136, \"state\": \"US\", \"sma7d\": 243538.429}, {\"date\": \"2021-01-09T00:00:00\", \"totalTestResultsIncrease\": 2111681.0, \"positiveIncrease\": 269368.0, \"death\": 363584.0, \"deathIncrease\": 3537.0, \"positiveRate\": 0.128, \"state\": \"US\", \"sma7d\": 241974.143}, {\"date\": \"2021-01-10T00:00:00\", \"totalTestResultsIncrease\": 2024548.0, \"positiveIncrease\": 228732.0, \"death\": 365652.0, \"deathIncrease\": 2068.0, \"positiveRate\": 0.113, \"state\": \"US\", \"sma7d\": 244870.571}, {\"date\": \"2021-01-11T00:00:00\", \"totalTestResultsIncrease\": 1867076.0, \"positiveIncrease\": 195255.0, \"death\": 367385.0, \"deathIncrease\": 1733.0, \"positiveRate\": 0.105, \"state\": \"US\", \"sma7d\": 247111.143}, {\"date\": \"2021-01-12T00:00:00\", \"totalTestResultsIncrease\": 1958786.0, \"positiveIncrease\": 218020.0, \"death\": 371449.0, \"deathIncrease\": 4064.0, \"positiveRate\": 0.111, \"state\": \"US\", \"sma7d\": 246960.429}, {\"date\": \"2021-01-13T00:00:00\", \"totalTestResultsIncrease\": 1839630.0, \"positiveIncrease\": 224491.0, \"death\": 375536.0, \"deathIncrease\": 4087.0, \"positiveRate\": 0.122, \"state\": \"US\", \"sma7d\": 243290.0}, {\"date\": \"2021-01-14T00:00:00\", \"totalTestResultsIncrease\": 2043945.0, \"positiveIncrease\": 225616.0, \"death\": 379451.0, \"deathIncrease\": 3915.0, \"positiveRate\": 0.11, \"state\": \"US\", \"sma7d\": 236657.571}, {\"date\": \"2021-01-15T00:00:00\", \"totalTestResultsIncrease\": 2322266.0, \"positiveIncrease\": 246454.0, \"death\": 383130.0, \"deathIncrease\": 3679.0, \"positiveRate\": 0.106, \"state\": \"US\", \"sma7d\": 229705.143}, {\"date\": \"2021-01-16T00:00:00\", \"totalTestResultsIncrease\": 2078818.0, \"positiveIncrease\": 218085.0, \"death\": 386839.0, \"deathIncrease\": 3709.0, \"positiveRate\": 0.105, \"state\": \"US\", \"sma7d\": 222379.0}, {\"date\": \"2021-01-17T00:00:00\", \"totalTestResultsIncrease\": 1892881.0, \"positiveIncrease\": 187218.0, \"death\": 388892.0, \"deathIncrease\": 2053.0, \"positiveRate\": 0.099, \"state\": \"US\", \"sma7d\": 216448.429}, {\"date\": \"2021-01-18T00:00:00\", \"totalTestResultsIncrease\": 2115985.0, \"positiveIncrease\": 150792.0, \"death\": 390287.0, \"deathIncrease\": 1395.0, \"positiveRate\": 0.071, \"state\": \"US\", \"sma7d\": 210096.571}, {\"date\": \"2021-01-19T00:00:00\", \"totalTestResultsIncrease\": 1727996.0, \"positiveIncrease\": 146626.0, \"death\": 392428.0, \"deathIncrease\": 2141.0, \"positiveRate\": 0.085, \"state\": \"US\", \"sma7d\": 199897.429}, {\"date\": \"2021-01-20T00:00:00\", \"totalTestResultsIncrease\": 1823829.0, \"positiveIncrease\": 189203.0, \"death\": 396837.0, \"deathIncrease\": 4409.0, \"positiveRate\": 0.104, \"state\": \"US\", \"sma7d\": 194856.286}, {\"date\": \"2021-01-21T00:00:00\", \"totalTestResultsIncrease\": 1935268.0, \"positiveIncrease\": 186275.0, \"death\": 400715.0, \"deathIncrease\": 3878.0, \"positiveRate\": 0.096, \"state\": \"US\", \"sma7d\": 189236.143}, {\"date\": \"2021-01-22T00:00:00\", \"totalTestResultsIncrease\": 2032714.0, \"positiveIncrease\": 190915.0, \"death\": 404695.0, \"deathIncrease\": 3980.0, \"positiveRate\": 0.094, \"state\": \"US\", \"sma7d\": 181302.0}, {\"date\": \"2021-01-23T00:00:00\", \"totalTestResultsIncrease\": 1968395.0, \"positiveIncrease\": 177118.0, \"death\": 408286.0, \"deathIncrease\": 3591.0, \"positiveRate\": 0.09, \"state\": \"US\", \"sma7d\": 175449.571}, {\"date\": \"2021-01-24T00:00:00\", \"totalTestResultsIncrease\": 1764476.0, \"positiveIncrease\": 144234.0, \"death\": 410230.0, \"deathIncrease\": 1944.0, \"positiveRate\": 0.082, \"state\": \"US\", \"sma7d\": 169309.0}, {\"date\": \"2021-01-25T00:00:00\", \"totalTestResultsIncrease\": 1720880.0, \"positiveIncrease\": 133454.0, \"death\": 411823.0, \"deathIncrease\": 1593.0, \"positiveRate\": 0.078, \"state\": \"US\", \"sma7d\": 166832.143}, {\"date\": \"2021-01-26T00:00:00\", \"totalTestResultsIncrease\": 1725082.0, \"positiveIncrease\": 146448.0, \"death\": 415557.0, \"deathIncrease\": 3734.0, \"positiveRate\": 0.085, \"state\": \"US\", \"sma7d\": 166806.714}, {\"date\": \"2021-01-27T00:00:00\", \"totalTestResultsIncrease\": 1654456.0, \"positiveIncrease\": 153985.0, \"death\": 419634.0, \"deathIncrease\": 4077.0, \"positiveRate\": 0.093, \"state\": \"US\", \"sma7d\": 161775.571}, {\"date\": \"2021-01-28T00:00:00\", \"totalTestResultsIncrease\": 1951285.0, \"positiveIncrease\": 157306.0, \"death\": 423645.0, \"deathIncrease\": 4011.0, \"positiveRate\": 0.081, \"state\": \"US\", \"sma7d\": 157637.143}, {\"date\": \"2021-01-29T00:00:00\", \"totalTestResultsIncrease\": 1952298.0, \"positiveIncrease\": 167111.0, \"death\": 427148.0, \"deathIncrease\": 3503.0, \"positiveRate\": 0.086, \"state\": \"US\", \"sma7d\": 154236.571}, {\"date\": \"2021-01-30T00:00:00\", \"totalTestResultsIncrease\": 2157704.0, \"positiveIncrease\": 148824.0, \"death\": 430130.0, \"deathIncrease\": 2982.0, \"positiveRate\": 0.069, \"state\": \"US\", \"sma7d\": 150194.571}, {\"date\": \"2021-01-31T00:00:00\", \"totalTestResultsIncrease\": 1716062.0, \"positiveIncrease\": 119367.0, \"death\": 432189.0, \"deathIncrease\": 2059.0, \"positiveRate\": 0.07, \"state\": \"US\", \"sma7d\": 146642.143}, {\"date\": \"2021-02-01T00:00:00\", \"totalTestResultsIncrease\": 1633780.0, \"positiveIncrease\": 120200.0, \"death\": 433751.0, \"deathIncrease\": 1562.0, \"positiveRate\": 0.074, \"state\": \"US\", \"sma7d\": 144748.714}, {\"date\": \"2021-02-02T00:00:00\", \"totalTestResultsIncrease\": 1402996.0, \"positiveIncrease\": 117616.0, \"death\": 437237.0, \"deathIncrease\": 3486.0, \"positiveRate\": 0.084, \"state\": \"US\", \"sma7d\": 140629.857}, {\"date\": \"2021-02-03T00:00:00\", \"totalTestResultsIncrease\": 1442998.0, \"positiveIncrease\": 116960.0, \"death\": 440922.0, \"deathIncrease\": 3685.0, \"positiveRate\": 0.081, \"state\": \"US\", \"sma7d\": 135340.571}, {\"date\": \"2021-02-04T00:00:00\", \"totalTestResultsIncrease\": 1678444.0, \"positiveIncrease\": 123907.0, \"death\": 446134.0, \"deathIncrease\": 5212.0, \"positiveRate\": 0.074, \"state\": \"US\", \"sma7d\": 130569.286}, {\"date\": \"2021-02-05T00:00:00\", \"totalTestResultsIncrease\": 1879114.0, \"positiveIncrease\": 131146.0, \"death\": 449677.0, \"deathIncrease\": 3543.0, \"positiveRate\": 0.07, \"state\": \"US\", \"sma7d\": 125431.429}, {\"date\": \"2021-02-06T00:00:00\", \"totalTestResultsIncrease\": 1881694.0, \"positiveIncrease\": 114557.0, \"death\": 452671.0, \"deathIncrease\": 2994.0, \"positiveRate\": 0.061, \"state\": \"US\", \"sma7d\": 120536.143}, {\"date\": \"2021-02-07T00:00:00\", \"totalTestResultsIncrease\": 1498467.0, \"positiveIncrease\": 95994.0, \"death\": 454146.0, \"deathIncrease\": 1475.0, \"positiveRate\": 0.064, \"state\": \"US\", \"sma7d\": 117197.143}, {\"date\": \"2021-02-08T00:00:00\", \"totalTestResultsIncrease\": 1434298.0, \"positiveIncrease\": 77737.0, \"death\": 455455.0, \"deathIncrease\": 1309.0, \"positiveRate\": 0.054, \"state\": \"US\", \"sma7d\": 111131.0}, {\"date\": \"2021-02-09T00:00:00\", \"totalTestResultsIncrease\": 1502502.0, \"positiveIncrease\": 92986.0, \"death\": 458250.0, \"deathIncrease\": 2795.0, \"positiveRate\": 0.062, \"state\": \"US\", \"sma7d\": 107612.429}, {\"date\": \"2021-02-10T00:00:00\", \"totalTestResultsIncrease\": 1393156.0, \"positiveIncrease\": 95194.0, \"death\": 461695.0, \"deathIncrease\": 3445.0, \"positiveRate\": 0.068, \"state\": \"US\", \"sma7d\": 104503.0}, {\"date\": \"2021-02-11T00:00:00\", \"totalTestResultsIncrease\": 1872586.0, \"positiveIncrease\": 102417.0, \"death\": 465568.0, \"deathIncrease\": 3873.0, \"positiveRate\": 0.055, \"state\": \"US\", \"sma7d\": 101433.0}, {\"date\": \"2021-02-12T00:00:00\", \"totalTestResultsIncrease\": 1818832.0, \"positiveIncrease\": 101030.0, \"death\": 470995.0, \"deathIncrease\": 5427.0, \"positiveRate\": 0.056, \"state\": \"US\", \"sma7d\": 97130.714}, {\"date\": \"2021-02-13T00:00:00\", \"totalTestResultsIncrease\": 1743784.0, \"positiveIncrease\": 90199.0, \"death\": 474423.0, \"deathIncrease\": 3428.0, \"positiveRate\": 0.052, \"state\": \"US\", \"sma7d\": 93651.0}, {\"date\": \"2021-02-14T00:00:00\", \"totalTestResultsIncrease\": 1419862.0, \"positiveIncrease\": 71844.0, \"death\": 475504.0, \"deathIncrease\": 1363.0, \"positiveRate\": 0.051, \"state\": \"US\", \"sma7d\": 90201.0}]}}, {\"mode\": \"vega-lite\"});\n",
       "</script>"
      ],
      "text/plain": [
       "alt.LayerChart(...)"
      ]
     },
     "execution_count": 7,
     "metadata": {},
     "output_type": "execute_result"
    }
   ],
   "source": [
    "create_plot(us, 'positiveIncrease')"
   ]
  },
  {
   "cell_type": "code",
   "execution_count": 8,
   "id": "central-devices",
   "metadata": {
    "execution": {
     "iopub.execute_input": "2021-02-15T09:16:49.478038Z",
     "iopub.status.busy": "2021-02-15T09:16:49.467513Z",
     "iopub.status.idle": "2021-02-15T09:16:49.547049Z",
     "shell.execute_reply": "2021-02-15T09:16:49.547494Z"
    },
    "papermill": {
     "duration": 0.112993,
     "end_time": "2021-02-15T09:16:49.547656",
     "exception": false,
     "start_time": "2021-02-15T09:16:49.434663",
     "status": "completed"
    },
    "tags": []
   },
   "outputs": [
    {
     "data": {
      "text/html": [
       "\n",
       "<div id=\"altair-viz-4eeb7b575800401c891fa2f973376be3\"></div>\n",
       "<script type=\"text/javascript\">\n",
       "  (function(spec, embedOpt){\n",
       "    let outputDiv = document.currentScript.previousElementSibling;\n",
       "    if (outputDiv.id !== \"altair-viz-4eeb7b575800401c891fa2f973376be3\") {\n",
       "      outputDiv = document.getElementById(\"altair-viz-4eeb7b575800401c891fa2f973376be3\");\n",
       "    }\n",
       "    const paths = {\n",
       "      \"vega\": \"https://cdn.jsdelivr.net/npm//vega@5?noext\",\n",
       "      \"vega-lib\": \"https://cdn.jsdelivr.net/npm//vega-lib?noext\",\n",
       "      \"vega-lite\": \"https://cdn.jsdelivr.net/npm//vega-lite@4.8.1?noext\",\n",
       "      \"vega-embed\": \"https://cdn.jsdelivr.net/npm//vega-embed@6?noext\",\n",
       "    };\n",
       "\n",
       "    function loadScript(lib) {\n",
       "      return new Promise(function(resolve, reject) {\n",
       "        var s = document.createElement('script');\n",
       "        s.src = paths[lib];\n",
       "        s.async = true;\n",
       "        s.onload = () => resolve(paths[lib]);\n",
       "        s.onerror = () => reject(`Error loading script: ${paths[lib]}`);\n",
       "        document.getElementsByTagName(\"head\")[0].appendChild(s);\n",
       "      });\n",
       "    }\n",
       "\n",
       "    function showError(err) {\n",
       "      outputDiv.innerHTML = `<div class=\"error\" style=\"color:red;\">${err}</div>`;\n",
       "      throw err;\n",
       "    }\n",
       "\n",
       "    function displayChart(vegaEmbed) {\n",
       "      vegaEmbed(outputDiv, spec, embedOpt)\n",
       "        .catch(err => showError(`Javascript Error: ${err.message}<br>This usually means there's a typo in your chart specification. See the javascript console for the full traceback.`));\n",
       "    }\n",
       "\n",
       "    if(typeof define === \"function\" && define.amd) {\n",
       "      requirejs.config({paths});\n",
       "      require([\"vega-embed\"], displayChart, err => showError(`Error loading script: ${err.message}`));\n",
       "    } else if (typeof vegaEmbed === \"function\") {\n",
       "      displayChart(vegaEmbed);\n",
       "    } else {\n",
       "      loadScript(\"vega\")\n",
       "        .then(() => loadScript(\"vega-lite\"))\n",
       "        .then(() => loadScript(\"vega-embed\"))\n",
       "        .catch(showError)\n",
       "        .then(() => displayChart(vegaEmbed));\n",
       "    }\n",
       "  })({\"config\": {\"view\": {\"continuousWidth\": 400, \"continuousHeight\": 300}}, \"layer\": [{\"layer\": [{\"mark\": {\"type\": \"point\", \"size\": 75}, \"encoding\": {\"tooltip\": [{\"type\": \"temporal\", \"field\": \"date\"}, {\"type\": \"quantitative\", \"field\": \"positiveRate\"}, {\"type\": \"quantitative\", \"field\": \"sma7d\"}], \"x\": {\"type\": \"temporal\", \"field\": \"date\"}, \"y\": {\"type\": \"quantitative\", \"field\": \"positiveRate\"}}, \"selection\": {\"selector004\": {\"type\": \"interval\", \"bind\": \"scales\", \"encodings\": [\"x\", \"y\"]}}}, {\"mark\": {\"type\": \"line\", \"color\": \"purple\"}, \"encoding\": {\"x\": {\"type\": \"temporal\", \"field\": \"date\"}, \"y\": {\"type\": \"quantitative\", \"field\": \"sma7d\"}}}]}, {\"mark\": {\"type\": \"rule\", \"color\": \"#aaa\"}, \"encoding\": {\"x\": {\"type\": \"temporal\", \"field\": \"date\"}}, \"transform\": [{\"filter\": {\"selection\": \"selector003\"}}]}, {\"mark\": \"circle\", \"encoding\": {\"opacity\": {\"condition\": {\"value\": 1, \"selection\": \"selector003\"}, \"value\": 0}, \"tooltip\": [{\"type\": \"temporal\", \"field\": \"date\"}, {\"type\": \"quantitative\", \"field\": \"positiveRate\"}, {\"type\": \"quantitative\", \"field\": \"sma7d\"}], \"x\": {\"type\": \"temporal\", \"field\": \"date\"}, \"y\": {\"type\": \"quantitative\", \"field\": \"positiveRate\"}}, \"selection\": {\"selector003\": {\"type\": \"single\", \"encodings\": [\"x\"], \"on\": \"mouseover\", \"nearest\": true, \"empty\": \"none\"}}}, {\"mark\": {\"type\": \"text\", \"align\": \"left\", \"dx\": 5, \"dy\": -5, \"stroke\": \"white\", \"strokeWidth\": 2}, \"encoding\": {\"text\": {\"type\": \"quantitative\", \"field\": \"positiveRate\"}, \"tooltip\": [{\"type\": \"temporal\", \"field\": \"date\"}, {\"type\": \"quantitative\", \"field\": \"positiveRate\"}, {\"type\": \"quantitative\", \"field\": \"sma7d\"}], \"x\": {\"type\": \"temporal\", \"field\": \"date\"}, \"y\": {\"type\": \"quantitative\", \"field\": \"positiveRate\"}}, \"transform\": [{\"filter\": {\"selection\": \"selector003\"}}]}, {\"mark\": {\"type\": \"text\", \"align\": \"left\", \"dx\": 5, \"dy\": -5}, \"encoding\": {\"text\": {\"type\": \"quantitative\", \"field\": \"positiveRate\"}, \"tooltip\": [{\"type\": \"temporal\", \"field\": \"date\"}, {\"type\": \"quantitative\", \"field\": \"positiveRate\"}, {\"type\": \"quantitative\", \"field\": \"sma7d\"}], \"x\": {\"type\": \"temporal\", \"field\": \"date\"}, \"y\": {\"type\": \"quantitative\", \"field\": \"positiveRate\"}}, \"transform\": [{\"filter\": {\"selection\": \"selector003\"}}]}], \"data\": {\"name\": \"data-21d49f07188398aa1e533bc4f7ab32b6\"}, \"height\": 400, \"title\": \"US: positiveRate\", \"width\": 500, \"$schema\": \"https://vega.github.io/schema/vega-lite/v4.8.1.json\", \"datasets\": {\"data-21d49f07188398aa1e533bc4f7ab32b6\": [{\"date\": \"2020-12-22T00:00:00\", \"totalTestResultsIncrease\": 1758089.0, \"positiveIncrease\": 193008.0, \"death\": 314099.0, \"deathIncrease\": 3137.0, \"positiveRate\": 0.11, \"state\": \"US\", \"sma7d\": 0.112}, {\"date\": \"2020-12-23T00:00:00\", \"totalTestResultsIncrease\": 1780319.0, \"positiveIncrease\": 224526.0, \"death\": 317492.0, \"deathIncrease\": 3393.0, \"positiveRate\": 0.126, \"state\": \"US\", \"sma7d\": 0.112}, {\"date\": \"2020-12-24T00:00:00\", \"totalTestResultsIncrease\": 1972862.0, \"positiveIncrease\": 206684.0, \"death\": 320450.0, \"deathIncrease\": 2958.0, \"positiveRate\": 0.105, \"state\": \"US\", \"sma7d\": 0.108}, {\"date\": \"2020-12-25T00:00:00\", \"totalTestResultsIncrease\": 1416144.0, \"positiveIncrease\": 126796.0, \"death\": 322003.0, \"deathIncrease\": 1553.0, \"positiveRate\": 0.09, \"state\": \"US\", \"sma7d\": 0.106}, {\"date\": \"2020-12-26T00:00:00\", \"totalTestResultsIncrease\": 2157580.0, \"positiveIncrease\": 190594.0, \"death\": 323429.0, \"deathIncrease\": 1426.0, \"positiveRate\": 0.088, \"state\": \"US\", \"sma7d\": 0.102}, {\"date\": \"2020-12-27T00:00:00\", \"totalTestResultsIncrease\": 1370750.0, \"positiveIncrease\": 153540.0, \"death\": 324826.0, \"deathIncrease\": 1397.0, \"positiveRate\": 0.112, \"state\": \"US\", \"sma7d\": 0.103}, {\"date\": \"2020-12-28T00:00:00\", \"totalTestResultsIncrease\": 1493296.0, \"positiveIncrease\": 164127.0, \"death\": 326316.0, \"deathIncrease\": 1490.0, \"positiveRate\": 0.11, \"state\": \"US\", \"sma7d\": 0.106}, {\"date\": \"2020-12-29T00:00:00\", \"totalTestResultsIncrease\": 1322227.0, \"positiveIncrease\": 199679.0, \"death\": 329605.0, \"deathIncrease\": 3289.0, \"positiveRate\": 0.151, \"state\": \"US\", \"sma7d\": 0.112}, {\"date\": \"2020-12-30T00:00:00\", \"totalTestResultsIncrease\": 1568065.0, \"positiveIncrease\": 229496.0, \"death\": 333505.0, \"deathIncrease\": 3900.0, \"positiveRate\": 0.146, \"state\": \"US\", \"sma7d\": 0.115}, {\"date\": \"2020-12-31T00:00:00\", \"totalTestResultsIncrease\": 1785816.0, \"positiveIncrease\": 226246.0, \"death\": 336802.0, \"deathIncrease\": 3297.0, \"positiveRate\": 0.127, \"state\": \"US\", \"sma7d\": 0.118}, {\"date\": \"2021-01-01T00:00:00\", \"totalTestResultsIncrease\": 1395406.0, \"positiveIncrease\": 182906.0, \"death\": 339394.0, \"deathIncrease\": 2592.0, \"positiveRate\": 0.131, \"state\": \"US\", \"sma7d\": 0.124}, {\"date\": \"2021-01-02T00:00:00\", \"totalTestResultsIncrease\": 2104010.0, \"positiveIncrease\": 280318.0, \"death\": 341800.0, \"deathIncrease\": 2406.0, \"positiveRate\": 0.133, \"state\": \"US\", \"sma7d\": 0.13}, {\"date\": \"2021-01-03T00:00:00\", \"totalTestResultsIncrease\": 1429565.0, \"positiveIncrease\": 208457.0, \"death\": 343255.0, \"deathIncrease\": 1455.0, \"positiveRate\": 0.146, \"state\": \"US\", \"sma7d\": 0.135}, {\"date\": \"2021-01-04T00:00:00\", \"totalTestResultsIncrease\": 1581745.0, \"positiveIncrease\": 179571.0, \"death\": 344802.0, \"deathIncrease\": 1547.0, \"positiveRate\": 0.114, \"state\": \"US\", \"sma7d\": 0.135}, {\"date\": \"2021-01-05T00:00:00\", \"totalTestResultsIncrease\": 1714814.0, \"positiveIncrease\": 219075.0, \"death\": 348286.0, \"deathIncrease\": 3484.0, \"positiveRate\": 0.128, \"state\": \"US\", \"sma7d\": 0.132}, {\"date\": \"2021-01-06T00:00:00\", \"totalTestResultsIncrease\": 1638284.0, \"positiveIncrease\": 250184.0, \"death\": 352188.0, \"deathIncrease\": 3902.0, \"positiveRate\": 0.153, \"state\": \"US\", \"sma7d\": 0.133}, {\"date\": \"2021-01-07T00:00:00\", \"totalTestResultsIncrease\": 1946262.0, \"positiveIncrease\": 272043.0, \"death\": 356267.0, \"deathIncrease\": 4079.0, \"positiveRate\": 0.14, \"state\": \"US\", \"sma7d\": 0.135}, {\"date\": \"2021-01-08T00:00:00\", \"totalTestResultsIncrease\": 2163546.0, \"positiveIncrease\": 295121.0, \"death\": 360047.0, \"deathIncrease\": 3780.0, \"positiveRate\": 0.136, \"state\": \"US\", \"sma7d\": 0.136}, {\"date\": \"2021-01-09T00:00:00\", \"totalTestResultsIncrease\": 2111681.0, \"positiveIncrease\": 269368.0, \"death\": 363584.0, \"deathIncrease\": 3537.0, \"positiveRate\": 0.128, \"state\": \"US\", \"sma7d\": 0.135}, {\"date\": \"2021-01-10T00:00:00\", \"totalTestResultsIncrease\": 2024548.0, \"positiveIncrease\": 228732.0, \"death\": 365652.0, \"deathIncrease\": 2068.0, \"positiveRate\": 0.113, \"state\": \"US\", \"sma7d\": 0.13}, {\"date\": \"2021-01-11T00:00:00\", \"totalTestResultsIncrease\": 1867076.0, \"positiveIncrease\": 195255.0, \"death\": 367385.0, \"deathIncrease\": 1733.0, \"positiveRate\": 0.105, \"state\": \"US\", \"sma7d\": 0.129}, {\"date\": \"2021-01-12T00:00:00\", \"totalTestResultsIncrease\": 1958786.0, \"positiveIncrease\": 218020.0, \"death\": 371449.0, \"deathIncrease\": 4064.0, \"positiveRate\": 0.111, \"state\": \"US\", \"sma7d\": 0.127}, {\"date\": \"2021-01-13T00:00:00\", \"totalTestResultsIncrease\": 1839630.0, \"positiveIncrease\": 224491.0, \"death\": 375536.0, \"deathIncrease\": 4087.0, \"positiveRate\": 0.122, \"state\": \"US\", \"sma7d\": 0.122}, {\"date\": \"2021-01-14T00:00:00\", \"totalTestResultsIncrease\": 2043945.0, \"positiveIncrease\": 225616.0, \"death\": 379451.0, \"deathIncrease\": 3915.0, \"positiveRate\": 0.11, \"state\": \"US\", \"sma7d\": 0.118}, {\"date\": \"2021-01-15T00:00:00\", \"totalTestResultsIncrease\": 2322266.0, \"positiveIncrease\": 246454.0, \"death\": 383130.0, \"deathIncrease\": 3679.0, \"positiveRate\": 0.106, \"state\": \"US\", \"sma7d\": 0.114}, {\"date\": \"2021-01-16T00:00:00\", \"totalTestResultsIncrease\": 2078818.0, \"positiveIncrease\": 218085.0, \"death\": 386839.0, \"deathIncrease\": 3709.0, \"positiveRate\": 0.105, \"state\": \"US\", \"sma7d\": 0.11}, {\"date\": \"2021-01-17T00:00:00\", \"totalTestResultsIncrease\": 1892881.0, \"positiveIncrease\": 187218.0, \"death\": 388892.0, \"deathIncrease\": 2053.0, \"positiveRate\": 0.099, \"state\": \"US\", \"sma7d\": 0.108}, {\"date\": \"2021-01-18T00:00:00\", \"totalTestResultsIncrease\": 2115985.0, \"positiveIncrease\": 150792.0, \"death\": 390287.0, \"deathIncrease\": 1395.0, \"positiveRate\": 0.071, \"state\": \"US\", \"sma7d\": 0.103}, {\"date\": \"2021-01-19T00:00:00\", \"totalTestResultsIncrease\": 1727996.0, \"positiveIncrease\": 146626.0, \"death\": 392428.0, \"deathIncrease\": 2141.0, \"positiveRate\": 0.085, \"state\": \"US\", \"sma7d\": 0.1}, {\"date\": \"2021-01-20T00:00:00\", \"totalTestResultsIncrease\": 1823829.0, \"positiveIncrease\": 189203.0, \"death\": 396837.0, \"deathIncrease\": 4409.0, \"positiveRate\": 0.104, \"state\": \"US\", \"sma7d\": 0.097}, {\"date\": \"2021-01-21T00:00:00\", \"totalTestResultsIncrease\": 1935268.0, \"positiveIncrease\": 186275.0, \"death\": 400715.0, \"deathIncrease\": 3878.0, \"positiveRate\": 0.096, \"state\": \"US\", \"sma7d\": 0.095}, {\"date\": \"2021-01-22T00:00:00\", \"totalTestResultsIncrease\": 2032714.0, \"positiveIncrease\": 190915.0, \"death\": 404695.0, \"deathIncrease\": 3980.0, \"positiveRate\": 0.094, \"state\": \"US\", \"sma7d\": 0.093}, {\"date\": \"2021-01-23T00:00:00\", \"totalTestResultsIncrease\": 1968395.0, \"positiveIncrease\": 177118.0, \"death\": 408286.0, \"deathIncrease\": 3591.0, \"positiveRate\": 0.09, \"state\": \"US\", \"sma7d\": 0.091}, {\"date\": \"2021-01-24T00:00:00\", \"totalTestResultsIncrease\": 1764476.0, \"positiveIncrease\": 144234.0, \"death\": 410230.0, \"deathIncrease\": 1944.0, \"positiveRate\": 0.082, \"state\": \"US\", \"sma7d\": 0.089}, {\"date\": \"2021-01-25T00:00:00\", \"totalTestResultsIncrease\": 1720880.0, \"positiveIncrease\": 133454.0, \"death\": 411823.0, \"deathIncrease\": 1593.0, \"positiveRate\": 0.078, \"state\": \"US\", \"sma7d\": 0.09}, {\"date\": \"2021-01-26T00:00:00\", \"totalTestResultsIncrease\": 1725082.0, \"positiveIncrease\": 146448.0, \"death\": 415557.0, \"deathIncrease\": 3734.0, \"positiveRate\": 0.085, \"state\": \"US\", \"sma7d\": 0.09}, {\"date\": \"2021-01-27T00:00:00\", \"totalTestResultsIncrease\": 1654456.0, \"positiveIncrease\": 153985.0, \"death\": 419634.0, \"deathIncrease\": 4077.0, \"positiveRate\": 0.093, \"state\": \"US\", \"sma7d\": 0.088}, {\"date\": \"2021-01-28T00:00:00\", \"totalTestResultsIncrease\": 1951285.0, \"positiveIncrease\": 157306.0, \"death\": 423645.0, \"deathIncrease\": 4011.0, \"positiveRate\": 0.081, \"state\": \"US\", \"sma7d\": 0.086}, {\"date\": \"2021-01-29T00:00:00\", \"totalTestResultsIncrease\": 1952298.0, \"positiveIncrease\": 167111.0, \"death\": 427148.0, \"deathIncrease\": 3503.0, \"positiveRate\": 0.086, \"state\": \"US\", \"sma7d\": 0.085}, {\"date\": \"2021-01-30T00:00:00\", \"totalTestResultsIncrease\": 2157704.0, \"positiveIncrease\": 148824.0, \"death\": 430130.0, \"deathIncrease\": 2982.0, \"positiveRate\": 0.069, \"state\": \"US\", \"sma7d\": 0.082}, {\"date\": \"2021-01-31T00:00:00\", \"totalTestResultsIncrease\": 1716062.0, \"positiveIncrease\": 119367.0, \"death\": 432189.0, \"deathIncrease\": 2059.0, \"positiveRate\": 0.07, \"state\": \"US\", \"sma7d\": 0.08}, {\"date\": \"2021-02-01T00:00:00\", \"totalTestResultsIncrease\": 1633780.0, \"positiveIncrease\": 120200.0, \"death\": 433751.0, \"deathIncrease\": 1562.0, \"positiveRate\": 0.074, \"state\": \"US\", \"sma7d\": 0.08}, {\"date\": \"2021-02-02T00:00:00\", \"totalTestResultsIncrease\": 1402996.0, \"positiveIncrease\": 117616.0, \"death\": 437237.0, \"deathIncrease\": 3486.0, \"positiveRate\": 0.084, \"state\": \"US\", \"sma7d\": 0.08}, {\"date\": \"2021-02-03T00:00:00\", \"totalTestResultsIncrease\": 1442998.0, \"positiveIncrease\": 116960.0, \"death\": 440922.0, \"deathIncrease\": 3685.0, \"positiveRate\": 0.081, \"state\": \"US\", \"sma7d\": 0.078}, {\"date\": \"2021-02-04T00:00:00\", \"totalTestResultsIncrease\": 1678444.0, \"positiveIncrease\": 123907.0, \"death\": 446134.0, \"deathIncrease\": 5212.0, \"positiveRate\": 0.074, \"state\": \"US\", \"sma7d\": 0.077}, {\"date\": \"2021-02-05T00:00:00\", \"totalTestResultsIncrease\": 1879114.0, \"positiveIncrease\": 131146.0, \"death\": 449677.0, \"deathIncrease\": 3543.0, \"positiveRate\": 0.07, \"state\": \"US\", \"sma7d\": 0.075}, {\"date\": \"2021-02-06T00:00:00\", \"totalTestResultsIncrease\": 1881694.0, \"positiveIncrease\": 114557.0, \"death\": 452671.0, \"deathIncrease\": 2994.0, \"positiveRate\": 0.061, \"state\": \"US\", \"sma7d\": 0.073}, {\"date\": \"2021-02-07T00:00:00\", \"totalTestResultsIncrease\": 1498467.0, \"positiveIncrease\": 95994.0, \"death\": 454146.0, \"deathIncrease\": 1475.0, \"positiveRate\": 0.064, \"state\": \"US\", \"sma7d\": 0.073}, {\"date\": \"2021-02-08T00:00:00\", \"totalTestResultsIncrease\": 1434298.0, \"positiveIncrease\": 77737.0, \"death\": 455455.0, \"deathIncrease\": 1309.0, \"positiveRate\": 0.054, \"state\": \"US\", \"sma7d\": 0.07}, {\"date\": \"2021-02-09T00:00:00\", \"totalTestResultsIncrease\": 1502502.0, \"positiveIncrease\": 92986.0, \"death\": 458250.0, \"deathIncrease\": 2795.0, \"positiveRate\": 0.062, \"state\": \"US\", \"sma7d\": 0.067}, {\"date\": \"2021-02-10T00:00:00\", \"totalTestResultsIncrease\": 1393156.0, \"positiveIncrease\": 95194.0, \"death\": 461695.0, \"deathIncrease\": 3445.0, \"positiveRate\": 0.068, \"state\": \"US\", \"sma7d\": 0.065}, {\"date\": \"2021-02-11T00:00:00\", \"totalTestResultsIncrease\": 1872586.0, \"positiveIncrease\": 102417.0, \"death\": 465568.0, \"deathIncrease\": 3873.0, \"positiveRate\": 0.055, \"state\": \"US\", \"sma7d\": 0.062}, {\"date\": \"2021-02-12T00:00:00\", \"totalTestResultsIncrease\": 1818832.0, \"positiveIncrease\": 101030.0, \"death\": 470995.0, \"deathIncrease\": 5427.0, \"positiveRate\": 0.056, \"state\": \"US\", \"sma7d\": 0.06}, {\"date\": \"2021-02-13T00:00:00\", \"totalTestResultsIncrease\": 1743784.0, \"positiveIncrease\": 90199.0, \"death\": 474423.0, \"deathIncrease\": 3428.0, \"positiveRate\": 0.052, \"state\": \"US\", \"sma7d\": 0.059}, {\"date\": \"2021-02-14T00:00:00\", \"totalTestResultsIncrease\": 1419862.0, \"positiveIncrease\": 71844.0, \"death\": 475504.0, \"deathIncrease\": 1363.0, \"positiveRate\": 0.051, \"state\": \"US\", \"sma7d\": 0.057}]}}, {\"mode\": \"vega-lite\"});\n",
       "</script>"
      ],
      "text/plain": [
       "alt.LayerChart(...)"
      ]
     },
     "execution_count": 8,
     "metadata": {},
     "output_type": "execute_result"
    }
   ],
   "source": [
    "create_plot(us, 'positiveRate')"
   ]
  },
  {
   "cell_type": "code",
   "execution_count": 9,
   "id": "medium-lodge",
   "metadata": {
    "execution": {
     "iopub.execute_input": "2021-02-15T09:16:49.584809Z",
     "iopub.status.busy": "2021-02-15T09:16:49.584268Z",
     "iopub.status.idle": "2021-02-15T09:16:49.677990Z",
     "shell.execute_reply": "2021-02-15T09:16:49.678788Z"
    },
    "papermill": {
     "duration": 0.115234,
     "end_time": "2021-02-15T09:16:49.679038",
     "exception": false,
     "start_time": "2021-02-15T09:16:49.563804",
     "status": "completed"
    },
    "tags": []
   },
   "outputs": [
    {
     "data": {
      "text/html": [
       "\n",
       "<div id=\"altair-viz-af6c8602f057455ebd1fb1977087eec0\"></div>\n",
       "<script type=\"text/javascript\">\n",
       "  (function(spec, embedOpt){\n",
       "    let outputDiv = document.currentScript.previousElementSibling;\n",
       "    if (outputDiv.id !== \"altair-viz-af6c8602f057455ebd1fb1977087eec0\") {\n",
       "      outputDiv = document.getElementById(\"altair-viz-af6c8602f057455ebd1fb1977087eec0\");\n",
       "    }\n",
       "    const paths = {\n",
       "      \"vega\": \"https://cdn.jsdelivr.net/npm//vega@5?noext\",\n",
       "      \"vega-lib\": \"https://cdn.jsdelivr.net/npm//vega-lib?noext\",\n",
       "      \"vega-lite\": \"https://cdn.jsdelivr.net/npm//vega-lite@4.8.1?noext\",\n",
       "      \"vega-embed\": \"https://cdn.jsdelivr.net/npm//vega-embed@6?noext\",\n",
       "    };\n",
       "\n",
       "    function loadScript(lib) {\n",
       "      return new Promise(function(resolve, reject) {\n",
       "        var s = document.createElement('script');\n",
       "        s.src = paths[lib];\n",
       "        s.async = true;\n",
       "        s.onload = () => resolve(paths[lib]);\n",
       "        s.onerror = () => reject(`Error loading script: ${paths[lib]}`);\n",
       "        document.getElementsByTagName(\"head\")[0].appendChild(s);\n",
       "      });\n",
       "    }\n",
       "\n",
       "    function showError(err) {\n",
       "      outputDiv.innerHTML = `<div class=\"error\" style=\"color:red;\">${err}</div>`;\n",
       "      throw err;\n",
       "    }\n",
       "\n",
       "    function displayChart(vegaEmbed) {\n",
       "      vegaEmbed(outputDiv, spec, embedOpt)\n",
       "        .catch(err => showError(`Javascript Error: ${err.message}<br>This usually means there's a typo in your chart specification. See the javascript console for the full traceback.`));\n",
       "    }\n",
       "\n",
       "    if(typeof define === \"function\" && define.amd) {\n",
       "      requirejs.config({paths});\n",
       "      require([\"vega-embed\"], displayChart, err => showError(`Error loading script: ${err.message}`));\n",
       "    } else if (typeof vegaEmbed === \"function\") {\n",
       "      displayChart(vegaEmbed);\n",
       "    } else {\n",
       "      loadScript(\"vega\")\n",
       "        .then(() => loadScript(\"vega-lite\"))\n",
       "        .then(() => loadScript(\"vega-embed\"))\n",
       "        .catch(showError)\n",
       "        .then(() => displayChart(vegaEmbed));\n",
       "    }\n",
       "  })({\"config\": {\"view\": {\"continuousWidth\": 400, \"continuousHeight\": 300}}, \"layer\": [{\"layer\": [{\"mark\": {\"type\": \"point\", \"size\": 75}, \"encoding\": {\"tooltip\": [{\"type\": \"temporal\", \"field\": \"date\"}, {\"type\": \"quantitative\", \"field\": \"deathIncrease\"}, {\"type\": \"quantitative\", \"field\": \"sma7d\"}], \"x\": {\"type\": \"temporal\", \"field\": \"date\"}, \"y\": {\"type\": \"quantitative\", \"field\": \"deathIncrease\"}}, \"selection\": {\"selector006\": {\"type\": \"interval\", \"bind\": \"scales\", \"encodings\": [\"x\", \"y\"]}}}, {\"mark\": {\"type\": \"line\", \"color\": \"purple\"}, \"encoding\": {\"x\": {\"type\": \"temporal\", \"field\": \"date\"}, \"y\": {\"type\": \"quantitative\", \"field\": \"sma7d\"}}}]}, {\"mark\": {\"type\": \"rule\", \"color\": \"#aaa\"}, \"encoding\": {\"x\": {\"type\": \"temporal\", \"field\": \"date\"}}, \"transform\": [{\"filter\": {\"selection\": \"selector005\"}}]}, {\"mark\": \"circle\", \"encoding\": {\"opacity\": {\"condition\": {\"value\": 1, \"selection\": \"selector005\"}, \"value\": 0}, \"tooltip\": [{\"type\": \"temporal\", \"field\": \"date\"}, {\"type\": \"quantitative\", \"field\": \"deathIncrease\"}, {\"type\": \"quantitative\", \"field\": \"sma7d\"}], \"x\": {\"type\": \"temporal\", \"field\": \"date\"}, \"y\": {\"type\": \"quantitative\", \"field\": \"deathIncrease\"}}, \"selection\": {\"selector005\": {\"type\": \"single\", \"encodings\": [\"x\"], \"on\": \"mouseover\", \"nearest\": true, \"empty\": \"none\"}}}, {\"mark\": {\"type\": \"text\", \"align\": \"left\", \"dx\": 5, \"dy\": -5, \"stroke\": \"white\", \"strokeWidth\": 2}, \"encoding\": {\"text\": {\"type\": \"quantitative\", \"field\": \"deathIncrease\"}, \"tooltip\": [{\"type\": \"temporal\", \"field\": \"date\"}, {\"type\": \"quantitative\", \"field\": \"deathIncrease\"}, {\"type\": \"quantitative\", \"field\": \"sma7d\"}], \"x\": {\"type\": \"temporal\", \"field\": \"date\"}, \"y\": {\"type\": \"quantitative\", \"field\": \"deathIncrease\"}}, \"transform\": [{\"filter\": {\"selection\": \"selector005\"}}]}, {\"mark\": {\"type\": \"text\", \"align\": \"left\", \"dx\": 5, \"dy\": -5}, \"encoding\": {\"text\": {\"type\": \"quantitative\", \"field\": \"deathIncrease\"}, \"tooltip\": [{\"type\": \"temporal\", \"field\": \"date\"}, {\"type\": \"quantitative\", \"field\": \"deathIncrease\"}, {\"type\": \"quantitative\", \"field\": \"sma7d\"}], \"x\": {\"type\": \"temporal\", \"field\": \"date\"}, \"y\": {\"type\": \"quantitative\", \"field\": \"deathIncrease\"}}, \"transform\": [{\"filter\": {\"selection\": \"selector005\"}}]}], \"data\": {\"name\": \"data-263979b128e6219eb6b9e20385423e3b\"}, \"height\": 400, \"title\": \"US: deathIncrease\", \"width\": 500, \"$schema\": \"https://vega.github.io/schema/vega-lite/v4.8.1.json\", \"datasets\": {\"data-263979b128e6219eb6b9e20385423e3b\": [{\"date\": \"2020-12-22T00:00:00\", \"totalTestResultsIncrease\": 1758089.0, \"positiveIncrease\": 193008.0, \"death\": 314099.0, \"deathIncrease\": 3137.0, \"positiveRate\": 0.11, \"state\": \"US\", \"sma7d\": 2682.429}, {\"date\": \"2020-12-23T00:00:00\", \"totalTestResultsIncrease\": 1780319.0, \"positiveIncrease\": 224526.0, \"death\": 317492.0, \"deathIncrease\": 3393.0, \"positiveRate\": 0.126, \"state\": \"US\", \"sma7d\": 2673.857}, {\"date\": \"2020-12-24T00:00:00\", \"totalTestResultsIncrease\": 1972862.0, \"positiveIncrease\": 206684.0, \"death\": 320450.0, \"deathIncrease\": 2958.0, \"positiveRate\": 0.105, \"state\": \"US\", \"sma7d\": 2601.429}, {\"date\": \"2020-12-25T00:00:00\", \"totalTestResultsIncrease\": 1416144.0, \"positiveIncrease\": 126796.0, \"death\": 322003.0, \"deathIncrease\": 1553.0, \"positiveRate\": 0.09, \"state\": \"US\", \"sma7d\": 2413.857}, {\"date\": \"2020-12-26T00:00:00\", \"totalTestResultsIncrease\": 2157580.0, \"positiveIncrease\": 190594.0, \"death\": 323429.0, \"deathIncrease\": 1426.0, \"positiveRate\": 0.088, \"state\": \"US\", \"sma7d\": 2230.714}, {\"date\": \"2020-12-27T00:00:00\", \"totalTestResultsIncrease\": 1370750.0, \"positiveIncrease\": 153540.0, \"death\": 324826.0, \"deathIncrease\": 1397.0, \"positiveRate\": 0.112, \"state\": \"US\", \"sma7d\": 2192.0}, {\"date\": \"2020-12-28T00:00:00\", \"totalTestResultsIncrease\": 1493296.0, \"positiveIncrease\": 164127.0, \"death\": 326316.0, \"deathIncrease\": 1490.0, \"positiveRate\": 0.11, \"state\": \"US\", \"sma7d\": 2193.429}, {\"date\": \"2020-12-29T00:00:00\", \"totalTestResultsIncrease\": 1322227.0, \"positiveIncrease\": 199679.0, \"death\": 329605.0, \"deathIncrease\": 3289.0, \"positiveRate\": 0.151, \"state\": \"US\", \"sma7d\": 2215.143}, {\"date\": \"2020-12-30T00:00:00\", \"totalTestResultsIncrease\": 1568065.0, \"positiveIncrease\": 229496.0, \"death\": 333505.0, \"deathIncrease\": 3900.0, \"positiveRate\": 0.146, \"state\": \"US\", \"sma7d\": 2287.571}, {\"date\": \"2020-12-31T00:00:00\", \"totalTestResultsIncrease\": 1785816.0, \"positiveIncrease\": 226246.0, \"death\": 336802.0, \"deathIncrease\": 3297.0, \"positiveRate\": 0.127, \"state\": \"US\", \"sma7d\": 2336.0}, {\"date\": \"2021-01-01T00:00:00\", \"totalTestResultsIncrease\": 1395406.0, \"positiveIncrease\": 182906.0, \"death\": 339394.0, \"deathIncrease\": 2592.0, \"positiveRate\": 0.131, \"state\": \"US\", \"sma7d\": 2484.429}, {\"date\": \"2021-01-02T00:00:00\", \"totalTestResultsIncrease\": 2104010.0, \"positiveIncrease\": 280318.0, \"death\": 341800.0, \"deathIncrease\": 2406.0, \"positiveRate\": 0.133, \"state\": \"US\", \"sma7d\": 2624.429}, {\"date\": \"2021-01-03T00:00:00\", \"totalTestResultsIncrease\": 1429565.0, \"positiveIncrease\": 208457.0, \"death\": 343255.0, \"deathIncrease\": 1455.0, \"positiveRate\": 0.146, \"state\": \"US\", \"sma7d\": 2632.714}, {\"date\": \"2021-01-04T00:00:00\", \"totalTestResultsIncrease\": 1581745.0, \"positiveIncrease\": 179571.0, \"death\": 344802.0, \"deathIncrease\": 1547.0, \"positiveRate\": 0.114, \"state\": \"US\", \"sma7d\": 2640.857}, {\"date\": \"2021-01-05T00:00:00\", \"totalTestResultsIncrease\": 1714814.0, \"positiveIncrease\": 219075.0, \"death\": 348286.0, \"deathIncrease\": 3484.0, \"positiveRate\": 0.128, \"state\": \"US\", \"sma7d\": 2668.714}, {\"date\": \"2021-01-06T00:00:00\", \"totalTestResultsIncrease\": 1638284.0, \"positiveIncrease\": 250184.0, \"death\": 352188.0, \"deathIncrease\": 3902.0, \"positiveRate\": 0.153, \"state\": \"US\", \"sma7d\": 2669.0}, {\"date\": \"2021-01-07T00:00:00\", \"totalTestResultsIncrease\": 1946262.0, \"positiveIncrease\": 272043.0, \"death\": 356267.0, \"deathIncrease\": 4079.0, \"positiveRate\": 0.14, \"state\": \"US\", \"sma7d\": 2780.714}, {\"date\": \"2021-01-08T00:00:00\", \"totalTestResultsIncrease\": 2163546.0, \"positiveIncrease\": 295121.0, \"death\": 360047.0, \"deathIncrease\": 3780.0, \"positiveRate\": 0.136, \"state\": \"US\", \"sma7d\": 2950.429}, {\"date\": \"2021-01-09T00:00:00\", \"totalTestResultsIncrease\": 2111681.0, \"positiveIncrease\": 269368.0, \"death\": 363584.0, \"deathIncrease\": 3537.0, \"positiveRate\": 0.128, \"state\": \"US\", \"sma7d\": 3112.0}, {\"date\": \"2021-01-10T00:00:00\", \"totalTestResultsIncrease\": 2024548.0, \"positiveIncrease\": 228732.0, \"death\": 365652.0, \"deathIncrease\": 2068.0, \"positiveRate\": 0.113, \"state\": \"US\", \"sma7d\": 3199.571}, {\"date\": \"2021-01-11T00:00:00\", \"totalTestResultsIncrease\": 1867076.0, \"positiveIncrease\": 195255.0, \"death\": 367385.0, \"deathIncrease\": 1733.0, \"positiveRate\": 0.105, \"state\": \"US\", \"sma7d\": 3226.143}, {\"date\": \"2021-01-12T00:00:00\", \"totalTestResultsIncrease\": 1958786.0, \"positiveIncrease\": 218020.0, \"death\": 371449.0, \"deathIncrease\": 4064.0, \"positiveRate\": 0.111, \"state\": \"US\", \"sma7d\": 3309.0}, {\"date\": \"2021-01-13T00:00:00\", \"totalTestResultsIncrease\": 1839630.0, \"positiveIncrease\": 224491.0, \"death\": 375536.0, \"deathIncrease\": 4087.0, \"positiveRate\": 0.122, \"state\": \"US\", \"sma7d\": 3335.429}, {\"date\": \"2021-01-14T00:00:00\", \"totalTestResultsIncrease\": 2043945.0, \"positiveIncrease\": 225616.0, \"death\": 379451.0, \"deathIncrease\": 3915.0, \"positiveRate\": 0.11, \"state\": \"US\", \"sma7d\": 3312.0}, {\"date\": \"2021-01-15T00:00:00\", \"totalTestResultsIncrease\": 2322266.0, \"positiveIncrease\": 246454.0, \"death\": 383130.0, \"deathIncrease\": 3679.0, \"positiveRate\": 0.106, \"state\": \"US\", \"sma7d\": 3297.571}, {\"date\": \"2021-01-16T00:00:00\", \"totalTestResultsIncrease\": 2078818.0, \"positiveIncrease\": 218085.0, \"death\": 386839.0, \"deathIncrease\": 3709.0, \"positiveRate\": 0.105, \"state\": \"US\", \"sma7d\": 3322.143}, {\"date\": \"2021-01-17T00:00:00\", \"totalTestResultsIncrease\": 1892881.0, \"positiveIncrease\": 187218.0, \"death\": 388892.0, \"deathIncrease\": 2053.0, \"positiveRate\": 0.099, \"state\": \"US\", \"sma7d\": 3320.0}, {\"date\": \"2021-01-18T00:00:00\", \"totalTestResultsIncrease\": 2115985.0, \"positiveIncrease\": 150792.0, \"death\": 390287.0, \"deathIncrease\": 1395.0, \"positiveRate\": 0.071, \"state\": \"US\", \"sma7d\": 3271.714}, {\"date\": \"2021-01-19T00:00:00\", \"totalTestResultsIncrease\": 1727996.0, \"positiveIncrease\": 146626.0, \"death\": 392428.0, \"deathIncrease\": 2141.0, \"positiveRate\": 0.085, \"state\": \"US\", \"sma7d\": 2997.0}, {\"date\": \"2021-01-20T00:00:00\", \"totalTestResultsIncrease\": 1823829.0, \"positiveIncrease\": 189203.0, \"death\": 396837.0, \"deathIncrease\": 4409.0, \"positiveRate\": 0.104, \"state\": \"US\", \"sma7d\": 3043.0}, {\"date\": \"2021-01-21T00:00:00\", \"totalTestResultsIncrease\": 1935268.0, \"positiveIncrease\": 186275.0, \"death\": 400715.0, \"deathIncrease\": 3878.0, \"positiveRate\": 0.096, \"state\": \"US\", \"sma7d\": 3037.714}, {\"date\": \"2021-01-22T00:00:00\", \"totalTestResultsIncrease\": 2032714.0, \"positiveIncrease\": 190915.0, \"death\": 404695.0, \"deathIncrease\": 3980.0, \"positiveRate\": 0.094, \"state\": \"US\", \"sma7d\": 3080.714}, {\"date\": \"2021-01-23T00:00:00\", \"totalTestResultsIncrease\": 1968395.0, \"positiveIncrease\": 177118.0, \"death\": 408286.0, \"deathIncrease\": 3591.0, \"positiveRate\": 0.09, \"state\": \"US\", \"sma7d\": 3063.857}, {\"date\": \"2021-01-24T00:00:00\", \"totalTestResultsIncrease\": 1764476.0, \"positiveIncrease\": 144234.0, \"death\": 410230.0, \"deathIncrease\": 1944.0, \"positiveRate\": 0.082, \"state\": \"US\", \"sma7d\": 3048.286}, {\"date\": \"2021-01-25T00:00:00\", \"totalTestResultsIncrease\": 1720880.0, \"positiveIncrease\": 133454.0, \"death\": 411823.0, \"deathIncrease\": 1593.0, \"positiveRate\": 0.078, \"state\": \"US\", \"sma7d\": 3076.571}, {\"date\": \"2021-01-26T00:00:00\", \"totalTestResultsIncrease\": 1725082.0, \"positiveIncrease\": 146448.0, \"death\": 415557.0, \"deathIncrease\": 3734.0, \"positiveRate\": 0.085, \"state\": \"US\", \"sma7d\": 3304.143}, {\"date\": \"2021-01-27T00:00:00\", \"totalTestResultsIncrease\": 1654456.0, \"positiveIncrease\": 153985.0, \"death\": 419634.0, \"deathIncrease\": 4077.0, \"positiveRate\": 0.093, \"state\": \"US\", \"sma7d\": 3256.714}, {\"date\": \"2021-01-28T00:00:00\", \"totalTestResultsIncrease\": 1951285.0, \"positiveIncrease\": 157306.0, \"death\": 423645.0, \"deathIncrease\": 4011.0, \"positiveRate\": 0.081, \"state\": \"US\", \"sma7d\": 3275.714}, {\"date\": \"2021-01-29T00:00:00\", \"totalTestResultsIncrease\": 1952298.0, \"positiveIncrease\": 167111.0, \"death\": 427148.0, \"deathIncrease\": 3503.0, \"positiveRate\": 0.086, \"state\": \"US\", \"sma7d\": 3207.571}, {\"date\": \"2021-01-30T00:00:00\", \"totalTestResultsIncrease\": 2157704.0, \"positiveIncrease\": 148824.0, \"death\": 430130.0, \"deathIncrease\": 2982.0, \"positiveRate\": 0.069, \"state\": \"US\", \"sma7d\": 3120.571}, {\"date\": \"2021-01-31T00:00:00\", \"totalTestResultsIncrease\": 1716062.0, \"positiveIncrease\": 119367.0, \"death\": 432189.0, \"deathIncrease\": 2059.0, \"positiveRate\": 0.07, \"state\": \"US\", \"sma7d\": 3137.0}, {\"date\": \"2021-02-01T00:00:00\", \"totalTestResultsIncrease\": 1633780.0, \"positiveIncrease\": 120200.0, \"death\": 433751.0, \"deathIncrease\": 1562.0, \"positiveRate\": 0.074, \"state\": \"US\", \"sma7d\": 3132.571}, {\"date\": \"2021-02-02T00:00:00\", \"totalTestResultsIncrease\": 1402996.0, \"positiveIncrease\": 117616.0, \"death\": 437237.0, \"deathIncrease\": 3486.0, \"positiveRate\": 0.084, \"state\": \"US\", \"sma7d\": 3097.143}, {\"date\": \"2021-02-03T00:00:00\", \"totalTestResultsIncrease\": 1442998.0, \"positiveIncrease\": 116960.0, \"death\": 440922.0, \"deathIncrease\": 3685.0, \"positiveRate\": 0.081, \"state\": \"US\", \"sma7d\": 3041.143}, {\"date\": \"2021-02-04T00:00:00\", \"totalTestResultsIncrease\": 1678444.0, \"positiveIncrease\": 123907.0, \"death\": 446134.0, \"deathIncrease\": 5212.0, \"positiveRate\": 0.074, \"state\": \"US\", \"sma7d\": 3212.714}, {\"date\": \"2021-02-05T00:00:00\", \"totalTestResultsIncrease\": 1879114.0, \"positiveIncrease\": 131146.0, \"death\": 449677.0, \"deathIncrease\": 3543.0, \"positiveRate\": 0.07, \"state\": \"US\", \"sma7d\": 3218.429}, {\"date\": \"2021-02-06T00:00:00\", \"totalTestResultsIncrease\": 1881694.0, \"positiveIncrease\": 114557.0, \"death\": 452671.0, \"deathIncrease\": 2994.0, \"positiveRate\": 0.061, \"state\": \"US\", \"sma7d\": 3220.143}, {\"date\": \"2021-02-07T00:00:00\", \"totalTestResultsIncrease\": 1498467.0, \"positiveIncrease\": 95994.0, \"death\": 454146.0, \"deathIncrease\": 1475.0, \"positiveRate\": 0.064, \"state\": \"US\", \"sma7d\": 3136.714}, {\"date\": \"2021-02-08T00:00:00\", \"totalTestResultsIncrease\": 1434298.0, \"positiveIncrease\": 77737.0, \"death\": 455455.0, \"deathIncrease\": 1309.0, \"positiveRate\": 0.054, \"state\": \"US\", \"sma7d\": 3100.571}, {\"date\": \"2021-02-09T00:00:00\", \"totalTestResultsIncrease\": 1502502.0, \"positiveIncrease\": 92986.0, \"death\": 458250.0, \"deathIncrease\": 2795.0, \"positiveRate\": 0.062, \"state\": \"US\", \"sma7d\": 3001.857}, {\"date\": \"2021-02-10T00:00:00\", \"totalTestResultsIncrease\": 1393156.0, \"positiveIncrease\": 95194.0, \"death\": 461695.0, \"deathIncrease\": 3445.0, \"positiveRate\": 0.068, \"state\": \"US\", \"sma7d\": 2967.571}, {\"date\": \"2021-02-11T00:00:00\", \"totalTestResultsIncrease\": 1872586.0, \"positiveIncrease\": 102417.0, \"death\": 465568.0, \"deathIncrease\": 3873.0, \"positiveRate\": 0.055, \"state\": \"US\", \"sma7d\": 2776.286}, {\"date\": \"2021-02-12T00:00:00\", \"totalTestResultsIncrease\": 1818832.0, \"positiveIncrease\": 101030.0, \"death\": 470995.0, \"deathIncrease\": 5427.0, \"positiveRate\": 0.056, \"state\": \"US\", \"sma7d\": 3045.429}, {\"date\": \"2021-02-13T00:00:00\", \"totalTestResultsIncrease\": 1743784.0, \"positiveIncrease\": 90199.0, \"death\": 474423.0, \"deathIncrease\": 3428.0, \"positiveRate\": 0.052, \"state\": \"US\", \"sma7d\": 3107.429}, {\"date\": \"2021-02-14T00:00:00\", \"totalTestResultsIncrease\": 1419862.0, \"positiveIncrease\": 71844.0, \"death\": 475504.0, \"deathIncrease\": 1363.0, \"positiveRate\": 0.051, \"state\": \"US\", \"sma7d\": 3091.429}]}}, {\"mode\": \"vega-lite\"});\n",
       "</script>"
      ],
      "text/plain": [
       "alt.LayerChart(...)"
      ]
     },
     "execution_count": 9,
     "metadata": {},
     "output_type": "execute_result"
    }
   ],
   "source": [
    "create_plot(us, 'deathIncrease')"
   ]
  },
  {
   "cell_type": "markdown",
   "id": "permanent-plant",
   "metadata": {
    "papermill": {
     "duration": 0.016569,
     "end_time": "2021-02-15T09:16:49.712201",
     "exception": false,
     "start_time": "2021-02-15T09:16:49.695632",
     "status": "completed"
    },
    "tags": []
   },
   "source": [
    "## NY"
   ]
  },
  {
   "cell_type": "code",
   "execution_count": 10,
   "id": "delayed-fishing",
   "metadata": {
    "execution": {
     "iopub.execute_input": "2021-02-15T09:16:49.749871Z",
     "iopub.status.busy": "2021-02-15T09:16:49.749325Z",
     "iopub.status.idle": "2021-02-15T09:16:50.115767Z",
     "shell.execute_reply": "2021-02-15T09:16:50.114900Z"
    },
    "papermill": {
     "duration": 0.387617,
     "end_time": "2021-02-15T09:16:50.115978",
     "exception": false,
     "start_time": "2021-02-15T09:16:49.728361",
     "status": "completed"
    },
    "tags": []
   },
   "outputs": [],
   "source": [
    "ny = create_df(df, (lambda d: d['state'] == 'NY'), 'New York')"
   ]
  },
  {
   "cell_type": "code",
   "execution_count": 11,
   "id": "hybrid-bahamas",
   "metadata": {
    "execution": {
     "iopub.execute_input": "2021-02-15T09:16:50.164917Z",
     "iopub.status.busy": "2021-02-15T09:16:50.164360Z",
     "iopub.status.idle": "2021-02-15T09:16:50.248891Z",
     "shell.execute_reply": "2021-02-15T09:16:50.249341Z"
    },
    "papermill": {
     "duration": 0.116292,
     "end_time": "2021-02-15T09:16:50.249502",
     "exception": false,
     "start_time": "2021-02-15T09:16:50.133210",
     "status": "completed"
    },
    "tags": []
   },
   "outputs": [
    {
     "data": {
      "text/html": [
       "\n",
       "<div id=\"altair-viz-d62bfe111f3d48dc82d200e30682347a\"></div>\n",
       "<script type=\"text/javascript\">\n",
       "  (function(spec, embedOpt){\n",
       "    let outputDiv = document.currentScript.previousElementSibling;\n",
       "    if (outputDiv.id !== \"altair-viz-d62bfe111f3d48dc82d200e30682347a\") {\n",
       "      outputDiv = document.getElementById(\"altair-viz-d62bfe111f3d48dc82d200e30682347a\");\n",
       "    }\n",
       "    const paths = {\n",
       "      \"vega\": \"https://cdn.jsdelivr.net/npm//vega@5?noext\",\n",
       "      \"vega-lib\": \"https://cdn.jsdelivr.net/npm//vega-lib?noext\",\n",
       "      \"vega-lite\": \"https://cdn.jsdelivr.net/npm//vega-lite@4.8.1?noext\",\n",
       "      \"vega-embed\": \"https://cdn.jsdelivr.net/npm//vega-embed@6?noext\",\n",
       "    };\n",
       "\n",
       "    function loadScript(lib) {\n",
       "      return new Promise(function(resolve, reject) {\n",
       "        var s = document.createElement('script');\n",
       "        s.src = paths[lib];\n",
       "        s.async = true;\n",
       "        s.onload = () => resolve(paths[lib]);\n",
       "        s.onerror = () => reject(`Error loading script: ${paths[lib]}`);\n",
       "        document.getElementsByTagName(\"head\")[0].appendChild(s);\n",
       "      });\n",
       "    }\n",
       "\n",
       "    function showError(err) {\n",
       "      outputDiv.innerHTML = `<div class=\"error\" style=\"color:red;\">${err}</div>`;\n",
       "      throw err;\n",
       "    }\n",
       "\n",
       "    function displayChart(vegaEmbed) {\n",
       "      vegaEmbed(outputDiv, spec, embedOpt)\n",
       "        .catch(err => showError(`Javascript Error: ${err.message}<br>This usually means there's a typo in your chart specification. See the javascript console for the full traceback.`));\n",
       "    }\n",
       "\n",
       "    if(typeof define === \"function\" && define.amd) {\n",
       "      requirejs.config({paths});\n",
       "      require([\"vega-embed\"], displayChart, err => showError(`Error loading script: ${err.message}`));\n",
       "    } else if (typeof vegaEmbed === \"function\") {\n",
       "      displayChart(vegaEmbed);\n",
       "    } else {\n",
       "      loadScript(\"vega\")\n",
       "        .then(() => loadScript(\"vega-lite\"))\n",
       "        .then(() => loadScript(\"vega-embed\"))\n",
       "        .catch(showError)\n",
       "        .then(() => displayChart(vegaEmbed));\n",
       "    }\n",
       "  })({\"config\": {\"view\": {\"continuousWidth\": 400, \"continuousHeight\": 300}}, \"layer\": [{\"layer\": [{\"mark\": {\"type\": \"point\", \"size\": 75}, \"encoding\": {\"tooltip\": [{\"type\": \"temporal\", \"field\": \"date\"}, {\"type\": \"quantitative\", \"field\": \"positiveIncrease\"}, {\"type\": \"quantitative\", \"field\": \"sma7d\"}], \"x\": {\"type\": \"temporal\", \"field\": \"date\"}, \"y\": {\"type\": \"quantitative\", \"field\": \"positiveIncrease\"}}, \"selection\": {\"selector008\": {\"type\": \"interval\", \"bind\": \"scales\", \"encodings\": [\"x\", \"y\"]}}}, {\"mark\": {\"type\": \"line\", \"color\": \"purple\"}, \"encoding\": {\"x\": {\"type\": \"temporal\", \"field\": \"date\"}, \"y\": {\"type\": \"quantitative\", \"field\": \"sma7d\"}}}]}, {\"mark\": {\"type\": \"rule\", \"color\": \"#aaa\"}, \"encoding\": {\"x\": {\"type\": \"temporal\", \"field\": \"date\"}}, \"transform\": [{\"filter\": {\"selection\": \"selector007\"}}]}, {\"mark\": \"circle\", \"encoding\": {\"opacity\": {\"condition\": {\"value\": 1, \"selection\": \"selector007\"}, \"value\": 0}, \"tooltip\": [{\"type\": \"temporal\", \"field\": \"date\"}, {\"type\": \"quantitative\", \"field\": \"positiveIncrease\"}, {\"type\": \"quantitative\", \"field\": \"sma7d\"}], \"x\": {\"type\": \"temporal\", \"field\": \"date\"}, \"y\": {\"type\": \"quantitative\", \"field\": \"positiveIncrease\"}}, \"selection\": {\"selector007\": {\"type\": \"single\", \"encodings\": [\"x\"], \"on\": \"mouseover\", \"nearest\": true, \"empty\": \"none\"}}}, {\"mark\": {\"type\": \"text\", \"align\": \"left\", \"dx\": 5, \"dy\": -5, \"stroke\": \"white\", \"strokeWidth\": 2}, \"encoding\": {\"text\": {\"type\": \"quantitative\", \"field\": \"positiveIncrease\"}, \"tooltip\": [{\"type\": \"temporal\", \"field\": \"date\"}, {\"type\": \"quantitative\", \"field\": \"positiveIncrease\"}, {\"type\": \"quantitative\", \"field\": \"sma7d\"}], \"x\": {\"type\": \"temporal\", \"field\": \"date\"}, \"y\": {\"type\": \"quantitative\", \"field\": \"positiveIncrease\"}}, \"transform\": [{\"filter\": {\"selection\": \"selector007\"}}]}, {\"mark\": {\"type\": \"text\", \"align\": \"left\", \"dx\": 5, \"dy\": -5}, \"encoding\": {\"text\": {\"type\": \"quantitative\", \"field\": \"positiveIncrease\"}, \"tooltip\": [{\"type\": \"temporal\", \"field\": \"date\"}, {\"type\": \"quantitative\", \"field\": \"positiveIncrease\"}, {\"type\": \"quantitative\", \"field\": \"sma7d\"}], \"x\": {\"type\": \"temporal\", \"field\": \"date\"}, \"y\": {\"type\": \"quantitative\", \"field\": \"positiveIncrease\"}}, \"transform\": [{\"filter\": {\"selection\": \"selector007\"}}]}], \"data\": {\"name\": \"data-6bf8c3f01d1bc3ff614cf4565484005b\"}, \"height\": 400, \"title\": \"New York: positiveIncrease\", \"width\": 500, \"$schema\": \"https://vega.github.io/schema/vega-lite/v4.8.1.json\", \"datasets\": {\"data-6bf8c3f01d1bc3ff614cf4565484005b\": [{\"date\": \"2020-12-22T00:00:00\", \"totalTestResultsIncrease\": 164868.0, \"positiveIncrease\": 9716.0, \"death\": 28850.0, \"deathIncrease\": 141.0, \"positiveRate\": 0.059, \"state\": \"New York\", \"sma7d\": 10315.429}, {\"date\": \"2020-12-23T00:00:00\", \"totalTestResultsIncrease\": 204361.0, \"positiveIncrease\": 11937.0, \"death\": 29016.0, \"deathIncrease\": 166.0, \"positiveRate\": 0.058, \"state\": \"New York\", \"sma7d\": 10592.429}, {\"date\": \"2020-12-24T00:00:00\", \"totalTestResultsIncrease\": 226296.0, \"positiveIncrease\": 12568.0, \"death\": 29149.0, \"deathIncrease\": 133.0, \"positiveRate\": 0.056, \"state\": \"New York\", \"sma7d\": 10828.714}, {\"date\": \"2020-12-25T00:00:00\", \"totalTestResultsIncrease\": 226560.0, \"positiveIncrease\": 12446.0, \"death\": 29270.0, \"deathIncrease\": 121.0, \"positiveRate\": 0.055, \"state\": \"New York\", \"sma7d\": 10792.857}, {\"date\": \"2020-12-26T00:00:00\", \"totalTestResultsIncrease\": 201442.0, \"positiveIncrease\": 10806.0, \"death\": 29396.0, \"deathIncrease\": 126.0, \"positiveRate\": 0.054, \"state\": \"New York\", \"sma7d\": 10919.571}, {\"date\": \"2020-12-27T00:00:00\", \"totalTestResultsIncrease\": 130299.0, \"positiveIncrease\": 7623.0, \"death\": 29511.0, \"deathIncrease\": 115.0, \"positiveRate\": 0.059, \"state\": \"New York\", \"sma7d\": 10586.143}, {\"date\": \"2020-12-28T00:00:00\", \"totalTestResultsIncrease\": 124866.0, \"positiveIncrease\": 10407.0, \"death\": 29629.0, \"deathIncrease\": 118.0, \"positiveRate\": 0.083, \"state\": \"New York\", \"sma7d\": 10786.143}, {\"date\": \"2020-12-29T00:00:00\", \"totalTestResultsIncrease\": 160164.0, \"positiveIncrease\": 11438.0, \"death\": 29756.0, \"deathIncrease\": 127.0, \"positiveRate\": 0.071, \"state\": \"New York\", \"sma7d\": 11032.143}, {\"date\": \"2020-12-30T00:00:00\", \"totalTestResultsIncrease\": 154949.0, \"positiveIncrease\": 13422.0, \"death\": 29905.0, \"deathIncrease\": 149.0, \"positiveRate\": 0.087, \"state\": \"New York\", \"sma7d\": 11244.286}, {\"date\": \"2020-12-31T00:00:00\", \"totalTestResultsIncrease\": 216587.0, \"positiveIncrease\": 16802.0, \"death\": 30040.0, \"deathIncrease\": 135.0, \"positiveRate\": 0.078, \"state\": \"New York\", \"sma7d\": 11849.143}, {\"date\": \"2021-01-01T00:00:00\", \"totalTestResultsIncrease\": 219253.0, \"positiveIncrease\": 16497.0, \"death\": 30208.0, \"deathIncrease\": 168.0, \"positiveRate\": 0.075, \"state\": \"New York\", \"sma7d\": 12427.857}, {\"date\": \"2021-01-02T00:00:00\", \"totalTestResultsIncrease\": 202446.0, \"positiveIncrease\": 15074.0, \"death\": 30337.0, \"deathIncrease\": 129.0, \"positiveRate\": 0.074, \"state\": \"New York\", \"sma7d\": 13037.571}, {\"date\": \"2021-01-03T00:00:00\", \"totalTestResultsIncrease\": 142345.0, \"positiveIncrease\": 11368.0, \"death\": 30476.0, \"deathIncrease\": 139.0, \"positiveRate\": 0.08, \"state\": \"New York\", \"sma7d\": 13572.571}, {\"date\": \"2021-01-04T00:00:00\", \"totalTestResultsIncrease\": 134360.0, \"positiveIncrease\": 11209.0, \"death\": 30648.0, \"deathIncrease\": 172.0, \"positiveRate\": 0.083, \"state\": \"New York\", \"sma7d\": 13687.143}, {\"date\": \"2021-01-05T00:00:00\", \"totalTestResultsIncrease\": 152402.0, \"positiveIncrease\": 12666.0, \"death\": 30802.0, \"deathIncrease\": 154.0, \"positiveRate\": 0.083, \"state\": \"New York\", \"sma7d\": 13862.571}, {\"date\": \"2021-01-06T00:00:00\", \"totalTestResultsIncrease\": 197816.0, \"positiveIncrease\": 16648.0, \"death\": 30965.0, \"deathIncrease\": 163.0, \"positiveRate\": 0.084, \"state\": \"New York\", \"sma7d\": 14323.429}, {\"date\": \"2021-01-07T00:00:00\", \"totalTestResultsIncrease\": 238550.0, \"positiveIncrease\": 17636.0, \"death\": 31164.0, \"deathIncrease\": 199.0, \"positiveRate\": 0.074, \"state\": \"New York\", \"sma7d\": 14442.571}, {\"date\": \"2021-01-08T00:00:00\", \"totalTestResultsIncrease\": 243903.0, \"positiveIncrease\": 18832.0, \"death\": 31329.0, \"deathIncrease\": 165.0, \"positiveRate\": 0.077, \"state\": \"New York\", \"sma7d\": 14776.143}, {\"date\": \"2021-01-09T00:00:00\", \"totalTestResultsIncrease\": 258031.0, \"positiveIncrease\": 16943.0, \"death\": 31519.0, \"deathIncrease\": 190.0, \"positiveRate\": 0.066, \"state\": \"New York\", \"sma7d\": 15043.143}, {\"date\": \"2021-01-10T00:00:00\", \"totalTestResultsIncrease\": 246836.0, \"positiveIncrease\": 15355.0, \"death\": 31672.0, \"deathIncrease\": 153.0, \"positiveRate\": 0.062, \"state\": \"New York\", \"sma7d\": 15612.714}, {\"date\": \"2021-01-11T00:00:00\", \"totalTestResultsIncrease\": 203904.0, \"positiveIncrease\": 13714.0, \"death\": 31841.0, \"deathIncrease\": 169.0, \"positiveRate\": 0.067, \"state\": \"New York\", \"sma7d\": 15970.571}, {\"date\": \"2021-01-12T00:00:00\", \"totalTestResultsIncrease\": 196671.0, \"positiveIncrease\": 15214.0, \"death\": 32007.0, \"deathIncrease\": 166.0, \"positiveRate\": 0.077, \"state\": \"New York\", \"sma7d\": 16334.571}, {\"date\": \"2021-01-13T00:00:00\", \"totalTestResultsIncrease\": 196868.0, \"positiveIncrease\": 14577.0, \"death\": 32175.0, \"deathIncrease\": 168.0, \"positiveRate\": 0.074, \"state\": \"New York\", \"sma7d\": 16038.714}, {\"date\": \"2021-01-14T00:00:00\", \"totalTestResultsIncrease\": 212589.0, \"positiveIncrease\": 13661.0, \"death\": 32379.0, \"deathIncrease\": 204.0, \"positiveRate\": 0.064, \"state\": \"New York\", \"sma7d\": 15470.857}, {\"date\": \"2021-01-15T00:00:00\", \"totalTestResultsIncrease\": 324671.0, \"positiveIncrease\": 19942.0, \"death\": 32566.0, \"deathIncrease\": 187.0, \"positiveRate\": 0.061, \"state\": \"New York\", \"sma7d\": 15629.429}, {\"date\": \"2021-01-16T00:00:00\", \"totalTestResultsIncrease\": 277286.0, \"positiveIncrease\": 15998.0, \"death\": 32725.0, \"deathIncrease\": 159.0, \"positiveRate\": 0.058, \"state\": \"New York\", \"sma7d\": 15494.429}, {\"date\": \"2021-01-17T00:00:00\", \"totalTestResultsIncrease\": 246507.0, \"positiveIncrease\": 13842.0, \"death\": 32897.0, \"deathIncrease\": 172.0, \"positiveRate\": 0.056, \"state\": \"New York\", \"sma7d\": 15278.286}, {\"date\": \"2021-01-18T00:00:00\", \"totalTestResultsIncrease\": 186205.0, \"positiveIncrease\": 12185.0, \"death\": 33052.0, \"deathIncrease\": 155.0, \"positiveRate\": 0.065, \"state\": \"New York\", \"sma7d\": 15059.857}, {\"date\": \"2021-01-19T00:00:00\", \"totalTestResultsIncrease\": 177269.0, \"positiveIncrease\": 12512.0, \"death\": 33224.0, \"deathIncrease\": 172.0, \"positiveRate\": 0.071, \"state\": \"New York\", \"sma7d\": 14673.857}, {\"date\": \"2021-01-20T00:00:00\", \"totalTestResultsIncrease\": 195409.0, \"positiveIncrease\": 13364.0, \"death\": 33415.0, \"deathIncrease\": 191.0, \"positiveRate\": 0.068, \"state\": \"New York\", \"sma7d\": 14500.571}, {\"date\": \"2021-01-21T00:00:00\", \"totalTestResultsIncrease\": 224569.0, \"positiveIncrease\": 13886.0, \"death\": 33594.0, \"deathIncrease\": 179.0, \"positiveRate\": 0.062, \"state\": \"New York\", \"sma7d\": 14532.714}, {\"date\": \"2021-01-22T00:00:00\", \"totalTestResultsIncrease\": 268001.0, \"positiveIncrease\": 15144.0, \"death\": 33763.0, \"deathIncrease\": 169.0, \"positiveRate\": 0.057, \"state\": \"New York\", \"sma7d\": 13847.286}, {\"date\": \"2021-01-23T00:00:00\", \"totalTestResultsIncrease\": 262106.0, \"positiveIncrease\": 13786.0, \"death\": 33907.0, \"deathIncrease\": 144.0, \"positiveRate\": 0.053, \"state\": \"New York\", \"sma7d\": 13531.286}, {\"date\": \"2021-01-24T00:00:00\", \"totalTestResultsIncrease\": 249955.0, \"positiveIncrease\": 12720.0, \"death\": 34069.0, \"deathIncrease\": 162.0, \"positiveRate\": 0.051, \"state\": \"New York\", \"sma7d\": 13371.0}, {\"date\": \"2021-01-25T00:00:00\", \"totalTestResultsIncrease\": 219538.0, \"positiveIncrease\": 12003.0, \"death\": 34242.0, \"deathIncrease\": 173.0, \"positiveRate\": 0.055, \"state\": \"New York\", \"sma7d\": 13345.0}, {\"date\": \"2021-01-26T00:00:00\", \"totalTestResultsIncrease\": 162938.0, \"positiveIncrease\": 11064.0, \"death\": 34407.0, \"deathIncrease\": 165.0, \"positiveRate\": 0.068, \"state\": \"New York\", \"sma7d\": 13138.143}, {\"date\": \"2021-01-27T00:00:00\", \"totalTestResultsIncrease\": 202661.0, \"positiveIncrease\": 11028.0, \"death\": 34579.0, \"deathIncrease\": 172.0, \"positiveRate\": 0.054, \"state\": \"New York\", \"sma7d\": 12804.429}, {\"date\": \"2021-01-28T00:00:00\", \"totalTestResultsIncrease\": 250668.0, \"positiveIncrease\": 13398.0, \"death\": 34742.0, \"deathIncrease\": 163.0, \"positiveRate\": 0.053, \"state\": \"New York\", \"sma7d\": 12734.714}, {\"date\": \"2021-01-29T00:00:00\", \"totalTestResultsIncrease\": 270518.0, \"positiveIncrease\": 12579.0, \"death\": 34893.0, \"deathIncrease\": 151.0, \"positiveRate\": 0.046, \"state\": \"New York\", \"sma7d\": 12368.286}, {\"date\": \"2021-01-30T00:00:00\", \"totalTestResultsIncrease\": 269350.0, \"positiveIncrease\": 12804.0, \"death\": 35036.0, \"deathIncrease\": 143.0, \"positiveRate\": 0.048, \"state\": \"New York\", \"sma7d\": 12228.0}, {\"date\": \"2021-01-31T00:00:00\", \"totalTestResultsIncrease\": 243066.0, \"positiveIncrease\": 10793.0, \"death\": 35178.0, \"deathIncrease\": 142.0, \"positiveRate\": 0.044, \"state\": \"New York\", \"sma7d\": 11952.714}, {\"date\": \"2021-02-01T00:00:00\", \"totalTestResultsIncrease\": 175038.0, \"positiveIncrease\": 8508.0, \"death\": 35319.0, \"deathIncrease\": 141.0, \"positiveRate\": 0.049, \"state\": \"New York\", \"sma7d\": 11453.429}, {\"date\": \"2021-02-02T00:00:00\", \"totalTestResultsIncrease\": 150199.0, \"positiveIncrease\": 8215.0, \"death\": 35466.0, \"deathIncrease\": 147.0, \"positiveRate\": 0.055, \"state\": \"New York\", \"sma7d\": 11046.429}, {\"date\": \"2021-02-03T00:00:00\", \"totalTestResultsIncrease\": 126489.0, \"positiveIncrease\": 5925.0, \"death\": 35631.0, \"deathIncrease\": 165.0, \"positiveRate\": 0.047, \"state\": \"New York\", \"sma7d\": 10317.429}, {\"date\": \"2021-02-04T00:00:00\", \"totalTestResultsIncrease\": 169186.0, \"positiveIncrease\": 7414.0, \"death\": 35767.0, \"deathIncrease\": 136.0, \"positiveRate\": 0.044, \"state\": \"New York\", \"sma7d\": 9462.571}, {\"date\": \"2021-02-05T00:00:00\", \"totalTestResultsIncrease\": 203627.0, \"positiveIncrease\": 8777.0, \"death\": 35920.0, \"deathIncrease\": 153.0, \"positiveRate\": 0.043, \"state\": \"New York\", \"sma7d\": 8919.429}, {\"date\": \"2021-02-06T00:00:00\", \"totalTestResultsIncrease\": 261285.0, \"positiveIncrease\": 11252.0, \"death\": 36079.0, \"deathIncrease\": 159.0, \"positiveRate\": 0.043, \"state\": \"New York\", \"sma7d\": 8697.714}, {\"date\": \"2021-02-07T00:00:00\", \"totalTestResultsIncrease\": 250892.0, \"positiveIncrease\": 10025.0, \"death\": 36224.0, \"deathIncrease\": 145.0, \"positiveRate\": 0.04, \"state\": \"New York\", \"sma7d\": 8588.0}, {\"date\": \"2021-02-08T00:00:00\", \"totalTestResultsIncrease\": 197183.0, \"positiveIncrease\": 8448.0, \"death\": 36339.0, \"deathIncrease\": 115.0, \"positiveRate\": 0.043, \"state\": \"New York\", \"sma7d\": 8579.429}, {\"date\": \"2021-02-09T00:00:00\", \"totalTestResultsIncrease\": 153648.0, \"positiveIncrease\": 7866.0, \"death\": 36481.0, \"deathIncrease\": 142.0, \"positiveRate\": 0.051, \"state\": \"New York\", \"sma7d\": 8529.571}, {\"date\": \"2021-02-10T00:00:00\", \"totalTestResultsIncrease\": 176750.0, \"positiveIncrease\": 7101.0, \"death\": 36619.0, \"deathIncrease\": 138.0, \"positiveRate\": 0.04, \"state\": \"New York\", \"sma7d\": 8697.571}, {\"date\": \"2021-02-11T00:00:00\", \"totalTestResultsIncrease\": 285499.0, \"positiveIncrease\": 10099.0, \"death\": 36743.0, \"deathIncrease\": 124.0, \"positiveRate\": 0.035, \"state\": \"New York\", \"sma7d\": 9081.143}, {\"date\": \"2021-02-12T00:00:00\", \"totalTestResultsIncrease\": 237134.0, \"positiveIncrease\": 8404.0, \"death\": 36882.0, \"deathIncrease\": 139.0, \"positiveRate\": 0.035, \"state\": \"New York\", \"sma7d\": 9027.857}, {\"date\": \"2021-02-13T00:00:00\", \"totalTestResultsIncrease\": 253563.0, \"positiveIncrease\": 8763.0, \"death\": 37009.0, \"deathIncrease\": 127.0, \"positiveRate\": 0.035, \"state\": \"New York\", \"sma7d\": 8672.286}, {\"date\": \"2021-02-14T00:00:00\", \"totalTestResultsIncrease\": 234708.0, \"positiveIncrease\": 8316.0, \"death\": 37118.0, \"deathIncrease\": 109.0, \"positiveRate\": 0.035, \"state\": \"New York\", \"sma7d\": 8428.143}]}}, {\"mode\": \"vega-lite\"});\n",
       "</script>"
      ],
      "text/plain": [
       "alt.LayerChart(...)"
      ]
     },
     "execution_count": 11,
     "metadata": {},
     "output_type": "execute_result"
    }
   ],
   "source": [
    "create_plot(ny, 'positiveIncrease')"
   ]
  },
  {
   "cell_type": "code",
   "execution_count": 12,
   "id": "monetary-captain",
   "metadata": {
    "execution": {
     "iopub.execute_input": "2021-02-15T09:16:50.287938Z",
     "iopub.status.busy": "2021-02-15T09:16:50.287402Z",
     "iopub.status.idle": "2021-02-15T09:16:50.378365Z",
     "shell.execute_reply": "2021-02-15T09:16:50.379134Z"
    },
    "papermill": {
     "duration": 0.112649,
     "end_time": "2021-02-15T09:16:50.379382",
     "exception": false,
     "start_time": "2021-02-15T09:16:50.266733",
     "status": "completed"
    },
    "tags": []
   },
   "outputs": [
    {
     "data": {
      "text/html": [
       "\n",
       "<div id=\"altair-viz-f6e3631413b042969d22db51c0d432aa\"></div>\n",
       "<script type=\"text/javascript\">\n",
       "  (function(spec, embedOpt){\n",
       "    let outputDiv = document.currentScript.previousElementSibling;\n",
       "    if (outputDiv.id !== \"altair-viz-f6e3631413b042969d22db51c0d432aa\") {\n",
       "      outputDiv = document.getElementById(\"altair-viz-f6e3631413b042969d22db51c0d432aa\");\n",
       "    }\n",
       "    const paths = {\n",
       "      \"vega\": \"https://cdn.jsdelivr.net/npm//vega@5?noext\",\n",
       "      \"vega-lib\": \"https://cdn.jsdelivr.net/npm//vega-lib?noext\",\n",
       "      \"vega-lite\": \"https://cdn.jsdelivr.net/npm//vega-lite@4.8.1?noext\",\n",
       "      \"vega-embed\": \"https://cdn.jsdelivr.net/npm//vega-embed@6?noext\",\n",
       "    };\n",
       "\n",
       "    function loadScript(lib) {\n",
       "      return new Promise(function(resolve, reject) {\n",
       "        var s = document.createElement('script');\n",
       "        s.src = paths[lib];\n",
       "        s.async = true;\n",
       "        s.onload = () => resolve(paths[lib]);\n",
       "        s.onerror = () => reject(`Error loading script: ${paths[lib]}`);\n",
       "        document.getElementsByTagName(\"head\")[0].appendChild(s);\n",
       "      });\n",
       "    }\n",
       "\n",
       "    function showError(err) {\n",
       "      outputDiv.innerHTML = `<div class=\"error\" style=\"color:red;\">${err}</div>`;\n",
       "      throw err;\n",
       "    }\n",
       "\n",
       "    function displayChart(vegaEmbed) {\n",
       "      vegaEmbed(outputDiv, spec, embedOpt)\n",
       "        .catch(err => showError(`Javascript Error: ${err.message}<br>This usually means there's a typo in your chart specification. See the javascript console for the full traceback.`));\n",
       "    }\n",
       "\n",
       "    if(typeof define === \"function\" && define.amd) {\n",
       "      requirejs.config({paths});\n",
       "      require([\"vega-embed\"], displayChart, err => showError(`Error loading script: ${err.message}`));\n",
       "    } else if (typeof vegaEmbed === \"function\") {\n",
       "      displayChart(vegaEmbed);\n",
       "    } else {\n",
       "      loadScript(\"vega\")\n",
       "        .then(() => loadScript(\"vega-lite\"))\n",
       "        .then(() => loadScript(\"vega-embed\"))\n",
       "        .catch(showError)\n",
       "        .then(() => displayChart(vegaEmbed));\n",
       "    }\n",
       "  })({\"config\": {\"view\": {\"continuousWidth\": 400, \"continuousHeight\": 300}}, \"layer\": [{\"layer\": [{\"mark\": {\"type\": \"point\", \"size\": 75}, \"encoding\": {\"tooltip\": [{\"type\": \"temporal\", \"field\": \"date\"}, {\"type\": \"quantitative\", \"field\": \"positiveRate\"}, {\"type\": \"quantitative\", \"field\": \"sma7d\"}], \"x\": {\"type\": \"temporal\", \"field\": \"date\"}, \"y\": {\"type\": \"quantitative\", \"field\": \"positiveRate\"}}, \"selection\": {\"selector010\": {\"type\": \"interval\", \"bind\": \"scales\", \"encodings\": [\"x\", \"y\"]}}}, {\"mark\": {\"type\": \"line\", \"color\": \"purple\"}, \"encoding\": {\"x\": {\"type\": \"temporal\", \"field\": \"date\"}, \"y\": {\"type\": \"quantitative\", \"field\": \"sma7d\"}}}]}, {\"mark\": {\"type\": \"rule\", \"color\": \"#aaa\"}, \"encoding\": {\"x\": {\"type\": \"temporal\", \"field\": \"date\"}}, \"transform\": [{\"filter\": {\"selection\": \"selector009\"}}]}, {\"mark\": \"circle\", \"encoding\": {\"opacity\": {\"condition\": {\"value\": 1, \"selection\": \"selector009\"}, \"value\": 0}, \"tooltip\": [{\"type\": \"temporal\", \"field\": \"date\"}, {\"type\": \"quantitative\", \"field\": \"positiveRate\"}, {\"type\": \"quantitative\", \"field\": \"sma7d\"}], \"x\": {\"type\": \"temporal\", \"field\": \"date\"}, \"y\": {\"type\": \"quantitative\", \"field\": \"positiveRate\"}}, \"selection\": {\"selector009\": {\"type\": \"single\", \"encodings\": [\"x\"], \"on\": \"mouseover\", \"nearest\": true, \"empty\": \"none\"}}}, {\"mark\": {\"type\": \"text\", \"align\": \"left\", \"dx\": 5, \"dy\": -5, \"stroke\": \"white\", \"strokeWidth\": 2}, \"encoding\": {\"text\": {\"type\": \"quantitative\", \"field\": \"positiveRate\"}, \"tooltip\": [{\"type\": \"temporal\", \"field\": \"date\"}, {\"type\": \"quantitative\", \"field\": \"positiveRate\"}, {\"type\": \"quantitative\", \"field\": \"sma7d\"}], \"x\": {\"type\": \"temporal\", \"field\": \"date\"}, \"y\": {\"type\": \"quantitative\", \"field\": \"positiveRate\"}}, \"transform\": [{\"filter\": {\"selection\": \"selector009\"}}]}, {\"mark\": {\"type\": \"text\", \"align\": \"left\", \"dx\": 5, \"dy\": -5}, \"encoding\": {\"text\": {\"type\": \"quantitative\", \"field\": \"positiveRate\"}, \"tooltip\": [{\"type\": \"temporal\", \"field\": \"date\"}, {\"type\": \"quantitative\", \"field\": \"positiveRate\"}, {\"type\": \"quantitative\", \"field\": \"sma7d\"}], \"x\": {\"type\": \"temporal\", \"field\": \"date\"}, \"y\": {\"type\": \"quantitative\", \"field\": \"positiveRate\"}}, \"transform\": [{\"filter\": {\"selection\": \"selector009\"}}]}], \"data\": {\"name\": \"data-c867c57b43f49382e27d5a5094c2a815\"}, \"height\": 400, \"title\": \"New York: positiveRate\", \"width\": 500, \"$schema\": \"https://vega.github.io/schema/vega-lite/v4.8.1.json\", \"datasets\": {\"data-c867c57b43f49382e27d5a5094c2a815\": [{\"date\": \"2020-12-22T00:00:00\", \"totalTestResultsIncrease\": 164868.0, \"positiveIncrease\": 9716.0, \"death\": 28850.0, \"deathIncrease\": 141.0, \"positiveRate\": 0.059, \"state\": \"New York\", \"sma7d\": 0.055}, {\"date\": \"2020-12-23T00:00:00\", \"totalTestResultsIncrease\": 204361.0, \"positiveIncrease\": 11937.0, \"death\": 29016.0, \"deathIncrease\": 166.0, \"positiveRate\": 0.058, \"state\": \"New York\", \"sma7d\": 0.055}, {\"date\": \"2020-12-24T00:00:00\", \"totalTestResultsIncrease\": 226296.0, \"positiveIncrease\": 12568.0, \"death\": 29149.0, \"deathIncrease\": 133.0, \"positiveRate\": 0.056, \"state\": \"New York\", \"sma7d\": 0.055}, {\"date\": \"2020-12-25T00:00:00\", \"totalTestResultsIncrease\": 226560.0, \"positiveIncrease\": 12446.0, \"death\": 29270.0, \"deathIncrease\": 121.0, \"positiveRate\": 0.055, \"state\": \"New York\", \"sma7d\": 0.055}, {\"date\": \"2020-12-26T00:00:00\", \"totalTestResultsIncrease\": 201442.0, \"positiveIncrease\": 10806.0, \"death\": 29396.0, \"deathIncrease\": 126.0, \"positiveRate\": 0.054, \"state\": \"New York\", \"sma7d\": 0.056}, {\"date\": \"2020-12-27T00:00:00\", \"totalTestResultsIncrease\": 130299.0, \"positiveIncrease\": 7623.0, \"death\": 29511.0, \"deathIncrease\": 115.0, \"positiveRate\": 0.059, \"state\": \"New York\", \"sma7d\": 0.057}, {\"date\": \"2020-12-28T00:00:00\", \"totalTestResultsIncrease\": 124866.0, \"positiveIncrease\": 10407.0, \"death\": 29629.0, \"deathIncrease\": 118.0, \"positiveRate\": 0.083, \"state\": \"New York\", \"sma7d\": 0.061}, {\"date\": \"2020-12-29T00:00:00\", \"totalTestResultsIncrease\": 160164.0, \"positiveIncrease\": 11438.0, \"death\": 29756.0, \"deathIncrease\": 127.0, \"positiveRate\": 0.071, \"state\": \"New York\", \"sma7d\": 0.062}, {\"date\": \"2020-12-30T00:00:00\", \"totalTestResultsIncrease\": 154949.0, \"positiveIncrease\": 13422.0, \"death\": 29905.0, \"deathIncrease\": 149.0, \"positiveRate\": 0.087, \"state\": \"New York\", \"sma7d\": 0.066}, {\"date\": \"2020-12-31T00:00:00\", \"totalTestResultsIncrease\": 216587.0, \"positiveIncrease\": 16802.0, \"death\": 30040.0, \"deathIncrease\": 135.0, \"positiveRate\": 0.078, \"state\": \"New York\", \"sma7d\": 0.07}, {\"date\": \"2021-01-01T00:00:00\", \"totalTestResultsIncrease\": 219253.0, \"positiveIncrease\": 16497.0, \"death\": 30208.0, \"deathIncrease\": 168.0, \"positiveRate\": 0.075, \"state\": \"New York\", \"sma7d\": 0.072}, {\"date\": \"2021-01-02T00:00:00\", \"totalTestResultsIncrease\": 202446.0, \"positiveIncrease\": 15074.0, \"death\": 30337.0, \"deathIncrease\": 129.0, \"positiveRate\": 0.074, \"state\": \"New York\", \"sma7d\": 0.075}, {\"date\": \"2021-01-03T00:00:00\", \"totalTestResultsIncrease\": 142345.0, \"positiveIncrease\": 11368.0, \"death\": 30476.0, \"deathIncrease\": 139.0, \"positiveRate\": 0.08, \"state\": \"New York\", \"sma7d\": 0.078}, {\"date\": \"2021-01-04T00:00:00\", \"totalTestResultsIncrease\": 134360.0, \"positiveIncrease\": 11209.0, \"death\": 30648.0, \"deathIncrease\": 172.0, \"positiveRate\": 0.083, \"state\": \"New York\", \"sma7d\": 0.078}, {\"date\": \"2021-01-05T00:00:00\", \"totalTestResultsIncrease\": 152402.0, \"positiveIncrease\": 12666.0, \"death\": 30802.0, \"deathIncrease\": 154.0, \"positiveRate\": 0.083, \"state\": \"New York\", \"sma7d\": 0.08}, {\"date\": \"2021-01-06T00:00:00\", \"totalTestResultsIncrease\": 197816.0, \"positiveIncrease\": 16648.0, \"death\": 30965.0, \"deathIncrease\": 163.0, \"positiveRate\": 0.084, \"state\": \"New York\", \"sma7d\": 0.08}, {\"date\": \"2021-01-07T00:00:00\", \"totalTestResultsIncrease\": 238550.0, \"positiveIncrease\": 17636.0, \"death\": 31164.0, \"deathIncrease\": 199.0, \"positiveRate\": 0.074, \"state\": \"New York\", \"sma7d\": 0.079}, {\"date\": \"2021-01-08T00:00:00\", \"totalTestResultsIncrease\": 243903.0, \"positiveIncrease\": 18832.0, \"death\": 31329.0, \"deathIncrease\": 165.0, \"positiveRate\": 0.077, \"state\": \"New York\", \"sma7d\": 0.079}, {\"date\": \"2021-01-09T00:00:00\", \"totalTestResultsIncrease\": 258031.0, \"positiveIncrease\": 16943.0, \"death\": 31519.0, \"deathIncrease\": 190.0, \"positiveRate\": 0.066, \"state\": \"New York\", \"sma7d\": 0.078}, {\"date\": \"2021-01-10T00:00:00\", \"totalTestResultsIncrease\": 246836.0, \"positiveIncrease\": 15355.0, \"death\": 31672.0, \"deathIncrease\": 153.0, \"positiveRate\": 0.062, \"state\": \"New York\", \"sma7d\": 0.076}, {\"date\": \"2021-01-11T00:00:00\", \"totalTestResultsIncrease\": 203904.0, \"positiveIncrease\": 13714.0, \"death\": 31841.0, \"deathIncrease\": 169.0, \"positiveRate\": 0.067, \"state\": \"New York\", \"sma7d\": 0.073}, {\"date\": \"2021-01-12T00:00:00\", \"totalTestResultsIncrease\": 196671.0, \"positiveIncrease\": 15214.0, \"death\": 32007.0, \"deathIncrease\": 166.0, \"positiveRate\": 0.077, \"state\": \"New York\", \"sma7d\": 0.072}, {\"date\": \"2021-01-13T00:00:00\", \"totalTestResultsIncrease\": 196868.0, \"positiveIncrease\": 14577.0, \"death\": 32175.0, \"deathIncrease\": 168.0, \"positiveRate\": 0.074, \"state\": \"New York\", \"sma7d\": 0.071}, {\"date\": \"2021-01-14T00:00:00\", \"totalTestResultsIncrease\": 212589.0, \"positiveIncrease\": 13661.0, \"death\": 32379.0, \"deathIncrease\": 204.0, \"positiveRate\": 0.064, \"state\": \"New York\", \"sma7d\": 0.07}, {\"date\": \"2021-01-15T00:00:00\", \"totalTestResultsIncrease\": 324671.0, \"positiveIncrease\": 19942.0, \"death\": 32566.0, \"deathIncrease\": 187.0, \"positiveRate\": 0.061, \"state\": \"New York\", \"sma7d\": 0.067}, {\"date\": \"2021-01-16T00:00:00\", \"totalTestResultsIncrease\": 277286.0, \"positiveIncrease\": 15998.0, \"death\": 32725.0, \"deathIncrease\": 159.0, \"positiveRate\": 0.058, \"state\": \"New York\", \"sma7d\": 0.066}, {\"date\": \"2021-01-17T00:00:00\", \"totalTestResultsIncrease\": 246507.0, \"positiveIncrease\": 13842.0, \"death\": 32897.0, \"deathIncrease\": 172.0, \"positiveRate\": 0.056, \"state\": \"New York\", \"sma7d\": 0.065}, {\"date\": \"2021-01-18T00:00:00\", \"totalTestResultsIncrease\": 186205.0, \"positiveIncrease\": 12185.0, \"death\": 33052.0, \"deathIncrease\": 155.0, \"positiveRate\": 0.065, \"state\": \"New York\", \"sma7d\": 0.065}, {\"date\": \"2021-01-19T00:00:00\", \"totalTestResultsIncrease\": 177269.0, \"positiveIncrease\": 12512.0, \"death\": 33224.0, \"deathIncrease\": 172.0, \"positiveRate\": 0.071, \"state\": \"New York\", \"sma7d\": 0.064}, {\"date\": \"2021-01-20T00:00:00\", \"totalTestResultsIncrease\": 195409.0, \"positiveIncrease\": 13364.0, \"death\": 33415.0, \"deathIncrease\": 191.0, \"positiveRate\": 0.068, \"state\": \"New York\", \"sma7d\": 0.063}, {\"date\": \"2021-01-21T00:00:00\", \"totalTestResultsIncrease\": 224569.0, \"positiveIncrease\": 13886.0, \"death\": 33594.0, \"deathIncrease\": 179.0, \"positiveRate\": 0.062, \"state\": \"New York\", \"sma7d\": 0.063}, {\"date\": \"2021-01-22T00:00:00\", \"totalTestResultsIncrease\": 268001.0, \"positiveIncrease\": 15144.0, \"death\": 33763.0, \"deathIncrease\": 169.0, \"positiveRate\": 0.057, \"state\": \"New York\", \"sma7d\": 0.062}, {\"date\": \"2021-01-23T00:00:00\", \"totalTestResultsIncrease\": 262106.0, \"positiveIncrease\": 13786.0, \"death\": 33907.0, \"deathIncrease\": 144.0, \"positiveRate\": 0.053, \"state\": \"New York\", \"sma7d\": 0.062}, {\"date\": \"2021-01-24T00:00:00\", \"totalTestResultsIncrease\": 249955.0, \"positiveIncrease\": 12720.0, \"death\": 34069.0, \"deathIncrease\": 162.0, \"positiveRate\": 0.051, \"state\": \"New York\", \"sma7d\": 0.061}, {\"date\": \"2021-01-25T00:00:00\", \"totalTestResultsIncrease\": 219538.0, \"positiveIncrease\": 12003.0, \"death\": 34242.0, \"deathIncrease\": 173.0, \"positiveRate\": 0.055, \"state\": \"New York\", \"sma7d\": 0.06}, {\"date\": \"2021-01-26T00:00:00\", \"totalTestResultsIncrease\": 162938.0, \"positiveIncrease\": 11064.0, \"death\": 34407.0, \"deathIncrease\": 165.0, \"positiveRate\": 0.068, \"state\": \"New York\", \"sma7d\": 0.059}, {\"date\": \"2021-01-27T00:00:00\", \"totalTestResultsIncrease\": 202661.0, \"positiveIncrease\": 11028.0, \"death\": 34579.0, \"deathIncrease\": 172.0, \"positiveRate\": 0.054, \"state\": \"New York\", \"sma7d\": 0.057}, {\"date\": \"2021-01-28T00:00:00\", \"totalTestResultsIncrease\": 250668.0, \"positiveIncrease\": 13398.0, \"death\": 34742.0, \"deathIncrease\": 163.0, \"positiveRate\": 0.053, \"state\": \"New York\", \"sma7d\": 0.056}, {\"date\": \"2021-01-29T00:00:00\", \"totalTestResultsIncrease\": 270518.0, \"positiveIncrease\": 12579.0, \"death\": 34893.0, \"deathIncrease\": 151.0, \"positiveRate\": 0.046, \"state\": \"New York\", \"sma7d\": 0.054}, {\"date\": \"2021-01-30T00:00:00\", \"totalTestResultsIncrease\": 269350.0, \"positiveIncrease\": 12804.0, \"death\": 35036.0, \"deathIncrease\": 143.0, \"positiveRate\": 0.048, \"state\": \"New York\", \"sma7d\": 0.054}, {\"date\": \"2021-01-31T00:00:00\", \"totalTestResultsIncrease\": 243066.0, \"positiveIncrease\": 10793.0, \"death\": 35178.0, \"deathIncrease\": 142.0, \"positiveRate\": 0.044, \"state\": \"New York\", \"sma7d\": 0.053}, {\"date\": \"2021-02-01T00:00:00\", \"totalTestResultsIncrease\": 175038.0, \"positiveIncrease\": 8508.0, \"death\": 35319.0, \"deathIncrease\": 141.0, \"positiveRate\": 0.049, \"state\": \"New York\", \"sma7d\": 0.052}, {\"date\": \"2021-02-02T00:00:00\", \"totalTestResultsIncrease\": 150199.0, \"positiveIncrease\": 8215.0, \"death\": 35466.0, \"deathIncrease\": 147.0, \"positiveRate\": 0.055, \"state\": \"New York\", \"sma7d\": 0.05}, {\"date\": \"2021-02-03T00:00:00\", \"totalTestResultsIncrease\": 126489.0, \"positiveIncrease\": 5925.0, \"death\": 35631.0, \"deathIncrease\": 165.0, \"positiveRate\": 0.047, \"state\": \"New York\", \"sma7d\": 0.049}, {\"date\": \"2021-02-04T00:00:00\", \"totalTestResultsIncrease\": 169186.0, \"positiveIncrease\": 7414.0, \"death\": 35767.0, \"deathIncrease\": 136.0, \"positiveRate\": 0.044, \"state\": \"New York\", \"sma7d\": 0.048}, {\"date\": \"2021-02-05T00:00:00\", \"totalTestResultsIncrease\": 203627.0, \"positiveIncrease\": 8777.0, \"death\": 35920.0, \"deathIncrease\": 153.0, \"positiveRate\": 0.043, \"state\": \"New York\", \"sma7d\": 0.047}, {\"date\": \"2021-02-06T00:00:00\", \"totalTestResultsIncrease\": 261285.0, \"positiveIncrease\": 11252.0, \"death\": 36079.0, \"deathIncrease\": 159.0, \"positiveRate\": 0.043, \"state\": \"New York\", \"sma7d\": 0.046}, {\"date\": \"2021-02-07T00:00:00\", \"totalTestResultsIncrease\": 250892.0, \"positiveIncrease\": 10025.0, \"death\": 36224.0, \"deathIncrease\": 145.0, \"positiveRate\": 0.04, \"state\": \"New York\", \"sma7d\": 0.046}, {\"date\": \"2021-02-08T00:00:00\", \"totalTestResultsIncrease\": 197183.0, \"positiveIncrease\": 8448.0, \"death\": 36339.0, \"deathIncrease\": 115.0, \"positiveRate\": 0.043, \"state\": \"New York\", \"sma7d\": 0.045}, {\"date\": \"2021-02-09T00:00:00\", \"totalTestResultsIncrease\": 153648.0, \"positiveIncrease\": 7866.0, \"death\": 36481.0, \"deathIncrease\": 142.0, \"positiveRate\": 0.051, \"state\": \"New York\", \"sma7d\": 0.044}, {\"date\": \"2021-02-10T00:00:00\", \"totalTestResultsIncrease\": 176750.0, \"positiveIncrease\": 7101.0, \"death\": 36619.0, \"deathIncrease\": 138.0, \"positiveRate\": 0.04, \"state\": \"New York\", \"sma7d\": 0.043}, {\"date\": \"2021-02-11T00:00:00\", \"totalTestResultsIncrease\": 285499.0, \"positiveIncrease\": 10099.0, \"death\": 36743.0, \"deathIncrease\": 124.0, \"positiveRate\": 0.035, \"state\": \"New York\", \"sma7d\": 0.042}, {\"date\": \"2021-02-12T00:00:00\", \"totalTestResultsIncrease\": 237134.0, \"positiveIncrease\": 8404.0, \"death\": 36882.0, \"deathIncrease\": 139.0, \"positiveRate\": 0.035, \"state\": \"New York\", \"sma7d\": 0.041}, {\"date\": \"2021-02-13T00:00:00\", \"totalTestResultsIncrease\": 253563.0, \"positiveIncrease\": 8763.0, \"death\": 37009.0, \"deathIncrease\": 127.0, \"positiveRate\": 0.035, \"state\": \"New York\", \"sma7d\": 0.04}, {\"date\": \"2021-02-14T00:00:00\", \"totalTestResultsIncrease\": 234708.0, \"positiveIncrease\": 8316.0, \"death\": 37118.0, \"deathIncrease\": 109.0, \"positiveRate\": 0.035, \"state\": \"New York\", \"sma7d\": 0.039}]}}, {\"mode\": \"vega-lite\"});\n",
       "</script>"
      ],
      "text/plain": [
       "alt.LayerChart(...)"
      ]
     },
     "execution_count": 12,
     "metadata": {},
     "output_type": "execute_result"
    }
   ],
   "source": [
    "create_plot(ny, 'positiveRate')"
   ]
  },
  {
   "cell_type": "code",
   "execution_count": 13,
   "id": "instrumental-capture",
   "metadata": {
    "execution": {
     "iopub.execute_input": "2021-02-15T09:16:50.455373Z",
     "iopub.status.busy": "2021-02-15T09:16:50.439628Z",
     "iopub.status.idle": "2021-02-15T09:16:50.513472Z",
     "shell.execute_reply": "2021-02-15T09:16:50.512596Z"
    },
    "papermill": {
     "duration": 0.115762,
     "end_time": "2021-02-15T09:16:50.513601",
     "exception": false,
     "start_time": "2021-02-15T09:16:50.397839",
     "status": "completed"
    },
    "tags": []
   },
   "outputs": [
    {
     "data": {
      "text/html": [
       "\n",
       "<div id=\"altair-viz-72607aff0ed04534a2f63bdfa8ad33fa\"></div>\n",
       "<script type=\"text/javascript\">\n",
       "  (function(spec, embedOpt){\n",
       "    let outputDiv = document.currentScript.previousElementSibling;\n",
       "    if (outputDiv.id !== \"altair-viz-72607aff0ed04534a2f63bdfa8ad33fa\") {\n",
       "      outputDiv = document.getElementById(\"altair-viz-72607aff0ed04534a2f63bdfa8ad33fa\");\n",
       "    }\n",
       "    const paths = {\n",
       "      \"vega\": \"https://cdn.jsdelivr.net/npm//vega@5?noext\",\n",
       "      \"vega-lib\": \"https://cdn.jsdelivr.net/npm//vega-lib?noext\",\n",
       "      \"vega-lite\": \"https://cdn.jsdelivr.net/npm//vega-lite@4.8.1?noext\",\n",
       "      \"vega-embed\": \"https://cdn.jsdelivr.net/npm//vega-embed@6?noext\",\n",
       "    };\n",
       "\n",
       "    function loadScript(lib) {\n",
       "      return new Promise(function(resolve, reject) {\n",
       "        var s = document.createElement('script');\n",
       "        s.src = paths[lib];\n",
       "        s.async = true;\n",
       "        s.onload = () => resolve(paths[lib]);\n",
       "        s.onerror = () => reject(`Error loading script: ${paths[lib]}`);\n",
       "        document.getElementsByTagName(\"head\")[0].appendChild(s);\n",
       "      });\n",
       "    }\n",
       "\n",
       "    function showError(err) {\n",
       "      outputDiv.innerHTML = `<div class=\"error\" style=\"color:red;\">${err}</div>`;\n",
       "      throw err;\n",
       "    }\n",
       "\n",
       "    function displayChart(vegaEmbed) {\n",
       "      vegaEmbed(outputDiv, spec, embedOpt)\n",
       "        .catch(err => showError(`Javascript Error: ${err.message}<br>This usually means there's a typo in your chart specification. See the javascript console for the full traceback.`));\n",
       "    }\n",
       "\n",
       "    if(typeof define === \"function\" && define.amd) {\n",
       "      requirejs.config({paths});\n",
       "      require([\"vega-embed\"], displayChart, err => showError(`Error loading script: ${err.message}`));\n",
       "    } else if (typeof vegaEmbed === \"function\") {\n",
       "      displayChart(vegaEmbed);\n",
       "    } else {\n",
       "      loadScript(\"vega\")\n",
       "        .then(() => loadScript(\"vega-lite\"))\n",
       "        .then(() => loadScript(\"vega-embed\"))\n",
       "        .catch(showError)\n",
       "        .then(() => displayChart(vegaEmbed));\n",
       "    }\n",
       "  })({\"config\": {\"view\": {\"continuousWidth\": 400, \"continuousHeight\": 300}}, \"layer\": [{\"layer\": [{\"mark\": {\"type\": \"point\", \"size\": 75}, \"encoding\": {\"tooltip\": [{\"type\": \"temporal\", \"field\": \"date\"}, {\"type\": \"quantitative\", \"field\": \"deathIncrease\"}, {\"type\": \"quantitative\", \"field\": \"sma7d\"}], \"x\": {\"type\": \"temporal\", \"field\": \"date\"}, \"y\": {\"type\": \"quantitative\", \"field\": \"deathIncrease\"}}, \"selection\": {\"selector012\": {\"type\": \"interval\", \"bind\": \"scales\", \"encodings\": [\"x\", \"y\"]}}}, {\"mark\": {\"type\": \"line\", \"color\": \"purple\"}, \"encoding\": {\"x\": {\"type\": \"temporal\", \"field\": \"date\"}, \"y\": {\"type\": \"quantitative\", \"field\": \"sma7d\"}}}]}, {\"mark\": {\"type\": \"rule\", \"color\": \"#aaa\"}, \"encoding\": {\"x\": {\"type\": \"temporal\", \"field\": \"date\"}}, \"transform\": [{\"filter\": {\"selection\": \"selector011\"}}]}, {\"mark\": \"circle\", \"encoding\": {\"opacity\": {\"condition\": {\"value\": 1, \"selection\": \"selector011\"}, \"value\": 0}, \"tooltip\": [{\"type\": \"temporal\", \"field\": \"date\"}, {\"type\": \"quantitative\", \"field\": \"deathIncrease\"}, {\"type\": \"quantitative\", \"field\": \"sma7d\"}], \"x\": {\"type\": \"temporal\", \"field\": \"date\"}, \"y\": {\"type\": \"quantitative\", \"field\": \"deathIncrease\"}}, \"selection\": {\"selector011\": {\"type\": \"single\", \"encodings\": [\"x\"], \"on\": \"mouseover\", \"nearest\": true, \"empty\": \"none\"}}}, {\"mark\": {\"type\": \"text\", \"align\": \"left\", \"dx\": 5, \"dy\": -5, \"stroke\": \"white\", \"strokeWidth\": 2}, \"encoding\": {\"text\": {\"type\": \"quantitative\", \"field\": \"deathIncrease\"}, \"tooltip\": [{\"type\": \"temporal\", \"field\": \"date\"}, {\"type\": \"quantitative\", \"field\": \"deathIncrease\"}, {\"type\": \"quantitative\", \"field\": \"sma7d\"}], \"x\": {\"type\": \"temporal\", \"field\": \"date\"}, \"y\": {\"type\": \"quantitative\", \"field\": \"deathIncrease\"}}, \"transform\": [{\"filter\": {\"selection\": \"selector011\"}}]}, {\"mark\": {\"type\": \"text\", \"align\": \"left\", \"dx\": 5, \"dy\": -5}, \"encoding\": {\"text\": {\"type\": \"quantitative\", \"field\": \"deathIncrease\"}, \"tooltip\": [{\"type\": \"temporal\", \"field\": \"date\"}, {\"type\": \"quantitative\", \"field\": \"deathIncrease\"}, {\"type\": \"quantitative\", \"field\": \"sma7d\"}], \"x\": {\"type\": \"temporal\", \"field\": \"date\"}, \"y\": {\"type\": \"quantitative\", \"field\": \"deathIncrease\"}}, \"transform\": [{\"filter\": {\"selection\": \"selector011\"}}]}], \"data\": {\"name\": \"data-5f6262b83aa91deb31b5d6c97dff8e4d\"}, \"height\": 400, \"title\": \"New York: deathIncrease\", \"width\": 500, \"$schema\": \"https://vega.github.io/schema/vega-lite/v4.8.1.json\", \"datasets\": {\"data-5f6262b83aa91deb31b5d6c97dff8e4d\": [{\"date\": \"2020-12-22T00:00:00\", \"totalTestResultsIncrease\": 164868.0, \"positiveIncrease\": 9716.0, \"death\": 28850.0, \"deathIncrease\": 141.0, \"positiveRate\": 0.059, \"state\": \"New York\", \"sma7d\": 121.143}, {\"date\": \"2020-12-23T00:00:00\", \"totalTestResultsIncrease\": 204361.0, \"positiveIncrease\": 11937.0, \"death\": 29016.0, \"deathIncrease\": 166.0, \"positiveRate\": 0.058, \"state\": \"New York\", \"sma7d\": 130.857}, {\"date\": \"2020-12-24T00:00:00\", \"totalTestResultsIncrease\": 226296.0, \"positiveIncrease\": 12568.0, \"death\": 29149.0, \"deathIncrease\": 133.0, \"positiveRate\": 0.056, \"state\": \"New York\", \"sma7d\": 132.429}, {\"date\": \"2020-12-25T00:00:00\", \"totalTestResultsIncrease\": 226560.0, \"positiveIncrease\": 12446.0, \"death\": 29270.0, \"deathIncrease\": 121.0, \"positiveRate\": 0.055, \"state\": \"New York\", \"sma7d\": 132.286}, {\"date\": \"2020-12-26T00:00:00\", \"totalTestResultsIncrease\": 201442.0, \"positiveIncrease\": 10806.0, \"death\": 29396.0, \"deathIncrease\": 126.0, \"positiveRate\": 0.054, \"state\": \"New York\", \"sma7d\": 131.714}, {\"date\": \"2020-12-27T00:00:00\", \"totalTestResultsIncrease\": 130299.0, \"positiveIncrease\": 7623.0, \"death\": 29511.0, \"deathIncrease\": 115.0, \"positiveRate\": 0.059, \"state\": \"New York\", \"sma7d\": 130.429}, {\"date\": \"2020-12-28T00:00:00\", \"totalTestResultsIncrease\": 124866.0, \"positiveIncrease\": 10407.0, \"death\": 29629.0, \"deathIncrease\": 118.0, \"positiveRate\": 0.083, \"state\": \"New York\", \"sma7d\": 131.429}, {\"date\": \"2020-12-29T00:00:00\", \"totalTestResultsIncrease\": 160164.0, \"positiveIncrease\": 11438.0, \"death\": 29756.0, \"deathIncrease\": 127.0, \"positiveRate\": 0.071, \"state\": \"New York\", \"sma7d\": 129.429}, {\"date\": \"2020-12-30T00:00:00\", \"totalTestResultsIncrease\": 154949.0, \"positiveIncrease\": 13422.0, \"death\": 29905.0, \"deathIncrease\": 149.0, \"positiveRate\": 0.087, \"state\": \"New York\", \"sma7d\": 127.0}, {\"date\": \"2020-12-31T00:00:00\", \"totalTestResultsIncrease\": 216587.0, \"positiveIncrease\": 16802.0, \"death\": 30040.0, \"deathIncrease\": 135.0, \"positiveRate\": 0.078, \"state\": \"New York\", \"sma7d\": 127.286}, {\"date\": \"2021-01-01T00:00:00\", \"totalTestResultsIncrease\": 219253.0, \"positiveIncrease\": 16497.0, \"death\": 30208.0, \"deathIncrease\": 168.0, \"positiveRate\": 0.075, \"state\": \"New York\", \"sma7d\": 134.0}, {\"date\": \"2021-01-02T00:00:00\", \"totalTestResultsIncrease\": 202446.0, \"positiveIncrease\": 15074.0, \"death\": 30337.0, \"deathIncrease\": 129.0, \"positiveRate\": 0.074, \"state\": \"New York\", \"sma7d\": 134.429}, {\"date\": \"2021-01-03T00:00:00\", \"totalTestResultsIncrease\": 142345.0, \"positiveIncrease\": 11368.0, \"death\": 30476.0, \"deathIncrease\": 139.0, \"positiveRate\": 0.08, \"state\": \"New York\", \"sma7d\": 137.857}, {\"date\": \"2021-01-04T00:00:00\", \"totalTestResultsIncrease\": 134360.0, \"positiveIncrease\": 11209.0, \"death\": 30648.0, \"deathIncrease\": 172.0, \"positiveRate\": 0.083, \"state\": \"New York\", \"sma7d\": 145.571}, {\"date\": \"2021-01-05T00:00:00\", \"totalTestResultsIncrease\": 152402.0, \"positiveIncrease\": 12666.0, \"death\": 30802.0, \"deathIncrease\": 154.0, \"positiveRate\": 0.083, \"state\": \"New York\", \"sma7d\": 149.429}, {\"date\": \"2021-01-06T00:00:00\", \"totalTestResultsIncrease\": 197816.0, \"positiveIncrease\": 16648.0, \"death\": 30965.0, \"deathIncrease\": 163.0, \"positiveRate\": 0.084, \"state\": \"New York\", \"sma7d\": 151.429}, {\"date\": \"2021-01-07T00:00:00\", \"totalTestResultsIncrease\": 238550.0, \"positiveIncrease\": 17636.0, \"death\": 31164.0, \"deathIncrease\": 199.0, \"positiveRate\": 0.074, \"state\": \"New York\", \"sma7d\": 160.571}, {\"date\": \"2021-01-08T00:00:00\", \"totalTestResultsIncrease\": 243903.0, \"positiveIncrease\": 18832.0, \"death\": 31329.0, \"deathIncrease\": 165.0, \"positiveRate\": 0.077, \"state\": \"New York\", \"sma7d\": 160.143}, {\"date\": \"2021-01-09T00:00:00\", \"totalTestResultsIncrease\": 258031.0, \"positiveIncrease\": 16943.0, \"death\": 31519.0, \"deathIncrease\": 190.0, \"positiveRate\": 0.066, \"state\": \"New York\", \"sma7d\": 168.857}, {\"date\": \"2021-01-10T00:00:00\", \"totalTestResultsIncrease\": 246836.0, \"positiveIncrease\": 15355.0, \"death\": 31672.0, \"deathIncrease\": 153.0, \"positiveRate\": 0.062, \"state\": \"New York\", \"sma7d\": 170.857}, {\"date\": \"2021-01-11T00:00:00\", \"totalTestResultsIncrease\": 203904.0, \"positiveIncrease\": 13714.0, \"death\": 31841.0, \"deathIncrease\": 169.0, \"positiveRate\": 0.067, \"state\": \"New York\", \"sma7d\": 170.429}, {\"date\": \"2021-01-12T00:00:00\", \"totalTestResultsIncrease\": 196671.0, \"positiveIncrease\": 15214.0, \"death\": 32007.0, \"deathIncrease\": 166.0, \"positiveRate\": 0.077, \"state\": \"New York\", \"sma7d\": 172.143}, {\"date\": \"2021-01-13T00:00:00\", \"totalTestResultsIncrease\": 196868.0, \"positiveIncrease\": 14577.0, \"death\": 32175.0, \"deathIncrease\": 168.0, \"positiveRate\": 0.074, \"state\": \"New York\", \"sma7d\": 172.857}, {\"date\": \"2021-01-14T00:00:00\", \"totalTestResultsIncrease\": 212589.0, \"positiveIncrease\": 13661.0, \"death\": 32379.0, \"deathIncrease\": 204.0, \"positiveRate\": 0.064, \"state\": \"New York\", \"sma7d\": 173.571}, {\"date\": \"2021-01-15T00:00:00\", \"totalTestResultsIncrease\": 324671.0, \"positiveIncrease\": 19942.0, \"death\": 32566.0, \"deathIncrease\": 187.0, \"positiveRate\": 0.061, \"state\": \"New York\", \"sma7d\": 176.714}, {\"date\": \"2021-01-16T00:00:00\", \"totalTestResultsIncrease\": 277286.0, \"positiveIncrease\": 15998.0, \"death\": 32725.0, \"deathIncrease\": 159.0, \"positiveRate\": 0.058, \"state\": \"New York\", \"sma7d\": 172.286}, {\"date\": \"2021-01-17T00:00:00\", \"totalTestResultsIncrease\": 246507.0, \"positiveIncrease\": 13842.0, \"death\": 32897.0, \"deathIncrease\": 172.0, \"positiveRate\": 0.056, \"state\": \"New York\", \"sma7d\": 175.0}, {\"date\": \"2021-01-18T00:00:00\", \"totalTestResultsIncrease\": 186205.0, \"positiveIncrease\": 12185.0, \"death\": 33052.0, \"deathIncrease\": 155.0, \"positiveRate\": 0.065, \"state\": \"New York\", \"sma7d\": 173.0}, {\"date\": \"2021-01-19T00:00:00\", \"totalTestResultsIncrease\": 177269.0, \"positiveIncrease\": 12512.0, \"death\": 33224.0, \"deathIncrease\": 172.0, \"positiveRate\": 0.071, \"state\": \"New York\", \"sma7d\": 173.857}, {\"date\": \"2021-01-20T00:00:00\", \"totalTestResultsIncrease\": 195409.0, \"positiveIncrease\": 13364.0, \"death\": 33415.0, \"deathIncrease\": 191.0, \"positiveRate\": 0.068, \"state\": \"New York\", \"sma7d\": 177.143}, {\"date\": \"2021-01-21T00:00:00\", \"totalTestResultsIncrease\": 224569.0, \"positiveIncrease\": 13886.0, \"death\": 33594.0, \"deathIncrease\": 179.0, \"positiveRate\": 0.062, \"state\": \"New York\", \"sma7d\": 173.571}, {\"date\": \"2021-01-22T00:00:00\", \"totalTestResultsIncrease\": 268001.0, \"positiveIncrease\": 15144.0, \"death\": 33763.0, \"deathIncrease\": 169.0, \"positiveRate\": 0.057, \"state\": \"New York\", \"sma7d\": 171.0}, {\"date\": \"2021-01-23T00:00:00\", \"totalTestResultsIncrease\": 262106.0, \"positiveIncrease\": 13786.0, \"death\": 33907.0, \"deathIncrease\": 144.0, \"positiveRate\": 0.053, \"state\": \"New York\", \"sma7d\": 168.857}, {\"date\": \"2021-01-24T00:00:00\", \"totalTestResultsIncrease\": 249955.0, \"positiveIncrease\": 12720.0, \"death\": 34069.0, \"deathIncrease\": 162.0, \"positiveRate\": 0.051, \"state\": \"New York\", \"sma7d\": 167.429}, {\"date\": \"2021-01-25T00:00:00\", \"totalTestResultsIncrease\": 219538.0, \"positiveIncrease\": 12003.0, \"death\": 34242.0, \"deathIncrease\": 173.0, \"positiveRate\": 0.055, \"state\": \"New York\", \"sma7d\": 170.0}, {\"date\": \"2021-01-26T00:00:00\", \"totalTestResultsIncrease\": 162938.0, \"positiveIncrease\": 11064.0, \"death\": 34407.0, \"deathIncrease\": 165.0, \"positiveRate\": 0.068, \"state\": \"New York\", \"sma7d\": 169.0}, {\"date\": \"2021-01-27T00:00:00\", \"totalTestResultsIncrease\": 202661.0, \"positiveIncrease\": 11028.0, \"death\": 34579.0, \"deathIncrease\": 172.0, \"positiveRate\": 0.054, \"state\": \"New York\", \"sma7d\": 166.286}, {\"date\": \"2021-01-28T00:00:00\", \"totalTestResultsIncrease\": 250668.0, \"positiveIncrease\": 13398.0, \"death\": 34742.0, \"deathIncrease\": 163.0, \"positiveRate\": 0.053, \"state\": \"New York\", \"sma7d\": 164.0}, {\"date\": \"2021-01-29T00:00:00\", \"totalTestResultsIncrease\": 270518.0, \"positiveIncrease\": 12579.0, \"death\": 34893.0, \"deathIncrease\": 151.0, \"positiveRate\": 0.046, \"state\": \"New York\", \"sma7d\": 161.429}, {\"date\": \"2021-01-30T00:00:00\", \"totalTestResultsIncrease\": 269350.0, \"positiveIncrease\": 12804.0, \"death\": 35036.0, \"deathIncrease\": 143.0, \"positiveRate\": 0.048, \"state\": \"New York\", \"sma7d\": 161.286}, {\"date\": \"2021-01-31T00:00:00\", \"totalTestResultsIncrease\": 243066.0, \"positiveIncrease\": 10793.0, \"death\": 35178.0, \"deathIncrease\": 142.0, \"positiveRate\": 0.044, \"state\": \"New York\", \"sma7d\": 158.429}, {\"date\": \"2021-02-01T00:00:00\", \"totalTestResultsIncrease\": 175038.0, \"positiveIncrease\": 8508.0, \"death\": 35319.0, \"deathIncrease\": 141.0, \"positiveRate\": 0.049, \"state\": \"New York\", \"sma7d\": 153.857}, {\"date\": \"2021-02-02T00:00:00\", \"totalTestResultsIncrease\": 150199.0, \"positiveIncrease\": 8215.0, \"death\": 35466.0, \"deathIncrease\": 147.0, \"positiveRate\": 0.055, \"state\": \"New York\", \"sma7d\": 151.286}, {\"date\": \"2021-02-03T00:00:00\", \"totalTestResultsIncrease\": 126489.0, \"positiveIncrease\": 5925.0, \"death\": 35631.0, \"deathIncrease\": 165.0, \"positiveRate\": 0.047, \"state\": \"New York\", \"sma7d\": 150.286}, {\"date\": \"2021-02-04T00:00:00\", \"totalTestResultsIncrease\": 169186.0, \"positiveIncrease\": 7414.0, \"death\": 35767.0, \"deathIncrease\": 136.0, \"positiveRate\": 0.044, \"state\": \"New York\", \"sma7d\": 146.429}, {\"date\": \"2021-02-05T00:00:00\", \"totalTestResultsIncrease\": 203627.0, \"positiveIncrease\": 8777.0, \"death\": 35920.0, \"deathIncrease\": 153.0, \"positiveRate\": 0.043, \"state\": \"New York\", \"sma7d\": 146.714}, {\"date\": \"2021-02-06T00:00:00\", \"totalTestResultsIncrease\": 261285.0, \"positiveIncrease\": 11252.0, \"death\": 36079.0, \"deathIncrease\": 159.0, \"positiveRate\": 0.043, \"state\": \"New York\", \"sma7d\": 149.0}, {\"date\": \"2021-02-07T00:00:00\", \"totalTestResultsIncrease\": 250892.0, \"positiveIncrease\": 10025.0, \"death\": 36224.0, \"deathIncrease\": 145.0, \"positiveRate\": 0.04, \"state\": \"New York\", \"sma7d\": 149.429}, {\"date\": \"2021-02-08T00:00:00\", \"totalTestResultsIncrease\": 197183.0, \"positiveIncrease\": 8448.0, \"death\": 36339.0, \"deathIncrease\": 115.0, \"positiveRate\": 0.043, \"state\": \"New York\", \"sma7d\": 145.714}, {\"date\": \"2021-02-09T00:00:00\", \"totalTestResultsIncrease\": 153648.0, \"positiveIncrease\": 7866.0, \"death\": 36481.0, \"deathIncrease\": 142.0, \"positiveRate\": 0.051, \"state\": \"New York\", \"sma7d\": 145.0}, {\"date\": \"2021-02-10T00:00:00\", \"totalTestResultsIncrease\": 176750.0, \"positiveIncrease\": 7101.0, \"death\": 36619.0, \"deathIncrease\": 138.0, \"positiveRate\": 0.04, \"state\": \"New York\", \"sma7d\": 141.143}, {\"date\": \"2021-02-11T00:00:00\", \"totalTestResultsIncrease\": 285499.0, \"positiveIncrease\": 10099.0, \"death\": 36743.0, \"deathIncrease\": 124.0, \"positiveRate\": 0.035, \"state\": \"New York\", \"sma7d\": 139.429}, {\"date\": \"2021-02-12T00:00:00\", \"totalTestResultsIncrease\": 237134.0, \"positiveIncrease\": 8404.0, \"death\": 36882.0, \"deathIncrease\": 139.0, \"positiveRate\": 0.035, \"state\": \"New York\", \"sma7d\": 137.429}, {\"date\": \"2021-02-13T00:00:00\", \"totalTestResultsIncrease\": 253563.0, \"positiveIncrease\": 8763.0, \"death\": 37009.0, \"deathIncrease\": 127.0, \"positiveRate\": 0.035, \"state\": \"New York\", \"sma7d\": 132.857}, {\"date\": \"2021-02-14T00:00:00\", \"totalTestResultsIncrease\": 234708.0, \"positiveIncrease\": 8316.0, \"death\": 37118.0, \"deathIncrease\": 109.0, \"positiveRate\": 0.035, \"state\": \"New York\", \"sma7d\": 127.714}]}}, {\"mode\": \"vega-lite\"});\n",
       "</script>"
      ],
      "text/plain": [
       "alt.LayerChart(...)"
      ]
     },
     "execution_count": 13,
     "metadata": {},
     "output_type": "execute_result"
    }
   ],
   "source": [
    "create_plot(ny, 'deathIncrease')"
   ]
  },
  {
   "cell_type": "markdown",
   "id": "negative-entity",
   "metadata": {
    "papermill": {
     "duration": 0.018593,
     "end_time": "2021-02-15T09:16:50.550329",
     "exception": false,
     "start_time": "2021-02-15T09:16:50.531736",
     "status": "completed"
    },
    "tags": []
   },
   "source": [
    "## Non Tri-State"
   ]
  },
  {
   "cell_type": "code",
   "execution_count": 14,
   "id": "statutory-burton",
   "metadata": {
    "execution": {
     "iopub.execute_input": "2021-02-15T09:16:50.591642Z",
     "iopub.status.busy": "2021-02-15T09:16:50.591103Z",
     "iopub.status.idle": "2021-02-15T09:16:51.017765Z",
     "shell.execute_reply": "2021-02-15T09:16:51.016909Z"
    },
    "papermill": {
     "duration": 0.450063,
     "end_time": "2021-02-15T09:16:51.017975",
     "exception": false,
     "start_time": "2021-02-15T09:16:50.567912",
     "status": "completed"
    },
    "tags": []
   },
   "outputs": [],
   "source": [
    "non_tristate = create_df(df, lambda d: ~d['state'].isin(['CT','NJ','NY']), 'Non Tri-State')"
   ]
  },
  {
   "cell_type": "code",
   "execution_count": 15,
   "id": "dimensional-hollow",
   "metadata": {
    "execution": {
     "iopub.execute_input": "2021-02-15T09:16:51.090819Z",
     "iopub.status.busy": "2021-02-15T09:16:51.064795Z",
     "iopub.status.idle": "2021-02-15T09:16:51.153253Z",
     "shell.execute_reply": "2021-02-15T09:16:51.153670Z"
    },
    "papermill": {
     "duration": 0.115932,
     "end_time": "2021-02-15T09:16:51.153836",
     "exception": false,
     "start_time": "2021-02-15T09:16:51.037904",
     "status": "completed"
    },
    "tags": []
   },
   "outputs": [
    {
     "data": {
      "text/html": [
       "\n",
       "<div id=\"altair-viz-2dc5ca8417154f5396b7955a03362b63\"></div>\n",
       "<script type=\"text/javascript\">\n",
       "  (function(spec, embedOpt){\n",
       "    let outputDiv = document.currentScript.previousElementSibling;\n",
       "    if (outputDiv.id !== \"altair-viz-2dc5ca8417154f5396b7955a03362b63\") {\n",
       "      outputDiv = document.getElementById(\"altair-viz-2dc5ca8417154f5396b7955a03362b63\");\n",
       "    }\n",
       "    const paths = {\n",
       "      \"vega\": \"https://cdn.jsdelivr.net/npm//vega@5?noext\",\n",
       "      \"vega-lib\": \"https://cdn.jsdelivr.net/npm//vega-lib?noext\",\n",
       "      \"vega-lite\": \"https://cdn.jsdelivr.net/npm//vega-lite@4.8.1?noext\",\n",
       "      \"vega-embed\": \"https://cdn.jsdelivr.net/npm//vega-embed@6?noext\",\n",
       "    };\n",
       "\n",
       "    function loadScript(lib) {\n",
       "      return new Promise(function(resolve, reject) {\n",
       "        var s = document.createElement('script');\n",
       "        s.src = paths[lib];\n",
       "        s.async = true;\n",
       "        s.onload = () => resolve(paths[lib]);\n",
       "        s.onerror = () => reject(`Error loading script: ${paths[lib]}`);\n",
       "        document.getElementsByTagName(\"head\")[0].appendChild(s);\n",
       "      });\n",
       "    }\n",
       "\n",
       "    function showError(err) {\n",
       "      outputDiv.innerHTML = `<div class=\"error\" style=\"color:red;\">${err}</div>`;\n",
       "      throw err;\n",
       "    }\n",
       "\n",
       "    function displayChart(vegaEmbed) {\n",
       "      vegaEmbed(outputDiv, spec, embedOpt)\n",
       "        .catch(err => showError(`Javascript Error: ${err.message}<br>This usually means there's a typo in your chart specification. See the javascript console for the full traceback.`));\n",
       "    }\n",
       "\n",
       "    if(typeof define === \"function\" && define.amd) {\n",
       "      requirejs.config({paths});\n",
       "      require([\"vega-embed\"], displayChart, err => showError(`Error loading script: ${err.message}`));\n",
       "    } else if (typeof vegaEmbed === \"function\") {\n",
       "      displayChart(vegaEmbed);\n",
       "    } else {\n",
       "      loadScript(\"vega\")\n",
       "        .then(() => loadScript(\"vega-lite\"))\n",
       "        .then(() => loadScript(\"vega-embed\"))\n",
       "        .catch(showError)\n",
       "        .then(() => displayChart(vegaEmbed));\n",
       "    }\n",
       "  })({\"config\": {\"view\": {\"continuousWidth\": 400, \"continuousHeight\": 300}}, \"layer\": [{\"layer\": [{\"mark\": {\"type\": \"point\", \"size\": 75}, \"encoding\": {\"tooltip\": [{\"type\": \"temporal\", \"field\": \"date\"}, {\"type\": \"quantitative\", \"field\": \"positiveIncrease\"}, {\"type\": \"quantitative\", \"field\": \"sma7d\"}], \"x\": {\"type\": \"temporal\", \"field\": \"date\"}, \"y\": {\"type\": \"quantitative\", \"field\": \"positiveIncrease\"}}, \"selection\": {\"selector014\": {\"type\": \"interval\", \"bind\": \"scales\", \"encodings\": [\"x\", \"y\"]}}}, {\"mark\": {\"type\": \"line\", \"color\": \"purple\"}, \"encoding\": {\"x\": {\"type\": \"temporal\", \"field\": \"date\"}, \"y\": {\"type\": \"quantitative\", \"field\": \"sma7d\"}}}]}, {\"mark\": {\"type\": \"rule\", \"color\": \"#aaa\"}, \"encoding\": {\"x\": {\"type\": \"temporal\", \"field\": \"date\"}}, \"transform\": [{\"filter\": {\"selection\": \"selector013\"}}]}, {\"mark\": \"circle\", \"encoding\": {\"opacity\": {\"condition\": {\"value\": 1, \"selection\": \"selector013\"}, \"value\": 0}, \"tooltip\": [{\"type\": \"temporal\", \"field\": \"date\"}, {\"type\": \"quantitative\", \"field\": \"positiveIncrease\"}, {\"type\": \"quantitative\", \"field\": \"sma7d\"}], \"x\": {\"type\": \"temporal\", \"field\": \"date\"}, \"y\": {\"type\": \"quantitative\", \"field\": \"positiveIncrease\"}}, \"selection\": {\"selector013\": {\"type\": \"single\", \"encodings\": [\"x\"], \"on\": \"mouseover\", \"nearest\": true, \"empty\": \"none\"}}}, {\"mark\": {\"type\": \"text\", \"align\": \"left\", \"dx\": 5, \"dy\": -5, \"stroke\": \"white\", \"strokeWidth\": 2}, \"encoding\": {\"text\": {\"type\": \"quantitative\", \"field\": \"positiveIncrease\"}, \"tooltip\": [{\"type\": \"temporal\", \"field\": \"date\"}, {\"type\": \"quantitative\", \"field\": \"positiveIncrease\"}, {\"type\": \"quantitative\", \"field\": \"sma7d\"}], \"x\": {\"type\": \"temporal\", \"field\": \"date\"}, \"y\": {\"type\": \"quantitative\", \"field\": \"positiveIncrease\"}}, \"transform\": [{\"filter\": {\"selection\": \"selector013\"}}]}, {\"mark\": {\"type\": \"text\", \"align\": \"left\", \"dx\": 5, \"dy\": -5}, \"encoding\": {\"text\": {\"type\": \"quantitative\", \"field\": \"positiveIncrease\"}, \"tooltip\": [{\"type\": \"temporal\", \"field\": \"date\"}, {\"type\": \"quantitative\", \"field\": \"positiveIncrease\"}, {\"type\": \"quantitative\", \"field\": \"sma7d\"}], \"x\": {\"type\": \"temporal\", \"field\": \"date\"}, \"y\": {\"type\": \"quantitative\", \"field\": \"positiveIncrease\"}}, \"transform\": [{\"filter\": {\"selection\": \"selector013\"}}]}], \"data\": {\"name\": \"data-3f6cb64c2e6683106e7d221f7e80cc5a\"}, \"height\": 400, \"title\": \"Non Tri-State: positiveIncrease\", \"width\": 500, \"$schema\": \"https://vega.github.io/schema/vega-lite/v4.8.1.json\", \"datasets\": {\"data-3f6cb64c2e6683106e7d221f7e80cc5a\": [{\"date\": \"2020-12-22T00:00:00\", \"totalTestResultsIncrease\": 1564084.0, \"positiveIncrease\": 176443.0, \"death\": 261220.0, \"deathIncrease\": 2866.0, \"positiveRate\": 0.113, \"state\": \"Non Tri-State\", \"sma7d\": 196130.714}, {\"date\": \"2020-12-23T00:00:00\", \"totalTestResultsIncrease\": 1498879.0, \"positiveIncrease\": 205391.0, \"death\": 264274.0, \"deathIncrease\": 3054.0, \"positiveRate\": 0.137, \"state\": \"Non Tri-State\", \"sma7d\": 194663.0}, {\"date\": \"2020-12-24T00:00:00\", \"totalTestResultsIncrease\": 1657564.0, \"positiveIncrease\": 186748.0, \"death\": 266966.0, \"deathIncrease\": 2692.0, \"positiveRate\": 0.113, \"state\": \"Non Tri-State\", \"sma7d\": 189223.571}, {\"date\": \"2020-12-25T00:00:00\", \"totalTestResultsIncrease\": 1127035.0, \"positiveIncrease\": 108745.0, \"death\": 268347.0, \"deathIncrease\": 1381.0, \"positiveRate\": 0.096, \"state\": \"Non Tri-State\", \"sma7d\": 173049.429}, {\"date\": \"2020-12-26T00:00:00\", \"totalTestResultsIncrease\": 1951807.0, \"positiveIncrease\": 175457.0, \"death\": 269629.0, \"deathIncrease\": 1282.0, \"positiveRate\": 0.09, \"state\": \"Non Tri-State\", \"sma7d\": 170958.286}, {\"date\": \"2020-12-27T00:00:00\", \"totalTestResultsIncrease\": 1237556.0, \"positiveIncrease\": 143022.0, \"death\": 270894.0, \"deathIncrease\": 1265.0, \"positiveRate\": 0.116, \"state\": \"Non Tri-State\", \"sma7d\": 165417.714}, {\"date\": \"2020-12-28T00:00:00\", \"totalTestResultsIncrease\": 1036874.0, \"positiveIncrease\": 141950.0, \"death\": 272132.0, \"deathIncrease\": 1238.0, \"positiveRate\": 0.137, \"state\": \"Non Tri-State\", \"sma7d\": 162536.571}, {\"date\": \"2020-12-29T00:00:00\", \"totalTestResultsIncrease\": 1111662.0, \"positiveIncrease\": 183067.0, \"death\": 275148.0, \"deathIncrease\": 3016.0, \"positiveRate\": 0.165, \"state\": \"Non Tri-State\", \"sma7d\": 163482.857}, {\"date\": \"2020-12-30T00:00:00\", \"totalTestResultsIncrease\": 1389220.0, \"positiveIncrease\": 209148.0, \"death\": 278684.0, \"deathIncrease\": 3536.0, \"positiveRate\": 0.151, \"state\": \"Non Tri-State\", \"sma7d\": 164019.571}, {\"date\": \"2020-12-31T00:00:00\", \"totalTestResultsIncrease\": 1507854.0, \"positiveIncrease\": 201687.0, \"death\": 281725.0, \"deathIncrease\": 3041.0, \"positiveRate\": 0.134, \"state\": \"Non Tri-State\", \"sma7d\": 166153.714}, {\"date\": \"2021-01-01T00:00:00\", \"totalTestResultsIncrease\": 1118797.0, \"positiveIncrease\": 160491.0, \"death\": 284031.0, \"deathIncrease\": 2306.0, \"positiveRate\": 0.143, \"state\": \"Non Tri-State\", \"sma7d\": 173546.0}, {\"date\": \"2021-01-02T00:00:00\", \"totalTestResultsIncrease\": 1833097.0, \"positiveIncrease\": 255033.0, \"death\": 286177.0, \"deathIncrease\": 2146.0, \"positiveRate\": 0.139, \"state\": \"Non Tri-State\", \"sma7d\": 184914.0}, {\"date\": \"2021-01-03T00:00:00\", \"totalTestResultsIncrease\": 1283132.0, \"positiveIncrease\": 193001.0, \"death\": 287472.0, \"deathIncrease\": 1295.0, \"positiveRate\": 0.15, \"state\": \"Non Tri-State\", \"sma7d\": 192053.857}, {\"date\": \"2021-01-04T00:00:00\", \"totalTestResultsIncrease\": 1359528.0, \"positiveIncrease\": 161488.0, \"death\": 288742.0, \"deathIncrease\": 1270.0, \"positiveRate\": 0.119, \"state\": \"Non Tri-State\", \"sma7d\": 194845.0}, {\"date\": \"2021-01-05T00:00:00\", \"totalTestResultsIncrease\": 1319085.0, \"positiveIncrease\": 197806.0, \"death\": 291910.0, \"deathIncrease\": 3168.0, \"positiveRate\": 0.15, \"state\": \"Non Tri-State\", \"sma7d\": 196950.571}, {\"date\": \"2021-01-06T00:00:00\", \"totalTestResultsIncrease\": 1365356.0, \"positiveIncrease\": 225202.0, \"death\": 295470.0, \"deathIncrease\": 3560.0, \"positiveRate\": 0.165, \"state\": \"Non Tri-State\", \"sma7d\": 199244.0}, {\"date\": \"2021-01-07T00:00:00\", \"totalTestResultsIncrease\": 1647254.0, \"positiveIncrease\": 243564.0, \"death\": 299170.0, \"deathIncrease\": 3700.0, \"positiveRate\": 0.148, \"state\": \"Non Tri-State\", \"sma7d\": 205226.429}, {\"date\": \"2021-01-08T00:00:00\", \"totalTestResultsIncrease\": 1828379.0, \"positiveIncrease\": 266104.0, \"death\": 302638.0, \"deathIncrease\": 3468.0, \"positiveRate\": 0.146, \"state\": \"Non Tri-State\", \"sma7d\": 220314.0}, {\"date\": \"2021-01-09T00:00:00\", \"totalTestResultsIncrease\": 1786837.0, \"positiveIncrease\": 244998.0, \"death\": 305887.0, \"deathIncrease\": 3249.0, \"positiveRate\": 0.137, \"state\": \"Non Tri-State\", \"sma7d\": 218880.429}, {\"date\": \"2021-01-10T00:00:00\", \"totalTestResultsIncrease\": 1772066.0, \"positiveIncrease\": 207731.0, \"death\": 307770.0, \"deathIncrease\": 1883.0, \"positiveRate\": 0.117, \"state\": \"Non Tri-State\", \"sma7d\": 220984.714}, {\"date\": \"2021-01-11T00:00:00\", \"totalTestResultsIncrease\": 1541363.0, \"positiveIncrease\": 168843.0, \"death\": 309196.0, \"deathIncrease\": 1426.0, \"positiveRate\": 0.11, \"state\": \"Non Tri-State\", \"sma7d\": 222035.429}, {\"date\": \"2021-01-12T00:00:00\", \"totalTestResultsIncrease\": 1509824.0, \"positiveIncrease\": 194530.0, \"death\": 312954.0, \"deathIncrease\": 3758.0, \"positiveRate\": 0.129, \"state\": \"Non Tri-State\", \"sma7d\": 221567.429}, {\"date\": \"2021-01-13T00:00:00\", \"totalTestResultsIncrease\": 1577988.0, \"positiveIncrease\": 198505.0, \"death\": 316664.0, \"deathIncrease\": 3710.0, \"positiveRate\": 0.126, \"state\": \"Non Tri-State\", \"sma7d\": 217753.571}, {\"date\": \"2021-01-14T00:00:00\", \"totalTestResultsIncrease\": 1752015.0, \"positiveIncrease\": 203895.0, \"death\": 320266.0, \"deathIncrease\": 3602.0, \"positiveRate\": 0.116, \"state\": \"Non Tri-State\", \"sma7d\": 212086.571}, {\"date\": \"2021-01-15T00:00:00\", \"totalTestResultsIncrease\": 1824553.0, \"positiveIncrease\": 218265.0, \"death\": 323650.0, \"deathIncrease\": 3384.0, \"positiveRate\": 0.12, \"state\": \"Non Tri-State\", \"sma7d\": 205252.429}, {\"date\": \"2021-01-16T00:00:00\", \"totalTestResultsIncrease\": 1795533.0, \"positiveIncrease\": 196088.0, \"death\": 327106.0, \"deathIncrease\": 3456.0, \"positiveRate\": 0.109, \"state\": \"Non Tri-State\", \"sma7d\": 198265.286}, {\"date\": \"2021-01-17T00:00:00\", \"totalTestResultsIncrease\": 1641242.0, \"positiveIncrease\": 168244.0, \"death\": 328962.0, \"deathIncrease\": 1856.0, \"positiveRate\": 0.103, \"state\": \"Non Tri-State\", \"sma7d\": 192624.286}, {\"date\": \"2021-01-18T00:00:00\", \"totalTestResultsIncrease\": 1501535.0, \"positiveIncrease\": 128051.0, \"death\": 330107.0, \"deathIncrease\": 1145.0, \"positiveRate\": 0.085, \"state\": \"Non Tri-State\", \"sma7d\": 186796.857}, {\"date\": \"2021-01-19T00:00:00\", \"totalTestResultsIncrease\": 1340163.0, \"positiveIncrease\": 127392.0, \"death\": 332010.0, \"deathIncrease\": 1903.0, \"positiveRate\": 0.095, \"state\": \"Non Tri-State\", \"sma7d\": 177205.714}, {\"date\": \"2021-01-20T00:00:00\", \"totalTestResultsIncrease\": 1510879.0, \"positiveIncrease\": 168486.0, \"death\": 336032.0, \"deathIncrease\": 4022.0, \"positiveRate\": 0.112, \"state\": \"Non Tri-State\", \"sma7d\": 172917.286}, {\"date\": \"2021-01-21T00:00:00\", \"totalTestResultsIncrease\": 1666552.0, \"positiveIncrease\": 165678.0, \"death\": 339587.0, \"deathIncrease\": 3555.0, \"positiveRate\": 0.099, \"state\": \"Non Tri-State\", \"sma7d\": 167457.714}, {\"date\": \"2021-01-22T00:00:00\", \"totalTestResultsIncrease\": 1673521.0, \"positiveIncrease\": 169552.0, \"death\": 343238.0, \"deathIncrease\": 3651.0, \"positiveRate\": 0.101, \"state\": \"Non Tri-State\", \"sma7d\": 160498.714}, {\"date\": \"2021-01-23T00:00:00\", \"totalTestResultsIncrease\": 1660018.0, \"positiveIncrease\": 156185.0, \"death\": 346626.0, \"deathIncrease\": 3388.0, \"positiveRate\": 0.094, \"state\": \"Non Tri-State\", \"sma7d\": 154798.286}, {\"date\": \"2021-01-24T00:00:00\", \"totalTestResultsIncrease\": 1509249.0, \"positiveIncrease\": 126242.0, \"death\": 348391.0, \"deathIncrease\": 1765.0, \"positiveRate\": 0.084, \"state\": \"Non Tri-State\", \"sma7d\": 148798.0}, {\"date\": \"2021-01-25T00:00:00\", \"totalTestResultsIncrease\": 1407829.0, \"positiveIncrease\": 111491.0, \"death\": 349698.0, \"deathIncrease\": 1307.0, \"positiveRate\": 0.079, \"state\": \"Non Tri-State\", \"sma7d\": 146432.286}, {\"date\": \"2021-01-26T00:00:00\", \"totalTestResultsIncrease\": 1338606.0, \"positiveIncrease\": 129341.0, \"death\": 353111.0, \"deathIncrease\": 3413.0, \"positiveRate\": 0.097, \"state\": \"Non Tri-State\", \"sma7d\": 146710.714}, {\"date\": \"2021-01-27T00:00:00\", \"totalTestResultsIncrease\": 1352633.0, \"positiveIncrease\": 135707.0, \"death\": 356859.0, \"deathIncrease\": 3748.0, \"positiveRate\": 0.1, \"state\": \"Non Tri-State\", \"sma7d\": 142028.0}, {\"date\": \"2021-01-28T00:00:00\", \"totalTestResultsIncrease\": 1614290.0, \"positiveIncrease\": 137736.0, \"death\": 360582.0, \"deathIncrease\": 3723.0, \"positiveRate\": 0.085, \"state\": \"Non Tri-State\", \"sma7d\": 138036.286}, {\"date\": \"2021-01-29T00:00:00\", \"totalTestResultsIncrease\": 1589715.0, \"positiveIncrease\": 147288.0, \"death\": 363826.0, \"deathIncrease\": 3244.0, \"positiveRate\": 0.093, \"state\": \"Non Tri-State\", \"sma7d\": 134855.714}, {\"date\": \"2021-01-30T00:00:00\", \"totalTestResultsIncrease\": 1883080.0, \"positiveIncrease\": 130746.0, \"death\": 366593.0, \"deathIncrease\": 2767.0, \"positiveRate\": 0.069, \"state\": \"Non Tri-State\", \"sma7d\": 131221.571}, {\"date\": \"2021-01-31T00:00:00\", \"totalTestResultsIncrease\": 1468710.0, \"positiveIncrease\": 104288.0, \"death\": 368481.0, \"deathIncrease\": 1888.0, \"positiveRate\": 0.071, \"state\": \"Non Tri-State\", \"sma7d\": 128085.286}, {\"date\": \"2021-02-01T00:00:00\", \"totalTestResultsIncrease\": 1196877.0, \"positiveIncrease\": 104244.0, \"death\": 369800.0, \"deathIncrease\": 1319.0, \"positiveRate\": 0.087, \"state\": \"Non Tri-State\", \"sma7d\": 127050.0}, {\"date\": \"2021-02-02T00:00:00\", \"totalTestResultsIncrease\": 1190525.0, \"positiveIncrease\": 103683.0, \"death\": 373054.0, \"deathIncrease\": 3254.0, \"positiveRate\": 0.087, \"state\": \"Non Tri-State\", \"sma7d\": 123384.571}, {\"date\": \"2021-02-03T00:00:00\", \"totalTestResultsIncrease\": 1270484.0, \"positiveIncrease\": 108242.0, \"death\": 376441.0, \"deathIncrease\": 3387.0, \"positiveRate\": 0.085, \"state\": \"Non Tri-State\", \"sma7d\": 119461.0}, {\"date\": \"2021-02-04T00:00:00\", \"totalTestResultsIncrease\": 1455557.0, \"positiveIncrease\": 112267.0, \"death\": 381389.0, \"deathIncrease\": 4948.0, \"positiveRate\": 0.077, \"state\": \"Non Tri-State\", \"sma7d\": 115822.571}, {\"date\": \"2021-02-05T00:00:00\", \"totalTestResultsIncrease\": 1593905.0, \"positiveIncrease\": 116710.0, \"death\": 384657.0, \"deathIncrease\": 3268.0, \"positiveRate\": 0.073, \"state\": \"Non Tri-State\", \"sma7d\": 111454.286}, {\"date\": \"2021-02-06T00:00:00\", \"totalTestResultsIncrease\": 1565902.0, \"positiveIncrease\": 98794.0, \"death\": 387414.0, \"deathIncrease\": 2757.0, \"positiveRate\": 0.063, \"state\": \"Non Tri-State\", \"sma7d\": 106889.714}, {\"date\": \"2021-02-07T00:00:00\", \"totalTestResultsIncrease\": 1243243.0, \"positiveIncrease\": 81637.0, \"death\": 388719.0, \"deathIncrease\": 1305.0, \"positiveRate\": 0.066, \"state\": \"Non Tri-State\", \"sma7d\": 103653.857}, {\"date\": \"2021-02-08T00:00:00\", \"totalTestResultsIncrease\": 1112140.0, \"positiveIncrease\": 62361.0, \"death\": 389823.0, \"deathIncrease\": 1104.0, \"positiveRate\": 0.056, \"state\": \"Non Tri-State\", \"sma7d\": 97670.571}, {\"date\": \"2021-02-09T00:00:00\", \"totalTestResultsIncrease\": 1137570.0, \"positiveIncrease\": 80675.0, \"death\": 392368.0, \"deathIncrease\": 2545.0, \"positiveRate\": 0.071, \"state\": \"Non Tri-State\", \"sma7d\": 94383.714}, {\"date\": \"2021-02-10T00:00:00\", \"totalTestResultsIncrease\": 1183245.0, \"positiveIncrease\": 82835.0, \"death\": 395500.0, \"deathIncrease\": 3132.0, \"positiveRate\": 0.07, \"state\": \"Non Tri-State\", \"sma7d\": 90754.143}, {\"date\": \"2021-02-11T00:00:00\", \"totalTestResultsIncrease\": 1503228.0, \"positiveIncrease\": 87659.0, \"death\": 399142.0, \"deathIncrease\": 3642.0, \"positiveRate\": 0.058, \"state\": \"Non Tri-State\", \"sma7d\": 87238.714}, {\"date\": \"2021-02-12T00:00:00\", \"totalTestResultsIncrease\": 1493184.0, \"positiveIncrease\": 88056.0, \"death\": 404339.0, \"deathIncrease\": 5197.0, \"positiveRate\": 0.059, \"state\": \"Non Tri-State\", \"sma7d\": 83145.286}, {\"date\": \"2021-02-13T00:00:00\", \"totalTestResultsIncrease\": 1420485.0, \"positiveIncrease\": 77679.0, \"death\": 407593.0, \"deathIncrease\": 3254.0, \"positiveRate\": 0.055, \"state\": \"Non Tri-State\", \"sma7d\": 80128.857}, {\"date\": \"2021-02-14T00:00:00\", \"totalTestResultsIncrease\": 1182986.0, \"positiveIncrease\": 61360.0, \"death\": 408833.0, \"deathIncrease\": 1240.0, \"positiveRate\": 0.052, \"state\": \"Non Tri-State\", \"sma7d\": 77232.143}]}}, {\"mode\": \"vega-lite\"});\n",
       "</script>"
      ],
      "text/plain": [
       "alt.LayerChart(...)"
      ]
     },
     "execution_count": 15,
     "metadata": {},
     "output_type": "execute_result"
    }
   ],
   "source": [
    "create_plot(non_tristate, 'positiveIncrease')"
   ]
  },
  {
   "cell_type": "code",
   "execution_count": 16,
   "id": "western-encyclopedia",
   "metadata": {
    "execution": {
     "iopub.execute_input": "2021-02-15T09:16:51.229711Z",
     "iopub.status.busy": "2021-02-15T09:16:51.214519Z",
     "iopub.status.idle": "2021-02-15T09:16:51.289134Z",
     "shell.execute_reply": "2021-02-15T09:16:51.288675Z"
    },
    "papermill": {
     "duration": 0.116515,
     "end_time": "2021-02-15T09:16:51.289264",
     "exception": false,
     "start_time": "2021-02-15T09:16:51.172749",
     "status": "completed"
    },
    "tags": []
   },
   "outputs": [
    {
     "data": {
      "text/html": [
       "\n",
       "<div id=\"altair-viz-86e38cc89d1f424fbca3aa19840852d2\"></div>\n",
       "<script type=\"text/javascript\">\n",
       "  (function(spec, embedOpt){\n",
       "    let outputDiv = document.currentScript.previousElementSibling;\n",
       "    if (outputDiv.id !== \"altair-viz-86e38cc89d1f424fbca3aa19840852d2\") {\n",
       "      outputDiv = document.getElementById(\"altair-viz-86e38cc89d1f424fbca3aa19840852d2\");\n",
       "    }\n",
       "    const paths = {\n",
       "      \"vega\": \"https://cdn.jsdelivr.net/npm//vega@5?noext\",\n",
       "      \"vega-lib\": \"https://cdn.jsdelivr.net/npm//vega-lib?noext\",\n",
       "      \"vega-lite\": \"https://cdn.jsdelivr.net/npm//vega-lite@4.8.1?noext\",\n",
       "      \"vega-embed\": \"https://cdn.jsdelivr.net/npm//vega-embed@6?noext\",\n",
       "    };\n",
       "\n",
       "    function loadScript(lib) {\n",
       "      return new Promise(function(resolve, reject) {\n",
       "        var s = document.createElement('script');\n",
       "        s.src = paths[lib];\n",
       "        s.async = true;\n",
       "        s.onload = () => resolve(paths[lib]);\n",
       "        s.onerror = () => reject(`Error loading script: ${paths[lib]}`);\n",
       "        document.getElementsByTagName(\"head\")[0].appendChild(s);\n",
       "      });\n",
       "    }\n",
       "\n",
       "    function showError(err) {\n",
       "      outputDiv.innerHTML = `<div class=\"error\" style=\"color:red;\">${err}</div>`;\n",
       "      throw err;\n",
       "    }\n",
       "\n",
       "    function displayChart(vegaEmbed) {\n",
       "      vegaEmbed(outputDiv, spec, embedOpt)\n",
       "        .catch(err => showError(`Javascript Error: ${err.message}<br>This usually means there's a typo in your chart specification. See the javascript console for the full traceback.`));\n",
       "    }\n",
       "\n",
       "    if(typeof define === \"function\" && define.amd) {\n",
       "      requirejs.config({paths});\n",
       "      require([\"vega-embed\"], displayChart, err => showError(`Error loading script: ${err.message}`));\n",
       "    } else if (typeof vegaEmbed === \"function\") {\n",
       "      displayChart(vegaEmbed);\n",
       "    } else {\n",
       "      loadScript(\"vega\")\n",
       "        .then(() => loadScript(\"vega-lite\"))\n",
       "        .then(() => loadScript(\"vega-embed\"))\n",
       "        .catch(showError)\n",
       "        .then(() => displayChart(vegaEmbed));\n",
       "    }\n",
       "  })({\"config\": {\"view\": {\"continuousWidth\": 400, \"continuousHeight\": 300}}, \"layer\": [{\"layer\": [{\"mark\": {\"type\": \"point\", \"size\": 75}, \"encoding\": {\"tooltip\": [{\"type\": \"temporal\", \"field\": \"date\"}, {\"type\": \"quantitative\", \"field\": \"positiveRate\"}, {\"type\": \"quantitative\", \"field\": \"sma7d\"}], \"x\": {\"type\": \"temporal\", \"field\": \"date\"}, \"y\": {\"type\": \"quantitative\", \"field\": \"positiveRate\"}}, \"selection\": {\"selector016\": {\"type\": \"interval\", \"bind\": \"scales\", \"encodings\": [\"x\", \"y\"]}}}, {\"mark\": {\"type\": \"line\", \"color\": \"purple\"}, \"encoding\": {\"x\": {\"type\": \"temporal\", \"field\": \"date\"}, \"y\": {\"type\": \"quantitative\", \"field\": \"sma7d\"}}}]}, {\"mark\": {\"type\": \"rule\", \"color\": \"#aaa\"}, \"encoding\": {\"x\": {\"type\": \"temporal\", \"field\": \"date\"}}, \"transform\": [{\"filter\": {\"selection\": \"selector015\"}}]}, {\"mark\": \"circle\", \"encoding\": {\"opacity\": {\"condition\": {\"value\": 1, \"selection\": \"selector015\"}, \"value\": 0}, \"tooltip\": [{\"type\": \"temporal\", \"field\": \"date\"}, {\"type\": \"quantitative\", \"field\": \"positiveRate\"}, {\"type\": \"quantitative\", \"field\": \"sma7d\"}], \"x\": {\"type\": \"temporal\", \"field\": \"date\"}, \"y\": {\"type\": \"quantitative\", \"field\": \"positiveRate\"}}, \"selection\": {\"selector015\": {\"type\": \"single\", \"encodings\": [\"x\"], \"on\": \"mouseover\", \"nearest\": true, \"empty\": \"none\"}}}, {\"mark\": {\"type\": \"text\", \"align\": \"left\", \"dx\": 5, \"dy\": -5, \"stroke\": \"white\", \"strokeWidth\": 2}, \"encoding\": {\"text\": {\"type\": \"quantitative\", \"field\": \"positiveRate\"}, \"tooltip\": [{\"type\": \"temporal\", \"field\": \"date\"}, {\"type\": \"quantitative\", \"field\": \"positiveRate\"}, {\"type\": \"quantitative\", \"field\": \"sma7d\"}], \"x\": {\"type\": \"temporal\", \"field\": \"date\"}, \"y\": {\"type\": \"quantitative\", \"field\": \"positiveRate\"}}, \"transform\": [{\"filter\": {\"selection\": \"selector015\"}}]}, {\"mark\": {\"type\": \"text\", \"align\": \"left\", \"dx\": 5, \"dy\": -5}, \"encoding\": {\"text\": {\"type\": \"quantitative\", \"field\": \"positiveRate\"}, \"tooltip\": [{\"type\": \"temporal\", \"field\": \"date\"}, {\"type\": \"quantitative\", \"field\": \"positiveRate\"}, {\"type\": \"quantitative\", \"field\": \"sma7d\"}], \"x\": {\"type\": \"temporal\", \"field\": \"date\"}, \"y\": {\"type\": \"quantitative\", \"field\": \"positiveRate\"}}, \"transform\": [{\"filter\": {\"selection\": \"selector015\"}}]}], \"data\": {\"name\": \"data-b8daed18bd4a5b962880af6ab2478e93\"}, \"height\": 400, \"title\": \"Non Tri-State: positiveRate\", \"width\": 500, \"$schema\": \"https://vega.github.io/schema/vega-lite/v4.8.1.json\", \"datasets\": {\"data-b8daed18bd4a5b962880af6ab2478e93\": [{\"date\": \"2020-12-22T00:00:00\", \"totalTestResultsIncrease\": 1564084.0, \"positiveIncrease\": 176443.0, \"death\": 261220.0, \"deathIncrease\": 2866.0, \"positiveRate\": 0.113, \"state\": \"Non Tri-State\", \"sma7d\": 0.12}, {\"date\": \"2020-12-23T00:00:00\", \"totalTestResultsIncrease\": 1498879.0, \"positiveIncrease\": 205391.0, \"death\": 264274.0, \"deathIncrease\": 3054.0, \"positiveRate\": 0.137, \"state\": \"Non Tri-State\", \"sma7d\": 0.12}, {\"date\": \"2020-12-24T00:00:00\", \"totalTestResultsIncrease\": 1657564.0, \"positiveIncrease\": 186748.0, \"death\": 266966.0, \"deathIncrease\": 2692.0, \"positiveRate\": 0.113, \"state\": \"Non Tri-State\", \"sma7d\": 0.117}, {\"date\": \"2020-12-25T00:00:00\", \"totalTestResultsIncrease\": 1127035.0, \"positiveIncrease\": 108745.0, \"death\": 268347.0, \"deathIncrease\": 1381.0, \"positiveRate\": 0.096, \"state\": \"Non Tri-State\", \"sma7d\": 0.113}, {\"date\": \"2020-12-26T00:00:00\", \"totalTestResultsIncrease\": 1951807.0, \"positiveIncrease\": 175457.0, \"death\": 269629.0, \"deathIncrease\": 1282.0, \"positiveRate\": 0.09, \"state\": \"Non Tri-State\", \"sma7d\": 0.109}, {\"date\": \"2020-12-27T00:00:00\", \"totalTestResultsIncrease\": 1237556.0, \"positiveIncrease\": 143022.0, \"death\": 270894.0, \"deathIncrease\": 1265.0, \"positiveRate\": 0.116, \"state\": \"Non Tri-State\", \"sma7d\": 0.109}, {\"date\": \"2020-12-28T00:00:00\", \"totalTestResultsIncrease\": 1036874.0, \"positiveIncrease\": 141950.0, \"death\": 272132.0, \"deathIncrease\": 1238.0, \"positiveRate\": 0.137, \"state\": \"Non Tri-State\", \"sma7d\": 0.115}, {\"date\": \"2020-12-29T00:00:00\", \"totalTestResultsIncrease\": 1111662.0, \"positiveIncrease\": 183067.0, \"death\": 275148.0, \"deathIncrease\": 3016.0, \"positiveRate\": 0.165, \"state\": \"Non Tri-State\", \"sma7d\": 0.122}, {\"date\": \"2020-12-30T00:00:00\", \"totalTestResultsIncrease\": 1389220.0, \"positiveIncrease\": 209148.0, \"death\": 278684.0, \"deathIncrease\": 3536.0, \"positiveRate\": 0.151, \"state\": \"Non Tri-State\", \"sma7d\": 0.124}, {\"date\": \"2020-12-31T00:00:00\", \"totalTestResultsIncrease\": 1507854.0, \"positiveIncrease\": 201687.0, \"death\": 281725.0, \"deathIncrease\": 3041.0, \"positiveRate\": 0.134, \"state\": \"Non Tri-State\", \"sma7d\": 0.127}, {\"date\": \"2021-01-01T00:00:00\", \"totalTestResultsIncrease\": 1118797.0, \"positiveIncrease\": 160491.0, \"death\": 284031.0, \"deathIncrease\": 2306.0, \"positiveRate\": 0.143, \"state\": \"Non Tri-State\", \"sma7d\": 0.134}, {\"date\": \"2021-01-02T00:00:00\", \"totalTestResultsIncrease\": 1833097.0, \"positiveIncrease\": 255033.0, \"death\": 286177.0, \"deathIncrease\": 2146.0, \"positiveRate\": 0.139, \"state\": \"Non Tri-State\", \"sma7d\": 0.141}, {\"date\": \"2021-01-03T00:00:00\", \"totalTestResultsIncrease\": 1283132.0, \"positiveIncrease\": 193001.0, \"death\": 287472.0, \"deathIncrease\": 1295.0, \"positiveRate\": 0.15, \"state\": \"Non Tri-State\", \"sma7d\": 0.146}, {\"date\": \"2021-01-04T00:00:00\", \"totalTestResultsIncrease\": 1359528.0, \"positiveIncrease\": 161488.0, \"death\": 288742.0, \"deathIncrease\": 1270.0, \"positiveRate\": 0.119, \"state\": \"Non Tri-State\", \"sma7d\": 0.143}, {\"date\": \"2021-01-05T00:00:00\", \"totalTestResultsIncrease\": 1319085.0, \"positiveIncrease\": 197806.0, \"death\": 291910.0, \"deathIncrease\": 3168.0, \"positiveRate\": 0.15, \"state\": \"Non Tri-State\", \"sma7d\": 0.141}, {\"date\": \"2021-01-06T00:00:00\", \"totalTestResultsIncrease\": 1365356.0, \"positiveIncrease\": 225202.0, \"death\": 295470.0, \"deathIncrease\": 3560.0, \"positiveRate\": 0.165, \"state\": \"Non Tri-State\", \"sma7d\": 0.143}, {\"date\": \"2021-01-07T00:00:00\", \"totalTestResultsIncrease\": 1647254.0, \"positiveIncrease\": 243564.0, \"death\": 299170.0, \"deathIncrease\": 3700.0, \"positiveRate\": 0.148, \"state\": \"Non Tri-State\", \"sma7d\": 0.145}, {\"date\": \"2021-01-08T00:00:00\", \"totalTestResultsIncrease\": 1828379.0, \"positiveIncrease\": 266104.0, \"death\": 302638.0, \"deathIncrease\": 3468.0, \"positiveRate\": 0.146, \"state\": \"Non Tri-State\", \"sma7d\": 0.145}, {\"date\": \"2021-01-09T00:00:00\", \"totalTestResultsIncrease\": 1786837.0, \"positiveIncrease\": 244998.0, \"death\": 305887.0, \"deathIncrease\": 3249.0, \"positiveRate\": 0.137, \"state\": \"Non Tri-State\", \"sma7d\": 0.145}, {\"date\": \"2021-01-10T00:00:00\", \"totalTestResultsIncrease\": 1772066.0, \"positiveIncrease\": 207731.0, \"death\": 307770.0, \"deathIncrease\": 1883.0, \"positiveRate\": 0.117, \"state\": \"Non Tri-State\", \"sma7d\": 0.14}, {\"date\": \"2021-01-11T00:00:00\", \"totalTestResultsIncrease\": 1541363.0, \"positiveIncrease\": 168843.0, \"death\": 309196.0, \"deathIncrease\": 1426.0, \"positiveRate\": 0.11, \"state\": \"Non Tri-State\", \"sma7d\": 0.139}, {\"date\": \"2021-01-12T00:00:00\", \"totalTestResultsIncrease\": 1509824.0, \"positiveIncrease\": 194530.0, \"death\": 312954.0, \"deathIncrease\": 3758.0, \"positiveRate\": 0.129, \"state\": \"Non Tri-State\", \"sma7d\": 0.136}, {\"date\": \"2021-01-13T00:00:00\", \"totalTestResultsIncrease\": 1577988.0, \"positiveIncrease\": 198505.0, \"death\": 316664.0, \"deathIncrease\": 3710.0, \"positiveRate\": 0.126, \"state\": \"Non Tri-State\", \"sma7d\": 0.13}, {\"date\": \"2021-01-14T00:00:00\", \"totalTestResultsIncrease\": 1752015.0, \"positiveIncrease\": 203895.0, \"death\": 320266.0, \"deathIncrease\": 3602.0, \"positiveRate\": 0.116, \"state\": \"Non Tri-State\", \"sma7d\": 0.126}, {\"date\": \"2021-01-15T00:00:00\", \"totalTestResultsIncrease\": 1824553.0, \"positiveIncrease\": 218265.0, \"death\": 323650.0, \"deathIncrease\": 3384.0, \"positiveRate\": 0.12, \"state\": \"Non Tri-State\", \"sma7d\": 0.122}, {\"date\": \"2021-01-16T00:00:00\", \"totalTestResultsIncrease\": 1795533.0, \"positiveIncrease\": 196088.0, \"death\": 327106.0, \"deathIncrease\": 3456.0, \"positiveRate\": 0.109, \"state\": \"Non Tri-State\", \"sma7d\": 0.118}, {\"date\": \"2021-01-17T00:00:00\", \"totalTestResultsIncrease\": 1641242.0, \"positiveIncrease\": 168244.0, \"death\": 328962.0, \"deathIncrease\": 1856.0, \"positiveRate\": 0.103, \"state\": \"Non Tri-State\", \"sma7d\": 0.116}, {\"date\": \"2021-01-18T00:00:00\", \"totalTestResultsIncrease\": 1501535.0, \"positiveIncrease\": 128051.0, \"death\": 330107.0, \"deathIncrease\": 1145.0, \"positiveRate\": 0.085, \"state\": \"Non Tri-State\", \"sma7d\": 0.113}, {\"date\": \"2021-01-19T00:00:00\", \"totalTestResultsIncrease\": 1340163.0, \"positiveIncrease\": 127392.0, \"death\": 332010.0, \"deathIncrease\": 1903.0, \"positiveRate\": 0.095, \"state\": \"Non Tri-State\", \"sma7d\": 0.108}, {\"date\": \"2021-01-20T00:00:00\", \"totalTestResultsIncrease\": 1510879.0, \"positiveIncrease\": 168486.0, \"death\": 336032.0, \"deathIncrease\": 4022.0, \"positiveRate\": 0.112, \"state\": \"Non Tri-State\", \"sma7d\": 0.106}, {\"date\": \"2021-01-21T00:00:00\", \"totalTestResultsIncrease\": 1666552.0, \"positiveIncrease\": 165678.0, \"death\": 339587.0, \"deathIncrease\": 3555.0, \"positiveRate\": 0.099, \"state\": \"Non Tri-State\", \"sma7d\": 0.103}, {\"date\": \"2021-01-22T00:00:00\", \"totalTestResultsIncrease\": 1673521.0, \"positiveIncrease\": 169552.0, \"death\": 343238.0, \"deathIncrease\": 3651.0, \"positiveRate\": 0.101, \"state\": \"Non Tri-State\", \"sma7d\": 0.101}, {\"date\": \"2021-01-23T00:00:00\", \"totalTestResultsIncrease\": 1660018.0, \"positiveIncrease\": 156185.0, \"death\": 346626.0, \"deathIncrease\": 3388.0, \"positiveRate\": 0.094, \"state\": \"Non Tri-State\", \"sma7d\": 0.098}, {\"date\": \"2021-01-24T00:00:00\", \"totalTestResultsIncrease\": 1509249.0, \"positiveIncrease\": 126242.0, \"death\": 348391.0, \"deathIncrease\": 1765.0, \"positiveRate\": 0.084, \"state\": \"Non Tri-State\", \"sma7d\": 0.096}, {\"date\": \"2021-01-25T00:00:00\", \"totalTestResultsIncrease\": 1407829.0, \"positiveIncrease\": 111491.0, \"death\": 349698.0, \"deathIncrease\": 1307.0, \"positiveRate\": 0.079, \"state\": \"Non Tri-State\", \"sma7d\": 0.095}, {\"date\": \"2021-01-26T00:00:00\", \"totalTestResultsIncrease\": 1338606.0, \"positiveIncrease\": 129341.0, \"death\": 353111.0, \"deathIncrease\": 3413.0, \"positiveRate\": 0.097, \"state\": \"Non Tri-State\", \"sma7d\": 0.095}, {\"date\": \"2021-01-27T00:00:00\", \"totalTestResultsIncrease\": 1352633.0, \"positiveIncrease\": 135707.0, \"death\": 356859.0, \"deathIncrease\": 3748.0, \"positiveRate\": 0.1, \"state\": \"Non Tri-State\", \"sma7d\": 0.093}, {\"date\": \"2021-01-28T00:00:00\", \"totalTestResultsIncrease\": 1614290.0, \"positiveIncrease\": 137736.0, \"death\": 360582.0, \"deathIncrease\": 3723.0, \"positiveRate\": 0.085, \"state\": \"Non Tri-State\", \"sma7d\": 0.091}, {\"date\": \"2021-01-29T00:00:00\", \"totalTestResultsIncrease\": 1589715.0, \"positiveIncrease\": 147288.0, \"death\": 363826.0, \"deathIncrease\": 3244.0, \"positiveRate\": 0.093, \"state\": \"Non Tri-State\", \"sma7d\": 0.09}, {\"date\": \"2021-01-30T00:00:00\", \"totalTestResultsIncrease\": 1883080.0, \"positiveIncrease\": 130746.0, \"death\": 366593.0, \"deathIncrease\": 2767.0, \"positiveRate\": 0.069, \"state\": \"Non Tri-State\", \"sma7d\": 0.087}, {\"date\": \"2021-01-31T00:00:00\", \"totalTestResultsIncrease\": 1468710.0, \"positiveIncrease\": 104288.0, \"death\": 368481.0, \"deathIncrease\": 1888.0, \"positiveRate\": 0.071, \"state\": \"Non Tri-State\", \"sma7d\": 0.085}, {\"date\": \"2021-02-01T00:00:00\", \"totalTestResultsIncrease\": 1196877.0, \"positiveIncrease\": 104244.0, \"death\": 369800.0, \"deathIncrease\": 1319.0, \"positiveRate\": 0.087, \"state\": \"Non Tri-State\", \"sma7d\": 0.086}, {\"date\": \"2021-02-02T00:00:00\", \"totalTestResultsIncrease\": 1190525.0, \"positiveIncrease\": 103683.0, \"death\": 373054.0, \"deathIncrease\": 3254.0, \"positiveRate\": 0.087, \"state\": \"Non Tri-State\", \"sma7d\": 0.085}, {\"date\": \"2021-02-03T00:00:00\", \"totalTestResultsIncrease\": 1270484.0, \"positiveIncrease\": 108242.0, \"death\": 376441.0, \"deathIncrease\": 3387.0, \"positiveRate\": 0.085, \"state\": \"Non Tri-State\", \"sma7d\": 0.082}, {\"date\": \"2021-02-04T00:00:00\", \"totalTestResultsIncrease\": 1455557.0, \"positiveIncrease\": 112267.0, \"death\": 381389.0, \"deathIncrease\": 4948.0, \"positiveRate\": 0.077, \"state\": \"Non Tri-State\", \"sma7d\": 0.081}, {\"date\": \"2021-02-05T00:00:00\", \"totalTestResultsIncrease\": 1593905.0, \"positiveIncrease\": 116710.0, \"death\": 384657.0, \"deathIncrease\": 3268.0, \"positiveRate\": 0.073, \"state\": \"Non Tri-State\", \"sma7d\": 0.078}, {\"date\": \"2021-02-06T00:00:00\", \"totalTestResultsIncrease\": 1565902.0, \"positiveIncrease\": 98794.0, \"death\": 387414.0, \"deathIncrease\": 2757.0, \"positiveRate\": 0.063, \"state\": \"Non Tri-State\", \"sma7d\": 0.078}, {\"date\": \"2021-02-07T00:00:00\", \"totalTestResultsIncrease\": 1243243.0, \"positiveIncrease\": 81637.0, \"death\": 388719.0, \"deathIncrease\": 1305.0, \"positiveRate\": 0.066, \"state\": \"Non Tri-State\", \"sma7d\": 0.077}, {\"date\": \"2021-02-08T00:00:00\", \"totalTestResultsIncrease\": 1112140.0, \"positiveIncrease\": 62361.0, \"death\": 389823.0, \"deathIncrease\": 1104.0, \"positiveRate\": 0.056, \"state\": \"Non Tri-State\", \"sma7d\": 0.072}, {\"date\": \"2021-02-09T00:00:00\", \"totalTestResultsIncrease\": 1137570.0, \"positiveIncrease\": 80675.0, \"death\": 392368.0, \"deathIncrease\": 2545.0, \"positiveRate\": 0.071, \"state\": \"Non Tri-State\", \"sma7d\": 0.07}, {\"date\": \"2021-02-10T00:00:00\", \"totalTestResultsIncrease\": 1183245.0, \"positiveIncrease\": 82835.0, \"death\": 395500.0, \"deathIncrease\": 3132.0, \"positiveRate\": 0.07, \"state\": \"Non Tri-State\", \"sma7d\": 0.068}, {\"date\": \"2021-02-11T00:00:00\", \"totalTestResultsIncrease\": 1503228.0, \"positiveIncrease\": 87659.0, \"death\": 399142.0, \"deathIncrease\": 3642.0, \"positiveRate\": 0.058, \"state\": \"Non Tri-State\", \"sma7d\": 0.065}, {\"date\": \"2021-02-12T00:00:00\", \"totalTestResultsIncrease\": 1493184.0, \"positiveIncrease\": 88056.0, \"death\": 404339.0, \"deathIncrease\": 5197.0, \"positiveRate\": 0.059, \"state\": \"Non Tri-State\", \"sma7d\": 0.063}, {\"date\": \"2021-02-13T00:00:00\", \"totalTestResultsIncrease\": 1420485.0, \"positiveIncrease\": 77679.0, \"death\": 407593.0, \"deathIncrease\": 3254.0, \"positiveRate\": 0.055, \"state\": \"Non Tri-State\", \"sma7d\": 0.062}, {\"date\": \"2021-02-14T00:00:00\", \"totalTestResultsIncrease\": 1182986.0, \"positiveIncrease\": 61360.0, \"death\": 408833.0, \"deathIncrease\": 1240.0, \"positiveRate\": 0.052, \"state\": \"Non Tri-State\", \"sma7d\": 0.06}]}}, {\"mode\": \"vega-lite\"});\n",
       "</script>"
      ],
      "text/plain": [
       "alt.LayerChart(...)"
      ]
     },
     "execution_count": 16,
     "metadata": {},
     "output_type": "execute_result"
    }
   ],
   "source": [
    "create_plot(non_tristate, 'positiveRate')"
   ]
  },
  {
   "cell_type": "code",
   "execution_count": 17,
   "id": "worthy-speed",
   "metadata": {
    "execution": {
     "iopub.execute_input": "2021-02-15T09:16:51.355446Z",
     "iopub.status.busy": "2021-02-15T09:16:51.350221Z",
     "iopub.status.idle": "2021-02-15T09:16:51.425160Z",
     "shell.execute_reply": "2021-02-15T09:16:51.425568Z"
    },
    "papermill": {
     "duration": 0.11691,
     "end_time": "2021-02-15T09:16:51.425733",
     "exception": false,
     "start_time": "2021-02-15T09:16:51.308823",
     "status": "completed"
    },
    "tags": []
   },
   "outputs": [
    {
     "data": {
      "text/html": [
       "\n",
       "<div id=\"altair-viz-79b845c6b7ae4b98864d05c0d4fff767\"></div>\n",
       "<script type=\"text/javascript\">\n",
       "  (function(spec, embedOpt){\n",
       "    let outputDiv = document.currentScript.previousElementSibling;\n",
       "    if (outputDiv.id !== \"altair-viz-79b845c6b7ae4b98864d05c0d4fff767\") {\n",
       "      outputDiv = document.getElementById(\"altair-viz-79b845c6b7ae4b98864d05c0d4fff767\");\n",
       "    }\n",
       "    const paths = {\n",
       "      \"vega\": \"https://cdn.jsdelivr.net/npm//vega@5?noext\",\n",
       "      \"vega-lib\": \"https://cdn.jsdelivr.net/npm//vega-lib?noext\",\n",
       "      \"vega-lite\": \"https://cdn.jsdelivr.net/npm//vega-lite@4.8.1?noext\",\n",
       "      \"vega-embed\": \"https://cdn.jsdelivr.net/npm//vega-embed@6?noext\",\n",
       "    };\n",
       "\n",
       "    function loadScript(lib) {\n",
       "      return new Promise(function(resolve, reject) {\n",
       "        var s = document.createElement('script');\n",
       "        s.src = paths[lib];\n",
       "        s.async = true;\n",
       "        s.onload = () => resolve(paths[lib]);\n",
       "        s.onerror = () => reject(`Error loading script: ${paths[lib]}`);\n",
       "        document.getElementsByTagName(\"head\")[0].appendChild(s);\n",
       "      });\n",
       "    }\n",
       "\n",
       "    function showError(err) {\n",
       "      outputDiv.innerHTML = `<div class=\"error\" style=\"color:red;\">${err}</div>`;\n",
       "      throw err;\n",
       "    }\n",
       "\n",
       "    function displayChart(vegaEmbed) {\n",
       "      vegaEmbed(outputDiv, spec, embedOpt)\n",
       "        .catch(err => showError(`Javascript Error: ${err.message}<br>This usually means there's a typo in your chart specification. See the javascript console for the full traceback.`));\n",
       "    }\n",
       "\n",
       "    if(typeof define === \"function\" && define.amd) {\n",
       "      requirejs.config({paths});\n",
       "      require([\"vega-embed\"], displayChart, err => showError(`Error loading script: ${err.message}`));\n",
       "    } else if (typeof vegaEmbed === \"function\") {\n",
       "      displayChart(vegaEmbed);\n",
       "    } else {\n",
       "      loadScript(\"vega\")\n",
       "        .then(() => loadScript(\"vega-lite\"))\n",
       "        .then(() => loadScript(\"vega-embed\"))\n",
       "        .catch(showError)\n",
       "        .then(() => displayChart(vegaEmbed));\n",
       "    }\n",
       "  })({\"config\": {\"view\": {\"continuousWidth\": 400, \"continuousHeight\": 300}}, \"layer\": [{\"layer\": [{\"mark\": {\"type\": \"point\", \"size\": 75}, \"encoding\": {\"tooltip\": [{\"type\": \"temporal\", \"field\": \"date\"}, {\"type\": \"quantitative\", \"field\": \"deathIncrease\"}, {\"type\": \"quantitative\", \"field\": \"sma7d\"}], \"x\": {\"type\": \"temporal\", \"field\": \"date\"}, \"y\": {\"type\": \"quantitative\", \"field\": \"deathIncrease\"}}, \"selection\": {\"selector018\": {\"type\": \"interval\", \"bind\": \"scales\", \"encodings\": [\"x\", \"y\"]}}}, {\"mark\": {\"type\": \"line\", \"color\": \"purple\"}, \"encoding\": {\"x\": {\"type\": \"temporal\", \"field\": \"date\"}, \"y\": {\"type\": \"quantitative\", \"field\": \"sma7d\"}}}]}, {\"mark\": {\"type\": \"rule\", \"color\": \"#aaa\"}, \"encoding\": {\"x\": {\"type\": \"temporal\", \"field\": \"date\"}}, \"transform\": [{\"filter\": {\"selection\": \"selector017\"}}]}, {\"mark\": \"circle\", \"encoding\": {\"opacity\": {\"condition\": {\"value\": 1, \"selection\": \"selector017\"}, \"value\": 0}, \"tooltip\": [{\"type\": \"temporal\", \"field\": \"date\"}, {\"type\": \"quantitative\", \"field\": \"deathIncrease\"}, {\"type\": \"quantitative\", \"field\": \"sma7d\"}], \"x\": {\"type\": \"temporal\", \"field\": \"date\"}, \"y\": {\"type\": \"quantitative\", \"field\": \"deathIncrease\"}}, \"selection\": {\"selector017\": {\"type\": \"single\", \"encodings\": [\"x\"], \"on\": \"mouseover\", \"nearest\": true, \"empty\": \"none\"}}}, {\"mark\": {\"type\": \"text\", \"align\": \"left\", \"dx\": 5, \"dy\": -5, \"stroke\": \"white\", \"strokeWidth\": 2}, \"encoding\": {\"text\": {\"type\": \"quantitative\", \"field\": \"deathIncrease\"}, \"tooltip\": [{\"type\": \"temporal\", \"field\": \"date\"}, {\"type\": \"quantitative\", \"field\": \"deathIncrease\"}, {\"type\": \"quantitative\", \"field\": \"sma7d\"}], \"x\": {\"type\": \"temporal\", \"field\": \"date\"}, \"y\": {\"type\": \"quantitative\", \"field\": \"deathIncrease\"}}, \"transform\": [{\"filter\": {\"selection\": \"selector017\"}}]}, {\"mark\": {\"type\": \"text\", \"align\": \"left\", \"dx\": 5, \"dy\": -5}, \"encoding\": {\"text\": {\"type\": \"quantitative\", \"field\": \"deathIncrease\"}, \"tooltip\": [{\"type\": \"temporal\", \"field\": \"date\"}, {\"type\": \"quantitative\", \"field\": \"deathIncrease\"}, {\"type\": \"quantitative\", \"field\": \"sma7d\"}], \"x\": {\"type\": \"temporal\", \"field\": \"date\"}, \"y\": {\"type\": \"quantitative\", \"field\": \"deathIncrease\"}}, \"transform\": [{\"filter\": {\"selection\": \"selector017\"}}]}], \"data\": {\"name\": \"data-f1c3e4cbfc8c6a45e86b241ce0b27e70\"}, \"height\": 400, \"title\": \"Non Tri-State: deathIncrease\", \"width\": 500, \"$schema\": \"https://vega.github.io/schema/vega-lite/v4.8.1.json\", \"datasets\": {\"data-f1c3e4cbfc8c6a45e86b241ce0b27e70\": [{\"date\": \"2020-12-22T00:00:00\", \"totalTestResultsIncrease\": 1564084.0, \"positiveIncrease\": 176443.0, \"death\": 261220.0, \"deathIncrease\": 2866.0, \"positiveRate\": 0.113, \"state\": \"Non Tri-State\", \"sma7d\": 2462.571}, {\"date\": \"2020-12-23T00:00:00\", \"totalTestResultsIncrease\": 1498879.0, \"positiveIncrease\": 205391.0, \"death\": 264274.0, \"deathIncrease\": 3054.0, \"positiveRate\": 0.137, \"state\": \"Non Tri-State\", \"sma7d\": 2444.0}, {\"date\": \"2020-12-24T00:00:00\", \"totalTestResultsIncrease\": 1657564.0, \"positiveIncrease\": 186748.0, \"death\": 266966.0, \"deathIncrease\": 2692.0, \"positiveRate\": 0.113, \"state\": \"Non Tri-State\", \"sma7d\": 2368.571}, {\"date\": \"2020-12-25T00:00:00\", \"totalTestResultsIncrease\": 1127035.0, \"positiveIncrease\": 108745.0, \"death\": 268347.0, \"deathIncrease\": 1381.0, \"positiveRate\": 0.096, \"state\": \"Non Tri-State\", \"sma7d\": 2184.286}, {\"date\": \"2020-12-26T00:00:00\", \"totalTestResultsIncrease\": 1951807.0, \"positiveIncrease\": 175457.0, \"death\": 269629.0, \"deathIncrease\": 1282.0, \"positiveRate\": 0.09, \"state\": \"Non Tri-State\", \"sma7d\": 2006.143}, {\"date\": \"2020-12-27T00:00:00\", \"totalTestResultsIncrease\": 1237556.0, \"positiveIncrease\": 143022.0, \"death\": 270894.0, \"deathIncrease\": 1265.0, \"positiveRate\": 0.116, \"state\": \"Non Tri-State\", \"sma7d\": 1969.286}, {\"date\": \"2020-12-28T00:00:00\", \"totalTestResultsIncrease\": 1036874.0, \"positiveIncrease\": 141950.0, \"death\": 272132.0, \"deathIncrease\": 1238.0, \"positiveRate\": 0.137, \"state\": \"Non Tri-State\", \"sma7d\": 1968.286}, {\"date\": \"2020-12-29T00:00:00\", \"totalTestResultsIncrease\": 1111662.0, \"positiveIncrease\": 183067.0, \"death\": 275148.0, \"deathIncrease\": 3016.0, \"positiveRate\": 0.165, \"state\": \"Non Tri-State\", \"sma7d\": 1989.714}, {\"date\": \"2020-12-30T00:00:00\", \"totalTestResultsIncrease\": 1389220.0, \"positiveIncrease\": 209148.0, \"death\": 278684.0, \"deathIncrease\": 3536.0, \"positiveRate\": 0.151, \"state\": \"Non Tri-State\", \"sma7d\": 2058.571}, {\"date\": \"2020-12-31T00:00:00\", \"totalTestResultsIncrease\": 1507854.0, \"positiveIncrease\": 201687.0, \"death\": 281725.0, \"deathIncrease\": 3041.0, \"positiveRate\": 0.134, \"state\": \"Non Tri-State\", \"sma7d\": 2108.429}, {\"date\": \"2021-01-01T00:00:00\", \"totalTestResultsIncrease\": 1118797.0, \"positiveIncrease\": 160491.0, \"death\": 284031.0, \"deathIncrease\": 2306.0, \"positiveRate\": 0.143, \"state\": \"Non Tri-State\", \"sma7d\": 2240.571}, {\"date\": \"2021-01-02T00:00:00\", \"totalTestResultsIncrease\": 1833097.0, \"positiveIncrease\": 255033.0, \"death\": 286177.0, \"deathIncrease\": 2146.0, \"positiveRate\": 0.139, \"state\": \"Non Tri-State\", \"sma7d\": 2364.0}, {\"date\": \"2021-01-03T00:00:00\", \"totalTestResultsIncrease\": 1283132.0, \"positiveIncrease\": 193001.0, \"death\": 287472.0, \"deathIncrease\": 1295.0, \"positiveRate\": 0.15, \"state\": \"Non Tri-State\", \"sma7d\": 2368.286}, {\"date\": \"2021-01-04T00:00:00\", \"totalTestResultsIncrease\": 1359528.0, \"positiveIncrease\": 161488.0, \"death\": 288742.0, \"deathIncrease\": 1270.0, \"positiveRate\": 0.119, \"state\": \"Non Tri-State\", \"sma7d\": 2372.857}, {\"date\": \"2021-01-05T00:00:00\", \"totalTestResultsIncrease\": 1319085.0, \"positiveIncrease\": 197806.0, \"death\": 291910.0, \"deathIncrease\": 3168.0, \"positiveRate\": 0.15, \"state\": \"Non Tri-State\", \"sma7d\": 2394.571}, {\"date\": \"2021-01-06T00:00:00\", \"totalTestResultsIncrease\": 1365356.0, \"positiveIncrease\": 225202.0, \"death\": 295470.0, \"deathIncrease\": 3560.0, \"positiveRate\": 0.165, \"state\": \"Non Tri-State\", \"sma7d\": 2398.0}, {\"date\": \"2021-01-07T00:00:00\", \"totalTestResultsIncrease\": 1647254.0, \"positiveIncrease\": 243564.0, \"death\": 299170.0, \"deathIncrease\": 3700.0, \"positiveRate\": 0.148, \"state\": \"Non Tri-State\", \"sma7d\": 2492.143}, {\"date\": \"2021-01-08T00:00:00\", \"totalTestResultsIncrease\": 1828379.0, \"positiveIncrease\": 266104.0, \"death\": 302638.0, \"deathIncrease\": 3468.0, \"positiveRate\": 0.146, \"state\": \"Non Tri-State\", \"sma7d\": 2658.143}, {\"date\": \"2021-01-09T00:00:00\", \"totalTestResultsIncrease\": 1786837.0, \"positiveIncrease\": 244998.0, \"death\": 305887.0, \"deathIncrease\": 3249.0, \"positiveRate\": 0.137, \"state\": \"Non Tri-State\", \"sma7d\": 2815.714}, {\"date\": \"2021-01-10T00:00:00\", \"totalTestResultsIncrease\": 1772066.0, \"positiveIncrease\": 207731.0, \"death\": 307770.0, \"deathIncrease\": 1883.0, \"positiveRate\": 0.117, \"state\": \"Non Tri-State\", \"sma7d\": 2899.714}, {\"date\": \"2021-01-11T00:00:00\", \"totalTestResultsIncrease\": 1541363.0, \"positiveIncrease\": 168843.0, \"death\": 309196.0, \"deathIncrease\": 1426.0, \"positiveRate\": 0.11, \"state\": \"Non Tri-State\", \"sma7d\": 2922.0}, {\"date\": \"2021-01-12T00:00:00\", \"totalTestResultsIncrease\": 1509824.0, \"positiveIncrease\": 194530.0, \"death\": 312954.0, \"deathIncrease\": 3758.0, \"positiveRate\": 0.129, \"state\": \"Non Tri-State\", \"sma7d\": 3006.286}, {\"date\": \"2021-01-13T00:00:00\", \"totalTestResultsIncrease\": 1577988.0, \"positiveIncrease\": 198505.0, \"death\": 316664.0, \"deathIncrease\": 3710.0, \"positiveRate\": 0.126, \"state\": \"Non Tri-State\", \"sma7d\": 3027.714}, {\"date\": \"2021-01-14T00:00:00\", \"totalTestResultsIncrease\": 1752015.0, \"positiveIncrease\": 203895.0, \"death\": 320266.0, \"deathIncrease\": 3602.0, \"positiveRate\": 0.116, \"state\": \"Non Tri-State\", \"sma7d\": 3013.714}, {\"date\": \"2021-01-15T00:00:00\", \"totalTestResultsIncrease\": 1824553.0, \"positiveIncrease\": 218265.0, \"death\": 323650.0, \"deathIncrease\": 3384.0, \"positiveRate\": 0.12, \"state\": \"Non Tri-State\", \"sma7d\": 3001.714}, {\"date\": \"2021-01-16T00:00:00\", \"totalTestResultsIncrease\": 1795533.0, \"positiveIncrease\": 196088.0, \"death\": 327106.0, \"deathIncrease\": 3456.0, \"positiveRate\": 0.109, \"state\": \"Non Tri-State\", \"sma7d\": 3031.286}, {\"date\": \"2021-01-17T00:00:00\", \"totalTestResultsIncrease\": 1641242.0, \"positiveIncrease\": 168244.0, \"death\": 328962.0, \"deathIncrease\": 1856.0, \"positiveRate\": 0.103, \"state\": \"Non Tri-State\", \"sma7d\": 3027.429}, {\"date\": \"2021-01-18T00:00:00\", \"totalTestResultsIncrease\": 1501535.0, \"positiveIncrease\": 128051.0, \"death\": 330107.0, \"deathIncrease\": 1145.0, \"positiveRate\": 0.085, \"state\": \"Non Tri-State\", \"sma7d\": 2987.286}, {\"date\": \"2021-01-19T00:00:00\", \"totalTestResultsIncrease\": 1340163.0, \"positiveIncrease\": 127392.0, \"death\": 332010.0, \"deathIncrease\": 1903.0, \"positiveRate\": 0.095, \"state\": \"Non Tri-State\", \"sma7d\": 2722.286}, {\"date\": \"2021-01-20T00:00:00\", \"totalTestResultsIncrease\": 1510879.0, \"positiveIncrease\": 168486.0, \"death\": 336032.0, \"deathIncrease\": 4022.0, \"positiveRate\": 0.112, \"state\": \"Non Tri-State\", \"sma7d\": 2766.857}, {\"date\": \"2021-01-21T00:00:00\", \"totalTestResultsIncrease\": 1666552.0, \"positiveIncrease\": 165678.0, \"death\": 339587.0, \"deathIncrease\": 3555.0, \"positiveRate\": 0.099, \"state\": \"Non Tri-State\", \"sma7d\": 2760.143}, {\"date\": \"2021-01-22T00:00:00\", \"totalTestResultsIncrease\": 1673521.0, \"positiveIncrease\": 169552.0, \"death\": 343238.0, \"deathIncrease\": 3651.0, \"positiveRate\": 0.101, \"state\": \"Non Tri-State\", \"sma7d\": 2798.286}, {\"date\": \"2021-01-23T00:00:00\", \"totalTestResultsIncrease\": 1660018.0, \"positiveIncrease\": 156185.0, \"death\": 346626.0, \"deathIncrease\": 3388.0, \"positiveRate\": 0.094, \"state\": \"Non Tri-State\", \"sma7d\": 2788.571}, {\"date\": \"2021-01-24T00:00:00\", \"totalTestResultsIncrease\": 1509249.0, \"positiveIncrease\": 126242.0, \"death\": 348391.0, \"deathIncrease\": 1765.0, \"positiveRate\": 0.084, \"state\": \"Non Tri-State\", \"sma7d\": 2775.571}, {\"date\": \"2021-01-25T00:00:00\", \"totalTestResultsIncrease\": 1407829.0, \"positiveIncrease\": 111491.0, \"death\": 349698.0, \"deathIncrease\": 1307.0, \"positiveRate\": 0.079, \"state\": \"Non Tri-State\", \"sma7d\": 2798.714}, {\"date\": \"2021-01-26T00:00:00\", \"totalTestResultsIncrease\": 1338606.0, \"positiveIncrease\": 129341.0, \"death\": 353111.0, \"deathIncrease\": 3413.0, \"positiveRate\": 0.097, \"state\": \"Non Tri-State\", \"sma7d\": 3014.429}, {\"date\": \"2021-01-27T00:00:00\", \"totalTestResultsIncrease\": 1352633.0, \"positiveIncrease\": 135707.0, \"death\": 356859.0, \"deathIncrease\": 3748.0, \"positiveRate\": 0.1, \"state\": \"Non Tri-State\", \"sma7d\": 2975.286}, {\"date\": \"2021-01-28T00:00:00\", \"totalTestResultsIncrease\": 1614290.0, \"positiveIncrease\": 137736.0, \"death\": 360582.0, \"deathIncrease\": 3723.0, \"positiveRate\": 0.085, \"state\": \"Non Tri-State\", \"sma7d\": 2999.286}, {\"date\": \"2021-01-29T00:00:00\", \"totalTestResultsIncrease\": 1589715.0, \"positiveIncrease\": 147288.0, \"death\": 363826.0, \"deathIncrease\": 3244.0, \"positiveRate\": 0.093, \"state\": \"Non Tri-State\", \"sma7d\": 2941.143}, {\"date\": \"2021-01-30T00:00:00\", \"totalTestResultsIncrease\": 1883080.0, \"positiveIncrease\": 130746.0, \"death\": 366593.0, \"deathIncrease\": 2767.0, \"positiveRate\": 0.069, \"state\": \"Non Tri-State\", \"sma7d\": 2852.429}, {\"date\": \"2021-01-31T00:00:00\", \"totalTestResultsIncrease\": 1468710.0, \"positiveIncrease\": 104288.0, \"death\": 368481.0, \"deathIncrease\": 1888.0, \"positiveRate\": 0.071, \"state\": \"Non Tri-State\", \"sma7d\": 2870.0}, {\"date\": \"2021-02-01T00:00:00\", \"totalTestResultsIncrease\": 1196877.0, \"positiveIncrease\": 104244.0, \"death\": 369800.0, \"deathIncrease\": 1319.0, \"positiveRate\": 0.087, \"state\": \"Non Tri-State\", \"sma7d\": 2871.714}, {\"date\": \"2021-02-02T00:00:00\", \"totalTestResultsIncrease\": 1190525.0, \"positiveIncrease\": 103683.0, \"death\": 373054.0, \"deathIncrease\": 3254.0, \"positiveRate\": 0.087, \"state\": \"Non Tri-State\", \"sma7d\": 2849.0}, {\"date\": \"2021-02-03T00:00:00\", \"totalTestResultsIncrease\": 1270484.0, \"positiveIncrease\": 108242.0, \"death\": 376441.0, \"deathIncrease\": 3387.0, \"positiveRate\": 0.085, \"state\": \"Non Tri-State\", \"sma7d\": 2797.429}, {\"date\": \"2021-02-04T00:00:00\", \"totalTestResultsIncrease\": 1455557.0, \"positiveIncrease\": 112267.0, \"death\": 381389.0, \"deathIncrease\": 4948.0, \"positiveRate\": 0.077, \"state\": \"Non Tri-State\", \"sma7d\": 2972.429}, {\"date\": \"2021-02-05T00:00:00\", \"totalTestResultsIncrease\": 1593905.0, \"positiveIncrease\": 116710.0, \"death\": 384657.0, \"deathIncrease\": 3268.0, \"positiveRate\": 0.073, \"state\": \"Non Tri-State\", \"sma7d\": 2975.857}, {\"date\": \"2021-02-06T00:00:00\", \"totalTestResultsIncrease\": 1565902.0, \"positiveIncrease\": 98794.0, \"death\": 387414.0, \"deathIncrease\": 2757.0, \"positiveRate\": 0.063, \"state\": \"Non Tri-State\", \"sma7d\": 2974.429}, {\"date\": \"2021-02-07T00:00:00\", \"totalTestResultsIncrease\": 1243243.0, \"positiveIncrease\": 81637.0, \"death\": 388719.0, \"deathIncrease\": 1305.0, \"positiveRate\": 0.066, \"state\": \"Non Tri-State\", \"sma7d\": 2891.143}, {\"date\": \"2021-02-08T00:00:00\", \"totalTestResultsIncrease\": 1112140.0, \"positiveIncrease\": 62361.0, \"death\": 389823.0, \"deathIncrease\": 1104.0, \"positiveRate\": 0.056, \"state\": \"Non Tri-State\", \"sma7d\": 2860.429}, {\"date\": \"2021-02-09T00:00:00\", \"totalTestResultsIncrease\": 1137570.0, \"positiveIncrease\": 80675.0, \"death\": 392368.0, \"deathIncrease\": 2545.0, \"positiveRate\": 0.071, \"state\": \"Non Tri-State\", \"sma7d\": 2759.143}, {\"date\": \"2021-02-10T00:00:00\", \"totalTestResultsIncrease\": 1183245.0, \"positiveIncrease\": 82835.0, \"death\": 395500.0, \"deathIncrease\": 3132.0, \"positiveRate\": 0.07, \"state\": \"Non Tri-State\", \"sma7d\": 2722.714}, {\"date\": \"2021-02-11T00:00:00\", \"totalTestResultsIncrease\": 1503228.0, \"positiveIncrease\": 87659.0, \"death\": 399142.0, \"deathIncrease\": 3642.0, \"positiveRate\": 0.058, \"state\": \"Non Tri-State\", \"sma7d\": 2536.143}, {\"date\": \"2021-02-12T00:00:00\", \"totalTestResultsIncrease\": 1493184.0, \"positiveIncrease\": 88056.0, \"death\": 404339.0, \"deathIncrease\": 5197.0, \"positiveRate\": 0.059, \"state\": \"Non Tri-State\", \"sma7d\": 2811.714}, {\"date\": \"2021-02-13T00:00:00\", \"totalTestResultsIncrease\": 1420485.0, \"positiveIncrease\": 77679.0, \"death\": 407593.0, \"deathIncrease\": 3254.0, \"positiveRate\": 0.055, \"state\": \"Non Tri-State\", \"sma7d\": 2882.714}, {\"date\": \"2021-02-14T00:00:00\", \"totalTestResultsIncrease\": 1182986.0, \"positiveIncrease\": 61360.0, \"death\": 408833.0, \"deathIncrease\": 1240.0, \"positiveRate\": 0.052, \"state\": \"Non Tri-State\", \"sma7d\": 2873.429}]}}, {\"mode\": \"vega-lite\"});\n",
       "</script>"
      ],
      "text/plain": [
       "alt.LayerChart(...)"
      ]
     },
     "execution_count": 17,
     "metadata": {},
     "output_type": "execute_result"
    }
   ],
   "source": [
    "create_plot(non_tristate, 'deathIncrease')"
   ]
  }
 ],
 "metadata": {
  "kernelspec": {
   "display_name": "Python 3",
   "language": "python",
   "name": "python3"
  },
  "language_info": {
   "codemirror_mode": {
    "name": "ipython",
    "version": 3
   },
   "file_extension": ".py",
   "mimetype": "text/x-python",
   "name": "python",
   "nbconvert_exporter": "python",
   "pygments_lexer": "ipython3",
   "version": "3.8.7"
  },
  "papermill": {
   "duration": 10.536243,
   "end_time": "2021-02-15T09:16:51.754534",
   "environment_variables": {},
   "exception": null,
   "input_path": "2020-07-19-covid-plots.ipynb",
   "output_path": "2020-07-19-covid-plots.ipynb",
   "parameters": {},
   "start_time": "2021-02-15T09:16:41.218291",
   "version": "2.1.2"
  }
 },
 "nbformat": 4,
 "nbformat_minor": 5
}