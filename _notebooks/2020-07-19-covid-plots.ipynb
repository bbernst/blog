{
 "cells": [
  {
   "cell_type": "markdown",
   "metadata": {
    "papermill": {
     "duration": 0.016241,
     "end_time": "2020-11-09T22:34:38.326856",
     "exception": false,
     "start_time": "2020-11-09T22:34:38.310615",
     "status": "completed"
    },
    "tags": []
   },
   "source": [
    "# \"COVID-19 plots\"\n",
    "> \"Interactive plots with daily updates\"\n",
    "\n",
    "- author: bbernst\n",
    "- toc: true\n",
    "- branch: master\n",
    "- badges: true\n",
    "- comments: true\n",
    "- categories: [healthcare, covid]\n",
    "- image: images/covid_plots/covid_mask.png\n",
    "- hide: false\n",
    "- search_exclude: true"
   ]
  },
  {
   "cell_type": "markdown",
   "metadata": {
    "papermill": {
     "duration": 0.013567,
     "end_time": "2020-11-09T22:34:38.358426",
     "exception": false,
     "start_time": "2020-11-09T22:34:38.344859",
     "status": "completed"
    },
    "tags": []
   },
   "source": [
    "I wanted to make a simple COVID-19 post to accomplish two main goals:\n",
    "1. Easily see the specific plots I'm interested in\n",
    "1. Update these plots every day, automatically\n",
    "\n",
    "Enter [fastpages](https://github.com/fastai/fastpages) and [github actions](https://github.com/features/actions). I'd been meaning to set up a blog with fastpages for a while and thought this would be a good reason to try it out. The documentation was great and I was able to set up automatic updates by using https://covid19dashboards.com/ as a guide.\n",
    "\n",
    "The data for this post comes from https://covidtracking.com/, which updates by 5pm each day, and I have my dashboard update at 6:30pm. For each geography -- so far that's the US, New York, and Non Tri-State -- I look at daily positive cases, positive rate, and deaths. Be sure to hover around on each of the plots, they have helpful interactive tooltips to make reading the data more intuitive."
   ]
  },
  {
   "cell_type": "code",
   "execution_count": 1,
   "metadata": {
    "execution": {
     "iopub.execute_input": "2020-11-09T22:34:38.391657Z",
     "iopub.status.busy": "2020-11-09T22:34:38.390942Z",
     "iopub.status.idle": "2020-11-09T22:34:38.830687Z",
     "shell.execute_reply": "2020-11-09T22:34:38.829884Z"
    },
    "papermill": {
     "duration": 0.459157,
     "end_time": "2020-11-09T22:34:38.830960",
     "exception": false,
     "start_time": "2020-11-09T22:34:38.371803",
     "status": "completed"
    },
    "tags": []
   },
   "outputs": [],
   "source": [
    "#collapse\n",
    "from typing import Callable, Literal\n",
    "import pandas as pd\n",
    "import altair as alt"
   ]
  },
  {
   "cell_type": "code",
   "execution_count": 2,
   "metadata": {
    "execution": {
     "iopub.execute_input": "2020-11-09T22:34:38.865796Z",
     "iopub.status.busy": "2020-11-09T22:34:38.865117Z",
     "iopub.status.idle": "2020-11-09T22:34:38.886480Z",
     "shell.execute_reply": "2020-11-09T22:34:38.885856Z"
    },
    "papermill": {
     "duration": 0.041401,
     "end_time": "2020-11-09T22:34:38.886613",
     "exception": false,
     "start_time": "2020-11-09T22:34:38.845212",
     "status": "completed"
    },
    "tags": []
   },
   "outputs": [
    {
     "name": "stdout",
     "output_type": "stream",
     "text": [
      "Last updated at (ET): 2020-11-09 05:34:38 PM\n"
     ]
    }
   ],
   "source": [
    "#hide_input\n",
    "current_utc = pd.Timestamp.now(tz='America/New_York').strftime('%Y-%m-%d %I:%M:%S %p')\n",
    "print(f\"Last updated at (ET): {current_utc}\")"
   ]
  },
  {
   "cell_type": "markdown",
   "metadata": {
    "papermill": {
     "duration": 0.013398,
     "end_time": "2020-11-09T22:34:38.915263",
     "exception": false,
     "start_time": "2020-11-09T22:34:38.901865",
     "status": "completed"
    },
    "tags": []
   },
   "source": [
    "# Data"
   ]
  },
  {
   "cell_type": "code",
   "execution_count": 3,
   "metadata": {
    "execution": {
     "iopub.execute_input": "2020-11-09T22:34:38.948785Z",
     "iopub.status.busy": "2020-11-09T22:34:38.948162Z",
     "iopub.status.idle": "2020-11-09T22:34:41.676296Z",
     "shell.execute_reply": "2020-11-09T22:34:41.675104Z"
    },
    "papermill": {
     "duration": 2.747621,
     "end_time": "2020-11-09T22:34:41.676445",
     "exception": false,
     "start_time": "2020-11-09T22:34:38.928824",
     "status": "completed"
    },
    "tags": []
   },
   "outputs": [],
   "source": [
    "df = pd.read_csv('https://covidtracking.com/api/states/daily.csv')"
   ]
  },
  {
   "cell_type": "markdown",
   "metadata": {
    "papermill": {
     "duration": 0.015273,
     "end_time": "2020-11-09T22:34:41.706995",
     "exception": false,
     "start_time": "2020-11-09T22:34:41.691722",
     "status": "completed"
    },
    "tags": []
   },
   "source": [
    "# Helpers"
   ]
  },
  {
   "cell_type": "code",
   "execution_count": 4,
   "metadata": {
    "execution": {
     "iopub.execute_input": "2020-11-09T22:34:41.744136Z",
     "iopub.status.busy": "2020-11-09T22:34:41.743466Z",
     "iopub.status.idle": "2020-11-09T22:34:41.745871Z",
     "shell.execute_reply": "2020-11-09T22:34:41.745138Z"
    },
    "papermill": {
     "duration": 0.02339,
     "end_time": "2020-11-09T22:34:41.746008",
     "exception": false,
     "start_time": "2020-11-09T22:34:41.722618",
     "status": "completed"
    },
    "tags": []
   },
   "outputs": [],
   "source": [
    "#collapse\n",
    "def create_df(df: pd.DataFrame, \n",
    "              filter_f: Callable, \n",
    "              state_name: str):\n",
    "    out_df = (\n",
    "     df\n",
    "     .assign(date = lambda d: pd.to_datetime(d['date'], format='%Y%m%d'))\n",
    "     .loc[filter_f, :]\n",
    "     .groupby('date')\n",
    "     .apply(lambda d: pd.Series(dict(\n",
    "         totalTestResultsIncrease = d['totalTestResultsIncrease'].sum(),\n",
    "         positiveIncrease = d['positiveIncrease'].sum(),\n",
    "         death = d['death'].sum(),\n",
    "         deathIncrease = d['deathIncrease'].sum()\n",
    "     )))\n",
    "     .reset_index()\n",
    "     .assign(positiveRate = lambda d: round(d['positiveIncrease'] / d['totalTestResultsIncrease'], 3))\n",
    "     .sort_values('date', ascending=True)\n",
    "     .assign(state = state_name)\n",
    "     .reset_index(drop=True)\n",
    "    )\n",
    "    \n",
    "    return out_df"
   ]
  },
  {
   "cell_type": "code",
   "execution_count": 5,
   "metadata": {
    "execution": {
     "iopub.execute_input": "2020-11-09T22:34:41.785265Z",
     "iopub.status.busy": "2020-11-09T22:34:41.784561Z",
     "iopub.status.idle": "2020-11-09T22:34:41.786795Z",
     "shell.execute_reply": "2020-11-09T22:34:41.787339Z"
    },
    "papermill": {
     "duration": 0.027271,
     "end_time": "2020-11-09T22:34:41.787509",
     "exception": false,
     "start_time": "2020-11-09T22:34:41.760238",
     "status": "completed"
    },
    "tags": []
   },
   "outputs": [],
   "source": [
    "#collapse\n",
    "def create_plot(df: pd.DataFrame, \n",
    "                column: Literal['totalTestResultsIncrease', \n",
    "                                'positiveIncrease', \n",
    "                                'death',\n",
    "                                'deathIncrease', \n",
    "                                'positiveRate'],\n",
    "                period: int = 7*8):\n",
    "    df = (\n",
    "     df\n",
    "     .assign(sma7d = lambda d: d[column].rolling(window=7).mean().round(3))\n",
    "     .loc[lambda d: d['date'] >= pd.to_datetime('today') - period * pd.Timedelta('1 days'), :]\n",
    "     .reset_index(drop=True)\n",
    "    )\n",
    "    the_state = df['state'][0]\n",
    "    label = alt.selection_single(\n",
    "        encodings=['x'], on='mouseover', nearest=True, empty='none')\n",
    "    \n",
    "    base = alt.Chart().mark_point(size=75).encode(\n",
    "        x='date:T',\n",
    "        y=f'{column}:Q',\n",
    "        tooltip=['date', f'{column}:Q', 'sma7d:Q']\n",
    "    )\n",
    "\n",
    "    sma = alt.Chart().mark_line(color='purple').encode(\n",
    "        x='date:T',\n",
    "        y='sma7d:Q'\n",
    "    )\n",
    "\n",
    "    layers = alt.layer(\n",
    "        base + sma,\n",
    "\n",
    "        # add a rule mark to serve as a guide line\n",
    "        alt.Chart().mark_rule(color='#aaa').encode(\n",
    "            x='date:T'\n",
    "        ).transform_filter(label),\n",
    "\n",
    "        # add circle marks for selected time points, hide unselected points\n",
    "        base.mark_circle().encode(\n",
    "            opacity=alt.condition(label, alt.value(1), alt.value(0))\n",
    "        ).add_selection(label),\n",
    "\n",
    "        # add white stroked text to provide a legible background for labels\n",
    "        base.mark_text(align='left', dx=5, dy=-5, stroke='white', strokeWidth=2).encode(\n",
    "            text=f'{column}:Q'\n",
    "        ).transform_filter(label),\n",
    "\n",
    "        # add text labels\n",
    "        base.mark_text(align='left', dx=5, dy=-5).encode(\n",
    "            text=f'{column}:Q'\n",
    "        ).transform_filter(label),\n",
    "        \n",
    "        data=df\n",
    "    ).properties(\n",
    "        title=f'{the_state}: {column}',\n",
    "        width=500,\n",
    "        height=400\n",
    "    )\n",
    "    \n",
    "    return layers.interactive()"
   ]
  },
  {
   "cell_type": "markdown",
   "metadata": {
    "papermill": {
     "duration": 0.014097,
     "end_time": "2020-11-09T22:34:41.816882",
     "exception": false,
     "start_time": "2020-11-09T22:34:41.802785",
     "status": "completed"
    },
    "tags": []
   },
   "source": [
    "# Plots"
   ]
  },
  {
   "cell_type": "markdown",
   "metadata": {
    "papermill": {
     "duration": 0.014284,
     "end_time": "2020-11-09T22:34:41.845603",
     "exception": false,
     "start_time": "2020-11-09T22:34:41.831319",
     "status": "completed"
    },
    "tags": []
   },
   "source": [
    "## US"
   ]
  },
  {
   "cell_type": "code",
   "execution_count": 6,
   "metadata": {
    "execution": {
     "iopub.execute_input": "2020-11-09T22:34:41.879194Z",
     "iopub.status.busy": "2020-11-09T22:34:41.878551Z",
     "iopub.status.idle": "2020-11-09T22:34:42.292037Z",
     "shell.execute_reply": "2020-11-09T22:34:42.291496Z"
    },
    "papermill": {
     "duration": 0.43216,
     "end_time": "2020-11-09T22:34:42.292203",
     "exception": false,
     "start_time": "2020-11-09T22:34:41.860043",
     "status": "completed"
    },
    "tags": []
   },
   "outputs": [],
   "source": [
    "us = create_df(df, lambda d: d.index > 0, 'US')"
   ]
  },
  {
   "cell_type": "code",
   "execution_count": 7,
   "metadata": {
    "execution": {
     "iopub.execute_input": "2020-11-09T22:34:42.344229Z",
     "iopub.status.busy": "2020-11-09T22:34:42.333914Z",
     "iopub.status.idle": "2020-11-09T22:34:42.440310Z",
     "shell.execute_reply": "2020-11-09T22:34:42.440874Z"
    },
    "papermill": {
     "duration": 0.134619,
     "end_time": "2020-11-09T22:34:42.441115",
     "exception": false,
     "start_time": "2020-11-09T22:34:42.306496",
     "status": "completed"
    },
    "tags": []
   },
   "outputs": [
    {
     "data": {
      "text/html": [
       "\n",
       "<div id=\"altair-viz-9a905f9d9dd24edfa89c480c3a9484db\"></div>\n",
       "<script type=\"text/javascript\">\n",
       "  (function(spec, embedOpt){\n",
       "    let outputDiv = document.currentScript.previousElementSibling;\n",
       "    if (outputDiv.id !== \"altair-viz-9a905f9d9dd24edfa89c480c3a9484db\") {\n",
       "      outputDiv = document.getElementById(\"altair-viz-9a905f9d9dd24edfa89c480c3a9484db\");\n",
       "    }\n",
       "    const paths = {\n",
       "      \"vega\": \"https://cdn.jsdelivr.net/npm//vega@5?noext\",\n",
       "      \"vega-lib\": \"https://cdn.jsdelivr.net/npm//vega-lib?noext\",\n",
       "      \"vega-lite\": \"https://cdn.jsdelivr.net/npm//vega-lite@4.8.1?noext\",\n",
       "      \"vega-embed\": \"https://cdn.jsdelivr.net/npm//vega-embed@6?noext\",\n",
       "    };\n",
       "\n",
       "    function loadScript(lib) {\n",
       "      return new Promise(function(resolve, reject) {\n",
       "        var s = document.createElement('script');\n",
       "        s.src = paths[lib];\n",
       "        s.async = true;\n",
       "        s.onload = () => resolve(paths[lib]);\n",
       "        s.onerror = () => reject(`Error loading script: ${paths[lib]}`);\n",
       "        document.getElementsByTagName(\"head\")[0].appendChild(s);\n",
       "      });\n",
       "    }\n",
       "\n",
       "    function showError(err) {\n",
       "      outputDiv.innerHTML = `<div class=\"error\" style=\"color:red;\">${err}</div>`;\n",
       "      throw err;\n",
       "    }\n",
       "\n",
       "    function displayChart(vegaEmbed) {\n",
       "      vegaEmbed(outputDiv, spec, embedOpt)\n",
       "        .catch(err => showError(`Javascript Error: ${err.message}<br>This usually means there's a typo in your chart specification. See the javascript console for the full traceback.`));\n",
       "    }\n",
       "\n",
       "    if(typeof define === \"function\" && define.amd) {\n",
       "      requirejs.config({paths});\n",
       "      require([\"vega-embed\"], displayChart, err => showError(`Error loading script: ${err.message}`));\n",
       "    } else if (typeof vegaEmbed === \"function\") {\n",
       "      displayChart(vegaEmbed);\n",
       "    } else {\n",
       "      loadScript(\"vega\")\n",
       "        .then(() => loadScript(\"vega-lite\"))\n",
       "        .then(() => loadScript(\"vega-embed\"))\n",
       "        .catch(showError)\n",
       "        .then(() => displayChart(vegaEmbed));\n",
       "    }\n",
       "  })({\"config\": {\"view\": {\"continuousWidth\": 400, \"continuousHeight\": 300}}, \"layer\": [{\"layer\": [{\"mark\": {\"type\": \"point\", \"size\": 75}, \"encoding\": {\"tooltip\": [{\"type\": \"temporal\", \"field\": \"date\"}, {\"type\": \"quantitative\", \"field\": \"positiveIncrease\"}, {\"type\": \"quantitative\", \"field\": \"sma7d\"}], \"x\": {\"type\": \"temporal\", \"field\": \"date\"}, \"y\": {\"type\": \"quantitative\", \"field\": \"positiveIncrease\"}}, \"selection\": {\"selector002\": {\"type\": \"interval\", \"bind\": \"scales\", \"encodings\": [\"x\", \"y\"]}}}, {\"mark\": {\"type\": \"line\", \"color\": \"purple\"}, \"encoding\": {\"x\": {\"type\": \"temporal\", \"field\": \"date\"}, \"y\": {\"type\": \"quantitative\", \"field\": \"sma7d\"}}}]}, {\"mark\": {\"type\": \"rule\", \"color\": \"#aaa\"}, \"encoding\": {\"x\": {\"type\": \"temporal\", \"field\": \"date\"}}, \"transform\": [{\"filter\": {\"selection\": \"selector001\"}}]}, {\"mark\": \"circle\", \"encoding\": {\"opacity\": {\"condition\": {\"value\": 1, \"selection\": \"selector001\"}, \"value\": 0}, \"tooltip\": [{\"type\": \"temporal\", \"field\": \"date\"}, {\"type\": \"quantitative\", \"field\": \"positiveIncrease\"}, {\"type\": \"quantitative\", \"field\": \"sma7d\"}], \"x\": {\"type\": \"temporal\", \"field\": \"date\"}, \"y\": {\"type\": \"quantitative\", \"field\": \"positiveIncrease\"}}, \"selection\": {\"selector001\": {\"type\": \"single\", \"encodings\": [\"x\"], \"on\": \"mouseover\", \"nearest\": true, \"empty\": \"none\"}}}, {\"mark\": {\"type\": \"text\", \"align\": \"left\", \"dx\": 5, \"dy\": -5, \"stroke\": \"white\", \"strokeWidth\": 2}, \"encoding\": {\"text\": {\"type\": \"quantitative\", \"field\": \"positiveIncrease\"}, \"tooltip\": [{\"type\": \"temporal\", \"field\": \"date\"}, {\"type\": \"quantitative\", \"field\": \"positiveIncrease\"}, {\"type\": \"quantitative\", \"field\": \"sma7d\"}], \"x\": {\"type\": \"temporal\", \"field\": \"date\"}, \"y\": {\"type\": \"quantitative\", \"field\": \"positiveIncrease\"}}, \"transform\": [{\"filter\": {\"selection\": \"selector001\"}}]}, {\"mark\": {\"type\": \"text\", \"align\": \"left\", \"dx\": 5, \"dy\": -5}, \"encoding\": {\"text\": {\"type\": \"quantitative\", \"field\": \"positiveIncrease\"}, \"tooltip\": [{\"type\": \"temporal\", \"field\": \"date\"}, {\"type\": \"quantitative\", \"field\": \"positiveIncrease\"}, {\"type\": \"quantitative\", \"field\": \"sma7d\"}], \"x\": {\"type\": \"temporal\", \"field\": \"date\"}, \"y\": {\"type\": \"quantitative\", \"field\": \"positiveIncrease\"}}, \"transform\": [{\"filter\": {\"selection\": \"selector001\"}}]}], \"data\": {\"name\": \"data-76c86593b3431f43533a782c42180881\"}, \"height\": 400, \"title\": \"US: positiveIncrease\", \"width\": 500, \"$schema\": \"https://vega.github.io/schema/vega-lite/v4.8.1.json\", \"datasets\": {\"data-76c86593b3431f43533a782c42180881\": [{\"date\": \"2020-09-15T00:00:00\", \"totalTestResultsIncrease\": 812608.0, \"positiveIncrease\": 34879.0, \"death\": 187596.0, \"deathIncrease\": 1031.0, \"positiveRate\": 0.043, \"state\": \"US\", \"sma7d\": 36805.857}, {\"date\": \"2020-09-16T00:00:00\", \"totalTestResultsIncrease\": 826550.0, \"positiveIncrease\": 39888.0, \"death\": 188796.0, \"deathIncrease\": 1200.0, \"positiveRate\": 0.048, \"state\": \"US\", \"sma7d\": 38066.714}, {\"date\": \"2020-09-17T00:00:00\", \"totalTestResultsIncrease\": 964093.0, \"positiveIncrease\": 43375.0, \"death\": 189659.0, \"deathIncrease\": 863.0, \"positiveRate\": 0.045, \"state\": \"US\", \"sma7d\": 38945.714}, {\"date\": \"2020-09-18T00:00:00\", \"totalTestResultsIncrease\": 1093150.0, \"positiveIncrease\": 47121.0, \"death\": 190560.0, \"deathIncrease\": 901.0, \"positiveRate\": 0.043, \"state\": \"US\", \"sma7d\": 39293.286}, {\"date\": \"2020-09-19T00:00:00\", \"totalTestResultsIncrease\": 1176253.0, \"positiveIncrease\": 44886.0, \"death\": 191300.0, \"deathIncrease\": 740.0, \"positiveRate\": 0.038, \"state\": \"US\", \"sma7d\": 39734.429}, {\"date\": \"2020-09-20T00:00:00\", \"totalTestResultsIncrease\": 978387.0, \"positiveIncrease\": 35688.0, \"death\": 191627.0, \"deathIncrease\": 327.0, \"positiveRate\": 0.036, \"state\": \"US\", \"sma7d\": 39931.571}, {\"date\": \"2020-09-21T00:00:00\", \"totalTestResultsIncrease\": 775038.0, \"positiveIncrease\": 39062.0, \"death\": 191914.0, \"deathIncrease\": 287.0, \"positiveRate\": 0.05, \"state\": \"US\", \"sma7d\": 40699.857}, {\"date\": \"2020-09-22T00:00:00\", \"totalTestResultsIncrease\": 850806.0, \"positiveIncrease\": 49351.0, \"death\": 192768.0, \"deathIncrease\": 854.0, \"positiveRate\": 0.058, \"state\": \"US\", \"sma7d\": 42767.286}, {\"date\": \"2020-09-23T00:00:00\", \"totalTestResultsIncrease\": 1010356.0, \"positiveIncrease\": 38547.0, \"death\": 193927.0, \"deathIncrease\": 1159.0, \"positiveRate\": 0.038, \"state\": \"US\", \"sma7d\": 42575.714}, {\"date\": \"2020-09-24T00:00:00\", \"totalTestResultsIncrease\": 1037542.0, \"positiveIncrease\": 43243.0, \"death\": 194848.0, \"deathIncrease\": 921.0, \"positiveRate\": 0.042, \"state\": \"US\", \"sma7d\": 42556.857}, {\"date\": \"2020-09-25T00:00:00\", \"totalTestResultsIncrease\": 1112451.0, \"positiveIncrease\": 55137.0, \"death\": 195692.0, \"deathIncrease\": 844.0, \"positiveRate\": 0.05, \"state\": \"US\", \"sma7d\": 43702.0}, {\"date\": \"2020-09-26T00:00:00\", \"totalTestResultsIncrease\": 1123184.0, \"positiveIncrease\": 47580.0, \"death\": 196561.0, \"deathIncrease\": 869.0, \"positiveRate\": 0.042, \"state\": \"US\", \"sma7d\": 44086.857}, {\"date\": \"2020-09-27T00:00:00\", \"totalTestResultsIncrease\": 905578.0, \"positiveIncrease\": 35061.0, \"death\": 196868.0, \"deathIncrease\": 307.0, \"positiveRate\": 0.039, \"state\": \"US\", \"sma7d\": 43997.286}, {\"date\": \"2020-09-28T00:00:00\", \"totalTestResultsIncrease\": 1164211.0, \"positiveIncrease\": 36056.0, \"death\": 197125.0, \"deathIncrease\": 257.0, \"positiveRate\": 0.031, \"state\": \"US\", \"sma7d\": 43567.857}, {\"date\": \"2020-09-29T00:00:00\", \"totalTestResultsIncrease\": 914062.0, \"positiveIncrease\": 36289.0, \"death\": 197864.0, \"deathIncrease\": 739.0, \"positiveRate\": 0.04, \"state\": \"US\", \"sma7d\": 41701.857}, {\"date\": \"2020-09-30T00:00:00\", \"totalTestResultsIncrease\": 904382.0, \"positiveIncrease\": 44267.0, \"death\": 198925.0, \"deathIncrease\": 1061.0, \"positiveRate\": 0.049, \"state\": \"US\", \"sma7d\": 42519.0}, {\"date\": \"2020-10-01T00:00:00\", \"totalTestResultsIncrease\": 998172.0, \"positiveIncrease\": 45481.0, \"death\": 199776.0, \"deathIncrease\": 851.0, \"positiveRate\": 0.046, \"state\": \"US\", \"sma7d\": 42838.714}, {\"date\": \"2020-10-02T00:00:00\", \"totalTestResultsIncrease\": 1241655.0, \"positiveIncrease\": 49133.0, \"death\": 200611.0, \"deathIncrease\": 835.0, \"positiveRate\": 0.04, \"state\": \"US\", \"sma7d\": 41981.0}, {\"date\": \"2020-10-03T00:00:00\", \"totalTestResultsIncrease\": 1099978.0, \"positiveIncrease\": 51009.0, \"death\": 201352.0, \"deathIncrease\": 741.0, \"positiveRate\": 0.046, \"state\": \"US\", \"sma7d\": 42470.857}, {\"date\": \"2020-10-04T00:00:00\", \"totalTestResultsIncrease\": 1028949.0, \"positiveIncrease\": 38287.0, \"death\": 201715.0, \"deathIncrease\": 363.0, \"positiveRate\": 0.037, \"state\": \"US\", \"sma7d\": 42931.714}, {\"date\": \"2020-10-05T00:00:00\", \"totalTestResultsIncrease\": 990534.0, \"positiveIncrease\": 37857.0, \"death\": 202041.0, \"deathIncrease\": 326.0, \"positiveRate\": 0.038, \"state\": \"US\", \"sma7d\": 43189.0}, {\"date\": \"2020-10-06T00:00:00\", \"totalTestResultsIncrease\": 907026.0, \"positiveIncrease\": 38417.0, \"death\": 202675.0, \"deathIncrease\": 634.0, \"positiveRate\": 0.042, \"state\": \"US\", \"sma7d\": 43493.0}, {\"date\": \"2020-10-07T00:00:00\", \"totalTestResultsIncrease\": 973491.0, \"positiveIncrease\": 50556.0, \"death\": 203591.0, \"deathIncrease\": 916.0, \"positiveRate\": 0.052, \"state\": \"US\", \"sma7d\": 44391.429}, {\"date\": \"2020-10-08T00:00:00\", \"totalTestResultsIncrease\": 1149465.0, \"positiveIncrease\": 55118.0, \"death\": 204577.0, \"deathIncrease\": 986.0, \"positiveRate\": 0.048, \"state\": \"US\", \"sma7d\": 45768.143}, {\"date\": \"2020-10-09T00:00:00\", \"totalTestResultsIncrease\": 1200831.0, \"positiveIncrease\": 56723.0, \"death\": 205470.0, \"deathIncrease\": 893.0, \"positiveRate\": 0.047, \"state\": \"US\", \"sma7d\": 46852.429}, {\"date\": \"2020-10-10T00:00:00\", \"totalTestResultsIncrease\": 1247234.0, \"positiveIncrease\": 57252.0, \"death\": 206135.0, \"deathIncrease\": 665.0, \"positiveRate\": 0.046, \"state\": \"US\", \"sma7d\": 47744.286}, {\"date\": \"2020-10-11T00:00:00\", \"totalTestResultsIncrease\": 1083240.0, \"positiveIncrease\": 46701.0, \"death\": 206601.0, \"deathIncrease\": 466.0, \"positiveRate\": 0.043, \"state\": \"US\", \"sma7d\": 48946.286}, {\"date\": \"2020-10-12T00:00:00\", \"totalTestResultsIncrease\": 1063984.0, \"positiveIncrease\": 42775.0, \"death\": 206888.0, \"deathIncrease\": 287.0, \"positiveRate\": 0.04, \"state\": \"US\", \"sma7d\": 49648.857}, {\"date\": \"2020-10-13T00:00:00\", \"totalTestResultsIncrease\": 1040824.0, \"positiveIncrease\": 48148.0, \"death\": 207578.0, \"deathIncrease\": 690.0, \"positiveRate\": 0.046, \"state\": \"US\", \"sma7d\": 51039.0}, {\"date\": \"2020-10-14T00:00:00\", \"totalTestResultsIncrease\": 1041389.0, \"positiveIncrease\": 56236.0, \"death\": 208389.0, \"deathIncrease\": 811.0, \"positiveRate\": 0.054, \"state\": \"US\", \"sma7d\": 51850.429}, {\"date\": \"2020-10-15T00:00:00\", \"totalTestResultsIncrease\": 1102270.0, \"positiveIncrease\": 62851.0, \"death\": 209340.0, \"deathIncrease\": 951.0, \"positiveRate\": 0.057, \"state\": \"US\", \"sma7d\": 52955.143}, {\"date\": \"2020-10-16T00:00:00\", \"totalTestResultsIncrease\": 1230075.0, \"positiveIncrease\": 67940.0, \"death\": 210217.0, \"deathIncrease\": 877.0, \"positiveRate\": 0.055, \"state\": \"US\", \"sma7d\": 54557.571}, {\"date\": \"2020-10-17T00:00:00\", \"totalTestResultsIncrease\": 1295276.0, \"positiveIncrease\": 57748.0, \"death\": 210997.0, \"deathIncrease\": 780.0, \"positiveRate\": 0.045, \"state\": \"US\", \"sma7d\": 54628.429}, {\"date\": \"2020-10-18T00:00:00\", \"totalTestResultsIncrease\": 1055833.0, \"positiveIncrease\": 48632.0, \"death\": 211390.0, \"deathIncrease\": 393.0, \"positiveRate\": 0.046, \"state\": \"US\", \"sma7d\": 54904.286}, {\"date\": \"2020-10-19T00:00:00\", \"totalTestResultsIncrease\": 1130890.0, \"positiveIncrease\": 56902.0, \"death\": 211846.0, \"deathIncrease\": 456.0, \"positiveRate\": 0.05, \"state\": \"US\", \"sma7d\": 56922.429}, {\"date\": \"2020-10-20T00:00:00\", \"totalTestResultsIncrease\": 948693.0, \"positiveIncrease\": 60312.0, \"death\": 212678.0, \"deathIncrease\": 832.0, \"positiveRate\": 0.064, \"state\": \"US\", \"sma7d\": 58660.143}, {\"date\": \"2020-10-21T00:00:00\", \"totalTestResultsIncrease\": 939535.0, \"positiveIncrease\": 60657.0, \"death\": 213702.0, \"deathIncrease\": 1024.0, \"positiveRate\": 0.065, \"state\": \"US\", \"sma7d\": 59291.714}, {\"date\": \"2020-10-22T00:00:00\", \"totalTestResultsIncrease\": 1218558.0, \"positiveIncrease\": 72887.0, \"death\": 214845.0, \"deathIncrease\": 1143.0, \"positiveRate\": 0.06, \"state\": \"US\", \"sma7d\": 60725.429}, {\"date\": \"2020-10-23T00:00:00\", \"totalTestResultsIncrease\": 1378574.0, \"positiveIncrease\": 82262.0, \"death\": 215762.0, \"deathIncrease\": 917.0, \"positiveRate\": 0.06, \"state\": \"US\", \"sma7d\": 62771.429}, {\"date\": \"2020-10-24T00:00:00\", \"totalTestResultsIncrease\": 1321334.0, \"positiveIncrease\": 82745.0, \"death\": 216652.0, \"deathIncrease\": 890.0, \"positiveRate\": 0.063, \"state\": \"US\", \"sma7d\": 66342.429}, {\"date\": \"2020-10-25T00:00:00\", \"totalTestResultsIncrease\": 1191449.0, \"positiveIncrease\": 65092.0, \"death\": 217029.0, \"deathIncrease\": 377.0, \"positiveRate\": 0.055, \"state\": \"US\", \"sma7d\": 68693.857}, {\"date\": \"2020-10-26T00:00:00\", \"totalTestResultsIncrease\": 1201328.0, \"positiveIncrease\": 62103.0, \"death\": 217418.0, \"deathIncrease\": 389.0, \"positiveRate\": 0.052, \"state\": \"US\", \"sma7d\": 69436.857}, {\"date\": \"2020-10-27T00:00:00\", \"totalTestResultsIncrease\": 1080661.0, \"positiveIncrease\": 72997.0, \"death\": 218349.0, \"deathIncrease\": 931.0, \"positiveRate\": 0.068, \"state\": \"US\", \"sma7d\": 71249.0}, {\"date\": \"2020-10-28T00:00:00\", \"totalTestResultsIncrease\": 1085623.0, \"positiveIncrease\": 78637.0, \"death\": 219374.0, \"deathIncrease\": 1025.0, \"positiveRate\": 0.072, \"state\": \"US\", \"sma7d\": 73817.571}, {\"date\": \"2020-10-29T00:00:00\", \"totalTestResultsIncrease\": 1324645.0, \"positiveIncrease\": 87993.0, \"death\": 220423.0, \"deathIncrease\": 1049.0, \"positiveRate\": 0.066, \"state\": \"US\", \"sma7d\": 75975.571}, {\"date\": \"2020-10-30T00:00:00\", \"totalTestResultsIncrease\": 1362005.0, \"positiveIncrease\": 96709.0, \"death\": 221356.0, \"deathIncrease\": 933.0, \"positiveRate\": 0.071, \"state\": \"US\", \"sma7d\": 78039.429}, {\"date\": \"2020-10-31T00:00:00\", \"totalTestResultsIncrease\": 1373818.0, \"positiveIncrease\": 90492.0, \"death\": 222319.0, \"deathIncrease\": 963.0, \"positiveRate\": 0.066, \"state\": \"US\", \"sma7d\": 79146.143}, {\"date\": \"2020-11-01T00:00:00\", \"totalTestResultsIncrease\": 1139567.0, \"positiveIncrease\": 74051.0, \"death\": 222710.0, \"deathIncrease\": 391.0, \"positiveRate\": 0.065, \"state\": \"US\", \"sma7d\": 80426.0}, {\"date\": \"2020-11-02T00:00:00\", \"totalTestResultsIncrease\": 1327965.0, \"positiveIncrease\": 82248.0, \"death\": 223186.0, \"deathIncrease\": 476.0, \"positiveRate\": 0.062, \"state\": \"US\", \"sma7d\": 83303.857}, {\"date\": \"2020-11-03T00:00:00\", \"totalTestResultsIncrease\": 1125798.0, \"positiveIncrease\": 86081.0, \"death\": 224715.0, \"deathIncrease\": 1529.0, \"positiveRate\": 0.076, \"state\": \"US\", \"sma7d\": 85173.0}, {\"date\": \"2020-11-04T00:00:00\", \"totalTestResultsIncrease\": 1207099.0, \"positiveIncrease\": 103067.0, \"death\": 225831.0, \"deathIncrease\": 1116.0, \"positiveRate\": 0.085, \"state\": \"US\", \"sma7d\": 88663.0}, {\"date\": \"2020-11-05T00:00:00\", \"totalTestResultsIncrease\": 1537214.0, \"positiveIncrease\": 116153.0, \"death\": 226955.0, \"deathIncrease\": 1124.0, \"positiveRate\": 0.076, \"state\": \"US\", \"sma7d\": 92685.857}, {\"date\": \"2020-11-06T00:00:00\", \"totalTestResultsIncrease\": 1533406.0, \"positiveIncrease\": 125252.0, \"death\": 228141.0, \"deathIncrease\": 1186.0, \"positiveRate\": 0.082, \"state\": \"US\", \"sma7d\": 96763.429}, {\"date\": \"2020-11-07T00:00:00\", \"totalTestResultsIncrease\": 1406465.0, \"positiveIncrease\": 129191.0, \"death\": 229245.0, \"deathIncrease\": 1104.0, \"positiveRate\": 0.092, \"state\": \"US\", \"sma7d\": 102291.857}, {\"date\": \"2020-11-08T00:00:00\", \"totalTestResultsIncrease\": 1259970.0, \"positiveIncrease\": 110318.0, \"death\": 229648.0, \"deathIncrease\": 487.0, \"positiveRate\": 0.088, \"state\": \"US\", \"sma7d\": 107472.857}]}}, {\"mode\": \"vega-lite\"});\n",
       "</script>"
      ],
      "text/plain": [
       "alt.LayerChart(...)"
      ]
     },
     "execution_count": 7,
     "metadata": {},
     "output_type": "execute_result"
    }
   ],
   "source": [
    "create_plot(us, 'positiveIncrease')"
   ]
  },
  {
   "cell_type": "code",
   "execution_count": 8,
   "metadata": {
    "execution": {
     "iopub.execute_input": "2020-11-09T22:34:42.477369Z",
     "iopub.status.busy": "2020-11-09T22:34:42.476754Z",
     "iopub.status.idle": "2020-11-09T22:34:42.579481Z",
     "shell.execute_reply": "2020-11-09T22:34:42.580052Z"
    },
    "papermill": {
     "duration": 0.123899,
     "end_time": "2020-11-09T22:34:42.580210",
     "exception": false,
     "start_time": "2020-11-09T22:34:42.456311",
     "status": "completed"
    },
    "tags": []
   },
   "outputs": [
    {
     "data": {
      "text/html": [
       "\n",
       "<div id=\"altair-viz-4b44a0acb8f94932ac3746aca59d681c\"></div>\n",
       "<script type=\"text/javascript\">\n",
       "  (function(spec, embedOpt){\n",
       "    let outputDiv = document.currentScript.previousElementSibling;\n",
       "    if (outputDiv.id !== \"altair-viz-4b44a0acb8f94932ac3746aca59d681c\") {\n",
       "      outputDiv = document.getElementById(\"altair-viz-4b44a0acb8f94932ac3746aca59d681c\");\n",
       "    }\n",
       "    const paths = {\n",
       "      \"vega\": \"https://cdn.jsdelivr.net/npm//vega@5?noext\",\n",
       "      \"vega-lib\": \"https://cdn.jsdelivr.net/npm//vega-lib?noext\",\n",
       "      \"vega-lite\": \"https://cdn.jsdelivr.net/npm//vega-lite@4.8.1?noext\",\n",
       "      \"vega-embed\": \"https://cdn.jsdelivr.net/npm//vega-embed@6?noext\",\n",
       "    };\n",
       "\n",
       "    function loadScript(lib) {\n",
       "      return new Promise(function(resolve, reject) {\n",
       "        var s = document.createElement('script');\n",
       "        s.src = paths[lib];\n",
       "        s.async = true;\n",
       "        s.onload = () => resolve(paths[lib]);\n",
       "        s.onerror = () => reject(`Error loading script: ${paths[lib]}`);\n",
       "        document.getElementsByTagName(\"head\")[0].appendChild(s);\n",
       "      });\n",
       "    }\n",
       "\n",
       "    function showError(err) {\n",
       "      outputDiv.innerHTML = `<div class=\"error\" style=\"color:red;\">${err}</div>`;\n",
       "      throw err;\n",
       "    }\n",
       "\n",
       "    function displayChart(vegaEmbed) {\n",
       "      vegaEmbed(outputDiv, spec, embedOpt)\n",
       "        .catch(err => showError(`Javascript Error: ${err.message}<br>This usually means there's a typo in your chart specification. See the javascript console for the full traceback.`));\n",
       "    }\n",
       "\n",
       "    if(typeof define === \"function\" && define.amd) {\n",
       "      requirejs.config({paths});\n",
       "      require([\"vega-embed\"], displayChart, err => showError(`Error loading script: ${err.message}`));\n",
       "    } else if (typeof vegaEmbed === \"function\") {\n",
       "      displayChart(vegaEmbed);\n",
       "    } else {\n",
       "      loadScript(\"vega\")\n",
       "        .then(() => loadScript(\"vega-lite\"))\n",
       "        .then(() => loadScript(\"vega-embed\"))\n",
       "        .catch(showError)\n",
       "        .then(() => displayChart(vegaEmbed));\n",
       "    }\n",
       "  })({\"config\": {\"view\": {\"continuousWidth\": 400, \"continuousHeight\": 300}}, \"layer\": [{\"layer\": [{\"mark\": {\"type\": \"point\", \"size\": 75}, \"encoding\": {\"tooltip\": [{\"type\": \"temporal\", \"field\": \"date\"}, {\"type\": \"quantitative\", \"field\": \"positiveRate\"}, {\"type\": \"quantitative\", \"field\": \"sma7d\"}], \"x\": {\"type\": \"temporal\", \"field\": \"date\"}, \"y\": {\"type\": \"quantitative\", \"field\": \"positiveRate\"}}, \"selection\": {\"selector004\": {\"type\": \"interval\", \"bind\": \"scales\", \"encodings\": [\"x\", \"y\"]}}}, {\"mark\": {\"type\": \"line\", \"color\": \"purple\"}, \"encoding\": {\"x\": {\"type\": \"temporal\", \"field\": \"date\"}, \"y\": {\"type\": \"quantitative\", \"field\": \"sma7d\"}}}]}, {\"mark\": {\"type\": \"rule\", \"color\": \"#aaa\"}, \"encoding\": {\"x\": {\"type\": \"temporal\", \"field\": \"date\"}}, \"transform\": [{\"filter\": {\"selection\": \"selector003\"}}]}, {\"mark\": \"circle\", \"encoding\": {\"opacity\": {\"condition\": {\"value\": 1, \"selection\": \"selector003\"}, \"value\": 0}, \"tooltip\": [{\"type\": \"temporal\", \"field\": \"date\"}, {\"type\": \"quantitative\", \"field\": \"positiveRate\"}, {\"type\": \"quantitative\", \"field\": \"sma7d\"}], \"x\": {\"type\": \"temporal\", \"field\": \"date\"}, \"y\": {\"type\": \"quantitative\", \"field\": \"positiveRate\"}}, \"selection\": {\"selector003\": {\"type\": \"single\", \"encodings\": [\"x\"], \"on\": \"mouseover\", \"nearest\": true, \"empty\": \"none\"}}}, {\"mark\": {\"type\": \"text\", \"align\": \"left\", \"dx\": 5, \"dy\": -5, \"stroke\": \"white\", \"strokeWidth\": 2}, \"encoding\": {\"text\": {\"type\": \"quantitative\", \"field\": \"positiveRate\"}, \"tooltip\": [{\"type\": \"temporal\", \"field\": \"date\"}, {\"type\": \"quantitative\", \"field\": \"positiveRate\"}, {\"type\": \"quantitative\", \"field\": \"sma7d\"}], \"x\": {\"type\": \"temporal\", \"field\": \"date\"}, \"y\": {\"type\": \"quantitative\", \"field\": \"positiveRate\"}}, \"transform\": [{\"filter\": {\"selection\": \"selector003\"}}]}, {\"mark\": {\"type\": \"text\", \"align\": \"left\", \"dx\": 5, \"dy\": -5}, \"encoding\": {\"text\": {\"type\": \"quantitative\", \"field\": \"positiveRate\"}, \"tooltip\": [{\"type\": \"temporal\", \"field\": \"date\"}, {\"type\": \"quantitative\", \"field\": \"positiveRate\"}, {\"type\": \"quantitative\", \"field\": \"sma7d\"}], \"x\": {\"type\": \"temporal\", \"field\": \"date\"}, \"y\": {\"type\": \"quantitative\", \"field\": \"positiveRate\"}}, \"transform\": [{\"filter\": {\"selection\": \"selector003\"}}]}], \"data\": {\"name\": \"data-2333b25e23681d796f8439c86f04936e\"}, \"height\": 400, \"title\": \"US: positiveRate\", \"width\": 500, \"$schema\": \"https://vega.github.io/schema/vega-lite/v4.8.1.json\", \"datasets\": {\"data-2333b25e23681d796f8439c86f04936e\": [{\"date\": \"2020-09-15T00:00:00\", \"totalTestResultsIncrease\": 812608.0, \"positiveIncrease\": 34879.0, \"death\": 187596.0, \"deathIncrease\": 1031.0, \"positiveRate\": 0.043, \"state\": \"US\", \"sma7d\": 0.048}, {\"date\": \"2020-09-16T00:00:00\", \"totalTestResultsIncrease\": 826550.0, \"positiveIncrease\": 39888.0, \"death\": 188796.0, \"deathIncrease\": 1200.0, \"positiveRate\": 0.048, \"state\": \"US\", \"sma7d\": 0.049}, {\"date\": \"2020-09-17T00:00:00\", \"totalTestResultsIncrease\": 964093.0, \"positiveIncrease\": 43375.0, \"death\": 189659.0, \"deathIncrease\": 863.0, \"positiveRate\": 0.045, \"state\": \"US\", \"sma7d\": 0.048}, {\"date\": \"2020-09-18T00:00:00\", \"totalTestResultsIncrease\": 1093150.0, \"positiveIncrease\": 47121.0, \"death\": 190560.0, \"deathIncrease\": 901.0, \"positiveRate\": 0.043, \"state\": \"US\", \"sma7d\": 0.047}, {\"date\": \"2020-09-19T00:00:00\", \"totalTestResultsIncrease\": 1176253.0, \"positiveIncrease\": 44886.0, \"death\": 191300.0, \"deathIncrease\": 740.0, \"positiveRate\": 0.038, \"state\": \"US\", \"sma7d\": 0.047}, {\"date\": \"2020-09-20T00:00:00\", \"totalTestResultsIncrease\": 978387.0, \"positiveIncrease\": 35688.0, \"death\": 191627.0, \"deathIncrease\": 327.0, \"positiveRate\": 0.036, \"state\": \"US\", \"sma7d\": 0.046}, {\"date\": \"2020-09-21T00:00:00\", \"totalTestResultsIncrease\": 775038.0, \"positiveIncrease\": 39062.0, \"death\": 191914.0, \"deathIncrease\": 287.0, \"positiveRate\": 0.05, \"state\": \"US\", \"sma7d\": 0.043}, {\"date\": \"2020-09-22T00:00:00\", \"totalTestResultsIncrease\": 850806.0, \"positiveIncrease\": 49351.0, \"death\": 192768.0, \"deathIncrease\": 854.0, \"positiveRate\": 0.058, \"state\": \"US\", \"sma7d\": 0.045}, {\"date\": \"2020-09-23T00:00:00\", \"totalTestResultsIncrease\": 1010356.0, \"positiveIncrease\": 38547.0, \"death\": 193927.0, \"deathIncrease\": 1159.0, \"positiveRate\": 0.038, \"state\": \"US\", \"sma7d\": 0.044}, {\"date\": \"2020-09-24T00:00:00\", \"totalTestResultsIncrease\": 1037542.0, \"positiveIncrease\": 43243.0, \"death\": 194848.0, \"deathIncrease\": 921.0, \"positiveRate\": 0.042, \"state\": \"US\", \"sma7d\": 0.044}, {\"date\": \"2020-09-25T00:00:00\", \"totalTestResultsIncrease\": 1112451.0, \"positiveIncrease\": 55137.0, \"death\": 195692.0, \"deathIncrease\": 844.0, \"positiveRate\": 0.05, \"state\": \"US\", \"sma7d\": 0.045}, {\"date\": \"2020-09-26T00:00:00\", \"totalTestResultsIncrease\": 1123184.0, \"positiveIncrease\": 47580.0, \"death\": 196561.0, \"deathIncrease\": 869.0, \"positiveRate\": 0.042, \"state\": \"US\", \"sma7d\": 0.045}, {\"date\": \"2020-09-27T00:00:00\", \"totalTestResultsIncrease\": 905578.0, \"positiveIncrease\": 35061.0, \"death\": 196868.0, \"deathIncrease\": 307.0, \"positiveRate\": 0.039, \"state\": \"US\", \"sma7d\": 0.046}, {\"date\": \"2020-09-28T00:00:00\", \"totalTestResultsIncrease\": 1164211.0, \"positiveIncrease\": 36056.0, \"death\": 197125.0, \"deathIncrease\": 257.0, \"positiveRate\": 0.031, \"state\": \"US\", \"sma7d\": 0.043}, {\"date\": \"2020-09-29T00:00:00\", \"totalTestResultsIncrease\": 914062.0, \"positiveIncrease\": 36289.0, \"death\": 197864.0, \"deathIncrease\": 739.0, \"positiveRate\": 0.04, \"state\": \"US\", \"sma7d\": 0.04}, {\"date\": \"2020-09-30T00:00:00\", \"totalTestResultsIncrease\": 904382.0, \"positiveIncrease\": 44267.0, \"death\": 198925.0, \"deathIncrease\": 1061.0, \"positiveRate\": 0.049, \"state\": \"US\", \"sma7d\": 0.042}, {\"date\": \"2020-10-01T00:00:00\", \"totalTestResultsIncrease\": 998172.0, \"positiveIncrease\": 45481.0, \"death\": 199776.0, \"deathIncrease\": 851.0, \"positiveRate\": 0.046, \"state\": \"US\", \"sma7d\": 0.042}, {\"date\": \"2020-10-02T00:00:00\", \"totalTestResultsIncrease\": 1241655.0, \"positiveIncrease\": 49133.0, \"death\": 200611.0, \"deathIncrease\": 835.0, \"positiveRate\": 0.04, \"state\": \"US\", \"sma7d\": 0.041}, {\"date\": \"2020-10-03T00:00:00\", \"totalTestResultsIncrease\": 1099978.0, \"positiveIncrease\": 51009.0, \"death\": 201352.0, \"deathIncrease\": 741.0, \"positiveRate\": 0.046, \"state\": \"US\", \"sma7d\": 0.042}, {\"date\": \"2020-10-04T00:00:00\", \"totalTestResultsIncrease\": 1028949.0, \"positiveIncrease\": 38287.0, \"death\": 201715.0, \"deathIncrease\": 363.0, \"positiveRate\": 0.037, \"state\": \"US\", \"sma7d\": 0.041}, {\"date\": \"2020-10-05T00:00:00\", \"totalTestResultsIncrease\": 990534.0, \"positiveIncrease\": 37857.0, \"death\": 202041.0, \"deathIncrease\": 326.0, \"positiveRate\": 0.038, \"state\": \"US\", \"sma7d\": 0.042}, {\"date\": \"2020-10-06T00:00:00\", \"totalTestResultsIncrease\": 907026.0, \"positiveIncrease\": 38417.0, \"death\": 202675.0, \"deathIncrease\": 634.0, \"positiveRate\": 0.042, \"state\": \"US\", \"sma7d\": 0.043}, {\"date\": \"2020-10-07T00:00:00\", \"totalTestResultsIncrease\": 973491.0, \"positiveIncrease\": 50556.0, \"death\": 203591.0, \"deathIncrease\": 916.0, \"positiveRate\": 0.052, \"state\": \"US\", \"sma7d\": 0.043}, {\"date\": \"2020-10-08T00:00:00\", \"totalTestResultsIncrease\": 1149465.0, \"positiveIncrease\": 55118.0, \"death\": 204577.0, \"deathIncrease\": 986.0, \"positiveRate\": 0.048, \"state\": \"US\", \"sma7d\": 0.043}, {\"date\": \"2020-10-09T00:00:00\", \"totalTestResultsIncrease\": 1200831.0, \"positiveIncrease\": 56723.0, \"death\": 205470.0, \"deathIncrease\": 893.0, \"positiveRate\": 0.047, \"state\": \"US\", \"sma7d\": 0.044}, {\"date\": \"2020-10-10T00:00:00\", \"totalTestResultsIncrease\": 1247234.0, \"positiveIncrease\": 57252.0, \"death\": 206135.0, \"deathIncrease\": 665.0, \"positiveRate\": 0.046, \"state\": \"US\", \"sma7d\": 0.044}, {\"date\": \"2020-10-11T00:00:00\", \"totalTestResultsIncrease\": 1083240.0, \"positiveIncrease\": 46701.0, \"death\": 206601.0, \"deathIncrease\": 466.0, \"positiveRate\": 0.043, \"state\": \"US\", \"sma7d\": 0.045}, {\"date\": \"2020-10-12T00:00:00\", \"totalTestResultsIncrease\": 1063984.0, \"positiveIncrease\": 42775.0, \"death\": 206888.0, \"deathIncrease\": 287.0, \"positiveRate\": 0.04, \"state\": \"US\", \"sma7d\": 0.045}, {\"date\": \"2020-10-13T00:00:00\", \"totalTestResultsIncrease\": 1040824.0, \"positiveIncrease\": 48148.0, \"death\": 207578.0, \"deathIncrease\": 690.0, \"positiveRate\": 0.046, \"state\": \"US\", \"sma7d\": 0.046}, {\"date\": \"2020-10-14T00:00:00\", \"totalTestResultsIncrease\": 1041389.0, \"positiveIncrease\": 56236.0, \"death\": 208389.0, \"deathIncrease\": 811.0, \"positiveRate\": 0.054, \"state\": \"US\", \"sma7d\": 0.046}, {\"date\": \"2020-10-15T00:00:00\", \"totalTestResultsIncrease\": 1102270.0, \"positiveIncrease\": 62851.0, \"death\": 209340.0, \"deathIncrease\": 951.0, \"positiveRate\": 0.057, \"state\": \"US\", \"sma7d\": 0.048}, {\"date\": \"2020-10-16T00:00:00\", \"totalTestResultsIncrease\": 1230075.0, \"positiveIncrease\": 67940.0, \"death\": 210217.0, \"deathIncrease\": 877.0, \"positiveRate\": 0.055, \"state\": \"US\", \"sma7d\": 0.049}, {\"date\": \"2020-10-17T00:00:00\", \"totalTestResultsIncrease\": 1295276.0, \"positiveIncrease\": 57748.0, \"death\": 210997.0, \"deathIncrease\": 780.0, \"positiveRate\": 0.045, \"state\": \"US\", \"sma7d\": 0.049}, {\"date\": \"2020-10-18T00:00:00\", \"totalTestResultsIncrease\": 1055833.0, \"positiveIncrease\": 48632.0, \"death\": 211390.0, \"deathIncrease\": 393.0, \"positiveRate\": 0.046, \"state\": \"US\", \"sma7d\": 0.049}, {\"date\": \"2020-10-19T00:00:00\", \"totalTestResultsIncrease\": 1130890.0, \"positiveIncrease\": 56902.0, \"death\": 211846.0, \"deathIncrease\": 456.0, \"positiveRate\": 0.05, \"state\": \"US\", \"sma7d\": 0.05}, {\"date\": \"2020-10-20T00:00:00\", \"totalTestResultsIncrease\": 948693.0, \"positiveIncrease\": 60312.0, \"death\": 212678.0, \"deathIncrease\": 832.0, \"positiveRate\": 0.064, \"state\": \"US\", \"sma7d\": 0.053}, {\"date\": \"2020-10-21T00:00:00\", \"totalTestResultsIncrease\": 939535.0, \"positiveIncrease\": 60657.0, \"death\": 213702.0, \"deathIncrease\": 1024.0, \"positiveRate\": 0.065, \"state\": \"US\", \"sma7d\": 0.055}, {\"date\": \"2020-10-22T00:00:00\", \"totalTestResultsIncrease\": 1218558.0, \"positiveIncrease\": 72887.0, \"death\": 214845.0, \"deathIncrease\": 1143.0, \"positiveRate\": 0.06, \"state\": \"US\", \"sma7d\": 0.055}, {\"date\": \"2020-10-23T00:00:00\", \"totalTestResultsIncrease\": 1378574.0, \"positiveIncrease\": 82262.0, \"death\": 215762.0, \"deathIncrease\": 917.0, \"positiveRate\": 0.06, \"state\": \"US\", \"sma7d\": 0.056}, {\"date\": \"2020-10-24T00:00:00\", \"totalTestResultsIncrease\": 1321334.0, \"positiveIncrease\": 82745.0, \"death\": 216652.0, \"deathIncrease\": 890.0, \"positiveRate\": 0.063, \"state\": \"US\", \"sma7d\": 0.058}, {\"date\": \"2020-10-25T00:00:00\", \"totalTestResultsIncrease\": 1191449.0, \"positiveIncrease\": 65092.0, \"death\": 217029.0, \"deathIncrease\": 377.0, \"positiveRate\": 0.055, \"state\": \"US\", \"sma7d\": 0.06}, {\"date\": \"2020-10-26T00:00:00\", \"totalTestResultsIncrease\": 1201328.0, \"positiveIncrease\": 62103.0, \"death\": 217418.0, \"deathIncrease\": 389.0, \"positiveRate\": 0.052, \"state\": \"US\", \"sma7d\": 0.06}, {\"date\": \"2020-10-27T00:00:00\", \"totalTestResultsIncrease\": 1080661.0, \"positiveIncrease\": 72997.0, \"death\": 218349.0, \"deathIncrease\": 931.0, \"positiveRate\": 0.068, \"state\": \"US\", \"sma7d\": 0.06}, {\"date\": \"2020-10-28T00:00:00\", \"totalTestResultsIncrease\": 1085623.0, \"positiveIncrease\": 78637.0, \"death\": 219374.0, \"deathIncrease\": 1025.0, \"positiveRate\": 0.072, \"state\": \"US\", \"sma7d\": 0.061}, {\"date\": \"2020-10-29T00:00:00\", \"totalTestResultsIncrease\": 1324645.0, \"positiveIncrease\": 87993.0, \"death\": 220423.0, \"deathIncrease\": 1049.0, \"positiveRate\": 0.066, \"state\": \"US\", \"sma7d\": 0.062}, {\"date\": \"2020-10-30T00:00:00\", \"totalTestResultsIncrease\": 1362005.0, \"positiveIncrease\": 96709.0, \"death\": 221356.0, \"deathIncrease\": 933.0, \"positiveRate\": 0.071, \"state\": \"US\", \"sma7d\": 0.064}, {\"date\": \"2020-10-31T00:00:00\", \"totalTestResultsIncrease\": 1373818.0, \"positiveIncrease\": 90492.0, \"death\": 222319.0, \"deathIncrease\": 963.0, \"positiveRate\": 0.066, \"state\": \"US\", \"sma7d\": 0.064}, {\"date\": \"2020-11-01T00:00:00\", \"totalTestResultsIncrease\": 1139567.0, \"positiveIncrease\": 74051.0, \"death\": 222710.0, \"deathIncrease\": 391.0, \"positiveRate\": 0.065, \"state\": \"US\", \"sma7d\": 0.066}, {\"date\": \"2020-11-02T00:00:00\", \"totalTestResultsIncrease\": 1327965.0, \"positiveIncrease\": 82248.0, \"death\": 223186.0, \"deathIncrease\": 476.0, \"positiveRate\": 0.062, \"state\": \"US\", \"sma7d\": 0.067}, {\"date\": \"2020-11-03T00:00:00\", \"totalTestResultsIncrease\": 1125798.0, \"positiveIncrease\": 86081.0, \"death\": 224715.0, \"deathIncrease\": 1529.0, \"positiveRate\": 0.076, \"state\": \"US\", \"sma7d\": 0.068}, {\"date\": \"2020-11-04T00:00:00\", \"totalTestResultsIncrease\": 1207099.0, \"positiveIncrease\": 103067.0, \"death\": 225831.0, \"deathIncrease\": 1116.0, \"positiveRate\": 0.085, \"state\": \"US\", \"sma7d\": 0.07}, {\"date\": \"2020-11-05T00:00:00\", \"totalTestResultsIncrease\": 1537214.0, \"positiveIncrease\": 116153.0, \"death\": 226955.0, \"deathIncrease\": 1124.0, \"positiveRate\": 0.076, \"state\": \"US\", \"sma7d\": 0.072}, {\"date\": \"2020-11-06T00:00:00\", \"totalTestResultsIncrease\": 1533406.0, \"positiveIncrease\": 125252.0, \"death\": 228141.0, \"deathIncrease\": 1186.0, \"positiveRate\": 0.082, \"state\": \"US\", \"sma7d\": 0.073}, {\"date\": \"2020-11-07T00:00:00\", \"totalTestResultsIncrease\": 1406465.0, \"positiveIncrease\": 129191.0, \"death\": 229245.0, \"deathIncrease\": 1104.0, \"positiveRate\": 0.092, \"state\": \"US\", \"sma7d\": 0.077}, {\"date\": \"2020-11-08T00:00:00\", \"totalTestResultsIncrease\": 1259970.0, \"positiveIncrease\": 110318.0, \"death\": 229648.0, \"deathIncrease\": 487.0, \"positiveRate\": 0.088, \"state\": \"US\", \"sma7d\": 0.08}]}}, {\"mode\": \"vega-lite\"});\n",
       "</script>"
      ],
      "text/plain": [
       "alt.LayerChart(...)"
      ]
     },
     "execution_count": 8,
     "metadata": {},
     "output_type": "execute_result"
    }
   ],
   "source": [
    "create_plot(us, 'positiveRate')"
   ]
  },
  {
   "cell_type": "code",
   "execution_count": 9,
   "metadata": {
    "execution": {
     "iopub.execute_input": "2020-11-09T22:34:42.634654Z",
     "iopub.status.busy": "2020-11-09T22:34:42.615716Z",
     "iopub.status.idle": "2020-11-09T22:34:42.717947Z",
     "shell.execute_reply": "2020-11-09T22:34:42.718432Z"
    },
    "papermill": {
     "duration": 0.122774,
     "end_time": "2020-11-09T22:34:42.718593",
     "exception": false,
     "start_time": "2020-11-09T22:34:42.595819",
     "status": "completed"
    },
    "tags": []
   },
   "outputs": [
    {
     "data": {
      "text/html": [
       "\n",
       "<div id=\"altair-viz-47868a315c734ab2977df71cb19aa880\"></div>\n",
       "<script type=\"text/javascript\">\n",
       "  (function(spec, embedOpt){\n",
       "    let outputDiv = document.currentScript.previousElementSibling;\n",
       "    if (outputDiv.id !== \"altair-viz-47868a315c734ab2977df71cb19aa880\") {\n",
       "      outputDiv = document.getElementById(\"altair-viz-47868a315c734ab2977df71cb19aa880\");\n",
       "    }\n",
       "    const paths = {\n",
       "      \"vega\": \"https://cdn.jsdelivr.net/npm//vega@5?noext\",\n",
       "      \"vega-lib\": \"https://cdn.jsdelivr.net/npm//vega-lib?noext\",\n",
       "      \"vega-lite\": \"https://cdn.jsdelivr.net/npm//vega-lite@4.8.1?noext\",\n",
       "      \"vega-embed\": \"https://cdn.jsdelivr.net/npm//vega-embed@6?noext\",\n",
       "    };\n",
       "\n",
       "    function loadScript(lib) {\n",
       "      return new Promise(function(resolve, reject) {\n",
       "        var s = document.createElement('script');\n",
       "        s.src = paths[lib];\n",
       "        s.async = true;\n",
       "        s.onload = () => resolve(paths[lib]);\n",
       "        s.onerror = () => reject(`Error loading script: ${paths[lib]}`);\n",
       "        document.getElementsByTagName(\"head\")[0].appendChild(s);\n",
       "      });\n",
       "    }\n",
       "\n",
       "    function showError(err) {\n",
       "      outputDiv.innerHTML = `<div class=\"error\" style=\"color:red;\">${err}</div>`;\n",
       "      throw err;\n",
       "    }\n",
       "\n",
       "    function displayChart(vegaEmbed) {\n",
       "      vegaEmbed(outputDiv, spec, embedOpt)\n",
       "        .catch(err => showError(`Javascript Error: ${err.message}<br>This usually means there's a typo in your chart specification. See the javascript console for the full traceback.`));\n",
       "    }\n",
       "\n",
       "    if(typeof define === \"function\" && define.amd) {\n",
       "      requirejs.config({paths});\n",
       "      require([\"vega-embed\"], displayChart, err => showError(`Error loading script: ${err.message}`));\n",
       "    } else if (typeof vegaEmbed === \"function\") {\n",
       "      displayChart(vegaEmbed);\n",
       "    } else {\n",
       "      loadScript(\"vega\")\n",
       "        .then(() => loadScript(\"vega-lite\"))\n",
       "        .then(() => loadScript(\"vega-embed\"))\n",
       "        .catch(showError)\n",
       "        .then(() => displayChart(vegaEmbed));\n",
       "    }\n",
       "  })({\"config\": {\"view\": {\"continuousWidth\": 400, \"continuousHeight\": 300}}, \"layer\": [{\"layer\": [{\"mark\": {\"type\": \"point\", \"size\": 75}, \"encoding\": {\"tooltip\": [{\"type\": \"temporal\", \"field\": \"date\"}, {\"type\": \"quantitative\", \"field\": \"deathIncrease\"}, {\"type\": \"quantitative\", \"field\": \"sma7d\"}], \"x\": {\"type\": \"temporal\", \"field\": \"date\"}, \"y\": {\"type\": \"quantitative\", \"field\": \"deathIncrease\"}}, \"selection\": {\"selector006\": {\"type\": \"interval\", \"bind\": \"scales\", \"encodings\": [\"x\", \"y\"]}}}, {\"mark\": {\"type\": \"line\", \"color\": \"purple\"}, \"encoding\": {\"x\": {\"type\": \"temporal\", \"field\": \"date\"}, \"y\": {\"type\": \"quantitative\", \"field\": \"sma7d\"}}}]}, {\"mark\": {\"type\": \"rule\", \"color\": \"#aaa\"}, \"encoding\": {\"x\": {\"type\": \"temporal\", \"field\": \"date\"}}, \"transform\": [{\"filter\": {\"selection\": \"selector005\"}}]}, {\"mark\": \"circle\", \"encoding\": {\"opacity\": {\"condition\": {\"value\": 1, \"selection\": \"selector005\"}, \"value\": 0}, \"tooltip\": [{\"type\": \"temporal\", \"field\": \"date\"}, {\"type\": \"quantitative\", \"field\": \"deathIncrease\"}, {\"type\": \"quantitative\", \"field\": \"sma7d\"}], \"x\": {\"type\": \"temporal\", \"field\": \"date\"}, \"y\": {\"type\": \"quantitative\", \"field\": \"deathIncrease\"}}, \"selection\": {\"selector005\": {\"type\": \"single\", \"encodings\": [\"x\"], \"on\": \"mouseover\", \"nearest\": true, \"empty\": \"none\"}}}, {\"mark\": {\"type\": \"text\", \"align\": \"left\", \"dx\": 5, \"dy\": -5, \"stroke\": \"white\", \"strokeWidth\": 2}, \"encoding\": {\"text\": {\"type\": \"quantitative\", \"field\": \"deathIncrease\"}, \"tooltip\": [{\"type\": \"temporal\", \"field\": \"date\"}, {\"type\": \"quantitative\", \"field\": \"deathIncrease\"}, {\"type\": \"quantitative\", \"field\": \"sma7d\"}], \"x\": {\"type\": \"temporal\", \"field\": \"date\"}, \"y\": {\"type\": \"quantitative\", \"field\": \"deathIncrease\"}}, \"transform\": [{\"filter\": {\"selection\": \"selector005\"}}]}, {\"mark\": {\"type\": \"text\", \"align\": \"left\", \"dx\": 5, \"dy\": -5}, \"encoding\": {\"text\": {\"type\": \"quantitative\", \"field\": \"deathIncrease\"}, \"tooltip\": [{\"type\": \"temporal\", \"field\": \"date\"}, {\"type\": \"quantitative\", \"field\": \"deathIncrease\"}, {\"type\": \"quantitative\", \"field\": \"sma7d\"}], \"x\": {\"type\": \"temporal\", \"field\": \"date\"}, \"y\": {\"type\": \"quantitative\", \"field\": \"deathIncrease\"}}, \"transform\": [{\"filter\": {\"selection\": \"selector005\"}}]}], \"data\": {\"name\": \"data-bc8f556157ff90345ba5ff763be2adb9\"}, \"height\": 400, \"title\": \"US: deathIncrease\", \"width\": 500, \"$schema\": \"https://vega.github.io/schema/vega-lite/v4.8.1.json\", \"datasets\": {\"data-bc8f556157ff90345ba5ff763be2adb9\": [{\"date\": \"2020-09-15T00:00:00\", \"totalTestResultsIncrease\": 812608.0, \"positiveIncrease\": 34879.0, \"death\": 187596.0, \"deathIncrease\": 1031.0, \"positiveRate\": 0.043, \"state\": \"US\", \"sma7d\": 843.857}, {\"date\": \"2020-09-16T00:00:00\", \"totalTestResultsIncrease\": 826550.0, \"positiveIncrease\": 39888.0, \"death\": 188796.0, \"deathIncrease\": 1200.0, \"positiveRate\": 0.048, \"state\": \"US\", \"sma7d\": 860.429}, {\"date\": \"2020-09-17T00:00:00\", \"totalTestResultsIncrease\": 964093.0, \"positiveIncrease\": 43375.0, \"death\": 189659.0, \"deathIncrease\": 863.0, \"positiveRate\": 0.045, \"state\": \"US\", \"sma7d\": 816.571}, {\"date\": \"2020-09-18T00:00:00\", \"totalTestResultsIncrease\": 1093150.0, \"positiveIncrease\": 47121.0, \"death\": 190560.0, \"deathIncrease\": 901.0, \"positiveRate\": 0.043, \"state\": \"US\", \"sma7d\": 799.857}, {\"date\": \"2020-09-19T00:00:00\", \"totalTestResultsIncrease\": 1176253.0, \"positiveIncrease\": 44886.0, \"death\": 191300.0, \"deathIncrease\": 740.0, \"positiveRate\": 0.038, \"state\": \"US\", \"sma7d\": 789.857}, {\"date\": \"2020-09-20T00:00:00\", \"totalTestResultsIncrease\": 978387.0, \"positiveIncrease\": 35688.0, \"death\": 191627.0, \"deathIncrease\": 327.0, \"positiveRate\": 0.036, \"state\": \"US\", \"sma7d\": 780.857}, {\"date\": \"2020-09-21T00:00:00\", \"totalTestResultsIncrease\": 775038.0, \"positiveIncrease\": 39062.0, \"death\": 191914.0, \"deathIncrease\": 287.0, \"positiveRate\": 0.05, \"state\": \"US\", \"sma7d\": 764.143}, {\"date\": \"2020-09-22T00:00:00\", \"totalTestResultsIncrease\": 850806.0, \"positiveIncrease\": 49351.0, \"death\": 192768.0, \"deathIncrease\": 854.0, \"positiveRate\": 0.058, \"state\": \"US\", \"sma7d\": 738.857}, {\"date\": \"2020-09-23T00:00:00\", \"totalTestResultsIncrease\": 1010356.0, \"positiveIncrease\": 38547.0, \"death\": 193927.0, \"deathIncrease\": 1159.0, \"positiveRate\": 0.038, \"state\": \"US\", \"sma7d\": 733.0}, {\"date\": \"2020-09-24T00:00:00\", \"totalTestResultsIncrease\": 1037542.0, \"positiveIncrease\": 43243.0, \"death\": 194848.0, \"deathIncrease\": 921.0, \"positiveRate\": 0.042, \"state\": \"US\", \"sma7d\": 741.286}, {\"date\": \"2020-09-25T00:00:00\", \"totalTestResultsIncrease\": 1112451.0, \"positiveIncrease\": 55137.0, \"death\": 195692.0, \"deathIncrease\": 844.0, \"positiveRate\": 0.05, \"state\": \"US\", \"sma7d\": 733.143}, {\"date\": \"2020-09-26T00:00:00\", \"totalTestResultsIncrease\": 1123184.0, \"positiveIncrease\": 47580.0, \"death\": 196561.0, \"deathIncrease\": 869.0, \"positiveRate\": 0.042, \"state\": \"US\", \"sma7d\": 751.571}, {\"date\": \"2020-09-27T00:00:00\", \"totalTestResultsIncrease\": 905578.0, \"positiveIncrease\": 35061.0, \"death\": 196868.0, \"deathIncrease\": 307.0, \"positiveRate\": 0.039, \"state\": \"US\", \"sma7d\": 748.714}, {\"date\": \"2020-09-28T00:00:00\", \"totalTestResultsIncrease\": 1164211.0, \"positiveIncrease\": 36056.0, \"death\": 197125.0, \"deathIncrease\": 257.0, \"positiveRate\": 0.031, \"state\": \"US\", \"sma7d\": 744.429}, {\"date\": \"2020-09-29T00:00:00\", \"totalTestResultsIncrease\": 914062.0, \"positiveIncrease\": 36289.0, \"death\": 197864.0, \"deathIncrease\": 739.0, \"positiveRate\": 0.04, \"state\": \"US\", \"sma7d\": 728.0}, {\"date\": \"2020-09-30T00:00:00\", \"totalTestResultsIncrease\": 904382.0, \"positiveIncrease\": 44267.0, \"death\": 198925.0, \"deathIncrease\": 1061.0, \"positiveRate\": 0.049, \"state\": \"US\", \"sma7d\": 714.0}, {\"date\": \"2020-10-01T00:00:00\", \"totalTestResultsIncrease\": 998172.0, \"positiveIncrease\": 45481.0, \"death\": 199776.0, \"deathIncrease\": 851.0, \"positiveRate\": 0.046, \"state\": \"US\", \"sma7d\": 704.0}, {\"date\": \"2020-10-02T00:00:00\", \"totalTestResultsIncrease\": 1241655.0, \"positiveIncrease\": 49133.0, \"death\": 200611.0, \"deathIncrease\": 835.0, \"positiveRate\": 0.04, \"state\": \"US\", \"sma7d\": 702.714}, {\"date\": \"2020-10-03T00:00:00\", \"totalTestResultsIncrease\": 1099978.0, \"positiveIncrease\": 51009.0, \"death\": 201352.0, \"deathIncrease\": 741.0, \"positiveRate\": 0.046, \"state\": \"US\", \"sma7d\": 684.429}, {\"date\": \"2020-10-04T00:00:00\", \"totalTestResultsIncrease\": 1028949.0, \"positiveIncrease\": 38287.0, \"death\": 201715.0, \"deathIncrease\": 363.0, \"positiveRate\": 0.037, \"state\": \"US\", \"sma7d\": 692.429}, {\"date\": \"2020-10-05T00:00:00\", \"totalTestResultsIncrease\": 990534.0, \"positiveIncrease\": 37857.0, \"death\": 202041.0, \"deathIncrease\": 326.0, \"positiveRate\": 0.038, \"state\": \"US\", \"sma7d\": 702.286}, {\"date\": \"2020-10-06T00:00:00\", \"totalTestResultsIncrease\": 907026.0, \"positiveIncrease\": 38417.0, \"death\": 202675.0, \"deathIncrease\": 634.0, \"positiveRate\": 0.042, \"state\": \"US\", \"sma7d\": 687.286}, {\"date\": \"2020-10-07T00:00:00\", \"totalTestResultsIncrease\": 973491.0, \"positiveIncrease\": 50556.0, \"death\": 203591.0, \"deathIncrease\": 916.0, \"positiveRate\": 0.052, \"state\": \"US\", \"sma7d\": 666.571}, {\"date\": \"2020-10-08T00:00:00\", \"totalTestResultsIncrease\": 1149465.0, \"positiveIncrease\": 55118.0, \"death\": 204577.0, \"deathIncrease\": 986.0, \"positiveRate\": 0.048, \"state\": \"US\", \"sma7d\": 685.857}, {\"date\": \"2020-10-09T00:00:00\", \"totalTestResultsIncrease\": 1200831.0, \"positiveIncrease\": 56723.0, \"death\": 205470.0, \"deathIncrease\": 893.0, \"positiveRate\": 0.047, \"state\": \"US\", \"sma7d\": 694.143}, {\"date\": \"2020-10-10T00:00:00\", \"totalTestResultsIncrease\": 1247234.0, \"positiveIncrease\": 57252.0, \"death\": 206135.0, \"deathIncrease\": 665.0, \"positiveRate\": 0.046, \"state\": \"US\", \"sma7d\": 683.286}, {\"date\": \"2020-10-11T00:00:00\", \"totalTestResultsIncrease\": 1083240.0, \"positiveIncrease\": 46701.0, \"death\": 206601.0, \"deathIncrease\": 466.0, \"positiveRate\": 0.043, \"state\": \"US\", \"sma7d\": 698.0}, {\"date\": \"2020-10-12T00:00:00\", \"totalTestResultsIncrease\": 1063984.0, \"positiveIncrease\": 42775.0, \"death\": 206888.0, \"deathIncrease\": 287.0, \"positiveRate\": 0.04, \"state\": \"US\", \"sma7d\": 692.429}, {\"date\": \"2020-10-13T00:00:00\", \"totalTestResultsIncrease\": 1040824.0, \"positiveIncrease\": 48148.0, \"death\": 207578.0, \"deathIncrease\": 690.0, \"positiveRate\": 0.046, \"state\": \"US\", \"sma7d\": 700.429}, {\"date\": \"2020-10-14T00:00:00\", \"totalTestResultsIncrease\": 1041389.0, \"positiveIncrease\": 56236.0, \"death\": 208389.0, \"deathIncrease\": 811.0, \"positiveRate\": 0.054, \"state\": \"US\", \"sma7d\": 685.429}, {\"date\": \"2020-10-15T00:00:00\", \"totalTestResultsIncrease\": 1102270.0, \"positiveIncrease\": 62851.0, \"death\": 209340.0, \"deathIncrease\": 951.0, \"positiveRate\": 0.057, \"state\": \"US\", \"sma7d\": 680.429}, {\"date\": \"2020-10-16T00:00:00\", \"totalTestResultsIncrease\": 1230075.0, \"positiveIncrease\": 67940.0, \"death\": 210217.0, \"deathIncrease\": 877.0, \"positiveRate\": 0.055, \"state\": \"US\", \"sma7d\": 678.143}, {\"date\": \"2020-10-17T00:00:00\", \"totalTestResultsIncrease\": 1295276.0, \"positiveIncrease\": 57748.0, \"death\": 210997.0, \"deathIncrease\": 780.0, \"positiveRate\": 0.045, \"state\": \"US\", \"sma7d\": 694.571}, {\"date\": \"2020-10-18T00:00:00\", \"totalTestResultsIncrease\": 1055833.0, \"positiveIncrease\": 48632.0, \"death\": 211390.0, \"deathIncrease\": 393.0, \"positiveRate\": 0.046, \"state\": \"US\", \"sma7d\": 684.143}, {\"date\": \"2020-10-19T00:00:00\", \"totalTestResultsIncrease\": 1130890.0, \"positiveIncrease\": 56902.0, \"death\": 211846.0, \"deathIncrease\": 456.0, \"positiveRate\": 0.05, \"state\": \"US\", \"sma7d\": 708.286}, {\"date\": \"2020-10-20T00:00:00\", \"totalTestResultsIncrease\": 948693.0, \"positiveIncrease\": 60312.0, \"death\": 212678.0, \"deathIncrease\": 832.0, \"positiveRate\": 0.064, \"state\": \"US\", \"sma7d\": 728.571}, {\"date\": \"2020-10-21T00:00:00\", \"totalTestResultsIncrease\": 939535.0, \"positiveIncrease\": 60657.0, \"death\": 213702.0, \"deathIncrease\": 1024.0, \"positiveRate\": 0.065, \"state\": \"US\", \"sma7d\": 759.0}, {\"date\": \"2020-10-22T00:00:00\", \"totalTestResultsIncrease\": 1218558.0, \"positiveIncrease\": 72887.0, \"death\": 214845.0, \"deathIncrease\": 1143.0, \"positiveRate\": 0.06, \"state\": \"US\", \"sma7d\": 786.429}, {\"date\": \"2020-10-23T00:00:00\", \"totalTestResultsIncrease\": 1378574.0, \"positiveIncrease\": 82262.0, \"death\": 215762.0, \"deathIncrease\": 917.0, \"positiveRate\": 0.06, \"state\": \"US\", \"sma7d\": 792.143}, {\"date\": \"2020-10-24T00:00:00\", \"totalTestResultsIncrease\": 1321334.0, \"positiveIncrease\": 82745.0, \"death\": 216652.0, \"deathIncrease\": 890.0, \"positiveRate\": 0.063, \"state\": \"US\", \"sma7d\": 807.857}, {\"date\": \"2020-10-25T00:00:00\", \"totalTestResultsIncrease\": 1191449.0, \"positiveIncrease\": 65092.0, \"death\": 217029.0, \"deathIncrease\": 377.0, \"positiveRate\": 0.055, \"state\": \"US\", \"sma7d\": 805.571}, {\"date\": \"2020-10-26T00:00:00\", \"totalTestResultsIncrease\": 1201328.0, \"positiveIncrease\": 62103.0, \"death\": 217418.0, \"deathIncrease\": 389.0, \"positiveRate\": 0.052, \"state\": \"US\", \"sma7d\": 796.0}, {\"date\": \"2020-10-27T00:00:00\", \"totalTestResultsIncrease\": 1080661.0, \"positiveIncrease\": 72997.0, \"death\": 218349.0, \"deathIncrease\": 931.0, \"positiveRate\": 0.068, \"state\": \"US\", \"sma7d\": 810.143}, {\"date\": \"2020-10-28T00:00:00\", \"totalTestResultsIncrease\": 1085623.0, \"positiveIncrease\": 78637.0, \"death\": 219374.0, \"deathIncrease\": 1025.0, \"positiveRate\": 0.072, \"state\": \"US\", \"sma7d\": 810.286}, {\"date\": \"2020-10-29T00:00:00\", \"totalTestResultsIncrease\": 1324645.0, \"positiveIncrease\": 87993.0, \"death\": 220423.0, \"deathIncrease\": 1049.0, \"positiveRate\": 0.066, \"state\": \"US\", \"sma7d\": 796.857}, {\"date\": \"2020-10-30T00:00:00\", \"totalTestResultsIncrease\": 1362005.0, \"positiveIncrease\": 96709.0, \"death\": 221356.0, \"deathIncrease\": 933.0, \"positiveRate\": 0.071, \"state\": \"US\", \"sma7d\": 799.143}, {\"date\": \"2020-10-31T00:00:00\", \"totalTestResultsIncrease\": 1373818.0, \"positiveIncrease\": 90492.0, \"death\": 222319.0, \"deathIncrease\": 963.0, \"positiveRate\": 0.066, \"state\": \"US\", \"sma7d\": 809.571}, {\"date\": \"2020-11-01T00:00:00\", \"totalTestResultsIncrease\": 1139567.0, \"positiveIncrease\": 74051.0, \"death\": 222710.0, \"deathIncrease\": 391.0, \"positiveRate\": 0.065, \"state\": \"US\", \"sma7d\": 811.571}, {\"date\": \"2020-11-02T00:00:00\", \"totalTestResultsIncrease\": 1327965.0, \"positiveIncrease\": 82248.0, \"death\": 223186.0, \"deathIncrease\": 476.0, \"positiveRate\": 0.062, \"state\": \"US\", \"sma7d\": 824.0}, {\"date\": \"2020-11-03T00:00:00\", \"totalTestResultsIncrease\": 1125798.0, \"positiveIncrease\": 86081.0, \"death\": 224715.0, \"deathIncrease\": 1529.0, \"positiveRate\": 0.076, \"state\": \"US\", \"sma7d\": 909.429}, {\"date\": \"2020-11-04T00:00:00\", \"totalTestResultsIncrease\": 1207099.0, \"positiveIncrease\": 103067.0, \"death\": 225831.0, \"deathIncrease\": 1116.0, \"positiveRate\": 0.085, \"state\": \"US\", \"sma7d\": 922.429}, {\"date\": \"2020-11-05T00:00:00\", \"totalTestResultsIncrease\": 1537214.0, \"positiveIncrease\": 116153.0, \"death\": 226955.0, \"deathIncrease\": 1124.0, \"positiveRate\": 0.076, \"state\": \"US\", \"sma7d\": 933.143}, {\"date\": \"2020-11-06T00:00:00\", \"totalTestResultsIncrease\": 1533406.0, \"positiveIncrease\": 125252.0, \"death\": 228141.0, \"deathIncrease\": 1186.0, \"positiveRate\": 0.082, \"state\": \"US\", \"sma7d\": 969.286}, {\"date\": \"2020-11-07T00:00:00\", \"totalTestResultsIncrease\": 1406465.0, \"positiveIncrease\": 129191.0, \"death\": 229245.0, \"deathIncrease\": 1104.0, \"positiveRate\": 0.092, \"state\": \"US\", \"sma7d\": 989.429}, {\"date\": \"2020-11-08T00:00:00\", \"totalTestResultsIncrease\": 1259970.0, \"positiveIncrease\": 110318.0, \"death\": 229648.0, \"deathIncrease\": 487.0, \"positiveRate\": 0.088, \"state\": \"US\", \"sma7d\": 1003.143}]}}, {\"mode\": \"vega-lite\"});\n",
       "</script>"
      ],
      "text/plain": [
       "alt.LayerChart(...)"
      ]
     },
     "execution_count": 9,
     "metadata": {},
     "output_type": "execute_result"
    }
   ],
   "source": [
    "create_plot(us, 'deathIncrease')"
   ]
  },
  {
   "cell_type": "markdown",
   "metadata": {
    "papermill": {
     "duration": 0.015718,
     "end_time": "2020-11-09T22:34:42.750223",
     "exception": false,
     "start_time": "2020-11-09T22:34:42.734505",
     "status": "completed"
    },
    "tags": []
   },
   "source": [
    "## NY"
   ]
  },
  {
   "cell_type": "code",
   "execution_count": 10,
   "metadata": {
    "execution": {
     "iopub.execute_input": "2020-11-09T22:34:42.786243Z",
     "iopub.status.busy": "2020-11-09T22:34:42.785653Z",
     "iopub.status.idle": "2020-11-09T22:34:43.122443Z",
     "shell.execute_reply": "2020-11-09T22:34:43.121868Z"
    },
    "papermill": {
     "duration": 0.356056,
     "end_time": "2020-11-09T22:34:43.122596",
     "exception": false,
     "start_time": "2020-11-09T22:34:42.766540",
     "status": "completed"
    },
    "tags": []
   },
   "outputs": [],
   "source": [
    "ny = create_df(df, (lambda d: d['state'] == 'NY'), 'New York')"
   ]
  },
  {
   "cell_type": "code",
   "execution_count": 11,
   "metadata": {
    "execution": {
     "iopub.execute_input": "2020-11-09T22:34:43.169480Z",
     "iopub.status.busy": "2020-11-09T22:34:43.163314Z",
     "iopub.status.idle": "2020-11-09T22:34:43.262629Z",
     "shell.execute_reply": "2020-11-09T22:34:43.263195Z"
    },
    "papermill": {
     "duration": 0.124022,
     "end_time": "2020-11-09T22:34:43.263362",
     "exception": false,
     "start_time": "2020-11-09T22:34:43.139340",
     "status": "completed"
    },
    "tags": []
   },
   "outputs": [
    {
     "data": {
      "text/html": [
       "\n",
       "<div id=\"altair-viz-d81878a32ffa4e9e84d6d3147d7db6f5\"></div>\n",
       "<script type=\"text/javascript\">\n",
       "  (function(spec, embedOpt){\n",
       "    let outputDiv = document.currentScript.previousElementSibling;\n",
       "    if (outputDiv.id !== \"altair-viz-d81878a32ffa4e9e84d6d3147d7db6f5\") {\n",
       "      outputDiv = document.getElementById(\"altair-viz-d81878a32ffa4e9e84d6d3147d7db6f5\");\n",
       "    }\n",
       "    const paths = {\n",
       "      \"vega\": \"https://cdn.jsdelivr.net/npm//vega@5?noext\",\n",
       "      \"vega-lib\": \"https://cdn.jsdelivr.net/npm//vega-lib?noext\",\n",
       "      \"vega-lite\": \"https://cdn.jsdelivr.net/npm//vega-lite@4.8.1?noext\",\n",
       "      \"vega-embed\": \"https://cdn.jsdelivr.net/npm//vega-embed@6?noext\",\n",
       "    };\n",
       "\n",
       "    function loadScript(lib) {\n",
       "      return new Promise(function(resolve, reject) {\n",
       "        var s = document.createElement('script');\n",
       "        s.src = paths[lib];\n",
       "        s.async = true;\n",
       "        s.onload = () => resolve(paths[lib]);\n",
       "        s.onerror = () => reject(`Error loading script: ${paths[lib]}`);\n",
       "        document.getElementsByTagName(\"head\")[0].appendChild(s);\n",
       "      });\n",
       "    }\n",
       "\n",
       "    function showError(err) {\n",
       "      outputDiv.innerHTML = `<div class=\"error\" style=\"color:red;\">${err}</div>`;\n",
       "      throw err;\n",
       "    }\n",
       "\n",
       "    function displayChart(vegaEmbed) {\n",
       "      vegaEmbed(outputDiv, spec, embedOpt)\n",
       "        .catch(err => showError(`Javascript Error: ${err.message}<br>This usually means there's a typo in your chart specification. See the javascript console for the full traceback.`));\n",
       "    }\n",
       "\n",
       "    if(typeof define === \"function\" && define.amd) {\n",
       "      requirejs.config({paths});\n",
       "      require([\"vega-embed\"], displayChart, err => showError(`Error loading script: ${err.message}`));\n",
       "    } else if (typeof vegaEmbed === \"function\") {\n",
       "      displayChart(vegaEmbed);\n",
       "    } else {\n",
       "      loadScript(\"vega\")\n",
       "        .then(() => loadScript(\"vega-lite\"))\n",
       "        .then(() => loadScript(\"vega-embed\"))\n",
       "        .catch(showError)\n",
       "        .then(() => displayChart(vegaEmbed));\n",
       "    }\n",
       "  })({\"config\": {\"view\": {\"continuousWidth\": 400, \"continuousHeight\": 300}}, \"layer\": [{\"layer\": [{\"mark\": {\"type\": \"point\", \"size\": 75}, \"encoding\": {\"tooltip\": [{\"type\": \"temporal\", \"field\": \"date\"}, {\"type\": \"quantitative\", \"field\": \"positiveIncrease\"}, {\"type\": \"quantitative\", \"field\": \"sma7d\"}], \"x\": {\"type\": \"temporal\", \"field\": \"date\"}, \"y\": {\"type\": \"quantitative\", \"field\": \"positiveIncrease\"}}, \"selection\": {\"selector008\": {\"type\": \"interval\", \"bind\": \"scales\", \"encodings\": [\"x\", \"y\"]}}}, {\"mark\": {\"type\": \"line\", \"color\": \"purple\"}, \"encoding\": {\"x\": {\"type\": \"temporal\", \"field\": \"date\"}, \"y\": {\"type\": \"quantitative\", \"field\": \"sma7d\"}}}]}, {\"mark\": {\"type\": \"rule\", \"color\": \"#aaa\"}, \"encoding\": {\"x\": {\"type\": \"temporal\", \"field\": \"date\"}}, \"transform\": [{\"filter\": {\"selection\": \"selector007\"}}]}, {\"mark\": \"circle\", \"encoding\": {\"opacity\": {\"condition\": {\"value\": 1, \"selection\": \"selector007\"}, \"value\": 0}, \"tooltip\": [{\"type\": \"temporal\", \"field\": \"date\"}, {\"type\": \"quantitative\", \"field\": \"positiveIncrease\"}, {\"type\": \"quantitative\", \"field\": \"sma7d\"}], \"x\": {\"type\": \"temporal\", \"field\": \"date\"}, \"y\": {\"type\": \"quantitative\", \"field\": \"positiveIncrease\"}}, \"selection\": {\"selector007\": {\"type\": \"single\", \"encodings\": [\"x\"], \"on\": \"mouseover\", \"nearest\": true, \"empty\": \"none\"}}}, {\"mark\": {\"type\": \"text\", \"align\": \"left\", \"dx\": 5, \"dy\": -5, \"stroke\": \"white\", \"strokeWidth\": 2}, \"encoding\": {\"text\": {\"type\": \"quantitative\", \"field\": \"positiveIncrease\"}, \"tooltip\": [{\"type\": \"temporal\", \"field\": \"date\"}, {\"type\": \"quantitative\", \"field\": \"positiveIncrease\"}, {\"type\": \"quantitative\", \"field\": \"sma7d\"}], \"x\": {\"type\": \"temporal\", \"field\": \"date\"}, \"y\": {\"type\": \"quantitative\", \"field\": \"positiveIncrease\"}}, \"transform\": [{\"filter\": {\"selection\": \"selector007\"}}]}, {\"mark\": {\"type\": \"text\", \"align\": \"left\", \"dx\": 5, \"dy\": -5}, \"encoding\": {\"text\": {\"type\": \"quantitative\", \"field\": \"positiveIncrease\"}, \"tooltip\": [{\"type\": \"temporal\", \"field\": \"date\"}, {\"type\": \"quantitative\", \"field\": \"positiveIncrease\"}, {\"type\": \"quantitative\", \"field\": \"sma7d\"}], \"x\": {\"type\": \"temporal\", \"field\": \"date\"}, \"y\": {\"type\": \"quantitative\", \"field\": \"positiveIncrease\"}}, \"transform\": [{\"filter\": {\"selection\": \"selector007\"}}]}], \"data\": {\"name\": \"data-2f5f1130d535a9817b429b743d035630\"}, \"height\": 400, \"title\": \"New York: positiveIncrease\", \"width\": 500, \"$schema\": \"https://vega.github.io/schema/vega-lite/v4.8.1.json\", \"datasets\": {\"data-2f5f1130d535a9817b429b743d035630\": [{\"date\": \"2020-09-15T00:00:00\", \"totalTestResultsIncrease\": 73678.0, \"positiveIncrease\": 766.0, \"death\": 25405.0, \"deathIncrease\": 11.0, \"positiveRate\": 0.01, \"state\": \"New York\", \"sma7d\": 733.714}, {\"date\": \"2020-09-16T00:00:00\", \"totalTestResultsIncrease\": 75087.0, \"positiveIncrease\": 652.0, \"death\": 25410.0, \"deathIncrease\": 5.0, \"positiveRate\": 0.009, \"state\": \"New York\", \"sma7d\": 744.571}, {\"date\": \"2020-09-17T00:00:00\", \"totalTestResultsIncrease\": 91504.0, \"positiveIncrease\": 896.0, \"death\": 25413.0, \"deathIncrease\": 3.0, \"positiveRate\": 0.01, \"state\": \"New York\", \"sma7d\": 764.429}, {\"date\": \"2020-09-18T00:00:00\", \"totalTestResultsIncrease\": 89727.0, \"positiveIncrease\": 790.0, \"death\": 25423.0, \"deathIncrease\": 10.0, \"positiveRate\": 0.009, \"state\": \"New York\", \"sma7d\": 751.571}, {\"date\": \"2020-09-19T00:00:00\", \"totalTestResultsIncrease\": 110444.0, \"positiveIncrease\": 986.0, \"death\": 25425.0, \"deathIncrease\": 2.0, \"positiveRate\": 0.009, \"state\": \"New York\", \"sma7d\": 771.143}, {\"date\": \"2020-09-20T00:00:00\", \"totalTestResultsIncrease\": 100355.0, \"positiveIncrease\": 862.0, \"death\": 25427.0, \"deathIncrease\": 2.0, \"positiveRate\": 0.009, \"state\": \"New York\", \"sma7d\": 790.714}, {\"date\": \"2020-09-21T00:00:00\", \"totalTestResultsIncrease\": 58319.0, \"positiveIncrease\": 573.0, \"death\": 25428.0, \"deathIncrease\": 1.0, \"positiveRate\": 0.01, \"state\": \"New York\", \"sma7d\": 789.286}, {\"date\": \"2020-09-22T00:00:00\", \"totalTestResultsIncrease\": 83997.0, \"positiveIncrease\": 754.0, \"death\": 25432.0, \"deathIncrease\": 4.0, \"positiveRate\": 0.009, \"state\": \"New York\", \"sma7d\": 787.571}, {\"date\": \"2020-09-23T00:00:00\", \"totalTestResultsIncrease\": 70930.0, \"positiveIncrease\": 665.0, \"death\": 25437.0, \"deathIncrease\": 5.0, \"positiveRate\": 0.009, \"state\": \"New York\", \"sma7d\": 789.429}, {\"date\": \"2020-09-24T00:00:00\", \"totalTestResultsIncrease\": 92953.0, \"positiveIncrease\": 955.0, \"death\": 25439.0, \"deathIncrease\": 2.0, \"positiveRate\": 0.01, \"state\": \"New York\", \"sma7d\": 797.857}, {\"date\": \"2020-09-25T00:00:00\", \"totalTestResultsIncrease\": 94818.0, \"positiveIncrease\": 908.0, \"death\": 25446.0, \"deathIncrease\": 7.0, \"positiveRate\": 0.01, \"state\": \"New York\", \"sma7d\": 814.714}, {\"date\": \"2020-09-26T00:00:00\", \"totalTestResultsIncrease\": 99953.0, \"positiveIncrease\": 1005.0, \"death\": 25450.0, \"deathIncrease\": 4.0, \"positiveRate\": 0.01, \"state\": \"New York\", \"sma7d\": 817.429}, {\"date\": \"2020-09-27T00:00:00\", \"totalTestResultsIncrease\": 84770.0, \"positiveIncrease\": 866.0, \"death\": 25456.0, \"deathIncrease\": 6.0, \"positiveRate\": 0.01, \"state\": \"New York\", \"sma7d\": 818.0}, {\"date\": \"2020-09-28T00:00:00\", \"totalTestResultsIncrease\": 52936.0, \"positiveIncrease\": 834.0, \"death\": 25468.0, \"deathIncrease\": 12.0, \"positiveRate\": 0.016, \"state\": \"New York\", \"sma7d\": 855.286}, {\"date\": \"2020-09-29T00:00:00\", \"totalTestResultsIncrease\": 88231.0, \"positiveIncrease\": 1189.0, \"death\": 25470.0, \"deathIncrease\": 2.0, \"positiveRate\": 0.013, \"state\": \"New York\", \"sma7d\": 917.429}, {\"date\": \"2020-09-30T00:00:00\", \"totalTestResultsIncrease\": 97960.0, \"positiveIncrease\": 1000.0, \"death\": 25479.0, \"deathIncrease\": 9.0, \"positiveRate\": 0.01, \"state\": \"New York\", \"sma7d\": 965.286}, {\"date\": \"2020-10-01T00:00:00\", \"totalTestResultsIncrease\": 109218.0, \"positiveIncrease\": 1382.0, \"death\": 25490.0, \"deathIncrease\": 11.0, \"positiveRate\": 0.013, \"state\": \"New York\", \"sma7d\": 1026.286}, {\"date\": \"2020-10-02T00:00:00\", \"totalTestResultsIncrease\": 119493.0, \"positiveIncrease\": 1598.0, \"death\": 25497.0, \"deathIncrease\": 7.0, \"positiveRate\": 0.013, \"state\": \"New York\", \"sma7d\": 1124.857}, {\"date\": \"2020-10-03T00:00:00\", \"totalTestResultsIncrease\": 134267.0, \"positiveIncrease\": 1731.0, \"death\": 25505.0, \"deathIncrease\": 8.0, \"positiveRate\": 0.013, \"state\": \"New York\", \"sma7d\": 1228.571}, {\"date\": \"2020-10-04T00:00:00\", \"totalTestResultsIncrease\": 110329.0, \"positiveIncrease\": 1222.0, \"death\": 25519.0, \"deathIncrease\": 14.0, \"positiveRate\": 0.011, \"state\": \"New York\", \"sma7d\": 1279.429}, {\"date\": \"2020-10-05T00:00:00\", \"totalTestResultsIncrease\": 76404.0, \"positiveIncrease\": 933.0, \"death\": 25527.0, \"deathIncrease\": 8.0, \"positiveRate\": 0.012, \"state\": \"New York\", \"sma7d\": 1293.571}, {\"date\": \"2020-10-06T00:00:00\", \"totalTestResultsIncrease\": 96359.0, \"positiveIncrease\": 1393.0, \"death\": 25536.0, \"deathIncrease\": 9.0, \"positiveRate\": 0.014, \"state\": \"New York\", \"sma7d\": 1322.714}, {\"date\": \"2020-10-07T00:00:00\", \"totalTestResultsIncrease\": 108246.0, \"positiveIncrease\": 1360.0, \"death\": 25545.0, \"deathIncrease\": 9.0, \"positiveRate\": 0.013, \"state\": \"New York\", \"sma7d\": 1374.143}, {\"date\": \"2020-10-08T00:00:00\", \"totalTestResultsIncrease\": 145811.0, \"positiveIncrease\": 1836.0, \"death\": 25555.0, \"deathIncrease\": 10.0, \"positiveRate\": 0.013, \"state\": \"New York\", \"sma7d\": 1439.0}, {\"date\": \"2020-10-09T00:00:00\", \"totalTestResultsIncrease\": 139300.0, \"positiveIncrease\": 1592.0, \"death\": 25561.0, \"deathIncrease\": 6.0, \"positiveRate\": 0.011, \"state\": \"New York\", \"sma7d\": 1438.143}, {\"date\": \"2020-10-10T00:00:00\", \"totalTestResultsIncrease\": 134579.0, \"positiveIncrease\": 1447.0, \"death\": 25569.0, \"deathIncrease\": 8.0, \"positiveRate\": 0.011, \"state\": \"New York\", \"sma7d\": 1397.571}, {\"date\": \"2020-10-11T00:00:00\", \"totalTestResultsIncrease\": 118254.0, \"positiveIncrease\": 1143.0, \"death\": 25574.0, \"deathIncrease\": 5.0, \"positiveRate\": 0.01, \"state\": \"New York\", \"sma7d\": 1386.286}, {\"date\": \"2020-10-12T00:00:00\", \"totalTestResultsIncrease\": 91793.0, \"positiveIncrease\": 1029.0, \"death\": 25587.0, \"deathIncrease\": 13.0, \"positiveRate\": 0.011, \"state\": \"New York\", \"sma7d\": 1400.0}, {\"date\": \"2020-10-13T00:00:00\", \"totalTestResultsIncrease\": 99070.0, \"positiveIncrease\": 1393.0, \"death\": 25598.0, \"deathIncrease\": 11.0, \"positiveRate\": 0.014, \"state\": \"New York\", \"sma7d\": 1400.0}, {\"date\": \"2020-10-14T00:00:00\", \"totalTestResultsIncrease\": 111744.0, \"positiveIncrease\": 1232.0, \"death\": 25605.0, \"deathIncrease\": 7.0, \"positiveRate\": 0.011, \"state\": \"New York\", \"sma7d\": 1381.714}, {\"date\": \"2020-10-15T00:00:00\", \"totalTestResultsIncrease\": 133212.0, \"positiveIncrease\": 1460.0, \"death\": 25618.0, \"deathIncrease\": 13.0, \"positiveRate\": 0.011, \"state\": \"New York\", \"sma7d\": 1328.0}, {\"date\": \"2020-10-16T00:00:00\", \"totalTestResultsIncrease\": 136039.0, \"positiveIncrease\": 1707.0, \"death\": 25628.0, \"deathIncrease\": 10.0, \"positiveRate\": 0.013, \"state\": \"New York\", \"sma7d\": 1344.429}, {\"date\": \"2020-10-17T00:00:00\", \"totalTestResultsIncrease\": 159972.0, \"positiveIncrease\": 1784.0, \"death\": 25637.0, \"deathIncrease\": 9.0, \"positiveRate\": 0.011, \"state\": \"New York\", \"sma7d\": 1392.571}, {\"date\": \"2020-10-18T00:00:00\", \"totalTestResultsIncrease\": 128763.0, \"positiveIncrease\": 1390.0, \"death\": 25644.0, \"deathIncrease\": 7.0, \"positiveRate\": 0.011, \"state\": \"New York\", \"sma7d\": 1427.857}, {\"date\": \"2020-10-19T00:00:00\", \"totalTestResultsIncrease\": 82009.0, \"positiveIncrease\": 998.0, \"death\": 25659.0, \"deathIncrease\": 15.0, \"positiveRate\": 0.012, \"state\": \"New York\", \"sma7d\": 1423.429}, {\"date\": \"2020-10-20T00:00:00\", \"totalTestResultsIncrease\": 90540.0, \"positiveIncrease\": 1201.0, \"death\": 25672.0, \"deathIncrease\": 13.0, \"positiveRate\": 0.013, \"state\": \"New York\", \"sma7d\": 1396.0}, {\"date\": \"2020-10-21T00:00:00\", \"totalTestResultsIncrease\": 124789.0, \"positiveIncrease\": 2026.0, \"death\": 25679.0, \"deathIncrease\": 7.0, \"positiveRate\": 0.016, \"state\": \"New York\", \"sma7d\": 1509.429}, {\"date\": \"2020-10-22T00:00:00\", \"totalTestResultsIncrease\": 135341.0, \"positiveIncrease\": 1628.0, \"death\": 25694.0, \"deathIncrease\": 15.0, \"positiveRate\": 0.012, \"state\": \"New York\", \"sma7d\": 1533.429}, {\"date\": \"2020-10-23T00:00:00\", \"totalTestResultsIncrease\": 141508.0, \"positiveIncrease\": 1637.0, \"death\": 25705.0, \"deathIncrease\": 11.0, \"positiveRate\": 0.012, \"state\": \"New York\", \"sma7d\": 1523.429}, {\"date\": \"2020-10-24T00:00:00\", \"totalTestResultsIncrease\": 156940.0, \"positiveIncrease\": 2061.0, \"death\": 25718.0, \"deathIncrease\": 13.0, \"positiveRate\": 0.013, \"state\": \"New York\", \"sma7d\": 1563.0}, {\"date\": \"2020-10-25T00:00:00\", \"totalTestResultsIncrease\": 120830.0, \"positiveIncrease\": 1632.0, \"death\": 25730.0, \"deathIncrease\": 12.0, \"positiveRate\": 0.014, \"state\": \"New York\", \"sma7d\": 1597.571}, {\"date\": \"2020-10-26T00:00:00\", \"totalTestResultsIncrease\": 82117.0, \"positiveIncrease\": 1191.0, \"death\": 25742.0, \"deathIncrease\": 12.0, \"positiveRate\": 0.015, \"state\": \"New York\", \"sma7d\": 1625.143}, {\"date\": \"2020-10-27T00:00:00\", \"totalTestResultsIncrease\": 111618.0, \"positiveIncrease\": 1991.0, \"death\": 25758.0, \"deathIncrease\": 16.0, \"positiveRate\": 0.018, \"state\": \"New York\", \"sma7d\": 1738.0}, {\"date\": \"2020-10-28T00:00:00\", \"totalTestResultsIncrease\": 129660.0, \"positiveIncrease\": 2031.0, \"death\": 25773.0, \"deathIncrease\": 15.0, \"positiveRate\": 0.016, \"state\": \"New York\", \"sma7d\": 1738.714}, {\"date\": \"2020-10-29T00:00:00\", \"totalTestResultsIncrease\": 168353.0, \"positiveIncrease\": 2499.0, \"death\": 25792.0, \"deathIncrease\": 19.0, \"positiveRate\": 0.015, \"state\": \"New York\", \"sma7d\": 1863.143}, {\"date\": \"2020-10-30T00:00:00\", \"totalTestResultsIncrease\": 146885.0, \"positiveIncrease\": 2255.0, \"death\": 25804.0, \"deathIncrease\": 12.0, \"positiveRate\": 0.015, \"state\": \"New York\", \"sma7d\": 1951.429}, {\"date\": \"2020-10-31T00:00:00\", \"totalTestResultsIncrease\": 136962.0, \"positiveIncrease\": 2049.0, \"death\": 25807.0, \"deathIncrease\": 3.0, \"positiveRate\": 0.015, \"state\": \"New York\", \"sma7d\": 1949.714}, {\"date\": \"2020-11-01T00:00:00\", \"totalTestResultsIncrease\": 148935.0, \"positiveIncrease\": 2255.0, \"death\": 25824.0, \"deathIncrease\": 17.0, \"positiveRate\": 0.015, \"state\": \"New York\", \"sma7d\": 2038.714}, {\"date\": \"2020-11-02T00:00:00\", \"totalTestResultsIncrease\": 96101.0, \"positiveIncrease\": 1633.0, \"death\": 25838.0, \"deathIncrease\": 14.0, \"positiveRate\": 0.017, \"state\": \"New York\", \"sma7d\": 2101.857}, {\"date\": \"2020-11-03T00:00:00\", \"totalTestResultsIncrease\": 127869.0, \"positiveIncrease\": 2321.0, \"death\": 25853.0, \"deathIncrease\": 15.0, \"positiveRate\": 0.018, \"state\": \"New York\", \"sma7d\": 2149.0}, {\"date\": \"2020-11-04T00:00:00\", \"totalTestResultsIncrease\": 133534.0, \"positiveIncrease\": 2126.0, \"death\": 25868.0, \"deathIncrease\": 15.0, \"positiveRate\": 0.016, \"state\": \"New York\", \"sma7d\": 2162.571}, {\"date\": \"2020-11-05T00:00:00\", \"totalTestResultsIncrease\": 161019.0, \"positiveIncrease\": 2997.0, \"death\": 25892.0, \"deathIncrease\": 24.0, \"positiveRate\": 0.019, \"state\": \"New York\", \"sma7d\": 2233.714}, {\"date\": \"2020-11-06T00:00:00\", \"totalTestResultsIncrease\": 160705.0, \"positiveIncrease\": 3209.0, \"death\": 25910.0, \"deathIncrease\": 18.0, \"positiveRate\": 0.02, \"state\": \"New York\", \"sma7d\": 2370.0}, {\"date\": \"2020-11-07T00:00:00\", \"totalTestResultsIncrease\": 163291.0, \"positiveIncrease\": 3587.0, \"death\": 25928.0, \"deathIncrease\": 18.0, \"positiveRate\": 0.022, \"state\": \"New York\", \"sma7d\": 2589.714}, {\"date\": \"2020-11-08T00:00:00\", \"totalTestResultsIncrease\": 145642.0, \"positiveIncrease\": 3428.0, \"death\": 25947.0, \"deathIncrease\": 19.0, \"positiveRate\": 0.024, \"state\": \"New York\", \"sma7d\": 2757.286}]}}, {\"mode\": \"vega-lite\"});\n",
       "</script>"
      ],
      "text/plain": [
       "alt.LayerChart(...)"
      ]
     },
     "execution_count": 11,
     "metadata": {},
     "output_type": "execute_result"
    }
   ],
   "source": [
    "create_plot(ny, 'positiveIncrease')"
   ]
  },
  {
   "cell_type": "code",
   "execution_count": 12,
   "metadata": {
    "execution": {
     "iopub.execute_input": "2020-11-09T22:34:43.320499Z",
     "iopub.status.busy": "2020-11-09T22:34:43.315258Z",
     "iopub.status.idle": "2020-11-09T22:34:43.403654Z",
     "shell.execute_reply": "2020-11-09T22:34:43.404218Z"
    },
    "papermill": {
     "duration": 0.12416,
     "end_time": "2020-11-09T22:34:43.404383",
     "exception": false,
     "start_time": "2020-11-09T22:34:43.280223",
     "status": "completed"
    },
    "tags": []
   },
   "outputs": [
    {
     "data": {
      "text/html": [
       "\n",
       "<div id=\"altair-viz-bb3047b6fe2942a191098b319f8fb2d6\"></div>\n",
       "<script type=\"text/javascript\">\n",
       "  (function(spec, embedOpt){\n",
       "    let outputDiv = document.currentScript.previousElementSibling;\n",
       "    if (outputDiv.id !== \"altair-viz-bb3047b6fe2942a191098b319f8fb2d6\") {\n",
       "      outputDiv = document.getElementById(\"altair-viz-bb3047b6fe2942a191098b319f8fb2d6\");\n",
       "    }\n",
       "    const paths = {\n",
       "      \"vega\": \"https://cdn.jsdelivr.net/npm//vega@5?noext\",\n",
       "      \"vega-lib\": \"https://cdn.jsdelivr.net/npm//vega-lib?noext\",\n",
       "      \"vega-lite\": \"https://cdn.jsdelivr.net/npm//vega-lite@4.8.1?noext\",\n",
       "      \"vega-embed\": \"https://cdn.jsdelivr.net/npm//vega-embed@6?noext\",\n",
       "    };\n",
       "\n",
       "    function loadScript(lib) {\n",
       "      return new Promise(function(resolve, reject) {\n",
       "        var s = document.createElement('script');\n",
       "        s.src = paths[lib];\n",
       "        s.async = true;\n",
       "        s.onload = () => resolve(paths[lib]);\n",
       "        s.onerror = () => reject(`Error loading script: ${paths[lib]}`);\n",
       "        document.getElementsByTagName(\"head\")[0].appendChild(s);\n",
       "      });\n",
       "    }\n",
       "\n",
       "    function showError(err) {\n",
       "      outputDiv.innerHTML = `<div class=\"error\" style=\"color:red;\">${err}</div>`;\n",
       "      throw err;\n",
       "    }\n",
       "\n",
       "    function displayChart(vegaEmbed) {\n",
       "      vegaEmbed(outputDiv, spec, embedOpt)\n",
       "        .catch(err => showError(`Javascript Error: ${err.message}<br>This usually means there's a typo in your chart specification. See the javascript console for the full traceback.`));\n",
       "    }\n",
       "\n",
       "    if(typeof define === \"function\" && define.amd) {\n",
       "      requirejs.config({paths});\n",
       "      require([\"vega-embed\"], displayChart, err => showError(`Error loading script: ${err.message}`));\n",
       "    } else if (typeof vegaEmbed === \"function\") {\n",
       "      displayChart(vegaEmbed);\n",
       "    } else {\n",
       "      loadScript(\"vega\")\n",
       "        .then(() => loadScript(\"vega-lite\"))\n",
       "        .then(() => loadScript(\"vega-embed\"))\n",
       "        .catch(showError)\n",
       "        .then(() => displayChart(vegaEmbed));\n",
       "    }\n",
       "  })({\"config\": {\"view\": {\"continuousWidth\": 400, \"continuousHeight\": 300}}, \"layer\": [{\"layer\": [{\"mark\": {\"type\": \"point\", \"size\": 75}, \"encoding\": {\"tooltip\": [{\"type\": \"temporal\", \"field\": \"date\"}, {\"type\": \"quantitative\", \"field\": \"positiveRate\"}, {\"type\": \"quantitative\", \"field\": \"sma7d\"}], \"x\": {\"type\": \"temporal\", \"field\": \"date\"}, \"y\": {\"type\": \"quantitative\", \"field\": \"positiveRate\"}}, \"selection\": {\"selector010\": {\"type\": \"interval\", \"bind\": \"scales\", \"encodings\": [\"x\", \"y\"]}}}, {\"mark\": {\"type\": \"line\", \"color\": \"purple\"}, \"encoding\": {\"x\": {\"type\": \"temporal\", \"field\": \"date\"}, \"y\": {\"type\": \"quantitative\", \"field\": \"sma7d\"}}}]}, {\"mark\": {\"type\": \"rule\", \"color\": \"#aaa\"}, \"encoding\": {\"x\": {\"type\": \"temporal\", \"field\": \"date\"}}, \"transform\": [{\"filter\": {\"selection\": \"selector009\"}}]}, {\"mark\": \"circle\", \"encoding\": {\"opacity\": {\"condition\": {\"value\": 1, \"selection\": \"selector009\"}, \"value\": 0}, \"tooltip\": [{\"type\": \"temporal\", \"field\": \"date\"}, {\"type\": \"quantitative\", \"field\": \"positiveRate\"}, {\"type\": \"quantitative\", \"field\": \"sma7d\"}], \"x\": {\"type\": \"temporal\", \"field\": \"date\"}, \"y\": {\"type\": \"quantitative\", \"field\": \"positiveRate\"}}, \"selection\": {\"selector009\": {\"type\": \"single\", \"encodings\": [\"x\"], \"on\": \"mouseover\", \"nearest\": true, \"empty\": \"none\"}}}, {\"mark\": {\"type\": \"text\", \"align\": \"left\", \"dx\": 5, \"dy\": -5, \"stroke\": \"white\", \"strokeWidth\": 2}, \"encoding\": {\"text\": {\"type\": \"quantitative\", \"field\": \"positiveRate\"}, \"tooltip\": [{\"type\": \"temporal\", \"field\": \"date\"}, {\"type\": \"quantitative\", \"field\": \"positiveRate\"}, {\"type\": \"quantitative\", \"field\": \"sma7d\"}], \"x\": {\"type\": \"temporal\", \"field\": \"date\"}, \"y\": {\"type\": \"quantitative\", \"field\": \"positiveRate\"}}, \"transform\": [{\"filter\": {\"selection\": \"selector009\"}}]}, {\"mark\": {\"type\": \"text\", \"align\": \"left\", \"dx\": 5, \"dy\": -5}, \"encoding\": {\"text\": {\"type\": \"quantitative\", \"field\": \"positiveRate\"}, \"tooltip\": [{\"type\": \"temporal\", \"field\": \"date\"}, {\"type\": \"quantitative\", \"field\": \"positiveRate\"}, {\"type\": \"quantitative\", \"field\": \"sma7d\"}], \"x\": {\"type\": \"temporal\", \"field\": \"date\"}, \"y\": {\"type\": \"quantitative\", \"field\": \"positiveRate\"}}, \"transform\": [{\"filter\": {\"selection\": \"selector009\"}}]}], \"data\": {\"name\": \"data-478b24a96c3cc48c661569b986be7c56\"}, \"height\": 400, \"title\": \"New York: positiveRate\", \"width\": 500, \"$schema\": \"https://vega.github.io/schema/vega-lite/v4.8.1.json\", \"datasets\": {\"data-478b24a96c3cc48c661569b986be7c56\": [{\"date\": \"2020-09-15T00:00:00\", \"totalTestResultsIncrease\": 73678.0, \"positiveIncrease\": 766.0, \"death\": 25405.0, \"deathIncrease\": 11.0, \"positiveRate\": 0.01, \"state\": \"New York\", \"sma7d\": 0.009}, {\"date\": \"2020-09-16T00:00:00\", \"totalTestResultsIncrease\": 75087.0, \"positiveIncrease\": 652.0, \"death\": 25410.0, \"deathIncrease\": 5.0, \"positiveRate\": 0.009, \"state\": \"New York\", \"sma7d\": 0.009}, {\"date\": \"2020-09-17T00:00:00\", \"totalTestResultsIncrease\": 91504.0, \"positiveIncrease\": 896.0, \"death\": 25413.0, \"deathIncrease\": 3.0, \"positiveRate\": 0.01, \"state\": \"New York\", \"sma7d\": 0.009}, {\"date\": \"2020-09-18T00:00:00\", \"totalTestResultsIncrease\": 89727.0, \"positiveIncrease\": 790.0, \"death\": 25423.0, \"deathIncrease\": 10.0, \"positiveRate\": 0.009, \"state\": \"New York\", \"sma7d\": 0.009}, {\"date\": \"2020-09-19T00:00:00\", \"totalTestResultsIncrease\": 110444.0, \"positiveIncrease\": 986.0, \"death\": 25425.0, \"deathIncrease\": 2.0, \"positiveRate\": 0.009, \"state\": \"New York\", \"sma7d\": 0.009}, {\"date\": \"2020-09-20T00:00:00\", \"totalTestResultsIncrease\": 100355.0, \"positiveIncrease\": 862.0, \"death\": 25427.0, \"deathIncrease\": 2.0, \"positiveRate\": 0.009, \"state\": \"New York\", \"sma7d\": 0.009}, {\"date\": \"2020-09-21T00:00:00\", \"totalTestResultsIncrease\": 58319.0, \"positiveIncrease\": 573.0, \"death\": 25428.0, \"deathIncrease\": 1.0, \"positiveRate\": 0.01, \"state\": \"New York\", \"sma7d\": 0.009}, {\"date\": \"2020-09-22T00:00:00\", \"totalTestResultsIncrease\": 83997.0, \"positiveIncrease\": 754.0, \"death\": 25432.0, \"deathIncrease\": 4.0, \"positiveRate\": 0.009, \"state\": \"New York\", \"sma7d\": 0.009}, {\"date\": \"2020-09-23T00:00:00\", \"totalTestResultsIncrease\": 70930.0, \"positiveIncrease\": 665.0, \"death\": 25437.0, \"deathIncrease\": 5.0, \"positiveRate\": 0.009, \"state\": \"New York\", \"sma7d\": 0.009}, {\"date\": \"2020-09-24T00:00:00\", \"totalTestResultsIncrease\": 92953.0, \"positiveIncrease\": 955.0, \"death\": 25439.0, \"deathIncrease\": 2.0, \"positiveRate\": 0.01, \"state\": \"New York\", \"sma7d\": 0.009}, {\"date\": \"2020-09-25T00:00:00\", \"totalTestResultsIncrease\": 94818.0, \"positiveIncrease\": 908.0, \"death\": 25446.0, \"deathIncrease\": 7.0, \"positiveRate\": 0.01, \"state\": \"New York\", \"sma7d\": 0.009}, {\"date\": \"2020-09-26T00:00:00\", \"totalTestResultsIncrease\": 99953.0, \"positiveIncrease\": 1005.0, \"death\": 25450.0, \"deathIncrease\": 4.0, \"positiveRate\": 0.01, \"state\": \"New York\", \"sma7d\": 0.01}, {\"date\": \"2020-09-27T00:00:00\", \"totalTestResultsIncrease\": 84770.0, \"positiveIncrease\": 866.0, \"death\": 25456.0, \"deathIncrease\": 6.0, \"positiveRate\": 0.01, \"state\": \"New York\", \"sma7d\": 0.01}, {\"date\": \"2020-09-28T00:00:00\", \"totalTestResultsIncrease\": 52936.0, \"positiveIncrease\": 834.0, \"death\": 25468.0, \"deathIncrease\": 12.0, \"positiveRate\": 0.016, \"state\": \"New York\", \"sma7d\": 0.011}, {\"date\": \"2020-09-29T00:00:00\", \"totalTestResultsIncrease\": 88231.0, \"positiveIncrease\": 1189.0, \"death\": 25470.0, \"deathIncrease\": 2.0, \"positiveRate\": 0.013, \"state\": \"New York\", \"sma7d\": 0.011}, {\"date\": \"2020-09-30T00:00:00\", \"totalTestResultsIncrease\": 97960.0, \"positiveIncrease\": 1000.0, \"death\": 25479.0, \"deathIncrease\": 9.0, \"positiveRate\": 0.01, \"state\": \"New York\", \"sma7d\": 0.011}, {\"date\": \"2020-10-01T00:00:00\", \"totalTestResultsIncrease\": 109218.0, \"positiveIncrease\": 1382.0, \"death\": 25490.0, \"deathIncrease\": 11.0, \"positiveRate\": 0.013, \"state\": \"New York\", \"sma7d\": 0.012}, {\"date\": \"2020-10-02T00:00:00\", \"totalTestResultsIncrease\": 119493.0, \"positiveIncrease\": 1598.0, \"death\": 25497.0, \"deathIncrease\": 7.0, \"positiveRate\": 0.013, \"state\": \"New York\", \"sma7d\": 0.012}, {\"date\": \"2020-10-03T00:00:00\", \"totalTestResultsIncrease\": 134267.0, \"positiveIncrease\": 1731.0, \"death\": 25505.0, \"deathIncrease\": 8.0, \"positiveRate\": 0.013, \"state\": \"New York\", \"sma7d\": 0.013}, {\"date\": \"2020-10-04T00:00:00\", \"totalTestResultsIncrease\": 110329.0, \"positiveIncrease\": 1222.0, \"death\": 25519.0, \"deathIncrease\": 14.0, \"positiveRate\": 0.011, \"state\": \"New York\", \"sma7d\": 0.013}, {\"date\": \"2020-10-05T00:00:00\", \"totalTestResultsIncrease\": 76404.0, \"positiveIncrease\": 933.0, \"death\": 25527.0, \"deathIncrease\": 8.0, \"positiveRate\": 0.012, \"state\": \"New York\", \"sma7d\": 0.012}, {\"date\": \"2020-10-06T00:00:00\", \"totalTestResultsIncrease\": 96359.0, \"positiveIncrease\": 1393.0, \"death\": 25536.0, \"deathIncrease\": 9.0, \"positiveRate\": 0.014, \"state\": \"New York\", \"sma7d\": 0.012}, {\"date\": \"2020-10-07T00:00:00\", \"totalTestResultsIncrease\": 108246.0, \"positiveIncrease\": 1360.0, \"death\": 25545.0, \"deathIncrease\": 9.0, \"positiveRate\": 0.013, \"state\": \"New York\", \"sma7d\": 0.013}, {\"date\": \"2020-10-08T00:00:00\", \"totalTestResultsIncrease\": 145811.0, \"positiveIncrease\": 1836.0, \"death\": 25555.0, \"deathIncrease\": 10.0, \"positiveRate\": 0.013, \"state\": \"New York\", \"sma7d\": 0.013}, {\"date\": \"2020-10-09T00:00:00\", \"totalTestResultsIncrease\": 139300.0, \"positiveIncrease\": 1592.0, \"death\": 25561.0, \"deathIncrease\": 6.0, \"positiveRate\": 0.011, \"state\": \"New York\", \"sma7d\": 0.012}, {\"date\": \"2020-10-10T00:00:00\", \"totalTestResultsIncrease\": 134579.0, \"positiveIncrease\": 1447.0, \"death\": 25569.0, \"deathIncrease\": 8.0, \"positiveRate\": 0.011, \"state\": \"New York\", \"sma7d\": 0.012}, {\"date\": \"2020-10-11T00:00:00\", \"totalTestResultsIncrease\": 118254.0, \"positiveIncrease\": 1143.0, \"death\": 25574.0, \"deathIncrease\": 5.0, \"positiveRate\": 0.01, \"state\": \"New York\", \"sma7d\": 0.012}, {\"date\": \"2020-10-12T00:00:00\", \"totalTestResultsIncrease\": 91793.0, \"positiveIncrease\": 1029.0, \"death\": 25587.0, \"deathIncrease\": 13.0, \"positiveRate\": 0.011, \"state\": \"New York\", \"sma7d\": 0.012}, {\"date\": \"2020-10-13T00:00:00\", \"totalTestResultsIncrease\": 99070.0, \"positiveIncrease\": 1393.0, \"death\": 25598.0, \"deathIncrease\": 11.0, \"positiveRate\": 0.014, \"state\": \"New York\", \"sma7d\": 0.012}, {\"date\": \"2020-10-14T00:00:00\", \"totalTestResultsIncrease\": 111744.0, \"positiveIncrease\": 1232.0, \"death\": 25605.0, \"deathIncrease\": 7.0, \"positiveRate\": 0.011, \"state\": \"New York\", \"sma7d\": 0.012}, {\"date\": \"2020-10-15T00:00:00\", \"totalTestResultsIncrease\": 133212.0, \"positiveIncrease\": 1460.0, \"death\": 25618.0, \"deathIncrease\": 13.0, \"positiveRate\": 0.011, \"state\": \"New York\", \"sma7d\": 0.011}, {\"date\": \"2020-10-16T00:00:00\", \"totalTestResultsIncrease\": 136039.0, \"positiveIncrease\": 1707.0, \"death\": 25628.0, \"deathIncrease\": 10.0, \"positiveRate\": 0.013, \"state\": \"New York\", \"sma7d\": 0.012}, {\"date\": \"2020-10-17T00:00:00\", \"totalTestResultsIncrease\": 159972.0, \"positiveIncrease\": 1784.0, \"death\": 25637.0, \"deathIncrease\": 9.0, \"positiveRate\": 0.011, \"state\": \"New York\", \"sma7d\": 0.012}, {\"date\": \"2020-10-18T00:00:00\", \"totalTestResultsIncrease\": 128763.0, \"positiveIncrease\": 1390.0, \"death\": 25644.0, \"deathIncrease\": 7.0, \"positiveRate\": 0.011, \"state\": \"New York\", \"sma7d\": 0.012}, {\"date\": \"2020-10-19T00:00:00\", \"totalTestResultsIncrease\": 82009.0, \"positiveIncrease\": 998.0, \"death\": 25659.0, \"deathIncrease\": 15.0, \"positiveRate\": 0.012, \"state\": \"New York\", \"sma7d\": 0.012}, {\"date\": \"2020-10-20T00:00:00\", \"totalTestResultsIncrease\": 90540.0, \"positiveIncrease\": 1201.0, \"death\": 25672.0, \"deathIncrease\": 13.0, \"positiveRate\": 0.013, \"state\": \"New York\", \"sma7d\": 0.012}, {\"date\": \"2020-10-21T00:00:00\", \"totalTestResultsIncrease\": 124789.0, \"positiveIncrease\": 2026.0, \"death\": 25679.0, \"deathIncrease\": 7.0, \"positiveRate\": 0.016, \"state\": \"New York\", \"sma7d\": 0.012}, {\"date\": \"2020-10-22T00:00:00\", \"totalTestResultsIncrease\": 135341.0, \"positiveIncrease\": 1628.0, \"death\": 25694.0, \"deathIncrease\": 15.0, \"positiveRate\": 0.012, \"state\": \"New York\", \"sma7d\": 0.013}, {\"date\": \"2020-10-23T00:00:00\", \"totalTestResultsIncrease\": 141508.0, \"positiveIncrease\": 1637.0, \"death\": 25705.0, \"deathIncrease\": 11.0, \"positiveRate\": 0.012, \"state\": \"New York\", \"sma7d\": 0.012}, {\"date\": \"2020-10-24T00:00:00\", \"totalTestResultsIncrease\": 156940.0, \"positiveIncrease\": 2061.0, \"death\": 25718.0, \"deathIncrease\": 13.0, \"positiveRate\": 0.013, \"state\": \"New York\", \"sma7d\": 0.013}, {\"date\": \"2020-10-25T00:00:00\", \"totalTestResultsIncrease\": 120830.0, \"positiveIncrease\": 1632.0, \"death\": 25730.0, \"deathIncrease\": 12.0, \"positiveRate\": 0.014, \"state\": \"New York\", \"sma7d\": 0.013}, {\"date\": \"2020-10-26T00:00:00\", \"totalTestResultsIncrease\": 82117.0, \"positiveIncrease\": 1191.0, \"death\": 25742.0, \"deathIncrease\": 12.0, \"positiveRate\": 0.015, \"state\": \"New York\", \"sma7d\": 0.014}, {\"date\": \"2020-10-27T00:00:00\", \"totalTestResultsIncrease\": 111618.0, \"positiveIncrease\": 1991.0, \"death\": 25758.0, \"deathIncrease\": 16.0, \"positiveRate\": 0.018, \"state\": \"New York\", \"sma7d\": 0.014}, {\"date\": \"2020-10-28T00:00:00\", \"totalTestResultsIncrease\": 129660.0, \"positiveIncrease\": 2031.0, \"death\": 25773.0, \"deathIncrease\": 15.0, \"positiveRate\": 0.016, \"state\": \"New York\", \"sma7d\": 0.014}, {\"date\": \"2020-10-29T00:00:00\", \"totalTestResultsIncrease\": 168353.0, \"positiveIncrease\": 2499.0, \"death\": 25792.0, \"deathIncrease\": 19.0, \"positiveRate\": 0.015, \"state\": \"New York\", \"sma7d\": 0.015}, {\"date\": \"2020-10-30T00:00:00\", \"totalTestResultsIncrease\": 146885.0, \"positiveIncrease\": 2255.0, \"death\": 25804.0, \"deathIncrease\": 12.0, \"positiveRate\": 0.015, \"state\": \"New York\", \"sma7d\": 0.015}, {\"date\": \"2020-10-31T00:00:00\", \"totalTestResultsIncrease\": 136962.0, \"positiveIncrease\": 2049.0, \"death\": 25807.0, \"deathIncrease\": 3.0, \"positiveRate\": 0.015, \"state\": \"New York\", \"sma7d\": 0.015}, {\"date\": \"2020-11-01T00:00:00\", \"totalTestResultsIncrease\": 148935.0, \"positiveIncrease\": 2255.0, \"death\": 25824.0, \"deathIncrease\": 17.0, \"positiveRate\": 0.015, \"state\": \"New York\", \"sma7d\": 0.016}, {\"date\": \"2020-11-02T00:00:00\", \"totalTestResultsIncrease\": 96101.0, \"positiveIncrease\": 1633.0, \"death\": 25838.0, \"deathIncrease\": 14.0, \"positiveRate\": 0.017, \"state\": \"New York\", \"sma7d\": 0.016}, {\"date\": \"2020-11-03T00:00:00\", \"totalTestResultsIncrease\": 127869.0, \"positiveIncrease\": 2321.0, \"death\": 25853.0, \"deathIncrease\": 15.0, \"positiveRate\": 0.018, \"state\": \"New York\", \"sma7d\": 0.016}, {\"date\": \"2020-11-04T00:00:00\", \"totalTestResultsIncrease\": 133534.0, \"positiveIncrease\": 2126.0, \"death\": 25868.0, \"deathIncrease\": 15.0, \"positiveRate\": 0.016, \"state\": \"New York\", \"sma7d\": 0.016}, {\"date\": \"2020-11-05T00:00:00\", \"totalTestResultsIncrease\": 161019.0, \"positiveIncrease\": 2997.0, \"death\": 25892.0, \"deathIncrease\": 24.0, \"positiveRate\": 0.019, \"state\": \"New York\", \"sma7d\": 0.016}, {\"date\": \"2020-11-06T00:00:00\", \"totalTestResultsIncrease\": 160705.0, \"positiveIncrease\": 3209.0, \"death\": 25910.0, \"deathIncrease\": 18.0, \"positiveRate\": 0.02, \"state\": \"New York\", \"sma7d\": 0.017}, {\"date\": \"2020-11-07T00:00:00\", \"totalTestResultsIncrease\": 163291.0, \"positiveIncrease\": 3587.0, \"death\": 25928.0, \"deathIncrease\": 18.0, \"positiveRate\": 0.022, \"state\": \"New York\", \"sma7d\": 0.018}, {\"date\": \"2020-11-08T00:00:00\", \"totalTestResultsIncrease\": 145642.0, \"positiveIncrease\": 3428.0, \"death\": 25947.0, \"deathIncrease\": 19.0, \"positiveRate\": 0.024, \"state\": \"New York\", \"sma7d\": 0.019}]}}, {\"mode\": \"vega-lite\"});\n",
       "</script>"
      ],
      "text/plain": [
       "alt.LayerChart(...)"
      ]
     },
     "execution_count": 12,
     "metadata": {},
     "output_type": "execute_result"
    }
   ],
   "source": [
    "create_plot(ny, 'positiveRate')"
   ]
  },
  {
   "cell_type": "code",
   "execution_count": 13,
   "metadata": {
    "execution": {
     "iopub.execute_input": "2020-11-09T22:34:43.444059Z",
     "iopub.status.busy": "2020-11-09T22:34:43.443452Z",
     "iopub.status.idle": "2020-11-09T22:34:43.544684Z",
     "shell.execute_reply": "2020-11-09T22:34:43.545231Z"
    },
    "papermill": {
     "duration": 0.123452,
     "end_time": "2020-11-09T22:34:43.545413",
     "exception": false,
     "start_time": "2020-11-09T22:34:43.421961",
     "status": "completed"
    },
    "tags": []
   },
   "outputs": [
    {
     "data": {
      "text/html": [
       "\n",
       "<div id=\"altair-viz-7a6d023a672a485fb1051e5c4661d4cf\"></div>\n",
       "<script type=\"text/javascript\">\n",
       "  (function(spec, embedOpt){\n",
       "    let outputDiv = document.currentScript.previousElementSibling;\n",
       "    if (outputDiv.id !== \"altair-viz-7a6d023a672a485fb1051e5c4661d4cf\") {\n",
       "      outputDiv = document.getElementById(\"altair-viz-7a6d023a672a485fb1051e5c4661d4cf\");\n",
       "    }\n",
       "    const paths = {\n",
       "      \"vega\": \"https://cdn.jsdelivr.net/npm//vega@5?noext\",\n",
       "      \"vega-lib\": \"https://cdn.jsdelivr.net/npm//vega-lib?noext\",\n",
       "      \"vega-lite\": \"https://cdn.jsdelivr.net/npm//vega-lite@4.8.1?noext\",\n",
       "      \"vega-embed\": \"https://cdn.jsdelivr.net/npm//vega-embed@6?noext\",\n",
       "    };\n",
       "\n",
       "    function loadScript(lib) {\n",
       "      return new Promise(function(resolve, reject) {\n",
       "        var s = document.createElement('script');\n",
       "        s.src = paths[lib];\n",
       "        s.async = true;\n",
       "        s.onload = () => resolve(paths[lib]);\n",
       "        s.onerror = () => reject(`Error loading script: ${paths[lib]}`);\n",
       "        document.getElementsByTagName(\"head\")[0].appendChild(s);\n",
       "      });\n",
       "    }\n",
       "\n",
       "    function showError(err) {\n",
       "      outputDiv.innerHTML = `<div class=\"error\" style=\"color:red;\">${err}</div>`;\n",
       "      throw err;\n",
       "    }\n",
       "\n",
       "    function displayChart(vegaEmbed) {\n",
       "      vegaEmbed(outputDiv, spec, embedOpt)\n",
       "        .catch(err => showError(`Javascript Error: ${err.message}<br>This usually means there's a typo in your chart specification. See the javascript console for the full traceback.`));\n",
       "    }\n",
       "\n",
       "    if(typeof define === \"function\" && define.amd) {\n",
       "      requirejs.config({paths});\n",
       "      require([\"vega-embed\"], displayChart, err => showError(`Error loading script: ${err.message}`));\n",
       "    } else if (typeof vegaEmbed === \"function\") {\n",
       "      displayChart(vegaEmbed);\n",
       "    } else {\n",
       "      loadScript(\"vega\")\n",
       "        .then(() => loadScript(\"vega-lite\"))\n",
       "        .then(() => loadScript(\"vega-embed\"))\n",
       "        .catch(showError)\n",
       "        .then(() => displayChart(vegaEmbed));\n",
       "    }\n",
       "  })({\"config\": {\"view\": {\"continuousWidth\": 400, \"continuousHeight\": 300}}, \"layer\": [{\"layer\": [{\"mark\": {\"type\": \"point\", \"size\": 75}, \"encoding\": {\"tooltip\": [{\"type\": \"temporal\", \"field\": \"date\"}, {\"type\": \"quantitative\", \"field\": \"deathIncrease\"}, {\"type\": \"quantitative\", \"field\": \"sma7d\"}], \"x\": {\"type\": \"temporal\", \"field\": \"date\"}, \"y\": {\"type\": \"quantitative\", \"field\": \"deathIncrease\"}}, \"selection\": {\"selector012\": {\"type\": \"interval\", \"bind\": \"scales\", \"encodings\": [\"x\", \"y\"]}}}, {\"mark\": {\"type\": \"line\", \"color\": \"purple\"}, \"encoding\": {\"x\": {\"type\": \"temporal\", \"field\": \"date\"}, \"y\": {\"type\": \"quantitative\", \"field\": \"sma7d\"}}}]}, {\"mark\": {\"type\": \"rule\", \"color\": \"#aaa\"}, \"encoding\": {\"x\": {\"type\": \"temporal\", \"field\": \"date\"}}, \"transform\": [{\"filter\": {\"selection\": \"selector011\"}}]}, {\"mark\": \"circle\", \"encoding\": {\"opacity\": {\"condition\": {\"value\": 1, \"selection\": \"selector011\"}, \"value\": 0}, \"tooltip\": [{\"type\": \"temporal\", \"field\": \"date\"}, {\"type\": \"quantitative\", \"field\": \"deathIncrease\"}, {\"type\": \"quantitative\", \"field\": \"sma7d\"}], \"x\": {\"type\": \"temporal\", \"field\": \"date\"}, \"y\": {\"type\": \"quantitative\", \"field\": \"deathIncrease\"}}, \"selection\": {\"selector011\": {\"type\": \"single\", \"encodings\": [\"x\"], \"on\": \"mouseover\", \"nearest\": true, \"empty\": \"none\"}}}, {\"mark\": {\"type\": \"text\", \"align\": \"left\", \"dx\": 5, \"dy\": -5, \"stroke\": \"white\", \"strokeWidth\": 2}, \"encoding\": {\"text\": {\"type\": \"quantitative\", \"field\": \"deathIncrease\"}, \"tooltip\": [{\"type\": \"temporal\", \"field\": \"date\"}, {\"type\": \"quantitative\", \"field\": \"deathIncrease\"}, {\"type\": \"quantitative\", \"field\": \"sma7d\"}], \"x\": {\"type\": \"temporal\", \"field\": \"date\"}, \"y\": {\"type\": \"quantitative\", \"field\": \"deathIncrease\"}}, \"transform\": [{\"filter\": {\"selection\": \"selector011\"}}]}, {\"mark\": {\"type\": \"text\", \"align\": \"left\", \"dx\": 5, \"dy\": -5}, \"encoding\": {\"text\": {\"type\": \"quantitative\", \"field\": \"deathIncrease\"}, \"tooltip\": [{\"type\": \"temporal\", \"field\": \"date\"}, {\"type\": \"quantitative\", \"field\": \"deathIncrease\"}, {\"type\": \"quantitative\", \"field\": \"sma7d\"}], \"x\": {\"type\": \"temporal\", \"field\": \"date\"}, \"y\": {\"type\": \"quantitative\", \"field\": \"deathIncrease\"}}, \"transform\": [{\"filter\": {\"selection\": \"selector011\"}}]}], \"data\": {\"name\": \"data-d261fce54412951d4cc6f995b34462ca\"}, \"height\": 400, \"title\": \"New York: deathIncrease\", \"width\": 500, \"$schema\": \"https://vega.github.io/schema/vega-lite/v4.8.1.json\", \"datasets\": {\"data-d261fce54412951d4cc6f995b34462ca\": [{\"date\": \"2020-09-15T00:00:00\", \"totalTestResultsIncrease\": 73678.0, \"positiveIncrease\": 766.0, \"death\": 25405.0, \"deathIncrease\": 11.0, \"positiveRate\": 0.01, \"state\": \"New York\", \"sma7d\": 5.429}, {\"date\": \"2020-09-16T00:00:00\", \"totalTestResultsIncrease\": 75087.0, \"positiveIncrease\": 652.0, \"death\": 25410.0, \"deathIncrease\": 5.0, \"positiveRate\": 0.009, \"state\": \"New York\", \"sma7d\": 5.714}, {\"date\": \"2020-09-17T00:00:00\", \"totalTestResultsIncrease\": 91504.0, \"positiveIncrease\": 896.0, \"death\": 25413.0, \"deathIncrease\": 3.0, \"positiveRate\": 0.01, \"state\": \"New York\", \"sma7d\": 5.143}, {\"date\": \"2020-09-18T00:00:00\", \"totalTestResultsIncrease\": 89727.0, \"positiveIncrease\": 790.0, \"death\": 25423.0, \"deathIncrease\": 10.0, \"positiveRate\": 0.009, \"state\": \"New York\", \"sma7d\": 5.857}, {\"date\": \"2020-09-19T00:00:00\", \"totalTestResultsIncrease\": 110444.0, \"positiveIncrease\": 986.0, \"death\": 25425.0, \"deathIncrease\": 2.0, \"positiveRate\": 0.009, \"state\": \"New York\", \"sma7d\": 5.857}, {\"date\": \"2020-09-20T00:00:00\", \"totalTestResultsIncrease\": 100355.0, \"positiveIncrease\": 862.0, \"death\": 25427.0, \"deathIncrease\": 2.0, \"positiveRate\": 0.009, \"state\": \"New York\", \"sma7d\": 5.286}, {\"date\": \"2020-09-21T00:00:00\", \"totalTestResultsIncrease\": 58319.0, \"positiveIncrease\": 573.0, \"death\": 25428.0, \"deathIncrease\": 1.0, \"positiveRate\": 0.01, \"state\": \"New York\", \"sma7d\": 4.857}, {\"date\": \"2020-09-22T00:00:00\", \"totalTestResultsIncrease\": 83997.0, \"positiveIncrease\": 754.0, \"death\": 25432.0, \"deathIncrease\": 4.0, \"positiveRate\": 0.009, \"state\": \"New York\", \"sma7d\": 3.857}, {\"date\": \"2020-09-23T00:00:00\", \"totalTestResultsIncrease\": 70930.0, \"positiveIncrease\": 665.0, \"death\": 25437.0, \"deathIncrease\": 5.0, \"positiveRate\": 0.009, \"state\": \"New York\", \"sma7d\": 3.857}, {\"date\": \"2020-09-24T00:00:00\", \"totalTestResultsIncrease\": 92953.0, \"positiveIncrease\": 955.0, \"death\": 25439.0, \"deathIncrease\": 2.0, \"positiveRate\": 0.01, \"state\": \"New York\", \"sma7d\": 3.714}, {\"date\": \"2020-09-25T00:00:00\", \"totalTestResultsIncrease\": 94818.0, \"positiveIncrease\": 908.0, \"death\": 25446.0, \"deathIncrease\": 7.0, \"positiveRate\": 0.01, \"state\": \"New York\", \"sma7d\": 3.286}, {\"date\": \"2020-09-26T00:00:00\", \"totalTestResultsIncrease\": 99953.0, \"positiveIncrease\": 1005.0, \"death\": 25450.0, \"deathIncrease\": 4.0, \"positiveRate\": 0.01, \"state\": \"New York\", \"sma7d\": 3.571}, {\"date\": \"2020-09-27T00:00:00\", \"totalTestResultsIncrease\": 84770.0, \"positiveIncrease\": 866.0, \"death\": 25456.0, \"deathIncrease\": 6.0, \"positiveRate\": 0.01, \"state\": \"New York\", \"sma7d\": 4.143}, {\"date\": \"2020-09-28T00:00:00\", \"totalTestResultsIncrease\": 52936.0, \"positiveIncrease\": 834.0, \"death\": 25468.0, \"deathIncrease\": 12.0, \"positiveRate\": 0.016, \"state\": \"New York\", \"sma7d\": 5.714}, {\"date\": \"2020-09-29T00:00:00\", \"totalTestResultsIncrease\": 88231.0, \"positiveIncrease\": 1189.0, \"death\": 25470.0, \"deathIncrease\": 2.0, \"positiveRate\": 0.013, \"state\": \"New York\", \"sma7d\": 5.429}, {\"date\": \"2020-09-30T00:00:00\", \"totalTestResultsIncrease\": 97960.0, \"positiveIncrease\": 1000.0, \"death\": 25479.0, \"deathIncrease\": 9.0, \"positiveRate\": 0.01, \"state\": \"New York\", \"sma7d\": 6.0}, {\"date\": \"2020-10-01T00:00:00\", \"totalTestResultsIncrease\": 109218.0, \"positiveIncrease\": 1382.0, \"death\": 25490.0, \"deathIncrease\": 11.0, \"positiveRate\": 0.013, \"state\": \"New York\", \"sma7d\": 7.286}, {\"date\": \"2020-10-02T00:00:00\", \"totalTestResultsIncrease\": 119493.0, \"positiveIncrease\": 1598.0, \"death\": 25497.0, \"deathIncrease\": 7.0, \"positiveRate\": 0.013, \"state\": \"New York\", \"sma7d\": 7.286}, {\"date\": \"2020-10-03T00:00:00\", \"totalTestResultsIncrease\": 134267.0, \"positiveIncrease\": 1731.0, \"death\": 25505.0, \"deathIncrease\": 8.0, \"positiveRate\": 0.013, \"state\": \"New York\", \"sma7d\": 7.857}, {\"date\": \"2020-10-04T00:00:00\", \"totalTestResultsIncrease\": 110329.0, \"positiveIncrease\": 1222.0, \"death\": 25519.0, \"deathIncrease\": 14.0, \"positiveRate\": 0.011, \"state\": \"New York\", \"sma7d\": 9.0}, {\"date\": \"2020-10-05T00:00:00\", \"totalTestResultsIncrease\": 76404.0, \"positiveIncrease\": 933.0, \"death\": 25527.0, \"deathIncrease\": 8.0, \"positiveRate\": 0.012, \"state\": \"New York\", \"sma7d\": 8.429}, {\"date\": \"2020-10-06T00:00:00\", \"totalTestResultsIncrease\": 96359.0, \"positiveIncrease\": 1393.0, \"death\": 25536.0, \"deathIncrease\": 9.0, \"positiveRate\": 0.014, \"state\": \"New York\", \"sma7d\": 9.429}, {\"date\": \"2020-10-07T00:00:00\", \"totalTestResultsIncrease\": 108246.0, \"positiveIncrease\": 1360.0, \"death\": 25545.0, \"deathIncrease\": 9.0, \"positiveRate\": 0.013, \"state\": \"New York\", \"sma7d\": 9.429}, {\"date\": \"2020-10-08T00:00:00\", \"totalTestResultsIncrease\": 145811.0, \"positiveIncrease\": 1836.0, \"death\": 25555.0, \"deathIncrease\": 10.0, \"positiveRate\": 0.013, \"state\": \"New York\", \"sma7d\": 9.286}, {\"date\": \"2020-10-09T00:00:00\", \"totalTestResultsIncrease\": 139300.0, \"positiveIncrease\": 1592.0, \"death\": 25561.0, \"deathIncrease\": 6.0, \"positiveRate\": 0.011, \"state\": \"New York\", \"sma7d\": 9.143}, {\"date\": \"2020-10-10T00:00:00\", \"totalTestResultsIncrease\": 134579.0, \"positiveIncrease\": 1447.0, \"death\": 25569.0, \"deathIncrease\": 8.0, \"positiveRate\": 0.011, \"state\": \"New York\", \"sma7d\": 9.143}, {\"date\": \"2020-10-11T00:00:00\", \"totalTestResultsIncrease\": 118254.0, \"positiveIncrease\": 1143.0, \"death\": 25574.0, \"deathIncrease\": 5.0, \"positiveRate\": 0.01, \"state\": \"New York\", \"sma7d\": 7.857}, {\"date\": \"2020-10-12T00:00:00\", \"totalTestResultsIncrease\": 91793.0, \"positiveIncrease\": 1029.0, \"death\": 25587.0, \"deathIncrease\": 13.0, \"positiveRate\": 0.011, \"state\": \"New York\", \"sma7d\": 8.571}, {\"date\": \"2020-10-13T00:00:00\", \"totalTestResultsIncrease\": 99070.0, \"positiveIncrease\": 1393.0, \"death\": 25598.0, \"deathIncrease\": 11.0, \"positiveRate\": 0.014, \"state\": \"New York\", \"sma7d\": 8.857}, {\"date\": \"2020-10-14T00:00:00\", \"totalTestResultsIncrease\": 111744.0, \"positiveIncrease\": 1232.0, \"death\": 25605.0, \"deathIncrease\": 7.0, \"positiveRate\": 0.011, \"state\": \"New York\", \"sma7d\": 8.571}, {\"date\": \"2020-10-15T00:00:00\", \"totalTestResultsIncrease\": 133212.0, \"positiveIncrease\": 1460.0, \"death\": 25618.0, \"deathIncrease\": 13.0, \"positiveRate\": 0.011, \"state\": \"New York\", \"sma7d\": 9.0}, {\"date\": \"2020-10-16T00:00:00\", \"totalTestResultsIncrease\": 136039.0, \"positiveIncrease\": 1707.0, \"death\": 25628.0, \"deathIncrease\": 10.0, \"positiveRate\": 0.013, \"state\": \"New York\", \"sma7d\": 9.571}, {\"date\": \"2020-10-17T00:00:00\", \"totalTestResultsIncrease\": 159972.0, \"positiveIncrease\": 1784.0, \"death\": 25637.0, \"deathIncrease\": 9.0, \"positiveRate\": 0.011, \"state\": \"New York\", \"sma7d\": 9.714}, {\"date\": \"2020-10-18T00:00:00\", \"totalTestResultsIncrease\": 128763.0, \"positiveIncrease\": 1390.0, \"death\": 25644.0, \"deathIncrease\": 7.0, \"positiveRate\": 0.011, \"state\": \"New York\", \"sma7d\": 10.0}, {\"date\": \"2020-10-19T00:00:00\", \"totalTestResultsIncrease\": 82009.0, \"positiveIncrease\": 998.0, \"death\": 25659.0, \"deathIncrease\": 15.0, \"positiveRate\": 0.012, \"state\": \"New York\", \"sma7d\": 10.286}, {\"date\": \"2020-10-20T00:00:00\", \"totalTestResultsIncrease\": 90540.0, \"positiveIncrease\": 1201.0, \"death\": 25672.0, \"deathIncrease\": 13.0, \"positiveRate\": 0.013, \"state\": \"New York\", \"sma7d\": 10.571}, {\"date\": \"2020-10-21T00:00:00\", \"totalTestResultsIncrease\": 124789.0, \"positiveIncrease\": 2026.0, \"death\": 25679.0, \"deathIncrease\": 7.0, \"positiveRate\": 0.016, \"state\": \"New York\", \"sma7d\": 10.571}, {\"date\": \"2020-10-22T00:00:00\", \"totalTestResultsIncrease\": 135341.0, \"positiveIncrease\": 1628.0, \"death\": 25694.0, \"deathIncrease\": 15.0, \"positiveRate\": 0.012, \"state\": \"New York\", \"sma7d\": 10.857}, {\"date\": \"2020-10-23T00:00:00\", \"totalTestResultsIncrease\": 141508.0, \"positiveIncrease\": 1637.0, \"death\": 25705.0, \"deathIncrease\": 11.0, \"positiveRate\": 0.012, \"state\": \"New York\", \"sma7d\": 11.0}, {\"date\": \"2020-10-24T00:00:00\", \"totalTestResultsIncrease\": 156940.0, \"positiveIncrease\": 2061.0, \"death\": 25718.0, \"deathIncrease\": 13.0, \"positiveRate\": 0.013, \"state\": \"New York\", \"sma7d\": 11.571}, {\"date\": \"2020-10-25T00:00:00\", \"totalTestResultsIncrease\": 120830.0, \"positiveIncrease\": 1632.0, \"death\": 25730.0, \"deathIncrease\": 12.0, \"positiveRate\": 0.014, \"state\": \"New York\", \"sma7d\": 12.286}, {\"date\": \"2020-10-26T00:00:00\", \"totalTestResultsIncrease\": 82117.0, \"positiveIncrease\": 1191.0, \"death\": 25742.0, \"deathIncrease\": 12.0, \"positiveRate\": 0.015, \"state\": \"New York\", \"sma7d\": 11.857}, {\"date\": \"2020-10-27T00:00:00\", \"totalTestResultsIncrease\": 111618.0, \"positiveIncrease\": 1991.0, \"death\": 25758.0, \"deathIncrease\": 16.0, \"positiveRate\": 0.018, \"state\": \"New York\", \"sma7d\": 12.286}, {\"date\": \"2020-10-28T00:00:00\", \"totalTestResultsIncrease\": 129660.0, \"positiveIncrease\": 2031.0, \"death\": 25773.0, \"deathIncrease\": 15.0, \"positiveRate\": 0.016, \"state\": \"New York\", \"sma7d\": 13.429}, {\"date\": \"2020-10-29T00:00:00\", \"totalTestResultsIncrease\": 168353.0, \"positiveIncrease\": 2499.0, \"death\": 25792.0, \"deathIncrease\": 19.0, \"positiveRate\": 0.015, \"state\": \"New York\", \"sma7d\": 14.0}, {\"date\": \"2020-10-30T00:00:00\", \"totalTestResultsIncrease\": 146885.0, \"positiveIncrease\": 2255.0, \"death\": 25804.0, \"deathIncrease\": 12.0, \"positiveRate\": 0.015, \"state\": \"New York\", \"sma7d\": 14.143}, {\"date\": \"2020-10-31T00:00:00\", \"totalTestResultsIncrease\": 136962.0, \"positiveIncrease\": 2049.0, \"death\": 25807.0, \"deathIncrease\": 3.0, \"positiveRate\": 0.015, \"state\": \"New York\", \"sma7d\": 12.714}, {\"date\": \"2020-11-01T00:00:00\", \"totalTestResultsIncrease\": 148935.0, \"positiveIncrease\": 2255.0, \"death\": 25824.0, \"deathIncrease\": 17.0, \"positiveRate\": 0.015, \"state\": \"New York\", \"sma7d\": 13.429}, {\"date\": \"2020-11-02T00:00:00\", \"totalTestResultsIncrease\": 96101.0, \"positiveIncrease\": 1633.0, \"death\": 25838.0, \"deathIncrease\": 14.0, \"positiveRate\": 0.017, \"state\": \"New York\", \"sma7d\": 13.714}, {\"date\": \"2020-11-03T00:00:00\", \"totalTestResultsIncrease\": 127869.0, \"positiveIncrease\": 2321.0, \"death\": 25853.0, \"deathIncrease\": 15.0, \"positiveRate\": 0.018, \"state\": \"New York\", \"sma7d\": 13.571}, {\"date\": \"2020-11-04T00:00:00\", \"totalTestResultsIncrease\": 133534.0, \"positiveIncrease\": 2126.0, \"death\": 25868.0, \"deathIncrease\": 15.0, \"positiveRate\": 0.016, \"state\": \"New York\", \"sma7d\": 13.571}, {\"date\": \"2020-11-05T00:00:00\", \"totalTestResultsIncrease\": 161019.0, \"positiveIncrease\": 2997.0, \"death\": 25892.0, \"deathIncrease\": 24.0, \"positiveRate\": 0.019, \"state\": \"New York\", \"sma7d\": 14.286}, {\"date\": \"2020-11-06T00:00:00\", \"totalTestResultsIncrease\": 160705.0, \"positiveIncrease\": 3209.0, \"death\": 25910.0, \"deathIncrease\": 18.0, \"positiveRate\": 0.02, \"state\": \"New York\", \"sma7d\": 15.143}, {\"date\": \"2020-11-07T00:00:00\", \"totalTestResultsIncrease\": 163291.0, \"positiveIncrease\": 3587.0, \"death\": 25928.0, \"deathIncrease\": 18.0, \"positiveRate\": 0.022, \"state\": \"New York\", \"sma7d\": 17.286}, {\"date\": \"2020-11-08T00:00:00\", \"totalTestResultsIncrease\": 145642.0, \"positiveIncrease\": 3428.0, \"death\": 25947.0, \"deathIncrease\": 19.0, \"positiveRate\": 0.024, \"state\": \"New York\", \"sma7d\": 17.571}]}}, {\"mode\": \"vega-lite\"});\n",
       "</script>"
      ],
      "text/plain": [
       "alt.LayerChart(...)"
      ]
     },
     "execution_count": 13,
     "metadata": {},
     "output_type": "execute_result"
    }
   ],
   "source": [
    "create_plot(ny, 'deathIncrease')"
   ]
  },
  {
   "cell_type": "markdown",
   "metadata": {
    "papermill": {
     "duration": 0.018589,
     "end_time": "2020-11-09T22:34:43.584521",
     "exception": false,
     "start_time": "2020-11-09T22:34:43.565932",
     "status": "completed"
    },
    "tags": []
   },
   "source": [
    "## Non Tri-State"
   ]
  },
  {
   "cell_type": "code",
   "execution_count": 14,
   "metadata": {
    "execution": {
     "iopub.execute_input": "2020-11-09T22:34:43.624044Z",
     "iopub.status.busy": "2020-11-09T22:34:43.623461Z",
     "iopub.status.idle": "2020-11-09T22:34:44.013392Z",
     "shell.execute_reply": "2020-11-09T22:34:44.012849Z"
    },
    "papermill": {
     "duration": 0.411188,
     "end_time": "2020-11-09T22:34:44.013534",
     "exception": false,
     "start_time": "2020-11-09T22:34:43.602346",
     "status": "completed"
    },
    "tags": []
   },
   "outputs": [],
   "source": [
    "non_tristate = create_df(df, lambda d: ~d['state'].isin(['CT','NJ','NY']), 'Non Tri-State')"
   ]
  },
  {
   "cell_type": "code",
   "execution_count": 15,
   "metadata": {
    "execution": {
     "iopub.execute_input": "2020-11-09T22:34:44.055470Z",
     "iopub.status.busy": "2020-11-09T22:34:44.054776Z",
     "iopub.status.idle": "2020-11-09T22:34:44.152618Z",
     "shell.execute_reply": "2020-11-09T22:34:44.153178Z"
    },
    "papermill": {
     "duration": 0.122155,
     "end_time": "2020-11-09T22:34:44.153358",
     "exception": false,
     "start_time": "2020-11-09T22:34:44.031203",
     "status": "completed"
    },
    "tags": []
   },
   "outputs": [
    {
     "data": {
      "text/html": [
       "\n",
       "<div id=\"altair-viz-31bd6c0e9dd24f258f838cd5e98980fd\"></div>\n",
       "<script type=\"text/javascript\">\n",
       "  (function(spec, embedOpt){\n",
       "    let outputDiv = document.currentScript.previousElementSibling;\n",
       "    if (outputDiv.id !== \"altair-viz-31bd6c0e9dd24f258f838cd5e98980fd\") {\n",
       "      outputDiv = document.getElementById(\"altair-viz-31bd6c0e9dd24f258f838cd5e98980fd\");\n",
       "    }\n",
       "    const paths = {\n",
       "      \"vega\": \"https://cdn.jsdelivr.net/npm//vega@5?noext\",\n",
       "      \"vega-lib\": \"https://cdn.jsdelivr.net/npm//vega-lib?noext\",\n",
       "      \"vega-lite\": \"https://cdn.jsdelivr.net/npm//vega-lite@4.8.1?noext\",\n",
       "      \"vega-embed\": \"https://cdn.jsdelivr.net/npm//vega-embed@6?noext\",\n",
       "    };\n",
       "\n",
       "    function loadScript(lib) {\n",
       "      return new Promise(function(resolve, reject) {\n",
       "        var s = document.createElement('script');\n",
       "        s.src = paths[lib];\n",
       "        s.async = true;\n",
       "        s.onload = () => resolve(paths[lib]);\n",
       "        s.onerror = () => reject(`Error loading script: ${paths[lib]}`);\n",
       "        document.getElementsByTagName(\"head\")[0].appendChild(s);\n",
       "      });\n",
       "    }\n",
       "\n",
       "    function showError(err) {\n",
       "      outputDiv.innerHTML = `<div class=\"error\" style=\"color:red;\">${err}</div>`;\n",
       "      throw err;\n",
       "    }\n",
       "\n",
       "    function displayChart(vegaEmbed) {\n",
       "      vegaEmbed(outputDiv, spec, embedOpt)\n",
       "        .catch(err => showError(`Javascript Error: ${err.message}<br>This usually means there's a typo in your chart specification. See the javascript console for the full traceback.`));\n",
       "    }\n",
       "\n",
       "    if(typeof define === \"function\" && define.amd) {\n",
       "      requirejs.config({paths});\n",
       "      require([\"vega-embed\"], displayChart, err => showError(`Error loading script: ${err.message}`));\n",
       "    } else if (typeof vegaEmbed === \"function\") {\n",
       "      displayChart(vegaEmbed);\n",
       "    } else {\n",
       "      loadScript(\"vega\")\n",
       "        .then(() => loadScript(\"vega-lite\"))\n",
       "        .then(() => loadScript(\"vega-embed\"))\n",
       "        .catch(showError)\n",
       "        .then(() => displayChart(vegaEmbed));\n",
       "    }\n",
       "  })({\"config\": {\"view\": {\"continuousWidth\": 400, \"continuousHeight\": 300}}, \"layer\": [{\"layer\": [{\"mark\": {\"type\": \"point\", \"size\": 75}, \"encoding\": {\"tooltip\": [{\"type\": \"temporal\", \"field\": \"date\"}, {\"type\": \"quantitative\", \"field\": \"positiveIncrease\"}, {\"type\": \"quantitative\", \"field\": \"sma7d\"}], \"x\": {\"type\": \"temporal\", \"field\": \"date\"}, \"y\": {\"type\": \"quantitative\", \"field\": \"positiveIncrease\"}}, \"selection\": {\"selector014\": {\"type\": \"interval\", \"bind\": \"scales\", \"encodings\": [\"x\", \"y\"]}}}, {\"mark\": {\"type\": \"line\", \"color\": \"purple\"}, \"encoding\": {\"x\": {\"type\": \"temporal\", \"field\": \"date\"}, \"y\": {\"type\": \"quantitative\", \"field\": \"sma7d\"}}}]}, {\"mark\": {\"type\": \"rule\", \"color\": \"#aaa\"}, \"encoding\": {\"x\": {\"type\": \"temporal\", \"field\": \"date\"}}, \"transform\": [{\"filter\": {\"selection\": \"selector013\"}}]}, {\"mark\": \"circle\", \"encoding\": {\"opacity\": {\"condition\": {\"value\": 1, \"selection\": \"selector013\"}, \"value\": 0}, \"tooltip\": [{\"type\": \"temporal\", \"field\": \"date\"}, {\"type\": \"quantitative\", \"field\": \"positiveIncrease\"}, {\"type\": \"quantitative\", \"field\": \"sma7d\"}], \"x\": {\"type\": \"temporal\", \"field\": \"date\"}, \"y\": {\"type\": \"quantitative\", \"field\": \"positiveIncrease\"}}, \"selection\": {\"selector013\": {\"type\": \"single\", \"encodings\": [\"x\"], \"on\": \"mouseover\", \"nearest\": true, \"empty\": \"none\"}}}, {\"mark\": {\"type\": \"text\", \"align\": \"left\", \"dx\": 5, \"dy\": -5, \"stroke\": \"white\", \"strokeWidth\": 2}, \"encoding\": {\"text\": {\"type\": \"quantitative\", \"field\": \"positiveIncrease\"}, \"tooltip\": [{\"type\": \"temporal\", \"field\": \"date\"}, {\"type\": \"quantitative\", \"field\": \"positiveIncrease\"}, {\"type\": \"quantitative\", \"field\": \"sma7d\"}], \"x\": {\"type\": \"temporal\", \"field\": \"date\"}, \"y\": {\"type\": \"quantitative\", \"field\": \"positiveIncrease\"}}, \"transform\": [{\"filter\": {\"selection\": \"selector013\"}}]}, {\"mark\": {\"type\": \"text\", \"align\": \"left\", \"dx\": 5, \"dy\": -5}, \"encoding\": {\"text\": {\"type\": \"quantitative\", \"field\": \"positiveIncrease\"}, \"tooltip\": [{\"type\": \"temporal\", \"field\": \"date\"}, {\"type\": \"quantitative\", \"field\": \"positiveIncrease\"}, {\"type\": \"quantitative\", \"field\": \"sma7d\"}], \"x\": {\"type\": \"temporal\", \"field\": \"date\"}, \"y\": {\"type\": \"quantitative\", \"field\": \"positiveIncrease\"}}, \"transform\": [{\"filter\": {\"selection\": \"selector013\"}}]}], \"data\": {\"name\": \"data-11fdbf0c51ed67774931fce946d3f78d\"}, \"height\": 400, \"title\": \"Non Tri-State: positiveIncrease\", \"width\": 500, \"$schema\": \"https://vega.github.io/schema/vega-lite/v4.8.1.json\", \"datasets\": {\"data-11fdbf0c51ed67774931fce946d3f78d\": [{\"date\": \"2020-09-15T00:00:00\", \"totalTestResultsIncrease\": 705806.0, \"positiveIncrease\": 33541.0, \"death\": 141667.0, \"deathIncrease\": 1011.0, \"positiveRate\": 0.048, \"state\": \"Non Tri-State\", \"sma7d\": 35502.714}, {\"date\": \"2020-09-16T00:00:00\", \"totalTestResultsIncrease\": 725168.0, \"positiveIncrease\": 38713.0, \"death\": 142851.0, \"deathIncrease\": 1184.0, \"positiveRate\": 0.053, \"state\": \"Non Tri-State\", \"sma7d\": 36736.857}, {\"date\": \"2020-09-17T00:00:00\", \"totalTestResultsIncrease\": 827875.0, \"positiveIncrease\": 41690.0, \"death\": 143707.0, \"deathIncrease\": 856.0, \"positiveRate\": 0.05, \"state\": \"Non Tri-State\", \"sma7d\": 37575.571}, {\"date\": \"2020-09-18T00:00:00\", \"totalTestResultsIncrease\": 963450.0, \"positiveIncrease\": 45703.0, \"death\": 144590.0, \"deathIncrease\": 883.0, \"positiveRate\": 0.047, \"state\": \"Non Tri-State\", \"sma7d\": 37947.286}, {\"date\": \"2020-09-19T00:00:00\", \"totalTestResultsIncrease\": 1065348.0, \"positiveIncrease\": 43439.0, \"death\": 145325.0, \"deathIncrease\": 735.0, \"positiveRate\": 0.041, \"state\": \"Non Tri-State\", \"sma7d\": 38367.143}, {\"date\": \"2020-09-20T00:00:00\", \"totalTestResultsIncrease\": 817618.0, \"positiveIncrease\": 34373.0, \"death\": 145647.0, \"deathIncrease\": 322.0, \"positiveRate\": 0.042, \"state\": \"Non Tri-State\", \"sma7d\": 38522.429}, {\"date\": \"2020-09-21T00:00:00\", \"totalTestResultsIncrease\": 670709.0, \"positiveIncrease\": 37600.0, \"death\": 145928.0, \"deathIncrease\": 281.0, \"positiveRate\": 0.056, \"state\": \"Non Tri-State\", \"sma7d\": 39294.143}, {\"date\": \"2020-09-22T00:00:00\", \"totalTestResultsIncrease\": 710285.0, \"positiveIncrease\": 48035.0, \"death\": 146770.0, \"deathIncrease\": 842.0, \"positiveRate\": 0.068, \"state\": \"Non Tri-State\", \"sma7d\": 41364.714}, {\"date\": \"2020-09-23T00:00:00\", \"totalTestResultsIncrease\": 904254.0, \"positiveIncrease\": 37319.0, \"death\": 147915.0, \"deathIncrease\": 1145.0, \"positiveRate\": 0.041, \"state\": \"Non Tri-State\", \"sma7d\": 41165.571}, {\"date\": \"2020-09-24T00:00:00\", \"totalTestResultsIncrease\": 899957.0, \"positiveIncrease\": 41567.0, \"death\": 148823.0, \"deathIncrease\": 908.0, \"positiveRate\": 0.046, \"state\": \"Non Tri-State\", \"sma7d\": 41148.0}, {\"date\": \"2020-09-25T00:00:00\", \"totalTestResultsIncrease\": 977048.0, \"positiveIncrease\": 53566.0, \"death\": 149652.0, \"deathIncrease\": 829.0, \"positiveRate\": 0.055, \"state\": \"Non Tri-State\", \"sma7d\": 42271.286}, {\"date\": \"2020-09-26T00:00:00\", \"totalTestResultsIncrease\": 989374.0, \"positiveIncrease\": 45825.0, \"death\": 150511.0, \"deathIncrease\": 859.0, \"positiveRate\": 0.046, \"state\": \"Non Tri-State\", \"sma7d\": 42612.143}, {\"date\": \"2020-09-27T00:00:00\", \"totalTestResultsIncrease\": 820110.0, \"positiveIncrease\": 33497.0, \"death\": 150806.0, \"deathIncrease\": 295.0, \"positiveRate\": 0.041, \"state\": \"Non Tri-State\", \"sma7d\": 42487.0}, {\"date\": \"2020-09-28T00:00:00\", \"totalTestResultsIncrease\": 1006182.0, \"positiveIncrease\": 34103.0, \"death\": 151051.0, \"deathIncrease\": 245.0, \"positiveRate\": 0.034, \"state\": \"Non Tri-State\", \"sma7d\": 41987.429}, {\"date\": \"2020-09-29T00:00:00\", \"totalTestResultsIncrease\": 814989.0, \"positiveIncrease\": 34462.0, \"death\": 151776.0, \"deathIncrease\": 725.0, \"positiveRate\": 0.042, \"state\": \"Non Tri-State\", \"sma7d\": 40048.429}, {\"date\": \"2020-09-30T00:00:00\", \"totalTestResultsIncrease\": 747749.0, \"positiveIncrease\": 42334.0, \"death\": 152816.0, \"deathIncrease\": 1040.0, \"positiveRate\": 0.057, \"state\": \"Non Tri-State\", \"sma7d\": 40764.857}, {\"date\": \"2020-10-01T00:00:00\", \"totalTestResultsIncrease\": 877953.0, \"positiveIncrease\": 43293.0, \"death\": 153648.0, \"deathIncrease\": 832.0, \"positiveRate\": 0.049, \"state\": \"Non Tri-State\", \"sma7d\": 41011.429}, {\"date\": \"2020-10-02T00:00:00\", \"totalTestResultsIncrease\": 991651.0, \"positiveIncrease\": 46240.0, \"death\": 154470.0, \"deathIncrease\": 822.0, \"positiveRate\": 0.047, \"state\": \"Non Tri-State\", \"sma7d\": 39964.857}, {\"date\": \"2020-10-03T00:00:00\", \"totalTestResultsIncrease\": 964764.0, \"positiveIncrease\": 48331.0, \"death\": 155199.0, \"deathIncrease\": 729.0, \"positiveRate\": 0.05, \"state\": \"Non Tri-State\", \"sma7d\": 40322.857}, {\"date\": \"2020-10-04T00:00:00\", \"totalTestResultsIncrease\": 857600.0, \"positiveIncrease\": 36439.0, \"death\": 155547.0, \"deathIncrease\": 348.0, \"positiveRate\": 0.042, \"state\": \"Non Tri-State\", \"sma7d\": 40743.143}, {\"date\": \"2020-10-05T00:00:00\", \"totalTestResultsIncrease\": 839855.0, \"positiveIncrease\": 35590.0, \"death\": 155859.0, \"deathIncrease\": 312.0, \"positiveRate\": 0.042, \"state\": \"Non Tri-State\", \"sma7d\": 40955.571}, {\"date\": \"2020-10-06T00:00:00\", \"totalTestResultsIncrease\": 792325.0, \"positiveIncrease\": 36274.0, \"death\": 156471.0, \"deathIncrease\": 612.0, \"positiveRate\": 0.046, \"state\": \"Non Tri-State\", \"sma7d\": 41214.429}, {\"date\": \"2020-10-07T00:00:00\", \"totalTestResultsIncrease\": 834511.0, \"positiveIncrease\": 48565.0, \"death\": 157372.0, \"deathIncrease\": 901.0, \"positiveRate\": 0.058, \"state\": \"Non Tri-State\", \"sma7d\": 42104.571}, {\"date\": \"2020-10-08T00:00:00\", \"totalTestResultsIncrease\": 915584.0, \"positiveIncrease\": 51600.0, \"death\": 158335.0, \"deathIncrease\": 963.0, \"positiveRate\": 0.056, \"state\": \"Non Tri-State\", \"sma7d\": 43291.286}, {\"date\": \"2020-10-09T00:00:00\", \"totalTestResultsIncrease\": 1007929.0, \"positiveIncrease\": 53976.0, \"death\": 159215.0, \"deathIncrease\": 880.0, \"positiveRate\": 0.054, \"state\": \"Non Tri-State\", \"sma7d\": 44396.429}, {\"date\": \"2020-10-10T00:00:00\", \"totalTestResultsIncrease\": 1077622.0, \"positiveIncrease\": 54941.0, \"death\": 159865.0, \"deathIncrease\": 650.0, \"positiveRate\": 0.051, \"state\": \"Non Tri-State\", \"sma7d\": 45340.714}, {\"date\": \"2020-10-11T00:00:00\", \"totalTestResultsIncrease\": 964235.0, \"positiveIncrease\": 44807.0, \"death\": 160323.0, \"deathIncrease\": 458.0, \"positiveRate\": 0.046, \"state\": \"Non Tri-State\", \"sma7d\": 46536.143}, {\"date\": \"2020-10-12T00:00:00\", \"totalTestResultsIncrease\": 814961.0, \"positiveIncrease\": 39938.0, \"death\": 160594.0, \"deathIncrease\": 271.0, \"positiveRate\": 0.049, \"state\": \"Non Tri-State\", \"sma7d\": 47157.286}, {\"date\": \"2020-10-13T00:00:00\", \"totalTestResultsIncrease\": 927362.0, \"positiveIncrease\": 45447.0, \"death\": 161265.0, \"deathIncrease\": 671.0, \"positiveRate\": 0.049, \"state\": \"Non Tri-State\", \"sma7d\": 48467.714}, {\"date\": \"2020-10-14T00:00:00\", \"totalTestResultsIncrease\": 856987.0, \"positiveIncrease\": 53902.0, \"death\": 162056.0, \"deathIncrease\": 791.0, \"positiveRate\": 0.063, \"state\": \"Non Tri-State\", \"sma7d\": 49230.143}, {\"date\": \"2020-10-15T00:00:00\", \"totalTestResultsIncrease\": 919723.0, \"positiveIncrease\": 60253.0, \"death\": 162985.0, \"deathIncrease\": 929.0, \"positiveRate\": 0.066, \"state\": \"Non Tri-State\", \"sma7d\": 50466.286}, {\"date\": \"2020-10-16T00:00:00\", \"totalTestResultsIncrease\": 1029930.0, \"positiveIncrease\": 64621.0, \"death\": 163845.0, \"deathIncrease\": 860.0, \"positiveRate\": 0.063, \"state\": \"Non Tri-State\", \"sma7d\": 51987.0}, {\"date\": \"2020-10-17T00:00:00\", \"totalTestResultsIncrease\": 1100907.0, \"positiveIncrease\": 55030.0, \"death\": 164614.0, \"deathIncrease\": 769.0, \"positiveRate\": 0.05, \"state\": \"Non Tri-State\", \"sma7d\": 51999.714}, {\"date\": \"2020-10-18T00:00:00\", \"totalTestResultsIncrease\": 923995.0, \"positiveIncrease\": 45967.0, \"death\": 164993.0, \"deathIncrease\": 379.0, \"positiveRate\": 0.05, \"state\": \"Non Tri-State\", \"sma7d\": 52165.429}, {\"date\": \"2020-10-19T00:00:00\", \"totalTestResultsIncrease\": 898083.0, \"positiveIncrease\": 53521.0, \"death\": 165419.0, \"deathIncrease\": 426.0, \"positiveRate\": 0.06, \"state\": \"Non Tri-State\", \"sma7d\": 54105.857}, {\"date\": \"2020-10-20T00:00:00\", \"totalTestResultsIncrease\": 825893.0, \"positiveIncrease\": 57689.0, \"death\": 166220.0, \"deathIncrease\": 801.0, \"positiveRate\": 0.07, \"state\": \"Non Tri-State\", \"sma7d\": 55854.714}, {\"date\": \"2020-10-21T00:00:00\", \"totalTestResultsIncrease\": 770059.0, \"positiveIncrease\": 57185.0, \"death\": 167211.0, \"deathIncrease\": 991.0, \"positiveRate\": 0.074, \"state\": \"Non Tri-State\", \"sma7d\": 56323.714}, {\"date\": \"2020-10-22T00:00:00\", \"totalTestResultsIncrease\": 1027591.0, \"positiveIncrease\": 69595.0, \"death\": 168319.0, \"deathIncrease\": 1108.0, \"positiveRate\": 0.068, \"state\": \"Non Tri-State\", \"sma7d\": 57658.286}, {\"date\": \"2020-10-23T00:00:00\", \"totalTestResultsIncrease\": 1173212.0, \"positiveIncrease\": 78901.0, \"death\": 169207.0, \"deathIncrease\": 888.0, \"positiveRate\": 0.067, \"state\": \"Non Tri-State\", \"sma7d\": 59698.286}, {\"date\": \"2020-10-24T00:00:00\", \"totalTestResultsIncrease\": 1162485.0, \"positiveIncrease\": 78775.0, \"death\": 170076.0, \"deathIncrease\": 869.0, \"positiveRate\": 0.068, \"state\": \"Non Tri-State\", \"sma7d\": 63090.429}, {\"date\": \"2020-10-25T00:00:00\", \"totalTestResultsIncrease\": 1024631.0, \"positiveIncrease\": 62331.0, \"death\": 170437.0, \"deathIncrease\": 361.0, \"positiveRate\": 0.061, \"state\": \"Non Tri-State\", \"sma7d\": 65428.143}, {\"date\": \"2020-10-26T00:00:00\", \"totalTestResultsIncrease\": 957666.0, \"positiveIncrease\": 57649.0, \"death\": 170795.0, \"deathIncrease\": 358.0, \"positiveRate\": 0.06, \"state\": \"Non Tri-State\", \"sma7d\": 66017.857}, {\"date\": \"2020-10-27T00:00:00\", \"totalTestResultsIncrease\": 926367.0, \"positiveIncrease\": 68821.0, \"death\": 171690.0, \"deathIncrease\": 895.0, \"positiveRate\": 0.074, \"state\": \"Non Tri-State\", \"sma7d\": 67608.143}, {\"date\": \"2020-10-28T00:00:00\", \"totalTestResultsIncrease\": 902826.0, \"positiveIncrease\": 74450.0, \"death\": 172673.0, \"deathIncrease\": 983.0, \"positiveRate\": 0.082, \"state\": \"Non Tri-State\", \"sma7d\": 70074.571}, {\"date\": \"2020-10-29T00:00:00\", \"totalTestResultsIncrease\": 1084853.0, \"positiveIncrease\": 82625.0, \"death\": 173690.0, \"deathIncrease\": 1017.0, \"positiveRate\": 0.076, \"state\": \"Non Tri-State\", \"sma7d\": 71936.0}, {\"date\": \"2020-10-30T00:00:00\", \"totalTestResultsIncrease\": 1182452.0, \"positiveIncrease\": 91717.0, \"death\": 174597.0, \"deathIncrease\": 907.0, \"positiveRate\": 0.078, \"state\": \"Non Tri-State\", \"sma7d\": 73766.857}, {\"date\": \"2020-10-31T00:00:00\", \"totalTestResultsIncrease\": 1155257.0, \"positiveIncrease\": 87080.0, \"death\": 175546.0, \"deathIncrease\": 949.0, \"positiveRate\": 0.075, \"state\": \"Non Tri-State\", \"sma7d\": 74953.286}, {\"date\": \"2020-11-01T00:00:00\", \"totalTestResultsIncrease\": 988889.0, \"positiveIncrease\": 70053.0, \"death\": 175916.0, \"deathIncrease\": 370.0, \"positiveRate\": 0.071, \"state\": \"Non Tri-State\", \"sma7d\": 76056.429}, {\"date\": \"2020-11-02T00:00:00\", \"totalTestResultsIncrease\": 1088506.0, \"positiveIncrease\": 76596.0, \"death\": 176364.0, \"deathIncrease\": 448.0, \"positiveRate\": 0.07, \"state\": \"Non Tri-State\", \"sma7d\": 78763.143}, {\"date\": \"2020-11-03T00:00:00\", \"totalTestResultsIncrease\": 953067.0, \"positiveIncrease\": 81932.0, \"death\": 177860.0, \"deathIncrease\": 1496.0, \"positiveRate\": 0.086, \"state\": \"Non Tri-State\", \"sma7d\": 80636.143}, {\"date\": \"2020-11-04T00:00:00\", \"totalTestResultsIncrease\": 1037250.0, \"positiveIncrease\": 96994.0, \"death\": 178927.0, \"deathIncrease\": 1067.0, \"positiveRate\": 0.094, \"state\": \"Non Tri-State\", \"sma7d\": 83856.714}, {\"date\": \"2020-11-05T00:00:00\", \"totalTestResultsIncrease\": 1295702.0, \"positiveIncrease\": 109507.0, \"death\": 180004.0, \"deathIncrease\": 1077.0, \"positiveRate\": 0.085, \"state\": \"Non Tri-State\", \"sma7d\": 87697.0}, {\"date\": \"2020-11-06T00:00:00\", \"totalTestResultsIncrease\": 1326252.0, \"positiveIncrease\": 118817.0, \"death\": 181144.0, \"deathIncrease\": 1140.0, \"positiveRate\": 0.09, \"state\": \"Non Tri-State\", \"sma7d\": 91568.429}, {\"date\": \"2020-11-07T00:00:00\", \"totalTestResultsIncrease\": 1142980.0, \"positiveIncrease\": 122402.0, \"death\": 182221.0, \"deathIncrease\": 1077.0, \"positiveRate\": 0.107, \"state\": \"Non Tri-State\", \"sma7d\": 96614.429}, {\"date\": \"2020-11-08T00:00:00\", \"totalTestResultsIncrease\": 1112315.0, \"positiveIncrease\": 105397.0, \"death\": 182685.0, \"deathIncrease\": 464.0, \"positiveRate\": 0.095, \"state\": \"Non Tri-State\", \"sma7d\": 101663.571}]}}, {\"mode\": \"vega-lite\"});\n",
       "</script>"
      ],
      "text/plain": [
       "alt.LayerChart(...)"
      ]
     },
     "execution_count": 15,
     "metadata": {},
     "output_type": "execute_result"
    }
   ],
   "source": [
    "create_plot(non_tristate, 'positiveIncrease')"
   ]
  },
  {
   "cell_type": "code",
   "execution_count": 16,
   "metadata": {
    "execution": {
     "iopub.execute_input": "2020-11-09T22:34:44.193142Z",
     "iopub.status.busy": "2020-11-09T22:34:44.192470Z",
     "iopub.status.idle": "2020-11-09T22:34:44.289327Z",
     "shell.execute_reply": "2020-11-09T22:34:44.289947Z"
    },
    "papermill": {
     "duration": 0.11915,
     "end_time": "2020-11-09T22:34:44.290104",
     "exception": false,
     "start_time": "2020-11-09T22:34:44.170954",
     "status": "completed"
    },
    "tags": []
   },
   "outputs": [
    {
     "data": {
      "text/html": [
       "\n",
       "<div id=\"altair-viz-ee0912edafad4c55b62ee9c85b22eb6b\"></div>\n",
       "<script type=\"text/javascript\">\n",
       "  (function(spec, embedOpt){\n",
       "    let outputDiv = document.currentScript.previousElementSibling;\n",
       "    if (outputDiv.id !== \"altair-viz-ee0912edafad4c55b62ee9c85b22eb6b\") {\n",
       "      outputDiv = document.getElementById(\"altair-viz-ee0912edafad4c55b62ee9c85b22eb6b\");\n",
       "    }\n",
       "    const paths = {\n",
       "      \"vega\": \"https://cdn.jsdelivr.net/npm//vega@5?noext\",\n",
       "      \"vega-lib\": \"https://cdn.jsdelivr.net/npm//vega-lib?noext\",\n",
       "      \"vega-lite\": \"https://cdn.jsdelivr.net/npm//vega-lite@4.8.1?noext\",\n",
       "      \"vega-embed\": \"https://cdn.jsdelivr.net/npm//vega-embed@6?noext\",\n",
       "    };\n",
       "\n",
       "    function loadScript(lib) {\n",
       "      return new Promise(function(resolve, reject) {\n",
       "        var s = document.createElement('script');\n",
       "        s.src = paths[lib];\n",
       "        s.async = true;\n",
       "        s.onload = () => resolve(paths[lib]);\n",
       "        s.onerror = () => reject(`Error loading script: ${paths[lib]}`);\n",
       "        document.getElementsByTagName(\"head\")[0].appendChild(s);\n",
       "      });\n",
       "    }\n",
       "\n",
       "    function showError(err) {\n",
       "      outputDiv.innerHTML = `<div class=\"error\" style=\"color:red;\">${err}</div>`;\n",
       "      throw err;\n",
       "    }\n",
       "\n",
       "    function displayChart(vegaEmbed) {\n",
       "      vegaEmbed(outputDiv, spec, embedOpt)\n",
       "        .catch(err => showError(`Javascript Error: ${err.message}<br>This usually means there's a typo in your chart specification. See the javascript console for the full traceback.`));\n",
       "    }\n",
       "\n",
       "    if(typeof define === \"function\" && define.amd) {\n",
       "      requirejs.config({paths});\n",
       "      require([\"vega-embed\"], displayChart, err => showError(`Error loading script: ${err.message}`));\n",
       "    } else if (typeof vegaEmbed === \"function\") {\n",
       "      displayChart(vegaEmbed);\n",
       "    } else {\n",
       "      loadScript(\"vega\")\n",
       "        .then(() => loadScript(\"vega-lite\"))\n",
       "        .then(() => loadScript(\"vega-embed\"))\n",
       "        .catch(showError)\n",
       "        .then(() => displayChart(vegaEmbed));\n",
       "    }\n",
       "  })({\"config\": {\"view\": {\"continuousWidth\": 400, \"continuousHeight\": 300}}, \"layer\": [{\"layer\": [{\"mark\": {\"type\": \"point\", \"size\": 75}, \"encoding\": {\"tooltip\": [{\"type\": \"temporal\", \"field\": \"date\"}, {\"type\": \"quantitative\", \"field\": \"positiveRate\"}, {\"type\": \"quantitative\", \"field\": \"sma7d\"}], \"x\": {\"type\": \"temporal\", \"field\": \"date\"}, \"y\": {\"type\": \"quantitative\", \"field\": \"positiveRate\"}}, \"selection\": {\"selector016\": {\"type\": \"interval\", \"bind\": \"scales\", \"encodings\": [\"x\", \"y\"]}}}, {\"mark\": {\"type\": \"line\", \"color\": \"purple\"}, \"encoding\": {\"x\": {\"type\": \"temporal\", \"field\": \"date\"}, \"y\": {\"type\": \"quantitative\", \"field\": \"sma7d\"}}}]}, {\"mark\": {\"type\": \"rule\", \"color\": \"#aaa\"}, \"encoding\": {\"x\": {\"type\": \"temporal\", \"field\": \"date\"}}, \"transform\": [{\"filter\": {\"selection\": \"selector015\"}}]}, {\"mark\": \"circle\", \"encoding\": {\"opacity\": {\"condition\": {\"value\": 1, \"selection\": \"selector015\"}, \"value\": 0}, \"tooltip\": [{\"type\": \"temporal\", \"field\": \"date\"}, {\"type\": \"quantitative\", \"field\": \"positiveRate\"}, {\"type\": \"quantitative\", \"field\": \"sma7d\"}], \"x\": {\"type\": \"temporal\", \"field\": \"date\"}, \"y\": {\"type\": \"quantitative\", \"field\": \"positiveRate\"}}, \"selection\": {\"selector015\": {\"type\": \"single\", \"encodings\": [\"x\"], \"on\": \"mouseover\", \"nearest\": true, \"empty\": \"none\"}}}, {\"mark\": {\"type\": \"text\", \"align\": \"left\", \"dx\": 5, \"dy\": -5, \"stroke\": \"white\", \"strokeWidth\": 2}, \"encoding\": {\"text\": {\"type\": \"quantitative\", \"field\": \"positiveRate\"}, \"tooltip\": [{\"type\": \"temporal\", \"field\": \"date\"}, {\"type\": \"quantitative\", \"field\": \"positiveRate\"}, {\"type\": \"quantitative\", \"field\": \"sma7d\"}], \"x\": {\"type\": \"temporal\", \"field\": \"date\"}, \"y\": {\"type\": \"quantitative\", \"field\": \"positiveRate\"}}, \"transform\": [{\"filter\": {\"selection\": \"selector015\"}}]}, {\"mark\": {\"type\": \"text\", \"align\": \"left\", \"dx\": 5, \"dy\": -5}, \"encoding\": {\"text\": {\"type\": \"quantitative\", \"field\": \"positiveRate\"}, \"tooltip\": [{\"type\": \"temporal\", \"field\": \"date\"}, {\"type\": \"quantitative\", \"field\": \"positiveRate\"}, {\"type\": \"quantitative\", \"field\": \"sma7d\"}], \"x\": {\"type\": \"temporal\", \"field\": \"date\"}, \"y\": {\"type\": \"quantitative\", \"field\": \"positiveRate\"}}, \"transform\": [{\"filter\": {\"selection\": \"selector015\"}}]}], \"data\": {\"name\": \"data-8c01108bdaa8e565e6258af3da8ec2b5\"}, \"height\": 400, \"title\": \"Non Tri-State: positiveRate\", \"width\": 500, \"$schema\": \"https://vega.github.io/schema/vega-lite/v4.8.1.json\", \"datasets\": {\"data-8c01108bdaa8e565e6258af3da8ec2b5\": [{\"date\": \"2020-09-15T00:00:00\", \"totalTestResultsIncrease\": 705806.0, \"positiveIncrease\": 33541.0, \"death\": 141667.0, \"deathIncrease\": 1011.0, \"positiveRate\": 0.048, \"state\": \"Non Tri-State\", \"sma7d\": 0.055}, {\"date\": \"2020-09-16T00:00:00\", \"totalTestResultsIncrease\": 725168.0, \"positiveIncrease\": 38713.0, \"death\": 142851.0, \"deathIncrease\": 1184.0, \"positiveRate\": 0.053, \"state\": \"Non Tri-State\", \"sma7d\": 0.056}, {\"date\": \"2020-09-17T00:00:00\", \"totalTestResultsIncrease\": 827875.0, \"positiveIncrease\": 41690.0, \"death\": 143707.0, \"deathIncrease\": 856.0, \"positiveRate\": 0.05, \"state\": \"Non Tri-State\", \"sma7d\": 0.055}, {\"date\": \"2020-09-18T00:00:00\", \"totalTestResultsIncrease\": 963450.0, \"positiveIncrease\": 45703.0, \"death\": 144590.0, \"deathIncrease\": 883.0, \"positiveRate\": 0.047, \"state\": \"Non Tri-State\", \"sma7d\": 0.054}, {\"date\": \"2020-09-19T00:00:00\", \"totalTestResultsIncrease\": 1065348.0, \"positiveIncrease\": 43439.0, \"death\": 145325.0, \"deathIncrease\": 735.0, \"positiveRate\": 0.041, \"state\": \"Non Tri-State\", \"sma7d\": 0.054}, {\"date\": \"2020-09-20T00:00:00\", \"totalTestResultsIncrease\": 817618.0, \"positiveIncrease\": 34373.0, \"death\": 145647.0, \"deathIncrease\": 322.0, \"positiveRate\": 0.042, \"state\": \"Non Tri-State\", \"sma7d\": 0.053}, {\"date\": \"2020-09-21T00:00:00\", \"totalTestResultsIncrease\": 670709.0, \"positiveIncrease\": 37600.0, \"death\": 145928.0, \"deathIncrease\": 281.0, \"positiveRate\": 0.056, \"state\": \"Non Tri-State\", \"sma7d\": 0.048}, {\"date\": \"2020-09-22T00:00:00\", \"totalTestResultsIncrease\": 710285.0, \"positiveIncrease\": 48035.0, \"death\": 146770.0, \"deathIncrease\": 842.0, \"positiveRate\": 0.068, \"state\": \"Non Tri-State\", \"sma7d\": 0.051}, {\"date\": \"2020-09-23T00:00:00\", \"totalTestResultsIncrease\": 904254.0, \"positiveIncrease\": 37319.0, \"death\": 147915.0, \"deathIncrease\": 1145.0, \"positiveRate\": 0.041, \"state\": \"Non Tri-State\", \"sma7d\": 0.049}, {\"date\": \"2020-09-24T00:00:00\", \"totalTestResultsIncrease\": 899957.0, \"positiveIncrease\": 41567.0, \"death\": 148823.0, \"deathIncrease\": 908.0, \"positiveRate\": 0.046, \"state\": \"Non Tri-State\", \"sma7d\": 0.049}, {\"date\": \"2020-09-25T00:00:00\", \"totalTestResultsIncrease\": 977048.0, \"positiveIncrease\": 53566.0, \"death\": 149652.0, \"deathIncrease\": 829.0, \"positiveRate\": 0.055, \"state\": \"Non Tri-State\", \"sma7d\": 0.05}, {\"date\": \"2020-09-26T00:00:00\", \"totalTestResultsIncrease\": 989374.0, \"positiveIncrease\": 45825.0, \"death\": 150511.0, \"deathIncrease\": 859.0, \"positiveRate\": 0.046, \"state\": \"Non Tri-State\", \"sma7d\": 0.051}, {\"date\": \"2020-09-27T00:00:00\", \"totalTestResultsIncrease\": 820110.0, \"positiveIncrease\": 33497.0, \"death\": 150806.0, \"deathIncrease\": 295.0, \"positiveRate\": 0.041, \"state\": \"Non Tri-State\", \"sma7d\": 0.05}, {\"date\": \"2020-09-28T00:00:00\", \"totalTestResultsIncrease\": 1006182.0, \"positiveIncrease\": 34103.0, \"death\": 151051.0, \"deathIncrease\": 245.0, \"positiveRate\": 0.034, \"state\": \"Non Tri-State\", \"sma7d\": 0.047}, {\"date\": \"2020-09-29T00:00:00\", \"totalTestResultsIncrease\": 814989.0, \"positiveIncrease\": 34462.0, \"death\": 151776.0, \"deathIncrease\": 725.0, \"positiveRate\": 0.042, \"state\": \"Non Tri-State\", \"sma7d\": 0.044}, {\"date\": \"2020-09-30T00:00:00\", \"totalTestResultsIncrease\": 747749.0, \"positiveIncrease\": 42334.0, \"death\": 152816.0, \"deathIncrease\": 1040.0, \"positiveRate\": 0.057, \"state\": \"Non Tri-State\", \"sma7d\": 0.046}, {\"date\": \"2020-10-01T00:00:00\", \"totalTestResultsIncrease\": 877953.0, \"positiveIncrease\": 43293.0, \"death\": 153648.0, \"deathIncrease\": 832.0, \"positiveRate\": 0.049, \"state\": \"Non Tri-State\", \"sma7d\": 0.046}, {\"date\": \"2020-10-02T00:00:00\", \"totalTestResultsIncrease\": 991651.0, \"positiveIncrease\": 46240.0, \"death\": 154470.0, \"deathIncrease\": 822.0, \"positiveRate\": 0.047, \"state\": \"Non Tri-State\", \"sma7d\": 0.045}, {\"date\": \"2020-10-03T00:00:00\", \"totalTestResultsIncrease\": 964764.0, \"positiveIncrease\": 48331.0, \"death\": 155199.0, \"deathIncrease\": 729.0, \"positiveRate\": 0.05, \"state\": \"Non Tri-State\", \"sma7d\": 0.046}, {\"date\": \"2020-10-04T00:00:00\", \"totalTestResultsIncrease\": 857600.0, \"positiveIncrease\": 36439.0, \"death\": 155547.0, \"deathIncrease\": 348.0, \"positiveRate\": 0.042, \"state\": \"Non Tri-State\", \"sma7d\": 0.046}, {\"date\": \"2020-10-05T00:00:00\", \"totalTestResultsIncrease\": 839855.0, \"positiveIncrease\": 35590.0, \"death\": 155859.0, \"deathIncrease\": 312.0, \"positiveRate\": 0.042, \"state\": \"Non Tri-State\", \"sma7d\": 0.047}, {\"date\": \"2020-10-06T00:00:00\", \"totalTestResultsIncrease\": 792325.0, \"positiveIncrease\": 36274.0, \"death\": 156471.0, \"deathIncrease\": 612.0, \"positiveRate\": 0.046, \"state\": \"Non Tri-State\", \"sma7d\": 0.048}, {\"date\": \"2020-10-07T00:00:00\", \"totalTestResultsIncrease\": 834511.0, \"positiveIncrease\": 48565.0, \"death\": 157372.0, \"deathIncrease\": 901.0, \"positiveRate\": 0.058, \"state\": \"Non Tri-State\", \"sma7d\": 0.048}, {\"date\": \"2020-10-08T00:00:00\", \"totalTestResultsIncrease\": 915584.0, \"positiveIncrease\": 51600.0, \"death\": 158335.0, \"deathIncrease\": 963.0, \"positiveRate\": 0.056, \"state\": \"Non Tri-State\", \"sma7d\": 0.049}, {\"date\": \"2020-10-09T00:00:00\", \"totalTestResultsIncrease\": 1007929.0, \"positiveIncrease\": 53976.0, \"death\": 159215.0, \"deathIncrease\": 880.0, \"positiveRate\": 0.054, \"state\": \"Non Tri-State\", \"sma7d\": 0.05}, {\"date\": \"2020-10-10T00:00:00\", \"totalTestResultsIncrease\": 1077622.0, \"positiveIncrease\": 54941.0, \"death\": 159865.0, \"deathIncrease\": 650.0, \"positiveRate\": 0.051, \"state\": \"Non Tri-State\", \"sma7d\": 0.05}, {\"date\": \"2020-10-11T00:00:00\", \"totalTestResultsIncrease\": 964235.0, \"positiveIncrease\": 44807.0, \"death\": 160323.0, \"deathIncrease\": 458.0, \"positiveRate\": 0.046, \"state\": \"Non Tri-State\", \"sma7d\": 0.05}, {\"date\": \"2020-10-12T00:00:00\", \"totalTestResultsIncrease\": 814961.0, \"positiveIncrease\": 39938.0, \"death\": 160594.0, \"deathIncrease\": 271.0, \"positiveRate\": 0.049, \"state\": \"Non Tri-State\", \"sma7d\": 0.051}, {\"date\": \"2020-10-13T00:00:00\", \"totalTestResultsIncrease\": 927362.0, \"positiveIncrease\": 45447.0, \"death\": 161265.0, \"deathIncrease\": 671.0, \"positiveRate\": 0.049, \"state\": \"Non Tri-State\", \"sma7d\": 0.052}, {\"date\": \"2020-10-14T00:00:00\", \"totalTestResultsIncrease\": 856987.0, \"positiveIncrease\": 53902.0, \"death\": 162056.0, \"deathIncrease\": 791.0, \"positiveRate\": 0.063, \"state\": \"Non Tri-State\", \"sma7d\": 0.053}, {\"date\": \"2020-10-15T00:00:00\", \"totalTestResultsIncrease\": 919723.0, \"positiveIncrease\": 60253.0, \"death\": 162985.0, \"deathIncrease\": 929.0, \"positiveRate\": 0.066, \"state\": \"Non Tri-State\", \"sma7d\": 0.054}, {\"date\": \"2020-10-16T00:00:00\", \"totalTestResultsIncrease\": 1029930.0, \"positiveIncrease\": 64621.0, \"death\": 163845.0, \"deathIncrease\": 860.0, \"positiveRate\": 0.063, \"state\": \"Non Tri-State\", \"sma7d\": 0.055}, {\"date\": \"2020-10-17T00:00:00\", \"totalTestResultsIncrease\": 1100907.0, \"positiveIncrease\": 55030.0, \"death\": 164614.0, \"deathIncrease\": 769.0, \"positiveRate\": 0.05, \"state\": \"Non Tri-State\", \"sma7d\": 0.055}, {\"date\": \"2020-10-18T00:00:00\", \"totalTestResultsIncrease\": 923995.0, \"positiveIncrease\": 45967.0, \"death\": 164993.0, \"deathIncrease\": 379.0, \"positiveRate\": 0.05, \"state\": \"Non Tri-State\", \"sma7d\": 0.056}, {\"date\": \"2020-10-19T00:00:00\", \"totalTestResultsIncrease\": 898083.0, \"positiveIncrease\": 53521.0, \"death\": 165419.0, \"deathIncrease\": 426.0, \"positiveRate\": 0.06, \"state\": \"Non Tri-State\", \"sma7d\": 0.057}, {\"date\": \"2020-10-20T00:00:00\", \"totalTestResultsIncrease\": 825893.0, \"positiveIncrease\": 57689.0, \"death\": 166220.0, \"deathIncrease\": 801.0, \"positiveRate\": 0.07, \"state\": \"Non Tri-State\", \"sma7d\": 0.06}, {\"date\": \"2020-10-21T00:00:00\", \"totalTestResultsIncrease\": 770059.0, \"positiveIncrease\": 57185.0, \"death\": 167211.0, \"deathIncrease\": 991.0, \"positiveRate\": 0.074, \"state\": \"Non Tri-State\", \"sma7d\": 0.062}, {\"date\": \"2020-10-22T00:00:00\", \"totalTestResultsIncrease\": 1027591.0, \"positiveIncrease\": 69595.0, \"death\": 168319.0, \"deathIncrease\": 1108.0, \"positiveRate\": 0.068, \"state\": \"Non Tri-State\", \"sma7d\": 0.062}, {\"date\": \"2020-10-23T00:00:00\", \"totalTestResultsIncrease\": 1173212.0, \"positiveIncrease\": 78901.0, \"death\": 169207.0, \"deathIncrease\": 888.0, \"positiveRate\": 0.067, \"state\": \"Non Tri-State\", \"sma7d\": 0.063}, {\"date\": \"2020-10-24T00:00:00\", \"totalTestResultsIncrease\": 1162485.0, \"positiveIncrease\": 78775.0, \"death\": 170076.0, \"deathIncrease\": 869.0, \"positiveRate\": 0.068, \"state\": \"Non Tri-State\", \"sma7d\": 0.065}, {\"date\": \"2020-10-25T00:00:00\", \"totalTestResultsIncrease\": 1024631.0, \"positiveIncrease\": 62331.0, \"death\": 170437.0, \"deathIncrease\": 361.0, \"positiveRate\": 0.061, \"state\": \"Non Tri-State\", \"sma7d\": 0.067}, {\"date\": \"2020-10-26T00:00:00\", \"totalTestResultsIncrease\": 957666.0, \"positiveIncrease\": 57649.0, \"death\": 170795.0, \"deathIncrease\": 358.0, \"positiveRate\": 0.06, \"state\": \"Non Tri-State\", \"sma7d\": 0.067}, {\"date\": \"2020-10-27T00:00:00\", \"totalTestResultsIncrease\": 926367.0, \"positiveIncrease\": 68821.0, \"death\": 171690.0, \"deathIncrease\": 895.0, \"positiveRate\": 0.074, \"state\": \"Non Tri-State\", \"sma7d\": 0.067}, {\"date\": \"2020-10-28T00:00:00\", \"totalTestResultsIncrease\": 902826.0, \"positiveIncrease\": 74450.0, \"death\": 172673.0, \"deathIncrease\": 983.0, \"positiveRate\": 0.082, \"state\": \"Non Tri-State\", \"sma7d\": 0.069}, {\"date\": \"2020-10-29T00:00:00\", \"totalTestResultsIncrease\": 1084853.0, \"positiveIncrease\": 82625.0, \"death\": 173690.0, \"deathIncrease\": 1017.0, \"positiveRate\": 0.076, \"state\": \"Non Tri-State\", \"sma7d\": 0.07}, {\"date\": \"2020-10-30T00:00:00\", \"totalTestResultsIncrease\": 1182452.0, \"positiveIncrease\": 91717.0, \"death\": 174597.0, \"deathIncrease\": 907.0, \"positiveRate\": 0.078, \"state\": \"Non Tri-State\", \"sma7d\": 0.071}, {\"date\": \"2020-10-31T00:00:00\", \"totalTestResultsIncrease\": 1155257.0, \"positiveIncrease\": 87080.0, \"death\": 175546.0, \"deathIncrease\": 949.0, \"positiveRate\": 0.075, \"state\": \"Non Tri-State\", \"sma7d\": 0.072}, {\"date\": \"2020-11-01T00:00:00\", \"totalTestResultsIncrease\": 988889.0, \"positiveIncrease\": 70053.0, \"death\": 175916.0, \"deathIncrease\": 370.0, \"positiveRate\": 0.071, \"state\": \"Non Tri-State\", \"sma7d\": 0.074}, {\"date\": \"2020-11-02T00:00:00\", \"totalTestResultsIncrease\": 1088506.0, \"positiveIncrease\": 76596.0, \"death\": 176364.0, \"deathIncrease\": 448.0, \"positiveRate\": 0.07, \"state\": \"Non Tri-State\", \"sma7d\": 0.075}, {\"date\": \"2020-11-03T00:00:00\", \"totalTestResultsIncrease\": 953067.0, \"positiveIncrease\": 81932.0, \"death\": 177860.0, \"deathIncrease\": 1496.0, \"positiveRate\": 0.086, \"state\": \"Non Tri-State\", \"sma7d\": 0.077}, {\"date\": \"2020-11-04T00:00:00\", \"totalTestResultsIncrease\": 1037250.0, \"positiveIncrease\": 96994.0, \"death\": 178927.0, \"deathIncrease\": 1067.0, \"positiveRate\": 0.094, \"state\": \"Non Tri-State\", \"sma7d\": 0.079}, {\"date\": \"2020-11-05T00:00:00\", \"totalTestResultsIncrease\": 1295702.0, \"positiveIncrease\": 109507.0, \"death\": 180004.0, \"deathIncrease\": 1077.0, \"positiveRate\": 0.085, \"state\": \"Non Tri-State\", \"sma7d\": 0.08}, {\"date\": \"2020-11-06T00:00:00\", \"totalTestResultsIncrease\": 1326252.0, \"positiveIncrease\": 118817.0, \"death\": 181144.0, \"deathIncrease\": 1140.0, \"positiveRate\": 0.09, \"state\": \"Non Tri-State\", \"sma7d\": 0.082}, {\"date\": \"2020-11-07T00:00:00\", \"totalTestResultsIncrease\": 1142980.0, \"positiveIncrease\": 122402.0, \"death\": 182221.0, \"deathIncrease\": 1077.0, \"positiveRate\": 0.107, \"state\": \"Non Tri-State\", \"sma7d\": 0.086}, {\"date\": \"2020-11-08T00:00:00\", \"totalTestResultsIncrease\": 1112315.0, \"positiveIncrease\": 105397.0, \"death\": 182685.0, \"deathIncrease\": 464.0, \"positiveRate\": 0.095, \"state\": \"Non Tri-State\", \"sma7d\": 0.09}]}}, {\"mode\": \"vega-lite\"});\n",
       "</script>"
      ],
      "text/plain": [
       "alt.LayerChart(...)"
      ]
     },
     "execution_count": 16,
     "metadata": {},
     "output_type": "execute_result"
    }
   ],
   "source": [
    "create_plot(non_tristate, 'positiveRate')"
   ]
  },
  {
   "cell_type": "code",
   "execution_count": 17,
   "metadata": {
    "execution": {
     "iopub.execute_input": "2020-11-09T22:34:44.350239Z",
     "iopub.status.busy": "2020-11-09T22:34:44.339883Z",
     "iopub.status.idle": "2020-11-09T22:34:44.430630Z",
     "shell.execute_reply": "2020-11-09T22:34:44.429993Z"
    },
    "papermill": {
     "duration": 0.122707,
     "end_time": "2020-11-09T22:34:44.430820",
     "exception": false,
     "start_time": "2020-11-09T22:34:44.308113",
     "status": "completed"
    },
    "tags": []
   },
   "outputs": [
    {
     "data": {
      "text/html": [
       "\n",
       "<div id=\"altair-viz-ed10aa65a2394850a34a6082cd6a66a1\"></div>\n",
       "<script type=\"text/javascript\">\n",
       "  (function(spec, embedOpt){\n",
       "    let outputDiv = document.currentScript.previousElementSibling;\n",
       "    if (outputDiv.id !== \"altair-viz-ed10aa65a2394850a34a6082cd6a66a1\") {\n",
       "      outputDiv = document.getElementById(\"altair-viz-ed10aa65a2394850a34a6082cd6a66a1\");\n",
       "    }\n",
       "    const paths = {\n",
       "      \"vega\": \"https://cdn.jsdelivr.net/npm//vega@5?noext\",\n",
       "      \"vega-lib\": \"https://cdn.jsdelivr.net/npm//vega-lib?noext\",\n",
       "      \"vega-lite\": \"https://cdn.jsdelivr.net/npm//vega-lite@4.8.1?noext\",\n",
       "      \"vega-embed\": \"https://cdn.jsdelivr.net/npm//vega-embed@6?noext\",\n",
       "    };\n",
       "\n",
       "    function loadScript(lib) {\n",
       "      return new Promise(function(resolve, reject) {\n",
       "        var s = document.createElement('script');\n",
       "        s.src = paths[lib];\n",
       "        s.async = true;\n",
       "        s.onload = () => resolve(paths[lib]);\n",
       "        s.onerror = () => reject(`Error loading script: ${paths[lib]}`);\n",
       "        document.getElementsByTagName(\"head\")[0].appendChild(s);\n",
       "      });\n",
       "    }\n",
       "\n",
       "    function showError(err) {\n",
       "      outputDiv.innerHTML = `<div class=\"error\" style=\"color:red;\">${err}</div>`;\n",
       "      throw err;\n",
       "    }\n",
       "\n",
       "    function displayChart(vegaEmbed) {\n",
       "      vegaEmbed(outputDiv, spec, embedOpt)\n",
       "        .catch(err => showError(`Javascript Error: ${err.message}<br>This usually means there's a typo in your chart specification. See the javascript console for the full traceback.`));\n",
       "    }\n",
       "\n",
       "    if(typeof define === \"function\" && define.amd) {\n",
       "      requirejs.config({paths});\n",
       "      require([\"vega-embed\"], displayChart, err => showError(`Error loading script: ${err.message}`));\n",
       "    } else if (typeof vegaEmbed === \"function\") {\n",
       "      displayChart(vegaEmbed);\n",
       "    } else {\n",
       "      loadScript(\"vega\")\n",
       "        .then(() => loadScript(\"vega-lite\"))\n",
       "        .then(() => loadScript(\"vega-embed\"))\n",
       "        .catch(showError)\n",
       "        .then(() => displayChart(vegaEmbed));\n",
       "    }\n",
       "  })({\"config\": {\"view\": {\"continuousWidth\": 400, \"continuousHeight\": 300}}, \"layer\": [{\"layer\": [{\"mark\": {\"type\": \"point\", \"size\": 75}, \"encoding\": {\"tooltip\": [{\"type\": \"temporal\", \"field\": \"date\"}, {\"type\": \"quantitative\", \"field\": \"deathIncrease\"}, {\"type\": \"quantitative\", \"field\": \"sma7d\"}], \"x\": {\"type\": \"temporal\", \"field\": \"date\"}, \"y\": {\"type\": \"quantitative\", \"field\": \"deathIncrease\"}}, \"selection\": {\"selector018\": {\"type\": \"interval\", \"bind\": \"scales\", \"encodings\": [\"x\", \"y\"]}}}, {\"mark\": {\"type\": \"line\", \"color\": \"purple\"}, \"encoding\": {\"x\": {\"type\": \"temporal\", \"field\": \"date\"}, \"y\": {\"type\": \"quantitative\", \"field\": \"sma7d\"}}}]}, {\"mark\": {\"type\": \"rule\", \"color\": \"#aaa\"}, \"encoding\": {\"x\": {\"type\": \"temporal\", \"field\": \"date\"}}, \"transform\": [{\"filter\": {\"selection\": \"selector017\"}}]}, {\"mark\": \"circle\", \"encoding\": {\"opacity\": {\"condition\": {\"value\": 1, \"selection\": \"selector017\"}, \"value\": 0}, \"tooltip\": [{\"type\": \"temporal\", \"field\": \"date\"}, {\"type\": \"quantitative\", \"field\": \"deathIncrease\"}, {\"type\": \"quantitative\", \"field\": \"sma7d\"}], \"x\": {\"type\": \"temporal\", \"field\": \"date\"}, \"y\": {\"type\": \"quantitative\", \"field\": \"deathIncrease\"}}, \"selection\": {\"selector017\": {\"type\": \"single\", \"encodings\": [\"x\"], \"on\": \"mouseover\", \"nearest\": true, \"empty\": \"none\"}}}, {\"mark\": {\"type\": \"text\", \"align\": \"left\", \"dx\": 5, \"dy\": -5, \"stroke\": \"white\", \"strokeWidth\": 2}, \"encoding\": {\"text\": {\"type\": \"quantitative\", \"field\": \"deathIncrease\"}, \"tooltip\": [{\"type\": \"temporal\", \"field\": \"date\"}, {\"type\": \"quantitative\", \"field\": \"deathIncrease\"}, {\"type\": \"quantitative\", \"field\": \"sma7d\"}], \"x\": {\"type\": \"temporal\", \"field\": \"date\"}, \"y\": {\"type\": \"quantitative\", \"field\": \"deathIncrease\"}}, \"transform\": [{\"filter\": {\"selection\": \"selector017\"}}]}, {\"mark\": {\"type\": \"text\", \"align\": \"left\", \"dx\": 5, \"dy\": -5}, \"encoding\": {\"text\": {\"type\": \"quantitative\", \"field\": \"deathIncrease\"}, \"tooltip\": [{\"type\": \"temporal\", \"field\": \"date\"}, {\"type\": \"quantitative\", \"field\": \"deathIncrease\"}, {\"type\": \"quantitative\", \"field\": \"sma7d\"}], \"x\": {\"type\": \"temporal\", \"field\": \"date\"}, \"y\": {\"type\": \"quantitative\", \"field\": \"deathIncrease\"}}, \"transform\": [{\"filter\": {\"selection\": \"selector017\"}}]}], \"data\": {\"name\": \"data-2c3b96eef5db7f64dc1e94bfc6f629ae\"}, \"height\": 400, \"title\": \"Non Tri-State: deathIncrease\", \"width\": 500, \"$schema\": \"https://vega.github.io/schema/vega-lite/v4.8.1.json\", \"datasets\": {\"data-2c3b96eef5db7f64dc1e94bfc6f629ae\": [{\"date\": \"2020-09-15T00:00:00\", \"totalTestResultsIncrease\": 705806.0, \"positiveIncrease\": 33541.0, \"death\": 141667.0, \"deathIncrease\": 1011.0, \"positiveRate\": 0.048, \"state\": \"Non Tri-State\", \"sma7d\": 830.571}, {\"date\": \"2020-09-16T00:00:00\", \"totalTestResultsIncrease\": 725168.0, \"positiveIncrease\": 38713.0, \"death\": 142851.0, \"deathIncrease\": 1184.0, \"positiveRate\": 0.053, \"state\": \"Non Tri-State\", \"sma7d\": 846.429}, {\"date\": \"2020-09-17T00:00:00\", \"totalTestResultsIncrease\": 827875.0, \"positiveIncrease\": 41690.0, \"death\": 143707.0, \"deathIncrease\": 856.0, \"positiveRate\": 0.05, \"state\": \"Non Tri-State\", \"sma7d\": 803.857}, {\"date\": \"2020-09-18T00:00:00\", \"totalTestResultsIncrease\": 963450.0, \"positiveIncrease\": 45703.0, \"death\": 144590.0, \"deathIncrease\": 883.0, \"positiveRate\": 0.047, \"state\": \"Non Tri-State\", \"sma7d\": 786.857}, {\"date\": \"2020-09-19T00:00:00\", \"totalTestResultsIncrease\": 1065348.0, \"positiveIncrease\": 43439.0, \"death\": 145325.0, \"deathIncrease\": 735.0, \"positiveRate\": 0.041, \"state\": \"Non Tri-State\", \"sma7d\": 777.0}, {\"date\": \"2020-09-20T00:00:00\", \"totalTestResultsIncrease\": 817618.0, \"positiveIncrease\": 34373.0, \"death\": 145647.0, \"deathIncrease\": 322.0, \"positiveRate\": 0.042, \"state\": \"Non Tri-State\", \"sma7d\": 768.857}, {\"date\": \"2020-09-21T00:00:00\", \"totalTestResultsIncrease\": 670709.0, \"positiveIncrease\": 37600.0, \"death\": 145928.0, \"deathIncrease\": 281.0, \"positiveRate\": 0.056, \"state\": \"Non Tri-State\", \"sma7d\": 753.143}, {\"date\": \"2020-09-22T00:00:00\", \"totalTestResultsIncrease\": 710285.0, \"positiveIncrease\": 48035.0, \"death\": 146770.0, \"deathIncrease\": 842.0, \"positiveRate\": 0.068, \"state\": \"Non Tri-State\", \"sma7d\": 729.0}, {\"date\": \"2020-09-23T00:00:00\", \"totalTestResultsIncrease\": 904254.0, \"positiveIncrease\": 37319.0, \"death\": 147915.0, \"deathIncrease\": 1145.0, \"positiveRate\": 0.041, \"state\": \"Non Tri-State\", \"sma7d\": 723.429}, {\"date\": \"2020-09-24T00:00:00\", \"totalTestResultsIncrease\": 899957.0, \"positiveIncrease\": 41567.0, \"death\": 148823.0, \"deathIncrease\": 908.0, \"positiveRate\": 0.046, \"state\": \"Non Tri-State\", \"sma7d\": 730.857}, {\"date\": \"2020-09-25T00:00:00\", \"totalTestResultsIncrease\": 977048.0, \"positiveIncrease\": 53566.0, \"death\": 149652.0, \"deathIncrease\": 829.0, \"positiveRate\": 0.055, \"state\": \"Non Tri-State\", \"sma7d\": 723.143}, {\"date\": \"2020-09-26T00:00:00\", \"totalTestResultsIncrease\": 989374.0, \"positiveIncrease\": 45825.0, \"death\": 150511.0, \"deathIncrease\": 859.0, \"positiveRate\": 0.046, \"state\": \"Non Tri-State\", \"sma7d\": 740.857}, {\"date\": \"2020-09-27T00:00:00\", \"totalTestResultsIncrease\": 820110.0, \"positiveIncrease\": 33497.0, \"death\": 150806.0, \"deathIncrease\": 295.0, \"positiveRate\": 0.041, \"state\": \"Non Tri-State\", \"sma7d\": 737.0}, {\"date\": \"2020-09-28T00:00:00\", \"totalTestResultsIncrease\": 1006182.0, \"positiveIncrease\": 34103.0, \"death\": 151051.0, \"deathIncrease\": 245.0, \"positiveRate\": 0.034, \"state\": \"Non Tri-State\", \"sma7d\": 731.857}, {\"date\": \"2020-09-29T00:00:00\", \"totalTestResultsIncrease\": 814989.0, \"positiveIncrease\": 34462.0, \"death\": 151776.0, \"deathIncrease\": 725.0, \"positiveRate\": 0.042, \"state\": \"Non Tri-State\", \"sma7d\": 715.143}, {\"date\": \"2020-09-30T00:00:00\", \"totalTestResultsIncrease\": 747749.0, \"positiveIncrease\": 42334.0, \"death\": 152816.0, \"deathIncrease\": 1040.0, \"positiveRate\": 0.057, \"state\": \"Non Tri-State\", \"sma7d\": 700.143}, {\"date\": \"2020-10-01T00:00:00\", \"totalTestResultsIncrease\": 877953.0, \"positiveIncrease\": 43293.0, \"death\": 153648.0, \"deathIncrease\": 832.0, \"positiveRate\": 0.049, \"state\": \"Non Tri-State\", \"sma7d\": 689.286}, {\"date\": \"2020-10-02T00:00:00\", \"totalTestResultsIncrease\": 991651.0, \"positiveIncrease\": 46240.0, \"death\": 154470.0, \"deathIncrease\": 822.0, \"positiveRate\": 0.047, \"state\": \"Non Tri-State\", \"sma7d\": 688.286}, {\"date\": \"2020-10-03T00:00:00\", \"totalTestResultsIncrease\": 964764.0, \"positiveIncrease\": 48331.0, \"death\": 155199.0, \"deathIncrease\": 729.0, \"positiveRate\": 0.05, \"state\": \"Non Tri-State\", \"sma7d\": 669.714}, {\"date\": \"2020-10-04T00:00:00\", \"totalTestResultsIncrease\": 857600.0, \"positiveIncrease\": 36439.0, \"death\": 155547.0, \"deathIncrease\": 348.0, \"positiveRate\": 0.042, \"state\": \"Non Tri-State\", \"sma7d\": 677.286}, {\"date\": \"2020-10-05T00:00:00\", \"totalTestResultsIncrease\": 839855.0, \"positiveIncrease\": 35590.0, \"death\": 155859.0, \"deathIncrease\": 312.0, \"positiveRate\": 0.042, \"state\": \"Non Tri-State\", \"sma7d\": 686.857}, {\"date\": \"2020-10-06T00:00:00\", \"totalTestResultsIncrease\": 792325.0, \"positiveIncrease\": 36274.0, \"death\": 156471.0, \"deathIncrease\": 612.0, \"positiveRate\": 0.046, \"state\": \"Non Tri-State\", \"sma7d\": 670.714}, {\"date\": \"2020-10-07T00:00:00\", \"totalTestResultsIncrease\": 834511.0, \"positiveIncrease\": 48565.0, \"death\": 157372.0, \"deathIncrease\": 901.0, \"positiveRate\": 0.058, \"state\": \"Non Tri-State\", \"sma7d\": 650.857}, {\"date\": \"2020-10-08T00:00:00\", \"totalTestResultsIncrease\": 915584.0, \"positiveIncrease\": 51600.0, \"death\": 158335.0, \"deathIncrease\": 963.0, \"positiveRate\": 0.056, \"state\": \"Non Tri-State\", \"sma7d\": 669.571}, {\"date\": \"2020-10-09T00:00:00\", \"totalTestResultsIncrease\": 1007929.0, \"positiveIncrease\": 53976.0, \"death\": 159215.0, \"deathIncrease\": 880.0, \"positiveRate\": 0.054, \"state\": \"Non Tri-State\", \"sma7d\": 677.857}, {\"date\": \"2020-10-10T00:00:00\", \"totalTestResultsIncrease\": 1077622.0, \"positiveIncrease\": 54941.0, \"death\": 159865.0, \"deathIncrease\": 650.0, \"positiveRate\": 0.051, \"state\": \"Non Tri-State\", \"sma7d\": 666.571}, {\"date\": \"2020-10-11T00:00:00\", \"totalTestResultsIncrease\": 964235.0, \"positiveIncrease\": 44807.0, \"death\": 160323.0, \"deathIncrease\": 458.0, \"positiveRate\": 0.046, \"state\": \"Non Tri-State\", \"sma7d\": 682.286}, {\"date\": \"2020-10-12T00:00:00\", \"totalTestResultsIncrease\": 814961.0, \"positiveIncrease\": 39938.0, \"death\": 160594.0, \"deathIncrease\": 271.0, \"positiveRate\": 0.049, \"state\": \"Non Tri-State\", \"sma7d\": 676.429}, {\"date\": \"2020-10-13T00:00:00\", \"totalTestResultsIncrease\": 927362.0, \"positiveIncrease\": 45447.0, \"death\": 161265.0, \"deathIncrease\": 671.0, \"positiveRate\": 0.049, \"state\": \"Non Tri-State\", \"sma7d\": 684.857}, {\"date\": \"2020-10-14T00:00:00\", \"totalTestResultsIncrease\": 856987.0, \"positiveIncrease\": 53902.0, \"death\": 162056.0, \"deathIncrease\": 791.0, \"positiveRate\": 0.063, \"state\": \"Non Tri-State\", \"sma7d\": 669.143}, {\"date\": \"2020-10-15T00:00:00\", \"totalTestResultsIncrease\": 919723.0, \"positiveIncrease\": 60253.0, \"death\": 162985.0, \"deathIncrease\": 929.0, \"positiveRate\": 0.066, \"state\": \"Non Tri-State\", \"sma7d\": 664.286}, {\"date\": \"2020-10-16T00:00:00\", \"totalTestResultsIncrease\": 1029930.0, \"positiveIncrease\": 64621.0, \"death\": 163845.0, \"deathIncrease\": 860.0, \"positiveRate\": 0.063, \"state\": \"Non Tri-State\", \"sma7d\": 661.429}, {\"date\": \"2020-10-17T00:00:00\", \"totalTestResultsIncrease\": 1100907.0, \"positiveIncrease\": 55030.0, \"death\": 164614.0, \"deathIncrease\": 769.0, \"positiveRate\": 0.05, \"state\": \"Non Tri-State\", \"sma7d\": 678.429}, {\"date\": \"2020-10-18T00:00:00\", \"totalTestResultsIncrease\": 923995.0, \"positiveIncrease\": 45967.0, \"death\": 164993.0, \"deathIncrease\": 379.0, \"positiveRate\": 0.05, \"state\": \"Non Tri-State\", \"sma7d\": 667.143}, {\"date\": \"2020-10-19T00:00:00\", \"totalTestResultsIncrease\": 898083.0, \"positiveIncrease\": 53521.0, \"death\": 165419.0, \"deathIncrease\": 426.0, \"positiveRate\": 0.06, \"state\": \"Non Tri-State\", \"sma7d\": 689.286}, {\"date\": \"2020-10-20T00:00:00\", \"totalTestResultsIncrease\": 825893.0, \"positiveIncrease\": 57689.0, \"death\": 166220.0, \"deathIncrease\": 801.0, \"positiveRate\": 0.07, \"state\": \"Non Tri-State\", \"sma7d\": 707.857}, {\"date\": \"2020-10-21T00:00:00\", \"totalTestResultsIncrease\": 770059.0, \"positiveIncrease\": 57185.0, \"death\": 167211.0, \"deathIncrease\": 991.0, \"positiveRate\": 0.074, \"state\": \"Non Tri-State\", \"sma7d\": 736.429}, {\"date\": \"2020-10-22T00:00:00\", \"totalTestResultsIncrease\": 1027591.0, \"positiveIncrease\": 69595.0, \"death\": 168319.0, \"deathIncrease\": 1108.0, \"positiveRate\": 0.068, \"state\": \"Non Tri-State\", \"sma7d\": 762.0}, {\"date\": \"2020-10-23T00:00:00\", \"totalTestResultsIncrease\": 1173212.0, \"positiveIncrease\": 78901.0, \"death\": 169207.0, \"deathIncrease\": 888.0, \"positiveRate\": 0.067, \"state\": \"Non Tri-State\", \"sma7d\": 766.0}, {\"date\": \"2020-10-24T00:00:00\", \"totalTestResultsIncrease\": 1162485.0, \"positiveIncrease\": 78775.0, \"death\": 170076.0, \"deathIncrease\": 869.0, \"positiveRate\": 0.068, \"state\": \"Non Tri-State\", \"sma7d\": 780.286}, {\"date\": \"2020-10-25T00:00:00\", \"totalTestResultsIncrease\": 1024631.0, \"positiveIncrease\": 62331.0, \"death\": 170437.0, \"deathIncrease\": 361.0, \"positiveRate\": 0.061, \"state\": \"Non Tri-State\", \"sma7d\": 777.714}, {\"date\": \"2020-10-26T00:00:00\", \"totalTestResultsIncrease\": 957666.0, \"positiveIncrease\": 57649.0, \"death\": 170795.0, \"deathIncrease\": 358.0, \"positiveRate\": 0.06, \"state\": \"Non Tri-State\", \"sma7d\": 768.0}, {\"date\": \"2020-10-27T00:00:00\", \"totalTestResultsIncrease\": 926367.0, \"positiveIncrease\": 68821.0, \"death\": 171690.0, \"deathIncrease\": 895.0, \"positiveRate\": 0.074, \"state\": \"Non Tri-State\", \"sma7d\": 781.429}, {\"date\": \"2020-10-28T00:00:00\", \"totalTestResultsIncrease\": 902826.0, \"positiveIncrease\": 74450.0, \"death\": 172673.0, \"deathIncrease\": 983.0, \"positiveRate\": 0.082, \"state\": \"Non Tri-State\", \"sma7d\": 780.286}, {\"date\": \"2020-10-29T00:00:00\", \"totalTestResultsIncrease\": 1084853.0, \"positiveIncrease\": 82625.0, \"death\": 173690.0, \"deathIncrease\": 1017.0, \"positiveRate\": 0.076, \"state\": \"Non Tri-State\", \"sma7d\": 767.286}, {\"date\": \"2020-10-30T00:00:00\", \"totalTestResultsIncrease\": 1182452.0, \"positiveIncrease\": 91717.0, \"death\": 174597.0, \"deathIncrease\": 907.0, \"positiveRate\": 0.078, \"state\": \"Non Tri-State\", \"sma7d\": 770.0}, {\"date\": \"2020-10-31T00:00:00\", \"totalTestResultsIncrease\": 1155257.0, \"positiveIncrease\": 87080.0, \"death\": 175546.0, \"deathIncrease\": 949.0, \"positiveRate\": 0.075, \"state\": \"Non Tri-State\", \"sma7d\": 781.429}, {\"date\": \"2020-11-01T00:00:00\", \"totalTestResultsIncrease\": 988889.0, \"positiveIncrease\": 70053.0, \"death\": 175916.0, \"deathIncrease\": 370.0, \"positiveRate\": 0.071, \"state\": \"Non Tri-State\", \"sma7d\": 782.714}, {\"date\": \"2020-11-02T00:00:00\", \"totalTestResultsIncrease\": 1088506.0, \"positiveIncrease\": 76596.0, \"death\": 176364.0, \"deathIncrease\": 448.0, \"positiveRate\": 0.07, \"state\": \"Non Tri-State\", \"sma7d\": 795.571}, {\"date\": \"2020-11-03T00:00:00\", \"totalTestResultsIncrease\": 953067.0, \"positiveIncrease\": 81932.0, \"death\": 177860.0, \"deathIncrease\": 1496.0, \"positiveRate\": 0.086, \"state\": \"Non Tri-State\", \"sma7d\": 881.429}, {\"date\": \"2020-11-04T00:00:00\", \"totalTestResultsIncrease\": 1037250.0, \"positiveIncrease\": 96994.0, \"death\": 178927.0, \"deathIncrease\": 1067.0, \"positiveRate\": 0.094, \"state\": \"Non Tri-State\", \"sma7d\": 893.429}, {\"date\": \"2020-11-05T00:00:00\", \"totalTestResultsIncrease\": 1295702.0, \"positiveIncrease\": 109507.0, \"death\": 180004.0, \"deathIncrease\": 1077.0, \"positiveRate\": 0.085, \"state\": \"Non Tri-State\", \"sma7d\": 902.0}, {\"date\": \"2020-11-06T00:00:00\", \"totalTestResultsIncrease\": 1326252.0, \"positiveIncrease\": 118817.0, \"death\": 181144.0, \"deathIncrease\": 1140.0, \"positiveRate\": 0.09, \"state\": \"Non Tri-State\", \"sma7d\": 935.286}, {\"date\": \"2020-11-07T00:00:00\", \"totalTestResultsIncrease\": 1142980.0, \"positiveIncrease\": 122402.0, \"death\": 182221.0, \"deathIncrease\": 1077.0, \"positiveRate\": 0.107, \"state\": \"Non Tri-State\", \"sma7d\": 953.571}, {\"date\": \"2020-11-08T00:00:00\", \"totalTestResultsIncrease\": 1112315.0, \"positiveIncrease\": 105397.0, \"death\": 182685.0, \"deathIncrease\": 464.0, \"positiveRate\": 0.095, \"state\": \"Non Tri-State\", \"sma7d\": 967.0}]}}, {\"mode\": \"vega-lite\"});\n",
       "</script>"
      ],
      "text/plain": [
       "alt.LayerChart(...)"
      ]
     },
     "execution_count": 17,
     "metadata": {},
     "output_type": "execute_result"
    }
   ],
   "source": [
    "create_plot(non_tristate, 'deathIncrease')"
   ]
  }
 ],
 "metadata": {
  "kernelspec": {
   "display_name": "Python 3",
   "language": "python",
   "name": "python3"
  },
  "language_info": {
   "codemirror_mode": {
    "name": "ipython",
    "version": 3
   },
   "file_extension": ".py",
   "mimetype": "text/x-python",
   "name": "python",
   "nbconvert_exporter": "python",
   "pygments_lexer": "ipython3",
   "version": "3.8.6"
  },
  "papermill": {
   "duration": 7.512942,
   "end_time": "2020-11-09T22:34:44.758359",
   "environment_variables": {},
   "exception": null,
   "input_path": "2020-07-19-covid-plots.ipynb",
   "output_path": "2020-07-19-covid-plots.ipynb",
   "parameters": {},
   "start_time": "2020-11-09T22:34:37.245417",
   "version": "2.1.2"
  }
 },
 "nbformat": 4,
 "nbformat_minor": 4
}