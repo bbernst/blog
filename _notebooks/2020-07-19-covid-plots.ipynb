{
 "cells": [
  {
   "cell_type": "markdown",
   "metadata": {},
   "source": [
    "# \"COVID-19 plots\"\n",
    "> \"Interactive plots with daily updates\"\n",
    "\n",
    "- author: bbernst\n",
    "- toc: true\n",
    "- branch: master\n",
    "- badges: true\n",
    "- comments: true\n",
    "- categories: [healthcare, covid]\n",
    "- image: images/covid_plots/covid_mask.png\n",
    "- hide: false\n",
    "- search_exclude: true"
   ]
  },
  {
   "cell_type": "markdown",
   "metadata": {},
   "source": [
    "I wanted to make a simple COVID-19 post to accomplish two main goals:\n",
    "1. Easily see the specific plots I'm interested in\n",
    "1. Update these plots every day, automatically\n",
    "\n",
    "Enter [fastpages](https://github.com/fastai/fastpages) and [github actions](https://github.com/features/actions). I'd been meaning to set up a blog with fastpages for a while and thought this would be a good reason to try it out. The documentation was great and I was able to set up automatic updates by using https://covid19dashboards.com/ as a guide.\n",
    "\n",
    "The data for this post comes from https://covidtracking.com/, which updates by 5pm each day, and I have my dashboard update at 6:30pm. For each geography -- so far that's the US, New York, and Non Tri-State -- I look at daily positive cases, positive rate, and deaths. Be sure to hover around on each of the plots, they have helpful interactive tooltips to make reading the data more intuitive."
   ]
  },
  {
   "cell_type": "code",
   "execution_count": 1,
   "metadata": {},
   "outputs": [],
   "source": [
    "#collapse\n",
    "from typing import Callable, Literal\n",
    "import pandas as pd\n",
    "import altair as alt"
   ]
  },
  {
   "cell_type": "code",
   "execution_count": 2,
   "metadata": {},
   "outputs": [
    {
     "name": "stdout",
     "output_type": "stream",
     "text": [
      "Last updated at (ET): 2020-07-22 09:31:14 PM\n"
     ]
    }
   ],
   "source": [
    "#hide_input\n",
    "current_utc = pd.Timestamp.now(tz='America/New_York').strftime('%Y-%m-%d %I:%M:%S %p')\n",
    "print(f\"Last updated at (ET): {current_utc}\")"
   ]
  },
  {
   "cell_type": "markdown",
   "metadata": {},
   "source": [
    "# Data"
   ]
  },
  {
   "cell_type": "code",
   "execution_count": 3,
   "metadata": {},
   "outputs": [],
   "source": [
    "df = pd.read_csv('https://covidtracking.com/api/states/daily.csv')"
   ]
  },
  {
   "cell_type": "markdown",
   "metadata": {},
   "source": [
    "# Helpers"
   ]
  },
  {
   "cell_type": "code",
   "execution_count": 4,
   "metadata": {},
   "outputs": [],
   "source": [
    "#collapse\n",
    "def create_df(df: pd.DataFrame, \n",
    "              filter_f: Callable, \n",
    "              state_name: str):\n",
    "    out_df = (\n",
    "     df\n",
    "     .assign(date = lambda d: pd.to_datetime(d['date'], format='%Y%m%d'))\n",
    "     .loc[filter_f, :]\n",
    "     .groupby('date')\n",
    "     .apply(lambda d: pd.Series(dict(\n",
    "         totalTestResultsIncrease = d['totalTestResultsIncrease'].sum(),\n",
    "         positiveIncrease = d['positiveIncrease'].sum(),\n",
    "         death = d['death'].sum(),\n",
    "         deathIncrease = d['deathIncrease'].sum()\n",
    "     )))\n",
    "     .reset_index()\n",
    "     .assign(positiveRate = lambda d: round(d['positiveIncrease'] / d['totalTestResultsIncrease'], 3))\n",
    "     .sort_values('date', ascending=True)\n",
    "     .assign(state = state_name)\n",
    "     .reset_index(drop=True)\n",
    "    )\n",
    "    \n",
    "    return out_df"
   ]
  },
  {
   "cell_type": "code",
   "execution_count": 5,
   "metadata": {},
   "outputs": [],
   "source": [
    "#collapse\n",
    "def create_plot(df: pd.DataFrame, \n",
    "                column: Literal['totalTestResultsIncrease', \n",
    "                                'positiveIncrease', \n",
    "                                'death',\n",
    "                                'deathIncrease', \n",
    "                                'positiveRate'],\n",
    "                period: int = 7*8):\n",
    "    df = (\n",
    "     df\n",
    "     .assign(sma7d = lambda d: d[column].rolling(window=7).mean().round(3))\n",
    "     .loc[lambda d: d['date'] >= pd.to_datetime('today') - period * pd.Timedelta('1 days'), :]\n",
    "     .reset_index(drop=True)\n",
    "    )\n",
    "    the_state = df['state'][0]\n",
    "    label = alt.selection_single(\n",
    "        encodings=['x'], on='mouseover', nearest=True, empty='none')\n",
    "    \n",
    "    base = alt.Chart().mark_point(size=75).encode(\n",
    "        x='date:T',\n",
    "        y=f'{column}:Q',\n",
    "        tooltip=['date', f'{column}:Q', 'sma7d:Q']\n",
    "    )\n",
    "\n",
    "    sma = alt.Chart().mark_line(color='purple').encode(\n",
    "        x='date:T',\n",
    "        y='sma7d:Q'\n",
    "    )\n",
    "\n",
    "    layers = alt.layer(\n",
    "        base + sma,\n",
    "\n",
    "        # add a rule mark to serve as a guide line\n",
    "        alt.Chart().mark_rule(color='#aaa').encode(\n",
    "            x='date:T'\n",
    "        ).transform_filter(label),\n",
    "\n",
    "        # add circle marks for selected time points, hide unselected points\n",
    "        base.mark_circle().encode(\n",
    "            opacity=alt.condition(label, alt.value(1), alt.value(0))\n",
    "        ).add_selection(label),\n",
    "\n",
    "        # add white stroked text to provide a legible background for labels\n",
    "        base.mark_text(align='left', dx=5, dy=-5, stroke='white', strokeWidth=2).encode(\n",
    "            text=f'{column}:Q'\n",
    "        ).transform_filter(label),\n",
    "\n",
    "        # add text labels\n",
    "        base.mark_text(align='left', dx=5, dy=-5).encode(\n",
    "            text=f'{column}:Q'\n",
    "        ).transform_filter(label),\n",
    "        \n",
    "        data=df\n",
    "    ).properties(\n",
    "        title=f'{the_state}: {column}',\n",
    "        width=500,\n",
    "        height=400\n",
    "    )\n",
    "    \n",
    "    return layers.interactive()"
   ]
  },
  {
   "cell_type": "markdown",
   "metadata": {},
   "source": [
    "# Plots"
   ]
  },
  {
   "cell_type": "markdown",
   "metadata": {},
   "source": [
    "## US"
   ]
  },
  {
   "cell_type": "code",
   "execution_count": 6,
   "metadata": {},
   "outputs": [],
   "source": [
    "us = create_df(df, lambda d: d.index > 0, 'US')"
   ]
  },
  {
   "cell_type": "code",
   "execution_count": 7,
   "metadata": {},
   "outputs": [
    {
     "data": {
      "text/html": [
       "\n",
       "<div id=\"altair-viz-715b86bf7a134c47a509b5a17ca41f40\"></div>\n",
       "<script type=\"text/javascript\">\n",
       "  (function(spec, embedOpt){\n",
       "    let outputDiv = document.currentScript.previousElementSibling;\n",
       "    if (outputDiv.id !== \"altair-viz-715b86bf7a134c47a509b5a17ca41f40\") {\n",
       "      outputDiv = document.getElementById(\"altair-viz-715b86bf7a134c47a509b5a17ca41f40\");\n",
       "    }\n",
       "    const paths = {\n",
       "      \"vega\": \"https://cdn.jsdelivr.net/npm//vega@5?noext\",\n",
       "      \"vega-lib\": \"https://cdn.jsdelivr.net/npm//vega-lib?noext\",\n",
       "      \"vega-lite\": \"https://cdn.jsdelivr.net/npm//vega-lite@4.8.1?noext\",\n",
       "      \"vega-embed\": \"https://cdn.jsdelivr.net/npm//vega-embed@6?noext\",\n",
       "    };\n",
       "\n",
       "    function loadScript(lib) {\n",
       "      return new Promise(function(resolve, reject) {\n",
       "        var s = document.createElement('script');\n",
       "        s.src = paths[lib];\n",
       "        s.async = true;\n",
       "        s.onload = () => resolve(paths[lib]);\n",
       "        s.onerror = () => reject(`Error loading script: ${paths[lib]}`);\n",
       "        document.getElementsByTagName(\"head\")[0].appendChild(s);\n",
       "      });\n",
       "    }\n",
       "\n",
       "    function showError(err) {\n",
       "      outputDiv.innerHTML = `<div class=\"error\" style=\"color:red;\">${err}</div>`;\n",
       "      throw err;\n",
       "    }\n",
       "\n",
       "    function displayChart(vegaEmbed) {\n",
       "      vegaEmbed(outputDiv, spec, embedOpt)\n",
       "        .catch(err => showError(`Javascript Error: ${err.message}<br>This usually means there's a typo in your chart specification. See the javascript console for the full traceback.`));\n",
       "    }\n",
       "\n",
       "    if(typeof define === \"function\" && define.amd) {\n",
       "      requirejs.config({paths});\n",
       "      require([\"vega-embed\"], displayChart, err => showError(`Error loading script: ${err.message}`));\n",
       "    } else if (typeof vegaEmbed === \"function\") {\n",
       "      displayChart(vegaEmbed);\n",
       "    } else {\n",
       "      loadScript(\"vega\")\n",
       "        .then(() => loadScript(\"vega-lite\"))\n",
       "        .then(() => loadScript(\"vega-embed\"))\n",
       "        .catch(showError)\n",
       "        .then(() => displayChart(vegaEmbed));\n",
       "    }\n",
       "  })({\"config\": {\"view\": {\"continuousWidth\": 400, \"continuousHeight\": 300}}, \"layer\": [{\"layer\": [{\"mark\": {\"type\": \"point\", \"size\": 75}, \"encoding\": {\"tooltip\": [{\"type\": \"temporal\", \"field\": \"date\"}, {\"type\": \"quantitative\", \"field\": \"positiveIncrease\"}, {\"type\": \"quantitative\", \"field\": \"sma7d\"}], \"x\": {\"type\": \"temporal\", \"field\": \"date\"}, \"y\": {\"type\": \"quantitative\", \"field\": \"positiveIncrease\"}}, \"selection\": {\"selector002\": {\"type\": \"interval\", \"bind\": \"scales\", \"encodings\": [\"x\", \"y\"]}}}, {\"mark\": {\"type\": \"line\", \"color\": \"purple\"}, \"encoding\": {\"x\": {\"type\": \"temporal\", \"field\": \"date\"}, \"y\": {\"type\": \"quantitative\", \"field\": \"sma7d\"}}}]}, {\"mark\": {\"type\": \"rule\", \"color\": \"#aaa\"}, \"encoding\": {\"x\": {\"type\": \"temporal\", \"field\": \"date\"}}, \"transform\": [{\"filter\": {\"selection\": \"selector001\"}}]}, {\"mark\": \"circle\", \"encoding\": {\"opacity\": {\"condition\": {\"value\": 1, \"selection\": \"selector001\"}, \"value\": 0}, \"tooltip\": [{\"type\": \"temporal\", \"field\": \"date\"}, {\"type\": \"quantitative\", \"field\": \"positiveIncrease\"}, {\"type\": \"quantitative\", \"field\": \"sma7d\"}], \"x\": {\"type\": \"temporal\", \"field\": \"date\"}, \"y\": {\"type\": \"quantitative\", \"field\": \"positiveIncrease\"}}, \"selection\": {\"selector001\": {\"type\": \"single\", \"encodings\": [\"x\"], \"on\": \"mouseover\", \"nearest\": true, \"empty\": \"none\"}}}, {\"mark\": {\"type\": \"text\", \"align\": \"left\", \"dx\": 5, \"dy\": -5, \"stroke\": \"white\", \"strokeWidth\": 2}, \"encoding\": {\"text\": {\"type\": \"quantitative\", \"field\": \"positiveIncrease\"}, \"tooltip\": [{\"type\": \"temporal\", \"field\": \"date\"}, {\"type\": \"quantitative\", \"field\": \"positiveIncrease\"}, {\"type\": \"quantitative\", \"field\": \"sma7d\"}], \"x\": {\"type\": \"temporal\", \"field\": \"date\"}, \"y\": {\"type\": \"quantitative\", \"field\": \"positiveIncrease\"}}, \"transform\": [{\"filter\": {\"selection\": \"selector001\"}}]}, {\"mark\": {\"type\": \"text\", \"align\": \"left\", \"dx\": 5, \"dy\": -5}, \"encoding\": {\"text\": {\"type\": \"quantitative\", \"field\": \"positiveIncrease\"}, \"tooltip\": [{\"type\": \"temporal\", \"field\": \"date\"}, {\"type\": \"quantitative\", \"field\": \"positiveIncrease\"}, {\"type\": \"quantitative\", \"field\": \"sma7d\"}], \"x\": {\"type\": \"temporal\", \"field\": \"date\"}, \"y\": {\"type\": \"quantitative\", \"field\": \"positiveIncrease\"}}, \"transform\": [{\"filter\": {\"selection\": \"selector001\"}}]}], \"data\": {\"name\": \"data-5177352fa9221024e19252fcfe9cf485\"}, \"height\": 400, \"title\": \"US: positiveIncrease\", \"width\": 500, \"$schema\": \"https://vega.github.io/schema/vega-lite/v4.8.1.json\", \"datasets\": {\"data-5177352fa9221024e19252fcfe9cf485\": [{\"date\": \"2020-05-28T00:00:00\", \"totalTestResultsIncrease\": 434470.0, \"positiveIncrease\": 22601.0, \"death\": 96024.0, \"deathIncrease\": 1226.0, \"positiveRate\": 0.052, \"state\": \"US\", \"sma7d\": 20523.286}, {\"date\": \"2020-05-29T00:00:00\", \"totalTestResultsIncrease\": 487229.0, \"positiveIncrease\": 23522.0, \"death\": 97203.0, \"deathIncrease\": 1179.0, \"positiveRate\": 0.048, \"state\": \"US\", \"sma7d\": 20375.714}, {\"date\": \"2020-05-30T00:00:00\", \"totalTestResultsIncrease\": 425754.0, \"positiveIncrease\": 23762.0, \"death\": 98132.0, \"deathIncrease\": 929.0, \"positiveRate\": 0.056, \"state\": \"US\", \"sma7d\": 20686.0}, {\"date\": \"2020-05-31T00:00:00\", \"totalTestResultsIncrease\": 396171.0, \"positiveIncrease\": 21639.0, \"death\": 98781.0, \"deathIncrease\": 649.0, \"positiveRate\": 0.055, \"state\": \"US\", \"sma7d\": 20905.143}, {\"date\": \"2020-06-01T00:00:00\", \"totalTestResultsIncrease\": 412327.0, \"positiveIncrease\": 20415.0, \"death\": 99446.0, \"deathIncrease\": 665.0, \"positiveRate\": 0.05, \"state\": \"US\", \"sma7d\": 21136.143}, {\"date\": \"2020-06-02T00:00:00\", \"totalTestResultsIncrease\": 418646.0, \"positiveIncrease\": 19982.0, \"death\": 100405.0, \"deathIncrease\": 959.0, \"positiveRate\": 0.048, \"state\": \"US\", \"sma7d\": 21615.143}, {\"date\": \"2020-06-03T00:00:00\", \"totalTestResultsIncrease\": 466714.0, \"positiveIncrease\": 20312.0, \"death\": 101396.0, \"deathIncrease\": 991.0, \"positiveRate\": 0.044, \"state\": \"US\", \"sma7d\": 21747.571}, {\"date\": \"2020-06-04T00:00:00\", \"totalTestResultsIncrease\": 460984.0, \"positiveIncrease\": 20839.0, \"death\": 102284.0, \"deathIncrease\": 888.0, \"positiveRate\": 0.045, \"state\": \"US\", \"sma7d\": 21495.857}, {\"date\": \"2020-06-05T00:00:00\", \"totalTestResultsIncrease\": 506275.0, \"positiveIncrease\": 23352.0, \"death\": 103107.0, \"deathIncrease\": 823.0, \"positiveRate\": 0.046, \"state\": \"US\", \"sma7d\": 21471.571}, {\"date\": \"2020-06-06T00:00:00\", \"totalTestResultsIncrease\": 520251.0, \"positiveIncrease\": 23106.0, \"death\": 103834.0, \"deathIncrease\": 727.0, \"positiveRate\": 0.044, \"state\": \"US\", \"sma7d\": 21377.857}, {\"date\": \"2020-06-07T00:00:00\", \"totalTestResultsIncrease\": 445939.0, \"positiveIncrease\": 18823.0, \"death\": 104280.0, \"deathIncrease\": 446.0, \"positiveRate\": 0.042, \"state\": \"US\", \"sma7d\": 20975.571}, {\"date\": \"2020-06-08T00:00:00\", \"totalTestResultsIncrease\": 395146.0, \"positiveIncrease\": 17012.0, \"death\": 104940.0, \"deathIncrease\": 660.0, \"positiveRate\": 0.043, \"state\": \"US\", \"sma7d\": 20489.429}, {\"date\": \"2020-06-09T00:00:00\", \"totalTestResultsIncrease\": 419724.0, \"positiveIncrease\": 17175.0, \"death\": 105838.0, \"deathIncrease\": 898.0, \"positiveRate\": 0.041, \"state\": \"US\", \"sma7d\": 20088.429}, {\"date\": \"2020-06-10T00:00:00\", \"totalTestResultsIncrease\": 428999.0, \"positiveIncrease\": 20803.0, \"death\": 106723.0, \"deathIncrease\": 885.0, \"positiveRate\": 0.048, \"state\": \"US\", \"sma7d\": 20158.571}, {\"date\": \"2020-06-11T00:00:00\", \"totalTestResultsIncrease\": 459455.0, \"positiveIncrease\": 22032.0, \"death\": 107621.0, \"deathIncrease\": 898.0, \"positiveRate\": 0.048, \"state\": \"US\", \"sma7d\": 20329.0}, {\"date\": \"2020-06-12T00:00:00\", \"totalTestResultsIncrease\": 623125.0, \"positiveIncrease\": 23477.0, \"death\": 108393.0, \"deathIncrease\": 772.0, \"positiveRate\": 0.038, \"state\": \"US\", \"sma7d\": 20346.857}, {\"date\": \"2020-06-13T00:00:00\", \"totalTestResultsIncrease\": 496428.0, \"positiveIncrease\": 25341.0, \"death\": 109084.0, \"deathIncrease\": 691.0, \"positiveRate\": 0.051, \"state\": \"US\", \"sma7d\": 20666.143}, {\"date\": \"2020-06-14T00:00:00\", \"totalTestResultsIncrease\": 485220.0, \"positiveIncrease\": 21373.0, \"death\": 109439.0, \"deathIncrease\": 355.0, \"positiveRate\": 0.044, \"state\": \"US\", \"sma7d\": 21030.429}, {\"date\": \"2020-06-15T00:00:00\", \"totalTestResultsIncrease\": 432811.0, \"positiveIncrease\": 18510.0, \"death\": 109819.0, \"deathIncrease\": 380.0, \"positiveRate\": 0.043, \"state\": \"US\", \"sma7d\": 21244.429}, {\"date\": \"2020-06-16T00:00:00\", \"totalTestResultsIncrease\": 464529.0, \"positiveIncrease\": 23435.0, \"death\": 110548.0, \"deathIncrease\": 729.0, \"positiveRate\": 0.05, \"state\": \"US\", \"sma7d\": 22138.714}, {\"date\": \"2020-06-17T00:00:00\", \"totalTestResultsIncrease\": 485290.0, \"positiveIncrease\": 23873.0, \"death\": 111315.0, \"deathIncrease\": 767.0, \"positiveRate\": 0.049, \"state\": \"US\", \"sma7d\": 22577.286}, {\"date\": \"2020-06-18T00:00:00\", \"totalTestResultsIncrease\": 516193.0, \"positiveIncrease\": 27527.0, \"death\": 112019.0, \"deathIncrease\": 704.0, \"positiveRate\": 0.053, \"state\": \"US\", \"sma7d\": 23362.286}, {\"date\": \"2020-06-19T00:00:00\", \"totalTestResultsIncrease\": 573992.0, \"positiveIncrease\": 31046.0, \"death\": 112674.0, \"deathIncrease\": 655.0, \"positiveRate\": 0.054, \"state\": \"US\", \"sma7d\": 24443.571}, {\"date\": \"2020-06-20T00:00:00\", \"totalTestResultsIncrease\": 559215.0, \"positiveIncrease\": 31994.0, \"death\": 113302.0, \"deathIncrease\": 628.0, \"positiveRate\": 0.057, \"state\": \"US\", \"sma7d\": 25394.0}, {\"date\": \"2020-06-21T00:00:00\", \"totalTestResultsIncrease\": 511098.0, \"positiveIncrease\": 27284.0, \"death\": 113594.0, \"deathIncrease\": 292.0, \"positiveRate\": 0.053, \"state\": \"US\", \"sma7d\": 26238.429}, {\"date\": \"2020-06-22T00:00:00\", \"totalTestResultsIncrease\": 466605.0, \"positiveIncrease\": 27017.0, \"death\": 113877.0, \"deathIncrease\": 283.0, \"positiveRate\": 0.058, \"state\": \"US\", \"sma7d\": 27453.714}, {\"date\": \"2020-06-23T00:00:00\", \"totalTestResultsIncrease\": 491719.0, \"positiveIncrease\": 33021.0, \"death\": 114585.0, \"deathIncrease\": 708.0, \"positiveRate\": 0.067, \"state\": \"US\", \"sma7d\": 28823.143}, {\"date\": \"2020-06-24T00:00:00\", \"totalTestResultsIncrease\": 519202.0, \"positiveIncrease\": 38684.0, \"death\": 115309.0, \"deathIncrease\": 724.0, \"positiveRate\": 0.075, \"state\": \"US\", \"sma7d\": 30939.0}, {\"date\": \"2020-06-25T00:00:00\", \"totalTestResultsIncrease\": 637148.0, \"positiveIncrease\": 39072.0, \"death\": 117810.0, \"deathIncrease\": 2501.0, \"positiveRate\": 0.061, \"state\": \"US\", \"sma7d\": 32588.286}, {\"date\": \"2020-06-26T00:00:00\", \"totalTestResultsIncrease\": 606747.0, \"positiveIncrease\": 44421.0, \"death\": 118446.0, \"deathIncrease\": 636.0, \"positiveRate\": 0.073, \"state\": \"US\", \"sma7d\": 34499.0}, {\"date\": \"2020-06-27T00:00:00\", \"totalTestResultsIncrease\": 599386.0, \"positiveIncrease\": 43783.0, \"death\": 118955.0, \"deathIncrease\": 509.0, \"positiveRate\": 0.073, \"state\": \"US\", \"sma7d\": 36183.143}, {\"date\": \"2020-06-28T00:00:00\", \"totalTestResultsIncrease\": 583898.0, \"positiveIncrease\": 41857.0, \"death\": 119226.0, \"deathIncrease\": 271.0, \"positiveRate\": 0.072, \"state\": \"US\", \"sma7d\": 38265.0}, {\"date\": \"2020-06-29T00:00:00\", \"totalTestResultsIncrease\": 646824.0, \"positiveIncrease\": 39175.0, \"death\": 119556.0, \"deathIncrease\": 330.0, \"positiveRate\": 0.061, \"state\": \"US\", \"sma7d\": 40001.857}, {\"date\": \"2020-06-30T00:00:00\", \"totalTestResultsIncrease\": 624063.0, \"positiveIncrease\": 47462.0, \"death\": 120152.0, \"deathIncrease\": 596.0, \"positiveRate\": 0.076, \"state\": \"US\", \"sma7d\": 42064.857}, {\"date\": \"2020-07-01T00:00:00\", \"totalTestResultsIncrease\": 633286.0, \"positiveIncrease\": 50674.0, \"death\": 120853.0, \"deathIncrease\": 701.0, \"positiveRate\": 0.08, \"state\": \"US\", \"sma7d\": 43777.714}, {\"date\": \"2020-07-02T00:00:00\", \"totalTestResultsIncrease\": 662316.0, \"positiveIncrease\": 53826.0, \"death\": 121550.0, \"deathIncrease\": 697.0, \"positiveRate\": 0.081, \"state\": \"US\", \"sma7d\": 45885.429}, {\"date\": \"2020-07-03T00:00:00\", \"totalTestResultsIncrease\": 710949.0, \"positiveIncrease\": 54223.0, \"death\": 122147.0, \"deathIncrease\": 597.0, \"positiveRate\": 0.076, \"state\": \"US\", \"sma7d\": 47285.714}, {\"date\": \"2020-07-04T00:00:00\", \"totalTestResultsIncrease\": 642171.0, \"positiveIncrease\": 54734.0, \"death\": 122453.0, \"deathIncrease\": 306.0, \"positiveRate\": 0.085, \"state\": \"US\", \"sma7d\": 48850.143}, {\"date\": \"2020-07-05T00:00:00\", \"totalTestResultsIncrease\": 681450.0, \"positiveIncrease\": 45789.0, \"death\": 122662.0, \"deathIncrease\": 209.0, \"positiveRate\": 0.067, \"state\": \"US\", \"sma7d\": 49411.857}, {\"date\": \"2020-07-06T00:00:00\", \"totalTestResultsIncrease\": 501201.0, \"positiveIncrease\": 41600.0, \"death\": 122904.0, \"deathIncrease\": 242.0, \"positiveRate\": 0.083, \"state\": \"US\", \"sma7d\": 49758.286}, {\"date\": \"2020-07-07T00:00:00\", \"totalTestResultsIncrease\": 634791.0, \"positiveIncrease\": 51766.0, \"death\": 123826.0, \"deathIncrease\": 922.0, \"positiveRate\": 0.082, \"state\": \"US\", \"sma7d\": 50373.143}, {\"date\": \"2020-07-08T00:00:00\", \"totalTestResultsIncrease\": 629102.0, \"positiveIncrease\": 62147.0, \"death\": 124723.0, \"deathIncrease\": 897.0, \"positiveRate\": 0.099, \"state\": \"US\", \"sma7d\": 52012.143}, {\"date\": \"2020-07-09T00:00:00\", \"totalTestResultsIncrease\": 703050.0, \"positiveIncrease\": 58836.0, \"death\": 125590.0, \"deathIncrease\": 867.0, \"positiveRate\": 0.084, \"state\": \"US\", \"sma7d\": 52727.857}, {\"date\": \"2020-07-10T00:00:00\", \"totalTestResultsIncrease\": 810806.0, \"positiveIncrease\": 66645.0, \"death\": 126444.0, \"deathIncrease\": 854.0, \"positiveRate\": 0.082, \"state\": \"US\", \"sma7d\": 54502.429}, {\"date\": \"2020-07-11T00:00:00\", \"totalTestResultsIncrease\": 635364.0, \"positiveIncrease\": 63007.0, \"death\": 127201.0, \"deathIncrease\": 757.0, \"positiveRate\": 0.099, \"state\": \"US\", \"sma7d\": 55684.286}, {\"date\": \"2020-07-12T00:00:00\", \"totalTestResultsIncrease\": 758324.0, \"positiveIncrease\": 60978.0, \"death\": 127677.0, \"deathIncrease\": 476.0, \"positiveRate\": 0.08, \"state\": \"US\", \"sma7d\": 57854.143}, {\"date\": \"2020-07-13T00:00:00\", \"totalTestResultsIncrease\": 693576.0, \"positiveIncrease\": 58465.0, \"death\": 128004.0, \"deathIncrease\": 327.0, \"positiveRate\": 0.084, \"state\": \"US\", \"sma7d\": 60263.429}, {\"date\": \"2020-07-14T00:00:00\", \"totalTestResultsIncrease\": 769982.0, \"positiveIncrease\": 62879.0, \"death\": 128740.0, \"deathIncrease\": 736.0, \"positiveRate\": 0.082, \"state\": \"US\", \"sma7d\": 61851.0}, {\"date\": \"2020-07-15T00:00:00\", \"totalTestResultsIncrease\": 761997.0, \"positiveIncrease\": 65382.0, \"death\": 129598.0, \"deathIncrease\": 858.0, \"positiveRate\": 0.086, \"state\": \"US\", \"sma7d\": 62313.143}, {\"date\": \"2020-07-16T00:00:00\", \"totalTestResultsIncrease\": 827564.0, \"positiveIncrease\": 70953.0, \"death\": 130572.0, \"deathIncrease\": 974.0, \"positiveRate\": 0.086, \"state\": \"US\", \"sma7d\": 64044.143}, {\"date\": \"2020-07-17T00:00:00\", \"totalTestResultsIncrease\": 837392.0, \"positiveIncrease\": 77233.0, \"death\": 131523.0, \"deathIncrease\": 951.0, \"positiveRate\": 0.092, \"state\": \"US\", \"sma7d\": 65556.714}, {\"date\": \"2020-07-18T00:00:00\", \"totalTestResultsIncrease\": 761632.0, \"positiveIncrease\": 65180.0, \"death\": 132395.0, \"deathIncrease\": 872.0, \"positiveRate\": 0.086, \"state\": \"US\", \"sma7d\": 65867.143}, {\"date\": \"2020-07-19T00:00:00\", \"totalTestResultsIncrease\": 798508.0, \"positiveIncrease\": 64884.0, \"death\": 132921.0, \"deathIncrease\": 526.0, \"positiveRate\": 0.081, \"state\": \"US\", \"sma7d\": 66425.143}, {\"date\": \"2020-07-20T00:00:00\", \"totalTestResultsIncrease\": 711015.0, \"positiveIncrease\": 56971.0, \"death\": 133283.0, \"deathIncrease\": 362.0, \"positiveRate\": 0.08, \"state\": \"US\", \"sma7d\": 66211.714}, {\"date\": \"2020-07-21T00:00:00\", \"totalTestResultsIncrease\": 749355.0, \"positiveIncrease\": 62749.0, \"death\": 134312.0, \"deathIncrease\": 1029.0, \"positiveRate\": 0.084, \"state\": \"US\", \"sma7d\": 66193.143}, {\"date\": \"2020-07-22T00:00:00\", \"totalTestResultsIncrease\": 789688.0, \"positiveIncrease\": 69949.0, \"death\": 135419.0, \"deathIncrease\": 1125.0, \"positiveRate\": 0.089, \"state\": \"US\", \"sma7d\": 66845.571}]}}, {\"mode\": \"vega-lite\"});\n",
       "</script>"
      ],
      "text/plain": [
       "alt.LayerChart(...)"
      ]
     },
     "execution_count": 7,
     "metadata": {},
     "output_type": "execute_result"
    }
   ],
   "source": [
    "create_plot(us, 'positiveIncrease')"
   ]
  },
  {
   "cell_type": "code",
   "execution_count": 8,
   "metadata": {},
   "outputs": [
    {
     "data": {
      "text/html": [
       "\n",
       "<div id=\"altair-viz-2ffe3f49ca0b4def8bdad3bc60d25090\"></div>\n",
       "<script type=\"text/javascript\">\n",
       "  (function(spec, embedOpt){\n",
       "    let outputDiv = document.currentScript.previousElementSibling;\n",
       "    if (outputDiv.id !== \"altair-viz-2ffe3f49ca0b4def8bdad3bc60d25090\") {\n",
       "      outputDiv = document.getElementById(\"altair-viz-2ffe3f49ca0b4def8bdad3bc60d25090\");\n",
       "    }\n",
       "    const paths = {\n",
       "      \"vega\": \"https://cdn.jsdelivr.net/npm//vega@5?noext\",\n",
       "      \"vega-lib\": \"https://cdn.jsdelivr.net/npm//vega-lib?noext\",\n",
       "      \"vega-lite\": \"https://cdn.jsdelivr.net/npm//vega-lite@4.8.1?noext\",\n",
       "      \"vega-embed\": \"https://cdn.jsdelivr.net/npm//vega-embed@6?noext\",\n",
       "    };\n",
       "\n",
       "    function loadScript(lib) {\n",
       "      return new Promise(function(resolve, reject) {\n",
       "        var s = document.createElement('script');\n",
       "        s.src = paths[lib];\n",
       "        s.async = true;\n",
       "        s.onload = () => resolve(paths[lib]);\n",
       "        s.onerror = () => reject(`Error loading script: ${paths[lib]}`);\n",
       "        document.getElementsByTagName(\"head\")[0].appendChild(s);\n",
       "      });\n",
       "    }\n",
       "\n",
       "    function showError(err) {\n",
       "      outputDiv.innerHTML = `<div class=\"error\" style=\"color:red;\">${err}</div>`;\n",
       "      throw err;\n",
       "    }\n",
       "\n",
       "    function displayChart(vegaEmbed) {\n",
       "      vegaEmbed(outputDiv, spec, embedOpt)\n",
       "        .catch(err => showError(`Javascript Error: ${err.message}<br>This usually means there's a typo in your chart specification. See the javascript console for the full traceback.`));\n",
       "    }\n",
       "\n",
       "    if(typeof define === \"function\" && define.amd) {\n",
       "      requirejs.config({paths});\n",
       "      require([\"vega-embed\"], displayChart, err => showError(`Error loading script: ${err.message}`));\n",
       "    } else if (typeof vegaEmbed === \"function\") {\n",
       "      displayChart(vegaEmbed);\n",
       "    } else {\n",
       "      loadScript(\"vega\")\n",
       "        .then(() => loadScript(\"vega-lite\"))\n",
       "        .then(() => loadScript(\"vega-embed\"))\n",
       "        .catch(showError)\n",
       "        .then(() => displayChart(vegaEmbed));\n",
       "    }\n",
       "  })({\"config\": {\"view\": {\"continuousWidth\": 400, \"continuousHeight\": 300}}, \"layer\": [{\"layer\": [{\"mark\": {\"type\": \"point\", \"size\": 75}, \"encoding\": {\"tooltip\": [{\"type\": \"temporal\", \"field\": \"date\"}, {\"type\": \"quantitative\", \"field\": \"positiveRate\"}, {\"type\": \"quantitative\", \"field\": \"sma7d\"}], \"x\": {\"type\": \"temporal\", \"field\": \"date\"}, \"y\": {\"type\": \"quantitative\", \"field\": \"positiveRate\"}}, \"selection\": {\"selector004\": {\"type\": \"interval\", \"bind\": \"scales\", \"encodings\": [\"x\", \"y\"]}}}, {\"mark\": {\"type\": \"line\", \"color\": \"purple\"}, \"encoding\": {\"x\": {\"type\": \"temporal\", \"field\": \"date\"}, \"y\": {\"type\": \"quantitative\", \"field\": \"sma7d\"}}}]}, {\"mark\": {\"type\": \"rule\", \"color\": \"#aaa\"}, \"encoding\": {\"x\": {\"type\": \"temporal\", \"field\": \"date\"}}, \"transform\": [{\"filter\": {\"selection\": \"selector003\"}}]}, {\"mark\": \"circle\", \"encoding\": {\"opacity\": {\"condition\": {\"value\": 1, \"selection\": \"selector003\"}, \"value\": 0}, \"tooltip\": [{\"type\": \"temporal\", \"field\": \"date\"}, {\"type\": \"quantitative\", \"field\": \"positiveRate\"}, {\"type\": \"quantitative\", \"field\": \"sma7d\"}], \"x\": {\"type\": \"temporal\", \"field\": \"date\"}, \"y\": {\"type\": \"quantitative\", \"field\": \"positiveRate\"}}, \"selection\": {\"selector003\": {\"type\": \"single\", \"encodings\": [\"x\"], \"on\": \"mouseover\", \"nearest\": true, \"empty\": \"none\"}}}, {\"mark\": {\"type\": \"text\", \"align\": \"left\", \"dx\": 5, \"dy\": -5, \"stroke\": \"white\", \"strokeWidth\": 2}, \"encoding\": {\"text\": {\"type\": \"quantitative\", \"field\": \"positiveRate\"}, \"tooltip\": [{\"type\": \"temporal\", \"field\": \"date\"}, {\"type\": \"quantitative\", \"field\": \"positiveRate\"}, {\"type\": \"quantitative\", \"field\": \"sma7d\"}], \"x\": {\"type\": \"temporal\", \"field\": \"date\"}, \"y\": {\"type\": \"quantitative\", \"field\": \"positiveRate\"}}, \"transform\": [{\"filter\": {\"selection\": \"selector003\"}}]}, {\"mark\": {\"type\": \"text\", \"align\": \"left\", \"dx\": 5, \"dy\": -5}, \"encoding\": {\"text\": {\"type\": \"quantitative\", \"field\": \"positiveRate\"}, \"tooltip\": [{\"type\": \"temporal\", \"field\": \"date\"}, {\"type\": \"quantitative\", \"field\": \"positiveRate\"}, {\"type\": \"quantitative\", \"field\": \"sma7d\"}], \"x\": {\"type\": \"temporal\", \"field\": \"date\"}, \"y\": {\"type\": \"quantitative\", \"field\": \"positiveRate\"}}, \"transform\": [{\"filter\": {\"selection\": \"selector003\"}}]}], \"data\": {\"name\": \"data-0fb78ecdb9285f54a578643698d589e9\"}, \"height\": 400, \"title\": \"US: positiveRate\", \"width\": 500, \"$schema\": \"https://vega.github.io/schema/vega-lite/v4.8.1.json\", \"datasets\": {\"data-0fb78ecdb9285f54a578643698d589e9\": [{\"date\": \"2020-05-28T00:00:00\", \"totalTestResultsIncrease\": 434470.0, \"positiveIncrease\": 22601.0, \"death\": 96024.0, \"deathIncrease\": 1226.0, \"positiveRate\": 0.052, \"state\": \"US\", \"sma7d\": 0.054}, {\"date\": \"2020-05-29T00:00:00\", \"totalTestResultsIncrease\": 487229.0, \"positiveIncrease\": 23522.0, \"death\": 97203.0, \"deathIncrease\": 1179.0, \"positiveRate\": 0.048, \"state\": \"US\", \"sma7d\": 0.053}, {\"date\": \"2020-05-30T00:00:00\", \"totalTestResultsIncrease\": 425754.0, \"positiveIncrease\": 23762.0, \"death\": 98132.0, \"deathIncrease\": 929.0, \"positiveRate\": 0.056, \"state\": \"US\", \"sma7d\": 0.053}, {\"date\": \"2020-05-31T00:00:00\", \"totalTestResultsIncrease\": 396171.0, \"positiveIncrease\": 21639.0, \"death\": 98781.0, \"deathIncrease\": 649.0, \"positiveRate\": 0.055, \"state\": \"US\", \"sma7d\": 0.053}, {\"date\": \"2020-06-01T00:00:00\", \"totalTestResultsIncrease\": 412327.0, \"positiveIncrease\": 20415.0, \"death\": 99446.0, \"deathIncrease\": 665.0, \"positiveRate\": 0.05, \"state\": \"US\", \"sma7d\": 0.054}, {\"date\": \"2020-06-02T00:00:00\", \"totalTestResultsIncrease\": 418646.0, \"positiveIncrease\": 19982.0, \"death\": 100405.0, \"deathIncrease\": 959.0, \"positiveRate\": 0.048, \"state\": \"US\", \"sma7d\": 0.053}, {\"date\": \"2020-06-03T00:00:00\", \"totalTestResultsIncrease\": 466714.0, \"positiveIncrease\": 20312.0, \"death\": 101396.0, \"deathIncrease\": 991.0, \"positiveRate\": 0.044, \"state\": \"US\", \"sma7d\": 0.05}, {\"date\": \"2020-06-04T00:00:00\", \"totalTestResultsIncrease\": 460984.0, \"positiveIncrease\": 20839.0, \"death\": 102284.0, \"deathIncrease\": 888.0, \"positiveRate\": 0.045, \"state\": \"US\", \"sma7d\": 0.049}, {\"date\": \"2020-06-05T00:00:00\", \"totalTestResultsIncrease\": 506275.0, \"positiveIncrease\": 23352.0, \"death\": 103107.0, \"deathIncrease\": 823.0, \"positiveRate\": 0.046, \"state\": \"US\", \"sma7d\": 0.049}, {\"date\": \"2020-06-06T00:00:00\", \"totalTestResultsIncrease\": 520251.0, \"positiveIncrease\": 23106.0, \"death\": 103834.0, \"deathIncrease\": 727.0, \"positiveRate\": 0.044, \"state\": \"US\", \"sma7d\": 0.047}, {\"date\": \"2020-06-07T00:00:00\", \"totalTestResultsIncrease\": 445939.0, \"positiveIncrease\": 18823.0, \"death\": 104280.0, \"deathIncrease\": 446.0, \"positiveRate\": 0.042, \"state\": \"US\", \"sma7d\": 0.046}, {\"date\": \"2020-06-08T00:00:00\", \"totalTestResultsIncrease\": 395146.0, \"positiveIncrease\": 17012.0, \"death\": 104940.0, \"deathIncrease\": 660.0, \"positiveRate\": 0.043, \"state\": \"US\", \"sma7d\": 0.045}, {\"date\": \"2020-06-09T00:00:00\", \"totalTestResultsIncrease\": 419724.0, \"positiveIncrease\": 17175.0, \"death\": 105838.0, \"deathIncrease\": 898.0, \"positiveRate\": 0.041, \"state\": \"US\", \"sma7d\": 0.044}, {\"date\": \"2020-06-10T00:00:00\", \"totalTestResultsIncrease\": 428999.0, \"positiveIncrease\": 20803.0, \"death\": 106723.0, \"deathIncrease\": 885.0, \"positiveRate\": 0.048, \"state\": \"US\", \"sma7d\": 0.044}, {\"date\": \"2020-06-11T00:00:00\", \"totalTestResultsIncrease\": 459455.0, \"positiveIncrease\": 22032.0, \"death\": 107621.0, \"deathIncrease\": 898.0, \"positiveRate\": 0.048, \"state\": \"US\", \"sma7d\": 0.045}, {\"date\": \"2020-06-12T00:00:00\", \"totalTestResultsIncrease\": 623125.0, \"positiveIncrease\": 23477.0, \"death\": 108393.0, \"deathIncrease\": 772.0, \"positiveRate\": 0.038, \"state\": \"US\", \"sma7d\": 0.043}, {\"date\": \"2020-06-13T00:00:00\", \"totalTestResultsIncrease\": 496428.0, \"positiveIncrease\": 25341.0, \"death\": 109084.0, \"deathIncrease\": 691.0, \"positiveRate\": 0.051, \"state\": \"US\", \"sma7d\": 0.044}, {\"date\": \"2020-06-14T00:00:00\", \"totalTestResultsIncrease\": 485220.0, \"positiveIncrease\": 21373.0, \"death\": 109439.0, \"deathIncrease\": 355.0, \"positiveRate\": 0.044, \"state\": \"US\", \"sma7d\": 0.045}, {\"date\": \"2020-06-15T00:00:00\", \"totalTestResultsIncrease\": 432811.0, \"positiveIncrease\": 18510.0, \"death\": 109819.0, \"deathIncrease\": 380.0, \"positiveRate\": 0.043, \"state\": \"US\", \"sma7d\": 0.045}, {\"date\": \"2020-06-16T00:00:00\", \"totalTestResultsIncrease\": 464529.0, \"positiveIncrease\": 23435.0, \"death\": 110548.0, \"deathIncrease\": 729.0, \"positiveRate\": 0.05, \"state\": \"US\", \"sma7d\": 0.046}, {\"date\": \"2020-06-17T00:00:00\", \"totalTestResultsIncrease\": 485290.0, \"positiveIncrease\": 23873.0, \"death\": 111315.0, \"deathIncrease\": 767.0, \"positiveRate\": 0.049, \"state\": \"US\", \"sma7d\": 0.046}, {\"date\": \"2020-06-18T00:00:00\", \"totalTestResultsIncrease\": 516193.0, \"positiveIncrease\": 27527.0, \"death\": 112019.0, \"deathIncrease\": 704.0, \"positiveRate\": 0.053, \"state\": \"US\", \"sma7d\": 0.047}, {\"date\": \"2020-06-19T00:00:00\", \"totalTestResultsIncrease\": 573992.0, \"positiveIncrease\": 31046.0, \"death\": 112674.0, \"deathIncrease\": 655.0, \"positiveRate\": 0.054, \"state\": \"US\", \"sma7d\": 0.049}, {\"date\": \"2020-06-20T00:00:00\", \"totalTestResultsIncrease\": 559215.0, \"positiveIncrease\": 31994.0, \"death\": 113302.0, \"deathIncrease\": 628.0, \"positiveRate\": 0.057, \"state\": \"US\", \"sma7d\": 0.05}, {\"date\": \"2020-06-21T00:00:00\", \"totalTestResultsIncrease\": 511098.0, \"positiveIncrease\": 27284.0, \"death\": 113594.0, \"deathIncrease\": 292.0, \"positiveRate\": 0.053, \"state\": \"US\", \"sma7d\": 0.051}, {\"date\": \"2020-06-22T00:00:00\", \"totalTestResultsIncrease\": 466605.0, \"positiveIncrease\": 27017.0, \"death\": 113877.0, \"deathIncrease\": 283.0, \"positiveRate\": 0.058, \"state\": \"US\", \"sma7d\": 0.053}, {\"date\": \"2020-06-23T00:00:00\", \"totalTestResultsIncrease\": 491719.0, \"positiveIncrease\": 33021.0, \"death\": 114585.0, \"deathIncrease\": 708.0, \"positiveRate\": 0.067, \"state\": \"US\", \"sma7d\": 0.056}, {\"date\": \"2020-06-24T00:00:00\", \"totalTestResultsIncrease\": 519202.0, \"positiveIncrease\": 38684.0, \"death\": 115309.0, \"deathIncrease\": 724.0, \"positiveRate\": 0.075, \"state\": \"US\", \"sma7d\": 0.06}, {\"date\": \"2020-06-25T00:00:00\", \"totalTestResultsIncrease\": 637148.0, \"positiveIncrease\": 39072.0, \"death\": 117810.0, \"deathIncrease\": 2501.0, \"positiveRate\": 0.061, \"state\": \"US\", \"sma7d\": 0.061}, {\"date\": \"2020-06-26T00:00:00\", \"totalTestResultsIncrease\": 606747.0, \"positiveIncrease\": 44421.0, \"death\": 118446.0, \"deathIncrease\": 636.0, \"positiveRate\": 0.073, \"state\": \"US\", \"sma7d\": 0.063}, {\"date\": \"2020-06-27T00:00:00\", \"totalTestResultsIncrease\": 599386.0, \"positiveIncrease\": 43783.0, \"death\": 118955.0, \"deathIncrease\": 509.0, \"positiveRate\": 0.073, \"state\": \"US\", \"sma7d\": 0.066}, {\"date\": \"2020-06-28T00:00:00\", \"totalTestResultsIncrease\": 583898.0, \"positiveIncrease\": 41857.0, \"death\": 119226.0, \"deathIncrease\": 271.0, \"positiveRate\": 0.072, \"state\": \"US\", \"sma7d\": 0.068}, {\"date\": \"2020-06-29T00:00:00\", \"totalTestResultsIncrease\": 646824.0, \"positiveIncrease\": 39175.0, \"death\": 119556.0, \"deathIncrease\": 330.0, \"positiveRate\": 0.061, \"state\": \"US\", \"sma7d\": 0.069}, {\"date\": \"2020-06-30T00:00:00\", \"totalTestResultsIncrease\": 624063.0, \"positiveIncrease\": 47462.0, \"death\": 120152.0, \"deathIncrease\": 596.0, \"positiveRate\": 0.076, \"state\": \"US\", \"sma7d\": 0.07}, {\"date\": \"2020-07-01T00:00:00\", \"totalTestResultsIncrease\": 633286.0, \"positiveIncrease\": 50674.0, \"death\": 120853.0, \"deathIncrease\": 701.0, \"positiveRate\": 0.08, \"state\": \"US\", \"sma7d\": 0.071}, {\"date\": \"2020-07-02T00:00:00\", \"totalTestResultsIncrease\": 662316.0, \"positiveIncrease\": 53826.0, \"death\": 121550.0, \"deathIncrease\": 697.0, \"positiveRate\": 0.081, \"state\": \"US\", \"sma7d\": 0.074}, {\"date\": \"2020-07-03T00:00:00\", \"totalTestResultsIncrease\": 710949.0, \"positiveIncrease\": 54223.0, \"death\": 122147.0, \"deathIncrease\": 597.0, \"positiveRate\": 0.076, \"state\": \"US\", \"sma7d\": 0.074}, {\"date\": \"2020-07-04T00:00:00\", \"totalTestResultsIncrease\": 642171.0, \"positiveIncrease\": 54734.0, \"death\": 122453.0, \"deathIncrease\": 306.0, \"positiveRate\": 0.085, \"state\": \"US\", \"sma7d\": 0.076}, {\"date\": \"2020-07-05T00:00:00\", \"totalTestResultsIncrease\": 681450.0, \"positiveIncrease\": 45789.0, \"death\": 122662.0, \"deathIncrease\": 209.0, \"positiveRate\": 0.067, \"state\": \"US\", \"sma7d\": 0.075}, {\"date\": \"2020-07-06T00:00:00\", \"totalTestResultsIncrease\": 501201.0, \"positiveIncrease\": 41600.0, \"death\": 122904.0, \"deathIncrease\": 242.0, \"positiveRate\": 0.083, \"state\": \"US\", \"sma7d\": 0.078}, {\"date\": \"2020-07-07T00:00:00\", \"totalTestResultsIncrease\": 634791.0, \"positiveIncrease\": 51766.0, \"death\": 123826.0, \"deathIncrease\": 922.0, \"positiveRate\": 0.082, \"state\": \"US\", \"sma7d\": 0.079}, {\"date\": \"2020-07-08T00:00:00\", \"totalTestResultsIncrease\": 629102.0, \"positiveIncrease\": 62147.0, \"death\": 124723.0, \"deathIncrease\": 897.0, \"positiveRate\": 0.099, \"state\": \"US\", \"sma7d\": 0.082}, {\"date\": \"2020-07-09T00:00:00\", \"totalTestResultsIncrease\": 703050.0, \"positiveIncrease\": 58836.0, \"death\": 125590.0, \"deathIncrease\": 867.0, \"positiveRate\": 0.084, \"state\": \"US\", \"sma7d\": 0.082}, {\"date\": \"2020-07-10T00:00:00\", \"totalTestResultsIncrease\": 810806.0, \"positiveIncrease\": 66645.0, \"death\": 126444.0, \"deathIncrease\": 854.0, \"positiveRate\": 0.082, \"state\": \"US\", \"sma7d\": 0.083}, {\"date\": \"2020-07-11T00:00:00\", \"totalTestResultsIncrease\": 635364.0, \"positiveIncrease\": 63007.0, \"death\": 127201.0, \"deathIncrease\": 757.0, \"positiveRate\": 0.099, \"state\": \"US\", \"sma7d\": 0.085}, {\"date\": \"2020-07-12T00:00:00\", \"totalTestResultsIncrease\": 758324.0, \"positiveIncrease\": 60978.0, \"death\": 127677.0, \"deathIncrease\": 476.0, \"positiveRate\": 0.08, \"state\": \"US\", \"sma7d\": 0.087}, {\"date\": \"2020-07-13T00:00:00\", \"totalTestResultsIncrease\": 693576.0, \"positiveIncrease\": 58465.0, \"death\": 128004.0, \"deathIncrease\": 327.0, \"positiveRate\": 0.084, \"state\": \"US\", \"sma7d\": 0.087}, {\"date\": \"2020-07-14T00:00:00\", \"totalTestResultsIncrease\": 769982.0, \"positiveIncrease\": 62879.0, \"death\": 128740.0, \"deathIncrease\": 736.0, \"positiveRate\": 0.082, \"state\": \"US\", \"sma7d\": 0.087}, {\"date\": \"2020-07-15T00:00:00\", \"totalTestResultsIncrease\": 761997.0, \"positiveIncrease\": 65382.0, \"death\": 129598.0, \"deathIncrease\": 858.0, \"positiveRate\": 0.086, \"state\": \"US\", \"sma7d\": 0.085}, {\"date\": \"2020-07-16T00:00:00\", \"totalTestResultsIncrease\": 827564.0, \"positiveIncrease\": 70953.0, \"death\": 130572.0, \"deathIncrease\": 974.0, \"positiveRate\": 0.086, \"state\": \"US\", \"sma7d\": 0.086}, {\"date\": \"2020-07-17T00:00:00\", \"totalTestResultsIncrease\": 837392.0, \"positiveIncrease\": 77233.0, \"death\": 131523.0, \"deathIncrease\": 951.0, \"positiveRate\": 0.092, \"state\": \"US\", \"sma7d\": 0.087}, {\"date\": \"2020-07-18T00:00:00\", \"totalTestResultsIncrease\": 761632.0, \"positiveIncrease\": 65180.0, \"death\": 132395.0, \"deathIncrease\": 872.0, \"positiveRate\": 0.086, \"state\": \"US\", \"sma7d\": 0.085}, {\"date\": \"2020-07-19T00:00:00\", \"totalTestResultsIncrease\": 798508.0, \"positiveIncrease\": 64884.0, \"death\": 132921.0, \"deathIncrease\": 526.0, \"positiveRate\": 0.081, \"state\": \"US\", \"sma7d\": 0.085}, {\"date\": \"2020-07-20T00:00:00\", \"totalTestResultsIncrease\": 711015.0, \"positiveIncrease\": 56971.0, \"death\": 133283.0, \"deathIncrease\": 362.0, \"positiveRate\": 0.08, \"state\": \"US\", \"sma7d\": 0.085}, {\"date\": \"2020-07-21T00:00:00\", \"totalTestResultsIncrease\": 749355.0, \"positiveIncrease\": 62749.0, \"death\": 134312.0, \"deathIncrease\": 1029.0, \"positiveRate\": 0.084, \"state\": \"US\", \"sma7d\": 0.085}, {\"date\": \"2020-07-22T00:00:00\", \"totalTestResultsIncrease\": 789688.0, \"positiveIncrease\": 69949.0, \"death\": 135419.0, \"deathIncrease\": 1125.0, \"positiveRate\": 0.089, \"state\": \"US\", \"sma7d\": 0.085}]}}, {\"mode\": \"vega-lite\"});\n",
       "</script>"
      ],
      "text/plain": [
       "alt.LayerChart(...)"
      ]
     },
     "execution_count": 8,
     "metadata": {},
     "output_type": "execute_result"
    }
   ],
   "source": [
    "create_plot(us, 'positiveRate')"
   ]
  },
  {
   "cell_type": "code",
   "execution_count": 9,
   "metadata": {},
   "outputs": [
    {
     "data": {
      "text/html": [
       "\n",
       "<div id=\"altair-viz-abf9b7043ada4c728bcafd50ebc3084b\"></div>\n",
       "<script type=\"text/javascript\">\n",
       "  (function(spec, embedOpt){\n",
       "    let outputDiv = document.currentScript.previousElementSibling;\n",
       "    if (outputDiv.id !== \"altair-viz-abf9b7043ada4c728bcafd50ebc3084b\") {\n",
       "      outputDiv = document.getElementById(\"altair-viz-abf9b7043ada4c728bcafd50ebc3084b\");\n",
       "    }\n",
       "    const paths = {\n",
       "      \"vega\": \"https://cdn.jsdelivr.net/npm//vega@5?noext\",\n",
       "      \"vega-lib\": \"https://cdn.jsdelivr.net/npm//vega-lib?noext\",\n",
       "      \"vega-lite\": \"https://cdn.jsdelivr.net/npm//vega-lite@4.8.1?noext\",\n",
       "      \"vega-embed\": \"https://cdn.jsdelivr.net/npm//vega-embed@6?noext\",\n",
       "    };\n",
       "\n",
       "    function loadScript(lib) {\n",
       "      return new Promise(function(resolve, reject) {\n",
       "        var s = document.createElement('script');\n",
       "        s.src = paths[lib];\n",
       "        s.async = true;\n",
       "        s.onload = () => resolve(paths[lib]);\n",
       "        s.onerror = () => reject(`Error loading script: ${paths[lib]}`);\n",
       "        document.getElementsByTagName(\"head\")[0].appendChild(s);\n",
       "      });\n",
       "    }\n",
       "\n",
       "    function showError(err) {\n",
       "      outputDiv.innerHTML = `<div class=\"error\" style=\"color:red;\">${err}</div>`;\n",
       "      throw err;\n",
       "    }\n",
       "\n",
       "    function displayChart(vegaEmbed) {\n",
       "      vegaEmbed(outputDiv, spec, embedOpt)\n",
       "        .catch(err => showError(`Javascript Error: ${err.message}<br>This usually means there's a typo in your chart specification. See the javascript console for the full traceback.`));\n",
       "    }\n",
       "\n",
       "    if(typeof define === \"function\" && define.amd) {\n",
       "      requirejs.config({paths});\n",
       "      require([\"vega-embed\"], displayChart, err => showError(`Error loading script: ${err.message}`));\n",
       "    } else if (typeof vegaEmbed === \"function\") {\n",
       "      displayChart(vegaEmbed);\n",
       "    } else {\n",
       "      loadScript(\"vega\")\n",
       "        .then(() => loadScript(\"vega-lite\"))\n",
       "        .then(() => loadScript(\"vega-embed\"))\n",
       "        .catch(showError)\n",
       "        .then(() => displayChart(vegaEmbed));\n",
       "    }\n",
       "  })({\"config\": {\"view\": {\"continuousWidth\": 400, \"continuousHeight\": 300}}, \"layer\": [{\"layer\": [{\"mark\": {\"type\": \"point\", \"size\": 75}, \"encoding\": {\"tooltip\": [{\"type\": \"temporal\", \"field\": \"date\"}, {\"type\": \"quantitative\", \"field\": \"deathIncrease\"}, {\"type\": \"quantitative\", \"field\": \"sma7d\"}], \"x\": {\"type\": \"temporal\", \"field\": \"date\"}, \"y\": {\"type\": \"quantitative\", \"field\": \"deathIncrease\"}}, \"selection\": {\"selector006\": {\"type\": \"interval\", \"bind\": \"scales\", \"encodings\": [\"x\", \"y\"]}}}, {\"mark\": {\"type\": \"line\", \"color\": \"purple\"}, \"encoding\": {\"x\": {\"type\": \"temporal\", \"field\": \"date\"}, \"y\": {\"type\": \"quantitative\", \"field\": \"sma7d\"}}}]}, {\"mark\": {\"type\": \"rule\", \"color\": \"#aaa\"}, \"encoding\": {\"x\": {\"type\": \"temporal\", \"field\": \"date\"}}, \"transform\": [{\"filter\": {\"selection\": \"selector005\"}}]}, {\"mark\": \"circle\", \"encoding\": {\"opacity\": {\"condition\": {\"value\": 1, \"selection\": \"selector005\"}, \"value\": 0}, \"tooltip\": [{\"type\": \"temporal\", \"field\": \"date\"}, {\"type\": \"quantitative\", \"field\": \"deathIncrease\"}, {\"type\": \"quantitative\", \"field\": \"sma7d\"}], \"x\": {\"type\": \"temporal\", \"field\": \"date\"}, \"y\": {\"type\": \"quantitative\", \"field\": \"deathIncrease\"}}, \"selection\": {\"selector005\": {\"type\": \"single\", \"encodings\": [\"x\"], \"on\": \"mouseover\", \"nearest\": true, \"empty\": \"none\"}}}, {\"mark\": {\"type\": \"text\", \"align\": \"left\", \"dx\": 5, \"dy\": -5, \"stroke\": \"white\", \"strokeWidth\": 2}, \"encoding\": {\"text\": {\"type\": \"quantitative\", \"field\": \"deathIncrease\"}, \"tooltip\": [{\"type\": \"temporal\", \"field\": \"date\"}, {\"type\": \"quantitative\", \"field\": \"deathIncrease\"}, {\"type\": \"quantitative\", \"field\": \"sma7d\"}], \"x\": {\"type\": \"temporal\", \"field\": \"date\"}, \"y\": {\"type\": \"quantitative\", \"field\": \"deathIncrease\"}}, \"transform\": [{\"filter\": {\"selection\": \"selector005\"}}]}, {\"mark\": {\"type\": \"text\", \"align\": \"left\", \"dx\": 5, \"dy\": -5}, \"encoding\": {\"text\": {\"type\": \"quantitative\", \"field\": \"deathIncrease\"}, \"tooltip\": [{\"type\": \"temporal\", \"field\": \"date\"}, {\"type\": \"quantitative\", \"field\": \"deathIncrease\"}, {\"type\": \"quantitative\", \"field\": \"sma7d\"}], \"x\": {\"type\": \"temporal\", \"field\": \"date\"}, \"y\": {\"type\": \"quantitative\", \"field\": \"deathIncrease\"}}, \"transform\": [{\"filter\": {\"selection\": \"selector005\"}}]}], \"data\": {\"name\": \"data-a0aa48ff8c6ab7965caa240583ff6b3d\"}, \"height\": 400, \"title\": \"US: deathIncrease\", \"width\": 500, \"$schema\": \"https://vega.github.io/schema/vega-lite/v4.8.1.json\", \"datasets\": {\"data-a0aa48ff8c6ab7965caa240583ff6b3d\": [{\"date\": \"2020-05-28T00:00:00\", \"totalTestResultsIncrease\": 434470.0, \"positiveIncrease\": 22601.0, \"death\": 96024.0, \"deathIncrease\": 1226.0, \"positiveRate\": 0.052, \"state\": \"US\", \"sma7d\": 973.143}, {\"date\": \"2020-05-29T00:00:00\", \"totalTestResultsIncrease\": 487229.0, \"positiveIncrease\": 23522.0, \"death\": 97203.0, \"deathIncrease\": 1179.0, \"positiveRate\": 0.048, \"state\": \"US\", \"sma7d\": 950.857}, {\"date\": \"2020-05-30T00:00:00\", \"totalTestResultsIncrease\": 425754.0, \"positiveIncrease\": 23762.0, \"death\": 98132.0, \"deathIncrease\": 929.0, \"positiveRate\": 0.056, \"state\": \"US\", \"sma7d\": 932.143}, {\"date\": \"2020-05-31T00:00:00\", \"totalTestResultsIncrease\": 396171.0, \"positiveIncrease\": 21639.0, \"death\": 98781.0, \"deathIncrease\": 649.0, \"positiveRate\": 0.055, \"state\": \"US\", \"sma7d\": 928.0}, {\"date\": \"2020-06-01T00:00:00\", \"totalTestResultsIncrease\": 412327.0, \"positiveIncrease\": 20415.0, \"death\": 99446.0, \"deathIncrease\": 665.0, \"positiveRate\": 0.05, \"state\": \"US\", \"sma7d\": 943.714}, {\"date\": \"2020-06-02T00:00:00\", \"totalTestResultsIncrease\": 418646.0, \"positiveIncrease\": 19982.0, \"death\": 100405.0, \"deathIncrease\": 959.0, \"positiveRate\": 0.048, \"state\": \"US\", \"sma7d\": 989.286}, {\"date\": \"2020-06-03T00:00:00\", \"totalTestResultsIncrease\": 466714.0, \"positiveIncrease\": 20312.0, \"death\": 101396.0, \"deathIncrease\": 991.0, \"positiveRate\": 0.044, \"state\": \"US\", \"sma7d\": 942.571}, {\"date\": \"2020-06-04T00:00:00\", \"totalTestResultsIncrease\": 460984.0, \"positiveIncrease\": 20839.0, \"death\": 102284.0, \"deathIncrease\": 888.0, \"positiveRate\": 0.045, \"state\": \"US\", \"sma7d\": 894.286}, {\"date\": \"2020-06-05T00:00:00\", \"totalTestResultsIncrease\": 506275.0, \"positiveIncrease\": 23352.0, \"death\": 103107.0, \"deathIncrease\": 823.0, \"positiveRate\": 0.046, \"state\": \"US\", \"sma7d\": 843.429}, {\"date\": \"2020-06-06T00:00:00\", \"totalTestResultsIncrease\": 520251.0, \"positiveIncrease\": 23106.0, \"death\": 103834.0, \"deathIncrease\": 727.0, \"positiveRate\": 0.044, \"state\": \"US\", \"sma7d\": 814.571}, {\"date\": \"2020-06-07T00:00:00\", \"totalTestResultsIncrease\": 445939.0, \"positiveIncrease\": 18823.0, \"death\": 104280.0, \"deathIncrease\": 446.0, \"positiveRate\": 0.042, \"state\": \"US\", \"sma7d\": 785.571}, {\"date\": \"2020-06-08T00:00:00\", \"totalTestResultsIncrease\": 395146.0, \"positiveIncrease\": 17012.0, \"death\": 104940.0, \"deathIncrease\": 660.0, \"positiveRate\": 0.043, \"state\": \"US\", \"sma7d\": 784.857}, {\"date\": \"2020-06-09T00:00:00\", \"totalTestResultsIncrease\": 419724.0, \"positiveIncrease\": 17175.0, \"death\": 105838.0, \"deathIncrease\": 898.0, \"positiveRate\": 0.041, \"state\": \"US\", \"sma7d\": 776.143}, {\"date\": \"2020-06-10T00:00:00\", \"totalTestResultsIncrease\": 428999.0, \"positiveIncrease\": 20803.0, \"death\": 106723.0, \"deathIncrease\": 885.0, \"positiveRate\": 0.048, \"state\": \"US\", \"sma7d\": 761.0}, {\"date\": \"2020-06-11T00:00:00\", \"totalTestResultsIncrease\": 459455.0, \"positiveIncrease\": 22032.0, \"death\": 107621.0, \"deathIncrease\": 898.0, \"positiveRate\": 0.048, \"state\": \"US\", \"sma7d\": 762.429}, {\"date\": \"2020-06-12T00:00:00\", \"totalTestResultsIncrease\": 623125.0, \"positiveIncrease\": 23477.0, \"death\": 108393.0, \"deathIncrease\": 772.0, \"positiveRate\": 0.038, \"state\": \"US\", \"sma7d\": 755.143}, {\"date\": \"2020-06-13T00:00:00\", \"totalTestResultsIncrease\": 496428.0, \"positiveIncrease\": 25341.0, \"death\": 109084.0, \"deathIncrease\": 691.0, \"positiveRate\": 0.051, \"state\": \"US\", \"sma7d\": 750.0}, {\"date\": \"2020-06-14T00:00:00\", \"totalTestResultsIncrease\": 485220.0, \"positiveIncrease\": 21373.0, \"death\": 109439.0, \"deathIncrease\": 355.0, \"positiveRate\": 0.044, \"state\": \"US\", \"sma7d\": 737.0}, {\"date\": \"2020-06-15T00:00:00\", \"totalTestResultsIncrease\": 432811.0, \"positiveIncrease\": 18510.0, \"death\": 109819.0, \"deathIncrease\": 380.0, \"positiveRate\": 0.043, \"state\": \"US\", \"sma7d\": 697.0}, {\"date\": \"2020-06-16T00:00:00\", \"totalTestResultsIncrease\": 464529.0, \"positiveIncrease\": 23435.0, \"death\": 110548.0, \"deathIncrease\": 729.0, \"positiveRate\": 0.05, \"state\": \"US\", \"sma7d\": 672.857}, {\"date\": \"2020-06-17T00:00:00\", \"totalTestResultsIncrease\": 485290.0, \"positiveIncrease\": 23873.0, \"death\": 111315.0, \"deathIncrease\": 767.0, \"positiveRate\": 0.049, \"state\": \"US\", \"sma7d\": 656.0}, {\"date\": \"2020-06-18T00:00:00\", \"totalTestResultsIncrease\": 516193.0, \"positiveIncrease\": 27527.0, \"death\": 112019.0, \"deathIncrease\": 704.0, \"positiveRate\": 0.053, \"state\": \"US\", \"sma7d\": 628.286}, {\"date\": \"2020-06-19T00:00:00\", \"totalTestResultsIncrease\": 573992.0, \"positiveIncrease\": 31046.0, \"death\": 112674.0, \"deathIncrease\": 655.0, \"positiveRate\": 0.054, \"state\": \"US\", \"sma7d\": 611.571}, {\"date\": \"2020-06-20T00:00:00\", \"totalTestResultsIncrease\": 559215.0, \"positiveIncrease\": 31994.0, \"death\": 113302.0, \"deathIncrease\": 628.0, \"positiveRate\": 0.057, \"state\": \"US\", \"sma7d\": 602.571}, {\"date\": \"2020-06-21T00:00:00\", \"totalTestResultsIncrease\": 511098.0, \"positiveIncrease\": 27284.0, \"death\": 113594.0, \"deathIncrease\": 292.0, \"positiveRate\": 0.053, \"state\": \"US\", \"sma7d\": 593.571}, {\"date\": \"2020-06-22T00:00:00\", \"totalTestResultsIncrease\": 466605.0, \"positiveIncrease\": 27017.0, \"death\": 113877.0, \"deathIncrease\": 283.0, \"positiveRate\": 0.058, \"state\": \"US\", \"sma7d\": 579.714}, {\"date\": \"2020-06-23T00:00:00\", \"totalTestResultsIncrease\": 491719.0, \"positiveIncrease\": 33021.0, \"death\": 114585.0, \"deathIncrease\": 708.0, \"positiveRate\": 0.067, \"state\": \"US\", \"sma7d\": 576.714}, {\"date\": \"2020-06-24T00:00:00\", \"totalTestResultsIncrease\": 519202.0, \"positiveIncrease\": 38684.0, \"death\": 115309.0, \"deathIncrease\": 724.0, \"positiveRate\": 0.075, \"state\": \"US\", \"sma7d\": 570.571}, {\"date\": \"2020-06-25T00:00:00\", \"totalTestResultsIncrease\": 637148.0, \"positiveIncrease\": 39072.0, \"death\": 117810.0, \"deathIncrease\": 2501.0, \"positiveRate\": 0.061, \"state\": \"US\", \"sma7d\": 827.286}, {\"date\": \"2020-06-26T00:00:00\", \"totalTestResultsIncrease\": 606747.0, \"positiveIncrease\": 44421.0, \"death\": 118446.0, \"deathIncrease\": 636.0, \"positiveRate\": 0.073, \"state\": \"US\", \"sma7d\": 824.571}, {\"date\": \"2020-06-27T00:00:00\", \"totalTestResultsIncrease\": 599386.0, \"positiveIncrease\": 43783.0, \"death\": 118955.0, \"deathIncrease\": 509.0, \"positiveRate\": 0.073, \"state\": \"US\", \"sma7d\": 807.571}, {\"date\": \"2020-06-28T00:00:00\", \"totalTestResultsIncrease\": 583898.0, \"positiveIncrease\": 41857.0, \"death\": 119226.0, \"deathIncrease\": 271.0, \"positiveRate\": 0.072, \"state\": \"US\", \"sma7d\": 804.571}, {\"date\": \"2020-06-29T00:00:00\", \"totalTestResultsIncrease\": 646824.0, \"positiveIncrease\": 39175.0, \"death\": 119556.0, \"deathIncrease\": 330.0, \"positiveRate\": 0.061, \"state\": \"US\", \"sma7d\": 811.286}, {\"date\": \"2020-06-30T00:00:00\", \"totalTestResultsIncrease\": 624063.0, \"positiveIncrease\": 47462.0, \"death\": 120152.0, \"deathIncrease\": 596.0, \"positiveRate\": 0.076, \"state\": \"US\", \"sma7d\": 795.286}, {\"date\": \"2020-07-01T00:00:00\", \"totalTestResultsIncrease\": 633286.0, \"positiveIncrease\": 50674.0, \"death\": 120853.0, \"deathIncrease\": 701.0, \"positiveRate\": 0.08, \"state\": \"US\", \"sma7d\": 792.0}, {\"date\": \"2020-07-02T00:00:00\", \"totalTestResultsIncrease\": 662316.0, \"positiveIncrease\": 53826.0, \"death\": 121550.0, \"deathIncrease\": 697.0, \"positiveRate\": 0.081, \"state\": \"US\", \"sma7d\": 534.286}, {\"date\": \"2020-07-03T00:00:00\", \"totalTestResultsIncrease\": 710949.0, \"positiveIncrease\": 54223.0, \"death\": 122147.0, \"deathIncrease\": 597.0, \"positiveRate\": 0.076, \"state\": \"US\", \"sma7d\": 528.714}, {\"date\": \"2020-07-04T00:00:00\", \"totalTestResultsIncrease\": 642171.0, \"positiveIncrease\": 54734.0, \"death\": 122453.0, \"deathIncrease\": 306.0, \"positiveRate\": 0.085, \"state\": \"US\", \"sma7d\": 499.714}, {\"date\": \"2020-07-05T00:00:00\", \"totalTestResultsIncrease\": 681450.0, \"positiveIncrease\": 45789.0, \"death\": 122662.0, \"deathIncrease\": 209.0, \"positiveRate\": 0.067, \"state\": \"US\", \"sma7d\": 490.857}, {\"date\": \"2020-07-06T00:00:00\", \"totalTestResultsIncrease\": 501201.0, \"positiveIncrease\": 41600.0, \"death\": 122904.0, \"deathIncrease\": 242.0, \"positiveRate\": 0.083, \"state\": \"US\", \"sma7d\": 478.286}, {\"date\": \"2020-07-07T00:00:00\", \"totalTestResultsIncrease\": 634791.0, \"positiveIncrease\": 51766.0, \"death\": 123826.0, \"deathIncrease\": 922.0, \"positiveRate\": 0.082, \"state\": \"US\", \"sma7d\": 524.857}, {\"date\": \"2020-07-08T00:00:00\", \"totalTestResultsIncrease\": 629102.0, \"positiveIncrease\": 62147.0, \"death\": 124723.0, \"deathIncrease\": 897.0, \"positiveRate\": 0.099, \"state\": \"US\", \"sma7d\": 552.857}, {\"date\": \"2020-07-09T00:00:00\", \"totalTestResultsIncrease\": 703050.0, \"positiveIncrease\": 58836.0, \"death\": 125590.0, \"deathIncrease\": 867.0, \"positiveRate\": 0.084, \"state\": \"US\", \"sma7d\": 577.143}, {\"date\": \"2020-07-10T00:00:00\", \"totalTestResultsIncrease\": 810806.0, \"positiveIncrease\": 66645.0, \"death\": 126444.0, \"deathIncrease\": 854.0, \"positiveRate\": 0.082, \"state\": \"US\", \"sma7d\": 613.857}, {\"date\": \"2020-07-11T00:00:00\", \"totalTestResultsIncrease\": 635364.0, \"positiveIncrease\": 63007.0, \"death\": 127201.0, \"deathIncrease\": 757.0, \"positiveRate\": 0.099, \"state\": \"US\", \"sma7d\": 678.286}, {\"date\": \"2020-07-12T00:00:00\", \"totalTestResultsIncrease\": 758324.0, \"positiveIncrease\": 60978.0, \"death\": 127677.0, \"deathIncrease\": 476.0, \"positiveRate\": 0.08, \"state\": \"US\", \"sma7d\": 716.429}, {\"date\": \"2020-07-13T00:00:00\", \"totalTestResultsIncrease\": 693576.0, \"positiveIncrease\": 58465.0, \"death\": 128004.0, \"deathIncrease\": 327.0, \"positiveRate\": 0.084, \"state\": \"US\", \"sma7d\": 728.571}, {\"date\": \"2020-07-14T00:00:00\", \"totalTestResultsIncrease\": 769982.0, \"positiveIncrease\": 62879.0, \"death\": 128740.0, \"deathIncrease\": 736.0, \"positiveRate\": 0.082, \"state\": \"US\", \"sma7d\": 702.0}, {\"date\": \"2020-07-15T00:00:00\", \"totalTestResultsIncrease\": 761997.0, \"positiveIncrease\": 65382.0, \"death\": 129598.0, \"deathIncrease\": 858.0, \"positiveRate\": 0.086, \"state\": \"US\", \"sma7d\": 696.429}, {\"date\": \"2020-07-16T00:00:00\", \"totalTestResultsIncrease\": 827564.0, \"positiveIncrease\": 70953.0, \"death\": 130572.0, \"deathIncrease\": 974.0, \"positiveRate\": 0.086, \"state\": \"US\", \"sma7d\": 711.714}, {\"date\": \"2020-07-17T00:00:00\", \"totalTestResultsIncrease\": 837392.0, \"positiveIncrease\": 77233.0, \"death\": 131523.0, \"deathIncrease\": 951.0, \"positiveRate\": 0.092, \"state\": \"US\", \"sma7d\": 725.571}, {\"date\": \"2020-07-18T00:00:00\", \"totalTestResultsIncrease\": 761632.0, \"positiveIncrease\": 65180.0, \"death\": 132395.0, \"deathIncrease\": 872.0, \"positiveRate\": 0.086, \"state\": \"US\", \"sma7d\": 742.0}, {\"date\": \"2020-07-19T00:00:00\", \"totalTestResultsIncrease\": 798508.0, \"positiveIncrease\": 64884.0, \"death\": 132921.0, \"deathIncrease\": 526.0, \"positiveRate\": 0.081, \"state\": \"US\", \"sma7d\": 749.143}, {\"date\": \"2020-07-20T00:00:00\", \"totalTestResultsIncrease\": 711015.0, \"positiveIncrease\": 56971.0, \"death\": 133283.0, \"deathIncrease\": 362.0, \"positiveRate\": 0.08, \"state\": \"US\", \"sma7d\": 754.143}, {\"date\": \"2020-07-21T00:00:00\", \"totalTestResultsIncrease\": 749355.0, \"positiveIncrease\": 62749.0, \"death\": 134312.0, \"deathIncrease\": 1029.0, \"positiveRate\": 0.084, \"state\": \"US\", \"sma7d\": 796.0}, {\"date\": \"2020-07-22T00:00:00\", \"totalTestResultsIncrease\": 789688.0, \"positiveIncrease\": 69949.0, \"death\": 135419.0, \"deathIncrease\": 1125.0, \"positiveRate\": 0.089, \"state\": \"US\", \"sma7d\": 834.143}]}}, {\"mode\": \"vega-lite\"});\n",
       "</script>"
      ],
      "text/plain": [
       "alt.LayerChart(...)"
      ]
     },
     "execution_count": 9,
     "metadata": {},
     "output_type": "execute_result"
    }
   ],
   "source": [
    "create_plot(us, 'deathIncrease')"
   ]
  },
  {
   "cell_type": "markdown",
   "metadata": {},
   "source": [
    "## NY"
   ]
  },
  {
   "cell_type": "code",
   "execution_count": 10,
   "metadata": {},
   "outputs": [],
   "source": [
    "ny = create_df(df, (lambda d: d['state'] == 'NY'), 'New York')"
   ]
  },
  {
   "cell_type": "code",
   "execution_count": 11,
   "metadata": {},
   "outputs": [
    {
     "data": {
      "text/html": [
       "\n",
       "<div id=\"altair-viz-4fc06fb8218a4a80ab8bb3367b474796\"></div>\n",
       "<script type=\"text/javascript\">\n",
       "  (function(spec, embedOpt){\n",
       "    let outputDiv = document.currentScript.previousElementSibling;\n",
       "    if (outputDiv.id !== \"altair-viz-4fc06fb8218a4a80ab8bb3367b474796\") {\n",
       "      outputDiv = document.getElementById(\"altair-viz-4fc06fb8218a4a80ab8bb3367b474796\");\n",
       "    }\n",
       "    const paths = {\n",
       "      \"vega\": \"https://cdn.jsdelivr.net/npm//vega@5?noext\",\n",
       "      \"vega-lib\": \"https://cdn.jsdelivr.net/npm//vega-lib?noext\",\n",
       "      \"vega-lite\": \"https://cdn.jsdelivr.net/npm//vega-lite@4.8.1?noext\",\n",
       "      \"vega-embed\": \"https://cdn.jsdelivr.net/npm//vega-embed@6?noext\",\n",
       "    };\n",
       "\n",
       "    function loadScript(lib) {\n",
       "      return new Promise(function(resolve, reject) {\n",
       "        var s = document.createElement('script');\n",
       "        s.src = paths[lib];\n",
       "        s.async = true;\n",
       "        s.onload = () => resolve(paths[lib]);\n",
       "        s.onerror = () => reject(`Error loading script: ${paths[lib]}`);\n",
       "        document.getElementsByTagName(\"head\")[0].appendChild(s);\n",
       "      });\n",
       "    }\n",
       "\n",
       "    function showError(err) {\n",
       "      outputDiv.innerHTML = `<div class=\"error\" style=\"color:red;\">${err}</div>`;\n",
       "      throw err;\n",
       "    }\n",
       "\n",
       "    function displayChart(vegaEmbed) {\n",
       "      vegaEmbed(outputDiv, spec, embedOpt)\n",
       "        .catch(err => showError(`Javascript Error: ${err.message}<br>This usually means there's a typo in your chart specification. See the javascript console for the full traceback.`));\n",
       "    }\n",
       "\n",
       "    if(typeof define === \"function\" && define.amd) {\n",
       "      requirejs.config({paths});\n",
       "      require([\"vega-embed\"], displayChart, err => showError(`Error loading script: ${err.message}`));\n",
       "    } else if (typeof vegaEmbed === \"function\") {\n",
       "      displayChart(vegaEmbed);\n",
       "    } else {\n",
       "      loadScript(\"vega\")\n",
       "        .then(() => loadScript(\"vega-lite\"))\n",
       "        .then(() => loadScript(\"vega-embed\"))\n",
       "        .catch(showError)\n",
       "        .then(() => displayChart(vegaEmbed));\n",
       "    }\n",
       "  })({\"config\": {\"view\": {\"continuousWidth\": 400, \"continuousHeight\": 300}}, \"layer\": [{\"layer\": [{\"mark\": {\"type\": \"point\", \"size\": 75}, \"encoding\": {\"tooltip\": [{\"type\": \"temporal\", \"field\": \"date\"}, {\"type\": \"quantitative\", \"field\": \"positiveIncrease\"}, {\"type\": \"quantitative\", \"field\": \"sma7d\"}], \"x\": {\"type\": \"temporal\", \"field\": \"date\"}, \"y\": {\"type\": \"quantitative\", \"field\": \"positiveIncrease\"}}, \"selection\": {\"selector008\": {\"type\": \"interval\", \"bind\": \"scales\", \"encodings\": [\"x\", \"y\"]}}}, {\"mark\": {\"type\": \"line\", \"color\": \"purple\"}, \"encoding\": {\"x\": {\"type\": \"temporal\", \"field\": \"date\"}, \"y\": {\"type\": \"quantitative\", \"field\": \"sma7d\"}}}]}, {\"mark\": {\"type\": \"rule\", \"color\": \"#aaa\"}, \"encoding\": {\"x\": {\"type\": \"temporal\", \"field\": \"date\"}}, \"transform\": [{\"filter\": {\"selection\": \"selector007\"}}]}, {\"mark\": \"circle\", \"encoding\": {\"opacity\": {\"condition\": {\"value\": 1, \"selection\": \"selector007\"}, \"value\": 0}, \"tooltip\": [{\"type\": \"temporal\", \"field\": \"date\"}, {\"type\": \"quantitative\", \"field\": \"positiveIncrease\"}, {\"type\": \"quantitative\", \"field\": \"sma7d\"}], \"x\": {\"type\": \"temporal\", \"field\": \"date\"}, \"y\": {\"type\": \"quantitative\", \"field\": \"positiveIncrease\"}}, \"selection\": {\"selector007\": {\"type\": \"single\", \"encodings\": [\"x\"], \"on\": \"mouseover\", \"nearest\": true, \"empty\": \"none\"}}}, {\"mark\": {\"type\": \"text\", \"align\": \"left\", \"dx\": 5, \"dy\": -5, \"stroke\": \"white\", \"strokeWidth\": 2}, \"encoding\": {\"text\": {\"type\": \"quantitative\", \"field\": \"positiveIncrease\"}, \"tooltip\": [{\"type\": \"temporal\", \"field\": \"date\"}, {\"type\": \"quantitative\", \"field\": \"positiveIncrease\"}, {\"type\": \"quantitative\", \"field\": \"sma7d\"}], \"x\": {\"type\": \"temporal\", \"field\": \"date\"}, \"y\": {\"type\": \"quantitative\", \"field\": \"positiveIncrease\"}}, \"transform\": [{\"filter\": {\"selection\": \"selector007\"}}]}, {\"mark\": {\"type\": \"text\", \"align\": \"left\", \"dx\": 5, \"dy\": -5}, \"encoding\": {\"text\": {\"type\": \"quantitative\", \"field\": \"positiveIncrease\"}, \"tooltip\": [{\"type\": \"temporal\", \"field\": \"date\"}, {\"type\": \"quantitative\", \"field\": \"positiveIncrease\"}, {\"type\": \"quantitative\", \"field\": \"sma7d\"}], \"x\": {\"type\": \"temporal\", \"field\": \"date\"}, \"y\": {\"type\": \"quantitative\", \"field\": \"positiveIncrease\"}}, \"transform\": [{\"filter\": {\"selection\": \"selector007\"}}]}], \"data\": {\"name\": \"data-03be2e0148058f1256dd42381ec4bc74\"}, \"height\": 400, \"title\": \"New York: positiveIncrease\", \"width\": 500, \"$schema\": \"https://vega.github.io/schema/vega-lite/v4.8.1.json\", \"datasets\": {\"data-03be2e0148058f1256dd42381ec4bc74\": [{\"date\": \"2020-05-28T00:00:00\", \"totalTestResultsIncrease\": 65245.0, \"positiveIncrease\": 1768.0, \"death\": 23722.0, \"deathIncrease\": 79.0, \"positiveRate\": 0.027, \"state\": \"New York\", \"sma7d\": 1467.857}, {\"date\": \"2020-05-29T00:00:00\", \"totalTestResultsIncrease\": 67341.0, \"positiveIncrease\": 1551.0, \"death\": 23780.0, \"deathIncrease\": 58.0, \"positiveRate\": 0.023, \"state\": \"New York\", \"sma7d\": 1447.143}, {\"date\": \"2020-05-30T00:00:00\", \"totalTestResultsIncrease\": 61251.0, \"positiveIncrease\": 1376.0, \"death\": 23848.0, \"deathIncrease\": 68.0, \"positiveRate\": 0.022, \"state\": \"New York\", \"sma7d\": 1390.571}, {\"date\": \"2020-05-31T00:00:00\", \"totalTestResultsIncrease\": 58444.0, \"positiveIncrease\": 1110.0, \"death\": 23905.0, \"deathIncrease\": 57.0, \"positiveRate\": 0.019, \"state\": \"New York\", \"sma7d\": 1322.143}, {\"date\": \"2020-06-01T00:00:00\", \"totalTestResultsIncrease\": 49952.0, \"positiveIncrease\": 941.0, \"death\": 23959.0, \"deathIncrease\": 54.0, \"positiveRate\": 0.019, \"state\": \"New York\", \"sma7d\": 1278.143}, {\"date\": \"2020-06-02T00:00:00\", \"totalTestResultsIncrease\": 54054.0, \"positiveIncrease\": 1329.0, \"death\": 24023.0, \"deathIncrease\": 64.0, \"positiveRate\": 0.025, \"state\": \"New York\", \"sma7d\": 1314.857}, {\"date\": \"2020-06-03T00:00:00\", \"totalTestResultsIncrease\": 61642.0, \"positiveIncrease\": 1045.0, \"death\": 24079.0, \"deathIncrease\": 56.0, \"positiveRate\": 0.017, \"state\": \"New York\", \"sma7d\": 1302.857}, {\"date\": \"2020-06-04T00:00:00\", \"totalTestResultsIncrease\": 63559.0, \"positiveIncrease\": 1048.0, \"death\": 24133.0, \"deathIncrease\": 54.0, \"positiveRate\": 0.016, \"state\": \"New York\", \"sma7d\": 1200.0}, {\"date\": \"2020-06-05T00:00:00\", \"totalTestResultsIncrease\": 66480.0, \"positiveIncrease\": 1075.0, \"death\": 24175.0, \"deathIncrease\": 42.0, \"positiveRate\": 0.016, \"state\": \"New York\", \"sma7d\": 1132.0}, {\"date\": \"2020-06-06T00:00:00\", \"totalTestResultsIncrease\": 77895.0, \"positiveIncrease\": 1108.0, \"death\": 24212.0, \"deathIncrease\": 37.0, \"positiveRate\": 0.014, \"state\": \"New York\", \"sma7d\": 1093.714}, {\"date\": \"2020-06-07T00:00:00\", \"totalTestResultsIncrease\": 60435.0, \"positiveIncrease\": 781.0, \"death\": 24259.0, \"deathIncrease\": 47.0, \"positiveRate\": 0.013, \"state\": \"New York\", \"sma7d\": 1046.714}, {\"date\": \"2020-06-08T00:00:00\", \"totalTestResultsIncrease\": 58054.0, \"positiveIncrease\": 702.0, \"death\": 24299.0, \"deathIncrease\": 40.0, \"positiveRate\": 0.012, \"state\": \"New York\", \"sma7d\": 1012.571}, {\"date\": \"2020-06-09T00:00:00\", \"totalTestResultsIncrease\": 49973.0, \"positiveIncrease\": 683.0, \"death\": 24348.0, \"deathIncrease\": 49.0, \"positiveRate\": 0.014, \"state\": \"New York\", \"sma7d\": 920.286}, {\"date\": \"2020-06-10T00:00:00\", \"totalTestResultsIncrease\": 62297.0, \"positiveIncrease\": 674.0, \"death\": 24404.0, \"deathIncrease\": 56.0, \"positiveRate\": 0.011, \"state\": \"New York\", \"sma7d\": 867.286}, {\"date\": \"2020-06-11T00:00:00\", \"totalTestResultsIncrease\": 60839.0, \"positiveIncrease\": 736.0, \"death\": 24442.0, \"deathIncrease\": 38.0, \"positiveRate\": 0.012, \"state\": \"New York\", \"sma7d\": 822.714}, {\"date\": \"2020-06-12T00:00:00\", \"totalTestResultsIncrease\": 72395.0, \"positiveIncrease\": 822.0, \"death\": 24495.0, \"deathIncrease\": 53.0, \"positiveRate\": 0.011, \"state\": \"New York\", \"sma7d\": 786.571}, {\"date\": \"2020-06-13T00:00:00\", \"totalTestResultsIncrease\": 70840.0, \"positiveIncrease\": 916.0, \"death\": 24527.0, \"deathIncrease\": 32.0, \"positiveRate\": 0.013, \"state\": \"New York\", \"sma7d\": 759.143}, {\"date\": \"2020-06-14T00:00:00\", \"totalTestResultsIncrease\": 62359.0, \"positiveIncrease\": 694.0, \"death\": 24551.0, \"deathIncrease\": 24.0, \"positiveRate\": 0.011, \"state\": \"New York\", \"sma7d\": 746.714}, {\"date\": \"2020-06-15T00:00:00\", \"totalTestResultsIncrease\": 56611.0, \"positiveIncrease\": 620.0, \"death\": 24579.0, \"deathIncrease\": 28.0, \"positiveRate\": 0.011, \"state\": \"New York\", \"sma7d\": 735.0}, {\"date\": \"2020-06-16T00:00:00\", \"totalTestResultsIncrease\": 60568.0, \"positiveIncrease\": 631.0, \"death\": 24608.0, \"deathIncrease\": 29.0, \"positiveRate\": 0.01, \"state\": \"New York\", \"sma7d\": 727.571}, {\"date\": \"2020-06-17T00:00:00\", \"totalTestResultsIncrease\": 59341.0, \"positiveIncrease\": 567.0, \"death\": 24629.0, \"deathIncrease\": 21.0, \"positiveRate\": 0.01, \"state\": \"New York\", \"sma7d\": 712.286}, {\"date\": \"2020-06-18T00:00:00\", \"totalTestResultsIncrease\": 68541.0, \"positiveIncrease\": 618.0, \"death\": 24661.0, \"deathIncrease\": 32.0, \"positiveRate\": 0.009, \"state\": \"New York\", \"sma7d\": 695.429}, {\"date\": \"2020-06-19T00:00:00\", \"totalTestResultsIncrease\": 79303.0, \"positiveIncrease\": 796.0, \"death\": 24686.0, \"deathIncrease\": 25.0, \"positiveRate\": 0.01, \"state\": \"New York\", \"sma7d\": 691.714}, {\"date\": \"2020-06-20T00:00:00\", \"totalTestResultsIncrease\": 68830.0, \"positiveIncrease\": 716.0, \"death\": 24710.0, \"deathIncrease\": 24.0, \"positiveRate\": 0.01, \"state\": \"New York\", \"sma7d\": 663.143}, {\"date\": \"2020-06-21T00:00:00\", \"totalTestResultsIncrease\": 67526.0, \"positiveIncrease\": 664.0, \"death\": 24725.0, \"deathIncrease\": 15.0, \"positiveRate\": 0.01, \"state\": \"New York\", \"sma7d\": 658.857}, {\"date\": \"2020-06-22T00:00:00\", \"totalTestResultsIncrease\": 56780.0, \"positiveIncrease\": 552.0, \"death\": 24739.0, \"deathIncrease\": 14.0, \"positiveRate\": 0.01, \"state\": \"New York\", \"sma7d\": 649.143}, {\"date\": \"2020-06-23T00:00:00\", \"totalTestResultsIncrease\": 48709.0, \"positiveIncrease\": 597.0, \"death\": 24766.0, \"deathIncrease\": 27.0, \"positiveRate\": 0.012, \"state\": \"New York\", \"sma7d\": 644.286}, {\"date\": \"2020-06-24T00:00:00\", \"totalTestResultsIncrease\": 51144.0, \"positiveIncrease\": 581.0, \"death\": 24782.0, \"deathIncrease\": 16.0, \"positiveRate\": 0.011, \"state\": \"New York\", \"sma7d\": 646.286}, {\"date\": \"2020-06-25T00:00:00\", \"totalTestResultsIncrease\": 67642.0, \"positiveIncrease\": 749.0, \"death\": 24800.0, \"deathIncrease\": 18.0, \"positiveRate\": 0.011, \"state\": \"New York\", \"sma7d\": 665.0}, {\"date\": \"2020-06-26T00:00:00\", \"totalTestResultsIncrease\": 61723.0, \"positiveIncrease\": 805.0, \"death\": 24814.0, \"deathIncrease\": 14.0, \"positiveRate\": 0.013, \"state\": \"New York\", \"sma7d\": 666.286}, {\"date\": \"2020-06-27T00:00:00\", \"totalTestResultsIncrease\": 73262.0, \"positiveIncrease\": 703.0, \"death\": 24830.0, \"deathIncrease\": 16.0, \"positiveRate\": 0.01, \"state\": \"New York\", \"sma7d\": 664.429}, {\"date\": \"2020-06-28T00:00:00\", \"totalTestResultsIncrease\": 61906.0, \"positiveIncrease\": 616.0, \"death\": 24835.0, \"deathIncrease\": 5.0, \"positiveRate\": 0.01, \"state\": \"New York\", \"sma7d\": 657.571}, {\"date\": \"2020-06-29T00:00:00\", \"totalTestResultsIncrease\": 46428.0, \"positiveIncrease\": 391.0, \"death\": 24842.0, \"deathIncrease\": 7.0, \"positiveRate\": 0.008, \"state\": \"New York\", \"sma7d\": 634.571}, {\"date\": \"2020-06-30T00:00:00\", \"totalTestResultsIncrease\": 52025.0, \"positiveIncrease\": 524.0, \"death\": 24855.0, \"deathIncrease\": 13.0, \"positiveRate\": 0.01, \"state\": \"New York\", \"sma7d\": 624.143}, {\"date\": \"2020-07-01T00:00:00\", \"totalTestResultsIncrease\": 56710.0, \"positiveIncrease\": 625.0, \"death\": 24866.0, \"deathIncrease\": 11.0, \"positiveRate\": 0.011, \"state\": \"New York\", \"sma7d\": 630.429}, {\"date\": \"2020-07-02T00:00:00\", \"totalTestResultsIncrease\": 69945.0, \"positiveIncrease\": 875.0, \"death\": 24877.0, \"deathIncrease\": 11.0, \"positiveRate\": 0.013, \"state\": \"New York\", \"sma7d\": 648.429}, {\"date\": \"2020-07-03T00:00:00\", \"totalTestResultsIncrease\": 66392.0, \"positiveIncrease\": 918.0, \"death\": 24885.0, \"deathIncrease\": 8.0, \"positiveRate\": 0.014, \"state\": \"New York\", \"sma7d\": 664.571}, {\"date\": \"2020-07-04T00:00:00\", \"totalTestResultsIncrease\": 62403.0, \"positiveIncrease\": 726.0, \"death\": 24896.0, \"deathIncrease\": 11.0, \"positiveRate\": 0.012, \"state\": \"New York\", \"sma7d\": 667.857}, {\"date\": \"2020-07-05T00:00:00\", \"totalTestResultsIncrease\": 63415.0, \"positiveIncrease\": 533.0, \"death\": 24904.0, \"deathIncrease\": 8.0, \"positiveRate\": 0.008, \"state\": \"New York\", \"sma7d\": 656.0}, {\"date\": \"2020-07-06T00:00:00\", \"totalTestResultsIncrease\": 54328.0, \"positiveIncrease\": 518.0, \"death\": 24913.0, \"deathIncrease\": 9.0, \"positiveRate\": 0.01, \"state\": \"New York\", \"sma7d\": 674.143}, {\"date\": \"2020-07-07T00:00:00\", \"totalTestResultsIncrease\": 56736.0, \"positiveIncrease\": 588.0, \"death\": 24924.0, \"deathIncrease\": 11.0, \"positiveRate\": 0.01, \"state\": \"New York\", \"sma7d\": 683.286}, {\"date\": \"2020-07-08T00:00:00\", \"totalTestResultsIncrease\": 57585.0, \"positiveIncrease\": 692.0, \"death\": 24944.0, \"deathIncrease\": 20.0, \"positiveRate\": 0.012, \"state\": \"New York\", \"sma7d\": 692.857}, {\"date\": \"2020-07-09T00:00:00\", \"totalTestResultsIncrease\": 65564.0, \"positiveIncrease\": 584.0, \"death\": 24959.0, \"deathIncrease\": 15.0, \"positiveRate\": 0.009, \"state\": \"New York\", \"sma7d\": 651.286}, {\"date\": \"2020-07-10T00:00:00\", \"totalTestResultsIncrease\": 73558.0, \"positiveIncrease\": 786.0, \"death\": 24968.0, \"deathIncrease\": 9.0, \"positiveRate\": 0.011, \"state\": \"New York\", \"sma7d\": 632.429}, {\"date\": \"2020-07-11T00:00:00\", \"totalTestResultsIncrease\": 69203.0, \"positiveIncrease\": 730.0, \"death\": 24974.0, \"deathIncrease\": 6.0, \"positiveRate\": 0.011, \"state\": \"New York\", \"sma7d\": 633.0}, {\"date\": \"2020-07-12T00:00:00\", \"totalTestResultsIncrease\": 62418.0, \"positiveIncrease\": 677.0, \"death\": 24979.0, \"deathIncrease\": 5.0, \"positiveRate\": 0.011, \"state\": \"New York\", \"sma7d\": 653.571}, {\"date\": \"2020-07-13T00:00:00\", \"totalTestResultsIncrease\": 51687.0, \"positiveIncrease\": 557.0, \"death\": 24989.0, \"deathIncrease\": 10.0, \"positiveRate\": 0.011, \"state\": \"New York\", \"sma7d\": 659.143}, {\"date\": \"2020-07-14T00:00:00\", \"totalTestResultsIncrease\": 60045.0, \"positiveIncrease\": 912.0, \"death\": 24994.0, \"deathIncrease\": 5.0, \"positiveRate\": 0.015, \"state\": \"New York\", \"sma7d\": 705.429}, {\"date\": \"2020-07-15T00:00:00\", \"totalTestResultsIncrease\": 63598.0, \"positiveIncrease\": 831.0, \"death\": 25003.0, \"deathIncrease\": 9.0, \"positiveRate\": 0.013, \"state\": \"New York\", \"sma7d\": 725.286}, {\"date\": \"2020-07-16T00:00:00\", \"totalTestResultsIncrease\": 72685.0, \"positiveIncrease\": 769.0, \"death\": 25014.0, \"deathIncrease\": 11.0, \"positiveRate\": 0.011, \"state\": \"New York\", \"sma7d\": 751.714}, {\"date\": \"2020-07-17T00:00:00\", \"totalTestResultsIncrease\": 78239.0, \"positiveIncrease\": 776.0, \"death\": 25024.0, \"deathIncrease\": 10.0, \"positiveRate\": 0.01, \"state\": \"New York\", \"sma7d\": 750.286}, {\"date\": \"2020-07-18T00:00:00\", \"totalTestResultsIncrease\": 69817.0, \"positiveIncrease\": 754.0, \"death\": 25035.0, \"deathIncrease\": 11.0, \"positiveRate\": 0.011, \"state\": \"New York\", \"sma7d\": 753.714}, {\"date\": \"2020-07-19T00:00:00\", \"totalTestResultsIncrease\": 46204.0, \"positiveIncrease\": 502.0, \"death\": 25048.0, \"deathIncrease\": 13.0, \"positiveRate\": 0.011, \"state\": \"New York\", \"sma7d\": 728.714}, {\"date\": \"2020-07-20T00:00:00\", \"totalTestResultsIncrease\": 49342.0, \"positiveIncrease\": 519.0, \"death\": 25056.0, \"deathIncrease\": 8.0, \"positiveRate\": 0.011, \"state\": \"New York\", \"sma7d\": 723.286}, {\"date\": \"2020-07-21T00:00:00\", \"totalTestResultsIncrease\": 66169.0, \"positiveIncrease\": 855.0, \"death\": 25058.0, \"deathIncrease\": 2.0, \"positiveRate\": 0.013, \"state\": \"New York\", \"sma7d\": 715.143}, {\"date\": \"2020-07-22T00:00:00\", \"totalTestResultsIncrease\": 67659.0, \"positiveIncrease\": 705.0, \"death\": 25068.0, \"deathIncrease\": 10.0, \"positiveRate\": 0.01, \"state\": \"New York\", \"sma7d\": 697.143}]}}, {\"mode\": \"vega-lite\"});\n",
       "</script>"
      ],
      "text/plain": [
       "alt.LayerChart(...)"
      ]
     },
     "execution_count": 11,
     "metadata": {},
     "output_type": "execute_result"
    }
   ],
   "source": [
    "create_plot(ny, 'positiveIncrease')"
   ]
  },
  {
   "cell_type": "code",
   "execution_count": 12,
   "metadata": {},
   "outputs": [
    {
     "data": {
      "text/html": [
       "\n",
       "<div id=\"altair-viz-cd0e715b66dd4f5b92a7397031f7cf8f\"></div>\n",
       "<script type=\"text/javascript\">\n",
       "  (function(spec, embedOpt){\n",
       "    let outputDiv = document.currentScript.previousElementSibling;\n",
       "    if (outputDiv.id !== \"altair-viz-cd0e715b66dd4f5b92a7397031f7cf8f\") {\n",
       "      outputDiv = document.getElementById(\"altair-viz-cd0e715b66dd4f5b92a7397031f7cf8f\");\n",
       "    }\n",
       "    const paths = {\n",
       "      \"vega\": \"https://cdn.jsdelivr.net/npm//vega@5?noext\",\n",
       "      \"vega-lib\": \"https://cdn.jsdelivr.net/npm//vega-lib?noext\",\n",
       "      \"vega-lite\": \"https://cdn.jsdelivr.net/npm//vega-lite@4.8.1?noext\",\n",
       "      \"vega-embed\": \"https://cdn.jsdelivr.net/npm//vega-embed@6?noext\",\n",
       "    };\n",
       "\n",
       "    function loadScript(lib) {\n",
       "      return new Promise(function(resolve, reject) {\n",
       "        var s = document.createElement('script');\n",
       "        s.src = paths[lib];\n",
       "        s.async = true;\n",
       "        s.onload = () => resolve(paths[lib]);\n",
       "        s.onerror = () => reject(`Error loading script: ${paths[lib]}`);\n",
       "        document.getElementsByTagName(\"head\")[0].appendChild(s);\n",
       "      });\n",
       "    }\n",
       "\n",
       "    function showError(err) {\n",
       "      outputDiv.innerHTML = `<div class=\"error\" style=\"color:red;\">${err}</div>`;\n",
       "      throw err;\n",
       "    }\n",
       "\n",
       "    function displayChart(vegaEmbed) {\n",
       "      vegaEmbed(outputDiv, spec, embedOpt)\n",
       "        .catch(err => showError(`Javascript Error: ${err.message}<br>This usually means there's a typo in your chart specification. See the javascript console for the full traceback.`));\n",
       "    }\n",
       "\n",
       "    if(typeof define === \"function\" && define.amd) {\n",
       "      requirejs.config({paths});\n",
       "      require([\"vega-embed\"], displayChart, err => showError(`Error loading script: ${err.message}`));\n",
       "    } else if (typeof vegaEmbed === \"function\") {\n",
       "      displayChart(vegaEmbed);\n",
       "    } else {\n",
       "      loadScript(\"vega\")\n",
       "        .then(() => loadScript(\"vega-lite\"))\n",
       "        .then(() => loadScript(\"vega-embed\"))\n",
       "        .catch(showError)\n",
       "        .then(() => displayChart(vegaEmbed));\n",
       "    }\n",
       "  })({\"config\": {\"view\": {\"continuousWidth\": 400, \"continuousHeight\": 300}}, \"layer\": [{\"layer\": [{\"mark\": {\"type\": \"point\", \"size\": 75}, \"encoding\": {\"tooltip\": [{\"type\": \"temporal\", \"field\": \"date\"}, {\"type\": \"quantitative\", \"field\": \"positiveRate\"}, {\"type\": \"quantitative\", \"field\": \"sma7d\"}], \"x\": {\"type\": \"temporal\", \"field\": \"date\"}, \"y\": {\"type\": \"quantitative\", \"field\": \"positiveRate\"}}, \"selection\": {\"selector010\": {\"type\": \"interval\", \"bind\": \"scales\", \"encodings\": [\"x\", \"y\"]}}}, {\"mark\": {\"type\": \"line\", \"color\": \"purple\"}, \"encoding\": {\"x\": {\"type\": \"temporal\", \"field\": \"date\"}, \"y\": {\"type\": \"quantitative\", \"field\": \"sma7d\"}}}]}, {\"mark\": {\"type\": \"rule\", \"color\": \"#aaa\"}, \"encoding\": {\"x\": {\"type\": \"temporal\", \"field\": \"date\"}}, \"transform\": [{\"filter\": {\"selection\": \"selector009\"}}]}, {\"mark\": \"circle\", \"encoding\": {\"opacity\": {\"condition\": {\"value\": 1, \"selection\": \"selector009\"}, \"value\": 0}, \"tooltip\": [{\"type\": \"temporal\", \"field\": \"date\"}, {\"type\": \"quantitative\", \"field\": \"positiveRate\"}, {\"type\": \"quantitative\", \"field\": \"sma7d\"}], \"x\": {\"type\": \"temporal\", \"field\": \"date\"}, \"y\": {\"type\": \"quantitative\", \"field\": \"positiveRate\"}}, \"selection\": {\"selector009\": {\"type\": \"single\", \"encodings\": [\"x\"], \"on\": \"mouseover\", \"nearest\": true, \"empty\": \"none\"}}}, {\"mark\": {\"type\": \"text\", \"align\": \"left\", \"dx\": 5, \"dy\": -5, \"stroke\": \"white\", \"strokeWidth\": 2}, \"encoding\": {\"text\": {\"type\": \"quantitative\", \"field\": \"positiveRate\"}, \"tooltip\": [{\"type\": \"temporal\", \"field\": \"date\"}, {\"type\": \"quantitative\", \"field\": \"positiveRate\"}, {\"type\": \"quantitative\", \"field\": \"sma7d\"}], \"x\": {\"type\": \"temporal\", \"field\": \"date\"}, \"y\": {\"type\": \"quantitative\", \"field\": \"positiveRate\"}}, \"transform\": [{\"filter\": {\"selection\": \"selector009\"}}]}, {\"mark\": {\"type\": \"text\", \"align\": \"left\", \"dx\": 5, \"dy\": -5}, \"encoding\": {\"text\": {\"type\": \"quantitative\", \"field\": \"positiveRate\"}, \"tooltip\": [{\"type\": \"temporal\", \"field\": \"date\"}, {\"type\": \"quantitative\", \"field\": \"positiveRate\"}, {\"type\": \"quantitative\", \"field\": \"sma7d\"}], \"x\": {\"type\": \"temporal\", \"field\": \"date\"}, \"y\": {\"type\": \"quantitative\", \"field\": \"positiveRate\"}}, \"transform\": [{\"filter\": {\"selection\": \"selector009\"}}]}], \"data\": {\"name\": \"data-7121a83a36a83b5fae7411be8190b459\"}, \"height\": 400, \"title\": \"New York: positiveRate\", \"width\": 500, \"$schema\": \"https://vega.github.io/schema/vega-lite/v4.8.1.json\", \"datasets\": {\"data-7121a83a36a83b5fae7411be8190b459\": [{\"date\": \"2020-05-28T00:00:00\", \"totalTestResultsIncrease\": 65245.0, \"positiveIncrease\": 1768.0, \"death\": 23722.0, \"deathIncrease\": 79.0, \"positiveRate\": 0.027, \"state\": \"New York\", \"sma7d\": 0.032}, {\"date\": \"2020-05-29T00:00:00\", \"totalTestResultsIncrease\": 67341.0, \"positiveIncrease\": 1551.0, \"death\": 23780.0, \"deathIncrease\": 58.0, \"positiveRate\": 0.023, \"state\": \"New York\", \"sma7d\": 0.03}, {\"date\": \"2020-05-30T00:00:00\", \"totalTestResultsIncrease\": 61251.0, \"positiveIncrease\": 1376.0, \"death\": 23848.0, \"deathIncrease\": 68.0, \"positiveRate\": 0.022, \"state\": \"New York\", \"sma7d\": 0.028}, {\"date\": \"2020-05-31T00:00:00\", \"totalTestResultsIncrease\": 58444.0, \"positiveIncrease\": 1110.0, \"death\": 23905.0, \"deathIncrease\": 57.0, \"positiveRate\": 0.019, \"state\": \"New York\", \"sma7d\": 0.026}, {\"date\": \"2020-06-01T00:00:00\", \"totalTestResultsIncrease\": 49952.0, \"positiveIncrease\": 941.0, \"death\": 23959.0, \"deathIncrease\": 54.0, \"positiveRate\": 0.019, \"state\": \"New York\", \"sma7d\": 0.024}, {\"date\": \"2020-06-02T00:00:00\", \"totalTestResultsIncrease\": 54054.0, \"positiveIncrease\": 1329.0, \"death\": 24023.0, \"deathIncrease\": 64.0, \"positiveRate\": 0.025, \"state\": \"New York\", \"sma7d\": 0.024}, {\"date\": \"2020-06-03T00:00:00\", \"totalTestResultsIncrease\": 61642.0, \"positiveIncrease\": 1045.0, \"death\": 24079.0, \"deathIncrease\": 56.0, \"positiveRate\": 0.017, \"state\": \"New York\", \"sma7d\": 0.022}, {\"date\": \"2020-06-04T00:00:00\", \"totalTestResultsIncrease\": 63559.0, \"positiveIncrease\": 1048.0, \"death\": 24133.0, \"deathIncrease\": 54.0, \"positiveRate\": 0.016, \"state\": \"New York\", \"sma7d\": 0.02}, {\"date\": \"2020-06-05T00:00:00\", \"totalTestResultsIncrease\": 66480.0, \"positiveIncrease\": 1075.0, \"death\": 24175.0, \"deathIncrease\": 42.0, \"positiveRate\": 0.016, \"state\": \"New York\", \"sma7d\": 0.019}, {\"date\": \"2020-06-06T00:00:00\", \"totalTestResultsIncrease\": 77895.0, \"positiveIncrease\": 1108.0, \"death\": 24212.0, \"deathIncrease\": 37.0, \"positiveRate\": 0.014, \"state\": \"New York\", \"sma7d\": 0.018}, {\"date\": \"2020-06-07T00:00:00\", \"totalTestResultsIncrease\": 60435.0, \"positiveIncrease\": 781.0, \"death\": 24259.0, \"deathIncrease\": 47.0, \"positiveRate\": 0.013, \"state\": \"New York\", \"sma7d\": 0.017}, {\"date\": \"2020-06-08T00:00:00\", \"totalTestResultsIncrease\": 58054.0, \"positiveIncrease\": 702.0, \"death\": 24299.0, \"deathIncrease\": 40.0, \"positiveRate\": 0.012, \"state\": \"New York\", \"sma7d\": 0.016}, {\"date\": \"2020-06-09T00:00:00\", \"totalTestResultsIncrease\": 49973.0, \"positiveIncrease\": 683.0, \"death\": 24348.0, \"deathIncrease\": 49.0, \"positiveRate\": 0.014, \"state\": \"New York\", \"sma7d\": 0.015}, {\"date\": \"2020-06-10T00:00:00\", \"totalTestResultsIncrease\": 62297.0, \"positiveIncrease\": 674.0, \"death\": 24404.0, \"deathIncrease\": 56.0, \"positiveRate\": 0.011, \"state\": \"New York\", \"sma7d\": 0.014}, {\"date\": \"2020-06-11T00:00:00\", \"totalTestResultsIncrease\": 60839.0, \"positiveIncrease\": 736.0, \"death\": 24442.0, \"deathIncrease\": 38.0, \"positiveRate\": 0.012, \"state\": \"New York\", \"sma7d\": 0.013}, {\"date\": \"2020-06-12T00:00:00\", \"totalTestResultsIncrease\": 72395.0, \"positiveIncrease\": 822.0, \"death\": 24495.0, \"deathIncrease\": 53.0, \"positiveRate\": 0.011, \"state\": \"New York\", \"sma7d\": 0.012}, {\"date\": \"2020-06-13T00:00:00\", \"totalTestResultsIncrease\": 70840.0, \"positiveIncrease\": 916.0, \"death\": 24527.0, \"deathIncrease\": 32.0, \"positiveRate\": 0.013, \"state\": \"New York\", \"sma7d\": 0.012}, {\"date\": \"2020-06-14T00:00:00\", \"totalTestResultsIncrease\": 62359.0, \"positiveIncrease\": 694.0, \"death\": 24551.0, \"deathIncrease\": 24.0, \"positiveRate\": 0.011, \"state\": \"New York\", \"sma7d\": 0.012}, {\"date\": \"2020-06-15T00:00:00\", \"totalTestResultsIncrease\": 56611.0, \"positiveIncrease\": 620.0, \"death\": 24579.0, \"deathIncrease\": 28.0, \"positiveRate\": 0.011, \"state\": \"New York\", \"sma7d\": 0.012}, {\"date\": \"2020-06-16T00:00:00\", \"totalTestResultsIncrease\": 60568.0, \"positiveIncrease\": 631.0, \"death\": 24608.0, \"deathIncrease\": 29.0, \"positiveRate\": 0.01, \"state\": \"New York\", \"sma7d\": 0.011}, {\"date\": \"2020-06-17T00:00:00\", \"totalTestResultsIncrease\": 59341.0, \"positiveIncrease\": 567.0, \"death\": 24629.0, \"deathIncrease\": 21.0, \"positiveRate\": 0.01, \"state\": \"New York\", \"sma7d\": 0.011}, {\"date\": \"2020-06-18T00:00:00\", \"totalTestResultsIncrease\": 68541.0, \"positiveIncrease\": 618.0, \"death\": 24661.0, \"deathIncrease\": 32.0, \"positiveRate\": 0.009, \"state\": \"New York\", \"sma7d\": 0.011}, {\"date\": \"2020-06-19T00:00:00\", \"totalTestResultsIncrease\": 79303.0, \"positiveIncrease\": 796.0, \"death\": 24686.0, \"deathIncrease\": 25.0, \"positiveRate\": 0.01, \"state\": \"New York\", \"sma7d\": 0.011}, {\"date\": \"2020-06-20T00:00:00\", \"totalTestResultsIncrease\": 68830.0, \"positiveIncrease\": 716.0, \"death\": 24710.0, \"deathIncrease\": 24.0, \"positiveRate\": 0.01, \"state\": \"New York\", \"sma7d\": 0.01}, {\"date\": \"2020-06-21T00:00:00\", \"totalTestResultsIncrease\": 67526.0, \"positiveIncrease\": 664.0, \"death\": 24725.0, \"deathIncrease\": 15.0, \"positiveRate\": 0.01, \"state\": \"New York\", \"sma7d\": 0.01}, {\"date\": \"2020-06-22T00:00:00\", \"totalTestResultsIncrease\": 56780.0, \"positiveIncrease\": 552.0, \"death\": 24739.0, \"deathIncrease\": 14.0, \"positiveRate\": 0.01, \"state\": \"New York\", \"sma7d\": 0.01}, {\"date\": \"2020-06-23T00:00:00\", \"totalTestResultsIncrease\": 48709.0, \"positiveIncrease\": 597.0, \"death\": 24766.0, \"deathIncrease\": 27.0, \"positiveRate\": 0.012, \"state\": \"New York\", \"sma7d\": 0.01}, {\"date\": \"2020-06-24T00:00:00\", \"totalTestResultsIncrease\": 51144.0, \"positiveIncrease\": 581.0, \"death\": 24782.0, \"deathIncrease\": 16.0, \"positiveRate\": 0.011, \"state\": \"New York\", \"sma7d\": 0.01}, {\"date\": \"2020-06-25T00:00:00\", \"totalTestResultsIncrease\": 67642.0, \"positiveIncrease\": 749.0, \"death\": 24800.0, \"deathIncrease\": 18.0, \"positiveRate\": 0.011, \"state\": \"New York\", \"sma7d\": 0.011}, {\"date\": \"2020-06-26T00:00:00\", \"totalTestResultsIncrease\": 61723.0, \"positiveIncrease\": 805.0, \"death\": 24814.0, \"deathIncrease\": 14.0, \"positiveRate\": 0.013, \"state\": \"New York\", \"sma7d\": 0.011}, {\"date\": \"2020-06-27T00:00:00\", \"totalTestResultsIncrease\": 73262.0, \"positiveIncrease\": 703.0, \"death\": 24830.0, \"deathIncrease\": 16.0, \"positiveRate\": 0.01, \"state\": \"New York\", \"sma7d\": 0.011}, {\"date\": \"2020-06-28T00:00:00\", \"totalTestResultsIncrease\": 61906.0, \"positiveIncrease\": 616.0, \"death\": 24835.0, \"deathIncrease\": 5.0, \"positiveRate\": 0.01, \"state\": \"New York\", \"sma7d\": 0.011}, {\"date\": \"2020-06-29T00:00:00\", \"totalTestResultsIncrease\": 46428.0, \"positiveIncrease\": 391.0, \"death\": 24842.0, \"deathIncrease\": 7.0, \"positiveRate\": 0.008, \"state\": \"New York\", \"sma7d\": 0.011}, {\"date\": \"2020-06-30T00:00:00\", \"totalTestResultsIncrease\": 52025.0, \"positiveIncrease\": 524.0, \"death\": 24855.0, \"deathIncrease\": 13.0, \"positiveRate\": 0.01, \"state\": \"New York\", \"sma7d\": 0.01}, {\"date\": \"2020-07-01T00:00:00\", \"totalTestResultsIncrease\": 56710.0, \"positiveIncrease\": 625.0, \"death\": 24866.0, \"deathIncrease\": 11.0, \"positiveRate\": 0.011, \"state\": \"New York\", \"sma7d\": 0.01}, {\"date\": \"2020-07-02T00:00:00\", \"totalTestResultsIncrease\": 69945.0, \"positiveIncrease\": 875.0, \"death\": 24877.0, \"deathIncrease\": 11.0, \"positiveRate\": 0.013, \"state\": \"New York\", \"sma7d\": 0.011}, {\"date\": \"2020-07-03T00:00:00\", \"totalTestResultsIncrease\": 66392.0, \"positiveIncrease\": 918.0, \"death\": 24885.0, \"deathIncrease\": 8.0, \"positiveRate\": 0.014, \"state\": \"New York\", \"sma7d\": 0.011}, {\"date\": \"2020-07-04T00:00:00\", \"totalTestResultsIncrease\": 62403.0, \"positiveIncrease\": 726.0, \"death\": 24896.0, \"deathIncrease\": 11.0, \"positiveRate\": 0.012, \"state\": \"New York\", \"sma7d\": 0.011}, {\"date\": \"2020-07-05T00:00:00\", \"totalTestResultsIncrease\": 63415.0, \"positiveIncrease\": 533.0, \"death\": 24904.0, \"deathIncrease\": 8.0, \"positiveRate\": 0.008, \"state\": \"New York\", \"sma7d\": 0.011}, {\"date\": \"2020-07-06T00:00:00\", \"totalTestResultsIncrease\": 54328.0, \"positiveIncrease\": 518.0, \"death\": 24913.0, \"deathIncrease\": 9.0, \"positiveRate\": 0.01, \"state\": \"New York\", \"sma7d\": 0.011}, {\"date\": \"2020-07-07T00:00:00\", \"totalTestResultsIncrease\": 56736.0, \"positiveIncrease\": 588.0, \"death\": 24924.0, \"deathIncrease\": 11.0, \"positiveRate\": 0.01, \"state\": \"New York\", \"sma7d\": 0.011}, {\"date\": \"2020-07-08T00:00:00\", \"totalTestResultsIncrease\": 57585.0, \"positiveIncrease\": 692.0, \"death\": 24944.0, \"deathIncrease\": 20.0, \"positiveRate\": 0.012, \"state\": \"New York\", \"sma7d\": 0.011}, {\"date\": \"2020-07-09T00:00:00\", \"totalTestResultsIncrease\": 65564.0, \"positiveIncrease\": 584.0, \"death\": 24959.0, \"deathIncrease\": 15.0, \"positiveRate\": 0.009, \"state\": \"New York\", \"sma7d\": 0.011}, {\"date\": \"2020-07-10T00:00:00\", \"totalTestResultsIncrease\": 73558.0, \"positiveIncrease\": 786.0, \"death\": 24968.0, \"deathIncrease\": 9.0, \"positiveRate\": 0.011, \"state\": \"New York\", \"sma7d\": 0.01}, {\"date\": \"2020-07-11T00:00:00\", \"totalTestResultsIncrease\": 69203.0, \"positiveIncrease\": 730.0, \"death\": 24974.0, \"deathIncrease\": 6.0, \"positiveRate\": 0.011, \"state\": \"New York\", \"sma7d\": 0.01}, {\"date\": \"2020-07-12T00:00:00\", \"totalTestResultsIncrease\": 62418.0, \"positiveIncrease\": 677.0, \"death\": 24979.0, \"deathIncrease\": 5.0, \"positiveRate\": 0.011, \"state\": \"New York\", \"sma7d\": 0.011}, {\"date\": \"2020-07-13T00:00:00\", \"totalTestResultsIncrease\": 51687.0, \"positiveIncrease\": 557.0, \"death\": 24989.0, \"deathIncrease\": 10.0, \"positiveRate\": 0.011, \"state\": \"New York\", \"sma7d\": 0.011}, {\"date\": \"2020-07-14T00:00:00\", \"totalTestResultsIncrease\": 60045.0, \"positiveIncrease\": 912.0, \"death\": 24994.0, \"deathIncrease\": 5.0, \"positiveRate\": 0.015, \"state\": \"New York\", \"sma7d\": 0.011}, {\"date\": \"2020-07-15T00:00:00\", \"totalTestResultsIncrease\": 63598.0, \"positiveIncrease\": 831.0, \"death\": 25003.0, \"deathIncrease\": 9.0, \"positiveRate\": 0.013, \"state\": \"New York\", \"sma7d\": 0.012}, {\"date\": \"2020-07-16T00:00:00\", \"totalTestResultsIncrease\": 72685.0, \"positiveIncrease\": 769.0, \"death\": 25014.0, \"deathIncrease\": 11.0, \"positiveRate\": 0.011, \"state\": \"New York\", \"sma7d\": 0.012}, {\"date\": \"2020-07-17T00:00:00\", \"totalTestResultsIncrease\": 78239.0, \"positiveIncrease\": 776.0, \"death\": 25024.0, \"deathIncrease\": 10.0, \"positiveRate\": 0.01, \"state\": \"New York\", \"sma7d\": 0.012}, {\"date\": \"2020-07-18T00:00:00\", \"totalTestResultsIncrease\": 69817.0, \"positiveIncrease\": 754.0, \"death\": 25035.0, \"deathIncrease\": 11.0, \"positiveRate\": 0.011, \"state\": \"New York\", \"sma7d\": 0.012}, {\"date\": \"2020-07-19T00:00:00\", \"totalTestResultsIncrease\": 46204.0, \"positiveIncrease\": 502.0, \"death\": 25048.0, \"deathIncrease\": 13.0, \"positiveRate\": 0.011, \"state\": \"New York\", \"sma7d\": 0.012}, {\"date\": \"2020-07-20T00:00:00\", \"totalTestResultsIncrease\": 49342.0, \"positiveIncrease\": 519.0, \"death\": 25056.0, \"deathIncrease\": 8.0, \"positiveRate\": 0.011, \"state\": \"New York\", \"sma7d\": 0.012}, {\"date\": \"2020-07-21T00:00:00\", \"totalTestResultsIncrease\": 66169.0, \"positiveIncrease\": 855.0, \"death\": 25058.0, \"deathIncrease\": 2.0, \"positiveRate\": 0.013, \"state\": \"New York\", \"sma7d\": 0.011}, {\"date\": \"2020-07-22T00:00:00\", \"totalTestResultsIncrease\": 67659.0, \"positiveIncrease\": 705.0, \"death\": 25068.0, \"deathIncrease\": 10.0, \"positiveRate\": 0.01, \"state\": \"New York\", \"sma7d\": 0.011}]}}, {\"mode\": \"vega-lite\"});\n",
       "</script>"
      ],
      "text/plain": [
       "alt.LayerChart(...)"
      ]
     },
     "execution_count": 12,
     "metadata": {},
     "output_type": "execute_result"
    }
   ],
   "source": [
    "create_plot(ny, 'positiveRate')"
   ]
  },
  {
   "cell_type": "code",
   "execution_count": 13,
   "metadata": {},
   "outputs": [
    {
     "data": {
      "text/html": [
       "\n",
       "<div id=\"altair-viz-1d1eb6e2a1904afc959be39403e913bc\"></div>\n",
       "<script type=\"text/javascript\">\n",
       "  (function(spec, embedOpt){\n",
       "    let outputDiv = document.currentScript.previousElementSibling;\n",
       "    if (outputDiv.id !== \"altair-viz-1d1eb6e2a1904afc959be39403e913bc\") {\n",
       "      outputDiv = document.getElementById(\"altair-viz-1d1eb6e2a1904afc959be39403e913bc\");\n",
       "    }\n",
       "    const paths = {\n",
       "      \"vega\": \"https://cdn.jsdelivr.net/npm//vega@5?noext\",\n",
       "      \"vega-lib\": \"https://cdn.jsdelivr.net/npm//vega-lib?noext\",\n",
       "      \"vega-lite\": \"https://cdn.jsdelivr.net/npm//vega-lite@4.8.1?noext\",\n",
       "      \"vega-embed\": \"https://cdn.jsdelivr.net/npm//vega-embed@6?noext\",\n",
       "    };\n",
       "\n",
       "    function loadScript(lib) {\n",
       "      return new Promise(function(resolve, reject) {\n",
       "        var s = document.createElement('script');\n",
       "        s.src = paths[lib];\n",
       "        s.async = true;\n",
       "        s.onload = () => resolve(paths[lib]);\n",
       "        s.onerror = () => reject(`Error loading script: ${paths[lib]}`);\n",
       "        document.getElementsByTagName(\"head\")[0].appendChild(s);\n",
       "      });\n",
       "    }\n",
       "\n",
       "    function showError(err) {\n",
       "      outputDiv.innerHTML = `<div class=\"error\" style=\"color:red;\">${err}</div>`;\n",
       "      throw err;\n",
       "    }\n",
       "\n",
       "    function displayChart(vegaEmbed) {\n",
       "      vegaEmbed(outputDiv, spec, embedOpt)\n",
       "        .catch(err => showError(`Javascript Error: ${err.message}<br>This usually means there's a typo in your chart specification. See the javascript console for the full traceback.`));\n",
       "    }\n",
       "\n",
       "    if(typeof define === \"function\" && define.amd) {\n",
       "      requirejs.config({paths});\n",
       "      require([\"vega-embed\"], displayChart, err => showError(`Error loading script: ${err.message}`));\n",
       "    } else if (typeof vegaEmbed === \"function\") {\n",
       "      displayChart(vegaEmbed);\n",
       "    } else {\n",
       "      loadScript(\"vega\")\n",
       "        .then(() => loadScript(\"vega-lite\"))\n",
       "        .then(() => loadScript(\"vega-embed\"))\n",
       "        .catch(showError)\n",
       "        .then(() => displayChart(vegaEmbed));\n",
       "    }\n",
       "  })({\"config\": {\"view\": {\"continuousWidth\": 400, \"continuousHeight\": 300}}, \"layer\": [{\"layer\": [{\"mark\": {\"type\": \"point\", \"size\": 75}, \"encoding\": {\"tooltip\": [{\"type\": \"temporal\", \"field\": \"date\"}, {\"type\": \"quantitative\", \"field\": \"deathIncrease\"}, {\"type\": \"quantitative\", \"field\": \"sma7d\"}], \"x\": {\"type\": \"temporal\", \"field\": \"date\"}, \"y\": {\"type\": \"quantitative\", \"field\": \"deathIncrease\"}}, \"selection\": {\"selector012\": {\"type\": \"interval\", \"bind\": \"scales\", \"encodings\": [\"x\", \"y\"]}}}, {\"mark\": {\"type\": \"line\", \"color\": \"purple\"}, \"encoding\": {\"x\": {\"type\": \"temporal\", \"field\": \"date\"}, \"y\": {\"type\": \"quantitative\", \"field\": \"sma7d\"}}}]}, {\"mark\": {\"type\": \"rule\", \"color\": \"#aaa\"}, \"encoding\": {\"x\": {\"type\": \"temporal\", \"field\": \"date\"}}, \"transform\": [{\"filter\": {\"selection\": \"selector011\"}}]}, {\"mark\": \"circle\", \"encoding\": {\"opacity\": {\"condition\": {\"value\": 1, \"selection\": \"selector011\"}, \"value\": 0}, \"tooltip\": [{\"type\": \"temporal\", \"field\": \"date\"}, {\"type\": \"quantitative\", \"field\": \"deathIncrease\"}, {\"type\": \"quantitative\", \"field\": \"sma7d\"}], \"x\": {\"type\": \"temporal\", \"field\": \"date\"}, \"y\": {\"type\": \"quantitative\", \"field\": \"deathIncrease\"}}, \"selection\": {\"selector011\": {\"type\": \"single\", \"encodings\": [\"x\"], \"on\": \"mouseover\", \"nearest\": true, \"empty\": \"none\"}}}, {\"mark\": {\"type\": \"text\", \"align\": \"left\", \"dx\": 5, \"dy\": -5, \"stroke\": \"white\", \"strokeWidth\": 2}, \"encoding\": {\"text\": {\"type\": \"quantitative\", \"field\": \"deathIncrease\"}, \"tooltip\": [{\"type\": \"temporal\", \"field\": \"date\"}, {\"type\": \"quantitative\", \"field\": \"deathIncrease\"}, {\"type\": \"quantitative\", \"field\": \"sma7d\"}], \"x\": {\"type\": \"temporal\", \"field\": \"date\"}, \"y\": {\"type\": \"quantitative\", \"field\": \"deathIncrease\"}}, \"transform\": [{\"filter\": {\"selection\": \"selector011\"}}]}, {\"mark\": {\"type\": \"text\", \"align\": \"left\", \"dx\": 5, \"dy\": -5}, \"encoding\": {\"text\": {\"type\": \"quantitative\", \"field\": \"deathIncrease\"}, \"tooltip\": [{\"type\": \"temporal\", \"field\": \"date\"}, {\"type\": \"quantitative\", \"field\": \"deathIncrease\"}, {\"type\": \"quantitative\", \"field\": \"sma7d\"}], \"x\": {\"type\": \"temporal\", \"field\": \"date\"}, \"y\": {\"type\": \"quantitative\", \"field\": \"deathIncrease\"}}, \"transform\": [{\"filter\": {\"selection\": \"selector011\"}}]}], \"data\": {\"name\": \"data-fab25f6e0880f86bac21ab09f87042c1\"}, \"height\": 400, \"title\": \"New York: deathIncrease\", \"width\": 500, \"$schema\": \"https://vega.github.io/schema/vega-lite/v4.8.1.json\", \"datasets\": {\"data-fab25f6e0880f86bac21ab09f87042c1\": [{\"date\": \"2020-05-28T00:00:00\", \"totalTestResultsIncrease\": 65245.0, \"positiveIncrease\": 1768.0, \"death\": 23722.0, \"deathIncrease\": 79.0, \"positiveRate\": 0.027, \"state\": \"New York\", \"sma7d\": 91.286}, {\"date\": \"2020-05-29T00:00:00\", \"totalTestResultsIncrease\": 67341.0, \"positiveIncrease\": 1551.0, \"death\": 23780.0, \"deathIncrease\": 58.0, \"positiveRate\": 0.023, \"state\": \"New York\", \"sma7d\": 83.571}, {\"date\": \"2020-05-30T00:00:00\", \"totalTestResultsIncrease\": 61251.0, \"positiveIncrease\": 1376.0, \"death\": 23848.0, \"deathIncrease\": 68.0, \"positiveRate\": 0.022, \"state\": \"New York\", \"sma7d\": 80.857}, {\"date\": \"2020-05-31T00:00:00\", \"totalTestResultsIncrease\": 58444.0, \"positiveIncrease\": 1110.0, \"death\": 23905.0, \"deathIncrease\": 57.0, \"positiveRate\": 0.019, \"state\": \"New York\", \"sma7d\": 73.429}, {\"date\": \"2020-06-01T00:00:00\", \"totalTestResultsIncrease\": 49952.0, \"positiveIncrease\": 941.0, \"death\": 23959.0, \"deathIncrease\": 54.0, \"positiveRate\": 0.019, \"state\": \"New York\", \"sma7d\": 67.286}, {\"date\": \"2020-06-02T00:00:00\", \"totalTestResultsIncrease\": 54054.0, \"positiveIncrease\": 1329.0, \"death\": 24023.0, \"deathIncrease\": 64.0, \"positiveRate\": 0.025, \"state\": \"New York\", \"sma7d\": 65.571}, {\"date\": \"2020-06-03T00:00:00\", \"totalTestResultsIncrease\": 61642.0, \"positiveIncrease\": 1045.0, \"death\": 24079.0, \"deathIncrease\": 56.0, \"positiveRate\": 0.017, \"state\": \"New York\", \"sma7d\": 62.286}, {\"date\": \"2020-06-04T00:00:00\", \"totalTestResultsIncrease\": 63559.0, \"positiveIncrease\": 1048.0, \"death\": 24133.0, \"deathIncrease\": 54.0, \"positiveRate\": 0.016, \"state\": \"New York\", \"sma7d\": 58.714}, {\"date\": \"2020-06-05T00:00:00\", \"totalTestResultsIncrease\": 66480.0, \"positiveIncrease\": 1075.0, \"death\": 24175.0, \"deathIncrease\": 42.0, \"positiveRate\": 0.016, \"state\": \"New York\", \"sma7d\": 56.429}, {\"date\": \"2020-06-06T00:00:00\", \"totalTestResultsIncrease\": 77895.0, \"positiveIncrease\": 1108.0, \"death\": 24212.0, \"deathIncrease\": 37.0, \"positiveRate\": 0.014, \"state\": \"New York\", \"sma7d\": 52.0}, {\"date\": \"2020-06-07T00:00:00\", \"totalTestResultsIncrease\": 60435.0, \"positiveIncrease\": 781.0, \"death\": 24259.0, \"deathIncrease\": 47.0, \"positiveRate\": 0.013, \"state\": \"New York\", \"sma7d\": 50.571}, {\"date\": \"2020-06-08T00:00:00\", \"totalTestResultsIncrease\": 58054.0, \"positiveIncrease\": 702.0, \"death\": 24299.0, \"deathIncrease\": 40.0, \"positiveRate\": 0.012, \"state\": \"New York\", \"sma7d\": 48.571}, {\"date\": \"2020-06-09T00:00:00\", \"totalTestResultsIncrease\": 49973.0, \"positiveIncrease\": 683.0, \"death\": 24348.0, \"deathIncrease\": 49.0, \"positiveRate\": 0.014, \"state\": \"New York\", \"sma7d\": 46.429}, {\"date\": \"2020-06-10T00:00:00\", \"totalTestResultsIncrease\": 62297.0, \"positiveIncrease\": 674.0, \"death\": 24404.0, \"deathIncrease\": 56.0, \"positiveRate\": 0.011, \"state\": \"New York\", \"sma7d\": 46.429}, {\"date\": \"2020-06-11T00:00:00\", \"totalTestResultsIncrease\": 60839.0, \"positiveIncrease\": 736.0, \"death\": 24442.0, \"deathIncrease\": 38.0, \"positiveRate\": 0.012, \"state\": \"New York\", \"sma7d\": 44.143}, {\"date\": \"2020-06-12T00:00:00\", \"totalTestResultsIncrease\": 72395.0, \"positiveIncrease\": 822.0, \"death\": 24495.0, \"deathIncrease\": 53.0, \"positiveRate\": 0.011, \"state\": \"New York\", \"sma7d\": 45.714}, {\"date\": \"2020-06-13T00:00:00\", \"totalTestResultsIncrease\": 70840.0, \"positiveIncrease\": 916.0, \"death\": 24527.0, \"deathIncrease\": 32.0, \"positiveRate\": 0.013, \"state\": \"New York\", \"sma7d\": 45.0}, {\"date\": \"2020-06-14T00:00:00\", \"totalTestResultsIncrease\": 62359.0, \"positiveIncrease\": 694.0, \"death\": 24551.0, \"deathIncrease\": 24.0, \"positiveRate\": 0.011, \"state\": \"New York\", \"sma7d\": 41.714}, {\"date\": \"2020-06-15T00:00:00\", \"totalTestResultsIncrease\": 56611.0, \"positiveIncrease\": 620.0, \"death\": 24579.0, \"deathIncrease\": 28.0, \"positiveRate\": 0.011, \"state\": \"New York\", \"sma7d\": 40.0}, {\"date\": \"2020-06-16T00:00:00\", \"totalTestResultsIncrease\": 60568.0, \"positiveIncrease\": 631.0, \"death\": 24608.0, \"deathIncrease\": 29.0, \"positiveRate\": 0.01, \"state\": \"New York\", \"sma7d\": 37.143}, {\"date\": \"2020-06-17T00:00:00\", \"totalTestResultsIncrease\": 59341.0, \"positiveIncrease\": 567.0, \"death\": 24629.0, \"deathIncrease\": 21.0, \"positiveRate\": 0.01, \"state\": \"New York\", \"sma7d\": 32.143}, {\"date\": \"2020-06-18T00:00:00\", \"totalTestResultsIncrease\": 68541.0, \"positiveIncrease\": 618.0, \"death\": 24661.0, \"deathIncrease\": 32.0, \"positiveRate\": 0.009, \"state\": \"New York\", \"sma7d\": 31.286}, {\"date\": \"2020-06-19T00:00:00\", \"totalTestResultsIncrease\": 79303.0, \"positiveIncrease\": 796.0, \"death\": 24686.0, \"deathIncrease\": 25.0, \"positiveRate\": 0.01, \"state\": \"New York\", \"sma7d\": 27.286}, {\"date\": \"2020-06-20T00:00:00\", \"totalTestResultsIncrease\": 68830.0, \"positiveIncrease\": 716.0, \"death\": 24710.0, \"deathIncrease\": 24.0, \"positiveRate\": 0.01, \"state\": \"New York\", \"sma7d\": 26.143}, {\"date\": \"2020-06-21T00:00:00\", \"totalTestResultsIncrease\": 67526.0, \"positiveIncrease\": 664.0, \"death\": 24725.0, \"deathIncrease\": 15.0, \"positiveRate\": 0.01, \"state\": \"New York\", \"sma7d\": 24.857}, {\"date\": \"2020-06-22T00:00:00\", \"totalTestResultsIncrease\": 56780.0, \"positiveIncrease\": 552.0, \"death\": 24739.0, \"deathIncrease\": 14.0, \"positiveRate\": 0.01, \"state\": \"New York\", \"sma7d\": 22.857}, {\"date\": \"2020-06-23T00:00:00\", \"totalTestResultsIncrease\": 48709.0, \"positiveIncrease\": 597.0, \"death\": 24766.0, \"deathIncrease\": 27.0, \"positiveRate\": 0.012, \"state\": \"New York\", \"sma7d\": 22.571}, {\"date\": \"2020-06-24T00:00:00\", \"totalTestResultsIncrease\": 51144.0, \"positiveIncrease\": 581.0, \"death\": 24782.0, \"deathIncrease\": 16.0, \"positiveRate\": 0.011, \"state\": \"New York\", \"sma7d\": 21.857}, {\"date\": \"2020-06-25T00:00:00\", \"totalTestResultsIncrease\": 67642.0, \"positiveIncrease\": 749.0, \"death\": 24800.0, \"deathIncrease\": 18.0, \"positiveRate\": 0.011, \"state\": \"New York\", \"sma7d\": 19.857}, {\"date\": \"2020-06-26T00:00:00\", \"totalTestResultsIncrease\": 61723.0, \"positiveIncrease\": 805.0, \"death\": 24814.0, \"deathIncrease\": 14.0, \"positiveRate\": 0.013, \"state\": \"New York\", \"sma7d\": 18.286}, {\"date\": \"2020-06-27T00:00:00\", \"totalTestResultsIncrease\": 73262.0, \"positiveIncrease\": 703.0, \"death\": 24830.0, \"deathIncrease\": 16.0, \"positiveRate\": 0.01, \"state\": \"New York\", \"sma7d\": 17.143}, {\"date\": \"2020-06-28T00:00:00\", \"totalTestResultsIncrease\": 61906.0, \"positiveIncrease\": 616.0, \"death\": 24835.0, \"deathIncrease\": 5.0, \"positiveRate\": 0.01, \"state\": \"New York\", \"sma7d\": 15.714}, {\"date\": \"2020-06-29T00:00:00\", \"totalTestResultsIncrease\": 46428.0, \"positiveIncrease\": 391.0, \"death\": 24842.0, \"deathIncrease\": 7.0, \"positiveRate\": 0.008, \"state\": \"New York\", \"sma7d\": 14.714}, {\"date\": \"2020-06-30T00:00:00\", \"totalTestResultsIncrease\": 52025.0, \"positiveIncrease\": 524.0, \"death\": 24855.0, \"deathIncrease\": 13.0, \"positiveRate\": 0.01, \"state\": \"New York\", \"sma7d\": 12.714}, {\"date\": \"2020-07-01T00:00:00\", \"totalTestResultsIncrease\": 56710.0, \"positiveIncrease\": 625.0, \"death\": 24866.0, \"deathIncrease\": 11.0, \"positiveRate\": 0.011, \"state\": \"New York\", \"sma7d\": 12.0}, {\"date\": \"2020-07-02T00:00:00\", \"totalTestResultsIncrease\": 69945.0, \"positiveIncrease\": 875.0, \"death\": 24877.0, \"deathIncrease\": 11.0, \"positiveRate\": 0.013, \"state\": \"New York\", \"sma7d\": 11.0}, {\"date\": \"2020-07-03T00:00:00\", \"totalTestResultsIncrease\": 66392.0, \"positiveIncrease\": 918.0, \"death\": 24885.0, \"deathIncrease\": 8.0, \"positiveRate\": 0.014, \"state\": \"New York\", \"sma7d\": 10.143}, {\"date\": \"2020-07-04T00:00:00\", \"totalTestResultsIncrease\": 62403.0, \"positiveIncrease\": 726.0, \"death\": 24896.0, \"deathIncrease\": 11.0, \"positiveRate\": 0.012, \"state\": \"New York\", \"sma7d\": 9.429}, {\"date\": \"2020-07-05T00:00:00\", \"totalTestResultsIncrease\": 63415.0, \"positiveIncrease\": 533.0, \"death\": 24904.0, \"deathIncrease\": 8.0, \"positiveRate\": 0.008, \"state\": \"New York\", \"sma7d\": 9.857}, {\"date\": \"2020-07-06T00:00:00\", \"totalTestResultsIncrease\": 54328.0, \"positiveIncrease\": 518.0, \"death\": 24913.0, \"deathIncrease\": 9.0, \"positiveRate\": 0.01, \"state\": \"New York\", \"sma7d\": 10.143}, {\"date\": \"2020-07-07T00:00:00\", \"totalTestResultsIncrease\": 56736.0, \"positiveIncrease\": 588.0, \"death\": 24924.0, \"deathIncrease\": 11.0, \"positiveRate\": 0.01, \"state\": \"New York\", \"sma7d\": 9.857}, {\"date\": \"2020-07-08T00:00:00\", \"totalTestResultsIncrease\": 57585.0, \"positiveIncrease\": 692.0, \"death\": 24944.0, \"deathIncrease\": 20.0, \"positiveRate\": 0.012, \"state\": \"New York\", \"sma7d\": 11.143}, {\"date\": \"2020-07-09T00:00:00\", \"totalTestResultsIncrease\": 65564.0, \"positiveIncrease\": 584.0, \"death\": 24959.0, \"deathIncrease\": 15.0, \"positiveRate\": 0.009, \"state\": \"New York\", \"sma7d\": 11.714}, {\"date\": \"2020-07-10T00:00:00\", \"totalTestResultsIncrease\": 73558.0, \"positiveIncrease\": 786.0, \"death\": 24968.0, \"deathIncrease\": 9.0, \"positiveRate\": 0.011, \"state\": \"New York\", \"sma7d\": 11.857}, {\"date\": \"2020-07-11T00:00:00\", \"totalTestResultsIncrease\": 69203.0, \"positiveIncrease\": 730.0, \"death\": 24974.0, \"deathIncrease\": 6.0, \"positiveRate\": 0.011, \"state\": \"New York\", \"sma7d\": 11.143}, {\"date\": \"2020-07-12T00:00:00\", \"totalTestResultsIncrease\": 62418.0, \"positiveIncrease\": 677.0, \"death\": 24979.0, \"deathIncrease\": 5.0, \"positiveRate\": 0.011, \"state\": \"New York\", \"sma7d\": 10.714}, {\"date\": \"2020-07-13T00:00:00\", \"totalTestResultsIncrease\": 51687.0, \"positiveIncrease\": 557.0, \"death\": 24989.0, \"deathIncrease\": 10.0, \"positiveRate\": 0.011, \"state\": \"New York\", \"sma7d\": 10.857}, {\"date\": \"2020-07-14T00:00:00\", \"totalTestResultsIncrease\": 60045.0, \"positiveIncrease\": 912.0, \"death\": 24994.0, \"deathIncrease\": 5.0, \"positiveRate\": 0.015, \"state\": \"New York\", \"sma7d\": 10.0}, {\"date\": \"2020-07-15T00:00:00\", \"totalTestResultsIncrease\": 63598.0, \"positiveIncrease\": 831.0, \"death\": 25003.0, \"deathIncrease\": 9.0, \"positiveRate\": 0.013, \"state\": \"New York\", \"sma7d\": 8.429}, {\"date\": \"2020-07-16T00:00:00\", \"totalTestResultsIncrease\": 72685.0, \"positiveIncrease\": 769.0, \"death\": 25014.0, \"deathIncrease\": 11.0, \"positiveRate\": 0.011, \"state\": \"New York\", \"sma7d\": 7.857}, {\"date\": \"2020-07-17T00:00:00\", \"totalTestResultsIncrease\": 78239.0, \"positiveIncrease\": 776.0, \"death\": 25024.0, \"deathIncrease\": 10.0, \"positiveRate\": 0.01, \"state\": \"New York\", \"sma7d\": 8.0}, {\"date\": \"2020-07-18T00:00:00\", \"totalTestResultsIncrease\": 69817.0, \"positiveIncrease\": 754.0, \"death\": 25035.0, \"deathIncrease\": 11.0, \"positiveRate\": 0.011, \"state\": \"New York\", \"sma7d\": 8.714}, {\"date\": \"2020-07-19T00:00:00\", \"totalTestResultsIncrease\": 46204.0, \"positiveIncrease\": 502.0, \"death\": 25048.0, \"deathIncrease\": 13.0, \"positiveRate\": 0.011, \"state\": \"New York\", \"sma7d\": 9.857}, {\"date\": \"2020-07-20T00:00:00\", \"totalTestResultsIncrease\": 49342.0, \"positiveIncrease\": 519.0, \"death\": 25056.0, \"deathIncrease\": 8.0, \"positiveRate\": 0.011, \"state\": \"New York\", \"sma7d\": 9.571}, {\"date\": \"2020-07-21T00:00:00\", \"totalTestResultsIncrease\": 66169.0, \"positiveIncrease\": 855.0, \"death\": 25058.0, \"deathIncrease\": 2.0, \"positiveRate\": 0.013, \"state\": \"New York\", \"sma7d\": 9.143}, {\"date\": \"2020-07-22T00:00:00\", \"totalTestResultsIncrease\": 67659.0, \"positiveIncrease\": 705.0, \"death\": 25068.0, \"deathIncrease\": 10.0, \"positiveRate\": 0.01, \"state\": \"New York\", \"sma7d\": 9.286}]}}, {\"mode\": \"vega-lite\"});\n",
       "</script>"
      ],
      "text/plain": [
       "alt.LayerChart(...)"
      ]
     },
     "execution_count": 13,
     "metadata": {},
     "output_type": "execute_result"
    }
   ],
   "source": [
    "create_plot(ny, 'deathIncrease')"
   ]
  },
  {
   "cell_type": "markdown",
   "metadata": {},
   "source": [
    "## Non Tri-State"
   ]
  },
  {
   "cell_type": "code",
   "execution_count": 14,
   "metadata": {},
   "outputs": [],
   "source": [
    "non_tristate = create_df(df, lambda d: ~d['state'].isin(['CT','NJ','NY']), 'Non Tri-State')"
   ]
  },
  {
   "cell_type": "code",
   "execution_count": 15,
   "metadata": {},
   "outputs": [
    {
     "data": {
      "text/html": [
       "\n",
       "<div id=\"altair-viz-8271bbc0d09f4659ae0f37df9e3cc4a8\"></div>\n",
       "<script type=\"text/javascript\">\n",
       "  (function(spec, embedOpt){\n",
       "    let outputDiv = document.currentScript.previousElementSibling;\n",
       "    if (outputDiv.id !== \"altair-viz-8271bbc0d09f4659ae0f37df9e3cc4a8\") {\n",
       "      outputDiv = document.getElementById(\"altair-viz-8271bbc0d09f4659ae0f37df9e3cc4a8\");\n",
       "    }\n",
       "    const paths = {\n",
       "      \"vega\": \"https://cdn.jsdelivr.net/npm//vega@5?noext\",\n",
       "      \"vega-lib\": \"https://cdn.jsdelivr.net/npm//vega-lib?noext\",\n",
       "      \"vega-lite\": \"https://cdn.jsdelivr.net/npm//vega-lite@4.8.1?noext\",\n",
       "      \"vega-embed\": \"https://cdn.jsdelivr.net/npm//vega-embed@6?noext\",\n",
       "    };\n",
       "\n",
       "    function loadScript(lib) {\n",
       "      return new Promise(function(resolve, reject) {\n",
       "        var s = document.createElement('script');\n",
       "        s.src = paths[lib];\n",
       "        s.async = true;\n",
       "        s.onload = () => resolve(paths[lib]);\n",
       "        s.onerror = () => reject(`Error loading script: ${paths[lib]}`);\n",
       "        document.getElementsByTagName(\"head\")[0].appendChild(s);\n",
       "      });\n",
       "    }\n",
       "\n",
       "    function showError(err) {\n",
       "      outputDiv.innerHTML = `<div class=\"error\" style=\"color:red;\">${err}</div>`;\n",
       "      throw err;\n",
       "    }\n",
       "\n",
       "    function displayChart(vegaEmbed) {\n",
       "      vegaEmbed(outputDiv, spec, embedOpt)\n",
       "        .catch(err => showError(`Javascript Error: ${err.message}<br>This usually means there's a typo in your chart specification. See the javascript console for the full traceback.`));\n",
       "    }\n",
       "\n",
       "    if(typeof define === \"function\" && define.amd) {\n",
       "      requirejs.config({paths});\n",
       "      require([\"vega-embed\"], displayChart, err => showError(`Error loading script: ${err.message}`));\n",
       "    } else if (typeof vegaEmbed === \"function\") {\n",
       "      displayChart(vegaEmbed);\n",
       "    } else {\n",
       "      loadScript(\"vega\")\n",
       "        .then(() => loadScript(\"vega-lite\"))\n",
       "        .then(() => loadScript(\"vega-embed\"))\n",
       "        .catch(showError)\n",
       "        .then(() => displayChart(vegaEmbed));\n",
       "    }\n",
       "  })({\"config\": {\"view\": {\"continuousWidth\": 400, \"continuousHeight\": 300}}, \"layer\": [{\"layer\": [{\"mark\": {\"type\": \"point\", \"size\": 75}, \"encoding\": {\"tooltip\": [{\"type\": \"temporal\", \"field\": \"date\"}, {\"type\": \"quantitative\", \"field\": \"positiveIncrease\"}, {\"type\": \"quantitative\", \"field\": \"sma7d\"}], \"x\": {\"type\": \"temporal\", \"field\": \"date\"}, \"y\": {\"type\": \"quantitative\", \"field\": \"positiveIncrease\"}}, \"selection\": {\"selector014\": {\"type\": \"interval\", \"bind\": \"scales\", \"encodings\": [\"x\", \"y\"]}}}, {\"mark\": {\"type\": \"line\", \"color\": \"purple\"}, \"encoding\": {\"x\": {\"type\": \"temporal\", \"field\": \"date\"}, \"y\": {\"type\": \"quantitative\", \"field\": \"sma7d\"}}}]}, {\"mark\": {\"type\": \"rule\", \"color\": \"#aaa\"}, \"encoding\": {\"x\": {\"type\": \"temporal\", \"field\": \"date\"}}, \"transform\": [{\"filter\": {\"selection\": \"selector013\"}}]}, {\"mark\": \"circle\", \"encoding\": {\"opacity\": {\"condition\": {\"value\": 1, \"selection\": \"selector013\"}, \"value\": 0}, \"tooltip\": [{\"type\": \"temporal\", \"field\": \"date\"}, {\"type\": \"quantitative\", \"field\": \"positiveIncrease\"}, {\"type\": \"quantitative\", \"field\": \"sma7d\"}], \"x\": {\"type\": \"temporal\", \"field\": \"date\"}, \"y\": {\"type\": \"quantitative\", \"field\": \"positiveIncrease\"}}, \"selection\": {\"selector013\": {\"type\": \"single\", \"encodings\": [\"x\"], \"on\": \"mouseover\", \"nearest\": true, \"empty\": \"none\"}}}, {\"mark\": {\"type\": \"text\", \"align\": \"left\", \"dx\": 5, \"dy\": -5, \"stroke\": \"white\", \"strokeWidth\": 2}, \"encoding\": {\"text\": {\"type\": \"quantitative\", \"field\": \"positiveIncrease\"}, \"tooltip\": [{\"type\": \"temporal\", \"field\": \"date\"}, {\"type\": \"quantitative\", \"field\": \"positiveIncrease\"}, {\"type\": \"quantitative\", \"field\": \"sma7d\"}], \"x\": {\"type\": \"temporal\", \"field\": \"date\"}, \"y\": {\"type\": \"quantitative\", \"field\": \"positiveIncrease\"}}, \"transform\": [{\"filter\": {\"selection\": \"selector013\"}}]}, {\"mark\": {\"type\": \"text\", \"align\": \"left\", \"dx\": 5, \"dy\": -5}, \"encoding\": {\"text\": {\"type\": \"quantitative\", \"field\": \"positiveIncrease\"}, \"tooltip\": [{\"type\": \"temporal\", \"field\": \"date\"}, {\"type\": \"quantitative\", \"field\": \"positiveIncrease\"}, {\"type\": \"quantitative\", \"field\": \"sma7d\"}], \"x\": {\"type\": \"temporal\", \"field\": \"date\"}, \"y\": {\"type\": \"quantitative\", \"field\": \"positiveIncrease\"}}, \"transform\": [{\"filter\": {\"selection\": \"selector013\"}}]}], \"data\": {\"name\": \"data-e31b4fc35d4efebe6bca9aa448613632\"}, \"height\": 400, \"title\": \"Non Tri-State: positiveIncrease\", \"width\": 500, \"$schema\": \"https://vega.github.io/schema/vega-lite/v4.8.1.json\", \"datasets\": {\"data-e31b4fc35d4efebe6bca9aa448613632\": [{\"date\": \"2020-05-28T00:00:00\", \"totalTestResultsIncrease\": 337037.0, \"positiveIncrease\": 19375.0, \"death\": 57075.0, \"deathIncrease\": 1062.0, \"positiveRate\": 0.057, \"state\": \"Non Tri-State\", \"sma7d\": 17813.429}, {\"date\": \"2020-05-29T00:00:00\", \"totalTestResultsIncrease\": 383466.0, \"positiveIncrease\": 20739.0, \"death\": 58024.0, \"deathIncrease\": 949.0, \"positiveRate\": 0.054, \"state\": \"Non Tri-State\", \"sma7d\": 17750.429}, {\"date\": \"2020-05-30T00:00:00\", \"totalTestResultsIncrease\": 330064.0, \"positiveIncrease\": 21362.0, \"death\": 58738.0, \"deathIncrease\": 714.0, \"positiveRate\": 0.065, \"state\": \"Non Tri-State\", \"sma7d\": 18080.571}, {\"date\": \"2020-05-31T00:00:00\", \"totalTestResultsIncrease\": 333779.0, \"positiveIncrease\": 19513.0, \"death\": 59234.0, \"deathIncrease\": 496.0, \"positiveRate\": 0.058, \"state\": \"Non Tri-State\", \"sma7d\": 18436.714}, {\"date\": \"2020-06-01T00:00:00\", \"totalTestResultsIncrease\": 301576.0, \"positiveIncrease\": 18462.0, \"death\": 59802.0, \"deathIncrease\": 568.0, \"positiveRate\": 0.061, \"state\": \"Non Tri-State\", \"sma7d\": 18759.0}, {\"date\": \"2020-06-02T00:00:00\", \"totalTestResultsIncrease\": 333295.0, \"positiveIncrease\": 17787.0, \"death\": 60640.0, \"deathIncrease\": 838.0, \"positiveRate\": 0.053, \"state\": \"Non Tri-State\", \"sma7d\": 19235.0}, {\"date\": \"2020-06-03T00:00:00\", \"totalTestResultsIncrease\": 379503.0, \"positiveIncrease\": 18632.0, \"death\": 61448.0, \"deathIncrease\": 808.0, \"positiveRate\": 0.049, \"state\": \"Non Tri-State\", \"sma7d\": 19410.0}, {\"date\": \"2020-06-04T00:00:00\", \"totalTestResultsIncrease\": 372027.0, \"positiveIncrease\": 19181.0, \"death\": 62174.0, \"deathIncrease\": 726.0, \"positiveRate\": 0.052, \"state\": \"Non Tri-State\", \"sma7d\": 19382.286}, {\"date\": \"2020-06-05T00:00:00\", \"totalTestResultsIncrease\": 372771.0, \"positiveIncrease\": 21250.0, \"death\": 62845.0, \"deathIncrease\": 671.0, \"positiveRate\": 0.057, \"state\": \"Non Tri-State\", \"sma7d\": 19455.286}, {\"date\": \"2020-06-06T00:00:00\", \"totalTestResultsIncrease\": 425757.0, \"positiveIncrease\": 21083.0, \"death\": 63461.0, \"deathIncrease\": 616.0, \"positiveRate\": 0.05, \"state\": \"Non Tri-State\", \"sma7d\": 19415.429}, {\"date\": \"2020-06-07T00:00:00\", \"totalTestResultsIncrease\": 338933.0, \"positiveIncrease\": 17621.0, \"death\": 63774.0, \"deathIncrease\": 313.0, \"positiveRate\": 0.052, \"state\": \"Non Tri-State\", \"sma7d\": 19145.143}, {\"date\": \"2020-06-08T00:00:00\", \"totalTestResultsIncrease\": 317756.0, \"positiveIncrease\": 15853.0, \"death\": 64343.0, \"deathIncrease\": 569.0, \"positiveRate\": 0.05, \"state\": \"Non Tri-State\", \"sma7d\": 18772.429}, {\"date\": \"2020-06-09T00:00:00\", \"totalTestResultsIncrease\": 351016.0, \"positiveIncrease\": 16106.0, \"death\": 65090.0, \"deathIncrease\": 747.0, \"positiveRate\": 0.046, \"state\": \"Non Tri-State\", \"sma7d\": 18532.286}, {\"date\": \"2020-06-10T00:00:00\", \"totalTestResultsIncrease\": 342283.0, \"positiveIncrease\": 19411.0, \"death\": 65822.0, \"deathIncrease\": 732.0, \"positiveRate\": 0.057, \"state\": \"Non Tri-State\", \"sma7d\": 18643.571}, {\"date\": \"2020-06-11T00:00:00\", \"totalTestResultsIncrease\": 368690.0, \"positiveIncrease\": 20712.0, \"death\": 66590.0, \"deathIncrease\": 768.0, \"positiveRate\": 0.056, \"state\": \"Non Tri-State\", \"sma7d\": 18862.286}, {\"date\": \"2020-06-12T00:00:00\", \"totalTestResultsIncrease\": 512066.0, \"positiveIncrease\": 22079.0, \"death\": 67250.0, \"deathIncrease\": 660.0, \"positiveRate\": 0.043, \"state\": \"Non Tri-State\", \"sma7d\": 18980.714}, {\"date\": \"2020-06-13T00:00:00\", \"totalTestResultsIncrease\": 397734.0, \"positiveIncrease\": 23679.0, \"death\": 67782.0, \"deathIncrease\": 532.0, \"positiveRate\": 0.06, \"state\": \"Non Tri-State\", \"sma7d\": 19351.571}, {\"date\": \"2020-06-14T00:00:00\", \"totalTestResultsIncrease\": 396276.0, \"positiveIncrease\": 20309.0, \"death\": 68062.0, \"deathIncrease\": 280.0, \"positiveRate\": 0.051, \"state\": \"Non Tri-State\", \"sma7d\": 19735.571}, {\"date\": \"2020-06-15T00:00:00\", \"totalTestResultsIncrease\": 352811.0, \"positiveIncrease\": 17521.0, \"death\": 68360.0, \"deathIncrease\": 298.0, \"positiveRate\": 0.05, \"state\": \"Non Tri-State\", \"sma7d\": 19973.857}, {\"date\": \"2020-06-16T00:00:00\", \"totalTestResultsIncrease\": 381827.0, \"positiveIncrease\": 22367.0, \"death\": 69003.0, \"deathIncrease\": 643.0, \"positiveRate\": 0.059, \"state\": \"Non Tri-State\", \"sma7d\": 20868.286}, {\"date\": \"2020-06-17T00:00:00\", \"totalTestResultsIncrease\": 405319.0, \"positiveIncrease\": 22949.0, \"death\": 69698.0, \"deathIncrease\": 695.0, \"positiveRate\": 0.057, \"state\": \"Non Tri-State\", \"sma7d\": 21373.714}, {\"date\": \"2020-06-18T00:00:00\", \"totalTestResultsIncrease\": 416745.0, \"positiveIncrease\": 26494.0, \"death\": 70332.0, \"deathIncrease\": 634.0, \"positiveRate\": 0.064, \"state\": \"Non Tri-State\", \"sma7d\": 22199.714}, {\"date\": \"2020-06-19T00:00:00\", \"totalTestResultsIncrease\": 460285.0, \"positiveIncrease\": 29744.0, \"death\": 70915.0, \"deathIncrease\": 583.0, \"positiveRate\": 0.065, \"state\": \"Non Tri-State\", \"sma7d\": 23294.714}, {\"date\": \"2020-06-20T00:00:00\", \"totalTestResultsIncrease\": 462056.0, \"positiveIncrease\": 30782.0, \"death\": 71484.0, \"deathIncrease\": 569.0, \"positiveRate\": 0.067, \"state\": \"Non Tri-State\", \"sma7d\": 24309.429}, {\"date\": \"2020-06-21T00:00:00\", \"totalTestResultsIncrease\": 415435.0, \"positiveIncrease\": 26272.0, \"death\": 71739.0, \"deathIncrease\": 255.0, \"positiveRate\": 0.063, \"state\": \"Non Tri-State\", \"sma7d\": 25161.286}, {\"date\": \"2020-06-22T00:00:00\", \"totalTestResultsIncrease\": 381042.0, \"positiveIncrease\": 26165.0, \"death\": 71980.0, \"deathIncrease\": 241.0, \"positiveRate\": 0.069, \"state\": \"Non Tri-State\", \"sma7d\": 26396.143}, {\"date\": \"2020-06-23T00:00:00\", \"totalTestResultsIncrease\": 428442.0, \"positiveIncrease\": 31988.0, \"death\": 72593.0, \"deathIncrease\": 613.0, \"positiveRate\": 0.075, \"state\": \"Non Tri-State\", \"sma7d\": 27770.571}, {\"date\": \"2020-06-24T00:00:00\", \"totalTestResultsIncrease\": 445391.0, \"positiveIncrease\": 37931.0, \"death\": 73245.0, \"deathIncrease\": 652.0, \"positiveRate\": 0.085, \"state\": \"Non Tri-State\", \"sma7d\": 29910.857}, {\"date\": \"2020-06-25T00:00:00\", \"totalTestResultsIncrease\": 540391.0, \"positiveIncrease\": 37938.0, \"death\": 73840.0, \"deathIncrease\": 595.0, \"positiveRate\": 0.07, \"state\": \"Non Tri-State\", \"sma7d\": 31545.714}, {\"date\": \"2020-06-26T00:00:00\", \"totalTestResultsIncrease\": 506558.0, \"positiveIncrease\": 43163.0, \"death\": 74411.0, \"deathIncrease\": 571.0, \"positiveRate\": 0.085, \"state\": \"Non Tri-State\", \"sma7d\": 33462.714}, {\"date\": \"2020-06-27T00:00:00\", \"totalTestResultsIncrease\": 496340.0, \"positiveIncrease\": 42644.0, \"death\": 74866.0, \"deathIncrease\": 455.0, \"positiveRate\": 0.086, \"state\": \"Non Tri-State\", \"sma7d\": 35157.286}, {\"date\": \"2020-06-28T00:00:00\", \"totalTestResultsIncrease\": 495079.0, \"positiveIncrease\": 40835.0, \"death\": 75100.0, \"deathIncrease\": 234.0, \"positiveRate\": 0.082, \"state\": \"Non Tri-State\", \"sma7d\": 37237.714}, {\"date\": \"2020-06-29T00:00:00\", \"totalTestResultsIncrease\": 562783.0, \"positiveIncrease\": 38635.0, \"death\": 75402.0, \"deathIncrease\": 302.0, \"positiveRate\": 0.069, \"state\": \"Non Tri-State\", \"sma7d\": 39019.143}, {\"date\": \"2020-06-30T00:00:00\", \"totalTestResultsIncrease\": 542112.0, \"positiveIncrease\": 46391.0, \"death\": 75940.0, \"deathIncrease\": 538.0, \"positiveRate\": 0.086, \"state\": \"Non Tri-State\", \"sma7d\": 41076.714}, {\"date\": \"2020-07-01T00:00:00\", \"totalTestResultsIncrease\": 544562.0, \"positiveIncrease\": 49730.0, \"death\": 76585.0, \"deathIncrease\": 645.0, \"positiveRate\": 0.091, \"state\": \"Non Tri-State\", \"sma7d\": 42762.286}, {\"date\": \"2020-07-02T00:00:00\", \"totalTestResultsIncrease\": 561090.0, \"positiveIncrease\": 52449.0, \"death\": 77240.0, \"deathIncrease\": 655.0, \"positiveRate\": 0.093, \"state\": \"Non Tri-State\", \"sma7d\": 44835.286}, {\"date\": \"2020-07-03T00:00:00\", \"totalTestResultsIncrease\": 622997.0, \"positiveIncrease\": 52848.0, \"death\": 77763.0, \"deathIncrease\": 523.0, \"positiveRate\": 0.085, \"state\": \"Non Tri-State\", \"sma7d\": 46218.857}, {\"date\": \"2020-07-04T00:00:00\", \"totalTestResultsIncrease\": 556781.0, \"positiveIncrease\": 53717.0, \"death\": 78033.0, \"deathIncrease\": 270.0, \"positiveRate\": 0.096, \"state\": \"Non Tri-State\", \"sma7d\": 47800.714}, {\"date\": \"2020-07-05T00:00:00\", \"totalTestResultsIncrease\": 567401.0, \"positiveIncrease\": 44887.0, \"death\": 78212.0, \"deathIncrease\": 179.0, \"positiveRate\": 0.079, \"state\": \"Non Tri-State\", \"sma7d\": 48379.571}, {\"date\": \"2020-07-06T00:00:00\", \"totalTestResultsIncrease\": 426359.0, \"positiveIncrease\": 40614.0, \"death\": 78424.0, \"deathIncrease\": 212.0, \"positiveRate\": 0.095, \"state\": \"Non Tri-State\", \"sma7d\": 48662.286}, {\"date\": \"2020-07-07T00:00:00\", \"totalTestResultsIncrease\": 559818.0, \"positiveIncrease\": 50854.0, \"death\": 79283.0, \"deathIncrease\": 859.0, \"positiveRate\": 0.091, \"state\": \"Non Tri-State\", \"sma7d\": 49299.857}, {\"date\": \"2020-07-08T00:00:00\", \"totalTestResultsIncrease\": 545625.0, \"positiveIncrease\": 61219.0, \"death\": 80013.0, \"deathIncrease\": 730.0, \"positiveRate\": 0.112, \"state\": \"Non Tri-State\", \"sma7d\": 50941.143}, {\"date\": \"2020-07-09T00:00:00\", \"totalTestResultsIncrease\": 603478.0, \"positiveIncrease\": 57950.0, \"death\": 80835.0, \"deathIncrease\": 822.0, \"positiveRate\": 0.096, \"state\": \"Non Tri-State\", \"sma7d\": 51727.0}, {\"date\": \"2020-07-10T00:00:00\", \"totalTestResultsIncrease\": 713488.0, \"positiveIncrease\": 65393.0, \"death\": 81649.0, \"deathIncrease\": 814.0, \"positiveRate\": 0.092, \"state\": \"Non Tri-State\", \"sma7d\": 53519.143}, {\"date\": \"2020-07-11T00:00:00\", \"totalTestResultsIncrease\": 528108.0, \"positiveIncrease\": 61946.0, \"death\": 82354.0, \"deathIncrease\": 705.0, \"positiveRate\": 0.117, \"state\": \"Non Tri-State\", \"sma7d\": 54694.714}, {\"date\": \"2020-07-12T00:00:00\", \"totalTestResultsIncrease\": 640580.0, \"positiveIncrease\": 59962.0, \"death\": 82809.0, \"deathIncrease\": 455.0, \"positiveRate\": 0.094, \"state\": \"Non Tri-State\", \"sma7d\": 56848.286}, {\"date\": \"2020-07-13T00:00:00\", \"totalTestResultsIncrease\": 624522.0, \"positiveIncrease\": 57461.0, \"death\": 83084.0, \"deathIncrease\": 275.0, \"positiveRate\": 0.092, \"state\": \"Non Tri-State\", \"sma7d\": 59255.0}, {\"date\": \"2020-07-14T00:00:00\", \"totalTestResultsIncrease\": 676948.0, \"positiveIncrease\": 61554.0, \"death\": 83792.0, \"deathIncrease\": 708.0, \"positiveRate\": 0.091, \"state\": \"Non Tri-State\", \"sma7d\": 60783.571}, {\"date\": \"2020-07-15T00:00:00\", \"totalTestResultsIncrease\": 665748.0, \"positiveIncrease\": 64082.0, \"death\": 84608.0, \"deathIncrease\": 816.0, \"positiveRate\": 0.096, \"state\": \"Non Tri-State\", \"sma7d\": 61192.571}, {\"date\": \"2020-07-16T00:00:00\", \"totalTestResultsIncrease\": 722897.0, \"positiveIncrease\": 69847.0, \"death\": 85504.0, \"deathIncrease\": 896.0, \"positiveRate\": 0.097, \"state\": \"Non Tri-State\", \"sma7d\": 62892.143}, {\"date\": \"2020-07-17T00:00:00\", \"totalTestResultsIncrease\": 750104.0, \"positiveIncrease\": 76264.0, \"death\": 86419.0, \"deathIncrease\": 915.0, \"positiveRate\": 0.102, \"state\": \"Non Tri-State\", \"sma7d\": 64445.143}, {\"date\": \"2020-07-18T00:00:00\", \"totalTestResultsIncrease\": 679432.0, \"positiveIncrease\": 64163.0, \"death\": 87265.0, \"deathIncrease\": 846.0, \"positiveRate\": 0.094, \"state\": \"Non Tri-State\", \"sma7d\": 64761.857}, {\"date\": \"2020-07-19T00:00:00\", \"totalTestResultsIncrease\": 715455.0, \"positiveIncrease\": 64413.0, \"death\": 87771.0, \"deathIncrease\": 506.0, \"positiveRate\": 0.09, \"state\": \"Non Tri-State\", \"sma7d\": 65397.714}, {\"date\": \"2020-07-20T00:00:00\", \"totalTestResultsIncrease\": 644271.0, \"positiveIncrease\": 56110.0, \"death\": 88106.0, \"deathIncrease\": 335.0, \"positiveRate\": 0.087, \"state\": \"Non Tri-State\", \"sma7d\": 65204.714}, {\"date\": \"2020-07-21T00:00:00\", \"totalTestResultsIncrease\": 668064.0, \"positiveIncrease\": 61560.0, \"death\": 89111.0, \"deathIncrease\": 1005.0, \"positiveRate\": 0.092, \"state\": \"Non Tri-State\", \"sma7d\": 65205.571}, {\"date\": \"2020-07-22T00:00:00\", \"totalTestResultsIncrease\": 694193.0, \"positiveIncrease\": 68822.0, \"death\": 90257.0, \"deathIncrease\": 1146.0, \"positiveRate\": 0.099, \"state\": \"Non Tri-State\", \"sma7d\": 65882.714}]}}, {\"mode\": \"vega-lite\"});\n",
       "</script>"
      ],
      "text/plain": [
       "alt.LayerChart(...)"
      ]
     },
     "execution_count": 15,
     "metadata": {},
     "output_type": "execute_result"
    }
   ],
   "source": [
    "create_plot(non_tristate, 'positiveIncrease')"
   ]
  },
  {
   "cell_type": "code",
   "execution_count": 16,
   "metadata": {},
   "outputs": [
    {
     "data": {
      "text/html": [
       "\n",
       "<div id=\"altair-viz-79aeb77ce9074772b5d9f566d77b52e2\"></div>\n",
       "<script type=\"text/javascript\">\n",
       "  (function(spec, embedOpt){\n",
       "    let outputDiv = document.currentScript.previousElementSibling;\n",
       "    if (outputDiv.id !== \"altair-viz-79aeb77ce9074772b5d9f566d77b52e2\") {\n",
       "      outputDiv = document.getElementById(\"altair-viz-79aeb77ce9074772b5d9f566d77b52e2\");\n",
       "    }\n",
       "    const paths = {\n",
       "      \"vega\": \"https://cdn.jsdelivr.net/npm//vega@5?noext\",\n",
       "      \"vega-lib\": \"https://cdn.jsdelivr.net/npm//vega-lib?noext\",\n",
       "      \"vega-lite\": \"https://cdn.jsdelivr.net/npm//vega-lite@4.8.1?noext\",\n",
       "      \"vega-embed\": \"https://cdn.jsdelivr.net/npm//vega-embed@6?noext\",\n",
       "    };\n",
       "\n",
       "    function loadScript(lib) {\n",
       "      return new Promise(function(resolve, reject) {\n",
       "        var s = document.createElement('script');\n",
       "        s.src = paths[lib];\n",
       "        s.async = true;\n",
       "        s.onload = () => resolve(paths[lib]);\n",
       "        s.onerror = () => reject(`Error loading script: ${paths[lib]}`);\n",
       "        document.getElementsByTagName(\"head\")[0].appendChild(s);\n",
       "      });\n",
       "    }\n",
       "\n",
       "    function showError(err) {\n",
       "      outputDiv.innerHTML = `<div class=\"error\" style=\"color:red;\">${err}</div>`;\n",
       "      throw err;\n",
       "    }\n",
       "\n",
       "    function displayChart(vegaEmbed) {\n",
       "      vegaEmbed(outputDiv, spec, embedOpt)\n",
       "        .catch(err => showError(`Javascript Error: ${err.message}<br>This usually means there's a typo in your chart specification. See the javascript console for the full traceback.`));\n",
       "    }\n",
       "\n",
       "    if(typeof define === \"function\" && define.amd) {\n",
       "      requirejs.config({paths});\n",
       "      require([\"vega-embed\"], displayChart, err => showError(`Error loading script: ${err.message}`));\n",
       "    } else if (typeof vegaEmbed === \"function\") {\n",
       "      displayChart(vegaEmbed);\n",
       "    } else {\n",
       "      loadScript(\"vega\")\n",
       "        .then(() => loadScript(\"vega-lite\"))\n",
       "        .then(() => loadScript(\"vega-embed\"))\n",
       "        .catch(showError)\n",
       "        .then(() => displayChart(vegaEmbed));\n",
       "    }\n",
       "  })({\"config\": {\"view\": {\"continuousWidth\": 400, \"continuousHeight\": 300}}, \"layer\": [{\"layer\": [{\"mark\": {\"type\": \"point\", \"size\": 75}, \"encoding\": {\"tooltip\": [{\"type\": \"temporal\", \"field\": \"date\"}, {\"type\": \"quantitative\", \"field\": \"positiveRate\"}, {\"type\": \"quantitative\", \"field\": \"sma7d\"}], \"x\": {\"type\": \"temporal\", \"field\": \"date\"}, \"y\": {\"type\": \"quantitative\", \"field\": \"positiveRate\"}}, \"selection\": {\"selector016\": {\"type\": \"interval\", \"bind\": \"scales\", \"encodings\": [\"x\", \"y\"]}}}, {\"mark\": {\"type\": \"line\", \"color\": \"purple\"}, \"encoding\": {\"x\": {\"type\": \"temporal\", \"field\": \"date\"}, \"y\": {\"type\": \"quantitative\", \"field\": \"sma7d\"}}}]}, {\"mark\": {\"type\": \"rule\", \"color\": \"#aaa\"}, \"encoding\": {\"x\": {\"type\": \"temporal\", \"field\": \"date\"}}, \"transform\": [{\"filter\": {\"selection\": \"selector015\"}}]}, {\"mark\": \"circle\", \"encoding\": {\"opacity\": {\"condition\": {\"value\": 1, \"selection\": \"selector015\"}, \"value\": 0}, \"tooltip\": [{\"type\": \"temporal\", \"field\": \"date\"}, {\"type\": \"quantitative\", \"field\": \"positiveRate\"}, {\"type\": \"quantitative\", \"field\": \"sma7d\"}], \"x\": {\"type\": \"temporal\", \"field\": \"date\"}, \"y\": {\"type\": \"quantitative\", \"field\": \"positiveRate\"}}, \"selection\": {\"selector015\": {\"type\": \"single\", \"encodings\": [\"x\"], \"on\": \"mouseover\", \"nearest\": true, \"empty\": \"none\"}}}, {\"mark\": {\"type\": \"text\", \"align\": \"left\", \"dx\": 5, \"dy\": -5, \"stroke\": \"white\", \"strokeWidth\": 2}, \"encoding\": {\"text\": {\"type\": \"quantitative\", \"field\": \"positiveRate\"}, \"tooltip\": [{\"type\": \"temporal\", \"field\": \"date\"}, {\"type\": \"quantitative\", \"field\": \"positiveRate\"}, {\"type\": \"quantitative\", \"field\": \"sma7d\"}], \"x\": {\"type\": \"temporal\", \"field\": \"date\"}, \"y\": {\"type\": \"quantitative\", \"field\": \"positiveRate\"}}, \"transform\": [{\"filter\": {\"selection\": \"selector015\"}}]}, {\"mark\": {\"type\": \"text\", \"align\": \"left\", \"dx\": 5, \"dy\": -5}, \"encoding\": {\"text\": {\"type\": \"quantitative\", \"field\": \"positiveRate\"}, \"tooltip\": [{\"type\": \"temporal\", \"field\": \"date\"}, {\"type\": \"quantitative\", \"field\": \"positiveRate\"}, {\"type\": \"quantitative\", \"field\": \"sma7d\"}], \"x\": {\"type\": \"temporal\", \"field\": \"date\"}, \"y\": {\"type\": \"quantitative\", \"field\": \"positiveRate\"}}, \"transform\": [{\"filter\": {\"selection\": \"selector015\"}}]}], \"data\": {\"name\": \"data-cf05e096fd5b58dcfe268d5cca296d64\"}, \"height\": 400, \"title\": \"Non Tri-State: positiveRate\", \"width\": 500, \"$schema\": \"https://vega.github.io/schema/vega-lite/v4.8.1.json\", \"datasets\": {\"data-cf05e096fd5b58dcfe268d5cca296d64\": [{\"date\": \"2020-05-28T00:00:00\", \"totalTestResultsIncrease\": 337037.0, \"positiveIncrease\": 19375.0, \"death\": 57075.0, \"deathIncrease\": 1062.0, \"positiveRate\": 0.057, \"state\": \"Non Tri-State\", \"sma7d\": 0.059}, {\"date\": \"2020-05-29T00:00:00\", \"totalTestResultsIncrease\": 383466.0, \"positiveIncrease\": 20739.0, \"death\": 58024.0, \"deathIncrease\": 949.0, \"positiveRate\": 0.054, \"state\": \"Non Tri-State\", \"sma7d\": 0.058}, {\"date\": \"2020-05-30T00:00:00\", \"totalTestResultsIncrease\": 330064.0, \"positiveIncrease\": 21362.0, \"death\": 58738.0, \"deathIncrease\": 714.0, \"positiveRate\": 0.065, \"state\": \"Non Tri-State\", \"sma7d\": 0.058}, {\"date\": \"2020-05-31T00:00:00\", \"totalTestResultsIncrease\": 333779.0, \"positiveIncrease\": 19513.0, \"death\": 59234.0, \"deathIncrease\": 496.0, \"positiveRate\": 0.058, \"state\": \"Non Tri-State\", \"sma7d\": 0.058}, {\"date\": \"2020-06-01T00:00:00\", \"totalTestResultsIncrease\": 301576.0, \"positiveIncrease\": 18462.0, \"death\": 59802.0, \"deathIncrease\": 568.0, \"positiveRate\": 0.061, \"state\": \"Non Tri-State\", \"sma7d\": 0.061}, {\"date\": \"2020-06-02T00:00:00\", \"totalTestResultsIncrease\": 333295.0, \"positiveIncrease\": 17787.0, \"death\": 60640.0, \"deathIncrease\": 838.0, \"positiveRate\": 0.053, \"state\": \"Non Tri-State\", \"sma7d\": 0.06}, {\"date\": \"2020-06-03T00:00:00\", \"totalTestResultsIncrease\": 379503.0, \"positiveIncrease\": 18632.0, \"death\": 61448.0, \"deathIncrease\": 808.0, \"positiveRate\": 0.049, \"state\": \"Non Tri-State\", \"sma7d\": 0.057}, {\"date\": \"2020-06-04T00:00:00\", \"totalTestResultsIncrease\": 372027.0, \"positiveIncrease\": 19181.0, \"death\": 62174.0, \"deathIncrease\": 726.0, \"positiveRate\": 0.052, \"state\": \"Non Tri-State\", \"sma7d\": 0.056}, {\"date\": \"2020-06-05T00:00:00\", \"totalTestResultsIncrease\": 372771.0, \"positiveIncrease\": 21250.0, \"death\": 62845.0, \"deathIncrease\": 671.0, \"positiveRate\": 0.057, \"state\": \"Non Tri-State\", \"sma7d\": 0.056}, {\"date\": \"2020-06-06T00:00:00\", \"totalTestResultsIncrease\": 425757.0, \"positiveIncrease\": 21083.0, \"death\": 63461.0, \"deathIncrease\": 616.0, \"positiveRate\": 0.05, \"state\": \"Non Tri-State\", \"sma7d\": 0.054}, {\"date\": \"2020-06-07T00:00:00\", \"totalTestResultsIncrease\": 338933.0, \"positiveIncrease\": 17621.0, \"death\": 63774.0, \"deathIncrease\": 313.0, \"positiveRate\": 0.052, \"state\": \"Non Tri-State\", \"sma7d\": 0.053}, {\"date\": \"2020-06-08T00:00:00\", \"totalTestResultsIncrease\": 317756.0, \"positiveIncrease\": 15853.0, \"death\": 64343.0, \"deathIncrease\": 569.0, \"positiveRate\": 0.05, \"state\": \"Non Tri-State\", \"sma7d\": 0.052}, {\"date\": \"2020-06-09T00:00:00\", \"totalTestResultsIncrease\": 351016.0, \"positiveIncrease\": 16106.0, \"death\": 65090.0, \"deathIncrease\": 747.0, \"positiveRate\": 0.046, \"state\": \"Non Tri-State\", \"sma7d\": 0.051}, {\"date\": \"2020-06-10T00:00:00\", \"totalTestResultsIncrease\": 342283.0, \"positiveIncrease\": 19411.0, \"death\": 65822.0, \"deathIncrease\": 732.0, \"positiveRate\": 0.057, \"state\": \"Non Tri-State\", \"sma7d\": 0.052}, {\"date\": \"2020-06-11T00:00:00\", \"totalTestResultsIncrease\": 368690.0, \"positiveIncrease\": 20712.0, \"death\": 66590.0, \"deathIncrease\": 768.0, \"positiveRate\": 0.056, \"state\": \"Non Tri-State\", \"sma7d\": 0.053}, {\"date\": \"2020-06-12T00:00:00\", \"totalTestResultsIncrease\": 512066.0, \"positiveIncrease\": 22079.0, \"death\": 67250.0, \"deathIncrease\": 660.0, \"positiveRate\": 0.043, \"state\": \"Non Tri-State\", \"sma7d\": 0.051}, {\"date\": \"2020-06-13T00:00:00\", \"totalTestResultsIncrease\": 397734.0, \"positiveIncrease\": 23679.0, \"death\": 67782.0, \"deathIncrease\": 532.0, \"positiveRate\": 0.06, \"state\": \"Non Tri-State\", \"sma7d\": 0.052}, {\"date\": \"2020-06-14T00:00:00\", \"totalTestResultsIncrease\": 396276.0, \"positiveIncrease\": 20309.0, \"death\": 68062.0, \"deathIncrease\": 280.0, \"positiveRate\": 0.051, \"state\": \"Non Tri-State\", \"sma7d\": 0.052}, {\"date\": \"2020-06-15T00:00:00\", \"totalTestResultsIncrease\": 352811.0, \"positiveIncrease\": 17521.0, \"death\": 68360.0, \"deathIncrease\": 298.0, \"positiveRate\": 0.05, \"state\": \"Non Tri-State\", \"sma7d\": 0.052}, {\"date\": \"2020-06-16T00:00:00\", \"totalTestResultsIncrease\": 381827.0, \"positiveIncrease\": 22367.0, \"death\": 69003.0, \"deathIncrease\": 643.0, \"positiveRate\": 0.059, \"state\": \"Non Tri-State\", \"sma7d\": 0.054}, {\"date\": \"2020-06-17T00:00:00\", \"totalTestResultsIncrease\": 405319.0, \"positiveIncrease\": 22949.0, \"death\": 69698.0, \"deathIncrease\": 695.0, \"positiveRate\": 0.057, \"state\": \"Non Tri-State\", \"sma7d\": 0.054}, {\"date\": \"2020-06-18T00:00:00\", \"totalTestResultsIncrease\": 416745.0, \"positiveIncrease\": 26494.0, \"death\": 70332.0, \"deathIncrease\": 634.0, \"positiveRate\": 0.064, \"state\": \"Non Tri-State\", \"sma7d\": 0.055}, {\"date\": \"2020-06-19T00:00:00\", \"totalTestResultsIncrease\": 460285.0, \"positiveIncrease\": 29744.0, \"death\": 70915.0, \"deathIncrease\": 583.0, \"positiveRate\": 0.065, \"state\": \"Non Tri-State\", \"sma7d\": 0.058}, {\"date\": \"2020-06-20T00:00:00\", \"totalTestResultsIncrease\": 462056.0, \"positiveIncrease\": 30782.0, \"death\": 71484.0, \"deathIncrease\": 569.0, \"positiveRate\": 0.067, \"state\": \"Non Tri-State\", \"sma7d\": 0.059}, {\"date\": \"2020-06-21T00:00:00\", \"totalTestResultsIncrease\": 415435.0, \"positiveIncrease\": 26272.0, \"death\": 71739.0, \"deathIncrease\": 255.0, \"positiveRate\": 0.063, \"state\": \"Non Tri-State\", \"sma7d\": 0.061}, {\"date\": \"2020-06-22T00:00:00\", \"totalTestResultsIncrease\": 381042.0, \"positiveIncrease\": 26165.0, \"death\": 71980.0, \"deathIncrease\": 241.0, \"positiveRate\": 0.069, \"state\": \"Non Tri-State\", \"sma7d\": 0.063}, {\"date\": \"2020-06-23T00:00:00\", \"totalTestResultsIncrease\": 428442.0, \"positiveIncrease\": 31988.0, \"death\": 72593.0, \"deathIncrease\": 613.0, \"positiveRate\": 0.075, \"state\": \"Non Tri-State\", \"sma7d\": 0.066}, {\"date\": \"2020-06-24T00:00:00\", \"totalTestResultsIncrease\": 445391.0, \"positiveIncrease\": 37931.0, \"death\": 73245.0, \"deathIncrease\": 652.0, \"positiveRate\": 0.085, \"state\": \"Non Tri-State\", \"sma7d\": 0.07}, {\"date\": \"2020-06-25T00:00:00\", \"totalTestResultsIncrease\": 540391.0, \"positiveIncrease\": 37938.0, \"death\": 73840.0, \"deathIncrease\": 595.0, \"positiveRate\": 0.07, \"state\": \"Non Tri-State\", \"sma7d\": 0.071}, {\"date\": \"2020-06-26T00:00:00\", \"totalTestResultsIncrease\": 506558.0, \"positiveIncrease\": 43163.0, \"death\": 74411.0, \"deathIncrease\": 571.0, \"positiveRate\": 0.085, \"state\": \"Non Tri-State\", \"sma7d\": 0.073}, {\"date\": \"2020-06-27T00:00:00\", \"totalTestResultsIncrease\": 496340.0, \"positiveIncrease\": 42644.0, \"death\": 74866.0, \"deathIncrease\": 455.0, \"positiveRate\": 0.086, \"state\": \"Non Tri-State\", \"sma7d\": 0.076}, {\"date\": \"2020-06-28T00:00:00\", \"totalTestResultsIncrease\": 495079.0, \"positiveIncrease\": 40835.0, \"death\": 75100.0, \"deathIncrease\": 234.0, \"positiveRate\": 0.082, \"state\": \"Non Tri-State\", \"sma7d\": 0.079}, {\"date\": \"2020-06-29T00:00:00\", \"totalTestResultsIncrease\": 562783.0, \"positiveIncrease\": 38635.0, \"death\": 75402.0, \"deathIncrease\": 302.0, \"positiveRate\": 0.069, \"state\": \"Non Tri-State\", \"sma7d\": 0.079}, {\"date\": \"2020-06-30T00:00:00\", \"totalTestResultsIncrease\": 542112.0, \"positiveIncrease\": 46391.0, \"death\": 75940.0, \"deathIncrease\": 538.0, \"positiveRate\": 0.086, \"state\": \"Non Tri-State\", \"sma7d\": 0.08}, {\"date\": \"2020-07-01T00:00:00\", \"totalTestResultsIncrease\": 544562.0, \"positiveIncrease\": 49730.0, \"death\": 76585.0, \"deathIncrease\": 645.0, \"positiveRate\": 0.091, \"state\": \"Non Tri-State\", \"sma7d\": 0.081}, {\"date\": \"2020-07-02T00:00:00\", \"totalTestResultsIncrease\": 561090.0, \"positiveIncrease\": 52449.0, \"death\": 77240.0, \"deathIncrease\": 655.0, \"positiveRate\": 0.093, \"state\": \"Non Tri-State\", \"sma7d\": 0.085}, {\"date\": \"2020-07-03T00:00:00\", \"totalTestResultsIncrease\": 622997.0, \"positiveIncrease\": 52848.0, \"death\": 77763.0, \"deathIncrease\": 523.0, \"positiveRate\": 0.085, \"state\": \"Non Tri-State\", \"sma7d\": 0.085}, {\"date\": \"2020-07-04T00:00:00\", \"totalTestResultsIncrease\": 556781.0, \"positiveIncrease\": 53717.0, \"death\": 78033.0, \"deathIncrease\": 270.0, \"positiveRate\": 0.096, \"state\": \"Non Tri-State\", \"sma7d\": 0.086}, {\"date\": \"2020-07-05T00:00:00\", \"totalTestResultsIncrease\": 567401.0, \"positiveIncrease\": 44887.0, \"death\": 78212.0, \"deathIncrease\": 179.0, \"positiveRate\": 0.079, \"state\": \"Non Tri-State\", \"sma7d\": 0.086}, {\"date\": \"2020-07-06T00:00:00\", \"totalTestResultsIncrease\": 426359.0, \"positiveIncrease\": 40614.0, \"death\": 78424.0, \"deathIncrease\": 212.0, \"positiveRate\": 0.095, \"state\": \"Non Tri-State\", \"sma7d\": 0.089}, {\"date\": \"2020-07-07T00:00:00\", \"totalTestResultsIncrease\": 559818.0, \"positiveIncrease\": 50854.0, \"death\": 79283.0, \"deathIncrease\": 859.0, \"positiveRate\": 0.091, \"state\": \"Non Tri-State\", \"sma7d\": 0.09}, {\"date\": \"2020-07-08T00:00:00\", \"totalTestResultsIncrease\": 545625.0, \"positiveIncrease\": 61219.0, \"death\": 80013.0, \"deathIncrease\": 730.0, \"positiveRate\": 0.112, \"state\": \"Non Tri-State\", \"sma7d\": 0.093}, {\"date\": \"2020-07-09T00:00:00\", \"totalTestResultsIncrease\": 603478.0, \"positiveIncrease\": 57950.0, \"death\": 80835.0, \"deathIncrease\": 822.0, \"positiveRate\": 0.096, \"state\": \"Non Tri-State\", \"sma7d\": 0.093}, {\"date\": \"2020-07-10T00:00:00\", \"totalTestResultsIncrease\": 713488.0, \"positiveIncrease\": 65393.0, \"death\": 81649.0, \"deathIncrease\": 814.0, \"positiveRate\": 0.092, \"state\": \"Non Tri-State\", \"sma7d\": 0.094}, {\"date\": \"2020-07-11T00:00:00\", \"totalTestResultsIncrease\": 528108.0, \"positiveIncrease\": 61946.0, \"death\": 82354.0, \"deathIncrease\": 705.0, \"positiveRate\": 0.117, \"state\": \"Non Tri-State\", \"sma7d\": 0.097}, {\"date\": \"2020-07-12T00:00:00\", \"totalTestResultsIncrease\": 640580.0, \"positiveIncrease\": 59962.0, \"death\": 82809.0, \"deathIncrease\": 455.0, \"positiveRate\": 0.094, \"state\": \"Non Tri-State\", \"sma7d\": 0.1}, {\"date\": \"2020-07-13T00:00:00\", \"totalTestResultsIncrease\": 624522.0, \"positiveIncrease\": 57461.0, \"death\": 83084.0, \"deathIncrease\": 275.0, \"positiveRate\": 0.092, \"state\": \"Non Tri-State\", \"sma7d\": 0.099}, {\"date\": \"2020-07-14T00:00:00\", \"totalTestResultsIncrease\": 676948.0, \"positiveIncrease\": 61554.0, \"death\": 83792.0, \"deathIncrease\": 708.0, \"positiveRate\": 0.091, \"state\": \"Non Tri-State\", \"sma7d\": 0.099}, {\"date\": \"2020-07-15T00:00:00\", \"totalTestResultsIncrease\": 665748.0, \"positiveIncrease\": 64082.0, \"death\": 84608.0, \"deathIncrease\": 816.0, \"positiveRate\": 0.096, \"state\": \"Non Tri-State\", \"sma7d\": 0.097}, {\"date\": \"2020-07-16T00:00:00\", \"totalTestResultsIncrease\": 722897.0, \"positiveIncrease\": 69847.0, \"death\": 85504.0, \"deathIncrease\": 896.0, \"positiveRate\": 0.097, \"state\": \"Non Tri-State\", \"sma7d\": 0.097}, {\"date\": \"2020-07-17T00:00:00\", \"totalTestResultsIncrease\": 750104.0, \"positiveIncrease\": 76264.0, \"death\": 86419.0, \"deathIncrease\": 915.0, \"positiveRate\": 0.102, \"state\": \"Non Tri-State\", \"sma7d\": 0.098}, {\"date\": \"2020-07-18T00:00:00\", \"totalTestResultsIncrease\": 679432.0, \"positiveIncrease\": 64163.0, \"death\": 87265.0, \"deathIncrease\": 846.0, \"positiveRate\": 0.094, \"state\": \"Non Tri-State\", \"sma7d\": 0.095}, {\"date\": \"2020-07-19T00:00:00\", \"totalTestResultsIncrease\": 715455.0, \"positiveIncrease\": 64413.0, \"death\": 87771.0, \"deathIncrease\": 506.0, \"positiveRate\": 0.09, \"state\": \"Non Tri-State\", \"sma7d\": 0.095}, {\"date\": \"2020-07-20T00:00:00\", \"totalTestResultsIncrease\": 644271.0, \"positiveIncrease\": 56110.0, \"death\": 88106.0, \"deathIncrease\": 335.0, \"positiveRate\": 0.087, \"state\": \"Non Tri-State\", \"sma7d\": 0.094}, {\"date\": \"2020-07-21T00:00:00\", \"totalTestResultsIncrease\": 668064.0, \"positiveIncrease\": 61560.0, \"death\": 89111.0, \"deathIncrease\": 1005.0, \"positiveRate\": 0.092, \"state\": \"Non Tri-State\", \"sma7d\": 0.094}, {\"date\": \"2020-07-22T00:00:00\", \"totalTestResultsIncrease\": 694193.0, \"positiveIncrease\": 68822.0, \"death\": 90257.0, \"deathIncrease\": 1146.0, \"positiveRate\": 0.099, \"state\": \"Non Tri-State\", \"sma7d\": 0.094}]}}, {\"mode\": \"vega-lite\"});\n",
       "</script>"
      ],
      "text/plain": [
       "alt.LayerChart(...)"
      ]
     },
     "execution_count": 16,
     "metadata": {},
     "output_type": "execute_result"
    }
   ],
   "source": [
    "create_plot(non_tristate, 'positiveRate')"
   ]
  },
  {
   "cell_type": "code",
   "execution_count": 17,
   "metadata": {},
   "outputs": [
    {
     "data": {
      "text/html": [
       "\n",
       "<div id=\"altair-viz-2bcbaf00054745f0827e72073e9dd696\"></div>\n",
       "<script type=\"text/javascript\">\n",
       "  (function(spec, embedOpt){\n",
       "    let outputDiv = document.currentScript.previousElementSibling;\n",
       "    if (outputDiv.id !== \"altair-viz-2bcbaf00054745f0827e72073e9dd696\") {\n",
       "      outputDiv = document.getElementById(\"altair-viz-2bcbaf00054745f0827e72073e9dd696\");\n",
       "    }\n",
       "    const paths = {\n",
       "      \"vega\": \"https://cdn.jsdelivr.net/npm//vega@5?noext\",\n",
       "      \"vega-lib\": \"https://cdn.jsdelivr.net/npm//vega-lib?noext\",\n",
       "      \"vega-lite\": \"https://cdn.jsdelivr.net/npm//vega-lite@4.8.1?noext\",\n",
       "      \"vega-embed\": \"https://cdn.jsdelivr.net/npm//vega-embed@6?noext\",\n",
       "    };\n",
       "\n",
       "    function loadScript(lib) {\n",
       "      return new Promise(function(resolve, reject) {\n",
       "        var s = document.createElement('script');\n",
       "        s.src = paths[lib];\n",
       "        s.async = true;\n",
       "        s.onload = () => resolve(paths[lib]);\n",
       "        s.onerror = () => reject(`Error loading script: ${paths[lib]}`);\n",
       "        document.getElementsByTagName(\"head\")[0].appendChild(s);\n",
       "      });\n",
       "    }\n",
       "\n",
       "    function showError(err) {\n",
       "      outputDiv.innerHTML = `<div class=\"error\" style=\"color:red;\">${err}</div>`;\n",
       "      throw err;\n",
       "    }\n",
       "\n",
       "    function displayChart(vegaEmbed) {\n",
       "      vegaEmbed(outputDiv, spec, embedOpt)\n",
       "        .catch(err => showError(`Javascript Error: ${err.message}<br>This usually means there's a typo in your chart specification. See the javascript console for the full traceback.`));\n",
       "    }\n",
       "\n",
       "    if(typeof define === \"function\" && define.amd) {\n",
       "      requirejs.config({paths});\n",
       "      require([\"vega-embed\"], displayChart, err => showError(`Error loading script: ${err.message}`));\n",
       "    } else if (typeof vegaEmbed === \"function\") {\n",
       "      displayChart(vegaEmbed);\n",
       "    } else {\n",
       "      loadScript(\"vega\")\n",
       "        .then(() => loadScript(\"vega-lite\"))\n",
       "        .then(() => loadScript(\"vega-embed\"))\n",
       "        .catch(showError)\n",
       "        .then(() => displayChart(vegaEmbed));\n",
       "    }\n",
       "  })({\"config\": {\"view\": {\"continuousWidth\": 400, \"continuousHeight\": 300}}, \"layer\": [{\"layer\": [{\"mark\": {\"type\": \"point\", \"size\": 75}, \"encoding\": {\"tooltip\": [{\"type\": \"temporal\", \"field\": \"date\"}, {\"type\": \"quantitative\", \"field\": \"deathIncrease\"}, {\"type\": \"quantitative\", \"field\": \"sma7d\"}], \"x\": {\"type\": \"temporal\", \"field\": \"date\"}, \"y\": {\"type\": \"quantitative\", \"field\": \"deathIncrease\"}}, \"selection\": {\"selector018\": {\"type\": \"interval\", \"bind\": \"scales\", \"encodings\": [\"x\", \"y\"]}}}, {\"mark\": {\"type\": \"line\", \"color\": \"purple\"}, \"encoding\": {\"x\": {\"type\": \"temporal\", \"field\": \"date\"}, \"y\": {\"type\": \"quantitative\", \"field\": \"sma7d\"}}}]}, {\"mark\": {\"type\": \"rule\", \"color\": \"#aaa\"}, \"encoding\": {\"x\": {\"type\": \"temporal\", \"field\": \"date\"}}, \"transform\": [{\"filter\": {\"selection\": \"selector017\"}}]}, {\"mark\": \"circle\", \"encoding\": {\"opacity\": {\"condition\": {\"value\": 1, \"selection\": \"selector017\"}, \"value\": 0}, \"tooltip\": [{\"type\": \"temporal\", \"field\": \"date\"}, {\"type\": \"quantitative\", \"field\": \"deathIncrease\"}, {\"type\": \"quantitative\", \"field\": \"sma7d\"}], \"x\": {\"type\": \"temporal\", \"field\": \"date\"}, \"y\": {\"type\": \"quantitative\", \"field\": \"deathIncrease\"}}, \"selection\": {\"selector017\": {\"type\": \"single\", \"encodings\": [\"x\"], \"on\": \"mouseover\", \"nearest\": true, \"empty\": \"none\"}}}, {\"mark\": {\"type\": \"text\", \"align\": \"left\", \"dx\": 5, \"dy\": -5, \"stroke\": \"white\", \"strokeWidth\": 2}, \"encoding\": {\"text\": {\"type\": \"quantitative\", \"field\": \"deathIncrease\"}, \"tooltip\": [{\"type\": \"temporal\", \"field\": \"date\"}, {\"type\": \"quantitative\", \"field\": \"deathIncrease\"}, {\"type\": \"quantitative\", \"field\": \"sma7d\"}], \"x\": {\"type\": \"temporal\", \"field\": \"date\"}, \"y\": {\"type\": \"quantitative\", \"field\": \"deathIncrease\"}}, \"transform\": [{\"filter\": {\"selection\": \"selector017\"}}]}, {\"mark\": {\"type\": \"text\", \"align\": \"left\", \"dx\": 5, \"dy\": -5}, \"encoding\": {\"text\": {\"type\": \"quantitative\", \"field\": \"deathIncrease\"}, \"tooltip\": [{\"type\": \"temporal\", \"field\": \"date\"}, {\"type\": \"quantitative\", \"field\": \"deathIncrease\"}, {\"type\": \"quantitative\", \"field\": \"sma7d\"}], \"x\": {\"type\": \"temporal\", \"field\": \"date\"}, \"y\": {\"type\": \"quantitative\", \"field\": \"deathIncrease\"}}, \"transform\": [{\"filter\": {\"selection\": \"selector017\"}}]}], \"data\": {\"name\": \"data-484ccc1d1c4c93a0ce3e54bcceb4462d\"}, \"height\": 400, \"title\": \"Non Tri-State: deathIncrease\", \"width\": 500, \"$schema\": \"https://vega.github.io/schema/vega-lite/v4.8.1.json\", \"datasets\": {\"data-484ccc1d1c4c93a0ce3e54bcceb4462d\": [{\"date\": \"2020-05-28T00:00:00\", \"totalTestResultsIncrease\": 337037.0, \"positiveIncrease\": 19375.0, \"death\": 57075.0, \"deathIncrease\": 1062.0, \"positiveRate\": 0.057, \"state\": \"Non Tri-State\", \"sma7d\": 767.286}, {\"date\": \"2020-05-29T00:00:00\", \"totalTestResultsIncrease\": 383466.0, \"positiveIncrease\": 20739.0, \"death\": 58024.0, \"deathIncrease\": 949.0, \"positiveRate\": 0.054, \"state\": \"Non Tri-State\", \"sma7d\": 756.286}, {\"date\": \"2020-05-30T00:00:00\", \"totalTestResultsIncrease\": 330064.0, \"positiveIncrease\": 21362.0, \"death\": 58738.0, \"deathIncrease\": 714.0, \"positiveRate\": 0.065, \"state\": \"Non Tri-State\", \"sma7d\": 738.429}, {\"date\": \"2020-05-31T00:00:00\", \"totalTestResultsIncrease\": 333779.0, \"positiveIncrease\": 19513.0, \"death\": 59234.0, \"deathIncrease\": 496.0, \"positiveRate\": 0.058, \"state\": \"Non Tri-State\", \"sma7d\": 738.0}, {\"date\": \"2020-06-01T00:00:00\", \"totalTestResultsIncrease\": 301576.0, \"positiveIncrease\": 18462.0, \"death\": 59802.0, \"deathIncrease\": 568.0, \"positiveRate\": 0.061, \"state\": \"Non Tri-State\", \"sma7d\": 762.286}, {\"date\": \"2020-06-02T00:00:00\", \"totalTestResultsIncrease\": 333295.0, \"positiveIncrease\": 17787.0, \"death\": 60640.0, \"deathIncrease\": 838.0, \"positiveRate\": 0.053, \"state\": \"Non Tri-State\", \"sma7d\": 812.0}, {\"date\": \"2020-06-03T00:00:00\", \"totalTestResultsIncrease\": 379503.0, \"positiveIncrease\": 18632.0, \"death\": 61448.0, \"deathIncrease\": 808.0, \"positiveRate\": 0.049, \"state\": \"Non Tri-State\", \"sma7d\": 776.429}, {\"date\": \"2020-06-04T00:00:00\", \"totalTestResultsIncrease\": 372027.0, \"positiveIncrease\": 19181.0, \"death\": 62174.0, \"deathIncrease\": 726.0, \"positiveRate\": 0.052, \"state\": \"Non Tri-State\", \"sma7d\": 728.429}, {\"date\": \"2020-06-05T00:00:00\", \"totalTestResultsIncrease\": 372771.0, \"positiveIncrease\": 21250.0, \"death\": 62845.0, \"deathIncrease\": 671.0, \"positiveRate\": 0.057, \"state\": \"Non Tri-State\", \"sma7d\": 688.714}, {\"date\": \"2020-06-06T00:00:00\", \"totalTestResultsIncrease\": 425757.0, \"positiveIncrease\": 21083.0, \"death\": 63461.0, \"deathIncrease\": 616.0, \"positiveRate\": 0.05, \"state\": \"Non Tri-State\", \"sma7d\": 674.714}, {\"date\": \"2020-06-07T00:00:00\", \"totalTestResultsIncrease\": 338933.0, \"positiveIncrease\": 17621.0, \"death\": 63774.0, \"deathIncrease\": 313.0, \"positiveRate\": 0.052, \"state\": \"Non Tri-State\", \"sma7d\": 648.571}, {\"date\": \"2020-06-08T00:00:00\", \"totalTestResultsIncrease\": 317756.0, \"positiveIncrease\": 15853.0, \"death\": 64343.0, \"deathIncrease\": 569.0, \"positiveRate\": 0.05, \"state\": \"Non Tri-State\", \"sma7d\": 648.714}, {\"date\": \"2020-06-09T00:00:00\", \"totalTestResultsIncrease\": 351016.0, \"positiveIncrease\": 16106.0, \"death\": 65090.0, \"deathIncrease\": 747.0, \"positiveRate\": 0.046, \"state\": \"Non Tri-State\", \"sma7d\": 635.714}, {\"date\": \"2020-06-10T00:00:00\", \"totalTestResultsIncrease\": 342283.0, \"positiveIncrease\": 19411.0, \"death\": 65822.0, \"deathIncrease\": 732.0, \"positiveRate\": 0.057, \"state\": \"Non Tri-State\", \"sma7d\": 624.857}, {\"date\": \"2020-06-11T00:00:00\", \"totalTestResultsIncrease\": 368690.0, \"positiveIncrease\": 20712.0, \"death\": 66590.0, \"deathIncrease\": 768.0, \"positiveRate\": 0.056, \"state\": \"Non Tri-State\", \"sma7d\": 630.857}, {\"date\": \"2020-06-12T00:00:00\", \"totalTestResultsIncrease\": 512066.0, \"positiveIncrease\": 22079.0, \"death\": 67250.0, \"deathIncrease\": 660.0, \"positiveRate\": 0.043, \"state\": \"Non Tri-State\", \"sma7d\": 629.286}, {\"date\": \"2020-06-13T00:00:00\", \"totalTestResultsIncrease\": 397734.0, \"positiveIncrease\": 23679.0, \"death\": 67782.0, \"deathIncrease\": 532.0, \"positiveRate\": 0.06, \"state\": \"Non Tri-State\", \"sma7d\": 617.286}, {\"date\": \"2020-06-14T00:00:00\", \"totalTestResultsIncrease\": 396276.0, \"positiveIncrease\": 20309.0, \"death\": 68062.0, \"deathIncrease\": 280.0, \"positiveRate\": 0.051, \"state\": \"Non Tri-State\", \"sma7d\": 612.571}, {\"date\": \"2020-06-15T00:00:00\", \"totalTestResultsIncrease\": 352811.0, \"positiveIncrease\": 17521.0, \"death\": 68360.0, \"deathIncrease\": 298.0, \"positiveRate\": 0.05, \"state\": \"Non Tri-State\", \"sma7d\": 573.857}, {\"date\": \"2020-06-16T00:00:00\", \"totalTestResultsIncrease\": 381827.0, \"positiveIncrease\": 22367.0, \"death\": 69003.0, \"deathIncrease\": 643.0, \"positiveRate\": 0.059, \"state\": \"Non Tri-State\", \"sma7d\": 559.0}, {\"date\": \"2020-06-17T00:00:00\", \"totalTestResultsIncrease\": 405319.0, \"positiveIncrease\": 22949.0, \"death\": 69698.0, \"deathIncrease\": 695.0, \"positiveRate\": 0.057, \"state\": \"Non Tri-State\", \"sma7d\": 553.714}, {\"date\": \"2020-06-18T00:00:00\", \"totalTestResultsIncrease\": 416745.0, \"positiveIncrease\": 26494.0, \"death\": 70332.0, \"deathIncrease\": 634.0, \"positiveRate\": 0.064, \"state\": \"Non Tri-State\", \"sma7d\": 534.571}, {\"date\": \"2020-06-19T00:00:00\", \"totalTestResultsIncrease\": 460285.0, \"positiveIncrease\": 29744.0, \"death\": 70915.0, \"deathIncrease\": 583.0, \"positiveRate\": 0.065, \"state\": \"Non Tri-State\", \"sma7d\": 523.571}, {\"date\": \"2020-06-20T00:00:00\", \"totalTestResultsIncrease\": 462056.0, \"positiveIncrease\": 30782.0, \"death\": 71484.0, \"deathIncrease\": 569.0, \"positiveRate\": 0.067, \"state\": \"Non Tri-State\", \"sma7d\": 528.857}, {\"date\": \"2020-06-21T00:00:00\", \"totalTestResultsIncrease\": 415435.0, \"positiveIncrease\": 26272.0, \"death\": 71739.0, \"deathIncrease\": 255.0, \"positiveRate\": 0.063, \"state\": \"Non Tri-State\", \"sma7d\": 525.286}, {\"date\": \"2020-06-22T00:00:00\", \"totalTestResultsIncrease\": 381042.0, \"positiveIncrease\": 26165.0, \"death\": 71980.0, \"deathIncrease\": 241.0, \"positiveRate\": 0.069, \"state\": \"Non Tri-State\", \"sma7d\": 517.143}, {\"date\": \"2020-06-23T00:00:00\", \"totalTestResultsIncrease\": 428442.0, \"positiveIncrease\": 31988.0, \"death\": 72593.0, \"deathIncrease\": 613.0, \"positiveRate\": 0.075, \"state\": \"Non Tri-State\", \"sma7d\": 512.857}, {\"date\": \"2020-06-24T00:00:00\", \"totalTestResultsIncrease\": 445391.0, \"positiveIncrease\": 37931.0, \"death\": 73245.0, \"deathIncrease\": 652.0, \"positiveRate\": 0.085, \"state\": \"Non Tri-State\", \"sma7d\": 506.714}, {\"date\": \"2020-06-25T00:00:00\", \"totalTestResultsIncrease\": 540391.0, \"positiveIncrease\": 37938.0, \"death\": 73840.0, \"deathIncrease\": 595.0, \"positiveRate\": 0.07, \"state\": \"Non Tri-State\", \"sma7d\": 501.143}, {\"date\": \"2020-06-26T00:00:00\", \"totalTestResultsIncrease\": 506558.0, \"positiveIncrease\": 43163.0, \"death\": 74411.0, \"deathIncrease\": 571.0, \"positiveRate\": 0.085, \"state\": \"Non Tri-State\", \"sma7d\": 499.429}, {\"date\": \"2020-06-27T00:00:00\", \"totalTestResultsIncrease\": 496340.0, \"positiveIncrease\": 42644.0, \"death\": 74866.0, \"deathIncrease\": 455.0, \"positiveRate\": 0.086, \"state\": \"Non Tri-State\", \"sma7d\": 483.143}, {\"date\": \"2020-06-28T00:00:00\", \"totalTestResultsIncrease\": 495079.0, \"positiveIncrease\": 40835.0, \"death\": 75100.0, \"deathIncrease\": 234.0, \"positiveRate\": 0.082, \"state\": \"Non Tri-State\", \"sma7d\": 480.143}, {\"date\": \"2020-06-29T00:00:00\", \"totalTestResultsIncrease\": 562783.0, \"positiveIncrease\": 38635.0, \"death\": 75402.0, \"deathIncrease\": 302.0, \"positiveRate\": 0.069, \"state\": \"Non Tri-State\", \"sma7d\": 488.857}, {\"date\": \"2020-06-30T00:00:00\", \"totalTestResultsIncrease\": 542112.0, \"positiveIncrease\": 46391.0, \"death\": 75940.0, \"deathIncrease\": 538.0, \"positiveRate\": 0.086, \"state\": \"Non Tri-State\", \"sma7d\": 478.143}, {\"date\": \"2020-07-01T00:00:00\", \"totalTestResultsIncrease\": 544562.0, \"positiveIncrease\": 49730.0, \"death\": 76585.0, \"deathIncrease\": 645.0, \"positiveRate\": 0.091, \"state\": \"Non Tri-State\", \"sma7d\": 477.143}, {\"date\": \"2020-07-02T00:00:00\", \"totalTestResultsIncrease\": 561090.0, \"positiveIncrease\": 52449.0, \"death\": 77240.0, \"deathIncrease\": 655.0, \"positiveRate\": 0.093, \"state\": \"Non Tri-State\", \"sma7d\": 485.714}, {\"date\": \"2020-07-03T00:00:00\", \"totalTestResultsIncrease\": 622997.0, \"positiveIncrease\": 52848.0, \"death\": 77763.0, \"deathIncrease\": 523.0, \"positiveRate\": 0.085, \"state\": \"Non Tri-State\", \"sma7d\": 478.857}, {\"date\": \"2020-07-04T00:00:00\", \"totalTestResultsIncrease\": 556781.0, \"positiveIncrease\": 53717.0, \"death\": 78033.0, \"deathIncrease\": 270.0, \"positiveRate\": 0.096, \"state\": \"Non Tri-State\", \"sma7d\": 452.429}, {\"date\": \"2020-07-05T00:00:00\", \"totalTestResultsIncrease\": 567401.0, \"positiveIncrease\": 44887.0, \"death\": 78212.0, \"deathIncrease\": 179.0, \"positiveRate\": 0.079, \"state\": \"Non Tri-State\", \"sma7d\": 444.571}, {\"date\": \"2020-07-06T00:00:00\", \"totalTestResultsIncrease\": 426359.0, \"positiveIncrease\": 40614.0, \"death\": 78424.0, \"deathIncrease\": 212.0, \"positiveRate\": 0.095, \"state\": \"Non Tri-State\", \"sma7d\": 431.714}, {\"date\": \"2020-07-07T00:00:00\", \"totalTestResultsIncrease\": 559818.0, \"positiveIncrease\": 50854.0, \"death\": 79283.0, \"deathIncrease\": 859.0, \"positiveRate\": 0.091, \"state\": \"Non Tri-State\", \"sma7d\": 477.571}, {\"date\": \"2020-07-08T00:00:00\", \"totalTestResultsIncrease\": 545625.0, \"positiveIncrease\": 61219.0, \"death\": 80013.0, \"deathIncrease\": 730.0, \"positiveRate\": 0.112, \"state\": \"Non Tri-State\", \"sma7d\": 489.714}, {\"date\": \"2020-07-09T00:00:00\", \"totalTestResultsIncrease\": 603478.0, \"positiveIncrease\": 57950.0, \"death\": 80835.0, \"deathIncrease\": 822.0, \"positiveRate\": 0.096, \"state\": \"Non Tri-State\", \"sma7d\": 513.571}, {\"date\": \"2020-07-10T00:00:00\", \"totalTestResultsIncrease\": 713488.0, \"positiveIncrease\": 65393.0, \"death\": 81649.0, \"deathIncrease\": 814.0, \"positiveRate\": 0.092, \"state\": \"Non Tri-State\", \"sma7d\": 555.143}, {\"date\": \"2020-07-11T00:00:00\", \"totalTestResultsIncrease\": 528108.0, \"positiveIncrease\": 61946.0, \"death\": 82354.0, \"deathIncrease\": 705.0, \"positiveRate\": 0.117, \"state\": \"Non Tri-State\", \"sma7d\": 617.286}, {\"date\": \"2020-07-12T00:00:00\", \"totalTestResultsIncrease\": 640580.0, \"positiveIncrease\": 59962.0, \"death\": 82809.0, \"deathIncrease\": 455.0, \"positiveRate\": 0.094, \"state\": \"Non Tri-State\", \"sma7d\": 656.714}, {\"date\": \"2020-07-13T00:00:00\", \"totalTestResultsIncrease\": 624522.0, \"positiveIncrease\": 57461.0, \"death\": 83084.0, \"deathIncrease\": 275.0, \"positiveRate\": 0.092, \"state\": \"Non Tri-State\", \"sma7d\": 665.714}, {\"date\": \"2020-07-14T00:00:00\", \"totalTestResultsIncrease\": 676948.0, \"positiveIncrease\": 61554.0, \"death\": 83792.0, \"deathIncrease\": 708.0, \"positiveRate\": 0.091, \"state\": \"Non Tri-State\", \"sma7d\": 644.143}, {\"date\": \"2020-07-15T00:00:00\", \"totalTestResultsIncrease\": 665748.0, \"positiveIncrease\": 64082.0, \"death\": 84608.0, \"deathIncrease\": 816.0, \"positiveRate\": 0.096, \"state\": \"Non Tri-State\", \"sma7d\": 656.429}, {\"date\": \"2020-07-16T00:00:00\", \"totalTestResultsIncrease\": 722897.0, \"positiveIncrease\": 69847.0, \"death\": 85504.0, \"deathIncrease\": 896.0, \"positiveRate\": 0.097, \"state\": \"Non Tri-State\", \"sma7d\": 667.0}, {\"date\": \"2020-07-17T00:00:00\", \"totalTestResultsIncrease\": 750104.0, \"positiveIncrease\": 76264.0, \"death\": 86419.0, \"deathIncrease\": 915.0, \"positiveRate\": 0.102, \"state\": \"Non Tri-State\", \"sma7d\": 681.429}, {\"date\": \"2020-07-18T00:00:00\", \"totalTestResultsIncrease\": 679432.0, \"positiveIncrease\": 64163.0, \"death\": 87265.0, \"deathIncrease\": 846.0, \"positiveRate\": 0.094, \"state\": \"Non Tri-State\", \"sma7d\": 701.571}, {\"date\": \"2020-07-19T00:00:00\", \"totalTestResultsIncrease\": 715455.0, \"positiveIncrease\": 64413.0, \"death\": 87771.0, \"deathIncrease\": 506.0, \"positiveRate\": 0.09, \"state\": \"Non Tri-State\", \"sma7d\": 708.857}, {\"date\": \"2020-07-20T00:00:00\", \"totalTestResultsIncrease\": 644271.0, \"positiveIncrease\": 56110.0, \"death\": 88106.0, \"deathIncrease\": 335.0, \"positiveRate\": 0.087, \"state\": \"Non Tri-State\", \"sma7d\": 717.429}, {\"date\": \"2020-07-21T00:00:00\", \"totalTestResultsIncrease\": 668064.0, \"positiveIncrease\": 61560.0, \"death\": 89111.0, \"deathIncrease\": 1005.0, \"positiveRate\": 0.092, \"state\": \"Non Tri-State\", \"sma7d\": 759.857}, {\"date\": \"2020-07-22T00:00:00\", \"totalTestResultsIncrease\": 694193.0, \"positiveIncrease\": 68822.0, \"death\": 90257.0, \"deathIncrease\": 1146.0, \"positiveRate\": 0.099, \"state\": \"Non Tri-State\", \"sma7d\": 807.0}]}}, {\"mode\": \"vega-lite\"});\n",
       "</script>"
      ],
      "text/plain": [
       "alt.LayerChart(...)"
      ]
     },
     "execution_count": 17,
     "metadata": {},
     "output_type": "execute_result"
    }
   ],
   "source": [
    "create_plot(non_tristate, 'deathIncrease')"
   ]
  }
 ],
 "metadata": {
  "kernelspec": {
   "display_name": "Python 3",
   "language": "python",
   "name": "python3"
  },
  "language_info": {
   "codemirror_mode": {
    "name": "ipython",
    "version": 3
   },
   "file_extension": ".py",
   "mimetype": "text/x-python",
   "name": "python",
   "nbconvert_exporter": "python",
   "pygments_lexer": "ipython3",
   "version": "3.8.3"
  }
 },
 "nbformat": 4,
 "nbformat_minor": 4
}