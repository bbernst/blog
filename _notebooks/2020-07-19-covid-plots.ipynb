{
 "cells": [
  {
   "cell_type": "markdown",
   "metadata": {},
   "source": [
    "# COVID-19 plots\n",
    "> Plots with daily updates\n",
    "\n",
    "- toc: true\n",
    "- branch: master\n",
    "- badges: true\n",
    "- comments: true\n",
    "- categories: [healthcare, covid]\n",
    "- image: images/covid_plots/covid_mask.png\n",
    "- hide: false\n",
    "- search_exclude: true"
   ]
  },
  {
   "cell_type": "code",
   "execution_count": 1,
   "metadata": {},
   "outputs": [],
   "source": [
    "#collapse\n",
    "from typing import Callable, Literal\n",
    "import warnings\n",
    "import pandas as pd\n",
    "import altair as alt"
   ]
  },
  {
   "cell_type": "markdown",
   "metadata": {},
   "source": [
    "# Data"
   ]
  },
  {
   "cell_type": "code",
   "execution_count": 2,
   "metadata": {},
   "outputs": [],
   "source": [
    "df = pd.read_csv('https://covidtracking.com/api/states/daily.csv')"
   ]
  },
  {
   "cell_type": "markdown",
   "metadata": {},
   "source": [
    "# Helpers"
   ]
  },
  {
   "cell_type": "code",
   "execution_count": 3,
   "metadata": {},
   "outputs": [],
   "source": [
    "#collapse\n",
    "def create_df(df: pd.DataFrame, \n",
    "              filter_f: Callable, \n",
    "              state_name: str, \n",
    "              period: int = 7*8):\n",
    "    out_df = (\n",
    "     df\n",
    "     .assign(date = lambda d: pd.to_datetime(d['date'], format='%Y%m%d'))\n",
    "     .loc[filter_f, :]\n",
    "     .groupby('date')\n",
    "     .apply(lambda d: pd.Series(dict(\n",
    "         totalTestResultsIncrease = d['totalTestResultsIncrease'].sum(),\n",
    "         positiveIncrease = d['positiveIncrease'].sum(),\n",
    "         death = d['death'].sum(),\n",
    "         deathIncrease = d['deathIncrease'].sum()\n",
    "     )))\n",
    "     .reset_index()\n",
    "     .assign(positiveRate = lambda d: round(d['positiveIncrease'] / d['totalTestResultsIncrease'], 3))\n",
    "     .loc[lambda d: d['date'] >= pd.to_datetime('today') - period * pd.Timedelta('1 days'), :]\n",
    "     .sort_values('date', ascending=False)\n",
    "     .assign(state = state_name)\n",
    "     .reset_index(drop=True)\n",
    "    )\n",
    "    \n",
    "    return out_df"
   ]
  },
  {
   "cell_type": "code",
   "execution_count": 4,
   "metadata": {},
   "outputs": [],
   "source": [
    "#collapse\n",
    "def create_plot(df: pd.DataFrame, \n",
    "                    column: Literal['totalTestResultsIncrease', \n",
    "                                    'positiveIncrease', \n",
    "                                    'death',\n",
    "                                    'deathIncrease', \n",
    "                                    'positiveRate']):\n",
    "    the_state = df['state'][0]\n",
    "    points = alt.Chart(df).mark_point(size=50).encode(\n",
    "        x='date:T',\n",
    "        y=f'{column}:Q',\n",
    "        tooltip=['date', column]\n",
    "    ).properties(\n",
    "        title=f'{the_state}: {column}',\n",
    "        width=800,\n",
    "        height=400\n",
    "    )\n",
    "    line = alt.Chart(df).mark_line(\n",
    "        color='purple',\n",
    "        size=2\n",
    "    ).transform_window(\n",
    "        rolling_mean=f'mean({column})',\n",
    "        frame=[0, 3]\n",
    "    ).encode(\n",
    "        x='date:T',\n",
    "        y='rolling_mean:Q'\n",
    "    )\n",
    "\n",
    "    return (points + line).interactive()"
   ]
  },
  {
   "cell_type": "markdown",
   "metadata": {},
   "source": [
    "# US"
   ]
  },
  {
   "cell_type": "code",
   "execution_count": 5,
   "metadata": {},
   "outputs": [],
   "source": [
    "us = create_df(df, lambda d: d.index > 0, 'US')"
   ]
  },
  {
   "cell_type": "code",
   "execution_count": 6,
   "metadata": {},
   "outputs": [
    {
     "data": {
      "text/html": [
       "\n",
       "<div id=\"altair-viz-9906958d52414d25b10dfd62f530e51e\"></div>\n",
       "<script type=\"text/javascript\">\n",
       "  (function(spec, embedOpt){\n",
       "    let outputDiv = document.currentScript.previousElementSibling;\n",
       "    if (outputDiv.id !== \"altair-viz-9906958d52414d25b10dfd62f530e51e\") {\n",
       "      outputDiv = document.getElementById(\"altair-viz-9906958d52414d25b10dfd62f530e51e\");\n",
       "    }\n",
       "    const paths = {\n",
       "      \"vega\": \"https://cdn.jsdelivr.net/npm//vega@5?noext\",\n",
       "      \"vega-lib\": \"https://cdn.jsdelivr.net/npm//vega-lib?noext\",\n",
       "      \"vega-lite\": \"https://cdn.jsdelivr.net/npm//vega-lite@4.8.1?noext\",\n",
       "      \"vega-embed\": \"https://cdn.jsdelivr.net/npm//vega-embed@6?noext\",\n",
       "    };\n",
       "\n",
       "    function loadScript(lib) {\n",
       "      return new Promise(function(resolve, reject) {\n",
       "        var s = document.createElement('script');\n",
       "        s.src = paths[lib];\n",
       "        s.async = true;\n",
       "        s.onload = () => resolve(paths[lib]);\n",
       "        s.onerror = () => reject(`Error loading script: ${paths[lib]}`);\n",
       "        document.getElementsByTagName(\"head\")[0].appendChild(s);\n",
       "      });\n",
       "    }\n",
       "\n",
       "    function showError(err) {\n",
       "      outputDiv.innerHTML = `<div class=\"error\" style=\"color:red;\">${err}</div>`;\n",
       "      throw err;\n",
       "    }\n",
       "\n",
       "    function displayChart(vegaEmbed) {\n",
       "      vegaEmbed(outputDiv, spec, embedOpt)\n",
       "        .catch(err => showError(`Javascript Error: ${err.message}<br>This usually means there's a typo in your chart specification. See the javascript console for the full traceback.`));\n",
       "    }\n",
       "\n",
       "    if(typeof define === \"function\" && define.amd) {\n",
       "      requirejs.config({paths});\n",
       "      require([\"vega-embed\"], displayChart, err => showError(`Error loading script: ${err.message}`));\n",
       "    } else if (typeof vegaEmbed === \"function\") {\n",
       "      displayChart(vegaEmbed);\n",
       "    } else {\n",
       "      loadScript(\"vega\")\n",
       "        .then(() => loadScript(\"vega-lite\"))\n",
       "        .then(() => loadScript(\"vega-embed\"))\n",
       "        .catch(showError)\n",
       "        .then(() => displayChart(vegaEmbed));\n",
       "    }\n",
       "  })({\"config\": {\"view\": {\"continuousWidth\": 400, \"continuousHeight\": 300}}, \"layer\": [{\"mark\": {\"type\": \"point\", \"size\": 50}, \"encoding\": {\"tooltip\": [{\"type\": \"temporal\", \"field\": \"date\"}, {\"type\": \"quantitative\", \"field\": \"positiveIncrease\"}], \"x\": {\"type\": \"temporal\", \"field\": \"date\"}, \"y\": {\"type\": \"quantitative\", \"field\": \"positiveIncrease\"}}, \"height\": 400, \"selection\": {\"selector001\": {\"type\": \"interval\", \"bind\": \"scales\", \"encodings\": [\"x\", \"y\"]}}, \"title\": \"US: positiveIncrease\", \"width\": 800}, {\"mark\": {\"type\": \"line\", \"color\": \"purple\", \"size\": 2}, \"encoding\": {\"x\": {\"type\": \"temporal\", \"field\": \"date\"}, \"y\": {\"type\": \"quantitative\", \"field\": \"rolling_mean\"}}, \"transform\": [{\"window\": [{\"op\": \"mean\", \"field\": \"positiveIncrease\", \"as\": \"rolling_mean\"}], \"frame\": [0, 3]}]}], \"data\": {\"name\": \"data-ad8317b16350058801f5fee3e14eb804\"}, \"$schema\": \"https://vega.github.io/schema/vega-lite/v4.8.1.json\", \"datasets\": {\"data-ad8317b16350058801f5fee3e14eb804\": [{\"date\": \"2020-07-19T00:00:00\", \"totalTestResultsIncrease\": 764176.0, \"positiveIncrease\": 63789.0, \"death\": 132900.0, \"deathIncrease\": 523.0, \"positiveRate\": 0.083, \"state\": \"US\"}, {\"date\": \"2020-07-18T00:00:00\", \"totalTestResultsIncrease\": 761771.0, \"positiveIncrease\": 65180.0, \"death\": 132395.0, \"deathIncrease\": 872.0, \"positiveRate\": 0.086, \"state\": \"US\"}, {\"date\": \"2020-07-17T00:00:00\", \"totalTestResultsIncrease\": 851788.0, \"positiveIncrease\": 77233.0, \"death\": 131523.0, \"deathIncrease\": 951.0, \"positiveRate\": 0.091, \"state\": \"US\"}, {\"date\": \"2020-07-16T00:00:00\", \"totalTestResultsIncrease\": 824588.0, \"positiveIncrease\": 70953.0, \"death\": 130572.0, \"deathIncrease\": 974.0, \"positiveRate\": 0.086, \"state\": \"US\"}, {\"date\": \"2020-07-15T00:00:00\", \"totalTestResultsIncrease\": 762800.0, \"positiveIncrease\": 65382.0, \"death\": 129598.0, \"deathIncrease\": 858.0, \"positiveRate\": 0.086, \"state\": \"US\"}, {\"date\": \"2020-07-14T00:00:00\", \"totalTestResultsIncrease\": 760282.0, \"positiveIncrease\": 62879.0, \"death\": 128740.0, \"deathIncrease\": 736.0, \"positiveRate\": 0.083, \"state\": \"US\"}, {\"date\": \"2020-07-13T00:00:00\", \"totalTestResultsIncrease\": 722099.0, \"positiveIncrease\": 58465.0, \"death\": 128004.0, \"deathIncrease\": 327.0, \"positiveRate\": 0.081, \"state\": \"US\"}, {\"date\": \"2020-07-12T00:00:00\", \"totalTestResultsIncrease\": 727318.0, \"positiveIncrease\": 60978.0, \"death\": 127677.0, \"deathIncrease\": 476.0, \"positiveRate\": 0.084, \"state\": \"US\"}, {\"date\": \"2020-07-11T00:00:00\", \"totalTestResultsIncrease\": 635437.0, \"positiveIncrease\": 63007.0, \"death\": 127201.0, \"deathIncrease\": 757.0, \"positiveRate\": 0.099, \"state\": \"US\"}, {\"date\": \"2020-07-10T00:00:00\", \"totalTestResultsIncrease\": 823375.0, \"positiveIncrease\": 66645.0, \"death\": 126444.0, \"deathIncrease\": 854.0, \"positiveRate\": 0.081, \"state\": \"US\"}, {\"date\": \"2020-07-09T00:00:00\", \"totalTestResultsIncrease\": 698788.0, \"positiveIncrease\": 58836.0, \"death\": 125590.0, \"deathIncrease\": 867.0, \"positiveRate\": 0.084, \"state\": \"US\"}, {\"date\": \"2020-07-08T00:00:00\", \"totalTestResultsIncrease\": 628262.0, \"positiveIncrease\": 62147.0, \"death\": 124723.0, \"deathIncrease\": 897.0, \"positiveRate\": 0.099, \"state\": \"US\"}, {\"date\": \"2020-07-07T00:00:00\", \"totalTestResultsIncrease\": 633221.0, \"positiveIncrease\": 51766.0, \"death\": 123826.0, \"deathIncrease\": 922.0, \"positiveRate\": 0.082, \"state\": \"US\"}, {\"date\": \"2020-07-06T00:00:00\", \"totalTestResultsIncrease\": 519951.0, \"positiveIncrease\": 41600.0, \"death\": 122904.0, \"deathIncrease\": 242.0, \"positiveRate\": 0.08, \"state\": \"US\"}, {\"date\": \"2020-07-05T00:00:00\", \"totalTestResultsIncrease\": 656908.0, \"positiveIncrease\": 45789.0, \"death\": 122662.0, \"deathIncrease\": 209.0, \"positiveRate\": 0.07, \"state\": \"US\"}, {\"date\": \"2020-07-04T00:00:00\", \"totalTestResultsIncrease\": 642231.0, \"positiveIncrease\": 54734.0, \"death\": 122453.0, \"deathIncrease\": 306.0, \"positiveRate\": 0.085, \"state\": \"US\"}, {\"date\": \"2020-07-03T00:00:00\", \"totalTestResultsIncrease\": 721440.0, \"positiveIncrease\": 54223.0, \"death\": 122147.0, \"deathIncrease\": 597.0, \"positiveRate\": 0.075, \"state\": \"US\"}, {\"date\": \"2020-07-02T00:00:00\", \"totalTestResultsIncrease\": 663376.0, \"positiveIncrease\": 53826.0, \"death\": 121550.0, \"deathIncrease\": 697.0, \"positiveRate\": 0.081, \"state\": \"US\"}, {\"date\": \"2020-07-01T00:00:00\", \"totalTestResultsIncrease\": 633282.0, \"positiveIncrease\": 50674.0, \"death\": 120853.0, \"deathIncrease\": 701.0, \"positiveRate\": 0.08, \"state\": \"US\"}, {\"date\": \"2020-06-30T00:00:00\", \"totalTestResultsIncrease\": 633945.0, \"positiveIncrease\": 47462.0, \"death\": 120152.0, \"deathIncrease\": 596.0, \"positiveRate\": 0.075, \"state\": \"US\"}, {\"date\": \"2020-06-29T00:00:00\", \"totalTestResultsIncrease\": 631715.0, \"positiveIncrease\": 39175.0, \"death\": 119556.0, \"deathIncrease\": 330.0, \"positiveRate\": 0.062, \"state\": \"US\"}, {\"date\": \"2020-06-28T00:00:00\", \"totalTestResultsIncrease\": 586643.0, \"positiveIncrease\": 41857.0, \"death\": 119226.0, \"deathIncrease\": 271.0, \"positiveRate\": 0.071, \"state\": \"US\"}, {\"date\": \"2020-06-27T00:00:00\", \"totalTestResultsIncrease\": 602866.0, \"positiveIncrease\": 43783.0, \"death\": 118955.0, \"deathIncrease\": 509.0, \"positiveRate\": 0.073, \"state\": \"US\"}, {\"date\": \"2020-06-26T00:00:00\", \"totalTestResultsIncrease\": 601962.0, \"positiveIncrease\": 44421.0, \"death\": 118446.0, \"deathIncrease\": 636.0, \"positiveRate\": 0.074, \"state\": \"US\"}, {\"date\": \"2020-06-25T00:00:00\", \"totalTestResultsIncrease\": 635891.0, \"positiveIncrease\": 39072.0, \"death\": 117810.0, \"deathIncrease\": 2501.0, \"positiveRate\": 0.061, \"state\": \"US\"}, {\"date\": \"2020-06-24T00:00:00\", \"totalTestResultsIncrease\": 511135.0, \"positiveIncrease\": 38684.0, \"death\": 115309.0, \"deathIncrease\": 724.0, \"positiveRate\": 0.076, \"state\": \"US\"}, {\"date\": \"2020-06-23T00:00:00\", \"totalTestResultsIncrease\": 499595.0, \"positiveIncrease\": 33021.0, \"death\": 114585.0, \"deathIncrease\": 708.0, \"positiveRate\": 0.066, \"state\": \"US\"}, {\"date\": \"2020-06-22T00:00:00\", \"totalTestResultsIncrease\": 462378.0, \"positiveIncrease\": 27017.0, \"death\": 113877.0, \"deathIncrease\": 283.0, \"positiveRate\": 0.058, \"state\": \"US\"}, {\"date\": \"2020-06-21T00:00:00\", \"totalTestResultsIncrease\": 512828.0, \"positiveIncrease\": 27284.0, \"death\": 113594.0, \"deathIncrease\": 292.0, \"positiveRate\": 0.053, \"state\": \"US\"}, {\"date\": \"2020-06-20T00:00:00\", \"totalTestResultsIncrease\": 567193.0, \"positiveIncrease\": 31994.0, \"death\": 113302.0, \"deathIncrease\": 628.0, \"positiveRate\": 0.056, \"state\": \"US\"}, {\"date\": \"2020-06-19T00:00:00\", \"totalTestResultsIncrease\": 569490.0, \"positiveIncrease\": 31046.0, \"death\": 112674.0, \"deathIncrease\": 655.0, \"positiveRate\": 0.055, \"state\": \"US\"}, {\"date\": \"2020-06-18T00:00:00\", \"totalTestResultsIncrease\": 513906.0, \"positiveIncrease\": 27527.0, \"death\": 112019.0, \"deathIncrease\": 704.0, \"positiveRate\": 0.054, \"state\": \"US\"}, {\"date\": \"2020-06-17T00:00:00\", \"totalTestResultsIncrease\": 487157.0, \"positiveIncrease\": 23873.0, \"death\": 111315.0, \"deathIncrease\": 767.0, \"positiveRate\": 0.049, \"state\": \"US\"}, {\"date\": \"2020-06-16T00:00:00\", \"totalTestResultsIncrease\": 463137.0, \"positiveIncrease\": 23435.0, \"death\": 110548.0, \"deathIncrease\": 729.0, \"positiveRate\": 0.051, \"state\": \"US\"}, {\"date\": \"2020-06-15T00:00:00\", \"totalTestResultsIncrease\": 435160.0, \"positiveIncrease\": 18510.0, \"death\": 109819.0, \"deathIncrease\": 380.0, \"positiveRate\": 0.043, \"state\": \"US\"}, {\"date\": \"2020-06-14T00:00:00\", \"totalTestResultsIncrease\": 482888.0, \"positiveIncrease\": 21373.0, \"death\": 109439.0, \"deathIncrease\": 355.0, \"positiveRate\": 0.044, \"state\": \"US\"}, {\"date\": \"2020-06-13T00:00:00\", \"totalTestResultsIncrease\": 505393.0, \"positiveIncrease\": 25341.0, \"death\": 109084.0, \"deathIncrease\": 691.0, \"positiveRate\": 0.05, \"state\": \"US\"}, {\"date\": \"2020-06-12T00:00:00\", \"totalTestResultsIncrease\": 617370.0, \"positiveIncrease\": 23477.0, \"death\": 108393.0, \"deathIncrease\": 772.0, \"positiveRate\": 0.038, \"state\": \"US\"}, {\"date\": \"2020-06-11T00:00:00\", \"totalTestResultsIncrease\": 456423.0, \"positiveIncrease\": 22032.0, \"death\": 107621.0, \"deathIncrease\": 898.0, \"positiveRate\": 0.048, \"state\": \"US\"}, {\"date\": \"2020-06-10T00:00:00\", \"totalTestResultsIncrease\": 428279.0, \"positiveIncrease\": 20803.0, \"death\": 106723.0, \"deathIncrease\": 885.0, \"positiveRate\": 0.049, \"state\": \"US\"}, {\"date\": \"2020-06-09T00:00:00\", \"totalTestResultsIncrease\": 419977.0, \"positiveIncrease\": 17175.0, \"death\": 105838.0, \"deathIncrease\": 898.0, \"positiveRate\": 0.041, \"state\": \"US\"}, {\"date\": \"2020-06-08T00:00:00\", \"totalTestResultsIncrease\": 396191.0, \"positiveIncrease\": 17012.0, \"death\": 104940.0, \"deathIncrease\": 660.0, \"positiveRate\": 0.043, \"state\": \"US\"}, {\"date\": \"2020-06-07T00:00:00\", \"totalTestResultsIncrease\": 447150.0, \"positiveIncrease\": 18823.0, \"death\": 104280.0, \"deathIncrease\": 446.0, \"positiveRate\": 0.042, \"state\": \"US\"}, {\"date\": \"2020-06-06T00:00:00\", \"totalTestResultsIncrease\": 512371.0, \"positiveIncrease\": 23106.0, \"death\": 103834.0, \"deathIncrease\": 727.0, \"positiveRate\": 0.045, \"state\": \"US\"}, {\"date\": \"2020-06-05T00:00:00\", \"totalTestResultsIncrease\": 506275.0, \"positiveIncrease\": 23352.0, \"death\": 103107.0, \"deathIncrease\": 823.0, \"positiveRate\": 0.046, \"state\": \"US\"}, {\"date\": \"2020-06-04T00:00:00\", \"totalTestResultsIncrease\": 460984.0, \"positiveIncrease\": 20839.0, \"death\": 102284.0, \"deathIncrease\": 888.0, \"positiveRate\": 0.045, \"state\": \"US\"}, {\"date\": \"2020-06-03T00:00:00\", \"totalTestResultsIncrease\": 466714.0, \"positiveIncrease\": 20312.0, \"death\": 101396.0, \"deathIncrease\": 991.0, \"positiveRate\": 0.044, \"state\": \"US\"}, {\"date\": \"2020-06-02T00:00:00\", \"totalTestResultsIncrease\": 418646.0, \"positiveIncrease\": 19982.0, \"death\": 100405.0, \"deathIncrease\": 959.0, \"positiveRate\": 0.048, \"state\": \"US\"}, {\"date\": \"2020-06-01T00:00:00\", \"totalTestResultsIncrease\": 412327.0, \"positiveIncrease\": 20415.0, \"death\": 99446.0, \"deathIncrease\": 665.0, \"positiveRate\": 0.05, \"state\": \"US\"}, {\"date\": \"2020-05-31T00:00:00\", \"totalTestResultsIncrease\": 396171.0, \"positiveIncrease\": 21639.0, \"death\": 98781.0, \"deathIncrease\": 649.0, \"positiveRate\": 0.055, \"state\": \"US\"}, {\"date\": \"2020-05-30T00:00:00\", \"totalTestResultsIncrease\": 425754.0, \"positiveIncrease\": 23762.0, \"death\": 98132.0, \"deathIncrease\": 929.0, \"positiveRate\": 0.056, \"state\": \"US\"}, {\"date\": \"2020-05-29T00:00:00\", \"totalTestResultsIncrease\": 487229.0, \"positiveIncrease\": 23522.0, \"death\": 97203.0, \"deathIncrease\": 1179.0, \"positiveRate\": 0.048, \"state\": \"US\"}, {\"date\": \"2020-05-28T00:00:00\", \"totalTestResultsIncrease\": 434470.0, \"positiveIncrease\": 22601.0, \"death\": 96024.0, \"deathIncrease\": 1226.0, \"positiveRate\": 0.052, \"state\": \"US\"}, {\"date\": \"2020-05-27T00:00:00\", \"totalTestResultsIncrease\": 308433.0, \"positiveIncrease\": 19385.0, \"death\": 94798.0, \"deathIncrease\": 1318.0, \"positiveRate\": 0.063, \"state\": \"US\"}, {\"date\": \"2020-05-26T00:00:00\", \"totalTestResultsIncrease\": 305932.0, \"positiveIncrease\": 16629.0, \"death\": 93480.0, \"deathIncrease\": 640.0, \"positiveRate\": 0.054, \"state\": \"US\"}, {\"date\": \"2020-05-25T00:00:00\", \"totalTestResultsIncrease\": 422588.0, \"positiveIncrease\": 18798.0, \"death\": 92840.0, \"deathIncrease\": 555.0, \"positiveRate\": 0.044, \"state\": \"US\"}]}}, {\"mode\": \"vega-lite\"});\n",
       "</script>"
      ],
      "text/plain": [
       "alt.LayerChart(...)"
      ]
     },
     "execution_count": 6,
     "metadata": {},
     "output_type": "execute_result"
    }
   ],
   "source": [
    "create_plot(us, 'positiveIncrease')"
   ]
  },
  {
   "cell_type": "code",
   "execution_count": 7,
   "metadata": {},
   "outputs": [
    {
     "data": {
      "text/html": [
       "\n",
       "<div id=\"altair-viz-cc7c595eb4604178b527b129de0dd40b\"></div>\n",
       "<script type=\"text/javascript\">\n",
       "  (function(spec, embedOpt){\n",
       "    let outputDiv = document.currentScript.previousElementSibling;\n",
       "    if (outputDiv.id !== \"altair-viz-cc7c595eb4604178b527b129de0dd40b\") {\n",
       "      outputDiv = document.getElementById(\"altair-viz-cc7c595eb4604178b527b129de0dd40b\");\n",
       "    }\n",
       "    const paths = {\n",
       "      \"vega\": \"https://cdn.jsdelivr.net/npm//vega@5?noext\",\n",
       "      \"vega-lib\": \"https://cdn.jsdelivr.net/npm//vega-lib?noext\",\n",
       "      \"vega-lite\": \"https://cdn.jsdelivr.net/npm//vega-lite@4.8.1?noext\",\n",
       "      \"vega-embed\": \"https://cdn.jsdelivr.net/npm//vega-embed@6?noext\",\n",
       "    };\n",
       "\n",
       "    function loadScript(lib) {\n",
       "      return new Promise(function(resolve, reject) {\n",
       "        var s = document.createElement('script');\n",
       "        s.src = paths[lib];\n",
       "        s.async = true;\n",
       "        s.onload = () => resolve(paths[lib]);\n",
       "        s.onerror = () => reject(`Error loading script: ${paths[lib]}`);\n",
       "        document.getElementsByTagName(\"head\")[0].appendChild(s);\n",
       "      });\n",
       "    }\n",
       "\n",
       "    function showError(err) {\n",
       "      outputDiv.innerHTML = `<div class=\"error\" style=\"color:red;\">${err}</div>`;\n",
       "      throw err;\n",
       "    }\n",
       "\n",
       "    function displayChart(vegaEmbed) {\n",
       "      vegaEmbed(outputDiv, spec, embedOpt)\n",
       "        .catch(err => showError(`Javascript Error: ${err.message}<br>This usually means there's a typo in your chart specification. See the javascript console for the full traceback.`));\n",
       "    }\n",
       "\n",
       "    if(typeof define === \"function\" && define.amd) {\n",
       "      requirejs.config({paths});\n",
       "      require([\"vega-embed\"], displayChart, err => showError(`Error loading script: ${err.message}`));\n",
       "    } else if (typeof vegaEmbed === \"function\") {\n",
       "      displayChart(vegaEmbed);\n",
       "    } else {\n",
       "      loadScript(\"vega\")\n",
       "        .then(() => loadScript(\"vega-lite\"))\n",
       "        .then(() => loadScript(\"vega-embed\"))\n",
       "        .catch(showError)\n",
       "        .then(() => displayChart(vegaEmbed));\n",
       "    }\n",
       "  })({\"config\": {\"view\": {\"continuousWidth\": 400, \"continuousHeight\": 300}}, \"layer\": [{\"mark\": {\"type\": \"point\", \"size\": 50}, \"encoding\": {\"tooltip\": [{\"type\": \"temporal\", \"field\": \"date\"}, {\"type\": \"quantitative\", \"field\": \"positiveRate\"}], \"x\": {\"type\": \"temporal\", \"field\": \"date\"}, \"y\": {\"type\": \"quantitative\", \"field\": \"positiveRate\"}}, \"height\": 400, \"selection\": {\"selector002\": {\"type\": \"interval\", \"bind\": \"scales\", \"encodings\": [\"x\", \"y\"]}}, \"title\": \"US: positiveRate\", \"width\": 800}, {\"mark\": {\"type\": \"line\", \"color\": \"purple\", \"size\": 2}, \"encoding\": {\"x\": {\"type\": \"temporal\", \"field\": \"date\"}, \"y\": {\"type\": \"quantitative\", \"field\": \"rolling_mean\"}}, \"transform\": [{\"window\": [{\"op\": \"mean\", \"field\": \"positiveRate\", \"as\": \"rolling_mean\"}], \"frame\": [0, 3]}]}], \"data\": {\"name\": \"data-ad8317b16350058801f5fee3e14eb804\"}, \"$schema\": \"https://vega.github.io/schema/vega-lite/v4.8.1.json\", \"datasets\": {\"data-ad8317b16350058801f5fee3e14eb804\": [{\"date\": \"2020-07-19T00:00:00\", \"totalTestResultsIncrease\": 764176.0, \"positiveIncrease\": 63789.0, \"death\": 132900.0, \"deathIncrease\": 523.0, \"positiveRate\": 0.083, \"state\": \"US\"}, {\"date\": \"2020-07-18T00:00:00\", \"totalTestResultsIncrease\": 761771.0, \"positiveIncrease\": 65180.0, \"death\": 132395.0, \"deathIncrease\": 872.0, \"positiveRate\": 0.086, \"state\": \"US\"}, {\"date\": \"2020-07-17T00:00:00\", \"totalTestResultsIncrease\": 851788.0, \"positiveIncrease\": 77233.0, \"death\": 131523.0, \"deathIncrease\": 951.0, \"positiveRate\": 0.091, \"state\": \"US\"}, {\"date\": \"2020-07-16T00:00:00\", \"totalTestResultsIncrease\": 824588.0, \"positiveIncrease\": 70953.0, \"death\": 130572.0, \"deathIncrease\": 974.0, \"positiveRate\": 0.086, \"state\": \"US\"}, {\"date\": \"2020-07-15T00:00:00\", \"totalTestResultsIncrease\": 762800.0, \"positiveIncrease\": 65382.0, \"death\": 129598.0, \"deathIncrease\": 858.0, \"positiveRate\": 0.086, \"state\": \"US\"}, {\"date\": \"2020-07-14T00:00:00\", \"totalTestResultsIncrease\": 760282.0, \"positiveIncrease\": 62879.0, \"death\": 128740.0, \"deathIncrease\": 736.0, \"positiveRate\": 0.083, \"state\": \"US\"}, {\"date\": \"2020-07-13T00:00:00\", \"totalTestResultsIncrease\": 722099.0, \"positiveIncrease\": 58465.0, \"death\": 128004.0, \"deathIncrease\": 327.0, \"positiveRate\": 0.081, \"state\": \"US\"}, {\"date\": \"2020-07-12T00:00:00\", \"totalTestResultsIncrease\": 727318.0, \"positiveIncrease\": 60978.0, \"death\": 127677.0, \"deathIncrease\": 476.0, \"positiveRate\": 0.084, \"state\": \"US\"}, {\"date\": \"2020-07-11T00:00:00\", \"totalTestResultsIncrease\": 635437.0, \"positiveIncrease\": 63007.0, \"death\": 127201.0, \"deathIncrease\": 757.0, \"positiveRate\": 0.099, \"state\": \"US\"}, {\"date\": \"2020-07-10T00:00:00\", \"totalTestResultsIncrease\": 823375.0, \"positiveIncrease\": 66645.0, \"death\": 126444.0, \"deathIncrease\": 854.0, \"positiveRate\": 0.081, \"state\": \"US\"}, {\"date\": \"2020-07-09T00:00:00\", \"totalTestResultsIncrease\": 698788.0, \"positiveIncrease\": 58836.0, \"death\": 125590.0, \"deathIncrease\": 867.0, \"positiveRate\": 0.084, \"state\": \"US\"}, {\"date\": \"2020-07-08T00:00:00\", \"totalTestResultsIncrease\": 628262.0, \"positiveIncrease\": 62147.0, \"death\": 124723.0, \"deathIncrease\": 897.0, \"positiveRate\": 0.099, \"state\": \"US\"}, {\"date\": \"2020-07-07T00:00:00\", \"totalTestResultsIncrease\": 633221.0, \"positiveIncrease\": 51766.0, \"death\": 123826.0, \"deathIncrease\": 922.0, \"positiveRate\": 0.082, \"state\": \"US\"}, {\"date\": \"2020-07-06T00:00:00\", \"totalTestResultsIncrease\": 519951.0, \"positiveIncrease\": 41600.0, \"death\": 122904.0, \"deathIncrease\": 242.0, \"positiveRate\": 0.08, \"state\": \"US\"}, {\"date\": \"2020-07-05T00:00:00\", \"totalTestResultsIncrease\": 656908.0, \"positiveIncrease\": 45789.0, \"death\": 122662.0, \"deathIncrease\": 209.0, \"positiveRate\": 0.07, \"state\": \"US\"}, {\"date\": \"2020-07-04T00:00:00\", \"totalTestResultsIncrease\": 642231.0, \"positiveIncrease\": 54734.0, \"death\": 122453.0, \"deathIncrease\": 306.0, \"positiveRate\": 0.085, \"state\": \"US\"}, {\"date\": \"2020-07-03T00:00:00\", \"totalTestResultsIncrease\": 721440.0, \"positiveIncrease\": 54223.0, \"death\": 122147.0, \"deathIncrease\": 597.0, \"positiveRate\": 0.075, \"state\": \"US\"}, {\"date\": \"2020-07-02T00:00:00\", \"totalTestResultsIncrease\": 663376.0, \"positiveIncrease\": 53826.0, \"death\": 121550.0, \"deathIncrease\": 697.0, \"positiveRate\": 0.081, \"state\": \"US\"}, {\"date\": \"2020-07-01T00:00:00\", \"totalTestResultsIncrease\": 633282.0, \"positiveIncrease\": 50674.0, \"death\": 120853.0, \"deathIncrease\": 701.0, \"positiveRate\": 0.08, \"state\": \"US\"}, {\"date\": \"2020-06-30T00:00:00\", \"totalTestResultsIncrease\": 633945.0, \"positiveIncrease\": 47462.0, \"death\": 120152.0, \"deathIncrease\": 596.0, \"positiveRate\": 0.075, \"state\": \"US\"}, {\"date\": \"2020-06-29T00:00:00\", \"totalTestResultsIncrease\": 631715.0, \"positiveIncrease\": 39175.0, \"death\": 119556.0, \"deathIncrease\": 330.0, \"positiveRate\": 0.062, \"state\": \"US\"}, {\"date\": \"2020-06-28T00:00:00\", \"totalTestResultsIncrease\": 586643.0, \"positiveIncrease\": 41857.0, \"death\": 119226.0, \"deathIncrease\": 271.0, \"positiveRate\": 0.071, \"state\": \"US\"}, {\"date\": \"2020-06-27T00:00:00\", \"totalTestResultsIncrease\": 602866.0, \"positiveIncrease\": 43783.0, \"death\": 118955.0, \"deathIncrease\": 509.0, \"positiveRate\": 0.073, \"state\": \"US\"}, {\"date\": \"2020-06-26T00:00:00\", \"totalTestResultsIncrease\": 601962.0, \"positiveIncrease\": 44421.0, \"death\": 118446.0, \"deathIncrease\": 636.0, \"positiveRate\": 0.074, \"state\": \"US\"}, {\"date\": \"2020-06-25T00:00:00\", \"totalTestResultsIncrease\": 635891.0, \"positiveIncrease\": 39072.0, \"death\": 117810.0, \"deathIncrease\": 2501.0, \"positiveRate\": 0.061, \"state\": \"US\"}, {\"date\": \"2020-06-24T00:00:00\", \"totalTestResultsIncrease\": 511135.0, \"positiveIncrease\": 38684.0, \"death\": 115309.0, \"deathIncrease\": 724.0, \"positiveRate\": 0.076, \"state\": \"US\"}, {\"date\": \"2020-06-23T00:00:00\", \"totalTestResultsIncrease\": 499595.0, \"positiveIncrease\": 33021.0, \"death\": 114585.0, \"deathIncrease\": 708.0, \"positiveRate\": 0.066, \"state\": \"US\"}, {\"date\": \"2020-06-22T00:00:00\", \"totalTestResultsIncrease\": 462378.0, \"positiveIncrease\": 27017.0, \"death\": 113877.0, \"deathIncrease\": 283.0, \"positiveRate\": 0.058, \"state\": \"US\"}, {\"date\": \"2020-06-21T00:00:00\", \"totalTestResultsIncrease\": 512828.0, \"positiveIncrease\": 27284.0, \"death\": 113594.0, \"deathIncrease\": 292.0, \"positiveRate\": 0.053, \"state\": \"US\"}, {\"date\": \"2020-06-20T00:00:00\", \"totalTestResultsIncrease\": 567193.0, \"positiveIncrease\": 31994.0, \"death\": 113302.0, \"deathIncrease\": 628.0, \"positiveRate\": 0.056, \"state\": \"US\"}, {\"date\": \"2020-06-19T00:00:00\", \"totalTestResultsIncrease\": 569490.0, \"positiveIncrease\": 31046.0, \"death\": 112674.0, \"deathIncrease\": 655.0, \"positiveRate\": 0.055, \"state\": \"US\"}, {\"date\": \"2020-06-18T00:00:00\", \"totalTestResultsIncrease\": 513906.0, \"positiveIncrease\": 27527.0, \"death\": 112019.0, \"deathIncrease\": 704.0, \"positiveRate\": 0.054, \"state\": \"US\"}, {\"date\": \"2020-06-17T00:00:00\", \"totalTestResultsIncrease\": 487157.0, \"positiveIncrease\": 23873.0, \"death\": 111315.0, \"deathIncrease\": 767.0, \"positiveRate\": 0.049, \"state\": \"US\"}, {\"date\": \"2020-06-16T00:00:00\", \"totalTestResultsIncrease\": 463137.0, \"positiveIncrease\": 23435.0, \"death\": 110548.0, \"deathIncrease\": 729.0, \"positiveRate\": 0.051, \"state\": \"US\"}, {\"date\": \"2020-06-15T00:00:00\", \"totalTestResultsIncrease\": 435160.0, \"positiveIncrease\": 18510.0, \"death\": 109819.0, \"deathIncrease\": 380.0, \"positiveRate\": 0.043, \"state\": \"US\"}, {\"date\": \"2020-06-14T00:00:00\", \"totalTestResultsIncrease\": 482888.0, \"positiveIncrease\": 21373.0, \"death\": 109439.0, \"deathIncrease\": 355.0, \"positiveRate\": 0.044, \"state\": \"US\"}, {\"date\": \"2020-06-13T00:00:00\", \"totalTestResultsIncrease\": 505393.0, \"positiveIncrease\": 25341.0, \"death\": 109084.0, \"deathIncrease\": 691.0, \"positiveRate\": 0.05, \"state\": \"US\"}, {\"date\": \"2020-06-12T00:00:00\", \"totalTestResultsIncrease\": 617370.0, \"positiveIncrease\": 23477.0, \"death\": 108393.0, \"deathIncrease\": 772.0, \"positiveRate\": 0.038, \"state\": \"US\"}, {\"date\": \"2020-06-11T00:00:00\", \"totalTestResultsIncrease\": 456423.0, \"positiveIncrease\": 22032.0, \"death\": 107621.0, \"deathIncrease\": 898.0, \"positiveRate\": 0.048, \"state\": \"US\"}, {\"date\": \"2020-06-10T00:00:00\", \"totalTestResultsIncrease\": 428279.0, \"positiveIncrease\": 20803.0, \"death\": 106723.0, \"deathIncrease\": 885.0, \"positiveRate\": 0.049, \"state\": \"US\"}, {\"date\": \"2020-06-09T00:00:00\", \"totalTestResultsIncrease\": 419977.0, \"positiveIncrease\": 17175.0, \"death\": 105838.0, \"deathIncrease\": 898.0, \"positiveRate\": 0.041, \"state\": \"US\"}, {\"date\": \"2020-06-08T00:00:00\", \"totalTestResultsIncrease\": 396191.0, \"positiveIncrease\": 17012.0, \"death\": 104940.0, \"deathIncrease\": 660.0, \"positiveRate\": 0.043, \"state\": \"US\"}, {\"date\": \"2020-06-07T00:00:00\", \"totalTestResultsIncrease\": 447150.0, \"positiveIncrease\": 18823.0, \"death\": 104280.0, \"deathIncrease\": 446.0, \"positiveRate\": 0.042, \"state\": \"US\"}, {\"date\": \"2020-06-06T00:00:00\", \"totalTestResultsIncrease\": 512371.0, \"positiveIncrease\": 23106.0, \"death\": 103834.0, \"deathIncrease\": 727.0, \"positiveRate\": 0.045, \"state\": \"US\"}, {\"date\": \"2020-06-05T00:00:00\", \"totalTestResultsIncrease\": 506275.0, \"positiveIncrease\": 23352.0, \"death\": 103107.0, \"deathIncrease\": 823.0, \"positiveRate\": 0.046, \"state\": \"US\"}, {\"date\": \"2020-06-04T00:00:00\", \"totalTestResultsIncrease\": 460984.0, \"positiveIncrease\": 20839.0, \"death\": 102284.0, \"deathIncrease\": 888.0, \"positiveRate\": 0.045, \"state\": \"US\"}, {\"date\": \"2020-06-03T00:00:00\", \"totalTestResultsIncrease\": 466714.0, \"positiveIncrease\": 20312.0, \"death\": 101396.0, \"deathIncrease\": 991.0, \"positiveRate\": 0.044, \"state\": \"US\"}, {\"date\": \"2020-06-02T00:00:00\", \"totalTestResultsIncrease\": 418646.0, \"positiveIncrease\": 19982.0, \"death\": 100405.0, \"deathIncrease\": 959.0, \"positiveRate\": 0.048, \"state\": \"US\"}, {\"date\": \"2020-06-01T00:00:00\", \"totalTestResultsIncrease\": 412327.0, \"positiveIncrease\": 20415.0, \"death\": 99446.0, \"deathIncrease\": 665.0, \"positiveRate\": 0.05, \"state\": \"US\"}, {\"date\": \"2020-05-31T00:00:00\", \"totalTestResultsIncrease\": 396171.0, \"positiveIncrease\": 21639.0, \"death\": 98781.0, \"deathIncrease\": 649.0, \"positiveRate\": 0.055, \"state\": \"US\"}, {\"date\": \"2020-05-30T00:00:00\", \"totalTestResultsIncrease\": 425754.0, \"positiveIncrease\": 23762.0, \"death\": 98132.0, \"deathIncrease\": 929.0, \"positiveRate\": 0.056, \"state\": \"US\"}, {\"date\": \"2020-05-29T00:00:00\", \"totalTestResultsIncrease\": 487229.0, \"positiveIncrease\": 23522.0, \"death\": 97203.0, \"deathIncrease\": 1179.0, \"positiveRate\": 0.048, \"state\": \"US\"}, {\"date\": \"2020-05-28T00:00:00\", \"totalTestResultsIncrease\": 434470.0, \"positiveIncrease\": 22601.0, \"death\": 96024.0, \"deathIncrease\": 1226.0, \"positiveRate\": 0.052, \"state\": \"US\"}, {\"date\": \"2020-05-27T00:00:00\", \"totalTestResultsIncrease\": 308433.0, \"positiveIncrease\": 19385.0, \"death\": 94798.0, \"deathIncrease\": 1318.0, \"positiveRate\": 0.063, \"state\": \"US\"}, {\"date\": \"2020-05-26T00:00:00\", \"totalTestResultsIncrease\": 305932.0, \"positiveIncrease\": 16629.0, \"death\": 93480.0, \"deathIncrease\": 640.0, \"positiveRate\": 0.054, \"state\": \"US\"}, {\"date\": \"2020-05-25T00:00:00\", \"totalTestResultsIncrease\": 422588.0, \"positiveIncrease\": 18798.0, \"death\": 92840.0, \"deathIncrease\": 555.0, \"positiveRate\": 0.044, \"state\": \"US\"}]}}, {\"mode\": \"vega-lite\"});\n",
       "</script>"
      ],
      "text/plain": [
       "alt.LayerChart(...)"
      ]
     },
     "execution_count": 7,
     "metadata": {},
     "output_type": "execute_result"
    }
   ],
   "source": [
    "create_plot(us, 'positiveRate')"
   ]
  },
  {
   "cell_type": "code",
   "execution_count": 8,
   "metadata": {},
   "outputs": [
    {
     "data": {
      "text/html": [
       "\n",
       "<div id=\"altair-viz-b5e51577c49342a485d000187798b1a7\"></div>\n",
       "<script type=\"text/javascript\">\n",
       "  (function(spec, embedOpt){\n",
       "    let outputDiv = document.currentScript.previousElementSibling;\n",
       "    if (outputDiv.id !== \"altair-viz-b5e51577c49342a485d000187798b1a7\") {\n",
       "      outputDiv = document.getElementById(\"altair-viz-b5e51577c49342a485d000187798b1a7\");\n",
       "    }\n",
       "    const paths = {\n",
       "      \"vega\": \"https://cdn.jsdelivr.net/npm//vega@5?noext\",\n",
       "      \"vega-lib\": \"https://cdn.jsdelivr.net/npm//vega-lib?noext\",\n",
       "      \"vega-lite\": \"https://cdn.jsdelivr.net/npm//vega-lite@4.8.1?noext\",\n",
       "      \"vega-embed\": \"https://cdn.jsdelivr.net/npm//vega-embed@6?noext\",\n",
       "    };\n",
       "\n",
       "    function loadScript(lib) {\n",
       "      return new Promise(function(resolve, reject) {\n",
       "        var s = document.createElement('script');\n",
       "        s.src = paths[lib];\n",
       "        s.async = true;\n",
       "        s.onload = () => resolve(paths[lib]);\n",
       "        s.onerror = () => reject(`Error loading script: ${paths[lib]}`);\n",
       "        document.getElementsByTagName(\"head\")[0].appendChild(s);\n",
       "      });\n",
       "    }\n",
       "\n",
       "    function showError(err) {\n",
       "      outputDiv.innerHTML = `<div class=\"error\" style=\"color:red;\">${err}</div>`;\n",
       "      throw err;\n",
       "    }\n",
       "\n",
       "    function displayChart(vegaEmbed) {\n",
       "      vegaEmbed(outputDiv, spec, embedOpt)\n",
       "        .catch(err => showError(`Javascript Error: ${err.message}<br>This usually means there's a typo in your chart specification. See the javascript console for the full traceback.`));\n",
       "    }\n",
       "\n",
       "    if(typeof define === \"function\" && define.amd) {\n",
       "      requirejs.config({paths});\n",
       "      require([\"vega-embed\"], displayChart, err => showError(`Error loading script: ${err.message}`));\n",
       "    } else if (typeof vegaEmbed === \"function\") {\n",
       "      displayChart(vegaEmbed);\n",
       "    } else {\n",
       "      loadScript(\"vega\")\n",
       "        .then(() => loadScript(\"vega-lite\"))\n",
       "        .then(() => loadScript(\"vega-embed\"))\n",
       "        .catch(showError)\n",
       "        .then(() => displayChart(vegaEmbed));\n",
       "    }\n",
       "  })({\"config\": {\"view\": {\"continuousWidth\": 400, \"continuousHeight\": 300}}, \"layer\": [{\"mark\": {\"type\": \"point\", \"size\": 50}, \"encoding\": {\"tooltip\": [{\"type\": \"temporal\", \"field\": \"date\"}, {\"type\": \"quantitative\", \"field\": \"deathIncrease\"}], \"x\": {\"type\": \"temporal\", \"field\": \"date\"}, \"y\": {\"type\": \"quantitative\", \"field\": \"deathIncrease\"}}, \"height\": 400, \"selection\": {\"selector003\": {\"type\": \"interval\", \"bind\": \"scales\", \"encodings\": [\"x\", \"y\"]}}, \"title\": \"US: deathIncrease\", \"width\": 800}, {\"mark\": {\"type\": \"line\", \"color\": \"purple\", \"size\": 2}, \"encoding\": {\"x\": {\"type\": \"temporal\", \"field\": \"date\"}, \"y\": {\"type\": \"quantitative\", \"field\": \"rolling_mean\"}}, \"transform\": [{\"window\": [{\"op\": \"mean\", \"field\": \"deathIncrease\", \"as\": \"rolling_mean\"}], \"frame\": [0, 3]}]}], \"data\": {\"name\": \"data-ad8317b16350058801f5fee3e14eb804\"}, \"$schema\": \"https://vega.github.io/schema/vega-lite/v4.8.1.json\", \"datasets\": {\"data-ad8317b16350058801f5fee3e14eb804\": [{\"date\": \"2020-07-19T00:00:00\", \"totalTestResultsIncrease\": 764176.0, \"positiveIncrease\": 63789.0, \"death\": 132900.0, \"deathIncrease\": 523.0, \"positiveRate\": 0.083, \"state\": \"US\"}, {\"date\": \"2020-07-18T00:00:00\", \"totalTestResultsIncrease\": 761771.0, \"positiveIncrease\": 65180.0, \"death\": 132395.0, \"deathIncrease\": 872.0, \"positiveRate\": 0.086, \"state\": \"US\"}, {\"date\": \"2020-07-17T00:00:00\", \"totalTestResultsIncrease\": 851788.0, \"positiveIncrease\": 77233.0, \"death\": 131523.0, \"deathIncrease\": 951.0, \"positiveRate\": 0.091, \"state\": \"US\"}, {\"date\": \"2020-07-16T00:00:00\", \"totalTestResultsIncrease\": 824588.0, \"positiveIncrease\": 70953.0, \"death\": 130572.0, \"deathIncrease\": 974.0, \"positiveRate\": 0.086, \"state\": \"US\"}, {\"date\": \"2020-07-15T00:00:00\", \"totalTestResultsIncrease\": 762800.0, \"positiveIncrease\": 65382.0, \"death\": 129598.0, \"deathIncrease\": 858.0, \"positiveRate\": 0.086, \"state\": \"US\"}, {\"date\": \"2020-07-14T00:00:00\", \"totalTestResultsIncrease\": 760282.0, \"positiveIncrease\": 62879.0, \"death\": 128740.0, \"deathIncrease\": 736.0, \"positiveRate\": 0.083, \"state\": \"US\"}, {\"date\": \"2020-07-13T00:00:00\", \"totalTestResultsIncrease\": 722099.0, \"positiveIncrease\": 58465.0, \"death\": 128004.0, \"deathIncrease\": 327.0, \"positiveRate\": 0.081, \"state\": \"US\"}, {\"date\": \"2020-07-12T00:00:00\", \"totalTestResultsIncrease\": 727318.0, \"positiveIncrease\": 60978.0, \"death\": 127677.0, \"deathIncrease\": 476.0, \"positiveRate\": 0.084, \"state\": \"US\"}, {\"date\": \"2020-07-11T00:00:00\", \"totalTestResultsIncrease\": 635437.0, \"positiveIncrease\": 63007.0, \"death\": 127201.0, \"deathIncrease\": 757.0, \"positiveRate\": 0.099, \"state\": \"US\"}, {\"date\": \"2020-07-10T00:00:00\", \"totalTestResultsIncrease\": 823375.0, \"positiveIncrease\": 66645.0, \"death\": 126444.0, \"deathIncrease\": 854.0, \"positiveRate\": 0.081, \"state\": \"US\"}, {\"date\": \"2020-07-09T00:00:00\", \"totalTestResultsIncrease\": 698788.0, \"positiveIncrease\": 58836.0, \"death\": 125590.0, \"deathIncrease\": 867.0, \"positiveRate\": 0.084, \"state\": \"US\"}, {\"date\": \"2020-07-08T00:00:00\", \"totalTestResultsIncrease\": 628262.0, \"positiveIncrease\": 62147.0, \"death\": 124723.0, \"deathIncrease\": 897.0, \"positiveRate\": 0.099, \"state\": \"US\"}, {\"date\": \"2020-07-07T00:00:00\", \"totalTestResultsIncrease\": 633221.0, \"positiveIncrease\": 51766.0, \"death\": 123826.0, \"deathIncrease\": 922.0, \"positiveRate\": 0.082, \"state\": \"US\"}, {\"date\": \"2020-07-06T00:00:00\", \"totalTestResultsIncrease\": 519951.0, \"positiveIncrease\": 41600.0, \"death\": 122904.0, \"deathIncrease\": 242.0, \"positiveRate\": 0.08, \"state\": \"US\"}, {\"date\": \"2020-07-05T00:00:00\", \"totalTestResultsIncrease\": 656908.0, \"positiveIncrease\": 45789.0, \"death\": 122662.0, \"deathIncrease\": 209.0, \"positiveRate\": 0.07, \"state\": \"US\"}, {\"date\": \"2020-07-04T00:00:00\", \"totalTestResultsIncrease\": 642231.0, \"positiveIncrease\": 54734.0, \"death\": 122453.0, \"deathIncrease\": 306.0, \"positiveRate\": 0.085, \"state\": \"US\"}, {\"date\": \"2020-07-03T00:00:00\", \"totalTestResultsIncrease\": 721440.0, \"positiveIncrease\": 54223.0, \"death\": 122147.0, \"deathIncrease\": 597.0, \"positiveRate\": 0.075, \"state\": \"US\"}, {\"date\": \"2020-07-02T00:00:00\", \"totalTestResultsIncrease\": 663376.0, \"positiveIncrease\": 53826.0, \"death\": 121550.0, \"deathIncrease\": 697.0, \"positiveRate\": 0.081, \"state\": \"US\"}, {\"date\": \"2020-07-01T00:00:00\", \"totalTestResultsIncrease\": 633282.0, \"positiveIncrease\": 50674.0, \"death\": 120853.0, \"deathIncrease\": 701.0, \"positiveRate\": 0.08, \"state\": \"US\"}, {\"date\": \"2020-06-30T00:00:00\", \"totalTestResultsIncrease\": 633945.0, \"positiveIncrease\": 47462.0, \"death\": 120152.0, \"deathIncrease\": 596.0, \"positiveRate\": 0.075, \"state\": \"US\"}, {\"date\": \"2020-06-29T00:00:00\", \"totalTestResultsIncrease\": 631715.0, \"positiveIncrease\": 39175.0, \"death\": 119556.0, \"deathIncrease\": 330.0, \"positiveRate\": 0.062, \"state\": \"US\"}, {\"date\": \"2020-06-28T00:00:00\", \"totalTestResultsIncrease\": 586643.0, \"positiveIncrease\": 41857.0, \"death\": 119226.0, \"deathIncrease\": 271.0, \"positiveRate\": 0.071, \"state\": \"US\"}, {\"date\": \"2020-06-27T00:00:00\", \"totalTestResultsIncrease\": 602866.0, \"positiveIncrease\": 43783.0, \"death\": 118955.0, \"deathIncrease\": 509.0, \"positiveRate\": 0.073, \"state\": \"US\"}, {\"date\": \"2020-06-26T00:00:00\", \"totalTestResultsIncrease\": 601962.0, \"positiveIncrease\": 44421.0, \"death\": 118446.0, \"deathIncrease\": 636.0, \"positiveRate\": 0.074, \"state\": \"US\"}, {\"date\": \"2020-06-25T00:00:00\", \"totalTestResultsIncrease\": 635891.0, \"positiveIncrease\": 39072.0, \"death\": 117810.0, \"deathIncrease\": 2501.0, \"positiveRate\": 0.061, \"state\": \"US\"}, {\"date\": \"2020-06-24T00:00:00\", \"totalTestResultsIncrease\": 511135.0, \"positiveIncrease\": 38684.0, \"death\": 115309.0, \"deathIncrease\": 724.0, \"positiveRate\": 0.076, \"state\": \"US\"}, {\"date\": \"2020-06-23T00:00:00\", \"totalTestResultsIncrease\": 499595.0, \"positiveIncrease\": 33021.0, \"death\": 114585.0, \"deathIncrease\": 708.0, \"positiveRate\": 0.066, \"state\": \"US\"}, {\"date\": \"2020-06-22T00:00:00\", \"totalTestResultsIncrease\": 462378.0, \"positiveIncrease\": 27017.0, \"death\": 113877.0, \"deathIncrease\": 283.0, \"positiveRate\": 0.058, \"state\": \"US\"}, {\"date\": \"2020-06-21T00:00:00\", \"totalTestResultsIncrease\": 512828.0, \"positiveIncrease\": 27284.0, \"death\": 113594.0, \"deathIncrease\": 292.0, \"positiveRate\": 0.053, \"state\": \"US\"}, {\"date\": \"2020-06-20T00:00:00\", \"totalTestResultsIncrease\": 567193.0, \"positiveIncrease\": 31994.0, \"death\": 113302.0, \"deathIncrease\": 628.0, \"positiveRate\": 0.056, \"state\": \"US\"}, {\"date\": \"2020-06-19T00:00:00\", \"totalTestResultsIncrease\": 569490.0, \"positiveIncrease\": 31046.0, \"death\": 112674.0, \"deathIncrease\": 655.0, \"positiveRate\": 0.055, \"state\": \"US\"}, {\"date\": \"2020-06-18T00:00:00\", \"totalTestResultsIncrease\": 513906.0, \"positiveIncrease\": 27527.0, \"death\": 112019.0, \"deathIncrease\": 704.0, \"positiveRate\": 0.054, \"state\": \"US\"}, {\"date\": \"2020-06-17T00:00:00\", \"totalTestResultsIncrease\": 487157.0, \"positiveIncrease\": 23873.0, \"death\": 111315.0, \"deathIncrease\": 767.0, \"positiveRate\": 0.049, \"state\": \"US\"}, {\"date\": \"2020-06-16T00:00:00\", \"totalTestResultsIncrease\": 463137.0, \"positiveIncrease\": 23435.0, \"death\": 110548.0, \"deathIncrease\": 729.0, \"positiveRate\": 0.051, \"state\": \"US\"}, {\"date\": \"2020-06-15T00:00:00\", \"totalTestResultsIncrease\": 435160.0, \"positiveIncrease\": 18510.0, \"death\": 109819.0, \"deathIncrease\": 380.0, \"positiveRate\": 0.043, \"state\": \"US\"}, {\"date\": \"2020-06-14T00:00:00\", \"totalTestResultsIncrease\": 482888.0, \"positiveIncrease\": 21373.0, \"death\": 109439.0, \"deathIncrease\": 355.0, \"positiveRate\": 0.044, \"state\": \"US\"}, {\"date\": \"2020-06-13T00:00:00\", \"totalTestResultsIncrease\": 505393.0, \"positiveIncrease\": 25341.0, \"death\": 109084.0, \"deathIncrease\": 691.0, \"positiveRate\": 0.05, \"state\": \"US\"}, {\"date\": \"2020-06-12T00:00:00\", \"totalTestResultsIncrease\": 617370.0, \"positiveIncrease\": 23477.0, \"death\": 108393.0, \"deathIncrease\": 772.0, \"positiveRate\": 0.038, \"state\": \"US\"}, {\"date\": \"2020-06-11T00:00:00\", \"totalTestResultsIncrease\": 456423.0, \"positiveIncrease\": 22032.0, \"death\": 107621.0, \"deathIncrease\": 898.0, \"positiveRate\": 0.048, \"state\": \"US\"}, {\"date\": \"2020-06-10T00:00:00\", \"totalTestResultsIncrease\": 428279.0, \"positiveIncrease\": 20803.0, \"death\": 106723.0, \"deathIncrease\": 885.0, \"positiveRate\": 0.049, \"state\": \"US\"}, {\"date\": \"2020-06-09T00:00:00\", \"totalTestResultsIncrease\": 419977.0, \"positiveIncrease\": 17175.0, \"death\": 105838.0, \"deathIncrease\": 898.0, \"positiveRate\": 0.041, \"state\": \"US\"}, {\"date\": \"2020-06-08T00:00:00\", \"totalTestResultsIncrease\": 396191.0, \"positiveIncrease\": 17012.0, \"death\": 104940.0, \"deathIncrease\": 660.0, \"positiveRate\": 0.043, \"state\": \"US\"}, {\"date\": \"2020-06-07T00:00:00\", \"totalTestResultsIncrease\": 447150.0, \"positiveIncrease\": 18823.0, \"death\": 104280.0, \"deathIncrease\": 446.0, \"positiveRate\": 0.042, \"state\": \"US\"}, {\"date\": \"2020-06-06T00:00:00\", \"totalTestResultsIncrease\": 512371.0, \"positiveIncrease\": 23106.0, \"death\": 103834.0, \"deathIncrease\": 727.0, \"positiveRate\": 0.045, \"state\": \"US\"}, {\"date\": \"2020-06-05T00:00:00\", \"totalTestResultsIncrease\": 506275.0, \"positiveIncrease\": 23352.0, \"death\": 103107.0, \"deathIncrease\": 823.0, \"positiveRate\": 0.046, \"state\": \"US\"}, {\"date\": \"2020-06-04T00:00:00\", \"totalTestResultsIncrease\": 460984.0, \"positiveIncrease\": 20839.0, \"death\": 102284.0, \"deathIncrease\": 888.0, \"positiveRate\": 0.045, \"state\": \"US\"}, {\"date\": \"2020-06-03T00:00:00\", \"totalTestResultsIncrease\": 466714.0, \"positiveIncrease\": 20312.0, \"death\": 101396.0, \"deathIncrease\": 991.0, \"positiveRate\": 0.044, \"state\": \"US\"}, {\"date\": \"2020-06-02T00:00:00\", \"totalTestResultsIncrease\": 418646.0, \"positiveIncrease\": 19982.0, \"death\": 100405.0, \"deathIncrease\": 959.0, \"positiveRate\": 0.048, \"state\": \"US\"}, {\"date\": \"2020-06-01T00:00:00\", \"totalTestResultsIncrease\": 412327.0, \"positiveIncrease\": 20415.0, \"death\": 99446.0, \"deathIncrease\": 665.0, \"positiveRate\": 0.05, \"state\": \"US\"}, {\"date\": \"2020-05-31T00:00:00\", \"totalTestResultsIncrease\": 396171.0, \"positiveIncrease\": 21639.0, \"death\": 98781.0, \"deathIncrease\": 649.0, \"positiveRate\": 0.055, \"state\": \"US\"}, {\"date\": \"2020-05-30T00:00:00\", \"totalTestResultsIncrease\": 425754.0, \"positiveIncrease\": 23762.0, \"death\": 98132.0, \"deathIncrease\": 929.0, \"positiveRate\": 0.056, \"state\": \"US\"}, {\"date\": \"2020-05-29T00:00:00\", \"totalTestResultsIncrease\": 487229.0, \"positiveIncrease\": 23522.0, \"death\": 97203.0, \"deathIncrease\": 1179.0, \"positiveRate\": 0.048, \"state\": \"US\"}, {\"date\": \"2020-05-28T00:00:00\", \"totalTestResultsIncrease\": 434470.0, \"positiveIncrease\": 22601.0, \"death\": 96024.0, \"deathIncrease\": 1226.0, \"positiveRate\": 0.052, \"state\": \"US\"}, {\"date\": \"2020-05-27T00:00:00\", \"totalTestResultsIncrease\": 308433.0, \"positiveIncrease\": 19385.0, \"death\": 94798.0, \"deathIncrease\": 1318.0, \"positiveRate\": 0.063, \"state\": \"US\"}, {\"date\": \"2020-05-26T00:00:00\", \"totalTestResultsIncrease\": 305932.0, \"positiveIncrease\": 16629.0, \"death\": 93480.0, \"deathIncrease\": 640.0, \"positiveRate\": 0.054, \"state\": \"US\"}, {\"date\": \"2020-05-25T00:00:00\", \"totalTestResultsIncrease\": 422588.0, \"positiveIncrease\": 18798.0, \"death\": 92840.0, \"deathIncrease\": 555.0, \"positiveRate\": 0.044, \"state\": \"US\"}]}}, {\"mode\": \"vega-lite\"});\n",
       "</script>"
      ],
      "text/plain": [
       "alt.LayerChart(...)"
      ]
     },
     "execution_count": 8,
     "metadata": {},
     "output_type": "execute_result"
    }
   ],
   "source": [
    "create_plot(us, 'deathIncrease')"
   ]
  },
  {
   "cell_type": "markdown",
   "metadata": {},
   "source": [
    "# NY"
   ]
  },
  {
   "cell_type": "code",
   "execution_count": 9,
   "metadata": {},
   "outputs": [],
   "source": [
    "ny = create_df(df, (lambda d: d['state'] == 'NY'), 'New York')"
   ]
  },
  {
   "cell_type": "code",
   "execution_count": null,
   "metadata": {},
   "outputs": [],
   "source": [
    "create_plot(ny, 'positiveIncrease')"
   ]
  },
  {
   "cell_type": "code",
   "execution_count": null,
   "metadata": {},
   "outputs": [],
   "source": [
    "create_plot(ny, 'positiveRate')"
   ]
  },
  {
   "cell_type": "code",
   "execution_count": null,
   "metadata": {},
   "outputs": [],
   "source": [
    "create_plot(ny, 'deathIncrease')"
   ]
  },
  {
   "cell_type": "markdown",
   "metadata": {},
   "source": [
    "# Non Tri-State"
   ]
  },
  {
   "cell_type": "code",
   "execution_count": null,
   "metadata": {},
   "outputs": [],
   "source": [
    "non_tristate = create_df(df, lambda d: ~d['state'].isin(['CT','NJ','NY']), 'Non Tri-State')"
   ]
  },
  {
   "cell_type": "code",
   "execution_count": null,
   "metadata": {},
   "outputs": [],
   "source": [
    "create_plot(non_tristate, 'positiveIncrease')"
   ]
  },
  {
   "cell_type": "code",
   "execution_count": null,
   "metadata": {},
   "outputs": [],
   "source": [
    "create_plot(non_tristate, 'positiveRate')"
   ]
  },
  {
   "cell_type": "code",
   "execution_count": null,
   "metadata": {},
   "outputs": [],
   "source": [
    "create_plot(non_tristate, 'deathIncrease')"
   ]
  }
 ],
 "metadata": {
  "kernelspec": {
   "display_name": "Python 3",
   "language": "python",
   "name": "python3"
  },
  "language_info": {
   "codemirror_mode": {
    "name": "ipython",
    "version": 3
   },
   "file_extension": ".py",
   "mimetype": "text/x-python",
   "name": "python",
   "nbconvert_exporter": "python",
   "pygments_lexer": "ipython3",
   "version": "3.8.3"
  }
 },
 "nbformat": 4,
 "nbformat_minor": 4
}
