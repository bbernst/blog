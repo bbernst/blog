{
 "cells": [
  {
   "cell_type": "markdown",
   "metadata": {
    "papermill": {
     "duration": 0.017949,
     "end_time": "2020-10-30T22:33:42.574726",
     "exception": false,
     "start_time": "2020-10-30T22:33:42.556777",
     "status": "completed"
    },
    "tags": []
   },
   "source": [
    "# \"COVID-19 plots\"\n",
    "> \"Interactive plots with daily updates\"\n",
    "\n",
    "- author: bbernst\n",
    "- toc: true\n",
    "- branch: master\n",
    "- badges: true\n",
    "- comments: true\n",
    "- categories: [healthcare, covid]\n",
    "- image: images/covid_plots/covid_mask.png\n",
    "- hide: false\n",
    "- search_exclude: true"
   ]
  },
  {
   "cell_type": "markdown",
   "metadata": {
    "papermill": {
     "duration": 0.012392,
     "end_time": "2020-10-30T22:33:42.600991",
     "exception": false,
     "start_time": "2020-10-30T22:33:42.588599",
     "status": "completed"
    },
    "tags": []
   },
   "source": [
    "I wanted to make a simple COVID-19 post to accomplish two main goals:\n",
    "1. Easily see the specific plots I'm interested in\n",
    "1. Update these plots every day, automatically\n",
    "\n",
    "Enter [fastpages](https://github.com/fastai/fastpages) and [github actions](https://github.com/features/actions). I'd been meaning to set up a blog with fastpages for a while and thought this would be a good reason to try it out. The documentation was great and I was able to set up automatic updates by using https://covid19dashboards.com/ as a guide.\n",
    "\n",
    "The data for this post comes from https://covidtracking.com/, which updates by 5pm each day, and I have my dashboard update at 6:30pm. For each geography -- so far that's the US, New York, and Non Tri-State -- I look at daily positive cases, positive rate, and deaths. Be sure to hover around on each of the plots, they have helpful interactive tooltips to make reading the data more intuitive."
   ]
  },
  {
   "cell_type": "code",
   "execution_count": 1,
   "metadata": {
    "execution": {
     "iopub.execute_input": "2020-10-30T22:33:42.629646Z",
     "iopub.status.busy": "2020-10-30T22:33:42.629111Z",
     "iopub.status.idle": "2020-10-30T22:33:43.087337Z",
     "shell.execute_reply": "2020-10-30T22:33:43.086254Z"
    },
    "papermill": {
     "duration": 0.474605,
     "end_time": "2020-10-30T22:33:43.087553",
     "exception": false,
     "start_time": "2020-10-30T22:33:42.612948",
     "status": "completed"
    },
    "tags": []
   },
   "outputs": [],
   "source": [
    "#collapse\n",
    "from typing import Callable, Literal\n",
    "import pandas as pd\n",
    "import altair as alt"
   ]
  },
  {
   "cell_type": "code",
   "execution_count": 2,
   "metadata": {
    "execution": {
     "iopub.execute_input": "2020-10-30T22:33:43.116047Z",
     "iopub.status.busy": "2020-10-30T22:33:43.115462Z",
     "iopub.status.idle": "2020-10-30T22:33:43.130916Z",
     "shell.execute_reply": "2020-10-30T22:33:43.130432Z"
    },
    "papermill": {
     "duration": 0.030716,
     "end_time": "2020-10-30T22:33:43.131048",
     "exception": false,
     "start_time": "2020-10-30T22:33:43.100332",
     "status": "completed"
    },
    "tags": []
   },
   "outputs": [
    {
     "name": "stdout",
     "output_type": "stream",
     "text": [
      "Last updated at (ET): 2020-10-30 06:33:43 PM\n"
     ]
    }
   ],
   "source": [
    "#hide_input\n",
    "current_utc = pd.Timestamp.now(tz='America/New_York').strftime('%Y-%m-%d %I:%M:%S %p')\n",
    "print(f\"Last updated at (ET): {current_utc}\")"
   ]
  },
  {
   "cell_type": "markdown",
   "metadata": {
    "papermill": {
     "duration": 0.012225,
     "end_time": "2020-10-30T22:33:43.155569",
     "exception": false,
     "start_time": "2020-10-30T22:33:43.143344",
     "status": "completed"
    },
    "tags": []
   },
   "source": [
    "# Data"
   ]
  },
  {
   "cell_type": "code",
   "execution_count": 3,
   "metadata": {
    "execution": {
     "iopub.execute_input": "2020-10-30T22:33:43.186175Z",
     "iopub.status.busy": "2020-10-30T22:33:43.185658Z",
     "iopub.status.idle": "2020-10-30T22:33:44.020485Z",
     "shell.execute_reply": "2020-10-30T22:33:44.019959Z"
    },
    "papermill": {
     "duration": 0.853166,
     "end_time": "2020-10-30T22:33:44.020609",
     "exception": false,
     "start_time": "2020-10-30T22:33:43.167443",
     "status": "completed"
    },
    "tags": []
   },
   "outputs": [],
   "source": [
    "df = pd.read_csv('https://covidtracking.com/api/states/daily.csv')"
   ]
  },
  {
   "cell_type": "markdown",
   "metadata": {
    "papermill": {
     "duration": 0.012132,
     "end_time": "2020-10-30T22:33:44.045407",
     "exception": false,
     "start_time": "2020-10-30T22:33:44.033275",
     "status": "completed"
    },
    "tags": []
   },
   "source": [
    "# Helpers"
   ]
  },
  {
   "cell_type": "code",
   "execution_count": 4,
   "metadata": {
    "execution": {
     "iopub.execute_input": "2020-10-30T22:33:44.078675Z",
     "iopub.status.busy": "2020-10-30T22:33:44.078106Z",
     "iopub.status.idle": "2020-10-30T22:33:44.079720Z",
     "shell.execute_reply": "2020-10-30T22:33:44.080153Z"
    },
    "papermill": {
     "duration": 0.022368,
     "end_time": "2020-10-30T22:33:44.080296",
     "exception": false,
     "start_time": "2020-10-30T22:33:44.057928",
     "status": "completed"
    },
    "tags": []
   },
   "outputs": [],
   "source": [
    "#collapse\n",
    "def create_df(df: pd.DataFrame, \n",
    "              filter_f: Callable, \n",
    "              state_name: str):\n",
    "    out_df = (\n",
    "     df\n",
    "     .assign(date = lambda d: pd.to_datetime(d['date'], format='%Y%m%d'))\n",
    "     .loc[filter_f, :]\n",
    "     .groupby('date')\n",
    "     .apply(lambda d: pd.Series(dict(\n",
    "         totalTestResultsIncrease = d['totalTestResultsIncrease'].sum(),\n",
    "         positiveIncrease = d['positiveIncrease'].sum(),\n",
    "         death = d['death'].sum(),\n",
    "         deathIncrease = d['deathIncrease'].sum()\n",
    "     )))\n",
    "     .reset_index()\n",
    "     .assign(positiveRate = lambda d: round(d['positiveIncrease'] / d['totalTestResultsIncrease'], 3))\n",
    "     .sort_values('date', ascending=True)\n",
    "     .assign(state = state_name)\n",
    "     .reset_index(drop=True)\n",
    "    )\n",
    "    \n",
    "    return out_df"
   ]
  },
  {
   "cell_type": "code",
   "execution_count": 5,
   "metadata": {
    "execution": {
     "iopub.execute_input": "2020-10-30T22:33:44.115746Z",
     "iopub.status.busy": "2020-10-30T22:33:44.115173Z",
     "iopub.status.idle": "2020-10-30T22:33:44.116917Z",
     "shell.execute_reply": "2020-10-30T22:33:44.117331Z"
    },
    "papermill": {
     "duration": 0.024498,
     "end_time": "2020-10-30T22:33:44.117463",
     "exception": false,
     "start_time": "2020-10-30T22:33:44.092965",
     "status": "completed"
    },
    "tags": []
   },
   "outputs": [],
   "source": [
    "#collapse\n",
    "def create_plot(df: pd.DataFrame, \n",
    "                column: Literal['totalTestResultsIncrease', \n",
    "                                'positiveIncrease', \n",
    "                                'death',\n",
    "                                'deathIncrease', \n",
    "                                'positiveRate'],\n",
    "                period: int = 7*8):\n",
    "    df = (\n",
    "     df\n",
    "     .assign(sma7d = lambda d: d[column].rolling(window=7).mean().round(3))\n",
    "     .loc[lambda d: d['date'] >= pd.to_datetime('today') - period * pd.Timedelta('1 days'), :]\n",
    "     .reset_index(drop=True)\n",
    "    )\n",
    "    the_state = df['state'][0]\n",
    "    label = alt.selection_single(\n",
    "        encodings=['x'], on='mouseover', nearest=True, empty='none')\n",
    "    \n",
    "    base = alt.Chart().mark_point(size=75).encode(\n",
    "        x='date:T',\n",
    "        y=f'{column}:Q',\n",
    "        tooltip=['date', f'{column}:Q', 'sma7d:Q']\n",
    "    )\n",
    "\n",
    "    sma = alt.Chart().mark_line(color='purple').encode(\n",
    "        x='date:T',\n",
    "        y='sma7d:Q'\n",
    "    )\n",
    "\n",
    "    layers = alt.layer(\n",
    "        base + sma,\n",
    "\n",
    "        # add a rule mark to serve as a guide line\n",
    "        alt.Chart().mark_rule(color='#aaa').encode(\n",
    "            x='date:T'\n",
    "        ).transform_filter(label),\n",
    "\n",
    "        # add circle marks for selected time points, hide unselected points\n",
    "        base.mark_circle().encode(\n",
    "            opacity=alt.condition(label, alt.value(1), alt.value(0))\n",
    "        ).add_selection(label),\n",
    "\n",
    "        # add white stroked text to provide a legible background for labels\n",
    "        base.mark_text(align='left', dx=5, dy=-5, stroke='white', strokeWidth=2).encode(\n",
    "            text=f'{column}:Q'\n",
    "        ).transform_filter(label),\n",
    "\n",
    "        # add text labels\n",
    "        base.mark_text(align='left', dx=5, dy=-5).encode(\n",
    "            text=f'{column}:Q'\n",
    "        ).transform_filter(label),\n",
    "        \n",
    "        data=df\n",
    "    ).properties(\n",
    "        title=f'{the_state}: {column}',\n",
    "        width=500,\n",
    "        height=400\n",
    "    )\n",
    "    \n",
    "    return layers.interactive()"
   ]
  },
  {
   "cell_type": "markdown",
   "metadata": {
    "papermill": {
     "duration": 0.012297,
     "end_time": "2020-10-30T22:33:44.140786",
     "exception": false,
     "start_time": "2020-10-30T22:33:44.128489",
     "status": "completed"
    },
    "tags": []
   },
   "source": [
    "# Plots"
   ]
  },
  {
   "cell_type": "markdown",
   "metadata": {
    "papermill": {
     "duration": 0.012139,
     "end_time": "2020-10-30T22:33:44.165416",
     "exception": false,
     "start_time": "2020-10-30T22:33:44.153277",
     "status": "completed"
    },
    "tags": []
   },
   "source": [
    "## US"
   ]
  },
  {
   "cell_type": "code",
   "execution_count": 6,
   "metadata": {
    "execution": {
     "iopub.execute_input": "2020-10-30T22:33:44.194995Z",
     "iopub.status.busy": "2020-10-30T22:33:44.194414Z",
     "iopub.status.idle": "2020-10-30T22:33:44.497348Z",
     "shell.execute_reply": "2020-10-30T22:33:44.496492Z"
    },
    "papermill": {
     "duration": 0.319483,
     "end_time": "2020-10-30T22:33:44.497552",
     "exception": false,
     "start_time": "2020-10-30T22:33:44.178069",
     "status": "completed"
    },
    "tags": []
   },
   "outputs": [],
   "source": [
    "us = create_df(df, lambda d: d.index > 0, 'US')"
   ]
  },
  {
   "cell_type": "code",
   "execution_count": 7,
   "metadata": {
    "execution": {
     "iopub.execute_input": "2020-10-30T22:33:44.556411Z",
     "iopub.status.busy": "2020-10-30T22:33:44.540972Z",
     "iopub.status.idle": "2020-10-30T22:33:44.633590Z",
     "shell.execute_reply": "2020-10-30T22:33:44.633012Z"
    },
    "papermill": {
     "duration": 0.12026,
     "end_time": "2020-10-30T22:33:44.633748",
     "exception": false,
     "start_time": "2020-10-30T22:33:44.513488",
     "status": "completed"
    },
    "tags": []
   },
   "outputs": [
    {
     "data": {
      "text/html": [
       "\n",
       "<div id=\"altair-viz-f6b2101eb22c448ca720fdc1638b6aae\"></div>\n",
       "<script type=\"text/javascript\">\n",
       "  (function(spec, embedOpt){\n",
       "    let outputDiv = document.currentScript.previousElementSibling;\n",
       "    if (outputDiv.id !== \"altair-viz-f6b2101eb22c448ca720fdc1638b6aae\") {\n",
       "      outputDiv = document.getElementById(\"altair-viz-f6b2101eb22c448ca720fdc1638b6aae\");\n",
       "    }\n",
       "    const paths = {\n",
       "      \"vega\": \"https://cdn.jsdelivr.net/npm//vega@5?noext\",\n",
       "      \"vega-lib\": \"https://cdn.jsdelivr.net/npm//vega-lib?noext\",\n",
       "      \"vega-lite\": \"https://cdn.jsdelivr.net/npm//vega-lite@4.8.1?noext\",\n",
       "      \"vega-embed\": \"https://cdn.jsdelivr.net/npm//vega-embed@6?noext\",\n",
       "    };\n",
       "\n",
       "    function loadScript(lib) {\n",
       "      return new Promise(function(resolve, reject) {\n",
       "        var s = document.createElement('script');\n",
       "        s.src = paths[lib];\n",
       "        s.async = true;\n",
       "        s.onload = () => resolve(paths[lib]);\n",
       "        s.onerror = () => reject(`Error loading script: ${paths[lib]}`);\n",
       "        document.getElementsByTagName(\"head\")[0].appendChild(s);\n",
       "      });\n",
       "    }\n",
       "\n",
       "    function showError(err) {\n",
       "      outputDiv.innerHTML = `<div class=\"error\" style=\"color:red;\">${err}</div>`;\n",
       "      throw err;\n",
       "    }\n",
       "\n",
       "    function displayChart(vegaEmbed) {\n",
       "      vegaEmbed(outputDiv, spec, embedOpt)\n",
       "        .catch(err => showError(`Javascript Error: ${err.message}<br>This usually means there's a typo in your chart specification. See the javascript console for the full traceback.`));\n",
       "    }\n",
       "\n",
       "    if(typeof define === \"function\" && define.amd) {\n",
       "      requirejs.config({paths});\n",
       "      require([\"vega-embed\"], displayChart, err => showError(`Error loading script: ${err.message}`));\n",
       "    } else if (typeof vegaEmbed === \"function\") {\n",
       "      displayChart(vegaEmbed);\n",
       "    } else {\n",
       "      loadScript(\"vega\")\n",
       "        .then(() => loadScript(\"vega-lite\"))\n",
       "        .then(() => loadScript(\"vega-embed\"))\n",
       "        .catch(showError)\n",
       "        .then(() => displayChart(vegaEmbed));\n",
       "    }\n",
       "  })({\"config\": {\"view\": {\"continuousWidth\": 400, \"continuousHeight\": 300}}, \"layer\": [{\"layer\": [{\"mark\": {\"type\": \"point\", \"size\": 75}, \"encoding\": {\"tooltip\": [{\"type\": \"temporal\", \"field\": \"date\"}, {\"type\": \"quantitative\", \"field\": \"positiveIncrease\"}, {\"type\": \"quantitative\", \"field\": \"sma7d\"}], \"x\": {\"type\": \"temporal\", \"field\": \"date\"}, \"y\": {\"type\": \"quantitative\", \"field\": \"positiveIncrease\"}}, \"selection\": {\"selector002\": {\"type\": \"interval\", \"bind\": \"scales\", \"encodings\": [\"x\", \"y\"]}}}, {\"mark\": {\"type\": \"line\", \"color\": \"purple\"}, \"encoding\": {\"x\": {\"type\": \"temporal\", \"field\": \"date\"}, \"y\": {\"type\": \"quantitative\", \"field\": \"sma7d\"}}}]}, {\"mark\": {\"type\": \"rule\", \"color\": \"#aaa\"}, \"encoding\": {\"x\": {\"type\": \"temporal\", \"field\": \"date\"}}, \"transform\": [{\"filter\": {\"selection\": \"selector001\"}}]}, {\"mark\": \"circle\", \"encoding\": {\"opacity\": {\"condition\": {\"value\": 1, \"selection\": \"selector001\"}, \"value\": 0}, \"tooltip\": [{\"type\": \"temporal\", \"field\": \"date\"}, {\"type\": \"quantitative\", \"field\": \"positiveIncrease\"}, {\"type\": \"quantitative\", \"field\": \"sma7d\"}], \"x\": {\"type\": \"temporal\", \"field\": \"date\"}, \"y\": {\"type\": \"quantitative\", \"field\": \"positiveIncrease\"}}, \"selection\": {\"selector001\": {\"type\": \"single\", \"encodings\": [\"x\"], \"on\": \"mouseover\", \"nearest\": true, \"empty\": \"none\"}}}, {\"mark\": {\"type\": \"text\", \"align\": \"left\", \"dx\": 5, \"dy\": -5, \"stroke\": \"white\", \"strokeWidth\": 2}, \"encoding\": {\"text\": {\"type\": \"quantitative\", \"field\": \"positiveIncrease\"}, \"tooltip\": [{\"type\": \"temporal\", \"field\": \"date\"}, {\"type\": \"quantitative\", \"field\": \"positiveIncrease\"}, {\"type\": \"quantitative\", \"field\": \"sma7d\"}], \"x\": {\"type\": \"temporal\", \"field\": \"date\"}, \"y\": {\"type\": \"quantitative\", \"field\": \"positiveIncrease\"}}, \"transform\": [{\"filter\": {\"selection\": \"selector001\"}}]}, {\"mark\": {\"type\": \"text\", \"align\": \"left\", \"dx\": 5, \"dy\": -5}, \"encoding\": {\"text\": {\"type\": \"quantitative\", \"field\": \"positiveIncrease\"}, \"tooltip\": [{\"type\": \"temporal\", \"field\": \"date\"}, {\"type\": \"quantitative\", \"field\": \"positiveIncrease\"}, {\"type\": \"quantitative\", \"field\": \"sma7d\"}], \"x\": {\"type\": \"temporal\", \"field\": \"date\"}, \"y\": {\"type\": \"quantitative\", \"field\": \"positiveIncrease\"}}, \"transform\": [{\"filter\": {\"selection\": \"selector001\"}}]}], \"data\": {\"name\": \"data-a560bf26ff2c32d8a62d6b5c9956250b\"}, \"height\": 400, \"title\": \"US: positiveIncrease\", \"width\": 500, \"$schema\": \"https://vega.github.io/schema/vega-lite/v4.8.1.json\", \"datasets\": {\"data-a560bf26ff2c32d8a62d6b5c9956250b\": [{\"date\": \"2020-09-05T00:00:00\", \"totalTestResultsIncrease\": 966580.0, \"positiveIncrease\": 44842.0, \"death\": 180657.0, \"deathIncrease\": 918.0, \"positiveRate\": 0.046, \"state\": \"US\", \"sma7d\": 40676.571}, {\"date\": \"2020-09-06T00:00:00\", \"totalTestResultsIncrease\": 831432.0, \"positiveIncrease\": 33066.0, \"death\": 181106.0, \"deathIncrease\": 449.0, \"positiveRate\": 0.04, \"state\": \"US\", \"sma7d\": 39762.429}, {\"date\": \"2020-09-07T00:00:00\", \"totalTestResultsIncrease\": 662930.0, \"positiveIncrease\": 28656.0, \"death\": 181331.0, \"deathIncrease\": 225.0, \"positiveRate\": 0.043, \"state\": \"US\", \"sma7d\": 39370.857}, {\"date\": \"2020-09-08T00:00:00\", \"totalTestResultsIncrease\": 582923.0, \"positiveIncrease\": 22197.0, \"death\": 181689.0, \"deathIncrease\": 358.0, \"positiveRate\": 0.038, \"state\": \"US\", \"sma7d\": 36491.714}, {\"date\": \"2020-09-09T00:00:00\", \"totalTestResultsIncrease\": 703594.0, \"positiveIncrease\": 31064.0, \"death\": 182773.0, \"deathIncrease\": 1084.0, \"positiveRate\": 0.044, \"state\": \"US\", \"sma7d\": 36570.714}, {\"date\": \"2020-09-10T00:00:00\", \"totalTestResultsIncrease\": 778715.0, \"positiveIncrease\": 37535.0, \"death\": 183943.0, \"deathIncrease\": 1170.0, \"positiveRate\": 0.048, \"state\": \"US\", \"sma7d\": 35557.143}, {\"date\": \"2020-09-11T00:00:00\", \"totalTestResultsIncrease\": 919961.0, \"positiveIncrease\": 44881.0, \"death\": 184961.0, \"deathIncrease\": 1018.0, \"positiveRate\": 0.049, \"state\": \"US\", \"sma7d\": 34605.857}, {\"date\": \"2020-09-12T00:00:00\", \"totalTestResultsIncrease\": 994281.0, \"positiveIncrease\": 42068.0, \"death\": 185771.0, \"deathIncrease\": 810.0, \"positiveRate\": 0.042, \"state\": \"US\", \"sma7d\": 34209.571}, {\"date\": \"2020-09-13T00:00:00\", \"totalTestResultsIncrease\": 772567.0, \"positiveIncrease\": 34425.0, \"death\": 186161.0, \"deathIncrease\": 390.0, \"positiveRate\": 0.045, \"state\": \"US\", \"sma7d\": 34403.714}, {\"date\": \"2020-09-14T00:00:00\", \"totalTestResultsIncrease\": 501210.0, \"positiveIncrease\": 33846.0, \"death\": 186565.0, \"deathIncrease\": 404.0, \"positiveRate\": 0.068, \"state\": \"US\", \"sma7d\": 35145.143}, {\"date\": \"2020-09-15T00:00:00\", \"totalTestResultsIncrease\": 812801.0, \"positiveIncrease\": 35072.0, \"death\": 187596.0, \"deathIncrease\": 1031.0, \"positiveRate\": 0.043, \"state\": \"US\", \"sma7d\": 36984.429}, {\"date\": \"2020-09-16T00:00:00\", \"totalTestResultsIncrease\": 826616.0, \"positiveIncrease\": 39954.0, \"death\": 188796.0, \"deathIncrease\": 1200.0, \"positiveRate\": 0.048, \"state\": \"US\", \"sma7d\": 38254.429}, {\"date\": \"2020-09-17T00:00:00\", \"totalTestResultsIncrease\": 964294.0, \"positiveIncrease\": 43576.0, \"death\": 189659.0, \"deathIncrease\": 863.0, \"positiveRate\": 0.045, \"state\": \"US\", \"sma7d\": 39117.429}, {\"date\": \"2020-09-18T00:00:00\", \"totalTestResultsIncrease\": 1093488.0, \"positiveIncrease\": 47459.0, \"death\": 190560.0, \"deathIncrease\": 901.0, \"positiveRate\": 0.043, \"state\": \"US\", \"sma7d\": 39485.714}, {\"date\": \"2020-09-19T00:00:00\", \"totalTestResultsIncrease\": 1176868.0, \"positiveIncrease\": 45501.0, \"death\": 191300.0, \"deathIncrease\": 740.0, \"positiveRate\": 0.039, \"state\": \"US\", \"sma7d\": 39976.143}, {\"date\": \"2020-09-20T00:00:00\", \"totalTestResultsIncrease\": 978970.0, \"positiveIncrease\": 36271.0, \"death\": 191627.0, \"deathIncrease\": 327.0, \"positiveRate\": 0.037, \"state\": \"US\", \"sma7d\": 40239.857}, {\"date\": \"2020-09-21T00:00:00\", \"totalTestResultsIncrease\": 775434.0, \"positiveIncrease\": 39458.0, \"death\": 191914.0, \"deathIncrease\": 287.0, \"positiveRate\": 0.051, \"state\": \"US\", \"sma7d\": 41041.571}, {\"date\": \"2020-09-22T00:00:00\", \"totalTestResultsIncrease\": 850838.0, \"positiveIncrease\": 49383.0, \"death\": 192768.0, \"deathIncrease\": 854.0, \"positiveRate\": 0.058, \"state\": \"US\", \"sma7d\": 43086.0}, {\"date\": \"2020-09-23T00:00:00\", \"totalTestResultsIncrease\": 1010380.0, \"positiveIncrease\": 38571.0, \"death\": 193927.0, \"deathIncrease\": 1159.0, \"positiveRate\": 0.038, \"state\": \"US\", \"sma7d\": 42888.429}, {\"date\": \"2020-09-24T00:00:00\", \"totalTestResultsIncrease\": 1038007.0, \"positiveIncrease\": 43708.0, \"death\": 194848.0, \"deathIncrease\": 921.0, \"positiveRate\": 0.042, \"state\": \"US\", \"sma7d\": 42907.286}, {\"date\": \"2020-09-25T00:00:00\", \"totalTestResultsIncrease\": 1112802.0, \"positiveIncrease\": 55488.0, \"death\": 195692.0, \"deathIncrease\": 844.0, \"positiveRate\": 0.05, \"state\": \"US\", \"sma7d\": 44054.286}, {\"date\": \"2020-09-26T00:00:00\", \"totalTestResultsIncrease\": 1123396.0, \"positiveIncrease\": 47792.0, \"death\": 196561.0, \"deathIncrease\": 869.0, \"positiveRate\": 0.043, \"state\": \"US\", \"sma7d\": 44381.571}, {\"date\": \"2020-09-27T00:00:00\", \"totalTestResultsIncrease\": 905936.0, \"positiveIncrease\": 35419.0, \"death\": 196868.0, \"deathIncrease\": 307.0, \"positiveRate\": 0.039, \"state\": \"US\", \"sma7d\": 44259.857}, {\"date\": \"2020-09-28T00:00:00\", \"totalTestResultsIncrease\": 1164669.0, \"positiveIncrease\": 36514.0, \"death\": 197125.0, \"deathIncrease\": 257.0, \"positiveRate\": 0.031, \"state\": \"US\", \"sma7d\": 43839.286}, {\"date\": \"2020-09-29T00:00:00\", \"totalTestResultsIncrease\": 914663.0, \"positiveIncrease\": 36890.0, \"death\": 197864.0, \"deathIncrease\": 739.0, \"positiveRate\": 0.04, \"state\": \"US\", \"sma7d\": 42054.571}, {\"date\": \"2020-09-30T00:00:00\", \"totalTestResultsIncrease\": 904471.0, \"positiveIncrease\": 44356.0, \"death\": 198925.0, \"deathIncrease\": 1061.0, \"positiveRate\": 0.049, \"state\": \"US\", \"sma7d\": 42881.0}, {\"date\": \"2020-10-01T00:00:00\", \"totalTestResultsIncrease\": 998308.0, \"positiveIncrease\": 45617.0, \"death\": 199776.0, \"deathIncrease\": 851.0, \"positiveRate\": 0.046, \"state\": \"US\", \"sma7d\": 43153.714}, {\"date\": \"2020-10-02T00:00:00\", \"totalTestResultsIncrease\": 1242006.0, \"positiveIncrease\": 49484.0, \"death\": 200611.0, \"deathIncrease\": 835.0, \"positiveRate\": 0.04, \"state\": \"US\", \"sma7d\": 42296.0}, {\"date\": \"2020-10-03T00:00:00\", \"totalTestResultsIncrease\": 1100307.0, \"positiveIncrease\": 51338.0, \"death\": 201352.0, \"deathIncrease\": 741.0, \"positiveRate\": 0.047, \"state\": \"US\", \"sma7d\": 42802.571}, {\"date\": \"2020-10-04T00:00:00\", \"totalTestResultsIncrease\": 1029019.0, \"positiveIncrease\": 38357.0, \"death\": 201715.0, \"deathIncrease\": 363.0, \"positiveRate\": 0.037, \"state\": \"US\", \"sma7d\": 43222.286}, {\"date\": \"2020-10-05T00:00:00\", \"totalTestResultsIncrease\": 990801.0, \"positiveIncrease\": 38124.0, \"death\": 202041.0, \"deathIncrease\": 326.0, \"positiveRate\": 0.038, \"state\": \"US\", \"sma7d\": 43452.286}, {\"date\": \"2020-10-06T00:00:00\", \"totalTestResultsIncrease\": 907220.0, \"positiveIncrease\": 38611.0, \"death\": 202675.0, \"deathIncrease\": 634.0, \"positiveRate\": 0.043, \"state\": \"US\", \"sma7d\": 43698.143}, {\"date\": \"2020-10-07T00:00:00\", \"totalTestResultsIncrease\": 973499.0, \"positiveIncrease\": 50564.0, \"death\": 203591.0, \"deathIncrease\": 916.0, \"positiveRate\": 0.052, \"state\": \"US\", \"sma7d\": 44585.0}, {\"date\": \"2020-10-08T00:00:00\", \"totalTestResultsIncrease\": 1149639.0, \"positiveIncrease\": 55292.0, \"death\": 204577.0, \"deathIncrease\": 986.0, \"positiveRate\": 0.048, \"state\": \"US\", \"sma7d\": 45967.143}, {\"date\": \"2020-10-09T00:00:00\", \"totalTestResultsIncrease\": 1201113.0, \"positiveIncrease\": 57005.0, \"death\": 205470.0, \"deathIncrease\": 893.0, \"positiveRate\": 0.047, \"state\": \"US\", \"sma7d\": 47041.571}, {\"date\": \"2020-10-10T00:00:00\", \"totalTestResultsIncrease\": 1247474.0, \"positiveIncrease\": 57492.0, \"death\": 206135.0, \"deathIncrease\": 665.0, \"positiveRate\": 0.046, \"state\": \"US\", \"sma7d\": 47920.714}, {\"date\": \"2020-10-11T00:00:00\", \"totalTestResultsIncrease\": 1083329.0, \"positiveIncrease\": 46790.0, \"death\": 206601.0, \"deathIncrease\": 466.0, \"positiveRate\": 0.043, \"state\": \"US\", \"sma7d\": 49125.429}, {\"date\": \"2020-10-12T00:00:00\", \"totalTestResultsIncrease\": 1064319.0, \"positiveIncrease\": 43110.0, \"death\": 206888.0, \"deathIncrease\": 287.0, \"positiveRate\": 0.041, \"state\": \"US\", \"sma7d\": 49837.714}, {\"date\": \"2020-10-13T00:00:00\", \"totalTestResultsIncrease\": 1040995.0, \"positiveIncrease\": 48319.0, \"death\": 207578.0, \"deathIncrease\": 690.0, \"positiveRate\": 0.046, \"state\": \"US\", \"sma7d\": 51224.571}, {\"date\": \"2020-10-14T00:00:00\", \"totalTestResultsIncrease\": 1041875.0, \"positiveIncrease\": 56722.0, \"death\": 208389.0, \"deathIncrease\": 811.0, \"positiveRate\": 0.054, \"state\": \"US\", \"sma7d\": 52104.286}, {\"date\": \"2020-10-15T00:00:00\", \"totalTestResultsIncrease\": 1102521.0, \"positiveIncrease\": 63102.0, \"death\": 209340.0, \"deathIncrease\": 951.0, \"positiveRate\": 0.057, \"state\": \"US\", \"sma7d\": 53220.0}, {\"date\": \"2020-10-16T00:00:00\", \"totalTestResultsIncrease\": 1230175.0, \"positiveIncrease\": 68040.0, \"death\": 210217.0, \"deathIncrease\": 877.0, \"positiveRate\": 0.055, \"state\": \"US\", \"sma7d\": 54796.429}, {\"date\": \"2020-10-17T00:00:00\", \"totalTestResultsIncrease\": 1295395.0, \"positiveIncrease\": 57867.0, \"death\": 210997.0, \"deathIncrease\": 780.0, \"positiveRate\": 0.045, \"state\": \"US\", \"sma7d\": 54850.0}, {\"date\": \"2020-10-18T00:00:00\", \"totalTestResultsIncrease\": 1056058.0, \"positiveIncrease\": 48857.0, \"death\": 211390.0, \"deathIncrease\": 393.0, \"positiveRate\": 0.046, \"state\": \"US\", \"sma7d\": 55145.286}, {\"date\": \"2020-10-19T00:00:00\", \"totalTestResultsIncrease\": 1131120.0, \"positiveIncrease\": 57132.0, \"death\": 211846.0, \"deathIncrease\": 456.0, \"positiveRate\": 0.051, \"state\": \"US\", \"sma7d\": 57148.429}, {\"date\": \"2020-10-20T00:00:00\", \"totalTestResultsIncrease\": 948939.0, \"positiveIncrease\": 60558.0, \"death\": 212678.0, \"deathIncrease\": 832.0, \"positiveRate\": 0.064, \"state\": \"US\", \"sma7d\": 58896.857}, {\"date\": \"2020-10-21T00:00:00\", \"totalTestResultsIncrease\": 939590.0, \"positiveIncrease\": 60712.0, \"death\": 213702.0, \"deathIncrease\": 1024.0, \"positiveRate\": 0.065, \"state\": \"US\", \"sma7d\": 59466.857}, {\"date\": \"2020-10-22T00:00:00\", \"totalTestResultsIncrease\": 1218678.0, \"positiveIncrease\": 73007.0, \"death\": 214845.0, \"deathIncrease\": 1143.0, \"positiveRate\": 0.06, \"state\": \"US\", \"sma7d\": 60881.857}, {\"date\": \"2020-10-23T00:00:00\", \"totalTestResultsIncrease\": 1379369.0, \"positiveIncrease\": 83057.0, \"death\": 215762.0, \"deathIncrease\": 917.0, \"positiveRate\": 0.06, \"state\": \"US\", \"sma7d\": 63027.143}, {\"date\": \"2020-10-24T00:00:00\", \"totalTestResultsIncrease\": 1321514.0, \"positiveIncrease\": 82925.0, \"death\": 216652.0, \"deathIncrease\": 890.0, \"positiveRate\": 0.063, \"state\": \"US\", \"sma7d\": 66606.857}, {\"date\": \"2020-10-25T00:00:00\", \"totalTestResultsIncrease\": 1192007.0, \"positiveIncrease\": 65650.0, \"death\": 217029.0, \"deathIncrease\": 377.0, \"positiveRate\": 0.055, \"state\": \"US\", \"sma7d\": 69005.857}, {\"date\": \"2020-10-26T00:00:00\", \"totalTestResultsIncrease\": 1201499.0, \"positiveIncrease\": 62274.0, \"death\": 217418.0, \"deathIncrease\": 389.0, \"positiveRate\": 0.052, \"state\": \"US\", \"sma7d\": 69740.429}, {\"date\": \"2020-10-27T00:00:00\", \"totalTestResultsIncrease\": 1080760.0, \"positiveIncrease\": 73096.0, \"death\": 218349.0, \"deathIncrease\": 931.0, \"positiveRate\": 0.068, \"state\": \"US\", \"sma7d\": 71531.571}, {\"date\": \"2020-10-28T00:00:00\", \"totalTestResultsIncrease\": 1085647.0, \"positiveIncrease\": 78661.0, \"death\": 219374.0, \"deathIncrease\": 1025.0, \"positiveRate\": 0.072, \"state\": \"US\", \"sma7d\": 74095.714}, {\"date\": \"2020-10-29T00:00:00\", \"totalTestResultsIncrease\": 1321435.0, \"positiveIncrease\": 88085.0, \"death\": 220346.0, \"deathIncrease\": 1043.0, \"positiveRate\": 0.067, \"state\": \"US\", \"sma7d\": 76249.714}]}}, {\"mode\": \"vega-lite\"});\n",
       "</script>"
      ],
      "text/plain": [
       "alt.LayerChart(...)"
      ]
     },
     "execution_count": 7,
     "metadata": {},
     "output_type": "execute_result"
    }
   ],
   "source": [
    "create_plot(us, 'positiveIncrease')"
   ]
  },
  {
   "cell_type": "code",
   "execution_count": 8,
   "metadata": {
    "execution": {
     "iopub.execute_input": "2020-10-30T22:33:44.730431Z",
     "iopub.status.busy": "2020-10-30T22:33:44.683555Z",
     "iopub.status.idle": "2020-10-30T22:33:44.749743Z",
     "shell.execute_reply": "2020-10-30T22:33:44.749323Z"
    },
    "papermill": {
     "duration": 0.101835,
     "end_time": "2020-10-30T22:33:44.749862",
     "exception": false,
     "start_time": "2020-10-30T22:33:44.648027",
     "status": "completed"
    },
    "tags": []
   },
   "outputs": [
    {
     "data": {
      "text/html": [
       "\n",
       "<div id=\"altair-viz-6a11eef7e5bf4bbfa010910854e3bf17\"></div>\n",
       "<script type=\"text/javascript\">\n",
       "  (function(spec, embedOpt){\n",
       "    let outputDiv = document.currentScript.previousElementSibling;\n",
       "    if (outputDiv.id !== \"altair-viz-6a11eef7e5bf4bbfa010910854e3bf17\") {\n",
       "      outputDiv = document.getElementById(\"altair-viz-6a11eef7e5bf4bbfa010910854e3bf17\");\n",
       "    }\n",
       "    const paths = {\n",
       "      \"vega\": \"https://cdn.jsdelivr.net/npm//vega@5?noext\",\n",
       "      \"vega-lib\": \"https://cdn.jsdelivr.net/npm//vega-lib?noext\",\n",
       "      \"vega-lite\": \"https://cdn.jsdelivr.net/npm//vega-lite@4.8.1?noext\",\n",
       "      \"vega-embed\": \"https://cdn.jsdelivr.net/npm//vega-embed@6?noext\",\n",
       "    };\n",
       "\n",
       "    function loadScript(lib) {\n",
       "      return new Promise(function(resolve, reject) {\n",
       "        var s = document.createElement('script');\n",
       "        s.src = paths[lib];\n",
       "        s.async = true;\n",
       "        s.onload = () => resolve(paths[lib]);\n",
       "        s.onerror = () => reject(`Error loading script: ${paths[lib]}`);\n",
       "        document.getElementsByTagName(\"head\")[0].appendChild(s);\n",
       "      });\n",
       "    }\n",
       "\n",
       "    function showError(err) {\n",
       "      outputDiv.innerHTML = `<div class=\"error\" style=\"color:red;\">${err}</div>`;\n",
       "      throw err;\n",
       "    }\n",
       "\n",
       "    function displayChart(vegaEmbed) {\n",
       "      vegaEmbed(outputDiv, spec, embedOpt)\n",
       "        .catch(err => showError(`Javascript Error: ${err.message}<br>This usually means there's a typo in your chart specification. See the javascript console for the full traceback.`));\n",
       "    }\n",
       "\n",
       "    if(typeof define === \"function\" && define.amd) {\n",
       "      requirejs.config({paths});\n",
       "      require([\"vega-embed\"], displayChart, err => showError(`Error loading script: ${err.message}`));\n",
       "    } else if (typeof vegaEmbed === \"function\") {\n",
       "      displayChart(vegaEmbed);\n",
       "    } else {\n",
       "      loadScript(\"vega\")\n",
       "        .then(() => loadScript(\"vega-lite\"))\n",
       "        .then(() => loadScript(\"vega-embed\"))\n",
       "        .catch(showError)\n",
       "        .then(() => displayChart(vegaEmbed));\n",
       "    }\n",
       "  })({\"config\": {\"view\": {\"continuousWidth\": 400, \"continuousHeight\": 300}}, \"layer\": [{\"layer\": [{\"mark\": {\"type\": \"point\", \"size\": 75}, \"encoding\": {\"tooltip\": [{\"type\": \"temporal\", \"field\": \"date\"}, {\"type\": \"quantitative\", \"field\": \"positiveRate\"}, {\"type\": \"quantitative\", \"field\": \"sma7d\"}], \"x\": {\"type\": \"temporal\", \"field\": \"date\"}, \"y\": {\"type\": \"quantitative\", \"field\": \"positiveRate\"}}, \"selection\": {\"selector004\": {\"type\": \"interval\", \"bind\": \"scales\", \"encodings\": [\"x\", \"y\"]}}}, {\"mark\": {\"type\": \"line\", \"color\": \"purple\"}, \"encoding\": {\"x\": {\"type\": \"temporal\", \"field\": \"date\"}, \"y\": {\"type\": \"quantitative\", \"field\": \"sma7d\"}}}]}, {\"mark\": {\"type\": \"rule\", \"color\": \"#aaa\"}, \"encoding\": {\"x\": {\"type\": \"temporal\", \"field\": \"date\"}}, \"transform\": [{\"filter\": {\"selection\": \"selector003\"}}]}, {\"mark\": \"circle\", \"encoding\": {\"opacity\": {\"condition\": {\"value\": 1, \"selection\": \"selector003\"}, \"value\": 0}, \"tooltip\": [{\"type\": \"temporal\", \"field\": \"date\"}, {\"type\": \"quantitative\", \"field\": \"positiveRate\"}, {\"type\": \"quantitative\", \"field\": \"sma7d\"}], \"x\": {\"type\": \"temporal\", \"field\": \"date\"}, \"y\": {\"type\": \"quantitative\", \"field\": \"positiveRate\"}}, \"selection\": {\"selector003\": {\"type\": \"single\", \"encodings\": [\"x\"], \"on\": \"mouseover\", \"nearest\": true, \"empty\": \"none\"}}}, {\"mark\": {\"type\": \"text\", \"align\": \"left\", \"dx\": 5, \"dy\": -5, \"stroke\": \"white\", \"strokeWidth\": 2}, \"encoding\": {\"text\": {\"type\": \"quantitative\", \"field\": \"positiveRate\"}, \"tooltip\": [{\"type\": \"temporal\", \"field\": \"date\"}, {\"type\": \"quantitative\", \"field\": \"positiveRate\"}, {\"type\": \"quantitative\", \"field\": \"sma7d\"}], \"x\": {\"type\": \"temporal\", \"field\": \"date\"}, \"y\": {\"type\": \"quantitative\", \"field\": \"positiveRate\"}}, \"transform\": [{\"filter\": {\"selection\": \"selector003\"}}]}, {\"mark\": {\"type\": \"text\", \"align\": \"left\", \"dx\": 5, \"dy\": -5}, \"encoding\": {\"text\": {\"type\": \"quantitative\", \"field\": \"positiveRate\"}, \"tooltip\": [{\"type\": \"temporal\", \"field\": \"date\"}, {\"type\": \"quantitative\", \"field\": \"positiveRate\"}, {\"type\": \"quantitative\", \"field\": \"sma7d\"}], \"x\": {\"type\": \"temporal\", \"field\": \"date\"}, \"y\": {\"type\": \"quantitative\", \"field\": \"positiveRate\"}}, \"transform\": [{\"filter\": {\"selection\": \"selector003\"}}]}], \"data\": {\"name\": \"data-c1c01b55eb282aa023d11989cb1b1001\"}, \"height\": 400, \"title\": \"US: positiveRate\", \"width\": 500, \"$schema\": \"https://vega.github.io/schema/vega-lite/v4.8.1.json\", \"datasets\": {\"data-c1c01b55eb282aa023d11989cb1b1001\": [{\"date\": \"2020-09-05T00:00:00\", \"totalTestResultsIncrease\": 966580.0, \"positiveIncrease\": 44842.0, \"death\": 180657.0, \"deathIncrease\": 918.0, \"positiveRate\": 0.046, \"state\": \"US\", \"sma7d\": 0.047}, {\"date\": \"2020-09-06T00:00:00\", \"totalTestResultsIncrease\": 831432.0, \"positiveIncrease\": 33066.0, \"death\": 181106.0, \"deathIncrease\": 449.0, \"positiveRate\": 0.04, \"state\": \"US\", \"sma7d\": 0.046}, {\"date\": \"2020-09-07T00:00:00\", \"totalTestResultsIncrease\": 662930.0, \"positiveIncrease\": 28656.0, \"death\": 181331.0, \"deathIncrease\": 225.0, \"positiveRate\": 0.043, \"state\": \"US\", \"sma7d\": 0.046}, {\"date\": \"2020-09-08T00:00:00\", \"totalTestResultsIncrease\": 582923.0, \"positiveIncrease\": 22197.0, \"death\": 181689.0, \"deathIncrease\": 358.0, \"positiveRate\": 0.038, \"state\": \"US\", \"sma7d\": 0.044}, {\"date\": \"2020-09-09T00:00:00\", \"totalTestResultsIncrease\": 703594.0, \"positiveIncrease\": 31064.0, \"death\": 182773.0, \"deathIncrease\": 1084.0, \"positiveRate\": 0.044, \"state\": \"US\", \"sma7d\": 0.045}, {\"date\": \"2020-09-10T00:00:00\", \"totalTestResultsIncrease\": 778715.0, \"positiveIncrease\": 37535.0, \"death\": 183943.0, \"deathIncrease\": 1170.0, \"positiveRate\": 0.048, \"state\": \"US\", \"sma7d\": 0.044}, {\"date\": \"2020-09-11T00:00:00\", \"totalTestResultsIncrease\": 919961.0, \"positiveIncrease\": 44881.0, \"death\": 184961.0, \"deathIncrease\": 1018.0, \"positiveRate\": 0.049, \"state\": \"US\", \"sma7d\": 0.044}, {\"date\": \"2020-09-12T00:00:00\", \"totalTestResultsIncrease\": 994281.0, \"positiveIncrease\": 42068.0, \"death\": 185771.0, \"deathIncrease\": 810.0, \"positiveRate\": 0.042, \"state\": \"US\", \"sma7d\": 0.043}, {\"date\": \"2020-09-13T00:00:00\", \"totalTestResultsIncrease\": 772567.0, \"positiveIncrease\": 34425.0, \"death\": 186161.0, \"deathIncrease\": 390.0, \"positiveRate\": 0.045, \"state\": \"US\", \"sma7d\": 0.044}, {\"date\": \"2020-09-14T00:00:00\", \"totalTestResultsIncrease\": 501210.0, \"positiveIncrease\": 33846.0, \"death\": 186565.0, \"deathIncrease\": 404.0, \"positiveRate\": 0.068, \"state\": \"US\", \"sma7d\": 0.048}, {\"date\": \"2020-09-15T00:00:00\", \"totalTestResultsIncrease\": 812801.0, \"positiveIncrease\": 35072.0, \"death\": 187596.0, \"deathIncrease\": 1031.0, \"positiveRate\": 0.043, \"state\": \"US\", \"sma7d\": 0.048}, {\"date\": \"2020-09-16T00:00:00\", \"totalTestResultsIncrease\": 826616.0, \"positiveIncrease\": 39954.0, \"death\": 188796.0, \"deathIncrease\": 1200.0, \"positiveRate\": 0.048, \"state\": \"US\", \"sma7d\": 0.049}, {\"date\": \"2020-09-17T00:00:00\", \"totalTestResultsIncrease\": 964294.0, \"positiveIncrease\": 43576.0, \"death\": 189659.0, \"deathIncrease\": 863.0, \"positiveRate\": 0.045, \"state\": \"US\", \"sma7d\": 0.049}, {\"date\": \"2020-09-18T00:00:00\", \"totalTestResultsIncrease\": 1093488.0, \"positiveIncrease\": 47459.0, \"death\": 190560.0, \"deathIncrease\": 901.0, \"positiveRate\": 0.043, \"state\": \"US\", \"sma7d\": 0.048}, {\"date\": \"2020-09-19T00:00:00\", \"totalTestResultsIncrease\": 1176868.0, \"positiveIncrease\": 45501.0, \"death\": 191300.0, \"deathIncrease\": 740.0, \"positiveRate\": 0.039, \"state\": \"US\", \"sma7d\": 0.047}, {\"date\": \"2020-09-20T00:00:00\", \"totalTestResultsIncrease\": 978970.0, \"positiveIncrease\": 36271.0, \"death\": 191627.0, \"deathIncrease\": 327.0, \"positiveRate\": 0.037, \"state\": \"US\", \"sma7d\": 0.046}, {\"date\": \"2020-09-21T00:00:00\", \"totalTestResultsIncrease\": 775434.0, \"positiveIncrease\": 39458.0, \"death\": 191914.0, \"deathIncrease\": 287.0, \"positiveRate\": 0.051, \"state\": \"US\", \"sma7d\": 0.044}, {\"date\": \"2020-09-22T00:00:00\", \"totalTestResultsIncrease\": 850838.0, \"positiveIncrease\": 49383.0, \"death\": 192768.0, \"deathIncrease\": 854.0, \"positiveRate\": 0.058, \"state\": \"US\", \"sma7d\": 0.046}, {\"date\": \"2020-09-23T00:00:00\", \"totalTestResultsIncrease\": 1010380.0, \"positiveIncrease\": 38571.0, \"death\": 193927.0, \"deathIncrease\": 1159.0, \"positiveRate\": 0.038, \"state\": \"US\", \"sma7d\": 0.044}, {\"date\": \"2020-09-24T00:00:00\", \"totalTestResultsIncrease\": 1038007.0, \"positiveIncrease\": 43708.0, \"death\": 194848.0, \"deathIncrease\": 921.0, \"positiveRate\": 0.042, \"state\": \"US\", \"sma7d\": 0.044}, {\"date\": \"2020-09-25T00:00:00\", \"totalTestResultsIncrease\": 1112802.0, \"positiveIncrease\": 55488.0, \"death\": 195692.0, \"deathIncrease\": 844.0, \"positiveRate\": 0.05, \"state\": \"US\", \"sma7d\": 0.045}, {\"date\": \"2020-09-26T00:00:00\", \"totalTestResultsIncrease\": 1123396.0, \"positiveIncrease\": 47792.0, \"death\": 196561.0, \"deathIncrease\": 869.0, \"positiveRate\": 0.043, \"state\": \"US\", \"sma7d\": 0.046}, {\"date\": \"2020-09-27T00:00:00\", \"totalTestResultsIncrease\": 905936.0, \"positiveIncrease\": 35419.0, \"death\": 196868.0, \"deathIncrease\": 307.0, \"positiveRate\": 0.039, \"state\": \"US\", \"sma7d\": 0.046}, {\"date\": \"2020-09-28T00:00:00\", \"totalTestResultsIncrease\": 1164669.0, \"positiveIncrease\": 36514.0, \"death\": 197125.0, \"deathIncrease\": 257.0, \"positiveRate\": 0.031, \"state\": \"US\", \"sma7d\": 0.043}, {\"date\": \"2020-09-29T00:00:00\", \"totalTestResultsIncrease\": 914663.0, \"positiveIncrease\": 36890.0, \"death\": 197864.0, \"deathIncrease\": 739.0, \"positiveRate\": 0.04, \"state\": \"US\", \"sma7d\": 0.04}, {\"date\": \"2020-09-30T00:00:00\", \"totalTestResultsIncrease\": 904471.0, \"positiveIncrease\": 44356.0, \"death\": 198925.0, \"deathIncrease\": 1061.0, \"positiveRate\": 0.049, \"state\": \"US\", \"sma7d\": 0.042}, {\"date\": \"2020-10-01T00:00:00\", \"totalTestResultsIncrease\": 998308.0, \"positiveIncrease\": 45617.0, \"death\": 199776.0, \"deathIncrease\": 851.0, \"positiveRate\": 0.046, \"state\": \"US\", \"sma7d\": 0.043}, {\"date\": \"2020-10-02T00:00:00\", \"totalTestResultsIncrease\": 1242006.0, \"positiveIncrease\": 49484.0, \"death\": 200611.0, \"deathIncrease\": 835.0, \"positiveRate\": 0.04, \"state\": \"US\", \"sma7d\": 0.041}, {\"date\": \"2020-10-03T00:00:00\", \"totalTestResultsIncrease\": 1100307.0, \"positiveIncrease\": 51338.0, \"death\": 201352.0, \"deathIncrease\": 741.0, \"positiveRate\": 0.047, \"state\": \"US\", \"sma7d\": 0.042}, {\"date\": \"2020-10-04T00:00:00\", \"totalTestResultsIncrease\": 1029019.0, \"positiveIncrease\": 38357.0, \"death\": 201715.0, \"deathIncrease\": 363.0, \"positiveRate\": 0.037, \"state\": \"US\", \"sma7d\": 0.041}, {\"date\": \"2020-10-05T00:00:00\", \"totalTestResultsIncrease\": 990801.0, \"positiveIncrease\": 38124.0, \"death\": 202041.0, \"deathIncrease\": 326.0, \"positiveRate\": 0.038, \"state\": \"US\", \"sma7d\": 0.042}, {\"date\": \"2020-10-06T00:00:00\", \"totalTestResultsIncrease\": 907220.0, \"positiveIncrease\": 38611.0, \"death\": 202675.0, \"deathIncrease\": 634.0, \"positiveRate\": 0.043, \"state\": \"US\", \"sma7d\": 0.043}, {\"date\": \"2020-10-07T00:00:00\", \"totalTestResultsIncrease\": 973499.0, \"positiveIncrease\": 50564.0, \"death\": 203591.0, \"deathIncrease\": 916.0, \"positiveRate\": 0.052, \"state\": \"US\", \"sma7d\": 0.043}, {\"date\": \"2020-10-08T00:00:00\", \"totalTestResultsIncrease\": 1149639.0, \"positiveIncrease\": 55292.0, \"death\": 204577.0, \"deathIncrease\": 986.0, \"positiveRate\": 0.048, \"state\": \"US\", \"sma7d\": 0.044}, {\"date\": \"2020-10-09T00:00:00\", \"totalTestResultsIncrease\": 1201113.0, \"positiveIncrease\": 57005.0, \"death\": 205470.0, \"deathIncrease\": 893.0, \"positiveRate\": 0.047, \"state\": \"US\", \"sma7d\": 0.045}, {\"date\": \"2020-10-10T00:00:00\", \"totalTestResultsIncrease\": 1247474.0, \"positiveIncrease\": 57492.0, \"death\": 206135.0, \"deathIncrease\": 665.0, \"positiveRate\": 0.046, \"state\": \"US\", \"sma7d\": 0.044}, {\"date\": \"2020-10-11T00:00:00\", \"totalTestResultsIncrease\": 1083329.0, \"positiveIncrease\": 46790.0, \"death\": 206601.0, \"deathIncrease\": 466.0, \"positiveRate\": 0.043, \"state\": \"US\", \"sma7d\": 0.045}, {\"date\": \"2020-10-12T00:00:00\", \"totalTestResultsIncrease\": 1064319.0, \"positiveIncrease\": 43110.0, \"death\": 206888.0, \"deathIncrease\": 287.0, \"positiveRate\": 0.041, \"state\": \"US\", \"sma7d\": 0.046}, {\"date\": \"2020-10-13T00:00:00\", \"totalTestResultsIncrease\": 1040995.0, \"positiveIncrease\": 48319.0, \"death\": 207578.0, \"deathIncrease\": 690.0, \"positiveRate\": 0.046, \"state\": \"US\", \"sma7d\": 0.046}, {\"date\": \"2020-10-14T00:00:00\", \"totalTestResultsIncrease\": 1041875.0, \"positiveIncrease\": 56722.0, \"death\": 208389.0, \"deathIncrease\": 811.0, \"positiveRate\": 0.054, \"state\": \"US\", \"sma7d\": 0.046}, {\"date\": \"2020-10-15T00:00:00\", \"totalTestResultsIncrease\": 1102521.0, \"positiveIncrease\": 63102.0, \"death\": 209340.0, \"deathIncrease\": 951.0, \"positiveRate\": 0.057, \"state\": \"US\", \"sma7d\": 0.048}, {\"date\": \"2020-10-16T00:00:00\", \"totalTestResultsIncrease\": 1230175.0, \"positiveIncrease\": 68040.0, \"death\": 210217.0, \"deathIncrease\": 877.0, \"positiveRate\": 0.055, \"state\": \"US\", \"sma7d\": 0.049}, {\"date\": \"2020-10-17T00:00:00\", \"totalTestResultsIncrease\": 1295395.0, \"positiveIncrease\": 57867.0, \"death\": 210997.0, \"deathIncrease\": 780.0, \"positiveRate\": 0.045, \"state\": \"US\", \"sma7d\": 0.049}, {\"date\": \"2020-10-18T00:00:00\", \"totalTestResultsIncrease\": 1056058.0, \"positiveIncrease\": 48857.0, \"death\": 211390.0, \"deathIncrease\": 393.0, \"positiveRate\": 0.046, \"state\": \"US\", \"sma7d\": 0.049}, {\"date\": \"2020-10-19T00:00:00\", \"totalTestResultsIncrease\": 1131120.0, \"positiveIncrease\": 57132.0, \"death\": 211846.0, \"deathIncrease\": 456.0, \"positiveRate\": 0.051, \"state\": \"US\", \"sma7d\": 0.051}, {\"date\": \"2020-10-20T00:00:00\", \"totalTestResultsIncrease\": 948939.0, \"positiveIncrease\": 60558.0, \"death\": 212678.0, \"deathIncrease\": 832.0, \"positiveRate\": 0.064, \"state\": \"US\", \"sma7d\": 0.053}, {\"date\": \"2020-10-21T00:00:00\", \"totalTestResultsIncrease\": 939590.0, \"positiveIncrease\": 60712.0, \"death\": 213702.0, \"deathIncrease\": 1024.0, \"positiveRate\": 0.065, \"state\": \"US\", \"sma7d\": 0.055}, {\"date\": \"2020-10-22T00:00:00\", \"totalTestResultsIncrease\": 1218678.0, \"positiveIncrease\": 73007.0, \"death\": 214845.0, \"deathIncrease\": 1143.0, \"positiveRate\": 0.06, \"state\": \"US\", \"sma7d\": 0.055}, {\"date\": \"2020-10-23T00:00:00\", \"totalTestResultsIncrease\": 1379369.0, \"positiveIncrease\": 83057.0, \"death\": 215762.0, \"deathIncrease\": 917.0, \"positiveRate\": 0.06, \"state\": \"US\", \"sma7d\": 0.056}, {\"date\": \"2020-10-24T00:00:00\", \"totalTestResultsIncrease\": 1321514.0, \"positiveIncrease\": 82925.0, \"death\": 216652.0, \"deathIncrease\": 890.0, \"positiveRate\": 0.063, \"state\": \"US\", \"sma7d\": 0.058}, {\"date\": \"2020-10-25T00:00:00\", \"totalTestResultsIncrease\": 1192007.0, \"positiveIncrease\": 65650.0, \"death\": 217029.0, \"deathIncrease\": 377.0, \"positiveRate\": 0.055, \"state\": \"US\", \"sma7d\": 0.06}, {\"date\": \"2020-10-26T00:00:00\", \"totalTestResultsIncrease\": 1201499.0, \"positiveIncrease\": 62274.0, \"death\": 217418.0, \"deathIncrease\": 389.0, \"positiveRate\": 0.052, \"state\": \"US\", \"sma7d\": 0.06}, {\"date\": \"2020-10-27T00:00:00\", \"totalTestResultsIncrease\": 1080760.0, \"positiveIncrease\": 73096.0, \"death\": 218349.0, \"deathIncrease\": 931.0, \"positiveRate\": 0.068, \"state\": \"US\", \"sma7d\": 0.06}, {\"date\": \"2020-10-28T00:00:00\", \"totalTestResultsIncrease\": 1085647.0, \"positiveIncrease\": 78661.0, \"death\": 219374.0, \"deathIncrease\": 1025.0, \"positiveRate\": 0.072, \"state\": \"US\", \"sma7d\": 0.061}, {\"date\": \"2020-10-29T00:00:00\", \"totalTestResultsIncrease\": 1321435.0, \"positiveIncrease\": 88085.0, \"death\": 220346.0, \"deathIncrease\": 1043.0, \"positiveRate\": 0.067, \"state\": \"US\", \"sma7d\": 0.062}]}}, {\"mode\": \"vega-lite\"});\n",
       "</script>"
      ],
      "text/plain": [
       "alt.LayerChart(...)"
      ]
     },
     "execution_count": 8,
     "metadata": {},
     "output_type": "execute_result"
    }
   ],
   "source": [
    "create_plot(us, 'positiveRate')"
   ]
  },
  {
   "cell_type": "code",
   "execution_count": 9,
   "metadata": {
    "execution": {
     "iopub.execute_input": "2020-10-30T22:33:44.782474Z",
     "iopub.status.busy": "2020-10-30T22:33:44.781945Z",
     "iopub.status.idle": "2020-10-30T22:33:44.873960Z",
     "shell.execute_reply": "2020-10-30T22:33:44.873499Z"
    },
    "papermill": {
     "duration": 0.110085,
     "end_time": "2020-10-30T22:33:44.874094",
     "exception": false,
     "start_time": "2020-10-30T22:33:44.764009",
     "status": "completed"
    },
    "tags": []
   },
   "outputs": [
    {
     "data": {
      "text/html": [
       "\n",
       "<div id=\"altair-viz-39dd899326f24bff98f254973c5bf246\"></div>\n",
       "<script type=\"text/javascript\">\n",
       "  (function(spec, embedOpt){\n",
       "    let outputDiv = document.currentScript.previousElementSibling;\n",
       "    if (outputDiv.id !== \"altair-viz-39dd899326f24bff98f254973c5bf246\") {\n",
       "      outputDiv = document.getElementById(\"altair-viz-39dd899326f24bff98f254973c5bf246\");\n",
       "    }\n",
       "    const paths = {\n",
       "      \"vega\": \"https://cdn.jsdelivr.net/npm//vega@5?noext\",\n",
       "      \"vega-lib\": \"https://cdn.jsdelivr.net/npm//vega-lib?noext\",\n",
       "      \"vega-lite\": \"https://cdn.jsdelivr.net/npm//vega-lite@4.8.1?noext\",\n",
       "      \"vega-embed\": \"https://cdn.jsdelivr.net/npm//vega-embed@6?noext\",\n",
       "    };\n",
       "\n",
       "    function loadScript(lib) {\n",
       "      return new Promise(function(resolve, reject) {\n",
       "        var s = document.createElement('script');\n",
       "        s.src = paths[lib];\n",
       "        s.async = true;\n",
       "        s.onload = () => resolve(paths[lib]);\n",
       "        s.onerror = () => reject(`Error loading script: ${paths[lib]}`);\n",
       "        document.getElementsByTagName(\"head\")[0].appendChild(s);\n",
       "      });\n",
       "    }\n",
       "\n",
       "    function showError(err) {\n",
       "      outputDiv.innerHTML = `<div class=\"error\" style=\"color:red;\">${err}</div>`;\n",
       "      throw err;\n",
       "    }\n",
       "\n",
       "    function displayChart(vegaEmbed) {\n",
       "      vegaEmbed(outputDiv, spec, embedOpt)\n",
       "        .catch(err => showError(`Javascript Error: ${err.message}<br>This usually means there's a typo in your chart specification. See the javascript console for the full traceback.`));\n",
       "    }\n",
       "\n",
       "    if(typeof define === \"function\" && define.amd) {\n",
       "      requirejs.config({paths});\n",
       "      require([\"vega-embed\"], displayChart, err => showError(`Error loading script: ${err.message}`));\n",
       "    } else if (typeof vegaEmbed === \"function\") {\n",
       "      displayChart(vegaEmbed);\n",
       "    } else {\n",
       "      loadScript(\"vega\")\n",
       "        .then(() => loadScript(\"vega-lite\"))\n",
       "        .then(() => loadScript(\"vega-embed\"))\n",
       "        .catch(showError)\n",
       "        .then(() => displayChart(vegaEmbed));\n",
       "    }\n",
       "  })({\"config\": {\"view\": {\"continuousWidth\": 400, \"continuousHeight\": 300}}, \"layer\": [{\"layer\": [{\"mark\": {\"type\": \"point\", \"size\": 75}, \"encoding\": {\"tooltip\": [{\"type\": \"temporal\", \"field\": \"date\"}, {\"type\": \"quantitative\", \"field\": \"deathIncrease\"}, {\"type\": \"quantitative\", \"field\": \"sma7d\"}], \"x\": {\"type\": \"temporal\", \"field\": \"date\"}, \"y\": {\"type\": \"quantitative\", \"field\": \"deathIncrease\"}}, \"selection\": {\"selector006\": {\"type\": \"interval\", \"bind\": \"scales\", \"encodings\": [\"x\", \"y\"]}}}, {\"mark\": {\"type\": \"line\", \"color\": \"purple\"}, \"encoding\": {\"x\": {\"type\": \"temporal\", \"field\": \"date\"}, \"y\": {\"type\": \"quantitative\", \"field\": \"sma7d\"}}}]}, {\"mark\": {\"type\": \"rule\", \"color\": \"#aaa\"}, \"encoding\": {\"x\": {\"type\": \"temporal\", \"field\": \"date\"}}, \"transform\": [{\"filter\": {\"selection\": \"selector005\"}}]}, {\"mark\": \"circle\", \"encoding\": {\"opacity\": {\"condition\": {\"value\": 1, \"selection\": \"selector005\"}, \"value\": 0}, \"tooltip\": [{\"type\": \"temporal\", \"field\": \"date\"}, {\"type\": \"quantitative\", \"field\": \"deathIncrease\"}, {\"type\": \"quantitative\", \"field\": \"sma7d\"}], \"x\": {\"type\": \"temporal\", \"field\": \"date\"}, \"y\": {\"type\": \"quantitative\", \"field\": \"deathIncrease\"}}, \"selection\": {\"selector005\": {\"type\": \"single\", \"encodings\": [\"x\"], \"on\": \"mouseover\", \"nearest\": true, \"empty\": \"none\"}}}, {\"mark\": {\"type\": \"text\", \"align\": \"left\", \"dx\": 5, \"dy\": -5, \"stroke\": \"white\", \"strokeWidth\": 2}, \"encoding\": {\"text\": {\"type\": \"quantitative\", \"field\": \"deathIncrease\"}, \"tooltip\": [{\"type\": \"temporal\", \"field\": \"date\"}, {\"type\": \"quantitative\", \"field\": \"deathIncrease\"}, {\"type\": \"quantitative\", \"field\": \"sma7d\"}], \"x\": {\"type\": \"temporal\", \"field\": \"date\"}, \"y\": {\"type\": \"quantitative\", \"field\": \"deathIncrease\"}}, \"transform\": [{\"filter\": {\"selection\": \"selector005\"}}]}, {\"mark\": {\"type\": \"text\", \"align\": \"left\", \"dx\": 5, \"dy\": -5}, \"encoding\": {\"text\": {\"type\": \"quantitative\", \"field\": \"deathIncrease\"}, \"tooltip\": [{\"type\": \"temporal\", \"field\": \"date\"}, {\"type\": \"quantitative\", \"field\": \"deathIncrease\"}, {\"type\": \"quantitative\", \"field\": \"sma7d\"}], \"x\": {\"type\": \"temporal\", \"field\": \"date\"}, \"y\": {\"type\": \"quantitative\", \"field\": \"deathIncrease\"}}, \"transform\": [{\"filter\": {\"selection\": \"selector005\"}}]}], \"data\": {\"name\": \"data-90de7f9206bf3401801cf63da0eeaa8a\"}, \"height\": 400, \"title\": \"US: deathIncrease\", \"width\": 500, \"$schema\": \"https://vega.github.io/schema/vega-lite/v4.8.1.json\", \"datasets\": {\"data-90de7f9206bf3401801cf63da0eeaa8a\": [{\"date\": \"2020-09-05T00:00:00\", \"totalTestResultsIncrease\": 966580.0, \"positiveIncrease\": 44842.0, \"death\": 180657.0, \"deathIncrease\": 918.0, \"positiveRate\": 0.046, \"state\": \"US\", \"sma7d\": 840.857}, {\"date\": \"2020-09-06T00:00:00\", \"totalTestResultsIncrease\": 831432.0, \"positiveIncrease\": 33066.0, \"death\": 181106.0, \"deathIncrease\": 449.0, \"positiveRate\": 0.04, \"state\": \"US\", \"sma7d\": 837.143}, {\"date\": \"2020-09-07T00:00:00\", \"totalTestResultsIncrease\": 662930.0, \"positiveIncrease\": 28656.0, \"death\": 181331.0, \"deathIncrease\": 225.0, \"positiveRate\": 0.043, \"state\": \"US\", \"sma7d\": 817.0}, {\"date\": \"2020-09-08T00:00:00\", \"totalTestResultsIncrease\": 582923.0, \"positiveIncrease\": 22197.0, \"death\": 181689.0, \"deathIncrease\": 358.0, \"positiveRate\": 0.038, \"state\": \"US\", \"sma7d\": 721.429}, {\"date\": \"2020-09-09T00:00:00\", \"totalTestResultsIncrease\": 703594.0, \"positiveIncrease\": 31064.0, \"death\": 182773.0, \"deathIncrease\": 1084.0, \"positiveRate\": 0.044, \"state\": \"US\", \"sma7d\": 728.857}, {\"date\": \"2020-09-10T00:00:00\", \"totalTestResultsIncrease\": 778715.0, \"positiveIncrease\": 37535.0, \"death\": 183943.0, \"deathIncrease\": 1170.0, \"positiveRate\": 0.048, \"state\": \"US\", \"sma7d\": 743.143}, {\"date\": \"2020-09-11T00:00:00\", \"totalTestResultsIncrease\": 919961.0, \"positiveIncrease\": 44881.0, \"death\": 184961.0, \"deathIncrease\": 1018.0, \"positiveRate\": 0.049, \"state\": \"US\", \"sma7d\": 746.0}, {\"date\": \"2020-09-12T00:00:00\", \"totalTestResultsIncrease\": 994281.0, \"positiveIncrease\": 42068.0, \"death\": 185771.0, \"deathIncrease\": 810.0, \"positiveRate\": 0.042, \"state\": \"US\", \"sma7d\": 730.571}, {\"date\": \"2020-09-13T00:00:00\", \"totalTestResultsIncrease\": 772567.0, \"positiveIncrease\": 34425.0, \"death\": 186161.0, \"deathIncrease\": 390.0, \"positiveRate\": 0.045, \"state\": \"US\", \"sma7d\": 722.143}, {\"date\": \"2020-09-14T00:00:00\", \"totalTestResultsIncrease\": 501210.0, \"positiveIncrease\": 33846.0, \"death\": 186565.0, \"deathIncrease\": 404.0, \"positiveRate\": 0.068, \"state\": \"US\", \"sma7d\": 747.714}, {\"date\": \"2020-09-15T00:00:00\", \"totalTestResultsIncrease\": 812801.0, \"positiveIncrease\": 35072.0, \"death\": 187596.0, \"deathIncrease\": 1031.0, \"positiveRate\": 0.043, \"state\": \"US\", \"sma7d\": 843.857}, {\"date\": \"2020-09-16T00:00:00\", \"totalTestResultsIncrease\": 826616.0, \"positiveIncrease\": 39954.0, \"death\": 188796.0, \"deathIncrease\": 1200.0, \"positiveRate\": 0.048, \"state\": \"US\", \"sma7d\": 860.429}, {\"date\": \"2020-09-17T00:00:00\", \"totalTestResultsIncrease\": 964294.0, \"positiveIncrease\": 43576.0, \"death\": 189659.0, \"deathIncrease\": 863.0, \"positiveRate\": 0.045, \"state\": \"US\", \"sma7d\": 816.571}, {\"date\": \"2020-09-18T00:00:00\", \"totalTestResultsIncrease\": 1093488.0, \"positiveIncrease\": 47459.0, \"death\": 190560.0, \"deathIncrease\": 901.0, \"positiveRate\": 0.043, \"state\": \"US\", \"sma7d\": 799.857}, {\"date\": \"2020-09-19T00:00:00\", \"totalTestResultsIncrease\": 1176868.0, \"positiveIncrease\": 45501.0, \"death\": 191300.0, \"deathIncrease\": 740.0, \"positiveRate\": 0.039, \"state\": \"US\", \"sma7d\": 789.857}, {\"date\": \"2020-09-20T00:00:00\", \"totalTestResultsIncrease\": 978970.0, \"positiveIncrease\": 36271.0, \"death\": 191627.0, \"deathIncrease\": 327.0, \"positiveRate\": 0.037, \"state\": \"US\", \"sma7d\": 780.857}, {\"date\": \"2020-09-21T00:00:00\", \"totalTestResultsIncrease\": 775434.0, \"positiveIncrease\": 39458.0, \"death\": 191914.0, \"deathIncrease\": 287.0, \"positiveRate\": 0.051, \"state\": \"US\", \"sma7d\": 764.143}, {\"date\": \"2020-09-22T00:00:00\", \"totalTestResultsIncrease\": 850838.0, \"positiveIncrease\": 49383.0, \"death\": 192768.0, \"deathIncrease\": 854.0, \"positiveRate\": 0.058, \"state\": \"US\", \"sma7d\": 738.857}, {\"date\": \"2020-09-23T00:00:00\", \"totalTestResultsIncrease\": 1010380.0, \"positiveIncrease\": 38571.0, \"death\": 193927.0, \"deathIncrease\": 1159.0, \"positiveRate\": 0.038, \"state\": \"US\", \"sma7d\": 733.0}, {\"date\": \"2020-09-24T00:00:00\", \"totalTestResultsIncrease\": 1038007.0, \"positiveIncrease\": 43708.0, \"death\": 194848.0, \"deathIncrease\": 921.0, \"positiveRate\": 0.042, \"state\": \"US\", \"sma7d\": 741.286}, {\"date\": \"2020-09-25T00:00:00\", \"totalTestResultsIncrease\": 1112802.0, \"positiveIncrease\": 55488.0, \"death\": 195692.0, \"deathIncrease\": 844.0, \"positiveRate\": 0.05, \"state\": \"US\", \"sma7d\": 733.143}, {\"date\": \"2020-09-26T00:00:00\", \"totalTestResultsIncrease\": 1123396.0, \"positiveIncrease\": 47792.0, \"death\": 196561.0, \"deathIncrease\": 869.0, \"positiveRate\": 0.043, \"state\": \"US\", \"sma7d\": 751.571}, {\"date\": \"2020-09-27T00:00:00\", \"totalTestResultsIncrease\": 905936.0, \"positiveIncrease\": 35419.0, \"death\": 196868.0, \"deathIncrease\": 307.0, \"positiveRate\": 0.039, \"state\": \"US\", \"sma7d\": 748.714}, {\"date\": \"2020-09-28T00:00:00\", \"totalTestResultsIncrease\": 1164669.0, \"positiveIncrease\": 36514.0, \"death\": 197125.0, \"deathIncrease\": 257.0, \"positiveRate\": 0.031, \"state\": \"US\", \"sma7d\": 744.429}, {\"date\": \"2020-09-29T00:00:00\", \"totalTestResultsIncrease\": 914663.0, \"positiveIncrease\": 36890.0, \"death\": 197864.0, \"deathIncrease\": 739.0, \"positiveRate\": 0.04, \"state\": \"US\", \"sma7d\": 728.0}, {\"date\": \"2020-09-30T00:00:00\", \"totalTestResultsIncrease\": 904471.0, \"positiveIncrease\": 44356.0, \"death\": 198925.0, \"deathIncrease\": 1061.0, \"positiveRate\": 0.049, \"state\": \"US\", \"sma7d\": 714.0}, {\"date\": \"2020-10-01T00:00:00\", \"totalTestResultsIncrease\": 998308.0, \"positiveIncrease\": 45617.0, \"death\": 199776.0, \"deathIncrease\": 851.0, \"positiveRate\": 0.046, \"state\": \"US\", \"sma7d\": 704.0}, {\"date\": \"2020-10-02T00:00:00\", \"totalTestResultsIncrease\": 1242006.0, \"positiveIncrease\": 49484.0, \"death\": 200611.0, \"deathIncrease\": 835.0, \"positiveRate\": 0.04, \"state\": \"US\", \"sma7d\": 702.714}, {\"date\": \"2020-10-03T00:00:00\", \"totalTestResultsIncrease\": 1100307.0, \"positiveIncrease\": 51338.0, \"death\": 201352.0, \"deathIncrease\": 741.0, \"positiveRate\": 0.047, \"state\": \"US\", \"sma7d\": 684.429}, {\"date\": \"2020-10-04T00:00:00\", \"totalTestResultsIncrease\": 1029019.0, \"positiveIncrease\": 38357.0, \"death\": 201715.0, \"deathIncrease\": 363.0, \"positiveRate\": 0.037, \"state\": \"US\", \"sma7d\": 692.429}, {\"date\": \"2020-10-05T00:00:00\", \"totalTestResultsIncrease\": 990801.0, \"positiveIncrease\": 38124.0, \"death\": 202041.0, \"deathIncrease\": 326.0, \"positiveRate\": 0.038, \"state\": \"US\", \"sma7d\": 702.286}, {\"date\": \"2020-10-06T00:00:00\", \"totalTestResultsIncrease\": 907220.0, \"positiveIncrease\": 38611.0, \"death\": 202675.0, \"deathIncrease\": 634.0, \"positiveRate\": 0.043, \"state\": \"US\", \"sma7d\": 687.286}, {\"date\": \"2020-10-07T00:00:00\", \"totalTestResultsIncrease\": 973499.0, \"positiveIncrease\": 50564.0, \"death\": 203591.0, \"deathIncrease\": 916.0, \"positiveRate\": 0.052, \"state\": \"US\", \"sma7d\": 666.571}, {\"date\": \"2020-10-08T00:00:00\", \"totalTestResultsIncrease\": 1149639.0, \"positiveIncrease\": 55292.0, \"death\": 204577.0, \"deathIncrease\": 986.0, \"positiveRate\": 0.048, \"state\": \"US\", \"sma7d\": 685.857}, {\"date\": \"2020-10-09T00:00:00\", \"totalTestResultsIncrease\": 1201113.0, \"positiveIncrease\": 57005.0, \"death\": 205470.0, \"deathIncrease\": 893.0, \"positiveRate\": 0.047, \"state\": \"US\", \"sma7d\": 694.143}, {\"date\": \"2020-10-10T00:00:00\", \"totalTestResultsIncrease\": 1247474.0, \"positiveIncrease\": 57492.0, \"death\": 206135.0, \"deathIncrease\": 665.0, \"positiveRate\": 0.046, \"state\": \"US\", \"sma7d\": 683.286}, {\"date\": \"2020-10-11T00:00:00\", \"totalTestResultsIncrease\": 1083329.0, \"positiveIncrease\": 46790.0, \"death\": 206601.0, \"deathIncrease\": 466.0, \"positiveRate\": 0.043, \"state\": \"US\", \"sma7d\": 698.0}, {\"date\": \"2020-10-12T00:00:00\", \"totalTestResultsIncrease\": 1064319.0, \"positiveIncrease\": 43110.0, \"death\": 206888.0, \"deathIncrease\": 287.0, \"positiveRate\": 0.041, \"state\": \"US\", \"sma7d\": 692.429}, {\"date\": \"2020-10-13T00:00:00\", \"totalTestResultsIncrease\": 1040995.0, \"positiveIncrease\": 48319.0, \"death\": 207578.0, \"deathIncrease\": 690.0, \"positiveRate\": 0.046, \"state\": \"US\", \"sma7d\": 700.429}, {\"date\": \"2020-10-14T00:00:00\", \"totalTestResultsIncrease\": 1041875.0, \"positiveIncrease\": 56722.0, \"death\": 208389.0, \"deathIncrease\": 811.0, \"positiveRate\": 0.054, \"state\": \"US\", \"sma7d\": 685.429}, {\"date\": \"2020-10-15T00:00:00\", \"totalTestResultsIncrease\": 1102521.0, \"positiveIncrease\": 63102.0, \"death\": 209340.0, \"deathIncrease\": 951.0, \"positiveRate\": 0.057, \"state\": \"US\", \"sma7d\": 680.429}, {\"date\": \"2020-10-16T00:00:00\", \"totalTestResultsIncrease\": 1230175.0, \"positiveIncrease\": 68040.0, \"death\": 210217.0, \"deathIncrease\": 877.0, \"positiveRate\": 0.055, \"state\": \"US\", \"sma7d\": 678.143}, {\"date\": \"2020-10-17T00:00:00\", \"totalTestResultsIncrease\": 1295395.0, \"positiveIncrease\": 57867.0, \"death\": 210997.0, \"deathIncrease\": 780.0, \"positiveRate\": 0.045, \"state\": \"US\", \"sma7d\": 694.571}, {\"date\": \"2020-10-18T00:00:00\", \"totalTestResultsIncrease\": 1056058.0, \"positiveIncrease\": 48857.0, \"death\": 211390.0, \"deathIncrease\": 393.0, \"positiveRate\": 0.046, \"state\": \"US\", \"sma7d\": 684.143}, {\"date\": \"2020-10-19T00:00:00\", \"totalTestResultsIncrease\": 1131120.0, \"positiveIncrease\": 57132.0, \"death\": 211846.0, \"deathIncrease\": 456.0, \"positiveRate\": 0.051, \"state\": \"US\", \"sma7d\": 708.286}, {\"date\": \"2020-10-20T00:00:00\", \"totalTestResultsIncrease\": 948939.0, \"positiveIncrease\": 60558.0, \"death\": 212678.0, \"deathIncrease\": 832.0, \"positiveRate\": 0.064, \"state\": \"US\", \"sma7d\": 728.571}, {\"date\": \"2020-10-21T00:00:00\", \"totalTestResultsIncrease\": 939590.0, \"positiveIncrease\": 60712.0, \"death\": 213702.0, \"deathIncrease\": 1024.0, \"positiveRate\": 0.065, \"state\": \"US\", \"sma7d\": 759.0}, {\"date\": \"2020-10-22T00:00:00\", \"totalTestResultsIncrease\": 1218678.0, \"positiveIncrease\": 73007.0, \"death\": 214845.0, \"deathIncrease\": 1143.0, \"positiveRate\": 0.06, \"state\": \"US\", \"sma7d\": 786.429}, {\"date\": \"2020-10-23T00:00:00\", \"totalTestResultsIncrease\": 1379369.0, \"positiveIncrease\": 83057.0, \"death\": 215762.0, \"deathIncrease\": 917.0, \"positiveRate\": 0.06, \"state\": \"US\", \"sma7d\": 792.143}, {\"date\": \"2020-10-24T00:00:00\", \"totalTestResultsIncrease\": 1321514.0, \"positiveIncrease\": 82925.0, \"death\": 216652.0, \"deathIncrease\": 890.0, \"positiveRate\": 0.063, \"state\": \"US\", \"sma7d\": 807.857}, {\"date\": \"2020-10-25T00:00:00\", \"totalTestResultsIncrease\": 1192007.0, \"positiveIncrease\": 65650.0, \"death\": 217029.0, \"deathIncrease\": 377.0, \"positiveRate\": 0.055, \"state\": \"US\", \"sma7d\": 805.571}, {\"date\": \"2020-10-26T00:00:00\", \"totalTestResultsIncrease\": 1201499.0, \"positiveIncrease\": 62274.0, \"death\": 217418.0, \"deathIncrease\": 389.0, \"positiveRate\": 0.052, \"state\": \"US\", \"sma7d\": 796.0}, {\"date\": \"2020-10-27T00:00:00\", \"totalTestResultsIncrease\": 1080760.0, \"positiveIncrease\": 73096.0, \"death\": 218349.0, \"deathIncrease\": 931.0, \"positiveRate\": 0.068, \"state\": \"US\", \"sma7d\": 810.143}, {\"date\": \"2020-10-28T00:00:00\", \"totalTestResultsIncrease\": 1085647.0, \"positiveIncrease\": 78661.0, \"death\": 219374.0, \"deathIncrease\": 1025.0, \"positiveRate\": 0.072, \"state\": \"US\", \"sma7d\": 810.286}, {\"date\": \"2020-10-29T00:00:00\", \"totalTestResultsIncrease\": 1321435.0, \"positiveIncrease\": 88085.0, \"death\": 220346.0, \"deathIncrease\": 1043.0, \"positiveRate\": 0.067, \"state\": \"US\", \"sma7d\": 796.0}]}}, {\"mode\": \"vega-lite\"});\n",
       "</script>"
      ],
      "text/plain": [
       "alt.LayerChart(...)"
      ]
     },
     "execution_count": 9,
     "metadata": {},
     "output_type": "execute_result"
    }
   ],
   "source": [
    "create_plot(us, 'deathIncrease')"
   ]
  },
  {
   "cell_type": "markdown",
   "metadata": {
    "papermill": {
     "duration": 0.014691,
     "end_time": "2020-10-30T22:33:44.903721",
     "exception": false,
     "start_time": "2020-10-30T22:33:44.889030",
     "status": "completed"
    },
    "tags": []
   },
   "source": [
    "## NY"
   ]
  },
  {
   "cell_type": "code",
   "execution_count": 10,
   "metadata": {
    "execution": {
     "iopub.execute_input": "2020-10-30T22:33:44.937848Z",
     "iopub.status.busy": "2020-10-30T22:33:44.937167Z",
     "iopub.status.idle": "2020-10-30T22:33:45.184521Z",
     "shell.execute_reply": "2020-10-30T22:33:45.184957Z"
    },
    "papermill": {
     "duration": 0.266601,
     "end_time": "2020-10-30T22:33:45.185124",
     "exception": false,
     "start_time": "2020-10-30T22:33:44.918523",
     "status": "completed"
    },
    "tags": []
   },
   "outputs": [],
   "source": [
    "ny = create_df(df, (lambda d: d['state'] == 'NY'), 'New York')"
   ]
  },
  {
   "cell_type": "code",
   "execution_count": 11,
   "metadata": {
    "execution": {
     "iopub.execute_input": "2020-10-30T22:33:45.228287Z",
     "iopub.status.busy": "2020-10-30T22:33:45.222986Z",
     "iopub.status.idle": "2020-10-30T22:33:45.312332Z",
     "shell.execute_reply": "2020-10-30T22:33:45.311816Z"
    },
    "papermill": {
     "duration": 0.112438,
     "end_time": "2020-10-30T22:33:45.312468",
     "exception": false,
     "start_time": "2020-10-30T22:33:45.200030",
     "status": "completed"
    },
    "tags": []
   },
   "outputs": [
    {
     "data": {
      "text/html": [
       "\n",
       "<div id=\"altair-viz-e98707e9bb5449a3b67265d2ffb23d6c\"></div>\n",
       "<script type=\"text/javascript\">\n",
       "  (function(spec, embedOpt){\n",
       "    let outputDiv = document.currentScript.previousElementSibling;\n",
       "    if (outputDiv.id !== \"altair-viz-e98707e9bb5449a3b67265d2ffb23d6c\") {\n",
       "      outputDiv = document.getElementById(\"altair-viz-e98707e9bb5449a3b67265d2ffb23d6c\");\n",
       "    }\n",
       "    const paths = {\n",
       "      \"vega\": \"https://cdn.jsdelivr.net/npm//vega@5?noext\",\n",
       "      \"vega-lib\": \"https://cdn.jsdelivr.net/npm//vega-lib?noext\",\n",
       "      \"vega-lite\": \"https://cdn.jsdelivr.net/npm//vega-lite@4.8.1?noext\",\n",
       "      \"vega-embed\": \"https://cdn.jsdelivr.net/npm//vega-embed@6?noext\",\n",
       "    };\n",
       "\n",
       "    function loadScript(lib) {\n",
       "      return new Promise(function(resolve, reject) {\n",
       "        var s = document.createElement('script');\n",
       "        s.src = paths[lib];\n",
       "        s.async = true;\n",
       "        s.onload = () => resolve(paths[lib]);\n",
       "        s.onerror = () => reject(`Error loading script: ${paths[lib]}`);\n",
       "        document.getElementsByTagName(\"head\")[0].appendChild(s);\n",
       "      });\n",
       "    }\n",
       "\n",
       "    function showError(err) {\n",
       "      outputDiv.innerHTML = `<div class=\"error\" style=\"color:red;\">${err}</div>`;\n",
       "      throw err;\n",
       "    }\n",
       "\n",
       "    function displayChart(vegaEmbed) {\n",
       "      vegaEmbed(outputDiv, spec, embedOpt)\n",
       "        .catch(err => showError(`Javascript Error: ${err.message}<br>This usually means there's a typo in your chart specification. See the javascript console for the full traceback.`));\n",
       "    }\n",
       "\n",
       "    if(typeof define === \"function\" && define.amd) {\n",
       "      requirejs.config({paths});\n",
       "      require([\"vega-embed\"], displayChart, err => showError(`Error loading script: ${err.message}`));\n",
       "    } else if (typeof vegaEmbed === \"function\") {\n",
       "      displayChart(vegaEmbed);\n",
       "    } else {\n",
       "      loadScript(\"vega\")\n",
       "        .then(() => loadScript(\"vega-lite\"))\n",
       "        .then(() => loadScript(\"vega-embed\"))\n",
       "        .catch(showError)\n",
       "        .then(() => displayChart(vegaEmbed));\n",
       "    }\n",
       "  })({\"config\": {\"view\": {\"continuousWidth\": 400, \"continuousHeight\": 300}}, \"layer\": [{\"layer\": [{\"mark\": {\"type\": \"point\", \"size\": 75}, \"encoding\": {\"tooltip\": [{\"type\": \"temporal\", \"field\": \"date\"}, {\"type\": \"quantitative\", \"field\": \"positiveIncrease\"}, {\"type\": \"quantitative\", \"field\": \"sma7d\"}], \"x\": {\"type\": \"temporal\", \"field\": \"date\"}, \"y\": {\"type\": \"quantitative\", \"field\": \"positiveIncrease\"}}, \"selection\": {\"selector008\": {\"type\": \"interval\", \"bind\": \"scales\", \"encodings\": [\"x\", \"y\"]}}}, {\"mark\": {\"type\": \"line\", \"color\": \"purple\"}, \"encoding\": {\"x\": {\"type\": \"temporal\", \"field\": \"date\"}, \"y\": {\"type\": \"quantitative\", \"field\": \"sma7d\"}}}]}, {\"mark\": {\"type\": \"rule\", \"color\": \"#aaa\"}, \"encoding\": {\"x\": {\"type\": \"temporal\", \"field\": \"date\"}}, \"transform\": [{\"filter\": {\"selection\": \"selector007\"}}]}, {\"mark\": \"circle\", \"encoding\": {\"opacity\": {\"condition\": {\"value\": 1, \"selection\": \"selector007\"}, \"value\": 0}, \"tooltip\": [{\"type\": \"temporal\", \"field\": \"date\"}, {\"type\": \"quantitative\", \"field\": \"positiveIncrease\"}, {\"type\": \"quantitative\", \"field\": \"sma7d\"}], \"x\": {\"type\": \"temporal\", \"field\": \"date\"}, \"y\": {\"type\": \"quantitative\", \"field\": \"positiveIncrease\"}}, \"selection\": {\"selector007\": {\"type\": \"single\", \"encodings\": [\"x\"], \"on\": \"mouseover\", \"nearest\": true, \"empty\": \"none\"}}}, {\"mark\": {\"type\": \"text\", \"align\": \"left\", \"dx\": 5, \"dy\": -5, \"stroke\": \"white\", \"strokeWidth\": 2}, \"encoding\": {\"text\": {\"type\": \"quantitative\", \"field\": \"positiveIncrease\"}, \"tooltip\": [{\"type\": \"temporal\", \"field\": \"date\"}, {\"type\": \"quantitative\", \"field\": \"positiveIncrease\"}, {\"type\": \"quantitative\", \"field\": \"sma7d\"}], \"x\": {\"type\": \"temporal\", \"field\": \"date\"}, \"y\": {\"type\": \"quantitative\", \"field\": \"positiveIncrease\"}}, \"transform\": [{\"filter\": {\"selection\": \"selector007\"}}]}, {\"mark\": {\"type\": \"text\", \"align\": \"left\", \"dx\": 5, \"dy\": -5}, \"encoding\": {\"text\": {\"type\": \"quantitative\", \"field\": \"positiveIncrease\"}, \"tooltip\": [{\"type\": \"temporal\", \"field\": \"date\"}, {\"type\": \"quantitative\", \"field\": \"positiveIncrease\"}, {\"type\": \"quantitative\", \"field\": \"sma7d\"}], \"x\": {\"type\": \"temporal\", \"field\": \"date\"}, \"y\": {\"type\": \"quantitative\", \"field\": \"positiveIncrease\"}}, \"transform\": [{\"filter\": {\"selection\": \"selector007\"}}]}], \"data\": {\"name\": \"data-6e72f50e652f4cc8bc9cc4cef1014f96\"}, \"height\": 400, \"title\": \"New York: positiveIncrease\", \"width\": 500, \"$schema\": \"https://vega.github.io/schema/vega-lite/v4.8.1.json\", \"datasets\": {\"data-6e72f50e652f4cc8bc9cc4cef1014f96\": [{\"date\": \"2020-09-05T00:00:00\", \"totalTestResultsIncrease\": 99761.0, \"positiveIncrease\": 801.0, \"death\": 25350.0, \"deathIncrease\": 2.0, \"positiveRate\": 0.008, \"state\": \"New York\", \"sma7d\": 767.143}, {\"date\": \"2020-09-06T00:00:00\", \"totalTestResultsIncrease\": 85630.0, \"positiveIncrease\": 729.0, \"death\": 25359.0, \"deathIncrease\": 9.0, \"positiveRate\": 0.009, \"state\": \"New York\", \"sma7d\": 771.571}, {\"date\": \"2020-09-07T00:00:00\", \"totalTestResultsIncrease\": 58865.0, \"positiveIncrease\": 520.0, \"death\": 25361.0, \"deathIncrease\": 2.0, \"positiveRate\": 0.009, \"state\": \"New York\", \"sma7d\": 752.143}, {\"date\": \"2020-09-08T00:00:00\", \"totalTestResultsIncrease\": 57826.0, \"positiveIncrease\": 557.0, \"death\": 25367.0, \"deathIncrease\": 6.0, \"positiveRate\": 0.01, \"state\": \"New York\", \"sma7d\": 724.0}, {\"date\": \"2020-09-09T00:00:00\", \"totalTestResultsIncrease\": 63230.0, \"positiveIncrease\": 576.0, \"death\": 25370.0, \"deathIncrease\": 3.0, \"positiveRate\": 0.009, \"state\": \"New York\", \"sma7d\": 705.143}, {\"date\": \"2020-09-10T00:00:00\", \"totalTestResultsIncrease\": 76813.0, \"positiveIncrease\": 757.0, \"death\": 25377.0, \"deathIncrease\": 7.0, \"positiveRate\": 0.01, \"state\": \"New York\", \"sma7d\": 686.286}, {\"date\": \"2020-09-11T00:00:00\", \"totalTestResultsIncrease\": 89722.0, \"positiveIncrease\": 880.0, \"death\": 25382.0, \"deathIncrease\": 5.0, \"positiveRate\": 0.01, \"state\": \"New York\", \"sma7d\": 688.571}, {\"date\": \"2020-09-12T00:00:00\", \"totalTestResultsIncrease\": 102925.0, \"positiveIncrease\": 849.0, \"death\": 25384.0, \"deathIncrease\": 2.0, \"positiveRate\": 0.008, \"state\": \"New York\", \"sma7d\": 695.429}, {\"date\": \"2020-09-13T00:00:00\", \"totalTestResultsIncrease\": 72668.0, \"positiveIncrease\": 725.0, \"death\": 25390.0, \"deathIncrease\": 6.0, \"positiveRate\": 0.01, \"state\": \"New York\", \"sma7d\": 694.857}, {\"date\": \"2020-09-14T00:00:00\", \"totalTestResultsIncrease\": 63358.0, \"positiveIncrease\": 583.0, \"death\": 25394.0, \"deathIncrease\": 4.0, \"positiveRate\": 0.009, \"state\": \"New York\", \"sma7d\": 703.857}, {\"date\": \"2020-09-15T00:00:00\", \"totalTestResultsIncrease\": 73678.0, \"positiveIncrease\": 766.0, \"death\": 25405.0, \"deathIncrease\": 11.0, \"positiveRate\": 0.01, \"state\": \"New York\", \"sma7d\": 733.714}, {\"date\": \"2020-09-16T00:00:00\", \"totalTestResultsIncrease\": 75087.0, \"positiveIncrease\": 652.0, \"death\": 25410.0, \"deathIncrease\": 5.0, \"positiveRate\": 0.009, \"state\": \"New York\", \"sma7d\": 744.571}, {\"date\": \"2020-09-17T00:00:00\", \"totalTestResultsIncrease\": 91504.0, \"positiveIncrease\": 896.0, \"death\": 25413.0, \"deathIncrease\": 3.0, \"positiveRate\": 0.01, \"state\": \"New York\", \"sma7d\": 764.429}, {\"date\": \"2020-09-18T00:00:00\", \"totalTestResultsIncrease\": 89727.0, \"positiveIncrease\": 790.0, \"death\": 25423.0, \"deathIncrease\": 10.0, \"positiveRate\": 0.009, \"state\": \"New York\", \"sma7d\": 751.571}, {\"date\": \"2020-09-19T00:00:00\", \"totalTestResultsIncrease\": 110444.0, \"positiveIncrease\": 986.0, \"death\": 25425.0, \"deathIncrease\": 2.0, \"positiveRate\": 0.009, \"state\": \"New York\", \"sma7d\": 771.143}, {\"date\": \"2020-09-20T00:00:00\", \"totalTestResultsIncrease\": 100355.0, \"positiveIncrease\": 862.0, \"death\": 25427.0, \"deathIncrease\": 2.0, \"positiveRate\": 0.009, \"state\": \"New York\", \"sma7d\": 790.714}, {\"date\": \"2020-09-21T00:00:00\", \"totalTestResultsIncrease\": 58319.0, \"positiveIncrease\": 573.0, \"death\": 25428.0, \"deathIncrease\": 1.0, \"positiveRate\": 0.01, \"state\": \"New York\", \"sma7d\": 789.286}, {\"date\": \"2020-09-22T00:00:00\", \"totalTestResultsIncrease\": 83997.0, \"positiveIncrease\": 754.0, \"death\": 25432.0, \"deathIncrease\": 4.0, \"positiveRate\": 0.009, \"state\": \"New York\", \"sma7d\": 787.571}, {\"date\": \"2020-09-23T00:00:00\", \"totalTestResultsIncrease\": 70930.0, \"positiveIncrease\": 665.0, \"death\": 25437.0, \"deathIncrease\": 5.0, \"positiveRate\": 0.009, \"state\": \"New York\", \"sma7d\": 789.429}, {\"date\": \"2020-09-24T00:00:00\", \"totalTestResultsIncrease\": 92953.0, \"positiveIncrease\": 955.0, \"death\": 25439.0, \"deathIncrease\": 2.0, \"positiveRate\": 0.01, \"state\": \"New York\", \"sma7d\": 797.857}, {\"date\": \"2020-09-25T00:00:00\", \"totalTestResultsIncrease\": 94818.0, \"positiveIncrease\": 908.0, \"death\": 25446.0, \"deathIncrease\": 7.0, \"positiveRate\": 0.01, \"state\": \"New York\", \"sma7d\": 814.714}, {\"date\": \"2020-09-26T00:00:00\", \"totalTestResultsIncrease\": 99953.0, \"positiveIncrease\": 1005.0, \"death\": 25450.0, \"deathIncrease\": 4.0, \"positiveRate\": 0.01, \"state\": \"New York\", \"sma7d\": 817.429}, {\"date\": \"2020-09-27T00:00:00\", \"totalTestResultsIncrease\": 84770.0, \"positiveIncrease\": 866.0, \"death\": 25456.0, \"deathIncrease\": 6.0, \"positiveRate\": 0.01, \"state\": \"New York\", \"sma7d\": 818.0}, {\"date\": \"2020-09-28T00:00:00\", \"totalTestResultsIncrease\": 52936.0, \"positiveIncrease\": 834.0, \"death\": 25468.0, \"deathIncrease\": 12.0, \"positiveRate\": 0.016, \"state\": \"New York\", \"sma7d\": 855.286}, {\"date\": \"2020-09-29T00:00:00\", \"totalTestResultsIncrease\": 88231.0, \"positiveIncrease\": 1189.0, \"death\": 25470.0, \"deathIncrease\": 2.0, \"positiveRate\": 0.013, \"state\": \"New York\", \"sma7d\": 917.429}, {\"date\": \"2020-09-30T00:00:00\", \"totalTestResultsIncrease\": 97960.0, \"positiveIncrease\": 1000.0, \"death\": 25479.0, \"deathIncrease\": 9.0, \"positiveRate\": 0.01, \"state\": \"New York\", \"sma7d\": 965.286}, {\"date\": \"2020-10-01T00:00:00\", \"totalTestResultsIncrease\": 109218.0, \"positiveIncrease\": 1382.0, \"death\": 25490.0, \"deathIncrease\": 11.0, \"positiveRate\": 0.013, \"state\": \"New York\", \"sma7d\": 1026.286}, {\"date\": \"2020-10-02T00:00:00\", \"totalTestResultsIncrease\": 119493.0, \"positiveIncrease\": 1598.0, \"death\": 25497.0, \"deathIncrease\": 7.0, \"positiveRate\": 0.013, \"state\": \"New York\", \"sma7d\": 1124.857}, {\"date\": \"2020-10-03T00:00:00\", \"totalTestResultsIncrease\": 134267.0, \"positiveIncrease\": 1731.0, \"death\": 25505.0, \"deathIncrease\": 8.0, \"positiveRate\": 0.013, \"state\": \"New York\", \"sma7d\": 1228.571}, {\"date\": \"2020-10-04T00:00:00\", \"totalTestResultsIncrease\": 110329.0, \"positiveIncrease\": 1222.0, \"death\": 25519.0, \"deathIncrease\": 14.0, \"positiveRate\": 0.011, \"state\": \"New York\", \"sma7d\": 1279.429}, {\"date\": \"2020-10-05T00:00:00\", \"totalTestResultsIncrease\": 76404.0, \"positiveIncrease\": 933.0, \"death\": 25527.0, \"deathIncrease\": 8.0, \"positiveRate\": 0.012, \"state\": \"New York\", \"sma7d\": 1293.571}, {\"date\": \"2020-10-06T00:00:00\", \"totalTestResultsIncrease\": 96359.0, \"positiveIncrease\": 1393.0, \"death\": 25536.0, \"deathIncrease\": 9.0, \"positiveRate\": 0.014, \"state\": \"New York\", \"sma7d\": 1322.714}, {\"date\": \"2020-10-07T00:00:00\", \"totalTestResultsIncrease\": 108246.0, \"positiveIncrease\": 1360.0, \"death\": 25545.0, \"deathIncrease\": 9.0, \"positiveRate\": 0.013, \"state\": \"New York\", \"sma7d\": 1374.143}, {\"date\": \"2020-10-08T00:00:00\", \"totalTestResultsIncrease\": 145811.0, \"positiveIncrease\": 1836.0, \"death\": 25555.0, \"deathIncrease\": 10.0, \"positiveRate\": 0.013, \"state\": \"New York\", \"sma7d\": 1439.0}, {\"date\": \"2020-10-09T00:00:00\", \"totalTestResultsIncrease\": 139300.0, \"positiveIncrease\": 1592.0, \"death\": 25561.0, \"deathIncrease\": 6.0, \"positiveRate\": 0.011, \"state\": \"New York\", \"sma7d\": 1438.143}, {\"date\": \"2020-10-10T00:00:00\", \"totalTestResultsIncrease\": 134579.0, \"positiveIncrease\": 1447.0, \"death\": 25569.0, \"deathIncrease\": 8.0, \"positiveRate\": 0.011, \"state\": \"New York\", \"sma7d\": 1397.571}, {\"date\": \"2020-10-11T00:00:00\", \"totalTestResultsIncrease\": 118254.0, \"positiveIncrease\": 1143.0, \"death\": 25574.0, \"deathIncrease\": 5.0, \"positiveRate\": 0.01, \"state\": \"New York\", \"sma7d\": 1386.286}, {\"date\": \"2020-10-12T00:00:00\", \"totalTestResultsIncrease\": 91793.0, \"positiveIncrease\": 1029.0, \"death\": 25587.0, \"deathIncrease\": 13.0, \"positiveRate\": 0.011, \"state\": \"New York\", \"sma7d\": 1400.0}, {\"date\": \"2020-10-13T00:00:00\", \"totalTestResultsIncrease\": 99070.0, \"positiveIncrease\": 1393.0, \"death\": 25598.0, \"deathIncrease\": 11.0, \"positiveRate\": 0.014, \"state\": \"New York\", \"sma7d\": 1400.0}, {\"date\": \"2020-10-14T00:00:00\", \"totalTestResultsIncrease\": 111744.0, \"positiveIncrease\": 1232.0, \"death\": 25605.0, \"deathIncrease\": 7.0, \"positiveRate\": 0.011, \"state\": \"New York\", \"sma7d\": 1381.714}, {\"date\": \"2020-10-15T00:00:00\", \"totalTestResultsIncrease\": 133212.0, \"positiveIncrease\": 1460.0, \"death\": 25618.0, \"deathIncrease\": 13.0, \"positiveRate\": 0.011, \"state\": \"New York\", \"sma7d\": 1328.0}, {\"date\": \"2020-10-16T00:00:00\", \"totalTestResultsIncrease\": 136039.0, \"positiveIncrease\": 1707.0, \"death\": 25628.0, \"deathIncrease\": 10.0, \"positiveRate\": 0.013, \"state\": \"New York\", \"sma7d\": 1344.429}, {\"date\": \"2020-10-17T00:00:00\", \"totalTestResultsIncrease\": 159972.0, \"positiveIncrease\": 1784.0, \"death\": 25637.0, \"deathIncrease\": 9.0, \"positiveRate\": 0.011, \"state\": \"New York\", \"sma7d\": 1392.571}, {\"date\": \"2020-10-18T00:00:00\", \"totalTestResultsIncrease\": 128763.0, \"positiveIncrease\": 1390.0, \"death\": 25644.0, \"deathIncrease\": 7.0, \"positiveRate\": 0.011, \"state\": \"New York\", \"sma7d\": 1427.857}, {\"date\": \"2020-10-19T00:00:00\", \"totalTestResultsIncrease\": 82009.0, \"positiveIncrease\": 998.0, \"death\": 25659.0, \"deathIncrease\": 15.0, \"positiveRate\": 0.012, \"state\": \"New York\", \"sma7d\": 1423.429}, {\"date\": \"2020-10-20T00:00:00\", \"totalTestResultsIncrease\": 90540.0, \"positiveIncrease\": 1201.0, \"death\": 25672.0, \"deathIncrease\": 13.0, \"positiveRate\": 0.013, \"state\": \"New York\", \"sma7d\": 1396.0}, {\"date\": \"2020-10-21T00:00:00\", \"totalTestResultsIncrease\": 124789.0, \"positiveIncrease\": 2026.0, \"death\": 25679.0, \"deathIncrease\": 7.0, \"positiveRate\": 0.016, \"state\": \"New York\", \"sma7d\": 1509.429}, {\"date\": \"2020-10-22T00:00:00\", \"totalTestResultsIncrease\": 135341.0, \"positiveIncrease\": 1628.0, \"death\": 25694.0, \"deathIncrease\": 15.0, \"positiveRate\": 0.012, \"state\": \"New York\", \"sma7d\": 1533.429}, {\"date\": \"2020-10-23T00:00:00\", \"totalTestResultsIncrease\": 141508.0, \"positiveIncrease\": 1637.0, \"death\": 25705.0, \"deathIncrease\": 11.0, \"positiveRate\": 0.012, \"state\": \"New York\", \"sma7d\": 1523.429}, {\"date\": \"2020-10-24T00:00:00\", \"totalTestResultsIncrease\": 156940.0, \"positiveIncrease\": 2061.0, \"death\": 25718.0, \"deathIncrease\": 13.0, \"positiveRate\": 0.013, \"state\": \"New York\", \"sma7d\": 1563.0}, {\"date\": \"2020-10-25T00:00:00\", \"totalTestResultsIncrease\": 120830.0, \"positiveIncrease\": 1632.0, \"death\": 25730.0, \"deathIncrease\": 12.0, \"positiveRate\": 0.014, \"state\": \"New York\", \"sma7d\": 1597.571}, {\"date\": \"2020-10-26T00:00:00\", \"totalTestResultsIncrease\": 82117.0, \"positiveIncrease\": 1191.0, \"death\": 25742.0, \"deathIncrease\": 12.0, \"positiveRate\": 0.015, \"state\": \"New York\", \"sma7d\": 1625.143}, {\"date\": \"2020-10-27T00:00:00\", \"totalTestResultsIncrease\": 111618.0, \"positiveIncrease\": 1991.0, \"death\": 25758.0, \"deathIncrease\": 16.0, \"positiveRate\": 0.018, \"state\": \"New York\", \"sma7d\": 1738.0}, {\"date\": \"2020-10-28T00:00:00\", \"totalTestResultsIncrease\": 129660.0, \"positiveIncrease\": 2031.0, \"death\": 25773.0, \"deathIncrease\": 15.0, \"positiveRate\": 0.016, \"state\": \"New York\", \"sma7d\": 1738.714}, {\"date\": \"2020-10-29T00:00:00\", \"totalTestResultsIncrease\": 168353.0, \"positiveIncrease\": 2499.0, \"death\": 25792.0, \"deathIncrease\": 19.0, \"positiveRate\": 0.015, \"state\": \"New York\", \"sma7d\": 1863.143}]}}, {\"mode\": \"vega-lite\"});\n",
       "</script>"
      ],
      "text/plain": [
       "alt.LayerChart(...)"
      ]
     },
     "execution_count": 11,
     "metadata": {},
     "output_type": "execute_result"
    }
   ],
   "source": [
    "create_plot(ny, 'positiveIncrease')"
   ]
  },
  {
   "cell_type": "code",
   "execution_count": 12,
   "metadata": {
    "execution": {
     "iopub.execute_input": "2020-10-30T22:33:45.348769Z",
     "iopub.status.busy": "2020-10-30T22:33:45.348195Z",
     "iopub.status.idle": "2020-10-30T22:33:45.439760Z",
     "shell.execute_reply": "2020-10-30T22:33:45.439246Z"
    },
    "papermill": {
     "duration": 0.111765,
     "end_time": "2020-10-30T22:33:45.439893",
     "exception": false,
     "start_time": "2020-10-30T22:33:45.328128",
     "status": "completed"
    },
    "tags": []
   },
   "outputs": [
    {
     "data": {
      "text/html": [
       "\n",
       "<div id=\"altair-viz-80014ce6b21a411aa794442b51b77106\"></div>\n",
       "<script type=\"text/javascript\">\n",
       "  (function(spec, embedOpt){\n",
       "    let outputDiv = document.currentScript.previousElementSibling;\n",
       "    if (outputDiv.id !== \"altair-viz-80014ce6b21a411aa794442b51b77106\") {\n",
       "      outputDiv = document.getElementById(\"altair-viz-80014ce6b21a411aa794442b51b77106\");\n",
       "    }\n",
       "    const paths = {\n",
       "      \"vega\": \"https://cdn.jsdelivr.net/npm//vega@5?noext\",\n",
       "      \"vega-lib\": \"https://cdn.jsdelivr.net/npm//vega-lib?noext\",\n",
       "      \"vega-lite\": \"https://cdn.jsdelivr.net/npm//vega-lite@4.8.1?noext\",\n",
       "      \"vega-embed\": \"https://cdn.jsdelivr.net/npm//vega-embed@6?noext\",\n",
       "    };\n",
       "\n",
       "    function loadScript(lib) {\n",
       "      return new Promise(function(resolve, reject) {\n",
       "        var s = document.createElement('script');\n",
       "        s.src = paths[lib];\n",
       "        s.async = true;\n",
       "        s.onload = () => resolve(paths[lib]);\n",
       "        s.onerror = () => reject(`Error loading script: ${paths[lib]}`);\n",
       "        document.getElementsByTagName(\"head\")[0].appendChild(s);\n",
       "      });\n",
       "    }\n",
       "\n",
       "    function showError(err) {\n",
       "      outputDiv.innerHTML = `<div class=\"error\" style=\"color:red;\">${err}</div>`;\n",
       "      throw err;\n",
       "    }\n",
       "\n",
       "    function displayChart(vegaEmbed) {\n",
       "      vegaEmbed(outputDiv, spec, embedOpt)\n",
       "        .catch(err => showError(`Javascript Error: ${err.message}<br>This usually means there's a typo in your chart specification. See the javascript console for the full traceback.`));\n",
       "    }\n",
       "\n",
       "    if(typeof define === \"function\" && define.amd) {\n",
       "      requirejs.config({paths});\n",
       "      require([\"vega-embed\"], displayChart, err => showError(`Error loading script: ${err.message}`));\n",
       "    } else if (typeof vegaEmbed === \"function\") {\n",
       "      displayChart(vegaEmbed);\n",
       "    } else {\n",
       "      loadScript(\"vega\")\n",
       "        .then(() => loadScript(\"vega-lite\"))\n",
       "        .then(() => loadScript(\"vega-embed\"))\n",
       "        .catch(showError)\n",
       "        .then(() => displayChart(vegaEmbed));\n",
       "    }\n",
       "  })({\"config\": {\"view\": {\"continuousWidth\": 400, \"continuousHeight\": 300}}, \"layer\": [{\"layer\": [{\"mark\": {\"type\": \"point\", \"size\": 75}, \"encoding\": {\"tooltip\": [{\"type\": \"temporal\", \"field\": \"date\"}, {\"type\": \"quantitative\", \"field\": \"positiveRate\"}, {\"type\": \"quantitative\", \"field\": \"sma7d\"}], \"x\": {\"type\": \"temporal\", \"field\": \"date\"}, \"y\": {\"type\": \"quantitative\", \"field\": \"positiveRate\"}}, \"selection\": {\"selector010\": {\"type\": \"interval\", \"bind\": \"scales\", \"encodings\": [\"x\", \"y\"]}}}, {\"mark\": {\"type\": \"line\", \"color\": \"purple\"}, \"encoding\": {\"x\": {\"type\": \"temporal\", \"field\": \"date\"}, \"y\": {\"type\": \"quantitative\", \"field\": \"sma7d\"}}}]}, {\"mark\": {\"type\": \"rule\", \"color\": \"#aaa\"}, \"encoding\": {\"x\": {\"type\": \"temporal\", \"field\": \"date\"}}, \"transform\": [{\"filter\": {\"selection\": \"selector009\"}}]}, {\"mark\": \"circle\", \"encoding\": {\"opacity\": {\"condition\": {\"value\": 1, \"selection\": \"selector009\"}, \"value\": 0}, \"tooltip\": [{\"type\": \"temporal\", \"field\": \"date\"}, {\"type\": \"quantitative\", \"field\": \"positiveRate\"}, {\"type\": \"quantitative\", \"field\": \"sma7d\"}], \"x\": {\"type\": \"temporal\", \"field\": \"date\"}, \"y\": {\"type\": \"quantitative\", \"field\": \"positiveRate\"}}, \"selection\": {\"selector009\": {\"type\": \"single\", \"encodings\": [\"x\"], \"on\": \"mouseover\", \"nearest\": true, \"empty\": \"none\"}}}, {\"mark\": {\"type\": \"text\", \"align\": \"left\", \"dx\": 5, \"dy\": -5, \"stroke\": \"white\", \"strokeWidth\": 2}, \"encoding\": {\"text\": {\"type\": \"quantitative\", \"field\": \"positiveRate\"}, \"tooltip\": [{\"type\": \"temporal\", \"field\": \"date\"}, {\"type\": \"quantitative\", \"field\": \"positiveRate\"}, {\"type\": \"quantitative\", \"field\": \"sma7d\"}], \"x\": {\"type\": \"temporal\", \"field\": \"date\"}, \"y\": {\"type\": \"quantitative\", \"field\": \"positiveRate\"}}, \"transform\": [{\"filter\": {\"selection\": \"selector009\"}}]}, {\"mark\": {\"type\": \"text\", \"align\": \"left\", \"dx\": 5, \"dy\": -5}, \"encoding\": {\"text\": {\"type\": \"quantitative\", \"field\": \"positiveRate\"}, \"tooltip\": [{\"type\": \"temporal\", \"field\": \"date\"}, {\"type\": \"quantitative\", \"field\": \"positiveRate\"}, {\"type\": \"quantitative\", \"field\": \"sma7d\"}], \"x\": {\"type\": \"temporal\", \"field\": \"date\"}, \"y\": {\"type\": \"quantitative\", \"field\": \"positiveRate\"}}, \"transform\": [{\"filter\": {\"selection\": \"selector009\"}}]}], \"data\": {\"name\": \"data-442ed1c1ddb995a2d3c8ddff53681924\"}, \"height\": 400, \"title\": \"New York: positiveRate\", \"width\": 500, \"$schema\": \"https://vega.github.io/schema/vega-lite/v4.8.1.json\", \"datasets\": {\"data-442ed1c1ddb995a2d3c8ddff53681924\": [{\"date\": \"2020-09-05T00:00:00\", \"totalTestResultsIncrease\": 99761.0, \"positiveIncrease\": 801.0, \"death\": 25350.0, \"deathIncrease\": 2.0, \"positiveRate\": 0.008, \"state\": \"New York\", \"sma7d\": 0.009}, {\"date\": \"2020-09-06T00:00:00\", \"totalTestResultsIncrease\": 85630.0, \"positiveIncrease\": 729.0, \"death\": 25359.0, \"deathIncrease\": 9.0, \"positiveRate\": 0.009, \"state\": \"New York\", \"sma7d\": 0.009}, {\"date\": \"2020-09-07T00:00:00\", \"totalTestResultsIncrease\": 58865.0, \"positiveIncrease\": 520.0, \"death\": 25361.0, \"deathIncrease\": 2.0, \"positiveRate\": 0.009, \"state\": \"New York\", \"sma7d\": 0.009}, {\"date\": \"2020-09-08T00:00:00\", \"totalTestResultsIncrease\": 57826.0, \"positiveIncrease\": 557.0, \"death\": 25367.0, \"deathIncrease\": 6.0, \"positiveRate\": 0.01, \"state\": \"New York\", \"sma7d\": 0.009}, {\"date\": \"2020-09-09T00:00:00\", \"totalTestResultsIncrease\": 63230.0, \"positiveIncrease\": 576.0, \"death\": 25370.0, \"deathIncrease\": 3.0, \"positiveRate\": 0.009, \"state\": \"New York\", \"sma7d\": 0.009}, {\"date\": \"2020-09-10T00:00:00\", \"totalTestResultsIncrease\": 76813.0, \"positiveIncrease\": 757.0, \"death\": 25377.0, \"deathIncrease\": 7.0, \"positiveRate\": 0.01, \"state\": \"New York\", \"sma7d\": 0.009}, {\"date\": \"2020-09-11T00:00:00\", \"totalTestResultsIncrease\": 89722.0, \"positiveIncrease\": 880.0, \"death\": 25382.0, \"deathIncrease\": 5.0, \"positiveRate\": 0.01, \"state\": \"New York\", \"sma7d\": 0.009}, {\"date\": \"2020-09-12T00:00:00\", \"totalTestResultsIncrease\": 102925.0, \"positiveIncrease\": 849.0, \"death\": 25384.0, \"deathIncrease\": 2.0, \"positiveRate\": 0.008, \"state\": \"New York\", \"sma7d\": 0.009}, {\"date\": \"2020-09-13T00:00:00\", \"totalTestResultsIncrease\": 72668.0, \"positiveIncrease\": 725.0, \"death\": 25390.0, \"deathIncrease\": 6.0, \"positiveRate\": 0.01, \"state\": \"New York\", \"sma7d\": 0.009}, {\"date\": \"2020-09-14T00:00:00\", \"totalTestResultsIncrease\": 63358.0, \"positiveIncrease\": 583.0, \"death\": 25394.0, \"deathIncrease\": 4.0, \"positiveRate\": 0.009, \"state\": \"New York\", \"sma7d\": 0.009}, {\"date\": \"2020-09-15T00:00:00\", \"totalTestResultsIncrease\": 73678.0, \"positiveIncrease\": 766.0, \"death\": 25405.0, \"deathIncrease\": 11.0, \"positiveRate\": 0.01, \"state\": \"New York\", \"sma7d\": 0.009}, {\"date\": \"2020-09-16T00:00:00\", \"totalTestResultsIncrease\": 75087.0, \"positiveIncrease\": 652.0, \"death\": 25410.0, \"deathIncrease\": 5.0, \"positiveRate\": 0.009, \"state\": \"New York\", \"sma7d\": 0.009}, {\"date\": \"2020-09-17T00:00:00\", \"totalTestResultsIncrease\": 91504.0, \"positiveIncrease\": 896.0, \"death\": 25413.0, \"deathIncrease\": 3.0, \"positiveRate\": 0.01, \"state\": \"New York\", \"sma7d\": 0.009}, {\"date\": \"2020-09-18T00:00:00\", \"totalTestResultsIncrease\": 89727.0, \"positiveIncrease\": 790.0, \"death\": 25423.0, \"deathIncrease\": 10.0, \"positiveRate\": 0.009, \"state\": \"New York\", \"sma7d\": 0.009}, {\"date\": \"2020-09-19T00:00:00\", \"totalTestResultsIncrease\": 110444.0, \"positiveIncrease\": 986.0, \"death\": 25425.0, \"deathIncrease\": 2.0, \"positiveRate\": 0.009, \"state\": \"New York\", \"sma7d\": 0.009}, {\"date\": \"2020-09-20T00:00:00\", \"totalTestResultsIncrease\": 100355.0, \"positiveIncrease\": 862.0, \"death\": 25427.0, \"deathIncrease\": 2.0, \"positiveRate\": 0.009, \"state\": \"New York\", \"sma7d\": 0.009}, {\"date\": \"2020-09-21T00:00:00\", \"totalTestResultsIncrease\": 58319.0, \"positiveIncrease\": 573.0, \"death\": 25428.0, \"deathIncrease\": 1.0, \"positiveRate\": 0.01, \"state\": \"New York\", \"sma7d\": 0.009}, {\"date\": \"2020-09-22T00:00:00\", \"totalTestResultsIncrease\": 83997.0, \"positiveIncrease\": 754.0, \"death\": 25432.0, \"deathIncrease\": 4.0, \"positiveRate\": 0.009, \"state\": \"New York\", \"sma7d\": 0.009}, {\"date\": \"2020-09-23T00:00:00\", \"totalTestResultsIncrease\": 70930.0, \"positiveIncrease\": 665.0, \"death\": 25437.0, \"deathIncrease\": 5.0, \"positiveRate\": 0.009, \"state\": \"New York\", \"sma7d\": 0.009}, {\"date\": \"2020-09-24T00:00:00\", \"totalTestResultsIncrease\": 92953.0, \"positiveIncrease\": 955.0, \"death\": 25439.0, \"deathIncrease\": 2.0, \"positiveRate\": 0.01, \"state\": \"New York\", \"sma7d\": 0.009}, {\"date\": \"2020-09-25T00:00:00\", \"totalTestResultsIncrease\": 94818.0, \"positiveIncrease\": 908.0, \"death\": 25446.0, \"deathIncrease\": 7.0, \"positiveRate\": 0.01, \"state\": \"New York\", \"sma7d\": 0.009}, {\"date\": \"2020-09-26T00:00:00\", \"totalTestResultsIncrease\": 99953.0, \"positiveIncrease\": 1005.0, \"death\": 25450.0, \"deathIncrease\": 4.0, \"positiveRate\": 0.01, \"state\": \"New York\", \"sma7d\": 0.01}, {\"date\": \"2020-09-27T00:00:00\", \"totalTestResultsIncrease\": 84770.0, \"positiveIncrease\": 866.0, \"death\": 25456.0, \"deathIncrease\": 6.0, \"positiveRate\": 0.01, \"state\": \"New York\", \"sma7d\": 0.01}, {\"date\": \"2020-09-28T00:00:00\", \"totalTestResultsIncrease\": 52936.0, \"positiveIncrease\": 834.0, \"death\": 25468.0, \"deathIncrease\": 12.0, \"positiveRate\": 0.016, \"state\": \"New York\", \"sma7d\": 0.011}, {\"date\": \"2020-09-29T00:00:00\", \"totalTestResultsIncrease\": 88231.0, \"positiveIncrease\": 1189.0, \"death\": 25470.0, \"deathIncrease\": 2.0, \"positiveRate\": 0.013, \"state\": \"New York\", \"sma7d\": 0.011}, {\"date\": \"2020-09-30T00:00:00\", \"totalTestResultsIncrease\": 97960.0, \"positiveIncrease\": 1000.0, \"death\": 25479.0, \"deathIncrease\": 9.0, \"positiveRate\": 0.01, \"state\": \"New York\", \"sma7d\": 0.011}, {\"date\": \"2020-10-01T00:00:00\", \"totalTestResultsIncrease\": 109218.0, \"positiveIncrease\": 1382.0, \"death\": 25490.0, \"deathIncrease\": 11.0, \"positiveRate\": 0.013, \"state\": \"New York\", \"sma7d\": 0.012}, {\"date\": \"2020-10-02T00:00:00\", \"totalTestResultsIncrease\": 119493.0, \"positiveIncrease\": 1598.0, \"death\": 25497.0, \"deathIncrease\": 7.0, \"positiveRate\": 0.013, \"state\": \"New York\", \"sma7d\": 0.012}, {\"date\": \"2020-10-03T00:00:00\", \"totalTestResultsIncrease\": 134267.0, \"positiveIncrease\": 1731.0, \"death\": 25505.0, \"deathIncrease\": 8.0, \"positiveRate\": 0.013, \"state\": \"New York\", \"sma7d\": 0.013}, {\"date\": \"2020-10-04T00:00:00\", \"totalTestResultsIncrease\": 110329.0, \"positiveIncrease\": 1222.0, \"death\": 25519.0, \"deathIncrease\": 14.0, \"positiveRate\": 0.011, \"state\": \"New York\", \"sma7d\": 0.013}, {\"date\": \"2020-10-05T00:00:00\", \"totalTestResultsIncrease\": 76404.0, \"positiveIncrease\": 933.0, \"death\": 25527.0, \"deathIncrease\": 8.0, \"positiveRate\": 0.012, \"state\": \"New York\", \"sma7d\": 0.012}, {\"date\": \"2020-10-06T00:00:00\", \"totalTestResultsIncrease\": 96359.0, \"positiveIncrease\": 1393.0, \"death\": 25536.0, \"deathIncrease\": 9.0, \"positiveRate\": 0.014, \"state\": \"New York\", \"sma7d\": 0.012}, {\"date\": \"2020-10-07T00:00:00\", \"totalTestResultsIncrease\": 108246.0, \"positiveIncrease\": 1360.0, \"death\": 25545.0, \"deathIncrease\": 9.0, \"positiveRate\": 0.013, \"state\": \"New York\", \"sma7d\": 0.013}, {\"date\": \"2020-10-08T00:00:00\", \"totalTestResultsIncrease\": 145811.0, \"positiveIncrease\": 1836.0, \"death\": 25555.0, \"deathIncrease\": 10.0, \"positiveRate\": 0.013, \"state\": \"New York\", \"sma7d\": 0.013}, {\"date\": \"2020-10-09T00:00:00\", \"totalTestResultsIncrease\": 139300.0, \"positiveIncrease\": 1592.0, \"death\": 25561.0, \"deathIncrease\": 6.0, \"positiveRate\": 0.011, \"state\": \"New York\", \"sma7d\": 0.012}, {\"date\": \"2020-10-10T00:00:00\", \"totalTestResultsIncrease\": 134579.0, \"positiveIncrease\": 1447.0, \"death\": 25569.0, \"deathIncrease\": 8.0, \"positiveRate\": 0.011, \"state\": \"New York\", \"sma7d\": 0.012}, {\"date\": \"2020-10-11T00:00:00\", \"totalTestResultsIncrease\": 118254.0, \"positiveIncrease\": 1143.0, \"death\": 25574.0, \"deathIncrease\": 5.0, \"positiveRate\": 0.01, \"state\": \"New York\", \"sma7d\": 0.012}, {\"date\": \"2020-10-12T00:00:00\", \"totalTestResultsIncrease\": 91793.0, \"positiveIncrease\": 1029.0, \"death\": 25587.0, \"deathIncrease\": 13.0, \"positiveRate\": 0.011, \"state\": \"New York\", \"sma7d\": 0.012}, {\"date\": \"2020-10-13T00:00:00\", \"totalTestResultsIncrease\": 99070.0, \"positiveIncrease\": 1393.0, \"death\": 25598.0, \"deathIncrease\": 11.0, \"positiveRate\": 0.014, \"state\": \"New York\", \"sma7d\": 0.012}, {\"date\": \"2020-10-14T00:00:00\", \"totalTestResultsIncrease\": 111744.0, \"positiveIncrease\": 1232.0, \"death\": 25605.0, \"deathIncrease\": 7.0, \"positiveRate\": 0.011, \"state\": \"New York\", \"sma7d\": 0.012}, {\"date\": \"2020-10-15T00:00:00\", \"totalTestResultsIncrease\": 133212.0, \"positiveIncrease\": 1460.0, \"death\": 25618.0, \"deathIncrease\": 13.0, \"positiveRate\": 0.011, \"state\": \"New York\", \"sma7d\": 0.011}, {\"date\": \"2020-10-16T00:00:00\", \"totalTestResultsIncrease\": 136039.0, \"positiveIncrease\": 1707.0, \"death\": 25628.0, \"deathIncrease\": 10.0, \"positiveRate\": 0.013, \"state\": \"New York\", \"sma7d\": 0.012}, {\"date\": \"2020-10-17T00:00:00\", \"totalTestResultsIncrease\": 159972.0, \"positiveIncrease\": 1784.0, \"death\": 25637.0, \"deathIncrease\": 9.0, \"positiveRate\": 0.011, \"state\": \"New York\", \"sma7d\": 0.012}, {\"date\": \"2020-10-18T00:00:00\", \"totalTestResultsIncrease\": 128763.0, \"positiveIncrease\": 1390.0, \"death\": 25644.0, \"deathIncrease\": 7.0, \"positiveRate\": 0.011, \"state\": \"New York\", \"sma7d\": 0.012}, {\"date\": \"2020-10-19T00:00:00\", \"totalTestResultsIncrease\": 82009.0, \"positiveIncrease\": 998.0, \"death\": 25659.0, \"deathIncrease\": 15.0, \"positiveRate\": 0.012, \"state\": \"New York\", \"sma7d\": 0.012}, {\"date\": \"2020-10-20T00:00:00\", \"totalTestResultsIncrease\": 90540.0, \"positiveIncrease\": 1201.0, \"death\": 25672.0, \"deathIncrease\": 13.0, \"positiveRate\": 0.013, \"state\": \"New York\", \"sma7d\": 0.012}, {\"date\": \"2020-10-21T00:00:00\", \"totalTestResultsIncrease\": 124789.0, \"positiveIncrease\": 2026.0, \"death\": 25679.0, \"deathIncrease\": 7.0, \"positiveRate\": 0.016, \"state\": \"New York\", \"sma7d\": 0.012}, {\"date\": \"2020-10-22T00:00:00\", \"totalTestResultsIncrease\": 135341.0, \"positiveIncrease\": 1628.0, \"death\": 25694.0, \"deathIncrease\": 15.0, \"positiveRate\": 0.012, \"state\": \"New York\", \"sma7d\": 0.013}, {\"date\": \"2020-10-23T00:00:00\", \"totalTestResultsIncrease\": 141508.0, \"positiveIncrease\": 1637.0, \"death\": 25705.0, \"deathIncrease\": 11.0, \"positiveRate\": 0.012, \"state\": \"New York\", \"sma7d\": 0.012}, {\"date\": \"2020-10-24T00:00:00\", \"totalTestResultsIncrease\": 156940.0, \"positiveIncrease\": 2061.0, \"death\": 25718.0, \"deathIncrease\": 13.0, \"positiveRate\": 0.013, \"state\": \"New York\", \"sma7d\": 0.013}, {\"date\": \"2020-10-25T00:00:00\", \"totalTestResultsIncrease\": 120830.0, \"positiveIncrease\": 1632.0, \"death\": 25730.0, \"deathIncrease\": 12.0, \"positiveRate\": 0.014, \"state\": \"New York\", \"sma7d\": 0.013}, {\"date\": \"2020-10-26T00:00:00\", \"totalTestResultsIncrease\": 82117.0, \"positiveIncrease\": 1191.0, \"death\": 25742.0, \"deathIncrease\": 12.0, \"positiveRate\": 0.015, \"state\": \"New York\", \"sma7d\": 0.014}, {\"date\": \"2020-10-27T00:00:00\", \"totalTestResultsIncrease\": 111618.0, \"positiveIncrease\": 1991.0, \"death\": 25758.0, \"deathIncrease\": 16.0, \"positiveRate\": 0.018, \"state\": \"New York\", \"sma7d\": 0.014}, {\"date\": \"2020-10-28T00:00:00\", \"totalTestResultsIncrease\": 129660.0, \"positiveIncrease\": 2031.0, \"death\": 25773.0, \"deathIncrease\": 15.0, \"positiveRate\": 0.016, \"state\": \"New York\", \"sma7d\": 0.014}, {\"date\": \"2020-10-29T00:00:00\", \"totalTestResultsIncrease\": 168353.0, \"positiveIncrease\": 2499.0, \"death\": 25792.0, \"deathIncrease\": 19.0, \"positiveRate\": 0.015, \"state\": \"New York\", \"sma7d\": 0.015}]}}, {\"mode\": \"vega-lite\"});\n",
       "</script>"
      ],
      "text/plain": [
       "alt.LayerChart(...)"
      ]
     },
     "execution_count": 12,
     "metadata": {},
     "output_type": "execute_result"
    }
   ],
   "source": [
    "create_plot(ny, 'positiveRate')"
   ]
  },
  {
   "cell_type": "code",
   "execution_count": 13,
   "metadata": {
    "execution": {
     "iopub.execute_input": "2020-10-30T22:33:45.492348Z",
     "iopub.status.busy": "2020-10-30T22:33:45.487355Z",
     "iopub.status.idle": "2020-10-30T22:33:45.572005Z",
     "shell.execute_reply": "2020-10-30T22:33:45.571532Z"
    },
    "papermill": {
     "duration": 0.113552,
     "end_time": "2020-10-30T22:33:45.572138",
     "exception": false,
     "start_time": "2020-10-30T22:33:45.458586",
     "status": "completed"
    },
    "tags": []
   },
   "outputs": [
    {
     "data": {
      "text/html": [
       "\n",
       "<div id=\"altair-viz-727590a9ba384968a4558e461af3812d\"></div>\n",
       "<script type=\"text/javascript\">\n",
       "  (function(spec, embedOpt){\n",
       "    let outputDiv = document.currentScript.previousElementSibling;\n",
       "    if (outputDiv.id !== \"altair-viz-727590a9ba384968a4558e461af3812d\") {\n",
       "      outputDiv = document.getElementById(\"altair-viz-727590a9ba384968a4558e461af3812d\");\n",
       "    }\n",
       "    const paths = {\n",
       "      \"vega\": \"https://cdn.jsdelivr.net/npm//vega@5?noext\",\n",
       "      \"vega-lib\": \"https://cdn.jsdelivr.net/npm//vega-lib?noext\",\n",
       "      \"vega-lite\": \"https://cdn.jsdelivr.net/npm//vega-lite@4.8.1?noext\",\n",
       "      \"vega-embed\": \"https://cdn.jsdelivr.net/npm//vega-embed@6?noext\",\n",
       "    };\n",
       "\n",
       "    function loadScript(lib) {\n",
       "      return new Promise(function(resolve, reject) {\n",
       "        var s = document.createElement('script');\n",
       "        s.src = paths[lib];\n",
       "        s.async = true;\n",
       "        s.onload = () => resolve(paths[lib]);\n",
       "        s.onerror = () => reject(`Error loading script: ${paths[lib]}`);\n",
       "        document.getElementsByTagName(\"head\")[0].appendChild(s);\n",
       "      });\n",
       "    }\n",
       "\n",
       "    function showError(err) {\n",
       "      outputDiv.innerHTML = `<div class=\"error\" style=\"color:red;\">${err}</div>`;\n",
       "      throw err;\n",
       "    }\n",
       "\n",
       "    function displayChart(vegaEmbed) {\n",
       "      vegaEmbed(outputDiv, spec, embedOpt)\n",
       "        .catch(err => showError(`Javascript Error: ${err.message}<br>This usually means there's a typo in your chart specification. See the javascript console for the full traceback.`));\n",
       "    }\n",
       "\n",
       "    if(typeof define === \"function\" && define.amd) {\n",
       "      requirejs.config({paths});\n",
       "      require([\"vega-embed\"], displayChart, err => showError(`Error loading script: ${err.message}`));\n",
       "    } else if (typeof vegaEmbed === \"function\") {\n",
       "      displayChart(vegaEmbed);\n",
       "    } else {\n",
       "      loadScript(\"vega\")\n",
       "        .then(() => loadScript(\"vega-lite\"))\n",
       "        .then(() => loadScript(\"vega-embed\"))\n",
       "        .catch(showError)\n",
       "        .then(() => displayChart(vegaEmbed));\n",
       "    }\n",
       "  })({\"config\": {\"view\": {\"continuousWidth\": 400, \"continuousHeight\": 300}}, \"layer\": [{\"layer\": [{\"mark\": {\"type\": \"point\", \"size\": 75}, \"encoding\": {\"tooltip\": [{\"type\": \"temporal\", \"field\": \"date\"}, {\"type\": \"quantitative\", \"field\": \"deathIncrease\"}, {\"type\": \"quantitative\", \"field\": \"sma7d\"}], \"x\": {\"type\": \"temporal\", \"field\": \"date\"}, \"y\": {\"type\": \"quantitative\", \"field\": \"deathIncrease\"}}, \"selection\": {\"selector012\": {\"type\": \"interval\", \"bind\": \"scales\", \"encodings\": [\"x\", \"y\"]}}}, {\"mark\": {\"type\": \"line\", \"color\": \"purple\"}, \"encoding\": {\"x\": {\"type\": \"temporal\", \"field\": \"date\"}, \"y\": {\"type\": \"quantitative\", \"field\": \"sma7d\"}}}]}, {\"mark\": {\"type\": \"rule\", \"color\": \"#aaa\"}, \"encoding\": {\"x\": {\"type\": \"temporal\", \"field\": \"date\"}}, \"transform\": [{\"filter\": {\"selection\": \"selector011\"}}]}, {\"mark\": \"circle\", \"encoding\": {\"opacity\": {\"condition\": {\"value\": 1, \"selection\": \"selector011\"}, \"value\": 0}, \"tooltip\": [{\"type\": \"temporal\", \"field\": \"date\"}, {\"type\": \"quantitative\", \"field\": \"deathIncrease\"}, {\"type\": \"quantitative\", \"field\": \"sma7d\"}], \"x\": {\"type\": \"temporal\", \"field\": \"date\"}, \"y\": {\"type\": \"quantitative\", \"field\": \"deathIncrease\"}}, \"selection\": {\"selector011\": {\"type\": \"single\", \"encodings\": [\"x\"], \"on\": \"mouseover\", \"nearest\": true, \"empty\": \"none\"}}}, {\"mark\": {\"type\": \"text\", \"align\": \"left\", \"dx\": 5, \"dy\": -5, \"stroke\": \"white\", \"strokeWidth\": 2}, \"encoding\": {\"text\": {\"type\": \"quantitative\", \"field\": \"deathIncrease\"}, \"tooltip\": [{\"type\": \"temporal\", \"field\": \"date\"}, {\"type\": \"quantitative\", \"field\": \"deathIncrease\"}, {\"type\": \"quantitative\", \"field\": \"sma7d\"}], \"x\": {\"type\": \"temporal\", \"field\": \"date\"}, \"y\": {\"type\": \"quantitative\", \"field\": \"deathIncrease\"}}, \"transform\": [{\"filter\": {\"selection\": \"selector011\"}}]}, {\"mark\": {\"type\": \"text\", \"align\": \"left\", \"dx\": 5, \"dy\": -5}, \"encoding\": {\"text\": {\"type\": \"quantitative\", \"field\": \"deathIncrease\"}, \"tooltip\": [{\"type\": \"temporal\", \"field\": \"date\"}, {\"type\": \"quantitative\", \"field\": \"deathIncrease\"}, {\"type\": \"quantitative\", \"field\": \"sma7d\"}], \"x\": {\"type\": \"temporal\", \"field\": \"date\"}, \"y\": {\"type\": \"quantitative\", \"field\": \"deathIncrease\"}}, \"transform\": [{\"filter\": {\"selection\": \"selector011\"}}]}], \"data\": {\"name\": \"data-6a246774bf02dbad5d48355a66b50d89\"}, \"height\": 400, \"title\": \"New York: deathIncrease\", \"width\": 500, \"$schema\": \"https://vega.github.io/schema/vega-lite/v4.8.1.json\", \"datasets\": {\"data-6a246774bf02dbad5d48355a66b50d89\": [{\"date\": \"2020-09-05T00:00:00\", \"totalTestResultsIncrease\": 99761.0, \"positiveIncrease\": 801.0, \"death\": 25350.0, \"deathIncrease\": 2.0, \"positiveRate\": 0.008, \"state\": \"New York\", \"sma7d\": 4.429}, {\"date\": \"2020-09-06T00:00:00\", \"totalTestResultsIncrease\": 85630.0, \"positiveIncrease\": 729.0, \"death\": 25359.0, \"deathIncrease\": 9.0, \"positiveRate\": 0.009, \"state\": \"New York\", \"sma7d\": 4.571}, {\"date\": \"2020-09-07T00:00:00\", \"totalTestResultsIncrease\": 58865.0, \"positiveIncrease\": 520.0, \"death\": 25361.0, \"deathIncrease\": 2.0, \"positiveRate\": 0.009, \"state\": \"New York\", \"sma7d\": 4.714}, {\"date\": \"2020-09-08T00:00:00\", \"totalTestResultsIncrease\": 57826.0, \"positiveIncrease\": 557.0, \"death\": 25367.0, \"deathIncrease\": 6.0, \"positiveRate\": 0.01, \"state\": \"New York\", \"sma7d\": 5.143}, {\"date\": \"2020-09-09T00:00:00\", \"totalTestResultsIncrease\": 63230.0, \"positiveIncrease\": 576.0, \"death\": 25370.0, \"deathIncrease\": 3.0, \"positiveRate\": 0.009, \"state\": \"New York\", \"sma7d\": 4.857}, {\"date\": \"2020-09-10T00:00:00\", \"totalTestResultsIncrease\": 76813.0, \"positiveIncrease\": 757.0, \"death\": 25377.0, \"deathIncrease\": 7.0, \"positiveRate\": 0.01, \"state\": \"New York\", \"sma7d\": 4.857}, {\"date\": \"2020-09-11T00:00:00\", \"totalTestResultsIncrease\": 89722.0, \"positiveIncrease\": 880.0, \"death\": 25382.0, \"deathIncrease\": 5.0, \"positiveRate\": 0.01, \"state\": \"New York\", \"sma7d\": 4.857}, {\"date\": \"2020-09-12T00:00:00\", \"totalTestResultsIncrease\": 102925.0, \"positiveIncrease\": 849.0, \"death\": 25384.0, \"deathIncrease\": 2.0, \"positiveRate\": 0.008, \"state\": \"New York\", \"sma7d\": 4.857}, {\"date\": \"2020-09-13T00:00:00\", \"totalTestResultsIncrease\": 72668.0, \"positiveIncrease\": 725.0, \"death\": 25390.0, \"deathIncrease\": 6.0, \"positiveRate\": 0.01, \"state\": \"New York\", \"sma7d\": 4.429}, {\"date\": \"2020-09-14T00:00:00\", \"totalTestResultsIncrease\": 63358.0, \"positiveIncrease\": 583.0, \"death\": 25394.0, \"deathIncrease\": 4.0, \"positiveRate\": 0.009, \"state\": \"New York\", \"sma7d\": 4.714}, {\"date\": \"2020-09-15T00:00:00\", \"totalTestResultsIncrease\": 73678.0, \"positiveIncrease\": 766.0, \"death\": 25405.0, \"deathIncrease\": 11.0, \"positiveRate\": 0.01, \"state\": \"New York\", \"sma7d\": 5.429}, {\"date\": \"2020-09-16T00:00:00\", \"totalTestResultsIncrease\": 75087.0, \"positiveIncrease\": 652.0, \"death\": 25410.0, \"deathIncrease\": 5.0, \"positiveRate\": 0.009, \"state\": \"New York\", \"sma7d\": 5.714}, {\"date\": \"2020-09-17T00:00:00\", \"totalTestResultsIncrease\": 91504.0, \"positiveIncrease\": 896.0, \"death\": 25413.0, \"deathIncrease\": 3.0, \"positiveRate\": 0.01, \"state\": \"New York\", \"sma7d\": 5.143}, {\"date\": \"2020-09-18T00:00:00\", \"totalTestResultsIncrease\": 89727.0, \"positiveIncrease\": 790.0, \"death\": 25423.0, \"deathIncrease\": 10.0, \"positiveRate\": 0.009, \"state\": \"New York\", \"sma7d\": 5.857}, {\"date\": \"2020-09-19T00:00:00\", \"totalTestResultsIncrease\": 110444.0, \"positiveIncrease\": 986.0, \"death\": 25425.0, \"deathIncrease\": 2.0, \"positiveRate\": 0.009, \"state\": \"New York\", \"sma7d\": 5.857}, {\"date\": \"2020-09-20T00:00:00\", \"totalTestResultsIncrease\": 100355.0, \"positiveIncrease\": 862.0, \"death\": 25427.0, \"deathIncrease\": 2.0, \"positiveRate\": 0.009, \"state\": \"New York\", \"sma7d\": 5.286}, {\"date\": \"2020-09-21T00:00:00\", \"totalTestResultsIncrease\": 58319.0, \"positiveIncrease\": 573.0, \"death\": 25428.0, \"deathIncrease\": 1.0, \"positiveRate\": 0.01, \"state\": \"New York\", \"sma7d\": 4.857}, {\"date\": \"2020-09-22T00:00:00\", \"totalTestResultsIncrease\": 83997.0, \"positiveIncrease\": 754.0, \"death\": 25432.0, \"deathIncrease\": 4.0, \"positiveRate\": 0.009, \"state\": \"New York\", \"sma7d\": 3.857}, {\"date\": \"2020-09-23T00:00:00\", \"totalTestResultsIncrease\": 70930.0, \"positiveIncrease\": 665.0, \"death\": 25437.0, \"deathIncrease\": 5.0, \"positiveRate\": 0.009, \"state\": \"New York\", \"sma7d\": 3.857}, {\"date\": \"2020-09-24T00:00:00\", \"totalTestResultsIncrease\": 92953.0, \"positiveIncrease\": 955.0, \"death\": 25439.0, \"deathIncrease\": 2.0, \"positiveRate\": 0.01, \"state\": \"New York\", \"sma7d\": 3.714}, {\"date\": \"2020-09-25T00:00:00\", \"totalTestResultsIncrease\": 94818.0, \"positiveIncrease\": 908.0, \"death\": 25446.0, \"deathIncrease\": 7.0, \"positiveRate\": 0.01, \"state\": \"New York\", \"sma7d\": 3.286}, {\"date\": \"2020-09-26T00:00:00\", \"totalTestResultsIncrease\": 99953.0, \"positiveIncrease\": 1005.0, \"death\": 25450.0, \"deathIncrease\": 4.0, \"positiveRate\": 0.01, \"state\": \"New York\", \"sma7d\": 3.571}, {\"date\": \"2020-09-27T00:00:00\", \"totalTestResultsIncrease\": 84770.0, \"positiveIncrease\": 866.0, \"death\": 25456.0, \"deathIncrease\": 6.0, \"positiveRate\": 0.01, \"state\": \"New York\", \"sma7d\": 4.143}, {\"date\": \"2020-09-28T00:00:00\", \"totalTestResultsIncrease\": 52936.0, \"positiveIncrease\": 834.0, \"death\": 25468.0, \"deathIncrease\": 12.0, \"positiveRate\": 0.016, \"state\": \"New York\", \"sma7d\": 5.714}, {\"date\": \"2020-09-29T00:00:00\", \"totalTestResultsIncrease\": 88231.0, \"positiveIncrease\": 1189.0, \"death\": 25470.0, \"deathIncrease\": 2.0, \"positiveRate\": 0.013, \"state\": \"New York\", \"sma7d\": 5.429}, {\"date\": \"2020-09-30T00:00:00\", \"totalTestResultsIncrease\": 97960.0, \"positiveIncrease\": 1000.0, \"death\": 25479.0, \"deathIncrease\": 9.0, \"positiveRate\": 0.01, \"state\": \"New York\", \"sma7d\": 6.0}, {\"date\": \"2020-10-01T00:00:00\", \"totalTestResultsIncrease\": 109218.0, \"positiveIncrease\": 1382.0, \"death\": 25490.0, \"deathIncrease\": 11.0, \"positiveRate\": 0.013, \"state\": \"New York\", \"sma7d\": 7.286}, {\"date\": \"2020-10-02T00:00:00\", \"totalTestResultsIncrease\": 119493.0, \"positiveIncrease\": 1598.0, \"death\": 25497.0, \"deathIncrease\": 7.0, \"positiveRate\": 0.013, \"state\": \"New York\", \"sma7d\": 7.286}, {\"date\": \"2020-10-03T00:00:00\", \"totalTestResultsIncrease\": 134267.0, \"positiveIncrease\": 1731.0, \"death\": 25505.0, \"deathIncrease\": 8.0, \"positiveRate\": 0.013, \"state\": \"New York\", \"sma7d\": 7.857}, {\"date\": \"2020-10-04T00:00:00\", \"totalTestResultsIncrease\": 110329.0, \"positiveIncrease\": 1222.0, \"death\": 25519.0, \"deathIncrease\": 14.0, \"positiveRate\": 0.011, \"state\": \"New York\", \"sma7d\": 9.0}, {\"date\": \"2020-10-05T00:00:00\", \"totalTestResultsIncrease\": 76404.0, \"positiveIncrease\": 933.0, \"death\": 25527.0, \"deathIncrease\": 8.0, \"positiveRate\": 0.012, \"state\": \"New York\", \"sma7d\": 8.429}, {\"date\": \"2020-10-06T00:00:00\", \"totalTestResultsIncrease\": 96359.0, \"positiveIncrease\": 1393.0, \"death\": 25536.0, \"deathIncrease\": 9.0, \"positiveRate\": 0.014, \"state\": \"New York\", \"sma7d\": 9.429}, {\"date\": \"2020-10-07T00:00:00\", \"totalTestResultsIncrease\": 108246.0, \"positiveIncrease\": 1360.0, \"death\": 25545.0, \"deathIncrease\": 9.0, \"positiveRate\": 0.013, \"state\": \"New York\", \"sma7d\": 9.429}, {\"date\": \"2020-10-08T00:00:00\", \"totalTestResultsIncrease\": 145811.0, \"positiveIncrease\": 1836.0, \"death\": 25555.0, \"deathIncrease\": 10.0, \"positiveRate\": 0.013, \"state\": \"New York\", \"sma7d\": 9.286}, {\"date\": \"2020-10-09T00:00:00\", \"totalTestResultsIncrease\": 139300.0, \"positiveIncrease\": 1592.0, \"death\": 25561.0, \"deathIncrease\": 6.0, \"positiveRate\": 0.011, \"state\": \"New York\", \"sma7d\": 9.143}, {\"date\": \"2020-10-10T00:00:00\", \"totalTestResultsIncrease\": 134579.0, \"positiveIncrease\": 1447.0, \"death\": 25569.0, \"deathIncrease\": 8.0, \"positiveRate\": 0.011, \"state\": \"New York\", \"sma7d\": 9.143}, {\"date\": \"2020-10-11T00:00:00\", \"totalTestResultsIncrease\": 118254.0, \"positiveIncrease\": 1143.0, \"death\": 25574.0, \"deathIncrease\": 5.0, \"positiveRate\": 0.01, \"state\": \"New York\", \"sma7d\": 7.857}, {\"date\": \"2020-10-12T00:00:00\", \"totalTestResultsIncrease\": 91793.0, \"positiveIncrease\": 1029.0, \"death\": 25587.0, \"deathIncrease\": 13.0, \"positiveRate\": 0.011, \"state\": \"New York\", \"sma7d\": 8.571}, {\"date\": \"2020-10-13T00:00:00\", \"totalTestResultsIncrease\": 99070.0, \"positiveIncrease\": 1393.0, \"death\": 25598.0, \"deathIncrease\": 11.0, \"positiveRate\": 0.014, \"state\": \"New York\", \"sma7d\": 8.857}, {\"date\": \"2020-10-14T00:00:00\", \"totalTestResultsIncrease\": 111744.0, \"positiveIncrease\": 1232.0, \"death\": 25605.0, \"deathIncrease\": 7.0, \"positiveRate\": 0.011, \"state\": \"New York\", \"sma7d\": 8.571}, {\"date\": \"2020-10-15T00:00:00\", \"totalTestResultsIncrease\": 133212.0, \"positiveIncrease\": 1460.0, \"death\": 25618.0, \"deathIncrease\": 13.0, \"positiveRate\": 0.011, \"state\": \"New York\", \"sma7d\": 9.0}, {\"date\": \"2020-10-16T00:00:00\", \"totalTestResultsIncrease\": 136039.0, \"positiveIncrease\": 1707.0, \"death\": 25628.0, \"deathIncrease\": 10.0, \"positiveRate\": 0.013, \"state\": \"New York\", \"sma7d\": 9.571}, {\"date\": \"2020-10-17T00:00:00\", \"totalTestResultsIncrease\": 159972.0, \"positiveIncrease\": 1784.0, \"death\": 25637.0, \"deathIncrease\": 9.0, \"positiveRate\": 0.011, \"state\": \"New York\", \"sma7d\": 9.714}, {\"date\": \"2020-10-18T00:00:00\", \"totalTestResultsIncrease\": 128763.0, \"positiveIncrease\": 1390.0, \"death\": 25644.0, \"deathIncrease\": 7.0, \"positiveRate\": 0.011, \"state\": \"New York\", \"sma7d\": 10.0}, {\"date\": \"2020-10-19T00:00:00\", \"totalTestResultsIncrease\": 82009.0, \"positiveIncrease\": 998.0, \"death\": 25659.0, \"deathIncrease\": 15.0, \"positiveRate\": 0.012, \"state\": \"New York\", \"sma7d\": 10.286}, {\"date\": \"2020-10-20T00:00:00\", \"totalTestResultsIncrease\": 90540.0, \"positiveIncrease\": 1201.0, \"death\": 25672.0, \"deathIncrease\": 13.0, \"positiveRate\": 0.013, \"state\": \"New York\", \"sma7d\": 10.571}, {\"date\": \"2020-10-21T00:00:00\", \"totalTestResultsIncrease\": 124789.0, \"positiveIncrease\": 2026.0, \"death\": 25679.0, \"deathIncrease\": 7.0, \"positiveRate\": 0.016, \"state\": \"New York\", \"sma7d\": 10.571}, {\"date\": \"2020-10-22T00:00:00\", \"totalTestResultsIncrease\": 135341.0, \"positiveIncrease\": 1628.0, \"death\": 25694.0, \"deathIncrease\": 15.0, \"positiveRate\": 0.012, \"state\": \"New York\", \"sma7d\": 10.857}, {\"date\": \"2020-10-23T00:00:00\", \"totalTestResultsIncrease\": 141508.0, \"positiveIncrease\": 1637.0, \"death\": 25705.0, \"deathIncrease\": 11.0, \"positiveRate\": 0.012, \"state\": \"New York\", \"sma7d\": 11.0}, {\"date\": \"2020-10-24T00:00:00\", \"totalTestResultsIncrease\": 156940.0, \"positiveIncrease\": 2061.0, \"death\": 25718.0, \"deathIncrease\": 13.0, \"positiveRate\": 0.013, \"state\": \"New York\", \"sma7d\": 11.571}, {\"date\": \"2020-10-25T00:00:00\", \"totalTestResultsIncrease\": 120830.0, \"positiveIncrease\": 1632.0, \"death\": 25730.0, \"deathIncrease\": 12.0, \"positiveRate\": 0.014, \"state\": \"New York\", \"sma7d\": 12.286}, {\"date\": \"2020-10-26T00:00:00\", \"totalTestResultsIncrease\": 82117.0, \"positiveIncrease\": 1191.0, \"death\": 25742.0, \"deathIncrease\": 12.0, \"positiveRate\": 0.015, \"state\": \"New York\", \"sma7d\": 11.857}, {\"date\": \"2020-10-27T00:00:00\", \"totalTestResultsIncrease\": 111618.0, \"positiveIncrease\": 1991.0, \"death\": 25758.0, \"deathIncrease\": 16.0, \"positiveRate\": 0.018, \"state\": \"New York\", \"sma7d\": 12.286}, {\"date\": \"2020-10-28T00:00:00\", \"totalTestResultsIncrease\": 129660.0, \"positiveIncrease\": 2031.0, \"death\": 25773.0, \"deathIncrease\": 15.0, \"positiveRate\": 0.016, \"state\": \"New York\", \"sma7d\": 13.429}, {\"date\": \"2020-10-29T00:00:00\", \"totalTestResultsIncrease\": 168353.0, \"positiveIncrease\": 2499.0, \"death\": 25792.0, \"deathIncrease\": 19.0, \"positiveRate\": 0.015, \"state\": \"New York\", \"sma7d\": 14.0}]}}, {\"mode\": \"vega-lite\"});\n",
       "</script>"
      ],
      "text/plain": [
       "alt.LayerChart(...)"
      ]
     },
     "execution_count": 13,
     "metadata": {},
     "output_type": "execute_result"
    }
   ],
   "source": [
    "create_plot(ny, 'deathIncrease')"
   ]
  },
  {
   "cell_type": "markdown",
   "metadata": {
    "papermill": {
     "duration": 0.017146,
     "end_time": "2020-10-30T22:33:45.606500",
     "exception": false,
     "start_time": "2020-10-30T22:33:45.589354",
     "status": "completed"
    },
    "tags": []
   },
   "source": [
    "## Non Tri-State"
   ]
  },
  {
   "cell_type": "code",
   "execution_count": 14,
   "metadata": {
    "execution": {
     "iopub.execute_input": "2020-10-30T22:33:45.645367Z",
     "iopub.status.busy": "2020-10-30T22:33:45.644819Z",
     "iopub.status.idle": "2020-10-30T22:33:45.942938Z",
     "shell.execute_reply": "2020-10-30T22:33:45.942248Z"
    },
    "papermill": {
     "duration": 0.318792,
     "end_time": "2020-10-30T22:33:45.943116",
     "exception": false,
     "start_time": "2020-10-30T22:33:45.624324",
     "status": "completed"
    },
    "tags": []
   },
   "outputs": [],
   "source": [
    "non_tristate = create_df(df, lambda d: ~d['state'].isin(['CT','NJ','NY']), 'Non Tri-State')"
   ]
  },
  {
   "cell_type": "code",
   "execution_count": 15,
   "metadata": {
    "execution": {
     "iopub.execute_input": "2020-10-30T22:33:45.993374Z",
     "iopub.status.busy": "2020-10-30T22:33:45.987237Z",
     "iopub.status.idle": "2020-10-30T22:33:46.077270Z",
     "shell.execute_reply": "2020-10-30T22:33:46.077695Z"
    },
    "papermill": {
     "duration": 0.116666,
     "end_time": "2020-10-30T22:33:46.077855",
     "exception": false,
     "start_time": "2020-10-30T22:33:45.961189",
     "status": "completed"
    },
    "tags": []
   },
   "outputs": [
    {
     "data": {
      "text/html": [
       "\n",
       "<div id=\"altair-viz-a17e7d67638849f2bc152c66b5bdc716\"></div>\n",
       "<script type=\"text/javascript\">\n",
       "  (function(spec, embedOpt){\n",
       "    let outputDiv = document.currentScript.previousElementSibling;\n",
       "    if (outputDiv.id !== \"altair-viz-a17e7d67638849f2bc152c66b5bdc716\") {\n",
       "      outputDiv = document.getElementById(\"altair-viz-a17e7d67638849f2bc152c66b5bdc716\");\n",
       "    }\n",
       "    const paths = {\n",
       "      \"vega\": \"https://cdn.jsdelivr.net/npm//vega@5?noext\",\n",
       "      \"vega-lib\": \"https://cdn.jsdelivr.net/npm//vega-lib?noext\",\n",
       "      \"vega-lite\": \"https://cdn.jsdelivr.net/npm//vega-lite@4.8.1?noext\",\n",
       "      \"vega-embed\": \"https://cdn.jsdelivr.net/npm//vega-embed@6?noext\",\n",
       "    };\n",
       "\n",
       "    function loadScript(lib) {\n",
       "      return new Promise(function(resolve, reject) {\n",
       "        var s = document.createElement('script');\n",
       "        s.src = paths[lib];\n",
       "        s.async = true;\n",
       "        s.onload = () => resolve(paths[lib]);\n",
       "        s.onerror = () => reject(`Error loading script: ${paths[lib]}`);\n",
       "        document.getElementsByTagName(\"head\")[0].appendChild(s);\n",
       "      });\n",
       "    }\n",
       "\n",
       "    function showError(err) {\n",
       "      outputDiv.innerHTML = `<div class=\"error\" style=\"color:red;\">${err}</div>`;\n",
       "      throw err;\n",
       "    }\n",
       "\n",
       "    function displayChart(vegaEmbed) {\n",
       "      vegaEmbed(outputDiv, spec, embedOpt)\n",
       "        .catch(err => showError(`Javascript Error: ${err.message}<br>This usually means there's a typo in your chart specification. See the javascript console for the full traceback.`));\n",
       "    }\n",
       "\n",
       "    if(typeof define === \"function\" && define.amd) {\n",
       "      requirejs.config({paths});\n",
       "      require([\"vega-embed\"], displayChart, err => showError(`Error loading script: ${err.message}`));\n",
       "    } else if (typeof vegaEmbed === \"function\") {\n",
       "      displayChart(vegaEmbed);\n",
       "    } else {\n",
       "      loadScript(\"vega\")\n",
       "        .then(() => loadScript(\"vega-lite\"))\n",
       "        .then(() => loadScript(\"vega-embed\"))\n",
       "        .catch(showError)\n",
       "        .then(() => displayChart(vegaEmbed));\n",
       "    }\n",
       "  })({\"config\": {\"view\": {\"continuousWidth\": 400, \"continuousHeight\": 300}}, \"layer\": [{\"layer\": [{\"mark\": {\"type\": \"point\", \"size\": 75}, \"encoding\": {\"tooltip\": [{\"type\": \"temporal\", \"field\": \"date\"}, {\"type\": \"quantitative\", \"field\": \"positiveIncrease\"}, {\"type\": \"quantitative\", \"field\": \"sma7d\"}], \"x\": {\"type\": \"temporal\", \"field\": \"date\"}, \"y\": {\"type\": \"quantitative\", \"field\": \"positiveIncrease\"}}, \"selection\": {\"selector014\": {\"type\": \"interval\", \"bind\": \"scales\", \"encodings\": [\"x\", \"y\"]}}}, {\"mark\": {\"type\": \"line\", \"color\": \"purple\"}, \"encoding\": {\"x\": {\"type\": \"temporal\", \"field\": \"date\"}, \"y\": {\"type\": \"quantitative\", \"field\": \"sma7d\"}}}]}, {\"mark\": {\"type\": \"rule\", \"color\": \"#aaa\"}, \"encoding\": {\"x\": {\"type\": \"temporal\", \"field\": \"date\"}}, \"transform\": [{\"filter\": {\"selection\": \"selector013\"}}]}, {\"mark\": \"circle\", \"encoding\": {\"opacity\": {\"condition\": {\"value\": 1, \"selection\": \"selector013\"}, \"value\": 0}, \"tooltip\": [{\"type\": \"temporal\", \"field\": \"date\"}, {\"type\": \"quantitative\", \"field\": \"positiveIncrease\"}, {\"type\": \"quantitative\", \"field\": \"sma7d\"}], \"x\": {\"type\": \"temporal\", \"field\": \"date\"}, \"y\": {\"type\": \"quantitative\", \"field\": \"positiveIncrease\"}}, \"selection\": {\"selector013\": {\"type\": \"single\", \"encodings\": [\"x\"], \"on\": \"mouseover\", \"nearest\": true, \"empty\": \"none\"}}}, {\"mark\": {\"type\": \"text\", \"align\": \"left\", \"dx\": 5, \"dy\": -5, \"stroke\": \"white\", \"strokeWidth\": 2}, \"encoding\": {\"text\": {\"type\": \"quantitative\", \"field\": \"positiveIncrease\"}, \"tooltip\": [{\"type\": \"temporal\", \"field\": \"date\"}, {\"type\": \"quantitative\", \"field\": \"positiveIncrease\"}, {\"type\": \"quantitative\", \"field\": \"sma7d\"}], \"x\": {\"type\": \"temporal\", \"field\": \"date\"}, \"y\": {\"type\": \"quantitative\", \"field\": \"positiveIncrease\"}}, \"transform\": [{\"filter\": {\"selection\": \"selector013\"}}]}, {\"mark\": {\"type\": \"text\", \"align\": \"left\", \"dx\": 5, \"dy\": -5}, \"encoding\": {\"text\": {\"type\": \"quantitative\", \"field\": \"positiveIncrease\"}, \"tooltip\": [{\"type\": \"temporal\", \"field\": \"date\"}, {\"type\": \"quantitative\", \"field\": \"positiveIncrease\"}, {\"type\": \"quantitative\", \"field\": \"sma7d\"}], \"x\": {\"type\": \"temporal\", \"field\": \"date\"}, \"y\": {\"type\": \"quantitative\", \"field\": \"positiveIncrease\"}}, \"transform\": [{\"filter\": {\"selection\": \"selector013\"}}]}], \"data\": {\"name\": \"data-1ea579f0f9ab88c198eff5074c13b23f\"}, \"height\": 400, \"title\": \"Non Tri-State: positiveIncrease\", \"width\": 500, \"$schema\": \"https://vega.github.io/schema/vega-lite/v4.8.1.json\", \"datasets\": {\"data-1ea579f0f9ab88c198eff5074c13b23f\": [{\"date\": \"2020-09-05T00:00:00\", \"totalTestResultsIncrease\": 866494.0, \"positiveIncrease\": 43716.0, \"death\": 134855.0, \"deathIncrease\": 909.0, \"positiveRate\": 0.05, \"state\": \"Non Tri-State\", \"sma7d\": 39438.429}, {\"date\": \"2020-09-06T00:00:00\", \"totalTestResultsIncrease\": 708542.0, \"positiveIncrease\": 32026.0, \"death\": 135291.0, \"deathIncrease\": 436.0, \"positiveRate\": 0.045, \"state\": \"Non Tri-State\", \"sma7d\": 38517.0}, {\"date\": \"2020-09-07T00:00:00\", \"totalTestResultsIncrease\": 551844.0, \"positiveIncrease\": 27804.0, \"death\": 135512.0, \"deathIncrease\": 221.0, \"positiveRate\": 0.05, \"state\": \"Non Tri-State\", \"sma7d\": 38202.143}, {\"date\": \"2020-09-08T00:00:00\", \"totalTestResultsIncrease\": 459650.0, \"positiveIncrease\": 20946.0, \"death\": 135853.0, \"deathIncrease\": 341.0, \"positiveRate\": 0.046, \"state\": \"Non Tri-State\", \"sma7d\": 35317.286}, {\"date\": \"2020-09-09T00:00:00\", \"totalTestResultsIncrease\": 614001.0, \"positiveIncrease\": 30076.0, \"death\": 136926.0, \"deathIncrease\": 1073.0, \"positiveRate\": 0.049, \"state\": \"Non Tri-State\", \"sma7d\": 35414.429}, {\"date\": \"2020-09-10T00:00:00\", \"totalTestResultsIncrease\": 662784.0, \"positiveIncrease\": 36132.0, \"death\": 138080.0, \"deathIncrease\": 1154.0, \"positiveRate\": 0.055, \"state\": \"Non Tri-State\", \"sma7d\": 34395.857}, {\"date\": \"2020-09-11T00:00:00\", \"totalTestResultsIncrease\": 781583.0, \"positiveIncrease\": 43294.0, \"death\": 139082.0, \"deathIncrease\": 1002.0, \"positiveRate\": 0.055, \"state\": \"Non Tri-State\", \"sma7d\": 33427.714}, {\"date\": \"2020-09-12T00:00:00\", \"totalTestResultsIncrease\": 890907.0, \"positiveIncrease\": 40770.0, \"death\": 139886.0, \"deathIncrease\": 804.0, \"positiveRate\": 0.046, \"state\": \"Non Tri-State\", \"sma7d\": 33006.857}, {\"date\": \"2020-09-13T00:00:00\", \"totalTestResultsIncrease\": 672604.0, \"positiveIncrease\": 33403.0, \"death\": 140265.0, \"deathIncrease\": 379.0, \"positiveRate\": 0.05, \"state\": \"Non Tri-State\", \"sma7d\": 33203.571}, {\"date\": \"2020-09-14T00:00:00\", \"totalTestResultsIncrease\": 367408.0, \"positiveIncrease\": 32360.0, \"death\": 140656.0, \"deathIncrease\": 391.0, \"positiveRate\": 0.088, \"state\": \"Non Tri-State\", \"sma7d\": 33854.429}, {\"date\": \"2020-09-15T00:00:00\", \"totalTestResultsIncrease\": 705999.0, \"positiveIncrease\": 33734.0, \"death\": 141667.0, \"deathIncrease\": 1011.0, \"positiveRate\": 0.048, \"state\": \"Non Tri-State\", \"sma7d\": 35681.286}, {\"date\": \"2020-09-16T00:00:00\", \"totalTestResultsIncrease\": 725234.0, \"positiveIncrease\": 38779.0, \"death\": 142851.0, \"deathIncrease\": 1184.0, \"positiveRate\": 0.053, \"state\": \"Non Tri-State\", \"sma7d\": 36924.571}, {\"date\": \"2020-09-17T00:00:00\", \"totalTestResultsIncrease\": 828076.0, \"positiveIncrease\": 41891.0, \"death\": 143707.0, \"deathIncrease\": 856.0, \"positiveRate\": 0.051, \"state\": \"Non Tri-State\", \"sma7d\": 37747.286}, {\"date\": \"2020-09-18T00:00:00\", \"totalTestResultsIncrease\": 963788.0, \"positiveIncrease\": 46041.0, \"death\": 144590.0, \"deathIncrease\": 883.0, \"positiveRate\": 0.048, \"state\": \"Non Tri-State\", \"sma7d\": 38139.714}, {\"date\": \"2020-09-19T00:00:00\", \"totalTestResultsIncrease\": 1065963.0, \"positiveIncrease\": 44054.0, \"death\": 145325.0, \"deathIncrease\": 735.0, \"positiveRate\": 0.041, \"state\": \"Non Tri-State\", \"sma7d\": 38608.857}, {\"date\": \"2020-09-20T00:00:00\", \"totalTestResultsIncrease\": 818201.0, \"positiveIncrease\": 34956.0, \"death\": 145647.0, \"deathIncrease\": 322.0, \"positiveRate\": 0.043, \"state\": \"Non Tri-State\", \"sma7d\": 38830.714}, {\"date\": \"2020-09-21T00:00:00\", \"totalTestResultsIncrease\": 671105.0, \"positiveIncrease\": 37996.0, \"death\": 145928.0, \"deathIncrease\": 281.0, \"positiveRate\": 0.057, \"state\": \"Non Tri-State\", \"sma7d\": 39635.857}, {\"date\": \"2020-09-22T00:00:00\", \"totalTestResultsIncrease\": 710317.0, \"positiveIncrease\": 48067.0, \"death\": 146770.0, \"deathIncrease\": 842.0, \"positiveRate\": 0.068, \"state\": \"Non Tri-State\", \"sma7d\": 41683.429}, {\"date\": \"2020-09-23T00:00:00\", \"totalTestResultsIncrease\": 904278.0, \"positiveIncrease\": 37343.0, \"death\": 147915.0, \"deathIncrease\": 1145.0, \"positiveRate\": 0.041, \"state\": \"Non Tri-State\", \"sma7d\": 41478.286}, {\"date\": \"2020-09-24T00:00:00\", \"totalTestResultsIncrease\": 900422.0, \"positiveIncrease\": 42032.0, \"death\": 148823.0, \"deathIncrease\": 908.0, \"positiveRate\": 0.047, \"state\": \"Non Tri-State\", \"sma7d\": 41498.429}, {\"date\": \"2020-09-25T00:00:00\", \"totalTestResultsIncrease\": 977399.0, \"positiveIncrease\": 53917.0, \"death\": 149652.0, \"deathIncrease\": 829.0, \"positiveRate\": 0.055, \"state\": \"Non Tri-State\", \"sma7d\": 42623.571}, {\"date\": \"2020-09-26T00:00:00\", \"totalTestResultsIncrease\": 989586.0, \"positiveIncrease\": 46037.0, \"death\": 150511.0, \"deathIncrease\": 859.0, \"positiveRate\": 0.047, \"state\": \"Non Tri-State\", \"sma7d\": 42906.857}, {\"date\": \"2020-09-27T00:00:00\", \"totalTestResultsIncrease\": 820468.0, \"positiveIncrease\": 33855.0, \"death\": 150806.0, \"deathIncrease\": 295.0, \"positiveRate\": 0.041, \"state\": \"Non Tri-State\", \"sma7d\": 42749.571}, {\"date\": \"2020-09-28T00:00:00\", \"totalTestResultsIncrease\": 1006640.0, \"positiveIncrease\": 34561.0, \"death\": 151051.0, \"deathIncrease\": 245.0, \"positiveRate\": 0.034, \"state\": \"Non Tri-State\", \"sma7d\": 42258.857}, {\"date\": \"2020-09-29T00:00:00\", \"totalTestResultsIncrease\": 815590.0, \"positiveIncrease\": 35063.0, \"death\": 151776.0, \"deathIncrease\": 725.0, \"positiveRate\": 0.043, \"state\": \"Non Tri-State\", \"sma7d\": 40401.143}, {\"date\": \"2020-09-30T00:00:00\", \"totalTestResultsIncrease\": 747838.0, \"positiveIncrease\": 42423.0, \"death\": 152816.0, \"deathIncrease\": 1040.0, \"positiveRate\": 0.057, \"state\": \"Non Tri-State\", \"sma7d\": 41126.857}, {\"date\": \"2020-10-01T00:00:00\", \"totalTestResultsIncrease\": 878089.0, \"positiveIncrease\": 43429.0, \"death\": 153648.0, \"deathIncrease\": 832.0, \"positiveRate\": 0.049, \"state\": \"Non Tri-State\", \"sma7d\": 41326.429}, {\"date\": \"2020-10-02T00:00:00\", \"totalTestResultsIncrease\": 992002.0, \"positiveIncrease\": 46591.0, \"death\": 154470.0, \"deathIncrease\": 822.0, \"positiveRate\": 0.047, \"state\": \"Non Tri-State\", \"sma7d\": 40279.857}, {\"date\": \"2020-10-03T00:00:00\", \"totalTestResultsIncrease\": 965093.0, \"positiveIncrease\": 48660.0, \"death\": 155199.0, \"deathIncrease\": 729.0, \"positiveRate\": 0.05, \"state\": \"Non Tri-State\", \"sma7d\": 40654.571}, {\"date\": \"2020-10-04T00:00:00\", \"totalTestResultsIncrease\": 857670.0, \"positiveIncrease\": 36509.0, \"death\": 155547.0, \"deathIncrease\": 348.0, \"positiveRate\": 0.043, \"state\": \"Non Tri-State\", \"sma7d\": 41033.714}, {\"date\": \"2020-10-05T00:00:00\", \"totalTestResultsIncrease\": 840122.0, \"positiveIncrease\": 35857.0, \"death\": 155859.0, \"deathIncrease\": 312.0, \"positiveRate\": 0.043, \"state\": \"Non Tri-State\", \"sma7d\": 41218.857}, {\"date\": \"2020-10-06T00:00:00\", \"totalTestResultsIncrease\": 792519.0, \"positiveIncrease\": 36468.0, \"death\": 156471.0, \"deathIncrease\": 612.0, \"positiveRate\": 0.046, \"state\": \"Non Tri-State\", \"sma7d\": 41419.571}, {\"date\": \"2020-10-07T00:00:00\", \"totalTestResultsIncrease\": 834519.0, \"positiveIncrease\": 48573.0, \"death\": 157372.0, \"deathIncrease\": 901.0, \"positiveRate\": 0.058, \"state\": \"Non Tri-State\", \"sma7d\": 42298.143}, {\"date\": \"2020-10-08T00:00:00\", \"totalTestResultsIncrease\": 915758.0, \"positiveIncrease\": 51774.0, \"death\": 158335.0, \"deathIncrease\": 963.0, \"positiveRate\": 0.057, \"state\": \"Non Tri-State\", \"sma7d\": 43490.286}, {\"date\": \"2020-10-09T00:00:00\", \"totalTestResultsIncrease\": 1008211.0, \"positiveIncrease\": 54258.0, \"death\": 159215.0, \"deathIncrease\": 880.0, \"positiveRate\": 0.054, \"state\": \"Non Tri-State\", \"sma7d\": 44585.571}, {\"date\": \"2020-10-10T00:00:00\", \"totalTestResultsIncrease\": 1077862.0, \"positiveIncrease\": 55181.0, \"death\": 159865.0, \"deathIncrease\": 650.0, \"positiveRate\": 0.051, \"state\": \"Non Tri-State\", \"sma7d\": 45517.143}, {\"date\": \"2020-10-11T00:00:00\", \"totalTestResultsIncrease\": 964324.0, \"positiveIncrease\": 44896.0, \"death\": 160323.0, \"deathIncrease\": 458.0, \"positiveRate\": 0.047, \"state\": \"Non Tri-State\", \"sma7d\": 46715.286}, {\"date\": \"2020-10-12T00:00:00\", \"totalTestResultsIncrease\": 815296.0, \"positiveIncrease\": 40273.0, \"death\": 160594.0, \"deathIncrease\": 271.0, \"positiveRate\": 0.049, \"state\": \"Non Tri-State\", \"sma7d\": 47346.143}, {\"date\": \"2020-10-13T00:00:00\", \"totalTestResultsIncrease\": 927533.0, \"positiveIncrease\": 45618.0, \"death\": 161265.0, \"deathIncrease\": 671.0, \"positiveRate\": 0.049, \"state\": \"Non Tri-State\", \"sma7d\": 48653.286}, {\"date\": \"2020-10-14T00:00:00\", \"totalTestResultsIncrease\": 857473.0, \"positiveIncrease\": 54388.0, \"death\": 162056.0, \"deathIncrease\": 791.0, \"positiveRate\": 0.063, \"state\": \"Non Tri-State\", \"sma7d\": 49484.0}, {\"date\": \"2020-10-15T00:00:00\", \"totalTestResultsIncrease\": 919974.0, \"positiveIncrease\": 60504.0, \"death\": 162985.0, \"deathIncrease\": 929.0, \"positiveRate\": 0.066, \"state\": \"Non Tri-State\", \"sma7d\": 50731.143}, {\"date\": \"2020-10-16T00:00:00\", \"totalTestResultsIncrease\": 1030030.0, \"positiveIncrease\": 64721.0, \"death\": 163845.0, \"deathIncrease\": 860.0, \"positiveRate\": 0.063, \"state\": \"Non Tri-State\", \"sma7d\": 52225.857}, {\"date\": \"2020-10-17T00:00:00\", \"totalTestResultsIncrease\": 1101026.0, \"positiveIncrease\": 55149.0, \"death\": 164614.0, \"deathIncrease\": 769.0, \"positiveRate\": 0.05, \"state\": \"Non Tri-State\", \"sma7d\": 52221.286}, {\"date\": \"2020-10-18T00:00:00\", \"totalTestResultsIncrease\": 924220.0, \"positiveIncrease\": 46192.0, \"death\": 164993.0, \"deathIncrease\": 379.0, \"positiveRate\": 0.05, \"state\": \"Non Tri-State\", \"sma7d\": 52406.429}, {\"date\": \"2020-10-19T00:00:00\", \"totalTestResultsIncrease\": 898313.0, \"positiveIncrease\": 53751.0, \"death\": 165419.0, \"deathIncrease\": 426.0, \"positiveRate\": 0.06, \"state\": \"Non Tri-State\", \"sma7d\": 54331.857}, {\"date\": \"2020-10-20T00:00:00\", \"totalTestResultsIncrease\": 826139.0, \"positiveIncrease\": 57935.0, \"death\": 166220.0, \"deathIncrease\": 801.0, \"positiveRate\": 0.07, \"state\": \"Non Tri-State\", \"sma7d\": 56091.429}, {\"date\": \"2020-10-21T00:00:00\", \"totalTestResultsIncrease\": 770114.0, \"positiveIncrease\": 57240.0, \"death\": 167211.0, \"deathIncrease\": 991.0, \"positiveRate\": 0.074, \"state\": \"Non Tri-State\", \"sma7d\": 56498.857}, {\"date\": \"2020-10-22T00:00:00\", \"totalTestResultsIncrease\": 1027711.0, \"positiveIncrease\": 69715.0, \"death\": 168319.0, \"deathIncrease\": 1108.0, \"positiveRate\": 0.068, \"state\": \"Non Tri-State\", \"sma7d\": 57814.714}, {\"date\": \"2020-10-23T00:00:00\", \"totalTestResultsIncrease\": 1174007.0, \"positiveIncrease\": 79696.0, \"death\": 169207.0, \"deathIncrease\": 888.0, \"positiveRate\": 0.068, \"state\": \"Non Tri-State\", \"sma7d\": 59954.0}, {\"date\": \"2020-10-24T00:00:00\", \"totalTestResultsIncrease\": 1162665.0, \"positiveIncrease\": 78955.0, \"death\": 170076.0, \"deathIncrease\": 869.0, \"positiveRate\": 0.068, \"state\": \"Non Tri-State\", \"sma7d\": 63354.857}, {\"date\": \"2020-10-25T00:00:00\", \"totalTestResultsIncrease\": 1025189.0, \"positiveIncrease\": 62889.0, \"death\": 170437.0, \"deathIncrease\": 361.0, \"positiveRate\": 0.061, \"state\": \"Non Tri-State\", \"sma7d\": 65740.143}, {\"date\": \"2020-10-26T00:00:00\", \"totalTestResultsIncrease\": 957837.0, \"positiveIncrease\": 57820.0, \"death\": 170795.0, \"deathIncrease\": 358.0, \"positiveRate\": 0.06, \"state\": \"Non Tri-State\", \"sma7d\": 66321.429}, {\"date\": \"2020-10-27T00:00:00\", \"totalTestResultsIncrease\": 926466.0, \"positiveIncrease\": 68920.0, \"death\": 171690.0, \"deathIncrease\": 895.0, \"positiveRate\": 0.074, \"state\": \"Non Tri-State\", \"sma7d\": 67890.714}, {\"date\": \"2020-10-28T00:00:00\", \"totalTestResultsIncrease\": 902850.0, \"positiveIncrease\": 74474.0, \"death\": 172673.0, \"deathIncrease\": 983.0, \"positiveRate\": 0.082, \"state\": \"Non Tri-State\", \"sma7d\": 70352.714}, {\"date\": \"2020-10-29T00:00:00\", \"totalTestResultsIncrease\": 1085312.0, \"positiveIncrease\": 83084.0, \"death\": 173690.0, \"deathIncrease\": 1017.0, \"positiveRate\": 0.077, \"state\": \"Non Tri-State\", \"sma7d\": 72262.571}]}}, {\"mode\": \"vega-lite\"});\n",
       "</script>"
      ],
      "text/plain": [
       "alt.LayerChart(...)"
      ]
     },
     "execution_count": 15,
     "metadata": {},
     "output_type": "execute_result"
    }
   ],
   "source": [
    "create_plot(non_tristate, 'positiveIncrease')"
   ]
  },
  {
   "cell_type": "code",
   "execution_count": 16,
   "metadata": {
    "execution": {
     "iopub.execute_input": "2020-10-30T22:33:46.139248Z",
     "iopub.status.busy": "2020-10-30T22:33:46.116828Z",
     "iopub.status.idle": "2020-10-30T22:33:46.207608Z",
     "shell.execute_reply": "2020-10-30T22:33:46.207109Z"
    },
    "papermill": {
     "duration": 0.112267,
     "end_time": "2020-10-30T22:33:46.207737",
     "exception": false,
     "start_time": "2020-10-30T22:33:46.095470",
     "status": "completed"
    },
    "tags": []
   },
   "outputs": [
    {
     "data": {
      "text/html": [
       "\n",
       "<div id=\"altair-viz-043e9a9d535a42299aff97187dc19025\"></div>\n",
       "<script type=\"text/javascript\">\n",
       "  (function(spec, embedOpt){\n",
       "    let outputDiv = document.currentScript.previousElementSibling;\n",
       "    if (outputDiv.id !== \"altair-viz-043e9a9d535a42299aff97187dc19025\") {\n",
       "      outputDiv = document.getElementById(\"altair-viz-043e9a9d535a42299aff97187dc19025\");\n",
       "    }\n",
       "    const paths = {\n",
       "      \"vega\": \"https://cdn.jsdelivr.net/npm//vega@5?noext\",\n",
       "      \"vega-lib\": \"https://cdn.jsdelivr.net/npm//vega-lib?noext\",\n",
       "      \"vega-lite\": \"https://cdn.jsdelivr.net/npm//vega-lite@4.8.1?noext\",\n",
       "      \"vega-embed\": \"https://cdn.jsdelivr.net/npm//vega-embed@6?noext\",\n",
       "    };\n",
       "\n",
       "    function loadScript(lib) {\n",
       "      return new Promise(function(resolve, reject) {\n",
       "        var s = document.createElement('script');\n",
       "        s.src = paths[lib];\n",
       "        s.async = true;\n",
       "        s.onload = () => resolve(paths[lib]);\n",
       "        s.onerror = () => reject(`Error loading script: ${paths[lib]}`);\n",
       "        document.getElementsByTagName(\"head\")[0].appendChild(s);\n",
       "      });\n",
       "    }\n",
       "\n",
       "    function showError(err) {\n",
       "      outputDiv.innerHTML = `<div class=\"error\" style=\"color:red;\">${err}</div>`;\n",
       "      throw err;\n",
       "    }\n",
       "\n",
       "    function displayChart(vegaEmbed) {\n",
       "      vegaEmbed(outputDiv, spec, embedOpt)\n",
       "        .catch(err => showError(`Javascript Error: ${err.message}<br>This usually means there's a typo in your chart specification. See the javascript console for the full traceback.`));\n",
       "    }\n",
       "\n",
       "    if(typeof define === \"function\" && define.amd) {\n",
       "      requirejs.config({paths});\n",
       "      require([\"vega-embed\"], displayChart, err => showError(`Error loading script: ${err.message}`));\n",
       "    } else if (typeof vegaEmbed === \"function\") {\n",
       "      displayChart(vegaEmbed);\n",
       "    } else {\n",
       "      loadScript(\"vega\")\n",
       "        .then(() => loadScript(\"vega-lite\"))\n",
       "        .then(() => loadScript(\"vega-embed\"))\n",
       "        .catch(showError)\n",
       "        .then(() => displayChart(vegaEmbed));\n",
       "    }\n",
       "  })({\"config\": {\"view\": {\"continuousWidth\": 400, \"continuousHeight\": 300}}, \"layer\": [{\"layer\": [{\"mark\": {\"type\": \"point\", \"size\": 75}, \"encoding\": {\"tooltip\": [{\"type\": \"temporal\", \"field\": \"date\"}, {\"type\": \"quantitative\", \"field\": \"positiveRate\"}, {\"type\": \"quantitative\", \"field\": \"sma7d\"}], \"x\": {\"type\": \"temporal\", \"field\": \"date\"}, \"y\": {\"type\": \"quantitative\", \"field\": \"positiveRate\"}}, \"selection\": {\"selector016\": {\"type\": \"interval\", \"bind\": \"scales\", \"encodings\": [\"x\", \"y\"]}}}, {\"mark\": {\"type\": \"line\", \"color\": \"purple\"}, \"encoding\": {\"x\": {\"type\": \"temporal\", \"field\": \"date\"}, \"y\": {\"type\": \"quantitative\", \"field\": \"sma7d\"}}}]}, {\"mark\": {\"type\": \"rule\", \"color\": \"#aaa\"}, \"encoding\": {\"x\": {\"type\": \"temporal\", \"field\": \"date\"}}, \"transform\": [{\"filter\": {\"selection\": \"selector015\"}}]}, {\"mark\": \"circle\", \"encoding\": {\"opacity\": {\"condition\": {\"value\": 1, \"selection\": \"selector015\"}, \"value\": 0}, \"tooltip\": [{\"type\": \"temporal\", \"field\": \"date\"}, {\"type\": \"quantitative\", \"field\": \"positiveRate\"}, {\"type\": \"quantitative\", \"field\": \"sma7d\"}], \"x\": {\"type\": \"temporal\", \"field\": \"date\"}, \"y\": {\"type\": \"quantitative\", \"field\": \"positiveRate\"}}, \"selection\": {\"selector015\": {\"type\": \"single\", \"encodings\": [\"x\"], \"on\": \"mouseover\", \"nearest\": true, \"empty\": \"none\"}}}, {\"mark\": {\"type\": \"text\", \"align\": \"left\", \"dx\": 5, \"dy\": -5, \"stroke\": \"white\", \"strokeWidth\": 2}, \"encoding\": {\"text\": {\"type\": \"quantitative\", \"field\": \"positiveRate\"}, \"tooltip\": [{\"type\": \"temporal\", \"field\": \"date\"}, {\"type\": \"quantitative\", \"field\": \"positiveRate\"}, {\"type\": \"quantitative\", \"field\": \"sma7d\"}], \"x\": {\"type\": \"temporal\", \"field\": \"date\"}, \"y\": {\"type\": \"quantitative\", \"field\": \"positiveRate\"}}, \"transform\": [{\"filter\": {\"selection\": \"selector015\"}}]}, {\"mark\": {\"type\": \"text\", \"align\": \"left\", \"dx\": 5, \"dy\": -5}, \"encoding\": {\"text\": {\"type\": \"quantitative\", \"field\": \"positiveRate\"}, \"tooltip\": [{\"type\": \"temporal\", \"field\": \"date\"}, {\"type\": \"quantitative\", \"field\": \"positiveRate\"}, {\"type\": \"quantitative\", \"field\": \"sma7d\"}], \"x\": {\"type\": \"temporal\", \"field\": \"date\"}, \"y\": {\"type\": \"quantitative\", \"field\": \"positiveRate\"}}, \"transform\": [{\"filter\": {\"selection\": \"selector015\"}}]}], \"data\": {\"name\": \"data-d6798eab30421b43e5e9e6393fad40be\"}, \"height\": 400, \"title\": \"Non Tri-State: positiveRate\", \"width\": 500, \"$schema\": \"https://vega.github.io/schema/vega-lite/v4.8.1.json\", \"datasets\": {\"data-d6798eab30421b43e5e9e6393fad40be\": [{\"date\": \"2020-09-05T00:00:00\", \"totalTestResultsIncrease\": 866494.0, \"positiveIncrease\": 43716.0, \"death\": 134855.0, \"deathIncrease\": 909.0, \"positiveRate\": 0.05, \"state\": \"Non Tri-State\", \"sma7d\": 0.053}, {\"date\": \"2020-09-06T00:00:00\", \"totalTestResultsIncrease\": 708542.0, \"positiveIncrease\": 32026.0, \"death\": 135291.0, \"deathIncrease\": 436.0, \"positiveRate\": 0.045, \"state\": \"Non Tri-State\", \"sma7d\": 0.052}, {\"date\": \"2020-09-07T00:00:00\", \"totalTestResultsIncrease\": 551844.0, \"positiveIncrease\": 27804.0, \"death\": 135512.0, \"deathIncrease\": 221.0, \"positiveRate\": 0.05, \"state\": \"Non Tri-State\", \"sma7d\": 0.052}, {\"date\": \"2020-09-08T00:00:00\", \"totalTestResultsIncrease\": 459650.0, \"positiveIncrease\": 20946.0, \"death\": 135853.0, \"deathIncrease\": 341.0, \"positiveRate\": 0.046, \"state\": \"Non Tri-State\", \"sma7d\": 0.05}, {\"date\": \"2020-09-09T00:00:00\", \"totalTestResultsIncrease\": 614001.0, \"positiveIncrease\": 30076.0, \"death\": 136926.0, \"deathIncrease\": 1073.0, \"positiveRate\": 0.049, \"state\": \"Non Tri-State\", \"sma7d\": 0.051}, {\"date\": \"2020-09-10T00:00:00\", \"totalTestResultsIncrease\": 662784.0, \"positiveIncrease\": 36132.0, \"death\": 138080.0, \"deathIncrease\": 1154.0, \"positiveRate\": 0.055, \"state\": \"Non Tri-State\", \"sma7d\": 0.05}, {\"date\": \"2020-09-11T00:00:00\", \"totalTestResultsIncrease\": 781583.0, \"positiveIncrease\": 43294.0, \"death\": 139082.0, \"deathIncrease\": 1002.0, \"positiveRate\": 0.055, \"state\": \"Non Tri-State\", \"sma7d\": 0.05}, {\"date\": \"2020-09-12T00:00:00\", \"totalTestResultsIncrease\": 890907.0, \"positiveIncrease\": 40770.0, \"death\": 139886.0, \"deathIncrease\": 804.0, \"positiveRate\": 0.046, \"state\": \"Non Tri-State\", \"sma7d\": 0.049}, {\"date\": \"2020-09-13T00:00:00\", \"totalTestResultsIncrease\": 672604.0, \"positiveIncrease\": 33403.0, \"death\": 140265.0, \"deathIncrease\": 379.0, \"positiveRate\": 0.05, \"state\": \"Non Tri-State\", \"sma7d\": 0.05}, {\"date\": \"2020-09-14T00:00:00\", \"totalTestResultsIncrease\": 367408.0, \"positiveIncrease\": 32360.0, \"death\": 140656.0, \"deathIncrease\": 391.0, \"positiveRate\": 0.088, \"state\": \"Non Tri-State\", \"sma7d\": 0.056}, {\"date\": \"2020-09-15T00:00:00\", \"totalTestResultsIncrease\": 705999.0, \"positiveIncrease\": 33734.0, \"death\": 141667.0, \"deathIncrease\": 1011.0, \"positiveRate\": 0.048, \"state\": \"Non Tri-State\", \"sma7d\": 0.056}, {\"date\": \"2020-09-16T00:00:00\", \"totalTestResultsIncrease\": 725234.0, \"positiveIncrease\": 38779.0, \"death\": 142851.0, \"deathIncrease\": 1184.0, \"positiveRate\": 0.053, \"state\": \"Non Tri-State\", \"sma7d\": 0.056}, {\"date\": \"2020-09-17T00:00:00\", \"totalTestResultsIncrease\": 828076.0, \"positiveIncrease\": 41891.0, \"death\": 143707.0, \"deathIncrease\": 856.0, \"positiveRate\": 0.051, \"state\": \"Non Tri-State\", \"sma7d\": 0.056}, {\"date\": \"2020-09-18T00:00:00\", \"totalTestResultsIncrease\": 963788.0, \"positiveIncrease\": 46041.0, \"death\": 144590.0, \"deathIncrease\": 883.0, \"positiveRate\": 0.048, \"state\": \"Non Tri-State\", \"sma7d\": 0.055}, {\"date\": \"2020-09-19T00:00:00\", \"totalTestResultsIncrease\": 1065963.0, \"positiveIncrease\": 44054.0, \"death\": 145325.0, \"deathIncrease\": 735.0, \"positiveRate\": 0.041, \"state\": \"Non Tri-State\", \"sma7d\": 0.054}, {\"date\": \"2020-09-20T00:00:00\", \"totalTestResultsIncrease\": 818201.0, \"positiveIncrease\": 34956.0, \"death\": 145647.0, \"deathIncrease\": 322.0, \"positiveRate\": 0.043, \"state\": \"Non Tri-State\", \"sma7d\": 0.053}, {\"date\": \"2020-09-21T00:00:00\", \"totalTestResultsIncrease\": 671105.0, \"positiveIncrease\": 37996.0, \"death\": 145928.0, \"deathIncrease\": 281.0, \"positiveRate\": 0.057, \"state\": \"Non Tri-State\", \"sma7d\": 0.049}, {\"date\": \"2020-09-22T00:00:00\", \"totalTestResultsIncrease\": 710317.0, \"positiveIncrease\": 48067.0, \"death\": 146770.0, \"deathIncrease\": 842.0, \"positiveRate\": 0.068, \"state\": \"Non Tri-State\", \"sma7d\": 0.052}, {\"date\": \"2020-09-23T00:00:00\", \"totalTestResultsIncrease\": 904278.0, \"positiveIncrease\": 37343.0, \"death\": 147915.0, \"deathIncrease\": 1145.0, \"positiveRate\": 0.041, \"state\": \"Non Tri-State\", \"sma7d\": 0.05}, {\"date\": \"2020-09-24T00:00:00\", \"totalTestResultsIncrease\": 900422.0, \"positiveIncrease\": 42032.0, \"death\": 148823.0, \"deathIncrease\": 908.0, \"positiveRate\": 0.047, \"state\": \"Non Tri-State\", \"sma7d\": 0.049}, {\"date\": \"2020-09-25T00:00:00\", \"totalTestResultsIncrease\": 977399.0, \"positiveIncrease\": 53917.0, \"death\": 149652.0, \"deathIncrease\": 829.0, \"positiveRate\": 0.055, \"state\": \"Non Tri-State\", \"sma7d\": 0.05}, {\"date\": \"2020-09-26T00:00:00\", \"totalTestResultsIncrease\": 989586.0, \"positiveIncrease\": 46037.0, \"death\": 150511.0, \"deathIncrease\": 859.0, \"positiveRate\": 0.047, \"state\": \"Non Tri-State\", \"sma7d\": 0.051}, {\"date\": \"2020-09-27T00:00:00\", \"totalTestResultsIncrease\": 820468.0, \"positiveIncrease\": 33855.0, \"death\": 150806.0, \"deathIncrease\": 295.0, \"positiveRate\": 0.041, \"state\": \"Non Tri-State\", \"sma7d\": 0.051}, {\"date\": \"2020-09-28T00:00:00\", \"totalTestResultsIncrease\": 1006640.0, \"positiveIncrease\": 34561.0, \"death\": 151051.0, \"deathIncrease\": 245.0, \"positiveRate\": 0.034, \"state\": \"Non Tri-State\", \"sma7d\": 0.048}, {\"date\": \"2020-09-29T00:00:00\", \"totalTestResultsIncrease\": 815590.0, \"positiveIncrease\": 35063.0, \"death\": 151776.0, \"deathIncrease\": 725.0, \"positiveRate\": 0.043, \"state\": \"Non Tri-State\", \"sma7d\": 0.044}, {\"date\": \"2020-09-30T00:00:00\", \"totalTestResultsIncrease\": 747838.0, \"positiveIncrease\": 42423.0, \"death\": 152816.0, \"deathIncrease\": 1040.0, \"positiveRate\": 0.057, \"state\": \"Non Tri-State\", \"sma7d\": 0.046}, {\"date\": \"2020-10-01T00:00:00\", \"totalTestResultsIncrease\": 878089.0, \"positiveIncrease\": 43429.0, \"death\": 153648.0, \"deathIncrease\": 832.0, \"positiveRate\": 0.049, \"state\": \"Non Tri-State\", \"sma7d\": 0.047}, {\"date\": \"2020-10-02T00:00:00\", \"totalTestResultsIncrease\": 992002.0, \"positiveIncrease\": 46591.0, \"death\": 154470.0, \"deathIncrease\": 822.0, \"positiveRate\": 0.047, \"state\": \"Non Tri-State\", \"sma7d\": 0.045}, {\"date\": \"2020-10-03T00:00:00\", \"totalTestResultsIncrease\": 965093.0, \"positiveIncrease\": 48660.0, \"death\": 155199.0, \"deathIncrease\": 729.0, \"positiveRate\": 0.05, \"state\": \"Non Tri-State\", \"sma7d\": 0.046}, {\"date\": \"2020-10-04T00:00:00\", \"totalTestResultsIncrease\": 857670.0, \"positiveIncrease\": 36509.0, \"death\": 155547.0, \"deathIncrease\": 348.0, \"positiveRate\": 0.043, \"state\": \"Non Tri-State\", \"sma7d\": 0.046}, {\"date\": \"2020-10-05T00:00:00\", \"totalTestResultsIncrease\": 840122.0, \"positiveIncrease\": 35857.0, \"death\": 155859.0, \"deathIncrease\": 312.0, \"positiveRate\": 0.043, \"state\": \"Non Tri-State\", \"sma7d\": 0.047}, {\"date\": \"2020-10-06T00:00:00\", \"totalTestResultsIncrease\": 792519.0, \"positiveIncrease\": 36468.0, \"death\": 156471.0, \"deathIncrease\": 612.0, \"positiveRate\": 0.046, \"state\": \"Non Tri-State\", \"sma7d\": 0.048}, {\"date\": \"2020-10-07T00:00:00\", \"totalTestResultsIncrease\": 834519.0, \"positiveIncrease\": 48573.0, \"death\": 157372.0, \"deathIncrease\": 901.0, \"positiveRate\": 0.058, \"state\": \"Non Tri-State\", \"sma7d\": 0.048}, {\"date\": \"2020-10-08T00:00:00\", \"totalTestResultsIncrease\": 915758.0, \"positiveIncrease\": 51774.0, \"death\": 158335.0, \"deathIncrease\": 963.0, \"positiveRate\": 0.057, \"state\": \"Non Tri-State\", \"sma7d\": 0.049}, {\"date\": \"2020-10-09T00:00:00\", \"totalTestResultsIncrease\": 1008211.0, \"positiveIncrease\": 54258.0, \"death\": 159215.0, \"deathIncrease\": 880.0, \"positiveRate\": 0.054, \"state\": \"Non Tri-State\", \"sma7d\": 0.05}, {\"date\": \"2020-10-10T00:00:00\", \"totalTestResultsIncrease\": 1077862.0, \"positiveIncrease\": 55181.0, \"death\": 159865.0, \"deathIncrease\": 650.0, \"positiveRate\": 0.051, \"state\": \"Non Tri-State\", \"sma7d\": 0.05}, {\"date\": \"2020-10-11T00:00:00\", \"totalTestResultsIncrease\": 964324.0, \"positiveIncrease\": 44896.0, \"death\": 160323.0, \"deathIncrease\": 458.0, \"positiveRate\": 0.047, \"state\": \"Non Tri-State\", \"sma7d\": 0.051}, {\"date\": \"2020-10-12T00:00:00\", \"totalTestResultsIncrease\": 815296.0, \"positiveIncrease\": 40273.0, \"death\": 160594.0, \"deathIncrease\": 271.0, \"positiveRate\": 0.049, \"state\": \"Non Tri-State\", \"sma7d\": 0.052}, {\"date\": \"2020-10-13T00:00:00\", \"totalTestResultsIncrease\": 927533.0, \"positiveIncrease\": 45618.0, \"death\": 161265.0, \"deathIncrease\": 671.0, \"positiveRate\": 0.049, \"state\": \"Non Tri-State\", \"sma7d\": 0.052}, {\"date\": \"2020-10-14T00:00:00\", \"totalTestResultsIncrease\": 857473.0, \"positiveIncrease\": 54388.0, \"death\": 162056.0, \"deathIncrease\": 791.0, \"positiveRate\": 0.063, \"state\": \"Non Tri-State\", \"sma7d\": 0.053}, {\"date\": \"2020-10-15T00:00:00\", \"totalTestResultsIncrease\": 919974.0, \"positiveIncrease\": 60504.0, \"death\": 162985.0, \"deathIncrease\": 929.0, \"positiveRate\": 0.066, \"state\": \"Non Tri-State\", \"sma7d\": 0.054}, {\"date\": \"2020-10-16T00:00:00\", \"totalTestResultsIncrease\": 1030030.0, \"positiveIncrease\": 64721.0, \"death\": 163845.0, \"deathIncrease\": 860.0, \"positiveRate\": 0.063, \"state\": \"Non Tri-State\", \"sma7d\": 0.055}, {\"date\": \"2020-10-17T00:00:00\", \"totalTestResultsIncrease\": 1101026.0, \"positiveIncrease\": 55149.0, \"death\": 164614.0, \"deathIncrease\": 769.0, \"positiveRate\": 0.05, \"state\": \"Non Tri-State\", \"sma7d\": 0.055}, {\"date\": \"2020-10-18T00:00:00\", \"totalTestResultsIncrease\": 924220.0, \"positiveIncrease\": 46192.0, \"death\": 164993.0, \"deathIncrease\": 379.0, \"positiveRate\": 0.05, \"state\": \"Non Tri-State\", \"sma7d\": 0.056}, {\"date\": \"2020-10-19T00:00:00\", \"totalTestResultsIncrease\": 898313.0, \"positiveIncrease\": 53751.0, \"death\": 165419.0, \"deathIncrease\": 426.0, \"positiveRate\": 0.06, \"state\": \"Non Tri-State\", \"sma7d\": 0.057}, {\"date\": \"2020-10-20T00:00:00\", \"totalTestResultsIncrease\": 826139.0, \"positiveIncrease\": 57935.0, \"death\": 166220.0, \"deathIncrease\": 801.0, \"positiveRate\": 0.07, \"state\": \"Non Tri-State\", \"sma7d\": 0.06}, {\"date\": \"2020-10-21T00:00:00\", \"totalTestResultsIncrease\": 770114.0, \"positiveIncrease\": 57240.0, \"death\": 167211.0, \"deathIncrease\": 991.0, \"positiveRate\": 0.074, \"state\": \"Non Tri-State\", \"sma7d\": 0.062}, {\"date\": \"2020-10-22T00:00:00\", \"totalTestResultsIncrease\": 1027711.0, \"positiveIncrease\": 69715.0, \"death\": 168319.0, \"deathIncrease\": 1108.0, \"positiveRate\": 0.068, \"state\": \"Non Tri-State\", \"sma7d\": 0.062}, {\"date\": \"2020-10-23T00:00:00\", \"totalTestResultsIncrease\": 1174007.0, \"positiveIncrease\": 79696.0, \"death\": 169207.0, \"deathIncrease\": 888.0, \"positiveRate\": 0.068, \"state\": \"Non Tri-State\", \"sma7d\": 0.063}, {\"date\": \"2020-10-24T00:00:00\", \"totalTestResultsIncrease\": 1162665.0, \"positiveIncrease\": 78955.0, \"death\": 170076.0, \"deathIncrease\": 869.0, \"positiveRate\": 0.068, \"state\": \"Non Tri-State\", \"sma7d\": 0.065}, {\"date\": \"2020-10-25T00:00:00\", \"totalTestResultsIncrease\": 1025189.0, \"positiveIncrease\": 62889.0, \"death\": 170437.0, \"deathIncrease\": 361.0, \"positiveRate\": 0.061, \"state\": \"Non Tri-State\", \"sma7d\": 0.067}, {\"date\": \"2020-10-26T00:00:00\", \"totalTestResultsIncrease\": 957837.0, \"positiveIncrease\": 57820.0, \"death\": 170795.0, \"deathIncrease\": 358.0, \"positiveRate\": 0.06, \"state\": \"Non Tri-State\", \"sma7d\": 0.067}, {\"date\": \"2020-10-27T00:00:00\", \"totalTestResultsIncrease\": 926466.0, \"positiveIncrease\": 68920.0, \"death\": 171690.0, \"deathIncrease\": 895.0, \"positiveRate\": 0.074, \"state\": \"Non Tri-State\", \"sma7d\": 0.068}, {\"date\": \"2020-10-28T00:00:00\", \"totalTestResultsIncrease\": 902850.0, \"positiveIncrease\": 74474.0, \"death\": 172673.0, \"deathIncrease\": 983.0, \"positiveRate\": 0.082, \"state\": \"Non Tri-State\", \"sma7d\": 0.069}, {\"date\": \"2020-10-29T00:00:00\", \"totalTestResultsIncrease\": 1085312.0, \"positiveIncrease\": 83084.0, \"death\": 173690.0, \"deathIncrease\": 1017.0, \"positiveRate\": 0.077, \"state\": \"Non Tri-State\", \"sma7d\": 0.07}]}}, {\"mode\": \"vega-lite\"});\n",
       "</script>"
      ],
      "text/plain": [
       "alt.LayerChart(...)"
      ]
     },
     "execution_count": 16,
     "metadata": {},
     "output_type": "execute_result"
    }
   ],
   "source": [
    "create_plot(non_tristate, 'positiveRate')"
   ]
  },
  {
   "cell_type": "code",
   "execution_count": 17,
   "metadata": {
    "execution": {
     "iopub.execute_input": "2020-10-30T22:33:46.248421Z",
     "iopub.status.busy": "2020-10-30T22:33:46.247879Z",
     "iopub.status.idle": "2020-10-30T22:33:46.336329Z",
     "shell.execute_reply": "2020-10-30T22:33:46.336731Z"
    },
    "papermill": {
     "duration": 0.111208,
     "end_time": "2020-10-30T22:33:46.336877",
     "exception": false,
     "start_time": "2020-10-30T22:33:46.225669",
     "status": "completed"
    },
    "tags": []
   },
   "outputs": [
    {
     "data": {
      "text/html": [
       "\n",
       "<div id=\"altair-viz-ae84be49c6334df185955a3badb2116b\"></div>\n",
       "<script type=\"text/javascript\">\n",
       "  (function(spec, embedOpt){\n",
       "    let outputDiv = document.currentScript.previousElementSibling;\n",
       "    if (outputDiv.id !== \"altair-viz-ae84be49c6334df185955a3badb2116b\") {\n",
       "      outputDiv = document.getElementById(\"altair-viz-ae84be49c6334df185955a3badb2116b\");\n",
       "    }\n",
       "    const paths = {\n",
       "      \"vega\": \"https://cdn.jsdelivr.net/npm//vega@5?noext\",\n",
       "      \"vega-lib\": \"https://cdn.jsdelivr.net/npm//vega-lib?noext\",\n",
       "      \"vega-lite\": \"https://cdn.jsdelivr.net/npm//vega-lite@4.8.1?noext\",\n",
       "      \"vega-embed\": \"https://cdn.jsdelivr.net/npm//vega-embed@6?noext\",\n",
       "    };\n",
       "\n",
       "    function loadScript(lib) {\n",
       "      return new Promise(function(resolve, reject) {\n",
       "        var s = document.createElement('script');\n",
       "        s.src = paths[lib];\n",
       "        s.async = true;\n",
       "        s.onload = () => resolve(paths[lib]);\n",
       "        s.onerror = () => reject(`Error loading script: ${paths[lib]}`);\n",
       "        document.getElementsByTagName(\"head\")[0].appendChild(s);\n",
       "      });\n",
       "    }\n",
       "\n",
       "    function showError(err) {\n",
       "      outputDiv.innerHTML = `<div class=\"error\" style=\"color:red;\">${err}</div>`;\n",
       "      throw err;\n",
       "    }\n",
       "\n",
       "    function displayChart(vegaEmbed) {\n",
       "      vegaEmbed(outputDiv, spec, embedOpt)\n",
       "        .catch(err => showError(`Javascript Error: ${err.message}<br>This usually means there's a typo in your chart specification. See the javascript console for the full traceback.`));\n",
       "    }\n",
       "\n",
       "    if(typeof define === \"function\" && define.amd) {\n",
       "      requirejs.config({paths});\n",
       "      require([\"vega-embed\"], displayChart, err => showError(`Error loading script: ${err.message}`));\n",
       "    } else if (typeof vegaEmbed === \"function\") {\n",
       "      displayChart(vegaEmbed);\n",
       "    } else {\n",
       "      loadScript(\"vega\")\n",
       "        .then(() => loadScript(\"vega-lite\"))\n",
       "        .then(() => loadScript(\"vega-embed\"))\n",
       "        .catch(showError)\n",
       "        .then(() => displayChart(vegaEmbed));\n",
       "    }\n",
       "  })({\"config\": {\"view\": {\"continuousWidth\": 400, \"continuousHeight\": 300}}, \"layer\": [{\"layer\": [{\"mark\": {\"type\": \"point\", \"size\": 75}, \"encoding\": {\"tooltip\": [{\"type\": \"temporal\", \"field\": \"date\"}, {\"type\": \"quantitative\", \"field\": \"deathIncrease\"}, {\"type\": \"quantitative\", \"field\": \"sma7d\"}], \"x\": {\"type\": \"temporal\", \"field\": \"date\"}, \"y\": {\"type\": \"quantitative\", \"field\": \"deathIncrease\"}}, \"selection\": {\"selector018\": {\"type\": \"interval\", \"bind\": \"scales\", \"encodings\": [\"x\", \"y\"]}}}, {\"mark\": {\"type\": \"line\", \"color\": \"purple\"}, \"encoding\": {\"x\": {\"type\": \"temporal\", \"field\": \"date\"}, \"y\": {\"type\": \"quantitative\", \"field\": \"sma7d\"}}}]}, {\"mark\": {\"type\": \"rule\", \"color\": \"#aaa\"}, \"encoding\": {\"x\": {\"type\": \"temporal\", \"field\": \"date\"}}, \"transform\": [{\"filter\": {\"selection\": \"selector017\"}}]}, {\"mark\": \"circle\", \"encoding\": {\"opacity\": {\"condition\": {\"value\": 1, \"selection\": \"selector017\"}, \"value\": 0}, \"tooltip\": [{\"type\": \"temporal\", \"field\": \"date\"}, {\"type\": \"quantitative\", \"field\": \"deathIncrease\"}, {\"type\": \"quantitative\", \"field\": \"sma7d\"}], \"x\": {\"type\": \"temporal\", \"field\": \"date\"}, \"y\": {\"type\": \"quantitative\", \"field\": \"deathIncrease\"}}, \"selection\": {\"selector017\": {\"type\": \"single\", \"encodings\": [\"x\"], \"on\": \"mouseover\", \"nearest\": true, \"empty\": \"none\"}}}, {\"mark\": {\"type\": \"text\", \"align\": \"left\", \"dx\": 5, \"dy\": -5, \"stroke\": \"white\", \"strokeWidth\": 2}, \"encoding\": {\"text\": {\"type\": \"quantitative\", \"field\": \"deathIncrease\"}, \"tooltip\": [{\"type\": \"temporal\", \"field\": \"date\"}, {\"type\": \"quantitative\", \"field\": \"deathIncrease\"}, {\"type\": \"quantitative\", \"field\": \"sma7d\"}], \"x\": {\"type\": \"temporal\", \"field\": \"date\"}, \"y\": {\"type\": \"quantitative\", \"field\": \"deathIncrease\"}}, \"transform\": [{\"filter\": {\"selection\": \"selector017\"}}]}, {\"mark\": {\"type\": \"text\", \"align\": \"left\", \"dx\": 5, \"dy\": -5}, \"encoding\": {\"text\": {\"type\": \"quantitative\", \"field\": \"deathIncrease\"}, \"tooltip\": [{\"type\": \"temporal\", \"field\": \"date\"}, {\"type\": \"quantitative\", \"field\": \"deathIncrease\"}, {\"type\": \"quantitative\", \"field\": \"sma7d\"}], \"x\": {\"type\": \"temporal\", \"field\": \"date\"}, \"y\": {\"type\": \"quantitative\", \"field\": \"deathIncrease\"}}, \"transform\": [{\"filter\": {\"selection\": \"selector017\"}}]}], \"data\": {\"name\": \"data-3d13c81b3ae1a6fb2add33722a8e8855\"}, \"height\": 400, \"title\": \"Non Tri-State: deathIncrease\", \"width\": 500, \"$schema\": \"https://vega.github.io/schema/vega-lite/v4.8.1.json\", \"datasets\": {\"data-3d13c81b3ae1a6fb2add33722a8e8855\": [{\"date\": \"2020-09-05T00:00:00\", \"totalTestResultsIncrease\": 866494.0, \"positiveIncrease\": 43716.0, \"death\": 134855.0, \"deathIncrease\": 909.0, \"positiveRate\": 0.05, \"state\": \"Non Tri-State\", \"sma7d\": 829.0}, {\"date\": \"2020-09-06T00:00:00\", \"totalTestResultsIncrease\": 708542.0, \"positiveIncrease\": 32026.0, \"death\": 135291.0, \"deathIncrease\": 436.0, \"positiveRate\": 0.045, \"state\": \"Non Tri-State\", \"sma7d\": 825.143}, {\"date\": \"2020-09-07T00:00:00\", \"totalTestResultsIncrease\": 551844.0, \"positiveIncrease\": 27804.0, \"death\": 135512.0, \"deathIncrease\": 221.0, \"positiveRate\": 0.05, \"state\": \"Non Tri-State\", \"sma7d\": 805.714}, {\"date\": \"2020-09-08T00:00:00\", \"totalTestResultsIncrease\": 459650.0, \"positiveIncrease\": 20946.0, \"death\": 135853.0, \"deathIncrease\": 341.0, \"positiveRate\": 0.046, \"state\": \"Non Tri-State\", \"sma7d\": 709.0}, {\"date\": \"2020-09-09T00:00:00\", \"totalTestResultsIncrease\": 614001.0, \"positiveIncrease\": 30076.0, \"death\": 136926.0, \"deathIncrease\": 1073.0, \"positiveRate\": 0.049, \"state\": \"Non Tri-State\", \"sma7d\": 717.286}, {\"date\": \"2020-09-10T00:00:00\", \"totalTestResultsIncrease\": 662784.0, \"positiveIncrease\": 36132.0, \"death\": 138080.0, \"deathIncrease\": 1154.0, \"positiveRate\": 0.055, \"state\": \"Non Tri-State\", \"sma7d\": 731.429}, {\"date\": \"2020-09-11T00:00:00\", \"totalTestResultsIncrease\": 781583.0, \"positiveIncrease\": 43294.0, \"death\": 139082.0, \"deathIncrease\": 1002.0, \"positiveRate\": 0.055, \"state\": \"Non Tri-State\", \"sma7d\": 733.714}, {\"date\": \"2020-09-12T00:00:00\", \"totalTestResultsIncrease\": 890907.0, \"positiveIncrease\": 40770.0, \"death\": 139886.0, \"deathIncrease\": 804.0, \"positiveRate\": 0.046, \"state\": \"Non Tri-State\", \"sma7d\": 718.714}, {\"date\": \"2020-09-13T00:00:00\", \"totalTestResultsIncrease\": 672604.0, \"positiveIncrease\": 33403.0, \"death\": 140265.0, \"deathIncrease\": 379.0, \"positiveRate\": 0.05, \"state\": \"Non Tri-State\", \"sma7d\": 710.571}, {\"date\": \"2020-09-14T00:00:00\", \"totalTestResultsIncrease\": 367408.0, \"positiveIncrease\": 32360.0, \"death\": 140656.0, \"deathIncrease\": 391.0, \"positiveRate\": 0.088, \"state\": \"Non Tri-State\", \"sma7d\": 734.857}, {\"date\": \"2020-09-15T00:00:00\", \"totalTestResultsIncrease\": 705999.0, \"positiveIncrease\": 33734.0, \"death\": 141667.0, \"deathIncrease\": 1011.0, \"positiveRate\": 0.048, \"state\": \"Non Tri-State\", \"sma7d\": 830.571}, {\"date\": \"2020-09-16T00:00:00\", \"totalTestResultsIncrease\": 725234.0, \"positiveIncrease\": 38779.0, \"death\": 142851.0, \"deathIncrease\": 1184.0, \"positiveRate\": 0.053, \"state\": \"Non Tri-State\", \"sma7d\": 846.429}, {\"date\": \"2020-09-17T00:00:00\", \"totalTestResultsIncrease\": 828076.0, \"positiveIncrease\": 41891.0, \"death\": 143707.0, \"deathIncrease\": 856.0, \"positiveRate\": 0.051, \"state\": \"Non Tri-State\", \"sma7d\": 803.857}, {\"date\": \"2020-09-18T00:00:00\", \"totalTestResultsIncrease\": 963788.0, \"positiveIncrease\": 46041.0, \"death\": 144590.0, \"deathIncrease\": 883.0, \"positiveRate\": 0.048, \"state\": \"Non Tri-State\", \"sma7d\": 786.857}, {\"date\": \"2020-09-19T00:00:00\", \"totalTestResultsIncrease\": 1065963.0, \"positiveIncrease\": 44054.0, \"death\": 145325.0, \"deathIncrease\": 735.0, \"positiveRate\": 0.041, \"state\": \"Non Tri-State\", \"sma7d\": 777.0}, {\"date\": \"2020-09-20T00:00:00\", \"totalTestResultsIncrease\": 818201.0, \"positiveIncrease\": 34956.0, \"death\": 145647.0, \"deathIncrease\": 322.0, \"positiveRate\": 0.043, \"state\": \"Non Tri-State\", \"sma7d\": 768.857}, {\"date\": \"2020-09-21T00:00:00\", \"totalTestResultsIncrease\": 671105.0, \"positiveIncrease\": 37996.0, \"death\": 145928.0, \"deathIncrease\": 281.0, \"positiveRate\": 0.057, \"state\": \"Non Tri-State\", \"sma7d\": 753.143}, {\"date\": \"2020-09-22T00:00:00\", \"totalTestResultsIncrease\": 710317.0, \"positiveIncrease\": 48067.0, \"death\": 146770.0, \"deathIncrease\": 842.0, \"positiveRate\": 0.068, \"state\": \"Non Tri-State\", \"sma7d\": 729.0}, {\"date\": \"2020-09-23T00:00:00\", \"totalTestResultsIncrease\": 904278.0, \"positiveIncrease\": 37343.0, \"death\": 147915.0, \"deathIncrease\": 1145.0, \"positiveRate\": 0.041, \"state\": \"Non Tri-State\", \"sma7d\": 723.429}, {\"date\": \"2020-09-24T00:00:00\", \"totalTestResultsIncrease\": 900422.0, \"positiveIncrease\": 42032.0, \"death\": 148823.0, \"deathIncrease\": 908.0, \"positiveRate\": 0.047, \"state\": \"Non Tri-State\", \"sma7d\": 730.857}, {\"date\": \"2020-09-25T00:00:00\", \"totalTestResultsIncrease\": 977399.0, \"positiveIncrease\": 53917.0, \"death\": 149652.0, \"deathIncrease\": 829.0, \"positiveRate\": 0.055, \"state\": \"Non Tri-State\", \"sma7d\": 723.143}, {\"date\": \"2020-09-26T00:00:00\", \"totalTestResultsIncrease\": 989586.0, \"positiveIncrease\": 46037.0, \"death\": 150511.0, \"deathIncrease\": 859.0, \"positiveRate\": 0.047, \"state\": \"Non Tri-State\", \"sma7d\": 740.857}, {\"date\": \"2020-09-27T00:00:00\", \"totalTestResultsIncrease\": 820468.0, \"positiveIncrease\": 33855.0, \"death\": 150806.0, \"deathIncrease\": 295.0, \"positiveRate\": 0.041, \"state\": \"Non Tri-State\", \"sma7d\": 737.0}, {\"date\": \"2020-09-28T00:00:00\", \"totalTestResultsIncrease\": 1006640.0, \"positiveIncrease\": 34561.0, \"death\": 151051.0, \"deathIncrease\": 245.0, \"positiveRate\": 0.034, \"state\": \"Non Tri-State\", \"sma7d\": 731.857}, {\"date\": \"2020-09-29T00:00:00\", \"totalTestResultsIncrease\": 815590.0, \"positiveIncrease\": 35063.0, \"death\": 151776.0, \"deathIncrease\": 725.0, \"positiveRate\": 0.043, \"state\": \"Non Tri-State\", \"sma7d\": 715.143}, {\"date\": \"2020-09-30T00:00:00\", \"totalTestResultsIncrease\": 747838.0, \"positiveIncrease\": 42423.0, \"death\": 152816.0, \"deathIncrease\": 1040.0, \"positiveRate\": 0.057, \"state\": \"Non Tri-State\", \"sma7d\": 700.143}, {\"date\": \"2020-10-01T00:00:00\", \"totalTestResultsIncrease\": 878089.0, \"positiveIncrease\": 43429.0, \"death\": 153648.0, \"deathIncrease\": 832.0, \"positiveRate\": 0.049, \"state\": \"Non Tri-State\", \"sma7d\": 689.286}, {\"date\": \"2020-10-02T00:00:00\", \"totalTestResultsIncrease\": 992002.0, \"positiveIncrease\": 46591.0, \"death\": 154470.0, \"deathIncrease\": 822.0, \"positiveRate\": 0.047, \"state\": \"Non Tri-State\", \"sma7d\": 688.286}, {\"date\": \"2020-10-03T00:00:00\", \"totalTestResultsIncrease\": 965093.0, \"positiveIncrease\": 48660.0, \"death\": 155199.0, \"deathIncrease\": 729.0, \"positiveRate\": 0.05, \"state\": \"Non Tri-State\", \"sma7d\": 669.714}, {\"date\": \"2020-10-04T00:00:00\", \"totalTestResultsIncrease\": 857670.0, \"positiveIncrease\": 36509.0, \"death\": 155547.0, \"deathIncrease\": 348.0, \"positiveRate\": 0.043, \"state\": \"Non Tri-State\", \"sma7d\": 677.286}, {\"date\": \"2020-10-05T00:00:00\", \"totalTestResultsIncrease\": 840122.0, \"positiveIncrease\": 35857.0, \"death\": 155859.0, \"deathIncrease\": 312.0, \"positiveRate\": 0.043, \"state\": \"Non Tri-State\", \"sma7d\": 686.857}, {\"date\": \"2020-10-06T00:00:00\", \"totalTestResultsIncrease\": 792519.0, \"positiveIncrease\": 36468.0, \"death\": 156471.0, \"deathIncrease\": 612.0, \"positiveRate\": 0.046, \"state\": \"Non Tri-State\", \"sma7d\": 670.714}, {\"date\": \"2020-10-07T00:00:00\", \"totalTestResultsIncrease\": 834519.0, \"positiveIncrease\": 48573.0, \"death\": 157372.0, \"deathIncrease\": 901.0, \"positiveRate\": 0.058, \"state\": \"Non Tri-State\", \"sma7d\": 650.857}, {\"date\": \"2020-10-08T00:00:00\", \"totalTestResultsIncrease\": 915758.0, \"positiveIncrease\": 51774.0, \"death\": 158335.0, \"deathIncrease\": 963.0, \"positiveRate\": 0.057, \"state\": \"Non Tri-State\", \"sma7d\": 669.571}, {\"date\": \"2020-10-09T00:00:00\", \"totalTestResultsIncrease\": 1008211.0, \"positiveIncrease\": 54258.0, \"death\": 159215.0, \"deathIncrease\": 880.0, \"positiveRate\": 0.054, \"state\": \"Non Tri-State\", \"sma7d\": 677.857}, {\"date\": \"2020-10-10T00:00:00\", \"totalTestResultsIncrease\": 1077862.0, \"positiveIncrease\": 55181.0, \"death\": 159865.0, \"deathIncrease\": 650.0, \"positiveRate\": 0.051, \"state\": \"Non Tri-State\", \"sma7d\": 666.571}, {\"date\": \"2020-10-11T00:00:00\", \"totalTestResultsIncrease\": 964324.0, \"positiveIncrease\": 44896.0, \"death\": 160323.0, \"deathIncrease\": 458.0, \"positiveRate\": 0.047, \"state\": \"Non Tri-State\", \"sma7d\": 682.286}, {\"date\": \"2020-10-12T00:00:00\", \"totalTestResultsIncrease\": 815296.0, \"positiveIncrease\": 40273.0, \"death\": 160594.0, \"deathIncrease\": 271.0, \"positiveRate\": 0.049, \"state\": \"Non Tri-State\", \"sma7d\": 676.429}, {\"date\": \"2020-10-13T00:00:00\", \"totalTestResultsIncrease\": 927533.0, \"positiveIncrease\": 45618.0, \"death\": 161265.0, \"deathIncrease\": 671.0, \"positiveRate\": 0.049, \"state\": \"Non Tri-State\", \"sma7d\": 684.857}, {\"date\": \"2020-10-14T00:00:00\", \"totalTestResultsIncrease\": 857473.0, \"positiveIncrease\": 54388.0, \"death\": 162056.0, \"deathIncrease\": 791.0, \"positiveRate\": 0.063, \"state\": \"Non Tri-State\", \"sma7d\": 669.143}, {\"date\": \"2020-10-15T00:00:00\", \"totalTestResultsIncrease\": 919974.0, \"positiveIncrease\": 60504.0, \"death\": 162985.0, \"deathIncrease\": 929.0, \"positiveRate\": 0.066, \"state\": \"Non Tri-State\", \"sma7d\": 664.286}, {\"date\": \"2020-10-16T00:00:00\", \"totalTestResultsIncrease\": 1030030.0, \"positiveIncrease\": 64721.0, \"death\": 163845.0, \"deathIncrease\": 860.0, \"positiveRate\": 0.063, \"state\": \"Non Tri-State\", \"sma7d\": 661.429}, {\"date\": \"2020-10-17T00:00:00\", \"totalTestResultsIncrease\": 1101026.0, \"positiveIncrease\": 55149.0, \"death\": 164614.0, \"deathIncrease\": 769.0, \"positiveRate\": 0.05, \"state\": \"Non Tri-State\", \"sma7d\": 678.429}, {\"date\": \"2020-10-18T00:00:00\", \"totalTestResultsIncrease\": 924220.0, \"positiveIncrease\": 46192.0, \"death\": 164993.0, \"deathIncrease\": 379.0, \"positiveRate\": 0.05, \"state\": \"Non Tri-State\", \"sma7d\": 667.143}, {\"date\": \"2020-10-19T00:00:00\", \"totalTestResultsIncrease\": 898313.0, \"positiveIncrease\": 53751.0, \"death\": 165419.0, \"deathIncrease\": 426.0, \"positiveRate\": 0.06, \"state\": \"Non Tri-State\", \"sma7d\": 689.286}, {\"date\": \"2020-10-20T00:00:00\", \"totalTestResultsIncrease\": 826139.0, \"positiveIncrease\": 57935.0, \"death\": 166220.0, \"deathIncrease\": 801.0, \"positiveRate\": 0.07, \"state\": \"Non Tri-State\", \"sma7d\": 707.857}, {\"date\": \"2020-10-21T00:00:00\", \"totalTestResultsIncrease\": 770114.0, \"positiveIncrease\": 57240.0, \"death\": 167211.0, \"deathIncrease\": 991.0, \"positiveRate\": 0.074, \"state\": \"Non Tri-State\", \"sma7d\": 736.429}, {\"date\": \"2020-10-22T00:00:00\", \"totalTestResultsIncrease\": 1027711.0, \"positiveIncrease\": 69715.0, \"death\": 168319.0, \"deathIncrease\": 1108.0, \"positiveRate\": 0.068, \"state\": \"Non Tri-State\", \"sma7d\": 762.0}, {\"date\": \"2020-10-23T00:00:00\", \"totalTestResultsIncrease\": 1174007.0, \"positiveIncrease\": 79696.0, \"death\": 169207.0, \"deathIncrease\": 888.0, \"positiveRate\": 0.068, \"state\": \"Non Tri-State\", \"sma7d\": 766.0}, {\"date\": \"2020-10-24T00:00:00\", \"totalTestResultsIncrease\": 1162665.0, \"positiveIncrease\": 78955.0, \"death\": 170076.0, \"deathIncrease\": 869.0, \"positiveRate\": 0.068, \"state\": \"Non Tri-State\", \"sma7d\": 780.286}, {\"date\": \"2020-10-25T00:00:00\", \"totalTestResultsIncrease\": 1025189.0, \"positiveIncrease\": 62889.0, \"death\": 170437.0, \"deathIncrease\": 361.0, \"positiveRate\": 0.061, \"state\": \"Non Tri-State\", \"sma7d\": 777.714}, {\"date\": \"2020-10-26T00:00:00\", \"totalTestResultsIncrease\": 957837.0, \"positiveIncrease\": 57820.0, \"death\": 170795.0, \"deathIncrease\": 358.0, \"positiveRate\": 0.06, \"state\": \"Non Tri-State\", \"sma7d\": 768.0}, {\"date\": \"2020-10-27T00:00:00\", \"totalTestResultsIncrease\": 926466.0, \"positiveIncrease\": 68920.0, \"death\": 171690.0, \"deathIncrease\": 895.0, \"positiveRate\": 0.074, \"state\": \"Non Tri-State\", \"sma7d\": 781.429}, {\"date\": \"2020-10-28T00:00:00\", \"totalTestResultsIncrease\": 902850.0, \"positiveIncrease\": 74474.0, \"death\": 172673.0, \"deathIncrease\": 983.0, \"positiveRate\": 0.082, \"state\": \"Non Tri-State\", \"sma7d\": 780.286}, {\"date\": \"2020-10-29T00:00:00\", \"totalTestResultsIncrease\": 1085312.0, \"positiveIncrease\": 83084.0, \"death\": 173690.0, \"deathIncrease\": 1017.0, \"positiveRate\": 0.077, \"state\": \"Non Tri-State\", \"sma7d\": 767.286}]}}, {\"mode\": \"vega-lite\"});\n",
       "</script>"
      ],
      "text/plain": [
       "alt.LayerChart(...)"
      ]
     },
     "execution_count": 17,
     "metadata": {},
     "output_type": "execute_result"
    }
   ],
   "source": [
    "create_plot(non_tristate, 'deathIncrease')"
   ]
  }
 ],
 "metadata": {
  "kernelspec": {
   "display_name": "Python 3",
   "language": "python",
   "name": "python3"
  },
  "language_info": {
   "codemirror_mode": {
    "name": "ipython",
    "version": 3
   },
   "file_extension": ".py",
   "mimetype": "text/x-python",
   "name": "python",
   "nbconvert_exporter": "python",
   "pygments_lexer": "ipython3",
   "version": "3.8.6"
  },
  "papermill": {
   "duration": 5.058212,
   "end_time": "2020-10-30T22:33:46.663368",
   "environment_variables": {},
   "exception": null,
   "input_path": "2020-07-19-covid-plots.ipynb",
   "output_path": "2020-07-19-covid-plots.ipynb",
   "parameters": {},
   "start_time": "2020-10-30T22:33:41.605156",
   "version": "2.1.2"
  }
 },
 "nbformat": 4,
 "nbformat_minor": 4
}