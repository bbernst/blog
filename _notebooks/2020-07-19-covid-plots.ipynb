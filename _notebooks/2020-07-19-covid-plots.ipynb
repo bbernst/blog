{
 "cells": [
  {
   "cell_type": "markdown",
   "metadata": {
    "papermill": {
     "duration": 0.01486,
     "end_time": "2020-09-03T22:33:13.696621",
     "exception": false,
     "start_time": "2020-09-03T22:33:13.681761",
     "status": "completed"
    },
    "tags": []
   },
   "source": [
    "# \"COVID-19 plots\"\n",
    "> \"Interactive plots with daily updates\"\n",
    "\n",
    "- author: bbernst\n",
    "- toc: true\n",
    "- branch: master\n",
    "- badges: true\n",
    "- comments: true\n",
    "- categories: [healthcare, covid]\n",
    "- image: images/covid_plots/covid_mask.png\n",
    "- hide: false\n",
    "- search_exclude: true"
   ]
  },
  {
   "cell_type": "markdown",
   "metadata": {
    "papermill": {
     "duration": 0.044705,
     "end_time": "2020-09-03T22:33:14.511942",
     "exception": false,
     "start_time": "2020-09-03T22:33:14.467237",
     "status": "completed"
    },
    "tags": []
   },
   "source": [
    "I wanted to make a simple COVID-19 post to accomplish two main goals:\n",
    "1. Easily see the specific plots I'm interested in\n",
    "1. Update these plots every day, automatically\n",
    "\n",
    "Enter [fastpages](https://github.com/fastai/fastpages) and [github actions](https://github.com/features/actions). I'd been meaning to set up a blog with fastpages for a while and thought this would be a good reason to try it out. The documentation was great and I was able to set up automatic updates by using https://covid19dashboards.com/ as a guide.\n",
    "\n",
    "The data for this post comes from https://covidtracking.com/, which updates by 5pm each day, and I have my dashboard update at 6:30pm. For each geography -- so far that's the US, New York, and Non Tri-State -- I look at daily positive cases, positive rate, and deaths. Be sure to hover around on each of the plots, they have helpful interactive tooltips to make reading the data more intuitive."
   ]
  },
  {
   "cell_type": "code",
   "execution_count": 1,
   "metadata": {
    "execution": {
     "iopub.execute_input": "2020-09-03T22:33:14.613260Z",
     "iopub.status.busy": "2020-09-03T22:33:14.612632Z",
     "iopub.status.idle": "2020-09-03T22:33:15.044709Z",
     "shell.execute_reply": "2020-09-03T22:33:15.044122Z"
    },
    "papermill": {
     "duration": 0.48633,
     "end_time": "2020-09-03T22:33:15.044897",
     "exception": false,
     "start_time": "2020-09-03T22:33:14.558567",
     "status": "completed"
    },
    "tags": []
   },
   "outputs": [],
   "source": [
    "#collapse\n",
    "from typing import Callable, Literal\n",
    "import pandas as pd\n",
    "import altair as alt"
   ]
  },
  {
   "cell_type": "code",
   "execution_count": 2,
   "metadata": {
    "execution": {
     "iopub.execute_input": "2020-09-03T22:33:15.070610Z",
     "iopub.status.busy": "2020-09-03T22:33:15.070213Z",
     "iopub.status.idle": "2020-09-03T22:33:15.084774Z",
     "shell.execute_reply": "2020-09-03T22:33:15.084335Z"
    },
    "papermill": {
     "duration": 0.027462,
     "end_time": "2020-09-03T22:33:15.084885",
     "exception": false,
     "start_time": "2020-09-03T22:33:15.057423",
     "status": "completed"
    },
    "tags": []
   },
   "outputs": [
    {
     "name": "stdout",
     "output_type": "stream",
     "text": [
      "Last updated at (ET): 2020-09-03 06:33:15 PM\n"
     ]
    }
   ],
   "source": [
    "#hide_input\n",
    "current_utc = pd.Timestamp.now(tz='America/New_York').strftime('%Y-%m-%d %I:%M:%S %p')\n",
    "print(f\"Last updated at (ET): {current_utc}\")"
   ]
  },
  {
   "cell_type": "markdown",
   "metadata": {
    "papermill": {
     "duration": 0.0101,
     "end_time": "2020-09-03T22:33:15.104901",
     "exception": false,
     "start_time": "2020-09-03T22:33:15.094801",
     "status": "completed"
    },
    "tags": []
   },
   "source": [
    "# Data"
   ]
  },
  {
   "cell_type": "code",
   "execution_count": 3,
   "metadata": {
    "execution": {
     "iopub.execute_input": "2020-09-03T22:33:15.128203Z",
     "iopub.status.busy": "2020-09-03T22:33:15.127809Z",
     "iopub.status.idle": "2020-09-03T22:33:16.962534Z",
     "shell.execute_reply": "2020-09-03T22:33:16.961737Z"
    },
    "papermill": {
     "duration": 1.848511,
     "end_time": "2020-09-03T22:33:16.962649",
     "exception": false,
     "start_time": "2020-09-03T22:33:15.114138",
     "status": "completed"
    },
    "tags": []
   },
   "outputs": [],
   "source": [
    "df = pd.read_csv('https://covidtracking.com/api/states/daily.csv')"
   ]
  },
  {
   "cell_type": "markdown",
   "metadata": {
    "papermill": {
     "duration": 0.009912,
     "end_time": "2020-09-03T22:33:16.982383",
     "exception": false,
     "start_time": "2020-09-03T22:33:16.972471",
     "status": "completed"
    },
    "tags": []
   },
   "source": [
    "# Helpers"
   ]
  },
  {
   "cell_type": "code",
   "execution_count": 4,
   "metadata": {
    "execution": {
     "iopub.execute_input": "2020-09-03T22:33:17.006870Z",
     "iopub.status.busy": "2020-09-03T22:33:17.006460Z",
     "iopub.status.idle": "2020-09-03T22:33:17.009238Z",
     "shell.execute_reply": "2020-09-03T22:33:17.009617Z"
    },
    "papermill": {
     "duration": 0.018077,
     "end_time": "2020-09-03T22:33:17.009722",
     "exception": false,
     "start_time": "2020-09-03T22:33:16.991645",
     "status": "completed"
    },
    "tags": []
   },
   "outputs": [],
   "source": [
    "#collapse\n",
    "def create_df(df: pd.DataFrame, \n",
    "              filter_f: Callable, \n",
    "              state_name: str):\n",
    "    out_df = (\n",
    "     df\n",
    "     .assign(date = lambda d: pd.to_datetime(d['date'], format='%Y%m%d'))\n",
    "     .loc[filter_f, :]\n",
    "     .groupby('date')\n",
    "     .apply(lambda d: pd.Series(dict(\n",
    "         totalTestResultsIncrease = d['totalTestResultsIncrease'].sum(),\n",
    "         positiveIncrease = d['positiveIncrease'].sum(),\n",
    "         death = d['death'].sum(),\n",
    "         deathIncrease = d['deathIncrease'].sum()\n",
    "     )))\n",
    "     .reset_index()\n",
    "     .assign(positiveRate = lambda d: round(d['positiveIncrease'] / d['totalTestResultsIncrease'], 3))\n",
    "     .sort_values('date', ascending=True)\n",
    "     .assign(state = state_name)\n",
    "     .reset_index(drop=True)\n",
    "    )\n",
    "    \n",
    "    return out_df"
   ]
  },
  {
   "cell_type": "code",
   "execution_count": 5,
   "metadata": {
    "execution": {
     "iopub.execute_input": "2020-09-03T22:33:17.037214Z",
     "iopub.status.busy": "2020-09-03T22:33:17.036813Z",
     "iopub.status.idle": "2020-09-03T22:33:17.038511Z",
     "shell.execute_reply": "2020-09-03T22:33:17.038824Z"
    },
    "papermill": {
     "duration": 0.019631,
     "end_time": "2020-09-03T22:33:17.038921",
     "exception": false,
     "start_time": "2020-09-03T22:33:17.019290",
     "status": "completed"
    },
    "tags": []
   },
   "outputs": [],
   "source": [
    "#collapse\n",
    "def create_plot(df: pd.DataFrame, \n",
    "                column: Literal['totalTestResultsIncrease', \n",
    "                                'positiveIncrease', \n",
    "                                'death',\n",
    "                                'deathIncrease', \n",
    "                                'positiveRate'],\n",
    "                period: int = 7*8):\n",
    "    df = (\n",
    "     df\n",
    "     .assign(sma7d = lambda d: d[column].rolling(window=7).mean().round(3))\n",
    "     .loc[lambda d: d['date'] >= pd.to_datetime('today') - period * pd.Timedelta('1 days'), :]\n",
    "     .reset_index(drop=True)\n",
    "    )\n",
    "    the_state = df['state'][0]\n",
    "    label = alt.selection_single(\n",
    "        encodings=['x'], on='mouseover', nearest=True, empty='none')\n",
    "    \n",
    "    base = alt.Chart().mark_point(size=75).encode(\n",
    "        x='date:T',\n",
    "        y=f'{column}:Q',\n",
    "        tooltip=['date', f'{column}:Q', 'sma7d:Q']\n",
    "    )\n",
    "\n",
    "    sma = alt.Chart().mark_line(color='purple').encode(\n",
    "        x='date:T',\n",
    "        y='sma7d:Q'\n",
    "    )\n",
    "\n",
    "    layers = alt.layer(\n",
    "        base + sma,\n",
    "\n",
    "        # add a rule mark to serve as a guide line\n",
    "        alt.Chart().mark_rule(color='#aaa').encode(\n",
    "            x='date:T'\n",
    "        ).transform_filter(label),\n",
    "\n",
    "        # add circle marks for selected time points, hide unselected points\n",
    "        base.mark_circle().encode(\n",
    "            opacity=alt.condition(label, alt.value(1), alt.value(0))\n",
    "        ).add_selection(label),\n",
    "\n",
    "        # add white stroked text to provide a legible background for labels\n",
    "        base.mark_text(align='left', dx=5, dy=-5, stroke='white', strokeWidth=2).encode(\n",
    "            text=f'{column}:Q'\n",
    "        ).transform_filter(label),\n",
    "\n",
    "        # add text labels\n",
    "        base.mark_text(align='left', dx=5, dy=-5).encode(\n",
    "            text=f'{column}:Q'\n",
    "        ).transform_filter(label),\n",
    "        \n",
    "        data=df\n",
    "    ).properties(\n",
    "        title=f'{the_state}: {column}',\n",
    "        width=500,\n",
    "        height=400\n",
    "    )\n",
    "    \n",
    "    return layers.interactive()"
   ]
  },
  {
   "cell_type": "markdown",
   "metadata": {
    "papermill": {
     "duration": 0.009677,
     "end_time": "2020-09-03T22:33:17.058561",
     "exception": false,
     "start_time": "2020-09-03T22:33:17.048884",
     "status": "completed"
    },
    "tags": []
   },
   "source": [
    "# Plots"
   ]
  },
  {
   "cell_type": "markdown",
   "metadata": {
    "papermill": {
     "duration": 0.009677,
     "end_time": "2020-09-03T22:33:17.077624",
     "exception": false,
     "start_time": "2020-09-03T22:33:17.067947",
     "status": "completed"
    },
    "tags": []
   },
   "source": [
    "## US"
   ]
  },
  {
   "cell_type": "code",
   "execution_count": 6,
   "metadata": {
    "execution": {
     "iopub.execute_input": "2020-09-03T22:33:17.100883Z",
     "iopub.status.busy": "2020-09-03T22:33:17.100503Z",
     "iopub.status.idle": "2020-09-03T22:33:17.303802Z",
     "shell.execute_reply": "2020-09-03T22:33:17.302859Z"
    },
    "papermill": {
     "duration": 0.216932,
     "end_time": "2020-09-03T22:33:17.303913",
     "exception": false,
     "start_time": "2020-09-03T22:33:17.086981",
     "status": "completed"
    },
    "tags": []
   },
   "outputs": [],
   "source": [
    "us = create_df(df, lambda d: d.index > 0, 'US')"
   ]
  },
  {
   "cell_type": "code",
   "execution_count": 7,
   "metadata": {
    "execution": {
     "iopub.execute_input": "2020-09-03T22:33:17.350094Z",
     "iopub.status.busy": "2020-09-03T22:33:17.329042Z",
     "iopub.status.idle": "2020-09-03T22:33:17.406295Z",
     "shell.execute_reply": "2020-09-03T22:33:17.407075Z"
    },
    "papermill": {
     "duration": 0.093384,
     "end_time": "2020-09-03T22:33:17.407306",
     "exception": false,
     "start_time": "2020-09-03T22:33:17.313922",
     "status": "completed"
    },
    "tags": []
   },
   "outputs": [
    {
     "data": {
      "text/html": [
       "\n",
       "<div id=\"altair-viz-e2a96da8ec8f4d298b358eabee2e6693\"></div>\n",
       "<script type=\"text/javascript\">\n",
       "  (function(spec, embedOpt){\n",
       "    let outputDiv = document.currentScript.previousElementSibling;\n",
       "    if (outputDiv.id !== \"altair-viz-e2a96da8ec8f4d298b358eabee2e6693\") {\n",
       "      outputDiv = document.getElementById(\"altair-viz-e2a96da8ec8f4d298b358eabee2e6693\");\n",
       "    }\n",
       "    const paths = {\n",
       "      \"vega\": \"https://cdn.jsdelivr.net/npm//vega@5?noext\",\n",
       "      \"vega-lib\": \"https://cdn.jsdelivr.net/npm//vega-lib?noext\",\n",
       "      \"vega-lite\": \"https://cdn.jsdelivr.net/npm//vega-lite@4.8.1?noext\",\n",
       "      \"vega-embed\": \"https://cdn.jsdelivr.net/npm//vega-embed@6?noext\",\n",
       "    };\n",
       "\n",
       "    function loadScript(lib) {\n",
       "      return new Promise(function(resolve, reject) {\n",
       "        var s = document.createElement('script');\n",
       "        s.src = paths[lib];\n",
       "        s.async = true;\n",
       "        s.onload = () => resolve(paths[lib]);\n",
       "        s.onerror = () => reject(`Error loading script: ${paths[lib]}`);\n",
       "        document.getElementsByTagName(\"head\")[0].appendChild(s);\n",
       "      });\n",
       "    }\n",
       "\n",
       "    function showError(err) {\n",
       "      outputDiv.innerHTML = `<div class=\"error\" style=\"color:red;\">${err}</div>`;\n",
       "      throw err;\n",
       "    }\n",
       "\n",
       "    function displayChart(vegaEmbed) {\n",
       "      vegaEmbed(outputDiv, spec, embedOpt)\n",
       "        .catch(err => showError(`Javascript Error: ${err.message}<br>This usually means there's a typo in your chart specification. See the javascript console for the full traceback.`));\n",
       "    }\n",
       "\n",
       "    if(typeof define === \"function\" && define.amd) {\n",
       "      requirejs.config({paths});\n",
       "      require([\"vega-embed\"], displayChart, err => showError(`Error loading script: ${err.message}`));\n",
       "    } else if (typeof vegaEmbed === \"function\") {\n",
       "      displayChart(vegaEmbed);\n",
       "    } else {\n",
       "      loadScript(\"vega\")\n",
       "        .then(() => loadScript(\"vega-lite\"))\n",
       "        .then(() => loadScript(\"vega-embed\"))\n",
       "        .catch(showError)\n",
       "        .then(() => displayChart(vegaEmbed));\n",
       "    }\n",
       "  })({\"config\": {\"view\": {\"continuousWidth\": 400, \"continuousHeight\": 300}}, \"layer\": [{\"layer\": [{\"mark\": {\"type\": \"point\", \"size\": 75}, \"encoding\": {\"tooltip\": [{\"type\": \"temporal\", \"field\": \"date\"}, {\"type\": \"quantitative\", \"field\": \"positiveIncrease\"}, {\"type\": \"quantitative\", \"field\": \"sma7d\"}], \"x\": {\"type\": \"temporal\", \"field\": \"date\"}, \"y\": {\"type\": \"quantitative\", \"field\": \"positiveIncrease\"}}, \"selection\": {\"selector002\": {\"type\": \"interval\", \"bind\": \"scales\", \"encodings\": [\"x\", \"y\"]}}}, {\"mark\": {\"type\": \"line\", \"color\": \"purple\"}, \"encoding\": {\"x\": {\"type\": \"temporal\", \"field\": \"date\"}, \"y\": {\"type\": \"quantitative\", \"field\": \"sma7d\"}}}]}, {\"mark\": {\"type\": \"rule\", \"color\": \"#aaa\"}, \"encoding\": {\"x\": {\"type\": \"temporal\", \"field\": \"date\"}}, \"transform\": [{\"filter\": {\"selection\": \"selector001\"}}]}, {\"mark\": \"circle\", \"encoding\": {\"opacity\": {\"condition\": {\"value\": 1, \"selection\": \"selector001\"}, \"value\": 0}, \"tooltip\": [{\"type\": \"temporal\", \"field\": \"date\"}, {\"type\": \"quantitative\", \"field\": \"positiveIncrease\"}, {\"type\": \"quantitative\", \"field\": \"sma7d\"}], \"x\": {\"type\": \"temporal\", \"field\": \"date\"}, \"y\": {\"type\": \"quantitative\", \"field\": \"positiveIncrease\"}}, \"selection\": {\"selector001\": {\"type\": \"single\", \"encodings\": [\"x\"], \"on\": \"mouseover\", \"nearest\": true, \"empty\": \"none\"}}}, {\"mark\": {\"type\": \"text\", \"align\": \"left\", \"dx\": 5, \"dy\": -5, \"stroke\": \"white\", \"strokeWidth\": 2}, \"encoding\": {\"text\": {\"type\": \"quantitative\", \"field\": \"positiveIncrease\"}, \"tooltip\": [{\"type\": \"temporal\", \"field\": \"date\"}, {\"type\": \"quantitative\", \"field\": \"positiveIncrease\"}, {\"type\": \"quantitative\", \"field\": \"sma7d\"}], \"x\": {\"type\": \"temporal\", \"field\": \"date\"}, \"y\": {\"type\": \"quantitative\", \"field\": \"positiveIncrease\"}}, \"transform\": [{\"filter\": {\"selection\": \"selector001\"}}]}, {\"mark\": {\"type\": \"text\", \"align\": \"left\", \"dx\": 5, \"dy\": -5}, \"encoding\": {\"text\": {\"type\": \"quantitative\", \"field\": \"positiveIncrease\"}, \"tooltip\": [{\"type\": \"temporal\", \"field\": \"date\"}, {\"type\": \"quantitative\", \"field\": \"positiveIncrease\"}, {\"type\": \"quantitative\", \"field\": \"sma7d\"}], \"x\": {\"type\": \"temporal\", \"field\": \"date\"}, \"y\": {\"type\": \"quantitative\", \"field\": \"positiveIncrease\"}}, \"transform\": [{\"filter\": {\"selection\": \"selector001\"}}]}], \"data\": {\"name\": \"data-bdd3341c8d49a8ab2d557363fc73ff6e\"}, \"height\": 400, \"title\": \"US: positiveIncrease\", \"width\": 500, \"$schema\": \"https://vega.github.io/schema/vega-lite/v4.8.1.json\", \"datasets\": {\"data-bdd3341c8d49a8ab2d557363fc73ff6e\": [{\"date\": \"2020-07-10T00:00:00\", \"totalTestResultsIncrease\": 814898.0, \"positiveIncrease\": 66846.0, \"death\": 126270.0, \"deathIncrease\": 854.0, \"positiveRate\": 0.082, \"state\": \"US\", \"sma7d\": 54610.0}, {\"date\": \"2020-07-11T00:00:00\", \"totalTestResultsIncrease\": 707812.0, \"positiveIncrease\": 62896.0, \"death\": 127027.0, \"deathIncrease\": 757.0, \"positiveRate\": 0.089, \"state\": \"US\", \"sma7d\": 55832.571}, {\"date\": \"2020-07-12T00:00:00\", \"totalTestResultsIncrease\": 769448.0, \"positiveIncrease\": 61312.0, \"death\": 127503.0, \"deathIncrease\": 476.0, \"positiveRate\": 0.08, \"state\": \"US\", \"sma7d\": 58075.286}, {\"date\": \"2020-07-13T00:00:00\", \"totalTestResultsIncrease\": 691878.0, \"positiveIncrease\": 58097.0, \"death\": 127830.0, \"deathIncrease\": 327.0, \"positiveRate\": 0.084, \"state\": \"US\", \"sma7d\": 60386.571}, {\"date\": \"2020-07-14T00:00:00\", \"totalTestResultsIncrease\": 769997.0, \"positiveIncrease\": 62726.0, \"death\": 128566.0, \"deathIncrease\": 736.0, \"positiveRate\": 0.081, \"state\": \"US\", \"sma7d\": 61958.0}, {\"date\": \"2020-07-15T00:00:00\", \"totalTestResultsIncrease\": 773245.0, \"positiveIncrease\": 65797.0, \"death\": 129424.0, \"deathIncrease\": 858.0, \"positiveRate\": 0.085, \"state\": \"US\", \"sma7d\": 62404.429}, {\"date\": \"2020-07-16T00:00:00\", \"totalTestResultsIncrease\": 832430.0, \"positiveIncrease\": 71036.0, \"death\": 130371.0, \"deathIncrease\": 947.0, \"positiveRate\": 0.085, \"state\": \"US\", \"sma7d\": 64101.429}, {\"date\": \"2020-07-17T00:00:00\", \"totalTestResultsIncrease\": 839267.0, \"positiveIncrease\": 76844.0, \"death\": 131322.0, \"deathIncrease\": 951.0, \"positiveRate\": 0.092, \"state\": \"US\", \"sma7d\": 65529.714}, {\"date\": \"2020-07-18T00:00:00\", \"totalTestResultsIncrease\": 763602.0, \"positiveIncrease\": 64950.0, \"death\": 132194.0, \"deathIncrease\": 872.0, \"positiveRate\": 0.085, \"state\": \"US\", \"sma7d\": 65823.143}, {\"date\": \"2020-07-19T00:00:00\", \"totalTestResultsIncrease\": 786697.0, \"positiveIncrease\": 64259.0, \"death\": 132721.0, \"deathIncrease\": 527.0, \"positiveRate\": 0.082, \"state\": \"US\", \"sma7d\": 66244.143}, {\"date\": \"2020-07-20T00:00:00\", \"totalTestResultsIncrease\": 712427.0, \"positiveIncrease\": 57041.0, \"death\": 133084.0, \"deathIncrease\": 363.0, \"positiveRate\": 0.08, \"state\": \"US\", \"sma7d\": 66093.286}, {\"date\": \"2020-07-21T00:00:00\", \"totalTestResultsIncrease\": 754866.0, \"positiveIncrease\": 63929.0, \"death\": 134122.0, \"deathIncrease\": 1038.0, \"positiveRate\": 0.085, \"state\": \"US\", \"sma7d\": 66265.143}, {\"date\": \"2020-07-22T00:00:00\", \"totalTestResultsIncrease\": 801635.0, \"positiveIncrease\": 69334.0, \"death\": 135293.0, \"deathIncrease\": 1171.0, \"positiveRate\": 0.086, \"state\": \"US\", \"sma7d\": 66770.429}, {\"date\": \"2020-07-23T00:00:00\", \"totalTestResultsIncrease\": 845866.0, \"positiveIncrease\": 71553.0, \"death\": 136348.0, \"deathIncrease\": 1055.0, \"positiveRate\": 0.085, \"state\": \"US\", \"sma7d\": 66844.286}, {\"date\": \"2020-07-24T00:00:00\", \"totalTestResultsIncrease\": 933631.0, \"positiveIncrease\": 75235.0, \"death\": 137524.0, \"deathIncrease\": 1176.0, \"positiveRate\": 0.081, \"state\": \"US\", \"sma7d\": 66614.429}, {\"date\": \"2020-07-25T00:00:00\", \"totalTestResultsIncrease\": 791008.0, \"positiveIncrease\": 64742.0, \"death\": 138547.0, \"deathIncrease\": 1023.0, \"positiveRate\": 0.082, \"state\": \"US\", \"sma7d\": 66584.714}, {\"date\": \"2020-07-26T00:00:00\", \"totalTestResultsIncrease\": 851063.0, \"positiveIncrease\": 61009.0, \"death\": 139106.0, \"deathIncrease\": 559.0, \"positiveRate\": 0.072, \"state\": \"US\", \"sma7d\": 66120.429}, {\"date\": \"2020-07-27T00:00:00\", \"totalTestResultsIncrease\": 762706.0, \"positiveIncrease\": 55321.0, \"death\": 140165.0, \"deathIncrease\": 1059.0, \"positiveRate\": 0.073, \"state\": \"US\", \"sma7d\": 65874.714}, {\"date\": \"2020-07-28T00:00:00\", \"totalTestResultsIncrease\": 738079.0, \"positiveIncrease\": 56452.0, \"death\": 141287.0, \"deathIncrease\": 1122.0, \"positiveRate\": 0.076, \"state\": \"US\", \"sma7d\": 64806.571}, {\"date\": \"2020-07-29T00:00:00\", \"totalTestResultsIncrease\": 864481.0, \"positiveIncrease\": 66960.0, \"death\": 142779.0, \"deathIncrease\": 1492.0, \"positiveRate\": 0.077, \"state\": \"US\", \"sma7d\": 64467.429}, {\"date\": \"2020-07-30T00:00:00\", \"totalTestResultsIncrease\": 814659.0, \"positiveIncrease\": 69419.0, \"death\": 144038.0, \"deathIncrease\": 1259.0, \"positiveRate\": 0.085, \"state\": \"US\", \"sma7d\": 64162.571}, {\"date\": \"2020-07-31T00:00:00\", \"totalTestResultsIncrease\": 731889.0, \"positiveIncrease\": 67624.0, \"death\": 145350.0, \"deathIncrease\": 1312.0, \"positiveRate\": 0.092, \"state\": \"US\", \"sma7d\": 63075.286}, {\"date\": \"2020-08-01T00:00:00\", \"totalTestResultsIncrease\": 745667.0, \"positiveIncrease\": 61102.0, \"death\": 146540.0, \"deathIncrease\": 1190.0, \"positiveRate\": 0.082, \"state\": \"US\", \"sma7d\": 62555.286}, {\"date\": \"2020-08-02T00:00:00\", \"totalTestResultsIncrease\": 699476.0, \"positiveIncrease\": 46756.0, \"death\": 147038.0, \"deathIncrease\": 498.0, \"positiveRate\": 0.067, \"state\": \"US\", \"sma7d\": 60519.143}, {\"date\": \"2020-08-03T00:00:00\", \"totalTestResultsIncrease\": 745121.0, \"positiveIncrease\": 49769.0, \"death\": 147557.0, \"deathIncrease\": 519.0, \"positiveRate\": 0.067, \"state\": \"US\", \"sma7d\": 59726.0}, {\"date\": \"2020-08-04T00:00:00\", \"totalTestResultsIncrease\": 717065.0, \"positiveIncrease\": 51865.0, \"death\": 148812.0, \"deathIncrease\": 1255.0, \"positiveRate\": 0.072, \"state\": \"US\", \"sma7d\": 59070.714}, {\"date\": \"2020-08-05T00:00:00\", \"totalTestResultsIncrease\": 699559.0, \"positiveIncrease\": 52326.0, \"death\": 150158.0, \"deathIncrease\": 1346.0, \"positiveRate\": 0.075, \"state\": \"US\", \"sma7d\": 56980.143}, {\"date\": \"2020-08-06T00:00:00\", \"totalTestResultsIncrease\": 766599.0, \"positiveIncrease\": 54185.0, \"death\": 151409.0, \"deathIncrease\": 1251.0, \"positiveRate\": 0.071, \"state\": \"US\", \"sma7d\": 54803.857}, {\"date\": \"2020-08-07T00:00:00\", \"totalTestResultsIncrease\": 785380.0, \"positiveIncrease\": 61346.0, \"death\": 152742.0, \"deathIncrease\": 1333.0, \"positiveRate\": 0.078, \"state\": \"US\", \"sma7d\": 53907.0}, {\"date\": \"2020-08-08T00:00:00\", \"totalTestResultsIncrease\": 683357.0, \"positiveIncrease\": 53713.0, \"death\": 153831.0, \"deathIncrease\": 1089.0, \"positiveRate\": 0.079, \"state\": \"US\", \"sma7d\": 52851.429}, {\"date\": \"2020-08-09T00:00:00\", \"totalTestResultsIncrease\": 724040.0, \"positiveIncrease\": 50624.0, \"death\": 154447.0, \"deathIncrease\": 616.0, \"positiveRate\": 0.07, \"state\": \"US\", \"sma7d\": 53404.0}, {\"date\": \"2020-08-10T00:00:00\", \"totalTestResultsIncrease\": 740948.0, \"positiveIncrease\": 42089.0, \"death\": 154873.0, \"deathIncrease\": 426.0, \"positiveRate\": 0.057, \"state\": \"US\", \"sma7d\": 52306.857}, {\"date\": \"2020-08-11T00:00:00\", \"totalTestResultsIncrease\": 759973.0, \"positiveIncrease\": 55702.0, \"death\": 156199.0, \"deathIncrease\": 1326.0, \"positiveRate\": 0.073, \"state\": \"US\", \"sma7d\": 52855.0}, {\"date\": \"2020-08-12T00:00:00\", \"totalTestResultsIncrease\": 500196.0, \"positiveIncrease\": 56132.0, \"death\": 157716.0, \"deathIncrease\": 1517.0, \"positiveRate\": 0.112, \"state\": \"US\", \"sma7d\": 53398.714}, {\"date\": \"2020-08-13T00:00:00\", \"totalTestResultsIncrease\": 900258.0, \"positiveIncrease\": 51760.0, \"death\": 158879.0, \"deathIncrease\": 1163.0, \"positiveRate\": 0.057, \"state\": \"US\", \"sma7d\": 53052.286}, {\"date\": \"2020-08-14T00:00:00\", \"totalTestResultsIncrease\": 862330.0, \"positiveIncrease\": 55635.0, \"death\": 160095.0, \"deathIncrease\": 1216.0, \"positiveRate\": 0.065, \"state\": \"US\", \"sma7d\": 52236.429}, {\"date\": \"2020-08-15T00:00:00\", \"totalTestResultsIncrease\": 756685.0, \"positiveIncrease\": 56148.0, \"death\": 161314.0, \"deathIncrease\": 1219.0, \"positiveRate\": 0.074, \"state\": \"US\", \"sma7d\": 52584.286}, {\"date\": \"2020-08-16T00:00:00\", \"totalTestResultsIncrease\": 790395.0, \"positiveIncrease\": 42487.0, \"death\": 161933.0, \"deathIncrease\": 619.0, \"positiveRate\": 0.054, \"state\": \"US\", \"sma7d\": 51421.857}, {\"date\": \"2020-08-17T00:00:00\", \"totalTestResultsIncrease\": 670060.0, \"positiveIncrease\": 37881.0, \"death\": 162340.0, \"deathIncrease\": 407.0, \"positiveRate\": 0.057, \"state\": \"US\", \"sma7d\": 50820.714}, {\"date\": \"2020-08-18T00:00:00\", \"totalTestResultsIncrease\": 663624.0, \"positiveIncrease\": 40796.0, \"death\": 163536.0, \"deathIncrease\": 1196.0, \"positiveRate\": 0.061, \"state\": \"US\", \"sma7d\": 48691.286}, {\"date\": \"2020-08-19T00:00:00\", \"totalTestResultsIncrease\": 673987.0, \"positiveIncrease\": 44953.0, \"death\": 164956.0, \"deathIncrease\": 1420.0, \"positiveRate\": 0.067, \"state\": \"US\", \"sma7d\": 47094.286}, {\"date\": \"2020-08-20T00:00:00\", \"totalTestResultsIncrease\": 703255.0, \"positiveIncrease\": 43758.0, \"death\": 166090.0, \"deathIncrease\": 1134.0, \"positiveRate\": 0.062, \"state\": \"US\", \"sma7d\": 45951.143}, {\"date\": \"2020-08-21T00:00:00\", \"totalTestResultsIncrease\": 759085.0, \"positiveIncrease\": 46562.0, \"death\": 167213.0, \"deathIncrease\": 1123.0, \"positiveRate\": 0.061, \"state\": \"US\", \"sma7d\": 44655.0}, {\"date\": \"2020-08-22T00:00:00\", \"totalTestResultsIncrease\": 773835.0, \"positiveIncrease\": 46242.0, \"death\": 168242.0, \"deathIncrease\": 1029.0, \"positiveRate\": 0.06, \"state\": \"US\", \"sma7d\": 43239.857}, {\"date\": \"2020-08-23T00:00:00\", \"totalTestResultsIncrease\": 629488.0, \"positiveIncrease\": 37567.0, \"death\": 168814.0, \"deathIncrease\": 572.0, \"positiveRate\": 0.06, \"state\": \"US\", \"sma7d\": 42537.0}, {\"date\": \"2020-08-24T00:00:00\", \"totalTestResultsIncrease\": 692240.0, \"positiveIncrease\": 34641.0, \"death\": 169157.0, \"deathIncrease\": 343.0, \"positiveRate\": 0.05, \"state\": \"US\", \"sma7d\": 42074.143}, {\"date\": \"2020-08-25T00:00:00\", \"totalTestResultsIncrease\": 645605.0, \"positiveIncrease\": 36374.0, \"death\": 170304.0, \"deathIncrease\": 1147.0, \"positiveRate\": 0.056, \"state\": \"US\", \"sma7d\": 41442.429}, {\"date\": \"2020-08-26T00:00:00\", \"totalTestResultsIncrease\": 654963.0, \"positiveIncrease\": 43356.0, \"death\": 171602.0, \"deathIncrease\": 1298.0, \"positiveRate\": 0.066, \"state\": \"US\", \"sma7d\": 41214.286}, {\"date\": \"2020-08-27T00:00:00\", \"totalTestResultsIncrease\": 751897.0, \"positiveIncrease\": 43984.0, \"death\": 172731.0, \"deathIncrease\": 1129.0, \"positiveRate\": 0.058, \"state\": \"US\", \"sma7d\": 41246.571}, {\"date\": \"2020-08-28T00:00:00\", \"totalTestResultsIncrease\": 783235.0, \"positiveIncrease\": 46546.0, \"death\": 173754.0, \"deathIncrease\": 1023.0, \"positiveRate\": 0.059, \"state\": \"US\", \"sma7d\": 41244.286}, {\"date\": \"2020-08-29T00:00:00\", \"totalTestResultsIncrease\": 775615.0, \"positiveIncrease\": 44502.0, \"death\": 174769.0, \"deathIncrease\": 1015.0, \"positiveRate\": 0.057, \"state\": \"US\", \"sma7d\": 40995.714}, {\"date\": \"2020-08-30T00:00:00\", \"totalTestResultsIncrease\": 746541.0, \"positiveIncrease\": 39498.0, \"death\": 175244.0, \"deathIncrease\": 475.0, \"positiveRate\": 0.053, \"state\": \"US\", \"sma7d\": 41271.571}, {\"date\": \"2020-08-31T00:00:00\", \"totalTestResultsIncrease\": 685624.0, \"positiveIncrease\": 31406.0, \"death\": 175610.0, \"deathIncrease\": 366.0, \"positiveRate\": 0.046, \"state\": \"US\", \"sma7d\": 40809.429}, {\"date\": \"2020-09-01T00:00:00\", \"totalTestResultsIncrease\": 704311.0, \"positiveIncrease\": 42423.0, \"death\": 176637.0, \"deathIncrease\": 1027.0, \"positiveRate\": 0.06, \"state\": \"US\", \"sma7d\": 41673.571}, {\"date\": \"2020-09-02T00:00:00\", \"totalTestResultsIncrease\": 649376.0, \"positiveIncrease\": 30409.0, \"death\": 177669.0, \"deathIncrease\": 1032.0, \"positiveRate\": 0.047, \"state\": \"US\", \"sma7d\": 39824.0}, {\"date\": \"2020-09-03T00:00:00\", \"totalTestResultsIncrease\": 733129.0, \"positiveIncrease\": 44188.0, \"death\": 178702.0, \"deathIncrease\": 1072.0, \"positiveRate\": 0.06, \"state\": \"US\", \"sma7d\": 39853.143}]}}, {\"mode\": \"vega-lite\"});\n",
       "</script>"
      ],
      "text/plain": [
       "alt.LayerChart(...)"
      ]
     },
     "execution_count": 7,
     "metadata": {},
     "output_type": "execute_result"
    }
   ],
   "source": [
    "create_plot(us, 'positiveIncrease')"
   ]
  },
  {
   "cell_type": "code",
   "execution_count": 8,
   "metadata": {
    "execution": {
     "iopub.execute_input": "2020-09-03T22:33:17.477160Z",
     "iopub.status.busy": "2020-09-03T22:33:17.440101Z",
     "iopub.status.idle": "2020-09-03T22:33:17.504113Z",
     "shell.execute_reply": "2020-09-03T22:33:17.504716Z"
    },
    "papermill": {
     "duration": 0.086458,
     "end_time": "2020-09-03T22:33:17.504894",
     "exception": false,
     "start_time": "2020-09-03T22:33:17.418436",
     "status": "completed"
    },
    "tags": []
   },
   "outputs": [
    {
     "data": {
      "text/html": [
       "\n",
       "<div id=\"altair-viz-9b52cbae31294d5b9635a3cf3739a65e\"></div>\n",
       "<script type=\"text/javascript\">\n",
       "  (function(spec, embedOpt){\n",
       "    let outputDiv = document.currentScript.previousElementSibling;\n",
       "    if (outputDiv.id !== \"altair-viz-9b52cbae31294d5b9635a3cf3739a65e\") {\n",
       "      outputDiv = document.getElementById(\"altair-viz-9b52cbae31294d5b9635a3cf3739a65e\");\n",
       "    }\n",
       "    const paths = {\n",
       "      \"vega\": \"https://cdn.jsdelivr.net/npm//vega@5?noext\",\n",
       "      \"vega-lib\": \"https://cdn.jsdelivr.net/npm//vega-lib?noext\",\n",
       "      \"vega-lite\": \"https://cdn.jsdelivr.net/npm//vega-lite@4.8.1?noext\",\n",
       "      \"vega-embed\": \"https://cdn.jsdelivr.net/npm//vega-embed@6?noext\",\n",
       "    };\n",
       "\n",
       "    function loadScript(lib) {\n",
       "      return new Promise(function(resolve, reject) {\n",
       "        var s = document.createElement('script');\n",
       "        s.src = paths[lib];\n",
       "        s.async = true;\n",
       "        s.onload = () => resolve(paths[lib]);\n",
       "        s.onerror = () => reject(`Error loading script: ${paths[lib]}`);\n",
       "        document.getElementsByTagName(\"head\")[0].appendChild(s);\n",
       "      });\n",
       "    }\n",
       "\n",
       "    function showError(err) {\n",
       "      outputDiv.innerHTML = `<div class=\"error\" style=\"color:red;\">${err}</div>`;\n",
       "      throw err;\n",
       "    }\n",
       "\n",
       "    function displayChart(vegaEmbed) {\n",
       "      vegaEmbed(outputDiv, spec, embedOpt)\n",
       "        .catch(err => showError(`Javascript Error: ${err.message}<br>This usually means there's a typo in your chart specification. See the javascript console for the full traceback.`));\n",
       "    }\n",
       "\n",
       "    if(typeof define === \"function\" && define.amd) {\n",
       "      requirejs.config({paths});\n",
       "      require([\"vega-embed\"], displayChart, err => showError(`Error loading script: ${err.message}`));\n",
       "    } else if (typeof vegaEmbed === \"function\") {\n",
       "      displayChart(vegaEmbed);\n",
       "    } else {\n",
       "      loadScript(\"vega\")\n",
       "        .then(() => loadScript(\"vega-lite\"))\n",
       "        .then(() => loadScript(\"vega-embed\"))\n",
       "        .catch(showError)\n",
       "        .then(() => displayChart(vegaEmbed));\n",
       "    }\n",
       "  })({\"config\": {\"view\": {\"continuousWidth\": 400, \"continuousHeight\": 300}}, \"layer\": [{\"layer\": [{\"mark\": {\"type\": \"point\", \"size\": 75}, \"encoding\": {\"tooltip\": [{\"type\": \"temporal\", \"field\": \"date\"}, {\"type\": \"quantitative\", \"field\": \"positiveRate\"}, {\"type\": \"quantitative\", \"field\": \"sma7d\"}], \"x\": {\"type\": \"temporal\", \"field\": \"date\"}, \"y\": {\"type\": \"quantitative\", \"field\": \"positiveRate\"}}, \"selection\": {\"selector004\": {\"type\": \"interval\", \"bind\": \"scales\", \"encodings\": [\"x\", \"y\"]}}}, {\"mark\": {\"type\": \"line\", \"color\": \"purple\"}, \"encoding\": {\"x\": {\"type\": \"temporal\", \"field\": \"date\"}, \"y\": {\"type\": \"quantitative\", \"field\": \"sma7d\"}}}]}, {\"mark\": {\"type\": \"rule\", \"color\": \"#aaa\"}, \"encoding\": {\"x\": {\"type\": \"temporal\", \"field\": \"date\"}}, \"transform\": [{\"filter\": {\"selection\": \"selector003\"}}]}, {\"mark\": \"circle\", \"encoding\": {\"opacity\": {\"condition\": {\"value\": 1, \"selection\": \"selector003\"}, \"value\": 0}, \"tooltip\": [{\"type\": \"temporal\", \"field\": \"date\"}, {\"type\": \"quantitative\", \"field\": \"positiveRate\"}, {\"type\": \"quantitative\", \"field\": \"sma7d\"}], \"x\": {\"type\": \"temporal\", \"field\": \"date\"}, \"y\": {\"type\": \"quantitative\", \"field\": \"positiveRate\"}}, \"selection\": {\"selector003\": {\"type\": \"single\", \"encodings\": [\"x\"], \"on\": \"mouseover\", \"nearest\": true, \"empty\": \"none\"}}}, {\"mark\": {\"type\": \"text\", \"align\": \"left\", \"dx\": 5, \"dy\": -5, \"stroke\": \"white\", \"strokeWidth\": 2}, \"encoding\": {\"text\": {\"type\": \"quantitative\", \"field\": \"positiveRate\"}, \"tooltip\": [{\"type\": \"temporal\", \"field\": \"date\"}, {\"type\": \"quantitative\", \"field\": \"positiveRate\"}, {\"type\": \"quantitative\", \"field\": \"sma7d\"}], \"x\": {\"type\": \"temporal\", \"field\": \"date\"}, \"y\": {\"type\": \"quantitative\", \"field\": \"positiveRate\"}}, \"transform\": [{\"filter\": {\"selection\": \"selector003\"}}]}, {\"mark\": {\"type\": \"text\", \"align\": \"left\", \"dx\": 5, \"dy\": -5}, \"encoding\": {\"text\": {\"type\": \"quantitative\", \"field\": \"positiveRate\"}, \"tooltip\": [{\"type\": \"temporal\", \"field\": \"date\"}, {\"type\": \"quantitative\", \"field\": \"positiveRate\"}, {\"type\": \"quantitative\", \"field\": \"sma7d\"}], \"x\": {\"type\": \"temporal\", \"field\": \"date\"}, \"y\": {\"type\": \"quantitative\", \"field\": \"positiveRate\"}}, \"transform\": [{\"filter\": {\"selection\": \"selector003\"}}]}], \"data\": {\"name\": \"data-7d074bac94103a8c52b27f34717e3f02\"}, \"height\": 400, \"title\": \"US: positiveRate\", \"width\": 500, \"$schema\": \"https://vega.github.io/schema/vega-lite/v4.8.1.json\", \"datasets\": {\"data-7d074bac94103a8c52b27f34717e3f02\": [{\"date\": \"2020-07-10T00:00:00\", \"totalTestResultsIncrease\": 814898.0, \"positiveIncrease\": 66846.0, \"death\": 126270.0, \"deathIncrease\": 854.0, \"positiveRate\": 0.082, \"state\": \"US\", \"sma7d\": 0.082}, {\"date\": \"2020-07-11T00:00:00\", \"totalTestResultsIncrease\": 707812.0, \"positiveIncrease\": 62896.0, \"death\": 127027.0, \"deathIncrease\": 757.0, \"positiveRate\": 0.089, \"state\": \"US\", \"sma7d\": 0.083}, {\"date\": \"2020-07-12T00:00:00\", \"totalTestResultsIncrease\": 769448.0, \"positiveIncrease\": 61312.0, \"death\": 127503.0, \"deathIncrease\": 476.0, \"positiveRate\": 0.08, \"state\": \"US\", \"sma7d\": 0.085}, {\"date\": \"2020-07-13T00:00:00\", \"totalTestResultsIncrease\": 691878.0, \"positiveIncrease\": 58097.0, \"death\": 127830.0, \"deathIncrease\": 327.0, \"positiveRate\": 0.084, \"state\": \"US\", \"sma7d\": 0.085}, {\"date\": \"2020-07-14T00:00:00\", \"totalTestResultsIncrease\": 769997.0, \"positiveIncrease\": 62726.0, \"death\": 128566.0, \"deathIncrease\": 736.0, \"positiveRate\": 0.081, \"state\": \"US\", \"sma7d\": 0.085}, {\"date\": \"2020-07-15T00:00:00\", \"totalTestResultsIncrease\": 773245.0, \"positiveIncrease\": 65797.0, \"death\": 129424.0, \"deathIncrease\": 858.0, \"positiveRate\": 0.085, \"state\": \"US\", \"sma7d\": 0.083}, {\"date\": \"2020-07-16T00:00:00\", \"totalTestResultsIncrease\": 832430.0, \"positiveIncrease\": 71036.0, \"death\": 130371.0, \"deathIncrease\": 947.0, \"positiveRate\": 0.085, \"state\": \"US\", \"sma7d\": 0.084}, {\"date\": \"2020-07-17T00:00:00\", \"totalTestResultsIncrease\": 839267.0, \"positiveIncrease\": 76844.0, \"death\": 131322.0, \"deathIncrease\": 951.0, \"positiveRate\": 0.092, \"state\": \"US\", \"sma7d\": 0.085}, {\"date\": \"2020-07-18T00:00:00\", \"totalTestResultsIncrease\": 763602.0, \"positiveIncrease\": 64950.0, \"death\": 132194.0, \"deathIncrease\": 872.0, \"positiveRate\": 0.085, \"state\": \"US\", \"sma7d\": 0.085}, {\"date\": \"2020-07-19T00:00:00\", \"totalTestResultsIncrease\": 786697.0, \"positiveIncrease\": 64259.0, \"death\": 132721.0, \"deathIncrease\": 527.0, \"positiveRate\": 0.082, \"state\": \"US\", \"sma7d\": 0.085}, {\"date\": \"2020-07-20T00:00:00\", \"totalTestResultsIncrease\": 712427.0, \"positiveIncrease\": 57041.0, \"death\": 133084.0, \"deathIncrease\": 363.0, \"positiveRate\": 0.08, \"state\": \"US\", \"sma7d\": 0.084}, {\"date\": \"2020-07-21T00:00:00\", \"totalTestResultsIncrease\": 754866.0, \"positiveIncrease\": 63929.0, \"death\": 134122.0, \"deathIncrease\": 1038.0, \"positiveRate\": 0.085, \"state\": \"US\", \"sma7d\": 0.085}, {\"date\": \"2020-07-22T00:00:00\", \"totalTestResultsIncrease\": 801635.0, \"positiveIncrease\": 69334.0, \"death\": 135293.0, \"deathIncrease\": 1171.0, \"positiveRate\": 0.086, \"state\": \"US\", \"sma7d\": 0.085}, {\"date\": \"2020-07-23T00:00:00\", \"totalTestResultsIncrease\": 845866.0, \"positiveIncrease\": 71553.0, \"death\": 136348.0, \"deathIncrease\": 1055.0, \"positiveRate\": 0.085, \"state\": \"US\", \"sma7d\": 0.085}, {\"date\": \"2020-07-24T00:00:00\", \"totalTestResultsIncrease\": 933631.0, \"positiveIncrease\": 75235.0, \"death\": 137524.0, \"deathIncrease\": 1176.0, \"positiveRate\": 0.081, \"state\": \"US\", \"sma7d\": 0.083}, {\"date\": \"2020-07-25T00:00:00\", \"totalTestResultsIncrease\": 791008.0, \"positiveIncrease\": 64742.0, \"death\": 138547.0, \"deathIncrease\": 1023.0, \"positiveRate\": 0.082, \"state\": \"US\", \"sma7d\": 0.083}, {\"date\": \"2020-07-26T00:00:00\", \"totalTestResultsIncrease\": 851063.0, \"positiveIncrease\": 61009.0, \"death\": 139106.0, \"deathIncrease\": 559.0, \"positiveRate\": 0.072, \"state\": \"US\", \"sma7d\": 0.082}, {\"date\": \"2020-07-27T00:00:00\", \"totalTestResultsIncrease\": 762706.0, \"positiveIncrease\": 55321.0, \"death\": 140165.0, \"deathIncrease\": 1059.0, \"positiveRate\": 0.073, \"state\": \"US\", \"sma7d\": 0.081}, {\"date\": \"2020-07-28T00:00:00\", \"totalTestResultsIncrease\": 738079.0, \"positiveIncrease\": 56452.0, \"death\": 141287.0, \"deathIncrease\": 1122.0, \"positiveRate\": 0.076, \"state\": \"US\", \"sma7d\": 0.079}, {\"date\": \"2020-07-29T00:00:00\", \"totalTestResultsIncrease\": 864481.0, \"positiveIncrease\": 66960.0, \"death\": 142779.0, \"deathIncrease\": 1492.0, \"positiveRate\": 0.077, \"state\": \"US\", \"sma7d\": 0.078}, {\"date\": \"2020-07-30T00:00:00\", \"totalTestResultsIncrease\": 814659.0, \"positiveIncrease\": 69419.0, \"death\": 144038.0, \"deathIncrease\": 1259.0, \"positiveRate\": 0.085, \"state\": \"US\", \"sma7d\": 0.078}, {\"date\": \"2020-07-31T00:00:00\", \"totalTestResultsIncrease\": 731889.0, \"positiveIncrease\": 67624.0, \"death\": 145350.0, \"deathIncrease\": 1312.0, \"positiveRate\": 0.092, \"state\": \"US\", \"sma7d\": 0.08}, {\"date\": \"2020-08-01T00:00:00\", \"totalTestResultsIncrease\": 745667.0, \"positiveIncrease\": 61102.0, \"death\": 146540.0, \"deathIncrease\": 1190.0, \"positiveRate\": 0.082, \"state\": \"US\", \"sma7d\": 0.08}, {\"date\": \"2020-08-02T00:00:00\", \"totalTestResultsIncrease\": 699476.0, \"positiveIncrease\": 46756.0, \"death\": 147038.0, \"deathIncrease\": 498.0, \"positiveRate\": 0.067, \"state\": \"US\", \"sma7d\": 0.079}, {\"date\": \"2020-08-03T00:00:00\", \"totalTestResultsIncrease\": 745121.0, \"positiveIncrease\": 49769.0, \"death\": 147557.0, \"deathIncrease\": 519.0, \"positiveRate\": 0.067, \"state\": \"US\", \"sma7d\": 0.078}, {\"date\": \"2020-08-04T00:00:00\", \"totalTestResultsIncrease\": 717065.0, \"positiveIncrease\": 51865.0, \"death\": 148812.0, \"deathIncrease\": 1255.0, \"positiveRate\": 0.072, \"state\": \"US\", \"sma7d\": 0.077}, {\"date\": \"2020-08-05T00:00:00\", \"totalTestResultsIncrease\": 699559.0, \"positiveIncrease\": 52326.0, \"death\": 150158.0, \"deathIncrease\": 1346.0, \"positiveRate\": 0.075, \"state\": \"US\", \"sma7d\": 0.077}, {\"date\": \"2020-08-06T00:00:00\", \"totalTestResultsIncrease\": 766599.0, \"positiveIncrease\": 54185.0, \"death\": 151409.0, \"deathIncrease\": 1251.0, \"positiveRate\": 0.071, \"state\": \"US\", \"sma7d\": 0.075}, {\"date\": \"2020-08-07T00:00:00\", \"totalTestResultsIncrease\": 785380.0, \"positiveIncrease\": 61346.0, \"death\": 152742.0, \"deathIncrease\": 1333.0, \"positiveRate\": 0.078, \"state\": \"US\", \"sma7d\": 0.073}, {\"date\": \"2020-08-08T00:00:00\", \"totalTestResultsIncrease\": 683357.0, \"positiveIncrease\": 53713.0, \"death\": 153831.0, \"deathIncrease\": 1089.0, \"positiveRate\": 0.079, \"state\": \"US\", \"sma7d\": 0.073}, {\"date\": \"2020-08-09T00:00:00\", \"totalTestResultsIncrease\": 724040.0, \"positiveIncrease\": 50624.0, \"death\": 154447.0, \"deathIncrease\": 616.0, \"positiveRate\": 0.07, \"state\": \"US\", \"sma7d\": 0.073}, {\"date\": \"2020-08-10T00:00:00\", \"totalTestResultsIncrease\": 740948.0, \"positiveIncrease\": 42089.0, \"death\": 154873.0, \"deathIncrease\": 426.0, \"positiveRate\": 0.057, \"state\": \"US\", \"sma7d\": 0.072}, {\"date\": \"2020-08-11T00:00:00\", \"totalTestResultsIncrease\": 759973.0, \"positiveIncrease\": 55702.0, \"death\": 156199.0, \"deathIncrease\": 1326.0, \"positiveRate\": 0.073, \"state\": \"US\", \"sma7d\": 0.072}, {\"date\": \"2020-08-12T00:00:00\", \"totalTestResultsIncrease\": 500196.0, \"positiveIncrease\": 56132.0, \"death\": 157716.0, \"deathIncrease\": 1517.0, \"positiveRate\": 0.112, \"state\": \"US\", \"sma7d\": 0.077}, {\"date\": \"2020-08-13T00:00:00\", \"totalTestResultsIncrease\": 900258.0, \"positiveIncrease\": 51760.0, \"death\": 158879.0, \"deathIncrease\": 1163.0, \"positiveRate\": 0.057, \"state\": \"US\", \"sma7d\": 0.075}, {\"date\": \"2020-08-14T00:00:00\", \"totalTestResultsIncrease\": 862330.0, \"positiveIncrease\": 55635.0, \"death\": 160095.0, \"deathIncrease\": 1216.0, \"positiveRate\": 0.065, \"state\": \"US\", \"sma7d\": 0.073}, {\"date\": \"2020-08-15T00:00:00\", \"totalTestResultsIncrease\": 756685.0, \"positiveIncrease\": 56148.0, \"death\": 161314.0, \"deathIncrease\": 1219.0, \"positiveRate\": 0.074, \"state\": \"US\", \"sma7d\": 0.073}, {\"date\": \"2020-08-16T00:00:00\", \"totalTestResultsIncrease\": 790395.0, \"positiveIncrease\": 42487.0, \"death\": 161933.0, \"deathIncrease\": 619.0, \"positiveRate\": 0.054, \"state\": \"US\", \"sma7d\": 0.07}, {\"date\": \"2020-08-17T00:00:00\", \"totalTestResultsIncrease\": 670060.0, \"positiveIncrease\": 37881.0, \"death\": 162340.0, \"deathIncrease\": 407.0, \"positiveRate\": 0.057, \"state\": \"US\", \"sma7d\": 0.07}, {\"date\": \"2020-08-18T00:00:00\", \"totalTestResultsIncrease\": 663624.0, \"positiveIncrease\": 40796.0, \"death\": 163536.0, \"deathIncrease\": 1196.0, \"positiveRate\": 0.061, \"state\": \"US\", \"sma7d\": 0.069}, {\"date\": \"2020-08-19T00:00:00\", \"totalTestResultsIncrease\": 673987.0, \"positiveIncrease\": 44953.0, \"death\": 164956.0, \"deathIncrease\": 1420.0, \"positiveRate\": 0.067, \"state\": \"US\", \"sma7d\": 0.062}, {\"date\": \"2020-08-20T00:00:00\", \"totalTestResultsIncrease\": 703255.0, \"positiveIncrease\": 43758.0, \"death\": 166090.0, \"deathIncrease\": 1134.0, \"positiveRate\": 0.062, \"state\": \"US\", \"sma7d\": 0.063}, {\"date\": \"2020-08-21T00:00:00\", \"totalTestResultsIncrease\": 759085.0, \"positiveIncrease\": 46562.0, \"death\": 167213.0, \"deathIncrease\": 1123.0, \"positiveRate\": 0.061, \"state\": \"US\", \"sma7d\": 0.062}, {\"date\": \"2020-08-22T00:00:00\", \"totalTestResultsIncrease\": 773835.0, \"positiveIncrease\": 46242.0, \"death\": 168242.0, \"deathIncrease\": 1029.0, \"positiveRate\": 0.06, \"state\": \"US\", \"sma7d\": 0.06}, {\"date\": \"2020-08-23T00:00:00\", \"totalTestResultsIncrease\": 629488.0, \"positiveIncrease\": 37567.0, \"death\": 168814.0, \"deathIncrease\": 572.0, \"positiveRate\": 0.06, \"state\": \"US\", \"sma7d\": 0.061}, {\"date\": \"2020-08-24T00:00:00\", \"totalTestResultsIncrease\": 692240.0, \"positiveIncrease\": 34641.0, \"death\": 169157.0, \"deathIncrease\": 343.0, \"positiveRate\": 0.05, \"state\": \"US\", \"sma7d\": 0.06}, {\"date\": \"2020-08-25T00:00:00\", \"totalTestResultsIncrease\": 645605.0, \"positiveIncrease\": 36374.0, \"death\": 170304.0, \"deathIncrease\": 1147.0, \"positiveRate\": 0.056, \"state\": \"US\", \"sma7d\": 0.059}, {\"date\": \"2020-08-26T00:00:00\", \"totalTestResultsIncrease\": 654963.0, \"positiveIncrease\": 43356.0, \"death\": 171602.0, \"deathIncrease\": 1298.0, \"positiveRate\": 0.066, \"state\": \"US\", \"sma7d\": 0.059}, {\"date\": \"2020-08-27T00:00:00\", \"totalTestResultsIncrease\": 751897.0, \"positiveIncrease\": 43984.0, \"death\": 172731.0, \"deathIncrease\": 1129.0, \"positiveRate\": 0.058, \"state\": \"US\", \"sma7d\": 0.059}, {\"date\": \"2020-08-28T00:00:00\", \"totalTestResultsIncrease\": 783235.0, \"positiveIncrease\": 46546.0, \"death\": 173754.0, \"deathIncrease\": 1023.0, \"positiveRate\": 0.059, \"state\": \"US\", \"sma7d\": 0.058}, {\"date\": \"2020-08-29T00:00:00\", \"totalTestResultsIncrease\": 775615.0, \"positiveIncrease\": 44502.0, \"death\": 174769.0, \"deathIncrease\": 1015.0, \"positiveRate\": 0.057, \"state\": \"US\", \"sma7d\": 0.058}, {\"date\": \"2020-08-30T00:00:00\", \"totalTestResultsIncrease\": 746541.0, \"positiveIncrease\": 39498.0, \"death\": 175244.0, \"deathIncrease\": 475.0, \"positiveRate\": 0.053, \"state\": \"US\", \"sma7d\": 0.057}, {\"date\": \"2020-08-31T00:00:00\", \"totalTestResultsIncrease\": 685624.0, \"positiveIncrease\": 31406.0, \"death\": 175610.0, \"deathIncrease\": 366.0, \"positiveRate\": 0.046, \"state\": \"US\", \"sma7d\": 0.056}, {\"date\": \"2020-09-01T00:00:00\", \"totalTestResultsIncrease\": 704311.0, \"positiveIncrease\": 42423.0, \"death\": 176637.0, \"deathIncrease\": 1027.0, \"positiveRate\": 0.06, \"state\": \"US\", \"sma7d\": 0.057}, {\"date\": \"2020-09-02T00:00:00\", \"totalTestResultsIncrease\": 649376.0, \"positiveIncrease\": 30409.0, \"death\": 177669.0, \"deathIncrease\": 1032.0, \"positiveRate\": 0.047, \"state\": \"US\", \"sma7d\": 0.054}, {\"date\": \"2020-09-03T00:00:00\", \"totalTestResultsIncrease\": 733129.0, \"positiveIncrease\": 44188.0, \"death\": 178702.0, \"deathIncrease\": 1072.0, \"positiveRate\": 0.06, \"state\": \"US\", \"sma7d\": 0.055}]}}, {\"mode\": \"vega-lite\"});\n",
       "</script>"
      ],
      "text/plain": [
       "alt.LayerChart(...)"
      ]
     },
     "execution_count": 8,
     "metadata": {},
     "output_type": "execute_result"
    }
   ],
   "source": [
    "create_plot(us, 'positiveRate')"
   ]
  },
  {
   "cell_type": "code",
   "execution_count": 9,
   "metadata": {
    "execution": {
     "iopub.execute_input": "2020-09-03T22:33:17.547538Z",
     "iopub.status.busy": "2020-09-03T22:33:17.542504Z",
     "iopub.status.idle": "2020-09-03T22:33:17.606079Z",
     "shell.execute_reply": "2020-09-03T22:33:17.605696Z"
    },
    "papermill": {
     "duration": 0.088546,
     "end_time": "2020-09-03T22:33:17.606161",
     "exception": false,
     "start_time": "2020-09-03T22:33:17.517615",
     "status": "completed"
    },
    "tags": []
   },
   "outputs": [
    {
     "data": {
      "text/html": [
       "\n",
       "<div id=\"altair-viz-417554e864e7498e972c00dee223ea25\"></div>\n",
       "<script type=\"text/javascript\">\n",
       "  (function(spec, embedOpt){\n",
       "    let outputDiv = document.currentScript.previousElementSibling;\n",
       "    if (outputDiv.id !== \"altair-viz-417554e864e7498e972c00dee223ea25\") {\n",
       "      outputDiv = document.getElementById(\"altair-viz-417554e864e7498e972c00dee223ea25\");\n",
       "    }\n",
       "    const paths = {\n",
       "      \"vega\": \"https://cdn.jsdelivr.net/npm//vega@5?noext\",\n",
       "      \"vega-lib\": \"https://cdn.jsdelivr.net/npm//vega-lib?noext\",\n",
       "      \"vega-lite\": \"https://cdn.jsdelivr.net/npm//vega-lite@4.8.1?noext\",\n",
       "      \"vega-embed\": \"https://cdn.jsdelivr.net/npm//vega-embed@6?noext\",\n",
       "    };\n",
       "\n",
       "    function loadScript(lib) {\n",
       "      return new Promise(function(resolve, reject) {\n",
       "        var s = document.createElement('script');\n",
       "        s.src = paths[lib];\n",
       "        s.async = true;\n",
       "        s.onload = () => resolve(paths[lib]);\n",
       "        s.onerror = () => reject(`Error loading script: ${paths[lib]}`);\n",
       "        document.getElementsByTagName(\"head\")[0].appendChild(s);\n",
       "      });\n",
       "    }\n",
       "\n",
       "    function showError(err) {\n",
       "      outputDiv.innerHTML = `<div class=\"error\" style=\"color:red;\">${err}</div>`;\n",
       "      throw err;\n",
       "    }\n",
       "\n",
       "    function displayChart(vegaEmbed) {\n",
       "      vegaEmbed(outputDiv, spec, embedOpt)\n",
       "        .catch(err => showError(`Javascript Error: ${err.message}<br>This usually means there's a typo in your chart specification. See the javascript console for the full traceback.`));\n",
       "    }\n",
       "\n",
       "    if(typeof define === \"function\" && define.amd) {\n",
       "      requirejs.config({paths});\n",
       "      require([\"vega-embed\"], displayChart, err => showError(`Error loading script: ${err.message}`));\n",
       "    } else if (typeof vegaEmbed === \"function\") {\n",
       "      displayChart(vegaEmbed);\n",
       "    } else {\n",
       "      loadScript(\"vega\")\n",
       "        .then(() => loadScript(\"vega-lite\"))\n",
       "        .then(() => loadScript(\"vega-embed\"))\n",
       "        .catch(showError)\n",
       "        .then(() => displayChart(vegaEmbed));\n",
       "    }\n",
       "  })({\"config\": {\"view\": {\"continuousWidth\": 400, \"continuousHeight\": 300}}, \"layer\": [{\"layer\": [{\"mark\": {\"type\": \"point\", \"size\": 75}, \"encoding\": {\"tooltip\": [{\"type\": \"temporal\", \"field\": \"date\"}, {\"type\": \"quantitative\", \"field\": \"deathIncrease\"}, {\"type\": \"quantitative\", \"field\": \"sma7d\"}], \"x\": {\"type\": \"temporal\", \"field\": \"date\"}, \"y\": {\"type\": \"quantitative\", \"field\": \"deathIncrease\"}}, \"selection\": {\"selector006\": {\"type\": \"interval\", \"bind\": \"scales\", \"encodings\": [\"x\", \"y\"]}}}, {\"mark\": {\"type\": \"line\", \"color\": \"purple\"}, \"encoding\": {\"x\": {\"type\": \"temporal\", \"field\": \"date\"}, \"y\": {\"type\": \"quantitative\", \"field\": \"sma7d\"}}}]}, {\"mark\": {\"type\": \"rule\", \"color\": \"#aaa\"}, \"encoding\": {\"x\": {\"type\": \"temporal\", \"field\": \"date\"}}, \"transform\": [{\"filter\": {\"selection\": \"selector005\"}}]}, {\"mark\": \"circle\", \"encoding\": {\"opacity\": {\"condition\": {\"value\": 1, \"selection\": \"selector005\"}, \"value\": 0}, \"tooltip\": [{\"type\": \"temporal\", \"field\": \"date\"}, {\"type\": \"quantitative\", \"field\": \"deathIncrease\"}, {\"type\": \"quantitative\", \"field\": \"sma7d\"}], \"x\": {\"type\": \"temporal\", \"field\": \"date\"}, \"y\": {\"type\": \"quantitative\", \"field\": \"deathIncrease\"}}, \"selection\": {\"selector005\": {\"type\": \"single\", \"encodings\": [\"x\"], \"on\": \"mouseover\", \"nearest\": true, \"empty\": \"none\"}}}, {\"mark\": {\"type\": \"text\", \"align\": \"left\", \"dx\": 5, \"dy\": -5, \"stroke\": \"white\", \"strokeWidth\": 2}, \"encoding\": {\"text\": {\"type\": \"quantitative\", \"field\": \"deathIncrease\"}, \"tooltip\": [{\"type\": \"temporal\", \"field\": \"date\"}, {\"type\": \"quantitative\", \"field\": \"deathIncrease\"}, {\"type\": \"quantitative\", \"field\": \"sma7d\"}], \"x\": {\"type\": \"temporal\", \"field\": \"date\"}, \"y\": {\"type\": \"quantitative\", \"field\": \"deathIncrease\"}}, \"transform\": [{\"filter\": {\"selection\": \"selector005\"}}]}, {\"mark\": {\"type\": \"text\", \"align\": \"left\", \"dx\": 5, \"dy\": -5}, \"encoding\": {\"text\": {\"type\": \"quantitative\", \"field\": \"deathIncrease\"}, \"tooltip\": [{\"type\": \"temporal\", \"field\": \"date\"}, {\"type\": \"quantitative\", \"field\": \"deathIncrease\"}, {\"type\": \"quantitative\", \"field\": \"sma7d\"}], \"x\": {\"type\": \"temporal\", \"field\": \"date\"}, \"y\": {\"type\": \"quantitative\", \"field\": \"deathIncrease\"}}, \"transform\": [{\"filter\": {\"selection\": \"selector005\"}}]}], \"data\": {\"name\": \"data-3610c16082ffec08ebb0894c33b04cd8\"}, \"height\": 400, \"title\": \"US: deathIncrease\", \"width\": 500, \"$schema\": \"https://vega.github.io/schema/vega-lite/v4.8.1.json\", \"datasets\": {\"data-3610c16082ffec08ebb0894c33b04cd8\": [{\"date\": \"2020-07-10T00:00:00\", \"totalTestResultsIncrease\": 814898.0, \"positiveIncrease\": 66846.0, \"death\": 126270.0, \"deathIncrease\": 854.0, \"positiveRate\": 0.082, \"state\": \"US\", \"sma7d\": 601.286}, {\"date\": \"2020-07-11T00:00:00\", \"totalTestResultsIncrease\": 707812.0, \"positiveIncrease\": 62896.0, \"death\": 127027.0, \"deathIncrease\": 757.0, \"positiveRate\": 0.089, \"state\": \"US\", \"sma7d\": 665.714}, {\"date\": \"2020-07-12T00:00:00\", \"totalTestResultsIncrease\": 769448.0, \"positiveIncrease\": 61312.0, \"death\": 127503.0, \"deathIncrease\": 476.0, \"positiveRate\": 0.08, \"state\": \"US\", \"sma7d\": 703.857}, {\"date\": \"2020-07-13T00:00:00\", \"totalTestResultsIncrease\": 691878.0, \"positiveIncrease\": 58097.0, \"death\": 127830.0, \"deathIncrease\": 327.0, \"positiveRate\": 0.084, \"state\": \"US\", \"sma7d\": 715.857}, {\"date\": \"2020-07-14T00:00:00\", \"totalTestResultsIncrease\": 769997.0, \"positiveIncrease\": 62726.0, \"death\": 128566.0, \"deathIncrease\": 736.0, \"positiveRate\": 0.081, \"state\": \"US\", \"sma7d\": 689.143}, {\"date\": \"2020-07-15T00:00:00\", \"totalTestResultsIncrease\": 773245.0, \"positiveIncrease\": 65797.0, \"death\": 129424.0, \"deathIncrease\": 858.0, \"positiveRate\": 0.085, \"state\": \"US\", \"sma7d\": 696.429}, {\"date\": \"2020-07-16T00:00:00\", \"totalTestResultsIncrease\": 832430.0, \"positiveIncrease\": 71036.0, \"death\": 130371.0, \"deathIncrease\": 947.0, \"positiveRate\": 0.085, \"state\": \"US\", \"sma7d\": 707.857}, {\"date\": \"2020-07-17T00:00:00\", \"totalTestResultsIncrease\": 839267.0, \"positiveIncrease\": 76844.0, \"death\": 131322.0, \"deathIncrease\": 951.0, \"positiveRate\": 0.092, \"state\": \"US\", \"sma7d\": 721.714}, {\"date\": \"2020-07-18T00:00:00\", \"totalTestResultsIncrease\": 763602.0, \"positiveIncrease\": 64950.0, \"death\": 132194.0, \"deathIncrease\": 872.0, \"positiveRate\": 0.085, \"state\": \"US\", \"sma7d\": 738.143}, {\"date\": \"2020-07-19T00:00:00\", \"totalTestResultsIncrease\": 786697.0, \"positiveIncrease\": 64259.0, \"death\": 132721.0, \"deathIncrease\": 527.0, \"positiveRate\": 0.082, \"state\": \"US\", \"sma7d\": 745.429}, {\"date\": \"2020-07-20T00:00:00\", \"totalTestResultsIncrease\": 712427.0, \"positiveIncrease\": 57041.0, \"death\": 133084.0, \"deathIncrease\": 363.0, \"positiveRate\": 0.08, \"state\": \"US\", \"sma7d\": 750.571}, {\"date\": \"2020-07-21T00:00:00\", \"totalTestResultsIncrease\": 754866.0, \"positiveIncrease\": 63929.0, \"death\": 134122.0, \"deathIncrease\": 1038.0, \"positiveRate\": 0.085, \"state\": \"US\", \"sma7d\": 793.714}, {\"date\": \"2020-07-22T00:00:00\", \"totalTestResultsIncrease\": 801635.0, \"positiveIncrease\": 69334.0, \"death\": 135293.0, \"deathIncrease\": 1171.0, \"positiveRate\": 0.086, \"state\": \"US\", \"sma7d\": 838.429}, {\"date\": \"2020-07-23T00:00:00\", \"totalTestResultsIncrease\": 845866.0, \"positiveIncrease\": 71553.0, \"death\": 136348.0, \"deathIncrease\": 1055.0, \"positiveRate\": 0.085, \"state\": \"US\", \"sma7d\": 853.857}, {\"date\": \"2020-07-24T00:00:00\", \"totalTestResultsIncrease\": 933631.0, \"positiveIncrease\": 75235.0, \"death\": 137524.0, \"deathIncrease\": 1176.0, \"positiveRate\": 0.081, \"state\": \"US\", \"sma7d\": 886.0}, {\"date\": \"2020-07-25T00:00:00\", \"totalTestResultsIncrease\": 791008.0, \"positiveIncrease\": 64742.0, \"death\": 138547.0, \"deathIncrease\": 1023.0, \"positiveRate\": 0.082, \"state\": \"US\", \"sma7d\": 907.571}, {\"date\": \"2020-07-26T00:00:00\", \"totalTestResultsIncrease\": 851063.0, \"positiveIncrease\": 61009.0, \"death\": 139106.0, \"deathIncrease\": 559.0, \"positiveRate\": 0.072, \"state\": \"US\", \"sma7d\": 912.143}, {\"date\": \"2020-07-27T00:00:00\", \"totalTestResultsIncrease\": 762706.0, \"positiveIncrease\": 55321.0, \"death\": 140165.0, \"deathIncrease\": 1059.0, \"positiveRate\": 0.073, \"state\": \"US\", \"sma7d\": 1011.571}, {\"date\": \"2020-07-28T00:00:00\", \"totalTestResultsIncrease\": 738079.0, \"positiveIncrease\": 56452.0, \"death\": 141287.0, \"deathIncrease\": 1122.0, \"positiveRate\": 0.076, \"state\": \"US\", \"sma7d\": 1023.571}, {\"date\": \"2020-07-29T00:00:00\", \"totalTestResultsIncrease\": 864481.0, \"positiveIncrease\": 66960.0, \"death\": 142779.0, \"deathIncrease\": 1492.0, \"positiveRate\": 0.077, \"state\": \"US\", \"sma7d\": 1069.429}, {\"date\": \"2020-07-30T00:00:00\", \"totalTestResultsIncrease\": 814659.0, \"positiveIncrease\": 69419.0, \"death\": 144038.0, \"deathIncrease\": 1259.0, \"positiveRate\": 0.085, \"state\": \"US\", \"sma7d\": 1098.571}, {\"date\": \"2020-07-31T00:00:00\", \"totalTestResultsIncrease\": 731889.0, \"positiveIncrease\": 67624.0, \"death\": 145350.0, \"deathIncrease\": 1312.0, \"positiveRate\": 0.092, \"state\": \"US\", \"sma7d\": 1118.0}, {\"date\": \"2020-08-01T00:00:00\", \"totalTestResultsIncrease\": 745667.0, \"positiveIncrease\": 61102.0, \"death\": 146540.0, \"deathIncrease\": 1190.0, \"positiveRate\": 0.082, \"state\": \"US\", \"sma7d\": 1141.857}, {\"date\": \"2020-08-02T00:00:00\", \"totalTestResultsIncrease\": 699476.0, \"positiveIncrease\": 46756.0, \"death\": 147038.0, \"deathIncrease\": 498.0, \"positiveRate\": 0.067, \"state\": \"US\", \"sma7d\": 1133.143}, {\"date\": \"2020-08-03T00:00:00\", \"totalTestResultsIncrease\": 745121.0, \"positiveIncrease\": 49769.0, \"death\": 147557.0, \"deathIncrease\": 519.0, \"positiveRate\": 0.067, \"state\": \"US\", \"sma7d\": 1056.0}, {\"date\": \"2020-08-04T00:00:00\", \"totalTestResultsIncrease\": 717065.0, \"positiveIncrease\": 51865.0, \"death\": 148812.0, \"deathIncrease\": 1255.0, \"positiveRate\": 0.072, \"state\": \"US\", \"sma7d\": 1075.0}, {\"date\": \"2020-08-05T00:00:00\", \"totalTestResultsIncrease\": 699559.0, \"positiveIncrease\": 52326.0, \"death\": 150158.0, \"deathIncrease\": 1346.0, \"positiveRate\": 0.075, \"state\": \"US\", \"sma7d\": 1054.143}, {\"date\": \"2020-08-06T00:00:00\", \"totalTestResultsIncrease\": 766599.0, \"positiveIncrease\": 54185.0, \"death\": 151409.0, \"deathIncrease\": 1251.0, \"positiveRate\": 0.071, \"state\": \"US\", \"sma7d\": 1053.0}, {\"date\": \"2020-08-07T00:00:00\", \"totalTestResultsIncrease\": 785380.0, \"positiveIncrease\": 61346.0, \"death\": 152742.0, \"deathIncrease\": 1333.0, \"positiveRate\": 0.078, \"state\": \"US\", \"sma7d\": 1056.0}, {\"date\": \"2020-08-08T00:00:00\", \"totalTestResultsIncrease\": 683357.0, \"positiveIncrease\": 53713.0, \"death\": 153831.0, \"deathIncrease\": 1089.0, \"positiveRate\": 0.079, \"state\": \"US\", \"sma7d\": 1041.571}, {\"date\": \"2020-08-09T00:00:00\", \"totalTestResultsIncrease\": 724040.0, \"positiveIncrease\": 50624.0, \"death\": 154447.0, \"deathIncrease\": 616.0, \"positiveRate\": 0.07, \"state\": \"US\", \"sma7d\": 1058.429}, {\"date\": \"2020-08-10T00:00:00\", \"totalTestResultsIncrease\": 740948.0, \"positiveIncrease\": 42089.0, \"death\": 154873.0, \"deathIncrease\": 426.0, \"positiveRate\": 0.057, \"state\": \"US\", \"sma7d\": 1045.143}, {\"date\": \"2020-08-11T00:00:00\", \"totalTestResultsIncrease\": 759973.0, \"positiveIncrease\": 55702.0, \"death\": 156199.0, \"deathIncrease\": 1326.0, \"positiveRate\": 0.073, \"state\": \"US\", \"sma7d\": 1055.286}, {\"date\": \"2020-08-12T00:00:00\", \"totalTestResultsIncrease\": 500196.0, \"positiveIncrease\": 56132.0, \"death\": 157716.0, \"deathIncrease\": 1517.0, \"positiveRate\": 0.112, \"state\": \"US\", \"sma7d\": 1079.714}, {\"date\": \"2020-08-13T00:00:00\", \"totalTestResultsIncrease\": 900258.0, \"positiveIncrease\": 51760.0, \"death\": 158879.0, \"deathIncrease\": 1163.0, \"positiveRate\": 0.057, \"state\": \"US\", \"sma7d\": 1067.143}, {\"date\": \"2020-08-14T00:00:00\", \"totalTestResultsIncrease\": 862330.0, \"positiveIncrease\": 55635.0, \"death\": 160095.0, \"deathIncrease\": 1216.0, \"positiveRate\": 0.065, \"state\": \"US\", \"sma7d\": 1050.429}, {\"date\": \"2020-08-15T00:00:00\", \"totalTestResultsIncrease\": 756685.0, \"positiveIncrease\": 56148.0, \"death\": 161314.0, \"deathIncrease\": 1219.0, \"positiveRate\": 0.074, \"state\": \"US\", \"sma7d\": 1069.0}, {\"date\": \"2020-08-16T00:00:00\", \"totalTestResultsIncrease\": 790395.0, \"positiveIncrease\": 42487.0, \"death\": 161933.0, \"deathIncrease\": 619.0, \"positiveRate\": 0.054, \"state\": \"US\", \"sma7d\": 1069.429}, {\"date\": \"2020-08-17T00:00:00\", \"totalTestResultsIncrease\": 670060.0, \"positiveIncrease\": 37881.0, \"death\": 162340.0, \"deathIncrease\": 407.0, \"positiveRate\": 0.057, \"state\": \"US\", \"sma7d\": 1066.714}, {\"date\": \"2020-08-18T00:00:00\", \"totalTestResultsIncrease\": 663624.0, \"positiveIncrease\": 40796.0, \"death\": 163536.0, \"deathIncrease\": 1196.0, \"positiveRate\": 0.061, \"state\": \"US\", \"sma7d\": 1048.143}, {\"date\": \"2020-08-19T00:00:00\", \"totalTestResultsIncrease\": 673987.0, \"positiveIncrease\": 44953.0, \"death\": 164956.0, \"deathIncrease\": 1420.0, \"positiveRate\": 0.067, \"state\": \"US\", \"sma7d\": 1034.286}, {\"date\": \"2020-08-20T00:00:00\", \"totalTestResultsIncrease\": 703255.0, \"positiveIncrease\": 43758.0, \"death\": 166090.0, \"deathIncrease\": 1134.0, \"positiveRate\": 0.062, \"state\": \"US\", \"sma7d\": 1030.143}, {\"date\": \"2020-08-21T00:00:00\", \"totalTestResultsIncrease\": 759085.0, \"positiveIncrease\": 46562.0, \"death\": 167213.0, \"deathIncrease\": 1123.0, \"positiveRate\": 0.061, \"state\": \"US\", \"sma7d\": 1016.857}, {\"date\": \"2020-08-22T00:00:00\", \"totalTestResultsIncrease\": 773835.0, \"positiveIncrease\": 46242.0, \"death\": 168242.0, \"deathIncrease\": 1029.0, \"positiveRate\": 0.06, \"state\": \"US\", \"sma7d\": 989.714}, {\"date\": \"2020-08-23T00:00:00\", \"totalTestResultsIncrease\": 629488.0, \"positiveIncrease\": 37567.0, \"death\": 168814.0, \"deathIncrease\": 572.0, \"positiveRate\": 0.06, \"state\": \"US\", \"sma7d\": 983.0}, {\"date\": \"2020-08-24T00:00:00\", \"totalTestResultsIncrease\": 692240.0, \"positiveIncrease\": 34641.0, \"death\": 169157.0, \"deathIncrease\": 343.0, \"positiveRate\": 0.05, \"state\": \"US\", \"sma7d\": 973.857}, {\"date\": \"2020-08-25T00:00:00\", \"totalTestResultsIncrease\": 645605.0, \"positiveIncrease\": 36374.0, \"death\": 170304.0, \"deathIncrease\": 1147.0, \"positiveRate\": 0.056, \"state\": \"US\", \"sma7d\": 966.857}, {\"date\": \"2020-08-26T00:00:00\", \"totalTestResultsIncrease\": 654963.0, \"positiveIncrease\": 43356.0, \"death\": 171602.0, \"deathIncrease\": 1298.0, \"positiveRate\": 0.066, \"state\": \"US\", \"sma7d\": 949.429}, {\"date\": \"2020-08-27T00:00:00\", \"totalTestResultsIncrease\": 751897.0, \"positiveIncrease\": 43984.0, \"death\": 172731.0, \"deathIncrease\": 1129.0, \"positiveRate\": 0.058, \"state\": \"US\", \"sma7d\": 948.714}, {\"date\": \"2020-08-28T00:00:00\", \"totalTestResultsIncrease\": 783235.0, \"positiveIncrease\": 46546.0, \"death\": 173754.0, \"deathIncrease\": 1023.0, \"positiveRate\": 0.059, \"state\": \"US\", \"sma7d\": 934.429}, {\"date\": \"2020-08-29T00:00:00\", \"totalTestResultsIncrease\": 775615.0, \"positiveIncrease\": 44502.0, \"death\": 174769.0, \"deathIncrease\": 1015.0, \"positiveRate\": 0.057, \"state\": \"US\", \"sma7d\": 932.429}, {\"date\": \"2020-08-30T00:00:00\", \"totalTestResultsIncrease\": 746541.0, \"positiveIncrease\": 39498.0, \"death\": 175244.0, \"deathIncrease\": 475.0, \"positiveRate\": 0.053, \"state\": \"US\", \"sma7d\": 918.571}, {\"date\": \"2020-08-31T00:00:00\", \"totalTestResultsIncrease\": 685624.0, \"positiveIncrease\": 31406.0, \"death\": 175610.0, \"deathIncrease\": 366.0, \"positiveRate\": 0.046, \"state\": \"US\", \"sma7d\": 921.857}, {\"date\": \"2020-09-01T00:00:00\", \"totalTestResultsIncrease\": 704311.0, \"positiveIncrease\": 42423.0, \"death\": 176637.0, \"deathIncrease\": 1027.0, \"positiveRate\": 0.06, \"state\": \"US\", \"sma7d\": 904.714}, {\"date\": \"2020-09-02T00:00:00\", \"totalTestResultsIncrease\": 649376.0, \"positiveIncrease\": 30409.0, \"death\": 177669.0, \"deathIncrease\": 1032.0, \"positiveRate\": 0.047, \"state\": \"US\", \"sma7d\": 866.714}, {\"date\": \"2020-09-03T00:00:00\", \"totalTestResultsIncrease\": 733129.0, \"positiveIncrease\": 44188.0, \"death\": 178702.0, \"deathIncrease\": 1072.0, \"positiveRate\": 0.06, \"state\": \"US\", \"sma7d\": 858.571}]}}, {\"mode\": \"vega-lite\"});\n",
       "</script>"
      ],
      "text/plain": [
       "alt.LayerChart(...)"
      ]
     },
     "execution_count": 9,
     "metadata": {},
     "output_type": "execute_result"
    }
   ],
   "source": [
    "create_plot(us, 'deathIncrease')"
   ]
  },
  {
   "cell_type": "markdown",
   "metadata": {
    "papermill": {
     "duration": 0.011508,
     "end_time": "2020-09-03T22:33:17.628426",
     "exception": false,
     "start_time": "2020-09-03T22:33:17.616918",
     "status": "completed"
    },
    "tags": []
   },
   "source": [
    "## NY"
   ]
  },
  {
   "cell_type": "code",
   "execution_count": 10,
   "metadata": {
    "execution": {
     "iopub.execute_input": "2020-09-03T22:33:17.654029Z",
     "iopub.status.busy": "2020-09-03T22:33:17.653588Z",
     "iopub.status.idle": "2020-09-03T22:33:17.812001Z",
     "shell.execute_reply": "2020-09-03T22:33:17.812351Z"
    },
    "papermill": {
     "duration": 0.172922,
     "end_time": "2020-09-03T22:33:17.812469",
     "exception": false,
     "start_time": "2020-09-03T22:33:17.639547",
     "status": "completed"
    },
    "tags": []
   },
   "outputs": [],
   "source": [
    "ny = create_df(df, (lambda d: d['state'] == 'NY'), 'New York')"
   ]
  },
  {
   "cell_type": "code",
   "execution_count": 11,
   "metadata": {
    "execution": {
     "iopub.execute_input": "2020-09-03T22:33:17.884080Z",
     "iopub.status.busy": "2020-09-03T22:33:17.869608Z",
     "iopub.status.idle": "2020-09-03T22:33:17.906932Z",
     "shell.execute_reply": "2020-09-03T22:33:17.906393Z"
    },
    "papermill": {
     "duration": 0.083968,
     "end_time": "2020-09-03T22:33:17.907018",
     "exception": false,
     "start_time": "2020-09-03T22:33:17.823050",
     "status": "completed"
    },
    "tags": []
   },
   "outputs": [
    {
     "data": {
      "text/html": [
       "\n",
       "<div id=\"altair-viz-52b6b177fdf84dbc87f1b3b802363646\"></div>\n",
       "<script type=\"text/javascript\">\n",
       "  (function(spec, embedOpt){\n",
       "    let outputDiv = document.currentScript.previousElementSibling;\n",
       "    if (outputDiv.id !== \"altair-viz-52b6b177fdf84dbc87f1b3b802363646\") {\n",
       "      outputDiv = document.getElementById(\"altair-viz-52b6b177fdf84dbc87f1b3b802363646\");\n",
       "    }\n",
       "    const paths = {\n",
       "      \"vega\": \"https://cdn.jsdelivr.net/npm//vega@5?noext\",\n",
       "      \"vega-lib\": \"https://cdn.jsdelivr.net/npm//vega-lib?noext\",\n",
       "      \"vega-lite\": \"https://cdn.jsdelivr.net/npm//vega-lite@4.8.1?noext\",\n",
       "      \"vega-embed\": \"https://cdn.jsdelivr.net/npm//vega-embed@6?noext\",\n",
       "    };\n",
       "\n",
       "    function loadScript(lib) {\n",
       "      return new Promise(function(resolve, reject) {\n",
       "        var s = document.createElement('script');\n",
       "        s.src = paths[lib];\n",
       "        s.async = true;\n",
       "        s.onload = () => resolve(paths[lib]);\n",
       "        s.onerror = () => reject(`Error loading script: ${paths[lib]}`);\n",
       "        document.getElementsByTagName(\"head\")[0].appendChild(s);\n",
       "      });\n",
       "    }\n",
       "\n",
       "    function showError(err) {\n",
       "      outputDiv.innerHTML = `<div class=\"error\" style=\"color:red;\">${err}</div>`;\n",
       "      throw err;\n",
       "    }\n",
       "\n",
       "    function displayChart(vegaEmbed) {\n",
       "      vegaEmbed(outputDiv, spec, embedOpt)\n",
       "        .catch(err => showError(`Javascript Error: ${err.message}<br>This usually means there's a typo in your chart specification. See the javascript console for the full traceback.`));\n",
       "    }\n",
       "\n",
       "    if(typeof define === \"function\" && define.amd) {\n",
       "      requirejs.config({paths});\n",
       "      require([\"vega-embed\"], displayChart, err => showError(`Error loading script: ${err.message}`));\n",
       "    } else if (typeof vegaEmbed === \"function\") {\n",
       "      displayChart(vegaEmbed);\n",
       "    } else {\n",
       "      loadScript(\"vega\")\n",
       "        .then(() => loadScript(\"vega-lite\"))\n",
       "        .then(() => loadScript(\"vega-embed\"))\n",
       "        .catch(showError)\n",
       "        .then(() => displayChart(vegaEmbed));\n",
       "    }\n",
       "  })({\"config\": {\"view\": {\"continuousWidth\": 400, \"continuousHeight\": 300}}, \"layer\": [{\"layer\": [{\"mark\": {\"type\": \"point\", \"size\": 75}, \"encoding\": {\"tooltip\": [{\"type\": \"temporal\", \"field\": \"date\"}, {\"type\": \"quantitative\", \"field\": \"positiveIncrease\"}, {\"type\": \"quantitative\", \"field\": \"sma7d\"}], \"x\": {\"type\": \"temporal\", \"field\": \"date\"}, \"y\": {\"type\": \"quantitative\", \"field\": \"positiveIncrease\"}}, \"selection\": {\"selector008\": {\"type\": \"interval\", \"bind\": \"scales\", \"encodings\": [\"x\", \"y\"]}}}, {\"mark\": {\"type\": \"line\", \"color\": \"purple\"}, \"encoding\": {\"x\": {\"type\": \"temporal\", \"field\": \"date\"}, \"y\": {\"type\": \"quantitative\", \"field\": \"sma7d\"}}}]}, {\"mark\": {\"type\": \"rule\", \"color\": \"#aaa\"}, \"encoding\": {\"x\": {\"type\": \"temporal\", \"field\": \"date\"}}, \"transform\": [{\"filter\": {\"selection\": \"selector007\"}}]}, {\"mark\": \"circle\", \"encoding\": {\"opacity\": {\"condition\": {\"value\": 1, \"selection\": \"selector007\"}, \"value\": 0}, \"tooltip\": [{\"type\": \"temporal\", \"field\": \"date\"}, {\"type\": \"quantitative\", \"field\": \"positiveIncrease\"}, {\"type\": \"quantitative\", \"field\": \"sma7d\"}], \"x\": {\"type\": \"temporal\", \"field\": \"date\"}, \"y\": {\"type\": \"quantitative\", \"field\": \"positiveIncrease\"}}, \"selection\": {\"selector007\": {\"type\": \"single\", \"encodings\": [\"x\"], \"on\": \"mouseover\", \"nearest\": true, \"empty\": \"none\"}}}, {\"mark\": {\"type\": \"text\", \"align\": \"left\", \"dx\": 5, \"dy\": -5, \"stroke\": \"white\", \"strokeWidth\": 2}, \"encoding\": {\"text\": {\"type\": \"quantitative\", \"field\": \"positiveIncrease\"}, \"tooltip\": [{\"type\": \"temporal\", \"field\": \"date\"}, {\"type\": \"quantitative\", \"field\": \"positiveIncrease\"}, {\"type\": \"quantitative\", \"field\": \"sma7d\"}], \"x\": {\"type\": \"temporal\", \"field\": \"date\"}, \"y\": {\"type\": \"quantitative\", \"field\": \"positiveIncrease\"}}, \"transform\": [{\"filter\": {\"selection\": \"selector007\"}}]}, {\"mark\": {\"type\": \"text\", \"align\": \"left\", \"dx\": 5, \"dy\": -5}, \"encoding\": {\"text\": {\"type\": \"quantitative\", \"field\": \"positiveIncrease\"}, \"tooltip\": [{\"type\": \"temporal\", \"field\": \"date\"}, {\"type\": \"quantitative\", \"field\": \"positiveIncrease\"}, {\"type\": \"quantitative\", \"field\": \"sma7d\"}], \"x\": {\"type\": \"temporal\", \"field\": \"date\"}, \"y\": {\"type\": \"quantitative\", \"field\": \"positiveIncrease\"}}, \"transform\": [{\"filter\": {\"selection\": \"selector007\"}}]}], \"data\": {\"name\": \"data-3d8db2c40b06ee39824f8e52ba185ee2\"}, \"height\": 400, \"title\": \"New York: positiveIncrease\", \"width\": 500, \"$schema\": \"https://vega.github.io/schema/vega-lite/v4.8.1.json\", \"datasets\": {\"data-3d8db2c40b06ee39824f8e52ba185ee2\": [{\"date\": \"2020-07-10T00:00:00\", \"totalTestResultsIncrease\": 73558.0, \"positiveIncrease\": 786.0, \"death\": 24968.0, \"deathIncrease\": 9.0, \"positiveRate\": 0.011, \"state\": \"New York\", \"sma7d\": 632.429}, {\"date\": \"2020-07-11T00:00:00\", \"totalTestResultsIncrease\": 69203.0, \"positiveIncrease\": 730.0, \"death\": 24974.0, \"deathIncrease\": 6.0, \"positiveRate\": 0.011, \"state\": \"New York\", \"sma7d\": 633.0}, {\"date\": \"2020-07-12T00:00:00\", \"totalTestResultsIncrease\": 62418.0, \"positiveIncrease\": 677.0, \"death\": 24979.0, \"deathIncrease\": 5.0, \"positiveRate\": 0.011, \"state\": \"New York\", \"sma7d\": 653.571}, {\"date\": \"2020-07-13T00:00:00\", \"totalTestResultsIncrease\": 51687.0, \"positiveIncrease\": 557.0, \"death\": 24989.0, \"deathIncrease\": 10.0, \"positiveRate\": 0.011, \"state\": \"New York\", \"sma7d\": 659.143}, {\"date\": \"2020-07-14T00:00:00\", \"totalTestResultsIncrease\": 60045.0, \"positiveIncrease\": 912.0, \"death\": 24994.0, \"deathIncrease\": 5.0, \"positiveRate\": 0.015, \"state\": \"New York\", \"sma7d\": 705.429}, {\"date\": \"2020-07-15T00:00:00\", \"totalTestResultsIncrease\": 63598.0, \"positiveIncrease\": 831.0, \"death\": 25003.0, \"deathIncrease\": 9.0, \"positiveRate\": 0.013, \"state\": \"New York\", \"sma7d\": 725.286}, {\"date\": \"2020-07-16T00:00:00\", \"totalTestResultsIncrease\": 72685.0, \"positiveIncrease\": 769.0, \"death\": 25014.0, \"deathIncrease\": 11.0, \"positiveRate\": 0.011, \"state\": \"New York\", \"sma7d\": 751.714}, {\"date\": \"2020-07-17T00:00:00\", \"totalTestResultsIncrease\": 78239.0, \"positiveIncrease\": 776.0, \"death\": 25024.0, \"deathIncrease\": 10.0, \"positiveRate\": 0.01, \"state\": \"New York\", \"sma7d\": 750.286}, {\"date\": \"2020-07-18T00:00:00\", \"totalTestResultsIncrease\": 69817.0, \"positiveIncrease\": 754.0, \"death\": 25035.0, \"deathIncrease\": 11.0, \"positiveRate\": 0.011, \"state\": \"New York\", \"sma7d\": 753.714}, {\"date\": \"2020-07-19T00:00:00\", \"totalTestResultsIncrease\": 46204.0, \"positiveIncrease\": 502.0, \"death\": 25048.0, \"deathIncrease\": 13.0, \"positiveRate\": 0.011, \"state\": \"New York\", \"sma7d\": 728.714}, {\"date\": \"2020-07-20T00:00:00\", \"totalTestResultsIncrease\": 49342.0, \"positiveIncrease\": 519.0, \"death\": 25056.0, \"deathIncrease\": 8.0, \"positiveRate\": 0.011, \"state\": \"New York\", \"sma7d\": 723.286}, {\"date\": \"2020-07-21T00:00:00\", \"totalTestResultsIncrease\": 66169.0, \"positiveIncrease\": 855.0, \"death\": 25058.0, \"deathIncrease\": 2.0, \"positiveRate\": 0.013, \"state\": \"New York\", \"sma7d\": 715.143}, {\"date\": \"2020-07-22T00:00:00\", \"totalTestResultsIncrease\": 67659.0, \"positiveIncrease\": 705.0, \"death\": 25068.0, \"deathIncrease\": 10.0, \"positiveRate\": 0.01, \"state\": \"New York\", \"sma7d\": 697.143}, {\"date\": \"2020-07-23T00:00:00\", \"totalTestResultsIncrease\": 69698.0, \"positiveIncrease\": 811.0, \"death\": 25081.0, \"deathIncrease\": 13.0, \"positiveRate\": 0.012, \"state\": \"New York\", \"sma7d\": 703.143}, {\"date\": \"2020-07-24T00:00:00\", \"totalTestResultsIncrease\": 76507.0, \"positiveIncrease\": 753.0, \"death\": 25090.0, \"deathIncrease\": 9.0, \"positiveRate\": 0.01, \"state\": \"New York\", \"sma7d\": 699.857}, {\"date\": \"2020-07-25T00:00:00\", \"totalTestResultsIncrease\": 71466.0, \"positiveIncrease\": 750.0, \"death\": 25103.0, \"deathIncrease\": 13.0, \"positiveRate\": 0.01, \"state\": \"New York\", \"sma7d\": 699.286}, {\"date\": \"2020-07-26T00:00:00\", \"totalTestResultsIncrease\": 53568.0, \"positiveIncrease\": 536.0, \"death\": 25106.0, \"deathIncrease\": 3.0, \"positiveRate\": 0.01, \"state\": \"New York\", \"sma7d\": 704.143}, {\"date\": \"2020-07-27T00:00:00\", \"totalTestResultsIncrease\": 57270.0, \"positiveIncrease\": 608.0, \"death\": 25117.0, \"deathIncrease\": 11.0, \"positiveRate\": 0.011, \"state\": \"New York\", \"sma7d\": 716.857}, {\"date\": \"2020-07-28T00:00:00\", \"totalTestResultsIncrease\": 57397.0, \"positiveIncrease\": 534.0, \"death\": 25126.0, \"deathIncrease\": 9.0, \"positiveRate\": 0.009, \"state\": \"New York\", \"sma7d\": 671.0}, {\"date\": \"2020-07-29T00:00:00\", \"totalTestResultsIncrease\": 62276.0, \"positiveIncrease\": 715.0, \"death\": 25132.0, \"deathIncrease\": 6.0, \"positiveRate\": 0.011, \"state\": \"New York\", \"sma7d\": 672.429}, {\"date\": \"2020-07-30T00:00:00\", \"totalTestResultsIncrease\": 73546.0, \"positiveIncrease\": 777.0, \"death\": 25145.0, \"deathIncrease\": 13.0, \"positiveRate\": 0.011, \"state\": \"New York\", \"sma7d\": 667.571}, {\"date\": \"2020-07-31T00:00:00\", \"totalTestResultsIncrease\": 68869.0, \"positiveIncrease\": 644.0, \"death\": 25150.0, \"deathIncrease\": 5.0, \"positiveRate\": 0.009, \"state\": \"New York\", \"sma7d\": 652.0}, {\"date\": \"2020-08-01T00:00:00\", \"totalTestResultsIncrease\": 82737.0, \"positiveIncrease\": 753.0, \"death\": 25164.0, \"deathIncrease\": 14.0, \"positiveRate\": 0.009, \"state\": \"New York\", \"sma7d\": 652.429}, {\"date\": \"2020-08-02T00:00:00\", \"totalTestResultsIncrease\": 58961.0, \"positiveIncrease\": 531.0, \"death\": 25170.0, \"deathIncrease\": 6.0, \"positiveRate\": 0.009, \"state\": \"New York\", \"sma7d\": 651.714}, {\"date\": \"2020-08-03T00:00:00\", \"totalTestResultsIncrease\": 51839.0, \"positiveIncrease\": 545.0, \"death\": 25172.0, \"deathIncrease\": 2.0, \"positiveRate\": 0.011, \"state\": \"New York\", \"sma7d\": 642.714}, {\"date\": \"2020-08-04T00:00:00\", \"totalTestResultsIncrease\": 70993.0, \"positiveIncrease\": 746.0, \"death\": 25175.0, \"deathIncrease\": 3.0, \"positiveRate\": 0.011, \"state\": \"New York\", \"sma7d\": 673.0}, {\"date\": \"2020-08-05T00:00:00\", \"totalTestResultsIncrease\": 72668.0, \"positiveIncrease\": 636.0, \"death\": 25179.0, \"deathIncrease\": 4.0, \"positiveRate\": 0.009, \"state\": \"New York\", \"sma7d\": 661.714}, {\"date\": \"2020-08-06T00:00:00\", \"totalTestResultsIncrease\": 72370.0, \"positiveIncrease\": 703.0, \"death\": 25185.0, \"deathIncrease\": 6.0, \"positiveRate\": 0.01, \"state\": \"New York\", \"sma7d\": 651.143}, {\"date\": \"2020-08-07T00:00:00\", \"totalTestResultsIncrease\": 70170.0, \"positiveIncrease\": 714.0, \"death\": 25190.0, \"deathIncrease\": 5.0, \"positiveRate\": 0.01, \"state\": \"New York\", \"sma7d\": 661.143}, {\"date\": \"2020-08-08T00:00:00\", \"totalTestResultsIncrease\": 74857.0, \"positiveIncrease\": 703.0, \"death\": 25195.0, \"deathIncrease\": 5.0, \"positiveRate\": 0.009, \"state\": \"New York\", \"sma7d\": 654.0}, {\"date\": \"2020-08-09T00:00:00\", \"totalTestResultsIncrease\": 65812.0, \"positiveIncrease\": 515.0, \"death\": 25202.0, \"deathIncrease\": 7.0, \"positiveRate\": 0.008, \"state\": \"New York\", \"sma7d\": 651.714}, {\"date\": \"2020-08-10T00:00:00\", \"totalTestResultsIncrease\": 54002.0, \"positiveIncrease\": 476.0, \"death\": 25204.0, \"deathIncrease\": 2.0, \"positiveRate\": 0.009, \"state\": \"New York\", \"sma7d\": 641.857}, {\"date\": \"2020-08-11T00:00:00\", \"totalTestResultsIncrease\": 77059.0, \"positiveIncrease\": 667.0, \"death\": 25211.0, \"deathIncrease\": 7.0, \"positiveRate\": 0.009, \"state\": \"New York\", \"sma7d\": 630.571}, {\"date\": \"2020-08-12T00:00:00\", \"totalTestResultsIncrease\": 87776.0, \"positiveIncrease\": 700.0, \"death\": 25218.0, \"deathIncrease\": 7.0, \"positiveRate\": 0.008, \"state\": \"New York\", \"sma7d\": 639.714}, {\"date\": \"2020-08-13T00:00:00\", \"totalTestResultsIncrease\": 87900.0, \"positiveIncrease\": 737.0, \"death\": 25228.0, \"deathIncrease\": 10.0, \"positiveRate\": 0.008, \"state\": \"New York\", \"sma7d\": 644.571}, {\"date\": \"2020-08-14T00:00:00\", \"totalTestResultsIncrease\": 85455.0, \"positiveIncrease\": 727.0, \"death\": 25232.0, \"deathIncrease\": 4.0, \"positiveRate\": 0.009, \"state\": \"New York\", \"sma7d\": 646.429}, {\"date\": \"2020-08-15T00:00:00\", \"totalTestResultsIncrease\": 88668.0, \"positiveIncrease\": 734.0, \"death\": 25244.0, \"deathIncrease\": 12.0, \"positiveRate\": 0.008, \"state\": \"New York\", \"sma7d\": 650.857}, {\"date\": \"2020-08-16T00:00:00\", \"totalTestResultsIncrease\": 77692.0, \"positiveIncrease\": 607.0, \"death\": 25250.0, \"deathIncrease\": 6.0, \"positiveRate\": 0.008, \"state\": \"New York\", \"sma7d\": 664.0}, {\"date\": \"2020-08-17T00:00:00\", \"totalTestResultsIncrease\": 56891.0, \"positiveIncrease\": 408.0, \"death\": 25256.0, \"deathIncrease\": 6.0, \"positiveRate\": 0.007, \"state\": \"New York\", \"sma7d\": 654.286}, {\"date\": \"2020-08-18T00:00:00\", \"totalTestResultsIncrease\": 66891.0, \"positiveIncrease\": 655.0, \"death\": 25264.0, \"deathIncrease\": 8.0, \"positiveRate\": 0.01, \"state\": \"New York\", \"sma7d\": 652.571}, {\"date\": \"2020-08-19T00:00:00\", \"totalTestResultsIncrease\": 80425.0, \"positiveIncrease\": 631.0, \"death\": 25270.0, \"deathIncrease\": 6.0, \"positiveRate\": 0.008, \"state\": \"New York\", \"sma7d\": 642.714}, {\"date\": \"2020-08-20T00:00:00\", \"totalTestResultsIncrease\": 80984.0, \"positiveIncrease\": 601.0, \"death\": 25275.0, \"deathIncrease\": 5.0, \"positiveRate\": 0.007, \"state\": \"New York\", \"sma7d\": 623.286}, {\"date\": \"2020-08-21T00:00:00\", \"totalTestResultsIncrease\": 98880.0, \"positiveIncrease\": 709.0, \"death\": 25278.0, \"deathIncrease\": 3.0, \"positiveRate\": 0.007, \"state\": \"New York\", \"sma7d\": 620.714}, {\"date\": \"2020-08-22T00:00:00\", \"totalTestResultsIncrease\": 94849.0, \"positiveIncrease\": 653.0, \"death\": 25282.0, \"deathIncrease\": 4.0, \"positiveRate\": 0.007, \"state\": \"New York\", \"sma7d\": 609.143}, {\"date\": \"2020-08-23T00:00:00\", \"totalTestResultsIncrease\": 74043.0, \"positiveIncrease\": 572.0, \"death\": 25288.0, \"deathIncrease\": 6.0, \"positiveRate\": 0.008, \"state\": \"New York\", \"sma7d\": 604.143}, {\"date\": \"2020-08-24T00:00:00\", \"totalTestResultsIncrease\": 62031.0, \"positiveIncrease\": 408.0, \"death\": 25295.0, \"deathIncrease\": 7.0, \"positiveRate\": 0.007, \"state\": \"New York\", \"sma7d\": 604.143}, {\"date\": \"2020-08-25T00:00:00\", \"totalTestResultsIncrease\": 67255.0, \"positiveIncrease\": 629.0, \"death\": 25297.0, \"deathIncrease\": 2.0, \"positiveRate\": 0.009, \"state\": \"New York\", \"sma7d\": 600.429}, {\"date\": \"2020-08-26T00:00:00\", \"totalTestResultsIncrease\": 71189.0, \"positiveIncrease\": 566.0, \"death\": 25305.0, \"deathIncrease\": 8.0, \"positiveRate\": 0.008, \"state\": \"New York\", \"sma7d\": 591.143}, {\"date\": \"2020-08-27T00:00:00\", \"totalTestResultsIncrease\": 83437.0, \"positiveIncrease\": 791.0, \"death\": 25309.0, \"deathIncrease\": 4.0, \"positiveRate\": 0.009, \"state\": \"New York\", \"sma7d\": 618.286}, {\"date\": \"2020-08-28T00:00:00\", \"totalTestResultsIncrease\": 97826.0, \"positiveIncrease\": 636.0, \"death\": 25312.0, \"deathIncrease\": 3.0, \"positiveRate\": 0.007, \"state\": \"New York\", \"sma7d\": 607.857}, {\"date\": \"2020-08-29T00:00:00\", \"totalTestResultsIncrease\": 93873.0, \"positiveIncrease\": 635.0, \"death\": 25319.0, \"deathIncrease\": 7.0, \"positiveRate\": 0.007, \"state\": \"New York\", \"sma7d\": 605.286}, {\"date\": \"2020-08-30T00:00:00\", \"totalTestResultsIncrease\": 100022.0, \"positiveIncrease\": 698.0, \"death\": 25327.0, \"deathIncrease\": 8.0, \"positiveRate\": 0.007, \"state\": \"New York\", \"sma7d\": 623.286}, {\"date\": \"2020-08-31T00:00:00\", \"totalTestResultsIncrease\": 66241.0, \"positiveIncrease\": 656.0, \"death\": 25328.0, \"deathIncrease\": 1.0, \"positiveRate\": 0.01, \"state\": \"New York\", \"sma7d\": 658.714}, {\"date\": \"2020-09-01T00:00:00\", \"totalTestResultsIncrease\": 76997.0, \"positiveIncrease\": 754.0, \"death\": 25331.0, \"deathIncrease\": 3.0, \"positiveRate\": 0.01, \"state\": \"New York\", \"sma7d\": 676.571}, {\"date\": \"2020-09-02T00:00:00\", \"totalTestResultsIncrease\": 88447.0, \"positiveIncrease\": 708.0, \"death\": 25336.0, \"deathIncrease\": 5.0, \"positiveRate\": 0.008, \"state\": \"New York\", \"sma7d\": 696.857}, {\"date\": \"2020-09-03T00:00:00\", \"totalTestResultsIncrease\": 88981.0, \"positiveIncrease\": 889.0, \"death\": 25343.0, \"deathIncrease\": 7.0, \"positiveRate\": 0.01, \"state\": \"New York\", \"sma7d\": 710.857}]}}, {\"mode\": \"vega-lite\"});\n",
       "</script>"
      ],
      "text/plain": [
       "alt.LayerChart(...)"
      ]
     },
     "execution_count": 11,
     "metadata": {},
     "output_type": "execute_result"
    }
   ],
   "source": [
    "create_plot(ny, 'positiveIncrease')"
   ]
  },
  {
   "cell_type": "code",
   "execution_count": 12,
   "metadata": {
    "execution": {
     "iopub.execute_input": "2020-09-03T22:33:17.944481Z",
     "iopub.status.busy": "2020-09-03T22:33:17.933600Z",
     "iopub.status.idle": "2020-09-03T22:33:18.001979Z",
     "shell.execute_reply": "2020-09-03T22:33:18.001473Z"
    },
    "papermill": {
     "duration": 0.08399,
     "end_time": "2020-09-03T22:33:18.002127",
     "exception": false,
     "start_time": "2020-09-03T22:33:17.918137",
     "status": "completed"
    },
    "tags": []
   },
   "outputs": [
    {
     "data": {
      "text/html": [
       "\n",
       "<div id=\"altair-viz-1c4141edce5745c5835bab23597d0f50\"></div>\n",
       "<script type=\"text/javascript\">\n",
       "  (function(spec, embedOpt){\n",
       "    let outputDiv = document.currentScript.previousElementSibling;\n",
       "    if (outputDiv.id !== \"altair-viz-1c4141edce5745c5835bab23597d0f50\") {\n",
       "      outputDiv = document.getElementById(\"altair-viz-1c4141edce5745c5835bab23597d0f50\");\n",
       "    }\n",
       "    const paths = {\n",
       "      \"vega\": \"https://cdn.jsdelivr.net/npm//vega@5?noext\",\n",
       "      \"vega-lib\": \"https://cdn.jsdelivr.net/npm//vega-lib?noext\",\n",
       "      \"vega-lite\": \"https://cdn.jsdelivr.net/npm//vega-lite@4.8.1?noext\",\n",
       "      \"vega-embed\": \"https://cdn.jsdelivr.net/npm//vega-embed@6?noext\",\n",
       "    };\n",
       "\n",
       "    function loadScript(lib) {\n",
       "      return new Promise(function(resolve, reject) {\n",
       "        var s = document.createElement('script');\n",
       "        s.src = paths[lib];\n",
       "        s.async = true;\n",
       "        s.onload = () => resolve(paths[lib]);\n",
       "        s.onerror = () => reject(`Error loading script: ${paths[lib]}`);\n",
       "        document.getElementsByTagName(\"head\")[0].appendChild(s);\n",
       "      });\n",
       "    }\n",
       "\n",
       "    function showError(err) {\n",
       "      outputDiv.innerHTML = `<div class=\"error\" style=\"color:red;\">${err}</div>`;\n",
       "      throw err;\n",
       "    }\n",
       "\n",
       "    function displayChart(vegaEmbed) {\n",
       "      vegaEmbed(outputDiv, spec, embedOpt)\n",
       "        .catch(err => showError(`Javascript Error: ${err.message}<br>This usually means there's a typo in your chart specification. See the javascript console for the full traceback.`));\n",
       "    }\n",
       "\n",
       "    if(typeof define === \"function\" && define.amd) {\n",
       "      requirejs.config({paths});\n",
       "      require([\"vega-embed\"], displayChart, err => showError(`Error loading script: ${err.message}`));\n",
       "    } else if (typeof vegaEmbed === \"function\") {\n",
       "      displayChart(vegaEmbed);\n",
       "    } else {\n",
       "      loadScript(\"vega\")\n",
       "        .then(() => loadScript(\"vega-lite\"))\n",
       "        .then(() => loadScript(\"vega-embed\"))\n",
       "        .catch(showError)\n",
       "        .then(() => displayChart(vegaEmbed));\n",
       "    }\n",
       "  })({\"config\": {\"view\": {\"continuousWidth\": 400, \"continuousHeight\": 300}}, \"layer\": [{\"layer\": [{\"mark\": {\"type\": \"point\", \"size\": 75}, \"encoding\": {\"tooltip\": [{\"type\": \"temporal\", \"field\": \"date\"}, {\"type\": \"quantitative\", \"field\": \"positiveRate\"}, {\"type\": \"quantitative\", \"field\": \"sma7d\"}], \"x\": {\"type\": \"temporal\", \"field\": \"date\"}, \"y\": {\"type\": \"quantitative\", \"field\": \"positiveRate\"}}, \"selection\": {\"selector010\": {\"type\": \"interval\", \"bind\": \"scales\", \"encodings\": [\"x\", \"y\"]}}}, {\"mark\": {\"type\": \"line\", \"color\": \"purple\"}, \"encoding\": {\"x\": {\"type\": \"temporal\", \"field\": \"date\"}, \"y\": {\"type\": \"quantitative\", \"field\": \"sma7d\"}}}]}, {\"mark\": {\"type\": \"rule\", \"color\": \"#aaa\"}, \"encoding\": {\"x\": {\"type\": \"temporal\", \"field\": \"date\"}}, \"transform\": [{\"filter\": {\"selection\": \"selector009\"}}]}, {\"mark\": \"circle\", \"encoding\": {\"opacity\": {\"condition\": {\"value\": 1, \"selection\": \"selector009\"}, \"value\": 0}, \"tooltip\": [{\"type\": \"temporal\", \"field\": \"date\"}, {\"type\": \"quantitative\", \"field\": \"positiveRate\"}, {\"type\": \"quantitative\", \"field\": \"sma7d\"}], \"x\": {\"type\": \"temporal\", \"field\": \"date\"}, \"y\": {\"type\": \"quantitative\", \"field\": \"positiveRate\"}}, \"selection\": {\"selector009\": {\"type\": \"single\", \"encodings\": [\"x\"], \"on\": \"mouseover\", \"nearest\": true, \"empty\": \"none\"}}}, {\"mark\": {\"type\": \"text\", \"align\": \"left\", \"dx\": 5, \"dy\": -5, \"stroke\": \"white\", \"strokeWidth\": 2}, \"encoding\": {\"text\": {\"type\": \"quantitative\", \"field\": \"positiveRate\"}, \"tooltip\": [{\"type\": \"temporal\", \"field\": \"date\"}, {\"type\": \"quantitative\", \"field\": \"positiveRate\"}, {\"type\": \"quantitative\", \"field\": \"sma7d\"}], \"x\": {\"type\": \"temporal\", \"field\": \"date\"}, \"y\": {\"type\": \"quantitative\", \"field\": \"positiveRate\"}}, \"transform\": [{\"filter\": {\"selection\": \"selector009\"}}]}, {\"mark\": {\"type\": \"text\", \"align\": \"left\", \"dx\": 5, \"dy\": -5}, \"encoding\": {\"text\": {\"type\": \"quantitative\", \"field\": \"positiveRate\"}, \"tooltip\": [{\"type\": \"temporal\", \"field\": \"date\"}, {\"type\": \"quantitative\", \"field\": \"positiveRate\"}, {\"type\": \"quantitative\", \"field\": \"sma7d\"}], \"x\": {\"type\": \"temporal\", \"field\": \"date\"}, \"y\": {\"type\": \"quantitative\", \"field\": \"positiveRate\"}}, \"transform\": [{\"filter\": {\"selection\": \"selector009\"}}]}], \"data\": {\"name\": \"data-9152c5d51a00c8074579b37279b307d6\"}, \"height\": 400, \"title\": \"New York: positiveRate\", \"width\": 500, \"$schema\": \"https://vega.github.io/schema/vega-lite/v4.8.1.json\", \"datasets\": {\"data-9152c5d51a00c8074579b37279b307d6\": [{\"date\": \"2020-07-10T00:00:00\", \"totalTestResultsIncrease\": 73558.0, \"positiveIncrease\": 786.0, \"death\": 24968.0, \"deathIncrease\": 9.0, \"positiveRate\": 0.011, \"state\": \"New York\", \"sma7d\": 0.01}, {\"date\": \"2020-07-11T00:00:00\", \"totalTestResultsIncrease\": 69203.0, \"positiveIncrease\": 730.0, \"death\": 24974.0, \"deathIncrease\": 6.0, \"positiveRate\": 0.011, \"state\": \"New York\", \"sma7d\": 0.01}, {\"date\": \"2020-07-12T00:00:00\", \"totalTestResultsIncrease\": 62418.0, \"positiveIncrease\": 677.0, \"death\": 24979.0, \"deathIncrease\": 5.0, \"positiveRate\": 0.011, \"state\": \"New York\", \"sma7d\": 0.011}, {\"date\": \"2020-07-13T00:00:00\", \"totalTestResultsIncrease\": 51687.0, \"positiveIncrease\": 557.0, \"death\": 24989.0, \"deathIncrease\": 10.0, \"positiveRate\": 0.011, \"state\": \"New York\", \"sma7d\": 0.011}, {\"date\": \"2020-07-14T00:00:00\", \"totalTestResultsIncrease\": 60045.0, \"positiveIncrease\": 912.0, \"death\": 24994.0, \"deathIncrease\": 5.0, \"positiveRate\": 0.015, \"state\": \"New York\", \"sma7d\": 0.011}, {\"date\": \"2020-07-15T00:00:00\", \"totalTestResultsIncrease\": 63598.0, \"positiveIncrease\": 831.0, \"death\": 25003.0, \"deathIncrease\": 9.0, \"positiveRate\": 0.013, \"state\": \"New York\", \"sma7d\": 0.012}, {\"date\": \"2020-07-16T00:00:00\", \"totalTestResultsIncrease\": 72685.0, \"positiveIncrease\": 769.0, \"death\": 25014.0, \"deathIncrease\": 11.0, \"positiveRate\": 0.011, \"state\": \"New York\", \"sma7d\": 0.012}, {\"date\": \"2020-07-17T00:00:00\", \"totalTestResultsIncrease\": 78239.0, \"positiveIncrease\": 776.0, \"death\": 25024.0, \"deathIncrease\": 10.0, \"positiveRate\": 0.01, \"state\": \"New York\", \"sma7d\": 0.012}, {\"date\": \"2020-07-18T00:00:00\", \"totalTestResultsIncrease\": 69817.0, \"positiveIncrease\": 754.0, \"death\": 25035.0, \"deathIncrease\": 11.0, \"positiveRate\": 0.011, \"state\": \"New York\", \"sma7d\": 0.012}, {\"date\": \"2020-07-19T00:00:00\", \"totalTestResultsIncrease\": 46204.0, \"positiveIncrease\": 502.0, \"death\": 25048.0, \"deathIncrease\": 13.0, \"positiveRate\": 0.011, \"state\": \"New York\", \"sma7d\": 0.012}, {\"date\": \"2020-07-20T00:00:00\", \"totalTestResultsIncrease\": 49342.0, \"positiveIncrease\": 519.0, \"death\": 25056.0, \"deathIncrease\": 8.0, \"positiveRate\": 0.011, \"state\": \"New York\", \"sma7d\": 0.012}, {\"date\": \"2020-07-21T00:00:00\", \"totalTestResultsIncrease\": 66169.0, \"positiveIncrease\": 855.0, \"death\": 25058.0, \"deathIncrease\": 2.0, \"positiveRate\": 0.013, \"state\": \"New York\", \"sma7d\": 0.011}, {\"date\": \"2020-07-22T00:00:00\", \"totalTestResultsIncrease\": 67659.0, \"positiveIncrease\": 705.0, \"death\": 25068.0, \"deathIncrease\": 10.0, \"positiveRate\": 0.01, \"state\": \"New York\", \"sma7d\": 0.011}, {\"date\": \"2020-07-23T00:00:00\", \"totalTestResultsIncrease\": 69698.0, \"positiveIncrease\": 811.0, \"death\": 25081.0, \"deathIncrease\": 13.0, \"positiveRate\": 0.012, \"state\": \"New York\", \"sma7d\": 0.011}, {\"date\": \"2020-07-24T00:00:00\", \"totalTestResultsIncrease\": 76507.0, \"positiveIncrease\": 753.0, \"death\": 25090.0, \"deathIncrease\": 9.0, \"positiveRate\": 0.01, \"state\": \"New York\", \"sma7d\": 0.011}, {\"date\": \"2020-07-25T00:00:00\", \"totalTestResultsIncrease\": 71466.0, \"positiveIncrease\": 750.0, \"death\": 25103.0, \"deathIncrease\": 13.0, \"positiveRate\": 0.01, \"state\": \"New York\", \"sma7d\": 0.011}, {\"date\": \"2020-07-26T00:00:00\", \"totalTestResultsIncrease\": 53568.0, \"positiveIncrease\": 536.0, \"death\": 25106.0, \"deathIncrease\": 3.0, \"positiveRate\": 0.01, \"state\": \"New York\", \"sma7d\": 0.011}, {\"date\": \"2020-07-27T00:00:00\", \"totalTestResultsIncrease\": 57270.0, \"positiveIncrease\": 608.0, \"death\": 25117.0, \"deathIncrease\": 11.0, \"positiveRate\": 0.011, \"state\": \"New York\", \"sma7d\": 0.011}, {\"date\": \"2020-07-28T00:00:00\", \"totalTestResultsIncrease\": 57397.0, \"positiveIncrease\": 534.0, \"death\": 25126.0, \"deathIncrease\": 9.0, \"positiveRate\": 0.009, \"state\": \"New York\", \"sma7d\": 0.01}, {\"date\": \"2020-07-29T00:00:00\", \"totalTestResultsIncrease\": 62276.0, \"positiveIncrease\": 715.0, \"death\": 25132.0, \"deathIncrease\": 6.0, \"positiveRate\": 0.011, \"state\": \"New York\", \"sma7d\": 0.01}, {\"date\": \"2020-07-30T00:00:00\", \"totalTestResultsIncrease\": 73546.0, \"positiveIncrease\": 777.0, \"death\": 25145.0, \"deathIncrease\": 13.0, \"positiveRate\": 0.011, \"state\": \"New York\", \"sma7d\": 0.01}, {\"date\": \"2020-07-31T00:00:00\", \"totalTestResultsIncrease\": 68869.0, \"positiveIncrease\": 644.0, \"death\": 25150.0, \"deathIncrease\": 5.0, \"positiveRate\": 0.009, \"state\": \"New York\", \"sma7d\": 0.01}, {\"date\": \"2020-08-01T00:00:00\", \"totalTestResultsIncrease\": 82737.0, \"positiveIncrease\": 753.0, \"death\": 25164.0, \"deathIncrease\": 14.0, \"positiveRate\": 0.009, \"state\": \"New York\", \"sma7d\": 0.01}, {\"date\": \"2020-08-02T00:00:00\", \"totalTestResultsIncrease\": 58961.0, \"positiveIncrease\": 531.0, \"death\": 25170.0, \"deathIncrease\": 6.0, \"positiveRate\": 0.009, \"state\": \"New York\", \"sma7d\": 0.01}, {\"date\": \"2020-08-03T00:00:00\", \"totalTestResultsIncrease\": 51839.0, \"positiveIncrease\": 545.0, \"death\": 25172.0, \"deathIncrease\": 2.0, \"positiveRate\": 0.011, \"state\": \"New York\", \"sma7d\": 0.01}, {\"date\": \"2020-08-04T00:00:00\", \"totalTestResultsIncrease\": 70993.0, \"positiveIncrease\": 746.0, \"death\": 25175.0, \"deathIncrease\": 3.0, \"positiveRate\": 0.011, \"state\": \"New York\", \"sma7d\": 0.01}, {\"date\": \"2020-08-05T00:00:00\", \"totalTestResultsIncrease\": 72668.0, \"positiveIncrease\": 636.0, \"death\": 25179.0, \"deathIncrease\": 4.0, \"positiveRate\": 0.009, \"state\": \"New York\", \"sma7d\": 0.01}, {\"date\": \"2020-08-06T00:00:00\", \"totalTestResultsIncrease\": 72370.0, \"positiveIncrease\": 703.0, \"death\": 25185.0, \"deathIncrease\": 6.0, \"positiveRate\": 0.01, \"state\": \"New York\", \"sma7d\": 0.01}, {\"date\": \"2020-08-07T00:00:00\", \"totalTestResultsIncrease\": 70170.0, \"positiveIncrease\": 714.0, \"death\": 25190.0, \"deathIncrease\": 5.0, \"positiveRate\": 0.01, \"state\": \"New York\", \"sma7d\": 0.01}, {\"date\": \"2020-08-08T00:00:00\", \"totalTestResultsIncrease\": 74857.0, \"positiveIncrease\": 703.0, \"death\": 25195.0, \"deathIncrease\": 5.0, \"positiveRate\": 0.009, \"state\": \"New York\", \"sma7d\": 0.01}, {\"date\": \"2020-08-09T00:00:00\", \"totalTestResultsIncrease\": 65812.0, \"positiveIncrease\": 515.0, \"death\": 25202.0, \"deathIncrease\": 7.0, \"positiveRate\": 0.008, \"state\": \"New York\", \"sma7d\": 0.01}, {\"date\": \"2020-08-10T00:00:00\", \"totalTestResultsIncrease\": 54002.0, \"positiveIncrease\": 476.0, \"death\": 25204.0, \"deathIncrease\": 2.0, \"positiveRate\": 0.009, \"state\": \"New York\", \"sma7d\": 0.009}, {\"date\": \"2020-08-11T00:00:00\", \"totalTestResultsIncrease\": 77059.0, \"positiveIncrease\": 667.0, \"death\": 25211.0, \"deathIncrease\": 7.0, \"positiveRate\": 0.009, \"state\": \"New York\", \"sma7d\": 0.009}, {\"date\": \"2020-08-12T00:00:00\", \"totalTestResultsIncrease\": 87776.0, \"positiveIncrease\": 700.0, \"death\": 25218.0, \"deathIncrease\": 7.0, \"positiveRate\": 0.008, \"state\": \"New York\", \"sma7d\": 0.009}, {\"date\": \"2020-08-13T00:00:00\", \"totalTestResultsIncrease\": 87900.0, \"positiveIncrease\": 737.0, \"death\": 25228.0, \"deathIncrease\": 10.0, \"positiveRate\": 0.008, \"state\": \"New York\", \"sma7d\": 0.009}, {\"date\": \"2020-08-14T00:00:00\", \"totalTestResultsIncrease\": 85455.0, \"positiveIncrease\": 727.0, \"death\": 25232.0, \"deathIncrease\": 4.0, \"positiveRate\": 0.009, \"state\": \"New York\", \"sma7d\": 0.009}, {\"date\": \"2020-08-15T00:00:00\", \"totalTestResultsIncrease\": 88668.0, \"positiveIncrease\": 734.0, \"death\": 25244.0, \"deathIncrease\": 12.0, \"positiveRate\": 0.008, \"state\": \"New York\", \"sma7d\": 0.008}, {\"date\": \"2020-08-16T00:00:00\", \"totalTestResultsIncrease\": 77692.0, \"positiveIncrease\": 607.0, \"death\": 25250.0, \"deathIncrease\": 6.0, \"positiveRate\": 0.008, \"state\": \"New York\", \"sma7d\": 0.008}, {\"date\": \"2020-08-17T00:00:00\", \"totalTestResultsIncrease\": 56891.0, \"positiveIncrease\": 408.0, \"death\": 25256.0, \"deathIncrease\": 6.0, \"positiveRate\": 0.007, \"state\": \"New York\", \"sma7d\": 0.008}, {\"date\": \"2020-08-18T00:00:00\", \"totalTestResultsIncrease\": 66891.0, \"positiveIncrease\": 655.0, \"death\": 25264.0, \"deathIncrease\": 8.0, \"positiveRate\": 0.01, \"state\": \"New York\", \"sma7d\": 0.008}, {\"date\": \"2020-08-19T00:00:00\", \"totalTestResultsIncrease\": 80425.0, \"positiveIncrease\": 631.0, \"death\": 25270.0, \"deathIncrease\": 6.0, \"positiveRate\": 0.008, \"state\": \"New York\", \"sma7d\": 0.008}, {\"date\": \"2020-08-20T00:00:00\", \"totalTestResultsIncrease\": 80984.0, \"positiveIncrease\": 601.0, \"death\": 25275.0, \"deathIncrease\": 5.0, \"positiveRate\": 0.007, \"state\": \"New York\", \"sma7d\": 0.008}, {\"date\": \"2020-08-21T00:00:00\", \"totalTestResultsIncrease\": 98880.0, \"positiveIncrease\": 709.0, \"death\": 25278.0, \"deathIncrease\": 3.0, \"positiveRate\": 0.007, \"state\": \"New York\", \"sma7d\": 0.008}, {\"date\": \"2020-08-22T00:00:00\", \"totalTestResultsIncrease\": 94849.0, \"positiveIncrease\": 653.0, \"death\": 25282.0, \"deathIncrease\": 4.0, \"positiveRate\": 0.007, \"state\": \"New York\", \"sma7d\": 0.008}, {\"date\": \"2020-08-23T00:00:00\", \"totalTestResultsIncrease\": 74043.0, \"positiveIncrease\": 572.0, \"death\": 25288.0, \"deathIncrease\": 6.0, \"positiveRate\": 0.008, \"state\": \"New York\", \"sma7d\": 0.008}, {\"date\": \"2020-08-24T00:00:00\", \"totalTestResultsIncrease\": 62031.0, \"positiveIncrease\": 408.0, \"death\": 25295.0, \"deathIncrease\": 7.0, \"positiveRate\": 0.007, \"state\": \"New York\", \"sma7d\": 0.008}, {\"date\": \"2020-08-25T00:00:00\", \"totalTestResultsIncrease\": 67255.0, \"positiveIncrease\": 629.0, \"death\": 25297.0, \"deathIncrease\": 2.0, \"positiveRate\": 0.009, \"state\": \"New York\", \"sma7d\": 0.008}, {\"date\": \"2020-08-26T00:00:00\", \"totalTestResultsIncrease\": 71189.0, \"positiveIncrease\": 566.0, \"death\": 25305.0, \"deathIncrease\": 8.0, \"positiveRate\": 0.008, \"state\": \"New York\", \"sma7d\": 0.008}, {\"date\": \"2020-08-27T00:00:00\", \"totalTestResultsIncrease\": 83437.0, \"positiveIncrease\": 791.0, \"death\": 25309.0, \"deathIncrease\": 4.0, \"positiveRate\": 0.009, \"state\": \"New York\", \"sma7d\": 0.008}, {\"date\": \"2020-08-28T00:00:00\", \"totalTestResultsIncrease\": 97826.0, \"positiveIncrease\": 636.0, \"death\": 25312.0, \"deathIncrease\": 3.0, \"positiveRate\": 0.007, \"state\": \"New York\", \"sma7d\": 0.008}, {\"date\": \"2020-08-29T00:00:00\", \"totalTestResultsIncrease\": 93873.0, \"positiveIncrease\": 635.0, \"death\": 25319.0, \"deathIncrease\": 7.0, \"positiveRate\": 0.007, \"state\": \"New York\", \"sma7d\": 0.008}, {\"date\": \"2020-08-30T00:00:00\", \"totalTestResultsIncrease\": 100022.0, \"positiveIncrease\": 698.0, \"death\": 25327.0, \"deathIncrease\": 8.0, \"positiveRate\": 0.007, \"state\": \"New York\", \"sma7d\": 0.008}, {\"date\": \"2020-08-31T00:00:00\", \"totalTestResultsIncrease\": 66241.0, \"positiveIncrease\": 656.0, \"death\": 25328.0, \"deathIncrease\": 1.0, \"positiveRate\": 0.01, \"state\": \"New York\", \"sma7d\": 0.008}, {\"date\": \"2020-09-01T00:00:00\", \"totalTestResultsIncrease\": 76997.0, \"positiveIncrease\": 754.0, \"death\": 25331.0, \"deathIncrease\": 3.0, \"positiveRate\": 0.01, \"state\": \"New York\", \"sma7d\": 0.008}, {\"date\": \"2020-09-02T00:00:00\", \"totalTestResultsIncrease\": 88447.0, \"positiveIncrease\": 708.0, \"death\": 25336.0, \"deathIncrease\": 5.0, \"positiveRate\": 0.008, \"state\": \"New York\", \"sma7d\": 0.008}, {\"date\": \"2020-09-03T00:00:00\", \"totalTestResultsIncrease\": 88981.0, \"positiveIncrease\": 889.0, \"death\": 25343.0, \"deathIncrease\": 7.0, \"positiveRate\": 0.01, \"state\": \"New York\", \"sma7d\": 0.008}]}}, {\"mode\": \"vega-lite\"});\n",
       "</script>"
      ],
      "text/plain": [
       "alt.LayerChart(...)"
      ]
     },
     "execution_count": 12,
     "metadata": {},
     "output_type": "execute_result"
    }
   ],
   "source": [
    "create_plot(ny, 'positiveRate')"
   ]
  },
  {
   "cell_type": "code",
   "execution_count": 13,
   "metadata": {
    "execution": {
     "iopub.execute_input": "2020-09-03T22:33:18.051603Z",
     "iopub.status.busy": "2020-09-03T22:33:18.041209Z",
     "iopub.status.idle": "2020-09-03T22:33:18.102616Z",
     "shell.execute_reply": "2020-09-03T22:33:18.102911Z"
    },
    "papermill": {
     "duration": 0.087609,
     "end_time": "2020-09-03T22:33:18.103012",
     "exception": false,
     "start_time": "2020-09-03T22:33:18.015403",
     "status": "completed"
    },
    "tags": []
   },
   "outputs": [
    {
     "data": {
      "text/html": [
       "\n",
       "<div id=\"altair-viz-712377eb57344c37ab761be88c4a4cb1\"></div>\n",
       "<script type=\"text/javascript\">\n",
       "  (function(spec, embedOpt){\n",
       "    let outputDiv = document.currentScript.previousElementSibling;\n",
       "    if (outputDiv.id !== \"altair-viz-712377eb57344c37ab761be88c4a4cb1\") {\n",
       "      outputDiv = document.getElementById(\"altair-viz-712377eb57344c37ab761be88c4a4cb1\");\n",
       "    }\n",
       "    const paths = {\n",
       "      \"vega\": \"https://cdn.jsdelivr.net/npm//vega@5?noext\",\n",
       "      \"vega-lib\": \"https://cdn.jsdelivr.net/npm//vega-lib?noext\",\n",
       "      \"vega-lite\": \"https://cdn.jsdelivr.net/npm//vega-lite@4.8.1?noext\",\n",
       "      \"vega-embed\": \"https://cdn.jsdelivr.net/npm//vega-embed@6?noext\",\n",
       "    };\n",
       "\n",
       "    function loadScript(lib) {\n",
       "      return new Promise(function(resolve, reject) {\n",
       "        var s = document.createElement('script');\n",
       "        s.src = paths[lib];\n",
       "        s.async = true;\n",
       "        s.onload = () => resolve(paths[lib]);\n",
       "        s.onerror = () => reject(`Error loading script: ${paths[lib]}`);\n",
       "        document.getElementsByTagName(\"head\")[0].appendChild(s);\n",
       "      });\n",
       "    }\n",
       "\n",
       "    function showError(err) {\n",
       "      outputDiv.innerHTML = `<div class=\"error\" style=\"color:red;\">${err}</div>`;\n",
       "      throw err;\n",
       "    }\n",
       "\n",
       "    function displayChart(vegaEmbed) {\n",
       "      vegaEmbed(outputDiv, spec, embedOpt)\n",
       "        .catch(err => showError(`Javascript Error: ${err.message}<br>This usually means there's a typo in your chart specification. See the javascript console for the full traceback.`));\n",
       "    }\n",
       "\n",
       "    if(typeof define === \"function\" && define.amd) {\n",
       "      requirejs.config({paths});\n",
       "      require([\"vega-embed\"], displayChart, err => showError(`Error loading script: ${err.message}`));\n",
       "    } else if (typeof vegaEmbed === \"function\") {\n",
       "      displayChart(vegaEmbed);\n",
       "    } else {\n",
       "      loadScript(\"vega\")\n",
       "        .then(() => loadScript(\"vega-lite\"))\n",
       "        .then(() => loadScript(\"vega-embed\"))\n",
       "        .catch(showError)\n",
       "        .then(() => displayChart(vegaEmbed));\n",
       "    }\n",
       "  })({\"config\": {\"view\": {\"continuousWidth\": 400, \"continuousHeight\": 300}}, \"layer\": [{\"layer\": [{\"mark\": {\"type\": \"point\", \"size\": 75}, \"encoding\": {\"tooltip\": [{\"type\": \"temporal\", \"field\": \"date\"}, {\"type\": \"quantitative\", \"field\": \"deathIncrease\"}, {\"type\": \"quantitative\", \"field\": \"sma7d\"}], \"x\": {\"type\": \"temporal\", \"field\": \"date\"}, \"y\": {\"type\": \"quantitative\", \"field\": \"deathIncrease\"}}, \"selection\": {\"selector012\": {\"type\": \"interval\", \"bind\": \"scales\", \"encodings\": [\"x\", \"y\"]}}}, {\"mark\": {\"type\": \"line\", \"color\": \"purple\"}, \"encoding\": {\"x\": {\"type\": \"temporal\", \"field\": \"date\"}, \"y\": {\"type\": \"quantitative\", \"field\": \"sma7d\"}}}]}, {\"mark\": {\"type\": \"rule\", \"color\": \"#aaa\"}, \"encoding\": {\"x\": {\"type\": \"temporal\", \"field\": \"date\"}}, \"transform\": [{\"filter\": {\"selection\": \"selector011\"}}]}, {\"mark\": \"circle\", \"encoding\": {\"opacity\": {\"condition\": {\"value\": 1, \"selection\": \"selector011\"}, \"value\": 0}, \"tooltip\": [{\"type\": \"temporal\", \"field\": \"date\"}, {\"type\": \"quantitative\", \"field\": \"deathIncrease\"}, {\"type\": \"quantitative\", \"field\": \"sma7d\"}], \"x\": {\"type\": \"temporal\", \"field\": \"date\"}, \"y\": {\"type\": \"quantitative\", \"field\": \"deathIncrease\"}}, \"selection\": {\"selector011\": {\"type\": \"single\", \"encodings\": [\"x\"], \"on\": \"mouseover\", \"nearest\": true, \"empty\": \"none\"}}}, {\"mark\": {\"type\": \"text\", \"align\": \"left\", \"dx\": 5, \"dy\": -5, \"stroke\": \"white\", \"strokeWidth\": 2}, \"encoding\": {\"text\": {\"type\": \"quantitative\", \"field\": \"deathIncrease\"}, \"tooltip\": [{\"type\": \"temporal\", \"field\": \"date\"}, {\"type\": \"quantitative\", \"field\": \"deathIncrease\"}, {\"type\": \"quantitative\", \"field\": \"sma7d\"}], \"x\": {\"type\": \"temporal\", \"field\": \"date\"}, \"y\": {\"type\": \"quantitative\", \"field\": \"deathIncrease\"}}, \"transform\": [{\"filter\": {\"selection\": \"selector011\"}}]}, {\"mark\": {\"type\": \"text\", \"align\": \"left\", \"dx\": 5, \"dy\": -5}, \"encoding\": {\"text\": {\"type\": \"quantitative\", \"field\": \"deathIncrease\"}, \"tooltip\": [{\"type\": \"temporal\", \"field\": \"date\"}, {\"type\": \"quantitative\", \"field\": \"deathIncrease\"}, {\"type\": \"quantitative\", \"field\": \"sma7d\"}], \"x\": {\"type\": \"temporal\", \"field\": \"date\"}, \"y\": {\"type\": \"quantitative\", \"field\": \"deathIncrease\"}}, \"transform\": [{\"filter\": {\"selection\": \"selector011\"}}]}], \"data\": {\"name\": \"data-92477fb5a3b4fe1c3598f5e2c22a548c\"}, \"height\": 400, \"title\": \"New York: deathIncrease\", \"width\": 500, \"$schema\": \"https://vega.github.io/schema/vega-lite/v4.8.1.json\", \"datasets\": {\"data-92477fb5a3b4fe1c3598f5e2c22a548c\": [{\"date\": \"2020-07-10T00:00:00\", \"totalTestResultsIncrease\": 73558.0, \"positiveIncrease\": 786.0, \"death\": 24968.0, \"deathIncrease\": 9.0, \"positiveRate\": 0.011, \"state\": \"New York\", \"sma7d\": 11.857}, {\"date\": \"2020-07-11T00:00:00\", \"totalTestResultsIncrease\": 69203.0, \"positiveIncrease\": 730.0, \"death\": 24974.0, \"deathIncrease\": 6.0, \"positiveRate\": 0.011, \"state\": \"New York\", \"sma7d\": 11.143}, {\"date\": \"2020-07-12T00:00:00\", \"totalTestResultsIncrease\": 62418.0, \"positiveIncrease\": 677.0, \"death\": 24979.0, \"deathIncrease\": 5.0, \"positiveRate\": 0.011, \"state\": \"New York\", \"sma7d\": 10.714}, {\"date\": \"2020-07-13T00:00:00\", \"totalTestResultsIncrease\": 51687.0, \"positiveIncrease\": 557.0, \"death\": 24989.0, \"deathIncrease\": 10.0, \"positiveRate\": 0.011, \"state\": \"New York\", \"sma7d\": 10.857}, {\"date\": \"2020-07-14T00:00:00\", \"totalTestResultsIncrease\": 60045.0, \"positiveIncrease\": 912.0, \"death\": 24994.0, \"deathIncrease\": 5.0, \"positiveRate\": 0.015, \"state\": \"New York\", \"sma7d\": 10.0}, {\"date\": \"2020-07-15T00:00:00\", \"totalTestResultsIncrease\": 63598.0, \"positiveIncrease\": 831.0, \"death\": 25003.0, \"deathIncrease\": 9.0, \"positiveRate\": 0.013, \"state\": \"New York\", \"sma7d\": 8.429}, {\"date\": \"2020-07-16T00:00:00\", \"totalTestResultsIncrease\": 72685.0, \"positiveIncrease\": 769.0, \"death\": 25014.0, \"deathIncrease\": 11.0, \"positiveRate\": 0.011, \"state\": \"New York\", \"sma7d\": 7.857}, {\"date\": \"2020-07-17T00:00:00\", \"totalTestResultsIncrease\": 78239.0, \"positiveIncrease\": 776.0, \"death\": 25024.0, \"deathIncrease\": 10.0, \"positiveRate\": 0.01, \"state\": \"New York\", \"sma7d\": 8.0}, {\"date\": \"2020-07-18T00:00:00\", \"totalTestResultsIncrease\": 69817.0, \"positiveIncrease\": 754.0, \"death\": 25035.0, \"deathIncrease\": 11.0, \"positiveRate\": 0.011, \"state\": \"New York\", \"sma7d\": 8.714}, {\"date\": \"2020-07-19T00:00:00\", \"totalTestResultsIncrease\": 46204.0, \"positiveIncrease\": 502.0, \"death\": 25048.0, \"deathIncrease\": 13.0, \"positiveRate\": 0.011, \"state\": \"New York\", \"sma7d\": 9.857}, {\"date\": \"2020-07-20T00:00:00\", \"totalTestResultsIncrease\": 49342.0, \"positiveIncrease\": 519.0, \"death\": 25056.0, \"deathIncrease\": 8.0, \"positiveRate\": 0.011, \"state\": \"New York\", \"sma7d\": 9.571}, {\"date\": \"2020-07-21T00:00:00\", \"totalTestResultsIncrease\": 66169.0, \"positiveIncrease\": 855.0, \"death\": 25058.0, \"deathIncrease\": 2.0, \"positiveRate\": 0.013, \"state\": \"New York\", \"sma7d\": 9.143}, {\"date\": \"2020-07-22T00:00:00\", \"totalTestResultsIncrease\": 67659.0, \"positiveIncrease\": 705.0, \"death\": 25068.0, \"deathIncrease\": 10.0, \"positiveRate\": 0.01, \"state\": \"New York\", \"sma7d\": 9.286}, {\"date\": \"2020-07-23T00:00:00\", \"totalTestResultsIncrease\": 69698.0, \"positiveIncrease\": 811.0, \"death\": 25081.0, \"deathIncrease\": 13.0, \"positiveRate\": 0.012, \"state\": \"New York\", \"sma7d\": 9.571}, {\"date\": \"2020-07-24T00:00:00\", \"totalTestResultsIncrease\": 76507.0, \"positiveIncrease\": 753.0, \"death\": 25090.0, \"deathIncrease\": 9.0, \"positiveRate\": 0.01, \"state\": \"New York\", \"sma7d\": 9.429}, {\"date\": \"2020-07-25T00:00:00\", \"totalTestResultsIncrease\": 71466.0, \"positiveIncrease\": 750.0, \"death\": 25103.0, \"deathIncrease\": 13.0, \"positiveRate\": 0.01, \"state\": \"New York\", \"sma7d\": 9.714}, {\"date\": \"2020-07-26T00:00:00\", \"totalTestResultsIncrease\": 53568.0, \"positiveIncrease\": 536.0, \"death\": 25106.0, \"deathIncrease\": 3.0, \"positiveRate\": 0.01, \"state\": \"New York\", \"sma7d\": 8.286}, {\"date\": \"2020-07-27T00:00:00\", \"totalTestResultsIncrease\": 57270.0, \"positiveIncrease\": 608.0, \"death\": 25117.0, \"deathIncrease\": 11.0, \"positiveRate\": 0.011, \"state\": \"New York\", \"sma7d\": 8.714}, {\"date\": \"2020-07-28T00:00:00\", \"totalTestResultsIncrease\": 57397.0, \"positiveIncrease\": 534.0, \"death\": 25126.0, \"deathIncrease\": 9.0, \"positiveRate\": 0.009, \"state\": \"New York\", \"sma7d\": 9.714}, {\"date\": \"2020-07-29T00:00:00\", \"totalTestResultsIncrease\": 62276.0, \"positiveIncrease\": 715.0, \"death\": 25132.0, \"deathIncrease\": 6.0, \"positiveRate\": 0.011, \"state\": \"New York\", \"sma7d\": 9.143}, {\"date\": \"2020-07-30T00:00:00\", \"totalTestResultsIncrease\": 73546.0, \"positiveIncrease\": 777.0, \"death\": 25145.0, \"deathIncrease\": 13.0, \"positiveRate\": 0.011, \"state\": \"New York\", \"sma7d\": 9.143}, {\"date\": \"2020-07-31T00:00:00\", \"totalTestResultsIncrease\": 68869.0, \"positiveIncrease\": 644.0, \"death\": 25150.0, \"deathIncrease\": 5.0, \"positiveRate\": 0.009, \"state\": \"New York\", \"sma7d\": 8.571}, {\"date\": \"2020-08-01T00:00:00\", \"totalTestResultsIncrease\": 82737.0, \"positiveIncrease\": 753.0, \"death\": 25164.0, \"deathIncrease\": 14.0, \"positiveRate\": 0.009, \"state\": \"New York\", \"sma7d\": 8.714}, {\"date\": \"2020-08-02T00:00:00\", \"totalTestResultsIncrease\": 58961.0, \"positiveIncrease\": 531.0, \"death\": 25170.0, \"deathIncrease\": 6.0, \"positiveRate\": 0.009, \"state\": \"New York\", \"sma7d\": 9.143}, {\"date\": \"2020-08-03T00:00:00\", \"totalTestResultsIncrease\": 51839.0, \"positiveIncrease\": 545.0, \"death\": 25172.0, \"deathIncrease\": 2.0, \"positiveRate\": 0.011, \"state\": \"New York\", \"sma7d\": 7.857}, {\"date\": \"2020-08-04T00:00:00\", \"totalTestResultsIncrease\": 70993.0, \"positiveIncrease\": 746.0, \"death\": 25175.0, \"deathIncrease\": 3.0, \"positiveRate\": 0.011, \"state\": \"New York\", \"sma7d\": 7.0}, {\"date\": \"2020-08-05T00:00:00\", \"totalTestResultsIncrease\": 72668.0, \"positiveIncrease\": 636.0, \"death\": 25179.0, \"deathIncrease\": 4.0, \"positiveRate\": 0.009, \"state\": \"New York\", \"sma7d\": 6.714}, {\"date\": \"2020-08-06T00:00:00\", \"totalTestResultsIncrease\": 72370.0, \"positiveIncrease\": 703.0, \"death\": 25185.0, \"deathIncrease\": 6.0, \"positiveRate\": 0.01, \"state\": \"New York\", \"sma7d\": 5.714}, {\"date\": \"2020-08-07T00:00:00\", \"totalTestResultsIncrease\": 70170.0, \"positiveIncrease\": 714.0, \"death\": 25190.0, \"deathIncrease\": 5.0, \"positiveRate\": 0.01, \"state\": \"New York\", \"sma7d\": 5.714}, {\"date\": \"2020-08-08T00:00:00\", \"totalTestResultsIncrease\": 74857.0, \"positiveIncrease\": 703.0, \"death\": 25195.0, \"deathIncrease\": 5.0, \"positiveRate\": 0.009, \"state\": \"New York\", \"sma7d\": 4.429}, {\"date\": \"2020-08-09T00:00:00\", \"totalTestResultsIncrease\": 65812.0, \"positiveIncrease\": 515.0, \"death\": 25202.0, \"deathIncrease\": 7.0, \"positiveRate\": 0.008, \"state\": \"New York\", \"sma7d\": 4.571}, {\"date\": \"2020-08-10T00:00:00\", \"totalTestResultsIncrease\": 54002.0, \"positiveIncrease\": 476.0, \"death\": 25204.0, \"deathIncrease\": 2.0, \"positiveRate\": 0.009, \"state\": \"New York\", \"sma7d\": 4.571}, {\"date\": \"2020-08-11T00:00:00\", \"totalTestResultsIncrease\": 77059.0, \"positiveIncrease\": 667.0, \"death\": 25211.0, \"deathIncrease\": 7.0, \"positiveRate\": 0.009, \"state\": \"New York\", \"sma7d\": 5.143}, {\"date\": \"2020-08-12T00:00:00\", \"totalTestResultsIncrease\": 87776.0, \"positiveIncrease\": 700.0, \"death\": 25218.0, \"deathIncrease\": 7.0, \"positiveRate\": 0.008, \"state\": \"New York\", \"sma7d\": 5.571}, {\"date\": \"2020-08-13T00:00:00\", \"totalTestResultsIncrease\": 87900.0, \"positiveIncrease\": 737.0, \"death\": 25228.0, \"deathIncrease\": 10.0, \"positiveRate\": 0.008, \"state\": \"New York\", \"sma7d\": 6.143}, {\"date\": \"2020-08-14T00:00:00\", \"totalTestResultsIncrease\": 85455.0, \"positiveIncrease\": 727.0, \"death\": 25232.0, \"deathIncrease\": 4.0, \"positiveRate\": 0.009, \"state\": \"New York\", \"sma7d\": 6.0}, {\"date\": \"2020-08-15T00:00:00\", \"totalTestResultsIncrease\": 88668.0, \"positiveIncrease\": 734.0, \"death\": 25244.0, \"deathIncrease\": 12.0, \"positiveRate\": 0.008, \"state\": \"New York\", \"sma7d\": 7.0}, {\"date\": \"2020-08-16T00:00:00\", \"totalTestResultsIncrease\": 77692.0, \"positiveIncrease\": 607.0, \"death\": 25250.0, \"deathIncrease\": 6.0, \"positiveRate\": 0.008, \"state\": \"New York\", \"sma7d\": 6.857}, {\"date\": \"2020-08-17T00:00:00\", \"totalTestResultsIncrease\": 56891.0, \"positiveIncrease\": 408.0, \"death\": 25256.0, \"deathIncrease\": 6.0, \"positiveRate\": 0.007, \"state\": \"New York\", \"sma7d\": 7.429}, {\"date\": \"2020-08-18T00:00:00\", \"totalTestResultsIncrease\": 66891.0, \"positiveIncrease\": 655.0, \"death\": 25264.0, \"deathIncrease\": 8.0, \"positiveRate\": 0.01, \"state\": \"New York\", \"sma7d\": 7.571}, {\"date\": \"2020-08-19T00:00:00\", \"totalTestResultsIncrease\": 80425.0, \"positiveIncrease\": 631.0, \"death\": 25270.0, \"deathIncrease\": 6.0, \"positiveRate\": 0.008, \"state\": \"New York\", \"sma7d\": 7.429}, {\"date\": \"2020-08-20T00:00:00\", \"totalTestResultsIncrease\": 80984.0, \"positiveIncrease\": 601.0, \"death\": 25275.0, \"deathIncrease\": 5.0, \"positiveRate\": 0.007, \"state\": \"New York\", \"sma7d\": 6.714}, {\"date\": \"2020-08-21T00:00:00\", \"totalTestResultsIncrease\": 98880.0, \"positiveIncrease\": 709.0, \"death\": 25278.0, \"deathIncrease\": 3.0, \"positiveRate\": 0.007, \"state\": \"New York\", \"sma7d\": 6.571}, {\"date\": \"2020-08-22T00:00:00\", \"totalTestResultsIncrease\": 94849.0, \"positiveIncrease\": 653.0, \"death\": 25282.0, \"deathIncrease\": 4.0, \"positiveRate\": 0.007, \"state\": \"New York\", \"sma7d\": 5.429}, {\"date\": \"2020-08-23T00:00:00\", \"totalTestResultsIncrease\": 74043.0, \"positiveIncrease\": 572.0, \"death\": 25288.0, \"deathIncrease\": 6.0, \"positiveRate\": 0.008, \"state\": \"New York\", \"sma7d\": 5.429}, {\"date\": \"2020-08-24T00:00:00\", \"totalTestResultsIncrease\": 62031.0, \"positiveIncrease\": 408.0, \"death\": 25295.0, \"deathIncrease\": 7.0, \"positiveRate\": 0.007, \"state\": \"New York\", \"sma7d\": 5.571}, {\"date\": \"2020-08-25T00:00:00\", \"totalTestResultsIncrease\": 67255.0, \"positiveIncrease\": 629.0, \"death\": 25297.0, \"deathIncrease\": 2.0, \"positiveRate\": 0.009, \"state\": \"New York\", \"sma7d\": 4.714}, {\"date\": \"2020-08-26T00:00:00\", \"totalTestResultsIncrease\": 71189.0, \"positiveIncrease\": 566.0, \"death\": 25305.0, \"deathIncrease\": 8.0, \"positiveRate\": 0.008, \"state\": \"New York\", \"sma7d\": 5.0}, {\"date\": \"2020-08-27T00:00:00\", \"totalTestResultsIncrease\": 83437.0, \"positiveIncrease\": 791.0, \"death\": 25309.0, \"deathIncrease\": 4.0, \"positiveRate\": 0.009, \"state\": \"New York\", \"sma7d\": 4.857}, {\"date\": \"2020-08-28T00:00:00\", \"totalTestResultsIncrease\": 97826.0, \"positiveIncrease\": 636.0, \"death\": 25312.0, \"deathIncrease\": 3.0, \"positiveRate\": 0.007, \"state\": \"New York\", \"sma7d\": 4.857}, {\"date\": \"2020-08-29T00:00:00\", \"totalTestResultsIncrease\": 93873.0, \"positiveIncrease\": 635.0, \"death\": 25319.0, \"deathIncrease\": 7.0, \"positiveRate\": 0.007, \"state\": \"New York\", \"sma7d\": 5.286}, {\"date\": \"2020-08-30T00:00:00\", \"totalTestResultsIncrease\": 100022.0, \"positiveIncrease\": 698.0, \"death\": 25327.0, \"deathIncrease\": 8.0, \"positiveRate\": 0.007, \"state\": \"New York\", \"sma7d\": 5.571}, {\"date\": \"2020-08-31T00:00:00\", \"totalTestResultsIncrease\": 66241.0, \"positiveIncrease\": 656.0, \"death\": 25328.0, \"deathIncrease\": 1.0, \"positiveRate\": 0.01, \"state\": \"New York\", \"sma7d\": 4.714}, {\"date\": \"2020-09-01T00:00:00\", \"totalTestResultsIncrease\": 76997.0, \"positiveIncrease\": 754.0, \"death\": 25331.0, \"deathIncrease\": 3.0, \"positiveRate\": 0.01, \"state\": \"New York\", \"sma7d\": 4.857}, {\"date\": \"2020-09-02T00:00:00\", \"totalTestResultsIncrease\": 88447.0, \"positiveIncrease\": 708.0, \"death\": 25336.0, \"deathIncrease\": 5.0, \"positiveRate\": 0.008, \"state\": \"New York\", \"sma7d\": 4.429}, {\"date\": \"2020-09-03T00:00:00\", \"totalTestResultsIncrease\": 88981.0, \"positiveIncrease\": 889.0, \"death\": 25343.0, \"deathIncrease\": 7.0, \"positiveRate\": 0.01, \"state\": \"New York\", \"sma7d\": 4.857}]}}, {\"mode\": \"vega-lite\"});\n",
       "</script>"
      ],
      "text/plain": [
       "alt.LayerChart(...)"
      ]
     },
     "execution_count": 13,
     "metadata": {},
     "output_type": "execute_result"
    }
   ],
   "source": [
    "create_plot(ny, 'deathIncrease')"
   ]
  },
  {
   "cell_type": "markdown",
   "metadata": {
    "papermill": {
     "duration": 0.012265,
     "end_time": "2020-09-03T22:33:18.127945",
     "exception": false,
     "start_time": "2020-09-03T22:33:18.115680",
     "status": "completed"
    },
    "tags": []
   },
   "source": [
    "## Non Tri-State"
   ]
  },
  {
   "cell_type": "code",
   "execution_count": 14,
   "metadata": {
    "execution": {
     "iopub.execute_input": "2020-09-03T22:33:18.156631Z",
     "iopub.status.busy": "2020-09-03T22:33:18.156248Z",
     "iopub.status.idle": "2020-09-03T22:33:18.347504Z",
     "shell.execute_reply": "2020-09-03T22:33:18.346653Z"
    },
    "papermill": {
     "duration": 0.207207,
     "end_time": "2020-09-03T22:33:18.347707",
     "exception": false,
     "start_time": "2020-09-03T22:33:18.140500",
     "status": "completed"
    },
    "tags": []
   },
   "outputs": [],
   "source": [
    "non_tristate = create_df(df, lambda d: ~d['state'].isin(['CT','NJ','NY']), 'Non Tri-State')"
   ]
  },
  {
   "cell_type": "code",
   "execution_count": 15,
   "metadata": {
    "execution": {
     "iopub.execute_input": "2020-09-03T22:33:18.399155Z",
     "iopub.status.busy": "2020-09-03T22:33:18.383633Z",
     "iopub.status.idle": "2020-09-03T22:33:18.446617Z",
     "shell.execute_reply": "2020-09-03T22:33:18.446296Z"
    },
    "papermill": {
     "duration": 0.086326,
     "end_time": "2020-09-03T22:33:18.446706",
     "exception": false,
     "start_time": "2020-09-03T22:33:18.360380",
     "status": "completed"
    },
    "tags": []
   },
   "outputs": [
    {
     "data": {
      "text/html": [
       "\n",
       "<div id=\"altair-viz-60015e08472749b58d643a27136ae853\"></div>\n",
       "<script type=\"text/javascript\">\n",
       "  (function(spec, embedOpt){\n",
       "    let outputDiv = document.currentScript.previousElementSibling;\n",
       "    if (outputDiv.id !== \"altair-viz-60015e08472749b58d643a27136ae853\") {\n",
       "      outputDiv = document.getElementById(\"altair-viz-60015e08472749b58d643a27136ae853\");\n",
       "    }\n",
       "    const paths = {\n",
       "      \"vega\": \"https://cdn.jsdelivr.net/npm//vega@5?noext\",\n",
       "      \"vega-lib\": \"https://cdn.jsdelivr.net/npm//vega-lib?noext\",\n",
       "      \"vega-lite\": \"https://cdn.jsdelivr.net/npm//vega-lite@4.8.1?noext\",\n",
       "      \"vega-embed\": \"https://cdn.jsdelivr.net/npm//vega-embed@6?noext\",\n",
       "    };\n",
       "\n",
       "    function loadScript(lib) {\n",
       "      return new Promise(function(resolve, reject) {\n",
       "        var s = document.createElement('script');\n",
       "        s.src = paths[lib];\n",
       "        s.async = true;\n",
       "        s.onload = () => resolve(paths[lib]);\n",
       "        s.onerror = () => reject(`Error loading script: ${paths[lib]}`);\n",
       "        document.getElementsByTagName(\"head\")[0].appendChild(s);\n",
       "      });\n",
       "    }\n",
       "\n",
       "    function showError(err) {\n",
       "      outputDiv.innerHTML = `<div class=\"error\" style=\"color:red;\">${err}</div>`;\n",
       "      throw err;\n",
       "    }\n",
       "\n",
       "    function displayChart(vegaEmbed) {\n",
       "      vegaEmbed(outputDiv, spec, embedOpt)\n",
       "        .catch(err => showError(`Javascript Error: ${err.message}<br>This usually means there's a typo in your chart specification. See the javascript console for the full traceback.`));\n",
       "    }\n",
       "\n",
       "    if(typeof define === \"function\" && define.amd) {\n",
       "      requirejs.config({paths});\n",
       "      require([\"vega-embed\"], displayChart, err => showError(`Error loading script: ${err.message}`));\n",
       "    } else if (typeof vegaEmbed === \"function\") {\n",
       "      displayChart(vegaEmbed);\n",
       "    } else {\n",
       "      loadScript(\"vega\")\n",
       "        .then(() => loadScript(\"vega-lite\"))\n",
       "        .then(() => loadScript(\"vega-embed\"))\n",
       "        .catch(showError)\n",
       "        .then(() => displayChart(vegaEmbed));\n",
       "    }\n",
       "  })({\"config\": {\"view\": {\"continuousWidth\": 400, \"continuousHeight\": 300}}, \"layer\": [{\"layer\": [{\"mark\": {\"type\": \"point\", \"size\": 75}, \"encoding\": {\"tooltip\": [{\"type\": \"temporal\", \"field\": \"date\"}, {\"type\": \"quantitative\", \"field\": \"positiveIncrease\"}, {\"type\": \"quantitative\", \"field\": \"sma7d\"}], \"x\": {\"type\": \"temporal\", \"field\": \"date\"}, \"y\": {\"type\": \"quantitative\", \"field\": \"positiveIncrease\"}}, \"selection\": {\"selector014\": {\"type\": \"interval\", \"bind\": \"scales\", \"encodings\": [\"x\", \"y\"]}}}, {\"mark\": {\"type\": \"line\", \"color\": \"purple\"}, \"encoding\": {\"x\": {\"type\": \"temporal\", \"field\": \"date\"}, \"y\": {\"type\": \"quantitative\", \"field\": \"sma7d\"}}}]}, {\"mark\": {\"type\": \"rule\", \"color\": \"#aaa\"}, \"encoding\": {\"x\": {\"type\": \"temporal\", \"field\": \"date\"}}, \"transform\": [{\"filter\": {\"selection\": \"selector013\"}}]}, {\"mark\": \"circle\", \"encoding\": {\"opacity\": {\"condition\": {\"value\": 1, \"selection\": \"selector013\"}, \"value\": 0}, \"tooltip\": [{\"type\": \"temporal\", \"field\": \"date\"}, {\"type\": \"quantitative\", \"field\": \"positiveIncrease\"}, {\"type\": \"quantitative\", \"field\": \"sma7d\"}], \"x\": {\"type\": \"temporal\", \"field\": \"date\"}, \"y\": {\"type\": \"quantitative\", \"field\": \"positiveIncrease\"}}, \"selection\": {\"selector013\": {\"type\": \"single\", \"encodings\": [\"x\"], \"on\": \"mouseover\", \"nearest\": true, \"empty\": \"none\"}}}, {\"mark\": {\"type\": \"text\", \"align\": \"left\", \"dx\": 5, \"dy\": -5, \"stroke\": \"white\", \"strokeWidth\": 2}, \"encoding\": {\"text\": {\"type\": \"quantitative\", \"field\": \"positiveIncrease\"}, \"tooltip\": [{\"type\": \"temporal\", \"field\": \"date\"}, {\"type\": \"quantitative\", \"field\": \"positiveIncrease\"}, {\"type\": \"quantitative\", \"field\": \"sma7d\"}], \"x\": {\"type\": \"temporal\", \"field\": \"date\"}, \"y\": {\"type\": \"quantitative\", \"field\": \"positiveIncrease\"}}, \"transform\": [{\"filter\": {\"selection\": \"selector013\"}}]}, {\"mark\": {\"type\": \"text\", \"align\": \"left\", \"dx\": 5, \"dy\": -5}, \"encoding\": {\"text\": {\"type\": \"quantitative\", \"field\": \"positiveIncrease\"}, \"tooltip\": [{\"type\": \"temporal\", \"field\": \"date\"}, {\"type\": \"quantitative\", \"field\": \"positiveIncrease\"}, {\"type\": \"quantitative\", \"field\": \"sma7d\"}], \"x\": {\"type\": \"temporal\", \"field\": \"date\"}, \"y\": {\"type\": \"quantitative\", \"field\": \"positiveIncrease\"}}, \"transform\": [{\"filter\": {\"selection\": \"selector013\"}}]}], \"data\": {\"name\": \"data-f89dfed810d833817b38b8f5a87ed42f\"}, \"height\": 400, \"title\": \"Non Tri-State: positiveIncrease\", \"width\": 500, \"$schema\": \"https://vega.github.io/schema/vega-lite/v4.8.1.json\", \"datasets\": {\"data-f89dfed810d833817b38b8f5a87ed42f\": [{\"date\": \"2020-07-10T00:00:00\", \"totalTestResultsIncrease\": 717580.0, \"positiveIncrease\": 65594.0, \"death\": 81649.0, \"deathIncrease\": 814.0, \"positiveRate\": 0.091, \"state\": \"Non Tri-State\", \"sma7d\": 53626.714}, {\"date\": \"2020-07-11T00:00:00\", \"totalTestResultsIncrease\": 600556.0, \"positiveIncrease\": 61835.0, \"death\": 82354.0, \"deathIncrease\": 705.0, \"positiveRate\": 0.103, \"state\": \"Non Tri-State\", \"sma7d\": 54843.0}, {\"date\": \"2020-07-12T00:00:00\", \"totalTestResultsIncrease\": 651704.0, \"positiveIncrease\": 60296.0, \"death\": 82809.0, \"deathIncrease\": 455.0, \"positiveRate\": 0.093, \"state\": \"Non Tri-State\", \"sma7d\": 57069.429}, {\"date\": \"2020-07-13T00:00:00\", \"totalTestResultsIncrease\": 622824.0, \"positiveIncrease\": 57093.0, \"death\": 83084.0, \"deathIncrease\": 275.0, \"positiveRate\": 0.092, \"state\": \"Non Tri-State\", \"sma7d\": 59378.143}, {\"date\": \"2020-07-14T00:00:00\", \"totalTestResultsIncrease\": 676963.0, \"positiveIncrease\": 61401.0, \"death\": 83792.0, \"deathIncrease\": 708.0, \"positiveRate\": 0.091, \"state\": \"Non Tri-State\", \"sma7d\": 60890.571}, {\"date\": \"2020-07-15T00:00:00\", \"totalTestResultsIncrease\": 676996.0, \"positiveIncrease\": 64497.0, \"death\": 84608.0, \"deathIncrease\": 816.0, \"positiveRate\": 0.095, \"state\": \"Non Tri-State\", \"sma7d\": 61283.857}, {\"date\": \"2020-07-16T00:00:00\", \"totalTestResultsIncrease\": 727763.0, \"positiveIncrease\": 69930.0, \"death\": 85504.0, \"deathIncrease\": 896.0, \"positiveRate\": 0.096, \"state\": \"Non Tri-State\", \"sma7d\": 62949.429}, {\"date\": \"2020-07-17T00:00:00\", \"totalTestResultsIncrease\": 751979.0, \"positiveIncrease\": 75875.0, \"death\": 86419.0, \"deathIncrease\": 915.0, \"positiveRate\": 0.101, \"state\": \"Non Tri-State\", \"sma7d\": 64418.143}, {\"date\": \"2020-07-18T00:00:00\", \"totalTestResultsIncrease\": 681402.0, \"positiveIncrease\": 63933.0, \"death\": 87265.0, \"deathIncrease\": 846.0, \"positiveRate\": 0.094, \"state\": \"Non Tri-State\", \"sma7d\": 64717.857}, {\"date\": \"2020-07-19T00:00:00\", \"totalTestResultsIncrease\": 703644.0, \"positiveIncrease\": 63788.0, \"death\": 87771.0, \"deathIncrease\": 506.0, \"positiveRate\": 0.091, \"state\": \"Non Tri-State\", \"sma7d\": 65216.714}, {\"date\": \"2020-07-20T00:00:00\", \"totalTestResultsIncrease\": 645683.0, \"positiveIncrease\": 56180.0, \"death\": 88106.0, \"deathIncrease\": 335.0, \"positiveRate\": 0.087, \"state\": \"Non Tri-State\", \"sma7d\": 65086.286}, {\"date\": \"2020-07-21T00:00:00\", \"totalTestResultsIncrease\": 673575.0, \"positiveIncrease\": 62740.0, \"death\": 89120.0, \"deathIncrease\": 1014.0, \"positiveRate\": 0.093, \"state\": \"Non Tri-State\", \"sma7d\": 65277.571}, {\"date\": \"2020-07-22T00:00:00\", \"totalTestResultsIncrease\": 699433.0, \"positiveIncrease\": 68113.0, \"death\": 90257.0, \"deathIncrease\": 1137.0, \"positiveRate\": 0.097, \"state\": \"Non Tri-State\", \"sma7d\": 65794.143}, {\"date\": \"2020-07-23T00:00:00\", \"totalTestResultsIncrease\": 743977.0, \"positiveIncrease\": 70491.0, \"death\": 91272.0, \"deathIncrease\": 1015.0, \"positiveRate\": 0.095, \"state\": \"Non Tri-State\", \"sma7d\": 65874.286}, {\"date\": \"2020-07-24T00:00:00\", \"totalTestResultsIncrease\": 803934.0, \"positiveIncrease\": 73480.0, \"death\": 92401.0, \"deathIncrease\": 1129.0, \"positiveRate\": 0.091, \"state\": \"Non Tri-State\", \"sma7d\": 65532.143}, {\"date\": \"2020-07-25T00:00:00\", \"totalTestResultsIncrease\": 719029.0, \"positiveIncrease\": 63479.0, \"death\": 93400.0, \"deathIncrease\": 999.0, \"positiveRate\": 0.088, \"state\": \"Non Tri-State\", \"sma7d\": 65467.286}, {\"date\": \"2020-07-26T00:00:00\", \"totalTestResultsIncrease\": 732363.0, \"positiveIncrease\": 59968.0, \"death\": 93944.0, \"deathIncrease\": 544.0, \"positiveRate\": 0.082, \"state\": \"Non Tri-State\", \"sma7d\": 64921.571}, {\"date\": \"2020-07-27T00:00:00\", \"totalTestResultsIncrease\": 642905.0, \"positiveIncrease\": 54057.0, \"death\": 94970.0, \"deathIncrease\": 1026.0, \"positiveRate\": 0.084, \"state\": \"Non Tri-State\", \"sma7d\": 64618.286}, {\"date\": \"2020-07-28T00:00:00\", \"totalTestResultsIncrease\": 672582.0, \"positiveIncrease\": 55341.0, \"death\": 96056.0, \"deathIncrease\": 1086.0, \"positiveRate\": 0.082, \"state\": \"Non Tri-State\", \"sma7d\": 63561.286}, {\"date\": \"2020-07-29T00:00:00\", \"totalTestResultsIncrease\": 730739.0, \"positiveIncrease\": 65311.0, \"death\": 97522.0, \"deathIncrease\": 1466.0, \"positiveRate\": 0.089, \"state\": \"Non Tri-State\", \"sma7d\": 63161.0}, {\"date\": \"2020-07-30T00:00:00\", \"totalTestResultsIncrease\": 711279.0, \"positiveIncrease\": 68308.0, \"death\": 98751.0, \"deathIncrease\": 1229.0, \"positiveRate\": 0.096, \"state\": \"Non Tri-State\", \"sma7d\": 62849.143}, {\"date\": \"2020-07-31T00:00:00\", \"totalTestResultsIncrease\": 610987.0, \"positiveIncrease\": 66150.0, \"death\": 100046.0, \"deathIncrease\": 1295.0, \"positiveRate\": 0.108, \"state\": \"Non Tri-State\", \"sma7d\": 61802.0}, {\"date\": \"2020-08-01T00:00:00\", \"totalTestResultsIncrease\": 662561.0, \"positiveIncrease\": 59980.0, \"death\": 101210.0, \"deathIncrease\": 1164.0, \"positiveRate\": 0.091, \"state\": \"Non Tri-State\", \"sma7d\": 61302.143}, {\"date\": \"2020-08-02T00:00:00\", \"totalTestResultsIncrease\": 591335.0, \"positiveIncrease\": 45904.0, \"death\": 101696.0, \"deathIncrease\": 486.0, \"positiveRate\": 0.078, \"state\": \"Non Tri-State\", \"sma7d\": 59293.0}, {\"date\": \"2020-08-03T00:00:00\", \"totalTestResultsIncrease\": 639394.0, \"positiveIncrease\": 48708.0, \"death\": 102198.0, \"deathIncrease\": 502.0, \"positiveRate\": 0.076, \"state\": \"Non Tri-State\", \"sma7d\": 58528.857}, {\"date\": \"2020-08-04T00:00:00\", \"totalTestResultsIncrease\": 638627.0, \"positiveIncrease\": 50715.0, \"death\": 103439.0, \"deathIncrease\": 1241.0, \"positiveRate\": 0.079, \"state\": \"Non Tri-State\", \"sma7d\": 57868.0}, {\"date\": \"2020-08-05T00:00:00\", \"totalTestResultsIncrease\": 592971.0, \"positiveIncrease\": 51218.0, \"death\": 104774.0, \"deathIncrease\": 1335.0, \"positiveRate\": 0.086, \"state\": \"Non Tri-State\", \"sma7d\": 55854.714}, {\"date\": \"2020-08-06T00:00:00\", \"totalTestResultsIncrease\": 642013.0, \"positiveIncrease\": 53088.0, \"death\": 106012.0, \"deathIncrease\": 1238.0, \"positiveRate\": 0.083, \"state\": \"Non Tri-State\", \"sma7d\": 53680.429}, {\"date\": \"2020-08-07T00:00:00\", \"totalTestResultsIncrease\": 685128.0, \"positiveIncrease\": 60197.0, \"death\": 107325.0, \"deathIncrease\": 1313.0, \"positiveRate\": 0.088, \"state\": \"Non Tri-State\", \"sma7d\": 52830.0}, {\"date\": \"2020-08-08T00:00:00\", \"totalTestResultsIncrease\": 608500.0, \"positiveIncrease\": 52642.0, \"death\": 108400.0, \"deathIncrease\": 1075.0, \"positiveRate\": 0.087, \"state\": \"Non Tri-State\", \"sma7d\": 51781.714}, {\"date\": \"2020-08-09T00:00:00\", \"totalTestResultsIncrease\": 609168.0, \"positiveIncrease\": 49765.0, \"death\": 109004.0, \"deathIncrease\": 604.0, \"positiveRate\": 0.082, \"state\": \"Non Tri-State\", \"sma7d\": 52333.286}, {\"date\": \"2020-08-10T00:00:00\", \"totalTestResultsIncrease\": 626428.0, \"positiveIncrease\": 41108.0, \"death\": 109421.0, \"deathIncrease\": 417.0, \"positiveRate\": 0.066, \"state\": \"Non Tri-State\", \"sma7d\": 51247.571}, {\"date\": \"2020-08-11T00:00:00\", \"totalTestResultsIncrease\": 648308.0, \"positiveIncrease\": 54474.0, \"death\": 110728.0, \"deathIncrease\": 1307.0, \"positiveRate\": 0.084, \"state\": \"Non Tri-State\", \"sma7d\": 51784.571}, {\"date\": \"2020-08-12T00:00:00\", \"totalTestResultsIncrease\": 378730.0, \"positiveIncrease\": 54947.0, \"death\": 112223.0, \"deathIncrease\": 1495.0, \"positiveRate\": 0.145, \"state\": \"Non Tri-State\", \"sma7d\": 52317.286}, {\"date\": \"2020-08-13T00:00:00\", \"totalTestResultsIncrease\": 776632.0, \"positiveIncrease\": 50291.0, \"death\": 113368.0, \"deathIncrease\": 1145.0, \"positiveRate\": 0.065, \"state\": \"Non Tri-State\", \"sma7d\": 51917.714}, {\"date\": \"2020-08-14T00:00:00\", \"totalTestResultsIncrease\": 740369.0, \"positiveIncrease\": 54223.0, \"death\": 114567.0, \"deathIncrease\": 1199.0, \"positiveRate\": 0.073, \"state\": \"Non Tri-State\", \"sma7d\": 51064.286}, {\"date\": \"2020-08-15T00:00:00\", \"totalTestResultsIncrease\": 636475.0, \"positiveIncrease\": 55136.0, \"death\": 115767.0, \"deathIncrease\": 1200.0, \"positiveRate\": 0.087, \"state\": \"Non Tri-State\", \"sma7d\": 51420.571}, {\"date\": \"2020-08-16T00:00:00\", \"totalTestResultsIncrease\": 683900.0, \"positiveIncrease\": 41867.0, \"death\": 116378.0, \"deathIncrease\": 611.0, \"positiveRate\": 0.061, \"state\": \"Non Tri-State\", \"sma7d\": 50292.286}, {\"date\": \"2020-08-17T00:00:00\", \"totalTestResultsIncrease\": 548007.0, \"positiveIncrease\": 36791.0, \"death\": 116772.0, \"deathIncrease\": 394.0, \"positiveRate\": 0.067, \"state\": \"Non Tri-State\", \"sma7d\": 49675.571}, {\"date\": \"2020-08-18T00:00:00\", \"totalTestResultsIncrease\": 564295.0, \"positiveIncrease\": 39822.0, \"death\": 117950.0, \"deathIncrease\": 1178.0, \"positiveRate\": 0.071, \"state\": \"Non Tri-State\", \"sma7d\": 47582.429}, {\"date\": \"2020-08-19T00:00:00\", \"totalTestResultsIncrease\": 558906.0, \"positiveIncrease\": 43934.0, \"death\": 119352.0, \"deathIncrease\": 1402.0, \"positiveRate\": 0.079, \"state\": \"Non Tri-State\", \"sma7d\": 46009.143}, {\"date\": \"2020-08-20T00:00:00\", \"totalTestResultsIncrease\": 582356.0, \"positiveIncrease\": 42939.0, \"death\": 120474.0, \"deathIncrease\": 1122.0, \"positiveRate\": 0.074, \"state\": \"Non Tri-State\", \"sma7d\": 44958.857}, {\"date\": \"2020-08-21T00:00:00\", \"totalTestResultsIncrease\": 622190.0, \"positiveIncrease\": 45476.0, \"death\": 121583.0, \"deathIncrease\": 1109.0, \"positiveRate\": 0.073, \"state\": \"Non Tri-State\", \"sma7d\": 43709.286}, {\"date\": \"2020-08-22T00:00:00\", \"totalTestResultsIncrease\": 645938.0, \"positiveIncrease\": 45170.0, \"death\": 122606.0, \"deathIncrease\": 1023.0, \"positiveRate\": 0.07, \"state\": \"Non Tri-State\", \"sma7d\": 42285.571}, {\"date\": \"2020-08-23T00:00:00\", \"totalTestResultsIncrease\": 555187.0, \"positiveIncrease\": 36737.0, \"death\": 123169.0, \"deathIncrease\": 563.0, \"positiveRate\": 0.066, \"state\": \"Non Tri-State\", \"sma7d\": 41552.714}, {\"date\": \"2020-08-24T00:00:00\", \"totalTestResultsIncrease\": 547049.0, \"positiveIncrease\": 33516.0, \"death\": 123502.0, \"deathIncrease\": 333.0, \"positiveRate\": 0.061, \"state\": \"Non Tri-State\", \"sma7d\": 41084.857}, {\"date\": \"2020-08-25T00:00:00\", \"totalTestResultsIncrease\": 552277.0, \"positiveIncrease\": 35414.0, \"death\": 124640.0, \"deathIncrease\": 1138.0, \"positiveRate\": 0.064, \"state\": \"Non Tri-State\", \"sma7d\": 40455.143}, {\"date\": \"2020-08-26T00:00:00\", \"totalTestResultsIncrease\": 544756.0, \"positiveIncrease\": 42325.0, \"death\": 125920.0, \"deathIncrease\": 1280.0, \"positiveRate\": 0.078, \"state\": \"Non Tri-State\", \"sma7d\": 40225.286}, {\"date\": \"2020-08-27T00:00:00\", \"totalTestResultsIncrease\": 625747.0, \"positiveIncrease\": 42756.0, \"death\": 127036.0, \"deathIncrease\": 1116.0, \"positiveRate\": 0.068, \"state\": \"Non Tri-State\", \"sma7d\": 40199.143}, {\"date\": \"2020-08-28T00:00:00\", \"totalTestResultsIncrease\": 671041.0, \"positiveIncrease\": 45407.0, \"death\": 128047.0, \"deathIncrease\": 1011.0, \"positiveRate\": 0.068, \"state\": \"Non Tri-State\", \"sma7d\": 40189.286}, {\"date\": \"2020-08-29T00:00:00\", \"totalTestResultsIncrease\": 623189.0, \"positiveIncrease\": 43518.0, \"death\": 129052.0, \"deathIncrease\": 1005.0, \"positiveRate\": 0.07, \"state\": \"Non Tri-State\", \"sma7d\": 39953.286}, {\"date\": \"2020-08-30T00:00:00\", \"totalTestResultsIncrease\": 617932.0, \"positiveIncrease\": 38509.0, \"death\": 129515.0, \"deathIncrease\": 463.0, \"positiveRate\": 0.062, \"state\": \"Non Tri-State\", \"sma7d\": 40206.429}, {\"date\": \"2020-08-31T00:00:00\", \"totalTestResultsIncrease\": 552209.0, \"positiveIncrease\": 30017.0, \"death\": 129872.0, \"deathIncrease\": 357.0, \"positiveRate\": 0.054, \"state\": \"Non Tri-State\", \"sma7d\": 39706.571}, {\"date\": \"2020-09-01T00:00:00\", \"totalTestResultsIncrease\": 606942.0, \"positiveIncrease\": 41212.0, \"death\": 130890.0, \"deathIncrease\": 1018.0, \"positiveRate\": 0.068, \"state\": \"Non Tri-State\", \"sma7d\": 40534.857}, {\"date\": \"2020-09-02T00:00:00\", \"totalTestResultsIncrease\": 506069.0, \"positiveIncrease\": 29294.0, \"death\": 131905.0, \"deathIncrease\": 1015.0, \"positiveRate\": 0.058, \"state\": \"Non Tri-State\", \"sma7d\": 38673.286}, {\"date\": \"2020-09-03T00:00:00\", \"totalTestResultsIncrease\": 603215.0, \"positiveIncrease\": 42926.0, \"death\": 132960.0, \"deathIncrease\": 1055.0, \"positiveRate\": 0.071, \"state\": \"Non Tri-State\", \"sma7d\": 38697.571}]}}, {\"mode\": \"vega-lite\"});\n",
       "</script>"
      ],
      "text/plain": [
       "alt.LayerChart(...)"
      ]
     },
     "execution_count": 15,
     "metadata": {},
     "output_type": "execute_result"
    }
   ],
   "source": [
    "create_plot(non_tristate, 'positiveIncrease')"
   ]
  },
  {
   "cell_type": "code",
   "execution_count": 16,
   "metadata": {
    "execution": {
     "iopub.execute_input": "2020-09-03T22:33:18.501149Z",
     "iopub.status.busy": "2020-09-03T22:33:18.500408Z",
     "iopub.status.idle": "2020-09-03T22:33:18.561024Z",
     "shell.execute_reply": "2020-09-03T22:33:18.560701Z"
    },
    "papermill": {
     "duration": 0.101122,
     "end_time": "2020-09-03T22:33:18.561114",
     "exception": false,
     "start_time": "2020-09-03T22:33:18.459992",
     "status": "completed"
    },
    "tags": []
   },
   "outputs": [
    {
     "data": {
      "text/html": [
       "\n",
       "<div id=\"altair-viz-bba90d3d7db4400ca647a0c526a237af\"></div>\n",
       "<script type=\"text/javascript\">\n",
       "  (function(spec, embedOpt){\n",
       "    let outputDiv = document.currentScript.previousElementSibling;\n",
       "    if (outputDiv.id !== \"altair-viz-bba90d3d7db4400ca647a0c526a237af\") {\n",
       "      outputDiv = document.getElementById(\"altair-viz-bba90d3d7db4400ca647a0c526a237af\");\n",
       "    }\n",
       "    const paths = {\n",
       "      \"vega\": \"https://cdn.jsdelivr.net/npm//vega@5?noext\",\n",
       "      \"vega-lib\": \"https://cdn.jsdelivr.net/npm//vega-lib?noext\",\n",
       "      \"vega-lite\": \"https://cdn.jsdelivr.net/npm//vega-lite@4.8.1?noext\",\n",
       "      \"vega-embed\": \"https://cdn.jsdelivr.net/npm//vega-embed@6?noext\",\n",
       "    };\n",
       "\n",
       "    function loadScript(lib) {\n",
       "      return new Promise(function(resolve, reject) {\n",
       "        var s = document.createElement('script');\n",
       "        s.src = paths[lib];\n",
       "        s.async = true;\n",
       "        s.onload = () => resolve(paths[lib]);\n",
       "        s.onerror = () => reject(`Error loading script: ${paths[lib]}`);\n",
       "        document.getElementsByTagName(\"head\")[0].appendChild(s);\n",
       "      });\n",
       "    }\n",
       "\n",
       "    function showError(err) {\n",
       "      outputDiv.innerHTML = `<div class=\"error\" style=\"color:red;\">${err}</div>`;\n",
       "      throw err;\n",
       "    }\n",
       "\n",
       "    function displayChart(vegaEmbed) {\n",
       "      vegaEmbed(outputDiv, spec, embedOpt)\n",
       "        .catch(err => showError(`Javascript Error: ${err.message}<br>This usually means there's a typo in your chart specification. See the javascript console for the full traceback.`));\n",
       "    }\n",
       "\n",
       "    if(typeof define === \"function\" && define.amd) {\n",
       "      requirejs.config({paths});\n",
       "      require([\"vega-embed\"], displayChart, err => showError(`Error loading script: ${err.message}`));\n",
       "    } else if (typeof vegaEmbed === \"function\") {\n",
       "      displayChart(vegaEmbed);\n",
       "    } else {\n",
       "      loadScript(\"vega\")\n",
       "        .then(() => loadScript(\"vega-lite\"))\n",
       "        .then(() => loadScript(\"vega-embed\"))\n",
       "        .catch(showError)\n",
       "        .then(() => displayChart(vegaEmbed));\n",
       "    }\n",
       "  })({\"config\": {\"view\": {\"continuousWidth\": 400, \"continuousHeight\": 300}}, \"layer\": [{\"layer\": [{\"mark\": {\"type\": \"point\", \"size\": 75}, \"encoding\": {\"tooltip\": [{\"type\": \"temporal\", \"field\": \"date\"}, {\"type\": \"quantitative\", \"field\": \"positiveRate\"}, {\"type\": \"quantitative\", \"field\": \"sma7d\"}], \"x\": {\"type\": \"temporal\", \"field\": \"date\"}, \"y\": {\"type\": \"quantitative\", \"field\": \"positiveRate\"}}, \"selection\": {\"selector016\": {\"type\": \"interval\", \"bind\": \"scales\", \"encodings\": [\"x\", \"y\"]}}}, {\"mark\": {\"type\": \"line\", \"color\": \"purple\"}, \"encoding\": {\"x\": {\"type\": \"temporal\", \"field\": \"date\"}, \"y\": {\"type\": \"quantitative\", \"field\": \"sma7d\"}}}]}, {\"mark\": {\"type\": \"rule\", \"color\": \"#aaa\"}, \"encoding\": {\"x\": {\"type\": \"temporal\", \"field\": \"date\"}}, \"transform\": [{\"filter\": {\"selection\": \"selector015\"}}]}, {\"mark\": \"circle\", \"encoding\": {\"opacity\": {\"condition\": {\"value\": 1, \"selection\": \"selector015\"}, \"value\": 0}, \"tooltip\": [{\"type\": \"temporal\", \"field\": \"date\"}, {\"type\": \"quantitative\", \"field\": \"positiveRate\"}, {\"type\": \"quantitative\", \"field\": \"sma7d\"}], \"x\": {\"type\": \"temporal\", \"field\": \"date\"}, \"y\": {\"type\": \"quantitative\", \"field\": \"positiveRate\"}}, \"selection\": {\"selector015\": {\"type\": \"single\", \"encodings\": [\"x\"], \"on\": \"mouseover\", \"nearest\": true, \"empty\": \"none\"}}}, {\"mark\": {\"type\": \"text\", \"align\": \"left\", \"dx\": 5, \"dy\": -5, \"stroke\": \"white\", \"strokeWidth\": 2}, \"encoding\": {\"text\": {\"type\": \"quantitative\", \"field\": \"positiveRate\"}, \"tooltip\": [{\"type\": \"temporal\", \"field\": \"date\"}, {\"type\": \"quantitative\", \"field\": \"positiveRate\"}, {\"type\": \"quantitative\", \"field\": \"sma7d\"}], \"x\": {\"type\": \"temporal\", \"field\": \"date\"}, \"y\": {\"type\": \"quantitative\", \"field\": \"positiveRate\"}}, \"transform\": [{\"filter\": {\"selection\": \"selector015\"}}]}, {\"mark\": {\"type\": \"text\", \"align\": \"left\", \"dx\": 5, \"dy\": -5}, \"encoding\": {\"text\": {\"type\": \"quantitative\", \"field\": \"positiveRate\"}, \"tooltip\": [{\"type\": \"temporal\", \"field\": \"date\"}, {\"type\": \"quantitative\", \"field\": \"positiveRate\"}, {\"type\": \"quantitative\", \"field\": \"sma7d\"}], \"x\": {\"type\": \"temporal\", \"field\": \"date\"}, \"y\": {\"type\": \"quantitative\", \"field\": \"positiveRate\"}}, \"transform\": [{\"filter\": {\"selection\": \"selector015\"}}]}], \"data\": {\"name\": \"data-5b51c091fc4db7602740b8ed9f1bff5e\"}, \"height\": 400, \"title\": \"Non Tri-State: positiveRate\", \"width\": 500, \"$schema\": \"https://vega.github.io/schema/vega-lite/v4.8.1.json\", \"datasets\": {\"data-5b51c091fc4db7602740b8ed9f1bff5e\": [{\"date\": \"2020-07-10T00:00:00\", \"totalTestResultsIncrease\": 717580.0, \"positiveIncrease\": 65594.0, \"death\": 81649.0, \"deathIncrease\": 814.0, \"positiveRate\": 0.091, \"state\": \"Non Tri-State\", \"sma7d\": 0.094}, {\"date\": \"2020-07-11T00:00:00\", \"totalTestResultsIncrease\": 600556.0, \"positiveIncrease\": 61835.0, \"death\": 82354.0, \"deathIncrease\": 705.0, \"positiveRate\": 0.103, \"state\": \"Non Tri-State\", \"sma7d\": 0.095}, {\"date\": \"2020-07-12T00:00:00\", \"totalTestResultsIncrease\": 651704.0, \"positiveIncrease\": 60296.0, \"death\": 82809.0, \"deathIncrease\": 455.0, \"positiveRate\": 0.093, \"state\": \"Non Tri-State\", \"sma7d\": 0.097}, {\"date\": \"2020-07-13T00:00:00\", \"totalTestResultsIncrease\": 622824.0, \"positiveIncrease\": 57093.0, \"death\": 83084.0, \"deathIncrease\": 275.0, \"positiveRate\": 0.092, \"state\": \"Non Tri-State\", \"sma7d\": 0.096}, {\"date\": \"2020-07-14T00:00:00\", \"totalTestResultsIncrease\": 676963.0, \"positiveIncrease\": 61401.0, \"death\": 83792.0, \"deathIncrease\": 708.0, \"positiveRate\": 0.091, \"state\": \"Non Tri-State\", \"sma7d\": 0.097}, {\"date\": \"2020-07-15T00:00:00\", \"totalTestResultsIncrease\": 676996.0, \"positiveIncrease\": 64497.0, \"death\": 84608.0, \"deathIncrease\": 816.0, \"positiveRate\": 0.095, \"state\": \"Non Tri-State\", \"sma7d\": 0.094}, {\"date\": \"2020-07-16T00:00:00\", \"totalTestResultsIncrease\": 727763.0, \"positiveIncrease\": 69930.0, \"death\": 85504.0, \"deathIncrease\": 896.0, \"positiveRate\": 0.096, \"state\": \"Non Tri-State\", \"sma7d\": 0.094}, {\"date\": \"2020-07-17T00:00:00\", \"totalTestResultsIncrease\": 751979.0, \"positiveIncrease\": 75875.0, \"death\": 86419.0, \"deathIncrease\": 915.0, \"positiveRate\": 0.101, \"state\": \"Non Tri-State\", \"sma7d\": 0.096}, {\"date\": \"2020-07-18T00:00:00\", \"totalTestResultsIncrease\": 681402.0, \"positiveIncrease\": 63933.0, \"death\": 87265.0, \"deathIncrease\": 846.0, \"positiveRate\": 0.094, \"state\": \"Non Tri-State\", \"sma7d\": 0.095}, {\"date\": \"2020-07-19T00:00:00\", \"totalTestResultsIncrease\": 703644.0, \"positiveIncrease\": 63788.0, \"death\": 87771.0, \"deathIncrease\": 506.0, \"positiveRate\": 0.091, \"state\": \"Non Tri-State\", \"sma7d\": 0.094}, {\"date\": \"2020-07-20T00:00:00\", \"totalTestResultsIncrease\": 645683.0, \"positiveIncrease\": 56180.0, \"death\": 88106.0, \"deathIncrease\": 335.0, \"positiveRate\": 0.087, \"state\": \"Non Tri-State\", \"sma7d\": 0.094}, {\"date\": \"2020-07-21T00:00:00\", \"totalTestResultsIncrease\": 673575.0, \"positiveIncrease\": 62740.0, \"death\": 89120.0, \"deathIncrease\": 1014.0, \"positiveRate\": 0.093, \"state\": \"Non Tri-State\", \"sma7d\": 0.094}, {\"date\": \"2020-07-22T00:00:00\", \"totalTestResultsIncrease\": 699433.0, \"positiveIncrease\": 68113.0, \"death\": 90257.0, \"deathIncrease\": 1137.0, \"positiveRate\": 0.097, \"state\": \"Non Tri-State\", \"sma7d\": 0.094}, {\"date\": \"2020-07-23T00:00:00\", \"totalTestResultsIncrease\": 743977.0, \"positiveIncrease\": 70491.0, \"death\": 91272.0, \"deathIncrease\": 1015.0, \"positiveRate\": 0.095, \"state\": \"Non Tri-State\", \"sma7d\": 0.094}, {\"date\": \"2020-07-24T00:00:00\", \"totalTestResultsIncrease\": 803934.0, \"positiveIncrease\": 73480.0, \"death\": 92401.0, \"deathIncrease\": 1129.0, \"positiveRate\": 0.091, \"state\": \"Non Tri-State\", \"sma7d\": 0.093}, {\"date\": \"2020-07-25T00:00:00\", \"totalTestResultsIncrease\": 719029.0, \"positiveIncrease\": 63479.0, \"death\": 93400.0, \"deathIncrease\": 999.0, \"positiveRate\": 0.088, \"state\": \"Non Tri-State\", \"sma7d\": 0.092}, {\"date\": \"2020-07-26T00:00:00\", \"totalTestResultsIncrease\": 732363.0, \"positiveIncrease\": 59968.0, \"death\": 93944.0, \"deathIncrease\": 544.0, \"positiveRate\": 0.082, \"state\": \"Non Tri-State\", \"sma7d\": 0.09}, {\"date\": \"2020-07-27T00:00:00\", \"totalTestResultsIncrease\": 642905.0, \"positiveIncrease\": 54057.0, \"death\": 94970.0, \"deathIncrease\": 1026.0, \"positiveRate\": 0.084, \"state\": \"Non Tri-State\", \"sma7d\": 0.09}, {\"date\": \"2020-07-28T00:00:00\", \"totalTestResultsIncrease\": 672582.0, \"positiveIncrease\": 55341.0, \"death\": 96056.0, \"deathIncrease\": 1086.0, \"positiveRate\": 0.082, \"state\": \"Non Tri-State\", \"sma7d\": 0.088}, {\"date\": \"2020-07-29T00:00:00\", \"totalTestResultsIncrease\": 730739.0, \"positiveIncrease\": 65311.0, \"death\": 97522.0, \"deathIncrease\": 1466.0, \"positiveRate\": 0.089, \"state\": \"Non Tri-State\", \"sma7d\": 0.087}, {\"date\": \"2020-07-30T00:00:00\", \"totalTestResultsIncrease\": 711279.0, \"positiveIncrease\": 68308.0, \"death\": 98751.0, \"deathIncrease\": 1229.0, \"positiveRate\": 0.096, \"state\": \"Non Tri-State\", \"sma7d\": 0.087}, {\"date\": \"2020-07-31T00:00:00\", \"totalTestResultsIncrease\": 610987.0, \"positiveIncrease\": 66150.0, \"death\": 100046.0, \"deathIncrease\": 1295.0, \"positiveRate\": 0.108, \"state\": \"Non Tri-State\", \"sma7d\": 0.09}, {\"date\": \"2020-08-01T00:00:00\", \"totalTestResultsIncrease\": 662561.0, \"positiveIncrease\": 59980.0, \"death\": 101210.0, \"deathIncrease\": 1164.0, \"positiveRate\": 0.091, \"state\": \"Non Tri-State\", \"sma7d\": 0.09}, {\"date\": \"2020-08-02T00:00:00\", \"totalTestResultsIncrease\": 591335.0, \"positiveIncrease\": 45904.0, \"death\": 101696.0, \"deathIncrease\": 486.0, \"positiveRate\": 0.078, \"state\": \"Non Tri-State\", \"sma7d\": 0.09}, {\"date\": \"2020-08-03T00:00:00\", \"totalTestResultsIncrease\": 639394.0, \"positiveIncrease\": 48708.0, \"death\": 102198.0, \"deathIncrease\": 502.0, \"positiveRate\": 0.076, \"state\": \"Non Tri-State\", \"sma7d\": 0.089}, {\"date\": \"2020-08-04T00:00:00\", \"totalTestResultsIncrease\": 638627.0, \"positiveIncrease\": 50715.0, \"death\": 103439.0, \"deathIncrease\": 1241.0, \"positiveRate\": 0.079, \"state\": \"Non Tri-State\", \"sma7d\": 0.088}, {\"date\": \"2020-08-05T00:00:00\", \"totalTestResultsIncrease\": 592971.0, \"positiveIncrease\": 51218.0, \"death\": 104774.0, \"deathIncrease\": 1335.0, \"positiveRate\": 0.086, \"state\": \"Non Tri-State\", \"sma7d\": 0.088}, {\"date\": \"2020-08-06T00:00:00\", \"totalTestResultsIncrease\": 642013.0, \"positiveIncrease\": 53088.0, \"death\": 106012.0, \"deathIncrease\": 1238.0, \"positiveRate\": 0.083, \"state\": \"Non Tri-State\", \"sma7d\": 0.086}, {\"date\": \"2020-08-07T00:00:00\", \"totalTestResultsIncrease\": 685128.0, \"positiveIncrease\": 60197.0, \"death\": 107325.0, \"deathIncrease\": 1313.0, \"positiveRate\": 0.088, \"state\": \"Non Tri-State\", \"sma7d\": 0.083}, {\"date\": \"2020-08-08T00:00:00\", \"totalTestResultsIncrease\": 608500.0, \"positiveIncrease\": 52642.0, \"death\": 108400.0, \"deathIncrease\": 1075.0, \"positiveRate\": 0.087, \"state\": \"Non Tri-State\", \"sma7d\": 0.082}, {\"date\": \"2020-08-09T00:00:00\", \"totalTestResultsIncrease\": 609168.0, \"positiveIncrease\": 49765.0, \"death\": 109004.0, \"deathIncrease\": 604.0, \"positiveRate\": 0.082, \"state\": \"Non Tri-State\", \"sma7d\": 0.083}, {\"date\": \"2020-08-10T00:00:00\", \"totalTestResultsIncrease\": 626428.0, \"positiveIncrease\": 41108.0, \"death\": 109421.0, \"deathIncrease\": 417.0, \"positiveRate\": 0.066, \"state\": \"Non Tri-State\", \"sma7d\": 0.082}, {\"date\": \"2020-08-11T00:00:00\", \"totalTestResultsIncrease\": 648308.0, \"positiveIncrease\": 54474.0, \"death\": 110728.0, \"deathIncrease\": 1307.0, \"positiveRate\": 0.084, \"state\": \"Non Tri-State\", \"sma7d\": 0.082}, {\"date\": \"2020-08-12T00:00:00\", \"totalTestResultsIncrease\": 378730.0, \"positiveIncrease\": 54947.0, \"death\": 112223.0, \"deathIncrease\": 1495.0, \"positiveRate\": 0.145, \"state\": \"Non Tri-State\", \"sma7d\": 0.091}, {\"date\": \"2020-08-13T00:00:00\", \"totalTestResultsIncrease\": 776632.0, \"positiveIncrease\": 50291.0, \"death\": 113368.0, \"deathIncrease\": 1145.0, \"positiveRate\": 0.065, \"state\": \"Non Tri-State\", \"sma7d\": 0.088}, {\"date\": \"2020-08-14T00:00:00\", \"totalTestResultsIncrease\": 740369.0, \"positiveIncrease\": 54223.0, \"death\": 114567.0, \"deathIncrease\": 1199.0, \"positiveRate\": 0.073, \"state\": \"Non Tri-State\", \"sma7d\": 0.086}, {\"date\": \"2020-08-15T00:00:00\", \"totalTestResultsIncrease\": 636475.0, \"positiveIncrease\": 55136.0, \"death\": 115767.0, \"deathIncrease\": 1200.0, \"positiveRate\": 0.087, \"state\": \"Non Tri-State\", \"sma7d\": 0.086}, {\"date\": \"2020-08-16T00:00:00\", \"totalTestResultsIncrease\": 683900.0, \"positiveIncrease\": 41867.0, \"death\": 116378.0, \"deathIncrease\": 611.0, \"positiveRate\": 0.061, \"state\": \"Non Tri-State\", \"sma7d\": 0.083}, {\"date\": \"2020-08-17T00:00:00\", \"totalTestResultsIncrease\": 548007.0, \"positiveIncrease\": 36791.0, \"death\": 116772.0, \"deathIncrease\": 394.0, \"positiveRate\": 0.067, \"state\": \"Non Tri-State\", \"sma7d\": 0.083}, {\"date\": \"2020-08-18T00:00:00\", \"totalTestResultsIncrease\": 564295.0, \"positiveIncrease\": 39822.0, \"death\": 117950.0, \"deathIncrease\": 1178.0, \"positiveRate\": 0.071, \"state\": \"Non Tri-State\", \"sma7d\": 0.081}, {\"date\": \"2020-08-19T00:00:00\", \"totalTestResultsIncrease\": 558906.0, \"positiveIncrease\": 43934.0, \"death\": 119352.0, \"deathIncrease\": 1402.0, \"positiveRate\": 0.079, \"state\": \"Non Tri-State\", \"sma7d\": 0.072}, {\"date\": \"2020-08-20T00:00:00\", \"totalTestResultsIncrease\": 582356.0, \"positiveIncrease\": 42939.0, \"death\": 120474.0, \"deathIncrease\": 1122.0, \"positiveRate\": 0.074, \"state\": \"Non Tri-State\", \"sma7d\": 0.073}, {\"date\": \"2020-08-21T00:00:00\", \"totalTestResultsIncrease\": 622190.0, \"positiveIncrease\": 45476.0, \"death\": 121583.0, \"deathIncrease\": 1109.0, \"positiveRate\": 0.073, \"state\": \"Non Tri-State\", \"sma7d\": 0.073}, {\"date\": \"2020-08-22T00:00:00\", \"totalTestResultsIncrease\": 645938.0, \"positiveIncrease\": 45170.0, \"death\": 122606.0, \"deathIncrease\": 1023.0, \"positiveRate\": 0.07, \"state\": \"Non Tri-State\", \"sma7d\": 0.071}, {\"date\": \"2020-08-23T00:00:00\", \"totalTestResultsIncrease\": 555187.0, \"positiveIncrease\": 36737.0, \"death\": 123169.0, \"deathIncrease\": 563.0, \"positiveRate\": 0.066, \"state\": \"Non Tri-State\", \"sma7d\": 0.071}, {\"date\": \"2020-08-24T00:00:00\", \"totalTestResultsIncrease\": 547049.0, \"positiveIncrease\": 33516.0, \"death\": 123502.0, \"deathIncrease\": 333.0, \"positiveRate\": 0.061, \"state\": \"Non Tri-State\", \"sma7d\": 0.071}, {\"date\": \"2020-08-25T00:00:00\", \"totalTestResultsIncrease\": 552277.0, \"positiveIncrease\": 35414.0, \"death\": 124640.0, \"deathIncrease\": 1138.0, \"positiveRate\": 0.064, \"state\": \"Non Tri-State\", \"sma7d\": 0.07}, {\"date\": \"2020-08-26T00:00:00\", \"totalTestResultsIncrease\": 544756.0, \"positiveIncrease\": 42325.0, \"death\": 125920.0, \"deathIncrease\": 1280.0, \"positiveRate\": 0.078, \"state\": \"Non Tri-State\", \"sma7d\": 0.069}, {\"date\": \"2020-08-27T00:00:00\", \"totalTestResultsIncrease\": 625747.0, \"positiveIncrease\": 42756.0, \"death\": 127036.0, \"deathIncrease\": 1116.0, \"positiveRate\": 0.068, \"state\": \"Non Tri-State\", \"sma7d\": 0.069}, {\"date\": \"2020-08-28T00:00:00\", \"totalTestResultsIncrease\": 671041.0, \"positiveIncrease\": 45407.0, \"death\": 128047.0, \"deathIncrease\": 1011.0, \"positiveRate\": 0.068, \"state\": \"Non Tri-State\", \"sma7d\": 0.068}, {\"date\": \"2020-08-29T00:00:00\", \"totalTestResultsIncrease\": 623189.0, \"positiveIncrease\": 43518.0, \"death\": 129052.0, \"deathIncrease\": 1005.0, \"positiveRate\": 0.07, \"state\": \"Non Tri-State\", \"sma7d\": 0.068}, {\"date\": \"2020-08-30T00:00:00\", \"totalTestResultsIncrease\": 617932.0, \"positiveIncrease\": 38509.0, \"death\": 129515.0, \"deathIncrease\": 463.0, \"positiveRate\": 0.062, \"state\": \"Non Tri-State\", \"sma7d\": 0.067}, {\"date\": \"2020-08-31T00:00:00\", \"totalTestResultsIncrease\": 552209.0, \"positiveIncrease\": 30017.0, \"death\": 129872.0, \"deathIncrease\": 357.0, \"positiveRate\": 0.054, \"state\": \"Non Tri-State\", \"sma7d\": 0.066}, {\"date\": \"2020-09-01T00:00:00\", \"totalTestResultsIncrease\": 606942.0, \"positiveIncrease\": 41212.0, \"death\": 130890.0, \"deathIncrease\": 1018.0, \"positiveRate\": 0.068, \"state\": \"Non Tri-State\", \"sma7d\": 0.067}, {\"date\": \"2020-09-02T00:00:00\", \"totalTestResultsIncrease\": 506069.0, \"positiveIncrease\": 29294.0, \"death\": 131905.0, \"deathIncrease\": 1015.0, \"positiveRate\": 0.058, \"state\": \"Non Tri-State\", \"sma7d\": 0.064}, {\"date\": \"2020-09-03T00:00:00\", \"totalTestResultsIncrease\": 603215.0, \"positiveIncrease\": 42926.0, \"death\": 132960.0, \"deathIncrease\": 1055.0, \"positiveRate\": 0.071, \"state\": \"Non Tri-State\", \"sma7d\": 0.064}]}}, {\"mode\": \"vega-lite\"});\n",
       "</script>"
      ],
      "text/plain": [
       "alt.LayerChart(...)"
      ]
     },
     "execution_count": 16,
     "metadata": {},
     "output_type": "execute_result"
    }
   ],
   "source": [
    "create_plot(non_tristate, 'positiveRate')"
   ]
  },
  {
   "cell_type": "code",
   "execution_count": 17,
   "metadata": {
    "execution": {
     "iopub.execute_input": "2020-09-03T22:33:18.591878Z",
     "iopub.status.busy": "2020-09-03T22:33:18.589914Z",
     "iopub.status.idle": "2020-09-03T22:33:18.658436Z",
     "shell.execute_reply": "2020-09-03T22:33:18.658730Z"
    },
    "papermill": {
     "duration": 0.084953,
     "end_time": "2020-09-03T22:33:18.658832",
     "exception": false,
     "start_time": "2020-09-03T22:33:18.573879",
     "status": "completed"
    },
    "tags": []
   },
   "outputs": [
    {
     "data": {
      "text/html": [
       "\n",
       "<div id=\"altair-viz-eb4ee70253944b7698fcda81ab3b6188\"></div>\n",
       "<script type=\"text/javascript\">\n",
       "  (function(spec, embedOpt){\n",
       "    let outputDiv = document.currentScript.previousElementSibling;\n",
       "    if (outputDiv.id !== \"altair-viz-eb4ee70253944b7698fcda81ab3b6188\") {\n",
       "      outputDiv = document.getElementById(\"altair-viz-eb4ee70253944b7698fcda81ab3b6188\");\n",
       "    }\n",
       "    const paths = {\n",
       "      \"vega\": \"https://cdn.jsdelivr.net/npm//vega@5?noext\",\n",
       "      \"vega-lib\": \"https://cdn.jsdelivr.net/npm//vega-lib?noext\",\n",
       "      \"vega-lite\": \"https://cdn.jsdelivr.net/npm//vega-lite@4.8.1?noext\",\n",
       "      \"vega-embed\": \"https://cdn.jsdelivr.net/npm//vega-embed@6?noext\",\n",
       "    };\n",
       "\n",
       "    function loadScript(lib) {\n",
       "      return new Promise(function(resolve, reject) {\n",
       "        var s = document.createElement('script');\n",
       "        s.src = paths[lib];\n",
       "        s.async = true;\n",
       "        s.onload = () => resolve(paths[lib]);\n",
       "        s.onerror = () => reject(`Error loading script: ${paths[lib]}`);\n",
       "        document.getElementsByTagName(\"head\")[0].appendChild(s);\n",
       "      });\n",
       "    }\n",
       "\n",
       "    function showError(err) {\n",
       "      outputDiv.innerHTML = `<div class=\"error\" style=\"color:red;\">${err}</div>`;\n",
       "      throw err;\n",
       "    }\n",
       "\n",
       "    function displayChart(vegaEmbed) {\n",
       "      vegaEmbed(outputDiv, spec, embedOpt)\n",
       "        .catch(err => showError(`Javascript Error: ${err.message}<br>This usually means there's a typo in your chart specification. See the javascript console for the full traceback.`));\n",
       "    }\n",
       "\n",
       "    if(typeof define === \"function\" && define.amd) {\n",
       "      requirejs.config({paths});\n",
       "      require([\"vega-embed\"], displayChart, err => showError(`Error loading script: ${err.message}`));\n",
       "    } else if (typeof vegaEmbed === \"function\") {\n",
       "      displayChart(vegaEmbed);\n",
       "    } else {\n",
       "      loadScript(\"vega\")\n",
       "        .then(() => loadScript(\"vega-lite\"))\n",
       "        .then(() => loadScript(\"vega-embed\"))\n",
       "        .catch(showError)\n",
       "        .then(() => displayChart(vegaEmbed));\n",
       "    }\n",
       "  })({\"config\": {\"view\": {\"continuousWidth\": 400, \"continuousHeight\": 300}}, \"layer\": [{\"layer\": [{\"mark\": {\"type\": \"point\", \"size\": 75}, \"encoding\": {\"tooltip\": [{\"type\": \"temporal\", \"field\": \"date\"}, {\"type\": \"quantitative\", \"field\": \"deathIncrease\"}, {\"type\": \"quantitative\", \"field\": \"sma7d\"}], \"x\": {\"type\": \"temporal\", \"field\": \"date\"}, \"y\": {\"type\": \"quantitative\", \"field\": \"deathIncrease\"}}, \"selection\": {\"selector018\": {\"type\": \"interval\", \"bind\": \"scales\", \"encodings\": [\"x\", \"y\"]}}}, {\"mark\": {\"type\": \"line\", \"color\": \"purple\"}, \"encoding\": {\"x\": {\"type\": \"temporal\", \"field\": \"date\"}, \"y\": {\"type\": \"quantitative\", \"field\": \"sma7d\"}}}]}, {\"mark\": {\"type\": \"rule\", \"color\": \"#aaa\"}, \"encoding\": {\"x\": {\"type\": \"temporal\", \"field\": \"date\"}}, \"transform\": [{\"filter\": {\"selection\": \"selector017\"}}]}, {\"mark\": \"circle\", \"encoding\": {\"opacity\": {\"condition\": {\"value\": 1, \"selection\": \"selector017\"}, \"value\": 0}, \"tooltip\": [{\"type\": \"temporal\", \"field\": \"date\"}, {\"type\": \"quantitative\", \"field\": \"deathIncrease\"}, {\"type\": \"quantitative\", \"field\": \"sma7d\"}], \"x\": {\"type\": \"temporal\", \"field\": \"date\"}, \"y\": {\"type\": \"quantitative\", \"field\": \"deathIncrease\"}}, \"selection\": {\"selector017\": {\"type\": \"single\", \"encodings\": [\"x\"], \"on\": \"mouseover\", \"nearest\": true, \"empty\": \"none\"}}}, {\"mark\": {\"type\": \"text\", \"align\": \"left\", \"dx\": 5, \"dy\": -5, \"stroke\": \"white\", \"strokeWidth\": 2}, \"encoding\": {\"text\": {\"type\": \"quantitative\", \"field\": \"deathIncrease\"}, \"tooltip\": [{\"type\": \"temporal\", \"field\": \"date\"}, {\"type\": \"quantitative\", \"field\": \"deathIncrease\"}, {\"type\": \"quantitative\", \"field\": \"sma7d\"}], \"x\": {\"type\": \"temporal\", \"field\": \"date\"}, \"y\": {\"type\": \"quantitative\", \"field\": \"deathIncrease\"}}, \"transform\": [{\"filter\": {\"selection\": \"selector017\"}}]}, {\"mark\": {\"type\": \"text\", \"align\": \"left\", \"dx\": 5, \"dy\": -5}, \"encoding\": {\"text\": {\"type\": \"quantitative\", \"field\": \"deathIncrease\"}, \"tooltip\": [{\"type\": \"temporal\", \"field\": \"date\"}, {\"type\": \"quantitative\", \"field\": \"deathIncrease\"}, {\"type\": \"quantitative\", \"field\": \"sma7d\"}], \"x\": {\"type\": \"temporal\", \"field\": \"date\"}, \"y\": {\"type\": \"quantitative\", \"field\": \"deathIncrease\"}}, \"transform\": [{\"filter\": {\"selection\": \"selector017\"}}]}], \"data\": {\"name\": \"data-40e659721bfb6da95d448eb2464294fb\"}, \"height\": 400, \"title\": \"Non Tri-State: deathIncrease\", \"width\": 500, \"$schema\": \"https://vega.github.io/schema/vega-lite/v4.8.1.json\", \"datasets\": {\"data-40e659721bfb6da95d448eb2464294fb\": [{\"date\": \"2020-07-10T00:00:00\", \"totalTestResultsIncrease\": 717580.0, \"positiveIncrease\": 65594.0, \"death\": 81649.0, \"deathIncrease\": 814.0, \"positiveRate\": 0.091, \"state\": \"Non Tri-State\", \"sma7d\": 555.143}, {\"date\": \"2020-07-11T00:00:00\", \"totalTestResultsIncrease\": 600556.0, \"positiveIncrease\": 61835.0, \"death\": 82354.0, \"deathIncrease\": 705.0, \"positiveRate\": 0.103, \"state\": \"Non Tri-State\", \"sma7d\": 617.286}, {\"date\": \"2020-07-12T00:00:00\", \"totalTestResultsIncrease\": 651704.0, \"positiveIncrease\": 60296.0, \"death\": 82809.0, \"deathIncrease\": 455.0, \"positiveRate\": 0.093, \"state\": \"Non Tri-State\", \"sma7d\": 656.714}, {\"date\": \"2020-07-13T00:00:00\", \"totalTestResultsIncrease\": 622824.0, \"positiveIncrease\": 57093.0, \"death\": 83084.0, \"deathIncrease\": 275.0, \"positiveRate\": 0.092, \"state\": \"Non Tri-State\", \"sma7d\": 665.714}, {\"date\": \"2020-07-14T00:00:00\", \"totalTestResultsIncrease\": 676963.0, \"positiveIncrease\": 61401.0, \"death\": 83792.0, \"deathIncrease\": 708.0, \"positiveRate\": 0.091, \"state\": \"Non Tri-State\", \"sma7d\": 644.143}, {\"date\": \"2020-07-15T00:00:00\", \"totalTestResultsIncrease\": 676996.0, \"positiveIncrease\": 64497.0, \"death\": 84608.0, \"deathIncrease\": 816.0, \"positiveRate\": 0.095, \"state\": \"Non Tri-State\", \"sma7d\": 656.429}, {\"date\": \"2020-07-16T00:00:00\", \"totalTestResultsIncrease\": 727763.0, \"positiveIncrease\": 69930.0, \"death\": 85504.0, \"deathIncrease\": 896.0, \"positiveRate\": 0.096, \"state\": \"Non Tri-State\", \"sma7d\": 667.0}, {\"date\": \"2020-07-17T00:00:00\", \"totalTestResultsIncrease\": 751979.0, \"positiveIncrease\": 75875.0, \"death\": 86419.0, \"deathIncrease\": 915.0, \"positiveRate\": 0.101, \"state\": \"Non Tri-State\", \"sma7d\": 681.429}, {\"date\": \"2020-07-18T00:00:00\", \"totalTestResultsIncrease\": 681402.0, \"positiveIncrease\": 63933.0, \"death\": 87265.0, \"deathIncrease\": 846.0, \"positiveRate\": 0.094, \"state\": \"Non Tri-State\", \"sma7d\": 701.571}, {\"date\": \"2020-07-19T00:00:00\", \"totalTestResultsIncrease\": 703644.0, \"positiveIncrease\": 63788.0, \"death\": 87771.0, \"deathIncrease\": 506.0, \"positiveRate\": 0.091, \"state\": \"Non Tri-State\", \"sma7d\": 708.857}, {\"date\": \"2020-07-20T00:00:00\", \"totalTestResultsIncrease\": 645683.0, \"positiveIncrease\": 56180.0, \"death\": 88106.0, \"deathIncrease\": 335.0, \"positiveRate\": 0.087, \"state\": \"Non Tri-State\", \"sma7d\": 717.429}, {\"date\": \"2020-07-21T00:00:00\", \"totalTestResultsIncrease\": 673575.0, \"positiveIncrease\": 62740.0, \"death\": 89120.0, \"deathIncrease\": 1014.0, \"positiveRate\": 0.093, \"state\": \"Non Tri-State\", \"sma7d\": 761.143}, {\"date\": \"2020-07-22T00:00:00\", \"totalTestResultsIncrease\": 699433.0, \"positiveIncrease\": 68113.0, \"death\": 90257.0, \"deathIncrease\": 1137.0, \"positiveRate\": 0.097, \"state\": \"Non Tri-State\", \"sma7d\": 807.0}, {\"date\": \"2020-07-23T00:00:00\", \"totalTestResultsIncrease\": 743977.0, \"positiveIncrease\": 70491.0, \"death\": 91272.0, \"deathIncrease\": 1015.0, \"positiveRate\": 0.095, \"state\": \"Non Tri-State\", \"sma7d\": 824.0}, {\"date\": \"2020-07-24T00:00:00\", \"totalTestResultsIncrease\": 803934.0, \"positiveIncrease\": 73480.0, \"death\": 92401.0, \"deathIncrease\": 1129.0, \"positiveRate\": 0.091, \"state\": \"Non Tri-State\", \"sma7d\": 854.571}, {\"date\": \"2020-07-25T00:00:00\", \"totalTestResultsIncrease\": 719029.0, \"positiveIncrease\": 63479.0, \"death\": 93400.0, \"deathIncrease\": 999.0, \"positiveRate\": 0.088, \"state\": \"Non Tri-State\", \"sma7d\": 876.429}, {\"date\": \"2020-07-26T00:00:00\", \"totalTestResultsIncrease\": 732363.0, \"positiveIncrease\": 59968.0, \"death\": 93944.0, \"deathIncrease\": 544.0, \"positiveRate\": 0.082, \"state\": \"Non Tri-State\", \"sma7d\": 881.857}, {\"date\": \"2020-07-27T00:00:00\", \"totalTestResultsIncrease\": 642905.0, \"positiveIncrease\": 54057.0, \"death\": 94970.0, \"deathIncrease\": 1026.0, \"positiveRate\": 0.084, \"state\": \"Non Tri-State\", \"sma7d\": 980.571}, {\"date\": \"2020-07-28T00:00:00\", \"totalTestResultsIncrease\": 672582.0, \"positiveIncrease\": 55341.0, \"death\": 96056.0, \"deathIncrease\": 1086.0, \"positiveRate\": 0.082, \"state\": \"Non Tri-State\", \"sma7d\": 990.857}, {\"date\": \"2020-07-29T00:00:00\", \"totalTestResultsIncrease\": 730739.0, \"positiveIncrease\": 65311.0, \"death\": 97522.0, \"deathIncrease\": 1466.0, \"positiveRate\": 0.089, \"state\": \"Non Tri-State\", \"sma7d\": 1037.857}, {\"date\": \"2020-07-30T00:00:00\", \"totalTestResultsIncrease\": 711279.0, \"positiveIncrease\": 68308.0, \"death\": 98751.0, \"deathIncrease\": 1229.0, \"positiveRate\": 0.096, \"state\": \"Non Tri-State\", \"sma7d\": 1068.429}, {\"date\": \"2020-07-31T00:00:00\", \"totalTestResultsIncrease\": 610987.0, \"positiveIncrease\": 66150.0, \"death\": 100046.0, \"deathIncrease\": 1295.0, \"positiveRate\": 0.108, \"state\": \"Non Tri-State\", \"sma7d\": 1092.143}, {\"date\": \"2020-08-01T00:00:00\", \"totalTestResultsIncrease\": 662561.0, \"positiveIncrease\": 59980.0, \"death\": 101210.0, \"deathIncrease\": 1164.0, \"positiveRate\": 0.091, \"state\": \"Non Tri-State\", \"sma7d\": 1115.714}, {\"date\": \"2020-08-02T00:00:00\", \"totalTestResultsIncrease\": 591335.0, \"positiveIncrease\": 45904.0, \"death\": 101696.0, \"deathIncrease\": 486.0, \"positiveRate\": 0.078, \"state\": \"Non Tri-State\", \"sma7d\": 1107.429}, {\"date\": \"2020-08-03T00:00:00\", \"totalTestResultsIncrease\": 639394.0, \"positiveIncrease\": 48708.0, \"death\": 102198.0, \"deathIncrease\": 502.0, \"positiveRate\": 0.076, \"state\": \"Non Tri-State\", \"sma7d\": 1032.571}, {\"date\": \"2020-08-04T00:00:00\", \"totalTestResultsIncrease\": 638627.0, \"positiveIncrease\": 50715.0, \"death\": 103439.0, \"deathIncrease\": 1241.0, \"positiveRate\": 0.079, \"state\": \"Non Tri-State\", \"sma7d\": 1054.714}, {\"date\": \"2020-08-05T00:00:00\", \"totalTestResultsIncrease\": 592971.0, \"positiveIncrease\": 51218.0, \"death\": 104774.0, \"deathIncrease\": 1335.0, \"positiveRate\": 0.086, \"state\": \"Non Tri-State\", \"sma7d\": 1036.0}, {\"date\": \"2020-08-06T00:00:00\", \"totalTestResultsIncrease\": 642013.0, \"positiveIncrease\": 53088.0, \"death\": 106012.0, \"deathIncrease\": 1238.0, \"positiveRate\": 0.083, \"state\": \"Non Tri-State\", \"sma7d\": 1037.286}, {\"date\": \"2020-08-07T00:00:00\", \"totalTestResultsIncrease\": 685128.0, \"positiveIncrease\": 60197.0, \"death\": 107325.0, \"deathIncrease\": 1313.0, \"positiveRate\": 0.088, \"state\": \"Non Tri-State\", \"sma7d\": 1039.857}, {\"date\": \"2020-08-08T00:00:00\", \"totalTestResultsIncrease\": 608500.0, \"positiveIncrease\": 52642.0, \"death\": 108400.0, \"deathIncrease\": 1075.0, \"positiveRate\": 0.087, \"state\": \"Non Tri-State\", \"sma7d\": 1027.143}, {\"date\": \"2020-08-09T00:00:00\", \"totalTestResultsIncrease\": 609168.0, \"positiveIncrease\": 49765.0, \"death\": 109004.0, \"deathIncrease\": 604.0, \"positiveRate\": 0.082, \"state\": \"Non Tri-State\", \"sma7d\": 1044.0}, {\"date\": \"2020-08-10T00:00:00\", \"totalTestResultsIncrease\": 626428.0, \"positiveIncrease\": 41108.0, \"death\": 109421.0, \"deathIncrease\": 417.0, \"positiveRate\": 0.066, \"state\": \"Non Tri-State\", \"sma7d\": 1031.857}, {\"date\": \"2020-08-11T00:00:00\", \"totalTestResultsIncrease\": 648308.0, \"positiveIncrease\": 54474.0, \"death\": 110728.0, \"deathIncrease\": 1307.0, \"positiveRate\": 0.084, \"state\": \"Non Tri-State\", \"sma7d\": 1041.286}, {\"date\": \"2020-08-12T00:00:00\", \"totalTestResultsIncrease\": 378730.0, \"positiveIncrease\": 54947.0, \"death\": 112223.0, \"deathIncrease\": 1495.0, \"positiveRate\": 0.145, \"state\": \"Non Tri-State\", \"sma7d\": 1064.143}, {\"date\": \"2020-08-13T00:00:00\", \"totalTestResultsIncrease\": 776632.0, \"positiveIncrease\": 50291.0, \"death\": 113368.0, \"deathIncrease\": 1145.0, \"positiveRate\": 0.065, \"state\": \"Non Tri-State\", \"sma7d\": 1050.857}, {\"date\": \"2020-08-14T00:00:00\", \"totalTestResultsIncrease\": 740369.0, \"positiveIncrease\": 54223.0, \"death\": 114567.0, \"deathIncrease\": 1199.0, \"positiveRate\": 0.073, \"state\": \"Non Tri-State\", \"sma7d\": 1034.571}, {\"date\": \"2020-08-15T00:00:00\", \"totalTestResultsIncrease\": 636475.0, \"positiveIncrease\": 55136.0, \"death\": 115767.0, \"deathIncrease\": 1200.0, \"positiveRate\": 0.087, \"state\": \"Non Tri-State\", \"sma7d\": 1052.429}, {\"date\": \"2020-08-16T00:00:00\", \"totalTestResultsIncrease\": 683900.0, \"positiveIncrease\": 41867.0, \"death\": 116378.0, \"deathIncrease\": 611.0, \"positiveRate\": 0.061, \"state\": \"Non Tri-State\", \"sma7d\": 1053.429}, {\"date\": \"2020-08-17T00:00:00\", \"totalTestResultsIncrease\": 548007.0, \"positiveIncrease\": 36791.0, \"death\": 116772.0, \"deathIncrease\": 394.0, \"positiveRate\": 0.067, \"state\": \"Non Tri-State\", \"sma7d\": 1050.143}, {\"date\": \"2020-08-18T00:00:00\", \"totalTestResultsIncrease\": 564295.0, \"positiveIncrease\": 39822.0, \"death\": 117950.0, \"deathIncrease\": 1178.0, \"positiveRate\": 0.071, \"state\": \"Non Tri-State\", \"sma7d\": 1031.714}, {\"date\": \"2020-08-19T00:00:00\", \"totalTestResultsIncrease\": 558906.0, \"positiveIncrease\": 43934.0, \"death\": 119352.0, \"deathIncrease\": 1402.0, \"positiveRate\": 0.079, \"state\": \"Non Tri-State\", \"sma7d\": 1018.429}, {\"date\": \"2020-08-20T00:00:00\", \"totalTestResultsIncrease\": 582356.0, \"positiveIncrease\": 42939.0, \"death\": 120474.0, \"deathIncrease\": 1122.0, \"positiveRate\": 0.074, \"state\": \"Non Tri-State\", \"sma7d\": 1015.143}, {\"date\": \"2020-08-21T00:00:00\", \"totalTestResultsIncrease\": 622190.0, \"positiveIncrease\": 45476.0, \"death\": 121583.0, \"deathIncrease\": 1109.0, \"positiveRate\": 0.073, \"state\": \"Non Tri-State\", \"sma7d\": 1002.286}, {\"date\": \"2020-08-22T00:00:00\", \"totalTestResultsIncrease\": 645938.0, \"positiveIncrease\": 45170.0, \"death\": 122606.0, \"deathIncrease\": 1023.0, \"positiveRate\": 0.07, \"state\": \"Non Tri-State\", \"sma7d\": 977.0}, {\"date\": \"2020-08-23T00:00:00\", \"totalTestResultsIncrease\": 555187.0, \"positiveIncrease\": 36737.0, \"death\": 123169.0, \"deathIncrease\": 563.0, \"positiveRate\": 0.066, \"state\": \"Non Tri-State\", \"sma7d\": 970.143}, {\"date\": \"2020-08-24T00:00:00\", \"totalTestResultsIncrease\": 547049.0, \"positiveIncrease\": 33516.0, \"death\": 123502.0, \"deathIncrease\": 333.0, \"positiveRate\": 0.061, \"state\": \"Non Tri-State\", \"sma7d\": 961.429}, {\"date\": \"2020-08-25T00:00:00\", \"totalTestResultsIncrease\": 552277.0, \"positiveIncrease\": 35414.0, \"death\": 124640.0, \"deathIncrease\": 1138.0, \"positiveRate\": 0.064, \"state\": \"Non Tri-State\", \"sma7d\": 955.714}, {\"date\": \"2020-08-26T00:00:00\", \"totalTestResultsIncrease\": 544756.0, \"positiveIncrease\": 42325.0, \"death\": 125920.0, \"deathIncrease\": 1280.0, \"positiveRate\": 0.078, \"state\": \"Non Tri-State\", \"sma7d\": 938.286}, {\"date\": \"2020-08-27T00:00:00\", \"totalTestResultsIncrease\": 625747.0, \"positiveIncrease\": 42756.0, \"death\": 127036.0, \"deathIncrease\": 1116.0, \"positiveRate\": 0.068, \"state\": \"Non Tri-State\", \"sma7d\": 937.429}, {\"date\": \"2020-08-28T00:00:00\", \"totalTestResultsIncrease\": 671041.0, \"positiveIncrease\": 45407.0, \"death\": 128047.0, \"deathIncrease\": 1011.0, \"positiveRate\": 0.068, \"state\": \"Non Tri-State\", \"sma7d\": 923.429}, {\"date\": \"2020-08-29T00:00:00\", \"totalTestResultsIncrease\": 623189.0, \"positiveIncrease\": 43518.0, \"death\": 129052.0, \"deathIncrease\": 1005.0, \"positiveRate\": 0.07, \"state\": \"Non Tri-State\", \"sma7d\": 920.857}, {\"date\": \"2020-08-30T00:00:00\", \"totalTestResultsIncrease\": 617932.0, \"positiveIncrease\": 38509.0, \"death\": 129515.0, \"deathIncrease\": 463.0, \"positiveRate\": 0.062, \"state\": \"Non Tri-State\", \"sma7d\": 906.571}, {\"date\": \"2020-08-31T00:00:00\", \"totalTestResultsIncrease\": 552209.0, \"positiveIncrease\": 30017.0, \"death\": 129872.0, \"deathIncrease\": 357.0, \"positiveRate\": 0.054, \"state\": \"Non Tri-State\", \"sma7d\": 910.0}, {\"date\": \"2020-09-01T00:00:00\", \"totalTestResultsIncrease\": 606942.0, \"positiveIncrease\": 41212.0, \"death\": 130890.0, \"deathIncrease\": 1018.0, \"positiveRate\": 0.068, \"state\": \"Non Tri-State\", \"sma7d\": 892.857}, {\"date\": \"2020-09-02T00:00:00\", \"totalTestResultsIncrease\": 506069.0, \"positiveIncrease\": 29294.0, \"death\": 131905.0, \"deathIncrease\": 1015.0, \"positiveRate\": 0.058, \"state\": \"Non Tri-State\", \"sma7d\": 855.0}, {\"date\": \"2020-09-03T00:00:00\", \"totalTestResultsIncrease\": 603215.0, \"positiveIncrease\": 42926.0, \"death\": 132960.0, \"deathIncrease\": 1055.0, \"positiveRate\": 0.071, \"state\": \"Non Tri-State\", \"sma7d\": 846.286}]}}, {\"mode\": \"vega-lite\"});\n",
       "</script>"
      ],
      "text/plain": [
       "alt.LayerChart(...)"
      ]
     },
     "execution_count": 17,
     "metadata": {},
     "output_type": "execute_result"
    }
   ],
   "source": [
    "create_plot(non_tristate, 'deathIncrease')"
   ]
  }
 ],
 "metadata": {
  "kernelspec": {
   "display_name": "Python 3",
   "language": "python",
   "name": "python3"
  },
  "language_info": {
   "codemirror_mode": {
    "name": "ipython",
    "version": 3
   },
   "file_extension": ".py",
   "mimetype": "text/x-python",
   "name": "python",
   "nbconvert_exporter": "python",
   "pygments_lexer": "ipython3",
   "version": "3.8.5"
  },
  "papermill": {
   "duration": 6.13413,
   "end_time": "2020-09-03T22:33:18.980867",
   "environment_variables": {},
   "exception": null,
   "input_path": "2020-07-19-covid-plots.ipynb",
   "output_path": "2020-07-19-covid-plots.ipynb",
   "parameters": {},
   "start_time": "2020-09-03T22:33:12.846737",
   "version": "2.1.2"
  }
 },
 "nbformat": 4,
 "nbformat_minor": 4
}