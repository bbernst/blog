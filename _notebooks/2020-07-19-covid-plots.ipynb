{
 "cells": [
  {
   "cell_type": "markdown",
   "metadata": {
    "papermill": {
     "duration": 0.011918,
     "end_time": "2020-08-18T22:33:27.494452",
     "exception": false,
     "start_time": "2020-08-18T22:33:27.482534",
     "status": "completed"
    },
    "tags": []
   },
   "source": [
    "# \"COVID-19 plots\"\n",
    "> \"Interactive plots with daily updates\"\n",
    "\n",
    "- author: bbernst\n",
    "- toc: true\n",
    "- branch: master\n",
    "- badges: true\n",
    "- comments: true\n",
    "- categories: [healthcare, covid]\n",
    "- image: images/covid_plots/covid_mask.png\n",
    "- hide: false\n",
    "- search_exclude: true"
   ]
  },
  {
   "cell_type": "markdown",
   "metadata": {
    "papermill": {
     "duration": 0.010892,
     "end_time": "2020-08-18T22:33:27.516621",
     "exception": false,
     "start_time": "2020-08-18T22:33:27.505729",
     "status": "completed"
    },
    "tags": []
   },
   "source": [
    "I wanted to make a simple COVID-19 post to accomplish two main goals:\n",
    "1. Easily see the specific plots I'm interested in\n",
    "1. Update these plots every day, automatically\n",
    "\n",
    "Enter [fastpages](https://github.com/fastai/fastpages) and [github actions](https://github.com/features/actions). I'd been meaning to set up a blog with fastpages for a while and thought this would be a good reason to try it out. The documentation was great and I was able to set up automatic updates by using https://covid19dashboards.com/ as a guide.\n",
    "\n",
    "The data for this post comes from https://covidtracking.com/, which updates by 5pm each day, and I have my dashboard update at 6:30pm. For each geography -- so far that's the US, New York, and Non Tri-State -- I look at daily positive cases, positive rate, and deaths. Be sure to hover around on each of the plots, they have helpful interactive tooltips to make reading the data more intuitive."
   ]
  },
  {
   "cell_type": "code",
   "execution_count": 1,
   "metadata": {
    "execution": {
     "iopub.execute_input": "2020-08-18T22:33:27.547134Z",
     "iopub.status.busy": "2020-08-18T22:33:27.546448Z",
     "iopub.status.idle": "2020-08-18T22:33:27.975161Z",
     "shell.execute_reply": "2020-08-18T22:33:27.974540Z"
    },
    "papermill": {
     "duration": 0.448169,
     "end_time": "2020-08-18T22:33:27.975311",
     "exception": false,
     "start_time": "2020-08-18T22:33:27.527142",
     "status": "completed"
    },
    "tags": []
   },
   "outputs": [],
   "source": [
    "#collapse\n",
    "from typing import Callable, Literal\n",
    "import pandas as pd\n",
    "import altair as alt"
   ]
  },
  {
   "cell_type": "code",
   "execution_count": 2,
   "metadata": {
    "execution": {
     "iopub.execute_input": "2020-08-18T22:33:28.080704Z",
     "iopub.status.busy": "2020-08-18T22:33:28.080160Z",
     "iopub.status.idle": "2020-08-18T22:33:28.095970Z",
     "shell.execute_reply": "2020-08-18T22:33:28.096334Z"
    },
    "papermill": {
     "duration": 0.108829,
     "end_time": "2020-08-18T22:33:28.096471",
     "exception": false,
     "start_time": "2020-08-18T22:33:27.987642",
     "status": "completed"
    },
    "tags": []
   },
   "outputs": [
    {
     "name": "stdout",
     "output_type": "stream",
     "text": [
      "Last updated at (ET): 2020-08-18 06:33:28 PM\n"
     ]
    }
   ],
   "source": [
    "#hide_input\n",
    "current_utc = pd.Timestamp.now(tz='America/New_York').strftime('%Y-%m-%d %I:%M:%S %p')\n",
    "print(f\"Last updated at (ET): {current_utc}\")"
   ]
  },
  {
   "cell_type": "markdown",
   "metadata": {
    "papermill": {
     "duration": 0.056928,
     "end_time": "2020-08-18T22:33:28.179350",
     "exception": false,
     "start_time": "2020-08-18T22:33:28.122422",
     "status": "completed"
    },
    "tags": []
   },
   "source": [
    "# Data"
   ]
  },
  {
   "cell_type": "code",
   "execution_count": 3,
   "metadata": {
    "execution": {
     "iopub.execute_input": "2020-08-18T22:33:28.441077Z",
     "iopub.status.busy": "2020-08-18T22:33:28.440594Z",
     "iopub.status.idle": "2020-08-18T22:33:29.657058Z",
     "shell.execute_reply": "2020-08-18T22:33:29.656595Z"
    },
    "papermill": {
     "duration": 1.378163,
     "end_time": "2020-08-18T22:33:29.657184",
     "exception": false,
     "start_time": "2020-08-18T22:33:28.279021",
     "status": "completed"
    },
    "tags": []
   },
   "outputs": [],
   "source": [
    "df = pd.read_csv('https://covidtracking.com/api/states/daily.csv')"
   ]
  },
  {
   "cell_type": "markdown",
   "metadata": {
    "papermill": {
     "duration": 0.318154,
     "end_time": "2020-08-18T22:33:30.030175",
     "exception": false,
     "start_time": "2020-08-18T22:33:29.712021",
     "status": "completed"
    },
    "tags": []
   },
   "source": [
    "# Helpers"
   ]
  },
  {
   "cell_type": "code",
   "execution_count": 4,
   "metadata": {
    "execution": {
     "iopub.execute_input": "2020-08-18T22:33:30.204246Z",
     "iopub.status.busy": "2020-08-18T22:33:30.203665Z",
     "iopub.status.idle": "2020-08-18T22:33:30.205401Z",
     "shell.execute_reply": "2020-08-18T22:33:30.205866Z"
    },
    "papermill": {
     "duration": 0.020481,
     "end_time": "2020-08-18T22:33:30.206030",
     "exception": false,
     "start_time": "2020-08-18T22:33:30.185549",
     "status": "completed"
    },
    "tags": []
   },
   "outputs": [],
   "source": [
    "#collapse\n",
    "def create_df(df: pd.DataFrame, \n",
    "              filter_f: Callable, \n",
    "              state_name: str):\n",
    "    out_df = (\n",
    "     df\n",
    "     .assign(date = lambda d: pd.to_datetime(d['date'], format='%Y%m%d'))\n",
    "     .loc[filter_f, :]\n",
    "     .groupby('date')\n",
    "     .apply(lambda d: pd.Series(dict(\n",
    "         totalTestResultsIncrease = d['totalTestResultsIncrease'].sum(),\n",
    "         positiveIncrease = d['positiveIncrease'].sum(),\n",
    "         death = d['death'].sum(),\n",
    "         deathIncrease = d['deathIncrease'].sum()\n",
    "     )))\n",
    "     .reset_index()\n",
    "     .assign(positiveRate = lambda d: round(d['positiveIncrease'] / d['totalTestResultsIncrease'], 3))\n",
    "     .sort_values('date', ascending=True)\n",
    "     .assign(state = state_name)\n",
    "     .reset_index(drop=True)\n",
    "    )\n",
    "    \n",
    "    return out_df"
   ]
  },
  {
   "cell_type": "code",
   "execution_count": 5,
   "metadata": {
    "execution": {
     "iopub.execute_input": "2020-08-18T22:33:30.243790Z",
     "iopub.status.busy": "2020-08-18T22:33:30.243168Z",
     "iopub.status.idle": "2020-08-18T22:33:30.245519Z",
     "shell.execute_reply": "2020-08-18T22:33:30.245067Z"
    },
    "papermill": {
     "duration": 0.02526,
     "end_time": "2020-08-18T22:33:30.245656",
     "exception": false,
     "start_time": "2020-08-18T22:33:30.220396",
     "status": "completed"
    },
    "tags": []
   },
   "outputs": [],
   "source": [
    "#collapse\n",
    "def create_plot(df: pd.DataFrame, \n",
    "                column: Literal['totalTestResultsIncrease', \n",
    "                                'positiveIncrease', \n",
    "                                'death',\n",
    "                                'deathIncrease', \n",
    "                                'positiveRate'],\n",
    "                period: int = 7*8):\n",
    "    df = (\n",
    "     df\n",
    "     .assign(sma7d = lambda d: d[column].rolling(window=7).mean().round(3))\n",
    "     .loc[lambda d: d['date'] >= pd.to_datetime('today') - period * pd.Timedelta('1 days'), :]\n",
    "     .reset_index(drop=True)\n",
    "    )\n",
    "    the_state = df['state'][0]\n",
    "    label = alt.selection_single(\n",
    "        encodings=['x'], on='mouseover', nearest=True, empty='none')\n",
    "    \n",
    "    base = alt.Chart().mark_point(size=75).encode(\n",
    "        x='date:T',\n",
    "        y=f'{column}:Q',\n",
    "        tooltip=['date', f'{column}:Q', 'sma7d:Q']\n",
    "    )\n",
    "\n",
    "    sma = alt.Chart().mark_line(color='purple').encode(\n",
    "        x='date:T',\n",
    "        y='sma7d:Q'\n",
    "    )\n",
    "\n",
    "    layers = alt.layer(\n",
    "        base + sma,\n",
    "\n",
    "        # add a rule mark to serve as a guide line\n",
    "        alt.Chart().mark_rule(color='#aaa').encode(\n",
    "            x='date:T'\n",
    "        ).transform_filter(label),\n",
    "\n",
    "        # add circle marks for selected time points, hide unselected points\n",
    "        base.mark_circle().encode(\n",
    "            opacity=alt.condition(label, alt.value(1), alt.value(0))\n",
    "        ).add_selection(label),\n",
    "\n",
    "        # add white stroked text to provide a legible background for labels\n",
    "        base.mark_text(align='left', dx=5, dy=-5, stroke='white', strokeWidth=2).encode(\n",
    "            text=f'{column}:Q'\n",
    "        ).transform_filter(label),\n",
    "\n",
    "        # add text labels\n",
    "        base.mark_text(align='left', dx=5, dy=-5).encode(\n",
    "            text=f'{column}:Q'\n",
    "        ).transform_filter(label),\n",
    "        \n",
    "        data=df\n",
    "    ).properties(\n",
    "        title=f'{the_state}: {column}',\n",
    "        width=500,\n",
    "        height=400\n",
    "    )\n",
    "    \n",
    "    return layers.interactive()"
   ]
  },
  {
   "cell_type": "markdown",
   "metadata": {
    "papermill": {
     "duration": 0.01263,
     "end_time": "2020-08-18T22:33:30.271639",
     "exception": false,
     "start_time": "2020-08-18T22:33:30.259009",
     "status": "completed"
    },
    "tags": []
   },
   "source": [
    "# Plots"
   ]
  },
  {
   "cell_type": "markdown",
   "metadata": {
    "papermill": {
     "duration": 0.013185,
     "end_time": "2020-08-18T22:33:30.296772",
     "exception": false,
     "start_time": "2020-08-18T22:33:30.283587",
     "status": "completed"
    },
    "tags": []
   },
   "source": [
    "## US"
   ]
  },
  {
   "cell_type": "code",
   "execution_count": 6,
   "metadata": {
    "execution": {
     "iopub.execute_input": "2020-08-18T22:33:30.323389Z",
     "iopub.status.busy": "2020-08-18T22:33:30.322897Z",
     "iopub.status.idle": "2020-08-18T22:33:30.599590Z",
     "shell.execute_reply": "2020-08-18T22:33:30.599137Z"
    },
    "papermill": {
     "duration": 0.291095,
     "end_time": "2020-08-18T22:33:30.599713",
     "exception": false,
     "start_time": "2020-08-18T22:33:30.308618",
     "status": "completed"
    },
    "tags": []
   },
   "outputs": [],
   "source": [
    "us = create_df(df, lambda d: d.index > 0, 'US')"
   ]
  },
  {
   "cell_type": "code",
   "execution_count": 7,
   "metadata": {
    "execution": {
     "iopub.execute_input": "2020-08-18T22:33:30.651657Z",
     "iopub.status.busy": "2020-08-18T22:33:30.630301Z",
     "iopub.status.idle": "2020-08-18T22:33:30.723116Z",
     "shell.execute_reply": "2020-08-18T22:33:30.723501Z"
    },
    "papermill": {
     "duration": 0.111388,
     "end_time": "2020-08-18T22:33:30.723636",
     "exception": false,
     "start_time": "2020-08-18T22:33:30.612248",
     "status": "completed"
    },
    "tags": []
   },
   "outputs": [
    {
     "data": {
      "text/html": [
       "\n",
       "<div id=\"altair-viz-151db3f554b44b9ba1c7c84bfc2781aa\"></div>\n",
       "<script type=\"text/javascript\">\n",
       "  (function(spec, embedOpt){\n",
       "    let outputDiv = document.currentScript.previousElementSibling;\n",
       "    if (outputDiv.id !== \"altair-viz-151db3f554b44b9ba1c7c84bfc2781aa\") {\n",
       "      outputDiv = document.getElementById(\"altair-viz-151db3f554b44b9ba1c7c84bfc2781aa\");\n",
       "    }\n",
       "    const paths = {\n",
       "      \"vega\": \"https://cdn.jsdelivr.net/npm//vega@5?noext\",\n",
       "      \"vega-lib\": \"https://cdn.jsdelivr.net/npm//vega-lib?noext\",\n",
       "      \"vega-lite\": \"https://cdn.jsdelivr.net/npm//vega-lite@4.8.1?noext\",\n",
       "      \"vega-embed\": \"https://cdn.jsdelivr.net/npm//vega-embed@6?noext\",\n",
       "    };\n",
       "\n",
       "    function loadScript(lib) {\n",
       "      return new Promise(function(resolve, reject) {\n",
       "        var s = document.createElement('script');\n",
       "        s.src = paths[lib];\n",
       "        s.async = true;\n",
       "        s.onload = () => resolve(paths[lib]);\n",
       "        s.onerror = () => reject(`Error loading script: ${paths[lib]}`);\n",
       "        document.getElementsByTagName(\"head\")[0].appendChild(s);\n",
       "      });\n",
       "    }\n",
       "\n",
       "    function showError(err) {\n",
       "      outputDiv.innerHTML = `<div class=\"error\" style=\"color:red;\">${err}</div>`;\n",
       "      throw err;\n",
       "    }\n",
       "\n",
       "    function displayChart(vegaEmbed) {\n",
       "      vegaEmbed(outputDiv, spec, embedOpt)\n",
       "        .catch(err => showError(`Javascript Error: ${err.message}<br>This usually means there's a typo in your chart specification. See the javascript console for the full traceback.`));\n",
       "    }\n",
       "\n",
       "    if(typeof define === \"function\" && define.amd) {\n",
       "      requirejs.config({paths});\n",
       "      require([\"vega-embed\"], displayChart, err => showError(`Error loading script: ${err.message}`));\n",
       "    } else if (typeof vegaEmbed === \"function\") {\n",
       "      displayChart(vegaEmbed);\n",
       "    } else {\n",
       "      loadScript(\"vega\")\n",
       "        .then(() => loadScript(\"vega-lite\"))\n",
       "        .then(() => loadScript(\"vega-embed\"))\n",
       "        .catch(showError)\n",
       "        .then(() => displayChart(vegaEmbed));\n",
       "    }\n",
       "  })({\"config\": {\"view\": {\"continuousWidth\": 400, \"continuousHeight\": 300}}, \"layer\": [{\"layer\": [{\"mark\": {\"type\": \"point\", \"size\": 75}, \"encoding\": {\"tooltip\": [{\"type\": \"temporal\", \"field\": \"date\"}, {\"type\": \"quantitative\", \"field\": \"positiveIncrease\"}, {\"type\": \"quantitative\", \"field\": \"sma7d\"}], \"x\": {\"type\": \"temporal\", \"field\": \"date\"}, \"y\": {\"type\": \"quantitative\", \"field\": \"positiveIncrease\"}}, \"selection\": {\"selector002\": {\"type\": \"interval\", \"bind\": \"scales\", \"encodings\": [\"x\", \"y\"]}}}, {\"mark\": {\"type\": \"line\", \"color\": \"purple\"}, \"encoding\": {\"x\": {\"type\": \"temporal\", \"field\": \"date\"}, \"y\": {\"type\": \"quantitative\", \"field\": \"sma7d\"}}}]}, {\"mark\": {\"type\": \"rule\", \"color\": \"#aaa\"}, \"encoding\": {\"x\": {\"type\": \"temporal\", \"field\": \"date\"}}, \"transform\": [{\"filter\": {\"selection\": \"selector001\"}}]}, {\"mark\": \"circle\", \"encoding\": {\"opacity\": {\"condition\": {\"value\": 1, \"selection\": \"selector001\"}, \"value\": 0}, \"tooltip\": [{\"type\": \"temporal\", \"field\": \"date\"}, {\"type\": \"quantitative\", \"field\": \"positiveIncrease\"}, {\"type\": \"quantitative\", \"field\": \"sma7d\"}], \"x\": {\"type\": \"temporal\", \"field\": \"date\"}, \"y\": {\"type\": \"quantitative\", \"field\": \"positiveIncrease\"}}, \"selection\": {\"selector001\": {\"type\": \"single\", \"encodings\": [\"x\"], \"on\": \"mouseover\", \"nearest\": true, \"empty\": \"none\"}}}, {\"mark\": {\"type\": \"text\", \"align\": \"left\", \"dx\": 5, \"dy\": -5, \"stroke\": \"white\", \"strokeWidth\": 2}, \"encoding\": {\"text\": {\"type\": \"quantitative\", \"field\": \"positiveIncrease\"}, \"tooltip\": [{\"type\": \"temporal\", \"field\": \"date\"}, {\"type\": \"quantitative\", \"field\": \"positiveIncrease\"}, {\"type\": \"quantitative\", \"field\": \"sma7d\"}], \"x\": {\"type\": \"temporal\", \"field\": \"date\"}, \"y\": {\"type\": \"quantitative\", \"field\": \"positiveIncrease\"}}, \"transform\": [{\"filter\": {\"selection\": \"selector001\"}}]}, {\"mark\": {\"type\": \"text\", \"align\": \"left\", \"dx\": 5, \"dy\": -5}, \"encoding\": {\"text\": {\"type\": \"quantitative\", \"field\": \"positiveIncrease\"}, \"tooltip\": [{\"type\": \"temporal\", \"field\": \"date\"}, {\"type\": \"quantitative\", \"field\": \"positiveIncrease\"}, {\"type\": \"quantitative\", \"field\": \"sma7d\"}], \"x\": {\"type\": \"temporal\", \"field\": \"date\"}, \"y\": {\"type\": \"quantitative\", \"field\": \"positiveIncrease\"}}, \"transform\": [{\"filter\": {\"selection\": \"selector001\"}}]}], \"data\": {\"name\": \"data-7bc62b6bc777b15a30c4715282a5efb4\"}, \"height\": 400, \"title\": \"US: positiveIncrease\", \"width\": 500, \"$schema\": \"https://vega.github.io/schema/vega-lite/v4.8.1.json\", \"datasets\": {\"data-7bc62b6bc777b15a30c4715282a5efb4\": [{\"date\": \"2020-06-24T00:00:00\", \"totalTestResultsIncrease\": 522809.0, \"positiveIncrease\": 38684.0, \"death\": 117137.0, \"deathIncrease\": 724.0, \"positiveRate\": 0.074, \"state\": \"US\", \"sma7d\": 30939.0}, {\"date\": \"2020-06-25T00:00:00\", \"totalTestResultsIncrease\": 640361.0, \"positiveIncrease\": 39072.0, \"death\": 117784.0, \"deathIncrease\": 647.0, \"positiveRate\": 0.061, \"state\": \"US\", \"sma7d\": 32588.286}, {\"date\": \"2020-06-26T00:00:00\", \"totalTestResultsIncrease\": 610110.0, \"positiveIncrease\": 44421.0, \"death\": 118421.0, \"deathIncrease\": 637.0, \"positiveRate\": 0.073, \"state\": \"US\", \"sma7d\": 34499.0}, {\"date\": \"2020-06-27T00:00:00\", \"totalTestResultsIncrease\": 602921.0, \"positiveIncrease\": 43783.0, \"death\": 118932.0, \"deathIncrease\": 511.0, \"positiveRate\": 0.073, \"state\": \"US\", \"sma7d\": 36183.143}, {\"date\": \"2020-06-28T00:00:00\", \"totalTestResultsIncrease\": 588975.0, \"positiveIncrease\": 41857.0, \"death\": 119203.0, \"deathIncrease\": 271.0, \"positiveRate\": 0.071, \"state\": \"US\", \"sma7d\": 38265.0}, {\"date\": \"2020-06-29T00:00:00\", \"totalTestResultsIncrease\": 648755.0, \"positiveIncrease\": 39175.0, \"death\": 119535.0, \"deathIncrease\": 332.0, \"positiveRate\": 0.06, \"state\": \"US\", \"sma7d\": 40001.857}, {\"date\": \"2020-06-30T00:00:00\", \"totalTestResultsIncrease\": 627975.0, \"positiveIncrease\": 47462.0, \"death\": 120131.0, \"deathIncrease\": 596.0, \"positiveRate\": 0.076, \"state\": \"US\", \"sma7d\": 42064.857}, {\"date\": \"2020-07-01T00:00:00\", \"totalTestResultsIncrease\": 635484.0, \"positiveIncrease\": 50674.0, \"death\": 120832.0, \"deathIncrease\": 701.0, \"positiveRate\": 0.08, \"state\": \"US\", \"sma7d\": 43777.714}, {\"date\": \"2020-07-02T00:00:00\", \"totalTestResultsIncrease\": 666759.0, \"positiveIncrease\": 53826.0, \"death\": 121527.0, \"deathIncrease\": 695.0, \"positiveRate\": 0.081, \"state\": \"US\", \"sma7d\": 45885.429}, {\"date\": \"2020-07-03T00:00:00\", \"totalTestResultsIncrease\": 714801.0, \"positiveIncrease\": 54223.0, \"death\": 122125.0, \"deathIncrease\": 598.0, \"positiveRate\": 0.076, \"state\": \"US\", \"sma7d\": 47285.714}, {\"date\": \"2020-07-04T00:00:00\", \"totalTestResultsIncrease\": 645719.0, \"positiveIncrease\": 54734.0, \"death\": 122431.0, \"deathIncrease\": 306.0, \"positiveRate\": 0.085, \"state\": \"US\", \"sma7d\": 48850.143}, {\"date\": \"2020-07-05T00:00:00\", \"totalTestResultsIncrease\": 684160.0, \"positiveIncrease\": 45789.0, \"death\": 122640.0, \"deathIncrease\": 209.0, \"positiveRate\": 0.067, \"state\": \"US\", \"sma7d\": 49411.857}, {\"date\": \"2020-07-06T00:00:00\", \"totalTestResultsIncrease\": 504413.0, \"positiveIncrease\": 41600.0, \"death\": 122883.0, \"deathIncrease\": 243.0, \"positiveRate\": 0.082, \"state\": \"US\", \"sma7d\": 49758.286}, {\"date\": \"2020-07-07T00:00:00\", \"totalTestResultsIncrease\": 637708.0, \"positiveIncrease\": 51766.0, \"death\": 123806.0, \"deathIncrease\": 923.0, \"positiveRate\": 0.081, \"state\": \"US\", \"sma7d\": 50373.143}, {\"date\": \"2020-07-08T00:00:00\", \"totalTestResultsIncrease\": 634372.0, \"positiveIncrease\": 62147.0, \"death\": 124613.0, \"deathIncrease\": 807.0, \"positiveRate\": 0.098, \"state\": \"US\", \"sma7d\": 52012.143}, {\"date\": \"2020-07-09T00:00:00\", \"totalTestResultsIncrease\": 706162.0, \"positiveIncrease\": 58836.0, \"death\": 125480.0, \"deathIncrease\": 867.0, \"positiveRate\": 0.083, \"state\": \"US\", \"sma7d\": 52727.857}, {\"date\": \"2020-07-10T00:00:00\", \"totalTestResultsIncrease\": 815929.0, \"positiveIncrease\": 66645.0, \"death\": 126334.0, \"deathIncrease\": 854.0, \"positiveRate\": 0.082, \"state\": \"US\", \"sma7d\": 54502.429}, {\"date\": \"2020-07-11T00:00:00\", \"totalTestResultsIncrease\": 705605.0, \"positiveIncrease\": 63007.0, \"death\": 127091.0, \"deathIncrease\": 757.0, \"positiveRate\": 0.089, \"state\": \"US\", \"sma7d\": 55684.286}, {\"date\": \"2020-07-12T00:00:00\", \"totalTestResultsIncrease\": 764066.0, \"positiveIncrease\": 60978.0, \"death\": 127567.0, \"deathIncrease\": 476.0, \"positiveRate\": 0.08, \"state\": \"US\", \"sma7d\": 57854.143}, {\"date\": \"2020-07-13T00:00:00\", \"totalTestResultsIncrease\": 690857.0, \"positiveIncrease\": 58465.0, \"death\": 127894.0, \"deathIncrease\": 327.0, \"positiveRate\": 0.085, \"state\": \"US\", \"sma7d\": 60263.429}, {\"date\": \"2020-07-14T00:00:00\", \"totalTestResultsIncrease\": 774353.0, \"positiveIncrease\": 62879.0, \"death\": 128630.0, \"deathIncrease\": 736.0, \"positiveRate\": 0.081, \"state\": \"US\", \"sma7d\": 61851.0}, {\"date\": \"2020-07-15T00:00:00\", \"totalTestResultsIncrease\": 766355.0, \"positiveIncrease\": 65382.0, \"death\": 129488.0, \"deathIncrease\": 858.0, \"positiveRate\": 0.085, \"state\": \"US\", \"sma7d\": 62313.143}, {\"date\": \"2020-07-16T00:00:00\", \"totalTestResultsIncrease\": 832671.0, \"positiveIncrease\": 70953.0, \"death\": 130435.0, \"deathIncrease\": 947.0, \"positiveRate\": 0.085, \"state\": \"US\", \"sma7d\": 64044.143}, {\"date\": \"2020-07-17T00:00:00\", \"totalTestResultsIncrease\": 842158.0, \"positiveIncrease\": 77233.0, \"death\": 131386.0, \"deathIncrease\": 951.0, \"positiveRate\": 0.092, \"state\": \"US\", \"sma7d\": 65556.714}, {\"date\": \"2020-07-18T00:00:00\", \"totalTestResultsIncrease\": 768398.0, \"positiveIncrease\": 65180.0, \"death\": 132258.0, \"deathIncrease\": 872.0, \"positiveRate\": 0.085, \"state\": \"US\", \"sma7d\": 65867.143}, {\"date\": \"2020-07-19T00:00:00\", \"totalTestResultsIncrease\": 805615.0, \"positiveIncrease\": 64884.0, \"death\": 132785.0, \"deathIncrease\": 527.0, \"positiveRate\": 0.081, \"state\": \"US\", \"sma7d\": 66425.143}, {\"date\": \"2020-07-20T00:00:00\", \"totalTestResultsIncrease\": 712253.0, \"positiveIncrease\": 56971.0, \"death\": 133148.0, \"deathIncrease\": 363.0, \"positiveRate\": 0.08, \"state\": \"US\", \"sma7d\": 66211.714}, {\"date\": \"2020-07-21T00:00:00\", \"totalTestResultsIncrease\": 754824.0, \"positiveIncrease\": 63642.0, \"death\": 134186.0, \"deathIncrease\": 1038.0, \"positiveRate\": 0.084, \"state\": \"US\", \"sma7d\": 66320.714}, {\"date\": \"2020-07-22T00:00:00\", \"totalTestResultsIncrease\": 800698.0, \"positiveIncrease\": 69150.0, \"death\": 135357.0, \"deathIncrease\": 1171.0, \"positiveRate\": 0.086, \"state\": \"US\", \"sma7d\": 66859.0}, {\"date\": \"2020-07-23T00:00:00\", \"totalTestResultsIncrease\": 845381.0, \"positiveIncrease\": 71354.0, \"death\": 136412.0, \"deathIncrease\": 1055.0, \"positiveRate\": 0.084, \"state\": \"US\", \"sma7d\": 66916.286}, {\"date\": \"2020-07-24T00:00:00\", \"totalTestResultsIncrease\": 934067.0, \"positiveIncrease\": 75204.0, \"death\": 137588.0, \"deathIncrease\": 1176.0, \"positiveRate\": 0.081, \"state\": \"US\", \"sma7d\": 66626.429}, {\"date\": \"2020-07-25T00:00:00\", \"totalTestResultsIncrease\": 794658.0, \"positiveIncrease\": 65075.0, \"death\": 138611.0, \"deathIncrease\": 1023.0, \"positiveRate\": 0.082, \"state\": \"US\", \"sma7d\": 66611.429}, {\"date\": \"2020-07-26T00:00:00\", \"totalTestResultsIncrease\": 865811.0, \"positiveIncrease\": 61713.0, \"death\": 139169.0, \"deathIncrease\": 558.0, \"positiveRate\": 0.071, \"state\": \"US\", \"sma7d\": 66158.429}, {\"date\": \"2020-07-27T00:00:00\", \"totalTestResultsIncrease\": 761083.0, \"positiveIncrease\": 55134.0, \"death\": 140228.0, \"deathIncrease\": 1059.0, \"positiveRate\": 0.072, \"state\": \"US\", \"sma7d\": 65896.0}, {\"date\": \"2020-07-28T00:00:00\", \"totalTestResultsIncrease\": 735933.0, \"positiveIncrease\": 56229.0, \"death\": 141349.0, \"deathIncrease\": 1121.0, \"positiveRate\": 0.076, \"state\": \"US\", \"sma7d\": 64837.0}, {\"date\": \"2020-07-29T00:00:00\", \"totalTestResultsIncrease\": 861135.0, \"positiveIncrease\": 66969.0, \"death\": 142841.0, \"deathIncrease\": 1492.0, \"positiveRate\": 0.078, \"state\": \"US\", \"sma7d\": 64525.429}, {\"date\": \"2020-07-30T00:00:00\", \"totalTestResultsIncrease\": 813144.0, \"positiveIncrease\": 69466.0, \"death\": 144100.0, \"deathIncrease\": 1259.0, \"positiveRate\": 0.085, \"state\": \"US\", \"sma7d\": 64255.714}, {\"date\": \"2020-07-31T00:00:00\", \"totalTestResultsIncrease\": 732420.0, \"positiveIncrease\": 67755.0, \"death\": 145411.0, \"deathIncrease\": 1311.0, \"positiveRate\": 0.093, \"state\": \"US\", \"sma7d\": 63191.571}, {\"date\": \"2020-08-01T00:00:00\", \"totalTestResultsIncrease\": 736671.0, \"positiveIncrease\": 60692.0, \"death\": 146600.0, \"deathIncrease\": 1189.0, \"positiveRate\": 0.082, \"state\": \"US\", \"sma7d\": 62565.429}, {\"date\": \"2020-08-02T00:00:00\", \"totalTestResultsIncrease\": 722563.0, \"positiveIncrease\": 48266.0, \"death\": 147098.0, \"deathIncrease\": 498.0, \"positiveRate\": 0.067, \"state\": \"US\", \"sma7d\": 60644.429}, {\"date\": \"2020-08-03T00:00:00\", \"totalTestResultsIncrease\": 734339.0, \"positiveIncrease\": 49561.0, \"death\": 147617.0, \"deathIncrease\": 519.0, \"positiveRate\": 0.067, \"state\": \"US\", \"sma7d\": 59848.286}, {\"date\": \"2020-08-04T00:00:00\", \"totalTestResultsIncrease\": 701233.0, \"positiveIncrease\": 51568.0, \"death\": 148872.0, \"deathIncrease\": 1255.0, \"positiveRate\": 0.074, \"state\": \"US\", \"sma7d\": 59182.429}, {\"date\": \"2020-08-05T00:00:00\", \"totalTestResultsIncrease\": 685155.0, \"positiveIncrease\": 52265.0, \"death\": 150218.0, \"deathIncrease\": 1346.0, \"positiveRate\": 0.076, \"state\": \"US\", \"sma7d\": 57081.857}, {\"date\": \"2020-08-06T00:00:00\", \"totalTestResultsIncrease\": 752715.0, \"positiveIncrease\": 54184.0, \"death\": 151469.0, \"deathIncrease\": 1251.0, \"positiveRate\": 0.072, \"state\": \"US\", \"sma7d\": 54898.714}, {\"date\": \"2020-08-07T00:00:00\", \"totalTestResultsIncrease\": 771198.0, \"positiveIncrease\": 61520.0, \"death\": 152802.0, \"deathIncrease\": 1333.0, \"positiveRate\": 0.08, \"state\": \"US\", \"sma7d\": 54008.0}, {\"date\": \"2020-08-08T00:00:00\", \"totalTestResultsIncrease\": 674685.0, \"positiveIncrease\": 54091.0, \"death\": 153891.0, \"deathIncrease\": 1089.0, \"positiveRate\": 0.08, \"state\": \"US\", \"sma7d\": 53065.0}, {\"date\": \"2020-08-09T00:00:00\", \"totalTestResultsIncrease\": 719986.0, \"positiveIncrease\": 51319.0, \"death\": 154507.0, \"deathIncrease\": 616.0, \"positiveRate\": 0.071, \"state\": \"US\", \"sma7d\": 53501.143}, {\"date\": \"2020-08-10T00:00:00\", \"totalTestResultsIncrease\": 722543.0, \"positiveIncrease\": 41807.0, \"death\": 154933.0, \"deathIncrease\": 426.0, \"positiveRate\": 0.058, \"state\": \"US\", \"sma7d\": 52393.429}, {\"date\": \"2020-08-11T00:00:00\", \"totalTestResultsIncrease\": 744597.0, \"positiveIncrease\": 55594.0, \"death\": 156259.0, \"deathIncrease\": 1326.0, \"positiveRate\": 0.075, \"state\": \"US\", \"sma7d\": 52968.571}, {\"date\": \"2020-08-12T00:00:00\", \"totalTestResultsIncrease\": 484088.0, \"positiveIncrease\": 56035.0, \"death\": 157776.0, \"deathIncrease\": 1517.0, \"positiveRate\": 0.116, \"state\": \"US\", \"sma7d\": 53507.143}, {\"date\": \"2020-08-13T00:00:00\", \"totalTestResultsIncrease\": 885692.0, \"positiveIncrease\": 51705.0, \"death\": 158939.0, \"deathIncrease\": 1163.0, \"positiveRate\": 0.058, \"state\": \"US\", \"sma7d\": 53153.0}, {\"date\": \"2020-08-14T00:00:00\", \"totalTestResultsIncrease\": 848457.0, \"positiveIncrease\": 55649.0, \"death\": 160155.0, \"deathIncrease\": 1216.0, \"positiveRate\": 0.066, \"state\": \"US\", \"sma7d\": 52314.286}, {\"date\": \"2020-08-15T00:00:00\", \"totalTestResultsIncrease\": 748649.0, \"positiveIncrease\": 56603.0, \"death\": 161374.0, \"deathIncrease\": 1219.0, \"positiveRate\": 0.076, \"state\": \"US\", \"sma7d\": 52673.143}, {\"date\": \"2020-08-16T00:00:00\", \"totalTestResultsIncrease\": 786190.0, \"positiveIncrease\": 43083.0, \"death\": 161993.0, \"deathIncrease\": 619.0, \"positiveRate\": 0.055, \"state\": \"US\", \"sma7d\": 51496.571}, {\"date\": \"2020-08-17T00:00:00\", \"totalTestResultsIncrease\": 654449.0, \"positiveIncrease\": 37817.0, \"death\": 162400.0, \"deathIncrease\": 407.0, \"positiveRate\": 0.058, \"state\": \"US\", \"sma7d\": 50926.571}, {\"date\": \"2020-08-18T00:00:00\", \"totalTestResultsIncrease\": 644422.0, \"positiveIncrease\": 40391.0, \"death\": 163566.0, \"deathIncrease\": 1194.0, \"positiveRate\": 0.063, \"state\": \"US\", \"sma7d\": 48754.714}]}}, {\"mode\": \"vega-lite\"});\n",
       "</script>"
      ],
      "text/plain": [
       "alt.LayerChart(...)"
      ]
     },
     "execution_count": 7,
     "metadata": {},
     "output_type": "execute_result"
    }
   ],
   "source": [
    "create_plot(us, 'positiveIncrease')"
   ]
  },
  {
   "cell_type": "code",
   "execution_count": 8,
   "metadata": {
    "execution": {
     "iopub.execute_input": "2020-08-18T22:33:30.766065Z",
     "iopub.status.busy": "2020-08-18T22:33:30.751406Z",
     "iopub.status.idle": "2020-08-18T22:33:30.830245Z",
     "shell.execute_reply": "2020-08-18T22:33:30.830631Z"
    },
    "papermill": {
     "duration": 0.095276,
     "end_time": "2020-08-18T22:33:30.830752",
     "exception": false,
     "start_time": "2020-08-18T22:33:30.735476",
     "status": "completed"
    },
    "tags": []
   },
   "outputs": [
    {
     "data": {
      "text/html": [
       "\n",
       "<div id=\"altair-viz-b381e9a2448f4d84ba3ce710955e00ce\"></div>\n",
       "<script type=\"text/javascript\">\n",
       "  (function(spec, embedOpt){\n",
       "    let outputDiv = document.currentScript.previousElementSibling;\n",
       "    if (outputDiv.id !== \"altair-viz-b381e9a2448f4d84ba3ce710955e00ce\") {\n",
       "      outputDiv = document.getElementById(\"altair-viz-b381e9a2448f4d84ba3ce710955e00ce\");\n",
       "    }\n",
       "    const paths = {\n",
       "      \"vega\": \"https://cdn.jsdelivr.net/npm//vega@5?noext\",\n",
       "      \"vega-lib\": \"https://cdn.jsdelivr.net/npm//vega-lib?noext\",\n",
       "      \"vega-lite\": \"https://cdn.jsdelivr.net/npm//vega-lite@4.8.1?noext\",\n",
       "      \"vega-embed\": \"https://cdn.jsdelivr.net/npm//vega-embed@6?noext\",\n",
       "    };\n",
       "\n",
       "    function loadScript(lib) {\n",
       "      return new Promise(function(resolve, reject) {\n",
       "        var s = document.createElement('script');\n",
       "        s.src = paths[lib];\n",
       "        s.async = true;\n",
       "        s.onload = () => resolve(paths[lib]);\n",
       "        s.onerror = () => reject(`Error loading script: ${paths[lib]}`);\n",
       "        document.getElementsByTagName(\"head\")[0].appendChild(s);\n",
       "      });\n",
       "    }\n",
       "\n",
       "    function showError(err) {\n",
       "      outputDiv.innerHTML = `<div class=\"error\" style=\"color:red;\">${err}</div>`;\n",
       "      throw err;\n",
       "    }\n",
       "\n",
       "    function displayChart(vegaEmbed) {\n",
       "      vegaEmbed(outputDiv, spec, embedOpt)\n",
       "        .catch(err => showError(`Javascript Error: ${err.message}<br>This usually means there's a typo in your chart specification. See the javascript console for the full traceback.`));\n",
       "    }\n",
       "\n",
       "    if(typeof define === \"function\" && define.amd) {\n",
       "      requirejs.config({paths});\n",
       "      require([\"vega-embed\"], displayChart, err => showError(`Error loading script: ${err.message}`));\n",
       "    } else if (typeof vegaEmbed === \"function\") {\n",
       "      displayChart(vegaEmbed);\n",
       "    } else {\n",
       "      loadScript(\"vega\")\n",
       "        .then(() => loadScript(\"vega-lite\"))\n",
       "        .then(() => loadScript(\"vega-embed\"))\n",
       "        .catch(showError)\n",
       "        .then(() => displayChart(vegaEmbed));\n",
       "    }\n",
       "  })({\"config\": {\"view\": {\"continuousWidth\": 400, \"continuousHeight\": 300}}, \"layer\": [{\"layer\": [{\"mark\": {\"type\": \"point\", \"size\": 75}, \"encoding\": {\"tooltip\": [{\"type\": \"temporal\", \"field\": \"date\"}, {\"type\": \"quantitative\", \"field\": \"positiveRate\"}, {\"type\": \"quantitative\", \"field\": \"sma7d\"}], \"x\": {\"type\": \"temporal\", \"field\": \"date\"}, \"y\": {\"type\": \"quantitative\", \"field\": \"positiveRate\"}}, \"selection\": {\"selector004\": {\"type\": \"interval\", \"bind\": \"scales\", \"encodings\": [\"x\", \"y\"]}}}, {\"mark\": {\"type\": \"line\", \"color\": \"purple\"}, \"encoding\": {\"x\": {\"type\": \"temporal\", \"field\": \"date\"}, \"y\": {\"type\": \"quantitative\", \"field\": \"sma7d\"}}}]}, {\"mark\": {\"type\": \"rule\", \"color\": \"#aaa\"}, \"encoding\": {\"x\": {\"type\": \"temporal\", \"field\": \"date\"}}, \"transform\": [{\"filter\": {\"selection\": \"selector003\"}}]}, {\"mark\": \"circle\", \"encoding\": {\"opacity\": {\"condition\": {\"value\": 1, \"selection\": \"selector003\"}, \"value\": 0}, \"tooltip\": [{\"type\": \"temporal\", \"field\": \"date\"}, {\"type\": \"quantitative\", \"field\": \"positiveRate\"}, {\"type\": \"quantitative\", \"field\": \"sma7d\"}], \"x\": {\"type\": \"temporal\", \"field\": \"date\"}, \"y\": {\"type\": \"quantitative\", \"field\": \"positiveRate\"}}, \"selection\": {\"selector003\": {\"type\": \"single\", \"encodings\": [\"x\"], \"on\": \"mouseover\", \"nearest\": true, \"empty\": \"none\"}}}, {\"mark\": {\"type\": \"text\", \"align\": \"left\", \"dx\": 5, \"dy\": -5, \"stroke\": \"white\", \"strokeWidth\": 2}, \"encoding\": {\"text\": {\"type\": \"quantitative\", \"field\": \"positiveRate\"}, \"tooltip\": [{\"type\": \"temporal\", \"field\": \"date\"}, {\"type\": \"quantitative\", \"field\": \"positiveRate\"}, {\"type\": \"quantitative\", \"field\": \"sma7d\"}], \"x\": {\"type\": \"temporal\", \"field\": \"date\"}, \"y\": {\"type\": \"quantitative\", \"field\": \"positiveRate\"}}, \"transform\": [{\"filter\": {\"selection\": \"selector003\"}}]}, {\"mark\": {\"type\": \"text\", \"align\": \"left\", \"dx\": 5, \"dy\": -5}, \"encoding\": {\"text\": {\"type\": \"quantitative\", \"field\": \"positiveRate\"}, \"tooltip\": [{\"type\": \"temporal\", \"field\": \"date\"}, {\"type\": \"quantitative\", \"field\": \"positiveRate\"}, {\"type\": \"quantitative\", \"field\": \"sma7d\"}], \"x\": {\"type\": \"temporal\", \"field\": \"date\"}, \"y\": {\"type\": \"quantitative\", \"field\": \"positiveRate\"}}, \"transform\": [{\"filter\": {\"selection\": \"selector003\"}}]}], \"data\": {\"name\": \"data-86b50a58b1ed8bc02e494bda725a4848\"}, \"height\": 400, \"title\": \"US: positiveRate\", \"width\": 500, \"$schema\": \"https://vega.github.io/schema/vega-lite/v4.8.1.json\", \"datasets\": {\"data-86b50a58b1ed8bc02e494bda725a4848\": [{\"date\": \"2020-06-24T00:00:00\", \"totalTestResultsIncrease\": 522809.0, \"positiveIncrease\": 38684.0, \"death\": 117137.0, \"deathIncrease\": 724.0, \"positiveRate\": 0.074, \"state\": \"US\", \"sma7d\": 0.059}, {\"date\": \"2020-06-25T00:00:00\", \"totalTestResultsIncrease\": 640361.0, \"positiveIncrease\": 39072.0, \"death\": 117784.0, \"deathIncrease\": 647.0, \"positiveRate\": 0.061, \"state\": \"US\", \"sma7d\": 0.061}, {\"date\": \"2020-06-26T00:00:00\", \"totalTestResultsIncrease\": 610110.0, \"positiveIncrease\": 44421.0, \"death\": 118421.0, \"deathIncrease\": 637.0, \"positiveRate\": 0.073, \"state\": \"US\", \"sma7d\": 0.063}, {\"date\": \"2020-06-27T00:00:00\", \"totalTestResultsIncrease\": 602921.0, \"positiveIncrease\": 43783.0, \"death\": 118932.0, \"deathIncrease\": 511.0, \"positiveRate\": 0.073, \"state\": \"US\", \"sma7d\": 0.066}, {\"date\": \"2020-06-28T00:00:00\", \"totalTestResultsIncrease\": 588975.0, \"positiveIncrease\": 41857.0, \"death\": 119203.0, \"deathIncrease\": 271.0, \"positiveRate\": 0.071, \"state\": \"US\", \"sma7d\": 0.068}, {\"date\": \"2020-06-29T00:00:00\", \"totalTestResultsIncrease\": 648755.0, \"positiveIncrease\": 39175.0, \"death\": 119535.0, \"deathIncrease\": 332.0, \"positiveRate\": 0.06, \"state\": \"US\", \"sma7d\": 0.068}, {\"date\": \"2020-06-30T00:00:00\", \"totalTestResultsIncrease\": 627975.0, \"positiveIncrease\": 47462.0, \"death\": 120131.0, \"deathIncrease\": 596.0, \"positiveRate\": 0.076, \"state\": \"US\", \"sma7d\": 0.07}, {\"date\": \"2020-07-01T00:00:00\", \"totalTestResultsIncrease\": 635484.0, \"positiveIncrease\": 50674.0, \"death\": 120832.0, \"deathIncrease\": 701.0, \"positiveRate\": 0.08, \"state\": \"US\", \"sma7d\": 0.071}, {\"date\": \"2020-07-02T00:00:00\", \"totalTestResultsIncrease\": 666759.0, \"positiveIncrease\": 53826.0, \"death\": 121527.0, \"deathIncrease\": 695.0, \"positiveRate\": 0.081, \"state\": \"US\", \"sma7d\": 0.073}, {\"date\": \"2020-07-03T00:00:00\", \"totalTestResultsIncrease\": 714801.0, \"positiveIncrease\": 54223.0, \"death\": 122125.0, \"deathIncrease\": 598.0, \"positiveRate\": 0.076, \"state\": \"US\", \"sma7d\": 0.074}, {\"date\": \"2020-07-04T00:00:00\", \"totalTestResultsIncrease\": 645719.0, \"positiveIncrease\": 54734.0, \"death\": 122431.0, \"deathIncrease\": 306.0, \"positiveRate\": 0.085, \"state\": \"US\", \"sma7d\": 0.076}, {\"date\": \"2020-07-05T00:00:00\", \"totalTestResultsIncrease\": 684160.0, \"positiveIncrease\": 45789.0, \"death\": 122640.0, \"deathIncrease\": 209.0, \"positiveRate\": 0.067, \"state\": \"US\", \"sma7d\": 0.075}, {\"date\": \"2020-07-06T00:00:00\", \"totalTestResultsIncrease\": 504413.0, \"positiveIncrease\": 41600.0, \"death\": 122883.0, \"deathIncrease\": 243.0, \"positiveRate\": 0.082, \"state\": \"US\", \"sma7d\": 0.078}, {\"date\": \"2020-07-07T00:00:00\", \"totalTestResultsIncrease\": 637708.0, \"positiveIncrease\": 51766.0, \"death\": 123806.0, \"deathIncrease\": 923.0, \"positiveRate\": 0.081, \"state\": \"US\", \"sma7d\": 0.079}, {\"date\": \"2020-07-08T00:00:00\", \"totalTestResultsIncrease\": 634372.0, \"positiveIncrease\": 62147.0, \"death\": 124613.0, \"deathIncrease\": 807.0, \"positiveRate\": 0.098, \"state\": \"US\", \"sma7d\": 0.081}, {\"date\": \"2020-07-09T00:00:00\", \"totalTestResultsIncrease\": 706162.0, \"positiveIncrease\": 58836.0, \"death\": 125480.0, \"deathIncrease\": 867.0, \"positiveRate\": 0.083, \"state\": \"US\", \"sma7d\": 0.082}, {\"date\": \"2020-07-10T00:00:00\", \"totalTestResultsIncrease\": 815929.0, \"positiveIncrease\": 66645.0, \"death\": 126334.0, \"deathIncrease\": 854.0, \"positiveRate\": 0.082, \"state\": \"US\", \"sma7d\": 0.083}, {\"date\": \"2020-07-11T00:00:00\", \"totalTestResultsIncrease\": 705605.0, \"positiveIncrease\": 63007.0, \"death\": 127091.0, \"deathIncrease\": 757.0, \"positiveRate\": 0.089, \"state\": \"US\", \"sma7d\": 0.083}, {\"date\": \"2020-07-12T00:00:00\", \"totalTestResultsIncrease\": 764066.0, \"positiveIncrease\": 60978.0, \"death\": 127567.0, \"deathIncrease\": 476.0, \"positiveRate\": 0.08, \"state\": \"US\", \"sma7d\": 0.085}, {\"date\": \"2020-07-13T00:00:00\", \"totalTestResultsIncrease\": 690857.0, \"positiveIncrease\": 58465.0, \"death\": 127894.0, \"deathIncrease\": 327.0, \"positiveRate\": 0.085, \"state\": \"US\", \"sma7d\": 0.085}, {\"date\": \"2020-07-14T00:00:00\", \"totalTestResultsIncrease\": 774353.0, \"positiveIncrease\": 62879.0, \"death\": 128630.0, \"deathIncrease\": 736.0, \"positiveRate\": 0.081, \"state\": \"US\", \"sma7d\": 0.085}, {\"date\": \"2020-07-15T00:00:00\", \"totalTestResultsIncrease\": 766355.0, \"positiveIncrease\": 65382.0, \"death\": 129488.0, \"deathIncrease\": 858.0, \"positiveRate\": 0.085, \"state\": \"US\", \"sma7d\": 0.084}, {\"date\": \"2020-07-16T00:00:00\", \"totalTestResultsIncrease\": 832671.0, \"positiveIncrease\": 70953.0, \"death\": 130435.0, \"deathIncrease\": 947.0, \"positiveRate\": 0.085, \"state\": \"US\", \"sma7d\": 0.084}, {\"date\": \"2020-07-17T00:00:00\", \"totalTestResultsIncrease\": 842158.0, \"positiveIncrease\": 77233.0, \"death\": 131386.0, \"deathIncrease\": 951.0, \"positiveRate\": 0.092, \"state\": \"US\", \"sma7d\": 0.085}, {\"date\": \"2020-07-18T00:00:00\", \"totalTestResultsIncrease\": 768398.0, \"positiveIncrease\": 65180.0, \"death\": 132258.0, \"deathIncrease\": 872.0, \"positiveRate\": 0.085, \"state\": \"US\", \"sma7d\": 0.085}, {\"date\": \"2020-07-19T00:00:00\", \"totalTestResultsIncrease\": 805615.0, \"positiveIncrease\": 64884.0, \"death\": 132785.0, \"deathIncrease\": 527.0, \"positiveRate\": 0.081, \"state\": \"US\", \"sma7d\": 0.085}, {\"date\": \"2020-07-20T00:00:00\", \"totalTestResultsIncrease\": 712253.0, \"positiveIncrease\": 56971.0, \"death\": 133148.0, \"deathIncrease\": 363.0, \"positiveRate\": 0.08, \"state\": \"US\", \"sma7d\": 0.084}, {\"date\": \"2020-07-21T00:00:00\", \"totalTestResultsIncrease\": 754824.0, \"positiveIncrease\": 63642.0, \"death\": 134186.0, \"deathIncrease\": 1038.0, \"positiveRate\": 0.084, \"state\": \"US\", \"sma7d\": 0.085}, {\"date\": \"2020-07-22T00:00:00\", \"totalTestResultsIncrease\": 800698.0, \"positiveIncrease\": 69150.0, \"death\": 135357.0, \"deathIncrease\": 1171.0, \"positiveRate\": 0.086, \"state\": \"US\", \"sma7d\": 0.085}, {\"date\": \"2020-07-23T00:00:00\", \"totalTestResultsIncrease\": 845381.0, \"positiveIncrease\": 71354.0, \"death\": 136412.0, \"deathIncrease\": 1055.0, \"positiveRate\": 0.084, \"state\": \"US\", \"sma7d\": 0.085}, {\"date\": \"2020-07-24T00:00:00\", \"totalTestResultsIncrease\": 934067.0, \"positiveIncrease\": 75204.0, \"death\": 137588.0, \"deathIncrease\": 1176.0, \"positiveRate\": 0.081, \"state\": \"US\", \"sma7d\": 0.083}, {\"date\": \"2020-07-25T00:00:00\", \"totalTestResultsIncrease\": 794658.0, \"positiveIncrease\": 65075.0, \"death\": 138611.0, \"deathIncrease\": 1023.0, \"positiveRate\": 0.082, \"state\": \"US\", \"sma7d\": 0.083}, {\"date\": \"2020-07-26T00:00:00\", \"totalTestResultsIncrease\": 865811.0, \"positiveIncrease\": 61713.0, \"death\": 139169.0, \"deathIncrease\": 558.0, \"positiveRate\": 0.071, \"state\": \"US\", \"sma7d\": 0.081}, {\"date\": \"2020-07-27T00:00:00\", \"totalTestResultsIncrease\": 761083.0, \"positiveIncrease\": 55134.0, \"death\": 140228.0, \"deathIncrease\": 1059.0, \"positiveRate\": 0.072, \"state\": \"US\", \"sma7d\": 0.08}, {\"date\": \"2020-07-28T00:00:00\", \"totalTestResultsIncrease\": 735933.0, \"positiveIncrease\": 56229.0, \"death\": 141349.0, \"deathIncrease\": 1121.0, \"positiveRate\": 0.076, \"state\": \"US\", \"sma7d\": 0.079}, {\"date\": \"2020-07-29T00:00:00\", \"totalTestResultsIncrease\": 861135.0, \"positiveIncrease\": 66969.0, \"death\": 142841.0, \"deathIncrease\": 1492.0, \"positiveRate\": 0.078, \"state\": \"US\", \"sma7d\": 0.078}, {\"date\": \"2020-07-30T00:00:00\", \"totalTestResultsIncrease\": 813144.0, \"positiveIncrease\": 69466.0, \"death\": 144100.0, \"deathIncrease\": 1259.0, \"positiveRate\": 0.085, \"state\": \"US\", \"sma7d\": 0.078}, {\"date\": \"2020-07-31T00:00:00\", \"totalTestResultsIncrease\": 732420.0, \"positiveIncrease\": 67755.0, \"death\": 145411.0, \"deathIncrease\": 1311.0, \"positiveRate\": 0.093, \"state\": \"US\", \"sma7d\": 0.08}, {\"date\": \"2020-08-01T00:00:00\", \"totalTestResultsIncrease\": 736671.0, \"positiveIncrease\": 60692.0, \"death\": 146600.0, \"deathIncrease\": 1189.0, \"positiveRate\": 0.082, \"state\": \"US\", \"sma7d\": 0.08}, {\"date\": \"2020-08-02T00:00:00\", \"totalTestResultsIncrease\": 722563.0, \"positiveIncrease\": 48266.0, \"death\": 147098.0, \"deathIncrease\": 498.0, \"positiveRate\": 0.067, \"state\": \"US\", \"sma7d\": 0.079}, {\"date\": \"2020-08-03T00:00:00\", \"totalTestResultsIncrease\": 734339.0, \"positiveIncrease\": 49561.0, \"death\": 147617.0, \"deathIncrease\": 519.0, \"positiveRate\": 0.067, \"state\": \"US\", \"sma7d\": 0.078}, {\"date\": \"2020-08-04T00:00:00\", \"totalTestResultsIncrease\": 701233.0, \"positiveIncrease\": 51568.0, \"death\": 148872.0, \"deathIncrease\": 1255.0, \"positiveRate\": 0.074, \"state\": \"US\", \"sma7d\": 0.078}, {\"date\": \"2020-08-05T00:00:00\", \"totalTestResultsIncrease\": 685155.0, \"positiveIncrease\": 52265.0, \"death\": 150218.0, \"deathIncrease\": 1346.0, \"positiveRate\": 0.076, \"state\": \"US\", \"sma7d\": 0.078}, {\"date\": \"2020-08-06T00:00:00\", \"totalTestResultsIncrease\": 752715.0, \"positiveIncrease\": 54184.0, \"death\": 151469.0, \"deathIncrease\": 1251.0, \"positiveRate\": 0.072, \"state\": \"US\", \"sma7d\": 0.076}, {\"date\": \"2020-08-07T00:00:00\", \"totalTestResultsIncrease\": 771198.0, \"positiveIncrease\": 61520.0, \"death\": 152802.0, \"deathIncrease\": 1333.0, \"positiveRate\": 0.08, \"state\": \"US\", \"sma7d\": 0.074}, {\"date\": \"2020-08-08T00:00:00\", \"totalTestResultsIncrease\": 674685.0, \"positiveIncrease\": 54091.0, \"death\": 153891.0, \"deathIncrease\": 1089.0, \"positiveRate\": 0.08, \"state\": \"US\", \"sma7d\": 0.074}, {\"date\": \"2020-08-09T00:00:00\", \"totalTestResultsIncrease\": 719986.0, \"positiveIncrease\": 51319.0, \"death\": 154507.0, \"deathIncrease\": 616.0, \"positiveRate\": 0.071, \"state\": \"US\", \"sma7d\": 0.074}, {\"date\": \"2020-08-10T00:00:00\", \"totalTestResultsIncrease\": 722543.0, \"positiveIncrease\": 41807.0, \"death\": 154933.0, \"deathIncrease\": 426.0, \"positiveRate\": 0.058, \"state\": \"US\", \"sma7d\": 0.073}, {\"date\": \"2020-08-11T00:00:00\", \"totalTestResultsIncrease\": 744597.0, \"positiveIncrease\": 55594.0, \"death\": 156259.0, \"deathIncrease\": 1326.0, \"positiveRate\": 0.075, \"state\": \"US\", \"sma7d\": 0.073}, {\"date\": \"2020-08-12T00:00:00\", \"totalTestResultsIncrease\": 484088.0, \"positiveIncrease\": 56035.0, \"death\": 157776.0, \"deathIncrease\": 1517.0, \"positiveRate\": 0.116, \"state\": \"US\", \"sma7d\": 0.079}, {\"date\": \"2020-08-13T00:00:00\", \"totalTestResultsIncrease\": 885692.0, \"positiveIncrease\": 51705.0, \"death\": 158939.0, \"deathIncrease\": 1163.0, \"positiveRate\": 0.058, \"state\": \"US\", \"sma7d\": 0.077}, {\"date\": \"2020-08-14T00:00:00\", \"totalTestResultsIncrease\": 848457.0, \"positiveIncrease\": 55649.0, \"death\": 160155.0, \"deathIncrease\": 1216.0, \"positiveRate\": 0.066, \"state\": \"US\", \"sma7d\": 0.075}, {\"date\": \"2020-08-15T00:00:00\", \"totalTestResultsIncrease\": 748649.0, \"positiveIncrease\": 56603.0, \"death\": 161374.0, \"deathIncrease\": 1219.0, \"positiveRate\": 0.076, \"state\": \"US\", \"sma7d\": 0.074}, {\"date\": \"2020-08-16T00:00:00\", \"totalTestResultsIncrease\": 786190.0, \"positiveIncrease\": 43083.0, \"death\": 161993.0, \"deathIncrease\": 619.0, \"positiveRate\": 0.055, \"state\": \"US\", \"sma7d\": 0.072}, {\"date\": \"2020-08-17T00:00:00\", \"totalTestResultsIncrease\": 654449.0, \"positiveIncrease\": 37817.0, \"death\": 162400.0, \"deathIncrease\": 407.0, \"positiveRate\": 0.058, \"state\": \"US\", \"sma7d\": 0.072}, {\"date\": \"2020-08-18T00:00:00\", \"totalTestResultsIncrease\": 644422.0, \"positiveIncrease\": 40391.0, \"death\": 163566.0, \"deathIncrease\": 1194.0, \"positiveRate\": 0.063, \"state\": \"US\", \"sma7d\": 0.07}]}}, {\"mode\": \"vega-lite\"});\n",
       "</script>"
      ],
      "text/plain": [
       "alt.LayerChart(...)"
      ]
     },
     "execution_count": 8,
     "metadata": {},
     "output_type": "execute_result"
    }
   ],
   "source": [
    "create_plot(us, 'positiveRate')"
   ]
  },
  {
   "cell_type": "code",
   "execution_count": 9,
   "metadata": {
    "execution": {
     "iopub.execute_input": "2020-08-18T22:33:30.876453Z",
     "iopub.status.busy": "2020-08-18T22:33:30.866135Z",
     "iopub.status.idle": "2020-08-18T22:33:30.940301Z",
     "shell.execute_reply": "2020-08-18T22:33:30.940690Z"
    },
    "papermill": {
     "duration": 0.098338,
     "end_time": "2020-08-18T22:33:30.940824",
     "exception": false,
     "start_time": "2020-08-18T22:33:30.842486",
     "status": "completed"
    },
    "tags": []
   },
   "outputs": [
    {
     "data": {
      "text/html": [
       "\n",
       "<div id=\"altair-viz-7bfa1e9bbd8145ee819cd7dde3d0fcf3\"></div>\n",
       "<script type=\"text/javascript\">\n",
       "  (function(spec, embedOpt){\n",
       "    let outputDiv = document.currentScript.previousElementSibling;\n",
       "    if (outputDiv.id !== \"altair-viz-7bfa1e9bbd8145ee819cd7dde3d0fcf3\") {\n",
       "      outputDiv = document.getElementById(\"altair-viz-7bfa1e9bbd8145ee819cd7dde3d0fcf3\");\n",
       "    }\n",
       "    const paths = {\n",
       "      \"vega\": \"https://cdn.jsdelivr.net/npm//vega@5?noext\",\n",
       "      \"vega-lib\": \"https://cdn.jsdelivr.net/npm//vega-lib?noext\",\n",
       "      \"vega-lite\": \"https://cdn.jsdelivr.net/npm//vega-lite@4.8.1?noext\",\n",
       "      \"vega-embed\": \"https://cdn.jsdelivr.net/npm//vega-embed@6?noext\",\n",
       "    };\n",
       "\n",
       "    function loadScript(lib) {\n",
       "      return new Promise(function(resolve, reject) {\n",
       "        var s = document.createElement('script');\n",
       "        s.src = paths[lib];\n",
       "        s.async = true;\n",
       "        s.onload = () => resolve(paths[lib]);\n",
       "        s.onerror = () => reject(`Error loading script: ${paths[lib]}`);\n",
       "        document.getElementsByTagName(\"head\")[0].appendChild(s);\n",
       "      });\n",
       "    }\n",
       "\n",
       "    function showError(err) {\n",
       "      outputDiv.innerHTML = `<div class=\"error\" style=\"color:red;\">${err}</div>`;\n",
       "      throw err;\n",
       "    }\n",
       "\n",
       "    function displayChart(vegaEmbed) {\n",
       "      vegaEmbed(outputDiv, spec, embedOpt)\n",
       "        .catch(err => showError(`Javascript Error: ${err.message}<br>This usually means there's a typo in your chart specification. See the javascript console for the full traceback.`));\n",
       "    }\n",
       "\n",
       "    if(typeof define === \"function\" && define.amd) {\n",
       "      requirejs.config({paths});\n",
       "      require([\"vega-embed\"], displayChart, err => showError(`Error loading script: ${err.message}`));\n",
       "    } else if (typeof vegaEmbed === \"function\") {\n",
       "      displayChart(vegaEmbed);\n",
       "    } else {\n",
       "      loadScript(\"vega\")\n",
       "        .then(() => loadScript(\"vega-lite\"))\n",
       "        .then(() => loadScript(\"vega-embed\"))\n",
       "        .catch(showError)\n",
       "        .then(() => displayChart(vegaEmbed));\n",
       "    }\n",
       "  })({\"config\": {\"view\": {\"continuousWidth\": 400, \"continuousHeight\": 300}}, \"layer\": [{\"layer\": [{\"mark\": {\"type\": \"point\", \"size\": 75}, \"encoding\": {\"tooltip\": [{\"type\": \"temporal\", \"field\": \"date\"}, {\"type\": \"quantitative\", \"field\": \"deathIncrease\"}, {\"type\": \"quantitative\", \"field\": \"sma7d\"}], \"x\": {\"type\": \"temporal\", \"field\": \"date\"}, \"y\": {\"type\": \"quantitative\", \"field\": \"deathIncrease\"}}, \"selection\": {\"selector006\": {\"type\": \"interval\", \"bind\": \"scales\", \"encodings\": [\"x\", \"y\"]}}}, {\"mark\": {\"type\": \"line\", \"color\": \"purple\"}, \"encoding\": {\"x\": {\"type\": \"temporal\", \"field\": \"date\"}, \"y\": {\"type\": \"quantitative\", \"field\": \"sma7d\"}}}]}, {\"mark\": {\"type\": \"rule\", \"color\": \"#aaa\"}, \"encoding\": {\"x\": {\"type\": \"temporal\", \"field\": \"date\"}}, \"transform\": [{\"filter\": {\"selection\": \"selector005\"}}]}, {\"mark\": \"circle\", \"encoding\": {\"opacity\": {\"condition\": {\"value\": 1, \"selection\": \"selector005\"}, \"value\": 0}, \"tooltip\": [{\"type\": \"temporal\", \"field\": \"date\"}, {\"type\": \"quantitative\", \"field\": \"deathIncrease\"}, {\"type\": \"quantitative\", \"field\": \"sma7d\"}], \"x\": {\"type\": \"temporal\", \"field\": \"date\"}, \"y\": {\"type\": \"quantitative\", \"field\": \"deathIncrease\"}}, \"selection\": {\"selector005\": {\"type\": \"single\", \"encodings\": [\"x\"], \"on\": \"mouseover\", \"nearest\": true, \"empty\": \"none\"}}}, {\"mark\": {\"type\": \"text\", \"align\": \"left\", \"dx\": 5, \"dy\": -5, \"stroke\": \"white\", \"strokeWidth\": 2}, \"encoding\": {\"text\": {\"type\": \"quantitative\", \"field\": \"deathIncrease\"}, \"tooltip\": [{\"type\": \"temporal\", \"field\": \"date\"}, {\"type\": \"quantitative\", \"field\": \"deathIncrease\"}, {\"type\": \"quantitative\", \"field\": \"sma7d\"}], \"x\": {\"type\": \"temporal\", \"field\": \"date\"}, \"y\": {\"type\": \"quantitative\", \"field\": \"deathIncrease\"}}, \"transform\": [{\"filter\": {\"selection\": \"selector005\"}}]}, {\"mark\": {\"type\": \"text\", \"align\": \"left\", \"dx\": 5, \"dy\": -5}, \"encoding\": {\"text\": {\"type\": \"quantitative\", \"field\": \"deathIncrease\"}, \"tooltip\": [{\"type\": \"temporal\", \"field\": \"date\"}, {\"type\": \"quantitative\", \"field\": \"deathIncrease\"}, {\"type\": \"quantitative\", \"field\": \"sma7d\"}], \"x\": {\"type\": \"temporal\", \"field\": \"date\"}, \"y\": {\"type\": \"quantitative\", \"field\": \"deathIncrease\"}}, \"transform\": [{\"filter\": {\"selection\": \"selector005\"}}]}], \"data\": {\"name\": \"data-bd554c6699e9f904a0356045eaa73fc4\"}, \"height\": 400, \"title\": \"US: deathIncrease\", \"width\": 500, \"$schema\": \"https://vega.github.io/schema/vega-lite/v4.8.1.json\", \"datasets\": {\"data-bd554c6699e9f904a0356045eaa73fc4\": [{\"date\": \"2020-06-24T00:00:00\", \"totalTestResultsIncrease\": 522809.0, \"positiveIncrease\": 38684.0, \"death\": 117137.0, \"deathIncrease\": 724.0, \"positiveRate\": 0.074, \"state\": \"US\", \"sma7d\": 571.857}, {\"date\": \"2020-06-25T00:00:00\", \"totalTestResultsIncrease\": 640361.0, \"positiveIncrease\": 39072.0, \"death\": 117784.0, \"deathIncrease\": 647.0, \"positiveRate\": 0.061, \"state\": \"US\", \"sma7d\": 563.571}, {\"date\": \"2020-06-26T00:00:00\", \"totalTestResultsIncrease\": 610110.0, \"positiveIncrease\": 44421.0, \"death\": 118421.0, \"deathIncrease\": 637.0, \"positiveRate\": 0.073, \"state\": \"US\", \"sma7d\": 561.0}, {\"date\": \"2020-06-27T00:00:00\", \"totalTestResultsIncrease\": 602921.0, \"positiveIncrease\": 43783.0, \"death\": 118932.0, \"deathIncrease\": 511.0, \"positiveRate\": 0.073, \"state\": \"US\", \"sma7d\": 544.143}, {\"date\": \"2020-06-28T00:00:00\", \"totalTestResultsIncrease\": 588975.0, \"positiveIncrease\": 41857.0, \"death\": 119203.0, \"deathIncrease\": 271.0, \"positiveRate\": 0.071, \"state\": \"US\", \"sma7d\": 540.857}, {\"date\": \"2020-06-29T00:00:00\", \"totalTestResultsIncrease\": 648755.0, \"positiveIncrease\": 39175.0, \"death\": 119535.0, \"deathIncrease\": 332.0, \"positiveRate\": 0.06, \"state\": \"US\", \"sma7d\": 547.429}, {\"date\": \"2020-06-30T00:00:00\", \"totalTestResultsIncrease\": 627975.0, \"positiveIncrease\": 47462.0, \"death\": 120131.0, \"deathIncrease\": 596.0, \"positiveRate\": 0.076, \"state\": \"US\", \"sma7d\": 531.143}, {\"date\": \"2020-07-01T00:00:00\", \"totalTestResultsIncrease\": 635484.0, \"positiveIncrease\": 50674.0, \"death\": 120832.0, \"deathIncrease\": 701.0, \"positiveRate\": 0.08, \"state\": \"US\", \"sma7d\": 527.857}, {\"date\": \"2020-07-02T00:00:00\", \"totalTestResultsIncrease\": 666759.0, \"positiveIncrease\": 53826.0, \"death\": 121527.0, \"deathIncrease\": 695.0, \"positiveRate\": 0.081, \"state\": \"US\", \"sma7d\": 534.714}, {\"date\": \"2020-07-03T00:00:00\", \"totalTestResultsIncrease\": 714801.0, \"positiveIncrease\": 54223.0, \"death\": 122125.0, \"deathIncrease\": 598.0, \"positiveRate\": 0.076, \"state\": \"US\", \"sma7d\": 529.143}, {\"date\": \"2020-07-04T00:00:00\", \"totalTestResultsIncrease\": 645719.0, \"positiveIncrease\": 54734.0, \"death\": 122431.0, \"deathIncrease\": 306.0, \"positiveRate\": 0.085, \"state\": \"US\", \"sma7d\": 499.857}, {\"date\": \"2020-07-05T00:00:00\", \"totalTestResultsIncrease\": 684160.0, \"positiveIncrease\": 45789.0, \"death\": 122640.0, \"deathIncrease\": 209.0, \"positiveRate\": 0.067, \"state\": \"US\", \"sma7d\": 491.0}, {\"date\": \"2020-07-06T00:00:00\", \"totalTestResultsIncrease\": 504413.0, \"positiveIncrease\": 41600.0, \"death\": 122883.0, \"deathIncrease\": 243.0, \"positiveRate\": 0.082, \"state\": \"US\", \"sma7d\": 478.286}, {\"date\": \"2020-07-07T00:00:00\", \"totalTestResultsIncrease\": 637708.0, \"positiveIncrease\": 51766.0, \"death\": 123806.0, \"deathIncrease\": 923.0, \"positiveRate\": 0.081, \"state\": \"US\", \"sma7d\": 525.0}, {\"date\": \"2020-07-08T00:00:00\", \"totalTestResultsIncrease\": 634372.0, \"positiveIncrease\": 62147.0, \"death\": 124613.0, \"deathIncrease\": 807.0, \"positiveRate\": 0.098, \"state\": \"US\", \"sma7d\": 540.143}, {\"date\": \"2020-07-09T00:00:00\", \"totalTestResultsIncrease\": 706162.0, \"positiveIncrease\": 58836.0, \"death\": 125480.0, \"deathIncrease\": 867.0, \"positiveRate\": 0.083, \"state\": \"US\", \"sma7d\": 564.714}, {\"date\": \"2020-07-10T00:00:00\", \"totalTestResultsIncrease\": 815929.0, \"positiveIncrease\": 66645.0, \"death\": 126334.0, \"deathIncrease\": 854.0, \"positiveRate\": 0.082, \"state\": \"US\", \"sma7d\": 601.286}, {\"date\": \"2020-07-11T00:00:00\", \"totalTestResultsIncrease\": 705605.0, \"positiveIncrease\": 63007.0, \"death\": 127091.0, \"deathIncrease\": 757.0, \"positiveRate\": 0.089, \"state\": \"US\", \"sma7d\": 665.714}, {\"date\": \"2020-07-12T00:00:00\", \"totalTestResultsIncrease\": 764066.0, \"positiveIncrease\": 60978.0, \"death\": 127567.0, \"deathIncrease\": 476.0, \"positiveRate\": 0.08, \"state\": \"US\", \"sma7d\": 703.857}, {\"date\": \"2020-07-13T00:00:00\", \"totalTestResultsIncrease\": 690857.0, \"positiveIncrease\": 58465.0, \"death\": 127894.0, \"deathIncrease\": 327.0, \"positiveRate\": 0.085, \"state\": \"US\", \"sma7d\": 715.857}, {\"date\": \"2020-07-14T00:00:00\", \"totalTestResultsIncrease\": 774353.0, \"positiveIncrease\": 62879.0, \"death\": 128630.0, \"deathIncrease\": 736.0, \"positiveRate\": 0.081, \"state\": \"US\", \"sma7d\": 689.143}, {\"date\": \"2020-07-15T00:00:00\", \"totalTestResultsIncrease\": 766355.0, \"positiveIncrease\": 65382.0, \"death\": 129488.0, \"deathIncrease\": 858.0, \"positiveRate\": 0.085, \"state\": \"US\", \"sma7d\": 696.429}, {\"date\": \"2020-07-16T00:00:00\", \"totalTestResultsIncrease\": 832671.0, \"positiveIncrease\": 70953.0, \"death\": 130435.0, \"deathIncrease\": 947.0, \"positiveRate\": 0.085, \"state\": \"US\", \"sma7d\": 707.857}, {\"date\": \"2020-07-17T00:00:00\", \"totalTestResultsIncrease\": 842158.0, \"positiveIncrease\": 77233.0, \"death\": 131386.0, \"deathIncrease\": 951.0, \"positiveRate\": 0.092, \"state\": \"US\", \"sma7d\": 721.714}, {\"date\": \"2020-07-18T00:00:00\", \"totalTestResultsIncrease\": 768398.0, \"positiveIncrease\": 65180.0, \"death\": 132258.0, \"deathIncrease\": 872.0, \"positiveRate\": 0.085, \"state\": \"US\", \"sma7d\": 738.143}, {\"date\": \"2020-07-19T00:00:00\", \"totalTestResultsIncrease\": 805615.0, \"positiveIncrease\": 64884.0, \"death\": 132785.0, \"deathIncrease\": 527.0, \"positiveRate\": 0.081, \"state\": \"US\", \"sma7d\": 745.429}, {\"date\": \"2020-07-20T00:00:00\", \"totalTestResultsIncrease\": 712253.0, \"positiveIncrease\": 56971.0, \"death\": 133148.0, \"deathIncrease\": 363.0, \"positiveRate\": 0.08, \"state\": \"US\", \"sma7d\": 750.571}, {\"date\": \"2020-07-21T00:00:00\", \"totalTestResultsIncrease\": 754824.0, \"positiveIncrease\": 63642.0, \"death\": 134186.0, \"deathIncrease\": 1038.0, \"positiveRate\": 0.084, \"state\": \"US\", \"sma7d\": 793.714}, {\"date\": \"2020-07-22T00:00:00\", \"totalTestResultsIncrease\": 800698.0, \"positiveIncrease\": 69150.0, \"death\": 135357.0, \"deathIncrease\": 1171.0, \"positiveRate\": 0.086, \"state\": \"US\", \"sma7d\": 838.429}, {\"date\": \"2020-07-23T00:00:00\", \"totalTestResultsIncrease\": 845381.0, \"positiveIncrease\": 71354.0, \"death\": 136412.0, \"deathIncrease\": 1055.0, \"positiveRate\": 0.084, \"state\": \"US\", \"sma7d\": 853.857}, {\"date\": \"2020-07-24T00:00:00\", \"totalTestResultsIncrease\": 934067.0, \"positiveIncrease\": 75204.0, \"death\": 137588.0, \"deathIncrease\": 1176.0, \"positiveRate\": 0.081, \"state\": \"US\", \"sma7d\": 886.0}, {\"date\": \"2020-07-25T00:00:00\", \"totalTestResultsIncrease\": 794658.0, \"positiveIncrease\": 65075.0, \"death\": 138611.0, \"deathIncrease\": 1023.0, \"positiveRate\": 0.082, \"state\": \"US\", \"sma7d\": 907.571}, {\"date\": \"2020-07-26T00:00:00\", \"totalTestResultsIncrease\": 865811.0, \"positiveIncrease\": 61713.0, \"death\": 139169.0, \"deathIncrease\": 558.0, \"positiveRate\": 0.071, \"state\": \"US\", \"sma7d\": 912.0}, {\"date\": \"2020-07-27T00:00:00\", \"totalTestResultsIncrease\": 761083.0, \"positiveIncrease\": 55134.0, \"death\": 140228.0, \"deathIncrease\": 1059.0, \"positiveRate\": 0.072, \"state\": \"US\", \"sma7d\": 1011.429}, {\"date\": \"2020-07-28T00:00:00\", \"totalTestResultsIncrease\": 735933.0, \"positiveIncrease\": 56229.0, \"death\": 141349.0, \"deathIncrease\": 1121.0, \"positiveRate\": 0.076, \"state\": \"US\", \"sma7d\": 1023.286}, {\"date\": \"2020-07-29T00:00:00\", \"totalTestResultsIncrease\": 861135.0, \"positiveIncrease\": 66969.0, \"death\": 142841.0, \"deathIncrease\": 1492.0, \"positiveRate\": 0.078, \"state\": \"US\", \"sma7d\": 1069.143}, {\"date\": \"2020-07-30T00:00:00\", \"totalTestResultsIncrease\": 813144.0, \"positiveIncrease\": 69466.0, \"death\": 144100.0, \"deathIncrease\": 1259.0, \"positiveRate\": 0.085, \"state\": \"US\", \"sma7d\": 1098.286}, {\"date\": \"2020-07-31T00:00:00\", \"totalTestResultsIncrease\": 732420.0, \"positiveIncrease\": 67755.0, \"death\": 145411.0, \"deathIncrease\": 1311.0, \"positiveRate\": 0.093, \"state\": \"US\", \"sma7d\": 1117.571}, {\"date\": \"2020-08-01T00:00:00\", \"totalTestResultsIncrease\": 736671.0, \"positiveIncrease\": 60692.0, \"death\": 146600.0, \"deathIncrease\": 1189.0, \"positiveRate\": 0.082, \"state\": \"US\", \"sma7d\": 1141.286}, {\"date\": \"2020-08-02T00:00:00\", \"totalTestResultsIncrease\": 722563.0, \"positiveIncrease\": 48266.0, \"death\": 147098.0, \"deathIncrease\": 498.0, \"positiveRate\": 0.067, \"state\": \"US\", \"sma7d\": 1132.714}, {\"date\": \"2020-08-03T00:00:00\", \"totalTestResultsIncrease\": 734339.0, \"positiveIncrease\": 49561.0, \"death\": 147617.0, \"deathIncrease\": 519.0, \"positiveRate\": 0.067, \"state\": \"US\", \"sma7d\": 1055.571}, {\"date\": \"2020-08-04T00:00:00\", \"totalTestResultsIncrease\": 701233.0, \"positiveIncrease\": 51568.0, \"death\": 148872.0, \"deathIncrease\": 1255.0, \"positiveRate\": 0.074, \"state\": \"US\", \"sma7d\": 1074.714}, {\"date\": \"2020-08-05T00:00:00\", \"totalTestResultsIncrease\": 685155.0, \"positiveIncrease\": 52265.0, \"death\": 150218.0, \"deathIncrease\": 1346.0, \"positiveRate\": 0.076, \"state\": \"US\", \"sma7d\": 1053.857}, {\"date\": \"2020-08-06T00:00:00\", \"totalTestResultsIncrease\": 752715.0, \"positiveIncrease\": 54184.0, \"death\": 151469.0, \"deathIncrease\": 1251.0, \"positiveRate\": 0.072, \"state\": \"US\", \"sma7d\": 1052.714}, {\"date\": \"2020-08-07T00:00:00\", \"totalTestResultsIncrease\": 771198.0, \"positiveIncrease\": 61520.0, \"death\": 152802.0, \"deathIncrease\": 1333.0, \"positiveRate\": 0.08, \"state\": \"US\", \"sma7d\": 1055.857}, {\"date\": \"2020-08-08T00:00:00\", \"totalTestResultsIncrease\": 674685.0, \"positiveIncrease\": 54091.0, \"death\": 153891.0, \"deathIncrease\": 1089.0, \"positiveRate\": 0.08, \"state\": \"US\", \"sma7d\": 1041.571}, {\"date\": \"2020-08-09T00:00:00\", \"totalTestResultsIncrease\": 719986.0, \"positiveIncrease\": 51319.0, \"death\": 154507.0, \"deathIncrease\": 616.0, \"positiveRate\": 0.071, \"state\": \"US\", \"sma7d\": 1058.429}, {\"date\": \"2020-08-10T00:00:00\", \"totalTestResultsIncrease\": 722543.0, \"positiveIncrease\": 41807.0, \"death\": 154933.0, \"deathIncrease\": 426.0, \"positiveRate\": 0.058, \"state\": \"US\", \"sma7d\": 1045.143}, {\"date\": \"2020-08-11T00:00:00\", \"totalTestResultsIncrease\": 744597.0, \"positiveIncrease\": 55594.0, \"death\": 156259.0, \"deathIncrease\": 1326.0, \"positiveRate\": 0.075, \"state\": \"US\", \"sma7d\": 1055.286}, {\"date\": \"2020-08-12T00:00:00\", \"totalTestResultsIncrease\": 484088.0, \"positiveIncrease\": 56035.0, \"death\": 157776.0, \"deathIncrease\": 1517.0, \"positiveRate\": 0.116, \"state\": \"US\", \"sma7d\": 1079.714}, {\"date\": \"2020-08-13T00:00:00\", \"totalTestResultsIncrease\": 885692.0, \"positiveIncrease\": 51705.0, \"death\": 158939.0, \"deathIncrease\": 1163.0, \"positiveRate\": 0.058, \"state\": \"US\", \"sma7d\": 1067.143}, {\"date\": \"2020-08-14T00:00:00\", \"totalTestResultsIncrease\": 848457.0, \"positiveIncrease\": 55649.0, \"death\": 160155.0, \"deathIncrease\": 1216.0, \"positiveRate\": 0.066, \"state\": \"US\", \"sma7d\": 1050.429}, {\"date\": \"2020-08-15T00:00:00\", \"totalTestResultsIncrease\": 748649.0, \"positiveIncrease\": 56603.0, \"death\": 161374.0, \"deathIncrease\": 1219.0, \"positiveRate\": 0.076, \"state\": \"US\", \"sma7d\": 1069.0}, {\"date\": \"2020-08-16T00:00:00\", \"totalTestResultsIncrease\": 786190.0, \"positiveIncrease\": 43083.0, \"death\": 161993.0, \"deathIncrease\": 619.0, \"positiveRate\": 0.055, \"state\": \"US\", \"sma7d\": 1069.429}, {\"date\": \"2020-08-17T00:00:00\", \"totalTestResultsIncrease\": 654449.0, \"positiveIncrease\": 37817.0, \"death\": 162400.0, \"deathIncrease\": 407.0, \"positiveRate\": 0.058, \"state\": \"US\", \"sma7d\": 1066.714}, {\"date\": \"2020-08-18T00:00:00\", \"totalTestResultsIncrease\": 644422.0, \"positiveIncrease\": 40391.0, \"death\": 163566.0, \"deathIncrease\": 1194.0, \"positiveRate\": 0.063, \"state\": \"US\", \"sma7d\": 1047.857}]}}, {\"mode\": \"vega-lite\"});\n",
       "</script>"
      ],
      "text/plain": [
       "alt.LayerChart(...)"
      ]
     },
     "execution_count": 9,
     "metadata": {},
     "output_type": "execute_result"
    }
   ],
   "source": [
    "create_plot(us, 'deathIncrease')"
   ]
  },
  {
   "cell_type": "markdown",
   "metadata": {
    "papermill": {
     "duration": 0.017181,
     "end_time": "2020-08-18T22:33:30.971050",
     "exception": false,
     "start_time": "2020-08-18T22:33:30.953869",
     "status": "completed"
    },
    "tags": []
   },
   "source": [
    "## NY"
   ]
  },
  {
   "cell_type": "code",
   "execution_count": 10,
   "metadata": {
    "execution": {
     "iopub.execute_input": "2020-08-18T22:33:31.007976Z",
     "iopub.status.busy": "2020-08-18T22:33:31.007309Z",
     "iopub.status.idle": "2020-08-18T22:33:31.212974Z",
     "shell.execute_reply": "2020-08-18T22:33:31.212326Z"
    },
    "papermill": {
     "duration": 0.225906,
     "end_time": "2020-08-18T22:33:31.213139",
     "exception": false,
     "start_time": "2020-08-18T22:33:30.987233",
     "status": "completed"
    },
    "tags": []
   },
   "outputs": [],
   "source": [
    "ny = create_df(df, (lambda d: d['state'] == 'NY'), 'New York')"
   ]
  },
  {
   "cell_type": "code",
   "execution_count": 11,
   "metadata": {
    "execution": {
     "iopub.execute_input": "2020-08-18T22:33:31.266338Z",
     "iopub.status.busy": "2020-08-18T22:33:31.256096Z",
     "iopub.status.idle": "2020-08-18T22:33:31.330591Z",
     "shell.execute_reply": "2020-08-18T22:33:31.331220Z"
    },
    "papermill": {
     "duration": 0.104622,
     "end_time": "2020-08-18T22:33:31.331382",
     "exception": false,
     "start_time": "2020-08-18T22:33:31.226760",
     "status": "completed"
    },
    "tags": []
   },
   "outputs": [
    {
     "data": {
      "text/html": [
       "\n",
       "<div id=\"altair-viz-ca4448269abf49c4837217dd716cd544\"></div>\n",
       "<script type=\"text/javascript\">\n",
       "  (function(spec, embedOpt){\n",
       "    let outputDiv = document.currentScript.previousElementSibling;\n",
       "    if (outputDiv.id !== \"altair-viz-ca4448269abf49c4837217dd716cd544\") {\n",
       "      outputDiv = document.getElementById(\"altair-viz-ca4448269abf49c4837217dd716cd544\");\n",
       "    }\n",
       "    const paths = {\n",
       "      \"vega\": \"https://cdn.jsdelivr.net/npm//vega@5?noext\",\n",
       "      \"vega-lib\": \"https://cdn.jsdelivr.net/npm//vega-lib?noext\",\n",
       "      \"vega-lite\": \"https://cdn.jsdelivr.net/npm//vega-lite@4.8.1?noext\",\n",
       "      \"vega-embed\": \"https://cdn.jsdelivr.net/npm//vega-embed@6?noext\",\n",
       "    };\n",
       "\n",
       "    function loadScript(lib) {\n",
       "      return new Promise(function(resolve, reject) {\n",
       "        var s = document.createElement('script');\n",
       "        s.src = paths[lib];\n",
       "        s.async = true;\n",
       "        s.onload = () => resolve(paths[lib]);\n",
       "        s.onerror = () => reject(`Error loading script: ${paths[lib]}`);\n",
       "        document.getElementsByTagName(\"head\")[0].appendChild(s);\n",
       "      });\n",
       "    }\n",
       "\n",
       "    function showError(err) {\n",
       "      outputDiv.innerHTML = `<div class=\"error\" style=\"color:red;\">${err}</div>`;\n",
       "      throw err;\n",
       "    }\n",
       "\n",
       "    function displayChart(vegaEmbed) {\n",
       "      vegaEmbed(outputDiv, spec, embedOpt)\n",
       "        .catch(err => showError(`Javascript Error: ${err.message}<br>This usually means there's a typo in your chart specification. See the javascript console for the full traceback.`));\n",
       "    }\n",
       "\n",
       "    if(typeof define === \"function\" && define.amd) {\n",
       "      requirejs.config({paths});\n",
       "      require([\"vega-embed\"], displayChart, err => showError(`Error loading script: ${err.message}`));\n",
       "    } else if (typeof vegaEmbed === \"function\") {\n",
       "      displayChart(vegaEmbed);\n",
       "    } else {\n",
       "      loadScript(\"vega\")\n",
       "        .then(() => loadScript(\"vega-lite\"))\n",
       "        .then(() => loadScript(\"vega-embed\"))\n",
       "        .catch(showError)\n",
       "        .then(() => displayChart(vegaEmbed));\n",
       "    }\n",
       "  })({\"config\": {\"view\": {\"continuousWidth\": 400, \"continuousHeight\": 300}}, \"layer\": [{\"layer\": [{\"mark\": {\"type\": \"point\", \"size\": 75}, \"encoding\": {\"tooltip\": [{\"type\": \"temporal\", \"field\": \"date\"}, {\"type\": \"quantitative\", \"field\": \"positiveIncrease\"}, {\"type\": \"quantitative\", \"field\": \"sma7d\"}], \"x\": {\"type\": \"temporal\", \"field\": \"date\"}, \"y\": {\"type\": \"quantitative\", \"field\": \"positiveIncrease\"}}, \"selection\": {\"selector008\": {\"type\": \"interval\", \"bind\": \"scales\", \"encodings\": [\"x\", \"y\"]}}}, {\"mark\": {\"type\": \"line\", \"color\": \"purple\"}, \"encoding\": {\"x\": {\"type\": \"temporal\", \"field\": \"date\"}, \"y\": {\"type\": \"quantitative\", \"field\": \"sma7d\"}}}]}, {\"mark\": {\"type\": \"rule\", \"color\": \"#aaa\"}, \"encoding\": {\"x\": {\"type\": \"temporal\", \"field\": \"date\"}}, \"transform\": [{\"filter\": {\"selection\": \"selector007\"}}]}, {\"mark\": \"circle\", \"encoding\": {\"opacity\": {\"condition\": {\"value\": 1, \"selection\": \"selector007\"}, \"value\": 0}, \"tooltip\": [{\"type\": \"temporal\", \"field\": \"date\"}, {\"type\": \"quantitative\", \"field\": \"positiveIncrease\"}, {\"type\": \"quantitative\", \"field\": \"sma7d\"}], \"x\": {\"type\": \"temporal\", \"field\": \"date\"}, \"y\": {\"type\": \"quantitative\", \"field\": \"positiveIncrease\"}}, \"selection\": {\"selector007\": {\"type\": \"single\", \"encodings\": [\"x\"], \"on\": \"mouseover\", \"nearest\": true, \"empty\": \"none\"}}}, {\"mark\": {\"type\": \"text\", \"align\": \"left\", \"dx\": 5, \"dy\": -5, \"stroke\": \"white\", \"strokeWidth\": 2}, \"encoding\": {\"text\": {\"type\": \"quantitative\", \"field\": \"positiveIncrease\"}, \"tooltip\": [{\"type\": \"temporal\", \"field\": \"date\"}, {\"type\": \"quantitative\", \"field\": \"positiveIncrease\"}, {\"type\": \"quantitative\", \"field\": \"sma7d\"}], \"x\": {\"type\": \"temporal\", \"field\": \"date\"}, \"y\": {\"type\": \"quantitative\", \"field\": \"positiveIncrease\"}}, \"transform\": [{\"filter\": {\"selection\": \"selector007\"}}]}, {\"mark\": {\"type\": \"text\", \"align\": \"left\", \"dx\": 5, \"dy\": -5}, \"encoding\": {\"text\": {\"type\": \"quantitative\", \"field\": \"positiveIncrease\"}, \"tooltip\": [{\"type\": \"temporal\", \"field\": \"date\"}, {\"type\": \"quantitative\", \"field\": \"positiveIncrease\"}, {\"type\": \"quantitative\", \"field\": \"sma7d\"}], \"x\": {\"type\": \"temporal\", \"field\": \"date\"}, \"y\": {\"type\": \"quantitative\", \"field\": \"positiveIncrease\"}}, \"transform\": [{\"filter\": {\"selection\": \"selector007\"}}]}], \"data\": {\"name\": \"data-2dc85e63d01ca4dec52e5366233c20b2\"}, \"height\": 400, \"title\": \"New York: positiveIncrease\", \"width\": 500, \"$schema\": \"https://vega.github.io/schema/vega-lite/v4.8.1.json\", \"datasets\": {\"data-2dc85e63d01ca4dec52e5366233c20b2\": [{\"date\": \"2020-06-24T00:00:00\", \"totalTestResultsIncrease\": 51144.0, \"positiveIncrease\": 581.0, \"death\": 24782.0, \"deathIncrease\": 16.0, \"positiveRate\": 0.011, \"state\": \"New York\", \"sma7d\": 646.286}, {\"date\": \"2020-06-25T00:00:00\", \"totalTestResultsIncrease\": 67642.0, \"positiveIncrease\": 749.0, \"death\": 24800.0, \"deathIncrease\": 18.0, \"positiveRate\": 0.011, \"state\": \"New York\", \"sma7d\": 665.0}, {\"date\": \"2020-06-26T00:00:00\", \"totalTestResultsIncrease\": 61723.0, \"positiveIncrease\": 805.0, \"death\": 24814.0, \"deathIncrease\": 14.0, \"positiveRate\": 0.013, \"state\": \"New York\", \"sma7d\": 666.286}, {\"date\": \"2020-06-27T00:00:00\", \"totalTestResultsIncrease\": 73262.0, \"positiveIncrease\": 703.0, \"death\": 24830.0, \"deathIncrease\": 16.0, \"positiveRate\": 0.01, \"state\": \"New York\", \"sma7d\": 664.429}, {\"date\": \"2020-06-28T00:00:00\", \"totalTestResultsIncrease\": 61906.0, \"positiveIncrease\": 616.0, \"death\": 24835.0, \"deathIncrease\": 5.0, \"positiveRate\": 0.01, \"state\": \"New York\", \"sma7d\": 657.571}, {\"date\": \"2020-06-29T00:00:00\", \"totalTestResultsIncrease\": 46428.0, \"positiveIncrease\": 391.0, \"death\": 24842.0, \"deathIncrease\": 7.0, \"positiveRate\": 0.008, \"state\": \"New York\", \"sma7d\": 634.571}, {\"date\": \"2020-06-30T00:00:00\", \"totalTestResultsIncrease\": 52025.0, \"positiveIncrease\": 524.0, \"death\": 24855.0, \"deathIncrease\": 13.0, \"positiveRate\": 0.01, \"state\": \"New York\", \"sma7d\": 624.143}, {\"date\": \"2020-07-01T00:00:00\", \"totalTestResultsIncrease\": 56710.0, \"positiveIncrease\": 625.0, \"death\": 24866.0, \"deathIncrease\": 11.0, \"positiveRate\": 0.011, \"state\": \"New York\", \"sma7d\": 630.429}, {\"date\": \"2020-07-02T00:00:00\", \"totalTestResultsIncrease\": 69945.0, \"positiveIncrease\": 875.0, \"death\": 24877.0, \"deathIncrease\": 11.0, \"positiveRate\": 0.013, \"state\": \"New York\", \"sma7d\": 648.429}, {\"date\": \"2020-07-03T00:00:00\", \"totalTestResultsIncrease\": 66392.0, \"positiveIncrease\": 918.0, \"death\": 24885.0, \"deathIncrease\": 8.0, \"positiveRate\": 0.014, \"state\": \"New York\", \"sma7d\": 664.571}, {\"date\": \"2020-07-04T00:00:00\", \"totalTestResultsIncrease\": 62403.0, \"positiveIncrease\": 726.0, \"death\": 24896.0, \"deathIncrease\": 11.0, \"positiveRate\": 0.012, \"state\": \"New York\", \"sma7d\": 667.857}, {\"date\": \"2020-07-05T00:00:00\", \"totalTestResultsIncrease\": 63415.0, \"positiveIncrease\": 533.0, \"death\": 24904.0, \"deathIncrease\": 8.0, \"positiveRate\": 0.008, \"state\": \"New York\", \"sma7d\": 656.0}, {\"date\": \"2020-07-06T00:00:00\", \"totalTestResultsIncrease\": 54328.0, \"positiveIncrease\": 518.0, \"death\": 24913.0, \"deathIncrease\": 9.0, \"positiveRate\": 0.01, \"state\": \"New York\", \"sma7d\": 674.143}, {\"date\": \"2020-07-07T00:00:00\", \"totalTestResultsIncrease\": 56736.0, \"positiveIncrease\": 588.0, \"death\": 24924.0, \"deathIncrease\": 11.0, \"positiveRate\": 0.01, \"state\": \"New York\", \"sma7d\": 683.286}, {\"date\": \"2020-07-08T00:00:00\", \"totalTestResultsIncrease\": 57585.0, \"positiveIncrease\": 692.0, \"death\": 24944.0, \"deathIncrease\": 20.0, \"positiveRate\": 0.012, \"state\": \"New York\", \"sma7d\": 692.857}, {\"date\": \"2020-07-09T00:00:00\", \"totalTestResultsIncrease\": 65564.0, \"positiveIncrease\": 584.0, \"death\": 24959.0, \"deathIncrease\": 15.0, \"positiveRate\": 0.009, \"state\": \"New York\", \"sma7d\": 651.286}, {\"date\": \"2020-07-10T00:00:00\", \"totalTestResultsIncrease\": 73558.0, \"positiveIncrease\": 786.0, \"death\": 24968.0, \"deathIncrease\": 9.0, \"positiveRate\": 0.011, \"state\": \"New York\", \"sma7d\": 632.429}, {\"date\": \"2020-07-11T00:00:00\", \"totalTestResultsIncrease\": 69203.0, \"positiveIncrease\": 730.0, \"death\": 24974.0, \"deathIncrease\": 6.0, \"positiveRate\": 0.011, \"state\": \"New York\", \"sma7d\": 633.0}, {\"date\": \"2020-07-12T00:00:00\", \"totalTestResultsIncrease\": 62418.0, \"positiveIncrease\": 677.0, \"death\": 24979.0, \"deathIncrease\": 5.0, \"positiveRate\": 0.011, \"state\": \"New York\", \"sma7d\": 653.571}, {\"date\": \"2020-07-13T00:00:00\", \"totalTestResultsIncrease\": 51687.0, \"positiveIncrease\": 557.0, \"death\": 24989.0, \"deathIncrease\": 10.0, \"positiveRate\": 0.011, \"state\": \"New York\", \"sma7d\": 659.143}, {\"date\": \"2020-07-14T00:00:00\", \"totalTestResultsIncrease\": 60045.0, \"positiveIncrease\": 912.0, \"death\": 24994.0, \"deathIncrease\": 5.0, \"positiveRate\": 0.015, \"state\": \"New York\", \"sma7d\": 705.429}, {\"date\": \"2020-07-15T00:00:00\", \"totalTestResultsIncrease\": 63598.0, \"positiveIncrease\": 831.0, \"death\": 25003.0, \"deathIncrease\": 9.0, \"positiveRate\": 0.013, \"state\": \"New York\", \"sma7d\": 725.286}, {\"date\": \"2020-07-16T00:00:00\", \"totalTestResultsIncrease\": 72685.0, \"positiveIncrease\": 769.0, \"death\": 25014.0, \"deathIncrease\": 11.0, \"positiveRate\": 0.011, \"state\": \"New York\", \"sma7d\": 751.714}, {\"date\": \"2020-07-17T00:00:00\", \"totalTestResultsIncrease\": 78239.0, \"positiveIncrease\": 776.0, \"death\": 25024.0, \"deathIncrease\": 10.0, \"positiveRate\": 0.01, \"state\": \"New York\", \"sma7d\": 750.286}, {\"date\": \"2020-07-18T00:00:00\", \"totalTestResultsIncrease\": 69817.0, \"positiveIncrease\": 754.0, \"death\": 25035.0, \"deathIncrease\": 11.0, \"positiveRate\": 0.011, \"state\": \"New York\", \"sma7d\": 753.714}, {\"date\": \"2020-07-19T00:00:00\", \"totalTestResultsIncrease\": 46204.0, \"positiveIncrease\": 502.0, \"death\": 25048.0, \"deathIncrease\": 13.0, \"positiveRate\": 0.011, \"state\": \"New York\", \"sma7d\": 728.714}, {\"date\": \"2020-07-20T00:00:00\", \"totalTestResultsIncrease\": 49342.0, \"positiveIncrease\": 519.0, \"death\": 25056.0, \"deathIncrease\": 8.0, \"positiveRate\": 0.011, \"state\": \"New York\", \"sma7d\": 723.286}, {\"date\": \"2020-07-21T00:00:00\", \"totalTestResultsIncrease\": 66169.0, \"positiveIncrease\": 855.0, \"death\": 25058.0, \"deathIncrease\": 2.0, \"positiveRate\": 0.013, \"state\": \"New York\", \"sma7d\": 715.143}, {\"date\": \"2020-07-22T00:00:00\", \"totalTestResultsIncrease\": 67659.0, \"positiveIncrease\": 705.0, \"death\": 25068.0, \"deathIncrease\": 10.0, \"positiveRate\": 0.01, \"state\": \"New York\", \"sma7d\": 697.143}, {\"date\": \"2020-07-23T00:00:00\", \"totalTestResultsIncrease\": 69698.0, \"positiveIncrease\": 811.0, \"death\": 25081.0, \"deathIncrease\": 13.0, \"positiveRate\": 0.012, \"state\": \"New York\", \"sma7d\": 703.143}, {\"date\": \"2020-07-24T00:00:00\", \"totalTestResultsIncrease\": 76507.0, \"positiveIncrease\": 753.0, \"death\": 25090.0, \"deathIncrease\": 9.0, \"positiveRate\": 0.01, \"state\": \"New York\", \"sma7d\": 699.857}, {\"date\": \"2020-07-25T00:00:00\", \"totalTestResultsIncrease\": 71466.0, \"positiveIncrease\": 750.0, \"death\": 25103.0, \"deathIncrease\": 13.0, \"positiveRate\": 0.01, \"state\": \"New York\", \"sma7d\": 699.286}, {\"date\": \"2020-07-26T00:00:00\", \"totalTestResultsIncrease\": 53568.0, \"positiveIncrease\": 536.0, \"death\": 25106.0, \"deathIncrease\": 3.0, \"positiveRate\": 0.01, \"state\": \"New York\", \"sma7d\": 704.143}, {\"date\": \"2020-07-27T00:00:00\", \"totalTestResultsIncrease\": 57270.0, \"positiveIncrease\": 608.0, \"death\": 25117.0, \"deathIncrease\": 11.0, \"positiveRate\": 0.011, \"state\": \"New York\", \"sma7d\": 716.857}, {\"date\": \"2020-07-28T00:00:00\", \"totalTestResultsIncrease\": 57397.0, \"positiveIncrease\": 534.0, \"death\": 25126.0, \"deathIncrease\": 9.0, \"positiveRate\": 0.009, \"state\": \"New York\", \"sma7d\": 671.0}, {\"date\": \"2020-07-29T00:00:00\", \"totalTestResultsIncrease\": 62276.0, \"positiveIncrease\": 715.0, \"death\": 25132.0, \"deathIncrease\": 6.0, \"positiveRate\": 0.011, \"state\": \"New York\", \"sma7d\": 672.429}, {\"date\": \"2020-07-30T00:00:00\", \"totalTestResultsIncrease\": 73546.0, \"positiveIncrease\": 777.0, \"death\": 25145.0, \"deathIncrease\": 13.0, \"positiveRate\": 0.011, \"state\": \"New York\", \"sma7d\": 667.571}, {\"date\": \"2020-07-31T00:00:00\", \"totalTestResultsIncrease\": 68869.0, \"positiveIncrease\": 644.0, \"death\": 25150.0, \"deathIncrease\": 5.0, \"positiveRate\": 0.009, \"state\": \"New York\", \"sma7d\": 652.0}, {\"date\": \"2020-08-01T00:00:00\", \"totalTestResultsIncrease\": 82737.0, \"positiveIncrease\": 753.0, \"death\": 25164.0, \"deathIncrease\": 14.0, \"positiveRate\": 0.009, \"state\": \"New York\", \"sma7d\": 652.429}, {\"date\": \"2020-08-02T00:00:00\", \"totalTestResultsIncrease\": 58961.0, \"positiveIncrease\": 531.0, \"death\": 25170.0, \"deathIncrease\": 6.0, \"positiveRate\": 0.009, \"state\": \"New York\", \"sma7d\": 651.714}, {\"date\": \"2020-08-03T00:00:00\", \"totalTestResultsIncrease\": 51839.0, \"positiveIncrease\": 545.0, \"death\": 25172.0, \"deathIncrease\": 2.0, \"positiveRate\": 0.011, \"state\": \"New York\", \"sma7d\": 642.714}, {\"date\": \"2020-08-04T00:00:00\", \"totalTestResultsIncrease\": 70993.0, \"positiveIncrease\": 746.0, \"death\": 25175.0, \"deathIncrease\": 3.0, \"positiveRate\": 0.011, \"state\": \"New York\", \"sma7d\": 673.0}, {\"date\": \"2020-08-05T00:00:00\", \"totalTestResultsIncrease\": 72668.0, \"positiveIncrease\": 636.0, \"death\": 25179.0, \"deathIncrease\": 4.0, \"positiveRate\": 0.009, \"state\": \"New York\", \"sma7d\": 661.714}, {\"date\": \"2020-08-06T00:00:00\", \"totalTestResultsIncrease\": 72370.0, \"positiveIncrease\": 703.0, \"death\": 25185.0, \"deathIncrease\": 6.0, \"positiveRate\": 0.01, \"state\": \"New York\", \"sma7d\": 651.143}, {\"date\": \"2020-08-07T00:00:00\", \"totalTestResultsIncrease\": 70170.0, \"positiveIncrease\": 714.0, \"death\": 25190.0, \"deathIncrease\": 5.0, \"positiveRate\": 0.01, \"state\": \"New York\", \"sma7d\": 661.143}, {\"date\": \"2020-08-08T00:00:00\", \"totalTestResultsIncrease\": 74857.0, \"positiveIncrease\": 703.0, \"death\": 25195.0, \"deathIncrease\": 5.0, \"positiveRate\": 0.009, \"state\": \"New York\", \"sma7d\": 654.0}, {\"date\": \"2020-08-09T00:00:00\", \"totalTestResultsIncrease\": 65812.0, \"positiveIncrease\": 515.0, \"death\": 25202.0, \"deathIncrease\": 7.0, \"positiveRate\": 0.008, \"state\": \"New York\", \"sma7d\": 651.714}, {\"date\": \"2020-08-10T00:00:00\", \"totalTestResultsIncrease\": 54002.0, \"positiveIncrease\": 476.0, \"death\": 25204.0, \"deathIncrease\": 2.0, \"positiveRate\": 0.009, \"state\": \"New York\", \"sma7d\": 641.857}, {\"date\": \"2020-08-11T00:00:00\", \"totalTestResultsIncrease\": 77059.0, \"positiveIncrease\": 667.0, \"death\": 25211.0, \"deathIncrease\": 7.0, \"positiveRate\": 0.009, \"state\": \"New York\", \"sma7d\": 630.571}, {\"date\": \"2020-08-12T00:00:00\", \"totalTestResultsIncrease\": 87776.0, \"positiveIncrease\": 700.0, \"death\": 25218.0, \"deathIncrease\": 7.0, \"positiveRate\": 0.008, \"state\": \"New York\", \"sma7d\": 639.714}, {\"date\": \"2020-08-13T00:00:00\", \"totalTestResultsIncrease\": 87900.0, \"positiveIncrease\": 737.0, \"death\": 25228.0, \"deathIncrease\": 10.0, \"positiveRate\": 0.008, \"state\": \"New York\", \"sma7d\": 644.571}, {\"date\": \"2020-08-14T00:00:00\", \"totalTestResultsIncrease\": 85455.0, \"positiveIncrease\": 727.0, \"death\": 25232.0, \"deathIncrease\": 4.0, \"positiveRate\": 0.009, \"state\": \"New York\", \"sma7d\": 646.429}, {\"date\": \"2020-08-15T00:00:00\", \"totalTestResultsIncrease\": 88668.0, \"positiveIncrease\": 734.0, \"death\": 25244.0, \"deathIncrease\": 12.0, \"positiveRate\": 0.008, \"state\": \"New York\", \"sma7d\": 650.857}, {\"date\": \"2020-08-16T00:00:00\", \"totalTestResultsIncrease\": 77692.0, \"positiveIncrease\": 607.0, \"death\": 25250.0, \"deathIncrease\": 6.0, \"positiveRate\": 0.008, \"state\": \"New York\", \"sma7d\": 664.0}, {\"date\": \"2020-08-17T00:00:00\", \"totalTestResultsIncrease\": 56891.0, \"positiveIncrease\": 408.0, \"death\": 25256.0, \"deathIncrease\": 6.0, \"positiveRate\": 0.007, \"state\": \"New York\", \"sma7d\": 654.286}, {\"date\": \"2020-08-18T00:00:00\", \"totalTestResultsIncrease\": 66891.0, \"positiveIncrease\": 655.0, \"death\": 25264.0, \"deathIncrease\": 8.0, \"positiveRate\": 0.01, \"state\": \"New York\", \"sma7d\": 652.571}]}}, {\"mode\": \"vega-lite\"});\n",
       "</script>"
      ],
      "text/plain": [
       "alt.LayerChart(...)"
      ]
     },
     "execution_count": 11,
     "metadata": {},
     "output_type": "execute_result"
    }
   ],
   "source": [
    "create_plot(ny, 'positiveIncrease')"
   ]
  },
  {
   "cell_type": "code",
   "execution_count": 12,
   "metadata": {
    "execution": {
     "iopub.execute_input": "2020-08-18T22:33:31.379770Z",
     "iopub.status.busy": "2020-08-18T22:33:31.369393Z",
     "iopub.status.idle": "2020-08-18T22:33:31.444112Z",
     "shell.execute_reply": "2020-08-18T22:33:31.444502Z"
    },
    "papermill": {
     "duration": 0.099678,
     "end_time": "2020-08-18T22:33:31.444629",
     "exception": false,
     "start_time": "2020-08-18T22:33:31.344951",
     "status": "completed"
    },
    "tags": []
   },
   "outputs": [
    {
     "data": {
      "text/html": [
       "\n",
       "<div id=\"altair-viz-5e534a71259f432dabdf5c90fdb33ca5\"></div>\n",
       "<script type=\"text/javascript\">\n",
       "  (function(spec, embedOpt){\n",
       "    let outputDiv = document.currentScript.previousElementSibling;\n",
       "    if (outputDiv.id !== \"altair-viz-5e534a71259f432dabdf5c90fdb33ca5\") {\n",
       "      outputDiv = document.getElementById(\"altair-viz-5e534a71259f432dabdf5c90fdb33ca5\");\n",
       "    }\n",
       "    const paths = {\n",
       "      \"vega\": \"https://cdn.jsdelivr.net/npm//vega@5?noext\",\n",
       "      \"vega-lib\": \"https://cdn.jsdelivr.net/npm//vega-lib?noext\",\n",
       "      \"vega-lite\": \"https://cdn.jsdelivr.net/npm//vega-lite@4.8.1?noext\",\n",
       "      \"vega-embed\": \"https://cdn.jsdelivr.net/npm//vega-embed@6?noext\",\n",
       "    };\n",
       "\n",
       "    function loadScript(lib) {\n",
       "      return new Promise(function(resolve, reject) {\n",
       "        var s = document.createElement('script');\n",
       "        s.src = paths[lib];\n",
       "        s.async = true;\n",
       "        s.onload = () => resolve(paths[lib]);\n",
       "        s.onerror = () => reject(`Error loading script: ${paths[lib]}`);\n",
       "        document.getElementsByTagName(\"head\")[0].appendChild(s);\n",
       "      });\n",
       "    }\n",
       "\n",
       "    function showError(err) {\n",
       "      outputDiv.innerHTML = `<div class=\"error\" style=\"color:red;\">${err}</div>`;\n",
       "      throw err;\n",
       "    }\n",
       "\n",
       "    function displayChart(vegaEmbed) {\n",
       "      vegaEmbed(outputDiv, spec, embedOpt)\n",
       "        .catch(err => showError(`Javascript Error: ${err.message}<br>This usually means there's a typo in your chart specification. See the javascript console for the full traceback.`));\n",
       "    }\n",
       "\n",
       "    if(typeof define === \"function\" && define.amd) {\n",
       "      requirejs.config({paths});\n",
       "      require([\"vega-embed\"], displayChart, err => showError(`Error loading script: ${err.message}`));\n",
       "    } else if (typeof vegaEmbed === \"function\") {\n",
       "      displayChart(vegaEmbed);\n",
       "    } else {\n",
       "      loadScript(\"vega\")\n",
       "        .then(() => loadScript(\"vega-lite\"))\n",
       "        .then(() => loadScript(\"vega-embed\"))\n",
       "        .catch(showError)\n",
       "        .then(() => displayChart(vegaEmbed));\n",
       "    }\n",
       "  })({\"config\": {\"view\": {\"continuousWidth\": 400, \"continuousHeight\": 300}}, \"layer\": [{\"layer\": [{\"mark\": {\"type\": \"point\", \"size\": 75}, \"encoding\": {\"tooltip\": [{\"type\": \"temporal\", \"field\": \"date\"}, {\"type\": \"quantitative\", \"field\": \"positiveRate\"}, {\"type\": \"quantitative\", \"field\": \"sma7d\"}], \"x\": {\"type\": \"temporal\", \"field\": \"date\"}, \"y\": {\"type\": \"quantitative\", \"field\": \"positiveRate\"}}, \"selection\": {\"selector010\": {\"type\": \"interval\", \"bind\": \"scales\", \"encodings\": [\"x\", \"y\"]}}}, {\"mark\": {\"type\": \"line\", \"color\": \"purple\"}, \"encoding\": {\"x\": {\"type\": \"temporal\", \"field\": \"date\"}, \"y\": {\"type\": \"quantitative\", \"field\": \"sma7d\"}}}]}, {\"mark\": {\"type\": \"rule\", \"color\": \"#aaa\"}, \"encoding\": {\"x\": {\"type\": \"temporal\", \"field\": \"date\"}}, \"transform\": [{\"filter\": {\"selection\": \"selector009\"}}]}, {\"mark\": \"circle\", \"encoding\": {\"opacity\": {\"condition\": {\"value\": 1, \"selection\": \"selector009\"}, \"value\": 0}, \"tooltip\": [{\"type\": \"temporal\", \"field\": \"date\"}, {\"type\": \"quantitative\", \"field\": \"positiveRate\"}, {\"type\": \"quantitative\", \"field\": \"sma7d\"}], \"x\": {\"type\": \"temporal\", \"field\": \"date\"}, \"y\": {\"type\": \"quantitative\", \"field\": \"positiveRate\"}}, \"selection\": {\"selector009\": {\"type\": \"single\", \"encodings\": [\"x\"], \"on\": \"mouseover\", \"nearest\": true, \"empty\": \"none\"}}}, {\"mark\": {\"type\": \"text\", \"align\": \"left\", \"dx\": 5, \"dy\": -5, \"stroke\": \"white\", \"strokeWidth\": 2}, \"encoding\": {\"text\": {\"type\": \"quantitative\", \"field\": \"positiveRate\"}, \"tooltip\": [{\"type\": \"temporal\", \"field\": \"date\"}, {\"type\": \"quantitative\", \"field\": \"positiveRate\"}, {\"type\": \"quantitative\", \"field\": \"sma7d\"}], \"x\": {\"type\": \"temporal\", \"field\": \"date\"}, \"y\": {\"type\": \"quantitative\", \"field\": \"positiveRate\"}}, \"transform\": [{\"filter\": {\"selection\": \"selector009\"}}]}, {\"mark\": {\"type\": \"text\", \"align\": \"left\", \"dx\": 5, \"dy\": -5}, \"encoding\": {\"text\": {\"type\": \"quantitative\", \"field\": \"positiveRate\"}, \"tooltip\": [{\"type\": \"temporal\", \"field\": \"date\"}, {\"type\": \"quantitative\", \"field\": \"positiveRate\"}, {\"type\": \"quantitative\", \"field\": \"sma7d\"}], \"x\": {\"type\": \"temporal\", \"field\": \"date\"}, \"y\": {\"type\": \"quantitative\", \"field\": \"positiveRate\"}}, \"transform\": [{\"filter\": {\"selection\": \"selector009\"}}]}], \"data\": {\"name\": \"data-8b6a9255118e4d692d11789db89bf34c\"}, \"height\": 400, \"title\": \"New York: positiveRate\", \"width\": 500, \"$schema\": \"https://vega.github.io/schema/vega-lite/v4.8.1.json\", \"datasets\": {\"data-8b6a9255118e4d692d11789db89bf34c\": [{\"date\": \"2020-06-24T00:00:00\", \"totalTestResultsIncrease\": 51144.0, \"positiveIncrease\": 581.0, \"death\": 24782.0, \"deathIncrease\": 16.0, \"positiveRate\": 0.011, \"state\": \"New York\", \"sma7d\": 0.01}, {\"date\": \"2020-06-25T00:00:00\", \"totalTestResultsIncrease\": 67642.0, \"positiveIncrease\": 749.0, \"death\": 24800.0, \"deathIncrease\": 18.0, \"positiveRate\": 0.011, \"state\": \"New York\", \"sma7d\": 0.011}, {\"date\": \"2020-06-26T00:00:00\", \"totalTestResultsIncrease\": 61723.0, \"positiveIncrease\": 805.0, \"death\": 24814.0, \"deathIncrease\": 14.0, \"positiveRate\": 0.013, \"state\": \"New York\", \"sma7d\": 0.011}, {\"date\": \"2020-06-27T00:00:00\", \"totalTestResultsIncrease\": 73262.0, \"positiveIncrease\": 703.0, \"death\": 24830.0, \"deathIncrease\": 16.0, \"positiveRate\": 0.01, \"state\": \"New York\", \"sma7d\": 0.011}, {\"date\": \"2020-06-28T00:00:00\", \"totalTestResultsIncrease\": 61906.0, \"positiveIncrease\": 616.0, \"death\": 24835.0, \"deathIncrease\": 5.0, \"positiveRate\": 0.01, \"state\": \"New York\", \"sma7d\": 0.011}, {\"date\": \"2020-06-29T00:00:00\", \"totalTestResultsIncrease\": 46428.0, \"positiveIncrease\": 391.0, \"death\": 24842.0, \"deathIncrease\": 7.0, \"positiveRate\": 0.008, \"state\": \"New York\", \"sma7d\": 0.011}, {\"date\": \"2020-06-30T00:00:00\", \"totalTestResultsIncrease\": 52025.0, \"positiveIncrease\": 524.0, \"death\": 24855.0, \"deathIncrease\": 13.0, \"positiveRate\": 0.01, \"state\": \"New York\", \"sma7d\": 0.01}, {\"date\": \"2020-07-01T00:00:00\", \"totalTestResultsIncrease\": 56710.0, \"positiveIncrease\": 625.0, \"death\": 24866.0, \"deathIncrease\": 11.0, \"positiveRate\": 0.011, \"state\": \"New York\", \"sma7d\": 0.01}, {\"date\": \"2020-07-02T00:00:00\", \"totalTestResultsIncrease\": 69945.0, \"positiveIncrease\": 875.0, \"death\": 24877.0, \"deathIncrease\": 11.0, \"positiveRate\": 0.013, \"state\": \"New York\", \"sma7d\": 0.011}, {\"date\": \"2020-07-03T00:00:00\", \"totalTestResultsIncrease\": 66392.0, \"positiveIncrease\": 918.0, \"death\": 24885.0, \"deathIncrease\": 8.0, \"positiveRate\": 0.014, \"state\": \"New York\", \"sma7d\": 0.011}, {\"date\": \"2020-07-04T00:00:00\", \"totalTestResultsIncrease\": 62403.0, \"positiveIncrease\": 726.0, \"death\": 24896.0, \"deathIncrease\": 11.0, \"positiveRate\": 0.012, \"state\": \"New York\", \"sma7d\": 0.011}, {\"date\": \"2020-07-05T00:00:00\", \"totalTestResultsIncrease\": 63415.0, \"positiveIncrease\": 533.0, \"death\": 24904.0, \"deathIncrease\": 8.0, \"positiveRate\": 0.008, \"state\": \"New York\", \"sma7d\": 0.011}, {\"date\": \"2020-07-06T00:00:00\", \"totalTestResultsIncrease\": 54328.0, \"positiveIncrease\": 518.0, \"death\": 24913.0, \"deathIncrease\": 9.0, \"positiveRate\": 0.01, \"state\": \"New York\", \"sma7d\": 0.011}, {\"date\": \"2020-07-07T00:00:00\", \"totalTestResultsIncrease\": 56736.0, \"positiveIncrease\": 588.0, \"death\": 24924.0, \"deathIncrease\": 11.0, \"positiveRate\": 0.01, \"state\": \"New York\", \"sma7d\": 0.011}, {\"date\": \"2020-07-08T00:00:00\", \"totalTestResultsIncrease\": 57585.0, \"positiveIncrease\": 692.0, \"death\": 24944.0, \"deathIncrease\": 20.0, \"positiveRate\": 0.012, \"state\": \"New York\", \"sma7d\": 0.011}, {\"date\": \"2020-07-09T00:00:00\", \"totalTestResultsIncrease\": 65564.0, \"positiveIncrease\": 584.0, \"death\": 24959.0, \"deathIncrease\": 15.0, \"positiveRate\": 0.009, \"state\": \"New York\", \"sma7d\": 0.011}, {\"date\": \"2020-07-10T00:00:00\", \"totalTestResultsIncrease\": 73558.0, \"positiveIncrease\": 786.0, \"death\": 24968.0, \"deathIncrease\": 9.0, \"positiveRate\": 0.011, \"state\": \"New York\", \"sma7d\": 0.01}, {\"date\": \"2020-07-11T00:00:00\", \"totalTestResultsIncrease\": 69203.0, \"positiveIncrease\": 730.0, \"death\": 24974.0, \"deathIncrease\": 6.0, \"positiveRate\": 0.011, \"state\": \"New York\", \"sma7d\": 0.01}, {\"date\": \"2020-07-12T00:00:00\", \"totalTestResultsIncrease\": 62418.0, \"positiveIncrease\": 677.0, \"death\": 24979.0, \"deathIncrease\": 5.0, \"positiveRate\": 0.011, \"state\": \"New York\", \"sma7d\": 0.011}, {\"date\": \"2020-07-13T00:00:00\", \"totalTestResultsIncrease\": 51687.0, \"positiveIncrease\": 557.0, \"death\": 24989.0, \"deathIncrease\": 10.0, \"positiveRate\": 0.011, \"state\": \"New York\", \"sma7d\": 0.011}, {\"date\": \"2020-07-14T00:00:00\", \"totalTestResultsIncrease\": 60045.0, \"positiveIncrease\": 912.0, \"death\": 24994.0, \"deathIncrease\": 5.0, \"positiveRate\": 0.015, \"state\": \"New York\", \"sma7d\": 0.011}, {\"date\": \"2020-07-15T00:00:00\", \"totalTestResultsIncrease\": 63598.0, \"positiveIncrease\": 831.0, \"death\": 25003.0, \"deathIncrease\": 9.0, \"positiveRate\": 0.013, \"state\": \"New York\", \"sma7d\": 0.012}, {\"date\": \"2020-07-16T00:00:00\", \"totalTestResultsIncrease\": 72685.0, \"positiveIncrease\": 769.0, \"death\": 25014.0, \"deathIncrease\": 11.0, \"positiveRate\": 0.011, \"state\": \"New York\", \"sma7d\": 0.012}, {\"date\": \"2020-07-17T00:00:00\", \"totalTestResultsIncrease\": 78239.0, \"positiveIncrease\": 776.0, \"death\": 25024.0, \"deathIncrease\": 10.0, \"positiveRate\": 0.01, \"state\": \"New York\", \"sma7d\": 0.012}, {\"date\": \"2020-07-18T00:00:00\", \"totalTestResultsIncrease\": 69817.0, \"positiveIncrease\": 754.0, \"death\": 25035.0, \"deathIncrease\": 11.0, \"positiveRate\": 0.011, \"state\": \"New York\", \"sma7d\": 0.012}, {\"date\": \"2020-07-19T00:00:00\", \"totalTestResultsIncrease\": 46204.0, \"positiveIncrease\": 502.0, \"death\": 25048.0, \"deathIncrease\": 13.0, \"positiveRate\": 0.011, \"state\": \"New York\", \"sma7d\": 0.012}, {\"date\": \"2020-07-20T00:00:00\", \"totalTestResultsIncrease\": 49342.0, \"positiveIncrease\": 519.0, \"death\": 25056.0, \"deathIncrease\": 8.0, \"positiveRate\": 0.011, \"state\": \"New York\", \"sma7d\": 0.012}, {\"date\": \"2020-07-21T00:00:00\", \"totalTestResultsIncrease\": 66169.0, \"positiveIncrease\": 855.0, \"death\": 25058.0, \"deathIncrease\": 2.0, \"positiveRate\": 0.013, \"state\": \"New York\", \"sma7d\": 0.011}, {\"date\": \"2020-07-22T00:00:00\", \"totalTestResultsIncrease\": 67659.0, \"positiveIncrease\": 705.0, \"death\": 25068.0, \"deathIncrease\": 10.0, \"positiveRate\": 0.01, \"state\": \"New York\", \"sma7d\": 0.011}, {\"date\": \"2020-07-23T00:00:00\", \"totalTestResultsIncrease\": 69698.0, \"positiveIncrease\": 811.0, \"death\": 25081.0, \"deathIncrease\": 13.0, \"positiveRate\": 0.012, \"state\": \"New York\", \"sma7d\": 0.011}, {\"date\": \"2020-07-24T00:00:00\", \"totalTestResultsIncrease\": 76507.0, \"positiveIncrease\": 753.0, \"death\": 25090.0, \"deathIncrease\": 9.0, \"positiveRate\": 0.01, \"state\": \"New York\", \"sma7d\": 0.011}, {\"date\": \"2020-07-25T00:00:00\", \"totalTestResultsIncrease\": 71466.0, \"positiveIncrease\": 750.0, \"death\": 25103.0, \"deathIncrease\": 13.0, \"positiveRate\": 0.01, \"state\": \"New York\", \"sma7d\": 0.011}, {\"date\": \"2020-07-26T00:00:00\", \"totalTestResultsIncrease\": 53568.0, \"positiveIncrease\": 536.0, \"death\": 25106.0, \"deathIncrease\": 3.0, \"positiveRate\": 0.01, \"state\": \"New York\", \"sma7d\": 0.011}, {\"date\": \"2020-07-27T00:00:00\", \"totalTestResultsIncrease\": 57270.0, \"positiveIncrease\": 608.0, \"death\": 25117.0, \"deathIncrease\": 11.0, \"positiveRate\": 0.011, \"state\": \"New York\", \"sma7d\": 0.011}, {\"date\": \"2020-07-28T00:00:00\", \"totalTestResultsIncrease\": 57397.0, \"positiveIncrease\": 534.0, \"death\": 25126.0, \"deathIncrease\": 9.0, \"positiveRate\": 0.009, \"state\": \"New York\", \"sma7d\": 0.01}, {\"date\": \"2020-07-29T00:00:00\", \"totalTestResultsIncrease\": 62276.0, \"positiveIncrease\": 715.0, \"death\": 25132.0, \"deathIncrease\": 6.0, \"positiveRate\": 0.011, \"state\": \"New York\", \"sma7d\": 0.01}, {\"date\": \"2020-07-30T00:00:00\", \"totalTestResultsIncrease\": 73546.0, \"positiveIncrease\": 777.0, \"death\": 25145.0, \"deathIncrease\": 13.0, \"positiveRate\": 0.011, \"state\": \"New York\", \"sma7d\": 0.01}, {\"date\": \"2020-07-31T00:00:00\", \"totalTestResultsIncrease\": 68869.0, \"positiveIncrease\": 644.0, \"death\": 25150.0, \"deathIncrease\": 5.0, \"positiveRate\": 0.009, \"state\": \"New York\", \"sma7d\": 0.01}, {\"date\": \"2020-08-01T00:00:00\", \"totalTestResultsIncrease\": 82737.0, \"positiveIncrease\": 753.0, \"death\": 25164.0, \"deathIncrease\": 14.0, \"positiveRate\": 0.009, \"state\": \"New York\", \"sma7d\": 0.01}, {\"date\": \"2020-08-02T00:00:00\", \"totalTestResultsIncrease\": 58961.0, \"positiveIncrease\": 531.0, \"death\": 25170.0, \"deathIncrease\": 6.0, \"positiveRate\": 0.009, \"state\": \"New York\", \"sma7d\": 0.01}, {\"date\": \"2020-08-03T00:00:00\", \"totalTestResultsIncrease\": 51839.0, \"positiveIncrease\": 545.0, \"death\": 25172.0, \"deathIncrease\": 2.0, \"positiveRate\": 0.011, \"state\": \"New York\", \"sma7d\": 0.01}, {\"date\": \"2020-08-04T00:00:00\", \"totalTestResultsIncrease\": 70993.0, \"positiveIncrease\": 746.0, \"death\": 25175.0, \"deathIncrease\": 3.0, \"positiveRate\": 0.011, \"state\": \"New York\", \"sma7d\": 0.01}, {\"date\": \"2020-08-05T00:00:00\", \"totalTestResultsIncrease\": 72668.0, \"positiveIncrease\": 636.0, \"death\": 25179.0, \"deathIncrease\": 4.0, \"positiveRate\": 0.009, \"state\": \"New York\", \"sma7d\": 0.01}, {\"date\": \"2020-08-06T00:00:00\", \"totalTestResultsIncrease\": 72370.0, \"positiveIncrease\": 703.0, \"death\": 25185.0, \"deathIncrease\": 6.0, \"positiveRate\": 0.01, \"state\": \"New York\", \"sma7d\": 0.01}, {\"date\": \"2020-08-07T00:00:00\", \"totalTestResultsIncrease\": 70170.0, \"positiveIncrease\": 714.0, \"death\": 25190.0, \"deathIncrease\": 5.0, \"positiveRate\": 0.01, \"state\": \"New York\", \"sma7d\": 0.01}, {\"date\": \"2020-08-08T00:00:00\", \"totalTestResultsIncrease\": 74857.0, \"positiveIncrease\": 703.0, \"death\": 25195.0, \"deathIncrease\": 5.0, \"positiveRate\": 0.009, \"state\": \"New York\", \"sma7d\": 0.01}, {\"date\": \"2020-08-09T00:00:00\", \"totalTestResultsIncrease\": 65812.0, \"positiveIncrease\": 515.0, \"death\": 25202.0, \"deathIncrease\": 7.0, \"positiveRate\": 0.008, \"state\": \"New York\", \"sma7d\": 0.01}, {\"date\": \"2020-08-10T00:00:00\", \"totalTestResultsIncrease\": 54002.0, \"positiveIncrease\": 476.0, \"death\": 25204.0, \"deathIncrease\": 2.0, \"positiveRate\": 0.009, \"state\": \"New York\", \"sma7d\": 0.009}, {\"date\": \"2020-08-11T00:00:00\", \"totalTestResultsIncrease\": 77059.0, \"positiveIncrease\": 667.0, \"death\": 25211.0, \"deathIncrease\": 7.0, \"positiveRate\": 0.009, \"state\": \"New York\", \"sma7d\": 0.009}, {\"date\": \"2020-08-12T00:00:00\", \"totalTestResultsIncrease\": 87776.0, \"positiveIncrease\": 700.0, \"death\": 25218.0, \"deathIncrease\": 7.0, \"positiveRate\": 0.008, \"state\": \"New York\", \"sma7d\": 0.009}, {\"date\": \"2020-08-13T00:00:00\", \"totalTestResultsIncrease\": 87900.0, \"positiveIncrease\": 737.0, \"death\": 25228.0, \"deathIncrease\": 10.0, \"positiveRate\": 0.008, \"state\": \"New York\", \"sma7d\": 0.009}, {\"date\": \"2020-08-14T00:00:00\", \"totalTestResultsIncrease\": 85455.0, \"positiveIncrease\": 727.0, \"death\": 25232.0, \"deathIncrease\": 4.0, \"positiveRate\": 0.009, \"state\": \"New York\", \"sma7d\": 0.009}, {\"date\": \"2020-08-15T00:00:00\", \"totalTestResultsIncrease\": 88668.0, \"positiveIncrease\": 734.0, \"death\": 25244.0, \"deathIncrease\": 12.0, \"positiveRate\": 0.008, \"state\": \"New York\", \"sma7d\": 0.008}, {\"date\": \"2020-08-16T00:00:00\", \"totalTestResultsIncrease\": 77692.0, \"positiveIncrease\": 607.0, \"death\": 25250.0, \"deathIncrease\": 6.0, \"positiveRate\": 0.008, \"state\": \"New York\", \"sma7d\": 0.008}, {\"date\": \"2020-08-17T00:00:00\", \"totalTestResultsIncrease\": 56891.0, \"positiveIncrease\": 408.0, \"death\": 25256.0, \"deathIncrease\": 6.0, \"positiveRate\": 0.007, \"state\": \"New York\", \"sma7d\": 0.008}, {\"date\": \"2020-08-18T00:00:00\", \"totalTestResultsIncrease\": 66891.0, \"positiveIncrease\": 655.0, \"death\": 25264.0, \"deathIncrease\": 8.0, \"positiveRate\": 0.01, \"state\": \"New York\", \"sma7d\": 0.008}]}}, {\"mode\": \"vega-lite\"});\n",
       "</script>"
      ],
      "text/plain": [
       "alt.LayerChart(...)"
      ]
     },
     "execution_count": 12,
     "metadata": {},
     "output_type": "execute_result"
    }
   ],
   "source": [
    "create_plot(ny, 'positiveRate')"
   ]
  },
  {
   "cell_type": "code",
   "execution_count": 13,
   "metadata": {
    "execution": {
     "iopub.execute_input": "2020-08-18T22:33:31.493965Z",
     "iopub.status.busy": "2020-08-18T22:33:31.476095Z",
     "iopub.status.idle": "2020-08-18T22:33:31.556062Z",
     "shell.execute_reply": "2020-08-18T22:33:31.556451Z"
    },
    "papermill": {
     "duration": 0.097661,
     "end_time": "2020-08-18T22:33:31.556576",
     "exception": false,
     "start_time": "2020-08-18T22:33:31.458915",
     "status": "completed"
    },
    "tags": []
   },
   "outputs": [
    {
     "data": {
      "text/html": [
       "\n",
       "<div id=\"altair-viz-99b8cb0be10246c6b059861b63ceb6d4\"></div>\n",
       "<script type=\"text/javascript\">\n",
       "  (function(spec, embedOpt){\n",
       "    let outputDiv = document.currentScript.previousElementSibling;\n",
       "    if (outputDiv.id !== \"altair-viz-99b8cb0be10246c6b059861b63ceb6d4\") {\n",
       "      outputDiv = document.getElementById(\"altair-viz-99b8cb0be10246c6b059861b63ceb6d4\");\n",
       "    }\n",
       "    const paths = {\n",
       "      \"vega\": \"https://cdn.jsdelivr.net/npm//vega@5?noext\",\n",
       "      \"vega-lib\": \"https://cdn.jsdelivr.net/npm//vega-lib?noext\",\n",
       "      \"vega-lite\": \"https://cdn.jsdelivr.net/npm//vega-lite@4.8.1?noext\",\n",
       "      \"vega-embed\": \"https://cdn.jsdelivr.net/npm//vega-embed@6?noext\",\n",
       "    };\n",
       "\n",
       "    function loadScript(lib) {\n",
       "      return new Promise(function(resolve, reject) {\n",
       "        var s = document.createElement('script');\n",
       "        s.src = paths[lib];\n",
       "        s.async = true;\n",
       "        s.onload = () => resolve(paths[lib]);\n",
       "        s.onerror = () => reject(`Error loading script: ${paths[lib]}`);\n",
       "        document.getElementsByTagName(\"head\")[0].appendChild(s);\n",
       "      });\n",
       "    }\n",
       "\n",
       "    function showError(err) {\n",
       "      outputDiv.innerHTML = `<div class=\"error\" style=\"color:red;\">${err}</div>`;\n",
       "      throw err;\n",
       "    }\n",
       "\n",
       "    function displayChart(vegaEmbed) {\n",
       "      vegaEmbed(outputDiv, spec, embedOpt)\n",
       "        .catch(err => showError(`Javascript Error: ${err.message}<br>This usually means there's a typo in your chart specification. See the javascript console for the full traceback.`));\n",
       "    }\n",
       "\n",
       "    if(typeof define === \"function\" && define.amd) {\n",
       "      requirejs.config({paths});\n",
       "      require([\"vega-embed\"], displayChart, err => showError(`Error loading script: ${err.message}`));\n",
       "    } else if (typeof vegaEmbed === \"function\") {\n",
       "      displayChart(vegaEmbed);\n",
       "    } else {\n",
       "      loadScript(\"vega\")\n",
       "        .then(() => loadScript(\"vega-lite\"))\n",
       "        .then(() => loadScript(\"vega-embed\"))\n",
       "        .catch(showError)\n",
       "        .then(() => displayChart(vegaEmbed));\n",
       "    }\n",
       "  })({\"config\": {\"view\": {\"continuousWidth\": 400, \"continuousHeight\": 300}}, \"layer\": [{\"layer\": [{\"mark\": {\"type\": \"point\", \"size\": 75}, \"encoding\": {\"tooltip\": [{\"type\": \"temporal\", \"field\": \"date\"}, {\"type\": \"quantitative\", \"field\": \"deathIncrease\"}, {\"type\": \"quantitative\", \"field\": \"sma7d\"}], \"x\": {\"type\": \"temporal\", \"field\": \"date\"}, \"y\": {\"type\": \"quantitative\", \"field\": \"deathIncrease\"}}, \"selection\": {\"selector012\": {\"type\": \"interval\", \"bind\": \"scales\", \"encodings\": [\"x\", \"y\"]}}}, {\"mark\": {\"type\": \"line\", \"color\": \"purple\"}, \"encoding\": {\"x\": {\"type\": \"temporal\", \"field\": \"date\"}, \"y\": {\"type\": \"quantitative\", \"field\": \"sma7d\"}}}]}, {\"mark\": {\"type\": \"rule\", \"color\": \"#aaa\"}, \"encoding\": {\"x\": {\"type\": \"temporal\", \"field\": \"date\"}}, \"transform\": [{\"filter\": {\"selection\": \"selector011\"}}]}, {\"mark\": \"circle\", \"encoding\": {\"opacity\": {\"condition\": {\"value\": 1, \"selection\": \"selector011\"}, \"value\": 0}, \"tooltip\": [{\"type\": \"temporal\", \"field\": \"date\"}, {\"type\": \"quantitative\", \"field\": \"deathIncrease\"}, {\"type\": \"quantitative\", \"field\": \"sma7d\"}], \"x\": {\"type\": \"temporal\", \"field\": \"date\"}, \"y\": {\"type\": \"quantitative\", \"field\": \"deathIncrease\"}}, \"selection\": {\"selector011\": {\"type\": \"single\", \"encodings\": [\"x\"], \"on\": \"mouseover\", \"nearest\": true, \"empty\": \"none\"}}}, {\"mark\": {\"type\": \"text\", \"align\": \"left\", \"dx\": 5, \"dy\": -5, \"stroke\": \"white\", \"strokeWidth\": 2}, \"encoding\": {\"text\": {\"type\": \"quantitative\", \"field\": \"deathIncrease\"}, \"tooltip\": [{\"type\": \"temporal\", \"field\": \"date\"}, {\"type\": \"quantitative\", \"field\": \"deathIncrease\"}, {\"type\": \"quantitative\", \"field\": \"sma7d\"}], \"x\": {\"type\": \"temporal\", \"field\": \"date\"}, \"y\": {\"type\": \"quantitative\", \"field\": \"deathIncrease\"}}, \"transform\": [{\"filter\": {\"selection\": \"selector011\"}}]}, {\"mark\": {\"type\": \"text\", \"align\": \"left\", \"dx\": 5, \"dy\": -5}, \"encoding\": {\"text\": {\"type\": \"quantitative\", \"field\": \"deathIncrease\"}, \"tooltip\": [{\"type\": \"temporal\", \"field\": \"date\"}, {\"type\": \"quantitative\", \"field\": \"deathIncrease\"}, {\"type\": \"quantitative\", \"field\": \"sma7d\"}], \"x\": {\"type\": \"temporal\", \"field\": \"date\"}, \"y\": {\"type\": \"quantitative\", \"field\": \"deathIncrease\"}}, \"transform\": [{\"filter\": {\"selection\": \"selector011\"}}]}], \"data\": {\"name\": \"data-0923f4a931e56016d41ae38eed6ada61\"}, \"height\": 400, \"title\": \"New York: deathIncrease\", \"width\": 500, \"$schema\": \"https://vega.github.io/schema/vega-lite/v4.8.1.json\", \"datasets\": {\"data-0923f4a931e56016d41ae38eed6ada61\": [{\"date\": \"2020-06-24T00:00:00\", \"totalTestResultsIncrease\": 51144.0, \"positiveIncrease\": 581.0, \"death\": 24782.0, \"deathIncrease\": 16.0, \"positiveRate\": 0.011, \"state\": \"New York\", \"sma7d\": 21.857}, {\"date\": \"2020-06-25T00:00:00\", \"totalTestResultsIncrease\": 67642.0, \"positiveIncrease\": 749.0, \"death\": 24800.0, \"deathIncrease\": 18.0, \"positiveRate\": 0.011, \"state\": \"New York\", \"sma7d\": 19.857}, {\"date\": \"2020-06-26T00:00:00\", \"totalTestResultsIncrease\": 61723.0, \"positiveIncrease\": 805.0, \"death\": 24814.0, \"deathIncrease\": 14.0, \"positiveRate\": 0.013, \"state\": \"New York\", \"sma7d\": 18.286}, {\"date\": \"2020-06-27T00:00:00\", \"totalTestResultsIncrease\": 73262.0, \"positiveIncrease\": 703.0, \"death\": 24830.0, \"deathIncrease\": 16.0, \"positiveRate\": 0.01, \"state\": \"New York\", \"sma7d\": 17.143}, {\"date\": \"2020-06-28T00:00:00\", \"totalTestResultsIncrease\": 61906.0, \"positiveIncrease\": 616.0, \"death\": 24835.0, \"deathIncrease\": 5.0, \"positiveRate\": 0.01, \"state\": \"New York\", \"sma7d\": 15.714}, {\"date\": \"2020-06-29T00:00:00\", \"totalTestResultsIncrease\": 46428.0, \"positiveIncrease\": 391.0, \"death\": 24842.0, \"deathIncrease\": 7.0, \"positiveRate\": 0.008, \"state\": \"New York\", \"sma7d\": 14.714}, {\"date\": \"2020-06-30T00:00:00\", \"totalTestResultsIncrease\": 52025.0, \"positiveIncrease\": 524.0, \"death\": 24855.0, \"deathIncrease\": 13.0, \"positiveRate\": 0.01, \"state\": \"New York\", \"sma7d\": 12.714}, {\"date\": \"2020-07-01T00:00:00\", \"totalTestResultsIncrease\": 56710.0, \"positiveIncrease\": 625.0, \"death\": 24866.0, \"deathIncrease\": 11.0, \"positiveRate\": 0.011, \"state\": \"New York\", \"sma7d\": 12.0}, {\"date\": \"2020-07-02T00:00:00\", \"totalTestResultsIncrease\": 69945.0, \"positiveIncrease\": 875.0, \"death\": 24877.0, \"deathIncrease\": 11.0, \"positiveRate\": 0.013, \"state\": \"New York\", \"sma7d\": 11.0}, {\"date\": \"2020-07-03T00:00:00\", \"totalTestResultsIncrease\": 66392.0, \"positiveIncrease\": 918.0, \"death\": 24885.0, \"deathIncrease\": 8.0, \"positiveRate\": 0.014, \"state\": \"New York\", \"sma7d\": 10.143}, {\"date\": \"2020-07-04T00:00:00\", \"totalTestResultsIncrease\": 62403.0, \"positiveIncrease\": 726.0, \"death\": 24896.0, \"deathIncrease\": 11.0, \"positiveRate\": 0.012, \"state\": \"New York\", \"sma7d\": 9.429}, {\"date\": \"2020-07-05T00:00:00\", \"totalTestResultsIncrease\": 63415.0, \"positiveIncrease\": 533.0, \"death\": 24904.0, \"deathIncrease\": 8.0, \"positiveRate\": 0.008, \"state\": \"New York\", \"sma7d\": 9.857}, {\"date\": \"2020-07-06T00:00:00\", \"totalTestResultsIncrease\": 54328.0, \"positiveIncrease\": 518.0, \"death\": 24913.0, \"deathIncrease\": 9.0, \"positiveRate\": 0.01, \"state\": \"New York\", \"sma7d\": 10.143}, {\"date\": \"2020-07-07T00:00:00\", \"totalTestResultsIncrease\": 56736.0, \"positiveIncrease\": 588.0, \"death\": 24924.0, \"deathIncrease\": 11.0, \"positiveRate\": 0.01, \"state\": \"New York\", \"sma7d\": 9.857}, {\"date\": \"2020-07-08T00:00:00\", \"totalTestResultsIncrease\": 57585.0, \"positiveIncrease\": 692.0, \"death\": 24944.0, \"deathIncrease\": 20.0, \"positiveRate\": 0.012, \"state\": \"New York\", \"sma7d\": 11.143}, {\"date\": \"2020-07-09T00:00:00\", \"totalTestResultsIncrease\": 65564.0, \"positiveIncrease\": 584.0, \"death\": 24959.0, \"deathIncrease\": 15.0, \"positiveRate\": 0.009, \"state\": \"New York\", \"sma7d\": 11.714}, {\"date\": \"2020-07-10T00:00:00\", \"totalTestResultsIncrease\": 73558.0, \"positiveIncrease\": 786.0, \"death\": 24968.0, \"deathIncrease\": 9.0, \"positiveRate\": 0.011, \"state\": \"New York\", \"sma7d\": 11.857}, {\"date\": \"2020-07-11T00:00:00\", \"totalTestResultsIncrease\": 69203.0, \"positiveIncrease\": 730.0, \"death\": 24974.0, \"deathIncrease\": 6.0, \"positiveRate\": 0.011, \"state\": \"New York\", \"sma7d\": 11.143}, {\"date\": \"2020-07-12T00:00:00\", \"totalTestResultsIncrease\": 62418.0, \"positiveIncrease\": 677.0, \"death\": 24979.0, \"deathIncrease\": 5.0, \"positiveRate\": 0.011, \"state\": \"New York\", \"sma7d\": 10.714}, {\"date\": \"2020-07-13T00:00:00\", \"totalTestResultsIncrease\": 51687.0, \"positiveIncrease\": 557.0, \"death\": 24989.0, \"deathIncrease\": 10.0, \"positiveRate\": 0.011, \"state\": \"New York\", \"sma7d\": 10.857}, {\"date\": \"2020-07-14T00:00:00\", \"totalTestResultsIncrease\": 60045.0, \"positiveIncrease\": 912.0, \"death\": 24994.0, \"deathIncrease\": 5.0, \"positiveRate\": 0.015, \"state\": \"New York\", \"sma7d\": 10.0}, {\"date\": \"2020-07-15T00:00:00\", \"totalTestResultsIncrease\": 63598.0, \"positiveIncrease\": 831.0, \"death\": 25003.0, \"deathIncrease\": 9.0, \"positiveRate\": 0.013, \"state\": \"New York\", \"sma7d\": 8.429}, {\"date\": \"2020-07-16T00:00:00\", \"totalTestResultsIncrease\": 72685.0, \"positiveIncrease\": 769.0, \"death\": 25014.0, \"deathIncrease\": 11.0, \"positiveRate\": 0.011, \"state\": \"New York\", \"sma7d\": 7.857}, {\"date\": \"2020-07-17T00:00:00\", \"totalTestResultsIncrease\": 78239.0, \"positiveIncrease\": 776.0, \"death\": 25024.0, \"deathIncrease\": 10.0, \"positiveRate\": 0.01, \"state\": \"New York\", \"sma7d\": 8.0}, {\"date\": \"2020-07-18T00:00:00\", \"totalTestResultsIncrease\": 69817.0, \"positiveIncrease\": 754.0, \"death\": 25035.0, \"deathIncrease\": 11.0, \"positiveRate\": 0.011, \"state\": \"New York\", \"sma7d\": 8.714}, {\"date\": \"2020-07-19T00:00:00\", \"totalTestResultsIncrease\": 46204.0, \"positiveIncrease\": 502.0, \"death\": 25048.0, \"deathIncrease\": 13.0, \"positiveRate\": 0.011, \"state\": \"New York\", \"sma7d\": 9.857}, {\"date\": \"2020-07-20T00:00:00\", \"totalTestResultsIncrease\": 49342.0, \"positiveIncrease\": 519.0, \"death\": 25056.0, \"deathIncrease\": 8.0, \"positiveRate\": 0.011, \"state\": \"New York\", \"sma7d\": 9.571}, {\"date\": \"2020-07-21T00:00:00\", \"totalTestResultsIncrease\": 66169.0, \"positiveIncrease\": 855.0, \"death\": 25058.0, \"deathIncrease\": 2.0, \"positiveRate\": 0.013, \"state\": \"New York\", \"sma7d\": 9.143}, {\"date\": \"2020-07-22T00:00:00\", \"totalTestResultsIncrease\": 67659.0, \"positiveIncrease\": 705.0, \"death\": 25068.0, \"deathIncrease\": 10.0, \"positiveRate\": 0.01, \"state\": \"New York\", \"sma7d\": 9.286}, {\"date\": \"2020-07-23T00:00:00\", \"totalTestResultsIncrease\": 69698.0, \"positiveIncrease\": 811.0, \"death\": 25081.0, \"deathIncrease\": 13.0, \"positiveRate\": 0.012, \"state\": \"New York\", \"sma7d\": 9.571}, {\"date\": \"2020-07-24T00:00:00\", \"totalTestResultsIncrease\": 76507.0, \"positiveIncrease\": 753.0, \"death\": 25090.0, \"deathIncrease\": 9.0, \"positiveRate\": 0.01, \"state\": \"New York\", \"sma7d\": 9.429}, {\"date\": \"2020-07-25T00:00:00\", \"totalTestResultsIncrease\": 71466.0, \"positiveIncrease\": 750.0, \"death\": 25103.0, \"deathIncrease\": 13.0, \"positiveRate\": 0.01, \"state\": \"New York\", \"sma7d\": 9.714}, {\"date\": \"2020-07-26T00:00:00\", \"totalTestResultsIncrease\": 53568.0, \"positiveIncrease\": 536.0, \"death\": 25106.0, \"deathIncrease\": 3.0, \"positiveRate\": 0.01, \"state\": \"New York\", \"sma7d\": 8.286}, {\"date\": \"2020-07-27T00:00:00\", \"totalTestResultsIncrease\": 57270.0, \"positiveIncrease\": 608.0, \"death\": 25117.0, \"deathIncrease\": 11.0, \"positiveRate\": 0.011, \"state\": \"New York\", \"sma7d\": 8.714}, {\"date\": \"2020-07-28T00:00:00\", \"totalTestResultsIncrease\": 57397.0, \"positiveIncrease\": 534.0, \"death\": 25126.0, \"deathIncrease\": 9.0, \"positiveRate\": 0.009, \"state\": \"New York\", \"sma7d\": 9.714}, {\"date\": \"2020-07-29T00:00:00\", \"totalTestResultsIncrease\": 62276.0, \"positiveIncrease\": 715.0, \"death\": 25132.0, \"deathIncrease\": 6.0, \"positiveRate\": 0.011, \"state\": \"New York\", \"sma7d\": 9.143}, {\"date\": \"2020-07-30T00:00:00\", \"totalTestResultsIncrease\": 73546.0, \"positiveIncrease\": 777.0, \"death\": 25145.0, \"deathIncrease\": 13.0, \"positiveRate\": 0.011, \"state\": \"New York\", \"sma7d\": 9.143}, {\"date\": \"2020-07-31T00:00:00\", \"totalTestResultsIncrease\": 68869.0, \"positiveIncrease\": 644.0, \"death\": 25150.0, \"deathIncrease\": 5.0, \"positiveRate\": 0.009, \"state\": \"New York\", \"sma7d\": 8.571}, {\"date\": \"2020-08-01T00:00:00\", \"totalTestResultsIncrease\": 82737.0, \"positiveIncrease\": 753.0, \"death\": 25164.0, \"deathIncrease\": 14.0, \"positiveRate\": 0.009, \"state\": \"New York\", \"sma7d\": 8.714}, {\"date\": \"2020-08-02T00:00:00\", \"totalTestResultsIncrease\": 58961.0, \"positiveIncrease\": 531.0, \"death\": 25170.0, \"deathIncrease\": 6.0, \"positiveRate\": 0.009, \"state\": \"New York\", \"sma7d\": 9.143}, {\"date\": \"2020-08-03T00:00:00\", \"totalTestResultsIncrease\": 51839.0, \"positiveIncrease\": 545.0, \"death\": 25172.0, \"deathIncrease\": 2.0, \"positiveRate\": 0.011, \"state\": \"New York\", \"sma7d\": 7.857}, {\"date\": \"2020-08-04T00:00:00\", \"totalTestResultsIncrease\": 70993.0, \"positiveIncrease\": 746.0, \"death\": 25175.0, \"deathIncrease\": 3.0, \"positiveRate\": 0.011, \"state\": \"New York\", \"sma7d\": 7.0}, {\"date\": \"2020-08-05T00:00:00\", \"totalTestResultsIncrease\": 72668.0, \"positiveIncrease\": 636.0, \"death\": 25179.0, \"deathIncrease\": 4.0, \"positiveRate\": 0.009, \"state\": \"New York\", \"sma7d\": 6.714}, {\"date\": \"2020-08-06T00:00:00\", \"totalTestResultsIncrease\": 72370.0, \"positiveIncrease\": 703.0, \"death\": 25185.0, \"deathIncrease\": 6.0, \"positiveRate\": 0.01, \"state\": \"New York\", \"sma7d\": 5.714}, {\"date\": \"2020-08-07T00:00:00\", \"totalTestResultsIncrease\": 70170.0, \"positiveIncrease\": 714.0, \"death\": 25190.0, \"deathIncrease\": 5.0, \"positiveRate\": 0.01, \"state\": \"New York\", \"sma7d\": 5.714}, {\"date\": \"2020-08-08T00:00:00\", \"totalTestResultsIncrease\": 74857.0, \"positiveIncrease\": 703.0, \"death\": 25195.0, \"deathIncrease\": 5.0, \"positiveRate\": 0.009, \"state\": \"New York\", \"sma7d\": 4.429}, {\"date\": \"2020-08-09T00:00:00\", \"totalTestResultsIncrease\": 65812.0, \"positiveIncrease\": 515.0, \"death\": 25202.0, \"deathIncrease\": 7.0, \"positiveRate\": 0.008, \"state\": \"New York\", \"sma7d\": 4.571}, {\"date\": \"2020-08-10T00:00:00\", \"totalTestResultsIncrease\": 54002.0, \"positiveIncrease\": 476.0, \"death\": 25204.0, \"deathIncrease\": 2.0, \"positiveRate\": 0.009, \"state\": \"New York\", \"sma7d\": 4.571}, {\"date\": \"2020-08-11T00:00:00\", \"totalTestResultsIncrease\": 77059.0, \"positiveIncrease\": 667.0, \"death\": 25211.0, \"deathIncrease\": 7.0, \"positiveRate\": 0.009, \"state\": \"New York\", \"sma7d\": 5.143}, {\"date\": \"2020-08-12T00:00:00\", \"totalTestResultsIncrease\": 87776.0, \"positiveIncrease\": 700.0, \"death\": 25218.0, \"deathIncrease\": 7.0, \"positiveRate\": 0.008, \"state\": \"New York\", \"sma7d\": 5.571}, {\"date\": \"2020-08-13T00:00:00\", \"totalTestResultsIncrease\": 87900.0, \"positiveIncrease\": 737.0, \"death\": 25228.0, \"deathIncrease\": 10.0, \"positiveRate\": 0.008, \"state\": \"New York\", \"sma7d\": 6.143}, {\"date\": \"2020-08-14T00:00:00\", \"totalTestResultsIncrease\": 85455.0, \"positiveIncrease\": 727.0, \"death\": 25232.0, \"deathIncrease\": 4.0, \"positiveRate\": 0.009, \"state\": \"New York\", \"sma7d\": 6.0}, {\"date\": \"2020-08-15T00:00:00\", \"totalTestResultsIncrease\": 88668.0, \"positiveIncrease\": 734.0, \"death\": 25244.0, \"deathIncrease\": 12.0, \"positiveRate\": 0.008, \"state\": \"New York\", \"sma7d\": 7.0}, {\"date\": \"2020-08-16T00:00:00\", \"totalTestResultsIncrease\": 77692.0, \"positiveIncrease\": 607.0, \"death\": 25250.0, \"deathIncrease\": 6.0, \"positiveRate\": 0.008, \"state\": \"New York\", \"sma7d\": 6.857}, {\"date\": \"2020-08-17T00:00:00\", \"totalTestResultsIncrease\": 56891.0, \"positiveIncrease\": 408.0, \"death\": 25256.0, \"deathIncrease\": 6.0, \"positiveRate\": 0.007, \"state\": \"New York\", \"sma7d\": 7.429}, {\"date\": \"2020-08-18T00:00:00\", \"totalTestResultsIncrease\": 66891.0, \"positiveIncrease\": 655.0, \"death\": 25264.0, \"deathIncrease\": 8.0, \"positiveRate\": 0.01, \"state\": \"New York\", \"sma7d\": 7.571}]}}, {\"mode\": \"vega-lite\"});\n",
       "</script>"
      ],
      "text/plain": [
       "alt.LayerChart(...)"
      ]
     },
     "execution_count": 13,
     "metadata": {},
     "output_type": "execute_result"
    }
   ],
   "source": [
    "create_plot(ny, 'deathIncrease')"
   ]
  },
  {
   "cell_type": "markdown",
   "metadata": {
    "papermill": {
     "duration": 0.016954,
     "end_time": "2020-08-18T22:33:31.587619",
     "exception": false,
     "start_time": "2020-08-18T22:33:31.570665",
     "status": "completed"
    },
    "tags": []
   },
   "source": [
    "## Non Tri-State"
   ]
  },
  {
   "cell_type": "code",
   "execution_count": 14,
   "metadata": {
    "execution": {
     "iopub.execute_input": "2020-08-18T22:33:31.624049Z",
     "iopub.status.busy": "2020-08-18T22:33:31.623304Z",
     "iopub.status.idle": "2020-08-18T22:33:31.884447Z",
     "shell.execute_reply": "2020-08-18T22:33:31.883997Z"
    },
    "papermill": {
     "duration": 0.280924,
     "end_time": "2020-08-18T22:33:31.884569",
     "exception": false,
     "start_time": "2020-08-18T22:33:31.603645",
     "status": "completed"
    },
    "tags": []
   },
   "outputs": [],
   "source": [
    "non_tristate = create_df(df, lambda d: ~d['state'].isin(['CT','NJ','NY']), 'Non Tri-State')"
   ]
  },
  {
   "cell_type": "code",
   "execution_count": 15,
   "metadata": {
    "execution": {
     "iopub.execute_input": "2020-08-18T22:33:31.930372Z",
     "iopub.status.busy": "2020-08-18T22:33:31.916956Z",
     "iopub.status.idle": "2020-08-18T22:33:32.000280Z",
     "shell.execute_reply": "2020-08-18T22:33:32.000723Z"
    },
    "papermill": {
     "duration": 0.101388,
     "end_time": "2020-08-18T22:33:32.000852",
     "exception": false,
     "start_time": "2020-08-18T22:33:31.899464",
     "status": "completed"
    },
    "tags": []
   },
   "outputs": [
    {
     "data": {
      "text/html": [
       "\n",
       "<div id=\"altair-viz-6a3365020f0647adbb0293c871d50cd2\"></div>\n",
       "<script type=\"text/javascript\">\n",
       "  (function(spec, embedOpt){\n",
       "    let outputDiv = document.currentScript.previousElementSibling;\n",
       "    if (outputDiv.id !== \"altair-viz-6a3365020f0647adbb0293c871d50cd2\") {\n",
       "      outputDiv = document.getElementById(\"altair-viz-6a3365020f0647adbb0293c871d50cd2\");\n",
       "    }\n",
       "    const paths = {\n",
       "      \"vega\": \"https://cdn.jsdelivr.net/npm//vega@5?noext\",\n",
       "      \"vega-lib\": \"https://cdn.jsdelivr.net/npm//vega-lib?noext\",\n",
       "      \"vega-lite\": \"https://cdn.jsdelivr.net/npm//vega-lite@4.8.1?noext\",\n",
       "      \"vega-embed\": \"https://cdn.jsdelivr.net/npm//vega-embed@6?noext\",\n",
       "    };\n",
       "\n",
       "    function loadScript(lib) {\n",
       "      return new Promise(function(resolve, reject) {\n",
       "        var s = document.createElement('script');\n",
       "        s.src = paths[lib];\n",
       "        s.async = true;\n",
       "        s.onload = () => resolve(paths[lib]);\n",
       "        s.onerror = () => reject(`Error loading script: ${paths[lib]}`);\n",
       "        document.getElementsByTagName(\"head\")[0].appendChild(s);\n",
       "      });\n",
       "    }\n",
       "\n",
       "    function showError(err) {\n",
       "      outputDiv.innerHTML = `<div class=\"error\" style=\"color:red;\">${err}</div>`;\n",
       "      throw err;\n",
       "    }\n",
       "\n",
       "    function displayChart(vegaEmbed) {\n",
       "      vegaEmbed(outputDiv, spec, embedOpt)\n",
       "        .catch(err => showError(`Javascript Error: ${err.message}<br>This usually means there's a typo in your chart specification. See the javascript console for the full traceback.`));\n",
       "    }\n",
       "\n",
       "    if(typeof define === \"function\" && define.amd) {\n",
       "      requirejs.config({paths});\n",
       "      require([\"vega-embed\"], displayChart, err => showError(`Error loading script: ${err.message}`));\n",
       "    } else if (typeof vegaEmbed === \"function\") {\n",
       "      displayChart(vegaEmbed);\n",
       "    } else {\n",
       "      loadScript(\"vega\")\n",
       "        .then(() => loadScript(\"vega-lite\"))\n",
       "        .then(() => loadScript(\"vega-embed\"))\n",
       "        .catch(showError)\n",
       "        .then(() => displayChart(vegaEmbed));\n",
       "    }\n",
       "  })({\"config\": {\"view\": {\"continuousWidth\": 400, \"continuousHeight\": 300}}, \"layer\": [{\"layer\": [{\"mark\": {\"type\": \"point\", \"size\": 75}, \"encoding\": {\"tooltip\": [{\"type\": \"temporal\", \"field\": \"date\"}, {\"type\": \"quantitative\", \"field\": \"positiveIncrease\"}, {\"type\": \"quantitative\", \"field\": \"sma7d\"}], \"x\": {\"type\": \"temporal\", \"field\": \"date\"}, \"y\": {\"type\": \"quantitative\", \"field\": \"positiveIncrease\"}}, \"selection\": {\"selector014\": {\"type\": \"interval\", \"bind\": \"scales\", \"encodings\": [\"x\", \"y\"]}}}, {\"mark\": {\"type\": \"line\", \"color\": \"purple\"}, \"encoding\": {\"x\": {\"type\": \"temporal\", \"field\": \"date\"}, \"y\": {\"type\": \"quantitative\", \"field\": \"sma7d\"}}}]}, {\"mark\": {\"type\": \"rule\", \"color\": \"#aaa\"}, \"encoding\": {\"x\": {\"type\": \"temporal\", \"field\": \"date\"}}, \"transform\": [{\"filter\": {\"selection\": \"selector013\"}}]}, {\"mark\": \"circle\", \"encoding\": {\"opacity\": {\"condition\": {\"value\": 1, \"selection\": \"selector013\"}, \"value\": 0}, \"tooltip\": [{\"type\": \"temporal\", \"field\": \"date\"}, {\"type\": \"quantitative\", \"field\": \"positiveIncrease\"}, {\"type\": \"quantitative\", \"field\": \"sma7d\"}], \"x\": {\"type\": \"temporal\", \"field\": \"date\"}, \"y\": {\"type\": \"quantitative\", \"field\": \"positiveIncrease\"}}, \"selection\": {\"selector013\": {\"type\": \"single\", \"encodings\": [\"x\"], \"on\": \"mouseover\", \"nearest\": true, \"empty\": \"none\"}}}, {\"mark\": {\"type\": \"text\", \"align\": \"left\", \"dx\": 5, \"dy\": -5, \"stroke\": \"white\", \"strokeWidth\": 2}, \"encoding\": {\"text\": {\"type\": \"quantitative\", \"field\": \"positiveIncrease\"}, \"tooltip\": [{\"type\": \"temporal\", \"field\": \"date\"}, {\"type\": \"quantitative\", \"field\": \"positiveIncrease\"}, {\"type\": \"quantitative\", \"field\": \"sma7d\"}], \"x\": {\"type\": \"temporal\", \"field\": \"date\"}, \"y\": {\"type\": \"quantitative\", \"field\": \"positiveIncrease\"}}, \"transform\": [{\"filter\": {\"selection\": \"selector013\"}}]}, {\"mark\": {\"type\": \"text\", \"align\": \"left\", \"dx\": 5, \"dy\": -5}, \"encoding\": {\"text\": {\"type\": \"quantitative\", \"field\": \"positiveIncrease\"}, \"tooltip\": [{\"type\": \"temporal\", \"field\": \"date\"}, {\"type\": \"quantitative\", \"field\": \"positiveIncrease\"}, {\"type\": \"quantitative\", \"field\": \"sma7d\"}], \"x\": {\"type\": \"temporal\", \"field\": \"date\"}, \"y\": {\"type\": \"quantitative\", \"field\": \"positiveIncrease\"}}, \"transform\": [{\"filter\": {\"selection\": \"selector013\"}}]}], \"data\": {\"name\": \"data-0ea87a9b1ef9dac715b779b5e8f3d93a\"}, \"height\": 400, \"title\": \"Non Tri-State: positiveIncrease\", \"width\": 500, \"$schema\": \"https://vega.github.io/schema/vega-lite/v4.8.1.json\", \"datasets\": {\"data-0ea87a9b1ef9dac715b779b5e8f3d93a\": [{\"date\": \"2020-06-24T00:00:00\", \"totalTestResultsIncrease\": 448998.0, \"positiveIncrease\": 37931.0, \"death\": 73245.0, \"deathIncrease\": 652.0, \"positiveRate\": 0.084, \"state\": \"Non Tri-State\", \"sma7d\": 29910.857}, {\"date\": \"2020-06-25T00:00:00\", \"totalTestResultsIncrease\": 543604.0, \"positiveIncrease\": 37938.0, \"death\": 73840.0, \"deathIncrease\": 595.0, \"positiveRate\": 0.07, \"state\": \"Non Tri-State\", \"sma7d\": 31545.714}, {\"date\": \"2020-06-26T00:00:00\", \"totalTestResultsIncrease\": 509921.0, \"positiveIncrease\": 43163.0, \"death\": 74411.0, \"deathIncrease\": 571.0, \"positiveRate\": 0.085, \"state\": \"Non Tri-State\", \"sma7d\": 33462.714}, {\"date\": \"2020-06-27T00:00:00\", \"totalTestResultsIncrease\": 499875.0, \"positiveIncrease\": 42644.0, \"death\": 74866.0, \"deathIncrease\": 455.0, \"positiveRate\": 0.085, \"state\": \"Non Tri-State\", \"sma7d\": 35157.286}, {\"date\": \"2020-06-28T00:00:00\", \"totalTestResultsIncrease\": 500156.0, \"positiveIncrease\": 40835.0, \"death\": 75100.0, \"deathIncrease\": 234.0, \"positiveRate\": 0.082, \"state\": \"Non Tri-State\", \"sma7d\": 37237.714}, {\"date\": \"2020-06-29T00:00:00\", \"totalTestResultsIncrease\": 564714.0, \"positiveIncrease\": 38635.0, \"death\": 75402.0, \"deathIncrease\": 302.0, \"positiveRate\": 0.068, \"state\": \"Non Tri-State\", \"sma7d\": 39019.143}, {\"date\": \"2020-06-30T00:00:00\", \"totalTestResultsIncrease\": 546024.0, \"positiveIncrease\": 46391.0, \"death\": 75940.0, \"deathIncrease\": 538.0, \"positiveRate\": 0.085, \"state\": \"Non Tri-State\", \"sma7d\": 41076.714}, {\"date\": \"2020-07-01T00:00:00\", \"totalTestResultsIncrease\": 546760.0, \"positiveIncrease\": 49730.0, \"death\": 76585.0, \"deathIncrease\": 645.0, \"positiveRate\": 0.091, \"state\": \"Non Tri-State\", \"sma7d\": 42762.286}, {\"date\": \"2020-07-02T00:00:00\", \"totalTestResultsIncrease\": 565533.0, \"positiveIncrease\": 52449.0, \"death\": 77240.0, \"deathIncrease\": 655.0, \"positiveRate\": 0.093, \"state\": \"Non Tri-State\", \"sma7d\": 44835.286}, {\"date\": \"2020-07-03T00:00:00\", \"totalTestResultsIncrease\": 626849.0, \"positiveIncrease\": 52848.0, \"death\": 77763.0, \"deathIncrease\": 523.0, \"positiveRate\": 0.084, \"state\": \"Non Tri-State\", \"sma7d\": 46218.857}, {\"date\": \"2020-07-04T00:00:00\", \"totalTestResultsIncrease\": 560329.0, \"positiveIncrease\": 53717.0, \"death\": 78033.0, \"deathIncrease\": 270.0, \"positiveRate\": 0.096, \"state\": \"Non Tri-State\", \"sma7d\": 47800.714}, {\"date\": \"2020-07-05T00:00:00\", \"totalTestResultsIncrease\": 570111.0, \"positiveIncrease\": 44887.0, \"death\": 78212.0, \"deathIncrease\": 179.0, \"positiveRate\": 0.079, \"state\": \"Non Tri-State\", \"sma7d\": 48379.571}, {\"date\": \"2020-07-06T00:00:00\", \"totalTestResultsIncrease\": 429571.0, \"positiveIncrease\": 40614.0, \"death\": 78424.0, \"deathIncrease\": 212.0, \"positiveRate\": 0.095, \"state\": \"Non Tri-State\", \"sma7d\": 48662.286}, {\"date\": \"2020-07-07T00:00:00\", \"totalTestResultsIncrease\": 562735.0, \"positiveIncrease\": 50854.0, \"death\": 79283.0, \"deathIncrease\": 859.0, \"positiveRate\": 0.09, \"state\": \"Non Tri-State\", \"sma7d\": 49299.857}, {\"date\": \"2020-07-08T00:00:00\", \"totalTestResultsIncrease\": 550895.0, \"positiveIncrease\": 61219.0, \"death\": 80013.0, \"deathIncrease\": 730.0, \"positiveRate\": 0.111, \"state\": \"Non Tri-State\", \"sma7d\": 50941.143}, {\"date\": \"2020-07-09T00:00:00\", \"totalTestResultsIncrease\": 606590.0, \"positiveIncrease\": 57950.0, \"death\": 80835.0, \"deathIncrease\": 822.0, \"positiveRate\": 0.096, \"state\": \"Non Tri-State\", \"sma7d\": 51727.0}, {\"date\": \"2020-07-10T00:00:00\", \"totalTestResultsIncrease\": 718611.0, \"positiveIncrease\": 65393.0, \"death\": 81649.0, \"deathIncrease\": 814.0, \"positiveRate\": 0.091, \"state\": \"Non Tri-State\", \"sma7d\": 53519.143}, {\"date\": \"2020-07-11T00:00:00\", \"totalTestResultsIncrease\": 598349.0, \"positiveIncrease\": 61946.0, \"death\": 82354.0, \"deathIncrease\": 705.0, \"positiveRate\": 0.104, \"state\": \"Non Tri-State\", \"sma7d\": 54694.714}, {\"date\": \"2020-07-12T00:00:00\", \"totalTestResultsIncrease\": 646322.0, \"positiveIncrease\": 59962.0, \"death\": 82809.0, \"deathIncrease\": 455.0, \"positiveRate\": 0.093, \"state\": \"Non Tri-State\", \"sma7d\": 56848.286}, {\"date\": \"2020-07-13T00:00:00\", \"totalTestResultsIncrease\": 621803.0, \"positiveIncrease\": 57461.0, \"death\": 83084.0, \"deathIncrease\": 275.0, \"positiveRate\": 0.092, \"state\": \"Non Tri-State\", \"sma7d\": 59255.0}, {\"date\": \"2020-07-14T00:00:00\", \"totalTestResultsIncrease\": 681319.0, \"positiveIncrease\": 61554.0, \"death\": 83792.0, \"deathIncrease\": 708.0, \"positiveRate\": 0.09, \"state\": \"Non Tri-State\", \"sma7d\": 60783.571}, {\"date\": \"2020-07-15T00:00:00\", \"totalTestResultsIncrease\": 670106.0, \"positiveIncrease\": 64082.0, \"death\": 84608.0, \"deathIncrease\": 816.0, \"positiveRate\": 0.096, \"state\": \"Non Tri-State\", \"sma7d\": 61192.571}, {\"date\": \"2020-07-16T00:00:00\", \"totalTestResultsIncrease\": 728004.0, \"positiveIncrease\": 69847.0, \"death\": 85504.0, \"deathIncrease\": 896.0, \"positiveRate\": 0.096, \"state\": \"Non Tri-State\", \"sma7d\": 62892.143}, {\"date\": \"2020-07-17T00:00:00\", \"totalTestResultsIncrease\": 754870.0, \"positiveIncrease\": 76264.0, \"death\": 86419.0, \"deathIncrease\": 915.0, \"positiveRate\": 0.101, \"state\": \"Non Tri-State\", \"sma7d\": 64445.143}, {\"date\": \"2020-07-18T00:00:00\", \"totalTestResultsIncrease\": 686198.0, \"positiveIncrease\": 64163.0, \"death\": 87265.0, \"deathIncrease\": 846.0, \"positiveRate\": 0.094, \"state\": \"Non Tri-State\", \"sma7d\": 64761.857}, {\"date\": \"2020-07-19T00:00:00\", \"totalTestResultsIncrease\": 722562.0, \"positiveIncrease\": 64413.0, \"death\": 87771.0, \"deathIncrease\": 506.0, \"positiveRate\": 0.089, \"state\": \"Non Tri-State\", \"sma7d\": 65397.714}, {\"date\": \"2020-07-20T00:00:00\", \"totalTestResultsIncrease\": 645509.0, \"positiveIncrease\": 56110.0, \"death\": 88106.0, \"deathIncrease\": 335.0, \"positiveRate\": 0.087, \"state\": \"Non Tri-State\", \"sma7d\": 65204.714}, {\"date\": \"2020-07-21T00:00:00\", \"totalTestResultsIncrease\": 673533.0, \"positiveIncrease\": 62453.0, \"death\": 89120.0, \"deathIncrease\": 1014.0, \"positiveRate\": 0.093, \"state\": \"Non Tri-State\", \"sma7d\": 65333.143}, {\"date\": \"2020-07-22T00:00:00\", \"totalTestResultsIncrease\": 698496.0, \"positiveIncrease\": 67929.0, \"death\": 90257.0, \"deathIncrease\": 1137.0, \"positiveRate\": 0.097, \"state\": \"Non Tri-State\", \"sma7d\": 65882.714}, {\"date\": \"2020-07-23T00:00:00\", \"totalTestResultsIncrease\": 743492.0, \"positiveIncrease\": 70292.0, \"death\": 91272.0, \"deathIncrease\": 1015.0, \"positiveRate\": 0.095, \"state\": \"Non Tri-State\", \"sma7d\": 65946.286}, {\"date\": \"2020-07-24T00:00:00\", \"totalTestResultsIncrease\": 804370.0, \"positiveIncrease\": 73449.0, \"death\": 92401.0, \"deathIncrease\": 1129.0, \"positiveRate\": 0.091, \"state\": \"Non Tri-State\", \"sma7d\": 65544.143}, {\"date\": \"2020-07-25T00:00:00\", \"totalTestResultsIncrease\": 722679.0, \"positiveIncrease\": 63812.0, \"death\": 93400.0, \"deathIncrease\": 999.0, \"positiveRate\": 0.088, \"state\": \"Non Tri-State\", \"sma7d\": 65494.0}, {\"date\": \"2020-07-26T00:00:00\", \"totalTestResultsIncrease\": 747111.0, \"positiveIncrease\": 60672.0, \"death\": 93944.0, \"deathIncrease\": 544.0, \"positiveRate\": 0.081, \"state\": \"Non Tri-State\", \"sma7d\": 64959.571}, {\"date\": \"2020-07-27T00:00:00\", \"totalTestResultsIncrease\": 641282.0, \"positiveIncrease\": 53870.0, \"death\": 94970.0, \"deathIncrease\": 1026.0, \"positiveRate\": 0.084, \"state\": \"Non Tri-State\", \"sma7d\": 64639.571}, {\"date\": \"2020-07-28T00:00:00\", \"totalTestResultsIncrease\": 670436.0, \"positiveIncrease\": 55118.0, \"death\": 96056.0, \"deathIncrease\": 1086.0, \"positiveRate\": 0.082, \"state\": \"Non Tri-State\", \"sma7d\": 63591.714}, {\"date\": \"2020-07-29T00:00:00\", \"totalTestResultsIncrease\": 727393.0, \"positiveIncrease\": 65320.0, \"death\": 97522.0, \"deathIncrease\": 1466.0, \"positiveRate\": 0.09, \"state\": \"Non Tri-State\", \"sma7d\": 63219.0}, {\"date\": \"2020-07-30T00:00:00\", \"totalTestResultsIncrease\": 709764.0, \"positiveIncrease\": 68355.0, \"death\": 98751.0, \"deathIncrease\": 1229.0, \"positiveRate\": 0.096, \"state\": \"Non Tri-State\", \"sma7d\": 62942.286}, {\"date\": \"2020-07-31T00:00:00\", \"totalTestResultsIncrease\": 611518.0, \"positiveIncrease\": 66281.0, \"death\": 100046.0, \"deathIncrease\": 1295.0, \"positiveRate\": 0.108, \"state\": \"Non Tri-State\", \"sma7d\": 61918.286}, {\"date\": \"2020-08-01T00:00:00\", \"totalTestResultsIncrease\": 653565.0, \"positiveIncrease\": 59570.0, \"death\": 101210.0, \"deathIncrease\": 1164.0, \"positiveRate\": 0.091, \"state\": \"Non Tri-State\", \"sma7d\": 61312.286}, {\"date\": \"2020-08-02T00:00:00\", \"totalTestResultsIncrease\": 614422.0, \"positiveIncrease\": 47414.0, \"death\": 101696.0, \"deathIncrease\": 486.0, \"positiveRate\": 0.077, \"state\": \"Non Tri-State\", \"sma7d\": 59418.286}, {\"date\": \"2020-08-03T00:00:00\", \"totalTestResultsIncrease\": 628612.0, \"positiveIncrease\": 48500.0, \"death\": 102198.0, \"deathIncrease\": 502.0, \"positiveRate\": 0.077, \"state\": \"Non Tri-State\", \"sma7d\": 58651.143}, {\"date\": \"2020-08-04T00:00:00\", \"totalTestResultsIncrease\": 622795.0, \"positiveIncrease\": 50418.0, \"death\": 103439.0, \"deathIncrease\": 1241.0, \"positiveRate\": 0.081, \"state\": \"Non Tri-State\", \"sma7d\": 57979.714}, {\"date\": \"2020-08-05T00:00:00\", \"totalTestResultsIncrease\": 578567.0, \"positiveIncrease\": 51157.0, \"death\": 104774.0, \"deathIncrease\": 1335.0, \"positiveRate\": 0.088, \"state\": \"Non Tri-State\", \"sma7d\": 55956.429}, {\"date\": \"2020-08-06T00:00:00\", \"totalTestResultsIncrease\": 628129.0, \"positiveIncrease\": 53087.0, \"death\": 106012.0, \"deathIncrease\": 1238.0, \"positiveRate\": 0.085, \"state\": \"Non Tri-State\", \"sma7d\": 53775.286}, {\"date\": \"2020-08-07T00:00:00\", \"totalTestResultsIncrease\": 670946.0, \"positiveIncrease\": 60371.0, \"death\": 107325.0, \"deathIncrease\": 1313.0, \"positiveRate\": 0.09, \"state\": \"Non Tri-State\", \"sma7d\": 52931.0}, {\"date\": \"2020-08-08T00:00:00\", \"totalTestResultsIncrease\": 599828.0, \"positiveIncrease\": 53020.0, \"death\": 108400.0, \"deathIncrease\": 1075.0, \"positiveRate\": 0.088, \"state\": \"Non Tri-State\", \"sma7d\": 51995.286}, {\"date\": \"2020-08-09T00:00:00\", \"totalTestResultsIncrease\": 605114.0, \"positiveIncrease\": 50460.0, \"death\": 109004.0, \"deathIncrease\": 604.0, \"positiveRate\": 0.083, \"state\": \"Non Tri-State\", \"sma7d\": 52430.429}, {\"date\": \"2020-08-10T00:00:00\", \"totalTestResultsIncrease\": 608023.0, \"positiveIncrease\": 40826.0, \"death\": 109421.0, \"deathIncrease\": 417.0, \"positiveRate\": 0.067, \"state\": \"Non Tri-State\", \"sma7d\": 51334.143}, {\"date\": \"2020-08-11T00:00:00\", \"totalTestResultsIncrease\": 632932.0, \"positiveIncrease\": 54366.0, \"death\": 110728.0, \"deathIncrease\": 1307.0, \"positiveRate\": 0.086, \"state\": \"Non Tri-State\", \"sma7d\": 51898.143}, {\"date\": \"2020-08-12T00:00:00\", \"totalTestResultsIncrease\": 362622.0, \"positiveIncrease\": 54850.0, \"death\": 112223.0, \"deathIncrease\": 1495.0, \"positiveRate\": 0.151, \"state\": \"Non Tri-State\", \"sma7d\": 52425.714}, {\"date\": \"2020-08-13T00:00:00\", \"totalTestResultsIncrease\": 762066.0, \"positiveIncrease\": 50236.0, \"death\": 113368.0, \"deathIncrease\": 1145.0, \"positiveRate\": 0.066, \"state\": \"Non Tri-State\", \"sma7d\": 52018.429}, {\"date\": \"2020-08-14T00:00:00\", \"totalTestResultsIncrease\": 726496.0, \"positiveIncrease\": 54237.0, \"death\": 114567.0, \"deathIncrease\": 1199.0, \"positiveRate\": 0.075, \"state\": \"Non Tri-State\", \"sma7d\": 51142.143}, {\"date\": \"2020-08-15T00:00:00\", \"totalTestResultsIncrease\": 628439.0, \"positiveIncrease\": 55591.0, \"death\": 115767.0, \"deathIncrease\": 1200.0, \"positiveRate\": 0.088, \"state\": \"Non Tri-State\", \"sma7d\": 51509.429}, {\"date\": \"2020-08-16T00:00:00\", \"totalTestResultsIncrease\": 679695.0, \"positiveIncrease\": 42463.0, \"death\": 116378.0, \"deathIncrease\": 611.0, \"positiveRate\": 0.062, \"state\": \"Non Tri-State\", \"sma7d\": 50367.0}, {\"date\": \"2020-08-17T00:00:00\", \"totalTestResultsIncrease\": 532396.0, \"positiveIncrease\": 36727.0, \"death\": 116772.0, \"deathIncrease\": 394.0, \"positiveRate\": 0.069, \"state\": \"Non Tri-State\", \"sma7d\": 49781.429}, {\"date\": \"2020-08-18T00:00:00\", \"totalTestResultsIncrease\": 549454.0, \"positiveIncrease\": 39484.0, \"death\": 117950.0, \"deathIncrease\": 1178.0, \"positiveRate\": 0.072, \"state\": \"Non Tri-State\", \"sma7d\": 47655.429}]}}, {\"mode\": \"vega-lite\"});\n",
       "</script>"
      ],
      "text/plain": [
       "alt.LayerChart(...)"
      ]
     },
     "execution_count": 15,
     "metadata": {},
     "output_type": "execute_result"
    }
   ],
   "source": [
    "create_plot(non_tristate, 'positiveIncrease')"
   ]
  },
  {
   "cell_type": "code",
   "execution_count": 16,
   "metadata": {
    "execution": {
     "iopub.execute_input": "2020-08-18T22:33:32.033658Z",
     "iopub.status.busy": "2020-08-18T22:33:32.033149Z",
     "iopub.status.idle": "2020-08-18T22:33:32.117446Z",
     "shell.execute_reply": "2020-08-18T22:33:32.117870Z"
    },
    "papermill": {
     "duration": 0.102258,
     "end_time": "2020-08-18T22:33:32.118010",
     "exception": false,
     "start_time": "2020-08-18T22:33:32.015752",
     "status": "completed"
    },
    "tags": []
   },
   "outputs": [
    {
     "data": {
      "text/html": [
       "\n",
       "<div id=\"altair-viz-801292563ca04813b723d1f29ebba9ba\"></div>\n",
       "<script type=\"text/javascript\">\n",
       "  (function(spec, embedOpt){\n",
       "    let outputDiv = document.currentScript.previousElementSibling;\n",
       "    if (outputDiv.id !== \"altair-viz-801292563ca04813b723d1f29ebba9ba\") {\n",
       "      outputDiv = document.getElementById(\"altair-viz-801292563ca04813b723d1f29ebba9ba\");\n",
       "    }\n",
       "    const paths = {\n",
       "      \"vega\": \"https://cdn.jsdelivr.net/npm//vega@5?noext\",\n",
       "      \"vega-lib\": \"https://cdn.jsdelivr.net/npm//vega-lib?noext\",\n",
       "      \"vega-lite\": \"https://cdn.jsdelivr.net/npm//vega-lite@4.8.1?noext\",\n",
       "      \"vega-embed\": \"https://cdn.jsdelivr.net/npm//vega-embed@6?noext\",\n",
       "    };\n",
       "\n",
       "    function loadScript(lib) {\n",
       "      return new Promise(function(resolve, reject) {\n",
       "        var s = document.createElement('script');\n",
       "        s.src = paths[lib];\n",
       "        s.async = true;\n",
       "        s.onload = () => resolve(paths[lib]);\n",
       "        s.onerror = () => reject(`Error loading script: ${paths[lib]}`);\n",
       "        document.getElementsByTagName(\"head\")[0].appendChild(s);\n",
       "      });\n",
       "    }\n",
       "\n",
       "    function showError(err) {\n",
       "      outputDiv.innerHTML = `<div class=\"error\" style=\"color:red;\">${err}</div>`;\n",
       "      throw err;\n",
       "    }\n",
       "\n",
       "    function displayChart(vegaEmbed) {\n",
       "      vegaEmbed(outputDiv, spec, embedOpt)\n",
       "        .catch(err => showError(`Javascript Error: ${err.message}<br>This usually means there's a typo in your chart specification. See the javascript console for the full traceback.`));\n",
       "    }\n",
       "\n",
       "    if(typeof define === \"function\" && define.amd) {\n",
       "      requirejs.config({paths});\n",
       "      require([\"vega-embed\"], displayChart, err => showError(`Error loading script: ${err.message}`));\n",
       "    } else if (typeof vegaEmbed === \"function\") {\n",
       "      displayChart(vegaEmbed);\n",
       "    } else {\n",
       "      loadScript(\"vega\")\n",
       "        .then(() => loadScript(\"vega-lite\"))\n",
       "        .then(() => loadScript(\"vega-embed\"))\n",
       "        .catch(showError)\n",
       "        .then(() => displayChart(vegaEmbed));\n",
       "    }\n",
       "  })({\"config\": {\"view\": {\"continuousWidth\": 400, \"continuousHeight\": 300}}, \"layer\": [{\"layer\": [{\"mark\": {\"type\": \"point\", \"size\": 75}, \"encoding\": {\"tooltip\": [{\"type\": \"temporal\", \"field\": \"date\"}, {\"type\": \"quantitative\", \"field\": \"positiveRate\"}, {\"type\": \"quantitative\", \"field\": \"sma7d\"}], \"x\": {\"type\": \"temporal\", \"field\": \"date\"}, \"y\": {\"type\": \"quantitative\", \"field\": \"positiveRate\"}}, \"selection\": {\"selector016\": {\"type\": \"interval\", \"bind\": \"scales\", \"encodings\": [\"x\", \"y\"]}}}, {\"mark\": {\"type\": \"line\", \"color\": \"purple\"}, \"encoding\": {\"x\": {\"type\": \"temporal\", \"field\": \"date\"}, \"y\": {\"type\": \"quantitative\", \"field\": \"sma7d\"}}}]}, {\"mark\": {\"type\": \"rule\", \"color\": \"#aaa\"}, \"encoding\": {\"x\": {\"type\": \"temporal\", \"field\": \"date\"}}, \"transform\": [{\"filter\": {\"selection\": \"selector015\"}}]}, {\"mark\": \"circle\", \"encoding\": {\"opacity\": {\"condition\": {\"value\": 1, \"selection\": \"selector015\"}, \"value\": 0}, \"tooltip\": [{\"type\": \"temporal\", \"field\": \"date\"}, {\"type\": \"quantitative\", \"field\": \"positiveRate\"}, {\"type\": \"quantitative\", \"field\": \"sma7d\"}], \"x\": {\"type\": \"temporal\", \"field\": \"date\"}, \"y\": {\"type\": \"quantitative\", \"field\": \"positiveRate\"}}, \"selection\": {\"selector015\": {\"type\": \"single\", \"encodings\": [\"x\"], \"on\": \"mouseover\", \"nearest\": true, \"empty\": \"none\"}}}, {\"mark\": {\"type\": \"text\", \"align\": \"left\", \"dx\": 5, \"dy\": -5, \"stroke\": \"white\", \"strokeWidth\": 2}, \"encoding\": {\"text\": {\"type\": \"quantitative\", \"field\": \"positiveRate\"}, \"tooltip\": [{\"type\": \"temporal\", \"field\": \"date\"}, {\"type\": \"quantitative\", \"field\": \"positiveRate\"}, {\"type\": \"quantitative\", \"field\": \"sma7d\"}], \"x\": {\"type\": \"temporal\", \"field\": \"date\"}, \"y\": {\"type\": \"quantitative\", \"field\": \"positiveRate\"}}, \"transform\": [{\"filter\": {\"selection\": \"selector015\"}}]}, {\"mark\": {\"type\": \"text\", \"align\": \"left\", \"dx\": 5, \"dy\": -5}, \"encoding\": {\"text\": {\"type\": \"quantitative\", \"field\": \"positiveRate\"}, \"tooltip\": [{\"type\": \"temporal\", \"field\": \"date\"}, {\"type\": \"quantitative\", \"field\": \"positiveRate\"}, {\"type\": \"quantitative\", \"field\": \"sma7d\"}], \"x\": {\"type\": \"temporal\", \"field\": \"date\"}, \"y\": {\"type\": \"quantitative\", \"field\": \"positiveRate\"}}, \"transform\": [{\"filter\": {\"selection\": \"selector015\"}}]}], \"data\": {\"name\": \"data-b8871679ea31bca202d446a474e10296\"}, \"height\": 400, \"title\": \"Non Tri-State: positiveRate\", \"width\": 500, \"$schema\": \"https://vega.github.io/schema/vega-lite/v4.8.1.json\", \"datasets\": {\"data-b8871679ea31bca202d446a474e10296\": [{\"date\": \"2020-06-24T00:00:00\", \"totalTestResultsIncrease\": 448998.0, \"positiveIncrease\": 37931.0, \"death\": 73245.0, \"deathIncrease\": 652.0, \"positiveRate\": 0.084, \"state\": \"Non Tri-State\", \"sma7d\": 0.069}, {\"date\": \"2020-06-25T00:00:00\", \"totalTestResultsIncrease\": 543604.0, \"positiveIncrease\": 37938.0, \"death\": 73840.0, \"deathIncrease\": 595.0, \"positiveRate\": 0.07, \"state\": \"Non Tri-State\", \"sma7d\": 0.07}, {\"date\": \"2020-06-26T00:00:00\", \"totalTestResultsIncrease\": 509921.0, \"positiveIncrease\": 43163.0, \"death\": 74411.0, \"deathIncrease\": 571.0, \"positiveRate\": 0.085, \"state\": \"Non Tri-State\", \"sma7d\": 0.073}, {\"date\": \"2020-06-27T00:00:00\", \"totalTestResultsIncrease\": 499875.0, \"positiveIncrease\": 42644.0, \"death\": 74866.0, \"deathIncrease\": 455.0, \"positiveRate\": 0.085, \"state\": \"Non Tri-State\", \"sma7d\": 0.076}, {\"date\": \"2020-06-28T00:00:00\", \"totalTestResultsIncrease\": 500156.0, \"positiveIncrease\": 40835.0, \"death\": 75100.0, \"deathIncrease\": 234.0, \"positiveRate\": 0.082, \"state\": \"Non Tri-State\", \"sma7d\": 0.078}, {\"date\": \"2020-06-29T00:00:00\", \"totalTestResultsIncrease\": 564714.0, \"positiveIncrease\": 38635.0, \"death\": 75402.0, \"deathIncrease\": 302.0, \"positiveRate\": 0.068, \"state\": \"Non Tri-State\", \"sma7d\": 0.078}, {\"date\": \"2020-06-30T00:00:00\", \"totalTestResultsIncrease\": 546024.0, \"positiveIncrease\": 46391.0, \"death\": 75940.0, \"deathIncrease\": 538.0, \"positiveRate\": 0.085, \"state\": \"Non Tri-State\", \"sma7d\": 0.08}, {\"date\": \"2020-07-01T00:00:00\", \"totalTestResultsIncrease\": 546760.0, \"positiveIncrease\": 49730.0, \"death\": 76585.0, \"deathIncrease\": 645.0, \"positiveRate\": 0.091, \"state\": \"Non Tri-State\", \"sma7d\": 0.081}, {\"date\": \"2020-07-02T00:00:00\", \"totalTestResultsIncrease\": 565533.0, \"positiveIncrease\": 52449.0, \"death\": 77240.0, \"deathIncrease\": 655.0, \"positiveRate\": 0.093, \"state\": \"Non Tri-State\", \"sma7d\": 0.084}, {\"date\": \"2020-07-03T00:00:00\", \"totalTestResultsIncrease\": 626849.0, \"positiveIncrease\": 52848.0, \"death\": 77763.0, \"deathIncrease\": 523.0, \"positiveRate\": 0.084, \"state\": \"Non Tri-State\", \"sma7d\": 0.084}, {\"date\": \"2020-07-04T00:00:00\", \"totalTestResultsIncrease\": 560329.0, \"positiveIncrease\": 53717.0, \"death\": 78033.0, \"deathIncrease\": 270.0, \"positiveRate\": 0.096, \"state\": \"Non Tri-State\", \"sma7d\": 0.086}, {\"date\": \"2020-07-05T00:00:00\", \"totalTestResultsIncrease\": 570111.0, \"positiveIncrease\": 44887.0, \"death\": 78212.0, \"deathIncrease\": 179.0, \"positiveRate\": 0.079, \"state\": \"Non Tri-State\", \"sma7d\": 0.085}, {\"date\": \"2020-07-06T00:00:00\", \"totalTestResultsIncrease\": 429571.0, \"positiveIncrease\": 40614.0, \"death\": 78424.0, \"deathIncrease\": 212.0, \"positiveRate\": 0.095, \"state\": \"Non Tri-State\", \"sma7d\": 0.089}, {\"date\": \"2020-07-07T00:00:00\", \"totalTestResultsIncrease\": 562735.0, \"positiveIncrease\": 50854.0, \"death\": 79283.0, \"deathIncrease\": 859.0, \"positiveRate\": 0.09, \"state\": \"Non Tri-State\", \"sma7d\": 0.09}, {\"date\": \"2020-07-08T00:00:00\", \"totalTestResultsIncrease\": 550895.0, \"positiveIncrease\": 61219.0, \"death\": 80013.0, \"deathIncrease\": 730.0, \"positiveRate\": 0.111, \"state\": \"Non Tri-State\", \"sma7d\": 0.093}, {\"date\": \"2020-07-09T00:00:00\", \"totalTestResultsIncrease\": 606590.0, \"positiveIncrease\": 57950.0, \"death\": 80835.0, \"deathIncrease\": 822.0, \"positiveRate\": 0.096, \"state\": \"Non Tri-State\", \"sma7d\": 0.093}, {\"date\": \"2020-07-10T00:00:00\", \"totalTestResultsIncrease\": 718611.0, \"positiveIncrease\": 65393.0, \"death\": 81649.0, \"deathIncrease\": 814.0, \"positiveRate\": 0.091, \"state\": \"Non Tri-State\", \"sma7d\": 0.094}, {\"date\": \"2020-07-11T00:00:00\", \"totalTestResultsIncrease\": 598349.0, \"positiveIncrease\": 61946.0, \"death\": 82354.0, \"deathIncrease\": 705.0, \"positiveRate\": 0.104, \"state\": \"Non Tri-State\", \"sma7d\": 0.095}, {\"date\": \"2020-07-12T00:00:00\", \"totalTestResultsIncrease\": 646322.0, \"positiveIncrease\": 59962.0, \"death\": 82809.0, \"deathIncrease\": 455.0, \"positiveRate\": 0.093, \"state\": \"Non Tri-State\", \"sma7d\": 0.097}, {\"date\": \"2020-07-13T00:00:00\", \"totalTestResultsIncrease\": 621803.0, \"positiveIncrease\": 57461.0, \"death\": 83084.0, \"deathIncrease\": 275.0, \"positiveRate\": 0.092, \"state\": \"Non Tri-State\", \"sma7d\": 0.097}, {\"date\": \"2020-07-14T00:00:00\", \"totalTestResultsIncrease\": 681319.0, \"positiveIncrease\": 61554.0, \"death\": 83792.0, \"deathIncrease\": 708.0, \"positiveRate\": 0.09, \"state\": \"Non Tri-State\", \"sma7d\": 0.097}, {\"date\": \"2020-07-15T00:00:00\", \"totalTestResultsIncrease\": 670106.0, \"positiveIncrease\": 64082.0, \"death\": 84608.0, \"deathIncrease\": 816.0, \"positiveRate\": 0.096, \"state\": \"Non Tri-State\", \"sma7d\": 0.095}, {\"date\": \"2020-07-16T00:00:00\", \"totalTestResultsIncrease\": 728004.0, \"positiveIncrease\": 69847.0, \"death\": 85504.0, \"deathIncrease\": 896.0, \"positiveRate\": 0.096, \"state\": \"Non Tri-State\", \"sma7d\": 0.095}, {\"date\": \"2020-07-17T00:00:00\", \"totalTestResultsIncrease\": 754870.0, \"positiveIncrease\": 76264.0, \"death\": 86419.0, \"deathIncrease\": 915.0, \"positiveRate\": 0.101, \"state\": \"Non Tri-State\", \"sma7d\": 0.096}, {\"date\": \"2020-07-18T00:00:00\", \"totalTestResultsIncrease\": 686198.0, \"positiveIncrease\": 64163.0, \"death\": 87265.0, \"deathIncrease\": 846.0, \"positiveRate\": 0.094, \"state\": \"Non Tri-State\", \"sma7d\": 0.095}, {\"date\": \"2020-07-19T00:00:00\", \"totalTestResultsIncrease\": 722562.0, \"positiveIncrease\": 64413.0, \"death\": 87771.0, \"deathIncrease\": 506.0, \"positiveRate\": 0.089, \"state\": \"Non Tri-State\", \"sma7d\": 0.094}, {\"date\": \"2020-07-20T00:00:00\", \"totalTestResultsIncrease\": 645509.0, \"positiveIncrease\": 56110.0, \"death\": 88106.0, \"deathIncrease\": 335.0, \"positiveRate\": 0.087, \"state\": \"Non Tri-State\", \"sma7d\": 0.093}, {\"date\": \"2020-07-21T00:00:00\", \"totalTestResultsIncrease\": 673533.0, \"positiveIncrease\": 62453.0, \"death\": 89120.0, \"deathIncrease\": 1014.0, \"positiveRate\": 0.093, \"state\": \"Non Tri-State\", \"sma7d\": 0.094}, {\"date\": \"2020-07-22T00:00:00\", \"totalTestResultsIncrease\": 698496.0, \"positiveIncrease\": 67929.0, \"death\": 90257.0, \"deathIncrease\": 1137.0, \"positiveRate\": 0.097, \"state\": \"Non Tri-State\", \"sma7d\": 0.094}, {\"date\": \"2020-07-23T00:00:00\", \"totalTestResultsIncrease\": 743492.0, \"positiveIncrease\": 70292.0, \"death\": 91272.0, \"deathIncrease\": 1015.0, \"positiveRate\": 0.095, \"state\": \"Non Tri-State\", \"sma7d\": 0.094}, {\"date\": \"2020-07-24T00:00:00\", \"totalTestResultsIncrease\": 804370.0, \"positiveIncrease\": 73449.0, \"death\": 92401.0, \"deathIncrease\": 1129.0, \"positiveRate\": 0.091, \"state\": \"Non Tri-State\", \"sma7d\": 0.092}, {\"date\": \"2020-07-25T00:00:00\", \"totalTestResultsIncrease\": 722679.0, \"positiveIncrease\": 63812.0, \"death\": 93400.0, \"deathIncrease\": 999.0, \"positiveRate\": 0.088, \"state\": \"Non Tri-State\", \"sma7d\": 0.091}, {\"date\": \"2020-07-26T00:00:00\", \"totalTestResultsIncrease\": 747111.0, \"positiveIncrease\": 60672.0, \"death\": 93944.0, \"deathIncrease\": 544.0, \"positiveRate\": 0.081, \"state\": \"Non Tri-State\", \"sma7d\": 0.09}, {\"date\": \"2020-07-27T00:00:00\", \"totalTestResultsIncrease\": 641282.0, \"positiveIncrease\": 53870.0, \"death\": 94970.0, \"deathIncrease\": 1026.0, \"positiveRate\": 0.084, \"state\": \"Non Tri-State\", \"sma7d\": 0.09}, {\"date\": \"2020-07-28T00:00:00\", \"totalTestResultsIncrease\": 670436.0, \"positiveIncrease\": 55118.0, \"death\": 96056.0, \"deathIncrease\": 1086.0, \"positiveRate\": 0.082, \"state\": \"Non Tri-State\", \"sma7d\": 0.088}, {\"date\": \"2020-07-29T00:00:00\", \"totalTestResultsIncrease\": 727393.0, \"positiveIncrease\": 65320.0, \"death\": 97522.0, \"deathIncrease\": 1466.0, \"positiveRate\": 0.09, \"state\": \"Non Tri-State\", \"sma7d\": 0.087}, {\"date\": \"2020-07-30T00:00:00\", \"totalTestResultsIncrease\": 709764.0, \"positiveIncrease\": 68355.0, \"death\": 98751.0, \"deathIncrease\": 1229.0, \"positiveRate\": 0.096, \"state\": \"Non Tri-State\", \"sma7d\": 0.087}, {\"date\": \"2020-07-31T00:00:00\", \"totalTestResultsIncrease\": 611518.0, \"positiveIncrease\": 66281.0, \"death\": 100046.0, \"deathIncrease\": 1295.0, \"positiveRate\": 0.108, \"state\": \"Non Tri-State\", \"sma7d\": 0.09}, {\"date\": \"2020-08-01T00:00:00\", \"totalTestResultsIncrease\": 653565.0, \"positiveIncrease\": 59570.0, \"death\": 101210.0, \"deathIncrease\": 1164.0, \"positiveRate\": 0.091, \"state\": \"Non Tri-State\", \"sma7d\": 0.09}, {\"date\": \"2020-08-02T00:00:00\", \"totalTestResultsIncrease\": 614422.0, \"positiveIncrease\": 47414.0, \"death\": 101696.0, \"deathIncrease\": 486.0, \"positiveRate\": 0.077, \"state\": \"Non Tri-State\", \"sma7d\": 0.09}, {\"date\": \"2020-08-03T00:00:00\", \"totalTestResultsIncrease\": 628612.0, \"positiveIncrease\": 48500.0, \"death\": 102198.0, \"deathIncrease\": 502.0, \"positiveRate\": 0.077, \"state\": \"Non Tri-State\", \"sma7d\": 0.089}, {\"date\": \"2020-08-04T00:00:00\", \"totalTestResultsIncrease\": 622795.0, \"positiveIncrease\": 50418.0, \"death\": 103439.0, \"deathIncrease\": 1241.0, \"positiveRate\": 0.081, \"state\": \"Non Tri-State\", \"sma7d\": 0.089}, {\"date\": \"2020-08-05T00:00:00\", \"totalTestResultsIncrease\": 578567.0, \"positiveIncrease\": 51157.0, \"death\": 104774.0, \"deathIncrease\": 1335.0, \"positiveRate\": 0.088, \"state\": \"Non Tri-State\", \"sma7d\": 0.088}, {\"date\": \"2020-08-06T00:00:00\", \"totalTestResultsIncrease\": 628129.0, \"positiveIncrease\": 53087.0, \"death\": 106012.0, \"deathIncrease\": 1238.0, \"positiveRate\": 0.085, \"state\": \"Non Tri-State\", \"sma7d\": 0.087}, {\"date\": \"2020-08-07T00:00:00\", \"totalTestResultsIncrease\": 670946.0, \"positiveIncrease\": 60371.0, \"death\": 107325.0, \"deathIncrease\": 1313.0, \"positiveRate\": 0.09, \"state\": \"Non Tri-State\", \"sma7d\": 0.084}, {\"date\": \"2020-08-08T00:00:00\", \"totalTestResultsIncrease\": 599828.0, \"positiveIncrease\": 53020.0, \"death\": 108400.0, \"deathIncrease\": 1075.0, \"positiveRate\": 0.088, \"state\": \"Non Tri-State\", \"sma7d\": 0.084}, {\"date\": \"2020-08-09T00:00:00\", \"totalTestResultsIncrease\": 605114.0, \"positiveIncrease\": 50460.0, \"death\": 109004.0, \"deathIncrease\": 604.0, \"positiveRate\": 0.083, \"state\": \"Non Tri-State\", \"sma7d\": 0.085}, {\"date\": \"2020-08-10T00:00:00\", \"totalTestResultsIncrease\": 608023.0, \"positiveIncrease\": 40826.0, \"death\": 109421.0, \"deathIncrease\": 417.0, \"positiveRate\": 0.067, \"state\": \"Non Tri-State\", \"sma7d\": 0.083}, {\"date\": \"2020-08-11T00:00:00\", \"totalTestResultsIncrease\": 632932.0, \"positiveIncrease\": 54366.0, \"death\": 110728.0, \"deathIncrease\": 1307.0, \"positiveRate\": 0.086, \"state\": \"Non Tri-State\", \"sma7d\": 0.084}, {\"date\": \"2020-08-12T00:00:00\", \"totalTestResultsIncrease\": 362622.0, \"positiveIncrease\": 54850.0, \"death\": 112223.0, \"deathIncrease\": 1495.0, \"positiveRate\": 0.151, \"state\": \"Non Tri-State\", \"sma7d\": 0.093}, {\"date\": \"2020-08-13T00:00:00\", \"totalTestResultsIncrease\": 762066.0, \"positiveIncrease\": 50236.0, \"death\": 113368.0, \"deathIncrease\": 1145.0, \"positiveRate\": 0.066, \"state\": \"Non Tri-State\", \"sma7d\": 0.09}, {\"date\": \"2020-08-14T00:00:00\", \"totalTestResultsIncrease\": 726496.0, \"positiveIncrease\": 54237.0, \"death\": 114567.0, \"deathIncrease\": 1199.0, \"positiveRate\": 0.075, \"state\": \"Non Tri-State\", \"sma7d\": 0.088}, {\"date\": \"2020-08-15T00:00:00\", \"totalTestResultsIncrease\": 628439.0, \"positiveIncrease\": 55591.0, \"death\": 115767.0, \"deathIncrease\": 1200.0, \"positiveRate\": 0.088, \"state\": \"Non Tri-State\", \"sma7d\": 0.088}, {\"date\": \"2020-08-16T00:00:00\", \"totalTestResultsIncrease\": 679695.0, \"positiveIncrease\": 42463.0, \"death\": 116378.0, \"deathIncrease\": 611.0, \"positiveRate\": 0.062, \"state\": \"Non Tri-State\", \"sma7d\": 0.085}, {\"date\": \"2020-08-17T00:00:00\", \"totalTestResultsIncrease\": 532396.0, \"positiveIncrease\": 36727.0, \"death\": 116772.0, \"deathIncrease\": 394.0, \"positiveRate\": 0.069, \"state\": \"Non Tri-State\", \"sma7d\": 0.085}, {\"date\": \"2020-08-18T00:00:00\", \"totalTestResultsIncrease\": 549454.0, \"positiveIncrease\": 39484.0, \"death\": 117950.0, \"deathIncrease\": 1178.0, \"positiveRate\": 0.072, \"state\": \"Non Tri-State\", \"sma7d\": 0.083}]}}, {\"mode\": \"vega-lite\"});\n",
       "</script>"
      ],
      "text/plain": [
       "alt.LayerChart(...)"
      ]
     },
     "execution_count": 16,
     "metadata": {},
     "output_type": "execute_result"
    }
   ],
   "source": [
    "create_plot(non_tristate, 'positiveRate')"
   ]
  },
  {
   "cell_type": "code",
   "execution_count": 17,
   "metadata": {
    "execution": {
     "iopub.execute_input": "2020-08-18T22:33:32.155264Z",
     "iopub.status.busy": "2020-08-18T22:33:32.154701Z",
     "iopub.status.idle": "2020-08-18T22:33:32.237790Z",
     "shell.execute_reply": "2020-08-18T22:33:32.238175Z"
    },
    "papermill": {
     "duration": 0.104473,
     "end_time": "2020-08-18T22:33:32.238296",
     "exception": false,
     "start_time": "2020-08-18T22:33:32.133823",
     "status": "completed"
    },
    "tags": []
   },
   "outputs": [
    {
     "data": {
      "text/html": [
       "\n",
       "<div id=\"altair-viz-3f8aa21d59ca49e58612489287ad0581\"></div>\n",
       "<script type=\"text/javascript\">\n",
       "  (function(spec, embedOpt){\n",
       "    let outputDiv = document.currentScript.previousElementSibling;\n",
       "    if (outputDiv.id !== \"altair-viz-3f8aa21d59ca49e58612489287ad0581\") {\n",
       "      outputDiv = document.getElementById(\"altair-viz-3f8aa21d59ca49e58612489287ad0581\");\n",
       "    }\n",
       "    const paths = {\n",
       "      \"vega\": \"https://cdn.jsdelivr.net/npm//vega@5?noext\",\n",
       "      \"vega-lib\": \"https://cdn.jsdelivr.net/npm//vega-lib?noext\",\n",
       "      \"vega-lite\": \"https://cdn.jsdelivr.net/npm//vega-lite@4.8.1?noext\",\n",
       "      \"vega-embed\": \"https://cdn.jsdelivr.net/npm//vega-embed@6?noext\",\n",
       "    };\n",
       "\n",
       "    function loadScript(lib) {\n",
       "      return new Promise(function(resolve, reject) {\n",
       "        var s = document.createElement('script');\n",
       "        s.src = paths[lib];\n",
       "        s.async = true;\n",
       "        s.onload = () => resolve(paths[lib]);\n",
       "        s.onerror = () => reject(`Error loading script: ${paths[lib]}`);\n",
       "        document.getElementsByTagName(\"head\")[0].appendChild(s);\n",
       "      });\n",
       "    }\n",
       "\n",
       "    function showError(err) {\n",
       "      outputDiv.innerHTML = `<div class=\"error\" style=\"color:red;\">${err}</div>`;\n",
       "      throw err;\n",
       "    }\n",
       "\n",
       "    function displayChart(vegaEmbed) {\n",
       "      vegaEmbed(outputDiv, spec, embedOpt)\n",
       "        .catch(err => showError(`Javascript Error: ${err.message}<br>This usually means there's a typo in your chart specification. See the javascript console for the full traceback.`));\n",
       "    }\n",
       "\n",
       "    if(typeof define === \"function\" && define.amd) {\n",
       "      requirejs.config({paths});\n",
       "      require([\"vega-embed\"], displayChart, err => showError(`Error loading script: ${err.message}`));\n",
       "    } else if (typeof vegaEmbed === \"function\") {\n",
       "      displayChart(vegaEmbed);\n",
       "    } else {\n",
       "      loadScript(\"vega\")\n",
       "        .then(() => loadScript(\"vega-lite\"))\n",
       "        .then(() => loadScript(\"vega-embed\"))\n",
       "        .catch(showError)\n",
       "        .then(() => displayChart(vegaEmbed));\n",
       "    }\n",
       "  })({\"config\": {\"view\": {\"continuousWidth\": 400, \"continuousHeight\": 300}}, \"layer\": [{\"layer\": [{\"mark\": {\"type\": \"point\", \"size\": 75}, \"encoding\": {\"tooltip\": [{\"type\": \"temporal\", \"field\": \"date\"}, {\"type\": \"quantitative\", \"field\": \"deathIncrease\"}, {\"type\": \"quantitative\", \"field\": \"sma7d\"}], \"x\": {\"type\": \"temporal\", \"field\": \"date\"}, \"y\": {\"type\": \"quantitative\", \"field\": \"deathIncrease\"}}, \"selection\": {\"selector018\": {\"type\": \"interval\", \"bind\": \"scales\", \"encodings\": [\"x\", \"y\"]}}}, {\"mark\": {\"type\": \"line\", \"color\": \"purple\"}, \"encoding\": {\"x\": {\"type\": \"temporal\", \"field\": \"date\"}, \"y\": {\"type\": \"quantitative\", \"field\": \"sma7d\"}}}]}, {\"mark\": {\"type\": \"rule\", \"color\": \"#aaa\"}, \"encoding\": {\"x\": {\"type\": \"temporal\", \"field\": \"date\"}}, \"transform\": [{\"filter\": {\"selection\": \"selector017\"}}]}, {\"mark\": \"circle\", \"encoding\": {\"opacity\": {\"condition\": {\"value\": 1, \"selection\": \"selector017\"}, \"value\": 0}, \"tooltip\": [{\"type\": \"temporal\", \"field\": \"date\"}, {\"type\": \"quantitative\", \"field\": \"deathIncrease\"}, {\"type\": \"quantitative\", \"field\": \"sma7d\"}], \"x\": {\"type\": \"temporal\", \"field\": \"date\"}, \"y\": {\"type\": \"quantitative\", \"field\": \"deathIncrease\"}}, \"selection\": {\"selector017\": {\"type\": \"single\", \"encodings\": [\"x\"], \"on\": \"mouseover\", \"nearest\": true, \"empty\": \"none\"}}}, {\"mark\": {\"type\": \"text\", \"align\": \"left\", \"dx\": 5, \"dy\": -5, \"stroke\": \"white\", \"strokeWidth\": 2}, \"encoding\": {\"text\": {\"type\": \"quantitative\", \"field\": \"deathIncrease\"}, \"tooltip\": [{\"type\": \"temporal\", \"field\": \"date\"}, {\"type\": \"quantitative\", \"field\": \"deathIncrease\"}, {\"type\": \"quantitative\", \"field\": \"sma7d\"}], \"x\": {\"type\": \"temporal\", \"field\": \"date\"}, \"y\": {\"type\": \"quantitative\", \"field\": \"deathIncrease\"}}, \"transform\": [{\"filter\": {\"selection\": \"selector017\"}}]}, {\"mark\": {\"type\": \"text\", \"align\": \"left\", \"dx\": 5, \"dy\": -5}, \"encoding\": {\"text\": {\"type\": \"quantitative\", \"field\": \"deathIncrease\"}, \"tooltip\": [{\"type\": \"temporal\", \"field\": \"date\"}, {\"type\": \"quantitative\", \"field\": \"deathIncrease\"}, {\"type\": \"quantitative\", \"field\": \"sma7d\"}], \"x\": {\"type\": \"temporal\", \"field\": \"date\"}, \"y\": {\"type\": \"quantitative\", \"field\": \"deathIncrease\"}}, \"transform\": [{\"filter\": {\"selection\": \"selector017\"}}]}], \"data\": {\"name\": \"data-a693b23d1eb020b647721523de63fb84\"}, \"height\": 400, \"title\": \"Non Tri-State: deathIncrease\", \"width\": 500, \"$schema\": \"https://vega.github.io/schema/vega-lite/v4.8.1.json\", \"datasets\": {\"data-a693b23d1eb020b647721523de63fb84\": [{\"date\": \"2020-06-24T00:00:00\", \"totalTestResultsIncrease\": 448998.0, \"positiveIncrease\": 37931.0, \"death\": 73245.0, \"deathIncrease\": 652.0, \"positiveRate\": 0.084, \"state\": \"Non Tri-State\", \"sma7d\": 506.714}, {\"date\": \"2020-06-25T00:00:00\", \"totalTestResultsIncrease\": 543604.0, \"positiveIncrease\": 37938.0, \"death\": 73840.0, \"deathIncrease\": 595.0, \"positiveRate\": 0.07, \"state\": \"Non Tri-State\", \"sma7d\": 501.143}, {\"date\": \"2020-06-26T00:00:00\", \"totalTestResultsIncrease\": 509921.0, \"positiveIncrease\": 43163.0, \"death\": 74411.0, \"deathIncrease\": 571.0, \"positiveRate\": 0.085, \"state\": \"Non Tri-State\", \"sma7d\": 499.429}, {\"date\": \"2020-06-27T00:00:00\", \"totalTestResultsIncrease\": 499875.0, \"positiveIncrease\": 42644.0, \"death\": 74866.0, \"deathIncrease\": 455.0, \"positiveRate\": 0.085, \"state\": \"Non Tri-State\", \"sma7d\": 483.143}, {\"date\": \"2020-06-28T00:00:00\", \"totalTestResultsIncrease\": 500156.0, \"positiveIncrease\": 40835.0, \"death\": 75100.0, \"deathIncrease\": 234.0, \"positiveRate\": 0.082, \"state\": \"Non Tri-State\", \"sma7d\": 480.143}, {\"date\": \"2020-06-29T00:00:00\", \"totalTestResultsIncrease\": 564714.0, \"positiveIncrease\": 38635.0, \"death\": 75402.0, \"deathIncrease\": 302.0, \"positiveRate\": 0.068, \"state\": \"Non Tri-State\", \"sma7d\": 488.857}, {\"date\": \"2020-06-30T00:00:00\", \"totalTestResultsIncrease\": 546024.0, \"positiveIncrease\": 46391.0, \"death\": 75940.0, \"deathIncrease\": 538.0, \"positiveRate\": 0.085, \"state\": \"Non Tri-State\", \"sma7d\": 478.143}, {\"date\": \"2020-07-01T00:00:00\", \"totalTestResultsIncrease\": 546760.0, \"positiveIncrease\": 49730.0, \"death\": 76585.0, \"deathIncrease\": 645.0, \"positiveRate\": 0.091, \"state\": \"Non Tri-State\", \"sma7d\": 477.143}, {\"date\": \"2020-07-02T00:00:00\", \"totalTestResultsIncrease\": 565533.0, \"positiveIncrease\": 52449.0, \"death\": 77240.0, \"deathIncrease\": 655.0, \"positiveRate\": 0.093, \"state\": \"Non Tri-State\", \"sma7d\": 485.714}, {\"date\": \"2020-07-03T00:00:00\", \"totalTestResultsIncrease\": 626849.0, \"positiveIncrease\": 52848.0, \"death\": 77763.0, \"deathIncrease\": 523.0, \"positiveRate\": 0.084, \"state\": \"Non Tri-State\", \"sma7d\": 478.857}, {\"date\": \"2020-07-04T00:00:00\", \"totalTestResultsIncrease\": 560329.0, \"positiveIncrease\": 53717.0, \"death\": 78033.0, \"deathIncrease\": 270.0, \"positiveRate\": 0.096, \"state\": \"Non Tri-State\", \"sma7d\": 452.429}, {\"date\": \"2020-07-05T00:00:00\", \"totalTestResultsIncrease\": 570111.0, \"positiveIncrease\": 44887.0, \"death\": 78212.0, \"deathIncrease\": 179.0, \"positiveRate\": 0.079, \"state\": \"Non Tri-State\", \"sma7d\": 444.571}, {\"date\": \"2020-07-06T00:00:00\", \"totalTestResultsIncrease\": 429571.0, \"positiveIncrease\": 40614.0, \"death\": 78424.0, \"deathIncrease\": 212.0, \"positiveRate\": 0.095, \"state\": \"Non Tri-State\", \"sma7d\": 431.714}, {\"date\": \"2020-07-07T00:00:00\", \"totalTestResultsIncrease\": 562735.0, \"positiveIncrease\": 50854.0, \"death\": 79283.0, \"deathIncrease\": 859.0, \"positiveRate\": 0.09, \"state\": \"Non Tri-State\", \"sma7d\": 477.571}, {\"date\": \"2020-07-08T00:00:00\", \"totalTestResultsIncrease\": 550895.0, \"positiveIncrease\": 61219.0, \"death\": 80013.0, \"deathIncrease\": 730.0, \"positiveRate\": 0.111, \"state\": \"Non Tri-State\", \"sma7d\": 489.714}, {\"date\": \"2020-07-09T00:00:00\", \"totalTestResultsIncrease\": 606590.0, \"positiveIncrease\": 57950.0, \"death\": 80835.0, \"deathIncrease\": 822.0, \"positiveRate\": 0.096, \"state\": \"Non Tri-State\", \"sma7d\": 513.571}, {\"date\": \"2020-07-10T00:00:00\", \"totalTestResultsIncrease\": 718611.0, \"positiveIncrease\": 65393.0, \"death\": 81649.0, \"deathIncrease\": 814.0, \"positiveRate\": 0.091, \"state\": \"Non Tri-State\", \"sma7d\": 555.143}, {\"date\": \"2020-07-11T00:00:00\", \"totalTestResultsIncrease\": 598349.0, \"positiveIncrease\": 61946.0, \"death\": 82354.0, \"deathIncrease\": 705.0, \"positiveRate\": 0.104, \"state\": \"Non Tri-State\", \"sma7d\": 617.286}, {\"date\": \"2020-07-12T00:00:00\", \"totalTestResultsIncrease\": 646322.0, \"positiveIncrease\": 59962.0, \"death\": 82809.0, \"deathIncrease\": 455.0, \"positiveRate\": 0.093, \"state\": \"Non Tri-State\", \"sma7d\": 656.714}, {\"date\": \"2020-07-13T00:00:00\", \"totalTestResultsIncrease\": 621803.0, \"positiveIncrease\": 57461.0, \"death\": 83084.0, \"deathIncrease\": 275.0, \"positiveRate\": 0.092, \"state\": \"Non Tri-State\", \"sma7d\": 665.714}, {\"date\": \"2020-07-14T00:00:00\", \"totalTestResultsIncrease\": 681319.0, \"positiveIncrease\": 61554.0, \"death\": 83792.0, \"deathIncrease\": 708.0, \"positiveRate\": 0.09, \"state\": \"Non Tri-State\", \"sma7d\": 644.143}, {\"date\": \"2020-07-15T00:00:00\", \"totalTestResultsIncrease\": 670106.0, \"positiveIncrease\": 64082.0, \"death\": 84608.0, \"deathIncrease\": 816.0, \"positiveRate\": 0.096, \"state\": \"Non Tri-State\", \"sma7d\": 656.429}, {\"date\": \"2020-07-16T00:00:00\", \"totalTestResultsIncrease\": 728004.0, \"positiveIncrease\": 69847.0, \"death\": 85504.0, \"deathIncrease\": 896.0, \"positiveRate\": 0.096, \"state\": \"Non Tri-State\", \"sma7d\": 667.0}, {\"date\": \"2020-07-17T00:00:00\", \"totalTestResultsIncrease\": 754870.0, \"positiveIncrease\": 76264.0, \"death\": 86419.0, \"deathIncrease\": 915.0, \"positiveRate\": 0.101, \"state\": \"Non Tri-State\", \"sma7d\": 681.429}, {\"date\": \"2020-07-18T00:00:00\", \"totalTestResultsIncrease\": 686198.0, \"positiveIncrease\": 64163.0, \"death\": 87265.0, \"deathIncrease\": 846.0, \"positiveRate\": 0.094, \"state\": \"Non Tri-State\", \"sma7d\": 701.571}, {\"date\": \"2020-07-19T00:00:00\", \"totalTestResultsIncrease\": 722562.0, \"positiveIncrease\": 64413.0, \"death\": 87771.0, \"deathIncrease\": 506.0, \"positiveRate\": 0.089, \"state\": \"Non Tri-State\", \"sma7d\": 708.857}, {\"date\": \"2020-07-20T00:00:00\", \"totalTestResultsIncrease\": 645509.0, \"positiveIncrease\": 56110.0, \"death\": 88106.0, \"deathIncrease\": 335.0, \"positiveRate\": 0.087, \"state\": \"Non Tri-State\", \"sma7d\": 717.429}, {\"date\": \"2020-07-21T00:00:00\", \"totalTestResultsIncrease\": 673533.0, \"positiveIncrease\": 62453.0, \"death\": 89120.0, \"deathIncrease\": 1014.0, \"positiveRate\": 0.093, \"state\": \"Non Tri-State\", \"sma7d\": 761.143}, {\"date\": \"2020-07-22T00:00:00\", \"totalTestResultsIncrease\": 698496.0, \"positiveIncrease\": 67929.0, \"death\": 90257.0, \"deathIncrease\": 1137.0, \"positiveRate\": 0.097, \"state\": \"Non Tri-State\", \"sma7d\": 807.0}, {\"date\": \"2020-07-23T00:00:00\", \"totalTestResultsIncrease\": 743492.0, \"positiveIncrease\": 70292.0, \"death\": 91272.0, \"deathIncrease\": 1015.0, \"positiveRate\": 0.095, \"state\": \"Non Tri-State\", \"sma7d\": 824.0}, {\"date\": \"2020-07-24T00:00:00\", \"totalTestResultsIncrease\": 804370.0, \"positiveIncrease\": 73449.0, \"death\": 92401.0, \"deathIncrease\": 1129.0, \"positiveRate\": 0.091, \"state\": \"Non Tri-State\", \"sma7d\": 854.571}, {\"date\": \"2020-07-25T00:00:00\", \"totalTestResultsIncrease\": 722679.0, \"positiveIncrease\": 63812.0, \"death\": 93400.0, \"deathIncrease\": 999.0, \"positiveRate\": 0.088, \"state\": \"Non Tri-State\", \"sma7d\": 876.429}, {\"date\": \"2020-07-26T00:00:00\", \"totalTestResultsIncrease\": 747111.0, \"positiveIncrease\": 60672.0, \"death\": 93944.0, \"deathIncrease\": 544.0, \"positiveRate\": 0.081, \"state\": \"Non Tri-State\", \"sma7d\": 881.857}, {\"date\": \"2020-07-27T00:00:00\", \"totalTestResultsIncrease\": 641282.0, \"positiveIncrease\": 53870.0, \"death\": 94970.0, \"deathIncrease\": 1026.0, \"positiveRate\": 0.084, \"state\": \"Non Tri-State\", \"sma7d\": 980.571}, {\"date\": \"2020-07-28T00:00:00\", \"totalTestResultsIncrease\": 670436.0, \"positiveIncrease\": 55118.0, \"death\": 96056.0, \"deathIncrease\": 1086.0, \"positiveRate\": 0.082, \"state\": \"Non Tri-State\", \"sma7d\": 990.857}, {\"date\": \"2020-07-29T00:00:00\", \"totalTestResultsIncrease\": 727393.0, \"positiveIncrease\": 65320.0, \"death\": 97522.0, \"deathIncrease\": 1466.0, \"positiveRate\": 0.09, \"state\": \"Non Tri-State\", \"sma7d\": 1037.857}, {\"date\": \"2020-07-30T00:00:00\", \"totalTestResultsIncrease\": 709764.0, \"positiveIncrease\": 68355.0, \"death\": 98751.0, \"deathIncrease\": 1229.0, \"positiveRate\": 0.096, \"state\": \"Non Tri-State\", \"sma7d\": 1068.429}, {\"date\": \"2020-07-31T00:00:00\", \"totalTestResultsIncrease\": 611518.0, \"positiveIncrease\": 66281.0, \"death\": 100046.0, \"deathIncrease\": 1295.0, \"positiveRate\": 0.108, \"state\": \"Non Tri-State\", \"sma7d\": 1092.143}, {\"date\": \"2020-08-01T00:00:00\", \"totalTestResultsIncrease\": 653565.0, \"positiveIncrease\": 59570.0, \"death\": 101210.0, \"deathIncrease\": 1164.0, \"positiveRate\": 0.091, \"state\": \"Non Tri-State\", \"sma7d\": 1115.714}, {\"date\": \"2020-08-02T00:00:00\", \"totalTestResultsIncrease\": 614422.0, \"positiveIncrease\": 47414.0, \"death\": 101696.0, \"deathIncrease\": 486.0, \"positiveRate\": 0.077, \"state\": \"Non Tri-State\", \"sma7d\": 1107.429}, {\"date\": \"2020-08-03T00:00:00\", \"totalTestResultsIncrease\": 628612.0, \"positiveIncrease\": 48500.0, \"death\": 102198.0, \"deathIncrease\": 502.0, \"positiveRate\": 0.077, \"state\": \"Non Tri-State\", \"sma7d\": 1032.571}, {\"date\": \"2020-08-04T00:00:00\", \"totalTestResultsIncrease\": 622795.0, \"positiveIncrease\": 50418.0, \"death\": 103439.0, \"deathIncrease\": 1241.0, \"positiveRate\": 0.081, \"state\": \"Non Tri-State\", \"sma7d\": 1054.714}, {\"date\": \"2020-08-05T00:00:00\", \"totalTestResultsIncrease\": 578567.0, \"positiveIncrease\": 51157.0, \"death\": 104774.0, \"deathIncrease\": 1335.0, \"positiveRate\": 0.088, \"state\": \"Non Tri-State\", \"sma7d\": 1036.0}, {\"date\": \"2020-08-06T00:00:00\", \"totalTestResultsIncrease\": 628129.0, \"positiveIncrease\": 53087.0, \"death\": 106012.0, \"deathIncrease\": 1238.0, \"positiveRate\": 0.085, \"state\": \"Non Tri-State\", \"sma7d\": 1037.286}, {\"date\": \"2020-08-07T00:00:00\", \"totalTestResultsIncrease\": 670946.0, \"positiveIncrease\": 60371.0, \"death\": 107325.0, \"deathIncrease\": 1313.0, \"positiveRate\": 0.09, \"state\": \"Non Tri-State\", \"sma7d\": 1039.857}, {\"date\": \"2020-08-08T00:00:00\", \"totalTestResultsIncrease\": 599828.0, \"positiveIncrease\": 53020.0, \"death\": 108400.0, \"deathIncrease\": 1075.0, \"positiveRate\": 0.088, \"state\": \"Non Tri-State\", \"sma7d\": 1027.143}, {\"date\": \"2020-08-09T00:00:00\", \"totalTestResultsIncrease\": 605114.0, \"positiveIncrease\": 50460.0, \"death\": 109004.0, \"deathIncrease\": 604.0, \"positiveRate\": 0.083, \"state\": \"Non Tri-State\", \"sma7d\": 1044.0}, {\"date\": \"2020-08-10T00:00:00\", \"totalTestResultsIncrease\": 608023.0, \"positiveIncrease\": 40826.0, \"death\": 109421.0, \"deathIncrease\": 417.0, \"positiveRate\": 0.067, \"state\": \"Non Tri-State\", \"sma7d\": 1031.857}, {\"date\": \"2020-08-11T00:00:00\", \"totalTestResultsIncrease\": 632932.0, \"positiveIncrease\": 54366.0, \"death\": 110728.0, \"deathIncrease\": 1307.0, \"positiveRate\": 0.086, \"state\": \"Non Tri-State\", \"sma7d\": 1041.286}, {\"date\": \"2020-08-12T00:00:00\", \"totalTestResultsIncrease\": 362622.0, \"positiveIncrease\": 54850.0, \"death\": 112223.0, \"deathIncrease\": 1495.0, \"positiveRate\": 0.151, \"state\": \"Non Tri-State\", \"sma7d\": 1064.143}, {\"date\": \"2020-08-13T00:00:00\", \"totalTestResultsIncrease\": 762066.0, \"positiveIncrease\": 50236.0, \"death\": 113368.0, \"deathIncrease\": 1145.0, \"positiveRate\": 0.066, \"state\": \"Non Tri-State\", \"sma7d\": 1050.857}, {\"date\": \"2020-08-14T00:00:00\", \"totalTestResultsIncrease\": 726496.0, \"positiveIncrease\": 54237.0, \"death\": 114567.0, \"deathIncrease\": 1199.0, \"positiveRate\": 0.075, \"state\": \"Non Tri-State\", \"sma7d\": 1034.571}, {\"date\": \"2020-08-15T00:00:00\", \"totalTestResultsIncrease\": 628439.0, \"positiveIncrease\": 55591.0, \"death\": 115767.0, \"deathIncrease\": 1200.0, \"positiveRate\": 0.088, \"state\": \"Non Tri-State\", \"sma7d\": 1052.429}, {\"date\": \"2020-08-16T00:00:00\", \"totalTestResultsIncrease\": 679695.0, \"positiveIncrease\": 42463.0, \"death\": 116378.0, \"deathIncrease\": 611.0, \"positiveRate\": 0.062, \"state\": \"Non Tri-State\", \"sma7d\": 1053.429}, {\"date\": \"2020-08-17T00:00:00\", \"totalTestResultsIncrease\": 532396.0, \"positiveIncrease\": 36727.0, \"death\": 116772.0, \"deathIncrease\": 394.0, \"positiveRate\": 0.069, \"state\": \"Non Tri-State\", \"sma7d\": 1050.143}, {\"date\": \"2020-08-18T00:00:00\", \"totalTestResultsIncrease\": 549454.0, \"positiveIncrease\": 39484.0, \"death\": 117950.0, \"deathIncrease\": 1178.0, \"positiveRate\": 0.072, \"state\": \"Non Tri-State\", \"sma7d\": 1031.714}]}}, {\"mode\": \"vega-lite\"});\n",
       "</script>"
      ],
      "text/plain": [
       "alt.LayerChart(...)"
      ]
     },
     "execution_count": 17,
     "metadata": {},
     "output_type": "execute_result"
    }
   ],
   "source": [
    "create_plot(non_tristate, 'deathIncrease')"
   ]
  }
 ],
 "metadata": {
  "kernelspec": {
   "display_name": "Python 3",
   "language": "python",
   "name": "python3"
  },
  "language_info": {
   "codemirror_mode": {
    "name": "ipython",
    "version": 3
   },
   "file_extension": ".py",
   "mimetype": "text/x-python",
   "name": "python",
   "nbconvert_exporter": "python",
   "pygments_lexer": "ipython3",
   "version": "3.8.5"
  },
  "papermill": {
   "duration": 5.842685,
   "end_time": "2020-08-18T22:33:32.460743",
   "environment_variables": {},
   "exception": null,
   "input_path": "2020-07-19-covid-plots.ipynb",
   "output_path": "2020-07-19-covid-plots.ipynb",
   "parameters": {},
   "start_time": "2020-08-18T22:33:26.618058",
   "version": "2.1.2"
  }
 },
 "nbformat": 4,
 "nbformat_minor": 4
}