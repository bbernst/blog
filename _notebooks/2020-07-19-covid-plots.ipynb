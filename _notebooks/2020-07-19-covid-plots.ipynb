{
 "cells": [
  {
   "cell_type": "markdown",
   "metadata": {
    "papermill": {
     "duration": 0.014428,
     "end_time": "2020-08-02T22:33:32.512102",
     "exception": false,
     "start_time": "2020-08-02T22:33:32.497674",
     "status": "completed"
    },
    "tags": []
   },
   "source": [
    "# \"COVID-19 plots\"\n",
    "> \"Interactive plots with daily updates\"\n",
    "\n",
    "- author: bbernst\n",
    "- toc: true\n",
    "- branch: master\n",
    "- badges: true\n",
    "- comments: true\n",
    "- categories: [healthcare, covid]\n",
    "- image: images/covid_plots/covid_mask.png\n",
    "- hide: false\n",
    "- search_exclude: true"
   ]
  },
  {
   "cell_type": "markdown",
   "metadata": {
    "papermill": {
     "duration": 0.012524,
     "end_time": "2020-08-02T22:33:32.537873",
     "exception": false,
     "start_time": "2020-08-02T22:33:32.525349",
     "status": "completed"
    },
    "tags": []
   },
   "source": [
    "I wanted to make a simple COVID-19 post to accomplish two main goals:\n",
    "1. Easily see the specific plots I'm interested in\n",
    "1. Update these plots every day, automatically\n",
    "\n",
    "Enter [fastpages](https://github.com/fastai/fastpages) and [github actions](https://github.com/features/actions). I'd been meaning to set up a blog with fastpages for a while and thought this would be a good reason to try it out. The documentation was great and I was able to set up automatic updates by using https://covid19dashboards.com/ as a guide.\n",
    "\n",
    "The data for this post comes from https://covidtracking.com/, which updates by 5pm each day, and I have my dashboard update at 6:30pm. For each geography -- so far that's the US, New York, and Non Tri-State -- I look at daily positive cases, positive rate, and deaths. Be sure to hover around on each of the plots, they have helpful interactive tooltips to make reading the data more intuitive."
   ]
  },
  {
   "cell_type": "code",
   "execution_count": 1,
   "metadata": {
    "execution": {
     "iopub.execute_input": "2020-08-02T22:33:32.567728Z",
     "iopub.status.busy": "2020-08-02T22:33:32.567147Z",
     "iopub.status.idle": "2020-08-02T22:33:32.995708Z",
     "shell.execute_reply": "2020-08-02T22:33:32.995168Z"
    },
    "papermill": {
     "duration": 0.445566,
     "end_time": "2020-08-02T22:33:32.995861",
     "exception": false,
     "start_time": "2020-08-02T22:33:32.550295",
     "status": "completed"
    },
    "tags": []
   },
   "outputs": [],
   "source": [
    "#collapse\n",
    "from typing import Callable, Literal\n",
    "import pandas as pd\n",
    "import altair as alt"
   ]
  },
  {
   "cell_type": "code",
   "execution_count": 2,
   "metadata": {
    "execution": {
     "iopub.execute_input": "2020-08-02T22:33:33.026344Z",
     "iopub.status.busy": "2020-08-02T22:33:33.025796Z",
     "iopub.status.idle": "2020-08-02T22:33:33.044331Z",
     "shell.execute_reply": "2020-08-02T22:33:33.043856Z"
    },
    "papermill": {
     "duration": 0.035538,
     "end_time": "2020-08-02T22:33:33.044453",
     "exception": false,
     "start_time": "2020-08-02T22:33:33.008915",
     "status": "completed"
    },
    "tags": []
   },
   "outputs": [
    {
     "name": "stdout",
     "output_type": "stream",
     "text": [
      "Last updated at (ET): 2020-08-02 06:33:33 PM\n"
     ]
    }
   ],
   "source": [
    "#hide_input\n",
    "current_utc = pd.Timestamp.now(tz='America/New_York').strftime('%Y-%m-%d %I:%M:%S %p')\n",
    "print(f\"Last updated at (ET): {current_utc}\")"
   ]
  },
  {
   "cell_type": "markdown",
   "metadata": {
    "papermill": {
     "duration": 0.012834,
     "end_time": "2020-08-02T22:33:33.070456",
     "exception": false,
     "start_time": "2020-08-02T22:33:33.057622",
     "status": "completed"
    },
    "tags": []
   },
   "source": [
    "# Data"
   ]
  },
  {
   "cell_type": "code",
   "execution_count": 3,
   "metadata": {
    "execution": {
     "iopub.execute_input": "2020-08-02T22:33:33.112054Z",
     "iopub.status.busy": "2020-08-02T22:33:33.111462Z",
     "iopub.status.idle": "2020-08-02T22:33:40.032031Z",
     "shell.execute_reply": "2020-08-02T22:33:40.032510Z"
    },
    "papermill": {
     "duration": 6.947907,
     "end_time": "2020-08-02T22:33:40.032674",
     "exception": false,
     "start_time": "2020-08-02T22:33:33.084767",
     "status": "completed"
    },
    "tags": []
   },
   "outputs": [],
   "source": [
    "df = pd.read_csv('https://covidtracking.com/api/states/daily.csv')"
   ]
  },
  {
   "cell_type": "markdown",
   "metadata": {
    "papermill": {
     "duration": 0.013542,
     "end_time": "2020-08-02T22:33:40.059472",
     "exception": false,
     "start_time": "2020-08-02T22:33:40.045930",
     "status": "completed"
    },
    "tags": []
   },
   "source": [
    "# Helpers"
   ]
  },
  {
   "cell_type": "code",
   "execution_count": 4,
   "metadata": {
    "execution": {
     "iopub.execute_input": "2020-08-02T22:33:40.091362Z",
     "iopub.status.busy": "2020-08-02T22:33:40.090800Z",
     "iopub.status.idle": "2020-08-02T22:33:40.093366Z",
     "shell.execute_reply": "2020-08-02T22:33:40.092926Z"
    },
    "papermill": {
     "duration": 0.021844,
     "end_time": "2020-08-02T22:33:40.093490",
     "exception": false,
     "start_time": "2020-08-02T22:33:40.071646",
     "status": "completed"
    },
    "tags": []
   },
   "outputs": [],
   "source": [
    "#collapse\n",
    "def create_df(df: pd.DataFrame, \n",
    "              filter_f: Callable, \n",
    "              state_name: str):\n",
    "    out_df = (\n",
    "     df\n",
    "     .assign(date = lambda d: pd.to_datetime(d['date'], format='%Y%m%d'))\n",
    "     .loc[filter_f, :]\n",
    "     .groupby('date')\n",
    "     .apply(lambda d: pd.Series(dict(\n",
    "         totalTestResultsIncrease = d['totalTestResultsIncrease'].sum(),\n",
    "         positiveIncrease = d['positiveIncrease'].sum(),\n",
    "         death = d['death'].sum(),\n",
    "         deathIncrease = d['deathIncrease'].sum()\n",
    "     )))\n",
    "     .reset_index()\n",
    "     .assign(positiveRate = lambda d: round(d['positiveIncrease'] / d['totalTestResultsIncrease'], 3))\n",
    "     .sort_values('date', ascending=True)\n",
    "     .assign(state = state_name)\n",
    "     .reset_index(drop=True)\n",
    "    )\n",
    "    \n",
    "    return out_df"
   ]
  },
  {
   "cell_type": "code",
   "execution_count": 5,
   "metadata": {
    "execution": {
     "iopub.execute_input": "2020-08-02T22:33:40.130707Z",
     "iopub.status.busy": "2020-08-02T22:33:40.130133Z",
     "iopub.status.idle": "2020-08-02T22:33:40.132076Z",
     "shell.execute_reply": "2020-08-02T22:33:40.132491Z"
    },
    "papermill": {
     "duration": 0.026195,
     "end_time": "2020-08-02T22:33:40.132639",
     "exception": false,
     "start_time": "2020-08-02T22:33:40.106444",
     "status": "completed"
    },
    "tags": []
   },
   "outputs": [],
   "source": [
    "#collapse\n",
    "def create_plot(df: pd.DataFrame, \n",
    "                column: Literal['totalTestResultsIncrease', \n",
    "                                'positiveIncrease', \n",
    "                                'death',\n",
    "                                'deathIncrease', \n",
    "                                'positiveRate'],\n",
    "                period: int = 7*8):\n",
    "    df = (\n",
    "     df\n",
    "     .assign(sma7d = lambda d: d[column].rolling(window=7).mean().round(3))\n",
    "     .loc[lambda d: d['date'] >= pd.to_datetime('today') - period * pd.Timedelta('1 days'), :]\n",
    "     .reset_index(drop=True)\n",
    "    )\n",
    "    the_state = df['state'][0]\n",
    "    label = alt.selection_single(\n",
    "        encodings=['x'], on='mouseover', nearest=True, empty='none')\n",
    "    \n",
    "    base = alt.Chart().mark_point(size=75).encode(\n",
    "        x='date:T',\n",
    "        y=f'{column}:Q',\n",
    "        tooltip=['date', f'{column}:Q', 'sma7d:Q']\n",
    "    )\n",
    "\n",
    "    sma = alt.Chart().mark_line(color='purple').encode(\n",
    "        x='date:T',\n",
    "        y='sma7d:Q'\n",
    "    )\n",
    "\n",
    "    layers = alt.layer(\n",
    "        base + sma,\n",
    "\n",
    "        # add a rule mark to serve as a guide line\n",
    "        alt.Chart().mark_rule(color='#aaa').encode(\n",
    "            x='date:T'\n",
    "        ).transform_filter(label),\n",
    "\n",
    "        # add circle marks for selected time points, hide unselected points\n",
    "        base.mark_circle().encode(\n",
    "            opacity=alt.condition(label, alt.value(1), alt.value(0))\n",
    "        ).add_selection(label),\n",
    "\n",
    "        # add white stroked text to provide a legible background for labels\n",
    "        base.mark_text(align='left', dx=5, dy=-5, stroke='white', strokeWidth=2).encode(\n",
    "            text=f'{column}:Q'\n",
    "        ).transform_filter(label),\n",
    "\n",
    "        # add text labels\n",
    "        base.mark_text(align='left', dx=5, dy=-5).encode(\n",
    "            text=f'{column}:Q'\n",
    "        ).transform_filter(label),\n",
    "        \n",
    "        data=df\n",
    "    ).properties(\n",
    "        title=f'{the_state}: {column}',\n",
    "        width=500,\n",
    "        height=400\n",
    "    )\n",
    "    \n",
    "    return layers.interactive()"
   ]
  },
  {
   "cell_type": "markdown",
   "metadata": {
    "papermill": {
     "duration": 0.01282,
     "end_time": "2020-08-02T22:33:40.158453",
     "exception": false,
     "start_time": "2020-08-02T22:33:40.145633",
     "status": "completed"
    },
    "tags": []
   },
   "source": [
    "# Plots"
   ]
  },
  {
   "cell_type": "markdown",
   "metadata": {
    "papermill": {
     "duration": 0.012631,
     "end_time": "2020-08-02T22:33:40.184078",
     "exception": false,
     "start_time": "2020-08-02T22:33:40.171447",
     "status": "completed"
    },
    "tags": []
   },
   "source": [
    "## US"
   ]
  },
  {
   "cell_type": "code",
   "execution_count": 6,
   "metadata": {
    "execution": {
     "iopub.execute_input": "2020-08-02T22:33:40.214409Z",
     "iopub.status.busy": "2020-08-02T22:33:40.213872Z",
     "iopub.status.idle": "2020-08-02T22:33:40.435233Z",
     "shell.execute_reply": "2020-08-02T22:33:40.434684Z"
    },
    "papermill": {
     "duration": 0.238286,
     "end_time": "2020-08-02T22:33:40.435362",
     "exception": false,
     "start_time": "2020-08-02T22:33:40.197076",
     "status": "completed"
    },
    "tags": []
   },
   "outputs": [],
   "source": [
    "us = create_df(df, lambda d: d.index > 0, 'US')"
   ]
  },
  {
   "cell_type": "code",
   "execution_count": 7,
   "metadata": {
    "execution": {
     "iopub.execute_input": "2020-08-02T22:33:40.489664Z",
     "iopub.status.busy": "2020-08-02T22:33:40.479380Z",
     "iopub.status.idle": "2020-08-02T22:33:40.573930Z",
     "shell.execute_reply": "2020-08-02T22:33:40.573427Z"
    },
    "papermill": {
     "duration": 0.125464,
     "end_time": "2020-08-02T22:33:40.574054",
     "exception": false,
     "start_time": "2020-08-02T22:33:40.448590",
     "status": "completed"
    },
    "tags": []
   },
   "outputs": [
    {
     "data": {
      "text/html": [
       "\n",
       "<div id=\"altair-viz-28047994d8314f7885ac11b43a0ea810\"></div>\n",
       "<script type=\"text/javascript\">\n",
       "  (function(spec, embedOpt){\n",
       "    let outputDiv = document.currentScript.previousElementSibling;\n",
       "    if (outputDiv.id !== \"altair-viz-28047994d8314f7885ac11b43a0ea810\") {\n",
       "      outputDiv = document.getElementById(\"altair-viz-28047994d8314f7885ac11b43a0ea810\");\n",
       "    }\n",
       "    const paths = {\n",
       "      \"vega\": \"https://cdn.jsdelivr.net/npm//vega@5?noext\",\n",
       "      \"vega-lib\": \"https://cdn.jsdelivr.net/npm//vega-lib?noext\",\n",
       "      \"vega-lite\": \"https://cdn.jsdelivr.net/npm//vega-lite@4.8.1?noext\",\n",
       "      \"vega-embed\": \"https://cdn.jsdelivr.net/npm//vega-embed@6?noext\",\n",
       "    };\n",
       "\n",
       "    function loadScript(lib) {\n",
       "      return new Promise(function(resolve, reject) {\n",
       "        var s = document.createElement('script');\n",
       "        s.src = paths[lib];\n",
       "        s.async = true;\n",
       "        s.onload = () => resolve(paths[lib]);\n",
       "        s.onerror = () => reject(`Error loading script: ${paths[lib]}`);\n",
       "        document.getElementsByTagName(\"head\")[0].appendChild(s);\n",
       "      });\n",
       "    }\n",
       "\n",
       "    function showError(err) {\n",
       "      outputDiv.innerHTML = `<div class=\"error\" style=\"color:red;\">${err}</div>`;\n",
       "      throw err;\n",
       "    }\n",
       "\n",
       "    function displayChart(vegaEmbed) {\n",
       "      vegaEmbed(outputDiv, spec, embedOpt)\n",
       "        .catch(err => showError(`Javascript Error: ${err.message}<br>This usually means there's a typo in your chart specification. See the javascript console for the full traceback.`));\n",
       "    }\n",
       "\n",
       "    if(typeof define === \"function\" && define.amd) {\n",
       "      requirejs.config({paths});\n",
       "      require([\"vega-embed\"], displayChart, err => showError(`Error loading script: ${err.message}`));\n",
       "    } else if (typeof vegaEmbed === \"function\") {\n",
       "      displayChart(vegaEmbed);\n",
       "    } else {\n",
       "      loadScript(\"vega\")\n",
       "        .then(() => loadScript(\"vega-lite\"))\n",
       "        .then(() => loadScript(\"vega-embed\"))\n",
       "        .catch(showError)\n",
       "        .then(() => displayChart(vegaEmbed));\n",
       "    }\n",
       "  })({\"config\": {\"view\": {\"continuousWidth\": 400, \"continuousHeight\": 300}}, \"layer\": [{\"layer\": [{\"mark\": {\"type\": \"point\", \"size\": 75}, \"encoding\": {\"tooltip\": [{\"type\": \"temporal\", \"field\": \"date\"}, {\"type\": \"quantitative\", \"field\": \"positiveIncrease\"}, {\"type\": \"quantitative\", \"field\": \"sma7d\"}], \"x\": {\"type\": \"temporal\", \"field\": \"date\"}, \"y\": {\"type\": \"quantitative\", \"field\": \"positiveIncrease\"}}, \"selection\": {\"selector002\": {\"type\": \"interval\", \"bind\": \"scales\", \"encodings\": [\"x\", \"y\"]}}}, {\"mark\": {\"type\": \"line\", \"color\": \"purple\"}, \"encoding\": {\"x\": {\"type\": \"temporal\", \"field\": \"date\"}, \"y\": {\"type\": \"quantitative\", \"field\": \"sma7d\"}}}]}, {\"mark\": {\"type\": \"rule\", \"color\": \"#aaa\"}, \"encoding\": {\"x\": {\"type\": \"temporal\", \"field\": \"date\"}}, \"transform\": [{\"filter\": {\"selection\": \"selector001\"}}]}, {\"mark\": \"circle\", \"encoding\": {\"opacity\": {\"condition\": {\"value\": 1, \"selection\": \"selector001\"}, \"value\": 0}, \"tooltip\": [{\"type\": \"temporal\", \"field\": \"date\"}, {\"type\": \"quantitative\", \"field\": \"positiveIncrease\"}, {\"type\": \"quantitative\", \"field\": \"sma7d\"}], \"x\": {\"type\": \"temporal\", \"field\": \"date\"}, \"y\": {\"type\": \"quantitative\", \"field\": \"positiveIncrease\"}}, \"selection\": {\"selector001\": {\"type\": \"single\", \"encodings\": [\"x\"], \"on\": \"mouseover\", \"nearest\": true, \"empty\": \"none\"}}}, {\"mark\": {\"type\": \"text\", \"align\": \"left\", \"dx\": 5, \"dy\": -5, \"stroke\": \"white\", \"strokeWidth\": 2}, \"encoding\": {\"text\": {\"type\": \"quantitative\", \"field\": \"positiveIncrease\"}, \"tooltip\": [{\"type\": \"temporal\", \"field\": \"date\"}, {\"type\": \"quantitative\", \"field\": \"positiveIncrease\"}, {\"type\": \"quantitative\", \"field\": \"sma7d\"}], \"x\": {\"type\": \"temporal\", \"field\": \"date\"}, \"y\": {\"type\": \"quantitative\", \"field\": \"positiveIncrease\"}}, \"transform\": [{\"filter\": {\"selection\": \"selector001\"}}]}, {\"mark\": {\"type\": \"text\", \"align\": \"left\", \"dx\": 5, \"dy\": -5}, \"encoding\": {\"text\": {\"type\": \"quantitative\", \"field\": \"positiveIncrease\"}, \"tooltip\": [{\"type\": \"temporal\", \"field\": \"date\"}, {\"type\": \"quantitative\", \"field\": \"positiveIncrease\"}, {\"type\": \"quantitative\", \"field\": \"sma7d\"}], \"x\": {\"type\": \"temporal\", \"field\": \"date\"}, \"y\": {\"type\": \"quantitative\", \"field\": \"positiveIncrease\"}}, \"transform\": [{\"filter\": {\"selection\": \"selector001\"}}]}], \"data\": {\"name\": \"data-15cde7a5aa02763afa9a177d3b186fb7\"}, \"height\": 400, \"title\": \"US: positiveIncrease\", \"width\": 500, \"$schema\": \"https://vega.github.io/schema/vega-lite/v4.8.1.json\", \"datasets\": {\"data-15cde7a5aa02763afa9a177d3b186fb7\": [{\"date\": \"2020-06-08T00:00:00\", \"totalTestResultsIncrease\": 395146.0, \"positiveIncrease\": 17012.0, \"death\": 104940.0, \"deathIncrease\": 660.0, \"positiveRate\": 0.043, \"state\": \"US\", \"sma7d\": 20489.429}, {\"date\": \"2020-06-09T00:00:00\", \"totalTestResultsIncrease\": 419724.0, \"positiveIncrease\": 17175.0, \"death\": 105838.0, \"deathIncrease\": 898.0, \"positiveRate\": 0.041, \"state\": \"US\", \"sma7d\": 20088.429}, {\"date\": \"2020-06-10T00:00:00\", \"totalTestResultsIncrease\": 428999.0, \"positiveIncrease\": 20803.0, \"death\": 106723.0, \"deathIncrease\": 885.0, \"positiveRate\": 0.048, \"state\": \"US\", \"sma7d\": 20158.571}, {\"date\": \"2020-06-11T00:00:00\", \"totalTestResultsIncrease\": 459455.0, \"positiveIncrease\": 22032.0, \"death\": 107621.0, \"deathIncrease\": 898.0, \"positiveRate\": 0.048, \"state\": \"US\", \"sma7d\": 20329.0}, {\"date\": \"2020-06-12T00:00:00\", \"totalTestResultsIncrease\": 623125.0, \"positiveIncrease\": 23477.0, \"death\": 108393.0, \"deathIncrease\": 772.0, \"positiveRate\": 0.038, \"state\": \"US\", \"sma7d\": 20346.857}, {\"date\": \"2020-06-13T00:00:00\", \"totalTestResultsIncrease\": 496428.0, \"positiveIncrease\": 25341.0, \"death\": 109084.0, \"deathIncrease\": 691.0, \"positiveRate\": 0.051, \"state\": \"US\", \"sma7d\": 20666.143}, {\"date\": \"2020-06-14T00:00:00\", \"totalTestResultsIncrease\": 485220.0, \"positiveIncrease\": 21373.0, \"death\": 109439.0, \"deathIncrease\": 355.0, \"positiveRate\": 0.044, \"state\": \"US\", \"sma7d\": 21030.429}, {\"date\": \"2020-06-15T00:00:00\", \"totalTestResultsIncrease\": 432811.0, \"positiveIncrease\": 18510.0, \"death\": 109819.0, \"deathIncrease\": 380.0, \"positiveRate\": 0.043, \"state\": \"US\", \"sma7d\": 21244.429}, {\"date\": \"2020-06-16T00:00:00\", \"totalTestResultsIncrease\": 464529.0, \"positiveIncrease\": 23435.0, \"death\": 110548.0, \"deathIncrease\": 729.0, \"positiveRate\": 0.05, \"state\": \"US\", \"sma7d\": 22138.714}, {\"date\": \"2020-06-17T00:00:00\", \"totalTestResultsIncrease\": 485290.0, \"positiveIncrease\": 23873.0, \"death\": 111315.0, \"deathIncrease\": 767.0, \"positiveRate\": 0.049, \"state\": \"US\", \"sma7d\": 22577.286}, {\"date\": \"2020-06-18T00:00:00\", \"totalTestResultsIncrease\": 516193.0, \"positiveIncrease\": 27527.0, \"death\": 112019.0, \"deathIncrease\": 704.0, \"positiveRate\": 0.053, \"state\": \"US\", \"sma7d\": 23362.286}, {\"date\": \"2020-06-19T00:00:00\", \"totalTestResultsIncrease\": 573992.0, \"positiveIncrease\": 31046.0, \"death\": 112674.0, \"deathIncrease\": 655.0, \"positiveRate\": 0.054, \"state\": \"US\", \"sma7d\": 24443.571}, {\"date\": \"2020-06-20T00:00:00\", \"totalTestResultsIncrease\": 559215.0, \"positiveIncrease\": 31994.0, \"death\": 113302.0, \"deathIncrease\": 628.0, \"positiveRate\": 0.057, \"state\": \"US\", \"sma7d\": 25394.0}, {\"date\": \"2020-06-21T00:00:00\", \"totalTestResultsIncrease\": 511098.0, \"positiveIncrease\": 27284.0, \"death\": 113594.0, \"deathIncrease\": 292.0, \"positiveRate\": 0.053, \"state\": \"US\", \"sma7d\": 26238.429}, {\"date\": \"2020-06-22T00:00:00\", \"totalTestResultsIncrease\": 466605.0, \"positiveIncrease\": 27017.0, \"death\": 113877.0, \"deathIncrease\": 283.0, \"positiveRate\": 0.058, \"state\": \"US\", \"sma7d\": 27453.714}, {\"date\": \"2020-06-23T00:00:00\", \"totalTestResultsIncrease\": 491719.0, \"positiveIncrease\": 33021.0, \"death\": 114585.0, \"deathIncrease\": 708.0, \"positiveRate\": 0.067, \"state\": \"US\", \"sma7d\": 28823.143}, {\"date\": \"2020-06-24T00:00:00\", \"totalTestResultsIncrease\": 519202.0, \"positiveIncrease\": 38684.0, \"death\": 115309.0, \"deathIncrease\": 724.0, \"positiveRate\": 0.075, \"state\": \"US\", \"sma7d\": 30939.0}, {\"date\": \"2020-06-25T00:00:00\", \"totalTestResultsIncrease\": 637148.0, \"positiveIncrease\": 39072.0, \"death\": 117810.0, \"deathIncrease\": 2501.0, \"positiveRate\": 0.061, \"state\": \"US\", \"sma7d\": 32588.286}, {\"date\": \"2020-06-26T00:00:00\", \"totalTestResultsIncrease\": 606747.0, \"positiveIncrease\": 44421.0, \"death\": 118446.0, \"deathIncrease\": 636.0, \"positiveRate\": 0.073, \"state\": \"US\", \"sma7d\": 34499.0}, {\"date\": \"2020-06-27T00:00:00\", \"totalTestResultsIncrease\": 599386.0, \"positiveIncrease\": 43783.0, \"death\": 118955.0, \"deathIncrease\": 509.0, \"positiveRate\": 0.073, \"state\": \"US\", \"sma7d\": 36183.143}, {\"date\": \"2020-06-28T00:00:00\", \"totalTestResultsIncrease\": 583898.0, \"positiveIncrease\": 41857.0, \"death\": 119226.0, \"deathIncrease\": 271.0, \"positiveRate\": 0.072, \"state\": \"US\", \"sma7d\": 38265.0}, {\"date\": \"2020-06-29T00:00:00\", \"totalTestResultsIncrease\": 646824.0, \"positiveIncrease\": 39175.0, \"death\": 119556.0, \"deathIncrease\": 330.0, \"positiveRate\": 0.061, \"state\": \"US\", \"sma7d\": 40001.857}, {\"date\": \"2020-06-30T00:00:00\", \"totalTestResultsIncrease\": 624063.0, \"positiveIncrease\": 47462.0, \"death\": 120152.0, \"deathIncrease\": 596.0, \"positiveRate\": 0.076, \"state\": \"US\", \"sma7d\": 42064.857}, {\"date\": \"2020-07-01T00:00:00\", \"totalTestResultsIncrease\": 633286.0, \"positiveIncrease\": 50674.0, \"death\": 120853.0, \"deathIncrease\": 701.0, \"positiveRate\": 0.08, \"state\": \"US\", \"sma7d\": 43777.714}, {\"date\": \"2020-07-02T00:00:00\", \"totalTestResultsIncrease\": 662316.0, \"positiveIncrease\": 53826.0, \"death\": 121550.0, \"deathIncrease\": 697.0, \"positiveRate\": 0.081, \"state\": \"US\", \"sma7d\": 45885.429}, {\"date\": \"2020-07-03T00:00:00\", \"totalTestResultsIncrease\": 710949.0, \"positiveIncrease\": 54223.0, \"death\": 122147.0, \"deathIncrease\": 597.0, \"positiveRate\": 0.076, \"state\": \"US\", \"sma7d\": 47285.714}, {\"date\": \"2020-07-04T00:00:00\", \"totalTestResultsIncrease\": 642171.0, \"positiveIncrease\": 54734.0, \"death\": 122453.0, \"deathIncrease\": 306.0, \"positiveRate\": 0.085, \"state\": \"US\", \"sma7d\": 48850.143}, {\"date\": \"2020-07-05T00:00:00\", \"totalTestResultsIncrease\": 681450.0, \"positiveIncrease\": 45789.0, \"death\": 122662.0, \"deathIncrease\": 209.0, \"positiveRate\": 0.067, \"state\": \"US\", \"sma7d\": 49411.857}, {\"date\": \"2020-07-06T00:00:00\", \"totalTestResultsIncrease\": 501201.0, \"positiveIncrease\": 41600.0, \"death\": 122904.0, \"deathIncrease\": 242.0, \"positiveRate\": 0.083, \"state\": \"US\", \"sma7d\": 49758.286}, {\"date\": \"2020-07-07T00:00:00\", \"totalTestResultsIncrease\": 634791.0, \"positiveIncrease\": 51766.0, \"death\": 123826.0, \"deathIncrease\": 922.0, \"positiveRate\": 0.082, \"state\": \"US\", \"sma7d\": 50373.143}, {\"date\": \"2020-07-08T00:00:00\", \"totalTestResultsIncrease\": 629102.0, \"positiveIncrease\": 62147.0, \"death\": 124723.0, \"deathIncrease\": 897.0, \"positiveRate\": 0.099, \"state\": \"US\", \"sma7d\": 52012.143}, {\"date\": \"2020-07-09T00:00:00\", \"totalTestResultsIncrease\": 703050.0, \"positiveIncrease\": 58836.0, \"death\": 125590.0, \"deathIncrease\": 867.0, \"positiveRate\": 0.084, \"state\": \"US\", \"sma7d\": 52727.857}, {\"date\": \"2020-07-10T00:00:00\", \"totalTestResultsIncrease\": 810806.0, \"positiveIncrease\": 66645.0, \"death\": 126444.0, \"deathIncrease\": 854.0, \"positiveRate\": 0.082, \"state\": \"US\", \"sma7d\": 54502.429}, {\"date\": \"2020-07-11T00:00:00\", \"totalTestResultsIncrease\": 698444.0, \"positiveIncrease\": 63007.0, \"death\": 127201.0, \"deathIncrease\": 757.0, \"positiveRate\": 0.09, \"state\": \"US\", \"sma7d\": 55684.286}, {\"date\": \"2020-07-12T00:00:00\", \"totalTestResultsIncrease\": 758324.0, \"positiveIncrease\": 60978.0, \"death\": 127677.0, \"deathIncrease\": 476.0, \"positiveRate\": 0.08, \"state\": \"US\", \"sma7d\": 57854.143}, {\"date\": \"2020-07-13T00:00:00\", \"totalTestResultsIncrease\": 693576.0, \"positiveIncrease\": 58465.0, \"death\": 128004.0, \"deathIncrease\": 327.0, \"positiveRate\": 0.084, \"state\": \"US\", \"sma7d\": 60263.429}, {\"date\": \"2020-07-14T00:00:00\", \"totalTestResultsIncrease\": 769982.0, \"positiveIncrease\": 62879.0, \"death\": 128740.0, \"deathIncrease\": 736.0, \"positiveRate\": 0.082, \"state\": \"US\", \"sma7d\": 61851.0}, {\"date\": \"2020-07-15T00:00:00\", \"totalTestResultsIncrease\": 761997.0, \"positiveIncrease\": 65382.0, \"death\": 129598.0, \"deathIncrease\": 858.0, \"positiveRate\": 0.086, \"state\": \"US\", \"sma7d\": 62313.143}, {\"date\": \"2020-07-16T00:00:00\", \"totalTestResultsIncrease\": 827564.0, \"positiveIncrease\": 70953.0, \"death\": 130572.0, \"deathIncrease\": 974.0, \"positiveRate\": 0.086, \"state\": \"US\", \"sma7d\": 64044.143}, {\"date\": \"2020-07-17T00:00:00\", \"totalTestResultsIncrease\": 837392.0, \"positiveIncrease\": 77233.0, \"death\": 131523.0, \"deathIncrease\": 951.0, \"positiveRate\": 0.092, \"state\": \"US\", \"sma7d\": 65556.714}, {\"date\": \"2020-07-18T00:00:00\", \"totalTestResultsIncrease\": 761632.0, \"positiveIncrease\": 65180.0, \"death\": 132395.0, \"deathIncrease\": 872.0, \"positiveRate\": 0.086, \"state\": \"US\", \"sma7d\": 65867.143}, {\"date\": \"2020-07-19T00:00:00\", \"totalTestResultsIncrease\": 798508.0, \"positiveIncrease\": 64884.0, \"death\": 132921.0, \"deathIncrease\": 526.0, \"positiveRate\": 0.081, \"state\": \"US\", \"sma7d\": 66425.143}, {\"date\": \"2020-07-20T00:00:00\", \"totalTestResultsIncrease\": 711015.0, \"positiveIncrease\": 56971.0, \"death\": 133283.0, \"deathIncrease\": 362.0, \"positiveRate\": 0.08, \"state\": \"US\", \"sma7d\": 66211.714}, {\"date\": \"2020-07-21T00:00:00\", \"totalTestResultsIncrease\": 750248.0, \"positiveIncrease\": 63642.0, \"death\": 134321.0, \"deathIncrease\": 1038.0, \"positiveRate\": 0.085, \"state\": \"US\", \"sma7d\": 66320.714}, {\"date\": \"2020-07-22T00:00:00\", \"totalTestResultsIncrease\": 795502.0, \"positiveIncrease\": 69150.0, \"death\": 135438.0, \"deathIncrease\": 1117.0, \"positiveRate\": 0.087, \"state\": \"US\", \"sma7d\": 66859.0}, {\"date\": \"2020-07-23T00:00:00\", \"totalTestResultsIncrease\": 824399.0, \"positiveIncrease\": 71027.0, \"death\": 136477.0, \"deathIncrease\": 1039.0, \"positiveRate\": 0.086, \"state\": \"US\", \"sma7d\": 66869.571}, {\"date\": \"2020-07-24T00:00:00\", \"totalTestResultsIncrease\": 929838.0, \"positiveIncrease\": 75193.0, \"death\": 137655.0, \"deathIncrease\": 1178.0, \"positiveRate\": 0.081, \"state\": \"US\", \"sma7d\": 66578.143}, {\"date\": \"2020-07-25T00:00:00\", \"totalTestResultsIncrease\": 797589.0, \"positiveIncrease\": 65413.0, \"death\": 138692.0, \"deathIncrease\": 1037.0, \"positiveRate\": 0.082, \"state\": \"US\", \"sma7d\": 66611.429}, {\"date\": \"2020-07-26T00:00:00\", \"totalTestResultsIncrease\": 855811.0, \"positiveIncrease\": 61713.0, \"death\": 139250.0, \"deathIncrease\": 558.0, \"positiveRate\": 0.072, \"state\": \"US\", \"sma7d\": 66158.429}, {\"date\": \"2020-07-27T00:00:00\", \"totalTestResultsIncrease\": 760840.0, \"positiveIncrease\": 55134.0, \"death\": 140309.0, \"deathIncrease\": 1059.0, \"positiveRate\": 0.072, \"state\": \"US\", \"sma7d\": 65896.0}, {\"date\": \"2020-07-28T00:00:00\", \"totalTestResultsIncrease\": 733243.0, \"positiveIncrease\": 56229.0, \"death\": 141430.0, \"deathIncrease\": 1121.0, \"positiveRate\": 0.077, \"state\": \"US\", \"sma7d\": 64837.0}, {\"date\": \"2020-07-29T00:00:00\", \"totalTestResultsIncrease\": 855570.0, \"positiveIncrease\": 66969.0, \"death\": 142877.0, \"deathIncrease\": 1447.0, \"positiveRate\": 0.078, \"state\": \"US\", \"sma7d\": 64525.429}, {\"date\": \"2020-07-30T00:00:00\", \"totalTestResultsIncrease\": 812880.0, \"positiveIncrease\": 69718.0, \"death\": 144139.0, \"deathIncrease\": 1262.0, \"positiveRate\": 0.086, \"state\": \"US\", \"sma7d\": 64338.429}, {\"date\": \"2020-07-31T00:00:00\", \"totalTestResultsIncrease\": 718956.0, \"positiveIncrease\": 67503.0, \"death\": 145447.0, \"deathIncrease\": 1308.0, \"positiveRate\": 0.094, \"state\": \"US\", \"sma7d\": 63239.857}, {\"date\": \"2020-08-01T00:00:00\", \"totalTestResultsIncrease\": 713277.0, \"positiveIncrease\": 60264.0, \"death\": 146619.0, \"deathIncrease\": 1172.0, \"positiveRate\": 0.084, \"state\": \"US\", \"sma7d\": 62504.286}, {\"date\": \"2020-08-02T00:00:00\", \"totalTestResultsIncrease\": 721445.0, \"positiveIncrease\": 48537.0, \"death\": 147110.0, \"deathIncrease\": 515.0, \"positiveRate\": 0.067, \"state\": \"US\", \"sma7d\": 60622.0}]}}, {\"mode\": \"vega-lite\"});\n",
       "</script>"
      ],
      "text/plain": [
       "alt.LayerChart(...)"
      ]
     },
     "execution_count": 7,
     "metadata": {},
     "output_type": "execute_result"
    }
   ],
   "source": [
    "create_plot(us, 'positiveIncrease')"
   ]
  },
  {
   "cell_type": "code",
   "execution_count": 8,
   "metadata": {
    "execution": {
     "iopub.execute_input": "2020-08-02T22:33:40.624341Z",
     "iopub.status.busy": "2020-08-02T22:33:40.613931Z",
     "iopub.status.idle": "2020-08-02T22:33:40.701398Z",
     "shell.execute_reply": "2020-08-02T22:33:40.700917Z"
    },
    "papermill": {
     "duration": 0.11364,
     "end_time": "2020-08-02T22:33:40.701527",
     "exception": false,
     "start_time": "2020-08-02T22:33:40.587887",
     "status": "completed"
    },
    "tags": []
   },
   "outputs": [
    {
     "data": {
      "text/html": [
       "\n",
       "<div id=\"altair-viz-46303d69a7c740e099c881f40294f5e7\"></div>\n",
       "<script type=\"text/javascript\">\n",
       "  (function(spec, embedOpt){\n",
       "    let outputDiv = document.currentScript.previousElementSibling;\n",
       "    if (outputDiv.id !== \"altair-viz-46303d69a7c740e099c881f40294f5e7\") {\n",
       "      outputDiv = document.getElementById(\"altair-viz-46303d69a7c740e099c881f40294f5e7\");\n",
       "    }\n",
       "    const paths = {\n",
       "      \"vega\": \"https://cdn.jsdelivr.net/npm//vega@5?noext\",\n",
       "      \"vega-lib\": \"https://cdn.jsdelivr.net/npm//vega-lib?noext\",\n",
       "      \"vega-lite\": \"https://cdn.jsdelivr.net/npm//vega-lite@4.8.1?noext\",\n",
       "      \"vega-embed\": \"https://cdn.jsdelivr.net/npm//vega-embed@6?noext\",\n",
       "    };\n",
       "\n",
       "    function loadScript(lib) {\n",
       "      return new Promise(function(resolve, reject) {\n",
       "        var s = document.createElement('script');\n",
       "        s.src = paths[lib];\n",
       "        s.async = true;\n",
       "        s.onload = () => resolve(paths[lib]);\n",
       "        s.onerror = () => reject(`Error loading script: ${paths[lib]}`);\n",
       "        document.getElementsByTagName(\"head\")[0].appendChild(s);\n",
       "      });\n",
       "    }\n",
       "\n",
       "    function showError(err) {\n",
       "      outputDiv.innerHTML = `<div class=\"error\" style=\"color:red;\">${err}</div>`;\n",
       "      throw err;\n",
       "    }\n",
       "\n",
       "    function displayChart(vegaEmbed) {\n",
       "      vegaEmbed(outputDiv, spec, embedOpt)\n",
       "        .catch(err => showError(`Javascript Error: ${err.message}<br>This usually means there's a typo in your chart specification. See the javascript console for the full traceback.`));\n",
       "    }\n",
       "\n",
       "    if(typeof define === \"function\" && define.amd) {\n",
       "      requirejs.config({paths});\n",
       "      require([\"vega-embed\"], displayChart, err => showError(`Error loading script: ${err.message}`));\n",
       "    } else if (typeof vegaEmbed === \"function\") {\n",
       "      displayChart(vegaEmbed);\n",
       "    } else {\n",
       "      loadScript(\"vega\")\n",
       "        .then(() => loadScript(\"vega-lite\"))\n",
       "        .then(() => loadScript(\"vega-embed\"))\n",
       "        .catch(showError)\n",
       "        .then(() => displayChart(vegaEmbed));\n",
       "    }\n",
       "  })({\"config\": {\"view\": {\"continuousWidth\": 400, \"continuousHeight\": 300}}, \"layer\": [{\"layer\": [{\"mark\": {\"type\": \"point\", \"size\": 75}, \"encoding\": {\"tooltip\": [{\"type\": \"temporal\", \"field\": \"date\"}, {\"type\": \"quantitative\", \"field\": \"positiveRate\"}, {\"type\": \"quantitative\", \"field\": \"sma7d\"}], \"x\": {\"type\": \"temporal\", \"field\": \"date\"}, \"y\": {\"type\": \"quantitative\", \"field\": \"positiveRate\"}}, \"selection\": {\"selector004\": {\"type\": \"interval\", \"bind\": \"scales\", \"encodings\": [\"x\", \"y\"]}}}, {\"mark\": {\"type\": \"line\", \"color\": \"purple\"}, \"encoding\": {\"x\": {\"type\": \"temporal\", \"field\": \"date\"}, \"y\": {\"type\": \"quantitative\", \"field\": \"sma7d\"}}}]}, {\"mark\": {\"type\": \"rule\", \"color\": \"#aaa\"}, \"encoding\": {\"x\": {\"type\": \"temporal\", \"field\": \"date\"}}, \"transform\": [{\"filter\": {\"selection\": \"selector003\"}}]}, {\"mark\": \"circle\", \"encoding\": {\"opacity\": {\"condition\": {\"value\": 1, \"selection\": \"selector003\"}, \"value\": 0}, \"tooltip\": [{\"type\": \"temporal\", \"field\": \"date\"}, {\"type\": \"quantitative\", \"field\": \"positiveRate\"}, {\"type\": \"quantitative\", \"field\": \"sma7d\"}], \"x\": {\"type\": \"temporal\", \"field\": \"date\"}, \"y\": {\"type\": \"quantitative\", \"field\": \"positiveRate\"}}, \"selection\": {\"selector003\": {\"type\": \"single\", \"encodings\": [\"x\"], \"on\": \"mouseover\", \"nearest\": true, \"empty\": \"none\"}}}, {\"mark\": {\"type\": \"text\", \"align\": \"left\", \"dx\": 5, \"dy\": -5, \"stroke\": \"white\", \"strokeWidth\": 2}, \"encoding\": {\"text\": {\"type\": \"quantitative\", \"field\": \"positiveRate\"}, \"tooltip\": [{\"type\": \"temporal\", \"field\": \"date\"}, {\"type\": \"quantitative\", \"field\": \"positiveRate\"}, {\"type\": \"quantitative\", \"field\": \"sma7d\"}], \"x\": {\"type\": \"temporal\", \"field\": \"date\"}, \"y\": {\"type\": \"quantitative\", \"field\": \"positiveRate\"}}, \"transform\": [{\"filter\": {\"selection\": \"selector003\"}}]}, {\"mark\": {\"type\": \"text\", \"align\": \"left\", \"dx\": 5, \"dy\": -5}, \"encoding\": {\"text\": {\"type\": \"quantitative\", \"field\": \"positiveRate\"}, \"tooltip\": [{\"type\": \"temporal\", \"field\": \"date\"}, {\"type\": \"quantitative\", \"field\": \"positiveRate\"}, {\"type\": \"quantitative\", \"field\": \"sma7d\"}], \"x\": {\"type\": \"temporal\", \"field\": \"date\"}, \"y\": {\"type\": \"quantitative\", \"field\": \"positiveRate\"}}, \"transform\": [{\"filter\": {\"selection\": \"selector003\"}}]}], \"data\": {\"name\": \"data-876301de97d156245d21ac6476f3dc89\"}, \"height\": 400, \"title\": \"US: positiveRate\", \"width\": 500, \"$schema\": \"https://vega.github.io/schema/vega-lite/v4.8.1.json\", \"datasets\": {\"data-876301de97d156245d21ac6476f3dc89\": [{\"date\": \"2020-06-08T00:00:00\", \"totalTestResultsIncrease\": 395146.0, \"positiveIncrease\": 17012.0, \"death\": 104940.0, \"deathIncrease\": 660.0, \"positiveRate\": 0.043, \"state\": \"US\", \"sma7d\": 0.045}, {\"date\": \"2020-06-09T00:00:00\", \"totalTestResultsIncrease\": 419724.0, \"positiveIncrease\": 17175.0, \"death\": 105838.0, \"deathIncrease\": 898.0, \"positiveRate\": 0.041, \"state\": \"US\", \"sma7d\": 0.044}, {\"date\": \"2020-06-10T00:00:00\", \"totalTestResultsIncrease\": 428999.0, \"positiveIncrease\": 20803.0, \"death\": 106723.0, \"deathIncrease\": 885.0, \"positiveRate\": 0.048, \"state\": \"US\", \"sma7d\": 0.044}, {\"date\": \"2020-06-11T00:00:00\", \"totalTestResultsIncrease\": 459455.0, \"positiveIncrease\": 22032.0, \"death\": 107621.0, \"deathIncrease\": 898.0, \"positiveRate\": 0.048, \"state\": \"US\", \"sma7d\": 0.045}, {\"date\": \"2020-06-12T00:00:00\", \"totalTestResultsIncrease\": 623125.0, \"positiveIncrease\": 23477.0, \"death\": 108393.0, \"deathIncrease\": 772.0, \"positiveRate\": 0.038, \"state\": \"US\", \"sma7d\": 0.043}, {\"date\": \"2020-06-13T00:00:00\", \"totalTestResultsIncrease\": 496428.0, \"positiveIncrease\": 25341.0, \"death\": 109084.0, \"deathIncrease\": 691.0, \"positiveRate\": 0.051, \"state\": \"US\", \"sma7d\": 0.044}, {\"date\": \"2020-06-14T00:00:00\", \"totalTestResultsIncrease\": 485220.0, \"positiveIncrease\": 21373.0, \"death\": 109439.0, \"deathIncrease\": 355.0, \"positiveRate\": 0.044, \"state\": \"US\", \"sma7d\": 0.045}, {\"date\": \"2020-06-15T00:00:00\", \"totalTestResultsIncrease\": 432811.0, \"positiveIncrease\": 18510.0, \"death\": 109819.0, \"deathIncrease\": 380.0, \"positiveRate\": 0.043, \"state\": \"US\", \"sma7d\": 0.045}, {\"date\": \"2020-06-16T00:00:00\", \"totalTestResultsIncrease\": 464529.0, \"positiveIncrease\": 23435.0, \"death\": 110548.0, \"deathIncrease\": 729.0, \"positiveRate\": 0.05, \"state\": \"US\", \"sma7d\": 0.046}, {\"date\": \"2020-06-17T00:00:00\", \"totalTestResultsIncrease\": 485290.0, \"positiveIncrease\": 23873.0, \"death\": 111315.0, \"deathIncrease\": 767.0, \"positiveRate\": 0.049, \"state\": \"US\", \"sma7d\": 0.046}, {\"date\": \"2020-06-18T00:00:00\", \"totalTestResultsIncrease\": 516193.0, \"positiveIncrease\": 27527.0, \"death\": 112019.0, \"deathIncrease\": 704.0, \"positiveRate\": 0.053, \"state\": \"US\", \"sma7d\": 0.047}, {\"date\": \"2020-06-19T00:00:00\", \"totalTestResultsIncrease\": 573992.0, \"positiveIncrease\": 31046.0, \"death\": 112674.0, \"deathIncrease\": 655.0, \"positiveRate\": 0.054, \"state\": \"US\", \"sma7d\": 0.049}, {\"date\": \"2020-06-20T00:00:00\", \"totalTestResultsIncrease\": 559215.0, \"positiveIncrease\": 31994.0, \"death\": 113302.0, \"deathIncrease\": 628.0, \"positiveRate\": 0.057, \"state\": \"US\", \"sma7d\": 0.05}, {\"date\": \"2020-06-21T00:00:00\", \"totalTestResultsIncrease\": 511098.0, \"positiveIncrease\": 27284.0, \"death\": 113594.0, \"deathIncrease\": 292.0, \"positiveRate\": 0.053, \"state\": \"US\", \"sma7d\": 0.051}, {\"date\": \"2020-06-22T00:00:00\", \"totalTestResultsIncrease\": 466605.0, \"positiveIncrease\": 27017.0, \"death\": 113877.0, \"deathIncrease\": 283.0, \"positiveRate\": 0.058, \"state\": \"US\", \"sma7d\": 0.053}, {\"date\": \"2020-06-23T00:00:00\", \"totalTestResultsIncrease\": 491719.0, \"positiveIncrease\": 33021.0, \"death\": 114585.0, \"deathIncrease\": 708.0, \"positiveRate\": 0.067, \"state\": \"US\", \"sma7d\": 0.056}, {\"date\": \"2020-06-24T00:00:00\", \"totalTestResultsIncrease\": 519202.0, \"positiveIncrease\": 38684.0, \"death\": 115309.0, \"deathIncrease\": 724.0, \"positiveRate\": 0.075, \"state\": \"US\", \"sma7d\": 0.06}, {\"date\": \"2020-06-25T00:00:00\", \"totalTestResultsIncrease\": 637148.0, \"positiveIncrease\": 39072.0, \"death\": 117810.0, \"deathIncrease\": 2501.0, \"positiveRate\": 0.061, \"state\": \"US\", \"sma7d\": 0.061}, {\"date\": \"2020-06-26T00:00:00\", \"totalTestResultsIncrease\": 606747.0, \"positiveIncrease\": 44421.0, \"death\": 118446.0, \"deathIncrease\": 636.0, \"positiveRate\": 0.073, \"state\": \"US\", \"sma7d\": 0.063}, {\"date\": \"2020-06-27T00:00:00\", \"totalTestResultsIncrease\": 599386.0, \"positiveIncrease\": 43783.0, \"death\": 118955.0, \"deathIncrease\": 509.0, \"positiveRate\": 0.073, \"state\": \"US\", \"sma7d\": 0.066}, {\"date\": \"2020-06-28T00:00:00\", \"totalTestResultsIncrease\": 583898.0, \"positiveIncrease\": 41857.0, \"death\": 119226.0, \"deathIncrease\": 271.0, \"positiveRate\": 0.072, \"state\": \"US\", \"sma7d\": 0.068}, {\"date\": \"2020-06-29T00:00:00\", \"totalTestResultsIncrease\": 646824.0, \"positiveIncrease\": 39175.0, \"death\": 119556.0, \"deathIncrease\": 330.0, \"positiveRate\": 0.061, \"state\": \"US\", \"sma7d\": 0.069}, {\"date\": \"2020-06-30T00:00:00\", \"totalTestResultsIncrease\": 624063.0, \"positiveIncrease\": 47462.0, \"death\": 120152.0, \"deathIncrease\": 596.0, \"positiveRate\": 0.076, \"state\": \"US\", \"sma7d\": 0.07}, {\"date\": \"2020-07-01T00:00:00\", \"totalTestResultsIncrease\": 633286.0, \"positiveIncrease\": 50674.0, \"death\": 120853.0, \"deathIncrease\": 701.0, \"positiveRate\": 0.08, \"state\": \"US\", \"sma7d\": 0.071}, {\"date\": \"2020-07-02T00:00:00\", \"totalTestResultsIncrease\": 662316.0, \"positiveIncrease\": 53826.0, \"death\": 121550.0, \"deathIncrease\": 697.0, \"positiveRate\": 0.081, \"state\": \"US\", \"sma7d\": 0.074}, {\"date\": \"2020-07-03T00:00:00\", \"totalTestResultsIncrease\": 710949.0, \"positiveIncrease\": 54223.0, \"death\": 122147.0, \"deathIncrease\": 597.0, \"positiveRate\": 0.076, \"state\": \"US\", \"sma7d\": 0.074}, {\"date\": \"2020-07-04T00:00:00\", \"totalTestResultsIncrease\": 642171.0, \"positiveIncrease\": 54734.0, \"death\": 122453.0, \"deathIncrease\": 306.0, \"positiveRate\": 0.085, \"state\": \"US\", \"sma7d\": 0.076}, {\"date\": \"2020-07-05T00:00:00\", \"totalTestResultsIncrease\": 681450.0, \"positiveIncrease\": 45789.0, \"death\": 122662.0, \"deathIncrease\": 209.0, \"positiveRate\": 0.067, \"state\": \"US\", \"sma7d\": 0.075}, {\"date\": \"2020-07-06T00:00:00\", \"totalTestResultsIncrease\": 501201.0, \"positiveIncrease\": 41600.0, \"death\": 122904.0, \"deathIncrease\": 242.0, \"positiveRate\": 0.083, \"state\": \"US\", \"sma7d\": 0.078}, {\"date\": \"2020-07-07T00:00:00\", \"totalTestResultsIncrease\": 634791.0, \"positiveIncrease\": 51766.0, \"death\": 123826.0, \"deathIncrease\": 922.0, \"positiveRate\": 0.082, \"state\": \"US\", \"sma7d\": 0.079}, {\"date\": \"2020-07-08T00:00:00\", \"totalTestResultsIncrease\": 629102.0, \"positiveIncrease\": 62147.0, \"death\": 124723.0, \"deathIncrease\": 897.0, \"positiveRate\": 0.099, \"state\": \"US\", \"sma7d\": 0.082}, {\"date\": \"2020-07-09T00:00:00\", \"totalTestResultsIncrease\": 703050.0, \"positiveIncrease\": 58836.0, \"death\": 125590.0, \"deathIncrease\": 867.0, \"positiveRate\": 0.084, \"state\": \"US\", \"sma7d\": 0.082}, {\"date\": \"2020-07-10T00:00:00\", \"totalTestResultsIncrease\": 810806.0, \"positiveIncrease\": 66645.0, \"death\": 126444.0, \"deathIncrease\": 854.0, \"positiveRate\": 0.082, \"state\": \"US\", \"sma7d\": 0.083}, {\"date\": \"2020-07-11T00:00:00\", \"totalTestResultsIncrease\": 698444.0, \"positiveIncrease\": 63007.0, \"death\": 127201.0, \"deathIncrease\": 757.0, \"positiveRate\": 0.09, \"state\": \"US\", \"sma7d\": 0.084}, {\"date\": \"2020-07-12T00:00:00\", \"totalTestResultsIncrease\": 758324.0, \"positiveIncrease\": 60978.0, \"death\": 127677.0, \"deathIncrease\": 476.0, \"positiveRate\": 0.08, \"state\": \"US\", \"sma7d\": 0.086}, {\"date\": \"2020-07-13T00:00:00\", \"totalTestResultsIncrease\": 693576.0, \"positiveIncrease\": 58465.0, \"death\": 128004.0, \"deathIncrease\": 327.0, \"positiveRate\": 0.084, \"state\": \"US\", \"sma7d\": 0.086}, {\"date\": \"2020-07-14T00:00:00\", \"totalTestResultsIncrease\": 769982.0, \"positiveIncrease\": 62879.0, \"death\": 128740.0, \"deathIncrease\": 736.0, \"positiveRate\": 0.082, \"state\": \"US\", \"sma7d\": 0.086}, {\"date\": \"2020-07-15T00:00:00\", \"totalTestResultsIncrease\": 761997.0, \"positiveIncrease\": 65382.0, \"death\": 129598.0, \"deathIncrease\": 858.0, \"positiveRate\": 0.086, \"state\": \"US\", \"sma7d\": 0.084}, {\"date\": \"2020-07-16T00:00:00\", \"totalTestResultsIncrease\": 827564.0, \"positiveIncrease\": 70953.0, \"death\": 130572.0, \"deathIncrease\": 974.0, \"positiveRate\": 0.086, \"state\": \"US\", \"sma7d\": 0.084}, {\"date\": \"2020-07-17T00:00:00\", \"totalTestResultsIncrease\": 837392.0, \"positiveIncrease\": 77233.0, \"death\": 131523.0, \"deathIncrease\": 951.0, \"positiveRate\": 0.092, \"state\": \"US\", \"sma7d\": 0.086}, {\"date\": \"2020-07-18T00:00:00\", \"totalTestResultsIncrease\": 761632.0, \"positiveIncrease\": 65180.0, \"death\": 132395.0, \"deathIncrease\": 872.0, \"positiveRate\": 0.086, \"state\": \"US\", \"sma7d\": 0.085}, {\"date\": \"2020-07-19T00:00:00\", \"totalTestResultsIncrease\": 798508.0, \"positiveIncrease\": 64884.0, \"death\": 132921.0, \"deathIncrease\": 526.0, \"positiveRate\": 0.081, \"state\": \"US\", \"sma7d\": 0.085}, {\"date\": \"2020-07-20T00:00:00\", \"totalTestResultsIncrease\": 711015.0, \"positiveIncrease\": 56971.0, \"death\": 133283.0, \"deathIncrease\": 362.0, \"positiveRate\": 0.08, \"state\": \"US\", \"sma7d\": 0.085}, {\"date\": \"2020-07-21T00:00:00\", \"totalTestResultsIncrease\": 750248.0, \"positiveIncrease\": 63642.0, \"death\": 134321.0, \"deathIncrease\": 1038.0, \"positiveRate\": 0.085, \"state\": \"US\", \"sma7d\": 0.085}, {\"date\": \"2020-07-22T00:00:00\", \"totalTestResultsIncrease\": 795502.0, \"positiveIncrease\": 69150.0, \"death\": 135438.0, \"deathIncrease\": 1117.0, \"positiveRate\": 0.087, \"state\": \"US\", \"sma7d\": 0.085}, {\"date\": \"2020-07-23T00:00:00\", \"totalTestResultsIncrease\": 824399.0, \"positiveIncrease\": 71027.0, \"death\": 136477.0, \"deathIncrease\": 1039.0, \"positiveRate\": 0.086, \"state\": \"US\", \"sma7d\": 0.085}, {\"date\": \"2020-07-24T00:00:00\", \"totalTestResultsIncrease\": 929838.0, \"positiveIncrease\": 75193.0, \"death\": 137655.0, \"deathIncrease\": 1178.0, \"positiveRate\": 0.081, \"state\": \"US\", \"sma7d\": 0.084}, {\"date\": \"2020-07-25T00:00:00\", \"totalTestResultsIncrease\": 797589.0, \"positiveIncrease\": 65413.0, \"death\": 138692.0, \"deathIncrease\": 1037.0, \"positiveRate\": 0.082, \"state\": \"US\", \"sma7d\": 0.083}, {\"date\": \"2020-07-26T00:00:00\", \"totalTestResultsIncrease\": 855811.0, \"positiveIncrease\": 61713.0, \"death\": 139250.0, \"deathIncrease\": 558.0, \"positiveRate\": 0.072, \"state\": \"US\", \"sma7d\": 0.082}, {\"date\": \"2020-07-27T00:00:00\", \"totalTestResultsIncrease\": 760840.0, \"positiveIncrease\": 55134.0, \"death\": 140309.0, \"deathIncrease\": 1059.0, \"positiveRate\": 0.072, \"state\": \"US\", \"sma7d\": 0.081}, {\"date\": \"2020-07-28T00:00:00\", \"totalTestResultsIncrease\": 733243.0, \"positiveIncrease\": 56229.0, \"death\": 141430.0, \"deathIncrease\": 1121.0, \"positiveRate\": 0.077, \"state\": \"US\", \"sma7d\": 0.08}, {\"date\": \"2020-07-29T00:00:00\", \"totalTestResultsIncrease\": 855570.0, \"positiveIncrease\": 66969.0, \"death\": 142877.0, \"deathIncrease\": 1447.0, \"positiveRate\": 0.078, \"state\": \"US\", \"sma7d\": 0.078}, {\"date\": \"2020-07-30T00:00:00\", \"totalTestResultsIncrease\": 812880.0, \"positiveIncrease\": 69718.0, \"death\": 144139.0, \"deathIncrease\": 1262.0, \"positiveRate\": 0.086, \"state\": \"US\", \"sma7d\": 0.078}, {\"date\": \"2020-07-31T00:00:00\", \"totalTestResultsIncrease\": 718956.0, \"positiveIncrease\": 67503.0, \"death\": 145447.0, \"deathIncrease\": 1308.0, \"positiveRate\": 0.094, \"state\": \"US\", \"sma7d\": 0.08}, {\"date\": \"2020-08-01T00:00:00\", \"totalTestResultsIncrease\": 713277.0, \"positiveIncrease\": 60264.0, \"death\": 146619.0, \"deathIncrease\": 1172.0, \"positiveRate\": 0.084, \"state\": \"US\", \"sma7d\": 0.08}, {\"date\": \"2020-08-02T00:00:00\", \"totalTestResultsIncrease\": 721445.0, \"positiveIncrease\": 48537.0, \"death\": 147110.0, \"deathIncrease\": 515.0, \"positiveRate\": 0.067, \"state\": \"US\", \"sma7d\": 0.08}]}}, {\"mode\": \"vega-lite\"});\n",
       "</script>"
      ],
      "text/plain": [
       "alt.LayerChart(...)"
      ]
     },
     "execution_count": 8,
     "metadata": {},
     "output_type": "execute_result"
    }
   ],
   "source": [
    "create_plot(us, 'positiveRate')"
   ]
  },
  {
   "cell_type": "code",
   "execution_count": 9,
   "metadata": {
    "execution": {
     "iopub.execute_input": "2020-08-02T22:33:40.737342Z",
     "iopub.status.busy": "2020-08-02T22:33:40.735307Z",
     "iopub.status.idle": "2020-08-02T22:33:40.834875Z",
     "shell.execute_reply": "2020-08-02T22:33:40.834363Z"
    },
    "papermill": {
     "duration": 0.118819,
     "end_time": "2020-08-02T22:33:40.835013",
     "exception": false,
     "start_time": "2020-08-02T22:33:40.716194",
     "status": "completed"
    },
    "tags": []
   },
   "outputs": [
    {
     "data": {
      "text/html": [
       "\n",
       "<div id=\"altair-viz-7cca768b77d8454d84d9d7d90bc3f83b\"></div>\n",
       "<script type=\"text/javascript\">\n",
       "  (function(spec, embedOpt){\n",
       "    let outputDiv = document.currentScript.previousElementSibling;\n",
       "    if (outputDiv.id !== \"altair-viz-7cca768b77d8454d84d9d7d90bc3f83b\") {\n",
       "      outputDiv = document.getElementById(\"altair-viz-7cca768b77d8454d84d9d7d90bc3f83b\");\n",
       "    }\n",
       "    const paths = {\n",
       "      \"vega\": \"https://cdn.jsdelivr.net/npm//vega@5?noext\",\n",
       "      \"vega-lib\": \"https://cdn.jsdelivr.net/npm//vega-lib?noext\",\n",
       "      \"vega-lite\": \"https://cdn.jsdelivr.net/npm//vega-lite@4.8.1?noext\",\n",
       "      \"vega-embed\": \"https://cdn.jsdelivr.net/npm//vega-embed@6?noext\",\n",
       "    };\n",
       "\n",
       "    function loadScript(lib) {\n",
       "      return new Promise(function(resolve, reject) {\n",
       "        var s = document.createElement('script');\n",
       "        s.src = paths[lib];\n",
       "        s.async = true;\n",
       "        s.onload = () => resolve(paths[lib]);\n",
       "        s.onerror = () => reject(`Error loading script: ${paths[lib]}`);\n",
       "        document.getElementsByTagName(\"head\")[0].appendChild(s);\n",
       "      });\n",
       "    }\n",
       "\n",
       "    function showError(err) {\n",
       "      outputDiv.innerHTML = `<div class=\"error\" style=\"color:red;\">${err}</div>`;\n",
       "      throw err;\n",
       "    }\n",
       "\n",
       "    function displayChart(vegaEmbed) {\n",
       "      vegaEmbed(outputDiv, spec, embedOpt)\n",
       "        .catch(err => showError(`Javascript Error: ${err.message}<br>This usually means there's a typo in your chart specification. See the javascript console for the full traceback.`));\n",
       "    }\n",
       "\n",
       "    if(typeof define === \"function\" && define.amd) {\n",
       "      requirejs.config({paths});\n",
       "      require([\"vega-embed\"], displayChart, err => showError(`Error loading script: ${err.message}`));\n",
       "    } else if (typeof vegaEmbed === \"function\") {\n",
       "      displayChart(vegaEmbed);\n",
       "    } else {\n",
       "      loadScript(\"vega\")\n",
       "        .then(() => loadScript(\"vega-lite\"))\n",
       "        .then(() => loadScript(\"vega-embed\"))\n",
       "        .catch(showError)\n",
       "        .then(() => displayChart(vegaEmbed));\n",
       "    }\n",
       "  })({\"config\": {\"view\": {\"continuousWidth\": 400, \"continuousHeight\": 300}}, \"layer\": [{\"layer\": [{\"mark\": {\"type\": \"point\", \"size\": 75}, \"encoding\": {\"tooltip\": [{\"type\": \"temporal\", \"field\": \"date\"}, {\"type\": \"quantitative\", \"field\": \"deathIncrease\"}, {\"type\": \"quantitative\", \"field\": \"sma7d\"}], \"x\": {\"type\": \"temporal\", \"field\": \"date\"}, \"y\": {\"type\": \"quantitative\", \"field\": \"deathIncrease\"}}, \"selection\": {\"selector006\": {\"type\": \"interval\", \"bind\": \"scales\", \"encodings\": [\"x\", \"y\"]}}}, {\"mark\": {\"type\": \"line\", \"color\": \"purple\"}, \"encoding\": {\"x\": {\"type\": \"temporal\", \"field\": \"date\"}, \"y\": {\"type\": \"quantitative\", \"field\": \"sma7d\"}}}]}, {\"mark\": {\"type\": \"rule\", \"color\": \"#aaa\"}, \"encoding\": {\"x\": {\"type\": \"temporal\", \"field\": \"date\"}}, \"transform\": [{\"filter\": {\"selection\": \"selector005\"}}]}, {\"mark\": \"circle\", \"encoding\": {\"opacity\": {\"condition\": {\"value\": 1, \"selection\": \"selector005\"}, \"value\": 0}, \"tooltip\": [{\"type\": \"temporal\", \"field\": \"date\"}, {\"type\": \"quantitative\", \"field\": \"deathIncrease\"}, {\"type\": \"quantitative\", \"field\": \"sma7d\"}], \"x\": {\"type\": \"temporal\", \"field\": \"date\"}, \"y\": {\"type\": \"quantitative\", \"field\": \"deathIncrease\"}}, \"selection\": {\"selector005\": {\"type\": \"single\", \"encodings\": [\"x\"], \"on\": \"mouseover\", \"nearest\": true, \"empty\": \"none\"}}}, {\"mark\": {\"type\": \"text\", \"align\": \"left\", \"dx\": 5, \"dy\": -5, \"stroke\": \"white\", \"strokeWidth\": 2}, \"encoding\": {\"text\": {\"type\": \"quantitative\", \"field\": \"deathIncrease\"}, \"tooltip\": [{\"type\": \"temporal\", \"field\": \"date\"}, {\"type\": \"quantitative\", \"field\": \"deathIncrease\"}, {\"type\": \"quantitative\", \"field\": \"sma7d\"}], \"x\": {\"type\": \"temporal\", \"field\": \"date\"}, \"y\": {\"type\": \"quantitative\", \"field\": \"deathIncrease\"}}, \"transform\": [{\"filter\": {\"selection\": \"selector005\"}}]}, {\"mark\": {\"type\": \"text\", \"align\": \"left\", \"dx\": 5, \"dy\": -5}, \"encoding\": {\"text\": {\"type\": \"quantitative\", \"field\": \"deathIncrease\"}, \"tooltip\": [{\"type\": \"temporal\", \"field\": \"date\"}, {\"type\": \"quantitative\", \"field\": \"deathIncrease\"}, {\"type\": \"quantitative\", \"field\": \"sma7d\"}], \"x\": {\"type\": \"temporal\", \"field\": \"date\"}, \"y\": {\"type\": \"quantitative\", \"field\": \"deathIncrease\"}}, \"transform\": [{\"filter\": {\"selection\": \"selector005\"}}]}], \"data\": {\"name\": \"data-3cf07693f4faa1b5a0a6fe0c50c1189e\"}, \"height\": 400, \"title\": \"US: deathIncrease\", \"width\": 500, \"$schema\": \"https://vega.github.io/schema/vega-lite/v4.8.1.json\", \"datasets\": {\"data-3cf07693f4faa1b5a0a6fe0c50c1189e\": [{\"date\": \"2020-06-08T00:00:00\", \"totalTestResultsIncrease\": 395146.0, \"positiveIncrease\": 17012.0, \"death\": 104940.0, \"deathIncrease\": 660.0, \"positiveRate\": 0.043, \"state\": \"US\", \"sma7d\": 784.857}, {\"date\": \"2020-06-09T00:00:00\", \"totalTestResultsIncrease\": 419724.0, \"positiveIncrease\": 17175.0, \"death\": 105838.0, \"deathIncrease\": 898.0, \"positiveRate\": 0.041, \"state\": \"US\", \"sma7d\": 776.143}, {\"date\": \"2020-06-10T00:00:00\", \"totalTestResultsIncrease\": 428999.0, \"positiveIncrease\": 20803.0, \"death\": 106723.0, \"deathIncrease\": 885.0, \"positiveRate\": 0.048, \"state\": \"US\", \"sma7d\": 761.0}, {\"date\": \"2020-06-11T00:00:00\", \"totalTestResultsIncrease\": 459455.0, \"positiveIncrease\": 22032.0, \"death\": 107621.0, \"deathIncrease\": 898.0, \"positiveRate\": 0.048, \"state\": \"US\", \"sma7d\": 762.429}, {\"date\": \"2020-06-12T00:00:00\", \"totalTestResultsIncrease\": 623125.0, \"positiveIncrease\": 23477.0, \"death\": 108393.0, \"deathIncrease\": 772.0, \"positiveRate\": 0.038, \"state\": \"US\", \"sma7d\": 755.143}, {\"date\": \"2020-06-13T00:00:00\", \"totalTestResultsIncrease\": 496428.0, \"positiveIncrease\": 25341.0, \"death\": 109084.0, \"deathIncrease\": 691.0, \"positiveRate\": 0.051, \"state\": \"US\", \"sma7d\": 750.0}, {\"date\": \"2020-06-14T00:00:00\", \"totalTestResultsIncrease\": 485220.0, \"positiveIncrease\": 21373.0, \"death\": 109439.0, \"deathIncrease\": 355.0, \"positiveRate\": 0.044, \"state\": \"US\", \"sma7d\": 737.0}, {\"date\": \"2020-06-15T00:00:00\", \"totalTestResultsIncrease\": 432811.0, \"positiveIncrease\": 18510.0, \"death\": 109819.0, \"deathIncrease\": 380.0, \"positiveRate\": 0.043, \"state\": \"US\", \"sma7d\": 697.0}, {\"date\": \"2020-06-16T00:00:00\", \"totalTestResultsIncrease\": 464529.0, \"positiveIncrease\": 23435.0, \"death\": 110548.0, \"deathIncrease\": 729.0, \"positiveRate\": 0.05, \"state\": \"US\", \"sma7d\": 672.857}, {\"date\": \"2020-06-17T00:00:00\", \"totalTestResultsIncrease\": 485290.0, \"positiveIncrease\": 23873.0, \"death\": 111315.0, \"deathIncrease\": 767.0, \"positiveRate\": 0.049, \"state\": \"US\", \"sma7d\": 656.0}, {\"date\": \"2020-06-18T00:00:00\", \"totalTestResultsIncrease\": 516193.0, \"positiveIncrease\": 27527.0, \"death\": 112019.0, \"deathIncrease\": 704.0, \"positiveRate\": 0.053, \"state\": \"US\", \"sma7d\": 628.286}, {\"date\": \"2020-06-19T00:00:00\", \"totalTestResultsIncrease\": 573992.0, \"positiveIncrease\": 31046.0, \"death\": 112674.0, \"deathIncrease\": 655.0, \"positiveRate\": 0.054, \"state\": \"US\", \"sma7d\": 611.571}, {\"date\": \"2020-06-20T00:00:00\", \"totalTestResultsIncrease\": 559215.0, \"positiveIncrease\": 31994.0, \"death\": 113302.0, \"deathIncrease\": 628.0, \"positiveRate\": 0.057, \"state\": \"US\", \"sma7d\": 602.571}, {\"date\": \"2020-06-21T00:00:00\", \"totalTestResultsIncrease\": 511098.0, \"positiveIncrease\": 27284.0, \"death\": 113594.0, \"deathIncrease\": 292.0, \"positiveRate\": 0.053, \"state\": \"US\", \"sma7d\": 593.571}, {\"date\": \"2020-06-22T00:00:00\", \"totalTestResultsIncrease\": 466605.0, \"positiveIncrease\": 27017.0, \"death\": 113877.0, \"deathIncrease\": 283.0, \"positiveRate\": 0.058, \"state\": \"US\", \"sma7d\": 579.714}, {\"date\": \"2020-06-23T00:00:00\", \"totalTestResultsIncrease\": 491719.0, \"positiveIncrease\": 33021.0, \"death\": 114585.0, \"deathIncrease\": 708.0, \"positiveRate\": 0.067, \"state\": \"US\", \"sma7d\": 576.714}, {\"date\": \"2020-06-24T00:00:00\", \"totalTestResultsIncrease\": 519202.0, \"positiveIncrease\": 38684.0, \"death\": 115309.0, \"deathIncrease\": 724.0, \"positiveRate\": 0.075, \"state\": \"US\", \"sma7d\": 570.571}, {\"date\": \"2020-06-25T00:00:00\", \"totalTestResultsIncrease\": 637148.0, \"positiveIncrease\": 39072.0, \"death\": 117810.0, \"deathIncrease\": 2501.0, \"positiveRate\": 0.061, \"state\": \"US\", \"sma7d\": 827.286}, {\"date\": \"2020-06-26T00:00:00\", \"totalTestResultsIncrease\": 606747.0, \"positiveIncrease\": 44421.0, \"death\": 118446.0, \"deathIncrease\": 636.0, \"positiveRate\": 0.073, \"state\": \"US\", \"sma7d\": 824.571}, {\"date\": \"2020-06-27T00:00:00\", \"totalTestResultsIncrease\": 599386.0, \"positiveIncrease\": 43783.0, \"death\": 118955.0, \"deathIncrease\": 509.0, \"positiveRate\": 0.073, \"state\": \"US\", \"sma7d\": 807.571}, {\"date\": \"2020-06-28T00:00:00\", \"totalTestResultsIncrease\": 583898.0, \"positiveIncrease\": 41857.0, \"death\": 119226.0, \"deathIncrease\": 271.0, \"positiveRate\": 0.072, \"state\": \"US\", \"sma7d\": 804.571}, {\"date\": \"2020-06-29T00:00:00\", \"totalTestResultsIncrease\": 646824.0, \"positiveIncrease\": 39175.0, \"death\": 119556.0, \"deathIncrease\": 330.0, \"positiveRate\": 0.061, \"state\": \"US\", \"sma7d\": 811.286}, {\"date\": \"2020-06-30T00:00:00\", \"totalTestResultsIncrease\": 624063.0, \"positiveIncrease\": 47462.0, \"death\": 120152.0, \"deathIncrease\": 596.0, \"positiveRate\": 0.076, \"state\": \"US\", \"sma7d\": 795.286}, {\"date\": \"2020-07-01T00:00:00\", \"totalTestResultsIncrease\": 633286.0, \"positiveIncrease\": 50674.0, \"death\": 120853.0, \"deathIncrease\": 701.0, \"positiveRate\": 0.08, \"state\": \"US\", \"sma7d\": 792.0}, {\"date\": \"2020-07-02T00:00:00\", \"totalTestResultsIncrease\": 662316.0, \"positiveIncrease\": 53826.0, \"death\": 121550.0, \"deathIncrease\": 697.0, \"positiveRate\": 0.081, \"state\": \"US\", \"sma7d\": 534.286}, {\"date\": \"2020-07-03T00:00:00\", \"totalTestResultsIncrease\": 710949.0, \"positiveIncrease\": 54223.0, \"death\": 122147.0, \"deathIncrease\": 597.0, \"positiveRate\": 0.076, \"state\": \"US\", \"sma7d\": 528.714}, {\"date\": \"2020-07-04T00:00:00\", \"totalTestResultsIncrease\": 642171.0, \"positiveIncrease\": 54734.0, \"death\": 122453.0, \"deathIncrease\": 306.0, \"positiveRate\": 0.085, \"state\": \"US\", \"sma7d\": 499.714}, {\"date\": \"2020-07-05T00:00:00\", \"totalTestResultsIncrease\": 681450.0, \"positiveIncrease\": 45789.0, \"death\": 122662.0, \"deathIncrease\": 209.0, \"positiveRate\": 0.067, \"state\": \"US\", \"sma7d\": 490.857}, {\"date\": \"2020-07-06T00:00:00\", \"totalTestResultsIncrease\": 501201.0, \"positiveIncrease\": 41600.0, \"death\": 122904.0, \"deathIncrease\": 242.0, \"positiveRate\": 0.083, \"state\": \"US\", \"sma7d\": 478.286}, {\"date\": \"2020-07-07T00:00:00\", \"totalTestResultsIncrease\": 634791.0, \"positiveIncrease\": 51766.0, \"death\": 123826.0, \"deathIncrease\": 922.0, \"positiveRate\": 0.082, \"state\": \"US\", \"sma7d\": 524.857}, {\"date\": \"2020-07-08T00:00:00\", \"totalTestResultsIncrease\": 629102.0, \"positiveIncrease\": 62147.0, \"death\": 124723.0, \"deathIncrease\": 897.0, \"positiveRate\": 0.099, \"state\": \"US\", \"sma7d\": 552.857}, {\"date\": \"2020-07-09T00:00:00\", \"totalTestResultsIncrease\": 703050.0, \"positiveIncrease\": 58836.0, \"death\": 125590.0, \"deathIncrease\": 867.0, \"positiveRate\": 0.084, \"state\": \"US\", \"sma7d\": 577.143}, {\"date\": \"2020-07-10T00:00:00\", \"totalTestResultsIncrease\": 810806.0, \"positiveIncrease\": 66645.0, \"death\": 126444.0, \"deathIncrease\": 854.0, \"positiveRate\": 0.082, \"state\": \"US\", \"sma7d\": 613.857}, {\"date\": \"2020-07-11T00:00:00\", \"totalTestResultsIncrease\": 698444.0, \"positiveIncrease\": 63007.0, \"death\": 127201.0, \"deathIncrease\": 757.0, \"positiveRate\": 0.09, \"state\": \"US\", \"sma7d\": 678.286}, {\"date\": \"2020-07-12T00:00:00\", \"totalTestResultsIncrease\": 758324.0, \"positiveIncrease\": 60978.0, \"death\": 127677.0, \"deathIncrease\": 476.0, \"positiveRate\": 0.08, \"state\": \"US\", \"sma7d\": 716.429}, {\"date\": \"2020-07-13T00:00:00\", \"totalTestResultsIncrease\": 693576.0, \"positiveIncrease\": 58465.0, \"death\": 128004.0, \"deathIncrease\": 327.0, \"positiveRate\": 0.084, \"state\": \"US\", \"sma7d\": 728.571}, {\"date\": \"2020-07-14T00:00:00\", \"totalTestResultsIncrease\": 769982.0, \"positiveIncrease\": 62879.0, \"death\": 128740.0, \"deathIncrease\": 736.0, \"positiveRate\": 0.082, \"state\": \"US\", \"sma7d\": 702.0}, {\"date\": \"2020-07-15T00:00:00\", \"totalTestResultsIncrease\": 761997.0, \"positiveIncrease\": 65382.0, \"death\": 129598.0, \"deathIncrease\": 858.0, \"positiveRate\": 0.086, \"state\": \"US\", \"sma7d\": 696.429}, {\"date\": \"2020-07-16T00:00:00\", \"totalTestResultsIncrease\": 827564.0, \"positiveIncrease\": 70953.0, \"death\": 130572.0, \"deathIncrease\": 974.0, \"positiveRate\": 0.086, \"state\": \"US\", \"sma7d\": 711.714}, {\"date\": \"2020-07-17T00:00:00\", \"totalTestResultsIncrease\": 837392.0, \"positiveIncrease\": 77233.0, \"death\": 131523.0, \"deathIncrease\": 951.0, \"positiveRate\": 0.092, \"state\": \"US\", \"sma7d\": 725.571}, {\"date\": \"2020-07-18T00:00:00\", \"totalTestResultsIncrease\": 761632.0, \"positiveIncrease\": 65180.0, \"death\": 132395.0, \"deathIncrease\": 872.0, \"positiveRate\": 0.086, \"state\": \"US\", \"sma7d\": 742.0}, {\"date\": \"2020-07-19T00:00:00\", \"totalTestResultsIncrease\": 798508.0, \"positiveIncrease\": 64884.0, \"death\": 132921.0, \"deathIncrease\": 526.0, \"positiveRate\": 0.081, \"state\": \"US\", \"sma7d\": 749.143}, {\"date\": \"2020-07-20T00:00:00\", \"totalTestResultsIncrease\": 711015.0, \"positiveIncrease\": 56971.0, \"death\": 133283.0, \"deathIncrease\": 362.0, \"positiveRate\": 0.08, \"state\": \"US\", \"sma7d\": 754.143}, {\"date\": \"2020-07-21T00:00:00\", \"totalTestResultsIncrease\": 750248.0, \"positiveIncrease\": 63642.0, \"death\": 134321.0, \"deathIncrease\": 1038.0, \"positiveRate\": 0.085, \"state\": \"US\", \"sma7d\": 797.286}, {\"date\": \"2020-07-22T00:00:00\", \"totalTestResultsIncrease\": 795502.0, \"positiveIncrease\": 69150.0, \"death\": 135438.0, \"deathIncrease\": 1117.0, \"positiveRate\": 0.087, \"state\": \"US\", \"sma7d\": 834.286}, {\"date\": \"2020-07-23T00:00:00\", \"totalTestResultsIncrease\": 824399.0, \"positiveIncrease\": 71027.0, \"death\": 136477.0, \"deathIncrease\": 1039.0, \"positiveRate\": 0.086, \"state\": \"US\", \"sma7d\": 843.571}, {\"date\": \"2020-07-24T00:00:00\", \"totalTestResultsIncrease\": 929838.0, \"positiveIncrease\": 75193.0, \"death\": 137655.0, \"deathIncrease\": 1178.0, \"positiveRate\": 0.081, \"state\": \"US\", \"sma7d\": 876.0}, {\"date\": \"2020-07-25T00:00:00\", \"totalTestResultsIncrease\": 797589.0, \"positiveIncrease\": 65413.0, \"death\": 138692.0, \"deathIncrease\": 1037.0, \"positiveRate\": 0.082, \"state\": \"US\", \"sma7d\": 899.571}, {\"date\": \"2020-07-26T00:00:00\", \"totalTestResultsIncrease\": 855811.0, \"positiveIncrease\": 61713.0, \"death\": 139250.0, \"deathIncrease\": 558.0, \"positiveRate\": 0.072, \"state\": \"US\", \"sma7d\": 904.143}, {\"date\": \"2020-07-27T00:00:00\", \"totalTestResultsIncrease\": 760840.0, \"positiveIncrease\": 55134.0, \"death\": 140309.0, \"deathIncrease\": 1059.0, \"positiveRate\": 0.072, \"state\": \"US\", \"sma7d\": 1003.714}, {\"date\": \"2020-07-28T00:00:00\", \"totalTestResultsIncrease\": 733243.0, \"positiveIncrease\": 56229.0, \"death\": 141430.0, \"deathIncrease\": 1121.0, \"positiveRate\": 0.077, \"state\": \"US\", \"sma7d\": 1015.571}, {\"date\": \"2020-07-29T00:00:00\", \"totalTestResultsIncrease\": 855570.0, \"positiveIncrease\": 66969.0, \"death\": 142877.0, \"deathIncrease\": 1447.0, \"positiveRate\": 0.078, \"state\": \"US\", \"sma7d\": 1062.714}, {\"date\": \"2020-07-30T00:00:00\", \"totalTestResultsIncrease\": 812880.0, \"positiveIncrease\": 69718.0, \"death\": 144139.0, \"deathIncrease\": 1262.0, \"positiveRate\": 0.086, \"state\": \"US\", \"sma7d\": 1094.571}, {\"date\": \"2020-07-31T00:00:00\", \"totalTestResultsIncrease\": 718956.0, \"positiveIncrease\": 67503.0, \"death\": 145447.0, \"deathIncrease\": 1308.0, \"positiveRate\": 0.094, \"state\": \"US\", \"sma7d\": 1113.143}, {\"date\": \"2020-08-01T00:00:00\", \"totalTestResultsIncrease\": 713277.0, \"positiveIncrease\": 60264.0, \"death\": 146619.0, \"deathIncrease\": 1172.0, \"positiveRate\": 0.084, \"state\": \"US\", \"sma7d\": 1132.429}, {\"date\": \"2020-08-02T00:00:00\", \"totalTestResultsIncrease\": 721445.0, \"positiveIncrease\": 48537.0, \"death\": 147110.0, \"deathIncrease\": 515.0, \"positiveRate\": 0.067, \"state\": \"US\", \"sma7d\": 1126.286}]}}, {\"mode\": \"vega-lite\"});\n",
       "</script>"
      ],
      "text/plain": [
       "alt.LayerChart(...)"
      ]
     },
     "execution_count": 9,
     "metadata": {},
     "output_type": "execute_result"
    }
   ],
   "source": [
    "create_plot(us, 'deathIncrease')"
   ]
  },
  {
   "cell_type": "markdown",
   "metadata": {
    "papermill": {
     "duration": 0.015032,
     "end_time": "2020-08-02T22:33:40.865429",
     "exception": false,
     "start_time": "2020-08-02T22:33:40.850397",
     "status": "completed"
    },
    "tags": []
   },
   "source": [
    "## NY"
   ]
  },
  {
   "cell_type": "code",
   "execution_count": 10,
   "metadata": {
    "execution": {
     "iopub.execute_input": "2020-08-02T22:33:40.899207Z",
     "iopub.status.busy": "2020-08-02T22:33:40.898666Z",
     "iopub.status.idle": "2020-08-02T22:33:41.070120Z",
     "shell.execute_reply": "2020-08-02T22:33:41.069636Z"
    },
    "papermill": {
     "duration": 0.189994,
     "end_time": "2020-08-02T22:33:41.070256",
     "exception": false,
     "start_time": "2020-08-02T22:33:40.880262",
     "status": "completed"
    },
    "tags": []
   },
   "outputs": [],
   "source": [
    "ny = create_df(df, (lambda d: d['state'] == 'NY'), 'New York')"
   ]
  },
  {
   "cell_type": "code",
   "execution_count": 11,
   "metadata": {
    "execution": {
     "iopub.execute_input": "2020-08-02T22:33:41.106265Z",
     "iopub.status.busy": "2020-08-02T22:33:41.105705Z",
     "iopub.status.idle": "2020-08-02T22:33:41.199993Z",
     "shell.execute_reply": "2020-08-02T22:33:41.199505Z"
    },
    "papermill": {
     "duration": 0.113477,
     "end_time": "2020-08-02T22:33:41.200127",
     "exception": false,
     "start_time": "2020-08-02T22:33:41.086650",
     "status": "completed"
    },
    "tags": []
   },
   "outputs": [
    {
     "data": {
      "text/html": [
       "\n",
       "<div id=\"altair-viz-7755759164ed49c793100f42aaa83bff\"></div>\n",
       "<script type=\"text/javascript\">\n",
       "  (function(spec, embedOpt){\n",
       "    let outputDiv = document.currentScript.previousElementSibling;\n",
       "    if (outputDiv.id !== \"altair-viz-7755759164ed49c793100f42aaa83bff\") {\n",
       "      outputDiv = document.getElementById(\"altair-viz-7755759164ed49c793100f42aaa83bff\");\n",
       "    }\n",
       "    const paths = {\n",
       "      \"vega\": \"https://cdn.jsdelivr.net/npm//vega@5?noext\",\n",
       "      \"vega-lib\": \"https://cdn.jsdelivr.net/npm//vega-lib?noext\",\n",
       "      \"vega-lite\": \"https://cdn.jsdelivr.net/npm//vega-lite@4.8.1?noext\",\n",
       "      \"vega-embed\": \"https://cdn.jsdelivr.net/npm//vega-embed@6?noext\",\n",
       "    };\n",
       "\n",
       "    function loadScript(lib) {\n",
       "      return new Promise(function(resolve, reject) {\n",
       "        var s = document.createElement('script');\n",
       "        s.src = paths[lib];\n",
       "        s.async = true;\n",
       "        s.onload = () => resolve(paths[lib]);\n",
       "        s.onerror = () => reject(`Error loading script: ${paths[lib]}`);\n",
       "        document.getElementsByTagName(\"head\")[0].appendChild(s);\n",
       "      });\n",
       "    }\n",
       "\n",
       "    function showError(err) {\n",
       "      outputDiv.innerHTML = `<div class=\"error\" style=\"color:red;\">${err}</div>`;\n",
       "      throw err;\n",
       "    }\n",
       "\n",
       "    function displayChart(vegaEmbed) {\n",
       "      vegaEmbed(outputDiv, spec, embedOpt)\n",
       "        .catch(err => showError(`Javascript Error: ${err.message}<br>This usually means there's a typo in your chart specification. See the javascript console for the full traceback.`));\n",
       "    }\n",
       "\n",
       "    if(typeof define === \"function\" && define.amd) {\n",
       "      requirejs.config({paths});\n",
       "      require([\"vega-embed\"], displayChart, err => showError(`Error loading script: ${err.message}`));\n",
       "    } else if (typeof vegaEmbed === \"function\") {\n",
       "      displayChart(vegaEmbed);\n",
       "    } else {\n",
       "      loadScript(\"vega\")\n",
       "        .then(() => loadScript(\"vega-lite\"))\n",
       "        .then(() => loadScript(\"vega-embed\"))\n",
       "        .catch(showError)\n",
       "        .then(() => displayChart(vegaEmbed));\n",
       "    }\n",
       "  })({\"config\": {\"view\": {\"continuousWidth\": 400, \"continuousHeight\": 300}}, \"layer\": [{\"layer\": [{\"mark\": {\"type\": \"point\", \"size\": 75}, \"encoding\": {\"tooltip\": [{\"type\": \"temporal\", \"field\": \"date\"}, {\"type\": \"quantitative\", \"field\": \"positiveIncrease\"}, {\"type\": \"quantitative\", \"field\": \"sma7d\"}], \"x\": {\"type\": \"temporal\", \"field\": \"date\"}, \"y\": {\"type\": \"quantitative\", \"field\": \"positiveIncrease\"}}, \"selection\": {\"selector008\": {\"type\": \"interval\", \"bind\": \"scales\", \"encodings\": [\"x\", \"y\"]}}}, {\"mark\": {\"type\": \"line\", \"color\": \"purple\"}, \"encoding\": {\"x\": {\"type\": \"temporal\", \"field\": \"date\"}, \"y\": {\"type\": \"quantitative\", \"field\": \"sma7d\"}}}]}, {\"mark\": {\"type\": \"rule\", \"color\": \"#aaa\"}, \"encoding\": {\"x\": {\"type\": \"temporal\", \"field\": \"date\"}}, \"transform\": [{\"filter\": {\"selection\": \"selector007\"}}]}, {\"mark\": \"circle\", \"encoding\": {\"opacity\": {\"condition\": {\"value\": 1, \"selection\": \"selector007\"}, \"value\": 0}, \"tooltip\": [{\"type\": \"temporal\", \"field\": \"date\"}, {\"type\": \"quantitative\", \"field\": \"positiveIncrease\"}, {\"type\": \"quantitative\", \"field\": \"sma7d\"}], \"x\": {\"type\": \"temporal\", \"field\": \"date\"}, \"y\": {\"type\": \"quantitative\", \"field\": \"positiveIncrease\"}}, \"selection\": {\"selector007\": {\"type\": \"single\", \"encodings\": [\"x\"], \"on\": \"mouseover\", \"nearest\": true, \"empty\": \"none\"}}}, {\"mark\": {\"type\": \"text\", \"align\": \"left\", \"dx\": 5, \"dy\": -5, \"stroke\": \"white\", \"strokeWidth\": 2}, \"encoding\": {\"text\": {\"type\": \"quantitative\", \"field\": \"positiveIncrease\"}, \"tooltip\": [{\"type\": \"temporal\", \"field\": \"date\"}, {\"type\": \"quantitative\", \"field\": \"positiveIncrease\"}, {\"type\": \"quantitative\", \"field\": \"sma7d\"}], \"x\": {\"type\": \"temporal\", \"field\": \"date\"}, \"y\": {\"type\": \"quantitative\", \"field\": \"positiveIncrease\"}}, \"transform\": [{\"filter\": {\"selection\": \"selector007\"}}]}, {\"mark\": {\"type\": \"text\", \"align\": \"left\", \"dx\": 5, \"dy\": -5}, \"encoding\": {\"text\": {\"type\": \"quantitative\", \"field\": \"positiveIncrease\"}, \"tooltip\": [{\"type\": \"temporal\", \"field\": \"date\"}, {\"type\": \"quantitative\", \"field\": \"positiveIncrease\"}, {\"type\": \"quantitative\", \"field\": \"sma7d\"}], \"x\": {\"type\": \"temporal\", \"field\": \"date\"}, \"y\": {\"type\": \"quantitative\", \"field\": \"positiveIncrease\"}}, \"transform\": [{\"filter\": {\"selection\": \"selector007\"}}]}], \"data\": {\"name\": \"data-07f5b27fb9c488031b27110b28eae266\"}, \"height\": 400, \"title\": \"New York: positiveIncrease\", \"width\": 500, \"$schema\": \"https://vega.github.io/schema/vega-lite/v4.8.1.json\", \"datasets\": {\"data-07f5b27fb9c488031b27110b28eae266\": [{\"date\": \"2020-06-08T00:00:00\", \"totalTestResultsIncrease\": 58054.0, \"positiveIncrease\": 702.0, \"death\": 24299.0, \"deathIncrease\": 40.0, \"positiveRate\": 0.012, \"state\": \"New York\", \"sma7d\": 1012.571}, {\"date\": \"2020-06-09T00:00:00\", \"totalTestResultsIncrease\": 49973.0, \"positiveIncrease\": 683.0, \"death\": 24348.0, \"deathIncrease\": 49.0, \"positiveRate\": 0.014, \"state\": \"New York\", \"sma7d\": 920.286}, {\"date\": \"2020-06-10T00:00:00\", \"totalTestResultsIncrease\": 62297.0, \"positiveIncrease\": 674.0, \"death\": 24404.0, \"deathIncrease\": 56.0, \"positiveRate\": 0.011, \"state\": \"New York\", \"sma7d\": 867.286}, {\"date\": \"2020-06-11T00:00:00\", \"totalTestResultsIncrease\": 60839.0, \"positiveIncrease\": 736.0, \"death\": 24442.0, \"deathIncrease\": 38.0, \"positiveRate\": 0.012, \"state\": \"New York\", \"sma7d\": 822.714}, {\"date\": \"2020-06-12T00:00:00\", \"totalTestResultsIncrease\": 72395.0, \"positiveIncrease\": 822.0, \"death\": 24495.0, \"deathIncrease\": 53.0, \"positiveRate\": 0.011, \"state\": \"New York\", \"sma7d\": 786.571}, {\"date\": \"2020-06-13T00:00:00\", \"totalTestResultsIncrease\": 70840.0, \"positiveIncrease\": 916.0, \"death\": 24527.0, \"deathIncrease\": 32.0, \"positiveRate\": 0.013, \"state\": \"New York\", \"sma7d\": 759.143}, {\"date\": \"2020-06-14T00:00:00\", \"totalTestResultsIncrease\": 62359.0, \"positiveIncrease\": 694.0, \"death\": 24551.0, \"deathIncrease\": 24.0, \"positiveRate\": 0.011, \"state\": \"New York\", \"sma7d\": 746.714}, {\"date\": \"2020-06-15T00:00:00\", \"totalTestResultsIncrease\": 56611.0, \"positiveIncrease\": 620.0, \"death\": 24579.0, \"deathIncrease\": 28.0, \"positiveRate\": 0.011, \"state\": \"New York\", \"sma7d\": 735.0}, {\"date\": \"2020-06-16T00:00:00\", \"totalTestResultsIncrease\": 60568.0, \"positiveIncrease\": 631.0, \"death\": 24608.0, \"deathIncrease\": 29.0, \"positiveRate\": 0.01, \"state\": \"New York\", \"sma7d\": 727.571}, {\"date\": \"2020-06-17T00:00:00\", \"totalTestResultsIncrease\": 59341.0, \"positiveIncrease\": 567.0, \"death\": 24629.0, \"deathIncrease\": 21.0, \"positiveRate\": 0.01, \"state\": \"New York\", \"sma7d\": 712.286}, {\"date\": \"2020-06-18T00:00:00\", \"totalTestResultsIncrease\": 68541.0, \"positiveIncrease\": 618.0, \"death\": 24661.0, \"deathIncrease\": 32.0, \"positiveRate\": 0.009, \"state\": \"New York\", \"sma7d\": 695.429}, {\"date\": \"2020-06-19T00:00:00\", \"totalTestResultsIncrease\": 79303.0, \"positiveIncrease\": 796.0, \"death\": 24686.0, \"deathIncrease\": 25.0, \"positiveRate\": 0.01, \"state\": \"New York\", \"sma7d\": 691.714}, {\"date\": \"2020-06-20T00:00:00\", \"totalTestResultsIncrease\": 68830.0, \"positiveIncrease\": 716.0, \"death\": 24710.0, \"deathIncrease\": 24.0, \"positiveRate\": 0.01, \"state\": \"New York\", \"sma7d\": 663.143}, {\"date\": \"2020-06-21T00:00:00\", \"totalTestResultsIncrease\": 67526.0, \"positiveIncrease\": 664.0, \"death\": 24725.0, \"deathIncrease\": 15.0, \"positiveRate\": 0.01, \"state\": \"New York\", \"sma7d\": 658.857}, {\"date\": \"2020-06-22T00:00:00\", \"totalTestResultsIncrease\": 56780.0, \"positiveIncrease\": 552.0, \"death\": 24739.0, \"deathIncrease\": 14.0, \"positiveRate\": 0.01, \"state\": \"New York\", \"sma7d\": 649.143}, {\"date\": \"2020-06-23T00:00:00\", \"totalTestResultsIncrease\": 48709.0, \"positiveIncrease\": 597.0, \"death\": 24766.0, \"deathIncrease\": 27.0, \"positiveRate\": 0.012, \"state\": \"New York\", \"sma7d\": 644.286}, {\"date\": \"2020-06-24T00:00:00\", \"totalTestResultsIncrease\": 51144.0, \"positiveIncrease\": 581.0, \"death\": 24782.0, \"deathIncrease\": 16.0, \"positiveRate\": 0.011, \"state\": \"New York\", \"sma7d\": 646.286}, {\"date\": \"2020-06-25T00:00:00\", \"totalTestResultsIncrease\": 67642.0, \"positiveIncrease\": 749.0, \"death\": 24800.0, \"deathIncrease\": 18.0, \"positiveRate\": 0.011, \"state\": \"New York\", \"sma7d\": 665.0}, {\"date\": \"2020-06-26T00:00:00\", \"totalTestResultsIncrease\": 61723.0, \"positiveIncrease\": 805.0, \"death\": 24814.0, \"deathIncrease\": 14.0, \"positiveRate\": 0.013, \"state\": \"New York\", \"sma7d\": 666.286}, {\"date\": \"2020-06-27T00:00:00\", \"totalTestResultsIncrease\": 73262.0, \"positiveIncrease\": 703.0, \"death\": 24830.0, \"deathIncrease\": 16.0, \"positiveRate\": 0.01, \"state\": \"New York\", \"sma7d\": 664.429}, {\"date\": \"2020-06-28T00:00:00\", \"totalTestResultsIncrease\": 61906.0, \"positiveIncrease\": 616.0, \"death\": 24835.0, \"deathIncrease\": 5.0, \"positiveRate\": 0.01, \"state\": \"New York\", \"sma7d\": 657.571}, {\"date\": \"2020-06-29T00:00:00\", \"totalTestResultsIncrease\": 46428.0, \"positiveIncrease\": 391.0, \"death\": 24842.0, \"deathIncrease\": 7.0, \"positiveRate\": 0.008, \"state\": \"New York\", \"sma7d\": 634.571}, {\"date\": \"2020-06-30T00:00:00\", \"totalTestResultsIncrease\": 52025.0, \"positiveIncrease\": 524.0, \"death\": 24855.0, \"deathIncrease\": 13.0, \"positiveRate\": 0.01, \"state\": \"New York\", \"sma7d\": 624.143}, {\"date\": \"2020-07-01T00:00:00\", \"totalTestResultsIncrease\": 56710.0, \"positiveIncrease\": 625.0, \"death\": 24866.0, \"deathIncrease\": 11.0, \"positiveRate\": 0.011, \"state\": \"New York\", \"sma7d\": 630.429}, {\"date\": \"2020-07-02T00:00:00\", \"totalTestResultsIncrease\": 69945.0, \"positiveIncrease\": 875.0, \"death\": 24877.0, \"deathIncrease\": 11.0, \"positiveRate\": 0.013, \"state\": \"New York\", \"sma7d\": 648.429}, {\"date\": \"2020-07-03T00:00:00\", \"totalTestResultsIncrease\": 66392.0, \"positiveIncrease\": 918.0, \"death\": 24885.0, \"deathIncrease\": 8.0, \"positiveRate\": 0.014, \"state\": \"New York\", \"sma7d\": 664.571}, {\"date\": \"2020-07-04T00:00:00\", \"totalTestResultsIncrease\": 62403.0, \"positiveIncrease\": 726.0, \"death\": 24896.0, \"deathIncrease\": 11.0, \"positiveRate\": 0.012, \"state\": \"New York\", \"sma7d\": 667.857}, {\"date\": \"2020-07-05T00:00:00\", \"totalTestResultsIncrease\": 63415.0, \"positiveIncrease\": 533.0, \"death\": 24904.0, \"deathIncrease\": 8.0, \"positiveRate\": 0.008, \"state\": \"New York\", \"sma7d\": 656.0}, {\"date\": \"2020-07-06T00:00:00\", \"totalTestResultsIncrease\": 54328.0, \"positiveIncrease\": 518.0, \"death\": 24913.0, \"deathIncrease\": 9.0, \"positiveRate\": 0.01, \"state\": \"New York\", \"sma7d\": 674.143}, {\"date\": \"2020-07-07T00:00:00\", \"totalTestResultsIncrease\": 56736.0, \"positiveIncrease\": 588.0, \"death\": 24924.0, \"deathIncrease\": 11.0, \"positiveRate\": 0.01, \"state\": \"New York\", \"sma7d\": 683.286}, {\"date\": \"2020-07-08T00:00:00\", \"totalTestResultsIncrease\": 57585.0, \"positiveIncrease\": 692.0, \"death\": 24944.0, \"deathIncrease\": 20.0, \"positiveRate\": 0.012, \"state\": \"New York\", \"sma7d\": 692.857}, {\"date\": \"2020-07-09T00:00:00\", \"totalTestResultsIncrease\": 65564.0, \"positiveIncrease\": 584.0, \"death\": 24959.0, \"deathIncrease\": 15.0, \"positiveRate\": 0.009, \"state\": \"New York\", \"sma7d\": 651.286}, {\"date\": \"2020-07-10T00:00:00\", \"totalTestResultsIncrease\": 73558.0, \"positiveIncrease\": 786.0, \"death\": 24968.0, \"deathIncrease\": 9.0, \"positiveRate\": 0.011, \"state\": \"New York\", \"sma7d\": 632.429}, {\"date\": \"2020-07-11T00:00:00\", \"totalTestResultsIncrease\": 69203.0, \"positiveIncrease\": 730.0, \"death\": 24974.0, \"deathIncrease\": 6.0, \"positiveRate\": 0.011, \"state\": \"New York\", \"sma7d\": 633.0}, {\"date\": \"2020-07-12T00:00:00\", \"totalTestResultsIncrease\": 62418.0, \"positiveIncrease\": 677.0, \"death\": 24979.0, \"deathIncrease\": 5.0, \"positiveRate\": 0.011, \"state\": \"New York\", \"sma7d\": 653.571}, {\"date\": \"2020-07-13T00:00:00\", \"totalTestResultsIncrease\": 51687.0, \"positiveIncrease\": 557.0, \"death\": 24989.0, \"deathIncrease\": 10.0, \"positiveRate\": 0.011, \"state\": \"New York\", \"sma7d\": 659.143}, {\"date\": \"2020-07-14T00:00:00\", \"totalTestResultsIncrease\": 60045.0, \"positiveIncrease\": 912.0, \"death\": 24994.0, \"deathIncrease\": 5.0, \"positiveRate\": 0.015, \"state\": \"New York\", \"sma7d\": 705.429}, {\"date\": \"2020-07-15T00:00:00\", \"totalTestResultsIncrease\": 63598.0, \"positiveIncrease\": 831.0, \"death\": 25003.0, \"deathIncrease\": 9.0, \"positiveRate\": 0.013, \"state\": \"New York\", \"sma7d\": 725.286}, {\"date\": \"2020-07-16T00:00:00\", \"totalTestResultsIncrease\": 72685.0, \"positiveIncrease\": 769.0, \"death\": 25014.0, \"deathIncrease\": 11.0, \"positiveRate\": 0.011, \"state\": \"New York\", \"sma7d\": 751.714}, {\"date\": \"2020-07-17T00:00:00\", \"totalTestResultsIncrease\": 78239.0, \"positiveIncrease\": 776.0, \"death\": 25024.0, \"deathIncrease\": 10.0, \"positiveRate\": 0.01, \"state\": \"New York\", \"sma7d\": 750.286}, {\"date\": \"2020-07-18T00:00:00\", \"totalTestResultsIncrease\": 69817.0, \"positiveIncrease\": 754.0, \"death\": 25035.0, \"deathIncrease\": 11.0, \"positiveRate\": 0.011, \"state\": \"New York\", \"sma7d\": 753.714}, {\"date\": \"2020-07-19T00:00:00\", \"totalTestResultsIncrease\": 46204.0, \"positiveIncrease\": 502.0, \"death\": 25048.0, \"deathIncrease\": 13.0, \"positiveRate\": 0.011, \"state\": \"New York\", \"sma7d\": 728.714}, {\"date\": \"2020-07-20T00:00:00\", \"totalTestResultsIncrease\": 49342.0, \"positiveIncrease\": 519.0, \"death\": 25056.0, \"deathIncrease\": 8.0, \"positiveRate\": 0.011, \"state\": \"New York\", \"sma7d\": 723.286}, {\"date\": \"2020-07-21T00:00:00\", \"totalTestResultsIncrease\": 66169.0, \"positiveIncrease\": 855.0, \"death\": 25058.0, \"deathIncrease\": 2.0, \"positiveRate\": 0.013, \"state\": \"New York\", \"sma7d\": 715.143}, {\"date\": \"2020-07-22T00:00:00\", \"totalTestResultsIncrease\": 67659.0, \"positiveIncrease\": 705.0, \"death\": 25068.0, \"deathIncrease\": 10.0, \"positiveRate\": 0.01, \"state\": \"New York\", \"sma7d\": 697.143}, {\"date\": \"2020-07-23T00:00:00\", \"totalTestResultsIncrease\": 69698.0, \"positiveIncrease\": 811.0, \"death\": 25081.0, \"deathIncrease\": 13.0, \"positiveRate\": 0.012, \"state\": \"New York\", \"sma7d\": 703.143}, {\"date\": \"2020-07-24T00:00:00\", \"totalTestResultsIncrease\": 76507.0, \"positiveIncrease\": 753.0, \"death\": 25090.0, \"deathIncrease\": 9.0, \"positiveRate\": 0.01, \"state\": \"New York\", \"sma7d\": 699.857}, {\"date\": \"2020-07-25T00:00:00\", \"totalTestResultsIncrease\": 71466.0, \"positiveIncrease\": 750.0, \"death\": 25103.0, \"deathIncrease\": 13.0, \"positiveRate\": 0.01, \"state\": \"New York\", \"sma7d\": 699.286}, {\"date\": \"2020-07-26T00:00:00\", \"totalTestResultsIncrease\": 53568.0, \"positiveIncrease\": 536.0, \"death\": 25106.0, \"deathIncrease\": 3.0, \"positiveRate\": 0.01, \"state\": \"New York\", \"sma7d\": 704.143}, {\"date\": \"2020-07-27T00:00:00\", \"totalTestResultsIncrease\": 57270.0, \"positiveIncrease\": 608.0, \"death\": 25117.0, \"deathIncrease\": 11.0, \"positiveRate\": 0.011, \"state\": \"New York\", \"sma7d\": 716.857}, {\"date\": \"2020-07-28T00:00:00\", \"totalTestResultsIncrease\": 57397.0, \"positiveIncrease\": 534.0, \"death\": 25126.0, \"deathIncrease\": 9.0, \"positiveRate\": 0.009, \"state\": \"New York\", \"sma7d\": 671.0}, {\"date\": \"2020-07-29T00:00:00\", \"totalTestResultsIncrease\": 62276.0, \"positiveIncrease\": 715.0, \"death\": 25132.0, \"deathIncrease\": 6.0, \"positiveRate\": 0.011, \"state\": \"New York\", \"sma7d\": 672.429}, {\"date\": \"2020-07-30T00:00:00\", \"totalTestResultsIncrease\": 73546.0, \"positiveIncrease\": 777.0, \"death\": 25145.0, \"deathIncrease\": 13.0, \"positiveRate\": 0.011, \"state\": \"New York\", \"sma7d\": 667.571}, {\"date\": \"2020-07-31T00:00:00\", \"totalTestResultsIncrease\": 68869.0, \"positiveIncrease\": 644.0, \"death\": 25150.0, \"deathIncrease\": 5.0, \"positiveRate\": 0.009, \"state\": \"New York\", \"sma7d\": 652.0}, {\"date\": \"2020-08-01T00:00:00\", \"totalTestResultsIncrease\": 82737.0, \"positiveIncrease\": 753.0, \"death\": 25164.0, \"deathIncrease\": 14.0, \"positiveRate\": 0.009, \"state\": \"New York\", \"sma7d\": 652.429}, {\"date\": \"2020-08-02T00:00:00\", \"totalTestResultsIncrease\": 58961.0, \"positiveIncrease\": 531.0, \"death\": 25170.0, \"deathIncrease\": 6.0, \"positiveRate\": 0.009, \"state\": \"New York\", \"sma7d\": 651.714}]}}, {\"mode\": \"vega-lite\"});\n",
       "</script>"
      ],
      "text/plain": [
       "alt.LayerChart(...)"
      ]
     },
     "execution_count": 11,
     "metadata": {},
     "output_type": "execute_result"
    }
   ],
   "source": [
    "create_plot(ny, 'positiveIncrease')"
   ]
  },
  {
   "cell_type": "code",
   "execution_count": 12,
   "metadata": {
    "execution": {
     "iopub.execute_input": "2020-08-02T22:33:41.236339Z",
     "iopub.status.busy": "2020-08-02T22:33:41.235813Z",
     "iopub.status.idle": "2020-08-02T22:33:41.330168Z",
     "shell.execute_reply": "2020-08-02T22:33:41.329701Z"
    },
    "papermill": {
     "duration": 0.114403,
     "end_time": "2020-08-02T22:33:41.330304",
     "exception": false,
     "start_time": "2020-08-02T22:33:41.215901",
     "status": "completed"
    },
    "tags": []
   },
   "outputs": [
    {
     "data": {
      "text/html": [
       "\n",
       "<div id=\"altair-viz-71130a9681cf4c4788f09364f09a725f\"></div>\n",
       "<script type=\"text/javascript\">\n",
       "  (function(spec, embedOpt){\n",
       "    let outputDiv = document.currentScript.previousElementSibling;\n",
       "    if (outputDiv.id !== \"altair-viz-71130a9681cf4c4788f09364f09a725f\") {\n",
       "      outputDiv = document.getElementById(\"altair-viz-71130a9681cf4c4788f09364f09a725f\");\n",
       "    }\n",
       "    const paths = {\n",
       "      \"vega\": \"https://cdn.jsdelivr.net/npm//vega@5?noext\",\n",
       "      \"vega-lib\": \"https://cdn.jsdelivr.net/npm//vega-lib?noext\",\n",
       "      \"vega-lite\": \"https://cdn.jsdelivr.net/npm//vega-lite@4.8.1?noext\",\n",
       "      \"vega-embed\": \"https://cdn.jsdelivr.net/npm//vega-embed@6?noext\",\n",
       "    };\n",
       "\n",
       "    function loadScript(lib) {\n",
       "      return new Promise(function(resolve, reject) {\n",
       "        var s = document.createElement('script');\n",
       "        s.src = paths[lib];\n",
       "        s.async = true;\n",
       "        s.onload = () => resolve(paths[lib]);\n",
       "        s.onerror = () => reject(`Error loading script: ${paths[lib]}`);\n",
       "        document.getElementsByTagName(\"head\")[0].appendChild(s);\n",
       "      });\n",
       "    }\n",
       "\n",
       "    function showError(err) {\n",
       "      outputDiv.innerHTML = `<div class=\"error\" style=\"color:red;\">${err}</div>`;\n",
       "      throw err;\n",
       "    }\n",
       "\n",
       "    function displayChart(vegaEmbed) {\n",
       "      vegaEmbed(outputDiv, spec, embedOpt)\n",
       "        .catch(err => showError(`Javascript Error: ${err.message}<br>This usually means there's a typo in your chart specification. See the javascript console for the full traceback.`));\n",
       "    }\n",
       "\n",
       "    if(typeof define === \"function\" && define.amd) {\n",
       "      requirejs.config({paths});\n",
       "      require([\"vega-embed\"], displayChart, err => showError(`Error loading script: ${err.message}`));\n",
       "    } else if (typeof vegaEmbed === \"function\") {\n",
       "      displayChart(vegaEmbed);\n",
       "    } else {\n",
       "      loadScript(\"vega\")\n",
       "        .then(() => loadScript(\"vega-lite\"))\n",
       "        .then(() => loadScript(\"vega-embed\"))\n",
       "        .catch(showError)\n",
       "        .then(() => displayChart(vegaEmbed));\n",
       "    }\n",
       "  })({\"config\": {\"view\": {\"continuousWidth\": 400, \"continuousHeight\": 300}}, \"layer\": [{\"layer\": [{\"mark\": {\"type\": \"point\", \"size\": 75}, \"encoding\": {\"tooltip\": [{\"type\": \"temporal\", \"field\": \"date\"}, {\"type\": \"quantitative\", \"field\": \"positiveRate\"}, {\"type\": \"quantitative\", \"field\": \"sma7d\"}], \"x\": {\"type\": \"temporal\", \"field\": \"date\"}, \"y\": {\"type\": \"quantitative\", \"field\": \"positiveRate\"}}, \"selection\": {\"selector010\": {\"type\": \"interval\", \"bind\": \"scales\", \"encodings\": [\"x\", \"y\"]}}}, {\"mark\": {\"type\": \"line\", \"color\": \"purple\"}, \"encoding\": {\"x\": {\"type\": \"temporal\", \"field\": \"date\"}, \"y\": {\"type\": \"quantitative\", \"field\": \"sma7d\"}}}]}, {\"mark\": {\"type\": \"rule\", \"color\": \"#aaa\"}, \"encoding\": {\"x\": {\"type\": \"temporal\", \"field\": \"date\"}}, \"transform\": [{\"filter\": {\"selection\": \"selector009\"}}]}, {\"mark\": \"circle\", \"encoding\": {\"opacity\": {\"condition\": {\"value\": 1, \"selection\": \"selector009\"}, \"value\": 0}, \"tooltip\": [{\"type\": \"temporal\", \"field\": \"date\"}, {\"type\": \"quantitative\", \"field\": \"positiveRate\"}, {\"type\": \"quantitative\", \"field\": \"sma7d\"}], \"x\": {\"type\": \"temporal\", \"field\": \"date\"}, \"y\": {\"type\": \"quantitative\", \"field\": \"positiveRate\"}}, \"selection\": {\"selector009\": {\"type\": \"single\", \"encodings\": [\"x\"], \"on\": \"mouseover\", \"nearest\": true, \"empty\": \"none\"}}}, {\"mark\": {\"type\": \"text\", \"align\": \"left\", \"dx\": 5, \"dy\": -5, \"stroke\": \"white\", \"strokeWidth\": 2}, \"encoding\": {\"text\": {\"type\": \"quantitative\", \"field\": \"positiveRate\"}, \"tooltip\": [{\"type\": \"temporal\", \"field\": \"date\"}, {\"type\": \"quantitative\", \"field\": \"positiveRate\"}, {\"type\": \"quantitative\", \"field\": \"sma7d\"}], \"x\": {\"type\": \"temporal\", \"field\": \"date\"}, \"y\": {\"type\": \"quantitative\", \"field\": \"positiveRate\"}}, \"transform\": [{\"filter\": {\"selection\": \"selector009\"}}]}, {\"mark\": {\"type\": \"text\", \"align\": \"left\", \"dx\": 5, \"dy\": -5}, \"encoding\": {\"text\": {\"type\": \"quantitative\", \"field\": \"positiveRate\"}, \"tooltip\": [{\"type\": \"temporal\", \"field\": \"date\"}, {\"type\": \"quantitative\", \"field\": \"positiveRate\"}, {\"type\": \"quantitative\", \"field\": \"sma7d\"}], \"x\": {\"type\": \"temporal\", \"field\": \"date\"}, \"y\": {\"type\": \"quantitative\", \"field\": \"positiveRate\"}}, \"transform\": [{\"filter\": {\"selection\": \"selector009\"}}]}], \"data\": {\"name\": \"data-753605a3314e1df38d56177989429ad0\"}, \"height\": 400, \"title\": \"New York: positiveRate\", \"width\": 500, \"$schema\": \"https://vega.github.io/schema/vega-lite/v4.8.1.json\", \"datasets\": {\"data-753605a3314e1df38d56177989429ad0\": [{\"date\": \"2020-06-08T00:00:00\", \"totalTestResultsIncrease\": 58054.0, \"positiveIncrease\": 702.0, \"death\": 24299.0, \"deathIncrease\": 40.0, \"positiveRate\": 0.012, \"state\": \"New York\", \"sma7d\": 0.016}, {\"date\": \"2020-06-09T00:00:00\", \"totalTestResultsIncrease\": 49973.0, \"positiveIncrease\": 683.0, \"death\": 24348.0, \"deathIncrease\": 49.0, \"positiveRate\": 0.014, \"state\": \"New York\", \"sma7d\": 0.015}, {\"date\": \"2020-06-10T00:00:00\", \"totalTestResultsIncrease\": 62297.0, \"positiveIncrease\": 674.0, \"death\": 24404.0, \"deathIncrease\": 56.0, \"positiveRate\": 0.011, \"state\": \"New York\", \"sma7d\": 0.014}, {\"date\": \"2020-06-11T00:00:00\", \"totalTestResultsIncrease\": 60839.0, \"positiveIncrease\": 736.0, \"death\": 24442.0, \"deathIncrease\": 38.0, \"positiveRate\": 0.012, \"state\": \"New York\", \"sma7d\": 0.013}, {\"date\": \"2020-06-12T00:00:00\", \"totalTestResultsIncrease\": 72395.0, \"positiveIncrease\": 822.0, \"death\": 24495.0, \"deathIncrease\": 53.0, \"positiveRate\": 0.011, \"state\": \"New York\", \"sma7d\": 0.012}, {\"date\": \"2020-06-13T00:00:00\", \"totalTestResultsIncrease\": 70840.0, \"positiveIncrease\": 916.0, \"death\": 24527.0, \"deathIncrease\": 32.0, \"positiveRate\": 0.013, \"state\": \"New York\", \"sma7d\": 0.012}, {\"date\": \"2020-06-14T00:00:00\", \"totalTestResultsIncrease\": 62359.0, \"positiveIncrease\": 694.0, \"death\": 24551.0, \"deathIncrease\": 24.0, \"positiveRate\": 0.011, \"state\": \"New York\", \"sma7d\": 0.012}, {\"date\": \"2020-06-15T00:00:00\", \"totalTestResultsIncrease\": 56611.0, \"positiveIncrease\": 620.0, \"death\": 24579.0, \"deathIncrease\": 28.0, \"positiveRate\": 0.011, \"state\": \"New York\", \"sma7d\": 0.012}, {\"date\": \"2020-06-16T00:00:00\", \"totalTestResultsIncrease\": 60568.0, \"positiveIncrease\": 631.0, \"death\": 24608.0, \"deathIncrease\": 29.0, \"positiveRate\": 0.01, \"state\": \"New York\", \"sma7d\": 0.011}, {\"date\": \"2020-06-17T00:00:00\", \"totalTestResultsIncrease\": 59341.0, \"positiveIncrease\": 567.0, \"death\": 24629.0, \"deathIncrease\": 21.0, \"positiveRate\": 0.01, \"state\": \"New York\", \"sma7d\": 0.011}, {\"date\": \"2020-06-18T00:00:00\", \"totalTestResultsIncrease\": 68541.0, \"positiveIncrease\": 618.0, \"death\": 24661.0, \"deathIncrease\": 32.0, \"positiveRate\": 0.009, \"state\": \"New York\", \"sma7d\": 0.011}, {\"date\": \"2020-06-19T00:00:00\", \"totalTestResultsIncrease\": 79303.0, \"positiveIncrease\": 796.0, \"death\": 24686.0, \"deathIncrease\": 25.0, \"positiveRate\": 0.01, \"state\": \"New York\", \"sma7d\": 0.011}, {\"date\": \"2020-06-20T00:00:00\", \"totalTestResultsIncrease\": 68830.0, \"positiveIncrease\": 716.0, \"death\": 24710.0, \"deathIncrease\": 24.0, \"positiveRate\": 0.01, \"state\": \"New York\", \"sma7d\": 0.01}, {\"date\": \"2020-06-21T00:00:00\", \"totalTestResultsIncrease\": 67526.0, \"positiveIncrease\": 664.0, \"death\": 24725.0, \"deathIncrease\": 15.0, \"positiveRate\": 0.01, \"state\": \"New York\", \"sma7d\": 0.01}, {\"date\": \"2020-06-22T00:00:00\", \"totalTestResultsIncrease\": 56780.0, \"positiveIncrease\": 552.0, \"death\": 24739.0, \"deathIncrease\": 14.0, \"positiveRate\": 0.01, \"state\": \"New York\", \"sma7d\": 0.01}, {\"date\": \"2020-06-23T00:00:00\", \"totalTestResultsIncrease\": 48709.0, \"positiveIncrease\": 597.0, \"death\": 24766.0, \"deathIncrease\": 27.0, \"positiveRate\": 0.012, \"state\": \"New York\", \"sma7d\": 0.01}, {\"date\": \"2020-06-24T00:00:00\", \"totalTestResultsIncrease\": 51144.0, \"positiveIncrease\": 581.0, \"death\": 24782.0, \"deathIncrease\": 16.0, \"positiveRate\": 0.011, \"state\": \"New York\", \"sma7d\": 0.01}, {\"date\": \"2020-06-25T00:00:00\", \"totalTestResultsIncrease\": 67642.0, \"positiveIncrease\": 749.0, \"death\": 24800.0, \"deathIncrease\": 18.0, \"positiveRate\": 0.011, \"state\": \"New York\", \"sma7d\": 0.011}, {\"date\": \"2020-06-26T00:00:00\", \"totalTestResultsIncrease\": 61723.0, \"positiveIncrease\": 805.0, \"death\": 24814.0, \"deathIncrease\": 14.0, \"positiveRate\": 0.013, \"state\": \"New York\", \"sma7d\": 0.011}, {\"date\": \"2020-06-27T00:00:00\", \"totalTestResultsIncrease\": 73262.0, \"positiveIncrease\": 703.0, \"death\": 24830.0, \"deathIncrease\": 16.0, \"positiveRate\": 0.01, \"state\": \"New York\", \"sma7d\": 0.011}, {\"date\": \"2020-06-28T00:00:00\", \"totalTestResultsIncrease\": 61906.0, \"positiveIncrease\": 616.0, \"death\": 24835.0, \"deathIncrease\": 5.0, \"positiveRate\": 0.01, \"state\": \"New York\", \"sma7d\": 0.011}, {\"date\": \"2020-06-29T00:00:00\", \"totalTestResultsIncrease\": 46428.0, \"positiveIncrease\": 391.0, \"death\": 24842.0, \"deathIncrease\": 7.0, \"positiveRate\": 0.008, \"state\": \"New York\", \"sma7d\": 0.011}, {\"date\": \"2020-06-30T00:00:00\", \"totalTestResultsIncrease\": 52025.0, \"positiveIncrease\": 524.0, \"death\": 24855.0, \"deathIncrease\": 13.0, \"positiveRate\": 0.01, \"state\": \"New York\", \"sma7d\": 0.01}, {\"date\": \"2020-07-01T00:00:00\", \"totalTestResultsIncrease\": 56710.0, \"positiveIncrease\": 625.0, \"death\": 24866.0, \"deathIncrease\": 11.0, \"positiveRate\": 0.011, \"state\": \"New York\", \"sma7d\": 0.01}, {\"date\": \"2020-07-02T00:00:00\", \"totalTestResultsIncrease\": 69945.0, \"positiveIncrease\": 875.0, \"death\": 24877.0, \"deathIncrease\": 11.0, \"positiveRate\": 0.013, \"state\": \"New York\", \"sma7d\": 0.011}, {\"date\": \"2020-07-03T00:00:00\", \"totalTestResultsIncrease\": 66392.0, \"positiveIncrease\": 918.0, \"death\": 24885.0, \"deathIncrease\": 8.0, \"positiveRate\": 0.014, \"state\": \"New York\", \"sma7d\": 0.011}, {\"date\": \"2020-07-04T00:00:00\", \"totalTestResultsIncrease\": 62403.0, \"positiveIncrease\": 726.0, \"death\": 24896.0, \"deathIncrease\": 11.0, \"positiveRate\": 0.012, \"state\": \"New York\", \"sma7d\": 0.011}, {\"date\": \"2020-07-05T00:00:00\", \"totalTestResultsIncrease\": 63415.0, \"positiveIncrease\": 533.0, \"death\": 24904.0, \"deathIncrease\": 8.0, \"positiveRate\": 0.008, \"state\": \"New York\", \"sma7d\": 0.011}, {\"date\": \"2020-07-06T00:00:00\", \"totalTestResultsIncrease\": 54328.0, \"positiveIncrease\": 518.0, \"death\": 24913.0, \"deathIncrease\": 9.0, \"positiveRate\": 0.01, \"state\": \"New York\", \"sma7d\": 0.011}, {\"date\": \"2020-07-07T00:00:00\", \"totalTestResultsIncrease\": 56736.0, \"positiveIncrease\": 588.0, \"death\": 24924.0, \"deathIncrease\": 11.0, \"positiveRate\": 0.01, \"state\": \"New York\", \"sma7d\": 0.011}, {\"date\": \"2020-07-08T00:00:00\", \"totalTestResultsIncrease\": 57585.0, \"positiveIncrease\": 692.0, \"death\": 24944.0, \"deathIncrease\": 20.0, \"positiveRate\": 0.012, \"state\": \"New York\", \"sma7d\": 0.011}, {\"date\": \"2020-07-09T00:00:00\", \"totalTestResultsIncrease\": 65564.0, \"positiveIncrease\": 584.0, \"death\": 24959.0, \"deathIncrease\": 15.0, \"positiveRate\": 0.009, \"state\": \"New York\", \"sma7d\": 0.011}, {\"date\": \"2020-07-10T00:00:00\", \"totalTestResultsIncrease\": 73558.0, \"positiveIncrease\": 786.0, \"death\": 24968.0, \"deathIncrease\": 9.0, \"positiveRate\": 0.011, \"state\": \"New York\", \"sma7d\": 0.01}, {\"date\": \"2020-07-11T00:00:00\", \"totalTestResultsIncrease\": 69203.0, \"positiveIncrease\": 730.0, \"death\": 24974.0, \"deathIncrease\": 6.0, \"positiveRate\": 0.011, \"state\": \"New York\", \"sma7d\": 0.01}, {\"date\": \"2020-07-12T00:00:00\", \"totalTestResultsIncrease\": 62418.0, \"positiveIncrease\": 677.0, \"death\": 24979.0, \"deathIncrease\": 5.0, \"positiveRate\": 0.011, \"state\": \"New York\", \"sma7d\": 0.011}, {\"date\": \"2020-07-13T00:00:00\", \"totalTestResultsIncrease\": 51687.0, \"positiveIncrease\": 557.0, \"death\": 24989.0, \"deathIncrease\": 10.0, \"positiveRate\": 0.011, \"state\": \"New York\", \"sma7d\": 0.011}, {\"date\": \"2020-07-14T00:00:00\", \"totalTestResultsIncrease\": 60045.0, \"positiveIncrease\": 912.0, \"death\": 24994.0, \"deathIncrease\": 5.0, \"positiveRate\": 0.015, \"state\": \"New York\", \"sma7d\": 0.011}, {\"date\": \"2020-07-15T00:00:00\", \"totalTestResultsIncrease\": 63598.0, \"positiveIncrease\": 831.0, \"death\": 25003.0, \"deathIncrease\": 9.0, \"positiveRate\": 0.013, \"state\": \"New York\", \"sma7d\": 0.012}, {\"date\": \"2020-07-16T00:00:00\", \"totalTestResultsIncrease\": 72685.0, \"positiveIncrease\": 769.0, \"death\": 25014.0, \"deathIncrease\": 11.0, \"positiveRate\": 0.011, \"state\": \"New York\", \"sma7d\": 0.012}, {\"date\": \"2020-07-17T00:00:00\", \"totalTestResultsIncrease\": 78239.0, \"positiveIncrease\": 776.0, \"death\": 25024.0, \"deathIncrease\": 10.0, \"positiveRate\": 0.01, \"state\": \"New York\", \"sma7d\": 0.012}, {\"date\": \"2020-07-18T00:00:00\", \"totalTestResultsIncrease\": 69817.0, \"positiveIncrease\": 754.0, \"death\": 25035.0, \"deathIncrease\": 11.0, \"positiveRate\": 0.011, \"state\": \"New York\", \"sma7d\": 0.012}, {\"date\": \"2020-07-19T00:00:00\", \"totalTestResultsIncrease\": 46204.0, \"positiveIncrease\": 502.0, \"death\": 25048.0, \"deathIncrease\": 13.0, \"positiveRate\": 0.011, \"state\": \"New York\", \"sma7d\": 0.012}, {\"date\": \"2020-07-20T00:00:00\", \"totalTestResultsIncrease\": 49342.0, \"positiveIncrease\": 519.0, \"death\": 25056.0, \"deathIncrease\": 8.0, \"positiveRate\": 0.011, \"state\": \"New York\", \"sma7d\": 0.012}, {\"date\": \"2020-07-21T00:00:00\", \"totalTestResultsIncrease\": 66169.0, \"positiveIncrease\": 855.0, \"death\": 25058.0, \"deathIncrease\": 2.0, \"positiveRate\": 0.013, \"state\": \"New York\", \"sma7d\": 0.011}, {\"date\": \"2020-07-22T00:00:00\", \"totalTestResultsIncrease\": 67659.0, \"positiveIncrease\": 705.0, \"death\": 25068.0, \"deathIncrease\": 10.0, \"positiveRate\": 0.01, \"state\": \"New York\", \"sma7d\": 0.011}, {\"date\": \"2020-07-23T00:00:00\", \"totalTestResultsIncrease\": 69698.0, \"positiveIncrease\": 811.0, \"death\": 25081.0, \"deathIncrease\": 13.0, \"positiveRate\": 0.012, \"state\": \"New York\", \"sma7d\": 0.011}, {\"date\": \"2020-07-24T00:00:00\", \"totalTestResultsIncrease\": 76507.0, \"positiveIncrease\": 753.0, \"death\": 25090.0, \"deathIncrease\": 9.0, \"positiveRate\": 0.01, \"state\": \"New York\", \"sma7d\": 0.011}, {\"date\": \"2020-07-25T00:00:00\", \"totalTestResultsIncrease\": 71466.0, \"positiveIncrease\": 750.0, \"death\": 25103.0, \"deathIncrease\": 13.0, \"positiveRate\": 0.01, \"state\": \"New York\", \"sma7d\": 0.011}, {\"date\": \"2020-07-26T00:00:00\", \"totalTestResultsIncrease\": 53568.0, \"positiveIncrease\": 536.0, \"death\": 25106.0, \"deathIncrease\": 3.0, \"positiveRate\": 0.01, \"state\": \"New York\", \"sma7d\": 0.011}, {\"date\": \"2020-07-27T00:00:00\", \"totalTestResultsIncrease\": 57270.0, \"positiveIncrease\": 608.0, \"death\": 25117.0, \"deathIncrease\": 11.0, \"positiveRate\": 0.011, \"state\": \"New York\", \"sma7d\": 0.011}, {\"date\": \"2020-07-28T00:00:00\", \"totalTestResultsIncrease\": 57397.0, \"positiveIncrease\": 534.0, \"death\": 25126.0, \"deathIncrease\": 9.0, \"positiveRate\": 0.009, \"state\": \"New York\", \"sma7d\": 0.01}, {\"date\": \"2020-07-29T00:00:00\", \"totalTestResultsIncrease\": 62276.0, \"positiveIncrease\": 715.0, \"death\": 25132.0, \"deathIncrease\": 6.0, \"positiveRate\": 0.011, \"state\": \"New York\", \"sma7d\": 0.01}, {\"date\": \"2020-07-30T00:00:00\", \"totalTestResultsIncrease\": 73546.0, \"positiveIncrease\": 777.0, \"death\": 25145.0, \"deathIncrease\": 13.0, \"positiveRate\": 0.011, \"state\": \"New York\", \"sma7d\": 0.01}, {\"date\": \"2020-07-31T00:00:00\", \"totalTestResultsIncrease\": 68869.0, \"positiveIncrease\": 644.0, \"death\": 25150.0, \"deathIncrease\": 5.0, \"positiveRate\": 0.009, \"state\": \"New York\", \"sma7d\": 0.01}, {\"date\": \"2020-08-01T00:00:00\", \"totalTestResultsIncrease\": 82737.0, \"positiveIncrease\": 753.0, \"death\": 25164.0, \"deathIncrease\": 14.0, \"positiveRate\": 0.009, \"state\": \"New York\", \"sma7d\": 0.01}, {\"date\": \"2020-08-02T00:00:00\", \"totalTestResultsIncrease\": 58961.0, \"positiveIncrease\": 531.0, \"death\": 25170.0, \"deathIncrease\": 6.0, \"positiveRate\": 0.009, \"state\": \"New York\", \"sma7d\": 0.01}]}}, {\"mode\": \"vega-lite\"});\n",
       "</script>"
      ],
      "text/plain": [
       "alt.LayerChart(...)"
      ]
     },
     "execution_count": 12,
     "metadata": {},
     "output_type": "execute_result"
    }
   ],
   "source": [
    "create_plot(ny, 'positiveRate')"
   ]
  },
  {
   "cell_type": "code",
   "execution_count": 13,
   "metadata": {
    "execution": {
     "iopub.execute_input": "2020-08-02T22:33:41.380916Z",
     "iopub.status.busy": "2020-08-02T22:33:41.375758Z",
     "iopub.status.idle": "2020-08-02T22:33:41.462254Z",
     "shell.execute_reply": "2020-08-02T22:33:41.461768Z"
    },
    "papermill": {
     "duration": 0.115577,
     "end_time": "2020-08-02T22:33:41.462383",
     "exception": false,
     "start_time": "2020-08-02T22:33:41.346806",
     "status": "completed"
    },
    "tags": []
   },
   "outputs": [
    {
     "data": {
      "text/html": [
       "\n",
       "<div id=\"altair-viz-d8f91dfdf6be479ea66b1629baabfe83\"></div>\n",
       "<script type=\"text/javascript\">\n",
       "  (function(spec, embedOpt){\n",
       "    let outputDiv = document.currentScript.previousElementSibling;\n",
       "    if (outputDiv.id !== \"altair-viz-d8f91dfdf6be479ea66b1629baabfe83\") {\n",
       "      outputDiv = document.getElementById(\"altair-viz-d8f91dfdf6be479ea66b1629baabfe83\");\n",
       "    }\n",
       "    const paths = {\n",
       "      \"vega\": \"https://cdn.jsdelivr.net/npm//vega@5?noext\",\n",
       "      \"vega-lib\": \"https://cdn.jsdelivr.net/npm//vega-lib?noext\",\n",
       "      \"vega-lite\": \"https://cdn.jsdelivr.net/npm//vega-lite@4.8.1?noext\",\n",
       "      \"vega-embed\": \"https://cdn.jsdelivr.net/npm//vega-embed@6?noext\",\n",
       "    };\n",
       "\n",
       "    function loadScript(lib) {\n",
       "      return new Promise(function(resolve, reject) {\n",
       "        var s = document.createElement('script');\n",
       "        s.src = paths[lib];\n",
       "        s.async = true;\n",
       "        s.onload = () => resolve(paths[lib]);\n",
       "        s.onerror = () => reject(`Error loading script: ${paths[lib]}`);\n",
       "        document.getElementsByTagName(\"head\")[0].appendChild(s);\n",
       "      });\n",
       "    }\n",
       "\n",
       "    function showError(err) {\n",
       "      outputDiv.innerHTML = `<div class=\"error\" style=\"color:red;\">${err}</div>`;\n",
       "      throw err;\n",
       "    }\n",
       "\n",
       "    function displayChart(vegaEmbed) {\n",
       "      vegaEmbed(outputDiv, spec, embedOpt)\n",
       "        .catch(err => showError(`Javascript Error: ${err.message}<br>This usually means there's a typo in your chart specification. See the javascript console for the full traceback.`));\n",
       "    }\n",
       "\n",
       "    if(typeof define === \"function\" && define.amd) {\n",
       "      requirejs.config({paths});\n",
       "      require([\"vega-embed\"], displayChart, err => showError(`Error loading script: ${err.message}`));\n",
       "    } else if (typeof vegaEmbed === \"function\") {\n",
       "      displayChart(vegaEmbed);\n",
       "    } else {\n",
       "      loadScript(\"vega\")\n",
       "        .then(() => loadScript(\"vega-lite\"))\n",
       "        .then(() => loadScript(\"vega-embed\"))\n",
       "        .catch(showError)\n",
       "        .then(() => displayChart(vegaEmbed));\n",
       "    }\n",
       "  })({\"config\": {\"view\": {\"continuousWidth\": 400, \"continuousHeight\": 300}}, \"layer\": [{\"layer\": [{\"mark\": {\"type\": \"point\", \"size\": 75}, \"encoding\": {\"tooltip\": [{\"type\": \"temporal\", \"field\": \"date\"}, {\"type\": \"quantitative\", \"field\": \"deathIncrease\"}, {\"type\": \"quantitative\", \"field\": \"sma7d\"}], \"x\": {\"type\": \"temporal\", \"field\": \"date\"}, \"y\": {\"type\": \"quantitative\", \"field\": \"deathIncrease\"}}, \"selection\": {\"selector012\": {\"type\": \"interval\", \"bind\": \"scales\", \"encodings\": [\"x\", \"y\"]}}}, {\"mark\": {\"type\": \"line\", \"color\": \"purple\"}, \"encoding\": {\"x\": {\"type\": \"temporal\", \"field\": \"date\"}, \"y\": {\"type\": \"quantitative\", \"field\": \"sma7d\"}}}]}, {\"mark\": {\"type\": \"rule\", \"color\": \"#aaa\"}, \"encoding\": {\"x\": {\"type\": \"temporal\", \"field\": \"date\"}}, \"transform\": [{\"filter\": {\"selection\": \"selector011\"}}]}, {\"mark\": \"circle\", \"encoding\": {\"opacity\": {\"condition\": {\"value\": 1, \"selection\": \"selector011\"}, \"value\": 0}, \"tooltip\": [{\"type\": \"temporal\", \"field\": \"date\"}, {\"type\": \"quantitative\", \"field\": \"deathIncrease\"}, {\"type\": \"quantitative\", \"field\": \"sma7d\"}], \"x\": {\"type\": \"temporal\", \"field\": \"date\"}, \"y\": {\"type\": \"quantitative\", \"field\": \"deathIncrease\"}}, \"selection\": {\"selector011\": {\"type\": \"single\", \"encodings\": [\"x\"], \"on\": \"mouseover\", \"nearest\": true, \"empty\": \"none\"}}}, {\"mark\": {\"type\": \"text\", \"align\": \"left\", \"dx\": 5, \"dy\": -5, \"stroke\": \"white\", \"strokeWidth\": 2}, \"encoding\": {\"text\": {\"type\": \"quantitative\", \"field\": \"deathIncrease\"}, \"tooltip\": [{\"type\": \"temporal\", \"field\": \"date\"}, {\"type\": \"quantitative\", \"field\": \"deathIncrease\"}, {\"type\": \"quantitative\", \"field\": \"sma7d\"}], \"x\": {\"type\": \"temporal\", \"field\": \"date\"}, \"y\": {\"type\": \"quantitative\", \"field\": \"deathIncrease\"}}, \"transform\": [{\"filter\": {\"selection\": \"selector011\"}}]}, {\"mark\": {\"type\": \"text\", \"align\": \"left\", \"dx\": 5, \"dy\": -5}, \"encoding\": {\"text\": {\"type\": \"quantitative\", \"field\": \"deathIncrease\"}, \"tooltip\": [{\"type\": \"temporal\", \"field\": \"date\"}, {\"type\": \"quantitative\", \"field\": \"deathIncrease\"}, {\"type\": \"quantitative\", \"field\": \"sma7d\"}], \"x\": {\"type\": \"temporal\", \"field\": \"date\"}, \"y\": {\"type\": \"quantitative\", \"field\": \"deathIncrease\"}}, \"transform\": [{\"filter\": {\"selection\": \"selector011\"}}]}], \"data\": {\"name\": \"data-1c6659273bdbf0b7c797667f2bfa08ff\"}, \"height\": 400, \"title\": \"New York: deathIncrease\", \"width\": 500, \"$schema\": \"https://vega.github.io/schema/vega-lite/v4.8.1.json\", \"datasets\": {\"data-1c6659273bdbf0b7c797667f2bfa08ff\": [{\"date\": \"2020-06-08T00:00:00\", \"totalTestResultsIncrease\": 58054.0, \"positiveIncrease\": 702.0, \"death\": 24299.0, \"deathIncrease\": 40.0, \"positiveRate\": 0.012, \"state\": \"New York\", \"sma7d\": 48.571}, {\"date\": \"2020-06-09T00:00:00\", \"totalTestResultsIncrease\": 49973.0, \"positiveIncrease\": 683.0, \"death\": 24348.0, \"deathIncrease\": 49.0, \"positiveRate\": 0.014, \"state\": \"New York\", \"sma7d\": 46.429}, {\"date\": \"2020-06-10T00:00:00\", \"totalTestResultsIncrease\": 62297.0, \"positiveIncrease\": 674.0, \"death\": 24404.0, \"deathIncrease\": 56.0, \"positiveRate\": 0.011, \"state\": \"New York\", \"sma7d\": 46.429}, {\"date\": \"2020-06-11T00:00:00\", \"totalTestResultsIncrease\": 60839.0, \"positiveIncrease\": 736.0, \"death\": 24442.0, \"deathIncrease\": 38.0, \"positiveRate\": 0.012, \"state\": \"New York\", \"sma7d\": 44.143}, {\"date\": \"2020-06-12T00:00:00\", \"totalTestResultsIncrease\": 72395.0, \"positiveIncrease\": 822.0, \"death\": 24495.0, \"deathIncrease\": 53.0, \"positiveRate\": 0.011, \"state\": \"New York\", \"sma7d\": 45.714}, {\"date\": \"2020-06-13T00:00:00\", \"totalTestResultsIncrease\": 70840.0, \"positiveIncrease\": 916.0, \"death\": 24527.0, \"deathIncrease\": 32.0, \"positiveRate\": 0.013, \"state\": \"New York\", \"sma7d\": 45.0}, {\"date\": \"2020-06-14T00:00:00\", \"totalTestResultsIncrease\": 62359.0, \"positiveIncrease\": 694.0, \"death\": 24551.0, \"deathIncrease\": 24.0, \"positiveRate\": 0.011, \"state\": \"New York\", \"sma7d\": 41.714}, {\"date\": \"2020-06-15T00:00:00\", \"totalTestResultsIncrease\": 56611.0, \"positiveIncrease\": 620.0, \"death\": 24579.0, \"deathIncrease\": 28.0, \"positiveRate\": 0.011, \"state\": \"New York\", \"sma7d\": 40.0}, {\"date\": \"2020-06-16T00:00:00\", \"totalTestResultsIncrease\": 60568.0, \"positiveIncrease\": 631.0, \"death\": 24608.0, \"deathIncrease\": 29.0, \"positiveRate\": 0.01, \"state\": \"New York\", \"sma7d\": 37.143}, {\"date\": \"2020-06-17T00:00:00\", \"totalTestResultsIncrease\": 59341.0, \"positiveIncrease\": 567.0, \"death\": 24629.0, \"deathIncrease\": 21.0, \"positiveRate\": 0.01, \"state\": \"New York\", \"sma7d\": 32.143}, {\"date\": \"2020-06-18T00:00:00\", \"totalTestResultsIncrease\": 68541.0, \"positiveIncrease\": 618.0, \"death\": 24661.0, \"deathIncrease\": 32.0, \"positiveRate\": 0.009, \"state\": \"New York\", \"sma7d\": 31.286}, {\"date\": \"2020-06-19T00:00:00\", \"totalTestResultsIncrease\": 79303.0, \"positiveIncrease\": 796.0, \"death\": 24686.0, \"deathIncrease\": 25.0, \"positiveRate\": 0.01, \"state\": \"New York\", \"sma7d\": 27.286}, {\"date\": \"2020-06-20T00:00:00\", \"totalTestResultsIncrease\": 68830.0, \"positiveIncrease\": 716.0, \"death\": 24710.0, \"deathIncrease\": 24.0, \"positiveRate\": 0.01, \"state\": \"New York\", \"sma7d\": 26.143}, {\"date\": \"2020-06-21T00:00:00\", \"totalTestResultsIncrease\": 67526.0, \"positiveIncrease\": 664.0, \"death\": 24725.0, \"deathIncrease\": 15.0, \"positiveRate\": 0.01, \"state\": \"New York\", \"sma7d\": 24.857}, {\"date\": \"2020-06-22T00:00:00\", \"totalTestResultsIncrease\": 56780.0, \"positiveIncrease\": 552.0, \"death\": 24739.0, \"deathIncrease\": 14.0, \"positiveRate\": 0.01, \"state\": \"New York\", \"sma7d\": 22.857}, {\"date\": \"2020-06-23T00:00:00\", \"totalTestResultsIncrease\": 48709.0, \"positiveIncrease\": 597.0, \"death\": 24766.0, \"deathIncrease\": 27.0, \"positiveRate\": 0.012, \"state\": \"New York\", \"sma7d\": 22.571}, {\"date\": \"2020-06-24T00:00:00\", \"totalTestResultsIncrease\": 51144.0, \"positiveIncrease\": 581.0, \"death\": 24782.0, \"deathIncrease\": 16.0, \"positiveRate\": 0.011, \"state\": \"New York\", \"sma7d\": 21.857}, {\"date\": \"2020-06-25T00:00:00\", \"totalTestResultsIncrease\": 67642.0, \"positiveIncrease\": 749.0, \"death\": 24800.0, \"deathIncrease\": 18.0, \"positiveRate\": 0.011, \"state\": \"New York\", \"sma7d\": 19.857}, {\"date\": \"2020-06-26T00:00:00\", \"totalTestResultsIncrease\": 61723.0, \"positiveIncrease\": 805.0, \"death\": 24814.0, \"deathIncrease\": 14.0, \"positiveRate\": 0.013, \"state\": \"New York\", \"sma7d\": 18.286}, {\"date\": \"2020-06-27T00:00:00\", \"totalTestResultsIncrease\": 73262.0, \"positiveIncrease\": 703.0, \"death\": 24830.0, \"deathIncrease\": 16.0, \"positiveRate\": 0.01, \"state\": \"New York\", \"sma7d\": 17.143}, {\"date\": \"2020-06-28T00:00:00\", \"totalTestResultsIncrease\": 61906.0, \"positiveIncrease\": 616.0, \"death\": 24835.0, \"deathIncrease\": 5.0, \"positiveRate\": 0.01, \"state\": \"New York\", \"sma7d\": 15.714}, {\"date\": \"2020-06-29T00:00:00\", \"totalTestResultsIncrease\": 46428.0, \"positiveIncrease\": 391.0, \"death\": 24842.0, \"deathIncrease\": 7.0, \"positiveRate\": 0.008, \"state\": \"New York\", \"sma7d\": 14.714}, {\"date\": \"2020-06-30T00:00:00\", \"totalTestResultsIncrease\": 52025.0, \"positiveIncrease\": 524.0, \"death\": 24855.0, \"deathIncrease\": 13.0, \"positiveRate\": 0.01, \"state\": \"New York\", \"sma7d\": 12.714}, {\"date\": \"2020-07-01T00:00:00\", \"totalTestResultsIncrease\": 56710.0, \"positiveIncrease\": 625.0, \"death\": 24866.0, \"deathIncrease\": 11.0, \"positiveRate\": 0.011, \"state\": \"New York\", \"sma7d\": 12.0}, {\"date\": \"2020-07-02T00:00:00\", \"totalTestResultsIncrease\": 69945.0, \"positiveIncrease\": 875.0, \"death\": 24877.0, \"deathIncrease\": 11.0, \"positiveRate\": 0.013, \"state\": \"New York\", \"sma7d\": 11.0}, {\"date\": \"2020-07-03T00:00:00\", \"totalTestResultsIncrease\": 66392.0, \"positiveIncrease\": 918.0, \"death\": 24885.0, \"deathIncrease\": 8.0, \"positiveRate\": 0.014, \"state\": \"New York\", \"sma7d\": 10.143}, {\"date\": \"2020-07-04T00:00:00\", \"totalTestResultsIncrease\": 62403.0, \"positiveIncrease\": 726.0, \"death\": 24896.0, \"deathIncrease\": 11.0, \"positiveRate\": 0.012, \"state\": \"New York\", \"sma7d\": 9.429}, {\"date\": \"2020-07-05T00:00:00\", \"totalTestResultsIncrease\": 63415.0, \"positiveIncrease\": 533.0, \"death\": 24904.0, \"deathIncrease\": 8.0, \"positiveRate\": 0.008, \"state\": \"New York\", \"sma7d\": 9.857}, {\"date\": \"2020-07-06T00:00:00\", \"totalTestResultsIncrease\": 54328.0, \"positiveIncrease\": 518.0, \"death\": 24913.0, \"deathIncrease\": 9.0, \"positiveRate\": 0.01, \"state\": \"New York\", \"sma7d\": 10.143}, {\"date\": \"2020-07-07T00:00:00\", \"totalTestResultsIncrease\": 56736.0, \"positiveIncrease\": 588.0, \"death\": 24924.0, \"deathIncrease\": 11.0, \"positiveRate\": 0.01, \"state\": \"New York\", \"sma7d\": 9.857}, {\"date\": \"2020-07-08T00:00:00\", \"totalTestResultsIncrease\": 57585.0, \"positiveIncrease\": 692.0, \"death\": 24944.0, \"deathIncrease\": 20.0, \"positiveRate\": 0.012, \"state\": \"New York\", \"sma7d\": 11.143}, {\"date\": \"2020-07-09T00:00:00\", \"totalTestResultsIncrease\": 65564.0, \"positiveIncrease\": 584.0, \"death\": 24959.0, \"deathIncrease\": 15.0, \"positiveRate\": 0.009, \"state\": \"New York\", \"sma7d\": 11.714}, {\"date\": \"2020-07-10T00:00:00\", \"totalTestResultsIncrease\": 73558.0, \"positiveIncrease\": 786.0, \"death\": 24968.0, \"deathIncrease\": 9.0, \"positiveRate\": 0.011, \"state\": \"New York\", \"sma7d\": 11.857}, {\"date\": \"2020-07-11T00:00:00\", \"totalTestResultsIncrease\": 69203.0, \"positiveIncrease\": 730.0, \"death\": 24974.0, \"deathIncrease\": 6.0, \"positiveRate\": 0.011, \"state\": \"New York\", \"sma7d\": 11.143}, {\"date\": \"2020-07-12T00:00:00\", \"totalTestResultsIncrease\": 62418.0, \"positiveIncrease\": 677.0, \"death\": 24979.0, \"deathIncrease\": 5.0, \"positiveRate\": 0.011, \"state\": \"New York\", \"sma7d\": 10.714}, {\"date\": \"2020-07-13T00:00:00\", \"totalTestResultsIncrease\": 51687.0, \"positiveIncrease\": 557.0, \"death\": 24989.0, \"deathIncrease\": 10.0, \"positiveRate\": 0.011, \"state\": \"New York\", \"sma7d\": 10.857}, {\"date\": \"2020-07-14T00:00:00\", \"totalTestResultsIncrease\": 60045.0, \"positiveIncrease\": 912.0, \"death\": 24994.0, \"deathIncrease\": 5.0, \"positiveRate\": 0.015, \"state\": \"New York\", \"sma7d\": 10.0}, {\"date\": \"2020-07-15T00:00:00\", \"totalTestResultsIncrease\": 63598.0, \"positiveIncrease\": 831.0, \"death\": 25003.0, \"deathIncrease\": 9.0, \"positiveRate\": 0.013, \"state\": \"New York\", \"sma7d\": 8.429}, {\"date\": \"2020-07-16T00:00:00\", \"totalTestResultsIncrease\": 72685.0, \"positiveIncrease\": 769.0, \"death\": 25014.0, \"deathIncrease\": 11.0, \"positiveRate\": 0.011, \"state\": \"New York\", \"sma7d\": 7.857}, {\"date\": \"2020-07-17T00:00:00\", \"totalTestResultsIncrease\": 78239.0, \"positiveIncrease\": 776.0, \"death\": 25024.0, \"deathIncrease\": 10.0, \"positiveRate\": 0.01, \"state\": \"New York\", \"sma7d\": 8.0}, {\"date\": \"2020-07-18T00:00:00\", \"totalTestResultsIncrease\": 69817.0, \"positiveIncrease\": 754.0, \"death\": 25035.0, \"deathIncrease\": 11.0, \"positiveRate\": 0.011, \"state\": \"New York\", \"sma7d\": 8.714}, {\"date\": \"2020-07-19T00:00:00\", \"totalTestResultsIncrease\": 46204.0, \"positiveIncrease\": 502.0, \"death\": 25048.0, \"deathIncrease\": 13.0, \"positiveRate\": 0.011, \"state\": \"New York\", \"sma7d\": 9.857}, {\"date\": \"2020-07-20T00:00:00\", \"totalTestResultsIncrease\": 49342.0, \"positiveIncrease\": 519.0, \"death\": 25056.0, \"deathIncrease\": 8.0, \"positiveRate\": 0.011, \"state\": \"New York\", \"sma7d\": 9.571}, {\"date\": \"2020-07-21T00:00:00\", \"totalTestResultsIncrease\": 66169.0, \"positiveIncrease\": 855.0, \"death\": 25058.0, \"deathIncrease\": 2.0, \"positiveRate\": 0.013, \"state\": \"New York\", \"sma7d\": 9.143}, {\"date\": \"2020-07-22T00:00:00\", \"totalTestResultsIncrease\": 67659.0, \"positiveIncrease\": 705.0, \"death\": 25068.0, \"deathIncrease\": 10.0, \"positiveRate\": 0.01, \"state\": \"New York\", \"sma7d\": 9.286}, {\"date\": \"2020-07-23T00:00:00\", \"totalTestResultsIncrease\": 69698.0, \"positiveIncrease\": 811.0, \"death\": 25081.0, \"deathIncrease\": 13.0, \"positiveRate\": 0.012, \"state\": \"New York\", \"sma7d\": 9.571}, {\"date\": \"2020-07-24T00:00:00\", \"totalTestResultsIncrease\": 76507.0, \"positiveIncrease\": 753.0, \"death\": 25090.0, \"deathIncrease\": 9.0, \"positiveRate\": 0.01, \"state\": \"New York\", \"sma7d\": 9.429}, {\"date\": \"2020-07-25T00:00:00\", \"totalTestResultsIncrease\": 71466.0, \"positiveIncrease\": 750.0, \"death\": 25103.0, \"deathIncrease\": 13.0, \"positiveRate\": 0.01, \"state\": \"New York\", \"sma7d\": 9.714}, {\"date\": \"2020-07-26T00:00:00\", \"totalTestResultsIncrease\": 53568.0, \"positiveIncrease\": 536.0, \"death\": 25106.0, \"deathIncrease\": 3.0, \"positiveRate\": 0.01, \"state\": \"New York\", \"sma7d\": 8.286}, {\"date\": \"2020-07-27T00:00:00\", \"totalTestResultsIncrease\": 57270.0, \"positiveIncrease\": 608.0, \"death\": 25117.0, \"deathIncrease\": 11.0, \"positiveRate\": 0.011, \"state\": \"New York\", \"sma7d\": 8.714}, {\"date\": \"2020-07-28T00:00:00\", \"totalTestResultsIncrease\": 57397.0, \"positiveIncrease\": 534.0, \"death\": 25126.0, \"deathIncrease\": 9.0, \"positiveRate\": 0.009, \"state\": \"New York\", \"sma7d\": 9.714}, {\"date\": \"2020-07-29T00:00:00\", \"totalTestResultsIncrease\": 62276.0, \"positiveIncrease\": 715.0, \"death\": 25132.0, \"deathIncrease\": 6.0, \"positiveRate\": 0.011, \"state\": \"New York\", \"sma7d\": 9.143}, {\"date\": \"2020-07-30T00:00:00\", \"totalTestResultsIncrease\": 73546.0, \"positiveIncrease\": 777.0, \"death\": 25145.0, \"deathIncrease\": 13.0, \"positiveRate\": 0.011, \"state\": \"New York\", \"sma7d\": 9.143}, {\"date\": \"2020-07-31T00:00:00\", \"totalTestResultsIncrease\": 68869.0, \"positiveIncrease\": 644.0, \"death\": 25150.0, \"deathIncrease\": 5.0, \"positiveRate\": 0.009, \"state\": \"New York\", \"sma7d\": 8.571}, {\"date\": \"2020-08-01T00:00:00\", \"totalTestResultsIncrease\": 82737.0, \"positiveIncrease\": 753.0, \"death\": 25164.0, \"deathIncrease\": 14.0, \"positiveRate\": 0.009, \"state\": \"New York\", \"sma7d\": 8.714}, {\"date\": \"2020-08-02T00:00:00\", \"totalTestResultsIncrease\": 58961.0, \"positiveIncrease\": 531.0, \"death\": 25170.0, \"deathIncrease\": 6.0, \"positiveRate\": 0.009, \"state\": \"New York\", \"sma7d\": 9.143}]}}, {\"mode\": \"vega-lite\"});\n",
       "</script>"
      ],
      "text/plain": [
       "alt.LayerChart(...)"
      ]
     },
     "execution_count": 13,
     "metadata": {},
     "output_type": "execute_result"
    }
   ],
   "source": [
    "create_plot(ny, 'deathIncrease')"
   ]
  },
  {
   "cell_type": "markdown",
   "metadata": {
    "papermill": {
     "duration": 0.017039,
     "end_time": "2020-08-02T22:33:41.496838",
     "exception": false,
     "start_time": "2020-08-02T22:33:41.479799",
     "status": "completed"
    },
    "tags": []
   },
   "source": [
    "## Non Tri-State"
   ]
  },
  {
   "cell_type": "code",
   "execution_count": 14,
   "metadata": {
    "execution": {
     "iopub.execute_input": "2020-08-02T22:33:41.536232Z",
     "iopub.status.busy": "2020-08-02T22:33:41.534472Z",
     "iopub.status.idle": "2020-08-02T22:33:41.751633Z",
     "shell.execute_reply": "2020-08-02T22:33:41.751010Z"
    },
    "papermill": {
     "duration": 0.238074,
     "end_time": "2020-08-02T22:33:41.751784",
     "exception": false,
     "start_time": "2020-08-02T22:33:41.513710",
     "status": "completed"
    },
    "tags": []
   },
   "outputs": [],
   "source": [
    "non_tristate = create_df(df, lambda d: ~d['state'].isin(['CT','NJ','NY']), 'Non Tri-State')"
   ]
  },
  {
   "cell_type": "code",
   "execution_count": 15,
   "metadata": {
    "execution": {
     "iopub.execute_input": "2020-08-02T22:33:41.791401Z",
     "iopub.status.busy": "2020-08-02T22:33:41.790853Z",
     "iopub.status.idle": "2020-08-02T22:33:41.884038Z",
     "shell.execute_reply": "2020-08-02T22:33:41.884609Z"
    },
    "papermill": {
     "duration": 0.115436,
     "end_time": "2020-08-02T22:33:41.884793",
     "exception": false,
     "start_time": "2020-08-02T22:33:41.769357",
     "status": "completed"
    },
    "tags": []
   },
   "outputs": [
    {
     "data": {
      "text/html": [
       "\n",
       "<div id=\"altair-viz-19c78f327c6d4bd1b50d709d0fc87266\"></div>\n",
       "<script type=\"text/javascript\">\n",
       "  (function(spec, embedOpt){\n",
       "    let outputDiv = document.currentScript.previousElementSibling;\n",
       "    if (outputDiv.id !== \"altair-viz-19c78f327c6d4bd1b50d709d0fc87266\") {\n",
       "      outputDiv = document.getElementById(\"altair-viz-19c78f327c6d4bd1b50d709d0fc87266\");\n",
       "    }\n",
       "    const paths = {\n",
       "      \"vega\": \"https://cdn.jsdelivr.net/npm//vega@5?noext\",\n",
       "      \"vega-lib\": \"https://cdn.jsdelivr.net/npm//vega-lib?noext\",\n",
       "      \"vega-lite\": \"https://cdn.jsdelivr.net/npm//vega-lite@4.8.1?noext\",\n",
       "      \"vega-embed\": \"https://cdn.jsdelivr.net/npm//vega-embed@6?noext\",\n",
       "    };\n",
       "\n",
       "    function loadScript(lib) {\n",
       "      return new Promise(function(resolve, reject) {\n",
       "        var s = document.createElement('script');\n",
       "        s.src = paths[lib];\n",
       "        s.async = true;\n",
       "        s.onload = () => resolve(paths[lib]);\n",
       "        s.onerror = () => reject(`Error loading script: ${paths[lib]}`);\n",
       "        document.getElementsByTagName(\"head\")[0].appendChild(s);\n",
       "      });\n",
       "    }\n",
       "\n",
       "    function showError(err) {\n",
       "      outputDiv.innerHTML = `<div class=\"error\" style=\"color:red;\">${err}</div>`;\n",
       "      throw err;\n",
       "    }\n",
       "\n",
       "    function displayChart(vegaEmbed) {\n",
       "      vegaEmbed(outputDiv, spec, embedOpt)\n",
       "        .catch(err => showError(`Javascript Error: ${err.message}<br>This usually means there's a typo in your chart specification. See the javascript console for the full traceback.`));\n",
       "    }\n",
       "\n",
       "    if(typeof define === \"function\" && define.amd) {\n",
       "      requirejs.config({paths});\n",
       "      require([\"vega-embed\"], displayChart, err => showError(`Error loading script: ${err.message}`));\n",
       "    } else if (typeof vegaEmbed === \"function\") {\n",
       "      displayChart(vegaEmbed);\n",
       "    } else {\n",
       "      loadScript(\"vega\")\n",
       "        .then(() => loadScript(\"vega-lite\"))\n",
       "        .then(() => loadScript(\"vega-embed\"))\n",
       "        .catch(showError)\n",
       "        .then(() => displayChart(vegaEmbed));\n",
       "    }\n",
       "  })({\"config\": {\"view\": {\"continuousWidth\": 400, \"continuousHeight\": 300}}, \"layer\": [{\"layer\": [{\"mark\": {\"type\": \"point\", \"size\": 75}, \"encoding\": {\"tooltip\": [{\"type\": \"temporal\", \"field\": \"date\"}, {\"type\": \"quantitative\", \"field\": \"positiveIncrease\"}, {\"type\": \"quantitative\", \"field\": \"sma7d\"}], \"x\": {\"type\": \"temporal\", \"field\": \"date\"}, \"y\": {\"type\": \"quantitative\", \"field\": \"positiveIncrease\"}}, \"selection\": {\"selector014\": {\"type\": \"interval\", \"bind\": \"scales\", \"encodings\": [\"x\", \"y\"]}}}, {\"mark\": {\"type\": \"line\", \"color\": \"purple\"}, \"encoding\": {\"x\": {\"type\": \"temporal\", \"field\": \"date\"}, \"y\": {\"type\": \"quantitative\", \"field\": \"sma7d\"}}}]}, {\"mark\": {\"type\": \"rule\", \"color\": \"#aaa\"}, \"encoding\": {\"x\": {\"type\": \"temporal\", \"field\": \"date\"}}, \"transform\": [{\"filter\": {\"selection\": \"selector013\"}}]}, {\"mark\": \"circle\", \"encoding\": {\"opacity\": {\"condition\": {\"value\": 1, \"selection\": \"selector013\"}, \"value\": 0}, \"tooltip\": [{\"type\": \"temporal\", \"field\": \"date\"}, {\"type\": \"quantitative\", \"field\": \"positiveIncrease\"}, {\"type\": \"quantitative\", \"field\": \"sma7d\"}], \"x\": {\"type\": \"temporal\", \"field\": \"date\"}, \"y\": {\"type\": \"quantitative\", \"field\": \"positiveIncrease\"}}, \"selection\": {\"selector013\": {\"type\": \"single\", \"encodings\": [\"x\"], \"on\": \"mouseover\", \"nearest\": true, \"empty\": \"none\"}}}, {\"mark\": {\"type\": \"text\", \"align\": \"left\", \"dx\": 5, \"dy\": -5, \"stroke\": \"white\", \"strokeWidth\": 2}, \"encoding\": {\"text\": {\"type\": \"quantitative\", \"field\": \"positiveIncrease\"}, \"tooltip\": [{\"type\": \"temporal\", \"field\": \"date\"}, {\"type\": \"quantitative\", \"field\": \"positiveIncrease\"}, {\"type\": \"quantitative\", \"field\": \"sma7d\"}], \"x\": {\"type\": \"temporal\", \"field\": \"date\"}, \"y\": {\"type\": \"quantitative\", \"field\": \"positiveIncrease\"}}, \"transform\": [{\"filter\": {\"selection\": \"selector013\"}}]}, {\"mark\": {\"type\": \"text\", \"align\": \"left\", \"dx\": 5, \"dy\": -5}, \"encoding\": {\"text\": {\"type\": \"quantitative\", \"field\": \"positiveIncrease\"}, \"tooltip\": [{\"type\": \"temporal\", \"field\": \"date\"}, {\"type\": \"quantitative\", \"field\": \"positiveIncrease\"}, {\"type\": \"quantitative\", \"field\": \"sma7d\"}], \"x\": {\"type\": \"temporal\", \"field\": \"date\"}, \"y\": {\"type\": \"quantitative\", \"field\": \"positiveIncrease\"}}, \"transform\": [{\"filter\": {\"selection\": \"selector013\"}}]}], \"data\": {\"name\": \"data-2298224fbec5cb2bf257b28c7b39d764\"}, \"height\": 400, \"title\": \"Non Tri-State: positiveIncrease\", \"width\": 500, \"$schema\": \"https://vega.github.io/schema/vega-lite/v4.8.1.json\", \"datasets\": {\"data-2298224fbec5cb2bf257b28c7b39d764\": [{\"date\": \"2020-06-08T00:00:00\", \"totalTestResultsIncrease\": 317756.0, \"positiveIncrease\": 15853.0, \"death\": 64343.0, \"deathIncrease\": 569.0, \"positiveRate\": 0.05, \"state\": \"Non Tri-State\", \"sma7d\": 18772.429}, {\"date\": \"2020-06-09T00:00:00\", \"totalTestResultsIncrease\": 351016.0, \"positiveIncrease\": 16106.0, \"death\": 65090.0, \"deathIncrease\": 747.0, \"positiveRate\": 0.046, \"state\": \"Non Tri-State\", \"sma7d\": 18532.286}, {\"date\": \"2020-06-10T00:00:00\", \"totalTestResultsIncrease\": 342283.0, \"positiveIncrease\": 19411.0, \"death\": 65822.0, \"deathIncrease\": 732.0, \"positiveRate\": 0.057, \"state\": \"Non Tri-State\", \"sma7d\": 18643.571}, {\"date\": \"2020-06-11T00:00:00\", \"totalTestResultsIncrease\": 368690.0, \"positiveIncrease\": 20712.0, \"death\": 66590.0, \"deathIncrease\": 768.0, \"positiveRate\": 0.056, \"state\": \"Non Tri-State\", \"sma7d\": 18862.286}, {\"date\": \"2020-06-12T00:00:00\", \"totalTestResultsIncrease\": 512066.0, \"positiveIncrease\": 22079.0, \"death\": 67250.0, \"deathIncrease\": 660.0, \"positiveRate\": 0.043, \"state\": \"Non Tri-State\", \"sma7d\": 18980.714}, {\"date\": \"2020-06-13T00:00:00\", \"totalTestResultsIncrease\": 397734.0, \"positiveIncrease\": 23679.0, \"death\": 67782.0, \"deathIncrease\": 532.0, \"positiveRate\": 0.06, \"state\": \"Non Tri-State\", \"sma7d\": 19351.571}, {\"date\": \"2020-06-14T00:00:00\", \"totalTestResultsIncrease\": 396276.0, \"positiveIncrease\": 20309.0, \"death\": 68062.0, \"deathIncrease\": 280.0, \"positiveRate\": 0.051, \"state\": \"Non Tri-State\", \"sma7d\": 19735.571}, {\"date\": \"2020-06-15T00:00:00\", \"totalTestResultsIncrease\": 352811.0, \"positiveIncrease\": 17521.0, \"death\": 68360.0, \"deathIncrease\": 298.0, \"positiveRate\": 0.05, \"state\": \"Non Tri-State\", \"sma7d\": 19973.857}, {\"date\": \"2020-06-16T00:00:00\", \"totalTestResultsIncrease\": 381827.0, \"positiveIncrease\": 22367.0, \"death\": 69003.0, \"deathIncrease\": 643.0, \"positiveRate\": 0.059, \"state\": \"Non Tri-State\", \"sma7d\": 20868.286}, {\"date\": \"2020-06-17T00:00:00\", \"totalTestResultsIncrease\": 405319.0, \"positiveIncrease\": 22949.0, \"death\": 69698.0, \"deathIncrease\": 695.0, \"positiveRate\": 0.057, \"state\": \"Non Tri-State\", \"sma7d\": 21373.714}, {\"date\": \"2020-06-18T00:00:00\", \"totalTestResultsIncrease\": 416745.0, \"positiveIncrease\": 26494.0, \"death\": 70332.0, \"deathIncrease\": 634.0, \"positiveRate\": 0.064, \"state\": \"Non Tri-State\", \"sma7d\": 22199.714}, {\"date\": \"2020-06-19T00:00:00\", \"totalTestResultsIncrease\": 460285.0, \"positiveIncrease\": 29744.0, \"death\": 70915.0, \"deathIncrease\": 583.0, \"positiveRate\": 0.065, \"state\": \"Non Tri-State\", \"sma7d\": 23294.714}, {\"date\": \"2020-06-20T00:00:00\", \"totalTestResultsIncrease\": 462056.0, \"positiveIncrease\": 30782.0, \"death\": 71484.0, \"deathIncrease\": 569.0, \"positiveRate\": 0.067, \"state\": \"Non Tri-State\", \"sma7d\": 24309.429}, {\"date\": \"2020-06-21T00:00:00\", \"totalTestResultsIncrease\": 415435.0, \"positiveIncrease\": 26272.0, \"death\": 71739.0, \"deathIncrease\": 255.0, \"positiveRate\": 0.063, \"state\": \"Non Tri-State\", \"sma7d\": 25161.286}, {\"date\": \"2020-06-22T00:00:00\", \"totalTestResultsIncrease\": 381042.0, \"positiveIncrease\": 26165.0, \"death\": 71980.0, \"deathIncrease\": 241.0, \"positiveRate\": 0.069, \"state\": \"Non Tri-State\", \"sma7d\": 26396.143}, {\"date\": \"2020-06-23T00:00:00\", \"totalTestResultsIncrease\": 428442.0, \"positiveIncrease\": 31988.0, \"death\": 72593.0, \"deathIncrease\": 613.0, \"positiveRate\": 0.075, \"state\": \"Non Tri-State\", \"sma7d\": 27770.571}, {\"date\": \"2020-06-24T00:00:00\", \"totalTestResultsIncrease\": 445391.0, \"positiveIncrease\": 37931.0, \"death\": 73245.0, \"deathIncrease\": 652.0, \"positiveRate\": 0.085, \"state\": \"Non Tri-State\", \"sma7d\": 29910.857}, {\"date\": \"2020-06-25T00:00:00\", \"totalTestResultsIncrease\": 540391.0, \"positiveIncrease\": 37938.0, \"death\": 73840.0, \"deathIncrease\": 595.0, \"positiveRate\": 0.07, \"state\": \"Non Tri-State\", \"sma7d\": 31545.714}, {\"date\": \"2020-06-26T00:00:00\", \"totalTestResultsIncrease\": 506558.0, \"positiveIncrease\": 43163.0, \"death\": 74411.0, \"deathIncrease\": 571.0, \"positiveRate\": 0.085, \"state\": \"Non Tri-State\", \"sma7d\": 33462.714}, {\"date\": \"2020-06-27T00:00:00\", \"totalTestResultsIncrease\": 496340.0, \"positiveIncrease\": 42644.0, \"death\": 74866.0, \"deathIncrease\": 455.0, \"positiveRate\": 0.086, \"state\": \"Non Tri-State\", \"sma7d\": 35157.286}, {\"date\": \"2020-06-28T00:00:00\", \"totalTestResultsIncrease\": 495079.0, \"positiveIncrease\": 40835.0, \"death\": 75100.0, \"deathIncrease\": 234.0, \"positiveRate\": 0.082, \"state\": \"Non Tri-State\", \"sma7d\": 37237.714}, {\"date\": \"2020-06-29T00:00:00\", \"totalTestResultsIncrease\": 562783.0, \"positiveIncrease\": 38635.0, \"death\": 75402.0, \"deathIncrease\": 302.0, \"positiveRate\": 0.069, \"state\": \"Non Tri-State\", \"sma7d\": 39019.143}, {\"date\": \"2020-06-30T00:00:00\", \"totalTestResultsIncrease\": 542112.0, \"positiveIncrease\": 46391.0, \"death\": 75940.0, \"deathIncrease\": 538.0, \"positiveRate\": 0.086, \"state\": \"Non Tri-State\", \"sma7d\": 41076.714}, {\"date\": \"2020-07-01T00:00:00\", \"totalTestResultsIncrease\": 544562.0, \"positiveIncrease\": 49730.0, \"death\": 76585.0, \"deathIncrease\": 645.0, \"positiveRate\": 0.091, \"state\": \"Non Tri-State\", \"sma7d\": 42762.286}, {\"date\": \"2020-07-02T00:00:00\", \"totalTestResultsIncrease\": 561090.0, \"positiveIncrease\": 52449.0, \"death\": 77240.0, \"deathIncrease\": 655.0, \"positiveRate\": 0.093, \"state\": \"Non Tri-State\", \"sma7d\": 44835.286}, {\"date\": \"2020-07-03T00:00:00\", \"totalTestResultsIncrease\": 622997.0, \"positiveIncrease\": 52848.0, \"death\": 77763.0, \"deathIncrease\": 523.0, \"positiveRate\": 0.085, \"state\": \"Non Tri-State\", \"sma7d\": 46218.857}, {\"date\": \"2020-07-04T00:00:00\", \"totalTestResultsIncrease\": 556781.0, \"positiveIncrease\": 53717.0, \"death\": 78033.0, \"deathIncrease\": 270.0, \"positiveRate\": 0.096, \"state\": \"Non Tri-State\", \"sma7d\": 47800.714}, {\"date\": \"2020-07-05T00:00:00\", \"totalTestResultsIncrease\": 567401.0, \"positiveIncrease\": 44887.0, \"death\": 78212.0, \"deathIncrease\": 179.0, \"positiveRate\": 0.079, \"state\": \"Non Tri-State\", \"sma7d\": 48379.571}, {\"date\": \"2020-07-06T00:00:00\", \"totalTestResultsIncrease\": 426359.0, \"positiveIncrease\": 40614.0, \"death\": 78424.0, \"deathIncrease\": 212.0, \"positiveRate\": 0.095, \"state\": \"Non Tri-State\", \"sma7d\": 48662.286}, {\"date\": \"2020-07-07T00:00:00\", \"totalTestResultsIncrease\": 559818.0, \"positiveIncrease\": 50854.0, \"death\": 79283.0, \"deathIncrease\": 859.0, \"positiveRate\": 0.091, \"state\": \"Non Tri-State\", \"sma7d\": 49299.857}, {\"date\": \"2020-07-08T00:00:00\", \"totalTestResultsIncrease\": 545625.0, \"positiveIncrease\": 61219.0, \"death\": 80013.0, \"deathIncrease\": 730.0, \"positiveRate\": 0.112, \"state\": \"Non Tri-State\", \"sma7d\": 50941.143}, {\"date\": \"2020-07-09T00:00:00\", \"totalTestResultsIncrease\": 603478.0, \"positiveIncrease\": 57950.0, \"death\": 80835.0, \"deathIncrease\": 822.0, \"positiveRate\": 0.096, \"state\": \"Non Tri-State\", \"sma7d\": 51727.0}, {\"date\": \"2020-07-10T00:00:00\", \"totalTestResultsIncrease\": 713488.0, \"positiveIncrease\": 65393.0, \"death\": 81649.0, \"deathIncrease\": 814.0, \"positiveRate\": 0.092, \"state\": \"Non Tri-State\", \"sma7d\": 53519.143}, {\"date\": \"2020-07-11T00:00:00\", \"totalTestResultsIncrease\": 591188.0, \"positiveIncrease\": 61946.0, \"death\": 82354.0, \"deathIncrease\": 705.0, \"positiveRate\": 0.105, \"state\": \"Non Tri-State\", \"sma7d\": 54694.714}, {\"date\": \"2020-07-12T00:00:00\", \"totalTestResultsIncrease\": 640580.0, \"positiveIncrease\": 59962.0, \"death\": 82809.0, \"deathIncrease\": 455.0, \"positiveRate\": 0.094, \"state\": \"Non Tri-State\", \"sma7d\": 56848.286}, {\"date\": \"2020-07-13T00:00:00\", \"totalTestResultsIncrease\": 624522.0, \"positiveIncrease\": 57461.0, \"death\": 83084.0, \"deathIncrease\": 275.0, \"positiveRate\": 0.092, \"state\": \"Non Tri-State\", \"sma7d\": 59255.0}, {\"date\": \"2020-07-14T00:00:00\", \"totalTestResultsIncrease\": 676948.0, \"positiveIncrease\": 61554.0, \"death\": 83792.0, \"deathIncrease\": 708.0, \"positiveRate\": 0.091, \"state\": \"Non Tri-State\", \"sma7d\": 60783.571}, {\"date\": \"2020-07-15T00:00:00\", \"totalTestResultsIncrease\": 665748.0, \"positiveIncrease\": 64082.0, \"death\": 84608.0, \"deathIncrease\": 816.0, \"positiveRate\": 0.096, \"state\": \"Non Tri-State\", \"sma7d\": 61192.571}, {\"date\": \"2020-07-16T00:00:00\", \"totalTestResultsIncrease\": 722897.0, \"positiveIncrease\": 69847.0, \"death\": 85504.0, \"deathIncrease\": 896.0, \"positiveRate\": 0.097, \"state\": \"Non Tri-State\", \"sma7d\": 62892.143}, {\"date\": \"2020-07-17T00:00:00\", \"totalTestResultsIncrease\": 750104.0, \"positiveIncrease\": 76264.0, \"death\": 86419.0, \"deathIncrease\": 915.0, \"positiveRate\": 0.102, \"state\": \"Non Tri-State\", \"sma7d\": 64445.143}, {\"date\": \"2020-07-18T00:00:00\", \"totalTestResultsIncrease\": 679432.0, \"positiveIncrease\": 64163.0, \"death\": 87265.0, \"deathIncrease\": 846.0, \"positiveRate\": 0.094, \"state\": \"Non Tri-State\", \"sma7d\": 64761.857}, {\"date\": \"2020-07-19T00:00:00\", \"totalTestResultsIncrease\": 715455.0, \"positiveIncrease\": 64413.0, \"death\": 87771.0, \"deathIncrease\": 506.0, \"positiveRate\": 0.09, \"state\": \"Non Tri-State\", \"sma7d\": 65397.714}, {\"date\": \"2020-07-20T00:00:00\", \"totalTestResultsIncrease\": 644271.0, \"positiveIncrease\": 56110.0, \"death\": 88106.0, \"deathIncrease\": 335.0, \"positiveRate\": 0.087, \"state\": \"Non Tri-State\", \"sma7d\": 65204.714}, {\"date\": \"2020-07-21T00:00:00\", \"totalTestResultsIncrease\": 668957.0, \"positiveIncrease\": 62453.0, \"death\": 89120.0, \"deathIncrease\": 1014.0, \"positiveRate\": 0.093, \"state\": \"Non Tri-State\", \"sma7d\": 65333.143}, {\"date\": \"2020-07-22T00:00:00\", \"totalTestResultsIncrease\": 693300.0, \"positiveIncrease\": 67929.0, \"death\": 90257.0, \"deathIncrease\": 1137.0, \"positiveRate\": 0.098, \"state\": \"Non Tri-State\", \"sma7d\": 65882.714}, {\"date\": \"2020-07-23T00:00:00\", \"totalTestResultsIncrease\": 722510.0, \"positiveIncrease\": 69965.0, \"death\": 91256.0, \"deathIncrease\": 999.0, \"positiveRate\": 0.097, \"state\": \"Non Tri-State\", \"sma7d\": 65899.571}, {\"date\": \"2020-07-24T00:00:00\", \"totalTestResultsIncrease\": 800141.0, \"positiveIncrease\": 73438.0, \"death\": 92387.0, \"deathIncrease\": 1131.0, \"positiveRate\": 0.092, \"state\": \"Non Tri-State\", \"sma7d\": 65495.857}, {\"date\": \"2020-07-25T00:00:00\", \"totalTestResultsIncrease\": 725610.0, \"positiveIncrease\": 64150.0, \"death\": 93400.0, \"deathIncrease\": 1013.0, \"positiveRate\": 0.088, \"state\": \"Non Tri-State\", \"sma7d\": 65494.0}, {\"date\": \"2020-07-26T00:00:00\", \"totalTestResultsIncrease\": 737111.0, \"positiveIncrease\": 60672.0, \"death\": 93944.0, \"deathIncrease\": 544.0, \"positiveRate\": 0.082, \"state\": \"Non Tri-State\", \"sma7d\": 64959.571}, {\"date\": \"2020-07-27T00:00:00\", \"totalTestResultsIncrease\": 641039.0, \"positiveIncrease\": 53870.0, \"death\": 94970.0, \"deathIncrease\": 1026.0, \"positiveRate\": 0.084, \"state\": \"Non Tri-State\", \"sma7d\": 64639.571}, {\"date\": \"2020-07-28T00:00:00\", \"totalTestResultsIncrease\": 667746.0, \"positiveIncrease\": 55118.0, \"death\": 96056.0, \"deathIncrease\": 1086.0, \"positiveRate\": 0.083, \"state\": \"Non Tri-State\", \"sma7d\": 63591.714}, {\"date\": \"2020-07-29T00:00:00\", \"totalTestResultsIncrease\": 721828.0, \"positiveIncrease\": 65320.0, \"death\": 97522.0, \"deathIncrease\": 1466.0, \"positiveRate\": 0.09, \"state\": \"Non Tri-State\", \"sma7d\": 63219.0}, {\"date\": \"2020-07-30T00:00:00\", \"totalTestResultsIncrease\": 709500.0, \"positiveIncrease\": 68607.0, \"death\": 98754.0, \"deathIncrease\": 1232.0, \"positiveRate\": 0.097, \"state\": \"Non Tri-State\", \"sma7d\": 63025.0}, {\"date\": \"2020-07-31T00:00:00\", \"totalTestResultsIncrease\": 598054.0, \"positiveIncrease\": 66029.0, \"death\": 100046.0, \"deathIncrease\": 1292.0, \"positiveRate\": 0.11, \"state\": \"Non Tri-State\", \"sma7d\": 61966.571}, {\"date\": \"2020-08-01T00:00:00\", \"totalTestResultsIncrease\": 630171.0, \"positiveIncrease\": 59142.0, \"death\": 101193.0, \"deathIncrease\": 1147.0, \"positiveRate\": 0.094, \"state\": \"Non Tri-State\", \"sma7d\": 61251.143}, {\"date\": \"2020-08-02T00:00:00\", \"totalTestResultsIncrease\": 617761.0, \"positiveIncrease\": 47842.0, \"death\": 101696.0, \"deathIncrease\": 503.0, \"positiveRate\": 0.077, \"state\": \"Non Tri-State\", \"sma7d\": 59418.286}]}}, {\"mode\": \"vega-lite\"});\n",
       "</script>"
      ],
      "text/plain": [
       "alt.LayerChart(...)"
      ]
     },
     "execution_count": 15,
     "metadata": {},
     "output_type": "execute_result"
    }
   ],
   "source": [
    "create_plot(non_tristate, 'positiveIncrease')"
   ]
  },
  {
   "cell_type": "code",
   "execution_count": 16,
   "metadata": {
    "execution": {
     "iopub.execute_input": "2020-08-02T22:33:41.923920Z",
     "iopub.status.busy": "2020-08-02T22:33:41.923386Z",
     "iopub.status.idle": "2020-08-02T22:33:42.016947Z",
     "shell.execute_reply": "2020-08-02T22:33:42.017467Z"
    },
    "papermill": {
     "duration": 0.11538,
     "end_time": "2020-08-02T22:33:42.017644",
     "exception": false,
     "start_time": "2020-08-02T22:33:41.902264",
     "status": "completed"
    },
    "tags": []
   },
   "outputs": [
    {
     "data": {
      "text/html": [
       "\n",
       "<div id=\"altair-viz-7207e90ed4304374ac603290422a125c\"></div>\n",
       "<script type=\"text/javascript\">\n",
       "  (function(spec, embedOpt){\n",
       "    let outputDiv = document.currentScript.previousElementSibling;\n",
       "    if (outputDiv.id !== \"altair-viz-7207e90ed4304374ac603290422a125c\") {\n",
       "      outputDiv = document.getElementById(\"altair-viz-7207e90ed4304374ac603290422a125c\");\n",
       "    }\n",
       "    const paths = {\n",
       "      \"vega\": \"https://cdn.jsdelivr.net/npm//vega@5?noext\",\n",
       "      \"vega-lib\": \"https://cdn.jsdelivr.net/npm//vega-lib?noext\",\n",
       "      \"vega-lite\": \"https://cdn.jsdelivr.net/npm//vega-lite@4.8.1?noext\",\n",
       "      \"vega-embed\": \"https://cdn.jsdelivr.net/npm//vega-embed@6?noext\",\n",
       "    };\n",
       "\n",
       "    function loadScript(lib) {\n",
       "      return new Promise(function(resolve, reject) {\n",
       "        var s = document.createElement('script');\n",
       "        s.src = paths[lib];\n",
       "        s.async = true;\n",
       "        s.onload = () => resolve(paths[lib]);\n",
       "        s.onerror = () => reject(`Error loading script: ${paths[lib]}`);\n",
       "        document.getElementsByTagName(\"head\")[0].appendChild(s);\n",
       "      });\n",
       "    }\n",
       "\n",
       "    function showError(err) {\n",
       "      outputDiv.innerHTML = `<div class=\"error\" style=\"color:red;\">${err}</div>`;\n",
       "      throw err;\n",
       "    }\n",
       "\n",
       "    function displayChart(vegaEmbed) {\n",
       "      vegaEmbed(outputDiv, spec, embedOpt)\n",
       "        .catch(err => showError(`Javascript Error: ${err.message}<br>This usually means there's a typo in your chart specification. See the javascript console for the full traceback.`));\n",
       "    }\n",
       "\n",
       "    if(typeof define === \"function\" && define.amd) {\n",
       "      requirejs.config({paths});\n",
       "      require([\"vega-embed\"], displayChart, err => showError(`Error loading script: ${err.message}`));\n",
       "    } else if (typeof vegaEmbed === \"function\") {\n",
       "      displayChart(vegaEmbed);\n",
       "    } else {\n",
       "      loadScript(\"vega\")\n",
       "        .then(() => loadScript(\"vega-lite\"))\n",
       "        .then(() => loadScript(\"vega-embed\"))\n",
       "        .catch(showError)\n",
       "        .then(() => displayChart(vegaEmbed));\n",
       "    }\n",
       "  })({\"config\": {\"view\": {\"continuousWidth\": 400, \"continuousHeight\": 300}}, \"layer\": [{\"layer\": [{\"mark\": {\"type\": \"point\", \"size\": 75}, \"encoding\": {\"tooltip\": [{\"type\": \"temporal\", \"field\": \"date\"}, {\"type\": \"quantitative\", \"field\": \"positiveRate\"}, {\"type\": \"quantitative\", \"field\": \"sma7d\"}], \"x\": {\"type\": \"temporal\", \"field\": \"date\"}, \"y\": {\"type\": \"quantitative\", \"field\": \"positiveRate\"}}, \"selection\": {\"selector016\": {\"type\": \"interval\", \"bind\": \"scales\", \"encodings\": [\"x\", \"y\"]}}}, {\"mark\": {\"type\": \"line\", \"color\": \"purple\"}, \"encoding\": {\"x\": {\"type\": \"temporal\", \"field\": \"date\"}, \"y\": {\"type\": \"quantitative\", \"field\": \"sma7d\"}}}]}, {\"mark\": {\"type\": \"rule\", \"color\": \"#aaa\"}, \"encoding\": {\"x\": {\"type\": \"temporal\", \"field\": \"date\"}}, \"transform\": [{\"filter\": {\"selection\": \"selector015\"}}]}, {\"mark\": \"circle\", \"encoding\": {\"opacity\": {\"condition\": {\"value\": 1, \"selection\": \"selector015\"}, \"value\": 0}, \"tooltip\": [{\"type\": \"temporal\", \"field\": \"date\"}, {\"type\": \"quantitative\", \"field\": \"positiveRate\"}, {\"type\": \"quantitative\", \"field\": \"sma7d\"}], \"x\": {\"type\": \"temporal\", \"field\": \"date\"}, \"y\": {\"type\": \"quantitative\", \"field\": \"positiveRate\"}}, \"selection\": {\"selector015\": {\"type\": \"single\", \"encodings\": [\"x\"], \"on\": \"mouseover\", \"nearest\": true, \"empty\": \"none\"}}}, {\"mark\": {\"type\": \"text\", \"align\": \"left\", \"dx\": 5, \"dy\": -5, \"stroke\": \"white\", \"strokeWidth\": 2}, \"encoding\": {\"text\": {\"type\": \"quantitative\", \"field\": \"positiveRate\"}, \"tooltip\": [{\"type\": \"temporal\", \"field\": \"date\"}, {\"type\": \"quantitative\", \"field\": \"positiveRate\"}, {\"type\": \"quantitative\", \"field\": \"sma7d\"}], \"x\": {\"type\": \"temporal\", \"field\": \"date\"}, \"y\": {\"type\": \"quantitative\", \"field\": \"positiveRate\"}}, \"transform\": [{\"filter\": {\"selection\": \"selector015\"}}]}, {\"mark\": {\"type\": \"text\", \"align\": \"left\", \"dx\": 5, \"dy\": -5}, \"encoding\": {\"text\": {\"type\": \"quantitative\", \"field\": \"positiveRate\"}, \"tooltip\": [{\"type\": \"temporal\", \"field\": \"date\"}, {\"type\": \"quantitative\", \"field\": \"positiveRate\"}, {\"type\": \"quantitative\", \"field\": \"sma7d\"}], \"x\": {\"type\": \"temporal\", \"field\": \"date\"}, \"y\": {\"type\": \"quantitative\", \"field\": \"positiveRate\"}}, \"transform\": [{\"filter\": {\"selection\": \"selector015\"}}]}], \"data\": {\"name\": \"data-3260ea354717c005290f79cfc22e40d8\"}, \"height\": 400, \"title\": \"Non Tri-State: positiveRate\", \"width\": 500, \"$schema\": \"https://vega.github.io/schema/vega-lite/v4.8.1.json\", \"datasets\": {\"data-3260ea354717c005290f79cfc22e40d8\": [{\"date\": \"2020-06-08T00:00:00\", \"totalTestResultsIncrease\": 317756.0, \"positiveIncrease\": 15853.0, \"death\": 64343.0, \"deathIncrease\": 569.0, \"positiveRate\": 0.05, \"state\": \"Non Tri-State\", \"sma7d\": 0.052}, {\"date\": \"2020-06-09T00:00:00\", \"totalTestResultsIncrease\": 351016.0, \"positiveIncrease\": 16106.0, \"death\": 65090.0, \"deathIncrease\": 747.0, \"positiveRate\": 0.046, \"state\": \"Non Tri-State\", \"sma7d\": 0.051}, {\"date\": \"2020-06-10T00:00:00\", \"totalTestResultsIncrease\": 342283.0, \"positiveIncrease\": 19411.0, \"death\": 65822.0, \"deathIncrease\": 732.0, \"positiveRate\": 0.057, \"state\": \"Non Tri-State\", \"sma7d\": 0.052}, {\"date\": \"2020-06-11T00:00:00\", \"totalTestResultsIncrease\": 368690.0, \"positiveIncrease\": 20712.0, \"death\": 66590.0, \"deathIncrease\": 768.0, \"positiveRate\": 0.056, \"state\": \"Non Tri-State\", \"sma7d\": 0.053}, {\"date\": \"2020-06-12T00:00:00\", \"totalTestResultsIncrease\": 512066.0, \"positiveIncrease\": 22079.0, \"death\": 67250.0, \"deathIncrease\": 660.0, \"positiveRate\": 0.043, \"state\": \"Non Tri-State\", \"sma7d\": 0.051}, {\"date\": \"2020-06-13T00:00:00\", \"totalTestResultsIncrease\": 397734.0, \"positiveIncrease\": 23679.0, \"death\": 67782.0, \"deathIncrease\": 532.0, \"positiveRate\": 0.06, \"state\": \"Non Tri-State\", \"sma7d\": 0.052}, {\"date\": \"2020-06-14T00:00:00\", \"totalTestResultsIncrease\": 396276.0, \"positiveIncrease\": 20309.0, \"death\": 68062.0, \"deathIncrease\": 280.0, \"positiveRate\": 0.051, \"state\": \"Non Tri-State\", \"sma7d\": 0.052}, {\"date\": \"2020-06-15T00:00:00\", \"totalTestResultsIncrease\": 352811.0, \"positiveIncrease\": 17521.0, \"death\": 68360.0, \"deathIncrease\": 298.0, \"positiveRate\": 0.05, \"state\": \"Non Tri-State\", \"sma7d\": 0.052}, {\"date\": \"2020-06-16T00:00:00\", \"totalTestResultsIncrease\": 381827.0, \"positiveIncrease\": 22367.0, \"death\": 69003.0, \"deathIncrease\": 643.0, \"positiveRate\": 0.059, \"state\": \"Non Tri-State\", \"sma7d\": 0.054}, {\"date\": \"2020-06-17T00:00:00\", \"totalTestResultsIncrease\": 405319.0, \"positiveIncrease\": 22949.0, \"death\": 69698.0, \"deathIncrease\": 695.0, \"positiveRate\": 0.057, \"state\": \"Non Tri-State\", \"sma7d\": 0.054}, {\"date\": \"2020-06-18T00:00:00\", \"totalTestResultsIncrease\": 416745.0, \"positiveIncrease\": 26494.0, \"death\": 70332.0, \"deathIncrease\": 634.0, \"positiveRate\": 0.064, \"state\": \"Non Tri-State\", \"sma7d\": 0.055}, {\"date\": \"2020-06-19T00:00:00\", \"totalTestResultsIncrease\": 460285.0, \"positiveIncrease\": 29744.0, \"death\": 70915.0, \"deathIncrease\": 583.0, \"positiveRate\": 0.065, \"state\": \"Non Tri-State\", \"sma7d\": 0.058}, {\"date\": \"2020-06-20T00:00:00\", \"totalTestResultsIncrease\": 462056.0, \"positiveIncrease\": 30782.0, \"death\": 71484.0, \"deathIncrease\": 569.0, \"positiveRate\": 0.067, \"state\": \"Non Tri-State\", \"sma7d\": 0.059}, {\"date\": \"2020-06-21T00:00:00\", \"totalTestResultsIncrease\": 415435.0, \"positiveIncrease\": 26272.0, \"death\": 71739.0, \"deathIncrease\": 255.0, \"positiveRate\": 0.063, \"state\": \"Non Tri-State\", \"sma7d\": 0.061}, {\"date\": \"2020-06-22T00:00:00\", \"totalTestResultsIncrease\": 381042.0, \"positiveIncrease\": 26165.0, \"death\": 71980.0, \"deathIncrease\": 241.0, \"positiveRate\": 0.069, \"state\": \"Non Tri-State\", \"sma7d\": 0.063}, {\"date\": \"2020-06-23T00:00:00\", \"totalTestResultsIncrease\": 428442.0, \"positiveIncrease\": 31988.0, \"death\": 72593.0, \"deathIncrease\": 613.0, \"positiveRate\": 0.075, \"state\": \"Non Tri-State\", \"sma7d\": 0.066}, {\"date\": \"2020-06-24T00:00:00\", \"totalTestResultsIncrease\": 445391.0, \"positiveIncrease\": 37931.0, \"death\": 73245.0, \"deathIncrease\": 652.0, \"positiveRate\": 0.085, \"state\": \"Non Tri-State\", \"sma7d\": 0.07}, {\"date\": \"2020-06-25T00:00:00\", \"totalTestResultsIncrease\": 540391.0, \"positiveIncrease\": 37938.0, \"death\": 73840.0, \"deathIncrease\": 595.0, \"positiveRate\": 0.07, \"state\": \"Non Tri-State\", \"sma7d\": 0.071}, {\"date\": \"2020-06-26T00:00:00\", \"totalTestResultsIncrease\": 506558.0, \"positiveIncrease\": 43163.0, \"death\": 74411.0, \"deathIncrease\": 571.0, \"positiveRate\": 0.085, \"state\": \"Non Tri-State\", \"sma7d\": 0.073}, {\"date\": \"2020-06-27T00:00:00\", \"totalTestResultsIncrease\": 496340.0, \"positiveIncrease\": 42644.0, \"death\": 74866.0, \"deathIncrease\": 455.0, \"positiveRate\": 0.086, \"state\": \"Non Tri-State\", \"sma7d\": 0.076}, {\"date\": \"2020-06-28T00:00:00\", \"totalTestResultsIncrease\": 495079.0, \"positiveIncrease\": 40835.0, \"death\": 75100.0, \"deathIncrease\": 234.0, \"positiveRate\": 0.082, \"state\": \"Non Tri-State\", \"sma7d\": 0.079}, {\"date\": \"2020-06-29T00:00:00\", \"totalTestResultsIncrease\": 562783.0, \"positiveIncrease\": 38635.0, \"death\": 75402.0, \"deathIncrease\": 302.0, \"positiveRate\": 0.069, \"state\": \"Non Tri-State\", \"sma7d\": 0.079}, {\"date\": \"2020-06-30T00:00:00\", \"totalTestResultsIncrease\": 542112.0, \"positiveIncrease\": 46391.0, \"death\": 75940.0, \"deathIncrease\": 538.0, \"positiveRate\": 0.086, \"state\": \"Non Tri-State\", \"sma7d\": 0.08}, {\"date\": \"2020-07-01T00:00:00\", \"totalTestResultsIncrease\": 544562.0, \"positiveIncrease\": 49730.0, \"death\": 76585.0, \"deathIncrease\": 645.0, \"positiveRate\": 0.091, \"state\": \"Non Tri-State\", \"sma7d\": 0.081}, {\"date\": \"2020-07-02T00:00:00\", \"totalTestResultsIncrease\": 561090.0, \"positiveIncrease\": 52449.0, \"death\": 77240.0, \"deathIncrease\": 655.0, \"positiveRate\": 0.093, \"state\": \"Non Tri-State\", \"sma7d\": 0.085}, {\"date\": \"2020-07-03T00:00:00\", \"totalTestResultsIncrease\": 622997.0, \"positiveIncrease\": 52848.0, \"death\": 77763.0, \"deathIncrease\": 523.0, \"positiveRate\": 0.085, \"state\": \"Non Tri-State\", \"sma7d\": 0.085}, {\"date\": \"2020-07-04T00:00:00\", \"totalTestResultsIncrease\": 556781.0, \"positiveIncrease\": 53717.0, \"death\": 78033.0, \"deathIncrease\": 270.0, \"positiveRate\": 0.096, \"state\": \"Non Tri-State\", \"sma7d\": 0.086}, {\"date\": \"2020-07-05T00:00:00\", \"totalTestResultsIncrease\": 567401.0, \"positiveIncrease\": 44887.0, \"death\": 78212.0, \"deathIncrease\": 179.0, \"positiveRate\": 0.079, \"state\": \"Non Tri-State\", \"sma7d\": 0.086}, {\"date\": \"2020-07-06T00:00:00\", \"totalTestResultsIncrease\": 426359.0, \"positiveIncrease\": 40614.0, \"death\": 78424.0, \"deathIncrease\": 212.0, \"positiveRate\": 0.095, \"state\": \"Non Tri-State\", \"sma7d\": 0.089}, {\"date\": \"2020-07-07T00:00:00\", \"totalTestResultsIncrease\": 559818.0, \"positiveIncrease\": 50854.0, \"death\": 79283.0, \"deathIncrease\": 859.0, \"positiveRate\": 0.091, \"state\": \"Non Tri-State\", \"sma7d\": 0.09}, {\"date\": \"2020-07-08T00:00:00\", \"totalTestResultsIncrease\": 545625.0, \"positiveIncrease\": 61219.0, \"death\": 80013.0, \"deathIncrease\": 730.0, \"positiveRate\": 0.112, \"state\": \"Non Tri-State\", \"sma7d\": 0.093}, {\"date\": \"2020-07-09T00:00:00\", \"totalTestResultsIncrease\": 603478.0, \"positiveIncrease\": 57950.0, \"death\": 80835.0, \"deathIncrease\": 822.0, \"positiveRate\": 0.096, \"state\": \"Non Tri-State\", \"sma7d\": 0.093}, {\"date\": \"2020-07-10T00:00:00\", \"totalTestResultsIncrease\": 713488.0, \"positiveIncrease\": 65393.0, \"death\": 81649.0, \"deathIncrease\": 814.0, \"positiveRate\": 0.092, \"state\": \"Non Tri-State\", \"sma7d\": 0.094}, {\"date\": \"2020-07-11T00:00:00\", \"totalTestResultsIncrease\": 591188.0, \"positiveIncrease\": 61946.0, \"death\": 82354.0, \"deathIncrease\": 705.0, \"positiveRate\": 0.105, \"state\": \"Non Tri-State\", \"sma7d\": 0.096}, {\"date\": \"2020-07-12T00:00:00\", \"totalTestResultsIncrease\": 640580.0, \"positiveIncrease\": 59962.0, \"death\": 82809.0, \"deathIncrease\": 455.0, \"positiveRate\": 0.094, \"state\": \"Non Tri-State\", \"sma7d\": 0.098}, {\"date\": \"2020-07-13T00:00:00\", \"totalTestResultsIncrease\": 624522.0, \"positiveIncrease\": 57461.0, \"death\": 83084.0, \"deathIncrease\": 275.0, \"positiveRate\": 0.092, \"state\": \"Non Tri-State\", \"sma7d\": 0.097}, {\"date\": \"2020-07-14T00:00:00\", \"totalTestResultsIncrease\": 676948.0, \"positiveIncrease\": 61554.0, \"death\": 83792.0, \"deathIncrease\": 708.0, \"positiveRate\": 0.091, \"state\": \"Non Tri-State\", \"sma7d\": 0.097}, {\"date\": \"2020-07-15T00:00:00\", \"totalTestResultsIncrease\": 665748.0, \"positiveIncrease\": 64082.0, \"death\": 84608.0, \"deathIncrease\": 816.0, \"positiveRate\": 0.096, \"state\": \"Non Tri-State\", \"sma7d\": 0.095}, {\"date\": \"2020-07-16T00:00:00\", \"totalTestResultsIncrease\": 722897.0, \"positiveIncrease\": 69847.0, \"death\": 85504.0, \"deathIncrease\": 896.0, \"positiveRate\": 0.097, \"state\": \"Non Tri-State\", \"sma7d\": 0.095}, {\"date\": \"2020-07-17T00:00:00\", \"totalTestResultsIncrease\": 750104.0, \"positiveIncrease\": 76264.0, \"death\": 86419.0, \"deathIncrease\": 915.0, \"positiveRate\": 0.102, \"state\": \"Non Tri-State\", \"sma7d\": 0.097}, {\"date\": \"2020-07-18T00:00:00\", \"totalTestResultsIncrease\": 679432.0, \"positiveIncrease\": 64163.0, \"death\": 87265.0, \"deathIncrease\": 846.0, \"positiveRate\": 0.094, \"state\": \"Non Tri-State\", \"sma7d\": 0.095}, {\"date\": \"2020-07-19T00:00:00\", \"totalTestResultsIncrease\": 715455.0, \"positiveIncrease\": 64413.0, \"death\": 87771.0, \"deathIncrease\": 506.0, \"positiveRate\": 0.09, \"state\": \"Non Tri-State\", \"sma7d\": 0.095}, {\"date\": \"2020-07-20T00:00:00\", \"totalTestResultsIncrease\": 644271.0, \"positiveIncrease\": 56110.0, \"death\": 88106.0, \"deathIncrease\": 335.0, \"positiveRate\": 0.087, \"state\": \"Non Tri-State\", \"sma7d\": 0.094}, {\"date\": \"2020-07-21T00:00:00\", \"totalTestResultsIncrease\": 668957.0, \"positiveIncrease\": 62453.0, \"death\": 89120.0, \"deathIncrease\": 1014.0, \"positiveRate\": 0.093, \"state\": \"Non Tri-State\", \"sma7d\": 0.094}, {\"date\": \"2020-07-22T00:00:00\", \"totalTestResultsIncrease\": 693300.0, \"positiveIncrease\": 67929.0, \"death\": 90257.0, \"deathIncrease\": 1137.0, \"positiveRate\": 0.098, \"state\": \"Non Tri-State\", \"sma7d\": 0.094}, {\"date\": \"2020-07-23T00:00:00\", \"totalTestResultsIncrease\": 722510.0, \"positiveIncrease\": 69965.0, \"death\": 91256.0, \"deathIncrease\": 999.0, \"positiveRate\": 0.097, \"state\": \"Non Tri-State\", \"sma7d\": 0.094}, {\"date\": \"2020-07-24T00:00:00\", \"totalTestResultsIncrease\": 800141.0, \"positiveIncrease\": 73438.0, \"death\": 92387.0, \"deathIncrease\": 1131.0, \"positiveRate\": 0.092, \"state\": \"Non Tri-State\", \"sma7d\": 0.093}, {\"date\": \"2020-07-25T00:00:00\", \"totalTestResultsIncrease\": 725610.0, \"positiveIncrease\": 64150.0, \"death\": 93400.0, \"deathIncrease\": 1013.0, \"positiveRate\": 0.088, \"state\": \"Non Tri-State\", \"sma7d\": 0.092}, {\"date\": \"2020-07-26T00:00:00\", \"totalTestResultsIncrease\": 737111.0, \"positiveIncrease\": 60672.0, \"death\": 93944.0, \"deathIncrease\": 544.0, \"positiveRate\": 0.082, \"state\": \"Non Tri-State\", \"sma7d\": 0.091}, {\"date\": \"2020-07-27T00:00:00\", \"totalTestResultsIncrease\": 641039.0, \"positiveIncrease\": 53870.0, \"death\": 94970.0, \"deathIncrease\": 1026.0, \"positiveRate\": 0.084, \"state\": \"Non Tri-State\", \"sma7d\": 0.091}, {\"date\": \"2020-07-28T00:00:00\", \"totalTestResultsIncrease\": 667746.0, \"positiveIncrease\": 55118.0, \"death\": 96056.0, \"deathIncrease\": 1086.0, \"positiveRate\": 0.083, \"state\": \"Non Tri-State\", \"sma7d\": 0.089}, {\"date\": \"2020-07-29T00:00:00\", \"totalTestResultsIncrease\": 721828.0, \"positiveIncrease\": 65320.0, \"death\": 97522.0, \"deathIncrease\": 1466.0, \"positiveRate\": 0.09, \"state\": \"Non Tri-State\", \"sma7d\": 0.088}, {\"date\": \"2020-07-30T00:00:00\", \"totalTestResultsIncrease\": 709500.0, \"positiveIncrease\": 68607.0, \"death\": 98754.0, \"deathIncrease\": 1232.0, \"positiveRate\": 0.097, \"state\": \"Non Tri-State\", \"sma7d\": 0.088}, {\"date\": \"2020-07-31T00:00:00\", \"totalTestResultsIncrease\": 598054.0, \"positiveIncrease\": 66029.0, \"death\": 100046.0, \"deathIncrease\": 1292.0, \"positiveRate\": 0.11, \"state\": \"Non Tri-State\", \"sma7d\": 0.091}, {\"date\": \"2020-08-01T00:00:00\", \"totalTestResultsIncrease\": 630171.0, \"positiveIncrease\": 59142.0, \"death\": 101193.0, \"deathIncrease\": 1147.0, \"positiveRate\": 0.094, \"state\": \"Non Tri-State\", \"sma7d\": 0.091}, {\"date\": \"2020-08-02T00:00:00\", \"totalTestResultsIncrease\": 617761.0, \"positiveIncrease\": 47842.0, \"death\": 101696.0, \"deathIncrease\": 503.0, \"positiveRate\": 0.077, \"state\": \"Non Tri-State\", \"sma7d\": 0.091}]}}, {\"mode\": \"vega-lite\"});\n",
       "</script>"
      ],
      "text/plain": [
       "alt.LayerChart(...)"
      ]
     },
     "execution_count": 16,
     "metadata": {},
     "output_type": "execute_result"
    }
   ],
   "source": [
    "create_plot(non_tristate, 'positiveRate')"
   ]
  },
  {
   "cell_type": "code",
   "execution_count": 17,
   "metadata": {
    "execution": {
     "iopub.execute_input": "2020-08-02T22:33:42.083417Z",
     "iopub.status.busy": "2020-08-02T22:33:42.073750Z",
     "iopub.status.idle": "2020-08-02T22:33:42.154155Z",
     "shell.execute_reply": "2020-08-02T22:33:42.154673Z"
    },
    "papermill": {
     "duration": 0.11826,
     "end_time": "2020-08-02T22:33:42.154855",
     "exception": false,
     "start_time": "2020-08-02T22:33:42.036595",
     "status": "completed"
    },
    "tags": []
   },
   "outputs": [
    {
     "data": {
      "text/html": [
       "\n",
       "<div id=\"altair-viz-4198de02148d405595e212e9dd068bd2\"></div>\n",
       "<script type=\"text/javascript\">\n",
       "  (function(spec, embedOpt){\n",
       "    let outputDiv = document.currentScript.previousElementSibling;\n",
       "    if (outputDiv.id !== \"altair-viz-4198de02148d405595e212e9dd068bd2\") {\n",
       "      outputDiv = document.getElementById(\"altair-viz-4198de02148d405595e212e9dd068bd2\");\n",
       "    }\n",
       "    const paths = {\n",
       "      \"vega\": \"https://cdn.jsdelivr.net/npm//vega@5?noext\",\n",
       "      \"vega-lib\": \"https://cdn.jsdelivr.net/npm//vega-lib?noext\",\n",
       "      \"vega-lite\": \"https://cdn.jsdelivr.net/npm//vega-lite@4.8.1?noext\",\n",
       "      \"vega-embed\": \"https://cdn.jsdelivr.net/npm//vega-embed@6?noext\",\n",
       "    };\n",
       "\n",
       "    function loadScript(lib) {\n",
       "      return new Promise(function(resolve, reject) {\n",
       "        var s = document.createElement('script');\n",
       "        s.src = paths[lib];\n",
       "        s.async = true;\n",
       "        s.onload = () => resolve(paths[lib]);\n",
       "        s.onerror = () => reject(`Error loading script: ${paths[lib]}`);\n",
       "        document.getElementsByTagName(\"head\")[0].appendChild(s);\n",
       "      });\n",
       "    }\n",
       "\n",
       "    function showError(err) {\n",
       "      outputDiv.innerHTML = `<div class=\"error\" style=\"color:red;\">${err}</div>`;\n",
       "      throw err;\n",
       "    }\n",
       "\n",
       "    function displayChart(vegaEmbed) {\n",
       "      vegaEmbed(outputDiv, spec, embedOpt)\n",
       "        .catch(err => showError(`Javascript Error: ${err.message}<br>This usually means there's a typo in your chart specification. See the javascript console for the full traceback.`));\n",
       "    }\n",
       "\n",
       "    if(typeof define === \"function\" && define.amd) {\n",
       "      requirejs.config({paths});\n",
       "      require([\"vega-embed\"], displayChart, err => showError(`Error loading script: ${err.message}`));\n",
       "    } else if (typeof vegaEmbed === \"function\") {\n",
       "      displayChart(vegaEmbed);\n",
       "    } else {\n",
       "      loadScript(\"vega\")\n",
       "        .then(() => loadScript(\"vega-lite\"))\n",
       "        .then(() => loadScript(\"vega-embed\"))\n",
       "        .catch(showError)\n",
       "        .then(() => displayChart(vegaEmbed));\n",
       "    }\n",
       "  })({\"config\": {\"view\": {\"continuousWidth\": 400, \"continuousHeight\": 300}}, \"layer\": [{\"layer\": [{\"mark\": {\"type\": \"point\", \"size\": 75}, \"encoding\": {\"tooltip\": [{\"type\": \"temporal\", \"field\": \"date\"}, {\"type\": \"quantitative\", \"field\": \"deathIncrease\"}, {\"type\": \"quantitative\", \"field\": \"sma7d\"}], \"x\": {\"type\": \"temporal\", \"field\": \"date\"}, \"y\": {\"type\": \"quantitative\", \"field\": \"deathIncrease\"}}, \"selection\": {\"selector018\": {\"type\": \"interval\", \"bind\": \"scales\", \"encodings\": [\"x\", \"y\"]}}}, {\"mark\": {\"type\": \"line\", \"color\": \"purple\"}, \"encoding\": {\"x\": {\"type\": \"temporal\", \"field\": \"date\"}, \"y\": {\"type\": \"quantitative\", \"field\": \"sma7d\"}}}]}, {\"mark\": {\"type\": \"rule\", \"color\": \"#aaa\"}, \"encoding\": {\"x\": {\"type\": \"temporal\", \"field\": \"date\"}}, \"transform\": [{\"filter\": {\"selection\": \"selector017\"}}]}, {\"mark\": \"circle\", \"encoding\": {\"opacity\": {\"condition\": {\"value\": 1, \"selection\": \"selector017\"}, \"value\": 0}, \"tooltip\": [{\"type\": \"temporal\", \"field\": \"date\"}, {\"type\": \"quantitative\", \"field\": \"deathIncrease\"}, {\"type\": \"quantitative\", \"field\": \"sma7d\"}], \"x\": {\"type\": \"temporal\", \"field\": \"date\"}, \"y\": {\"type\": \"quantitative\", \"field\": \"deathIncrease\"}}, \"selection\": {\"selector017\": {\"type\": \"single\", \"encodings\": [\"x\"], \"on\": \"mouseover\", \"nearest\": true, \"empty\": \"none\"}}}, {\"mark\": {\"type\": \"text\", \"align\": \"left\", \"dx\": 5, \"dy\": -5, \"stroke\": \"white\", \"strokeWidth\": 2}, \"encoding\": {\"text\": {\"type\": \"quantitative\", \"field\": \"deathIncrease\"}, \"tooltip\": [{\"type\": \"temporal\", \"field\": \"date\"}, {\"type\": \"quantitative\", \"field\": \"deathIncrease\"}, {\"type\": \"quantitative\", \"field\": \"sma7d\"}], \"x\": {\"type\": \"temporal\", \"field\": \"date\"}, \"y\": {\"type\": \"quantitative\", \"field\": \"deathIncrease\"}}, \"transform\": [{\"filter\": {\"selection\": \"selector017\"}}]}, {\"mark\": {\"type\": \"text\", \"align\": \"left\", \"dx\": 5, \"dy\": -5}, \"encoding\": {\"text\": {\"type\": \"quantitative\", \"field\": \"deathIncrease\"}, \"tooltip\": [{\"type\": \"temporal\", \"field\": \"date\"}, {\"type\": \"quantitative\", \"field\": \"deathIncrease\"}, {\"type\": \"quantitative\", \"field\": \"sma7d\"}], \"x\": {\"type\": \"temporal\", \"field\": \"date\"}, \"y\": {\"type\": \"quantitative\", \"field\": \"deathIncrease\"}}, \"transform\": [{\"filter\": {\"selection\": \"selector017\"}}]}], \"data\": {\"name\": \"data-ef20de268e9046a2c0dd6a30c5156301\"}, \"height\": 400, \"title\": \"Non Tri-State: deathIncrease\", \"width\": 500, \"$schema\": \"https://vega.github.io/schema/vega-lite/v4.8.1.json\", \"datasets\": {\"data-ef20de268e9046a2c0dd6a30c5156301\": [{\"date\": \"2020-06-08T00:00:00\", \"totalTestResultsIncrease\": 317756.0, \"positiveIncrease\": 15853.0, \"death\": 64343.0, \"deathIncrease\": 569.0, \"positiveRate\": 0.05, \"state\": \"Non Tri-State\", \"sma7d\": 648.714}, {\"date\": \"2020-06-09T00:00:00\", \"totalTestResultsIncrease\": 351016.0, \"positiveIncrease\": 16106.0, \"death\": 65090.0, \"deathIncrease\": 747.0, \"positiveRate\": 0.046, \"state\": \"Non Tri-State\", \"sma7d\": 635.714}, {\"date\": \"2020-06-10T00:00:00\", \"totalTestResultsIncrease\": 342283.0, \"positiveIncrease\": 19411.0, \"death\": 65822.0, \"deathIncrease\": 732.0, \"positiveRate\": 0.057, \"state\": \"Non Tri-State\", \"sma7d\": 624.857}, {\"date\": \"2020-06-11T00:00:00\", \"totalTestResultsIncrease\": 368690.0, \"positiveIncrease\": 20712.0, \"death\": 66590.0, \"deathIncrease\": 768.0, \"positiveRate\": 0.056, \"state\": \"Non Tri-State\", \"sma7d\": 630.857}, {\"date\": \"2020-06-12T00:00:00\", \"totalTestResultsIncrease\": 512066.0, \"positiveIncrease\": 22079.0, \"death\": 67250.0, \"deathIncrease\": 660.0, \"positiveRate\": 0.043, \"state\": \"Non Tri-State\", \"sma7d\": 629.286}, {\"date\": \"2020-06-13T00:00:00\", \"totalTestResultsIncrease\": 397734.0, \"positiveIncrease\": 23679.0, \"death\": 67782.0, \"deathIncrease\": 532.0, \"positiveRate\": 0.06, \"state\": \"Non Tri-State\", \"sma7d\": 617.286}, {\"date\": \"2020-06-14T00:00:00\", \"totalTestResultsIncrease\": 396276.0, \"positiveIncrease\": 20309.0, \"death\": 68062.0, \"deathIncrease\": 280.0, \"positiveRate\": 0.051, \"state\": \"Non Tri-State\", \"sma7d\": 612.571}, {\"date\": \"2020-06-15T00:00:00\", \"totalTestResultsIncrease\": 352811.0, \"positiveIncrease\": 17521.0, \"death\": 68360.0, \"deathIncrease\": 298.0, \"positiveRate\": 0.05, \"state\": \"Non Tri-State\", \"sma7d\": 573.857}, {\"date\": \"2020-06-16T00:00:00\", \"totalTestResultsIncrease\": 381827.0, \"positiveIncrease\": 22367.0, \"death\": 69003.0, \"deathIncrease\": 643.0, \"positiveRate\": 0.059, \"state\": \"Non Tri-State\", \"sma7d\": 559.0}, {\"date\": \"2020-06-17T00:00:00\", \"totalTestResultsIncrease\": 405319.0, \"positiveIncrease\": 22949.0, \"death\": 69698.0, \"deathIncrease\": 695.0, \"positiveRate\": 0.057, \"state\": \"Non Tri-State\", \"sma7d\": 553.714}, {\"date\": \"2020-06-18T00:00:00\", \"totalTestResultsIncrease\": 416745.0, \"positiveIncrease\": 26494.0, \"death\": 70332.0, \"deathIncrease\": 634.0, \"positiveRate\": 0.064, \"state\": \"Non Tri-State\", \"sma7d\": 534.571}, {\"date\": \"2020-06-19T00:00:00\", \"totalTestResultsIncrease\": 460285.0, \"positiveIncrease\": 29744.0, \"death\": 70915.0, \"deathIncrease\": 583.0, \"positiveRate\": 0.065, \"state\": \"Non Tri-State\", \"sma7d\": 523.571}, {\"date\": \"2020-06-20T00:00:00\", \"totalTestResultsIncrease\": 462056.0, \"positiveIncrease\": 30782.0, \"death\": 71484.0, \"deathIncrease\": 569.0, \"positiveRate\": 0.067, \"state\": \"Non Tri-State\", \"sma7d\": 528.857}, {\"date\": \"2020-06-21T00:00:00\", \"totalTestResultsIncrease\": 415435.0, \"positiveIncrease\": 26272.0, \"death\": 71739.0, \"deathIncrease\": 255.0, \"positiveRate\": 0.063, \"state\": \"Non Tri-State\", \"sma7d\": 525.286}, {\"date\": \"2020-06-22T00:00:00\", \"totalTestResultsIncrease\": 381042.0, \"positiveIncrease\": 26165.0, \"death\": 71980.0, \"deathIncrease\": 241.0, \"positiveRate\": 0.069, \"state\": \"Non Tri-State\", \"sma7d\": 517.143}, {\"date\": \"2020-06-23T00:00:00\", \"totalTestResultsIncrease\": 428442.0, \"positiveIncrease\": 31988.0, \"death\": 72593.0, \"deathIncrease\": 613.0, \"positiveRate\": 0.075, \"state\": \"Non Tri-State\", \"sma7d\": 512.857}, {\"date\": \"2020-06-24T00:00:00\", \"totalTestResultsIncrease\": 445391.0, \"positiveIncrease\": 37931.0, \"death\": 73245.0, \"deathIncrease\": 652.0, \"positiveRate\": 0.085, \"state\": \"Non Tri-State\", \"sma7d\": 506.714}, {\"date\": \"2020-06-25T00:00:00\", \"totalTestResultsIncrease\": 540391.0, \"positiveIncrease\": 37938.0, \"death\": 73840.0, \"deathIncrease\": 595.0, \"positiveRate\": 0.07, \"state\": \"Non Tri-State\", \"sma7d\": 501.143}, {\"date\": \"2020-06-26T00:00:00\", \"totalTestResultsIncrease\": 506558.0, \"positiveIncrease\": 43163.0, \"death\": 74411.0, \"deathIncrease\": 571.0, \"positiveRate\": 0.085, \"state\": \"Non Tri-State\", \"sma7d\": 499.429}, {\"date\": \"2020-06-27T00:00:00\", \"totalTestResultsIncrease\": 496340.0, \"positiveIncrease\": 42644.0, \"death\": 74866.0, \"deathIncrease\": 455.0, \"positiveRate\": 0.086, \"state\": \"Non Tri-State\", \"sma7d\": 483.143}, {\"date\": \"2020-06-28T00:00:00\", \"totalTestResultsIncrease\": 495079.0, \"positiveIncrease\": 40835.0, \"death\": 75100.0, \"deathIncrease\": 234.0, \"positiveRate\": 0.082, \"state\": \"Non Tri-State\", \"sma7d\": 480.143}, {\"date\": \"2020-06-29T00:00:00\", \"totalTestResultsIncrease\": 562783.0, \"positiveIncrease\": 38635.0, \"death\": 75402.0, \"deathIncrease\": 302.0, \"positiveRate\": 0.069, \"state\": \"Non Tri-State\", \"sma7d\": 488.857}, {\"date\": \"2020-06-30T00:00:00\", \"totalTestResultsIncrease\": 542112.0, \"positiveIncrease\": 46391.0, \"death\": 75940.0, \"deathIncrease\": 538.0, \"positiveRate\": 0.086, \"state\": \"Non Tri-State\", \"sma7d\": 478.143}, {\"date\": \"2020-07-01T00:00:00\", \"totalTestResultsIncrease\": 544562.0, \"positiveIncrease\": 49730.0, \"death\": 76585.0, \"deathIncrease\": 645.0, \"positiveRate\": 0.091, \"state\": \"Non Tri-State\", \"sma7d\": 477.143}, {\"date\": \"2020-07-02T00:00:00\", \"totalTestResultsIncrease\": 561090.0, \"positiveIncrease\": 52449.0, \"death\": 77240.0, \"deathIncrease\": 655.0, \"positiveRate\": 0.093, \"state\": \"Non Tri-State\", \"sma7d\": 485.714}, {\"date\": \"2020-07-03T00:00:00\", \"totalTestResultsIncrease\": 622997.0, \"positiveIncrease\": 52848.0, \"death\": 77763.0, \"deathIncrease\": 523.0, \"positiveRate\": 0.085, \"state\": \"Non Tri-State\", \"sma7d\": 478.857}, {\"date\": \"2020-07-04T00:00:00\", \"totalTestResultsIncrease\": 556781.0, \"positiveIncrease\": 53717.0, \"death\": 78033.0, \"deathIncrease\": 270.0, \"positiveRate\": 0.096, \"state\": \"Non Tri-State\", \"sma7d\": 452.429}, {\"date\": \"2020-07-05T00:00:00\", \"totalTestResultsIncrease\": 567401.0, \"positiveIncrease\": 44887.0, \"death\": 78212.0, \"deathIncrease\": 179.0, \"positiveRate\": 0.079, \"state\": \"Non Tri-State\", \"sma7d\": 444.571}, {\"date\": \"2020-07-06T00:00:00\", \"totalTestResultsIncrease\": 426359.0, \"positiveIncrease\": 40614.0, \"death\": 78424.0, \"deathIncrease\": 212.0, \"positiveRate\": 0.095, \"state\": \"Non Tri-State\", \"sma7d\": 431.714}, {\"date\": \"2020-07-07T00:00:00\", \"totalTestResultsIncrease\": 559818.0, \"positiveIncrease\": 50854.0, \"death\": 79283.0, \"deathIncrease\": 859.0, \"positiveRate\": 0.091, \"state\": \"Non Tri-State\", \"sma7d\": 477.571}, {\"date\": \"2020-07-08T00:00:00\", \"totalTestResultsIncrease\": 545625.0, \"positiveIncrease\": 61219.0, \"death\": 80013.0, \"deathIncrease\": 730.0, \"positiveRate\": 0.112, \"state\": \"Non Tri-State\", \"sma7d\": 489.714}, {\"date\": \"2020-07-09T00:00:00\", \"totalTestResultsIncrease\": 603478.0, \"positiveIncrease\": 57950.0, \"death\": 80835.0, \"deathIncrease\": 822.0, \"positiveRate\": 0.096, \"state\": \"Non Tri-State\", \"sma7d\": 513.571}, {\"date\": \"2020-07-10T00:00:00\", \"totalTestResultsIncrease\": 713488.0, \"positiveIncrease\": 65393.0, \"death\": 81649.0, \"deathIncrease\": 814.0, \"positiveRate\": 0.092, \"state\": \"Non Tri-State\", \"sma7d\": 555.143}, {\"date\": \"2020-07-11T00:00:00\", \"totalTestResultsIncrease\": 591188.0, \"positiveIncrease\": 61946.0, \"death\": 82354.0, \"deathIncrease\": 705.0, \"positiveRate\": 0.105, \"state\": \"Non Tri-State\", \"sma7d\": 617.286}, {\"date\": \"2020-07-12T00:00:00\", \"totalTestResultsIncrease\": 640580.0, \"positiveIncrease\": 59962.0, \"death\": 82809.0, \"deathIncrease\": 455.0, \"positiveRate\": 0.094, \"state\": \"Non Tri-State\", \"sma7d\": 656.714}, {\"date\": \"2020-07-13T00:00:00\", \"totalTestResultsIncrease\": 624522.0, \"positiveIncrease\": 57461.0, \"death\": 83084.0, \"deathIncrease\": 275.0, \"positiveRate\": 0.092, \"state\": \"Non Tri-State\", \"sma7d\": 665.714}, {\"date\": \"2020-07-14T00:00:00\", \"totalTestResultsIncrease\": 676948.0, \"positiveIncrease\": 61554.0, \"death\": 83792.0, \"deathIncrease\": 708.0, \"positiveRate\": 0.091, \"state\": \"Non Tri-State\", \"sma7d\": 644.143}, {\"date\": \"2020-07-15T00:00:00\", \"totalTestResultsIncrease\": 665748.0, \"positiveIncrease\": 64082.0, \"death\": 84608.0, \"deathIncrease\": 816.0, \"positiveRate\": 0.096, \"state\": \"Non Tri-State\", \"sma7d\": 656.429}, {\"date\": \"2020-07-16T00:00:00\", \"totalTestResultsIncrease\": 722897.0, \"positiveIncrease\": 69847.0, \"death\": 85504.0, \"deathIncrease\": 896.0, \"positiveRate\": 0.097, \"state\": \"Non Tri-State\", \"sma7d\": 667.0}, {\"date\": \"2020-07-17T00:00:00\", \"totalTestResultsIncrease\": 750104.0, \"positiveIncrease\": 76264.0, \"death\": 86419.0, \"deathIncrease\": 915.0, \"positiveRate\": 0.102, \"state\": \"Non Tri-State\", \"sma7d\": 681.429}, {\"date\": \"2020-07-18T00:00:00\", \"totalTestResultsIncrease\": 679432.0, \"positiveIncrease\": 64163.0, \"death\": 87265.0, \"deathIncrease\": 846.0, \"positiveRate\": 0.094, \"state\": \"Non Tri-State\", \"sma7d\": 701.571}, {\"date\": \"2020-07-19T00:00:00\", \"totalTestResultsIncrease\": 715455.0, \"positiveIncrease\": 64413.0, \"death\": 87771.0, \"deathIncrease\": 506.0, \"positiveRate\": 0.09, \"state\": \"Non Tri-State\", \"sma7d\": 708.857}, {\"date\": \"2020-07-20T00:00:00\", \"totalTestResultsIncrease\": 644271.0, \"positiveIncrease\": 56110.0, \"death\": 88106.0, \"deathIncrease\": 335.0, \"positiveRate\": 0.087, \"state\": \"Non Tri-State\", \"sma7d\": 717.429}, {\"date\": \"2020-07-21T00:00:00\", \"totalTestResultsIncrease\": 668957.0, \"positiveIncrease\": 62453.0, \"death\": 89120.0, \"deathIncrease\": 1014.0, \"positiveRate\": 0.093, \"state\": \"Non Tri-State\", \"sma7d\": 761.143}, {\"date\": \"2020-07-22T00:00:00\", \"totalTestResultsIncrease\": 693300.0, \"positiveIncrease\": 67929.0, \"death\": 90257.0, \"deathIncrease\": 1137.0, \"positiveRate\": 0.098, \"state\": \"Non Tri-State\", \"sma7d\": 807.0}, {\"date\": \"2020-07-23T00:00:00\", \"totalTestResultsIncrease\": 722510.0, \"positiveIncrease\": 69965.0, \"death\": 91256.0, \"deathIncrease\": 999.0, \"positiveRate\": 0.097, \"state\": \"Non Tri-State\", \"sma7d\": 821.714}, {\"date\": \"2020-07-24T00:00:00\", \"totalTestResultsIncrease\": 800141.0, \"positiveIncrease\": 73438.0, \"death\": 92387.0, \"deathIncrease\": 1131.0, \"positiveRate\": 0.092, \"state\": \"Non Tri-State\", \"sma7d\": 852.571}, {\"date\": \"2020-07-25T00:00:00\", \"totalTestResultsIncrease\": 725610.0, \"positiveIncrease\": 64150.0, \"death\": 93400.0, \"deathIncrease\": 1013.0, \"positiveRate\": 0.088, \"state\": \"Non Tri-State\", \"sma7d\": 876.429}, {\"date\": \"2020-07-26T00:00:00\", \"totalTestResultsIncrease\": 737111.0, \"positiveIncrease\": 60672.0, \"death\": 93944.0, \"deathIncrease\": 544.0, \"positiveRate\": 0.082, \"state\": \"Non Tri-State\", \"sma7d\": 881.857}, {\"date\": \"2020-07-27T00:00:00\", \"totalTestResultsIncrease\": 641039.0, \"positiveIncrease\": 53870.0, \"death\": 94970.0, \"deathIncrease\": 1026.0, \"positiveRate\": 0.084, \"state\": \"Non Tri-State\", \"sma7d\": 980.571}, {\"date\": \"2020-07-28T00:00:00\", \"totalTestResultsIncrease\": 667746.0, \"positiveIncrease\": 55118.0, \"death\": 96056.0, \"deathIncrease\": 1086.0, \"positiveRate\": 0.083, \"state\": \"Non Tri-State\", \"sma7d\": 990.857}, {\"date\": \"2020-07-29T00:00:00\", \"totalTestResultsIncrease\": 721828.0, \"positiveIncrease\": 65320.0, \"death\": 97522.0, \"deathIncrease\": 1466.0, \"positiveRate\": 0.09, \"state\": \"Non Tri-State\", \"sma7d\": 1037.857}, {\"date\": \"2020-07-30T00:00:00\", \"totalTestResultsIncrease\": 709500.0, \"positiveIncrease\": 68607.0, \"death\": 98754.0, \"deathIncrease\": 1232.0, \"positiveRate\": 0.097, \"state\": \"Non Tri-State\", \"sma7d\": 1071.143}, {\"date\": \"2020-07-31T00:00:00\", \"totalTestResultsIncrease\": 598054.0, \"positiveIncrease\": 66029.0, \"death\": 100046.0, \"deathIncrease\": 1292.0, \"positiveRate\": 0.11, \"state\": \"Non Tri-State\", \"sma7d\": 1094.143}, {\"date\": \"2020-08-01T00:00:00\", \"totalTestResultsIncrease\": 630171.0, \"positiveIncrease\": 59142.0, \"death\": 101193.0, \"deathIncrease\": 1147.0, \"positiveRate\": 0.094, \"state\": \"Non Tri-State\", \"sma7d\": 1113.286}, {\"date\": \"2020-08-02T00:00:00\", \"totalTestResultsIncrease\": 617761.0, \"positiveIncrease\": 47842.0, \"death\": 101696.0, \"deathIncrease\": 503.0, \"positiveRate\": 0.077, \"state\": \"Non Tri-State\", \"sma7d\": 1107.429}]}}, {\"mode\": \"vega-lite\"});\n",
       "</script>"
      ],
      "text/plain": [
       "alt.LayerChart(...)"
      ]
     },
     "execution_count": 17,
     "metadata": {},
     "output_type": "execute_result"
    }
   ],
   "source": [
    "create_plot(non_tristate, 'deathIncrease')"
   ]
  }
 ],
 "metadata": {
  "kernelspec": {
   "display_name": "Python 3",
   "language": "python",
   "name": "python3"
  },
  "language_info": {
   "codemirror_mode": {
    "name": "ipython",
    "version": 3
   },
   "file_extension": ".py",
   "mimetype": "text/x-python",
   "name": "python",
   "nbconvert_exporter": "python",
   "pygments_lexer": "ipython3",
   "version": "3.8.5"
  },
  "papermill": {
   "duration": 11.001529,
   "end_time": "2020-08-02T22:33:42.482019",
   "environment_variables": {},
   "exception": null,
   "input_path": "2020-07-19-covid-plots.ipynb",
   "output_path": "2020-07-19-covid-plots.ipynb",
   "parameters": {},
   "start_time": "2020-08-02T22:33:31.480490",
   "version": "2.1.2"
  }
 },
 "nbformat": 4,
 "nbformat_minor": 4
}