{
 "cells": [
  {
   "cell_type": "markdown",
   "metadata": {
    "papermill": {
     "duration": 0.014691,
     "end_time": "2020-12-09T09:26:10.242923",
     "exception": false,
     "start_time": "2020-12-09T09:26:10.228232",
     "status": "completed"
    },
    "tags": []
   },
   "source": [
    "# \"COVID-19 plots\"\n",
    "> \"Interactive plots with daily updates\"\n",
    "\n",
    "- author: bbernst\n",
    "- toc: true\n",
    "- branch: master\n",
    "- badges: true\n",
    "- comments: true\n",
    "- categories: [healthcare, covid]\n",
    "- image: images/covid_plots/covid_mask.png\n",
    "- hide: false\n",
    "- search_exclude: true"
   ]
  },
  {
   "cell_type": "markdown",
   "metadata": {
    "papermill": {
     "duration": 0.011852,
     "end_time": "2020-12-09T09:26:10.267214",
     "exception": false,
     "start_time": "2020-12-09T09:26:10.255362",
     "status": "completed"
    },
    "tags": []
   },
   "source": [
    "I wanted to make a simple COVID-19 post to accomplish two main goals:\n",
    "1. Easily see the specific plots I'm interested in\n",
    "1. Update these plots every day, automatically\n",
    "\n",
    "Enter [fastpages](https://github.com/fastai/fastpages) and [github actions](https://github.com/features/actions). I'd been meaning to set up a blog with fastpages for a while and thought this would be a good reason to try it out. The documentation was great and I was able to set up automatic updates by using https://covid19dashboards.com/ as a guide.\n",
    "\n",
    "The data for this post comes from https://covidtracking.com/, which updates by 5pm each day, and I have my dashboard update at 6:30pm. For each geography -- so far that's the US, New York, and Non Tri-State -- I look at daily positive cases, positive rate, and deaths. Be sure to hover around on each of the plots, they have helpful interactive tooltips to make reading the data more intuitive."
   ]
  },
  {
   "cell_type": "code",
   "execution_count": 1,
   "metadata": {
    "execution": {
     "iopub.execute_input": "2020-12-09T09:26:10.301979Z",
     "iopub.status.busy": "2020-12-09T09:26:10.294907Z",
     "iopub.status.idle": "2020-12-09T09:26:10.681583Z",
     "shell.execute_reply": "2020-12-09T09:26:10.682354Z"
    },
    "papermill": {
     "duration": 0.403882,
     "end_time": "2020-12-09T09:26:10.682800",
     "exception": false,
     "start_time": "2020-12-09T09:26:10.278918",
     "status": "completed"
    },
    "tags": []
   },
   "outputs": [],
   "source": [
    "#collapse\n",
    "from typing import Callable, Literal\n",
    "import pandas as pd\n",
    "import altair as alt"
   ]
  },
  {
   "cell_type": "code",
   "execution_count": 2,
   "metadata": {
    "execution": {
     "iopub.execute_input": "2020-12-09T09:26:10.715590Z",
     "iopub.status.busy": "2020-12-09T09:26:10.715070Z",
     "iopub.status.idle": "2020-12-09T09:26:10.733120Z",
     "shell.execute_reply": "2020-12-09T09:26:10.733499Z"
    },
    "papermill": {
     "duration": 0.035474,
     "end_time": "2020-12-09T09:26:10.733636",
     "exception": false,
     "start_time": "2020-12-09T09:26:10.698162",
     "status": "completed"
    },
    "tags": []
   },
   "outputs": [
    {
     "name": "stdout",
     "output_type": "stream",
     "text": [
      "Last updated at (ET): 2020-12-09 04:26:10 AM\n"
     ]
    }
   ],
   "source": [
    "#hide_input\n",
    "current_utc = pd.Timestamp.now(tz='America/New_York').strftime('%Y-%m-%d %I:%M:%S %p')\n",
    "print(f\"Last updated at (ET): {current_utc}\")"
   ]
  },
  {
   "cell_type": "markdown",
   "metadata": {
    "papermill": {
     "duration": 0.011348,
     "end_time": "2020-12-09T09:26:10.757119",
     "exception": false,
     "start_time": "2020-12-09T09:26:10.745771",
     "status": "completed"
    },
    "tags": []
   },
   "source": [
    "# Data"
   ]
  },
  {
   "cell_type": "code",
   "execution_count": 3,
   "metadata": {
    "execution": {
     "iopub.execute_input": "2020-12-09T09:26:10.786293Z",
     "iopub.status.busy": "2020-12-09T09:26:10.785767Z",
     "iopub.status.idle": "2020-12-09T09:26:17.482663Z",
     "shell.execute_reply": "2020-12-09T09:26:17.482040Z"
    },
    "papermill": {
     "duration": 6.713469,
     "end_time": "2020-12-09T09:26:17.482799",
     "exception": false,
     "start_time": "2020-12-09T09:26:10.769330",
     "status": "completed"
    },
    "tags": []
   },
   "outputs": [],
   "source": [
    "df = pd.read_csv('https://covidtracking.com/api/states/daily.csv')"
   ]
  },
  {
   "cell_type": "markdown",
   "metadata": {
    "papermill": {
     "duration": 0.011975,
     "end_time": "2020-12-09T09:26:17.507746",
     "exception": false,
     "start_time": "2020-12-09T09:26:17.495771",
     "status": "completed"
    },
    "tags": []
   },
   "source": [
    "# Helpers"
   ]
  },
  {
   "cell_type": "code",
   "execution_count": 4,
   "metadata": {
    "execution": {
     "iopub.execute_input": "2020-12-09T09:26:17.540373Z",
     "iopub.status.busy": "2020-12-09T09:26:17.539608Z",
     "iopub.status.idle": "2020-12-09T09:26:17.541157Z",
     "shell.execute_reply": "2020-12-09T09:26:17.541734Z"
    },
    "papermill": {
     "duration": 0.022245,
     "end_time": "2020-12-09T09:26:17.541911",
     "exception": false,
     "start_time": "2020-12-09T09:26:17.519666",
     "status": "completed"
    },
    "tags": []
   },
   "outputs": [],
   "source": [
    "#collapse\n",
    "def create_df(df: pd.DataFrame, \n",
    "              filter_f: Callable, \n",
    "              state_name: str):\n",
    "    out_df = (\n",
    "     df\n",
    "     .assign(date = lambda d: pd.to_datetime(d['date'], format='%Y%m%d'))\n",
    "     .loc[filter_f, :]\n",
    "     .groupby('date')\n",
    "     .apply(lambda d: pd.Series(dict(\n",
    "         totalTestResultsIncrease = d['totalTestResultsIncrease'].sum(),\n",
    "         positiveIncrease = d['positiveIncrease'].sum(),\n",
    "         death = d['death'].sum(),\n",
    "         deathIncrease = d['deathIncrease'].sum()\n",
    "     )))\n",
    "     .reset_index()\n",
    "     .assign(positiveRate = lambda d: round(d['positiveIncrease'] / d['totalTestResultsIncrease'], 3))\n",
    "     .sort_values('date', ascending=True)\n",
    "     .assign(state = state_name)\n",
    "     .reset_index(drop=True)\n",
    "    )\n",
    "    \n",
    "    return out_df"
   ]
  },
  {
   "cell_type": "code",
   "execution_count": 5,
   "metadata": {
    "execution": {
     "iopub.execute_input": "2020-12-09T09:26:17.577774Z",
     "iopub.status.busy": "2020-12-09T09:26:17.577190Z",
     "iopub.status.idle": "2020-12-09T09:26:17.579333Z",
     "shell.execute_reply": "2020-12-09T09:26:17.579747Z"
    },
    "papermill": {
     "duration": 0.025331,
     "end_time": "2020-12-09T09:26:17.579882",
     "exception": false,
     "start_time": "2020-12-09T09:26:17.554551",
     "status": "completed"
    },
    "tags": []
   },
   "outputs": [],
   "source": [
    "#collapse\n",
    "def create_plot(df: pd.DataFrame, \n",
    "                column: Literal['totalTestResultsIncrease', \n",
    "                                'positiveIncrease', \n",
    "                                'death',\n",
    "                                'deathIncrease', \n",
    "                                'positiveRate'],\n",
    "                period: int = 7*8):\n",
    "    df = (\n",
    "     df\n",
    "     .assign(sma7d = lambda d: d[column].rolling(window=7).mean().round(3))\n",
    "     .loc[lambda d: d['date'] >= pd.to_datetime('today') - period * pd.Timedelta('1 days'), :]\n",
    "     .reset_index(drop=True)\n",
    "    )\n",
    "    the_state = df['state'][0]\n",
    "    label = alt.selection_single(\n",
    "        encodings=['x'], on='mouseover', nearest=True, empty='none')\n",
    "    \n",
    "    base = alt.Chart().mark_point(size=75).encode(\n",
    "        x='date:T',\n",
    "        y=f'{column}:Q',\n",
    "        tooltip=['date', f'{column}:Q', 'sma7d:Q']\n",
    "    )\n",
    "\n",
    "    sma = alt.Chart().mark_line(color='purple').encode(\n",
    "        x='date:T',\n",
    "        y='sma7d:Q'\n",
    "    )\n",
    "\n",
    "    layers = alt.layer(\n",
    "        base + sma,\n",
    "\n",
    "        # add a rule mark to serve as a guide line\n",
    "        alt.Chart().mark_rule(color='#aaa').encode(\n",
    "            x='date:T'\n",
    "        ).transform_filter(label),\n",
    "\n",
    "        # add circle marks for selected time points, hide unselected points\n",
    "        base.mark_circle().encode(\n",
    "            opacity=alt.condition(label, alt.value(1), alt.value(0))\n",
    "        ).add_selection(label),\n",
    "\n",
    "        # add white stroked text to provide a legible background for labels\n",
    "        base.mark_text(align='left', dx=5, dy=-5, stroke='white', strokeWidth=2).encode(\n",
    "            text=f'{column}:Q'\n",
    "        ).transform_filter(label),\n",
    "\n",
    "        # add text labels\n",
    "        base.mark_text(align='left', dx=5, dy=-5).encode(\n",
    "            text=f'{column}:Q'\n",
    "        ).transform_filter(label),\n",
    "        \n",
    "        data=df\n",
    "    ).properties(\n",
    "        title=f'{the_state}: {column}',\n",
    "        width=500,\n",
    "        height=400\n",
    "    )\n",
    "    \n",
    "    return layers.interactive()"
   ]
  },
  {
   "cell_type": "markdown",
   "metadata": {
    "papermill": {
     "duration": 0.012154,
     "end_time": "2020-12-09T09:26:17.604071",
     "exception": false,
     "start_time": "2020-12-09T09:26:17.591917",
     "status": "completed"
    },
    "tags": []
   },
   "source": [
    "# Plots"
   ]
  },
  {
   "cell_type": "markdown",
   "metadata": {
    "papermill": {
     "duration": 0.01145,
     "end_time": "2020-12-09T09:26:17.628088",
     "exception": false,
     "start_time": "2020-12-09T09:26:17.616638",
     "status": "completed"
    },
    "tags": []
   },
   "source": [
    "## US"
   ]
  },
  {
   "cell_type": "code",
   "execution_count": 6,
   "metadata": {
    "execution": {
     "iopub.execute_input": "2020-12-09T09:26:17.654584Z",
     "iopub.status.busy": "2020-12-09T09:26:17.654088Z",
     "iopub.status.idle": "2020-12-09T09:26:17.987311Z",
     "shell.execute_reply": "2020-12-09T09:26:17.986424Z"
    },
    "papermill": {
     "duration": 0.347751,
     "end_time": "2020-12-09T09:26:17.987540",
     "exception": false,
     "start_time": "2020-12-09T09:26:17.639789",
     "status": "completed"
    },
    "tags": []
   },
   "outputs": [],
   "source": [
    "us = create_df(df, lambda d: d.index > 0, 'US')"
   ]
  },
  {
   "cell_type": "code",
   "execution_count": 7,
   "metadata": {
    "execution": {
     "iopub.execute_input": "2020-12-09T09:26:18.036238Z",
     "iopub.status.busy": "2020-12-09T09:26:18.020403Z",
     "iopub.status.idle": "2020-12-09T09:26:18.113889Z",
     "shell.execute_reply": "2020-12-09T09:26:18.113468Z"
    },
    "papermill": {
     "duration": 0.113607,
     "end_time": "2020-12-09T09:26:18.114007",
     "exception": false,
     "start_time": "2020-12-09T09:26:18.000400",
     "status": "completed"
    },
    "tags": []
   },
   "outputs": [
    {
     "data": {
      "text/html": [
       "\n",
       "<div id=\"altair-viz-255babe888074ebb9d6c9c2fe793b163\"></div>\n",
       "<script type=\"text/javascript\">\n",
       "  (function(spec, embedOpt){\n",
       "    let outputDiv = document.currentScript.previousElementSibling;\n",
       "    if (outputDiv.id !== \"altair-viz-255babe888074ebb9d6c9c2fe793b163\") {\n",
       "      outputDiv = document.getElementById(\"altair-viz-255babe888074ebb9d6c9c2fe793b163\");\n",
       "    }\n",
       "    const paths = {\n",
       "      \"vega\": \"https://cdn.jsdelivr.net/npm//vega@5?noext\",\n",
       "      \"vega-lib\": \"https://cdn.jsdelivr.net/npm//vega-lib?noext\",\n",
       "      \"vega-lite\": \"https://cdn.jsdelivr.net/npm//vega-lite@4.8.1?noext\",\n",
       "      \"vega-embed\": \"https://cdn.jsdelivr.net/npm//vega-embed@6?noext\",\n",
       "    };\n",
       "\n",
       "    function loadScript(lib) {\n",
       "      return new Promise(function(resolve, reject) {\n",
       "        var s = document.createElement('script');\n",
       "        s.src = paths[lib];\n",
       "        s.async = true;\n",
       "        s.onload = () => resolve(paths[lib]);\n",
       "        s.onerror = () => reject(`Error loading script: ${paths[lib]}`);\n",
       "        document.getElementsByTagName(\"head\")[0].appendChild(s);\n",
       "      });\n",
       "    }\n",
       "\n",
       "    function showError(err) {\n",
       "      outputDiv.innerHTML = `<div class=\"error\" style=\"color:red;\">${err}</div>`;\n",
       "      throw err;\n",
       "    }\n",
       "\n",
       "    function displayChart(vegaEmbed) {\n",
       "      vegaEmbed(outputDiv, spec, embedOpt)\n",
       "        .catch(err => showError(`Javascript Error: ${err.message}<br>This usually means there's a typo in your chart specification. See the javascript console for the full traceback.`));\n",
       "    }\n",
       "\n",
       "    if(typeof define === \"function\" && define.amd) {\n",
       "      requirejs.config({paths});\n",
       "      require([\"vega-embed\"], displayChart, err => showError(`Error loading script: ${err.message}`));\n",
       "    } else if (typeof vegaEmbed === \"function\") {\n",
       "      displayChart(vegaEmbed);\n",
       "    } else {\n",
       "      loadScript(\"vega\")\n",
       "        .then(() => loadScript(\"vega-lite\"))\n",
       "        .then(() => loadScript(\"vega-embed\"))\n",
       "        .catch(showError)\n",
       "        .then(() => displayChart(vegaEmbed));\n",
       "    }\n",
       "  })({\"config\": {\"view\": {\"continuousWidth\": 400, \"continuousHeight\": 300}}, \"layer\": [{\"layer\": [{\"mark\": {\"type\": \"point\", \"size\": 75}, \"encoding\": {\"tooltip\": [{\"type\": \"temporal\", \"field\": \"date\"}, {\"type\": \"quantitative\", \"field\": \"positiveIncrease\"}, {\"type\": \"quantitative\", \"field\": \"sma7d\"}], \"x\": {\"type\": \"temporal\", \"field\": \"date\"}, \"y\": {\"type\": \"quantitative\", \"field\": \"positiveIncrease\"}}, \"selection\": {\"selector002\": {\"type\": \"interval\", \"bind\": \"scales\", \"encodings\": [\"x\", \"y\"]}}}, {\"mark\": {\"type\": \"line\", \"color\": \"purple\"}, \"encoding\": {\"x\": {\"type\": \"temporal\", \"field\": \"date\"}, \"y\": {\"type\": \"quantitative\", \"field\": \"sma7d\"}}}]}, {\"mark\": {\"type\": \"rule\", \"color\": \"#aaa\"}, \"encoding\": {\"x\": {\"type\": \"temporal\", \"field\": \"date\"}}, \"transform\": [{\"filter\": {\"selection\": \"selector001\"}}]}, {\"mark\": \"circle\", \"encoding\": {\"opacity\": {\"condition\": {\"value\": 1, \"selection\": \"selector001\"}, \"value\": 0}, \"tooltip\": [{\"type\": \"temporal\", \"field\": \"date\"}, {\"type\": \"quantitative\", \"field\": \"positiveIncrease\"}, {\"type\": \"quantitative\", \"field\": \"sma7d\"}], \"x\": {\"type\": \"temporal\", \"field\": \"date\"}, \"y\": {\"type\": \"quantitative\", \"field\": \"positiveIncrease\"}}, \"selection\": {\"selector001\": {\"type\": \"single\", \"encodings\": [\"x\"], \"on\": \"mouseover\", \"nearest\": true, \"empty\": \"none\"}}}, {\"mark\": {\"type\": \"text\", \"align\": \"left\", \"dx\": 5, \"dy\": -5, \"stroke\": \"white\", \"strokeWidth\": 2}, \"encoding\": {\"text\": {\"type\": \"quantitative\", \"field\": \"positiveIncrease\"}, \"tooltip\": [{\"type\": \"temporal\", \"field\": \"date\"}, {\"type\": \"quantitative\", \"field\": \"positiveIncrease\"}, {\"type\": \"quantitative\", \"field\": \"sma7d\"}], \"x\": {\"type\": \"temporal\", \"field\": \"date\"}, \"y\": {\"type\": \"quantitative\", \"field\": \"positiveIncrease\"}}, \"transform\": [{\"filter\": {\"selection\": \"selector001\"}}]}, {\"mark\": {\"type\": \"text\", \"align\": \"left\", \"dx\": 5, \"dy\": -5}, \"encoding\": {\"text\": {\"type\": \"quantitative\", \"field\": \"positiveIncrease\"}, \"tooltip\": [{\"type\": \"temporal\", \"field\": \"date\"}, {\"type\": \"quantitative\", \"field\": \"positiveIncrease\"}, {\"type\": \"quantitative\", \"field\": \"sma7d\"}], \"x\": {\"type\": \"temporal\", \"field\": \"date\"}, \"y\": {\"type\": \"quantitative\", \"field\": \"positiveIncrease\"}}, \"transform\": [{\"filter\": {\"selection\": \"selector001\"}}]}], \"data\": {\"name\": \"data-c521dd7aae1db661ce78ebd2d1049daf\"}, \"height\": 400, \"title\": \"US: positiveIncrease\", \"width\": 500, \"$schema\": \"https://vega.github.io/schema/vega-lite/v4.8.1.json\", \"datasets\": {\"data-c521dd7aae1db661ce78ebd2d1049daf\": [{\"date\": \"2020-10-15T00:00:00\", \"totalTestResultsIncrease\": 1109379.0, \"positiveIncrease\": 63394.0, \"death\": 209431.0, \"deathIncrease\": 930.0, \"positiveRate\": 0.057, \"state\": \"US\", \"sma7d\": 53033.286}, {\"date\": \"2020-10-16T00:00:00\", \"totalTestResultsIncrease\": 1230928.0, \"positiveIncrease\": 68249.0, \"death\": 210328.0, \"deathIncrease\": 897.0, \"positiveRate\": 0.055, \"state\": \"US\", \"sma7d\": 54668.571}, {\"date\": \"2020-10-17T00:00:00\", \"totalTestResultsIncrease\": 1298729.0, \"positiveIncrease\": 57328.0, \"death\": 211101.0, \"deathIncrease\": 773.0, \"positiveRate\": 0.044, \"state\": \"US\", \"sma7d\": 54656.286}, {\"date\": \"2020-10-18T00:00:00\", \"totalTestResultsIncrease\": 1051673.0, \"positiveIncrease\": 48284.0, \"death\": 211503.0, \"deathIncrease\": 402.0, \"positiveRate\": 0.046, \"state\": \"US\", \"sma7d\": 54944.286}, {\"date\": \"2020-10-19T00:00:00\", \"totalTestResultsIncrease\": 1134720.0, \"positiveIncrease\": 57109.0, \"death\": 211959.0, \"deathIncrease\": 456.0, \"positiveRate\": 0.05, \"state\": \"US\", \"sma7d\": 57010.714}, {\"date\": \"2020-10-20T00:00:00\", \"totalTestResultsIncrease\": 952747.0, \"positiveIncrease\": 60549.0, \"death\": 212796.0, \"deathIncrease\": 837.0, \"positiveRate\": 0.064, \"state\": \"US\", \"sma7d\": 58718.571}, {\"date\": \"2020-10-21T00:00:00\", \"totalTestResultsIncrease\": 941787.0, \"positiveIncrease\": 60958.0, \"death\": 213815.0, \"deathIncrease\": 1019.0, \"positiveRate\": 0.065, \"state\": \"US\", \"sma7d\": 59410.143}, {\"date\": \"2020-10-22T00:00:00\", \"totalTestResultsIncrease\": 1229733.0, \"positiveIncrease\": 72842.0, \"death\": 214941.0, \"deathIncrease\": 1126.0, \"positiveRate\": 0.059, \"state\": \"US\", \"sma7d\": 60759.857}, {\"date\": \"2020-10-23T00:00:00\", \"totalTestResultsIncrease\": 1383173.0, \"positiveIncrease\": 82333.0, \"death\": 215875.0, \"deathIncrease\": 934.0, \"positiveRate\": 0.06, \"state\": \"US\", \"sma7d\": 62771.857}, {\"date\": \"2020-10-24T00:00:00\", \"totalTestResultsIncrease\": 1323376.0, \"positiveIncrease\": 83287.0, \"death\": 216765.0, \"deathIncrease\": 890.0, \"positiveRate\": 0.063, \"state\": \"US\", \"sma7d\": 66480.286}, {\"date\": \"2020-10-25T00:00:00\", \"totalTestResultsIncrease\": 1188211.0, \"positiveIncrease\": 64893.0, \"death\": 217147.0, \"deathIncrease\": 382.0, \"positiveRate\": 0.055, \"state\": \"US\", \"sma7d\": 68853.0}, {\"date\": \"2020-10-26T00:00:00\", \"totalTestResultsIncrease\": 1211065.0, \"positiveIncrease\": 62525.0, \"death\": 217549.0, \"deathIncrease\": 402.0, \"positiveRate\": 0.052, \"state\": \"US\", \"sma7d\": 69626.714}, {\"date\": \"2020-10-27T00:00:00\", \"totalTestResultsIncrease\": 1071163.0, \"positiveIncrease\": 72083.0, \"death\": 218468.0, \"deathIncrease\": 919.0, \"positiveRate\": 0.067, \"state\": \"US\", \"sma7d\": 71274.429}, {\"date\": \"2020-10-28T00:00:00\", \"totalTestResultsIncrease\": 1096151.0, \"positiveIncrease\": 78752.0, \"death\": 219512.0, \"deathIncrease\": 1044.0, \"positiveRate\": 0.072, \"state\": \"US\", \"sma7d\": 73816.429}, {\"date\": \"2020-10-29T00:00:00\", \"totalTestResultsIncrease\": 1332791.0, \"positiveIncrease\": 88723.0, \"death\": 220549.0, \"deathIncrease\": 1037.0, \"positiveRate\": 0.067, \"state\": \"US\", \"sma7d\": 76085.143}, {\"date\": \"2020-10-30T00:00:00\", \"totalTestResultsIncrease\": 1363624.0, \"positiveIncrease\": 97238.0, \"death\": 221496.0, \"deathIncrease\": 947.0, \"positiveRate\": 0.071, \"state\": \"US\", \"sma7d\": 78214.429}, {\"date\": \"2020-10-31T00:00:00\", \"totalTestResultsIncrease\": 1390130.0, \"positiveIncrease\": 90585.0, \"death\": 222459.0, \"deathIncrease\": 963.0, \"positiveRate\": 0.065, \"state\": \"US\", \"sma7d\": 79257.0}, {\"date\": \"2020-11-01T00:00:00\", \"totalTestResultsIncrease\": 1127867.0, \"positiveIncrease\": 73849.0, \"death\": 222854.0, \"deathIncrease\": 395.0, \"positiveRate\": 0.065, \"state\": \"US\", \"sma7d\": 80536.429}, {\"date\": \"2020-11-02T00:00:00\", \"totalTestResultsIncrease\": 1326677.0, \"positiveIncrease\": 82047.0, \"death\": 223345.0, \"deathIncrease\": 491.0, \"positiveRate\": 0.062, \"state\": \"US\", \"sma7d\": 83325.286}, {\"date\": \"2020-11-03T00:00:00\", \"totalTestResultsIncrease\": 1128739.0, \"positiveIncrease\": 86666.0, \"death\": 224859.0, \"deathIncrease\": 1514.0, \"positiveRate\": 0.077, \"state\": \"US\", \"sma7d\": 85408.571}, {\"date\": \"2020-11-04T00:00:00\", \"totalTestResultsIncrease\": 1222728.0, \"positiveIncrease\": 103305.0, \"death\": 225976.0, \"deathIncrease\": 1117.0, \"positiveRate\": 0.084, \"state\": \"US\", \"sma7d\": 88916.143}, {\"date\": \"2020-11-05T00:00:00\", \"totalTestResultsIncrease\": 1567027.0, \"positiveIncrease\": 116443.0, \"death\": 227122.0, \"deathIncrease\": 1146.0, \"positiveRate\": 0.074, \"state\": \"US\", \"sma7d\": 92876.143}, {\"date\": \"2020-11-06T00:00:00\", \"totalTestResultsIncrease\": 1563936.0, \"positiveIncrease\": 125758.0, \"death\": 228295.0, \"deathIncrease\": 1173.0, \"positiveRate\": 0.08, \"state\": \"US\", \"sma7d\": 96950.429}, {\"date\": \"2020-11-07T00:00:00\", \"totalTestResultsIncrease\": 1413065.0, \"positiveIncrease\": 129222.0, \"death\": 229414.0, \"deathIncrease\": 1119.0, \"positiveRate\": 0.091, \"state\": \"US\", \"sma7d\": 102470.0}, {\"date\": \"2020-11-08T00:00:00\", \"totalTestResultsIncrease\": 1252250.0, \"positiveIncrease\": 110290.0, \"death\": 229910.0, \"deathIncrease\": 496.0, \"positiveRate\": 0.088, \"state\": \"US\", \"sma7d\": 107675.857}, {\"date\": \"2020-11-09T00:00:00\", \"totalTestResultsIncrease\": 1516486.0, \"positiveIncrease\": 119434.0, \"death\": 230487.0, \"deathIncrease\": 577.0, \"positiveRate\": 0.079, \"state\": \"US\", \"sma7d\": 113016.857}, {\"date\": \"2020-11-10T00:00:00\", \"totalTestResultsIncrease\": 1251917.0, \"positiveIncrease\": 131187.0, \"death\": 231847.0, \"deathIncrease\": 1360.0, \"positiveRate\": 0.105, \"state\": \"US\", \"sma7d\": 119377.0}, {\"date\": \"2020-11-11T00:00:00\", \"totalTestResultsIncrease\": 1417539.0, \"positiveIncrease\": 144817.0, \"death\": 233410.0, \"deathIncrease\": 1563.0, \"positiveRate\": 0.102, \"state\": \"US\", \"sma7d\": 125307.286}, {\"date\": \"2020-11-12T00:00:00\", \"totalTestResultsIncrease\": 1475910.0, \"positiveIncrease\": 152012.0, \"death\": 234529.0, \"deathIncrease\": 1119.0, \"positiveRate\": 0.103, \"state\": \"US\", \"sma7d\": 130388.571}, {\"date\": \"2020-11-13T00:00:00\", \"totalTestResultsIncrease\": 1697946.0, \"positiveIncrease\": 172116.0, \"death\": 235797.0, \"deathIncrease\": 1268.0, \"positiveRate\": 0.101, \"state\": \"US\", \"sma7d\": 137011.143}, {\"date\": \"2020-11-14T00:00:00\", \"totalTestResultsIncrease\": 1661870.0, \"positiveIncrease\": 163538.0, \"death\": 237128.0, \"deathIncrease\": 1331.0, \"positiveRate\": 0.098, \"state\": \"US\", \"sma7d\": 141913.429}, {\"date\": \"2020-11-15T00:00:00\", \"totalTestResultsIncrease\": 1615398.0, \"positiveIncrease\": 144432.0, \"death\": 237815.0, \"deathIncrease\": 687.0, \"positiveRate\": 0.089, \"state\": \"US\", \"sma7d\": 146790.857}, {\"date\": \"2020-11-16T00:00:00\", \"totalTestResultsIncrease\": 1486671.0, \"positiveIncrease\": 148873.0, \"death\": 238434.0, \"deathIncrease\": 619.0, \"positiveRate\": 0.1, \"state\": \"US\", \"sma7d\": 150996.429}, {\"date\": \"2020-11-17T00:00:00\", \"totalTestResultsIncrease\": 1511767.0, \"positiveIncrease\": 156732.0, \"death\": 239989.0, \"deathIncrease\": 1555.0, \"positiveRate\": 0.104, \"state\": \"US\", \"sma7d\": 154645.714}, {\"date\": \"2020-11-18T00:00:00\", \"totalTestResultsIncrease\": 1539051.0, \"positiveIncrease\": 163972.0, \"death\": 241853.0, \"deathIncrease\": 1864.0, \"positiveRate\": 0.107, \"state\": \"US\", \"sma7d\": 157382.143}, {\"date\": \"2020-11-19T00:00:00\", \"totalTestResultsIncrease\": 1821019.0, \"positiveIncrease\": 182835.0, \"death\": 243820.0, \"deathIncrease\": 1967.0, \"positiveRate\": 0.1, \"state\": \"US\", \"sma7d\": 161785.429}, {\"date\": \"2020-11-20T00:00:00\", \"totalTestResultsIncrease\": 1919404.0, \"positiveIncrease\": 192800.0, \"death\": 245704.0, \"deathIncrease\": 1884.0, \"positiveRate\": 0.1, \"state\": \"US\", \"sma7d\": 164740.286}, {\"date\": \"2020-11-21T00:00:00\", \"totalTestResultsIncrease\": 2004237.0, \"positiveIncrease\": 179715.0, \"death\": 247216.0, \"deathIncrease\": 1512.0, \"positiveRate\": 0.09, \"state\": \"US\", \"sma7d\": 167051.286}, {\"date\": \"2020-11-22T00:00:00\", \"totalTestResultsIncrease\": 1744488.0, \"positiveIncrease\": 150841.0, \"death\": 248114.0, \"deathIncrease\": 898.0, \"positiveRate\": 0.086, \"state\": \"US\", \"sma7d\": 167966.857}, {\"date\": \"2020-11-23T00:00:00\", \"totalTestResultsIncrease\": 1758560.0, \"positiveIncrease\": 150958.0, \"death\": 249069.0, \"deathIncrease\": 955.0, \"positiveRate\": 0.086, \"state\": \"US\", \"sma7d\": 168264.714}, {\"date\": \"2020-11-24T00:00:00\", \"totalTestResultsIncrease\": 1790272.0, \"positiveIncrease\": 167014.0, \"death\": 251135.0, \"deathIncrease\": 2066.0, \"positiveRate\": 0.093, \"state\": \"US\", \"sma7d\": 169733.571}, {\"date\": \"2020-11-25T00:00:00\", \"totalTestResultsIncrease\": 1720705.0, \"positiveIncrease\": 183629.0, \"death\": 253424.0, \"deathIncrease\": 2289.0, \"positiveRate\": 0.107, \"state\": \"US\", \"sma7d\": 172541.714}, {\"date\": \"2020-11-26T00:00:00\", \"totalTestResultsIncrease\": 1170195.0, \"positiveIncrease\": 126335.0, \"death\": 254760.0, \"deathIncrease\": 1336.0, \"positiveRate\": 0.108, \"state\": \"US\", \"sma7d\": 164470.286}, {\"date\": \"2020-11-27T00:00:00\", \"totalTestResultsIncrease\": 2126288.0, \"positiveIncrease\": 193725.0, \"death\": 256132.0, \"deathIncrease\": 1372.0, \"positiveRate\": 0.091, \"state\": \"US\", \"sma7d\": 164602.429}, {\"date\": \"2020-11-28T00:00:00\", \"totalTestResultsIncrease\": 1709566.0, \"positiveIncrease\": 154522.0, \"death\": 257377.0, \"deathIncrease\": 1245.0, \"positiveRate\": 0.09, \"state\": \"US\", \"sma7d\": 161003.429}, {\"date\": \"2020-11-29T00:00:00\", \"totalTestResultsIncrease\": 1289970.0, \"positiveIncrease\": 135242.0, \"death\": 258180.0, \"deathIncrease\": 803.0, \"positiveRate\": 0.105, \"state\": \"US\", \"sma7d\": 158775.0}, {\"date\": \"2020-11-30T00:00:00\", \"totalTestResultsIncrease\": 1603253.0, \"positiveIncrease\": 147587.0, \"death\": 259316.0, \"deathIncrease\": 1136.0, \"positiveRate\": 0.092, \"state\": \"US\", \"sma7d\": 158293.429}, {\"date\": \"2020-12-01T00:00:00\", \"totalTestResultsIncrease\": 2340996.0, \"positiveIncrease\": 176753.0, \"death\": 261789.0, \"deathIncrease\": 2473.0, \"positiveRate\": 0.076, \"state\": \"US\", \"sma7d\": 159684.714}, {\"date\": \"2020-12-02T00:00:00\", \"totalTestResultsIncrease\": 1459202.0, \"positiveIncrease\": 195796.0, \"death\": 264522.0, \"deathIncrease\": 2733.0, \"positiveRate\": 0.134, \"state\": \"US\", \"sma7d\": 161422.857}, {\"date\": \"2020-12-03T00:00:00\", \"totalTestResultsIncrease\": 1828230.0, \"positiveIncrease\": 210204.0, \"death\": 267228.0, \"deathIncrease\": 2706.0, \"positiveRate\": 0.115, \"state\": \"US\", \"sma7d\": 173404.143}, {\"date\": \"2020-12-04T00:00:00\", \"totalTestResultsIncrease\": 1854869.0, \"positiveIncrease\": 224831.0, \"death\": 269791.0, \"deathIncrease\": 2563.0, \"positiveRate\": 0.121, \"state\": \"US\", \"sma7d\": 177847.857}, {\"date\": \"2020-12-05T00:00:00\", \"totalTestResultsIncrease\": 2190899.0, \"positiveIncrease\": 212880.0, \"death\": 272252.0, \"deathIncrease\": 2461.0, \"positiveRate\": 0.097, \"state\": \"US\", \"sma7d\": 186184.714}, {\"date\": \"2020-12-06T00:00:00\", \"totalTestResultsIncrease\": 1648306.0, \"positiveIncrease\": 177801.0, \"death\": 273398.0, \"deathIncrease\": 1146.0, \"positiveRate\": 0.108, \"state\": \"US\", \"sma7d\": 192264.571}, {\"date\": \"2020-12-07T00:00:00\", \"totalTestResultsIncrease\": 1835388.0, \"positiveIncrease\": 180193.0, \"death\": 274745.0, \"deathIncrease\": 1347.0, \"positiveRate\": 0.098, \"state\": \"US\", \"sma7d\": 196922.571}, {\"date\": \"2020-12-08T00:00:00\", \"totalTestResultsIncrease\": 1631516.0, \"positiveIncrease\": 212936.0, \"death\": 277221.0, \"deathIncrease\": 2622.0, \"positiveRate\": 0.131, \"state\": \"US\", \"sma7d\": 202091.571}]}}, {\"mode\": \"vega-lite\"});\n",
       "</script>"
      ],
      "text/plain": [
       "alt.LayerChart(...)"
      ]
     },
     "execution_count": 7,
     "metadata": {},
     "output_type": "execute_result"
    }
   ],
   "source": [
    "create_plot(us, 'positiveIncrease')"
   ]
  },
  {
   "cell_type": "code",
   "execution_count": 8,
   "metadata": {
    "execution": {
     "iopub.execute_input": "2020-12-09T09:26:18.158674Z",
     "iopub.status.busy": "2020-12-09T09:26:18.143665Z",
     "iopub.status.idle": "2020-12-09T09:26:18.226516Z",
     "shell.execute_reply": "2020-12-09T09:26:18.226031Z"
    },
    "papermill": {
     "duration": 0.099685,
     "end_time": "2020-12-09T09:26:18.226640",
     "exception": false,
     "start_time": "2020-12-09T09:26:18.126955",
     "status": "completed"
    },
    "tags": []
   },
   "outputs": [
    {
     "data": {
      "text/html": [
       "\n",
       "<div id=\"altair-viz-a180b43935ff4b8981a5430cd879d4a3\"></div>\n",
       "<script type=\"text/javascript\">\n",
       "  (function(spec, embedOpt){\n",
       "    let outputDiv = document.currentScript.previousElementSibling;\n",
       "    if (outputDiv.id !== \"altair-viz-a180b43935ff4b8981a5430cd879d4a3\") {\n",
       "      outputDiv = document.getElementById(\"altair-viz-a180b43935ff4b8981a5430cd879d4a3\");\n",
       "    }\n",
       "    const paths = {\n",
       "      \"vega\": \"https://cdn.jsdelivr.net/npm//vega@5?noext\",\n",
       "      \"vega-lib\": \"https://cdn.jsdelivr.net/npm//vega-lib?noext\",\n",
       "      \"vega-lite\": \"https://cdn.jsdelivr.net/npm//vega-lite@4.8.1?noext\",\n",
       "      \"vega-embed\": \"https://cdn.jsdelivr.net/npm//vega-embed@6?noext\",\n",
       "    };\n",
       "\n",
       "    function loadScript(lib) {\n",
       "      return new Promise(function(resolve, reject) {\n",
       "        var s = document.createElement('script');\n",
       "        s.src = paths[lib];\n",
       "        s.async = true;\n",
       "        s.onload = () => resolve(paths[lib]);\n",
       "        s.onerror = () => reject(`Error loading script: ${paths[lib]}`);\n",
       "        document.getElementsByTagName(\"head\")[0].appendChild(s);\n",
       "      });\n",
       "    }\n",
       "\n",
       "    function showError(err) {\n",
       "      outputDiv.innerHTML = `<div class=\"error\" style=\"color:red;\">${err}</div>`;\n",
       "      throw err;\n",
       "    }\n",
       "\n",
       "    function displayChart(vegaEmbed) {\n",
       "      vegaEmbed(outputDiv, spec, embedOpt)\n",
       "        .catch(err => showError(`Javascript Error: ${err.message}<br>This usually means there's a typo in your chart specification. See the javascript console for the full traceback.`));\n",
       "    }\n",
       "\n",
       "    if(typeof define === \"function\" && define.amd) {\n",
       "      requirejs.config({paths});\n",
       "      require([\"vega-embed\"], displayChart, err => showError(`Error loading script: ${err.message}`));\n",
       "    } else if (typeof vegaEmbed === \"function\") {\n",
       "      displayChart(vegaEmbed);\n",
       "    } else {\n",
       "      loadScript(\"vega\")\n",
       "        .then(() => loadScript(\"vega-lite\"))\n",
       "        .then(() => loadScript(\"vega-embed\"))\n",
       "        .catch(showError)\n",
       "        .then(() => displayChart(vegaEmbed));\n",
       "    }\n",
       "  })({\"config\": {\"view\": {\"continuousWidth\": 400, \"continuousHeight\": 300}}, \"layer\": [{\"layer\": [{\"mark\": {\"type\": \"point\", \"size\": 75}, \"encoding\": {\"tooltip\": [{\"type\": \"temporal\", \"field\": \"date\"}, {\"type\": \"quantitative\", \"field\": \"positiveRate\"}, {\"type\": \"quantitative\", \"field\": \"sma7d\"}], \"x\": {\"type\": \"temporal\", \"field\": \"date\"}, \"y\": {\"type\": \"quantitative\", \"field\": \"positiveRate\"}}, \"selection\": {\"selector004\": {\"type\": \"interval\", \"bind\": \"scales\", \"encodings\": [\"x\", \"y\"]}}}, {\"mark\": {\"type\": \"line\", \"color\": \"purple\"}, \"encoding\": {\"x\": {\"type\": \"temporal\", \"field\": \"date\"}, \"y\": {\"type\": \"quantitative\", \"field\": \"sma7d\"}}}]}, {\"mark\": {\"type\": \"rule\", \"color\": \"#aaa\"}, \"encoding\": {\"x\": {\"type\": \"temporal\", \"field\": \"date\"}}, \"transform\": [{\"filter\": {\"selection\": \"selector003\"}}]}, {\"mark\": \"circle\", \"encoding\": {\"opacity\": {\"condition\": {\"value\": 1, \"selection\": \"selector003\"}, \"value\": 0}, \"tooltip\": [{\"type\": \"temporal\", \"field\": \"date\"}, {\"type\": \"quantitative\", \"field\": \"positiveRate\"}, {\"type\": \"quantitative\", \"field\": \"sma7d\"}], \"x\": {\"type\": \"temporal\", \"field\": \"date\"}, \"y\": {\"type\": \"quantitative\", \"field\": \"positiveRate\"}}, \"selection\": {\"selector003\": {\"type\": \"single\", \"encodings\": [\"x\"], \"on\": \"mouseover\", \"nearest\": true, \"empty\": \"none\"}}}, {\"mark\": {\"type\": \"text\", \"align\": \"left\", \"dx\": 5, \"dy\": -5, \"stroke\": \"white\", \"strokeWidth\": 2}, \"encoding\": {\"text\": {\"type\": \"quantitative\", \"field\": \"positiveRate\"}, \"tooltip\": [{\"type\": \"temporal\", \"field\": \"date\"}, {\"type\": \"quantitative\", \"field\": \"positiveRate\"}, {\"type\": \"quantitative\", \"field\": \"sma7d\"}], \"x\": {\"type\": \"temporal\", \"field\": \"date\"}, \"y\": {\"type\": \"quantitative\", \"field\": \"positiveRate\"}}, \"transform\": [{\"filter\": {\"selection\": \"selector003\"}}]}, {\"mark\": {\"type\": \"text\", \"align\": \"left\", \"dx\": 5, \"dy\": -5}, \"encoding\": {\"text\": {\"type\": \"quantitative\", \"field\": \"positiveRate\"}, \"tooltip\": [{\"type\": \"temporal\", \"field\": \"date\"}, {\"type\": \"quantitative\", \"field\": \"positiveRate\"}, {\"type\": \"quantitative\", \"field\": \"sma7d\"}], \"x\": {\"type\": \"temporal\", \"field\": \"date\"}, \"y\": {\"type\": \"quantitative\", \"field\": \"positiveRate\"}}, \"transform\": [{\"filter\": {\"selection\": \"selector003\"}}]}], \"data\": {\"name\": \"data-df58ec4c2ef075270545af5c7b05c6c2\"}, \"height\": 400, \"title\": \"US: positiveRate\", \"width\": 500, \"$schema\": \"https://vega.github.io/schema/vega-lite/v4.8.1.json\", \"datasets\": {\"data-df58ec4c2ef075270545af5c7b05c6c2\": [{\"date\": \"2020-10-15T00:00:00\", \"totalTestResultsIncrease\": 1109379.0, \"positiveIncrease\": 63394.0, \"death\": 209431.0, \"deathIncrease\": 930.0, \"positiveRate\": 0.057, \"state\": \"US\", \"sma7d\": 0.048}, {\"date\": \"2020-10-16T00:00:00\", \"totalTestResultsIncrease\": 1230928.0, \"positiveIncrease\": 68249.0, \"death\": 210328.0, \"deathIncrease\": 897.0, \"positiveRate\": 0.055, \"state\": \"US\", \"sma7d\": 0.049}, {\"date\": \"2020-10-17T00:00:00\", \"totalTestResultsIncrease\": 1298729.0, \"positiveIncrease\": 57328.0, \"death\": 211101.0, \"deathIncrease\": 773.0, \"positiveRate\": 0.044, \"state\": \"US\", \"sma7d\": 0.048}, {\"date\": \"2020-10-18T00:00:00\", \"totalTestResultsIncrease\": 1051673.0, \"positiveIncrease\": 48284.0, \"death\": 211503.0, \"deathIncrease\": 402.0, \"positiveRate\": 0.046, \"state\": \"US\", \"sma7d\": 0.049}, {\"date\": \"2020-10-19T00:00:00\", \"totalTestResultsIncrease\": 1134720.0, \"positiveIncrease\": 57109.0, \"death\": 211959.0, \"deathIncrease\": 456.0, \"positiveRate\": 0.05, \"state\": \"US\", \"sma7d\": 0.05}, {\"date\": \"2020-10-20T00:00:00\", \"totalTestResultsIncrease\": 952747.0, \"positiveIncrease\": 60549.0, \"death\": 212796.0, \"deathIncrease\": 837.0, \"positiveRate\": 0.064, \"state\": \"US\", \"sma7d\": 0.053}, {\"date\": \"2020-10-21T00:00:00\", \"totalTestResultsIncrease\": 941787.0, \"positiveIncrease\": 60958.0, \"death\": 213815.0, \"deathIncrease\": 1019.0, \"positiveRate\": 0.065, \"state\": \"US\", \"sma7d\": 0.054}, {\"date\": \"2020-10-22T00:00:00\", \"totalTestResultsIncrease\": 1229733.0, \"positiveIncrease\": 72842.0, \"death\": 214941.0, \"deathIncrease\": 1126.0, \"positiveRate\": 0.059, \"state\": \"US\", \"sma7d\": 0.055}, {\"date\": \"2020-10-23T00:00:00\", \"totalTestResultsIncrease\": 1383173.0, \"positiveIncrease\": 82333.0, \"death\": 215875.0, \"deathIncrease\": 934.0, \"positiveRate\": 0.06, \"state\": \"US\", \"sma7d\": 0.055}, {\"date\": \"2020-10-24T00:00:00\", \"totalTestResultsIncrease\": 1323376.0, \"positiveIncrease\": 83287.0, \"death\": 216765.0, \"deathIncrease\": 890.0, \"positiveRate\": 0.063, \"state\": \"US\", \"sma7d\": 0.058}, {\"date\": \"2020-10-25T00:00:00\", \"totalTestResultsIncrease\": 1188211.0, \"positiveIncrease\": 64893.0, \"death\": 217147.0, \"deathIncrease\": 382.0, \"positiveRate\": 0.055, \"state\": \"US\", \"sma7d\": 0.059}, {\"date\": \"2020-10-26T00:00:00\", \"totalTestResultsIncrease\": 1211065.0, \"positiveIncrease\": 62525.0, \"death\": 217549.0, \"deathIncrease\": 402.0, \"positiveRate\": 0.052, \"state\": \"US\", \"sma7d\": 0.06}, {\"date\": \"2020-10-27T00:00:00\", \"totalTestResultsIncrease\": 1071163.0, \"positiveIncrease\": 72083.0, \"death\": 218468.0, \"deathIncrease\": 919.0, \"positiveRate\": 0.067, \"state\": \"US\", \"sma7d\": 0.06}, {\"date\": \"2020-10-28T00:00:00\", \"totalTestResultsIncrease\": 1096151.0, \"positiveIncrease\": 78752.0, \"death\": 219512.0, \"deathIncrease\": 1044.0, \"positiveRate\": 0.072, \"state\": \"US\", \"sma7d\": 0.061}, {\"date\": \"2020-10-29T00:00:00\", \"totalTestResultsIncrease\": 1332791.0, \"positiveIncrease\": 88723.0, \"death\": 220549.0, \"deathIncrease\": 1037.0, \"positiveRate\": 0.067, \"state\": \"US\", \"sma7d\": 0.062}, {\"date\": \"2020-10-30T00:00:00\", \"totalTestResultsIncrease\": 1363624.0, \"positiveIncrease\": 97238.0, \"death\": 221496.0, \"deathIncrease\": 947.0, \"positiveRate\": 0.071, \"state\": \"US\", \"sma7d\": 0.064}, {\"date\": \"2020-10-31T00:00:00\", \"totalTestResultsIncrease\": 1390130.0, \"positiveIncrease\": 90585.0, \"death\": 222459.0, \"deathIncrease\": 963.0, \"positiveRate\": 0.065, \"state\": \"US\", \"sma7d\": 0.064}, {\"date\": \"2020-11-01T00:00:00\", \"totalTestResultsIncrease\": 1127867.0, \"positiveIncrease\": 73849.0, \"death\": 222854.0, \"deathIncrease\": 395.0, \"positiveRate\": 0.065, \"state\": \"US\", \"sma7d\": 0.066}, {\"date\": \"2020-11-02T00:00:00\", \"totalTestResultsIncrease\": 1326677.0, \"positiveIncrease\": 82047.0, \"death\": 223345.0, \"deathIncrease\": 491.0, \"positiveRate\": 0.062, \"state\": \"US\", \"sma7d\": 0.067}, {\"date\": \"2020-11-03T00:00:00\", \"totalTestResultsIncrease\": 1128739.0, \"positiveIncrease\": 86666.0, \"death\": 224859.0, \"deathIncrease\": 1514.0, \"positiveRate\": 0.077, \"state\": \"US\", \"sma7d\": 0.068}, {\"date\": \"2020-11-04T00:00:00\", \"totalTestResultsIncrease\": 1222728.0, \"positiveIncrease\": 103305.0, \"death\": 225976.0, \"deathIncrease\": 1117.0, \"positiveRate\": 0.084, \"state\": \"US\", \"sma7d\": 0.07}, {\"date\": \"2020-11-05T00:00:00\", \"totalTestResultsIncrease\": 1567027.0, \"positiveIncrease\": 116443.0, \"death\": 227122.0, \"deathIncrease\": 1146.0, \"positiveRate\": 0.074, \"state\": \"US\", \"sma7d\": 0.071}, {\"date\": \"2020-11-06T00:00:00\", \"totalTestResultsIncrease\": 1563936.0, \"positiveIncrease\": 125758.0, \"death\": 228295.0, \"deathIncrease\": 1173.0, \"positiveRate\": 0.08, \"state\": \"US\", \"sma7d\": 0.072}, {\"date\": \"2020-11-07T00:00:00\", \"totalTestResultsIncrease\": 1413065.0, \"positiveIncrease\": 129222.0, \"death\": 229414.0, \"deathIncrease\": 1119.0, \"positiveRate\": 0.091, \"state\": \"US\", \"sma7d\": 0.076}, {\"date\": \"2020-11-08T00:00:00\", \"totalTestResultsIncrease\": 1252250.0, \"positiveIncrease\": 110290.0, \"death\": 229910.0, \"deathIncrease\": 496.0, \"positiveRate\": 0.088, \"state\": \"US\", \"sma7d\": 0.079}, {\"date\": \"2020-11-09T00:00:00\", \"totalTestResultsIncrease\": 1516486.0, \"positiveIncrease\": 119434.0, \"death\": 230487.0, \"deathIncrease\": 577.0, \"positiveRate\": 0.079, \"state\": \"US\", \"sma7d\": 0.082}, {\"date\": \"2020-11-10T00:00:00\", \"totalTestResultsIncrease\": 1251917.0, \"positiveIncrease\": 131187.0, \"death\": 231847.0, \"deathIncrease\": 1360.0, \"positiveRate\": 0.105, \"state\": \"US\", \"sma7d\": 0.086}, {\"date\": \"2020-11-11T00:00:00\", \"totalTestResultsIncrease\": 1417539.0, \"positiveIncrease\": 144817.0, \"death\": 233410.0, \"deathIncrease\": 1563.0, \"positiveRate\": 0.102, \"state\": \"US\", \"sma7d\": 0.088}, {\"date\": \"2020-11-12T00:00:00\", \"totalTestResultsIncrease\": 1475910.0, \"positiveIncrease\": 152012.0, \"death\": 234529.0, \"deathIncrease\": 1119.0, \"positiveRate\": 0.103, \"state\": \"US\", \"sma7d\": 0.093}, {\"date\": \"2020-11-13T00:00:00\", \"totalTestResultsIncrease\": 1697946.0, \"positiveIncrease\": 172116.0, \"death\": 235797.0, \"deathIncrease\": 1268.0, \"positiveRate\": 0.101, \"state\": \"US\", \"sma7d\": 0.096}, {\"date\": \"2020-11-14T00:00:00\", \"totalTestResultsIncrease\": 1661870.0, \"positiveIncrease\": 163538.0, \"death\": 237128.0, \"deathIncrease\": 1331.0, \"positiveRate\": 0.098, \"state\": \"US\", \"sma7d\": 0.097}, {\"date\": \"2020-11-15T00:00:00\", \"totalTestResultsIncrease\": 1615398.0, \"positiveIncrease\": 144432.0, \"death\": 237815.0, \"deathIncrease\": 687.0, \"positiveRate\": 0.089, \"state\": \"US\", \"sma7d\": 0.097}, {\"date\": \"2020-11-16T00:00:00\", \"totalTestResultsIncrease\": 1486671.0, \"positiveIncrease\": 148873.0, \"death\": 238434.0, \"deathIncrease\": 619.0, \"positiveRate\": 0.1, \"state\": \"US\", \"sma7d\": 0.1}, {\"date\": \"2020-11-17T00:00:00\", \"totalTestResultsIncrease\": 1511767.0, \"positiveIncrease\": 156732.0, \"death\": 239989.0, \"deathIncrease\": 1555.0, \"positiveRate\": 0.104, \"state\": \"US\", \"sma7d\": 0.1}, {\"date\": \"2020-11-18T00:00:00\", \"totalTestResultsIncrease\": 1539051.0, \"positiveIncrease\": 163972.0, \"death\": 241853.0, \"deathIncrease\": 1864.0, \"positiveRate\": 0.107, \"state\": \"US\", \"sma7d\": 0.1}, {\"date\": \"2020-11-19T00:00:00\", \"totalTestResultsIncrease\": 1821019.0, \"positiveIncrease\": 182835.0, \"death\": 243820.0, \"deathIncrease\": 1967.0, \"positiveRate\": 0.1, \"state\": \"US\", \"sma7d\": 0.1}, {\"date\": \"2020-11-20T00:00:00\", \"totalTestResultsIncrease\": 1919404.0, \"positiveIncrease\": 192800.0, \"death\": 245704.0, \"deathIncrease\": 1884.0, \"positiveRate\": 0.1, \"state\": \"US\", \"sma7d\": 0.1}, {\"date\": \"2020-11-21T00:00:00\", \"totalTestResultsIncrease\": 2004237.0, \"positiveIncrease\": 179715.0, \"death\": 247216.0, \"deathIncrease\": 1512.0, \"positiveRate\": 0.09, \"state\": \"US\", \"sma7d\": 0.099}, {\"date\": \"2020-11-22T00:00:00\", \"totalTestResultsIncrease\": 1744488.0, \"positiveIncrease\": 150841.0, \"death\": 248114.0, \"deathIncrease\": 898.0, \"positiveRate\": 0.086, \"state\": \"US\", \"sma7d\": 0.098}, {\"date\": \"2020-11-23T00:00:00\", \"totalTestResultsIncrease\": 1758560.0, \"positiveIncrease\": 150958.0, \"death\": 249069.0, \"deathIncrease\": 955.0, \"positiveRate\": 0.086, \"state\": \"US\", \"sma7d\": 0.096}, {\"date\": \"2020-11-24T00:00:00\", \"totalTestResultsIncrease\": 1790272.0, \"positiveIncrease\": 167014.0, \"death\": 251135.0, \"deathIncrease\": 2066.0, \"positiveRate\": 0.093, \"state\": \"US\", \"sma7d\": 0.095}, {\"date\": \"2020-11-25T00:00:00\", \"totalTestResultsIncrease\": 1720705.0, \"positiveIncrease\": 183629.0, \"death\": 253424.0, \"deathIncrease\": 2289.0, \"positiveRate\": 0.107, \"state\": \"US\", \"sma7d\": 0.095}, {\"date\": \"2020-11-26T00:00:00\", \"totalTestResultsIncrease\": 1170195.0, \"positiveIncrease\": 126335.0, \"death\": 254760.0, \"deathIncrease\": 1336.0, \"positiveRate\": 0.108, \"state\": \"US\", \"sma7d\": 0.096}, {\"date\": \"2020-11-27T00:00:00\", \"totalTestResultsIncrease\": 2126288.0, \"positiveIncrease\": 193725.0, \"death\": 256132.0, \"deathIncrease\": 1372.0, \"positiveRate\": 0.091, \"state\": \"US\", \"sma7d\": 0.094}, {\"date\": \"2020-11-28T00:00:00\", \"totalTestResultsIncrease\": 1709566.0, \"positiveIncrease\": 154522.0, \"death\": 257377.0, \"deathIncrease\": 1245.0, \"positiveRate\": 0.09, \"state\": \"US\", \"sma7d\": 0.094}, {\"date\": \"2020-11-29T00:00:00\", \"totalTestResultsIncrease\": 1289970.0, \"positiveIncrease\": 135242.0, \"death\": 258180.0, \"deathIncrease\": 803.0, \"positiveRate\": 0.105, \"state\": \"US\", \"sma7d\": 0.097}, {\"date\": \"2020-11-30T00:00:00\", \"totalTestResultsIncrease\": 1603253.0, \"positiveIncrease\": 147587.0, \"death\": 259316.0, \"deathIncrease\": 1136.0, \"positiveRate\": 0.092, \"state\": \"US\", \"sma7d\": 0.098}, {\"date\": \"2020-12-01T00:00:00\", \"totalTestResultsIncrease\": 2340996.0, \"positiveIncrease\": 176753.0, \"death\": 261789.0, \"deathIncrease\": 2473.0, \"positiveRate\": 0.076, \"state\": \"US\", \"sma7d\": 0.096}, {\"date\": \"2020-12-02T00:00:00\", \"totalTestResultsIncrease\": 1459202.0, \"positiveIncrease\": 195796.0, \"death\": 264522.0, \"deathIncrease\": 2733.0, \"positiveRate\": 0.134, \"state\": \"US\", \"sma7d\": 0.099}, {\"date\": \"2020-12-03T00:00:00\", \"totalTestResultsIncrease\": 1828230.0, \"positiveIncrease\": 210204.0, \"death\": 267228.0, \"deathIncrease\": 2706.0, \"positiveRate\": 0.115, \"state\": \"US\", \"sma7d\": 0.1}, {\"date\": \"2020-12-04T00:00:00\", \"totalTestResultsIncrease\": 1854869.0, \"positiveIncrease\": 224831.0, \"death\": 269791.0, \"deathIncrease\": 2563.0, \"positiveRate\": 0.121, \"state\": \"US\", \"sma7d\": 0.105}, {\"date\": \"2020-12-05T00:00:00\", \"totalTestResultsIncrease\": 2190899.0, \"positiveIncrease\": 212880.0, \"death\": 272252.0, \"deathIncrease\": 2461.0, \"positiveRate\": 0.097, \"state\": \"US\", \"sma7d\": 0.106}, {\"date\": \"2020-12-06T00:00:00\", \"totalTestResultsIncrease\": 1648306.0, \"positiveIncrease\": 177801.0, \"death\": 273398.0, \"deathIncrease\": 1146.0, \"positiveRate\": 0.108, \"state\": \"US\", \"sma7d\": 0.106}, {\"date\": \"2020-12-07T00:00:00\", \"totalTestResultsIncrease\": 1835388.0, \"positiveIncrease\": 180193.0, \"death\": 274745.0, \"deathIncrease\": 1347.0, \"positiveRate\": 0.098, \"state\": \"US\", \"sma7d\": 0.107}, {\"date\": \"2020-12-08T00:00:00\", \"totalTestResultsIncrease\": 1631516.0, \"positiveIncrease\": 212936.0, \"death\": 277221.0, \"deathIncrease\": 2622.0, \"positiveRate\": 0.131, \"state\": \"US\", \"sma7d\": 0.115}]}}, {\"mode\": \"vega-lite\"});\n",
       "</script>"
      ],
      "text/plain": [
       "alt.LayerChart(...)"
      ]
     },
     "execution_count": 8,
     "metadata": {},
     "output_type": "execute_result"
    }
   ],
   "source": [
    "create_plot(us, 'positiveRate')"
   ]
  },
  {
   "cell_type": "code",
   "execution_count": 9,
   "metadata": {
    "execution": {
     "iopub.execute_input": "2020-12-09T09:26:18.270014Z",
     "iopub.status.busy": "2020-12-09T09:26:18.256525Z",
     "iopub.status.idle": "2020-12-09T09:26:18.342142Z",
     "shell.execute_reply": "2020-12-09T09:26:18.341331Z"
    },
    "papermill": {
     "duration": 0.102324,
     "end_time": "2020-12-09T09:26:18.342340",
     "exception": false,
     "start_time": "2020-12-09T09:26:18.240016",
     "status": "completed"
    },
    "tags": []
   },
   "outputs": [
    {
     "data": {
      "text/html": [
       "\n",
       "<div id=\"altair-viz-4a5ad13b07844590b6e3d3bfc10eda23\"></div>\n",
       "<script type=\"text/javascript\">\n",
       "  (function(spec, embedOpt){\n",
       "    let outputDiv = document.currentScript.previousElementSibling;\n",
       "    if (outputDiv.id !== \"altair-viz-4a5ad13b07844590b6e3d3bfc10eda23\") {\n",
       "      outputDiv = document.getElementById(\"altair-viz-4a5ad13b07844590b6e3d3bfc10eda23\");\n",
       "    }\n",
       "    const paths = {\n",
       "      \"vega\": \"https://cdn.jsdelivr.net/npm//vega@5?noext\",\n",
       "      \"vega-lib\": \"https://cdn.jsdelivr.net/npm//vega-lib?noext\",\n",
       "      \"vega-lite\": \"https://cdn.jsdelivr.net/npm//vega-lite@4.8.1?noext\",\n",
       "      \"vega-embed\": \"https://cdn.jsdelivr.net/npm//vega-embed@6?noext\",\n",
       "    };\n",
       "\n",
       "    function loadScript(lib) {\n",
       "      return new Promise(function(resolve, reject) {\n",
       "        var s = document.createElement('script');\n",
       "        s.src = paths[lib];\n",
       "        s.async = true;\n",
       "        s.onload = () => resolve(paths[lib]);\n",
       "        s.onerror = () => reject(`Error loading script: ${paths[lib]}`);\n",
       "        document.getElementsByTagName(\"head\")[0].appendChild(s);\n",
       "      });\n",
       "    }\n",
       "\n",
       "    function showError(err) {\n",
       "      outputDiv.innerHTML = `<div class=\"error\" style=\"color:red;\">${err}</div>`;\n",
       "      throw err;\n",
       "    }\n",
       "\n",
       "    function displayChart(vegaEmbed) {\n",
       "      vegaEmbed(outputDiv, spec, embedOpt)\n",
       "        .catch(err => showError(`Javascript Error: ${err.message}<br>This usually means there's a typo in your chart specification. See the javascript console for the full traceback.`));\n",
       "    }\n",
       "\n",
       "    if(typeof define === \"function\" && define.amd) {\n",
       "      requirejs.config({paths});\n",
       "      require([\"vega-embed\"], displayChart, err => showError(`Error loading script: ${err.message}`));\n",
       "    } else if (typeof vegaEmbed === \"function\") {\n",
       "      displayChart(vegaEmbed);\n",
       "    } else {\n",
       "      loadScript(\"vega\")\n",
       "        .then(() => loadScript(\"vega-lite\"))\n",
       "        .then(() => loadScript(\"vega-embed\"))\n",
       "        .catch(showError)\n",
       "        .then(() => displayChart(vegaEmbed));\n",
       "    }\n",
       "  })({\"config\": {\"view\": {\"continuousWidth\": 400, \"continuousHeight\": 300}}, \"layer\": [{\"layer\": [{\"mark\": {\"type\": \"point\", \"size\": 75}, \"encoding\": {\"tooltip\": [{\"type\": \"temporal\", \"field\": \"date\"}, {\"type\": \"quantitative\", \"field\": \"deathIncrease\"}, {\"type\": \"quantitative\", \"field\": \"sma7d\"}], \"x\": {\"type\": \"temporal\", \"field\": \"date\"}, \"y\": {\"type\": \"quantitative\", \"field\": \"deathIncrease\"}}, \"selection\": {\"selector006\": {\"type\": \"interval\", \"bind\": \"scales\", \"encodings\": [\"x\", \"y\"]}}}, {\"mark\": {\"type\": \"line\", \"color\": \"purple\"}, \"encoding\": {\"x\": {\"type\": \"temporal\", \"field\": \"date\"}, \"y\": {\"type\": \"quantitative\", \"field\": \"sma7d\"}}}]}, {\"mark\": {\"type\": \"rule\", \"color\": \"#aaa\"}, \"encoding\": {\"x\": {\"type\": \"temporal\", \"field\": \"date\"}}, \"transform\": [{\"filter\": {\"selection\": \"selector005\"}}]}, {\"mark\": \"circle\", \"encoding\": {\"opacity\": {\"condition\": {\"value\": 1, \"selection\": \"selector005\"}, \"value\": 0}, \"tooltip\": [{\"type\": \"temporal\", \"field\": \"date\"}, {\"type\": \"quantitative\", \"field\": \"deathIncrease\"}, {\"type\": \"quantitative\", \"field\": \"sma7d\"}], \"x\": {\"type\": \"temporal\", \"field\": \"date\"}, \"y\": {\"type\": \"quantitative\", \"field\": \"deathIncrease\"}}, \"selection\": {\"selector005\": {\"type\": \"single\", \"encodings\": [\"x\"], \"on\": \"mouseover\", \"nearest\": true, \"empty\": \"none\"}}}, {\"mark\": {\"type\": \"text\", \"align\": \"left\", \"dx\": 5, \"dy\": -5, \"stroke\": \"white\", \"strokeWidth\": 2}, \"encoding\": {\"text\": {\"type\": \"quantitative\", \"field\": \"deathIncrease\"}, \"tooltip\": [{\"type\": \"temporal\", \"field\": \"date\"}, {\"type\": \"quantitative\", \"field\": \"deathIncrease\"}, {\"type\": \"quantitative\", \"field\": \"sma7d\"}], \"x\": {\"type\": \"temporal\", \"field\": \"date\"}, \"y\": {\"type\": \"quantitative\", \"field\": \"deathIncrease\"}}, \"transform\": [{\"filter\": {\"selection\": \"selector005\"}}]}, {\"mark\": {\"type\": \"text\", \"align\": \"left\", \"dx\": 5, \"dy\": -5}, \"encoding\": {\"text\": {\"type\": \"quantitative\", \"field\": \"deathIncrease\"}, \"tooltip\": [{\"type\": \"temporal\", \"field\": \"date\"}, {\"type\": \"quantitative\", \"field\": \"deathIncrease\"}, {\"type\": \"quantitative\", \"field\": \"sma7d\"}], \"x\": {\"type\": \"temporal\", \"field\": \"date\"}, \"y\": {\"type\": \"quantitative\", \"field\": \"deathIncrease\"}}, \"transform\": [{\"filter\": {\"selection\": \"selector005\"}}]}], \"data\": {\"name\": \"data-960d8a442ddd870f5e843d4934848404\"}, \"height\": 400, \"title\": \"US: deathIncrease\", \"width\": 500, \"$schema\": \"https://vega.github.io/schema/vega-lite/v4.8.1.json\", \"datasets\": {\"data-960d8a442ddd870f5e843d4934848404\": [{\"date\": \"2020-10-15T00:00:00\", \"totalTestResultsIncrease\": 1109379.0, \"positiveIncrease\": 63394.0, \"death\": 209431.0, \"deathIncrease\": 930.0, \"positiveRate\": 0.057, \"state\": \"US\", \"sma7d\": 680.571}, {\"date\": \"2020-10-16T00:00:00\", \"totalTestResultsIncrease\": 1230928.0, \"positiveIncrease\": 68249.0, \"death\": 210328.0, \"deathIncrease\": 897.0, \"positiveRate\": 0.055, \"state\": \"US\", \"sma7d\": 680.429}, {\"date\": \"2020-10-17T00:00:00\", \"totalTestResultsIncrease\": 1298729.0, \"positiveIncrease\": 57328.0, \"death\": 211101.0, \"deathIncrease\": 773.0, \"positiveRate\": 0.044, \"state\": \"US\", \"sma7d\": 693.571}, {\"date\": \"2020-10-18T00:00:00\", \"totalTestResultsIncrease\": 1051673.0, \"positiveIncrease\": 48284.0, \"death\": 211503.0, \"deathIncrease\": 402.0, \"positiveRate\": 0.046, \"state\": \"US\", \"sma7d\": 684.143}, {\"date\": \"2020-10-19T00:00:00\", \"totalTestResultsIncrease\": 1134720.0, \"positiveIncrease\": 57109.0, \"death\": 211959.0, \"deathIncrease\": 456.0, \"positiveRate\": 0.05, \"state\": \"US\", \"sma7d\": 709.0}, {\"date\": \"2020-10-20T00:00:00\", \"totalTestResultsIncrease\": 952747.0, \"positiveIncrease\": 60549.0, \"death\": 212796.0, \"deathIncrease\": 837.0, \"positiveRate\": 0.064, \"state\": \"US\", \"sma7d\": 728.857}, {\"date\": \"2020-10-21T00:00:00\", \"totalTestResultsIncrease\": 941787.0, \"positiveIncrease\": 60958.0, \"death\": 213815.0, \"deathIncrease\": 1019.0, \"positiveRate\": 0.065, \"state\": \"US\", \"sma7d\": 759.143}, {\"date\": \"2020-10-22T00:00:00\", \"totalTestResultsIncrease\": 1229733.0, \"positiveIncrease\": 72842.0, \"death\": 214941.0, \"deathIncrease\": 1126.0, \"positiveRate\": 0.059, \"state\": \"US\", \"sma7d\": 787.143}, {\"date\": \"2020-10-23T00:00:00\", \"totalTestResultsIncrease\": 1383173.0, \"positiveIncrease\": 82333.0, \"death\": 215875.0, \"deathIncrease\": 934.0, \"positiveRate\": 0.06, \"state\": \"US\", \"sma7d\": 792.429}, {\"date\": \"2020-10-24T00:00:00\", \"totalTestResultsIncrease\": 1323376.0, \"positiveIncrease\": 83287.0, \"death\": 216765.0, \"deathIncrease\": 890.0, \"positiveRate\": 0.063, \"state\": \"US\", \"sma7d\": 809.143}, {\"date\": \"2020-10-25T00:00:00\", \"totalTestResultsIncrease\": 1188211.0, \"positiveIncrease\": 64893.0, \"death\": 217147.0, \"deathIncrease\": 382.0, \"positiveRate\": 0.055, \"state\": \"US\", \"sma7d\": 806.286}, {\"date\": \"2020-10-26T00:00:00\", \"totalTestResultsIncrease\": 1211065.0, \"positiveIncrease\": 62525.0, \"death\": 217549.0, \"deathIncrease\": 402.0, \"positiveRate\": 0.052, \"state\": \"US\", \"sma7d\": 798.571}, {\"date\": \"2020-10-27T00:00:00\", \"totalTestResultsIncrease\": 1071163.0, \"positiveIncrease\": 72083.0, \"death\": 218468.0, \"deathIncrease\": 919.0, \"positiveRate\": 0.067, \"state\": \"US\", \"sma7d\": 810.286}, {\"date\": \"2020-10-28T00:00:00\", \"totalTestResultsIncrease\": 1096151.0, \"positiveIncrease\": 78752.0, \"death\": 219512.0, \"deathIncrease\": 1044.0, \"positiveRate\": 0.072, \"state\": \"US\", \"sma7d\": 813.857}, {\"date\": \"2020-10-29T00:00:00\", \"totalTestResultsIncrease\": 1332791.0, \"positiveIncrease\": 88723.0, \"death\": 220549.0, \"deathIncrease\": 1037.0, \"positiveRate\": 0.067, \"state\": \"US\", \"sma7d\": 801.143}, {\"date\": \"2020-10-30T00:00:00\", \"totalTestResultsIncrease\": 1363624.0, \"positiveIncrease\": 97238.0, \"death\": 221496.0, \"deathIncrease\": 947.0, \"positiveRate\": 0.071, \"state\": \"US\", \"sma7d\": 803.0}, {\"date\": \"2020-10-31T00:00:00\", \"totalTestResultsIncrease\": 1390130.0, \"positiveIncrease\": 90585.0, \"death\": 222459.0, \"deathIncrease\": 963.0, \"positiveRate\": 0.065, \"state\": \"US\", \"sma7d\": 813.429}, {\"date\": \"2020-11-01T00:00:00\", \"totalTestResultsIncrease\": 1127867.0, \"positiveIncrease\": 73849.0, \"death\": 222854.0, \"deathIncrease\": 395.0, \"positiveRate\": 0.065, \"state\": \"US\", \"sma7d\": 815.286}, {\"date\": \"2020-11-02T00:00:00\", \"totalTestResultsIncrease\": 1326677.0, \"positiveIncrease\": 82047.0, \"death\": 223345.0, \"deathIncrease\": 491.0, \"positiveRate\": 0.062, \"state\": \"US\", \"sma7d\": 828.0}, {\"date\": \"2020-11-03T00:00:00\", \"totalTestResultsIncrease\": 1128739.0, \"positiveIncrease\": 86666.0, \"death\": 224859.0, \"deathIncrease\": 1514.0, \"positiveRate\": 0.077, \"state\": \"US\", \"sma7d\": 913.0}, {\"date\": \"2020-11-04T00:00:00\", \"totalTestResultsIncrease\": 1222728.0, \"positiveIncrease\": 103305.0, \"death\": 225976.0, \"deathIncrease\": 1117.0, \"positiveRate\": 0.084, \"state\": \"US\", \"sma7d\": 923.429}, {\"date\": \"2020-11-05T00:00:00\", \"totalTestResultsIncrease\": 1567027.0, \"positiveIncrease\": 116443.0, \"death\": 227122.0, \"deathIncrease\": 1146.0, \"positiveRate\": 0.074, \"state\": \"US\", \"sma7d\": 939.0}, {\"date\": \"2020-11-06T00:00:00\", \"totalTestResultsIncrease\": 1563936.0, \"positiveIncrease\": 125758.0, \"death\": 228295.0, \"deathIncrease\": 1173.0, \"positiveRate\": 0.08, \"state\": \"US\", \"sma7d\": 971.286}, {\"date\": \"2020-11-07T00:00:00\", \"totalTestResultsIncrease\": 1413065.0, \"positiveIncrease\": 129222.0, \"death\": 229414.0, \"deathIncrease\": 1119.0, \"positiveRate\": 0.091, \"state\": \"US\", \"sma7d\": 993.571}, {\"date\": \"2020-11-08T00:00:00\", \"totalTestResultsIncrease\": 1252250.0, \"positiveIncrease\": 110290.0, \"death\": 229910.0, \"deathIncrease\": 496.0, \"positiveRate\": 0.088, \"state\": \"US\", \"sma7d\": 1008.0}, {\"date\": \"2020-11-09T00:00:00\", \"totalTestResultsIncrease\": 1516486.0, \"positiveIncrease\": 119434.0, \"death\": 230487.0, \"deathIncrease\": 577.0, \"positiveRate\": 0.079, \"state\": \"US\", \"sma7d\": 1020.286}, {\"date\": \"2020-11-10T00:00:00\", \"totalTestResultsIncrease\": 1251917.0, \"positiveIncrease\": 131187.0, \"death\": 231847.0, \"deathIncrease\": 1360.0, \"positiveRate\": 0.105, \"state\": \"US\", \"sma7d\": 998.286}, {\"date\": \"2020-11-11T00:00:00\", \"totalTestResultsIncrease\": 1417539.0, \"positiveIncrease\": 144817.0, \"death\": 233410.0, \"deathIncrease\": 1563.0, \"positiveRate\": 0.102, \"state\": \"US\", \"sma7d\": 1062.0}, {\"date\": \"2020-11-12T00:00:00\", \"totalTestResultsIncrease\": 1475910.0, \"positiveIncrease\": 152012.0, \"death\": 234529.0, \"deathIncrease\": 1119.0, \"positiveRate\": 0.103, \"state\": \"US\", \"sma7d\": 1058.143}, {\"date\": \"2020-11-13T00:00:00\", \"totalTestResultsIncrease\": 1697946.0, \"positiveIncrease\": 172116.0, \"death\": 235797.0, \"deathIncrease\": 1268.0, \"positiveRate\": 0.101, \"state\": \"US\", \"sma7d\": 1071.714}, {\"date\": \"2020-11-14T00:00:00\", \"totalTestResultsIncrease\": 1661870.0, \"positiveIncrease\": 163538.0, \"death\": 237128.0, \"deathIncrease\": 1331.0, \"positiveRate\": 0.098, \"state\": \"US\", \"sma7d\": 1102.0}, {\"date\": \"2020-11-15T00:00:00\", \"totalTestResultsIncrease\": 1615398.0, \"positiveIncrease\": 144432.0, \"death\": 237815.0, \"deathIncrease\": 687.0, \"positiveRate\": 0.089, \"state\": \"US\", \"sma7d\": 1129.286}, {\"date\": \"2020-11-16T00:00:00\", \"totalTestResultsIncrease\": 1486671.0, \"positiveIncrease\": 148873.0, \"death\": 238434.0, \"deathIncrease\": 619.0, \"positiveRate\": 0.1, \"state\": \"US\", \"sma7d\": 1135.286}, {\"date\": \"2020-11-17T00:00:00\", \"totalTestResultsIncrease\": 1511767.0, \"positiveIncrease\": 156732.0, \"death\": 239989.0, \"deathIncrease\": 1555.0, \"positiveRate\": 0.104, \"state\": \"US\", \"sma7d\": 1163.143}, {\"date\": \"2020-11-18T00:00:00\", \"totalTestResultsIncrease\": 1539051.0, \"positiveIncrease\": 163972.0, \"death\": 241853.0, \"deathIncrease\": 1864.0, \"positiveRate\": 0.107, \"state\": \"US\", \"sma7d\": 1206.143}, {\"date\": \"2020-11-19T00:00:00\", \"totalTestResultsIncrease\": 1821019.0, \"positiveIncrease\": 182835.0, \"death\": 243820.0, \"deathIncrease\": 1967.0, \"positiveRate\": 0.1, \"state\": \"US\", \"sma7d\": 1327.286}, {\"date\": \"2020-11-20T00:00:00\", \"totalTestResultsIncrease\": 1919404.0, \"positiveIncrease\": 192800.0, \"death\": 245704.0, \"deathIncrease\": 1884.0, \"positiveRate\": 0.1, \"state\": \"US\", \"sma7d\": 1415.286}, {\"date\": \"2020-11-21T00:00:00\", \"totalTestResultsIncrease\": 2004237.0, \"positiveIncrease\": 179715.0, \"death\": 247216.0, \"deathIncrease\": 1512.0, \"positiveRate\": 0.09, \"state\": \"US\", \"sma7d\": 1441.143}, {\"date\": \"2020-11-22T00:00:00\", \"totalTestResultsIncrease\": 1744488.0, \"positiveIncrease\": 150841.0, \"death\": 248114.0, \"deathIncrease\": 898.0, \"positiveRate\": 0.086, \"state\": \"US\", \"sma7d\": 1471.286}, {\"date\": \"2020-11-23T00:00:00\", \"totalTestResultsIncrease\": 1758560.0, \"positiveIncrease\": 150958.0, \"death\": 249069.0, \"deathIncrease\": 955.0, \"positiveRate\": 0.086, \"state\": \"US\", \"sma7d\": 1519.286}, {\"date\": \"2020-11-24T00:00:00\", \"totalTestResultsIncrease\": 1790272.0, \"positiveIncrease\": 167014.0, \"death\": 251135.0, \"deathIncrease\": 2066.0, \"positiveRate\": 0.093, \"state\": \"US\", \"sma7d\": 1592.286}, {\"date\": \"2020-11-25T00:00:00\", \"totalTestResultsIncrease\": 1720705.0, \"positiveIncrease\": 183629.0, \"death\": 253424.0, \"deathIncrease\": 2289.0, \"positiveRate\": 0.107, \"state\": \"US\", \"sma7d\": 1653.0}, {\"date\": \"2020-11-26T00:00:00\", \"totalTestResultsIncrease\": 1170195.0, \"positiveIncrease\": 126335.0, \"death\": 254760.0, \"deathIncrease\": 1336.0, \"positiveRate\": 0.108, \"state\": \"US\", \"sma7d\": 1562.857}, {\"date\": \"2020-11-27T00:00:00\", \"totalTestResultsIncrease\": 2126288.0, \"positiveIncrease\": 193725.0, \"death\": 256132.0, \"deathIncrease\": 1372.0, \"positiveRate\": 0.091, \"state\": \"US\", \"sma7d\": 1489.714}, {\"date\": \"2020-11-28T00:00:00\", \"totalTestResultsIncrease\": 1709566.0, \"positiveIncrease\": 154522.0, \"death\": 257377.0, \"deathIncrease\": 1245.0, \"positiveRate\": 0.09, \"state\": \"US\", \"sma7d\": 1451.571}, {\"date\": \"2020-11-29T00:00:00\", \"totalTestResultsIncrease\": 1289970.0, \"positiveIncrease\": 135242.0, \"death\": 258180.0, \"deathIncrease\": 803.0, \"positiveRate\": 0.105, \"state\": \"US\", \"sma7d\": 1438.0}, {\"date\": \"2020-11-30T00:00:00\", \"totalTestResultsIncrease\": 1603253.0, \"positiveIncrease\": 147587.0, \"death\": 259316.0, \"deathIncrease\": 1136.0, \"positiveRate\": 0.092, \"state\": \"US\", \"sma7d\": 1463.857}, {\"date\": \"2020-12-01T00:00:00\", \"totalTestResultsIncrease\": 2340996.0, \"positiveIncrease\": 176753.0, \"death\": 261789.0, \"deathIncrease\": 2473.0, \"positiveRate\": 0.076, \"state\": \"US\", \"sma7d\": 1522.0}, {\"date\": \"2020-12-02T00:00:00\", \"totalTestResultsIncrease\": 1459202.0, \"positiveIncrease\": 195796.0, \"death\": 264522.0, \"deathIncrease\": 2733.0, \"positiveRate\": 0.134, \"state\": \"US\", \"sma7d\": 1585.429}, {\"date\": \"2020-12-03T00:00:00\", \"totalTestResultsIncrease\": 1828230.0, \"positiveIncrease\": 210204.0, \"death\": 267228.0, \"deathIncrease\": 2706.0, \"positiveRate\": 0.115, \"state\": \"US\", \"sma7d\": 1781.143}, {\"date\": \"2020-12-04T00:00:00\", \"totalTestResultsIncrease\": 1854869.0, \"positiveIncrease\": 224831.0, \"death\": 269791.0, \"deathIncrease\": 2563.0, \"positiveRate\": 0.121, \"state\": \"US\", \"sma7d\": 1951.286}, {\"date\": \"2020-12-05T00:00:00\", \"totalTestResultsIncrease\": 2190899.0, \"positiveIncrease\": 212880.0, \"death\": 272252.0, \"deathIncrease\": 2461.0, \"positiveRate\": 0.097, \"state\": \"US\", \"sma7d\": 2125.0}, {\"date\": \"2020-12-06T00:00:00\", \"totalTestResultsIncrease\": 1648306.0, \"positiveIncrease\": 177801.0, \"death\": 273398.0, \"deathIncrease\": 1146.0, \"positiveRate\": 0.108, \"state\": \"US\", \"sma7d\": 2174.0}, {\"date\": \"2020-12-07T00:00:00\", \"totalTestResultsIncrease\": 1835388.0, \"positiveIncrease\": 180193.0, \"death\": 274745.0, \"deathIncrease\": 1347.0, \"positiveRate\": 0.098, \"state\": \"US\", \"sma7d\": 2204.143}, {\"date\": \"2020-12-08T00:00:00\", \"totalTestResultsIncrease\": 1631516.0, \"positiveIncrease\": 212936.0, \"death\": 277221.0, \"deathIncrease\": 2622.0, \"positiveRate\": 0.131, \"state\": \"US\", \"sma7d\": 2225.429}]}}, {\"mode\": \"vega-lite\"});\n",
       "</script>"
      ],
      "text/plain": [
       "alt.LayerChart(...)"
      ]
     },
     "execution_count": 9,
     "metadata": {},
     "output_type": "execute_result"
    }
   ],
   "source": [
    "create_plot(us, 'deathIncrease')"
   ]
  },
  {
   "cell_type": "markdown",
   "metadata": {
    "papermill": {
     "duration": 0.014478,
     "end_time": "2020-12-09T09:26:18.371912",
     "exception": false,
     "start_time": "2020-12-09T09:26:18.357434",
     "status": "completed"
    },
    "tags": []
   },
   "source": [
    "## NY"
   ]
  },
  {
   "cell_type": "code",
   "execution_count": 10,
   "metadata": {
    "execution": {
     "iopub.execute_input": "2020-12-09T09:26:18.403767Z",
     "iopub.status.busy": "2020-12-09T09:26:18.403287Z",
     "iopub.status.idle": "2020-12-09T09:26:18.668628Z",
     "shell.execute_reply": "2020-12-09T09:26:18.666847Z"
    },
    "papermill": {
     "duration": 0.283345,
     "end_time": "2020-12-09T09:26:18.668766",
     "exception": false,
     "start_time": "2020-12-09T09:26:18.385421",
     "status": "completed"
    },
    "tags": []
   },
   "outputs": [],
   "source": [
    "ny = create_df(df, (lambda d: d['state'] == 'NY'), 'New York')"
   ]
  },
  {
   "cell_type": "code",
   "execution_count": 11,
   "metadata": {
    "execution": {
     "iopub.execute_input": "2020-12-09T09:26:18.729069Z",
     "iopub.status.busy": "2020-12-09T09:26:18.708381Z",
     "iopub.status.idle": "2020-12-09T09:26:18.789158Z",
     "shell.execute_reply": "2020-12-09T09:26:18.788604Z"
    },
    "papermill": {
     "duration": 0.106416,
     "end_time": "2020-12-09T09:26:18.789286",
     "exception": false,
     "start_time": "2020-12-09T09:26:18.682870",
     "status": "completed"
    },
    "tags": []
   },
   "outputs": [
    {
     "data": {
      "text/html": [
       "\n",
       "<div id=\"altair-viz-07e864f04c53420ea10a433f3c9c67db\"></div>\n",
       "<script type=\"text/javascript\">\n",
       "  (function(spec, embedOpt){\n",
       "    let outputDiv = document.currentScript.previousElementSibling;\n",
       "    if (outputDiv.id !== \"altair-viz-07e864f04c53420ea10a433f3c9c67db\") {\n",
       "      outputDiv = document.getElementById(\"altair-viz-07e864f04c53420ea10a433f3c9c67db\");\n",
       "    }\n",
       "    const paths = {\n",
       "      \"vega\": \"https://cdn.jsdelivr.net/npm//vega@5?noext\",\n",
       "      \"vega-lib\": \"https://cdn.jsdelivr.net/npm//vega-lib?noext\",\n",
       "      \"vega-lite\": \"https://cdn.jsdelivr.net/npm//vega-lite@4.8.1?noext\",\n",
       "      \"vega-embed\": \"https://cdn.jsdelivr.net/npm//vega-embed@6?noext\",\n",
       "    };\n",
       "\n",
       "    function loadScript(lib) {\n",
       "      return new Promise(function(resolve, reject) {\n",
       "        var s = document.createElement('script');\n",
       "        s.src = paths[lib];\n",
       "        s.async = true;\n",
       "        s.onload = () => resolve(paths[lib]);\n",
       "        s.onerror = () => reject(`Error loading script: ${paths[lib]}`);\n",
       "        document.getElementsByTagName(\"head\")[0].appendChild(s);\n",
       "      });\n",
       "    }\n",
       "\n",
       "    function showError(err) {\n",
       "      outputDiv.innerHTML = `<div class=\"error\" style=\"color:red;\">${err}</div>`;\n",
       "      throw err;\n",
       "    }\n",
       "\n",
       "    function displayChart(vegaEmbed) {\n",
       "      vegaEmbed(outputDiv, spec, embedOpt)\n",
       "        .catch(err => showError(`Javascript Error: ${err.message}<br>This usually means there's a typo in your chart specification. See the javascript console for the full traceback.`));\n",
       "    }\n",
       "\n",
       "    if(typeof define === \"function\" && define.amd) {\n",
       "      requirejs.config({paths});\n",
       "      require([\"vega-embed\"], displayChart, err => showError(`Error loading script: ${err.message}`));\n",
       "    } else if (typeof vegaEmbed === \"function\") {\n",
       "      displayChart(vegaEmbed);\n",
       "    } else {\n",
       "      loadScript(\"vega\")\n",
       "        .then(() => loadScript(\"vega-lite\"))\n",
       "        .then(() => loadScript(\"vega-embed\"))\n",
       "        .catch(showError)\n",
       "        .then(() => displayChart(vegaEmbed));\n",
       "    }\n",
       "  })({\"config\": {\"view\": {\"continuousWidth\": 400, \"continuousHeight\": 300}}, \"layer\": [{\"layer\": [{\"mark\": {\"type\": \"point\", \"size\": 75}, \"encoding\": {\"tooltip\": [{\"type\": \"temporal\", \"field\": \"date\"}, {\"type\": \"quantitative\", \"field\": \"positiveIncrease\"}, {\"type\": \"quantitative\", \"field\": \"sma7d\"}], \"x\": {\"type\": \"temporal\", \"field\": \"date\"}, \"y\": {\"type\": \"quantitative\", \"field\": \"positiveIncrease\"}}, \"selection\": {\"selector008\": {\"type\": \"interval\", \"bind\": \"scales\", \"encodings\": [\"x\", \"y\"]}}}, {\"mark\": {\"type\": \"line\", \"color\": \"purple\"}, \"encoding\": {\"x\": {\"type\": \"temporal\", \"field\": \"date\"}, \"y\": {\"type\": \"quantitative\", \"field\": \"sma7d\"}}}]}, {\"mark\": {\"type\": \"rule\", \"color\": \"#aaa\"}, \"encoding\": {\"x\": {\"type\": \"temporal\", \"field\": \"date\"}}, \"transform\": [{\"filter\": {\"selection\": \"selector007\"}}]}, {\"mark\": \"circle\", \"encoding\": {\"opacity\": {\"condition\": {\"value\": 1, \"selection\": \"selector007\"}, \"value\": 0}, \"tooltip\": [{\"type\": \"temporal\", \"field\": \"date\"}, {\"type\": \"quantitative\", \"field\": \"positiveIncrease\"}, {\"type\": \"quantitative\", \"field\": \"sma7d\"}], \"x\": {\"type\": \"temporal\", \"field\": \"date\"}, \"y\": {\"type\": \"quantitative\", \"field\": \"positiveIncrease\"}}, \"selection\": {\"selector007\": {\"type\": \"single\", \"encodings\": [\"x\"], \"on\": \"mouseover\", \"nearest\": true, \"empty\": \"none\"}}}, {\"mark\": {\"type\": \"text\", \"align\": \"left\", \"dx\": 5, \"dy\": -5, \"stroke\": \"white\", \"strokeWidth\": 2}, \"encoding\": {\"text\": {\"type\": \"quantitative\", \"field\": \"positiveIncrease\"}, \"tooltip\": [{\"type\": \"temporal\", \"field\": \"date\"}, {\"type\": \"quantitative\", \"field\": \"positiveIncrease\"}, {\"type\": \"quantitative\", \"field\": \"sma7d\"}], \"x\": {\"type\": \"temporal\", \"field\": \"date\"}, \"y\": {\"type\": \"quantitative\", \"field\": \"positiveIncrease\"}}, \"transform\": [{\"filter\": {\"selection\": \"selector007\"}}]}, {\"mark\": {\"type\": \"text\", \"align\": \"left\", \"dx\": 5, \"dy\": -5}, \"encoding\": {\"text\": {\"type\": \"quantitative\", \"field\": \"positiveIncrease\"}, \"tooltip\": [{\"type\": \"temporal\", \"field\": \"date\"}, {\"type\": \"quantitative\", \"field\": \"positiveIncrease\"}, {\"type\": \"quantitative\", \"field\": \"sma7d\"}], \"x\": {\"type\": \"temporal\", \"field\": \"date\"}, \"y\": {\"type\": \"quantitative\", \"field\": \"positiveIncrease\"}}, \"transform\": [{\"filter\": {\"selection\": \"selector007\"}}]}], \"data\": {\"name\": \"data-aabe8ff2f5db0b40b0d7a454bb232ec0\"}, \"height\": 400, \"title\": \"New York: positiveIncrease\", \"width\": 500, \"$schema\": \"https://vega.github.io/schema/vega-lite/v4.8.1.json\", \"datasets\": {\"data-aabe8ff2f5db0b40b0d7a454bb232ec0\": [{\"date\": \"2020-10-15T00:00:00\", \"totalTestResultsIncrease\": 133212.0, \"positiveIncrease\": 1460.0, \"death\": 25618.0, \"deathIncrease\": 13.0, \"positiveRate\": 0.011, \"state\": \"New York\", \"sma7d\": 1328.0}, {\"date\": \"2020-10-16T00:00:00\", \"totalTestResultsIncrease\": 136039.0, \"positiveIncrease\": 1707.0, \"death\": 25628.0, \"deathIncrease\": 10.0, \"positiveRate\": 0.013, \"state\": \"New York\", \"sma7d\": 1344.429}, {\"date\": \"2020-10-17T00:00:00\", \"totalTestResultsIncrease\": 159972.0, \"positiveIncrease\": 1784.0, \"death\": 25637.0, \"deathIncrease\": 9.0, \"positiveRate\": 0.011, \"state\": \"New York\", \"sma7d\": 1392.571}, {\"date\": \"2020-10-18T00:00:00\", \"totalTestResultsIncrease\": 128763.0, \"positiveIncrease\": 1390.0, \"death\": 25644.0, \"deathIncrease\": 7.0, \"positiveRate\": 0.011, \"state\": \"New York\", \"sma7d\": 1427.857}, {\"date\": \"2020-10-19T00:00:00\", \"totalTestResultsIncrease\": 82009.0, \"positiveIncrease\": 998.0, \"death\": 25659.0, \"deathIncrease\": 15.0, \"positiveRate\": 0.012, \"state\": \"New York\", \"sma7d\": 1423.429}, {\"date\": \"2020-10-20T00:00:00\", \"totalTestResultsIncrease\": 90540.0, \"positiveIncrease\": 1201.0, \"death\": 25672.0, \"deathIncrease\": 13.0, \"positiveRate\": 0.013, \"state\": \"New York\", \"sma7d\": 1396.0}, {\"date\": \"2020-10-21T00:00:00\", \"totalTestResultsIncrease\": 124789.0, \"positiveIncrease\": 2026.0, \"death\": 25679.0, \"deathIncrease\": 7.0, \"positiveRate\": 0.016, \"state\": \"New York\", \"sma7d\": 1509.429}, {\"date\": \"2020-10-22T00:00:00\", \"totalTestResultsIncrease\": 135341.0, \"positiveIncrease\": 1628.0, \"death\": 25694.0, \"deathIncrease\": 15.0, \"positiveRate\": 0.012, \"state\": \"New York\", \"sma7d\": 1533.429}, {\"date\": \"2020-10-23T00:00:00\", \"totalTestResultsIncrease\": 141508.0, \"positiveIncrease\": 1637.0, \"death\": 25705.0, \"deathIncrease\": 11.0, \"positiveRate\": 0.012, \"state\": \"New York\", \"sma7d\": 1523.429}, {\"date\": \"2020-10-24T00:00:00\", \"totalTestResultsIncrease\": 156940.0, \"positiveIncrease\": 2061.0, \"death\": 25718.0, \"deathIncrease\": 13.0, \"positiveRate\": 0.013, \"state\": \"New York\", \"sma7d\": 1563.0}, {\"date\": \"2020-10-25T00:00:00\", \"totalTestResultsIncrease\": 120830.0, \"positiveIncrease\": 1632.0, \"death\": 25730.0, \"deathIncrease\": 12.0, \"positiveRate\": 0.014, \"state\": \"New York\", \"sma7d\": 1597.571}, {\"date\": \"2020-10-26T00:00:00\", \"totalTestResultsIncrease\": 82117.0, \"positiveIncrease\": 1191.0, \"death\": 25742.0, \"deathIncrease\": 12.0, \"positiveRate\": 0.015, \"state\": \"New York\", \"sma7d\": 1625.143}, {\"date\": \"2020-10-27T00:00:00\", \"totalTestResultsIncrease\": 111618.0, \"positiveIncrease\": 1991.0, \"death\": 25758.0, \"deathIncrease\": 16.0, \"positiveRate\": 0.018, \"state\": \"New York\", \"sma7d\": 1738.0}, {\"date\": \"2020-10-28T00:00:00\", \"totalTestResultsIncrease\": 129660.0, \"positiveIncrease\": 2031.0, \"death\": 25773.0, \"deathIncrease\": 15.0, \"positiveRate\": 0.016, \"state\": \"New York\", \"sma7d\": 1738.714}, {\"date\": \"2020-10-29T00:00:00\", \"totalTestResultsIncrease\": 168353.0, \"positiveIncrease\": 2499.0, \"death\": 25792.0, \"deathIncrease\": 19.0, \"positiveRate\": 0.015, \"state\": \"New York\", \"sma7d\": 1863.143}, {\"date\": \"2020-10-30T00:00:00\", \"totalTestResultsIncrease\": 146885.0, \"positiveIncrease\": 2255.0, \"death\": 25804.0, \"deathIncrease\": 12.0, \"positiveRate\": 0.015, \"state\": \"New York\", \"sma7d\": 1951.429}, {\"date\": \"2020-10-31T00:00:00\", \"totalTestResultsIncrease\": 136962.0, \"positiveIncrease\": 2049.0, \"death\": 25807.0, \"deathIncrease\": 3.0, \"positiveRate\": 0.015, \"state\": \"New York\", \"sma7d\": 1949.714}, {\"date\": \"2020-11-01T00:00:00\", \"totalTestResultsIncrease\": 148935.0, \"positiveIncrease\": 2255.0, \"death\": 25824.0, \"deathIncrease\": 17.0, \"positiveRate\": 0.015, \"state\": \"New York\", \"sma7d\": 2038.714}, {\"date\": \"2020-11-02T00:00:00\", \"totalTestResultsIncrease\": 96101.0, \"positiveIncrease\": 1633.0, \"death\": 25838.0, \"deathIncrease\": 14.0, \"positiveRate\": 0.017, \"state\": \"New York\", \"sma7d\": 2101.857}, {\"date\": \"2020-11-03T00:00:00\", \"totalTestResultsIncrease\": 127869.0, \"positiveIncrease\": 2321.0, \"death\": 25853.0, \"deathIncrease\": 15.0, \"positiveRate\": 0.018, \"state\": \"New York\", \"sma7d\": 2149.0}, {\"date\": \"2020-11-04T00:00:00\", \"totalTestResultsIncrease\": 133534.0, \"positiveIncrease\": 2126.0, \"death\": 25868.0, \"deathIncrease\": 15.0, \"positiveRate\": 0.016, \"state\": \"New York\", \"sma7d\": 2162.571}, {\"date\": \"2020-11-05T00:00:00\", \"totalTestResultsIncrease\": 161019.0, \"positiveIncrease\": 2997.0, \"death\": 25892.0, \"deathIncrease\": 24.0, \"positiveRate\": 0.019, \"state\": \"New York\", \"sma7d\": 2233.714}, {\"date\": \"2020-11-06T00:00:00\", \"totalTestResultsIncrease\": 160705.0, \"positiveIncrease\": 3209.0, \"death\": 25910.0, \"deathIncrease\": 18.0, \"positiveRate\": 0.02, \"state\": \"New York\", \"sma7d\": 2370.0}, {\"date\": \"2020-11-07T00:00:00\", \"totalTestResultsIncrease\": 163291.0, \"positiveIncrease\": 3587.0, \"death\": 25928.0, \"deathIncrease\": 18.0, \"positiveRate\": 0.022, \"state\": \"New York\", \"sma7d\": 2589.714}, {\"date\": \"2020-11-08T00:00:00\", \"totalTestResultsIncrease\": 145642.0, \"positiveIncrease\": 3428.0, \"death\": 25947.0, \"deathIncrease\": 19.0, \"positiveRate\": 0.024, \"state\": \"New York\", \"sma7d\": 2757.286}, {\"date\": \"2020-11-09T00:00:00\", \"totalTestResultsIncrease\": 111416.0, \"positiveIncrease\": 3144.0, \"death\": 25973.0, \"deathIncrease\": 26.0, \"positiveRate\": 0.028, \"state\": \"New York\", \"sma7d\": 2973.143}, {\"date\": \"2020-11-10T00:00:00\", \"totalTestResultsIncrease\": 128036.0, \"positiveIncrease\": 3965.0, \"death\": 26005.0, \"deathIncrease\": 32.0, \"positiveRate\": 0.031, \"state\": \"New York\", \"sma7d\": 3208.0}, {\"date\": \"2020-11-11T00:00:00\", \"totalTestResultsIncrease\": 164300.0, \"positiveIncrease\": 4820.0, \"death\": 26026.0, \"deathIncrease\": 21.0, \"positiveRate\": 0.029, \"state\": \"New York\", \"sma7d\": 3592.857}, {\"date\": \"2020-11-12T00:00:00\", \"totalTestResultsIncrease\": 162627.0, \"positiveIncrease\": 4797.0, \"death\": 26055.0, \"deathIncrease\": 29.0, \"positiveRate\": 0.029, \"state\": \"New York\", \"sma7d\": 3850.0}, {\"date\": \"2020-11-13T00:00:00\", \"totalTestResultsIncrease\": 203721.0, \"positiveIncrease\": 5401.0, \"death\": 26079.0, \"deathIncrease\": 24.0, \"positiveRate\": 0.027, \"state\": \"New York\", \"sma7d\": 4163.143}, {\"date\": \"2020-11-14T00:00:00\", \"totalTestResultsIncrease\": 184162.0, \"positiveIncrease\": 5388.0, \"death\": 26103.0, \"deathIncrease\": 24.0, \"positiveRate\": 0.029, \"state\": \"New York\", \"sma7d\": 4420.429}, {\"date\": \"2020-11-15T00:00:00\", \"totalTestResultsIncrease\": 133202.0, \"positiveIncrease\": 3649.0, \"death\": 26133.0, \"deathIncrease\": 30.0, \"positiveRate\": 0.027, \"state\": \"New York\", \"sma7d\": 4452.0}, {\"date\": \"2020-11-16T00:00:00\", \"totalTestResultsIncrease\": 124565.0, \"positiveIncrease\": 3490.0, \"death\": 26159.0, \"deathIncrease\": 26.0, \"positiveRate\": 0.028, \"state\": \"New York\", \"sma7d\": 4501.429}, {\"date\": \"2020-11-17T00:00:00\", \"totalTestResultsIncrease\": 159852.0, \"positiveIncrease\": 5088.0, \"death\": 26189.0, \"deathIncrease\": 30.0, \"positiveRate\": 0.032, \"state\": \"New York\", \"sma7d\": 4661.857}, {\"date\": \"2020-11-18T00:00:00\", \"totalTestResultsIncrease\": 154434.0, \"positiveIncrease\": 5294.0, \"death\": 26225.0, \"deathIncrease\": 36.0, \"positiveRate\": 0.034, \"state\": \"New York\", \"sma7d\": 4729.571}, {\"date\": \"2020-11-19T00:00:00\", \"totalTestResultsIncrease\": 195239.0, \"positiveIncrease\": 5310.0, \"death\": 26257.0, \"deathIncrease\": 32.0, \"positiveRate\": 0.027, \"state\": \"New York\", \"sma7d\": 4802.857}, {\"date\": \"2020-11-20T00:00:00\", \"totalTestResultsIncrease\": 205466.0, \"positiveIncrease\": 5468.0, \"death\": 26292.0, \"deathIncrease\": 35.0, \"positiveRate\": 0.027, \"state\": \"New York\", \"sma7d\": 4812.429}, {\"date\": \"2020-11-21T00:00:00\", \"totalTestResultsIncrease\": 207907.0, \"positiveIncrease\": 5972.0, \"death\": 26326.0, \"deathIncrease\": 34.0, \"positiveRate\": 0.029, \"state\": \"New York\", \"sma7d\": 4895.857}, {\"date\": \"2020-11-22T00:00:00\", \"totalTestResultsIncrease\": 196610.0, \"positiveIncrease\": 5392.0, \"death\": 26357.0, \"deathIncrease\": 31.0, \"positiveRate\": 0.027, \"state\": \"New York\", \"sma7d\": 5144.857}, {\"date\": \"2020-11-23T00:00:00\", \"totalTestResultsIncrease\": 191489.0, \"positiveIncrease\": 5906.0, \"death\": 26390.0, \"deathIncrease\": 33.0, \"positiveRate\": 0.031, \"state\": \"New York\", \"sma7d\": 5490.0}, {\"date\": \"2020-11-24T00:00:00\", \"totalTestResultsIncrease\": 164761.0, \"positiveIncrease\": 4881.0, \"death\": 26441.0, \"deathIncrease\": 51.0, \"positiveRate\": 0.03, \"state\": \"New York\", \"sma7d\": 5460.429}, {\"date\": \"2020-11-25T00:00:00\", \"totalTestResultsIncrease\": 173085.0, \"positiveIncrease\": 6265.0, \"death\": 26482.0, \"deathIncrease\": 41.0, \"positiveRate\": 0.036, \"state\": \"New York\", \"sma7d\": 5599.143}, {\"date\": \"2020-11-26T00:00:00\", \"totalTestResultsIncrease\": 217721.0, \"positiveIncrease\": 6933.0, \"death\": 26549.0, \"deathIncrease\": 67.0, \"positiveRate\": 0.032, \"state\": \"New York\", \"sma7d\": 5831.0}, {\"date\": \"2020-11-27T00:00:00\", \"totalTestResultsIncrease\": 219442.0, \"positiveIncrease\": 8176.0, \"death\": 26588.0, \"deathIncrease\": 39.0, \"positiveRate\": 0.037, \"state\": \"New York\", \"sma7d\": 6217.857}, {\"date\": \"2020-11-28T00:00:00\", \"totalTestResultsIncrease\": 152355.0, \"positiveIncrease\": 6063.0, \"death\": 26632.0, \"deathIncrease\": 44.0, \"positiveRate\": 0.04, \"state\": \"New York\", \"sma7d\": 6230.857}, {\"date\": \"2020-11-29T00:00:00\", \"totalTestResultsIncrease\": 157320.0, \"positiveIncrease\": 6723.0, \"death\": 26690.0, \"deathIncrease\": 58.0, \"positiveRate\": 0.043, \"state\": \"New York\", \"sma7d\": 6421.0}, {\"date\": \"2020-11-30T00:00:00\", \"totalTestResultsIncrease\": 148974.0, \"positiveIncrease\": 6819.0, \"death\": 26747.0, \"deathIncrease\": 57.0, \"positiveRate\": 0.046, \"state\": \"New York\", \"sma7d\": 6551.429}, {\"date\": \"2020-12-01T00:00:00\", \"totalTestResultsIncrease\": 146675.0, \"positiveIncrease\": 7285.0, \"death\": 26816.0, \"deathIncrease\": 69.0, \"positiveRate\": 0.05, \"state\": \"New York\", \"sma7d\": 6894.857}, {\"date\": \"2020-12-02T00:00:00\", \"totalTestResultsIncrease\": 193551.0, \"positiveIncrease\": 8973.0, \"death\": 26889.0, \"deathIncrease\": 73.0, \"positiveRate\": 0.046, \"state\": \"New York\", \"sma7d\": 7281.714}, {\"date\": \"2020-12-03T00:00:00\", \"totalTestResultsIncrease\": 203440.0, \"positiveIncrease\": 9855.0, \"death\": 26955.0, \"deathIncrease\": 66.0, \"positiveRate\": 0.048, \"state\": \"New York\", \"sma7d\": 7699.143}, {\"date\": \"2020-12-04T00:00:00\", \"totalTestResultsIncrease\": 208297.0, \"positiveIncrease\": 11271.0, \"death\": 27017.0, \"deathIncrease\": 62.0, \"positiveRate\": 0.054, \"state\": \"New York\", \"sma7d\": 8141.286}, {\"date\": \"2020-12-05T00:00:00\", \"totalTestResultsIncrease\": 215401.0, \"positiveIncrease\": 10761.0, \"death\": 27089.0, \"deathIncrease\": 72.0, \"positiveRate\": 0.05, \"state\": \"New York\", \"sma7d\": 8812.429}, {\"date\": \"2020-12-06T00:00:00\", \"totalTestResultsIncrease\": 205832.0, \"positiveIncrease\": 9702.0, \"death\": 27149.0, \"deathIncrease\": 60.0, \"positiveRate\": 0.047, \"state\": \"New York\", \"sma7d\": 9238.0}, {\"date\": \"2020-12-07T00:00:00\", \"totalTestResultsIncrease\": 152287.0, \"positiveIncrease\": 7302.0, \"death\": 27232.0, \"deathIncrease\": 83.0, \"positiveRate\": 0.048, \"state\": \"New York\", \"sma7d\": 9307.0}, {\"date\": \"2020-12-08T00:00:00\", \"totalTestResultsIncrease\": 162464.0, \"positiveIncrease\": 9335.0, \"death\": 27307.0, \"deathIncrease\": 75.0, \"positiveRate\": 0.057, \"state\": \"New York\", \"sma7d\": 9599.857}]}}, {\"mode\": \"vega-lite\"});\n",
       "</script>"
      ],
      "text/plain": [
       "alt.LayerChart(...)"
      ]
     },
     "execution_count": 11,
     "metadata": {},
     "output_type": "execute_result"
    }
   ],
   "source": [
    "create_plot(ny, 'positiveIncrease')"
   ]
  },
  {
   "cell_type": "code",
   "execution_count": 12,
   "metadata": {
    "execution": {
     "iopub.execute_input": "2020-12-09T09:26:18.822445Z",
     "iopub.status.busy": "2020-12-09T09:26:18.819430Z",
     "iopub.status.idle": "2020-12-09T09:26:18.902379Z",
     "shell.execute_reply": "2020-12-09T09:26:18.901882Z"
    },
    "papermill": {
     "duration": 0.099987,
     "end_time": "2020-12-09T09:26:18.902480",
     "exception": false,
     "start_time": "2020-12-09T09:26:18.802493",
     "status": "completed"
    },
    "tags": []
   },
   "outputs": [
    {
     "data": {
      "text/html": [
       "\n",
       "<div id=\"altair-viz-79cfdb99b3da448f817dc4ccbe5215b5\"></div>\n",
       "<script type=\"text/javascript\">\n",
       "  (function(spec, embedOpt){\n",
       "    let outputDiv = document.currentScript.previousElementSibling;\n",
       "    if (outputDiv.id !== \"altair-viz-79cfdb99b3da448f817dc4ccbe5215b5\") {\n",
       "      outputDiv = document.getElementById(\"altair-viz-79cfdb99b3da448f817dc4ccbe5215b5\");\n",
       "    }\n",
       "    const paths = {\n",
       "      \"vega\": \"https://cdn.jsdelivr.net/npm//vega@5?noext\",\n",
       "      \"vega-lib\": \"https://cdn.jsdelivr.net/npm//vega-lib?noext\",\n",
       "      \"vega-lite\": \"https://cdn.jsdelivr.net/npm//vega-lite@4.8.1?noext\",\n",
       "      \"vega-embed\": \"https://cdn.jsdelivr.net/npm//vega-embed@6?noext\",\n",
       "    };\n",
       "\n",
       "    function loadScript(lib) {\n",
       "      return new Promise(function(resolve, reject) {\n",
       "        var s = document.createElement('script');\n",
       "        s.src = paths[lib];\n",
       "        s.async = true;\n",
       "        s.onload = () => resolve(paths[lib]);\n",
       "        s.onerror = () => reject(`Error loading script: ${paths[lib]}`);\n",
       "        document.getElementsByTagName(\"head\")[0].appendChild(s);\n",
       "      });\n",
       "    }\n",
       "\n",
       "    function showError(err) {\n",
       "      outputDiv.innerHTML = `<div class=\"error\" style=\"color:red;\">${err}</div>`;\n",
       "      throw err;\n",
       "    }\n",
       "\n",
       "    function displayChart(vegaEmbed) {\n",
       "      vegaEmbed(outputDiv, spec, embedOpt)\n",
       "        .catch(err => showError(`Javascript Error: ${err.message}<br>This usually means there's a typo in your chart specification. See the javascript console for the full traceback.`));\n",
       "    }\n",
       "\n",
       "    if(typeof define === \"function\" && define.amd) {\n",
       "      requirejs.config({paths});\n",
       "      require([\"vega-embed\"], displayChart, err => showError(`Error loading script: ${err.message}`));\n",
       "    } else if (typeof vegaEmbed === \"function\") {\n",
       "      displayChart(vegaEmbed);\n",
       "    } else {\n",
       "      loadScript(\"vega\")\n",
       "        .then(() => loadScript(\"vega-lite\"))\n",
       "        .then(() => loadScript(\"vega-embed\"))\n",
       "        .catch(showError)\n",
       "        .then(() => displayChart(vegaEmbed));\n",
       "    }\n",
       "  })({\"config\": {\"view\": {\"continuousWidth\": 400, \"continuousHeight\": 300}}, \"layer\": [{\"layer\": [{\"mark\": {\"type\": \"point\", \"size\": 75}, \"encoding\": {\"tooltip\": [{\"type\": \"temporal\", \"field\": \"date\"}, {\"type\": \"quantitative\", \"field\": \"positiveRate\"}, {\"type\": \"quantitative\", \"field\": \"sma7d\"}], \"x\": {\"type\": \"temporal\", \"field\": \"date\"}, \"y\": {\"type\": \"quantitative\", \"field\": \"positiveRate\"}}, \"selection\": {\"selector010\": {\"type\": \"interval\", \"bind\": \"scales\", \"encodings\": [\"x\", \"y\"]}}}, {\"mark\": {\"type\": \"line\", \"color\": \"purple\"}, \"encoding\": {\"x\": {\"type\": \"temporal\", \"field\": \"date\"}, \"y\": {\"type\": \"quantitative\", \"field\": \"sma7d\"}}}]}, {\"mark\": {\"type\": \"rule\", \"color\": \"#aaa\"}, \"encoding\": {\"x\": {\"type\": \"temporal\", \"field\": \"date\"}}, \"transform\": [{\"filter\": {\"selection\": \"selector009\"}}]}, {\"mark\": \"circle\", \"encoding\": {\"opacity\": {\"condition\": {\"value\": 1, \"selection\": \"selector009\"}, \"value\": 0}, \"tooltip\": [{\"type\": \"temporal\", \"field\": \"date\"}, {\"type\": \"quantitative\", \"field\": \"positiveRate\"}, {\"type\": \"quantitative\", \"field\": \"sma7d\"}], \"x\": {\"type\": \"temporal\", \"field\": \"date\"}, \"y\": {\"type\": \"quantitative\", \"field\": \"positiveRate\"}}, \"selection\": {\"selector009\": {\"type\": \"single\", \"encodings\": [\"x\"], \"on\": \"mouseover\", \"nearest\": true, \"empty\": \"none\"}}}, {\"mark\": {\"type\": \"text\", \"align\": \"left\", \"dx\": 5, \"dy\": -5, \"stroke\": \"white\", \"strokeWidth\": 2}, \"encoding\": {\"text\": {\"type\": \"quantitative\", \"field\": \"positiveRate\"}, \"tooltip\": [{\"type\": \"temporal\", \"field\": \"date\"}, {\"type\": \"quantitative\", \"field\": \"positiveRate\"}, {\"type\": \"quantitative\", \"field\": \"sma7d\"}], \"x\": {\"type\": \"temporal\", \"field\": \"date\"}, \"y\": {\"type\": \"quantitative\", \"field\": \"positiveRate\"}}, \"transform\": [{\"filter\": {\"selection\": \"selector009\"}}]}, {\"mark\": {\"type\": \"text\", \"align\": \"left\", \"dx\": 5, \"dy\": -5}, \"encoding\": {\"text\": {\"type\": \"quantitative\", \"field\": \"positiveRate\"}, \"tooltip\": [{\"type\": \"temporal\", \"field\": \"date\"}, {\"type\": \"quantitative\", \"field\": \"positiveRate\"}, {\"type\": \"quantitative\", \"field\": \"sma7d\"}], \"x\": {\"type\": \"temporal\", \"field\": \"date\"}, \"y\": {\"type\": \"quantitative\", \"field\": \"positiveRate\"}}, \"transform\": [{\"filter\": {\"selection\": \"selector009\"}}]}], \"data\": {\"name\": \"data-61a0fd7844747127be25f14bb2d8b8cc\"}, \"height\": 400, \"title\": \"New York: positiveRate\", \"width\": 500, \"$schema\": \"https://vega.github.io/schema/vega-lite/v4.8.1.json\", \"datasets\": {\"data-61a0fd7844747127be25f14bb2d8b8cc\": [{\"date\": \"2020-10-15T00:00:00\", \"totalTestResultsIncrease\": 133212.0, \"positiveIncrease\": 1460.0, \"death\": 25618.0, \"deathIncrease\": 13.0, \"positiveRate\": 0.011, \"state\": \"New York\", \"sma7d\": 0.011}, {\"date\": \"2020-10-16T00:00:00\", \"totalTestResultsIncrease\": 136039.0, \"positiveIncrease\": 1707.0, \"death\": 25628.0, \"deathIncrease\": 10.0, \"positiveRate\": 0.013, \"state\": \"New York\", \"sma7d\": 0.012}, {\"date\": \"2020-10-17T00:00:00\", \"totalTestResultsIncrease\": 159972.0, \"positiveIncrease\": 1784.0, \"death\": 25637.0, \"deathIncrease\": 9.0, \"positiveRate\": 0.011, \"state\": \"New York\", \"sma7d\": 0.012}, {\"date\": \"2020-10-18T00:00:00\", \"totalTestResultsIncrease\": 128763.0, \"positiveIncrease\": 1390.0, \"death\": 25644.0, \"deathIncrease\": 7.0, \"positiveRate\": 0.011, \"state\": \"New York\", \"sma7d\": 0.012}, {\"date\": \"2020-10-19T00:00:00\", \"totalTestResultsIncrease\": 82009.0, \"positiveIncrease\": 998.0, \"death\": 25659.0, \"deathIncrease\": 15.0, \"positiveRate\": 0.012, \"state\": \"New York\", \"sma7d\": 0.012}, {\"date\": \"2020-10-20T00:00:00\", \"totalTestResultsIncrease\": 90540.0, \"positiveIncrease\": 1201.0, \"death\": 25672.0, \"deathIncrease\": 13.0, \"positiveRate\": 0.013, \"state\": \"New York\", \"sma7d\": 0.012}, {\"date\": \"2020-10-21T00:00:00\", \"totalTestResultsIncrease\": 124789.0, \"positiveIncrease\": 2026.0, \"death\": 25679.0, \"deathIncrease\": 7.0, \"positiveRate\": 0.016, \"state\": \"New York\", \"sma7d\": 0.012}, {\"date\": \"2020-10-22T00:00:00\", \"totalTestResultsIncrease\": 135341.0, \"positiveIncrease\": 1628.0, \"death\": 25694.0, \"deathIncrease\": 15.0, \"positiveRate\": 0.012, \"state\": \"New York\", \"sma7d\": 0.013}, {\"date\": \"2020-10-23T00:00:00\", \"totalTestResultsIncrease\": 141508.0, \"positiveIncrease\": 1637.0, \"death\": 25705.0, \"deathIncrease\": 11.0, \"positiveRate\": 0.012, \"state\": \"New York\", \"sma7d\": 0.012}, {\"date\": \"2020-10-24T00:00:00\", \"totalTestResultsIncrease\": 156940.0, \"positiveIncrease\": 2061.0, \"death\": 25718.0, \"deathIncrease\": 13.0, \"positiveRate\": 0.013, \"state\": \"New York\", \"sma7d\": 0.013}, {\"date\": \"2020-10-25T00:00:00\", \"totalTestResultsIncrease\": 120830.0, \"positiveIncrease\": 1632.0, \"death\": 25730.0, \"deathIncrease\": 12.0, \"positiveRate\": 0.014, \"state\": \"New York\", \"sma7d\": 0.013}, {\"date\": \"2020-10-26T00:00:00\", \"totalTestResultsIncrease\": 82117.0, \"positiveIncrease\": 1191.0, \"death\": 25742.0, \"deathIncrease\": 12.0, \"positiveRate\": 0.015, \"state\": \"New York\", \"sma7d\": 0.014}, {\"date\": \"2020-10-27T00:00:00\", \"totalTestResultsIncrease\": 111618.0, \"positiveIncrease\": 1991.0, \"death\": 25758.0, \"deathIncrease\": 16.0, \"positiveRate\": 0.018, \"state\": \"New York\", \"sma7d\": 0.014}, {\"date\": \"2020-10-28T00:00:00\", \"totalTestResultsIncrease\": 129660.0, \"positiveIncrease\": 2031.0, \"death\": 25773.0, \"deathIncrease\": 15.0, \"positiveRate\": 0.016, \"state\": \"New York\", \"sma7d\": 0.014}, {\"date\": \"2020-10-29T00:00:00\", \"totalTestResultsIncrease\": 168353.0, \"positiveIncrease\": 2499.0, \"death\": 25792.0, \"deathIncrease\": 19.0, \"positiveRate\": 0.015, \"state\": \"New York\", \"sma7d\": 0.015}, {\"date\": \"2020-10-30T00:00:00\", \"totalTestResultsIncrease\": 146885.0, \"positiveIncrease\": 2255.0, \"death\": 25804.0, \"deathIncrease\": 12.0, \"positiveRate\": 0.015, \"state\": \"New York\", \"sma7d\": 0.015}, {\"date\": \"2020-10-31T00:00:00\", \"totalTestResultsIncrease\": 136962.0, \"positiveIncrease\": 2049.0, \"death\": 25807.0, \"deathIncrease\": 3.0, \"positiveRate\": 0.015, \"state\": \"New York\", \"sma7d\": 0.015}, {\"date\": \"2020-11-01T00:00:00\", \"totalTestResultsIncrease\": 148935.0, \"positiveIncrease\": 2255.0, \"death\": 25824.0, \"deathIncrease\": 17.0, \"positiveRate\": 0.015, \"state\": \"New York\", \"sma7d\": 0.016}, {\"date\": \"2020-11-02T00:00:00\", \"totalTestResultsIncrease\": 96101.0, \"positiveIncrease\": 1633.0, \"death\": 25838.0, \"deathIncrease\": 14.0, \"positiveRate\": 0.017, \"state\": \"New York\", \"sma7d\": 0.016}, {\"date\": \"2020-11-03T00:00:00\", \"totalTestResultsIncrease\": 127869.0, \"positiveIncrease\": 2321.0, \"death\": 25853.0, \"deathIncrease\": 15.0, \"positiveRate\": 0.018, \"state\": \"New York\", \"sma7d\": 0.016}, {\"date\": \"2020-11-04T00:00:00\", \"totalTestResultsIncrease\": 133534.0, \"positiveIncrease\": 2126.0, \"death\": 25868.0, \"deathIncrease\": 15.0, \"positiveRate\": 0.016, \"state\": \"New York\", \"sma7d\": 0.016}, {\"date\": \"2020-11-05T00:00:00\", \"totalTestResultsIncrease\": 161019.0, \"positiveIncrease\": 2997.0, \"death\": 25892.0, \"deathIncrease\": 24.0, \"positiveRate\": 0.019, \"state\": \"New York\", \"sma7d\": 0.016}, {\"date\": \"2020-11-06T00:00:00\", \"totalTestResultsIncrease\": 160705.0, \"positiveIncrease\": 3209.0, \"death\": 25910.0, \"deathIncrease\": 18.0, \"positiveRate\": 0.02, \"state\": \"New York\", \"sma7d\": 0.017}, {\"date\": \"2020-11-07T00:00:00\", \"totalTestResultsIncrease\": 163291.0, \"positiveIncrease\": 3587.0, \"death\": 25928.0, \"deathIncrease\": 18.0, \"positiveRate\": 0.022, \"state\": \"New York\", \"sma7d\": 0.018}, {\"date\": \"2020-11-08T00:00:00\", \"totalTestResultsIncrease\": 145642.0, \"positiveIncrease\": 3428.0, \"death\": 25947.0, \"deathIncrease\": 19.0, \"positiveRate\": 0.024, \"state\": \"New York\", \"sma7d\": 0.019}, {\"date\": \"2020-11-09T00:00:00\", \"totalTestResultsIncrease\": 111416.0, \"positiveIncrease\": 3144.0, \"death\": 25973.0, \"deathIncrease\": 26.0, \"positiveRate\": 0.028, \"state\": \"New York\", \"sma7d\": 0.021}, {\"date\": \"2020-11-10T00:00:00\", \"totalTestResultsIncrease\": 128036.0, \"positiveIncrease\": 3965.0, \"death\": 26005.0, \"deathIncrease\": 32.0, \"positiveRate\": 0.031, \"state\": \"New York\", \"sma7d\": 0.023}, {\"date\": \"2020-11-11T00:00:00\", \"totalTestResultsIncrease\": 164300.0, \"positiveIncrease\": 4820.0, \"death\": 26026.0, \"deathIncrease\": 21.0, \"positiveRate\": 0.029, \"state\": \"New York\", \"sma7d\": 0.025}, {\"date\": \"2020-11-12T00:00:00\", \"totalTestResultsIncrease\": 162627.0, \"positiveIncrease\": 4797.0, \"death\": 26055.0, \"deathIncrease\": 29.0, \"positiveRate\": 0.029, \"state\": \"New York\", \"sma7d\": 0.026}, {\"date\": \"2020-11-13T00:00:00\", \"totalTestResultsIncrease\": 203721.0, \"positiveIncrease\": 5401.0, \"death\": 26079.0, \"deathIncrease\": 24.0, \"positiveRate\": 0.027, \"state\": \"New York\", \"sma7d\": 0.027}, {\"date\": \"2020-11-14T00:00:00\", \"totalTestResultsIncrease\": 184162.0, \"positiveIncrease\": 5388.0, \"death\": 26103.0, \"deathIncrease\": 24.0, \"positiveRate\": 0.029, \"state\": \"New York\", \"sma7d\": 0.028}, {\"date\": \"2020-11-15T00:00:00\", \"totalTestResultsIncrease\": 133202.0, \"positiveIncrease\": 3649.0, \"death\": 26133.0, \"deathIncrease\": 30.0, \"positiveRate\": 0.027, \"state\": \"New York\", \"sma7d\": 0.029}, {\"date\": \"2020-11-16T00:00:00\", \"totalTestResultsIncrease\": 124565.0, \"positiveIncrease\": 3490.0, \"death\": 26159.0, \"deathIncrease\": 26.0, \"positiveRate\": 0.028, \"state\": \"New York\", \"sma7d\": 0.029}, {\"date\": \"2020-11-17T00:00:00\", \"totalTestResultsIncrease\": 159852.0, \"positiveIncrease\": 5088.0, \"death\": 26189.0, \"deathIncrease\": 30.0, \"positiveRate\": 0.032, \"state\": \"New York\", \"sma7d\": 0.029}, {\"date\": \"2020-11-18T00:00:00\", \"totalTestResultsIncrease\": 154434.0, \"positiveIncrease\": 5294.0, \"death\": 26225.0, \"deathIncrease\": 36.0, \"positiveRate\": 0.034, \"state\": \"New York\", \"sma7d\": 0.029}, {\"date\": \"2020-11-19T00:00:00\", \"totalTestResultsIncrease\": 195239.0, \"positiveIncrease\": 5310.0, \"death\": 26257.0, \"deathIncrease\": 32.0, \"positiveRate\": 0.027, \"state\": \"New York\", \"sma7d\": 0.029}, {\"date\": \"2020-11-20T00:00:00\", \"totalTestResultsIncrease\": 205466.0, \"positiveIncrease\": 5468.0, \"death\": 26292.0, \"deathIncrease\": 35.0, \"positiveRate\": 0.027, \"state\": \"New York\", \"sma7d\": 0.029}, {\"date\": \"2020-11-21T00:00:00\", \"totalTestResultsIncrease\": 207907.0, \"positiveIncrease\": 5972.0, \"death\": 26326.0, \"deathIncrease\": 34.0, \"positiveRate\": 0.029, \"state\": \"New York\", \"sma7d\": 0.029}, {\"date\": \"2020-11-22T00:00:00\", \"totalTestResultsIncrease\": 196610.0, \"positiveIncrease\": 5392.0, \"death\": 26357.0, \"deathIncrease\": 31.0, \"positiveRate\": 0.027, \"state\": \"New York\", \"sma7d\": 0.029}, {\"date\": \"2020-11-23T00:00:00\", \"totalTestResultsIncrease\": 191489.0, \"positiveIncrease\": 5906.0, \"death\": 26390.0, \"deathIncrease\": 33.0, \"positiveRate\": 0.031, \"state\": \"New York\", \"sma7d\": 0.03}, {\"date\": \"2020-11-24T00:00:00\", \"totalTestResultsIncrease\": 164761.0, \"positiveIncrease\": 4881.0, \"death\": 26441.0, \"deathIncrease\": 51.0, \"positiveRate\": 0.03, \"state\": \"New York\", \"sma7d\": 0.029}, {\"date\": \"2020-11-25T00:00:00\", \"totalTestResultsIncrease\": 173085.0, \"positiveIncrease\": 6265.0, \"death\": 26482.0, \"deathIncrease\": 41.0, \"positiveRate\": 0.036, \"state\": \"New York\", \"sma7d\": 0.03}, {\"date\": \"2020-11-26T00:00:00\", \"totalTestResultsIncrease\": 217721.0, \"positiveIncrease\": 6933.0, \"death\": 26549.0, \"deathIncrease\": 67.0, \"positiveRate\": 0.032, \"state\": \"New York\", \"sma7d\": 0.03}, {\"date\": \"2020-11-27T00:00:00\", \"totalTestResultsIncrease\": 219442.0, \"positiveIncrease\": 8176.0, \"death\": 26588.0, \"deathIncrease\": 39.0, \"positiveRate\": 0.037, \"state\": \"New York\", \"sma7d\": 0.032}, {\"date\": \"2020-11-28T00:00:00\", \"totalTestResultsIncrease\": 152355.0, \"positiveIncrease\": 6063.0, \"death\": 26632.0, \"deathIncrease\": 44.0, \"positiveRate\": 0.04, \"state\": \"New York\", \"sma7d\": 0.033}, {\"date\": \"2020-11-29T00:00:00\", \"totalTestResultsIncrease\": 157320.0, \"positiveIncrease\": 6723.0, \"death\": 26690.0, \"deathIncrease\": 58.0, \"positiveRate\": 0.043, \"state\": \"New York\", \"sma7d\": 0.036}, {\"date\": \"2020-11-30T00:00:00\", \"totalTestResultsIncrease\": 148974.0, \"positiveIncrease\": 6819.0, \"death\": 26747.0, \"deathIncrease\": 57.0, \"positiveRate\": 0.046, \"state\": \"New York\", \"sma7d\": 0.038}, {\"date\": \"2020-12-01T00:00:00\", \"totalTestResultsIncrease\": 146675.0, \"positiveIncrease\": 7285.0, \"death\": 26816.0, \"deathIncrease\": 69.0, \"positiveRate\": 0.05, \"state\": \"New York\", \"sma7d\": 0.041}, {\"date\": \"2020-12-02T00:00:00\", \"totalTestResultsIncrease\": 193551.0, \"positiveIncrease\": 8973.0, \"death\": 26889.0, \"deathIncrease\": 73.0, \"positiveRate\": 0.046, \"state\": \"New York\", \"sma7d\": 0.042}, {\"date\": \"2020-12-03T00:00:00\", \"totalTestResultsIncrease\": 203440.0, \"positiveIncrease\": 9855.0, \"death\": 26955.0, \"deathIncrease\": 66.0, \"positiveRate\": 0.048, \"state\": \"New York\", \"sma7d\": 0.044}, {\"date\": \"2020-12-04T00:00:00\", \"totalTestResultsIncrease\": 208297.0, \"positiveIncrease\": 11271.0, \"death\": 27017.0, \"deathIncrease\": 62.0, \"positiveRate\": 0.054, \"state\": \"New York\", \"sma7d\": 0.047}, {\"date\": \"2020-12-05T00:00:00\", \"totalTestResultsIncrease\": 215401.0, \"positiveIncrease\": 10761.0, \"death\": 27089.0, \"deathIncrease\": 72.0, \"positiveRate\": 0.05, \"state\": \"New York\", \"sma7d\": 0.048}, {\"date\": \"2020-12-06T00:00:00\", \"totalTestResultsIncrease\": 205832.0, \"positiveIncrease\": 9702.0, \"death\": 27149.0, \"deathIncrease\": 60.0, \"positiveRate\": 0.047, \"state\": \"New York\", \"sma7d\": 0.049}, {\"date\": \"2020-12-07T00:00:00\", \"totalTestResultsIncrease\": 152287.0, \"positiveIncrease\": 7302.0, \"death\": 27232.0, \"deathIncrease\": 83.0, \"positiveRate\": 0.048, \"state\": \"New York\", \"sma7d\": 0.049}, {\"date\": \"2020-12-08T00:00:00\", \"totalTestResultsIncrease\": 162464.0, \"positiveIncrease\": 9335.0, \"death\": 27307.0, \"deathIncrease\": 75.0, \"positiveRate\": 0.057, \"state\": \"New York\", \"sma7d\": 0.05}]}}, {\"mode\": \"vega-lite\"});\n",
       "</script>"
      ],
      "text/plain": [
       "alt.LayerChart(...)"
      ]
     },
     "execution_count": 12,
     "metadata": {},
     "output_type": "execute_result"
    }
   ],
   "source": [
    "create_plot(ny, 'positiveRate')"
   ]
  },
  {
   "cell_type": "code",
   "execution_count": 13,
   "metadata": {
    "execution": {
     "iopub.execute_input": "2020-12-09T09:26:18.936586Z",
     "iopub.status.busy": "2020-12-09T09:26:18.936053Z",
     "iopub.status.idle": "2020-12-09T09:26:19.023327Z",
     "shell.execute_reply": "2020-12-09T09:26:19.023782Z"
    },
    "papermill": {
     "duration": 0.106837,
     "end_time": "2020-12-09T09:26:19.023930",
     "exception": false,
     "start_time": "2020-12-09T09:26:18.917093",
     "status": "completed"
    },
    "tags": []
   },
   "outputs": [
    {
     "data": {
      "text/html": [
       "\n",
       "<div id=\"altair-viz-0ce4a058b81a4816a220c4ff74987319\"></div>\n",
       "<script type=\"text/javascript\">\n",
       "  (function(spec, embedOpt){\n",
       "    let outputDiv = document.currentScript.previousElementSibling;\n",
       "    if (outputDiv.id !== \"altair-viz-0ce4a058b81a4816a220c4ff74987319\") {\n",
       "      outputDiv = document.getElementById(\"altair-viz-0ce4a058b81a4816a220c4ff74987319\");\n",
       "    }\n",
       "    const paths = {\n",
       "      \"vega\": \"https://cdn.jsdelivr.net/npm//vega@5?noext\",\n",
       "      \"vega-lib\": \"https://cdn.jsdelivr.net/npm//vega-lib?noext\",\n",
       "      \"vega-lite\": \"https://cdn.jsdelivr.net/npm//vega-lite@4.8.1?noext\",\n",
       "      \"vega-embed\": \"https://cdn.jsdelivr.net/npm//vega-embed@6?noext\",\n",
       "    };\n",
       "\n",
       "    function loadScript(lib) {\n",
       "      return new Promise(function(resolve, reject) {\n",
       "        var s = document.createElement('script');\n",
       "        s.src = paths[lib];\n",
       "        s.async = true;\n",
       "        s.onload = () => resolve(paths[lib]);\n",
       "        s.onerror = () => reject(`Error loading script: ${paths[lib]}`);\n",
       "        document.getElementsByTagName(\"head\")[0].appendChild(s);\n",
       "      });\n",
       "    }\n",
       "\n",
       "    function showError(err) {\n",
       "      outputDiv.innerHTML = `<div class=\"error\" style=\"color:red;\">${err}</div>`;\n",
       "      throw err;\n",
       "    }\n",
       "\n",
       "    function displayChart(vegaEmbed) {\n",
       "      vegaEmbed(outputDiv, spec, embedOpt)\n",
       "        .catch(err => showError(`Javascript Error: ${err.message}<br>This usually means there's a typo in your chart specification. See the javascript console for the full traceback.`));\n",
       "    }\n",
       "\n",
       "    if(typeof define === \"function\" && define.amd) {\n",
       "      requirejs.config({paths});\n",
       "      require([\"vega-embed\"], displayChart, err => showError(`Error loading script: ${err.message}`));\n",
       "    } else if (typeof vegaEmbed === \"function\") {\n",
       "      displayChart(vegaEmbed);\n",
       "    } else {\n",
       "      loadScript(\"vega\")\n",
       "        .then(() => loadScript(\"vega-lite\"))\n",
       "        .then(() => loadScript(\"vega-embed\"))\n",
       "        .catch(showError)\n",
       "        .then(() => displayChart(vegaEmbed));\n",
       "    }\n",
       "  })({\"config\": {\"view\": {\"continuousWidth\": 400, \"continuousHeight\": 300}}, \"layer\": [{\"layer\": [{\"mark\": {\"type\": \"point\", \"size\": 75}, \"encoding\": {\"tooltip\": [{\"type\": \"temporal\", \"field\": \"date\"}, {\"type\": \"quantitative\", \"field\": \"deathIncrease\"}, {\"type\": \"quantitative\", \"field\": \"sma7d\"}], \"x\": {\"type\": \"temporal\", \"field\": \"date\"}, \"y\": {\"type\": \"quantitative\", \"field\": \"deathIncrease\"}}, \"selection\": {\"selector012\": {\"type\": \"interval\", \"bind\": \"scales\", \"encodings\": [\"x\", \"y\"]}}}, {\"mark\": {\"type\": \"line\", \"color\": \"purple\"}, \"encoding\": {\"x\": {\"type\": \"temporal\", \"field\": \"date\"}, \"y\": {\"type\": \"quantitative\", \"field\": \"sma7d\"}}}]}, {\"mark\": {\"type\": \"rule\", \"color\": \"#aaa\"}, \"encoding\": {\"x\": {\"type\": \"temporal\", \"field\": \"date\"}}, \"transform\": [{\"filter\": {\"selection\": \"selector011\"}}]}, {\"mark\": \"circle\", \"encoding\": {\"opacity\": {\"condition\": {\"value\": 1, \"selection\": \"selector011\"}, \"value\": 0}, \"tooltip\": [{\"type\": \"temporal\", \"field\": \"date\"}, {\"type\": \"quantitative\", \"field\": \"deathIncrease\"}, {\"type\": \"quantitative\", \"field\": \"sma7d\"}], \"x\": {\"type\": \"temporal\", \"field\": \"date\"}, \"y\": {\"type\": \"quantitative\", \"field\": \"deathIncrease\"}}, \"selection\": {\"selector011\": {\"type\": \"single\", \"encodings\": [\"x\"], \"on\": \"mouseover\", \"nearest\": true, \"empty\": \"none\"}}}, {\"mark\": {\"type\": \"text\", \"align\": \"left\", \"dx\": 5, \"dy\": -5, \"stroke\": \"white\", \"strokeWidth\": 2}, \"encoding\": {\"text\": {\"type\": \"quantitative\", \"field\": \"deathIncrease\"}, \"tooltip\": [{\"type\": \"temporal\", \"field\": \"date\"}, {\"type\": \"quantitative\", \"field\": \"deathIncrease\"}, {\"type\": \"quantitative\", \"field\": \"sma7d\"}], \"x\": {\"type\": \"temporal\", \"field\": \"date\"}, \"y\": {\"type\": \"quantitative\", \"field\": \"deathIncrease\"}}, \"transform\": [{\"filter\": {\"selection\": \"selector011\"}}]}, {\"mark\": {\"type\": \"text\", \"align\": \"left\", \"dx\": 5, \"dy\": -5}, \"encoding\": {\"text\": {\"type\": \"quantitative\", \"field\": \"deathIncrease\"}, \"tooltip\": [{\"type\": \"temporal\", \"field\": \"date\"}, {\"type\": \"quantitative\", \"field\": \"deathIncrease\"}, {\"type\": \"quantitative\", \"field\": \"sma7d\"}], \"x\": {\"type\": \"temporal\", \"field\": \"date\"}, \"y\": {\"type\": \"quantitative\", \"field\": \"deathIncrease\"}}, \"transform\": [{\"filter\": {\"selection\": \"selector011\"}}]}], \"data\": {\"name\": \"data-a983243808a48b65d34ffdf413ad666a\"}, \"height\": 400, \"title\": \"New York: deathIncrease\", \"width\": 500, \"$schema\": \"https://vega.github.io/schema/vega-lite/v4.8.1.json\", \"datasets\": {\"data-a983243808a48b65d34ffdf413ad666a\": [{\"date\": \"2020-10-15T00:00:00\", \"totalTestResultsIncrease\": 133212.0, \"positiveIncrease\": 1460.0, \"death\": 25618.0, \"deathIncrease\": 13.0, \"positiveRate\": 0.011, \"state\": \"New York\", \"sma7d\": 9.0}, {\"date\": \"2020-10-16T00:00:00\", \"totalTestResultsIncrease\": 136039.0, \"positiveIncrease\": 1707.0, \"death\": 25628.0, \"deathIncrease\": 10.0, \"positiveRate\": 0.013, \"state\": \"New York\", \"sma7d\": 9.571}, {\"date\": \"2020-10-17T00:00:00\", \"totalTestResultsIncrease\": 159972.0, \"positiveIncrease\": 1784.0, \"death\": 25637.0, \"deathIncrease\": 9.0, \"positiveRate\": 0.011, \"state\": \"New York\", \"sma7d\": 9.714}, {\"date\": \"2020-10-18T00:00:00\", \"totalTestResultsIncrease\": 128763.0, \"positiveIncrease\": 1390.0, \"death\": 25644.0, \"deathIncrease\": 7.0, \"positiveRate\": 0.011, \"state\": \"New York\", \"sma7d\": 10.0}, {\"date\": \"2020-10-19T00:00:00\", \"totalTestResultsIncrease\": 82009.0, \"positiveIncrease\": 998.0, \"death\": 25659.0, \"deathIncrease\": 15.0, \"positiveRate\": 0.012, \"state\": \"New York\", \"sma7d\": 10.286}, {\"date\": \"2020-10-20T00:00:00\", \"totalTestResultsIncrease\": 90540.0, \"positiveIncrease\": 1201.0, \"death\": 25672.0, \"deathIncrease\": 13.0, \"positiveRate\": 0.013, \"state\": \"New York\", \"sma7d\": 10.571}, {\"date\": \"2020-10-21T00:00:00\", \"totalTestResultsIncrease\": 124789.0, \"positiveIncrease\": 2026.0, \"death\": 25679.0, \"deathIncrease\": 7.0, \"positiveRate\": 0.016, \"state\": \"New York\", \"sma7d\": 10.571}, {\"date\": \"2020-10-22T00:00:00\", \"totalTestResultsIncrease\": 135341.0, \"positiveIncrease\": 1628.0, \"death\": 25694.0, \"deathIncrease\": 15.0, \"positiveRate\": 0.012, \"state\": \"New York\", \"sma7d\": 10.857}, {\"date\": \"2020-10-23T00:00:00\", \"totalTestResultsIncrease\": 141508.0, \"positiveIncrease\": 1637.0, \"death\": 25705.0, \"deathIncrease\": 11.0, \"positiveRate\": 0.012, \"state\": \"New York\", \"sma7d\": 11.0}, {\"date\": \"2020-10-24T00:00:00\", \"totalTestResultsIncrease\": 156940.0, \"positiveIncrease\": 2061.0, \"death\": 25718.0, \"deathIncrease\": 13.0, \"positiveRate\": 0.013, \"state\": \"New York\", \"sma7d\": 11.571}, {\"date\": \"2020-10-25T00:00:00\", \"totalTestResultsIncrease\": 120830.0, \"positiveIncrease\": 1632.0, \"death\": 25730.0, \"deathIncrease\": 12.0, \"positiveRate\": 0.014, \"state\": \"New York\", \"sma7d\": 12.286}, {\"date\": \"2020-10-26T00:00:00\", \"totalTestResultsIncrease\": 82117.0, \"positiveIncrease\": 1191.0, \"death\": 25742.0, \"deathIncrease\": 12.0, \"positiveRate\": 0.015, \"state\": \"New York\", \"sma7d\": 11.857}, {\"date\": \"2020-10-27T00:00:00\", \"totalTestResultsIncrease\": 111618.0, \"positiveIncrease\": 1991.0, \"death\": 25758.0, \"deathIncrease\": 16.0, \"positiveRate\": 0.018, \"state\": \"New York\", \"sma7d\": 12.286}, {\"date\": \"2020-10-28T00:00:00\", \"totalTestResultsIncrease\": 129660.0, \"positiveIncrease\": 2031.0, \"death\": 25773.0, \"deathIncrease\": 15.0, \"positiveRate\": 0.016, \"state\": \"New York\", \"sma7d\": 13.429}, {\"date\": \"2020-10-29T00:00:00\", \"totalTestResultsIncrease\": 168353.0, \"positiveIncrease\": 2499.0, \"death\": 25792.0, \"deathIncrease\": 19.0, \"positiveRate\": 0.015, \"state\": \"New York\", \"sma7d\": 14.0}, {\"date\": \"2020-10-30T00:00:00\", \"totalTestResultsIncrease\": 146885.0, \"positiveIncrease\": 2255.0, \"death\": 25804.0, \"deathIncrease\": 12.0, \"positiveRate\": 0.015, \"state\": \"New York\", \"sma7d\": 14.143}, {\"date\": \"2020-10-31T00:00:00\", \"totalTestResultsIncrease\": 136962.0, \"positiveIncrease\": 2049.0, \"death\": 25807.0, \"deathIncrease\": 3.0, \"positiveRate\": 0.015, \"state\": \"New York\", \"sma7d\": 12.714}, {\"date\": \"2020-11-01T00:00:00\", \"totalTestResultsIncrease\": 148935.0, \"positiveIncrease\": 2255.0, \"death\": 25824.0, \"deathIncrease\": 17.0, \"positiveRate\": 0.015, \"state\": \"New York\", \"sma7d\": 13.429}, {\"date\": \"2020-11-02T00:00:00\", \"totalTestResultsIncrease\": 96101.0, \"positiveIncrease\": 1633.0, \"death\": 25838.0, \"deathIncrease\": 14.0, \"positiveRate\": 0.017, \"state\": \"New York\", \"sma7d\": 13.714}, {\"date\": \"2020-11-03T00:00:00\", \"totalTestResultsIncrease\": 127869.0, \"positiveIncrease\": 2321.0, \"death\": 25853.0, \"deathIncrease\": 15.0, \"positiveRate\": 0.018, \"state\": \"New York\", \"sma7d\": 13.571}, {\"date\": \"2020-11-04T00:00:00\", \"totalTestResultsIncrease\": 133534.0, \"positiveIncrease\": 2126.0, \"death\": 25868.0, \"deathIncrease\": 15.0, \"positiveRate\": 0.016, \"state\": \"New York\", \"sma7d\": 13.571}, {\"date\": \"2020-11-05T00:00:00\", \"totalTestResultsIncrease\": 161019.0, \"positiveIncrease\": 2997.0, \"death\": 25892.0, \"deathIncrease\": 24.0, \"positiveRate\": 0.019, \"state\": \"New York\", \"sma7d\": 14.286}, {\"date\": \"2020-11-06T00:00:00\", \"totalTestResultsIncrease\": 160705.0, \"positiveIncrease\": 3209.0, \"death\": 25910.0, \"deathIncrease\": 18.0, \"positiveRate\": 0.02, \"state\": \"New York\", \"sma7d\": 15.143}, {\"date\": \"2020-11-07T00:00:00\", \"totalTestResultsIncrease\": 163291.0, \"positiveIncrease\": 3587.0, \"death\": 25928.0, \"deathIncrease\": 18.0, \"positiveRate\": 0.022, \"state\": \"New York\", \"sma7d\": 17.286}, {\"date\": \"2020-11-08T00:00:00\", \"totalTestResultsIncrease\": 145642.0, \"positiveIncrease\": 3428.0, \"death\": 25947.0, \"deathIncrease\": 19.0, \"positiveRate\": 0.024, \"state\": \"New York\", \"sma7d\": 17.571}, {\"date\": \"2020-11-09T00:00:00\", \"totalTestResultsIncrease\": 111416.0, \"positiveIncrease\": 3144.0, \"death\": 25973.0, \"deathIncrease\": 26.0, \"positiveRate\": 0.028, \"state\": \"New York\", \"sma7d\": 19.286}, {\"date\": \"2020-11-10T00:00:00\", \"totalTestResultsIncrease\": 128036.0, \"positiveIncrease\": 3965.0, \"death\": 26005.0, \"deathIncrease\": 32.0, \"positiveRate\": 0.031, \"state\": \"New York\", \"sma7d\": 21.714}, {\"date\": \"2020-11-11T00:00:00\", \"totalTestResultsIncrease\": 164300.0, \"positiveIncrease\": 4820.0, \"death\": 26026.0, \"deathIncrease\": 21.0, \"positiveRate\": 0.029, \"state\": \"New York\", \"sma7d\": 22.571}, {\"date\": \"2020-11-12T00:00:00\", \"totalTestResultsIncrease\": 162627.0, \"positiveIncrease\": 4797.0, \"death\": 26055.0, \"deathIncrease\": 29.0, \"positiveRate\": 0.029, \"state\": \"New York\", \"sma7d\": 23.286}, {\"date\": \"2020-11-13T00:00:00\", \"totalTestResultsIncrease\": 203721.0, \"positiveIncrease\": 5401.0, \"death\": 26079.0, \"deathIncrease\": 24.0, \"positiveRate\": 0.027, \"state\": \"New York\", \"sma7d\": 24.143}, {\"date\": \"2020-11-14T00:00:00\", \"totalTestResultsIncrease\": 184162.0, \"positiveIncrease\": 5388.0, \"death\": 26103.0, \"deathIncrease\": 24.0, \"positiveRate\": 0.029, \"state\": \"New York\", \"sma7d\": 25.0}, {\"date\": \"2020-11-15T00:00:00\", \"totalTestResultsIncrease\": 133202.0, \"positiveIncrease\": 3649.0, \"death\": 26133.0, \"deathIncrease\": 30.0, \"positiveRate\": 0.027, \"state\": \"New York\", \"sma7d\": 26.571}, {\"date\": \"2020-11-16T00:00:00\", \"totalTestResultsIncrease\": 124565.0, \"positiveIncrease\": 3490.0, \"death\": 26159.0, \"deathIncrease\": 26.0, \"positiveRate\": 0.028, \"state\": \"New York\", \"sma7d\": 26.571}, {\"date\": \"2020-11-17T00:00:00\", \"totalTestResultsIncrease\": 159852.0, \"positiveIncrease\": 5088.0, \"death\": 26189.0, \"deathIncrease\": 30.0, \"positiveRate\": 0.032, \"state\": \"New York\", \"sma7d\": 26.286}, {\"date\": \"2020-11-18T00:00:00\", \"totalTestResultsIncrease\": 154434.0, \"positiveIncrease\": 5294.0, \"death\": 26225.0, \"deathIncrease\": 36.0, \"positiveRate\": 0.034, \"state\": \"New York\", \"sma7d\": 28.429}, {\"date\": \"2020-11-19T00:00:00\", \"totalTestResultsIncrease\": 195239.0, \"positiveIncrease\": 5310.0, \"death\": 26257.0, \"deathIncrease\": 32.0, \"positiveRate\": 0.027, \"state\": \"New York\", \"sma7d\": 28.857}, {\"date\": \"2020-11-20T00:00:00\", \"totalTestResultsIncrease\": 205466.0, \"positiveIncrease\": 5468.0, \"death\": 26292.0, \"deathIncrease\": 35.0, \"positiveRate\": 0.027, \"state\": \"New York\", \"sma7d\": 30.429}, {\"date\": \"2020-11-21T00:00:00\", \"totalTestResultsIncrease\": 207907.0, \"positiveIncrease\": 5972.0, \"death\": 26326.0, \"deathIncrease\": 34.0, \"positiveRate\": 0.029, \"state\": \"New York\", \"sma7d\": 31.857}, {\"date\": \"2020-11-22T00:00:00\", \"totalTestResultsIncrease\": 196610.0, \"positiveIncrease\": 5392.0, \"death\": 26357.0, \"deathIncrease\": 31.0, \"positiveRate\": 0.027, \"state\": \"New York\", \"sma7d\": 32.0}, {\"date\": \"2020-11-23T00:00:00\", \"totalTestResultsIncrease\": 191489.0, \"positiveIncrease\": 5906.0, \"death\": 26390.0, \"deathIncrease\": 33.0, \"positiveRate\": 0.031, \"state\": \"New York\", \"sma7d\": 33.0}, {\"date\": \"2020-11-24T00:00:00\", \"totalTestResultsIncrease\": 164761.0, \"positiveIncrease\": 4881.0, \"death\": 26441.0, \"deathIncrease\": 51.0, \"positiveRate\": 0.03, \"state\": \"New York\", \"sma7d\": 36.0}, {\"date\": \"2020-11-25T00:00:00\", \"totalTestResultsIncrease\": 173085.0, \"positiveIncrease\": 6265.0, \"death\": 26482.0, \"deathIncrease\": 41.0, \"positiveRate\": 0.036, \"state\": \"New York\", \"sma7d\": 36.714}, {\"date\": \"2020-11-26T00:00:00\", \"totalTestResultsIncrease\": 217721.0, \"positiveIncrease\": 6933.0, \"death\": 26549.0, \"deathIncrease\": 67.0, \"positiveRate\": 0.032, \"state\": \"New York\", \"sma7d\": 41.714}, {\"date\": \"2020-11-27T00:00:00\", \"totalTestResultsIncrease\": 219442.0, \"positiveIncrease\": 8176.0, \"death\": 26588.0, \"deathIncrease\": 39.0, \"positiveRate\": 0.037, \"state\": \"New York\", \"sma7d\": 42.286}, {\"date\": \"2020-11-28T00:00:00\", \"totalTestResultsIncrease\": 152355.0, \"positiveIncrease\": 6063.0, \"death\": 26632.0, \"deathIncrease\": 44.0, \"positiveRate\": 0.04, \"state\": \"New York\", \"sma7d\": 43.714}, {\"date\": \"2020-11-29T00:00:00\", \"totalTestResultsIncrease\": 157320.0, \"positiveIncrease\": 6723.0, \"death\": 26690.0, \"deathIncrease\": 58.0, \"positiveRate\": 0.043, \"state\": \"New York\", \"sma7d\": 47.571}, {\"date\": \"2020-11-30T00:00:00\", \"totalTestResultsIncrease\": 148974.0, \"positiveIncrease\": 6819.0, \"death\": 26747.0, \"deathIncrease\": 57.0, \"positiveRate\": 0.046, \"state\": \"New York\", \"sma7d\": 51.0}, {\"date\": \"2020-12-01T00:00:00\", \"totalTestResultsIncrease\": 146675.0, \"positiveIncrease\": 7285.0, \"death\": 26816.0, \"deathIncrease\": 69.0, \"positiveRate\": 0.05, \"state\": \"New York\", \"sma7d\": 53.571}, {\"date\": \"2020-12-02T00:00:00\", \"totalTestResultsIncrease\": 193551.0, \"positiveIncrease\": 8973.0, \"death\": 26889.0, \"deathIncrease\": 73.0, \"positiveRate\": 0.046, \"state\": \"New York\", \"sma7d\": 58.143}, {\"date\": \"2020-12-03T00:00:00\", \"totalTestResultsIncrease\": 203440.0, \"positiveIncrease\": 9855.0, \"death\": 26955.0, \"deathIncrease\": 66.0, \"positiveRate\": 0.048, \"state\": \"New York\", \"sma7d\": 58.0}, {\"date\": \"2020-12-04T00:00:00\", \"totalTestResultsIncrease\": 208297.0, \"positiveIncrease\": 11271.0, \"death\": 27017.0, \"deathIncrease\": 62.0, \"positiveRate\": 0.054, \"state\": \"New York\", \"sma7d\": 61.286}, {\"date\": \"2020-12-05T00:00:00\", \"totalTestResultsIncrease\": 215401.0, \"positiveIncrease\": 10761.0, \"death\": 27089.0, \"deathIncrease\": 72.0, \"positiveRate\": 0.05, \"state\": \"New York\", \"sma7d\": 65.286}, {\"date\": \"2020-12-06T00:00:00\", \"totalTestResultsIncrease\": 205832.0, \"positiveIncrease\": 9702.0, \"death\": 27149.0, \"deathIncrease\": 60.0, \"positiveRate\": 0.047, \"state\": \"New York\", \"sma7d\": 65.571}, {\"date\": \"2020-12-07T00:00:00\", \"totalTestResultsIncrease\": 152287.0, \"positiveIncrease\": 7302.0, \"death\": 27232.0, \"deathIncrease\": 83.0, \"positiveRate\": 0.048, \"state\": \"New York\", \"sma7d\": 69.286}, {\"date\": \"2020-12-08T00:00:00\", \"totalTestResultsIncrease\": 162464.0, \"positiveIncrease\": 9335.0, \"death\": 27307.0, \"deathIncrease\": 75.0, \"positiveRate\": 0.057, \"state\": \"New York\", \"sma7d\": 70.143}]}}, {\"mode\": \"vega-lite\"});\n",
       "</script>"
      ],
      "text/plain": [
       "alt.LayerChart(...)"
      ]
     },
     "execution_count": 13,
     "metadata": {},
     "output_type": "execute_result"
    }
   ],
   "source": [
    "create_plot(ny, 'deathIncrease')"
   ]
  },
  {
   "cell_type": "markdown",
   "metadata": {
    "papermill": {
     "duration": 0.015492,
     "end_time": "2020-12-09T09:26:19.054973",
     "exception": false,
     "start_time": "2020-12-09T09:26:19.039481",
     "status": "completed"
    },
    "tags": []
   },
   "source": [
    "## Non Tri-State"
   ]
  },
  {
   "cell_type": "code",
   "execution_count": 14,
   "metadata": {
    "execution": {
     "iopub.execute_input": "2020-12-09T09:26:19.090264Z",
     "iopub.status.busy": "2020-12-09T09:26:19.089828Z",
     "iopub.status.idle": "2020-12-09T09:26:19.404374Z",
     "shell.execute_reply": "2020-12-09T09:26:19.403383Z"
    },
    "papermill": {
     "duration": 0.3333,
     "end_time": "2020-12-09T09:26:19.404516",
     "exception": false,
     "start_time": "2020-12-09T09:26:19.071216",
     "status": "completed"
    },
    "tags": []
   },
   "outputs": [],
   "source": [
    "non_tristate = create_df(df, lambda d: ~d['state'].isin(['CT','NJ','NY']), 'Non Tri-State')"
   ]
  },
  {
   "cell_type": "code",
   "execution_count": 15,
   "metadata": {
    "execution": {
     "iopub.execute_input": "2020-12-09T09:26:19.467165Z",
     "iopub.status.busy": "2020-12-09T09:26:19.446429Z",
     "iopub.status.idle": "2020-12-09T09:26:19.520143Z",
     "shell.execute_reply": "2020-12-09T09:26:19.519676Z"
    },
    "papermill": {
     "duration": 0.100105,
     "end_time": "2020-12-09T09:26:19.520268",
     "exception": false,
     "start_time": "2020-12-09T09:26:19.420163",
     "status": "completed"
    },
    "tags": []
   },
   "outputs": [
    {
     "data": {
      "text/html": [
       "\n",
       "<div id=\"altair-viz-07ab3e2f6fff44f4b522410acdc0bc61\"></div>\n",
       "<script type=\"text/javascript\">\n",
       "  (function(spec, embedOpt){\n",
       "    let outputDiv = document.currentScript.previousElementSibling;\n",
       "    if (outputDiv.id !== \"altair-viz-07ab3e2f6fff44f4b522410acdc0bc61\") {\n",
       "      outputDiv = document.getElementById(\"altair-viz-07ab3e2f6fff44f4b522410acdc0bc61\");\n",
       "    }\n",
       "    const paths = {\n",
       "      \"vega\": \"https://cdn.jsdelivr.net/npm//vega@5?noext\",\n",
       "      \"vega-lib\": \"https://cdn.jsdelivr.net/npm//vega-lib?noext\",\n",
       "      \"vega-lite\": \"https://cdn.jsdelivr.net/npm//vega-lite@4.8.1?noext\",\n",
       "      \"vega-embed\": \"https://cdn.jsdelivr.net/npm//vega-embed@6?noext\",\n",
       "    };\n",
       "\n",
       "    function loadScript(lib) {\n",
       "      return new Promise(function(resolve, reject) {\n",
       "        var s = document.createElement('script');\n",
       "        s.src = paths[lib];\n",
       "        s.async = true;\n",
       "        s.onload = () => resolve(paths[lib]);\n",
       "        s.onerror = () => reject(`Error loading script: ${paths[lib]}`);\n",
       "        document.getElementsByTagName(\"head\")[0].appendChild(s);\n",
       "      });\n",
       "    }\n",
       "\n",
       "    function showError(err) {\n",
       "      outputDiv.innerHTML = `<div class=\"error\" style=\"color:red;\">${err}</div>`;\n",
       "      throw err;\n",
       "    }\n",
       "\n",
       "    function displayChart(vegaEmbed) {\n",
       "      vegaEmbed(outputDiv, spec, embedOpt)\n",
       "        .catch(err => showError(`Javascript Error: ${err.message}<br>This usually means there's a typo in your chart specification. See the javascript console for the full traceback.`));\n",
       "    }\n",
       "\n",
       "    if(typeof define === \"function\" && define.amd) {\n",
       "      requirejs.config({paths});\n",
       "      require([\"vega-embed\"], displayChart, err => showError(`Error loading script: ${err.message}`));\n",
       "    } else if (typeof vegaEmbed === \"function\") {\n",
       "      displayChart(vegaEmbed);\n",
       "    } else {\n",
       "      loadScript(\"vega\")\n",
       "        .then(() => loadScript(\"vega-lite\"))\n",
       "        .then(() => loadScript(\"vega-embed\"))\n",
       "        .catch(showError)\n",
       "        .then(() => displayChart(vegaEmbed));\n",
       "    }\n",
       "  })({\"config\": {\"view\": {\"continuousWidth\": 400, \"continuousHeight\": 300}}, \"layer\": [{\"layer\": [{\"mark\": {\"type\": \"point\", \"size\": 75}, \"encoding\": {\"tooltip\": [{\"type\": \"temporal\", \"field\": \"date\"}, {\"type\": \"quantitative\", \"field\": \"positiveIncrease\"}, {\"type\": \"quantitative\", \"field\": \"sma7d\"}], \"x\": {\"type\": \"temporal\", \"field\": \"date\"}, \"y\": {\"type\": \"quantitative\", \"field\": \"positiveIncrease\"}}, \"selection\": {\"selector014\": {\"type\": \"interval\", \"bind\": \"scales\", \"encodings\": [\"x\", \"y\"]}}}, {\"mark\": {\"type\": \"line\", \"color\": \"purple\"}, \"encoding\": {\"x\": {\"type\": \"temporal\", \"field\": \"date\"}, \"y\": {\"type\": \"quantitative\", \"field\": \"sma7d\"}}}]}, {\"mark\": {\"type\": \"rule\", \"color\": \"#aaa\"}, \"encoding\": {\"x\": {\"type\": \"temporal\", \"field\": \"date\"}}, \"transform\": [{\"filter\": {\"selection\": \"selector013\"}}]}, {\"mark\": \"circle\", \"encoding\": {\"opacity\": {\"condition\": {\"value\": 1, \"selection\": \"selector013\"}, \"value\": 0}, \"tooltip\": [{\"type\": \"temporal\", \"field\": \"date\"}, {\"type\": \"quantitative\", \"field\": \"positiveIncrease\"}, {\"type\": \"quantitative\", \"field\": \"sma7d\"}], \"x\": {\"type\": \"temporal\", \"field\": \"date\"}, \"y\": {\"type\": \"quantitative\", \"field\": \"positiveIncrease\"}}, \"selection\": {\"selector013\": {\"type\": \"single\", \"encodings\": [\"x\"], \"on\": \"mouseover\", \"nearest\": true, \"empty\": \"none\"}}}, {\"mark\": {\"type\": \"text\", \"align\": \"left\", \"dx\": 5, \"dy\": -5, \"stroke\": \"white\", \"strokeWidth\": 2}, \"encoding\": {\"text\": {\"type\": \"quantitative\", \"field\": \"positiveIncrease\"}, \"tooltip\": [{\"type\": \"temporal\", \"field\": \"date\"}, {\"type\": \"quantitative\", \"field\": \"positiveIncrease\"}, {\"type\": \"quantitative\", \"field\": \"sma7d\"}], \"x\": {\"type\": \"temporal\", \"field\": \"date\"}, \"y\": {\"type\": \"quantitative\", \"field\": \"positiveIncrease\"}}, \"transform\": [{\"filter\": {\"selection\": \"selector013\"}}]}, {\"mark\": {\"type\": \"text\", \"align\": \"left\", \"dx\": 5, \"dy\": -5}, \"encoding\": {\"text\": {\"type\": \"quantitative\", \"field\": \"positiveIncrease\"}, \"tooltip\": [{\"type\": \"temporal\", \"field\": \"date\"}, {\"type\": \"quantitative\", \"field\": \"positiveIncrease\"}, {\"type\": \"quantitative\", \"field\": \"sma7d\"}], \"x\": {\"type\": \"temporal\", \"field\": \"date\"}, \"y\": {\"type\": \"quantitative\", \"field\": \"positiveIncrease\"}}, \"transform\": [{\"filter\": {\"selection\": \"selector013\"}}]}], \"data\": {\"name\": \"data-5db820fd0b51b28b0c0710168b664470\"}, \"height\": 400, \"title\": \"Non Tri-State: positiveIncrease\", \"width\": 500, \"$schema\": \"https://vega.github.io/schema/vega-lite/v4.8.1.json\", \"datasets\": {\"data-5db820fd0b51b28b0c0710168b664470\": [{\"date\": \"2020-10-15T00:00:00\", \"totalTestResultsIncrease\": 926832.0, \"positiveIncrease\": 60796.0, \"death\": 163076.0, \"deathIncrease\": 908.0, \"positiveRate\": 0.066, \"state\": \"Non Tri-State\", \"sma7d\": 50544.429}, {\"date\": \"2020-10-16T00:00:00\", \"totalTestResultsIncrease\": 1030783.0, \"positiveIncrease\": 64930.0, \"death\": 163956.0, \"deathIncrease\": 880.0, \"positiveRate\": 0.063, \"state\": \"Non Tri-State\", \"sma7d\": 52098.0}, {\"date\": \"2020-10-17T00:00:00\", \"totalTestResultsIncrease\": 1104360.0, \"positiveIncrease\": 54610.0, \"death\": 164718.0, \"deathIncrease\": 762.0, \"positiveRate\": 0.049, \"state\": \"Non Tri-State\", \"sma7d\": 52027.571}, {\"date\": \"2020-10-18T00:00:00\", \"totalTestResultsIncrease\": 921635.0, \"positiveIncrease\": 45619.0, \"death\": 165106.0, \"deathIncrease\": 388.0, \"positiveRate\": 0.049, \"state\": \"Non Tri-State\", \"sma7d\": 52205.429}, {\"date\": \"2020-10-19T00:00:00\", \"totalTestResultsIncrease\": 900113.0, \"positiveIncrease\": 53728.0, \"death\": 165532.0, \"deathIncrease\": 426.0, \"positiveRate\": 0.06, \"state\": \"Non Tri-State\", \"sma7d\": 54194.143}, {\"date\": \"2020-10-20T00:00:00\", \"totalTestResultsIncrease\": 829947.0, \"positiveIncrease\": 57926.0, \"death\": 166338.0, \"deathIncrease\": 806.0, \"positiveRate\": 0.07, \"state\": \"Non Tri-State\", \"sma7d\": 55913.143}, {\"date\": \"2020-10-21T00:00:00\", \"totalTestResultsIncrease\": 772311.0, \"positiveIncrease\": 57486.0, \"death\": 167324.0, \"deathIncrease\": 986.0, \"positiveRate\": 0.074, \"state\": \"Non Tri-State\", \"sma7d\": 56442.143}, {\"date\": \"2020-10-22T00:00:00\", \"totalTestResultsIncrease\": 1038766.0, \"positiveIncrease\": 69550.0, \"death\": 168415.0, \"deathIncrease\": 1091.0, \"positiveRate\": 0.067, \"state\": \"Non Tri-State\", \"sma7d\": 57692.714}, {\"date\": \"2020-10-23T00:00:00\", \"totalTestResultsIncrease\": 1177811.0, \"positiveIncrease\": 78972.0, \"death\": 169320.0, \"deathIncrease\": 905.0, \"positiveRate\": 0.067, \"state\": \"Non Tri-State\", \"sma7d\": 59698.714}, {\"date\": \"2020-10-24T00:00:00\", \"totalTestResultsIncrease\": 1164527.0, \"positiveIncrease\": 79317.0, \"death\": 170189.0, \"deathIncrease\": 869.0, \"positiveRate\": 0.068, \"state\": \"Non Tri-State\", \"sma7d\": 63228.286}, {\"date\": \"2020-10-25T00:00:00\", \"totalTestResultsIncrease\": 1021393.0, \"positiveIncrease\": 62132.0, \"death\": 170555.0, \"deathIncrease\": 366.0, \"positiveRate\": 0.061, \"state\": \"Non Tri-State\", \"sma7d\": 65587.286}, {\"date\": \"2020-10-26T00:00:00\", \"totalTestResultsIncrease\": 967403.0, \"positiveIncrease\": 58071.0, \"death\": 170926.0, \"deathIncrease\": 371.0, \"positiveRate\": 0.06, \"state\": \"Non Tri-State\", \"sma7d\": 66207.714}, {\"date\": \"2020-10-27T00:00:00\", \"totalTestResultsIncrease\": 916869.0, \"positiveIncrease\": 67907.0, \"death\": 171809.0, \"deathIncrease\": 883.0, \"positiveRate\": 0.074, \"state\": \"Non Tri-State\", \"sma7d\": 67633.571}, {\"date\": \"2020-10-28T00:00:00\", \"totalTestResultsIncrease\": 913354.0, \"positiveIncrease\": 74565.0, \"death\": 172811.0, \"deathIncrease\": 1002.0, \"positiveRate\": 0.082, \"state\": \"Non Tri-State\", \"sma7d\": 70073.429}, {\"date\": \"2020-10-29T00:00:00\", \"totalTestResultsIncrease\": 1092999.0, \"positiveIncrease\": 83355.0, \"death\": 173816.0, \"deathIncrease\": 1005.0, \"positiveRate\": 0.076, \"state\": \"Non Tri-State\", \"sma7d\": 72045.571}, {\"date\": \"2020-10-30T00:00:00\", \"totalTestResultsIncrease\": 1184071.0, \"positiveIncrease\": 92246.0, \"death\": 174737.0, \"deathIncrease\": 921.0, \"positiveRate\": 0.078, \"state\": \"Non Tri-State\", \"sma7d\": 73941.857}, {\"date\": \"2020-10-31T00:00:00\", \"totalTestResultsIncrease\": 1171569.0, \"positiveIncrease\": 87173.0, \"death\": 175686.0, \"deathIncrease\": 949.0, \"positiveRate\": 0.074, \"state\": \"Non Tri-State\", \"sma7d\": 75064.143}, {\"date\": \"2020-11-01T00:00:00\", \"totalTestResultsIncrease\": 977189.0, \"positiveIncrease\": 69851.0, \"death\": 176060.0, \"deathIncrease\": 374.0, \"positiveRate\": 0.071, \"state\": \"Non Tri-State\", \"sma7d\": 76166.857}, {\"date\": \"2020-11-02T00:00:00\", \"totalTestResultsIncrease\": 1087218.0, \"positiveIncrease\": 76395.0, \"death\": 176523.0, \"deathIncrease\": 463.0, \"positiveRate\": 0.07, \"state\": \"Non Tri-State\", \"sma7d\": 78784.571}, {\"date\": \"2020-11-03T00:00:00\", \"totalTestResultsIncrease\": 956008.0, \"positiveIncrease\": 82517.0, \"death\": 178004.0, \"deathIncrease\": 1481.0, \"positiveRate\": 0.086, \"state\": \"Non Tri-State\", \"sma7d\": 80871.714}, {\"date\": \"2020-11-04T00:00:00\", \"totalTestResultsIncrease\": 1052879.0, \"positiveIncrease\": 97232.0, \"death\": 179072.0, \"deathIncrease\": 1068.0, \"positiveRate\": 0.092, \"state\": \"Non Tri-State\", \"sma7d\": 84109.857}, {\"date\": \"2020-11-05T00:00:00\", \"totalTestResultsIncrease\": 1299003.0, \"positiveIncrease\": 109797.0, \"death\": 180171.0, \"deathIncrease\": 1099.0, \"positiveRate\": 0.085, \"state\": \"Non Tri-State\", \"sma7d\": 87887.286}, {\"date\": \"2020-11-06T00:00:00\", \"totalTestResultsIncrease\": 1328164.0, \"positiveIncrease\": 119323.0, \"death\": 181298.0, \"deathIncrease\": 1127.0, \"positiveRate\": 0.09, \"state\": \"Non Tri-State\", \"sma7d\": 91755.429}, {\"date\": \"2020-11-07T00:00:00\", \"totalTestResultsIncrease\": 1149580.0, \"positiveIncrease\": 122433.0, \"death\": 182390.0, \"deathIncrease\": 1092.0, \"positiveRate\": 0.107, \"state\": \"Non Tri-State\", \"sma7d\": 96792.571}, {\"date\": \"2020-11-08T00:00:00\", \"totalTestResultsIncrease\": 1104595.0, \"positiveIncrease\": 104849.0, \"death\": 182863.0, \"deathIncrease\": 473.0, \"positiveRate\": 0.095, \"state\": \"Non Tri-State\", \"sma7d\": 101792.286}, {\"date\": \"2020-11-09T00:00:00\", \"totalTestResultsIncrease\": 1243452.0, \"positiveIncrease\": 110894.0, \"death\": 183376.0, \"deathIncrease\": 513.0, \"positiveRate\": 0.089, \"state\": \"Non Tri-State\", \"sma7d\": 106720.714}, {\"date\": \"2020-11-10T00:00:00\", \"totalTestResultsIncrease\": 1097420.0, \"positiveIncrease\": 121921.0, \"death\": 184674.0, \"deathIncrease\": 1298.0, \"positiveRate\": 0.111, \"state\": \"Non Tri-State\", \"sma7d\": 112349.857}, {\"date\": \"2020-11-11T00:00:00\", \"totalTestResultsIncrease\": 1172567.0, \"positiveIncrease\": 135178.0, \"death\": 186192.0, \"deathIncrease\": 1518.0, \"positiveRate\": 0.115, \"state\": \"Non Tri-State\", \"sma7d\": 117770.714}, {\"date\": \"2020-11-12T00:00:00\", \"totalTestResultsIncrease\": 1249202.0, \"positiveIncrease\": 142566.0, \"death\": 187253.0, \"deathIncrease\": 1061.0, \"positiveRate\": 0.114, \"state\": \"Non Tri-State\", \"sma7d\": 122452.0}, {\"date\": \"2020-11-13T00:00:00\", \"totalTestResultsIncrease\": 1406406.0, \"positiveIncrease\": 160572.0, \"death\": 188459.0, \"deathIncrease\": 1206.0, \"positiveRate\": 0.114, \"state\": \"Non Tri-State\", \"sma7d\": 128344.714}, {\"date\": \"2020-11-14T00:00:00\", \"totalTestResultsIncrease\": 1436212.0, \"positiveIncrease\": 153797.0, \"death\": 189740.0, \"deathIncrease\": 1281.0, \"positiveRate\": 0.107, \"state\": \"Non Tri-State\", \"sma7d\": 132825.286}, {\"date\": \"2020-11-15T00:00:00\", \"totalTestResultsIncrease\": 1353853.0, \"positiveIncrease\": 136245.0, \"death\": 190379.0, \"deathIncrease\": 639.0, \"positiveRate\": 0.101, \"state\": \"Non Tri-State\", \"sma7d\": 137310.429}, {\"date\": \"2020-11-16T00:00:00\", \"totalTestResultsIncrease\": 1273402.0, \"positiveIncrease\": 138525.0, \"death\": 190936.0, \"deathIncrease\": 557.0, \"positiveRate\": 0.109, \"state\": \"Non Tri-State\", \"sma7d\": 141257.714}, {\"date\": \"2020-11-17T00:00:00\", \"totalTestResultsIncrease\": 1285207.0, \"positiveIncrease\": 145916.0, \"death\": 192411.0, \"deathIncrease\": 1475.0, \"positiveRate\": 0.114, \"state\": \"Non Tri-State\", \"sma7d\": 144685.571}, {\"date\": \"2020-11-18T00:00:00\", \"totalTestResultsIncrease\": 1258934.0, \"positiveIncrease\": 152593.0, \"death\": 194189.0, \"deathIncrease\": 1778.0, \"positiveRate\": 0.121, \"state\": \"Non Tri-State\", \"sma7d\": 147173.429}, {\"date\": \"2020-11-19T00:00:00\", \"totalTestResultsIncrease\": 1585002.0, \"positiveIncrease\": 170990.0, \"death\": 196069.0, \"deathIncrease\": 1880.0, \"positiveRate\": 0.108, \"state\": \"Non Tri-State\", \"sma7d\": 151234.0}, {\"date\": \"2020-11-20T00:00:00\", \"totalTestResultsIncrease\": 1634788.0, \"positiveIncrease\": 181618.0, \"death\": 197872.0, \"deathIncrease\": 1803.0, \"positiveRate\": 0.111, \"state\": \"Non Tri-State\", \"sma7d\": 154240.571}, {\"date\": \"2020-11-21T00:00:00\", \"totalTestResultsIncrease\": 1746688.0, \"positiveIncrease\": 169074.0, \"death\": 199316.0, \"deathIncrease\": 1444.0, \"positiveRate\": 0.097, \"state\": \"Non Tri-State\", \"sma7d\": 156423.0}, {\"date\": \"2020-11-22T00:00:00\", \"totalTestResultsIncrease\": 1494071.0, \"positiveIncrease\": 141481.0, \"death\": 200168.0, \"deathIncrease\": 852.0, \"positiveRate\": 0.095, \"state\": \"Non Tri-State\", \"sma7d\": 157171.0}, {\"date\": \"2020-11-23T00:00:00\", \"totalTestResultsIncrease\": 1403525.0, \"positiveIncrease\": 136200.0, \"death\": 201036.0, \"deathIncrease\": 868.0, \"positiveRate\": 0.097, \"state\": \"Non Tri-State\", \"sma7d\": 156838.857}, {\"date\": \"2020-11-24T00:00:00\", \"totalTestResultsIncrease\": 1561957.0, \"positiveIncrease\": 157318.0, \"death\": 202994.0, \"deathIncrease\": 1958.0, \"positiveRate\": 0.101, \"state\": \"Non Tri-State\", \"sma7d\": 158467.714}, {\"date\": \"2020-11-25T00:00:00\", \"totalTestResultsIncrease\": 1414477.0, \"positiveIncrease\": 171450.0, \"death\": 205130.0, \"deathIncrease\": 2136.0, \"positiveRate\": 0.121, \"state\": \"Non Tri-State\", \"sma7d\": 161161.571}, {\"date\": \"2020-11-26T00:00:00\", \"totalTestResultsIncrease\": 948001.0, \"positiveIncrease\": 114929.0, \"death\": 206360.0, \"deathIncrease\": 1230.0, \"positiveRate\": 0.121, \"state\": \"Non Tri-State\", \"sma7d\": 153152.857}, {\"date\": \"2020-11-27T00:00:00\", \"totalTestResultsIncrease\": 1831247.0, \"positiveIncrease\": 178025.0, \"death\": 207641.0, \"deathIncrease\": 1281.0, \"positiveRate\": 0.097, \"state\": \"Non Tri-State\", \"sma7d\": 152639.571}, {\"date\": \"2020-11-28T00:00:00\", \"totalTestResultsIncrease\": 1449534.0, \"positiveIncrease\": 144657.0, \"death\": 208819.0, \"deathIncrease\": 1178.0, \"positiveRate\": 0.1, \"state\": \"Non Tri-State\", \"sma7d\": 149151.429}, {\"date\": \"2020-11-29T00:00:00\", \"totalTestResultsIncrease\": 1128811.0, \"positiveIncrease\": 124680.0, \"death\": 209551.0, \"deathIncrease\": 732.0, \"positiveRate\": 0.11, \"state\": \"Non Tri-State\", \"sma7d\": 146751.286}, {\"date\": \"2020-11-30T00:00:00\", \"totalTestResultsIncrease\": 1208369.0, \"positiveIncrease\": 132864.0, \"death\": 210556.0, \"deathIncrease\": 1005.0, \"positiveRate\": 0.11, \"state\": \"Non Tri-State\", \"sma7d\": 146274.714}, {\"date\": \"2020-12-01T00:00:00\", \"totalTestResultsIncrease\": 2164959.0, \"positiveIncrease\": 163403.0, \"death\": 212850.0, \"deathIncrease\": 2294.0, \"positiveRate\": 0.075, \"state\": \"Non Tri-State\", \"sma7d\": 147144.0}, {\"date\": \"2020-12-02T00:00:00\", \"totalTestResultsIncrease\": 1181936.0, \"positiveIncrease\": 179855.0, \"death\": 215397.0, \"deathIncrease\": 2547.0, \"positiveRate\": 0.152, \"state\": \"Non Tri-State\", \"sma7d\": 148344.714}, {\"date\": \"2020-12-03T00:00:00\", \"totalTestResultsIncrease\": 1514868.0, \"positiveIncrease\": 190805.0, \"death\": 217953.0, \"deathIncrease\": 2556.0, \"positiveRate\": 0.126, \"state\": \"Non Tri-State\", \"sma7d\": 159184.143}, {\"date\": \"2020-12-04T00:00:00\", \"totalTestResultsIncrease\": 1612924.0, \"positiveIncrease\": 206359.0, \"death\": 220373.0, \"deathIncrease\": 2420.0, \"positiveRate\": 0.128, \"state\": \"Non Tri-State\", \"sma7d\": 163231.857}, {\"date\": \"2020-12-05T00:00:00\", \"totalTestResultsIncrease\": 1877214.0, \"positiveIncrease\": 196795.0, \"death\": 222711.0, \"deathIncrease\": 2338.0, \"positiveRate\": 0.105, \"state\": \"Non Tri-State\", \"sma7d\": 170680.143}, {\"date\": \"2020-12-06T00:00:00\", \"totalTestResultsIncrease\": 1436444.0, \"positiveIncrease\": 162069.0, \"death\": 223782.0, \"deathIncrease\": 1071.0, \"positiveRate\": 0.113, \"state\": \"Non Tri-State\", \"sma7d\": 176021.429}, {\"date\": \"2020-12-07T00:00:00\", \"totalTestResultsIncrease\": 1556215.0, \"positiveIncrease\": 161199.0, \"death\": 224953.0, \"deathIncrease\": 1171.0, \"positiveRate\": 0.104, \"state\": \"Non Tri-State\", \"sma7d\": 180069.286}, {\"date\": \"2020-12-08T00:00:00\", \"totalTestResultsIncrease\": 1388806.0, \"positiveIncrease\": 196273.0, \"death\": 227392.0, \"deathIncrease\": 2439.0, \"positiveRate\": 0.141, \"state\": \"Non Tri-State\", \"sma7d\": 184765.0}]}}, {\"mode\": \"vega-lite\"});\n",
       "</script>"
      ],
      "text/plain": [
       "alt.LayerChart(...)"
      ]
     },
     "execution_count": 15,
     "metadata": {},
     "output_type": "execute_result"
    }
   ],
   "source": [
    "create_plot(non_tristate, 'positiveIncrease')"
   ]
  },
  {
   "cell_type": "code",
   "execution_count": 16,
   "metadata": {
    "execution": {
     "iopub.execute_input": "2020-12-09T09:26:19.572280Z",
     "iopub.status.busy": "2020-12-09T09:26:19.560495Z",
     "iopub.status.idle": "2020-12-09T09:26:19.640610Z",
     "shell.execute_reply": "2020-12-09T09:26:19.640217Z"
    },
    "papermill": {
     "duration": 0.104345,
     "end_time": "2020-12-09T09:26:19.640714",
     "exception": false,
     "start_time": "2020-12-09T09:26:19.536369",
     "status": "completed"
    },
    "tags": []
   },
   "outputs": [
    {
     "data": {
      "text/html": [
       "\n",
       "<div id=\"altair-viz-338753266d1d4249aafd28cb9c2b0740\"></div>\n",
       "<script type=\"text/javascript\">\n",
       "  (function(spec, embedOpt){\n",
       "    let outputDiv = document.currentScript.previousElementSibling;\n",
       "    if (outputDiv.id !== \"altair-viz-338753266d1d4249aafd28cb9c2b0740\") {\n",
       "      outputDiv = document.getElementById(\"altair-viz-338753266d1d4249aafd28cb9c2b0740\");\n",
       "    }\n",
       "    const paths = {\n",
       "      \"vega\": \"https://cdn.jsdelivr.net/npm//vega@5?noext\",\n",
       "      \"vega-lib\": \"https://cdn.jsdelivr.net/npm//vega-lib?noext\",\n",
       "      \"vega-lite\": \"https://cdn.jsdelivr.net/npm//vega-lite@4.8.1?noext\",\n",
       "      \"vega-embed\": \"https://cdn.jsdelivr.net/npm//vega-embed@6?noext\",\n",
       "    };\n",
       "\n",
       "    function loadScript(lib) {\n",
       "      return new Promise(function(resolve, reject) {\n",
       "        var s = document.createElement('script');\n",
       "        s.src = paths[lib];\n",
       "        s.async = true;\n",
       "        s.onload = () => resolve(paths[lib]);\n",
       "        s.onerror = () => reject(`Error loading script: ${paths[lib]}`);\n",
       "        document.getElementsByTagName(\"head\")[0].appendChild(s);\n",
       "      });\n",
       "    }\n",
       "\n",
       "    function showError(err) {\n",
       "      outputDiv.innerHTML = `<div class=\"error\" style=\"color:red;\">${err}</div>`;\n",
       "      throw err;\n",
       "    }\n",
       "\n",
       "    function displayChart(vegaEmbed) {\n",
       "      vegaEmbed(outputDiv, spec, embedOpt)\n",
       "        .catch(err => showError(`Javascript Error: ${err.message}<br>This usually means there's a typo in your chart specification. See the javascript console for the full traceback.`));\n",
       "    }\n",
       "\n",
       "    if(typeof define === \"function\" && define.amd) {\n",
       "      requirejs.config({paths});\n",
       "      require([\"vega-embed\"], displayChart, err => showError(`Error loading script: ${err.message}`));\n",
       "    } else if (typeof vegaEmbed === \"function\") {\n",
       "      displayChart(vegaEmbed);\n",
       "    } else {\n",
       "      loadScript(\"vega\")\n",
       "        .then(() => loadScript(\"vega-lite\"))\n",
       "        .then(() => loadScript(\"vega-embed\"))\n",
       "        .catch(showError)\n",
       "        .then(() => displayChart(vegaEmbed));\n",
       "    }\n",
       "  })({\"config\": {\"view\": {\"continuousWidth\": 400, \"continuousHeight\": 300}}, \"layer\": [{\"layer\": [{\"mark\": {\"type\": \"point\", \"size\": 75}, \"encoding\": {\"tooltip\": [{\"type\": \"temporal\", \"field\": \"date\"}, {\"type\": \"quantitative\", \"field\": \"positiveRate\"}, {\"type\": \"quantitative\", \"field\": \"sma7d\"}], \"x\": {\"type\": \"temporal\", \"field\": \"date\"}, \"y\": {\"type\": \"quantitative\", \"field\": \"positiveRate\"}}, \"selection\": {\"selector016\": {\"type\": \"interval\", \"bind\": \"scales\", \"encodings\": [\"x\", \"y\"]}}}, {\"mark\": {\"type\": \"line\", \"color\": \"purple\"}, \"encoding\": {\"x\": {\"type\": \"temporal\", \"field\": \"date\"}, \"y\": {\"type\": \"quantitative\", \"field\": \"sma7d\"}}}]}, {\"mark\": {\"type\": \"rule\", \"color\": \"#aaa\"}, \"encoding\": {\"x\": {\"type\": \"temporal\", \"field\": \"date\"}}, \"transform\": [{\"filter\": {\"selection\": \"selector015\"}}]}, {\"mark\": \"circle\", \"encoding\": {\"opacity\": {\"condition\": {\"value\": 1, \"selection\": \"selector015\"}, \"value\": 0}, \"tooltip\": [{\"type\": \"temporal\", \"field\": \"date\"}, {\"type\": \"quantitative\", \"field\": \"positiveRate\"}, {\"type\": \"quantitative\", \"field\": \"sma7d\"}], \"x\": {\"type\": \"temporal\", \"field\": \"date\"}, \"y\": {\"type\": \"quantitative\", \"field\": \"positiveRate\"}}, \"selection\": {\"selector015\": {\"type\": \"single\", \"encodings\": [\"x\"], \"on\": \"mouseover\", \"nearest\": true, \"empty\": \"none\"}}}, {\"mark\": {\"type\": \"text\", \"align\": \"left\", \"dx\": 5, \"dy\": -5, \"stroke\": \"white\", \"strokeWidth\": 2}, \"encoding\": {\"text\": {\"type\": \"quantitative\", \"field\": \"positiveRate\"}, \"tooltip\": [{\"type\": \"temporal\", \"field\": \"date\"}, {\"type\": \"quantitative\", \"field\": \"positiveRate\"}, {\"type\": \"quantitative\", \"field\": \"sma7d\"}], \"x\": {\"type\": \"temporal\", \"field\": \"date\"}, \"y\": {\"type\": \"quantitative\", \"field\": \"positiveRate\"}}, \"transform\": [{\"filter\": {\"selection\": \"selector015\"}}]}, {\"mark\": {\"type\": \"text\", \"align\": \"left\", \"dx\": 5, \"dy\": -5}, \"encoding\": {\"text\": {\"type\": \"quantitative\", \"field\": \"positiveRate\"}, \"tooltip\": [{\"type\": \"temporal\", \"field\": \"date\"}, {\"type\": \"quantitative\", \"field\": \"positiveRate\"}, {\"type\": \"quantitative\", \"field\": \"sma7d\"}], \"x\": {\"type\": \"temporal\", \"field\": \"date\"}, \"y\": {\"type\": \"quantitative\", \"field\": \"positiveRate\"}}, \"transform\": [{\"filter\": {\"selection\": \"selector015\"}}]}], \"data\": {\"name\": \"data-aed6906c6006085226be07cfed560a46\"}, \"height\": 400, \"title\": \"Non Tri-State: positiveRate\", \"width\": 500, \"$schema\": \"https://vega.github.io/schema/vega-lite/v4.8.1.json\", \"datasets\": {\"data-aed6906c6006085226be07cfed560a46\": [{\"date\": \"2020-10-15T00:00:00\", \"totalTestResultsIncrease\": 926832.0, \"positiveIncrease\": 60796.0, \"death\": 163076.0, \"deathIncrease\": 908.0, \"positiveRate\": 0.066, \"state\": \"Non Tri-State\", \"sma7d\": 0.054}, {\"date\": \"2020-10-16T00:00:00\", \"totalTestResultsIncrease\": 1030783.0, \"positiveIncrease\": 64930.0, \"death\": 163956.0, \"deathIncrease\": 880.0, \"positiveRate\": 0.063, \"state\": \"Non Tri-State\", \"sma7d\": 0.055}, {\"date\": \"2020-10-17T00:00:00\", \"totalTestResultsIncrease\": 1104360.0, \"positiveIncrease\": 54610.0, \"death\": 164718.0, \"deathIncrease\": 762.0, \"positiveRate\": 0.049, \"state\": \"Non Tri-State\", \"sma7d\": 0.055}, {\"date\": \"2020-10-18T00:00:00\", \"totalTestResultsIncrease\": 921635.0, \"positiveIncrease\": 45619.0, \"death\": 165106.0, \"deathIncrease\": 388.0, \"positiveRate\": 0.049, \"state\": \"Non Tri-State\", \"sma7d\": 0.055}, {\"date\": \"2020-10-19T00:00:00\", \"totalTestResultsIncrease\": 900113.0, \"positiveIncrease\": 53728.0, \"death\": 165532.0, \"deathIncrease\": 426.0, \"positiveRate\": 0.06, \"state\": \"Non Tri-State\", \"sma7d\": 0.057}, {\"date\": \"2020-10-20T00:00:00\", \"totalTestResultsIncrease\": 829947.0, \"positiveIncrease\": 57926.0, \"death\": 166338.0, \"deathIncrease\": 806.0, \"positiveRate\": 0.07, \"state\": \"Non Tri-State\", \"sma7d\": 0.06}, {\"date\": \"2020-10-21T00:00:00\", \"totalTestResultsIncrease\": 772311.0, \"positiveIncrease\": 57486.0, \"death\": 167324.0, \"deathIncrease\": 986.0, \"positiveRate\": 0.074, \"state\": \"Non Tri-State\", \"sma7d\": 0.062}, {\"date\": \"2020-10-22T00:00:00\", \"totalTestResultsIncrease\": 1038766.0, \"positiveIncrease\": 69550.0, \"death\": 168415.0, \"deathIncrease\": 1091.0, \"positiveRate\": 0.067, \"state\": \"Non Tri-State\", \"sma7d\": 0.062}, {\"date\": \"2020-10-23T00:00:00\", \"totalTestResultsIncrease\": 1177811.0, \"positiveIncrease\": 78972.0, \"death\": 169320.0, \"deathIncrease\": 905.0, \"positiveRate\": 0.067, \"state\": \"Non Tri-State\", \"sma7d\": 0.062}, {\"date\": \"2020-10-24T00:00:00\", \"totalTestResultsIncrease\": 1164527.0, \"positiveIncrease\": 79317.0, \"death\": 170189.0, \"deathIncrease\": 869.0, \"positiveRate\": 0.068, \"state\": \"Non Tri-State\", \"sma7d\": 0.065}, {\"date\": \"2020-10-25T00:00:00\", \"totalTestResultsIncrease\": 1021393.0, \"positiveIncrease\": 62132.0, \"death\": 170555.0, \"deathIncrease\": 366.0, \"positiveRate\": 0.061, \"state\": \"Non Tri-State\", \"sma7d\": 0.067}, {\"date\": \"2020-10-26T00:00:00\", \"totalTestResultsIncrease\": 967403.0, \"positiveIncrease\": 58071.0, \"death\": 170926.0, \"deathIncrease\": 371.0, \"positiveRate\": 0.06, \"state\": \"Non Tri-State\", \"sma7d\": 0.067}, {\"date\": \"2020-10-27T00:00:00\", \"totalTestResultsIncrease\": 916869.0, \"positiveIncrease\": 67907.0, \"death\": 171809.0, \"deathIncrease\": 883.0, \"positiveRate\": 0.074, \"state\": \"Non Tri-State\", \"sma7d\": 0.067}, {\"date\": \"2020-10-28T00:00:00\", \"totalTestResultsIncrease\": 913354.0, \"positiveIncrease\": 74565.0, \"death\": 172811.0, \"deathIncrease\": 1002.0, \"positiveRate\": 0.082, \"state\": \"Non Tri-State\", \"sma7d\": 0.068}, {\"date\": \"2020-10-29T00:00:00\", \"totalTestResultsIncrease\": 1092999.0, \"positiveIncrease\": 83355.0, \"death\": 173816.0, \"deathIncrease\": 1005.0, \"positiveRate\": 0.076, \"state\": \"Non Tri-State\", \"sma7d\": 0.07}, {\"date\": \"2020-10-30T00:00:00\", \"totalTestResultsIncrease\": 1184071.0, \"positiveIncrease\": 92246.0, \"death\": 174737.0, \"deathIncrease\": 921.0, \"positiveRate\": 0.078, \"state\": \"Non Tri-State\", \"sma7d\": 0.071}, {\"date\": \"2020-10-31T00:00:00\", \"totalTestResultsIncrease\": 1171569.0, \"positiveIncrease\": 87173.0, \"death\": 175686.0, \"deathIncrease\": 949.0, \"positiveRate\": 0.074, \"state\": \"Non Tri-State\", \"sma7d\": 0.072}, {\"date\": \"2020-11-01T00:00:00\", \"totalTestResultsIncrease\": 977189.0, \"positiveIncrease\": 69851.0, \"death\": 176060.0, \"deathIncrease\": 374.0, \"positiveRate\": 0.071, \"state\": \"Non Tri-State\", \"sma7d\": 0.074}, {\"date\": \"2020-11-02T00:00:00\", \"totalTestResultsIncrease\": 1087218.0, \"positiveIncrease\": 76395.0, \"death\": 176523.0, \"deathIncrease\": 463.0, \"positiveRate\": 0.07, \"state\": \"Non Tri-State\", \"sma7d\": 0.075}, {\"date\": \"2020-11-03T00:00:00\", \"totalTestResultsIncrease\": 956008.0, \"positiveIncrease\": 82517.0, \"death\": 178004.0, \"deathIncrease\": 1481.0, \"positiveRate\": 0.086, \"state\": \"Non Tri-State\", \"sma7d\": 0.077}, {\"date\": \"2020-11-04T00:00:00\", \"totalTestResultsIncrease\": 1052879.0, \"positiveIncrease\": 97232.0, \"death\": 179072.0, \"deathIncrease\": 1068.0, \"positiveRate\": 0.092, \"state\": \"Non Tri-State\", \"sma7d\": 0.078}, {\"date\": \"2020-11-05T00:00:00\", \"totalTestResultsIncrease\": 1299003.0, \"positiveIncrease\": 109797.0, \"death\": 180171.0, \"deathIncrease\": 1099.0, \"positiveRate\": 0.085, \"state\": \"Non Tri-State\", \"sma7d\": 0.079}, {\"date\": \"2020-11-06T00:00:00\", \"totalTestResultsIncrease\": 1328164.0, \"positiveIncrease\": 119323.0, \"death\": 181298.0, \"deathIncrease\": 1127.0, \"positiveRate\": 0.09, \"state\": \"Non Tri-State\", \"sma7d\": 0.081}, {\"date\": \"2020-11-07T00:00:00\", \"totalTestResultsIncrease\": 1149580.0, \"positiveIncrease\": 122433.0, \"death\": 182390.0, \"deathIncrease\": 1092.0, \"positiveRate\": 0.107, \"state\": \"Non Tri-State\", \"sma7d\": 0.086}, {\"date\": \"2020-11-08T00:00:00\", \"totalTestResultsIncrease\": 1104595.0, \"positiveIncrease\": 104849.0, \"death\": 182863.0, \"deathIncrease\": 473.0, \"positiveRate\": 0.095, \"state\": \"Non Tri-State\", \"sma7d\": 0.089}, {\"date\": \"2020-11-09T00:00:00\", \"totalTestResultsIncrease\": 1243452.0, \"positiveIncrease\": 110894.0, \"death\": 183376.0, \"deathIncrease\": 513.0, \"positiveRate\": 0.089, \"state\": \"Non Tri-State\", \"sma7d\": 0.092}, {\"date\": \"2020-11-10T00:00:00\", \"totalTestResultsIncrease\": 1097420.0, \"positiveIncrease\": 121921.0, \"death\": 184674.0, \"deathIncrease\": 1298.0, \"positiveRate\": 0.111, \"state\": \"Non Tri-State\", \"sma7d\": 0.096}, {\"date\": \"2020-11-11T00:00:00\", \"totalTestResultsIncrease\": 1172567.0, \"positiveIncrease\": 135178.0, \"death\": 186192.0, \"deathIncrease\": 1518.0, \"positiveRate\": 0.115, \"state\": \"Non Tri-State\", \"sma7d\": 0.099}, {\"date\": \"2020-11-12T00:00:00\", \"totalTestResultsIncrease\": 1249202.0, \"positiveIncrease\": 142566.0, \"death\": 187253.0, \"deathIncrease\": 1061.0, \"positiveRate\": 0.114, \"state\": \"Non Tri-State\", \"sma7d\": 0.103}, {\"date\": \"2020-11-13T00:00:00\", \"totalTestResultsIncrease\": 1406406.0, \"positiveIncrease\": 160572.0, \"death\": 188459.0, \"deathIncrease\": 1206.0, \"positiveRate\": 0.114, \"state\": \"Non Tri-State\", \"sma7d\": 0.106}, {\"date\": \"2020-11-14T00:00:00\", \"totalTestResultsIncrease\": 1436212.0, \"positiveIncrease\": 153797.0, \"death\": 189740.0, \"deathIncrease\": 1281.0, \"positiveRate\": 0.107, \"state\": \"Non Tri-State\", \"sma7d\": 0.106}, {\"date\": \"2020-11-15T00:00:00\", \"totalTestResultsIncrease\": 1353853.0, \"positiveIncrease\": 136245.0, \"death\": 190379.0, \"deathIncrease\": 639.0, \"positiveRate\": 0.101, \"state\": \"Non Tri-State\", \"sma7d\": 0.107}, {\"date\": \"2020-11-16T00:00:00\", \"totalTestResultsIncrease\": 1273402.0, \"positiveIncrease\": 138525.0, \"death\": 190936.0, \"deathIncrease\": 557.0, \"positiveRate\": 0.109, \"state\": \"Non Tri-State\", \"sma7d\": 0.11}, {\"date\": \"2020-11-17T00:00:00\", \"totalTestResultsIncrease\": 1285207.0, \"positiveIncrease\": 145916.0, \"death\": 192411.0, \"deathIncrease\": 1475.0, \"positiveRate\": 0.114, \"state\": \"Non Tri-State\", \"sma7d\": 0.111}, {\"date\": \"2020-11-18T00:00:00\", \"totalTestResultsIncrease\": 1258934.0, \"positiveIncrease\": 152593.0, \"death\": 194189.0, \"deathIncrease\": 1778.0, \"positiveRate\": 0.121, \"state\": \"Non Tri-State\", \"sma7d\": 0.111}, {\"date\": \"2020-11-19T00:00:00\", \"totalTestResultsIncrease\": 1585002.0, \"positiveIncrease\": 170990.0, \"death\": 196069.0, \"deathIncrease\": 1880.0, \"positiveRate\": 0.108, \"state\": \"Non Tri-State\", \"sma7d\": 0.111}, {\"date\": \"2020-11-20T00:00:00\", \"totalTestResultsIncrease\": 1634788.0, \"positiveIncrease\": 181618.0, \"death\": 197872.0, \"deathIncrease\": 1803.0, \"positiveRate\": 0.111, \"state\": \"Non Tri-State\", \"sma7d\": 0.11}, {\"date\": \"2020-11-21T00:00:00\", \"totalTestResultsIncrease\": 1746688.0, \"positiveIncrease\": 169074.0, \"death\": 199316.0, \"deathIncrease\": 1444.0, \"positiveRate\": 0.097, \"state\": \"Non Tri-State\", \"sma7d\": 0.109}, {\"date\": \"2020-11-22T00:00:00\", \"totalTestResultsIncrease\": 1494071.0, \"positiveIncrease\": 141481.0, \"death\": 200168.0, \"deathIncrease\": 852.0, \"positiveRate\": 0.095, \"state\": \"Non Tri-State\", \"sma7d\": 0.108}, {\"date\": \"2020-11-23T00:00:00\", \"totalTestResultsIncrease\": 1403525.0, \"positiveIncrease\": 136200.0, \"death\": 201036.0, \"deathIncrease\": 868.0, \"positiveRate\": 0.097, \"state\": \"Non Tri-State\", \"sma7d\": 0.106}, {\"date\": \"2020-11-24T00:00:00\", \"totalTestResultsIncrease\": 1561957.0, \"positiveIncrease\": 157318.0, \"death\": 202994.0, \"deathIncrease\": 1958.0, \"positiveRate\": 0.101, \"state\": \"Non Tri-State\", \"sma7d\": 0.104}, {\"date\": \"2020-11-25T00:00:00\", \"totalTestResultsIncrease\": 1414477.0, \"positiveIncrease\": 171450.0, \"death\": 205130.0, \"deathIncrease\": 2136.0, \"positiveRate\": 0.121, \"state\": \"Non Tri-State\", \"sma7d\": 0.104}, {\"date\": \"2020-11-26T00:00:00\", \"totalTestResultsIncrease\": 948001.0, \"positiveIncrease\": 114929.0, \"death\": 206360.0, \"deathIncrease\": 1230.0, \"positiveRate\": 0.121, \"state\": \"Non Tri-State\", \"sma7d\": 0.106}, {\"date\": \"2020-11-27T00:00:00\", \"totalTestResultsIncrease\": 1831247.0, \"positiveIncrease\": 178025.0, \"death\": 207641.0, \"deathIncrease\": 1281.0, \"positiveRate\": 0.097, \"state\": \"Non Tri-State\", \"sma7d\": 0.104}, {\"date\": \"2020-11-28T00:00:00\", \"totalTestResultsIncrease\": 1449534.0, \"positiveIncrease\": 144657.0, \"death\": 208819.0, \"deathIncrease\": 1178.0, \"positiveRate\": 0.1, \"state\": \"Non Tri-State\", \"sma7d\": 0.105}, {\"date\": \"2020-11-29T00:00:00\", \"totalTestResultsIncrease\": 1128811.0, \"positiveIncrease\": 124680.0, \"death\": 209551.0, \"deathIncrease\": 732.0, \"positiveRate\": 0.11, \"state\": \"Non Tri-State\", \"sma7d\": 0.107}, {\"date\": \"2020-11-30T00:00:00\", \"totalTestResultsIncrease\": 1208369.0, \"positiveIncrease\": 132864.0, \"death\": 210556.0, \"deathIncrease\": 1005.0, \"positiveRate\": 0.11, \"state\": \"Non Tri-State\", \"sma7d\": 0.109}, {\"date\": \"2020-12-01T00:00:00\", \"totalTestResultsIncrease\": 2164959.0, \"positiveIncrease\": 163403.0, \"death\": 212850.0, \"deathIncrease\": 2294.0, \"positiveRate\": 0.075, \"state\": \"Non Tri-State\", \"sma7d\": 0.105}, {\"date\": \"2020-12-02T00:00:00\", \"totalTestResultsIncrease\": 1181936.0, \"positiveIncrease\": 179855.0, \"death\": 215397.0, \"deathIncrease\": 2547.0, \"positiveRate\": 0.152, \"state\": \"Non Tri-State\", \"sma7d\": 0.109}, {\"date\": \"2020-12-03T00:00:00\", \"totalTestResultsIncrease\": 1514868.0, \"positiveIncrease\": 190805.0, \"death\": 217953.0, \"deathIncrease\": 2556.0, \"positiveRate\": 0.126, \"state\": \"Non Tri-State\", \"sma7d\": 0.11}, {\"date\": \"2020-12-04T00:00:00\", \"totalTestResultsIncrease\": 1612924.0, \"positiveIncrease\": 206359.0, \"death\": 220373.0, \"deathIncrease\": 2420.0, \"positiveRate\": 0.128, \"state\": \"Non Tri-State\", \"sma7d\": 0.114}, {\"date\": \"2020-12-05T00:00:00\", \"totalTestResultsIncrease\": 1877214.0, \"positiveIncrease\": 196795.0, \"death\": 222711.0, \"deathIncrease\": 2338.0, \"positiveRate\": 0.105, \"state\": \"Non Tri-State\", \"sma7d\": 0.115}, {\"date\": \"2020-12-06T00:00:00\", \"totalTestResultsIncrease\": 1436444.0, \"positiveIncrease\": 162069.0, \"death\": 223782.0, \"deathIncrease\": 1071.0, \"positiveRate\": 0.113, \"state\": \"Non Tri-State\", \"sma7d\": 0.116}, {\"date\": \"2020-12-07T00:00:00\", \"totalTestResultsIncrease\": 1556215.0, \"positiveIncrease\": 161199.0, \"death\": 224953.0, \"deathIncrease\": 1171.0, \"positiveRate\": 0.104, \"state\": \"Non Tri-State\", \"sma7d\": 0.115}, {\"date\": \"2020-12-08T00:00:00\", \"totalTestResultsIncrease\": 1388806.0, \"positiveIncrease\": 196273.0, \"death\": 227392.0, \"deathIncrease\": 2439.0, \"positiveRate\": 0.141, \"state\": \"Non Tri-State\", \"sma7d\": 0.124}]}}, {\"mode\": \"vega-lite\"});\n",
       "</script>"
      ],
      "text/plain": [
       "alt.LayerChart(...)"
      ]
     },
     "execution_count": 16,
     "metadata": {},
     "output_type": "execute_result"
    }
   ],
   "source": [
    "create_plot(non_tristate, 'positiveRate')"
   ]
  },
  {
   "cell_type": "code",
   "execution_count": 17,
   "metadata": {
    "execution": {
     "iopub.execute_input": "2020-12-09T09:26:19.699703Z",
     "iopub.status.busy": "2020-12-09T09:26:19.684385Z",
     "iopub.status.idle": "2020-12-09T09:26:19.758133Z",
     "shell.execute_reply": "2020-12-09T09:26:19.758542Z"
    },
    "papermill": {
     "duration": 0.102735,
     "end_time": "2020-12-09T09:26:19.758691",
     "exception": false,
     "start_time": "2020-12-09T09:26:19.655956",
     "status": "completed"
    },
    "tags": []
   },
   "outputs": [
    {
     "data": {
      "text/html": [
       "\n",
       "<div id=\"altair-viz-f71c82eee02f44c5963c703a77d9f9f7\"></div>\n",
       "<script type=\"text/javascript\">\n",
       "  (function(spec, embedOpt){\n",
       "    let outputDiv = document.currentScript.previousElementSibling;\n",
       "    if (outputDiv.id !== \"altair-viz-f71c82eee02f44c5963c703a77d9f9f7\") {\n",
       "      outputDiv = document.getElementById(\"altair-viz-f71c82eee02f44c5963c703a77d9f9f7\");\n",
       "    }\n",
       "    const paths = {\n",
       "      \"vega\": \"https://cdn.jsdelivr.net/npm//vega@5?noext\",\n",
       "      \"vega-lib\": \"https://cdn.jsdelivr.net/npm//vega-lib?noext\",\n",
       "      \"vega-lite\": \"https://cdn.jsdelivr.net/npm//vega-lite@4.8.1?noext\",\n",
       "      \"vega-embed\": \"https://cdn.jsdelivr.net/npm//vega-embed@6?noext\",\n",
       "    };\n",
       "\n",
       "    function loadScript(lib) {\n",
       "      return new Promise(function(resolve, reject) {\n",
       "        var s = document.createElement('script');\n",
       "        s.src = paths[lib];\n",
       "        s.async = true;\n",
       "        s.onload = () => resolve(paths[lib]);\n",
       "        s.onerror = () => reject(`Error loading script: ${paths[lib]}`);\n",
       "        document.getElementsByTagName(\"head\")[0].appendChild(s);\n",
       "      });\n",
       "    }\n",
       "\n",
       "    function showError(err) {\n",
       "      outputDiv.innerHTML = `<div class=\"error\" style=\"color:red;\">${err}</div>`;\n",
       "      throw err;\n",
       "    }\n",
       "\n",
       "    function displayChart(vegaEmbed) {\n",
       "      vegaEmbed(outputDiv, spec, embedOpt)\n",
       "        .catch(err => showError(`Javascript Error: ${err.message}<br>This usually means there's a typo in your chart specification. See the javascript console for the full traceback.`));\n",
       "    }\n",
       "\n",
       "    if(typeof define === \"function\" && define.amd) {\n",
       "      requirejs.config({paths});\n",
       "      require([\"vega-embed\"], displayChart, err => showError(`Error loading script: ${err.message}`));\n",
       "    } else if (typeof vegaEmbed === \"function\") {\n",
       "      displayChart(vegaEmbed);\n",
       "    } else {\n",
       "      loadScript(\"vega\")\n",
       "        .then(() => loadScript(\"vega-lite\"))\n",
       "        .then(() => loadScript(\"vega-embed\"))\n",
       "        .catch(showError)\n",
       "        .then(() => displayChart(vegaEmbed));\n",
       "    }\n",
       "  })({\"config\": {\"view\": {\"continuousWidth\": 400, \"continuousHeight\": 300}}, \"layer\": [{\"layer\": [{\"mark\": {\"type\": \"point\", \"size\": 75}, \"encoding\": {\"tooltip\": [{\"type\": \"temporal\", \"field\": \"date\"}, {\"type\": \"quantitative\", \"field\": \"deathIncrease\"}, {\"type\": \"quantitative\", \"field\": \"sma7d\"}], \"x\": {\"type\": \"temporal\", \"field\": \"date\"}, \"y\": {\"type\": \"quantitative\", \"field\": \"deathIncrease\"}}, \"selection\": {\"selector018\": {\"type\": \"interval\", \"bind\": \"scales\", \"encodings\": [\"x\", \"y\"]}}}, {\"mark\": {\"type\": \"line\", \"color\": \"purple\"}, \"encoding\": {\"x\": {\"type\": \"temporal\", \"field\": \"date\"}, \"y\": {\"type\": \"quantitative\", \"field\": \"sma7d\"}}}]}, {\"mark\": {\"type\": \"rule\", \"color\": \"#aaa\"}, \"encoding\": {\"x\": {\"type\": \"temporal\", \"field\": \"date\"}}, \"transform\": [{\"filter\": {\"selection\": \"selector017\"}}]}, {\"mark\": \"circle\", \"encoding\": {\"opacity\": {\"condition\": {\"value\": 1, \"selection\": \"selector017\"}, \"value\": 0}, \"tooltip\": [{\"type\": \"temporal\", \"field\": \"date\"}, {\"type\": \"quantitative\", \"field\": \"deathIncrease\"}, {\"type\": \"quantitative\", \"field\": \"sma7d\"}], \"x\": {\"type\": \"temporal\", \"field\": \"date\"}, \"y\": {\"type\": \"quantitative\", \"field\": \"deathIncrease\"}}, \"selection\": {\"selector017\": {\"type\": \"single\", \"encodings\": [\"x\"], \"on\": \"mouseover\", \"nearest\": true, \"empty\": \"none\"}}}, {\"mark\": {\"type\": \"text\", \"align\": \"left\", \"dx\": 5, \"dy\": -5, \"stroke\": \"white\", \"strokeWidth\": 2}, \"encoding\": {\"text\": {\"type\": \"quantitative\", \"field\": \"deathIncrease\"}, \"tooltip\": [{\"type\": \"temporal\", \"field\": \"date\"}, {\"type\": \"quantitative\", \"field\": \"deathIncrease\"}, {\"type\": \"quantitative\", \"field\": \"sma7d\"}], \"x\": {\"type\": \"temporal\", \"field\": \"date\"}, \"y\": {\"type\": \"quantitative\", \"field\": \"deathIncrease\"}}, \"transform\": [{\"filter\": {\"selection\": \"selector017\"}}]}, {\"mark\": {\"type\": \"text\", \"align\": \"left\", \"dx\": 5, \"dy\": -5}, \"encoding\": {\"text\": {\"type\": \"quantitative\", \"field\": \"deathIncrease\"}, \"tooltip\": [{\"type\": \"temporal\", \"field\": \"date\"}, {\"type\": \"quantitative\", \"field\": \"deathIncrease\"}, {\"type\": \"quantitative\", \"field\": \"sma7d\"}], \"x\": {\"type\": \"temporal\", \"field\": \"date\"}, \"y\": {\"type\": \"quantitative\", \"field\": \"deathIncrease\"}}, \"transform\": [{\"filter\": {\"selection\": \"selector017\"}}]}], \"data\": {\"name\": \"data-814557efb975a391a6021f65c4030520\"}, \"height\": 400, \"title\": \"Non Tri-State: deathIncrease\", \"width\": 500, \"$schema\": \"https://vega.github.io/schema/vega-lite/v4.8.1.json\", \"datasets\": {\"data-814557efb975a391a6021f65c4030520\": [{\"date\": \"2020-10-15T00:00:00\", \"totalTestResultsIncrease\": 926832.0, \"positiveIncrease\": 60796.0, \"death\": 163076.0, \"deathIncrease\": 908.0, \"positiveRate\": 0.066, \"state\": \"Non Tri-State\", \"sma7d\": 664.429}, {\"date\": \"2020-10-16T00:00:00\", \"totalTestResultsIncrease\": 1030783.0, \"positiveIncrease\": 64930.0, \"death\": 163956.0, \"deathIncrease\": 880.0, \"positiveRate\": 0.063, \"state\": \"Non Tri-State\", \"sma7d\": 663.714}, {\"date\": \"2020-10-17T00:00:00\", \"totalTestResultsIncrease\": 1104360.0, \"positiveIncrease\": 54610.0, \"death\": 164718.0, \"deathIncrease\": 762.0, \"positiveRate\": 0.049, \"state\": \"Non Tri-State\", \"sma7d\": 677.429}, {\"date\": \"2020-10-18T00:00:00\", \"totalTestResultsIncrease\": 921635.0, \"positiveIncrease\": 45619.0, \"death\": 165106.0, \"deathIncrease\": 388.0, \"positiveRate\": 0.049, \"state\": \"Non Tri-State\", \"sma7d\": 667.143}, {\"date\": \"2020-10-19T00:00:00\", \"totalTestResultsIncrease\": 900113.0, \"positiveIncrease\": 53728.0, \"death\": 165532.0, \"deathIncrease\": 426.0, \"positiveRate\": 0.06, \"state\": \"Non Tri-State\", \"sma7d\": 690.0}, {\"date\": \"2020-10-20T00:00:00\", \"totalTestResultsIncrease\": 829947.0, \"positiveIncrease\": 57926.0, \"death\": 166338.0, \"deathIncrease\": 806.0, \"positiveRate\": 0.07, \"state\": \"Non Tri-State\", \"sma7d\": 708.143}, {\"date\": \"2020-10-21T00:00:00\", \"totalTestResultsIncrease\": 772311.0, \"positiveIncrease\": 57486.0, \"death\": 167324.0, \"deathIncrease\": 986.0, \"positiveRate\": 0.074, \"state\": \"Non Tri-State\", \"sma7d\": 736.571}, {\"date\": \"2020-10-22T00:00:00\", \"totalTestResultsIncrease\": 1038766.0, \"positiveIncrease\": 69550.0, \"death\": 168415.0, \"deathIncrease\": 1091.0, \"positiveRate\": 0.067, \"state\": \"Non Tri-State\", \"sma7d\": 762.714}, {\"date\": \"2020-10-23T00:00:00\", \"totalTestResultsIncrease\": 1177811.0, \"positiveIncrease\": 78972.0, \"death\": 169320.0, \"deathIncrease\": 905.0, \"positiveRate\": 0.067, \"state\": \"Non Tri-State\", \"sma7d\": 766.286}, {\"date\": \"2020-10-24T00:00:00\", \"totalTestResultsIncrease\": 1164527.0, \"positiveIncrease\": 79317.0, \"death\": 170189.0, \"deathIncrease\": 869.0, \"positiveRate\": 0.068, \"state\": \"Non Tri-State\", \"sma7d\": 781.571}, {\"date\": \"2020-10-25T00:00:00\", \"totalTestResultsIncrease\": 1021393.0, \"positiveIncrease\": 62132.0, \"death\": 170555.0, \"deathIncrease\": 366.0, \"positiveRate\": 0.061, \"state\": \"Non Tri-State\", \"sma7d\": 778.429}, {\"date\": \"2020-10-26T00:00:00\", \"totalTestResultsIncrease\": 967403.0, \"positiveIncrease\": 58071.0, \"death\": 170926.0, \"deathIncrease\": 371.0, \"positiveRate\": 0.06, \"state\": \"Non Tri-State\", \"sma7d\": 770.571}, {\"date\": \"2020-10-27T00:00:00\", \"totalTestResultsIncrease\": 916869.0, \"positiveIncrease\": 67907.0, \"death\": 171809.0, \"deathIncrease\": 883.0, \"positiveRate\": 0.074, \"state\": \"Non Tri-State\", \"sma7d\": 781.571}, {\"date\": \"2020-10-28T00:00:00\", \"totalTestResultsIncrease\": 913354.0, \"positiveIncrease\": 74565.0, \"death\": 172811.0, \"deathIncrease\": 1002.0, \"positiveRate\": 0.082, \"state\": \"Non Tri-State\", \"sma7d\": 783.857}, {\"date\": \"2020-10-29T00:00:00\", \"totalTestResultsIncrease\": 1092999.0, \"positiveIncrease\": 83355.0, \"death\": 173816.0, \"deathIncrease\": 1005.0, \"positiveRate\": 0.076, \"state\": \"Non Tri-State\", \"sma7d\": 771.571}, {\"date\": \"2020-10-30T00:00:00\", \"totalTestResultsIncrease\": 1184071.0, \"positiveIncrease\": 92246.0, \"death\": 174737.0, \"deathIncrease\": 921.0, \"positiveRate\": 0.078, \"state\": \"Non Tri-State\", \"sma7d\": 773.857}, {\"date\": \"2020-10-31T00:00:00\", \"totalTestResultsIncrease\": 1171569.0, \"positiveIncrease\": 87173.0, \"death\": 175686.0, \"deathIncrease\": 949.0, \"positiveRate\": 0.074, \"state\": \"Non Tri-State\", \"sma7d\": 785.286}, {\"date\": \"2020-11-01T00:00:00\", \"totalTestResultsIncrease\": 977189.0, \"positiveIncrease\": 69851.0, \"death\": 176060.0, \"deathIncrease\": 374.0, \"positiveRate\": 0.071, \"state\": \"Non Tri-State\", \"sma7d\": 786.429}, {\"date\": \"2020-11-02T00:00:00\", \"totalTestResultsIncrease\": 1087218.0, \"positiveIncrease\": 76395.0, \"death\": 176523.0, \"deathIncrease\": 463.0, \"positiveRate\": 0.07, \"state\": \"Non Tri-State\", \"sma7d\": 799.571}, {\"date\": \"2020-11-03T00:00:00\", \"totalTestResultsIncrease\": 956008.0, \"positiveIncrease\": 82517.0, \"death\": 178004.0, \"deathIncrease\": 1481.0, \"positiveRate\": 0.086, \"state\": \"Non Tri-State\", \"sma7d\": 885.0}, {\"date\": \"2020-11-04T00:00:00\", \"totalTestResultsIncrease\": 1052879.0, \"positiveIncrease\": 97232.0, \"death\": 179072.0, \"deathIncrease\": 1068.0, \"positiveRate\": 0.092, \"state\": \"Non Tri-State\", \"sma7d\": 894.429}, {\"date\": \"2020-11-05T00:00:00\", \"totalTestResultsIncrease\": 1299003.0, \"positiveIncrease\": 109797.0, \"death\": 180171.0, \"deathIncrease\": 1099.0, \"positiveRate\": 0.085, \"state\": \"Non Tri-State\", \"sma7d\": 907.857}, {\"date\": \"2020-11-06T00:00:00\", \"totalTestResultsIncrease\": 1328164.0, \"positiveIncrease\": 119323.0, \"death\": 181298.0, \"deathIncrease\": 1127.0, \"positiveRate\": 0.09, \"state\": \"Non Tri-State\", \"sma7d\": 937.286}, {\"date\": \"2020-11-07T00:00:00\", \"totalTestResultsIncrease\": 1149580.0, \"positiveIncrease\": 122433.0, \"death\": 182390.0, \"deathIncrease\": 1092.0, \"positiveRate\": 0.107, \"state\": \"Non Tri-State\", \"sma7d\": 957.714}, {\"date\": \"2020-11-08T00:00:00\", \"totalTestResultsIncrease\": 1104595.0, \"positiveIncrease\": 104849.0, \"death\": 182863.0, \"deathIncrease\": 473.0, \"positiveRate\": 0.095, \"state\": \"Non Tri-State\", \"sma7d\": 971.857}, {\"date\": \"2020-11-09T00:00:00\", \"totalTestResultsIncrease\": 1243452.0, \"positiveIncrease\": 110894.0, \"death\": 183376.0, \"deathIncrease\": 513.0, \"positiveRate\": 0.089, \"state\": \"Non Tri-State\", \"sma7d\": 979.0}, {\"date\": \"2020-11-10T00:00:00\", \"totalTestResultsIncrease\": 1097420.0, \"positiveIncrease\": 121921.0, \"death\": 184674.0, \"deathIncrease\": 1298.0, \"positiveRate\": 0.111, \"state\": \"Non Tri-State\", \"sma7d\": 952.857}, {\"date\": \"2020-11-11T00:00:00\", \"totalTestResultsIncrease\": 1172567.0, \"positiveIncrease\": 135178.0, \"death\": 186192.0, \"deathIncrease\": 1518.0, \"positiveRate\": 0.115, \"state\": \"Non Tri-State\", \"sma7d\": 1017.143}, {\"date\": \"2020-11-12T00:00:00\", \"totalTestResultsIncrease\": 1249202.0, \"positiveIncrease\": 142566.0, \"death\": 187253.0, \"deathIncrease\": 1061.0, \"positiveRate\": 0.114, \"state\": \"Non Tri-State\", \"sma7d\": 1011.714}, {\"date\": \"2020-11-13T00:00:00\", \"totalTestResultsIncrease\": 1406406.0, \"positiveIncrease\": 160572.0, \"death\": 188459.0, \"deathIncrease\": 1206.0, \"positiveRate\": 0.114, \"state\": \"Non Tri-State\", \"sma7d\": 1023.0}, {\"date\": \"2020-11-14T00:00:00\", \"totalTestResultsIncrease\": 1436212.0, \"positiveIncrease\": 153797.0, \"death\": 189740.0, \"deathIncrease\": 1281.0, \"positiveRate\": 0.107, \"state\": \"Non Tri-State\", \"sma7d\": 1050.0}, {\"date\": \"2020-11-15T00:00:00\", \"totalTestResultsIncrease\": 1353853.0, \"positiveIncrease\": 136245.0, \"death\": 190379.0, \"deathIncrease\": 639.0, \"positiveRate\": 0.101, \"state\": \"Non Tri-State\", \"sma7d\": 1073.714}, {\"date\": \"2020-11-16T00:00:00\", \"totalTestResultsIncrease\": 1273402.0, \"positiveIncrease\": 138525.0, \"death\": 190936.0, \"deathIncrease\": 557.0, \"positiveRate\": 0.109, \"state\": \"Non Tri-State\", \"sma7d\": 1080.0}, {\"date\": \"2020-11-17T00:00:00\", \"totalTestResultsIncrease\": 1285207.0, \"positiveIncrease\": 145916.0, \"death\": 192411.0, \"deathIncrease\": 1475.0, \"positiveRate\": 0.114, \"state\": \"Non Tri-State\", \"sma7d\": 1105.286}, {\"date\": \"2020-11-18T00:00:00\", \"totalTestResultsIncrease\": 1258934.0, \"positiveIncrease\": 152593.0, \"death\": 194189.0, \"deathIncrease\": 1778.0, \"positiveRate\": 0.121, \"state\": \"Non Tri-State\", \"sma7d\": 1142.429}, {\"date\": \"2020-11-19T00:00:00\", \"totalTestResultsIncrease\": 1585002.0, \"positiveIncrease\": 170990.0, \"death\": 196069.0, \"deathIncrease\": 1880.0, \"positiveRate\": 0.108, \"state\": \"Non Tri-State\", \"sma7d\": 1259.429}, {\"date\": \"2020-11-20T00:00:00\", \"totalTestResultsIncrease\": 1634788.0, \"positiveIncrease\": 181618.0, \"death\": 197872.0, \"deathIncrease\": 1803.0, \"positiveRate\": 0.111, \"state\": \"Non Tri-State\", \"sma7d\": 1344.714}, {\"date\": \"2020-11-21T00:00:00\", \"totalTestResultsIncrease\": 1746688.0, \"positiveIncrease\": 169074.0, \"death\": 199316.0, \"deathIncrease\": 1444.0, \"positiveRate\": 0.097, \"state\": \"Non Tri-State\", \"sma7d\": 1368.0}, {\"date\": \"2020-11-22T00:00:00\", \"totalTestResultsIncrease\": 1494071.0, \"positiveIncrease\": 141481.0, \"death\": 200168.0, \"deathIncrease\": 852.0, \"positiveRate\": 0.095, \"state\": \"Non Tri-State\", \"sma7d\": 1398.429}, {\"date\": \"2020-11-23T00:00:00\", \"totalTestResultsIncrease\": 1403525.0, \"positiveIncrease\": 136200.0, \"death\": 201036.0, \"deathIncrease\": 868.0, \"positiveRate\": 0.097, \"state\": \"Non Tri-State\", \"sma7d\": 1442.857}, {\"date\": \"2020-11-24T00:00:00\", \"totalTestResultsIncrease\": 1561957.0, \"positiveIncrease\": 157318.0, \"death\": 202994.0, \"deathIncrease\": 1958.0, \"positiveRate\": 0.101, \"state\": \"Non Tri-State\", \"sma7d\": 1511.857}, {\"date\": \"2020-11-25T00:00:00\", \"totalTestResultsIncrease\": 1414477.0, \"positiveIncrease\": 171450.0, \"death\": 205130.0, \"deathIncrease\": 2136.0, \"positiveRate\": 0.121, \"state\": \"Non Tri-State\", \"sma7d\": 1563.0}, {\"date\": \"2020-11-26T00:00:00\", \"totalTestResultsIncrease\": 948001.0, \"positiveIncrease\": 114929.0, \"death\": 206360.0, \"deathIncrease\": 1230.0, \"positiveRate\": 0.121, \"state\": \"Non Tri-State\", \"sma7d\": 1470.143}, {\"date\": \"2020-11-27T00:00:00\", \"totalTestResultsIncrease\": 1831247.0, \"positiveIncrease\": 178025.0, \"death\": 207641.0, \"deathIncrease\": 1281.0, \"positiveRate\": 0.097, \"state\": \"Non Tri-State\", \"sma7d\": 1395.571}, {\"date\": \"2020-11-28T00:00:00\", \"totalTestResultsIncrease\": 1449534.0, \"positiveIncrease\": 144657.0, \"death\": 208819.0, \"deathIncrease\": 1178.0, \"positiveRate\": 0.1, \"state\": \"Non Tri-State\", \"sma7d\": 1357.571}, {\"date\": \"2020-11-29T00:00:00\", \"totalTestResultsIncrease\": 1128811.0, \"positiveIncrease\": 124680.0, \"death\": 209551.0, \"deathIncrease\": 732.0, \"positiveRate\": 0.11, \"state\": \"Non Tri-State\", \"sma7d\": 1340.429}, {\"date\": \"2020-11-30T00:00:00\", \"totalTestResultsIncrease\": 1208369.0, \"positiveIncrease\": 132864.0, \"death\": 210556.0, \"deathIncrease\": 1005.0, \"positiveRate\": 0.11, \"state\": \"Non Tri-State\", \"sma7d\": 1360.0}, {\"date\": \"2020-12-01T00:00:00\", \"totalTestResultsIncrease\": 2164959.0, \"positiveIncrease\": 163403.0, \"death\": 212850.0, \"deathIncrease\": 2294.0, \"positiveRate\": 0.075, \"state\": \"Non Tri-State\", \"sma7d\": 1408.0}, {\"date\": \"2020-12-02T00:00:00\", \"totalTestResultsIncrease\": 1181936.0, \"positiveIncrease\": 179855.0, \"death\": 215397.0, \"deathIncrease\": 2547.0, \"positiveRate\": 0.152, \"state\": \"Non Tri-State\", \"sma7d\": 1466.714}, {\"date\": \"2020-12-03T00:00:00\", \"totalTestResultsIncrease\": 1514868.0, \"positiveIncrease\": 190805.0, \"death\": 217953.0, \"deathIncrease\": 2556.0, \"positiveRate\": 0.126, \"state\": \"Non Tri-State\", \"sma7d\": 1656.143}, {\"date\": \"2020-12-04T00:00:00\", \"totalTestResultsIncrease\": 1612924.0, \"positiveIncrease\": 206359.0, \"death\": 220373.0, \"deathIncrease\": 2420.0, \"positiveRate\": 0.128, \"state\": \"Non Tri-State\", \"sma7d\": 1818.857}, {\"date\": \"2020-12-05T00:00:00\", \"totalTestResultsIncrease\": 1877214.0, \"positiveIncrease\": 196795.0, \"death\": 222711.0, \"deathIncrease\": 2338.0, \"positiveRate\": 0.105, \"state\": \"Non Tri-State\", \"sma7d\": 1984.571}, {\"date\": \"2020-12-06T00:00:00\", \"totalTestResultsIncrease\": 1436444.0, \"positiveIncrease\": 162069.0, \"death\": 223782.0, \"deathIncrease\": 1071.0, \"positiveRate\": 0.113, \"state\": \"Non Tri-State\", \"sma7d\": 2033.0}, {\"date\": \"2020-12-07T00:00:00\", \"totalTestResultsIncrease\": 1556215.0, \"positiveIncrease\": 161199.0, \"death\": 224953.0, \"deathIncrease\": 1171.0, \"positiveRate\": 0.104, \"state\": \"Non Tri-State\", \"sma7d\": 2056.714}, {\"date\": \"2020-12-08T00:00:00\", \"totalTestResultsIncrease\": 1388806.0, \"positiveIncrease\": 196273.0, \"death\": 227392.0, \"deathIncrease\": 2439.0, \"positiveRate\": 0.141, \"state\": \"Non Tri-State\", \"sma7d\": 2077.429}]}}, {\"mode\": \"vega-lite\"});\n",
       "</script>"
      ],
      "text/plain": [
       "alt.LayerChart(...)"
      ]
     },
     "execution_count": 17,
     "metadata": {},
     "output_type": "execute_result"
    }
   ],
   "source": [
    "create_plot(non_tristate, 'deathIncrease')"
   ]
  }
 ],
 "metadata": {
  "kernelspec": {
   "display_name": "Python 3",
   "language": "python",
   "name": "python3"
  },
  "language_info": {
   "codemirror_mode": {
    "name": "ipython",
    "version": 3
   },
   "file_extension": ".py",
   "mimetype": "text/x-python",
   "name": "python",
   "nbconvert_exporter": "python",
   "pygments_lexer": "ipython3",
   "version": "3.8.6"
  },
  "papermill": {
   "duration": 10.951188,
   "end_time": "2020-12-09T09:26:20.084513",
   "environment_variables": {},
   "exception": null,
   "input_path": "2020-07-19-covid-plots.ipynb",
   "output_path": "2020-07-19-covid-plots.ipynb",
   "parameters": {},
   "start_time": "2020-12-09T09:26:09.133325",
   "version": "2.1.2"
  }
 },
 "nbformat": 4,
 "nbformat_minor": 4
}