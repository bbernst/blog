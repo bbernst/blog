{
 "cells": [
  {
   "cell_type": "markdown",
   "metadata": {
    "papermill": {
     "duration": 0.015461,
     "end_time": "2020-10-27T22:37:43.723352",
     "exception": false,
     "start_time": "2020-10-27T22:37:43.707891",
     "status": "completed"
    },
    "tags": []
   },
   "source": [
    "# \"COVID-19 plots\"\n",
    "> \"Interactive plots with daily updates\"\n",
    "\n",
    "- author: bbernst\n",
    "- toc: true\n",
    "- branch: master\n",
    "- badges: true\n",
    "- comments: true\n",
    "- categories: [healthcare, covid]\n",
    "- image: images/covid_plots/covid_mask.png\n",
    "- hide: false\n",
    "- search_exclude: true"
   ]
  },
  {
   "cell_type": "markdown",
   "metadata": {
    "papermill": {
     "duration": 0.014241,
     "end_time": "2020-10-27T22:37:43.753900",
     "exception": false,
     "start_time": "2020-10-27T22:37:43.739659",
     "status": "completed"
    },
    "tags": []
   },
   "source": [
    "I wanted to make a simple COVID-19 post to accomplish two main goals:\n",
    "1. Easily see the specific plots I'm interested in\n",
    "1. Update these plots every day, automatically\n",
    "\n",
    "Enter [fastpages](https://github.com/fastai/fastpages) and [github actions](https://github.com/features/actions). I'd been meaning to set up a blog with fastpages for a while and thought this would be a good reason to try it out. The documentation was great and I was able to set up automatic updates by using https://covid19dashboards.com/ as a guide.\n",
    "\n",
    "The data for this post comes from https://covidtracking.com/, which updates by 5pm each day, and I have my dashboard update at 6:30pm. For each geography -- so far that's the US, New York, and Non Tri-State -- I look at daily positive cases, positive rate, and deaths. Be sure to hover around on each of the plots, they have helpful interactive tooltips to make reading the data more intuitive."
   ]
  },
  {
   "cell_type": "code",
   "execution_count": 1,
   "metadata": {
    "execution": {
     "iopub.execute_input": "2020-10-27T22:37:43.786734Z",
     "iopub.status.busy": "2020-10-27T22:37:43.786118Z",
     "iopub.status.idle": "2020-10-27T22:37:44.227678Z",
     "shell.execute_reply": "2020-10-27T22:37:44.226913Z"
    },
    "papermill": {
     "duration": 0.460336,
     "end_time": "2020-10-27T22:37:44.227876",
     "exception": false,
     "start_time": "2020-10-27T22:37:43.767540",
     "status": "completed"
    },
    "tags": []
   },
   "outputs": [],
   "source": [
    "#collapse\n",
    "from typing import Callable, Literal\n",
    "import pandas as pd\n",
    "import altair as alt"
   ]
  },
  {
   "cell_type": "code",
   "execution_count": 2,
   "metadata": {
    "execution": {
     "iopub.execute_input": "2020-10-27T22:37:44.261245Z",
     "iopub.status.busy": "2020-10-27T22:37:44.260542Z",
     "iopub.status.idle": "2020-10-27T22:37:44.282636Z",
     "shell.execute_reply": "2020-10-27T22:37:44.283158Z"
    },
    "papermill": {
     "duration": 0.040981,
     "end_time": "2020-10-27T22:37:44.283337",
     "exception": false,
     "start_time": "2020-10-27T22:37:44.242356",
     "status": "completed"
    },
    "tags": []
   },
   "outputs": [
    {
     "name": "stdout",
     "output_type": "stream",
     "text": [
      "Last updated at (ET): 2020-10-27 06:37:44 PM\n"
     ]
    }
   ],
   "source": [
    "#hide_input\n",
    "current_utc = pd.Timestamp.now(tz='America/New_York').strftime('%Y-%m-%d %I:%M:%S %p')\n",
    "print(f\"Last updated at (ET): {current_utc}\")"
   ]
  },
  {
   "cell_type": "markdown",
   "metadata": {
    "papermill": {
     "duration": 0.013875,
     "end_time": "2020-10-27T22:37:44.311621",
     "exception": false,
     "start_time": "2020-10-27T22:37:44.297746",
     "status": "completed"
    },
    "tags": []
   },
   "source": [
    "# Data"
   ]
  },
  {
   "cell_type": "code",
   "execution_count": 3,
   "metadata": {
    "execution": {
     "iopub.execute_input": "2020-10-27T22:37:44.346346Z",
     "iopub.status.busy": "2020-10-27T22:37:44.345590Z",
     "iopub.status.idle": "2020-10-27T22:37:46.071251Z",
     "shell.execute_reply": "2020-10-27T22:37:46.070158Z"
    },
    "papermill": {
     "duration": 1.745156,
     "end_time": "2020-10-27T22:37:46.071397",
     "exception": false,
     "start_time": "2020-10-27T22:37:44.326241",
     "status": "completed"
    },
    "tags": []
   },
   "outputs": [],
   "source": [
    "df = pd.read_csv('https://covidtracking.com/api/states/daily.csv')"
   ]
  },
  {
   "cell_type": "markdown",
   "metadata": {
    "papermill": {
     "duration": 0.013621,
     "end_time": "2020-10-27T22:37:46.099441",
     "exception": false,
     "start_time": "2020-10-27T22:37:46.085820",
     "status": "completed"
    },
    "tags": []
   },
   "source": [
    "# Helpers"
   ]
  },
  {
   "cell_type": "code",
   "execution_count": 4,
   "metadata": {
    "execution": {
     "iopub.execute_input": "2020-10-27T22:37:46.147093Z",
     "iopub.status.busy": "2020-10-27T22:37:46.146450Z",
     "iopub.status.idle": "2020-10-27T22:37:46.148949Z",
     "shell.execute_reply": "2020-10-27T22:37:46.148228Z"
    },
    "papermill": {
     "duration": 0.032504,
     "end_time": "2020-10-27T22:37:46.149105",
     "exception": false,
     "start_time": "2020-10-27T22:37:46.116601",
     "status": "completed"
    },
    "tags": []
   },
   "outputs": [],
   "source": [
    "#collapse\n",
    "def create_df(df: pd.DataFrame, \n",
    "              filter_f: Callable, \n",
    "              state_name: str):\n",
    "    out_df = (\n",
    "     df\n",
    "     .assign(date = lambda d: pd.to_datetime(d['date'], format='%Y%m%d'))\n",
    "     .loc[filter_f, :]\n",
    "     .groupby('date')\n",
    "     .apply(lambda d: pd.Series(dict(\n",
    "         totalTestResultsIncrease = d['totalTestResultsIncrease'].sum(),\n",
    "         positiveIncrease = d['positiveIncrease'].sum(),\n",
    "         death = d['death'].sum(),\n",
    "         deathIncrease = d['deathIncrease'].sum()\n",
    "     )))\n",
    "     .reset_index()\n",
    "     .assign(positiveRate = lambda d: round(d['positiveIncrease'] / d['totalTestResultsIncrease'], 3))\n",
    "     .sort_values('date', ascending=True)\n",
    "     .assign(state = state_name)\n",
    "     .reset_index(drop=True)\n",
    "    )\n",
    "    \n",
    "    return out_df"
   ]
  },
  {
   "cell_type": "code",
   "execution_count": 5,
   "metadata": {
    "execution": {
     "iopub.execute_input": "2020-10-27T22:37:46.189698Z",
     "iopub.status.busy": "2020-10-27T22:37:46.188924Z",
     "iopub.status.idle": "2020-10-27T22:37:46.191209Z",
     "shell.execute_reply": "2020-10-27T22:37:46.191933Z"
    },
    "papermill": {
     "duration": 0.028545,
     "end_time": "2020-10-27T22:37:46.192149",
     "exception": false,
     "start_time": "2020-10-27T22:37:46.163604",
     "status": "completed"
    },
    "tags": []
   },
   "outputs": [],
   "source": [
    "#collapse\n",
    "def create_plot(df: pd.DataFrame, \n",
    "                column: Literal['totalTestResultsIncrease', \n",
    "                                'positiveIncrease', \n",
    "                                'death',\n",
    "                                'deathIncrease', \n",
    "                                'positiveRate'],\n",
    "                period: int = 7*8):\n",
    "    df = (\n",
    "     df\n",
    "     .assign(sma7d = lambda d: d[column].rolling(window=7).mean().round(3))\n",
    "     .loc[lambda d: d['date'] >= pd.to_datetime('today') - period * pd.Timedelta('1 days'), :]\n",
    "     .reset_index(drop=True)\n",
    "    )\n",
    "    the_state = df['state'][0]\n",
    "    label = alt.selection_single(\n",
    "        encodings=['x'], on='mouseover', nearest=True, empty='none')\n",
    "    \n",
    "    base = alt.Chart().mark_point(size=75).encode(\n",
    "        x='date:T',\n",
    "        y=f'{column}:Q',\n",
    "        tooltip=['date', f'{column}:Q', 'sma7d:Q']\n",
    "    )\n",
    "\n",
    "    sma = alt.Chart().mark_line(color='purple').encode(\n",
    "        x='date:T',\n",
    "        y='sma7d:Q'\n",
    "    )\n",
    "\n",
    "    layers = alt.layer(\n",
    "        base + sma,\n",
    "\n",
    "        # add a rule mark to serve as a guide line\n",
    "        alt.Chart().mark_rule(color='#aaa').encode(\n",
    "            x='date:T'\n",
    "        ).transform_filter(label),\n",
    "\n",
    "        # add circle marks for selected time points, hide unselected points\n",
    "        base.mark_circle().encode(\n",
    "            opacity=alt.condition(label, alt.value(1), alt.value(0))\n",
    "        ).add_selection(label),\n",
    "\n",
    "        # add white stroked text to provide a legible background for labels\n",
    "        base.mark_text(align='left', dx=5, dy=-5, stroke='white', strokeWidth=2).encode(\n",
    "            text=f'{column}:Q'\n",
    "        ).transform_filter(label),\n",
    "\n",
    "        # add text labels\n",
    "        base.mark_text(align='left', dx=5, dy=-5).encode(\n",
    "            text=f'{column}:Q'\n",
    "        ).transform_filter(label),\n",
    "        \n",
    "        data=df\n",
    "    ).properties(\n",
    "        title=f'{the_state}: {column}',\n",
    "        width=500,\n",
    "        height=400\n",
    "    )\n",
    "    \n",
    "    return layers.interactive()"
   ]
  },
  {
   "cell_type": "markdown",
   "metadata": {
    "papermill": {
     "duration": 0.01707,
     "end_time": "2020-10-27T22:37:46.224553",
     "exception": false,
     "start_time": "2020-10-27T22:37:46.207483",
     "status": "completed"
    },
    "tags": []
   },
   "source": [
    "# Plots"
   ]
  },
  {
   "cell_type": "markdown",
   "metadata": {
    "papermill": {
     "duration": 0.014924,
     "end_time": "2020-10-27T22:37:46.385973",
     "exception": false,
     "start_time": "2020-10-27T22:37:46.371049",
     "status": "completed"
    },
    "tags": []
   },
   "source": [
    "## US"
   ]
  },
  {
   "cell_type": "code",
   "execution_count": 6,
   "metadata": {
    "execution": {
     "iopub.execute_input": "2020-10-27T22:37:46.419239Z",
     "iopub.status.busy": "2020-10-27T22:37:46.418601Z",
     "iopub.status.idle": "2020-10-27T22:37:46.811020Z",
     "shell.execute_reply": "2020-10-27T22:37:46.811596Z"
    },
    "papermill": {
     "duration": 0.411334,
     "end_time": "2020-10-27T22:37:46.811815",
     "exception": false,
     "start_time": "2020-10-27T22:37:46.400481",
     "status": "completed"
    },
    "tags": []
   },
   "outputs": [],
   "source": [
    "us = create_df(df, lambda d: d.index > 0, 'US')"
   ]
  },
  {
   "cell_type": "code",
   "execution_count": 7,
   "metadata": {
    "execution": {
     "iopub.execute_input": "2020-10-27T22:37:46.869370Z",
     "iopub.status.busy": "2020-10-27T22:37:46.853984Z",
     "iopub.status.idle": "2020-10-27T22:37:46.961494Z",
     "shell.execute_reply": "2020-10-27T22:37:46.962079Z"
    },
    "papermill": {
     "duration": 0.135431,
     "end_time": "2020-10-27T22:37:46.962275",
     "exception": false,
     "start_time": "2020-10-27T22:37:46.826844",
     "status": "completed"
    },
    "tags": []
   },
   "outputs": [
    {
     "data": {
      "text/html": [
       "\n",
       "<div id=\"altair-viz-90276b66e1b941de941741c7aa4efd6a\"></div>\n",
       "<script type=\"text/javascript\">\n",
       "  (function(spec, embedOpt){\n",
       "    let outputDiv = document.currentScript.previousElementSibling;\n",
       "    if (outputDiv.id !== \"altair-viz-90276b66e1b941de941741c7aa4efd6a\") {\n",
       "      outputDiv = document.getElementById(\"altair-viz-90276b66e1b941de941741c7aa4efd6a\");\n",
       "    }\n",
       "    const paths = {\n",
       "      \"vega\": \"https://cdn.jsdelivr.net/npm//vega@5?noext\",\n",
       "      \"vega-lib\": \"https://cdn.jsdelivr.net/npm//vega-lib?noext\",\n",
       "      \"vega-lite\": \"https://cdn.jsdelivr.net/npm//vega-lite@4.8.1?noext\",\n",
       "      \"vega-embed\": \"https://cdn.jsdelivr.net/npm//vega-embed@6?noext\",\n",
       "    };\n",
       "\n",
       "    function loadScript(lib) {\n",
       "      return new Promise(function(resolve, reject) {\n",
       "        var s = document.createElement('script');\n",
       "        s.src = paths[lib];\n",
       "        s.async = true;\n",
       "        s.onload = () => resolve(paths[lib]);\n",
       "        s.onerror = () => reject(`Error loading script: ${paths[lib]}`);\n",
       "        document.getElementsByTagName(\"head\")[0].appendChild(s);\n",
       "      });\n",
       "    }\n",
       "\n",
       "    function showError(err) {\n",
       "      outputDiv.innerHTML = `<div class=\"error\" style=\"color:red;\">${err}</div>`;\n",
       "      throw err;\n",
       "    }\n",
       "\n",
       "    function displayChart(vegaEmbed) {\n",
       "      vegaEmbed(outputDiv, spec, embedOpt)\n",
       "        .catch(err => showError(`Javascript Error: ${err.message}<br>This usually means there's a typo in your chart specification. See the javascript console for the full traceback.`));\n",
       "    }\n",
       "\n",
       "    if(typeof define === \"function\" && define.amd) {\n",
       "      requirejs.config({paths});\n",
       "      require([\"vega-embed\"], displayChart, err => showError(`Error loading script: ${err.message}`));\n",
       "    } else if (typeof vegaEmbed === \"function\") {\n",
       "      displayChart(vegaEmbed);\n",
       "    } else {\n",
       "      loadScript(\"vega\")\n",
       "        .then(() => loadScript(\"vega-lite\"))\n",
       "        .then(() => loadScript(\"vega-embed\"))\n",
       "        .catch(showError)\n",
       "        .then(() => displayChart(vegaEmbed));\n",
       "    }\n",
       "  })({\"config\": {\"view\": {\"continuousWidth\": 400, \"continuousHeight\": 300}}, \"layer\": [{\"layer\": [{\"mark\": {\"type\": \"point\", \"size\": 75}, \"encoding\": {\"tooltip\": [{\"type\": \"temporal\", \"field\": \"date\"}, {\"type\": \"quantitative\", \"field\": \"positiveIncrease\"}, {\"type\": \"quantitative\", \"field\": \"sma7d\"}], \"x\": {\"type\": \"temporal\", \"field\": \"date\"}, \"y\": {\"type\": \"quantitative\", \"field\": \"positiveIncrease\"}}, \"selection\": {\"selector002\": {\"type\": \"interval\", \"bind\": \"scales\", \"encodings\": [\"x\", \"y\"]}}}, {\"mark\": {\"type\": \"line\", \"color\": \"purple\"}, \"encoding\": {\"x\": {\"type\": \"temporal\", \"field\": \"date\"}, \"y\": {\"type\": \"quantitative\", \"field\": \"sma7d\"}}}]}, {\"mark\": {\"type\": \"rule\", \"color\": \"#aaa\"}, \"encoding\": {\"x\": {\"type\": \"temporal\", \"field\": \"date\"}}, \"transform\": [{\"filter\": {\"selection\": \"selector001\"}}]}, {\"mark\": \"circle\", \"encoding\": {\"opacity\": {\"condition\": {\"value\": 1, \"selection\": \"selector001\"}, \"value\": 0}, \"tooltip\": [{\"type\": \"temporal\", \"field\": \"date\"}, {\"type\": \"quantitative\", \"field\": \"positiveIncrease\"}, {\"type\": \"quantitative\", \"field\": \"sma7d\"}], \"x\": {\"type\": \"temporal\", \"field\": \"date\"}, \"y\": {\"type\": \"quantitative\", \"field\": \"positiveIncrease\"}}, \"selection\": {\"selector001\": {\"type\": \"single\", \"encodings\": [\"x\"], \"on\": \"mouseover\", \"nearest\": true, \"empty\": \"none\"}}}, {\"mark\": {\"type\": \"text\", \"align\": \"left\", \"dx\": 5, \"dy\": -5, \"stroke\": \"white\", \"strokeWidth\": 2}, \"encoding\": {\"text\": {\"type\": \"quantitative\", \"field\": \"positiveIncrease\"}, \"tooltip\": [{\"type\": \"temporal\", \"field\": \"date\"}, {\"type\": \"quantitative\", \"field\": \"positiveIncrease\"}, {\"type\": \"quantitative\", \"field\": \"sma7d\"}], \"x\": {\"type\": \"temporal\", \"field\": \"date\"}, \"y\": {\"type\": \"quantitative\", \"field\": \"positiveIncrease\"}}, \"transform\": [{\"filter\": {\"selection\": \"selector001\"}}]}, {\"mark\": {\"type\": \"text\", \"align\": \"left\", \"dx\": 5, \"dy\": -5}, \"encoding\": {\"text\": {\"type\": \"quantitative\", \"field\": \"positiveIncrease\"}, \"tooltip\": [{\"type\": \"temporal\", \"field\": \"date\"}, {\"type\": \"quantitative\", \"field\": \"positiveIncrease\"}, {\"type\": \"quantitative\", \"field\": \"sma7d\"}], \"x\": {\"type\": \"temporal\", \"field\": \"date\"}, \"y\": {\"type\": \"quantitative\", \"field\": \"positiveIncrease\"}}, \"transform\": [{\"filter\": {\"selection\": \"selector001\"}}]}], \"data\": {\"name\": \"data-7e1c6bb098b3c23e6645de778a7f62eb\"}, \"height\": 400, \"title\": \"US: positiveIncrease\", \"width\": 500, \"$schema\": \"https://vega.github.io/schema/vega-lite/v4.8.1.json\", \"datasets\": {\"data-7e1c6bb098b3c23e6645de778a7f62eb\": [{\"date\": \"2020-09-02T00:00:00\", \"totalTestResultsIncrease\": 703918.0, \"positiveIncrease\": 30511.0, \"death\": 177671.0, \"deathIncrease\": 1032.0, \"positiveRate\": 0.043, \"state\": \"US\", \"sma7d\": 39795.571}, {\"date\": \"2020-09-03T00:00:00\", \"totalTestResultsIncrease\": 828942.0, \"positiveIncrease\": 44630.0, \"death\": 178741.0, \"deathIncrease\": 1070.0, \"positiveRate\": 0.054, \"state\": \"US\", \"sma7d\": 39893.571}, {\"date\": \"2020-09-04T00:00:00\", \"totalTestResultsIncrease\": 979225.0, \"positiveIncrease\": 51540.0, \"death\": 179739.0, \"deathIncrease\": 998.0, \"positiveRate\": 0.053, \"state\": \"US\", \"sma7d\": 40618.571}, {\"date\": \"2020-09-05T00:00:00\", \"totalTestResultsIncrease\": 908107.0, \"positiveIncrease\": 44842.0, \"death\": 180657.0, \"deathIncrease\": 918.0, \"positiveRate\": 0.049, \"state\": \"US\", \"sma7d\": 40676.571}, {\"date\": \"2020-09-06T00:00:00\", \"totalTestResultsIncrease\": 789759.0, \"positiveIncrease\": 33066.0, \"death\": 181106.0, \"deathIncrease\": 449.0, \"positiveRate\": 0.042, \"state\": \"US\", \"sma7d\": 39762.429}, {\"date\": \"2020-09-07T00:00:00\", \"totalTestResultsIncrease\": 626030.0, \"positiveIncrease\": 28656.0, \"death\": 181331.0, \"deathIncrease\": 225.0, \"positiveRate\": 0.046, \"state\": \"US\", \"sma7d\": 39370.857}, {\"date\": \"2020-09-08T00:00:00\", \"totalTestResultsIncrease\": 552093.0, \"positiveIncrease\": 22197.0, \"death\": 181689.0, \"deathIncrease\": 358.0, \"positiveRate\": 0.04, \"state\": \"US\", \"sma7d\": 36491.714}, {\"date\": \"2020-09-09T00:00:00\", \"totalTestResultsIncrease\": 659031.0, \"positiveIncrease\": 31064.0, \"death\": 182773.0, \"deathIncrease\": 1084.0, \"positiveRate\": 0.047, \"state\": \"US\", \"sma7d\": 36570.714}, {\"date\": \"2020-09-10T00:00:00\", \"totalTestResultsIncrease\": 730390.0, \"positiveIncrease\": 37535.0, \"death\": 183943.0, \"deathIncrease\": 1170.0, \"positiveRate\": 0.051, \"state\": \"US\", \"sma7d\": 35557.143}, {\"date\": \"2020-09-11T00:00:00\", \"totalTestResultsIncrease\": 856962.0, \"positiveIncrease\": 44881.0, \"death\": 184961.0, \"deathIncrease\": 1018.0, \"positiveRate\": 0.052, \"state\": \"US\", \"sma7d\": 34605.857}, {\"date\": \"2020-09-12T00:00:00\", \"totalTestResultsIncrease\": 930274.0, \"positiveIncrease\": 42068.0, \"death\": 185771.0, \"deathIncrease\": 810.0, \"positiveRate\": 0.045, \"state\": \"US\", \"sma7d\": 34209.571}, {\"date\": \"2020-09-13T00:00:00\", \"totalTestResultsIncrease\": 720597.0, \"positiveIncrease\": 34425.0, \"death\": 186161.0, \"deathIncrease\": 390.0, \"positiveRate\": 0.048, \"state\": \"US\", \"sma7d\": 34403.714}, {\"date\": \"2020-09-14T00:00:00\", \"totalTestResultsIncrease\": 457565.0, \"positiveIncrease\": 33846.0, \"death\": 186565.0, \"deathIncrease\": 404.0, \"positiveRate\": 0.074, \"state\": \"US\", \"sma7d\": 35145.143}, {\"date\": \"2020-09-15T00:00:00\", \"totalTestResultsIncrease\": 760068.0, \"positiveIncrease\": 35072.0, \"death\": 187596.0, \"deathIncrease\": 1031.0, \"positiveRate\": 0.046, \"state\": \"US\", \"sma7d\": 36984.429}, {\"date\": \"2020-09-16T00:00:00\", \"totalTestResultsIncrease\": 770452.0, \"positiveIncrease\": 39954.0, \"death\": 188796.0, \"deathIncrease\": 1200.0, \"positiveRate\": 0.052, \"state\": \"US\", \"sma7d\": 38254.429}, {\"date\": \"2020-09-17T00:00:00\", \"totalTestResultsIncrease\": 885819.0, \"positiveIncrease\": 43576.0, \"death\": 189659.0, \"deathIncrease\": 863.0, \"positiveRate\": 0.049, \"state\": \"US\", \"sma7d\": 39117.429}, {\"date\": \"2020-09-18T00:00:00\", \"totalTestResultsIncrease\": 1019019.0, \"positiveIncrease\": 47459.0, \"death\": 190560.0, \"deathIncrease\": 901.0, \"positiveRate\": 0.047, \"state\": \"US\", \"sma7d\": 39485.714}, {\"date\": \"2020-09-19T00:00:00\", \"totalTestResultsIncrease\": 1100771.0, \"positiveIncrease\": 45501.0, \"death\": 191300.0, \"deathIncrease\": 740.0, \"positiveRate\": 0.041, \"state\": \"US\", \"sma7d\": 39976.143}, {\"date\": \"2020-09-20T00:00:00\", \"totalTestResultsIncrease\": 932867.0, \"positiveIncrease\": 36271.0, \"death\": 191627.0, \"deathIncrease\": 327.0, \"positiveRate\": 0.039, \"state\": \"US\", \"sma7d\": 40239.857}, {\"date\": \"2020-09-21T00:00:00\", \"totalTestResultsIncrease\": 736085.0, \"positiveIncrease\": 39458.0, \"death\": 191914.0, \"deathIncrease\": 287.0, \"positiveRate\": 0.054, \"state\": \"US\", \"sma7d\": 41041.571}, {\"date\": \"2020-09-22T00:00:00\", \"totalTestResultsIncrease\": 812466.0, \"positiveIncrease\": 49383.0, \"death\": 192768.0, \"deathIncrease\": 854.0, \"positiveRate\": 0.061, \"state\": \"US\", \"sma7d\": 43086.0}, {\"date\": \"2020-09-23T00:00:00\", \"totalTestResultsIncrease\": 962740.0, \"positiveIncrease\": 38571.0, \"death\": 193927.0, \"deathIncrease\": 1159.0, \"positiveRate\": 0.04, \"state\": \"US\", \"sma7d\": 42888.429}, {\"date\": \"2020-09-24T00:00:00\", \"totalTestResultsIncrease\": 974716.0, \"positiveIncrease\": 43708.0, \"death\": 194848.0, \"deathIncrease\": 921.0, \"positiveRate\": 0.045, \"state\": \"US\", \"sma7d\": 42907.286}, {\"date\": \"2020-09-25T00:00:00\", \"totalTestResultsIncrease\": 1054219.0, \"positiveIncrease\": 55488.0, \"death\": 195692.0, \"deathIncrease\": 844.0, \"positiveRate\": 0.053, \"state\": \"US\", \"sma7d\": 44054.286}, {\"date\": \"2020-09-26T00:00:00\", \"totalTestResultsIncrease\": 1056574.0, \"positiveIncrease\": 47792.0, \"death\": 196561.0, \"deathIncrease\": 869.0, \"positiveRate\": 0.045, \"state\": \"US\", \"sma7d\": 44381.571}, {\"date\": \"2020-09-27T00:00:00\", \"totalTestResultsIncrease\": 849681.0, \"positiveIncrease\": 35419.0, \"death\": 196868.0, \"deathIncrease\": 307.0, \"positiveRate\": 0.042, \"state\": \"US\", \"sma7d\": 44259.857}, {\"date\": \"2020-09-28T00:00:00\", \"totalTestResultsIncrease\": 1128303.0, \"positiveIncrease\": 36514.0, \"death\": 197125.0, \"deathIncrease\": 257.0, \"positiveRate\": 0.032, \"state\": \"US\", \"sma7d\": 43839.286}, {\"date\": \"2020-09-29T00:00:00\", \"totalTestResultsIncrease\": 858142.0, \"positiveIncrease\": 36890.0, \"death\": 197864.0, \"deathIncrease\": 739.0, \"positiveRate\": 0.043, \"state\": \"US\", \"sma7d\": 42054.571}, {\"date\": \"2020-09-30T00:00:00\", \"totalTestResultsIncrease\": 846727.0, \"positiveIncrease\": 44356.0, \"death\": 198925.0, \"deathIncrease\": 1061.0, \"positiveRate\": 0.052, \"state\": \"US\", \"sma7d\": 42881.0}, {\"date\": \"2020-10-01T00:00:00\", \"totalTestResultsIncrease\": 932115.0, \"positiveIncrease\": 45617.0, \"death\": 199776.0, \"deathIncrease\": 851.0, \"positiveRate\": 0.049, \"state\": \"US\", \"sma7d\": 43153.714}, {\"date\": \"2020-10-02T00:00:00\", \"totalTestResultsIncrease\": 1163796.0, \"positiveIncrease\": 49484.0, \"death\": 200611.0, \"deathIncrease\": 835.0, \"positiveRate\": 0.043, \"state\": \"US\", \"sma7d\": 42296.0}, {\"date\": \"2020-10-03T00:00:00\", \"totalTestResultsIncrease\": 1033763.0, \"positiveIncrease\": 51338.0, \"death\": 201352.0, \"deathIncrease\": 741.0, \"positiveRate\": 0.05, \"state\": \"US\", \"sma7d\": 42802.571}, {\"date\": \"2020-10-04T00:00:00\", \"totalTestResultsIncrease\": 973737.0, \"positiveIncrease\": 38357.0, \"death\": 201715.0, \"deathIncrease\": 363.0, \"positiveRate\": 0.039, \"state\": \"US\", \"sma7d\": 43222.286}, {\"date\": \"2020-10-05T00:00:00\", \"totalTestResultsIncrease\": 947300.0, \"positiveIncrease\": 38124.0, \"death\": 202041.0, \"deathIncrease\": 326.0, \"positiveRate\": 0.04, \"state\": \"US\", \"sma7d\": 43452.286}, {\"date\": \"2020-10-06T00:00:00\", \"totalTestResultsIncrease\": 859771.0, \"positiveIncrease\": 38611.0, \"death\": 202675.0, \"deathIncrease\": 634.0, \"positiveRate\": 0.045, \"state\": \"US\", \"sma7d\": 43698.143}, {\"date\": \"2020-10-07T00:00:00\", \"totalTestResultsIncrease\": 900852.0, \"positiveIncrease\": 50564.0, \"death\": 203591.0, \"deathIncrease\": 916.0, \"positiveRate\": 0.056, \"state\": \"US\", \"sma7d\": 44585.0}, {\"date\": \"2020-10-08T00:00:00\", \"totalTestResultsIncrease\": 1076031.0, \"positiveIncrease\": 55292.0, \"death\": 204577.0, \"deathIncrease\": 986.0, \"positiveRate\": 0.051, \"state\": \"US\", \"sma7d\": 45967.143}, {\"date\": \"2020-10-09T00:00:00\", \"totalTestResultsIncrease\": 1126832.0, \"positiveIncrease\": 57005.0, \"death\": 205470.0, \"deathIncrease\": 893.0, \"positiveRate\": 0.051, \"state\": \"US\", \"sma7d\": 47041.571}, {\"date\": \"2020-10-10T00:00:00\", \"totalTestResultsIncrease\": 1185902.0, \"positiveIncrease\": 57492.0, \"death\": 206135.0, \"deathIncrease\": 665.0, \"positiveRate\": 0.048, \"state\": \"US\", \"sma7d\": 47920.714}, {\"date\": \"2020-10-11T00:00:00\", \"totalTestResultsIncrease\": 971852.0, \"positiveIncrease\": 46790.0, \"death\": 206601.0, \"deathIncrease\": 466.0, \"positiveRate\": 0.048, \"state\": \"US\", \"sma7d\": 49125.429}, {\"date\": \"2020-10-12T00:00:00\", \"totalTestResultsIncrease\": 1016949.0, \"positiveIncrease\": 43110.0, \"death\": 206888.0, \"deathIncrease\": 287.0, \"positiveRate\": 0.042, \"state\": \"US\", \"sma7d\": 49837.714}, {\"date\": \"2020-10-13T00:00:00\", \"totalTestResultsIncrease\": 985976.0, \"positiveIncrease\": 48319.0, \"death\": 207578.0, \"deathIncrease\": 690.0, \"positiveRate\": 0.049, \"state\": \"US\", \"sma7d\": 51224.571}, {\"date\": \"2020-10-14T00:00:00\", \"totalTestResultsIncrease\": 980986.0, \"positiveIncrease\": 56722.0, \"death\": 208389.0, \"deathIncrease\": 811.0, \"positiveRate\": 0.058, \"state\": \"US\", \"sma7d\": 52104.286}, {\"date\": \"2020-10-15T00:00:00\", \"totalTestResultsIncrease\": 1019064.0, \"positiveIncrease\": 63102.0, \"death\": 209340.0, \"deathIncrease\": 951.0, \"positiveRate\": 0.062, \"state\": \"US\", \"sma7d\": 53220.0}, {\"date\": \"2020-10-16T00:00:00\", \"totalTestResultsIncrease\": 1143077.0, \"positiveIncrease\": 68040.0, \"death\": 210217.0, \"deathIncrease\": 877.0, \"positiveRate\": 0.06, \"state\": \"US\", \"sma7d\": 54796.429}, {\"date\": \"2020-10-17T00:00:00\", \"totalTestResultsIncrease\": 1195470.0, \"positiveIncrease\": 57867.0, \"death\": 210997.0, \"deathIncrease\": 780.0, \"positiveRate\": 0.048, \"state\": \"US\", \"sma7d\": 54850.0}, {\"date\": \"2020-10-18T00:00:00\", \"totalTestResultsIncrease\": 982369.0, \"positiveIncrease\": 48857.0, \"death\": 211390.0, \"deathIncrease\": 393.0, \"positiveRate\": 0.05, \"state\": \"US\", \"sma7d\": 55145.286}, {\"date\": \"2020-10-19T00:00:00\", \"totalTestResultsIncrease\": 1203152.0, \"positiveIncrease\": 57132.0, \"death\": 211846.0, \"deathIncrease\": 456.0, \"positiveRate\": 0.047, \"state\": \"US\", \"sma7d\": 57148.429}, {\"date\": \"2020-10-20T00:00:00\", \"totalTestResultsIncrease\": 909280.0, \"positiveIncrease\": 60558.0, \"death\": 212678.0, \"deathIncrease\": 832.0, \"positiveRate\": 0.067, \"state\": \"US\", \"sma7d\": 58896.857}, {\"date\": \"2020-10-21T00:00:00\", \"totalTestResultsIncrease\": 882948.0, \"positiveIncrease\": 60712.0, \"death\": 213702.0, \"deathIncrease\": 1024.0, \"positiveRate\": 0.069, \"state\": \"US\", \"sma7d\": 59466.857}, {\"date\": \"2020-10-22T00:00:00\", \"totalTestResultsIncrease\": 1126699.0, \"positiveIncrease\": 73007.0, \"death\": 214845.0, \"deathIncrease\": 1143.0, \"positiveRate\": 0.065, \"state\": \"US\", \"sma7d\": 60881.857}, {\"date\": \"2020-10-23T00:00:00\", \"totalTestResultsIncrease\": 1286625.0, \"positiveIncrease\": 83057.0, \"death\": 215762.0, \"deathIncrease\": 917.0, \"positiveRate\": 0.065, \"state\": \"US\", \"sma7d\": 63027.143}, {\"date\": \"2020-10-24T00:00:00\", \"totalTestResultsIncrease\": 1222526.0, \"positiveIncrease\": 82925.0, \"death\": 216652.0, \"deathIncrease\": 890.0, \"positiveRate\": 0.068, \"state\": \"US\", \"sma7d\": 66606.857}, {\"date\": \"2020-10-25T00:00:00\", \"totalTestResultsIncrease\": 1123075.0, \"positiveIncrease\": 65650.0, \"death\": 217029.0, \"deathIncrease\": 377.0, \"positiveRate\": 0.058, \"state\": \"US\", \"sma7d\": 69005.857}, {\"date\": \"2020-10-26T00:00:00\", \"totalTestResultsIncrease\": 1142124.0, \"positiveIncrease\": 61925.0, \"death\": 217350.0, \"deathIncrease\": 389.0, \"positiveRate\": 0.054, \"state\": \"US\", \"sma7d\": 69690.571}]}}, {\"mode\": \"vega-lite\"});\n",
       "</script>"
      ],
      "text/plain": [
       "alt.LayerChart(...)"
      ]
     },
     "execution_count": 7,
     "metadata": {},
     "output_type": "execute_result"
    }
   ],
   "source": [
    "create_plot(us, 'positiveIncrease')"
   ]
  },
  {
   "cell_type": "code",
   "execution_count": 8,
   "metadata": {
    "execution": {
     "iopub.execute_input": "2020-10-27T22:37:47.035363Z",
     "iopub.status.busy": "2020-10-27T22:37:47.004620Z",
     "iopub.status.idle": "2020-10-27T22:37:47.103042Z",
     "shell.execute_reply": "2020-10-27T22:37:47.103674Z"
    },
    "papermill": {
     "duration": 0.126985,
     "end_time": "2020-10-27T22:37:47.103855",
     "exception": false,
     "start_time": "2020-10-27T22:37:46.976870",
     "status": "completed"
    },
    "tags": []
   },
   "outputs": [
    {
     "data": {
      "text/html": [
       "\n",
       "<div id=\"altair-viz-9b69cdeea67a40a4b90e8e8c2c95a0c9\"></div>\n",
       "<script type=\"text/javascript\">\n",
       "  (function(spec, embedOpt){\n",
       "    let outputDiv = document.currentScript.previousElementSibling;\n",
       "    if (outputDiv.id !== \"altair-viz-9b69cdeea67a40a4b90e8e8c2c95a0c9\") {\n",
       "      outputDiv = document.getElementById(\"altair-viz-9b69cdeea67a40a4b90e8e8c2c95a0c9\");\n",
       "    }\n",
       "    const paths = {\n",
       "      \"vega\": \"https://cdn.jsdelivr.net/npm//vega@5?noext\",\n",
       "      \"vega-lib\": \"https://cdn.jsdelivr.net/npm//vega-lib?noext\",\n",
       "      \"vega-lite\": \"https://cdn.jsdelivr.net/npm//vega-lite@4.8.1?noext\",\n",
       "      \"vega-embed\": \"https://cdn.jsdelivr.net/npm//vega-embed@6?noext\",\n",
       "    };\n",
       "\n",
       "    function loadScript(lib) {\n",
       "      return new Promise(function(resolve, reject) {\n",
       "        var s = document.createElement('script');\n",
       "        s.src = paths[lib];\n",
       "        s.async = true;\n",
       "        s.onload = () => resolve(paths[lib]);\n",
       "        s.onerror = () => reject(`Error loading script: ${paths[lib]}`);\n",
       "        document.getElementsByTagName(\"head\")[0].appendChild(s);\n",
       "      });\n",
       "    }\n",
       "\n",
       "    function showError(err) {\n",
       "      outputDiv.innerHTML = `<div class=\"error\" style=\"color:red;\">${err}</div>`;\n",
       "      throw err;\n",
       "    }\n",
       "\n",
       "    function displayChart(vegaEmbed) {\n",
       "      vegaEmbed(outputDiv, spec, embedOpt)\n",
       "        .catch(err => showError(`Javascript Error: ${err.message}<br>This usually means there's a typo in your chart specification. See the javascript console for the full traceback.`));\n",
       "    }\n",
       "\n",
       "    if(typeof define === \"function\" && define.amd) {\n",
       "      requirejs.config({paths});\n",
       "      require([\"vega-embed\"], displayChart, err => showError(`Error loading script: ${err.message}`));\n",
       "    } else if (typeof vegaEmbed === \"function\") {\n",
       "      displayChart(vegaEmbed);\n",
       "    } else {\n",
       "      loadScript(\"vega\")\n",
       "        .then(() => loadScript(\"vega-lite\"))\n",
       "        .then(() => loadScript(\"vega-embed\"))\n",
       "        .catch(showError)\n",
       "        .then(() => displayChart(vegaEmbed));\n",
       "    }\n",
       "  })({\"config\": {\"view\": {\"continuousWidth\": 400, \"continuousHeight\": 300}}, \"layer\": [{\"layer\": [{\"mark\": {\"type\": \"point\", \"size\": 75}, \"encoding\": {\"tooltip\": [{\"type\": \"temporal\", \"field\": \"date\"}, {\"type\": \"quantitative\", \"field\": \"positiveRate\"}, {\"type\": \"quantitative\", \"field\": \"sma7d\"}], \"x\": {\"type\": \"temporal\", \"field\": \"date\"}, \"y\": {\"type\": \"quantitative\", \"field\": \"positiveRate\"}}, \"selection\": {\"selector004\": {\"type\": \"interval\", \"bind\": \"scales\", \"encodings\": [\"x\", \"y\"]}}}, {\"mark\": {\"type\": \"line\", \"color\": \"purple\"}, \"encoding\": {\"x\": {\"type\": \"temporal\", \"field\": \"date\"}, \"y\": {\"type\": \"quantitative\", \"field\": \"sma7d\"}}}]}, {\"mark\": {\"type\": \"rule\", \"color\": \"#aaa\"}, \"encoding\": {\"x\": {\"type\": \"temporal\", \"field\": \"date\"}}, \"transform\": [{\"filter\": {\"selection\": \"selector003\"}}]}, {\"mark\": \"circle\", \"encoding\": {\"opacity\": {\"condition\": {\"value\": 1, \"selection\": \"selector003\"}, \"value\": 0}, \"tooltip\": [{\"type\": \"temporal\", \"field\": \"date\"}, {\"type\": \"quantitative\", \"field\": \"positiveRate\"}, {\"type\": \"quantitative\", \"field\": \"sma7d\"}], \"x\": {\"type\": \"temporal\", \"field\": \"date\"}, \"y\": {\"type\": \"quantitative\", \"field\": \"positiveRate\"}}, \"selection\": {\"selector003\": {\"type\": \"single\", \"encodings\": [\"x\"], \"on\": \"mouseover\", \"nearest\": true, \"empty\": \"none\"}}}, {\"mark\": {\"type\": \"text\", \"align\": \"left\", \"dx\": 5, \"dy\": -5, \"stroke\": \"white\", \"strokeWidth\": 2}, \"encoding\": {\"text\": {\"type\": \"quantitative\", \"field\": \"positiveRate\"}, \"tooltip\": [{\"type\": \"temporal\", \"field\": \"date\"}, {\"type\": \"quantitative\", \"field\": \"positiveRate\"}, {\"type\": \"quantitative\", \"field\": \"sma7d\"}], \"x\": {\"type\": \"temporal\", \"field\": \"date\"}, \"y\": {\"type\": \"quantitative\", \"field\": \"positiveRate\"}}, \"transform\": [{\"filter\": {\"selection\": \"selector003\"}}]}, {\"mark\": {\"type\": \"text\", \"align\": \"left\", \"dx\": 5, \"dy\": -5}, \"encoding\": {\"text\": {\"type\": \"quantitative\", \"field\": \"positiveRate\"}, \"tooltip\": [{\"type\": \"temporal\", \"field\": \"date\"}, {\"type\": \"quantitative\", \"field\": \"positiveRate\"}, {\"type\": \"quantitative\", \"field\": \"sma7d\"}], \"x\": {\"type\": \"temporal\", \"field\": \"date\"}, \"y\": {\"type\": \"quantitative\", \"field\": \"positiveRate\"}}, \"transform\": [{\"filter\": {\"selection\": \"selector003\"}}]}], \"data\": {\"name\": \"data-d6fd19796f524027a5e3d4d9500dff2a\"}, \"height\": 400, \"title\": \"US: positiveRate\", \"width\": 500, \"$schema\": \"https://vega.github.io/schema/vega-lite/v4.8.1.json\", \"datasets\": {\"data-d6fd19796f524027a5e3d4d9500dff2a\": [{\"date\": \"2020-09-02T00:00:00\", \"totalTestResultsIncrease\": 703918.0, \"positiveIncrease\": 30511.0, \"death\": 177671.0, \"deathIncrease\": 1032.0, \"positiveRate\": 0.043, \"state\": \"US\", \"sma7d\": 0.051}, {\"date\": \"2020-09-03T00:00:00\", \"totalTestResultsIncrease\": 828942.0, \"positiveIncrease\": 44630.0, \"death\": 178741.0, \"deathIncrease\": 1070.0, \"positiveRate\": 0.054, \"state\": \"US\", \"sma7d\": 0.051}, {\"date\": \"2020-09-04T00:00:00\", \"totalTestResultsIncrease\": 979225.0, \"positiveIncrease\": 51540.0, \"death\": 179739.0, \"deathIncrease\": 998.0, \"positiveRate\": 0.053, \"state\": \"US\", \"sma7d\": 0.05}, {\"date\": \"2020-09-05T00:00:00\", \"totalTestResultsIncrease\": 908107.0, \"positiveIncrease\": 44842.0, \"death\": 180657.0, \"deathIncrease\": 918.0, \"positiveRate\": 0.049, \"state\": \"US\", \"sma7d\": 0.05}, {\"date\": \"2020-09-06T00:00:00\", \"totalTestResultsIncrease\": 789759.0, \"positiveIncrease\": 33066.0, \"death\": 181106.0, \"deathIncrease\": 449.0, \"positiveRate\": 0.042, \"state\": \"US\", \"sma7d\": 0.049}, {\"date\": \"2020-09-07T00:00:00\", \"totalTestResultsIncrease\": 626030.0, \"positiveIncrease\": 28656.0, \"death\": 181331.0, \"deathIncrease\": 225.0, \"positiveRate\": 0.046, \"state\": \"US\", \"sma7d\": 0.049}, {\"date\": \"2020-09-08T00:00:00\", \"totalTestResultsIncrease\": 552093.0, \"positiveIncrease\": 22197.0, \"death\": 181689.0, \"deathIncrease\": 358.0, \"positiveRate\": 0.04, \"state\": \"US\", \"sma7d\": 0.047}, {\"date\": \"2020-09-09T00:00:00\", \"totalTestResultsIncrease\": 659031.0, \"positiveIncrease\": 31064.0, \"death\": 182773.0, \"deathIncrease\": 1084.0, \"positiveRate\": 0.047, \"state\": \"US\", \"sma7d\": 0.047}, {\"date\": \"2020-09-10T00:00:00\", \"totalTestResultsIncrease\": 730390.0, \"positiveIncrease\": 37535.0, \"death\": 183943.0, \"deathIncrease\": 1170.0, \"positiveRate\": 0.051, \"state\": \"US\", \"sma7d\": 0.047}, {\"date\": \"2020-09-11T00:00:00\", \"totalTestResultsIncrease\": 856962.0, \"positiveIncrease\": 44881.0, \"death\": 184961.0, \"deathIncrease\": 1018.0, \"positiveRate\": 0.052, \"state\": \"US\", \"sma7d\": 0.047}, {\"date\": \"2020-09-12T00:00:00\", \"totalTestResultsIncrease\": 930274.0, \"positiveIncrease\": 42068.0, \"death\": 185771.0, \"deathIncrease\": 810.0, \"positiveRate\": 0.045, \"state\": \"US\", \"sma7d\": 0.046}, {\"date\": \"2020-09-13T00:00:00\", \"totalTestResultsIncrease\": 720597.0, \"positiveIncrease\": 34425.0, \"death\": 186161.0, \"deathIncrease\": 390.0, \"positiveRate\": 0.048, \"state\": \"US\", \"sma7d\": 0.047}, {\"date\": \"2020-09-14T00:00:00\", \"totalTestResultsIncrease\": 457565.0, \"positiveIncrease\": 33846.0, \"death\": 186565.0, \"deathIncrease\": 404.0, \"positiveRate\": 0.074, \"state\": \"US\", \"sma7d\": 0.051}, {\"date\": \"2020-09-15T00:00:00\", \"totalTestResultsIncrease\": 760068.0, \"positiveIncrease\": 35072.0, \"death\": 187596.0, \"deathIncrease\": 1031.0, \"positiveRate\": 0.046, \"state\": \"US\", \"sma7d\": 0.052}, {\"date\": \"2020-09-16T00:00:00\", \"totalTestResultsIncrease\": 770452.0, \"positiveIncrease\": 39954.0, \"death\": 188796.0, \"deathIncrease\": 1200.0, \"positiveRate\": 0.052, \"state\": \"US\", \"sma7d\": 0.053}, {\"date\": \"2020-09-17T00:00:00\", \"totalTestResultsIncrease\": 885819.0, \"positiveIncrease\": 43576.0, \"death\": 189659.0, \"deathIncrease\": 863.0, \"positiveRate\": 0.049, \"state\": \"US\", \"sma7d\": 0.052}, {\"date\": \"2020-09-18T00:00:00\", \"totalTestResultsIncrease\": 1019019.0, \"positiveIncrease\": 47459.0, \"death\": 190560.0, \"deathIncrease\": 901.0, \"positiveRate\": 0.047, \"state\": \"US\", \"sma7d\": 0.052}, {\"date\": \"2020-09-19T00:00:00\", \"totalTestResultsIncrease\": 1100771.0, \"positiveIncrease\": 45501.0, \"death\": 191300.0, \"deathIncrease\": 740.0, \"positiveRate\": 0.041, \"state\": \"US\", \"sma7d\": 0.051}, {\"date\": \"2020-09-20T00:00:00\", \"totalTestResultsIncrease\": 932867.0, \"positiveIncrease\": 36271.0, \"death\": 191627.0, \"deathIncrease\": 327.0, \"positiveRate\": 0.039, \"state\": \"US\", \"sma7d\": 0.05}, {\"date\": \"2020-09-21T00:00:00\", \"totalTestResultsIncrease\": 736085.0, \"positiveIncrease\": 39458.0, \"death\": 191914.0, \"deathIncrease\": 287.0, \"positiveRate\": 0.054, \"state\": \"US\", \"sma7d\": 0.047}, {\"date\": \"2020-09-22T00:00:00\", \"totalTestResultsIncrease\": 812466.0, \"positiveIncrease\": 49383.0, \"death\": 192768.0, \"deathIncrease\": 854.0, \"positiveRate\": 0.061, \"state\": \"US\", \"sma7d\": 0.049}, {\"date\": \"2020-09-23T00:00:00\", \"totalTestResultsIncrease\": 962740.0, \"positiveIncrease\": 38571.0, \"death\": 193927.0, \"deathIncrease\": 1159.0, \"positiveRate\": 0.04, \"state\": \"US\", \"sma7d\": 0.047}, {\"date\": \"2020-09-24T00:00:00\", \"totalTestResultsIncrease\": 974716.0, \"positiveIncrease\": 43708.0, \"death\": 194848.0, \"deathIncrease\": 921.0, \"positiveRate\": 0.045, \"state\": \"US\", \"sma7d\": 0.047}, {\"date\": \"2020-09-25T00:00:00\", \"totalTestResultsIncrease\": 1054219.0, \"positiveIncrease\": 55488.0, \"death\": 195692.0, \"deathIncrease\": 844.0, \"positiveRate\": 0.053, \"state\": \"US\", \"sma7d\": 0.048}, {\"date\": \"2020-09-26T00:00:00\", \"totalTestResultsIncrease\": 1056574.0, \"positiveIncrease\": 47792.0, \"death\": 196561.0, \"deathIncrease\": 869.0, \"positiveRate\": 0.045, \"state\": \"US\", \"sma7d\": 0.048}, {\"date\": \"2020-09-27T00:00:00\", \"totalTestResultsIncrease\": 849681.0, \"positiveIncrease\": 35419.0, \"death\": 196868.0, \"deathIncrease\": 307.0, \"positiveRate\": 0.042, \"state\": \"US\", \"sma7d\": 0.049}, {\"date\": \"2020-09-28T00:00:00\", \"totalTestResultsIncrease\": 1128303.0, \"positiveIncrease\": 36514.0, \"death\": 197125.0, \"deathIncrease\": 257.0, \"positiveRate\": 0.032, \"state\": \"US\", \"sma7d\": 0.045}, {\"date\": \"2020-09-29T00:00:00\", \"totalTestResultsIncrease\": 858142.0, \"positiveIncrease\": 36890.0, \"death\": 197864.0, \"deathIncrease\": 739.0, \"positiveRate\": 0.043, \"state\": \"US\", \"sma7d\": 0.043}, {\"date\": \"2020-09-30T00:00:00\", \"totalTestResultsIncrease\": 846727.0, \"positiveIncrease\": 44356.0, \"death\": 198925.0, \"deathIncrease\": 1061.0, \"positiveRate\": 0.052, \"state\": \"US\", \"sma7d\": 0.045}, {\"date\": \"2020-10-01T00:00:00\", \"totalTestResultsIncrease\": 932115.0, \"positiveIncrease\": 45617.0, \"death\": 199776.0, \"deathIncrease\": 851.0, \"positiveRate\": 0.049, \"state\": \"US\", \"sma7d\": 0.045}, {\"date\": \"2020-10-02T00:00:00\", \"totalTestResultsIncrease\": 1163796.0, \"positiveIncrease\": 49484.0, \"death\": 200611.0, \"deathIncrease\": 835.0, \"positiveRate\": 0.043, \"state\": \"US\", \"sma7d\": 0.044}, {\"date\": \"2020-10-03T00:00:00\", \"totalTestResultsIncrease\": 1033763.0, \"positiveIncrease\": 51338.0, \"death\": 201352.0, \"deathIncrease\": 741.0, \"positiveRate\": 0.05, \"state\": \"US\", \"sma7d\": 0.044}, {\"date\": \"2020-10-04T00:00:00\", \"totalTestResultsIncrease\": 973737.0, \"positiveIncrease\": 38357.0, \"death\": 201715.0, \"deathIncrease\": 363.0, \"positiveRate\": 0.039, \"state\": \"US\", \"sma7d\": 0.044}, {\"date\": \"2020-10-05T00:00:00\", \"totalTestResultsIncrease\": 947300.0, \"positiveIncrease\": 38124.0, \"death\": 202041.0, \"deathIncrease\": 326.0, \"positiveRate\": 0.04, \"state\": \"US\", \"sma7d\": 0.045}, {\"date\": \"2020-10-06T00:00:00\", \"totalTestResultsIncrease\": 859771.0, \"positiveIncrease\": 38611.0, \"death\": 202675.0, \"deathIncrease\": 634.0, \"positiveRate\": 0.045, \"state\": \"US\", \"sma7d\": 0.045}, {\"date\": \"2020-10-07T00:00:00\", \"totalTestResultsIncrease\": 900852.0, \"positiveIncrease\": 50564.0, \"death\": 203591.0, \"deathIncrease\": 916.0, \"positiveRate\": 0.056, \"state\": \"US\", \"sma7d\": 0.046}, {\"date\": \"2020-10-08T00:00:00\", \"totalTestResultsIncrease\": 1076031.0, \"positiveIncrease\": 55292.0, \"death\": 204577.0, \"deathIncrease\": 986.0, \"positiveRate\": 0.051, \"state\": \"US\", \"sma7d\": 0.046}, {\"date\": \"2020-10-09T00:00:00\", \"totalTestResultsIncrease\": 1126832.0, \"positiveIncrease\": 57005.0, \"death\": 205470.0, \"deathIncrease\": 893.0, \"positiveRate\": 0.051, \"state\": \"US\", \"sma7d\": 0.047}, {\"date\": \"2020-10-10T00:00:00\", \"totalTestResultsIncrease\": 1185902.0, \"positiveIncrease\": 57492.0, \"death\": 206135.0, \"deathIncrease\": 665.0, \"positiveRate\": 0.048, \"state\": \"US\", \"sma7d\": 0.047}, {\"date\": \"2020-10-11T00:00:00\", \"totalTestResultsIncrease\": 971852.0, \"positiveIncrease\": 46790.0, \"death\": 206601.0, \"deathIncrease\": 466.0, \"positiveRate\": 0.048, \"state\": \"US\", \"sma7d\": 0.048}, {\"date\": \"2020-10-12T00:00:00\", \"totalTestResultsIncrease\": 1016949.0, \"positiveIncrease\": 43110.0, \"death\": 206888.0, \"deathIncrease\": 287.0, \"positiveRate\": 0.042, \"state\": \"US\", \"sma7d\": 0.049}, {\"date\": \"2020-10-13T00:00:00\", \"totalTestResultsIncrease\": 985976.0, \"positiveIncrease\": 48319.0, \"death\": 207578.0, \"deathIncrease\": 690.0, \"positiveRate\": 0.049, \"state\": \"US\", \"sma7d\": 0.049}, {\"date\": \"2020-10-14T00:00:00\", \"totalTestResultsIncrease\": 980986.0, \"positiveIncrease\": 56722.0, \"death\": 208389.0, \"deathIncrease\": 811.0, \"positiveRate\": 0.058, \"state\": \"US\", \"sma7d\": 0.05}, {\"date\": \"2020-10-15T00:00:00\", \"totalTestResultsIncrease\": 1019064.0, \"positiveIncrease\": 63102.0, \"death\": 209340.0, \"deathIncrease\": 951.0, \"positiveRate\": 0.062, \"state\": \"US\", \"sma7d\": 0.051}, {\"date\": \"2020-10-16T00:00:00\", \"totalTestResultsIncrease\": 1143077.0, \"positiveIncrease\": 68040.0, \"death\": 210217.0, \"deathIncrease\": 877.0, \"positiveRate\": 0.06, \"state\": \"US\", \"sma7d\": 0.052}, {\"date\": \"2020-10-17T00:00:00\", \"totalTestResultsIncrease\": 1195470.0, \"positiveIncrease\": 57867.0, \"death\": 210997.0, \"deathIncrease\": 780.0, \"positiveRate\": 0.048, \"state\": \"US\", \"sma7d\": 0.052}, {\"date\": \"2020-10-18T00:00:00\", \"totalTestResultsIncrease\": 982369.0, \"positiveIncrease\": 48857.0, \"death\": 211390.0, \"deathIncrease\": 393.0, \"positiveRate\": 0.05, \"state\": \"US\", \"sma7d\": 0.053}, {\"date\": \"2020-10-19T00:00:00\", \"totalTestResultsIncrease\": 1203152.0, \"positiveIncrease\": 57132.0, \"death\": 211846.0, \"deathIncrease\": 456.0, \"positiveRate\": 0.047, \"state\": \"US\", \"sma7d\": 0.053}, {\"date\": \"2020-10-20T00:00:00\", \"totalTestResultsIncrease\": 909280.0, \"positiveIncrease\": 60558.0, \"death\": 212678.0, \"deathIncrease\": 832.0, \"positiveRate\": 0.067, \"state\": \"US\", \"sma7d\": 0.056}, {\"date\": \"2020-10-21T00:00:00\", \"totalTestResultsIncrease\": 882948.0, \"positiveIncrease\": 60712.0, \"death\": 213702.0, \"deathIncrease\": 1024.0, \"positiveRate\": 0.069, \"state\": \"US\", \"sma7d\": 0.058}, {\"date\": \"2020-10-22T00:00:00\", \"totalTestResultsIncrease\": 1126699.0, \"positiveIncrease\": 73007.0, \"death\": 214845.0, \"deathIncrease\": 1143.0, \"positiveRate\": 0.065, \"state\": \"US\", \"sma7d\": 0.058}, {\"date\": \"2020-10-23T00:00:00\", \"totalTestResultsIncrease\": 1286625.0, \"positiveIncrease\": 83057.0, \"death\": 215762.0, \"deathIncrease\": 917.0, \"positiveRate\": 0.065, \"state\": \"US\", \"sma7d\": 0.059}, {\"date\": \"2020-10-24T00:00:00\", \"totalTestResultsIncrease\": 1222526.0, \"positiveIncrease\": 82925.0, \"death\": 216652.0, \"deathIncrease\": 890.0, \"positiveRate\": 0.068, \"state\": \"US\", \"sma7d\": 0.062}, {\"date\": \"2020-10-25T00:00:00\", \"totalTestResultsIncrease\": 1123075.0, \"positiveIncrease\": 65650.0, \"death\": 217029.0, \"deathIncrease\": 377.0, \"positiveRate\": 0.058, \"state\": \"US\", \"sma7d\": 0.063}, {\"date\": \"2020-10-26T00:00:00\", \"totalTestResultsIncrease\": 1142124.0, \"positiveIncrease\": 61925.0, \"death\": 217350.0, \"deathIncrease\": 389.0, \"positiveRate\": 0.054, \"state\": \"US\", \"sma7d\": 0.064}]}}, {\"mode\": \"vega-lite\"});\n",
       "</script>"
      ],
      "text/plain": [
       "alt.LayerChart(...)"
      ]
     },
     "execution_count": 8,
     "metadata": {},
     "output_type": "execute_result"
    }
   ],
   "source": [
    "create_plot(us, 'positiveRate')"
   ]
  },
  {
   "cell_type": "code",
   "execution_count": 9,
   "metadata": {
    "execution": {
     "iopub.execute_input": "2020-10-27T22:37:47.139364Z",
     "iopub.status.busy": "2020-10-27T22:37:47.138746Z",
     "iopub.status.idle": "2020-10-27T22:37:47.240973Z",
     "shell.execute_reply": "2020-10-27T22:37:47.241504Z"
    },
    "papermill": {
     "duration": 0.122211,
     "end_time": "2020-10-27T22:37:47.241694",
     "exception": false,
     "start_time": "2020-10-27T22:37:47.119483",
     "status": "completed"
    },
    "tags": []
   },
   "outputs": [
    {
     "data": {
      "text/html": [
       "\n",
       "<div id=\"altair-viz-54e7fe53aee04b52a298247d170a7330\"></div>\n",
       "<script type=\"text/javascript\">\n",
       "  (function(spec, embedOpt){\n",
       "    let outputDiv = document.currentScript.previousElementSibling;\n",
       "    if (outputDiv.id !== \"altair-viz-54e7fe53aee04b52a298247d170a7330\") {\n",
       "      outputDiv = document.getElementById(\"altair-viz-54e7fe53aee04b52a298247d170a7330\");\n",
       "    }\n",
       "    const paths = {\n",
       "      \"vega\": \"https://cdn.jsdelivr.net/npm//vega@5?noext\",\n",
       "      \"vega-lib\": \"https://cdn.jsdelivr.net/npm//vega-lib?noext\",\n",
       "      \"vega-lite\": \"https://cdn.jsdelivr.net/npm//vega-lite@4.8.1?noext\",\n",
       "      \"vega-embed\": \"https://cdn.jsdelivr.net/npm//vega-embed@6?noext\",\n",
       "    };\n",
       "\n",
       "    function loadScript(lib) {\n",
       "      return new Promise(function(resolve, reject) {\n",
       "        var s = document.createElement('script');\n",
       "        s.src = paths[lib];\n",
       "        s.async = true;\n",
       "        s.onload = () => resolve(paths[lib]);\n",
       "        s.onerror = () => reject(`Error loading script: ${paths[lib]}`);\n",
       "        document.getElementsByTagName(\"head\")[0].appendChild(s);\n",
       "      });\n",
       "    }\n",
       "\n",
       "    function showError(err) {\n",
       "      outputDiv.innerHTML = `<div class=\"error\" style=\"color:red;\">${err}</div>`;\n",
       "      throw err;\n",
       "    }\n",
       "\n",
       "    function displayChart(vegaEmbed) {\n",
       "      vegaEmbed(outputDiv, spec, embedOpt)\n",
       "        .catch(err => showError(`Javascript Error: ${err.message}<br>This usually means there's a typo in your chart specification. See the javascript console for the full traceback.`));\n",
       "    }\n",
       "\n",
       "    if(typeof define === \"function\" && define.amd) {\n",
       "      requirejs.config({paths});\n",
       "      require([\"vega-embed\"], displayChart, err => showError(`Error loading script: ${err.message}`));\n",
       "    } else if (typeof vegaEmbed === \"function\") {\n",
       "      displayChart(vegaEmbed);\n",
       "    } else {\n",
       "      loadScript(\"vega\")\n",
       "        .then(() => loadScript(\"vega-lite\"))\n",
       "        .then(() => loadScript(\"vega-embed\"))\n",
       "        .catch(showError)\n",
       "        .then(() => displayChart(vegaEmbed));\n",
       "    }\n",
       "  })({\"config\": {\"view\": {\"continuousWidth\": 400, \"continuousHeight\": 300}}, \"layer\": [{\"layer\": [{\"mark\": {\"type\": \"point\", \"size\": 75}, \"encoding\": {\"tooltip\": [{\"type\": \"temporal\", \"field\": \"date\"}, {\"type\": \"quantitative\", \"field\": \"deathIncrease\"}, {\"type\": \"quantitative\", \"field\": \"sma7d\"}], \"x\": {\"type\": \"temporal\", \"field\": \"date\"}, \"y\": {\"type\": \"quantitative\", \"field\": \"deathIncrease\"}}, \"selection\": {\"selector006\": {\"type\": \"interval\", \"bind\": \"scales\", \"encodings\": [\"x\", \"y\"]}}}, {\"mark\": {\"type\": \"line\", \"color\": \"purple\"}, \"encoding\": {\"x\": {\"type\": \"temporal\", \"field\": \"date\"}, \"y\": {\"type\": \"quantitative\", \"field\": \"sma7d\"}}}]}, {\"mark\": {\"type\": \"rule\", \"color\": \"#aaa\"}, \"encoding\": {\"x\": {\"type\": \"temporal\", \"field\": \"date\"}}, \"transform\": [{\"filter\": {\"selection\": \"selector005\"}}]}, {\"mark\": \"circle\", \"encoding\": {\"opacity\": {\"condition\": {\"value\": 1, \"selection\": \"selector005\"}, \"value\": 0}, \"tooltip\": [{\"type\": \"temporal\", \"field\": \"date\"}, {\"type\": \"quantitative\", \"field\": \"deathIncrease\"}, {\"type\": \"quantitative\", \"field\": \"sma7d\"}], \"x\": {\"type\": \"temporal\", \"field\": \"date\"}, \"y\": {\"type\": \"quantitative\", \"field\": \"deathIncrease\"}}, \"selection\": {\"selector005\": {\"type\": \"single\", \"encodings\": [\"x\"], \"on\": \"mouseover\", \"nearest\": true, \"empty\": \"none\"}}}, {\"mark\": {\"type\": \"text\", \"align\": \"left\", \"dx\": 5, \"dy\": -5, \"stroke\": \"white\", \"strokeWidth\": 2}, \"encoding\": {\"text\": {\"type\": \"quantitative\", \"field\": \"deathIncrease\"}, \"tooltip\": [{\"type\": \"temporal\", \"field\": \"date\"}, {\"type\": \"quantitative\", \"field\": \"deathIncrease\"}, {\"type\": \"quantitative\", \"field\": \"sma7d\"}], \"x\": {\"type\": \"temporal\", \"field\": \"date\"}, \"y\": {\"type\": \"quantitative\", \"field\": \"deathIncrease\"}}, \"transform\": [{\"filter\": {\"selection\": \"selector005\"}}]}, {\"mark\": {\"type\": \"text\", \"align\": \"left\", \"dx\": 5, \"dy\": -5}, \"encoding\": {\"text\": {\"type\": \"quantitative\", \"field\": \"deathIncrease\"}, \"tooltip\": [{\"type\": \"temporal\", \"field\": \"date\"}, {\"type\": \"quantitative\", \"field\": \"deathIncrease\"}, {\"type\": \"quantitative\", \"field\": \"sma7d\"}], \"x\": {\"type\": \"temporal\", \"field\": \"date\"}, \"y\": {\"type\": \"quantitative\", \"field\": \"deathIncrease\"}}, \"transform\": [{\"filter\": {\"selection\": \"selector005\"}}]}], \"data\": {\"name\": \"data-3b2f04c082d55f47b460c32e74874763\"}, \"height\": 400, \"title\": \"US: deathIncrease\", \"width\": 500, \"$schema\": \"https://vega.github.io/schema/vega-lite/v4.8.1.json\", \"datasets\": {\"data-3b2f04c082d55f47b460c32e74874763\": [{\"date\": \"2020-09-02T00:00:00\", \"totalTestResultsIncrease\": 703918.0, \"positiveIncrease\": 30511.0, \"death\": 177671.0, \"deathIncrease\": 1032.0, \"positiveRate\": 0.043, \"state\": \"US\", \"sma7d\": 866.857}, {\"date\": \"2020-09-03T00:00:00\", \"totalTestResultsIncrease\": 828942.0, \"positiveIncrease\": 44630.0, \"death\": 178741.0, \"deathIncrease\": 1070.0, \"positiveRate\": 0.054, \"state\": \"US\", \"sma7d\": 858.429}, {\"date\": \"2020-09-04T00:00:00\", \"totalTestResultsIncrease\": 979225.0, \"positiveIncrease\": 51540.0, \"death\": 179739.0, \"deathIncrease\": 998.0, \"positiveRate\": 0.053, \"state\": \"US\", \"sma7d\": 854.714}, {\"date\": \"2020-09-05T00:00:00\", \"totalTestResultsIncrease\": 908107.0, \"positiveIncrease\": 44842.0, \"death\": 180657.0, \"deathIncrease\": 918.0, \"positiveRate\": 0.049, \"state\": \"US\", \"sma7d\": 840.857}, {\"date\": \"2020-09-06T00:00:00\", \"totalTestResultsIncrease\": 789759.0, \"positiveIncrease\": 33066.0, \"death\": 181106.0, \"deathIncrease\": 449.0, \"positiveRate\": 0.042, \"state\": \"US\", \"sma7d\": 837.143}, {\"date\": \"2020-09-07T00:00:00\", \"totalTestResultsIncrease\": 626030.0, \"positiveIncrease\": 28656.0, \"death\": 181331.0, \"deathIncrease\": 225.0, \"positiveRate\": 0.046, \"state\": \"US\", \"sma7d\": 817.0}, {\"date\": \"2020-09-08T00:00:00\", \"totalTestResultsIncrease\": 552093.0, \"positiveIncrease\": 22197.0, \"death\": 181689.0, \"deathIncrease\": 358.0, \"positiveRate\": 0.04, \"state\": \"US\", \"sma7d\": 721.429}, {\"date\": \"2020-09-09T00:00:00\", \"totalTestResultsIncrease\": 659031.0, \"positiveIncrease\": 31064.0, \"death\": 182773.0, \"deathIncrease\": 1084.0, \"positiveRate\": 0.047, \"state\": \"US\", \"sma7d\": 728.857}, {\"date\": \"2020-09-10T00:00:00\", \"totalTestResultsIncrease\": 730390.0, \"positiveIncrease\": 37535.0, \"death\": 183943.0, \"deathIncrease\": 1170.0, \"positiveRate\": 0.051, \"state\": \"US\", \"sma7d\": 743.143}, {\"date\": \"2020-09-11T00:00:00\", \"totalTestResultsIncrease\": 856962.0, \"positiveIncrease\": 44881.0, \"death\": 184961.0, \"deathIncrease\": 1018.0, \"positiveRate\": 0.052, \"state\": \"US\", \"sma7d\": 746.0}, {\"date\": \"2020-09-12T00:00:00\", \"totalTestResultsIncrease\": 930274.0, \"positiveIncrease\": 42068.0, \"death\": 185771.0, \"deathIncrease\": 810.0, \"positiveRate\": 0.045, \"state\": \"US\", \"sma7d\": 730.571}, {\"date\": \"2020-09-13T00:00:00\", \"totalTestResultsIncrease\": 720597.0, \"positiveIncrease\": 34425.0, \"death\": 186161.0, \"deathIncrease\": 390.0, \"positiveRate\": 0.048, \"state\": \"US\", \"sma7d\": 722.143}, {\"date\": \"2020-09-14T00:00:00\", \"totalTestResultsIncrease\": 457565.0, \"positiveIncrease\": 33846.0, \"death\": 186565.0, \"deathIncrease\": 404.0, \"positiveRate\": 0.074, \"state\": \"US\", \"sma7d\": 747.714}, {\"date\": \"2020-09-15T00:00:00\", \"totalTestResultsIncrease\": 760068.0, \"positiveIncrease\": 35072.0, \"death\": 187596.0, \"deathIncrease\": 1031.0, \"positiveRate\": 0.046, \"state\": \"US\", \"sma7d\": 843.857}, {\"date\": \"2020-09-16T00:00:00\", \"totalTestResultsIncrease\": 770452.0, \"positiveIncrease\": 39954.0, \"death\": 188796.0, \"deathIncrease\": 1200.0, \"positiveRate\": 0.052, \"state\": \"US\", \"sma7d\": 860.429}, {\"date\": \"2020-09-17T00:00:00\", \"totalTestResultsIncrease\": 885819.0, \"positiveIncrease\": 43576.0, \"death\": 189659.0, \"deathIncrease\": 863.0, \"positiveRate\": 0.049, \"state\": \"US\", \"sma7d\": 816.571}, {\"date\": \"2020-09-18T00:00:00\", \"totalTestResultsIncrease\": 1019019.0, \"positiveIncrease\": 47459.0, \"death\": 190560.0, \"deathIncrease\": 901.0, \"positiveRate\": 0.047, \"state\": \"US\", \"sma7d\": 799.857}, {\"date\": \"2020-09-19T00:00:00\", \"totalTestResultsIncrease\": 1100771.0, \"positiveIncrease\": 45501.0, \"death\": 191300.0, \"deathIncrease\": 740.0, \"positiveRate\": 0.041, \"state\": \"US\", \"sma7d\": 789.857}, {\"date\": \"2020-09-20T00:00:00\", \"totalTestResultsIncrease\": 932867.0, \"positiveIncrease\": 36271.0, \"death\": 191627.0, \"deathIncrease\": 327.0, \"positiveRate\": 0.039, \"state\": \"US\", \"sma7d\": 780.857}, {\"date\": \"2020-09-21T00:00:00\", \"totalTestResultsIncrease\": 736085.0, \"positiveIncrease\": 39458.0, \"death\": 191914.0, \"deathIncrease\": 287.0, \"positiveRate\": 0.054, \"state\": \"US\", \"sma7d\": 764.143}, {\"date\": \"2020-09-22T00:00:00\", \"totalTestResultsIncrease\": 812466.0, \"positiveIncrease\": 49383.0, \"death\": 192768.0, \"deathIncrease\": 854.0, \"positiveRate\": 0.061, \"state\": \"US\", \"sma7d\": 738.857}, {\"date\": \"2020-09-23T00:00:00\", \"totalTestResultsIncrease\": 962740.0, \"positiveIncrease\": 38571.0, \"death\": 193927.0, \"deathIncrease\": 1159.0, \"positiveRate\": 0.04, \"state\": \"US\", \"sma7d\": 733.0}, {\"date\": \"2020-09-24T00:00:00\", \"totalTestResultsIncrease\": 974716.0, \"positiveIncrease\": 43708.0, \"death\": 194848.0, \"deathIncrease\": 921.0, \"positiveRate\": 0.045, \"state\": \"US\", \"sma7d\": 741.286}, {\"date\": \"2020-09-25T00:00:00\", \"totalTestResultsIncrease\": 1054219.0, \"positiveIncrease\": 55488.0, \"death\": 195692.0, \"deathIncrease\": 844.0, \"positiveRate\": 0.053, \"state\": \"US\", \"sma7d\": 733.143}, {\"date\": \"2020-09-26T00:00:00\", \"totalTestResultsIncrease\": 1056574.0, \"positiveIncrease\": 47792.0, \"death\": 196561.0, \"deathIncrease\": 869.0, \"positiveRate\": 0.045, \"state\": \"US\", \"sma7d\": 751.571}, {\"date\": \"2020-09-27T00:00:00\", \"totalTestResultsIncrease\": 849681.0, \"positiveIncrease\": 35419.0, \"death\": 196868.0, \"deathIncrease\": 307.0, \"positiveRate\": 0.042, \"state\": \"US\", \"sma7d\": 748.714}, {\"date\": \"2020-09-28T00:00:00\", \"totalTestResultsIncrease\": 1128303.0, \"positiveIncrease\": 36514.0, \"death\": 197125.0, \"deathIncrease\": 257.0, \"positiveRate\": 0.032, \"state\": \"US\", \"sma7d\": 744.429}, {\"date\": \"2020-09-29T00:00:00\", \"totalTestResultsIncrease\": 858142.0, \"positiveIncrease\": 36890.0, \"death\": 197864.0, \"deathIncrease\": 739.0, \"positiveRate\": 0.043, \"state\": \"US\", \"sma7d\": 728.0}, {\"date\": \"2020-09-30T00:00:00\", \"totalTestResultsIncrease\": 846727.0, \"positiveIncrease\": 44356.0, \"death\": 198925.0, \"deathIncrease\": 1061.0, \"positiveRate\": 0.052, \"state\": \"US\", \"sma7d\": 714.0}, {\"date\": \"2020-10-01T00:00:00\", \"totalTestResultsIncrease\": 932115.0, \"positiveIncrease\": 45617.0, \"death\": 199776.0, \"deathIncrease\": 851.0, \"positiveRate\": 0.049, \"state\": \"US\", \"sma7d\": 704.0}, {\"date\": \"2020-10-02T00:00:00\", \"totalTestResultsIncrease\": 1163796.0, \"positiveIncrease\": 49484.0, \"death\": 200611.0, \"deathIncrease\": 835.0, \"positiveRate\": 0.043, \"state\": \"US\", \"sma7d\": 702.714}, {\"date\": \"2020-10-03T00:00:00\", \"totalTestResultsIncrease\": 1033763.0, \"positiveIncrease\": 51338.0, \"death\": 201352.0, \"deathIncrease\": 741.0, \"positiveRate\": 0.05, \"state\": \"US\", \"sma7d\": 684.429}, {\"date\": \"2020-10-04T00:00:00\", \"totalTestResultsIncrease\": 973737.0, \"positiveIncrease\": 38357.0, \"death\": 201715.0, \"deathIncrease\": 363.0, \"positiveRate\": 0.039, \"state\": \"US\", \"sma7d\": 692.429}, {\"date\": \"2020-10-05T00:00:00\", \"totalTestResultsIncrease\": 947300.0, \"positiveIncrease\": 38124.0, \"death\": 202041.0, \"deathIncrease\": 326.0, \"positiveRate\": 0.04, \"state\": \"US\", \"sma7d\": 702.286}, {\"date\": \"2020-10-06T00:00:00\", \"totalTestResultsIncrease\": 859771.0, \"positiveIncrease\": 38611.0, \"death\": 202675.0, \"deathIncrease\": 634.0, \"positiveRate\": 0.045, \"state\": \"US\", \"sma7d\": 687.286}, {\"date\": \"2020-10-07T00:00:00\", \"totalTestResultsIncrease\": 900852.0, \"positiveIncrease\": 50564.0, \"death\": 203591.0, \"deathIncrease\": 916.0, \"positiveRate\": 0.056, \"state\": \"US\", \"sma7d\": 666.571}, {\"date\": \"2020-10-08T00:00:00\", \"totalTestResultsIncrease\": 1076031.0, \"positiveIncrease\": 55292.0, \"death\": 204577.0, \"deathIncrease\": 986.0, \"positiveRate\": 0.051, \"state\": \"US\", \"sma7d\": 685.857}, {\"date\": \"2020-10-09T00:00:00\", \"totalTestResultsIncrease\": 1126832.0, \"positiveIncrease\": 57005.0, \"death\": 205470.0, \"deathIncrease\": 893.0, \"positiveRate\": 0.051, \"state\": \"US\", \"sma7d\": 694.143}, {\"date\": \"2020-10-10T00:00:00\", \"totalTestResultsIncrease\": 1185902.0, \"positiveIncrease\": 57492.0, \"death\": 206135.0, \"deathIncrease\": 665.0, \"positiveRate\": 0.048, \"state\": \"US\", \"sma7d\": 683.286}, {\"date\": \"2020-10-11T00:00:00\", \"totalTestResultsIncrease\": 971852.0, \"positiveIncrease\": 46790.0, \"death\": 206601.0, \"deathIncrease\": 466.0, \"positiveRate\": 0.048, \"state\": \"US\", \"sma7d\": 698.0}, {\"date\": \"2020-10-12T00:00:00\", \"totalTestResultsIncrease\": 1016949.0, \"positiveIncrease\": 43110.0, \"death\": 206888.0, \"deathIncrease\": 287.0, \"positiveRate\": 0.042, \"state\": \"US\", \"sma7d\": 692.429}, {\"date\": \"2020-10-13T00:00:00\", \"totalTestResultsIncrease\": 985976.0, \"positiveIncrease\": 48319.0, \"death\": 207578.0, \"deathIncrease\": 690.0, \"positiveRate\": 0.049, \"state\": \"US\", \"sma7d\": 700.429}, {\"date\": \"2020-10-14T00:00:00\", \"totalTestResultsIncrease\": 980986.0, \"positiveIncrease\": 56722.0, \"death\": 208389.0, \"deathIncrease\": 811.0, \"positiveRate\": 0.058, \"state\": \"US\", \"sma7d\": 685.429}, {\"date\": \"2020-10-15T00:00:00\", \"totalTestResultsIncrease\": 1019064.0, \"positiveIncrease\": 63102.0, \"death\": 209340.0, \"deathIncrease\": 951.0, \"positiveRate\": 0.062, \"state\": \"US\", \"sma7d\": 680.429}, {\"date\": \"2020-10-16T00:00:00\", \"totalTestResultsIncrease\": 1143077.0, \"positiveIncrease\": 68040.0, \"death\": 210217.0, \"deathIncrease\": 877.0, \"positiveRate\": 0.06, \"state\": \"US\", \"sma7d\": 678.143}, {\"date\": \"2020-10-17T00:00:00\", \"totalTestResultsIncrease\": 1195470.0, \"positiveIncrease\": 57867.0, \"death\": 210997.0, \"deathIncrease\": 780.0, \"positiveRate\": 0.048, \"state\": \"US\", \"sma7d\": 694.571}, {\"date\": \"2020-10-18T00:00:00\", \"totalTestResultsIncrease\": 982369.0, \"positiveIncrease\": 48857.0, \"death\": 211390.0, \"deathIncrease\": 393.0, \"positiveRate\": 0.05, \"state\": \"US\", \"sma7d\": 684.143}, {\"date\": \"2020-10-19T00:00:00\", \"totalTestResultsIncrease\": 1203152.0, \"positiveIncrease\": 57132.0, \"death\": 211846.0, \"deathIncrease\": 456.0, \"positiveRate\": 0.047, \"state\": \"US\", \"sma7d\": 708.286}, {\"date\": \"2020-10-20T00:00:00\", \"totalTestResultsIncrease\": 909280.0, \"positiveIncrease\": 60558.0, \"death\": 212678.0, \"deathIncrease\": 832.0, \"positiveRate\": 0.067, \"state\": \"US\", \"sma7d\": 728.571}, {\"date\": \"2020-10-21T00:00:00\", \"totalTestResultsIncrease\": 882948.0, \"positiveIncrease\": 60712.0, \"death\": 213702.0, \"deathIncrease\": 1024.0, \"positiveRate\": 0.069, \"state\": \"US\", \"sma7d\": 759.0}, {\"date\": \"2020-10-22T00:00:00\", \"totalTestResultsIncrease\": 1126699.0, \"positiveIncrease\": 73007.0, \"death\": 214845.0, \"deathIncrease\": 1143.0, \"positiveRate\": 0.065, \"state\": \"US\", \"sma7d\": 786.429}, {\"date\": \"2020-10-23T00:00:00\", \"totalTestResultsIncrease\": 1286625.0, \"positiveIncrease\": 83057.0, \"death\": 215762.0, \"deathIncrease\": 917.0, \"positiveRate\": 0.065, \"state\": \"US\", \"sma7d\": 792.143}, {\"date\": \"2020-10-24T00:00:00\", \"totalTestResultsIncrease\": 1222526.0, \"positiveIncrease\": 82925.0, \"death\": 216652.0, \"deathIncrease\": 890.0, \"positiveRate\": 0.068, \"state\": \"US\", \"sma7d\": 807.857}, {\"date\": \"2020-10-25T00:00:00\", \"totalTestResultsIncrease\": 1123075.0, \"positiveIncrease\": 65650.0, \"death\": 217029.0, \"deathIncrease\": 377.0, \"positiveRate\": 0.058, \"state\": \"US\", \"sma7d\": 805.571}, {\"date\": \"2020-10-26T00:00:00\", \"totalTestResultsIncrease\": 1142124.0, \"positiveIncrease\": 61925.0, \"death\": 217350.0, \"deathIncrease\": 389.0, \"positiveRate\": 0.054, \"state\": \"US\", \"sma7d\": 796.0}]}}, {\"mode\": \"vega-lite\"});\n",
       "</script>"
      ],
      "text/plain": [
       "alt.LayerChart(...)"
      ]
     },
     "execution_count": 9,
     "metadata": {},
     "output_type": "execute_result"
    }
   ],
   "source": [
    "create_plot(us, 'deathIncrease')"
   ]
  },
  {
   "cell_type": "markdown",
   "metadata": {
    "papermill": {
     "duration": 0.01647,
     "end_time": "2020-10-27T22:37:47.274654",
     "exception": false,
     "start_time": "2020-10-27T22:37:47.258184",
     "status": "completed"
    },
    "tags": []
   },
   "source": [
    "## NY"
   ]
  },
  {
   "cell_type": "code",
   "execution_count": 10,
   "metadata": {
    "execution": {
     "iopub.execute_input": "2020-10-27T22:37:47.311253Z",
     "iopub.status.busy": "2020-10-27T22:37:47.310550Z",
     "iopub.status.idle": "2020-10-27T22:37:47.615473Z",
     "shell.execute_reply": "2020-10-27T22:37:47.614896Z"
    },
    "papermill": {
     "duration": 0.324653,
     "end_time": "2020-10-27T22:37:47.615666",
     "exception": false,
     "start_time": "2020-10-27T22:37:47.291013",
     "status": "completed"
    },
    "tags": []
   },
   "outputs": [],
   "source": [
    "ny = create_df(df, (lambda d: d['state'] == 'NY'), 'New York')"
   ]
  },
  {
   "cell_type": "code",
   "execution_count": 11,
   "metadata": {
    "execution": {
     "iopub.execute_input": "2020-10-27T22:37:47.683693Z",
     "iopub.status.busy": "2020-10-27T22:37:47.668064Z",
     "iopub.status.idle": "2020-10-27T22:37:47.761075Z",
     "shell.execute_reply": "2020-10-27T22:37:47.760585Z"
    },
    "papermill": {
     "duration": 0.128331,
     "end_time": "2020-10-27T22:37:47.761269",
     "exception": false,
     "start_time": "2020-10-27T22:37:47.632938",
     "status": "completed"
    },
    "tags": []
   },
   "outputs": [
    {
     "data": {
      "text/html": [
       "\n",
       "<div id=\"altair-viz-34b2f054c6fa4e1897d9432d4d297210\"></div>\n",
       "<script type=\"text/javascript\">\n",
       "  (function(spec, embedOpt){\n",
       "    let outputDiv = document.currentScript.previousElementSibling;\n",
       "    if (outputDiv.id !== \"altair-viz-34b2f054c6fa4e1897d9432d4d297210\") {\n",
       "      outputDiv = document.getElementById(\"altair-viz-34b2f054c6fa4e1897d9432d4d297210\");\n",
       "    }\n",
       "    const paths = {\n",
       "      \"vega\": \"https://cdn.jsdelivr.net/npm//vega@5?noext\",\n",
       "      \"vega-lib\": \"https://cdn.jsdelivr.net/npm//vega-lib?noext\",\n",
       "      \"vega-lite\": \"https://cdn.jsdelivr.net/npm//vega-lite@4.8.1?noext\",\n",
       "      \"vega-embed\": \"https://cdn.jsdelivr.net/npm//vega-embed@6?noext\",\n",
       "    };\n",
       "\n",
       "    function loadScript(lib) {\n",
       "      return new Promise(function(resolve, reject) {\n",
       "        var s = document.createElement('script');\n",
       "        s.src = paths[lib];\n",
       "        s.async = true;\n",
       "        s.onload = () => resolve(paths[lib]);\n",
       "        s.onerror = () => reject(`Error loading script: ${paths[lib]}`);\n",
       "        document.getElementsByTagName(\"head\")[0].appendChild(s);\n",
       "      });\n",
       "    }\n",
       "\n",
       "    function showError(err) {\n",
       "      outputDiv.innerHTML = `<div class=\"error\" style=\"color:red;\">${err}</div>`;\n",
       "      throw err;\n",
       "    }\n",
       "\n",
       "    function displayChart(vegaEmbed) {\n",
       "      vegaEmbed(outputDiv, spec, embedOpt)\n",
       "        .catch(err => showError(`Javascript Error: ${err.message}<br>This usually means there's a typo in your chart specification. See the javascript console for the full traceback.`));\n",
       "    }\n",
       "\n",
       "    if(typeof define === \"function\" && define.amd) {\n",
       "      requirejs.config({paths});\n",
       "      require([\"vega-embed\"], displayChart, err => showError(`Error loading script: ${err.message}`));\n",
       "    } else if (typeof vegaEmbed === \"function\") {\n",
       "      displayChart(vegaEmbed);\n",
       "    } else {\n",
       "      loadScript(\"vega\")\n",
       "        .then(() => loadScript(\"vega-lite\"))\n",
       "        .then(() => loadScript(\"vega-embed\"))\n",
       "        .catch(showError)\n",
       "        .then(() => displayChart(vegaEmbed));\n",
       "    }\n",
       "  })({\"config\": {\"view\": {\"continuousWidth\": 400, \"continuousHeight\": 300}}, \"layer\": [{\"layer\": [{\"mark\": {\"type\": \"point\", \"size\": 75}, \"encoding\": {\"tooltip\": [{\"type\": \"temporal\", \"field\": \"date\"}, {\"type\": \"quantitative\", \"field\": \"positiveIncrease\"}, {\"type\": \"quantitative\", \"field\": \"sma7d\"}], \"x\": {\"type\": \"temporal\", \"field\": \"date\"}, \"y\": {\"type\": \"quantitative\", \"field\": \"positiveIncrease\"}}, \"selection\": {\"selector008\": {\"type\": \"interval\", \"bind\": \"scales\", \"encodings\": [\"x\", \"y\"]}}}, {\"mark\": {\"type\": \"line\", \"color\": \"purple\"}, \"encoding\": {\"x\": {\"type\": \"temporal\", \"field\": \"date\"}, \"y\": {\"type\": \"quantitative\", \"field\": \"sma7d\"}}}]}, {\"mark\": {\"type\": \"rule\", \"color\": \"#aaa\"}, \"encoding\": {\"x\": {\"type\": \"temporal\", \"field\": \"date\"}}, \"transform\": [{\"filter\": {\"selection\": \"selector007\"}}]}, {\"mark\": \"circle\", \"encoding\": {\"opacity\": {\"condition\": {\"value\": 1, \"selection\": \"selector007\"}, \"value\": 0}, \"tooltip\": [{\"type\": \"temporal\", \"field\": \"date\"}, {\"type\": \"quantitative\", \"field\": \"positiveIncrease\"}, {\"type\": \"quantitative\", \"field\": \"sma7d\"}], \"x\": {\"type\": \"temporal\", \"field\": \"date\"}, \"y\": {\"type\": \"quantitative\", \"field\": \"positiveIncrease\"}}, \"selection\": {\"selector007\": {\"type\": \"single\", \"encodings\": [\"x\"], \"on\": \"mouseover\", \"nearest\": true, \"empty\": \"none\"}}}, {\"mark\": {\"type\": \"text\", \"align\": \"left\", \"dx\": 5, \"dy\": -5, \"stroke\": \"white\", \"strokeWidth\": 2}, \"encoding\": {\"text\": {\"type\": \"quantitative\", \"field\": \"positiveIncrease\"}, \"tooltip\": [{\"type\": \"temporal\", \"field\": \"date\"}, {\"type\": \"quantitative\", \"field\": \"positiveIncrease\"}, {\"type\": \"quantitative\", \"field\": \"sma7d\"}], \"x\": {\"type\": \"temporal\", \"field\": \"date\"}, \"y\": {\"type\": \"quantitative\", \"field\": \"positiveIncrease\"}}, \"transform\": [{\"filter\": {\"selection\": \"selector007\"}}]}, {\"mark\": {\"type\": \"text\", \"align\": \"left\", \"dx\": 5, \"dy\": -5}, \"encoding\": {\"text\": {\"type\": \"quantitative\", \"field\": \"positiveIncrease\"}, \"tooltip\": [{\"type\": \"temporal\", \"field\": \"date\"}, {\"type\": \"quantitative\", \"field\": \"positiveIncrease\"}, {\"type\": \"quantitative\", \"field\": \"sma7d\"}], \"x\": {\"type\": \"temporal\", \"field\": \"date\"}, \"y\": {\"type\": \"quantitative\", \"field\": \"positiveIncrease\"}}, \"transform\": [{\"filter\": {\"selection\": \"selector007\"}}]}], \"data\": {\"name\": \"data-202d194d16287303ca9191c0bb96d539\"}, \"height\": 400, \"title\": \"New York: positiveIncrease\", \"width\": 500, \"$schema\": \"https://vega.github.io/schema/vega-lite/v4.8.1.json\", \"datasets\": {\"data-202d194d16287303ca9191c0bb96d539\": [{\"date\": \"2020-09-02T00:00:00\", \"totalTestResultsIncrease\": 88447.0, \"positiveIncrease\": 708.0, \"death\": 25336.0, \"deathIncrease\": 5.0, \"positiveRate\": 0.008, \"state\": \"New York\", \"sma7d\": 696.857}, {\"date\": \"2020-09-03T00:00:00\", \"totalTestResultsIncrease\": 88981.0, \"positiveIncrease\": 889.0, \"death\": 25343.0, \"deathIncrease\": 7.0, \"positiveRate\": 0.01, \"state\": \"New York\", \"sma7d\": 710.857}, {\"date\": \"2020-09-04T00:00:00\", \"totalTestResultsIncrease\": 93395.0, \"positiveIncrease\": 864.0, \"death\": 25348.0, \"deathIncrease\": 5.0, \"positiveRate\": 0.009, \"state\": \"New York\", \"sma7d\": 743.429}, {\"date\": \"2020-09-05T00:00:00\", \"totalTestResultsIncrease\": 99761.0, \"positiveIncrease\": 801.0, \"death\": 25350.0, \"deathIncrease\": 2.0, \"positiveRate\": 0.008, \"state\": \"New York\", \"sma7d\": 767.143}, {\"date\": \"2020-09-06T00:00:00\", \"totalTestResultsIncrease\": 85630.0, \"positiveIncrease\": 729.0, \"death\": 25359.0, \"deathIncrease\": 9.0, \"positiveRate\": 0.009, \"state\": \"New York\", \"sma7d\": 771.571}, {\"date\": \"2020-09-07T00:00:00\", \"totalTestResultsIncrease\": 58865.0, \"positiveIncrease\": 520.0, \"death\": 25361.0, \"deathIncrease\": 2.0, \"positiveRate\": 0.009, \"state\": \"New York\", \"sma7d\": 752.143}, {\"date\": \"2020-09-08T00:00:00\", \"totalTestResultsIncrease\": 57826.0, \"positiveIncrease\": 557.0, \"death\": 25367.0, \"deathIncrease\": 6.0, \"positiveRate\": 0.01, \"state\": \"New York\", \"sma7d\": 724.0}, {\"date\": \"2020-09-09T00:00:00\", \"totalTestResultsIncrease\": 63230.0, \"positiveIncrease\": 576.0, \"death\": 25370.0, \"deathIncrease\": 3.0, \"positiveRate\": 0.009, \"state\": \"New York\", \"sma7d\": 705.143}, {\"date\": \"2020-09-10T00:00:00\", \"totalTestResultsIncrease\": 76813.0, \"positiveIncrease\": 757.0, \"death\": 25377.0, \"deathIncrease\": 7.0, \"positiveRate\": 0.01, \"state\": \"New York\", \"sma7d\": 686.286}, {\"date\": \"2020-09-11T00:00:00\", \"totalTestResultsIncrease\": 89722.0, \"positiveIncrease\": 880.0, \"death\": 25382.0, \"deathIncrease\": 5.0, \"positiveRate\": 0.01, \"state\": \"New York\", \"sma7d\": 688.571}, {\"date\": \"2020-09-12T00:00:00\", \"totalTestResultsIncrease\": 102925.0, \"positiveIncrease\": 849.0, \"death\": 25384.0, \"deathIncrease\": 2.0, \"positiveRate\": 0.008, \"state\": \"New York\", \"sma7d\": 695.429}, {\"date\": \"2020-09-13T00:00:00\", \"totalTestResultsIncrease\": 72668.0, \"positiveIncrease\": 725.0, \"death\": 25390.0, \"deathIncrease\": 6.0, \"positiveRate\": 0.01, \"state\": \"New York\", \"sma7d\": 694.857}, {\"date\": \"2020-09-14T00:00:00\", \"totalTestResultsIncrease\": 63358.0, \"positiveIncrease\": 583.0, \"death\": 25394.0, \"deathIncrease\": 4.0, \"positiveRate\": 0.009, \"state\": \"New York\", \"sma7d\": 703.857}, {\"date\": \"2020-09-15T00:00:00\", \"totalTestResultsIncrease\": 73678.0, \"positiveIncrease\": 766.0, \"death\": 25405.0, \"deathIncrease\": 11.0, \"positiveRate\": 0.01, \"state\": \"New York\", \"sma7d\": 733.714}, {\"date\": \"2020-09-16T00:00:00\", \"totalTestResultsIncrease\": 75087.0, \"positiveIncrease\": 652.0, \"death\": 25410.0, \"deathIncrease\": 5.0, \"positiveRate\": 0.009, \"state\": \"New York\", \"sma7d\": 744.571}, {\"date\": \"2020-09-17T00:00:00\", \"totalTestResultsIncrease\": 91504.0, \"positiveIncrease\": 896.0, \"death\": 25413.0, \"deathIncrease\": 3.0, \"positiveRate\": 0.01, \"state\": \"New York\", \"sma7d\": 764.429}, {\"date\": \"2020-09-18T00:00:00\", \"totalTestResultsIncrease\": 89727.0, \"positiveIncrease\": 790.0, \"death\": 25423.0, \"deathIncrease\": 10.0, \"positiveRate\": 0.009, \"state\": \"New York\", \"sma7d\": 751.571}, {\"date\": \"2020-09-19T00:00:00\", \"totalTestResultsIncrease\": 110444.0, \"positiveIncrease\": 986.0, \"death\": 25425.0, \"deathIncrease\": 2.0, \"positiveRate\": 0.009, \"state\": \"New York\", \"sma7d\": 771.143}, {\"date\": \"2020-09-20T00:00:00\", \"totalTestResultsIncrease\": 100355.0, \"positiveIncrease\": 862.0, \"death\": 25427.0, \"deathIncrease\": 2.0, \"positiveRate\": 0.009, \"state\": \"New York\", \"sma7d\": 790.714}, {\"date\": \"2020-09-21T00:00:00\", \"totalTestResultsIncrease\": 58319.0, \"positiveIncrease\": 573.0, \"death\": 25428.0, \"deathIncrease\": 1.0, \"positiveRate\": 0.01, \"state\": \"New York\", \"sma7d\": 789.286}, {\"date\": \"2020-09-22T00:00:00\", \"totalTestResultsIncrease\": 83997.0, \"positiveIncrease\": 754.0, \"death\": 25432.0, \"deathIncrease\": 4.0, \"positiveRate\": 0.009, \"state\": \"New York\", \"sma7d\": 787.571}, {\"date\": \"2020-09-23T00:00:00\", \"totalTestResultsIncrease\": 70930.0, \"positiveIncrease\": 665.0, \"death\": 25437.0, \"deathIncrease\": 5.0, \"positiveRate\": 0.009, \"state\": \"New York\", \"sma7d\": 789.429}, {\"date\": \"2020-09-24T00:00:00\", \"totalTestResultsIncrease\": 92953.0, \"positiveIncrease\": 955.0, \"death\": 25439.0, \"deathIncrease\": 2.0, \"positiveRate\": 0.01, \"state\": \"New York\", \"sma7d\": 797.857}, {\"date\": \"2020-09-25T00:00:00\", \"totalTestResultsIncrease\": 94818.0, \"positiveIncrease\": 908.0, \"death\": 25446.0, \"deathIncrease\": 7.0, \"positiveRate\": 0.01, \"state\": \"New York\", \"sma7d\": 814.714}, {\"date\": \"2020-09-26T00:00:00\", \"totalTestResultsIncrease\": 99953.0, \"positiveIncrease\": 1005.0, \"death\": 25450.0, \"deathIncrease\": 4.0, \"positiveRate\": 0.01, \"state\": \"New York\", \"sma7d\": 817.429}, {\"date\": \"2020-09-27T00:00:00\", \"totalTestResultsIncrease\": 84770.0, \"positiveIncrease\": 866.0, \"death\": 25456.0, \"deathIncrease\": 6.0, \"positiveRate\": 0.01, \"state\": \"New York\", \"sma7d\": 818.0}, {\"date\": \"2020-09-28T00:00:00\", \"totalTestResultsIncrease\": 52936.0, \"positiveIncrease\": 834.0, \"death\": 25468.0, \"deathIncrease\": 12.0, \"positiveRate\": 0.016, \"state\": \"New York\", \"sma7d\": 855.286}, {\"date\": \"2020-09-29T00:00:00\", \"totalTestResultsIncrease\": 88231.0, \"positiveIncrease\": 1189.0, \"death\": 25470.0, \"deathIncrease\": 2.0, \"positiveRate\": 0.013, \"state\": \"New York\", \"sma7d\": 917.429}, {\"date\": \"2020-09-30T00:00:00\", \"totalTestResultsIncrease\": 97960.0, \"positiveIncrease\": 1000.0, \"death\": 25479.0, \"deathIncrease\": 9.0, \"positiveRate\": 0.01, \"state\": \"New York\", \"sma7d\": 965.286}, {\"date\": \"2020-10-01T00:00:00\", \"totalTestResultsIncrease\": 109218.0, \"positiveIncrease\": 1382.0, \"death\": 25490.0, \"deathIncrease\": 11.0, \"positiveRate\": 0.013, \"state\": \"New York\", \"sma7d\": 1026.286}, {\"date\": \"2020-10-02T00:00:00\", \"totalTestResultsIncrease\": 119493.0, \"positiveIncrease\": 1598.0, \"death\": 25497.0, \"deathIncrease\": 7.0, \"positiveRate\": 0.013, \"state\": \"New York\", \"sma7d\": 1124.857}, {\"date\": \"2020-10-03T00:00:00\", \"totalTestResultsIncrease\": 134267.0, \"positiveIncrease\": 1731.0, \"death\": 25505.0, \"deathIncrease\": 8.0, \"positiveRate\": 0.013, \"state\": \"New York\", \"sma7d\": 1228.571}, {\"date\": \"2020-10-04T00:00:00\", \"totalTestResultsIncrease\": 110329.0, \"positiveIncrease\": 1222.0, \"death\": 25519.0, \"deathIncrease\": 14.0, \"positiveRate\": 0.011, \"state\": \"New York\", \"sma7d\": 1279.429}, {\"date\": \"2020-10-05T00:00:00\", \"totalTestResultsIncrease\": 76404.0, \"positiveIncrease\": 933.0, \"death\": 25527.0, \"deathIncrease\": 8.0, \"positiveRate\": 0.012, \"state\": \"New York\", \"sma7d\": 1293.571}, {\"date\": \"2020-10-06T00:00:00\", \"totalTestResultsIncrease\": 96359.0, \"positiveIncrease\": 1393.0, \"death\": 25536.0, \"deathIncrease\": 9.0, \"positiveRate\": 0.014, \"state\": \"New York\", \"sma7d\": 1322.714}, {\"date\": \"2020-10-07T00:00:00\", \"totalTestResultsIncrease\": 108246.0, \"positiveIncrease\": 1360.0, \"death\": 25545.0, \"deathIncrease\": 9.0, \"positiveRate\": 0.013, \"state\": \"New York\", \"sma7d\": 1374.143}, {\"date\": \"2020-10-08T00:00:00\", \"totalTestResultsIncrease\": 145811.0, \"positiveIncrease\": 1836.0, \"death\": 25555.0, \"deathIncrease\": 10.0, \"positiveRate\": 0.013, \"state\": \"New York\", \"sma7d\": 1439.0}, {\"date\": \"2020-10-09T00:00:00\", \"totalTestResultsIncrease\": 139300.0, \"positiveIncrease\": 1592.0, \"death\": 25561.0, \"deathIncrease\": 6.0, \"positiveRate\": 0.011, \"state\": \"New York\", \"sma7d\": 1438.143}, {\"date\": \"2020-10-10T00:00:00\", \"totalTestResultsIncrease\": 134579.0, \"positiveIncrease\": 1447.0, \"death\": 25569.0, \"deathIncrease\": 8.0, \"positiveRate\": 0.011, \"state\": \"New York\", \"sma7d\": 1397.571}, {\"date\": \"2020-10-11T00:00:00\", \"totalTestResultsIncrease\": 118254.0, \"positiveIncrease\": 1143.0, \"death\": 25574.0, \"deathIncrease\": 5.0, \"positiveRate\": 0.01, \"state\": \"New York\", \"sma7d\": 1386.286}, {\"date\": \"2020-10-12T00:00:00\", \"totalTestResultsIncrease\": 91793.0, \"positiveIncrease\": 1029.0, \"death\": 25587.0, \"deathIncrease\": 13.0, \"positiveRate\": 0.011, \"state\": \"New York\", \"sma7d\": 1400.0}, {\"date\": \"2020-10-13T00:00:00\", \"totalTestResultsIncrease\": 99070.0, \"positiveIncrease\": 1393.0, \"death\": 25598.0, \"deathIncrease\": 11.0, \"positiveRate\": 0.014, \"state\": \"New York\", \"sma7d\": 1400.0}, {\"date\": \"2020-10-14T00:00:00\", \"totalTestResultsIncrease\": 111744.0, \"positiveIncrease\": 1232.0, \"death\": 25605.0, \"deathIncrease\": 7.0, \"positiveRate\": 0.011, \"state\": \"New York\", \"sma7d\": 1381.714}, {\"date\": \"2020-10-15T00:00:00\", \"totalTestResultsIncrease\": 133212.0, \"positiveIncrease\": 1460.0, \"death\": 25618.0, \"deathIncrease\": 13.0, \"positiveRate\": 0.011, \"state\": \"New York\", \"sma7d\": 1328.0}, {\"date\": \"2020-10-16T00:00:00\", \"totalTestResultsIncrease\": 136039.0, \"positiveIncrease\": 1707.0, \"death\": 25628.0, \"deathIncrease\": 10.0, \"positiveRate\": 0.013, \"state\": \"New York\", \"sma7d\": 1344.429}, {\"date\": \"2020-10-17T00:00:00\", \"totalTestResultsIncrease\": 159972.0, \"positiveIncrease\": 1784.0, \"death\": 25637.0, \"deathIncrease\": 9.0, \"positiveRate\": 0.011, \"state\": \"New York\", \"sma7d\": 1392.571}, {\"date\": \"2020-10-18T00:00:00\", \"totalTestResultsIncrease\": 128763.0, \"positiveIncrease\": 1390.0, \"death\": 25644.0, \"deathIncrease\": 7.0, \"positiveRate\": 0.011, \"state\": \"New York\", \"sma7d\": 1427.857}, {\"date\": \"2020-10-19T00:00:00\", \"totalTestResultsIncrease\": 82009.0, \"positiveIncrease\": 998.0, \"death\": 25659.0, \"deathIncrease\": 15.0, \"positiveRate\": 0.012, \"state\": \"New York\", \"sma7d\": 1423.429}, {\"date\": \"2020-10-20T00:00:00\", \"totalTestResultsIncrease\": 90540.0, \"positiveIncrease\": 1201.0, \"death\": 25672.0, \"deathIncrease\": 13.0, \"positiveRate\": 0.013, \"state\": \"New York\", \"sma7d\": 1396.0}, {\"date\": \"2020-10-21T00:00:00\", \"totalTestResultsIncrease\": 124789.0, \"positiveIncrease\": 2026.0, \"death\": 25679.0, \"deathIncrease\": 7.0, \"positiveRate\": 0.016, \"state\": \"New York\", \"sma7d\": 1509.429}, {\"date\": \"2020-10-22T00:00:00\", \"totalTestResultsIncrease\": 135341.0, \"positiveIncrease\": 1628.0, \"death\": 25694.0, \"deathIncrease\": 15.0, \"positiveRate\": 0.012, \"state\": \"New York\", \"sma7d\": 1533.429}, {\"date\": \"2020-10-23T00:00:00\", \"totalTestResultsIncrease\": 141508.0, \"positiveIncrease\": 1637.0, \"death\": 25705.0, \"deathIncrease\": 11.0, \"positiveRate\": 0.012, \"state\": \"New York\", \"sma7d\": 1523.429}, {\"date\": \"2020-10-24T00:00:00\", \"totalTestResultsIncrease\": 156940.0, \"positiveIncrease\": 2061.0, \"death\": 25718.0, \"deathIncrease\": 13.0, \"positiveRate\": 0.013, \"state\": \"New York\", \"sma7d\": 1563.0}, {\"date\": \"2020-10-25T00:00:00\", \"totalTestResultsIncrease\": 120830.0, \"positiveIncrease\": 1632.0, \"death\": 25730.0, \"deathIncrease\": 12.0, \"positiveRate\": 0.014, \"state\": \"New York\", \"sma7d\": 1597.571}, {\"date\": \"2020-10-26T00:00:00\", \"totalTestResultsIncrease\": 82117.0, \"positiveIncrease\": 1191.0, \"death\": 25742.0, \"deathIncrease\": 12.0, \"positiveRate\": 0.015, \"state\": \"New York\", \"sma7d\": 1625.143}]}}, {\"mode\": \"vega-lite\"});\n",
       "</script>"
      ],
      "text/plain": [
       "alt.LayerChart(...)"
      ]
     },
     "execution_count": 11,
     "metadata": {},
     "output_type": "execute_result"
    }
   ],
   "source": [
    "create_plot(ny, 'positiveIncrease')"
   ]
  },
  {
   "cell_type": "code",
   "execution_count": 12,
   "metadata": {
    "execution": {
     "iopub.execute_input": "2020-10-27T22:37:47.799657Z",
     "iopub.status.busy": "2020-10-27T22:37:47.798947Z",
     "iopub.status.idle": "2020-10-27T22:37:47.900940Z",
     "shell.execute_reply": "2020-10-27T22:37:47.901453Z"
    },
    "papermill": {
     "duration": 0.123677,
     "end_time": "2020-10-27T22:37:47.901688",
     "exception": false,
     "start_time": "2020-10-27T22:37:47.778011",
     "status": "completed"
    },
    "tags": []
   },
   "outputs": [
    {
     "data": {
      "text/html": [
       "\n",
       "<div id=\"altair-viz-030a6339014b48d4a50628f772a33982\"></div>\n",
       "<script type=\"text/javascript\">\n",
       "  (function(spec, embedOpt){\n",
       "    let outputDiv = document.currentScript.previousElementSibling;\n",
       "    if (outputDiv.id !== \"altair-viz-030a6339014b48d4a50628f772a33982\") {\n",
       "      outputDiv = document.getElementById(\"altair-viz-030a6339014b48d4a50628f772a33982\");\n",
       "    }\n",
       "    const paths = {\n",
       "      \"vega\": \"https://cdn.jsdelivr.net/npm//vega@5?noext\",\n",
       "      \"vega-lib\": \"https://cdn.jsdelivr.net/npm//vega-lib?noext\",\n",
       "      \"vega-lite\": \"https://cdn.jsdelivr.net/npm//vega-lite@4.8.1?noext\",\n",
       "      \"vega-embed\": \"https://cdn.jsdelivr.net/npm//vega-embed@6?noext\",\n",
       "    };\n",
       "\n",
       "    function loadScript(lib) {\n",
       "      return new Promise(function(resolve, reject) {\n",
       "        var s = document.createElement('script');\n",
       "        s.src = paths[lib];\n",
       "        s.async = true;\n",
       "        s.onload = () => resolve(paths[lib]);\n",
       "        s.onerror = () => reject(`Error loading script: ${paths[lib]}`);\n",
       "        document.getElementsByTagName(\"head\")[0].appendChild(s);\n",
       "      });\n",
       "    }\n",
       "\n",
       "    function showError(err) {\n",
       "      outputDiv.innerHTML = `<div class=\"error\" style=\"color:red;\">${err}</div>`;\n",
       "      throw err;\n",
       "    }\n",
       "\n",
       "    function displayChart(vegaEmbed) {\n",
       "      vegaEmbed(outputDiv, spec, embedOpt)\n",
       "        .catch(err => showError(`Javascript Error: ${err.message}<br>This usually means there's a typo in your chart specification. See the javascript console for the full traceback.`));\n",
       "    }\n",
       "\n",
       "    if(typeof define === \"function\" && define.amd) {\n",
       "      requirejs.config({paths});\n",
       "      require([\"vega-embed\"], displayChart, err => showError(`Error loading script: ${err.message}`));\n",
       "    } else if (typeof vegaEmbed === \"function\") {\n",
       "      displayChart(vegaEmbed);\n",
       "    } else {\n",
       "      loadScript(\"vega\")\n",
       "        .then(() => loadScript(\"vega-lite\"))\n",
       "        .then(() => loadScript(\"vega-embed\"))\n",
       "        .catch(showError)\n",
       "        .then(() => displayChart(vegaEmbed));\n",
       "    }\n",
       "  })({\"config\": {\"view\": {\"continuousWidth\": 400, \"continuousHeight\": 300}}, \"layer\": [{\"layer\": [{\"mark\": {\"type\": \"point\", \"size\": 75}, \"encoding\": {\"tooltip\": [{\"type\": \"temporal\", \"field\": \"date\"}, {\"type\": \"quantitative\", \"field\": \"positiveRate\"}, {\"type\": \"quantitative\", \"field\": \"sma7d\"}], \"x\": {\"type\": \"temporal\", \"field\": \"date\"}, \"y\": {\"type\": \"quantitative\", \"field\": \"positiveRate\"}}, \"selection\": {\"selector010\": {\"type\": \"interval\", \"bind\": \"scales\", \"encodings\": [\"x\", \"y\"]}}}, {\"mark\": {\"type\": \"line\", \"color\": \"purple\"}, \"encoding\": {\"x\": {\"type\": \"temporal\", \"field\": \"date\"}, \"y\": {\"type\": \"quantitative\", \"field\": \"sma7d\"}}}]}, {\"mark\": {\"type\": \"rule\", \"color\": \"#aaa\"}, \"encoding\": {\"x\": {\"type\": \"temporal\", \"field\": \"date\"}}, \"transform\": [{\"filter\": {\"selection\": \"selector009\"}}]}, {\"mark\": \"circle\", \"encoding\": {\"opacity\": {\"condition\": {\"value\": 1, \"selection\": \"selector009\"}, \"value\": 0}, \"tooltip\": [{\"type\": \"temporal\", \"field\": \"date\"}, {\"type\": \"quantitative\", \"field\": \"positiveRate\"}, {\"type\": \"quantitative\", \"field\": \"sma7d\"}], \"x\": {\"type\": \"temporal\", \"field\": \"date\"}, \"y\": {\"type\": \"quantitative\", \"field\": \"positiveRate\"}}, \"selection\": {\"selector009\": {\"type\": \"single\", \"encodings\": [\"x\"], \"on\": \"mouseover\", \"nearest\": true, \"empty\": \"none\"}}}, {\"mark\": {\"type\": \"text\", \"align\": \"left\", \"dx\": 5, \"dy\": -5, \"stroke\": \"white\", \"strokeWidth\": 2}, \"encoding\": {\"text\": {\"type\": \"quantitative\", \"field\": \"positiveRate\"}, \"tooltip\": [{\"type\": \"temporal\", \"field\": \"date\"}, {\"type\": \"quantitative\", \"field\": \"positiveRate\"}, {\"type\": \"quantitative\", \"field\": \"sma7d\"}], \"x\": {\"type\": \"temporal\", \"field\": \"date\"}, \"y\": {\"type\": \"quantitative\", \"field\": \"positiveRate\"}}, \"transform\": [{\"filter\": {\"selection\": \"selector009\"}}]}, {\"mark\": {\"type\": \"text\", \"align\": \"left\", \"dx\": 5, \"dy\": -5}, \"encoding\": {\"text\": {\"type\": \"quantitative\", \"field\": \"positiveRate\"}, \"tooltip\": [{\"type\": \"temporal\", \"field\": \"date\"}, {\"type\": \"quantitative\", \"field\": \"positiveRate\"}, {\"type\": \"quantitative\", \"field\": \"sma7d\"}], \"x\": {\"type\": \"temporal\", \"field\": \"date\"}, \"y\": {\"type\": \"quantitative\", \"field\": \"positiveRate\"}}, \"transform\": [{\"filter\": {\"selection\": \"selector009\"}}]}], \"data\": {\"name\": \"data-21a1541c1cad10c5291c8c425e222893\"}, \"height\": 400, \"title\": \"New York: positiveRate\", \"width\": 500, \"$schema\": \"https://vega.github.io/schema/vega-lite/v4.8.1.json\", \"datasets\": {\"data-21a1541c1cad10c5291c8c425e222893\": [{\"date\": \"2020-09-02T00:00:00\", \"totalTestResultsIncrease\": 88447.0, \"positiveIncrease\": 708.0, \"death\": 25336.0, \"deathIncrease\": 5.0, \"positiveRate\": 0.008, \"state\": \"New York\", \"sma7d\": 0.008}, {\"date\": \"2020-09-03T00:00:00\", \"totalTestResultsIncrease\": 88981.0, \"positiveIncrease\": 889.0, \"death\": 25343.0, \"deathIncrease\": 7.0, \"positiveRate\": 0.01, \"state\": \"New York\", \"sma7d\": 0.008}, {\"date\": \"2020-09-04T00:00:00\", \"totalTestResultsIncrease\": 93395.0, \"positiveIncrease\": 864.0, \"death\": 25348.0, \"deathIncrease\": 5.0, \"positiveRate\": 0.009, \"state\": \"New York\", \"sma7d\": 0.009}, {\"date\": \"2020-09-05T00:00:00\", \"totalTestResultsIncrease\": 99761.0, \"positiveIncrease\": 801.0, \"death\": 25350.0, \"deathIncrease\": 2.0, \"positiveRate\": 0.008, \"state\": \"New York\", \"sma7d\": 0.009}, {\"date\": \"2020-09-06T00:00:00\", \"totalTestResultsIncrease\": 85630.0, \"positiveIncrease\": 729.0, \"death\": 25359.0, \"deathIncrease\": 9.0, \"positiveRate\": 0.009, \"state\": \"New York\", \"sma7d\": 0.009}, {\"date\": \"2020-09-07T00:00:00\", \"totalTestResultsIncrease\": 58865.0, \"positiveIncrease\": 520.0, \"death\": 25361.0, \"deathIncrease\": 2.0, \"positiveRate\": 0.009, \"state\": \"New York\", \"sma7d\": 0.009}, {\"date\": \"2020-09-08T00:00:00\", \"totalTestResultsIncrease\": 57826.0, \"positiveIncrease\": 557.0, \"death\": 25367.0, \"deathIncrease\": 6.0, \"positiveRate\": 0.01, \"state\": \"New York\", \"sma7d\": 0.009}, {\"date\": \"2020-09-09T00:00:00\", \"totalTestResultsIncrease\": 63230.0, \"positiveIncrease\": 576.0, \"death\": 25370.0, \"deathIncrease\": 3.0, \"positiveRate\": 0.009, \"state\": \"New York\", \"sma7d\": 0.009}, {\"date\": \"2020-09-10T00:00:00\", \"totalTestResultsIncrease\": 76813.0, \"positiveIncrease\": 757.0, \"death\": 25377.0, \"deathIncrease\": 7.0, \"positiveRate\": 0.01, \"state\": \"New York\", \"sma7d\": 0.009}, {\"date\": \"2020-09-11T00:00:00\", \"totalTestResultsIncrease\": 89722.0, \"positiveIncrease\": 880.0, \"death\": 25382.0, \"deathIncrease\": 5.0, \"positiveRate\": 0.01, \"state\": \"New York\", \"sma7d\": 0.009}, {\"date\": \"2020-09-12T00:00:00\", \"totalTestResultsIncrease\": 102925.0, \"positiveIncrease\": 849.0, \"death\": 25384.0, \"deathIncrease\": 2.0, \"positiveRate\": 0.008, \"state\": \"New York\", \"sma7d\": 0.009}, {\"date\": \"2020-09-13T00:00:00\", \"totalTestResultsIncrease\": 72668.0, \"positiveIncrease\": 725.0, \"death\": 25390.0, \"deathIncrease\": 6.0, \"positiveRate\": 0.01, \"state\": \"New York\", \"sma7d\": 0.009}, {\"date\": \"2020-09-14T00:00:00\", \"totalTestResultsIncrease\": 63358.0, \"positiveIncrease\": 583.0, \"death\": 25394.0, \"deathIncrease\": 4.0, \"positiveRate\": 0.009, \"state\": \"New York\", \"sma7d\": 0.009}, {\"date\": \"2020-09-15T00:00:00\", \"totalTestResultsIncrease\": 73678.0, \"positiveIncrease\": 766.0, \"death\": 25405.0, \"deathIncrease\": 11.0, \"positiveRate\": 0.01, \"state\": \"New York\", \"sma7d\": 0.009}, {\"date\": \"2020-09-16T00:00:00\", \"totalTestResultsIncrease\": 75087.0, \"positiveIncrease\": 652.0, \"death\": 25410.0, \"deathIncrease\": 5.0, \"positiveRate\": 0.009, \"state\": \"New York\", \"sma7d\": 0.009}, {\"date\": \"2020-09-17T00:00:00\", \"totalTestResultsIncrease\": 91504.0, \"positiveIncrease\": 896.0, \"death\": 25413.0, \"deathIncrease\": 3.0, \"positiveRate\": 0.01, \"state\": \"New York\", \"sma7d\": 0.009}, {\"date\": \"2020-09-18T00:00:00\", \"totalTestResultsIncrease\": 89727.0, \"positiveIncrease\": 790.0, \"death\": 25423.0, \"deathIncrease\": 10.0, \"positiveRate\": 0.009, \"state\": \"New York\", \"sma7d\": 0.009}, {\"date\": \"2020-09-19T00:00:00\", \"totalTestResultsIncrease\": 110444.0, \"positiveIncrease\": 986.0, \"death\": 25425.0, \"deathIncrease\": 2.0, \"positiveRate\": 0.009, \"state\": \"New York\", \"sma7d\": 0.009}, {\"date\": \"2020-09-20T00:00:00\", \"totalTestResultsIncrease\": 100355.0, \"positiveIncrease\": 862.0, \"death\": 25427.0, \"deathIncrease\": 2.0, \"positiveRate\": 0.009, \"state\": \"New York\", \"sma7d\": 0.009}, {\"date\": \"2020-09-21T00:00:00\", \"totalTestResultsIncrease\": 58319.0, \"positiveIncrease\": 573.0, \"death\": 25428.0, \"deathIncrease\": 1.0, \"positiveRate\": 0.01, \"state\": \"New York\", \"sma7d\": 0.009}, {\"date\": \"2020-09-22T00:00:00\", \"totalTestResultsIncrease\": 83997.0, \"positiveIncrease\": 754.0, \"death\": 25432.0, \"deathIncrease\": 4.0, \"positiveRate\": 0.009, \"state\": \"New York\", \"sma7d\": 0.009}, {\"date\": \"2020-09-23T00:00:00\", \"totalTestResultsIncrease\": 70930.0, \"positiveIncrease\": 665.0, \"death\": 25437.0, \"deathIncrease\": 5.0, \"positiveRate\": 0.009, \"state\": \"New York\", \"sma7d\": 0.009}, {\"date\": \"2020-09-24T00:00:00\", \"totalTestResultsIncrease\": 92953.0, \"positiveIncrease\": 955.0, \"death\": 25439.0, \"deathIncrease\": 2.0, \"positiveRate\": 0.01, \"state\": \"New York\", \"sma7d\": 0.009}, {\"date\": \"2020-09-25T00:00:00\", \"totalTestResultsIncrease\": 94818.0, \"positiveIncrease\": 908.0, \"death\": 25446.0, \"deathIncrease\": 7.0, \"positiveRate\": 0.01, \"state\": \"New York\", \"sma7d\": 0.009}, {\"date\": \"2020-09-26T00:00:00\", \"totalTestResultsIncrease\": 99953.0, \"positiveIncrease\": 1005.0, \"death\": 25450.0, \"deathIncrease\": 4.0, \"positiveRate\": 0.01, \"state\": \"New York\", \"sma7d\": 0.01}, {\"date\": \"2020-09-27T00:00:00\", \"totalTestResultsIncrease\": 84770.0, \"positiveIncrease\": 866.0, \"death\": 25456.0, \"deathIncrease\": 6.0, \"positiveRate\": 0.01, \"state\": \"New York\", \"sma7d\": 0.01}, {\"date\": \"2020-09-28T00:00:00\", \"totalTestResultsIncrease\": 52936.0, \"positiveIncrease\": 834.0, \"death\": 25468.0, \"deathIncrease\": 12.0, \"positiveRate\": 0.016, \"state\": \"New York\", \"sma7d\": 0.011}, {\"date\": \"2020-09-29T00:00:00\", \"totalTestResultsIncrease\": 88231.0, \"positiveIncrease\": 1189.0, \"death\": 25470.0, \"deathIncrease\": 2.0, \"positiveRate\": 0.013, \"state\": \"New York\", \"sma7d\": 0.011}, {\"date\": \"2020-09-30T00:00:00\", \"totalTestResultsIncrease\": 97960.0, \"positiveIncrease\": 1000.0, \"death\": 25479.0, \"deathIncrease\": 9.0, \"positiveRate\": 0.01, \"state\": \"New York\", \"sma7d\": 0.011}, {\"date\": \"2020-10-01T00:00:00\", \"totalTestResultsIncrease\": 109218.0, \"positiveIncrease\": 1382.0, \"death\": 25490.0, \"deathIncrease\": 11.0, \"positiveRate\": 0.013, \"state\": \"New York\", \"sma7d\": 0.012}, {\"date\": \"2020-10-02T00:00:00\", \"totalTestResultsIncrease\": 119493.0, \"positiveIncrease\": 1598.0, \"death\": 25497.0, \"deathIncrease\": 7.0, \"positiveRate\": 0.013, \"state\": \"New York\", \"sma7d\": 0.012}, {\"date\": \"2020-10-03T00:00:00\", \"totalTestResultsIncrease\": 134267.0, \"positiveIncrease\": 1731.0, \"death\": 25505.0, \"deathIncrease\": 8.0, \"positiveRate\": 0.013, \"state\": \"New York\", \"sma7d\": 0.013}, {\"date\": \"2020-10-04T00:00:00\", \"totalTestResultsIncrease\": 110329.0, \"positiveIncrease\": 1222.0, \"death\": 25519.0, \"deathIncrease\": 14.0, \"positiveRate\": 0.011, \"state\": \"New York\", \"sma7d\": 0.013}, {\"date\": \"2020-10-05T00:00:00\", \"totalTestResultsIncrease\": 76404.0, \"positiveIncrease\": 933.0, \"death\": 25527.0, \"deathIncrease\": 8.0, \"positiveRate\": 0.012, \"state\": \"New York\", \"sma7d\": 0.012}, {\"date\": \"2020-10-06T00:00:00\", \"totalTestResultsIncrease\": 96359.0, \"positiveIncrease\": 1393.0, \"death\": 25536.0, \"deathIncrease\": 9.0, \"positiveRate\": 0.014, \"state\": \"New York\", \"sma7d\": 0.012}, {\"date\": \"2020-10-07T00:00:00\", \"totalTestResultsIncrease\": 108246.0, \"positiveIncrease\": 1360.0, \"death\": 25545.0, \"deathIncrease\": 9.0, \"positiveRate\": 0.013, \"state\": \"New York\", \"sma7d\": 0.013}, {\"date\": \"2020-10-08T00:00:00\", \"totalTestResultsIncrease\": 145811.0, \"positiveIncrease\": 1836.0, \"death\": 25555.0, \"deathIncrease\": 10.0, \"positiveRate\": 0.013, \"state\": \"New York\", \"sma7d\": 0.013}, {\"date\": \"2020-10-09T00:00:00\", \"totalTestResultsIncrease\": 139300.0, \"positiveIncrease\": 1592.0, \"death\": 25561.0, \"deathIncrease\": 6.0, \"positiveRate\": 0.011, \"state\": \"New York\", \"sma7d\": 0.012}, {\"date\": \"2020-10-10T00:00:00\", \"totalTestResultsIncrease\": 134579.0, \"positiveIncrease\": 1447.0, \"death\": 25569.0, \"deathIncrease\": 8.0, \"positiveRate\": 0.011, \"state\": \"New York\", \"sma7d\": 0.012}, {\"date\": \"2020-10-11T00:00:00\", \"totalTestResultsIncrease\": 118254.0, \"positiveIncrease\": 1143.0, \"death\": 25574.0, \"deathIncrease\": 5.0, \"positiveRate\": 0.01, \"state\": \"New York\", \"sma7d\": 0.012}, {\"date\": \"2020-10-12T00:00:00\", \"totalTestResultsIncrease\": 91793.0, \"positiveIncrease\": 1029.0, \"death\": 25587.0, \"deathIncrease\": 13.0, \"positiveRate\": 0.011, \"state\": \"New York\", \"sma7d\": 0.012}, {\"date\": \"2020-10-13T00:00:00\", \"totalTestResultsIncrease\": 99070.0, \"positiveIncrease\": 1393.0, \"death\": 25598.0, \"deathIncrease\": 11.0, \"positiveRate\": 0.014, \"state\": \"New York\", \"sma7d\": 0.012}, {\"date\": \"2020-10-14T00:00:00\", \"totalTestResultsIncrease\": 111744.0, \"positiveIncrease\": 1232.0, \"death\": 25605.0, \"deathIncrease\": 7.0, \"positiveRate\": 0.011, \"state\": \"New York\", \"sma7d\": 0.012}, {\"date\": \"2020-10-15T00:00:00\", \"totalTestResultsIncrease\": 133212.0, \"positiveIncrease\": 1460.0, \"death\": 25618.0, \"deathIncrease\": 13.0, \"positiveRate\": 0.011, \"state\": \"New York\", \"sma7d\": 0.011}, {\"date\": \"2020-10-16T00:00:00\", \"totalTestResultsIncrease\": 136039.0, \"positiveIncrease\": 1707.0, \"death\": 25628.0, \"deathIncrease\": 10.0, \"positiveRate\": 0.013, \"state\": \"New York\", \"sma7d\": 0.012}, {\"date\": \"2020-10-17T00:00:00\", \"totalTestResultsIncrease\": 159972.0, \"positiveIncrease\": 1784.0, \"death\": 25637.0, \"deathIncrease\": 9.0, \"positiveRate\": 0.011, \"state\": \"New York\", \"sma7d\": 0.012}, {\"date\": \"2020-10-18T00:00:00\", \"totalTestResultsIncrease\": 128763.0, \"positiveIncrease\": 1390.0, \"death\": 25644.0, \"deathIncrease\": 7.0, \"positiveRate\": 0.011, \"state\": \"New York\", \"sma7d\": 0.012}, {\"date\": \"2020-10-19T00:00:00\", \"totalTestResultsIncrease\": 82009.0, \"positiveIncrease\": 998.0, \"death\": 25659.0, \"deathIncrease\": 15.0, \"positiveRate\": 0.012, \"state\": \"New York\", \"sma7d\": 0.012}, {\"date\": \"2020-10-20T00:00:00\", \"totalTestResultsIncrease\": 90540.0, \"positiveIncrease\": 1201.0, \"death\": 25672.0, \"deathIncrease\": 13.0, \"positiveRate\": 0.013, \"state\": \"New York\", \"sma7d\": 0.012}, {\"date\": \"2020-10-21T00:00:00\", \"totalTestResultsIncrease\": 124789.0, \"positiveIncrease\": 2026.0, \"death\": 25679.0, \"deathIncrease\": 7.0, \"positiveRate\": 0.016, \"state\": \"New York\", \"sma7d\": 0.012}, {\"date\": \"2020-10-22T00:00:00\", \"totalTestResultsIncrease\": 135341.0, \"positiveIncrease\": 1628.0, \"death\": 25694.0, \"deathIncrease\": 15.0, \"positiveRate\": 0.012, \"state\": \"New York\", \"sma7d\": 0.013}, {\"date\": \"2020-10-23T00:00:00\", \"totalTestResultsIncrease\": 141508.0, \"positiveIncrease\": 1637.0, \"death\": 25705.0, \"deathIncrease\": 11.0, \"positiveRate\": 0.012, \"state\": \"New York\", \"sma7d\": 0.012}, {\"date\": \"2020-10-24T00:00:00\", \"totalTestResultsIncrease\": 156940.0, \"positiveIncrease\": 2061.0, \"death\": 25718.0, \"deathIncrease\": 13.0, \"positiveRate\": 0.013, \"state\": \"New York\", \"sma7d\": 0.013}, {\"date\": \"2020-10-25T00:00:00\", \"totalTestResultsIncrease\": 120830.0, \"positiveIncrease\": 1632.0, \"death\": 25730.0, \"deathIncrease\": 12.0, \"positiveRate\": 0.014, \"state\": \"New York\", \"sma7d\": 0.013}, {\"date\": \"2020-10-26T00:00:00\", \"totalTestResultsIncrease\": 82117.0, \"positiveIncrease\": 1191.0, \"death\": 25742.0, \"deathIncrease\": 12.0, \"positiveRate\": 0.015, \"state\": \"New York\", \"sma7d\": 0.014}]}}, {\"mode\": \"vega-lite\"});\n",
       "</script>"
      ],
      "text/plain": [
       "alt.LayerChart(...)"
      ]
     },
     "execution_count": 12,
     "metadata": {},
     "output_type": "execute_result"
    }
   ],
   "source": [
    "create_plot(ny, 'positiveRate')"
   ]
  },
  {
   "cell_type": "code",
   "execution_count": 13,
   "metadata": {
    "execution": {
     "iopub.execute_input": "2020-10-27T22:37:47.942205Z",
     "iopub.status.busy": "2020-10-27T22:37:47.941577Z",
     "iopub.status.idle": "2020-10-27T22:37:48.047111Z",
     "shell.execute_reply": "2020-10-27T22:37:48.046419Z"
    },
    "papermill": {
     "duration": 0.127601,
     "end_time": "2020-10-27T22:37:48.047287",
     "exception": false,
     "start_time": "2020-10-27T22:37:47.919686",
     "status": "completed"
    },
    "tags": []
   },
   "outputs": [
    {
     "data": {
      "text/html": [
       "\n",
       "<div id=\"altair-viz-91938c4375a34573868198fb0b98321e\"></div>\n",
       "<script type=\"text/javascript\">\n",
       "  (function(spec, embedOpt){\n",
       "    let outputDiv = document.currentScript.previousElementSibling;\n",
       "    if (outputDiv.id !== \"altair-viz-91938c4375a34573868198fb0b98321e\") {\n",
       "      outputDiv = document.getElementById(\"altair-viz-91938c4375a34573868198fb0b98321e\");\n",
       "    }\n",
       "    const paths = {\n",
       "      \"vega\": \"https://cdn.jsdelivr.net/npm//vega@5?noext\",\n",
       "      \"vega-lib\": \"https://cdn.jsdelivr.net/npm//vega-lib?noext\",\n",
       "      \"vega-lite\": \"https://cdn.jsdelivr.net/npm//vega-lite@4.8.1?noext\",\n",
       "      \"vega-embed\": \"https://cdn.jsdelivr.net/npm//vega-embed@6?noext\",\n",
       "    };\n",
       "\n",
       "    function loadScript(lib) {\n",
       "      return new Promise(function(resolve, reject) {\n",
       "        var s = document.createElement('script');\n",
       "        s.src = paths[lib];\n",
       "        s.async = true;\n",
       "        s.onload = () => resolve(paths[lib]);\n",
       "        s.onerror = () => reject(`Error loading script: ${paths[lib]}`);\n",
       "        document.getElementsByTagName(\"head\")[0].appendChild(s);\n",
       "      });\n",
       "    }\n",
       "\n",
       "    function showError(err) {\n",
       "      outputDiv.innerHTML = `<div class=\"error\" style=\"color:red;\">${err}</div>`;\n",
       "      throw err;\n",
       "    }\n",
       "\n",
       "    function displayChart(vegaEmbed) {\n",
       "      vegaEmbed(outputDiv, spec, embedOpt)\n",
       "        .catch(err => showError(`Javascript Error: ${err.message}<br>This usually means there's a typo in your chart specification. See the javascript console for the full traceback.`));\n",
       "    }\n",
       "\n",
       "    if(typeof define === \"function\" && define.amd) {\n",
       "      requirejs.config({paths});\n",
       "      require([\"vega-embed\"], displayChart, err => showError(`Error loading script: ${err.message}`));\n",
       "    } else if (typeof vegaEmbed === \"function\") {\n",
       "      displayChart(vegaEmbed);\n",
       "    } else {\n",
       "      loadScript(\"vega\")\n",
       "        .then(() => loadScript(\"vega-lite\"))\n",
       "        .then(() => loadScript(\"vega-embed\"))\n",
       "        .catch(showError)\n",
       "        .then(() => displayChart(vegaEmbed));\n",
       "    }\n",
       "  })({\"config\": {\"view\": {\"continuousWidth\": 400, \"continuousHeight\": 300}}, \"layer\": [{\"layer\": [{\"mark\": {\"type\": \"point\", \"size\": 75}, \"encoding\": {\"tooltip\": [{\"type\": \"temporal\", \"field\": \"date\"}, {\"type\": \"quantitative\", \"field\": \"deathIncrease\"}, {\"type\": \"quantitative\", \"field\": \"sma7d\"}], \"x\": {\"type\": \"temporal\", \"field\": \"date\"}, \"y\": {\"type\": \"quantitative\", \"field\": \"deathIncrease\"}}, \"selection\": {\"selector012\": {\"type\": \"interval\", \"bind\": \"scales\", \"encodings\": [\"x\", \"y\"]}}}, {\"mark\": {\"type\": \"line\", \"color\": \"purple\"}, \"encoding\": {\"x\": {\"type\": \"temporal\", \"field\": \"date\"}, \"y\": {\"type\": \"quantitative\", \"field\": \"sma7d\"}}}]}, {\"mark\": {\"type\": \"rule\", \"color\": \"#aaa\"}, \"encoding\": {\"x\": {\"type\": \"temporal\", \"field\": \"date\"}}, \"transform\": [{\"filter\": {\"selection\": \"selector011\"}}]}, {\"mark\": \"circle\", \"encoding\": {\"opacity\": {\"condition\": {\"value\": 1, \"selection\": \"selector011\"}, \"value\": 0}, \"tooltip\": [{\"type\": \"temporal\", \"field\": \"date\"}, {\"type\": \"quantitative\", \"field\": \"deathIncrease\"}, {\"type\": \"quantitative\", \"field\": \"sma7d\"}], \"x\": {\"type\": \"temporal\", \"field\": \"date\"}, \"y\": {\"type\": \"quantitative\", \"field\": \"deathIncrease\"}}, \"selection\": {\"selector011\": {\"type\": \"single\", \"encodings\": [\"x\"], \"on\": \"mouseover\", \"nearest\": true, \"empty\": \"none\"}}}, {\"mark\": {\"type\": \"text\", \"align\": \"left\", \"dx\": 5, \"dy\": -5, \"stroke\": \"white\", \"strokeWidth\": 2}, \"encoding\": {\"text\": {\"type\": \"quantitative\", \"field\": \"deathIncrease\"}, \"tooltip\": [{\"type\": \"temporal\", \"field\": \"date\"}, {\"type\": \"quantitative\", \"field\": \"deathIncrease\"}, {\"type\": \"quantitative\", \"field\": \"sma7d\"}], \"x\": {\"type\": \"temporal\", \"field\": \"date\"}, \"y\": {\"type\": \"quantitative\", \"field\": \"deathIncrease\"}}, \"transform\": [{\"filter\": {\"selection\": \"selector011\"}}]}, {\"mark\": {\"type\": \"text\", \"align\": \"left\", \"dx\": 5, \"dy\": -5}, \"encoding\": {\"text\": {\"type\": \"quantitative\", \"field\": \"deathIncrease\"}, \"tooltip\": [{\"type\": \"temporal\", \"field\": \"date\"}, {\"type\": \"quantitative\", \"field\": \"deathIncrease\"}, {\"type\": \"quantitative\", \"field\": \"sma7d\"}], \"x\": {\"type\": \"temporal\", \"field\": \"date\"}, \"y\": {\"type\": \"quantitative\", \"field\": \"deathIncrease\"}}, \"transform\": [{\"filter\": {\"selection\": \"selector011\"}}]}], \"data\": {\"name\": \"data-2c34981da5ea3c7667a8c425ac1dc808\"}, \"height\": 400, \"title\": \"New York: deathIncrease\", \"width\": 500, \"$schema\": \"https://vega.github.io/schema/vega-lite/v4.8.1.json\", \"datasets\": {\"data-2c34981da5ea3c7667a8c425ac1dc808\": [{\"date\": \"2020-09-02T00:00:00\", \"totalTestResultsIncrease\": 88447.0, \"positiveIncrease\": 708.0, \"death\": 25336.0, \"deathIncrease\": 5.0, \"positiveRate\": 0.008, \"state\": \"New York\", \"sma7d\": 4.429}, {\"date\": \"2020-09-03T00:00:00\", \"totalTestResultsIncrease\": 88981.0, \"positiveIncrease\": 889.0, \"death\": 25343.0, \"deathIncrease\": 7.0, \"positiveRate\": 0.01, \"state\": \"New York\", \"sma7d\": 4.857}, {\"date\": \"2020-09-04T00:00:00\", \"totalTestResultsIncrease\": 93395.0, \"positiveIncrease\": 864.0, \"death\": 25348.0, \"deathIncrease\": 5.0, \"positiveRate\": 0.009, \"state\": \"New York\", \"sma7d\": 5.143}, {\"date\": \"2020-09-05T00:00:00\", \"totalTestResultsIncrease\": 99761.0, \"positiveIncrease\": 801.0, \"death\": 25350.0, \"deathIncrease\": 2.0, \"positiveRate\": 0.008, \"state\": \"New York\", \"sma7d\": 4.429}, {\"date\": \"2020-09-06T00:00:00\", \"totalTestResultsIncrease\": 85630.0, \"positiveIncrease\": 729.0, \"death\": 25359.0, \"deathIncrease\": 9.0, \"positiveRate\": 0.009, \"state\": \"New York\", \"sma7d\": 4.571}, {\"date\": \"2020-09-07T00:00:00\", \"totalTestResultsIncrease\": 58865.0, \"positiveIncrease\": 520.0, \"death\": 25361.0, \"deathIncrease\": 2.0, \"positiveRate\": 0.009, \"state\": \"New York\", \"sma7d\": 4.714}, {\"date\": \"2020-09-08T00:00:00\", \"totalTestResultsIncrease\": 57826.0, \"positiveIncrease\": 557.0, \"death\": 25367.0, \"deathIncrease\": 6.0, \"positiveRate\": 0.01, \"state\": \"New York\", \"sma7d\": 5.143}, {\"date\": \"2020-09-09T00:00:00\", \"totalTestResultsIncrease\": 63230.0, \"positiveIncrease\": 576.0, \"death\": 25370.0, \"deathIncrease\": 3.0, \"positiveRate\": 0.009, \"state\": \"New York\", \"sma7d\": 4.857}, {\"date\": \"2020-09-10T00:00:00\", \"totalTestResultsIncrease\": 76813.0, \"positiveIncrease\": 757.0, \"death\": 25377.0, \"deathIncrease\": 7.0, \"positiveRate\": 0.01, \"state\": \"New York\", \"sma7d\": 4.857}, {\"date\": \"2020-09-11T00:00:00\", \"totalTestResultsIncrease\": 89722.0, \"positiveIncrease\": 880.0, \"death\": 25382.0, \"deathIncrease\": 5.0, \"positiveRate\": 0.01, \"state\": \"New York\", \"sma7d\": 4.857}, {\"date\": \"2020-09-12T00:00:00\", \"totalTestResultsIncrease\": 102925.0, \"positiveIncrease\": 849.0, \"death\": 25384.0, \"deathIncrease\": 2.0, \"positiveRate\": 0.008, \"state\": \"New York\", \"sma7d\": 4.857}, {\"date\": \"2020-09-13T00:00:00\", \"totalTestResultsIncrease\": 72668.0, \"positiveIncrease\": 725.0, \"death\": 25390.0, \"deathIncrease\": 6.0, \"positiveRate\": 0.01, \"state\": \"New York\", \"sma7d\": 4.429}, {\"date\": \"2020-09-14T00:00:00\", \"totalTestResultsIncrease\": 63358.0, \"positiveIncrease\": 583.0, \"death\": 25394.0, \"deathIncrease\": 4.0, \"positiveRate\": 0.009, \"state\": \"New York\", \"sma7d\": 4.714}, {\"date\": \"2020-09-15T00:00:00\", \"totalTestResultsIncrease\": 73678.0, \"positiveIncrease\": 766.0, \"death\": 25405.0, \"deathIncrease\": 11.0, \"positiveRate\": 0.01, \"state\": \"New York\", \"sma7d\": 5.429}, {\"date\": \"2020-09-16T00:00:00\", \"totalTestResultsIncrease\": 75087.0, \"positiveIncrease\": 652.0, \"death\": 25410.0, \"deathIncrease\": 5.0, \"positiveRate\": 0.009, \"state\": \"New York\", \"sma7d\": 5.714}, {\"date\": \"2020-09-17T00:00:00\", \"totalTestResultsIncrease\": 91504.0, \"positiveIncrease\": 896.0, \"death\": 25413.0, \"deathIncrease\": 3.0, \"positiveRate\": 0.01, \"state\": \"New York\", \"sma7d\": 5.143}, {\"date\": \"2020-09-18T00:00:00\", \"totalTestResultsIncrease\": 89727.0, \"positiveIncrease\": 790.0, \"death\": 25423.0, \"deathIncrease\": 10.0, \"positiveRate\": 0.009, \"state\": \"New York\", \"sma7d\": 5.857}, {\"date\": \"2020-09-19T00:00:00\", \"totalTestResultsIncrease\": 110444.0, \"positiveIncrease\": 986.0, \"death\": 25425.0, \"deathIncrease\": 2.0, \"positiveRate\": 0.009, \"state\": \"New York\", \"sma7d\": 5.857}, {\"date\": \"2020-09-20T00:00:00\", \"totalTestResultsIncrease\": 100355.0, \"positiveIncrease\": 862.0, \"death\": 25427.0, \"deathIncrease\": 2.0, \"positiveRate\": 0.009, \"state\": \"New York\", \"sma7d\": 5.286}, {\"date\": \"2020-09-21T00:00:00\", \"totalTestResultsIncrease\": 58319.0, \"positiveIncrease\": 573.0, \"death\": 25428.0, \"deathIncrease\": 1.0, \"positiveRate\": 0.01, \"state\": \"New York\", \"sma7d\": 4.857}, {\"date\": \"2020-09-22T00:00:00\", \"totalTestResultsIncrease\": 83997.0, \"positiveIncrease\": 754.0, \"death\": 25432.0, \"deathIncrease\": 4.0, \"positiveRate\": 0.009, \"state\": \"New York\", \"sma7d\": 3.857}, {\"date\": \"2020-09-23T00:00:00\", \"totalTestResultsIncrease\": 70930.0, \"positiveIncrease\": 665.0, \"death\": 25437.0, \"deathIncrease\": 5.0, \"positiveRate\": 0.009, \"state\": \"New York\", \"sma7d\": 3.857}, {\"date\": \"2020-09-24T00:00:00\", \"totalTestResultsIncrease\": 92953.0, \"positiveIncrease\": 955.0, \"death\": 25439.0, \"deathIncrease\": 2.0, \"positiveRate\": 0.01, \"state\": \"New York\", \"sma7d\": 3.714}, {\"date\": \"2020-09-25T00:00:00\", \"totalTestResultsIncrease\": 94818.0, \"positiveIncrease\": 908.0, \"death\": 25446.0, \"deathIncrease\": 7.0, \"positiveRate\": 0.01, \"state\": \"New York\", \"sma7d\": 3.286}, {\"date\": \"2020-09-26T00:00:00\", \"totalTestResultsIncrease\": 99953.0, \"positiveIncrease\": 1005.0, \"death\": 25450.0, \"deathIncrease\": 4.0, \"positiveRate\": 0.01, \"state\": \"New York\", \"sma7d\": 3.571}, {\"date\": \"2020-09-27T00:00:00\", \"totalTestResultsIncrease\": 84770.0, \"positiveIncrease\": 866.0, \"death\": 25456.0, \"deathIncrease\": 6.0, \"positiveRate\": 0.01, \"state\": \"New York\", \"sma7d\": 4.143}, {\"date\": \"2020-09-28T00:00:00\", \"totalTestResultsIncrease\": 52936.0, \"positiveIncrease\": 834.0, \"death\": 25468.0, \"deathIncrease\": 12.0, \"positiveRate\": 0.016, \"state\": \"New York\", \"sma7d\": 5.714}, {\"date\": \"2020-09-29T00:00:00\", \"totalTestResultsIncrease\": 88231.0, \"positiveIncrease\": 1189.0, \"death\": 25470.0, \"deathIncrease\": 2.0, \"positiveRate\": 0.013, \"state\": \"New York\", \"sma7d\": 5.429}, {\"date\": \"2020-09-30T00:00:00\", \"totalTestResultsIncrease\": 97960.0, \"positiveIncrease\": 1000.0, \"death\": 25479.0, \"deathIncrease\": 9.0, \"positiveRate\": 0.01, \"state\": \"New York\", \"sma7d\": 6.0}, {\"date\": \"2020-10-01T00:00:00\", \"totalTestResultsIncrease\": 109218.0, \"positiveIncrease\": 1382.0, \"death\": 25490.0, \"deathIncrease\": 11.0, \"positiveRate\": 0.013, \"state\": \"New York\", \"sma7d\": 7.286}, {\"date\": \"2020-10-02T00:00:00\", \"totalTestResultsIncrease\": 119493.0, \"positiveIncrease\": 1598.0, \"death\": 25497.0, \"deathIncrease\": 7.0, \"positiveRate\": 0.013, \"state\": \"New York\", \"sma7d\": 7.286}, {\"date\": \"2020-10-03T00:00:00\", \"totalTestResultsIncrease\": 134267.0, \"positiveIncrease\": 1731.0, \"death\": 25505.0, \"deathIncrease\": 8.0, \"positiveRate\": 0.013, \"state\": \"New York\", \"sma7d\": 7.857}, {\"date\": \"2020-10-04T00:00:00\", \"totalTestResultsIncrease\": 110329.0, \"positiveIncrease\": 1222.0, \"death\": 25519.0, \"deathIncrease\": 14.0, \"positiveRate\": 0.011, \"state\": \"New York\", \"sma7d\": 9.0}, {\"date\": \"2020-10-05T00:00:00\", \"totalTestResultsIncrease\": 76404.0, \"positiveIncrease\": 933.0, \"death\": 25527.0, \"deathIncrease\": 8.0, \"positiveRate\": 0.012, \"state\": \"New York\", \"sma7d\": 8.429}, {\"date\": \"2020-10-06T00:00:00\", \"totalTestResultsIncrease\": 96359.0, \"positiveIncrease\": 1393.0, \"death\": 25536.0, \"deathIncrease\": 9.0, \"positiveRate\": 0.014, \"state\": \"New York\", \"sma7d\": 9.429}, {\"date\": \"2020-10-07T00:00:00\", \"totalTestResultsIncrease\": 108246.0, \"positiveIncrease\": 1360.0, \"death\": 25545.0, \"deathIncrease\": 9.0, \"positiveRate\": 0.013, \"state\": \"New York\", \"sma7d\": 9.429}, {\"date\": \"2020-10-08T00:00:00\", \"totalTestResultsIncrease\": 145811.0, \"positiveIncrease\": 1836.0, \"death\": 25555.0, \"deathIncrease\": 10.0, \"positiveRate\": 0.013, \"state\": \"New York\", \"sma7d\": 9.286}, {\"date\": \"2020-10-09T00:00:00\", \"totalTestResultsIncrease\": 139300.0, \"positiveIncrease\": 1592.0, \"death\": 25561.0, \"deathIncrease\": 6.0, \"positiveRate\": 0.011, \"state\": \"New York\", \"sma7d\": 9.143}, {\"date\": \"2020-10-10T00:00:00\", \"totalTestResultsIncrease\": 134579.0, \"positiveIncrease\": 1447.0, \"death\": 25569.0, \"deathIncrease\": 8.0, \"positiveRate\": 0.011, \"state\": \"New York\", \"sma7d\": 9.143}, {\"date\": \"2020-10-11T00:00:00\", \"totalTestResultsIncrease\": 118254.0, \"positiveIncrease\": 1143.0, \"death\": 25574.0, \"deathIncrease\": 5.0, \"positiveRate\": 0.01, \"state\": \"New York\", \"sma7d\": 7.857}, {\"date\": \"2020-10-12T00:00:00\", \"totalTestResultsIncrease\": 91793.0, \"positiveIncrease\": 1029.0, \"death\": 25587.0, \"deathIncrease\": 13.0, \"positiveRate\": 0.011, \"state\": \"New York\", \"sma7d\": 8.571}, {\"date\": \"2020-10-13T00:00:00\", \"totalTestResultsIncrease\": 99070.0, \"positiveIncrease\": 1393.0, \"death\": 25598.0, \"deathIncrease\": 11.0, \"positiveRate\": 0.014, \"state\": \"New York\", \"sma7d\": 8.857}, {\"date\": \"2020-10-14T00:00:00\", \"totalTestResultsIncrease\": 111744.0, \"positiveIncrease\": 1232.0, \"death\": 25605.0, \"deathIncrease\": 7.0, \"positiveRate\": 0.011, \"state\": \"New York\", \"sma7d\": 8.571}, {\"date\": \"2020-10-15T00:00:00\", \"totalTestResultsIncrease\": 133212.0, \"positiveIncrease\": 1460.0, \"death\": 25618.0, \"deathIncrease\": 13.0, \"positiveRate\": 0.011, \"state\": \"New York\", \"sma7d\": 9.0}, {\"date\": \"2020-10-16T00:00:00\", \"totalTestResultsIncrease\": 136039.0, \"positiveIncrease\": 1707.0, \"death\": 25628.0, \"deathIncrease\": 10.0, \"positiveRate\": 0.013, \"state\": \"New York\", \"sma7d\": 9.571}, {\"date\": \"2020-10-17T00:00:00\", \"totalTestResultsIncrease\": 159972.0, \"positiveIncrease\": 1784.0, \"death\": 25637.0, \"deathIncrease\": 9.0, \"positiveRate\": 0.011, \"state\": \"New York\", \"sma7d\": 9.714}, {\"date\": \"2020-10-18T00:00:00\", \"totalTestResultsIncrease\": 128763.0, \"positiveIncrease\": 1390.0, \"death\": 25644.0, \"deathIncrease\": 7.0, \"positiveRate\": 0.011, \"state\": \"New York\", \"sma7d\": 10.0}, {\"date\": \"2020-10-19T00:00:00\", \"totalTestResultsIncrease\": 82009.0, \"positiveIncrease\": 998.0, \"death\": 25659.0, \"deathIncrease\": 15.0, \"positiveRate\": 0.012, \"state\": \"New York\", \"sma7d\": 10.286}, {\"date\": \"2020-10-20T00:00:00\", \"totalTestResultsIncrease\": 90540.0, \"positiveIncrease\": 1201.0, \"death\": 25672.0, \"deathIncrease\": 13.0, \"positiveRate\": 0.013, \"state\": \"New York\", \"sma7d\": 10.571}, {\"date\": \"2020-10-21T00:00:00\", \"totalTestResultsIncrease\": 124789.0, \"positiveIncrease\": 2026.0, \"death\": 25679.0, \"deathIncrease\": 7.0, \"positiveRate\": 0.016, \"state\": \"New York\", \"sma7d\": 10.571}, {\"date\": \"2020-10-22T00:00:00\", \"totalTestResultsIncrease\": 135341.0, \"positiveIncrease\": 1628.0, \"death\": 25694.0, \"deathIncrease\": 15.0, \"positiveRate\": 0.012, \"state\": \"New York\", \"sma7d\": 10.857}, {\"date\": \"2020-10-23T00:00:00\", \"totalTestResultsIncrease\": 141508.0, \"positiveIncrease\": 1637.0, \"death\": 25705.0, \"deathIncrease\": 11.0, \"positiveRate\": 0.012, \"state\": \"New York\", \"sma7d\": 11.0}, {\"date\": \"2020-10-24T00:00:00\", \"totalTestResultsIncrease\": 156940.0, \"positiveIncrease\": 2061.0, \"death\": 25718.0, \"deathIncrease\": 13.0, \"positiveRate\": 0.013, \"state\": \"New York\", \"sma7d\": 11.571}, {\"date\": \"2020-10-25T00:00:00\", \"totalTestResultsIncrease\": 120830.0, \"positiveIncrease\": 1632.0, \"death\": 25730.0, \"deathIncrease\": 12.0, \"positiveRate\": 0.014, \"state\": \"New York\", \"sma7d\": 12.286}, {\"date\": \"2020-10-26T00:00:00\", \"totalTestResultsIncrease\": 82117.0, \"positiveIncrease\": 1191.0, \"death\": 25742.0, \"deathIncrease\": 12.0, \"positiveRate\": 0.015, \"state\": \"New York\", \"sma7d\": 11.857}]}}, {\"mode\": \"vega-lite\"});\n",
       "</script>"
      ],
      "text/plain": [
       "alt.LayerChart(...)"
      ]
     },
     "execution_count": 13,
     "metadata": {},
     "output_type": "execute_result"
    }
   ],
   "source": [
    "create_plot(ny, 'deathIncrease')"
   ]
  },
  {
   "cell_type": "markdown",
   "metadata": {
    "papermill": {
     "duration": 0.017948,
     "end_time": "2020-10-27T22:37:48.084547",
     "exception": false,
     "start_time": "2020-10-27T22:37:48.066599",
     "status": "completed"
    },
    "tags": []
   },
   "source": [
    "## Non Tri-State"
   ]
  },
  {
   "cell_type": "code",
   "execution_count": 14,
   "metadata": {
    "execution": {
     "iopub.execute_input": "2020-10-27T22:37:48.125582Z",
     "iopub.status.busy": "2020-10-27T22:37:48.124930Z",
     "iopub.status.idle": "2020-10-27T22:37:48.494170Z",
     "shell.execute_reply": "2020-10-27T22:37:48.493491Z"
    },
    "papermill": {
     "duration": 0.3916,
     "end_time": "2020-10-27T22:37:48.494329",
     "exception": false,
     "start_time": "2020-10-27T22:37:48.102729",
     "status": "completed"
    },
    "tags": []
   },
   "outputs": [],
   "source": [
    "non_tristate = create_df(df, lambda d: ~d['state'].isin(['CT','NJ','NY']), 'Non Tri-State')"
   ]
  },
  {
   "cell_type": "code",
   "execution_count": 15,
   "metadata": {
    "execution": {
     "iopub.execute_input": "2020-10-27T22:37:48.554516Z",
     "iopub.status.busy": "2020-10-27T22:37:48.544315Z",
     "iopub.status.idle": "2020-10-27T22:37:48.642924Z",
     "shell.execute_reply": "2020-10-27T22:37:48.642297Z"
    },
    "papermill": {
     "duration": 0.1303,
     "end_time": "2020-10-27T22:37:48.643077",
     "exception": false,
     "start_time": "2020-10-27T22:37:48.512777",
     "status": "completed"
    },
    "tags": []
   },
   "outputs": [
    {
     "data": {
      "text/html": [
       "\n",
       "<div id=\"altair-viz-4235e3898da84b6f91b01e9d77427484\"></div>\n",
       "<script type=\"text/javascript\">\n",
       "  (function(spec, embedOpt){\n",
       "    let outputDiv = document.currentScript.previousElementSibling;\n",
       "    if (outputDiv.id !== \"altair-viz-4235e3898da84b6f91b01e9d77427484\") {\n",
       "      outputDiv = document.getElementById(\"altair-viz-4235e3898da84b6f91b01e9d77427484\");\n",
       "    }\n",
       "    const paths = {\n",
       "      \"vega\": \"https://cdn.jsdelivr.net/npm//vega@5?noext\",\n",
       "      \"vega-lib\": \"https://cdn.jsdelivr.net/npm//vega-lib?noext\",\n",
       "      \"vega-lite\": \"https://cdn.jsdelivr.net/npm//vega-lite@4.8.1?noext\",\n",
       "      \"vega-embed\": \"https://cdn.jsdelivr.net/npm//vega-embed@6?noext\",\n",
       "    };\n",
       "\n",
       "    function loadScript(lib) {\n",
       "      return new Promise(function(resolve, reject) {\n",
       "        var s = document.createElement('script');\n",
       "        s.src = paths[lib];\n",
       "        s.async = true;\n",
       "        s.onload = () => resolve(paths[lib]);\n",
       "        s.onerror = () => reject(`Error loading script: ${paths[lib]}`);\n",
       "        document.getElementsByTagName(\"head\")[0].appendChild(s);\n",
       "      });\n",
       "    }\n",
       "\n",
       "    function showError(err) {\n",
       "      outputDiv.innerHTML = `<div class=\"error\" style=\"color:red;\">${err}</div>`;\n",
       "      throw err;\n",
       "    }\n",
       "\n",
       "    function displayChart(vegaEmbed) {\n",
       "      vegaEmbed(outputDiv, spec, embedOpt)\n",
       "        .catch(err => showError(`Javascript Error: ${err.message}<br>This usually means there's a typo in your chart specification. See the javascript console for the full traceback.`));\n",
       "    }\n",
       "\n",
       "    if(typeof define === \"function\" && define.amd) {\n",
       "      requirejs.config({paths});\n",
       "      require([\"vega-embed\"], displayChart, err => showError(`Error loading script: ${err.message}`));\n",
       "    } else if (typeof vegaEmbed === \"function\") {\n",
       "      displayChart(vegaEmbed);\n",
       "    } else {\n",
       "      loadScript(\"vega\")\n",
       "        .then(() => loadScript(\"vega-lite\"))\n",
       "        .then(() => loadScript(\"vega-embed\"))\n",
       "        .catch(showError)\n",
       "        .then(() => displayChart(vegaEmbed));\n",
       "    }\n",
       "  })({\"config\": {\"view\": {\"continuousWidth\": 400, \"continuousHeight\": 300}}, \"layer\": [{\"layer\": [{\"mark\": {\"type\": \"point\", \"size\": 75}, \"encoding\": {\"tooltip\": [{\"type\": \"temporal\", \"field\": \"date\"}, {\"type\": \"quantitative\", \"field\": \"positiveIncrease\"}, {\"type\": \"quantitative\", \"field\": \"sma7d\"}], \"x\": {\"type\": \"temporal\", \"field\": \"date\"}, \"y\": {\"type\": \"quantitative\", \"field\": \"positiveIncrease\"}}, \"selection\": {\"selector014\": {\"type\": \"interval\", \"bind\": \"scales\", \"encodings\": [\"x\", \"y\"]}}}, {\"mark\": {\"type\": \"line\", \"color\": \"purple\"}, \"encoding\": {\"x\": {\"type\": \"temporal\", \"field\": \"date\"}, \"y\": {\"type\": \"quantitative\", \"field\": \"sma7d\"}}}]}, {\"mark\": {\"type\": \"rule\", \"color\": \"#aaa\"}, \"encoding\": {\"x\": {\"type\": \"temporal\", \"field\": \"date\"}}, \"transform\": [{\"filter\": {\"selection\": \"selector013\"}}]}, {\"mark\": \"circle\", \"encoding\": {\"opacity\": {\"condition\": {\"value\": 1, \"selection\": \"selector013\"}, \"value\": 0}, \"tooltip\": [{\"type\": \"temporal\", \"field\": \"date\"}, {\"type\": \"quantitative\", \"field\": \"positiveIncrease\"}, {\"type\": \"quantitative\", \"field\": \"sma7d\"}], \"x\": {\"type\": \"temporal\", \"field\": \"date\"}, \"y\": {\"type\": \"quantitative\", \"field\": \"positiveIncrease\"}}, \"selection\": {\"selector013\": {\"type\": \"single\", \"encodings\": [\"x\"], \"on\": \"mouseover\", \"nearest\": true, \"empty\": \"none\"}}}, {\"mark\": {\"type\": \"text\", \"align\": \"left\", \"dx\": 5, \"dy\": -5, \"stroke\": \"white\", \"strokeWidth\": 2}, \"encoding\": {\"text\": {\"type\": \"quantitative\", \"field\": \"positiveIncrease\"}, \"tooltip\": [{\"type\": \"temporal\", \"field\": \"date\"}, {\"type\": \"quantitative\", \"field\": \"positiveIncrease\"}, {\"type\": \"quantitative\", \"field\": \"sma7d\"}], \"x\": {\"type\": \"temporal\", \"field\": \"date\"}, \"y\": {\"type\": \"quantitative\", \"field\": \"positiveIncrease\"}}, \"transform\": [{\"filter\": {\"selection\": \"selector013\"}}]}, {\"mark\": {\"type\": \"text\", \"align\": \"left\", \"dx\": 5, \"dy\": -5}, \"encoding\": {\"text\": {\"type\": \"quantitative\", \"field\": \"positiveIncrease\"}, \"tooltip\": [{\"type\": \"temporal\", \"field\": \"date\"}, {\"type\": \"quantitative\", \"field\": \"positiveIncrease\"}, {\"type\": \"quantitative\", \"field\": \"sma7d\"}], \"x\": {\"type\": \"temporal\", \"field\": \"date\"}, \"y\": {\"type\": \"quantitative\", \"field\": \"positiveIncrease\"}}, \"transform\": [{\"filter\": {\"selection\": \"selector013\"}}]}], \"data\": {\"name\": \"data-98b10bb11ac6bac3f7a311bf862c6d1a\"}, \"height\": 400, \"title\": \"Non Tri-State: positiveIncrease\", \"width\": 500, \"$schema\": \"https://vega.github.io/schema/vega-lite/v4.8.1.json\", \"datasets\": {\"data-98b10bb11ac6bac3f7a311bf862c6d1a\": [{\"date\": \"2020-09-02T00:00:00\", \"totalTestResultsIncrease\": 560611.0, \"positiveIncrease\": 29396.0, \"death\": 131905.0, \"deathIncrease\": 1015.0, \"positiveRate\": 0.052, \"state\": \"Non Tri-State\", \"sma7d\": 38644.857}, {\"date\": \"2020-09-03T00:00:00\", \"totalTestResultsIncrease\": 697976.0, \"positiveIncrease\": 43262.0, \"death\": 132960.0, \"deathIncrease\": 1055.0, \"positiveRate\": 0.062, \"state\": \"Non Tri-State\", \"sma7d\": 38722.857}, {\"date\": \"2020-09-04T00:00:00\", \"totalTestResultsIncrease\": 831681.0, \"positiveIncrease\": 50071.0, \"death\": 133946.0, \"deathIncrease\": 986.0, \"positiveRate\": 0.06, \"state\": \"Non Tri-State\", \"sma7d\": 39400.714}, {\"date\": \"2020-09-05T00:00:00\", \"totalTestResultsIncrease\": 808021.0, \"positiveIncrease\": 43716.0, \"death\": 134855.0, \"deathIncrease\": 909.0, \"positiveRate\": 0.054, \"state\": \"Non Tri-State\", \"sma7d\": 39438.429}, {\"date\": \"2020-09-06T00:00:00\", \"totalTestResultsIncrease\": 666869.0, \"positiveIncrease\": 32026.0, \"death\": 135291.0, \"deathIncrease\": 436.0, \"positiveRate\": 0.048, \"state\": \"Non Tri-State\", \"sma7d\": 38517.0}, {\"date\": \"2020-09-07T00:00:00\", \"totalTestResultsIncrease\": 514944.0, \"positiveIncrease\": 27804.0, \"death\": 135512.0, \"deathIncrease\": 221.0, \"positiveRate\": 0.054, \"state\": \"Non Tri-State\", \"sma7d\": 38202.143}, {\"date\": \"2020-09-08T00:00:00\", \"totalTestResultsIncrease\": 428820.0, \"positiveIncrease\": 20946.0, \"death\": 135853.0, \"deathIncrease\": 341.0, \"positiveRate\": 0.049, \"state\": \"Non Tri-State\", \"sma7d\": 35317.286}, {\"date\": \"2020-09-09T00:00:00\", \"totalTestResultsIncrease\": 569438.0, \"positiveIncrease\": 30076.0, \"death\": 136926.0, \"deathIncrease\": 1073.0, \"positiveRate\": 0.053, \"state\": \"Non Tri-State\", \"sma7d\": 35414.429}, {\"date\": \"2020-09-10T00:00:00\", \"totalTestResultsIncrease\": 614459.0, \"positiveIncrease\": 36132.0, \"death\": 138080.0, \"deathIncrease\": 1154.0, \"positiveRate\": 0.059, \"state\": \"Non Tri-State\", \"sma7d\": 34395.857}, {\"date\": \"2020-09-11T00:00:00\", \"totalTestResultsIncrease\": 718584.0, \"positiveIncrease\": 43294.0, \"death\": 139082.0, \"deathIncrease\": 1002.0, \"positiveRate\": 0.06, \"state\": \"Non Tri-State\", \"sma7d\": 33427.714}, {\"date\": \"2020-09-12T00:00:00\", \"totalTestResultsIncrease\": 826900.0, \"positiveIncrease\": 40770.0, \"death\": 139886.0, \"deathIncrease\": 804.0, \"positiveRate\": 0.049, \"state\": \"Non Tri-State\", \"sma7d\": 33006.857}, {\"date\": \"2020-09-13T00:00:00\", \"totalTestResultsIncrease\": 620634.0, \"positiveIncrease\": 33403.0, \"death\": 140265.0, \"deathIncrease\": 379.0, \"positiveRate\": 0.054, \"state\": \"Non Tri-State\", \"sma7d\": 33203.571}, {\"date\": \"2020-09-14T00:00:00\", \"totalTestResultsIncrease\": 323763.0, \"positiveIncrease\": 32360.0, \"death\": 140656.0, \"deathIncrease\": 391.0, \"positiveRate\": 0.1, \"state\": \"Non Tri-State\", \"sma7d\": 33854.429}, {\"date\": \"2020-09-15T00:00:00\", \"totalTestResultsIncrease\": 653266.0, \"positiveIncrease\": 33734.0, \"death\": 141667.0, \"deathIncrease\": 1011.0, \"positiveRate\": 0.052, \"state\": \"Non Tri-State\", \"sma7d\": 35681.286}, {\"date\": \"2020-09-16T00:00:00\", \"totalTestResultsIncrease\": 669070.0, \"positiveIncrease\": 38779.0, \"death\": 142851.0, \"deathIncrease\": 1184.0, \"positiveRate\": 0.058, \"state\": \"Non Tri-State\", \"sma7d\": 36924.571}, {\"date\": \"2020-09-17T00:00:00\", \"totalTestResultsIncrease\": 749601.0, \"positiveIncrease\": 41891.0, \"death\": 143707.0, \"deathIncrease\": 856.0, \"positiveRate\": 0.056, \"state\": \"Non Tri-State\", \"sma7d\": 37747.286}, {\"date\": \"2020-09-18T00:00:00\", \"totalTestResultsIncrease\": 889319.0, \"positiveIncrease\": 46041.0, \"death\": 144590.0, \"deathIncrease\": 883.0, \"positiveRate\": 0.052, \"state\": \"Non Tri-State\", \"sma7d\": 38139.714}, {\"date\": \"2020-09-19T00:00:00\", \"totalTestResultsIncrease\": 989866.0, \"positiveIncrease\": 44054.0, \"death\": 145325.0, \"deathIncrease\": 735.0, \"positiveRate\": 0.045, \"state\": \"Non Tri-State\", \"sma7d\": 38608.857}, {\"date\": \"2020-09-20T00:00:00\", \"totalTestResultsIncrease\": 772098.0, \"positiveIncrease\": 34956.0, \"death\": 145647.0, \"deathIncrease\": 322.0, \"positiveRate\": 0.045, \"state\": \"Non Tri-State\", \"sma7d\": 38830.714}, {\"date\": \"2020-09-21T00:00:00\", \"totalTestResultsIncrease\": 631756.0, \"positiveIncrease\": 37996.0, \"death\": 145928.0, \"deathIncrease\": 281.0, \"positiveRate\": 0.06, \"state\": \"Non Tri-State\", \"sma7d\": 39635.857}, {\"date\": \"2020-09-22T00:00:00\", \"totalTestResultsIncrease\": 671945.0, \"positiveIncrease\": 48067.0, \"death\": 146770.0, \"deathIncrease\": 842.0, \"positiveRate\": 0.072, \"state\": \"Non Tri-State\", \"sma7d\": 41683.429}, {\"date\": \"2020-09-23T00:00:00\", \"totalTestResultsIncrease\": 856638.0, \"positiveIncrease\": 37343.0, \"death\": 147915.0, \"deathIncrease\": 1145.0, \"positiveRate\": 0.044, \"state\": \"Non Tri-State\", \"sma7d\": 41478.286}, {\"date\": \"2020-09-24T00:00:00\", \"totalTestResultsIncrease\": 837131.0, \"positiveIncrease\": 42032.0, \"death\": 148823.0, \"deathIncrease\": 908.0, \"positiveRate\": 0.05, \"state\": \"Non Tri-State\", \"sma7d\": 41498.429}, {\"date\": \"2020-09-25T00:00:00\", \"totalTestResultsIncrease\": 918816.0, \"positiveIncrease\": 53917.0, \"death\": 149652.0, \"deathIncrease\": 829.0, \"positiveRate\": 0.059, \"state\": \"Non Tri-State\", \"sma7d\": 42623.571}, {\"date\": \"2020-09-26T00:00:00\", \"totalTestResultsIncrease\": 922764.0, \"positiveIncrease\": 46037.0, \"death\": 150511.0, \"deathIncrease\": 859.0, \"positiveRate\": 0.05, \"state\": \"Non Tri-State\", \"sma7d\": 42906.857}, {\"date\": \"2020-09-27T00:00:00\", \"totalTestResultsIncrease\": 764213.0, \"positiveIncrease\": 33855.0, \"death\": 150806.0, \"deathIncrease\": 295.0, \"positiveRate\": 0.044, \"state\": \"Non Tri-State\", \"sma7d\": 42749.571}, {\"date\": \"2020-09-28T00:00:00\", \"totalTestResultsIncrease\": 970274.0, \"positiveIncrease\": 34561.0, \"death\": 151051.0, \"deathIncrease\": 245.0, \"positiveRate\": 0.036, \"state\": \"Non Tri-State\", \"sma7d\": 42258.857}, {\"date\": \"2020-09-29T00:00:00\", \"totalTestResultsIncrease\": 759069.0, \"positiveIncrease\": 35063.0, \"death\": 151776.0, \"deathIncrease\": 725.0, \"positiveRate\": 0.046, \"state\": \"Non Tri-State\", \"sma7d\": 40401.143}, {\"date\": \"2020-09-30T00:00:00\", \"totalTestResultsIncrease\": 690094.0, \"positiveIncrease\": 42423.0, \"death\": 152816.0, \"deathIncrease\": 1040.0, \"positiveRate\": 0.061, \"state\": \"Non Tri-State\", \"sma7d\": 41126.857}, {\"date\": \"2020-10-01T00:00:00\", \"totalTestResultsIncrease\": 811896.0, \"positiveIncrease\": 43429.0, \"death\": 153648.0, \"deathIncrease\": 832.0, \"positiveRate\": 0.053, \"state\": \"Non Tri-State\", \"sma7d\": 41326.429}, {\"date\": \"2020-10-02T00:00:00\", \"totalTestResultsIncrease\": 913792.0, \"positiveIncrease\": 46591.0, \"death\": 154470.0, \"deathIncrease\": 822.0, \"positiveRate\": 0.051, \"state\": \"Non Tri-State\", \"sma7d\": 40279.857}, {\"date\": \"2020-10-03T00:00:00\", \"totalTestResultsIncrease\": 898549.0, \"positiveIncrease\": 48660.0, \"death\": 155199.0, \"deathIncrease\": 729.0, \"positiveRate\": 0.054, \"state\": \"Non Tri-State\", \"sma7d\": 40654.571}, {\"date\": \"2020-10-04T00:00:00\", \"totalTestResultsIncrease\": 802388.0, \"positiveIncrease\": 36509.0, \"death\": 155547.0, \"deathIncrease\": 348.0, \"positiveRate\": 0.046, \"state\": \"Non Tri-State\", \"sma7d\": 41033.714}, {\"date\": \"2020-10-05T00:00:00\", \"totalTestResultsIncrease\": 796621.0, \"positiveIncrease\": 35857.0, \"death\": 155859.0, \"deathIncrease\": 312.0, \"positiveRate\": 0.045, \"state\": \"Non Tri-State\", \"sma7d\": 41218.857}, {\"date\": \"2020-10-06T00:00:00\", \"totalTestResultsIncrease\": 745070.0, \"positiveIncrease\": 36468.0, \"death\": 156471.0, \"deathIncrease\": 612.0, \"positiveRate\": 0.049, \"state\": \"Non Tri-State\", \"sma7d\": 41419.571}, {\"date\": \"2020-10-07T00:00:00\", \"totalTestResultsIncrease\": 761872.0, \"positiveIncrease\": 48573.0, \"death\": 157372.0, \"deathIncrease\": 901.0, \"positiveRate\": 0.064, \"state\": \"Non Tri-State\", \"sma7d\": 42298.143}, {\"date\": \"2020-10-08T00:00:00\", \"totalTestResultsIncrease\": 842150.0, \"positiveIncrease\": 51774.0, \"death\": 158335.0, \"deathIncrease\": 963.0, \"positiveRate\": 0.061, \"state\": \"Non Tri-State\", \"sma7d\": 43490.286}, {\"date\": \"2020-10-09T00:00:00\", \"totalTestResultsIncrease\": 933930.0, \"positiveIncrease\": 54258.0, \"death\": 159215.0, \"deathIncrease\": 880.0, \"positiveRate\": 0.058, \"state\": \"Non Tri-State\", \"sma7d\": 44585.571}, {\"date\": \"2020-10-10T00:00:00\", \"totalTestResultsIncrease\": 1016290.0, \"positiveIncrease\": 55181.0, \"death\": 159865.0, \"deathIncrease\": 650.0, \"positiveRate\": 0.054, \"state\": \"Non Tri-State\", \"sma7d\": 45517.143}, {\"date\": \"2020-10-11T00:00:00\", \"totalTestResultsIncrease\": 852847.0, \"positiveIncrease\": 44896.0, \"death\": 160323.0, \"deathIncrease\": 458.0, \"positiveRate\": 0.053, \"state\": \"Non Tri-State\", \"sma7d\": 46715.286}, {\"date\": \"2020-10-12T00:00:00\", \"totalTestResultsIncrease\": 767926.0, \"positiveIncrease\": 40273.0, \"death\": 160594.0, \"deathIncrease\": 271.0, \"positiveRate\": 0.052, \"state\": \"Non Tri-State\", \"sma7d\": 47346.143}, {\"date\": \"2020-10-13T00:00:00\", \"totalTestResultsIncrease\": 872514.0, \"positiveIncrease\": 45618.0, \"death\": 161265.0, \"deathIncrease\": 671.0, \"positiveRate\": 0.052, \"state\": \"Non Tri-State\", \"sma7d\": 48653.286}, {\"date\": \"2020-10-14T00:00:00\", \"totalTestResultsIncrease\": 796584.0, \"positiveIncrease\": 54388.0, \"death\": 162056.0, \"deathIncrease\": 791.0, \"positiveRate\": 0.068, \"state\": \"Non Tri-State\", \"sma7d\": 49484.0}, {\"date\": \"2020-10-15T00:00:00\", \"totalTestResultsIncrease\": 836517.0, \"positiveIncrease\": 60504.0, \"death\": 162985.0, \"deathIncrease\": 929.0, \"positiveRate\": 0.072, \"state\": \"Non Tri-State\", \"sma7d\": 50731.143}, {\"date\": \"2020-10-16T00:00:00\", \"totalTestResultsIncrease\": 942932.0, \"positiveIncrease\": 64721.0, \"death\": 163845.0, \"deathIncrease\": 860.0, \"positiveRate\": 0.069, \"state\": \"Non Tri-State\", \"sma7d\": 52225.857}, {\"date\": \"2020-10-17T00:00:00\", \"totalTestResultsIncrease\": 1001101.0, \"positiveIncrease\": 55149.0, \"death\": 164614.0, \"deathIncrease\": 769.0, \"positiveRate\": 0.055, \"state\": \"Non Tri-State\", \"sma7d\": 52221.286}, {\"date\": \"2020-10-18T00:00:00\", \"totalTestResultsIncrease\": 850531.0, \"positiveIncrease\": 46192.0, \"death\": 164993.0, \"deathIncrease\": 379.0, \"positiveRate\": 0.054, \"state\": \"Non Tri-State\", \"sma7d\": 52406.429}, {\"date\": \"2020-10-19T00:00:00\", \"totalTestResultsIncrease\": 970345.0, \"positiveIncrease\": 53751.0, \"death\": 165419.0, \"deathIncrease\": 426.0, \"positiveRate\": 0.055, \"state\": \"Non Tri-State\", \"sma7d\": 54331.857}, {\"date\": \"2020-10-20T00:00:00\", \"totalTestResultsIncrease\": 786480.0, \"positiveIncrease\": 57935.0, \"death\": 166220.0, \"deathIncrease\": 801.0, \"positiveRate\": 0.074, \"state\": \"Non Tri-State\", \"sma7d\": 56091.429}, {\"date\": \"2020-10-21T00:00:00\", \"totalTestResultsIncrease\": 713472.0, \"positiveIncrease\": 57240.0, \"death\": 167211.0, \"deathIncrease\": 991.0, \"positiveRate\": 0.08, \"state\": \"Non Tri-State\", \"sma7d\": 56498.857}, {\"date\": \"2020-10-22T00:00:00\", \"totalTestResultsIncrease\": 935732.0, \"positiveIncrease\": 69715.0, \"death\": 168319.0, \"deathIncrease\": 1108.0, \"positiveRate\": 0.075, \"state\": \"Non Tri-State\", \"sma7d\": 57814.714}, {\"date\": \"2020-10-23T00:00:00\", \"totalTestResultsIncrease\": 1081263.0, \"positiveIncrease\": 79696.0, \"death\": 169207.0, \"deathIncrease\": 888.0, \"positiveRate\": 0.074, \"state\": \"Non Tri-State\", \"sma7d\": 59954.0}, {\"date\": \"2020-10-24T00:00:00\", \"totalTestResultsIncrease\": 1063677.0, \"positiveIncrease\": 78955.0, \"death\": 170076.0, \"deathIncrease\": 869.0, \"positiveRate\": 0.074, \"state\": \"Non Tri-State\", \"sma7d\": 63354.857}, {\"date\": \"2020-10-25T00:00:00\", \"totalTestResultsIncrease\": 956257.0, \"positiveIncrease\": 62889.0, \"death\": 170437.0, \"deathIncrease\": 361.0, \"positiveRate\": 0.066, \"state\": \"Non Tri-State\", \"sma7d\": 65740.143}, {\"date\": \"2020-10-26T00:00:00\", \"totalTestResultsIncrease\": 909337.0, \"positiveIncrease\": 57820.0, \"death\": 170795.0, \"deathIncrease\": 358.0, \"positiveRate\": 0.064, \"state\": \"Non Tri-State\", \"sma7d\": 66321.429}]}}, {\"mode\": \"vega-lite\"});\n",
       "</script>"
      ],
      "text/plain": [
       "alt.LayerChart(...)"
      ]
     },
     "execution_count": 15,
     "metadata": {},
     "output_type": "execute_result"
    }
   ],
   "source": [
    "create_plot(non_tristate, 'positiveIncrease')"
   ]
  },
  {
   "cell_type": "code",
   "execution_count": 16,
   "metadata": {
    "execution": {
     "iopub.execute_input": "2020-10-27T22:37:48.690700Z",
     "iopub.status.busy": "2020-10-27T22:37:48.690047Z",
     "iopub.status.idle": "2020-10-27T22:37:48.788585Z",
     "shell.execute_reply": "2020-10-27T22:37:48.789139Z"
    },
    "papermill": {
     "duration": 0.126477,
     "end_time": "2020-10-27T22:37:48.789354",
     "exception": false,
     "start_time": "2020-10-27T22:37:48.662877",
     "status": "completed"
    },
    "tags": []
   },
   "outputs": [
    {
     "data": {
      "text/html": [
       "\n",
       "<div id=\"altair-viz-9e8f28a9ed1d4fba8f61c024c8178f08\"></div>\n",
       "<script type=\"text/javascript\">\n",
       "  (function(spec, embedOpt){\n",
       "    let outputDiv = document.currentScript.previousElementSibling;\n",
       "    if (outputDiv.id !== \"altair-viz-9e8f28a9ed1d4fba8f61c024c8178f08\") {\n",
       "      outputDiv = document.getElementById(\"altair-viz-9e8f28a9ed1d4fba8f61c024c8178f08\");\n",
       "    }\n",
       "    const paths = {\n",
       "      \"vega\": \"https://cdn.jsdelivr.net/npm//vega@5?noext\",\n",
       "      \"vega-lib\": \"https://cdn.jsdelivr.net/npm//vega-lib?noext\",\n",
       "      \"vega-lite\": \"https://cdn.jsdelivr.net/npm//vega-lite@4.8.1?noext\",\n",
       "      \"vega-embed\": \"https://cdn.jsdelivr.net/npm//vega-embed@6?noext\",\n",
       "    };\n",
       "\n",
       "    function loadScript(lib) {\n",
       "      return new Promise(function(resolve, reject) {\n",
       "        var s = document.createElement('script');\n",
       "        s.src = paths[lib];\n",
       "        s.async = true;\n",
       "        s.onload = () => resolve(paths[lib]);\n",
       "        s.onerror = () => reject(`Error loading script: ${paths[lib]}`);\n",
       "        document.getElementsByTagName(\"head\")[0].appendChild(s);\n",
       "      });\n",
       "    }\n",
       "\n",
       "    function showError(err) {\n",
       "      outputDiv.innerHTML = `<div class=\"error\" style=\"color:red;\">${err}</div>`;\n",
       "      throw err;\n",
       "    }\n",
       "\n",
       "    function displayChart(vegaEmbed) {\n",
       "      vegaEmbed(outputDiv, spec, embedOpt)\n",
       "        .catch(err => showError(`Javascript Error: ${err.message}<br>This usually means there's a typo in your chart specification. See the javascript console for the full traceback.`));\n",
       "    }\n",
       "\n",
       "    if(typeof define === \"function\" && define.amd) {\n",
       "      requirejs.config({paths});\n",
       "      require([\"vega-embed\"], displayChart, err => showError(`Error loading script: ${err.message}`));\n",
       "    } else if (typeof vegaEmbed === \"function\") {\n",
       "      displayChart(vegaEmbed);\n",
       "    } else {\n",
       "      loadScript(\"vega\")\n",
       "        .then(() => loadScript(\"vega-lite\"))\n",
       "        .then(() => loadScript(\"vega-embed\"))\n",
       "        .catch(showError)\n",
       "        .then(() => displayChart(vegaEmbed));\n",
       "    }\n",
       "  })({\"config\": {\"view\": {\"continuousWidth\": 400, \"continuousHeight\": 300}}, \"layer\": [{\"layer\": [{\"mark\": {\"type\": \"point\", \"size\": 75}, \"encoding\": {\"tooltip\": [{\"type\": \"temporal\", \"field\": \"date\"}, {\"type\": \"quantitative\", \"field\": \"positiveRate\"}, {\"type\": \"quantitative\", \"field\": \"sma7d\"}], \"x\": {\"type\": \"temporal\", \"field\": \"date\"}, \"y\": {\"type\": \"quantitative\", \"field\": \"positiveRate\"}}, \"selection\": {\"selector016\": {\"type\": \"interval\", \"bind\": \"scales\", \"encodings\": [\"x\", \"y\"]}}}, {\"mark\": {\"type\": \"line\", \"color\": \"purple\"}, \"encoding\": {\"x\": {\"type\": \"temporal\", \"field\": \"date\"}, \"y\": {\"type\": \"quantitative\", \"field\": \"sma7d\"}}}]}, {\"mark\": {\"type\": \"rule\", \"color\": \"#aaa\"}, \"encoding\": {\"x\": {\"type\": \"temporal\", \"field\": \"date\"}}, \"transform\": [{\"filter\": {\"selection\": \"selector015\"}}]}, {\"mark\": \"circle\", \"encoding\": {\"opacity\": {\"condition\": {\"value\": 1, \"selection\": \"selector015\"}, \"value\": 0}, \"tooltip\": [{\"type\": \"temporal\", \"field\": \"date\"}, {\"type\": \"quantitative\", \"field\": \"positiveRate\"}, {\"type\": \"quantitative\", \"field\": \"sma7d\"}], \"x\": {\"type\": \"temporal\", \"field\": \"date\"}, \"y\": {\"type\": \"quantitative\", \"field\": \"positiveRate\"}}, \"selection\": {\"selector015\": {\"type\": \"single\", \"encodings\": [\"x\"], \"on\": \"mouseover\", \"nearest\": true, \"empty\": \"none\"}}}, {\"mark\": {\"type\": \"text\", \"align\": \"left\", \"dx\": 5, \"dy\": -5, \"stroke\": \"white\", \"strokeWidth\": 2}, \"encoding\": {\"text\": {\"type\": \"quantitative\", \"field\": \"positiveRate\"}, \"tooltip\": [{\"type\": \"temporal\", \"field\": \"date\"}, {\"type\": \"quantitative\", \"field\": \"positiveRate\"}, {\"type\": \"quantitative\", \"field\": \"sma7d\"}], \"x\": {\"type\": \"temporal\", \"field\": \"date\"}, \"y\": {\"type\": \"quantitative\", \"field\": \"positiveRate\"}}, \"transform\": [{\"filter\": {\"selection\": \"selector015\"}}]}, {\"mark\": {\"type\": \"text\", \"align\": \"left\", \"dx\": 5, \"dy\": -5}, \"encoding\": {\"text\": {\"type\": \"quantitative\", \"field\": \"positiveRate\"}, \"tooltip\": [{\"type\": \"temporal\", \"field\": \"date\"}, {\"type\": \"quantitative\", \"field\": \"positiveRate\"}, {\"type\": \"quantitative\", \"field\": \"sma7d\"}], \"x\": {\"type\": \"temporal\", \"field\": \"date\"}, \"y\": {\"type\": \"quantitative\", \"field\": \"positiveRate\"}}, \"transform\": [{\"filter\": {\"selection\": \"selector015\"}}]}], \"data\": {\"name\": \"data-6f27a492697cf14d858f0844dc37938f\"}, \"height\": 400, \"title\": \"Non Tri-State: positiveRate\", \"width\": 500, \"$schema\": \"https://vega.github.io/schema/vega-lite/v4.8.1.json\", \"datasets\": {\"data-6f27a492697cf14d858f0844dc37938f\": [{\"date\": \"2020-09-02T00:00:00\", \"totalTestResultsIncrease\": 560611.0, \"positiveIncrease\": 29396.0, \"death\": 131905.0, \"deathIncrease\": 1015.0, \"positiveRate\": 0.052, \"state\": \"Non Tri-State\", \"sma7d\": 0.059}, {\"date\": \"2020-09-03T00:00:00\", \"totalTestResultsIncrease\": 697976.0, \"positiveIncrease\": 43262.0, \"death\": 132960.0, \"deathIncrease\": 1055.0, \"positiveRate\": 0.062, \"state\": \"Non Tri-State\", \"sma7d\": 0.059}, {\"date\": \"2020-09-04T00:00:00\", \"totalTestResultsIncrease\": 831681.0, \"positiveIncrease\": 50071.0, \"death\": 133946.0, \"deathIncrease\": 986.0, \"positiveRate\": 0.06, \"state\": \"Non Tri-State\", \"sma7d\": 0.058}, {\"date\": \"2020-09-05T00:00:00\", \"totalTestResultsIncrease\": 808021.0, \"positiveIncrease\": 43716.0, \"death\": 134855.0, \"deathIncrease\": 909.0, \"positiveRate\": 0.054, \"state\": \"Non Tri-State\", \"sma7d\": 0.057}, {\"date\": \"2020-09-06T00:00:00\", \"totalTestResultsIncrease\": 666869.0, \"positiveIncrease\": 32026.0, \"death\": 135291.0, \"deathIncrease\": 436.0, \"positiveRate\": 0.048, \"state\": \"Non Tri-State\", \"sma7d\": 0.056}, {\"date\": \"2020-09-07T00:00:00\", \"totalTestResultsIncrease\": 514944.0, \"positiveIncrease\": 27804.0, \"death\": 135512.0, \"deathIncrease\": 221.0, \"positiveRate\": 0.054, \"state\": \"Non Tri-State\", \"sma7d\": 0.056}, {\"date\": \"2020-09-08T00:00:00\", \"totalTestResultsIncrease\": 428820.0, \"positiveIncrease\": 20946.0, \"death\": 135853.0, \"deathIncrease\": 341.0, \"positiveRate\": 0.049, \"state\": \"Non Tri-State\", \"sma7d\": 0.054}, {\"date\": \"2020-09-09T00:00:00\", \"totalTestResultsIncrease\": 569438.0, \"positiveIncrease\": 30076.0, \"death\": 136926.0, \"deathIncrease\": 1073.0, \"positiveRate\": 0.053, \"state\": \"Non Tri-State\", \"sma7d\": 0.054}, {\"date\": \"2020-09-10T00:00:00\", \"totalTestResultsIncrease\": 614459.0, \"positiveIncrease\": 36132.0, \"death\": 138080.0, \"deathIncrease\": 1154.0, \"positiveRate\": 0.059, \"state\": \"Non Tri-State\", \"sma7d\": 0.054}, {\"date\": \"2020-09-11T00:00:00\", \"totalTestResultsIncrease\": 718584.0, \"positiveIncrease\": 43294.0, \"death\": 139082.0, \"deathIncrease\": 1002.0, \"positiveRate\": 0.06, \"state\": \"Non Tri-State\", \"sma7d\": 0.054}, {\"date\": \"2020-09-12T00:00:00\", \"totalTestResultsIncrease\": 826900.0, \"positiveIncrease\": 40770.0, \"death\": 139886.0, \"deathIncrease\": 804.0, \"positiveRate\": 0.049, \"state\": \"Non Tri-State\", \"sma7d\": 0.053}, {\"date\": \"2020-09-13T00:00:00\", \"totalTestResultsIncrease\": 620634.0, \"positiveIncrease\": 33403.0, \"death\": 140265.0, \"deathIncrease\": 379.0, \"positiveRate\": 0.054, \"state\": \"Non Tri-State\", \"sma7d\": 0.054}, {\"date\": \"2020-09-14T00:00:00\", \"totalTestResultsIncrease\": 323763.0, \"positiveIncrease\": 32360.0, \"death\": 140656.0, \"deathIncrease\": 391.0, \"positiveRate\": 0.1, \"state\": \"Non Tri-State\", \"sma7d\": 0.061}, {\"date\": \"2020-09-15T00:00:00\", \"totalTestResultsIncrease\": 653266.0, \"positiveIncrease\": 33734.0, \"death\": 141667.0, \"deathIncrease\": 1011.0, \"positiveRate\": 0.052, \"state\": \"Non Tri-State\", \"sma7d\": 0.061}, {\"date\": \"2020-09-16T00:00:00\", \"totalTestResultsIncrease\": 669070.0, \"positiveIncrease\": 38779.0, \"death\": 142851.0, \"deathIncrease\": 1184.0, \"positiveRate\": 0.058, \"state\": \"Non Tri-State\", \"sma7d\": 0.062}, {\"date\": \"2020-09-17T00:00:00\", \"totalTestResultsIncrease\": 749601.0, \"positiveIncrease\": 41891.0, \"death\": 143707.0, \"deathIncrease\": 856.0, \"positiveRate\": 0.056, \"state\": \"Non Tri-State\", \"sma7d\": 0.061}, {\"date\": \"2020-09-18T00:00:00\", \"totalTestResultsIncrease\": 889319.0, \"positiveIncrease\": 46041.0, \"death\": 144590.0, \"deathIncrease\": 883.0, \"positiveRate\": 0.052, \"state\": \"Non Tri-State\", \"sma7d\": 0.06}, {\"date\": \"2020-09-19T00:00:00\", \"totalTestResultsIncrease\": 989866.0, \"positiveIncrease\": 44054.0, \"death\": 145325.0, \"deathIncrease\": 735.0, \"positiveRate\": 0.045, \"state\": \"Non Tri-State\", \"sma7d\": 0.06}, {\"date\": \"2020-09-20T00:00:00\", \"totalTestResultsIncrease\": 772098.0, \"positiveIncrease\": 34956.0, \"death\": 145647.0, \"deathIncrease\": 322.0, \"positiveRate\": 0.045, \"state\": \"Non Tri-State\", \"sma7d\": 0.058}, {\"date\": \"2020-09-21T00:00:00\", \"totalTestResultsIncrease\": 631756.0, \"positiveIncrease\": 37996.0, \"death\": 145928.0, \"deathIncrease\": 281.0, \"positiveRate\": 0.06, \"state\": \"Non Tri-State\", \"sma7d\": 0.053}, {\"date\": \"2020-09-22T00:00:00\", \"totalTestResultsIncrease\": 671945.0, \"positiveIncrease\": 48067.0, \"death\": 146770.0, \"deathIncrease\": 842.0, \"positiveRate\": 0.072, \"state\": \"Non Tri-State\", \"sma7d\": 0.055}, {\"date\": \"2020-09-23T00:00:00\", \"totalTestResultsIncrease\": 856638.0, \"positiveIncrease\": 37343.0, \"death\": 147915.0, \"deathIncrease\": 1145.0, \"positiveRate\": 0.044, \"state\": \"Non Tri-State\", \"sma7d\": 0.053}, {\"date\": \"2020-09-24T00:00:00\", \"totalTestResultsIncrease\": 837131.0, \"positiveIncrease\": 42032.0, \"death\": 148823.0, \"deathIncrease\": 908.0, \"positiveRate\": 0.05, \"state\": \"Non Tri-State\", \"sma7d\": 0.053}, {\"date\": \"2020-09-25T00:00:00\", \"totalTestResultsIncrease\": 918816.0, \"positiveIncrease\": 53917.0, \"death\": 149652.0, \"deathIncrease\": 829.0, \"positiveRate\": 0.059, \"state\": \"Non Tri-State\", \"sma7d\": 0.054}, {\"date\": \"2020-09-26T00:00:00\", \"totalTestResultsIncrease\": 922764.0, \"positiveIncrease\": 46037.0, \"death\": 150511.0, \"deathIncrease\": 859.0, \"positiveRate\": 0.05, \"state\": \"Non Tri-State\", \"sma7d\": 0.054}, {\"date\": \"2020-09-27T00:00:00\", \"totalTestResultsIncrease\": 764213.0, \"positiveIncrease\": 33855.0, \"death\": 150806.0, \"deathIncrease\": 295.0, \"positiveRate\": 0.044, \"state\": \"Non Tri-State\", \"sma7d\": 0.054}, {\"date\": \"2020-09-28T00:00:00\", \"totalTestResultsIncrease\": 970274.0, \"positiveIncrease\": 34561.0, \"death\": 151051.0, \"deathIncrease\": 245.0, \"positiveRate\": 0.036, \"state\": \"Non Tri-State\", \"sma7d\": 0.051}, {\"date\": \"2020-09-29T00:00:00\", \"totalTestResultsIncrease\": 759069.0, \"positiveIncrease\": 35063.0, \"death\": 151776.0, \"deathIncrease\": 725.0, \"positiveRate\": 0.046, \"state\": \"Non Tri-State\", \"sma7d\": 0.047}, {\"date\": \"2020-09-30T00:00:00\", \"totalTestResultsIncrease\": 690094.0, \"positiveIncrease\": 42423.0, \"death\": 152816.0, \"deathIncrease\": 1040.0, \"positiveRate\": 0.061, \"state\": \"Non Tri-State\", \"sma7d\": 0.049}, {\"date\": \"2020-10-01T00:00:00\", \"totalTestResultsIncrease\": 811896.0, \"positiveIncrease\": 43429.0, \"death\": 153648.0, \"deathIncrease\": 832.0, \"positiveRate\": 0.053, \"state\": \"Non Tri-State\", \"sma7d\": 0.05}, {\"date\": \"2020-10-02T00:00:00\", \"totalTestResultsIncrease\": 913792.0, \"positiveIncrease\": 46591.0, \"death\": 154470.0, \"deathIncrease\": 822.0, \"positiveRate\": 0.051, \"state\": \"Non Tri-State\", \"sma7d\": 0.049}, {\"date\": \"2020-10-03T00:00:00\", \"totalTestResultsIncrease\": 898549.0, \"positiveIncrease\": 48660.0, \"death\": 155199.0, \"deathIncrease\": 729.0, \"positiveRate\": 0.054, \"state\": \"Non Tri-State\", \"sma7d\": 0.049}, {\"date\": \"2020-10-04T00:00:00\", \"totalTestResultsIncrease\": 802388.0, \"positiveIncrease\": 36509.0, \"death\": 155547.0, \"deathIncrease\": 348.0, \"positiveRate\": 0.046, \"state\": \"Non Tri-State\", \"sma7d\": 0.05}, {\"date\": \"2020-10-05T00:00:00\", \"totalTestResultsIncrease\": 796621.0, \"positiveIncrease\": 35857.0, \"death\": 155859.0, \"deathIncrease\": 312.0, \"positiveRate\": 0.045, \"state\": \"Non Tri-State\", \"sma7d\": 0.051}, {\"date\": \"2020-10-06T00:00:00\", \"totalTestResultsIncrease\": 745070.0, \"positiveIncrease\": 36468.0, \"death\": 156471.0, \"deathIncrease\": 612.0, \"positiveRate\": 0.049, \"state\": \"Non Tri-State\", \"sma7d\": 0.051}, {\"date\": \"2020-10-07T00:00:00\", \"totalTestResultsIncrease\": 761872.0, \"positiveIncrease\": 48573.0, \"death\": 157372.0, \"deathIncrease\": 901.0, \"positiveRate\": 0.064, \"state\": \"Non Tri-State\", \"sma7d\": 0.052}, {\"date\": \"2020-10-08T00:00:00\", \"totalTestResultsIncrease\": 842150.0, \"positiveIncrease\": 51774.0, \"death\": 158335.0, \"deathIncrease\": 963.0, \"positiveRate\": 0.061, \"state\": \"Non Tri-State\", \"sma7d\": 0.053}, {\"date\": \"2020-10-09T00:00:00\", \"totalTestResultsIncrease\": 933930.0, \"positiveIncrease\": 54258.0, \"death\": 159215.0, \"deathIncrease\": 880.0, \"positiveRate\": 0.058, \"state\": \"Non Tri-State\", \"sma7d\": 0.054}, {\"date\": \"2020-10-10T00:00:00\", \"totalTestResultsIncrease\": 1016290.0, \"positiveIncrease\": 55181.0, \"death\": 159865.0, \"deathIncrease\": 650.0, \"positiveRate\": 0.054, \"state\": \"Non Tri-State\", \"sma7d\": 0.054}, {\"date\": \"2020-10-11T00:00:00\", \"totalTestResultsIncrease\": 852847.0, \"positiveIncrease\": 44896.0, \"death\": 160323.0, \"deathIncrease\": 458.0, \"positiveRate\": 0.053, \"state\": \"Non Tri-State\", \"sma7d\": 0.055}, {\"date\": \"2020-10-12T00:00:00\", \"totalTestResultsIncrease\": 767926.0, \"positiveIncrease\": 40273.0, \"death\": 160594.0, \"deathIncrease\": 271.0, \"positiveRate\": 0.052, \"state\": \"Non Tri-State\", \"sma7d\": 0.056}, {\"date\": \"2020-10-13T00:00:00\", \"totalTestResultsIncrease\": 872514.0, \"positiveIncrease\": 45618.0, \"death\": 161265.0, \"deathIncrease\": 671.0, \"positiveRate\": 0.052, \"state\": \"Non Tri-State\", \"sma7d\": 0.056}, {\"date\": \"2020-10-14T00:00:00\", \"totalTestResultsIncrease\": 796584.0, \"positiveIncrease\": 54388.0, \"death\": 162056.0, \"deathIncrease\": 791.0, \"positiveRate\": 0.068, \"state\": \"Non Tri-State\", \"sma7d\": 0.057}, {\"date\": \"2020-10-15T00:00:00\", \"totalTestResultsIncrease\": 836517.0, \"positiveIncrease\": 60504.0, \"death\": 162985.0, \"deathIncrease\": 929.0, \"positiveRate\": 0.072, \"state\": \"Non Tri-State\", \"sma7d\": 0.058}, {\"date\": \"2020-10-16T00:00:00\", \"totalTestResultsIncrease\": 942932.0, \"positiveIncrease\": 64721.0, \"death\": 163845.0, \"deathIncrease\": 860.0, \"positiveRate\": 0.069, \"state\": \"Non Tri-State\", \"sma7d\": 0.06}, {\"date\": \"2020-10-17T00:00:00\", \"totalTestResultsIncrease\": 1001101.0, \"positiveIncrease\": 55149.0, \"death\": 164614.0, \"deathIncrease\": 769.0, \"positiveRate\": 0.055, \"state\": \"Non Tri-State\", \"sma7d\": 0.06}, {\"date\": \"2020-10-18T00:00:00\", \"totalTestResultsIncrease\": 850531.0, \"positiveIncrease\": 46192.0, \"death\": 164993.0, \"deathIncrease\": 379.0, \"positiveRate\": 0.054, \"state\": \"Non Tri-State\", \"sma7d\": 0.06}, {\"date\": \"2020-10-19T00:00:00\", \"totalTestResultsIncrease\": 970345.0, \"positiveIncrease\": 53751.0, \"death\": 165419.0, \"deathIncrease\": 426.0, \"positiveRate\": 0.055, \"state\": \"Non Tri-State\", \"sma7d\": 0.061}, {\"date\": \"2020-10-20T00:00:00\", \"totalTestResultsIncrease\": 786480.0, \"positiveIncrease\": 57935.0, \"death\": 166220.0, \"deathIncrease\": 801.0, \"positiveRate\": 0.074, \"state\": \"Non Tri-State\", \"sma7d\": 0.064}, {\"date\": \"2020-10-21T00:00:00\", \"totalTestResultsIncrease\": 713472.0, \"positiveIncrease\": 57240.0, \"death\": 167211.0, \"deathIncrease\": 991.0, \"positiveRate\": 0.08, \"state\": \"Non Tri-State\", \"sma7d\": 0.066}, {\"date\": \"2020-10-22T00:00:00\", \"totalTestResultsIncrease\": 935732.0, \"positiveIncrease\": 69715.0, \"death\": 168319.0, \"deathIncrease\": 1108.0, \"positiveRate\": 0.075, \"state\": \"Non Tri-State\", \"sma7d\": 0.066}, {\"date\": \"2020-10-23T00:00:00\", \"totalTestResultsIncrease\": 1081263.0, \"positiveIncrease\": 79696.0, \"death\": 169207.0, \"deathIncrease\": 888.0, \"positiveRate\": 0.074, \"state\": \"Non Tri-State\", \"sma7d\": 0.067}, {\"date\": \"2020-10-24T00:00:00\", \"totalTestResultsIncrease\": 1063677.0, \"positiveIncrease\": 78955.0, \"death\": 170076.0, \"deathIncrease\": 869.0, \"positiveRate\": 0.074, \"state\": \"Non Tri-State\", \"sma7d\": 0.069}, {\"date\": \"2020-10-25T00:00:00\", \"totalTestResultsIncrease\": 956257.0, \"positiveIncrease\": 62889.0, \"death\": 170437.0, \"deathIncrease\": 361.0, \"positiveRate\": 0.066, \"state\": \"Non Tri-State\", \"sma7d\": 0.071}, {\"date\": \"2020-10-26T00:00:00\", \"totalTestResultsIncrease\": 909337.0, \"positiveIncrease\": 57820.0, \"death\": 170795.0, \"deathIncrease\": 358.0, \"positiveRate\": 0.064, \"state\": \"Non Tri-State\", \"sma7d\": 0.072}]}}, {\"mode\": \"vega-lite\"});\n",
       "</script>"
      ],
      "text/plain": [
       "alt.LayerChart(...)"
      ]
     },
     "execution_count": 16,
     "metadata": {},
     "output_type": "execute_result"
    }
   ],
   "source": [
    "create_plot(non_tristate, 'positiveRate')"
   ]
  },
  {
   "cell_type": "code",
   "execution_count": 17,
   "metadata": {
    "execution": {
     "iopub.execute_input": "2020-10-27T22:37:48.833964Z",
     "iopub.status.busy": "2020-10-27T22:37:48.833368Z",
     "iopub.status.idle": "2020-10-27T22:37:48.944492Z",
     "shell.execute_reply": "2020-10-27T22:37:48.945038Z"
    },
    "papermill": {
     "duration": 0.135803,
     "end_time": "2020-10-27T22:37:48.945233",
     "exception": false,
     "start_time": "2020-10-27T22:37:48.809430",
     "status": "completed"
    },
    "tags": []
   },
   "outputs": [
    {
     "data": {
      "text/html": [
       "\n",
       "<div id=\"altair-viz-56b12b713dc942558019b016476d748b\"></div>\n",
       "<script type=\"text/javascript\">\n",
       "  (function(spec, embedOpt){\n",
       "    let outputDiv = document.currentScript.previousElementSibling;\n",
       "    if (outputDiv.id !== \"altair-viz-56b12b713dc942558019b016476d748b\") {\n",
       "      outputDiv = document.getElementById(\"altair-viz-56b12b713dc942558019b016476d748b\");\n",
       "    }\n",
       "    const paths = {\n",
       "      \"vega\": \"https://cdn.jsdelivr.net/npm//vega@5?noext\",\n",
       "      \"vega-lib\": \"https://cdn.jsdelivr.net/npm//vega-lib?noext\",\n",
       "      \"vega-lite\": \"https://cdn.jsdelivr.net/npm//vega-lite@4.8.1?noext\",\n",
       "      \"vega-embed\": \"https://cdn.jsdelivr.net/npm//vega-embed@6?noext\",\n",
       "    };\n",
       "\n",
       "    function loadScript(lib) {\n",
       "      return new Promise(function(resolve, reject) {\n",
       "        var s = document.createElement('script');\n",
       "        s.src = paths[lib];\n",
       "        s.async = true;\n",
       "        s.onload = () => resolve(paths[lib]);\n",
       "        s.onerror = () => reject(`Error loading script: ${paths[lib]}`);\n",
       "        document.getElementsByTagName(\"head\")[0].appendChild(s);\n",
       "      });\n",
       "    }\n",
       "\n",
       "    function showError(err) {\n",
       "      outputDiv.innerHTML = `<div class=\"error\" style=\"color:red;\">${err}</div>`;\n",
       "      throw err;\n",
       "    }\n",
       "\n",
       "    function displayChart(vegaEmbed) {\n",
       "      vegaEmbed(outputDiv, spec, embedOpt)\n",
       "        .catch(err => showError(`Javascript Error: ${err.message}<br>This usually means there's a typo in your chart specification. See the javascript console for the full traceback.`));\n",
       "    }\n",
       "\n",
       "    if(typeof define === \"function\" && define.amd) {\n",
       "      requirejs.config({paths});\n",
       "      require([\"vega-embed\"], displayChart, err => showError(`Error loading script: ${err.message}`));\n",
       "    } else if (typeof vegaEmbed === \"function\") {\n",
       "      displayChart(vegaEmbed);\n",
       "    } else {\n",
       "      loadScript(\"vega\")\n",
       "        .then(() => loadScript(\"vega-lite\"))\n",
       "        .then(() => loadScript(\"vega-embed\"))\n",
       "        .catch(showError)\n",
       "        .then(() => displayChart(vegaEmbed));\n",
       "    }\n",
       "  })({\"config\": {\"view\": {\"continuousWidth\": 400, \"continuousHeight\": 300}}, \"layer\": [{\"layer\": [{\"mark\": {\"type\": \"point\", \"size\": 75}, \"encoding\": {\"tooltip\": [{\"type\": \"temporal\", \"field\": \"date\"}, {\"type\": \"quantitative\", \"field\": \"deathIncrease\"}, {\"type\": \"quantitative\", \"field\": \"sma7d\"}], \"x\": {\"type\": \"temporal\", \"field\": \"date\"}, \"y\": {\"type\": \"quantitative\", \"field\": \"deathIncrease\"}}, \"selection\": {\"selector018\": {\"type\": \"interval\", \"bind\": \"scales\", \"encodings\": [\"x\", \"y\"]}}}, {\"mark\": {\"type\": \"line\", \"color\": \"purple\"}, \"encoding\": {\"x\": {\"type\": \"temporal\", \"field\": \"date\"}, \"y\": {\"type\": \"quantitative\", \"field\": \"sma7d\"}}}]}, {\"mark\": {\"type\": \"rule\", \"color\": \"#aaa\"}, \"encoding\": {\"x\": {\"type\": \"temporal\", \"field\": \"date\"}}, \"transform\": [{\"filter\": {\"selection\": \"selector017\"}}]}, {\"mark\": \"circle\", \"encoding\": {\"opacity\": {\"condition\": {\"value\": 1, \"selection\": \"selector017\"}, \"value\": 0}, \"tooltip\": [{\"type\": \"temporal\", \"field\": \"date\"}, {\"type\": \"quantitative\", \"field\": \"deathIncrease\"}, {\"type\": \"quantitative\", \"field\": \"sma7d\"}], \"x\": {\"type\": \"temporal\", \"field\": \"date\"}, \"y\": {\"type\": \"quantitative\", \"field\": \"deathIncrease\"}}, \"selection\": {\"selector017\": {\"type\": \"single\", \"encodings\": [\"x\"], \"on\": \"mouseover\", \"nearest\": true, \"empty\": \"none\"}}}, {\"mark\": {\"type\": \"text\", \"align\": \"left\", \"dx\": 5, \"dy\": -5, \"stroke\": \"white\", \"strokeWidth\": 2}, \"encoding\": {\"text\": {\"type\": \"quantitative\", \"field\": \"deathIncrease\"}, \"tooltip\": [{\"type\": \"temporal\", \"field\": \"date\"}, {\"type\": \"quantitative\", \"field\": \"deathIncrease\"}, {\"type\": \"quantitative\", \"field\": \"sma7d\"}], \"x\": {\"type\": \"temporal\", \"field\": \"date\"}, \"y\": {\"type\": \"quantitative\", \"field\": \"deathIncrease\"}}, \"transform\": [{\"filter\": {\"selection\": \"selector017\"}}]}, {\"mark\": {\"type\": \"text\", \"align\": \"left\", \"dx\": 5, \"dy\": -5}, \"encoding\": {\"text\": {\"type\": \"quantitative\", \"field\": \"deathIncrease\"}, \"tooltip\": [{\"type\": \"temporal\", \"field\": \"date\"}, {\"type\": \"quantitative\", \"field\": \"deathIncrease\"}, {\"type\": \"quantitative\", \"field\": \"sma7d\"}], \"x\": {\"type\": \"temporal\", \"field\": \"date\"}, \"y\": {\"type\": \"quantitative\", \"field\": \"deathIncrease\"}}, \"transform\": [{\"filter\": {\"selection\": \"selector017\"}}]}], \"data\": {\"name\": \"data-dc71c3865cbba915237b82a9665962b7\"}, \"height\": 400, \"title\": \"Non Tri-State: deathIncrease\", \"width\": 500, \"$schema\": \"https://vega.github.io/schema/vega-lite/v4.8.1.json\", \"datasets\": {\"data-dc71c3865cbba915237b82a9665962b7\": [{\"date\": \"2020-09-02T00:00:00\", \"totalTestResultsIncrease\": 560611.0, \"positiveIncrease\": 29396.0, \"death\": 131905.0, \"deathIncrease\": 1015.0, \"positiveRate\": 0.052, \"state\": \"Non Tri-State\", \"sma7d\": 855.0}, {\"date\": \"2020-09-03T00:00:00\", \"totalTestResultsIncrease\": 697976.0, \"positiveIncrease\": 43262.0, \"death\": 132960.0, \"deathIncrease\": 1055.0, \"positiveRate\": 0.062, \"state\": \"Non Tri-State\", \"sma7d\": 846.286}, {\"date\": \"2020-09-04T00:00:00\", \"totalTestResultsIncrease\": 831681.0, \"positiveIncrease\": 50071.0, \"death\": 133946.0, \"deathIncrease\": 986.0, \"positiveRate\": 0.06, \"state\": \"Non Tri-State\", \"sma7d\": 842.714}, {\"date\": \"2020-09-05T00:00:00\", \"totalTestResultsIncrease\": 808021.0, \"positiveIncrease\": 43716.0, \"death\": 134855.0, \"deathIncrease\": 909.0, \"positiveRate\": 0.054, \"state\": \"Non Tri-State\", \"sma7d\": 829.0}, {\"date\": \"2020-09-06T00:00:00\", \"totalTestResultsIncrease\": 666869.0, \"positiveIncrease\": 32026.0, \"death\": 135291.0, \"deathIncrease\": 436.0, \"positiveRate\": 0.048, \"state\": \"Non Tri-State\", \"sma7d\": 825.143}, {\"date\": \"2020-09-07T00:00:00\", \"totalTestResultsIncrease\": 514944.0, \"positiveIncrease\": 27804.0, \"death\": 135512.0, \"deathIncrease\": 221.0, \"positiveRate\": 0.054, \"state\": \"Non Tri-State\", \"sma7d\": 805.714}, {\"date\": \"2020-09-08T00:00:00\", \"totalTestResultsIncrease\": 428820.0, \"positiveIncrease\": 20946.0, \"death\": 135853.0, \"deathIncrease\": 341.0, \"positiveRate\": 0.049, \"state\": \"Non Tri-State\", \"sma7d\": 709.0}, {\"date\": \"2020-09-09T00:00:00\", \"totalTestResultsIncrease\": 569438.0, \"positiveIncrease\": 30076.0, \"death\": 136926.0, \"deathIncrease\": 1073.0, \"positiveRate\": 0.053, \"state\": \"Non Tri-State\", \"sma7d\": 717.286}, {\"date\": \"2020-09-10T00:00:00\", \"totalTestResultsIncrease\": 614459.0, \"positiveIncrease\": 36132.0, \"death\": 138080.0, \"deathIncrease\": 1154.0, \"positiveRate\": 0.059, \"state\": \"Non Tri-State\", \"sma7d\": 731.429}, {\"date\": \"2020-09-11T00:00:00\", \"totalTestResultsIncrease\": 718584.0, \"positiveIncrease\": 43294.0, \"death\": 139082.0, \"deathIncrease\": 1002.0, \"positiveRate\": 0.06, \"state\": \"Non Tri-State\", \"sma7d\": 733.714}, {\"date\": \"2020-09-12T00:00:00\", \"totalTestResultsIncrease\": 826900.0, \"positiveIncrease\": 40770.0, \"death\": 139886.0, \"deathIncrease\": 804.0, \"positiveRate\": 0.049, \"state\": \"Non Tri-State\", \"sma7d\": 718.714}, {\"date\": \"2020-09-13T00:00:00\", \"totalTestResultsIncrease\": 620634.0, \"positiveIncrease\": 33403.0, \"death\": 140265.0, \"deathIncrease\": 379.0, \"positiveRate\": 0.054, \"state\": \"Non Tri-State\", \"sma7d\": 710.571}, {\"date\": \"2020-09-14T00:00:00\", \"totalTestResultsIncrease\": 323763.0, \"positiveIncrease\": 32360.0, \"death\": 140656.0, \"deathIncrease\": 391.0, \"positiveRate\": 0.1, \"state\": \"Non Tri-State\", \"sma7d\": 734.857}, {\"date\": \"2020-09-15T00:00:00\", \"totalTestResultsIncrease\": 653266.0, \"positiveIncrease\": 33734.0, \"death\": 141667.0, \"deathIncrease\": 1011.0, \"positiveRate\": 0.052, \"state\": \"Non Tri-State\", \"sma7d\": 830.571}, {\"date\": \"2020-09-16T00:00:00\", \"totalTestResultsIncrease\": 669070.0, \"positiveIncrease\": 38779.0, \"death\": 142851.0, \"deathIncrease\": 1184.0, \"positiveRate\": 0.058, \"state\": \"Non Tri-State\", \"sma7d\": 846.429}, {\"date\": \"2020-09-17T00:00:00\", \"totalTestResultsIncrease\": 749601.0, \"positiveIncrease\": 41891.0, \"death\": 143707.0, \"deathIncrease\": 856.0, \"positiveRate\": 0.056, \"state\": \"Non Tri-State\", \"sma7d\": 803.857}, {\"date\": \"2020-09-18T00:00:00\", \"totalTestResultsIncrease\": 889319.0, \"positiveIncrease\": 46041.0, \"death\": 144590.0, \"deathIncrease\": 883.0, \"positiveRate\": 0.052, \"state\": \"Non Tri-State\", \"sma7d\": 786.857}, {\"date\": \"2020-09-19T00:00:00\", \"totalTestResultsIncrease\": 989866.0, \"positiveIncrease\": 44054.0, \"death\": 145325.0, \"deathIncrease\": 735.0, \"positiveRate\": 0.045, \"state\": \"Non Tri-State\", \"sma7d\": 777.0}, {\"date\": \"2020-09-20T00:00:00\", \"totalTestResultsIncrease\": 772098.0, \"positiveIncrease\": 34956.0, \"death\": 145647.0, \"deathIncrease\": 322.0, \"positiveRate\": 0.045, \"state\": \"Non Tri-State\", \"sma7d\": 768.857}, {\"date\": \"2020-09-21T00:00:00\", \"totalTestResultsIncrease\": 631756.0, \"positiveIncrease\": 37996.0, \"death\": 145928.0, \"deathIncrease\": 281.0, \"positiveRate\": 0.06, \"state\": \"Non Tri-State\", \"sma7d\": 753.143}, {\"date\": \"2020-09-22T00:00:00\", \"totalTestResultsIncrease\": 671945.0, \"positiveIncrease\": 48067.0, \"death\": 146770.0, \"deathIncrease\": 842.0, \"positiveRate\": 0.072, \"state\": \"Non Tri-State\", \"sma7d\": 729.0}, {\"date\": \"2020-09-23T00:00:00\", \"totalTestResultsIncrease\": 856638.0, \"positiveIncrease\": 37343.0, \"death\": 147915.0, \"deathIncrease\": 1145.0, \"positiveRate\": 0.044, \"state\": \"Non Tri-State\", \"sma7d\": 723.429}, {\"date\": \"2020-09-24T00:00:00\", \"totalTestResultsIncrease\": 837131.0, \"positiveIncrease\": 42032.0, \"death\": 148823.0, \"deathIncrease\": 908.0, \"positiveRate\": 0.05, \"state\": \"Non Tri-State\", \"sma7d\": 730.857}, {\"date\": \"2020-09-25T00:00:00\", \"totalTestResultsIncrease\": 918816.0, \"positiveIncrease\": 53917.0, \"death\": 149652.0, \"deathIncrease\": 829.0, \"positiveRate\": 0.059, \"state\": \"Non Tri-State\", \"sma7d\": 723.143}, {\"date\": \"2020-09-26T00:00:00\", \"totalTestResultsIncrease\": 922764.0, \"positiveIncrease\": 46037.0, \"death\": 150511.0, \"deathIncrease\": 859.0, \"positiveRate\": 0.05, \"state\": \"Non Tri-State\", \"sma7d\": 740.857}, {\"date\": \"2020-09-27T00:00:00\", \"totalTestResultsIncrease\": 764213.0, \"positiveIncrease\": 33855.0, \"death\": 150806.0, \"deathIncrease\": 295.0, \"positiveRate\": 0.044, \"state\": \"Non Tri-State\", \"sma7d\": 737.0}, {\"date\": \"2020-09-28T00:00:00\", \"totalTestResultsIncrease\": 970274.0, \"positiveIncrease\": 34561.0, \"death\": 151051.0, \"deathIncrease\": 245.0, \"positiveRate\": 0.036, \"state\": \"Non Tri-State\", \"sma7d\": 731.857}, {\"date\": \"2020-09-29T00:00:00\", \"totalTestResultsIncrease\": 759069.0, \"positiveIncrease\": 35063.0, \"death\": 151776.0, \"deathIncrease\": 725.0, \"positiveRate\": 0.046, \"state\": \"Non Tri-State\", \"sma7d\": 715.143}, {\"date\": \"2020-09-30T00:00:00\", \"totalTestResultsIncrease\": 690094.0, \"positiveIncrease\": 42423.0, \"death\": 152816.0, \"deathIncrease\": 1040.0, \"positiveRate\": 0.061, \"state\": \"Non Tri-State\", \"sma7d\": 700.143}, {\"date\": \"2020-10-01T00:00:00\", \"totalTestResultsIncrease\": 811896.0, \"positiveIncrease\": 43429.0, \"death\": 153648.0, \"deathIncrease\": 832.0, \"positiveRate\": 0.053, \"state\": \"Non Tri-State\", \"sma7d\": 689.286}, {\"date\": \"2020-10-02T00:00:00\", \"totalTestResultsIncrease\": 913792.0, \"positiveIncrease\": 46591.0, \"death\": 154470.0, \"deathIncrease\": 822.0, \"positiveRate\": 0.051, \"state\": \"Non Tri-State\", \"sma7d\": 688.286}, {\"date\": \"2020-10-03T00:00:00\", \"totalTestResultsIncrease\": 898549.0, \"positiveIncrease\": 48660.0, \"death\": 155199.0, \"deathIncrease\": 729.0, \"positiveRate\": 0.054, \"state\": \"Non Tri-State\", \"sma7d\": 669.714}, {\"date\": \"2020-10-04T00:00:00\", \"totalTestResultsIncrease\": 802388.0, \"positiveIncrease\": 36509.0, \"death\": 155547.0, \"deathIncrease\": 348.0, \"positiveRate\": 0.046, \"state\": \"Non Tri-State\", \"sma7d\": 677.286}, {\"date\": \"2020-10-05T00:00:00\", \"totalTestResultsIncrease\": 796621.0, \"positiveIncrease\": 35857.0, \"death\": 155859.0, \"deathIncrease\": 312.0, \"positiveRate\": 0.045, \"state\": \"Non Tri-State\", \"sma7d\": 686.857}, {\"date\": \"2020-10-06T00:00:00\", \"totalTestResultsIncrease\": 745070.0, \"positiveIncrease\": 36468.0, \"death\": 156471.0, \"deathIncrease\": 612.0, \"positiveRate\": 0.049, \"state\": \"Non Tri-State\", \"sma7d\": 670.714}, {\"date\": \"2020-10-07T00:00:00\", \"totalTestResultsIncrease\": 761872.0, \"positiveIncrease\": 48573.0, \"death\": 157372.0, \"deathIncrease\": 901.0, \"positiveRate\": 0.064, \"state\": \"Non Tri-State\", \"sma7d\": 650.857}, {\"date\": \"2020-10-08T00:00:00\", \"totalTestResultsIncrease\": 842150.0, \"positiveIncrease\": 51774.0, \"death\": 158335.0, \"deathIncrease\": 963.0, \"positiveRate\": 0.061, \"state\": \"Non Tri-State\", \"sma7d\": 669.571}, {\"date\": \"2020-10-09T00:00:00\", \"totalTestResultsIncrease\": 933930.0, \"positiveIncrease\": 54258.0, \"death\": 159215.0, \"deathIncrease\": 880.0, \"positiveRate\": 0.058, \"state\": \"Non Tri-State\", \"sma7d\": 677.857}, {\"date\": \"2020-10-10T00:00:00\", \"totalTestResultsIncrease\": 1016290.0, \"positiveIncrease\": 55181.0, \"death\": 159865.0, \"deathIncrease\": 650.0, \"positiveRate\": 0.054, \"state\": \"Non Tri-State\", \"sma7d\": 666.571}, {\"date\": \"2020-10-11T00:00:00\", \"totalTestResultsIncrease\": 852847.0, \"positiveIncrease\": 44896.0, \"death\": 160323.0, \"deathIncrease\": 458.0, \"positiveRate\": 0.053, \"state\": \"Non Tri-State\", \"sma7d\": 682.286}, {\"date\": \"2020-10-12T00:00:00\", \"totalTestResultsIncrease\": 767926.0, \"positiveIncrease\": 40273.0, \"death\": 160594.0, \"deathIncrease\": 271.0, \"positiveRate\": 0.052, \"state\": \"Non Tri-State\", \"sma7d\": 676.429}, {\"date\": \"2020-10-13T00:00:00\", \"totalTestResultsIncrease\": 872514.0, \"positiveIncrease\": 45618.0, \"death\": 161265.0, \"deathIncrease\": 671.0, \"positiveRate\": 0.052, \"state\": \"Non Tri-State\", \"sma7d\": 684.857}, {\"date\": \"2020-10-14T00:00:00\", \"totalTestResultsIncrease\": 796584.0, \"positiveIncrease\": 54388.0, \"death\": 162056.0, \"deathIncrease\": 791.0, \"positiveRate\": 0.068, \"state\": \"Non Tri-State\", \"sma7d\": 669.143}, {\"date\": \"2020-10-15T00:00:00\", \"totalTestResultsIncrease\": 836517.0, \"positiveIncrease\": 60504.0, \"death\": 162985.0, \"deathIncrease\": 929.0, \"positiveRate\": 0.072, \"state\": \"Non Tri-State\", \"sma7d\": 664.286}, {\"date\": \"2020-10-16T00:00:00\", \"totalTestResultsIncrease\": 942932.0, \"positiveIncrease\": 64721.0, \"death\": 163845.0, \"deathIncrease\": 860.0, \"positiveRate\": 0.069, \"state\": \"Non Tri-State\", \"sma7d\": 661.429}, {\"date\": \"2020-10-17T00:00:00\", \"totalTestResultsIncrease\": 1001101.0, \"positiveIncrease\": 55149.0, \"death\": 164614.0, \"deathIncrease\": 769.0, \"positiveRate\": 0.055, \"state\": \"Non Tri-State\", \"sma7d\": 678.429}, {\"date\": \"2020-10-18T00:00:00\", \"totalTestResultsIncrease\": 850531.0, \"positiveIncrease\": 46192.0, \"death\": 164993.0, \"deathIncrease\": 379.0, \"positiveRate\": 0.054, \"state\": \"Non Tri-State\", \"sma7d\": 667.143}, {\"date\": \"2020-10-19T00:00:00\", \"totalTestResultsIncrease\": 970345.0, \"positiveIncrease\": 53751.0, \"death\": 165419.0, \"deathIncrease\": 426.0, \"positiveRate\": 0.055, \"state\": \"Non Tri-State\", \"sma7d\": 689.286}, {\"date\": \"2020-10-20T00:00:00\", \"totalTestResultsIncrease\": 786480.0, \"positiveIncrease\": 57935.0, \"death\": 166220.0, \"deathIncrease\": 801.0, \"positiveRate\": 0.074, \"state\": \"Non Tri-State\", \"sma7d\": 707.857}, {\"date\": \"2020-10-21T00:00:00\", \"totalTestResultsIncrease\": 713472.0, \"positiveIncrease\": 57240.0, \"death\": 167211.0, \"deathIncrease\": 991.0, \"positiveRate\": 0.08, \"state\": \"Non Tri-State\", \"sma7d\": 736.429}, {\"date\": \"2020-10-22T00:00:00\", \"totalTestResultsIncrease\": 935732.0, \"positiveIncrease\": 69715.0, \"death\": 168319.0, \"deathIncrease\": 1108.0, \"positiveRate\": 0.075, \"state\": \"Non Tri-State\", \"sma7d\": 762.0}, {\"date\": \"2020-10-23T00:00:00\", \"totalTestResultsIncrease\": 1081263.0, \"positiveIncrease\": 79696.0, \"death\": 169207.0, \"deathIncrease\": 888.0, \"positiveRate\": 0.074, \"state\": \"Non Tri-State\", \"sma7d\": 766.0}, {\"date\": \"2020-10-24T00:00:00\", \"totalTestResultsIncrease\": 1063677.0, \"positiveIncrease\": 78955.0, \"death\": 170076.0, \"deathIncrease\": 869.0, \"positiveRate\": 0.074, \"state\": \"Non Tri-State\", \"sma7d\": 780.286}, {\"date\": \"2020-10-25T00:00:00\", \"totalTestResultsIncrease\": 956257.0, \"positiveIncrease\": 62889.0, \"death\": 170437.0, \"deathIncrease\": 361.0, \"positiveRate\": 0.066, \"state\": \"Non Tri-State\", \"sma7d\": 777.714}, {\"date\": \"2020-10-26T00:00:00\", \"totalTestResultsIncrease\": 909337.0, \"positiveIncrease\": 57820.0, \"death\": 170795.0, \"deathIncrease\": 358.0, \"positiveRate\": 0.064, \"state\": \"Non Tri-State\", \"sma7d\": 768.0}]}}, {\"mode\": \"vega-lite\"});\n",
       "</script>"
      ],
      "text/plain": [
       "alt.LayerChart(...)"
      ]
     },
     "execution_count": 17,
     "metadata": {},
     "output_type": "execute_result"
    }
   ],
   "source": [
    "create_plot(non_tristate, 'deathIncrease')"
   ]
  }
 ],
 "metadata": {
  "kernelspec": {
   "display_name": "Python 3",
   "language": "python",
   "name": "python3"
  },
  "language_info": {
   "codemirror_mode": {
    "name": "ipython",
    "version": 3
   },
   "file_extension": ".py",
   "mimetype": "text/x-python",
   "name": "python",
   "nbconvert_exporter": "python",
   "pygments_lexer": "ipython3",
   "version": "3.8.6"
  },
  "papermill": {
   "duration": 6.61651,
   "end_time": "2020-10-27T22:37:49.275210",
   "environment_variables": {},
   "exception": null,
   "input_path": "2020-07-19-covid-plots.ipynb",
   "output_path": "2020-07-19-covid-plots.ipynb",
   "parameters": {},
   "start_time": "2020-10-27T22:37:42.658700",
   "version": "2.1.2"
  }
 },
 "nbformat": 4,
 "nbformat_minor": 4
}