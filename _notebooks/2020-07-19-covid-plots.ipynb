{
 "cells": [
  {
   "cell_type": "markdown",
   "metadata": {
    "papermill": {
     "duration": 0.018624,
     "end_time": "2020-09-16T22:33:36.670915",
     "exception": false,
     "start_time": "2020-09-16T22:33:36.652291",
     "status": "completed"
    },
    "tags": []
   },
   "source": [
    "# \"COVID-19 plots\"\n",
    "> \"Interactive plots with daily updates\"\n",
    "\n",
    "- author: bbernst\n",
    "- toc: true\n",
    "- branch: master\n",
    "- badges: true\n",
    "- comments: true\n",
    "- categories: [healthcare, covid]\n",
    "- image: images/covid_plots/covid_mask.png\n",
    "- hide: false\n",
    "- search_exclude: true"
   ]
  },
  {
   "cell_type": "markdown",
   "metadata": {
    "papermill": {
     "duration": 0.016366,
     "end_time": "2020-09-16T22:33:36.703685",
     "exception": false,
     "start_time": "2020-09-16T22:33:36.687319",
     "status": "completed"
    },
    "tags": []
   },
   "source": [
    "I wanted to make a simple COVID-19 post to accomplish two main goals:\n",
    "1. Easily see the specific plots I'm interested in\n",
    "1. Update these plots every day, automatically\n",
    "\n",
    "Enter [fastpages](https://github.com/fastai/fastpages) and [github actions](https://github.com/features/actions). I'd been meaning to set up a blog with fastpages for a while and thought this would be a good reason to try it out. The documentation was great and I was able to set up automatic updates by using https://covid19dashboards.com/ as a guide.\n",
    "\n",
    "The data for this post comes from https://covidtracking.com/, which updates by 5pm each day, and I have my dashboard update at 6:30pm. For each geography -- so far that's the US, New York, and Non Tri-State -- I look at daily positive cases, positive rate, and deaths. Be sure to hover around on each of the plots, they have helpful interactive tooltips to make reading the data more intuitive."
   ]
  },
  {
   "cell_type": "code",
   "execution_count": 1,
   "metadata": {
    "execution": {
     "iopub.execute_input": "2020-09-16T22:33:36.742428Z",
     "iopub.status.busy": "2020-09-16T22:33:36.741682Z",
     "iopub.status.idle": "2020-09-16T22:33:37.290160Z",
     "shell.execute_reply": "2020-09-16T22:33:37.290769Z"
    },
    "papermill": {
     "duration": 0.571462,
     "end_time": "2020-09-16T22:33:37.291125",
     "exception": false,
     "start_time": "2020-09-16T22:33:36.719663",
     "status": "completed"
    },
    "tags": []
   },
   "outputs": [],
   "source": [
    "#collapse\n",
    "from typing import Callable, Literal\n",
    "import pandas as pd\n",
    "import altair as alt"
   ]
  },
  {
   "cell_type": "code",
   "execution_count": 2,
   "metadata": {
    "execution": {
     "iopub.execute_input": "2020-09-16T22:33:37.328014Z",
     "iopub.status.busy": "2020-09-16T22:33:37.327300Z",
     "iopub.status.idle": "2020-09-16T22:33:37.350696Z",
     "shell.execute_reply": "2020-09-16T22:33:37.350084Z"
    },
    "papermill": {
     "duration": 0.043083,
     "end_time": "2020-09-16T22:33:37.350847",
     "exception": false,
     "start_time": "2020-09-16T22:33:37.307764",
     "status": "completed"
    },
    "tags": []
   },
   "outputs": [
    {
     "name": "stdout",
     "output_type": "stream",
     "text": [
      "Last updated at (ET): 2020-09-16 06:33:37 PM\n"
     ]
    }
   ],
   "source": [
    "#hide_input\n",
    "current_utc = pd.Timestamp.now(tz='America/New_York').strftime('%Y-%m-%d %I:%M:%S %p')\n",
    "print(f\"Last updated at (ET): {current_utc}\")"
   ]
  },
  {
   "cell_type": "markdown",
   "metadata": {
    "papermill": {
     "duration": 0.015852,
     "end_time": "2020-09-16T22:33:37.382071",
     "exception": false,
     "start_time": "2020-09-16T22:33:37.366219",
     "status": "completed"
    },
    "tags": []
   },
   "source": [
    "# Data"
   ]
  },
  {
   "cell_type": "code",
   "execution_count": 3,
   "metadata": {
    "execution": {
     "iopub.execute_input": "2020-09-16T22:33:37.418832Z",
     "iopub.status.busy": "2020-09-16T22:33:37.418131Z",
     "iopub.status.idle": "2020-09-16T22:33:39.590643Z",
     "shell.execute_reply": "2020-09-16T22:33:39.591135Z"
    },
    "papermill": {
     "duration": 2.19313,
     "end_time": "2020-09-16T22:33:39.591317",
     "exception": false,
     "start_time": "2020-09-16T22:33:37.398187",
     "status": "completed"
    },
    "tags": []
   },
   "outputs": [],
   "source": [
    "df = pd.read_csv('https://covidtracking.com/api/states/daily.csv')"
   ]
  },
  {
   "cell_type": "markdown",
   "metadata": {
    "papermill": {
     "duration": 0.012567,
     "end_time": "2020-09-16T22:33:39.617370",
     "exception": false,
     "start_time": "2020-09-16T22:33:39.604803",
     "status": "completed"
    },
    "tags": []
   },
   "source": [
    "# Helpers"
   ]
  },
  {
   "cell_type": "code",
   "execution_count": 4,
   "metadata": {
    "execution": {
     "iopub.execute_input": "2020-09-16T22:33:39.649925Z",
     "iopub.status.busy": "2020-09-16T22:33:39.649356Z",
     "iopub.status.idle": "2020-09-16T22:33:39.652044Z",
     "shell.execute_reply": "2020-09-16T22:33:39.651577Z"
    },
    "papermill": {
     "duration": 0.022132,
     "end_time": "2020-09-16T22:33:39.652159",
     "exception": false,
     "start_time": "2020-09-16T22:33:39.630027",
     "status": "completed"
    },
    "tags": []
   },
   "outputs": [],
   "source": [
    "#collapse\n",
    "def create_df(df: pd.DataFrame, \n",
    "              filter_f: Callable, \n",
    "              state_name: str):\n",
    "    out_df = (\n",
    "     df\n",
    "     .assign(date = lambda d: pd.to_datetime(d['date'], format='%Y%m%d'))\n",
    "     .loc[filter_f, :]\n",
    "     .groupby('date')\n",
    "     .apply(lambda d: pd.Series(dict(\n",
    "         totalTestResultsIncrease = d['totalTestResultsIncrease'].sum(),\n",
    "         positiveIncrease = d['positiveIncrease'].sum(),\n",
    "         death = d['death'].sum(),\n",
    "         deathIncrease = d['deathIncrease'].sum()\n",
    "     )))\n",
    "     .reset_index()\n",
    "     .assign(positiveRate = lambda d: round(d['positiveIncrease'] / d['totalTestResultsIncrease'], 3))\n",
    "     .sort_values('date', ascending=True)\n",
    "     .assign(state = state_name)\n",
    "     .reset_index(drop=True)\n",
    "    )\n",
    "    \n",
    "    return out_df"
   ]
  },
  {
   "cell_type": "code",
   "execution_count": 5,
   "metadata": {
    "execution": {
     "iopub.execute_input": "2020-09-16T22:33:39.688244Z",
     "iopub.status.busy": "2020-09-16T22:33:39.687699Z",
     "iopub.status.idle": "2020-09-16T22:33:39.691052Z",
     "shell.execute_reply": "2020-09-16T22:33:39.691655Z"
    },
    "papermill": {
     "duration": 0.027601,
     "end_time": "2020-09-16T22:33:39.691786",
     "exception": false,
     "start_time": "2020-09-16T22:33:39.664185",
     "status": "completed"
    },
    "tags": []
   },
   "outputs": [],
   "source": [
    "#collapse\n",
    "def create_plot(df: pd.DataFrame, \n",
    "                column: Literal['totalTestResultsIncrease', \n",
    "                                'positiveIncrease', \n",
    "                                'death',\n",
    "                                'deathIncrease', \n",
    "                                'positiveRate'],\n",
    "                period: int = 7*8):\n",
    "    df = (\n",
    "     df\n",
    "     .assign(sma7d = lambda d: d[column].rolling(window=7).mean().round(3))\n",
    "     .loc[lambda d: d['date'] >= pd.to_datetime('today') - period * pd.Timedelta('1 days'), :]\n",
    "     .reset_index(drop=True)\n",
    "    )\n",
    "    the_state = df['state'][0]\n",
    "    label = alt.selection_single(\n",
    "        encodings=['x'], on='mouseover', nearest=True, empty='none')\n",
    "    \n",
    "    base = alt.Chart().mark_point(size=75).encode(\n",
    "        x='date:T',\n",
    "        y=f'{column}:Q',\n",
    "        tooltip=['date', f'{column}:Q', 'sma7d:Q']\n",
    "    )\n",
    "\n",
    "    sma = alt.Chart().mark_line(color='purple').encode(\n",
    "        x='date:T',\n",
    "        y='sma7d:Q'\n",
    "    )\n",
    "\n",
    "    layers = alt.layer(\n",
    "        base + sma,\n",
    "\n",
    "        # add a rule mark to serve as a guide line\n",
    "        alt.Chart().mark_rule(color='#aaa').encode(\n",
    "            x='date:T'\n",
    "        ).transform_filter(label),\n",
    "\n",
    "        # add circle marks for selected time points, hide unselected points\n",
    "        base.mark_circle().encode(\n",
    "            opacity=alt.condition(label, alt.value(1), alt.value(0))\n",
    "        ).add_selection(label),\n",
    "\n",
    "        # add white stroked text to provide a legible background for labels\n",
    "        base.mark_text(align='left', dx=5, dy=-5, stroke='white', strokeWidth=2).encode(\n",
    "            text=f'{column}:Q'\n",
    "        ).transform_filter(label),\n",
    "\n",
    "        # add text labels\n",
    "        base.mark_text(align='left', dx=5, dy=-5).encode(\n",
    "            text=f'{column}:Q'\n",
    "        ).transform_filter(label),\n",
    "        \n",
    "        data=df\n",
    "    ).properties(\n",
    "        title=f'{the_state}: {column}',\n",
    "        width=500,\n",
    "        height=400\n",
    "    )\n",
    "    \n",
    "    return layers.interactive()"
   ]
  },
  {
   "cell_type": "markdown",
   "metadata": {
    "papermill": {
     "duration": 0.012136,
     "end_time": "2020-09-16T22:33:39.715805",
     "exception": false,
     "start_time": "2020-09-16T22:33:39.703669",
     "status": "completed"
    },
    "tags": []
   },
   "source": [
    "# Plots"
   ]
  },
  {
   "cell_type": "markdown",
   "metadata": {
    "papermill": {
     "duration": 0.012515,
     "end_time": "2020-09-16T22:33:39.740284",
     "exception": false,
     "start_time": "2020-09-16T22:33:39.727769",
     "status": "completed"
    },
    "tags": []
   },
   "source": [
    "## US"
   ]
  },
  {
   "cell_type": "code",
   "execution_count": 6,
   "metadata": {
    "execution": {
     "iopub.execute_input": "2020-09-16T22:33:39.767830Z",
     "iopub.status.busy": "2020-09-16T22:33:39.767309Z",
     "iopub.status.idle": "2020-09-16T22:33:40.079869Z",
     "shell.execute_reply": "2020-09-16T22:33:40.080392Z"
    },
    "papermill": {
     "duration": 0.328022,
     "end_time": "2020-09-16T22:33:40.080586",
     "exception": false,
     "start_time": "2020-09-16T22:33:39.752564",
     "status": "completed"
    },
    "tags": []
   },
   "outputs": [],
   "source": [
    "us = create_df(df, lambda d: d.index > 0, 'US')"
   ]
  },
  {
   "cell_type": "code",
   "execution_count": 7,
   "metadata": {
    "execution": {
     "iopub.execute_input": "2020-09-16T22:33:40.135691Z",
     "iopub.status.busy": "2020-09-16T22:33:40.114968Z",
     "iopub.status.idle": "2020-09-16T22:33:40.220665Z",
     "shell.execute_reply": "2020-09-16T22:33:40.221211Z"
    },
    "papermill": {
     "duration": 0.125083,
     "end_time": "2020-09-16T22:33:40.221377",
     "exception": false,
     "start_time": "2020-09-16T22:33:40.096294",
     "status": "completed"
    },
    "tags": []
   },
   "outputs": [
    {
     "data": {
      "text/html": [
       "\n",
       "<div id=\"altair-viz-1f604635aaef4a4db9324a864b99d1e5\"></div>\n",
       "<script type=\"text/javascript\">\n",
       "  (function(spec, embedOpt){\n",
       "    let outputDiv = document.currentScript.previousElementSibling;\n",
       "    if (outputDiv.id !== \"altair-viz-1f604635aaef4a4db9324a864b99d1e5\") {\n",
       "      outputDiv = document.getElementById(\"altair-viz-1f604635aaef4a4db9324a864b99d1e5\");\n",
       "    }\n",
       "    const paths = {\n",
       "      \"vega\": \"https://cdn.jsdelivr.net/npm//vega@5?noext\",\n",
       "      \"vega-lib\": \"https://cdn.jsdelivr.net/npm//vega-lib?noext\",\n",
       "      \"vega-lite\": \"https://cdn.jsdelivr.net/npm//vega-lite@4.8.1?noext\",\n",
       "      \"vega-embed\": \"https://cdn.jsdelivr.net/npm//vega-embed@6?noext\",\n",
       "    };\n",
       "\n",
       "    function loadScript(lib) {\n",
       "      return new Promise(function(resolve, reject) {\n",
       "        var s = document.createElement('script');\n",
       "        s.src = paths[lib];\n",
       "        s.async = true;\n",
       "        s.onload = () => resolve(paths[lib]);\n",
       "        s.onerror = () => reject(`Error loading script: ${paths[lib]}`);\n",
       "        document.getElementsByTagName(\"head\")[0].appendChild(s);\n",
       "      });\n",
       "    }\n",
       "\n",
       "    function showError(err) {\n",
       "      outputDiv.innerHTML = `<div class=\"error\" style=\"color:red;\">${err}</div>`;\n",
       "      throw err;\n",
       "    }\n",
       "\n",
       "    function displayChart(vegaEmbed) {\n",
       "      vegaEmbed(outputDiv, spec, embedOpt)\n",
       "        .catch(err => showError(`Javascript Error: ${err.message}<br>This usually means there's a typo in your chart specification. See the javascript console for the full traceback.`));\n",
       "    }\n",
       "\n",
       "    if(typeof define === \"function\" && define.amd) {\n",
       "      requirejs.config({paths});\n",
       "      require([\"vega-embed\"], displayChart, err => showError(`Error loading script: ${err.message}`));\n",
       "    } else if (typeof vegaEmbed === \"function\") {\n",
       "      displayChart(vegaEmbed);\n",
       "    } else {\n",
       "      loadScript(\"vega\")\n",
       "        .then(() => loadScript(\"vega-lite\"))\n",
       "        .then(() => loadScript(\"vega-embed\"))\n",
       "        .catch(showError)\n",
       "        .then(() => displayChart(vegaEmbed));\n",
       "    }\n",
       "  })({\"config\": {\"view\": {\"continuousWidth\": 400, \"continuousHeight\": 300}}, \"layer\": [{\"layer\": [{\"mark\": {\"type\": \"point\", \"size\": 75}, \"encoding\": {\"tooltip\": [{\"type\": \"temporal\", \"field\": \"date\"}, {\"type\": \"quantitative\", \"field\": \"positiveIncrease\"}, {\"type\": \"quantitative\", \"field\": \"sma7d\"}], \"x\": {\"type\": \"temporal\", \"field\": \"date\"}, \"y\": {\"type\": \"quantitative\", \"field\": \"positiveIncrease\"}}, \"selection\": {\"selector002\": {\"type\": \"interval\", \"bind\": \"scales\", \"encodings\": [\"x\", \"y\"]}}}, {\"mark\": {\"type\": \"line\", \"color\": \"purple\"}, \"encoding\": {\"x\": {\"type\": \"temporal\", \"field\": \"date\"}, \"y\": {\"type\": \"quantitative\", \"field\": \"sma7d\"}}}]}, {\"mark\": {\"type\": \"rule\", \"color\": \"#aaa\"}, \"encoding\": {\"x\": {\"type\": \"temporal\", \"field\": \"date\"}}, \"transform\": [{\"filter\": {\"selection\": \"selector001\"}}]}, {\"mark\": \"circle\", \"encoding\": {\"opacity\": {\"condition\": {\"value\": 1, \"selection\": \"selector001\"}, \"value\": 0}, \"tooltip\": [{\"type\": \"temporal\", \"field\": \"date\"}, {\"type\": \"quantitative\", \"field\": \"positiveIncrease\"}, {\"type\": \"quantitative\", \"field\": \"sma7d\"}], \"x\": {\"type\": \"temporal\", \"field\": \"date\"}, \"y\": {\"type\": \"quantitative\", \"field\": \"positiveIncrease\"}}, \"selection\": {\"selector001\": {\"type\": \"single\", \"encodings\": [\"x\"], \"on\": \"mouseover\", \"nearest\": true, \"empty\": \"none\"}}}, {\"mark\": {\"type\": \"text\", \"align\": \"left\", \"dx\": 5, \"dy\": -5, \"stroke\": \"white\", \"strokeWidth\": 2}, \"encoding\": {\"text\": {\"type\": \"quantitative\", \"field\": \"positiveIncrease\"}, \"tooltip\": [{\"type\": \"temporal\", \"field\": \"date\"}, {\"type\": \"quantitative\", \"field\": \"positiveIncrease\"}, {\"type\": \"quantitative\", \"field\": \"sma7d\"}], \"x\": {\"type\": \"temporal\", \"field\": \"date\"}, \"y\": {\"type\": \"quantitative\", \"field\": \"positiveIncrease\"}}, \"transform\": [{\"filter\": {\"selection\": \"selector001\"}}]}, {\"mark\": {\"type\": \"text\", \"align\": \"left\", \"dx\": 5, \"dy\": -5}, \"encoding\": {\"text\": {\"type\": \"quantitative\", \"field\": \"positiveIncrease\"}, \"tooltip\": [{\"type\": \"temporal\", \"field\": \"date\"}, {\"type\": \"quantitative\", \"field\": \"positiveIncrease\"}, {\"type\": \"quantitative\", \"field\": \"sma7d\"}], \"x\": {\"type\": \"temporal\", \"field\": \"date\"}, \"y\": {\"type\": \"quantitative\", \"field\": \"positiveIncrease\"}}, \"transform\": [{\"filter\": {\"selection\": \"selector001\"}}]}], \"data\": {\"name\": \"data-6fa55ea54a05dbb3e883d9d39a494d27\"}, \"height\": 400, \"title\": \"US: positiveIncrease\", \"width\": 500, \"$schema\": \"https://vega.github.io/schema/vega-lite/v4.8.1.json\", \"datasets\": {\"data-6fa55ea54a05dbb3e883d9d39a494d27\": [{\"date\": \"2020-07-23T00:00:00\", \"totalTestResultsIncrease\": 852549.0, \"positiveIncrease\": 71552.0, \"death\": 136350.0, \"deathIncrease\": 1056.0, \"positiveRate\": 0.084, \"state\": \"US\", \"sma7d\": 66844.143}, {\"date\": \"2020-07-24T00:00:00\", \"totalTestResultsIncrease\": 940090.0, \"positiveIncrease\": 75236.0, \"death\": 137526.0, \"deathIncrease\": 1176.0, \"positiveRate\": 0.08, \"state\": \"US\", \"sma7d\": 66614.714}, {\"date\": \"2020-07-25T00:00:00\", \"totalTestResultsIncrease\": 793441.0, \"positiveIncrease\": 64741.0, \"death\": 138549.0, \"deathIncrease\": 1023.0, \"positiveRate\": 0.082, \"state\": \"US\", \"sma7d\": 66584.714}, {\"date\": \"2020-07-26T00:00:00\", \"totalTestResultsIncrease\": 850833.0, \"positiveIncrease\": 61000.0, \"death\": 139108.0, \"deathIncrease\": 559.0, \"positiveRate\": 0.072, \"state\": \"US\", \"sma7d\": 66119.0}, {\"date\": \"2020-07-27T00:00:00\", \"totalTestResultsIncrease\": 776694.0, \"positiveIncrease\": 55332.0, \"death\": 140168.0, \"deathIncrease\": 1060.0, \"positiveRate\": 0.071, \"state\": \"US\", \"sma7d\": 65874.857}, {\"date\": \"2020-07-28T00:00:00\", \"totalTestResultsIncrease\": 756031.0, \"positiveIncrease\": 56448.0, \"death\": 141290.0, \"deathIncrease\": 1122.0, \"positiveRate\": 0.075, \"state\": \"US\", \"sma7d\": 64806.0}, {\"date\": \"2020-07-29T00:00:00\", \"totalTestResultsIncrease\": 873083.0, \"positiveIncrease\": 66963.0, \"death\": 142782.0, \"deathIncrease\": 1492.0, \"positiveRate\": 0.077, \"state\": \"US\", \"sma7d\": 64467.429}, {\"date\": \"2020-07-30T00:00:00\", \"totalTestResultsIncrease\": 828332.0, \"positiveIncrease\": 69418.0, \"death\": 144041.0, \"deathIncrease\": 1259.0, \"positiveRate\": 0.084, \"state\": \"US\", \"sma7d\": 64162.571}, {\"date\": \"2020-07-31T00:00:00\", \"totalTestResultsIncrease\": 737065.0, \"positiveIncrease\": 67623.0, \"death\": 145353.0, \"deathIncrease\": 1312.0, \"positiveRate\": 0.092, \"state\": \"US\", \"sma7d\": 63075.0}, {\"date\": \"2020-08-01T00:00:00\", \"totalTestResultsIncrease\": 747583.0, \"positiveIncrease\": 61101.0, \"death\": 146543.0, \"deathIncrease\": 1190.0, \"positiveRate\": 0.082, \"state\": \"US\", \"sma7d\": 62555.0}, {\"date\": \"2020-08-02T00:00:00\", \"totalTestResultsIncrease\": 698105.0, \"positiveIncrease\": 46812.0, \"death\": 147041.0, \"deathIncrease\": 498.0, \"positiveRate\": 0.067, \"state\": \"US\", \"sma7d\": 60528.143}, {\"date\": \"2020-08-03T00:00:00\", \"totalTestResultsIncrease\": 761761.0, \"positiveIncrease\": 49713.0, \"death\": 147560.0, \"deathIncrease\": 519.0, \"positiveRate\": 0.065, \"state\": \"US\", \"sma7d\": 59725.429}, {\"date\": \"2020-08-04T00:00:00\", \"totalTestResultsIncrease\": 728996.0, \"positiveIncrease\": 51866.0, \"death\": 148815.0, \"deathIncrease\": 1255.0, \"positiveRate\": 0.071, \"state\": \"US\", \"sma7d\": 59070.857}, {\"date\": \"2020-08-05T00:00:00\", \"totalTestResultsIncrease\": 711466.0, \"positiveIncrease\": 52324.0, \"death\": 150161.0, \"deathIncrease\": 1346.0, \"positiveRate\": 0.074, \"state\": \"US\", \"sma7d\": 56979.571}, {\"date\": \"2020-08-06T00:00:00\", \"totalTestResultsIncrease\": 781591.0, \"positiveIncrease\": 54187.0, \"death\": 151412.0, \"deathIncrease\": 1251.0, \"positiveRate\": 0.069, \"state\": \"US\", \"sma7d\": 54803.714}, {\"date\": \"2020-08-07T00:00:00\", \"totalTestResultsIncrease\": 795946.0, \"positiveIncrease\": 61345.0, \"death\": 152745.0, \"deathIncrease\": 1333.0, \"positiveRate\": 0.077, \"state\": \"US\", \"sma7d\": 53906.857}, {\"date\": \"2020-08-08T00:00:00\", \"totalTestResultsIncrease\": 682610.0, \"positiveIncrease\": 53712.0, \"death\": 153834.0, \"deathIncrease\": 1089.0, \"positiveRate\": 0.079, \"state\": \"US\", \"sma7d\": 52851.286}, {\"date\": \"2020-08-09T00:00:00\", \"totalTestResultsIncrease\": 718661.0, \"positiveIncrease\": 50627.0, \"death\": 154450.0, \"deathIncrease\": 616.0, \"positiveRate\": 0.07, \"state\": \"US\", \"sma7d\": 53396.286}, {\"date\": \"2020-08-10T00:00:00\", \"totalTestResultsIncrease\": 747848.0, \"positiveIncrease\": 42089.0, \"death\": 154876.0, \"deathIncrease\": 426.0, \"positiveRate\": 0.056, \"state\": \"US\", \"sma7d\": 52307.143}, {\"date\": \"2020-08-11T00:00:00\", \"totalTestResultsIncrease\": 751758.0, \"positiveIncrease\": 55701.0, \"death\": 156202.0, \"deathIncrease\": 1326.0, \"positiveRate\": 0.074, \"state\": \"US\", \"sma7d\": 52855.0}, {\"date\": \"2020-08-12T00:00:00\", \"totalTestResultsIncrease\": 487424.0, \"positiveIncrease\": 56134.0, \"death\": 157719.0, \"deathIncrease\": 1517.0, \"positiveRate\": 0.115, \"state\": \"US\", \"sma7d\": 53399.286}, {\"date\": \"2020-08-13T00:00:00\", \"totalTestResultsIncrease\": 916599.0, \"positiveIncrease\": 51759.0, \"death\": 158882.0, \"deathIncrease\": 1163.0, \"positiveRate\": 0.056, \"state\": \"US\", \"sma7d\": 53052.429}, {\"date\": \"2020-08-14T00:00:00\", \"totalTestResultsIncrease\": 876457.0, \"positiveIncrease\": 55636.0, \"death\": 160098.0, \"deathIncrease\": 1216.0, \"positiveRate\": 0.063, \"state\": \"US\", \"sma7d\": 52236.857}, {\"date\": \"2020-08-15T00:00:00\", \"totalTestResultsIncrease\": 771707.0, \"positiveIncrease\": 56149.0, \"death\": 161317.0, \"deathIncrease\": 1219.0, \"positiveRate\": 0.073, \"state\": \"US\", \"sma7d\": 52585.0}, {\"date\": \"2020-08-16T00:00:00\", \"totalTestResultsIncrease\": 800864.0, \"positiveIncrease\": 42487.0, \"death\": 161936.0, \"deathIncrease\": 619.0, \"positiveRate\": 0.053, \"state\": \"US\", \"sma7d\": 51422.143}, {\"date\": \"2020-08-17T00:00:00\", \"totalTestResultsIncrease\": 678514.0, \"positiveIncrease\": 37880.0, \"death\": 162343.0, \"deathIncrease\": 407.0, \"positiveRate\": 0.056, \"state\": \"US\", \"sma7d\": 50820.857}, {\"date\": \"2020-08-18T00:00:00\", \"totalTestResultsIncrease\": 669872.0, \"positiveIncrease\": 40795.0, \"death\": 163539.0, \"deathIncrease\": 1196.0, \"positiveRate\": 0.061, \"state\": \"US\", \"sma7d\": 48691.429}, {\"date\": \"2020-08-19T00:00:00\", \"totalTestResultsIncrease\": 685402.0, \"positiveIncrease\": 44955.0, \"death\": 164959.0, \"deathIncrease\": 1420.0, \"positiveRate\": 0.066, \"state\": \"US\", \"sma7d\": 47094.429}, {\"date\": \"2020-08-20T00:00:00\", \"totalTestResultsIncrease\": 720710.0, \"positiveIncrease\": 43758.0, \"death\": 166093.0, \"deathIncrease\": 1134.0, \"positiveRate\": 0.061, \"state\": \"US\", \"sma7d\": 45951.429}, {\"date\": \"2020-08-21T00:00:00\", \"totalTestResultsIncrease\": 778381.0, \"positiveIncrease\": 46561.0, \"death\": 167216.0, \"deathIncrease\": 1123.0, \"positiveRate\": 0.06, \"state\": \"US\", \"sma7d\": 44655.0}, {\"date\": \"2020-08-22T00:00:00\", \"totalTestResultsIncrease\": 783754.0, \"positiveIncrease\": 46236.0, \"death\": 168245.0, \"deathIncrease\": 1029.0, \"positiveRate\": 0.059, \"state\": \"US\", \"sma7d\": 43238.857}, {\"date\": \"2020-08-23T00:00:00\", \"totalTestResultsIncrease\": 632043.0, \"positiveIncrease\": 37566.0, \"death\": 168817.0, \"deathIncrease\": 572.0, \"positiveRate\": 0.059, \"state\": \"US\", \"sma7d\": 42535.857}, {\"date\": \"2020-08-24T00:00:00\", \"totalTestResultsIncrease\": 714059.0, \"positiveIncrease\": 34643.0, \"death\": 169160.0, \"deathIncrease\": 343.0, \"positiveRate\": 0.049, \"state\": \"US\", \"sma7d\": 42073.429}, {\"date\": \"2020-08-25T00:00:00\", \"totalTestResultsIncrease\": 659161.0, \"positiveIncrease\": 36379.0, \"death\": 170307.0, \"deathIncrease\": 1147.0, \"positiveRate\": 0.055, \"state\": \"US\", \"sma7d\": 41442.571}, {\"date\": \"2020-08-26T00:00:00\", \"totalTestResultsIncrease\": 675118.0, \"positiveIncrease\": 44053.0, \"death\": 171605.0, \"deathIncrease\": 1298.0, \"positiveRate\": 0.065, \"state\": \"US\", \"sma7d\": 41313.714}, {\"date\": \"2020-08-27T00:00:00\", \"totalTestResultsIncrease\": 784011.0, \"positiveIncrease\": 43984.0, \"death\": 172734.0, \"deathIncrease\": 1129.0, \"positiveRate\": 0.056, \"state\": \"US\", \"sma7d\": 41346.0}, {\"date\": \"2020-08-28T00:00:00\", \"totalTestResultsIncrease\": 809700.0, \"positiveIncrease\": 46548.0, \"death\": 173757.0, \"deathIncrease\": 1023.0, \"positiveRate\": 0.057, \"state\": \"US\", \"sma7d\": 41344.143}, {\"date\": \"2020-08-29T00:00:00\", \"totalTestResultsIncrease\": 806552.0, \"positiveIncrease\": 44501.0, \"death\": 174772.0, \"deathIncrease\": 1015.0, \"positiveRate\": 0.055, \"state\": \"US\", \"sma7d\": 41096.286}, {\"date\": \"2020-08-30T00:00:00\", \"totalTestResultsIncrease\": 766150.0, \"positiveIncrease\": 39501.0, \"death\": 175247.0, \"deathIncrease\": 475.0, \"positiveRate\": 0.052, \"state\": \"US\", \"sma7d\": 41372.714}, {\"date\": \"2020-08-31T00:00:00\", \"totalTestResultsIncrease\": 698728.0, \"positiveIncrease\": 31406.0, \"death\": 175613.0, \"deathIncrease\": 366.0, \"positiveRate\": 0.045, \"state\": \"US\", \"sma7d\": 40910.286}, {\"date\": \"2020-09-01T00:00:00\", \"totalTestResultsIncrease\": 728310.0, \"positiveIncrease\": 42433.0, \"death\": 176640.0, \"deathIncrease\": 1027.0, \"positiveRate\": 0.058, \"state\": \"US\", \"sma7d\": 41775.143}, {\"date\": \"2020-09-02T00:00:00\", \"totalTestResultsIncrease\": 676024.0, \"positiveIncrease\": 30603.0, \"death\": 177672.0, \"deathIncrease\": 1032.0, \"positiveRate\": 0.045, \"state\": \"US\", \"sma7d\": 39853.714}, {\"date\": \"2020-09-03T00:00:00\", \"totalTestResultsIncrease\": 789895.0, \"positiveIncrease\": 44714.0, \"death\": 178742.0, \"deathIncrease\": 1070.0, \"positiveRate\": 0.057, \"state\": \"US\", \"sma7d\": 39958.0}, {\"date\": \"2020-09-04T00:00:00\", \"totalTestResultsIncrease\": 938502.0, \"positiveIncrease\": 51591.0, \"death\": 179740.0, \"deathIncrease\": 998.0, \"positiveRate\": 0.055, \"state\": \"US\", \"sma7d\": 40678.429}, {\"date\": \"2020-09-05T00:00:00\", \"totalTestResultsIncrease\": 864327.0, \"positiveIncrease\": 44905.0, \"death\": 180658.0, \"deathIncrease\": 918.0, \"positiveRate\": 0.052, \"state\": \"US\", \"sma7d\": 40736.143}, {\"date\": \"2020-09-06T00:00:00\", \"totalTestResultsIncrease\": 773550.0, \"positiveIncrease\": 33117.0, \"death\": 181107.0, \"deathIncrease\": 449.0, \"positiveRate\": 0.043, \"state\": \"US\", \"sma7d\": 39824.143}, {\"date\": \"2020-09-07T00:00:00\", \"totalTestResultsIncrease\": 608018.0, \"positiveIncrease\": 28682.0, \"death\": 181332.0, \"deathIncrease\": 225.0, \"positiveRate\": 0.047, \"state\": \"US\", \"sma7d\": 39435.0}, {\"date\": \"2020-09-08T00:00:00\", \"totalTestResultsIncrease\": 535857.0, \"positiveIncrease\": 22223.0, \"death\": 181690.0, \"deathIncrease\": 358.0, \"positiveRate\": 0.041, \"state\": \"US\", \"sma7d\": 36547.857}, {\"date\": \"2020-09-09T00:00:00\", \"totalTestResultsIncrease\": 625042.0, \"positiveIncrease\": 30983.0, \"death\": 182779.0, \"deathIncrease\": 1089.0, \"positiveRate\": 0.05, \"state\": \"US\", \"sma7d\": 36602.143}, {\"date\": \"2020-09-10T00:00:00\", \"totalTestResultsIncrease\": 663376.0, \"positiveIncrease\": 37581.0, \"death\": 183949.0, \"deathIncrease\": 1170.0, \"positiveRate\": 0.057, \"state\": \"US\", \"sma7d\": 35583.143}, {\"date\": \"2020-09-11T00:00:00\", \"totalTestResultsIncrease\": 814747.0, \"positiveIncrease\": 44927.0, \"death\": 184967.0, \"deathIncrease\": 1018.0, \"positiveRate\": 0.055, \"state\": \"US\", \"sma7d\": 34631.143}, {\"date\": \"2020-09-12T00:00:00\", \"totalTestResultsIncrease\": 915800.0, \"positiveIncrease\": 42087.0, \"death\": 185777.0, \"deathIncrease\": 810.0, \"positiveRate\": 0.046, \"state\": \"US\", \"sma7d\": 34228.571}, {\"date\": \"2020-09-13T00:00:00\", \"totalTestResultsIncrease\": 688727.0, \"positiveIncrease\": 34453.0, \"death\": 186166.0, \"deathIncrease\": 389.0, \"positiveRate\": 0.05, \"state\": \"US\", \"sma7d\": 34419.429}, {\"date\": \"2020-09-14T00:00:00\", \"totalTestResultsIncrease\": 435261.0, \"positiveIncrease\": 33864.0, \"death\": 186569.0, \"deathIncrease\": 403.0, \"positiveRate\": 0.078, \"state\": \"US\", \"sma7d\": 35159.714}, {\"date\": \"2020-09-15T00:00:00\", \"totalTestResultsIncrease\": 720912.0, \"positiveIncrease\": 35445.0, \"death\": 187600.0, \"deathIncrease\": 1031.0, \"positiveRate\": 0.049, \"state\": \"US\", \"sma7d\": 37048.571}, {\"date\": \"2020-09-16T00:00:00\", \"totalTestResultsIncrease\": 721582.0, \"positiveIncrease\": 39969.0, \"death\": 188758.0, \"deathIncrease\": 1202.0, \"positiveRate\": 0.055, \"state\": \"US\", \"sma7d\": 38332.286}]}}, {\"mode\": \"vega-lite\"});\n",
       "</script>"
      ],
      "text/plain": [
       "alt.LayerChart(...)"
      ]
     },
     "execution_count": 7,
     "metadata": {},
     "output_type": "execute_result"
    }
   ],
   "source": [
    "create_plot(us, 'positiveIncrease')"
   ]
  },
  {
   "cell_type": "code",
   "execution_count": 8,
   "metadata": {
    "execution": {
     "iopub.execute_input": "2020-09-16T22:33:40.258731Z",
     "iopub.status.busy": "2020-09-16T22:33:40.258067Z",
     "iopub.status.idle": "2020-09-16T22:33:40.370179Z",
     "shell.execute_reply": "2020-09-16T22:33:40.370748Z"
    },
    "papermill": {
     "duration": 0.133235,
     "end_time": "2020-09-16T22:33:40.370942",
     "exception": false,
     "start_time": "2020-09-16T22:33:40.237707",
     "status": "completed"
    },
    "tags": []
   },
   "outputs": [
    {
     "data": {
      "text/html": [
       "\n",
       "<div id=\"altair-viz-35f1eb668b9c4ae4bed61cf933fdcf43\"></div>\n",
       "<script type=\"text/javascript\">\n",
       "  (function(spec, embedOpt){\n",
       "    let outputDiv = document.currentScript.previousElementSibling;\n",
       "    if (outputDiv.id !== \"altair-viz-35f1eb668b9c4ae4bed61cf933fdcf43\") {\n",
       "      outputDiv = document.getElementById(\"altair-viz-35f1eb668b9c4ae4bed61cf933fdcf43\");\n",
       "    }\n",
       "    const paths = {\n",
       "      \"vega\": \"https://cdn.jsdelivr.net/npm//vega@5?noext\",\n",
       "      \"vega-lib\": \"https://cdn.jsdelivr.net/npm//vega-lib?noext\",\n",
       "      \"vega-lite\": \"https://cdn.jsdelivr.net/npm//vega-lite@4.8.1?noext\",\n",
       "      \"vega-embed\": \"https://cdn.jsdelivr.net/npm//vega-embed@6?noext\",\n",
       "    };\n",
       "\n",
       "    function loadScript(lib) {\n",
       "      return new Promise(function(resolve, reject) {\n",
       "        var s = document.createElement('script');\n",
       "        s.src = paths[lib];\n",
       "        s.async = true;\n",
       "        s.onload = () => resolve(paths[lib]);\n",
       "        s.onerror = () => reject(`Error loading script: ${paths[lib]}`);\n",
       "        document.getElementsByTagName(\"head\")[0].appendChild(s);\n",
       "      });\n",
       "    }\n",
       "\n",
       "    function showError(err) {\n",
       "      outputDiv.innerHTML = `<div class=\"error\" style=\"color:red;\">${err}</div>`;\n",
       "      throw err;\n",
       "    }\n",
       "\n",
       "    function displayChart(vegaEmbed) {\n",
       "      vegaEmbed(outputDiv, spec, embedOpt)\n",
       "        .catch(err => showError(`Javascript Error: ${err.message}<br>This usually means there's a typo in your chart specification. See the javascript console for the full traceback.`));\n",
       "    }\n",
       "\n",
       "    if(typeof define === \"function\" && define.amd) {\n",
       "      requirejs.config({paths});\n",
       "      require([\"vega-embed\"], displayChart, err => showError(`Error loading script: ${err.message}`));\n",
       "    } else if (typeof vegaEmbed === \"function\") {\n",
       "      displayChart(vegaEmbed);\n",
       "    } else {\n",
       "      loadScript(\"vega\")\n",
       "        .then(() => loadScript(\"vega-lite\"))\n",
       "        .then(() => loadScript(\"vega-embed\"))\n",
       "        .catch(showError)\n",
       "        .then(() => displayChart(vegaEmbed));\n",
       "    }\n",
       "  })({\"config\": {\"view\": {\"continuousWidth\": 400, \"continuousHeight\": 300}}, \"layer\": [{\"layer\": [{\"mark\": {\"type\": \"point\", \"size\": 75}, \"encoding\": {\"tooltip\": [{\"type\": \"temporal\", \"field\": \"date\"}, {\"type\": \"quantitative\", \"field\": \"positiveRate\"}, {\"type\": \"quantitative\", \"field\": \"sma7d\"}], \"x\": {\"type\": \"temporal\", \"field\": \"date\"}, \"y\": {\"type\": \"quantitative\", \"field\": \"positiveRate\"}}, \"selection\": {\"selector004\": {\"type\": \"interval\", \"bind\": \"scales\", \"encodings\": [\"x\", \"y\"]}}}, {\"mark\": {\"type\": \"line\", \"color\": \"purple\"}, \"encoding\": {\"x\": {\"type\": \"temporal\", \"field\": \"date\"}, \"y\": {\"type\": \"quantitative\", \"field\": \"sma7d\"}}}]}, {\"mark\": {\"type\": \"rule\", \"color\": \"#aaa\"}, \"encoding\": {\"x\": {\"type\": \"temporal\", \"field\": \"date\"}}, \"transform\": [{\"filter\": {\"selection\": \"selector003\"}}]}, {\"mark\": \"circle\", \"encoding\": {\"opacity\": {\"condition\": {\"value\": 1, \"selection\": \"selector003\"}, \"value\": 0}, \"tooltip\": [{\"type\": \"temporal\", \"field\": \"date\"}, {\"type\": \"quantitative\", \"field\": \"positiveRate\"}, {\"type\": \"quantitative\", \"field\": \"sma7d\"}], \"x\": {\"type\": \"temporal\", \"field\": \"date\"}, \"y\": {\"type\": \"quantitative\", \"field\": \"positiveRate\"}}, \"selection\": {\"selector003\": {\"type\": \"single\", \"encodings\": [\"x\"], \"on\": \"mouseover\", \"nearest\": true, \"empty\": \"none\"}}}, {\"mark\": {\"type\": \"text\", \"align\": \"left\", \"dx\": 5, \"dy\": -5, \"stroke\": \"white\", \"strokeWidth\": 2}, \"encoding\": {\"text\": {\"type\": \"quantitative\", \"field\": \"positiveRate\"}, \"tooltip\": [{\"type\": \"temporal\", \"field\": \"date\"}, {\"type\": \"quantitative\", \"field\": \"positiveRate\"}, {\"type\": \"quantitative\", \"field\": \"sma7d\"}], \"x\": {\"type\": \"temporal\", \"field\": \"date\"}, \"y\": {\"type\": \"quantitative\", \"field\": \"positiveRate\"}}, \"transform\": [{\"filter\": {\"selection\": \"selector003\"}}]}, {\"mark\": {\"type\": \"text\", \"align\": \"left\", \"dx\": 5, \"dy\": -5}, \"encoding\": {\"text\": {\"type\": \"quantitative\", \"field\": \"positiveRate\"}, \"tooltip\": [{\"type\": \"temporal\", \"field\": \"date\"}, {\"type\": \"quantitative\", \"field\": \"positiveRate\"}, {\"type\": \"quantitative\", \"field\": \"sma7d\"}], \"x\": {\"type\": \"temporal\", \"field\": \"date\"}, \"y\": {\"type\": \"quantitative\", \"field\": \"positiveRate\"}}, \"transform\": [{\"filter\": {\"selection\": \"selector003\"}}]}], \"data\": {\"name\": \"data-57d26fb61594bfb6f2d62086612fd7a0\"}, \"height\": 400, \"title\": \"US: positiveRate\", \"width\": 500, \"$schema\": \"https://vega.github.io/schema/vega-lite/v4.8.1.json\", \"datasets\": {\"data-57d26fb61594bfb6f2d62086612fd7a0\": [{\"date\": \"2020-07-23T00:00:00\", \"totalTestResultsIncrease\": 852549.0, \"positiveIncrease\": 71552.0, \"death\": 136350.0, \"deathIncrease\": 1056.0, \"positiveRate\": 0.084, \"state\": \"US\", \"sma7d\": 0.084}, {\"date\": \"2020-07-24T00:00:00\", \"totalTestResultsIncrease\": 940090.0, \"positiveIncrease\": 75236.0, \"death\": 137526.0, \"deathIncrease\": 1176.0, \"positiveRate\": 0.08, \"state\": \"US\", \"sma7d\": 0.083}, {\"date\": \"2020-07-25T00:00:00\", \"totalTestResultsIncrease\": 793441.0, \"positiveIncrease\": 64741.0, \"death\": 138549.0, \"deathIncrease\": 1023.0, \"positiveRate\": 0.082, \"state\": \"US\", \"sma7d\": 0.082}, {\"date\": \"2020-07-26T00:00:00\", \"totalTestResultsIncrease\": 850833.0, \"positiveIncrease\": 61000.0, \"death\": 139108.0, \"deathIncrease\": 559.0, \"positiveRate\": 0.072, \"state\": \"US\", \"sma7d\": 0.081}, {\"date\": \"2020-07-27T00:00:00\", \"totalTestResultsIncrease\": 776694.0, \"positiveIncrease\": 55332.0, \"death\": 140168.0, \"deathIncrease\": 1060.0, \"positiveRate\": 0.071, \"state\": \"US\", \"sma7d\": 0.08}, {\"date\": \"2020-07-28T00:00:00\", \"totalTestResultsIncrease\": 756031.0, \"positiveIncrease\": 56448.0, \"death\": 141290.0, \"deathIncrease\": 1122.0, \"positiveRate\": 0.075, \"state\": \"US\", \"sma7d\": 0.078}, {\"date\": \"2020-07-29T00:00:00\", \"totalTestResultsIncrease\": 873083.0, \"positiveIncrease\": 66963.0, \"death\": 142782.0, \"deathIncrease\": 1492.0, \"positiveRate\": 0.077, \"state\": \"US\", \"sma7d\": 0.077}, {\"date\": \"2020-07-30T00:00:00\", \"totalTestResultsIncrease\": 828332.0, \"positiveIncrease\": 69418.0, \"death\": 144041.0, \"deathIncrease\": 1259.0, \"positiveRate\": 0.084, \"state\": \"US\", \"sma7d\": 0.077}, {\"date\": \"2020-07-31T00:00:00\", \"totalTestResultsIncrease\": 737065.0, \"positiveIncrease\": 67623.0, \"death\": 145353.0, \"deathIncrease\": 1312.0, \"positiveRate\": 0.092, \"state\": \"US\", \"sma7d\": 0.079}, {\"date\": \"2020-08-01T00:00:00\", \"totalTestResultsIncrease\": 747583.0, \"positiveIncrease\": 61101.0, \"death\": 146543.0, \"deathIncrease\": 1190.0, \"positiveRate\": 0.082, \"state\": \"US\", \"sma7d\": 0.079}, {\"date\": \"2020-08-02T00:00:00\", \"totalTestResultsIncrease\": 698105.0, \"positiveIncrease\": 46812.0, \"death\": 147041.0, \"deathIncrease\": 498.0, \"positiveRate\": 0.067, \"state\": \"US\", \"sma7d\": 0.078}, {\"date\": \"2020-08-03T00:00:00\", \"totalTestResultsIncrease\": 761761.0, \"positiveIncrease\": 49713.0, \"death\": 147560.0, \"deathIncrease\": 519.0, \"positiveRate\": 0.065, \"state\": \"US\", \"sma7d\": 0.077}, {\"date\": \"2020-08-04T00:00:00\", \"totalTestResultsIncrease\": 728996.0, \"positiveIncrease\": 51866.0, \"death\": 148815.0, \"deathIncrease\": 1255.0, \"positiveRate\": 0.071, \"state\": \"US\", \"sma7d\": 0.077}, {\"date\": \"2020-08-05T00:00:00\", \"totalTestResultsIncrease\": 711466.0, \"positiveIncrease\": 52324.0, \"death\": 150161.0, \"deathIncrease\": 1346.0, \"positiveRate\": 0.074, \"state\": \"US\", \"sma7d\": 0.076}, {\"date\": \"2020-08-06T00:00:00\", \"totalTestResultsIncrease\": 781591.0, \"positiveIncrease\": 54187.0, \"death\": 151412.0, \"deathIncrease\": 1251.0, \"positiveRate\": 0.069, \"state\": \"US\", \"sma7d\": 0.074}, {\"date\": \"2020-08-07T00:00:00\", \"totalTestResultsIncrease\": 795946.0, \"positiveIncrease\": 61345.0, \"death\": 152745.0, \"deathIncrease\": 1333.0, \"positiveRate\": 0.077, \"state\": \"US\", \"sma7d\": 0.072}, {\"date\": \"2020-08-08T00:00:00\", \"totalTestResultsIncrease\": 682610.0, \"positiveIncrease\": 53712.0, \"death\": 153834.0, \"deathIncrease\": 1089.0, \"positiveRate\": 0.079, \"state\": \"US\", \"sma7d\": 0.072}, {\"date\": \"2020-08-09T00:00:00\", \"totalTestResultsIncrease\": 718661.0, \"positiveIncrease\": 50627.0, \"death\": 154450.0, \"deathIncrease\": 616.0, \"positiveRate\": 0.07, \"state\": \"US\", \"sma7d\": 0.072}, {\"date\": \"2020-08-10T00:00:00\", \"totalTestResultsIncrease\": 747848.0, \"positiveIncrease\": 42089.0, \"death\": 154876.0, \"deathIncrease\": 426.0, \"positiveRate\": 0.056, \"state\": \"US\", \"sma7d\": 0.071}, {\"date\": \"2020-08-11T00:00:00\", \"totalTestResultsIncrease\": 751758.0, \"positiveIncrease\": 55701.0, \"death\": 156202.0, \"deathIncrease\": 1326.0, \"positiveRate\": 0.074, \"state\": \"US\", \"sma7d\": 0.071}, {\"date\": \"2020-08-12T00:00:00\", \"totalTestResultsIncrease\": 487424.0, \"positiveIncrease\": 56134.0, \"death\": 157719.0, \"deathIncrease\": 1517.0, \"positiveRate\": 0.115, \"state\": \"US\", \"sma7d\": 0.077}, {\"date\": \"2020-08-13T00:00:00\", \"totalTestResultsIncrease\": 916599.0, \"positiveIncrease\": 51759.0, \"death\": 158882.0, \"deathIncrease\": 1163.0, \"positiveRate\": 0.056, \"state\": \"US\", \"sma7d\": 0.075}, {\"date\": \"2020-08-14T00:00:00\", \"totalTestResultsIncrease\": 876457.0, \"positiveIncrease\": 55636.0, \"death\": 160098.0, \"deathIncrease\": 1216.0, \"positiveRate\": 0.063, \"state\": \"US\", \"sma7d\": 0.073}, {\"date\": \"2020-08-15T00:00:00\", \"totalTestResultsIncrease\": 771707.0, \"positiveIncrease\": 56149.0, \"death\": 161317.0, \"deathIncrease\": 1219.0, \"positiveRate\": 0.073, \"state\": \"US\", \"sma7d\": 0.072}, {\"date\": \"2020-08-16T00:00:00\", \"totalTestResultsIncrease\": 800864.0, \"positiveIncrease\": 42487.0, \"death\": 161936.0, \"deathIncrease\": 619.0, \"positiveRate\": 0.053, \"state\": \"US\", \"sma7d\": 0.07}, {\"date\": \"2020-08-17T00:00:00\", \"totalTestResultsIncrease\": 678514.0, \"positiveIncrease\": 37880.0, \"death\": 162343.0, \"deathIncrease\": 407.0, \"positiveRate\": 0.056, \"state\": \"US\", \"sma7d\": 0.07}, {\"date\": \"2020-08-18T00:00:00\", \"totalTestResultsIncrease\": 669872.0, \"positiveIncrease\": 40795.0, \"death\": 163539.0, \"deathIncrease\": 1196.0, \"positiveRate\": 0.061, \"state\": \"US\", \"sma7d\": 0.068}, {\"date\": \"2020-08-19T00:00:00\", \"totalTestResultsIncrease\": 685402.0, \"positiveIncrease\": 44955.0, \"death\": 164959.0, \"deathIncrease\": 1420.0, \"positiveRate\": 0.066, \"state\": \"US\", \"sma7d\": 0.061}, {\"date\": \"2020-08-20T00:00:00\", \"totalTestResultsIncrease\": 720710.0, \"positiveIncrease\": 43758.0, \"death\": 166093.0, \"deathIncrease\": 1134.0, \"positiveRate\": 0.061, \"state\": \"US\", \"sma7d\": 0.062}, {\"date\": \"2020-08-21T00:00:00\", \"totalTestResultsIncrease\": 778381.0, \"positiveIncrease\": 46561.0, \"death\": 167216.0, \"deathIncrease\": 1123.0, \"positiveRate\": 0.06, \"state\": \"US\", \"sma7d\": 0.061}, {\"date\": \"2020-08-22T00:00:00\", \"totalTestResultsIncrease\": 783754.0, \"positiveIncrease\": 46236.0, \"death\": 168245.0, \"deathIncrease\": 1029.0, \"positiveRate\": 0.059, \"state\": \"US\", \"sma7d\": 0.059}, {\"date\": \"2020-08-23T00:00:00\", \"totalTestResultsIncrease\": 632043.0, \"positiveIncrease\": 37566.0, \"death\": 168817.0, \"deathIncrease\": 572.0, \"positiveRate\": 0.059, \"state\": \"US\", \"sma7d\": 0.06}, {\"date\": \"2020-08-24T00:00:00\", \"totalTestResultsIncrease\": 714059.0, \"positiveIncrease\": 34643.0, \"death\": 169160.0, \"deathIncrease\": 343.0, \"positiveRate\": 0.049, \"state\": \"US\", \"sma7d\": 0.059}, {\"date\": \"2020-08-25T00:00:00\", \"totalTestResultsIncrease\": 659161.0, \"positiveIncrease\": 36379.0, \"death\": 170307.0, \"deathIncrease\": 1147.0, \"positiveRate\": 0.055, \"state\": \"US\", \"sma7d\": 0.058}, {\"date\": \"2020-08-26T00:00:00\", \"totalTestResultsIncrease\": 675118.0, \"positiveIncrease\": 44053.0, \"death\": 171605.0, \"deathIncrease\": 1298.0, \"positiveRate\": 0.065, \"state\": \"US\", \"sma7d\": 0.058}, {\"date\": \"2020-08-27T00:00:00\", \"totalTestResultsIncrease\": 784011.0, \"positiveIncrease\": 43984.0, \"death\": 172734.0, \"deathIncrease\": 1129.0, \"positiveRate\": 0.056, \"state\": \"US\", \"sma7d\": 0.058}, {\"date\": \"2020-08-28T00:00:00\", \"totalTestResultsIncrease\": 809700.0, \"positiveIncrease\": 46548.0, \"death\": 173757.0, \"deathIncrease\": 1023.0, \"positiveRate\": 0.057, \"state\": \"US\", \"sma7d\": 0.057}, {\"date\": \"2020-08-29T00:00:00\", \"totalTestResultsIncrease\": 806552.0, \"positiveIncrease\": 44501.0, \"death\": 174772.0, \"deathIncrease\": 1015.0, \"positiveRate\": 0.055, \"state\": \"US\", \"sma7d\": 0.057}, {\"date\": \"2020-08-30T00:00:00\", \"totalTestResultsIncrease\": 766150.0, \"positiveIncrease\": 39501.0, \"death\": 175247.0, \"deathIncrease\": 475.0, \"positiveRate\": 0.052, \"state\": \"US\", \"sma7d\": 0.056}, {\"date\": \"2020-08-31T00:00:00\", \"totalTestResultsIncrease\": 698728.0, \"positiveIncrease\": 31406.0, \"death\": 175613.0, \"deathIncrease\": 366.0, \"positiveRate\": 0.045, \"state\": \"US\", \"sma7d\": 0.055}, {\"date\": \"2020-09-01T00:00:00\", \"totalTestResultsIncrease\": 728310.0, \"positiveIncrease\": 42433.0, \"death\": 176640.0, \"deathIncrease\": 1027.0, \"positiveRate\": 0.058, \"state\": \"US\", \"sma7d\": 0.055}, {\"date\": \"2020-09-02T00:00:00\", \"totalTestResultsIncrease\": 676024.0, \"positiveIncrease\": 30603.0, \"death\": 177672.0, \"deathIncrease\": 1032.0, \"positiveRate\": 0.045, \"state\": \"US\", \"sma7d\": 0.053}, {\"date\": \"2020-09-03T00:00:00\", \"totalTestResultsIncrease\": 789895.0, \"positiveIncrease\": 44714.0, \"death\": 178742.0, \"deathIncrease\": 1070.0, \"positiveRate\": 0.057, \"state\": \"US\", \"sma7d\": 0.053}, {\"date\": \"2020-09-04T00:00:00\", \"totalTestResultsIncrease\": 938502.0, \"positiveIncrease\": 51591.0, \"death\": 179740.0, \"deathIncrease\": 998.0, \"positiveRate\": 0.055, \"state\": \"US\", \"sma7d\": 0.052}, {\"date\": \"2020-09-05T00:00:00\", \"totalTestResultsIncrease\": 864327.0, \"positiveIncrease\": 44905.0, \"death\": 180658.0, \"deathIncrease\": 918.0, \"positiveRate\": 0.052, \"state\": \"US\", \"sma7d\": 0.052}, {\"date\": \"2020-09-06T00:00:00\", \"totalTestResultsIncrease\": 773550.0, \"positiveIncrease\": 33117.0, \"death\": 181107.0, \"deathIncrease\": 449.0, \"positiveRate\": 0.043, \"state\": \"US\", \"sma7d\": 0.051}, {\"date\": \"2020-09-07T00:00:00\", \"totalTestResultsIncrease\": 608018.0, \"positiveIncrease\": 28682.0, \"death\": 181332.0, \"deathIncrease\": 225.0, \"positiveRate\": 0.047, \"state\": \"US\", \"sma7d\": 0.051}, {\"date\": \"2020-09-08T00:00:00\", \"totalTestResultsIncrease\": 535857.0, \"positiveIncrease\": 22223.0, \"death\": 181690.0, \"deathIncrease\": 358.0, \"positiveRate\": 0.041, \"state\": \"US\", \"sma7d\": 0.049}, {\"date\": \"2020-09-09T00:00:00\", \"totalTestResultsIncrease\": 625042.0, \"positiveIncrease\": 30983.0, \"death\": 182779.0, \"deathIncrease\": 1089.0, \"positiveRate\": 0.05, \"state\": \"US\", \"sma7d\": 0.049}, {\"date\": \"2020-09-10T00:00:00\", \"totalTestResultsIncrease\": 663376.0, \"positiveIncrease\": 37581.0, \"death\": 183949.0, \"deathIncrease\": 1170.0, \"positiveRate\": 0.057, \"state\": \"US\", \"sma7d\": 0.049}, {\"date\": \"2020-09-11T00:00:00\", \"totalTestResultsIncrease\": 814747.0, \"positiveIncrease\": 44927.0, \"death\": 184967.0, \"deathIncrease\": 1018.0, \"positiveRate\": 0.055, \"state\": \"US\", \"sma7d\": 0.049}, {\"date\": \"2020-09-12T00:00:00\", \"totalTestResultsIncrease\": 915800.0, \"positiveIncrease\": 42087.0, \"death\": 185777.0, \"deathIncrease\": 810.0, \"positiveRate\": 0.046, \"state\": \"US\", \"sma7d\": 0.048}, {\"date\": \"2020-09-13T00:00:00\", \"totalTestResultsIncrease\": 688727.0, \"positiveIncrease\": 34453.0, \"death\": 186166.0, \"deathIncrease\": 389.0, \"positiveRate\": 0.05, \"state\": \"US\", \"sma7d\": 0.049}, {\"date\": \"2020-09-14T00:00:00\", \"totalTestResultsIncrease\": 435261.0, \"positiveIncrease\": 33864.0, \"death\": 186569.0, \"deathIncrease\": 403.0, \"positiveRate\": 0.078, \"state\": \"US\", \"sma7d\": 0.054}, {\"date\": \"2020-09-15T00:00:00\", \"totalTestResultsIncrease\": 720912.0, \"positiveIncrease\": 35445.0, \"death\": 187600.0, \"deathIncrease\": 1031.0, \"positiveRate\": 0.049, \"state\": \"US\", \"sma7d\": 0.055}, {\"date\": \"2020-09-16T00:00:00\", \"totalTestResultsIncrease\": 721582.0, \"positiveIncrease\": 39969.0, \"death\": 188758.0, \"deathIncrease\": 1202.0, \"positiveRate\": 0.055, \"state\": \"US\", \"sma7d\": 0.056}]}}, {\"mode\": \"vega-lite\"});\n",
       "</script>"
      ],
      "text/plain": [
       "alt.LayerChart(...)"
      ]
     },
     "execution_count": 8,
     "metadata": {},
     "output_type": "execute_result"
    }
   ],
   "source": [
    "create_plot(us, 'positiveRate')"
   ]
  },
  {
   "cell_type": "code",
   "execution_count": 9,
   "metadata": {
    "execution": {
     "iopub.execute_input": "2020-09-16T22:33:40.411430Z",
     "iopub.status.busy": "2020-09-16T22:33:40.410645Z",
     "iopub.status.idle": "2020-09-16T22:33:40.512057Z",
     "shell.execute_reply": "2020-09-16T22:33:40.512614Z"
    },
    "papermill": {
     "duration": 0.12421,
     "end_time": "2020-09-16T22:33:40.512783",
     "exception": false,
     "start_time": "2020-09-16T22:33:40.388573",
     "status": "completed"
    },
    "tags": []
   },
   "outputs": [
    {
     "data": {
      "text/html": [
       "\n",
       "<div id=\"altair-viz-2f1eee2c75a04519afbf912f2ac8a256\"></div>\n",
       "<script type=\"text/javascript\">\n",
       "  (function(spec, embedOpt){\n",
       "    let outputDiv = document.currentScript.previousElementSibling;\n",
       "    if (outputDiv.id !== \"altair-viz-2f1eee2c75a04519afbf912f2ac8a256\") {\n",
       "      outputDiv = document.getElementById(\"altair-viz-2f1eee2c75a04519afbf912f2ac8a256\");\n",
       "    }\n",
       "    const paths = {\n",
       "      \"vega\": \"https://cdn.jsdelivr.net/npm//vega@5?noext\",\n",
       "      \"vega-lib\": \"https://cdn.jsdelivr.net/npm//vega-lib?noext\",\n",
       "      \"vega-lite\": \"https://cdn.jsdelivr.net/npm//vega-lite@4.8.1?noext\",\n",
       "      \"vega-embed\": \"https://cdn.jsdelivr.net/npm//vega-embed@6?noext\",\n",
       "    };\n",
       "\n",
       "    function loadScript(lib) {\n",
       "      return new Promise(function(resolve, reject) {\n",
       "        var s = document.createElement('script');\n",
       "        s.src = paths[lib];\n",
       "        s.async = true;\n",
       "        s.onload = () => resolve(paths[lib]);\n",
       "        s.onerror = () => reject(`Error loading script: ${paths[lib]}`);\n",
       "        document.getElementsByTagName(\"head\")[0].appendChild(s);\n",
       "      });\n",
       "    }\n",
       "\n",
       "    function showError(err) {\n",
       "      outputDiv.innerHTML = `<div class=\"error\" style=\"color:red;\">${err}</div>`;\n",
       "      throw err;\n",
       "    }\n",
       "\n",
       "    function displayChart(vegaEmbed) {\n",
       "      vegaEmbed(outputDiv, spec, embedOpt)\n",
       "        .catch(err => showError(`Javascript Error: ${err.message}<br>This usually means there's a typo in your chart specification. See the javascript console for the full traceback.`));\n",
       "    }\n",
       "\n",
       "    if(typeof define === \"function\" && define.amd) {\n",
       "      requirejs.config({paths});\n",
       "      require([\"vega-embed\"], displayChart, err => showError(`Error loading script: ${err.message}`));\n",
       "    } else if (typeof vegaEmbed === \"function\") {\n",
       "      displayChart(vegaEmbed);\n",
       "    } else {\n",
       "      loadScript(\"vega\")\n",
       "        .then(() => loadScript(\"vega-lite\"))\n",
       "        .then(() => loadScript(\"vega-embed\"))\n",
       "        .catch(showError)\n",
       "        .then(() => displayChart(vegaEmbed));\n",
       "    }\n",
       "  })({\"config\": {\"view\": {\"continuousWidth\": 400, \"continuousHeight\": 300}}, \"layer\": [{\"layer\": [{\"mark\": {\"type\": \"point\", \"size\": 75}, \"encoding\": {\"tooltip\": [{\"type\": \"temporal\", \"field\": \"date\"}, {\"type\": \"quantitative\", \"field\": \"deathIncrease\"}, {\"type\": \"quantitative\", \"field\": \"sma7d\"}], \"x\": {\"type\": \"temporal\", \"field\": \"date\"}, \"y\": {\"type\": \"quantitative\", \"field\": \"deathIncrease\"}}, \"selection\": {\"selector006\": {\"type\": \"interval\", \"bind\": \"scales\", \"encodings\": [\"x\", \"y\"]}}}, {\"mark\": {\"type\": \"line\", \"color\": \"purple\"}, \"encoding\": {\"x\": {\"type\": \"temporal\", \"field\": \"date\"}, \"y\": {\"type\": \"quantitative\", \"field\": \"sma7d\"}}}]}, {\"mark\": {\"type\": \"rule\", \"color\": \"#aaa\"}, \"encoding\": {\"x\": {\"type\": \"temporal\", \"field\": \"date\"}}, \"transform\": [{\"filter\": {\"selection\": \"selector005\"}}]}, {\"mark\": \"circle\", \"encoding\": {\"opacity\": {\"condition\": {\"value\": 1, \"selection\": \"selector005\"}, \"value\": 0}, \"tooltip\": [{\"type\": \"temporal\", \"field\": \"date\"}, {\"type\": \"quantitative\", \"field\": \"deathIncrease\"}, {\"type\": \"quantitative\", \"field\": \"sma7d\"}], \"x\": {\"type\": \"temporal\", \"field\": \"date\"}, \"y\": {\"type\": \"quantitative\", \"field\": \"deathIncrease\"}}, \"selection\": {\"selector005\": {\"type\": \"single\", \"encodings\": [\"x\"], \"on\": \"mouseover\", \"nearest\": true, \"empty\": \"none\"}}}, {\"mark\": {\"type\": \"text\", \"align\": \"left\", \"dx\": 5, \"dy\": -5, \"stroke\": \"white\", \"strokeWidth\": 2}, \"encoding\": {\"text\": {\"type\": \"quantitative\", \"field\": \"deathIncrease\"}, \"tooltip\": [{\"type\": \"temporal\", \"field\": \"date\"}, {\"type\": \"quantitative\", \"field\": \"deathIncrease\"}, {\"type\": \"quantitative\", \"field\": \"sma7d\"}], \"x\": {\"type\": \"temporal\", \"field\": \"date\"}, \"y\": {\"type\": \"quantitative\", \"field\": \"deathIncrease\"}}, \"transform\": [{\"filter\": {\"selection\": \"selector005\"}}]}, {\"mark\": {\"type\": \"text\", \"align\": \"left\", \"dx\": 5, \"dy\": -5}, \"encoding\": {\"text\": {\"type\": \"quantitative\", \"field\": \"deathIncrease\"}, \"tooltip\": [{\"type\": \"temporal\", \"field\": \"date\"}, {\"type\": \"quantitative\", \"field\": \"deathIncrease\"}, {\"type\": \"quantitative\", \"field\": \"sma7d\"}], \"x\": {\"type\": \"temporal\", \"field\": \"date\"}, \"y\": {\"type\": \"quantitative\", \"field\": \"deathIncrease\"}}, \"transform\": [{\"filter\": {\"selection\": \"selector005\"}}]}], \"data\": {\"name\": \"data-30a592fd6a511ef2b1205233cbcbba09\"}, \"height\": 400, \"title\": \"US: deathIncrease\", \"width\": 500, \"$schema\": \"https://vega.github.io/schema/vega-lite/v4.8.1.json\", \"datasets\": {\"data-30a592fd6a511ef2b1205233cbcbba09\": [{\"date\": \"2020-07-23T00:00:00\", \"totalTestResultsIncrease\": 852549.0, \"positiveIncrease\": 71552.0, \"death\": 136350.0, \"deathIncrease\": 1056.0, \"positiveRate\": 0.084, \"state\": \"US\", \"sma7d\": 854.143}, {\"date\": \"2020-07-24T00:00:00\", \"totalTestResultsIncrease\": 940090.0, \"positiveIncrease\": 75236.0, \"death\": 137526.0, \"deathIncrease\": 1176.0, \"positiveRate\": 0.08, \"state\": \"US\", \"sma7d\": 886.286}, {\"date\": \"2020-07-25T00:00:00\", \"totalTestResultsIncrease\": 793441.0, \"positiveIncrease\": 64741.0, \"death\": 138549.0, \"deathIncrease\": 1023.0, \"positiveRate\": 0.082, \"state\": \"US\", \"sma7d\": 907.857}, {\"date\": \"2020-07-26T00:00:00\", \"totalTestResultsIncrease\": 850833.0, \"positiveIncrease\": 61000.0, \"death\": 139108.0, \"deathIncrease\": 559.0, \"positiveRate\": 0.072, \"state\": \"US\", \"sma7d\": 912.429}, {\"date\": \"2020-07-27T00:00:00\", \"totalTestResultsIncrease\": 776694.0, \"positiveIncrease\": 55332.0, \"death\": 140168.0, \"deathIncrease\": 1060.0, \"positiveRate\": 0.071, \"state\": \"US\", \"sma7d\": 1012.0}, {\"date\": \"2020-07-28T00:00:00\", \"totalTestResultsIncrease\": 756031.0, \"positiveIncrease\": 56448.0, \"death\": 141290.0, \"deathIncrease\": 1122.0, \"positiveRate\": 0.075, \"state\": \"US\", \"sma7d\": 1023.857}, {\"date\": \"2020-07-29T00:00:00\", \"totalTestResultsIncrease\": 873083.0, \"positiveIncrease\": 66963.0, \"death\": 142782.0, \"deathIncrease\": 1492.0, \"positiveRate\": 0.077, \"state\": \"US\", \"sma7d\": 1069.714}, {\"date\": \"2020-07-30T00:00:00\", \"totalTestResultsIncrease\": 828332.0, \"positiveIncrease\": 69418.0, \"death\": 144041.0, \"deathIncrease\": 1259.0, \"positiveRate\": 0.084, \"state\": \"US\", \"sma7d\": 1098.714}, {\"date\": \"2020-07-31T00:00:00\", \"totalTestResultsIncrease\": 737065.0, \"positiveIncrease\": 67623.0, \"death\": 145353.0, \"deathIncrease\": 1312.0, \"positiveRate\": 0.092, \"state\": \"US\", \"sma7d\": 1118.143}, {\"date\": \"2020-08-01T00:00:00\", \"totalTestResultsIncrease\": 747583.0, \"positiveIncrease\": 61101.0, \"death\": 146543.0, \"deathIncrease\": 1190.0, \"positiveRate\": 0.082, \"state\": \"US\", \"sma7d\": 1142.0}, {\"date\": \"2020-08-02T00:00:00\", \"totalTestResultsIncrease\": 698105.0, \"positiveIncrease\": 46812.0, \"death\": 147041.0, \"deathIncrease\": 498.0, \"positiveRate\": 0.067, \"state\": \"US\", \"sma7d\": 1133.286}, {\"date\": \"2020-08-03T00:00:00\", \"totalTestResultsIncrease\": 761761.0, \"positiveIncrease\": 49713.0, \"death\": 147560.0, \"deathIncrease\": 519.0, \"positiveRate\": 0.065, \"state\": \"US\", \"sma7d\": 1056.0}, {\"date\": \"2020-08-04T00:00:00\", \"totalTestResultsIncrease\": 728996.0, \"positiveIncrease\": 51866.0, \"death\": 148815.0, \"deathIncrease\": 1255.0, \"positiveRate\": 0.071, \"state\": \"US\", \"sma7d\": 1075.0}, {\"date\": \"2020-08-05T00:00:00\", \"totalTestResultsIncrease\": 711466.0, \"positiveIncrease\": 52324.0, \"death\": 150161.0, \"deathIncrease\": 1346.0, \"positiveRate\": 0.074, \"state\": \"US\", \"sma7d\": 1054.143}, {\"date\": \"2020-08-06T00:00:00\", \"totalTestResultsIncrease\": 781591.0, \"positiveIncrease\": 54187.0, \"death\": 151412.0, \"deathIncrease\": 1251.0, \"positiveRate\": 0.069, \"state\": \"US\", \"sma7d\": 1053.0}, {\"date\": \"2020-08-07T00:00:00\", \"totalTestResultsIncrease\": 795946.0, \"positiveIncrease\": 61345.0, \"death\": 152745.0, \"deathIncrease\": 1333.0, \"positiveRate\": 0.077, \"state\": \"US\", \"sma7d\": 1056.0}, {\"date\": \"2020-08-08T00:00:00\", \"totalTestResultsIncrease\": 682610.0, \"positiveIncrease\": 53712.0, \"death\": 153834.0, \"deathIncrease\": 1089.0, \"positiveRate\": 0.079, \"state\": \"US\", \"sma7d\": 1041.571}, {\"date\": \"2020-08-09T00:00:00\", \"totalTestResultsIncrease\": 718661.0, \"positiveIncrease\": 50627.0, \"death\": 154450.0, \"deathIncrease\": 616.0, \"positiveRate\": 0.07, \"state\": \"US\", \"sma7d\": 1058.429}, {\"date\": \"2020-08-10T00:00:00\", \"totalTestResultsIncrease\": 747848.0, \"positiveIncrease\": 42089.0, \"death\": 154876.0, \"deathIncrease\": 426.0, \"positiveRate\": 0.056, \"state\": \"US\", \"sma7d\": 1045.143}, {\"date\": \"2020-08-11T00:00:00\", \"totalTestResultsIncrease\": 751758.0, \"positiveIncrease\": 55701.0, \"death\": 156202.0, \"deathIncrease\": 1326.0, \"positiveRate\": 0.074, \"state\": \"US\", \"sma7d\": 1055.286}, {\"date\": \"2020-08-12T00:00:00\", \"totalTestResultsIncrease\": 487424.0, \"positiveIncrease\": 56134.0, \"death\": 157719.0, \"deathIncrease\": 1517.0, \"positiveRate\": 0.115, \"state\": \"US\", \"sma7d\": 1079.714}, {\"date\": \"2020-08-13T00:00:00\", \"totalTestResultsIncrease\": 916599.0, \"positiveIncrease\": 51759.0, \"death\": 158882.0, \"deathIncrease\": 1163.0, \"positiveRate\": 0.056, \"state\": \"US\", \"sma7d\": 1067.143}, {\"date\": \"2020-08-14T00:00:00\", \"totalTestResultsIncrease\": 876457.0, \"positiveIncrease\": 55636.0, \"death\": 160098.0, \"deathIncrease\": 1216.0, \"positiveRate\": 0.063, \"state\": \"US\", \"sma7d\": 1050.429}, {\"date\": \"2020-08-15T00:00:00\", \"totalTestResultsIncrease\": 771707.0, \"positiveIncrease\": 56149.0, \"death\": 161317.0, \"deathIncrease\": 1219.0, \"positiveRate\": 0.073, \"state\": \"US\", \"sma7d\": 1069.0}, {\"date\": \"2020-08-16T00:00:00\", \"totalTestResultsIncrease\": 800864.0, \"positiveIncrease\": 42487.0, \"death\": 161936.0, \"deathIncrease\": 619.0, \"positiveRate\": 0.053, \"state\": \"US\", \"sma7d\": 1069.429}, {\"date\": \"2020-08-17T00:00:00\", \"totalTestResultsIncrease\": 678514.0, \"positiveIncrease\": 37880.0, \"death\": 162343.0, \"deathIncrease\": 407.0, \"positiveRate\": 0.056, \"state\": \"US\", \"sma7d\": 1066.714}, {\"date\": \"2020-08-18T00:00:00\", \"totalTestResultsIncrease\": 669872.0, \"positiveIncrease\": 40795.0, \"death\": 163539.0, \"deathIncrease\": 1196.0, \"positiveRate\": 0.061, \"state\": \"US\", \"sma7d\": 1048.143}, {\"date\": \"2020-08-19T00:00:00\", \"totalTestResultsIncrease\": 685402.0, \"positiveIncrease\": 44955.0, \"death\": 164959.0, \"deathIncrease\": 1420.0, \"positiveRate\": 0.066, \"state\": \"US\", \"sma7d\": 1034.286}, {\"date\": \"2020-08-20T00:00:00\", \"totalTestResultsIncrease\": 720710.0, \"positiveIncrease\": 43758.0, \"death\": 166093.0, \"deathIncrease\": 1134.0, \"positiveRate\": 0.061, \"state\": \"US\", \"sma7d\": 1030.143}, {\"date\": \"2020-08-21T00:00:00\", \"totalTestResultsIncrease\": 778381.0, \"positiveIncrease\": 46561.0, \"death\": 167216.0, \"deathIncrease\": 1123.0, \"positiveRate\": 0.06, \"state\": \"US\", \"sma7d\": 1016.857}, {\"date\": \"2020-08-22T00:00:00\", \"totalTestResultsIncrease\": 783754.0, \"positiveIncrease\": 46236.0, \"death\": 168245.0, \"deathIncrease\": 1029.0, \"positiveRate\": 0.059, \"state\": \"US\", \"sma7d\": 989.714}, {\"date\": \"2020-08-23T00:00:00\", \"totalTestResultsIncrease\": 632043.0, \"positiveIncrease\": 37566.0, \"death\": 168817.0, \"deathIncrease\": 572.0, \"positiveRate\": 0.059, \"state\": \"US\", \"sma7d\": 983.0}, {\"date\": \"2020-08-24T00:00:00\", \"totalTestResultsIncrease\": 714059.0, \"positiveIncrease\": 34643.0, \"death\": 169160.0, \"deathIncrease\": 343.0, \"positiveRate\": 0.049, \"state\": \"US\", \"sma7d\": 973.857}, {\"date\": \"2020-08-25T00:00:00\", \"totalTestResultsIncrease\": 659161.0, \"positiveIncrease\": 36379.0, \"death\": 170307.0, \"deathIncrease\": 1147.0, \"positiveRate\": 0.055, \"state\": \"US\", \"sma7d\": 966.857}, {\"date\": \"2020-08-26T00:00:00\", \"totalTestResultsIncrease\": 675118.0, \"positiveIncrease\": 44053.0, \"death\": 171605.0, \"deathIncrease\": 1298.0, \"positiveRate\": 0.065, \"state\": \"US\", \"sma7d\": 949.429}, {\"date\": \"2020-08-27T00:00:00\", \"totalTestResultsIncrease\": 784011.0, \"positiveIncrease\": 43984.0, \"death\": 172734.0, \"deathIncrease\": 1129.0, \"positiveRate\": 0.056, \"state\": \"US\", \"sma7d\": 948.714}, {\"date\": \"2020-08-28T00:00:00\", \"totalTestResultsIncrease\": 809700.0, \"positiveIncrease\": 46548.0, \"death\": 173757.0, \"deathIncrease\": 1023.0, \"positiveRate\": 0.057, \"state\": \"US\", \"sma7d\": 934.429}, {\"date\": \"2020-08-29T00:00:00\", \"totalTestResultsIncrease\": 806552.0, \"positiveIncrease\": 44501.0, \"death\": 174772.0, \"deathIncrease\": 1015.0, \"positiveRate\": 0.055, \"state\": \"US\", \"sma7d\": 932.429}, {\"date\": \"2020-08-30T00:00:00\", \"totalTestResultsIncrease\": 766150.0, \"positiveIncrease\": 39501.0, \"death\": 175247.0, \"deathIncrease\": 475.0, \"positiveRate\": 0.052, \"state\": \"US\", \"sma7d\": 918.571}, {\"date\": \"2020-08-31T00:00:00\", \"totalTestResultsIncrease\": 698728.0, \"positiveIncrease\": 31406.0, \"death\": 175613.0, \"deathIncrease\": 366.0, \"positiveRate\": 0.045, \"state\": \"US\", \"sma7d\": 921.857}, {\"date\": \"2020-09-01T00:00:00\", \"totalTestResultsIncrease\": 728310.0, \"positiveIncrease\": 42433.0, \"death\": 176640.0, \"deathIncrease\": 1027.0, \"positiveRate\": 0.058, \"state\": \"US\", \"sma7d\": 904.714}, {\"date\": \"2020-09-02T00:00:00\", \"totalTestResultsIncrease\": 676024.0, \"positiveIncrease\": 30603.0, \"death\": 177672.0, \"deathIncrease\": 1032.0, \"positiveRate\": 0.045, \"state\": \"US\", \"sma7d\": 866.714}, {\"date\": \"2020-09-03T00:00:00\", \"totalTestResultsIncrease\": 789895.0, \"positiveIncrease\": 44714.0, \"death\": 178742.0, \"deathIncrease\": 1070.0, \"positiveRate\": 0.057, \"state\": \"US\", \"sma7d\": 858.286}, {\"date\": \"2020-09-04T00:00:00\", \"totalTestResultsIncrease\": 938502.0, \"positiveIncrease\": 51591.0, \"death\": 179740.0, \"deathIncrease\": 998.0, \"positiveRate\": 0.055, \"state\": \"US\", \"sma7d\": 854.714}, {\"date\": \"2020-09-05T00:00:00\", \"totalTestResultsIncrease\": 864327.0, \"positiveIncrease\": 44905.0, \"death\": 180658.0, \"deathIncrease\": 918.0, \"positiveRate\": 0.052, \"state\": \"US\", \"sma7d\": 840.857}, {\"date\": \"2020-09-06T00:00:00\", \"totalTestResultsIncrease\": 773550.0, \"positiveIncrease\": 33117.0, \"death\": 181107.0, \"deathIncrease\": 449.0, \"positiveRate\": 0.043, \"state\": \"US\", \"sma7d\": 837.143}, {\"date\": \"2020-09-07T00:00:00\", \"totalTestResultsIncrease\": 608018.0, \"positiveIncrease\": 28682.0, \"death\": 181332.0, \"deathIncrease\": 225.0, \"positiveRate\": 0.047, \"state\": \"US\", \"sma7d\": 817.0}, {\"date\": \"2020-09-08T00:00:00\", \"totalTestResultsIncrease\": 535857.0, \"positiveIncrease\": 22223.0, \"death\": 181690.0, \"deathIncrease\": 358.0, \"positiveRate\": 0.041, \"state\": \"US\", \"sma7d\": 721.429}, {\"date\": \"2020-09-09T00:00:00\", \"totalTestResultsIncrease\": 625042.0, \"positiveIncrease\": 30983.0, \"death\": 182779.0, \"deathIncrease\": 1089.0, \"positiveRate\": 0.05, \"state\": \"US\", \"sma7d\": 729.571}, {\"date\": \"2020-09-10T00:00:00\", \"totalTestResultsIncrease\": 663376.0, \"positiveIncrease\": 37581.0, \"death\": 183949.0, \"deathIncrease\": 1170.0, \"positiveRate\": 0.057, \"state\": \"US\", \"sma7d\": 743.857}, {\"date\": \"2020-09-11T00:00:00\", \"totalTestResultsIncrease\": 814747.0, \"positiveIncrease\": 44927.0, \"death\": 184967.0, \"deathIncrease\": 1018.0, \"positiveRate\": 0.055, \"state\": \"US\", \"sma7d\": 746.714}, {\"date\": \"2020-09-12T00:00:00\", \"totalTestResultsIncrease\": 915800.0, \"positiveIncrease\": 42087.0, \"death\": 185777.0, \"deathIncrease\": 810.0, \"positiveRate\": 0.046, \"state\": \"US\", \"sma7d\": 731.286}, {\"date\": \"2020-09-13T00:00:00\", \"totalTestResultsIncrease\": 688727.0, \"positiveIncrease\": 34453.0, \"death\": 186166.0, \"deathIncrease\": 389.0, \"positiveRate\": 0.05, \"state\": \"US\", \"sma7d\": 722.714}, {\"date\": \"2020-09-14T00:00:00\", \"totalTestResultsIncrease\": 435261.0, \"positiveIncrease\": 33864.0, \"death\": 186569.0, \"deathIncrease\": 403.0, \"positiveRate\": 0.078, \"state\": \"US\", \"sma7d\": 748.143}, {\"date\": \"2020-09-15T00:00:00\", \"totalTestResultsIncrease\": 720912.0, \"positiveIncrease\": 35445.0, \"death\": 187600.0, \"deathIncrease\": 1031.0, \"positiveRate\": 0.049, \"state\": \"US\", \"sma7d\": 844.286}, {\"date\": \"2020-09-16T00:00:00\", \"totalTestResultsIncrease\": 721582.0, \"positiveIncrease\": 39969.0, \"death\": 188758.0, \"deathIncrease\": 1202.0, \"positiveRate\": 0.055, \"state\": \"US\", \"sma7d\": 860.429}]}}, {\"mode\": \"vega-lite\"});\n",
       "</script>"
      ],
      "text/plain": [
       "alt.LayerChart(...)"
      ]
     },
     "execution_count": 9,
     "metadata": {},
     "output_type": "execute_result"
    }
   ],
   "source": [
    "create_plot(us, 'deathIncrease')"
   ]
  },
  {
   "cell_type": "markdown",
   "metadata": {
    "papermill": {
     "duration": 0.017523,
     "end_time": "2020-09-16T22:33:40.547556",
     "exception": false,
     "start_time": "2020-09-16T22:33:40.530033",
     "status": "completed"
    },
    "tags": []
   },
   "source": [
    "## NY"
   ]
  },
  {
   "cell_type": "code",
   "execution_count": 10,
   "metadata": {
    "execution": {
     "iopub.execute_input": "2020-09-16T22:33:40.585521Z",
     "iopub.status.busy": "2020-09-16T22:33:40.584824Z",
     "iopub.status.idle": "2020-09-16T22:33:40.816153Z",
     "shell.execute_reply": "2020-09-16T22:33:40.816676Z"
    },
    "papermill": {
     "duration": 0.252011,
     "end_time": "2020-09-16T22:33:40.816874",
     "exception": false,
     "start_time": "2020-09-16T22:33:40.564863",
     "status": "completed"
    },
    "tags": []
   },
   "outputs": [],
   "source": [
    "ny = create_df(df, (lambda d: d['state'] == 'NY'), 'New York')"
   ]
  },
  {
   "cell_type": "code",
   "execution_count": 11,
   "metadata": {
    "execution": {
     "iopub.execute_input": "2020-09-16T22:33:40.855010Z",
     "iopub.status.busy": "2020-09-16T22:33:40.854440Z",
     "iopub.status.idle": "2020-09-16T22:33:40.948363Z",
     "shell.execute_reply": "2020-09-16T22:33:40.947799Z"
    },
    "papermill": {
     "duration": 0.114377,
     "end_time": "2020-09-16T22:33:40.948530",
     "exception": false,
     "start_time": "2020-09-16T22:33:40.834153",
     "status": "completed"
    },
    "tags": []
   },
   "outputs": [
    {
     "data": {
      "text/html": [
       "\n",
       "<div id=\"altair-viz-7565934975ad4a18ac04024cc7171048\"></div>\n",
       "<script type=\"text/javascript\">\n",
       "  (function(spec, embedOpt){\n",
       "    let outputDiv = document.currentScript.previousElementSibling;\n",
       "    if (outputDiv.id !== \"altair-viz-7565934975ad4a18ac04024cc7171048\") {\n",
       "      outputDiv = document.getElementById(\"altair-viz-7565934975ad4a18ac04024cc7171048\");\n",
       "    }\n",
       "    const paths = {\n",
       "      \"vega\": \"https://cdn.jsdelivr.net/npm//vega@5?noext\",\n",
       "      \"vega-lib\": \"https://cdn.jsdelivr.net/npm//vega-lib?noext\",\n",
       "      \"vega-lite\": \"https://cdn.jsdelivr.net/npm//vega-lite@4.8.1?noext\",\n",
       "      \"vega-embed\": \"https://cdn.jsdelivr.net/npm//vega-embed@6?noext\",\n",
       "    };\n",
       "\n",
       "    function loadScript(lib) {\n",
       "      return new Promise(function(resolve, reject) {\n",
       "        var s = document.createElement('script');\n",
       "        s.src = paths[lib];\n",
       "        s.async = true;\n",
       "        s.onload = () => resolve(paths[lib]);\n",
       "        s.onerror = () => reject(`Error loading script: ${paths[lib]}`);\n",
       "        document.getElementsByTagName(\"head\")[0].appendChild(s);\n",
       "      });\n",
       "    }\n",
       "\n",
       "    function showError(err) {\n",
       "      outputDiv.innerHTML = `<div class=\"error\" style=\"color:red;\">${err}</div>`;\n",
       "      throw err;\n",
       "    }\n",
       "\n",
       "    function displayChart(vegaEmbed) {\n",
       "      vegaEmbed(outputDiv, spec, embedOpt)\n",
       "        .catch(err => showError(`Javascript Error: ${err.message}<br>This usually means there's a typo in your chart specification. See the javascript console for the full traceback.`));\n",
       "    }\n",
       "\n",
       "    if(typeof define === \"function\" && define.amd) {\n",
       "      requirejs.config({paths});\n",
       "      require([\"vega-embed\"], displayChart, err => showError(`Error loading script: ${err.message}`));\n",
       "    } else if (typeof vegaEmbed === \"function\") {\n",
       "      displayChart(vegaEmbed);\n",
       "    } else {\n",
       "      loadScript(\"vega\")\n",
       "        .then(() => loadScript(\"vega-lite\"))\n",
       "        .then(() => loadScript(\"vega-embed\"))\n",
       "        .catch(showError)\n",
       "        .then(() => displayChart(vegaEmbed));\n",
       "    }\n",
       "  })({\"config\": {\"view\": {\"continuousWidth\": 400, \"continuousHeight\": 300}}, \"layer\": [{\"layer\": [{\"mark\": {\"type\": \"point\", \"size\": 75}, \"encoding\": {\"tooltip\": [{\"type\": \"temporal\", \"field\": \"date\"}, {\"type\": \"quantitative\", \"field\": \"positiveIncrease\"}, {\"type\": \"quantitative\", \"field\": \"sma7d\"}], \"x\": {\"type\": \"temporal\", \"field\": \"date\"}, \"y\": {\"type\": \"quantitative\", \"field\": \"positiveIncrease\"}}, \"selection\": {\"selector008\": {\"type\": \"interval\", \"bind\": \"scales\", \"encodings\": [\"x\", \"y\"]}}}, {\"mark\": {\"type\": \"line\", \"color\": \"purple\"}, \"encoding\": {\"x\": {\"type\": \"temporal\", \"field\": \"date\"}, \"y\": {\"type\": \"quantitative\", \"field\": \"sma7d\"}}}]}, {\"mark\": {\"type\": \"rule\", \"color\": \"#aaa\"}, \"encoding\": {\"x\": {\"type\": \"temporal\", \"field\": \"date\"}}, \"transform\": [{\"filter\": {\"selection\": \"selector007\"}}]}, {\"mark\": \"circle\", \"encoding\": {\"opacity\": {\"condition\": {\"value\": 1, \"selection\": \"selector007\"}, \"value\": 0}, \"tooltip\": [{\"type\": \"temporal\", \"field\": \"date\"}, {\"type\": \"quantitative\", \"field\": \"positiveIncrease\"}, {\"type\": \"quantitative\", \"field\": \"sma7d\"}], \"x\": {\"type\": \"temporal\", \"field\": \"date\"}, \"y\": {\"type\": \"quantitative\", \"field\": \"positiveIncrease\"}}, \"selection\": {\"selector007\": {\"type\": \"single\", \"encodings\": [\"x\"], \"on\": \"mouseover\", \"nearest\": true, \"empty\": \"none\"}}}, {\"mark\": {\"type\": \"text\", \"align\": \"left\", \"dx\": 5, \"dy\": -5, \"stroke\": \"white\", \"strokeWidth\": 2}, \"encoding\": {\"text\": {\"type\": \"quantitative\", \"field\": \"positiveIncrease\"}, \"tooltip\": [{\"type\": \"temporal\", \"field\": \"date\"}, {\"type\": \"quantitative\", \"field\": \"positiveIncrease\"}, {\"type\": \"quantitative\", \"field\": \"sma7d\"}], \"x\": {\"type\": \"temporal\", \"field\": \"date\"}, \"y\": {\"type\": \"quantitative\", \"field\": \"positiveIncrease\"}}, \"transform\": [{\"filter\": {\"selection\": \"selector007\"}}]}, {\"mark\": {\"type\": \"text\", \"align\": \"left\", \"dx\": 5, \"dy\": -5}, \"encoding\": {\"text\": {\"type\": \"quantitative\", \"field\": \"positiveIncrease\"}, \"tooltip\": [{\"type\": \"temporal\", \"field\": \"date\"}, {\"type\": \"quantitative\", \"field\": \"positiveIncrease\"}, {\"type\": \"quantitative\", \"field\": \"sma7d\"}], \"x\": {\"type\": \"temporal\", \"field\": \"date\"}, \"y\": {\"type\": \"quantitative\", \"field\": \"positiveIncrease\"}}, \"transform\": [{\"filter\": {\"selection\": \"selector007\"}}]}], \"data\": {\"name\": \"data-033ab392a94e89b57903da1b9ec101fe\"}, \"height\": 400, \"title\": \"New York: positiveIncrease\", \"width\": 500, \"$schema\": \"https://vega.github.io/schema/vega-lite/v4.8.1.json\", \"datasets\": {\"data-033ab392a94e89b57903da1b9ec101fe\": [{\"date\": \"2020-07-23T00:00:00\", \"totalTestResultsIncrease\": 69698.0, \"positiveIncrease\": 811.0, \"death\": 25081.0, \"deathIncrease\": 13.0, \"positiveRate\": 0.012, \"state\": \"New York\", \"sma7d\": 703.143}, {\"date\": \"2020-07-24T00:00:00\", \"totalTestResultsIncrease\": 76507.0, \"positiveIncrease\": 753.0, \"death\": 25090.0, \"deathIncrease\": 9.0, \"positiveRate\": 0.01, \"state\": \"New York\", \"sma7d\": 699.857}, {\"date\": \"2020-07-25T00:00:00\", \"totalTestResultsIncrease\": 71466.0, \"positiveIncrease\": 750.0, \"death\": 25103.0, \"deathIncrease\": 13.0, \"positiveRate\": 0.01, \"state\": \"New York\", \"sma7d\": 699.286}, {\"date\": \"2020-07-26T00:00:00\", \"totalTestResultsIncrease\": 53568.0, \"positiveIncrease\": 536.0, \"death\": 25106.0, \"deathIncrease\": 3.0, \"positiveRate\": 0.01, \"state\": \"New York\", \"sma7d\": 704.143}, {\"date\": \"2020-07-27T00:00:00\", \"totalTestResultsIncrease\": 57270.0, \"positiveIncrease\": 608.0, \"death\": 25117.0, \"deathIncrease\": 11.0, \"positiveRate\": 0.011, \"state\": \"New York\", \"sma7d\": 716.857}, {\"date\": \"2020-07-28T00:00:00\", \"totalTestResultsIncrease\": 57397.0, \"positiveIncrease\": 534.0, \"death\": 25126.0, \"deathIncrease\": 9.0, \"positiveRate\": 0.009, \"state\": \"New York\", \"sma7d\": 671.0}, {\"date\": \"2020-07-29T00:00:00\", \"totalTestResultsIncrease\": 62276.0, \"positiveIncrease\": 715.0, \"death\": 25132.0, \"deathIncrease\": 6.0, \"positiveRate\": 0.011, \"state\": \"New York\", \"sma7d\": 672.429}, {\"date\": \"2020-07-30T00:00:00\", \"totalTestResultsIncrease\": 73546.0, \"positiveIncrease\": 777.0, \"death\": 25145.0, \"deathIncrease\": 13.0, \"positiveRate\": 0.011, \"state\": \"New York\", \"sma7d\": 667.571}, {\"date\": \"2020-07-31T00:00:00\", \"totalTestResultsIncrease\": 68869.0, \"positiveIncrease\": 644.0, \"death\": 25150.0, \"deathIncrease\": 5.0, \"positiveRate\": 0.009, \"state\": \"New York\", \"sma7d\": 652.0}, {\"date\": \"2020-08-01T00:00:00\", \"totalTestResultsIncrease\": 82737.0, \"positiveIncrease\": 753.0, \"death\": 25164.0, \"deathIncrease\": 14.0, \"positiveRate\": 0.009, \"state\": \"New York\", \"sma7d\": 652.429}, {\"date\": \"2020-08-02T00:00:00\", \"totalTestResultsIncrease\": 58961.0, \"positiveIncrease\": 531.0, \"death\": 25170.0, \"deathIncrease\": 6.0, \"positiveRate\": 0.009, \"state\": \"New York\", \"sma7d\": 651.714}, {\"date\": \"2020-08-03T00:00:00\", \"totalTestResultsIncrease\": 51839.0, \"positiveIncrease\": 545.0, \"death\": 25172.0, \"deathIncrease\": 2.0, \"positiveRate\": 0.011, \"state\": \"New York\", \"sma7d\": 642.714}, {\"date\": \"2020-08-04T00:00:00\", \"totalTestResultsIncrease\": 70993.0, \"positiveIncrease\": 746.0, \"death\": 25175.0, \"deathIncrease\": 3.0, \"positiveRate\": 0.011, \"state\": \"New York\", \"sma7d\": 673.0}, {\"date\": \"2020-08-05T00:00:00\", \"totalTestResultsIncrease\": 72668.0, \"positiveIncrease\": 636.0, \"death\": 25179.0, \"deathIncrease\": 4.0, \"positiveRate\": 0.009, \"state\": \"New York\", \"sma7d\": 661.714}, {\"date\": \"2020-08-06T00:00:00\", \"totalTestResultsIncrease\": 72370.0, \"positiveIncrease\": 703.0, \"death\": 25185.0, \"deathIncrease\": 6.0, \"positiveRate\": 0.01, \"state\": \"New York\", \"sma7d\": 651.143}, {\"date\": \"2020-08-07T00:00:00\", \"totalTestResultsIncrease\": 70170.0, \"positiveIncrease\": 714.0, \"death\": 25190.0, \"deathIncrease\": 5.0, \"positiveRate\": 0.01, \"state\": \"New York\", \"sma7d\": 661.143}, {\"date\": \"2020-08-08T00:00:00\", \"totalTestResultsIncrease\": 74857.0, \"positiveIncrease\": 703.0, \"death\": 25195.0, \"deathIncrease\": 5.0, \"positiveRate\": 0.009, \"state\": \"New York\", \"sma7d\": 654.0}, {\"date\": \"2020-08-09T00:00:00\", \"totalTestResultsIncrease\": 65812.0, \"positiveIncrease\": 515.0, \"death\": 25202.0, \"deathIncrease\": 7.0, \"positiveRate\": 0.008, \"state\": \"New York\", \"sma7d\": 651.714}, {\"date\": \"2020-08-10T00:00:00\", \"totalTestResultsIncrease\": 54002.0, \"positiveIncrease\": 476.0, \"death\": 25204.0, \"deathIncrease\": 2.0, \"positiveRate\": 0.009, \"state\": \"New York\", \"sma7d\": 641.857}, {\"date\": \"2020-08-11T00:00:00\", \"totalTestResultsIncrease\": 77059.0, \"positiveIncrease\": 667.0, \"death\": 25211.0, \"deathIncrease\": 7.0, \"positiveRate\": 0.009, \"state\": \"New York\", \"sma7d\": 630.571}, {\"date\": \"2020-08-12T00:00:00\", \"totalTestResultsIncrease\": 87776.0, \"positiveIncrease\": 700.0, \"death\": 25218.0, \"deathIncrease\": 7.0, \"positiveRate\": 0.008, \"state\": \"New York\", \"sma7d\": 639.714}, {\"date\": \"2020-08-13T00:00:00\", \"totalTestResultsIncrease\": 87900.0, \"positiveIncrease\": 737.0, \"death\": 25228.0, \"deathIncrease\": 10.0, \"positiveRate\": 0.008, \"state\": \"New York\", \"sma7d\": 644.571}, {\"date\": \"2020-08-14T00:00:00\", \"totalTestResultsIncrease\": 85455.0, \"positiveIncrease\": 727.0, \"death\": 25232.0, \"deathIncrease\": 4.0, \"positiveRate\": 0.009, \"state\": \"New York\", \"sma7d\": 646.429}, {\"date\": \"2020-08-15T00:00:00\", \"totalTestResultsIncrease\": 88668.0, \"positiveIncrease\": 734.0, \"death\": 25244.0, \"deathIncrease\": 12.0, \"positiveRate\": 0.008, \"state\": \"New York\", \"sma7d\": 650.857}, {\"date\": \"2020-08-16T00:00:00\", \"totalTestResultsIncrease\": 77692.0, \"positiveIncrease\": 607.0, \"death\": 25250.0, \"deathIncrease\": 6.0, \"positiveRate\": 0.008, \"state\": \"New York\", \"sma7d\": 664.0}, {\"date\": \"2020-08-17T00:00:00\", \"totalTestResultsIncrease\": 56891.0, \"positiveIncrease\": 408.0, \"death\": 25256.0, \"deathIncrease\": 6.0, \"positiveRate\": 0.007, \"state\": \"New York\", \"sma7d\": 654.286}, {\"date\": \"2020-08-18T00:00:00\", \"totalTestResultsIncrease\": 66891.0, \"positiveIncrease\": 655.0, \"death\": 25264.0, \"deathIncrease\": 8.0, \"positiveRate\": 0.01, \"state\": \"New York\", \"sma7d\": 652.571}, {\"date\": \"2020-08-19T00:00:00\", \"totalTestResultsIncrease\": 80425.0, \"positiveIncrease\": 631.0, \"death\": 25270.0, \"deathIncrease\": 6.0, \"positiveRate\": 0.008, \"state\": \"New York\", \"sma7d\": 642.714}, {\"date\": \"2020-08-20T00:00:00\", \"totalTestResultsIncrease\": 80984.0, \"positiveIncrease\": 601.0, \"death\": 25275.0, \"deathIncrease\": 5.0, \"positiveRate\": 0.007, \"state\": \"New York\", \"sma7d\": 623.286}, {\"date\": \"2020-08-21T00:00:00\", \"totalTestResultsIncrease\": 98880.0, \"positiveIncrease\": 709.0, \"death\": 25278.0, \"deathIncrease\": 3.0, \"positiveRate\": 0.007, \"state\": \"New York\", \"sma7d\": 620.714}, {\"date\": \"2020-08-22T00:00:00\", \"totalTestResultsIncrease\": 94849.0, \"positiveIncrease\": 653.0, \"death\": 25282.0, \"deathIncrease\": 4.0, \"positiveRate\": 0.007, \"state\": \"New York\", \"sma7d\": 609.143}, {\"date\": \"2020-08-23T00:00:00\", \"totalTestResultsIncrease\": 74043.0, \"positiveIncrease\": 572.0, \"death\": 25288.0, \"deathIncrease\": 6.0, \"positiveRate\": 0.008, \"state\": \"New York\", \"sma7d\": 604.143}, {\"date\": \"2020-08-24T00:00:00\", \"totalTestResultsIncrease\": 62031.0, \"positiveIncrease\": 408.0, \"death\": 25295.0, \"deathIncrease\": 7.0, \"positiveRate\": 0.007, \"state\": \"New York\", \"sma7d\": 604.143}, {\"date\": \"2020-08-25T00:00:00\", \"totalTestResultsIncrease\": 67255.0, \"positiveIncrease\": 629.0, \"death\": 25297.0, \"deathIncrease\": 2.0, \"positiveRate\": 0.009, \"state\": \"New York\", \"sma7d\": 600.429}, {\"date\": \"2020-08-26T00:00:00\", \"totalTestResultsIncrease\": 71189.0, \"positiveIncrease\": 566.0, \"death\": 25305.0, \"deathIncrease\": 8.0, \"positiveRate\": 0.008, \"state\": \"New York\", \"sma7d\": 591.143}, {\"date\": \"2020-08-27T00:00:00\", \"totalTestResultsIncrease\": 83437.0, \"positiveIncrease\": 791.0, \"death\": 25309.0, \"deathIncrease\": 4.0, \"positiveRate\": 0.009, \"state\": \"New York\", \"sma7d\": 618.286}, {\"date\": \"2020-08-28T00:00:00\", \"totalTestResultsIncrease\": 97826.0, \"positiveIncrease\": 636.0, \"death\": 25312.0, \"deathIncrease\": 3.0, \"positiveRate\": 0.007, \"state\": \"New York\", \"sma7d\": 607.857}, {\"date\": \"2020-08-29T00:00:00\", \"totalTestResultsIncrease\": 93873.0, \"positiveIncrease\": 635.0, \"death\": 25319.0, \"deathIncrease\": 7.0, \"positiveRate\": 0.007, \"state\": \"New York\", \"sma7d\": 605.286}, {\"date\": \"2020-08-30T00:00:00\", \"totalTestResultsIncrease\": 100022.0, \"positiveIncrease\": 698.0, \"death\": 25327.0, \"deathIncrease\": 8.0, \"positiveRate\": 0.007, \"state\": \"New York\", \"sma7d\": 623.286}, {\"date\": \"2020-08-31T00:00:00\", \"totalTestResultsIncrease\": 66241.0, \"positiveIncrease\": 656.0, \"death\": 25328.0, \"deathIncrease\": 1.0, \"positiveRate\": 0.01, \"state\": \"New York\", \"sma7d\": 658.714}, {\"date\": \"2020-09-01T00:00:00\", \"totalTestResultsIncrease\": 76997.0, \"positiveIncrease\": 754.0, \"death\": 25331.0, \"deathIncrease\": 3.0, \"positiveRate\": 0.01, \"state\": \"New York\", \"sma7d\": 676.571}, {\"date\": \"2020-09-02T00:00:00\", \"totalTestResultsIncrease\": 88447.0, \"positiveIncrease\": 708.0, \"death\": 25336.0, \"deathIncrease\": 5.0, \"positiveRate\": 0.008, \"state\": \"New York\", \"sma7d\": 696.857}, {\"date\": \"2020-09-03T00:00:00\", \"totalTestResultsIncrease\": 88981.0, \"positiveIncrease\": 889.0, \"death\": 25343.0, \"deathIncrease\": 7.0, \"positiveRate\": 0.01, \"state\": \"New York\", \"sma7d\": 710.857}, {\"date\": \"2020-09-04T00:00:00\", \"totalTestResultsIncrease\": 93395.0, \"positiveIncrease\": 864.0, \"death\": 25348.0, \"deathIncrease\": 5.0, \"positiveRate\": 0.009, \"state\": \"New York\", \"sma7d\": 743.429}, {\"date\": \"2020-09-05T00:00:00\", \"totalTestResultsIncrease\": 99761.0, \"positiveIncrease\": 801.0, \"death\": 25350.0, \"deathIncrease\": 2.0, \"positiveRate\": 0.008, \"state\": \"New York\", \"sma7d\": 767.143}, {\"date\": \"2020-09-06T00:00:00\", \"totalTestResultsIncrease\": 85630.0, \"positiveIncrease\": 729.0, \"death\": 25359.0, \"deathIncrease\": 9.0, \"positiveRate\": 0.009, \"state\": \"New York\", \"sma7d\": 771.571}, {\"date\": \"2020-09-07T00:00:00\", \"totalTestResultsIncrease\": 58865.0, \"positiveIncrease\": 520.0, \"death\": 25361.0, \"deathIncrease\": 2.0, \"positiveRate\": 0.009, \"state\": \"New York\", \"sma7d\": 752.143}, {\"date\": \"2020-09-08T00:00:00\", \"totalTestResultsIncrease\": 57826.0, \"positiveIncrease\": 557.0, \"death\": 25367.0, \"deathIncrease\": 6.0, \"positiveRate\": 0.01, \"state\": \"New York\", \"sma7d\": 724.0}, {\"date\": \"2020-09-09T00:00:00\", \"totalTestResultsIncrease\": 63230.0, \"positiveIncrease\": 576.0, \"death\": 25370.0, \"deathIncrease\": 3.0, \"positiveRate\": 0.009, \"state\": \"New York\", \"sma7d\": 705.143}, {\"date\": \"2020-09-10T00:00:00\", \"totalTestResultsIncrease\": 76813.0, \"positiveIncrease\": 757.0, \"death\": 25377.0, \"deathIncrease\": 7.0, \"positiveRate\": 0.01, \"state\": \"New York\", \"sma7d\": 686.286}, {\"date\": \"2020-09-11T00:00:00\", \"totalTestResultsIncrease\": 89722.0, \"positiveIncrease\": 880.0, \"death\": 25382.0, \"deathIncrease\": 5.0, \"positiveRate\": 0.01, \"state\": \"New York\", \"sma7d\": 688.571}, {\"date\": \"2020-09-12T00:00:00\", \"totalTestResultsIncrease\": 102925.0, \"positiveIncrease\": 849.0, \"death\": 25384.0, \"deathIncrease\": 2.0, \"positiveRate\": 0.008, \"state\": \"New York\", \"sma7d\": 695.429}, {\"date\": \"2020-09-13T00:00:00\", \"totalTestResultsIncrease\": 72668.0, \"positiveIncrease\": 725.0, \"death\": 25390.0, \"deathIncrease\": 6.0, \"positiveRate\": 0.01, \"state\": \"New York\", \"sma7d\": 694.857}, {\"date\": \"2020-09-14T00:00:00\", \"totalTestResultsIncrease\": 63358.0, \"positiveIncrease\": 583.0, \"death\": 25394.0, \"deathIncrease\": 4.0, \"positiveRate\": 0.009, \"state\": \"New York\", \"sma7d\": 703.857}, {\"date\": \"2020-09-15T00:00:00\", \"totalTestResultsIncrease\": 73678.0, \"positiveIncrease\": 766.0, \"death\": 25405.0, \"deathIncrease\": 11.0, \"positiveRate\": 0.01, \"state\": \"New York\", \"sma7d\": 733.714}, {\"date\": \"2020-09-16T00:00:00\", \"totalTestResultsIncrease\": 75087.0, \"positiveIncrease\": 652.0, \"death\": 25410.0, \"deathIncrease\": 5.0, \"positiveRate\": 0.009, \"state\": \"New York\", \"sma7d\": 744.571}]}}, {\"mode\": \"vega-lite\"});\n",
       "</script>"
      ],
      "text/plain": [
       "alt.LayerChart(...)"
      ]
     },
     "execution_count": 11,
     "metadata": {},
     "output_type": "execute_result"
    }
   ],
   "source": [
    "create_plot(ny, 'positiveIncrease')"
   ]
  },
  {
   "cell_type": "code",
   "execution_count": 12,
   "metadata": {
    "execution": {
     "iopub.execute_input": "2020-09-16T22:33:41.003265Z",
     "iopub.status.busy": "2020-09-16T22:33:40.998051Z",
     "iopub.status.idle": "2020-09-16T22:33:41.086783Z",
     "shell.execute_reply": "2020-09-16T22:33:41.087311Z"
    },
    "papermill": {
     "duration": 0.120584,
     "end_time": "2020-09-16T22:33:41.087500",
     "exception": false,
     "start_time": "2020-09-16T22:33:40.966916",
     "status": "completed"
    },
    "tags": []
   },
   "outputs": [
    {
     "data": {
      "text/html": [
       "\n",
       "<div id=\"altair-viz-85c38d91b5d14df49c61c8cf10e790c5\"></div>\n",
       "<script type=\"text/javascript\">\n",
       "  (function(spec, embedOpt){\n",
       "    let outputDiv = document.currentScript.previousElementSibling;\n",
       "    if (outputDiv.id !== \"altair-viz-85c38d91b5d14df49c61c8cf10e790c5\") {\n",
       "      outputDiv = document.getElementById(\"altair-viz-85c38d91b5d14df49c61c8cf10e790c5\");\n",
       "    }\n",
       "    const paths = {\n",
       "      \"vega\": \"https://cdn.jsdelivr.net/npm//vega@5?noext\",\n",
       "      \"vega-lib\": \"https://cdn.jsdelivr.net/npm//vega-lib?noext\",\n",
       "      \"vega-lite\": \"https://cdn.jsdelivr.net/npm//vega-lite@4.8.1?noext\",\n",
       "      \"vega-embed\": \"https://cdn.jsdelivr.net/npm//vega-embed@6?noext\",\n",
       "    };\n",
       "\n",
       "    function loadScript(lib) {\n",
       "      return new Promise(function(resolve, reject) {\n",
       "        var s = document.createElement('script');\n",
       "        s.src = paths[lib];\n",
       "        s.async = true;\n",
       "        s.onload = () => resolve(paths[lib]);\n",
       "        s.onerror = () => reject(`Error loading script: ${paths[lib]}`);\n",
       "        document.getElementsByTagName(\"head\")[0].appendChild(s);\n",
       "      });\n",
       "    }\n",
       "\n",
       "    function showError(err) {\n",
       "      outputDiv.innerHTML = `<div class=\"error\" style=\"color:red;\">${err}</div>`;\n",
       "      throw err;\n",
       "    }\n",
       "\n",
       "    function displayChart(vegaEmbed) {\n",
       "      vegaEmbed(outputDiv, spec, embedOpt)\n",
       "        .catch(err => showError(`Javascript Error: ${err.message}<br>This usually means there's a typo in your chart specification. See the javascript console for the full traceback.`));\n",
       "    }\n",
       "\n",
       "    if(typeof define === \"function\" && define.amd) {\n",
       "      requirejs.config({paths});\n",
       "      require([\"vega-embed\"], displayChart, err => showError(`Error loading script: ${err.message}`));\n",
       "    } else if (typeof vegaEmbed === \"function\") {\n",
       "      displayChart(vegaEmbed);\n",
       "    } else {\n",
       "      loadScript(\"vega\")\n",
       "        .then(() => loadScript(\"vega-lite\"))\n",
       "        .then(() => loadScript(\"vega-embed\"))\n",
       "        .catch(showError)\n",
       "        .then(() => displayChart(vegaEmbed));\n",
       "    }\n",
       "  })({\"config\": {\"view\": {\"continuousWidth\": 400, \"continuousHeight\": 300}}, \"layer\": [{\"layer\": [{\"mark\": {\"type\": \"point\", \"size\": 75}, \"encoding\": {\"tooltip\": [{\"type\": \"temporal\", \"field\": \"date\"}, {\"type\": \"quantitative\", \"field\": \"positiveRate\"}, {\"type\": \"quantitative\", \"field\": \"sma7d\"}], \"x\": {\"type\": \"temporal\", \"field\": \"date\"}, \"y\": {\"type\": \"quantitative\", \"field\": \"positiveRate\"}}, \"selection\": {\"selector010\": {\"type\": \"interval\", \"bind\": \"scales\", \"encodings\": [\"x\", \"y\"]}}}, {\"mark\": {\"type\": \"line\", \"color\": \"purple\"}, \"encoding\": {\"x\": {\"type\": \"temporal\", \"field\": \"date\"}, \"y\": {\"type\": \"quantitative\", \"field\": \"sma7d\"}}}]}, {\"mark\": {\"type\": \"rule\", \"color\": \"#aaa\"}, \"encoding\": {\"x\": {\"type\": \"temporal\", \"field\": \"date\"}}, \"transform\": [{\"filter\": {\"selection\": \"selector009\"}}]}, {\"mark\": \"circle\", \"encoding\": {\"opacity\": {\"condition\": {\"value\": 1, \"selection\": \"selector009\"}, \"value\": 0}, \"tooltip\": [{\"type\": \"temporal\", \"field\": \"date\"}, {\"type\": \"quantitative\", \"field\": \"positiveRate\"}, {\"type\": \"quantitative\", \"field\": \"sma7d\"}], \"x\": {\"type\": \"temporal\", \"field\": \"date\"}, \"y\": {\"type\": \"quantitative\", \"field\": \"positiveRate\"}}, \"selection\": {\"selector009\": {\"type\": \"single\", \"encodings\": [\"x\"], \"on\": \"mouseover\", \"nearest\": true, \"empty\": \"none\"}}}, {\"mark\": {\"type\": \"text\", \"align\": \"left\", \"dx\": 5, \"dy\": -5, \"stroke\": \"white\", \"strokeWidth\": 2}, \"encoding\": {\"text\": {\"type\": \"quantitative\", \"field\": \"positiveRate\"}, \"tooltip\": [{\"type\": \"temporal\", \"field\": \"date\"}, {\"type\": \"quantitative\", \"field\": \"positiveRate\"}, {\"type\": \"quantitative\", \"field\": \"sma7d\"}], \"x\": {\"type\": \"temporal\", \"field\": \"date\"}, \"y\": {\"type\": \"quantitative\", \"field\": \"positiveRate\"}}, \"transform\": [{\"filter\": {\"selection\": \"selector009\"}}]}, {\"mark\": {\"type\": \"text\", \"align\": \"left\", \"dx\": 5, \"dy\": -5}, \"encoding\": {\"text\": {\"type\": \"quantitative\", \"field\": \"positiveRate\"}, \"tooltip\": [{\"type\": \"temporal\", \"field\": \"date\"}, {\"type\": \"quantitative\", \"field\": \"positiveRate\"}, {\"type\": \"quantitative\", \"field\": \"sma7d\"}], \"x\": {\"type\": \"temporal\", \"field\": \"date\"}, \"y\": {\"type\": \"quantitative\", \"field\": \"positiveRate\"}}, \"transform\": [{\"filter\": {\"selection\": \"selector009\"}}]}], \"data\": {\"name\": \"data-aa34d251caa71e81de4f3db591be77b3\"}, \"height\": 400, \"title\": \"New York: positiveRate\", \"width\": 500, \"$schema\": \"https://vega.github.io/schema/vega-lite/v4.8.1.json\", \"datasets\": {\"data-aa34d251caa71e81de4f3db591be77b3\": [{\"date\": \"2020-07-23T00:00:00\", \"totalTestResultsIncrease\": 69698.0, \"positiveIncrease\": 811.0, \"death\": 25081.0, \"deathIncrease\": 13.0, \"positiveRate\": 0.012, \"state\": \"New York\", \"sma7d\": 0.011}, {\"date\": \"2020-07-24T00:00:00\", \"totalTestResultsIncrease\": 76507.0, \"positiveIncrease\": 753.0, \"death\": 25090.0, \"deathIncrease\": 9.0, \"positiveRate\": 0.01, \"state\": \"New York\", \"sma7d\": 0.011}, {\"date\": \"2020-07-25T00:00:00\", \"totalTestResultsIncrease\": 71466.0, \"positiveIncrease\": 750.0, \"death\": 25103.0, \"deathIncrease\": 13.0, \"positiveRate\": 0.01, \"state\": \"New York\", \"sma7d\": 0.011}, {\"date\": \"2020-07-26T00:00:00\", \"totalTestResultsIncrease\": 53568.0, \"positiveIncrease\": 536.0, \"death\": 25106.0, \"deathIncrease\": 3.0, \"positiveRate\": 0.01, \"state\": \"New York\", \"sma7d\": 0.011}, {\"date\": \"2020-07-27T00:00:00\", \"totalTestResultsIncrease\": 57270.0, \"positiveIncrease\": 608.0, \"death\": 25117.0, \"deathIncrease\": 11.0, \"positiveRate\": 0.011, \"state\": \"New York\", \"sma7d\": 0.011}, {\"date\": \"2020-07-28T00:00:00\", \"totalTestResultsIncrease\": 57397.0, \"positiveIncrease\": 534.0, \"death\": 25126.0, \"deathIncrease\": 9.0, \"positiveRate\": 0.009, \"state\": \"New York\", \"sma7d\": 0.01}, {\"date\": \"2020-07-29T00:00:00\", \"totalTestResultsIncrease\": 62276.0, \"positiveIncrease\": 715.0, \"death\": 25132.0, \"deathIncrease\": 6.0, \"positiveRate\": 0.011, \"state\": \"New York\", \"sma7d\": 0.01}, {\"date\": \"2020-07-30T00:00:00\", \"totalTestResultsIncrease\": 73546.0, \"positiveIncrease\": 777.0, \"death\": 25145.0, \"deathIncrease\": 13.0, \"positiveRate\": 0.011, \"state\": \"New York\", \"sma7d\": 0.01}, {\"date\": \"2020-07-31T00:00:00\", \"totalTestResultsIncrease\": 68869.0, \"positiveIncrease\": 644.0, \"death\": 25150.0, \"deathIncrease\": 5.0, \"positiveRate\": 0.009, \"state\": \"New York\", \"sma7d\": 0.01}, {\"date\": \"2020-08-01T00:00:00\", \"totalTestResultsIncrease\": 82737.0, \"positiveIncrease\": 753.0, \"death\": 25164.0, \"deathIncrease\": 14.0, \"positiveRate\": 0.009, \"state\": \"New York\", \"sma7d\": 0.01}, {\"date\": \"2020-08-02T00:00:00\", \"totalTestResultsIncrease\": 58961.0, \"positiveIncrease\": 531.0, \"death\": 25170.0, \"deathIncrease\": 6.0, \"positiveRate\": 0.009, \"state\": \"New York\", \"sma7d\": 0.01}, {\"date\": \"2020-08-03T00:00:00\", \"totalTestResultsIncrease\": 51839.0, \"positiveIncrease\": 545.0, \"death\": 25172.0, \"deathIncrease\": 2.0, \"positiveRate\": 0.011, \"state\": \"New York\", \"sma7d\": 0.01}, {\"date\": \"2020-08-04T00:00:00\", \"totalTestResultsIncrease\": 70993.0, \"positiveIncrease\": 746.0, \"death\": 25175.0, \"deathIncrease\": 3.0, \"positiveRate\": 0.011, \"state\": \"New York\", \"sma7d\": 0.01}, {\"date\": \"2020-08-05T00:00:00\", \"totalTestResultsIncrease\": 72668.0, \"positiveIncrease\": 636.0, \"death\": 25179.0, \"deathIncrease\": 4.0, \"positiveRate\": 0.009, \"state\": \"New York\", \"sma7d\": 0.01}, {\"date\": \"2020-08-06T00:00:00\", \"totalTestResultsIncrease\": 72370.0, \"positiveIncrease\": 703.0, \"death\": 25185.0, \"deathIncrease\": 6.0, \"positiveRate\": 0.01, \"state\": \"New York\", \"sma7d\": 0.01}, {\"date\": \"2020-08-07T00:00:00\", \"totalTestResultsIncrease\": 70170.0, \"positiveIncrease\": 714.0, \"death\": 25190.0, \"deathIncrease\": 5.0, \"positiveRate\": 0.01, \"state\": \"New York\", \"sma7d\": 0.01}, {\"date\": \"2020-08-08T00:00:00\", \"totalTestResultsIncrease\": 74857.0, \"positiveIncrease\": 703.0, \"death\": 25195.0, \"deathIncrease\": 5.0, \"positiveRate\": 0.009, \"state\": \"New York\", \"sma7d\": 0.01}, {\"date\": \"2020-08-09T00:00:00\", \"totalTestResultsIncrease\": 65812.0, \"positiveIncrease\": 515.0, \"death\": 25202.0, \"deathIncrease\": 7.0, \"positiveRate\": 0.008, \"state\": \"New York\", \"sma7d\": 0.01}, {\"date\": \"2020-08-10T00:00:00\", \"totalTestResultsIncrease\": 54002.0, \"positiveIncrease\": 476.0, \"death\": 25204.0, \"deathIncrease\": 2.0, \"positiveRate\": 0.009, \"state\": \"New York\", \"sma7d\": 0.009}, {\"date\": \"2020-08-11T00:00:00\", \"totalTestResultsIncrease\": 77059.0, \"positiveIncrease\": 667.0, \"death\": 25211.0, \"deathIncrease\": 7.0, \"positiveRate\": 0.009, \"state\": \"New York\", \"sma7d\": 0.009}, {\"date\": \"2020-08-12T00:00:00\", \"totalTestResultsIncrease\": 87776.0, \"positiveIncrease\": 700.0, \"death\": 25218.0, \"deathIncrease\": 7.0, \"positiveRate\": 0.008, \"state\": \"New York\", \"sma7d\": 0.009}, {\"date\": \"2020-08-13T00:00:00\", \"totalTestResultsIncrease\": 87900.0, \"positiveIncrease\": 737.0, \"death\": 25228.0, \"deathIncrease\": 10.0, \"positiveRate\": 0.008, \"state\": \"New York\", \"sma7d\": 0.009}, {\"date\": \"2020-08-14T00:00:00\", \"totalTestResultsIncrease\": 85455.0, \"positiveIncrease\": 727.0, \"death\": 25232.0, \"deathIncrease\": 4.0, \"positiveRate\": 0.009, \"state\": \"New York\", \"sma7d\": 0.009}, {\"date\": \"2020-08-15T00:00:00\", \"totalTestResultsIncrease\": 88668.0, \"positiveIncrease\": 734.0, \"death\": 25244.0, \"deathIncrease\": 12.0, \"positiveRate\": 0.008, \"state\": \"New York\", \"sma7d\": 0.008}, {\"date\": \"2020-08-16T00:00:00\", \"totalTestResultsIncrease\": 77692.0, \"positiveIncrease\": 607.0, \"death\": 25250.0, \"deathIncrease\": 6.0, \"positiveRate\": 0.008, \"state\": \"New York\", \"sma7d\": 0.008}, {\"date\": \"2020-08-17T00:00:00\", \"totalTestResultsIncrease\": 56891.0, \"positiveIncrease\": 408.0, \"death\": 25256.0, \"deathIncrease\": 6.0, \"positiveRate\": 0.007, \"state\": \"New York\", \"sma7d\": 0.008}, {\"date\": \"2020-08-18T00:00:00\", \"totalTestResultsIncrease\": 66891.0, \"positiveIncrease\": 655.0, \"death\": 25264.0, \"deathIncrease\": 8.0, \"positiveRate\": 0.01, \"state\": \"New York\", \"sma7d\": 0.008}, {\"date\": \"2020-08-19T00:00:00\", \"totalTestResultsIncrease\": 80425.0, \"positiveIncrease\": 631.0, \"death\": 25270.0, \"deathIncrease\": 6.0, \"positiveRate\": 0.008, \"state\": \"New York\", \"sma7d\": 0.008}, {\"date\": \"2020-08-20T00:00:00\", \"totalTestResultsIncrease\": 80984.0, \"positiveIncrease\": 601.0, \"death\": 25275.0, \"deathIncrease\": 5.0, \"positiveRate\": 0.007, \"state\": \"New York\", \"sma7d\": 0.008}, {\"date\": \"2020-08-21T00:00:00\", \"totalTestResultsIncrease\": 98880.0, \"positiveIncrease\": 709.0, \"death\": 25278.0, \"deathIncrease\": 3.0, \"positiveRate\": 0.007, \"state\": \"New York\", \"sma7d\": 0.008}, {\"date\": \"2020-08-22T00:00:00\", \"totalTestResultsIncrease\": 94849.0, \"positiveIncrease\": 653.0, \"death\": 25282.0, \"deathIncrease\": 4.0, \"positiveRate\": 0.007, \"state\": \"New York\", \"sma7d\": 0.008}, {\"date\": \"2020-08-23T00:00:00\", \"totalTestResultsIncrease\": 74043.0, \"positiveIncrease\": 572.0, \"death\": 25288.0, \"deathIncrease\": 6.0, \"positiveRate\": 0.008, \"state\": \"New York\", \"sma7d\": 0.008}, {\"date\": \"2020-08-24T00:00:00\", \"totalTestResultsIncrease\": 62031.0, \"positiveIncrease\": 408.0, \"death\": 25295.0, \"deathIncrease\": 7.0, \"positiveRate\": 0.007, \"state\": \"New York\", \"sma7d\": 0.008}, {\"date\": \"2020-08-25T00:00:00\", \"totalTestResultsIncrease\": 67255.0, \"positiveIncrease\": 629.0, \"death\": 25297.0, \"deathIncrease\": 2.0, \"positiveRate\": 0.009, \"state\": \"New York\", \"sma7d\": 0.008}, {\"date\": \"2020-08-26T00:00:00\", \"totalTestResultsIncrease\": 71189.0, \"positiveIncrease\": 566.0, \"death\": 25305.0, \"deathIncrease\": 8.0, \"positiveRate\": 0.008, \"state\": \"New York\", \"sma7d\": 0.008}, {\"date\": \"2020-08-27T00:00:00\", \"totalTestResultsIncrease\": 83437.0, \"positiveIncrease\": 791.0, \"death\": 25309.0, \"deathIncrease\": 4.0, \"positiveRate\": 0.009, \"state\": \"New York\", \"sma7d\": 0.008}, {\"date\": \"2020-08-28T00:00:00\", \"totalTestResultsIncrease\": 97826.0, \"positiveIncrease\": 636.0, \"death\": 25312.0, \"deathIncrease\": 3.0, \"positiveRate\": 0.007, \"state\": \"New York\", \"sma7d\": 0.008}, {\"date\": \"2020-08-29T00:00:00\", \"totalTestResultsIncrease\": 93873.0, \"positiveIncrease\": 635.0, \"death\": 25319.0, \"deathIncrease\": 7.0, \"positiveRate\": 0.007, \"state\": \"New York\", \"sma7d\": 0.008}, {\"date\": \"2020-08-30T00:00:00\", \"totalTestResultsIncrease\": 100022.0, \"positiveIncrease\": 698.0, \"death\": 25327.0, \"deathIncrease\": 8.0, \"positiveRate\": 0.007, \"state\": \"New York\", \"sma7d\": 0.008}, {\"date\": \"2020-08-31T00:00:00\", \"totalTestResultsIncrease\": 66241.0, \"positiveIncrease\": 656.0, \"death\": 25328.0, \"deathIncrease\": 1.0, \"positiveRate\": 0.01, \"state\": \"New York\", \"sma7d\": 0.008}, {\"date\": \"2020-09-01T00:00:00\", \"totalTestResultsIncrease\": 76997.0, \"positiveIncrease\": 754.0, \"death\": 25331.0, \"deathIncrease\": 3.0, \"positiveRate\": 0.01, \"state\": \"New York\", \"sma7d\": 0.008}, {\"date\": \"2020-09-02T00:00:00\", \"totalTestResultsIncrease\": 88447.0, \"positiveIncrease\": 708.0, \"death\": 25336.0, \"deathIncrease\": 5.0, \"positiveRate\": 0.008, \"state\": \"New York\", \"sma7d\": 0.008}, {\"date\": \"2020-09-03T00:00:00\", \"totalTestResultsIncrease\": 88981.0, \"positiveIncrease\": 889.0, \"death\": 25343.0, \"deathIncrease\": 7.0, \"positiveRate\": 0.01, \"state\": \"New York\", \"sma7d\": 0.008}, {\"date\": \"2020-09-04T00:00:00\", \"totalTestResultsIncrease\": 93395.0, \"positiveIncrease\": 864.0, \"death\": 25348.0, \"deathIncrease\": 5.0, \"positiveRate\": 0.009, \"state\": \"New York\", \"sma7d\": 0.009}, {\"date\": \"2020-09-05T00:00:00\", \"totalTestResultsIncrease\": 99761.0, \"positiveIncrease\": 801.0, \"death\": 25350.0, \"deathIncrease\": 2.0, \"positiveRate\": 0.008, \"state\": \"New York\", \"sma7d\": 0.009}, {\"date\": \"2020-09-06T00:00:00\", \"totalTestResultsIncrease\": 85630.0, \"positiveIncrease\": 729.0, \"death\": 25359.0, \"deathIncrease\": 9.0, \"positiveRate\": 0.009, \"state\": \"New York\", \"sma7d\": 0.009}, {\"date\": \"2020-09-07T00:00:00\", \"totalTestResultsIncrease\": 58865.0, \"positiveIncrease\": 520.0, \"death\": 25361.0, \"deathIncrease\": 2.0, \"positiveRate\": 0.009, \"state\": \"New York\", \"sma7d\": 0.009}, {\"date\": \"2020-09-08T00:00:00\", \"totalTestResultsIncrease\": 57826.0, \"positiveIncrease\": 557.0, \"death\": 25367.0, \"deathIncrease\": 6.0, \"positiveRate\": 0.01, \"state\": \"New York\", \"sma7d\": 0.009}, {\"date\": \"2020-09-09T00:00:00\", \"totalTestResultsIncrease\": 63230.0, \"positiveIncrease\": 576.0, \"death\": 25370.0, \"deathIncrease\": 3.0, \"positiveRate\": 0.009, \"state\": \"New York\", \"sma7d\": 0.009}, {\"date\": \"2020-09-10T00:00:00\", \"totalTestResultsIncrease\": 76813.0, \"positiveIncrease\": 757.0, \"death\": 25377.0, \"deathIncrease\": 7.0, \"positiveRate\": 0.01, \"state\": \"New York\", \"sma7d\": 0.009}, {\"date\": \"2020-09-11T00:00:00\", \"totalTestResultsIncrease\": 89722.0, \"positiveIncrease\": 880.0, \"death\": 25382.0, \"deathIncrease\": 5.0, \"positiveRate\": 0.01, \"state\": \"New York\", \"sma7d\": 0.009}, {\"date\": \"2020-09-12T00:00:00\", \"totalTestResultsIncrease\": 102925.0, \"positiveIncrease\": 849.0, \"death\": 25384.0, \"deathIncrease\": 2.0, \"positiveRate\": 0.008, \"state\": \"New York\", \"sma7d\": 0.009}, {\"date\": \"2020-09-13T00:00:00\", \"totalTestResultsIncrease\": 72668.0, \"positiveIncrease\": 725.0, \"death\": 25390.0, \"deathIncrease\": 6.0, \"positiveRate\": 0.01, \"state\": \"New York\", \"sma7d\": 0.009}, {\"date\": \"2020-09-14T00:00:00\", \"totalTestResultsIncrease\": 63358.0, \"positiveIncrease\": 583.0, \"death\": 25394.0, \"deathIncrease\": 4.0, \"positiveRate\": 0.009, \"state\": \"New York\", \"sma7d\": 0.009}, {\"date\": \"2020-09-15T00:00:00\", \"totalTestResultsIncrease\": 73678.0, \"positiveIncrease\": 766.0, \"death\": 25405.0, \"deathIncrease\": 11.0, \"positiveRate\": 0.01, \"state\": \"New York\", \"sma7d\": 0.009}, {\"date\": \"2020-09-16T00:00:00\", \"totalTestResultsIncrease\": 75087.0, \"positiveIncrease\": 652.0, \"death\": 25410.0, \"deathIncrease\": 5.0, \"positiveRate\": 0.009, \"state\": \"New York\", \"sma7d\": 0.009}]}}, {\"mode\": \"vega-lite\"});\n",
       "</script>"
      ],
      "text/plain": [
       "alt.LayerChart(...)"
      ]
     },
     "execution_count": 12,
     "metadata": {},
     "output_type": "execute_result"
    }
   ],
   "source": [
    "create_plot(ny, 'positiveRate')"
   ]
  },
  {
   "cell_type": "code",
   "execution_count": 13,
   "metadata": {
    "execution": {
     "iopub.execute_input": "2020-09-16T22:33:41.155145Z",
     "iopub.status.busy": "2020-09-16T22:33:41.140482Z",
     "iopub.status.idle": "2020-09-16T22:33:41.223249Z",
     "shell.execute_reply": "2020-09-16T22:33:41.223787Z"
    },
    "papermill": {
     "duration": 0.115706,
     "end_time": "2020-09-16T22:33:41.223956",
     "exception": false,
     "start_time": "2020-09-16T22:33:41.108250",
     "status": "completed"
    },
    "tags": []
   },
   "outputs": [
    {
     "data": {
      "text/html": [
       "\n",
       "<div id=\"altair-viz-261b1bb422e94a7d946269c657d10116\"></div>\n",
       "<script type=\"text/javascript\">\n",
       "  (function(spec, embedOpt){\n",
       "    let outputDiv = document.currentScript.previousElementSibling;\n",
       "    if (outputDiv.id !== \"altair-viz-261b1bb422e94a7d946269c657d10116\") {\n",
       "      outputDiv = document.getElementById(\"altair-viz-261b1bb422e94a7d946269c657d10116\");\n",
       "    }\n",
       "    const paths = {\n",
       "      \"vega\": \"https://cdn.jsdelivr.net/npm//vega@5?noext\",\n",
       "      \"vega-lib\": \"https://cdn.jsdelivr.net/npm//vega-lib?noext\",\n",
       "      \"vega-lite\": \"https://cdn.jsdelivr.net/npm//vega-lite@4.8.1?noext\",\n",
       "      \"vega-embed\": \"https://cdn.jsdelivr.net/npm//vega-embed@6?noext\",\n",
       "    };\n",
       "\n",
       "    function loadScript(lib) {\n",
       "      return new Promise(function(resolve, reject) {\n",
       "        var s = document.createElement('script');\n",
       "        s.src = paths[lib];\n",
       "        s.async = true;\n",
       "        s.onload = () => resolve(paths[lib]);\n",
       "        s.onerror = () => reject(`Error loading script: ${paths[lib]}`);\n",
       "        document.getElementsByTagName(\"head\")[0].appendChild(s);\n",
       "      });\n",
       "    }\n",
       "\n",
       "    function showError(err) {\n",
       "      outputDiv.innerHTML = `<div class=\"error\" style=\"color:red;\">${err}</div>`;\n",
       "      throw err;\n",
       "    }\n",
       "\n",
       "    function displayChart(vegaEmbed) {\n",
       "      vegaEmbed(outputDiv, spec, embedOpt)\n",
       "        .catch(err => showError(`Javascript Error: ${err.message}<br>This usually means there's a typo in your chart specification. See the javascript console for the full traceback.`));\n",
       "    }\n",
       "\n",
       "    if(typeof define === \"function\" && define.amd) {\n",
       "      requirejs.config({paths});\n",
       "      require([\"vega-embed\"], displayChart, err => showError(`Error loading script: ${err.message}`));\n",
       "    } else if (typeof vegaEmbed === \"function\") {\n",
       "      displayChart(vegaEmbed);\n",
       "    } else {\n",
       "      loadScript(\"vega\")\n",
       "        .then(() => loadScript(\"vega-lite\"))\n",
       "        .then(() => loadScript(\"vega-embed\"))\n",
       "        .catch(showError)\n",
       "        .then(() => displayChart(vegaEmbed));\n",
       "    }\n",
       "  })({\"config\": {\"view\": {\"continuousWidth\": 400, \"continuousHeight\": 300}}, \"layer\": [{\"layer\": [{\"mark\": {\"type\": \"point\", \"size\": 75}, \"encoding\": {\"tooltip\": [{\"type\": \"temporal\", \"field\": \"date\"}, {\"type\": \"quantitative\", \"field\": \"deathIncrease\"}, {\"type\": \"quantitative\", \"field\": \"sma7d\"}], \"x\": {\"type\": \"temporal\", \"field\": \"date\"}, \"y\": {\"type\": \"quantitative\", \"field\": \"deathIncrease\"}}, \"selection\": {\"selector012\": {\"type\": \"interval\", \"bind\": \"scales\", \"encodings\": [\"x\", \"y\"]}}}, {\"mark\": {\"type\": \"line\", \"color\": \"purple\"}, \"encoding\": {\"x\": {\"type\": \"temporal\", \"field\": \"date\"}, \"y\": {\"type\": \"quantitative\", \"field\": \"sma7d\"}}}]}, {\"mark\": {\"type\": \"rule\", \"color\": \"#aaa\"}, \"encoding\": {\"x\": {\"type\": \"temporal\", \"field\": \"date\"}}, \"transform\": [{\"filter\": {\"selection\": \"selector011\"}}]}, {\"mark\": \"circle\", \"encoding\": {\"opacity\": {\"condition\": {\"value\": 1, \"selection\": \"selector011\"}, \"value\": 0}, \"tooltip\": [{\"type\": \"temporal\", \"field\": \"date\"}, {\"type\": \"quantitative\", \"field\": \"deathIncrease\"}, {\"type\": \"quantitative\", \"field\": \"sma7d\"}], \"x\": {\"type\": \"temporal\", \"field\": \"date\"}, \"y\": {\"type\": \"quantitative\", \"field\": \"deathIncrease\"}}, \"selection\": {\"selector011\": {\"type\": \"single\", \"encodings\": [\"x\"], \"on\": \"mouseover\", \"nearest\": true, \"empty\": \"none\"}}}, {\"mark\": {\"type\": \"text\", \"align\": \"left\", \"dx\": 5, \"dy\": -5, \"stroke\": \"white\", \"strokeWidth\": 2}, \"encoding\": {\"text\": {\"type\": \"quantitative\", \"field\": \"deathIncrease\"}, \"tooltip\": [{\"type\": \"temporal\", \"field\": \"date\"}, {\"type\": \"quantitative\", \"field\": \"deathIncrease\"}, {\"type\": \"quantitative\", \"field\": \"sma7d\"}], \"x\": {\"type\": \"temporal\", \"field\": \"date\"}, \"y\": {\"type\": \"quantitative\", \"field\": \"deathIncrease\"}}, \"transform\": [{\"filter\": {\"selection\": \"selector011\"}}]}, {\"mark\": {\"type\": \"text\", \"align\": \"left\", \"dx\": 5, \"dy\": -5}, \"encoding\": {\"text\": {\"type\": \"quantitative\", \"field\": \"deathIncrease\"}, \"tooltip\": [{\"type\": \"temporal\", \"field\": \"date\"}, {\"type\": \"quantitative\", \"field\": \"deathIncrease\"}, {\"type\": \"quantitative\", \"field\": \"sma7d\"}], \"x\": {\"type\": \"temporal\", \"field\": \"date\"}, \"y\": {\"type\": \"quantitative\", \"field\": \"deathIncrease\"}}, \"transform\": [{\"filter\": {\"selection\": \"selector011\"}}]}], \"data\": {\"name\": \"data-53c9fa4c1ca4f8f37ce3faac2d0474ff\"}, \"height\": 400, \"title\": \"New York: deathIncrease\", \"width\": 500, \"$schema\": \"https://vega.github.io/schema/vega-lite/v4.8.1.json\", \"datasets\": {\"data-53c9fa4c1ca4f8f37ce3faac2d0474ff\": [{\"date\": \"2020-07-23T00:00:00\", \"totalTestResultsIncrease\": 69698.0, \"positiveIncrease\": 811.0, \"death\": 25081.0, \"deathIncrease\": 13.0, \"positiveRate\": 0.012, \"state\": \"New York\", \"sma7d\": 9.571}, {\"date\": \"2020-07-24T00:00:00\", \"totalTestResultsIncrease\": 76507.0, \"positiveIncrease\": 753.0, \"death\": 25090.0, \"deathIncrease\": 9.0, \"positiveRate\": 0.01, \"state\": \"New York\", \"sma7d\": 9.429}, {\"date\": \"2020-07-25T00:00:00\", \"totalTestResultsIncrease\": 71466.0, \"positiveIncrease\": 750.0, \"death\": 25103.0, \"deathIncrease\": 13.0, \"positiveRate\": 0.01, \"state\": \"New York\", \"sma7d\": 9.714}, {\"date\": \"2020-07-26T00:00:00\", \"totalTestResultsIncrease\": 53568.0, \"positiveIncrease\": 536.0, \"death\": 25106.0, \"deathIncrease\": 3.0, \"positiveRate\": 0.01, \"state\": \"New York\", \"sma7d\": 8.286}, {\"date\": \"2020-07-27T00:00:00\", \"totalTestResultsIncrease\": 57270.0, \"positiveIncrease\": 608.0, \"death\": 25117.0, \"deathIncrease\": 11.0, \"positiveRate\": 0.011, \"state\": \"New York\", \"sma7d\": 8.714}, {\"date\": \"2020-07-28T00:00:00\", \"totalTestResultsIncrease\": 57397.0, \"positiveIncrease\": 534.0, \"death\": 25126.0, \"deathIncrease\": 9.0, \"positiveRate\": 0.009, \"state\": \"New York\", \"sma7d\": 9.714}, {\"date\": \"2020-07-29T00:00:00\", \"totalTestResultsIncrease\": 62276.0, \"positiveIncrease\": 715.0, \"death\": 25132.0, \"deathIncrease\": 6.0, \"positiveRate\": 0.011, \"state\": \"New York\", \"sma7d\": 9.143}, {\"date\": \"2020-07-30T00:00:00\", \"totalTestResultsIncrease\": 73546.0, \"positiveIncrease\": 777.0, \"death\": 25145.0, \"deathIncrease\": 13.0, \"positiveRate\": 0.011, \"state\": \"New York\", \"sma7d\": 9.143}, {\"date\": \"2020-07-31T00:00:00\", \"totalTestResultsIncrease\": 68869.0, \"positiveIncrease\": 644.0, \"death\": 25150.0, \"deathIncrease\": 5.0, \"positiveRate\": 0.009, \"state\": \"New York\", \"sma7d\": 8.571}, {\"date\": \"2020-08-01T00:00:00\", \"totalTestResultsIncrease\": 82737.0, \"positiveIncrease\": 753.0, \"death\": 25164.0, \"deathIncrease\": 14.0, \"positiveRate\": 0.009, \"state\": \"New York\", \"sma7d\": 8.714}, {\"date\": \"2020-08-02T00:00:00\", \"totalTestResultsIncrease\": 58961.0, \"positiveIncrease\": 531.0, \"death\": 25170.0, \"deathIncrease\": 6.0, \"positiveRate\": 0.009, \"state\": \"New York\", \"sma7d\": 9.143}, {\"date\": \"2020-08-03T00:00:00\", \"totalTestResultsIncrease\": 51839.0, \"positiveIncrease\": 545.0, \"death\": 25172.0, \"deathIncrease\": 2.0, \"positiveRate\": 0.011, \"state\": \"New York\", \"sma7d\": 7.857}, {\"date\": \"2020-08-04T00:00:00\", \"totalTestResultsIncrease\": 70993.0, \"positiveIncrease\": 746.0, \"death\": 25175.0, \"deathIncrease\": 3.0, \"positiveRate\": 0.011, \"state\": \"New York\", \"sma7d\": 7.0}, {\"date\": \"2020-08-05T00:00:00\", \"totalTestResultsIncrease\": 72668.0, \"positiveIncrease\": 636.0, \"death\": 25179.0, \"deathIncrease\": 4.0, \"positiveRate\": 0.009, \"state\": \"New York\", \"sma7d\": 6.714}, {\"date\": \"2020-08-06T00:00:00\", \"totalTestResultsIncrease\": 72370.0, \"positiveIncrease\": 703.0, \"death\": 25185.0, \"deathIncrease\": 6.0, \"positiveRate\": 0.01, \"state\": \"New York\", \"sma7d\": 5.714}, {\"date\": \"2020-08-07T00:00:00\", \"totalTestResultsIncrease\": 70170.0, \"positiveIncrease\": 714.0, \"death\": 25190.0, \"deathIncrease\": 5.0, \"positiveRate\": 0.01, \"state\": \"New York\", \"sma7d\": 5.714}, {\"date\": \"2020-08-08T00:00:00\", \"totalTestResultsIncrease\": 74857.0, \"positiveIncrease\": 703.0, \"death\": 25195.0, \"deathIncrease\": 5.0, \"positiveRate\": 0.009, \"state\": \"New York\", \"sma7d\": 4.429}, {\"date\": \"2020-08-09T00:00:00\", \"totalTestResultsIncrease\": 65812.0, \"positiveIncrease\": 515.0, \"death\": 25202.0, \"deathIncrease\": 7.0, \"positiveRate\": 0.008, \"state\": \"New York\", \"sma7d\": 4.571}, {\"date\": \"2020-08-10T00:00:00\", \"totalTestResultsIncrease\": 54002.0, \"positiveIncrease\": 476.0, \"death\": 25204.0, \"deathIncrease\": 2.0, \"positiveRate\": 0.009, \"state\": \"New York\", \"sma7d\": 4.571}, {\"date\": \"2020-08-11T00:00:00\", \"totalTestResultsIncrease\": 77059.0, \"positiveIncrease\": 667.0, \"death\": 25211.0, \"deathIncrease\": 7.0, \"positiveRate\": 0.009, \"state\": \"New York\", \"sma7d\": 5.143}, {\"date\": \"2020-08-12T00:00:00\", \"totalTestResultsIncrease\": 87776.0, \"positiveIncrease\": 700.0, \"death\": 25218.0, \"deathIncrease\": 7.0, \"positiveRate\": 0.008, \"state\": \"New York\", \"sma7d\": 5.571}, {\"date\": \"2020-08-13T00:00:00\", \"totalTestResultsIncrease\": 87900.0, \"positiveIncrease\": 737.0, \"death\": 25228.0, \"deathIncrease\": 10.0, \"positiveRate\": 0.008, \"state\": \"New York\", \"sma7d\": 6.143}, {\"date\": \"2020-08-14T00:00:00\", \"totalTestResultsIncrease\": 85455.0, \"positiveIncrease\": 727.0, \"death\": 25232.0, \"deathIncrease\": 4.0, \"positiveRate\": 0.009, \"state\": \"New York\", \"sma7d\": 6.0}, {\"date\": \"2020-08-15T00:00:00\", \"totalTestResultsIncrease\": 88668.0, \"positiveIncrease\": 734.0, \"death\": 25244.0, \"deathIncrease\": 12.0, \"positiveRate\": 0.008, \"state\": \"New York\", \"sma7d\": 7.0}, {\"date\": \"2020-08-16T00:00:00\", \"totalTestResultsIncrease\": 77692.0, \"positiveIncrease\": 607.0, \"death\": 25250.0, \"deathIncrease\": 6.0, \"positiveRate\": 0.008, \"state\": \"New York\", \"sma7d\": 6.857}, {\"date\": \"2020-08-17T00:00:00\", \"totalTestResultsIncrease\": 56891.0, \"positiveIncrease\": 408.0, \"death\": 25256.0, \"deathIncrease\": 6.0, \"positiveRate\": 0.007, \"state\": \"New York\", \"sma7d\": 7.429}, {\"date\": \"2020-08-18T00:00:00\", \"totalTestResultsIncrease\": 66891.0, \"positiveIncrease\": 655.0, \"death\": 25264.0, \"deathIncrease\": 8.0, \"positiveRate\": 0.01, \"state\": \"New York\", \"sma7d\": 7.571}, {\"date\": \"2020-08-19T00:00:00\", \"totalTestResultsIncrease\": 80425.0, \"positiveIncrease\": 631.0, \"death\": 25270.0, \"deathIncrease\": 6.0, \"positiveRate\": 0.008, \"state\": \"New York\", \"sma7d\": 7.429}, {\"date\": \"2020-08-20T00:00:00\", \"totalTestResultsIncrease\": 80984.0, \"positiveIncrease\": 601.0, \"death\": 25275.0, \"deathIncrease\": 5.0, \"positiveRate\": 0.007, \"state\": \"New York\", \"sma7d\": 6.714}, {\"date\": \"2020-08-21T00:00:00\", \"totalTestResultsIncrease\": 98880.0, \"positiveIncrease\": 709.0, \"death\": 25278.0, \"deathIncrease\": 3.0, \"positiveRate\": 0.007, \"state\": \"New York\", \"sma7d\": 6.571}, {\"date\": \"2020-08-22T00:00:00\", \"totalTestResultsIncrease\": 94849.0, \"positiveIncrease\": 653.0, \"death\": 25282.0, \"deathIncrease\": 4.0, \"positiveRate\": 0.007, \"state\": \"New York\", \"sma7d\": 5.429}, {\"date\": \"2020-08-23T00:00:00\", \"totalTestResultsIncrease\": 74043.0, \"positiveIncrease\": 572.0, \"death\": 25288.0, \"deathIncrease\": 6.0, \"positiveRate\": 0.008, \"state\": \"New York\", \"sma7d\": 5.429}, {\"date\": \"2020-08-24T00:00:00\", \"totalTestResultsIncrease\": 62031.0, \"positiveIncrease\": 408.0, \"death\": 25295.0, \"deathIncrease\": 7.0, \"positiveRate\": 0.007, \"state\": \"New York\", \"sma7d\": 5.571}, {\"date\": \"2020-08-25T00:00:00\", \"totalTestResultsIncrease\": 67255.0, \"positiveIncrease\": 629.0, \"death\": 25297.0, \"deathIncrease\": 2.0, \"positiveRate\": 0.009, \"state\": \"New York\", \"sma7d\": 4.714}, {\"date\": \"2020-08-26T00:00:00\", \"totalTestResultsIncrease\": 71189.0, \"positiveIncrease\": 566.0, \"death\": 25305.0, \"deathIncrease\": 8.0, \"positiveRate\": 0.008, \"state\": \"New York\", \"sma7d\": 5.0}, {\"date\": \"2020-08-27T00:00:00\", \"totalTestResultsIncrease\": 83437.0, \"positiveIncrease\": 791.0, \"death\": 25309.0, \"deathIncrease\": 4.0, \"positiveRate\": 0.009, \"state\": \"New York\", \"sma7d\": 4.857}, {\"date\": \"2020-08-28T00:00:00\", \"totalTestResultsIncrease\": 97826.0, \"positiveIncrease\": 636.0, \"death\": 25312.0, \"deathIncrease\": 3.0, \"positiveRate\": 0.007, \"state\": \"New York\", \"sma7d\": 4.857}, {\"date\": \"2020-08-29T00:00:00\", \"totalTestResultsIncrease\": 93873.0, \"positiveIncrease\": 635.0, \"death\": 25319.0, \"deathIncrease\": 7.0, \"positiveRate\": 0.007, \"state\": \"New York\", \"sma7d\": 5.286}, {\"date\": \"2020-08-30T00:00:00\", \"totalTestResultsIncrease\": 100022.0, \"positiveIncrease\": 698.0, \"death\": 25327.0, \"deathIncrease\": 8.0, \"positiveRate\": 0.007, \"state\": \"New York\", \"sma7d\": 5.571}, {\"date\": \"2020-08-31T00:00:00\", \"totalTestResultsIncrease\": 66241.0, \"positiveIncrease\": 656.0, \"death\": 25328.0, \"deathIncrease\": 1.0, \"positiveRate\": 0.01, \"state\": \"New York\", \"sma7d\": 4.714}, {\"date\": \"2020-09-01T00:00:00\", \"totalTestResultsIncrease\": 76997.0, \"positiveIncrease\": 754.0, \"death\": 25331.0, \"deathIncrease\": 3.0, \"positiveRate\": 0.01, \"state\": \"New York\", \"sma7d\": 4.857}, {\"date\": \"2020-09-02T00:00:00\", \"totalTestResultsIncrease\": 88447.0, \"positiveIncrease\": 708.0, \"death\": 25336.0, \"deathIncrease\": 5.0, \"positiveRate\": 0.008, \"state\": \"New York\", \"sma7d\": 4.429}, {\"date\": \"2020-09-03T00:00:00\", \"totalTestResultsIncrease\": 88981.0, \"positiveIncrease\": 889.0, \"death\": 25343.0, \"deathIncrease\": 7.0, \"positiveRate\": 0.01, \"state\": \"New York\", \"sma7d\": 4.857}, {\"date\": \"2020-09-04T00:00:00\", \"totalTestResultsIncrease\": 93395.0, \"positiveIncrease\": 864.0, \"death\": 25348.0, \"deathIncrease\": 5.0, \"positiveRate\": 0.009, \"state\": \"New York\", \"sma7d\": 5.143}, {\"date\": \"2020-09-05T00:00:00\", \"totalTestResultsIncrease\": 99761.0, \"positiveIncrease\": 801.0, \"death\": 25350.0, \"deathIncrease\": 2.0, \"positiveRate\": 0.008, \"state\": \"New York\", \"sma7d\": 4.429}, {\"date\": \"2020-09-06T00:00:00\", \"totalTestResultsIncrease\": 85630.0, \"positiveIncrease\": 729.0, \"death\": 25359.0, \"deathIncrease\": 9.0, \"positiveRate\": 0.009, \"state\": \"New York\", \"sma7d\": 4.571}, {\"date\": \"2020-09-07T00:00:00\", \"totalTestResultsIncrease\": 58865.0, \"positiveIncrease\": 520.0, \"death\": 25361.0, \"deathIncrease\": 2.0, \"positiveRate\": 0.009, \"state\": \"New York\", \"sma7d\": 4.714}, {\"date\": \"2020-09-08T00:00:00\", \"totalTestResultsIncrease\": 57826.0, \"positiveIncrease\": 557.0, \"death\": 25367.0, \"deathIncrease\": 6.0, \"positiveRate\": 0.01, \"state\": \"New York\", \"sma7d\": 5.143}, {\"date\": \"2020-09-09T00:00:00\", \"totalTestResultsIncrease\": 63230.0, \"positiveIncrease\": 576.0, \"death\": 25370.0, \"deathIncrease\": 3.0, \"positiveRate\": 0.009, \"state\": \"New York\", \"sma7d\": 4.857}, {\"date\": \"2020-09-10T00:00:00\", \"totalTestResultsIncrease\": 76813.0, \"positiveIncrease\": 757.0, \"death\": 25377.0, \"deathIncrease\": 7.0, \"positiveRate\": 0.01, \"state\": \"New York\", \"sma7d\": 4.857}, {\"date\": \"2020-09-11T00:00:00\", \"totalTestResultsIncrease\": 89722.0, \"positiveIncrease\": 880.0, \"death\": 25382.0, \"deathIncrease\": 5.0, \"positiveRate\": 0.01, \"state\": \"New York\", \"sma7d\": 4.857}, {\"date\": \"2020-09-12T00:00:00\", \"totalTestResultsIncrease\": 102925.0, \"positiveIncrease\": 849.0, \"death\": 25384.0, \"deathIncrease\": 2.0, \"positiveRate\": 0.008, \"state\": \"New York\", \"sma7d\": 4.857}, {\"date\": \"2020-09-13T00:00:00\", \"totalTestResultsIncrease\": 72668.0, \"positiveIncrease\": 725.0, \"death\": 25390.0, \"deathIncrease\": 6.0, \"positiveRate\": 0.01, \"state\": \"New York\", \"sma7d\": 4.429}, {\"date\": \"2020-09-14T00:00:00\", \"totalTestResultsIncrease\": 63358.0, \"positiveIncrease\": 583.0, \"death\": 25394.0, \"deathIncrease\": 4.0, \"positiveRate\": 0.009, \"state\": \"New York\", \"sma7d\": 4.714}, {\"date\": \"2020-09-15T00:00:00\", \"totalTestResultsIncrease\": 73678.0, \"positiveIncrease\": 766.0, \"death\": 25405.0, \"deathIncrease\": 11.0, \"positiveRate\": 0.01, \"state\": \"New York\", \"sma7d\": 5.429}, {\"date\": \"2020-09-16T00:00:00\", \"totalTestResultsIncrease\": 75087.0, \"positiveIncrease\": 652.0, \"death\": 25410.0, \"deathIncrease\": 5.0, \"positiveRate\": 0.009, \"state\": \"New York\", \"sma7d\": 5.714}]}}, {\"mode\": \"vega-lite\"});\n",
       "</script>"
      ],
      "text/plain": [
       "alt.LayerChart(...)"
      ]
     },
     "execution_count": 13,
     "metadata": {},
     "output_type": "execute_result"
    }
   ],
   "source": [
    "create_plot(ny, 'deathIncrease')"
   ]
  },
  {
   "cell_type": "markdown",
   "metadata": {
    "papermill": {
     "duration": 0.019339,
     "end_time": "2020-09-16T22:33:41.263971",
     "exception": false,
     "start_time": "2020-09-16T22:33:41.244632",
     "status": "completed"
    },
    "tags": []
   },
   "source": [
    "## Non Tri-State"
   ]
  },
  {
   "cell_type": "code",
   "execution_count": 14,
   "metadata": {
    "execution": {
     "iopub.execute_input": "2020-09-16T22:33:41.307953Z",
     "iopub.status.busy": "2020-09-16T22:33:41.307289Z",
     "iopub.status.idle": "2020-09-16T22:33:41.598437Z",
     "shell.execute_reply": "2020-09-16T22:33:41.597864Z"
    },
    "papermill": {
     "duration": 0.315246,
     "end_time": "2020-09-16T22:33:41.598606",
     "exception": false,
     "start_time": "2020-09-16T22:33:41.283360",
     "status": "completed"
    },
    "tags": []
   },
   "outputs": [],
   "source": [
    "non_tristate = create_df(df, lambda d: ~d['state'].isin(['CT','NJ','NY']), 'Non Tri-State')"
   ]
  },
  {
   "cell_type": "code",
   "execution_count": 15,
   "metadata": {
    "execution": {
     "iopub.execute_input": "2020-09-16T22:33:41.643685Z",
     "iopub.status.busy": "2020-09-16T22:33:41.643019Z",
     "iopub.status.idle": "2020-09-16T22:33:41.744193Z",
     "shell.execute_reply": "2020-09-16T22:33:41.744747Z"
    },
    "papermill": {
     "duration": 0.126386,
     "end_time": "2020-09-16T22:33:41.744922",
     "exception": false,
     "start_time": "2020-09-16T22:33:41.618536",
     "status": "completed"
    },
    "tags": []
   },
   "outputs": [
    {
     "data": {
      "text/html": [
       "\n",
       "<div id=\"altair-viz-5e7739b9cf5d4dd1a9225ca855b819d9\"></div>\n",
       "<script type=\"text/javascript\">\n",
       "  (function(spec, embedOpt){\n",
       "    let outputDiv = document.currentScript.previousElementSibling;\n",
       "    if (outputDiv.id !== \"altair-viz-5e7739b9cf5d4dd1a9225ca855b819d9\") {\n",
       "      outputDiv = document.getElementById(\"altair-viz-5e7739b9cf5d4dd1a9225ca855b819d9\");\n",
       "    }\n",
       "    const paths = {\n",
       "      \"vega\": \"https://cdn.jsdelivr.net/npm//vega@5?noext\",\n",
       "      \"vega-lib\": \"https://cdn.jsdelivr.net/npm//vega-lib?noext\",\n",
       "      \"vega-lite\": \"https://cdn.jsdelivr.net/npm//vega-lite@4.8.1?noext\",\n",
       "      \"vega-embed\": \"https://cdn.jsdelivr.net/npm//vega-embed@6?noext\",\n",
       "    };\n",
       "\n",
       "    function loadScript(lib) {\n",
       "      return new Promise(function(resolve, reject) {\n",
       "        var s = document.createElement('script');\n",
       "        s.src = paths[lib];\n",
       "        s.async = true;\n",
       "        s.onload = () => resolve(paths[lib]);\n",
       "        s.onerror = () => reject(`Error loading script: ${paths[lib]}`);\n",
       "        document.getElementsByTagName(\"head\")[0].appendChild(s);\n",
       "      });\n",
       "    }\n",
       "\n",
       "    function showError(err) {\n",
       "      outputDiv.innerHTML = `<div class=\"error\" style=\"color:red;\">${err}</div>`;\n",
       "      throw err;\n",
       "    }\n",
       "\n",
       "    function displayChart(vegaEmbed) {\n",
       "      vegaEmbed(outputDiv, spec, embedOpt)\n",
       "        .catch(err => showError(`Javascript Error: ${err.message}<br>This usually means there's a typo in your chart specification. See the javascript console for the full traceback.`));\n",
       "    }\n",
       "\n",
       "    if(typeof define === \"function\" && define.amd) {\n",
       "      requirejs.config({paths});\n",
       "      require([\"vega-embed\"], displayChart, err => showError(`Error loading script: ${err.message}`));\n",
       "    } else if (typeof vegaEmbed === \"function\") {\n",
       "      displayChart(vegaEmbed);\n",
       "    } else {\n",
       "      loadScript(\"vega\")\n",
       "        .then(() => loadScript(\"vega-lite\"))\n",
       "        .then(() => loadScript(\"vega-embed\"))\n",
       "        .catch(showError)\n",
       "        .then(() => displayChart(vegaEmbed));\n",
       "    }\n",
       "  })({\"config\": {\"view\": {\"continuousWidth\": 400, \"continuousHeight\": 300}}, \"layer\": [{\"layer\": [{\"mark\": {\"type\": \"point\", \"size\": 75}, \"encoding\": {\"tooltip\": [{\"type\": \"temporal\", \"field\": \"date\"}, {\"type\": \"quantitative\", \"field\": \"positiveIncrease\"}, {\"type\": \"quantitative\", \"field\": \"sma7d\"}], \"x\": {\"type\": \"temporal\", \"field\": \"date\"}, \"y\": {\"type\": \"quantitative\", \"field\": \"positiveIncrease\"}}, \"selection\": {\"selector014\": {\"type\": \"interval\", \"bind\": \"scales\", \"encodings\": [\"x\", \"y\"]}}}, {\"mark\": {\"type\": \"line\", \"color\": \"purple\"}, \"encoding\": {\"x\": {\"type\": \"temporal\", \"field\": \"date\"}, \"y\": {\"type\": \"quantitative\", \"field\": \"sma7d\"}}}]}, {\"mark\": {\"type\": \"rule\", \"color\": \"#aaa\"}, \"encoding\": {\"x\": {\"type\": \"temporal\", \"field\": \"date\"}}, \"transform\": [{\"filter\": {\"selection\": \"selector013\"}}]}, {\"mark\": \"circle\", \"encoding\": {\"opacity\": {\"condition\": {\"value\": 1, \"selection\": \"selector013\"}, \"value\": 0}, \"tooltip\": [{\"type\": \"temporal\", \"field\": \"date\"}, {\"type\": \"quantitative\", \"field\": \"positiveIncrease\"}, {\"type\": \"quantitative\", \"field\": \"sma7d\"}], \"x\": {\"type\": \"temporal\", \"field\": \"date\"}, \"y\": {\"type\": \"quantitative\", \"field\": \"positiveIncrease\"}}, \"selection\": {\"selector013\": {\"type\": \"single\", \"encodings\": [\"x\"], \"on\": \"mouseover\", \"nearest\": true, \"empty\": \"none\"}}}, {\"mark\": {\"type\": \"text\", \"align\": \"left\", \"dx\": 5, \"dy\": -5, \"stroke\": \"white\", \"strokeWidth\": 2}, \"encoding\": {\"text\": {\"type\": \"quantitative\", \"field\": \"positiveIncrease\"}, \"tooltip\": [{\"type\": \"temporal\", \"field\": \"date\"}, {\"type\": \"quantitative\", \"field\": \"positiveIncrease\"}, {\"type\": \"quantitative\", \"field\": \"sma7d\"}], \"x\": {\"type\": \"temporal\", \"field\": \"date\"}, \"y\": {\"type\": \"quantitative\", \"field\": \"positiveIncrease\"}}, \"transform\": [{\"filter\": {\"selection\": \"selector013\"}}]}, {\"mark\": {\"type\": \"text\", \"align\": \"left\", \"dx\": 5, \"dy\": -5}, \"encoding\": {\"text\": {\"type\": \"quantitative\", \"field\": \"positiveIncrease\"}, \"tooltip\": [{\"type\": \"temporal\", \"field\": \"date\"}, {\"type\": \"quantitative\", \"field\": \"positiveIncrease\"}, {\"type\": \"quantitative\", \"field\": \"sma7d\"}], \"x\": {\"type\": \"temporal\", \"field\": \"date\"}, \"y\": {\"type\": \"quantitative\", \"field\": \"positiveIncrease\"}}, \"transform\": [{\"filter\": {\"selection\": \"selector013\"}}]}], \"data\": {\"name\": \"data-d65fcf7cf4d5f3bedc524e3bf0b53f7f\"}, \"height\": 400, \"title\": \"Non Tri-State: positiveIncrease\", \"width\": 500, \"$schema\": \"https://vega.github.io/schema/vega-lite/v4.8.1.json\", \"datasets\": {\"data-d65fcf7cf4d5f3bedc524e3bf0b53f7f\": [{\"date\": \"2020-07-23T00:00:00\", \"totalTestResultsIncrease\": 750660.0, \"positiveIncrease\": 70490.0, \"death\": 91272.0, \"deathIncrease\": 1015.0, \"positiveRate\": 0.094, \"state\": \"Non Tri-State\", \"sma7d\": 65874.143}, {\"date\": \"2020-07-24T00:00:00\", \"totalTestResultsIncrease\": 810393.0, \"positiveIncrease\": 73481.0, \"death\": 92401.0, \"deathIncrease\": 1129.0, \"positiveRate\": 0.091, \"state\": \"Non Tri-State\", \"sma7d\": 65532.429}, {\"date\": \"2020-07-25T00:00:00\", \"totalTestResultsIncrease\": 721462.0, \"positiveIncrease\": 63478.0, \"death\": 93400.0, \"deathIncrease\": 999.0, \"positiveRate\": 0.088, \"state\": \"Non Tri-State\", \"sma7d\": 65467.286}, {\"date\": \"2020-07-26T00:00:00\", \"totalTestResultsIncrease\": 732133.0, \"positiveIncrease\": 59959.0, \"death\": 93944.0, \"deathIncrease\": 544.0, \"positiveRate\": 0.082, \"state\": \"Non Tri-State\", \"sma7d\": 64920.143}, {\"date\": \"2020-07-27T00:00:00\", \"totalTestResultsIncrease\": 656893.0, \"positiveIncrease\": 54068.0, \"death\": 94970.0, \"deathIncrease\": 1026.0, \"positiveRate\": 0.082, \"state\": \"Non Tri-State\", \"sma7d\": 64618.429}, {\"date\": \"2020-07-28T00:00:00\", \"totalTestResultsIncrease\": 690534.0, \"positiveIncrease\": 55337.0, \"death\": 96056.0, \"deathIncrease\": 1086.0, \"positiveRate\": 0.08, \"state\": \"Non Tri-State\", \"sma7d\": 63560.714}, {\"date\": \"2020-07-29T00:00:00\", \"totalTestResultsIncrease\": 739341.0, \"positiveIncrease\": 65314.0, \"death\": 97522.0, \"deathIncrease\": 1466.0, \"positiveRate\": 0.088, \"state\": \"Non Tri-State\", \"sma7d\": 63161.0}, {\"date\": \"2020-07-30T00:00:00\", \"totalTestResultsIncrease\": 724952.0, \"positiveIncrease\": 68307.0, \"death\": 98751.0, \"deathIncrease\": 1229.0, \"positiveRate\": 0.094, \"state\": \"Non Tri-State\", \"sma7d\": 62849.143}, {\"date\": \"2020-07-31T00:00:00\", \"totalTestResultsIncrease\": 616163.0, \"positiveIncrease\": 66149.0, \"death\": 100046.0, \"deathIncrease\": 1295.0, \"positiveRate\": 0.107, \"state\": \"Non Tri-State\", \"sma7d\": 61801.714}, {\"date\": \"2020-08-01T00:00:00\", \"totalTestResultsIncrease\": 664477.0, \"positiveIncrease\": 59979.0, \"death\": 101210.0, \"deathIncrease\": 1164.0, \"positiveRate\": 0.09, \"state\": \"Non Tri-State\", \"sma7d\": 61301.857}, {\"date\": \"2020-08-02T00:00:00\", \"totalTestResultsIncrease\": 589964.0, \"positiveIncrease\": 45960.0, \"death\": 101696.0, \"deathIncrease\": 486.0, \"positiveRate\": 0.078, \"state\": \"Non Tri-State\", \"sma7d\": 59302.0}, {\"date\": \"2020-08-03T00:00:00\", \"totalTestResultsIncrease\": 656034.0, \"positiveIncrease\": 48652.0, \"death\": 102198.0, \"deathIncrease\": 502.0, \"positiveRate\": 0.074, \"state\": \"Non Tri-State\", \"sma7d\": 58528.286}, {\"date\": \"2020-08-04T00:00:00\", \"totalTestResultsIncrease\": 650558.0, \"positiveIncrease\": 50716.0, \"death\": 103439.0, \"deathIncrease\": 1241.0, \"positiveRate\": 0.078, \"state\": \"Non Tri-State\", \"sma7d\": 57868.143}, {\"date\": \"2020-08-05T00:00:00\", \"totalTestResultsIncrease\": 604878.0, \"positiveIncrease\": 51216.0, \"death\": 104774.0, \"deathIncrease\": 1335.0, \"positiveRate\": 0.085, \"state\": \"Non Tri-State\", \"sma7d\": 55854.143}, {\"date\": \"2020-08-06T00:00:00\", \"totalTestResultsIncrease\": 657005.0, \"positiveIncrease\": 53090.0, \"death\": 106012.0, \"deathIncrease\": 1238.0, \"positiveRate\": 0.081, \"state\": \"Non Tri-State\", \"sma7d\": 53680.286}, {\"date\": \"2020-08-07T00:00:00\", \"totalTestResultsIncrease\": 695694.0, \"positiveIncrease\": 60196.0, \"death\": 107325.0, \"deathIncrease\": 1313.0, \"positiveRate\": 0.087, \"state\": \"Non Tri-State\", \"sma7d\": 52829.857}, {\"date\": \"2020-08-08T00:00:00\", \"totalTestResultsIncrease\": 607753.0, \"positiveIncrease\": 52641.0, \"death\": 108400.0, \"deathIncrease\": 1075.0, \"positiveRate\": 0.087, \"state\": \"Non Tri-State\", \"sma7d\": 51781.571}, {\"date\": \"2020-08-09T00:00:00\", \"totalTestResultsIncrease\": 603789.0, \"positiveIncrease\": 49768.0, \"death\": 109004.0, \"deathIncrease\": 604.0, \"positiveRate\": 0.082, \"state\": \"Non Tri-State\", \"sma7d\": 52325.571}, {\"date\": \"2020-08-10T00:00:00\", \"totalTestResultsIncrease\": 633328.0, \"positiveIncrease\": 41108.0, \"death\": 109421.0, \"deathIncrease\": 417.0, \"positiveRate\": 0.065, \"state\": \"Non Tri-State\", \"sma7d\": 51247.857}, {\"date\": \"2020-08-11T00:00:00\", \"totalTestResultsIncrease\": 640093.0, \"positiveIncrease\": 54473.0, \"death\": 110728.0, \"deathIncrease\": 1307.0, \"positiveRate\": 0.085, \"state\": \"Non Tri-State\", \"sma7d\": 51784.571}, {\"date\": \"2020-08-12T00:00:00\", \"totalTestResultsIncrease\": 365958.0, \"positiveIncrease\": 54949.0, \"death\": 112223.0, \"deathIncrease\": 1495.0, \"positiveRate\": 0.15, \"state\": \"Non Tri-State\", \"sma7d\": 52317.857}, {\"date\": \"2020-08-13T00:00:00\", \"totalTestResultsIncrease\": 792973.0, \"positiveIncrease\": 50290.0, \"death\": 113368.0, \"deathIncrease\": 1145.0, \"positiveRate\": 0.063, \"state\": \"Non Tri-State\", \"sma7d\": 51917.857}, {\"date\": \"2020-08-14T00:00:00\", \"totalTestResultsIncrease\": 754496.0, \"positiveIncrease\": 54224.0, \"death\": 114567.0, \"deathIncrease\": 1199.0, \"positiveRate\": 0.072, \"state\": \"Non Tri-State\", \"sma7d\": 51064.714}, {\"date\": \"2020-08-15T00:00:00\", \"totalTestResultsIncrease\": 651497.0, \"positiveIncrease\": 55137.0, \"death\": 115767.0, \"deathIncrease\": 1200.0, \"positiveRate\": 0.085, \"state\": \"Non Tri-State\", \"sma7d\": 51421.286}, {\"date\": \"2020-08-16T00:00:00\", \"totalTestResultsIncrease\": 694369.0, \"positiveIncrease\": 41867.0, \"death\": 116378.0, \"deathIncrease\": 611.0, \"positiveRate\": 0.06, \"state\": \"Non Tri-State\", \"sma7d\": 50292.571}, {\"date\": \"2020-08-17T00:00:00\", \"totalTestResultsIncrease\": 556461.0, \"positiveIncrease\": 36790.0, \"death\": 116772.0, \"deathIncrease\": 394.0, \"positiveRate\": 0.066, \"state\": \"Non Tri-State\", \"sma7d\": 49675.714}, {\"date\": \"2020-08-18T00:00:00\", \"totalTestResultsIncrease\": 570543.0, \"positiveIncrease\": 39821.0, \"death\": 117950.0, \"deathIncrease\": 1178.0, \"positiveRate\": 0.07, \"state\": \"Non Tri-State\", \"sma7d\": 47582.571}, {\"date\": \"2020-08-19T00:00:00\", \"totalTestResultsIncrease\": 570321.0, \"positiveIncrease\": 43936.0, \"death\": 119352.0, \"deathIncrease\": 1402.0, \"positiveRate\": 0.077, \"state\": \"Non Tri-State\", \"sma7d\": 46009.286}, {\"date\": \"2020-08-20T00:00:00\", \"totalTestResultsIncrease\": 599811.0, \"positiveIncrease\": 42939.0, \"death\": 120474.0, \"deathIncrease\": 1122.0, \"positiveRate\": 0.072, \"state\": \"Non Tri-State\", \"sma7d\": 44959.143}, {\"date\": \"2020-08-21T00:00:00\", \"totalTestResultsIncrease\": 641486.0, \"positiveIncrease\": 45475.0, \"death\": 121583.0, \"deathIncrease\": 1109.0, \"positiveRate\": 0.071, \"state\": \"Non Tri-State\", \"sma7d\": 43709.286}, {\"date\": \"2020-08-22T00:00:00\", \"totalTestResultsIncrease\": 655857.0, \"positiveIncrease\": 45164.0, \"death\": 122606.0, \"deathIncrease\": 1023.0, \"positiveRate\": 0.069, \"state\": \"Non Tri-State\", \"sma7d\": 42284.571}, {\"date\": \"2020-08-23T00:00:00\", \"totalTestResultsIncrease\": 557742.0, \"positiveIncrease\": 36736.0, \"death\": 123169.0, \"deathIncrease\": 563.0, \"positiveRate\": 0.066, \"state\": \"Non Tri-State\", \"sma7d\": 41551.571}, {\"date\": \"2020-08-24T00:00:00\", \"totalTestResultsIncrease\": 568868.0, \"positiveIncrease\": 33518.0, \"death\": 123502.0, \"deathIncrease\": 333.0, \"positiveRate\": 0.059, \"state\": \"Non Tri-State\", \"sma7d\": 41084.143}, {\"date\": \"2020-08-25T00:00:00\", \"totalTestResultsIncrease\": 565833.0, \"positiveIncrease\": 35419.0, \"death\": 124640.0, \"deathIncrease\": 1138.0, \"positiveRate\": 0.063, \"state\": \"Non Tri-State\", \"sma7d\": 40455.286}, {\"date\": \"2020-08-26T00:00:00\", \"totalTestResultsIncrease\": 564911.0, \"positiveIncrease\": 43022.0, \"death\": 125920.0, \"deathIncrease\": 1280.0, \"positiveRate\": 0.076, \"state\": \"Non Tri-State\", \"sma7d\": 40324.714}, {\"date\": \"2020-08-27T00:00:00\", \"totalTestResultsIncrease\": 657861.0, \"positiveIncrease\": 42756.0, \"death\": 127036.0, \"deathIncrease\": 1116.0, \"positiveRate\": 0.065, \"state\": \"Non Tri-State\", \"sma7d\": 40298.571}, {\"date\": \"2020-08-28T00:00:00\", \"totalTestResultsIncrease\": 697506.0, \"positiveIncrease\": 45409.0, \"death\": 128047.0, \"deathIncrease\": 1011.0, \"positiveRate\": 0.065, \"state\": \"Non Tri-State\", \"sma7d\": 40289.143}, {\"date\": \"2020-08-29T00:00:00\", \"totalTestResultsIncrease\": 654126.0, \"positiveIncrease\": 43517.0, \"death\": 129052.0, \"deathIncrease\": 1005.0, \"positiveRate\": 0.067, \"state\": \"Non Tri-State\", \"sma7d\": 40053.857}, {\"date\": \"2020-08-30T00:00:00\", \"totalTestResultsIncrease\": 637541.0, \"positiveIncrease\": 38512.0, \"death\": 129515.0, \"deathIncrease\": 463.0, \"positiveRate\": 0.06, \"state\": \"Non Tri-State\", \"sma7d\": 40307.571}, {\"date\": \"2020-08-31T00:00:00\", \"totalTestResultsIncrease\": 565313.0, \"positiveIncrease\": 30017.0, \"death\": 129872.0, \"deathIncrease\": 357.0, \"positiveRate\": 0.053, \"state\": \"Non Tri-State\", \"sma7d\": 39807.429}, {\"date\": \"2020-09-01T00:00:00\", \"totalTestResultsIncrease\": 630941.0, \"positiveIncrease\": 41222.0, \"death\": 130890.0, \"deathIncrease\": 1018.0, \"positiveRate\": 0.065, \"state\": \"Non Tri-State\", \"sma7d\": 40636.429}, {\"date\": \"2020-09-02T00:00:00\", \"totalTestResultsIncrease\": 532717.0, \"positiveIncrease\": 29488.0, \"death\": 131905.0, \"deathIncrease\": 1015.0, \"positiveRate\": 0.055, \"state\": \"Non Tri-State\", \"sma7d\": 38703.0}, {\"date\": \"2020-09-03T00:00:00\", \"totalTestResultsIncrease\": 658929.0, \"positiveIncrease\": 43346.0, \"death\": 132960.0, \"deathIncrease\": 1055.0, \"positiveRate\": 0.066, \"state\": \"Non Tri-State\", \"sma7d\": 38787.286}, {\"date\": \"2020-09-04T00:00:00\", \"totalTestResultsIncrease\": 790958.0, \"positiveIncrease\": 50122.0, \"death\": 133946.0, \"deathIncrease\": 986.0, \"positiveRate\": 0.063, \"state\": \"Non Tri-State\", \"sma7d\": 39460.571}, {\"date\": \"2020-09-05T00:00:00\", \"totalTestResultsIncrease\": 764241.0, \"positiveIncrease\": 43779.0, \"death\": 134855.0, \"deathIncrease\": 909.0, \"positiveRate\": 0.057, \"state\": \"Non Tri-State\", \"sma7d\": 39498.0}, {\"date\": \"2020-09-06T00:00:00\", \"totalTestResultsIncrease\": 650660.0, \"positiveIncrease\": 32077.0, \"death\": 135291.0, \"deathIncrease\": 436.0, \"positiveRate\": 0.049, \"state\": \"Non Tri-State\", \"sma7d\": 38578.714}, {\"date\": \"2020-09-07T00:00:00\", \"totalTestResultsIncrease\": 496932.0, \"positiveIncrease\": 27830.0, \"death\": 135512.0, \"deathIncrease\": 221.0, \"positiveRate\": 0.056, \"state\": \"Non Tri-State\", \"sma7d\": 38266.286}, {\"date\": \"2020-09-08T00:00:00\", \"totalTestResultsIncrease\": 412584.0, \"positiveIncrease\": 20972.0, \"death\": 135853.0, \"deathIncrease\": 341.0, \"positiveRate\": 0.051, \"state\": \"Non Tri-State\", \"sma7d\": 35373.429}, {\"date\": \"2020-09-09T00:00:00\", \"totalTestResultsIncrease\": 535449.0, \"positiveIncrease\": 29995.0, \"death\": 136926.0, \"deathIncrease\": 1073.0, \"positiveRate\": 0.056, \"state\": \"Non Tri-State\", \"sma7d\": 35445.857}, {\"date\": \"2020-09-10T00:00:00\", \"totalTestResultsIncrease\": 547445.0, \"positiveIncrease\": 36178.0, \"death\": 138080.0, \"deathIncrease\": 1154.0, \"positiveRate\": 0.066, \"state\": \"Non Tri-State\", \"sma7d\": 34421.857}, {\"date\": \"2020-09-11T00:00:00\", \"totalTestResultsIncrease\": 676369.0, \"positiveIncrease\": 43340.0, \"death\": 139082.0, \"deathIncrease\": 1002.0, \"positiveRate\": 0.064, \"state\": \"Non Tri-State\", \"sma7d\": 33453.0}, {\"date\": \"2020-09-12T00:00:00\", \"totalTestResultsIncrease\": 812426.0, \"positiveIncrease\": 40789.0, \"death\": 139886.0, \"deathIncrease\": 804.0, \"positiveRate\": 0.05, \"state\": \"Non Tri-State\", \"sma7d\": 33025.857}, {\"date\": \"2020-09-13T00:00:00\", \"totalTestResultsIncrease\": 588764.0, \"positiveIncrease\": 33431.0, \"death\": 140265.0, \"deathIncrease\": 379.0, \"positiveRate\": 0.057, \"state\": \"Non Tri-State\", \"sma7d\": 33219.286}, {\"date\": \"2020-09-14T00:00:00\", \"totalTestResultsIncrease\": 301459.0, \"positiveIncrease\": 32378.0, \"death\": 140656.0, \"deathIncrease\": 391.0, \"positiveRate\": 0.107, \"state\": \"Non Tri-State\", \"sma7d\": 33869.0}, {\"date\": \"2020-09-15T00:00:00\", \"totalTestResultsIncrease\": 614110.0, \"positiveIncrease\": 34107.0, \"death\": 141667.0, \"deathIncrease\": 1011.0, \"positiveRate\": 0.056, \"state\": \"Non Tri-State\", \"sma7d\": 35745.429}, {\"date\": \"2020-09-16T00:00:00\", \"totalTestResultsIncrease\": 621640.0, \"positiveIncrease\": 38846.0, \"death\": 142851.0, \"deathIncrease\": 1184.0, \"positiveRate\": 0.062, \"state\": \"Non Tri-State\", \"sma7d\": 37009.857}]}}, {\"mode\": \"vega-lite\"});\n",
       "</script>"
      ],
      "text/plain": [
       "alt.LayerChart(...)"
      ]
     },
     "execution_count": 15,
     "metadata": {},
     "output_type": "execute_result"
    }
   ],
   "source": [
    "create_plot(non_tristate, 'positiveIncrease')"
   ]
  },
  {
   "cell_type": "code",
   "execution_count": 16,
   "metadata": {
    "execution": {
     "iopub.execute_input": "2020-09-16T22:33:41.790001Z",
     "iopub.status.busy": "2020-09-16T22:33:41.789341Z",
     "iopub.status.idle": "2020-09-16T22:33:41.877724Z",
     "shell.execute_reply": "2020-09-16T22:33:41.878273Z"
    },
    "papermill": {
     "duration": 0.112392,
     "end_time": "2020-09-16T22:33:41.878440",
     "exception": false,
     "start_time": "2020-09-16T22:33:41.766048",
     "status": "completed"
    },
    "tags": []
   },
   "outputs": [
    {
     "data": {
      "text/html": [
       "\n",
       "<div id=\"altair-viz-8b4fa7d23a9a4152965b98a73c8173ca\"></div>\n",
       "<script type=\"text/javascript\">\n",
       "  (function(spec, embedOpt){\n",
       "    let outputDiv = document.currentScript.previousElementSibling;\n",
       "    if (outputDiv.id !== \"altair-viz-8b4fa7d23a9a4152965b98a73c8173ca\") {\n",
       "      outputDiv = document.getElementById(\"altair-viz-8b4fa7d23a9a4152965b98a73c8173ca\");\n",
       "    }\n",
       "    const paths = {\n",
       "      \"vega\": \"https://cdn.jsdelivr.net/npm//vega@5?noext\",\n",
       "      \"vega-lib\": \"https://cdn.jsdelivr.net/npm//vega-lib?noext\",\n",
       "      \"vega-lite\": \"https://cdn.jsdelivr.net/npm//vega-lite@4.8.1?noext\",\n",
       "      \"vega-embed\": \"https://cdn.jsdelivr.net/npm//vega-embed@6?noext\",\n",
       "    };\n",
       "\n",
       "    function loadScript(lib) {\n",
       "      return new Promise(function(resolve, reject) {\n",
       "        var s = document.createElement('script');\n",
       "        s.src = paths[lib];\n",
       "        s.async = true;\n",
       "        s.onload = () => resolve(paths[lib]);\n",
       "        s.onerror = () => reject(`Error loading script: ${paths[lib]}`);\n",
       "        document.getElementsByTagName(\"head\")[0].appendChild(s);\n",
       "      });\n",
       "    }\n",
       "\n",
       "    function showError(err) {\n",
       "      outputDiv.innerHTML = `<div class=\"error\" style=\"color:red;\">${err}</div>`;\n",
       "      throw err;\n",
       "    }\n",
       "\n",
       "    function displayChart(vegaEmbed) {\n",
       "      vegaEmbed(outputDiv, spec, embedOpt)\n",
       "        .catch(err => showError(`Javascript Error: ${err.message}<br>This usually means there's a typo in your chart specification. See the javascript console for the full traceback.`));\n",
       "    }\n",
       "\n",
       "    if(typeof define === \"function\" && define.amd) {\n",
       "      requirejs.config({paths});\n",
       "      require([\"vega-embed\"], displayChart, err => showError(`Error loading script: ${err.message}`));\n",
       "    } else if (typeof vegaEmbed === \"function\") {\n",
       "      displayChart(vegaEmbed);\n",
       "    } else {\n",
       "      loadScript(\"vega\")\n",
       "        .then(() => loadScript(\"vega-lite\"))\n",
       "        .then(() => loadScript(\"vega-embed\"))\n",
       "        .catch(showError)\n",
       "        .then(() => displayChart(vegaEmbed));\n",
       "    }\n",
       "  })({\"config\": {\"view\": {\"continuousWidth\": 400, \"continuousHeight\": 300}}, \"layer\": [{\"layer\": [{\"mark\": {\"type\": \"point\", \"size\": 75}, \"encoding\": {\"tooltip\": [{\"type\": \"temporal\", \"field\": \"date\"}, {\"type\": \"quantitative\", \"field\": \"positiveRate\"}, {\"type\": \"quantitative\", \"field\": \"sma7d\"}], \"x\": {\"type\": \"temporal\", \"field\": \"date\"}, \"y\": {\"type\": \"quantitative\", \"field\": \"positiveRate\"}}, \"selection\": {\"selector016\": {\"type\": \"interval\", \"bind\": \"scales\", \"encodings\": [\"x\", \"y\"]}}}, {\"mark\": {\"type\": \"line\", \"color\": \"purple\"}, \"encoding\": {\"x\": {\"type\": \"temporal\", \"field\": \"date\"}, \"y\": {\"type\": \"quantitative\", \"field\": \"sma7d\"}}}]}, {\"mark\": {\"type\": \"rule\", \"color\": \"#aaa\"}, \"encoding\": {\"x\": {\"type\": \"temporal\", \"field\": \"date\"}}, \"transform\": [{\"filter\": {\"selection\": \"selector015\"}}]}, {\"mark\": \"circle\", \"encoding\": {\"opacity\": {\"condition\": {\"value\": 1, \"selection\": \"selector015\"}, \"value\": 0}, \"tooltip\": [{\"type\": \"temporal\", \"field\": \"date\"}, {\"type\": \"quantitative\", \"field\": \"positiveRate\"}, {\"type\": \"quantitative\", \"field\": \"sma7d\"}], \"x\": {\"type\": \"temporal\", \"field\": \"date\"}, \"y\": {\"type\": \"quantitative\", \"field\": \"positiveRate\"}}, \"selection\": {\"selector015\": {\"type\": \"single\", \"encodings\": [\"x\"], \"on\": \"mouseover\", \"nearest\": true, \"empty\": \"none\"}}}, {\"mark\": {\"type\": \"text\", \"align\": \"left\", \"dx\": 5, \"dy\": -5, \"stroke\": \"white\", \"strokeWidth\": 2}, \"encoding\": {\"text\": {\"type\": \"quantitative\", \"field\": \"positiveRate\"}, \"tooltip\": [{\"type\": \"temporal\", \"field\": \"date\"}, {\"type\": \"quantitative\", \"field\": \"positiveRate\"}, {\"type\": \"quantitative\", \"field\": \"sma7d\"}], \"x\": {\"type\": \"temporal\", \"field\": \"date\"}, \"y\": {\"type\": \"quantitative\", \"field\": \"positiveRate\"}}, \"transform\": [{\"filter\": {\"selection\": \"selector015\"}}]}, {\"mark\": {\"type\": \"text\", \"align\": \"left\", \"dx\": 5, \"dy\": -5}, \"encoding\": {\"text\": {\"type\": \"quantitative\", \"field\": \"positiveRate\"}, \"tooltip\": [{\"type\": \"temporal\", \"field\": \"date\"}, {\"type\": \"quantitative\", \"field\": \"positiveRate\"}, {\"type\": \"quantitative\", \"field\": \"sma7d\"}], \"x\": {\"type\": \"temporal\", \"field\": \"date\"}, \"y\": {\"type\": \"quantitative\", \"field\": \"positiveRate\"}}, \"transform\": [{\"filter\": {\"selection\": \"selector015\"}}]}], \"data\": {\"name\": \"data-e92c9cacc16b5f560c2df0da5ba74610\"}, \"height\": 400, \"title\": \"Non Tri-State: positiveRate\", \"width\": 500, \"$schema\": \"https://vega.github.io/schema/vega-lite/v4.8.1.json\", \"datasets\": {\"data-e92c9cacc16b5f560c2df0da5ba74610\": [{\"date\": \"2020-07-23T00:00:00\", \"totalTestResultsIncrease\": 750660.0, \"positiveIncrease\": 70490.0, \"death\": 91272.0, \"deathIncrease\": 1015.0, \"positiveRate\": 0.094, \"state\": \"Non Tri-State\", \"sma7d\": 0.093}, {\"date\": \"2020-07-24T00:00:00\", \"totalTestResultsIncrease\": 810393.0, \"positiveIncrease\": 73481.0, \"death\": 92401.0, \"deathIncrease\": 1129.0, \"positiveRate\": 0.091, \"state\": \"Non Tri-State\", \"sma7d\": 0.092}, {\"date\": \"2020-07-25T00:00:00\", \"totalTestResultsIncrease\": 721462.0, \"positiveIncrease\": 63478.0, \"death\": 93400.0, \"deathIncrease\": 999.0, \"positiveRate\": 0.088, \"state\": \"Non Tri-State\", \"sma7d\": 0.091}, {\"date\": \"2020-07-26T00:00:00\", \"totalTestResultsIncrease\": 732133.0, \"positiveIncrease\": 59959.0, \"death\": 93944.0, \"deathIncrease\": 544.0, \"positiveRate\": 0.082, \"state\": \"Non Tri-State\", \"sma7d\": 0.09}, {\"date\": \"2020-07-27T00:00:00\", \"totalTestResultsIncrease\": 656893.0, \"positiveIncrease\": 54068.0, \"death\": 94970.0, \"deathIncrease\": 1026.0, \"positiveRate\": 0.082, \"state\": \"Non Tri-State\", \"sma7d\": 0.089}, {\"date\": \"2020-07-28T00:00:00\", \"totalTestResultsIncrease\": 690534.0, \"positiveIncrease\": 55337.0, \"death\": 96056.0, \"deathIncrease\": 1086.0, \"positiveRate\": 0.08, \"state\": \"Non Tri-State\", \"sma7d\": 0.088}, {\"date\": \"2020-07-29T00:00:00\", \"totalTestResultsIncrease\": 739341.0, \"positiveIncrease\": 65314.0, \"death\": 97522.0, \"deathIncrease\": 1466.0, \"positiveRate\": 0.088, \"state\": \"Non Tri-State\", \"sma7d\": 0.086}, {\"date\": \"2020-07-30T00:00:00\", \"totalTestResultsIncrease\": 724952.0, \"positiveIncrease\": 68307.0, \"death\": 98751.0, \"deathIncrease\": 1229.0, \"positiveRate\": 0.094, \"state\": \"Non Tri-State\", \"sma7d\": 0.086}, {\"date\": \"2020-07-31T00:00:00\", \"totalTestResultsIncrease\": 616163.0, \"positiveIncrease\": 66149.0, \"death\": 100046.0, \"deathIncrease\": 1295.0, \"positiveRate\": 0.107, \"state\": \"Non Tri-State\", \"sma7d\": 0.089}, {\"date\": \"2020-08-01T00:00:00\", \"totalTestResultsIncrease\": 664477.0, \"positiveIncrease\": 59979.0, \"death\": 101210.0, \"deathIncrease\": 1164.0, \"positiveRate\": 0.09, \"state\": \"Non Tri-State\", \"sma7d\": 0.089}, {\"date\": \"2020-08-02T00:00:00\", \"totalTestResultsIncrease\": 589964.0, \"positiveIncrease\": 45960.0, \"death\": 101696.0, \"deathIncrease\": 486.0, \"positiveRate\": 0.078, \"state\": \"Non Tri-State\", \"sma7d\": 0.088}, {\"date\": \"2020-08-03T00:00:00\", \"totalTestResultsIncrease\": 656034.0, \"positiveIncrease\": 48652.0, \"death\": 102198.0, \"deathIncrease\": 502.0, \"positiveRate\": 0.074, \"state\": \"Non Tri-State\", \"sma7d\": 0.087}, {\"date\": \"2020-08-04T00:00:00\", \"totalTestResultsIncrease\": 650558.0, \"positiveIncrease\": 50716.0, \"death\": 103439.0, \"deathIncrease\": 1241.0, \"positiveRate\": 0.078, \"state\": \"Non Tri-State\", \"sma7d\": 0.087}, {\"date\": \"2020-08-05T00:00:00\", \"totalTestResultsIncrease\": 604878.0, \"positiveIncrease\": 51216.0, \"death\": 104774.0, \"deathIncrease\": 1335.0, \"positiveRate\": 0.085, \"state\": \"Non Tri-State\", \"sma7d\": 0.087}, {\"date\": \"2020-08-06T00:00:00\", \"totalTestResultsIncrease\": 657005.0, \"positiveIncrease\": 53090.0, \"death\": 106012.0, \"deathIncrease\": 1238.0, \"positiveRate\": 0.081, \"state\": \"Non Tri-State\", \"sma7d\": 0.085}, {\"date\": \"2020-08-07T00:00:00\", \"totalTestResultsIncrease\": 695694.0, \"positiveIncrease\": 60196.0, \"death\": 107325.0, \"deathIncrease\": 1313.0, \"positiveRate\": 0.087, \"state\": \"Non Tri-State\", \"sma7d\": 0.082}, {\"date\": \"2020-08-08T00:00:00\", \"totalTestResultsIncrease\": 607753.0, \"positiveIncrease\": 52641.0, \"death\": 108400.0, \"deathIncrease\": 1075.0, \"positiveRate\": 0.087, \"state\": \"Non Tri-State\", \"sma7d\": 0.081}, {\"date\": \"2020-08-09T00:00:00\", \"totalTestResultsIncrease\": 603789.0, \"positiveIncrease\": 49768.0, \"death\": 109004.0, \"deathIncrease\": 604.0, \"positiveRate\": 0.082, \"state\": \"Non Tri-State\", \"sma7d\": 0.082}, {\"date\": \"2020-08-10T00:00:00\", \"totalTestResultsIncrease\": 633328.0, \"positiveIncrease\": 41108.0, \"death\": 109421.0, \"deathIncrease\": 417.0, \"positiveRate\": 0.065, \"state\": \"Non Tri-State\", \"sma7d\": 0.081}, {\"date\": \"2020-08-11T00:00:00\", \"totalTestResultsIncrease\": 640093.0, \"positiveIncrease\": 54473.0, \"death\": 110728.0, \"deathIncrease\": 1307.0, \"positiveRate\": 0.085, \"state\": \"Non Tri-State\", \"sma7d\": 0.082}, {\"date\": \"2020-08-12T00:00:00\", \"totalTestResultsIncrease\": 365958.0, \"positiveIncrease\": 54949.0, \"death\": 112223.0, \"deathIncrease\": 1495.0, \"positiveRate\": 0.15, \"state\": \"Non Tri-State\", \"sma7d\": 0.091}, {\"date\": \"2020-08-13T00:00:00\", \"totalTestResultsIncrease\": 792973.0, \"positiveIncrease\": 50290.0, \"death\": 113368.0, \"deathIncrease\": 1145.0, \"positiveRate\": 0.063, \"state\": \"Non Tri-State\", \"sma7d\": 0.088}, {\"date\": \"2020-08-14T00:00:00\", \"totalTestResultsIncrease\": 754496.0, \"positiveIncrease\": 54224.0, \"death\": 114567.0, \"deathIncrease\": 1199.0, \"positiveRate\": 0.072, \"state\": \"Non Tri-State\", \"sma7d\": 0.086}, {\"date\": \"2020-08-15T00:00:00\", \"totalTestResultsIncrease\": 651497.0, \"positiveIncrease\": 55137.0, \"death\": 115767.0, \"deathIncrease\": 1200.0, \"positiveRate\": 0.085, \"state\": \"Non Tri-State\", \"sma7d\": 0.086}, {\"date\": \"2020-08-16T00:00:00\", \"totalTestResultsIncrease\": 694369.0, \"positiveIncrease\": 41867.0, \"death\": 116378.0, \"deathIncrease\": 611.0, \"positiveRate\": 0.06, \"state\": \"Non Tri-State\", \"sma7d\": 0.083}, {\"date\": \"2020-08-17T00:00:00\", \"totalTestResultsIncrease\": 556461.0, \"positiveIncrease\": 36790.0, \"death\": 116772.0, \"deathIncrease\": 394.0, \"positiveRate\": 0.066, \"state\": \"Non Tri-State\", \"sma7d\": 0.083}, {\"date\": \"2020-08-18T00:00:00\", \"totalTestResultsIncrease\": 570543.0, \"positiveIncrease\": 39821.0, \"death\": 117950.0, \"deathIncrease\": 1178.0, \"positiveRate\": 0.07, \"state\": \"Non Tri-State\", \"sma7d\": 0.081}, {\"date\": \"2020-08-19T00:00:00\", \"totalTestResultsIncrease\": 570321.0, \"positiveIncrease\": 43936.0, \"death\": 119352.0, \"deathIncrease\": 1402.0, \"positiveRate\": 0.077, \"state\": \"Non Tri-State\", \"sma7d\": 0.07}, {\"date\": \"2020-08-20T00:00:00\", \"totalTestResultsIncrease\": 599811.0, \"positiveIncrease\": 42939.0, \"death\": 120474.0, \"deathIncrease\": 1122.0, \"positiveRate\": 0.072, \"state\": \"Non Tri-State\", \"sma7d\": 0.072}, {\"date\": \"2020-08-21T00:00:00\", \"totalTestResultsIncrease\": 641486.0, \"positiveIncrease\": 45475.0, \"death\": 121583.0, \"deathIncrease\": 1109.0, \"positiveRate\": 0.071, \"state\": \"Non Tri-State\", \"sma7d\": 0.072}, {\"date\": \"2020-08-22T00:00:00\", \"totalTestResultsIncrease\": 655857.0, \"positiveIncrease\": 45164.0, \"death\": 122606.0, \"deathIncrease\": 1023.0, \"positiveRate\": 0.069, \"state\": \"Non Tri-State\", \"sma7d\": 0.069}, {\"date\": \"2020-08-23T00:00:00\", \"totalTestResultsIncrease\": 557742.0, \"positiveIncrease\": 36736.0, \"death\": 123169.0, \"deathIncrease\": 563.0, \"positiveRate\": 0.066, \"state\": \"Non Tri-State\", \"sma7d\": 0.07}, {\"date\": \"2020-08-24T00:00:00\", \"totalTestResultsIncrease\": 568868.0, \"positiveIncrease\": 33518.0, \"death\": 123502.0, \"deathIncrease\": 333.0, \"positiveRate\": 0.059, \"state\": \"Non Tri-State\", \"sma7d\": 0.069}, {\"date\": \"2020-08-25T00:00:00\", \"totalTestResultsIncrease\": 565833.0, \"positiveIncrease\": 35419.0, \"death\": 124640.0, \"deathIncrease\": 1138.0, \"positiveRate\": 0.063, \"state\": \"Non Tri-State\", \"sma7d\": 0.068}, {\"date\": \"2020-08-26T00:00:00\", \"totalTestResultsIncrease\": 564911.0, \"positiveIncrease\": 43022.0, \"death\": 125920.0, \"deathIncrease\": 1280.0, \"positiveRate\": 0.076, \"state\": \"Non Tri-State\", \"sma7d\": 0.068}, {\"date\": \"2020-08-27T00:00:00\", \"totalTestResultsIncrease\": 657861.0, \"positiveIncrease\": 42756.0, \"death\": 127036.0, \"deathIncrease\": 1116.0, \"positiveRate\": 0.065, \"state\": \"Non Tri-State\", \"sma7d\": 0.067}, {\"date\": \"2020-08-28T00:00:00\", \"totalTestResultsIncrease\": 697506.0, \"positiveIncrease\": 45409.0, \"death\": 128047.0, \"deathIncrease\": 1011.0, \"positiveRate\": 0.065, \"state\": \"Non Tri-State\", \"sma7d\": 0.066}, {\"date\": \"2020-08-29T00:00:00\", \"totalTestResultsIncrease\": 654126.0, \"positiveIncrease\": 43517.0, \"death\": 129052.0, \"deathIncrease\": 1005.0, \"positiveRate\": 0.067, \"state\": \"Non Tri-State\", \"sma7d\": 0.066}, {\"date\": \"2020-08-30T00:00:00\", \"totalTestResultsIncrease\": 637541.0, \"positiveIncrease\": 38512.0, \"death\": 129515.0, \"deathIncrease\": 463.0, \"positiveRate\": 0.06, \"state\": \"Non Tri-State\", \"sma7d\": 0.065}, {\"date\": \"2020-08-31T00:00:00\", \"totalTestResultsIncrease\": 565313.0, \"positiveIncrease\": 30017.0, \"death\": 129872.0, \"deathIncrease\": 357.0, \"positiveRate\": 0.053, \"state\": \"Non Tri-State\", \"sma7d\": 0.064}, {\"date\": \"2020-09-01T00:00:00\", \"totalTestResultsIncrease\": 630941.0, \"positiveIncrease\": 41222.0, \"death\": 130890.0, \"deathIncrease\": 1018.0, \"positiveRate\": 0.065, \"state\": \"Non Tri-State\", \"sma7d\": 0.064}, {\"date\": \"2020-09-02T00:00:00\", \"totalTestResultsIncrease\": 532717.0, \"positiveIncrease\": 29488.0, \"death\": 131905.0, \"deathIncrease\": 1015.0, \"positiveRate\": 0.055, \"state\": \"Non Tri-State\", \"sma7d\": 0.061}, {\"date\": \"2020-09-03T00:00:00\", \"totalTestResultsIncrease\": 658929.0, \"positiveIncrease\": 43346.0, \"death\": 132960.0, \"deathIncrease\": 1055.0, \"positiveRate\": 0.066, \"state\": \"Non Tri-State\", \"sma7d\": 0.062}, {\"date\": \"2020-09-04T00:00:00\", \"totalTestResultsIncrease\": 790958.0, \"positiveIncrease\": 50122.0, \"death\": 133946.0, \"deathIncrease\": 986.0, \"positiveRate\": 0.063, \"state\": \"Non Tri-State\", \"sma7d\": 0.061}, {\"date\": \"2020-09-05T00:00:00\", \"totalTestResultsIncrease\": 764241.0, \"positiveIncrease\": 43779.0, \"death\": 134855.0, \"deathIncrease\": 909.0, \"positiveRate\": 0.057, \"state\": \"Non Tri-State\", \"sma7d\": 0.06}, {\"date\": \"2020-09-06T00:00:00\", \"totalTestResultsIncrease\": 650660.0, \"positiveIncrease\": 32077.0, \"death\": 135291.0, \"deathIncrease\": 436.0, \"positiveRate\": 0.049, \"state\": \"Non Tri-State\", \"sma7d\": 0.058}, {\"date\": \"2020-09-07T00:00:00\", \"totalTestResultsIncrease\": 496932.0, \"positiveIncrease\": 27830.0, \"death\": 135512.0, \"deathIncrease\": 221.0, \"positiveRate\": 0.056, \"state\": \"Non Tri-State\", \"sma7d\": 0.059}, {\"date\": \"2020-09-08T00:00:00\", \"totalTestResultsIncrease\": 412584.0, \"positiveIncrease\": 20972.0, \"death\": 135853.0, \"deathIncrease\": 341.0, \"positiveRate\": 0.051, \"state\": \"Non Tri-State\", \"sma7d\": 0.057}, {\"date\": \"2020-09-09T00:00:00\", \"totalTestResultsIncrease\": 535449.0, \"positiveIncrease\": 29995.0, \"death\": 136926.0, \"deathIncrease\": 1073.0, \"positiveRate\": 0.056, \"state\": \"Non Tri-State\", \"sma7d\": 0.057}, {\"date\": \"2020-09-10T00:00:00\", \"totalTestResultsIncrease\": 547445.0, \"positiveIncrease\": 36178.0, \"death\": 138080.0, \"deathIncrease\": 1154.0, \"positiveRate\": 0.066, \"state\": \"Non Tri-State\", \"sma7d\": 0.057}, {\"date\": \"2020-09-11T00:00:00\", \"totalTestResultsIncrease\": 676369.0, \"positiveIncrease\": 43340.0, \"death\": 139082.0, \"deathIncrease\": 1002.0, \"positiveRate\": 0.064, \"state\": \"Non Tri-State\", \"sma7d\": 0.057}, {\"date\": \"2020-09-12T00:00:00\", \"totalTestResultsIncrease\": 812426.0, \"positiveIncrease\": 40789.0, \"death\": 139886.0, \"deathIncrease\": 804.0, \"positiveRate\": 0.05, \"state\": \"Non Tri-State\", \"sma7d\": 0.056}, {\"date\": \"2020-09-13T00:00:00\", \"totalTestResultsIncrease\": 588764.0, \"positiveIncrease\": 33431.0, \"death\": 140265.0, \"deathIncrease\": 379.0, \"positiveRate\": 0.057, \"state\": \"Non Tri-State\", \"sma7d\": 0.057}, {\"date\": \"2020-09-14T00:00:00\", \"totalTestResultsIncrease\": 301459.0, \"positiveIncrease\": 32378.0, \"death\": 140656.0, \"deathIncrease\": 391.0, \"positiveRate\": 0.107, \"state\": \"Non Tri-State\", \"sma7d\": 0.064}, {\"date\": \"2020-09-15T00:00:00\", \"totalTestResultsIncrease\": 614110.0, \"positiveIncrease\": 34107.0, \"death\": 141667.0, \"deathIncrease\": 1011.0, \"positiveRate\": 0.056, \"state\": \"Non Tri-State\", \"sma7d\": 0.065}, {\"date\": \"2020-09-16T00:00:00\", \"totalTestResultsIncrease\": 621640.0, \"positiveIncrease\": 38846.0, \"death\": 142851.0, \"deathIncrease\": 1184.0, \"positiveRate\": 0.062, \"state\": \"Non Tri-State\", \"sma7d\": 0.066}]}}, {\"mode\": \"vega-lite\"});\n",
       "</script>"
      ],
      "text/plain": [
       "alt.LayerChart(...)"
      ]
     },
     "execution_count": 16,
     "metadata": {},
     "output_type": "execute_result"
    }
   ],
   "source": [
    "create_plot(non_tristate, 'positiveRate')"
   ]
  },
  {
   "cell_type": "code",
   "execution_count": 17,
   "metadata": {
    "execution": {
     "iopub.execute_input": "2020-09-16T22:33:41.925142Z",
     "iopub.status.busy": "2020-09-16T22:33:41.924455Z",
     "iopub.status.idle": "2020-09-16T22:33:42.013738Z",
     "shell.execute_reply": "2020-09-16T22:33:42.014283Z"
    },
    "papermill": {
     "duration": 0.114842,
     "end_time": "2020-09-16T22:33:42.014438",
     "exception": false,
     "start_time": "2020-09-16T22:33:41.899596",
     "status": "completed"
    },
    "tags": []
   },
   "outputs": [
    {
     "data": {
      "text/html": [
       "\n",
       "<div id=\"altair-viz-39cbe7a5966447ea9889cb6804a0cf7d\"></div>\n",
       "<script type=\"text/javascript\">\n",
       "  (function(spec, embedOpt){\n",
       "    let outputDiv = document.currentScript.previousElementSibling;\n",
       "    if (outputDiv.id !== \"altair-viz-39cbe7a5966447ea9889cb6804a0cf7d\") {\n",
       "      outputDiv = document.getElementById(\"altair-viz-39cbe7a5966447ea9889cb6804a0cf7d\");\n",
       "    }\n",
       "    const paths = {\n",
       "      \"vega\": \"https://cdn.jsdelivr.net/npm//vega@5?noext\",\n",
       "      \"vega-lib\": \"https://cdn.jsdelivr.net/npm//vega-lib?noext\",\n",
       "      \"vega-lite\": \"https://cdn.jsdelivr.net/npm//vega-lite@4.8.1?noext\",\n",
       "      \"vega-embed\": \"https://cdn.jsdelivr.net/npm//vega-embed@6?noext\",\n",
       "    };\n",
       "\n",
       "    function loadScript(lib) {\n",
       "      return new Promise(function(resolve, reject) {\n",
       "        var s = document.createElement('script');\n",
       "        s.src = paths[lib];\n",
       "        s.async = true;\n",
       "        s.onload = () => resolve(paths[lib]);\n",
       "        s.onerror = () => reject(`Error loading script: ${paths[lib]}`);\n",
       "        document.getElementsByTagName(\"head\")[0].appendChild(s);\n",
       "      });\n",
       "    }\n",
       "\n",
       "    function showError(err) {\n",
       "      outputDiv.innerHTML = `<div class=\"error\" style=\"color:red;\">${err}</div>`;\n",
       "      throw err;\n",
       "    }\n",
       "\n",
       "    function displayChart(vegaEmbed) {\n",
       "      vegaEmbed(outputDiv, spec, embedOpt)\n",
       "        .catch(err => showError(`Javascript Error: ${err.message}<br>This usually means there's a typo in your chart specification. See the javascript console for the full traceback.`));\n",
       "    }\n",
       "\n",
       "    if(typeof define === \"function\" && define.amd) {\n",
       "      requirejs.config({paths});\n",
       "      require([\"vega-embed\"], displayChart, err => showError(`Error loading script: ${err.message}`));\n",
       "    } else if (typeof vegaEmbed === \"function\") {\n",
       "      displayChart(vegaEmbed);\n",
       "    } else {\n",
       "      loadScript(\"vega\")\n",
       "        .then(() => loadScript(\"vega-lite\"))\n",
       "        .then(() => loadScript(\"vega-embed\"))\n",
       "        .catch(showError)\n",
       "        .then(() => displayChart(vegaEmbed));\n",
       "    }\n",
       "  })({\"config\": {\"view\": {\"continuousWidth\": 400, \"continuousHeight\": 300}}, \"layer\": [{\"layer\": [{\"mark\": {\"type\": \"point\", \"size\": 75}, \"encoding\": {\"tooltip\": [{\"type\": \"temporal\", \"field\": \"date\"}, {\"type\": \"quantitative\", \"field\": \"deathIncrease\"}, {\"type\": \"quantitative\", \"field\": \"sma7d\"}], \"x\": {\"type\": \"temporal\", \"field\": \"date\"}, \"y\": {\"type\": \"quantitative\", \"field\": \"deathIncrease\"}}, \"selection\": {\"selector018\": {\"type\": \"interval\", \"bind\": \"scales\", \"encodings\": [\"x\", \"y\"]}}}, {\"mark\": {\"type\": \"line\", \"color\": \"purple\"}, \"encoding\": {\"x\": {\"type\": \"temporal\", \"field\": \"date\"}, \"y\": {\"type\": \"quantitative\", \"field\": \"sma7d\"}}}]}, {\"mark\": {\"type\": \"rule\", \"color\": \"#aaa\"}, \"encoding\": {\"x\": {\"type\": \"temporal\", \"field\": \"date\"}}, \"transform\": [{\"filter\": {\"selection\": \"selector017\"}}]}, {\"mark\": \"circle\", \"encoding\": {\"opacity\": {\"condition\": {\"value\": 1, \"selection\": \"selector017\"}, \"value\": 0}, \"tooltip\": [{\"type\": \"temporal\", \"field\": \"date\"}, {\"type\": \"quantitative\", \"field\": \"deathIncrease\"}, {\"type\": \"quantitative\", \"field\": \"sma7d\"}], \"x\": {\"type\": \"temporal\", \"field\": \"date\"}, \"y\": {\"type\": \"quantitative\", \"field\": \"deathIncrease\"}}, \"selection\": {\"selector017\": {\"type\": \"single\", \"encodings\": [\"x\"], \"on\": \"mouseover\", \"nearest\": true, \"empty\": \"none\"}}}, {\"mark\": {\"type\": \"text\", \"align\": \"left\", \"dx\": 5, \"dy\": -5, \"stroke\": \"white\", \"strokeWidth\": 2}, \"encoding\": {\"text\": {\"type\": \"quantitative\", \"field\": \"deathIncrease\"}, \"tooltip\": [{\"type\": \"temporal\", \"field\": \"date\"}, {\"type\": \"quantitative\", \"field\": \"deathIncrease\"}, {\"type\": \"quantitative\", \"field\": \"sma7d\"}], \"x\": {\"type\": \"temporal\", \"field\": \"date\"}, \"y\": {\"type\": \"quantitative\", \"field\": \"deathIncrease\"}}, \"transform\": [{\"filter\": {\"selection\": \"selector017\"}}]}, {\"mark\": {\"type\": \"text\", \"align\": \"left\", \"dx\": 5, \"dy\": -5}, \"encoding\": {\"text\": {\"type\": \"quantitative\", \"field\": \"deathIncrease\"}, \"tooltip\": [{\"type\": \"temporal\", \"field\": \"date\"}, {\"type\": \"quantitative\", \"field\": \"deathIncrease\"}, {\"type\": \"quantitative\", \"field\": \"sma7d\"}], \"x\": {\"type\": \"temporal\", \"field\": \"date\"}, \"y\": {\"type\": \"quantitative\", \"field\": \"deathIncrease\"}}, \"transform\": [{\"filter\": {\"selection\": \"selector017\"}}]}], \"data\": {\"name\": \"data-eb89bf3405f699e2cfef8cffa89e6068\"}, \"height\": 400, \"title\": \"Non Tri-State: deathIncrease\", \"width\": 500, \"$schema\": \"https://vega.github.io/schema/vega-lite/v4.8.1.json\", \"datasets\": {\"data-eb89bf3405f699e2cfef8cffa89e6068\": [{\"date\": \"2020-07-23T00:00:00\", \"totalTestResultsIncrease\": 750660.0, \"positiveIncrease\": 70490.0, \"death\": 91272.0, \"deathIncrease\": 1015.0, \"positiveRate\": 0.094, \"state\": \"Non Tri-State\", \"sma7d\": 824.0}, {\"date\": \"2020-07-24T00:00:00\", \"totalTestResultsIncrease\": 810393.0, \"positiveIncrease\": 73481.0, \"death\": 92401.0, \"deathIncrease\": 1129.0, \"positiveRate\": 0.091, \"state\": \"Non Tri-State\", \"sma7d\": 854.571}, {\"date\": \"2020-07-25T00:00:00\", \"totalTestResultsIncrease\": 721462.0, \"positiveIncrease\": 63478.0, \"death\": 93400.0, \"deathIncrease\": 999.0, \"positiveRate\": 0.088, \"state\": \"Non Tri-State\", \"sma7d\": 876.429}, {\"date\": \"2020-07-26T00:00:00\", \"totalTestResultsIncrease\": 732133.0, \"positiveIncrease\": 59959.0, \"death\": 93944.0, \"deathIncrease\": 544.0, \"positiveRate\": 0.082, \"state\": \"Non Tri-State\", \"sma7d\": 881.857}, {\"date\": \"2020-07-27T00:00:00\", \"totalTestResultsIncrease\": 656893.0, \"positiveIncrease\": 54068.0, \"death\": 94970.0, \"deathIncrease\": 1026.0, \"positiveRate\": 0.082, \"state\": \"Non Tri-State\", \"sma7d\": 980.571}, {\"date\": \"2020-07-28T00:00:00\", \"totalTestResultsIncrease\": 690534.0, \"positiveIncrease\": 55337.0, \"death\": 96056.0, \"deathIncrease\": 1086.0, \"positiveRate\": 0.08, \"state\": \"Non Tri-State\", \"sma7d\": 990.857}, {\"date\": \"2020-07-29T00:00:00\", \"totalTestResultsIncrease\": 739341.0, \"positiveIncrease\": 65314.0, \"death\": 97522.0, \"deathIncrease\": 1466.0, \"positiveRate\": 0.088, \"state\": \"Non Tri-State\", \"sma7d\": 1037.857}, {\"date\": \"2020-07-30T00:00:00\", \"totalTestResultsIncrease\": 724952.0, \"positiveIncrease\": 68307.0, \"death\": 98751.0, \"deathIncrease\": 1229.0, \"positiveRate\": 0.094, \"state\": \"Non Tri-State\", \"sma7d\": 1068.429}, {\"date\": \"2020-07-31T00:00:00\", \"totalTestResultsIncrease\": 616163.0, \"positiveIncrease\": 66149.0, \"death\": 100046.0, \"deathIncrease\": 1295.0, \"positiveRate\": 0.107, \"state\": \"Non Tri-State\", \"sma7d\": 1092.143}, {\"date\": \"2020-08-01T00:00:00\", \"totalTestResultsIncrease\": 664477.0, \"positiveIncrease\": 59979.0, \"death\": 101210.0, \"deathIncrease\": 1164.0, \"positiveRate\": 0.09, \"state\": \"Non Tri-State\", \"sma7d\": 1115.714}, {\"date\": \"2020-08-02T00:00:00\", \"totalTestResultsIncrease\": 589964.0, \"positiveIncrease\": 45960.0, \"death\": 101696.0, \"deathIncrease\": 486.0, \"positiveRate\": 0.078, \"state\": \"Non Tri-State\", \"sma7d\": 1107.429}, {\"date\": \"2020-08-03T00:00:00\", \"totalTestResultsIncrease\": 656034.0, \"positiveIncrease\": 48652.0, \"death\": 102198.0, \"deathIncrease\": 502.0, \"positiveRate\": 0.074, \"state\": \"Non Tri-State\", \"sma7d\": 1032.571}, {\"date\": \"2020-08-04T00:00:00\", \"totalTestResultsIncrease\": 650558.0, \"positiveIncrease\": 50716.0, \"death\": 103439.0, \"deathIncrease\": 1241.0, \"positiveRate\": 0.078, \"state\": \"Non Tri-State\", \"sma7d\": 1054.714}, {\"date\": \"2020-08-05T00:00:00\", \"totalTestResultsIncrease\": 604878.0, \"positiveIncrease\": 51216.0, \"death\": 104774.0, \"deathIncrease\": 1335.0, \"positiveRate\": 0.085, \"state\": \"Non Tri-State\", \"sma7d\": 1036.0}, {\"date\": \"2020-08-06T00:00:00\", \"totalTestResultsIncrease\": 657005.0, \"positiveIncrease\": 53090.0, \"death\": 106012.0, \"deathIncrease\": 1238.0, \"positiveRate\": 0.081, \"state\": \"Non Tri-State\", \"sma7d\": 1037.286}, {\"date\": \"2020-08-07T00:00:00\", \"totalTestResultsIncrease\": 695694.0, \"positiveIncrease\": 60196.0, \"death\": 107325.0, \"deathIncrease\": 1313.0, \"positiveRate\": 0.087, \"state\": \"Non Tri-State\", \"sma7d\": 1039.857}, {\"date\": \"2020-08-08T00:00:00\", \"totalTestResultsIncrease\": 607753.0, \"positiveIncrease\": 52641.0, \"death\": 108400.0, \"deathIncrease\": 1075.0, \"positiveRate\": 0.087, \"state\": \"Non Tri-State\", \"sma7d\": 1027.143}, {\"date\": \"2020-08-09T00:00:00\", \"totalTestResultsIncrease\": 603789.0, \"positiveIncrease\": 49768.0, \"death\": 109004.0, \"deathIncrease\": 604.0, \"positiveRate\": 0.082, \"state\": \"Non Tri-State\", \"sma7d\": 1044.0}, {\"date\": \"2020-08-10T00:00:00\", \"totalTestResultsIncrease\": 633328.0, \"positiveIncrease\": 41108.0, \"death\": 109421.0, \"deathIncrease\": 417.0, \"positiveRate\": 0.065, \"state\": \"Non Tri-State\", \"sma7d\": 1031.857}, {\"date\": \"2020-08-11T00:00:00\", \"totalTestResultsIncrease\": 640093.0, \"positiveIncrease\": 54473.0, \"death\": 110728.0, \"deathIncrease\": 1307.0, \"positiveRate\": 0.085, \"state\": \"Non Tri-State\", \"sma7d\": 1041.286}, {\"date\": \"2020-08-12T00:00:00\", \"totalTestResultsIncrease\": 365958.0, \"positiveIncrease\": 54949.0, \"death\": 112223.0, \"deathIncrease\": 1495.0, \"positiveRate\": 0.15, \"state\": \"Non Tri-State\", \"sma7d\": 1064.143}, {\"date\": \"2020-08-13T00:00:00\", \"totalTestResultsIncrease\": 792973.0, \"positiveIncrease\": 50290.0, \"death\": 113368.0, \"deathIncrease\": 1145.0, \"positiveRate\": 0.063, \"state\": \"Non Tri-State\", \"sma7d\": 1050.857}, {\"date\": \"2020-08-14T00:00:00\", \"totalTestResultsIncrease\": 754496.0, \"positiveIncrease\": 54224.0, \"death\": 114567.0, \"deathIncrease\": 1199.0, \"positiveRate\": 0.072, \"state\": \"Non Tri-State\", \"sma7d\": 1034.571}, {\"date\": \"2020-08-15T00:00:00\", \"totalTestResultsIncrease\": 651497.0, \"positiveIncrease\": 55137.0, \"death\": 115767.0, \"deathIncrease\": 1200.0, \"positiveRate\": 0.085, \"state\": \"Non Tri-State\", \"sma7d\": 1052.429}, {\"date\": \"2020-08-16T00:00:00\", \"totalTestResultsIncrease\": 694369.0, \"positiveIncrease\": 41867.0, \"death\": 116378.0, \"deathIncrease\": 611.0, \"positiveRate\": 0.06, \"state\": \"Non Tri-State\", \"sma7d\": 1053.429}, {\"date\": \"2020-08-17T00:00:00\", \"totalTestResultsIncrease\": 556461.0, \"positiveIncrease\": 36790.0, \"death\": 116772.0, \"deathIncrease\": 394.0, \"positiveRate\": 0.066, \"state\": \"Non Tri-State\", \"sma7d\": 1050.143}, {\"date\": \"2020-08-18T00:00:00\", \"totalTestResultsIncrease\": 570543.0, \"positiveIncrease\": 39821.0, \"death\": 117950.0, \"deathIncrease\": 1178.0, \"positiveRate\": 0.07, \"state\": \"Non Tri-State\", \"sma7d\": 1031.714}, {\"date\": \"2020-08-19T00:00:00\", \"totalTestResultsIncrease\": 570321.0, \"positiveIncrease\": 43936.0, \"death\": 119352.0, \"deathIncrease\": 1402.0, \"positiveRate\": 0.077, \"state\": \"Non Tri-State\", \"sma7d\": 1018.429}, {\"date\": \"2020-08-20T00:00:00\", \"totalTestResultsIncrease\": 599811.0, \"positiveIncrease\": 42939.0, \"death\": 120474.0, \"deathIncrease\": 1122.0, \"positiveRate\": 0.072, \"state\": \"Non Tri-State\", \"sma7d\": 1015.143}, {\"date\": \"2020-08-21T00:00:00\", \"totalTestResultsIncrease\": 641486.0, \"positiveIncrease\": 45475.0, \"death\": 121583.0, \"deathIncrease\": 1109.0, \"positiveRate\": 0.071, \"state\": \"Non Tri-State\", \"sma7d\": 1002.286}, {\"date\": \"2020-08-22T00:00:00\", \"totalTestResultsIncrease\": 655857.0, \"positiveIncrease\": 45164.0, \"death\": 122606.0, \"deathIncrease\": 1023.0, \"positiveRate\": 0.069, \"state\": \"Non Tri-State\", \"sma7d\": 977.0}, {\"date\": \"2020-08-23T00:00:00\", \"totalTestResultsIncrease\": 557742.0, \"positiveIncrease\": 36736.0, \"death\": 123169.0, \"deathIncrease\": 563.0, \"positiveRate\": 0.066, \"state\": \"Non Tri-State\", \"sma7d\": 970.143}, {\"date\": \"2020-08-24T00:00:00\", \"totalTestResultsIncrease\": 568868.0, \"positiveIncrease\": 33518.0, \"death\": 123502.0, \"deathIncrease\": 333.0, \"positiveRate\": 0.059, \"state\": \"Non Tri-State\", \"sma7d\": 961.429}, {\"date\": \"2020-08-25T00:00:00\", \"totalTestResultsIncrease\": 565833.0, \"positiveIncrease\": 35419.0, \"death\": 124640.0, \"deathIncrease\": 1138.0, \"positiveRate\": 0.063, \"state\": \"Non Tri-State\", \"sma7d\": 955.714}, {\"date\": \"2020-08-26T00:00:00\", \"totalTestResultsIncrease\": 564911.0, \"positiveIncrease\": 43022.0, \"death\": 125920.0, \"deathIncrease\": 1280.0, \"positiveRate\": 0.076, \"state\": \"Non Tri-State\", \"sma7d\": 938.286}, {\"date\": \"2020-08-27T00:00:00\", \"totalTestResultsIncrease\": 657861.0, \"positiveIncrease\": 42756.0, \"death\": 127036.0, \"deathIncrease\": 1116.0, \"positiveRate\": 0.065, \"state\": \"Non Tri-State\", \"sma7d\": 937.429}, {\"date\": \"2020-08-28T00:00:00\", \"totalTestResultsIncrease\": 697506.0, \"positiveIncrease\": 45409.0, \"death\": 128047.0, \"deathIncrease\": 1011.0, \"positiveRate\": 0.065, \"state\": \"Non Tri-State\", \"sma7d\": 923.429}, {\"date\": \"2020-08-29T00:00:00\", \"totalTestResultsIncrease\": 654126.0, \"positiveIncrease\": 43517.0, \"death\": 129052.0, \"deathIncrease\": 1005.0, \"positiveRate\": 0.067, \"state\": \"Non Tri-State\", \"sma7d\": 920.857}, {\"date\": \"2020-08-30T00:00:00\", \"totalTestResultsIncrease\": 637541.0, \"positiveIncrease\": 38512.0, \"death\": 129515.0, \"deathIncrease\": 463.0, \"positiveRate\": 0.06, \"state\": \"Non Tri-State\", \"sma7d\": 906.571}, {\"date\": \"2020-08-31T00:00:00\", \"totalTestResultsIncrease\": 565313.0, \"positiveIncrease\": 30017.0, \"death\": 129872.0, \"deathIncrease\": 357.0, \"positiveRate\": 0.053, \"state\": \"Non Tri-State\", \"sma7d\": 910.0}, {\"date\": \"2020-09-01T00:00:00\", \"totalTestResultsIncrease\": 630941.0, \"positiveIncrease\": 41222.0, \"death\": 130890.0, \"deathIncrease\": 1018.0, \"positiveRate\": 0.065, \"state\": \"Non Tri-State\", \"sma7d\": 892.857}, {\"date\": \"2020-09-02T00:00:00\", \"totalTestResultsIncrease\": 532717.0, \"positiveIncrease\": 29488.0, \"death\": 131905.0, \"deathIncrease\": 1015.0, \"positiveRate\": 0.055, \"state\": \"Non Tri-State\", \"sma7d\": 855.0}, {\"date\": \"2020-09-03T00:00:00\", \"totalTestResultsIncrease\": 658929.0, \"positiveIncrease\": 43346.0, \"death\": 132960.0, \"deathIncrease\": 1055.0, \"positiveRate\": 0.066, \"state\": \"Non Tri-State\", \"sma7d\": 846.286}, {\"date\": \"2020-09-04T00:00:00\", \"totalTestResultsIncrease\": 790958.0, \"positiveIncrease\": 50122.0, \"death\": 133946.0, \"deathIncrease\": 986.0, \"positiveRate\": 0.063, \"state\": \"Non Tri-State\", \"sma7d\": 842.714}, {\"date\": \"2020-09-05T00:00:00\", \"totalTestResultsIncrease\": 764241.0, \"positiveIncrease\": 43779.0, \"death\": 134855.0, \"deathIncrease\": 909.0, \"positiveRate\": 0.057, \"state\": \"Non Tri-State\", \"sma7d\": 829.0}, {\"date\": \"2020-09-06T00:00:00\", \"totalTestResultsIncrease\": 650660.0, \"positiveIncrease\": 32077.0, \"death\": 135291.0, \"deathIncrease\": 436.0, \"positiveRate\": 0.049, \"state\": \"Non Tri-State\", \"sma7d\": 825.143}, {\"date\": \"2020-09-07T00:00:00\", \"totalTestResultsIncrease\": 496932.0, \"positiveIncrease\": 27830.0, \"death\": 135512.0, \"deathIncrease\": 221.0, \"positiveRate\": 0.056, \"state\": \"Non Tri-State\", \"sma7d\": 805.714}, {\"date\": \"2020-09-08T00:00:00\", \"totalTestResultsIncrease\": 412584.0, \"positiveIncrease\": 20972.0, \"death\": 135853.0, \"deathIncrease\": 341.0, \"positiveRate\": 0.051, \"state\": \"Non Tri-State\", \"sma7d\": 709.0}, {\"date\": \"2020-09-09T00:00:00\", \"totalTestResultsIncrease\": 535449.0, \"positiveIncrease\": 29995.0, \"death\": 136926.0, \"deathIncrease\": 1073.0, \"positiveRate\": 0.056, \"state\": \"Non Tri-State\", \"sma7d\": 717.286}, {\"date\": \"2020-09-10T00:00:00\", \"totalTestResultsIncrease\": 547445.0, \"positiveIncrease\": 36178.0, \"death\": 138080.0, \"deathIncrease\": 1154.0, \"positiveRate\": 0.066, \"state\": \"Non Tri-State\", \"sma7d\": 731.429}, {\"date\": \"2020-09-11T00:00:00\", \"totalTestResultsIncrease\": 676369.0, \"positiveIncrease\": 43340.0, \"death\": 139082.0, \"deathIncrease\": 1002.0, \"positiveRate\": 0.064, \"state\": \"Non Tri-State\", \"sma7d\": 733.714}, {\"date\": \"2020-09-12T00:00:00\", \"totalTestResultsIncrease\": 812426.0, \"positiveIncrease\": 40789.0, \"death\": 139886.0, \"deathIncrease\": 804.0, \"positiveRate\": 0.05, \"state\": \"Non Tri-State\", \"sma7d\": 718.714}, {\"date\": \"2020-09-13T00:00:00\", \"totalTestResultsIncrease\": 588764.0, \"positiveIncrease\": 33431.0, \"death\": 140265.0, \"deathIncrease\": 379.0, \"positiveRate\": 0.057, \"state\": \"Non Tri-State\", \"sma7d\": 710.571}, {\"date\": \"2020-09-14T00:00:00\", \"totalTestResultsIncrease\": 301459.0, \"positiveIncrease\": 32378.0, \"death\": 140656.0, \"deathIncrease\": 391.0, \"positiveRate\": 0.107, \"state\": \"Non Tri-State\", \"sma7d\": 734.857}, {\"date\": \"2020-09-15T00:00:00\", \"totalTestResultsIncrease\": 614110.0, \"positiveIncrease\": 34107.0, \"death\": 141667.0, \"deathIncrease\": 1011.0, \"positiveRate\": 0.056, \"state\": \"Non Tri-State\", \"sma7d\": 830.571}, {\"date\": \"2020-09-16T00:00:00\", \"totalTestResultsIncrease\": 621640.0, \"positiveIncrease\": 38846.0, \"death\": 142851.0, \"deathIncrease\": 1184.0, \"positiveRate\": 0.062, \"state\": \"Non Tri-State\", \"sma7d\": 846.429}]}}, {\"mode\": \"vega-lite\"});\n",
       "</script>"
      ],
      "text/plain": [
       "alt.LayerChart(...)"
      ]
     },
     "execution_count": 17,
     "metadata": {},
     "output_type": "execute_result"
    }
   ],
   "source": [
    "create_plot(non_tristate, 'deathIncrease')"
   ]
  }
 ],
 "metadata": {
  "kernelspec": {
   "display_name": "Python 3",
   "language": "python",
   "name": "python3"
  },
  "language_info": {
   "codemirror_mode": {
    "name": "ipython",
    "version": 3
   },
   "file_extension": ".py",
   "mimetype": "text/x-python",
   "name": "python",
   "nbconvert_exporter": "python",
   "pygments_lexer": "ipython3",
   "version": "3.8.5"
  },
  "papermill": {
   "duration": 6.761549,
   "end_time": "2020-09-16T22:33:42.343393",
   "environment_variables": {},
   "exception": null,
   "input_path": "2020-07-19-covid-plots.ipynb",
   "output_path": "2020-07-19-covid-plots.ipynb",
   "parameters": {},
   "start_time": "2020-09-16T22:33:35.581844",
   "version": "2.1.2"
  }
 },
 "nbformat": 4,
 "nbformat_minor": 4
}